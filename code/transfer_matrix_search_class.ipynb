{
 "cells": [
  {
   "cell_type": "markdown",
   "id": "11ad4e8b-d50f-42de-8bb4-24169d068d6f",
   "metadata": {},
   "source": [
    "# Transfer matrix search class\n",
    "\n",
    "Created 31/05/2024\n",
    "\n",
    "Objectives:\n",
    "* Implement an initial class for transfer matrix search optimization, to eventually be ported off to a .py file.\n",
    "* Just for qubit sites for now."
   ]
  },
  {
   "cell_type": "markdown",
   "id": "3e8c9477-503c-46db-86ff-da67e9caf2ab",
   "metadata": {},
   "source": [
    "# Package imports"
   ]
  },
  {
   "cell_type": "code",
   "execution_count": 85,
   "id": "e84cda8d-ac7a-42ce-9dd7-9c693e73238c",
   "metadata": {},
   "outputs": [],
   "source": [
    "from functools import reduce\n",
    "\n",
    "import numpy as np\n",
    "import pandas as pd"
   ]
  },
  {
   "cell_type": "code",
   "execution_count": 2,
   "id": "d274a41f-2d63-426c-9740-7c00d9e87d6d",
   "metadata": {},
   "outputs": [],
   "source": [
    "import h5py\n",
    "from tenpy.tools import hdf5_io\n",
    "import tenpy\n",
    "import tenpy.linalg.np_conserved as npc\n",
    "\n",
    "import os"
   ]
  },
  {
   "cell_type": "code",
   "execution_count": 3,
   "id": "eda65e71-dd0d-43ed-a635-6f131afb97cb",
   "metadata": {},
   "outputs": [],
   "source": [
    "from spt_classification import (\n",
    "    get_transfer_matrix_from_unitary,\n",
    "    get_transfer_matrices_from_unitary_list,\n",
    "    multiply_transfer_matrices,\n",
    "    to_npc_array\n",
    ")\n",
    "\n",
    "from super_fibonacci import super_fibonacci"
   ]
  },
  {
   "cell_type": "code",
   "execution_count": 4,
   "id": "513d7288-c641-4071-a4a3-652787d1f98c",
   "metadata": {},
   "outputs": [],
   "source": [
    "np_I = np.array([[1,0],[0,1]])\n",
    "np_X = np.array([[0,1],[1,0]])\n",
    "np_Y = np.array([[0,-1j],[1j,0]])\n",
    "np_Z = np.array([[1,0],[0,-1]])"
   ]
  },
  {
   "cell_type": "code",
   "execution_count": 5,
   "id": "bb4ff50d-8df4-4e23-be1d-4c775bf97fb9",
   "metadata": {},
   "outputs": [],
   "source": [
    "base_unitaries = np.array([np_I, 1j*np_X, 1j*np_Y, 1j*np_Z])"
   ]
  },
  {
   "cell_type": "code",
   "execution_count": 6,
   "id": "9cb25270-b13b-4a6d-96ec-8c7bfc1bd546",
   "metadata": {},
   "outputs": [],
   "source": [
    "def s3_to_unitary(p):\n",
    "    X = p[0]*np_I + 1j*(p[1]*np_X + p[2]*np_Y + p[3]*np_Z)\n",
    "    return X"
   ]
  },
  {
   "cell_type": "code",
   "execution_count": 7,
   "id": "815a8ada-7332-4b17-bc1d-2f02990b5835",
   "metadata": {},
   "outputs": [],
   "source": [
    "def operator_norm(m):\n",
    "    singular_values = np.linalg.svd(m).S\n",
    "    singular_values_counts = Counter(np.round(singular_values, 3))\n",
    "\n",
    "    norm = max(singular_values_counts.keys())\n",
    "    count = singular_values_counts[norm]\n",
    "\n",
    "    return (norm, count)"
   ]
  },
  {
   "cell_type": "code",
   "execution_count": 8,
   "id": "c3a47a0a-1964-42f1-8766-ede13a14c543",
   "metadata": {},
   "outputs": [],
   "source": [
    "def get_left_environment(psi, index):\n",
    "    left_leg = psi.get_B(index).legs[0]\n",
    "    SL = npc.diag(psi.get_SL(index), left_leg, labels = ['vL', 'vR'])\n",
    "    left_environment = (\n",
    "        npc.tensordot(SL, SL.conj(), (['vL',], ['vL*',]))\n",
    "        .combine_legs([['vR', 'vR*'],])\n",
    "        .to_ndarray()\n",
    "    )\n",
    "\n",
    "    return left_environment"
   ]
  },
  {
   "cell_type": "code",
   "execution_count": 9,
   "id": "3ccd313b-e30e-4234-b473-220f47ebb6fe",
   "metadata": {},
   "outputs": [],
   "source": [
    "class TransferMatrixSearch:\n",
    "    def __init__(self, psi, symmetry_operations, index=None,\n",
    "                 max_num_virtual_points=10000, num_search_points=1000):\n",
    "        self.psi = psi\n",
    "        self.symmetry_operations = symmetry_operations\n",
    "\n",
    "        if index is None:\n",
    "            self.left_symmetry_index = (self.psi.L - len(self.symmetry_operations))//2 \n",
    "        else:\n",
    "            self.left_symmetry_index = index\n",
    "        self.right_symmetry_index = self.left_symmetry_index + len(self.symmetry_operations) - 1\n",
    "\n",
    "        self.symmetry_transfer_matrices = (\n",
    "            get_transfer_matrices_from_unitary_list(\n",
    "                self.psi,\n",
    "                self.symmetry_operations,\n",
    "                self.left_symmetry_index\n",
    "            )\n",
    "        )\n",
    "\n",
    "        self.npc_symmetry_transfer_matrix = reduce(\n",
    "            multiply_transfer_matrices,\n",
    "            self.symmetry_transfer_matrices\n",
    "        )\n",
    "\n",
    "        self.np_symmetry_transfer_matrix = (\n",
    "            self.npc_symmetry_transfer_matrix\n",
    "            .combine_legs([['vL', 'vL*'], ['vR', 'vR*']])\n",
    "            .to_ndarray()\n",
    "        )\n",
    "\n",
    "        U, S, Vh = np.linalg.svd(self.np_symmetry_transfer_matrix)\n",
    "        assert S[0]/np.sum(S) > 0.9999\n",
    "\n",
    "        self.left_projected_symmetry_state = U[:,0]\n",
    "        self.right_projected_symmetry_state = Vh[0]\n",
    "        self.symmetry_transfer_matrix_op_norm = S[0]\n",
    "\n",
    "        self.right_virtual_points = list()\n",
    "        self.left_virtual_points = list()\n",
    "        self.right_s3_points = list()\n",
    "        self.left_s3_points = list()\n",
    "        self.right_ovelraps = list()\n",
    "        self.left_overlaps = list()\n",
    "\n",
    "        self.right_max_overlap = 0\n",
    "        self.left_max_overlap = 0\n",
    "        self.max_overlap = 0\n",
    "\n",
    "        self.right_max_s3_points = None\n",
    "        self.left_max_s3_points = None\n",
    "\n",
    "        self.max_num_virtual_points = max_num_virtual_points\n",
    "        self.num_search_points = num_search_points\n",
    "\n",
    "        s3_points = super_fibonacci(2*num_search_points)\n",
    "        self.s3_search_points = s3_points[s3_points[:, 0] >=  0]\n",
    "        self.num_s3_search_points = len(self.s3_search_points)\n",
    "\n",
    "        self.current_right_depth = 0\n",
    "        self.current_left_depth = 0\n",
    "\n",
    "    def update_max_overlap(self):\n",
    "        self.max_overlap = (\n",
    "            self.symmetry_transfer_matrix_op_norm\n",
    "            *self.right_max_overlap\n",
    "            *self.left_max_overlap\n",
    "        )\n",
    "\n",
    "    def search_step_right(self):\n",
    "        previous_depth = self.current_right_depth\n",
    "        self.current_right_depth += 1\n",
    "\n",
    "        site_index = self.right_symmetry_index + self.current_right_depth\n",
    "\n",
    "        bond_dimension = self.psi.chi[site_index]\n",
    "\n",
    "        right_environment = np.identity(bond_dimension).reshape((bond_dimension**2,))\n",
    "        \n",
    "        base_transfer_matrices = np.array([\n",
    "            get_transfer_matrix_from_unitary(self.psi, u, site_index)\n",
    "            .combine_legs([['vL', 'vL*'], ['vR', 'vR*']])\n",
    "            .to_ndarray()\n",
    "            for u in base_unitaries\n",
    "        ])\n",
    "\n",
    "        if self.current_right_depth == 1:\n",
    "            previous_points = self.right_projected_symmetry_state[np.newaxis, :]\n",
    "        elif self.current_right_depth > 1:\n",
    "            previous_points = self.right_virtual_points[previous_depth-1]\n",
    "\n",
    "        base_vectors = np.matmul(previous_points, base_transfer_matrices)\n",
    "        base_overlaps = np.dot(base_vectors, right_environment)\n",
    "\n",
    "        overlaps = np.abs(np.tensordot(self.s3_search_points, base_overlaps, [[1,], [0,]]))\n",
    "        target_percentile = 100.0*(1.0 - min(1, self.max_num_virtual_points/(overlaps.size)))\n",
    "        overlap_threshold = np.percentile(overlaps, target_percentile)\n",
    "\n",
    "        overlaps_filter = (overlaps > overlap_threshold)\n",
    "\n",
    "        all_next_points = np.tensordot(\n",
    "            self.s3_search_points,\n",
    "            base_vectors,\n",
    "            [[1,], [0,]]\n",
    "        )\n",
    "\n",
    "        if self.current_right_depth == 1:\n",
    "            assert previous_points.shape[0] == 1\n",
    "            all_next_s3_points = self.s3_search_points[:, np.newaxis, np.newaxis, :]\n",
    "        elif self.current_right_depth > 1:\n",
    "            prev_s3_points = self.right_s3_points[previous_depth-1]\n",
    "            prev_num_s3_points = prev_s3_points.shape[0]\n",
    "\n",
    "            all_next_s3_points = np.zeros(\n",
    "                (\n",
    "                    self.num_s3_search_points,\n",
    "                    prev_num_s3_points,\n",
    "                    self.current_right_depth,\n",
    "                    4\n",
    "                )\n",
    "            )\n",
    "\n",
    "            all_next_s3_points[:, :, :-1, :] = prev_s3_points[np.newaxis, ...]\n",
    "            all_next_s3_points[:, :, -1, :] = self.s3_search_points[:, np.newaxis, :]\n",
    "\n",
    "        filtered_next_points = np.reshape(\n",
    "            all_next_points[overlaps_filter],\n",
    "            (-1, bond_dimension**2)\n",
    "        )\n",
    "        filtered_next_s3_points = np.reshape(\n",
    "            all_next_s3_points[overlaps_filter],\n",
    "            (-1, self.current_right_depth, 4)\n",
    "        )\n",
    "        filtered_overlaps = overlaps[overlaps_filter].flatten()\n",
    "\n",
    "        self.right_virtual_points.append(filtered_next_points)\n",
    "        self.right_s3_points.append(filtered_next_s3_points)\n",
    "        self.right_ovelraps.append(filtered_overlaps)\n",
    "\n",
    "        max_overlap = np.max(filtered_overlaps)\n",
    "        if max_overlap > self.right_max_overlap:\n",
    "            self.right_max_overlap = max_overlap\n",
    "            max_arg = np.argmax(filtered_overlaps)\n",
    "            self.right_max_s3_points = filtered_next_s3_points[max_arg]\n",
    "            self.update_max_overlap()\n",
    "\n",
    "    def search_step_left(self):\n",
    "        previous_depth = self.current_left_depth\n",
    "        self.current_left_depth += 1\n",
    "\n",
    "        site_index = self.left_symmetry_index - self.current_left_depth\n",
    "\n",
    "        bond_dimension = self.psi.chi[site_index]\n",
    "\n",
    "        left_environment = get_left_environment(self.psi, site_index)\n",
    "        \n",
    "        base_transfer_matrices = np.array([\n",
    "            get_transfer_matrix_from_unitary(self.psi, u, site_index)\n",
    "            .combine_legs([['vL', 'vL*'], ['vR', 'vR*']])\n",
    "            .to_ndarray()\n",
    "            for u in base_unitaries\n",
    "        ])\n",
    "\n",
    "        if self.current_left_depth == 1:\n",
    "            previous_points = self.left_projected_symmetry_state[np.newaxis, :]\n",
    "        elif self.current_left_depth > 1:\n",
    "            previous_points = self.left_virtual_points[previous_depth-1]\n",
    "\n",
    "        base_vectors = np.tensordot(\n",
    "            previous_points,\n",
    "            base_transfer_matrices,\n",
    "            [[-1,], [2,]]\n",
    "        )\n",
    "        base_overlaps = np.dot(base_vectors, left_environment)\n",
    "\n",
    "        overlaps = np.abs(np.tensordot(self.s3_search_points, base_overlaps, [[1,], [1,]]))\n",
    "        target_percentile = 100.0*(1.0 - min(1, self.max_num_virtual_points/(overlaps.size)))\n",
    "        overlap_threshold = np.percentile(overlaps, target_percentile)\n",
    "\n",
    "        overlaps_filter = (overlaps > overlap_threshold)\n",
    "\n",
    "        all_next_points = np.tensordot(\n",
    "            self.s3_search_points,\n",
    "            base_vectors,\n",
    "            [[1,], [1,]]\n",
    "        )\n",
    "\n",
    "        if self.current_left_depth == 1:\n",
    "            assert previous_points.shape[0] == 1\n",
    "            all_next_s3_points = self.s3_search_points[:, np.newaxis, np.newaxis, :]\n",
    "        elif self.current_left_depth > 1:\n",
    "            prev_s3_points = self.left_s3_points[previous_depth-1]\n",
    "            prev_num_s3_points = prev_s3_points.shape[0]\n",
    "\n",
    "            all_next_s3_points = np.zeros(\n",
    "                (\n",
    "                    self.num_s3_search_points,\n",
    "                    prev_num_s3_points,\n",
    "                    self.current_left_depth,\n",
    "                    4\n",
    "                )\n",
    "            )\n",
    "            \n",
    "            all_next_s3_points[:, :, :-1, :] = prev_s3_points[np.newaxis, ...]\n",
    "            all_next_s3_points[:, :, -1, :] = self.s3_search_points[:, np.newaxis, :]\n",
    "\n",
    "        filtered_next_points = np.reshape(\n",
    "            all_next_points[overlaps_filter],\n",
    "            (-1, bond_dimension**2)\n",
    "        )\n",
    "        filtered_next_s3_points = np.reshape(\n",
    "            all_next_s3_points[overlaps_filter],\n",
    "            (-1, self.current_left_depth, 4)\n",
    "        )\n",
    "        filtered_overlaps = overlaps[overlaps_filter].flatten()\n",
    "\n",
    "        self.left_virtual_points.append(filtered_next_points)\n",
    "        self.left_s3_points.append(filtered_next_s3_points)\n",
    "        self.left_overlaps.append(filtered_overlaps)\n",
    "\n",
    "        max_overlap = np.max(filtered_overlaps)\n",
    "        if max_overlap > self.left_max_overlap:\n",
    "            self.left_max_overlap = max_overlap\n",
    "            max_arg = np.argmax(filtered_overlaps)\n",
    "            self.left_max_s3_points = filtered_next_s3_points[max_arg]\n",
    "            self.update_max_overlap()"
   ]
  },
  {
   "cell_type": "markdown",
   "id": "c7746a52-8aa3-4476-954b-13ee8a9feb81",
   "metadata": {},
   "source": [
    "# Load data"
   ]
  },
  {
   "cell_type": "code",
   "execution_count": 10,
   "id": "f30ea89c-0990-4d96-ac11-5621b991e9a8",
   "metadata": {},
   "outputs": [],
   "source": [
    "DATA_DIR = r\"data/transverse_cluster_200_site_dmrg\""
   ]
  },
  {
   "cell_type": "code",
   "execution_count": 11,
   "id": "3492fa95-c060-4f2c-895b-6d97215a466d",
   "metadata": {},
   "outputs": [],
   "source": [
    "loaded_data = list()\n",
    "\n",
    "for local_file_name in os.listdir(DATA_DIR):\n",
    "    f_name = r\"{}/{}\".format(DATA_DIR, local_file_name, ignore_unknown=False)\n",
    "    with h5py.File(f_name, 'r') as f:\n",
    "        data = hdf5_io.load_from_hdf5(f)\n",
    "        loaded_data.append(data)"
   ]
  },
  {
   "cell_type": "code",
   "execution_count": 12,
   "id": "c237db90-7b83-4771-b34c-d433e15b342e",
   "metadata": {},
   "outputs": [],
   "source": [
    "b_parameters = sorted(list(d['paramters']['B'] for d in loaded_data))"
   ]
  },
  {
   "cell_type": "code",
   "execution_count": 13,
   "id": "0a4626cf-44b6-4d6c-9ee3-a431a721f231",
   "metadata": {},
   "outputs": [],
   "source": [
    "psi_dict = dict()"
   ]
  },
  {
   "cell_type": "code",
   "execution_count": 14,
   "id": "f1050f22-41b9-492c-829b-5b38bb8982b2",
   "metadata": {},
   "outputs": [],
   "source": [
    "for b in b_parameters:\n",
    "    psi = next(\n",
    "        d['wavefunction']\n",
    "        for d in loaded_data\n",
    "        if d['paramters']['B'] == b\n",
    "    )\n",
    "\n",
    "    rounded_b = round(b, 1)\n",
    "    psi_dict[rounded_b] = psi"
   ]
  },
  {
   "cell_type": "code",
   "execution_count": 15,
   "id": "7464ceea-c8de-4ee6-8e56-8eb08e4e8d08",
   "metadata": {},
   "outputs": [
    {
     "data": {
      "text/plain": [
       "[0.0,\n",
       " 0.1,\n",
       " 0.2,\n",
       " 0.3,\n",
       " 0.4,\n",
       " 0.5,\n",
       " 0.6,\n",
       " 0.7,\n",
       " 0.8,\n",
       " 0.9,\n",
       " 1.0,\n",
       " 1.1,\n",
       " 1.2,\n",
       " 1.3,\n",
       " 1.4,\n",
       " 1.5,\n",
       " 1.6,\n",
       " 1.7,\n",
       " 1.8,\n",
       " 1.9,\n",
       " 2.0]"
      ]
     },
     "execution_count": 15,
     "metadata": {},
     "output_type": "execute_result"
    }
   ],
   "source": [
    "list(psi_dict)"
   ]
  },
  {
   "cell_type": "code",
   "execution_count": 16,
   "id": "90ee2943-e138-408c-b872-d0bd333697f6",
   "metadata": {},
   "outputs": [],
   "source": [
    "test_psi = psi_dict[0.5]"
   ]
  },
  {
   "cell_type": "markdown",
   "id": "189a88d8-1a0c-4df4-9577-7d8d3966d2c8",
   "metadata": {},
   "source": [
    "# Testing"
   ]
  },
  {
   "cell_type": "code",
   "execution_count": 62,
   "id": "3db41d28-9f87-4233-92bc-fe2340be1527",
   "metadata": {},
   "outputs": [],
   "source": [
    "test_search = TransferMatrixSearch(test_psi, [np_X, np_I]*30)"
   ]
  },
  {
   "cell_type": "code",
   "execution_count": 63,
   "id": "aca11858-7a34-4d26-98bd-bc4b9eef13be",
   "metadata": {},
   "outputs": [
    {
     "data": {
      "text/plain": [
       "0"
      ]
     },
     "execution_count": 63,
     "metadata": {},
     "output_type": "execute_result"
    }
   ],
   "source": [
    "test_search.current_right_depth"
   ]
  },
  {
   "cell_type": "code",
   "execution_count": 64,
   "id": "6fde2ff8-da7a-4c7f-afa8-c78394173c61",
   "metadata": {},
   "outputs": [],
   "source": [
    "test_search.search_step_right()"
   ]
  },
  {
   "cell_type": "code",
   "execution_count": 65,
   "id": "e7e80c43-37da-4967-a69e-ad752dd1b8fc",
   "metadata": {},
   "outputs": [
    {
     "data": {
      "text/plain": [
       "1"
      ]
     },
     "execution_count": 65,
     "metadata": {},
     "output_type": "execute_result"
    }
   ],
   "source": [
    "test_search.current_right_depth"
   ]
  },
  {
   "cell_type": "code",
   "execution_count": 66,
   "id": "867554a9-d160-4ec8-8444-1d9203f7a3af",
   "metadata": {},
   "outputs": [
    {
     "data": {
      "text/plain": [
       "(1002, 64)"
      ]
     },
     "execution_count": 66,
     "metadata": {},
     "output_type": "execute_result"
    }
   ],
   "source": [
    "test_search.right_virtual_points[0].shape"
   ]
  },
  {
   "cell_type": "code",
   "execution_count": 67,
   "id": "6398a211-6982-4096-9ce1-da088925fed8",
   "metadata": {},
   "outputs": [],
   "source": [
    "test_search.search_step_left()"
   ]
  },
  {
   "cell_type": "code",
   "execution_count": 68,
   "id": "b8409a57-ec57-4aa1-a3eb-57f196d7ce28",
   "metadata": {},
   "outputs": [
    {
     "data": {
      "text/plain": [
       "5.3802909910866957e-11"
      ]
     },
     "execution_count": 68,
     "metadata": {},
     "output_type": "execute_result"
    }
   ],
   "source": [
    "test_search.max_overlap"
   ]
  },
  {
   "cell_type": "code",
   "execution_count": 69,
   "id": "7e00fa6c-1d89-4b06-ba7f-2460693a0eb3",
   "metadata": {},
   "outputs": [
    {
     "data": {
      "text/plain": [
       "1003"
      ]
     },
     "execution_count": 69,
     "metadata": {},
     "output_type": "execute_result"
    }
   ],
   "source": [
    "test_search.num_s3_search_points"
   ]
  },
  {
   "cell_type": "code",
   "execution_count": 70,
   "id": "a9aa5791-f1a0-4e47-98f6-7b01c1a6d316",
   "metadata": {},
   "outputs": [
    {
     "data": {
      "text/plain": [
       "1"
      ]
     },
     "execution_count": 70,
     "metadata": {},
     "output_type": "execute_result"
    }
   ],
   "source": [
    "test_search.current_right_depth"
   ]
  },
  {
   "cell_type": "code",
   "execution_count": 71,
   "id": "968b91a2-bd6e-4528-8c90-dd7dd569c181",
   "metadata": {},
   "outputs": [],
   "source": [
    "test_search.search_step_right()"
   ]
  },
  {
   "cell_type": "code",
   "execution_count": 72,
   "id": "778e6e7c-c496-4bba-b359-92c032e8c5c5",
   "metadata": {},
   "outputs": [],
   "source": [
    "test_search.search_step_left()"
   ]
  },
  {
   "cell_type": "code",
   "execution_count": 73,
   "id": "af13160a-86b4-4042-85fa-d7717c92fb57",
   "metadata": {},
   "outputs": [
    {
     "data": {
      "text/plain": [
       "0.922647511813931"
      ]
     },
     "execution_count": 73,
     "metadata": {},
     "output_type": "execute_result"
    }
   ],
   "source": [
    "test_search.max_overlap"
   ]
  },
  {
   "cell_type": "code",
   "execution_count": 74,
   "id": "bea4f74d-bc0a-4c44-8fbd-ff2f9832c5b5",
   "metadata": {},
   "outputs": [
    {
     "data": {
      "text/plain": [
       "2"
      ]
     },
     "execution_count": 74,
     "metadata": {},
     "output_type": "execute_result"
    }
   ],
   "source": [
    "test_search.current_right_depth"
   ]
  },
  {
   "cell_type": "code",
   "execution_count": 75,
   "id": "be22cbd5-20dc-4ef7-9694-7f19309edd91",
   "metadata": {},
   "outputs": [
    {
     "data": {
      "text/plain": [
       "1.357477473882176"
      ]
     },
     "execution_count": 75,
     "metadata": {},
     "output_type": "execute_result"
    }
   ],
   "source": [
    "test_search.right_max_overlap"
   ]
  },
  {
   "cell_type": "code",
   "execution_count": 76,
   "id": "4aa6c07e-9713-47e2-b966-5f12f140a3db",
   "metadata": {},
   "outputs": [
    {
     "data": {
      "text/plain": [
       "0.3400574864005279"
      ]
     },
     "execution_count": 76,
     "metadata": {},
     "output_type": "execute_result"
    }
   ],
   "source": [
    "test_search.left_max_overlap"
   ]
  },
  {
   "cell_type": "markdown",
   "id": "f47644b4-5978-4b73-a35b-f9c7c66dd1c5",
   "metadata": {},
   "source": [
    "## Via expecation\n",
    "Should make a function for this.\n",
    "(Ideally need to make a \"solution\" class...)"
   ]
  },
  {
   "cell_type": "code",
   "execution_count": 30,
   "id": "45d5b908-76ac-46c5-a01d-dc5b7c733c26",
   "metadata": {},
   "outputs": [],
   "source": [
    "r_unitaries = test_search.right_max_s3_points"
   ]
  },
  {
   "cell_type": "code",
   "execution_count": 31,
   "id": "6215e132-0644-4f5d-a434-39402ad30734",
   "metadata": {},
   "outputs": [
    {
     "data": {
      "text/plain": [
       "array([[ 0.02476986, -0.99731462, -0.06574199,  0.02068793],\n",
       "       [ 0.0558371 ,  0.05130515,  0.01280051, -0.99703869]])"
      ]
     },
     "execution_count": 31,
     "metadata": {},
     "output_type": "execute_result"
    }
   ],
   "source": [
    "r_unitaries"
   ]
  },
  {
   "cell_type": "code",
   "execution_count": 32,
   "id": "880620f7-a27a-47bc-9d2d-9b9efa410838",
   "metadata": {},
   "outputs": [],
   "source": [
    "l_unitaries = test_search.left_max_s3_points"
   ]
  },
  {
   "cell_type": "code",
   "execution_count": 33,
   "id": "34332e71-439c-48c1-9b01-84feda432171",
   "metadata": {},
   "outputs": [
    {
     "data": {
      "text/plain": [
       "array([[ 0.0558371 ,  0.05130515,  0.01280051, -0.99703869]])"
      ]
     },
     "execution_count": 33,
     "metadata": {},
     "output_type": "execute_result"
    }
   ],
   "source": [
    "l_unitaries"
   ]
  },
  {
   "cell_type": "code",
   "execution_count": 34,
   "id": "c0b134e6-5a26-4927-91dd-be230c667909",
   "metadata": {},
   "outputs": [
    {
     "data": {
      "text/plain": [
       "0.3400574864005279"
      ]
     },
     "execution_count": 34,
     "metadata": {},
     "output_type": "execute_result"
    }
   ],
   "source": [
    "test_search.left_max_overlap"
   ]
  },
  {
   "cell_type": "code",
   "execution_count": 35,
   "id": "540a5dd4-dbca-46e1-a529-d99ec015d96c",
   "metadata": {},
   "outputs": [
    {
     "data": {
      "text/plain": [
       "1.357477473882176"
      ]
     },
     "execution_count": 35,
     "metadata": {},
     "output_type": "execute_result"
    }
   ],
   "source": [
    "test_search.right_max_overlap"
   ]
  },
  {
   "cell_type": "code",
   "execution_count": 36,
   "id": "9fc5873a-695f-44b5-b63c-ad150896c2d7",
   "metadata": {},
   "outputs": [
    {
     "data": {
      "text/plain": [
       "0.922647511813931"
      ]
     },
     "execution_count": 36,
     "metadata": {},
     "output_type": "execute_result"
    }
   ],
   "source": [
    "test_search.max_overlap"
   ]
  },
  {
   "cell_type": "code",
   "execution_count": 37,
   "id": "beaf0e4e-6fdb-482f-bd66-49a7a533ac04",
   "metadata": {},
   "outputs": [],
   "source": [
    "r_unitary_1 = s3_to_unitary(r_unitaries[0])\n",
    "r_unitary_2 = s3_to_unitary(r_unitaries[1])"
   ]
  },
  {
   "cell_type": "code",
   "execution_count": 38,
   "id": "b0179d70-71f2-4a6d-972f-506bc8fc06ef",
   "metadata": {},
   "outputs": [],
   "source": [
    "l_unitary = s3_to_unitary(l_unitaries[0])"
   ]
  },
  {
   "cell_type": "code",
   "execution_count": 39,
   "id": "06dc749d-9dbc-4045-901a-81796e14e8e3",
   "metadata": {},
   "outputs": [],
   "source": [
    "np_operators = [l_unitary, *([np_X, np_I]*30), r_unitary_1, r_unitary_2]"
   ]
  },
  {
   "cell_type": "code",
   "execution_count": 40,
   "id": "c8b5bc1d-b626-4a52-a8e9-0356a8327e20",
   "metadata": {},
   "outputs": [],
   "source": [
    "operators = [to_npc_array(X) for X in np_operators]"
   ]
  },
  {
   "cell_type": "code",
   "execution_count": 41,
   "id": "0163f843-94ef-43ba-b11a-6b4f73e81b32",
   "metadata": {},
   "outputs": [],
   "source": [
    "expectation = test_psi.expectation_value_multi_sites(operators, (test_psi.L//2)-30-1)"
   ]
  },
  {
   "cell_type": "code",
   "execution_count": 42,
   "id": "f3fd771f-6068-4bad-88f3-31b8dfab70d2",
   "metadata": {},
   "outputs": [
    {
     "data": {
      "text/plain": [
       "0.9226475118139226"
      ]
     },
     "execution_count": 42,
     "metadata": {},
     "output_type": "execute_result"
    }
   ],
   "source": [
    "np.abs(expectation)"
   ]
  },
  {
   "cell_type": "markdown",
   "id": "cd1332d4-1984-4e97-8a2d-762ec9ad5cd6",
   "metadata": {},
   "source": [
    "Agreement!"
   ]
  },
  {
   "cell_type": "code",
   "execution_count": 43,
   "id": "23da8c70-010d-44ae-805f-1b2c79e9c0de",
   "metadata": {},
   "outputs": [],
   "source": [
    "test_search = TransferMatrixSearch(test_psi, [np_X, np_I]*30)"
   ]
  },
  {
   "cell_type": "code",
   "execution_count": 44,
   "id": "2c2548ed-ee51-43d6-b23d-03ac07001001",
   "metadata": {},
   "outputs": [
    {
     "data": {
      "text/plain": [
       "7.915941602630483e-11"
      ]
     },
     "execution_count": 44,
     "metadata": {},
     "output_type": "execute_result"
    }
   ],
   "source": [
    "test_search.search_step_right()\n",
    "test_search.right_max_overlap"
   ]
  },
  {
   "cell_type": "code",
   "execution_count": 45,
   "id": "aa80a18a-c5b2-49d7-ae59-b354c90835bf",
   "metadata": {},
   "outputs": [
    {
     "data": {
      "text/plain": [
       "0.3400574864005279"
      ]
     },
     "execution_count": 45,
     "metadata": {},
     "output_type": "execute_result"
    }
   ],
   "source": [
    "test_search.search_step_left()\n",
    "test_search.left_max_overlap"
   ]
  },
  {
   "cell_type": "code",
   "execution_count": 46,
   "id": "75855af3-184f-48f6-9060-f384c5068470",
   "metadata": {},
   "outputs": [
    {
     "data": {
      "text/plain": [
       "1"
      ]
     },
     "execution_count": 46,
     "metadata": {},
     "output_type": "execute_result"
    }
   ],
   "source": [
    "test_search.current_right_depth"
   ]
  },
  {
   "cell_type": "code",
   "execution_count": 47,
   "id": "86dac87b-e9ea-4d2d-9248-2fb5c7dbab2a",
   "metadata": {},
   "outputs": [
    {
     "data": {
      "text/plain": [
       "(1002, 64)"
      ]
     },
     "execution_count": 47,
     "metadata": {},
     "output_type": "execute_result"
    }
   ],
   "source": [
    "test_search.right_virtual_points[0].shape"
   ]
  },
  {
   "cell_type": "code",
   "execution_count": 48,
   "id": "4765e0df-964b-4e7d-a404-85fdf131387d",
   "metadata": {},
   "outputs": [],
   "source": [
    "test_search.search_step_left()"
   ]
  },
  {
   "cell_type": "code",
   "execution_count": 49,
   "id": "ba05d31e-2880-4474-a7c1-130d230ae59c",
   "metadata": {},
   "outputs": [
    {
     "data": {
      "text/plain": [
       "5.3802909910866957e-11"
      ]
     },
     "execution_count": 49,
     "metadata": {},
     "output_type": "execute_result"
    }
   ],
   "source": [
    "test_search.max_overlap"
   ]
  },
  {
   "cell_type": "markdown",
   "id": "8c395195-fc2e-4ec8-a28f-cba1b54d30b1",
   "metadata": {},
   "source": [
    "_Still_ getting stuck in local optima... Should try out alternate sampling strategies.\n",
    "Should also try running other optimization strategies on this."
   ]
  },
  {
   "cell_type": "markdown",
   "id": "87836bfe-cba6-4a93-aec5-5607e519ecfd",
   "metadata": {},
   "source": [
    "# Iteration and exploration\n",
    "\n",
    "Check and try different things, update class definition.\n",
    "* What are the lengths of the vectors? How far apart are the vectors?\n",
    "    * For a given vector, when hitting it with all possible transfer matrices, how far away are the resulting matrices? How long?\n",
    "* How do the...\n",
    "* Try different sampling strategies."
   ]
  },
  {
   "cell_type": "markdown",
   "id": "0af4318b-7a67-4037-9eaa-c75323eb43a9",
   "metadata": {},
   "source": [
    "## Vector lengths and proximity"
   ]
  },
  {
   "cell_type": "code",
   "execution_count": 79,
   "id": "c70b6c09-9430-4aa9-ae14-11c380543f04",
   "metadata": {},
   "outputs": [],
   "source": [
    "test_search = TransferMatrixSearch(test_psi, [np_X, np_I]*30)"
   ]
  },
  {
   "cell_type": "code",
   "execution_count": 53,
   "id": "86fd823e-2a49-4c68-b8c2-d46b44c16c55",
   "metadata": {},
   "outputs": [
    {
     "data": {
      "text/plain": [
       "0.9999999999999999"
      ]
     },
     "execution_count": 53,
     "metadata": {},
     "output_type": "execute_result"
    }
   ],
   "source": [
    "np.linalg.norm(test_search.left_projected_symmetry_state)"
   ]
  },
  {
   "cell_type": "code",
   "execution_count": 54,
   "id": "19be1a2d-4b6e-4ebb-80f7-3c44f7f17990",
   "metadata": {},
   "outputs": [
    {
     "data": {
      "text/plain": [
       "0.9999999999999999"
      ]
     },
     "execution_count": 54,
     "metadata": {},
     "output_type": "execute_result"
    }
   ],
   "source": [
    "np.linalg.norm(test_search.right_projected_symmetry_state)"
   ]
  },
  {
   "cell_type": "code",
   "execution_count": 56,
   "id": "4f3ed01f-fc55-4854-b455-ba61ecc8235e",
   "metadata": {},
   "outputs": [
    {
     "data": {
      "text/plain": [
       "0.7066524181851312"
      ]
     },
     "execution_count": 56,
     "metadata": {},
     "output_type": "execute_result"
    }
   ],
   "source": [
    "np.linalg.norm(get_left_environment(test_psi, test_search.left_symmetry_index - 1))"
   ]
  },
  {
   "cell_type": "code",
   "execution_count": 57,
   "id": "8546d92c-edb9-4f92-ba61-ed43f3364872",
   "metadata": {},
   "outputs": [],
   "source": [
    "bond_dimension = 8"
   ]
  },
  {
   "cell_type": "code",
   "execution_count": 58,
   "id": "3083da5e-91a8-45aa-af31-e115a42b93dc",
   "metadata": {},
   "outputs": [
    {
     "data": {
      "text/plain": [
       "2.8284271247461903"
      ]
     },
     "execution_count": 58,
     "metadata": {},
     "output_type": "execute_result"
    }
   ],
   "source": [
    "np.linalg.norm(np.identity(bond_dimension).reshape((bond_dimension**2,)))"
   ]
  },
  {
   "cell_type": "code",
   "execution_count": 60,
   "id": "7e3883dd-d774-4904-bd50-2d4b93d604a8",
   "metadata": {},
   "outputs": [
    {
     "data": {
      "text/plain": [
       "2.8284271247461903"
      ]
     },
     "execution_count": 60,
     "metadata": {},
     "output_type": "execute_result"
    }
   ],
   "source": [
    "np.sqrt(8)"
   ]
  },
  {
   "cell_type": "code",
   "execution_count": 61,
   "id": "e64e86ff-f6cd-4f42-84d3-2929aac0e8b3",
   "metadata": {},
   "outputs": [
    {
     "data": {
      "text/plain": [
       "4.002571917903193"
      ]
     },
     "execution_count": 61,
     "metadata": {},
     "output_type": "execute_result"
    }
   ],
   "source": [
    "2.8284271247461903/0.7066524181851312"
   ]
  },
  {
   "cell_type": "markdown",
   "id": "461efca0-ad62-4bc3-896e-b4c849912d34",
   "metadata": {},
   "source": [
    "Very close to 4... coincidence?"
   ]
  },
  {
   "cell_type": "code",
   "execution_count": 78,
   "id": "b2ccfffe-e4f3-49ab-adba-19ef32b524d6",
   "metadata": {},
   "outputs": [
    {
     "data": {
      "text/plain": [
       "3.9919058634789364"
      ]
     },
     "execution_count": 78,
     "metadata": {},
     "output_type": "execute_result"
    }
   ],
   "source": [
    "1.357477473882176/0.3400574864005279"
   ]
  },
  {
   "cell_type": "markdown",
   "id": "1bb3c6e8-2750-4cce-a407-f6b2501c0032",
   "metadata": {},
   "source": [
    "Ratio is very close, implying that length of the environment vectors is leading to the assymetry in the left and right terms. This direction could be swapped with a simple choice of gauge.\n",
    "\n",
    "Could absorb one extra lambda/schmidt term into the symmetry operation, will modify the SVD decomposition, but that's ok. Then allows for uniform treatment of left and right sides. Sounds nice!"
   ]
  },
  {
   "cell_type": "code",
   "execution_count": 95,
   "id": "e930d766-3a52-47db-8d8a-0dbce67a2509",
   "metadata": {},
   "outputs": [
    {
     "data": {
      "text/plain": [
       "3.9974297347246264"
      ]
     },
     "execution_count": 95,
     "metadata": {},
     "output_type": "execute_result"
    }
   ],
   "source": [
    "(\n",
    "    2\n",
    "    *np.linalg.norm(get_left_environment(test_psi, test_search.left_symmetry_index - 1))\n",
    "    *np.linalg.norm(np.identity(bond_dimension).reshape((bond_dimension**2,)))\n",
    ")"
   ]
  },
  {
   "cell_type": "markdown",
   "id": "09410f0b-1e23-4726-aea6-af0be86c7a06",
   "metadata": {},
   "source": [
    "After factoring out the lengths of the environment vectors, get an overall scalar of 4. So if we assume left/right symmetry, that means that the best we can hope for the left/right overlaps is 1/2. This is a much larger space... Does this generalise beyond this specific case? Is 4 special in any sense?"
   ]
  },
  {
   "cell_type": "code",
   "execution_count": 80,
   "id": "f6e26298-fc1f-492f-954c-4d5c5f005b0d",
   "metadata": {},
   "outputs": [],
   "source": [
    "test_search.search_step_right()"
   ]
  },
  {
   "cell_type": "code",
   "execution_count": 82,
   "id": "90f1a0ef-ac86-4b8a-836d-4330ed64d0ba",
   "metadata": {},
   "outputs": [],
   "source": [
    "right_lengths_1 = np.linalg.norm(test_search.right_virtual_points[0], axis=1)"
   ]
  },
  {
   "cell_type": "code",
   "execution_count": 86,
   "id": "fb1f4d6a-7a20-4e97-a97c-8aeaa7eb1500",
   "metadata": {},
   "outputs": [
    {
     "data": {
      "text/plain": [
       "count    1002.000000\n",
       "mean        0.672606\n",
       "std         0.214290\n",
       "min         0.059933\n",
       "25%         0.516898\n",
       "50%         0.701152\n",
       "75%         0.853185\n",
       "max         0.999353\n",
       "dtype: float64"
      ]
     },
     "execution_count": 86,
     "metadata": {},
     "output_type": "execute_result"
    }
   ],
   "source": [
    "pd.Series(right_lengths_1).describe()"
   ]
  },
  {
   "cell_type": "code",
   "execution_count": 87,
   "id": "b47baa76-8455-4a73-9376-508cdef7b5c8",
   "metadata": {},
   "outputs": [],
   "source": [
    "test_search.search_step_right()"
   ]
  },
  {
   "cell_type": "code",
   "execution_count": 88,
   "id": "53a6c5fe-dbcc-44ea-96b9-f267ae32ef28",
   "metadata": {},
   "outputs": [],
   "source": [
    "right_lengths_2 = np.linalg.norm(test_search.right_virtual_points[1], axis=1)"
   ]
  },
  {
   "cell_type": "code",
   "execution_count": 89,
   "id": "72c20626-4099-4b44-ad0e-a611890a63df",
   "metadata": {},
   "outputs": [
    {
     "data": {
      "text/plain": [
       "count    10000.000000\n",
       "mean         0.809987\n",
       "std          0.054592\n",
       "min          0.709082\n",
       "25%          0.766753\n",
       "50%          0.803509\n",
       "75%          0.848163\n",
       "max          0.974098\n",
       "dtype: float64"
      ]
     },
     "execution_count": 89,
     "metadata": {},
     "output_type": "execute_result"
    }
   ],
   "source": [
    "pd.Series(right_lengths_2).describe()"
   ]
  },
  {
   "cell_type": "markdown",
   "id": "22af94cb-644b-489c-a778-941435328a77",
   "metadata": {},
   "source": [
    "Keeping the norm of the vector close to 1 is important... necessary?"
   ]
  },
  {
   "cell_type": "code",
   "execution_count": 91,
   "id": "eb29255a-65f7-45c2-b0ab-8baef4a3a22c",
   "metadata": {},
   "outputs": [
    {
     "data": {
      "text/plain": [
       "7.915941602630483e-11"
      ]
     },
     "execution_count": 91,
     "metadata": {},
     "output_type": "execute_result"
    }
   ],
   "source": [
    "np.max(test_search.right_ovelraps[0])"
   ]
  },
  {
   "cell_type": "code",
   "execution_count": 92,
   "id": "7dad24cf-50c3-4a6d-b19f-f81c015637e5",
   "metadata": {},
   "outputs": [
    {
     "data": {
      "text/plain": [
       "1.357477473882176"
      ]
     },
     "execution_count": 92,
     "metadata": {},
     "output_type": "execute_result"
    }
   ],
   "source": [
    "np.max(test_search.right_ovelraps[1])"
   ]
  },
  {
   "cell_type": "code",
   "execution_count": 93,
   "id": "6bc45fbb-1c9d-4743-97e8-aaa24805857c",
   "metadata": {},
   "outputs": [],
   "source": [
    "i = np.argmax(test_search.right_ovelraps[1])"
   ]
  },
  {
   "cell_type": "code",
   "execution_count": 94,
   "id": "e1c35a4c-a054-4477-9de7-8e2e8a492691",
   "metadata": {},
   "outputs": [
    {
     "data": {
      "text/plain": [
       "0.9616176615194814"
      ]
     },
     "execution_count": 94,
     "metadata": {},
     "output_type": "execute_result"
    }
   ],
   "source": [
    "np.linalg.norm(test_search.right_virtual_points[1][i])"
   ]
  },
  {
   "cell_type": "markdown",
   "id": "8cb09d0d-6bb2-4aa4-8fef-91e1a51c2786",
   "metadata": {},
   "source": [
    "Check left hand side"
   ]
  },
  {
   "cell_type": "code",
   "execution_count": 96,
   "id": "7c7860a5-29e5-469b-9f37-4a2b967db40f",
   "metadata": {},
   "outputs": [],
   "source": [
    "test_search.search_step_left()"
   ]
  },
  {
   "cell_type": "code",
   "execution_count": 98,
   "id": "14c90ddb-d926-4c87-af40-a5efe576f068",
   "metadata": {},
   "outputs": [],
   "source": [
    "left_lengths_1 = np.linalg.norm(test_search.left_virtual_points[0], axis=1)"
   ]
  },
  {
   "cell_type": "code",
   "execution_count": 99,
   "id": "c21a7f4c-e170-4b62-87f5-31532d4dd42f",
   "metadata": {},
   "outputs": [
    {
     "data": {
      "text/plain": [
       "count    1002.000000\n",
       "mean        0.982885\n",
       "std         0.009800\n",
       "min         0.965507\n",
       "25%         0.974602\n",
       "50%         0.982984\n",
       "75%         0.991397\n",
       "max         0.999871\n",
       "dtype: float64"
      ]
     },
     "execution_count": 99,
     "metadata": {},
     "output_type": "execute_result"
    }
   ],
   "source": [
    "pd.Series(left_lengths_1).describe()"
   ]
  },
  {
   "cell_type": "code",
   "execution_count": 100,
   "id": "43649e14-f05c-4b8c-bc85-a5abee8b830c",
   "metadata": {},
   "outputs": [],
   "source": [
    "test_search.search_step_left()"
   ]
  },
  {
   "cell_type": "code",
   "execution_count": 101,
   "id": "0b27a963-6d87-4769-b77a-bb3a4642eb61",
   "metadata": {},
   "outputs": [],
   "source": [
    "left_lengths_2 = np.linalg.norm(test_search.left_virtual_points[1], axis=1)"
   ]
  },
  {
   "cell_type": "code",
   "execution_count": 102,
   "id": "4248ad60-5ce6-4907-98c2-0dde1f1bf1e1",
   "metadata": {},
   "outputs": [
    {
     "data": {
      "text/plain": [
       "count    10000.000000\n",
       "mean         0.987126\n",
       "std          0.004590\n",
       "min          0.971915\n",
       "25%          0.984175\n",
       "50%          0.987005\n",
       "75%          0.990293\n",
       "max          0.999032\n",
       "dtype: float64"
      ]
     },
     "execution_count": 102,
     "metadata": {},
     "output_type": "execute_result"
    }
   ],
   "source": [
    "pd.Series(left_lengths_2).describe()"
   ]
  },
  {
   "cell_type": "code",
   "execution_count": 103,
   "id": "b5341374-d1de-4536-81d5-98cab686b2c4",
   "metadata": {},
   "outputs": [
    {
     "data": {
      "text/plain": [
       "0.3400574864005279"
      ]
     },
     "execution_count": 103,
     "metadata": {},
     "output_type": "execute_result"
    }
   ],
   "source": [
    "np.max(test_search.left_overlaps[0])"
   ]
  },
  {
   "cell_type": "code",
   "execution_count": 104,
   "id": "df7dbf2d-b2ef-48de-a762-c24c05303a94",
   "metadata": {},
   "outputs": [
    {
     "data": {
      "text/plain": [
       "0.33866477165104597"
      ]
     },
     "execution_count": 104,
     "metadata": {},
     "output_type": "execute_result"
    }
   ],
   "source": [
    "np.max(test_search.left_overlaps[1])"
   ]
  },
  {
   "cell_type": "markdown",
   "id": "304178d7-2edd-44ab-91e6-b6dc25df2434",
   "metadata": {},
   "source": [
    "Is there anything special about the left and right symmetry vectors? I'm getting the suspcicion that the whole space of the virtual vectors is not relevant/accessible."
   ]
  },
  {
   "cell_type": "code",
   "execution_count": 107,
   "id": "1870a48e-f3c9-41e9-9ee4-e50d0e889c7f",
   "metadata": {},
   "outputs": [],
   "source": [
    "right_X = test_search.right_projected_symmetry_state.reshape(8,8)"
   ]
  },
  {
   "cell_type": "code",
   "execution_count": 108,
   "id": "d84977f6-3abc-4029-b15f-64769fbb17c5",
   "metadata": {},
   "outputs": [
    {
     "data": {
      "text/plain": [
       "(-3.958964373777102e-11+0j)"
      ]
     },
     "execution_count": 108,
     "metadata": {},
     "output_type": "execute_result"
    }
   ],
   "source": [
    "np.trace(right_X)"
   ]
  },
  {
   "cell_type": "code",
   "execution_count": 110,
   "id": "ab22663f-f62e-4612-adee-c254ac585415",
   "metadata": {},
   "outputs": [
    {
     "data": {
      "text/plain": [
       "array([7.07106708e-01, 7.07106708e-01, 2.27327574e-04, 2.27327574e-04,\n",
       "       2.27327574e-04, 2.27327574e-04, 7.30834897e-08, 7.30834897e-08])"
      ]
     },
     "execution_count": 110,
     "metadata": {},
     "output_type": "execute_result"
    }
   ],
   "source": [
    "np.linalg.svd(right_X).S"
   ]
  },
  {
   "cell_type": "code",
   "execution_count": 112,
   "id": "b6e91403-a59f-476b-9d60-9f41ec0cc58b",
   "metadata": {},
   "outputs": [
    {
     "data": {
      "text/plain": [
       "array([-7.07106708e-01+0.j,  7.07106708e-01+0.j,  7.30834897e-08+0.j,\n",
       "       -7.30834897e-08+0.j,  2.27327574e-04+0.j,  2.27327574e-04+0.j,\n",
       "       -2.27327574e-04+0.j, -2.27327574e-04+0.j])"
      ]
     },
     "execution_count": 112,
     "metadata": {},
     "output_type": "execute_result"
    }
   ],
   "source": [
    "np.linalg.eig(right_X).eigenvalues"
   ]
  },
  {
   "cell_type": "code",
   "execution_count": 114,
   "id": "8fab6864-3799-4472-a5a2-51a3643eee4e",
   "metadata": {},
   "outputs": [
    {
     "data": {
      "text/plain": [
       "(7.132091958192597e-30+0j)"
      ]
     },
     "execution_count": 114,
     "metadata": {},
     "output_type": "execute_result"
    }
   ],
   "source": [
    "np.linalg.det(right_X)"
   ]
  },
  {
   "cell_type": "code",
   "execution_count": 115,
   "id": "b1a2c869-3b4a-4681-93fa-44bdc7e0d5b6",
   "metadata": {},
   "outputs": [
    {
     "data": {
      "text/plain": [
       "0.7071067811865476"
      ]
     },
     "execution_count": 115,
     "metadata": {},
     "output_type": "execute_result"
    }
   ],
   "source": [
    "np.sqrt(1/2)"
   ]
  },
  {
   "cell_type": "code",
   "execution_count": 118,
   "id": "06e82f76-f9c1-4b5f-bc16-6a76ea39a6cc",
   "metadata": {},
   "outputs": [
    {
     "data": {
      "text/plain": [
       "array([[ True, False, False, False, False, False, False, False],\n",
       "       [False,  True, False, False, False, False, False, False],\n",
       "       [False, False,  True,  True, False,  True, False, False],\n",
       "       [False, False,  True,  True, False, False, False, False],\n",
       "       [False, False, False, False,  True, False, False, False],\n",
       "       [False, False,  True, False, False,  True, False, False],\n",
       "       [False, False, False, False, False, False,  True, False],\n",
       "       [False, False, False, False, False, False, False,  True]])"
      ]
     },
     "execution_count": 118,
     "metadata": {},
     "output_type": "execute_result"
    }
   ],
   "source": [
    "right_X.conj().T == right_X"
   ]
  },
  {
   "cell_type": "code",
   "execution_count": 119,
   "id": "bd08d660-680e-4766-940a-f4c864ab41af",
   "metadata": {},
   "outputs": [
    {
     "data": {
      "text/plain": [
       "array([[False, False, False, False, False, False, False, False],\n",
       "       [False, False, False, False, False, False, False, False],\n",
       "       [False, False, False, False, False, False, False, False],\n",
       "       [False, False, False, False, False, False, False, False],\n",
       "       [False, False, False, False, False, False, False, False],\n",
       "       [False, False, False, False, False, False, False, False],\n",
       "       [False, False, False, False, False, False, False, False],\n",
       "       [False, False, False, False, False, False, False, False]])"
      ]
     },
     "execution_count": 119,
     "metadata": {},
     "output_type": "execute_result"
    }
   ],
   "source": [
    "right_X.conj().T == -right_X"
   ]
  },
  {
   "cell_type": "code",
   "execution_count": 120,
   "id": "cca6240b-ddaf-4ea3-83a6-46d399132467",
   "metadata": {},
   "outputs": [
    {
     "data": {
      "text/plain": [
       "array([[ True, False, False, False, False, False, False, False],\n",
       "       [False,  True, False, False, False, False, False, False],\n",
       "       [False, False,  True,  True, False,  True, False, False],\n",
       "       [False, False,  True,  True, False, False, False, False],\n",
       "       [False, False, False, False,  True, False, False, False],\n",
       "       [False, False,  True, False, False,  True, False, False],\n",
       "       [False, False, False, False, False, False,  True, False],\n",
       "       [False, False, False, False, False, False, False,  True]])"
      ]
     },
     "execution_count": 120,
     "metadata": {},
     "output_type": "execute_result"
    }
   ],
   "source": [
    "right_X == right_X.T"
   ]
  },
  {
   "cell_type": "markdown",
   "id": "f11514f0-9bb5-43a8-aff9-eb0de3071bae",
   "metadata": {},
   "source": [
    "So the right projected state is well approximated as $2^{-1/2} (P_{1} - P_{2})$ where $P_{i}$ are some rank 1 projectors. Relevance of pre-factor and number of projectors? How does this change when operators are applied?"
   ]
  },
  {
   "cell_type": "code",
   "execution_count": 121,
   "id": "c8e3d0ab-ccf5-4067-9db4-f2d00c8a4078",
   "metadata": {},
   "outputs": [],
   "source": [
    "left_X = test_search.left_projected_symmetry_state.reshape(8,8)"
   ]
  },
  {
   "cell_type": "code",
   "execution_count": 122,
   "id": "7fdd06a4-92fe-4be9-bd25-762746f8e4fe",
   "metadata": {},
   "outputs": [
    {
     "data": {
      "text/plain": [
       "(-8.283304597789254e-17+0j)"
      ]
     },
     "execution_count": 122,
     "metadata": {},
     "output_type": "execute_result"
    }
   ],
   "source": [
    "np.trace(left_X)"
   ]
  },
  {
   "cell_type": "code",
   "execution_count": 123,
   "id": "e63f5258-0232-42aa-87b4-db9c08f5a02c",
   "metadata": {},
   "outputs": [
    {
     "data": {
      "text/plain": [
       "array([0.35355339, 0.35355339, 0.35355339, 0.35355339, 0.35355339,\n",
       "       0.35355339, 0.35355339, 0.35355339])"
      ]
     },
     "execution_count": 123,
     "metadata": {},
     "output_type": "execute_result"
    }
   ],
   "source": [
    "np.linalg.svd(left_X).S"
   ]
  },
  {
   "cell_type": "code",
   "execution_count": 124,
   "id": "7602cd0a-4fda-4352-a3d6-ece54ae434ad",
   "metadata": {},
   "outputs": [
    {
     "data": {
      "text/plain": [
       "array([ 0.35355339+0.j, -0.35355339+0.j, -0.35355339+0.j,  0.35355339+0.j,\n",
       "        0.35355339+0.j, -0.35355339+0.j,  0.35355339+0.j, -0.35355339+0.j])"
      ]
     },
     "execution_count": 124,
     "metadata": {},
     "output_type": "execute_result"
    }
   ],
   "source": [
    "np.linalg.eig(left_X).eigenvalues"
   ]
  },
  {
   "cell_type": "code",
   "execution_count": 126,
   "id": "c3b05826-042e-4359-bded-3fc6f1b4ff0d",
   "metadata": {},
   "outputs": [
    {
     "data": {
      "text/plain": [
       "0.3535533905932738"
      ]
     },
     "execution_count": 126,
     "metadata": {},
     "output_type": "execute_result"
    }
   ],
   "source": [
    "np.sqrt(1/2)/2"
   ]
  },
  {
   "cell_type": "code",
   "execution_count": 127,
   "id": "a7b624a2-ae5b-42e5-9b77-0d518d8ba033",
   "metadata": {},
   "outputs": [
    {
     "data": {
      "text/plain": [
       "array([[ True, False, False, False, False, False, False, False],\n",
       "       [False,  True, False, False, False, False, False, False],\n",
       "       [False, False,  True, False, False, False, False, False],\n",
       "       [False, False, False,  True, False, False, False, False],\n",
       "       [False, False, False, False,  True, False, False, False],\n",
       "       [False, False, False, False, False,  True, False, False],\n",
       "       [False, False, False, False, False, False,  True, False],\n",
       "       [False, False, False, False, False, False, False,  True]])"
      ]
     },
     "execution_count": 127,
     "metadata": {},
     "output_type": "execute_result"
    }
   ],
   "source": [
    "left_X.conj().T == left_X"
   ]
  },
  {
   "cell_type": "code",
   "execution_count": 128,
   "id": "c0f2f7ea-44bb-4ddd-87d3-2c871557f1b8",
   "metadata": {},
   "outputs": [
    {
     "data": {
      "text/plain": [
       "array([[False, False, False, False, False, False, False, False],\n",
       "       [False, False, False, False, False, False, False, False],\n",
       "       [False, False, False, False, False, False, False, False],\n",
       "       [False, False, False, False, False, False, False, False],\n",
       "       [False, False, False, False, False, False, False, False],\n",
       "       [False, False, False, False, False, False, False, False],\n",
       "       [False, False, False, False, False, False, False, False],\n",
       "       [False, False, False, False, False, False, False, False]])"
      ]
     },
     "execution_count": 128,
     "metadata": {},
     "output_type": "execute_result"
    }
   ],
   "source": [
    "left_X.conj().T == -left_X"
   ]
  },
  {
   "cell_type": "code",
   "execution_count": 129,
   "id": "605416cb-86d9-4156-84e1-35418336225c",
   "metadata": {},
   "outputs": [
    {
     "data": {
      "text/plain": [
       "array([[ True, False, False, False, False, False, False, False],\n",
       "       [False,  True, False, False, False, False, False, False],\n",
       "       [False, False,  True, False, False, False, False, False],\n",
       "       [False, False, False,  True, False, False, False, False],\n",
       "       [False, False, False, False,  True, False, False, False],\n",
       "       [False, False, False, False, False,  True, False, False],\n",
       "       [False, False, False, False, False, False,  True, False],\n",
       "       [False, False, False, False, False, False, False,  True]])"
      ]
     },
     "execution_count": 129,
     "metadata": {},
     "output_type": "execute_result"
    }
   ],
   "source": [
    "left_X == left_X.T"
   ]
  },
  {
   "cell_type": "markdown",
   "id": "30f3a97e-f5f2-4989-aad4-7e1f080d9a68",
   "metadata": {},
   "source": [
    "So the left projected state is well approximated as $2^{-3/2} (P_{1} - P_{2})$ where $P_{i}$ are some rank 4 projectors.\n",
    "\n",
    "Too many coincidences for this not to be part of a larger pattern."
   ]
  },
  {
   "cell_type": "markdown",
   "id": "6a5d3d66-772c-4fa1-8182-18b362d5e2f8",
   "metadata": {},
   "source": [
    "## Operators"
   ]
  },
  {
   "cell_type": "code",
   "execution_count": 132,
   "id": "c31d3dbe-baf7-4e24-9bee-0ef326f83609",
   "metadata": {},
   "outputs": [],
   "source": [
    "s3_points = test_search.s3_search_points"
   ]
  },
  {
   "cell_type": "code",
   "execution_count": 133,
   "id": "fb044948-0657-4cf4-87fc-d87aeecabd1a",
   "metadata": {},
   "outputs": [
    {
     "data": {
      "text/plain": [
       "(1003, 4)"
      ]
     },
     "execution_count": 133,
     "metadata": {},
     "output_type": "execute_result"
    }
   ],
   "source": [
    "s3_points.shape"
   ]
  },
  {
   "cell_type": "code",
   "execution_count": 135,
   "id": "a890f3e5-2190-46b0-aa04-59ff173f7f34",
   "metadata": {},
   "outputs": [
    {
     "data": {
      "text/plain": [
       "(4, 2, 2)"
      ]
     },
     "execution_count": 135,
     "metadata": {},
     "output_type": "execute_result"
    }
   ],
   "source": [
    "base_unitaries.shape"
   ]
  },
  {
   "cell_type": "code",
   "execution_count": 137,
   "id": "cebb6182-0ec9-4e24-87d2-86d0f5889c7d",
   "metadata": {},
   "outputs": [],
   "source": [
    "search_unitaries = np.tensordot(s3_points, base_unitaries, [[-1,], [0,]])"
   ]
  },
  {
   "cell_type": "code",
   "execution_count": 140,
   "id": "ef8f5d74-d934-4e23-a93a-3ed1755a6d59",
   "metadata": {},
   "outputs": [],
   "source": [
    "right_search_tms = [\n",
    "    get_transfer_matrix_from_unitary(test_psi, u, test_search.right_symmetry_index + 1)\n",
    "    .combine_legs([['vL', 'vL*'], ['vR', 'vR*']])\n",
    "    .to_ndarray()\n",
    "    for u in searc_unitaries\n",
    "]"
   ]
  },
  {
   "cell_type": "code",
   "execution_count": 144,
   "id": "89c3337f-50b3-4a3d-86b3-8bb54052a2f3",
   "metadata": {},
   "outputs": [],
   "source": [
    "from collections import Counter"
   ]
  },
  {
   "cell_type": "code",
   "execution_count": 149,
   "id": "138bbc86-2b7f-459a-b23f-b1a871563984",
   "metadata": {},
   "outputs": [
    {
     "data": {
      "text/plain": [
       "Counter({(1.39, 16): 1003})"
      ]
     },
     "execution_count": 149,
     "metadata": {},
     "output_type": "execute_result"
    }
   ],
   "source": [
    "Counter(operator_norm(u) for u in right_search_tms)"
   ]
  },
  {
   "cell_type": "code",
   "execution_count": 157,
   "id": "390b1333-038d-45fe-be76-38a7410faac3",
   "metadata": {},
   "outputs": [
    {
     "data": {
      "text/plain": [
       "Counter({1.39: 16, 0.234: 16, 0.115: 16, 0.019: 16})"
      ]
     },
     "execution_count": 157,
     "metadata": {},
     "output_type": "execute_result"
    }
   ],
   "source": [
    "Counter(np.round(np.linalg.svd(right_search_tms[0]).S, 3))"
   ]
  },
  {
   "cell_type": "code",
   "execution_count": 152,
   "id": "009362a7-62d2-4078-911b-0f3a5b1a7192",
   "metadata": {},
   "outputs": [],
   "source": [
    "def counter_to_tuple(d):\n",
    "    keys = sorted(d.keys())\n",
    "    return tuple((k, d[k]) for k in keys)"
   ]
  },
  {
   "cell_type": "code",
   "execution_count": 158,
   "id": "3609a442-14bc-4195-adc6-41ab57b89a35",
   "metadata": {},
   "outputs": [],
   "source": [
    "counters = (\n",
    "    Counter(np.round(np.linalg.svd(u).S, 5))\n",
    "    for u in right_search_tms\n",
    ")"
   ]
  },
  {
   "cell_type": "code",
   "execution_count": 159,
   "id": "9788bc49-139e-4af9-b3f7-9853b1fa7615",
   "metadata": {},
   "outputs": [],
   "source": [
    "tuples = (counter_to_tuple(d) for d in counters)"
   ]
  },
  {
   "cell_type": "code",
   "execution_count": 160,
   "id": "db1c1eee-30ed-449d-96e7-877431a75856",
   "metadata": {},
   "outputs": [],
   "source": [
    "overall_counter = Counter(tuples)"
   ]
  },
  {
   "cell_type": "code",
   "execution_count": 161,
   "id": "5667ddfa-adb0-4965-aaf1-eb086feef4bc",
   "metadata": {
    "scrolled": true
   },
   "outputs": [
    {
     "data": {
      "text/plain": [
       "Counter({((0.01932, 16), (0.11485, 16), (0.23384, 16), (1.38982, 16)): 1,\n",
       "         ((0.00656, 16), (0.03539, 16), (0.25811, 16), (1.38994, 16)): 1,\n",
       "         ((0.00924, 16), (0.05035, 16), (0.25561, 16), (1.38993, 16)): 1,\n",
       "         ((0.01745, 16), (0.10107, 16), (0.24011, 16), (1.38985, 16)): 1,\n",
       "         ((0.02323, 16), (0.15343, 16), (0.21055, 16), (1.38976, 16)): 1,\n",
       "         ((0.01222, 16), (0.06764, 16), (0.25159, 16), (1.3899, 16)): 1,\n",
       "         ((0.02209, 16), (0.13971, 16), (0.21989, 16), (1.38978, 16)): 1,\n",
       "         ((0.0025, 16), (0.01379, 16), (0.26016, 16), (1.38995, 16)): 1,\n",
       "         ((0.01287, 16), (0.07167, 16), (0.25047, 16), (1.3899, 16)): 1,\n",
       "         ((0.02145, 16), (0.13339, 16), (0.22379, 16), (1.38979, 16)): 1,\n",
       "         ((0.01687, 16), (0.09722, 16), (0.2417, 16), (1.38985, 16)): 1,\n",
       "         ((0.02347, 16), (0.15726, 16), (0.20771, 16), (1.38976, 16)): 1,\n",
       "         ((0.00534, 16), (0.02949, 16), (0.25885, 16), (1.38995, 16)): 1,\n",
       "         ((0.00784, 16), (0.04305, 16), (0.25694, 16), (1.38993, 16)): 1,\n",
       "         ((0.02364, 16), (0.16017, 16), (0.20547, 16), (1.38976, 16)): 1,\n",
       "         ((0.0186, 16), (0.10974, 16), (0.23628, 16), (1.38983, 16)): 1,\n",
       "         ((0.02028, 16), (0.12311, 16), (0.22961, 16), (1.38981, 16)): 1,\n",
       "         ((0.01071, 16), (0.05935, 16), (0.25368, 16), (1.38992, 16)): 1,\n",
       "         ((0.00518, 16), (0.02867, 16), (0.25894, 16), (1.38995, 16)): 1,\n",
       "         ((0.02282, 16), (0.14863, 16), (0.21397, 16), (1.38977, 16)): 1,\n",
       "         ((0.02254, 16), (0.14531, 16), (0.21624, 16), (1.38977, 16)): 1,\n",
       "         ((0.01588, 16), (0.09096, 16), (0.24414, 16), (1.38987, 16)): 1,\n",
       "         ((0.01142, 16), (0.06363, 16), (0.25264, 16), (1.38991, 16)): 1,\n",
       "         ((0.00785, 16), (0.0435, 16), (0.25687, 16), (1.38993, 16)): 1,\n",
       "         ((0.0209, 16), (0.1287, 16), (0.22652, 16), (1.3898, 16)): 1,\n",
       "         ((0.02358, 16), (0.15985, 16), (0.20573, 16), (1.38976, 16)): 1,\n",
       "         ((0.00668, 16), (0.0376, 16), (0.25781, 16), (1.38994, 16)): 1,\n",
       "         ((0.02, 16), (0.12107, 16), (0.23069, 16), (1.38981, 16)): 1,\n",
       "         ((0.0078, 16), (0.04321, 16), (0.25692, 16), (1.38994, 16)): 1,\n",
       "         ((0.01805, 16), (0.10608, 16), (0.23796, 16), (1.38984, 16)): 1,\n",
       "         ((0.02314, 16), (0.15331, 16), (0.21065, 16), (1.38976, 16)): 1,\n",
       "         ((0.01254, 16), (0.07046, 16), (0.25083, 16), (1.3899, 16)): 1,\n",
       "         ((0.02257, 16), (0.14605, 16), (0.21575, 16), (1.38977, 16)): 1,\n",
       "         ((0.0077, 16), (0.04299, 16), (0.25696, 16), (1.38994, 16)): 1,\n",
       "         ((0.01417, 16), (0.08036, 16), (0.24783, 16), (1.38988, 16)): 1,\n",
       "         ((0.02291, 16), (0.15044, 16), (0.21271, 16), (1.38977, 16)): 1,\n",
       "         ((0.02101, 16), (0.13016, 16), (0.2257, 16), (1.3898, 16)): 1,\n",
       "         ((0.01764, 16), (0.10334, 16), (0.23917, 16), (1.38985, 16)): 1,\n",
       "         ((0.01031, 16), (0.05779, 16), (0.25405, 16), (1.38992, 16)): 1,\n",
       "         ((0.009, 16), (0.05022, 16), (0.25565, 16), (1.38993, 16)): 1,\n",
       "         ((0.0236, 16), (0.16089, 16), (0.20492, 16), (1.38976, 16)): 1,\n",
       "         ((0.02119, 16), (0.13198, 16), (0.22464, 16), (1.3898, 16)): 1,\n",
       "         ((0.01338, 16), (0.07576, 16), (0.24928, 16), (1.38989, 16)): 1,\n",
       "         ((0.01737, 16), (0.10162, 16), (0.23991, 16), (1.38985, 16)): 1,\n",
       "         ((0.00293, 16), (0.01699, 16), (0.25998, 16), (1.38996, 16)): 1,\n",
       "         ((0.02258, 16), (0.1466, 16), (0.21538, 16), (1.38977, 16)): 1,\n",
       "         ((0.02306, 16), (0.15283, 16), (0.21101, 16), (1.38977, 16)): 1,\n",
       "         ((0.0164, 16), (0.09514, 16), (0.24255, 16), (1.38986, 16)): 1,\n",
       "         ((0.01281, 16), (0.07239, 16), (0.25028, 16), (1.3899, 16)): 1,\n",
       "         ((0.0199, 16), (0.12101, 16), (0.23074, 16), (1.38981, 16)): 1,\n",
       "         ((0.02359, 16), (0.16126, 16), (0.20465, 16), (1.38976, 16)): 1,\n",
       "         ((0.01175, 16), (0.06635, 16), (0.25196, 16), (1.38991, 16)): 1,\n",
       "         ((0.01945, 16), (0.11749, 16), (0.23256, 16), (1.38982, 16)): 1,\n",
       "         ((0.00653, 16), (0.03735, 16), (0.25785, 16), (1.38994, 16)): 1,\n",
       "         ((0.0165, 16), (0.09611, 16), (0.24218, 16), (1.38986, 16)): 1,\n",
       "         ((0.02206, 16), (0.14111, 16), (0.21903, 16), (1.38978, 16)): 1,\n",
       "         ((0.02318, 16), (0.15492, 16), (0.20949, 16), (1.38976, 16)): 1,\n",
       "         ((0.01405, 16), (0.0802, 16), (0.2479, 16), (1.38989, 16)): 1,\n",
       "         ((0.00135, 16), (0.00875, 16), (0.26039, 16), (1.38996, 16)): 1,\n",
       "         ((0.01381, 16), (0.07876, 16), (0.24836, 16), (1.38989, 16)): 1,\n",
       "         ((0.0233, 16), (0.15692, 16), (0.208, 16), (1.38976, 16)): 1,\n",
       "         ((0.02183, 16), (0.13889, 16), (0.22045, 16), (1.38979, 16)): 1,\n",
       "         ((0.01696, 16), (0.09943, 16), (0.24083, 16), (1.38985, 16)): 1,\n",
       "         ((0.008, 16), (0.04535, 16), (0.25657, 16), (1.38994, 16)): 1,\n",
       "         ((0.01889, 16), (0.11343, 16), (0.23457, 16), (1.38983, 16)): 1,\n",
       "         ((0.01242, 16), (0.07068, 16), (0.25078, 16), (1.3899, 16)): 1,\n",
       "         ((0.02356, 16), (0.16147, 16), (0.20449, 16), (1.38976, 16)): 1,\n",
       "         ((0.02025, 16), (0.1245, 16), (0.22889, 16), (1.38981, 16)): 1,\n",
       "         ((0.01442, 16), (0.08275, 16), (0.24706, 16), (1.38988, 16)): 1,\n",
       "         ((0.01621, 16), (0.09431, 16), (0.24289, 16), (1.38986, 16)): 1,\n",
       "         ((0.02301, 16), (0.15319, 16), (0.21077, 16), (1.38977, 16)): 1,\n",
       "         ((0.02281, 16), (0.15049, 16), (0.2127, 16), (1.38977, 16)): 1,\n",
       "         ((0.00483, 16), (0.02752, 16), (0.25909, 16), (1.38995, 16)): 1,\n",
       "         ((0.01887, 16), (0.11342, 16), (0.23458, 16), (1.38983, 16)): 1,\n",
       "         ((0.01448, 16), (0.08333, 16), (0.24687, 16), (1.38988, 16)): 1,\n",
       "         ((0.02126, 16), (0.13371, 16), (0.22364, 16), (1.38979, 16)): 1,\n",
       "         ((0.01774, 16), (0.10544, 16), (0.23828, 16), (1.38984, 16)): 1,\n",
       "         ((0.02353, 16), (0.16149, 16), (0.20448, 16), (1.38976, 16)): 1,\n",
       "         ((0.01164, 16), (0.06604, 16), (0.25205, 16), (1.38991, 16)): 1,\n",
       "         ((0.01324, 16), (0.07615, 16), (0.24918, 16), (1.38989, 16)): 1,\n",
       "         ((0.01763, 16), (0.10431, 16), (0.23877, 16), (1.38985, 16)): 1,\n",
       "         ((0.0213, 16), (0.13425, 16), (0.22331, 16), (1.38979, 16)): 1,\n",
       "         ((0.02232, 16), (0.14512, 16), (0.21641, 16), (1.38978, 16)): 1,\n",
       "         ((0.01686, 16), (0.09916, 16), (0.24096, 16), (1.38986, 16)): 1,\n",
       "         ((0.01184, 16), (0.06762, 16), (0.25163, 16), (1.38991, 16)): 1,\n",
       "         ((0.02271, 16), (0.14986, 16), (0.21316, 16), (1.38977, 16)): 1,\n",
       "         ((0.01177, 16), (0.06758, 16), (0.25165, 16), (1.38991, 16)): 1,\n",
       "         ((0.02334, 16), (0.1586, 16), (0.20673, 16), (1.38976, 16)): 1,\n",
       "         ((0.02006, 16), (0.12341, 16), (0.22949, 16), (1.38981, 16)): 1,\n",
       "         ((0.01069, 16), (0.06059, 16), (0.25342, 16), (1.38992, 16)): 1,\n",
       "         ((0.02025, 16), (0.12478, 16), (0.22875, 16), (1.38981, 16)): 1,\n",
       "         ((0.02323, 16), (0.15741, 16), (0.20765, 16), (1.38976, 16)): 1,\n",
       "         ((0.02181, 16), (0.13955, 16), (0.22005, 16), (1.38979, 16)): 1,\n",
       "         ((0.01327, 16), (0.07652, 16), (0.24908, 16), (1.38989, 16)): 1,\n",
       "         ((0.01178, 16), (0.06823, 16), (0.25148, 16), (1.38991, 16)): 1,\n",
       "         ((0.01546, 16), (0.09013, 16), (0.24448, 16), (1.38987, 16)): 1,\n",
       "         ((0.02173, 16), (0.13922, 16), (0.22027, 16), (1.38979, 16)): 1,\n",
       "         ((0.02282, 16), (0.15154, 16), (0.21198, 16), (1.38977, 16)): 1,\n",
       "         ((0.0108, 16), (0.0612, 16), (0.25327, 16), (1.38992, 16)): 1,\n",
       "         ((0.009, 16), (0.05347, 16), (0.25503, 16), (1.38993, 16)): 1,\n",
       "         ((0.02017, 16), (0.12442, 16), (0.22895, 16), (1.38981, 16)): 1,\n",
       "         ((0.02064, 16), (0.12864, 16), (0.22661, 16), (1.3898, 16)): 1,\n",
       "         ((0.02343, 16), (0.16149, 16), (0.2045, 16), (1.38976, 16)): 1,\n",
       "         ((0.00941, 16), (0.05448, 16), (0.25481, 16), (1.38993, 16)): 1,\n",
       "         ((0.0068, 16), (0.03927, 16), (0.25758, 16), (1.38994, 16)): 1,\n",
       "         ((0.02279, 16), (0.15192, 16), (0.21171, 16), (1.38977, 16)): 1,\n",
       "         ((0.01891, 16), (0.11444, 16), (0.2341, 16), (1.38983, 16)): 1,\n",
       "         ((0.02187, 16), (0.14055, 16), (0.21942, 16), (1.38979, 16)): 1,\n",
       "         ((0.01262, 16), (0.07381, 16), (0.24991, 16), (1.3899, 16)): 1,\n",
       "         ((0.01116, 16), (0.06336, 16), (0.25274, 16), (1.38992, 16)): 1,\n",
       "         ((0.02153, 16), (0.13723, 16), (0.22151, 16), (1.38979, 16)): 1,\n",
       "         ((0.02285, 16), (0.15283, 16), (0.21106, 16), (1.38977, 16)): 1,\n",
       "         ((0.01812, 16), (0.10879, 16), (0.23678, 16), (1.38984, 16)): 1,\n",
       "         ((0.0082, 16), (0.04904, 16), (0.25592, 16), (1.38993, 16)): 1,\n",
       "         ((0.01552, 16), (0.09106, 16), (0.24415, 16), (1.38987, 16)): 1,\n",
       "         ((0.02045, 16), (0.12721, 16), (0.22742, 16), (1.38981, 16)): 1,\n",
       "         ((0.02348, 16), (0.16305, 16), (0.20327, 16), (1.38976, 16)): 1,\n",
       "         ((0.02206, 16), (0.14292, 16), (0.21789, 16), (1.38978, 16)): 1,\n",
       "         ((0.01032, 16), (0.05831, 16), (0.25396, 16), (1.38992, 16)): 1,\n",
       "         ((0.01914, 16), (0.11684, 16), (0.23292, 16), (1.38983, 16)): 1,\n",
       "         ((0.02263, 16), (0.1498, 16), (0.21322, 16), (1.38977, 16)): 1,\n",
       "         ((0.0149, 16), (0.08744, 16), (0.24548, 16), (1.38988, 16)): 1,\n",
       "         ((0.02344, 16), (0.16261, 16), (0.20363, 16), (1.38976, 16)): 1,\n",
       "         ((0.01435, 16), (0.08356, 16), (0.24682, 16), (1.38988, 16)): 1,\n",
       "         ((0.01665, 16), (0.09873, 16), (0.24116, 16), (1.38986, 16)): 1,\n",
       "         ((0.02302, 16), (0.15603, 16), (0.20872, 16), (1.38977, 16)): 1,\n",
       "         ((0.01924, 16), (0.11762, 16), (0.23253, 16), (1.38982, 16)): 1,\n",
       "         ((0.02026, 16), (0.1257, 16), (0.22826, 16), (1.38981, 16)): 1,\n",
       "         ((0.01716, 16), (0.10267, 16), (0.23951, 16), (1.38985, 16)): 1,\n",
       "         ((0.01218, 16), (0.06959, 16), (0.25111, 16), (1.38991, 16)): 1,\n",
       "         ((0.02341, 16), (0.16191, 16), (0.20418, 16), (1.38976, 16)): 1,\n",
       "         ((0.01415, 16), (0.08368, 16), (0.24679, 16), (1.38988, 16)): 1,\n",
       "         ((0.02294, 16), (0.15481, 16), (0.20963, 16), (1.38977, 16)): 1,\n",
       "         ((0.01851, 16), (0.11197, 16), (0.2353, 16), (1.38983, 16)): 1,\n",
       "         ((0.01881, 16), (0.11463, 16), (0.23403, 16), (1.38983, 16)): 1,\n",
       "         ((0.0064, 16), (0.03607, 16), (0.25806, 16), (1.38995, 16)): 1,\n",
       "         ((0.02147, 16), (0.1373, 16), (0.22149, 16), (1.38979, 16)): 1,\n",
       "         ((0.02344, 16), (0.1636, 16), (0.20284, 16), (1.38976, 16)): 1,\n",
       "         ((0.01918, 16), (0.11712, 16), (0.23279, 16), (1.38983, 16)): 1,\n",
       "         ((0.01493, 16), (0.08709, 16), (0.2456, 16), (1.38988, 16)): 1,\n",
       "         ((0.01716, 16), (0.10326, 16), (0.23927, 16), (1.38985, 16)): 1,\n",
       "         ((0.02316, 16), (0.15813, 16), (0.20713, 16), (1.38976, 16)): 1,\n",
       "         ((0.01772, 16), (0.10663, 16), (0.23778, 16), (1.38985, 16)): 1,\n",
       "         ((0.02039, 16), (0.12808, 16), (0.22695, 16), (1.38981, 16)): 1,\n",
       "         ((0.00864, 16), (0.04845, 16), (0.25602, 16), (1.38994, 16)): 1,\n",
       "         ((0.01345, 16), (0.07942, 16), (0.2482, 16), (1.38989, 16)): 1,\n",
       "         ((0.0233, 16), (0.16151, 16), (0.20451, 16), (1.38976, 16)): 1,\n",
       "         ((0.02277, 16), (0.15253, 16), (0.21129, 16), (1.38977, 16)): 1,\n",
       "         ((0.01804, 16), (0.10848, 16), (0.23694, 16), (1.38984, 16)): 1,\n",
       "         ((0.00192, 16), (0.02362, 16), (0.25952, 16), (1.38996, 16)): 1,\n",
       "         ((0.01387, 16), (0.08032, 16), (0.2479, 16), (1.38989, 16)): 1,\n",
       "         ((0.02343, 16), (0.16337, 16), (0.20303, 16), (1.38976, 16)): 1,\n",
       "         ((0.02196, 16), (0.14351, 16), (0.21753, 16), (1.38978, 16)): 1,\n",
       "         ((0.01867, 16), (0.1141, 16), (0.23429, 16), (1.38983, 16)): 1,\n",
       "         ((0.01082, 16), (0.06324, 16), (0.2528, 16), (1.38992, 16)): 1,\n",
       "         ((0.01579, 16), (0.09454, 16), (0.24285, 16), (1.38987, 16)): 1,\n",
       "         ((0.01598, 16), (0.0947, 16), (0.24278, 16), (1.38987, 16)): 1,\n",
       "         ((0.02326, 16), (0.16018, 16), (0.20556, 16), (1.38976, 16)): 1,\n",
       "         ((0.02083, 16), (0.13265, 16), (0.22432, 16), (1.3898, 16)): 1,\n",
       "         ((0.01794, 16), (0.10795, 16), (0.23719, 16), (1.38984, 16)): 1,\n",
       "         ((0.01478, 16), (0.08665, 16), (0.24577, 16), (1.38988, 16)): 1,\n",
       "         ((0.02285, 16), (0.15485, 16), (0.20962, 16), (1.38977, 16)): 1,\n",
       "         ((0.02312, 16), (0.15839, 16), (0.20695, 16), (1.38977, 16)): 1,\n",
       "         ((0.00665, 16), (0.04073, 16), (0.25739, 16), (1.38995, 16)): 1,\n",
       "         ((0.02175, 16), (0.14143, 16), (0.2189, 16), (1.38979, 16)): 1,\n",
       "         ((0.01629, 16), (0.09659, 16), (0.24204, 16), (1.38986, 16)): 1,\n",
       "         ((0.02158, 16), (0.13978, 16), (0.21995, 16), (1.38979, 16)): 1,\n",
       "         ((0.02303, 16), (0.15706, 16), (0.20796, 16), (1.38977, 16)): 1,\n",
       "         ((0.01519, 16), (0.08901, 16), (0.24492, 16), (1.38988, 16)): 1,\n",
       "         ((0.01744, 16), (0.1057, 16), (0.23821, 16), (1.38985, 16)): 1,\n",
       "         ((0.01811, 16), (0.10937, 16), (0.23654, 16), (1.38984, 16)): 1,\n",
       "         ((0.02189, 16), (0.14312, 16), (0.21779, 16), (1.38979, 16)): 1,\n",
       "         ((0.0203, 16), (0.12831, 16), (0.22684, 16), (1.38981, 16)): 1,\n",
       "         ((0.02034, 16), (0.12776, 16), (0.22715, 16), (1.38981, 16)): 1,\n",
       "         ((0.01716, 16), (0.10334, 16), (0.23925, 16), (1.38985, 16)): 1,\n",
       "         ((0.02271, 16), (0.15373, 16), (0.21045, 16), (1.38977, 16)): 1,\n",
       "         ((0.01122, 16), (0.06514, 16), (0.25232, 16), (1.38992, 16)): 1,\n",
       "         ((0.02346, 16), (0.16452, 16), (0.20212, 16), (1.38976, 16)): 1,\n",
       "         ((0.02249, 16), (0.15091, 16), (0.21248, 16), (1.38978, 16)): 1,\n",
       "         ((0.01557, 16), (0.09156, 16), (0.24399, 16), (1.38987, 16)): 1,\n",
       "         ((0.02049, 16), (0.12903, 16), (0.22643, 16), (1.38981, 16)): 1,\n",
       "         ((0.00041, 16), (0.01995, 16), (0.25983, 16), (1.38996, 16)): 1,\n",
       "         ((0.022, 16), (0.14493, 16), (0.2166, 16), (1.38978, 16)): 1,\n",
       "         ((0.02313, 16), (0.15936, 16), (0.20621, 16), (1.38977, 16)): 1,\n",
       "         ((0.01773, 16), (0.10791, 16), (0.23723, 16), (1.38984, 16)): 1,\n",
       "         ((0.01444, 16), (0.08609, 16), (0.24598, 16), (1.38988, 16)): 1,\n",
       "         ((0.01504, 16), (0.08846, 16), (0.24513, 16), (1.38988, 16)): 1,\n",
       "         ((0.01938, 16), (0.12103, 16), (0.23082, 16), (1.38982, 16)): 1,\n",
       "         ((0.02328, 16), (0.16168, 16), (0.20441, 16), (1.38976, 16)): 1,\n",
       "         ((0.01587, 16), (0.09373, 16), (0.24316, 16), (1.38987, 16)): 1,\n",
       "         ((0.00591, 16), (0.04051, 16), (0.25745, 16), (1.38995, 16)): 1,\n",
       "         ((0.01865, 16), (0.11396, 16), (0.23437, 16), (1.38983, 16)): 1,\n",
       "         ((0.0227, 16), (0.15362, 16), (0.21054, 16), (1.38977, 16)): 1,\n",
       "         ((0.02335, 16), (0.16495, 16), (0.20178, 16), (1.38976, 16)): 1,\n",
       "         ((0.01329, 16), (0.07803, 16), (0.24865, 16), (1.3899, 16)): 1,\n",
       "         ((0.0065, 16), (0.03616, 16), (0.25806, 16), (1.38995, 16)): 1,\n",
       "         ((0.02095, 16), (0.13511, 16), (0.22288, 16), (1.3898, 16)): 1,\n",
       "         ((0.01933, 16), (0.1195, 16), (0.23161, 16), (1.38983, 16)): 1,\n",
       "         ((0.02294, 16), (0.15632, 16), (0.20854, 16), (1.38977, 16)): 1,\n",
       "         ((0.01414, 16), (0.0858, 16), (0.24611, 16), (1.38988, 16)): 1,\n",
       "         ((0.01412, 16), (0.08189, 16), (0.2474, 16), (1.38989, 16)): 1,\n",
       "         ((0.01969, 16), (0.12288, 16), (0.22984, 16), (1.38982, 16)): 1,\n",
       "         ((0.01943, 16), (0.12155, 16), (0.23055, 16), (1.38982, 16)): 1,\n",
       "         ((0.02305, 16), (0.15948, 16), (0.20614, 16), (1.38977, 16)): 1,\n",
       "         ((0.0193, 16), (0.11992, 16), (0.2314, 16), (1.38982, 16)): 1,\n",
       "         ((0.00479, 16), (0.03437, 16), (0.25833, 16), (1.38995, 16)): 1,\n",
       "         ((0.01927, 16), (0.11955, 16), (0.23159, 16), (1.38983, 16)): 1,\n",
       "         ((0.02007, 16), (0.12555, 16), (0.22838, 16), (1.38982, 16)): 1,\n",
       "         ((0.02334, 16), (0.1659, 16), (0.20101, 16), (1.38976, 16)): 1,\n",
       "         ((0.02294, 16), (0.1566, 16), (0.20833, 16), (1.38977, 16)): 1,\n",
       "         ((0.01194, 16), (0.06791, 16), (0.25159, 16), (1.38991, 16)): 1,\n",
       "         ((0.02031, 16), (0.12904, 16), (0.22645, 16), (1.38981, 16)): 1,\n",
       "         ((0.02248, 16), (0.15059, 16), (0.21272, 16), (1.38978, 16)): 1,\n",
       "         ((0.0162, 16), (0.09832, 16), (0.24138, 16), (1.38986, 16)): 1,\n",
       "         ((0.02309, 16), (0.16118, 16), (0.20482, 16), (1.38977, 16)): 1,\n",
       "         ((0.01783, 16), (0.10816, 16), (0.23712, 16), (1.38985, 16)): 1,\n",
       "         ((0.01924, 16), (0.12002, 16), (0.23135, 16), (1.38983, 16)): 1,\n",
       "         ((0.01823, 16), (0.11123, 16), (0.2357, 16), (1.38984, 16)): 1,\n",
       "         ((0.02157, 16), (0.13993, 16), (0.21988, 16), (1.38979, 16)): 1,\n",
       "         ((0.02073, 16), (0.13336, 16), (0.22394, 16), (1.3898, 16)): 1,\n",
       "         ((0.01593, 16), (0.09414, 16), (0.24302, 16), (1.38987, 16)): 1,\n",
       "         ((0.02328, 16), (0.16392, 16), (0.20263, 16), (1.38976, 16)): 1,\n",
       "         ((0.01078, 16), (0.0672, 16), (0.25183, 16), (1.38992, 16)): 1,\n",
       "         ((0.02337, 16), (0.166, 16), (0.20094, 16), (1.38976, 16)): 1,\n",
       "         ((0.02157, 16), (0.14099, 16), (0.21921, 16), (1.38979, 16)): 1,\n",
       "         ((0.02045, 16), (0.13085, 16), (0.22541, 16), (1.38981, 16)): 1,\n",
       "         ((0.0104, 16), (0.05969, 16), (0.25368, 16), (1.38993, 16)): 1,\n",
       "         ((0.02086, 16), (0.13298, 16), (0.22415, 16), (1.3898, 16)): 1,\n",
       "         ((0.02257, 16), (0.15441, 16), (0.20999, 16), (1.38977, 16)): 1,\n",
       "         ((0.02136, 16), (0.1379, 16), (0.22116, 16), (1.3898, 16)): 1,\n",
       "         ((0.01779, 16), (0.10794, 16), (0.23723, 16), (1.38985, 16)): 1,\n",
       "         ((0.01469, 16), (0.08912, 16), (0.24493, 16), (1.38988, 16)): 1,\n",
       "         ((0.02205, 16), (0.14617, 16), (0.21579, 16), (1.38978, 16)): 1,\n",
       "         ((0.02114, 16), (0.13737, 16), (0.22151, 16), (1.3898, 16)): 1,\n",
       "         ((0.0212, 16), (0.13808, 16), (0.22107, 16), (1.3898, 16)): 1,\n",
       "         ((0.01223, 16), (0.06963, 16), (0.25113, 16), (1.38991, 16)): 1,\n",
       "         ((0.00985, 16), (0.06193, 16), (0.25318, 16), (1.38992, 16)): 1,\n",
       "         ((0.02232, 16), (0.149, 16), (0.21385, 16), (1.38978, 16)): 1,\n",
       "         ((0.02093, 16), (0.13382, 16), (0.22366, 16), (1.3898, 16)): 1,\n",
       "         ((0.0056, 16), (0.04106, 16), (0.25738, 16), (1.38995, 16)): 1,\n",
       "         ((0.01392, 16), (0.08071, 16), (0.2478, 16), (1.3899, 16)): 1,\n",
       "         ((0.02256, 16), (0.15361, 16), (0.21057, 16), (1.38978, 16)): 1,\n",
       "         ((0.02224, 16), (0.15007, 16), (0.21312, 16), (1.38978, 16)): 1,\n",
       "         ((0.02025, 16), (0.12866, 16), (0.22667, 16), (1.38981, 16)): 1,\n",
       "         ((0.0123, 16), (0.07418, 16), (0.24986, 16), (1.38991, 16)): 1,\n",
       "         ((0.01212, 16), (0.07562, 16), (0.24945, 16), (1.3899, 16)): 1,\n",
       "         ((0.01839, 16), (0.11293, 16), (0.2349, 16), (1.38984, 16)): 1,\n",
       "         ((0.02273, 16), (0.1544, 16), (0.20999, 16), (1.38977, 16)): 1,\n",
       "         ((0.02111, 16), (0.13847, 16), (0.22084, 16), (1.3898, 16)): 1,\n",
       "         ((0.01984, 16), (0.12393, 16), (0.22928, 16), (1.38982, 16)): 1,\n",
       "         ((0.01333, 16), (0.07814, 16), (0.24863, 16), (1.3899, 16)): 1,\n",
       "         ((0.02045, 16), (0.13182, 16), (0.22487, 16), (1.38981, 16)): 1,\n",
       "         ((0.02279, 16), (0.15738, 16), (0.20777, 16), (1.38977, 16)): 1,\n",
       "         ((0.02314, 16), (0.16265, 16), (0.20367, 16), (1.38977, 16)): 1,\n",
       "         ((0.0076, 16), (0.05035, 16), (0.25573, 16), (1.38994, 16)): 1,\n",
       "         ((0.02298, 16), (0.16028, 16), (0.20555, 16), (1.38977, 16)): 1,\n",
       "         ((0.01772, 16), (0.10726, 16), (0.23754, 16), (1.38985, 16)): 1,\n",
       "         ((0.02216, 16), (0.14966, 16), (0.21342, 16), (1.38978, 16)): 1,\n",
       "         ((0.02254, 16), (0.15218, 16), (0.21161, 16), (1.38978, 16)): 1,\n",
       "         ((0.01711, 16), (0.103, 16), (0.23942, 16), (1.38986, 16)): 1,\n",
       "         ((0.0202, 16), (0.12951, 16), (0.22621, 16), (1.38981, 16)): 1,\n",
       "         ((0.01955, 16), (0.12195, 16), (0.23035, 16), (1.38982, 16)): 1,\n",
       "         ((0.02204, 16), (0.14796, 16), (0.21459, 16), (1.38978, 16)): 1,\n",
       "         ((0.01806, 16), (0.11278, 16), (0.235, 16), (1.38984, 16)): 1,\n",
       "         ((0.0221, 16), (0.14727, 16), (0.21506, 16), (1.38978, 16)): 1,\n",
       "         ((0.02059, 16), (0.13287, 16), (0.22425, 16), (1.38981, 16)): 1,\n",
       "         ((0.01299, 16), (0.07485, 16), (0.24964, 16), (1.38991, 16)): 1,\n",
       "         ((0.02336, 16), (0.1657, 16), (0.2012, 16), (1.38976, 16)): 1,\n",
       "         ((0.02323, 16), (0.16769, 16), (0.19957, 16), (1.38976, 16)): 1,\n",
       "         ((0.01926, 16), (0.11926, 16), (0.23175, 16), (1.38983, 16)): 1,\n",
       "         ((0.02134, 16), (0.13935, 16), (0.22028, 16), (1.3898, 16)): 1,\n",
       "         ((0.00394, 16), (0.02205, 16), (0.25966, 16), (1.38997, 16)): 1,\n",
       "         ((0.02056, 16), (0.13257, 16), (0.22443, 16), (1.38981, 16)): 1,\n",
       "         ((0.02328, 16), (0.16665, 16), (0.20043, 16), (1.38976, 16)): 1,\n",
       "         ((0.02072, 16), (0.13489, 16), (0.22306, 16), (1.3898, 16)): 1,\n",
       "         ((0.017, 16), (0.10401, 16), (0.239, 16), (1.38986, 16)): 1,\n",
       "         ((0.0163, 16), (0.09684, 16), (0.24197, 16), (1.38987, 16)): 1,\n",
       "         ((0.01631, 16), (0.10168, 16), (0.24003, 16), (1.38986, 16)): 1,\n",
       "         ((0.0234, 16), (0.16708, 16), (0.20006, 16), (1.38976, 16)): 1,\n",
       "         ((0.0196, 16), (0.12263, 16), (0.23, 16), (1.38982, 16)): 1,\n",
       "         ((0.00679, 16), (0.04015, 16), (0.2575, 16), (1.38995, 16)): 1,\n",
       "         ((0.01688, 16), (0.10218, 16), (0.23979, 16), (1.38986, 16)): 1,\n",
       "         ((0.02326, 16), (0.1683, 16), (0.19907, 16), (1.38976, 16)): 1,\n",
       "         ((0.02327, 16), (0.1681, 16), (0.19923, 16), (1.38976, 16)): 1,\n",
       "         ((0.01674, 16), (0.10095, 16), (0.2403, 16), (1.38986, 16)): 1,\n",
       "         ((0.00606, 16), (0.03508, 16), (0.25824, 16), (1.38996, 16)): 1,\n",
       "         ((0.01977, 16), (0.12396, 16), (0.22929, 16), (1.38982, 16)): 1,\n",
       "         ((0.02339, 16), (0.1671, 16), (0.20005, 16), (1.38976, 16)): 1,\n",
       "         ((0.01549, 16), (0.09664, 16), (0.24211, 16), (1.38987, 16)): 1,\n",
       "         ((0.01583, 16), (0.09352, 16), (0.24328, 16), (1.38988, 16)): 1,\n",
       "         ((0.01729, 16), (0.10655, 16), (0.2379, 16), (1.38985, 16)): 1,\n",
       "         ((0.02113, 16), (0.13934, 16), (0.22031, 16), (1.3898, 16)): 1,\n",
       "         ((0.02319, 16), (0.1654, 16), (0.20148, 16), (1.38977, 16)): 1,\n",
       "         ((0.01977, 16), (0.12626, 16), (0.22806, 16), (1.38982, 16)): 1,\n",
       "         ((0.00316, 16), (0.02227, 16), (0.25966, 16), (1.38997, 16)): 1,\n",
       "         ((0.02134, 16), (0.13964, 16), (0.22011, 16), (1.3898, 16)): 1,\n",
       "         ((0.01972, 16), (0.12325, 16), (0.22967, 16), (1.38982, 16)): 1,\n",
       "         ((0.02318, 16), (0.16879, 16), (0.19867, 16), (1.38976, 16)): 1,\n",
       "         ((0.02325, 16), (0.1642, 16), (0.20244, 16), (1.38977, 16)): 1,\n",
       "         ((0.01286, 16), (0.07374, 16), (0.24997, 16), (1.38991, 16)): 1,\n",
       "         ((0.02291, 16), (0.16318, 16), (0.2033, 16), (1.38977, 16)): 1,\n",
       "         ((0.02135, 16), (0.1411, 16), (0.21919, 16), (1.3898, 16)): 1,\n",
       "         ((0.02269, 16), (0.15634, 16), (0.20859, 16), (1.38978, 16)): 1,\n",
       "         ((0.01683, 16), (0.10528, 16), (0.23848, 16), (1.38986, 16)): 1,\n",
       "         ((0.02215, 16), (0.1505, 16), (0.21285, 16), (1.38978, 16)): 1,\n",
       "         ((0.0199, 16), (0.12524, 16), (0.2286, 16), (1.38982, 16)): 1,\n",
       "         ((0.02131, 16), (0.14164, 16), (0.21885, 16), (1.38979, 16)): 1,\n",
       "         ((0.01843, 16), (0.113, 16), (0.23489, 16), (1.38984, 16)): 1,\n",
       "         ((0.02216, 16), (0.14827, 16), (0.21439, 16), (1.38979, 16)): 1,\n",
       "         ((0.02251, 16), (0.15651, 16), (0.20848, 16), (1.38978, 16)): 1,\n",
       "         ((0.01926, 16), (0.11982, 16), (0.23148, 16), (1.38983, 16)): 1,\n",
       "         ((0.02323, 16), (0.16818, 16), (0.19918, 16), (1.38977, 16)): 1,\n",
       "         ((0.00886, 16), (0.05744, 16), (0.25426, 16), (1.38993, 16)): 1,\n",
       "         ((0.02315, 16), (0.16472, 16), (0.20204, 16), (1.38977, 16)): 1,\n",
       "         ((0.023, 16), (0.16404, 16), (0.20261, 16), (1.38977, 16)): 1,\n",
       "         ((0.02182, 16), (0.14802, 16), (0.2146, 16), (1.38979, 16)): 1,\n",
       "         ((0.01432, 16), (0.08395, 16), (0.24675, 16), (1.38989, 16)): 1,\n",
       "         ((0.02102, 16), (0.1354, 16), (0.22273, 16), (1.3898, 16)): 1,\n",
       "         ((0.02075, 16), (0.13736, 16), (0.22158, 16), (1.3898, 16)): 1,\n",
       "         ((0.0228, 16), (0.15682, 16), (0.20822, 16), (1.38978, 16)): 1,\n",
       "         ((0.02042, 16), (0.13104, 16), (0.22534, 16), (1.38981, 16)): 1,\n",
       "         ((0.01035, 16), (0.06843, 16), (0.25156, 16), (1.38992, 16)): 1,\n",
       "         ((0.01354, 16), (0.08222, 16), (0.24736, 16), (1.3899, 16)): 1,\n",
       "         ((0.0202, 16), (0.12994, 16), (0.22599, 16), (1.38981, 16)): 1,\n",
       "         ((0.0228, 16), (0.1619, 16), (0.20434, 16), (1.38977, 16)): 1,\n",
       "         ((0.02192, 16), (0.14778, 16), (0.21475, 16), (1.38979, 16)): 1,\n",
       "         ((0.01595, 16), (0.09394, 16), (0.24312, 16), (1.38988, 16)): 1,\n",
       "         ((0.00557, 16), (0.04469, 16), (0.25682, 16), (1.38995, 16)): 1,\n",
       "         ((0.02183, 16), (0.14424, 16), (0.21713, 16), (1.38979, 16)): 1,\n",
       "         ((0.02271, 16), (0.15623, 16), (0.20867, 16), (1.38978, 16)): 1,\n",
       "         ((0.00921, 16), (0.0594, 16), (0.25382, 16), (1.38993, 16)): 1,\n",
       "         ((0.01384, 16), (0.07965, 16), (0.24816, 16), (1.3899, 16)): 1,\n",
       "         ((0.02071, 16), (0.13612, 16), (0.22234, 16), (1.3898, 16)): 1,\n",
       "         ((0.02256, 16), (0.15746, 16), (0.20777, 16), (1.38978, 16)): 1,\n",
       "         ((0.02161, 16), (0.14305, 16), (0.21792, 16), (1.38979, 16)): 1,\n",
       "         ((0.01298, 16), (0.08125, 16), (0.24771, 16), (1.3899, 16)): 1,\n",
       "         ((0.02002, 16), (0.12664, 16), (0.22784, 16), (1.38982, 16)): 1,\n",
       "         ((0.02192, 16), (0.14539, 16), (0.21636, 16), (1.38979, 16)): 1,\n",
       "         ((0.02122, 16), (0.14269, 16), (0.2182, 16), (1.3898, 16)): 1,\n",
       "         ((0.0208, 16), (0.1336, 16), (0.22383, 16), (1.38981, 16)): 1,\n",
       "         ((0.01187, 16), (0.06885, 16), (0.25139, 16), (1.38992, 16)): 1,\n",
       "         ((0.02226, 16), (0.15442, 16), (0.21005, 16), (1.38978, 16)): 1,\n",
       "         ((0.02281, 16), (0.1602, 16), (0.20567, 16), (1.38977, 16)): 1,\n",
       "         ((0.02299, 16), (0.16437, 16), (0.20235, 16), (1.38977, 16)): 1,\n",
       "         ((0.00831, 16), (0.05874, 16), (0.254, 16), (1.38993, 16)): 1,\n",
       "         ((0.02329, 16), (0.1696, 16), (0.19799, 16), (1.38977, 16)): 1,\n",
       "         ((0.01875, 16), (0.1151, 16), (0.23387, 16), (1.38984, 16)): 1,\n",
       "         ((0.02269, 16), (0.1617, 16), (0.20451, 16), (1.38977, 16)): 1,\n",
       "         ((0.02242, 16), (0.15165, 16), (0.21203, 16), (1.38978, 16)): 1,\n",
       "         ((0.01806, 16), (0.1111, 16), (0.23581, 16), (1.38985, 16)): 1,\n",
       "         ((0.02213, 16), (0.15392, 16), (0.21043, 16), (1.38978, 16)): 1,\n",
       "         ((0.02189, 16), (0.14887, 16), (0.21402, 16), (1.38979, 16)): 1,\n",
       "         ((0.02124, 16), (0.1393, 16), (0.22035, 16), (1.3898, 16)): 1,\n",
       "         ((0.02186, 16), (0.14951, 16), (0.21358, 16), (1.38979, 16)): 1,\n",
       "         ((0.01639, 16), (0.10202, 16), (0.2399, 16), (1.38986, 16)): 1,\n",
       "         ((0.02291, 16), (0.16004, 16), (0.20578, 16), (1.38977, 16)): 1,\n",
       "         ((0.02249, 16), (0.15806, 16), (0.20733, 16), (1.38978, 16)): 1,\n",
       "         ((0.01584, 16), (0.09291, 16), (0.24352, 16), (1.38988, 16)): 1,\n",
       "         ((0.02332, 16), (0.16748, 16), (0.19977, 16), (1.38977, 16)): 1,\n",
       "         ((0.02278, 16), (0.16404, 16), (0.20265, 16), (1.38977, 16)): 1,\n",
       "         ((0.0218, 16), (0.14454, 16), (0.21694, 16), (1.38979, 16)): 1,\n",
       "         ((0.02231, 16), (0.15379, 16), (0.21051, 16), (1.38978, 16)): 1,\n",
       "         ((0.00628, 16), (0.03888, 16), (0.25773, 16), (1.38996, 16)): 1,\n",
       "         ((0.01961, 16), (0.12487, 16), (0.22884, 16), (1.38982, 16)): 1,\n",
       "         ((0.02226, 16), (0.15421, 16), (0.21021, 16), (1.38978, 16)): 1,\n",
       "         ((0.02242, 16), (0.15818, 16), (0.20726, 16), (1.38978, 16)): 1,\n",
       "         ((0.01932, 16), (0.12188, 16), (0.23044, 16), (1.38983, 16)): 1,\n",
       "         ((0.01849, 16), (0.11282, 16), (0.23498, 16), (1.38985, 16)): 1,\n",
       "         ((0.01278, 16), (0.08324, 16), (0.24708, 16), (1.3899, 16)): 1,\n",
       "         ((0.02314, 16), (0.16339, 16), (0.20313, 16), (1.38977, 16)): 1,\n",
       "         ((0.02204, 16), (0.14878, 16), (0.21407, 16), (1.38979, 16)): 1,\n",
       "         ((0.0183, 16), (0.11837, 16), (0.23231, 16), (1.38984, 16)): 1,\n",
       "         ((0.00964, 16), (0.05369, 16), (0.25504, 16), (1.38994, 16)): 1,\n",
       "         ((0.01486, 16), (0.08921, 16), (0.24493, 16), (1.38989, 16)): 1,\n",
       "         ((0.0225, 16), (0.15969, 16), (0.2061, 16), (1.38978, 16)): 1,\n",
       "         ((0.02323, 16), (0.17106, 16), (0.19675, 16), (1.38977, 16)): 1,\n",
       "         ((0.01964, 16), (0.12318, 16), (0.22974, 16), (1.38983, 16)): 1,\n",
       "         ((0.00466, 16), (0.0374, 16), (0.25798, 16), (1.38996, 16)): 1,\n",
       "         ((0.02013, 16), (0.12712, 16), (0.22758, 16), (1.38982, 16)): 1,\n",
       "         ((0.02312, 16), (0.16419, 16), (0.2025, 16), (1.38977, 16)): 1,\n",
       "         ((0.01681, 16), (0.10704, 16), (0.23774, 16), (1.38986, 16)): 1,\n",
       "         ((0.01671, 16), (0.1002, 16), (0.24064, 16), (1.38987, 16)): 1,\n",
       "         ((0.01431, 16), (0.08885, 16), (0.2451, 16), (1.38989, 16)): 1,\n",
       "         ((0.02227, 16), (0.15522, 16), (0.20949, 16), (1.38978, 16)): 1,\n",
       "         ((0.0233, 16), (0.17015, 16), (0.19753, 16), (1.38977, 16)): 1,\n",
       "         ((0.01973, 16), (0.1288, 16), (0.22669, 16), (1.38982, 16)): 1,\n",
       "         ((0.02244, 16), (0.15356, 16), (0.21067, 16), (1.38978, 16)): 1,\n",
       "         ((0.01934, 16), (0.11991, 16), (0.23146, 16), (1.38983, 16)): 1,\n",
       "         ((0.02297, 16), (0.17061, 16), (0.19717, 16), (1.38977, 16)): 1,\n",
       "         ((0.02332, 16), (0.16795, 16), (0.19939, 16), (1.38977, 16)): 1,\n",
       "         ((0.01314, 16), (0.07653, 16), (0.24917, 16), (1.38991, 16)): 1,\n",
       "         ((0.02303, 16), (0.17193, 16), (0.19602, 16), (1.38977, 16)): 1,\n",
       "         ((0.02214, 16), (0.15195, 16), (0.21186, 16), (1.38979, 16)): 1,\n",
       "         ((0.02301, 16), (0.16608, 16), (0.20097, 16), (1.38977, 16)): 1,\n",
       "         ((0.017, 16), (0.10945, 16), (0.23665, 16), (1.38985, 16)): 1,\n",
       "         ((0.02124, 16), (0.14121, 16), (0.21916, 16), (1.3898, 16)): 1,\n",
       "         ((0.02111, 16), (0.1367, 16), (0.22197, 16), (1.38981, 16)): 1,\n",
       "         ((0.02257, 16), (0.16215, 16), (0.20419, 16), (1.38977, 16)): 1,\n",
       "         ((0.01966, 16), (0.1227, 16), (0.23, 16), (1.38983, 16)): 1,\n",
       "         ((0.02229, 16), (0.15185, 16), (0.21192, 16), (1.38979, 16)): 1,\n",
       "         ((0.0231, 16), (0.17195, 16), (0.196, 16), (1.38977, 16)): 1,\n",
       "         ((0.02172, 16), (0.14497, 16), (0.21668, 16), (1.3898, 16)): 1,\n",
       "         ((0.02311, 16), (0.17282, 16), (0.19524, 16), (1.38977, 16)): 1,\n",
       "         ((0.00995, 16), (0.05908, 16), (0.25388, 16), (1.38994, 16)): 1,\n",
       "         ((0.02284, 16), (0.16015, 16), (0.20572, 16), (1.38978, 16)): 1,\n",
       "         ((0.02297, 16), (0.17026, 16), (0.19747, 16), (1.38977, 16)): 1,\n",
       "         ((0.01782, 16), (0.10807, 16), (0.23722, 16), (1.38986, 16)): 1,\n",
       "         ((0.0218, 16), (0.14434, 16), (0.21709, 16), (1.3898, 16)): 1,\n",
       "         ((0.01844, 16), (0.12026, 16), (0.23136, 16), (1.38984, 16)): 1,\n",
       "         ((0.02338, 16), (0.17036, 16), (0.19735, 16), (1.38977, 16)): 1,\n",
       "         ((0.02227, 16), (0.15425, 16), (0.2102, 16), (1.38978, 16)): 1,\n",
       "         ((0.01248, 16), (0.08122, 16), (0.24776, 16), (1.3899, 16)): 1,\n",
       "         ((0.01435, 16), (0.08523, 16), (0.24635, 16), (1.3899, 16)): 1,\n",
       "         ((0.01762, 16), (0.11147, 16), (0.23569, 16), (1.38985, 16)): 1,\n",
       "         ((0.02299, 16), (0.17342, 16), (0.19472, 16), (1.38977, 16)): 1,\n",
       "         ((0.02256, 16), (0.15733, 16), (0.2079, 16), (1.38978, 16)): 1,\n",
       "         ((0.01925, 16), (0.11888, 16), (0.232, 16), (1.38984, 16)): 1,\n",
       "         ((0.00059, 16), (0.03068, 16), (0.25889, 16), (1.38997, 16)): 1,\n",
       "         ((0.02126, 16), (0.13818, 16), (0.22106, 16), (1.38981, 16)): 1,\n",
       "         ((0.02331, 16), (0.17162, 16), (0.19627, 16), (1.38977, 16)): 1,\n",
       "         ((0.02197, 16), (0.15491, 16), (0.20975, 16), (1.38978, 16)): 1,\n",
       "         ((0.01266, 16), (0.07828, 16), (0.24868, 16), (1.38991, 16)): 1,\n",
       "         ((0.0135, 16), (0.07705, 16), (0.24901, 16), (1.38991, 16)): 1,\n",
       "         ((0.01793, 16), (0.1161, 16), (0.23348, 16), (1.38984, 16)): 1,\n",
       "         ((0.02285, 16), (0.16469, 16), (0.20214, 16), (1.38977, 16)): 1,\n",
       "         ((0.02267, 16), (0.157, 16), (0.20813, 16), (1.38978, 16)): 1,\n",
       "         ((0.01315, 16), (0.0858, 16), (0.24623, 16), (1.3899, 16)): 1,\n",
       "         ((0.02105, 16), (0.13624, 16), (0.22227, 16), (1.38981, 16)): 1,\n",
       "         ((0.0208, 16), (0.13417, 16), (0.22353, 16), (1.38981, 16)): 1,\n",
       "         ((0.02127, 16), (0.14585, 16), (0.21615, 16), (1.3898, 16)): 1,\n",
       "         ((0.02113, 16), (0.13811, 16), (0.22112, 16), (1.38981, 16)): 1,\n",
       "         ((0.01043, 16), (0.05906, 16), (0.25388, 16), (1.38994, 16)): 1,\n",
       "         ((0.02298, 16), (0.17169, 16), (0.19625, 16), (1.38977, 16)): 1,\n",
       "         ((0.02289, 16), (0.16261, 16), (0.2038, 16), (1.38978, 16)): 1,\n",
       "         ((0.02262, 16), (0.16287, 16), (0.20363, 16), (1.38978, 16)): 1,\n",
       "         ((0.00922, 16), (0.06691, 16), (0.25203, 16), (1.38993, 16)): 1,\n",
       "         ((0.02324, 16), (0.16954, 16), (0.19808, 16), (1.38977, 16)): 1,\n",
       "         ((0.0194, 16), (0.11993, 16), (0.23146, 16), (1.38984, 16)): 1,\n",
       "         ((0.02295, 16), (0.1742, 16), (0.19404, 16), (1.38977, 16)): 1,\n",
       "         ((0.02272, 16), (0.15671, 16), (0.20836, 16), (1.38978, 16)): 1,\n",
       "         ((0.01829, 16), (0.1145, 16), (0.23422, 16), (1.38985, 16)): 1,\n",
       "         ((0.02026, 16), (0.13666, 16), (0.22209, 16), (1.38981, 16)): 1,\n",
       "         ((0.02279, 16), (0.16402, 16), (0.2027, 16), (1.38978, 16)): 1,\n",
       "         ((0.02257, 16), (0.15896, 16), (0.20668, 16), (1.38978, 16)): 1,\n",
       "         ((0.02139, 16), (0.14803, 16), (0.21468, 16), (1.38979, 16)): 1,\n",
       "         ((0.01611, 16), (0.09899, 16), (0.24119, 16), (1.38988, 16)): 1,\n",
       "         ((0.02326, 16), (0.1673, 16), (0.19996, 16), (1.38977, 16)): 1,\n",
       "         ((0.02299, 16), (0.1764, 16), (0.19205, 16), (1.38977, 16)): 1,\n",
       "         ((0.01884, 16), (0.115, 16), (0.23394, 16), (1.38985, 16)): 1,\n",
       "         ((0.02335, 16), (0.17165, 16), (0.19625, 16), (1.38977, 16)): 1,\n",
       "         ((0.02169, 16), (0.1507, 16), (0.21281, 16), (1.38979, 16)): 1,\n",
       "         ((0.02312, 16), (0.16668, 16), (0.20049, 16), (1.38977, 16)): 1,\n",
       "         ((0.02294, 16), (0.17029, 16), (0.19747, 16), (1.38977, 16)): 1,\n",
       "         ((0.00986, 16), (0.05923, 16), (0.25387, 16), (1.38994, 16)): 1,\n",
       "         ((0.01962, 16), (0.12416, 16), (0.22925, 16), (1.38983, 16)): 1,\n",
       "         ((0.02015, 16), (0.13465, 16), (0.22331, 16), (1.38981, 16)): 1,\n",
       "         ((0.02126, 16), (0.1395, 16), (0.22026, 16), (1.38981, 16)): 1,\n",
       "         ((0.02079, 16), (0.13311, 16), (0.22416, 16), (1.38982, 16)): 1,\n",
       "         ((0.00965, 16), (0.06859, 16), (0.25158, 16), (1.38993, 16)): 1,\n",
       "         ((0.02242, 16), (0.15278, 16), (0.21127, 16), (1.38979, 16)): 1,\n",
       "         ((0.02311, 16), (0.17119, 16), (0.19669, 16), (1.38977, 16)): 1,\n",
       "         ((0.01869, 16), (0.12341, 16), (0.22973, 16), (1.38983, 16)): 1,\n",
       "         ((0.01299, 16), (0.07406, 16), (0.24993, 16), (1.38992, 16)): 1,\n",
       "         ((0.01265, 16), (0.07531, 16), (0.24958, 16), (1.38992, 16)): 1,\n",
       "         ((0.02061, 16), (0.14076, 16), (0.21953, 16), (1.3898, 16)): 1,\n",
       "         ((0.02326, 16), (0.17366, 16), (0.1945, 16), (1.38977, 16)): 1,\n",
       "         ((0.02182, 16), (0.14449, 16), (0.21701, 16), (1.3898, 16)): 1,\n",
       "         ((0.00356, 16), (0.04341, 16), (0.25711, 16), (1.38996, 16)): 1,\n",
       "         ((0.02035, 16), (0.12846, 16), (0.22686, 16), (1.38982, 16)): 1,\n",
       "         ((0.02207, 16), (0.15013, 16), (0.21317, 16), (1.38979, 16)): 1,\n",
       "         ((0.02285, 16), (0.1748, 16), (0.19353, 16), (1.38977, 16)): 1,\n",
       "         ((0.01816, 16), (0.11743, 16), (0.23282, 16), (1.38984, 16)): 1,\n",
       "         ((0.01691, 16), (0.10273, 16), (0.23961, 16), (1.38987, 16)): 1,\n",
       "         ((0.01075, 16), (0.07042, 16), (0.25105, 16), (1.38992, 16)): 1,\n",
       "         ((0.0229, 16), (0.16852, 16), (0.19899, 16), (1.38977, 16)): 1,\n",
       "         ((0.02337, 16), (0.17223, 16), (0.19575, 16), (1.38977, 16)): 1,\n",
       "         ((0.01926, 16), (0.12812, 16), (0.22714, 16), (1.38983, 16)): 1,\n",
       "         ((0.02299, 16), (0.16225, 16), (0.20409, 16), (1.38978, 16)): 1,\n",
       "         ((0.01885, 16), (0.11525, 16), (0.23383, 16), (1.38985, 16)): 1,\n",
       "         ((0.0227, 16), (0.16972, 16), (0.198, 16), (1.38977, 16)): 1,\n",
       "         ((0.02327, 16), (0.16913, 16), (0.19844, 16), (1.38977, 16)): 1,\n",
       "         ((0.01281, 16), (0.07674, 16), (0.24915, 16), (1.38991, 16)): 1,\n",
       "         ((0.02228, 16), (0.16082, 16), (0.20529, 16), (1.38978, 16)): 1,\n",
       "         ((0.02271, 16), (0.1608, 16), (0.20526, 16), (1.38978, 16)): 1,\n",
       "         ((0.02309, 16), (0.17671, 16), (0.19177, 16), (1.38977, 16)): 1,\n",
       "         ((0.01688, 16), (0.11161, 16), (0.2357, 16), (1.38985, 16)): 1,\n",
       "         ((0.02091, 16), (0.13724, 16), (0.22169, 16), (1.38981, 16)): 1,\n",
       "         ((0.02175, 16), (0.14332, 16), (0.21779, 16), (1.3898, 16)): 1,\n",
       "         ((0.02291, 16), (0.1803, 16), (0.18843, 16), (1.38977, 16)): 1,\n",
       "         ((0.02131, 16), (0.13835, 16), (0.22098, 16), (1.38981, 16)): 1,\n",
       "         ((0.02204, 16), (0.15104, 16), (0.21255, 16), (1.38979, 16)): 1,\n",
       "         ((0.01309, 16), (0.08827, 16), (0.2454, 16), (1.3899, 16)): 1,\n",
       "         ((0.02299, 16), (0.17211, 16), (0.19591, 16), (1.38977, 16)): 1,\n",
       "         ((0.02301, 16), (0.16846, 16), (0.19903, 16), (1.38977, 16)): 1,\n",
       "         ((0.02272, 16), (0.17104, 16), (0.19687, 16), (1.38977, 16)): 1,\n",
       "         ((0.01265, 16), (0.07199, 16), (0.25054, 16), (1.38992, 16)): 1,\n",
       "         ((0.02281, 16), (0.15904, 16), (0.20661, 16), (1.38978, 16)): 1,\n",
       "         ((0.02164, 16), (0.15331, 16), (0.21097, 16), (1.38979, 16)): 1,\n",
       "         ((0.02065, 16), (0.13158, 16), (0.22507, 16), (1.38982, 16)): 1,\n",
       "         ((0.02273, 16), (0.15828, 16), (0.2072, 16), (1.38978, 16)): 1,\n",
       "         ((0.01638, 16), (0.10664, 16), (0.23798, 16), (1.38986, 16)): 1,\n",
       "         ((0.02303, 16), (0.16512, 16), (0.2018, 16), (1.38978, 16)): 1,\n",
       "         ((0.02303, 16), (0.17609, 16), (0.19235, 16), (1.38977, 16)): 1,\n",
       "         ((0.01472, 16), (0.09443, 16), (0.24307, 16), (1.38989, 16)): 1,\n",
       "         ((0.01648, 16), (0.0975, 16), (0.24177, 16), (1.38988, 16)): 1,\n",
       "         ((0.01428, 16), (0.09177, 16), (0.24409, 16), (1.38989, 16)): 1,\n",
       "         ((0.0231, 16), (0.16661, 16), (0.20057, 16), (1.38978, 16)): 1,\n",
       "         ((0.02176, 16), (0.14333, 16), (0.21779, 16), (1.3898, 16)): 1,\n",
       "         ((0.0047, 16), (0.02805, 16), (0.25916, 16), (1.38997, 16)): 1,\n",
       "         ((0.02057, 16), (0.13075, 16), (0.22556, 16), (1.38982, 16)): 1,\n",
       "         ((0.02269, 16), (0.16277, 16), (0.20373, 16), (1.38978, 16)): 1,\n",
       "         ((0.02158, 16), (0.1531, 16), (0.21114, 16), (1.38979, 16)): 1,\n",
       "         ((0.01585, 16), (0.09744, 16), (0.24184, 16), (1.38988, 16)): 1,\n",
       "         ((0.01278, 16), (0.07294, 16), (0.25027, 16), (1.38992, 16)): 1,\n",
       "         ((0.01433, 16), (0.09561, 16), (0.24265, 16), (1.38989, 16)): 1,\n",
       "         ((0.02309, 16), (0.17094, 16), (0.19693, 16), (1.38977, 16)): 1,\n",
       "         ((0.02335, 16), (0.16951, 16), (0.19812, 16), (1.38977, 16)): 1,\n",
       "         ((0.01304, 16), (0.08873, 16), (0.24525, 16), (1.3899, 16)): 1,\n",
       "         ((0.02165, 16), (0.14188, 16), (0.21874, 16), (1.38981, 16)): 1,\n",
       "         ((0.01936, 16), (0.12127, 16), (0.23081, 16), (1.38984, 16)): 1,\n",
       "         ((0.02137, 16), (0.14845, 16), (0.21442, 16), (1.3898, 16)): 1,\n",
       "         ((0.02096, 16), (0.13794, 16), (0.22127, 16), (1.38981, 16)): 1,\n",
       "         ((0.00896, 16), (0.04944, 16), (0.25594, 16), (1.38996, 16)): 1,\n",
       "         ((0.023, 16), (0.17644, 16), (0.19204, 16), (1.38977, 16)): 1,\n",
       "         ((0.023, 16), (0.16399, 16), (0.20272, 16), (1.38978, 16)): 1,\n",
       "         ((0.02191, 16), (0.15697, 16), (0.20828, 16), (1.38979, 16)): 1,\n",
       "         ((0.02322, 16), (0.16797, 16), (0.19944, 16), (1.38978, 16)): 1,\n",
       "         ((0.01967, 16), (0.12163, 16), (0.2306, 16), (1.38984, 16)): 1,\n",
       "         ((0.02282, 16), (0.17947, 16), (0.18925, 16), (1.38977, 16)): 1,\n",
       "         ((0.0232, 16), (0.16674, 16), (0.20046, 16), (1.38978, 16)): 1,\n",
       "         ((0.01787, 16), (0.11375, 16), (0.23464, 16), (1.38985, 16)): 1,\n",
       "         ((0.01821, 16), (0.12111, 16), (0.23098, 16), (1.38984, 16)): 1,\n",
       "         ((0.02319, 16), (0.1746, 16), (0.19369, 16), (1.38977, 16)): 1,\n",
       "         ((0.02307, 16), (0.17914, 16), (0.18953, 16), (1.38977, 16)): 1,\n",
       "         ((0.02064, 16), (0.14369, 16), (0.21767, 16), (1.3898, 16)): 1,\n",
       "         ((0.0173, 16), (0.10496, 16), (0.23866, 16), (1.38987, 16)): 1,\n",
       "         ((0.02341, 16), (0.1705, 16), (0.19727, 16), (1.38978, 16)): 1,\n",
       "         ((0.02226, 16), (0.16558, 16), (0.20152, 16), (1.38978, 16)): 1,\n",
       "         ((0.02139, 16), (0.13854, 16), (0.22087, 16), (1.38981, 16)): 1,\n",
       "         ((0.02326, 16), (0.17421, 16), (0.19404, 16), (1.38977, 16)): 1,\n",
       "         ((0.0025, 16), (0.04059, 16), (0.25759, 16), (1.38997, 16)): 1,\n",
       "         ((0.02058, 16), (0.13908, 16), (0.22061, 16), (1.38981, 16)): 1,\n",
       "         ((0.02313, 16), (0.17274, 16), (0.19536, 16), (1.38977, 16)): 1,\n",
       "         ((0.02284, 16), (0.17997, 16), (0.18877, 16), (1.38977, 16)): 1,\n",
       "         ((0.01355, 16), (0.08058, 16), (0.24795, 16), (1.38991, 16)): 1,\n",
       "         ((0.02056, 16), (0.13103, 16), (0.22541, 16), (1.38982, 16)): 1,\n",
       "         ((0.01703, 16), (0.11337, 16), (0.23489, 16), (1.38986, 16)): 1,\n",
       "         ((0.02269, 16), (0.15654, 16), (0.20852, 16), (1.38979, 16)): 1,\n",
       "         ((0.02258, 16), (0.15525, 16), (0.20949, 16), (1.38979, 16)): 1,\n",
       "         ((0.00899, 16), (0.06212, 16), (0.25326, 16), (1.38994, 16)): 1,\n",
       "         ((0.02121, 16), (0.13884, 16), (0.2207, 16), (1.38981, 16)): 1,\n",
       "         ((0.02276, 16), (0.17009, 16), (0.1977, 16), (1.38978, 16)): 1,\n",
       "         ((0.01915, 16), (0.12807, 16), (0.2272, 16), (1.38983, 16)): 1,\n",
       "         ((0.01645, 16), (0.09684, 16), (0.24205, 16), (1.38988, 16)): 1,\n",
       "         ((0.01036, 16), (0.06087, 16), (0.2535, 16), (1.38994, 16)): 1,\n",
       "         ((0.02336, 16), (0.17532, 16), (0.19303, 16), (1.38977, 16)): 1,\n",
       "         ((0.02317, 16), (0.16427, 16), (0.20249, 16), (1.38978, 16)): 1,\n",
       "         ((0.00526, 16), (0.0525, 16), (0.25546, 16), (1.38995, 16)): 1,\n",
       "         ((0.02037, 16), (0.1276, 16), (0.22736, 16), (1.38983, 16)): 1,\n",
       "         ((0.02021, 16), (0.13205, 16), (0.22486, 16), (1.38982, 16)): 1,\n",
       "         ((0.02234, 16), (0.16794, 16), (0.19957, 16), (1.38978, 16)): 1,\n",
       "         ((0.01954, 16), (0.12806, 16), (0.22718, 16), (1.38983, 16)): 1,\n",
       "         ((0.01646, 16), (0.10148, 16), (0.24019, 16), (1.38988, 16)): 1,\n",
       "         ((0.00658, 16), (0.05238, 16), (0.25546, 16), (1.38995, 16)): 1,\n",
       "         ((0.02318, 16), (0.17853, 16), (0.1901, 16), (1.38977, 16)): 1,\n",
       "         ((0.02336, 16), (0.16985, 16), (0.19784, 16), (1.38978, 16)): 1,\n",
       "         ((0.0184, 16), (0.12465, 16), (0.22912, 16), (1.38984, 16)): 1,\n",
       "         ((0.02326, 16), (0.16639, 16), (0.20076, 16), (1.38978, 16)): 1,\n",
       "         ((0.01818, 16), (0.10906, 16), (0.2368, 16), (1.38986, 16)): 1,\n",
       "         ((0.02241, 16), (0.16608, 16), (0.20111, 16), (1.38978, 16)): 1,\n",
       "         ((0.02299, 16), (0.16596, 16), (0.20114, 16), (1.38978, 16)): 1,\n",
       "         ((0.01181, 16), (0.07477, 16), (0.24981, 16), (1.38992, 16)): 1,\n",
       "         ((0.02126, 16), (0.14792, 16), (0.21481, 16), (1.3898, 16)): 1,\n",
       "         ((0.0231, 16), (0.16711, 16), (0.20019, 16), (1.38978, 16)): 1,\n",
       "         ((0.02257, 16), (0.17106, 16), (0.1969, 16), (1.38978, 16)): 1,\n",
       "         ((0.02137, 16), (0.1401, 16), (0.21991, 16), (1.38981, 16)): 1,\n",
       "         ((0.02196, 16), (0.14539, 16), (0.21644, 16), (1.3898, 16)): 1,\n",
       "         ((0.02242, 16), (0.17083, 16), (0.19712, 16), (1.38978, 16)): 1,\n",
       "         ((0.02277, 16), (0.15757, 16), (0.20776, 16), (1.38979, 16)): 1,\n",
       "         ((0.02132, 16), (0.14559, 16), (0.21637, 16), (1.3898, 16)): 1,\n",
       "         ((0.01098, 16), (0.07664, 16), (0.2493, 16), (1.38992, 16)): 1,\n",
       "         ((0.02269, 16), (0.16438, 16), (0.20246, 16), (1.38978, 16)): 1,\n",
       "         ((0.02294, 16), (0.17556, 16), (0.19288, 16), (1.38978, 16)): 1,\n",
       "         ((0.02187, 16), (0.16082, 16), (0.20537, 16), (1.38979, 16)): 1,\n",
       "         ((0.01581, 16), (0.09155, 16), (0.2441, 16), (1.3899, 16)): 1,\n",
       "         ((0.02313, 16), (0.16326, 16), (0.20332, 16), (1.38978, 16)): 1,\n",
       "         ((0.01926, 16), (0.13259, 16), (0.22464, 16), (1.38982, 16)): 1,\n",
       "         ((0.02263, 16), (0.15406, 16), (0.21036, 16), (1.38979, 16)): 1,\n",
       "         ((0.02331, 16), (0.17514, 16), (0.19322, 16), (1.38978, 16)): 1,\n",
       "         ((0.00168, 16), (0.03342, 16), (0.2586, 16), (1.38998, 16)): 1,\n",
       "         ((0.01557, 16), (0.09968, 16), (0.24099, 16), (1.38988, 16)): 1,\n",
       "         ((0.0217, 16), (0.1475, 16), (0.21506, 16), (1.3898, 16)): 1,\n",
       "         ((0.02249, 16), (0.17048, 16), (0.19742, 16), (1.38978, 16)): 1,\n",
       "         ((0.01697, 16), (0.10813, 16), (0.23731, 16), (1.38987, 16)): 1,\n",
       "         ((0.01908, 16), (0.11597, 16), (0.2335, 16), (1.38985, 16)): 1,\n",
       "         ((0.01017, 16), (0.07182, 16), (0.25072, 16), (1.38993, 16)): 1,\n",
       "         ((0.02349, 16), (0.17458, 16), (0.1937, 16), (1.38978, 16)): 1,\n",
       "         ((0.02322, 16), (0.16646, 16), (0.20072, 16), (1.38978, 16)): 1,\n",
       "         ((0.00736, 16), (0.04091, 16), (0.25747, 16), (1.38997, 16)): 1,\n",
       "         ((0.0197, 16), (0.12193, 16), (0.23046, 16), (1.38984, 16)): 1,\n",
       "         ((0.02082, 16), (0.14201, 16), (0.21876, 16), (1.38981, 16)): 1,\n",
       "         ((0.0212, 16), (0.15009, 16), (0.21334, 16), (1.3898, 16)): 1,\n",
       "         ((0.01868, 16), (0.11665, 16), (0.23321, 16), (1.38985, 16)): 1,\n",
       "         ((0.01153, 16), (0.06749, 16), (0.25184, 16), (1.38994, 16)): 1,\n",
       "         ((0.0102, 16), (0.07668, 16), (0.24932, 16), (1.38992, 16)): 1,\n",
       "         ((0.02331, 16), (0.17551, 16), (0.19289, 16), (1.38978, 16)): 1,\n",
       "         ((0.02356, 16), (0.17416, 16), (0.19407, 16), (1.38978, 16)): 1,\n",
       "         ((0.01291, 16), (0.09076, 16), (0.24456, 16), (1.3899, 16)): 1,\n",
       "         ((0.02188, 16), (0.14359, 16), (0.21765, 16), (1.38981, 16)): 1,\n",
       "         ((0.01757, 16), (0.10702, 16), (0.23777, 16), (1.38987, 16)): 1,\n",
       "         ((0.02208, 16), (0.16614, 16), (0.20111, 16), (1.38978, 16)): 1,\n",
       "         ((0.0216, 16), (0.15095, 16), (0.2127, 16), (1.3898, 16)): 1,\n",
       "         ((0.02023, 16), (0.13313, 16), (0.22425, 16), (1.38982, 16)): 1,\n",
       "         ((0.00707, 16), (0.04142, 16), (0.2574, 16), (1.38997, 16)): 1,\n",
       "         ((0.02275, 16), (0.16793, 16), (0.19956, 16), (1.38978, 16)): 1,\n",
       "         ((0.02312, 16), (0.16377, 16), (0.20292, 16), (1.38978, 16)): 1,\n",
       "         ((0.0207, 16), (0.14677, 16), (0.21566, 16), (1.3898, 16)): 1,\n",
       "         ((0.02341, 16), (0.17001, 16), (0.19772, 16), (1.38978, 16)): 1,\n",
       "         ((0.01953, 16), (0.12007, 16), (0.23144, 16), (1.38985, 16)): 1,\n",
       "         ((0.02236, 16), (0.16851, 16), (0.19911, 16), (1.38978, 16)): 1,\n",
       "         ((0.02342, 16), (0.17842, 16), (0.1902, 16), (1.38978, 16)): 1,\n",
       "         ((0.01678, 16), (0.10908, 16), (0.23691, 16), (1.38987, 16)): 1,\n",
       "         ((0.01686, 16), (0.11058, 16), (0.23622, 16), (1.38986, 16)): 1,\n",
       "         ((0.02339, 16), (0.1791, 16), (0.18956, 16), (1.38978, 16)): 1,\n",
       "         ((0.02241, 16), (0.16908, 16), (0.19863, 16), (1.38978, 16)): 1,\n",
       "         ((0.01934, 16), (0.11869, 16), (0.23215, 16), (1.38985, 16)): 1,\n",
       "         ((0.02344, 16), (0.17022, 16), (0.19755, 16), (1.38978, 16)): 1,\n",
       "         ((0.02062, 16), (0.14657, 16), (0.2158, 16), (1.38981, 16)): 1,\n",
       "         ((0.02308, 16), (0.16206, 16), (0.20429, 16), (1.38979, 16)): 1,\n",
       "         ((0.02269, 16), (0.16587, 16), (0.20127, 16), (1.38978, 16)): 1,\n",
       "         ((0.00628, 16), (0.04075, 16), (0.25753, 16), (1.38997, 16)): 1,\n",
       "         ((0.0201, 16), (0.13277, 16), (0.22448, 16), (1.38983, 16)): 1,\n",
       "         ((0.02178, 16), (0.1529, 16), (0.2113, 16), (1.3898, 16)): 1,\n",
       "         ((0.02179, 16), (0.16182, 16), (0.20462, 16), (1.38979, 16)): 1,\n",
       "         ((0.01696, 16), (0.10223, 16), (0.23987, 16), (1.38988, 16)): 1,\n",
       "         ((0.02197, 16), (0.14434, 16), (0.21716, 16), (1.38981, 16)): 1,\n",
       "         ((0.01312, 16), (0.09251, 16), (0.24392, 16), (1.3899, 16)): 1,\n",
       "         ((0.02353, 16), (0.17202, 16), (0.19598, 16), (1.38978, 16)): 1,\n",
       "         ((0.02339, 16), (0.17754, 16), (0.19103, 16), (1.38978, 16)): 1,\n",
       "         ((0.01126, 16), (0.06727, 16), (0.25192, 16), (1.38994, 16)): 1,\n",
       "         ((0.0195, 16), (0.12296, 16), (0.22995, 16), (1.38984, 16)): 1,\n",
       "         ((0.02095, 16), (0.14771, 16), (0.21501, 16), (1.3898, 16)): 1,\n",
       "         ((0.01977, 16), (0.13284, 16), (0.22447, 16), (1.38983, 16)): 1,\n",
       "         ((0.01957, 16), (0.1203, 16), (0.23132, 16), (1.38985, 16)): 1,\n",
       "         ((0.00823, 16), (0.04678, 16), (0.25648, 16), (1.38996, 16)): 1,\n",
       "         ((0.0235, 16), (0.17497, 16), (0.19337, 16), (1.38978, 16)): 1,\n",
       "         ((0.02359, 16), (0.17649, 16), (0.19198, 16), (1.38978, 16)): 1,\n",
       "         ((0.0084, 16), (0.06394, 16), (0.25287, 16), (1.38994, 16)): 1,\n",
       "         ((0.02011, 16), (0.12426, 16), (0.22922, 16), (1.38984, 16)): 1,\n",
       "         ((0.01756, 16), (0.11191, 16), (0.23557, 16), (1.38986, 16)): 1,\n",
       "         ((0.0216, 16), (0.1576, 16), (0.20789, 16), (1.38979, 16)): 1,\n",
       "         ((0.02091, 16), (0.13904, 16), (0.22065, 16), (1.38982, 16)): 1,\n",
       "         ((0.01529, 16), (0.09659, 16), (0.24225, 16), (1.38989, 16)): 1,\n",
       "         ((0.00233, 16), (0.03748, 16), (0.25808, 16), (1.38998, 16)): 1,\n",
       "         ((0.02334, 16), (0.18109, 16), (0.18768, 16), (1.38978, 16)): 1,\n",
       "         ((0.02323, 16), (0.16368, 16), (0.203, 16), (1.38979, 16)): 1,\n",
       "         ((0.01721, 16), (0.11887, 16), (0.23224, 16), (1.38985, 16)): 1,\n",
       "         ((0.02334, 16), (0.16628, 16), (0.20088, 16), (1.38978, 16)): 1,\n",
       "         ((0.01723, 16), (0.1012, 16), (0.24028, 16), (1.38988, 16)): 1,\n",
       "         ((0.02063, 16), (0.14816, 16), (0.21474, 16), (1.3898, 16)): 1,\n",
       "         ((0.02217, 16), (0.16135, 16), (0.20496, 16), (1.38979, 16)): 1,\n",
       "         ((0.02223, 16), (0.15634, 16), (0.20876, 16), (1.38979, 16)): 1,\n",
       "         ((0.01009, 16), (0.07101, 16), (0.25097, 16), (1.38993, 16)): 1,\n",
       "         ((0.02059, 16), (0.13913, 16), (0.22062, 16), (1.38982, 16)): 1,\n",
       "         ((0.0234, 16), (0.17045, 16), (0.19737, 16), (1.38978, 16)): 1,\n",
       "         ((0.02117, 16), (0.15366, 16), (0.21083, 16), (1.3898, 16)): 1,\n",
       "         ((0.02237, 16), (0.14964, 16), (0.21355, 16), (1.3898, 16)): 1,\n",
       "         ((0.02176, 16), (0.14292, 16), (0.21811, 16), (1.38981, 16)): 1,\n",
       "         ((0.02135, 16), (0.15459, 16), (0.21014, 16), (1.3898, 16)): 1,\n",
       "         ((0.02348, 16), (0.17842, 16), (0.19021, 16), (1.38978, 16)): 1,\n",
       "         ((0.01994, 16), (0.13519, 16), (0.22308, 16), (1.38982, 16)): 1,\n",
       "         ((0.01157, 16), (0.07449, 16), (0.24993, 16), (1.38993, 16)): 1,\n",
       "         ((0.02262, 16), (0.15976, 16), (0.20614, 16), (1.38979, 16)): 1,\n",
       "         ((0.02137, 16), (0.15261, 16), (0.21157, 16), (1.3898, 16)): 1,\n",
       "         ((0.01893, 16), (0.11409, 16), (0.23445, 16), (1.38986, 16)): 1,\n",
       "         ((0.02358, 16), (0.17245, 16), (0.19562, 16), (1.38978, 16)): 1,\n",
       "         ((0.01628, 16), (0.11274, 16), (0.23528, 16), (1.38986, 16)): 1,\n",
       "         ((0.0236, 16), (0.17441, 16), (0.19387, 16), (1.38978, 16)): 1,\n",
       "         ((0.02301, 16), (0.17344, 16), (0.1948, 16), (1.38978, 16)): 1,\n",
       "         ((0.00536, 16), (0.04571, 16), (0.25676, 16), (1.38997, 16)): 1,\n",
       "         ((0.01648, 16), (0.10169, 16), (0.24014, 16), (1.38988, 16)): 1,\n",
       "         ((0.01938, 16), (0.12641, 16), (0.22813, 16), (1.38984, 16)): 1,\n",
       "         ((0.02056, 16), (0.14733, 16), (0.21532, 16), (1.38981, 16)): 1,\n",
       "         ((0.01911, 16), (0.12225, 16), (0.23037, 16), (1.38985, 16)): 1,\n",
       "         ((0.02151, 16), (0.13772, 16), (0.22141, 16), (1.38982, 16)): 1,\n",
       "         ((0.00513, 16), (0.05346, 16), (0.25531, 16), (1.38996, 16)): 1,\n",
       "         ((0.02366, 16), (0.17528, 16), (0.19309, 16), (1.38978, 16)): 1,\n",
       "         ((0.02344, 16), (0.17711, 16), (0.19144, 16), (1.38978, 16)): 1,\n",
       "         ((0.0106, 16), (0.06037, 16), (0.25365, 16), (1.38995, 16)): 1,\n",
       "         ((0.01857, 16), (0.1117, 16), (0.2356, 16), (1.38987, 16)): 1,\n",
       "         ((0.01771, 16), (0.11835, 16), (0.23247, 16), (1.38985, 16)): 1,\n",
       "         ((0.02096, 16), (0.14669, 16), (0.21571, 16), (1.38981, 16)): 1,\n",
       "         ((0.02103, 16), (0.13568, 16), (0.2227, 16), (1.38982, 16)): 1,\n",
       "         ((0.00953, 16), (0.06101, 16), (0.25354, 16), (1.38995, 16)): 1,\n",
       "         ((0.02355, 16), (0.17781, 16), (0.19078, 16), (1.38978, 16)): 1,\n",
       "         ((0.02325, 16), (0.16404, 16), (0.20272, 16), (1.38979, 16)): 1,\n",
       "         ((0.0131, 16), (0.09261, 16), (0.2439, 16), (1.3899, 16)): 1,\n",
       "         ((0.02175, 16), (0.14122, 16), (0.21921, 16), (1.38982, 16)): 1,\n",
       "         ((0.01547, 16), (0.0917, 16), (0.2441, 16), (1.3899, 16)): 1,\n",
       "         ((0.02079, 16), (0.14958, 16), (0.21376, 16), (1.38981, 16)): 1,\n",
       "         ((0.02201, 16), (0.15385, 16), (0.21062, 16), (1.3898, 16)): 1,\n",
       "         ((0.01876, 16), (0.12343, 16), (0.22979, 16), (1.38985, 16)): 1,\n",
       "         ((0.0039, 16), (0.03751, 16), (0.25807, 16), (1.38998, 16)): 1,\n",
       "         ((0.02264, 16), (0.16161, 16), (0.20472, 16), (1.38979, 16)): 1,\n",
       "         ((0.0232, 16), (0.16153, 16), (0.20472, 16), (1.38979, 16)): 1,\n",
       "         ((0.01887, 16), (0.13309, 16), (0.22442, 16), (1.38983, 16)): 1,\n",
       "         ((0.02372, 16), (0.1762, 16), (0.19225, 16), (1.38978, 16)): 1,\n",
       "         ((0.01891, 16), (0.11507, 16), (0.23399, 16), (1.38986, 16)): 1,\n",
       "         ((0.01706, 16), (0.11923, 16), (0.23208, 16), (1.38985, 16)): 1,\n",
       "         ((0.02177, 16), (0.15733, 16), (0.20809, 16), (1.3898, 16)): 1,\n",
       "         ((0.0229, 16), (0.16806, 16), (0.19947, 16), (1.38979, 16)): 1,\n",
       "         ((0.01486, 16), (0.10056, 16), (0.24071, 16), (1.38989, 16)): 1,\n",
       "         ((0.017, 16), (0.10786, 16), (0.23747, 16), (1.38987, 16)): 1,\n",
       "         ((0.0236, 16), (0.17906, 16), (0.18961, 16), (1.38978, 16)): 1,\n",
       "         ((0.02036, 16), (0.14549, 16), (0.21658, 16), (1.38981, 16)): 1,\n",
       "         ((0.02152, 16), (0.13758, 16), (0.22151, 16), (1.38982, 16)): 1,\n",
       "         ((0.02322, 16), (0.16462, 16), (0.20226, 16), (1.38979, 16)): 1,\n",
       "         ((0.01862, 16), (0.12893, 16), (0.22682, 16), (1.38984, 16)): 1,\n",
       "         ((0.02359, 16), (0.18131, 16), (0.18747, 16), (1.38978, 16)): 1,\n",
       "         ((0.02124, 16), (0.149, 16), (0.21412, 16), (1.38981, 16)): 1,\n",
       "         ((0.00983, 16), (0.05433, 16), (0.25501, 16), (1.38996, 16)): 1,\n",
       "         ((0.02059, 16), (0.13365, 16), (0.22395, 16), (1.38983, 16)): 1,\n",
       "         ((0.01901, 16), (0.12825, 16), (0.22717, 16), (1.38984, 16)): 1,\n",
       "         ((0.01967, 16), (0.14078, 16), (0.21969, 16), (1.38982, 16)): 1,\n",
       "         ((0.01989, 16), (0.12374, 16), (0.22954, 16), (1.38985, 16)): 1,\n",
       "         ((0.02327, 16), (0.1621, 16), (0.20427, 16), (1.38979, 16)): 1,\n",
       "         ((0.00914, 16), (0.07475, 16), (0.24997, 16), (1.38993, 16)): 1,\n",
       "         ((0.0237, 16), (0.17485, 16), (0.19349, 16), (1.38978, 16)): 1,\n",
       "         ((0.02288, 16), (0.16804, 16), (0.19949, 16), (1.38979, 16)): 1,\n",
       "         ((0.00907, 16), (0.07293, 16), (0.2505, 16), (1.38994, 16)): 1,\n",
       "         ((0.01438, 16), (0.0824, 16), (0.24738, 16), (1.38992, 16)): 1,\n",
       "         ((0.01731, 16), (0.1057, 16), (0.2384, 16), (1.38988, 16)): 1,\n",
       "         ((0.01765, 16), (0.12237, 16), (0.23044, 16), (1.38985, 16)): 1,\n",
       "         ((0.02061, 16), (0.13814, 16), (0.22126, 16), (1.38982, 16)): 1,\n",
       "         ((0.02204, 16), (0.1436, 16), (0.21767, 16), (1.38981, 16)): 1,\n",
       "         ((0.0065, 16), (0.0353, 16), (0.25833, 16), (1.38998, 16)): 1,\n",
       "         ((0.02363, 16), (0.17192, 16), (0.19609, 16), (1.38979, 16)): 1,\n",
       "         ((0.023, 16), (0.16194, 16), (0.20443, 16), (1.38979, 16)): 1,\n",
       "         ((0.01172, 16), (0.07712, 16), (0.24917, 16), (1.38993, 16)): 1,\n",
       "         ((0.01947, 16), (0.1182, 16), (0.23242, 16), (1.38986, 16)): 1,\n",
       "         ((0.01414, 16), (0.09051, 16), (0.24462, 16), (1.38991, 16)): 1,\n",
       "         ((0.02082, 16), (0.14701, 16), (0.21553, 16), (1.38981, 16)): 1,\n",
       "         ((0.02217, 16), (0.15038, 16), (0.21309, 16), (1.38981, 16)): 1,\n",
       "         ((0.01324, 16), (0.08801, 16), (0.24556, 16), (1.38991, 16)): 1,\n",
       "         ((0.02355, 16), (0.17832, 16), (0.19032, 16), (1.38978, 16)): 1,\n",
       "         ((0.0229, 16), (0.15513, 16), (0.20961, 16), (1.3898, 16)): 1,\n",
       "         ((0.01588, 16), (0.11142, 16), (0.23594, 16), (1.38987, 16)): 1,\n",
       "         ((0.02317, 16), (0.16122, 16), (0.20498, 16), (1.38979, 16)): 1,\n",
       "         ((0.01591, 16), (0.09156, 16), (0.24414, 16), (1.3899, 16)): 1,\n",
       "         ((0.0184, 16), (0.12871, 16), (0.22697, 16), (1.38984, 16)): 1,\n",
       "         ((0.02212, 16), (0.15715, 16), (0.2082, 16), (1.3898, 16)): 1,\n",
       "         ((0.02059, 16), (0.14025, 16), (0.21995, 16), (1.38982, 16)): 1,\n",
       "         ((0.0076, 16), (0.06593, 16), (0.25243, 16), (1.38995, 16)): 1,\n",
       "         ((0.02075, 16), (0.13678, 16), (0.22208, 16), (1.38983, 16)): 1,\n",
       "         ((0.02362, 16), (0.17056, 16), (0.19728, 16), (1.38979, 16)): 1,\n",
       "         ((0.01864, 16), (0.13254, 16), (0.22478, 16), (1.38983, 16)): 1,\n",
       "         ((0.02343, 16), (0.16451, 16), (0.20235, 16), (1.38979, 16)): 1,\n",
       "         ((0.02103, 16), (0.13555, 16), (0.2228, 16), (1.38983, 16)): 1,\n",
       "         ((0.01094, 16), (0.08462, 16), (0.24683, 16), (1.38992, 16)): 1,\n",
       "         ((0.02022, 16), (0.14045, 16), (0.21986, 16), (1.38982, 16)): 1,\n",
       "         ((0.02298, 16), (0.16795, 16), (0.19957, 16), (1.38979, 16)): 1,\n",
       "         ((0.01756, 16), (0.11955, 16), (0.2319, 16), (1.38986, 16)): 1,\n",
       "         ((0.01412, 16), (0.08335, 16), (0.2471, 16), (1.38992, 16)): 1,\n",
       "         ((0.02298, 16), (0.16069, 16), (0.20542, 16), (1.3898, 16)): 1,\n",
       "         ((0.01813, 16), (0.12594, 16), (0.22852, 16), (1.38984, 16)): 1,\n",
       "         ((0.0216, 16), (0.13768, 16), (0.22146, 16), (1.38983, 16)): 1,\n",
       "         ((0.02375, 16), (0.17854, 16), (0.1901, 16), (1.38978, 16)): 1,\n",
       "         ((0.01376, 16), (0.09676, 16), (0.24231, 16), (1.3899, 16)): 1,\n",
       "         ((0.02347, 16), (0.17058, 16), (0.19729, 16), (1.38979, 16)): 1,\n",
       "         ((0.02136, 16), (0.15, 16), (0.21344, 16), (1.38981, 16)): 1,\n",
       "         ((0.00952, 16), (0.06151, 16), (0.25345, 16), (1.38995, 16)): 1,\n",
       "         ((0.01852, 16), (0.11262, 16), (0.23521, 16), (1.38987, 16)): 1,\n",
       "         ((0.0161, 16), (0.10335, 16), (0.2395, 16), (1.38988, 16)): 1,\n",
       "         ((0.01723, 16), (0.1222, 16), (0.23057, 16), (1.38985, 16)): 1,\n",
       "         ((0.02103, 16), (0.13667, 16), (0.22213, 16), (1.38983, 16)): 1,\n",
       "         ((0.0233, 16), (0.16077, 16), (0.20532, 16), (1.3898, 16)): 1,\n",
       "         ((0.00099, 16), (0.04104, 16), (0.2576, 16), (1.38998, 16)): 1,\n",
       "         ((0.02355, 16), (0.16672, 16), (0.20054, 16), (1.38979, 16)): 1,\n",
       "         ((0.02227, 16), (0.15469, 16), (0.21002, 16), (1.3898, 16)): 1,\n",
       "         ((0.01269, 16), (0.09369, 16), (0.24354, 16), (1.3899, 16)): 1,\n",
       "         ((0.0142, 16), (0.08188, 16), (0.24757, 16), (1.38992, 16)): 1,\n",
       "         ((0.01713, 16), (0.10006, 16), (0.24079, 16), (1.38989, 16)): 1,\n",
       "         ((0.01329, 16), (0.0932, 16), (0.2437, 16), (1.3899, 16)): 1,\n",
       "         ((0.021, 16), (0.1439, 16), (0.21759, 16), (1.38982, 16)): 1,\n",
       "         ((0.02281, 16), (0.15427, 16), (0.21027, 16), (1.3898, 16)): 1,\n",
       "         ((0.00648, 16), (0.05403, 16), (0.25519, 16), (1.38996, 16)): 1,\n",
       "         ((0.02381, 16), (0.17736, 16), (0.19121, 16), (1.38979, 16)): 1,\n",
       "         ((0.02239, 16), (0.14902, 16), (0.21402, 16), (1.38981, 16)): 1,\n",
       "         ((0.0139, 16), (0.09495, 16), (0.24301, 16), (1.3899, 16)): 1,\n",
       "         ((0.02114, 16), (0.13446, 16), (0.22345, 16), (1.38983, 16)): 1,\n",
       "         ((0.01311, 16), (0.07568, 16), (0.24954, 16), (1.38993, 16)): 1,\n",
       "         ((0.01939, 16), (0.1343, 16), (0.2237, 16), (1.38983, 16)): 1,\n",
       "         ((0.0226, 16), (0.1576, 16), (0.20783, 16), (1.3898, 16)): 1,\n",
       "         ((0.01624, 16), (0.10836, 16), (0.23733, 16), (1.38988, 16)): 1,\n",
       "         ((0.02292, 16), (0.16043, 16), (0.20564, 16), (1.3898, 16)): 1,\n",
       "         ((0.02314, 16), (0.15703, 16), (0.2082, 16), (1.3898, 16)): 1,\n",
       "         ((0.01643, 16), (0.11676, 16), (0.23338, 16), (1.38986, 16)): 1,\n",
       "         ((0.02381, 16), (0.17629, 16), (0.19219, 16), (1.38979, 16)): 1,\n",
       "         ((0.01769, 16), (0.10627, 16), (0.23815, 16), (1.38988, 16)): 1,\n",
       "         ((0.01394, 16), (0.0998, 16), (0.2411, 16), (1.38989, 16)): 1,\n",
       "         ((0.02139, 16), (0.14831, 16), (0.21461, 16), (1.38981, 16)): 1,\n",
       "         ((0.02112, 16), (0.14533, 16), (0.21664, 16), (1.38982, 16)): 1,\n",
       "         ((0.01187, 16), (0.08807, 16), (0.24562, 16), (1.38991, 16)): 1,\n",
       "         ((0.01852, 16), (0.11418, 16), (0.23448, 16), (1.38987, 16)): 1,\n",
       "         ((0.02389, 16), (0.18056, 16), (0.18818, 16), (1.38979, 16)): 1,\n",
       "         ((0.01668, 16), (0.11885, 16), (0.23233, 16), (1.38986, 16)): 1,\n",
       "         ((0.02329, 16), (0.15929, 16), (0.20648, 16), (1.3898, 16)): 1,\n",
       "         ((0.02246, 16), (0.15237, 16), (0.21168, 16), (1.38981, 16)): 1,\n",
       "         ((0.01719, 16), (0.11547, 16), (0.23396, 16), (1.38987, 16)): 1,\n",
       "         ((0.02268, 16), (0.15911, 16), (0.20668, 16), (1.3898, 16)): 1,\n",
       "         ((0.01836, 16), (0.12579, 16), (0.2286, 16), (1.38985, 16)): 1,\n",
       "         ((0.0133, 16), (0.07456, 16), (0.24987, 16), (1.38994, 16)): 1,\n",
       "         ((0.02181, 16), (0.14203, 16), (0.21873, 16), (1.38982, 16)): 1,\n",
       "         ((0.0147, 16), (0.10102, 16), (0.24057, 16), (1.38989, 16)): 1,\n",
       "         ((0.02219, 16), (0.14482, 16), (0.21688, 16), (1.38982, 16)): 1,\n",
       "         ((0.0239, 16), (0.18205, 16), (0.18675, 16), (1.38979, 16)): 1,\n",
       "         ((0.00792, 16), (0.06457, 16), (0.25278, 16), (1.38995, 16)): 1,\n",
       "         ((0.02315, 16), (0.1596, 16), (0.20626, 16), (1.3898, 16)): 1,\n",
       "         ((0.02069, 16), (0.14076, 16), (0.21964, 16), (1.38982, 16)): 1,\n",
       "         ((0.01083, 16), (0.07754, 16), (0.2491, 16), (1.38993, 16)): 1,\n",
       "         ((0.01763, 16), (0.10316, 16), (0.23949, 16), (1.38989, 16)): 1,\n",
       "         ((0.01474, 16), (0.08748, 16), (0.24568, 16), (1.38992, 16)): 1,\n",
       "         ((0.01283, 16), (0.09563, 16), (0.24282, 16), (1.3899, 16)): 1,\n",
       "         ((0.02161, 16), (0.14429, 16), (0.21729, 16), (1.38982, 16)): 1,\n",
       "         ((0.02363, 16), (0.16617, 16), (0.201, 16), (1.38979, 16)): 1,\n",
       "         ((0.00505, 16), (0.0316, 16), (0.25885, 16), (1.38999, 16)): 1,\n",
       "         ((0.02366, 16), (0.16643, 16), (0.20078, 16), (1.38979, 16)): 1,\n",
       "         ((0.0214, 16), (0.14044, 16), (0.21979, 16), (1.38982, 16)): 1,\n",
       "         ((0.01385, 16), (0.10186, 16), (0.24027, 16), (1.38989, 16)): 1,\n",
       "         ((0.01489, 16), (0.09157, 16), (0.24422, 16), (1.38991, 16)): 1,\n",
       "         ((0.01834, 16), (0.10907, 16), (0.23687, 16), (1.38988, 16)): 1,\n",
       "         ((0.01008, 16), (0.06861, 16), (0.25167, 16), (1.38995, 16)): 1,\n",
       "         ((0.02033, 16), (0.13795, 16), (0.22143, 16), (1.38983, 16)): 1,\n",
       "         ((0.02325, 16), (0.16202, 16), (0.20437, 16), (1.3898, 16)): 1,\n",
       "         ((0.00995, 16), (0.07544, 16), (0.24977, 16), (1.38994, 16)): 1,\n",
       "         ((0.02388, 16), (0.17899, 16), (0.18969, 16), (1.38979, 16)): 1,\n",
       "         ((0.0223, 16), (0.14482, 16), (0.21688, 16), (1.38982, 16)): 1,\n",
       "         ((0.01482, 16), (0.10318, 16), (0.23967, 16), (1.38989, 16)): 1,\n",
       "         ((0.0225, 16), (0.15028, 16), (0.21316, 16), (1.38981, 16)): 1,\n",
       "         ((0.01411, 16), (0.07997, 16), (0.2482, 16), (1.38993, 16)): 1,\n",
       "         ((0.01648, 16), (0.11221, 16), (0.23557, 16), (1.38987, 16)): 1,\n",
       "         ((0.02239, 16), (0.15477, 16), (0.20997, 16), (1.38981, 16)): 1,\n",
       "         ((0.01752, 16), (0.11738, 16), (0.23301, 16), (1.38986, 16)): 1,\n",
       "         ((0.00479, 16), (0.06016, 16), (0.25391, 16), (1.38996, 16)): 1,\n",
       "         ((0.02173, 16), (0.14187, 16), (0.21885, 16), (1.38982, 16)): 1,\n",
       "         ((0.02372, 16), (0.16716, 16), (0.20017, 16), (1.38979, 16)): 1,\n",
       "         ((0.0149, 16), (0.10847, 16), (0.23738, 16), (1.38988, 16)): 1,\n",
       "         ((0.02401, 16), (0.18204, 16), (0.18677, 16), (1.38979, 16)): 1,\n",
       "         ((0.01956, 16), (0.12264, 16), (0.23018, 16), (1.38985, 16)): 1,\n",
       "         ((0.00788, 16), (0.06879, 16), (0.2517, 16), (1.38995, 16)): 1,\n",
       "         ((0.01967, 16), (0.1305, 16), (0.22589, 16), (1.38984, 16)): 1,\n",
       "         ((0.02084, 16), (0.14031, 16), (0.21993, 16), (1.38983, 16)): 1,\n",
       "         ((0.01358, 16), (0.09797, 16), (0.24187, 16), (1.3899, 16)): 1,\n",
       "         ((0.01719, 16), (0.10059, 16), (0.2406, 16), (1.38989, 16)): 1,\n",
       "         ((0.02365, 16), (0.16763, 16), (0.1998, 16), (1.38979, 16)): 1,\n",
       "         ((0.01295, 16), (0.0963, 16), (0.24256, 16), (1.3899, 16)): 1,\n",
       "         ((0.02348, 16), (0.16124, 16), (0.20497, 16), (1.3898, 16)): 1,\n",
       "         ((0.02312, 16), (0.1614, 16), (0.20489, 16), (1.3898, 16)): 1,\n",
       "         ((0.01337, 16), (0.08845, 16), (0.24543, 16), (1.38992, 16)): 1,\n",
       "         ((0.02216, 16), (0.14798, 16), (0.21478, 16), (1.38982, 16)): 1,\n",
       "         ((0.0178, 16), (0.12033, 16), (0.23152, 16), (1.38986, 16)): 1,\n",
       "         ((0.0133, 16), (0.07902, 16), (0.24855, 16), (1.38993, 16)): 1,\n",
       "         ((0.02092, 16), (0.1302, 16), (0.22596, 16), (1.38984, 16)): 1,\n",
       "         ((0.01194, 16), (0.07888, 16), (0.24866, 16), (1.38993, 16)): 1,\n",
       "         ((0.02264, 16), (0.15121, 16), (0.2125, 16), (1.38981, 16)): 1,\n",
       "         ((0.02404, 16), (0.18352, 16), (0.18531, 16), (1.38979, 16)): 1,\n",
       "         ((0.00657, 16), (0.04202, 16), (0.25739, 16), (1.38998, 16)): 1,\n",
       "         ((0.02309, 16), (0.15509, 16), (0.20967, 16), (1.38981, 16)): 1,\n",
       "         ((0.01958, 16), (0.12703, 16), (0.22784, 16), (1.38985, 16)): 1,\n",
       "         ((0.01177, 16), (0.08638, 16), (0.24623, 16), (1.38992, 16)): 1,\n",
       "         ((0.01765, 16), (0.10405, 16), (0.23913, 16), (1.38989, 16)): 1,\n",
       "         ((0.01531, 16), (0.08702, 16), (0.24582, 16), (1.38992, 16)): 1,\n",
       "         ((0.00728, 16), (0.06764, 16), (0.25203, 16), (1.38995, 16)): 1,\n",
       "         ((0.02143, 16), (0.14271, 16), (0.21835, 16), (1.38982, 16)): 1,\n",
       "         ((0.02392, 16), (0.17215, 16), (0.19591, 16), (1.38979, 16)): 1,\n",
       "         ((0.00195, 16), (0.04735, 16), (0.25657, 16), (1.38998, 16)): 1,\n",
       "         ((0.024, 16), (0.17391, 16), (0.19435, 16), (1.38979, 16)): 1,\n",
       "         ((0.02097, 16), (0.13204, 16), (0.2249, 16), (1.38984, 16)): 1,\n",
       "         ((0.0126, 16), (0.09631, 16), (0.24258, 16), (1.3899, 16)): 1,\n",
       "         ((0.01539, 16), (0.09841, 16), (0.2416, 16), (1.3899, 16)): 1,\n",
       "         ((0.01989, 16), (0.12271, 16), (0.23013, 16), (1.38986, 16)): 1,\n",
       "         ((0.01065, 16), (0.05963, 16), (0.25387, 16), (1.38996, 16)): 1,\n",
       "         ((0.0186, 16), (0.1223, 16), (0.23045, 16), (1.38986, 16)): 1,\n",
       "         ((0.02331, 16), (0.16257, 16), (0.20395, 16), (1.3898, 16)): 1,\n",
       "         ((0.012, 16), (0.08665, 16), (0.24614, 16), (1.38992, 16)): 1,\n",
       "         ((0.02357, 16), (0.16516, 16), (0.20185, 16), (1.3898, 16)): 1,\n",
       "         ((0.02284, 16), (0.15003, 16), (0.21331, 16), (1.38981, 16)): 1,\n",
       "         ((0.0138, 16), (0.09866, 16), (0.2416, 16), (1.3899, 16)): 1,\n",
       "         ((0.02324, 16), (0.16013, 16), (0.20587, 16), (1.3898, 16)): 1,\n",
       "         ((0.0157, 16), (0.09304, 16), (0.24365, 16), (1.38991, 16)): 1,\n",
       "         ((0.01258, 16), (0.08629, 16), (0.24623, 16), (1.38992, 16)): 1,\n",
       "         ((0.02153, 16), (0.14305, 16), (0.21812, 16), (1.38982, 16)): 1,\n",
       "         ((0.01744, 16), (0.11513, 16), (0.23413, 16), (1.38987, 16)): 1,\n",
       "         ((0.00727, 16), (0.07104, 16), (0.25113, 16), (1.38995, 16)): 1,\n",
       "         ((0.02069, 16), (0.12845, 16), (0.22697, 16), (1.38985, 16)): 1,\n",
       "         ((0.02413, 16), (0.17905, 16), (0.18963, 16), (1.38979, 16)): 1,\n",
       "         ((0.01112, 16), (0.08897, 16), (0.24537, 16), (1.38992, 16)): 1,\n",
       "         ((0.02414, 16), (0.18213, 16), (0.18668, 16), (1.38979, 16)): 1,\n",
       "         ((0.02074, 16), (0.13295, 16), (0.2244, 16), (1.38984, 16)): 1,\n",
       "         ((0.00457, 16), (0.0438, 16), (0.25716, 16), (1.38998, 16)): 1,\n",
       "         ((0.0173, 16), (0.10922, 16), (0.2369, 16), (1.38988, 16)): 1,\n",
       "         ((0.02015, 16), (0.1301, 16), (0.22609, 16), (1.38984, 16)): 1,\n",
       "         ((0.01315, 16), (0.09485, 16), (0.24312, 16), (1.38991, 16)): 1,\n",
       "         ((0.01683, 16), (0.09723, 16), (0.24198, 16), (1.3899, 16)): 1,\n",
       "         ((0.02325, 16), (0.15671, 16), (0.20847, 16), (1.38981, 16)): 1,\n",
       "         ((0.00848, 16), (0.07137, 16), (0.251, 16), (1.38995, 16)): 1,\n",
       "         ((0.02374, 16), (0.16515, 16), (0.20184, 16), (1.3898, 16)): 1,\n",
       "         ((0.02336, 16), (0.16264, 16), (0.2039, 16), (1.3898, 16)): 1,\n",
       "         ((0.0109, 16), (0.06692, 16), (0.2521, 16), (1.38995, 16)): 1,\n",
       "         ((0.02191, 16), (0.14099, 16), (0.21942, 16), (1.38983, 16)): 1,\n",
       "         ((0.01645, 16), (0.10738, 16), (0.23778, 16), (1.38989, 16)): 1,\n",
       "         ((0.01337, 16), (0.08387, 16), (0.24701, 16), (1.38993, 16)): 1,\n",
       "         ((0.02065, 16), (0.12647, 16), (0.22807, 16), (1.38985, 16)): 1,\n",
       "         ((0.01197, 16), (0.06892, 16), (0.25153, 16), (1.38995, 16)): 1,\n",
       "         ((0.02268, 16), (0.15149, 16), (0.21231, 16), (1.38981, 16)): 1,\n",
       "         ((0.02417, 16), (0.1806, 16), (0.18816, 16), (1.38979, 16)): 1,\n",
       "         ((0.00633, 16), (0.03896, 16), (0.25788, 16), (1.38999, 16)): 1,\n",
       "         ((0.02347, 16), (0.15874, 16), (0.20692, 16), (1.38981, 16)): 1,\n",
       "         ((0.01885, 16), (0.11608, 16), (0.23358, 16), (1.38987, 16)): 1,\n",
       "         ((0.01067, 16), (0.08248, 16), (0.2476, 16), (1.38993, 16)): 1,\n",
       "         ((0.01779, 16), (0.10687, 16), (0.23792, 16), (1.38989, 16)): 1,\n",
       "         ((0.01659, 16), (0.09635, 16), (0.24235, 16), (1.3899, 16)): 1,\n",
       "         ((0.00609, 16), (0.04782, 16), (0.25644, 16), (1.38998, 16)): 1,\n",
       "         ((0.02049, 16), (0.13207, 16), (0.22495, 16), (1.38984, 16)): 1,\n",
       "         ((0.02406, 16), (0.17385, 16), (0.19441, 16), (1.38979, 16)): 1,\n",
       "         ((0.00447, 16), (0.05774, 16), (0.25449, 16), (1.38997, 16)): 1,\n",
       "         ((0.02424, 16), (0.18318, 16), (0.18565, 16), (1.38979, 16)): 1,\n",
       "         ((0.02134, 16), (0.13292, 16), (0.22438, 16), (1.38984, 16)): 1,\n",
       "         ((0.01476, 16), (0.09534, 16), (0.24285, 16), (1.38991, 16)): 1,\n",
       "         ((0.021, 16), (0.13258, 16), (0.22461, 16), (1.38984, 16)): 1,\n",
       "         ((0.01176, 16), (0.06618, 16), (0.25226, 16), (1.38996, 16)): 1,\n",
       "         ((0.01617, 16), (0.10178, 16), (0.2402, 16), (1.3899, 16)): 1,\n",
       "         ((0.02297, 16), (0.15519, 16), (0.20963, 16), (1.38981, 16)): 1,\n",
       "         ((0.0121, 16), (0.08514, 16), (0.24666, 16), (1.38993, 16)): 1,\n",
       "         ((0.0231, 16), (0.15387, 16), (0.21058, 16), (1.38981, 16)): 1,\n",
       "         ((0.02355, 16), (0.15975, 16), (0.20615, 16), (1.38981, 16)): 1,\n",
       "         ((0.01061, 16), (0.08162, 16), (0.24788, 16), (1.38993, 16)): 1,\n",
       "         ((0.02356, 16), (0.16295, 16), (0.20365, 16), (1.3898, 16)): 1,\n",
       "         ((0.01706, 16), (0.10287, 16), (0.23969, 16), (1.38989, 16)): 1,\n",
       "         ((0.00982, 16), (0.06383, 16), (0.25293, 16), (1.38996, 16)): 1,\n",
       "         ((0.02016, 16), (0.1269, 16), (0.22789, 16), (1.38985, 16)): 1,\n",
       "         ((0.01662, 16), (0.10508, 16), (0.23878, 16), (1.38989, 16)): 1,\n",
       "         ((0.00639, 16), (0.06758, 16), (0.25209, 16), (1.38995, 16)): 1,\n",
       "         ((0.02022, 16), (0.12253, 16), (0.23022, 16), (1.38986, 16)): 1,\n",
       "         ((0.02427, 16), (0.17991, 16), (0.18881, 16), (1.38979, 16)): 1,\n",
       "         ((0.00479, 16), (0.06285, 16), (0.25331, 16), (1.38996, 16)): 1,\n",
       "         ((0.0243, 16), (0.18368, 16), (0.18515, 16), (1.38979, 16)): 1,\n",
       "         ((0.02119, 16), (0.1352, 16), (0.22306, 16), (1.38984, 16)): 1,\n",
       "         ((0.00642, 16), (0.0346, 16), (0.25849, 16), (1.38999, 16)): 1,\n",
       "         ((0.01538, 16), (0.09117, 16), (0.24438, 16), (1.38992, 16)): 1,\n",
       "         ((0.01972, 16), (0.12157, 16), (0.23076, 16), (1.38986, 16)): 1,\n",
       "         ((0.01136, 16), (0.08091, 16), (0.24808, 16), (1.38993, 16)): 1,\n",
       "         ((0.0167, 16), (0.09738, 16), (0.24195, 16), (1.3899, 16)): 1,\n",
       "         ((0.02307, 16), (0.1518, 16), (0.21207, 16), (1.38982, 16)): 1,\n",
       "         ((0.00764, 16), (0.05353, 16), (0.25531, 16), (1.38997, 16)): 1,\n",
       "         ((0.02385, 16), (0.16566, 16), (0.20143, 16), (1.3898, 16)): 1,\n",
       "         ((0.02343, 16), (0.15954, 16), (0.20633, 16), (1.38981, 16)): 1,\n",
       "         ((0.01036, 16), (0.0569, 16), (0.25451, 16), (1.38997, 16)): 1,\n",
       "         ((0.02224, 16), (0.14183, 16), (0.21887, 16), (1.38983, 16)): 1,\n",
       "         ((0.01546, 16), (0.09407, 16), (0.2433, 16), (1.38991, 16)): 1,\n",
       "         ((0.01258, 16), (0.0794, 16), (0.2485, 16), (1.38994, 16)): 1,\n",
       "         ((0.02064, 16), (0.12623, 16), (0.22822, 16), (1.38985, 16)): 1,\n",
       "         ((0.01306, 16), (0.07258, 16), (0.25049, 16), (1.38995, 16)): 1,\n",
       "         ((0.02223, 16), (0.14401, 16), (0.21746, 16), (1.38983, 16)): 1,\n",
       "         ((0.02431, 16), (0.17922, 16), (0.18947, 16), (1.38979, 16)): 1,\n",
       "         ((0.00446, 16), (0.04208, 16), (0.25746, 16), (1.38999, 16)): 1,\n",
       "         ((0.024, 16), (0.16711, 16), (0.20023, 16), (1.3898, 16)): 1,\n",
       "         ((0.01906, 16), (0.11369, 16), (0.23472, 16), (1.38988, 16)): 1,\n",
       "         ((0.007, 16), (0.06388, 16), (0.25302, 16), (1.38996, 16)): 1,\n",
       "         ((0.01737, 16), (0.10353, 16), (0.2394, 16), (1.38989, 16)): 1,\n",
       "         ((0.01778, 16), (0.1048, 16), (0.23883, 16), (1.38989, 16)): 1,\n",
       "         ((0.0083, 16), (0.04505, 16), (0.25688, 16), (1.38998, 16)): 1,\n",
       "         ((0.01903, 16), (0.116, 16), (0.23362, 16), (1.38987, 16)): 1,\n",
       "         ((0.02403, 16), (0.169, 16), (0.19865, 16), (1.3898, 16)): 1,\n",
       "         ((0.00478, 16), (0.05319, 16), (0.25545, 16), (1.38998, 16)): 1,\n",
       "         ((0.02428, 16), (0.17554, 16), (0.19289, 16), (1.3898, 16)): 1,\n",
       "         ((0.02215, 16), (0.14021, 16), (0.21991, 16), (1.38983, 16)): 1,\n",
       "         ((0.01287, 16), (0.07983, 16), (0.24835, 16), (1.38994, 16)): 1,\n",
       "         ((0.02153, 16), (0.13539, 16), (0.22292, 16), (1.38984, 16)): 1,\n",
       "         ((0.01293, 16), (0.07382, 16), (0.25015, 16), (1.38995, 16)): 1,\n",
       "         ((0.0143, 16), (0.08324, 16), (0.24719, 16), (1.38993, 16)): 1,\n",
       "         ((0.02226, 16), (0.14288, 16), (0.2182, 16), (1.38983, 16)): 1,\n",
       "         ((0.01137, 16), (0.07194, 16), (0.25076, 16), (1.38995, 16)): 1,\n",
       "         ((0.02284, 16), (0.1482, 16), (0.21461, 16), (1.38982, 16)): 1,\n",
       "         ((0.02407, 16), (0.16808, 16), (0.19942, 16), (1.3898, 16)): 1,\n",
       "         ((0.00667, 16), (0.05395, 16), (0.25526, 16), (1.38998, 16)): 1,\n",
       "         ((0.02371, 16), (0.16132, 16), (0.20494, 16), (1.38981, 16)): 1,\n",
       "         ((0.01769, 16), (0.1043, 16), (0.23906, 16), (1.38989, 16)): 1,\n",
       "         ((0.00943, 16), (0.05205, 16), (0.25556, 16), (1.38998, 16)): 1,\n",
       "         ((0.0189, 16), (0.1124, 16), (0.23535, 16), (1.38988, 16)): 1,\n",
       "         ((0.01616, 16), (0.09407, 16), (0.24327, 16), (1.38991, 16)): 1,\n",
       "         ((0.0046, 16), (0.04654, 16), (0.25672, 16), (1.38998, 16)): 1,\n",
       "         ((0.02006, 16), (0.12067, 16), (0.23121, 16), (1.38987, 16)): 1,\n",
       "         ((0.02434, 16), (0.17581, 16), (0.19264, 16), (1.3898, 16)): 1,\n",
       "         ((0.00466, 16), (0.03729, 16), (0.25817, 16), (1.38999, 16)): 1,\n",
       "         ((0.02445, 16), (0.18427, 16), (0.18457, 16), (1.3898, 16)): 1,\n",
       "         ((0.02126, 16), (0.13163, 16), (0.22516, 16), (1.38985, 16)): 1,\n",
       "         ((0.00609, 16), (0.03445, 16), (0.25853, 16), (1.39, 16)): 1,\n",
       "         ((0.01452, 16), (0.08158, 16), (0.24772, 16), (1.38993, 16)): 1,\n",
       "         ((0.02004, 16), (0.1205, 16), (0.2313, 16), (1.38987, 16)): 1,\n",
       "         ...})"
      ]
     },
     "execution_count": 161,
     "metadata": {},
     "output_type": "execute_result"
    }
   ],
   "source": [
    "overall_counter"
   ]
  },
  {
   "cell_type": "markdown",
   "id": "a6ad04fb-4b98-4b67-8847-7ae161823df0",
   "metadata": {},
   "source": [
    "The singular values are always in groups of 4 with 16 each. While the values aren't the same, they are roughly similar from case to case..."
   ]
  },
  {
   "cell_type": "code",
   "execution_count": 164,
   "id": "8c54a6d3-1e3a-4bf0-b6ea-c38d39f05225",
   "metadata": {},
   "outputs": [],
   "source": [
    "right_dists_0_to_1 = np.linalg.norm(test_search.right_projected_symmetry_state - test_search.right_virtual_points[0], axis=-1)"
   ]
  },
  {
   "cell_type": "code",
   "execution_count": 165,
   "id": "1b756469-c431-4c2f-9463-7103dc0bcf91",
   "metadata": {},
   "outputs": [
    {
     "data": {
      "text/plain": [
       "count    1002.000000\n",
       "mean        1.119230\n",
       "std         0.162432\n",
       "min         0.745012\n",
       "25%         0.995039\n",
       "50%         1.130319\n",
       "75%         1.252683\n",
       "max         1.409214\n",
       "dtype: float64"
      ]
     },
     "execution_count": 165,
     "metadata": {},
     "output_type": "execute_result"
    }
   ],
   "source": [
    "pd.Series(right_dists_0_to_1).describe()"
   ]
  },
  {
   "cell_type": "markdown",
   "id": "b4b0b894-f29e-4962-b89b-6f96f80337a2",
   "metadata": {},
   "source": [
    "The points have tended to move far away."
   ]
  },
  {
   "cell_type": "code",
   "execution_count": 168,
   "id": "c39ed126-f5b8-43c7-b59d-15f408c3b78d",
   "metadata": {},
   "outputs": [
    {
     "data": {
      "text/plain": [
       "array([-3.44717492e-04-9.72391989e-02j,  3.44717492e-04+9.72391989e-02j,\n",
       "       -5.46830681e-06+1.54461002e-03j,  5.46830682e-06-1.54461002e-03j,\n",
       "       -1.10823148e-07-3.12614078e-05j,  1.10823147e-07+3.12614078e-05j,\n",
       "        1.75800471e-09-4.96576322e-07j, -1.75800471e-09+4.96576322e-07j])"
      ]
     },
     "execution_count": 168,
     "metadata": {},
     "output_type": "execute_result"
    }
   ],
   "source": [
    "np.linalg.eig(test_search.right_virtual_points[0][0].reshape(8,8)).eigenvalues"
   ]
  },
  {
   "cell_type": "code",
   "execution_count": 169,
   "id": "0c4b5a2f-8221-4e2a-a2bd-e2052d48cb48",
   "metadata": {},
   "outputs": [
    {
     "data": {
      "text/plain": [
       "array([-5.25645837e-05+6.68910498e-01j,  5.25645834e-05-6.68910498e-01j,\n",
       "       -1.76835918e-08-2.39410462e-04j,  1.76835919e-08+2.39410462e-04j,\n",
       "       -1.68989760e-08+2.15047883e-04j,  1.68989759e-08-2.15047883e-04j,\n",
       "        5.68509391e-12+7.69680147e-08j, -5.68509388e-12-7.69680147e-08j])"
      ]
     },
     "execution_count": 169,
     "metadata": {},
     "output_type": "execute_result"
    }
   ],
   "source": [
    "np.linalg.eig(test_search.right_virtual_points[0][1].reshape(8,8)).eigenvalues"
   ]
  },
  {
   "cell_type": "code",
   "execution_count": 170,
   "id": "7a2cc2d1-b2b9-4504-99d4-9f053b6b5a0c",
   "metadata": {},
   "outputs": [
    {
     "data": {
      "text/plain": [
       "array([-3.98700149e-04-2.75468636e-01j,  3.98700147e-04+2.75468636e-01j,\n",
       "       -7.88525421e-07+5.50726533e-04j,  7.88525425e-07-5.50726533e-04j,\n",
       "       -1.28178020e-07-8.85603487e-05j,  1.28178019e-07+8.85603487e-05j,\n",
       "       -2.53502857e-10+1.77052947e-07j,  2.53502858e-10-1.77052947e-07j])"
      ]
     },
     "execution_count": 170,
     "metadata": {},
     "output_type": "execute_result"
    }
   ],
   "source": [
    "np.linalg.eig(test_search.right_virtual_points[0][2].reshape(8,8)).eigenvalues"
   ]
  },
  {
   "cell_type": "markdown",
   "id": "19e2ba4c-ad4d-4f46-980f-521f7c7843b6",
   "metadata": {},
   "source": [
    "Not much of a pattern other than the eigenvalues are real. Can this be inferred from unitarity?"
   ]
  },
  {
   "cell_type": "code",
   "execution_count": 186,
   "id": "525ad4f9-83eb-43fb-98d4-886918c97437",
   "metadata": {},
   "outputs": [
    {
     "data": {
      "text/plain": [
       "array([9.90598993e-02, 9.54559465e-02, 1.57348527e-03, 1.51623944e-03,\n",
       "       3.18467444e-05, 3.06881104e-05, 5.05859421e-07, 4.87455470e-07])"
      ]
     },
     "execution_count": 186,
     "metadata": {},
     "output_type": "execute_result"
    }
   ],
   "source": [
    "np.linalg.svd(test_search.right_virtual_points[0][0].reshape(8,8)).S"
   ]
  },
  {
   "cell_type": "code",
   "execution_count": 188,
   "id": "9fbd91f2-8111-4285-a8e2-05cf27386149",
   "metadata": {},
   "outputs": [
    {
     "data": {
      "text/plain": [
       "array([6.70113288e-01, 6.67709912e-01, 2.39840939e-04, 2.38980744e-04,\n",
       "       2.15434568e-04, 2.14661907e-04, 7.71064086e-08, 7.68298648e-08])"
      ]
     },
     "execution_count": 188,
     "metadata": {},
     "output_type": "execute_result"
    }
   ],
   "source": [
    "np.linalg.svd(test_search.right_virtual_points[0][1].reshape(8,8)).S"
   ]
  },
  {
   "cell_type": "code",
   "execution_count": 187,
   "id": "9633d349-0b2e-4a8b-ad2d-92e9afd8eff6",
   "metadata": {},
   "outputs": [
    {
     "data": {
      "text/plain": [
       "array([2.83456145e-01, 2.67712458e-01, 5.66683382e-04, 5.35208723e-04,\n",
       "       9.11282511e-05, 8.60668169e-05, 1.82182911e-07, 1.72064130e-07])"
      ]
     },
     "execution_count": 187,
     "metadata": {},
     "output_type": "execute_result"
    }
   ],
   "source": [
    "np.linalg.svd(test_search.right_virtual_points[0][2].reshape(8,8)).S"
   ]
  },
  {
   "cell_type": "markdown",
   "id": "6b9bafe9-1773-4031-9a95-b04501c52dcc",
   "metadata": {},
   "source": [
    "The singular values occuring in almost degenerate pairs."
   ]
  },
  {
   "cell_type": "markdown",
   "id": "2c87abb7-1bd4-4c23-bf2f-56de56ead55f",
   "metadata": {},
   "source": [
    "# Conclusions\n",
    "\n",
    "## Hypotheses & further implications\n",
    "* If the on site operators are unitary, what can be inferred regarding the transfer matrix? Perform hermitian conjugation to find out?\n",
    "* The transfer matrices can have singular values greater than one, but the magnitude of the virtual vectors upon repeated application of the transfer matrices never seems to exceed 1. Implies that the vectors we're interessted in are lying in some subscpace, and that the transfer matrices respect these spaces somehow.\n",
    "* Does the optimum occur where the magnitude of the virtual vector is one?\n",
    "* When represented over 4 legs, the dominant/projected states from the bulk symmetry operation take a very particular form. Why?\n",
    "* 2-fold degeneracy of Schmidt values arising from non-trivial SPT phase?"
   ]
  },
  {
   "cell_type": "code",
   "execution_count": null,
   "id": "8d5a6b4d-b3eb-4062-a117-b77b9cc9aa6c",
   "metadata": {},
   "outputs": [],
   "source": []
  }
 ],
 "metadata": {
  "kernelspec": {
   "display_name": "num_spt_venv_p11",
   "language": "python",
   "name": "num_spt_venv_p11"
  },
  "language_info": {
   "codemirror_mode": {
    "name": "ipython",
    "version": 3
   },
   "file_extension": ".py",
   "mimetype": "text/x-python",
   "name": "python",
   "nbconvert_exporter": "python",
   "pygments_lexer": "ipython3",
   "version": "3.11.9"
  }
 },
 "nbformat": 4,
 "nbformat_minor": 5
}
