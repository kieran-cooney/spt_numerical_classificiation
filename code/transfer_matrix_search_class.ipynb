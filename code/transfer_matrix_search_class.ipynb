{
 "cells": [
  {
   "cell_type": "markdown",
   "id": "11ad4e8b-d50f-42de-8bb4-24169d068d6f",
   "metadata": {},
   "source": [
    "# Transfer matrix search class\n",
    "\n",
    "Created 31/05/2024\n",
    "\n",
    "Objectives:\n",
    "* Implement an initial class for transfer matrix search optimization, to eventually be ported off to a .py file.\n",
    "* Just for qubit sites for now."
   ]
  },
  {
   "cell_type": "markdown",
   "id": "3e8c9477-503c-46db-86ff-da67e9caf2ab",
   "metadata": {},
   "source": [
    "# Package imports"
   ]
  },
  {
   "cell_type": "code",
   "execution_count": 12,
   "id": "e84cda8d-ac7a-42ce-9dd7-9c693e73238c",
   "metadata": {},
   "outputs": [],
   "source": [
    "from functools import reduce\n",
    "\n",
    "import numpy as np"
   ]
  },
  {
   "cell_type": "code",
   "execution_count": 11,
   "id": "d274a41f-2d63-426c-9740-7c00d9e87d6d",
   "metadata": {},
   "outputs": [],
   "source": [
    "import h5py\n",
    "from tenpy.tools import hdf5_io\n",
    "import tenpy\n",
    "import tenpy.linalg.np_conserved as npc\n",
    "\n",
    "import os"
   ]
  },
  {
   "cell_type": "code",
   "execution_count": 13,
   "id": "eda65e71-dd0d-43ed-a635-6f131afb97cb",
   "metadata": {},
   "outputs": [],
   "source": [
    "from spt_classification import (\n",
    "    get_transfer_matrix_from_unitary,\n",
    "    get_transfer_matrices_from_unitary_list,\n",
    "    multiply_transfer_matrices,\n",
    "    to_npc_array\n",
    ")\n",
    "\n",
    "from super_fibonacci import super_fibonacci"
   ]
  },
  {
   "cell_type": "code",
   "execution_count": 14,
   "id": "513d7288-c641-4071-a4a3-652787d1f98c",
   "metadata": {},
   "outputs": [],
   "source": [
    "np_I = np.array([[1,0],[0,1]])\n",
    "np_X = np.array([[0,1],[1,0]])\n",
    "np_Y = np.array([[0,-1j],[1j,0]])\n",
    "np_Z = np.array([[1,0],[0,-1]])"
   ]
  },
  {
   "cell_type": "code",
   "execution_count": 15,
   "id": "bb4ff50d-8df4-4e23-be1d-4c775bf97fb9",
   "metadata": {},
   "outputs": [],
   "source": [
    "base_unitaries = np.array([np_I, 1j*np_X, 1j*np_Y, 1j*np_Z])"
   ]
  },
  {
   "cell_type": "code",
   "execution_count": 16,
   "id": "9cb25270-b13b-4a6d-96ec-8c7bfc1bd546",
   "metadata": {},
   "outputs": [],
   "source": [
    "def s3_to_unitary(p):\n",
    "    X = p[0]*np_I + 1j*(p[1]*np_X + p[2]*np_Y + p[3]*np_Z)\n",
    "    return X"
   ]
  },
  {
   "cell_type": "code",
   "execution_count": 17,
   "id": "815a8ada-7332-4b17-bc1d-2f02990b5835",
   "metadata": {},
   "outputs": [],
   "source": [
    "def operator_norm(m):\n",
    "    singular_values = np.linalg.svd(m).S\n",
    "    singular_values_counts = Counter(np.round(singular_values, 3))\n",
    "\n",
    "    norm = max(singular_values_counts.keys())\n",
    "    count = singular_values_counts[norm]\n",
    "\n",
    "    return (norm, count)"
   ]
  },
  {
   "cell_type": "code",
   "execution_count": 18,
   "id": "c3a47a0a-1964-42f1-8766-ede13a14c543",
   "metadata": {},
   "outputs": [],
   "source": [
    "def get_left_environment(psi, index):\n",
    "    left_leg = psi.get_B(index).legs[0]\n",
    "    SL = npc.diag(psi.get_SL(index), left_leg, labels = ['vL', 'vR'])\n",
    "    left_environment = (\n",
    "        npc.tensordot(SL, SL.conj(), (['vL',], ['vL*',]))\n",
    "        .combine_legs([['vR', 'vR*'],])\n",
    "        .to_ndarray()\n",
    "    )\n",
    "\n",
    "    return left_environment"
   ]
  },
  {
   "cell_type": "code",
   "execution_count": 219,
   "id": "3ccd313b-e30e-4234-b473-220f47ebb6fe",
   "metadata": {},
   "outputs": [],
   "source": [
    "class TransferMatrixSearch:\n",
    "    def __init__(self, psi, symmetry_operations, index=None,\n",
    "                 max_num_virtual_points=10000, num_search_points=1000):\n",
    "        self.psi = psi\n",
    "        self.symmetry_operations = symmetry_operations\n",
    "\n",
    "        if index is None:\n",
    "            self.left_symmetry_index = (self.psi.L - len(self.symmetry_operations))//2 \n",
    "        else:\n",
    "            self.left_symmetry_index = index\n",
    "        self.right_symmetry_index = self.left_symmetry_index + len(self.symmetry_operations) - 1\n",
    "\n",
    "        self.symmetry_transfer_matrices = (\n",
    "            get_transfer_matrices_from_unitary_list(\n",
    "                self.psi,\n",
    "                self.symmetry_operations,\n",
    "                self.left_symmetry_index\n",
    "            )\n",
    "        )\n",
    "\n",
    "        self.npc_symmetry_transfer_matrix = reduce(\n",
    "            multiply_transfer_matrices,\n",
    "            self.symmetry_transfer_matrices\n",
    "        )\n",
    "\n",
    "        self.np_symmetry_transfer_matrix = (\n",
    "            self.npc_symmetry_transfer_matrix\n",
    "            .combine_legs([['vL', 'vL*'], ['vR', 'vR*']])\n",
    "            .to_ndarray()\n",
    "        )\n",
    "\n",
    "        U, S, Vh = np.linalg.svd(self.np_symmetry_transfer_matrix)\n",
    "        assert S[0]/np.sum(S) > 0.9999\n",
    "\n",
    "        self.left_projected_symmetry_state = U[:,0]\n",
    "        self.right_projected_symmetry_state = Vh[0]\n",
    "        self.symmetry_transfer_matrix_op_norm = S[0]\n",
    "\n",
    "        self.right_virtual_points = list()\n",
    "        self.left_virtual_points = list()\n",
    "        self.right_s3_points = list()\n",
    "        self.left_s3_points = list()\n",
    "        self.right_ovelraps = list()\n",
    "        self.left_overlaps = list()\n",
    "\n",
    "        self.right_max_overlap = 0\n",
    "        self.left_max_overlap = 0\n",
    "        self.max_overlap = 0\n",
    "\n",
    "        self.right_max_s3_points = None\n",
    "        self.left_max_s3_points = None\n",
    "\n",
    "        self.max_num_virtual_points = max_num_virtual_points\n",
    "        self.num_search_points = num_search_points\n",
    "\n",
    "        s3_points = super_fibonacci(2*num_search_points)\n",
    "        self.s3_search_points = s3_points[s3_points[:, 0] >=  0]\n",
    "        self.num_s3_search_points = len(self.s3_search_points)\n",
    "\n",
    "        self.current_right_depth = 0\n",
    "        self.current_left_depth = 0\n",
    "\n",
    "    def update_max_overlap(self):\n",
    "        self.max_overlap = (\n",
    "            self.symmetry_transfer_matrix_op_norm\n",
    "            *self.right_max_overlap\n",
    "            *self.left_max_overlap\n",
    "        )\n",
    "\n",
    "    def search_step_right(self):\n",
    "        previous_depth = self.current_right_depth\n",
    "        self.current_right_depth += 1\n",
    "\n",
    "        site_index = self.right_symmetry_index + self.current_right_depth\n",
    "\n",
    "        bond_dimension = self.psi.chi[site_index]\n",
    "\n",
    "        right_environment = np.identity(bond_dimension).reshape((bond_dimension**2,))\n",
    "        \n",
    "        base_transfer_matrices = np.array([\n",
    "            get_transfer_matrix_from_unitary(self.psi, u, site_index)\n",
    "            .combine_legs([['vL', 'vL*'], ['vR', 'vR*']])\n",
    "            .to_ndarray()\n",
    "            for u in base_unitaries\n",
    "        ])\n",
    "\n",
    "        if self.current_right_depth == 1:\n",
    "            previous_points = self.right_projected_symmetry_state[np.newaxis, :]\n",
    "        elif self.current_right_depth > 1:\n",
    "            previous_points = self.right_virtual_points[previous_depth-1]\n",
    "\n",
    "        base_vectors = np.matmul(previous_points, base_transfer_matrices)\n",
    "        base_overlaps = np.dot(base_vectors, right_environment)\n",
    "\n",
    "        overlaps = np.abs(np.tensordot(self.s3_search_points, base_overlaps, [[1,], [0,]]))\n",
    "        target_percentile = 100.0*(1.0 - min(1, self.max_num_virtual_points/(overlaps.size)))\n",
    "        overlap_threshold = np.percentile(overlaps, target_percentile)\n",
    "\n",
    "        overlaps_filter = (overlaps > overlap_threshold)\n",
    "\n",
    "        all_next_points = np.tensordot(\n",
    "            self.s3_search_points,\n",
    "            base_vectors,\n",
    "            [[1,], [0,]]\n",
    "        )\n",
    "\n",
    "        if self.current_right_depth == 1:\n",
    "            assert previous_points.shape[0] == 1\n",
    "            all_next_s3_points = self.s3_search_points[:, np.newaxis, np.newaxis, :]\n",
    "        elif self.current_right_depth > 1:\n",
    "            prev_s3_points = self.right_s3_points[previous_depth-1]\n",
    "            prev_num_s3_points = prev_s3_points.shape[0]\n",
    "\n",
    "            all_next_s3_points = np.zeros(\n",
    "                (\n",
    "                    self.num_s3_search_points,\n",
    "                    prev_num_s3_points,\n",
    "                    self.current_right_depth,\n",
    "                    4\n",
    "                )\n",
    "            )\n",
    "\n",
    "            all_next_s3_points[:, :, :-1, :] = prev_s3_points[np.newaxis, ...]\n",
    "            all_next_s3_points[:, :, -1, :] = self.s3_search_points[:, np.newaxis, :]\n",
    "\n",
    "        filtered_next_points = np.reshape(\n",
    "            all_next_points[overlaps_filter],\n",
    "            (-1, bond_dimension**2)\n",
    "        )\n",
    "        filtered_next_s3_points = np.reshape(\n",
    "            all_next_s3_points[overlaps_filter],\n",
    "            (-1, self.current_right_depth, 4)\n",
    "        )\n",
    "        filtered_overlaps = overlaps[overlaps_filter].flatten()\n",
    "\n",
    "        self.right_virtual_points.append(filtered_next_points)\n",
    "        self.right_s3_points.append(filtered_next_s3_points)\n",
    "        self.right_ovelraps.append(filtered_overlaps)\n",
    "\n",
    "        max_overlap = np.max(filtered_overlaps)\n",
    "        if max_overlap > self.right_max_overlap:\n",
    "            self.right_max_overlap = max_overlap\n",
    "            max_arg = np.argmax(filtered_overlaps)\n",
    "            self.right_max_s3_points = filtered_next_s3_points[max_arg]\n",
    "            self.update_max_overlap()\n",
    "\n",
    "    def search_step_left(self):\n",
    "        previous_depth = self.current_left_depth\n",
    "        self.current_left_depth += 1\n",
    "\n",
    "        site_index = self.left_symmetry_index - self.current_left_depth\n",
    "\n",
    "        bond_dimension = self.psi.chi[site_index]\n",
    "\n",
    "        left_environment = get_left_environment(self.psi, site_index)\n",
    "        \n",
    "        base_transfer_matrices = np.array([\n",
    "            get_transfer_matrix_from_unitary(self.psi, u, site_index)\n",
    "            .combine_legs([['vL', 'vL*'], ['vR', 'vR*']])\n",
    "            .to_ndarray()\n",
    "            for u in base_unitaries\n",
    "        ])\n",
    "\n",
    "        if self.current_left_depth == 1:\n",
    "            previous_points = self.left_projected_symmetry_state[np.newaxis, :]\n",
    "        elif self.current_left_depth > 1:\n",
    "            previous_points = self.left_virtual_points[previous_depth-1]\n",
    "\n",
    "        base_vectors = np.tensordot(\n",
    "            previous_points,\n",
    "            base_transfer_matrices,\n",
    "            [[-1,], [2,]]\n",
    "        )\n",
    "        base_overlaps = np.dot(base_vectors, left_environment)\n",
    "\n",
    "        overlaps = np.abs(np.tensordot(self.s3_search_points, base_overlaps, [[1,], [1,]]))\n",
    "        target_percentile = 100.0*(1.0 - min(1, self.max_num_virtual_points/(overlaps.size)))\n",
    "        overlap_threshold = np.percentile(overlaps, target_percentile)\n",
    "\n",
    "        overlaps_filter = (overlaps > overlap_threshold)\n",
    "\n",
    "        all_next_points = np.tensordot(\n",
    "            self.s3_search_points,\n",
    "            base_vectors,\n",
    "            [[1,], [1,]]\n",
    "        )\n",
    "\n",
    "        if self.current_left_depth == 1:\n",
    "            assert previous_points.shape[0] == 1\n",
    "            all_next_s3_points = self.s3_search_points[:, np.newaxis, np.newaxis, :]\n",
    "        elif self.current_left_depth > 1:\n",
    "            prev_s3_points = self.left_s3_points[previous_depth-1]\n",
    "            prev_num_s3_points = prev_s3_points.shape[0]\n",
    "\n",
    "            all_next_s3_points = np.zeros(\n",
    "                (\n",
    "                    self.num_s3_search_points,\n",
    "                    prev_num_s3_points,\n",
    "                    self.current_left_depth,\n",
    "                    4\n",
    "                )\n",
    "            )\n",
    "            \n",
    "            all_next_s3_points[:, :, :-1, :] = prev_s3_points[np.newaxis, ...]\n",
    "            all_next_s3_points[:, :, -1, :] = self.s3_search_points[:, np.newaxis, :]\n",
    "\n",
    "        filtered_next_points = np.reshape(\n",
    "            all_next_points[overlaps_filter],\n",
    "            (-1, bond_dimension**2)\n",
    "        )\n",
    "        filtered_next_s3_points = np.reshape(\n",
    "            all_next_s3_points[overlaps_filter],\n",
    "            (-1, self.current_left_depth, 4)\n",
    "        )\n",
    "        filtered_overlaps = overlaps[overlaps_filter].flatten()\n",
    "\n",
    "        self.left_virtual_points.append(filtered_next_points)\n",
    "        self.left_s3_points.append(filtered_next_s3_points)\n",
    "        self.left_overlaps.append(filtered_overlaps)\n",
    "\n",
    "        max_overlap = np.max(filtered_overlaps)\n",
    "        if max_overlap > self.left_max_overlap:\n",
    "            self.left_max_overlap = max_overlap\n",
    "            max_arg = np.argmax(filtered_overlaps)\n",
    "            self.left_max_s3_points = filtered_next_s3_points[max_arg]\n",
    "            self.update_max_overlap()"
   ]
  },
  {
   "cell_type": "markdown",
   "id": "c7746a52-8aa3-4476-954b-13ee8a9feb81",
   "metadata": {},
   "source": [
    "# Load data"
   ]
  },
  {
   "cell_type": "code",
   "execution_count": 19,
   "id": "f30ea89c-0990-4d96-ac11-5621b991e9a8",
   "metadata": {},
   "outputs": [],
   "source": [
    "DATA_DIR = r\"data/transverse_cluster_200_site_dmrg\""
   ]
  },
  {
   "cell_type": "code",
   "execution_count": 20,
   "id": "3492fa95-c060-4f2c-895b-6d97215a466d",
   "metadata": {},
   "outputs": [],
   "source": [
    "loaded_data = list()\n",
    "\n",
    "for local_file_name in os.listdir(DATA_DIR):\n",
    "    f_name = r\"{}/{}\".format(DATA_DIR, local_file_name, ignore_unknown=False)\n",
    "    with h5py.File(f_name, 'r') as f:\n",
    "        data = hdf5_io.load_from_hdf5(f)\n",
    "        loaded_data.append(data)"
   ]
  },
  {
   "cell_type": "code",
   "execution_count": 21,
   "id": "c237db90-7b83-4771-b34c-d433e15b342e",
   "metadata": {},
   "outputs": [],
   "source": [
    "b_parameters = sorted(list(d['paramters']['B'] for d in loaded_data))"
   ]
  },
  {
   "cell_type": "code",
   "execution_count": 22,
   "id": "0a4626cf-44b6-4d6c-9ee3-a431a721f231",
   "metadata": {},
   "outputs": [],
   "source": [
    "psi_dict = dict()"
   ]
  },
  {
   "cell_type": "code",
   "execution_count": 23,
   "id": "f1050f22-41b9-492c-829b-5b38bb8982b2",
   "metadata": {},
   "outputs": [],
   "source": [
    "for b in b_parameters:\n",
    "    psi = next(\n",
    "        d['wavefunction']\n",
    "        for d in loaded_data\n",
    "        if d['paramters']['B'] == b\n",
    "    )\n",
    "\n",
    "    rounded_b = round(b, 1)\n",
    "    psi_dict[rounded_b] = psi"
   ]
  },
  {
   "cell_type": "code",
   "execution_count": 24,
   "id": "7464ceea-c8de-4ee6-8e56-8eb08e4e8d08",
   "metadata": {},
   "outputs": [
    {
     "data": {
      "text/plain": [
       "[0.0,\n",
       " 0.1,\n",
       " 0.2,\n",
       " 0.3,\n",
       " 0.4,\n",
       " 0.5,\n",
       " 0.6,\n",
       " 0.7,\n",
       " 0.8,\n",
       " 0.9,\n",
       " 1.0,\n",
       " 1.1,\n",
       " 1.2,\n",
       " 1.3,\n",
       " 1.4,\n",
       " 1.5,\n",
       " 1.6,\n",
       " 1.7,\n",
       " 1.8,\n",
       " 1.9,\n",
       " 2.0]"
      ]
     },
     "execution_count": 24,
     "metadata": {},
     "output_type": "execute_result"
    }
   ],
   "source": [
    "list(psi_dict)"
   ]
  },
  {
   "cell_type": "code",
   "execution_count": 25,
   "id": "90ee2943-e138-408c-b872-d0bd333697f6",
   "metadata": {},
   "outputs": [],
   "source": [
    "test_psi = psi_dict[0.5]"
   ]
  },
  {
   "cell_type": "markdown",
   "id": "189a88d8-1a0c-4df4-9577-7d8d3966d2c8",
   "metadata": {},
   "source": [
    "# Testing"
   ]
  },
  {
   "cell_type": "code",
   "execution_count": 185,
   "id": "3db41d28-9f87-4233-92bc-fe2340be1527",
   "metadata": {},
   "outputs": [],
   "source": [
    "test_search = TransferMatrixSearch(test_psi, [np_X, np_I]*30)"
   ]
  },
  {
   "cell_type": "code",
   "execution_count": 186,
   "id": "aca11858-7a34-4d26-98bd-bc4b9eef13be",
   "metadata": {},
   "outputs": [
    {
     "data": {
      "text/plain": [
       "0"
      ]
     },
     "execution_count": 186,
     "metadata": {},
     "output_type": "execute_result"
    }
   ],
   "source": [
    "test_search.current_right_depth"
   ]
  },
  {
   "cell_type": "code",
   "execution_count": 187,
   "id": "6fde2ff8-da7a-4c7f-afa8-c78394173c61",
   "metadata": {},
   "outputs": [],
   "source": [
    "test_search.search_step_right()"
   ]
  },
  {
   "cell_type": "code",
   "execution_count": 188,
   "id": "e7e80c43-37da-4967-a69e-ad752dd1b8fc",
   "metadata": {},
   "outputs": [
    {
     "data": {
      "text/plain": [
       "1"
      ]
     },
     "execution_count": 188,
     "metadata": {},
     "output_type": "execute_result"
    }
   ],
   "source": [
    "test_search.current_right_depth"
   ]
  },
  {
   "cell_type": "code",
   "execution_count": 189,
   "id": "867554a9-d160-4ec8-8444-1d9203f7a3af",
   "metadata": {},
   "outputs": [
    {
     "data": {
      "text/plain": [
       "(1002, 64)"
      ]
     },
     "execution_count": 189,
     "metadata": {},
     "output_type": "execute_result"
    }
   ],
   "source": [
    "test_search.right_virtual_points[0].shape"
   ]
  },
  {
   "cell_type": "code",
   "execution_count": 190,
   "id": "6398a211-6982-4096-9ce1-da088925fed8",
   "metadata": {},
   "outputs": [],
   "source": [
    "test_search.search_step_left()"
   ]
  },
  {
   "cell_type": "code",
   "execution_count": 191,
   "id": "b8409a57-ec57-4aa1-a3eb-57f196d7ce28",
   "metadata": {},
   "outputs": [
    {
     "data": {
      "text/plain": [
       "5.3802909910866957e-11"
      ]
     },
     "execution_count": 191,
     "metadata": {},
     "output_type": "execute_result"
    }
   ],
   "source": [
    "test_search.max_overlap"
   ]
  },
  {
   "cell_type": "code",
   "execution_count": 192,
   "id": "7e00fa6c-1d89-4b06-ba7f-2460693a0eb3",
   "metadata": {},
   "outputs": [
    {
     "data": {
      "text/plain": [
       "1003"
      ]
     },
     "execution_count": 192,
     "metadata": {},
     "output_type": "execute_result"
    }
   ],
   "source": [
    "test_search.num_s3_search_points"
   ]
  },
  {
   "cell_type": "code",
   "execution_count": 193,
   "id": "a9aa5791-f1a0-4e47-98f6-7b01c1a6d316",
   "metadata": {},
   "outputs": [
    {
     "data": {
      "text/plain": [
       "1"
      ]
     },
     "execution_count": 193,
     "metadata": {},
     "output_type": "execute_result"
    }
   ],
   "source": [
    "test_search.current_right_depth"
   ]
  },
  {
   "cell_type": "code",
   "execution_count": 194,
   "id": "968b91a2-bd6e-4528-8c90-dd7dd569c181",
   "metadata": {},
   "outputs": [],
   "source": [
    "test_search.search_step_right()"
   ]
  },
  {
   "cell_type": "code",
   "execution_count": 195,
   "id": "778e6e7c-c496-4bba-b359-92c032e8c5c5",
   "metadata": {},
   "outputs": [],
   "source": [
    "test_search.search_step_left()"
   ]
  },
  {
   "cell_type": "code",
   "execution_count": 196,
   "id": "af13160a-86b4-4042-85fa-d7717c92fb57",
   "metadata": {},
   "outputs": [
    {
     "data": {
      "text/plain": [
       "0.922647511813931"
      ]
     },
     "execution_count": 196,
     "metadata": {},
     "output_type": "execute_result"
    }
   ],
   "source": [
    "test_search.max_overlap"
   ]
  },
  {
   "cell_type": "code",
   "execution_count": 197,
   "id": "bea4f74d-bc0a-4c44-8fbd-ff2f9832c5b5",
   "metadata": {},
   "outputs": [
    {
     "data": {
      "text/plain": [
       "2"
      ]
     },
     "execution_count": 197,
     "metadata": {},
     "output_type": "execute_result"
    }
   ],
   "source": [
    "test_search.current_right_depth"
   ]
  },
  {
   "cell_type": "markdown",
   "id": "f47644b4-5978-4b73-a35b-f9c7c66dd1c5",
   "metadata": {},
   "source": [
    "## Via expecation\n",
    "Should make a function for this.\n",
    "(Ideally need to make a \"solution\" class...)"
   ]
  },
  {
   "cell_type": "code",
   "execution_count": 198,
   "id": "45d5b908-76ac-46c5-a01d-dc5b7c733c26",
   "metadata": {},
   "outputs": [],
   "source": [
    "r_unitaries = test_search.right_max_s3_points"
   ]
  },
  {
   "cell_type": "code",
   "execution_count": 199,
   "id": "6215e132-0644-4f5d-a434-39402ad30734",
   "metadata": {},
   "outputs": [
    {
     "data": {
      "text/plain": [
       "array([[ 0.02476986, -0.99731462, -0.06574199,  0.02068793],\n",
       "       [ 0.0558371 ,  0.05130515,  0.01280051, -0.99703869]])"
      ]
     },
     "execution_count": 199,
     "metadata": {},
     "output_type": "execute_result"
    }
   ],
   "source": [
    "r_unitaries"
   ]
  },
  {
   "cell_type": "code",
   "execution_count": 200,
   "id": "880620f7-a27a-47bc-9d2d-9b9efa410838",
   "metadata": {},
   "outputs": [],
   "source": [
    "l_unitaries = test_search.left_max_s3_points"
   ]
  },
  {
   "cell_type": "code",
   "execution_count": 201,
   "id": "34332e71-439c-48c1-9b01-84feda432171",
   "metadata": {},
   "outputs": [
    {
     "data": {
      "text/plain": [
       "array([[ 0.0558371 ,  0.05130515,  0.01280051, -0.99703869]])"
      ]
     },
     "execution_count": 201,
     "metadata": {},
     "output_type": "execute_result"
    }
   ],
   "source": [
    "l_unitaries"
   ]
  },
  {
   "cell_type": "code",
   "execution_count": 202,
   "id": "c0b134e6-5a26-4927-91dd-be230c667909",
   "metadata": {},
   "outputs": [
    {
     "data": {
      "text/plain": [
       "0.3400574864005279"
      ]
     },
     "execution_count": 202,
     "metadata": {},
     "output_type": "execute_result"
    }
   ],
   "source": [
    "test_search.left_max_overlap"
   ]
  },
  {
   "cell_type": "code",
   "execution_count": 203,
   "id": "540a5dd4-dbca-46e1-a529-d99ec015d96c",
   "metadata": {},
   "outputs": [
    {
     "data": {
      "text/plain": [
       "1.357477473882176"
      ]
     },
     "execution_count": 203,
     "metadata": {},
     "output_type": "execute_result"
    }
   ],
   "source": [
    "test_search.right_max_overlap"
   ]
  },
  {
   "cell_type": "code",
   "execution_count": 204,
   "id": "9fc5873a-695f-44b5-b63c-ad150896c2d7",
   "metadata": {},
   "outputs": [
    {
     "data": {
      "text/plain": [
       "0.922647511813931"
      ]
     },
     "execution_count": 204,
     "metadata": {},
     "output_type": "execute_result"
    }
   ],
   "source": [
    "test_search.max_overlap"
   ]
  },
  {
   "cell_type": "code",
   "execution_count": 206,
   "id": "beaf0e4e-6fdb-482f-bd66-49a7a533ac04",
   "metadata": {},
   "outputs": [],
   "source": [
    "r_unitary_1 = s3_to_unitary(r_unitaries[0])\n",
    "r_unitary_2 = s3_to_unitary(r_unitaries[1])"
   ]
  },
  {
   "cell_type": "code",
   "execution_count": 172,
   "id": "b0179d70-71f2-4a6d-972f-506bc8fc06ef",
   "metadata": {},
   "outputs": [],
   "source": [
    "l_unitary = s3_to_unitary(l_unitaries[0])"
   ]
  },
  {
   "cell_type": "code",
   "execution_count": 207,
   "id": "06dc749d-9dbc-4045-901a-81796e14e8e3",
   "metadata": {},
   "outputs": [],
   "source": [
    "np_operators = [l_unitary, *([np_X, np_I]*30), r_unitary_1, r_unitary_2]"
   ]
  },
  {
   "cell_type": "code",
   "execution_count": 208,
   "id": "c8b5bc1d-b626-4a52-a8e9-0356a8327e20",
   "metadata": {},
   "outputs": [],
   "source": [
    "operators = [to_npc_array(X) for X in np_operators]"
   ]
  },
  {
   "cell_type": "code",
   "execution_count": 209,
   "id": "0163f843-94ef-43ba-b11a-6b4f73e81b32",
   "metadata": {},
   "outputs": [],
   "source": [
    "expectation = test_psi.expectation_value_multi_sites(operators, (test_psi.L//2)-30-1)"
   ]
  },
  {
   "cell_type": "code",
   "execution_count": 210,
   "id": "f3fd771f-6068-4bad-88f3-31b8dfab70d2",
   "metadata": {},
   "outputs": [
    {
     "data": {
      "text/plain": [
       "0.9226475118139226"
      ]
     },
     "execution_count": 210,
     "metadata": {},
     "output_type": "execute_result"
    }
   ],
   "source": [
    "np.abs(expectation)"
   ]
  },
  {
   "cell_type": "markdown",
   "id": "cd1332d4-1984-4e97-8a2d-762ec9ad5cd6",
   "metadata": {},
   "source": [
    "Agreement!"
   ]
  },
  {
   "cell_type": "code",
   "execution_count": 220,
   "id": "23da8c70-010d-44ae-805f-1b2c79e9c0de",
   "metadata": {},
   "outputs": [],
   "source": [
    "test_search = TransferMatrixSearch(test_psi, [np_X, np_I]*30)"
   ]
  },
  {
   "cell_type": "code",
   "execution_count": 223,
   "id": "2c2548ed-ee51-43d6-b23d-03ac07001001",
   "metadata": {},
   "outputs": [
    {
     "data": {
      "text/plain": [
       "1.357477473882176"
      ]
     },
     "execution_count": 223,
     "metadata": {},
     "output_type": "execute_result"
    }
   ],
   "source": [
    "test_search.search_step_right()\n",
    "test_search.right_max_overlap"
   ]
  },
  {
   "cell_type": "code",
   "execution_count": 227,
   "id": "aa80a18a-c5b2-49d7-ae59-b354c90835bf",
   "metadata": {},
   "outputs": [
    {
     "data": {
      "text/plain": [
       "0.3400574864005279"
      ]
     },
     "execution_count": 227,
     "metadata": {},
     "output_type": "execute_result"
    }
   ],
   "source": [
    "test_search.search_step_left()\n",
    "test_search.left_max_overlap"
   ]
  },
  {
   "cell_type": "code",
   "execution_count": 228,
   "id": "75855af3-184f-48f6-9060-f384c5068470",
   "metadata": {},
   "outputs": [
    {
     "data": {
      "text/plain": [
       "3"
      ]
     },
     "execution_count": 228,
     "metadata": {},
     "output_type": "execute_result"
    }
   ],
   "source": [
    "test_search.current_right_depth"
   ]
  },
  {
   "cell_type": "code",
   "execution_count": 229,
   "id": "86dac87b-e9ea-4d2d-9248-2fb5c7dbab2a",
   "metadata": {},
   "outputs": [
    {
     "data": {
      "text/plain": [
       "(1002, 64)"
      ]
     },
     "execution_count": 229,
     "metadata": {},
     "output_type": "execute_result"
    }
   ],
   "source": [
    "test_search.right_virtual_points[0].shape"
   ]
  },
  {
   "cell_type": "code",
   "execution_count": 230,
   "id": "4765e0df-964b-4e7d-a404-85fdf131387d",
   "metadata": {},
   "outputs": [],
   "source": [
    "test_search.search_step_left()"
   ]
  },
  {
   "cell_type": "code",
   "execution_count": 231,
   "id": "ba05d31e-2880-4474-a7c1-130d230ae59c",
   "metadata": {},
   "outputs": [
    {
     "data": {
      "text/plain": [
       "0.922647511813931"
      ]
     },
     "execution_count": 231,
     "metadata": {},
     "output_type": "execute_result"
    }
   ],
   "source": [
    "test_search.max_overlap"
   ]
  },
  {
   "cell_type": "markdown",
   "id": "8c395195-fc2e-4ec8-a28f-cba1b54d30b1",
   "metadata": {},
   "source": [
    "_Still_ getting stuck in local optima... Should try out alternate sampling strategies.\n",
    "Should also try running other optimization strategies on this."
   ]
  },
  {
   "cell_type": "code",
   "execution_count": null,
   "id": "5a605595-7095-492f-aadf-1951b8405f15",
   "metadata": {},
   "outputs": [],
   "source": []
  }
 ],
 "metadata": {
  "kernelspec": {
   "display_name": "num_spt_venv_p11",
   "language": "python",
   "name": "num_spt_venv_p11"
  },
  "language_info": {
   "codemirror_mode": {
    "name": "ipython",
    "version": 3
   },
   "file_extension": ".py",
   "mimetype": "text/x-python",
   "name": "python",
   "nbconvert_exporter": "python",
   "pygments_lexer": "ipython3",
   "version": "3.11.9"
  }
 },
 "nbformat": 4,
 "nbformat_minor": 5
}
