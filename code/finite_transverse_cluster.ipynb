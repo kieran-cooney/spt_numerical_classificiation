{
 "cells": [
  {
   "cell_type": "code",
   "execution_count": 1,
   "metadata": {},
   "outputs": [],
   "source": [
    "import numpy as np\n",
    "import scipy\n",
    "import matplotlib.pyplot as plt"
   ]
  },
  {
   "cell_type": "code",
   "execution_count": 2,
   "metadata": {},
   "outputs": [],
   "source": [
    "import tenpy\n",
    "import tenpy.linalg.np_conserved as npc\n",
    "from tenpy.algorithms import dmrg\n",
    "from tenpy.networks.mps import MPS"
   ]
  },
  {
   "cell_type": "code",
   "execution_count": 3,
   "metadata": {},
   "outputs": [],
   "source": [
    "from tenpy.networks.site import SpinSite, SpinHalfSite\n",
    "from tenpy.models.lattice import Chain\n",
    "from tenpy.models.model import CouplingModel, NearestNeighborModel, MPOModel"
   ]
  },
  {
   "cell_type": "code",
   "execution_count": 4,
   "metadata": {},
   "outputs": [],
   "source": [
    "class ClusterIsing(CouplingModel):\n",
    "    def __init__(self, model_params):\n",
    "        # Read out/set default parameters\n",
    "        name = \"Cluster Ising model\"\n",
    "        L = model_params.get('L', 5)\n",
    "        B = model_params.get('B', 0)\n",
    "        bc_MPS = model_params.get('bc_MPS', 'finite')\n",
    "        \n",
    "        # sites\n",
    "        site = SpinHalfSite(conserve=None)\n",
    "\n",
    "        # lattice\n",
    "        bc = 'open'\n",
    "        lat = Chain(L, site, bc=bc, bc_MPS=bc_MPS)\n",
    "\n",
    "        # initialize CouplingModel\n",
    "        CouplingModel.__init__(self, lat)\n",
    "\n",
    "        # add terms of the Hamiltonian\n",
    "        self.add_onsite(-B, 0, 'Sigmax')\n",
    "        self.add_multi_coupling(\n",
    "            -1,\n",
    "            [\n",
    "                ('Sigmaz', -1, 0),\n",
    "                ('Sigmax', 0, 0),\n",
    "                ('Sigmaz', 1, 0),\n",
    "            ]\n",
    "        )\n",
    "\n",
    "        # initialize H_MPO\n",
    "        MPOModel.__init__(self, lat, self.calc_H_MPO())"
   ]
  },
  {
   "cell_type": "code",
   "execution_count": 5,
   "metadata": {},
   "outputs": [],
   "source": [
    "model=ClusterIsing({'B': 0.1, 'L':20})"
   ]
  },
  {
   "cell_type": "code",
   "execution_count": 6,
   "metadata": {},
   "outputs": [],
   "source": [
    "psi = MPS.from_desired_bond_dimension(model.lat.mps_sites(), 1, bc=model.lat.bc_MPS)"
   ]
  },
  {
   "cell_type": "code",
   "execution_count": 7,
   "metadata": {},
   "outputs": [],
   "source": [
    "psi.canonical_form()"
   ]
  },
  {
   "cell_type": "code",
   "execution_count": 8,
   "metadata": {},
   "outputs": [],
   "source": [
    "dmrg_params = {\n",
    "    \"trunc_params\": {\"chi_max\": 8, \"chi_min\": 1, \"svd_min\": 1.e-10},\n",
    "    \"min_sweeps\":100,\n",
    "    \"max_sweeps\":200,\n",
    "    \"mixer\": True,\n",
    "    \"combine\":False,\n",
    "    'decay':2,\n",
    "    'amplitude':10e-1,\n",
    "    'disable_after':60,\n",
    "    'update_env':0\n",
    "}"
   ]
  },
  {
   "cell_type": "code",
   "execution_count": 9,
   "metadata": {},
   "outputs": [],
   "source": [
    "eng = dmrg.TwoSiteDMRGEngine(psi, model, dmrg_params)"
   ]
  },
  {
   "cell_type": "code",
   "execution_count": 10,
   "metadata": {},
   "outputs": [
    {
     "name": "stderr",
     "output_type": "stream",
     "text": [
      "final DMRG state not in canonical form up to norm_tol=1.00e-05: norm_err=1.36e-05\n"
     ]
    }
   ],
   "source": [
    "e, psi = eng.run()"
   ]
  },
  {
   "cell_type": "code",
   "execution_count": 11,
   "metadata": {},
   "outputs": [],
   "source": [
    "psi.canonical_form()"
   ]
  },
  {
   "cell_type": "code",
   "execution_count": 12,
   "metadata": {},
   "outputs": [
    {
     "data": {
      "text/plain": [
       "-18.060043875637508"
      ]
     },
     "execution_count": 12,
     "metadata": {},
     "output_type": "execute_result"
    }
   ],
   "source": [
    "e"
   ]
  },
  {
   "cell_type": "code",
   "execution_count": 13,
   "metadata": {},
   "outputs": [
    {
     "data": {
      "text/plain": [
       "20"
      ]
     },
     "execution_count": 13,
     "metadata": {},
     "output_type": "execute_result"
    }
   ],
   "source": [
    "psi.L"
   ]
  },
  {
   "cell_type": "code",
   "execution_count": 14,
   "metadata": {},
   "outputs": [
    {
     "name": "stdout",
     "output_type": "stream",
     "text": [
      "<npc.Array shape=(1, 2, 2) labels=['vL', 'p', 'vR']\n",
      "charge=ChargeInfo([], [])\n",
      " +1 | +1 | -1 \n",
      "0 []|0 []|0 []\n",
      "1   |2   |2   \n",
      "[[[ 0.5244265  -0.47432767]\n",
      "  [ 0.52432268  0.47442159]]]\n",
      ">\n"
     ]
    }
   ],
   "source": [
    "print(psi.get_B(0))"
   ]
  },
  {
   "cell_type": "code",
   "execution_count": 15,
   "metadata": {},
   "outputs": [
    {
     "name": "stdout",
     "output_type": "stream",
     "text": [
      "<npc.Array shape=(8, 2, 8) labels=['vL', 'p', 'vR']\n",
      "charge=ChargeInfo([], [])\n",
      " +1 | +1 | -1 \n",
      "0 []|0 []|0 []\n",
      "8   |2   |8   \n",
      ">\n"
     ]
    }
   ],
   "source": [
    "print(psi.get_B(psi.L//2))"
   ]
  },
  {
   "cell_type": "code",
   "execution_count": 16,
   "metadata": {},
   "outputs": [],
   "source": [
    "from tenpy.networks.mpo import MPO\n",
    "from tenpy.linalg.np_conserved import Array as npc_Array\n",
    "from tenpy.networks.site import SpinHalfSite\n",
    "from tenpy.linalg.charges import LegCharge"
   ]
  },
  {
   "cell_type": "code",
   "execution_count": 17,
   "metadata": {},
   "outputs": [],
   "source": [
    "from scipy.stats import unitary_group"
   ]
  },
  {
   "cell_type": "code",
   "execution_count": 18,
   "metadata": {},
   "outputs": [],
   "source": [
    "unitary_sampler = unitary_group(2)"
   ]
  },
  {
   "cell_type": "code",
   "execution_count": 19,
   "metadata": {},
   "outputs": [],
   "source": [
    "U1 = unitary_sampler.rvs()\n",
    "U2 = unitary_sampler.rvs()"
   ]
  },
  {
   "cell_type": "code",
   "execution_count": 20,
   "metadata": {},
   "outputs": [
    {
     "data": {
      "text/plain": [
       "array([[ 0.1209075 +0.88975572j, -0.41211422+0.1545251j ],\n",
       "       [ 0.20710062-0.38836255j, -0.86629781-0.23624556j]])"
      ]
     },
     "execution_count": 20,
     "metadata": {},
     "output_type": "execute_result"
    }
   ],
   "source": [
    "U1"
   ]
  },
  {
   "cell_type": "code",
   "execution_count": 21,
   "metadata": {},
   "outputs": [
    {
     "data": {
      "text/plain": [
       "array([[-0.20382653-0.93008906j, -0.29093079-0.09353268j],\n",
       "       [-0.16429069-0.25767743j,  0.95136873-0.03883882j]])"
      ]
     },
     "execution_count": 21,
     "metadata": {},
     "output_type": "execute_result"
    }
   ],
   "source": [
    "U2"
   ]
  },
  {
   "cell_type": "code",
   "execution_count": 22,
   "metadata": {},
   "outputs": [
    {
     "data": {
      "text/plain": [
       "array([[1.00000000e+00+0.00000000e+00j, 5.55111512e-17-2.77555756e-17j],\n",
       "       [5.55111512e-17+2.77555756e-17j, 1.00000000e+00+0.00000000e+00j]])"
      ]
     },
     "execution_count": 22,
     "metadata": {},
     "output_type": "execute_result"
    }
   ],
   "source": [
    "np.conj(U1.T).dot(U1)"
   ]
  },
  {
   "cell_type": "code",
   "execution_count": 23,
   "metadata": {},
   "outputs": [],
   "source": [
    "def to_npc_array(X):\n",
    "    npc_X = (\n",
    "        npc_Array\n",
    "        .from_ndarray_trivial(\n",
    "            X,\n",
    "            dtype=np.complex_,\n",
    "            labels=['p', 'p*']\n",
    "        )\n",
    "    )\n",
    "\n",
    "    return npc_X"
   ]
  },
  {
   "cell_type": "code",
   "execution_count": 24,
   "metadata": {},
   "outputs": [],
   "source": [
    "npc_X = to_npc_array(np.array([[0,1],[1,0]]))"
   ]
  },
  {
   "cell_type": "code",
   "execution_count": 25,
   "metadata": {},
   "outputs": [],
   "source": [
    "npc_I = to_npc_array(np.identity(2))"
   ]
  },
  {
   "cell_type": "code",
   "execution_count": 26,
   "metadata": {},
   "outputs": [],
   "source": [
    "def to_ops_list(U1, U2):\n",
    "    ops_list = list()\n",
    "\n",
    "    ops_list.append(to_npc_array(U1))\n",
    "    ops_list.extend([npc_X, npc_I]*5)\n",
    "    ops_list.append(to_npc_array(U2))\n",
    "\n",
    "    return ops_list"
   ]
  },
  {
   "cell_type": "code",
   "execution_count": 27,
   "metadata": {},
   "outputs": [],
   "source": [
    "ops_list = to_ops_list(U1, U2)"
   ]
  },
  {
   "cell_type": "code",
   "execution_count": 28,
   "metadata": {},
   "outputs": [
    {
     "data": {
      "text/plain": [
       "array(0.00033604-0.00216838j)"
      ]
     },
     "execution_count": 28,
     "metadata": {},
     "output_type": "execute_result"
    }
   ],
   "source": [
    "psi.expectation_value_multi_sites(ops_list, 3)"
   ]
  },
  {
   "cell_type": "code",
   "execution_count": 41,
   "metadata": {},
   "outputs": [],
   "source": [
    "def grad_M_1(U2):\n",
    "    out = np.zeros((2,2),dtype='complex')\n",
    "    \n",
    "    for i in range(2):\n",
    "        for j in range(2):\n",
    "            U1 = np.zeros((2,2),dtype='complex')\n",
    "            U1[i,j] = 1\n",
    "            ops_list = to_ops_list(U1, U2)\n",
    "            out[i,j] = psi.expectation_value_multi_sites(ops_list, 3)\n",
    "\n",
    "    return out"
   ]
  },
  {
   "cell_type": "code",
   "execution_count": 42,
   "metadata": {},
   "outputs": [],
   "source": [
    "def grad_M_2(U1):\n",
    "    out = np.zeros((2,2),dtype='complex')\n",
    "    \n",
    "    for i in range(2):\n",
    "        for j in range(2):\n",
    "            U2 = np.zeros((2,2),dtype='complex')\n",
    "            U2[i,j] = 1\n",
    "            ops_list = to_ops_list(U1, U2)\n",
    "            out[i,j] = psi.expectation_value_multi_sites(ops_list, 3)\n",
    "\n",
    "    return out"
   ]
  },
  {
   "cell_type": "code",
   "execution_count": 43,
   "metadata": {},
   "outputs": [
    {
     "data": {
      "text/plain": [
       "array([[0.00024389+0.00028278j, 0.00244287+0.0028239j ],\n",
       "       [0.00244287+0.0028239j , 0.00024389+0.00028278j]])"
      ]
     },
     "execution_count": 43,
     "metadata": {},
     "output_type": "execute_result"
    }
   ],
   "source": [
    "grad_M_2(U1)"
   ]
  },
  {
   "cell_type": "code",
   "execution_count": 44,
   "metadata": {},
   "outputs": [
    {
     "data": {
      "text/plain": [
       "array([[-9.57822986e-04-1.12918237e-03j, -4.57659400e-07-5.91485112e-07j],\n",
       "       [-4.57659403e-07-5.91485108e-07j,  9.39652530e-04+1.10569849e-03j]])"
      ]
     },
     "execution_count": 44,
     "metadata": {},
     "output_type": "execute_result"
    }
   ],
   "source": [
    "grad_M_1(U2)"
   ]
  },
  {
   "cell_type": "code",
   "execution_count": 40,
   "metadata": {},
   "outputs": [
    {
     "name": "stdout",
     "output_type": "stream",
     "text": [
      "[[1.+0.j 0.+0.j]\n",
      " [0.+0.j 0.+0.j]]\n",
      "[[0.+0.j 0.+0.j]\n",
      " [0.+0.j 1.+0.j]]\n"
     ]
    }
   ],
   "source": [
    "for i, j in zip(range(2), range(2)):\n",
    "    X = np.zeros((2,2),dtype='complex')\n",
    "    X[i,j] = 1\n",
    "    print(X)"
   ]
  },
  {
   "cell_type": "code",
   "execution_count": 45,
   "metadata": {},
   "outputs": [],
   "source": [
    "def projector(U, delta_U):\n",
    "    M1 = (U.conj().T).dot(delta_U)\n",
    "    M2 = 0.5*(M1 - M1.conj().T)\n",
    "    M3 = U.dot(M2)\n",
    "\n",
    "    return M3"
   ]
  },
  {
   "cell_type": "code",
   "execution_count": 71,
   "metadata": {},
   "outputs": [],
   "source": [
    "def update(U1, U2, eta=0.03):\n",
    "    ops_list = to_ops_list(U1, U2)\n",
    "\n",
    "    M = psi.expectation_value_multi_sites(ops_list, 3)\n",
    "    \n",
    "    dM1 = grad_M_1(U2)\n",
    "    dM2 = grad_M_2(U1)\n",
    "    \n",
    "    grad1 = 2*M*np.conj(dM1)\n",
    "    grad2 = 2*M*np.conj(dM2)\n",
    "\n",
    "    dU1 = eta*projector(U1, grad1)\n",
    "    dU2 = eta*projector(U2, grad2)\n",
    "\n",
    "    return (U1 + dU1, U2 + dU2)"
   ]
  },
  {
   "cell_type": "code",
   "execution_count": 55,
   "metadata": {},
   "outputs": [],
   "source": [
    "unitary_tol = 0.005"
   ]
  },
  {
   "cell_type": "code",
   "execution_count": 56,
   "metadata": {},
   "outputs": [],
   "source": [
    "def unitary_test(U):\n",
    "    return np.max(np.abs(U.conj().T.dot(U)-np.identity(len(U))))"
   ]
  },
  {
   "cell_type": "code",
   "execution_count": 57,
   "metadata": {},
   "outputs": [],
   "source": [
    "def unitarize_matrix(U):\n",
    "    L,S,R = np.linalg.svd(U)\n",
    "    return L.dot(R)"
   ]
  },
  {
   "cell_type": "code",
   "execution_count": 47,
   "metadata": {},
   "outputs": [
    {
     "data": {
      "text/plain": [
       "(array([[ 0.12090739+0.8897557j , -0.41211428+0.15452512j],\n",
       "        [ 0.20710065-0.38836261j, -0.86629781-0.23624545j]]),\n",
       " array([[-0.20382657-0.93008918j, -0.29093046-0.0935324j ],\n",
       "        [-0.16429034-0.25767717j,  0.95136886-0.03883882j]]))"
      ]
     },
     "execution_count": 47,
     "metadata": {},
     "output_type": "execute_result"
    }
   ],
   "source": [
    "update(U1, U2)"
   ]
  },
  {
   "cell_type": "code",
   "execution_count": 62,
   "metadata": {},
   "outputs": [],
   "source": [
    "def loss(U1, U2):\n",
    "    ops_list = to_ops_list(U1, U2)\n",
    "    M = psi.expectation_value_multi_sites(ops_list, 3)\n",
    "\n",
    "    return 1 - np.abs(M)**2"
   ]
  },
  {
   "cell_type": "code",
   "execution_count": 78,
   "metadata": {},
   "outputs": [],
   "source": [
    "losses = list()\n",
    "unitary_scores = list()\n",
    "\n",
    "U1 = unitary_sampler.rvs()\n",
    "U2 = unitary_sampler.rvs()"
   ]
  },
  {
   "cell_type": "code",
   "execution_count": 79,
   "metadata": {},
   "outputs": [],
   "source": [
    "for i in range(50):\n",
    "    U1, U2 = update(U1, U2, eta=0.1)\n",
    "\n",
    "    if unitary_test(U1) > unitary_tol:\n",
    "        U1 = unitarize_matrix(U1)\n",
    "\n",
    "    if unitary_test(U2) > unitary_tol:\n",
    "        U2 = unitarize_matrix(U2)\n",
    "\n",
    "    losses.append(loss(U1,U2))\n",
    "    unitary_scores.append((unitary_test(U1),unitary_test(U2)))"
   ]
  },
  {
   "cell_type": "code",
   "execution_count": 64,
   "metadata": {},
   "outputs": [],
   "source": [
    "import matplotlib.pyplot as plt"
   ]
  },
  {
   "cell_type": "code",
   "execution_count": 80,
   "metadata": {},
   "outputs": [
    {
     "data": {
      "text/plain": [
       "[<matplotlib.lines.Line2D at 0x76f4da089750>]"
      ]
     },
     "execution_count": 80,
     "metadata": {},
     "output_type": "execute_result"
    },
    {
     "data": {
      "image/png": "[encoded data removed]",
      "text/plain": [
       "<Figure size 640x480 with 1 Axes>"
      ]
     },
     "metadata": {},
     "output_type": "display_data"
    }
   ],
   "source": [
    "plt.plot(losses)"
   ]
  },
  {
   "cell_type": "code",
   "execution_count": 81,
   "metadata": {},
   "outputs": [
    {
     "data": {
      "text/plain": [
       "0.9999998402006092"
      ]
     },
     "execution_count": 81,
     "metadata": {},
     "output_type": "execute_result"
    }
   ],
   "source": [
    "losses[0]"
   ]
  },
  {
   "cell_type": "code",
   "execution_count": 82,
   "metadata": {},
   "outputs": [
    {
     "data": {
      "text/plain": [
       "0.9999998401745257"
      ]
     },
     "execution_count": 82,
     "metadata": {},
     "output_type": "execute_result"
    }
   ],
   "source": [
    "losses[-1]"
   ]
  },
  {
   "cell_type": "markdown",
   "metadata": {},
   "source": [
    "# Sample random losses"
   ]
  },
  {
   "cell_type": "code",
   "execution_count": 85,
   "metadata": {},
   "outputs": [],
   "source": [
    "losses = list()\n",
    "\n",
    "for i in range(10**3):\n",
    "    U1 = unitary_sampler.rvs()\n",
    "    U2 = unitary_sampler.rvs()\n",
    "\n",
    "    losses.append(loss(U1,U2))"
   ]
  },
  {
   "cell_type": "code",
   "execution_count": 86,
   "metadata": {},
   "outputs": [
    {
     "data": {
      "text/plain": [
       "(array([  1.,   2.,   3.,   5.,  14.,  18.,  30.,  50.,  96., 781.]),\n",
       " array([0.99991635, 0.99992471, 0.99993308, 0.99994144, 0.99994981,\n",
       "        0.99995817, 0.99996654, 0.9999749 , 0.99998327, 0.99999163,\n",
       "        1.        ]),\n",
       " <BarContainer object of 10 artists>)"
      ]
     },
     "execution_count": 86,
     "metadata": {},
     "output_type": "execute_result"
    },
    {
     "data": {
      "image/png": "[encoded data removed]",
      "text/plain": [
       "<Figure size 640x480 with 1 Axes>"
      ]
     },
     "metadata": {},
     "output_type": "display_data"
    }
   ],
   "source": [
    "plt.hist(losses)"
   ]
  },
  {
   "cell_type": "code",
   "execution_count": 91,
   "metadata": {},
   "outputs": [],
   "source": [
    "min_losses = list()\n",
    "\n",
    "for i in range(10**3):\n",
    "    min_loss = np.min(np.random.choice(losses, 200))\n",
    "    min_losses.append(min_loss)"
   ]
  },
  {
   "cell_type": "code",
   "execution_count": 92,
   "metadata": {},
   "outputs": [
    {
     "data": {
      "text/plain": [
       "(array([187.,   0., 140., 119., 171.,  83., 121.,  68.,  97.,  14.]),\n",
       " array([0.99991635, 0.99992086, 0.99992536, 0.99992987, 0.99993438,\n",
       "        0.99993888, 0.99994339, 0.9999479 , 0.9999524 , 0.99995691,\n",
       "        0.99996142]),\n",
       " <BarContainer object of 10 artists>)"
      ]
     },
     "execution_count": 92,
     "metadata": {},
     "output_type": "execute_result"
    },
    {
     "data": {
      "image/png": "[encoded data removed]",
      "text/plain": [
       "<Figure size 640x480 with 1 Axes>"
      ]
     },
     "metadata": {},
     "output_type": "display_data"
    }
   ],
   "source": [
    "plt.hist(min_losses)"
   ]
  },
  {
   "cell_type": "code",
   "execution_count": 93,
   "metadata": {},
   "outputs": [
    {
     "data": {
      "text/plain": [
       "0.9999614169368163"
      ]
     },
     "execution_count": 93,
     "metadata": {},
     "output_type": "execute_result"
    }
   ],
   "source": [
    "np.max(min_losses)"
   ]
  },
  {
   "cell_type": "code",
   "execution_count": null,
   "metadata": {},
   "outputs": [],
   "source": []
  }
 ],
 "metadata": {
  "kernelspec": {
   "display_name": "venv",
   "language": "python",
   "name": "venv"
  },
  "language_info": {
   "codemirror_mode": {
    "name": "ipython",
    "version": 3
   },
   "file_extension": ".py",
   "mimetype": "text/x-python",
   "name": "python",
   "nbconvert_exporter": "python",
   "pygments_lexer": "ipython3",
   "version": "3.11.8"
  }
 },
 "nbformat": 4,
 "nbformat_minor": 4
}
