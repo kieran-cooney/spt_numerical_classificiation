{
 "cells": [
  {
   "cell_type": "markdown",
   "id": "9bce4e5f-0431-4602-a8b0-cdfa051830ef",
   "metadata": {},
   "source": [
    "# Properties of virtual vectors\n",
    "\n",
    "Created 06/04/2024\n",
    "\n",
    "Objectives:\n",
    "* Explore and construct hypotheses around observations made in the transfer_matrix_class notebook.\n",
    "* Test hypotheses across multiple wavefunctions and widths of the symmetry operation interval.\n",
    "* What can be said about the left and right projected states of the bulk symmetry operation? Seems we can get extra information based by keeping the upper and lower legs separate.\n",
    "    * How does the gauge impact this? Can include schmidt terms or not.\n",
    "    * How does this relate to the principal eigenvector Pollman constructs to find a projective representation of the symmetry group?\n",
    "    * How do these properties depend on the bond dimension?\n",
    "* There are degeneracies in the schmidt terms. Is this just Pollman's entanglement entropy degeneracy? Does this impact the other observations?\n",
    "* When acting with the transfer matrices derived from unitaries on these states, are there extra requirements?\n",
    "    * Vector norm less than or equal to one?\n",
    "    * Is there only a subspace of the entire space accessible?\n",
    "    * Compare transfer matrices from unitaries with more general operators. What properties do transfer matrices from unitaries have?"
   ]
  },
  {
   "cell_type": "markdown",
   "id": "4a572794-1000-40f9-a24a-46d8cdc60f10",
   "metadata": {},
   "source": [
    "# Package imports"
   ]
  },
  {
   "cell_type": "code",
   "execution_count": 1,
   "id": "1214ca43-9c3b-4fd1-9789-1468b6bf2134",
   "metadata": {},
   "outputs": [],
   "source": [
    "from functools import reduce\n",
    "\n",
    "import numpy as np\n",
    "import pandas as pd"
   ]
  },
  {
   "cell_type": "code",
   "execution_count": 2,
   "id": "75bf1979-d93a-4a73-b1ef-9c82743d1b3c",
   "metadata": {},
   "outputs": [],
   "source": [
    "import h5py\n",
    "from tenpy.tools import hdf5_io\n",
    "import tenpy\n",
    "import tenpy.linalg.np_conserved as npc\n",
    "\n",
    "import os"
   ]
  },
  {
   "cell_type": "code",
   "execution_count": 12,
   "id": "fb27cfbd-ce3c-4049-b74a-bdb32d693959",
   "metadata": {},
   "outputs": [],
   "source": [
    "from SPTOptimization.utils import (\n",
    "    get_transfer_matrices_from_unitary_list,\n",
    "    multiply_transfer_matrices\n",
    ")"
   ]
  },
  {
   "cell_type": "markdown",
   "id": "b0972307-b051-4822-87dd-3afffa830704",
   "metadata": {},
   "source": [
    "# Load data"
   ]
  },
  {
   "cell_type": "code",
   "execution_count": 3,
   "id": "f30ea89c-0990-4d96-ac11-5621b991e9a8",
   "metadata": {},
   "outputs": [],
   "source": [
    "DATA_DIR = r\"data/transverse_cluster_200_site_dmrg\""
   ]
  },
  {
   "cell_type": "code",
   "execution_count": 4,
   "id": "3492fa95-c060-4f2c-895b-6d97215a466d",
   "metadata": {},
   "outputs": [],
   "source": [
    "loaded_data = list()\n",
    "\n",
    "for local_file_name in os.listdir(DATA_DIR):\n",
    "    f_name = r\"{}/{}\".format(DATA_DIR, local_file_name, ignore_unknown=False)\n",
    "    with h5py.File(f_name, 'r') as f:\n",
    "        data = hdf5_io.load_from_hdf5(f)\n",
    "        loaded_data.append(data)"
   ]
  },
  {
   "cell_type": "code",
   "execution_count": 5,
   "id": "c237db90-7b83-4771-b34c-d433e15b342e",
   "metadata": {},
   "outputs": [],
   "source": [
    "b_parameters = sorted(list(d['paramters']['B'] for d in loaded_data))"
   ]
  },
  {
   "cell_type": "code",
   "execution_count": 6,
   "id": "0a4626cf-44b6-4d6c-9ee3-a431a721f231",
   "metadata": {},
   "outputs": [],
   "source": [
    "psi_dict = dict()"
   ]
  },
  {
   "cell_type": "code",
   "execution_count": 7,
   "id": "f1050f22-41b9-492c-829b-5b38bb8982b2",
   "metadata": {},
   "outputs": [],
   "source": [
    "for b in b_parameters:\n",
    "    psi = next(\n",
    "        d['wavefunction']\n",
    "        for d in loaded_data\n",
    "        if d['paramters']['B'] == b\n",
    "    )\n",
    "\n",
    "    rounded_b = round(b, 1)\n",
    "    psi_dict[rounded_b] = psi"
   ]
  },
  {
   "cell_type": "code",
   "execution_count": 8,
   "id": "7464ceea-c8de-4ee6-8e56-8eb08e4e8d08",
   "metadata": {},
   "outputs": [
    {
     "data": {
      "text/plain": [
       "[0.0,\n",
       " 0.1,\n",
       " 0.2,\n",
       " 0.3,\n",
       " 0.4,\n",
       " 0.5,\n",
       " 0.6,\n",
       " 0.7,\n",
       " 0.8,\n",
       " 0.9,\n",
       " 1.0,\n",
       " 1.1,\n",
       " 1.2,\n",
       " 1.3,\n",
       " 1.4,\n",
       " 1.5,\n",
       " 1.6,\n",
       " 1.7,\n",
       " 1.8,\n",
       " 1.9,\n",
       " 2.0]"
      ]
     },
     "execution_count": 8,
     "metadata": {},
     "output_type": "execute_result"
    }
   ],
   "source": [
    "list(psi_dict)"
   ]
  },
  {
   "cell_type": "code",
   "execution_count": 9,
   "id": "90ee2943-e138-408c-b872-d0bd333697f6",
   "metadata": {},
   "outputs": [],
   "source": [
    "test_psi = psi_dict[0.5]"
   ]
  },
  {
   "cell_type": "markdown",
   "id": "9f851765-5ce6-4b53-858a-9cf79fbe8215",
   "metadata": {},
   "source": [
    "# Definitions"
   ]
  },
  {
   "cell_type": "code",
   "execution_count": 15,
   "id": "513d7288-c641-4071-a4a3-652787d1f98c",
   "metadata": {},
   "outputs": [],
   "source": [
    "np_I = np.array([[1,0],[0,1]])\n",
    "np_X = np.array([[0,1],[1,0]])\n",
    "np_Y = np.array([[0,-1j],[1j,0]])\n",
    "np_Z = np.array([[1,0],[0,-1]])"
   ]
  },
  {
   "cell_type": "code",
   "execution_count": 13,
   "id": "eaa84654-5a55-4938-964f-961d70ad75e8",
   "metadata": {},
   "outputs": [],
   "source": [
    "def get_symmetry_tm(psi, symmetry_operations):\n",
    "    index = (psi.L - len(symmetry_operations))//2\n",
    "\n",
    "    tms = get_transfer_matrices_from_unitary_list(\n",
    "        psi,\n",
    "        symmetry_operations,\n",
    "        index\n",
    "    )\n",
    "\n",
    "    transfer_matrix = reduce(\n",
    "        multiply_transfer_matrices,\n",
    "        tms\n",
    "    )\n",
    "\n",
    "    np_transfer_matrix = (\n",
    "        transfer_matrix\n",
    "        .combine_legs([['vL', 'vL*'], ['vR', 'vR*']])\n",
    "        .to_ndarray()\n",
    "    )\n",
    "\n",
    "    return np_transfer_matrix"
   ]
  },
  {
   "cell_type": "markdown",
   "id": "0f622e58-e748-4efc-8733-22ea23bfb144",
   "metadata": {},
   "source": [
    "# Code"
   ]
  },
  {
   "cell_type": "markdown",
   "id": "29e31d84-2a16-46bc-995c-d52bacf244e1",
   "metadata": {},
   "source": [
    "## Schmidt values"
   ]
  },
  {
   "cell_type": "code",
   "execution_count": 22,
   "id": "2438b734-1bd7-4ce1-b772-eaf4ee9f4c36",
   "metadata": {},
   "outputs": [],
   "source": [
    "SR_values = [psi.get_SR(100) for psi in psi_dict.values()]"
   ]
  },
  {
   "cell_type": "markdown",
   "id": "b70635cb-eb22-4033-9de2-3b1a2c6587a5",
   "metadata": {},
   "source": [
    "Increase B until critical point (SPT phase)"
   ]
  },
  {
   "cell_type": "code",
   "execution_count": 23,
   "id": "5ab50a5d-95df-4b51-9316-d7e519a34eb0",
   "metadata": {},
   "outputs": [
    {
     "data": {
      "text/plain": [
       "array([0.70710678, 0.70710678])"
      ]
     },
     "execution_count": 23,
     "metadata": {},
     "output_type": "execute_result"
    }
   ],
   "source": [
    "SR_values[0]"
   ]
  },
  {
   "cell_type": "code",
   "execution_count": 30,
   "id": "1e160e29-5949-4004-a267-ae137aa4b562",
   "metadata": {},
   "outputs": [
    {
     "data": {
      "text/plain": [
       "array([7.07102179e-01, 7.07102179e-01, 1.80398424e-03, 1.80398424e-03,\n",
       "       1.80398424e-03, 1.80398424e-03, 4.60238879e-06, 4.60238879e-06])"
      ]
     },
     "execution_count": 30,
     "metadata": {},
     "output_type": "execute_result"
    }
   ],
   "source": [
    "SR_values[2]"
   ]
  },
  {
   "cell_type": "code",
   "execution_count": 31,
   "id": "b9665ea5-e1c2-49e9-94cc-506c29908f21",
   "metadata": {},
   "outputs": [
    {
     "data": {
      "text/plain": [
       "array([7.07022994e-01, 7.07022994e-01, 7.69671387e-03, 7.69671387e-03,\n",
       "       7.69671387e-03, 7.69671387e-03, 8.37870972e-05, 8.37870972e-05])"
      ]
     },
     "execution_count": 31,
     "metadata": {},
     "output_type": "execute_result"
    }
   ],
   "source": [
    "SR_values[4]"
   ]
  },
  {
   "cell_type": "code",
   "execution_count": 32,
   "id": "49cc4497-3ddd-4385-a468-f9090285b921",
   "metadata": {},
   "outputs": [
    {
     "data": {
      "text/plain": [
       "array([7.06564503e-01, 7.06564503e-01, 1.95743348e-02, 1.95743348e-02,\n",
       "       1.95743348e-02, 1.95743348e-02, 5.42278277e-04, 5.42278277e-04])"
      ]
     },
     "execution_count": 32,
     "metadata": {},
     "output_type": "execute_result"
    }
   ],
   "source": [
    "SR_values[6]"
   ]
  },
  {
   "cell_type": "code",
   "execution_count": 33,
   "id": "28247b1c-4ef4-4b64-8e09-30e65f316ebd",
   "metadata": {},
   "outputs": [
    {
     "data": {
      "text/plain": [
       "array([0.7044495 , 0.70443499, 0.04332492, 0.04332492, 0.04332402,\n",
       "       0.04332402, 0.00266456, 0.00266451])"
      ]
     },
     "execution_count": 33,
     "metadata": {},
     "output_type": "execute_result"
    }
   ],
   "source": [
    "SR_values[8]"
   ]
  },
  {
   "cell_type": "code",
   "execution_count": 34,
   "id": "14bcb271-9177-4c76-97a8-47a011c5df1c",
   "metadata": {},
   "outputs": [
    {
     "data": {
      "text/plain": [
       "array([0.70341105, 0.69848145, 0.06592236, 0.06591902, 0.06546036,\n",
       "       0.06545705, 0.00617781, 0.00613451])"
      ]
     },
     "execution_count": 34,
     "metadata": {},
     "output_type": "execute_result"
    }
   ],
   "source": [
    "SR_values[9]"
   ]
  },
  {
   "cell_type": "markdown",
   "id": "6ad1fb44-7d3b-44a5-a040-d2ef434fa0d3",
   "metadata": {},
   "source": [
    "Critical point"
   ]
  },
  {
   "cell_type": "code",
   "execution_count": 26,
   "id": "01a35cac-c2f1-4b61-a41e-c3977f52fe4e",
   "metadata": {},
   "outputs": [
    {
     "data": {
      "text/plain": [
       "array([0.89538113, 0.40599408, 0.15866992, 0.06737791, 0.05457546,\n",
       "       0.02441625, 0.01049789, 0.00778904])"
      ]
     },
     "execution_count": 26,
     "metadata": {},
     "output_type": "execute_result"
    }
   ],
   "source": [
    "SR_values[10]"
   ]
  },
  {
   "cell_type": "markdown",
   "id": "c44cd00e-5f05-4120-9153-52247fd42e1b",
   "metadata": {},
   "source": [
    "Continue increasing B (trivial phase)"
   ]
  },
  {
   "cell_type": "code",
   "execution_count": 29,
   "id": "e52205db-342c-4bf1-b5c1-d7625f9dfc83",
   "metadata": {},
   "outputs": [
    {
     "data": {
      "text/plain": [
       "array([0.90859608, 0.28759973, 0.28757468, 0.09101176, 0.01856608,\n",
       "       0.01855351, 0.00587403, 0.00581269])"
      ]
     },
     "execution_count": 29,
     "metadata": {},
     "output_type": "execute_result"
    }
   ],
   "source": [
    "SR_values[11]"
   ]
  },
  {
   "cell_type": "code",
   "execution_count": 36,
   "id": "2218aa1d-594b-40c1-aa4e-a9bf66726a13",
   "metadata": {},
   "outputs": [
    {
     "data": {
      "text/plain": [
       "array([0.94755227, 0.22269151, 0.22269149, 0.05233448, 0.01027601,\n",
       "       0.01027562, 0.00241477, 0.00240155])"
      ]
     },
     "execution_count": 36,
     "metadata": {},
     "output_type": "execute_result"
    }
   ],
   "source": [
    "SR_values[13]"
   ]
  },
  {
   "cell_type": "code",
   "execution_count": 37,
   "id": "59bce1f3-116f-4c1f-8616-6725bc57a9ab",
   "metadata": {},
   "outputs": [
    {
     "data": {
      "text/plain": [
       "array([0.9646692 , 0.18451223, 0.18451223, 0.03529132, 0.00614738,\n",
       "       0.00614728, 0.00117573, 0.00117247])"
      ]
     },
     "execution_count": 37,
     "metadata": {},
     "output_type": "execute_result"
    }
   ],
   "source": [
    "SR_values[15]"
   ]
  },
  {
   "cell_type": "code",
   "execution_count": 38,
   "id": "eccd19ba-7f77-430d-a466-7d0fc4632c1e",
   "metadata": {},
   "outputs": [
    {
     "data": {
      "text/plain": [
       "array([9.74172204e-01, 1.58571627e-01, 1.58571627e-01, 2.58115448e-02,\n",
       "       3.97020923e-03, 3.97017911e-03, 6.46226331e-04, 6.45246442e-04])"
      ]
     },
     "execution_count": 38,
     "metadata": {},
     "output_type": "execute_result"
    }
   ],
   "source": [
    "SR_values[17]"
   ]
  },
  {
   "cell_type": "code",
   "execution_count": 39,
   "id": "2c739dda-6df0-45d2-a15a-1d236b31981d",
   "metadata": {},
   "outputs": [
    {
     "data": {
      "text/plain": [
       "array([9.82343696e-01, 1.31678800e-01, 1.31678800e-01, 1.76509457e-02,\n",
       "       2.29198365e-03, 2.29197709e-03, 3.07223721e-04, 3.07005852e-04])"
      ]
     },
     "execution_count": 39,
     "metadata": {},
     "output_type": "execute_result"
    }
   ],
   "source": [
    "SR_values[20]"
   ]
  },
  {
   "cell_type": "markdown",
   "id": "77dcc7f4-3123-4edc-9f1a-474ec9c98205",
   "metadata": {},
   "source": [
    "### Conclusions\n",
    "* There is a natrual (2,4,2) grouping of the schmidt values in the non-trivial phase. Not sure about the 4 group but regardless of bond dimension (provided it's even...) can we conclude that there is a general two fold degeneraxy?\n",
    "    * This degeneracy breaks down as we approach the critical point. This could be due to numerical errors due to the long correlation length.\n",
    "* In the non-trivial phase, the largest two schmidt values dominate for low B, resulting in a value of $2^{-1/2}$. The lower values increase with incresing B. Makes sense, a more complicated state needs a higher effective bond dimension.\n",
    "* In the \"trivial\" phase:\n",
    "    * The largest schmidt value is unique and tends to 1 with increasing B.\n",
    "    * There is a natural (1, 2, 1, 2, 2) grouping. Weird!"
   ]
  },
  {
   "cell_type": "markdown",
   "id": "8ff2ae0d-0904-4d26-be42-cd9a2f112a1a",
   "metadata": {},
   "source": [
    "## Transfer matrix singular values and eigenvalues"
   ]
  },
  {
   "cell_type": "code",
   "execution_count": 19,
   "id": "9eb6f2b9-8658-4543-b6dd-e9ad07c14ab5",
   "metadata": {},
   "outputs": [],
   "source": [
    "symmetry_ops = [\n",
    "    [np_I, np_I]*40,\n",
    "    [np_X, np_I]*40,\n",
    "    [np_I, np_X]*40,\n",
    "    [np_X, np_X]*40\n",
    "]"
   ]
  },
  {
   "cell_type": "markdown",
   "id": "0c563cc4-7990-41f6-b237-aad5995ea3de",
   "metadata": {},
   "source": [
    "### B normalisation\n",
    "Calcualte the transfer matrices (in the \"B\" normalisation)."
   ]
  },
  {
   "cell_type": "code",
   "execution_count": 20,
   "id": "8d72889e-67ee-450d-b7af-975bd1ff7fac",
   "metadata": {},
   "outputs": [],
   "source": [
    "symmetry_tms = [\n",
    "    [get_symmetry_tm(psi, ops) for ops in symmetry_ops]\n",
    "    for psi in psi_dict.values()\n",
    "]   "
   ]
  },
  {
   "cell_type": "code",
   "execution_count": 79,
   "id": "ff17000d-e3fc-4a3d-b9fd-35d80d5a4c6e",
   "metadata": {},
   "outputs": [],
   "source": [
    "def singular_and_eigen_values(transfer_matrix, smallest=1e-4, num_digits=6):\n",
    "    singular_values = np.linalg.svd(transfer_matrix).S\n",
    "    filtered_singular_values = np.round(\n",
    "        singular_values[singular_values >= smallest],\n",
    "        num_digits\n",
    "    )\n",
    "\n",
    "    eigen_values = np.linalg.eig(transfer_matrix).eigenvalues\n",
    "    filtered_eigen_values = np.round(\n",
    "        eigen_values[np.abs(eigen_values) >= smallest],\n",
    "        num_digits\n",
    "    )\n",
    "\n",
    "    return (filtered_singular_values, filtered_eigen_values)"
   ]
  },
  {
   "cell_type": "markdown",
   "id": "fbb52656-8546-475d-9473-d69afec80c90",
   "metadata": {},
   "source": [
    "#### B=0"
   ]
  },
  {
   "cell_type": "code",
   "execution_count": 97,
   "id": "9330a812-dbca-47d3-b280-35f74a13e6e8",
   "metadata": {},
   "outputs": [],
   "source": [
    "index=0"
   ]
  },
  {
   "cell_type": "code",
   "execution_count": 98,
   "id": "1853799d-21b9-4f66-b3e4-20dd140f919d",
   "metadata": {},
   "outputs": [
    {
     "data": {
      "text/plain": [
       "((array([1.]), array([1.+0.j])),\n",
       " (array([1.]), array([0.990918+0.j])),\n",
       " (array([1.]), array([-0.990918+0.j])),\n",
       " (array([1.]), array([-1.+0.j])))"
      ]
     },
     "execution_count": 98,
     "metadata": {},
     "output_type": "execute_result"
    }
   ],
   "source": [
    "(\n",
    "    singular_and_eigen_values(symmetry_tms[index][0]),\n",
    "    singular_and_eigen_values(symmetry_tms[index][1]),\n",
    "    singular_and_eigen_values(symmetry_tms[index][2]),\n",
    "    singular_and_eigen_values(symmetry_tms[index][3])\n",
    ")"
   ]
  },
  {
   "cell_type": "markdown",
   "id": "63a3b34c-f033-4a1d-b32c-7bde8684024e",
   "metadata": {},
   "source": [
    "#### B=0.2"
   ]
  },
  {
   "cell_type": "code",
   "execution_count": 54,
   "id": "8f6a0e42-26dd-4667-8290-92ddf8acb9fe",
   "metadata": {},
   "outputs": [],
   "source": [
    "index=2"
   ]
  },
  {
   "cell_type": "code",
   "execution_count": 72,
   "id": "4fad4eeb-9230-49fe-b92b-36e5278cabb6",
   "metadata": {},
   "outputs": [
    {
     "data": {
      "text/plain": [
       "((array([1.999974]), array([1.+0.j])),\n",
       " (array([1.999974]), array([-0.626357+0.j])),\n",
       " (array([1.999974]), array([-0.626365+0.j])),\n",
       " (array([1.999974]), array([0.999984+0.j])))"
      ]
     },
     "execution_count": 72,
     "metadata": {},
     "output_type": "execute_result"
    }
   ],
   "source": [
    "(\n",
    "    singular_and_eigen_values(symmetry_tms[index][0]),\n",
    "    singular_and_eigen_values(symmetry_tms[index][1]),\n",
    "    singular_and_eigen_values(symmetry_tms[index][2]),\n",
    "    singular_and_eigen_values(symmetry_tms[index][3])\n",
    ")"
   ]
  },
  {
   "cell_type": "markdown",
   "id": "6c28e933-dd30-4994-8a87-7145bfd264e4",
   "metadata": {},
   "source": [
    "#### B=0.4"
   ]
  },
  {
   "cell_type": "code",
   "execution_count": 75,
   "id": "dc98df49-ae87-44c9-abd8-040641b362f9",
   "metadata": {},
   "outputs": [],
   "source": [
    "index=4"
   ]
  },
  {
   "cell_type": "code",
   "execution_count": 76,
   "id": "5d74c6d5-fd8d-432b-a72a-bb969bc33b01",
   "metadata": {},
   "outputs": [
    {
     "data": {
      "text/plain": [
       "((array([1.999526]), array([1.+0.j])),\n",
       " (array([1.999526]), array([0.122726+0.j])),\n",
       " (array([1.999526]), array([-0.12273+0.j])),\n",
       " (array([1.999526]), array([-0.999989+0.j])))"
      ]
     },
     "execution_count": 76,
     "metadata": {},
     "output_type": "execute_result"
    }
   ],
   "source": [
    "(\n",
    "    singular_and_eigen_values(symmetry_tms[index][0]),\n",
    "    singular_and_eigen_values(symmetry_tms[index][1]),\n",
    "    singular_and_eigen_values(symmetry_tms[index][2]),\n",
    "    singular_and_eigen_values(symmetry_tms[index][3])\n",
    ")"
   ]
  },
  {
   "cell_type": "markdown",
   "id": "71051a25-92a6-4a9b-9b68-4758553242ef",
   "metadata": {},
   "source": [
    "#### B=0.5"
   ]
  },
  {
   "cell_type": "code",
   "execution_count": 73,
   "id": "2e695679-001b-4ca7-bc46-f3eba9b05ed2",
   "metadata": {},
   "outputs": [],
   "source": [
    "index=5"
   ]
  },
  {
   "cell_type": "code",
   "execution_count": 74,
   "id": "a9f37d2e-018b-4abc-88d7-f73ab29d0b1c",
   "metadata": {},
   "outputs": [
    {
     "data": {
      "text/plain": [
       "((array([1.998715]), array([1.+0.j])),\n",
       " (array([1.998715]), array([-0.000366+0.j])),\n",
       " (array([1.998715]), array([-0.000366+0.j])),\n",
       " (array([1.998715]), array([0.999357+0.j])))"
      ]
     },
     "execution_count": 74,
     "metadata": {},
     "output_type": "execute_result"
    }
   ],
   "source": [
    "(\n",
    "    singular_and_eigen_values(symmetry_tms[index][0]),\n",
    "    singular_and_eigen_values(symmetry_tms[index][1]),\n",
    "    singular_and_eigen_values(symmetry_tms[index][2]),\n",
    "    singular_and_eigen_values(symmetry_tms[index][3])\n",
    ")"
   ]
  },
  {
   "cell_type": "markdown",
   "id": "19bd5e1b-ee4b-432f-81fb-3720be4df1d6",
   "metadata": {},
   "source": [
    "#### B=0.7"
   ]
  },
  {
   "cell_type": "code",
   "execution_count": 80,
   "id": "f35d6394-6557-454c-ac78-82877a0668c6",
   "metadata": {},
   "outputs": [],
   "source": [
    "index=7\n",
    "smallest = 1e-6"
   ]
  },
  {
   "cell_type": "code",
   "execution_count": 81,
   "id": "a682d22f-e8da-4efe-82e9-fab6f3682743",
   "metadata": {},
   "outputs": [
    {
     "data": {
      "text/plain": [
       "((array([1.99316]), array([1.+0.j])),\n",
       " (array([1.99316]), array([0.000252+0.j])),\n",
       " (array([1.99316]), array([-0.000251+0.j])),\n",
       " (array([1.99316]), array([-0.99316+0.j])))"
      ]
     },
     "execution_count": 81,
     "metadata": {},
     "output_type": "execute_result"
    }
   ],
   "source": [
    "(\n",
    "    singular_and_eigen_values(symmetry_tms[index][0], smallest=smallest),\n",
    "    singular_and_eigen_values(symmetry_tms[index][1], smallest=smallest),\n",
    "    singular_and_eigen_values(symmetry_tms[index][2], smallest=smallest),\n",
    "    singular_and_eigen_values(symmetry_tms[index][3], smallest=smallest)\n",
    ")"
   ]
  },
  {
   "cell_type": "markdown",
   "id": "62c7651d-8c68-4db3-97ea-8410537edfd6",
   "metadata": {},
   "source": [
    "#### B=0.9"
   ]
  },
  {
   "cell_type": "code",
   "execution_count": 86,
   "id": "794920ce-e9a1-4998-87e2-0fc7da32cfaa",
   "metadata": {},
   "outputs": [],
   "source": [
    "index=9\n",
    "smallest = 1e-4"
   ]
  },
  {
   "cell_type": "code",
   "execution_count": 87,
   "id": "0138c863-cb58-4abd-8788-ad05afcd9911",
   "metadata": {},
   "outputs": [
    {
     "data": {
      "text/plain": [
       "((array([1.966918e+00, 3.730000e-04, 3.720000e-04]), array([1.+0.j])),\n",
       " (array([1.966716e+00, 3.730000e-04, 3.720000e-04]), array([0.040828-0.j])),\n",
       " (array([1.963493e+00, 3.730000e-04, 3.720000e-04]), array([0.040825-0.j])),\n",
       " (array([1.963291e+00, 3.730000e-04, 3.720000e-04]), array([0.981271-0.j])))"
      ]
     },
     "execution_count": 87,
     "metadata": {},
     "output_type": "execute_result"
    }
   ],
   "source": [
    "(\n",
    "    singular_and_eigen_values(symmetry_tms[index][0], smallest=smallest),\n",
    "    singular_and_eigen_values(symmetry_tms[index][1], smallest=smallest),\n",
    "    singular_and_eigen_values(symmetry_tms[index][2], smallest=smallest),\n",
    "    singular_and_eigen_values(symmetry_tms[index][3], smallest=smallest)\n",
    ")"
   ]
  },
  {
   "cell_type": "markdown",
   "id": "1f98e895-7df2-4887-8761-01468fab6186",
   "metadata": {},
   "source": [
    "#### B=1.0"
   ]
  },
  {
   "cell_type": "code",
   "execution_count": 88,
   "id": "c70e06d6-3be9-4f0d-ae81-775ac5dd2338",
   "metadata": {},
   "outputs": [],
   "source": [
    "index=10\n",
    "smallest = 1e-4"
   ]
  },
  {
   "cell_type": "code",
   "execution_count": 89,
   "id": "071ff2fa-a869-4934-8802-b6819549c264",
   "metadata": {},
   "outputs": [
    {
     "data": {
      "text/plain": [
       "((array([2.315801, 0.004263]), array([1.      +0.j, 0.001672+0.j])),\n",
       " (array([2.315799, 0.004263]), array([0.999999-0.j, 0.001672+0.j])),\n",
       " (array([0.160169, 0.135437]), array([0.058347+0.j, 0.081438+0.j])),\n",
       " (array([0.160161, 0.135443]), array([0.058349+0.j, 0.081436+0.j])))"
      ]
     },
     "execution_count": 89,
     "metadata": {},
     "output_type": "execute_result"
    }
   ],
   "source": [
    "(\n",
    "    singular_and_eigen_values(symmetry_tms[index][0], smallest=smallest),\n",
    "    singular_and_eigen_values(symmetry_tms[index][1], smallest=smallest),\n",
    "    singular_and_eigen_values(symmetry_tms[index][2], smallest=smallest),\n",
    "    singular_and_eigen_values(symmetry_tms[index][3], smallest=smallest)\n",
    ")"
   ]
  },
  {
   "cell_type": "markdown",
   "id": "90074c0b-ef5f-4255-bee2-ec21ba7a07e8",
   "metadata": {},
   "source": [
    "#### B=1.1"
   ]
  },
  {
   "cell_type": "code",
   "execution_count": 90,
   "id": "3a495216-a58d-4613-8eb9-91324d4a43d7",
   "metadata": {},
   "outputs": [],
   "source": [
    "index=11\n",
    "smallest = 1e-4"
   ]
  },
  {
   "cell_type": "code",
   "execution_count": 91,
   "id": "727a75e5-cf0a-42b9-bab9-42f18e041656",
   "metadata": {},
   "outputs": [
    {
     "data": {
      "text/plain": [
       "((array([2.35587e+00, 3.78000e-04, 1.55000e-04]),\n",
       "  array([ 1.00e+00+0.j, -1.67e-04+0.j])),\n",
       " (array([2.35587e+00, 3.78000e-04, 1.55000e-04]),\n",
       "  array([ 9.99909e-01+0.j, -1.67000e-04+0.j])),\n",
       " (array([2.35587e+00, 3.78000e-04, 1.55000e-04]),\n",
       "  array([ 9.99909e-01+0.j, -1.67000e-04+0.j])),\n",
       " (array([2.35587e+00, 3.78000e-04, 1.55000e-04]),\n",
       "  array([ 1.00e+00+0.j, -1.67e-04+0.j])))"
      ]
     },
     "execution_count": 91,
     "metadata": {},
     "output_type": "execute_result"
    }
   ],
   "source": [
    "(\n",
    "    singular_and_eigen_values(symmetry_tms[index][0], smallest=smallest),\n",
    "    singular_and_eigen_values(symmetry_tms[index][1], smallest=smallest),\n",
    "    singular_and_eigen_values(symmetry_tms[index][2], smallest=smallest),\n",
    "    singular_and_eigen_values(symmetry_tms[index][3], smallest=smallest)\n",
    ")"
   ]
  },
  {
   "cell_type": "markdown",
   "id": "a8c3195e-b43e-45e5-8f2f-ca8964b5a69e",
   "metadata": {},
   "source": [
    "#### B=1.5"
   ]
  },
  {
   "cell_type": "code",
   "execution_count": 93,
   "id": "92e2504e-8cc1-4be8-ac03-8ba4ff50e22c",
   "metadata": {},
   "outputs": [],
   "source": [
    "index=15\n",
    "smallest = 1e-4"
   ]
  },
  {
   "cell_type": "code",
   "execution_count": 94,
   "id": "0030fab4-ad0e-48f8-a8d2-d8ad8074c8f5",
   "metadata": {},
   "outputs": [
    {
     "data": {
      "text/plain": [
       "((array([2.635619]), array([1.+0.j])),\n",
       " (array([2.635619]), array([1.+0.j])),\n",
       " (array([2.635619]), array([1.+0.j])),\n",
       " (array([2.635619]), array([1.+0.j])))"
      ]
     },
     "execution_count": 94,
     "metadata": {},
     "output_type": "execute_result"
    }
   ],
   "source": [
    "(\n",
    "    singular_and_eigen_values(symmetry_tms[index][0], smallest=smallest),\n",
    "    singular_and_eigen_values(symmetry_tms[index][1], smallest=smallest),\n",
    "    singular_and_eigen_values(symmetry_tms[index][2], smallest=smallest),\n",
    "    singular_and_eigen_values(symmetry_tms[index][3], smallest=smallest)\n",
    ")"
   ]
  },
  {
   "cell_type": "markdown",
   "id": "2c2eeb8e-37f4-4872-bdcb-e92bc8324ca5",
   "metadata": {},
   "source": [
    "#### B=2.0"
   ]
  },
  {
   "cell_type": "code",
   "execution_count": 95,
   "id": "8fd719a0-8291-465e-a8e5-99192eff0ae0",
   "metadata": {},
   "outputs": [],
   "source": [
    "index=20\n",
    "smallest = 1e-4"
   ]
  },
  {
   "cell_type": "code",
   "execution_count": 96,
   "id": "951c133d-8a23-4f27-91b5-e89aec748679",
   "metadata": {},
   "outputs": [
    {
     "data": {
      "text/plain": [
       "((array([2.730311]), array([1.+0.j])),\n",
       " (array([2.730311]), array([1.+0.j])),\n",
       " (array([2.730311]), array([1.+0.j])),\n",
       " (array([2.730311]), array([1.+0.j])))"
      ]
     },
     "execution_count": 96,
     "metadata": {},
     "output_type": "execute_result"
    }
   ],
   "source": [
    "(\n",
    "    singular_and_eigen_values(symmetry_tms[index][0], smallest=smallest),\n",
    "    singular_and_eigen_values(symmetry_tms[index][1], smallest=smallest),\n",
    "    singular_and_eigen_values(symmetry_tms[index][2], smallest=smallest),\n",
    "    singular_and_eigen_values(symmetry_tms[index][3], smallest=smallest)\n",
    ")"
   ]
  },
  {
   "cell_type": "markdown",
   "id": "55aa6d19-c3ef-44d7-9ef0-acd400201390",
   "metadata": {},
   "source": [
    "### Symmetric normalisation\n",
    "Incorporate the schmidt values on the left hand side. Should make the left and right regions symmetric."
   ]
  },
  {
   "cell_type": "code",
   "execution_count": 103,
   "id": "9ac800e2-de9f-46a8-8ada-4e48cccf5fac",
   "metadata": {},
   "outputs": [],
   "source": [
    "def get_symmetric_symmetry_tm(psi, symmetry_operations):\n",
    "    index = (psi.L - len(symmetry_operations))//2\n",
    "\n",
    "    tms = get_transfer_matrices_from_unitary_list(\n",
    "        psi,\n",
    "        symmetry_operations,\n",
    "        index\n",
    "    )\n",
    "\n",
    "    transfer_matrix = reduce(\n",
    "        multiply_transfer_matrices,\n",
    "        tms\n",
    "    )\n",
    "\n",
    "    left_leg = psi.get_B(index).legs[0]\n",
    "    SL = npc.diag(psi.get_SL(index), left_leg, labels = ['vL', 'vR'])\n",
    "    \n",
    "    transfer_matrix = npc.tensordot(\n",
    "        SL,\n",
    "        transfer_matrix,\n",
    "        [['vR',],  ['vL',]]\n",
    "    )\n",
    "    transfer_matrix = npc.tensordot(\n",
    "        SL.conj(),\n",
    "        transfer_matrix,\n",
    "        [['vR*',],  ['vL*',]]\n",
    "    )\n",
    "    \n",
    "    np_transfer_matrix = (\n",
    "        transfer_matrix\n",
    "        .combine_legs([['vL', 'vL*'], ['vR', 'vR*']])\n",
    "        .to_ndarray()\n",
    "    )\n",
    "\n",
    "    return np_transfer_matrix"
   ]
  },
  {
   "cell_type": "code",
   "execution_count": 104,
   "id": "3aa2b09f-a4fd-409a-9962-fec6e34cfa24",
   "metadata": {},
   "outputs": [],
   "source": [
    "symmetric_symmetry_tms = [\n",
    "    [get_symmetric_symmetry_tm(psi, ops) for ops in symmetry_ops]\n",
    "    for psi in psi_dict.values()\n",
    "]   "
   ]
  },
  {
   "cell_type": "markdown",
   "id": "a0f2aa2f-2d07-41e9-b308-909172404aa0",
   "metadata": {},
   "source": [
    "#### B=0"
   ]
  },
  {
   "cell_type": "code",
   "execution_count": 113,
   "id": "40502483-a500-4c1f-aa01-726d363dc361",
   "metadata": {},
   "outputs": [],
   "source": [
    "index=0"
   ]
  },
  {
   "cell_type": "code",
   "execution_count": 114,
   "id": "33dd10d2-63b6-4d94-9396-c13dc53a96e3",
   "metadata": {},
   "outputs": [
    {
     "data": {
      "text/plain": [
       "((array([0.5]), array([0.5+0.j])),\n",
       " (array([0.5]), array([0.495459+0.j])),\n",
       " (array([0.5]), array([-0.495459+0.j])),\n",
       " (array([0.5]), array([-0.5+0.j])))"
      ]
     },
     "execution_count": 114,
     "metadata": {},
     "output_type": "execute_result"
    }
   ],
   "source": [
    "(\n",
    "    singular_and_eigen_values(symmetric_symmetry_tms[index][0]),\n",
    "    singular_and_eigen_values(symmetric_symmetry_tms[index][1]),\n",
    "    singular_and_eigen_values(symmetric_symmetry_tms[index][2]),\n",
    "    singular_and_eigen_values(symmetric_symmetry_tms[index][3])\n",
    ")"
   ]
  },
  {
   "cell_type": "markdown",
   "id": "c0508ee3-006b-4d7d-854e-cb5eef0a5145",
   "metadata": {},
   "source": [
    "#### B=0.2"
   ]
  },
  {
   "cell_type": "code",
   "execution_count": 115,
   "id": "37d1585f-c825-4189-8c84-3215383191fc",
   "metadata": {},
   "outputs": [],
   "source": [
    "index=2"
   ]
  },
  {
   "cell_type": "code",
   "execution_count": 116,
   "id": "cbc6c2c9-2954-4473-a865-f0d7c0461b65",
   "metadata": {},
   "outputs": [
    {
     "data": {
      "text/plain": [
       "((array([0.499987]), array([0.499987+0.j])),\n",
       " (array([0.499987]), array([-0.313174+0.j])),\n",
       " (array([0.499987]), array([-0.313174+0.j])),\n",
       " (array([0.499987]), array([0.499987+0.j])))"
      ]
     },
     "execution_count": 116,
     "metadata": {},
     "output_type": "execute_result"
    }
   ],
   "source": [
    "(\n",
    "    singular_and_eigen_values(symmetric_symmetry_tms[index][0]),\n",
    "    singular_and_eigen_values(symmetric_symmetry_tms[index][1]),\n",
    "    singular_and_eigen_values(symmetric_symmetry_tms[index][2]),\n",
    "    singular_and_eigen_values(symmetric_symmetry_tms[index][3])\n",
    ")"
   ]
  },
  {
   "cell_type": "markdown",
   "id": "59b716bd-6c1c-48ac-8055-7984f1e52600",
   "metadata": {},
   "source": [
    "#### B=0.4"
   ]
  },
  {
   "cell_type": "code",
   "execution_count": 117,
   "id": "c263b537-f9ed-4611-8dfb-f6218c666f9e",
   "metadata": {},
   "outputs": [],
   "source": [
    "index=4"
   ]
  },
  {
   "cell_type": "code",
   "execution_count": 118,
   "id": "92f86863-0b76-40eb-87dc-3d7404107287",
   "metadata": {},
   "outputs": [
    {
     "data": {
      "text/plain": [
       "((array([0.499763]), array([0.499763+0.j])),\n",
       " (array([0.499763]), array([0.061354+0.j])),\n",
       " (array([0.499763]), array([-0.061354+0.j])),\n",
       " (array([0.499763]), array([-0.499763+0.j])))"
      ]
     },
     "execution_count": 118,
     "metadata": {},
     "output_type": "execute_result"
    }
   ],
   "source": [
    "(\n",
    "    singular_and_eigen_values(symmetric_symmetry_tms[index][0]),\n",
    "    singular_and_eigen_values(symmetric_symmetry_tms[index][1]),\n",
    "    singular_and_eigen_values(symmetric_symmetry_tms[index][2]),\n",
    "    singular_and_eigen_values(symmetric_symmetry_tms[index][3])\n",
    ")"
   ]
  },
  {
   "cell_type": "markdown",
   "id": "6a22828e-2638-4954-81b6-d0948491a46d",
   "metadata": {},
   "source": [
    "#### B=0.5"
   ]
  },
  {
   "cell_type": "code",
   "execution_count": 119,
   "id": "6596b634-ab35-4571-8bac-0b1a195178d2",
   "metadata": {},
   "outputs": [],
   "source": [
    "index=5"
   ]
  },
  {
   "cell_type": "code",
   "execution_count": 120,
   "id": "7359d06a-520c-4e9b-a052-69f8ec485059",
   "metadata": {},
   "outputs": [
    {
     "data": {
      "text/plain": [
       "((array([0.499358]), array([0.499358+0.j])),\n",
       " (array([0.499358]), array([-0.000183+0.j])),\n",
       " (array([0.499358]), array([-0.000183+0.j])),\n",
       " (array([0.499358]), array([0.499358+0.j])))"
      ]
     },
     "execution_count": 120,
     "metadata": {},
     "output_type": "execute_result"
    }
   ],
   "source": [
    "(\n",
    "    singular_and_eigen_values(symmetric_symmetry_tms[index][0]),\n",
    "    singular_and_eigen_values(symmetric_symmetry_tms[index][1]),\n",
    "    singular_and_eigen_values(symmetric_symmetry_tms[index][2]),\n",
    "    singular_and_eigen_values(symmetric_symmetry_tms[index][3])\n",
    ")"
   ]
  },
  {
   "cell_type": "markdown",
   "id": "f738b049-2773-4fa3-9266-3f1a466c3b8c",
   "metadata": {},
   "source": [
    "#### B=0.7"
   ]
  },
  {
   "cell_type": "code",
   "execution_count": 121,
   "id": "acf7b124-9b90-43fb-a6d1-82be294c3677",
   "metadata": {},
   "outputs": [],
   "source": [
    "index=7\n",
    "smallest = 1e-6"
   ]
  },
  {
   "cell_type": "code",
   "execution_count": 122,
   "id": "51321283-955a-4539-99bc-95e6cd5eb450",
   "metadata": {},
   "outputs": [
    {
     "data": {
      "text/plain": [
       "((array([0.496586]), array([0.496586+0.j])),\n",
       " (array([0.496586]), array([0.000125+0.j])),\n",
       " (array([0.496586]), array([-0.000125-0.j])),\n",
       " (array([0.496586]), array([-0.49658+0.j])))"
      ]
     },
     "execution_count": 122,
     "metadata": {},
     "output_type": "execute_result"
    }
   ],
   "source": [
    "(\n",
    "    singular_and_eigen_values(symmetric_symmetry_tms[index][0], smallest=smallest),\n",
    "    singular_and_eigen_values(symmetric_symmetry_tms[index][1], smallest=smallest),\n",
    "    singular_and_eigen_values(symmetric_symmetry_tms[index][2], smallest=smallest),\n",
    "    singular_and_eigen_values(symmetric_symmetry_tms[index][3], smallest=smallest)\n",
    ")"
   ]
  },
  {
   "cell_type": "markdown",
   "id": "67666545-c60e-4fb5-a2e3-44e52678c028",
   "metadata": {},
   "source": [
    "#### B=0.9"
   ]
  },
  {
   "cell_type": "code",
   "execution_count": 123,
   "id": "2f3b1d43-c5e2-4d06-b50f-bb81fd224f1d",
   "metadata": {},
   "outputs": [],
   "source": [
    "index=9\n",
    "smallest = 1e-4"
   ]
  },
  {
   "cell_type": "code",
   "execution_count": 124,
   "id": "1abee4cc-f87c-46c9-b221-fd942a65473a",
   "metadata": {},
   "outputs": [
    {
     "data": {
      "text/plain": [
       "((array([0.483596]), array([0.483596+0.j])),\n",
       " (array([0.482753]), array([0.020243+0.j])),\n",
       " (array([0.482753]), array([0.020243+0.j])),\n",
       " (array([0.481912]), array([0.481834+0.j])))"
      ]
     },
     "execution_count": 124,
     "metadata": {},
     "output_type": "execute_result"
    }
   ],
   "source": [
    "(\n",
    "    singular_and_eigen_values(symmetric_symmetry_tms[index][0], smallest=smallest),\n",
    "    singular_and_eigen_values(symmetric_symmetry_tms[index][1], smallest=smallest),\n",
    "    singular_and_eigen_values(symmetric_symmetry_tms[index][2], smallest=smallest),\n",
    "    singular_and_eigen_values(symmetric_symmetry_tms[index][3], smallest=smallest)\n",
    ")"
   ]
  },
  {
   "cell_type": "markdown",
   "id": "4124e314-81c2-4488-bb8b-7360b22571c7",
   "metadata": {},
   "source": [
    "#### B=1.0"
   ]
  },
  {
   "cell_type": "code",
   "execution_count": 125,
   "id": "df76f963-22e3-4030-84eb-23cbb334b3f7",
   "metadata": {},
   "outputs": [],
   "source": [
    "index=10\n",
    "smallest = 1e-4"
   ]
  },
  {
   "cell_type": "code",
   "execution_count": 126,
   "id": "d21d313d-cd98-4ab3-86ff-88e6173b64ec",
   "metadata": {},
   "outputs": [
    {
     "data": {
      "text/plain": [
       "((array([6.70405e-01, 3.80000e-04]),\n",
       "  array([6.70405e-01+0.j, 3.80000e-04+0.j])),\n",
       " (array([6.70404e-01, 3.80000e-04]),\n",
       "  array([6.70404e-01+0.j, 3.80000e-04+0.j])),\n",
       " (array([0.026992, 0.026135]), array([0.026992+0.j, 0.026135+0.j])),\n",
       " (array([0.026982, 0.026145]), array([0.026982+0.j, 0.026144-0.j])))"
      ]
     },
     "execution_count": 126,
     "metadata": {},
     "output_type": "execute_result"
    }
   ],
   "source": [
    "(\n",
    "    singular_and_eigen_values(symmetric_symmetry_tms[index][0], smallest=smallest),\n",
    "    singular_and_eigen_values(symmetric_symmetry_tms[index][1], smallest=smallest),\n",
    "    singular_and_eigen_values(symmetric_symmetry_tms[index][2], smallest=smallest),\n",
    "    singular_and_eigen_values(symmetric_symmetry_tms[index][3], smallest=smallest)\n",
    ")"
   ]
  },
  {
   "cell_type": "markdown",
   "id": "bbec6c36-fd2a-4dcf-8d3f-374d86afd9d4",
   "metadata": {},
   "source": [
    "#### B=1.1"
   ]
  },
  {
   "cell_type": "code",
   "execution_count": 127,
   "id": "9556ce80-5c7c-449b-943e-a5ff1cba6886",
   "metadata": {},
   "outputs": [],
   "source": [
    "index=11\n",
    "smallest = 1e-4"
   ]
  },
  {
   "cell_type": "code",
   "execution_count": 128,
   "id": "9402c904-6ff1-4b57-9f9c-0379e3b2c7a7",
   "metadata": {},
   "outputs": [
    {
     "data": {
      "text/plain": [
       "((array([0.694509]), array([0.694508+0.j])),\n",
       " (array([0.694509]), array([0.694508+0.j])),\n",
       " (array([0.694509]), array([0.694508+0.j])),\n",
       " (array([0.694509]), array([0.694508+0.j])))"
      ]
     },
     "execution_count": 128,
     "metadata": {},
     "output_type": "execute_result"
    }
   ],
   "source": [
    "(\n",
    "    singular_and_eigen_values(symmetric_symmetry_tms[index][0], smallest=smallest),\n",
    "    singular_and_eigen_values(symmetric_symmetry_tms[index][1], smallest=smallest),\n",
    "    singular_and_eigen_values(symmetric_symmetry_tms[index][2], smallest=smallest),\n",
    "    singular_and_eigen_values(symmetric_symmetry_tms[index][3], smallest=smallest)\n",
    ")"
   ]
  },
  {
   "cell_type": "markdown",
   "id": "a2cf561d-6b3d-4736-9f31-94bd99e423ad",
   "metadata": {},
   "source": [
    "#### B=1.5"
   ]
  },
  {
   "cell_type": "code",
   "execution_count": 129,
   "id": "e32e4350-dd5e-4a22-b894-45f02014f093",
   "metadata": {},
   "outputs": [],
   "source": [
    "index=15\n",
    "smallest = 1e-4"
   ]
  },
  {
   "cell_type": "code",
   "execution_count": 130,
   "id": "ca1ed80e-fc2b-437f-a86a-b129870a97c0",
   "metadata": {},
   "outputs": [
    {
     "data": {
      "text/plain": [
       "((array([0.868311]), array([0.868311+0.j])),\n",
       " (array([0.868311]), array([0.868311+0.j])),\n",
       " (array([0.868311]), array([0.868311+0.j])),\n",
       " (array([0.868311]), array([0.868311+0.j])))"
      ]
     },
     "execution_count": 130,
     "metadata": {},
     "output_type": "execute_result"
    }
   ],
   "source": [
    "(\n",
    "    singular_and_eigen_values(symmetric_symmetry_tms[index][0], smallest=smallest),\n",
    "    singular_and_eigen_values(symmetric_symmetry_tms[index][1], smallest=smallest),\n",
    "    singular_and_eigen_values(symmetric_symmetry_tms[index][2], smallest=smallest),\n",
    "    singular_and_eigen_values(symmetric_symmetry_tms[index][3], smallest=smallest)\n",
    ")"
   ]
  },
  {
   "cell_type": "markdown",
   "id": "d630befa-9ceb-45a2-a83d-893c33c1b85c",
   "metadata": {},
   "source": [
    "#### B=2.0"
   ]
  },
  {
   "cell_type": "code",
   "execution_count": 131,
   "id": "c215765e-dedd-4dde-b460-963f5e38603a",
   "metadata": {},
   "outputs": [],
   "source": [
    "index=20\n",
    "smallest = 1e-4"
   ]
  },
  {
   "cell_type": "code",
   "execution_count": 132,
   "id": "04662174-8047-40e0-8ac2-d7cd96f51bf5",
   "metadata": {},
   "outputs": [
    {
     "data": {
      "text/plain": [
       "((array([0.931825]), array([0.931825+0.j])),\n",
       " (array([0.931825]), array([0.931825+0.j])),\n",
       " (array([0.931825]), array([0.931825+0.j])),\n",
       " (array([0.931825]), array([0.931825+0.j])))"
      ]
     },
     "execution_count": 132,
     "metadata": {},
     "output_type": "execute_result"
    }
   ],
   "source": [
    "(\n",
    "    singular_and_eigen_values(symmetric_symmetry_tms[index][0], smallest=smallest),\n",
    "    singular_and_eigen_values(symmetric_symmetry_tms[index][1], smallest=smallest),\n",
    "    singular_and_eigen_values(symmetric_symmetry_tms[index][2], smallest=smallest),\n",
    "    singular_and_eigen_values(symmetric_symmetry_tms[index][3], smallest=smallest)\n",
    ")"
   ]
  },
  {
   "cell_type": "markdown",
   "id": "6ab61578-b43f-44d8-aa70-596297e052cb",
   "metadata": {},
   "source": [
    "### Conclusions\n",
    "* B gauge\n",
    "    * Nontrivial phase\n",
    "        * Dominant singular value is 2 and decreases with B, constant across symmetry operations. Is only 1 for the B=0 phase, implying bond dimension dependence.\n",
    "        * The eigenvalues of the $II$ and $XX$ transfer matrices are 1. The eigenvalues for $IX$ and $XI$ are typically much smaller, and can change sign. These smaller eigenvalues seem to have an upward parabolic shape wrt B. \n",
    "    * Trivial phase\n",
    "        * Dominant singular values increase with B and are fixed across symmetry operations.\n",
    "        * The dominant eigenvalue is 1 consistently.\n",
    "* Symmetric gauge\n",
    "    * Nontrivial phase\n",
    "        * Dominant singular value is typically 0.5, slightly decreasing with B (although this could be an artifact of increasing correlation length).\n",
    "        * The eigenvalues of the $II$ and $XX$ transfer matrices agree with the dominant singular value. The eigenvalues for $IX$ and $XI$ are typically much smaller, and can change sign. These smaller eigenvalues seem to have an upward parabolic shape wrt B.    \n",
    "    * Trivial phase\n",
    "        * There is a single dominant singular value and eigenvalue, and they agree across all symmetry operations.\n",
    "        * This value increases with B. Tends towards 1 for perfect product state?"
   ]
  },
  {
   "cell_type": "markdown",
   "id": "8558386a-df1c-4826-ad7d-b9e62473c8fe",
   "metadata": {},
   "source": [
    "## Symmetry projected states\n",
    "The dominant singular value and eigenvalue are non-degenerate. So can find eigenvectors and SVD decomposition, and investigate the structure of these vectors wrt the upper and lower legs.\n",
    "\n",
    "Check how well this approximates the original transfer matrix."
   ]
  },
  {
   "cell_type": "code",
   "execution_count": 20,
   "id": "399c0b29-52ea-481e-b97b-8012971a834d",
   "metadata": {},
   "outputs": [],
   "source": [
    "symmetry_tms = [\n",
    "    [get_symmetry_tm(psi, ops) for ops in symmetry_ops]\n",
    "    for psi in psi_dict.values()\n",
    "]   "
   ]
  },
  {
   "cell_type": "code",
   "execution_count": 140,
   "id": "2efba8a2-a0d6-463b-b531-6d168b602c0c",
   "metadata": {},
   "outputs": [],
   "source": [
    "def reshape_1D_array_to_square(a):\n",
    "    assert len(a.shape) == 1\n",
    "    N = len(a)\n",
    "\n",
    "    sqrt_N = np.sqrt(N)\n",
    "    assert int(sqrt_N)**2 == N\n",
    "    sqrt_N = int(sqrt_N)\n",
    "\n",
    "    return a.reshape((sqrt_N, sqrt_N))"
   ]
  },
  {
   "cell_type": "code",
   "execution_count": 141,
   "id": "a9bba1f4-c711-4322-b7fa-fc98bcf9f773",
   "metadata": {},
   "outputs": [],
   "source": [
    "def singular_and_eigen_vectors(transfer_matrix):\n",
    "    U, S, Vh = np.linalg.svd(transfer_matrix)\n",
    "    left_projected_state = U[:, 0]\n",
    "    right_projected_state = Vh[0]\n",
    "\n",
    "    svd_approx_tm = S[0]*np.outer(left_projected_state, right_projected_state)\n",
    "    svd_approx_score = np.linalg.norm(svd_approx_tm - transfer_matrix)\n",
    "\n",
    "    eig_vals, eig_vecs = np.linalg.eig(transfer_matrix)\n",
    "    dom_eig_index = np.argmax(np.abs(eig_vals))\n",
    "    \n",
    "    dom_eig_vec = eig_vecs[dom_eig_index]\n",
    "    dom_eig_val = eig_vals[dom_eig_index]\n",
    "    eig_approx_tm = dom_eig_val*np.outer(dom_eig_vec, dom_eig_vec.conj())\n",
    "    eig_approx_score = np.linalg.norm(eig_approx_tm - transfer_matrix)\n",
    "\n",
    "    reshape_and_svd_eig_vals = (\n",
    "        lambda x: singular_and_eigen_values(reshape_1D_array_to_square(x))\n",
    "    )\n",
    "\n",
    "    out = (\n",
    "        svd_approx_score,\n",
    "        reshape_and_svd_eig_vals(right_projected_state),\n",
    "        reshape_and_svd_eig_vals(left_projected_state),\n",
    "        eig_approx_score,\n",
    "        reshape_and_svd_eig_vals(dom_eig_vec),\n",
    "    )\n",
    "\n",
    "    return out"
   ]
  },
  {
   "cell_type": "code",
   "execution_count": 145,
   "id": "35dfa2e2-65e9-4a63-a61d-f4e48e0c25fd",
   "metadata": {},
   "outputs": [],
   "source": [
    "singular_and_eigen_vectors_data = [\n",
    "    [singular_and_eigen_vectors(tm) for tm in l]\n",
    "    for l in symmetry_tms\n",
    "]"
   ]
  },
  {
   "cell_type": "markdown",
   "id": "052886bc-84da-4766-9466-a8d9e473bea8",
   "metadata": {},
   "source": [
    "#### SVD approximations"
   ]
  },
  {
   "cell_type": "code",
   "execution_count": 146,
   "id": "267ab0a6-c93f-41c0-9be9-43b81df815e9",
   "metadata": {},
   "outputs": [],
   "source": [
    "svd_approx_scores = np.zeros((len(singular_and_eigen_vectors_data), 4))"
   ]
  },
  {
   "cell_type": "code",
   "execution_count": 156,
   "id": "244d3ad6-3c8d-49d2-ab13-0d2eda841730",
   "metadata": {},
   "outputs": [],
   "source": [
    "for i, t in enumerate(singular_and_eigen_vectors_data):\n",
    "    for j, l in enumerate(t):\n",
    "        svd_approx_scores[i, j] = l[0]"
   ]
  },
  {
   "cell_type": "code",
   "execution_count": 157,
   "id": "caa9ed96-8a9d-4431-9668-b083bcf02a0e",
   "metadata": {},
   "outputs": [
    {
     "data": {
      "text/plain": [
       "array([[5.36346694e-16, 5.59702084e-16, 4.67068457e-17, 1.11537779e-16],\n",
       "       [4.85164237e-16, 5.74989589e-16, 6.87166274e-16, 4.53175722e-16],\n",
       "       [5.24641080e-16, 6.41149517e-16, 7.53849329e-16, 9.79082987e-16],\n",
       "       [3.73013560e-16, 1.19932635e-15, 5.53236376e-16, 8.76038272e-16],\n",
       "       [7.17313986e-16, 4.17451905e-16, 5.24113563e-16, 1.24494527e-15],\n",
       "       [1.84419317e-14, 1.84443693e-14, 1.84457972e-14, 1.84423143e-14],\n",
       "       [2.69964150e-11, 2.69964152e-11, 2.69964152e-11, 2.69964153e-11],\n",
       "       [1.39288730e-08, 1.39288730e-08, 1.39288730e-08, 1.39288730e-08],\n",
       "       [3.47279683e-06, 3.47279690e-06, 3.47280170e-06, 3.47280178e-06],\n",
       "       [5.26242950e-04, 5.26297073e-04, 5.27161092e-04, 5.27215339e-04],\n",
       "       [4.26297063e-03, 4.26296582e-03, 1.35436740e-01, 1.35443008e-01],\n",
       "       [4.08047998e-04, 4.08047998e-04, 4.08047998e-04, 4.08047998e-04],\n",
       "       [1.68318028e-05, 1.68318028e-05, 1.68318028e-05, 1.68318028e-05],\n",
       "       [9.47095255e-07, 9.47095255e-07, 9.47095255e-07, 9.47095255e-07],\n",
       "       [6.26420975e-08, 6.26420975e-08, 6.26420975e-08, 6.26420975e-08],\n",
       "       [4.82818419e-09, 4.82818419e-09, 4.82818419e-09, 4.82818419e-09],\n",
       "       [4.28956694e-10, 4.28956694e-10, 4.28956694e-10, 4.28956694e-10],\n",
       "       [4.34267750e-11, 4.34267750e-11, 4.34267750e-11, 4.34267750e-11],\n",
       "       [4.95404154e-12, 4.95404153e-12, 4.95404155e-12, 4.95404155e-12],\n",
       "       [6.30229690e-13, 6.30230033e-13, 6.30229693e-13, 6.30229915e-13],\n",
       "       [8.85662732e-14, 8.85675217e-14, 8.85688492e-14, 8.85662084e-14]])"
      ]
     },
     "execution_count": 157,
     "metadata": {},
     "output_type": "execute_result"
    }
   ],
   "source": [
    "svd_approx_scores"
   ]
  },
  {
   "cell_type": "code",
   "execution_count": 158,
   "id": "80b89ba9-765f-440c-a0b1-78084ecd56bf",
   "metadata": {},
   "outputs": [
    {
     "data": {
      "text/plain": [
       "0.13544300761679562"
      ]
     },
     "execution_count": 158,
     "metadata": {},
     "output_type": "execute_result"
    }
   ],
   "source": [
    "np.max(svd_approx_scores)"
   ]
  },
  {
   "cell_type": "code",
   "execution_count": 159,
   "id": "ad6d23bd-cefa-40ce-823c-fae995d98fc5",
   "metadata": {},
   "outputs": [
    {
     "data": {
      "text/plain": [
       "array([0.00052624, 0.0005263 , 0.00052716, 0.00052722])"
      ]
     },
     "execution_count": 159,
     "metadata": {},
     "output_type": "execute_result"
    }
   ],
   "source": [
    "svd_approx_scores[9]"
   ]
  },
  {
   "cell_type": "code",
   "execution_count": 160,
   "id": "492bb94e-2a85-40b4-b952-a27ff7de8f59",
   "metadata": {},
   "outputs": [
    {
     "data": {
      "text/plain": [
       "array([0.00040805, 0.00040805, 0.00040805, 0.00040805])"
      ]
     },
     "execution_count": 160,
     "metadata": {},
     "output_type": "execute_result"
    }
   ],
   "source": [
    "svd_approx_scores[11]"
   ]
  },
  {
   "cell_type": "markdown",
   "id": "176e071a-9314-4533-ab79-8c1c824c63c0",
   "metadata": {},
   "source": [
    "So taking the largest singualar value for the symmetry transfer matrix is a good approximation apart from the critical point. It's possible it's also poor close to the critical point."
   ]
  },
  {
   "cell_type": "markdown",
   "id": "3327c7cd-176c-4100-ae0f-9c3b887fef63",
   "metadata": {},
   "source": [
    "#### Eigenvalue approximations"
   ]
  },
  {
   "cell_type": "code",
   "execution_count": 161,
   "id": "541ab486-72cb-4a12-92c9-c69303489385",
   "metadata": {},
   "outputs": [],
   "source": [
    "eig_approx_scores = np.zeros((len(singular_and_eigen_vectors_data), 4))"
   ]
  },
  {
   "cell_type": "code",
   "execution_count": 165,
   "id": "52ae5c0c-9c1b-4120-a703-c68be084b543",
   "metadata": {},
   "outputs": [],
   "source": [
    "for i, t in enumerate(singular_and_eigen_vectors_data):\n",
    "    for j, l in enumerate(t):\n",
    "        eig_approx_scores[i, j] = l[3]"
   ]
  },
  {
   "cell_type": "code",
   "execution_count": 166,
   "id": "de6e8287-b498-4432-a39d-34679bd50d3a",
   "metadata": {},
   "outputs": [
    {
     "data": {
      "text/plain": [
       "array([[1.22474487, 1.08852046, 1.24237517, 0.00783531],\n",
       "       [1.97694077, 1.99204196, 1.99649203, 1.97246519],\n",
       "       [1.97443489, 1.99245448, 2.01061473, 1.97342094],\n",
       "       [1.99986111, 1.99750365, 1.98514497, 1.98332061],\n",
       "       [1.9995595 , 2.00341564, 1.99894589, 1.99909804],\n",
       "       [1.97156109, 1.99871487, 1.9987127 , 1.99809767],\n",
       "       [1.96991453, 1.99693476, 1.99693091, 1.99612806],\n",
       "       [1.96644909, 1.99316031, 1.99315802, 1.99367301],\n",
       "       [1.95858028, 1.98498516, 1.98499184, 1.98371456],\n",
       "       [1.93908453, 1.96670113, 1.96292795, 1.96150014],\n",
       "       [2.26718141, 2.28272216, 0.20845138, 0.20853696],\n",
       "       [2.31542812, 2.31540076, 2.31491434, 2.31486262],\n",
       "       [2.4323773 , 2.43214797, 2.43248585, 2.43239125],\n",
       "       [2.50600126, 2.50602338, 2.50603559, 2.50596088],\n",
       "       [2.55693476, 2.5569266 , 2.55691837, 2.55694076],\n",
       "       [2.59415558, 2.5941577 , 2.5941494 , 2.59414152],\n",
       "       [2.62241432, 2.62243366, 2.62241249, 2.62239503],\n",
       "       [2.64452331, 2.64452457, 2.64451103, 2.64452328],\n",
       "       [2.66225535, 2.66225069, 2.66223964, 2.66224098],\n",
       "       [2.67669843, 2.67671759, 2.67671325, 2.67670331],\n",
       "       [2.70149875, 2.68867912, 2.68868451, 2.68868867]])"
      ]
     },
     "execution_count": 166,
     "metadata": {},
     "output_type": "execute_result"
    }
   ],
   "source": [
    "eig_approx_scores"
   ]
  },
  {
   "cell_type": "markdown",
   "id": "7a4ee80e-161d-4923-8c55-50e573d02ddb",
   "metadata": {},
   "source": [
    "The eigenvalue decomposition is universally bad."
   ]
  },
  {
   "cell_type": "markdown",
   "id": "576fcdc1-f7eb-4f59-8956-3baa0efb5917",
   "metadata": {},
   "source": [
    "#### Eigenvalues and eigenvectors of right projected states"
   ]
  },
  {
   "cell_type": "code",
   "execution_count": 170,
   "id": "20605221-2160-4588-8292-9d9b331a27cd",
   "metadata": {},
   "outputs": [
    {
     "data": {
      "text/plain": [
       "0.7071067811865475"
      ]
     },
     "execution_count": 170,
     "metadata": {},
     "output_type": "execute_result"
    }
   ],
   "source": [
    "1/np.sqrt(2)"
   ]
  },
  {
   "cell_type": "code",
   "execution_count": 173,
   "id": "80b292b8-5b88-4070-8f85-3613c84675f9",
   "metadata": {},
   "outputs": [
    {
     "name": "stdout",
     "output_type": "stream",
     "text": [
      "\n",
      "i=0\n",
      "(array([0.707107, 0.707107]), array([-0.707107+0.j, -0.707107+0.j]))\n",
      "(array([0.707107, 0.707107]), array([-0.707107+0.j,  0.707107+0.j]))\n",
      "(array([0.707107, 0.707107]), array([-0.707107+0.j,  0.707107+0.j]))\n",
      "(array([0.707107, 0.707107]), array([0.+0.707107j, 0.-0.707107j]))\n",
      "\n",
      "i=1\n",
      "(array([0.707107, 0.707107]), array([-0.707107+0.j, -0.707107+0.j]))\n",
      "(array([0.707107, 0.707107]), array([-0.707107+0.j,  0.707107+0.j]))\n",
      "(array([0.707107, 0.707107]), array([ 0.707107+0.j, -0.707107+0.j]))\n",
      "(array([0.707107, 0.707107]), array([ 0.+0.707107j, -0.-0.707107j]))\n",
      "\n",
      "i=2\n",
      "(array([0.707107, 0.707107]), array([-0.707107+0.j, -0.707107+0.j]))\n",
      "(array([0.707107, 0.707107]), array([ 0.707107+0.j, -0.707107+0.j]))\n",
      "(array([0.707107, 0.707107]), array([-0.707107+0.j,  0.707107+0.j]))\n",
      "(array([0.707107, 0.707107]), array([0.+0.707107j, 0.-0.707107j]))\n",
      "\n",
      "i=3\n",
      "(array([0.707107, 0.707107]), array([-0.707107+0.j, -0.707107+0.j]))\n",
      "(array([0.707107, 0.707107]), array([-0.707107+0.j,  0.707107+0.j]))\n",
      "(array([0.707107, 0.707107]), array([-0.707107+0.j,  0.707107+0.j]))\n",
      "(array([0.707107, 0.707107]), array([0.+0.707107j, 0.-0.707107j]))\n",
      "\n",
      "i=4\n",
      "(array([0.707107, 0.707107]), array([-0.707107+0.j, -0.707107+0.j]))\n",
      "(array([0.707107, 0.707107]), array([-0.707107+0.j,  0.707107+0.j]))\n",
      "(array([0.707107, 0.707107]), array([ 0.707107+0.j, -0.707107+0.j]))\n",
      "(array([0.707107, 0.707107]), array([0.+0.707107j, 0.-0.707107j]))\n",
      "\n",
      "i=5\n",
      "(array([7.07107e-01, 7.07107e-01, 2.27000e-04, 2.27000e-04, 2.27000e-04,\n",
      "       2.27000e-04]), array([-7.07107e-01+0.j, -7.07107e-01+0.j, -2.27000e-04+0.j,\n",
      "       -2.27000e-04+0.j, -2.27000e-04+0.j, -2.27000e-04+0.j]))\n",
      "(array([7.07107e-01, 7.07107e-01, 2.27000e-04, 2.27000e-04, 2.27000e-04,\n",
      "       2.27000e-04]), array([ 7.07107e-01+0.j, -7.07107e-01+0.j, -2.27000e-04+0.j,\n",
      "       -2.27000e-04+0.j,  2.27000e-04+0.j,  2.27000e-04+0.j]))\n",
      "(array([7.07107e-01, 7.07107e-01, 2.27000e-04, 2.27000e-04, 2.27000e-04,\n",
      "       2.27000e-04]), array([-7.07107e-01+0.j,  7.07107e-01+0.j,  2.27000e-04+0.j,\n",
      "        2.27000e-04+0.j, -2.27000e-04+0.j, -2.27000e-04+0.j]))\n",
      "(array([7.07107e-01, 7.07107e-01, 2.27000e-04, 2.27000e-04, 2.27000e-04,\n",
      "       2.27000e-04]), array([ 0.-7.07107e-01j, -0.+7.07107e-01j, -0.+2.27000e-04j,\n",
      "       -0.+2.27000e-04j, -0.-2.27000e-04j, -0.-2.27000e-04j]))\n",
      "\n",
      "i=6\n",
      "(array([7.07107e-01, 7.07106e-01, 5.43000e-04, 5.43000e-04, 5.43000e-04,\n",
      "       5.43000e-04]), array([-7.07107e-01+0.j, -7.07106e-01+0.j, -5.43000e-04+0.j,\n",
      "       -5.43000e-04+0.j, -5.43000e-04+0.j, -5.43000e-04+0.j]))\n",
      "(array([7.07107e-01, 7.07106e-01, 5.43000e-04, 5.43000e-04, 5.43000e-04,\n",
      "       5.43000e-04]), array([-7.07107e-01+0.j,  7.07106e-01+0.j,  5.43000e-04+0.j,\n",
      "        5.43000e-04+0.j, -5.43000e-04+0.j, -5.43000e-04+0.j]))\n",
      "(array([7.07106e-01, 7.07106e-01, 5.43000e-04, 5.43000e-04, 5.43000e-04,\n",
      "       5.43000e-04]), array([-7.07106e-01+0.j,  7.07106e-01+0.j, -5.43000e-04+0.j,\n",
      "       -5.43000e-04+0.j,  5.43000e-04+0.j,  5.43000e-04+0.j]))\n",
      "(array([7.07106e-01, 7.07106e-01, 5.43000e-04, 5.43000e-04, 5.43000e-04,\n",
      "       5.43000e-04]), array([0.+7.07106e-01j, 0.-7.07106e-01j, 0.+5.43000e-04j, 0.+5.43000e-04j,\n",
      "       0.-5.43000e-04j, 0.-5.43000e-04j]))\n",
      "\n",
      "i=7\n",
      "(array([0.707119, 0.70709 , 0.001213, 0.001213, 0.001213, 0.001213]), array([-0.707119+0.j, -0.70709 +0.j, -0.001213+0.j, -0.001213+0.j,\n",
      "       -0.001213+0.j, -0.001213+0.j]))\n",
      "(array([0.707119, 0.70709 , 0.001213, 0.001213, 0.001213, 0.001213]), array([-0.707119+0.j,  0.70709 +0.j,  0.001213+0.j, -0.001213+0.j,\n",
      "       -0.001213+0.j,  0.001213+0.j]))\n",
      "(array([0.707105, 0.707105, 0.001213, 0.001213, 0.001213, 0.001213]), array([-0.707105+0.j,  0.707105+0.j, -0.001213+0.j, -0.001213+0.j,\n",
      "        0.001213+0.j,  0.001213+0.j]))\n",
      "(array([0.707105, 0.707105, 0.001213, 0.001213, 0.001213, 0.001213]), array([-0.+0.707105j, -0.-0.707105j, -0.+0.001213j, -0.-0.001213j,\n",
      "       -0.+0.001213j, -0.-0.001213j]))\n",
      "\n",
      "i=8\n",
      "(array([0.707881, 0.706311, 0.002678, 0.002678, 0.002672, 0.002672]), array([-0.707881+0.j, -0.706311+0.j, -0.002672+0.j, -0.002672+0.j,\n",
      "       -0.002678+0.j, -0.002678+0.j]))\n",
      "(array([0.707881, 0.706311, 0.002678, 0.002678, 0.002672, 0.002672]), array([-0.707881+0.j,  0.706311+0.j,  0.002672+0.j,  0.002678+0.j,\n",
      "       -0.002678+0.j, -0.002672+0.j]))\n",
      "(array([0.707097, 0.707096, 0.002675, 0.002675, 0.002675, 0.002675]), array([-0.707097+0.j,  0.707096+0.j, -0.002675+0.j,  0.002675+0.j,\n",
      "       -0.002675+0.j,  0.002675+0.j]))\n",
      "(array([0.707097, 0.707097, 0.002675, 0.002675, 0.002675, 0.002675]), array([ 0.+0.707097j,  0.-0.707097j,  0.+0.002675j, -0.+0.002675j,\n",
      "        0.-0.002675j,  0.-0.002675j]))\n",
      "\n",
      "i=9\n",
      "(array([0.732857, 0.68027 , 0.006437, 0.006406, 0.005975, 0.005946]), array([-0.732857+0.j, -0.68027 +0.j, -0.005975+0.j, -0.005946+0.j,\n",
      "       -0.006406+0.j, -0.006437+0.j]))\n",
      "(array([0.732852, 0.680276, 0.006437, 0.006406, 0.005975, 0.005946]), array([-0.732852+0.j,  0.680276+0.j,  0.005975+0.j,  0.006406+0.j,\n",
      "       -0.006437+0.j, -0.005946+0.j]))\n",
      "(array([0.707602, 0.706502, 0.006215, 0.006206, 0.006188, 0.006179]), array([-0.707602+0.j,  0.706502+0.j,  0.006179+0.j, -0.006188+0.j,\n",
      "        0.006215+0.j, -0.006206+0.j]))\n",
      "(array([0.707052, 0.707052, 0.00621 , 0.00621 , 0.006183, 0.006183]), array([-0.-0.707052j, -0.+0.707052j,  0.-0.006183j, -0.-0.00621j ,\n",
      "        0.+0.006183j,  0.+0.00621j ]))\n",
      "\n",
      "i=10\n",
      "(array([9.79207e-01, 2.00257e-01, 3.17190e-02, 5.67500e-03, 3.57200e-03,\n",
      "       7.11000e-04, 1.45000e-04]), array([-9.79207e-01+0.j, -2.00257e-01+0.j, -3.17190e-02+0.j,\n",
      "       -5.67500e-03+0.j, -3.57200e-03+0.j, -7.11000e-04+0.j,\n",
      "       -1.45000e-04+0.j]))\n",
      "(array([9.79207e-01, 2.00257e-01, 3.17190e-02, 5.67500e-03, 3.57200e-03,\n",
      "       7.11000e-04, 1.45000e-04]), array([-9.79207e-01+0.j,  2.00257e-01+0.j, -3.17190e-02+0.j,\n",
      "        5.67500e-03+0.j,  3.57200e-03+0.j, -7.11000e-04+0.j,\n",
      "       -1.45000e-04+0.j]))\n",
      "(array([0.715895, 0.697695, 0.018669, 0.018155, 0.004382, 0.004275]), array([-0.715895+0.j,  0.697695+0.j,  0.018669+0.j, -0.018155+0.j,\n",
      "       -0.004382+0.j,  0.004275+0.j]))\n",
      "(array([0.706854, 0.706854, 0.018417, 0.018417, 0.004328, 0.004328]), array([0.+0.706854j, 0.-0.706854j, 0.+0.018417j, 0.-0.018417j,\n",
      "       0.+0.004328j, 0.-0.004328j]))\n",
      "\n",
      "i=11\n",
      "(array([9.89913e-01, 1.01999e-01, 9.78330e-02, 9.81400e-03, 6.47000e-04,\n",
      "       2.71000e-04]), array([-9.89913e-01+0.j, -9.78330e-02+0.j, -1.01999e-01+0.j,\n",
      "       -9.81400e-03+0.j, -6.47000e-04+0.j, -2.71000e-04+0.j]))\n",
      "(array([9.89913e-01, 1.01999e-01, 9.78330e-02, 9.81400e-03, 6.47000e-04,\n",
      "       2.71000e-04]), array([-9.89913e-01+0.j,  1.01999e-01+0.j, -9.78330e-02+0.j,\n",
      "        9.81400e-03+0.j,  6.47000e-04+0.j, -2.71000e-04+0.j]))\n",
      "(array([9.89913e-01, 1.01999e-01, 9.78330e-02, 9.81400e-03, 6.47000e-04,\n",
      "       2.71000e-04]), array([-9.89913e-01+0.j,  9.78330e-02+0.j, -1.01999e-01+0.j,\n",
      "        9.81400e-03+0.j, -6.47000e-04+0.j,  2.71000e-04+0.j]))\n",
      "(array([9.89913e-01, 1.01999e-01, 9.78330e-02, 9.81400e-03, 6.47000e-04,\n",
      "       2.71000e-04]), array([-9.89913e-01+0.j,  9.78330e-02+0.j,  1.01999e-01+0.j,\n",
      "       -9.81400e-03+0.j,  6.47000e-04+0.j,  2.71000e-04+0.j]))\n",
      "\n",
      "i=12\n",
      "(array([9.94858e-01, 7.15250e-02, 7.15250e-02, 5.14100e-03, 2.15000e-04,\n",
      "       2.15000e-04]), array([-9.94858e-01+0.j, -7.15250e-02+0.j, -7.15250e-02+0.j,\n",
      "       -5.14100e-03+0.j, -2.15000e-04+0.j, -2.15000e-04+0.j]))\n",
      "(array([9.94858e-01, 7.15250e-02, 7.15250e-02, 5.14100e-03, 2.15000e-04,\n",
      "       2.15000e-04]), array([-9.94858e-01+0.j,  7.15250e-02+0.j, -7.15250e-02+0.j,\n",
      "        5.14100e-03+0.j,  2.15000e-04+0.j, -2.15000e-04+0.j]))\n",
      "(array([9.94858e-01, 7.15250e-02, 7.15250e-02, 5.14100e-03, 2.15000e-04,\n",
      "       2.15000e-04]), array([-9.94858e-01+0.j,  7.15250e-02+0.j, -7.15250e-02+0.j,\n",
      "        5.14100e-03+0.j,  2.15000e-04+0.j, -2.15000e-04+0.j]))\n",
      "(array([9.94858e-01, 7.15250e-02, 7.15250e-02, 5.14100e-03, 2.15000e-04,\n",
      "       2.15000e-04]), array([-9.94858e-01+0.j,  7.15250e-02+0.j,  7.15250e-02+0.j,\n",
      "       -5.14100e-03+0.j,  2.15000e-04+0.j,  2.15000e-04+0.j]))\n",
      "\n",
      "i=13\n",
      "(array([9.96959e-01, 5.50650e-02, 5.50650e-02, 3.04100e-03, 1.17000e-04,\n",
      "       1.17000e-04]), array([-9.96959e-01+0.j, -5.50650e-02+0.j, -5.50650e-02+0.j,\n",
      "       -3.04100e-03+0.j, -1.17000e-04+0.j, -1.17000e-04+0.j]))\n",
      "(array([9.96959e-01, 5.50650e-02, 5.50650e-02, 3.04100e-03, 1.17000e-04,\n",
      "       1.17000e-04]), array([-9.96959e-01+0.j,  5.50650e-02+0.j, -5.50650e-02+0.j,\n",
      "        3.04100e-03+0.j,  1.17000e-04+0.j, -1.17000e-04+0.j]))\n",
      "(array([9.96959e-01, 5.50650e-02, 5.50650e-02, 3.04100e-03, 1.17000e-04,\n",
      "       1.17000e-04]), array([-9.96959e-01+0.j,  5.50650e-02+0.j, -5.50650e-02+0.j,\n",
      "        3.04100e-03+0.j,  1.17000e-04+0.j, -1.17000e-04+0.j]))\n",
      "(array([9.96959e-01, 5.50650e-02, 5.50650e-02, 3.04100e-03, 1.17000e-04,\n",
      "       1.17000e-04]), array([-9.96959e-01+0.j,  5.50650e-02+0.j,  5.50650e-02+0.j,\n",
      "       -3.04100e-03+0.j,  1.17000e-04+0.j,  1.17000e-04+0.j]))\n",
      "\n",
      "i=14\n",
      "(array([0.998042, 0.044207, 0.044207, 0.001958]), array([-0.998042+0.j, -0.044207+0.j, -0.044207+0.j, -0.001958+0.j]))\n",
      "(array([0.998042, 0.044207, 0.044207, 0.001958]), array([-0.998042+0.j,  0.044207+0.j, -0.044207+0.j,  0.001958+0.j]))\n",
      "(array([0.998042, 0.044207, 0.044207, 0.001958]), array([-0.998042+0.j,  0.044207+0.j, -0.044207+0.j,  0.001958+0.j]))\n",
      "(array([0.998042, 0.044207, 0.044207, 0.001958]), array([-0.998042+0.j,  0.044207+0.j,  0.044207+0.j, -0.001958+0.j]))\n",
      "\n",
      "i=15\n",
      "(array([0.998663, 0.036535, 0.036535, 0.001337]), array([-0.998663+0.j, -0.036535+0.j, -0.036535+0.j, -0.001337+0.j]))\n",
      "(array([0.998663, 0.036535, 0.036535, 0.001337]), array([-0.998663+0.j, -0.036535+0.j,  0.036535+0.j,  0.001337+0.j]))\n",
      "(array([0.998663, 0.036535, 0.036535, 0.001337]), array([-0.998663+0.j,  0.036535+0.j, -0.036535+0.j,  0.001337+0.j]))\n",
      "(array([0.998663, 0.036535, 0.036535, 0.001337]), array([-0.998663+0.j,  0.036535+0.j,  0.036535+0.j, -0.001337+0.j]))\n",
      "\n",
      "i=16\n",
      "(array([9.99048e-01, 3.08470e-02, 3.08470e-02, 9.52000e-04]), array([-9.99048e-01+0.j, -3.08470e-02+0.j, -3.08470e-02+0.j,\n",
      "       -9.52000e-04+0.j]))\n",
      "(array([9.99048e-01, 3.08470e-02, 3.08470e-02, 9.52000e-04]), array([-9.99048e-01+0.j,  3.08470e-02+0.j, -3.08470e-02+0.j,\n",
      "        9.52000e-04+0.j]))\n",
      "(array([9.99048e-01, 3.08470e-02, 3.08470e-02, 9.52000e-04]), array([-9.99048e-01+0.j,  3.08470e-02+0.j, -3.08470e-02+0.j,\n",
      "        9.52000e-04+0.j]))\n",
      "(array([9.99048e-01, 3.08470e-02, 3.08470e-02, 9.52000e-04]), array([-9.99048e-01+0.j,  3.08470e-02+0.j,  3.08470e-02+0.j,\n",
      "       -9.52000e-04+0.j]))\n",
      "\n",
      "i=17\n",
      "(array([9.99298e-01, 2.64770e-02, 2.64770e-02, 7.02000e-04]), array([-9.99298e-01+0.j, -2.64770e-02+0.j, -2.64770e-02+0.j,\n",
      "       -7.02000e-04+0.j]))\n",
      "(array([9.99298e-01, 2.64770e-02, 2.64770e-02, 7.02000e-04]), array([-9.99298e-01+0.j,  2.64770e-02+0.j, -2.64770e-02+0.j,\n",
      "        7.02000e-04+0.j]))\n",
      "(array([9.99298e-01, 2.64770e-02, 2.64770e-02, 7.02000e-04]), array([-9.99298e-01+0.j,  2.64770e-02+0.j, -2.64770e-02+0.j,\n",
      "        7.02000e-04+0.j]))\n",
      "(array([9.99298e-01, 2.64770e-02, 2.64770e-02, 7.02000e-04]), array([-9.99298e-01+0.j,  2.64770e-02+0.j,  2.64770e-02+0.j,\n",
      "       -7.02000e-04+0.j]))\n",
      "\n",
      "i=18\n",
      "(array([9.99469e-01, 2.30280e-02, 2.30280e-02, 5.31000e-04]), array([-9.99469e-01+0.j, -2.30280e-02+0.j, -2.30280e-02+0.j,\n",
      "       -5.31000e-04+0.j]))\n",
      "(array([9.99469e-01, 2.30280e-02, 2.30280e-02, 5.31000e-04]), array([-9.99469e-01+0.j,  2.30280e-02+0.j, -2.30280e-02+0.j,\n",
      "        5.31000e-04+0.j]))\n",
      "(array([9.99469e-01, 2.30280e-02, 2.30280e-02, 5.31000e-04]), array([-9.99469e-01+0.j,  2.30280e-02+0.j, -2.30280e-02+0.j,\n",
      "        5.31000e-04+0.j]))\n",
      "(array([9.99469e-01, 2.30280e-02, 2.30280e-02, 5.31000e-04]), array([-9.99469e-01+0.j,  2.30280e-02+0.j,  2.30280e-02+0.j,\n",
      "       -5.31000e-04+0.j]))\n",
      "\n",
      "i=19\n",
      "(array([9.9959e-01, 2.0246e-02, 2.0246e-02, 4.1000e-04]), array([-9.9959e-01+0.j, -2.0246e-02+0.j, -2.0246e-02+0.j, -4.1000e-04+0.j]))\n",
      "(array([9.9959e-01, 2.0246e-02, 2.0246e-02, 4.1000e-04]), array([-9.9959e-01+0.j,  2.0246e-02+0.j, -2.0246e-02+0.j,  4.1000e-04+0.j]))\n",
      "(array([9.9959e-01, 2.0246e-02, 2.0246e-02, 4.1000e-04]), array([-9.9959e-01+0.j,  2.0246e-02+0.j, -2.0246e-02+0.j,  4.1000e-04+0.j]))\n",
      "(array([9.9959e-01, 2.0246e-02, 2.0246e-02, 4.1000e-04]), array([-9.9959e-01+0.j,  2.0246e-02+0.j,  2.0246e-02+0.j, -4.1000e-04+0.j]))\n",
      "\n",
      "i=20\n",
      "(array([9.99677e-01, 1.79620e-02, 1.79620e-02, 3.23000e-04]), array([-9.99677e-01+0.j, -1.79620e-02+0.j, -1.79620e-02+0.j,\n",
      "       -3.23000e-04+0.j]))\n",
      "(array([9.99677e-01, 1.79620e-02, 1.79620e-02, 3.23000e-04]), array([-9.99677e-01+0.j,  1.79620e-02+0.j, -1.79620e-02+0.j,\n",
      "        3.23000e-04+0.j]))\n",
      "(array([9.99677e-01, 1.79620e-02, 1.79620e-02, 3.23000e-04]), array([-9.99677e-01+0.j,  1.79620e-02+0.j, -1.79620e-02+0.j,\n",
      "        3.23000e-04+0.j]))\n",
      "(array([9.99677e-01, 1.79620e-02, 1.79620e-02, 3.23000e-04]), array([-9.99677e-01+0.j,  1.79620e-02+0.j,  1.79620e-02+0.j,\n",
      "       -3.23000e-04+0.j]))\n"
     ]
    }
   ],
   "source": [
    "for i, t in enumerate(singular_and_eigen_vectors_data):\n",
    "    print(\"\\ni={}\".format(i))\n",
    "    \n",
    "    for j, l in enumerate(t):\n",
    "        print(l[1])"
   ]
  },
  {
   "cell_type": "markdown",
   "id": "6ce56a14-effe-4b65-8214-adecb8b535e3",
   "metadata": {},
   "source": [
    "##### Conclusions\n",
    "\n",
    "* The dominant (all?) singular and eigenvalues agree, up to a possible sign flip of the eigenvalues.\n",
    "* The singular values seem to be doubly degenerate at B=0, but this degeneracy splits as B goes to 1.\n",
    "* Almost all virtual vectors seem to be well approximated by keeping the top two singular values. For values of B close to the critical point, this breaks down somewhat. In the trivial phase, only one singular value seems needed.\n",
    "* The singular values sum to 1, so wether the number of dominant terms determines their value, provided the values are degenerate.\n",
    "* The dominant singular value is going to 1 (slowly?) as B goes to infinity.\n",
    "* Different symmetry actions can give different signs for the eigenvalues. Seems a bit arbitrary though...."
   ]
  },
  {
   "cell_type": "markdown",
   "id": "04c4636d-c475-466f-bf34-b584f7375f78",
   "metadata": {},
   "source": [
    "#### Eigenvalues and eigenvectors of left projected states"
   ]
  },
  {
   "cell_type": "code",
   "execution_count": 174,
   "id": "c87efe82-298d-491e-8312-87e6810fa7cb",
   "metadata": {},
   "outputs": [
    {
     "name": "stdout",
     "output_type": "stream",
     "text": [
      "\n",
      "i=0\n",
      "(array([0.707107, 0.707107]), array([-0.707107+0.j, -0.707107+0.j]))\n",
      "(array([0.707107, 0.707107]), array([-0.707107+0.j,  0.707107+0.j]))\n",
      "(array([0.707107, 0.707107]), array([-0.707107+0.j,  0.707107+0.j]))\n",
      "(array([0.707107, 0.707107]), array([ 0.+0.707107j, -0.-0.707107j]))\n",
      "\n",
      "i=1\n",
      "(array([0.353553, 0.353553, 0.353553, 0.353553, 0.353553, 0.353553,\n",
      "       0.353553, 0.353553]), array([-0.353553+0.j, -0.353553+0.j, -0.353553+0.j, -0.353553+0.j,\n",
      "       -0.353553+0.j, -0.353553+0.j, -0.353553+0.j, -0.353553+0.j]))\n",
      "(array([0.353553, 0.353553, 0.353553, 0.353553, 0.353553, 0.353553,\n",
      "       0.353553, 0.353553]), array([ 0.353553+0.j,  0.353553+0.j, -0.353553+0.j, -0.353553+0.j,\n",
      "       -0.353553+0.j,  0.353553+0.j, -0.353553+0.j,  0.353553+0.j]))\n",
      "(array([0.353553, 0.353553, 0.353553, 0.353553, 0.353553, 0.353553,\n",
      "       0.353553, 0.353553]), array([-0.353553+0.j,  0.353553+0.j,  0.353553+0.j,  0.353553+0.j,\n",
      "       -0.353553+0.j, -0.353553+0.j, -0.353553+0.j,  0.353553+0.j]))\n",
      "(array([0.353553, 0.353553, 0.353553, 0.353553, 0.353553, 0.353553,\n",
      "       0.353553, 0.353553]), array([ 0.+0.353553j, -0.-0.353553j, -0.+0.353553j,  0.+0.353553j,\n",
      "        0.-0.353553j,  0.+0.353553j,  0.-0.353553j, -0.-0.353553j]))\n",
      "\n",
      "i=2\n",
      "(array([0.353553, 0.353553, 0.353553, 0.353553, 0.353553, 0.353553,\n",
      "       0.353553, 0.353553]), array([-0.353553+0.j, -0.353553+0.j, -0.353553+0.j, -0.353553+0.j,\n",
      "       -0.353553+0.j, -0.353553+0.j, -0.353553+0.j, -0.353553+0.j]))\n",
      "(array([0.353553, 0.353553, 0.353553, 0.353553, 0.353553, 0.353553,\n",
      "       0.353553, 0.353553]), array([ 0.353553+0.j, -0.353553+0.j, -0.353553+0.j, -0.353553+0.j,\n",
      "       -0.353553+0.j,  0.353553+0.j,  0.353553+0.j,  0.353553+0.j]))\n",
      "(array([0.353553, 0.353553, 0.353553, 0.353553, 0.353553, 0.353553,\n",
      "       0.353553, 0.353553]), array([ 0.353553+0.j, -0.353553+0.j,  0.353553+0.j,  0.353553+0.j,\n",
      "       -0.353553+0.j, -0.353553+0.j, -0.353553+0.j,  0.353553+0.j]))\n",
      "(array([0.353553, 0.353553, 0.353553, 0.353553, 0.353553, 0.353553,\n",
      "       0.353553, 0.353553]), array([ 0.+0.353553j,  0.-0.353553j,  0.+0.353553j,  0.+0.353553j,\n",
      "       -0.-0.353553j, -0.-0.353553j,  0.+0.353553j,  0.-0.353553j]))\n",
      "\n",
      "i=3\n",
      "(array([0.353553, 0.353553, 0.353553, 0.353553, 0.353553, 0.353553,\n",
      "       0.353553, 0.353553]), array([-0.353553+0.j, -0.353553+0.j, -0.353553+0.j, -0.353553+0.j,\n",
      "       -0.353553+0.j, -0.353553+0.j, -0.353553+0.j, -0.353553+0.j]))\n",
      "(array([0.353553, 0.353553, 0.353553, 0.353553, 0.353553, 0.353553,\n",
      "       0.353553, 0.353553]), array([-0.353553+0.j,  0.353553+0.j, -0.353553+0.j, -0.353553+0.j,\n",
      "       -0.353553+0.j,  0.353553+0.j,  0.353553+0.j,  0.353553+0.j]))\n",
      "(array([0.353553, 0.353553, 0.353553, 0.353553, 0.353553, 0.353553,\n",
      "       0.353553, 0.353553]), array([ 0.353553+0.j, -0.353553+0.j, -0.353553+0.j,  0.353553+0.j,\n",
      "        0.353553+0.j, -0.353553+0.j, -0.353553+0.j,  0.353553+0.j]))\n",
      "(array([0.353553, 0.353553, 0.353553, 0.353553, 0.353553, 0.353553,\n",
      "       0.353553, 0.353553]), array([-0.+0.353553j,  0.+0.353553j, -0.-0.353553j,  0.-0.353553j,\n",
      "       -0.-0.353553j, -0.+0.353553j, -0.+0.353553j, -0.-0.353553j]))\n",
      "\n",
      "i=4\n",
      "(array([0.353553, 0.353553, 0.353553, 0.353553, 0.353553, 0.353553,\n",
      "       0.353553, 0.353553]), array([-0.353553+0.j, -0.353553+0.j, -0.353553+0.j, -0.353553+0.j,\n",
      "       -0.353553+0.j, -0.353553+0.j, -0.353553+0.j, -0.353553+0.j]))\n",
      "(array([0.353553, 0.353553, 0.353553, 0.353553, 0.353553, 0.353553,\n",
      "       0.353553, 0.353553]), array([ 0.353553+0.j, -0.353553+0.j, -0.353553+0.j, -0.353553+0.j,\n",
      "        0.353553+0.j,  0.353553+0.j, -0.353553+0.j,  0.353553+0.j]))\n",
      "(array([0.353553, 0.353553, 0.353553, 0.353553, 0.353553, 0.353553,\n",
      "       0.353553, 0.353553]), array([-0.353553+0.j,  0.353553+0.j, -0.353553+0.j,  0.353553+0.j,\n",
      "        0.353553+0.j, -0.353553+0.j, -0.353553+0.j,  0.353553+0.j]))\n",
      "(array([0.353553, 0.353553, 0.353553, 0.353553, 0.353553, 0.353553,\n",
      "       0.353553, 0.353553]), array([-0.+0.353553j, -0.-0.353553j,  0.-0.353553j,  0.+0.353553j,\n",
      "       -0.+0.353553j, -0.+0.353553j, -0.-0.353553j,  0.-0.353553j]))\n",
      "\n",
      "i=5\n",
      "(array([0.353553, 0.353553, 0.353553, 0.353553, 0.353553, 0.353553,\n",
      "       0.353553, 0.353553]), array([-0.353553+0.j, -0.353553+0.j, -0.353553+0.j, -0.353553+0.j,\n",
      "       -0.353553+0.j, -0.353553+0.j, -0.353553+0.j, -0.353553+0.j]))\n",
      "(array([0.353553, 0.353553, 0.353553, 0.353553, 0.353553, 0.353553,\n",
      "       0.353553, 0.353553]), array([ 0.353553+0.j,  0.353553+0.j,  0.353553+0.j, -0.353553+0.j,\n",
      "       -0.353553+0.j, -0.353553+0.j,  0.353553+0.j, -0.353553+0.j]))\n",
      "(array([0.353553, 0.353553, 0.353553, 0.353553, 0.353553, 0.353553,\n",
      "       0.353553, 0.353553]), array([-0.353553+0.j,  0.353553+0.j,  0.353553+0.j,  0.353553+0.j,\n",
      "       -0.353553+0.j, -0.353553+0.j, -0.353553+0.j,  0.353553+0.j]))\n",
      "(array([0.353553, 0.353553, 0.353553, 0.353553, 0.353553, 0.353553,\n",
      "       0.353553, 0.353553]), array([ 0.+0.353553j,  0.+0.353553j,  0.-0.353553j, -0.-0.353553j,\n",
      "        0.-0.353553j,  0.+0.353553j,  0.+0.353553j,  0.-0.353553j]))\n",
      "\n",
      "i=6\n",
      "(array([0.353553, 0.353553, 0.353553, 0.353553, 0.353553, 0.353553,\n",
      "       0.353553, 0.353553]), array([-0.353553+0.j, -0.353553+0.j, -0.353553+0.j, -0.353553+0.j,\n",
      "       -0.353553+0.j, -0.353553+0.j, -0.353553+0.j, -0.353553+0.j]))\n",
      "(array([0.353553, 0.353553, 0.353553, 0.353553, 0.353553, 0.353553,\n",
      "       0.353553, 0.353553]), array([-0.353553+0.j,  0.353553+0.j,  0.353553+0.j, -0.353553+0.j,\n",
      "        0.353553+0.j, -0.353553+0.j, -0.353553+0.j,  0.353553+0.j]))\n",
      "(array([0.353553, 0.353553, 0.353553, 0.353553, 0.353553, 0.353553,\n",
      "       0.353553, 0.353553]), array([-0.353553+0.j, -0.353553+0.j,  0.353553+0.j,  0.353553+0.j,\n",
      "       -0.353553+0.j, -0.353553+0.j,  0.353553+0.j,  0.353553+0.j]))\n",
      "(array([0.353553, 0.353553, 0.353553, 0.353553, 0.353553, 0.353553,\n",
      "       0.353553, 0.353553]), array([ 0.+0.353553j, -0.-0.353553j,  0.-0.353553j,  0.-0.353553j,\n",
      "        0.+0.353553j, -0.+0.353553j,  0.+0.353553j,  0.-0.353553j]))\n",
      "\n",
      "i=7\n",
      "(array([0.353553, 0.353553, 0.353553, 0.353553, 0.353553, 0.353553,\n",
      "       0.353553, 0.353553]), array([-0.353553+0.j, -0.353553+0.j, -0.353553+0.j, -0.353553+0.j,\n",
      "       -0.353553+0.j, -0.353553+0.j, -0.353553+0.j, -0.353553+0.j]))\n",
      "(array([0.353553, 0.353553, 0.353553, 0.353553, 0.353553, 0.353553,\n",
      "       0.353553, 0.353553]), array([-0.353553+0.j, -0.353553+0.j, -0.353553+0.j,  0.353553+0.j,\n",
      "        0.353553+0.j,  0.353553+0.j,  0.353553+0.j, -0.353553+0.j]))\n",
      "(array([0.353553, 0.353553, 0.353553, 0.353553, 0.353553, 0.353553,\n",
      "       0.353553, 0.353553]), array([-0.353553+0.j,  0.353553+0.j,  0.353553+0.j, -0.353553+0.j,\n",
      "       -0.353553+0.j,  0.353553+0.j, -0.353553+0.j,  0.353553+0.j]))\n",
      "(array([0.353553, 0.353553, 0.353553, 0.353553, 0.353553, 0.353553,\n",
      "       0.353553, 0.353553]), array([ 0.+0.353553j,  0.+0.353553j,  0.+0.353553j, -0.-0.353553j,\n",
      "        0.-0.353553j, -0.-0.353553j, -0.+0.353553j,  0.-0.353553j]))\n",
      "\n",
      "i=8\n",
      "(array([0.353553, 0.353553, 0.353553, 0.353553, 0.353553, 0.353553,\n",
      "       0.353553, 0.353553]), array([-0.353553+0.j, -0.353553+0.j, -0.353553+0.j, -0.353553+0.j,\n",
      "       -0.353553+0.j, -0.353553+0.j, -0.353553+0.j, -0.353553+0.j]))\n",
      "(array([0.353553, 0.353553, 0.353553, 0.353553, 0.353553, 0.353553,\n",
      "       0.353553, 0.353553]), array([-0.353553+0.j,  0.353553+0.j,  0.353553+0.j,  0.353553+0.j,\n",
      "        0.353553+0.j, -0.353553+0.j, -0.353553+0.j, -0.353553+0.j]))\n",
      "(array([0.353553, 0.353553, 0.353553, 0.353553, 0.353553, 0.353553,\n",
      "       0.353553, 0.353553]), array([-0.353553+0.j,  0.353553+0.j, -0.353553+0.j, -0.353553+0.j,\n",
      "       -0.353553+0.j,  0.353553+0.j,  0.353553+0.j,  0.353553+0.j]))\n",
      "(array([0.353553, 0.353553, 0.353553, 0.353553, 0.353553, 0.353553,\n",
      "       0.353553, 0.353553]), array([ 0.+0.353553j,  0.-0.353553j,  0.+0.353553j,  0.+0.353553j,\n",
      "       -0.-0.353553j, -0.-0.353553j, -0.+0.353553j, -0.-0.353553j]))\n",
      "\n",
      "i=9\n",
      "(array([0.353556, 0.353556, 0.353556, 0.353556, 0.353551, 0.353551,\n",
      "       0.353551, 0.353551]), array([-0.353556+0.j, -0.353556+0.j, -0.353556+0.j, -0.353556+0.j,\n",
      "       -0.353551+0.j, -0.353551+0.j, -0.353551+0.j, -0.353551+0.j]))\n",
      "(array([0.353556, 0.353556, 0.353556, 0.353556, 0.353551, 0.353551,\n",
      "       0.353551, 0.353551]), array([-0.353556+0.j, -0.353556+0.j, -0.353551+0.j, -0.353551+0.j,\n",
      "        0.353551+0.j,  0.353551+0.j,  0.353556+0.j,  0.353556+0.j]))\n",
      "(array([0.353553, 0.353553, 0.353553, 0.353553, 0.353553, 0.353553,\n",
      "       0.353553, 0.353553]), array([-0.353553+0.j, -0.353553+0.j, -0.353553+0.j, -0.353553+0.j,\n",
      "        0.353553+0.j,  0.353553+0.j,  0.353553+0.j,  0.353553+0.j]))\n",
      "(array([0.353553, 0.353553, 0.353553, 0.353553, 0.353553, 0.353553,\n",
      "       0.353553, 0.353553]), array([-0.+0.353553j,  0.+0.353553j, -0.+0.353553j, -0.+0.353553j,\n",
      "        0.-0.353553j,  0.-0.353553j, -0.-0.353553j,  0.-0.353553j]))\n",
      "\n",
      "i=10\n",
      "(array([0.353554, 0.353554, 0.353554, 0.353554, 0.353554, 0.353553,\n",
      "       0.353553, 0.353553]), array([-0.353553+0.j, -0.353553+0.j, -0.353553+0.j, -0.353554+0.j,\n",
      "       -0.353554+0.j, -0.353554+0.j, -0.353554+0.j, -0.353554+0.j]))\n",
      "(array([0.353554, 0.353554, 0.353554, 0.353554, 0.353553, 0.353553,\n",
      "       0.353553, 0.353553]), array([-0.353553+0.j, -0.353554+0.j, -0.353554+0.j, -0.353553+0.j,\n",
      "        0.353553+0.j,  0.353553+0.j,  0.353554+0.j,  0.353554+0.j]))\n",
      "(array([0.42164 , 0.418855, 0.418652, 0.414667, 0.386687, 0.384063,\n",
      "       0.03846 , 0.032434]), array([-0.384063+0.j, -0.418855+0.j, -0.42164 +0.j, -0.032434+0.j,\n",
      "        0.03846 +0.j,  0.386687+0.j,  0.418652+0.j,  0.414667+0.j]))\n",
      "(array([0.419598, 0.419598, 0.416729, 0.416729, 0.386026, 0.386026,\n",
      "       0.03548 , 0.03548 ]), array([ 0.+0.386026j,  0.+0.419598j,  0.+0.416729j,  0.+0.03548j ,\n",
      "        0.-0.03548j ,  0.-0.386026j, -0.-0.419598j, -0.-0.416729j]))\n",
      "\n",
      "i=11\n",
      "(array([0.353553, 0.353553, 0.353553, 0.353553, 0.353553, 0.353553,\n",
      "       0.353553, 0.353553]), array([-0.353553+0.j, -0.353553+0.j, -0.353553+0.j, -0.353553+0.j,\n",
      "       -0.353553+0.j, -0.353553+0.j, -0.353553+0.j, -0.353553+0.j]))\n",
      "(array([0.353553, 0.353553, 0.353553, 0.353553, 0.353553, 0.353553,\n",
      "       0.353553, 0.353553]), array([-0.353553+0.j, -0.353553+0.j, -0.353553+0.j,  0.353553+0.j,\n",
      "        0.353553+0.j,  0.353553+0.j,  0.353553+0.j,  0.353553+0.j]))\n",
      "(array([0.353553, 0.353553, 0.353553, 0.353553, 0.353553, 0.353553,\n",
      "       0.353553, 0.353553]), array([-0.353553+0.j, -0.353553+0.j, -0.353553+0.j,  0.353553+0.j,\n",
      "        0.353553+0.j,  0.353553+0.j,  0.353553+0.j,  0.353553+0.j]))\n",
      "(array([0.353553, 0.353553, 0.353553, 0.353553, 0.353553, 0.353553,\n",
      "       0.353553, 0.353553]), array([-0.353553+0.j,  0.353553+0.j,  0.353553+0.j,  0.353553+0.j,\n",
      "       -0.353553+0.j, -0.353553+0.j, -0.353553+0.j,  0.353553+0.j]))\n",
      "\n",
      "i=12\n",
      "(array([0.353553, 0.353553, 0.353553, 0.353553, 0.353553, 0.353553,\n",
      "       0.353553, 0.353553]), array([-0.353553+0.j, -0.353553+0.j, -0.353553+0.j, -0.353553+0.j,\n",
      "       -0.353553+0.j, -0.353553+0.j, -0.353553+0.j, -0.353553+0.j]))\n",
      "(array([0.353553, 0.353553, 0.353553, 0.353553, 0.353553, 0.353553,\n",
      "       0.353553, 0.353553]), array([-0.353553+0.j, -0.353553+0.j, -0.353553+0.j,  0.353553+0.j,\n",
      "        0.353553+0.j,  0.353553+0.j,  0.353553+0.j,  0.353553+0.j]))\n",
      "(array([0.353553, 0.353553, 0.353553, 0.353553, 0.353553, 0.353553,\n",
      "       0.353553, 0.353553]), array([-0.353553+0.j, -0.353553+0.j, -0.353553+0.j,  0.353553+0.j,\n",
      "        0.353553+0.j,  0.353553+0.j,  0.353553+0.j,  0.353553+0.j]))\n",
      "(array([0.353553, 0.353553, 0.353553, 0.353553, 0.353553, 0.353553,\n",
      "       0.353553, 0.353553]), array([-0.353553+0.j, -0.353553+0.j, -0.353553+0.j,  0.353553+0.j,\n",
      "        0.353553+0.j,  0.353553+0.j, -0.353553+0.j,  0.353553+0.j]))\n",
      "\n",
      "i=13\n",
      "(array([0.353553, 0.353553, 0.353553, 0.353553, 0.353553, 0.353553,\n",
      "       0.353553, 0.353553]), array([-0.353553+0.j, -0.353553+0.j, -0.353553+0.j, -0.353553+0.j,\n",
      "       -0.353553+0.j, -0.353553+0.j, -0.353553+0.j, -0.353553+0.j]))\n",
      "(array([0.353553, 0.353553, 0.353553, 0.353553, 0.353553, 0.353553,\n",
      "       0.353553, 0.353553]), array([-0.353553+0.j,  0.353553+0.j, -0.353553+0.j, -0.353553+0.j,\n",
      "        0.353553+0.j,  0.353553+0.j,  0.353553+0.j,  0.353553+0.j]))\n",
      "(array([0.353553, 0.353553, 0.353553, 0.353553, 0.353553, 0.353553,\n",
      "       0.353553, 0.353553]), array([-0.353553+0.j,  0.353553+0.j,  0.353553+0.j, -0.353553+0.j,\n",
      "       -0.353553+0.j,  0.353553+0.j,  0.353553+0.j,  0.353553+0.j]))\n",
      "(array([0.353553, 0.353553, 0.353553, 0.353553, 0.353553, 0.353553,\n",
      "       0.353553, 0.353553]), array([-0.353553+0.j, -0.353553+0.j, -0.353553+0.j, -0.353553+0.j,\n",
      "        0.353553+0.j,  0.353553+0.j,  0.353553+0.j,  0.353553+0.j]))\n",
      "\n",
      "i=14\n",
      "(array([0.353553, 0.353553, 0.353553, 0.353553, 0.353553, 0.353553,\n",
      "       0.353553, 0.353553]), array([-0.353553+0.j, -0.353553+0.j, -0.353553+0.j, -0.353553+0.j,\n",
      "       -0.353553+0.j, -0.353553+0.j, -0.353553+0.j, -0.353553+0.j]))\n",
      "(array([0.353553, 0.353553, 0.353553, 0.353553, 0.353553, 0.353553,\n",
      "       0.353553, 0.353553]), array([-0.353553+0.j,  0.353553+0.j,  0.353553+0.j, -0.353553+0.j,\n",
      "       -0.353553+0.j,  0.353553+0.j,  0.353553+0.j,  0.353553+0.j]))\n",
      "(array([0.353553, 0.353553, 0.353553, 0.353553, 0.353553, 0.353553,\n",
      "       0.353553, 0.353553]), array([-0.353553+0.j, -0.353553+0.j,  0.353553+0.j,  0.353553+0.j,\n",
      "       -0.353553+0.j,  0.353553+0.j,  0.353553+0.j,  0.353553+0.j]))\n",
      "(array([0.353553, 0.353553, 0.353553, 0.353553, 0.353553, 0.353553,\n",
      "       0.353553, 0.353553]), array([-0.353553+0.j, -0.353553+0.j, -0.353553+0.j,  0.353553+0.j,\n",
      "       -0.353553+0.j,  0.353553+0.j,  0.353553+0.j,  0.353553+0.j]))\n",
      "\n",
      "i=15\n",
      "(array([0.353553, 0.353553, 0.353553, 0.353553, 0.353553, 0.353553,\n",
      "       0.353553, 0.353553]), array([-0.353553+0.j, -0.353553+0.j, -0.353553+0.j, -0.353553+0.j,\n",
      "       -0.353553+0.j, -0.353553+0.j, -0.353553+0.j, -0.353553+0.j]))\n",
      "(array([0.353553, 0.353553, 0.353553, 0.353553, 0.353553, 0.353553,\n",
      "       0.353553, 0.353553]), array([-0.353553+0.j,  0.353553+0.j, -0.353553+0.j, -0.353553+0.j,\n",
      "        0.353553+0.j,  0.353553+0.j,  0.353553+0.j,  0.353553+0.j]))\n",
      "(array([0.353553, 0.353553, 0.353553, 0.353553, 0.353553, 0.353553,\n",
      "       0.353553, 0.353553]), array([-0.353553+0.j, -0.353553+0.j,  0.353553+0.j, -0.353553+0.j,\n",
      "        0.353553+0.j,  0.353553+0.j,  0.353553+0.j,  0.353553+0.j]))\n",
      "(array([0.353553, 0.353553, 0.353553, 0.353553, 0.353553, 0.353553,\n",
      "       0.353553, 0.353553]), array([-0.353553+0.j,  0.353553+0.j,  0.353553+0.j, -0.353553+0.j,\n",
      "       -0.353553+0.j,  0.353553+0.j, -0.353553+0.j,  0.353553+0.j]))\n",
      "\n",
      "i=16\n",
      "(array([0.353553, 0.353553, 0.353553, 0.353553, 0.353553, 0.353553,\n",
      "       0.353553, 0.353553]), array([-0.353553+0.j, -0.353553+0.j, -0.353553+0.j, -0.353553+0.j,\n",
      "       -0.353553+0.j, -0.353553+0.j, -0.353553+0.j, -0.353553+0.j]))\n",
      "(array([0.353553, 0.353553, 0.353553, 0.353553, 0.353553, 0.353553,\n",
      "       0.353553, 0.353553]), array([-0.353553+0.j, -0.353553+0.j, -0.353553+0.j,  0.353553+0.j,\n",
      "        0.353553+0.j,  0.353553+0.j,  0.353553+0.j,  0.353553+0.j]))\n",
      "(array([0.353553, 0.353553, 0.353553, 0.353553, 0.353553, 0.353553,\n",
      "       0.353553, 0.353553]), array([-0.353553+0.j,  0.353553+0.j,  0.353553+0.j, -0.353553+0.j,\n",
      "       -0.353553+0.j,  0.353553+0.j,  0.353553+0.j,  0.353553+0.j]))\n",
      "(array([0.353553, 0.353553, 0.353553, 0.353553, 0.353553, 0.353553,\n",
      "       0.353553, 0.353553]), array([-0.353553+0.j, -0.353553+0.j, -0.353553+0.j,  0.353553+0.j,\n",
      "       -0.353553+0.j,  0.353553+0.j,  0.353553+0.j,  0.353553+0.j]))\n",
      "\n",
      "i=17\n",
      "(array([0.353553, 0.353553, 0.353553, 0.353553, 0.353553, 0.353553,\n",
      "       0.353553, 0.353553]), array([-0.353553+0.j, -0.353553+0.j, -0.353553+0.j, -0.353553+0.j,\n",
      "       -0.353553+0.j, -0.353553+0.j, -0.353553+0.j, -0.353553+0.j]))\n",
      "(array([0.353553, 0.353553, 0.353553, 0.353553, 0.353553, 0.353553,\n",
      "       0.353553, 0.353553]), array([-0.353553+0.j, -0.353553+0.j, -0.353553+0.j,  0.353553+0.j,\n",
      "        0.353553+0.j,  0.353553+0.j,  0.353553+0.j,  0.353553+0.j]))\n",
      "(array([0.353553, 0.353553, 0.353553, 0.353553, 0.353553, 0.353553,\n",
      "       0.353553, 0.353553]), array([-0.353553+0.j, -0.353553+0.j, -0.353553+0.j,  0.353553+0.j,\n",
      "        0.353553+0.j,  0.353553+0.j,  0.353553+0.j,  0.353553+0.j]))\n",
      "(array([0.353553, 0.353553, 0.353553, 0.353553, 0.353553, 0.353553,\n",
      "       0.353553, 0.353553]), array([-0.353553+0.j, -0.353553+0.j,  0.353553+0.j,  0.353553+0.j,\n",
      "       -0.353553+0.j,  0.353553+0.j, -0.353553+0.j,  0.353553+0.j]))\n",
      "\n",
      "i=18\n",
      "(array([0.353553, 0.353553, 0.353553, 0.353553, 0.353553, 0.353553,\n",
      "       0.353553, 0.353553]), array([-0.353553+0.j, -0.353553+0.j, -0.353553+0.j, -0.353553+0.j,\n",
      "       -0.353553+0.j, -0.353553+0.j, -0.353553+0.j, -0.353553+0.j]))\n",
      "(array([0.353553, 0.353553, 0.353553, 0.353553, 0.353553, 0.353553,\n",
      "       0.353553, 0.353553]), array([-0.353553+0.j, -0.353553+0.j, -0.353553+0.j,  0.353553+0.j,\n",
      "        0.353553+0.j,  0.353553+0.j,  0.353553+0.j,  0.353553+0.j]))\n",
      "(array([0.353553, 0.353553, 0.353553, 0.353553, 0.353553, 0.353553,\n",
      "       0.353553, 0.353553]), array([-0.353553+0.j, -0.353553+0.j, -0.353553+0.j,  0.353553+0.j,\n",
      "        0.353553+0.j,  0.353553+0.j,  0.353553+0.j,  0.353553+0.j]))\n",
      "(array([0.353553, 0.353553, 0.353553, 0.353553, 0.353553, 0.353553,\n",
      "       0.353553, 0.353553]), array([-0.353553+0.j, -0.353553+0.j, -0.353553+0.j,  0.353553+0.j,\n",
      "       -0.353553+0.j,  0.353553+0.j,  0.353553+0.j,  0.353553+0.j]))\n",
      "\n",
      "i=19\n",
      "(array([0.353553, 0.353553, 0.353553, 0.353553, 0.353553, 0.353553,\n",
      "       0.353553, 0.353553]), array([-0.353553+0.j, -0.353553+0.j, -0.353553+0.j, -0.353553+0.j,\n",
      "       -0.353553+0.j, -0.353553+0.j, -0.353553+0.j, -0.353553+0.j]))\n",
      "(array([0.353553, 0.353553, 0.353553, 0.353553, 0.353553, 0.353553,\n",
      "       0.353553, 0.353553]), array([-0.353553+0.j, -0.353553+0.j, -0.353553+0.j,  0.353553+0.j,\n",
      "        0.353553+0.j,  0.353553+0.j,  0.353553+0.j,  0.353553+0.j]))\n",
      "(array([0.353553, 0.353553, 0.353553, 0.353553, 0.353553, 0.353553,\n",
      "       0.353553, 0.353553]), array([-0.353553+0.j, -0.353553+0.j, -0.353553+0.j,  0.353553+0.j,\n",
      "        0.353553+0.j,  0.353553+0.j,  0.353553+0.j,  0.353553+0.j]))\n",
      "(array([0.353553, 0.353553, 0.353553, 0.353553, 0.353553, 0.353553,\n",
      "       0.353553, 0.353553]), array([-0.353553+0.j, -0.353553+0.j,  0.353553+0.j,  0.353553+0.j,\n",
      "        0.353553+0.j, -0.353553+0.j, -0.353553+0.j,  0.353553+0.j]))\n",
      "\n",
      "i=20\n",
      "(array([0.353553, 0.353553, 0.353553, 0.353553, 0.353553, 0.353553,\n",
      "       0.353553, 0.353553]), array([-0.353553+0.j, -0.353553+0.j, -0.353553+0.j, -0.353553+0.j,\n",
      "       -0.353553+0.j, -0.353553+0.j, -0.353553+0.j, -0.353553+0.j]))\n",
      "(array([0.353553, 0.353553, 0.353553, 0.353553, 0.353553, 0.353553,\n",
      "       0.353553, 0.353553]), array([-0.353553+0.j, -0.353553+0.j, -0.353553+0.j,  0.353553+0.j,\n",
      "        0.353553+0.j,  0.353553+0.j,  0.353553+0.j,  0.353553+0.j]))\n",
      "(array([0.353553, 0.353553, 0.353553, 0.353553, 0.353553, 0.353553,\n",
      "       0.353553, 0.353553]), array([-0.353553+0.j, -0.353553+0.j, -0.353553+0.j,  0.353553+0.j,\n",
      "        0.353553+0.j,  0.353553+0.j,  0.353553+0.j,  0.353553+0.j]))\n",
      "(array([0.353553, 0.353553, 0.353553, 0.353553, 0.353553, 0.353553,\n",
      "       0.353553, 0.353553]), array([-0.353553+0.j,  0.353553+0.j,  0.353553+0.j, -0.353553+0.j,\n",
      "       -0.353553+0.j,  0.353553+0.j, -0.353553+0.j,  0.353553+0.j]))\n"
     ]
    }
   ],
   "source": [
    "for i, t in enumerate(singular_and_eigen_vectors_data):\n",
    "    print(\"\\ni={}\".format(i))\n",
    "    \n",
    "    for j, l in enumerate(t):\n",
    "        print(l[2])"
   ]
  },
  {
   "cell_type": "markdown",
   "id": "d741c3c5-1009-4b90-a536-ea0f52d6d448",
   "metadata": {},
   "source": [
    "##### Conclusions\n",
    "* Getting the same dominant singular value and eigenvalue $2^{-3/2}$ with the same degeneracy of 8 across all values! Seems totally different to the right side."
   ]
  },
  {
   "cell_type": "markdown",
   "id": "712a58d3-d801-40af-9ca0-c53cb0f13251",
   "metadata": {},
   "source": [
    "#### Eigenvalues and eigenvectors of eigenvector"
   ]
  },
  {
   "cell_type": "code",
   "execution_count": 175,
   "id": "057167d7-0b7e-41df-b02c-3b349f14e8b7",
   "metadata": {},
   "outputs": [
    {
     "name": "stdout",
     "output_type": "stream",
     "text": [
      "\n",
      "i=0\n",
      "(array([1.]), array([0.707107+0.j]))\n",
      "(array([1.010974, 0.166342]), array([-0.705847-0.j,  0.238249+0.j]))\n",
      "(array([0.846805, 0.301102]), array([0.179242+0.472067j, 0.179242-0.472067j]))\n",
      "(array([0.707109, 0.702574]), array([-0.000106+0.704838j, -0.000106-0.704838j]))\n",
      "\n",
      "i=1\n",
      "(array([0.427183]), array([0.353553-0.j]))\n",
      "(array([0.496479]), array([0.346569-0.j]))\n",
      "(array([0.380336]), array([-0.353134+0.j]))\n",
      "(array([0.353554]), array([ 0.000157+0.j, -0.000157+0.j]))\n",
      "\n",
      "i=2\n",
      "(array([0.391514]), array([0.353553-0.j]))\n",
      "(array([0.373913]), array([-0.352233-0.j]))\n",
      "(array([5.96298e-01, 2.82000e-04]), array([-2.9623e-01-9.8e-05j, -1.1200e-04+1.8e-05j]))\n",
      "(array([0.37364]), array([ 0.00082 +3.2e-05j, -0.000819-3.2e-05j]))\n",
      "\n",
      "i=3\n",
      "(array([0.003238]), array([], dtype=complex128))\n",
      "(array([0.232303]), array([0.07672-4.5e-05j]))\n",
      "(array([4.92254e-01, 1.01000e-04]), array([0.271141-2.8e-05j]))\n",
      "(array([0.493094]), array([ 0.000798+0.002462j, -0.000799-0.002398j]))\n",
      "\n",
      "i=4\n",
      "(array([0.107498, 0.002111]), array([-0.000116+2.95e-04j,  0.000311-6.00e-05j, -0.000195-2.35e-04j]))\n",
      "(array([6.20503e-01, 2.86600e-03, 1.95000e-04]), array([ 3.53313e-01-0.000731j,  2.21000e-04+0.00103j ,\n",
      "       -1.30000e-05-0.000105j]))\n",
      "(array([3.62827e-01, 2.67000e-04]), array([-3.53482e-01-1.70e-05j,  7.90000e-05+1.58e-04j]))\n",
      "(array([0.062887, 0.00033 ]), array([5.3e-05-0.002966j, 3.5e-05+0.002946j]))\n",
      "\n",
      "i=5\n",
      "(array([0.361681]), array([0.353556-4.e-06j]))\n",
      "(array([0.000452]), array([0.000328-0.j]))\n",
      "(array([4.30231e-01, 2.52000e-04, 2.10000e-04]), array([-3.5353e-01-5.0e-06j,  1.1600e-04-6.6e-05j]))\n",
      "(array([0.087363, 0.024954, 0.008906, 0.000258]), array([ 2.4887e-02-0.011226j, -1.5773e-02-0.003929j,\n",
      "       -2.3770e-03+0.006295j, -1.4100e-04+0.000136j,\n",
      "       -4.4000e-05-0.000124j]))\n",
      "\n",
      "i=6\n",
      "(array([0.364602]), array([0.353551+0.j]))\n",
      "(array([0.078669]), array([-0.00028 -0.j,  0.000195-0.j]))\n",
      "(array([3.66891e-01, 6.59000e-04, 3.11000e-04]), array([ 3.53477e-01-0.j      ,  3.43000e-04-0.000115j,\n",
      "       -2.10000e-05+0.00021j ]))\n",
      "(array([0.103154, 0.020463, 0.007089, 0.000808, 0.000343, 0.000248]), array([ 2.6781e-02+0.015934j, -6.0150e-03-0.019804j,\n",
      "       -7.5530e-03+0.002337j, -4.7000e-05+0.001477j]))\n",
      "\n",
      "i=7\n",
      "(array([0.368378, 0.000906]), array([ 0.353652-8.00e-06j, -0.000657+1.21e-04j]))\n",
      "(array([0.103598]), array([-5.9e-05-0.000149j,  5.9e-05+0.000149j]))\n",
      "(array([0.51451 , 0.000922]), array([-0.353464+0.000211j, -0.000615-0.00023j ]))\n",
      "(array([0.189878, 0.103393, 0.00118 , 0.000362]), array([ 0.133079-1.9528e-02j, -0.046055-7.0490e-03j,\n",
      "        0.000493+2.3000e-05j, -0.000256+2.1500e-04j]))\n",
      "\n",
      "i=8\n",
      "(array([0.375625, 0.000577]), array([ 3.5352e-01+3.0e-06j, -1.9300e-04+2.3e-05j]))\n",
      "(array([0.115091]), array([-0.00169 +0.001997j,  0.001595-0.001997j]))\n",
      "(array([0.526974, 0.005769, 0.001385]), array([ 0.353241-2.55e-04j,  0.002116+6.10e-05j, -0.00224 +5.35e-04j]))\n",
      "(array([0.170088, 0.128216, 0.087315, 0.015122, 0.002175]), array([-0.072691-0.059079j, -0.001862+0.076913j,  0.049921-0.029384j,\n",
      "       -0.012495-0.009498j, -0.000165+0.000769j,  0.000147-0.000403j]))\n",
      "\n",
      "i=9\n",
      "(array([3.67431e-01, 1.84700e-03, 2.61000e-04]), array([ 3.53542e-01-2.81e-04j, -4.45000e-04+2.73e-04j,\n",
      "       -2.19000e-04+3.00e-06j]))\n",
      "(array([0.146099, 0.001361, 0.000233]), array([ 8.175e-03-0.009437j, -2.430e-04+0.009002j, -1.100e-05-0.00016j ]))\n",
      "(array([5.10244e-01, 3.55090e-02, 1.38340e-02, 1.53700e-03, 2.71000e-04,\n",
      "       1.06000e-04]), array([ 3.52756e-01+7.7550e-03j, -6.79200e-03-1.3216e-02j,\n",
      "       -2.18600e-03+6.6520e-03j,  5.37300e-03-2.1300e-03j,\n",
      "        2.67000e-04-2.5000e-05j]))\n",
      "(array([0.11217 , 0.083975, 0.034794, 0.005356, 0.00066 , 0.000365]), array([ 0.048117-0.008076j, -0.00942 +0.017994j,  0.001619+0.000844j,\n",
      "        0.001243-0.001127j, -0.001681-0.00015j , -0.000339+0.001277j,\n",
      "       -0.000373-0.000172j]))\n",
      "\n",
      "i=10\n",
      "(array([0.354918, 0.056063]), array([0.353548-0.j, 0.055649-0.j]))\n",
      "(array([3.54918e-01, 4.80230e-02, 2.22000e-04, 1.52000e-04]), array([ 3.53574e-01-1.00e-06j,  4.75930e-02+1.00e-06j,\n",
      "       -1.40000e-05+1.17e-04j]))\n",
      "(array([3.58871e-01, 1.36669e-01, 2.25060e-02, 3.01700e-03, 1.02700e-03,\n",
      "       2.97000e-04, 1.30000e-04]), array([ 9.9726e-02-8.8670e-03j, -5.8238e-02-5.2286e-02j,\n",
      "       -3.4375e-02+6.3890e-02j, -2.8640e-03-9.0000e-06j,\n",
      "        1.0150e-03+4.4000e-05j, -2.5500e-04+6.1000e-05j,\n",
      "        7.5000e-05+1.6500e-04j]))\n",
      "(array([3.54801e-01, 1.06566e-01, 1.21920e-02, 2.87700e-03, 6.28000e-04,\n",
      "       2.42000e-04]), array([ 5.2170e-02+3.8124e-02j, -9.8800e-04-5.4285e-02j,\n",
      "       -5.0564e-02+1.6376e-02j,  6.2900e-04+1.0690e-03j,\n",
      "        6.2700e-04-7.4900e-04j, -2.6200e-04-6.0000e-06j,\n",
      "       -2.6000e-05+9.9000e-05j]))\n",
      "\n",
      "i=11\n",
      "(array([3.53671e-01, 7.63600e-03, 2.19000e-04, 1.11000e-04]), array([ 3.53554e-01+0.000e+00j, -2.40700e-03+4.687e-03j,\n",
      "        3.40000e-05-1.040e-04j, -9.40000e-05+3.900e-05j]))\n",
      "(array([3.54375e-01, 4.57100e-03, 1.34000e-04]), array([-3.53553e-01+0.000e+00j, -1.95500e-03-1.519e-03j,\n",
      "       -7.50000e-05+7.000e-05j]))\n",
      "(array([3.54164e-01, 6.76200e-03, 3.09000e-04, 1.12000e-04]), array([0.353553+0.j      , 0.000697-0.000615j, 0.000623+0.000674j]))\n",
      "(array([0.353722, 0.008378]), array([-0.353553-0.j      ,  0.001727+0.006286j]))\n",
      "\n",
      "i=12\n",
      "(array([0.359169, 0.003891]), array([0.353555+3.000e-06j, 0.001005+2.065e-03j]))\n",
      "(array([0.353901, 0.002176]), array([-0.353554+0.j      ,  0.001283+0.001559j]))\n",
      "(array([0.357393, 0.001256]), array([-3.53554e-01-0.j      ,  2.69000e-04+0.000819j]))\n",
      "(array([0.356459, 0.000513]), array([ 3.53553e-01+0.j, -1.92000e-04-0.j]))\n",
      "\n",
      "i=13\n",
      "(array([0.355041, 0.000551]), array([ 3.53554e-01+0.e+00j, -1.15000e-04+2.e-06j]))\n",
      "(array([0.35639 , 0.001272]), array([ 3.53553e-01-0.e+00j, -1.13000e-04+7.e-06j]))\n",
      "(array([0.355203, 0.000459]), array([-3.53553e-01-0.e+00j,  2.86000e-04-1.e-06j]))\n",
      "(array([0.354251, 0.000689]), array([-0.353553+0.j]))\n",
      "\n",
      "i=14\n",
      "(array([3.54259e-01, 1.93000e-04]), array([ 3.53553e-01-0.0e+00j, -6.70000e-05-8.2e-05j]))\n",
      "(array([0.354046, 0.000427]), array([0.353553+0.j]))\n",
      "(array([3.54461e-01, 1.84000e-04]), array([-3.53553e-01-0.0e+00j, -9.90000e-05-8.6e-05j]))\n",
      "(array([3.54672e-01, 3.18000e-04]), array([0.353553+0.j]))\n",
      "\n",
      "i=15\n",
      "(array([0.353876, 0.000359]), array([ 3.53553e-01+0.j, -1.71000e-04+0.j]))\n",
      "(array([0.354598]), array([-0.353553-0.j]))\n",
      "(array([3.53808e-01, 2.55000e-04]), array([-3.53553e-01-0.j     ,  1.44000e-04-0.00021j]))\n",
      "(array([0.3543]), array([-0.353553+0.j]))\n",
      "\n",
      "i=16\n",
      "(array([0.354165]), array([0.353553-0.j]))\n",
      "(array([0.354606]), array([0.353553-0.j]))\n",
      "(array([0.354104]), array([0.353553+0.j]))\n",
      "(array([0.353555]), array([0.353553+0.j]))\n",
      "\n",
      "i=17\n",
      "(array([0.353706]), array([0.353553+0.j]))\n",
      "(array([0.353787]), array([-0.353553+0.j]))\n",
      "(array([3.53709e-01, 1.23000e-04]), array([-3.53553e-01+0.0e+00j, -9.20000e-05-8.2e-05j]))\n",
      "(array([0.353652]), array([0.353553+0.j]))\n",
      "\n",
      "i=18\n",
      "(array([0.354285]), array([0.353553-0.j]))\n",
      "(array([0.353799]), array([-0.353553+0.j]))\n",
      "(array([0.353711]), array([-0.353553-0.j]))\n",
      "(array([0.353712]), array([-0.353553+0.j]))\n",
      "\n",
      "i=19\n",
      "(array([0.353698]), array([0.353553+0.j]))\n",
      "(array([0.353985]), array([-0.353553+0.j]))\n",
      "(array([0.354153]), array([-0.353553+0.j]))\n",
      "(array([0.35383]), array([0.353553+0.j]))\n",
      "\n",
      "i=20\n",
      "(array([0.35624 , 0.095009, 0.000583]), array([ 0.353021+4.2e-05j, -0.095649-2.7e-05j, -0.000565+1.8e-05j]))\n",
      "(array([0.353679]), array([-0.353553-0.j]))\n",
      "(array([0.353842]), array([0.353553-0.j]))\n",
      "(array([0.353969]), array([0.353553-0.j]))\n"
     ]
    }
   ],
   "source": [
    "for i, t in enumerate(singular_and_eigen_vectors_data):\n",
    "    print(\"\\ni={}\".format(i))\n",
    "    \n",
    "    for j, l in enumerate(t):\n",
    "        print(l[4])"
   ]
  },
  {
   "cell_type": "markdown",
   "id": "3ce0034f-fdc4-4c99-80cf-a44206551d27",
   "metadata": {},
   "source": [
    "##### Conclusions\n",
    "* Not much going on here..."
   ]
  },
  {
   "cell_type": "markdown",
   "id": "b6f6adbe-e170-48b3-8c6b-20206f043804",
   "metadata": {},
   "source": [
    "#### Symmetric normalisation/gauge"
   ]
  },
  {
   "cell_type": "code",
   "execution_count": 176,
   "id": "6e043b2c-f1f6-4f63-ab42-5f6a64424e66",
   "metadata": {},
   "outputs": [],
   "source": [
    "singular_and_eigen_vectors_symmetric_data = [\n",
    "    [singular_and_eigen_vectors(tm) for tm in l]\n",
    "    for l in symmetric_symmetry_tms\n",
    "]"
   ]
  },
  {
   "cell_type": "markdown",
   "id": "67b617fa-b1fa-4f67-81c9-c72ad7935c6e",
   "metadata": {},
   "source": [
    "#### SVD approximations"
   ]
  },
  {
   "cell_type": "code",
   "execution_count": 177,
   "id": "15b75138-b7ce-4f4a-86e6-db2a9b90520e",
   "metadata": {},
   "outputs": [],
   "source": [
    "svd_approx_scores = np.zeros((len(singular_and_eigen_vectors_symmetric_data), 4))"
   ]
  },
  {
   "cell_type": "code",
   "execution_count": 178,
   "id": "ae2af2da-04b4-49d9-be2d-f85bd4c1890c",
   "metadata": {},
   "outputs": [],
   "source": [
    "for i, t in enumerate(singular_and_eigen_vectors_symmetric_data):\n",
    "    for j, l in enumerate(t):\n",
    "        svd_approx_scores[i, j] = l[0]"
   ]
  },
  {
   "cell_type": "code",
   "execution_count": 179,
   "id": "fe50b721-dd7a-4a59-baf4-1d0081ee0985",
   "metadata": {},
   "outputs": [
    {
     "data": {
      "text/plain": [
       "array([[1.01425765e-16, 1.22977779e-16, 8.82076930e-17, 3.10254709e-16],\n",
       "       [1.75896562e-16, 1.20630343e-16, 1.74526784e-16, 1.80435790e-16],\n",
       "       [2.13526353e-16, 1.04386551e-16, 4.51904623e-16, 3.93211296e-16],\n",
       "       [2.88419283e-16, 1.59256092e-16, 1.29583550e-16, 3.47378023e-16],\n",
       "       [9.89916515e-17, 1.48611054e-16, 3.53562633e-16, 1.40677803e-16],\n",
       "       [8.90445676e-16, 8.91243608e-16, 9.19543886e-16, 8.92484791e-16],\n",
       "       [1.62556317e-12, 1.62556318e-12, 1.62556312e-12, 1.62556318e-12],\n",
       "       [1.03555891e-09, 1.03555891e-09, 1.03555891e-09, 1.03555891e-09],\n",
       "       [3.18500371e-07, 3.18500818e-07, 3.18500818e-07, 3.18501265e-07],\n",
       "       [6.03738889e-05, 6.04792643e-05, 6.04792833e-05, 6.05848483e-05],\n",
       "       [3.80206235e-04, 3.80205842e-04, 2.61348989e-02, 2.61445714e-02],\n",
       "       [4.51681425e-05, 4.51681425e-05, 4.51681425e-05, 4.51681425e-05],\n",
       "       [1.33359552e-06, 1.33359552e-06, 1.33359552e-06, 1.33359552e-06],\n",
       "       [5.92182523e-08, 5.92182523e-08, 5.92182523e-08, 5.92182523e-08],\n",
       "       [3.17871277e-09, 3.17871277e-09, 3.17871277e-09, 3.17871277e-09],\n",
       "       [2.03446734e-10, 2.03446734e-10, 2.03446734e-10, 2.03446734e-10],\n",
       "       [1.52905418e-11, 1.52905418e-11, 1.52905418e-11, 1.52905418e-11],\n",
       "       [1.32948825e-12, 1.32948825e-12, 1.32948825e-12, 1.32948825e-12],\n",
       "       [1.31899056e-13, 1.31899056e-13, 1.31899056e-13, 1.31899290e-13],\n",
       "       [1.47505457e-14, 1.47505363e-14, 1.47505388e-14, 1.47471922e-14],\n",
       "       [1.84098776e-15, 1.84099698e-15, 1.86764140e-15, 1.84100349e-15]])"
      ]
     },
     "execution_count": 179,
     "metadata": {},
     "output_type": "execute_result"
    }
   ],
   "source": [
    "svd_approx_scores"
   ]
  },
  {
   "cell_type": "code",
   "execution_count": 180,
   "id": "bf432e07-3da7-4365-a6e8-a65015f76658",
   "metadata": {},
   "outputs": [
    {
     "data": {
      "text/plain": [
       "0.026144571373785726"
      ]
     },
     "execution_count": 180,
     "metadata": {},
     "output_type": "execute_result"
    }
   ],
   "source": [
    "np.max(svd_approx_scores)"
   ]
  },
  {
   "cell_type": "markdown",
   "id": "befb0a07-edb0-4987-9c87-c34302cf068a",
   "metadata": {},
   "source": [
    "Better approximation than the B gauge case"
   ]
  },
  {
   "cell_type": "markdown",
   "id": "f5faf484-8ac2-4d23-9db6-e0b73e88c8aa",
   "metadata": {},
   "source": [
    "#### Eigenvalue approximations"
   ]
  },
  {
   "cell_type": "code",
   "execution_count": 181,
   "id": "00569bfd-d0f5-4bb7-b400-b9d98e77172a",
   "metadata": {},
   "outputs": [],
   "source": [
    "eig_approx_scores = np.zeros((len(singular_and_eigen_vectors_symmetric_data), 4))"
   ]
  },
  {
   "cell_type": "code",
   "execution_count": 182,
   "id": "f636b036-4128-401d-8e90-a58ea2892adf",
   "metadata": {},
   "outputs": [],
   "source": [
    "for i, t in enumerate(singular_and_eigen_vectors_symmetric_data):\n",
    "    for j, l in enumerate(t):\n",
    "        eig_approx_scores[i, j] = l[3]"
   ]
  },
  {
   "cell_type": "code",
   "execution_count": 183,
   "id": "5c29d259-cf66-4ffb-8d6f-e7e87f4cf3b4",
   "metadata": {},
   "outputs": [
    {
     "data": {
      "text/plain": [
       "array([[1.11803398, 0.54853895, 0.45332733, 0.70677572],\n",
       "       [0.49999921, 0.51825955, 0.48977673, 0.54231527],\n",
       "       [0.49998698, 0.80860483, 0.57935654, 0.61235659],\n",
       "       [0.49993056, 0.47743812, 0.50535118, 0.47720153],\n",
       "       [0.49976307, 0.53465117, 0.49799317, 0.50766764],\n",
       "       [0.6158232 , 0.49935764, 0.49940312, 1.01410954],\n",
       "       [0.60561947, 0.49846854, 0.49853272, 0.93265643],\n",
       "       [0.60106037, 0.496586  , 0.49655527, 0.51923876],\n",
       "       [0.59311984, 0.49252008, 0.49262221, 0.6722498 ],\n",
       "       [0.55866312, 0.4826757 , 0.47816266, 0.47911258],\n",
       "       [0.21209517, 0.21005576, 0.03269231, 0.03221352],\n",
       "       [0.19435711, 0.20425163, 0.19673405, 0.20276928],\n",
       "       [0.16015548, 0.10167415, 0.16114517, 0.18104475],\n",
       "       [0.12447046, 0.12654298, 0.12686527, 0.09328179],\n",
       "       [0.09547002, 0.10140607, 0.0781148 , 0.1237035 ],\n",
       "       [0.08954414, 0.08992178, 0.08982612, 0.09625147],\n",
       "       [0.07778092, 0.07739974, 0.0749607 , 0.05937821],\n",
       "       [0.07017208, 0.064161  , 0.07995875, 0.06331712],\n",
       "       [0.04881569, 0.06580929, 0.06210444, 0.04986661],\n",
       "       [0.055332  , 0.04131614, 0.05389212, 0.05468046],\n",
       "       [0.05269601, 0.04097254, 0.04426739, 0.0491598 ]])"
      ]
     },
     "execution_count": 183,
     "metadata": {},
     "output_type": "execute_result"
    }
   ],
   "source": [
    "eig_approx_scores"
   ]
  },
  {
   "cell_type": "markdown",
   "id": "424fb650-7063-4a6d-93be-e14a6ae4fbcb",
   "metadata": {},
   "source": [
    "Better, but still bad."
   ]
  },
  {
   "cell_type": "markdown",
   "id": "17e78816-9148-47cf-95c6-ea1137155256",
   "metadata": {},
   "source": [
    "#### Eigenvalues and eigenvectors of right projected states"
   ]
  },
  {
   "cell_type": "code",
   "execution_count": 184,
   "id": "f4dc0046-7983-4654-8eb5-2c3bffb232cd",
   "metadata": {},
   "outputs": [
    {
     "name": "stdout",
     "output_type": "stream",
     "text": [
      "\n",
      "i=0\n",
      "(array([0.707107, 0.707107]), array([-0.707107+0.j, -0.707107+0.j]))\n",
      "(array([0.707107, 0.707107]), array([-0.707107+0.j,  0.707107+0.j]))\n",
      "(array([0.707107, 0.707107]), array([-0.707107+0.j,  0.707107+0.j]))\n",
      "(array([0.707107, 0.707107]), array([ 0.+0.707107j, -0.-0.707107j]))\n",
      "\n",
      "i=1\n",
      "(array([0.707107, 0.707107]), array([-0.707107+0.j, -0.707107+0.j]))\n",
      "(array([0.707107, 0.707107]), array([-0.707107+0.j,  0.707107+0.j]))\n",
      "(array([0.707107, 0.707107]), array([ 0.707107+0.j, -0.707107+0.j]))\n",
      "(array([0.707107, 0.707107]), array([0.+0.707107j, 0.-0.707107j]))\n",
      "\n",
      "i=2\n",
      "(array([0.707107, 0.707107]), array([-0.707107+0.j, -0.707107+0.j]))\n",
      "(array([0.707107, 0.707107]), array([ 0.707107+0.j, -0.707107+0.j]))\n",
      "(array([0.707107, 0.707107]), array([-0.707107+0.j,  0.707107+0.j]))\n",
      "(array([0.707107, 0.707107]), array([-0.+0.707107j,  0.-0.707107j]))\n",
      "\n",
      "i=3\n",
      "(array([0.707107, 0.707107]), array([-0.707107+0.j, -0.707107+0.j]))\n",
      "(array([0.707107, 0.707107]), array([-0.707107+0.j,  0.707107+0.j]))\n",
      "(array([0.707107, 0.707107]), array([-0.707107+0.j,  0.707107+0.j]))\n",
      "(array([0.707107, 0.707107]), array([0.+0.707107j, 0.-0.707107j]))\n",
      "\n",
      "i=4\n",
      "(array([0.707107, 0.707107]), array([-0.707107+0.j, -0.707107+0.j]))\n",
      "(array([0.707107, 0.707107]), array([-0.707107+0.j,  0.707107+0.j]))\n",
      "(array([0.707107, 0.707107]), array([ 0.707107+0.j, -0.707107+0.j]))\n",
      "(array([0.707107, 0.707107]), array([0.+0.707107j, 0.-0.707107j]))\n",
      "\n",
      "i=5\n",
      "(array([7.07107e-01, 7.07107e-01, 2.27000e-04, 2.27000e-04, 2.27000e-04,\n",
      "       2.27000e-04]), array([-7.07107e-01+0.j, -7.07107e-01+0.j, -2.27000e-04+0.j,\n",
      "       -2.27000e-04+0.j, -2.27000e-04+0.j, -2.27000e-04+0.j]))\n",
      "(array([7.07107e-01, 7.07107e-01, 2.27000e-04, 2.27000e-04, 2.27000e-04,\n",
      "       2.27000e-04]), array([ 7.07107e-01+0.j, -7.07107e-01+0.j, -2.27000e-04+0.j,\n",
      "       -2.27000e-04+0.j,  2.27000e-04+0.j,  2.27000e-04+0.j]))\n",
      "(array([7.07107e-01, 7.07107e-01, 2.27000e-04, 2.27000e-04, 2.27000e-04,\n",
      "       2.27000e-04]), array([-7.07107e-01+0.j,  7.07107e-01+0.j,  2.27000e-04+0.j,\n",
      "        2.27000e-04+0.j, -2.27000e-04+0.j, -2.27000e-04+0.j]))\n",
      "(array([7.07107e-01, 7.07107e-01, 2.27000e-04, 2.27000e-04, 2.27000e-04,\n",
      "       2.27000e-04]), array([-0.-7.07107e-01j, -0.+7.07107e-01j,  0.+2.27000e-04j,\n",
      "        0.+2.27000e-04j,  0.-2.27000e-04j,  0.-2.27000e-04j]))\n",
      "\n",
      "i=6\n",
      "(array([7.07107e-01, 7.07106e-01, 5.43000e-04, 5.43000e-04, 5.43000e-04,\n",
      "       5.43000e-04]), array([-7.07107e-01+0.j, -7.07106e-01+0.j, -5.43000e-04+0.j,\n",
      "       -5.43000e-04+0.j, -5.43000e-04+0.j, -5.43000e-04+0.j]))\n",
      "(array([7.07107e-01, 7.07106e-01, 5.43000e-04, 5.43000e-04, 5.43000e-04,\n",
      "       5.43000e-04]), array([-7.07107e-01+0.j,  7.07106e-01+0.j,  5.43000e-04+0.j,\n",
      "        5.43000e-04+0.j, -5.43000e-04+0.j, -5.43000e-04+0.j]))\n",
      "(array([7.07106e-01, 7.07106e-01, 5.43000e-04, 5.43000e-04, 5.43000e-04,\n",
      "       5.43000e-04]), array([-7.07106e-01+0.j,  7.07106e-01+0.j, -5.43000e-04+0.j,\n",
      "       -5.43000e-04+0.j,  5.43000e-04+0.j,  5.43000e-04+0.j]))\n",
      "(array([7.07106e-01, 7.07106e-01, 5.43000e-04, 5.43000e-04, 5.43000e-04,\n",
      "       5.43000e-04]), array([ 0.+7.07106e-01j,  0.-7.07106e-01j, -0.+5.43000e-04j,\n",
      "       -0.+5.43000e-04j,  0.-5.43000e-04j,  0.-5.43000e-04j]))\n",
      "\n",
      "i=7\n",
      "(array([0.707119, 0.70709 , 0.001213, 0.001213, 0.001213, 0.001213]), array([-0.707119+0.j, -0.70709 +0.j, -0.001213+0.j, -0.001213+0.j,\n",
      "       -0.001213+0.j, -0.001213+0.j]))\n",
      "(array([0.707119, 0.70709 , 0.001213, 0.001213, 0.001213, 0.001213]), array([-0.707119+0.j,  0.70709 +0.j,  0.001213+0.j, -0.001213+0.j,\n",
      "       -0.001213+0.j,  0.001213+0.j]))\n",
      "(array([0.707105, 0.707105, 0.001213, 0.001213, 0.001213, 0.001213]), array([-0.707105+0.j,  0.707105+0.j, -0.001213+0.j, -0.001213+0.j,\n",
      "        0.001213+0.j,  0.001213+0.j]))\n",
      "(array([0.707105, 0.707105, 0.001213, 0.001213, 0.001213, 0.001213]), array([-0.+0.707105j, -0.-0.707105j, -0.+0.001213j,  0.-0.001213j,\n",
      "       -0.+0.001213j, -0.-0.001213j]))\n",
      "\n",
      "i=8\n",
      "(array([0.707881, 0.706311, 0.002678, 0.002678, 0.002672, 0.002672]), array([-0.707881+0.j, -0.706311+0.j, -0.002672+0.j, -0.002672+0.j,\n",
      "       -0.002678+0.j, -0.002678+0.j]))\n",
      "(array([0.707881, 0.706311, 0.002678, 0.002678, 0.002672, 0.002672]), array([-0.707881+0.j,  0.706311+0.j,  0.002672+0.j,  0.002678+0.j,\n",
      "       -0.002678+0.j, -0.002672+0.j]))\n",
      "(array([0.707097, 0.707096, 0.002675, 0.002675, 0.002675, 0.002675]), array([ 0.707096+0.j, -0.707097+0.j,  0.002675+0.j,  0.002675+0.j,\n",
      "       -0.002675+0.j, -0.002675+0.j]))\n",
      "(array([0.707097, 0.707097, 0.002675, 0.002675, 0.002675, 0.002675]), array([ 0.+0.707097j,  0.-0.707097j,  0.+0.002675j, -0.+0.002675j,\n",
      "       -0.-0.002675j, -0.-0.002675j]))\n",
      "\n",
      "i=9\n",
      "(array([0.732858, 0.680269, 0.006437, 0.006406, 0.005975, 0.005946]), array([-0.732858+0.j, -0.680269+0.j, -0.005975+0.j, -0.005946+0.j,\n",
      "       -0.006406+0.j, -0.006437+0.j]))\n",
      "(array([0.732852, 0.680275, 0.006437, 0.006406, 0.005975, 0.005946]), array([-0.732852+0.j,  0.680275+0.j,  0.005975+0.j,  0.006406+0.j,\n",
      "       -0.006437+0.j, -0.005946+0.j]))\n",
      "(array([0.707609, 0.706495, 0.006215, 0.006205, 0.006188, 0.006178]), array([-0.707609+0.j,  0.706495+0.j,  0.006178+0.j, -0.006188+0.j,\n",
      "        0.006215+0.j, -0.006205+0.j]))\n",
      "(array([0.707052, 0.707052, 0.00621 , 0.00621 , 0.006183, 0.006183]), array([ 0.-0.707052j, -0.+0.707052j, -0.-0.006183j,  0.-0.00621j ,\n",
      "        0.+0.006183j,  0.+0.00621j ]))\n",
      "\n",
      "i=10\n",
      "(array([9.79207e-01, 2.00256e-01, 3.17190e-02, 5.67500e-03, 3.57200e-03,\n",
      "       7.11000e-04, 1.45000e-04]), array([-9.79207e-01+0.j, -2.00256e-01+0.j, -3.17190e-02+0.j,\n",
      "       -5.67500e-03+0.j, -3.57200e-03+0.j, -7.11000e-04+0.j,\n",
      "       -1.45000e-04+0.j]))\n",
      "(array([9.79207e-01, 2.00256e-01, 3.17190e-02, 5.67500e-03, 3.57200e-03,\n",
      "       7.11000e-04, 1.45000e-04]), array([-9.79207e-01+0.j,  2.00256e-01+0.j, -3.17190e-02+0.j,\n",
      "        5.67500e-03+0.j,  3.57200e-03+0.j, -7.11000e-04+0.j,\n",
      "       -1.45000e-04+0.j]))\n",
      "(array([9.80896e-01, 1.75385e-01, 8.31670e-02, 1.26180e-02, 2.57300e-03,\n",
      "       3.02000e-04, 1.68000e-04, 1.49000e-04]), array([-9.80896e-01+0.j, -1.75385e-01+0.j,  8.31670e-02+0.j,\n",
      "        1.26180e-02+0.j, -2.57300e-03+0.j, -3.02000e-04+0.j,\n",
      "        1.68000e-04+0.j,  1.49000e-04+0.j]))\n",
      "(array([9.79827e-01, 1.81726e-01, 8.21080e-02, 1.28820e-02, 2.61100e-03,\n",
      "       3.22000e-04, 1.66000e-04, 1.49000e-04]), array([-9.79827e-01+0.j,  8.21080e-02+0.j,  1.81726e-01+0.j,\n",
      "       -1.28820e-02+0.j,  1.66000e-04+0.j, -3.22000e-04+0.j,\n",
      "        2.61100e-03+0.j, -1.49000e-04+0.j]))\n",
      "\n",
      "i=11\n",
      "(array([9.89913e-01, 1.01999e-01, 9.78330e-02, 9.81400e-03, 6.47000e-04,\n",
      "       2.71000e-04]), array([-9.89913e-01+0.j, -9.78330e-02+0.j, -1.01999e-01+0.j,\n",
      "       -9.81400e-03+0.j, -6.47000e-04+0.j, -2.71000e-04+0.j]))\n",
      "(array([9.89913e-01, 1.01999e-01, 9.78330e-02, 9.81400e-03, 6.47000e-04,\n",
      "       2.71000e-04]), array([-9.89913e-01+0.j,  1.01999e-01+0.j, -9.78330e-02+0.j,\n",
      "        9.81400e-03+0.j,  6.47000e-04+0.j, -2.71000e-04+0.j]))\n",
      "(array([9.89913e-01, 1.01999e-01, 9.78330e-02, 9.81400e-03, 6.47000e-04,\n",
      "       2.71000e-04]), array([-9.89913e-01+0.j,  9.78330e-02+0.j, -1.01999e-01+0.j,\n",
      "        9.81400e-03+0.j, -6.47000e-04+0.j,  2.71000e-04+0.j]))\n",
      "(array([9.89913e-01, 1.01999e-01, 9.78330e-02, 9.81400e-03, 6.47000e-04,\n",
      "       2.71000e-04]), array([-9.89913e-01+0.j,  9.78330e-02+0.j,  1.01999e-01+0.j,\n",
      "       -9.81400e-03+0.j,  6.47000e-04+0.j,  2.71000e-04+0.j]))\n",
      "\n",
      "i=12\n",
      "(array([9.94858e-01, 7.15250e-02, 7.15250e-02, 5.14100e-03, 2.15000e-04,\n",
      "       2.15000e-04]), array([-9.94858e-01+0.j, -7.15250e-02+0.j, -7.15250e-02+0.j,\n",
      "       -5.14100e-03+0.j, -2.15000e-04+0.j, -2.15000e-04+0.j]))\n",
      "(array([9.94858e-01, 7.15250e-02, 7.15250e-02, 5.14100e-03, 2.15000e-04,\n",
      "       2.15000e-04]), array([-9.94858e-01+0.j,  7.15250e-02+0.j, -7.15250e-02+0.j,\n",
      "        5.14100e-03+0.j,  2.15000e-04+0.j, -2.15000e-04+0.j]))\n",
      "(array([9.94858e-01, 7.15250e-02, 7.15250e-02, 5.14100e-03, 2.15000e-04,\n",
      "       2.15000e-04]), array([-9.94858e-01+0.j,  7.15250e-02+0.j, -7.15250e-02+0.j,\n",
      "        5.14100e-03+0.j,  2.15000e-04+0.j, -2.15000e-04+0.j]))\n",
      "(array([9.94858e-01, 7.15250e-02, 7.15250e-02, 5.14100e-03, 2.15000e-04,\n",
      "       2.15000e-04]), array([-9.94858e-01+0.j,  7.15250e-02+0.j,  7.15250e-02+0.j,\n",
      "       -5.14100e-03+0.j,  2.15000e-04+0.j,  2.15000e-04+0.j]))\n",
      "\n",
      "i=13\n",
      "(array([9.96959e-01, 5.50650e-02, 5.50650e-02, 3.04100e-03, 1.17000e-04,\n",
      "       1.17000e-04]), array([-9.96959e-01+0.j, -5.50650e-02+0.j, -5.50650e-02+0.j,\n",
      "       -3.04100e-03+0.j, -1.17000e-04+0.j, -1.17000e-04+0.j]))\n",
      "(array([9.96959e-01, 5.50650e-02, 5.50650e-02, 3.04100e-03, 1.17000e-04,\n",
      "       1.17000e-04]), array([-9.96959e-01+0.j,  5.50650e-02+0.j, -5.50650e-02+0.j,\n",
      "        3.04100e-03+0.j,  1.17000e-04+0.j, -1.17000e-04+0.j]))\n",
      "(array([9.96959e-01, 5.50650e-02, 5.50650e-02, 3.04100e-03, 1.17000e-04,\n",
      "       1.17000e-04]), array([-9.96959e-01+0.j,  5.50650e-02+0.j, -5.50650e-02+0.j,\n",
      "        3.04100e-03+0.j,  1.17000e-04+0.j, -1.17000e-04+0.j]))\n",
      "(array([9.96959e-01, 5.50650e-02, 5.50650e-02, 3.04100e-03, 1.17000e-04,\n",
      "       1.17000e-04]), array([-9.96959e-01+0.j,  5.50650e-02+0.j,  5.50650e-02+0.j,\n",
      "       -3.04100e-03+0.j,  1.17000e-04+0.j,  1.17000e-04+0.j]))\n",
      "\n",
      "i=14\n",
      "(array([0.998042, 0.044207, 0.044207, 0.001958]), array([-0.998042+0.j, -0.044207+0.j, -0.044207+0.j, -0.001958+0.j]))\n",
      "(array([0.998042, 0.044207, 0.044207, 0.001958]), array([-0.998042+0.j,  0.044207+0.j, -0.044207+0.j,  0.001958+0.j]))\n",
      "(array([0.998042, 0.044207, 0.044207, 0.001958]), array([-0.998042+0.j,  0.044207+0.j, -0.044207+0.j,  0.001958+0.j]))\n",
      "(array([0.998042, 0.044207, 0.044207, 0.001958]), array([-0.998042+0.j,  0.044207+0.j,  0.044207+0.j, -0.001958+0.j]))\n",
      "\n",
      "i=15\n",
      "(array([0.998663, 0.036535, 0.036535, 0.001337]), array([-0.998663+0.j, -0.036535+0.j, -0.036535+0.j, -0.001337+0.j]))\n",
      "(array([0.998663, 0.036535, 0.036535, 0.001337]), array([-0.998663+0.j, -0.036535+0.j,  0.036535+0.j,  0.001337+0.j]))\n",
      "(array([0.998663, 0.036535, 0.036535, 0.001337]), array([-0.998663+0.j,  0.036535+0.j, -0.036535+0.j,  0.001337+0.j]))\n",
      "(array([0.998663, 0.036535, 0.036535, 0.001337]), array([-0.998663+0.j,  0.036535+0.j,  0.036535+0.j, -0.001337+0.j]))\n",
      "\n",
      "i=16\n",
      "(array([9.99048e-01, 3.08470e-02, 3.08470e-02, 9.52000e-04]), array([-9.99048e-01+0.j, -3.08470e-02+0.j, -3.08470e-02+0.j,\n",
      "       -9.52000e-04+0.j]))\n",
      "(array([9.99048e-01, 3.08470e-02, 3.08470e-02, 9.52000e-04]), array([-9.99048e-01+0.j,  3.08470e-02+0.j, -3.08470e-02+0.j,\n",
      "        9.52000e-04+0.j]))\n",
      "(array([9.99048e-01, 3.08470e-02, 3.08470e-02, 9.52000e-04]), array([-9.99048e-01+0.j,  3.08470e-02+0.j, -3.08470e-02+0.j,\n",
      "        9.52000e-04+0.j]))\n",
      "(array([9.99048e-01, 3.08470e-02, 3.08470e-02, 9.52000e-04]), array([-9.99048e-01+0.j,  3.08470e-02+0.j,  3.08470e-02+0.j,\n",
      "       -9.52000e-04+0.j]))\n",
      "\n",
      "i=17\n",
      "(array([9.99298e-01, 2.64770e-02, 2.64770e-02, 7.02000e-04]), array([-9.99298e-01+0.j, -2.64770e-02+0.j, -2.64770e-02+0.j,\n",
      "       -7.02000e-04+0.j]))\n",
      "(array([9.99298e-01, 2.64770e-02, 2.64770e-02, 7.02000e-04]), array([-9.99298e-01+0.j,  2.64770e-02+0.j, -2.64770e-02+0.j,\n",
      "        7.02000e-04+0.j]))\n",
      "(array([9.99298e-01, 2.64770e-02, 2.64770e-02, 7.02000e-04]), array([-9.99298e-01+0.j,  2.64770e-02+0.j, -2.64770e-02+0.j,\n",
      "        7.02000e-04+0.j]))\n",
      "(array([9.99298e-01, 2.64770e-02, 2.64770e-02, 7.02000e-04]), array([-9.99298e-01+0.j,  2.64770e-02+0.j,  2.64770e-02+0.j,\n",
      "       -7.02000e-04+0.j]))\n",
      "\n",
      "i=18\n",
      "(array([9.99469e-01, 2.30280e-02, 2.30280e-02, 5.31000e-04]), array([-9.99469e-01+0.j, -2.30280e-02+0.j, -2.30280e-02+0.j,\n",
      "       -5.31000e-04+0.j]))\n",
      "(array([9.99469e-01, 2.30280e-02, 2.30280e-02, 5.31000e-04]), array([-9.99469e-01+0.j,  2.30280e-02+0.j, -2.30280e-02+0.j,\n",
      "        5.31000e-04+0.j]))\n",
      "(array([9.99469e-01, 2.30280e-02, 2.30280e-02, 5.31000e-04]), array([-9.99469e-01+0.j,  2.30280e-02+0.j, -2.30280e-02+0.j,\n",
      "        5.31000e-04+0.j]))\n",
      "(array([9.99469e-01, 2.30280e-02, 2.30280e-02, 5.31000e-04]), array([-9.99469e-01+0.j,  2.30280e-02+0.j,  2.30280e-02+0.j,\n",
      "       -5.31000e-04+0.j]))\n",
      "\n",
      "i=19\n",
      "(array([9.9959e-01, 2.0246e-02, 2.0246e-02, 4.1000e-04]), array([-9.9959e-01+0.j, -2.0246e-02+0.j, -2.0246e-02+0.j, -4.1000e-04+0.j]))\n",
      "(array([9.9959e-01, 2.0246e-02, 2.0246e-02, 4.1000e-04]), array([-9.9959e-01+0.j,  2.0246e-02+0.j, -2.0246e-02+0.j,  4.1000e-04+0.j]))\n",
      "(array([9.9959e-01, 2.0246e-02, 2.0246e-02, 4.1000e-04]), array([-9.9959e-01+0.j,  2.0246e-02+0.j, -2.0246e-02+0.j,  4.1000e-04+0.j]))\n",
      "(array([9.9959e-01, 2.0246e-02, 2.0246e-02, 4.1000e-04]), array([-9.9959e-01+0.j,  2.0246e-02+0.j,  2.0246e-02+0.j, -4.1000e-04+0.j]))\n",
      "\n",
      "i=20\n",
      "(array([9.99677e-01, 1.79620e-02, 1.79620e-02, 3.23000e-04]), array([-9.99677e-01+0.j, -1.79620e-02+0.j, -1.79620e-02+0.j,\n",
      "       -3.23000e-04+0.j]))\n",
      "(array([9.99677e-01, 1.79620e-02, 1.79620e-02, 3.23000e-04]), array([-9.99677e-01+0.j,  1.79620e-02+0.j, -1.79620e-02+0.j,\n",
      "        3.23000e-04+0.j]))\n",
      "(array([9.99677e-01, 1.79620e-02, 1.79620e-02, 3.23000e-04]), array([-9.99677e-01+0.j,  1.79620e-02+0.j, -1.79620e-02+0.j,\n",
      "        3.23000e-04+0.j]))\n",
      "(array([9.99677e-01, 1.79620e-02, 1.79620e-02, 3.23000e-04]), array([-9.99677e-01+0.j,  1.79620e-02+0.j,  1.79620e-02+0.j,\n",
      "       -3.23000e-04+0.j]))\n"
     ]
    }
   ],
   "source": [
    "for i, t in enumerate(singular_and_eigen_vectors_symmetric_data):\n",
    "    print(\"\\ni={}\".format(i))\n",
    "    \n",
    "    for j, l in enumerate(t):\n",
    "        print(l[1])"
   ]
  },
  {
   "cell_type": "markdown",
   "id": "16aa66fc-92ed-4f71-84f9-02cec6ebbec0",
   "metadata": {},
   "source": [
    "##### Conclusions\n",
    "* Similar to the B gauge case. Makes sense, as we have not changed anything about the right side of the SVD decomposition."
   ]
  },
  {
   "cell_type": "markdown",
   "id": "b134f646-7856-458b-af6c-ebb4c446f353",
   "metadata": {},
   "source": [
    "#### Eigenvalues and eigenvectors of left projected states"
   ]
  },
  {
   "cell_type": "code",
   "execution_count": 185,
   "id": "3ea1e276-bb4e-43ea-8ec2-c014868d66cc",
   "metadata": {},
   "outputs": [
    {
     "name": "stdout",
     "output_type": "stream",
     "text": [
      "\n",
      "i=0\n",
      "(array([0.707107, 0.707107]), array([-0.707107+0.j, -0.707107+0.j]))\n",
      "(array([0.707107, 0.707107]), array([-0.707107+0.j,  0.707107+0.j]))\n",
      "(array([0.707107, 0.707107]), array([-0.707107+0.j,  0.707107+0.j]))\n",
      "(array([0.707107, 0.707107]), array([-0.+0.707107j, -0.-0.707107j]))\n",
      "\n",
      "i=1\n",
      "(array([0.707107, 0.707107]), array([-0.707107+0.j, -0.707107+0.j]))\n",
      "(array([0.707107, 0.707107]), array([-0.707107+0.j,  0.707107+0.j]))\n",
      "(array([0.707107, 0.707107]), array([-0.707107+0.j,  0.707107+0.j]))\n",
      "(array([0.707107, 0.707107]), array([0.+0.707107j, 0.-0.707107j]))\n",
      "\n",
      "i=2\n",
      "(array([0.707107, 0.707107]), array([-0.707107+0.j, -0.707107+0.j]))\n",
      "(array([0.707107, 0.707107]), array([-0.707107+0.j,  0.707107+0.j]))\n",
      "(array([0.707107, 0.707107]), array([-0.707107+0.j,  0.707107+0.j]))\n",
      "(array([0.707107, 0.707107]), array([-0.+0.707107j, -0.-0.707107j]))\n",
      "\n",
      "i=3\n",
      "(array([0.707107, 0.707107]), array([-0.707107+0.j, -0.707107+0.j]))\n",
      "(array([0.707107, 0.707107]), array([-0.707107+0.j,  0.707107+0.j]))\n",
      "(array([0.707107, 0.707107]), array([-0.707107+0.j,  0.707107+0.j]))\n",
      "(array([0.707107, 0.707107]), array([0.+0.707107j, 0.-0.707107j]))\n",
      "\n",
      "i=4\n",
      "(array([0.707107, 0.707107]), array([-0.707107+0.j, -0.707107+0.j]))\n",
      "(array([0.707107, 0.707107]), array([-0.707107+0.j,  0.707107+0.j]))\n",
      "(array([0.707107, 0.707107]), array([-0.707107+0.j,  0.707107+0.j]))\n",
      "(array([0.707107, 0.707107]), array([0.+0.707107j, 0.-0.707107j]))\n",
      "\n",
      "i=5\n",
      "(array([7.07107e-01, 7.07107e-01, 2.27000e-04, 2.27000e-04, 2.27000e-04,\n",
      "       2.27000e-04]), array([-7.07107e-01+0.j, -7.07107e-01+0.j, -2.27000e-04+0.j,\n",
      "       -2.27000e-04+0.j, -2.27000e-04+0.j, -2.27000e-04+0.j]))\n",
      "(array([7.07107e-01, 7.07107e-01, 2.27000e-04, 2.27000e-04, 2.27000e-04,\n",
      "       2.27000e-04]), array([-7.07107e-01+0.j,  7.07107e-01+0.j, -2.27000e-04+0.j,\n",
      "       -2.27000e-04+0.j,  2.27000e-04+0.j,  2.27000e-04+0.j]))\n",
      "(array([7.07107e-01, 7.07107e-01, 2.27000e-04, 2.27000e-04, 2.27000e-04,\n",
      "       2.27000e-04]), array([-7.07107e-01+0.j,  7.07107e-01+0.j,  2.27000e-04+0.j,\n",
      "        2.27000e-04+0.j, -2.27000e-04+0.j, -2.27000e-04+0.j]))\n",
      "(array([7.07107e-01, 7.07107e-01, 2.27000e-04, 2.27000e-04, 2.27000e-04,\n",
      "       2.27000e-04]), array([ 0.-7.07107e-01j,  0.+7.07107e-01j, -0.+2.27000e-04j,\n",
      "       -0.+2.27000e-04j,  0.-2.27000e-04j,  0.-2.27000e-04j]))\n",
      "\n",
      "i=6\n",
      "(array([7.07107e-01, 7.07106e-01, 5.43000e-04, 5.43000e-04, 5.43000e-04,\n",
      "       5.43000e-04]), array([-7.07107e-01+0.j, -7.07106e-01+0.j, -5.43000e-04+0.j,\n",
      "       -5.43000e-04+0.j, -5.43000e-04+0.j, -5.43000e-04+0.j]))\n",
      "(array([7.07106e-01, 7.07106e-01, 5.43000e-04, 5.43000e-04, 5.43000e-04,\n",
      "       5.43000e-04]), array([ 7.07106e-01+0.j, -7.07106e-01+0.j,  5.43000e-04+0.j,\n",
      "        5.43000e-04+0.j, -5.43000e-04+0.j, -5.43000e-04+0.j]))\n",
      "(array([7.07107e-01, 7.07106e-01, 5.43000e-04, 5.43000e-04, 5.43000e-04,\n",
      "       5.43000e-04]), array([-7.07107e-01+0.j,  7.07106e-01+0.j,  5.43000e-04+0.j,\n",
      "        5.43000e-04+0.j, -5.43000e-04+0.j, -5.43000e-04+0.j]))\n",
      "(array([7.07106e-01, 7.07106e-01, 5.43000e-04, 5.43000e-04, 5.43000e-04,\n",
      "       5.43000e-04]), array([ 0.+7.07106e-01j,  0.-7.07106e-01j, -0.+5.43000e-04j,\n",
      "        0.+5.43000e-04j, -0.-5.43000e-04j,  0.-5.43000e-04j]))\n",
      "\n",
      "i=7\n",
      "(array([0.707119, 0.70709 , 0.001213, 0.001213, 0.001213, 0.001213]), array([-0.707119+0.j, -0.70709 +0.j, -0.001213+0.j, -0.001213+0.j,\n",
      "       -0.001213+0.j, -0.001213+0.j]))\n",
      "(array([0.707105, 0.707105, 0.001213, 0.001213, 0.001213, 0.001213]), array([ 0.707105+0.j, -0.707105+0.j,  0.001213+0.j, -0.001213+0.j,\n",
      "        0.001213+0.j, -0.001213+0.j]))\n",
      "(array([0.707119, 0.70709 , 0.001213, 0.001213, 0.001213, 0.001213]), array([-0.707119+0.j,  0.70709 +0.j,  0.001213+0.j,  0.001213+0.j,\n",
      "       -0.001213+0.j, -0.001213+0.j]))\n",
      "(array([0.707105, 0.707105, 0.001213, 0.001213, 0.001213, 0.001213]), array([ 0.+0.707105j,  0.-0.707105j,  0.+0.001213j,  0.-0.001213j,\n",
      "       -0.+0.001213j, -0.-0.001213j]))\n",
      "\n",
      "i=8\n",
      "(array([0.707881, 0.706311, 0.002678, 0.002678, 0.002672, 0.002672]), array([-0.707881+0.j, -0.706311+0.j, -0.002672+0.j, -0.002672+0.j,\n",
      "       -0.002678+0.j, -0.002678+0.j]))\n",
      "(array([0.707097, 0.707097, 0.002675, 0.002675, 0.002675, 0.002675]), array([-0.707097+0.j,  0.707097+0.j, -0.002675+0.j,  0.002675+0.j,\n",
      "       -0.002675+0.j,  0.002675+0.j]))\n",
      "(array([0.707881, 0.706311, 0.002678, 0.002678, 0.002672, 0.002672]), array([-0.707881+0.j,  0.706311+0.j,  0.002672+0.j,  0.002678+0.j,\n",
      "       -0.002678+0.j, -0.002672+0.j]))\n",
      "(array([0.707097, 0.707097, 0.002675, 0.002675, 0.002675, 0.002675]), array([-0.+0.707097j, -0.-0.707097j,  0.+0.002675j, -0.+0.002675j,\n",
      "       -0.-0.002675j, -0.-0.002675j]))\n",
      "\n",
      "i=9\n",
      "(array([0.732855, 0.680272, 0.006437, 0.006406, 0.005975, 0.005946]), array([-0.732855+0.j, -0.680272+0.j, -0.005975+0.j, -0.005946+0.j,\n",
      "       -0.006406+0.j, -0.006437+0.j]))\n",
      "(array([0.707605, 0.7065  , 0.006215, 0.006206, 0.006188, 0.006179]), array([-0.707605+0.j,  0.7065  +0.j,  0.006179+0.j, -0.006188+0.j,\n",
      "        0.006215+0.j, -0.006206+0.j]))\n",
      "(array([0.732849, 0.680278, 0.006437, 0.006406, 0.005975, 0.005946]), array([-0.732849+0.j,  0.680278+0.j,  0.005975+0.j,  0.006406+0.j,\n",
      "       -0.006437+0.j, -0.005946+0.j]))\n",
      "(array([0.707052, 0.707052, 0.00621 , 0.00621 , 0.006183, 0.006183]), array([ 0.-0.707052j,  0.+0.707052j, -0.-0.006183j,  0.-0.00621j ,\n",
      "       -0.+0.006183j,  0.+0.00621j ]))\n",
      "\n",
      "i=10\n",
      "(array([9.79214e-01, 2.00227e-01, 3.16850e-02, 5.66600e-03, 3.56900e-03,\n",
      "       7.10000e-04, 1.45000e-04]), array([-9.79214e-01+0.j, -2.00227e-01+0.j, -3.16850e-02+0.j,\n",
      "       -5.66600e-03+0.j, -3.56900e-03+0.j, -7.10000e-04+0.j,\n",
      "       -1.45000e-04+0.j]))\n",
      "(array([9.79214e-01, 2.00227e-01, 3.16850e-02, 5.66600e-03, 3.56900e-03,\n",
      "       7.10000e-04, 1.45000e-04]), array([-9.79214e-01+0.j,  2.00227e-01+0.j, -3.16850e-02+0.j,\n",
      "        5.66600e-03+0.j,  3.56900e-03+0.j, -7.10000e-04+0.j,\n",
      "       -1.45000e-04+0.j]))\n",
      "(array([9.80519e-01, 1.77692e-01, 8.26420e-02, 1.30770e-02, 2.80100e-03,\n",
      "       4.84000e-04, 1.78000e-04, 1.67000e-04]), array([-9.80519e-01+0.j, -1.77692e-01+0.j,  8.26420e-02+0.j,\n",
      "        1.30770e-02+0.j, -2.80100e-03+0.j, -4.84000e-04+0.j,\n",
      "        1.78000e-04+0.j,  1.67000e-04+0.j]))\n",
      "(array([9.79429e-01, 1.84058e-01, 8.15840e-02, 1.33390e-02, 2.83600e-03,\n",
      "       5.08000e-04, 1.78000e-04, 1.67000e-04]), array([-9.79429e-01+0.j,  8.15840e-02+0.j,  1.84058e-01+0.j,\n",
      "       -1.33390e-02+0.j, -5.08000e-04+0.j,  1.78000e-04+0.j,\n",
      "        2.83600e-03+0.j, -1.67000e-04+0.j]))\n",
      "\n",
      "i=11\n",
      "(array([9.90041e-01, 1.00449e-01, 9.81440e-02, 9.81300e-03, 4.82000e-04,\n",
      "       3.08000e-04]), array([-9.90041e-01+0.j, -1.00449e-01+0.j, -9.81440e-02+0.j,\n",
      "       -9.81300e-03+0.j, -4.82000e-04+0.j, -3.08000e-04+0.j]))\n",
      "(array([9.90041e-01, 1.00449e-01, 9.81440e-02, 9.81300e-03, 4.82000e-04,\n",
      "       3.08000e-04]), array([-9.90041e-01+0.j,  1.00449e-01+0.j, -9.81440e-02+0.j,\n",
      "        9.81300e-03+0.j,  4.82000e-04+0.j, -3.08000e-04+0.j]))\n",
      "(array([9.90041e-01, 1.00449e-01, 9.81440e-02, 9.81300e-03, 4.82000e-04,\n",
      "       3.08000e-04]), array([-9.90041e-01+0.j,  9.81440e-02+0.j, -1.00449e-01+0.j,\n",
      "        9.81300e-03+0.j,  3.08000e-04+0.j, -4.82000e-04+0.j]))\n",
      "(array([9.90041e-01, 1.00449e-01, 9.81440e-02, 9.81300e-03, 4.82000e-04,\n",
      "       3.08000e-04]), array([-9.90041e-01+0.j,  9.81440e-02+0.j,  1.00449e-01+0.j,\n",
      "       -9.81300e-03+0.j,  4.82000e-04+0.j,  3.08000e-04+0.j]))\n",
      "\n",
      "i=12\n",
      "(array([9.94858e-01, 7.15250e-02, 7.15250e-02, 5.14100e-03, 2.15000e-04,\n",
      "       2.15000e-04]), array([-9.94858e-01+0.j, -7.15250e-02+0.j, -7.15250e-02+0.j,\n",
      "       -5.14100e-03+0.j, -2.15000e-04+0.j, -2.15000e-04+0.j]))\n",
      "(array([9.94858e-01, 7.15250e-02, 7.15250e-02, 5.14100e-03, 2.15000e-04,\n",
      "       2.15000e-04]), array([-9.94858e-01+0.j,  7.15250e-02+0.j, -7.15250e-02+0.j,\n",
      "        5.14100e-03+0.j,  2.15000e-04+0.j, -2.15000e-04+0.j]))\n",
      "(array([9.94858e-01, 7.15250e-02, 7.15250e-02, 5.14100e-03, 2.15000e-04,\n",
      "       2.15000e-04]), array([-9.94858e-01+0.j,  7.15250e-02+0.j, -7.15250e-02+0.j,\n",
      "        5.14100e-03+0.j,  2.15000e-04+0.j, -2.15000e-04+0.j]))\n",
      "(array([9.94858e-01, 7.15250e-02, 7.15250e-02, 5.14100e-03, 2.15000e-04,\n",
      "       2.15000e-04]), array([-9.94858e-01+0.j,  7.15250e-02+0.j,  7.15250e-02+0.j,\n",
      "       -5.14100e-03+0.j,  2.15000e-04+0.j,  2.15000e-04+0.j]))\n",
      "\n",
      "i=13\n",
      "(array([9.96959e-01, 5.50650e-02, 5.50650e-02, 3.04100e-03, 1.17000e-04,\n",
      "       1.17000e-04]), array([-9.96959e-01+0.j, -5.50650e-02+0.j, -5.50650e-02+0.j,\n",
      "       -3.04100e-03+0.j, -1.17000e-04+0.j, -1.17000e-04+0.j]))\n",
      "(array([9.96959e-01, 5.50650e-02, 5.50650e-02, 3.04100e-03, 1.17000e-04,\n",
      "       1.17000e-04]), array([-9.96959e-01+0.j,  5.50650e-02+0.j, -5.50650e-02+0.j,\n",
      "        3.04100e-03+0.j,  1.17000e-04+0.j, -1.17000e-04+0.j]))\n",
      "(array([9.96959e-01, 5.50650e-02, 5.50650e-02, 3.04100e-03, 1.17000e-04,\n",
      "       1.17000e-04]), array([-9.96959e-01+0.j,  5.50650e-02+0.j, -5.50650e-02+0.j,\n",
      "        3.04100e-03+0.j,  1.17000e-04+0.j, -1.17000e-04+0.j]))\n",
      "(array([9.96959e-01, 5.50650e-02, 5.50650e-02, 3.04100e-03, 1.17000e-04,\n",
      "       1.17000e-04]), array([-9.96959e-01+0.j,  5.50650e-02+0.j,  5.50650e-02+0.j,\n",
      "       -3.04100e-03+0.j,  1.17000e-04+0.j,  1.17000e-04+0.j]))\n",
      "\n",
      "i=14\n",
      "(array([0.998042, 0.044207, 0.044207, 0.001958]), array([-0.998042+0.j, -0.044207+0.j, -0.044207+0.j, -0.001958+0.j]))\n",
      "(array([0.998042, 0.044207, 0.044207, 0.001958]), array([-0.998042+0.j,  0.044207+0.j, -0.044207+0.j,  0.001958+0.j]))\n",
      "(array([0.998042, 0.044207, 0.044207, 0.001958]), array([-0.998042+0.j,  0.044207+0.j, -0.044207+0.j,  0.001958+0.j]))\n",
      "(array([0.998042, 0.044207, 0.044207, 0.001958]), array([-0.998042+0.j,  0.044207+0.j,  0.044207+0.j, -0.001958+0.j]))\n",
      "\n",
      "i=15\n",
      "(array([0.998663, 0.036535, 0.036535, 0.001337]), array([-0.998663+0.j, -0.036535+0.j, -0.036535+0.j, -0.001337+0.j]))\n",
      "(array([0.998663, 0.036535, 0.036535, 0.001337]), array([-0.998663+0.j,  0.036535+0.j, -0.036535+0.j,  0.001337+0.j]))\n",
      "(array([0.998663, 0.036535, 0.036535, 0.001337]), array([-0.998663+0.j,  0.036535+0.j, -0.036535+0.j,  0.001337+0.j]))\n",
      "(array([0.998663, 0.036535, 0.036535, 0.001337]), array([-0.998663+0.j,  0.036535+0.j,  0.036535+0.j, -0.001337+0.j]))\n",
      "\n",
      "i=16\n",
      "(array([9.99048e-01, 3.08470e-02, 3.08470e-02, 9.52000e-04]), array([-9.99048e-01+0.j, -3.08470e-02+0.j, -3.08470e-02+0.j,\n",
      "       -9.52000e-04+0.j]))\n",
      "(array([9.99048e-01, 3.08470e-02, 3.08470e-02, 9.52000e-04]), array([-9.99048e-01+0.j,  3.08470e-02+0.j, -3.08470e-02+0.j,\n",
      "        9.52000e-04+0.j]))\n",
      "(array([9.99048e-01, 3.08470e-02, 3.08470e-02, 9.52000e-04]), array([-9.99048e-01+0.j,  3.08470e-02+0.j, -3.08470e-02+0.j,\n",
      "        9.52000e-04+0.j]))\n",
      "(array([9.99048e-01, 3.08470e-02, 3.08470e-02, 9.52000e-04]), array([-9.99048e-01+0.j,  3.08470e-02+0.j,  3.08470e-02+0.j,\n",
      "       -9.52000e-04+0.j]))\n",
      "\n",
      "i=17\n",
      "(array([9.99298e-01, 2.64770e-02, 2.64770e-02, 7.02000e-04]), array([-9.99298e-01+0.j, -2.64770e-02+0.j, -2.64770e-02+0.j,\n",
      "       -7.02000e-04+0.j]))\n",
      "(array([9.99298e-01, 2.64770e-02, 2.64770e-02, 7.02000e-04]), array([-9.99298e-01+0.j,  2.64770e-02+0.j, -2.64770e-02+0.j,\n",
      "        7.02000e-04+0.j]))\n",
      "(array([9.99298e-01, 2.64770e-02, 2.64770e-02, 7.02000e-04]), array([-9.99298e-01+0.j,  2.64770e-02+0.j, -2.64770e-02+0.j,\n",
      "        7.02000e-04+0.j]))\n",
      "(array([9.99298e-01, 2.64770e-02, 2.64770e-02, 7.02000e-04]), array([-9.99298e-01+0.j,  2.64770e-02+0.j,  2.64770e-02+0.j,\n",
      "       -7.02000e-04+0.j]))\n",
      "\n",
      "i=18\n",
      "(array([9.99469e-01, 2.30280e-02, 2.30280e-02, 5.31000e-04]), array([-9.99469e-01+0.j, -2.30280e-02+0.j, -2.30280e-02+0.j,\n",
      "       -5.31000e-04+0.j]))\n",
      "(array([9.99469e-01, 2.30280e-02, 2.30280e-02, 5.31000e-04]), array([-9.99469e-01+0.j,  2.30280e-02+0.j, -2.30280e-02+0.j,\n",
      "        5.31000e-04+0.j]))\n",
      "(array([9.99469e-01, 2.30280e-02, 2.30280e-02, 5.31000e-04]), array([-9.99469e-01+0.j,  2.30280e-02+0.j, -2.30280e-02+0.j,\n",
      "        5.31000e-04+0.j]))\n",
      "(array([9.99469e-01, 2.30280e-02, 2.30280e-02, 5.31000e-04]), array([-9.99469e-01+0.j,  2.30280e-02+0.j,  2.30280e-02+0.j,\n",
      "       -5.31000e-04+0.j]))\n",
      "\n",
      "i=19\n",
      "(array([9.9959e-01, 2.0246e-02, 2.0246e-02, 4.1000e-04]), array([-9.9959e-01+0.j, -2.0246e-02+0.j, -2.0246e-02+0.j, -4.1000e-04+0.j]))\n",
      "(array([9.9959e-01, 2.0246e-02, 2.0246e-02, 4.1000e-04]), array([-9.9959e-01+0.j,  2.0246e-02+0.j, -2.0246e-02+0.j,  4.1000e-04+0.j]))\n",
      "(array([9.9959e-01, 2.0246e-02, 2.0246e-02, 4.1000e-04]), array([-9.9959e-01+0.j,  2.0246e-02+0.j, -2.0246e-02+0.j,  4.1000e-04+0.j]))\n",
      "(array([9.9959e-01, 2.0246e-02, 2.0246e-02, 4.1000e-04]), array([-9.9959e-01+0.j,  2.0246e-02+0.j,  2.0246e-02+0.j, -4.1000e-04+0.j]))\n",
      "\n",
      "i=20\n",
      "(array([9.99677e-01, 1.79620e-02, 1.79620e-02, 3.23000e-04]), array([-9.99677e-01+0.j, -1.79620e-02+0.j, -1.79620e-02+0.j,\n",
      "       -3.23000e-04+0.j]))\n",
      "(array([9.99677e-01, 1.79620e-02, 1.79620e-02, 3.23000e-04]), array([-9.99677e-01+0.j,  1.79620e-02+0.j, -1.79620e-02+0.j,\n",
      "        3.23000e-04+0.j]))\n",
      "(array([9.99677e-01, 1.79620e-02, 1.79620e-02, 3.23000e-04]), array([-9.99677e-01+0.j,  1.79620e-02+0.j, -1.79620e-02+0.j,\n",
      "        3.23000e-04+0.j]))\n",
      "(array([9.99677e-01, 1.79620e-02, 1.79620e-02, 3.23000e-04]), array([-9.99677e-01+0.j,  1.79620e-02+0.j,  1.79620e-02+0.j,\n",
      "       -3.23000e-04+0.j]))\n"
     ]
    }
   ],
   "source": [
    "for i, t in enumerate(singular_and_eigen_vectors_symmetric_data):\n",
    "    print(\"\\ni={}\".format(i))\n",
    "    \n",
    "    for j, l in enumerate(t):\n",
    "        print(l[2])"
   ]
  },
  {
   "cell_type": "markdown",
   "id": "178df548-b44c-41f3-b2a8-105a6f85a6b2",
   "metadata": {},
   "source": [
    "##### Conclusions\n",
    "* Now we see behaviour similar to the right projected states. So it seems we can swap between these two behaviours by including/excluding the schmidt terms Should treat both sides uniformly. Which scheme is better?"
   ]
  },
  {
   "cell_type": "markdown",
   "id": "90ac5b9b-7163-4eea-aed0-b245f0295f6a",
   "metadata": {},
   "source": [
    "#### Eigenvalues and eigenvectors of eigenvector"
   ]
  },
  {
   "cell_type": "code",
   "execution_count": 186,
   "id": "d61d7ba0-a0a8-4a41-a8d0-1781dfeec31d",
   "metadata": {},
   "outputs": [
    {
     "name": "stdout",
     "output_type": "stream",
     "text": [
      "\n",
      "i=0\n",
      "(array([1., 1.]), array([ 1.+0.j, -1.+0.j]))\n",
      "(array([0.876297, 0.206913]), array([0.371646+0.207839j, 0.371646-0.207839j]))\n",
      "(array([1.016542, 0.443017]), array([-0.445894+0.j,  1.009983+0.j]))\n",
      "(array([0.707136, 0.706415]), array([-0.706632+0.j,  0.706919+0.j]))\n",
      "\n",
      "i=1\n",
      "(array([], dtype=float64), array([], dtype=complex128))\n",
      "(array([1.37568]), array([0.657746-1.e-06j]))\n",
      "(array([0.867102]), array([0.706268-0.j]))\n",
      "(array([0.906891]), array([ 0.000589+8.e-05j, -0.000589-8.e-05j]))\n",
      "\n",
      "i=2\n",
      "(array([], dtype=float64), array([], dtype=complex128))\n",
      "(array([1.421103]), array([0.704459-1.e-06j]))\n",
      "(array([1.019288]), array([-0.432556+1.5e-05j]))\n",
      "(array([1.]), array([-0.001175-0.000174j,  0.001173+0.000175j]))\n",
      "\n",
      "i=3\n",
      "(array([0.000566]), array([], dtype=complex128))\n",
      "(array([0.444666]), array([ 0.080632-0.000194j, -0.000178+0.000184j]))\n",
      "(array([0.564675]), array([0.435556+1.e-06j]))\n",
      "(array([0.80074]), array([-0.003487-2.6e-05j,  0.003481+2.5e-05j]))\n",
      "\n",
      "i=4\n",
      "(array([0.002803]), array([], dtype=complex128))\n",
      "(array([1.565971e+00, 1.077900e-01, 2.424700e-02, 5.690000e-04,\n",
      "       3.960000e-04, 1.930000e-04]), array([ 7.07073e-01-6.2900e-02j, -2.42900e-02+3.9646e-02j,\n",
      "        2.79400e-02+3.1513e-02j,  3.98000e-04+1.8000e-05j,\n",
      "        1.19000e-04+2.3300e-04j, -1.96000e-04-2.2600e-04j,\n",
      "       -2.18000e-04+1.3000e-05j]))\n",
      "(array([1.342914e+00, 3.310000e-04, 1.050000e-04]), array([ 7.07036e-01-4.90e-05j, -9.70000e-05+1.79e-04j,\n",
      "        1.50000e-04+5.10e-05j]))\n",
      "(array([0.422564]), array([-0.000235+0.000697j,  0.000214-0.000689j]))\n",
      "\n",
      "i=5\n",
      "(array([1.005174]), array([0.707107+0.j]))\n",
      "(array([0.004226]), array([0.000657-1.e-06j]))\n",
      "(array([1.503991e+00, 3.870000e-04, 2.030000e-04]), array([7.07247e-01-9.50e-05j, 1.38000e-04+1.69e-04j]))\n",
      "(array([1.159624e+00, 6.992280e-01, 4.530900e-02, 4.833000e-03,\n",
      "       1.519000e-03, 1.180000e-04]), array([-1.21184e-01+1.58391e-01j,  1.47214e-01-1.47957e-01j,\n",
      "        7.11940e-02+1.00170e-02j,  3.08080e-02-1.94300e-03j,\n",
      "       -5.13000e-04-3.26000e-04j,  1.13000e-04-8.20000e-05j]))\n",
      "\n",
      "i=6\n",
      "(array([0.993978]), array([0.707107-0.j]))\n",
      "(array([0.698252]), array([8.5e-05-0.000746j, 8.5e-05+0.000745j]))\n",
      "(array([1.158775e+00, 1.993000e-03, 1.241000e-03, 8.290000e-04]), array([ 7.0779e-01-1.59e-04j,  1.6710e-03-1.51e-04j,\n",
      "       -5.7400e-04+3.41e-04j,  1.5600e-04+6.10e-05j]))\n",
      "(array([1.113675e+00, 6.525410e-01, 9.942000e-02, 3.203000e-03,\n",
      "       5.230000e-04, 3.280000e-04]), array([ 1.28065e-01-3.91342e-01j, -1.97800e-01+2.12497e-01j,\n",
      "        1.25650e-01+9.12860e-02j, -4.67100e-03-1.25400e-03j,\n",
      "       -3.18000e-04+4.00000e-05j,  1.50000e-04-3.32000e-04j]))\n",
      "\n",
      "i=7\n",
      "(array([0.99115]), array([0.707119-0.j]))\n",
      "(array([0.685589]), array([-0.000173-0.000409j,  0.000173+0.000409j]))\n",
      "(array([1.238308e+00, 3.977000e-03, 2.036000e-03, 8.020000e-04]), array([ 7.04917e-01+1.900e-05j,  8.15000e-04-1.222e-03j,\n",
      "        4.18000e-04+1.077e-03j, -1.31800e-03+1.110e-04j]))\n",
      "(array([7.34302e-01, 1.09626e-01, 3.37200e-03, 3.47000e-04]), array([ 0.147684-3.3975e-02j, -0.117959+5.8962e-02j,\n",
      "        0.004608-2.0000e-05j,  0.000236-3.2000e-04j]))\n",
      "\n",
      "i=8\n",
      "(array([0.987888]), array([0.707879+0.j]))\n",
      "(array([2.47168e-01, 1.43000e-04]), array([2.02e-04-0.005224j, 2.20e-05+0.00522j ]))\n",
      "(array([1.232695, 0.035778, 0.008084, 0.006149]), array([ 0.710096+0.008311j, -0.012397-0.016465j,  0.002322+0.010297j,\n",
      "        0.003284-0.002325j]))\n",
      "(array([9.51237e-01, 2.86108e-01, 2.52682e-01, 3.04370e-02, 2.00700e-03,\n",
      "       7.69000e-04]), array([-0.074942+3.19106e-01j, -0.073577-3.16055e-01j,\n",
      "       -0.02535 -2.16800e-02j, -0.006776+1.95890e-02j,\n",
      "        0.011246+7.50000e-05j, -0.001097-7.97000e-04j]))\n",
      "\n",
      "i=9\n",
      "(array([0.977426, 0.001724]), array([0.732763-0.001204j, 0.00097 +0.001221j]))\n",
      "(array([0.343889, 0.002151, 0.000921]), array([-0.019323-0.005056j,  0.004225+0.007195j,  0.000158-0.002057j]))\n",
      "(array([1.211375e+00, 5.727300e-02, 2.821200e-02, 1.568800e-02,\n",
      "       1.206000e-03, 2.300000e-04, 1.080000e-04]), array([ 7.37735e-01+9.071e-03j, -9.70000e-04-2.549e-02j,\n",
      "        1.99180e-02+2.520e-04j, -9.27600e-03+3.847e-03j,\n",
      "       -2.29100e-03-3.000e-03j, -8.90000e-05-2.340e-04j,\n",
      "       -6.20000e-05+8.500e-05j]))\n",
      "(array([0.203036, 0.118507, 0.014389, 0.007589, 0.001004, 0.000257]), array([ 1.03568e-01-0.000762j,  8.42900e-03-0.000227j,\n",
      "       -4.22600e-03+0.001835j,  2.00600e-03+0.001025j,\n",
      "       -7.69000e-04+0.000552j,  3.42000e-04-0.00054j ,\n",
      "        1.40000e-05+0.000177j]))\n",
      "\n",
      "i=10\n",
      "(array([9.96139e-01, 7.65930e-02, 3.38000e-04]), array([0.979108+3.5e-05j, 0.074212+5.0e-06j]))\n",
      "(array([9.96136e-01, 7.91170e-02, 6.29000e-04, 1.12000e-04]), array([ 9.79539e-01-0.0e+00j, -7.76220e-02-0.0e+00j,\n",
      "       -4.18000e-04-1.4e-05j, -1.08000e-04+1.0e-05j]))\n",
      "(array([9.92601e-01, 1.17907e-01, 1.50420e-02, 3.09500e-03, 6.19000e-04,\n",
      "       4.64000e-04]), array([ 9.23481e-01+2.000e-05j, -1.52530e-02+2.682e-03j,\n",
      "        1.29480e-02-3.196e-03j,  3.23900e-03+1.400e-03j,\n",
      "       -1.14000e-04-9.620e-04j, -3.41000e-04+8.270e-04j]))\n",
      "(array([9.91929e-01, 9.42650e-02, 9.43000e-03, 1.97500e-03, 1.36200e-03,\n",
      "       1.72000e-04]), array([ 9.2848e-01-1.400e-05j,  4.8390e-03-1.530e-03j,\n",
      "       -2.4820e-03+4.947e-03j, -3.1620e-03-3.515e-03j,\n",
      "       -4.2960e-03+4.910e-04j, -2.9900e-04+8.500e-05j]))\n",
      "\n",
      "i=11\n",
      "(array([9.9968e-01, 1.1953e-02, 7.8300e-04, 1.1000e-04]), array([ 9.90042e-01-0.j      , -1.21400e-03+0.001198j,\n",
      "       -1.90000e-04-0.001205j]))\n",
      "(array([9.97982e-01, 5.16720e-02, 1.99000e-04, 1.06000e-04]), array([9.90042e-01-0.0000e+00j, 2.63100e-02+2.3961e-02j,\n",
      "       1.00000e-04+4.3000e-05j]))\n",
      "(array([9.99521e-01, 1.45960e-02, 7.53000e-04, 2.09000e-04, 1.32000e-04]), array([ 9.90036e-01+0.00e+00j, -6.76300e-03+4.05e-03j,\n",
      "        3.13000e-04-6.41e-04j,  9.00000e-05+8.20e-05j,\n",
      "        1.00000e-05-1.11e-04j, -9.70000e-05-7.10e-05j]))\n",
      "(array([9.99105e-01, 5.47780e-02, 2.50000e-04]), array([ 9.90039e-01-0.0000e+00j,  1.04510e-02-3.6121e-02j,\n",
      "       -8.70000e-05+9.6000e-05j]))\n",
      "\n",
      "i=12\n",
      "(array([1.000769e+00, 2.828000e-03, 3.680000e-04]), array([9.94858e-01+0.j      , 1.26000e-04-0.000626j,\n",
      "       2.90000e-05+0.000606j]))\n",
      "(array([0.995479, 0.021549]), array([ 0.994858-0.j, -0.021548+0.j]))\n",
      "(array([1.000856e+00, 1.233500e-02, 1.872000e-03, 1.160000e-04]), array([ 9.90614e-01+0.j      ,  3.65500e-03+0.000118j,\n",
      "       -1.11200e-03-0.000279j, -9.30000e-05+0.000154j]))\n",
      "(array([1.003785e+00, 6.934000e-03, 3.040000e-04, 1.840000e-04,\n",
      "       1.410000e-04]), array([ 9.94857e-01-0.j      , -7.62000e-04-0.000346j,\n",
      "        6.85000e-04+0.000107j, -2.13000e-04+0.00016j ,\n",
      "        1.00000e-06-0.000116j]))\n",
      "\n",
      "i=13\n",
      "(array([9.99844e-01, 9.50000e-04]), array([9.96959e-01+0.j      , 2.15000e-04-0.000923j]))\n",
      "(array([1.000031e+00, 2.860000e-04]), array([0.996959+0.j]))\n",
      "(array([1.000062, 0.001232]), array([0.996959+0.j]))\n",
      "(array([9.97254e-01, 2.63000e-04]), array([ 9.96959e-01+0.j, -2.54000e-04+0.j]))\n",
      "\n",
      "i=14\n",
      "(array([9.99282e-01, 5.31000e-04]), array([ 9.98042e-01+0.j      , -2.77000e-04-0.000453j]))\n",
      "(array([9.99704e-01, 5.61000e-04]), array([0.998042+0.j]))\n",
      "(array([9.98232e-01, 1.63000e-04]), array([0.998042-0.j]))\n",
      "(array([1.001465e+00, 1.230000e-04]), array([0.99808-0.j]))\n",
      "\n",
      "i=15\n",
      "(array([0.999991]), array([0.998663-0.j]))\n",
      "(array([1.000013]), array([0.998663-0.j]))\n",
      "(array([1.000019e+00, 3.280000e-04]), array([9.98642e-01+0.j, 3.25000e-04+0.j]))\n",
      "(array([1.000402]), array([0.998663-0.j]))\n",
      "\n",
      "i=16\n",
      "(array([1.00002]), array([0.999048+0.j]))\n",
      "(array([1.000001]), array([0.999048-0.j]))\n",
      "(array([0.999883]), array([0.999048-0.j]))\n",
      "(array([0.999217]), array([0.999048-0.j]))\n",
      "\n",
      "i=17\n",
      "(array([1.000112]), array([0.999297+0.j]))\n",
      "(array([0.999864]), array([0.999298-0.j]))\n",
      "(array([1.000563]), array([0.999298+0.j]))\n",
      "(array([0.999831]), array([0.999298-0.j]))\n",
      "\n",
      "i=18\n",
      "(array([0.999653]), array([0.999469-0.j]))\n",
      "(array([1.000237]), array([0.999468+0.j]))\n",
      "(array([1.000094]), array([0.99947-1.e-06j]))\n",
      "(array([0.999684]), array([0.999469-0.j]))\n",
      "\n",
      "i=19\n",
      "(array([1.000078]), array([0.99959-0.j]))\n",
      "(array([0.99968]), array([0.99959-0.j]))\n",
      "(array([1.000031]), array([0.99959+1.e-06j]))\n",
      "(array([1.000056]), array([0.99959+0.j]))\n",
      "\n",
      "i=20\n",
      "(array([1.000154]), array([0.999677+0.j]))\n",
      "(array([0.999838]), array([0.999677+0.j]))\n",
      "(array([0.999919]), array([0.999677+0.j]))\n",
      "(array([1.000051]), array([0.999677-0.j]))\n"
     ]
    }
   ],
   "source": [
    "for i, t in enumerate(singular_and_eigen_vectors_symmetric_data):\n",
    "    print(\"\\ni={}\".format(i))\n",
    "    \n",
    "    for j, l in enumerate(t):\n",
    "        print(l[4])"
   ]
  },
  {
   "cell_type": "markdown",
   "id": "703d5017-3027-4135-a26a-efe7c43ca8ed",
   "metadata": {},
   "source": [
    "##### Conclusion\n",
    "* Getting some interesting results in the trivial phase, with a dominant singular and eigenvalue of 1. Not sure how to make sense of non-trivial phase."
   ]
  },
  {
   "cell_type": "markdown",
   "id": "ed5e5fc9-17f1-4f05-b4c2-f42e53e9bc49",
   "metadata": {},
   "source": [
    "## Unitary operator transfer matrices"
   ]
  },
  {
   "cell_type": "code",
   "execution_count": null,
   "id": "026e5984-2aee-4df3-b16f-4b42f40dfd9f",
   "metadata": {},
   "outputs": [],
   "source": []
  },
  {
   "cell_type": "markdown",
   "id": "8819a0f0-0b47-4fd0-baa1-786163184227",
   "metadata": {},
   "source": [
    "# Questions\n",
    "* How do the Schmidt values interact with the eigenvalues of the transfer matrices? Do they correspond 1-1 to eigenvalues or something else? How do they affect the dominant eigenvalue etc?"
   ]
  }
 ],
 "metadata": {
  "kernelspec": {
   "display_name": "num_spt_venv_p11",
   "language": "python",
   "name": "num_spt_venv_p11"
  },
  "language_info": {
   "codemirror_mode": {
    "name": "ipython",
    "version": 3
   },
   "file_extension": ".py",
   "mimetype": "text/x-python",
   "name": "python",
   "nbconvert_exporter": "python",
   "pygments_lexer": "ipython3",
   "version": "3.11.9"
  }
 },
 "nbformat": 4,
 "nbformat_minor": 5
}
