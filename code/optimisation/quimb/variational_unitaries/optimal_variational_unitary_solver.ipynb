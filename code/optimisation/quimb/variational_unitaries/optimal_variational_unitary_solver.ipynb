{
 "cells": [
  {
   "cell_type": "markdown",
   "id": "6a2dac7f-2bbc-4993-8a37-4dc5bd7c4f33",
   "metadata": {},
   "source": [
    "# Optimal variational unitary solver\n",
    "Created 16/09/2025\n",
    "\n",
    "Objectives:\n",
    "* Based off [previous notebook](quimb_first_variational_unitary_solver.ipynb), explore possible solvers and see if there's one that gives a clear advantage.\n",
    "* May need to explore hyperparamters too.\n",
    "* Compare gradient methods vs non-gradient methods.\n",
    "* Work off of \"hardest case\", i.e. $b=0.9$.\n",
    "    * Figure out required depth."
   ]
  },
  {
   "cell_type": "markdown",
   "id": "725eaa22-d2a4-40d8-9a97-ad5bd49becb7",
   "metadata": {},
   "source": [
    "# Package imports"
   ]
  },
  {
   "cell_type": "code",
   "execution_count": 1,
   "id": "ecb41ea3-927f-4efa-aebe-ce15784aa037",
   "metadata": {},
   "outputs": [],
   "source": [
    "import sys"
   ]
  },
  {
   "cell_type": "code",
   "execution_count": 2,
   "id": "0375bd38-12e1-417a-908a-13fb540081f5",
   "metadata": {},
   "outputs": [],
   "source": [
    "sys.path.append(\"../../../\")"
   ]
  },
  {
   "cell_type": "code",
   "execution_count": 3,
   "id": "0cf49837-01b6-431a-b570-d7ed25903239",
   "metadata": {},
   "outputs": [],
   "source": [
    "from itertools import chain\n",
    "import re"
   ]
  },
  {
   "cell_type": "code",
   "execution_count": 4,
   "id": "f59344b7-d34e-47e4-99be-f5a2687f8176",
   "metadata": {},
   "outputs": [],
   "source": [
    "import h5py\n",
    "from tenpy.tools import hdf5_io\n",
    "import tenpy\n",
    "import tenpy.linalg.np_conserved as npc\n",
    "\n",
    "import os\n",
    "import pickle"
   ]
  },
  {
   "cell_type": "code",
   "execution_count": 5,
   "id": "19404619-d778-4cc3-8ee1-1db6f14b2043",
   "metadata": {},
   "outputs": [],
   "source": [
    "import numpy as np\n",
    "import jax.numpy as jnp\n",
    "\n",
    "import matplotlib.pyplot as plt"
   ]
  },
  {
   "cell_type": "code",
   "execution_count": 6,
   "id": "92eeb066-5463-4237-ad07-3c5a0d934f4f",
   "metadata": {},
   "outputs": [
    {
     "name": "stderr",
     "output_type": "stream",
     "text": [
      "/Users/kierancooney/.pyenv/versions/num_spt_venv_p11/lib/python3.11/site-packages/cotengra/hyperoptimizers/hyper.py:54: UserWarning: Couldn't find `optuna`, `cmaes`, or `nevergrad` so will use completely random sampling in place of hyper-optimization.\n",
      "  warnings.warn(\n",
      "/Users/kierancooney/.pyenv/versions/num_spt_venv_p11/lib/python3.11/site-packages/cotengra/hyperoptimizers/hyper.py:36: UserWarning: Couldn't import `kahypar` - skipping from default hyper optimizer and using basic `labels` method instead.\n",
      "  warnings.warn(\n",
      "/Users/kierancooney/.pyenv/versions/num_spt_venv_p11/lib/python3.11/site-packages/cotengra/hyperoptimizers/hyper.py:73: UserWarning: Couldn't find `optuna`, `cmaes`, or `nevergrad` so will use completely random sampling in place of hyper-optimization.\n",
      "  warnings.warn(\n"
     ]
    }
   ],
   "source": [
    "import quimb as qu\n",
    "import quimb.tensor as qtn\n",
    "from quimb.tensor.optimize import TNOptimizer"
   ]
  },
  {
   "cell_type": "markdown",
   "id": "71c44d61-9279-4312-9ba8-6f07fe68bf65",
   "metadata": {},
   "source": [
    "# Load data"
   ]
  },
  {
   "cell_type": "code",
   "execution_count": 7,
   "id": "c196fe74-d78a-4205-a41a-acfa510831d1",
   "metadata": {},
   "outputs": [],
   "source": [
    "DATA_DIR = r\"../../../data/transverse_cluster_200_site_dmrg\""
   ]
  },
  {
   "cell_type": "code",
   "execution_count": 8,
   "id": "e1a89621-91df-4f40-adef-f16acbdea3e9",
   "metadata": {},
   "outputs": [],
   "source": [
    "loaded_data = list()\n",
    "\n",
    "for local_file_name in os.listdir(DATA_DIR):\n",
    "    f_name = r\"{}/{}\".format(DATA_DIR, local_file_name, ignore_unknown=False)\n",
    "    with h5py.File(f_name, 'r') as f:\n",
    "        data = hdf5_io.load_from_hdf5(f)\n",
    "        loaded_data.append(data)"
   ]
  },
  {
   "cell_type": "code",
   "execution_count": 9,
   "id": "b805dcff-dfda-4ca4-ba53-c6a3d6822dd4",
   "metadata": {},
   "outputs": [],
   "source": [
    "b_parameters = sorted(list(d['paramters']['B'] for d in loaded_data))"
   ]
  },
  {
   "cell_type": "code",
   "execution_count": 10,
   "id": "827a26d6-a667-4828-bf55-db731e15d89d",
   "metadata": {},
   "outputs": [],
   "source": [
    "psi_dict = dict()"
   ]
  },
  {
   "cell_type": "code",
   "execution_count": 11,
   "id": "e0e8c819-03d8-4a47-b853-365d65364ac7",
   "metadata": {},
   "outputs": [],
   "source": [
    "for b in b_parameters:\n",
    "    psi = next(\n",
    "        d['wavefunction']\n",
    "        for d in loaded_data\n",
    "        if d['paramters']['B'] == b\n",
    "    )\n",
    "\n",
    "    rounded_b = round(b, 1)\n",
    "    psi_dict[rounded_b] = psi"
   ]
  },
  {
   "cell_type": "code",
   "execution_count": 16,
   "id": "9d4f75c1-ceb4-493c-a3c7-83b4da6d5aaa",
   "metadata": {},
   "outputs": [],
   "source": [
    "psi = psi_dict[0.9]"
   ]
  },
  {
   "cell_type": "markdown",
   "id": "c63383d4-bbde-443a-92a9-97b613c0d54b",
   "metadata": {},
   "source": [
    "# Definitions"
   ]
  },
  {
   "cell_type": "code",
   "execution_count": 12,
   "id": "6e3a806a-6e88-4073-8cb4-a46345cdb810",
   "metadata": {},
   "outputs": [],
   "source": [
    "np_I = np.array([[1,0],[0,1]])\n",
    "np_X = np.array([[0,1],[1,0]])"
   ]
  },
  {
   "cell_type": "code",
   "execution_count": 13,
   "id": "ddc01bac-517f-4922-9df0-28b400f70a3e",
   "metadata": {},
   "outputs": [],
   "source": [
    "symmetry_actions = [\n",
    "    [np_I, np_I],\n",
    "    [np_I, np_X],\n",
    "    [np_X, np_I],\n",
    "    [np_X, np_X]\n",
    "]"
   ]
  },
  {
   "cell_type": "code",
   "execution_count": 14,
   "id": "10721838-5776-4da8-9618-01dd30494f13",
   "metadata": {},
   "outputs": [],
   "source": [
    "symmetry_labels = [\n",
    "    'II',\n",
    "    'IX',\n",
    "    'XI',\n",
    "    'XX'\n",
    "]"
   ]
  },
  {
   "cell_type": "code",
   "execution_count": 15,
   "id": "608e2be7-7003-4d86-8bdc-bb7519c6c30c",
   "metadata": {},
   "outputs": [],
   "source": [
    "def generate_problem_rdm(quimb_psi, symmetry_site_pairs, leftmost_symmetry_site,\n",
    "                         num_symmetry_sites, num_boundary_sites):\n",
    "    q_top = quimb_psi.copy(deep=True)\n",
    "    for i, s in symmetry_site_pairs:\n",
    "        q_top.gate(\n",
    "            s,\n",
    "            where=i,\n",
    "            contract=False,\n",
    "            inplace=True\n",
    "        )\n",
    "\n",
    "    \n",
    "    indices_to_map = list(chain(\n",
    "        range(leftmost_symmetry_site-num_boundary_sites, leftmost_symmetry_site),\n",
    "        range(leftmost_symmetry_site+num_symmetry_sites, leftmost_symmetry_site+num_symmetry_sites+num_boundary_sites)\n",
    "    ))\n",
    "\n",
    "    index_mapping = {f'k{i}': f'b{i}' for i in indices_to_map}\n",
    "\n",
    "    q_bottom = (\n",
    "        quimb_psi\n",
    "        .copy()\n",
    "        .reindex(index_mapping, inplace=True)\n",
    "        .conj()\n",
    "    )\n",
    "\n",
    "    sites_to_contract = {\n",
    "        'left': list(range(leftmost_symmetry_site-num_boundary_sites)),\n",
    "        'middle': list(range(leftmost_symmetry_site, leftmost_symmetry_site+num_symmetry_sites)),\n",
    "        'right': list(range(leftmost_symmetry_site+num_symmetry_sites+num_boundary_sites, quimb_psi.L))\n",
    "    }\n",
    "\n",
    "    tags_to_contract = {\n",
    "        k: [f'I{i}' for i in v]\n",
    "        for k, v in sites_to_contract.items()\n",
    "    }\n",
    "\n",
    "    tn = (q_top & q_bottom)\n",
    "\n",
    "    tnc = (\n",
    "        tn\n",
    "        .contract(tags_to_contract['left'])\n",
    "        .contract(tags_to_contract['middle'])\n",
    "        .contract(tags_to_contract['right'])\n",
    "    )\n",
    "\n",
    "    return tnc"
   ]
  },
  {
   "cell_type": "markdown",
   "id": "56525c31-f37b-4245-b2ec-82185feed908",
   "metadata": {},
   "source": [
    "## Optimisation functions"
   ]
  },
  {
   "cell_type": "code",
   "execution_count": 33,
   "id": "636e19bb-bf5a-4222-b655-736dcf37a4e8",
   "metadata": {},
   "outputs": [],
   "source": [
    "def loss(circ_pair, problem_rdm):\n",
    "    c = (problem_rdm & circ_pair)^...\n",
    "\n",
    "    c_abs_squared = (\n",
    "        c\n",
    "        *jnp.conjugate(c)\n",
    "    )\n",
    "    c_abs_squared = jnp.real(c_abs_squared)\n",
    "\n",
    "    out = 1-c_abs_squared\n",
    "\n",
    "    return out"
   ]
  },
  {
   "cell_type": "markdown",
   "id": "3cd09702-7733-4316-bde1-746c6866a509",
   "metadata": {},
   "source": [
    "## Gate functions"
   ]
  },
  {
   "cell_type": "code",
   "execution_count": 18,
   "id": "8698c005-aed2-47bb-9822-53c8a1147b90",
   "metadata": {},
   "outputs": [],
   "source": [
    "def single_qubit_layer(circ, gate_round=None):\n",
    "    \"\"\"Apply a parametrizable layer of single qubit ``U3`` gates.\n",
    "    \"\"\"\n",
    "    for i in range(circ.N):\n",
    "        # initialize with random parameters\n",
    "        params = qu.randn(3, dist='uniform')\n",
    "        circ.apply_gate(\n",
    "            'U3',\n",
    "            *params,\n",
    "            i,\n",
    "            gate_round=gate_round,\n",
    "            parametrize=True\n",
    "        )"
   ]
  },
  {
   "cell_type": "code",
   "execution_count": 19,
   "id": "ff171d0e-3098-4c9a-92ae-004bb2ded616",
   "metadata": {},
   "outputs": [],
   "source": [
    "def two_qubit_layer(circ, gate2='CZ', start=0, gate_round=None):\n",
    "    \"\"\"Apply a layer of constant entangling gates.\n",
    "    \"\"\"\n",
    "    num_sites = circ.N # Assuming this is even\n",
    "    sites = [\n",
    "        i % num_sites\n",
    "        for i in range(start, start + num_sites)\n",
    "    ]\n",
    "    \n",
    "    site_pairs = list(zip(sites[::2], sites[1::2]))\n",
    "\n",
    "    for i, j in site_pairs:\n",
    "        circ.apply_gate(\n",
    "            gate2,\n",
    "            i,\n",
    "            j,\n",
    "            gate_round=gate_round\n",
    "        )"
   ]
  },
  {
   "cell_type": "code",
   "execution_count": 20,
   "id": "1f7f3dad-adf6-43cf-b57f-51c38330401e",
   "metadata": {},
   "outputs": [],
   "source": [
    "def ansatz_circuit(n, depth, first_site=0, gate2='CZ', **kwargs):\n",
    "    \"\"\"Construct a circuit of single qubit and entangling layers.\n",
    "    \"\"\"\n",
    "    circ = qtn.Circuit(n, **kwargs)\n",
    "\n",
    "    for r in range(depth):\n",
    "        # single qubit gate layer\n",
    "        single_qubit_layer(circ, gate_round=r)\n",
    "\n",
    "        # alternate between forward and backward CZ layers\n",
    "        two_qubit_layer(\n",
    "            circ, gate2=gate2, gate_round=r, start=r % 2)\n",
    "\n",
    "    # add a final single qubit layer\n",
    "    single_qubit_layer(circ, gate_round=r + 1)\n",
    "\n",
    "    circ = circ.uni\n",
    "    \n",
    "    if first_site != 0:\n",
    "        index_labels = ['k', 'b']\n",
    "\n",
    "        index_map = {\n",
    "            f'{l}{i}': f'{l}{i+first_site}'\n",
    "            for i in range(n)\n",
    "            for l in index_labels\n",
    "        }\n",
    "\n",
    "        circ.reindex(index_map, inplace=True)\n",
    "\n",
    "    return circ"
   ]
  },
  {
   "cell_type": "code",
   "execution_count": 21,
   "id": "84687474-a561-4d60-b4ad-62c2bd89dbb3",
   "metadata": {},
   "outputs": [],
   "source": [
    "def ansatz_circuit_pair(leftmost_symmetry_site,\n",
    "    num_symmetry_sites, num_boundary_sites, depth,\n",
    "    gate2='CZ', **kwargs):\n",
    "    \"\"\"Construct a circuit of single qubit and entangling layers.\n",
    "    \"\"\"\n",
    "    left_start_site = leftmost_symmetry_site-num_boundary_sites\n",
    "    right_start_site = leftmost_symmetry_site+num_symmetry_sites\n",
    "\n",
    "    left_circuit = ansatz_circuit(\n",
    "        num_boundary_sites,\n",
    "        depth,\n",
    "        first_site=left_start_site,\n",
    "        gate2=gate2,\n",
    "        **kwargs\n",
    "    )\n",
    "\n",
    "    right_circuit = ansatz_circuit(\n",
    "        num_boundary_sites,\n",
    "        depth,\n",
    "        first_site=right_start_site,\n",
    "        gate2=gate2,\n",
    "        **kwargs\n",
    "    )\n",
    "\n",
    "    circ_pair = (left_circuit & right_circuit)\n",
    "\n",
    "    return circ_pair"
   ]
  },
  {
   "cell_type": "markdown",
   "id": "a6a4e2e7-fffc-4820-aff7-16904ea858fc",
   "metadata": {},
   "source": [
    "# Initialize problem rdm"
   ]
  },
  {
   "cell_type": "code",
   "execution_count": 22,
   "id": "f211636f-46ba-4397-9673-2da5cbd07650",
   "metadata": {},
   "outputs": [],
   "source": [
    "num_boundary_sites=2\n",
    "left_most_symmetry_site=60\n",
    "num_symmetry_sites=80\n",
    "\n",
    "total_physical_dim = 2**num_boundary_sites"
   ]
  },
  {
   "cell_type": "code",
   "execution_count": 24,
   "id": "69c7483e-c533-4845-8eb6-ef5461273191",
   "metadata": {},
   "outputs": [],
   "source": [
    "mps_psi = psi"
   ]
  },
  {
   "cell_type": "code",
   "execution_count": 25,
   "id": "a7748c19-2acd-4420-8dd8-205ae05ad64b",
   "metadata": {},
   "outputs": [],
   "source": [
    "psi_arrays = list()\n",
    "psi_arrays.append(mps_psi.get_B(0, 'Th')[0, ...].to_ndarray())\n",
    "for i in range(1, mps_psi.L-1):\n",
    "    psi_arrays.append(mps_psi.get_B(i).to_ndarray())\n",
    "psi_arrays.append(mps_psi.get_B(mps_psi.L-1)[..., 0].to_ndarray())\n",
    "\n",
    "q1 = (\n",
    "    qtn\n",
    "    .tensor_1d\n",
    "    .MatrixProductState(psi_arrays, shape='lpr')\n",
    ")"
   ]
  },
  {
   "cell_type": "markdown",
   "id": "f7d7b78f-abb3-45e5-8980-1acba4ea5334",
   "metadata": {},
   "source": [
    "Pick this symmetry action for example."
   ]
  },
  {
   "cell_type": "code",
   "execution_count": 26,
   "id": "ab0e1a95-8109-4341-bac7-992093a25cfb",
   "metadata": {},
   "outputs": [],
   "source": [
    "k2 = 1\n",
    "bs = symmetry_actions[1]"
   ]
  },
  {
   "cell_type": "code",
   "execution_count": 27,
   "id": "53f70cec-d5d9-4312-ad09-fd3eab0321cc",
   "metadata": {},
   "outputs": [],
   "source": [
    "symmetry_site_pairs = (\n",
    "    [(i, bs[0]) for i in range(left_most_symmetry_site, left_most_symmetry_site+num_symmetry_sites, 2)]\n",
    "    + [(i, bs[1]) for i in range(left_most_symmetry_site+1, left_most_symmetry_site+num_symmetry_sites+1, 2)]\n",
    ")\n",
    "\n",
    "problem_rdm = generate_problem_rdm(\n",
    "    q1,\n",
    "    symmetry_site_pairs,\n",
    "    left_most_symmetry_site,\n",
    "    num_symmetry_sites,\n",
    "    num_boundary_sites\n",
    ")"
   ]
  },
  {
   "cell_type": "markdown",
   "id": "c6b3142e-91d1-4d19-a832-4045054f2cf8",
   "metadata": {},
   "source": [
    "# Find gate depth\n",
    "Iterate over gate depth using a simple L-BFGS-B (gradient) solver."
   ]
  },
  {
   "cell_type": "code",
   "execution_count": 28,
   "id": "60446821-3e27-4d72-b768-4f0872b99a9f",
   "metadata": {},
   "outputs": [],
   "source": [
    "gate_depths = list(range(1, 6))"
   ]
  },
  {
   "cell_type": "code",
   "execution_count": 29,
   "id": "a4a4e8fd-e39f-42d7-9017-25afb0044625",
   "metadata": {},
   "outputs": [],
   "source": [
    "n = 2\n",
    "gate2 = 'CZ'"
   ]
  },
  {
   "cell_type": "code",
   "execution_count": 37,
   "id": "18b53c2c-3289-42a1-9f21-256e26a8dd8c",
   "metadata": {},
   "outputs": [],
   "source": [
    "num_iterations_per_depth = 10"
   ]
  },
  {
   "cell_type": "code",
   "execution_count": 38,
   "id": "a92a9060-81c9-4d29-ae55-f1095a3d0117",
   "metadata": {},
   "outputs": [
    {
     "name": "stderr",
     "output_type": "stream",
     "text": [
      "/Users/kierancooney/.pyenv/versions/num_spt_venv_p11/lib/python3.11/site-packages/quimb/tensor/circuit.py:2587: FutureWarning: In future the tensor network returned by ``circ.uni`` will not be transposed as it is currently, to match the expectation from ``U = circ.uni.to_dense()`` behaving like ``U @ psi``. You can retain this behaviour with ``circ.get_uni(transposed=True)``.\n",
      "  warnings.warn(\n"
     ]
    },
    {
     "name": "stdout",
     "output_type": "stream",
     "text": [
      "1\n"
     ]
    },
    {
     "name": "stderr",
     "output_type": "stream",
     "text": [
      "  0%|                                                                                                                 | 0/5000 [00:00<?, ?it/s]/Users/kierancooney/.pyenv/versions/num_spt_venv_p11/lib/python3.11/site-packages/quimb/tensor/optimize.py:135: UserWarning: dtype mismatch between input parameter and updated values. This can occur e.g. with jax and double precision arrays (in which case consider setting `jax.config.update(\"jax_enable_x64\", True)` at startup or using single precision parameters directly). For now casting from float32 to float64.\n",
      "  warnings.warn(\n",
      "+0.815849065781 [best: +0.815849065781] :   2%|█▏                                                           | 97/5000 [00:00<00:39, 122.64it/s]\n",
      "+0.818654298782 [best: +0.818654298782] :   1%|▍                                                            | 36/5000 [00:00<00:44, 112.33it/s]\n",
      "+0.855100989342 [best: +0.855100989342] :   1%|▊                                                            | 66/5000 [00:00<00:26, 185.96it/s]\n",
      "+0.857028961182 [best: +0.857028961182] :   1%|▋                                                            | 60/5000 [00:00<00:27, 180.78it/s]\n",
      "+0.815865874290 [best: +0.815865874290] :   2%|█                                                            | 88/5000 [00:00<00:24, 199.89it/s]\n",
      "+0.815807282925 [best: +0.815807282925] :   2%|█▎                                                          | 114/5000 [00:00<00:17, 283.04it/s]\n",
      "+0.815865933895 [best: +0.815865933895] :   2%|▉                                                            | 79/5000 [00:00<00:23, 211.00it/s]\n",
      "+0.815901041031 [best: +0.815901041031] :   2%|█                                                            | 85/5000 [00:00<00:22, 223.23it/s]\n",
      "+0.855077564716 [best: +0.855077564716] :   1%|▊                                                            | 66/5000 [00:00<00:25, 195.41it/s]\n",
      "+0.815865755081 [best: +0.815865755081] :   2%|█▏                                                           | 94/5000 [00:00<00:29, 168.24it/s]\n"
     ]
    },
    {
     "name": "stdout",
     "output_type": "stream",
     "text": [
      "2\n"
     ]
    },
    {
     "name": "stderr",
     "output_type": "stream",
     "text": [
      "+0.551293015480 [best: +0.551293015480] :   1%|▌                                                            | 49/5000 [00:00<00:43, 113.71it/s]\n",
      "+0.551290988922 [best: +0.551290988922] :   1%|▉                                                            | 72/5000 [00:00<00:30, 162.74it/s]\n",
      "+0.551293849945 [best: +0.551293849945] :   1%|▌                                                            | 49/5000 [00:00<00:42, 116.81it/s]\n",
      "+0.551290571690 [best: +0.551290571690] :   2%|▉                                                            | 77/5000 [00:00<00:28, 171.25it/s]\n",
      "+0.551290988922 [best: +0.551290988922] :   1%|▊                                                            | 69/5000 [00:00<00:32, 151.27it/s]\n",
      "+0.551291108131 [best: +0.551290988922] :   1%|▊                                                            | 69/5000 [00:00<00:41, 117.62it/s]\n",
      "+0.551286101341 [best: +0.551286101341] :   1%|▋                                                            | 60/5000 [00:00<00:36, 134.62it/s]\n",
      "+0.551293015480 [best: +0.551293015480] :   2%|▉                                                            | 77/5000 [00:00<00:28, 170.96it/s]\n",
      "+0.551293373108 [best: +0.551293373108] :   1%|▊                                                            | 63/5000 [00:00<00:39, 125.81it/s]\n",
      "+0.551291942596 [best: +0.551291942596] :   1%|▍                                                             | 40/5000 [00:00<00:52, 94.04it/s]\n"
     ]
    },
    {
     "name": "stdout",
     "output_type": "stream",
     "text": [
      "3\n"
     ]
    },
    {
     "name": "stderr",
     "output_type": "stream",
     "text": [
      "+0.551266074181 [best: +0.551266074181] :   1%|▌                                                             | 44/5000 [00:00<01:03, 77.87it/s]\n",
      "+0.551264584064 [best: +0.551264584064] :   1%|▉                                                             | 72/5000 [00:00<00:53, 92.09it/s]\n",
      "+0.551292657852 [best: +0.551292657852] :   1%|▋                                                            | 61/5000 [00:00<00:44, 111.29it/s]\n",
      "+0.551293134689 [best: +0.551293134689] :   1%|▌                                                             | 43/5000 [00:00<01:00, 81.94it/s]\n",
      "+0.551290869713 [best: +0.551290869713] :   2%|█▏                                                          | 100/5000 [00:00<00:29, 168.28it/s]\n",
      "+0.551237821579 [best: +0.551237821579] :   1%|▋                                                            | 55/5000 [00:00<00:49, 100.06it/s]\n",
      "+0.551247954369 [best: +0.551247954369] :   1%|▌                                                             | 50/5000 [00:00<01:09, 70.72it/s]\n",
      "+0.551235318184 [best: +0.551235318184] :   2%|█                                                            | 86/5000 [00:00<00:33, 147.89it/s]\n",
      "+0.551293075085 [best: +0.551293075085] :   1%|▊                                                             | 61/5000 [00:00<00:52, 93.21it/s]\n",
      "+0.551236450672 [best: +0.551236450672] :   1%|▌                                                             | 45/5000 [00:00<01:01, 80.69it/s]\n"
     ]
    },
    {
     "name": "stdout",
     "output_type": "stream",
     "text": [
      "4\n"
     ]
    },
    {
     "name": "stderr",
     "output_type": "stream",
     "text": [
      "+0.551287770271 [best: +0.551287770271] :   1%|▊                                                             | 62/5000 [00:00<01:10, 70.33it/s]\n",
      "+0.551243603230 [best: +0.551243603230] :   1%|▋                                                             | 59/5000 [00:00<00:56, 86.84it/s]\n",
      "+0.551272034645 [best: +0.551272034645] :   1%|▋                                                             | 51/5000 [00:00<01:02, 78.66it/s]\n",
      "+0.551294565201 [best: +0.551294565201] :   1%|▋                                                             | 56/5000 [00:00<01:00, 81.92it/s]\n",
      "+0.551276326180 [best: +0.551276326180] :   2%|█▏                                                           | 93/5000 [00:00<00:42, 115.52it/s]\n",
      "+0.551289081573 [best: +0.551289081573] :   1%|▌                                                             | 41/5000 [00:00<01:44, 47.57it/s]\n",
      "+0.551236629486 [best: +0.551236629486] :   2%|▉                                                             | 79/5000 [00:01<01:03, 78.09it/s]\n",
      "+0.551292657852 [best: +0.551292657852] :   1%|▋                                                             | 58/5000 [00:01<01:40, 49.41it/s]\n",
      "+0.551254034042 [best: +0.551254034042] :   1%|▋                                                             | 59/5000 [00:00<00:58, 84.31it/s]\n",
      "+0.551285564899 [best: +0.551285564899] :   1%|▊                                                             | 65/5000 [00:00<00:53, 91.64it/s]\n"
     ]
    },
    {
     "name": "stdout",
     "output_type": "stream",
     "text": [
      "5\n"
     ]
    },
    {
     "name": "stderr",
     "output_type": "stream",
     "text": [
      "+0.551239728928 [best: +0.551239728928] :   2%|█▎                                                          | 114/5000 [00:00<00:37, 131.84it/s]\n",
      "+0.551243305206 [best: +0.551243305206] :   2%|█                                                             | 87/5000 [00:00<00:56, 87.73it/s]\n",
      "+0.551279306412 [best: +0.551279306412] :   2%|▉                                                             | 76/5000 [00:00<00:59, 83.15it/s]\n",
      "+0.551269173622 [best: +0.551269173622] :   2%|▉                                                             | 80/5000 [00:00<01:01, 80.45it/s]\n",
      "+0.551252722740 [best: +0.551252722740] :   1%|▋                                                             | 56/5000 [00:01<01:36, 51.33it/s]\n",
      "+0.551234602928 [best: +0.551234602928] :   2%|▉                                                             | 80/5000 [00:00<00:58, 83.63it/s]\n",
      "+0.551242709160 [best: +0.551242709160] :   1%|▋                                                             | 57/5000 [00:00<01:07, 72.99it/s]\n",
      "+0.551256060600 [best: +0.551256060600] :   1%|▊                                                             | 66/5000 [00:00<01:10, 70.05it/s]\n",
      "+0.551234424114 [best: +0.551234424114] :   1%|▉                                                             | 74/5000 [00:00<00:57, 86.39it/s]\n",
      "+0.551235795021 [best: +0.551235795021] :   2%|▉                                                             | 79/5000 [00:00<00:50, 97.80it/s]\n"
     ]
    }
   ],
   "source": [
    "scores = list()\n",
    "\n",
    "for depth in gate_depths:\n",
    "    print(depth)\n",
    "    scores.append(list())\n",
    "\n",
    "    for _ in range(num_iterations_per_depth):\n",
    "        circ_pair = ansatz_circuit_pair(\n",
    "            left_most_symmetry_site,\n",
    "            num_symmetry_sites,\n",
    "            num_boundary_sites,\n",
    "            depth\n",
    "        )\n",
    "        \n",
    "        tnopt = qtn.TNOptimizer(\n",
    "            circ_pair,                        # the tensor network we want to optimize\n",
    "            loss,                     # the function we want to minimize\n",
    "            loss_constants={'problem_rdm': problem_rdm},  # supply U to the loss function as a constant TN\n",
    "            tags=['U3'],              # only optimize U3 tensors\n",
    "            #autodiff_backend='jax',   # use 'autograd' for non-compiled optimization\n",
    "            optimizer='L-BFGS-B',     # the optimization algorithm\n",
    "        )\n",
    "        \n",
    "        circ_opt = tnopt.optimize(\n",
    "            n=5000,\n",
    "            jac=True,\n",
    "            hessp=False\n",
    "        )\n",
    "\n",
    "        scores[-1].append(tnopt.losses)"
   ]
  },
  {
   "cell_type": "code",
   "execution_count": 41,
   "id": "722c4981-6948-4d2d-90d9-6f1cbff7fec1",
   "metadata": {},
   "outputs": [],
   "source": [
    "scores_array = np.array([[np.min(X) for X in l]for l in scores])"
   ]
  },
  {
   "cell_type": "code",
   "execution_count": 43,
   "id": "c0cdab8a-e1ad-4f33-aeb5-0f843c743dd3",
   "metadata": {},
   "outputs": [
    {
     "data": {
      "text/plain": [
       "array([[0.82, 0.82, 0.86, 0.86, 0.82, 0.82, 0.82, 0.82, 0.86, 0.82],\n",
       "       [0.55, 0.55, 0.55, 0.55, 0.55, 0.55, 0.55, 0.55, 0.55, 0.55],\n",
       "       [0.55, 0.55, 0.55, 0.55, 0.55, 0.55, 0.55, 0.55, 0.55, 0.55],\n",
       "       [0.55, 0.55, 0.55, 0.55, 0.55, 0.55, 0.55, 0.55, 0.55, 0.55],\n",
       "       [0.55, 0.55, 0.55, 0.55, 0.55, 0.55, 0.55, 0.55, 0.55, 0.55]])"
      ]
     },
     "execution_count": 43,
     "metadata": {},
     "output_type": "execute_result"
    }
   ],
   "source": [
    "np.round(scores_array, 2)"
   ]
  },
  {
   "cell_type": "code",
   "execution_count": 45,
   "id": "5af45e57-9d5a-43a5-9885-a689ab01781c",
   "metadata": {},
   "outputs": [
    {
     "data": {
      "text/plain": [
       "array([[0.43, 0.43, 0.38, 0.38, 0.43, 0.43, 0.43, 0.43, 0.38, 0.43],\n",
       "       [0.67, 0.67, 0.67, 0.67, 0.67, 0.67, 0.67, 0.67, 0.67, 0.67],\n",
       "       [0.67, 0.67, 0.67, 0.67, 0.67, 0.67, 0.67, 0.67, 0.67, 0.67],\n",
       "       [0.67, 0.67, 0.67, 0.67, 0.67, 0.67, 0.67, 0.67, 0.67, 0.67],\n",
       "       [0.67, 0.67, 0.67, 0.67, 0.67, 0.67, 0.67, 0.67, 0.67, 0.67]])"
      ]
     },
     "execution_count": 45,
     "metadata": {},
     "output_type": "execute_result"
    }
   ],
   "source": [
    "np.round(np.sqrt(1-scores_array), 2)"
   ]
  },
  {
   "cell_type": "markdown",
   "id": "b39a8419-043c-405c-91be-c0c7cdfffd78",
   "metadata": {},
   "source": [
    "Did we hit a bottleneck? Scores look worse than for MPO/SVD solutions. Try basinhopping."
   ]
  },
  {
   "cell_type": "code",
   "execution_count": 46,
   "id": "39d139ca-6e73-4aae-82c6-33083b6d4a3c",
   "metadata": {},
   "outputs": [
    {
     "name": "stderr",
     "output_type": "stream",
     "text": [
      "/Users/kierancooney/.pyenv/versions/num_spt_venv_p11/lib/python3.11/site-packages/quimb/tensor/circuit.py:2587: FutureWarning: In future the tensor network returned by ``circ.uni`` will not be transposed as it is currently, to match the expectation from ``U = circ.uni.to_dense()`` behaving like ``U @ psi``. You can retain this behaviour with ``circ.get_uni(transposed=True)``.\n",
      "  warnings.warn(\n"
     ]
    },
    {
     "name": "stdout",
     "output_type": "stream",
     "text": [
      "1\n"
     ]
    },
    {
     "name": "stderr",
     "output_type": "stream",
     "text": [
      "  0%|                                                                                                                 | 0/5000 [00:00<?, ?it/s]/Users/kierancooney/.pyenv/versions/num_spt_venv_p11/lib/python3.11/site-packages/quimb/tensor/optimize.py:135: UserWarning: dtype mismatch between input parameter and updated values. This can occur e.g. with jax and double precision arrays (in which case consider setting `jax.config.update(\"jax_enable_x64\", True)` at startup or using single precision parameters directly). For now casting from float32 to float64.\n",
      "  warnings.warn(\n",
      "+0.815850436687 [best: +0.815805017948] :  10%|██████▏                                                     | 513/5000 [00:00<00:07, 583.23it/s]\n",
      "+0.815867364407 [best: +0.815854907036] :  12%|██████▉                                                     | 577/5000 [00:00<00:06, 662.96it/s]\n",
      "+0.815808713436 [best: +0.815803170204] :  10%|█████▋                                                      | 478/5000 [00:00<00:06, 696.20it/s]\n",
      "+0.815865874290 [best: +0.815865814686] :   8%|█████                                                       | 417/5000 [00:00<00:06, 673.55it/s]\n",
      "+0.815846741199 [best: +0.815846741199] :  10%|██████▏                                                     | 517/5000 [00:00<00:06, 713.78it/s]\n",
      "+0.815866708755 [best: +0.815837144852] :  10%|█████▊                                                      | 487/5000 [00:00<00:06, 704.12it/s]\n",
      "+0.815860688686 [best: +0.815810203552] :  11%|██████▍                                                     | 534/5000 [00:00<00:06, 713.68it/s]\n",
      "+0.815865933895 [best: +0.815851747990] :  10%|██████▎                                                     | 524/5000 [00:00<00:06, 731.59it/s]\n",
      "+0.815866172314 [best: +0.815865933895] :   9%|█████▌                                                      | 466/5000 [00:00<00:06, 658.09it/s]\n",
      "+0.815866112709 [best: +0.815853893757] :   8%|████▊                                                       | 404/5000 [00:00<00:07, 589.74it/s]\n"
     ]
    },
    {
     "name": "stdout",
     "output_type": "stream",
     "text": [
      "2\n"
     ]
    },
    {
     "name": "stderr",
     "output_type": "stream",
     "text": [
      "+0.551292300224 [best: +0.551259160042] :  12%|██████▉                                                     | 582/5000 [00:01<00:07, 567.53it/s]\n",
      "+0.551259875298 [best: +0.551234960556] :   9%|█████▎                                                      | 447/5000 [00:01<00:11, 398.54it/s]\n",
      "+0.551293253899 [best: +0.551293134689] :  13%|███████▉                                                    | 665/5000 [00:01<00:06, 639.63it/s]\n",
      "+0.551250755787 [best: +0.551250755787] :  10%|██████                                                      | 502/5000 [00:00<00:07, 577.35it/s]\n",
      "+0.551284432411 [best: +0.551262140274] :   9%|█████▋                                                      | 471/5000 [00:00<00:08, 564.19it/s]\n",
      "+0.551293730736 [best: +0.551291465759] :   9%|█████▌                                                      | 463/5000 [00:00<00:07, 570.38it/s]\n",
      "+0.551284432411 [best: +0.551284432411] :   9%|█████▌                                                      | 467/5000 [00:00<00:07, 570.25it/s]\n",
      "+0.551293253899 [best: +0.551292479038] :  12%|███████▎                                                    | 612/5000 [00:01<00:07, 610.36it/s]\n",
      "+0.551286220551 [best: +0.551285326481] :  11%|██████▋                                                     | 554/5000 [00:00<00:07, 597.18it/s]\n",
      "+0.551290571690 [best: +0.551268219948] :   9%|█████                                                       | 427/5000 [00:01<00:13, 347.74it/s]\n"
     ]
    },
    {
     "name": "stdout",
     "output_type": "stream",
     "text": [
      "3\n"
     ]
    },
    {
     "name": "stderr",
     "output_type": "stream",
     "text": [
      "+0.551264047623 [best: +0.551234245300] :  11%|██████▊                                                     | 563/5000 [00:01<00:08, 526.83it/s]\n",
      "+0.551259398460 [best: +0.551244020462] :  10%|█████▉                                                      | 498/5000 [00:01<00:09, 485.53it/s]\n",
      "+0.551278114319 [best: +0.551238000393] :  10%|█████▊                                                      | 481/5000 [00:01<00:09, 461.75it/s]\n",
      "+0.551281929016 [best: +0.551265239716] :  12%|██████▉                                                     | 575/5000 [00:01<00:09, 488.50it/s]\n",
      "+0.551286578178 [best: +0.551266908646] :  11%|██████▊                                                     | 563/5000 [00:01<00:10, 408.93it/s]\n",
      "+0.551243484020 [best: +0.551243484020] :  11%|██████▋                                                     | 554/5000 [00:01<00:12, 369.91it/s]\n",
      "+0.551255941391 [best: +0.551236271858] :  10%|█████▊                                                      | 484/5000 [00:01<00:10, 451.40it/s]\n",
      "+0.551257491112 [best: +0.551257371902] :  13%|███████▋                                                    | 642/5000 [00:01<00:09, 454.92it/s]\n",
      "+0.551289796829 [best: +0.551277041435] :  10%|██████                                                      | 504/5000 [00:01<00:10, 432.29it/s]\n",
      "+0.551270723343 [best: +0.551248371601] :  10%|█████▊                                                      | 488/5000 [00:01<00:10, 431.88it/s]\n"
     ]
    },
    {
     "name": "stdout",
     "output_type": "stream",
     "text": [
      "4\n"
     ]
    },
    {
     "name": "stderr",
     "output_type": "stream",
     "text": [
      "+0.551274359226 [best: +0.551242947578] :  13%|███████▋                                                    | 644/5000 [00:01<00:09, 437.27it/s]\n",
      "+0.551272928715 [best: +0.551272809505] :  19%|███████████▎                                                | 946/5000 [00:02<00:10, 390.62it/s]\n",
      "+0.551277399063 [best: +0.551262378693] :  13%|███████▊                                                    | 646/5000 [00:01<00:12, 348.29it/s]\n",
      "+0.551268696785 [best: +0.551236748695] :  17%|██████████                                                  | 836/5000 [00:01<00:08, 467.04it/s]\n",
      "+0.551293134689 [best: +0.551235258579] :  15%|█████████                                                   | 755/5000 [00:01<00:09, 456.14it/s]\n",
      "+0.551259517670 [best: +0.551259517670] :  10%|██████                                                      | 510/5000 [00:01<00:11, 385.20it/s]\n",
      "+0.551283717155 [best: +0.551254451275] :  12%|███████▍                                                    | 617/5000 [00:01<00:12, 338.79it/s]\n",
      "+0.551264286041 [best: +0.551234602928] :  15%|████████▉                                                   | 747/5000 [00:01<00:09, 468.06it/s]\n",
      "+0.551282525063 [best: +0.551240086555] :  14%|████████▏                                                   | 679/5000 [00:01<00:09, 471.47it/s]\n",
      "+0.551288604736 [best: +0.551288604736] :  14%|████████▍                                                   | 704/5000 [00:01<00:10, 402.21it/s]\n"
     ]
    },
    {
     "name": "stdout",
     "output_type": "stream",
     "text": [
      "5\n"
     ]
    },
    {
     "name": "stderr",
     "output_type": "stream",
     "text": [
      "+0.551236748695 [best: +0.551234006882] :  19%|███████████▎                                                | 944/5000 [00:02<00:08, 465.37it/s]\n",
      "+0.551257610321 [best: +0.551234364510] :  16%|█████████▎                                                  | 775/5000 [00:02<00:12, 327.20it/s]\n",
      "+0.551243901253 [best: +0.551234245300] :  15%|█████████                                                   | 759/5000 [00:01<00:09, 451.61it/s]\n",
      "+0.551267981529 [best: +0.551237702370] :  16%|█████████▋                                                  | 805/5000 [00:01<00:08, 468.61it/s]\n",
      "+0.551239490509 [best: +0.551234126091] :  12%|███████▏                                                    | 604/5000 [00:01<00:10, 402.67it/s]\n",
      "+0.551275849342 [best: +0.551235139370] :  15%|████████▉                                                   | 741/5000 [00:01<00:11, 374.95it/s]\n",
      "+0.551252007484 [best: +0.551234364510] :  16%|█████████▍                                                  | 785/5000 [00:01<00:08, 472.26it/s]\n",
      "+0.551235020161 [best: +0.551235020161] :  12%|███████▍                                                    | 619/5000 [00:01<00:10, 409.19it/s]\n",
      "+0.551263451576 [best: +0.551234006882] :  15%|████████▋                                                   | 729/5000 [00:01<00:09, 446.58it/s]\n",
      "+0.551251053810 [best: +0.551236510277] :  14%|████████▎                                                   | 693/5000 [00:01<00:11, 371.51it/s]\n"
     ]
    }
   ],
   "source": [
    "scores = list()\n",
    "\n",
    "for depth in gate_depths:\n",
    "    print(depth)\n",
    "    scores.append(list())\n",
    "\n",
    "    for _ in range(num_iterations_per_depth):\n",
    "        circ_pair = ansatz_circuit_pair(\n",
    "            left_most_symmetry_site,\n",
    "            num_symmetry_sites,\n",
    "            num_boundary_sites,\n",
    "            depth\n",
    "        )\n",
    "        \n",
    "        tnopt = qtn.TNOptimizer(\n",
    "            circ_pair,                        # the tensor network we want to optimize\n",
    "            loss,                     # the function we want to minimize\n",
    "            loss_constants={'problem_rdm': problem_rdm},  # supply U to the loss function as a constant TN\n",
    "            tags=['U3'],              # only optimize U3 tensors\n",
    "            #autodiff_backend='jax',   # use 'autograd' for non-compiled optimization\n",
    "            optimizer='L-BFGS-B',     # the optimization algorithm\n",
    "        )\n",
    "        \n",
    "        circ_opt = tnopt.optimize_basinhopping(\n",
    "            n=500,\n",
    "            nhop=10,\n",
    "            jac=True,\n",
    "            hessp=False\n",
    "        )\n",
    "\n",
    "        scores[-1].append(tnopt.losses)"
   ]
  },
  {
   "cell_type": "markdown",
   "id": "996cd408-01df-4b54-852f-072db9a41189",
   "metadata": {},
   "source": [
    "So a circuit depth of 2 looks optimal."
   ]
  },
  {
   "cell_type": "code",
   "execution_count": 47,
   "id": "ee80827d-d3b2-4ef9-b262-c48abc280b43",
   "metadata": {},
   "outputs": [],
   "source": [
    "depth = 2"
   ]
  },
  {
   "cell_type": "markdown",
   "id": "f407bf53-145a-4ec8-a427-34c9995ad336",
   "metadata": {},
   "source": [
    "# Gradient-free methods"
   ]
  },
  {
   "cell_type": "code",
   "execution_count": 52,
   "id": "a7d59b7a-d4d8-4861-bf45-dffbe0569b61",
   "metadata": {},
   "outputs": [],
   "source": [
    "all_methods = [\n",
    "    'Nelder-Mead',\n",
    "    'L-BFGS-B',\n",
    "    'Powell',\n",
    "    'CG',\n",
    "    'BFGS',\n",
    "    'Newton-CG',\n",
    "    'TNC',\n",
    "    'COBYLA',\n",
    "    'COBYQA',\n",
    "    'SLSQP',\n",
    "    'dogleg',\n",
    "    'trust-ncg',\n",
    "    'trust-exact',\n",
    "    'trust-krylov'\n",
    "]"
   ]
  },
  {
   "cell_type": "code",
   "execution_count": 66,
   "id": "7ba03fa7-a21b-4685-ac07-7449171062f9",
   "metadata": {},
   "outputs": [],
   "source": [
    "grad_free_completed_methods = [\n",
    "    'Nelder-Mead',\n",
    "    'L-BFGS-B',\n",
    "    'Powell',\n",
    "    'CG',\n",
    "    'BFGS',\n",
    "    'TNC',\n",
    "    'COBYLA',\n",
    "    'SLSQP',\n",
    "]"
   ]
  },
  {
   "cell_type": "code",
   "execution_count": 49,
   "id": "4004a1a8-64f3-4c43-b5ff-4d15889dbdbe",
   "metadata": {},
   "outputs": [],
   "source": [
    "num_iterations=10"
   ]
  },
  {
   "cell_type": "code",
   "execution_count": 75,
   "id": "36c839cd-0831-4f21-812f-0c313fb89a9b",
   "metadata": {},
   "outputs": [
    {
     "name": "stdout",
     "output_type": "stream",
     "text": [
      "trust-krylov\n"
     ]
    },
    {
     "name": "stderr",
     "output_type": "stream",
     "text": [
      "  0%|                                                                                                                 | 0/5000 [00:00<?, ?it/s]\n"
     ]
    },
    {
     "ename": "ValueError",
     "evalue": "('Jacobian is required for trust region ', 'exact minimization.')",
     "output_type": "error",
     "traceback": [
      "\u001b[0;31m---------------------------------------------------------------------------\u001b[0m",
      "\u001b[0;31mValueError\u001b[0m                                Traceback (most recent call last)",
      "Cell \u001b[0;32mIn[75], line 22\u001b[0m\n\u001b[1;32m      6\u001b[0m circ_pair \u001b[38;5;241m=\u001b[39m ansatz_circuit_pair(\n\u001b[1;32m      7\u001b[0m     left_most_symmetry_site,\n\u001b[1;32m      8\u001b[0m     num_symmetry_sites,\n\u001b[1;32m      9\u001b[0m     num_boundary_sites,\n\u001b[1;32m     10\u001b[0m     depth\n\u001b[1;32m     11\u001b[0m )\n\u001b[1;32m     13\u001b[0m tnopt \u001b[38;5;241m=\u001b[39m qtn\u001b[38;5;241m.\u001b[39mTNOptimizer(\n\u001b[1;32m     14\u001b[0m     circ_pair,                        \u001b[38;5;66;03m# the tensor network we want to optimize\u001b[39;00m\n\u001b[1;32m     15\u001b[0m     loss,                     \u001b[38;5;66;03m# the function we want to minimize\u001b[39;00m\n\u001b[0;32m   (...)\u001b[0m\n\u001b[1;32m     19\u001b[0m     optimizer\u001b[38;5;241m=\u001b[39mmethod,     \u001b[38;5;66;03m# the optimization algorithm\u001b[39;00m\n\u001b[1;32m     20\u001b[0m )\n\u001b[0;32m---> 22\u001b[0m circ_opt \u001b[38;5;241m=\u001b[39m \u001b[43mtnopt\u001b[49m\u001b[38;5;241;43m.\u001b[39;49m\u001b[43moptimize\u001b[49m\u001b[43m(\u001b[49m\n\u001b[1;32m     23\u001b[0m \u001b[43m    \u001b[49m\u001b[43mn\u001b[49m\u001b[38;5;241;43m=\u001b[39;49m\u001b[38;5;241;43m5000\u001b[39;49m\u001b[43m,\u001b[49m\n\u001b[1;32m     24\u001b[0m \u001b[43m    \u001b[49m\u001b[43mjac\u001b[49m\u001b[38;5;241;43m=\u001b[39;49m\u001b[38;5;28;43;01mFalse\u001b[39;49;00m\u001b[43m,\u001b[49m\n\u001b[1;32m     25\u001b[0m \u001b[43m    \u001b[49m\u001b[43mhessp\u001b[49m\u001b[38;5;241;43m=\u001b[39;49m\u001b[38;5;28;43;01mFalse\u001b[39;49;00m\n\u001b[1;32m     26\u001b[0m \u001b[43m\u001b[49m\u001b[43m)\u001b[49m\n\u001b[1;32m     28\u001b[0m scores[\u001b[38;5;241m-\u001b[39m\u001b[38;5;241m1\u001b[39m]\u001b[38;5;241m.\u001b[39mappend(tnopt\u001b[38;5;241m.\u001b[39mlosses)\n",
      "File \u001b[0;32m~/.pyenv/versions/num_spt_venv_p11/lib/python3.11/site-packages/quimb/tensor/optimize.py:1502\u001b[0m, in \u001b[0;36mTNOptimizer.optimize\u001b[0;34m(self, n, tol, jac, hessp, optlib, **options)\u001b[0m\n\u001b[1;32m   1469\u001b[0m \u001b[38;5;28;01mdef\u001b[39;00m \u001b[38;5;21moptimize\u001b[39m(\n\u001b[1;32m   1470\u001b[0m     \u001b[38;5;28mself\u001b[39m, n, tol\u001b[38;5;241m=\u001b[39m\u001b[38;5;28;01mNone\u001b[39;00m, jac\u001b[38;5;241m=\u001b[39m\u001b[38;5;28;01mTrue\u001b[39;00m, hessp\u001b[38;5;241m=\u001b[39m\u001b[38;5;28;01mFalse\u001b[39;00m, optlib\u001b[38;5;241m=\u001b[39m\u001b[38;5;124m\"\u001b[39m\u001b[38;5;124mscipy\u001b[39m\u001b[38;5;124m\"\u001b[39m, \u001b[38;5;241m*\u001b[39m\u001b[38;5;241m*\u001b[39moptions\n\u001b[1;32m   1471\u001b[0m ):\n\u001b[1;32m   1472\u001b[0m \u001b[38;5;250m    \u001b[39m\u001b[38;5;124;03m\"\"\"Run the optimizer for ``n`` function evaluations, using by default\u001b[39;00m\n\u001b[1;32m   1473\u001b[0m \u001b[38;5;124;03m    :func:`scipy.optimize.minimize` as the driver for the vectorized\u001b[39;00m\n\u001b[1;32m   1474\u001b[0m \u001b[38;5;124;03m    computation. Supplying the gradient and hessian vector product is\u001b[39;00m\n\u001b[0;32m   (...)\u001b[0m\n\u001b[1;32m   1500\u001b[0m \u001b[38;5;124;03m    tn_opt : TensorNetwork\u001b[39;00m\n\u001b[1;32m   1501\u001b[0m \u001b[38;5;124;03m    \"\"\"\u001b[39;00m\n\u001b[0;32m-> 1502\u001b[0m     \u001b[38;5;28;01mreturn\u001b[39;00m \u001b[43m{\u001b[49m\n\u001b[1;32m   1503\u001b[0m \u001b[43m        \u001b[49m\u001b[38;5;124;43m\"\u001b[39;49m\u001b[38;5;124;43mscipy\u001b[39;49m\u001b[38;5;124;43m\"\u001b[39;49m\u001b[43m:\u001b[49m\u001b[43m \u001b[49m\u001b[38;5;28;43mself\u001b[39;49m\u001b[38;5;241;43m.\u001b[39;49m\u001b[43moptimize_scipy\u001b[49m\u001b[43m,\u001b[49m\n\u001b[1;32m   1504\u001b[0m \u001b[43m        \u001b[49m\u001b[38;5;124;43m\"\u001b[39;49m\u001b[38;5;124;43mnlopt\u001b[39;49m\u001b[38;5;124;43m\"\u001b[39;49m\u001b[43m:\u001b[49m\u001b[43m \u001b[49m\u001b[38;5;28;43mself\u001b[39;49m\u001b[38;5;241;43m.\u001b[39;49m\u001b[43moptimize_nlopt\u001b[49m\u001b[43m,\u001b[49m\n\u001b[1;32m   1505\u001b[0m \u001b[43m    \u001b[49m\u001b[43m}\u001b[49m\u001b[43m[\u001b[49m\u001b[43moptlib\u001b[49m\u001b[43m]\u001b[49m\u001b[43m(\u001b[49m\u001b[43mn\u001b[49m\u001b[38;5;241;43m=\u001b[39;49m\u001b[43mn\u001b[49m\u001b[43m,\u001b[49m\u001b[43m \u001b[49m\u001b[43mtol\u001b[49m\u001b[38;5;241;43m=\u001b[39;49m\u001b[43mtol\u001b[49m\u001b[43m,\u001b[49m\u001b[43m \u001b[49m\u001b[43mjac\u001b[49m\u001b[38;5;241;43m=\u001b[39;49m\u001b[43mjac\u001b[49m\u001b[43m,\u001b[49m\u001b[43m \u001b[49m\u001b[43mhessp\u001b[49m\u001b[38;5;241;43m=\u001b[39;49m\u001b[43mhessp\u001b[49m\u001b[43m,\u001b[49m\u001b[43m \u001b[49m\u001b[38;5;241;43m*\u001b[39;49m\u001b[38;5;241;43m*\u001b[39;49m\u001b[43moptions\u001b[49m\u001b[43m)\u001b[49m\n",
      "File \u001b[0;32m~/.pyenv/versions/num_spt_venv_p11/lib/python3.11/site-packages/quimb/tensor/optimize.py:1523\u001b[0m, in \u001b[0;36mTNOptimizer.optimize_scipy\u001b[0;34m(self, n, tol, jac, hessp, **options)\u001b[0m\n\u001b[1;32m   1521\u001b[0m \u001b[38;5;28;01mtry\u001b[39;00m:\n\u001b[1;32m   1522\u001b[0m     \u001b[38;5;28mself\u001b[39m\u001b[38;5;241m.\u001b[39m_maybe_init_pbar(n)\n\u001b[0;32m-> 1523\u001b[0m     \u001b[38;5;28mself\u001b[39m\u001b[38;5;241m.\u001b[39mres \u001b[38;5;241m=\u001b[39m \u001b[43mminimize\u001b[49m\u001b[43m(\u001b[49m\n\u001b[1;32m   1524\u001b[0m \u001b[43m        \u001b[49m\u001b[43mfun\u001b[49m\u001b[38;5;241;43m=\u001b[39;49m\u001b[43mfun\u001b[49m\u001b[43m,\u001b[49m\n\u001b[1;32m   1525\u001b[0m \u001b[43m        \u001b[49m\u001b[43mjac\u001b[49m\u001b[38;5;241;43m=\u001b[39;49m\u001b[43mjac\u001b[49m\u001b[43m,\u001b[49m\n\u001b[1;32m   1526\u001b[0m \u001b[43m        \u001b[49m\u001b[43mhessp\u001b[49m\u001b[38;5;241;43m=\u001b[39;49m\u001b[38;5;28;43mself\u001b[39;49m\u001b[38;5;241;43m.\u001b[39;49m\u001b[43mvectorized_hessp\u001b[49m\u001b[43m \u001b[49m\u001b[38;5;28;43;01mif\u001b[39;49;00m\u001b[43m \u001b[49m\u001b[43mhessp\u001b[49m\u001b[43m \u001b[49m\u001b[38;5;28;43;01melse\u001b[39;49;00m\u001b[43m \u001b[49m\u001b[38;5;28;43;01mNone\u001b[39;49;00m\u001b[43m,\u001b[49m\n\u001b[1;32m   1527\u001b[0m \u001b[43m        \u001b[49m\u001b[43mx0\u001b[49m\u001b[38;5;241;43m=\u001b[39;49m\u001b[38;5;28;43mself\u001b[39;49m\u001b[38;5;241;43m.\u001b[39;49m\u001b[43mvectorizer\u001b[49m\u001b[38;5;241;43m.\u001b[39;49m\u001b[43mvector\u001b[49m\u001b[43m,\u001b[49m\n\u001b[1;32m   1528\u001b[0m \u001b[43m        \u001b[49m\u001b[43mtol\u001b[49m\u001b[38;5;241;43m=\u001b[39;49m\u001b[43mtol\u001b[49m\u001b[43m,\u001b[49m\n\u001b[1;32m   1529\u001b[0m \u001b[43m        \u001b[49m\u001b[43mbounds\u001b[49m\u001b[38;5;241;43m=\u001b[39;49m\u001b[38;5;28;43mself\u001b[39;49m\u001b[38;5;241;43m.\u001b[39;49m\u001b[43mbounds\u001b[49m\u001b[43m,\u001b[49m\n\u001b[1;32m   1530\u001b[0m \u001b[43m        \u001b[49m\u001b[43mmethod\u001b[49m\u001b[38;5;241;43m=\u001b[39;49m\u001b[38;5;28;43mself\u001b[39;49m\u001b[38;5;241;43m.\u001b[39;49m\u001b[43m_method\u001b[49m\u001b[43m,\u001b[49m\n\u001b[1;32m   1531\u001b[0m \u001b[43m        \u001b[49m\u001b[43moptions\u001b[49m\u001b[38;5;241;43m=\u001b[39;49m\u001b[38;5;28;43mdict\u001b[39;49m\u001b[43m(\u001b[49m\u001b[43mmaxiter\u001b[49m\u001b[38;5;241;43m=\u001b[39;49m\u001b[43mn\u001b[49m\u001b[43m,\u001b[49m\u001b[43m \u001b[49m\u001b[38;5;241;43m*\u001b[39;49m\u001b[38;5;241;43m*\u001b[39;49m\u001b[43moptions\u001b[49m\u001b[43m)\u001b[49m\u001b[43m,\u001b[49m\n\u001b[1;32m   1532\u001b[0m \u001b[43m    \u001b[49m\u001b[43m)\u001b[49m\n\u001b[1;32m   1533\u001b[0m     \u001b[38;5;28mself\u001b[39m\u001b[38;5;241m.\u001b[39mvectorizer\u001b[38;5;241m.\u001b[39mvector[:] \u001b[38;5;241m=\u001b[39m \u001b[38;5;28mself\u001b[39m\u001b[38;5;241m.\u001b[39mres\u001b[38;5;241m.\u001b[39mx\n\u001b[1;32m   1534\u001b[0m \u001b[38;5;28;01mexcept\u001b[39;00m \u001b[38;5;167;01mKeyboardInterrupt\u001b[39;00m:\n",
      "File \u001b[0;32m~/.pyenv/versions/num_spt_venv_p11/lib/python3.11/site-packages/scipy/optimize/_minimize.py:735\u001b[0m, in \u001b[0;36mminimize\u001b[0;34m(fun, x0, args, method, jac, hess, hessp, bounds, constraints, tol, callback, options)\u001b[0m\n\u001b[1;32m    732\u001b[0m     res \u001b[38;5;241m=\u001b[39m _minimize_trust_ncg(fun, x0, args, jac, hess, hessp,\n\u001b[1;32m    733\u001b[0m                               callback\u001b[38;5;241m=\u001b[39mcallback, \u001b[38;5;241m*\u001b[39m\u001b[38;5;241m*\u001b[39moptions)\n\u001b[1;32m    734\u001b[0m \u001b[38;5;28;01melif\u001b[39;00m meth \u001b[38;5;241m==\u001b[39m \u001b[38;5;124m'\u001b[39m\u001b[38;5;124mtrust-krylov\u001b[39m\u001b[38;5;124m'\u001b[39m:\n\u001b[0;32m--> 735\u001b[0m     res \u001b[38;5;241m=\u001b[39m \u001b[43m_minimize_trust_krylov\u001b[49m\u001b[43m(\u001b[49m\u001b[43mfun\u001b[49m\u001b[43m,\u001b[49m\u001b[43m \u001b[49m\u001b[43mx0\u001b[49m\u001b[43m,\u001b[49m\u001b[43m \u001b[49m\u001b[43margs\u001b[49m\u001b[43m,\u001b[49m\u001b[43m \u001b[49m\u001b[43mjac\u001b[49m\u001b[43m,\u001b[49m\u001b[43m \u001b[49m\u001b[43mhess\u001b[49m\u001b[43m,\u001b[49m\u001b[43m \u001b[49m\u001b[43mhessp\u001b[49m\u001b[43m,\u001b[49m\n\u001b[1;32m    736\u001b[0m \u001b[43m                                 \u001b[49m\u001b[43mcallback\u001b[49m\u001b[38;5;241;43m=\u001b[39;49m\u001b[43mcallback\u001b[49m\u001b[43m,\u001b[49m\u001b[43m \u001b[49m\u001b[38;5;241;43m*\u001b[39;49m\u001b[38;5;241;43m*\u001b[39;49m\u001b[43moptions\u001b[49m\u001b[43m)\u001b[49m\n\u001b[1;32m    737\u001b[0m \u001b[38;5;28;01melif\u001b[39;00m meth \u001b[38;5;241m==\u001b[39m \u001b[38;5;124m'\u001b[39m\u001b[38;5;124mtrust-exact\u001b[39m\u001b[38;5;124m'\u001b[39m:\n\u001b[1;32m    738\u001b[0m     res \u001b[38;5;241m=\u001b[39m _minimize_trustregion_exact(fun, x0, args, jac, hess,\n\u001b[1;32m    739\u001b[0m                                       callback\u001b[38;5;241m=\u001b[39mcallback, \u001b[38;5;241m*\u001b[39m\u001b[38;5;241m*\u001b[39moptions)\n",
      "File \u001b[0;32m~/.pyenv/versions/num_spt_venv_p11/lib/python3.11/site-packages/scipy/optimize/_trustregion_krylov.py:23\u001b[0m, in \u001b[0;36m_minimize_trust_krylov\u001b[0;34m(fun, x0, args, jac, hess, hessp, inexact, **trust_region_options)\u001b[0m\n\u001b[1;32m      8\u001b[0m \u001b[38;5;250m\u001b[39m\u001b[38;5;124;03m\"\"\"\u001b[39;00m\n\u001b[1;32m      9\u001b[0m \u001b[38;5;124;03mMinimization of a scalar function of one or more variables using\u001b[39;00m\n\u001b[1;32m     10\u001b[0m \u001b[38;5;124;03ma nearly exact trust-region algorithm that only requires matrix\u001b[39;00m\n\u001b[0;32m   (...)\u001b[0m\n\u001b[1;32m     19\u001b[0m \u001b[38;5;124;03m    iterations, but more vector products.\u001b[39;00m\n\u001b[1;32m     20\u001b[0m \u001b[38;5;124;03m\"\"\"\u001b[39;00m\n\u001b[1;32m     22\u001b[0m \u001b[38;5;28;01mif\u001b[39;00m jac \u001b[38;5;129;01mis\u001b[39;00m \u001b[38;5;28;01mNone\u001b[39;00m:\n\u001b[0;32m---> 23\u001b[0m     \u001b[38;5;28;01mraise\u001b[39;00m \u001b[38;5;167;01mValueError\u001b[39;00m(\u001b[38;5;124m'\u001b[39m\u001b[38;5;124mJacobian is required for trust region \u001b[39m\u001b[38;5;124m'\u001b[39m,\n\u001b[1;32m     24\u001b[0m                      \u001b[38;5;124m'\u001b[39m\u001b[38;5;124mexact minimization.\u001b[39m\u001b[38;5;124m'\u001b[39m)\n\u001b[1;32m     25\u001b[0m \u001b[38;5;28;01mif\u001b[39;00m hess \u001b[38;5;129;01mis\u001b[39;00m \u001b[38;5;28;01mNone\u001b[39;00m \u001b[38;5;129;01mand\u001b[39;00m hessp \u001b[38;5;129;01mis\u001b[39;00m \u001b[38;5;28;01mNone\u001b[39;00m:\n\u001b[1;32m     26\u001b[0m     \u001b[38;5;28;01mraise\u001b[39;00m \u001b[38;5;167;01mValueError\u001b[39;00m(\u001b[38;5;124m'\u001b[39m\u001b[38;5;124mEither the Hessian or the Hessian-vector product \u001b[39m\u001b[38;5;124m'\u001b[39m\n\u001b[1;32m     27\u001b[0m                      \u001b[38;5;124m'\u001b[39m\u001b[38;5;124mis required for Krylov trust-region minimization\u001b[39m\u001b[38;5;124m'\u001b[39m)\n",
      "\u001b[0;31mValueError\u001b[0m: ('Jacobian is required for trust region ', 'exact minimization.')"
     ]
    }
   ],
   "source": [
    "for method in grad_free_uncompleted_methods:\n",
    "    print(method)\n",
    "    scores.append(list())\n",
    "\n",
    "    for _ in range(num_iterations):\n",
    "        circ_pair = ansatz_circuit_pair(\n",
    "            left_most_symmetry_site,\n",
    "            num_symmetry_sites,\n",
    "            num_boundary_sites,\n",
    "            depth\n",
    "        )\n",
    "        \n",
    "        tnopt = qtn.TNOptimizer(\n",
    "            circ_pair,                        # the tensor network we want to optimize\n",
    "            loss,                     # the function we want to minimize\n",
    "            loss_constants={'problem_rdm': problem_rdm},  # supply U to the loss function as a constant TN\n",
    "            tags=['U3'],              # only optimize U3 tensors\n",
    "            #autodiff_backend='jax',   # use 'autograd' for non-compiled optimization\n",
    "            optimizer=method,     # the optimization algorithm\n",
    "        )\n",
    "        \n",
    "        circ_opt = tnopt.optimize(\n",
    "            n=5000,\n",
    "            jac=False,\n",
    "            hessp=False\n",
    "        )\n",
    "\n",
    "        scores[-1].append(tnopt.losses)"
   ]
  },
  {
   "cell_type": "code",
   "execution_count": 79,
   "id": "01ae98bf-85d5-4390-9d05-2c73f7e6a9f9",
   "metadata": {},
   "outputs": [
    {
     "data": {
      "text/plain": [
       "(8, 8)"
      ]
     },
     "execution_count": 79,
     "metadata": {},
     "output_type": "execute_result"
    }
   ],
   "source": [
    "len(scores), len(grad_free_completed_methods)"
   ]
  },
  {
   "cell_type": "code",
   "execution_count": 86,
   "id": "c1d436e4-e95f-4b96-9edc-d9adae492016",
   "metadata": {},
   "outputs": [],
   "source": [
    "best_final_scores = [\n",
    "    min(np.min(X) for X in l)\n",
    "    for l in scores\n",
    "]"
   ]
  },
  {
   "cell_type": "code",
   "execution_count": 87,
   "id": "cec4a2ee-074d-47b1-a7f4-3ab2d304679c",
   "metadata": {},
   "outputs": [
    {
     "data": {
      "text/plain": [
       "[0.5512935519218445,\n",
       " 0.9971219301223755,\n",
       " 0.5512736439704895,\n",
       " 0.9772905111312866,\n",
       " 0.9941859245300293,\n",
       " 0.9963281154632568,\n",
       " 0.5512793660163879,\n",
       " 0.9914867281913757]"
      ]
     },
     "execution_count": 87,
     "metadata": {},
     "output_type": "execute_result"
    }
   ],
   "source": [
    "best_final_scores"
   ]
  },
  {
   "cell_type": "code",
   "execution_count": 88,
   "id": "6d05f934-472f-4523-829b-79d639adc0c4",
   "metadata": {},
   "outputs": [
    {
     "data": {
      "text/plain": [
       "['L-BFGS-B', 'CG', 'BFGS', 'TNC', 'SLSQP']"
      ]
     },
     "execution_count": 88,
     "metadata": {},
     "output_type": "execute_result"
    }
   ],
   "source": [
    "[\n",
    "    m for (m, s) in zip(grad_free_completed_methods, best_final_scores)\n",
    "    if s > 0.6\n",
    "]"
   ]
  },
  {
   "cell_type": "code",
   "execution_count": 90,
   "id": "9bcf11d8-373a-43ee-b925-306766796ae2",
   "metadata": {},
   "outputs": [
    {
     "data": {
      "text/plain": [
       "['Nelder-Mead', 'Powell', 'COBYLA']"
      ]
     },
     "execution_count": 90,
     "metadata": {},
     "output_type": "execute_result"
    }
   ],
   "source": [
    "[\n",
    "    m for (m, s) in zip(grad_free_completed_methods, best_final_scores)\n",
    "    if s < 0.6\n",
    "]"
   ]
  },
  {
   "cell_type": "code",
   "execution_count": 119,
   "id": "303d317e-3676-4cdf-84b9-7b93eeef7974",
   "metadata": {},
   "outputs": [],
   "source": [
    "sub_scores = [\n",
    "    l for (l, s) in zip(scores, best_final_scores)\n",
    "    if s < 0.6\n",
    "]"
   ]
  },
  {
   "cell_type": "code",
   "execution_count": 120,
   "id": "e3d32fc8-1ea7-4c97-b468-3d3c06c171ce",
   "metadata": {},
   "outputs": [],
   "source": [
    "sub_best_iters = [\n",
    "    np.array([np.argmax(np.array(l1)<0.6) for l1 in l])\n",
    "    for l in sub_scores\n",
    "]"
   ]
  },
  {
   "cell_type": "code",
   "execution_count": 121,
   "id": "91e2985f-ab71-4137-b984-7efcd08bbb30",
   "metadata": {},
   "outputs": [
    {
     "data": {
      "text/plain": [
       "[array([1339, 1458, 1563, 1473, 1115, 1591, 1669, 1376, 1345, 2194]),\n",
       " array([379, 950, 409, 412, 816, 347, 688, 438, 782, 747]),\n",
       " array([142, 144, 166, 159, 107, 170, 134, 153, 212, 121])]"
      ]
     },
     "execution_count": 121,
     "metadata": {},
     "output_type": "execute_result"
    }
   ],
   "source": [
    "sub_best_iters"
   ]
  },
  {
   "cell_type": "code",
   "execution_count": 89,
   "id": "5e9bc873-d72c-4b41-a5c2-1a2283950b86",
   "metadata": {},
   "outputs": [
    {
     "data": {
      "text/plain": [
       "8"
      ]
     },
     "execution_count": 89,
     "metadata": {},
     "output_type": "execute_result"
    }
   ],
   "source": [
    "len(grad_free_completed_methods)"
   ]
  },
  {
   "cell_type": "code",
   "execution_count": 93,
   "id": "f90df2d0-1651-4e0b-9c3c-a57c12e562f7",
   "metadata": {},
   "outputs": [],
   "source": [
    "l_bfgs_b_scores = list()"
   ]
  },
  {
   "cell_type": "code",
   "execution_count": 94,
   "id": "728e25b4-38bf-42ab-ae03-bc62227a6caf",
   "metadata": {},
   "outputs": [
    {
     "name": "stderr",
     "output_type": "stream",
     "text": [
      "+0.551310777664 [best: +0.551310241222] :  47%|███████████████████████████▉                               | 2368/5000 [00:04<00:04, 554.26it/s]\n",
      "+0.551309525967 [best: +0.551309347153] :  46%|███████████████████████████                                | 2294/5000 [00:03<00:03, 683.73it/s]\n",
      "+0.551351785660 [best: +0.551351428032] :  40%|███████████████████████▌                                   | 1998/5000 [00:02<00:04, 722.30it/s]\n",
      "+0.551298975945 [best: +0.551298737526] :  58%|██████████████████████████████████▍                        | 2923/5000 [00:03<00:02, 758.54it/s]\n",
      "+0.551317095757 [best: +0.551317095757] : : 5069it [00:06, 767.49it/s]                                                                         \n",
      "+0.551379203796 [best: +0.551378905773] :  55%|████████████████████████████████▎                          | 2738/5000 [00:03<00:02, 769.79it/s]\n",
      "+0.999990224838 [best: +0.999990224838] :   1%|▉                                                            | 74/5000 [00:00<00:18, 260.06it/s]\n",
      "+0.551306128502 [best: +0.551305890083] :  70%|█████████████████████████████████████████                  | 3478/5000 [00:04<00:01, 781.14it/s]\n",
      "+0.551407694817 [best: +0.551407337189] :  41%|████████████████████████                                   | 2035/5000 [00:02<00:04, 698.48it/s]\n",
      "+0.551297724247 [best: +0.551297485828] :  77%|█████████████████████████████████████████████▍             | 3848/5000 [00:05<00:01, 766.02it/s]\n"
     ]
    }
   ],
   "source": [
    "for _ in range(num_iterations):\n",
    "    circ_pair = ansatz_circuit_pair(\n",
    "        left_most_symmetry_site,\n",
    "        num_symmetry_sites,\n",
    "        num_boundary_sites,\n",
    "        depth\n",
    "    )\n",
    "    \n",
    "    tnopt = qtn.TNOptimizer(\n",
    "        circ_pair,                        # the tensor network we want to optimize\n",
    "        loss,                     # the function we want to minimize\n",
    "        loss_constants={'problem_rdm': problem_rdm},  # supply U to the loss function as a constant TN\n",
    "        tags=['U3'],              # only optimize U3 tensors\n",
    "        #autodiff_backend='jax',   # use 'autograd' for non-compiled optimization\n",
    "        optimizer='L-BFGS-B',     # the optimization algorithm\n",
    "    )\n",
    "    \n",
    "    circ_opt = tnopt.optimize(\n",
    "        n=5000,\n",
    "        eps=1e-4,\n",
    "        jac=False,\n",
    "        hessp=False\n",
    "    )\n",
    "\n",
    "    l_bfgs_b_scores.append(tnopt.losses)"
   ]
  },
  {
   "cell_type": "code",
   "execution_count": 116,
   "id": "369780fb-b171-4f77-9095-281b1a8b63f5",
   "metadata": {},
   "outputs": [],
   "source": [
    "l_bfgs_b_num_iters = [\n",
    "    np.argmax(np.array(l)<0.6)\n",
    "    for l in l_bfgs_b_scores\n",
    "]"
   ]
  },
  {
   "cell_type": "code",
   "execution_count": 117,
   "id": "b98dd0ca-ae96-4c02-827c-c26d9406c286",
   "metadata": {},
   "outputs": [
    {
     "data": {
      "text/plain": [
       "[629, 666, 555, 518, 740, 592, 0, 407, 777, 814]"
      ]
     },
     "execution_count": 117,
     "metadata": {},
     "output_type": "execute_result"
    }
   ],
   "source": [
    "l_bfgs_b_num_iters"
   ]
  },
  {
   "cell_type": "code",
   "execution_count": 99,
   "id": "58b83ba3-02a5-47e3-9a17-eb7550514ffa",
   "metadata": {},
   "outputs": [],
   "source": [
    "cg_scores = list()"
   ]
  },
  {
   "cell_type": "code",
   "execution_count": 100,
   "id": "4109f653-d40c-4a7c-bc7d-5410bd25d0d0",
   "metadata": {},
   "outputs": [
    {
     "name": "stderr",
     "output_type": "stream",
     "text": [
      "/Users/kierancooney/.pyenv/versions/num_spt_venv_p11/lib/python3.11/site-packages/quimb/tensor/circuit.py:2587: FutureWarning: In future the tensor network returned by ``circ.uni`` will not be transposed as it is currently, to match the expectation from ``U = circ.uni.to_dense()`` behaving like ``U @ psi``. You can retain this behaviour with ``circ.get_uni(transposed=True)``.\n",
      "  warnings.warn(\n",
      "+0.551296532154 [best: +0.551295995712] : : 5227it [00:06, 767.88it/s]                                                                         \n",
      "/Users/kierancooney/.pyenv/versions/num_spt_venv_p11/lib/python3.11/site-packages/quimb/tensor/circuit.py:2587: FutureWarning: In future the tensor network returned by ``circ.uni`` will not be transposed as it is currently, to match the expectation from ``U = circ.uni.to_dense()`` behaving like ``U @ psi``. You can retain this behaviour with ``circ.get_uni(transposed=True)``.\n",
      "  warnings.warn(\n",
      "+0.551293969154 [best: +0.551293611526] :  86%|██████████████████████████████████████████████████▊        | 4304/5000 [00:05<00:00, 797.02it/s]\n",
      "/Users/kierancooney/.pyenv/versions/num_spt_venv_p11/lib/python3.11/site-packages/quimb/tensor/circuit.py:2587: FutureWarning: In future the tensor network returned by ``circ.uni`` will not be transposed as it is currently, to match the expectation from ``U = circ.uni.to_dense()`` behaving like ``U @ psi``. You can retain this behaviour with ``circ.get_uni(transposed=True)``.\n",
      "  warnings.warn(\n",
      "+0.551294922829 [best: +0.551294684410] : : 5376it [00:06, 804.09it/s]                                                                         \n",
      "/Users/kierancooney/.pyenv/versions/num_spt_venv_p11/lib/python3.11/site-packages/quimb/tensor/circuit.py:2587: FutureWarning: In future the tensor network returned by ``circ.uni`` will not be transposed as it is currently, to match the expectation from ``U = circ.uni.to_dense()`` behaving like ``U @ psi``. You can retain this behaviour with ``circ.get_uni(transposed=True)``.\n",
      "  warnings.warn(\n",
      "+0.551311135292 [best: +0.551311075687] : : 6005it [00:07, 805.16it/s]                                                                         \n",
      "/Users/kierancooney/.pyenv/versions/num_spt_venv_p11/lib/python3.11/site-packages/quimb/tensor/circuit.py:2587: FutureWarning: In future the tensor network returned by ``circ.uni`` will not be transposed as it is currently, to match the expectation from ``U = circ.uni.to_dense()`` behaving like ``U @ psi``. You can retain this behaviour with ``circ.get_uni(transposed=True)``.\n",
      "  warnings.warn(\n",
      "+0.551289439201 [best: +0.551289081573] :  87%|███████████████████████████████████████████████████▏       | 4340/5000 [00:05<00:00, 804.01it/s]\n",
      "/Users/kierancooney/.pyenv/versions/num_spt_venv_p11/lib/python3.11/site-packages/quimb/tensor/circuit.py:2587: FutureWarning: In future the tensor network returned by ``circ.uni`` will not be transposed as it is currently, to match the expectation from ``U = circ.uni.to_dense()`` behaving like ``U @ psi``. You can retain this behaviour with ``circ.get_uni(transposed=True)``.\n",
      "  warnings.warn(\n",
      "+0.551294088364 [best: +0.551293790340] :  85%|█████████████████████████████████████████████████▉         | 4227/5000 [00:05<00:00, 796.84it/s]\n",
      "/Users/kierancooney/.pyenv/versions/num_spt_venv_p11/lib/python3.11/site-packages/quimb/tensor/circuit.py:2587: FutureWarning: In future the tensor network returned by ``circ.uni`` will not be transposed as it is currently, to match the expectation from ``U = circ.uni.to_dense()`` behaving like ``U @ psi``. You can retain this behaviour with ``circ.get_uni(transposed=True)``.\n",
      "  warnings.warn(\n",
      "+0.551296412945 [best: +0.551293611526] :  93%|███████████████████████████████████████████████████████▏   | 4673/5000 [00:06<00:00, 777.09it/s]\n",
      "/Users/kierancooney/.pyenv/versions/num_spt_venv_p11/lib/python3.11/site-packages/quimb/tensor/circuit.py:2587: FutureWarning: In future the tensor network returned by ``circ.uni`` will not be transposed as it is currently, to match the expectation from ``U = circ.uni.to_dense()`` behaving like ``U @ psi``. You can retain this behaviour with ``circ.get_uni(transposed=True)``.\n",
      "  warnings.warn(\n",
      "+0.551293015480 [best: +0.551292717457] : : 7707it [00:09, 816.98it/s]                                                                         \n",
      "/Users/kierancooney/.pyenv/versions/num_spt_venv_p11/lib/python3.11/site-packages/quimb/tensor/circuit.py:2587: FutureWarning: In future the tensor network returned by ``circ.uni`` will not be transposed as it is currently, to match the expectation from ``U = circ.uni.to_dense()`` behaving like ``U @ psi``. You can retain this behaviour with ``circ.get_uni(transposed=True)``.\n",
      "  warnings.warn(\n",
      "+0.551295161247 [best: +0.551294684410] :  82%|████████████████████████████████████████████████▌          | 4118/5000 [00:05<00:01, 805.40it/s]\n",
      "/Users/kierancooney/.pyenv/versions/num_spt_venv_p11/lib/python3.11/site-packages/quimb/tensor/circuit.py:2587: FutureWarning: In future the tensor network returned by ``circ.uni`` will not be transposed as it is currently, to match the expectation from ``U = circ.uni.to_dense()`` behaving like ``U @ psi``. You can retain this behaviour with ``circ.get_uni(transposed=True)``.\n",
      "  warnings.warn(\n",
      "+0.551290631294 [best: +0.551290452480] : : 5525it [00:06, 790.92it/s]                                                                         \n"
     ]
    }
   ],
   "source": [
    "for _ in range(num_iterations):\n",
    "    circ_pair = ansatz_circuit_pair(\n",
    "        left_most_symmetry_site,\n",
    "        num_symmetry_sites,\n",
    "        num_boundary_sites,\n",
    "        depth\n",
    "    )\n",
    "    \n",
    "    tnopt = qtn.TNOptimizer(\n",
    "        circ_pair,                        # the tensor network we want to optimize\n",
    "        loss,                     # the function we want to minimize\n",
    "        loss_constants={'problem_rdm': problem_rdm},  # supply U to the loss function as a constant TN\n",
    "        tags=['U3'],              # only optimize U3 tensors\n",
    "        #autodiff_backend='jax',   # use 'autograd' for non-compiled optimization\n",
    "        optimizer='CG',     # the optimization algorithm\n",
    "    )\n",
    "    \n",
    "    circ_opt = tnopt.optimize(\n",
    "        n=5000,\n",
    "        eps=1e-3,\n",
    "        jac=False,\n",
    "        hessp=False\n",
    "    )\n",
    "\n",
    "    cg_scores.append(tnopt.losses)"
   ]
  },
  {
   "cell_type": "code",
   "execution_count": 114,
   "id": "a6c7c78c-f272-4989-87ab-f13a9fe2c322",
   "metadata": {},
   "outputs": [],
   "source": [
    "cg_num_iters = [\n",
    "    np.argmax(np.array(l)<0.6)\n",
    "    for l in cg_scores\n",
    "]"
   ]
  },
  {
   "cell_type": "code",
   "execution_count": 115,
   "id": "faf209ba-2b1e-416d-9d10-614e3b44be10",
   "metadata": {},
   "outputs": [
    {
     "data": {
      "text/plain": [
       "[1147, 814, 777, 888, 1036, 888, 814, 3700, 1221, 777]"
      ]
     },
     "execution_count": 115,
     "metadata": {},
     "output_type": "execute_result"
    }
   ],
   "source": [
    "cg_num_iters"
   ]
  },
  {
   "cell_type": "code",
   "execution_count": 101,
   "id": "2709fcbc-cab8-47fe-89ca-5bffb6c325a4",
   "metadata": {},
   "outputs": [],
   "source": [
    "bfgs_scores = list()"
   ]
  },
  {
   "cell_type": "code",
   "execution_count": 102,
   "id": "afd4ebc9-7b30-4f40-8f65-112948998acf",
   "metadata": {},
   "outputs": [
    {
     "name": "stderr",
     "output_type": "stream",
     "text": [
      "/Users/kierancooney/.pyenv/versions/num_spt_venv_p11/lib/python3.11/site-packages/quimb/tensor/circuit.py:2587: FutureWarning: In future the tensor network returned by ``circ.uni`` will not be transposed as it is currently, to match the expectation from ``U = circ.uni.to_dense()`` behaving like ``U @ psi``. You can retain this behaviour with ``circ.get_uni(transposed=True)``.\n",
      "  warnings.warn(\n",
      "+0.551294088364 [best: +0.551293790340] :  76%|████████████████████████████████████████████▋              | 3785/5000 [00:05<00:01, 692.25it/s]\n",
      "/Users/kierancooney/.pyenv/versions/num_spt_venv_p11/lib/python3.11/site-packages/quimb/tensor/circuit.py:2587: FutureWarning: In future the tensor network returned by ``circ.uni`` will not be transposed as it is currently, to match the expectation from ``U = circ.uni.to_dense()`` behaving like ``U @ psi``. You can retain this behaviour with ``circ.get_uni(transposed=True)``.\n",
      "  warnings.warn(\n",
      "+0.551293611526 [best: +0.551293373108] : : 6784it [00:09, 752.80it/s]                                                                         \n",
      "/Users/kierancooney/.pyenv/versions/num_spt_venv_p11/lib/python3.11/site-packages/quimb/tensor/circuit.py:2587: FutureWarning: In future the tensor network returned by ``circ.uni`` will not be transposed as it is currently, to match the expectation from ``U = circ.uni.to_dense()`` behaving like ``U @ psi``. You can retain this behaviour with ``circ.get_uni(transposed=True)``.\n",
      "  warnings.warn(\n",
      "+0.551293134689 [best: +0.551292777061] :  76%|████████████████████████████████████████████▋              | 3786/5000 [00:05<00:01, 752.46it/s]\n",
      "/Users/kierancooney/.pyenv/versions/num_spt_venv_p11/lib/python3.11/site-packages/quimb/tensor/circuit.py:2587: FutureWarning: In future the tensor network returned by ``circ.uni`` will not be transposed as it is currently, to match the expectation from ``U = circ.uni.to_dense()`` behaving like ``U @ psi``. You can retain this behaviour with ``circ.get_uni(transposed=True)``.\n",
      "  warnings.warn(\n",
      "+0.551291584969 [best: +0.551290869713] :  93%|███████████████████████████████████████████████████████▏   | 4674/5000 [00:06<00:00, 773.20it/s]\n",
      "/Users/kierancooney/.pyenv/versions/num_spt_venv_p11/lib/python3.11/site-packages/quimb/tensor/circuit.py:2587: FutureWarning: In future the tensor network returned by ``circ.uni`` will not be transposed as it is currently, to match the expectation from ``U = circ.uni.to_dense()`` behaving like ``U @ psi``. You can retain this behaviour with ``circ.get_uni(transposed=True)``.\n",
      "  warnings.warn(\n",
      "+0.551293373108 [best: +0.551293134689] : : 5825it [00:07, 745.23it/s]                                                                         \n",
      "/Users/kierancooney/.pyenv/versions/num_spt_venv_p11/lib/python3.11/site-packages/quimb/tensor/circuit.py:2587: FutureWarning: In future the tensor network returned by ``circ.uni`` will not be transposed as it is currently, to match the expectation from ``U = circ.uni.to_dense()`` behaving like ``U @ psi``. You can retain this behaviour with ``circ.get_uni(transposed=True)``.\n",
      "  warnings.warn(\n",
      "+0.551256895065 [best: +0.551256477833] :  70%|█████████████████████████████████████████▌                 | 3525/5000 [00:04<00:02, 709.99it/s]\n",
      "/Users/kierancooney/.pyenv/versions/num_spt_venv_p11/lib/python3.11/site-packages/quimb/tensor/circuit.py:2587: FutureWarning: In future the tensor network returned by ``circ.uni`` will not be transposed as it is currently, to match the expectation from ``U = circ.uni.to_dense()`` behaving like ``U @ psi``. You can retain this behaviour with ``circ.get_uni(transposed=True)``.\n",
      "  warnings.warn(\n",
      "+0.551299452782 [best: +0.551299095154] :  75%|████████████████████████████████████████████▏              | 3749/5000 [00:05<00:01, 698.53it/s]\n",
      "/Users/kierancooney/.pyenv/versions/num_spt_venv_p11/lib/python3.11/site-packages/quimb/tensor/circuit.py:2587: FutureWarning: In future the tensor network returned by ``circ.uni`` will not be transposed as it is currently, to match the expectation from ``U = circ.uni.to_dense()`` behaving like ``U @ psi``. You can retain this behaviour with ``circ.get_uni(transposed=True)``.\n",
      "  warnings.warn(\n",
      "+0.551296234131 [best: +0.551296114922] : : 5789it [00:07, 773.48it/s]                                                                         \n",
      "/Users/kierancooney/.pyenv/versions/num_spt_venv_p11/lib/python3.11/site-packages/quimb/tensor/circuit.py:2587: FutureWarning: In future the tensor network returned by ``circ.uni`` will not be transposed as it is currently, to match the expectation from ``U = circ.uni.to_dense()`` behaving like ``U @ psi``. You can retain this behaviour with ``circ.get_uni(transposed=True)``.\n",
      "  warnings.warn(\n",
      "+0.551294028759 [best: +0.551293969154] :  82%|████████████████████████████████████████████████▏          | 4082/5000 [00:05<00:01, 799.47it/s]\n",
      "/Users/kierancooney/.pyenv/versions/num_spt_venv_p11/lib/python3.11/site-packages/quimb/tensor/circuit.py:2587: FutureWarning: In future the tensor network returned by ``circ.uni`` will not be transposed as it is currently, to match the expectation from ``U = circ.uni.to_dense()`` behaving like ``U @ psi``. You can retain this behaviour with ``circ.get_uni(transposed=True)``.\n",
      "  warnings.warn(\n",
      "+0.551293194294 [best: +0.551293134689] : : 6600it [00:08, 789.44it/s]                                                                         \n"
     ]
    }
   ],
   "source": [
    "for _ in range(num_iterations):\n",
    "    circ_pair = ansatz_circuit_pair(\n",
    "        left_most_symmetry_site,\n",
    "        num_symmetry_sites,\n",
    "        num_boundary_sites,\n",
    "        depth\n",
    "    )\n",
    "    \n",
    "    tnopt = qtn.TNOptimizer(\n",
    "        circ_pair,                        # the tensor network we want to optimize\n",
    "        loss,                     # the function we want to minimize\n",
    "        loss_constants={'problem_rdm': problem_rdm},  # supply U to the loss function as a constant TN\n",
    "        tags=['U3'],              # only optimize U3 tensors\n",
    "        #autodiff_backend='jax',   # use 'autograd' for non-compiled optimization\n",
    "        optimizer='BFGS',     # the optimization algorithm\n",
    "    )\n",
    "    \n",
    "    circ_opt = tnopt.optimize(\n",
    "        n=5000,\n",
    "        eps=1e-3,\n",
    "        jac=False,\n",
    "        hessp=False\n",
    "    )\n",
    "\n",
    "    bfgs_scores.append(tnopt.losses)"
   ]
  },
  {
   "cell_type": "code",
   "execution_count": 112,
   "id": "75e855ff-4ff9-412b-b236-6ec36c6dd40c",
   "metadata": {},
   "outputs": [],
   "source": [
    "bfgs_num_iters = [\n",
    "    np.argmax(np.array(l)<0.6)\n",
    "    for l in bfgs_scores\n",
    "]"
   ]
  },
  {
   "cell_type": "code",
   "execution_count": 113,
   "id": "a7cda861-34e0-47f2-82ba-cff2d70c49c7",
   "metadata": {},
   "outputs": [
    {
     "data": {
      "text/plain": [
       "[851, 999, 925, 1221, 629, 703, 777, 555, 666, 851]"
      ]
     },
     "execution_count": 113,
     "metadata": {},
     "output_type": "execute_result"
    }
   ],
   "source": [
    "bfgs_num_iters"
   ]
  },
  {
   "cell_type": "code",
   "execution_count": 103,
   "id": "90ead0df-1a61-4476-a597-4050d4d21387",
   "metadata": {},
   "outputs": [],
   "source": [
    "tnc_scores = list()"
   ]
  },
  {
   "cell_type": "code",
   "execution_count": 104,
   "id": "ccd7d485-4c17-4719-9578-9a18f6a9778f",
   "metadata": {},
   "outputs": [
    {
     "name": "stderr",
     "output_type": "stream",
     "text": [
      "/Users/kierancooney/.pyenv/versions/num_spt_venv_p11/lib/python3.11/site-packages/quimb/tensor/circuit.py:2587: FutureWarning: In future the tensor network returned by ``circ.uni`` will not be transposed as it is currently, to match the expectation from ``U = circ.uni.to_dense()`` behaving like ``U @ psi``. You can retain this behaviour with ``circ.get_uni(transposed=True)``.\n",
      "  warnings.warn(\n",
      "  0%|                                                                                                                 | 0/5000 [00:00<?, ?it/s]/Users/kierancooney/.pyenv/versions/num_spt_venv_p11/lib/python3.11/site-packages/quimb/tensor/optimize.py:1523: OptimizeWarning: Unknown solver options: maxiter\n",
      "  self.res = minimize(\n",
      "+0.553827941418 [best: +0.553820729256] : : 11951it [00:16, 706.03it/s]                                                                        \n",
      "+0.887832164764 [best: +0.887813508511] : : 7548it [00:10, 731.57it/s]                                                                         \n",
      "+0.552288174629 [best: +0.552272439003] : : 13357it [00:18, 729.15it/s]                                                                        \n",
      "+0.551466464996 [best: +0.551464796066] : : 9472it [00:11, 799.20it/s]                                                                         \n",
      "+0.553988099098 [best: +0.553982257843] : : 10915it [00:15, 718.06it/s]                                                                        \n",
      "+0.999999761581 [best: +0.999999761581] :   1%|▍                                                            | 37/5000 [00:00<00:39, 126.56it/s]\n",
      "+0.553511261940 [best: +0.553508520126] : : 13357it [00:17, 769.46it/s]                                                                        \n",
      "+0.551971673965 [best: +0.551962852478] : : 6734it [00:09, 679.71it/s]                                                                         \n",
      "+0.551310300827 [best: +0.551309466362] : : 9324it [00:11, 798.15it/s]                                                                         \n",
      "+0.929759383202 [best: +0.929720997810] : : 7548it [00:13, 549.53it/s]                                                                         \n"
     ]
    }
   ],
   "source": [
    "for _ in range(num_iterations):\n",
    "    circ_pair = ansatz_circuit_pair(\n",
    "        left_most_symmetry_site,\n",
    "        num_symmetry_sites,\n",
    "        num_boundary_sites,\n",
    "        depth\n",
    "    )\n",
    "    \n",
    "    tnopt = qtn.TNOptimizer(\n",
    "        circ_pair,                        # the tensor network we want to optimize\n",
    "        loss,                     # the function we want to minimize\n",
    "        loss_constants={'problem_rdm': problem_rdm},  # supply U to the loss function as a constant TN\n",
    "        tags=['U3'],              # only optimize U3 tensors\n",
    "        #autodiff_backend='jax',   # use 'autograd' for non-compiled optimization\n",
    "        optimizer='TNC',     # the optimization algorithm\n",
    "    )\n",
    "    \n",
    "    circ_opt = tnopt.optimize(\n",
    "        n=5000,\n",
    "        eps=1e-3,\n",
    "        jac=False,\n",
    "        hessp=False\n",
    "    )\n",
    "\n",
    "    tnc_scores.append(tnopt.losses)"
   ]
  },
  {
   "cell_type": "code",
   "execution_count": 105,
   "id": "4fe9462c-eaf5-4fd0-8adf-cc6d68bb40e6",
   "metadata": {},
   "outputs": [],
   "source": [
    "slsqp_scores = list()"
   ]
  },
  {
   "cell_type": "code",
   "execution_count": 106,
   "id": "244e3639-9c47-4abd-83dd-888731bafc8c",
   "metadata": {},
   "outputs": [
    {
     "name": "stderr",
     "output_type": "stream",
     "text": [
      "+0.999999821186 [best: +0.999999761581] :   1%|▍                                                            | 37/5000 [00:00<00:43, 114.21it/s]\n",
      "+0.551293909550 [best: +0.551293909550] :  18%|██████████▋                                                 | 894/5000 [00:01<00:07, 553.59it/s]\n",
      "+0.551297724247 [best: +0.551297068596] :  22%|████████████▊                                              | 1090/5000 [00:02<00:07, 516.11it/s]\n",
      "+0.551296651363 [best: +0.551296532154] :  18%|██████████▋                                                 | 895/5000 [00:01<00:08, 485.75it/s]\n",
      "+0.551300168037 [best: +0.551300168037] :  19%|███████████▏                                                | 929/5000 [00:02<00:11, 356.13it/s]\n",
      "+0.551294922829 [best: +0.551294922829] :  25%|██████████████▉                                            | 1266/5000 [00:02<00:08, 433.28it/s]\n",
      "+0.551295638084 [best: +0.551295638084] :  19%|███████████▋                                                | 969/5000 [00:02<00:09, 425.97it/s]\n",
      "+0.551293671131 [best: +0.551293671131] :  19%|███████████▏                                                | 928/5000 [00:01<00:07, 529.17it/s]\n",
      "+0.551331520081 [best: +0.551331520081] :  18%|██████████▊                                                 | 897/5000 [00:01<00:07, 521.04it/s]\n",
      "+0.551300287247 [best: +0.551300287247] :  28%|████████████████▋                                          | 1412/5000 [00:02<00:06, 529.82it/s]\n"
     ]
    }
   ],
   "source": [
    "for _ in range(num_iterations):\n",
    "    circ_pair = ansatz_circuit_pair(\n",
    "        left_most_symmetry_site,\n",
    "        num_symmetry_sites,\n",
    "        num_boundary_sites,\n",
    "        depth\n",
    "    )\n",
    "    \n",
    "    tnopt = qtn.TNOptimizer(\n",
    "        circ_pair,                        # the tensor network we want to optimize\n",
    "        loss,                     # the function we want to minimize\n",
    "        loss_constants={'problem_rdm': problem_rdm},  # supply U to the loss function as a constant TN\n",
    "        tags=['U3'],              # only optimize U3 tensors\n",
    "        #autodiff_backend='jax',   # use 'autograd' for non-compiled optimization\n",
    "        optimizer='SLSQP',     # the optimization algorithm\n",
    "    )\n",
    "    \n",
    "    circ_opt = tnopt.optimize(\n",
    "        n=5000,\n",
    "        eps=1e-3,\n",
    "        jac=False,\n",
    "        hessp=False\n",
    "    )\n",
    "\n",
    "    slsqp_scores.append(tnopt.losses)"
   ]
  },
  {
   "cell_type": "code",
   "execution_count": 122,
   "id": "3feb5823-d87f-4362-9b30-7b40a5462eaf",
   "metadata": {},
   "outputs": [],
   "source": [
    "slsqp_num_iters = [\n",
    "    np.argmax(np.array(l)<0.6)\n",
    "    for l in slsqp_scores\n",
    "]"
   ]
  },
  {
   "cell_type": "code",
   "execution_count": 124,
   "id": "46e8e84b-577a-4502-94a4-81a6d203d9be",
   "metadata": {},
   "outputs": [],
   "source": [
    "best_iters = [\n",
    "    *sub_best_iters,\n",
    "    np.array(l_bfgs_b_num_iters),\n",
    "    np.array(cg_num_iters),\n",
    "    np.array(bfgs_num_iters),\n",
    "    np.array(slsqp_num_iters)\n",
    "]"
   ]
  },
  {
   "cell_type": "code",
   "execution_count": 125,
   "id": "a30f64c4-d485-4a32-9bb0-c4d0d84cc3a4",
   "metadata": {},
   "outputs": [
    {
     "data": {
      "text/plain": [
       "[array([1339, 1458, 1563, 1473, 1115, 1591, 1669, 1376, 1345, 2194]),\n",
       " array([379, 950, 409, 412, 816, 347, 688, 438, 782, 747]),\n",
       " array([142, 144, 166, 159, 107, 170, 134, 153, 212, 121]),\n",
       " array([629, 666, 555, 518, 740, 592,   0, 407, 777, 814]),\n",
       " array([1147,  814,  777,  888, 1036,  888,  814, 3700, 1221,  777]),\n",
       " array([ 851,  999,  925, 1221,  629,  703,  777,  555,  666,  851]),\n",
       " array([  0, 337, 523, 373, 410, 483, 337, 335, 413, 704])]"
      ]
     },
     "execution_count": 125,
     "metadata": {},
     "output_type": "execute_result"
    }
   ],
   "source": [
    "best_iters"
   ]
  },
  {
   "cell_type": "code",
   "execution_count": 126,
   "id": "146defab-a7b8-4969-ab56-1cc091a6cc14",
   "metadata": {},
   "outputs": [],
   "source": [
    "mean_steps = [\n",
    "    np.sum(X)/np.count_nonzero(X)\n",
    "    for X in best_iters\n",
    "]"
   ]
  },
  {
   "cell_type": "code",
   "execution_count": 127,
   "id": "89b78d8e-9d3e-485f-907b-62d7f18c060b",
   "metadata": {},
   "outputs": [
    {
     "data": {
      "text/plain": [
       "[1512.3, 596.8, 150.8, 633.1111111111111, 1206.2, 817.7, 435.0]"
      ]
     },
     "execution_count": 127,
     "metadata": {},
     "output_type": "execute_result"
    }
   ],
   "source": [
    "mean_steps"
   ]
  },
  {
   "cell_type": "markdown",
   "id": "7467734c-8fdc-483e-93af-77933a0def43",
   "metadata": {},
   "source": [
    "Double check that Cobyla is doing that well."
   ]
  },
  {
   "cell_type": "code",
   "execution_count": 129,
   "id": "1fa824b8",
   "metadata": {},
   "outputs": [
    {
     "name": "stderr",
     "output_type": "stream",
     "text": [
      "+0.551334977150 [best: +0.551334857941] :  25%|███████████████                                            | 1274/5000 [00:02<00:06, 595.84it/s]\n",
      "+0.551319718361 [best: +0.551319301128] :  24%|█████████████▉                                             | 1179/5000 [00:01<00:06, 623.71it/s]\n",
      "+0.551325380802 [best: +0.551325082779] :  48%|████████████████████████████▎                              | 2395/5000 [00:04<00:04, 539.81it/s]\n",
      "+0.551293134689 [best: +0.551292896271] :  21%|████████████▎                                              | 1043/5000 [00:07<00:30, 131.79it/s]\n",
      "+0.551310002804 [best: +0.551309704781] :  21%|████████████▌                                              | 1069/5000 [00:01<00:06, 588.70it/s]\n",
      "+0.551302373409 [best: +0.551301836967] :  16%|█████████▎                                                  | 780/5000 [00:01<00:08, 519.58it/s]\n",
      "+0.551336646080 [best: +0.551336050034] :  29%|█████████████████▍                                         | 1473/5000 [00:02<00:06, 556.48it/s]\n",
      "+0.551306724548 [best: +0.551306247711] :  27%|███████████████▊                                           | 1342/5000 [00:02<00:05, 654.36it/s]\n",
      "+0.551291465759 [best: +0.551291108131] :  14%|████████▌                                                   | 716/5000 [00:01<00:08, 525.49it/s]\n",
      "+0.551316380501 [best: +0.551316022873] :  25%|██████████████▊                                            | 1257/5000 [00:02<00:06, 603.37it/s]\n",
      "+0.551296353340 [best: +0.551295995712] :  15%|█████████                                                   | 750/5000 [00:01<00:09, 433.47it/s]\n",
      "+0.551302790642 [best: +0.551302492619] :  16%|█████████▎                                                  | 780/5000 [00:01<00:06, 674.44it/s]\n",
      "+0.551284074783 [best: +0.551283717155] :  15%|█████████                                                   | 752/5000 [00:01<00:06, 638.46it/s]\n",
      "+0.551303267479 [best: +0.551303148270] :  16%|█████████▍                                                  | 783/5000 [00:01<00:07, 570.76it/s]\n",
      "+0.551299631596 [best: +0.551299452782] :  23%|█████████████▊                                             | 1173/5000 [00:01<00:05, 676.28it/s]\n",
      "+0.551297307014 [best: +0.551297187805] :  14%|████████▋                                                   | 720/5000 [00:01<00:07, 603.89it/s]\n",
      "+0.551301360130 [best: +0.551300883293] :  17%|██████████                                                  | 837/5000 [00:01<00:06, 678.70it/s]\n",
      "+0.551303982735 [best: +0.551303625107] :  21%|████████████▎                                              | 1041/5000 [00:01<00:05, 691.43it/s]\n",
      "+0.551305055618 [best: +0.551304876804] :  18%|██████████▌                                                 | 885/5000 [00:01<00:06, 668.57it/s]\n",
      "+0.551293611526 [best: +0.551293492317] :  20%|███████████▉                                               | 1010/5000 [00:01<00:06, 607.52it/s]\n",
      "+0.551291763783 [best: +0.551291584969] :  17%|██████████                                                  | 841/5000 [00:01<00:06, 672.79it/s]\n",
      "+0.551259994507 [best: +0.551259696484] :  16%|█████████▊                                                  | 815/5000 [00:01<00:06, 679.55it/s]\n",
      "+0.551294565201 [best: +0.551294326782] :  16%|█████████▍                                                  | 789/5000 [00:01<00:06, 683.94it/s]\n",
      "+0.551325201988 [best: +0.551324725151] :  27%|███████████████▊                                           | 1342/5000 [00:01<00:04, 739.49it/s]\n",
      "+0.551293492317 [best: +0.551293194294] :  15%|████████▋                                                   | 729/5000 [00:01<00:06, 637.86it/s]\n",
      "+0.551295638084 [best: +0.551295518875] :  13%|███████▉                                                    | 662/5000 [00:01<00:06, 650.54it/s]\n",
      "+0.551315426826 [best: +0.551315009594] :  22%|████████████▊                                              | 1081/5000 [00:01<00:05, 706.23it/s]\n",
      "+0.551300406456 [best: +0.551300168037] :  18%|██████████▊                                                 | 905/5000 [00:01<00:05, 693.00it/s]\n",
      "+0.551286756992 [best: +0.551286518574] :  18%|██████████▌                                                 | 877/5000 [00:01<00:06, 650.28it/s]\n",
      "+0.551346778870 [best: +0.551346600056] :  26%|███████████████▍                                           | 1308/5000 [00:01<00:05, 668.47it/s]\n"
     ]
    }
   ],
   "source": [
    "method = 'COBYLA'\n",
    "\n",
    "cobyla_test_scores = list()\n",
    "\n",
    "for _ in range(30):\n",
    "    circ_pair = ansatz_circuit_pair(\n",
    "        left_most_symmetry_site,\n",
    "        num_symmetry_sites,\n",
    "        num_boundary_sites,\n",
    "        depth\n",
    "    )\n",
    "    \n",
    "    tnopt = qtn.TNOptimizer(\n",
    "        circ_pair,                        # the tensor network we want to optimize\n",
    "        loss,                     # the function we want to minimize\n",
    "        loss_constants={'problem_rdm': problem_rdm},  # supply U to the loss function as a constant TN\n",
    "        tags=['U3'],              # only optimize U3 tensors\n",
    "        #autodiff_backend='jax',   # use 'autograd' for non-compiled optimization\n",
    "        optimizer=method,     # the optimization algorithm\n",
    "    )\n",
    "    \n",
    "    circ_opt = tnopt.optimize(\n",
    "        n=5000,\n",
    "        jac=False,\n",
    "        hessp=False\n",
    "    )\n",
    "\n",
    "    cobyla_test_scores.append(tnopt.losses)"
   ]
  },
  {
   "cell_type": "code",
   "execution_count": 130,
   "id": "fcc22b35-5dd5-417b-aeb4-7278decc6226",
   "metadata": {},
   "outputs": [],
   "source": [
    "cobyla_test_num_iters = [\n",
    "    np.argmax(np.array(l)<0.6)\n",
    "    for l in cobyla_test_scores\n",
    "]"
   ]
  },
  {
   "cell_type": "code",
   "execution_count": 132,
   "id": "39ef1161-f6c9-4fc9-bf0a-28e39609725e",
   "metadata": {},
   "outputs": [
    {
     "data": {
      "text/plain": [
       "137.8"
      ]
     },
     "execution_count": 132,
     "metadata": {},
     "output_type": "execute_result"
    }
   ],
   "source": [
    "np.mean(cobyla_test_num_iters)"
   ]
  },
  {
   "cell_type": "markdown",
   "id": "16da309d-b925-4354-80a7-0426c8fadd84",
   "metadata": {},
   "source": [
    "Looks good!"
   ]
  },
  {
   "cell_type": "markdown",
   "id": "44f95c11-52de-44f1-a15c-df4973851e57",
   "metadata": {},
   "source": [
    "# Gradient based methods"
   ]
  },
  {
   "cell_type": "code",
   "execution_count": 168,
   "id": "60d7593a-3f7a-45fd-a01d-c9701320c9a9",
   "metadata": {},
   "outputs": [],
   "source": [
    "grad_based_methods = [\n",
    "    #'Nelder-Mead',\n",
    "    'L-BFGS-B',\n",
    "    #'Powell',\n",
    "    'CG',\n",
    "    'BFGS',\n",
    "    'Newton-CG',\n",
    "    'TNC',\n",
    "    #'COBYLA',\n",
    "    'SLSQP',\n",
    "    'trust-constr',\n",
    "    'adam',\n",
    "    'nadam',\n",
    "    'rmsprop',\n",
    "    'sgd',\n",
    "    'cadam'\n",
    "]"
   ]
  },
  {
   "cell_type": "code",
   "execution_count": 135,
   "id": "1980385b",
   "metadata": {},
   "outputs": [],
   "source": [
    "num_iterations=10"
   ]
  },
  {
   "cell_type": "code",
   "execution_count": 159,
   "id": "9487bee3-0aa4-4fb7-912b-0b62229b5e8e",
   "metadata": {},
   "outputs": [],
   "source": [
    "from collections import defaultdict"
   ]
  },
  {
   "cell_type": "code",
   "execution_count": 171,
   "id": "eee5d9ab-1d85-4d05-ac6f-6087e28ddc43",
   "metadata": {},
   "outputs": [],
   "source": [
    "grad_scores = defaultdict(list)"
   ]
  },
  {
   "cell_type": "code",
   "execution_count": 172,
   "id": "27618df7",
   "metadata": {
    "scrolled": true
   },
   "outputs": [
    {
     "name": "stdout",
     "output_type": "stream",
     "text": [
      "L-BFGS-B\n",
      "CG\n"
     ]
    },
    {
     "name": "stderr",
     "output_type": "stream",
     "text": [
      "/Users/kierancooney/.pyenv/versions/num_spt_venv_p11/lib/python3.11/site-packages/quimb/tensor/optimize.py:135: UserWarning: dtype mismatch between input parameter and updated values. This can occur e.g. with jax and double precision arrays (in which case consider setting `jax.config.update(\"jax_enable_x64\", True)` at startup or using single precision parameters directly). For now casting from float32 to float64.\n",
      "  warnings.warn(\n",
      "/Users/kierancooney/.pyenv/versions/num_spt_venv_p11/lib/python3.11/site-packages/quimb/tensor/circuit.py:2587: FutureWarning: In future the tensor network returned by ``circ.uni`` will not be transposed as it is currently, to match the expectation from ``U = circ.uni.to_dense()`` behaving like ``U @ psi``. You can retain this behaviour with ``circ.get_uni(transposed=True)``.\n",
      "  warnings.warn(\n",
      "/Users/kierancooney/.pyenv/versions/num_spt_venv_p11/lib/python3.11/site-packages/quimb/tensor/optimize.py:135: UserWarning: dtype mismatch between input parameter and updated values. This can occur e.g. with jax and double precision arrays (in which case consider setting `jax.config.update(\"jax_enable_x64\", True)` at startup or using single precision parameters directly). For now casting from float32 to float64.\n",
      "  warnings.warn(\n",
      "/Users/kierancooney/.pyenv/versions/num_spt_venv_p11/lib/python3.11/site-packages/quimb/tensor/optimize.py:135: UserWarning: dtype mismatch between input parameter and updated values. This can occur e.g. with jax and double precision arrays (in which case consider setting `jax.config.update(\"jax_enable_x64\", True)` at startup or using single precision parameters directly). For now casting from float32 to float64.\n",
      "  warnings.warn(\n",
      "/Users/kierancooney/.pyenv/versions/num_spt_venv_p11/lib/python3.11/site-packages/quimb/tensor/circuit.py:2587: FutureWarning: In future the tensor network returned by ``circ.uni`` will not be transposed as it is currently, to match the expectation from ``U = circ.uni.to_dense()`` behaving like ``U @ psi``. You can retain this behaviour with ``circ.get_uni(transposed=True)``.\n",
      "  warnings.warn(\n",
      "/Users/kierancooney/.pyenv/versions/num_spt_venv_p11/lib/python3.11/site-packages/quimb/tensor/optimize.py:135: UserWarning: dtype mismatch between input parameter and updated values. This can occur e.g. with jax and double precision arrays (in which case consider setting `jax.config.update(\"jax_enable_x64\", True)` at startup or using single precision parameters directly). For now casting from float32 to float64.\n",
      "  warnings.warn(\n",
      "/Users/kierancooney/.pyenv/versions/num_spt_venv_p11/lib/python3.11/site-packages/quimb/tensor/optimize.py:135: UserWarning: dtype mismatch between input parameter and updated values. This can occur e.g. with jax and double precision arrays (in which case consider setting `jax.config.update(\"jax_enable_x64\", True)` at startup or using single precision parameters directly). For now casting from float32 to float64.\n",
      "  warnings.warn(\n",
      "/Users/kierancooney/.pyenv/versions/num_spt_venv_p11/lib/python3.11/site-packages/quimb/tensor/circuit.py:2587: FutureWarning: In future the tensor network returned by ``circ.uni`` will not be transposed as it is currently, to match the expectation from ``U = circ.uni.to_dense()`` behaving like ``U @ psi``. You can retain this behaviour with ``circ.get_uni(transposed=True)``.\n",
      "  warnings.warn(\n",
      "/Users/kierancooney/.pyenv/versions/num_spt_venv_p11/lib/python3.11/site-packages/quimb/tensor/optimize.py:135: UserWarning: dtype mismatch between input parameter and updated values. This can occur e.g. with jax and double precision arrays (in which case consider setting `jax.config.update(\"jax_enable_x64\", True)` at startup or using single precision parameters directly). For now casting from float32 to float64.\n",
      "  warnings.warn(\n",
      "/Users/kierancooney/.pyenv/versions/num_spt_venv_p11/lib/python3.11/site-packages/quimb/tensor/optimize.py:135: UserWarning: dtype mismatch between input parameter and updated values. This can occur e.g. with jax and double precision arrays (in which case consider setting `jax.config.update(\"jax_enable_x64\", True)` at startup or using single precision parameters directly). For now casting from float32 to float64.\n",
      "  warnings.warn(\n",
      "/Users/kierancooney/.pyenv/versions/num_spt_venv_p11/lib/python3.11/site-packages/quimb/tensor/circuit.py:2587: FutureWarning: In future the tensor network returned by ``circ.uni`` will not be transposed as it is currently, to match the expectation from ``U = circ.uni.to_dense()`` behaving like ``U @ psi``. You can retain this behaviour with ``circ.get_uni(transposed=True)``.\n",
      "  warnings.warn(\n",
      "/Users/kierancooney/.pyenv/versions/num_spt_venv_p11/lib/python3.11/site-packages/quimb/tensor/optimize.py:135: UserWarning: dtype mismatch between input parameter and updated values. This can occur e.g. with jax and double precision arrays (in which case consider setting `jax.config.update(\"jax_enable_x64\", True)` at startup or using single precision parameters directly). For now casting from float32 to float64.\n",
      "  warnings.warn(\n",
      "/Users/kierancooney/.pyenv/versions/num_spt_venv_p11/lib/python3.11/site-packages/quimb/tensor/optimize.py:135: UserWarning: dtype mismatch between input parameter and updated values. This can occur e.g. with jax and double precision arrays (in which case consider setting `jax.config.update(\"jax_enable_x64\", True)` at startup or using single precision parameters directly). For now casting from float32 to float64.\n",
      "  warnings.warn(\n",
      "/Users/kierancooney/.pyenv/versions/num_spt_venv_p11/lib/python3.11/site-packages/quimb/tensor/circuit.py:2587: FutureWarning: In future the tensor network returned by ``circ.uni`` will not be transposed as it is currently, to match the expectation from ``U = circ.uni.to_dense()`` behaving like ``U @ psi``. You can retain this behaviour with ``circ.get_uni(transposed=True)``.\n",
      "  warnings.warn(\n",
      "/Users/kierancooney/.pyenv/versions/num_spt_venv_p11/lib/python3.11/site-packages/quimb/tensor/optimize.py:135: UserWarning: dtype mismatch between input parameter and updated values. This can occur e.g. with jax and double precision arrays (in which case consider setting `jax.config.update(\"jax_enable_x64\", True)` at startup or using single precision parameters directly). For now casting from float32 to float64.\n",
      "  warnings.warn(\n",
      "/Users/kierancooney/.pyenv/versions/num_spt_venv_p11/lib/python3.11/site-packages/quimb/tensor/optimize.py:135: UserWarning: dtype mismatch between input parameter and updated values. This can occur e.g. with jax and double precision arrays (in which case consider setting `jax.config.update(\"jax_enable_x64\", True)` at startup or using single precision parameters directly). For now casting from float32 to float64.\n",
      "  warnings.warn(\n",
      "/Users/kierancooney/.pyenv/versions/num_spt_venv_p11/lib/python3.11/site-packages/quimb/tensor/circuit.py:2587: FutureWarning: In future the tensor network returned by ``circ.uni`` will not be transposed as it is currently, to match the expectation from ``U = circ.uni.to_dense()`` behaving like ``U @ psi``. You can retain this behaviour with ``circ.get_uni(transposed=True)``.\n",
      "  warnings.warn(\n",
      "/Users/kierancooney/.pyenv/versions/num_spt_venv_p11/lib/python3.11/site-packages/quimb/tensor/optimize.py:135: UserWarning: dtype mismatch between input parameter and updated values. This can occur e.g. with jax and double precision arrays (in which case consider setting `jax.config.update(\"jax_enable_x64\", True)` at startup or using single precision parameters directly). For now casting from float32 to float64.\n",
      "  warnings.warn(\n",
      "/Users/kierancooney/.pyenv/versions/num_spt_venv_p11/lib/python3.11/site-packages/quimb/tensor/optimize.py:135: UserWarning: dtype mismatch between input parameter and updated values. This can occur e.g. with jax and double precision arrays (in which case consider setting `jax.config.update(\"jax_enable_x64\", True)` at startup or using single precision parameters directly). For now casting from float32 to float64.\n",
      "  warnings.warn(\n",
      "/Users/kierancooney/.pyenv/versions/num_spt_venv_p11/lib/python3.11/site-packages/quimb/tensor/circuit.py:2587: FutureWarning: In future the tensor network returned by ``circ.uni`` will not be transposed as it is currently, to match the expectation from ``U = circ.uni.to_dense()`` behaving like ``U @ psi``. You can retain this behaviour with ``circ.get_uni(transposed=True)``.\n",
      "  warnings.warn(\n",
      "/Users/kierancooney/.pyenv/versions/num_spt_venv_p11/lib/python3.11/site-packages/quimb/tensor/optimize.py:135: UserWarning: dtype mismatch between input parameter and updated values. This can occur e.g. with jax and double precision arrays (in which case consider setting `jax.config.update(\"jax_enable_x64\", True)` at startup or using single precision parameters directly). For now casting from float32 to float64.\n",
      "  warnings.warn(\n",
      "/Users/kierancooney/.pyenv/versions/num_spt_venv_p11/lib/python3.11/site-packages/quimb/tensor/optimize.py:135: UserWarning: dtype mismatch between input parameter and updated values. This can occur e.g. with jax and double precision arrays (in which case consider setting `jax.config.update(\"jax_enable_x64\", True)` at startup or using single precision parameters directly). For now casting from float32 to float64.\n",
      "  warnings.warn(\n",
      "/Users/kierancooney/.pyenv/versions/num_spt_venv_p11/lib/python3.11/site-packages/quimb/tensor/circuit.py:2587: FutureWarning: In future the tensor network returned by ``circ.uni`` will not be transposed as it is currently, to match the expectation from ``U = circ.uni.to_dense()`` behaving like ``U @ psi``. You can retain this behaviour with ``circ.get_uni(transposed=True)``.\n",
      "  warnings.warn(\n",
      "/Users/kierancooney/.pyenv/versions/num_spt_venv_p11/lib/python3.11/site-packages/quimb/tensor/optimize.py:135: UserWarning: dtype mismatch between input parameter and updated values. This can occur e.g. with jax and double precision arrays (in which case consider setting `jax.config.update(\"jax_enable_x64\", True)` at startup or using single precision parameters directly). For now casting from float32 to float64.\n",
      "  warnings.warn(\n",
      "/Users/kierancooney/.pyenv/versions/num_spt_venv_p11/lib/python3.11/site-packages/quimb/tensor/optimize.py:135: UserWarning: dtype mismatch between input parameter and updated values. This can occur e.g. with jax and double precision arrays (in which case consider setting `jax.config.update(\"jax_enable_x64\", True)` at startup or using single precision parameters directly). For now casting from float32 to float64.\n",
      "  warnings.warn(\n",
      "/Users/kierancooney/.pyenv/versions/num_spt_venv_p11/lib/python3.11/site-packages/quimb/tensor/circuit.py:2587: FutureWarning: In future the tensor network returned by ``circ.uni`` will not be transposed as it is currently, to match the expectation from ``U = circ.uni.to_dense()`` behaving like ``U @ psi``. You can retain this behaviour with ``circ.get_uni(transposed=True)``.\n",
      "  warnings.warn(\n",
      "/Users/kierancooney/.pyenv/versions/num_spt_venv_p11/lib/python3.11/site-packages/quimb/tensor/optimize.py:135: UserWarning: dtype mismatch between input parameter and updated values. This can occur e.g. with jax and double precision arrays (in which case consider setting `jax.config.update(\"jax_enable_x64\", True)` at startup or using single precision parameters directly). For now casting from float32 to float64.\n",
      "  warnings.warn(\n",
      "/Users/kierancooney/.pyenv/versions/num_spt_venv_p11/lib/python3.11/site-packages/quimb/tensor/optimize.py:135: UserWarning: dtype mismatch between input parameter and updated values. This can occur e.g. with jax and double precision arrays (in which case consider setting `jax.config.update(\"jax_enable_x64\", True)` at startup or using single precision parameters directly). For now casting from float32 to float64.\n",
      "  warnings.warn(\n",
      "/Users/kierancooney/.pyenv/versions/num_spt_venv_p11/lib/python3.11/site-packages/quimb/tensor/circuit.py:2587: FutureWarning: In future the tensor network returned by ``circ.uni`` will not be transposed as it is currently, to match the expectation from ``U = circ.uni.to_dense()`` behaving like ``U @ psi``. You can retain this behaviour with ``circ.get_uni(transposed=True)``.\n",
      "  warnings.warn(\n"
     ]
    },
    {
     "name": "stdout",
     "output_type": "stream",
     "text": [
      "BFGS\n"
     ]
    },
    {
     "name": "stderr",
     "output_type": "stream",
     "text": [
      "/Users/kierancooney/.pyenv/versions/num_spt_venv_p11/lib/python3.11/site-packages/quimb/tensor/optimize.py:135: UserWarning: dtype mismatch between input parameter and updated values. This can occur e.g. with jax and double precision arrays (in which case consider setting `jax.config.update(\"jax_enable_x64\", True)` at startup or using single precision parameters directly). For now casting from float32 to float64.\n",
      "  warnings.warn(\n"
     ]
    },
    {
     "name": "stdout",
     "output_type": "stream",
     "text": [
      "Newton-CG\n"
     ]
    },
    {
     "name": "stderr",
     "output_type": "stream",
     "text": [
      "/Users/kierancooney/.pyenv/versions/num_spt_venv_p11/lib/python3.11/site-packages/quimb/tensor/optimize.py:135: UserWarning: dtype mismatch between input parameter and updated values. This can occur e.g. with jax and double precision arrays (in which case consider setting `jax.config.update(\"jax_enable_x64\", True)` at startup or using single precision parameters directly). For now casting from float32 to float64.\n",
      "  warnings.warn(\n",
      "/Users/kierancooney/.pyenv/versions/num_spt_venv_p11/lib/python3.11/site-packages/quimb/tensor/circuit.py:2587: FutureWarning: In future the tensor network returned by ``circ.uni`` will not be transposed as it is currently, to match the expectation from ``U = circ.uni.to_dense()`` behaving like ``U @ psi``. You can retain this behaviour with ``circ.get_uni(transposed=True)``.\n",
      "  warnings.warn(\n",
      "/Users/kierancooney/.pyenv/versions/num_spt_venv_p11/lib/python3.11/site-packages/quimb/tensor/optimize.py:135: UserWarning: dtype mismatch between input parameter and updated values. This can occur e.g. with jax and double precision arrays (in which case consider setting `jax.config.update(\"jax_enable_x64\", True)` at startup or using single precision parameters directly). For now casting from float32 to float64.\n",
      "  warnings.warn(\n",
      "/Users/kierancooney/.pyenv/versions/num_spt_venv_p11/lib/python3.11/site-packages/quimb/tensor/optimize.py:135: UserWarning: dtype mismatch between input parameter and updated values. This can occur e.g. with jax and double precision arrays (in which case consider setting `jax.config.update(\"jax_enable_x64\", True)` at startup or using single precision parameters directly). For now casting from float32 to float64.\n",
      "  warnings.warn(\n",
      "/Users/kierancooney/.pyenv/versions/num_spt_venv_p11/lib/python3.11/site-packages/quimb/tensor/circuit.py:2587: FutureWarning: In future the tensor network returned by ``circ.uni`` will not be transposed as it is currently, to match the expectation from ``U = circ.uni.to_dense()`` behaving like ``U @ psi``. You can retain this behaviour with ``circ.get_uni(transposed=True)``.\n",
      "  warnings.warn(\n",
      "/Users/kierancooney/.pyenv/versions/num_spt_venv_p11/lib/python3.11/site-packages/quimb/tensor/optimize.py:135: UserWarning: dtype mismatch between input parameter and updated values. This can occur e.g. with jax and double precision arrays (in which case consider setting `jax.config.update(\"jax_enable_x64\", True)` at startup or using single precision parameters directly). For now casting from float32 to float64.\n",
      "  warnings.warn(\n",
      "/Users/kierancooney/.pyenv/versions/num_spt_venv_p11/lib/python3.11/site-packages/quimb/tensor/optimize.py:135: UserWarning: dtype mismatch between input parameter and updated values. This can occur e.g. with jax and double precision arrays (in which case consider setting `jax.config.update(\"jax_enable_x64\", True)` at startup or using single precision parameters directly). For now casting from float32 to float64.\n",
      "  warnings.warn(\n",
      "/Users/kierancooney/.pyenv/versions/num_spt_venv_p11/lib/python3.11/site-packages/quimb/tensor/circuit.py:2587: FutureWarning: In future the tensor network returned by ``circ.uni`` will not be transposed as it is currently, to match the expectation from ``U = circ.uni.to_dense()`` behaving like ``U @ psi``. You can retain this behaviour with ``circ.get_uni(transposed=True)``.\n",
      "  warnings.warn(\n",
      "/Users/kierancooney/.pyenv/versions/num_spt_venv_p11/lib/python3.11/site-packages/quimb/tensor/optimize.py:135: UserWarning: dtype mismatch between input parameter and updated values. This can occur e.g. with jax and double precision arrays (in which case consider setting `jax.config.update(\"jax_enable_x64\", True)` at startup or using single precision parameters directly). For now casting from float32 to float64.\n",
      "  warnings.warn(\n",
      "/Users/kierancooney/.pyenv/versions/num_spt_venv_p11/lib/python3.11/site-packages/quimb/tensor/optimize.py:135: UserWarning: dtype mismatch between input parameter and updated values. This can occur e.g. with jax and double precision arrays (in which case consider setting `jax.config.update(\"jax_enable_x64\", True)` at startup or using single precision parameters directly). For now casting from float32 to float64.\n",
      "  warnings.warn(\n",
      "/Users/kierancooney/.pyenv/versions/num_spt_venv_p11/lib/python3.11/site-packages/quimb/tensor/circuit.py:2587: FutureWarning: In future the tensor network returned by ``circ.uni`` will not be transposed as it is currently, to match the expectation from ``U = circ.uni.to_dense()`` behaving like ``U @ psi``. You can retain this behaviour with ``circ.get_uni(transposed=True)``.\n",
      "  warnings.warn(\n",
      "/Users/kierancooney/.pyenv/versions/num_spt_venv_p11/lib/python3.11/site-packages/quimb/tensor/optimize.py:135: UserWarning: dtype mismatch between input parameter and updated values. This can occur e.g. with jax and double precision arrays (in which case consider setting `jax.config.update(\"jax_enable_x64\", True)` at startup or using single precision parameters directly). For now casting from float32 to float64.\n",
      "  warnings.warn(\n",
      "/Users/kierancooney/.pyenv/versions/num_spt_venv_p11/lib/python3.11/site-packages/quimb/tensor/optimize.py:135: UserWarning: dtype mismatch between input parameter and updated values. This can occur e.g. with jax and double precision arrays (in which case consider setting `jax.config.update(\"jax_enable_x64\", True)` at startup or using single precision parameters directly). For now casting from float32 to float64.\n",
      "  warnings.warn(\n",
      "/Users/kierancooney/.pyenv/versions/num_spt_venv_p11/lib/python3.11/site-packages/quimb/tensor/circuit.py:2587: FutureWarning: In future the tensor network returned by ``circ.uni`` will not be transposed as it is currently, to match the expectation from ``U = circ.uni.to_dense()`` behaving like ``U @ psi``. You can retain this behaviour with ``circ.get_uni(transposed=True)``.\n",
      "  warnings.warn(\n",
      "/Users/kierancooney/.pyenv/versions/num_spt_venv_p11/lib/python3.11/site-packages/quimb/tensor/optimize.py:135: UserWarning: dtype mismatch between input parameter and updated values. This can occur e.g. with jax and double precision arrays (in which case consider setting `jax.config.update(\"jax_enable_x64\", True)` at startup or using single precision parameters directly). For now casting from float32 to float64.\n",
      "  warnings.warn(\n",
      "/Users/kierancooney/.pyenv/versions/num_spt_venv_p11/lib/python3.11/site-packages/quimb/tensor/optimize.py:135: UserWarning: dtype mismatch between input parameter and updated values. This can occur e.g. with jax and double precision arrays (in which case consider setting `jax.config.update(\"jax_enable_x64\", True)` at startup or using single precision parameters directly). For now casting from float32 to float64.\n",
      "  warnings.warn(\n",
      "/Users/kierancooney/.pyenv/versions/num_spt_venv_p11/lib/python3.11/site-packages/quimb/tensor/circuit.py:2587: FutureWarning: In future the tensor network returned by ``circ.uni`` will not be transposed as it is currently, to match the expectation from ``U = circ.uni.to_dense()`` behaving like ``U @ psi``. You can retain this behaviour with ``circ.get_uni(transposed=True)``.\n",
      "  warnings.warn(\n",
      "/Users/kierancooney/.pyenv/versions/num_spt_venv_p11/lib/python3.11/site-packages/quimb/tensor/optimize.py:135: UserWarning: dtype mismatch between input parameter and updated values. This can occur e.g. with jax and double precision arrays (in which case consider setting `jax.config.update(\"jax_enable_x64\", True)` at startup or using single precision parameters directly). For now casting from float32 to float64.\n",
      "  warnings.warn(\n",
      "/Users/kierancooney/.pyenv/versions/num_spt_venv_p11/lib/python3.11/site-packages/quimb/tensor/optimize.py:135: UserWarning: dtype mismatch between input parameter and updated values. This can occur e.g. with jax and double precision arrays (in which case consider setting `jax.config.update(\"jax_enable_x64\", True)` at startup or using single precision parameters directly). For now casting from float32 to float64.\n",
      "  warnings.warn(\n",
      "/Users/kierancooney/.pyenv/versions/num_spt_venv_p11/lib/python3.11/site-packages/quimb/tensor/circuit.py:2587: FutureWarning: In future the tensor network returned by ``circ.uni`` will not be transposed as it is currently, to match the expectation from ``U = circ.uni.to_dense()`` behaving like ``U @ psi``. You can retain this behaviour with ``circ.get_uni(transposed=True)``.\n",
      "  warnings.warn(\n",
      "/Users/kierancooney/.pyenv/versions/num_spt_venv_p11/lib/python3.11/site-packages/quimb/tensor/optimize.py:135: UserWarning: dtype mismatch between input parameter and updated values. This can occur e.g. with jax and double precision arrays (in which case consider setting `jax.config.update(\"jax_enable_x64\", True)` at startup or using single precision parameters directly). For now casting from float32 to float64.\n",
      "  warnings.warn(\n",
      "/Users/kierancooney/.pyenv/versions/num_spt_venv_p11/lib/python3.11/site-packages/quimb/tensor/optimize.py:135: UserWarning: dtype mismatch between input parameter and updated values. This can occur e.g. with jax and double precision arrays (in which case consider setting `jax.config.update(\"jax_enable_x64\", True)` at startup or using single precision parameters directly). For now casting from float32 to float64.\n",
      "  warnings.warn(\n",
      "/Users/kierancooney/.pyenv/versions/num_spt_venv_p11/lib/python3.11/site-packages/quimb/tensor/circuit.py:2587: FutureWarning: In future the tensor network returned by ``circ.uni`` will not be transposed as it is currently, to match the expectation from ``U = circ.uni.to_dense()`` behaving like ``U @ psi``. You can retain this behaviour with ``circ.get_uni(transposed=True)``.\n",
      "  warnings.warn(\n",
      "/Users/kierancooney/.pyenv/versions/num_spt_venv_p11/lib/python3.11/site-packages/quimb/tensor/optimize.py:135: UserWarning: dtype mismatch between input parameter and updated values. This can occur e.g. with jax and double precision arrays (in which case consider setting `jax.config.update(\"jax_enable_x64\", True)` at startup or using single precision parameters directly). For now casting from float32 to float64.\n",
      "  warnings.warn(\n",
      "/Users/kierancooney/.pyenv/versions/num_spt_venv_p11/lib/python3.11/site-packages/quimb/tensor/optimize.py:135: UserWarning: dtype mismatch between input parameter and updated values. This can occur e.g. with jax and double precision arrays (in which case consider setting `jax.config.update(\"jax_enable_x64\", True)` at startup or using single precision parameters directly). For now casting from float32 to float64.\n",
      "  warnings.warn(\n",
      "/Users/kierancooney/.pyenv/versions/num_spt_venv_p11/lib/python3.11/site-packages/quimb/tensor/circuit.py:2587: FutureWarning: In future the tensor network returned by ``circ.uni`` will not be transposed as it is currently, to match the expectation from ``U = circ.uni.to_dense()`` behaving like ``U @ psi``. You can retain this behaviour with ``circ.get_uni(transposed=True)``.\n",
      "  warnings.warn(\n",
      "/Users/kierancooney/.pyenv/versions/num_spt_venv_p11/lib/python3.11/site-packages/quimb/tensor/optimize.py:135: UserWarning: dtype mismatch between input parameter and updated values. This can occur e.g. with jax and double precision arrays (in which case consider setting `jax.config.update(\"jax_enable_x64\", True)` at startup or using single precision parameters directly). For now casting from float32 to float64.\n",
      "  warnings.warn(\n",
      "/Users/kierancooney/.pyenv/versions/num_spt_venv_p11/lib/python3.11/site-packages/quimb/tensor/optimize.py:135: UserWarning: dtype mismatch between input parameter and updated values. This can occur e.g. with jax and double precision arrays (in which case consider setting `jax.config.update(\"jax_enable_x64\", True)` at startup or using single precision parameters directly). For now casting from float32 to float64.\n",
      "  warnings.warn(\n",
      "/Users/kierancooney/.pyenv/versions/num_spt_venv_p11/lib/python3.11/site-packages/quimb/tensor/circuit.py:2587: FutureWarning: In future the tensor network returned by ``circ.uni`` will not be transposed as it is currently, to match the expectation from ``U = circ.uni.to_dense()`` behaving like ``U @ psi``. You can retain this behaviour with ``circ.get_uni(transposed=True)``.\n",
      "  warnings.warn(\n",
      "/Users/kierancooney/.pyenv/versions/num_spt_venv_p11/lib/python3.11/site-packages/quimb/tensor/optimize.py:1523: OptimizeWarning: Unknown solver options: maxiter\n",
      "  self.res = minimize(\n"
     ]
    },
    {
     "name": "stdout",
     "output_type": "stream",
     "text": [
      "TNC\n"
     ]
    },
    {
     "name": "stderr",
     "output_type": "stream",
     "text": [
      "/Users/kierancooney/.pyenv/versions/num_spt_venv_p11/lib/python3.11/site-packages/quimb/tensor/optimize.py:135: UserWarning: dtype mismatch between input parameter and updated values. This can occur e.g. with jax and double precision arrays (in which case consider setting `jax.config.update(\"jax_enable_x64\", True)` at startup or using single precision parameters directly). For now casting from float32 to float64.\n",
      "  warnings.warn(\n"
     ]
    },
    {
     "name": "stdout",
     "output_type": "stream",
     "text": [
      "SLSQP\n",
      "trust-constr\n"
     ]
    },
    {
     "name": "stderr",
     "output_type": "stream",
     "text": [
      "/Users/kierancooney/.pyenv/versions/num_spt_venv_p11/lib/python3.11/site-packages/scipy/optimize/_differentiable_functions.py:231: UserWarning: delta_grad == 0.0. Check if the approximated function is linear. If the function is linear better results can be obtained by defining the Hessian as zero instead of using quasi-Newton approximations.\n",
      "  self.H.update(self.x - self.x_prev, self.g - self.g_prev)\n"
     ]
    },
    {
     "name": "stdout",
     "output_type": "stream",
     "text": [
      "adam\n",
      "nadam\n",
      "rmsprop\n",
      "sgd\n",
      "cadam\n"
     ]
    }
   ],
   "source": [
    "for method in grad_based_methods:\n",
    "    print(method)\n",
    "\n",
    "    for _ in range(num_iterations):\n",
    "        circ_pair = ansatz_circuit_pair(\n",
    "            left_most_symmetry_site,\n",
    "            num_symmetry_sites,\n",
    "            num_boundary_sites,\n",
    "            depth\n",
    "        )\n",
    "        \n",
    "        tnopt = qtn.TNOptimizer(\n",
    "            circ_pair,                        # the tensor network we want to optimize\n",
    "            loss,                     # the function we want to minimize\n",
    "            loss_constants={'problem_rdm': problem_rdm},  # supply U to the loss function as a constant TN\n",
    "            tags=['U3'],              # only optimize U3 tensors\n",
    "            #autodiff_backend='jax',   # use 'autograd' for non-compiled optimization\n",
    "            optimizer=method,     # the optimization algorithm\n",
    "            progbar=False\n",
    "        )\n",
    "        \n",
    "        circ_opt = tnopt.optimize(\n",
    "            n=2000,\n",
    "            jac=True,\n",
    "            hessp=False\n",
    "        )\n",
    "\n",
    "        grad_scores[method].append(tnopt.losses)"
   ]
  },
  {
   "cell_type": "code",
   "execution_count": 179,
   "id": "6370908c-dcc0-4a53-8e37-6214f563f122",
   "metadata": {},
   "outputs": [],
   "source": [
    "grad_num_iters = {\n",
    "    k: [np.argmax(np.array(l1)<0.6) for l1 in l]\n",
    "    for k, l in grad_scores.items()\n",
    "}"
   ]
  },
  {
   "cell_type": "code",
   "execution_count": 181,
   "id": "3793629d-3266-4b9f-80e6-82db7ed9de69",
   "metadata": {},
   "outputs": [
    {
     "data": {
      "text/plain": [
       "{'L-BFGS-B': [22, 34, 13, 13, 14, 28, 19, 14, 11, 16],\n",
       " 'CG': [30, 20, 21, 24, 21, 18, 27, 28, 13, 24],\n",
       " 'BFGS': [734, 0, 0, 0, 0, 0, 0, 0, 0, 0],\n",
       " 'Newton-CG': [0, 0, 0, 0, 0, 0, 0, 0, 0, 0],\n",
       " 'TNC': [49, 25, 50, 32, 104, 75, 58, 26, 116, 81],\n",
       " 'SLSQP': [17, 20, 20, 15, 18, 0, 22, 12, 9, 26],\n",
       " 'trust-constr': [44, 30, 43, 43, 40, 81, 88, 47, 51, 95],\n",
       " 'adam': [782, 826, 779, 760, 781, 629, 822, 882, 781, 1613],\n",
       " 'nadam': [847, 544, 1380, 1437, 690, 628, 1047, 690, 669, 604],\n",
       " 'rmsprop': [62, 64, 54, 66, 85, 77, 78, 49, 52, 84],\n",
       " 'sgd': [279, 1054, 0, 639, 272, 329, 467, 207, 1344, 1694],\n",
       " 'cadam': [1127, 1312, 978, 1251, 621, 787, 1133, 1371, 638, 748]}"
      ]
     },
     "execution_count": 181,
     "metadata": {},
     "output_type": "execute_result"
    }
   ],
   "source": [
    "grad_num_iters"
   ]
  },
  {
   "cell_type": "code",
   "execution_count": 183,
   "id": "fb67c6f0-60ac-4808-b391-252ec643d441",
   "metadata": {
    "scrolled": true
   },
   "outputs": [
    {
     "name": "stderr",
     "output_type": "stream",
     "text": [
      "/var/folders/r3/xn8xq5c17932m2g1b4r3dss80000gn/T/ipykernel_62794/1831848328.py:2: RuntimeWarning: invalid value encountered in scalar divide\n",
      "  k: np.sum(X)/np.count_nonzero(X) for k, X in grad_mean_num_iters.items()\n"
     ]
    }
   ],
   "source": [
    "grad_mean_num_iters = {\n",
    "    k: np.sum(X)/np.count_nonzero(X) for k, X in grad_mean_num_iters.items()\n",
    "}"
   ]
  },
  {
   "cell_type": "code",
   "execution_count": 184,
   "id": "1f28f310-a66a-4d4c-95c7-8002d01b099d",
   "metadata": {
    "scrolled": true
   },
   "outputs": [
    {
     "data": {
      "text/plain": [
       "{'L-BFGS-B': 18.4,\n",
       " 'CG': 22.6,\n",
       " 'BFGS': 73.4,\n",
       " 'Newton-CG': nan,\n",
       " 'TNC': 61.6,\n",
       " 'SLSQP': 15.9,\n",
       " 'trust-constr': 56.2,\n",
       " 'adam': 865.5,\n",
       " 'nadam': 853.6,\n",
       " 'rmsprop': 67.1,\n",
       " 'sgd': 628.5,\n",
       " 'cadam': 996.6}"
      ]
     },
     "execution_count": 184,
     "metadata": {},
     "output_type": "execute_result"
    }
   ],
   "source": [
    "grad_mean_num_iters"
   ]
  },
  {
   "cell_type": "markdown",
   "id": "c1ee5eb4-d766-41d4-89af-1dc728026a43",
   "metadata": {},
   "source": [
    "# Conclusion\n",
    "Looks like Cobyla for gradient free and L-BFGS-B with gradients win."
   ]
  },
  {
   "cell_type": "code",
   "execution_count": null,
   "id": "e9a28848-b92a-438a-af80-f5edcc046657",
   "metadata": {},
   "outputs": [],
   "source": []
  }
 ],
 "metadata": {
  "kernelspec": {
   "display_name": "num_spt_venv_p11",
   "language": "python",
   "name": "num_spt_venv_p11"
  },
  "language_info": {
   "codemirror_mode": {
    "name": "ipython",
    "version": 3
   },
   "file_extension": ".py",
   "mimetype": "text/x-python",
   "name": "python",
   "nbconvert_exporter": "python",
   "pygments_lexer": "ipython3",
   "version": "3.11.9"
  }
 },
 "nbformat": 4,
 "nbformat_minor": 5
}
