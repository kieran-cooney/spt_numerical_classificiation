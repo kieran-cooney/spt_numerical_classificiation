{
 "cells": [
  {
   "cell_type": "markdown",
   "id": "2381f8b5-5763-4968-b62a-c7361f84e8fc",
   "metadata": {},
   "source": [
    "# Save solutions\n",
    "Created 22/09/2025\n",
    "\n",
    "Objectives:\n",
    "* Save solutions for future use to extract phases."
   ]
  },
  {
   "cell_type": "markdown",
   "id": "725eaa22-d2a4-40d8-9a97-ad5bd49becb7",
   "metadata": {},
   "source": [
    "# Package imports"
   ]
  },
  {
   "cell_type": "code",
   "execution_count": 1,
   "id": "ecb41ea3-927f-4efa-aebe-ce15784aa037",
   "metadata": {},
   "outputs": [],
   "source": [
    "import sys"
   ]
  },
  {
   "cell_type": "code",
   "execution_count": 2,
   "id": "0375bd38-12e1-417a-908a-13fb540081f5",
   "metadata": {},
   "outputs": [],
   "source": [
    "sys.path.append(\"../../../\")"
   ]
  },
  {
   "cell_type": "code",
   "execution_count": 3,
   "id": "0cf49837-01b6-431a-b570-d7ed25903239",
   "metadata": {},
   "outputs": [],
   "source": [
    "from itertools import chain\n",
    "import re"
   ]
  },
  {
   "cell_type": "code",
   "execution_count": 4,
   "id": "f59344b7-d34e-47e4-99be-f5a2687f8176",
   "metadata": {},
   "outputs": [],
   "source": [
    "import h5py\n",
    "from tenpy.tools import hdf5_io\n",
    "import tenpy\n",
    "import tenpy.linalg.np_conserved as npc\n",
    "\n",
    "import os\n",
    "import pickle"
   ]
  },
  {
   "cell_type": "code",
   "execution_count": 5,
   "id": "19404619-d778-4cc3-8ee1-1db6f14b2043",
   "metadata": {},
   "outputs": [],
   "source": [
    "import numpy as np\n",
    "import jax.numpy as jnp\n",
    "\n",
    "import matplotlib.pyplot as plt\n",
    "import matplotlib"
   ]
  },
  {
   "cell_type": "code",
   "execution_count": 6,
   "id": "92eeb066-5463-4237-ad07-3c5a0d934f4f",
   "metadata": {},
   "outputs": [
    {
     "name": "stderr",
     "output_type": "stream",
     "text": [
      "/Users/kierancooney/.pyenv/versions/num_spt_venv_p11/lib/python3.11/site-packages/cotengra/hyperoptimizers/hyper.py:54: UserWarning: Couldn't find `optuna`, `cmaes`, or `nevergrad` so will use completely random sampling in place of hyper-optimization.\n",
      "  warnings.warn(\n",
      "/Users/kierancooney/.pyenv/versions/num_spt_venv_p11/lib/python3.11/site-packages/cotengra/hyperoptimizers/hyper.py:36: UserWarning: Couldn't import `kahypar` - skipping from default hyper optimizer and using basic `labels` method instead.\n",
      "  warnings.warn(\n",
      "/Users/kierancooney/.pyenv/versions/num_spt_venv_p11/lib/python3.11/site-packages/cotengra/hyperoptimizers/hyper.py:73: UserWarning: Couldn't find `optuna`, `cmaes`, or `nevergrad` so will use completely random sampling in place of hyper-optimization.\n",
      "  warnings.warn(\n"
     ]
    }
   ],
   "source": [
    "import quimb as qu\n",
    "import quimb.tensor as qtn\n",
    "from quimb.tensor.optimize import TNOptimizer"
   ]
  },
  {
   "cell_type": "markdown",
   "id": "71c44d61-9279-4312-9ba8-6f07fe68bf65",
   "metadata": {},
   "source": [
    "# Load data"
   ]
  },
  {
   "cell_type": "code",
   "execution_count": 7,
   "id": "c196fe74-d78a-4205-a41a-acfa510831d1",
   "metadata": {},
   "outputs": [],
   "source": [
    "DATA_DIR = r\"../../../data/transverse_cluster_200_site_dmrg\""
   ]
  },
  {
   "cell_type": "code",
   "execution_count": 8,
   "id": "e1a89621-91df-4f40-adef-f16acbdea3e9",
   "metadata": {},
   "outputs": [],
   "source": [
    "loaded_data = list()\n",
    "\n",
    "for local_file_name in os.listdir(DATA_DIR):\n",
    "    f_name = r\"{}/{}\".format(DATA_DIR, local_file_name, ignore_unknown=False)\n",
    "    with h5py.File(f_name, 'r') as f:\n",
    "        data = hdf5_io.load_from_hdf5(f)\n",
    "        loaded_data.append(data)"
   ]
  },
  {
   "cell_type": "code",
   "execution_count": 9,
   "id": "b805dcff-dfda-4ca4-ba53-c6a3d6822dd4",
   "metadata": {},
   "outputs": [],
   "source": [
    "b_parameters = sorted(list(d['paramters']['B'] for d in loaded_data))"
   ]
  },
  {
   "cell_type": "code",
   "execution_count": 10,
   "id": "827a26d6-a667-4828-bf55-db731e15d89d",
   "metadata": {},
   "outputs": [],
   "source": [
    "psi_dict = dict()"
   ]
  },
  {
   "cell_type": "code",
   "execution_count": 11,
   "id": "e0e8c819-03d8-4a47-b853-365d65364ac7",
   "metadata": {},
   "outputs": [],
   "source": [
    "for b in b_parameters:\n",
    "    psi = next(\n",
    "        d['wavefunction']\n",
    "        for d in loaded_data\n",
    "        if d['paramters']['B'] == b\n",
    "    )\n",
    "\n",
    "    rounded_b = round(b, 1)\n",
    "    psi_dict[rounded_b] = psi"
   ]
  },
  {
   "cell_type": "markdown",
   "id": "c63383d4-bbde-443a-92a9-97b613c0d54b",
   "metadata": {},
   "source": [
    "# Definitions"
   ]
  },
  {
   "cell_type": "code",
   "execution_count": 12,
   "id": "6e3a806a-6e88-4073-8cb4-a46345cdb810",
   "metadata": {},
   "outputs": [],
   "source": [
    "np_I = np.array([[1,0],[0,1]])\n",
    "np_X = np.array([[0,1],[1,0]])"
   ]
  },
  {
   "cell_type": "code",
   "execution_count": 13,
   "id": "ddc01bac-517f-4922-9df0-28b400f70a3e",
   "metadata": {},
   "outputs": [],
   "source": [
    "symmetry_actions = [\n",
    "    [np_I, np_I],\n",
    "    [np_I, np_X],\n",
    "    [np_X, np_I],\n",
    "    [np_X, np_X]\n",
    "]"
   ]
  },
  {
   "cell_type": "code",
   "execution_count": 14,
   "id": "10721838-5776-4da8-9618-01dd30494f13",
   "metadata": {},
   "outputs": [],
   "source": [
    "symmetry_labels = [\n",
    "    'II',\n",
    "    'IX',\n",
    "    'XI',\n",
    "    'XX'\n",
    "]"
   ]
  },
  {
   "cell_type": "code",
   "execution_count": 15,
   "id": "608e2be7-7003-4d86-8bdc-bb7519c6c30c",
   "metadata": {},
   "outputs": [],
   "source": [
    "def generate_problem_rdm(quimb_psi, symmetry_site_pairs, leftmost_symmetry_site,\n",
    "                         num_symmetry_sites, num_boundary_sites):\n",
    "    q_top = quimb_psi.copy(deep=True)\n",
    "    for i, s in symmetry_site_pairs:\n",
    "        q_top.gate(\n",
    "            s,\n",
    "            where=i,\n",
    "            contract=False,\n",
    "            inplace=True\n",
    "        )\n",
    "\n",
    "    \n",
    "    indices_to_map = list(chain(\n",
    "        range(leftmost_symmetry_site-num_boundary_sites, leftmost_symmetry_site),\n",
    "        range(leftmost_symmetry_site+num_symmetry_sites, leftmost_symmetry_site+num_symmetry_sites+num_boundary_sites)\n",
    "    ))\n",
    "\n",
    "    index_mapping = {f'k{i}': f'b{i}' for i in indices_to_map}\n",
    "\n",
    "    q_bottom = (\n",
    "        quimb_psi\n",
    "        .copy()\n",
    "        .reindex(index_mapping, inplace=True)\n",
    "        .conj()\n",
    "    )\n",
    "\n",
    "    sites_to_contract = {\n",
    "        'left': list(range(leftmost_symmetry_site-num_boundary_sites)),\n",
    "        'middle': list(range(leftmost_symmetry_site, leftmost_symmetry_site+num_symmetry_sites)),\n",
    "        'right': list(range(leftmost_symmetry_site+num_symmetry_sites+num_boundary_sites, quimb_psi.L))\n",
    "    }\n",
    "\n",
    "    tags_to_contract = {\n",
    "        k: [f'I{i}' for i in v]\n",
    "        for k, v in sites_to_contract.items()\n",
    "    }\n",
    "\n",
    "    tn = (q_top & q_bottom)\n",
    "\n",
    "    tnc = (\n",
    "        tn\n",
    "        .contract(tags_to_contract['left'])\n",
    "        .contract(tags_to_contract['middle'])\n",
    "        .contract(tags_to_contract['right'])\n",
    "    )\n",
    "\n",
    "    return tnc"
   ]
  },
  {
   "cell_type": "markdown",
   "id": "56525c31-f37b-4245-b2ec-82185feed908",
   "metadata": {},
   "source": [
    "## Optimisation functions"
   ]
  },
  {
   "cell_type": "code",
   "execution_count": 16,
   "id": "636e19bb-bf5a-4222-b655-736dcf37a4e8",
   "metadata": {},
   "outputs": [],
   "source": [
    "def loss(circ_pair, problem_rdm):\n",
    "    c = (problem_rdm & circ_pair)^...\n",
    "\n",
    "    c_abs_squared = (\n",
    "        c\n",
    "        *jnp.conjugate(c)\n",
    "    )\n",
    "    c_abs_squared = jnp.real(c_abs_squared)\n",
    "\n",
    "    out = 1-c_abs_squared\n",
    "\n",
    "    return out"
   ]
  },
  {
   "cell_type": "markdown",
   "id": "3cd09702-7733-4316-bde1-746c6866a509",
   "metadata": {},
   "source": [
    "## Gate & circuit functions"
   ]
  },
  {
   "cell_type": "code",
   "execution_count": 17,
   "id": "8698c005-aed2-47bb-9822-53c8a1147b90",
   "metadata": {},
   "outputs": [],
   "source": [
    "def single_qubit_layer(circ, gate_round=None):\n",
    "    \"\"\"Apply a parametrizable layer of single qubit ``U3`` gates.\n",
    "    \"\"\"\n",
    "    for i in range(circ.N):\n",
    "        # initialize with random parameters\n",
    "        params = qu.randn(3, dist='uniform')\n",
    "        circ.apply_gate(\n",
    "            'U3',\n",
    "            *params,\n",
    "            i,\n",
    "            gate_round=gate_round,\n",
    "            parametrize=True\n",
    "        )"
   ]
  },
  {
   "cell_type": "code",
   "execution_count": 18,
   "id": "ff171d0e-3098-4c9a-92ae-004bb2ded616",
   "metadata": {},
   "outputs": [],
   "source": [
    "def two_qubit_layer(circ, gate2='CZ', start=0, gate_round=None):\n",
    "    \"\"\"Apply a layer of constant entangling gates.\n",
    "    \"\"\"\n",
    "    num_sites = circ.N # Assuming this is even\n",
    "    sites = [\n",
    "        i % num_sites\n",
    "        for i in range(start, start + num_sites)\n",
    "    ]\n",
    "    \n",
    "    site_pairs = list(zip(sites[::2], sites[1::2]))\n",
    "\n",
    "    for i, j in site_pairs:\n",
    "        circ.apply_gate(\n",
    "            gate2,\n",
    "            i,\n",
    "            j,\n",
    "            gate_round=gate_round\n",
    "        )"
   ]
  },
  {
   "cell_type": "code",
   "execution_count": 19,
   "id": "1f7f3dad-adf6-43cf-b57f-51c38330401e",
   "metadata": {},
   "outputs": [],
   "source": [
    "def ansatz_circuit(n, depth, first_site=0, gate2='CZ',\n",
    "                   gate_tag=None, **kwargs):\n",
    "    \"\"\"Construct a circuit of single qubit and entangling layers.\n",
    "    \"\"\"\n",
    "    circ = qtn.Circuit(n, **kwargs)\n",
    "\n",
    "    for r in range(depth):\n",
    "        # single qubit gate layer\n",
    "        single_qubit_layer(circ, gate_round=r)\n",
    "\n",
    "        # alternate between forward and backward CZ layers\n",
    "        two_qubit_layer(\n",
    "            circ, gate2=gate2, gate_round=r, start=r % 2)\n",
    "\n",
    "    # add a final single qubit layer\n",
    "    single_qubit_layer(circ, gate_round=r + 1)\n",
    "\n",
    "    circ = circ.get_uni(transposed=True)\n",
    "\n",
    "    if gate_tag is not None:\n",
    "        for t in circ.tensors:\n",
    "            t.add_tag(gate_tag)\n",
    "\n",
    "    if first_site != 0:\n",
    "        index_labels = ['k', 'b']\n",
    "\n",
    "        index_map = {\n",
    "            f'{l}{i}': f'{l}{i+first_site}'\n",
    "            for i in range(n)\n",
    "            for l in index_labels\n",
    "        }\n",
    "\n",
    "        circ.reindex(index_map, inplace=True)\n",
    "\n",
    "    return circ"
   ]
  },
  {
   "cell_type": "code",
   "execution_count": 20,
   "id": "84687474-a561-4d60-b4ad-62c2bd89dbb3",
   "metadata": {},
   "outputs": [],
   "source": [
    "def ansatz_circuit_pair(leftmost_symmetry_site,\n",
    "    num_symmetry_sites, num_boundary_sites, depth,\n",
    "    gate2='CZ', **kwargs):\n",
    "    \"\"\"Construct a circuit of single qubit and entangling layers.\n",
    "    \"\"\"\n",
    "    left_start_site = leftmost_symmetry_site-num_boundary_sites\n",
    "    right_start_site = leftmost_symmetry_site+num_symmetry_sites\n",
    "\n",
    "    left_circuit = ansatz_circuit(\n",
    "        num_boundary_sites,\n",
    "        depth,\n",
    "        first_site=left_start_site,\n",
    "        gate2=gate2,\n",
    "        gate_tag='left',\n",
    "        **kwargs\n",
    "    )\n",
    "\n",
    "    right_circuit = ansatz_circuit(\n",
    "        num_boundary_sites,\n",
    "        depth,\n",
    "        first_site=right_start_site,\n",
    "        gate2=gate2,\n",
    "        gate_tag='right',\n",
    "        **kwargs\n",
    "    )\n",
    "\n",
    "    circ_pair = left_circuit & right_circuit\n",
    "\n",
    "    return circ_pair"
   ]
  },
  {
   "cell_type": "code",
   "execution_count": 21,
   "id": "ad93555d-f4af-4fa2-96fc-2a54f95466e0",
   "metadata": {},
   "outputs": [],
   "source": [
    "def split_circ_pair(circ_pair):\n",
    "    left_circuit = qtn.TensorNetwork(\n",
    "        list(map(circ_pair.tensor_map.__getitem__, circ_pair.tag_map['left']))\n",
    "    )\n",
    "\n",
    "    right_circuit = qtn.TensorNetwork(\n",
    "        list(map(circ_pair.tensor_map.__getitem__, circ_pair.tag_map['right']))\n",
    "    )\n",
    "\n",
    "    return (left_circuit, right_circuit)"
   ]
  },
  {
   "cell_type": "markdown",
   "id": "be393740-045d-47c9-b4b5-04bcd8d08446",
   "metadata": {},
   "source": [
    "# Sweep"
   ]
  },
  {
   "cell_type": "code",
   "execution_count": 22,
   "id": "f211636f-46ba-4397-9673-2da5cbd07650",
   "metadata": {},
   "outputs": [],
   "source": [
    "num_boundary_sites=2\n",
    "left_most_symmetry_site=60\n",
    "num_symmetry_sites=80\n",
    "\n",
    "total_physical_dim = 2**num_boundary_sites"
   ]
  },
  {
   "cell_type": "code",
   "execution_count": 23,
   "id": "70e067b5-5c21-4054-b28a-7afb3d0faa47",
   "metadata": {},
   "outputs": [],
   "source": [
    "n=2\n",
    "depth=2\n",
    "gate2='CZ'"
   ]
  },
  {
   "cell_type": "code",
   "execution_count": 25,
   "id": "86e223c2-2558-47f8-895e-354adb180a42",
   "metadata": {},
   "outputs": [],
   "source": [
    "num_iterations=300"
   ]
  },
  {
   "cell_type": "code",
   "execution_count": 27,
   "id": "76f05b02-884c-4c3e-b7c9-1d8e1c34c123",
   "metadata": {
    "scrolled": true
   },
   "outputs": [
    {
     "name": "stdout",
     "output_type": "stream",
     "text": [
      "0.0\n",
      "-> 1\n",
      "Saving: solutions/0.0_1.pickle\n",
      "-> 2\n",
      "Saving: solutions/0.0_2.pickle\n",
      "-> 3\n",
      "Saving: solutions/0.0_3.pickle\n",
      "0.1\n",
      "-> 1\n",
      "Saving: solutions/0.1_1.pickle\n",
      "-> 2\n",
      "Saving: solutions/0.1_2.pickle\n",
      "-> 3\n",
      "Saving: solutions/0.1_3.pickle\n",
      "0.2\n",
      "-> 1\n",
      "Saving: solutions/0.2_1.pickle\n",
      "-> 2\n",
      "Saving: solutions/0.2_2.pickle\n",
      "-> 3\n",
      "Saving: solutions/0.2_3.pickle\n",
      "0.3\n",
      "-> 1\n",
      "Saving: solutions/0.3_1.pickle\n",
      "-> 2\n",
      "Saving: solutions/0.3_2.pickle\n",
      "-> 3\n",
      "Saving: solutions/0.3_3.pickle\n",
      "0.4\n",
      "-> 1\n",
      "Saving: solutions/0.4_1.pickle\n",
      "-> 2\n",
      "Saving: solutions/0.4_2.pickle\n",
      "-> 3\n",
      "Saving: solutions/0.4_3.pickle\n",
      "0.5\n",
      "-> 1\n",
      "Saving: solutions/0.5_1.pickle\n",
      "-> 2\n",
      "Saving: solutions/0.5_2.pickle\n",
      "-> 3\n",
      "Saving: solutions/0.5_3.pickle\n",
      "0.6\n",
      "-> 1\n",
      "Saving: solutions/0.6_1.pickle\n",
      "-> 2\n",
      "Saving: solutions/0.6_2.pickle\n",
      "-> 3\n",
      "Saving: solutions/0.6_3.pickle\n",
      "0.7\n",
      "-> 1\n",
      "Saving: solutions/0.7_1.pickle\n",
      "-> 2\n",
      "Saving: solutions/0.7_2.pickle\n",
      "-> 3\n",
      "Saving: solutions/0.7_3.pickle\n",
      "0.8\n",
      "-> 1\n",
      "Saving: solutions/0.8_1.pickle\n",
      "-> 2\n",
      "Saving: solutions/0.8_2.pickle\n",
      "-> 3\n",
      "Saving: solutions/0.8_3.pickle\n",
      "0.9\n",
      "-> 1\n",
      "Saving: solutions/0.9_1.pickle\n",
      "-> 2\n",
      "Saving: solutions/0.9_2.pickle\n",
      "-> 3\n",
      "Saving: solutions/0.9_3.pickle\n",
      "1.0\n",
      "-> 1\n",
      "Saving: solutions/1.0_1.pickle\n",
      "-> 2\n",
      "Saving: solutions/1.0_2.pickle\n",
      "-> 3\n",
      "Saving: solutions/1.0_3.pickle\n",
      "1.1\n",
      "-> 1\n",
      "Saving: solutions/1.1_1.pickle\n",
      "-> 2\n",
      "Saving: solutions/1.1_2.pickle\n",
      "-> 3\n",
      "Saving: solutions/1.1_3.pickle\n",
      "1.2\n",
      "-> 1\n",
      "Saving: solutions/1.2_1.pickle\n",
      "-> 2\n",
      "Saving: solutions/1.2_2.pickle\n",
      "-> 3\n",
      "Saving: solutions/1.2_3.pickle\n",
      "1.3\n",
      "-> 1\n",
      "Saving: solutions/1.3_1.pickle\n",
      "-> 2\n",
      "Saving: solutions/1.3_2.pickle\n",
      "-> 3\n",
      "Saving: solutions/1.3_3.pickle\n",
      "1.4\n",
      "-> 1\n",
      "Saving: solutions/1.4_1.pickle\n",
      "-> 2\n",
      "Saving: solutions/1.4_2.pickle\n",
      "-> 3\n",
      "Saving: solutions/1.4_3.pickle\n",
      "1.5\n",
      "-> 1\n",
      "Saving: solutions/1.5_1.pickle\n",
      "-> 2\n",
      "Saving: solutions/1.5_2.pickle\n",
      "-> 3\n",
      "Saving: solutions/1.5_3.pickle\n",
      "1.6\n",
      "-> 1\n",
      "Saving: solutions/1.6_1.pickle\n",
      "-> 2\n",
      "Saving: solutions/1.6_2.pickle\n",
      "-> 3\n",
      "Saving: solutions/1.6_3.pickle\n",
      "1.7\n",
      "-> 1\n",
      "Saving: solutions/1.7_1.pickle\n",
      "-> 2\n",
      "Saving: solutions/1.7_2.pickle\n",
      "-> 3\n",
      "Saving: solutions/1.7_3.pickle\n",
      "1.8\n",
      "-> 1\n",
      "Saving: solutions/1.8_1.pickle\n",
      "-> 2\n",
      "Saving: solutions/1.8_2.pickle\n",
      "-> 3\n",
      "Saving: solutions/1.8_3.pickle\n",
      "1.9\n",
      "-> 1\n",
      "Saving: solutions/1.9_1.pickle\n",
      "-> 2\n",
      "Saving: solutions/1.9_2.pickle\n",
      "-> 3\n",
      "Saving: solutions/1.9_3.pickle\n",
      "2.0\n",
      "-> 1\n",
      "Saving: solutions/2.0_1.pickle\n",
      "-> 2\n",
      "Saving: solutions/2.0_2.pickle\n",
      "-> 3\n",
      "Saving: solutions/2.0_3.pickle\n"
     ]
    }
   ],
   "source": [
    "for k1, mps_psi in psi_dict.items():\n",
    "    print(k1)\n",
    "\n",
    "    psi_arrays = list()\n",
    "    psi_arrays.append(mps_psi.get_B(0, 'Th')[0, ...].to_ndarray())\n",
    "    for i in range(1, mps_psi.L-1):\n",
    "        psi_arrays.append(mps_psi.get_B(i).to_ndarray())\n",
    "    psi_arrays.append(mps_psi.get_B(mps_psi.L-1)[..., 0].to_ndarray())\n",
    "\n",
    "    q1 = (\n",
    "        qtn\n",
    "        .tensor_1d\n",
    "        .MatrixProductState(psi_arrays, shape='lpr')\n",
    "    )\n",
    "\n",
    "    for k2, bs in enumerate(symmetry_actions[1:], start=1):\n",
    "        print(f'-> {k2}')\n",
    "        symmetry_site_pairs = (\n",
    "            [(i, bs[0]) for i in range(left_most_symmetry_site, left_most_symmetry_site+num_symmetry_sites, 2)]\n",
    "            + [(i, bs[1]) for i in range(left_most_symmetry_site+1, left_most_symmetry_site+num_symmetry_sites+1, 2)]\n",
    "        )\n",
    "\n",
    "        problem_rdm = generate_problem_rdm(\n",
    "            q1,\n",
    "            symmetry_site_pairs,\n",
    "            left_most_symmetry_site,\n",
    "            num_symmetry_sites,\n",
    "            num_boundary_sites\n",
    "        )\n",
    "\n",
    "        circ_pair = ansatz_circuit_pair(\n",
    "            left_most_symmetry_site,\n",
    "            num_symmetry_sites,\n",
    "            num_boundary_sites,\n",
    "            depth\n",
    "        )\n",
    "    \n",
    "        optmzr = qtn.optimize.TNOptimizer(\n",
    "            circ_pair,                                \n",
    "            loss_fn=loss,\n",
    "            loss_constants={'problem_rdm': problem_rdm},\n",
    "            #autodiff_backend='jax',\n",
    "            tags=['U3'],\n",
    "            optimizer='COBYLA',\n",
    "            progbar=False\n",
    "        )\n",
    "\n",
    "        optmzr.optimize(\n",
    "            num_iterations,\n",
    "            jac=False,\n",
    "            hessp=False\n",
    "        )\n",
    "\n",
    "        final_score = jnp.min(np.array(optmzr.losses))\n",
    "\n",
    "        circ_pair = optmzr.get_tn_opt()\n",
    "        cl, cr = split_circ_pair(circ_pair)\n",
    "        circ_params = (\n",
    "            cl.get_params(),\n",
    "            cr.get_params()\n",
    "        )\n",
    "\n",
    "        file_name = rf'solutions/{k1}_{k2}.pickle'\n",
    "        print('Saving: ' + file_name)\n",
    "\n",
    "        with open(file_name, 'wb') as file:\n",
    "            pickle.dump([final_score, circ_params], file)"
   ]
  }
 ],
 "metadata": {
  "kernelspec": {
   "display_name": "num_spt_venv_p11",
   "language": "python",
   "name": "num_spt_venv_p11"
  },
  "language_info": {
   "codemirror_mode": {
    "name": "ipython",
    "version": 3
   },
   "file_extension": ".py",
   "mimetype": "text/x-python",
   "name": "python",
   "nbconvert_exporter": "python",
   "pygments_lexer": "ipython3",
   "version": "3.11.9"
  }
 },
 "nbformat": 4,
 "nbformat_minor": 5
}
