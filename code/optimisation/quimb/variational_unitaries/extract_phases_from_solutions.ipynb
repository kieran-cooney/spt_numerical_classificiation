{
 "cells": [
  {
   "cell_type": "markdown",
   "id": "6a2dac7f-2bbc-4993-8a37-4dc5bd7c4f33",
   "metadata": {},
   "source": [
    "# Extract phases from solutions\n",
    "Created 22/09/2024\n",
    "\n",
    "Objectives:\n",
    "* Extract the SPT phase from the states using solved boundary operators."
   ]
  },
  {
   "cell_type": "markdown",
   "id": "725eaa22-d2a4-40d8-9a97-ad5bd49becb7",
   "metadata": {},
   "source": [
    "# Package imports"
   ]
  },
  {
   "cell_type": "code",
   "execution_count": 1,
   "id": "ecb41ea3-927f-4efa-aebe-ce15784aa037",
   "metadata": {},
   "outputs": [],
   "source": [
    "import sys"
   ]
  },
  {
   "cell_type": "code",
   "execution_count": 2,
   "id": "0375bd38-12e1-417a-908a-13fb540081f5",
   "metadata": {},
   "outputs": [],
   "source": [
    "sys.path.append(\"../../\")"
   ]
  },
  {
   "cell_type": "code",
   "execution_count": 3,
   "id": "0cf49837-01b6-431a-b570-d7ed25903239",
   "metadata": {},
   "outputs": [],
   "source": [
    "from itertools import chain, combinations\n",
    "from collections import defaultdict\n",
    "import re"
   ]
  },
  {
   "cell_type": "code",
   "execution_count": 4,
   "id": "f59344b7-d34e-47e4-99be-f5a2687f8176",
   "metadata": {},
   "outputs": [],
   "source": [
    "import h5py\n",
    "from tenpy.tools import hdf5_io\n",
    "import tenpy\n",
    "import tenpy.linalg.np_conserved as npc\n",
    "\n",
    "import os\n",
    "import pickle"
   ]
  },
  {
   "cell_type": "code",
   "execution_count": 5,
   "id": "19404619-d778-4cc3-8ee1-1db6f14b2043",
   "metadata": {},
   "outputs": [],
   "source": [
    "import numpy as np\n",
    "import jax.numpy as jnp\n",
    "\n",
    "import pandas as pd\n",
    "\n",
    "import matplotlib.pyplot as plt\n",
    "import matplotlib"
   ]
  },
  {
   "cell_type": "code",
   "execution_count": 6,
   "id": "92eeb066-5463-4237-ad07-3c5a0d934f4f",
   "metadata": {},
   "outputs": [
    {
     "name": "stderr",
     "output_type": "stream",
     "text": [
      "/Users/kierancooney/.pyenv/versions/num_spt_venv_p11/lib/python3.11/site-packages/cotengra/hyperoptimizers/hyper.py:54: UserWarning: Couldn't find `optuna`, `cmaes`, or `nevergrad` so will use completely random sampling in place of hyper-optimization.\n",
      "  warnings.warn(\n",
      "/Users/kierancooney/.pyenv/versions/num_spt_venv_p11/lib/python3.11/site-packages/cotengra/hyperoptimizers/hyper.py:36: UserWarning: Couldn't import `kahypar` - skipping from default hyper optimizer and using basic `labels` method instead.\n",
      "  warnings.warn(\n",
      "/Users/kierancooney/.pyenv/versions/num_spt_venv_p11/lib/python3.11/site-packages/cotengra/hyperoptimizers/hyper.py:73: UserWarning: Couldn't find `optuna`, `cmaes`, or `nevergrad` so will use completely random sampling in place of hyper-optimization.\n",
      "  warnings.warn(\n"
     ]
    }
   ],
   "source": [
    "import quimb as qu\n",
    "import quimb.tensor as qtn\n",
    "from quimb.tensor.optimize import TNOptimizer"
   ]
  },
  {
   "cell_type": "markdown",
   "id": "71c44d61-9279-4312-9ba8-6f07fe68bf65",
   "metadata": {},
   "source": [
    "# Load data"
   ]
  },
  {
   "cell_type": "code",
   "execution_count": 7,
   "id": "c196fe74-d78a-4205-a41a-acfa510831d1",
   "metadata": {},
   "outputs": [],
   "source": [
    "DATA_DIR = r\"../../../data/transverse_cluster_200_site_dmrg\""
   ]
  },
  {
   "cell_type": "code",
   "execution_count": 8,
   "id": "e1a89621-91df-4f40-adef-f16acbdea3e9",
   "metadata": {},
   "outputs": [],
   "source": [
    "loaded_data = list()\n",
    "\n",
    "for local_file_name in os.listdir(DATA_DIR):\n",
    "    f_name = r\"{}/{}\".format(DATA_DIR, local_file_name, ignore_unknown=False)\n",
    "    with h5py.File(f_name, 'r') as f:\n",
    "        data = hdf5_io.load_from_hdf5(f)\n",
    "        loaded_data.append(data)"
   ]
  },
  {
   "cell_type": "code",
   "execution_count": 9,
   "id": "b805dcff-dfda-4ca4-ba53-c6a3d6822dd4",
   "metadata": {},
   "outputs": [],
   "source": [
    "b_parameters = sorted(list(d['paramters']['B'] for d in loaded_data))"
   ]
  },
  {
   "cell_type": "code",
   "execution_count": 10,
   "id": "827a26d6-a667-4828-bf55-db731e15d89d",
   "metadata": {},
   "outputs": [],
   "source": [
    "psi_dict = dict()"
   ]
  },
  {
   "cell_type": "code",
   "execution_count": 11,
   "id": "e0e8c819-03d8-4a47-b853-365d65364ac7",
   "metadata": {},
   "outputs": [],
   "source": [
    "for b in b_parameters:\n",
    "    psi = next(\n",
    "        d['wavefunction']\n",
    "        for d in loaded_data\n",
    "        if d['paramters']['B'] == b\n",
    "    )\n",
    "\n",
    "    rounded_b = round(b, 1)\n",
    "    psi_dict[rounded_b] = psi"
   ]
  },
  {
   "cell_type": "markdown",
   "id": "90b63e97-b5a5-44b6-a432-1fc7b67018a4",
   "metadata": {},
   "source": [
    "## Gate & circuit functions"
   ]
  },
  {
   "cell_type": "code",
   "execution_count": 12,
   "id": "121f3f96-afc9-4377-9365-988594f92e3c",
   "metadata": {},
   "outputs": [],
   "source": [
    "def single_qubit_layer(circ, gate_round=None):\n",
    "    \"\"\"Apply a parametrizable layer of single qubit ``U3`` gates.\n",
    "    \"\"\"\n",
    "    for i in range(circ.N):\n",
    "        # initialize with random parameters\n",
    "        params = qu.randn(3, dist='uniform')\n",
    "        circ.apply_gate(\n",
    "            'U3',\n",
    "            *params,\n",
    "            i,\n",
    "            gate_round=gate_round,\n",
    "            parametrize=True\n",
    "        )"
   ]
  },
  {
   "cell_type": "code",
   "execution_count": 13,
   "id": "6f6098cf-ee5c-4086-b7e4-46b714b1fb92",
   "metadata": {},
   "outputs": [],
   "source": [
    "def two_qubit_layer(circ, gate2='CZ', start=0, gate_round=None):\n",
    "    \"\"\"Apply a layer of constant entangling gates.\n",
    "    \"\"\"\n",
    "    num_sites = circ.N # Assuming this is even\n",
    "    sites = [\n",
    "        i % num_sites\n",
    "        for i in range(start, start + num_sites)\n",
    "    ]\n",
    "    \n",
    "    site_pairs = list(zip(sites[::2], sites[1::2]))\n",
    "\n",
    "    for i, j in site_pairs:\n",
    "        circ.apply_gate(\n",
    "            gate2,\n",
    "            i,\n",
    "            j,\n",
    "            gate_round=gate_round\n",
    "        )"
   ]
  },
  {
   "cell_type": "code",
   "execution_count": 14,
   "id": "182db17b-e5c0-4f66-a077-1de229002f48",
   "metadata": {},
   "outputs": [],
   "source": [
    "def ansatz_circuit(n, depth, first_site=0, gate2='CZ',\n",
    "                   gate_tag=None, **kwargs):\n",
    "    \"\"\"Construct a circuit of single qubit and entangling layers.\n",
    "    \"\"\"\n",
    "    circ = qtn.Circuit(n, **kwargs)\n",
    "\n",
    "    for r in range(depth):\n",
    "        # single qubit gate layer\n",
    "        single_qubit_layer(circ, gate_round=r)\n",
    "\n",
    "        # alternate between forward and backward CZ layers\n",
    "        two_qubit_layer(\n",
    "            circ, gate2=gate2, gate_round=r, start=r % 2)\n",
    "\n",
    "    # add a final single qubit layer\n",
    "    single_qubit_layer(circ, gate_round=r + 1)\n",
    "\n",
    "    circ = circ.get_uni(transposed=True)\n",
    "\n",
    "    if gate_tag is not None:\n",
    "        for t in circ.tensors:\n",
    "            t.add_tag(gate_tag)\n",
    "\n",
    "    if first_site != 0:\n",
    "        index_labels = ['k', 'b']\n",
    "\n",
    "        index_map = {\n",
    "            f'{l}{i}': f'{l}{i+first_site}'\n",
    "            for i in range(n)\n",
    "            for l in index_labels\n",
    "        }\n",
    "\n",
    "        circ.reindex(index_map, inplace=True)\n",
    "\n",
    "    return circ"
   ]
  },
  {
   "cell_type": "code",
   "execution_count": 15,
   "id": "f7c04609-a044-4e9f-a784-531c00b47a97",
   "metadata": {},
   "outputs": [],
   "source": [
    "def ansatz_circuit_pair(leftmost_symmetry_site,\n",
    "    num_symmetry_sites, num_boundary_sites, depth,\n",
    "    gate2='CZ', **kwargs):\n",
    "    \"\"\"Construct a circuit of single qubit and entangling layers.\n",
    "    \"\"\"\n",
    "    left_start_site = leftmost_symmetry_site-num_boundary_sites\n",
    "    right_start_site = leftmost_symmetry_site+num_symmetry_sites\n",
    "\n",
    "    left_circuit = ansatz_circuit(\n",
    "        num_boundary_sites,\n",
    "        depth,\n",
    "        first_site=left_start_site,\n",
    "        gate2=gate2,\n",
    "        gate_tag='left',\n",
    "        **kwargs\n",
    "    )\n",
    "\n",
    "    right_circuit = ansatz_circuit(\n",
    "        num_boundary_sites,\n",
    "        depth,\n",
    "        first_site=right_start_site,\n",
    "        gate2=gate2,\n",
    "        gate_tag='right',\n",
    "        **kwargs\n",
    "    )\n",
    "\n",
    "    circ_pair = left_circuit & right_circuit\n",
    "\n",
    "    return circ_pair"
   ]
  },
  {
   "cell_type": "code",
   "execution_count": 16,
   "id": "c9ac5932-5ea7-4edc-a07d-e840905c20f9",
   "metadata": {},
   "outputs": [],
   "source": [
    "def split_circ_pair(circ_pair):\n",
    "    left_circuit = qtn.TensorNetwork(\n",
    "        list(map(circ_pair.tensor_map.__getitem__, circ_pair.tag_map['left']))\n",
    "    )\n",
    "\n",
    "    right_circuit = qtn.TensorNetwork(\n",
    "        list(map(circ_pair.tensor_map.__getitem__, circ_pair.tag_map['right']))\n",
    "    )\n",
    "\n",
    "    return (left_circuit, right_circuit)"
   ]
  },
  {
   "cell_type": "markdown",
   "id": "c5391a4a-0f95-4f75-9ee5-364293d260bb",
   "metadata": {},
   "source": [
    "## Load boundary operators"
   ]
  },
  {
   "cell_type": "code",
   "execution_count": 17,
   "id": "34455be6-ca75-4f4d-afec-2cc9943804a0",
   "metadata": {},
   "outputs": [],
   "source": [
    "num_boundary_sites=2\n",
    "left_most_symmetry_site=60\n",
    "num_symmetry_sites=80\n",
    "\n",
    "total_physical_dim = 2**num_boundary_sites"
   ]
  },
  {
   "cell_type": "code",
   "execution_count": 18,
   "id": "567ba2a4-4dd8-4ae7-bd77-52e3a6de7fa0",
   "metadata": {},
   "outputs": [],
   "source": [
    "n=2\n",
    "depth=2\n",
    "gate2='CZ'"
   ]
  },
  {
   "cell_type": "code",
   "execution_count": 19,
   "id": "c9301fe0-28d8-4fa9-ad9d-558036efb431",
   "metadata": {},
   "outputs": [],
   "source": [
    "num_iterations=300"
   ]
  },
  {
   "cell_type": "code",
   "execution_count": 20,
   "id": "84955b31-cf2e-4ac2-9c29-cdfb044db5ee",
   "metadata": {},
   "outputs": [],
   "source": [
    "SOL_DIR = r\"solutions/\""
   ]
  },
  {
   "cell_type": "code",
   "execution_count": 21,
   "id": "49ec504a-d2ad-4b9e-b0fa-fda9a3d627a6",
   "metadata": {},
   "outputs": [],
   "source": [
    "file_name_pattern = re.compile(r'^\\d\\.\\d_\\d\\.pickle$')"
   ]
  },
  {
   "cell_type": "code",
   "execution_count": 22,
   "id": "2ad6c9f4-cdfc-40fd-a2d3-291b202113dd",
   "metadata": {},
   "outputs": [],
   "source": [
    "def parse_file_name(file_name):\n",
    "    if not bool(file_name_pattern.match(file_name)):\n",
    "        return None\n",
    "\n",
    "    file_name = '.'.join((file_name.split('.'))[:-1])\n",
    "\n",
    "    b, sym_index = file_name.split('_')\n",
    "\n",
    "    b = float(b)\n",
    "    sym_index = int(sym_index)\n",
    "    \n",
    "    return (b, sym_index)"
   ]
  },
  {
   "cell_type": "code",
   "execution_count": 51,
   "id": "59acb15c-5e7f-4a08-8eb1-b218f3985824",
   "metadata": {},
   "outputs": [
    {
     "name": "stdout",
     "output_type": "stream",
     "text": [
      "The history saving thread hit an unexpected error (OperationalError('attempt to write a readonly database')).History will not be written to the database.\n"
     ]
    }
   ],
   "source": [
    "def generate_circuit_from_params(params, leftmost_symmetry_site,\n",
    "    num_symmetry_sites, num_boundary_sites, depth):\n",
    "    circ_pair = ansatz_circuit_pair(\n",
    "        leftmost_symmetry_site,\n",
    "        num_symmetry_sites,\n",
    "        num_boundary_sites,\n",
    "        depth\n",
    "    )\n",
    "\n",
    "    left_circuit, right_circuit = split_circ_pair(circ_pair)\n",
    "    left_params, right_params = params\n",
    "\n",
    "    left_circuit.set_params(left_params)\n",
    "    right_circuit.set_params(right_params)\n",
    "\n",
    "    \"\"\"\n",
    "    left_circuit = (\n",
    "        qtn\n",
    "        .tensor_arbgeom\n",
    "        .TensorNetworkGenOperator(left_circuit)\n",
    "    )\n",
    "    left_circuit._sites = tuple(range(num_boundary_sites))\n",
    "    left_circuit._site_tag_id = 'I{}'\n",
    "    left_circuit._upper_ind_id = 'k{}'\n",
    "    left_circuit._lower_ind_id = 'b{}'\n",
    "\n",
    "    right_circuit = (\n",
    "        qtn\n",
    "        .tensor_arbgeom\n",
    "        .TensorNetworkGenOperator(right_circuit)\n",
    "    )\n",
    "    right_circuit._sites = tuple(range(num_boundary_sites))\n",
    "    right_circuit._site_tag_id = 'I{}'\n",
    "    right_circuit._upper_ind_id = 'k{}'\n",
    "    right_circuit._lower_ind_id = 'b{}'\n",
    "    \"\"\"\n",
    "\n",
    "    return (left_circuit, right_circuit)"
   ]
  },
  {
   "cell_type": "code",
   "execution_count": 52,
   "id": "9043a80d-7c54-4148-9a98-f899bed61f1c",
   "metadata": {},
   "outputs": [],
   "source": [
    "boundary_operator_solutions = dict()\n",
    "boundary_operator_scores = dict()\n",
    "\n",
    "for local_file_name in list(os.walk(SOL_DIR))[0][2]:\n",
    "    f_name = r\"{}/{}\".format(SOL_DIR, local_file_name, ignore_unknown=False)\n",
    "\n",
    "    key = parse_file_name(local_file_name)\n",
    "\n",
    "    if key is not None:\n",
    "        with open(f_name, 'rb') as f:\n",
    "            final_score, params = pickle.load(f)\n",
    "\n",
    "            circ_pair = generate_circuit_from_params(\n",
    "                params,\n",
    "                left_most_symmetry_site,\n",
    "                num_symmetry_sites,\n",
    "                num_boundary_sites,\n",
    "                depth\n",
    "            )\n",
    "            \n",
    "            boundary_operator_scores[key] = final_score\n",
    "            boundary_operator_solutions[key] = circ_pair"
   ]
  },
  {
   "cell_type": "code",
   "execution_count": 25,
   "id": "c7ce69bb-cf1e-45eb-8dd6-14d3765df700",
   "metadata": {},
   "outputs": [
    {
     "data": {
      "image/png": "[encoded data removed]",
      "text/plain": [
       "<Figure size 640x480 with 1 Axes>"
      ]
     },
     "metadata": {},
     "output_type": "display_data"
    }
   ],
   "source": [
    "for k in range(1, 4):\n",
    "    keys = sorted(list(i for i, j in boundary_operator_scores if j == k))\n",
    "    l = [boundary_operator_scores[(b, k)] for b in keys]\n",
    "    plt.plot(l)"
   ]
  },
  {
   "cell_type": "markdown",
   "id": "c63383d4-bbde-443a-92a9-97b613c0d54b",
   "metadata": {},
   "source": [
    "# Definitions"
   ]
  },
  {
   "cell_type": "code",
   "execution_count": 26,
   "id": "6e3a806a-6e88-4073-8cb4-a46345cdb810",
   "metadata": {},
   "outputs": [],
   "source": [
    "np_I = np.array([[1,0],[0,1]])\n",
    "np_X = np.array([[0,1],[1,0]])"
   ]
  },
  {
   "cell_type": "code",
   "execution_count": 27,
   "id": "ddc01bac-517f-4922-9df0-28b400f70a3e",
   "metadata": {},
   "outputs": [],
   "source": [
    "symmetry_actions = [\n",
    "    [np_I, np_I],\n",
    "    [np_I, np_X],\n",
    "    [np_X, np_I],\n",
    "    [np_X, np_X]\n",
    "]"
   ]
  },
  {
   "cell_type": "code",
   "execution_count": 28,
   "id": "10721838-5776-4da8-9618-01dd30494f13",
   "metadata": {},
   "outputs": [],
   "source": [
    "symmetry_labels = [\n",
    "    'II',\n",
    "    'IX',\n",
    "    'XI',\n",
    "    'XX'\n",
    "]"
   ]
  },
  {
   "cell_type": "code",
   "execution_count": 29,
   "id": "608e2be7-7003-4d86-8bdc-bb7519c6c30c",
   "metadata": {},
   "outputs": [],
   "source": [
    "def generate_problem_rdm(quimb_psi, symmetry_site_pairs, leftmost_symmetry_site,\n",
    "                         num_symmetry_sites, num_boundary_sites):\n",
    "    q_top = quimb_psi.copy(deep=True)\n",
    "    for i, s in symmetry_site_pairs:\n",
    "        q_top.gate(\n",
    "            s,\n",
    "            where=i,\n",
    "            contract=False,\n",
    "            inplace=True\n",
    "        )\n",
    "\n",
    "    \n",
    "    indices_to_map = list(chain(\n",
    "        range(leftmost_symmetry_site-num_boundary_sites, leftmost_symmetry_site),\n",
    "        range(leftmost_symmetry_site+num_symmetry_sites, leftmost_symmetry_site+num_symmetry_sites+num_boundary_sites)\n",
    "    ))\n",
    "\n",
    "    index_mapping = {f'k{i}': f'b{i}' for i in indices_to_map}\n",
    "\n",
    "    q_bottom = (\n",
    "        quimb_psi\n",
    "        .copy()\n",
    "        .reindex(index_mapping, inplace=True)\n",
    "        .conj()\n",
    "    )\n",
    "\n",
    "    sites_to_contract = {\n",
    "        'left': list(range(leftmost_symmetry_site-num_boundary_sites)),\n",
    "        'middle': list(range(leftmost_symmetry_site, leftmost_symmetry_site+num_symmetry_sites)),\n",
    "        'right': list(range(leftmost_symmetry_site+num_symmetry_sites+num_boundary_sites, quimb_psi.L))\n",
    "    }\n",
    "\n",
    "    tags_to_contract = {\n",
    "        k: [f'I{i}' for i in v]\n",
    "        for k, v in sites_to_contract.items()\n",
    "    }\n",
    "\n",
    "    tn = (q_top & q_bottom)\n",
    "\n",
    "    tnc = (\n",
    "        tn\n",
    "        .contract(tags_to_contract['left'])\n",
    "        .contract(tags_to_contract['middle'])\n",
    "        .contract(tags_to_contract['right'])\n",
    "    )\n",
    "\n",
    "    return tnc"
   ]
  },
  {
   "cell_type": "code",
   "execution_count": 30,
   "id": "198f4294-8a52-4ee8-be8c-640d8c8927f2",
   "metadata": {},
   "outputs": [],
   "source": [
    "def generate_rdm_from_tenpy_psi(mps_psi, symmetry_site_pairs,\n",
    "    leftmost_symmetry_site, num_symmetry_sites, num_boundary_sites):\n",
    "    \n",
    "    psi_arrays = list()\n",
    "    psi_arrays.append(mps_psi.get_B(0, 'Th')[0, ...].to_ndarray())\n",
    "    for i in range(1, mps_psi.L-1):\n",
    "        psi_arrays.append(mps_psi.get_B(i).to_ndarray())\n",
    "    psi_arrays.append(mps_psi.get_B(mps_psi.L-1)[..., 0].to_ndarray())\n",
    "    \n",
    "    q1 = (\n",
    "        qtn\n",
    "        .tensor_1d\n",
    "        .MatrixProductState(psi_arrays, shape='lpr')\n",
    "    )\n",
    "    \n",
    "    problem_rdm = generate_problem_rdm(\n",
    "        q1,\n",
    "        symmetry_site_pairs,\n",
    "        left_most_symmetry_site,\n",
    "        num_symmetry_sites,\n",
    "        num_boundary_sites\n",
    "    )\n",
    "\n",
    "    return problem_rdm"
   ]
  },
  {
   "cell_type": "markdown",
   "id": "46d2aae5-493e-4997-92d9-23b88456b904",
   "metadata": {},
   "source": [
    "## SPT extraction functions"
   ]
  },
  {
   "cell_type": "code",
   "execution_count": 31,
   "id": "d1cd215b-c62c-405e-9adc-9a97db7142e2",
   "metadata": {},
   "outputs": [],
   "source": [
    "symmetry_combination_labels = list(combinations(symmetry_labels, 2))"
   ]
  },
  {
   "cell_type": "code",
   "execution_count": 32,
   "id": "45a081ff-eb82-4ff5-9700-55f11824f366",
   "metadata": {},
   "outputs": [
    {
     "data": {
      "text/plain": [
       "[('II', 'IX'),\n",
       " ('II', 'XI'),\n",
       " ('II', 'XX'),\n",
       " ('IX', 'XI'),\n",
       " ('IX', 'XX'),\n",
       " ('XI', 'XX')]"
      ]
     },
     "execution_count": 32,
     "metadata": {},
     "output_type": "execute_result"
    }
   ],
   "source": [
    "symmetry_combination_labels"
   ]
  },
  {
   "cell_type": "code",
   "execution_count": 33,
   "id": "aab20cf0-ae51-4603-9192-5ba0741b6a6d",
   "metadata": {},
   "outputs": [],
   "source": [
    "e, a, b, c = symmetry_labels"
   ]
  },
  {
   "cell_type": "code",
   "execution_count": 34,
   "id": "955bfb99-9c73-4794-b14e-f62f7872abe5",
   "metadata": {},
   "outputs": [],
   "source": [
    "group_products = [\n",
    "    (a, b, c),\n",
    "    (b, a, c),\n",
    "    (a, c, b),\n",
    "    (c, a, b),\n",
    "    (c, b, a),\n",
    "    (b, c, a)\n",
    "]"
   ]
  },
  {
   "cell_type": "code",
   "execution_count": 84,
   "id": "3d1a0838-d211-4471-a7f6-daba8aac8d81",
   "metadata": {},
   "outputs": [
    {
     "data": {
      "text/plain": [
       "'\\nOld function\\n\\ndef get_proj_rep_phase(rho, u_g, u_h, u_gh):\\n    full_circ = (\\n        u_g\\n        .gate_lower_with_op_lazy(u_h)\\n        .gate_lower_with_op_lazy(u_gh.H)\\n    )\\n\\n    t = (rho & full_circ)\\n\\n    out = t.trace()\\n\\n    return (out/(np.abs(out)), np.abs(out))\\n'"
      ]
     },
     "execution_count": 84,
     "metadata": {},
     "output_type": "execute_result"
    }
   ],
   "source": [
    "\"\"\"\n",
    "Old function\n",
    "\n",
    "def get_proj_rep_phase(rho, u_g, u_h, u_gh):\n",
    "    full_circ = (\n",
    "        u_g\n",
    "        .gate_lower_with_op_lazy(u_h)\n",
    "        .gate_lower_with_op_lazy(u_gh.H)\n",
    "    )\n",
    "\n",
    "    t = (rho & full_circ)\n",
    "\n",
    "    out = t.trace()\n",
    "\n",
    "    return (out/(np.abs(out)), np.abs(out))\n",
    "\"\"\""
   ]
  },
  {
   "cell_type": "code",
   "execution_count": 79,
   "id": "d99a7376-f83a-432a-a571-5d299ac661d0",
   "metadata": {},
   "outputs": [],
   "source": [
    "def relabel_index(index, old_label, new_label):\n",
    "    index_tail = index[len(old_label):]\n",
    "    return new_label + index_tail"
   ]
  },
  {
   "cell_type": "code",
   "execution_count": 83,
   "id": "eba6539e-096a-4fde-bc46-77b5e5ac319a",
   "metadata": {},
   "outputs": [],
   "source": [
    "def relabel_circuit(circuit_tn, new_k_label, new_b_label, old_k_label='k',\n",
    "                   old_b_label='b'):\n",
    "    k_regex = re.compile(rf\"^{old_k_label}\\d+$\")\n",
    "    b_regex = re.compile(rf\"^{old_b_label}\\d+$\")\n",
    "\n",
    "    old_k_indices = [\n",
    "        k for k in circuit_tn.ind_map\n",
    "        if bool(re.search(k_regex, k))\n",
    "    ]\n",
    "    \n",
    "    old_b_indices = [\n",
    "        k for k in circuit_tn.ind_map\n",
    "        if bool(re.search(b_regex, k))\n",
    "    ]\n",
    "    \n",
    "    k_out_indices = [\n",
    "        relabel_index(i, old_k_label, new_k_label)\n",
    "        for i in old_k_indices\n",
    "    ]\n",
    "        \n",
    "    b_out_indices = [\n",
    "        relabel_index(i, old_b_label, new_b_label)\n",
    "        for i in old_b_indices\n",
    "    ]\n",
    "\n",
    "    mapping = dict(\n",
    "        chain(\n",
    "            zip(old_k_indices, k_out_indices),\n",
    "            zip(old_b_indices, b_out_indices)\n",
    "        )\n",
    "    )\n",
    "\n",
    "    circuit_tn.reindex(mapping, inplace=True)"
   ]
  },
  {
   "cell_type": "code",
   "execution_count": 170,
   "id": "f8a8ee33-6ba6-4366-9840-800bd212af1d",
   "metadata": {},
   "outputs": [],
   "source": [
    "def get_proj_rep_phase(rho, u_g, u_h, u_gh):\n",
    "    us = [u_g.copy(), u_h.copy(), u_gh.copy()]\n",
    "\n",
    "    relabel_circuit(us[0], 'k', 'l')\n",
    "    relabel_circuit(us[1], 'l', 'm')\n",
    "    relabel_circuit(us[2], 'b', 'm')\n",
    "\n",
    "    us[2] = us[2].conj()\n",
    "\n",
    "    out = (rho & us[0] & us[1] & us[2]) ^ ...\n",
    "\n",
    "    return (out/(np.abs(out)), np.abs(out))"
   ]
  },
  {
   "cell_type": "code",
   "execution_count": 36,
   "id": "8b500fd2-c687-4f66-acad-eff4d648badb",
   "metadata": {},
   "outputs": [],
   "source": [
    "def get_quimb_mps_from_tenpy_mps(tenpy_mps):\n",
    "    psi_arrays = list()\n",
    "    psi_arrays.append(tenpy_mps.get_B(0, 'Th')[0, ...].to_ndarray())\n",
    "    for i in range(1, tenpy_mps.L-1):\n",
    "        psi_arrays.append(tenpy_mps.get_B(i).to_ndarray())\n",
    "    psi_arrays.append(tenpy_mps.get_B(tenpy_mps.L-1)[..., 0].to_ndarray())\n",
    "    \n",
    "    quimb_mps = (\n",
    "        qtn\n",
    "        .tensor_1d\n",
    "        .MatrixProductState(psi_arrays, shape='lpr')\n",
    "    )\n",
    "\n",
    "    return quimb_mps"
   ]
  },
  {
   "cell_type": "code",
   "execution_count": 114,
   "id": "dcb4078a-9db2-44cc-89e1-4ec295806d87",
   "metadata": {},
   "outputs": [],
   "source": [
    "def get_proj_rep_phases(tenpy_mps, unitaries):\n",
    "    quimb_mps = get_quimb_mps_from_tenpy_mps(tenpy_mps)\n",
    "    sites = [\n",
    "        int(s[1:]) for s in unitaries[0].ind_map\n",
    "        if s[0]=='k'\n",
    "    ]\n",
    "    rho = quimb_mps.partial_trace_to_mpo(sites, rescale_sites=False)\n",
    "    out = list()\n",
    "\n",
    "    unitaries_dict = {\n",
    "        k: v for k, v in zip(symmetry_labels[1:], unitaries)\n",
    "    }\n",
    "\n",
    "    out_phases = list()\n",
    "    for a, b, c in group_products:\n",
    "        phase = get_proj_rep_phase(\n",
    "            rho,\n",
    "            unitaries_dict[a],\n",
    "            unitaries_dict[b],\n",
    "            unitaries_dict[c]\n",
    "        )\n",
    "\n",
    "        out_phases.append(phase)\n",
    "\n",
    "    return out_phases"
   ]
  },
  {
   "cell_type": "markdown",
   "id": "878a8b52-3ca8-4d83-ace1-24e0cb0c4cbe",
   "metadata": {},
   "source": [
    "# Extract phases"
   ]
  },
  {
   "cell_type": "code",
   "execution_count": 86,
   "id": "0f2fc51c-f16f-45c0-b7e4-94161e06a1a7",
   "metadata": {},
   "outputs": [],
   "source": [
    "b_params = np.delete(np.round(np.linspace(0, 2, 21), 3), 10)"
   ]
  },
  {
   "cell_type": "code",
   "execution_count": 171,
   "id": "31be5c5d-ae70-4c4e-b959-1bf10a36ea3d",
   "metadata": {},
   "outputs": [],
   "source": [
    "proj_rep_phases = list()\n",
    "\n",
    "for t in b_params:\n",
    "    tenpy_mps = psi_dict[t]\n",
    "\n",
    "    unitaries = [boundary_operator_solutions[(t, i)] for i in [1,2,3]]\n",
    "\n",
    "    left_unitaries, right_unitaries = zip(*unitaries)\n",
    "\n",
    "    left_phases = get_proj_rep_phases(tenpy_mps, left_unitaries)\n",
    "    right_phases = get_proj_rep_phases(tenpy_mps, right_unitaries)\n",
    "\n",
    "    proj_rep_phases.append([left_phases, right_phases])"
   ]
  },
  {
   "cell_type": "code",
   "execution_count": 172,
   "id": "fd57ff16-2aa4-45e5-b988-322691674a76",
   "metadata": {},
   "outputs": [],
   "source": [
    "proj_rep_phases = np.array(proj_rep_phases)"
   ]
  },
  {
   "cell_type": "code",
   "execution_count": 173,
   "id": "b570d275-0a7d-4c29-b90d-5db7fe82be43",
   "metadata": {},
   "outputs": [
    {
     "data": {
      "text/plain": [
       "array([[[-1.  -0.j  , -1.  -0.j  , -1.  -0.j  ],\n",
       "        [-1.  +0.j  , -1.  -0.j  , -1.  +0.j  ]],\n",
       "\n",
       "       [[-1.  -0.j  , -1.  +0.j  , -1.  -0.01j],\n",
       "        [-1.  +0.j  , -1.  -0.j  , -1.  -0.j  ]],\n",
       "\n",
       "       [[-1.  -0.j  , -1.  -0.j  , -1.  +0.j  ],\n",
       "        [-1.  -0.01j, -1.  -0.01j, -1.  -0.01j]],\n",
       "\n",
       "       [[-1.  +0.j  , -1.  +0.01j, -1.  -0.02j],\n",
       "        [-1.  +0.01j, -1.  +0.02j, -1.  +0.01j]],\n",
       "\n",
       "       [[-1.  +0.j  , -1.  -0.02j, -1.  -0.01j],\n",
       "        [-1.  +0.j  , -1.  +0.03j, -1.  +0.01j]],\n",
       "\n",
       "       [[-1.  +0.j  , -1.  +0.02j, -1.  -0.j  ],\n",
       "        [-1.  +0.j  , -1.  +0.02j, -1.  +0.02j]],\n",
       "\n",
       "       [[-1.  -0.03j, -1.  -0.05j, -1.  -0.j  ],\n",
       "        [-1.  +0.01j, -1.  +0.03j, -1.  +0.01j]],\n",
       "\n",
       "       [[-1.  +0.02j, -1.  +0.01j, -1.  -0.01j],\n",
       "        [-1.  +0.j  , -1.  +0.j  , -1.  -0.01j]],\n",
       "\n",
       "       [[-1.  +0.03j, -1.  -0.01j, -1.  +0.03j],\n",
       "        [-1.  +0.01j, -1.  +0.06j, -1.  +0.03j]],\n",
       "\n",
       "       [[-1.  -0.j  , -1.  -0.03j, -1.  -0.j  ],\n",
       "        [-1.  -0.04j, -1.  +0.05j, -1.  -0.07j]],\n",
       "\n",
       "       [[ 1.  +0.05j,  1.  +0.1j ,  1.  +0.03j],\n",
       "        [ 1.  +0.j  ,  1.  -0.01j,  1.  -0.04j]],\n",
       "\n",
       "       [[ 1.  -0.06j,  1.  -0.02j,  0.99-0.15j],\n",
       "        [ 1.  +0.j  ,  1.  +0.j  ,  1.  -0.01j]],\n",
       "\n",
       "       [[ 1.  -0.02j,  1.  +0.04j,  1.  -0.03j],\n",
       "        [ 1.  -0.j  ,  1.  -0.j  ,  1.  -0.06j]],\n",
       "\n",
       "       [[ 1.  -0.01j,  1.  -0.01j,  1.  +0.02j],\n",
       "        [ 1.  +0.01j,  1.  +0.j  ,  1.  +0.j  ]],\n",
       "\n",
       "       [[ 1.  +0.j  ,  1.  +0.03j,  1.  -0.03j],\n",
       "        [ 1.  +0.01j,  1.  +0.01j,  1.  +0.01j]],\n",
       "\n",
       "       [[ 1.  +0.01j,  1.  +0.01j,  1.  +0.01j],\n",
       "        [ 1.  -0.02j,  1.  +0.02j,  1.  +0.j  ]],\n",
       "\n",
       "       [[ 1.  +0.j  ,  1.  -0.j  ,  1.  -0.j  ],\n",
       "        [ 1.  +0.04j,  1.  +0.01j,  1.  -0.02j]],\n",
       "\n",
       "       [[ 1.  +0.01j,  1.  -0.03j,  1.  -0.03j],\n",
       "        [ 1.  -0.j  ,  1.  -0.01j,  1.  +0.j  ]],\n",
       "\n",
       "       [[ 1.  -0.02j,  1.  +0.02j,  1.  -0.01j],\n",
       "        [ 1.  -0.01j,  1.  +0.01j,  1.  +0.j  ]],\n",
       "\n",
       "       [[ 1.  -0.j  ,  1.  -0.03j,  1.  +0.02j],\n",
       "        [ 1.  +0.02j,  1.  +0.04j,  1.  +0.02j]]])"
      ]
     },
     "execution_count": 173,
     "metadata": {},
     "output_type": "execute_result"
    }
   ],
   "source": [
    "np.round(\n",
    "    proj_rep_phases[..., ::2, 0]/proj_rep_phases[..., 1::2, 0],\n",
    "    2\n",
    ")"
   ]
  },
  {
   "cell_type": "code",
   "execution_count": 174,
   "id": "eab6d72f-b056-414f-b3ab-3a39d21281bb",
   "metadata": {},
   "outputs": [],
   "source": [
    "gauge_invariant_proj_rep_phase = proj_rep_phases[..., ::2, 0]/proj_rep_phases[..., 1::2, 0]"
   ]
  },
  {
   "cell_type": "code",
   "execution_count": 175,
   "id": "5df58231-59e8-4360-856a-941f7e0e95f3",
   "metadata": {},
   "outputs": [
    {
     "data": {
      "text/plain": [
       "array([[[-1.  -0.j  , -1.  -0.j  , -1.  -0.j  ],\n",
       "        [-1.  +0.j  , -1.  -0.j  , -1.  +0.j  ]],\n",
       "\n",
       "       [[-1.  -0.j  , -1.  +0.j  , -1.  -0.01j],\n",
       "        [-1.  +0.j  , -1.  -0.j  , -1.  -0.j  ]],\n",
       "\n",
       "       [[-1.  -0.j  , -1.  -0.j  , -1.  +0.j  ],\n",
       "        [-1.  -0.01j, -1.  -0.01j, -1.  -0.01j]],\n",
       "\n",
       "       [[-1.  +0.j  , -1.  +0.01j, -1.  -0.02j],\n",
       "        [-1.  +0.01j, -1.  +0.02j, -1.  +0.01j]],\n",
       "\n",
       "       [[-1.  +0.j  , -1.  -0.02j, -1.  -0.01j],\n",
       "        [-1.  +0.j  , -1.  +0.03j, -1.  +0.01j]],\n",
       "\n",
       "       [[-1.  +0.j  , -1.  +0.02j, -1.  -0.j  ],\n",
       "        [-1.  +0.j  , -1.  +0.02j, -1.  +0.02j]],\n",
       "\n",
       "       [[-1.  -0.03j, -1.  -0.05j, -1.  -0.j  ],\n",
       "        [-1.  +0.01j, -1.  +0.03j, -1.  +0.01j]],\n",
       "\n",
       "       [[-1.  +0.02j, -1.  +0.01j, -1.  -0.01j],\n",
       "        [-1.  +0.j  , -1.  +0.j  , -1.  -0.01j]],\n",
       "\n",
       "       [[-1.  +0.03j, -1.  -0.01j, -1.  +0.03j],\n",
       "        [-1.  +0.01j, -1.  +0.06j, -1.  +0.03j]],\n",
       "\n",
       "       [[-1.  -0.j  , -1.  -0.03j, -1.  -0.j  ],\n",
       "        [-1.  -0.04j, -1.  +0.05j, -1.  -0.07j]],\n",
       "\n",
       "       [[ 1.  +0.05j,  1.  +0.1j ,  1.  +0.03j],\n",
       "        [ 1.  +0.j  ,  1.  -0.01j,  1.  -0.04j]],\n",
       "\n",
       "       [[ 1.  -0.06j,  1.  -0.02j,  0.99-0.15j],\n",
       "        [ 1.  +0.j  ,  1.  +0.j  ,  1.  -0.01j]],\n",
       "\n",
       "       [[ 1.  -0.02j,  1.  +0.04j,  1.  -0.03j],\n",
       "        [ 1.  -0.j  ,  1.  -0.j  ,  1.  -0.06j]],\n",
       "\n",
       "       [[ 1.  -0.01j,  1.  -0.01j,  1.  +0.02j],\n",
       "        [ 1.  +0.01j,  1.  +0.j  ,  1.  +0.j  ]],\n",
       "\n",
       "       [[ 1.  +0.j  ,  1.  +0.03j,  1.  -0.03j],\n",
       "        [ 1.  +0.01j,  1.  +0.01j,  1.  +0.01j]],\n",
       "\n",
       "       [[ 1.  +0.01j,  1.  +0.01j,  1.  +0.01j],\n",
       "        [ 1.  -0.02j,  1.  +0.02j,  1.  +0.j  ]],\n",
       "\n",
       "       [[ 1.  +0.j  ,  1.  -0.j  ,  1.  -0.j  ],\n",
       "        [ 1.  +0.04j,  1.  +0.01j,  1.  -0.02j]],\n",
       "\n",
       "       [[ 1.  +0.01j,  1.  -0.03j,  1.  -0.03j],\n",
       "        [ 1.  -0.j  ,  1.  -0.01j,  1.  +0.j  ]],\n",
       "\n",
       "       [[ 1.  -0.02j,  1.  +0.02j,  1.  -0.01j],\n",
       "        [ 1.  -0.01j,  1.  +0.01j,  1.  +0.j  ]],\n",
       "\n",
       "       [[ 1.  -0.j  ,  1.  -0.03j,  1.  +0.02j],\n",
       "        [ 1.  +0.02j,  1.  +0.04j,  1.  +0.02j]]])"
      ]
     },
     "execution_count": 175,
     "metadata": {},
     "output_type": "execute_result"
    }
   ],
   "source": [
    "np.round(gauge_invariant_proj_rep_phase, 2)"
   ]
  },
  {
   "cell_type": "code",
   "execution_count": 176,
   "id": "58fd268a-a210-46e9-b346-f38e70d6d073",
   "metadata": {},
   "outputs": [],
   "source": [
    "gauge_invariant_proj_rep_angle = np.imag(np.log(gauge_invariant_proj_rep_phase))\n",
    "gauge_invariant_proj_rep_angle[gauge_invariant_proj_rep_angle<=-np.pi/2] += 2*np.pi"
   ]
  },
  {
   "cell_type": "code",
   "execution_count": 177,
   "id": "ac37af32-5e58-4bb4-a25d-d31fbf69db38",
   "metadata": {},
   "outputs": [],
   "source": [
    "markers = ['<', '>']"
   ]
  },
  {
   "cell_type": "code",
   "execution_count": 178,
   "id": "9fe50ec7-2fd4-438d-9065-780d09fde9f0",
   "metadata": {},
   "outputs": [],
   "source": [
    "colors = [\n",
    "    'tab:blue',\n",
    "    'tab:orange',\n",
    "    'tab:green'\n",
    "]   "
   ]
  },
  {
   "cell_type": "code",
   "execution_count": 179,
   "id": "279624b9-c293-4020-8b0f-bff0167f77a8",
   "metadata": {},
   "outputs": [],
   "source": [
    "e, a, b, c = symmetry_labels"
   ]
  },
  {
   "cell_type": "code",
   "execution_count": 180,
   "id": "d1e764db-d3cd-4216-9d5e-c5ddad7893f3",
   "metadata": {},
   "outputs": [],
   "source": [
    "symmetry_pair_labels = [\n",
    "    a + ',' + b,\n",
    "    a + ',' + c,\n",
    "    c + ',' + b\n",
    "]"
   ]
  },
  {
   "cell_type": "code",
   "execution_count": 181,
   "id": "715be721-dd85-4327-8b7f-7420cababb49",
   "metadata": {},
   "outputs": [],
   "source": [
    "side_labels = ['Left', 'Right']"
   ]
  },
  {
   "cell_type": "code",
   "execution_count": 182,
   "id": "cae17b77-4552-4fd0-811d-d97857a23e5f",
   "metadata": {},
   "outputs": [
    {
     "data": {
      "text/plain": [
       "(20, 2, 3)"
      ]
     },
     "execution_count": 182,
     "metadata": {},
     "output_type": "execute_result"
    }
   ],
   "source": [
    "gauge_invariant_proj_rep_angle.shape"
   ]
  },
  {
   "cell_type": "code",
   "execution_count": 184,
   "id": "86b9db5a-f84d-4a21-9034-2ee0a01f6ddd",
   "metadata": {},
   "outputs": [],
   "source": [
    "mean_gauge_invariant_proj_rep_angle = np.mean(gauge_invariant_proj_rep_angle, axis=(1,2))\n",
    "max_gauge_invariant_proj_rep_angle = np.max(gauge_invariant_proj_rep_angle, axis=(1,2))\n",
    "min_gauge_invariant_proj_rep_angle = np.min(gauge_invariant_proj_rep_angle, axis=(1,2))\n",
    "\n",
    "min_max_gauge_invariant_proj_rep_angle = np.stack(\n",
    "    [\n",
    "        min_gauge_invariant_proj_rep_angle,\n",
    "        max_gauge_invariant_proj_rep_angle\n",
    "    ],\n",
    "    axis=0\n",
    ")\n",
    "\n",
    "error_gauge_invariant_proj_rep_angle = (\n",
    "    min_max_gauge_invariant_proj_rep_angle\n",
    "    - mean_gauge_invariant_proj_rep_angle[np.newaxis, :]\n",
    ")\n",
    "error_gauge_invariant_proj_rep_angle = np.abs(error_gauge_invariant_proj_rep_angle)"
   ]
  },
  {
   "cell_type": "code",
   "execution_count": 185,
   "id": "eb187bc9-009d-4e2d-9ba3-58d91bf19861",
   "metadata": {},
   "outputs": [
    {
     "data": {
      "text/plain": [
       "0.10836096541397097"
      ]
     },
     "execution_count": 185,
     "metadata": {},
     "output_type": "execute_result"
    }
   ],
   "source": [
    "np.max(error_gauge_invariant_proj_rep_angle)"
   ]
  },
  {
   "cell_type": "code",
   "execution_count": 186,
   "id": "fce96620-9207-4ca1-b5d8-1383b3b1c7c5",
   "metadata": {},
   "outputs": [
    {
     "data": {
      "image/png": "[encoded data removed]",
      "text/plain": [
       "<Figure size 600x400 with 1 Axes>"
      ]
     },
     "metadata": {},
     "output_type": "display_data"
    }
   ],
   "source": [
    "fig, ax = plt.subplots(figsize=(6,4))\n",
    "\n",
    "plt.errorbar(\n",
    "    b_params,\n",
    "    mean_gauge_invariant_proj_rep_angle,\n",
    "    yerr=error_gauge_invariant_proj_rep_angle,\n",
    "    color='tab:blue',\n",
    "    fmt='-',\n",
    "    capsize=2\n",
    ")\n",
    "\n",
    "ax.xaxis.set_major_locator(\n",
    "    matplotlib.ticker.MultipleLocator(0.2)\n",
    ")\n",
    "ax.xaxis.set_minor_locator(\n",
    "    matplotlib.ticker.MultipleLocator(0.1)\n",
    ")\n",
    "\n",
    "ax.set_yticks(\n",
    "    np.linspace(0, np.pi, 3),\n",
    "    labels=['$0$', '$\\pi/2$', '$\\pi$']\n",
    ")\n",
    "\n",
    "ax.set_yticks(\n",
    "    [np.pi/6, np.pi/3, 2*np.pi/3, 5*np.pi/6],\n",
    "    minor=True\n",
    ")\n",
    "\n",
    "ax.tick_params(\n",
    "    axis='both',\n",
    "    which='major',\n",
    "    labelsize=11\n",
    ")\n",
    "\n",
    "ax.grid(\n",
    "    axis='y',\n",
    "    which='both'\n",
    ")\n",
    "ax.grid(\n",
    "    axis='x',\n",
    "    which='major'\n",
    ")\n",
    "\n",
    "ax.set_ylabel(r'$\\theta$', fontsize=12)\n",
    "ax.set_xlabel('$B$', fontsize=12)\n",
    "\n",
    "fig.savefig(r'plots/proj_rep_angle_from_circ_bosonic.png', dpi=200)"
   ]
  },
  {
   "cell_type": "code",
   "execution_count": 186,
   "id": "b3c43403-39ca-460d-a3e4-9f7766f5da5f",
   "metadata": {},
   "outputs": [
    {
     "data": {
      "image/png": "[encoded data removed]",
      "text/plain": [
       "<Figure size 600x400 with 1 Axes>"
      ]
     },
     "metadata": {},
     "output_type": "display_data"
    }
   ],
   "source": [
    "fig, ax = plt.subplots(figsize=(6,4))\n",
    "\n",
    "plt.errorbar(\n",
    "    b_params,\n",
    "    mean_gauge_invariant_proj_rep_angle,\n",
    "    yerr=error_gauge_invariant_proj_rep_angle,\n",
    "    color='tab:blue',\n",
    "    fmt='-',\n",
    "    capsize=2\n",
    ")\n",
    "\n",
    "ax.xaxis.set_major_locator(\n",
    "    matplotlib.ticker.MultipleLocator(0.2)\n",
    ")\n",
    "ax.xaxis.set_minor_locator(\n",
    "    matplotlib.ticker.MultipleLocator(0.1)\n",
    ")\n",
    "\n",
    "ax.set_yticks(\n",
    "    np.linspace(0, np.pi, 3),\n",
    "    labels=['$0$', '$\\pi/2$', '$\\pi$']\n",
    ")\n",
    "\n",
    "ax.set_yticks(\n",
    "    [np.pi/6, np.pi/3, 2*np.pi/3, 5*np.pi/6],\n",
    "    minor=True\n",
    ")\n",
    "\n",
    "ax.tick_params(\n",
    "    axis='both',\n",
    "    which='major',\n",
    "    labelsize=11\n",
    ")\n",
    "\n",
    "ax.grid(\n",
    "    axis='y',\n",
    "    which='both'\n",
    ")\n",
    "ax.grid(\n",
    "    axis='x',\n",
    "    which='major'\n",
    ")\n",
    "\n",
    "ax.set_ylabel(r'$\\theta$', fontsize=12)\n",
    "ax.set_xlabel('$B$', fontsize=12)\n",
    "\n",
    "fig.savefig(r'plots/proj_rep_angle_from_circ_bosonic.png', dpi=200)"
   ]
  },
  {
   "cell_type": "code",
   "execution_count": 187,
   "id": "340790a1-a918-47ac-a207-2337b9feabc4",
   "metadata": {},
   "outputs": [],
   "source": [
    "gauge_invariant_proj_rep_real_phase = np.real(gauge_invariant_proj_rep_phase)\n",
    "mean_gauge_invariant_proj_rep_real_phase = np.mean(gauge_invariant_proj_rep_real_phase, axis=(1,2))\n",
    "max_gauge_invariant_proj_rep_real_phase = np.max(gauge_invariant_proj_rep_real_phase, axis=(1,2))\n",
    "min_gauge_invariant_proj_rep_real_phase = np.min(gauge_invariant_proj_rep_real_phase, axis=(1,2))\n",
    "\n",
    "min_max_gauge_invariant_proj_rep_real_phase = np.stack(\n",
    "    [\n",
    "        min_gauge_invariant_proj_rep_real_phase,\n",
    "        max_gauge_invariant_proj_rep_real_phase\n",
    "    ],\n",
    "    axis=0\n",
    ")\n",
    "\n",
    "error_gauge_invariant_proj_rep_real_phase = (\n",
    "    min_max_gauge_invariant_proj_rep_real_phase\n",
    "    - mean_gauge_invariant_proj_rep_real_phase[np.newaxis, :]\n",
    ")\n",
    "error_gauge_invariant_proj_rep_real_phase = np.abs(error_gauge_invariant_proj_rep_real_phase)"
   ]
  },
  {
   "cell_type": "code",
   "execution_count": 189,
   "id": "fa015e91-f13b-492c-85eb-0c287e32ade7",
   "metadata": {},
   "outputs": [
    {
     "data": {
      "text/plain": [
       "0.008796700516767397"
      ]
     },
     "execution_count": 189,
     "metadata": {},
     "output_type": "execute_result"
    }
   ],
   "source": [
    "np.max(error_gauge_invariant_proj_rep_real_phase)"
   ]
  },
  {
   "cell_type": "code",
   "execution_count": 195,
   "id": "f18f576c-2acf-4564-a3f8-b240314c7500",
   "metadata": {},
   "outputs": [
    {
     "data": {
      "image/png": "[encoded data removed]",
      "text/plain": [
       "<Figure size 600x400 with 1 Axes>"
      ]
     },
     "metadata": {},
     "output_type": "display_data"
    }
   ],
   "source": [
    "fig, ax = plt.subplots(figsize=(6,4))\n",
    "\n",
    "ax.plot(\n",
    "    b_params,\n",
    "    mean_gauge_invariant_proj_rep_real_phase,\n",
    "    color='tab:blue'\n",
    ")\n",
    "\n",
    "ax.xaxis.set_major_locator(\n",
    "    matplotlib.ticker.MultipleLocator(0.2)\n",
    ")\n",
    "ax.xaxis.set_minor_locator(\n",
    "    matplotlib.ticker.MultipleLocator(0.1)\n",
    ")\n",
    "\n",
    "\"\"\"\n",
    "ax.set_yticks(\n",
    "    np.linspace(0, np.pi, 3),\n",
    "    labels=['$0$', '$\\pi/2$', '$\\pi$']\n",
    ")\n",
    "\n",
    "ax.set_yticks(\n",
    "    [np.pi/6, np.pi/3, 2*np.pi/3, 5*np.pi/6],\n",
    "    minor=True\n",
    ")\n",
    "\"\"\"\n",
    "\n",
    "ax.tick_params(\n",
    "    axis='both',\n",
    "    which='major',\n",
    "    labelsize=11\n",
    ")\n",
    "\n",
    "ax.grid(\n",
    "    axis='y',\n",
    "    which='both'\n",
    ")\n",
    "ax.grid(\n",
    "    axis='x',\n",
    "    which='major'\n",
    ")\n",
    "\n",
    "ax.set_ylabel(r'Re$(\\Omega)$', fontsize=12)\n",
    "ax.set_xlabel('$B$', fontsize=12)\n",
    "\n",
    "fig.savefig(r'plots/proj_rep_real_phase_from_circ_bosonic.png', dpi=200)"
   ]
  },
  {
   "cell_type": "markdown",
   "id": "42db6f83-8919-4e3c-8977-d1ff65f7fea7",
   "metadata": {},
   "source": [
    "# Scores"
   ]
  },
  {
   "cell_type": "code",
   "execution_count": 196,
   "id": "81d3ce7e-937d-4524-8cd6-a00681458253",
   "metadata": {},
   "outputs": [],
   "source": [
    "scores = list()\n",
    "for t in b_params:\n",
    "\n",
    "    scores.append([boundary_operator_scores[(t, i)] for i in [1,2,3]])\n",
    "\n",
    "scores = np.array(scores)"
   ]
  },
  {
   "cell_type": "code",
   "execution_count": 199,
   "id": "79136983-3164-4df3-a880-d6c6ee1a7fc4",
   "metadata": {},
   "outputs": [],
   "source": [
    "overlaps = np.sqrt(1-scores)"
   ]
  },
  {
   "cell_type": "code",
   "execution_count": 206,
   "id": "e674071d-3677-4a5b-8a03-06aab53e31e6",
   "metadata": {},
   "outputs": [
    {
     "data": {
      "image/png": "[encoded data removed]",
      "text/plain": [
       "<Figure size 600x400 with 1 Axes>"
      ]
     },
     "metadata": {},
     "output_type": "display_data"
    }
   ],
   "source": [
    "fig, ax = plt.subplots(figsize=(6,4))\n",
    "\n",
    "for j, (col, label) in enumerate(zip(colors, symmetry_labels[1:])):\n",
    "    plt.plot(\n",
    "        b_params,\n",
    "        overlaps[:, j],\n",
    "        color=col,\n",
    "        label = label,\n",
    "        marker='D'\n",
    "    )\n",
    "\n",
    "ax.xaxis.set_major_locator(\n",
    "    matplotlib.ticker.MultipleLocator(0.2)\n",
    ")\n",
    "\n",
    "ax.yaxis.set_minor_locator(\n",
    "    matplotlib.ticker.MultipleLocator(0.1)\n",
    ")\n",
    "\n",
    "#ax.set_yscale('log')\n",
    "ax.set_ylim(bottom=0, top=1.1)\n",
    "ax.tick_params(\n",
    "    axis='both',\n",
    "    which='major',\n",
    "    labelsize=11\n",
    ")\n",
    "\n",
    "ax.grid()\n",
    "ax.grid(\n",
    "    which='minor',\n",
    "    axis='y',\n",
    "    linestyle='--',\n",
    "    zorder=-1e10\n",
    ")\n",
    "ax.set_axisbelow(True)\n",
    "\n",
    "ax.set_ylabel(r'$\\vert c \\vert$', fontsize=12)\n",
    "ax.set_xlabel('$B$', fontsize=12)\n",
    "\n",
    "ax.legend(loc='lower right', title='Applied symmetry')\n",
    "\n",
    "#fig.suptitle(r'Final cost $L$ with symmetry $g$ as a function of $B$')\n",
    "\n",
    "fig.savefig(r'plots/overlaps_from_circ_bosonic.png', dpi=200)"
   ]
  },
  {
   "cell_type": "markdown",
   "id": "4725f192-a5b0-4fd7-9325-ff356cc84967",
   "metadata": {},
   "source": [
    "# Conclusions"
   ]
  },
  {
   "cell_type": "markdown",
   "id": "932d92e2-4a59-4301-9bd8-d7e705fa24ef",
   "metadata": {},
   "source": [
    "It works!"
   ]
  }
 ],
 "metadata": {
  "kernelspec": {
   "display_name": "num_spt_venv_p11",
   "language": "python",
   "name": "num_spt_venv_p11"
  },
  "language_info": {
   "codemirror_mode": {
    "name": "ipython",
    "version": 3
   },
   "file_extension": ".py",
   "mimetype": "text/x-python",
   "name": "python",
   "nbconvert_exporter": "python",
   "pygments_lexer": "ipython3",
   "version": "3.11.9"
  }
 },
 "nbformat": 4,
 "nbformat_minor": 5
}
