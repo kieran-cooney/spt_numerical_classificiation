{
 "cells": [
  {
   "cell_type": "markdown",
   "id": "6a2dac7f-2bbc-4993-8a37-4dc5bd7c4f33",
   "metadata": {},
   "source": [
    "# QUIMB save boundary operators\n",
    "Created 03/07/2024\n",
    "\n",
    "Objectives:\n",
    "* Use QUIMB to extract boundary operators."
   ]
  },
  {
   "cell_type": "markdown",
   "id": "725eaa22-d2a4-40d8-9a97-ad5bd49becb7",
   "metadata": {},
   "source": [
    "# Package imports"
   ]
  },
  {
   "cell_type": "code",
   "execution_count": 1,
   "id": "ecb41ea3-927f-4efa-aebe-ce15784aa037",
   "metadata": {},
   "outputs": [],
   "source": [
    "import sys"
   ]
  },
  {
   "cell_type": "code",
   "execution_count": 2,
   "id": "0375bd38-12e1-417a-908a-13fb540081f5",
   "metadata": {},
   "outputs": [],
   "source": [
    "sys.path.append(\"../../\")"
   ]
  },
  {
   "cell_type": "code",
   "execution_count": 3,
   "id": "0cf49837-01b6-431a-b570-d7ed25903239",
   "metadata": {},
   "outputs": [],
   "source": [
    "from itertools import chain\n",
    "import re"
   ]
  },
  {
   "cell_type": "code",
   "execution_count": 4,
   "id": "f59344b7-d34e-47e4-99be-f5a2687f8176",
   "metadata": {},
   "outputs": [],
   "source": [
    "import h5py\n",
    "from tenpy.tools import hdf5_io\n",
    "import tenpy\n",
    "import tenpy.linalg.np_conserved as npc\n",
    "\n",
    "import os\n",
    "import pickle"
   ]
  },
  {
   "cell_type": "code",
   "execution_count": 5,
   "id": "19404619-d778-4cc3-8ee1-1db6f14b2043",
   "metadata": {},
   "outputs": [],
   "source": [
    "import numpy as np\n",
    "import jax.numpy as jnp\n",
    "\n",
    "import matplotlib.pyplot as plt"
   ]
  },
  {
   "cell_type": "code",
   "execution_count": 6,
   "id": "92eeb066-5463-4237-ad07-3c5a0d934f4f",
   "metadata": {},
   "outputs": [
    {
     "name": "stderr",
     "output_type": "stream",
     "text": [
      "/Users/kierancooney/.pyenv/versions/num_spt_venv_p11/lib/python3.11/site-packages/cotengra/hyperoptimizers/hyper.py:54: UserWarning: Couldn't find `optuna`, `cmaes`, or `nevergrad` so will use completely random sampling in place of hyper-optimization.\n",
      "  warnings.warn(\n",
      "/Users/kierancooney/.pyenv/versions/num_spt_venv_p11/lib/python3.11/site-packages/cotengra/hyperoptimizers/hyper.py:36: UserWarning: Couldn't import `kahypar` - skipping from default hyper optimizer and using basic `labels` method instead.\n",
      "  warnings.warn(\n",
      "/Users/kierancooney/.pyenv/versions/num_spt_venv_p11/lib/python3.11/site-packages/cotengra/hyperoptimizers/hyper.py:73: UserWarning: Couldn't find `optuna`, `cmaes`, or `nevergrad` so will use completely random sampling in place of hyper-optimization.\n",
      "  warnings.warn(\n"
     ]
    }
   ],
   "source": [
    "import quimb as qu\n",
    "import quimb.tensor as qtn\n",
    "from quimb.tensor.optimize import TNOptimizer"
   ]
  },
  {
   "cell_type": "markdown",
   "id": "71c44d61-9279-4312-9ba8-6f07fe68bf65",
   "metadata": {},
   "source": [
    "# Load data"
   ]
  },
  {
   "cell_type": "code",
   "execution_count": 7,
   "id": "c196fe74-d78a-4205-a41a-acfa510831d1",
   "metadata": {},
   "outputs": [],
   "source": [
    "DATA_DIR = r\"../../data/transverse_cluster_200_site_dmrg\""
   ]
  },
  {
   "cell_type": "code",
   "execution_count": 8,
   "id": "e1a89621-91df-4f40-adef-f16acbdea3e9",
   "metadata": {},
   "outputs": [],
   "source": [
    "loaded_data = list()\n",
    "\n",
    "for local_file_name in os.listdir(DATA_DIR):\n",
    "    f_name = r\"{}/{}\".format(DATA_DIR, local_file_name, ignore_unknown=False)\n",
    "    with h5py.File(f_name, 'r') as f:\n",
    "        data = hdf5_io.load_from_hdf5(f)\n",
    "        loaded_data.append(data)"
   ]
  },
  {
   "cell_type": "code",
   "execution_count": 9,
   "id": "b805dcff-dfda-4ca4-ba53-c6a3d6822dd4",
   "metadata": {},
   "outputs": [],
   "source": [
    "b_parameters = sorted(list(d['paramters']['B'] for d in loaded_data))"
   ]
  },
  {
   "cell_type": "code",
   "execution_count": 10,
   "id": "827a26d6-a667-4828-bf55-db731e15d89d",
   "metadata": {},
   "outputs": [],
   "source": [
    "psi_dict = dict()"
   ]
  },
  {
   "cell_type": "code",
   "execution_count": 11,
   "id": "e0e8c819-03d8-4a47-b853-365d65364ac7",
   "metadata": {},
   "outputs": [],
   "source": [
    "for b in b_parameters:\n",
    "    psi = next(\n",
    "        d['wavefunction']\n",
    "        for d in loaded_data\n",
    "        if d['paramters']['B'] == b\n",
    "    )\n",
    "\n",
    "    rounded_b = round(b, 1)\n",
    "    psi_dict[rounded_b] = psi"
   ]
  },
  {
   "cell_type": "markdown",
   "id": "c63383d4-bbde-443a-92a9-97b613c0d54b",
   "metadata": {},
   "source": [
    "# Definitions"
   ]
  },
  {
   "cell_type": "code",
   "execution_count": 12,
   "id": "6e3a806a-6e88-4073-8cb4-a46345cdb810",
   "metadata": {},
   "outputs": [],
   "source": [
    "np_I = np.array([[1,0],[0,1]])\n",
    "np_X = np.array([[0,1],[1,0]])"
   ]
  },
  {
   "cell_type": "code",
   "execution_count": 13,
   "id": "ddc01bac-517f-4922-9df0-28b400f70a3e",
   "metadata": {},
   "outputs": [],
   "source": [
    "symmetry_actions = [\n",
    "    [np_I, np_I],\n",
    "    [np_I, np_X],\n",
    "    [np_X, np_I],\n",
    "    [np_X, np_X]\n",
    "]"
   ]
  },
  {
   "cell_type": "code",
   "execution_count": 14,
   "id": "10721838-5776-4da8-9618-01dd30494f13",
   "metadata": {},
   "outputs": [],
   "source": [
    "symmetry_labels = [\n",
    "    'II',\n",
    "    'IX',\n",
    "    'XI',\n",
    "    'XX'\n",
    "]"
   ]
  },
  {
   "cell_type": "code",
   "execution_count": 15,
   "id": "608e2be7-7003-4d86-8bdc-bb7519c6c30c",
   "metadata": {},
   "outputs": [],
   "source": [
    "def generate_problem_rdm(quimb_psi, symmetry_site_pairs, leftmost_symmetry_site,\n",
    "                         num_symmetry_sites, num_boundary_sites):\n",
    "    q_top = quimb_psi.copy(deep=True)\n",
    "    for i, s in symmetry_site_pairs:\n",
    "        q_top.gate(\n",
    "            s,\n",
    "            where=i,\n",
    "            contract=False,\n",
    "            inplace=True\n",
    "        )\n",
    "\n",
    "    \n",
    "    indices_to_map = list(chain(\n",
    "        range(leftmost_symmetry_site-num_boundary_sites, leftmost_symmetry_site),\n",
    "        range(leftmost_symmetry_site+num_symmetry_sites, leftmost_symmetry_site+num_symmetry_sites+num_boundary_sites)\n",
    "    ))\n",
    "\n",
    "    index_mapping = {f'k{i}': f'b{i}' for i in indices_to_map}\n",
    "\n",
    "    q_bottom = (\n",
    "        quimb_psi\n",
    "        .copy()\n",
    "        .reindex(index_mapping, inplace=True)\n",
    "        .conj()\n",
    "    )\n",
    "\n",
    "    sites_to_contract = {\n",
    "        'left': list(range(leftmost_symmetry_site-num_boundary_sites)),\n",
    "        'middle': list(range(leftmost_symmetry_site, leftmost_symmetry_site+num_symmetry_sites)),\n",
    "        'right': list(range(leftmost_symmetry_site+num_symmetry_sites+num_boundary_sites, quimb_psi.L))\n",
    "    }\n",
    "\n",
    "    tags_to_contract = {\n",
    "        k: [f'I{i}' for i in v]\n",
    "        for k, v in sites_to_contract.items()\n",
    "    }\n",
    "\n",
    "    tn = (q_top & q_bottom)\n",
    "\n",
    "    tnc = (\n",
    "        tn\n",
    "        .contract(tags_to_contract['left'])\n",
    "        .contract(tags_to_contract['middle'])\n",
    "        .contract(tags_to_contract['right'])\n",
    "    )\n",
    "\n",
    "    return tnc"
   ]
  },
  {
   "cell_type": "code",
   "execution_count": 16,
   "id": "5c16fb4b-7e24-4d9e-929c-b98296f5c313",
   "metadata": {},
   "outputs": [],
   "source": [
    "def initialize_mpo(left_most_symmetry_site, num_symmetry_sites,\n",
    "                   num_boundary_sites, bond_dimension, phys_dim=2):\n",
    "    # Kind of hard coding the physical dimensions.\n",
    "    ml = qtn.MPO_rand(\n",
    "        num_boundary_sites,\n",
    "        bond_dimension,\n",
    "        phys_dim=phys_dim,\n",
    "        normalize=True,\n",
    "        sites=list(range(left_most_symmetry_site-num_boundary_sites, left_most_symmetry_site)),\n",
    "        dtype=np.complex128,\n",
    "        tags='left_mpo'\n",
    "    )\n",
    "\n",
    "    mr = qtn.MPO_rand(\n",
    "        num_boundary_sites,\n",
    "        bond_dimension,\n",
    "        phys_dim=phys_dim,\n",
    "        normalize=True,\n",
    "        sites=list(range(\n",
    "            left_most_symmetry_site + num_symmetry_sites,\n",
    "            left_most_symmetry_site + num_symmetry_sites + num_boundary_sites\n",
    "        )),\n",
    "        dtype=np.complex128,\n",
    "        tags='right_mpo'\n",
    "    )\n",
    "\n",
    "    mpo = (ml & mr)\n",
    "\n",
    "    return mpo"
   ]
  },
  {
   "cell_type": "markdown",
   "id": "56525c31-f37b-4245-b2ec-82185feed908",
   "metadata": {},
   "source": [
    "## Optimisation functions"
   ]
  },
  {
   "cell_type": "code",
   "execution_count": 17,
   "id": "ad93555d-f4af-4fa2-96fc-2a54f95466e0",
   "metadata": {},
   "outputs": [],
   "source": [
    "def split_mpo_pair(mpo_pair):\n",
    "    ml = qtn.TensorNetwork(\n",
    "        list(map(mpo_pair.tensor_map.__getitem__, mpo.tag_map['left_mpo']))\n",
    "    )\n",
    "\n",
    "    mr = qtn.TensorNetwork(\n",
    "        list(map(mpo_pair.tensor_map.__getitem__, mpo.tag_map['right_mpo']))\n",
    "    )\n",
    "\n",
    "    return (ml, mr)"
   ]
  },
  {
   "cell_type": "code",
   "execution_count": 18,
   "id": "e41dad25-3a05-450c-a853-76a24e53f6bd",
   "metadata": {},
   "outputs": [],
   "source": [
    "def overlap_loss_function(ml, mr, rdm_tn, epsilon=0):\n",
    "    c = (rdm_tn & ml & mr) ^ ...\n",
    "\n",
    "    c_abs_squared = (\n",
    "        c\n",
    "        *jnp.conjugate(c)\n",
    "    )\n",
    "    #c_abs_squared = c_abs_squared.astype('float32')\n",
    "    c_abs = (jnp.sqrt(c_abs_squared+epsilon))\n",
    "\n",
    "    target = jnp.sqrt(1+epsilon)\n",
    "    loss = (c_abs - target)**2\n",
    "\n",
    "    return loss"
   ]
  },
  {
   "cell_type": "code",
   "execution_count": 19,
   "id": "d739d242-7370-4763-8ff2-9e6c2a9bc9ad",
   "metadata": {},
   "outputs": [],
   "source": [
    "def overlap_loss_function_mpo_pair(mpo_pair, rdm_tn):\n",
    "    ml, mr = split_mpo_pair(mpo_pair)\n",
    "\n",
    "    return overlap_loss_function(ml, mr, rdm_tn)"
   ]
  },
  {
   "cell_type": "code",
   "execution_count": 20,
   "id": "0f466494-c220-4ee0-9ae1-0a0a14a38e88",
   "metadata": {},
   "outputs": [],
   "source": [
    "regex_s = r\"^I\\d+$\"\n",
    "regex_p = re.compile(regex_s)"
   ]
  },
  {
   "cell_type": "code",
   "execution_count": 21,
   "id": "23b12517-79b5-45b5-8ae8-07b08b68805d",
   "metadata": {},
   "outputs": [],
   "source": [
    "def relabel_mpo(mpo, k_label, b_label):\n",
    "    site_locs = [\n",
    "        int(k[1:]) for k in mpo.tag_map\n",
    "        if bool(re.search(regex_p, k))\n",
    "    ]\n",
    "\n",
    "    k_in_indices = [f'k{i}' for i in site_locs]\n",
    "    j_in_indices = [f'b{i}' for i in site_locs]\n",
    "\n",
    "    k_out_indices = [f'{k_label}{i}' for i in site_locs]\n",
    "    j_out_indices = [f'{b_label}{i}' for i in site_locs]\n",
    "\n",
    "    mapping = dict(\n",
    "        chain(\n",
    "            zip(k_in_indices, k_out_indices),\n",
    "            zip(j_in_indices, j_out_indices)\n",
    "        )\n",
    "    )\n",
    "\n",
    "    mpo.reindex(mapping, inplace=True)"
   ]
  },
  {
   "cell_type": "code",
   "execution_count": 22,
   "id": "a51b6cd6-be16-433c-a0fd-91fce71aff8f",
   "metadata": {},
   "outputs": [],
   "source": [
    "def unitarity_tn(tn, total_physical_dim):\n",
    "    ms = [tn.copy(), tn.copy(), tn.copy()]\n",
    "\n",
    "    relabel_mpo(ms[0], 'k', 'l')\n",
    "    relabel_mpo(ms[1], 'm', 'l')\n",
    "    relabel_mpo(ms[2], 'm', 'b')\n",
    "\n",
    "    ms[0] = ms[0].conj()\n",
    "    ms[2] = ms[2].conj()\n",
    "\n",
    "    n2tn = (tn & tn.conj())\n",
    "    n2 = n2tn.contract(n2tn.tag_map)\n",
    "    n4tn = (tn & ms[0] & ms[1] & ms[2])\n",
    "    n4 = n4tn.contract(n4tn.tag_map)\n",
    "\n",
    "    out = jnp.real(n4 - 2*n2 + total_physical_dim)\n",
    "\n",
    "    return out"
   ]
  },
  {
   "cell_type": "code",
   "execution_count": 23,
   "id": "43d0c110-9e4c-4981-8f32-16cf01445fa4",
   "metadata": {},
   "outputs": [],
   "source": [
    "def overall_loss_function(mpo_pair, rdm_tn, total_physical_dimension,\n",
    "    unitary_cost_coefficient=1, overlap_cost_coefficient=1, losses=None):\n",
    "    ml, mr = split_mpo_pair(mpo_pair)\n",
    "\n",
    "    o_loss = overlap_loss_function(ml, mr, rdm_tn)\n",
    "    ul_loss = unitarity_tn(ml, total_physical_dimension)\n",
    "    ur_loss = unitarity_tn(mr, total_physical_dimension)\n",
    "\n",
    "    out = (\n",
    "        unitary_cost_coefficient*(ul_loss+ur_loss)\n",
    "        + overlap_cost_coefficient*o_loss\n",
    "    )\n",
    "\n",
    "    out = jnp.real(out)\n",
    "\n",
    "    if losses is not None:\n",
    "        losses.append((o_loss, ul_loss, ur_loss))\n",
    "    return out"
   ]
  },
  {
   "cell_type": "markdown",
   "id": "ddeffedb-0af1-4557-b777-b843a220859c",
   "metadata": {},
   "source": [
    "# Loop and solve for boundary operators"
   ]
  },
  {
   "cell_type": "code",
   "execution_count": 24,
   "id": "21b6bcc3-7d7a-43de-9a16-c0626bb1c025",
   "metadata": {},
   "outputs": [],
   "source": [
    "num_boundary_sites=6\n",
    "left_most_symmetry_site=60\n",
    "num_symmetry_sites=80\n",
    "bond_dimension=5\n",
    "\n",
    "total_physical_dim = 2**num_boundary_sites"
   ]
  },
  {
   "cell_type": "code",
   "execution_count": 25,
   "id": "33ee56db-2db8-4937-9397-e2bf4de6863b",
   "metadata": {},
   "outputs": [],
   "source": [
    "num_iterations = int(5e3) \n",
    "num_seeds = 10\n",
    "\n",
    "alpha=3e-4\n",
    "beta_1 = 0.4\n",
    "beta_2 = 0.4\n",
    "overlap_learning_rate=10\n",
    "\n",
    "score_target=0.1"
   ]
  },
  {
   "cell_type": "code",
   "execution_count": 26,
   "id": "76f05b02-884c-4c3e-b7c9-1d8e1c34c123",
   "metadata": {
    "scrolled": true
   },
   "outputs": [
    {
     "name": "stderr",
     "output_type": "stream",
     "text": [
      "  0%|                                                                                                                                                    | 0/5000 [00:00<?, ?it/s]/Users/kierancooney/.pyenv/versions/num_spt_venv_p11/lib/python3.11/site-packages/quimb/tensor/optimize.py:135: UserWarning: dtype mismatch between input parameter and updated values. This can occur e.g. with jax and double precision arrays (in which case consider setting `jax.config.update(\"jax_enable_x64\", True)` at startup or using single precision parameters directly). For now casting from complex64 to complex128.\n",
      "  warnings.warn(\n",
      "+0.003898471827 [best: +0.001938064466] : : 5001it [00:07, 625.70it/s]                                                                                                            \n"
     ]
    },
    {
     "name": "stdout",
     "output_type": "stream",
     "text": [
      "Saving: solutions/0.0_1_1.pickle\n"
     ]
    },
    {
     "name": "stderr",
     "output_type": "stream",
     "text": [
      "+0.006448279601 [best: +0.001184285968] : : 5001it [00:07, 629.74it/s]                                                                                                            \n"
     ]
    },
    {
     "name": "stdout",
     "output_type": "stream",
     "text": [
      "Saving: solutions/0.0_2_1.pickle\n"
     ]
    },
    {
     "name": "stderr",
     "output_type": "stream",
     "text": [
      "+0.004438123666 [best: +0.001424031332] : : 5001it [00:07, 630.97it/s]                                                                                                            \n"
     ]
    },
    {
     "name": "stdout",
     "output_type": "stream",
     "text": [
      "Saving: solutions/0.0_3_1.pickle\n"
     ]
    },
    {
     "name": "stderr",
     "output_type": "stream",
     "text": [
      "+0.005682895891 [best: +0.002508692676] : : 5001it [00:08, 592.70it/s]                                                                                                            \n"
     ]
    },
    {
     "name": "stdout",
     "output_type": "stream",
     "text": [
      "Saving: solutions/0.1_1_1.pickle\n"
     ]
    },
    {
     "name": "stderr",
     "output_type": "stream",
     "text": [
      "+0.003970586229 [best: +0.001492828131] : : 5001it [00:08, 591.48it/s]                                                                                                            \n"
     ]
    },
    {
     "name": "stdout",
     "output_type": "stream",
     "text": [
      "Saving: solutions/0.1_2_1.pickle\n"
     ]
    },
    {
     "name": "stderr",
     "output_type": "stream",
     "text": [
      "+0.007192279678 [best: +0.002078964375] : : 5001it [00:08, 590.32it/s]                                                                                                            \n"
     ]
    },
    {
     "name": "stdout",
     "output_type": "stream",
     "text": [
      "Saving: solutions/0.1_3_1.pickle\n"
     ]
    },
    {
     "name": "stderr",
     "output_type": "stream",
     "text": [
      "+0.004022007342 [best: +0.003442064160] : : 5001it [00:08, 595.05it/s]                                                                                                            \n"
     ]
    },
    {
     "name": "stdout",
     "output_type": "stream",
     "text": [
      "Saving: solutions/0.2_1_1.pickle\n"
     ]
    },
    {
     "name": "stderr",
     "output_type": "stream",
     "text": [
      "+0.008704075590 [best: +0.006880163681] : : 5001it [00:08, 590.88it/s]                                                                                                            \n"
     ]
    },
    {
     "name": "stdout",
     "output_type": "stream",
     "text": [
      "Saving: solutions/0.2_2_1.pickle\n"
     ]
    },
    {
     "name": "stderr",
     "output_type": "stream",
     "text": [
      "+0.005190647673 [best: +0.004386923276] : : 5001it [00:08, 596.82it/s]                                                                                                            \n"
     ]
    },
    {
     "name": "stdout",
     "output_type": "stream",
     "text": [
      "Saving: solutions/0.2_3_1.pickle\n"
     ]
    },
    {
     "name": "stderr",
     "output_type": "stream",
     "text": [
      "+0.017653260380 [best: +0.016506722197] : : 5001it [00:08, 595.04it/s]                                                                                                            \n"
     ]
    },
    {
     "name": "stdout",
     "output_type": "stream",
     "text": [
      "Saving: solutions/0.3_1_1.pickle\n"
     ]
    },
    {
     "name": "stderr",
     "output_type": "stream",
     "text": [
      "+0.023728003725 [best: +0.021521393210] : : 5001it [00:08, 570.51it/s]                                                                                                            \n"
     ]
    },
    {
     "name": "stdout",
     "output_type": "stream",
     "text": [
      "Saving: solutions/0.3_2_1.pickle\n"
     ]
    },
    {
     "name": "stderr",
     "output_type": "stream",
     "text": [
      "+0.031231982633 [best: +0.027453035116] : : 5001it [00:08, 577.44it/s]                                                                                                            \n"
     ]
    },
    {
     "name": "stdout",
     "output_type": "stream",
     "text": [
      "Saving: solutions/0.3_3_1.pickle\n"
     ]
    },
    {
     "name": "stderr",
     "output_type": "stream",
     "text": [
      "+0.040320117027 [best: +0.039184376597] : : 5001it [00:08, 567.02it/s]                                                                                                            \n"
     ]
    },
    {
     "name": "stdout",
     "output_type": "stream",
     "text": [
      "Saving: solutions/0.4_1_1.pickle\n"
     ]
    },
    {
     "name": "stderr",
     "output_type": "stream",
     "text": [
      "+0.026783876121 [best: +0.017438109964] : : 5001it [00:08, 560.05it/s]                                                                                                            \n"
     ]
    },
    {
     "name": "stdout",
     "output_type": "stream",
     "text": [
      "Saving: solutions/0.4_2_1.pickle\n"
     ]
    },
    {
     "name": "stderr",
     "output_type": "stream",
     "text": [
      "+0.053051672876 [best: +0.051368758082] : : 5001it [00:08, 572.22it/s]                                                                                                            \n"
     ]
    },
    {
     "name": "stdout",
     "output_type": "stream",
     "text": [
      "Saving: solutions/0.4_3_1.pickle\n"
     ]
    },
    {
     "name": "stderr",
     "output_type": "stream",
     "text": [
      "+0.022013479844 [best: +0.021134942770] : : 5001it [00:09, 548.75it/s]                                                                                                            \n"
     ]
    },
    {
     "name": "stdout",
     "output_type": "stream",
     "text": [
      "Saving: solutions/0.5_1_1.pickle\n"
     ]
    },
    {
     "name": "stderr",
     "output_type": "stream",
     "text": [
      "+0.023339021951 [best: +0.022112097591] : : 5001it [00:08, 559.23it/s]                                                                                                            \n"
     ]
    },
    {
     "name": "stdout",
     "output_type": "stream",
     "text": [
      "Saving: solutions/0.5_2_1.pickle\n"
     ]
    },
    {
     "name": "stderr",
     "output_type": "stream",
     "text": [
      "+0.040078446269 [best: +0.038137994707] : : 5001it [00:09, 516.64it/s]                                                                                                            \n"
     ]
    },
    {
     "name": "stdout",
     "output_type": "stream",
     "text": [
      "Saving: solutions/0.5_3_1.pickle\n"
     ]
    },
    {
     "name": "stderr",
     "output_type": "stream",
     "text": [
      "+0.081430822611 [best: +0.080513983965] : : 5001it [00:09, 547.07it/s]                                                                                                            \n"
     ]
    },
    {
     "name": "stdout",
     "output_type": "stream",
     "text": [
      "Saving: solutions/0.6_1_1.pickle\n"
     ]
    },
    {
     "name": "stderr",
     "output_type": "stream",
     "text": [
      "+0.053346335888 [best: +0.051973123103] : : 5001it [00:09, 536.88it/s]                                                                                                            \n"
     ]
    },
    {
     "name": "stdout",
     "output_type": "stream",
     "text": [
      "Saving: solutions/0.6_2_1.pickle\n"
     ]
    },
    {
     "name": "stderr",
     "output_type": "stream",
     "text": [
      "+0.085760399699 [best: +0.080425724387] : : 5001it [00:09, 509.96it/s]                                                                                                            \n"
     ]
    },
    {
     "name": "stdout",
     "output_type": "stream",
     "text": [
      "Saving: solutions/0.6_3_1.pickle\n"
     ]
    },
    {
     "name": "stderr",
     "output_type": "stream",
     "text": [
      "+0.139464452863 [best: +0.138883680105] : : 5001it [00:09, 504.24it/s]                                                                                                            \n"
     ]
    },
    {
     "name": "stdout",
     "output_type": "stream",
     "text": [
      "Saving: solutions/0.7_1_1.pickle\n"
     ]
    },
    {
     "name": "stderr",
     "output_type": "stream",
     "text": [
      "+0.044113557786 [best: +0.044113557786] : : 5001it [00:09, 540.02it/s]                                                                                                            \n"
     ]
    },
    {
     "name": "stdout",
     "output_type": "stream",
     "text": [
      "Saving: solutions/0.7_2_1.pickle\n"
     ]
    },
    {
     "name": "stderr",
     "output_type": "stream",
     "text": [
      "+0.071526318789 [best: +0.070974737406] : : 5001it [00:09, 549.57it/s]                                                                                                            \n"
     ]
    },
    {
     "name": "stdout",
     "output_type": "stream",
     "text": [
      "Saving: solutions/0.7_3_1.pickle\n"
     ]
    },
    {
     "name": "stderr",
     "output_type": "stream",
     "text": [
      "+0.173008039594 [best: +0.172082111239] : : 5001it [00:09, 546.57it/s]                                                                                                            \n"
     ]
    },
    {
     "name": "stdout",
     "output_type": "stream",
     "text": [
      "Saving: solutions/0.8_1_1.pickle\n"
     ]
    },
    {
     "name": "stderr",
     "output_type": "stream",
     "text": [
      "+0.093530736864 [best: +0.088498041034] : : 5001it [00:09, 524.71it/s]                                                                                                            \n"
     ]
    },
    {
     "name": "stdout",
     "output_type": "stream",
     "text": [
      "Saving: solutions/0.8_2_1.pickle\n"
     ]
    },
    {
     "name": "stderr",
     "output_type": "stream",
     "text": [
      "+0.216257795691 [best: +0.215820282698] : : 5001it [00:11, 439.05it/s]                                                                                                            \n"
     ]
    },
    {
     "name": "stdout",
     "output_type": "stream",
     "text": [
      "Saving: solutions/0.8_3_1.pickle\n"
     ]
    },
    {
     "name": "stderr",
     "output_type": "stream",
     "text": [
      "+0.144475668669 [best: +0.143489629030] : : 5001it [00:10, 472.13it/s]                                                                                                            \n"
     ]
    },
    {
     "name": "stdout",
     "output_type": "stream",
     "text": [
      "Saving: solutions/0.9_1_1.pickle\n"
     ]
    },
    {
     "name": "stderr",
     "output_type": "stream",
     "text": [
      "+0.269100278616 [best: +0.269100278616] : : 5001it [00:10, 461.70it/s]                                                                                                            \n"
     ]
    },
    {
     "name": "stdout",
     "output_type": "stream",
     "text": [
      "Saving: solutions/0.9_2_1.pickle\n"
     ]
    },
    {
     "name": "stderr",
     "output_type": "stream",
     "text": [
      "+0.607961535454 [best: +0.606830894947] : : 5001it [00:09, 528.11it/s]                                                                                                            \n"
     ]
    },
    {
     "name": "stdout",
     "output_type": "stream",
     "text": [
      "Saving: solutions/0.9_3_1.pickle\n"
     ]
    },
    {
     "name": "stderr",
     "output_type": "stream",
     "text": [
      "+9.829246520996 [best: +9.823372840881] : : 5001it [00:06, 719.28it/s]                                                                                                            \n"
     ]
    },
    {
     "name": "stdout",
     "output_type": "stream",
     "text": [
      "Saving: solutions/1.0_1_1.pickle\n"
     ]
    },
    {
     "name": "stderr",
     "output_type": "stream",
     "text": [
      "+0.404903799295 [best: +0.404817163944] : : 5001it [00:07, 690.88it/s]                                                                                                            \n"
     ]
    },
    {
     "name": "stdout",
     "output_type": "stream",
     "text": [
      "Saving: solutions/1.0_2_1.pickle\n"
     ]
    },
    {
     "name": "stderr",
     "output_type": "stream",
     "text": [
      "+9.981700897217 [best: +9.978163719177] : : 5001it [00:06, 801.89it/s]                                                                                                            \n"
     ]
    },
    {
     "name": "stdout",
     "output_type": "stream",
     "text": [
      "Saving: solutions/1.0_3_1.pickle\n"
     ]
    },
    {
     "name": "stderr",
     "output_type": "stream",
     "text": [
      "+0.243786871433 [best: +0.239970430732] : : 5001it [00:06, 761.26it/s]                                                                                                            \n"
     ]
    },
    {
     "name": "stdout",
     "output_type": "stream",
     "text": [
      "Saving: solutions/1.1_1_1.pickle\n"
     ]
    },
    {
     "name": "stderr",
     "output_type": "stream",
     "text": [
      "+0.232743993402 [best: +0.230619132519] : : 5001it [00:06, 731.73it/s]                                                                                                            \n"
     ]
    },
    {
     "name": "stdout",
     "output_type": "stream",
     "text": [
      "Saving: solutions/1.1_2_1.pickle\n"
     ]
    },
    {
     "name": "stderr",
     "output_type": "stream",
     "text": [
      "+0.640667378902 [best: +0.635825872421] : : 5001it [00:08, 555.88it/s]                                                                                                            \n"
     ]
    },
    {
     "name": "stdout",
     "output_type": "stream",
     "text": [
      "Saving: solutions/1.1_3_1.pickle\n"
     ]
    },
    {
     "name": "stderr",
     "output_type": "stream",
     "text": [
      "+0.094384580851 [best: +0.093509227037] : : 5001it [00:09, 531.39it/s]                                                                                                            \n"
     ]
    },
    {
     "name": "stdout",
     "output_type": "stream",
     "text": [
      "Saving: solutions/1.2_1_1.pickle\n"
     ]
    },
    {
     "name": "stderr",
     "output_type": "stream",
     "text": [
      "+0.091952055693 [best: +0.088064789772] : : 5001it [00:11, 428.83it/s]                                                                                                            \n"
     ]
    },
    {
     "name": "stdout",
     "output_type": "stream",
     "text": [
      "Saving: solutions/1.2_2_1.pickle\n"
     ]
    },
    {
     "name": "stderr",
     "output_type": "stream",
     "text": [
      "+0.250769913197 [best: +0.247783511877] : : 5001it [00:11, 439.74it/s]                                                                                                            \n"
     ]
    },
    {
     "name": "stdout",
     "output_type": "stream",
     "text": [
      "Saving: solutions/1.2_3_1.pickle\n"
     ]
    },
    {
     "name": "stderr",
     "output_type": "stream",
     "text": [
      "+0.075787790120 [best: +0.074904799461] : : 5001it [00:10, 467.82it/s]                                                                                                            \n"
     ]
    },
    {
     "name": "stdout",
     "output_type": "stream",
     "text": [
      "Saving: solutions/1.3_1_1.pickle\n"
     ]
    },
    {
     "name": "stderr",
     "output_type": "stream",
     "text": [
      "+0.087012603879 [best: +0.079761594534] : : 5001it [00:11, 429.55it/s]                                                                                                            \n"
     ]
    },
    {
     "name": "stdout",
     "output_type": "stream",
     "text": [
      "Saving: solutions/1.3_2_1.pickle\n"
     ]
    },
    {
     "name": "stderr",
     "output_type": "stream",
     "text": [
      "+0.147135227919 [best: +0.146109163761] : : 5001it [00:10, 491.38it/s]                                                                                                            \n"
     ]
    },
    {
     "name": "stdout",
     "output_type": "stream",
     "text": [
      "Saving: solutions/1.3_3_1.pickle\n"
     ]
    },
    {
     "name": "stderr",
     "output_type": "stream",
     "text": [
      "+0.057839706540 [best: +0.057208616287] : : 5001it [00:08, 585.18it/s]                                                                                                            \n"
     ]
    },
    {
     "name": "stdout",
     "output_type": "stream",
     "text": [
      "Saving: solutions/1.4_1_1.pickle\n"
     ]
    },
    {
     "name": "stderr",
     "output_type": "stream",
     "text": [
      "+0.090938776731 [best: +0.088450044394] : : 5001it [00:08, 600.72it/s]                                                                                                            \n"
     ]
    },
    {
     "name": "stdout",
     "output_type": "stream",
     "text": [
      "Saving: solutions/1.4_2_1.pickle\n"
     ]
    },
    {
     "name": "stderr",
     "output_type": "stream",
     "text": [
      "+0.075473308563 [best: +0.071600437164] : : 5001it [00:08, 601.88it/s]                                                                                                            \n"
     ]
    },
    {
     "name": "stdout",
     "output_type": "stream",
     "text": [
      "Saving: solutions/1.4_3_1.pickle\n"
     ]
    },
    {
     "name": "stderr",
     "output_type": "stream",
     "text": [
      "+0.041450724006 [best: +0.040829345584] : : 5001it [00:08, 576.68it/s]                                                                                                            \n"
     ]
    },
    {
     "name": "stdout",
     "output_type": "stream",
     "text": [
      "Saving: solutions/1.5_1_1.pickle\n"
     ]
    },
    {
     "name": "stderr",
     "output_type": "stream",
     "text": [
      "+0.053668156266 [best: +0.051601655781] : : 5001it [00:08, 594.13it/s]                                                                                                            \n"
     ]
    },
    {
     "name": "stdout",
     "output_type": "stream",
     "text": [
      "Saving: solutions/1.5_2_1.pickle\n"
     ]
    },
    {
     "name": "stderr",
     "output_type": "stream",
     "text": [
      "+0.093356281519 [best: +0.091599509120] : : 5001it [00:08, 595.56it/s]                                                                                                            \n"
     ]
    },
    {
     "name": "stdout",
     "output_type": "stream",
     "text": [
      "Saving: solutions/1.5_3_1.pickle\n"
     ]
    },
    {
     "name": "stderr",
     "output_type": "stream",
     "text": [
      "+0.043461836874 [best: +0.042221747339] : : 5001it [00:09, 522.84it/s]                                                                                                            \n"
     ]
    },
    {
     "name": "stdout",
     "output_type": "stream",
     "text": [
      "Saving: solutions/1.6_1_1.pickle\n"
     ]
    },
    {
     "name": "stderr",
     "output_type": "stream",
     "text": [
      "+0.057756900787 [best: +0.055823918432] : : 5001it [00:09, 538.46it/s]                                                                                                            \n"
     ]
    },
    {
     "name": "stdout",
     "output_type": "stream",
     "text": [
      "Saving: solutions/1.6_2_1.pickle\n"
     ]
    },
    {
     "name": "stderr",
     "output_type": "stream",
     "text": [
      "+0.053781963885 [best: +0.052410818636] : : 5001it [00:10, 489.35it/s]                                                                                                            \n"
     ]
    },
    {
     "name": "stdout",
     "output_type": "stream",
     "text": [
      "Saving: solutions/1.6_3_1.pickle\n"
     ]
    },
    {
     "name": "stderr",
     "output_type": "stream",
     "text": [
      "+0.050040226430 [best: +0.042611695826] : : 5001it [00:09, 511.99it/s]                                                                                                            \n"
     ]
    },
    {
     "name": "stdout",
     "output_type": "stream",
     "text": [
      "Saving: solutions/1.7_1_1.pickle\n"
     ]
    },
    {
     "name": "stderr",
     "output_type": "stream",
     "text": [
      "+0.058542393148 [best: +0.058542393148] : : 5001it [00:09, 545.85it/s]                                                                                                            \n"
     ]
    },
    {
     "name": "stdout",
     "output_type": "stream",
     "text": [
      "Saving: solutions/1.7_2_1.pickle\n"
     ]
    },
    {
     "name": "stderr",
     "output_type": "stream",
     "text": [
      "+0.056787073612 [best: +0.051851190627] : : 5001it [00:08, 565.28it/s]                                                                                                            \n"
     ]
    },
    {
     "name": "stdout",
     "output_type": "stream",
     "text": [
      "Saving: solutions/1.7_3_1.pickle\n"
     ]
    },
    {
     "name": "stderr",
     "output_type": "stream",
     "text": [
      "+0.054767098278 [best: +0.050603866577] : : 5001it [00:08, 559.51it/s]                                                                                                            \n"
     ]
    },
    {
     "name": "stdout",
     "output_type": "stream",
     "text": [
      "Saving: solutions/1.8_1_1.pickle\n"
     ]
    },
    {
     "name": "stderr",
     "output_type": "stream",
     "text": [
      "+0.033067487180 [best: +0.032013725489] : : 5001it [00:08, 558.93it/s]                                                                                                            \n"
     ]
    },
    {
     "name": "stdout",
     "output_type": "stream",
     "text": [
      "Saving: solutions/1.8_2_1.pickle\n"
     ]
    },
    {
     "name": "stderr",
     "output_type": "stream",
     "text": [
      "+0.043604157865 [best: +0.042830966413] : : 5001it [00:08, 571.34it/s]                                                                                                            \n"
     ]
    },
    {
     "name": "stdout",
     "output_type": "stream",
     "text": [
      "Saving: solutions/1.8_3_1.pickle\n"
     ]
    },
    {
     "name": "stderr",
     "output_type": "stream",
     "text": [
      "+0.053153976798 [best: +0.048554681242] : : 5001it [00:08, 556.69it/s]                                                                                                            \n"
     ]
    },
    {
     "name": "stdout",
     "output_type": "stream",
     "text": [
      "Saving: solutions/1.9_1_1.pickle\n"
     ]
    },
    {
     "name": "stderr",
     "output_type": "stream",
     "text": [
      "+0.056237153709 [best: +0.054473247379] : : 5001it [00:08, 559.12it/s]                                                                                                            \n"
     ]
    },
    {
     "name": "stdout",
     "output_type": "stream",
     "text": [
      "Saving: solutions/1.9_2_1.pickle\n"
     ]
    },
    {
     "name": "stderr",
     "output_type": "stream",
     "text": [
      "+0.035695116967 [best: +0.030741978437] : : 5001it [00:08, 560.69it/s]                                                                                                            \n"
     ]
    },
    {
     "name": "stdout",
     "output_type": "stream",
     "text": [
      "Saving: solutions/1.9_3_1.pickle\n"
     ]
    },
    {
     "name": "stderr",
     "output_type": "stream",
     "text": [
      "+0.043121814728 [best: +0.038444042206] : : 5001it [00:08, 583.08it/s]                                                                                                            \n"
     ]
    },
    {
     "name": "stdout",
     "output_type": "stream",
     "text": [
      "Saving: solutions/2.0_1_1.pickle\n"
     ]
    },
    {
     "name": "stderr",
     "output_type": "stream",
     "text": [
      "+0.051157221198 [best: +0.050833027810] : : 5001it [00:08, 555.96it/s]                                                                                                            \n"
     ]
    },
    {
     "name": "stdout",
     "output_type": "stream",
     "text": [
      "Saving: solutions/2.0_2_1.pickle\n"
     ]
    },
    {
     "name": "stderr",
     "output_type": "stream",
     "text": [
      "+0.033654704690 [best: +0.032682918012] : : 5001it [00:08, 557.63it/s]                                                                                                            \n"
     ]
    },
    {
     "name": "stdout",
     "output_type": "stream",
     "text": [
      "Saving: solutions/2.0_3_1.pickle\n"
     ]
    }
   ],
   "source": [
    "for k1, mps_psi in psi_dict.items():\n",
    "\n",
    "    psi_arrays = list()\n",
    "    psi_arrays.append(mps_psi.get_B(0, 'Th')[0, ...].to_ndarray())\n",
    "    for i in range(1, mps_psi.L-1):\n",
    "        psi_arrays.append(mps_psi.get_B(i).to_ndarray())\n",
    "    psi_arrays.append(mps_psi.get_B(mps_psi.L-1)[..., 0].to_ndarray())\n",
    "\n",
    "    q1 = (\n",
    "        qtn\n",
    "        .tensor_1d\n",
    "        .MatrixProductState(psi_arrays, shape='lpr')\n",
    "    )\n",
    "\n",
    "    for k2, bs in enumerate(symmetry_actions[1:], start=1):\n",
    "        symmetry_site_pairs = (\n",
    "            [(i, bs[0]) for i in range(left_most_symmetry_site, left_most_symmetry_site+num_symmetry_sites, 2)]\n",
    "            + [(i, bs[1]) for i in range(left_most_symmetry_site+1, left_most_symmetry_site+num_symmetry_sites+1, 2)]\n",
    "        )\n",
    "\n",
    "        problem_rdm = generate_problem_rdm(\n",
    "            q1,\n",
    "            symmetry_site_pairs,\n",
    "            left_most_symmetry_site,\n",
    "            num_symmetry_sites,\n",
    "            num_boundary_sites\n",
    "        )\n",
    "\n",
    "        seed_number = 0\n",
    "        new_seed_needed=True\n",
    "        while new_seed_needed:\n",
    "            mpo = initialize_mpo(\n",
    "                left_most_symmetry_site,\n",
    "                num_symmetry_sites,\n",
    "                num_boundary_sites,\n",
    "                bond_dimension\n",
    "            )\n",
    "        \n",
    "            optmzr = qtn.optimize.TNOptimizer(\n",
    "                mpo,                                \n",
    "                loss_fn=overall_loss_function,\n",
    "                loss_kwargs={\n",
    "                    'rdm_tn': problem_rdm,\n",
    "                    'total_physical_dimension': total_physical_dim,\n",
    "                    'unitary_cost_coefficient': 1,\n",
    "                    'overlap_cost_coefficient': overlap_learning_rate\n",
    "                },\n",
    "                autodiff_backend='jax',\n",
    "                optimizer='cadam',\n",
    "            )\n",
    "\n",
    "            optmzr.optimize(\n",
    "                num_iterations,\n",
    "                learning_rate=alpha,\n",
    "                beta1=beta_1,\n",
    "                beta2=beta_2,\n",
    "                tol=score_target\n",
    "            )\n",
    "\n",
    "            final_score = jnp.min(np.array(optmzr.losses))\n",
    "\n",
    "            if (seed_number == new_seed_needed - 1) or (final_score < score_target):\n",
    "                new_seed_needed = False\n",
    "\n",
    "            seed_number += 1\n",
    "\n",
    "            file_name = rf'solutions/{k1}_{k2}_{seed_number}.pickle'\n",
    "            print('Saving: ' + file_name)\n",
    "\n",
    "            with open(file_name, 'wb') as file:\n",
    "                pickle.dump([final_score, optmzr.get_tn_opt()], file)"
   ]
  }
 ],
 "metadata": {
  "kernelspec": {
   "display_name": "num_spt_venv_p11",
   "language": "python",
   "name": "num_spt_venv_p11"
  },
  "language_info": {
   "codemirror_mode": {
    "name": "ipython",
    "version": 3
   },
   "file_extension": ".py",
   "mimetype": "text/x-python",
   "name": "python",
   "nbconvert_exporter": "python",
   "pygments_lexer": "ipython3",
   "version": "3.11.9"
  }
 },
 "nbformat": 4,
 "nbformat_minor": 5
}
