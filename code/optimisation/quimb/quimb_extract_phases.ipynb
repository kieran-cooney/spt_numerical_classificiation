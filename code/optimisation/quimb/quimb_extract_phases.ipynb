{
 "cells": [
  {
   "cell_type": "markdown",
   "id": "6a2dac7f-2bbc-4993-8a37-4dc5bd7c4f33",
   "metadata": {},
   "source": [
    "# QUIMB extract phases\n",
    "Created 03/07/2024\n",
    "\n",
    "Objectives:\n",
    "* Use QUIMB to extract SPT phase from boundary operators calculated [here](quimb_save_boundary_operators.ipynb)."
   ]
  },
  {
   "cell_type": "markdown",
   "id": "725eaa22-d2a4-40d8-9a97-ad5bd49becb7",
   "metadata": {},
   "source": [
    "# Package imports"
   ]
  },
  {
   "cell_type": "code",
   "execution_count": 13,
   "id": "ecb41ea3-927f-4efa-aebe-ce15784aa037",
   "metadata": {},
   "outputs": [],
   "source": [
    "import sys"
   ]
  },
  {
   "cell_type": "code",
   "execution_count": 14,
   "id": "0375bd38-12e1-417a-908a-13fb540081f5",
   "metadata": {},
   "outputs": [],
   "source": [
    "sys.path.append(\"../../\")"
   ]
  },
  {
   "cell_type": "code",
   "execution_count": 15,
   "id": "0cf49837-01b6-431a-b570-d7ed25903239",
   "metadata": {},
   "outputs": [],
   "source": [
    "from itertools import chain, combinations\n",
    "from collections import defaultdict\n",
    "import re"
   ]
  },
  {
   "cell_type": "code",
   "execution_count": 16,
   "id": "f59344b7-d34e-47e4-99be-f5a2687f8176",
   "metadata": {},
   "outputs": [],
   "source": [
    "import h5py\n",
    "from tenpy.tools import hdf5_io\n",
    "import tenpy\n",
    "import tenpy.linalg.np_conserved as npc\n",
    "\n",
    "import os\n",
    "import pickle"
   ]
  },
  {
   "cell_type": "code",
   "execution_count": 79,
   "id": "19404619-d778-4cc3-8ee1-1db6f14b2043",
   "metadata": {},
   "outputs": [],
   "source": [
    "import numpy as np\n",
    "import jax.numpy as jnp\n",
    "\n",
    "import pandas as pd\n",
    "\n",
    "import matplotlib.pyplot as plt\n",
    "import matplotlib"
   ]
  },
  {
   "cell_type": "code",
   "execution_count": 18,
   "id": "92eeb066-5463-4237-ad07-3c5a0d934f4f",
   "metadata": {},
   "outputs": [],
   "source": [
    "import quimb as qu\n",
    "import quimb.tensor as qtn\n",
    "from quimb.tensor.optimize import TNOptimizer"
   ]
  },
  {
   "cell_type": "markdown",
   "id": "71c44d61-9279-4312-9ba8-6f07fe68bf65",
   "metadata": {},
   "source": [
    "# Load data"
   ]
  },
  {
   "cell_type": "code",
   "execution_count": 19,
   "id": "c196fe74-d78a-4205-a41a-acfa510831d1",
   "metadata": {},
   "outputs": [],
   "source": [
    "DATA_DIR = r\"../../data/transverse_cluster_200_site_dmrg\""
   ]
  },
  {
   "cell_type": "code",
   "execution_count": 20,
   "id": "e1a89621-91df-4f40-adef-f16acbdea3e9",
   "metadata": {},
   "outputs": [],
   "source": [
    "loaded_data = list()\n",
    "\n",
    "for local_file_name in os.listdir(DATA_DIR):\n",
    "    f_name = r\"{}/{}\".format(DATA_DIR, local_file_name, ignore_unknown=False)\n",
    "    with h5py.File(f_name, 'r') as f:\n",
    "        data = hdf5_io.load_from_hdf5(f)\n",
    "        loaded_data.append(data)"
   ]
  },
  {
   "cell_type": "code",
   "execution_count": 21,
   "id": "b805dcff-dfda-4ca4-ba53-c6a3d6822dd4",
   "metadata": {},
   "outputs": [],
   "source": [
    "b_parameters = sorted(list(d['paramters']['B'] for d in loaded_data))"
   ]
  },
  {
   "cell_type": "code",
   "execution_count": 22,
   "id": "827a26d6-a667-4828-bf55-db731e15d89d",
   "metadata": {},
   "outputs": [],
   "source": [
    "psi_dict = dict()"
   ]
  },
  {
   "cell_type": "code",
   "execution_count": 23,
   "id": "e0e8c819-03d8-4a47-b853-365d65364ac7",
   "metadata": {},
   "outputs": [],
   "source": [
    "for b in b_parameters:\n",
    "    psi = next(\n",
    "        d['wavefunction']\n",
    "        for d in loaded_data\n",
    "        if d['paramters']['B'] == b\n",
    "    )\n",
    "\n",
    "    rounded_b = round(b, 1)\n",
    "    psi_dict[rounded_b] = psi"
   ]
  },
  {
   "cell_type": "markdown",
   "id": "c5391a4a-0f95-4f75-9ee5-364293d260bb",
   "metadata": {},
   "source": [
    "## Load boundary operators"
   ]
  },
  {
   "cell_type": "code",
   "execution_count": 24,
   "id": "84955b31-cf2e-4ac2-9c29-cdfb044db5ee",
   "metadata": {},
   "outputs": [],
   "source": [
    "SOL_DIR = r\"solutions/\""
   ]
  },
  {
   "cell_type": "code",
   "execution_count": 25,
   "id": "49ec504a-d2ad-4b9e-b0fa-fda9a3d627a6",
   "metadata": {},
   "outputs": [],
   "source": [
    "file_name_pattern = re.compile(r'^\\d\\.\\d_\\d_\\d\\.pickle$')"
   ]
  },
  {
   "cell_type": "code",
   "execution_count": 26,
   "id": "2ad6c9f4-cdfc-40fd-a2d3-291b202113dd",
   "metadata": {},
   "outputs": [],
   "source": [
    "def parse_file_name(file_name):\n",
    "    if not bool(file_name_pattern.match(file_name)):\n",
    "        return None\n",
    "\n",
    "    file_name = '.'.join((file_name.split('.'))[:-1])\n",
    "\n",
    "    b, sym_index, i = file_name.split('_')\n",
    "\n",
    "    b = float(b)\n",
    "    sym_index = int(sym_index)\n",
    "    i = int(i)\n",
    "    \n",
    "    return (b, sym_index, i)"
   ]
  },
  {
   "cell_type": "code",
   "execution_count": 27,
   "id": "9043a80d-7c54-4148-9a98-f899bed61f1c",
   "metadata": {},
   "outputs": [],
   "source": [
    "boundary_operator_solutions = dict()\n",
    "\n",
    "for local_file_name in list(os.walk(SOL_DIR))[0][2]:\n",
    "    f_name = r\"{}/{}\".format(SOL_DIR, local_file_name, ignore_unknown=False)\n",
    "\n",
    "    key = parse_file_name(local_file_name)\n",
    "\n",
    "    if key is not None:\n",
    "        with open(f_name, 'rb') as f:\n",
    "            out = pickle.load(f)\n",
    "    \n",
    "            boundary_operator_solutions[key] = out"
   ]
  },
  {
   "cell_type": "code",
   "execution_count": 28,
   "id": "74ddc5ea-125d-4572-a861-ab016af1a5b9",
   "metadata": {},
   "outputs": [
    {
     "data": {
      "text/plain": [
       "[Array(0.00193806, dtype=float32),\n",
       " TensorNetwork1D(tensors=12, indices=34, L=6, max_bond=5)]"
      ]
     },
     "execution_count": 28,
     "metadata": {},
     "output_type": "execute_result"
    }
   ],
   "source": [
    "boundary_operator_solutions[(0.0, 1, 1)]"
   ]
  },
  {
   "cell_type": "code",
   "execution_count": 29,
   "id": "3b5a2288-ef1f-47ea-b533-6725051c76ae",
   "metadata": {},
   "outputs": [
    {
     "data": {
      "text/plain": [
       "dict_keys([(0.5, 1, 1), (0.9, 2, 1), (0.9, 3, 1), (1.1, 3, 1), (1.1, 2, 1), (0.4, 2, 1), (0.4, 3, 1), (0.8, 1, 1), (1.0, 1, 1), (0.1, 2, 1), (0.1, 3, 1), (1.9, 3, 1), (1.9, 2, 1), (1.5, 1, 1), (0.0, 1, 1), (1.8, 1, 1), (1.4, 3, 1), (1.4, 2, 1), (1.3, 2, 1), (1.3, 3, 1), (0.7, 1, 1), (1.2, 1, 1), (0.6, 3, 1), (0.6, 2, 1), (2.0, 3, 1), (2.0, 2, 1), (1.7, 1, 1), (0.3, 3, 1), (0.3, 2, 1), (1.6, 2, 1), (1.6, 3, 1), (0.2, 1, 1), (0.0, 3, 1), (0.0, 2, 1), (1.8, 2, 1), (1.8, 3, 1), (1.4, 1, 1), (0.1, 1, 1), (1.9, 1, 1), (1.5, 2, 1), (1.5, 3, 1), (0.4, 1, 1), (0.8, 3, 1), (0.8, 2, 1), (1.0, 2, 1), (1.0, 3, 1), (0.5, 3, 1), (0.5, 2, 1), (0.9, 1, 1), (1.1, 1, 1), (1.6, 1, 1), (0.2, 2, 1), (0.2, 3, 1), (1.7, 3, 1), (1.7, 2, 1), (2.0, 1, 1), (0.3, 1, 1), (1.2, 3, 1), (1.2, 2, 1), (0.6, 1, 1), (1.3, 1, 1), (0.7, 2, 1), (0.7, 3, 1)])"
      ]
     },
     "execution_count": 29,
     "metadata": {},
     "output_type": "execute_result"
    }
   ],
   "source": [
    "boundary_operator_solutions.keys()"
   ]
  },
  {
   "cell_type": "markdown",
   "id": "aeaeed8f-9e64-4383-bc53-27150a8d548a",
   "metadata": {},
   "source": [
    "### Check values"
   ]
  },
  {
   "cell_type": "code",
   "execution_count": 30,
   "id": "1b1a1eaa-265f-4def-a3d3-0ad318930b4b",
   "metadata": {},
   "outputs": [],
   "source": [
    "scores = [float(v[0]._value) for v in boundary_operator_solutions.values()]"
   ]
  },
  {
   "cell_type": "code",
   "execution_count": 31,
   "id": "18b031de-4cf0-4576-b236-089341aca078",
   "metadata": {},
   "outputs": [
    {
     "data": {
      "text/plain": [
       "count    63.000000\n",
       "mean      0.402726\n",
       "std       1.738055\n",
       "min       0.001184\n",
       "25%       0.031378\n",
       "50%       0.051851\n",
       "75%       0.090049\n",
       "max       9.978164\n",
       "dtype: float64"
      ]
     },
     "execution_count": 31,
     "metadata": {},
     "output_type": "execute_result"
    }
   ],
   "source": [
    "pd.Series(scores).describe()"
   ]
  },
  {
   "cell_type": "code",
   "execution_count": 32,
   "id": "7896fa9b-0290-4742-93a8-503497597318",
   "metadata": {},
   "outputs": [],
   "source": [
    "score_pairs = defaultdict(list)\n",
    "\n",
    "for k, v in boundary_operator_solutions.items():\n",
    "    score_pairs[k[:-1]].append((k[-1], float(v[0]._value)))"
   ]
  },
  {
   "cell_type": "code",
   "execution_count": 33,
   "id": "8cf00e47-3dd9-47f1-9c7c-c3b6ecd76ba1",
   "metadata": {},
   "outputs": [],
   "source": [
    "best_score_pairs = {\n",
    "    k: min(v, key=lambda x: x[1]) for k, v in score_pairs.items()\n",
    "}"
   ]
  },
  {
   "cell_type": "code",
   "execution_count": 34,
   "id": "b07ea0b5-9c25-4969-ad77-44605f544778",
   "metadata": {},
   "outputs": [],
   "source": [
    "best_scores = [v[1] for v in best_score_pairs.values()]"
   ]
  },
  {
   "cell_type": "code",
   "execution_count": 35,
   "id": "20a71c05-b888-450a-9353-7f26970ebd57",
   "metadata": {},
   "outputs": [
    {
     "data": {
      "text/plain": [
       "63"
      ]
     },
     "execution_count": 35,
     "metadata": {},
     "output_type": "execute_result"
    }
   ],
   "source": [
    "len(best_score_pairs)"
   ]
  },
  {
   "cell_type": "code",
   "execution_count": 36,
   "id": "3b02c07c-fe40-4acb-8632-893fe8b48254",
   "metadata": {},
   "outputs": [
    {
     "data": {
      "text/plain": [
       "count    63.000000\n",
       "mean      0.402726\n",
       "std       1.738055\n",
       "min       0.001184\n",
       "25%       0.031378\n",
       "50%       0.051851\n",
       "75%       0.090049\n",
       "max       9.978164\n",
       "dtype: float64"
      ]
     },
     "execution_count": 36,
     "metadata": {},
     "output_type": "execute_result"
    }
   ],
   "source": [
    "pd.Series(best_scores).describe()"
   ]
  },
  {
   "cell_type": "code",
   "execution_count": 37,
   "id": "231f533b-5075-402a-821d-dab6eaf23098",
   "metadata": {},
   "outputs": [],
   "source": [
    "best_boundary_operators = {\n",
    "    k: boundary_operator_solutions[(*k, v[0])]\n",
    "    for k, v in best_score_pairs.items()\n",
    "    if k[1] != 0.5\n",
    "}"
   ]
  },
  {
   "cell_type": "code",
   "execution_count": 38,
   "id": "42992661-50a4-4bdf-8039-26eccee167ae",
   "metadata": {},
   "outputs": [
    {
     "data": {
      "text/plain": [
       "63"
      ]
     },
     "execution_count": 38,
     "metadata": {},
     "output_type": "execute_result"
    }
   ],
   "source": [
    "len(best_boundary_operators)"
   ]
  },
  {
   "cell_type": "markdown",
   "id": "c63383d4-bbde-443a-92a9-97b613c0d54b",
   "metadata": {},
   "source": [
    "# Definitions"
   ]
  },
  {
   "cell_type": "code",
   "execution_count": 39,
   "id": "6e3a806a-6e88-4073-8cb4-a46345cdb810",
   "metadata": {},
   "outputs": [],
   "source": [
    "np_I = np.array([[1,0],[0,1]])\n",
    "np_X = np.array([[0,1],[1,0]])"
   ]
  },
  {
   "cell_type": "code",
   "execution_count": 40,
   "id": "ddc01bac-517f-4922-9df0-28b400f70a3e",
   "metadata": {},
   "outputs": [],
   "source": [
    "symmetry_actions = [\n",
    "    [np_I, np_I],\n",
    "    [np_I, np_X],\n",
    "    [np_X, np_I],\n",
    "    [np_X, np_X]\n",
    "]"
   ]
  },
  {
   "cell_type": "code",
   "execution_count": 41,
   "id": "10721838-5776-4da8-9618-01dd30494f13",
   "metadata": {},
   "outputs": [],
   "source": [
    "symmetry_labels = [\n",
    "    'II',\n",
    "    'IX',\n",
    "    'XI',\n",
    "    'XX'\n",
    "]"
   ]
  },
  {
   "cell_type": "code",
   "execution_count": 42,
   "id": "608e2be7-7003-4d86-8bdc-bb7519c6c30c",
   "metadata": {},
   "outputs": [],
   "source": [
    "def generate_problem_rdm(quimb_psi, symmetry_site_pairs, leftmost_symmetry_site,\n",
    "                         num_symmetry_sites, num_boundary_sites):\n",
    "    q_top = quimb_psi.copy(deep=True)\n",
    "    for i, s in symmetry_site_pairs:\n",
    "        q_top.gate(\n",
    "            s,\n",
    "            where=i,\n",
    "            contract=False,\n",
    "            inplace=True\n",
    "        )\n",
    "\n",
    "    \n",
    "    indices_to_map = list(chain(\n",
    "        range(leftmost_symmetry_site-num_boundary_sites, leftmost_symmetry_site),\n",
    "        range(leftmost_symmetry_site+num_symmetry_sites, leftmost_symmetry_site+num_symmetry_sites+num_boundary_sites)\n",
    "    ))\n",
    "\n",
    "    index_mapping = {f'k{i}': f'b{i}' for i in indices_to_map}\n",
    "\n",
    "    q_bottom = (\n",
    "        quimb_psi\n",
    "        .copy()\n",
    "        .reindex(index_mapping, inplace=True)\n",
    "        .conj()\n",
    "    )\n",
    "\n",
    "    sites_to_contract = {\n",
    "        'left': list(range(leftmost_symmetry_site-num_boundary_sites)),\n",
    "        'middle': list(range(leftmost_symmetry_site, leftmost_symmetry_site+num_symmetry_sites)),\n",
    "        'right': list(range(leftmost_symmetry_site+num_symmetry_sites+num_boundary_sites, quimb_psi.L))\n",
    "    }\n",
    "\n",
    "    tags_to_contract = {\n",
    "        k: [f'I{i}' for i in v]\n",
    "        for k, v in sites_to_contract.items()\n",
    "    }\n",
    "\n",
    "    tn = (q_top & q_bottom)\n",
    "\n",
    "    tnc = (\n",
    "        tn\n",
    "        .contract(tags_to_contract['left'])\n",
    "        .contract(tags_to_contract['middle'])\n",
    "        .contract(tags_to_contract['right'])\n",
    "    )\n",
    "\n",
    "    return tnc"
   ]
  },
  {
   "cell_type": "code",
   "execution_count": 43,
   "id": "198f4294-8a52-4ee8-be8c-640d8c8927f2",
   "metadata": {},
   "outputs": [],
   "source": [
    "def generate_rdm_from_tenpy_psi(mps_psi, symmetry_site_pairs,\n",
    "    leftmost_symmetry_site, num_symmetry_sites, num_boundary_sites):\n",
    "    \n",
    "    psi_arrays = list()\n",
    "    psi_arrays.append(mps_psi.get_B(0, 'Th')[0, ...].to_ndarray())\n",
    "    for i in range(1, mps_psi.L-1):\n",
    "        psi_arrays.append(mps_psi.get_B(i).to_ndarray())\n",
    "    psi_arrays.append(mps_psi.get_B(mps_psi.L-1)[..., 0].to_ndarray())\n",
    "    \n",
    "    q1 = (\n",
    "        qtn\n",
    "        .tensor_1d\n",
    "        .MatrixProductState(psi_arrays, shape='lpr')\n",
    "    )\n",
    "    \n",
    "    problem_rdm = generate_problem_rdm(\n",
    "        q1,\n",
    "        symmetry_site_pairs,\n",
    "        left_most_symmetry_site,\n",
    "        num_symmetry_sites,\n",
    "        num_boundary_sites\n",
    "    )\n",
    "\n",
    "    return problem_rdm"
   ]
  },
  {
   "cell_type": "markdown",
   "id": "56525c31-f37b-4245-b2ec-82185feed908",
   "metadata": {},
   "source": [
    "## Optimisation functions"
   ]
  },
  {
   "cell_type": "code",
   "execution_count": 44,
   "id": "ad93555d-f4af-4fa2-96fc-2a54f95466e0",
   "metadata": {},
   "outputs": [],
   "source": [
    "def split_mpo_pair(mpo_pair):\n",
    "    ml = qtn.TensorNetwork(\n",
    "        list(map(mpo_pair.tensor_map.__getitem__, mpo_pair.tag_map['left_mpo']))\n",
    "    )\n",
    "\n",
    "    mr = qtn.TensorNetwork(\n",
    "        list(map(mpo_pair.tensor_map.__getitem__, mpo_pair.tag_map['right_mpo']))\n",
    "    )\n",
    "\n",
    "    return (ml, mr)"
   ]
  },
  {
   "cell_type": "code",
   "execution_count": 45,
   "id": "e41dad25-3a05-450c-a853-76a24e53f6bd",
   "metadata": {},
   "outputs": [],
   "source": [
    "def overlap_loss_function(ml, mr, rdm_tn, epsilon=0):\n",
    "    c = (rdm_tn & ml & mr) ^ ...\n",
    "\n",
    "    c_abs_squared = (\n",
    "        c\n",
    "        *jnp.conjugate(c)\n",
    "    )\n",
    "    #c_abs_squared = c_abs_squared.astype('float32')\n",
    "    c_abs = (jnp.sqrt(c_abs_squared+epsilon))\n",
    "\n",
    "    target = jnp.sqrt(1+epsilon)\n",
    "    loss = (c_abs - target)**2\n",
    "\n",
    "    return loss"
   ]
  },
  {
   "cell_type": "code",
   "execution_count": 46,
   "id": "d739d242-7370-4763-8ff2-9e6c2a9bc9ad",
   "metadata": {},
   "outputs": [],
   "source": [
    "def overlap_loss_function_mpo_pair(mpo_pair, rdm_tn):\n",
    "    ml, mr = split_mpo_pair(mpo_pair)\n",
    "\n",
    "    return overlap_loss_function(ml, mr, rdm_tn)"
   ]
  },
  {
   "cell_type": "code",
   "execution_count": 47,
   "id": "0f466494-c220-4ee0-9ae1-0a0a14a38e88",
   "metadata": {},
   "outputs": [],
   "source": [
    "regex_s = r\"^I\\d+$\"\n",
    "regex_p = re.compile(regex_s)"
   ]
  },
  {
   "cell_type": "code",
   "execution_count": 48,
   "id": "23b12517-79b5-45b5-8ae8-07b08b68805d",
   "metadata": {},
   "outputs": [],
   "source": [
    "def relabel_mpo(mpo, k_label, b_label):\n",
    "    site_locs = [\n",
    "        int(k[1:]) for k in mpo.tag_map\n",
    "        if bool(re.search(regex_p, k))\n",
    "    ]\n",
    "\n",
    "    k_in_indices = [f'k{i}' for i in site_locs]\n",
    "    j_in_indices = [f'b{i}' for i in site_locs]\n",
    "\n",
    "    k_out_indices = [f'{k_label}{i}' for i in site_locs]\n",
    "    j_out_indices = [f'{b_label}{i}' for i in site_locs]\n",
    "\n",
    "    mapping = dict(\n",
    "        chain(\n",
    "            zip(k_in_indices, k_out_indices),\n",
    "            zip(j_in_indices, j_out_indices)\n",
    "        )\n",
    "    )\n",
    "\n",
    "    mpo.reindex(mapping, inplace=True)"
   ]
  },
  {
   "cell_type": "code",
   "execution_count": 49,
   "id": "a51b6cd6-be16-433c-a0fd-91fce71aff8f",
   "metadata": {},
   "outputs": [],
   "source": [
    "def unitarity_tn(tn, total_physical_dim):\n",
    "    ms = [tn.copy(), tn.copy(), tn.copy()]\n",
    "\n",
    "    relabel_mpo(ms[0], 'k', 'l')\n",
    "    relabel_mpo(ms[1], 'm', 'l')\n",
    "    relabel_mpo(ms[2], 'm', 'b')\n",
    "\n",
    "    ms[0] = ms[0].conj()\n",
    "    ms[2] = ms[2].conj()\n",
    "\n",
    "    n2tn = (tn & tn.conj())\n",
    "    n2 = n2tn.contract(n2tn.tag_map)\n",
    "    n4tn = (tn & ms[0] & ms[1] & ms[2])\n",
    "    n4 = n4tn.contract(n4tn.tag_map)\n",
    "\n",
    "    out = jnp.real(n4 - 2*n2 + total_physical_dim)\n",
    "\n",
    "    return out"
   ]
  },
  {
   "cell_type": "code",
   "execution_count": 50,
   "id": "43d0c110-9e4c-4981-8f32-16cf01445fa4",
   "metadata": {},
   "outputs": [],
   "source": [
    "def overall_loss_function(mpo_pair, rdm_tn, total_physical_dimension,\n",
    "    unitary_cost_coefficient=1, overlap_cost_coefficient=1, losses=None):\n",
    "    ml, mr = split_mpo_pair(mpo_pair)\n",
    "\n",
    "    o_loss = overlap_loss_function(ml, mr, rdm_tn)\n",
    "    ul_loss = unitarity_tn(ml, total_physical_dimension)\n",
    "    ur_loss = unitarity_tn(mr, total_physical_dimension)\n",
    "\n",
    "    out = (\n",
    "        unitary_cost_coefficient*(ul_loss+ur_loss)\n",
    "        + overlap_cost_coefficient*o_loss\n",
    "    )\n",
    "\n",
    "    out = jnp.real(out)\n",
    "\n",
    "    if losses is not None:\n",
    "        losses.append((o_loss, ul_loss, ur_loss))\n",
    "    return out"
   ]
  },
  {
   "cell_type": "markdown",
   "id": "46d2aae5-493e-4997-92d9-23b88456b904",
   "metadata": {},
   "source": [
    "## SPT extraction functions"
   ]
  },
  {
   "cell_type": "code",
   "execution_count": 51,
   "id": "d1cd215b-c62c-405e-9adc-9a97db7142e2",
   "metadata": {},
   "outputs": [],
   "source": [
    "symmetry_combination_labels = list(combinations(symmetry_labels, 2))"
   ]
  },
  {
   "cell_type": "code",
   "execution_count": 52,
   "id": "45a081ff-eb82-4ff5-9700-55f11824f366",
   "metadata": {},
   "outputs": [
    {
     "data": {
      "text/plain": [
       "[('II', 'IX'),\n",
       " ('II', 'XI'),\n",
       " ('II', 'XX'),\n",
       " ('IX', 'XI'),\n",
       " ('IX', 'XX'),\n",
       " ('XI', 'XX')]"
      ]
     },
     "execution_count": 52,
     "metadata": {},
     "output_type": "execute_result"
    }
   ],
   "source": [
    "symmetry_combination_labels"
   ]
  },
  {
   "cell_type": "code",
   "execution_count": 53,
   "id": "aab20cf0-ae51-4603-9192-5ba0741b6a6d",
   "metadata": {},
   "outputs": [],
   "source": [
    "e, a, b, c = symmetry_labels"
   ]
  },
  {
   "cell_type": "code",
   "execution_count": 54,
   "id": "955bfb99-9c73-4794-b14e-f62f7872abe5",
   "metadata": {},
   "outputs": [],
   "source": [
    "group_products = [\n",
    "    (a, b, c),\n",
    "    (b, a, c),\n",
    "    (a, c, b),\n",
    "    (c, a, b),\n",
    "    (c, b, a),\n",
    "    (b, c, a)\n",
    "]"
   ]
  },
  {
   "cell_type": "code",
   "execution_count": 55,
   "id": "2f6a12cd-de94-452f-8fca-732a82c3ad58",
   "metadata": {},
   "outputs": [],
   "source": [
    "def tensor_network_to_mpo(tn):\n",
    "    sites = [\n",
    "        int(s[1:]) for s in tn.tag_map\n",
    "        if s[0]=='I'\n",
    "    ]\n",
    "    \n",
    "    rho = qtn.MatrixProductOperator(\n",
    "        [t.data for t in tn.tensors],\n",
    "        sites=sites\n",
    "    )\n",
    "\n",
    "    return rho"
   ]
  },
  {
   "cell_type": "code",
   "execution_count": 56,
   "id": "8c572f7a-d984-4519-b46f-45f5cb670e45",
   "metadata": {},
   "outputs": [],
   "source": [
    "def mpo_hermitian_conjugate(quimb_mpo):\n",
    "    t = quimb_mpo.copy().conj()\n",
    "    relabel_mpo(t, 'b', 'k')\n",
    "\n",
    "    return t"
   ]
  },
  {
   "cell_type": "code",
   "execution_count": 57,
   "id": "3d1a0838-d211-4471-a7f6-daba8aac8d81",
   "metadata": {},
   "outputs": [],
   "source": [
    "def get_proj_rep_phase(rho, u_g, u_h, u_gh):\n",
    "    t = (\n",
    "        rho\n",
    "        ._apply_mpo(u_h, compress=False, contract=False)\n",
    "        ._apply_mpo(u_g, compress=False, contract=False)\n",
    "        ._apply_mpo(mpo_hermitian_conjugate(u_gh), compress=False, contract=False)\n",
    "    )\n",
    "\n",
    "    out = t.trace()\n",
    "\n",
    "    return (out/(np.abs(out)), np.abs(out))"
   ]
  },
  {
   "cell_type": "code",
   "execution_count": 58,
   "id": "8b500fd2-c687-4f66-acad-eff4d648badb",
   "metadata": {},
   "outputs": [],
   "source": [
    "def get_quimb_mps_from_tenpy_mps(tenpy_mps):\n",
    "    psi_arrays = list()\n",
    "    psi_arrays.append(tenpy_mps.get_B(0, 'Th')[0, ...].to_ndarray())\n",
    "    for i in range(1, tenpy_mps.L-1):\n",
    "        psi_arrays.append(tenpy_mps.get_B(i).to_ndarray())\n",
    "    psi_arrays.append(tenpy_mps.get_B(tenpy_mps.L-1)[..., 0].to_ndarray())\n",
    "    \n",
    "    quimb_mps = (\n",
    "        qtn\n",
    "        .tensor_1d\n",
    "        .MatrixProductState(psi_arrays, shape='lpr')\n",
    "    )\n",
    "\n",
    "    return quimb_mps"
   ]
  },
  {
   "cell_type": "code",
   "execution_count": 59,
   "id": "dcb4078a-9db2-44cc-89e1-4ec295806d87",
   "metadata": {},
   "outputs": [],
   "source": [
    "def get_proj_rep_phases(tenpy_mps, unitaries):\n",
    "    quimb_mps = get_quimb_mps_from_tenpy_mps(tenpy_mps)\n",
    "    sites = [\n",
    "        int(s[1:]) for s in unitaries[0].tag_map\n",
    "        if s[0]=='I'\n",
    "    ]\n",
    "    rho = quimb_mps.partial_trace_to_mpo(sites, rescale_sites=False)\n",
    "    out = list()\n",
    "\n",
    "    unitaries_dict = {\n",
    "        k: v for k, v in zip(symmetry_labels[1:], unitaries)\n",
    "    }\n",
    "\n",
    "    out_phases = list()\n",
    "    for a, b, c in group_products:\n",
    "        phase = get_proj_rep_phase(\n",
    "            rho,\n",
    "            unitaries_dict[a],\n",
    "            unitaries_dict[b],\n",
    "            unitaries_dict[c]\n",
    "        )\n",
    "\n",
    "        out_phases.append(phase)\n",
    "\n",
    "    return out_phases"
   ]
  },
  {
   "cell_type": "markdown",
   "id": "878a8b52-3ca8-4d83-ace1-24e0cb0c4cbe",
   "metadata": {},
   "source": [
    "# Extract phases"
   ]
  },
  {
   "cell_type": "code",
   "execution_count": 60,
   "id": "0f2fc51c-f16f-45c0-b7e4-94161e06a1a7",
   "metadata": {},
   "outputs": [],
   "source": [
    "b_params = np.delete(np.round(np.linspace(0, 2, 21), 3), 10)"
   ]
  },
  {
   "cell_type": "code",
   "execution_count": 61,
   "id": "31be5c5d-ae70-4c4e-b959-1bf10a36ea3d",
   "metadata": {},
   "outputs": [],
   "source": [
    "proj_rep_phases = list()\n",
    "\n",
    "for t in b_params:\n",
    "    tenpy_mps = psi_dict[t]\n",
    "\n",
    "    unitaries = [best_boundary_operators[(t, i)][1] for i in [1,2,3]]\n",
    "\n",
    "    unitary_pairs = [split_mpo_pair(p) for p in unitaries]\n",
    "    mpo_pairs = [(tensor_network_to_mpo(x), tensor_network_to_mpo(y)) for x,y in unitary_pairs]\n",
    "    left_unitaries, right_unitaries = zip(*mpo_pairs)\n",
    "\n",
    "    left_phases = get_proj_rep_phases(tenpy_mps, left_unitaries)\n",
    "    right_phases = get_proj_rep_phases(tenpy_mps, right_unitaries)\n",
    "\n",
    "    proj_rep_phases.append([left_phases, right_phases])"
   ]
  },
  {
   "cell_type": "code",
   "execution_count": 62,
   "id": "fd57ff16-2aa4-45e5-b988-322691674a76",
   "metadata": {},
   "outputs": [],
   "source": [
    "proj_rep_phases = np.array(proj_rep_phases)"
   ]
  },
  {
   "cell_type": "code",
   "execution_count": 63,
   "id": "b570d275-0a7d-4c29-b90d-5db7fe82be43",
   "metadata": {},
   "outputs": [
    {
     "data": {
      "text/plain": [
       "array([[[-1.+0.j  , -1.+0.j  , -1.-0.j  ],\n",
       "        [-1.-0.j  , -1.-0.j  , -1.-0.j  ]],\n",
       "\n",
       "       [[-1.+0.j  , -1.+0.j  , -1.+0.j  ],\n",
       "        [-1.+0.j  , -1.-0.j  , -1.+0.j  ]],\n",
       "\n",
       "       [[-1.+0.j  , -1.-0.j  , -1.-0.j  ],\n",
       "        [-1.-0.j  , -1.+0.j  , -1.-0.j  ]],\n",
       "\n",
       "       [[-1.-0.j  , -1.+0.j  , -1.+0.j  ],\n",
       "        [-1.+0.j  , -1.-0.j  , -1.-0.j  ]],\n",
       "\n",
       "       [[-1.+0.j  , -1.-0.j  , -1.+0.j  ],\n",
       "        [-1.+0.01j, -1.-0.j  , -1.+0.01j]],\n",
       "\n",
       "       [[-1.+0.j  , -1.+0.j  , -1.-0.j  ],\n",
       "        [-1.+0.j  , -1.-0.j  , -1.-0.j  ]],\n",
       "\n",
       "       [[-1.+0.j  , -1.-0.01j, -1.+0.01j],\n",
       "        [-1.+0.01j, -1.+0.j  , -1.+0.02j]],\n",
       "\n",
       "       [[-1.-0.06j, -1.-0.03j, -1.-0.03j],\n",
       "        [-1.-0.03j, -1.-0.01j, -1.-0.01j]],\n",
       "\n",
       "       [[-1.-0.01j, -1.-0.01j, -1.-0.03j],\n",
       "        [-1.+0.j  , -1.-0.01j, -1.-0.01j]],\n",
       "\n",
       "       [[-1.-0.07j, -1.+0.j  , -1.-0.06j],\n",
       "        [-1.+0.02j, -1.-0.j  , -1.+0.03j]],\n",
       "\n",
       "       [[ 1.+0.01j,  1.+0.j  ,  1.-0.03j],\n",
       "        [ 1.-0.j  ,  1.+0.01j,  1.-0.01j]],\n",
       "\n",
       "       [[ 1.+0.j  ,  1.-0.01j,  1.+0.01j],\n",
       "        [ 1.+0.02j,  1.+0.j  ,  1.-0.02j]],\n",
       "\n",
       "       [[ 1.-0.01j,  1.+0.01j,  1.-0.01j],\n",
       "        [ 1.+0.j  ,  1.+0.j  ,  1.-0.01j]],\n",
       "\n",
       "       [[ 1.+0.01j,  1.+0.01j,  1.-0.01j],\n",
       "        [ 1.-0.j  ,  1.-0.01j,  1.+0.01j]],\n",
       "\n",
       "       [[ 1.-0.01j,  1.-0.j  ,  1.-0.01j],\n",
       "        [ 1.-0.01j,  1.-0.j  ,  1.+0.01j]],\n",
       "\n",
       "       [[ 1.-0.01j,  1.+0.01j,  1.-0.01j],\n",
       "        [ 1.-0.02j,  1.+0.j  ,  1.-0.01j]],\n",
       "\n",
       "       [[ 1.-0.01j,  1.+0.02j,  1.-0.03j],\n",
       "        [ 1.-0.j  ,  1.-0.j  ,  1.-0.01j]],\n",
       "\n",
       "       [[ 1.-0.01j,  1.-0.j  ,  1.-0.j  ],\n",
       "        [ 1.-0.01j,  1.-0.01j,  1.+0.01j]],\n",
       "\n",
       "       [[ 1.+0.j  ,  1.+0.01j,  1.-0.j  ],\n",
       "        [ 1.+0.01j,  1.+0.01j,  1.-0.01j]],\n",
       "\n",
       "       [[ 1.+0.01j,  1.+0.j  ,  1.-0.02j],\n",
       "        [ 1.-0.01j,  1.-0.01j,  1.-0.j  ]]])"
      ]
     },
     "execution_count": 63,
     "metadata": {},
     "output_type": "execute_result"
    }
   ],
   "source": [
    "np.round(\n",
    "    proj_rep_phases[..., ::2, 0]/proj_rep_phases[..., 1::2, 0],\n",
    "    2\n",
    ")"
   ]
  },
  {
   "cell_type": "code",
   "execution_count": 64,
   "id": "eab6d72f-b056-414f-b3ab-3a39d21281bb",
   "metadata": {},
   "outputs": [],
   "source": [
    "gauge_invariant_proj_rep_phase = proj_rep_phases[..., ::2, 0]/proj_rep_phases[..., 1::2, 0]"
   ]
  },
  {
   "cell_type": "code",
   "execution_count": 65,
   "id": "e3220a0d-cd8f-406d-abd5-34325f153f1b",
   "metadata": {},
   "outputs": [],
   "source": [
    "delta_gauge_invariant_proj_rep_phase = gauge_invariant_proj_rep_phase.copy()\n",
    "delta_gauge_invariant_proj_rep_phase[:10]*=-1"
   ]
  },
  {
   "cell_type": "code",
   "execution_count": 66,
   "id": "d28a6e5a-2077-4dd9-abde-584f2d5e8f69",
   "metadata": {},
   "outputs": [
    {
     "data": {
      "text/plain": [
       "1.5707963267948966j"
      ]
     },
     "execution_count": 66,
     "metadata": {},
     "output_type": "execute_result"
    }
   ],
   "source": [
    "np.log(1j)"
   ]
  },
  {
   "cell_type": "code",
   "execution_count": 67,
   "id": "524288bd-7646-4858-8188-1e8189fc7091",
   "metadata": {},
   "outputs": [],
   "source": [
    "delta_gauge_invariant_proj_rep_angle = np.imag(np.log(delta_gauge_invariant_proj_rep_phase))"
   ]
  },
  {
   "cell_type": "code",
   "execution_count": 68,
   "id": "9538d135-3d74-484f-8bc2-99eee0bc5ca3",
   "metadata": {},
   "outputs": [
    {
     "data": {
      "text/plain": [
       "(20, 2, 3)"
      ]
     },
     "execution_count": 68,
     "metadata": {},
     "output_type": "execute_result"
    }
   ],
   "source": [
    "delta_gauge_invariant_proj_rep_angle.shape"
   ]
  },
  {
   "cell_type": "code",
   "execution_count": 69,
   "id": "ac37af32-5e58-4bb4-a25d-d31fbf69db38",
   "metadata": {},
   "outputs": [],
   "source": [
    "markers = ['<', '>']"
   ]
  },
  {
   "cell_type": "code",
   "execution_count": 70,
   "id": "9fe50ec7-2fd4-438d-9065-780d09fde9f0",
   "metadata": {},
   "outputs": [],
   "source": [
    "colors = [\n",
    "    'tab:blue',\n",
    "    'tab:orange',\n",
    "    'tab:green'\n",
    "]   "
   ]
  },
  {
   "cell_type": "code",
   "execution_count": 71,
   "id": "279624b9-c293-4020-8b0f-bff0167f77a8",
   "metadata": {},
   "outputs": [],
   "source": [
    "e, a, b, c = symmetry_labels"
   ]
  },
  {
   "cell_type": "code",
   "execution_count": 72,
   "id": "d1e764db-d3cd-4216-9d5e-c5ddad7893f3",
   "metadata": {},
   "outputs": [],
   "source": [
    "symmetry_pair_labels = [\n",
    "    a + ',' + b,\n",
    "    a + ',' + c,\n",
    "    c + ',' + b\n",
    "]"
   ]
  },
  {
   "cell_type": "code",
   "execution_count": 73,
   "id": "715be721-dd85-4327-8b7f-7420cababb49",
   "metadata": {},
   "outputs": [],
   "source": [
    "side_labels = ['Left', 'Right']"
   ]
  },
  {
   "cell_type": "code",
   "execution_count": 81,
   "id": "e11cbe4a-00b8-4732-8c5b-6d567dbaa591",
   "metadata": {},
   "outputs": [
    {
     "data": {
      "image/png": "[encoded data removed]",
      "text/plain": [
       "<Figure size 600x400 with 1 Axes>"
      ]
     },
     "metadata": {},
     "output_type": "display_data"
    }
   ],
   "source": [
    "fig, ax = plt.subplots(figsize=(6,4))\n",
    "\n",
    "for i, (marker, side_label) in enumerate(zip(markers, side_labels)):\n",
    "    for j, (col, label) in enumerate(zip(colors, symmetry_pair_labels)):\n",
    "        plt.scatter(\n",
    "            b_params,\n",
    "            delta_gauge_invariant_proj_rep_angle[:, i, j],\n",
    "            marker=marker,\n",
    "            color=col,\n",
    "            label = f'({label}), {side_label}'\n",
    "        )\n",
    "\n",
    "ax.xaxis.set_major_locator(\n",
    "    matplotlib.ticker.MultipleLocator(0.2)\n",
    ")\n",
    "\n",
    "ax.grid()\n",
    "ax.set_ylabel(r'$\\Delta \\Omega$', fontsize=13)\n",
    "ax.set_xlabel('$B$', fontsize=13)\n",
    "\n",
    "ax.legend(loc='upper right', title='$(g,h)$, Side')\n",
    "\n",
    "fig.suptitle(r'$\\Delta \\Omega(g,h)$ as a function of $B$')\n",
    "\n",
    "fig.savefig(r'plots/delta_proj_rep_angle_from_mpo_bosonic.png', dpi=200)"
   ]
  },
  {
   "cell_type": "code",
   "execution_count": 75,
   "id": "81d3ce7e-937d-4524-8cd6-a00681458253",
   "metadata": {},
   "outputs": [],
   "source": [
    "scores = list()\n",
    "for t in b_params:\n",
    "\n",
    "    scores.append([best_boundary_operators[(t, i)][0] for i in [1,2,3]])\n",
    "\n",
    "scores = np.array(scores)"
   ]
  },
  {
   "cell_type": "code",
   "execution_count": 80,
   "id": "e674071d-3677-4a5b-8a03-06aab53e31e6",
   "metadata": {},
   "outputs": [
    {
     "data": {
      "image/png": "[encoded data removed]",
      "text/plain": [
       "<Figure size 600x400 with 1 Axes>"
      ]
     },
     "metadata": {},
     "output_type": "display_data"
    }
   ],
   "source": [
    "fig, ax = plt.subplots(figsize=(6,4))\n",
    "\n",
    "for j, (col, label) in enumerate(zip(colors, symmetry_labels[1:])):\n",
    "    plt.scatter(\n",
    "        b_params,\n",
    "        scores[:, j],\n",
    "        color=col,\n",
    "        label = label\n",
    "    )\n",
    "\n",
    "ax.xaxis.set_major_locator(\n",
    "    matplotlib.ticker.MultipleLocator(0.2)\n",
    ")\n",
    "\n",
    "ax.set_yscale('log')\n",
    "\n",
    "ax.grid()\n",
    "ax.grid(\n",
    "    which='minor',\n",
    "    axis='y',\n",
    "    linestyle='--',\n",
    "    zorder=-1e10\n",
    ")\n",
    "ax.set_axisbelow(True)\n",
    "\n",
    "ax.set_ylabel(r'$L$', fontsize=13)\n",
    "ax.set_xlabel('$B$', fontsize=13)\n",
    "\n",
    "ax.legend(loc='upper right', title='Applied symmetry')\n",
    "\n",
    "fig.suptitle(r'Final cost $L$ with symmetry $g$ as a function of $B$')\n",
    "\n",
    "fig.savefig(r'plots/cost_function_from_mpo_bosonic.png', dpi=200)"
   ]
  },
  {
   "cell_type": "code",
   "execution_count": null,
   "id": "1fd0add2-0173-4f01-b5e8-1dccc2862b2a",
   "metadata": {},
   "outputs": [],
   "source": []
  }
 ],
 "metadata": {
  "kernelspec": {
   "display_name": "num_spt_venv_p11",
   "language": "python",
   "name": "num_spt_venv_p11"
  },
  "language_info": {
   "codemirror_mode": {
    "name": "ipython",
    "version": 3
   },
   "file_extension": ".py",
   "mimetype": "text/x-python",
   "name": "python",
   "nbconvert_exporter": "python",
   "pygments_lexer": "ipython3",
   "version": "3.11.9"
  }
 },
 "nbformat": 4,
 "nbformat_minor": 5
}
