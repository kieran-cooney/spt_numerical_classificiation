{
 "cells": [
  {
   "cell_type": "markdown",
   "id": "ceb2d533-10d7-4b49-a17a-87c2e8e5934a",
   "metadata": {},
   "source": [
    "# Projective representation gradient descent test\n",
    "Created 14/10/2024\n",
    "\n",
    "Objectives:\n",
    "* Adapt methods from \"Unitary overlap gradient descent SPT extraction\" notebook to learn unitaries which also form projective representations."
   ]
  },
  {
   "cell_type": "markdown",
   "id": "7cb25441-e060-412c-9b9e-6d7856af206a",
   "metadata": {},
   "source": [
    "# Package imports"
   ]
  },
  {
   "cell_type": "code",
   "execution_count": 1,
   "id": "ecb41ea3-927f-4efa-aebe-ce15784aa037",
   "metadata": {},
   "outputs": [],
   "source": [
    "import sys\n",
    "sys.path.append('../../')"
   ]
  },
  {
   "cell_type": "code",
   "execution_count": 2,
   "id": "4a525ec6-f0c8-47ee-8b0b-345bf0ef8bd3",
   "metadata": {},
   "outputs": [],
   "source": [
    "import h5py\n",
    "from tenpy.tools import hdf5_io\n",
    "import tenpy\n",
    "import tenpy.linalg.np_conserved as npc\n",
    "\n",
    "import os"
   ]
  },
  {
   "cell_type": "code",
   "execution_count": 3,
   "id": "214f688a-c657-4810-b4d1-b1247deff62c",
   "metadata": {},
   "outputs": [],
   "source": [
    "import numpy as np\n",
    "import matplotlib.pyplot as plt\n",
    "import pandas as pd\n",
    "\n",
    "import scipy"
   ]
  },
  {
   "cell_type": "code",
   "execution_count": 4,
   "id": "2b54f3ce-90c3-4c5e-81e6-f801480f41fa",
   "metadata": {},
   "outputs": [],
   "source": [
    "from functools import reduce "
   ]
  },
  {
   "cell_type": "code",
   "execution_count": 5,
   "id": "b8dec68d-a5b3-4383-ab44-567a9a5981b3",
   "metadata": {},
   "outputs": [],
   "source": [
    "from SPTOptimization.SymmetryActionWithBoundaryUnitaries import SymmetryActionWithBoundaryUnitaries\n",
    "\n",
    "from SPTOptimization.utils import to_npc_array"
   ]
  },
  {
   "cell_type": "code",
   "execution_count": 6,
   "id": "cebb84ba-c22c-4224-9e2b-775506029b3e",
   "metadata": {},
   "outputs": [],
   "source": [
    "import re"
   ]
  },
  {
   "cell_type": "markdown",
   "id": "a175206a-1996-4839-bcbe-7a581eacf1dc",
   "metadata": {},
   "source": [
    "# Load data"
   ]
  },
  {
   "cell_type": "code",
   "execution_count": 7,
   "id": "c196fe74-d78a-4205-a41a-acfa510831d1",
   "metadata": {},
   "outputs": [],
   "source": [
    "DATA_DIR = r\"../../data/transverse_cluster_200_site_dmrg\""
   ]
  },
  {
   "cell_type": "code",
   "execution_count": 8,
   "id": "e1a89621-91df-4f40-adef-f16acbdea3e9",
   "metadata": {},
   "outputs": [],
   "source": [
    "loaded_data = list()\n",
    "\n",
    "for local_file_name in os.listdir(DATA_DIR):\n",
    "    f_name = r\"{}/{}\".format(DATA_DIR, local_file_name, ignore_unknown=False)\n",
    "    with h5py.File(f_name, 'r') as f:\n",
    "        data = hdf5_io.load_from_hdf5(f)\n",
    "        loaded_data.append(data)"
   ]
  },
  {
   "cell_type": "code",
   "execution_count": 9,
   "id": "b805dcff-dfda-4ca4-ba53-c6a3d6822dd4",
   "metadata": {},
   "outputs": [],
   "source": [
    "b_parameters = sorted(list(d['paramters']['B'] for d in loaded_data))"
   ]
  },
  {
   "cell_type": "code",
   "execution_count": 10,
   "id": "827a26d6-a667-4828-bf55-db731e15d89d",
   "metadata": {},
   "outputs": [],
   "source": [
    "psi_dict = dict()"
   ]
  },
  {
   "cell_type": "code",
   "execution_count": 11,
   "id": "e0e8c819-03d8-4a47-b853-365d65364ac7",
   "metadata": {},
   "outputs": [],
   "source": [
    "for b in b_parameters:\n",
    "    psi = next(\n",
    "        d['wavefunction']\n",
    "        for d in loaded_data\n",
    "        if d['paramters']['B'] == b\n",
    "    )\n",
    "\n",
    "    rounded_b = round(b, 1)\n",
    "    psi_dict[rounded_b] = psi"
   ]
  },
  {
   "cell_type": "markdown",
   "id": "b54d9a67-bf8b-44a8-a99f-aeac561e6e6a",
   "metadata": {},
   "source": [
    "# Definitions"
   ]
  },
  {
   "cell_type": "code",
   "execution_count": 12,
   "id": "62ec5614-6aca-465d-a562-f0f4fb98cac5",
   "metadata": {},
   "outputs": [],
   "source": [
    "np_I = np.array([[1,0],[0,1]])\n",
    "np_X = np.array([[0,1],[1,0]])\n",
    "np_Y = np.array([[0,-1j],[1j,0]])\n",
    "np_Z = np.array([[1,0],[0,-1]])"
   ]
  },
  {
   "cell_type": "code",
   "execution_count": 13,
   "id": "ddc01bac-517f-4922-9df0-28b400f70a3e",
   "metadata": {},
   "outputs": [],
   "source": [
    "symmetry_actions = [\n",
    "    [np_I, np_I],\n",
    "    [np_I, np_X],\n",
    "    [np_X, np_I],\n",
    "    [np_X, np_X]\n",
    "]"
   ]
  },
  {
   "cell_type": "code",
   "execution_count": 14,
   "id": "10721838-5776-4da8-9618-01dd30494f13",
   "metadata": {},
   "outputs": [],
   "source": [
    "symmetry_labels = [\n",
    "    'II',\n",
    "    'IX',\n",
    "    'XI',\n",
    "    'XX'\n",
    "]"
   ]
  },
  {
   "cell_type": "code",
   "execution_count": 15,
   "id": "a706b5a0-860a-4294-8b5b-bdbf9482fe28",
   "metadata": {},
   "outputs": [],
   "source": [
    "cases = [\n",
    "    [\n",
    "        SymmetryActionWithBoundaryUnitaries(\n",
    "            psi,\n",
    "            s*50,\n",
    "            left_boundary_unitaries=[np_I,]*3,\n",
    "            right_boundary_unitaries=[np_I,]*3\n",
    "        )\n",
    "        for s in symmetry_actions\n",
    "    ]\n",
    "    for psi in psi_dict.values()\n",
    "]"
   ]
  },
  {
   "cell_type": "code",
   "execution_count": 16,
   "id": "8e7ff810-32b3-4163-9b1b-ca96a282a7f5",
   "metadata": {},
   "outputs": [],
   "source": [
    "for l in cases:\n",
    "    for c in l:\n",
    "        c.compute_svd_approximate_expectation()"
   ]
  },
  {
   "cell_type": "code",
   "execution_count": 17,
   "id": "ab0c7f59-ae1d-40d6-969f-edb5c5b4f7d7",
   "metadata": {},
   "outputs": [],
   "source": [
    "NUM_SITES = 6"
   ]
  },
  {
   "cell_type": "code",
   "execution_count": 18,
   "id": "aab20cf0-ae51-4603-9192-5ba0741b6a6d",
   "metadata": {},
   "outputs": [],
   "source": [
    "e, a, b, c = symmetry_labels"
   ]
  },
  {
   "cell_type": "code",
   "execution_count": 19,
   "id": "955bfb99-9c73-4794-b14e-f62f7872abe5",
   "metadata": {},
   "outputs": [],
   "source": [
    "group_products = [\n",
    "    (a, a, e),\n",
    "    (b, b, e),\n",
    "    (c, c, e),\n",
    "    (a, b, c),\n",
    "    (b, a, c),\n",
    "    (a, c, b),\n",
    "    (c, a, b),\n",
    "    (c, b, a),\n",
    "    (b, c, a)\n",
    "]"
   ]
  },
  {
   "cell_type": "markdown",
   "id": "b116ba1c-8bbd-4278-89f1-d7172b836846",
   "metadata": {},
   "source": [
    "## Functions"
   ]
  },
  {
   "cell_type": "code",
   "execution_count": 20,
   "id": "86959723-16ca-49e9-9688-4228b620c1b8",
   "metadata": {},
   "outputs": [],
   "source": [
    "P_LEG_LABEL_REGEX_STRING = r\"^p\\d*$\"\n",
    "p_leg_pattern = re.compile(P_LEG_LABEL_REGEX_STRING)\n",
    "\n",
    "def is_single_physical_leg_label(label):\n",
    "    return bool(p_leg_pattern.match(label))"
   ]
  },
  {
   "cell_type": "code",
   "execution_count": 21,
   "id": "29d8003f-01c6-4575-abb3-8172dfb09fcc",
   "metadata": {},
   "outputs": [],
   "source": [
    "def is_grouped_physical_leg_label(leg_label):\n",
    "    head, *body, tail = leg_label\n",
    "    if (head != '(') or (tail != ')'):\n",
    "        return False\n",
    "\n",
    "    body = ''.join(body)\n",
    "    legs = body.split('.')\n",
    "\n",
    "    return all(is_single_physical_leg_label(l) for l in legs)"
   ]
  },
  {
   "cell_type": "code",
   "execution_count": 22,
   "id": "6b93c611-1b63-47b2-99a1-f6e2d72cc3b9",
   "metadata": {},
   "outputs": [],
   "source": [
    "def is_physical_leg_label(label):\n",
    "    out = (\n",
    "        is_single_physical_leg_label(label)\n",
    "        or is_grouped_physical_leg_label(label)\n",
    "    )\n",
    "\n",
    "    return out"
   ]
  },
  {
   "cell_type": "code",
   "execution_count": 23,
   "id": "6735cf31-f7ec-4488-91b0-88f6ab535730",
   "metadata": {},
   "outputs": [],
   "source": [
    "def extract_single_physical_leg_label_from_tensor(b):\n",
    "    out = next(\n",
    "        l for l in b.get_leg_labels()\n",
    "        if is_single_physical_leg_label(l)\n",
    "    )\n",
    "\n",
    "    return out"
   ]
  },
  {
   "cell_type": "code",
   "execution_count": 24,
   "id": "9cdb3295-995e-4161-a78c-df2ccce9a3b6",
   "metadata": {},
   "outputs": [],
   "source": [
    "def conjugate_single_physical_leg_label(label):\n",
    "    return label + '*'"
   ]
  },
  {
   "cell_type": "code",
   "execution_count": 25,
   "id": "52ee605f-f3d0-45b4-b796-1afe82b3877b",
   "metadata": {},
   "outputs": [],
   "source": [
    "def conjugate_grouped_physical_leg_label(label):\n",
    "    _, *body, _ = label\n",
    "    single_labels = ''.join(body).split('.')\n",
    "\n",
    "    conjugate_labels = [\n",
    "        conjugate_single_physical_leg_label(l)\n",
    "        for l in single_labels\n",
    "    ]\n",
    "\n",
    "    conjugate_body = '.'.join(conjugate_labels)\n",
    "    out = '(' + conjugate_body + ')'\n",
    "    \n",
    "    return out"
   ]
  },
  {
   "cell_type": "code",
   "execution_count": 26,
   "id": "53cee727-b4e7-4949-8311-e6c31bf11599",
   "metadata": {},
   "outputs": [],
   "source": [
    "def conjugate_leg_label(label):\n",
    "    if is_single_physical_leg_label(label):\n",
    "        return conjugate_single_physical_leg_label(label)\n",
    "    elif is_grouped_physical_leg_label(label):\n",
    "        return conjugate_grouped_physical_leg_label(label)\n",
    "    else:\n",
    "        raise ValueError"
   ]
  },
  {
   "cell_type": "code",
   "execution_count": 27,
   "id": "9d9130c2-a455-4f67-a371-f57810c17a2d",
   "metadata": {},
   "outputs": [],
   "source": [
    "def get_physical_leg_labels(t):\n",
    "    out = [\n",
    "        ll for ll in t.get_leg_labels()\n",
    "        if is_physical_leg_label(ll)\n",
    "    ]\n",
    "\n",
    "    return out"
   ]
  },
  {
   "cell_type": "code",
   "execution_count": 28,
   "id": "feaea859-aa93-4971-a766-ea3ecab718b8",
   "metadata": {},
   "outputs": [],
   "source": [
    "def get_random_unitary_operator(mps_tensor, dim):\n",
    "    # To-do: automate getting dimension\n",
    "    p_leg_label = get_physical_leg_labels(mps_tensor)[0]\n",
    "    p_leg = mps_tensor.get_leg(p_leg_label)\n",
    "    p_leg_label_conj = conjugate_leg_label(p_leg_label)\n",
    "    p_leg_conj = mps_tensor.get_leg(p_leg_label_conj)\n",
    "\n",
    "    X = scipy.stats.unitary_group.rvs(dim)\n",
    "\n",
    "    out = npc.Array.from_ndarray(\n",
    "        X,\n",
    "        legcharges=[p_leg, p_leg_conj],\n",
    "        dtype='complex',\n",
    "        labels=[p_leg_label, p_leg_label_conj]\n",
    "    )\n",
    "\n",
    "    return out"
   ]
  },
  {
   "cell_type": "code",
   "execution_count": 29,
   "id": "1708a45d-6a1c-4166-add1-f76da4185ae6",
   "metadata": {},
   "outputs": [],
   "source": [
    "def get_identity_operator(mps_tensor):\n",
    "    p_leg_label = get_physical_leg_labels(mps_tensor)[0]\n",
    "    p_leg = mps_tensor.get_leg(p_leg_label)\n",
    "    p_leg_label_conj = conjugate_leg_label(p_leg_label)\n",
    "\n",
    "    out = npc.diag(\n",
    "        1,\n",
    "        leg=p_leg,\n",
    "        dtype='complex',\n",
    "        labels=[p_leg_label, p_leg_label_conj]\n",
    "    )\n",
    "\n",
    "    return out"
   ]
  },
  {
   "cell_type": "markdown",
   "id": "d826ca80-b795-4c40-bdd4-8e911bbe4f2f",
   "metadata": {},
   "source": [
    "### Gradients"
   ]
  },
  {
   "cell_type": "code",
   "execution_count": 30,
   "id": "2abb0749-eceb-4eb9-8adb-74e08bff18fb",
   "metadata": {},
   "outputs": [],
   "source": [
    "def unitarity_gradient(matrix, grouped_physical_leg_label,\n",
    "                      grouped_physical_leg_conj_label):\n",
    "    # To-do: Optimise extraction of physical leg labels\n",
    "    def matrix_multiplication(m1, m2):\n",
    "        return npc.tensordot(\n",
    "            m1,\n",
    "            m2,\n",
    "            [\n",
    "                [grouped_physical_leg_label,],\n",
    "                [grouped_physical_leg_conj_label,]\n",
    "            ]\n",
    "        )\n",
    "    \n",
    "    t = matrix_multiplication(matrix, matrix.conj())\n",
    "    score_2 = npc.trace(\n",
    "        t,\n",
    "        grouped_physical_leg_label,\n",
    "        grouped_physical_leg_conj_label\n",
    "    )\n",
    "\n",
    "    t = matrix_multiplication(t, matrix)\n",
    "\n",
    "    score_4 = npc.tensordot(\n",
    "        t,\n",
    "        matrix.conj(),\n",
    "        [\n",
    "            [grouped_physical_leg_label, grouped_physical_leg_conj_label],\n",
    "            [grouped_physical_leg_conj_label, grouped_physical_leg_label]\n",
    "        ]\n",
    "    )\n",
    "\n",
    "    return (t - matrix, score_2, score_4)"
   ]
  },
  {
   "cell_type": "code",
   "execution_count": 31,
   "id": "bb727155-f175-495f-8949-d19d711cccba",
   "metadata": {},
   "outputs": [],
   "source": [
    "def overlap_gradient(matrix, reduced_density_matrix,\n",
    "                     grouped_physical_leg_label,\n",
    "                     grouped_physical_leg_conj_label,\n",
    "                     target=1): \n",
    "\n",
    "    overlap = npc.tensordot(\n",
    "        matrix,\n",
    "        reduced_density_matrix,\n",
    "        [\n",
    "            [grouped_physical_leg_label, grouped_physical_leg_conj_label],\n",
    "            [grouped_physical_leg_conj_label, grouped_physical_leg_label]\n",
    "        ]\n",
    "    )\n",
    "\n",
    "    scale = (overlap - target*overlap/(np.abs(overlap)))\n",
    "    gradient = scale*reduced_density_matrix.conj()\n",
    "\n",
    "    return (gradient, overlap)"
   ]
  },
  {
   "cell_type": "code",
   "execution_count": 32,
   "id": "42b2a613-312b-426e-85ca-92fc713003f2",
   "metadata": {},
   "outputs": [],
   "source": [
    "def update(matrix, reduced_density_matrix, unitarity_scores, overlap_scores,\n",
    "           target_scores, grouped_physical_leg_label,\n",
    "           grouped_physical_leg_conj_label, matrix_dim, unitarity_lr,\n",
    "           overlap_lr, target=1):\n",
    "\n",
    "    u_grad, u_score_2, u_score_4 = unitarity_gradient(\n",
    "        matrix, grouped_physical_leg_label, grouped_physical_leg_conj_label\n",
    "    )\n",
    "\n",
    "    u_score = u_score_4 - 2*u_score_2 + matrix_dim\n",
    "    unitarity_scores.append(u_score.real)\n",
    "\n",
    "    o_gradient, overlap = overlap_gradient(\n",
    "        matrix,\n",
    "        reduced_density_matrix,\n",
    "        grouped_physical_leg_label,\n",
    "        grouped_physical_leg_conj_label,\n",
    "        target=target\n",
    "    )\n",
    "\n",
    "    overlap_scores.append(overlap)\n",
    "\n",
    "    target_score = (\n",
    "        (overlap_lr/2.0)*(target - np.abs(overlap))**2 +\n",
    "        (unitarity_lr/4.0)*u_score.real\n",
    "    )\n",
    "\n",
    "    target_scores.append(target_score)\n",
    "\n",
    "    gradient = unitarity_lr*u_grad + overlap_lr*o_gradient\n",
    "    matrix -= gradient"
   ]
  },
  {
   "cell_type": "markdown",
   "id": "6282eede-e72d-448d-9609-3c870522b13b",
   "metadata": {},
   "source": [
    "### Proj rep functions"
   ]
  },
  {
   "cell_type": "code",
   "execution_count": 33,
   "id": "a6b954d1-f0da-4463-af2f-d4bf3d88f6cf",
   "metadata": {},
   "outputs": [],
   "source": [
    "IDENTITY_LABEL = 'II'"
   ]
  },
  {
   "cell_type": "code",
   "execution_count": 34,
   "id": "4417ff90-7fcc-4949-a17d-6f616fe56bbf",
   "metadata": {},
   "outputs": [],
   "source": [
    "def update_grad_dict(grad_dict, group_element_label, value):\n",
    "    if group_element_label in grad_dict:\n",
    "        grad_dict[group_element_label] += value\n",
    "    else:\n",
    "        grad_dict[group_element_label] = value"
   ]
  },
  {
   "cell_type": "code",
   "execution_count": 35,
   "id": "a3d701dd-e8bf-40db-9c9a-c5d1536cb602",
   "metadata": {},
   "outputs": [],
   "source": [
    "def get_unitary_from_dict(unitary_dict, label, identity_label=IDENTITY_LABEL):\n",
    "    if label == identity_label:\n",
    "        return None\n",
    "    else:\n",
    "        return unitary_dict[label]"
   ]
  },
  {
   "cell_type": "code",
   "execution_count": 413,
   "id": "764abbfb-22cb-4e9a-9465-c8d1671d8f29",
   "metadata": {},
   "outputs": [],
   "source": [
    "def update_grad_inverse_pair_case(unitary_1, unitary_2, group_label_1,\n",
    "                               group_label_2, matrix_mul, grad_dict,\n",
    "                               scores_dict, identity_label=IDENTITY_LABEL):\n",
    "    u1, u2 = unitary_1, unitary_2\n",
    "    \n",
    "    u3 = matrix_mul(u1, u2)\n",
    "\n",
    "    leg_labels = u3.get_leg_labels()\n",
    "\n",
    "    c = npc.trace(u3, *leg_labels)\n",
    "    c_normed = c/(np.abs(c))\n",
    "\n",
    "    o1 = matrix_mul(u3, u2.conj())\n",
    "    o2 = matrix_mul(u1.conj(), u3)\n",
    "\n",
    "    grad_1 = o1 - c_normed*(u2.conj())\n",
    "    grad_2 = o2 - c_normed*(u1.conj())\n",
    "\n",
    "    update_grad_dict(grad_dict, group_label_1, grad_1)\n",
    "    update_grad_dict(grad_dict, group_label_2, grad_2)\n",
    "\n",
    "    s1 = npc.tensordot(o1, u1.conj(), [leg_labels, leg_labels[::-1]])\n",
    "    s2 = np.abs(c)\n",
    "    s3 = u3.shape[0]\n",
    "    \n",
    "    score = s1 -2*s2 + s3\n",
    "\n",
    "    scores_dict[(group_label_1, group_label_2, identity_label)] = score"
   ]
  },
  {
   "cell_type": "code",
   "execution_count": 420,
   "id": "5dfe2073-5338-41c7-8777-4b66a6a9b22f",
   "metadata": {},
   "outputs": [],
   "source": [
    "def update_grad_generic_case(unitary_triple, group_label_triple, matrix_mul,\n",
    "                          grad_dict, scores_dict):\n",
    "    \n",
    "    u_a, u_b, u_c = unitary_triple\n",
    "\n",
    "    # Perform matrix multiplications in a way that's difficult to read but\n",
    "    # ultimately reduces the number of matrix multiplications performed.\n",
    "    u1 = matrix_mul(u_a, u_b)\n",
    "    u2 = matrix_mul(u_a.conj(), u_c)\n",
    "    u3 = matrix_mul(u_c, u_b.conj())\n",
    "\n",
    "    u_triple = matrix_mul(u1, u_c.conj())\n",
    "    u4 = matrix_mul(u_triple, u3)\n",
    "    u5 = matrix_mul(u_a.conj(), u1)\n",
    "    u6 = reduce(matrix_mul, [u5, u_c.conj(), u_c])\n",
    "    u7 = matrix_mul(u3, u5)\n",
    "\n",
    "    leg_labels = u_triple.get_leg_labels()\n",
    "\n",
    "    c = npc.trace(u_triple, *leg_labels)\n",
    "    c_normed = c/(np.abs(c))\n",
    "\n",
    "    grads = [\n",
    "        u4 - c_normed*u3,\n",
    "        u6 - c_normed*u2,\n",
    "        u7 - c_normed.conjugate()*u1\n",
    "    ]\n",
    "\n",
    "    for l, g in zip(group_label_triple, grads):\n",
    "        update_grad_dict(grad_dict, l, g)\n",
    "    \n",
    "    s1 = npc.tensordot(u4, u_a.conj(), [leg_labels, leg_labels[::-1]])\n",
    "    s2 = np.abs(c)\n",
    "    s3 = u_triple.shape[0]\n",
    "    \n",
    "    score = s1 -2*s2 + s3\n",
    "\n",
    "    scores_dict[group_label_triple] = score"
   ]
  },
  {
   "cell_type": "code",
   "execution_count": 130,
   "id": "aeb117ab-8b0c-450a-8cc5-429e61eebe35",
   "metadata": {},
   "outputs": [],
   "source": [
    "def update_grad(unitary_dict, group_label_triple, matrix_mul, grad_dict,\n",
    "                scores_dict, identity_label=IDENTITY_LABEL):\n",
    "    u_a, u_b, u_c = [\n",
    "        get_unitary_from_dict(unitary_dict, g)\n",
    "        for g in group_label_triple\n",
    "    ]\n",
    "\n",
    "    if u_c is None:\n",
    "        update_grad_inverse_pair_case(\n",
    "            u_a,\n",
    "            u_b,\n",
    "            group_label_triple[0],\n",
    "            group_label_triple[1],\n",
    "            matrix_mul,\n",
    "            grad_dict,\n",
    "            scores_dict,\n",
    "            identity_label\n",
    "        )\n",
    "    else:\n",
    "        update_grad_generic_case(\n",
    "            (u_a, u_b, u_c),\n",
    "            group_label_triple,\n",
    "            matrix_mul,\n",
    "            grad_dict,\n",
    "            scores_dict\n",
    "        )"
   ]
  },
  {
   "cell_type": "code",
   "execution_count": 39,
   "id": "4d530da8-a0f0-4d70-ac94-1912b55bbe50",
   "metadata": {},
   "outputs": [],
   "source": [
    "# Unused functions\n",
    "def get_grad_first_element(u_a, u_b, u_c, trace_phase, matrix_mul):\n",
    "    u_1 = matrix_mul(u_c, u_b.conj())\n",
    "\n",
    "    u_2 = reduce(matrix_mul, [u_a, u_b, u_c.conj(), u_1])\n",
    "\n",
    "    return u1 - trace_phase*u_2\n",
    "\n",
    "def get_grad_second_element(u_a, u_b, u_c, trace_phase, matrix_mul):\n",
    "    u_1 = matrix_mul(u_a.conj(), u_c)\n",
    "\n",
    "    u_2 = reduce(matrix_mul, [u_a.conj(), u_a, u_b, u_c.conj(), u_c])\n",
    "\n",
    "    return u1 - trace_phase*u_2\n",
    "\n",
    "def get_grad_third_element(u_a, u_b, u_c, trace_phase, matrix_mul):\n",
    "    u_1 = matrix_mul(u_a, u_b)\n",
    "\n",
    "    u_2 = reduce(matrix_mul, [u_c, u_b.conj(), u_a.conj(), u_1])\n",
    "\n",
    "    return u1 - trace_phase.conjugate()*u_2\n",
    "\n",
    "grad_element_functions = [\n",
    "    get_grad_first_element,\n",
    "    get_grad_second_element,\n",
    "    get_grad_third_element\n",
    "]"
   ]
  },
  {
   "cell_type": "code",
   "execution_count": 40,
   "id": "6940dbe1-ed2e-44e5-9bcb-fd99e8e90227",
   "metadata": {},
   "outputs": [],
   "source": [
    "def get_proj_rep_grad(unitary_dict, group_label_triples, physical_leg_label,\n",
    "             physical_leg_conj_label, identity_label=IDENTITY_LABEL):\n",
    "    \n",
    "    def matrix_multiplication(m1, m2):\n",
    "        return npc.tensordot(\n",
    "            m1,\n",
    "            m2,\n",
    "            [[physical_leg_label,], [physical_leg_conj_label,]]\n",
    "        )\n",
    "\n",
    "    grad_dict = dict()\n",
    "    scores_dict = dict()\n",
    "\n",
    "    for group_label_triple in group_label_triples:\n",
    "        update_grad(\n",
    "            unitary_dict,\n",
    "            group_label_triple,\n",
    "            matrix_multiplication,\n",
    "            grad_dict,\n",
    "            scores_dict,\n",
    "            identity_label=IDENTITY_LABEL\n",
    "        )\n",
    "\n",
    "    score = sum(scores_dict.values())\n",
    "\n",
    "    return grad_dict, score"
   ]
  },
  {
   "cell_type": "code",
   "execution_count": 55,
   "id": "86e390c5-87d9-4e7d-bbbd-02fded2b2855",
   "metadata": {},
   "outputs": [],
   "source": [
    "def get_reduced_density_matrix(symmetry_case, num_sites=NUM_SITES, normalise=False):\n",
    "    mps_tensors = [\n",
    "        symmetry_case.psi.get_B(i)\n",
    "        for i in range(\n",
    "            symmetry_case.right_symmetry_index + 1,\n",
    "            symmetry_case.right_symmetry_index + 1 + num_sites\n",
    "        )\n",
    "    ]\n",
    "\n",
    "    rdm = symmetry_case.right_projected_symmetry_state\n",
    "\n",
    "    if normalise:\n",
    "        normalisation = npc.trace(rdm, 'vR', 'vR*')\n",
    "        norm_phase = normalisation/np.abs(normalisation)\n",
    "    \n",
    "        rdm *= norm_phase.conj()\n",
    "\n",
    "    for i, b in enumerate(mps_tensors):\n",
    "        b_current = b.replace_label('p', f'p{i}')\n",
    "    \n",
    "        rdm = npc.tensordot(rdm, b_current, [['vR'], ['vL']])\n",
    "        rdm = npc.tensordot(rdm, b_current.conj(), [['vR*'], ['vL*']])\n",
    "    \n",
    "    rdm = npc.trace(rdm, 'vR', 'vR*')\n",
    "\n",
    "    leg_labels = [f'p{i}' for i in range(num_sites)]\n",
    "    leg_conj_labels = [f'p{i}*' for i in range(num_sites)]\n",
    "\n",
    "    rdm = rdm.combine_legs([leg_labels, leg_conj_labels])\n",
    "\n",
    "    return rdm"
   ]
  },
  {
   "cell_type": "code",
   "execution_count": 42,
   "id": "90e41a04-b548-4c31-8441-6dd06bbbcd87",
   "metadata": {},
   "outputs": [],
   "source": [
    "def get_grouped_leg_labels(num_sites):\n",
    "    leg_labels = [f'p{i}' for i in range(num_sites)]\n",
    "    leg_conj_labels = [f'p{i}*' for i in range(num_sites)]\n",
    "\n",
    "    grouped_physical_leg_label = '(' + '.'.join(leg_labels) + ')'\n",
    "    grouped_physical_leg_conj_label = '(' + '.'.join(leg_conj_labels) + ')'\n",
    "\n",
    "    return (grouped_physical_leg_label, grouped_physical_leg_conj_label)"
   ]
  },
  {
   "cell_type": "code",
   "execution_count": 43,
   "id": "7f821d87-fde7-4579-954d-27b0dd8f1342",
   "metadata": {},
   "outputs": [],
   "source": [
    "def multiply_tenpy_matrices(m1, m2, grouped_physical_leg_label='p',\n",
    "                            grouped_physical_leg_conj_label='p*'):\n",
    "    return npc.tensordot(\n",
    "        m1,\n",
    "        m2,\n",
    "        [\n",
    "            [grouped_physical_leg_label,],\n",
    "            [grouped_physical_leg_conj_label,]\n",
    "        ]\n",
    "    )"
   ]
  },
  {
   "cell_type": "code",
   "execution_count": 44,
   "id": "773c2f92-6ea4-4e2b-b3e7-f04c11ec7dad",
   "metadata": {},
   "outputs": [],
   "source": [
    "def get_overlap_target(symmetry_case):\n",
    "    singular_val = symmetry_case.symmetry_transfer_matrix_singular_vals[0]\n",
    "    target = np.power(singular_val, -1/2)\n",
    "\n",
    "    return target"
   ]
  },
  {
   "cell_type": "code",
   "execution_count": 255,
   "id": "ceeae501-35f0-4ae5-82e3-ecb93edd149a",
   "metadata": {},
   "outputs": [],
   "source": [
    "def initalize_optimization(symmetry_cases, num_sites,\n",
    "                           random_initialisation=False):\n",
    "\n",
    "    # Don't forget to only pass in symmetry_cases without identity!\n",
    "    # Should maybe allow for identity as well...?\n",
    "\n",
    "    reduced_density_matrices = {\n",
    "        l: get_reduced_density_matrix(c, num_sites)\n",
    "        for l, c in zip(symmetry_labels[1:], symmetry_cases)\n",
    "    }\n",
    "\n",
    "    overlap_targets = {\n",
    "        l: get_overlap_target(c)\n",
    "        for l, c in zip(symmetry_labels[1:], symmetry_cases)\n",
    "    }\n",
    "\n",
    "    leg_label, leg_conj_label = get_grouped_leg_labels(num_sites)\n",
    "\n",
    "    # Assuming spin 1/2\n",
    "    matrix_dim = 2**num_sites\n",
    "\n",
    "    if random_initialisation:\n",
    "        solutions_dict = {\n",
    "            l: get_random_unitary_operator(rdm, matrix_dim)\n",
    "            for l, rdm in reduced_density_matrices.items()\n",
    "        }\n",
    "    else:\n",
    "        solutions_dict = {\n",
    "            l: get_identity_operator(rdm)\n",
    "            for l, rdm in reduced_density_matrices.items()\n",
    "        }\n",
    "\n",
    "    unitarity_scores = {l:list() for l in symmetry_labels[1:]}\n",
    "    overall_unitarity_scores = list()\n",
    "    overlap_scores = {l:list() for l in symmetry_labels[1:]}\n",
    "    overall_target_overlap_scores = list()\n",
    "    proj_rep_scores = list()\n",
    "    # Be clearer with names?\n",
    "    cost_function_scores = list()\n",
    "\n",
    "    # Implement checks...?\n",
    "\n",
    "    return (\n",
    "        reduced_density_matrices,\n",
    "        overlap_targets,\n",
    "        leg_label,\n",
    "        leg_conj_label,\n",
    "        matrix_dim,\n",
    "        solutions_dict,\n",
    "        unitarity_scores,\n",
    "        overall_unitarity_scores,\n",
    "        overlap_scores,\n",
    "        overall_target_overlap_scores,\n",
    "        proj_rep_scores,\n",
    "        cost_function_scores\n",
    "    )"
   ]
  },
  {
   "cell_type": "code",
   "execution_count": 46,
   "id": "fed903b5-84e1-4d3d-8876-7e6d1d1ac9aa",
   "metadata": {},
   "outputs": [],
   "source": [
    "def get_unitarity_gradients(solutions_dict, matrix_dim, leg_label,\n",
    "                            leg_conj_label):\n",
    "    grad_score_triples = {\n",
    "        l: unitarity_gradient(v, leg_label, leg_conj_label)\n",
    "        for l, v in solutions_dict.items()\n",
    "    }\n",
    "\n",
    "    grads = {l: t[0] for l, t in grad_score_triples.items()}\n",
    "\n",
    "    get_u_score = lambda t: (t[2] - 2*t[1] + matrix_dim).real\n",
    "\n",
    "    scores = {l: get_u_score(t) for l, t in grad_score_triples.items()}\n",
    "\n",
    "    return grads, scores"
   ]
  },
  {
   "cell_type": "code",
   "execution_count": 107,
   "id": "3d1245b7-2d20-4ce0-bbce-90a054d31fd0",
   "metadata": {},
   "outputs": [],
   "source": [
    "def get_overlap_gradients(solutions_dict, reduced_density_matrices,\n",
    "                          overlap_targets, leg_label, leg_conj_label):\n",
    "    grads = dict()\n",
    "    scores = dict()\n",
    "\n",
    "    for label, sol in solutions_dict.items():\n",
    "        rdm = reduced_density_matrices[label]\n",
    "        overlap_target = overlap_targets[label]\n",
    "\n",
    "        gradient, overlap_score = overlap_gradient(\n",
    "            sol,\n",
    "            rdm,\n",
    "            leg_label,\n",
    "            leg_conj_label,\n",
    "            target=overlap_target\n",
    "        )\n",
    "\n",
    "        grads[label] = gradient\n",
    "        scores[label] = overlap_score\n",
    "\n",
    "    return grads, scores"
   ]
  },
  {
   "cell_type": "code",
   "execution_count": 256,
   "id": "a63c1c58-23dc-4db5-b5da-be9e1e7e84bd",
   "metadata": {},
   "outputs": [],
   "source": [
    "def update_once(reduced_density_matrices, overlap_targets, leg_label,\n",
    "                leg_conj_label, matrix_dim, solutions_dict, unitarity_scores,\n",
    "                overall_unitarity_scores, overlaps,\n",
    "                overall_target_overlap_scores, proj_rep_scores,\n",
    "                cost_function_scores, group_label_triples, unitarity_lr,\n",
    "                overlap_lr, proj_rep_lr):\n",
    "\n",
    "\n",
    "    unitarity_grads, current_u_scores = get_unitarity_gradients(\n",
    "        solutions_dict, matrix_dim,leg_label, leg_conj_label\n",
    "    )\n",
    "\n",
    "    for l, s in current_u_scores.items():\n",
    "        unitarity_scores[l].append(s)\n",
    "\n",
    "    current_u_score = sum(current_u_scores.values())\n",
    "    overall_unitarity_scores.append(current_u_score)\n",
    "\n",
    "    overlap_grads, current_overlaps = get_overlap_gradients(\n",
    "        solutions_dict,\n",
    "        reduced_density_matrices,\n",
    "        overlap_targets,\n",
    "        leg_label,\n",
    "        leg_conj_label\n",
    "    )\n",
    "\n",
    "    for l, s in current_overlaps.items():\n",
    "        overlaps[l].append(np.abs(s))\n",
    "\n",
    "    overlap_target_score = sum(\n",
    "        (overlap_targets[l] - np.abs(current_overlaps[l]))**2\n",
    "        for l in current_overlaps\n",
    "    )\n",
    "\n",
    "    overall_target_overlap_scores.append(overlap_target_score)\n",
    "\n",
    "    # Proj rep case\n",
    "    proj_rep_grads, proj_rep_score = get_proj_rep_grad(\n",
    "        solutions_dict,\n",
    "        group_label_triples,\n",
    "        leg_label,\n",
    "        leg_conj_label,\n",
    "        identity_label=IDENTITY_LABEL\n",
    "    )\n",
    "\n",
    "    proj_rep_scores.append(proj_rep_score)\n",
    "\n",
    "    cost_function_score = (\n",
    "        (overlap_lr/2.0)*overlap_target_score +\n",
    "        (unitarity_lr/4.0)*current_u_score +\n",
    "        (proj_rep_lr)*proj_rep_score\n",
    "    )\n",
    "        \n",
    "    cost_function_scores.append(cost_function_score)\n",
    "\n",
    "    # Update each unitary\n",
    "    for l in solutions_dict:\n",
    "        solutions_dict[l] -= unitarity_lr*unitarity_grads[l]\n",
    "        solutions_dict[l] -= overlap_lr*overlap_grads[l]\n",
    "        solutions_dict[l] -= proj_rep_lr*proj_rep_grads[l]"
   ]
  },
  {
   "cell_type": "code",
   "execution_count": 257,
   "id": "6b1c2416-0b1a-4c88-971c-264df3ceae3c",
   "metadata": {},
   "outputs": [],
   "source": [
    "def repeat_update(reduced_density_matrices, overlap_targets, leg_label,\n",
    "                leg_conj_label, matrix_dim, solutions_dict, unitarity_scores,\n",
    "                overall_unitarity_scores, overlaps,\n",
    "                overall_target_overlap_scores, proj_rep_scores,\n",
    "                cost_function_scores, group_label_triples, unitarity_lr,\n",
    "                overlap_lr, proj_rep_lr, num_iterations):\n",
    "\n",
    "    for _ in range(num_iterations):\n",
    "        update_once(\n",
    "            reduced_density_matrices,\n",
    "            overlap_targets,\n",
    "            leg_label,\n",
    "            leg_conj_label,\n",
    "            matrix_dim,\n",
    "            solutions_dict,\n",
    "            unitarity_scores,\n",
    "            overall_unitarity_scores,\n",
    "            overlaps,\n",
    "            overall_target_overlap_scores,\n",
    "            proj_rep_scores,\n",
    "            cost_function_scores,\n",
    "            group_label_triples,\n",
    "            unitarity_lr,\n",
    "            overlap_lr,\n",
    "            proj_rep_lr\n",
    "        )"
   ]
  },
  {
   "cell_type": "markdown",
   "id": "2e323d63-bce5-4838-82a4-862437c40938",
   "metadata": {},
   "source": [
    "# Test"
   ]
  },
  {
   "cell_type": "code",
   "execution_count": 414,
   "id": "ec9afd07-2407-4aa8-98c7-5a15fe784409",
   "metadata": {},
   "outputs": [],
   "source": [
    "test_cases = cases[0]"
   ]
  },
  {
   "cell_type": "code",
   "execution_count": 415,
   "id": "d27229e0-3ec9-4a5d-bb89-3328ea58c8e4",
   "metadata": {},
   "outputs": [
    {
     "data": {
      "text/plain": [
       "[<SPTOptimization.SymmetryActionWithBoundaryUnitaries.SymmetryActionWithBoundaryUnitaries at 0x177ae3110>,\n",
       " <SPTOptimization.SymmetryActionWithBoundaryUnitaries.SymmetryActionWithBoundaryUnitaries at 0x1553d73d0>,\n",
       " <SPTOptimization.SymmetryActionWithBoundaryUnitaries.SymmetryActionWithBoundaryUnitaries at 0x177a8bb50>,\n",
       " <SPTOptimization.SymmetryActionWithBoundaryUnitaries.SymmetryActionWithBoundaryUnitaries at 0x1779275d0>]"
      ]
     },
     "execution_count": 415,
     "metadata": {},
     "output_type": "execute_result"
    }
   ],
   "source": [
    "test_cases"
   ]
  },
  {
   "cell_type": "markdown",
   "id": "8d59479d-1f84-4d44-b37b-cfc562639bee",
   "metadata": {},
   "source": [
    "## Run 1"
   ]
  },
  {
   "cell_type": "code",
   "execution_count": 432,
   "id": "ff6be78a-4339-4b67-ab2d-073bc910d55d",
   "metadata": {},
   "outputs": [],
   "source": [
    "initial_params = initalize_optimization(\n",
    "    test_cases, 4, random_initialisation=True\n",
    ")\n",
    "\n",
    "(\n",
    "        reduced_density_matrices,\n",
    "        overlap_targets,\n",
    "        leg_label,\n",
    "        leg_conj_label,\n",
    "        matrix_dim,\n",
    "        solutions_dict,\n",
    "        unitarity_scores,\n",
    "        overall_unitarity_scores,\n",
    "        overlap_scores,\n",
    "        overall_target_overlap_scores,\n",
    "        proj_rep_scores,\n",
    "        cost_function_scores\n",
    ") = initial_params"
   ]
  },
  {
   "cell_type": "code",
   "execution_count": 438,
   "id": "572fe311-e211-4e6d-ba04-1a1d853fe878",
   "metadata": {},
   "outputs": [],
   "source": [
    "lr = 0.05"
   ]
  },
  {
   "cell_type": "code",
   "execution_count": 439,
   "id": "59b6519e-276c-4ce5-8c9f-d861c257f070",
   "metadata": {},
   "outputs": [],
   "source": [
    "unitarity_lr = lr\n",
    "overlap_lr = lr\n",
    "proj_rep_lr = lr"
   ]
  },
  {
   "cell_type": "code",
   "execution_count": 440,
   "id": "a4226723-f6d2-4736-8259-575c4d0a0696",
   "metadata": {},
   "outputs": [],
   "source": [
    "repeat_update(\n",
    "    reduced_density_matrices,\n",
    "    overlap_targets,\n",
    "    leg_label,\n",
    "    leg_conj_label,\n",
    "    matrix_dim,\n",
    "    solutions_dict,\n",
    "    unitarity_scores,\n",
    "    overall_unitarity_scores,\n",
    "    overlap_scores,\n",
    "    overall_target_overlap_scores,\n",
    "    proj_rep_scores,\n",
    "    cost_function_scores,\n",
    "    group_products,\n",
    "    unitarity_lr,\n",
    "    overlap_lr,\n",
    "    proj_rep_lr,\n",
    "    300\n",
    ")"
   ]
  },
  {
   "cell_type": "code",
   "execution_count": 441,
   "id": "c20ef504-5ac9-4f98-b2d0-16582d75022f",
   "metadata": {},
   "outputs": [
    {
     "data": {
      "text/plain": [
       "[<matplotlib.lines.Line2D at 0x30691d210>]"
      ]
     },
     "execution_count": 441,
     "metadata": {},
     "output_type": "execute_result"
    },
    {
     "data": {
      "image/png": "[encoded data removed]",
      "text/plain": [
       "<Figure size 640x480 with 1 Axes>"
      ]
     },
     "metadata": {},
     "output_type": "display_data"
    }
   ],
   "source": [
    "plt.plot(cost_function_scores)"
   ]
  },
  {
   "cell_type": "code",
   "execution_count": 442,
   "id": "ffe31e8d-2558-42f1-8a3f-b5e2fd503bdd",
   "metadata": {},
   "outputs": [
    {
     "data": {
      "text/plain": [
       "(0.008958676138017329-2.636779683484747e-17j)"
      ]
     },
     "execution_count": 442,
     "metadata": {},
     "output_type": "execute_result"
    }
   ],
   "source": [
    "cost_function_scores[-1]"
   ]
  },
  {
   "cell_type": "code",
   "execution_count": 443,
   "id": "0e571d83-bde5-4a43-8dbb-e4a8380d9858",
   "metadata": {},
   "outputs": [
    {
     "name": "stderr",
     "output_type": "stream",
     "text": [
      "/var/folders/r3/xn8xq5c17932m2g1b4r3dss80000gn/T/ipykernel_10466/111217294.py:8: UserWarning: FigureCanvasAgg is non-interactive, and thus cannot be shown\n",
      "  fig.show()\n"
     ]
    },
    {
     "data": {
      "image/png": "[encoded data removed]",
      "text/plain": [
       "<Figure size 600x400 with 1 Axes>"
      ]
     },
     "metadata": {},
     "output_type": "display_data"
    }
   ],
   "source": [
    "fig, ax = plt.subplots(figsize=(6,4))\n",
    "\n",
    "for l, X in unitarity_scores.items():\n",
    "    ax.plot(X, label=l)\n",
    "\n",
    "ax.legend()\n",
    "\n",
    "fig.show()"
   ]
  },
  {
   "cell_type": "code",
   "execution_count": 444,
   "id": "e5a7d7a7-9e8d-4c13-8e47-3078dd504869",
   "metadata": {},
   "outputs": [
    {
     "name": "stderr",
     "output_type": "stream",
     "text": [
      "/var/folders/r3/xn8xq5c17932m2g1b4r3dss80000gn/T/ipykernel_10466/18745376.py:8: UserWarning: FigureCanvasAgg is non-interactive, and thus cannot be shown\n",
      "  fig.show()\n"
     ]
    },
    {
     "data": {
      "image/png": "[encoded data removed]",
      "text/plain": [
       "<Figure size 600x400 with 1 Axes>"
      ]
     },
     "metadata": {},
     "output_type": "display_data"
    }
   ],
   "source": [
    "fig, ax = plt.subplots(figsize=(6,4))\n",
    "\n",
    "for l, X in overlap_scores.items():\n",
    "    ax.plot(X, label=l)\n",
    "\n",
    "ax.legend()\n",
    "\n",
    "fig.show()"
   ]
  },
  {
   "cell_type": "code",
   "execution_count": 445,
   "id": "16271f3d-e5c4-4691-bfc6-7538b636a6cd",
   "metadata": {},
   "outputs": [
    {
     "data": {
      "text/plain": [
       "[<matplotlib.lines.Line2D at 0x30738d690>]"
      ]
     },
     "execution_count": 445,
     "metadata": {},
     "output_type": "execute_result"
    },
    {
     "data": {
      "image/png": "[encoded data removed]",
      "text/plain": [
       "<Figure size 640x480 with 1 Axes>"
      ]
     },
     "metadata": {},
     "output_type": "display_data"
    }
   ],
   "source": [
    "plt.plot(overall_target_overlap_scores)"
   ]
  },
  {
   "cell_type": "code",
   "execution_count": 446,
   "id": "2c61baaa-5645-4a63-a149-3f0bdbcc2ec0",
   "metadata": {},
   "outputs": [
    {
     "data": {
      "text/plain": [
       "[<matplotlib.lines.Line2D at 0x3073c2b90>]"
      ]
     },
     "execution_count": 446,
     "metadata": {},
     "output_type": "execute_result"
    },
    {
     "data": {
      "image/png": "[encoded data removed]",
      "text/plain": [
       "<Figure size 640x480 with 1 Axes>"
      ]
     },
     "metadata": {},
     "output_type": "display_data"
    }
   ],
   "source": [
    "plt.plot(proj_rep_scores)"
   ]
  },
  {
   "cell_type": "markdown",
   "id": "921abdeb-b5ec-47c1-9fa3-c5b27e405a68",
   "metadata": {},
   "source": [
    "## Run 2"
   ]
  },
  {
   "cell_type": "code",
   "execution_count": 448,
   "id": "85bb5685-e717-45d1-870d-7a14b06d0145",
   "metadata": {},
   "outputs": [],
   "source": [
    "initial_params = initalize_optimization(\n",
    "    test_cases, 4, random_initialisation=True\n",
    ")\n",
    "\n",
    "(\n",
    "        reduced_density_matrices,\n",
    "        overlap_targets,\n",
    "        leg_label,\n",
    "        leg_conj_label,\n",
    "        matrix_dim,\n",
    "        solutions_dict,\n",
    "        unitarity_scores,\n",
    "        overall_unitarity_scores,\n",
    "        overlap_scores,\n",
    "        overall_target_overlap_scores,\n",
    "        proj_rep_scores,\n",
    "        cost_function_scores\n",
    ") = initial_params"
   ]
  },
  {
   "cell_type": "code",
   "execution_count": 449,
   "id": "96d91043-1120-4830-98fd-e4170ba26114",
   "metadata": {},
   "outputs": [],
   "source": [
    "unitarity_lr = 0.3\n",
    "overlap_lr = 0.3\n",
    "proj_rep_lr = 0.01"
   ]
  },
  {
   "cell_type": "code",
   "execution_count": 450,
   "id": "14857701-4008-4f0a-8bf7-4acbd5fb528a",
   "metadata": {},
   "outputs": [],
   "source": [
    "repeat_update(\n",
    "    reduced_density_matrices,\n",
    "    overlap_targets,\n",
    "    leg_label,\n",
    "    leg_conj_label,\n",
    "    matrix_dim,\n",
    "    solutions_dict,\n",
    "    unitarity_scores,\n",
    "    overall_unitarity_scores,\n",
    "    overlap_scores,\n",
    "    overall_target_overlap_scores,\n",
    "    proj_rep_scores,\n",
    "    cost_function_scores,\n",
    "    group_products,\n",
    "    unitarity_lr,\n",
    "    overlap_lr,\n",
    "    proj_rep_lr,\n",
    "    1000\n",
    ")"
   ]
  },
  {
   "cell_type": "code",
   "execution_count": 451,
   "id": "5178b5c1-6319-4491-bdb7-c219b76965a1",
   "metadata": {},
   "outputs": [
    {
     "data": {
      "text/plain": [
       "[<matplotlib.lines.Line2D at 0x306534250>]"
      ]
     },
     "execution_count": 451,
     "metadata": {},
     "output_type": "execute_result"
    },
    {
     "data": {
      "image/png": "[encoded data removed]",
      "text/plain": [
       "<Figure size 640x480 with 1 Axes>"
      ]
     },
     "metadata": {},
     "output_type": "display_data"
    }
   ],
   "source": [
    "plt.plot(cost_function_scores)"
   ]
  },
  {
   "cell_type": "code",
   "execution_count": 452,
   "id": "d1eca399-8e0f-4521-b13c-4aef01571f09",
   "metadata": {},
   "outputs": [
    {
     "data": {
      "text/plain": [
       "(0.04115869072721699-2.2204460492503132e-17j)"
      ]
     },
     "execution_count": 452,
     "metadata": {},
     "output_type": "execute_result"
    }
   ],
   "source": [
    "cost_function_scores[-1]"
   ]
  },
  {
   "cell_type": "code",
   "execution_count": 453,
   "id": "cc46606c-8bd4-4e46-9928-4c4c188a51f5",
   "metadata": {},
   "outputs": [
    {
     "name": "stderr",
     "output_type": "stream",
     "text": [
      "/var/folders/r3/xn8xq5c17932m2g1b4r3dss80000gn/T/ipykernel_10466/111217294.py:8: UserWarning: FigureCanvasAgg is non-interactive, and thus cannot be shown\n",
      "  fig.show()\n"
     ]
    },
    {
     "data": {
      "image/png": "[encoded data removed]",
      "text/plain": [
       "<Figure size 600x400 with 1 Axes>"
      ]
     },
     "metadata": {},
     "output_type": "display_data"
    }
   ],
   "source": [
    "fig, ax = plt.subplots(figsize=(6,4))\n",
    "\n",
    "for l, X in unitarity_scores.items():\n",
    "    ax.plot(X, label=l)\n",
    "\n",
    "ax.legend()\n",
    "\n",
    "fig.show()"
   ]
  },
  {
   "cell_type": "code",
   "execution_count": 454,
   "id": "6891371e-93d8-4747-a5f5-7a63897ffef7",
   "metadata": {},
   "outputs": [
    {
     "data": {
      "text/plain": [
       "[<matplotlib.lines.Line2D at 0x30751f210>]"
      ]
     },
     "execution_count": 454,
     "metadata": {},
     "output_type": "execute_result"
    },
    {
     "data": {
      "image/png": "[encoded data removed]",
      "text/plain": [
       "<Figure size 640x480 with 1 Axes>"
      ]
     },
     "metadata": {},
     "output_type": "display_data"
    }
   ],
   "source": [
    "plt.plot(overall_unitarity_scores)"
   ]
  },
  {
   "cell_type": "code",
   "execution_count": 455,
   "id": "812475d2-306e-4516-bfa5-c6aaa253e47d",
   "metadata": {},
   "outputs": [
    {
     "data": {
      "text/plain": [
       "[0.00046871849138341304, 0.010583871112942234, 0.01058387109492287]"
      ]
     },
     "execution_count": 455,
     "metadata": {},
     "output_type": "execute_result"
    }
   ],
   "source": [
    "[l[-1] for l in unitarity_scores.values()]"
   ]
  },
  {
   "cell_type": "code",
   "execution_count": 456,
   "id": "b6c7bd16-16ae-4781-b98c-ce8f205e0e31",
   "metadata": {},
   "outputs": [
    {
     "name": "stderr",
     "output_type": "stream",
     "text": [
      "/var/folders/r3/xn8xq5c17932m2g1b4r3dss80000gn/T/ipykernel_10466/18745376.py:8: UserWarning: FigureCanvasAgg is non-interactive, and thus cannot be shown\n",
      "  fig.show()\n"
     ]
    },
    {
     "data": {
      "image/png": "[encoded data removed]",
      "text/plain": [
       "<Figure size 600x400 with 1 Axes>"
      ]
     },
     "metadata": {},
     "output_type": "display_data"
    }
   ],
   "source": [
    "fig, ax = plt.subplots(figsize=(6,4))\n",
    "\n",
    "for l, X in overlap_scores.items():\n",
    "    ax.plot(X, label=l)\n",
    "\n",
    "ax.legend()\n",
    "\n",
    "fig.show()"
   ]
  },
  {
   "cell_type": "code",
   "execution_count": 457,
   "id": "4308fe34-66e8-4ac3-a716-69d5cf415f0f",
   "metadata": {},
   "outputs": [
    {
     "data": {
      "text/plain": [
       "[<matplotlib.lines.Line2D at 0x30762aa50>]"
      ]
     },
     "execution_count": 457,
     "metadata": {},
     "output_type": "execute_result"
    },
    {
     "data": {
      "image/png": "[encoded data removed]",
      "text/plain": [
       "<Figure size 640x480 with 1 Axes>"
      ]
     },
     "metadata": {},
     "output_type": "display_data"
    }
   ],
   "source": [
    "plt.plot(overall_target_overlap_scores)"
   ]
  },
  {
   "cell_type": "code",
   "execution_count": 458,
   "id": "15ded367-991c-4173-94f1-e96032ef1d3f",
   "metadata": {},
   "outputs": [
    {
     "data": {
      "text/plain": [
       "0.134325215830424"
      ]
     },
     "execution_count": 458,
     "metadata": {},
     "output_type": "execute_result"
    }
   ],
   "source": [
    "overall_target_overlap_scores[-1]"
   ]
  },
  {
   "cell_type": "code",
   "execution_count": 459,
   "id": "b8fc387c-8adc-4b06-8ba1-d6aaf2438973",
   "metadata": {},
   "outputs": [
    {
     "data": {
      "text/plain": [
       "[1.3975504928744729, 1.1553240511815848, 1.155324051306448]"
      ]
     },
     "execution_count": 459,
     "metadata": {},
     "output_type": "execute_result"
    }
   ],
   "source": [
    "[l[-1] for l in overlap_scores.values()]"
   ]
  },
  {
   "cell_type": "code",
   "execution_count": 460,
   "id": "579db6b1-340f-441a-a8cc-f3eaee0003bf",
   "metadata": {},
   "outputs": [
    {
     "data": {
      "text/plain": [
       "[<matplotlib.lines.Line2D at 0x3076c55d0>]"
      ]
     },
     "execution_count": 460,
     "metadata": {},
     "output_type": "execute_result"
    },
    {
     "data": {
      "image/png": "[encoded data removed]",
      "text/plain": [
       "<Figure size 640x480 with 1 Axes>"
      ]
     },
     "metadata": {},
     "output_type": "display_data"
    }
   ],
   "source": [
    "plt.plot(proj_rep_scores)"
   ]
  },
  {
   "cell_type": "code",
   "execution_count": 461,
   "id": "ecfa1ad2-33fa-454f-976f-ee0c89d28a45",
   "metadata": {},
   "outputs": [
    {
     "data": {
      "text/plain": [
       "(1.9387173800209752-2.220446049250313e-15j)"
      ]
     },
     "execution_count": 461,
     "metadata": {},
     "output_type": "execute_result"
    }
   ],
   "source": [
    "proj_rep_scores[-1]"
   ]
  },
  {
   "cell_type": "markdown",
   "id": "24ed6aaa-44c6-4d7a-b504-5e42bd17ccc5",
   "metadata": {},
   "source": [
    "## Run 3"
   ]
  },
  {
   "cell_type": "code",
   "execution_count": 462,
   "id": "3818cb29-93d2-4ec3-af7f-e058700f9c68",
   "metadata": {},
   "outputs": [],
   "source": [
    "initial_params = initalize_optimization(\n",
    "    test_cases, 4, random_initialisation=True\n",
    ")\n",
    "\n",
    "(\n",
    "        reduced_density_matrices,\n",
    "        overlap_targets,\n",
    "        leg_label,\n",
    "        leg_conj_label,\n",
    "        matrix_dim,\n",
    "        solutions_dict,\n",
    "        unitarity_scores,\n",
    "        overall_unitarity_scores,\n",
    "        overlap_scores,\n",
    "        overall_target_overlap_scores,\n",
    "        proj_rep_scores,\n",
    "        cost_function_scores\n",
    ") = initial_params"
   ]
  },
  {
   "cell_type": "code",
   "execution_count": 463,
   "id": "5122f484-dd4b-42a5-bcc1-9ef4cbb212ec",
   "metadata": {},
   "outputs": [],
   "source": [
    "unitarity_lr = 0.3\n",
    "overlap_lr = 0.3\n",
    "proj_rep_lr = 0.01"
   ]
  },
  {
   "cell_type": "code",
   "execution_count": 464,
   "id": "162cef16-14c1-47fc-a99a-49bb81452bdc",
   "metadata": {},
   "outputs": [],
   "source": [
    "repeat_update(\n",
    "    reduced_density_matrices,\n",
    "    overlap_targets,\n",
    "    leg_label,\n",
    "    leg_conj_label,\n",
    "    matrix_dim,\n",
    "    solutions_dict,\n",
    "    unitarity_scores,\n",
    "    overall_unitarity_scores,\n",
    "    overlap_scores,\n",
    "    overall_target_overlap_scores,\n",
    "    proj_rep_scores,\n",
    "    cost_function_scores,\n",
    "    group_products,\n",
    "    unitarity_lr,\n",
    "    overlap_lr,\n",
    "    proj_rep_lr,\n",
    "    1000\n",
    ")"
   ]
  },
  {
   "cell_type": "code",
   "execution_count": 465,
   "id": "58fd982f-2abd-49bb-9487-4090c4d1e45f",
   "metadata": {},
   "outputs": [
    {
     "data": {
      "text/plain": [
       "[<matplotlib.lines.Line2D at 0x30692ed90>]"
      ]
     },
     "execution_count": 465,
     "metadata": {},
     "output_type": "execute_result"
    },
    {
     "data": {
      "image/png": "[encoded data removed]",
      "text/plain": [
       "<Figure size 640x480 with 1 Axes>"
      ]
     },
     "metadata": {},
     "output_type": "display_data"
    }
   ],
   "source": [
    "plt.plot(cost_function_scores)"
   ]
  },
  {
   "cell_type": "code",
   "execution_count": 466,
   "id": "bfd2745b-3293-42aa-9d4c-e072b53fc1ed",
   "metadata": {},
   "outputs": [
    {
     "data": {
      "text/plain": [
       "(0.10583050333814542+2.0539125955565396e-17j)"
      ]
     },
     "execution_count": 466,
     "metadata": {},
     "output_type": "execute_result"
    }
   ],
   "source": [
    "cost_function_scores[-1]"
   ]
  },
  {
   "cell_type": "code",
   "execution_count": 467,
   "id": "343af0c5-d17d-4680-89b8-72701de3247a",
   "metadata": {},
   "outputs": [
    {
     "name": "stderr",
     "output_type": "stream",
     "text": [
      "/var/folders/r3/xn8xq5c17932m2g1b4r3dss80000gn/T/ipykernel_10466/111217294.py:8: UserWarning: FigureCanvasAgg is non-interactive, and thus cannot be shown\n",
      "  fig.show()\n"
     ]
    },
    {
     "data": {
      "image/png": "[encoded data removed]",
      "text/plain": [
       "<Figure size 600x400 with 1 Axes>"
      ]
     },
     "metadata": {},
     "output_type": "display_data"
    }
   ],
   "source": [
    "fig, ax = plt.subplots(figsize=(6,4))\n",
    "\n",
    "for l, X in unitarity_scores.items():\n",
    "    ax.plot(X, label=l)\n",
    "\n",
    "ax.legend()\n",
    "\n",
    "fig.show()"
   ]
  },
  {
   "cell_type": "code",
   "execution_count": 468,
   "id": "fd34ddc6-593d-4829-9e20-e9405e7532f2",
   "metadata": {},
   "outputs": [
    {
     "data": {
      "text/plain": [
       "[<matplotlib.lines.Line2D at 0x307820d10>]"
      ]
     },
     "execution_count": 468,
     "metadata": {},
     "output_type": "execute_result"
    },
    {
     "data": {
      "image/png": "[encoded data removed]",
      "text/plain": [
       "<Figure size 640x480 with 1 Axes>"
      ]
     },
     "metadata": {},
     "output_type": "display_data"
    }
   ],
   "source": [
    "plt.plot(overall_unitarity_scores)"
   ]
  },
  {
   "cell_type": "code",
   "execution_count": 469,
   "id": "c5a8b348-ea0b-4160-9211-bd3ffc631815",
   "metadata": {},
   "outputs": [
    {
     "data": {
      "text/plain": [
       "[0.048658031632228926, 0.020493682667762414, 0.020493682667542146]"
      ]
     },
     "execution_count": 469,
     "metadata": {},
     "output_type": "execute_result"
    }
   ],
   "source": [
    "[l[-1] for l in unitarity_scores.values()]"
   ]
  },
  {
   "cell_type": "code",
   "execution_count": 470,
   "id": "f669e85b-6bba-4266-8fc7-b0f31cc5ca53",
   "metadata": {},
   "outputs": [
    {
     "name": "stderr",
     "output_type": "stream",
     "text": [
      "/var/folders/r3/xn8xq5c17932m2g1b4r3dss80000gn/T/ipykernel_10466/18745376.py:8: UserWarning: FigureCanvasAgg is non-interactive, and thus cannot be shown\n",
      "  fig.show()\n"
     ]
    },
    {
     "data": {
      "image/png": "[encoded data removed]",
      "text/plain": [
       "<Figure size 600x400 with 1 Axes>"
      ]
     },
     "metadata": {},
     "output_type": "display_data"
    }
   ],
   "source": [
    "fig, ax = plt.subplots(figsize=(6,4))\n",
    "\n",
    "for l, X in overlap_scores.items():\n",
    "    ax.plot(X, label=l)\n",
    "\n",
    "ax.legend()\n",
    "\n",
    "fig.show()"
   ]
  },
  {
   "cell_type": "code",
   "execution_count": 471,
   "id": "5df9a622-7947-43ac-8978-1e4e00d5a7fd",
   "metadata": {},
   "outputs": [
    {
     "data": {
      "text/plain": [
       "[<matplotlib.lines.Line2D at 0x30790b190>]"
      ]
     },
     "execution_count": 471,
     "metadata": {},
     "output_type": "execute_result"
    },
    {
     "data": {
      "image/png": "[encoded data removed]",
      "text/plain": [
       "<Figure size 640x480 with 1 Axes>"
      ]
     },
     "metadata": {},
     "output_type": "display_data"
    }
   ],
   "source": [
    "plt.plot(overall_target_overlap_scores)"
   ]
  },
  {
   "cell_type": "code",
   "execution_count": 472,
   "id": "8b097127-eb1e-4a0a-81b5-06c84905ad92",
   "metadata": {},
   "outputs": [
    {
     "data": {
      "text/plain": [
       "0.4055943378310185"
      ]
     },
     "execution_count": 472,
     "metadata": {},
     "output_type": "execute_result"
    }
   ],
   "source": [
    "overall_target_overlap_scores[-1]"
   ]
  },
  {
   "cell_type": "code",
   "execution_count": 473,
   "id": "f4b6c9dd-86a8-4f5d-9a5f-ce07196feed5",
   "metadata": {},
   "outputs": [
    {
     "data": {
      "text/plain": [
       "[0.9652421879003578, 1.0948242679873748, 1.0948242679894715]"
      ]
     },
     "execution_count": 473,
     "metadata": {},
     "output_type": "execute_result"
    }
   ],
   "source": [
    "[l[-1] for l in overlap_scores.values()]"
   ]
  },
  {
   "cell_type": "code",
   "execution_count": 474,
   "id": "5817bf6d-04e7-4522-a4ec-835465f81143",
   "metadata": {},
   "outputs": [
    {
     "data": {
      "text/plain": [
       "[<matplotlib.lines.Line2D at 0x307984b10>]"
      ]
     },
     "execution_count": 474,
     "metadata": {},
     "output_type": "execute_result"
    },
    {
     "data": {
      "image/png": "[encoded data removed]",
      "text/plain": [
       "<Figure size 640x480 with 1 Axes>"
      ]
     },
     "metadata": {},
     "output_type": "display_data"
    }
   ],
   "source": [
    "plt.plot(proj_rep_scores)"
   ]
  },
  {
   "cell_type": "code",
   "execution_count": 475,
   "id": "0cfcb4f3-db03-4f8e-99bf-67230311cd91",
   "metadata": {},
   "outputs": [
    {
     "data": {
      "text/plain": [
       "(3.8267947890927623+2.0539125955565396e-15j)"
      ]
     },
     "execution_count": 475,
     "metadata": {},
     "output_type": "execute_result"
    }
   ],
   "source": [
    "proj_rep_scores[-1]"
   ]
  },
  {
   "cell_type": "markdown",
   "id": "5da210dd-fb43-43d5-b93a-618c35ade612",
   "metadata": {},
   "source": [
    "# Simple proj rep case\n",
    "Still not working, so simplify."
   ]
  },
  {
   "cell_type": "code",
   "execution_count": 314,
   "id": "367fe8dd-bf43-4411-826d-6e22b4e651d3",
   "metadata": {},
   "outputs": [
    {
     "name": "stdout",
     "output_type": "stream",
     "text": [
      "Help on function multiply_tenpy_matrices in module __main__:\n",
      "\n",
      "multiply_tenpy_matrices(m1, m2, grouped_physical_leg_label='p', grouped_physical_leg_conj_label='p*')\n",
      "\n"
     ]
    }
   ],
   "source": [
    "help(multiply_tenpy_matrices)"
   ]
  },
  {
   "cell_type": "code",
   "execution_count": 396,
   "id": "f360406a-44bd-465a-914b-b9cefcbb33a1",
   "metadata": {},
   "outputs": [],
   "source": [
    "def simple_proj_rep_gradient(u_a, u_b, u_c):\n",
    "    grad_a_1 = reduce(multiply_tenpy_matrices, [u_a, u_b, u_c.conj(), u_c, u_b.conj()])\n",
    "    grad_b_1 = reduce(multiply_tenpy_matrices, [u_a.conj(), u_a, u_b, u_c.conj(), u_c])\n",
    "    grad_c_1 = reduce(multiply_tenpy_matrices, [u_c, u_b.conj(), u_a.conj(), u_a, u_b])\n",
    "\n",
    "    m = reduce(multiply_tenpy_matrices, [u_a, u_b, u_c.conj()])\n",
    "    c = npc.trace(m)\n",
    "    c_normed = c/np.abs(c)\n",
    "\n",
    "    m2 = multiply_tenpy_matrices(grad_a_1, u_a.conj())\n",
    "    c2 = npc.trace(m2)\n",
    "\n",
    "    grad_a_2 = multiply_tenpy_matrices(u_c, u_b.conj())\n",
    "    grad_b_2 = multiply_tenpy_matrices(u_a.conj(), u_c)\n",
    "    grad_c_2 = multiply_tenpy_matrices(u_a, u_b)\n",
    "\n",
    "    c3 = u_a.shape[0]\n",
    "    \n",
    "    score = c2 - 2.0*np.abs(c) + c3\n",
    "\n",
    "    grads = (\n",
    "        grad_a_1 - c_normed*grad_a_2,\n",
    "        grad_b_1 - c_normed*grad_b_2,\n",
    "        grad_c_1 - (c_normed.conj())*grad_c_2\n",
    "    )\n",
    "\n",
    "    return (grads, score)"
   ]
  },
  {
   "cell_type": "code",
   "execution_count": 397,
   "id": "d8c15f17-10b8-420f-92d3-72633b0b5a18",
   "metadata": {},
   "outputs": [
    {
     "data": {
      "text/plain": [
       "<npc.Array shape=(8, 8) labels=['p', 'p*']>"
      ]
     },
     "execution_count": 397,
     "metadata": {},
     "output_type": "execute_result"
    }
   ],
   "source": [
    "rdm = get_reduced_density_matrix(cases[0][2], 3, True)\n",
    "rdm.ireplace_labels(['(p0.p1.p2)', '(p0*.p1*.p2*)'], ['p','p*'])"
   ]
  },
  {
   "cell_type": "code",
   "execution_count": 398,
   "id": "4025d7f7-c3ff-4104-8cb0-5ff16df5fc69",
   "metadata": {},
   "outputs": [],
   "source": [
    "matrix_dim = 2**3"
   ]
  },
  {
   "cell_type": "code",
   "execution_count": 405,
   "id": "24974279-6d84-446b-a692-a00ade93a51c",
   "metadata": {},
   "outputs": [],
   "source": [
    "u_a, u_b, u_c = (\n",
    "    get_random_unitary_operator(rdm, matrix_dim),\n",
    "    get_random_unitary_operator(rdm, matrix_dim),\n",
    "    get_random_unitary_operator(rdm, matrix_dim)\n",
    ")"
   ]
  },
  {
   "cell_type": "code",
   "execution_count": 406,
   "id": "21117f3c-50b1-4265-ace2-4725611aa2b3",
   "metadata": {},
   "outputs": [
    {
     "data": {
      "text/plain": [
       "((<npc.Array shape=(8, 8) labels=['p*', 'p']>,\n",
       "  <npc.Array shape=(8, 8) labels=['p*', 'p']>,\n",
       "  <npc.Array shape=(8, 8) labels=['p*', 'p']>),\n",
       " (14.516831672870426-6.567267887539531e-17j))"
      ]
     },
     "execution_count": 406,
     "metadata": {},
     "output_type": "execute_result"
    }
   ],
   "source": [
    "simple_proj_rep_gradient(u_a, u_b, u_c)"
   ]
  },
  {
   "cell_type": "code",
   "execution_count": 407,
   "id": "3dc3aed3-0b99-4d46-b573-5711c90637e4",
   "metadata": {},
   "outputs": [],
   "source": [
    "scores = list()"
   ]
  },
  {
   "cell_type": "code",
   "execution_count": 408,
   "id": "a8365d14-7aec-4934-a4ab-561ce7650714",
   "metadata": {},
   "outputs": [],
   "source": [
    "lr = 0.01"
   ]
  },
  {
   "cell_type": "code",
   "execution_count": 409,
   "id": "f8e326e9-7ea3-4af0-a3a9-2deeb6944679",
   "metadata": {},
   "outputs": [],
   "source": [
    "for _ in range(1000):\n",
    "    ((g_a, g_b, g_c), s) = simple_proj_rep_gradient(u_a, u_b, u_c) \n",
    "\n",
    "    scores.append(s)\n",
    "    u_a -= lr*g_a\n",
    "    u_b -= lr*g_b\n",
    "    u_c -= lr*g_c"
   ]
  },
  {
   "cell_type": "code",
   "execution_count": 410,
   "id": "fc0f934b-798a-47bd-8238-50c52ba6b132",
   "metadata": {},
   "outputs": [
    {
     "data": {
      "text/plain": [
       "[<matplotlib.lines.Line2D at 0x3062b5750>]"
      ]
     },
     "execution_count": 410,
     "metadata": {},
     "output_type": "execute_result"
    },
    {
     "data": {
      "image/png": "[encoded data removed]",
      "text/plain": [
       "<Figure size 640x480 with 1 Axes>"
      ]
     },
     "metadata": {},
     "output_type": "display_data"
    }
   ],
   "source": [
    "plt.plot(scores)"
   ]
  },
  {
   "cell_type": "code",
   "execution_count": 411,
   "id": "5f3ecb1b-d1b7-4c08-8d23-277e4633f524",
   "metadata": {},
   "outputs": [
    {
     "data": {
      "text/plain": [
       "(-3.552713678800501e-15+9.593497782197156e-17j)"
      ]
     },
     "execution_count": 411,
     "metadata": {},
     "output_type": "execute_result"
    }
   ],
   "source": [
    "scores[-1]"
   ]
  },
  {
   "cell_type": "markdown",
   "id": "88694b7f-2b3b-417a-a2d8-e210f7335b4b",
   "metadata": {},
   "source": [
    "It's working. Now add unitarity gradients and see what happens.\n",
    "\n",
    "Shouldn't be much serious though."
   ]
  },
  {
   "cell_type": "markdown",
   "id": "b0faaf8a-1922-4b41-a39a-4be7ffad4723",
   "metadata": {},
   "source": [
    "# To-do\n",
    "\n",
    "Still not convering exactly. But it looks good!\n",
    "\n",
    "Should plug in exact solution for B=0 and see what happens...!"
   ]
  },
  {
   "cell_type": "code",
   "execution_count": null,
   "id": "d56ee45c-56ec-4f11-8d1b-4519352803c7",
   "metadata": {},
   "outputs": [],
   "source": []
  }
 ],
 "metadata": {
  "kernelspec": {
   "display_name": "num_spt_venv_p11",
   "language": "python",
   "name": "num_spt_venv_p11"
  },
  "language_info": {
   "codemirror_mode": {
    "name": "ipython",
    "version": 3
   },
   "file_extension": ".py",
   "mimetype": "text/x-python",
   "name": "python",
   "nbconvert_exporter": "python",
   "pygments_lexer": "ipython3",
   "version": "3.11.9"
  }
 },
 "nbformat": 4,
 "nbformat_minor": 5
}
