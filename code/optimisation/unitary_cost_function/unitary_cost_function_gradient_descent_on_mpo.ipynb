{
 "cells": [
  {
   "cell_type": "markdown",
   "id": "9603afff-5204-44c1-92a2-6c7e09ad20f6",
   "metadata": {},
   "source": [
    "# Unitary cost function gradient descent\n",
    "\n",
    "Created 27/09/2024\n",
    "\n",
    "Objectives:\n",
    "* Apply gradient descent algorithm to an MPO to see wether it converges to some unitary."
   ]
  },
  {
   "cell_type": "markdown",
   "id": "9ad0db4d-805c-4403-9d48-c71d523d572f",
   "metadata": {},
   "source": [
    "# Package imports"
   ]
  },
  {
   "cell_type": "code",
   "execution_count": 1,
   "id": "ecb41ea3-927f-4efa-aebe-ce15784aa037",
   "metadata": {},
   "outputs": [],
   "source": [
    "import sys"
   ]
  },
  {
   "cell_type": "code",
   "execution_count": 2,
   "id": "4a525ec6-f0c8-47ee-8b0b-345bf0ef8bd3",
   "metadata": {},
   "outputs": [],
   "source": [
    "import h5py\n",
    "from tenpy.tools import hdf5_io\n",
    "import tenpy\n",
    "import tenpy.linalg.np_conserved as npc\n",
    "\n",
    "import os"
   ]
  },
  {
   "cell_type": "code",
   "execution_count": 3,
   "id": "b22092ac-9191-4a2d-b568-8680c3687185",
   "metadata": {},
   "outputs": [],
   "source": [
    "from functools import reduce"
   ]
  },
  {
   "cell_type": "code",
   "execution_count": 4,
   "id": "214f688a-c657-4810-b4d1-b1247deff62c",
   "metadata": {},
   "outputs": [],
   "source": [
    "import numpy as np\n",
    "import matplotlib.pyplot as plt"
   ]
  },
  {
   "cell_type": "code",
   "execution_count": 5,
   "id": "b7461fe3-41a3-492f-b018-8e32e27a7300",
   "metadata": {},
   "outputs": [],
   "source": [
    "import re"
   ]
  },
  {
   "cell_type": "markdown",
   "id": "c69a8a47-e298-4c4c-97f7-a6157da4e15f",
   "metadata": {},
   "source": [
    "# Load data"
   ]
  },
  {
   "cell_type": "code",
   "execution_count": 6,
   "id": "210d7dcc-b7ae-4f06-8429-84177bec47d3",
   "metadata": {},
   "outputs": [],
   "source": [
    "DATA_DIR = r\"../../data/transverse_cluster_200_site_dmrg\""
   ]
  },
  {
   "cell_type": "code",
   "execution_count": 7,
   "id": "52736de2-8178-4035-9861-2f17b8d972fc",
   "metadata": {},
   "outputs": [],
   "source": [
    "f_name = DATA_DIR + r\"/0_90.h5\""
   ]
  },
  {
   "cell_type": "code",
   "execution_count": 8,
   "id": "294bd63f-24bb-46d4-9716-76d74e82b013",
   "metadata": {},
   "outputs": [
    {
     "data": {
      "text/plain": [
       "'../../data/transverse_cluster_200_site_dmrg/0_90.h5'"
      ]
     },
     "execution_count": 8,
     "metadata": {},
     "output_type": "execute_result"
    }
   ],
   "source": [
    "f_name"
   ]
  },
  {
   "cell_type": "code",
   "execution_count": 9,
   "id": "68e653fc-625c-4010-ac8e-f7740131b8cc",
   "metadata": {},
   "outputs": [],
   "source": [
    "with h5py.File(f_name, 'r') as f:\n",
    "    data = hdf5_io.load_from_hdf5(f)\n",
    "    test_psi = data['wavefunction']"
   ]
  },
  {
   "cell_type": "markdown",
   "id": "b4c1e616-c034-404b-b59e-196d1eaac475",
   "metadata": {},
   "source": [
    "# Definitons"
   ]
  },
  {
   "cell_type": "code",
   "execution_count": 10,
   "id": "c4de478c-a1d2-48a5-95e9-a1258f861404",
   "metadata": {},
   "outputs": [],
   "source": [
    "NUM_SITES=5\n",
    "BOND_DIMENSION=4\n",
    "PHYSICAL_DIMENSION=2\n",
    "LEARNING_RATE = 0.01"
   ]
  },
  {
   "cell_type": "code",
   "execution_count": 11,
   "id": "ac918d29-c8fa-4e25-ae73-e0880586fa57",
   "metadata": {},
   "outputs": [],
   "source": [
    "total_dimension = PHYSICAL_DIMENSION**NUM_SITES"
   ]
  },
  {
   "cell_type": "code",
   "execution_count": 12,
   "id": "6bac53fa-b629-46fc-a145-f932a0af6f18",
   "metadata": {},
   "outputs": [],
   "source": [
    "left_trivial_leg_charge = tenpy.linalg.charges.LegCharge(\n",
    "    tenpy.linalg.charges.ChargeInfo([], []),\n",
    "    [0,1],\n",
    "    [[]],\n",
    "    qconj=1\n",
    ")"
   ]
  },
  {
   "cell_type": "code",
   "execution_count": 13,
   "id": "44f34cb7-0888-474b-9483-f4956951fc31",
   "metadata": {},
   "outputs": [],
   "source": [
    "right_trivial_leg_charge = tenpy.linalg.charges.LegCharge(\n",
    "    tenpy.linalg.charges.ChargeInfo([], []),\n",
    "    [0,1],\n",
    "    [[]],\n",
    "    qconj=-1\n",
    ")"
   ]
  },
  {
   "cell_type": "code",
   "execution_count": 14,
   "id": "bbfc7cb3-f7f4-497d-9d09-25e27c479373",
   "metadata": {},
   "outputs": [],
   "source": [
    "def generate_random_w_tensor(dims):\n",
    "    x1 = np.random.rand(*dims)\n",
    "    x2 = 1j*np.random.rand(*dims)\n",
    "\n",
    "    return x1 + x2"
   ]
  },
  {
   "cell_type": "code",
   "execution_count": 15,
   "id": "cebfa38b-4fee-47eb-b71b-2916dba33f3e",
   "metadata": {},
   "outputs": [],
   "source": [
    "edge_dims = [PHYSICAL_DIMENSION,]*2 + [BOND_DIMENSION,]\n",
    "inner_dims = edge_dims + [BOND_DIMENSION,]"
   ]
  },
  {
   "cell_type": "code",
   "execution_count": 16,
   "id": "e9a4f858-bbae-4363-8c6d-cd02428b71eb",
   "metadata": {},
   "outputs": [],
   "source": [
    "w = generate_random_w_tensor(edge_dims)"
   ]
  },
  {
   "cell_type": "code",
   "execution_count": 17,
   "id": "2170f972-2a70-451a-b4e6-706c3f7dddbc",
   "metadata": {},
   "outputs": [],
   "source": [
    "w_tensor = npc.Array.from_ndarray_trivial(w, labels=['p', 'p*', 'vR'])"
   ]
  },
  {
   "cell_type": "code",
   "execution_count": 18,
   "id": "9d73d611-8153-42aa-8eed-177cf592bab2",
   "metadata": {},
   "outputs": [
    {
     "data": {
      "text/plain": [
       "<npc.Array shape=(2, 2, 4) labels=['p', 'p*', 'vR']>"
      ]
     },
     "execution_count": 18,
     "metadata": {},
     "output_type": "execute_result"
    }
   ],
   "source": [
    "w_tensor"
   ]
  },
  {
   "cell_type": "code",
   "execution_count": 19,
   "id": "90b199ce-741b-4bb9-bf36-6a6a0a3d3ea9",
   "metadata": {},
   "outputs": [],
   "source": [
    "w_tensors = [w_tensor,]"
   ]
  },
  {
   "cell_type": "code",
   "execution_count": 20,
   "id": "d7a7aaec-8063-49f9-b226-b4cc9aee6feb",
   "metadata": {},
   "outputs": [],
   "source": [
    "for _ in range(NUM_SITES-2):\n",
    "    w = generate_random_w_tensor(inner_dims)\n",
    "    w_tensor = npc.Array.from_ndarray_trivial(w, labels=['p', 'p*', 'vL', 'vR'])\n",
    "    \n",
    "    w_tensors.append(w_tensor)"
   ]
  },
  {
   "cell_type": "code",
   "execution_count": 21,
   "id": "ea4ac9e4-0753-4186-988c-01006ae36c24",
   "metadata": {},
   "outputs": [],
   "source": [
    "w = generate_random_w_tensor(edge_dims)"
   ]
  },
  {
   "cell_type": "code",
   "execution_count": 22,
   "id": "a1085c68-0fb1-4e2b-a1d5-54757bdc95e3",
   "metadata": {},
   "outputs": [],
   "source": [
    "w_tensor = npc.Array.from_ndarray_trivial(w, labels=['p', 'p*', 'vL'])"
   ]
  },
  {
   "cell_type": "code",
   "execution_count": 23,
   "id": "d7a5faef-2989-4520-9b55-daca27b4415d",
   "metadata": {},
   "outputs": [
    {
     "data": {
      "text/plain": [
       "<npc.Array shape=(2, 2, 4) labels=['p', 'p*', 'vL']>"
      ]
     },
     "execution_count": 23,
     "metadata": {},
     "output_type": "execute_result"
    }
   ],
   "source": [
    "w_tensor"
   ]
  },
  {
   "cell_type": "code",
   "execution_count": 24,
   "id": "8fa97083-a334-402e-9cb7-0552b356289b",
   "metadata": {},
   "outputs": [],
   "source": [
    "w_tensors.append(w_tensor)"
   ]
  },
  {
   "cell_type": "code",
   "execution_count": 25,
   "id": "53487878-218d-40a0-b336-02d38e074c33",
   "metadata": {},
   "outputs": [
    {
     "data": {
      "text/plain": [
       "[<npc.Array shape=(2, 2, 4) labels=['p', 'p*', 'vR']>,\n",
       " <npc.Array shape=(2, 2, 4, 4) labels=['p', 'p*', 'vL', 'vR']>,\n",
       " <npc.Array shape=(2, 2, 4, 4) labels=['p', 'p*', 'vL', 'vR']>,\n",
       " <npc.Array shape=(2, 2, 4, 4) labels=['p', 'p*', 'vL', 'vR']>,\n",
       " <npc.Array shape=(2, 2, 4) labels=['p', 'p*', 'vL']>]"
      ]
     },
     "execution_count": 25,
     "metadata": {},
     "output_type": "execute_result"
    }
   ],
   "source": [
    "w_tensors"
   ]
  },
  {
   "cell_type": "markdown",
   "id": "5ee06cdc-8577-460b-82cb-2110e47c931a",
   "metadata": {},
   "source": [
    "## Functions"
   ]
  },
  {
   "cell_type": "code",
   "execution_count": 26,
   "id": "f7500fa8-a1c6-45bf-949b-53a7526a5be9",
   "metadata": {},
   "outputs": [],
   "source": [
    "def get_physical_dim(tensor, p_label='p'):\n",
    "    index = tensor.get_leg_index(p_label)\n",
    "    dim = tensor.shape[index]\n",
    "    return dim"
   ]
  },
  {
   "cell_type": "code",
   "execution_count": 27,
   "id": "ba98ff84-8c5c-4f71-aa88-abbe2b839bff",
   "metadata": {},
   "outputs": [],
   "source": [
    "def mpo_frobenius_inner_product(mpo1_tensors, mpo2_tensors=None):\n",
    "    if mpo2_tensors is None:\n",
    "        mpo2_tensors = mpo1_tensors\n",
    "\n",
    "    w1 = mpo1_tensors[0]\n",
    "    dim = get_physical_dim(w1, p_label='p')\n",
    "    w2 = mpo2_tensors[0]\n",
    "\n",
    "    t = npc.tensordot(w1, w2.conj(), [['p', 'p*'], ['p*', 'p']])\n",
    "    #t /= dim\n",
    "\n",
    "    for w1, w2 in zip(mpo1_tensors[1:], mpo2_tensors[1:]):\n",
    "        dim = get_physical_dim(w1, p_label='p')\n",
    "\n",
    "        t = npc.tensordot(t, w1, [['vR', ], ['vL']])\n",
    "        t = npc.tensordot(t, w2.conj(), [['vR*', 'p', 'p*'], ['vL*', 'p*', 'p']])\n",
    "        #t /= dim\n",
    "\n",
    "    return t"
   ]
  },
  {
   "cell_type": "code",
   "execution_count": 28,
   "id": "2e202c02-6390-49eb-9b99-32147572b6fa",
   "metadata": {},
   "outputs": [],
   "source": [
    "def order_two_right_tensors(w_tensors):\n",
    "    out = list()\n",
    "\n",
    "    w = w_tensors[-1]\n",
    "    t = npc.tensordot(w, w.conj(), [['p', 'p*'], ['p*', 'p']])\n",
    "\n",
    "    out.append(t)\n",
    "\n",
    "    for w in w_tensors[-2:0:-1]:\n",
    "        t = npc.tensordot(t, w, [['vL',], ['vR']])\n",
    "        t = npc.tensordot(t, w.conj(), [['vL*', 'p', 'p*'], ['vR*', 'p*', 'p']])\n",
    "\n",
    "        out.append(t)\n",
    "\n",
    "    return out[::-1]"
   ]
  },
  {
   "cell_type": "code",
   "execution_count": 29,
   "id": "e12a7b85-584a-4b5c-8c12-039cc8752ca8",
   "metadata": {},
   "outputs": [],
   "source": [
    "def order_four_right_tensors(w_tensors):\n",
    "    out = list()\n",
    "\n",
    "    w = w_tensors[-1]\n",
    "    t = npc.tensordot(w, w.conj(), [['p',], ['p*',]])\n",
    "    t.ireplace_labels(['vL', 'vL*'], ['vL1', 'vL1*'])\n",
    "    t = npc.tensordot(t, w, [['p',], ['p*',]])\n",
    "    t = npc.tensordot(t, w.conj(), [['p', 'p*'], ['p*', 'p']])\n",
    "    \n",
    "    out.append(t)\n",
    "\n",
    "    for w in w_tensors[-2:0:-1]:\n",
    "        t = npc.tensordot(t, w, [['vL',], ['vR',]])\n",
    "        t = npc.tensordot(t, w.conj(), [['vL*', 'p'], ['vR*', 'p*']])\n",
    "\n",
    "        w = w.replace_label('vL', 'vL1')\n",
    "    \n",
    "        t = npc.tensordot(t, w, [['vL1', 'p',], ['vR', 'p*']])\n",
    "        t = npc.tensordot(t, w.conj(), [['vL1*', 'p', 'p*'], ['vR*', 'p*', 'p']])\n",
    "\n",
    "        out.append(t)\n",
    "\n",
    "    return out[::-1]"
   ]
  },
  {
   "cell_type": "markdown",
   "id": "dc1f2df3-f7f5-4c46-9a69-fe5e0748b8fe",
   "metadata": {},
   "source": [
    "## Rescale tensor"
   ]
  },
  {
   "cell_type": "code",
   "execution_count": 30,
   "id": "4b4529d9-a987-48aa-bdbf-7a102c2261b1",
   "metadata": {},
   "outputs": [
    {
     "data": {
      "text/plain": [
       "(2729455.2352270307+0j)"
      ]
     },
     "execution_count": 30,
     "metadata": {},
     "output_type": "execute_result"
    }
   ],
   "source": [
    "mpo_frobenius_inner_product(w_tensors)"
   ]
  },
  {
   "cell_type": "code",
   "execution_count": 31,
   "id": "791e9251-36a0-43dd-80a1-b7f4249f6cbb",
   "metadata": {},
   "outputs": [],
   "source": [
    "scale_factor = np.power(\n",
    "    mpo_frobenius_inner_product(w_tensors).real,\n",
    "    -1/(2*NUM_SITES)\n",
    ")"
   ]
  },
  {
   "cell_type": "code",
   "execution_count": 32,
   "id": "d8d5826f-6703-43bd-a535-123c7595fadf",
   "metadata": {},
   "outputs": [
    {
     "data": {
      "text/plain": [
       "0.2271916692203614"
      ]
     },
     "execution_count": 32,
     "metadata": {},
     "output_type": "execute_result"
    }
   ],
   "source": [
    "scale_factor"
   ]
  },
  {
   "cell_type": "code",
   "execution_count": 33,
   "id": "3b804f8c-1f14-4959-bb49-802b8c8a1ece",
   "metadata": {},
   "outputs": [],
   "source": [
    "for w in w_tensors:\n",
    "    w *= scale_factor"
   ]
  },
  {
   "cell_type": "code",
   "execution_count": 34,
   "id": "3be1993a-f088-4feb-b841-063ac6a15193",
   "metadata": {},
   "outputs": [
    {
     "data": {
      "text/plain": [
       "(0.9999999999999987+2.7755575615628914e-17j)"
      ]
     },
     "execution_count": 34,
     "metadata": {},
     "output_type": "execute_result"
    }
   ],
   "source": [
    "mpo_frobenius_inner_product(w_tensors)"
   ]
  },
  {
   "cell_type": "markdown",
   "id": "c2919303-4883-4327-9b56-743be48ebb53",
   "metadata": {},
   "source": [
    "## Sweep function"
   ]
  },
  {
   "cell_type": "code",
   "execution_count": 35,
   "id": "94c08580-6ab0-4501-8e41-1517ea118eb5",
   "metadata": {},
   "outputs": [],
   "source": [
    "def mpo_tensor_raw_to_gradient(raw_mpo_tensor, gradient_target_tensor):\n",
    "    leg_labels = raw_mpo_tensor.get_leg_labels()\n",
    "\n",
    "    old_new_leg_label_pairs = [\n",
    "        ('vL*', 'vR'),\n",
    "        ('vR*', 'vL'),\n",
    "        ('vL1*', 'vR'),\n",
    "        ('vR1*', 'vL'),\n",
    "    ]\n",
    "\n",
    "    for old, new in old_new_leg_label_pairs:\n",
    "        if old in leg_labels:\n",
    "            raw_mpo_tensor.ireplace_label(old, new)\n",
    "\n",
    "    out = npc.Array.from_ndarray_trivial(\n",
    "        raw_mpo_tensor.to_ndarray(),\n",
    "        labels=raw_mpo_tensor.get_leg_labels()\n",
    "    )\n",
    "\n",
    "    out.itranspose(gradient_target_tensor.get_leg_labels())\n",
    "\n",
    "    return out"
   ]
  },
  {
   "cell_type": "code",
   "execution_count": 36,
   "id": "aa8f1c2b-a2fe-4851-b802-2418f619ce7e",
   "metadata": {},
   "outputs": [],
   "source": [
    "def update_mpo_score(raw_gradient_mpo_tensor, gradient_target_tensor,\n",
    "                     score_list,\n",
    "                     virtual_legs=[['vL*', 'vR*',], ['vR*', 'vL*',]]):\n",
    "    raw_legs, target_legs = virtual_legs\n",
    "\n",
    "    score = npc.tensordot(\n",
    "        raw_gradient_mpo_tensor,\n",
    "        gradient_target_tensor.conj(),\n",
    "        [['p', 'p*', *raw_legs], ['p*', 'p', *target_legs]]\n",
    "    )\n",
    "\n",
    "    score_list.append(score.real)"
   ]
  },
  {
   "cell_type": "code",
   "execution_count": 37,
   "id": "a43dd037-4a26-4389-8c27-f1613761472c",
   "metadata": {},
   "outputs": [],
   "source": [
    "def unitary_mpo_gradient_descent_sweep(mpo_tensors, learning_rate):\n",
    "    # Initialise variables\n",
    "    right_two_tensors = order_two_right_tensors(mpo_tensors)\n",
    "    right_four_tensors = order_four_right_tensors(mpo_tensors)\n",
    "\n",
    "    left_two_tensors = list()\n",
    "    left_four_tensors = list()\n",
    "\n",
    "    order_two_scores = list()\n",
    "    order_four_scores = list()\n",
    "\n",
    "    num_sites = len(mpo_tensors)\n",
    "\n",
    "    # Leftmost site\n",
    "    w = mpo_tensors[0]\n",
    "    t = right_two_tensors[0]\n",
    "\n",
    "    # Second order terms\n",
    "    grad_2 = npc.tensordot(t, w, [['vL'], ['vR',]])\n",
    "\n",
    "    update_mpo_score(grad_2, w, order_two_scores, [['vL*',], ['vR*',]])\n",
    "\n",
    "    grad_2 = mpo_tensor_raw_to_gradient(grad_2, w)\n",
    "\n",
    "    # Fourth order terms\n",
    "    t = right_four_tensors[0]\n",
    "\n",
    "    grad_4 = npc.tensordot(t, w, [['vL'], ['vR',]])\n",
    "    grad_4 = npc.tensordot(grad_4, w.conj(), [['vL*', 'p'], ['vR*', 'p*']])\n",
    "    grad_4 = npc.tensordot(grad_4, w, [['vL1', 'p'], ['vR', 'p*']])\n",
    "\n",
    "    update_mpo_score(grad_4, w, order_four_scores, [['vL1*',], ['vR*',]])\n",
    "\n",
    "    grad_4 = mpo_tensor_raw_to_gradient(grad_4, w)\n",
    "\n",
    "    # Update tensor\n",
    "    mpo_tensors[0] = w + learning_rate*(grad_2 - grad_4)\n",
    "\n",
    "    # Create and save left tensors\n",
    "    w = mpo_tensors[0]\n",
    "\n",
    "    t = npc.tensordot(w, w.conj(), [['p', 'p*'], ['p*', 'p']])\n",
    "    left_two_tensors.append(t)\n",
    "    \n",
    "    t = npc.tensordot(w, w.conj(), [['p',], ['p*',]])\n",
    "    t.ireplace_labels(['vR', 'vR*'], ['vR1', 'vR1*'])\n",
    "    t = npc.tensordot(t, w, [['p',], ['p*',]])\n",
    "    t = npc.tensordot(t, w.conj(), [['p', 'p*'], ['p*', 'p']])\n",
    "    \n",
    "    left_four_tensors.append(t)\n",
    "\n",
    "    # Inner sites\n",
    "    for i in range(1, num_sites-1):\n",
    "        w=mpo_tensors[i]\n",
    "        right_two_tensor = right_two_tensors[i]\n",
    "        right_four_tensor = right_four_tensors[i]\n",
    "\n",
    "        # Order two terms\n",
    "        left_two_tensor = left_two_tensors[-1]\n",
    "\n",
    "        grad_2 = npc.tensordot(right_two_tensor, w, [['vL'], ['vR',]])\n",
    "        grad_2 = npc.tensordot(grad_2, left_two_tensor, [['vL'], ['vR',]])\n",
    "\n",
    "        update_mpo_score(grad_2, w, order_two_scores)\n",
    "        grad_2 = mpo_tensor_raw_to_gradient(grad_2, w)\n",
    "\n",
    "        # Order four terms\n",
    "        left_four_tensor = left_four_tensors[-1]\n",
    "\n",
    "        grad_4 = npc.tensordot(right_four_tensor, w, [['vL'], ['vR',]])\n",
    "        grad_4 = npc.tensordot(grad_4, w.conj(), [['vL*', 'p'], ['vR*', 'p*']])\n",
    "        grad_4 = npc.tensordot(\n",
    "            grad_4,\n",
    "            w.replace_label('vL', 'vL1'),\n",
    "            [['vL1', 'p'], ['vR', 'p*']]\n",
    "        )\n",
    "        \n",
    "        grad_4 = npc.tensordot(\n",
    "            grad_4,\n",
    "            left_four_tensor,\n",
    "            [['vL', 'vL*', 'vL1'], ['vR', 'vR*', 'vR1']]\n",
    "        )\n",
    "\n",
    "        update_mpo_score(grad_4, w, order_four_scores, [['vL1*', 'vR1*',], ['vR*', 'vL*',]])\n",
    "        grad_4 = mpo_tensor_raw_to_gradient(grad_4, w)\n",
    "\n",
    "        mpo_tensors[i] = w + learning_rate*(grad_2 - grad_4)\n",
    "\n",
    "        w = mpo_tensors[i]\n",
    "\n",
    "        # Update left tensors\n",
    "        t = npc.tensordot(left_two_tensor, w, [['vR',], ['vL']])\n",
    "        t = npc.tensordot(\n",
    "            t,\n",
    "            w.conj(),\n",
    "            [['vR*', 'p', 'p*'], ['vL*', 'p*', 'p']]\n",
    "        )\n",
    "        \n",
    "        left_two_tensors.append(t)\n",
    "        \n",
    "        t = npc.tensordot(left_four_tensor, w, [['vR',], ['vL']])\n",
    "        t = npc.tensordot(t, w.conj(), [['vR*', 'p'], ['vL*', 'p*']])\n",
    "        t = npc.tensordot(\n",
    "            t,\n",
    "            w.replace_label('vR', 'vR1'),\n",
    "            [['p', 'vR1'], ['p*', 'vL']]\n",
    "        )\n",
    "        t = npc.tensordot(\n",
    "            t,\n",
    "            w.conj().replace_label('vR*', 'vR1*'),\n",
    "            [['p', 'p*', 'vR1*'], ['p*', 'p', 'vL*']]\n",
    "        )\n",
    "        \n",
    "        left_four_tensors.append(t)\n",
    "\n",
    "    # Last site\n",
    "    left_two_tensor = left_two_tensors[-1]\n",
    "    w = mpo_tensors[-1]\n",
    "    \n",
    "    grad_2 = npc.tensordot(left_two_tensor, w, [['vR'], ['vL',]])\n",
    "    \n",
    "    update_mpo_score(grad_2, w, order_two_scores, [['vR*',], ['vL*',]])\n",
    "    grad_2 = mpo_tensor_raw_to_gradient(grad_2, w)\n",
    "\n",
    "    left_four_tensor = left_four_tensors[-1]\n",
    "    \n",
    "    grad_4 = npc.tensordot(left_four_tensor, w, [['vR'], ['vL',]])\n",
    "    grad_4 = npc.tensordot(grad_4, w.conj(), [['vR*', 'p'], ['vL*', 'p*']])\n",
    "    grad_4 = npc.tensordot(grad_4, w, [['vR1', 'p'], ['vL', 'p*']])\n",
    "    \n",
    "    update_mpo_score(grad_4, w, order_four_scores, [['vR1*',], ['vL*',]])\n",
    "    grad_4 = mpo_tensor_raw_to_gradient(grad_4, w)\n",
    "\n",
    "    mpo_tensors[-1] = w + learning_rate*(grad_2 - grad_4)\n",
    "\n",
    "    return (order_two_scores, order_four_scores)"
   ]
  },
  {
   "cell_type": "code",
   "execution_count": 38,
   "id": "1a8b9251-44db-4ef2-80ad-db74402a94b4",
   "metadata": {},
   "outputs": [],
   "source": [
    "def unitarity_error_from_subscores(order_two_score, order_four_score, dimension):\n",
    "    return order_four_score - 2*order_two_score + dimension"
   ]
  },
  {
   "cell_type": "code",
   "execution_count": 39,
   "id": "b2ddc829-2e4b-4aa9-9711-b76244621c37",
   "metadata": {},
   "outputs": [],
   "source": [
    "def unitarity_errors_from_subscores(order_two_scores, order_four_scores,\n",
    "                                    dimension):\n",
    "    out = [\n",
    "        unitarity_error_from_subscores(o2, o4, dimension)\n",
    "        for o2, o4 in zip(order_two_scores, order_four_scores)\n",
    "    ]\n",
    "    \n",
    "    return out"
   ]
  },
  {
   "cell_type": "markdown",
   "id": "a06ef491-bc54-418d-94fd-dc5704401c6e",
   "metadata": {},
   "source": [
    "# Analysis"
   ]
  },
  {
   "cell_type": "markdown",
   "id": "0665963c-80b8-4551-9426-980f5b6c08b5",
   "metadata": {},
   "source": [
    "## Learning rates"
   ]
  },
  {
   "cell_type": "markdown",
   "id": "82dc65da-c61f-45c9-b2ef-1b4f9fccab67",
   "metadata": {},
   "source": [
    "### Initialize tensors"
   ]
  },
  {
   "cell_type": "code",
   "execution_count": 40,
   "id": "dc93cf9f-a085-4aa5-b17d-d33b8cad5fcc",
   "metadata": {},
   "outputs": [],
   "source": [
    "w = generate_random_w_tensor(edge_dims)"
   ]
  },
  {
   "cell_type": "code",
   "execution_count": 41,
   "id": "ffdc12b4-2fbe-497c-885d-f36a4730fcc9",
   "metadata": {},
   "outputs": [],
   "source": [
    "w_tensor = npc.Array.from_ndarray_trivial(w, labels=['p', 'p*', 'vR'])"
   ]
  },
  {
   "cell_type": "code",
   "execution_count": 42,
   "id": "661ccd56-ca24-4288-b451-7ef6cf406e51",
   "metadata": {},
   "outputs": [
    {
     "data": {
      "text/plain": [
       "<npc.Array shape=(2, 2, 4) labels=['p', 'p*', 'vR']>"
      ]
     },
     "execution_count": 42,
     "metadata": {},
     "output_type": "execute_result"
    }
   ],
   "source": [
    "w_tensor"
   ]
  },
  {
   "cell_type": "code",
   "execution_count": 43,
   "id": "f009d802-3126-4fbb-83de-4ef40c5d616c",
   "metadata": {},
   "outputs": [],
   "source": [
    "w_tensors = [w_tensor,]"
   ]
  },
  {
   "cell_type": "code",
   "execution_count": 44,
   "id": "1526cdde-1e47-4be0-9ddb-93ad7e8706ad",
   "metadata": {},
   "outputs": [],
   "source": [
    "for _ in range(NUM_SITES-2):\n",
    "    w = generate_random_w_tensor(inner_dims)\n",
    "    w_tensor = npc.Array.from_ndarray_trivial(w, labels=['p', 'p*', 'vL', 'vR'])\n",
    "    \n",
    "    w_tensors.append(w_tensor)"
   ]
  },
  {
   "cell_type": "code",
   "execution_count": 45,
   "id": "9c0c224b-23dc-4c5d-a8ba-2359cf7bfda3",
   "metadata": {},
   "outputs": [],
   "source": [
    "w = generate_random_w_tensor(edge_dims)"
   ]
  },
  {
   "cell_type": "code",
   "execution_count": 46,
   "id": "bc454d4b-588e-4048-8d53-cf7ca083562c",
   "metadata": {},
   "outputs": [],
   "source": [
    "w_tensor = npc.Array.from_ndarray_trivial(w, labels=['p', 'p*', 'vL'])"
   ]
  },
  {
   "cell_type": "code",
   "execution_count": 47,
   "id": "5edf4610-5f82-42c9-932c-e188a2ddea3f",
   "metadata": {},
   "outputs": [
    {
     "data": {
      "text/plain": [
       "<npc.Array shape=(2, 2, 4) labels=['p', 'p*', 'vL']>"
      ]
     },
     "execution_count": 47,
     "metadata": {},
     "output_type": "execute_result"
    }
   ],
   "source": [
    "w_tensor"
   ]
  },
  {
   "cell_type": "code",
   "execution_count": 48,
   "id": "4d826428-373b-48f4-98e5-bdb890d8e512",
   "metadata": {},
   "outputs": [],
   "source": [
    "w_tensors.append(w_tensor)"
   ]
  },
  {
   "cell_type": "code",
   "execution_count": 49,
   "id": "08b7ed50-5463-4e2e-898b-99084bff06d0",
   "metadata": {},
   "outputs": [
    {
     "data": {
      "text/plain": [
       "[<npc.Array shape=(2, 2, 4) labels=['p', 'p*', 'vR']>,\n",
       " <npc.Array shape=(2, 2, 4, 4) labels=['p', 'p*', 'vL', 'vR']>,\n",
       " <npc.Array shape=(2, 2, 4, 4) labels=['p', 'p*', 'vL', 'vR']>,\n",
       " <npc.Array shape=(2, 2, 4, 4) labels=['p', 'p*', 'vL', 'vR']>,\n",
       " <npc.Array shape=(2, 2, 4) labels=['p', 'p*', 'vL']>]"
      ]
     },
     "execution_count": 49,
     "metadata": {},
     "output_type": "execute_result"
    }
   ],
   "source": [
    "w_tensors"
   ]
  },
  {
   "cell_type": "code",
   "execution_count": 50,
   "id": "57575800-eb8d-4b54-a3f3-c214d86aa1a9",
   "metadata": {},
   "outputs": [
    {
     "data": {
      "text/plain": [
       "(1799127.092464555+5.820766091346741e-11j)"
      ]
     },
     "execution_count": 50,
     "metadata": {},
     "output_type": "execute_result"
    }
   ],
   "source": [
    "mpo_frobenius_inner_product(w_tensors)"
   ]
  },
  {
   "cell_type": "code",
   "execution_count": 51,
   "id": "27ca799e-9eda-471c-bc31-37b423bf278c",
   "metadata": {},
   "outputs": [],
   "source": [
    "scale_factor = np.power(\n",
    "    mpo_frobenius_inner_product(w_tensors).real,\n",
    "    -1/(2*NUM_SITES)\n",
    ")"
   ]
  },
  {
   "cell_type": "code",
   "execution_count": 52,
   "id": "7ca692d8-5b54-4260-af2f-7a6509439843",
   "metadata": {},
   "outputs": [
    {
     "data": {
      "text/plain": [
       "0.2368611402533671"
      ]
     },
     "execution_count": 52,
     "metadata": {},
     "output_type": "execute_result"
    }
   ],
   "source": [
    "scale_factor"
   ]
  },
  {
   "cell_type": "code",
   "execution_count": 53,
   "id": "ed1c67d8-bf2b-46c2-abe6-16f8e65a263b",
   "metadata": {},
   "outputs": [],
   "source": [
    "for w in w_tensors:\n",
    "    w *= scale_factor"
   ]
  },
  {
   "cell_type": "code",
   "execution_count": 54,
   "id": "94977baf-014d-4581-8f85-f2d0b9d660ba",
   "metadata": {},
   "outputs": [
    {
     "data": {
      "text/plain": [
       "(0.9999999999999996-2.7755575615628914e-17j)"
      ]
     },
     "execution_count": 54,
     "metadata": {},
     "output_type": "execute_result"
    }
   ],
   "source": [
    "mpo_frobenius_inner_product(w_tensors)"
   ]
  },
  {
   "cell_type": "markdown",
   "id": "d869349d-9f60-4f00-aed6-afe93b6d893c",
   "metadata": {},
   "source": [
    "### Gradient descent"
   ]
  },
  {
   "cell_type": "code",
   "execution_count": 55,
   "id": "231d5d89-b9b5-4018-9d9a-3e80d364f0b8",
   "metadata": {},
   "outputs": [],
   "source": [
    "learning_rates = [0.01, 0.02, 0.03, 0.04, 0.05, 0.06, 0.07, 0.08, 0.09, 0.1]\n",
    "num_iterations = 500\n",
    "unitarity_errors = list()"
   ]
  },
  {
   "cell_type": "code",
   "execution_count": 56,
   "id": "2270c095-930c-4988-8f62-b4f275078e1e",
   "metadata": {},
   "outputs": [],
   "source": [
    "for lr in learning_rates:\n",
    "    w_tensors_current = [w.copy() for w in w_tensors]\n",
    "    unitarity_errors.append(list())\n",
    "\n",
    "    for _ in range(num_iterations):\n",
    "        o2, o4 = unitary_mpo_gradient_descent_sweep(w_tensors_current, lr)\n",
    "\n",
    "        unitarity_errors[-1].append(\n",
    "            unitarity_errors_from_subscores(o2, o4, total_dimension)\n",
    "        )"
   ]
  },
  {
   "cell_type": "code",
   "execution_count": 57,
   "id": "a3888c8b-b819-4eff-881a-80564135121f",
   "metadata": {},
   "outputs": [],
   "source": [
    "flattened_errors = np.array(unitarity_errors).reshape(len(learning_rates), -1)"
   ]
  },
  {
   "cell_type": "code",
   "execution_count": 58,
   "id": "d17fe012-fcdc-47af-a59a-d48b492c8e62",
   "metadata": {},
   "outputs": [
    {
     "data": {
      "text/plain": [
       "(10, 2500)"
      ]
     },
     "execution_count": 58,
     "metadata": {},
     "output_type": "execute_result"
    }
   ],
   "source": [
    "flattened_errors.shape"
   ]
  },
  {
   "cell_type": "code",
   "execution_count": 59,
   "id": "9ca247ae-4ca4-466f-b97f-72c4fddd00c2",
   "metadata": {},
   "outputs": [
    {
     "name": "stderr",
     "output_type": "stream",
     "text": [
      "/var/folders/r3/xn8xq5c17932m2g1b4r3dss80000gn/T/ipykernel_21706/3134303450.py:9: UserWarning: FigureCanvasAgg is non-interactive, and thus cannot be shown\n",
      "  fig.show()\n"
     ]
    },
    {
     "data": {
      "image/png": "[encoded data removed]",
      "text/plain": [
       "<Figure size 600x400 with 1 Axes>"
      ]
     },
     "metadata": {},
     "output_type": "display_data"
    }
   ],
   "source": [
    "fig, ax = plt.subplots(figsize=(6,4))\n",
    "\n",
    "for i in range(5):\n",
    "    ax.plot(flattened_errors[i], label=learning_rates[i])\n",
    "\n",
    "ax.set_yscale('log')\n",
    "ax.legend()\n",
    "\n",
    "fig.show()"
   ]
  },
  {
   "cell_type": "markdown",
   "id": "008b47f0-acb9-4374-9eb7-8744d7e71f80",
   "metadata": {},
   "source": [
    "# Conclusions\n",
    "* It works!\n",
    "* Will need to tune learning rate case by case, not as straight forward as non-mpo case.\n",
    "    * Extra analysis could be useful to figure out the optimal learning rate with respect to bond dimension and number of sites, etc.\n",
    "* Initialization of the mpos is important to prevent divergence."
   ]
  },
  {
   "cell_type": "code",
   "execution_count": null,
   "id": "02aab3ea-1283-4886-89a0-33db32b8e46c",
   "metadata": {},
   "outputs": [],
   "source": []
  }
 ],
 "metadata": {
  "kernelspec": {
   "display_name": "num_spt_venv_p11",
   "language": "python",
   "name": "num_spt_venv_p11"
  },
  "language_info": {
   "codemirror_mode": {
    "name": "ipython",
    "version": 3
   },
   "file_extension": ".py",
   "mimetype": "text/x-python",
   "name": "python",
   "nbconvert_exporter": "python",
   "pygments_lexer": "ipython3",
   "version": "3.11.9"
  }
 },
 "nbformat": 4,
 "nbformat_minor": 5
}
