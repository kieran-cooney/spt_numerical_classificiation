{
 "cells": [
  {
   "cell_type": "markdown",
   "id": "9603afff-5204-44c1-92a2-6c7e09ad20f6",
   "metadata": {},
   "source": [
    "# Hyperbolic unitary overlap cost function ADAM gradient descent on MPO - SPT extraction\n",
    "\n",
    "Created 13/11/2024\n",
    "\n",
    "Objectives:\n",
    "* Apply ADAM gradient descent algorithm to an MPO and extract SPT phase."
   ]
  },
  {
   "cell_type": "markdown",
   "id": "9ad0db4d-805c-4403-9d48-c71d523d572f",
   "metadata": {},
   "source": [
    "# Package imports"
   ]
  },
  {
   "cell_type": "code",
   "execution_count": 1,
   "id": "ecb41ea3-927f-4efa-aebe-ce15784aa037",
   "metadata": {},
   "outputs": [],
   "source": [
    "import sys"
   ]
  },
  {
   "cell_type": "code",
   "execution_count": 2,
   "id": "0375bd38-12e1-417a-908a-13fb540081f5",
   "metadata": {},
   "outputs": [],
   "source": [
    "sys.path.append(\"../../\")"
   ]
  },
  {
   "cell_type": "code",
   "execution_count": 3,
   "id": "4a525ec6-f0c8-47ee-8b0b-345bf0ef8bd3",
   "metadata": {},
   "outputs": [],
   "source": [
    "import h5py\n",
    "from tenpy.tools import hdf5_io\n",
    "import tenpy\n",
    "import tenpy.linalg.np_conserved as npc\n",
    "\n",
    "import os"
   ]
  },
  {
   "cell_type": "code",
   "execution_count": 4,
   "id": "b22092ac-9191-4a2d-b568-8680c3687185",
   "metadata": {},
   "outputs": [],
   "source": [
    "from functools import reduce"
   ]
  },
  {
   "cell_type": "code",
   "execution_count": 5,
   "id": "214f688a-c657-4810-b4d1-b1247deff62c",
   "metadata": {},
   "outputs": [],
   "source": [
    "import numpy as np\n",
    "import pandas as pd\n",
    "\n",
    "rng = np.random.default_rng()\n",
    "import matplotlib.pyplot as plt"
   ]
  },
  {
   "cell_type": "code",
   "execution_count": 6,
   "id": "b7461fe3-41a3-492f-b018-8e32e27a7300",
   "metadata": {},
   "outputs": [],
   "source": [
    "import re"
   ]
  },
  {
   "cell_type": "code",
   "execution_count": 7,
   "id": "aeb48fbe-9ee7-4f88-9a91-b52643b95a4f",
   "metadata": {},
   "outputs": [],
   "source": [
    "from SPTOptimization.utils import (\n",
    "    get_right_identity_environment_from_tp_tensor,\n",
    "    to_npc_array\n",
    ")\n",
    "\n",
    "from SPTOptimization.SymmetryActionWithBoundaryUnitaries import SymmetryActionWithBoundaryUnitaries"
   ]
  },
  {
   "cell_type": "markdown",
   "id": "c69a8a47-e298-4c4c-97f7-a6157da4e15f",
   "metadata": {},
   "source": [
    "# Load data"
   ]
  },
  {
   "cell_type": "code",
   "execution_count": 8,
   "id": "c196fe74-d78a-4205-a41a-acfa510831d1",
   "metadata": {},
   "outputs": [],
   "source": [
    "DATA_DIR = r\"../../data/transverse_cluster_200_site_dmrg\""
   ]
  },
  {
   "cell_type": "code",
   "execution_count": 9,
   "id": "e1a89621-91df-4f40-adef-f16acbdea3e9",
   "metadata": {},
   "outputs": [],
   "source": [
    "loaded_data = list()\n",
    "\n",
    "for local_file_name in os.listdir(DATA_DIR):\n",
    "    f_name = r\"{}/{}\".format(DATA_DIR, local_file_name, ignore_unknown=False)\n",
    "    with h5py.File(f_name, 'r') as f:\n",
    "        data = hdf5_io.load_from_hdf5(f)\n",
    "        loaded_data.append(data)"
   ]
  },
  {
   "cell_type": "code",
   "execution_count": 10,
   "id": "b805dcff-dfda-4ca4-ba53-c6a3d6822dd4",
   "metadata": {},
   "outputs": [],
   "source": [
    "b_parameters = sorted(list(d['paramters']['B'] for d in loaded_data))"
   ]
  },
  {
   "cell_type": "code",
   "execution_count": 11,
   "id": "827a26d6-a667-4828-bf55-db731e15d89d",
   "metadata": {},
   "outputs": [],
   "source": [
    "psi_dict = dict()"
   ]
  },
  {
   "cell_type": "code",
   "execution_count": 12,
   "id": "e0e8c819-03d8-4a47-b853-365d65364ac7",
   "metadata": {},
   "outputs": [],
   "source": [
    "for b in b_parameters:\n",
    "    psi = next(\n",
    "        d['wavefunction']\n",
    "        for d in loaded_data\n",
    "        if d['paramters']['B'] == b\n",
    "    )\n",
    "\n",
    "    rounded_b = round(b, 1)\n",
    "    psi_dict[rounded_b] = psi"
   ]
  },
  {
   "cell_type": "markdown",
   "id": "b4c1e616-c034-404b-b59e-196d1eaac475",
   "metadata": {},
   "source": [
    "# Definitons"
   ]
  },
  {
   "cell_type": "code",
   "execution_count": 13,
   "id": "62ec5614-6aca-465d-a562-f0f4fb98cac5",
   "metadata": {},
   "outputs": [],
   "source": [
    "np_I = np.array([[1,0],[0,1]])\n",
    "np_X = np.array([[0,1],[1,0]])\n",
    "np_Y = np.array([[0,-1j],[1j,0]])\n",
    "np_Z = np.array([[1,0],[0,-1]])"
   ]
  },
  {
   "cell_type": "code",
   "execution_count": 14,
   "id": "ddc01bac-517f-4922-9df0-28b400f70a3e",
   "metadata": {},
   "outputs": [],
   "source": [
    "symmetry_actions = [\n",
    "    [np_I, np_I],\n",
    "    [np_I, np_X],\n",
    "    [np_X, np_I],\n",
    "    [np_X, np_X]\n",
    "]"
   ]
  },
  {
   "cell_type": "code",
   "execution_count": 15,
   "id": "10721838-5776-4da8-9618-01dd30494f13",
   "metadata": {},
   "outputs": [],
   "source": [
    "symmetry_labels = [\n",
    "    'II',\n",
    "    'IX',\n",
    "    'XI',\n",
    "    'XX'\n",
    "]"
   ]
  },
  {
   "cell_type": "code",
   "execution_count": 16,
   "id": "a706b5a0-860a-4294-8b5b-bdbf9482fe28",
   "metadata": {},
   "outputs": [],
   "source": [
    "cases = [\n",
    "    [\n",
    "        SymmetryActionWithBoundaryUnitaries(\n",
    "            psi,\n",
    "            s*50,\n",
    "            left_boundary_unitaries=[np_I,]*3,\n",
    "            right_boundary_unitaries=[np_I,]*3\n",
    "        )\n",
    "        for s in symmetry_actions\n",
    "    ]\n",
    "    for psi in psi_dict.values()\n",
    "]"
   ]
  },
  {
   "cell_type": "code",
   "execution_count": 17,
   "id": "8e7ff810-32b3-4163-9b1b-ca96a282a7f5",
   "metadata": {},
   "outputs": [],
   "source": [
    "for l in cases:\n",
    "    for c in l:\n",
    "        c.compute_svd_approximate_expectation()"
   ]
  },
  {
   "cell_type": "code",
   "execution_count": 18,
   "id": "6bac53fa-b629-46fc-a145-f932a0af6f18",
   "metadata": {},
   "outputs": [],
   "source": [
    "left_trivial_leg_charge = tenpy.linalg.charges.LegCharge(\n",
    "    tenpy.linalg.charges.ChargeInfo([], []),\n",
    "    [0,1],\n",
    "    [[]],\n",
    "    qconj=1\n",
    ")"
   ]
  },
  {
   "cell_type": "code",
   "execution_count": 19,
   "id": "44f34cb7-0888-474b-9483-f4956951fc31",
   "metadata": {},
   "outputs": [],
   "source": [
    "right_trivial_leg_charge = tenpy.linalg.charges.LegCharge(\n",
    "    tenpy.linalg.charges.ChargeInfo([], []),\n",
    "    [0,1],\n",
    "    [[]],\n",
    "    qconj=-1\n",
    ")"
   ]
  },
  {
   "cell_type": "markdown",
   "id": "5ee06cdc-8577-460b-82cb-2110e47c931a",
   "metadata": {},
   "source": [
    "## Functions"
   ]
  },
  {
   "cell_type": "code",
   "execution_count": 20,
   "id": "f7500fa8-a1c6-45bf-949b-53a7526a5be9",
   "metadata": {},
   "outputs": [],
   "source": [
    "def get_physical_dim(tensor, p_label='p'):\n",
    "    index = tensor.get_leg_index(p_label)\n",
    "    dim = tensor.shape[index]\n",
    "    return dim"
   ]
  },
  {
   "cell_type": "code",
   "execution_count": 21,
   "id": "ba98ff84-8c5c-4f71-aa88-abbe2b839bff",
   "metadata": {},
   "outputs": [],
   "source": [
    "def mpo_frobenius_inner_product(mpo1_tensors, mpo2_tensors=None):\n",
    "    if mpo2_tensors is None:\n",
    "        mpo2_tensors = mpo1_tensors\n",
    "\n",
    "    w1 = mpo1_tensors[0]\n",
    "    dim = get_physical_dim(w1, p_label='p')\n",
    "    w2 = mpo2_tensors[0]\n",
    "\n",
    "    t = npc.tensordot(w1, w2.conj(), [['p', 'p*'], ['p*', 'p']])\n",
    "    #t /= dim\n",
    "\n",
    "    for w1, w2 in zip(mpo1_tensors[1:], mpo2_tensors[1:]):\n",
    "        dim = get_physical_dim(w1, p_label='p')\n",
    "\n",
    "        t = npc.tensordot(t, w1, [['vR', ], ['vL']])\n",
    "        t = npc.tensordot(t, w2.conj(), [['vR*', 'p', 'p*'], ['vL*', 'p*', 'p']])\n",
    "        #t /= dim\n",
    "\n",
    "    return t"
   ]
  },
  {
   "cell_type": "code",
   "execution_count": 22,
   "id": "2e202c02-6390-49eb-9b99-32147572b6fa",
   "metadata": {},
   "outputs": [],
   "source": [
    "def unitary_order_two_right_tensors(w_tensors):\n",
    "    out = list()\n",
    "\n",
    "    w = w_tensors[-1]\n",
    "    t = npc.tensordot(w, w.conj(), [['p', 'p*'], ['p*', 'p']])\n",
    "\n",
    "    out.append(t)\n",
    "\n",
    "    for w in w_tensors[-2:0:-1]:\n",
    "        t = npc.tensordot(t, w, [['vL',], ['vR']])\n",
    "        t = npc.tensordot(t, w.conj(), [['vL*', 'p', 'p*'], ['vR*', 'p*', 'p']])\n",
    "\n",
    "        out.append(t)\n",
    "\n",
    "    return out[::-1]"
   ]
  },
  {
   "cell_type": "code",
   "execution_count": 23,
   "id": "e12a7b85-584a-4b5c-8c12-039cc8752ca8",
   "metadata": {},
   "outputs": [],
   "source": [
    "def unitary_order_four_right_tensors(w_tensors):\n",
    "    out = list()\n",
    "\n",
    "    w = w_tensors[-1]\n",
    "    t = npc.tensordot(w, w.conj(), [['p',], ['p*',]])\n",
    "    t.ireplace_labels(['vL', 'vL*'], ['vL1', 'vL1*'])\n",
    "    t = npc.tensordot(t, w, [['p',], ['p*',]])\n",
    "    t = npc.tensordot(t, w.conj(), [['p', 'p*'], ['p*', 'p']])\n",
    "    \n",
    "    out.append(t)\n",
    "\n",
    "    for w in w_tensors[-2:0:-1]:\n",
    "        t = npc.tensordot(t, w, [['vL',], ['vR',]])\n",
    "        t = npc.tensordot(t, w.conj(), [['vL*', 'p'], ['vR*', 'p*']])\n",
    "\n",
    "        w = w.replace_label('vL', 'vL1')\n",
    "    \n",
    "        t = npc.tensordot(t, w, [['vL1', 'p',], ['vR', 'p*']])\n",
    "        t = npc.tensordot(t, w.conj(), [['vL1*', 'p', 'p*'], ['vR*', 'p*', 'p']])\n",
    "\n",
    "        out.append(t)\n",
    "\n",
    "    return out[::-1]"
   ]
  },
  {
   "cell_type": "code",
   "execution_count": 25,
   "id": "d16af878-4506-4fd0-8e37-92a6d7e1360d",
   "metadata": {},
   "outputs": [],
   "source": [
    "def overlap_right_tensors(w_tensors, b_tensors):\n",
    "    out = list()\n",
    "\n",
    "    t = get_right_identity_environment_from_tp_tensor(b_tensors[-1])\n",
    "\n",
    "    out.append(t)\n",
    "\n",
    "    b = b_tensors[-1]\n",
    "    w = w_tensors[-1]\n",
    "    \n",
    "    t = npc.tensordot(t, b, [['vL',], ['vR',]])\n",
    "    t = npc.tensordot(\n",
    "        t,\n",
    "        w.conj().replace_label('vL*', 'vLm'),\n",
    "        [['p',], ['p*',]]\n",
    "    )\n",
    "    t = npc.tensordot(t, b.conj(), [['p', 'vL*',], ['p*', 'vR*',]])\n",
    "\n",
    "    out.append(t)\n",
    "\n",
    "    for w, b in zip(w_tensors[-2:0:-1], b_tensors[-2:0:-1]):\n",
    "        t = npc.tensordot(t, b, [['vL',], ['vR',]])\n",
    "        t = npc.tensordot(\n",
    "            t,\n",
    "            w.conj().replace_label('vL*', 'vLm'),\n",
    "            [['p', 'vLm'], ['p*', 'vR*']]\n",
    "        )\n",
    "        t = npc.tensordot(t, b.conj(), [['p', 'vL*',], ['p*', 'vR*',]])\n",
    "    \n",
    "        out.append(t)\n",
    "\n",
    "    return out[::-1]"
   ]
  },
  {
   "cell_type": "markdown",
   "id": "3b1fda53-6670-4188-b86e-d2809f353b43",
   "metadata": {},
   "source": [
    "### Initialize tensors"
   ]
  },
  {
   "cell_type": "code",
   "execution_count": 26,
   "id": "6663e659-fb23-426d-afc6-70a00d2984d3",
   "metadata": {},
   "outputs": [],
   "source": [
    "def rescale_mpo_tensors(mpo_tensors, new_norm):\n",
    "    num_sites = len(mpo_tensors)\n",
    "\n",
    "    old_norm = mpo_frobenius_inner_product(mpo_tensors).real\n",
    "    \n",
    "    scale_factor = np.power(\n",
    "        new_norm/old_norm,\n",
    "        1/(2*num_sites)\n",
    "    )\n",
    "\n",
    "    for i in range(num_sites):\n",
    "        mpo_tensors[i] = scale_factor*mpo_tensors[i]"
   ]
  },
  {
   "cell_type": "code",
   "execution_count": 27,
   "id": "4c09d507-0f5d-486e-bb5e-22f8d35a9fc3",
   "metadata": {},
   "outputs": [],
   "source": [
    "def generate_random_w_tensor(physical_dim, left_virtual_dim=None,\n",
    "                             right_virtual_dim=None):\n",
    "\n",
    "    if (left_virtual_dim is None) and (right_virtual_dim is None):\n",
    "        dims = (physical_dim, physical_dim)\n",
    "    elif (left_virtual_dim is None):\n",
    "        dims = (physical_dim, physical_dim, right_virtual_dim)\n",
    "    elif (right_virtual_dim is None):\n",
    "        dims = (physical_dim, physical_dim, left_virtual_dim)\n",
    "    else: \n",
    "        dims = (\n",
    "            physical_dim,\n",
    "            physical_dim,\n",
    "            left_virtual_dim,\n",
    "            right_virtual_dim\n",
    "        )\n",
    "    \n",
    "    X1 = rng.normal(size=dims)\n",
    "    X2 = 1j*rng.normal(size=dims)\n",
    "    X = X1 + X2\n",
    "\n",
    "        \n",
    "    if (left_virtual_dim is None) and (right_virtual_dim is None):\n",
    "        out = npc.Array.from_ndarray_trivial(X, labels=['p', 'p*'])\n",
    "    elif right_virtual_dim is None:\n",
    "        out = npc.Array.from_ndarray_trivial(X, labels=['p', 'p*', 'vL'])\n",
    "    elif left_virtual_dim is None:\n",
    "        out = npc.Array.from_ndarray_trivial(X, labels=['p', 'p*', 'vR'])\n",
    "    else:\n",
    "        out = npc.Array.from_ndarray_trivial(\n",
    "            X,\n",
    "            labels=['p', 'p*', 'vL', 'vR']\n",
    "        )\n",
    "\n",
    "    return out"
   ]
  },
  {
   "cell_type": "code",
   "execution_count": 28,
   "id": "e779de84-d12b-4de3-b9d8-004bdf6e47bd",
   "metadata": {},
   "outputs": [],
   "source": [
    "def get_random_mpo_tensors(num_sites, norm=None):\n",
    "    \"\"\"\n",
    "    Needs more arguments\n",
    "    \"\"\"\n",
    "\n",
    "    w = generate_random_w_tensor(edge_dims)\n",
    "    w_tensor = npc.Array.from_ndarray_trivial(\n",
    "        w,\n",
    "        labels=['p', 'p*', 'vR']\n",
    "    )\n",
    "\n",
    "    w_tensors = [w_tensor,]\n",
    "\n",
    "    for _ in range(num_sites-2):\n",
    "        w = generate_random_w_tensor(inner_dims)\n",
    "        w_tensor = npc.Array.from_ndarray_trivial(w, labels=['p', 'p*', 'vL', 'vR'])\n",
    "        \n",
    "        w_tensors.append(w_tensor)\n",
    "\n",
    "    w = generate_random_w_tensor(edge_dims)\n",
    "    w_tensor = npc.Array.from_ndarray_trivial(\n",
    "        w,\n",
    "        labels=['p', 'p*', 'vL']\n",
    "    )\n",
    "    w_tensors.append(w_tensor)\n",
    "\n",
    "    if norm is not None:\n",
    "        rescale_mpo_tensors(w_tensors, norm)\n",
    "\n",
    "    return w_tensors"
   ]
  },
  {
   "cell_type": "code",
   "execution_count": 29,
   "id": "3ffba566-177e-46a4-bb02-953f6a6c8250",
   "metadata": {},
   "outputs": [],
   "source": [
    "def get_identity_w_tensor(physical_dim, left_virtual_dim=None, right_virtual_dim=None):\n",
    "    diagonal = np.ones(physical_dim, dtype='complex')\n",
    "    identity_matrix = np.diag(diagonal)\n",
    "    \n",
    "    if (left_virtual_dim is None) and (right_virtual_dim is None):\n",
    "        w_tensor = npc.Array.from_ndarray_trivial(\n",
    "            identity_matrix,\n",
    "            labels=['p', 'p*']\n",
    "        )\n",
    "    elif right_virtual_dim is None:\n",
    "        X = np.zeros(\n",
    "            (physical_dim, physical_dim, left_virtual_dim),\n",
    "            dtype='complex'\n",
    "        )\n",
    "        X[...,0] = identity_matrix\n",
    "        w_tensor = npc.Array.from_ndarray_trivial(\n",
    "            X,\n",
    "            labels=['p', 'p*', 'vL']\n",
    "        )\n",
    "    elif left_virtual_dim is None:\n",
    "        X = np.zeros(\n",
    "            (physical_dim, physical_dim, right_virtual_dim),\n",
    "            dtype='complex'\n",
    "        )\n",
    "        X[...,0] = identity_matrix\n",
    "        w_tensor = npc.Array.from_ndarray_trivial(\n",
    "            X,\n",
    "            labels=['p', 'p*', 'vR']\n",
    "        )\n",
    "    else:\n",
    "        X = np.zeros(\n",
    "            (physical_dim, physical_dim, left_virtual_dim, right_virtual_dim),\n",
    "            dtype='complex'\n",
    "        )\n",
    "        X[...,0,0] = identity_matrix\n",
    "        w_tensor = npc.Array.from_ndarray_trivial(\n",
    "            X,\n",
    "            labels=['p', 'p*', 'vL', 'vR']\n",
    "        )\n",
    "\n",
    "    return w_tensor"
   ]
  },
  {
   "cell_type": "code",
   "execution_count": 30,
   "id": "0e11bd70-f8d2-4254-870c-75620f9da400",
   "metadata": {},
   "outputs": [],
   "source": [
    "def get_random_mpo_tensors(physical_dims, virtual_dims):\n",
    "    \"\"\"\n",
    "    Could fold in with get_identity_mpo_tensors\n",
    "    \"\"\"\n",
    "\n",
    "    w_tensors = [\n",
    "        generate_random_w_tensor(p_dim, *v_dims)\n",
    "        for p_dim, v_dims in zip(physical_dims, virtual_dims)\n",
    "    ]\n",
    "\n",
    "    return w_tensors"
   ]
  },
  {
   "cell_type": "code",
   "execution_count": 31,
   "id": "416a67d2-bf88-4655-8ffb-c7d7e0afff98",
   "metadata": {},
   "outputs": [],
   "source": [
    "def get_identity_mpo_tensors(physical_dims, virtual_dims):\n",
    "    \"\"\"\n",
    "    Needs more comments, docs!\n",
    "\n",
    "    Often physical dims, virtual dims will be the same, so could add\n",
    "    optional behaviour...\n",
    "    \"\"\"\n",
    "\n",
    "    w_tensors = [\n",
    "        get_identity_w_tensor(p_dim, *v_dims)\n",
    "        for p_dim, v_dims in zip(physical_dims, virtual_dims)\n",
    "    ]\n",
    "\n",
    "    return w_tensors"
   ]
  },
  {
   "cell_type": "markdown",
   "id": "e57bf0ac-6b4d-4988-98e7-fe319d6166c1",
   "metadata": {},
   "source": [
    "### ADAM functions"
   ]
  },
  {
   "cell_type": "code",
   "execution_count": 32,
   "id": "7ebe448b-1c37-4bb0-ba43-72ee28829714",
   "metadata": {},
   "outputs": [],
   "source": [
    "def squared_components(X):\n",
    "    r, i = (X.real, X.imag)\n",
    "    return r**2 + 1j*(i**2)"
   ]
  },
  {
   "cell_type": "code",
   "execution_count": 33,
   "id": "31b74760-623b-4dd4-a319-24e51b4f08f9",
   "metadata": {},
   "outputs": [],
   "source": [
    "def square_root_components(X):\n",
    "    r, i = (X.real, X.imag)\n",
    "    return np.sqrt(r) + 1j*np.sqrt(i)"
   ]
  },
  {
   "cell_type": "code",
   "execution_count": 34,
   "id": "91bff15c-8ecf-44a9-995f-b7f4b8f0615c",
   "metadata": {},
   "outputs": [],
   "source": [
    "class AdamTenpy:\n",
    "    def __init__(self, alpha=0.001, beta_1=0.9, beta_2=0.999, epsilon=1e-8):\n",
    "        self.alpha = alpha\n",
    "        self.beta_1 = beta_1\n",
    "        self.beta_2 = beta_2\n",
    "        self.epsilon = epsilon\n",
    "\n",
    "        self.moment_1 = None\n",
    "        self.moment_2 = None\n",
    "\n",
    "    def update(self, grad):\n",
    "        if self.moment_1 is None:\n",
    "            self.moment_1 = (1-self.beta_1)*grad\n",
    "        else:\n",
    "            self.moment_1 = self.beta_1*self.moment_1 + (1-self.beta_1)*grad\n",
    "\n",
    "        grad_squared = grad.unary_blockwise(squared_components)\n",
    "        if self.moment_2 is None:\n",
    "            self.moment_2 = (1-self.beta_2)*grad_squared\n",
    "        else:\n",
    "            self.moment_2 = self.beta_2*self.moment_2 + (1-self.beta_2)*grad_squared\n",
    "\n",
    "        self.moment_1 /= (1-self.beta_1)\n",
    "        self.moment_2 /= (1-self.beta_2)\n",
    "\n",
    "        out_grad_denom = (\n",
    "            self.moment_2\n",
    "            .unary_blockwise(square_root_components)\n",
    "            .unary_blockwise(lambda x: x + (1+1j)*self.epsilon)\n",
    "        )\n",
    "\n",
    "        out_grad = (\n",
    "            self.moment_1\n",
    "            .binary_blockwise(np.divide, out_grad_denom)\n",
    "        )\n",
    "\n",
    "        return self.alpha*out_grad"
   ]
  },
  {
   "cell_type": "markdown",
   "id": "c2919303-4883-4327-9b56-743be48ebb53",
   "metadata": {},
   "source": [
    "### Sweep function"
   ]
  },
  {
   "cell_type": "code",
   "execution_count": 35,
   "id": "94c08580-6ab0-4501-8e41-1517ea118eb5",
   "metadata": {},
   "outputs": [],
   "source": [
    "def mpo_tensor_raw_to_gradient(raw_mpo_tensor, gradient_target_tensor):\n",
    "    \"\"\"\n",
    "    Update raw_mpo_tensor calculated to be the gradient by changing leg names\n",
    "    as neeeded so can be easily and consistently added to\n",
    "    gradient_target_tensor.\n",
    "    \"\"\"\n",
    "    leg_labels = raw_mpo_tensor.get_leg_labels()\n",
    "\n",
    "    # First update the virtual legs\n",
    "    old_new_leg_label_pairs = [\n",
    "        ('vL*', 'vR'),\n",
    "        ('vR*', 'vL'),\n",
    "        ('vL1*', 'vR'),\n",
    "        ('vR1*', 'vL'),\n",
    "        ('vLm', 'vR'),\n",
    "        ('vRm', 'vL'),\n",
    "    ]\n",
    "\n",
    "    for old, new in old_new_leg_label_pairs:\n",
    "        if old in leg_labels:\n",
    "            raw_mpo_tensor.ireplace_label(old, new)\n",
    "\n",
    "    # Then create new array to get the physical legs correct.\n",
    "    # Is this consistent? Should set order of leg labels on raw_mpo_tensor\n",
    "    # before casting to array?\n",
    "    out = npc.Array.from_ndarray_trivial(\n",
    "        raw_mpo_tensor.to_ndarray(),\n",
    "        labels=raw_mpo_tensor.get_leg_labels()\n",
    "    )\n",
    "\n",
    "    out.itranspose(gradient_target_tensor.get_leg_labels())\n",
    "\n",
    "    return out"
   ]
  },
  {
   "cell_type": "code",
   "execution_count": 36,
   "id": "aa8f1c2b-a2fe-4851-b802-2418f619ce7e",
   "metadata": {},
   "outputs": [],
   "source": [
    "def update_mpo_score(raw_gradient_mpo_tensor, gradient_target_tensor,\n",
    "                     virtual_legs=[['vL*', 'vR*',], ['vR*', 'vL*',]],\n",
    "                     take_abs=False\n",
    "                    ):\n",
    "    # Calculate \"score\" (just the contraction of the two relevant tensors)\n",
    "    raw_legs, target_legs = virtual_legs\n",
    "\n",
    "    score = npc.tensordot(\n",
    "        raw_gradient_mpo_tensor,\n",
    "        gradient_target_tensor.conj(),\n",
    "        [['p', 'p*', *raw_legs], ['p*', 'p', *target_legs]]\n",
    "    )\n",
    "\n",
    "    if take_abs:\n",
    "        real_score = np.abs(score)\n",
    "    else:\n",
    "        real_score = score.real\n",
    "\n",
    "    return score"
   ]
  },
  {
   "cell_type": "code",
   "execution_count": 37,
   "id": "a35f4a5f-aa5f-49e7-a87b-c271d442025f",
   "metadata": {},
   "outputs": [],
   "source": [
    "def mpo_gradient_descent_sweep(mpo_tensors, b_tensors,\n",
    "    unitarity_learning_rate, overlap_learning_rate,\n",
    "    overlap_target, left_environment, adam_optimizers):\n",
    "    \"\"\"\n",
    "    Really need to tidy this function up...\n",
    "\n",
    "    Also get matrix_dim directly from tensors.\n",
    "    \"\"\"\n",
    "    # Initialise list of gradients to be filled\n",
    "    grads = list()\n",
    "    # HARD CODE WARNING!\n",
    "    total_dimension = 2**len(mpo_tensors)\n",
    "\n",
    "    # Initialise variables\n",
    "    right_unitary_two_tensors = unitary_order_two_right_tensors(mpo_tensors)\n",
    "    right_unitary_four_tensors = unitary_order_four_right_tensors(mpo_tensors)\n",
    "    right_overlap_tensors = overlap_right_tensors(mpo_tensors, b_tensors)\n",
    "    \n",
    "    left_unitary_two_tensors = list()\n",
    "    left_unitary_four_tensors = list()\n",
    "    left_overlap_tensors = list()\n",
    "\n",
    "    num_sites = len(mpo_tensors)\n",
    "    assert len(mpo_tensors) == len(b_tensors)\n",
    "\n",
    "    # Leftmost site\n",
    "    w = mpo_tensors[0]\n",
    "    b = b_tensors[0]\n",
    "\n",
    "    t = right_unitary_two_tensors[0]\n",
    "\n",
    "    # Second order terms\n",
    "    grad_2 = npc.tensordot(t, w, [['vL'], ['vR',]])\n",
    "\n",
    "    order_2_score = update_mpo_score(\n",
    "        grad_2,\n",
    "        w,\n",
    "        [['vL*',], ['vR*',]]\n",
    "    )\n",
    "\n",
    "    grad_2 = mpo_tensor_raw_to_gradient(grad_2, w)\n",
    "\n",
    "    # Fourth order terms\n",
    "    t = right_unitary_four_tensors[0]\n",
    "\n",
    "    grad_4 = npc.tensordot(t, w, [['vL'], ['vR',]])\n",
    "    grad_4 = npc.tensordot(grad_4, w.conj(), [['vL*', 'p'], ['vR*', 'p*']])\n",
    "    grad_4 = npc.tensordot(grad_4, w, [['vL1', 'p'], ['vR', 'p*']])\n",
    "\n",
    "    order_4_score = update_mpo_score(\n",
    "        grad_4,\n",
    "        w,\n",
    "        [['vL1*',], ['vR*',]]\n",
    "    )\n",
    "\n",
    "    grad_4 = mpo_tensor_raw_to_gradient(grad_4, w)\n",
    "\n",
    "    unitary_score = order_4_score - 2*order_2_score + total_dimension\n",
    "    unitary_grad = (grad_4 - grad_2)/np.sqrt(1+unitary_score)\n",
    "    \n",
    "    # Overlap terms\n",
    "    t = right_overlap_tensors[0]\n",
    "\n",
    "    grad_o = npc.tensordot(t, b, [['vL'], ['vR',]])\n",
    "    grad_o = npc.tensordot(grad_o, b.conj(), [['vL*',], ['vR*',]])\n",
    "    grad_o = npc.tensordot(grad_o, left_environment, [['vL', 'vL*'], ['vR', 'vR*']])\n",
    "\n",
    "    c_conj = update_mpo_score(\n",
    "        grad_o,\n",
    "        w,\n",
    "        [['vLm',], ['vR*',]],\n",
    "        take_abs=True\n",
    "    )\n",
    "    c = c_conj.conjugate()\n",
    "    c_abs = np.abs(c)\n",
    "    \n",
    "    grad_o_scale = c*(1 - overlap_target/c_abs)\n",
    "    grad_o = grad_o_scale*grad_o\n",
    "    grad_o = mpo_tensor_raw_to_gradient(grad_o, w)\n",
    "\n",
    "    grad = (\n",
    "        unitarity_learning_rate*unitary_grad +\n",
    "        overlap_learning_rate*grad_o\n",
    "    )\n",
    "    adam_grad = adam_optimizers[0].update(grad)\n",
    "    grads.append(adam_grad)\n",
    "\n",
    "    # Create and save left tensors\n",
    "    t = npc.tensordot(w, w.conj(), [['p', 'p*'], ['p*', 'p']])\n",
    "    left_unitary_two_tensors.append(t)\n",
    "    \n",
    "    t = npc.tensordot(w, w.conj(), [['p',], ['p*',]])\n",
    "    t.ireplace_labels(['vR', 'vR*'], ['vR1', 'vR1*'])\n",
    "    t = npc.tensordot(t, w, [['p',], ['p*',]])\n",
    "    t = npc.tensordot(t, w.conj(), [['p', 'p*'], ['p*', 'p']])\n",
    "    \n",
    "    left_unitary_four_tensors.append(t)\n",
    "\n",
    "    t = npc.tensordot(b, w.conj(), [['p',], ['p*',]])\n",
    "    #print(t)\n",
    "    t.ireplace_label('vR*', 'vRm')\n",
    "    #print(t)\n",
    "    t = npc.tensordot(t, left_environment, [['vL',], ['vR',]])\n",
    "    #print(t)\n",
    "    t = npc.tensordot(t, b.conj(), [['vR*', 'p'], ['vL*', 'p*']])\n",
    "\n",
    "    #print(t)\n",
    "\n",
    "    left_overlap_tensors.append(t)\n",
    "\n",
    "    # Inner sites\n",
    "    for i in range(1, num_sites-1):\n",
    "        w = mpo_tensors[i]\n",
    "        b = b_tensors[i]\n",
    "    \n",
    "        right_two_tensor = right_unitary_two_tensors[i]\n",
    "        right_four_tensor = right_unitary_four_tensors[i]\n",
    "        right_overlap_tensor = right_overlap_tensors[i]\n",
    "\n",
    "        # Order two terms\n",
    "        left_two_tensor = left_unitary_two_tensors[-1]\n",
    "\n",
    "        grad_2 = npc.tensordot(right_two_tensor, w, [['vL'], ['vR',]])\n",
    "        grad_2 = npc.tensordot(grad_2, left_two_tensor, [['vL'], ['vR',]])\n",
    "\n",
    "        grad_2 = mpo_tensor_raw_to_gradient(grad_2, w)\n",
    "\n",
    "        # Order four terms\n",
    "        left_four_tensor = left_unitary_four_tensors[-1]\n",
    "\n",
    "        grad_4 = npc.tensordot(right_four_tensor, w, [['vL'], ['vR',]])\n",
    "        grad_4 = npc.tensordot(grad_4, w.conj(), [['vL*', 'p'], ['vR*', 'p*']])\n",
    "\n",
    "        grad_4 = npc.tensordot(\n",
    "            grad_4,\n",
    "            w.replace_label('vL', 'vL1'),\n",
    "            [['vL1', 'p'], ['vR', 'p*']]\n",
    "        )\n",
    "\n",
    "        grad_4 = npc.tensordot(\n",
    "            grad_4,\n",
    "            left_four_tensor,\n",
    "            [['vL', 'vL*', 'vL1'], ['vR', 'vR*', 'vR1']]\n",
    "        )\n",
    "\n",
    "        grad_4 = mpo_tensor_raw_to_gradient(grad_4, w)\n",
    "\n",
    "        unitary_grad = (grad_4 - grad_2)/np.sqrt(1+unitary_score)\n",
    "    \n",
    "        # Overlap terms\n",
    "        left_overlap_tensor = left_overlap_tensors[-1]\n",
    "\n",
    "        grad_o = npc.tensordot(right_overlap_tensor, b, [['vL',], ['vR',]])\n",
    "        grad_o = npc.tensordot(grad_o, b.conj(), [['vL*',], ['vR*',]])\n",
    "        grad_o = npc.tensordot(\n",
    "            grad_o,\n",
    "            left_overlap_tensor,\n",
    "            [['vL*', 'vL'], ['vR', 'vR*',]]\n",
    "        )\n",
    "\n",
    "        grad_o = grad_o_scale*grad_o\n",
    "        grad_o = mpo_tensor_raw_to_gradient(grad_o, w)\n",
    "\n",
    "        grad = (\n",
    "            unitarity_learning_rate*unitary_grad +\n",
    "            overlap_learning_rate*grad_o\n",
    "        )\n",
    "        adam_grad = adam_optimizers[i].update(grad)\n",
    "        grads.append(adam_grad)\n",
    "\n",
    "        # Update left tensors\n",
    "        t = npc.tensordot(left_two_tensor, w, [['vR',], ['vL']])\n",
    "        t = npc.tensordot(\n",
    "            t,\n",
    "            w.conj(),\n",
    "            [['vR*', 'p', 'p*'], ['vL*', 'p*', 'p']]\n",
    "        )\n",
    "        \n",
    "        left_unitary_two_tensors.append(t)\n",
    "        \n",
    "        t = npc.tensordot(left_four_tensor, w, [['vR',], ['vL']])\n",
    "        t = npc.tensordot(t, w.conj(), [['vR*', 'p'], ['vL*', 'p*']])\n",
    "        t = npc.tensordot(\n",
    "            t,\n",
    "            w.replace_label('vR', 'vR1'),\n",
    "            [['p', 'vR1'], ['p*', 'vL']]\n",
    "        )\n",
    "        t = npc.tensordot(\n",
    "            t,\n",
    "            w.conj().replace_label('vR*', 'vR1*'),\n",
    "            [['p', 'p*', 'vR1*'], ['p*', 'p', 'vL*']]\n",
    "        )\n",
    "        \n",
    "        left_unitary_four_tensors.append(t)\n",
    "\n",
    "        t = left_overlap_tensor.ireplace_label('vR*', 'vR1*')\n",
    "        t = npc.tensordot(\n",
    "            left_overlap_tensor,\n",
    "            w.conj(),\n",
    "            [['vRm',], ['vL*']]\n",
    "        )\n",
    "        t.ireplace_label('vR*', 'vRm')\n",
    "        t = npc.tensordot(t, b, [['vR', 'p*'], ['vL', 'p']])\n",
    "        t = npc.tensordot(t, b.conj(), [['vR1*', 'p'], ['vL*', 'p*']])\n",
    "\n",
    "        left_overlap_tensors.append(t)\n",
    "\n",
    "    # Last site\n",
    "    left_two_tensor = left_unitary_two_tensors[-1]\n",
    "    w = mpo_tensors[-1]\n",
    "    b = b_tensors[-1]\n",
    "    \n",
    "    grad_2 = npc.tensordot(left_two_tensor, w, [['vR'], ['vL',]])\n",
    "    grad_2 = mpo_tensor_raw_to_gradient(grad_2, w)\n",
    "\n",
    "    left_four_tensor = left_unitary_four_tensors[-1]\n",
    "    \n",
    "    grad_4 = npc.tensordot(left_four_tensor, w, [['vR'], ['vL',]])\n",
    "    grad_4 = npc.tensordot(grad_4, w.conj(), [['vR*', 'p'], ['vL*', 'p*']])\n",
    "    grad_4 = npc.tensordot(grad_4, w, [['vR1', 'p'], ['vL', 'p*']])\n",
    "\n",
    "    grad_4 = mpo_tensor_raw_to_gradient(grad_4, w)\n",
    "    \n",
    "    unitary_grad = (grad_4 - grad_2)/np.sqrt(1+unitary_score)\n",
    "\n",
    "    left_overlap_tensor = left_overlap_tensors[-1]\n",
    "    right_overlap_tensor = right_overlap_tensors[-1]\n",
    "\n",
    "    grad_o = npc.tensordot(right_overlap_tensor, b, [['vL',], ['vR',]])\n",
    "    grad_o = npc.tensordot(grad_o, b.conj(), [['vL*',], ['vR*',]])\n",
    "    grad_o = npc.tensordot(\n",
    "        grad_o,\n",
    "        left_overlap_tensor,\n",
    "        [['vL*', 'vL'], ['vR', 'vR*',]]\n",
    "    )\n",
    "\n",
    "    grad_o = grad_o_scale*grad_o\n",
    "    grad_o = mpo_tensor_raw_to_gradient(grad_o, w)\n",
    "\n",
    "    grad = (\n",
    "        unitarity_learning_rate*unitary_grad +\n",
    "        overlap_learning_rate*grad_o\n",
    "    )\n",
    "    adam_grad = adam_optimizers[-1].update(grad)\n",
    "    grads.append(adam_grad)\n",
    "\n",
    "    for i, g in enumerate(grads):\n",
    "        mpo_tensors[i] = mpo_tensors[i] - g\n",
    "\n",
    "    return (unitary_score, c_abs)"
   ]
  },
  {
   "cell_type": "code",
   "execution_count": 38,
   "id": "1a8b9251-44db-4ef2-80ad-db74402a94b4",
   "metadata": {},
   "outputs": [],
   "source": [
    "def unitarity_error_from_subscores(order_two_score, order_four_score, dimension):\n",
    "    return order_four_score - 2*order_two_score + dimension"
   ]
  },
  {
   "cell_type": "code",
   "execution_count": 39,
   "id": "b2ddc829-2e4b-4aa9-9711-b76244621c37",
   "metadata": {},
   "outputs": [],
   "source": [
    "def unitarity_errors_from_subscores(order_two_scores, order_four_scores,\n",
    "                                    dimension):\n",
    "    out = [\n",
    "        unitarity_error_from_subscores(o2, o4, dimension)\n",
    "        for o2, o4 in zip(order_two_scores, order_four_scores)\n",
    "    ]\n",
    "    \n",
    "    return out"
   ]
  },
  {
   "cell_type": "markdown",
   "id": "5a6b77d4-1b5d-455b-9d45-b0dfc2fe378d",
   "metadata": {},
   "source": [
    "### SPT phase extraction"
   ]
  },
  {
   "cell_type": "code",
   "execution_count": 222,
   "id": "19115e31-e566-4904-b863-492184c744e7",
   "metadata": {},
   "outputs": [],
   "source": [
    "def conjugate_single_mpo_tensor(mpo_tensor):\n",
    "    leg_labels = mpo_tensor.get_leg_labels()\n",
    "\n",
    "    if not ('vR' in leg_labels):\n",
    "        return mpo_tensor.conj().replace_labels(['vL*',], ['vL',])\n",
    "    elif not ('vL' in leg_labels):\n",
    "        return mpo_tensor.conj().replace_labels(['vR*'], ['vR'])\n",
    "    else:\n",
    "        return mpo_tensor.conj().replace_labels(['vL*', 'vR*'], ['vL', 'vR'])"
   ]
  },
  {
   "cell_type": "code",
   "execution_count": 223,
   "id": "58405086-22cd-4f65-8eec-0888ff6eb03f",
   "metadata": {},
   "outputs": [],
   "source": [
    "def conjugate_mpo(mpo_tensors):\n",
    "    return [\n",
    "        conjugate_single_mpo_tensor(t) for t in mpo_tensors\n",
    "    ]"
   ]
  },
  {
   "cell_type": "code",
   "execution_count": 234,
   "id": "6a0c4ee6-9a5c-464f-b7ba-68adbd5ad640",
   "metadata": {},
   "outputs": [],
   "source": [
    "def mpo_product_expectation(left_environment, b_tensors, mpos):\n",
    "    \"\"\"\n",
    "    Have an optional b_conj argument? Left and right arguments?\n",
    "\n",
    "    Like a previous function we wrote?\n",
    "    \"\"\"\n",
    "\n",
    "    # First site\n",
    "    t = b_tensors[0]\n",
    "\n",
    "    for i, l in enumerate(mpos):\n",
    "        w = l[0]\n",
    "        t = npc.tensordot(\n",
    "            t,\n",
    "            w.replace_label('vR', f'vR{i}'),\n",
    "            [['p',], ['p*',]]\n",
    "        )\n",
    "\n",
    "    t = npc.tensordot(\n",
    "        t,\n",
    "        b_tensors[0].conj(),\n",
    "        [['p',], ['p*',]]\n",
    "    )\n",
    "\n",
    "    t = npc.tensordot(\n",
    "        t,\n",
    "        left_environment,\n",
    "        [['vL', 'vL*',], ['vR', 'vR*']]\n",
    "    )\n",
    "\n",
    "    # Inner sites\n",
    "    for i in range(1, len(b_tensors)-1):\n",
    "        t = npc.tensordot(\n",
    "            t,\n",
    "            b_tensors[i],\n",
    "            [['vR',], ['vL',]]\n",
    "        )\n",
    "\n",
    "        for j, l in enumerate(mpos):\n",
    "            w = l[i]\n",
    "            t = npc.tensordot(\n",
    "                t,\n",
    "                w.replace_label('vR', f'vR{j}'),\n",
    "                [['p', f'vR{j}'], ['p*', 'vL']]\n",
    "            )\n",
    "    \n",
    "        t = npc.tensordot(\n",
    "            t,\n",
    "            b_tensors[i].conj(),\n",
    "            [['p', 'vR*'], ['p*', 'vL*']]\n",
    "        )\n",
    "\n",
    "    # Last site\n",
    "    t = npc.tensordot(\n",
    "        t,\n",
    "        b_tensors[-1],\n",
    "        [['vR',], ['vL',]]\n",
    "    )\n",
    "\n",
    "    for i, l in enumerate(mpos):\n",
    "        w = l[-1]\n",
    "        t = npc.tensordot(\n",
    "            t,\n",
    "            w,\n",
    "            [['p', f'vR{i}'], ['p*', 'vL']]\n",
    "        )\n",
    "\n",
    "    t = npc.tensordot(\n",
    "        t,\n",
    "        b_tensors[-1].conj(),\n",
    "        [['p', 'vR*', 'vR'], ['p*', 'vL*', 'vR*']]\n",
    "    )\n",
    "\n",
    "    return t"
   ]
  },
  {
   "cell_type": "code",
   "execution_count": 191,
   "id": "86ff850e-a4f7-4b73-9360-03431af04fdb",
   "metadata": {},
   "outputs": [],
   "source": [
    "def proj_rep_phase(left_environment, b_tensors, mpo_1, mpo_2, mpo_3):\n",
    "    num = mpo_product_expectation(\n",
    "        left_environment,\n",
    "        b_tensors,\n",
    "        [\n",
    "            mpo_1,\n",
    "            mpo_2,\n",
    "            conjugate_mpo(mpo_3)\n",
    "        ]\n",
    "    )\n",
    "\n",
    "    den = npc.trace(left_environment)\n",
    "\n",
    "    return num/den"
   ]
  },
  {
   "cell_type": "markdown",
   "id": "6609a3ee-0f68-4216-94ec-1ec4bfe0abb9",
   "metadata": {},
   "source": [
    "# Test"
   ]
  },
  {
   "cell_type": "markdown",
   "id": "4b3b03c6-c5ae-4bee-a25d-3b7f9000802a",
   "metadata": {},
   "source": [
    "## Solution test"
   ]
  },
  {
   "cell_type": "code",
   "execution_count": 41,
   "id": "876e8b31-6018-413b-b011-bc3466fb382b",
   "metadata": {},
   "outputs": [],
   "source": [
    "num_sites = 2"
   ]
  },
  {
   "cell_type": "code",
   "execution_count": 42,
   "id": "76012b45-c3f5-4801-b3ce-662b22675bef",
   "metadata": {},
   "outputs": [],
   "source": [
    "total_dimension = 2**num_sites"
   ]
  },
  {
   "cell_type": "code",
   "execution_count": 43,
   "id": "e4c93837-9549-4e63-9dea-0f71798a4bb7",
   "metadata": {},
   "outputs": [],
   "source": [
    "num_iterations = 500"
   ]
  },
  {
   "cell_type": "code",
   "execution_count": 44,
   "id": "3f5be5a0-08af-4dde-953e-c249af1948e2",
   "metadata": {},
   "outputs": [],
   "source": [
    "physical_dims = [2,]*num_sites\n",
    "virtual_dims = [(None, 1),] + [(1, None),]"
   ]
  },
  {
   "cell_type": "code",
   "execution_count": 55,
   "id": "60f6d15e-5357-422f-a86f-0fa37111a003",
   "metadata": {},
   "outputs": [],
   "source": [
    "test_case = cases[0][1]"
   ]
  },
  {
   "cell_type": "code",
   "execution_count": 56,
   "id": "fb5d7ca7-3ef3-4ba9-a089-61423c8bc13d",
   "metadata": {},
   "outputs": [],
   "source": [
    "X_1 = np.array([[[1,0],[0,-1]]])"
   ]
  },
  {
   "cell_type": "code",
   "execution_count": 57,
   "id": "1b8d5e56-dbd6-4658-9bfe-b6f3d8b3fae7",
   "metadata": {},
   "outputs": [
    {
     "data": {
      "text/plain": [
       "(1, 2, 2)"
      ]
     },
     "execution_count": 57,
     "metadata": {},
     "output_type": "execute_result"
    }
   ],
   "source": [
    "X_1.shape"
   ]
  },
  {
   "cell_type": "code",
   "execution_count": 58,
   "id": "8b6f85a7-7785-4bd2-abb2-abe17b134d33",
   "metadata": {},
   "outputs": [],
   "source": [
    "w_1 = npc.Array.from_ndarray_trivial(X_1, labels=['vR', 'p', 'p*'])"
   ]
  },
  {
   "cell_type": "code",
   "execution_count": 59,
   "id": "2f745c4b-751c-46c8-9641-e15038e62307",
   "metadata": {},
   "outputs": [],
   "source": [
    "w_2 = get_identity_w_tensor(2, left_virtual_dim=1)"
   ]
  },
  {
   "cell_type": "code",
   "execution_count": 60,
   "id": "d681ed4f-bb7b-4b64-b558-88b83ea8cb3a",
   "metadata": {},
   "outputs": [],
   "source": [
    "w_tensors = [w_1, w_2]"
   ]
  },
  {
   "cell_type": "code",
   "execution_count": 61,
   "id": "3592e6f4-42ce-48fe-bb68-b611c336122d",
   "metadata": {},
   "outputs": [
    {
     "data": {
      "text/plain": [
       "(4+0j)"
      ]
     },
     "execution_count": 61,
     "metadata": {},
     "output_type": "execute_result"
    }
   ],
   "source": [
    "mpo_frobenius_inner_product(w_tensors)"
   ]
  },
  {
   "cell_type": "code",
   "execution_count": 62,
   "id": "f1c7fc6d-a80c-4cf3-a900-8aeb72d01df3",
   "metadata": {},
   "outputs": [
    {
     "data": {
      "text/plain": [
       "4"
      ]
     },
     "execution_count": 62,
     "metadata": {},
     "output_type": "execute_result"
    }
   ],
   "source": [
    "total_dimension"
   ]
  },
  {
   "cell_type": "code",
   "execution_count": 63,
   "id": "43b8f798-42f2-4598-97e3-2fd78bc83084",
   "metadata": {},
   "outputs": [
    {
     "data": {
      "text/plain": [
       "[<npc.Array shape=(1, 2, 2) labels=['vR', 'p', 'p*']>,\n",
       " <npc.Array shape=(2, 2, 1) labels=['p', 'p*', 'vL']>]"
      ]
     },
     "execution_count": 63,
     "metadata": {},
     "output_type": "execute_result"
    }
   ],
   "source": [
    "w_tensors"
   ]
  },
  {
   "cell_type": "code",
   "execution_count": 64,
   "id": "557c79cf-61de-422d-aa59-ba730b8bfaf0",
   "metadata": {},
   "outputs": [],
   "source": [
    "b_tensors = [\n",
    "    test_case.psi.get_B(i)\n",
    "    for i in range(test_case.right_symmetry_index + 1, test_case.right_symmetry_index + 1 + num_sites)\n",
    "]"
   ]
  },
  {
   "cell_type": "code",
   "execution_count": 65,
   "id": "cab1f27e-c672-41e4-b824-a85499a1aac9",
   "metadata": {},
   "outputs": [
    {
     "data": {
      "text/plain": [
       "[<npc.Array shape=(2, 2, 2) labels=['vL', 'p', 'vR']>,\n",
       " <npc.Array shape=(2, 2, 2) labels=['vL', 'p', 'vR']>]"
      ]
     },
     "execution_count": 65,
     "metadata": {},
     "output_type": "execute_result"
    }
   ],
   "source": [
    "b_tensors"
   ]
  },
  {
   "cell_type": "code",
   "execution_count": 66,
   "id": "00c04222-14fc-4814-83f7-ebd43e490f22",
   "metadata": {},
   "outputs": [],
   "source": [
    "unitarity_learning_rate = 1\n",
    "overlap_learning_rate = 1"
   ]
  },
  {
   "cell_type": "code",
   "execution_count": 67,
   "id": "72186718-b3e9-4278-b65e-7b9742c3f446",
   "metadata": {},
   "outputs": [],
   "source": [
    "adam_params = (1e-3, 0.3, 0.3)"
   ]
  },
  {
   "cell_type": "code",
   "execution_count": 68,
   "id": "b0454895-79b1-4d3b-83db-0bb99524f2ba",
   "metadata": {},
   "outputs": [],
   "source": [
    "adam_optimizers = [\n",
    "    AdamTenpy(*adam_params) for _ in range(num_sites)\n",
    "]"
   ]
  },
  {
   "cell_type": "code",
   "execution_count": 69,
   "id": "1efab8c0-c8f5-4256-8706-4f74ac62c6c6",
   "metadata": {},
   "outputs": [],
   "source": [
    "unitarity_scores, overlap_scores = (list(), list())"
   ]
  },
  {
   "cell_type": "code",
   "execution_count": 70,
   "id": "0e708901-3f8c-4472-8e2d-9cbeb8cdd1eb",
   "metadata": {},
   "outputs": [],
   "source": [
    "for _ in range(num_iterations):\n",
    "    unitarity, overlap = mpo_gradient_descent_sweep(\n",
    "        w_tensors,\n",
    "        b_tensors,\n",
    "        unitarity_learning_rate,\n",
    "        overlap_learning_rate,\n",
    "        np.sqrt(2),\n",
    "        test_case.right_projected_symmetry_state,\n",
    "        adam_optimizers\n",
    "    )\n",
    "\n",
    "    unitarity_scores.append(unitarity)\n",
    "    overlap_scores.append(overlap)"
   ]
  },
  {
   "cell_type": "code",
   "execution_count": 71,
   "id": "d1cf0a7e-96b3-441e-b5d6-c7c2d91c393b",
   "metadata": {},
   "outputs": [],
   "source": [
    "unitary_scores_array = np.array(unitarity_scores)"
   ]
  },
  {
   "cell_type": "code",
   "execution_count": 72,
   "id": "ad3713d1-cd04-4f01-bff7-8f4fbc120e89",
   "metadata": {},
   "outputs": [
    {
     "name": "stderr",
     "output_type": "stream",
     "text": [
      "/Users/kierancooney/.pyenv/versions/num_spt_venv_p11/lib/python3.11/site-packages/matplotlib/cbook.py:1699: ComplexWarning: Casting complex values to real discards the imaginary part\n",
      "  return math.isfinite(val)\n",
      "/Users/kierancooney/.pyenv/versions/num_spt_venv_p11/lib/python3.11/site-packages/matplotlib/cbook.py:1345: ComplexWarning: Casting complex values to real discards the imaginary part\n",
      "  return np.asarray(x, float)\n"
     ]
    },
    {
     "data": {
      "text/plain": [
       "[<matplotlib.lines.Line2D at 0x176008d90>]"
      ]
     },
     "execution_count": 72,
     "metadata": {},
     "output_type": "execute_result"
    },
    {
     "data": {
      "image/png": "[encoded data removed]",
      "text/plain": [
       "<Figure size 640x480 with 1 Axes>"
      ]
     },
     "metadata": {},
     "output_type": "display_data"
    }
   ],
   "source": [
    "plt.plot(unitary_scores_array.flatten())"
   ]
  },
  {
   "cell_type": "code",
   "execution_count": 73,
   "id": "44c0f3a4-fc20-4799-8b0d-8509a61efa07",
   "metadata": {},
   "outputs": [
    {
     "data": {
      "text/plain": [
       "(3.055746130797843e-06-3.0742387724329604e-21j)"
      ]
     },
     "execution_count": 73,
     "metadata": {},
     "output_type": "execute_result"
    }
   ],
   "source": [
    "unitary_scores_array[-1]"
   ]
  },
  {
   "cell_type": "code",
   "execution_count": 74,
   "id": "fa5bfc43-29c6-4bed-a368-42df0eb7150a",
   "metadata": {},
   "outputs": [],
   "source": [
    "overlap_scores_array = np.array(overlap_scores)"
   ]
  },
  {
   "cell_type": "code",
   "execution_count": 75,
   "id": "dec385b7-1fba-4ac3-8dd0-f5b90d818e1b",
   "metadata": {},
   "outputs": [
    {
     "data": {
      "text/plain": [
       "[<matplotlib.lines.Line2D at 0x1761825d0>]"
      ]
     },
     "execution_count": 75,
     "metadata": {},
     "output_type": "execute_result"
    },
    {
     "data": {
      "image/png": "[encoded data removed]",
      "text/plain": [
       "<Figure size 640x480 with 1 Axes>"
      ]
     },
     "metadata": {},
     "output_type": "display_data"
    }
   ],
   "source": [
    "plt.plot(overlap_scores_array.flatten())"
   ]
  },
  {
   "cell_type": "code",
   "execution_count": 76,
   "id": "4532bafd-ec26-4c32-b212-97be2f511eb4",
   "metadata": {},
   "outputs": [
    {
     "data": {
      "text/plain": [
       "1.4137899217379883"
      ]
     },
     "execution_count": 76,
     "metadata": {},
     "output_type": "execute_result"
    }
   ],
   "source": [
    "overlap_scores_array[-1]"
   ]
  },
  {
   "cell_type": "code",
   "execution_count": 77,
   "id": "277ccc37-96b4-426d-8e34-64c6e13dabd5",
   "metadata": {},
   "outputs": [],
   "source": [
    "x = proj_rep_phase(\n",
    "    test_case.right_projected_symmetry_state,\n",
    "    b_tensors,\n",
    "    w_tensors,\n",
    "    w_tensors,\n",
    "    w_tensors\n",
    ")"
   ]
  },
  {
   "cell_type": "code",
   "execution_count": 78,
   "id": "6013c200-cc36-4c88-a6de-d11b82fc774e",
   "metadata": {},
   "outputs": [
    {
     "data": {
      "text/plain": [
       "(-339205747735085.25-92119543319.7183j)"
      ]
     },
     "execution_count": 78,
     "metadata": {},
     "output_type": "execute_result"
    }
   ],
   "source": [
    "x"
   ]
  },
  {
   "cell_type": "markdown",
   "id": "1391eef0-90f4-4e0f-831a-1214aed19ccf",
   "metadata": {},
   "source": [
    "## SPT phase extraction, B=0 test"
   ]
  },
  {
   "cell_type": "code",
   "execution_count": 270,
   "id": "8d158d38-2891-44d8-b9a7-6ead4201652e",
   "metadata": {},
   "outputs": [],
   "source": [
    "num_sites = 2"
   ]
  },
  {
   "cell_type": "code",
   "execution_count": 271,
   "id": "235aa796-0ffb-4954-921d-0a75f43c184d",
   "metadata": {},
   "outputs": [],
   "source": [
    "unitarity_learning_rate = 1\n",
    "overlap_learning_rate = 1\n",
    "\n",
    "adam_params = (5e-3, 0.4, 0.4)"
   ]
  },
  {
   "cell_type": "code",
   "execution_count": 272,
   "id": "fd20a408-2f72-4bd8-b1d9-340d4de086a6",
   "metadata": {},
   "outputs": [],
   "source": [
    "total_dimension = 2**num_sites"
   ]
  },
  {
   "cell_type": "code",
   "execution_count": 273,
   "id": "e4e40993-27ac-4cd8-a869-097ff05ac9b9",
   "metadata": {},
   "outputs": [],
   "source": [
    "num_iterations = 1000"
   ]
  },
  {
   "cell_type": "code",
   "execution_count": 274,
   "id": "776b0f41-fa98-4080-ad2d-8f6fb255e989",
   "metadata": {},
   "outputs": [],
   "source": [
    "bond_dimension=2"
   ]
  },
  {
   "cell_type": "code",
   "execution_count": 275,
   "id": "ca34b073-45ee-4e8d-91d0-fea25d13e08d",
   "metadata": {},
   "outputs": [],
   "source": [
    "physical_dims = [2,]*num_sites\n",
    "virtual_dims = (\n",
    "    [(None, bond_dimension),] +\n",
    "    [(bond_dimension, bond_dimension)]*(num_sites - 2) +\n",
    "    [(bond_dimension, None),]\n",
    ")"
   ]
  },
  {
   "cell_type": "code",
   "execution_count": 276,
   "id": "c7f23d26-098e-4a99-b6de-1d3b0a8d1f15",
   "metadata": {},
   "outputs": [],
   "source": [
    "solutions = list()\n",
    "unitarity_scores = list()\n",
    "overlap_scores = list()\n",
    "\n",
    "for c in cases[0][1:]:\n",
    "    mpo_tensors = get_random_mpo_tensors(physical_dims, virtual_dims)\n",
    "    rescale_mpo_tensors(mpo_tensors, 1)\n",
    "\n",
    "    b_tensors = [\n",
    "        c.psi.get_B(i)\n",
    "        for i in range(test_case.right_symmetry_index + 1, test_case.right_symmetry_index + 1 + num_sites)\n",
    "    ]\n",
    "\n",
    "    adam_optimizers = [\n",
    "        AdamTenpy(*adam_params) for _ in range(num_sites)\n",
    "    ]\n",
    "\n",
    "    current_unitarity_scores = list()\n",
    "    current_overlap_scores = list()\n",
    "\n",
    "    for i in range(num_iterations):\n",
    "        unitarity, overlap = mpo_gradient_descent_sweep(\n",
    "            mpo_tensors,\n",
    "            b_tensors,\n",
    "            unitarity_learning_rate,\n",
    "            overlap_learning_rate,\n",
    "            np.sqrt(2),\n",
    "            c.right_projected_symmetry_state,\n",
    "            adam_optimizers\n",
    "        )\n",
    "    \n",
    "        current_unitarity_scores.append(unitarity)\n",
    "        current_overlap_scores.append(overlap)\n",
    "\n",
    "    solutions.append(mpo_tensors)\n",
    "    unitarity_scores.append(current_unitarity_scores)\n",
    "    overlap_scores.append(current_overlap_scores)"
   ]
  },
  {
   "cell_type": "code",
   "execution_count": 277,
   "id": "4b216a49-26c5-42e6-a720-011e0045b792",
   "metadata": {},
   "outputs": [
    {
     "data": {
      "image/png": "[encoded data removed]",
      "text/plain": [
       "<Figure size 640x480 with 1 Axes>"
      ]
     },
     "metadata": {},
     "output_type": "display_data"
    }
   ],
   "source": [
    "for l in unitarity_scores:\n",
    "    plt.plot(l)"
   ]
  },
  {
   "cell_type": "code",
   "execution_count": 278,
   "id": "244fb518-fd93-49b7-a971-c1bae079ebc3",
   "metadata": {},
   "outputs": [
    {
     "data": {
      "image/png": "[encoded data removed]",
      "text/plain": [
       "<Figure size 640x480 with 1 Axes>"
      ]
     },
     "metadata": {},
     "output_type": "display_data"
    }
   ],
   "source": [
    "for l in overlap_scores:\n",
    "    plt.plot(l)"
   ]
  },
  {
   "cell_type": "code",
   "execution_count": 279,
   "id": "16fad15c-78b4-4f75-9e62-596f9f9bc373",
   "metadata": {},
   "outputs": [],
   "source": [
    "x = mpo_product_expectation(\n",
    "    cases[0][1].right_projected_symmetry_state,\n",
    "    b_tensors,\n",
    "    [solutions[0],]\n",
    ")"
   ]
  },
  {
   "cell_type": "code",
   "execution_count": 280,
   "id": "1b13735c-91f7-48b7-b9f6-8a1cac10af67",
   "metadata": {},
   "outputs": [
    {
     "data": {
      "text/plain": [
       "1.4182338703837065"
      ]
     },
     "execution_count": 280,
     "metadata": {},
     "output_type": "execute_result"
    }
   ],
   "source": [
    "np.abs(x)"
   ]
  },
  {
   "cell_type": "code",
   "execution_count": 281,
   "id": "4349a0cc-b058-4808-ae3b-8719a3795ef5",
   "metadata": {},
   "outputs": [],
   "source": [
    "x = mpo_product_expectation(\n",
    "    cases[0][2].right_projected_symmetry_state,\n",
    "    b_tensors,\n",
    "    [solutions[1],]\n",
    ")"
   ]
  },
  {
   "cell_type": "code",
   "execution_count": 282,
   "id": "9129ba7f-e039-471b-b562-fb383431576b",
   "metadata": {},
   "outputs": [
    {
     "data": {
      "text/plain": [
       "1.417390314167134"
      ]
     },
     "execution_count": 282,
     "metadata": {},
     "output_type": "execute_result"
    }
   ],
   "source": [
    "np.abs(x)"
   ]
  },
  {
   "cell_type": "code",
   "execution_count": 283,
   "id": "a203e1fe-88a0-446a-9a9c-03ce63301d42",
   "metadata": {},
   "outputs": [],
   "source": [
    "x = mpo_product_expectation(\n",
    "    cases[0][3].right_projected_symmetry_state,\n",
    "    b_tensors,\n",
    "    [solutions[2],]\n",
    ")"
   ]
  },
  {
   "cell_type": "code",
   "execution_count": 284,
   "id": "a95ecf3c-0d37-42d2-8a47-12c46ae082a7",
   "metadata": {},
   "outputs": [
    {
     "data": {
      "text/plain": [
       "1.4174708015844313"
      ]
     },
     "execution_count": 284,
     "metadata": {},
     "output_type": "execute_result"
    }
   ],
   "source": [
    "np.abs(x)"
   ]
  },
  {
   "cell_type": "code",
   "execution_count": 285,
   "id": "23e62c10-6c32-4ee4-9cde-ac7f05c69d7f",
   "metadata": {},
   "outputs": [],
   "source": [
    "from itertools import combinations"
   ]
  },
  {
   "cell_type": "code",
   "execution_count": 286,
   "id": "d1cd215b-c62c-405e-9adc-9a97db7142e2",
   "metadata": {},
   "outputs": [],
   "source": [
    "symmetry_combination_labels = list(combinations(symmetry_labels, 2))"
   ]
  },
  {
   "cell_type": "code",
   "execution_count": 287,
   "id": "45a081ff-eb82-4ff5-9700-55f11824f366",
   "metadata": {},
   "outputs": [
    {
     "data": {
      "text/plain": [
       "[('II', 'IX'),\n",
       " ('II', 'XI'),\n",
       " ('II', 'XX'),\n",
       " ('IX', 'XI'),\n",
       " ('IX', 'XX'),\n",
       " ('XI', 'XX')]"
      ]
     },
     "execution_count": 287,
     "metadata": {},
     "output_type": "execute_result"
    }
   ],
   "source": [
    "symmetry_combination_labels"
   ]
  },
  {
   "cell_type": "code",
   "execution_count": 288,
   "id": "aab20cf0-ae51-4603-9192-5ba0741b6a6d",
   "metadata": {},
   "outputs": [],
   "source": [
    "e, a, b, c = symmetry_labels"
   ]
  },
  {
   "cell_type": "code",
   "execution_count": 289,
   "id": "955bfb99-9c73-4794-b14e-f62f7872abe5",
   "metadata": {},
   "outputs": [],
   "source": [
    "group_products = [\n",
    "    (a, b, c),\n",
    "    (b, a, c),\n",
    "    (a, c, b),\n",
    "    (c, a, b),\n",
    "    (c, b, a),\n",
    "    (b, c, a)\n",
    "]"
   ]
  },
  {
   "cell_type": "code",
   "execution_count": 290,
   "id": "c4e31782-a3ba-47d9-b796-8ed299ed362d",
   "metadata": {},
   "outputs": [],
   "source": [
    "solutions_dict = {\n",
    "    v: k for v, k in zip(symmetry_labels[1:], solutions)\n",
    "}"
   ]
  },
  {
   "cell_type": "code",
   "execution_count": 291,
   "id": "dfe6944c-1441-4e6c-a91e-677ded785725",
   "metadata": {},
   "outputs": [],
   "source": [
    "b_tensors = [\n",
    "    cases[0][0].psi.get_B(i)\n",
    "    for i in range(test_case.right_symmetry_index + 1, test_case.right_symmetry_index + 1 + num_sites)\n",
    "]"
   ]
  },
  {
   "cell_type": "code",
   "execution_count": 292,
   "id": "a1d17866-136e-4935-b55a-10f8822b044b",
   "metadata": {},
   "outputs": [],
   "source": [
    "phases = [\n",
    "    proj_rep_phase(\n",
    "        cases[0][0].right_projected_symmetry_state,\n",
    "        b_tensors,\n",
    "        solutions_dict[l1],\n",
    "        solutions_dict[l2],\n",
    "        solutions_dict[l3],\n",
    "    )\n",
    "    for l1, l2, l3 in group_products\n",
    "]"
   ]
  },
  {
   "cell_type": "code",
   "execution_count": 293,
   "id": "b23583a9-b3ee-4666-8bcb-c7f82fec6b84",
   "metadata": {},
   "outputs": [
    {
     "data": {
      "text/plain": [
       "[1.0069689173351979,\n",
       " 1.0056861878510142,\n",
       " 1.0067224130543901,\n",
       " 1.006026617658322,\n",
       " 1.006377830666435,\n",
       " 1.006726578070437]"
      ]
     },
     "execution_count": 293,
     "metadata": {},
     "output_type": "execute_result"
    }
   ],
   "source": [
    "[np.abs(ph) for ph in phases]"
   ]
  },
  {
   "cell_type": "code",
   "execution_count": 294,
   "id": "588e9857-ffdf-45a2-bb63-9a7267cdfe2d",
   "metadata": {},
   "outputs": [
    {
     "data": {
      "text/plain": [
       "[(-0.996741466541381+0.1431532373233583j),\n",
       " (0.9954795777334863-0.14291647473214972j),\n",
       " (-0.8897192122284552-0.4710517384933756j),\n",
       " (0.8890974245895436+0.4707391262953234j),\n",
       " (-0.5058740856100878-0.8699929583422138j),\n",
       " (0.5060830637503276+0.8702748620858204j)]"
      ]
     },
     "execution_count": 294,
     "metadata": {},
     "output_type": "execute_result"
    }
   ],
   "source": [
    "phases"
   ]
  },
  {
   "cell_type": "code",
   "execution_count": 296,
   "id": "3b9fbb8b-0615-4570-a6f2-16c3a0d8c50d",
   "metadata": {},
   "outputs": [
    {
     "data": {
      "text/plain": [
       "(-1.001275475387603+5.472351861681923e-05j)"
      ]
     },
     "execution_count": 296,
     "metadata": {},
     "output_type": "execute_result"
    }
   ],
   "source": [
    "phases[0]/phases[1]"
   ]
  },
  {
   "cell_type": "code",
   "execution_count": 297,
   "id": "ffee5c62-83f1-4c13-83b4-1d75a5565198",
   "metadata": {},
   "outputs": [
    {
     "data": {
      "text/plain": [
       "(-1.0006916271170057+1.4580794377023187e-05j)"
      ]
     },
     "execution_count": 297,
     "metadata": {},
     "output_type": "execute_result"
    }
   ],
   "source": [
    "phases[2]/phases[3]"
   ]
  },
  {
   "cell_type": "code",
   "execution_count": 298,
   "id": "d3ca38fc-7647-46a3-a192-fe2dfaaf7f77",
   "metadata": {},
   "outputs": [
    {
     "data": {
      "text/plain": [
       "(-0.9996535820500346-3.867959911262809e-05j)"
      ]
     },
     "execution_count": 298,
     "metadata": {},
     "output_type": "execute_result"
    }
   ],
   "source": [
    "phases[4]/phases[5]"
   ]
  },
  {
   "cell_type": "markdown",
   "id": "b603ab73-0628-4657-b84e-563a051b6299",
   "metadata": {},
   "source": [
    "# Sweep"
   ]
  },
  {
   "cell_type": "code",
   "execution_count": 300,
   "id": "00969949-e4ad-495b-842a-d91d10f0d265",
   "metadata": {},
   "outputs": [],
   "source": [
    "num_sites = 6"
   ]
  },
  {
   "cell_type": "code",
   "execution_count": 301,
   "id": "b13dc43d-9179-4004-a05a-2c7f754f772f",
   "metadata": {},
   "outputs": [],
   "source": [
    "unitarity_learning_rate = 1\n",
    "overlap_learning_rate = 10\n",
    "\n",
    "adam_params = (1e-3, 0.4, 0.4)"
   ]
  },
  {
   "cell_type": "code",
   "execution_count": 302,
   "id": "cfde7fc5-bee2-4027-89ed-d400d9456bd1",
   "metadata": {},
   "outputs": [],
   "source": [
    "total_dimension = 2**num_sites"
   ]
  },
  {
   "cell_type": "code",
   "execution_count": 303,
   "id": "0ae39dca-ec8c-4cd5-9bce-a92601ecf8eb",
   "metadata": {},
   "outputs": [],
   "source": [
    "num_iterations = 1000"
   ]
  },
  {
   "cell_type": "code",
   "execution_count": 304,
   "id": "0a9d0c08-3909-422e-bef4-5915fd5a9a02",
   "metadata": {},
   "outputs": [],
   "source": [
    "bond_dimension=5"
   ]
  },
  {
   "cell_type": "code",
   "execution_count": 305,
   "id": "9ac6225e-e8d2-4ca7-9b6b-6de9acd3986c",
   "metadata": {},
   "outputs": [],
   "source": [
    "physical_dims = [2,]*num_sites\n",
    "virtual_dims = (\n",
    "    [(None, bond_dimension),] +\n",
    "    [(bond_dimension, bond_dimension)]*(num_sites - 2) +\n",
    "    [(bond_dimension, None),]\n",
    ")"
   ]
  },
  {
   "cell_type": "code",
   "execution_count": 307,
   "id": "e6a61a68-d56b-4e94-991c-bc13e665147c",
   "metadata": {},
   "outputs": [
    {
     "name": "stdout",
     "output_type": "stream",
     "text": [
      "0\n",
      "1\n",
      "2\n",
      "3\n",
      "4\n",
      "5\n",
      "6\n",
      "7\n",
      "8\n",
      "9\n",
      "10\n",
      "11\n",
      "12\n",
      "13\n",
      "14\n",
      "15\n",
      "16\n",
      "17\n",
      "18\n",
      "19\n",
      "20\n"
     ]
    }
   ],
   "source": [
    "solutions = list()\n",
    "unitarity_scores = list()\n",
    "overlap_scores = list()\n",
    "\n",
    "for i, l in enumerate(cases):\n",
    "    print(i)\n",
    "\n",
    "    solutions.append(list())\n",
    "    unitarity_scores.append(list())\n",
    "    overlap_scores.append(list())\n",
    "    \n",
    "    for c in l[1:]:\n",
    "        mpo_tensors = get_random_mpo_tensors(physical_dims, virtual_dims)\n",
    "        rescale_mpo_tensors(mpo_tensors, 1)\n",
    "    \n",
    "        b_tensors = [\n",
    "            c.psi.get_B(i)\n",
    "            for i in range(test_case.right_symmetry_index + 1, test_case.right_symmetry_index + 1 + num_sites)\n",
    "        ]\n",
    "    \n",
    "        adam_optimizers = [\n",
    "            AdamTenpy(*adam_params) for _ in range(num_sites)\n",
    "        ]\n",
    "    \n",
    "        current_unitarity_scores = list()\n",
    "        current_overlap_scores = list()\n",
    "\n",
    "        left_env = c.right_projected_symmetry_state\n",
    "        target = np.power(c.symmetry_transfer_matrix_singular_vals[0], -1/2)\n",
    "\n",
    "        for _ in range(num_iterations):\n",
    "            unitarity, overlap = mpo_gradient_descent_sweep(\n",
    "                mpo_tensors,\n",
    "                b_tensors,\n",
    "                unitarity_learning_rate,\n",
    "                overlap_learning_rate,\n",
    "                target,\n",
    "                c.right_projected_symmetry_state,\n",
    "                adam_optimizers\n",
    "            )\n",
    "        \n",
    "            current_unitarity_scores.append(unitarity)\n",
    "            current_overlap_scores.append(overlap)\n",
    "    \n",
    "        solutions[-1].append(mpo_tensors)\n",
    "        unitarity_scores[-1].append(current_unitarity_scores)\n",
    "        overlap_scores[-1].append(current_overlap_scores)"
   ]
  },
  {
   "cell_type": "code",
   "execution_count": 308,
   "id": "d65c875d-2b00-4b25-b3a2-54264a829894",
   "metadata": {},
   "outputs": [],
   "source": [
    "phases = list()\n",
    "\n",
    "for l_c, l_s in zip(cases, solutions):\n",
    "\n",
    "    solutions.append(list())\n",
    "\n",
    "    solutions_dict = {\n",
    "        v: k for v, k in zip(symmetry_labels[1:], l_s)\n",
    "    }\n",
    "\n",
    "    b_tensors = [\n",
    "        l_c[0].psi.get_B(i)\n",
    "        for i in range(test_case.right_symmetry_index + 1, test_case.right_symmetry_index + 1 + num_sites)\n",
    "    ]\n",
    "\n",
    "    current_phases = [\n",
    "        proj_rep_phase(\n",
    "            l_c[0].right_projected_symmetry_state,\n",
    "            b_tensors,\n",
    "            solutions_dict[l1],\n",
    "            solutions_dict[l2],\n",
    "            solutions_dict[l3],\n",
    "        )\n",
    "        for l1, l2, l3 in group_products\n",
    "    ]\n",
    "\n",
    "    phases.append(current_phases)"
   ]
  },
  {
   "cell_type": "code",
   "execution_count": 309,
   "id": "7a8d1e37-daee-49ef-b161-173ed886aac3",
   "metadata": {},
   "outputs": [],
   "source": [
    "phases_array = np.array(phases)"
   ]
  },
  {
   "cell_type": "code",
   "execution_count": 310,
   "id": "3a2bbffb-5cd7-43de-b106-402e20d662df",
   "metadata": {},
   "outputs": [],
   "source": [
    "gauge_invariant_phases = phases_array[:,::2]/phases_array[:,1::2]"
   ]
  },
  {
   "cell_type": "code",
   "execution_count": 312,
   "id": "fd6845f9-15dc-4c33-b036-45fcdc253a8f",
   "metadata": {},
   "outputs": [
    {
     "data": {
      "text/plain": [
       "array([[-1.002-0.001j, -1.004+0.003j, -0.996+0.001j],\n",
       "       [-0.999-0.j   , -0.996-0.003j, -1.001-0.001j],\n",
       "       [-0.997-0.001j, -0.999-0.j   , -0.997-0.j   ],\n",
       "       [-1.003+0.001j, -1.   +0.001j, -1.   -0.j   ],\n",
       "       [-1.003+0.002j, -0.988+0.001j, -1.004-0.004j],\n",
       "       [-1.001+0.001j, -1.001+0.002j, -1.   +0.001j],\n",
       "       [-1.003+0.002j, -0.998+0.003j, -0.999+0.002j],\n",
       "       [-1.   +0.001j, -1.002+0.j   , -1.   +0.001j],\n",
       "       [-0.996-0.j   , -0.998-0.j   , -0.999-0.006j],\n",
       "       [-1.01 -0.001j, -1.012-0.002j, -0.999-0.002j],\n",
       "       [-0.919+0.025j, -1.012-0.007j, -0.896+0.013j],\n",
       "       [ 1.004+0.006j,  1.006+0.009j,  0.993-0.002j],\n",
       "       [ 1.01 -0.001j,  0.992+0.009j,  1.   +0.012j],\n",
       "       [ 1.002-0.005j,  1.005+0.j   ,  1.001-0.003j],\n",
       "       [ 0.998+0.006j,  1.003+0.j   ,  0.989+0.005j],\n",
       "       [ 0.986+0.023j,  0.999+0.011j,  0.979-0.01j ],\n",
       "       [ 1.009+0.004j,  1.007-0.004j,  0.991-0.014j],\n",
       "       [ 0.993+0.002j,  0.997-0.004j,  1.013-0.002j],\n",
       "       [ 0.999-0.006j,  0.995-0.003j,  1.008+0.005j],\n",
       "       [ 0.984-0.003j,  1.005-0.014j,  0.989+0.008j],\n",
       "       [ 1.001+0.003j,  1.002+0.002j,  1.003-0.002j]])"
      ]
     },
     "execution_count": 312,
     "metadata": {},
     "output_type": "execute_result"
    }
   ],
   "source": [
    "np.round(gauge_invariant_phases, 3)"
   ]
  },
  {
   "cell_type": "code",
   "execution_count": 313,
   "id": "5cd62572-3936-4895-99a4-2f0e660337c6",
   "metadata": {},
   "outputs": [
    {
     "data": {
      "text/plain": [
       "array([[-1.002-0.001j, -1.004+0.003j, -0.996+0.001j],\n",
       "       [-0.999-0.j   , -0.996-0.003j, -1.001-0.001j],\n",
       "       [-0.997-0.001j, -0.999-0.j   , -0.997-0.j   ],\n",
       "       [-1.003+0.001j, -1.   +0.001j, -1.   -0.j   ],\n",
       "       [-1.003+0.002j, -0.988+0.001j, -1.004-0.004j],\n",
       "       [-1.001+0.001j, -1.001+0.002j, -1.   +0.001j],\n",
       "       [-1.003+0.002j, -0.998+0.003j, -0.999+0.002j],\n",
       "       [-1.   +0.001j, -1.002+0.j   , -1.   +0.001j],\n",
       "       [-0.996-0.j   , -0.998-0.j   , -0.999-0.006j],\n",
       "       [-1.01 -0.001j, -1.012-0.002j, -0.999-0.002j]])"
      ]
     },
     "execution_count": 313,
     "metadata": {},
     "output_type": "execute_result"
    }
   ],
   "source": [
    "np.round(gauge_invariant_phases, 3)[:10]"
   ]
  },
  {
   "cell_type": "code",
   "execution_count": 314,
   "id": "bc990ac6-08fc-4a9f-853f-053f591393b8",
   "metadata": {},
   "outputs": [
    {
     "data": {
      "text/plain": [
       "array([[1.004+0.006j, 1.006+0.009j, 0.993-0.002j],\n",
       "       [1.01 -0.001j, 0.992+0.009j, 1.   +0.012j],\n",
       "       [1.002-0.005j, 1.005+0.j   , 1.001-0.003j],\n",
       "       [0.998+0.006j, 1.003+0.j   , 0.989+0.005j],\n",
       "       [0.986+0.023j, 0.999+0.011j, 0.979-0.01j ],\n",
       "       [1.009+0.004j, 1.007-0.004j, 0.991-0.014j],\n",
       "       [0.993+0.002j, 0.997-0.004j, 1.013-0.002j],\n",
       "       [0.999-0.006j, 0.995-0.003j, 1.008+0.005j],\n",
       "       [0.984-0.003j, 1.005-0.014j, 0.989+0.008j],\n",
       "       [1.001+0.003j, 1.002+0.002j, 1.003-0.002j]])"
      ]
     },
     "execution_count": 314,
     "metadata": {},
     "output_type": "execute_result"
    }
   ],
   "source": [
    "np.round(gauge_invariant_phases, 3)[11:]"
   ]
  },
  {
   "cell_type": "markdown",
   "id": "aed49dc6-c6b7-40c4-a5b7-e250bdfce9b0",
   "metadata": {},
   "source": [
    "# Conclusions\n",
    "* It works! Could be more precise perhaps with better optimization, but it works!"
   ]
  },
  {
   "cell_type": "code",
   "execution_count": null,
   "id": "a491044e-f888-4b99-99d4-35e76e55f4a6",
   "metadata": {},
   "outputs": [],
   "source": []
  }
 ],
 "metadata": {
  "kernelspec": {
   "display_name": "num_spt_venv_p11",
   "language": "python",
   "name": "num_spt_venv_p11"
  },
  "language_info": {
   "codemirror_mode": {
    "name": "ipython",
    "version": 3
   },
   "file_extension": ".py",
   "mimetype": "text/x-python",
   "name": "python",
   "nbconvert_exporter": "python",
   "pygments_lexer": "ipython3",
   "version": "3.11.9"
  }
 },
 "nbformat": 4,
 "nbformat_minor": 5
}
