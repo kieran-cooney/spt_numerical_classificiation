{
 "cells": [
  {
   "cell_type": "markdown",
   "id": "9603afff-5204-44c1-92a2-6c7e09ad20f6",
   "metadata": {},
   "source": [
    "# Hyperbolic unitary overlap cost function ADAM gradient descent on two sided MPO - SPT extraction sweep\n",
    "\n",
    "Created 20/11/2024\n",
    "\n",
    "Objectives:\n",
    "* Apply ADAM gradient descent algorithm to an MPO and extract SPT phase for two sided MPO, i.e. unitaries on either side of the symmetry action."
   ]
  },
  {
   "cell_type": "markdown",
   "id": "9ad0db4d-805c-4403-9d48-c71d523d572f",
   "metadata": {},
   "source": [
    "# Package imports"
   ]
  },
  {
   "cell_type": "code",
   "execution_count": 1,
   "id": "ecb41ea3-927f-4efa-aebe-ce15784aa037",
   "metadata": {},
   "outputs": [],
   "source": [
    "import sys"
   ]
  },
  {
   "cell_type": "code",
   "execution_count": 2,
   "id": "0375bd38-12e1-417a-908a-13fb540081f5",
   "metadata": {},
   "outputs": [],
   "source": [
    "sys.path.append(\"../../\")"
   ]
  },
  {
   "cell_type": "code",
   "execution_count": 3,
   "id": "4a525ec6-f0c8-47ee-8b0b-345bf0ef8bd3",
   "metadata": {},
   "outputs": [],
   "source": [
    "import h5py\n",
    "from tenpy.tools import hdf5_io\n",
    "import tenpy\n",
    "import tenpy.linalg.np_conserved as npc\n",
    "\n",
    "import os"
   ]
  },
  {
   "cell_type": "code",
   "execution_count": 4,
   "id": "b22092ac-9191-4a2d-b568-8680c3687185",
   "metadata": {},
   "outputs": [],
   "source": [
    "from functools import reduce"
   ]
  },
  {
   "cell_type": "code",
   "execution_count": 5,
   "id": "214f688a-c657-4810-b4d1-b1247deff62c",
   "metadata": {},
   "outputs": [],
   "source": [
    "import numpy as np\n",
    "import pandas as pd\n",
    "\n",
    "rng = np.random.default_rng()\n",
    "import matplotlib.pyplot as plt"
   ]
  },
  {
   "cell_type": "code",
   "execution_count": 6,
   "id": "b7461fe3-41a3-492f-b018-8e32e27a7300",
   "metadata": {},
   "outputs": [],
   "source": [
    "import re"
   ]
  },
  {
   "cell_type": "code",
   "execution_count": 40,
   "id": "aeb48fbe-9ee7-4f88-9a91-b52643b95a4f",
   "metadata": {},
   "outputs": [],
   "source": [
    "from SPTOptimization.utils import (\n",
    "    get_right_identity_environment_from_tp_tensor,\n",
    "    get_left_identity_environment_from_tp_tensor,\n",
    "    to_npc_array\n",
    ")\n",
    "\n",
    "from SPTOptimization.SymmetryActionWithBoundaryUnitaries import SymmetryActionWithBoundaryUnitaries"
   ]
  },
  {
   "cell_type": "markdown",
   "id": "c69a8a47-e298-4c4c-97f7-a6157da4e15f",
   "metadata": {},
   "source": [
    "# Load data"
   ]
  },
  {
   "cell_type": "code",
   "execution_count": 8,
   "id": "c196fe74-d78a-4205-a41a-acfa510831d1",
   "metadata": {},
   "outputs": [],
   "source": [
    "DATA_DIR = r\"../../data/transverse_cluster_200_site_dmrg\""
   ]
  },
  {
   "cell_type": "code",
   "execution_count": 9,
   "id": "e1a89621-91df-4f40-adef-f16acbdea3e9",
   "metadata": {},
   "outputs": [],
   "source": [
    "loaded_data = list()\n",
    "\n",
    "for local_file_name in os.listdir(DATA_DIR):\n",
    "    f_name = r\"{}/{}\".format(DATA_DIR, local_file_name, ignore_unknown=False)\n",
    "    with h5py.File(f_name, 'r') as f:\n",
    "        data = hdf5_io.load_from_hdf5(f)\n",
    "        loaded_data.append(data)"
   ]
  },
  {
   "cell_type": "code",
   "execution_count": 10,
   "id": "b805dcff-dfda-4ca4-ba53-c6a3d6822dd4",
   "metadata": {},
   "outputs": [],
   "source": [
    "b_parameters = sorted(list(d['paramters']['B'] for d in loaded_data))"
   ]
  },
  {
   "cell_type": "code",
   "execution_count": 11,
   "id": "827a26d6-a667-4828-bf55-db731e15d89d",
   "metadata": {},
   "outputs": [],
   "source": [
    "psi_dict = dict()"
   ]
  },
  {
   "cell_type": "code",
   "execution_count": 12,
   "id": "e0e8c819-03d8-4a47-b853-365d65364ac7",
   "metadata": {},
   "outputs": [],
   "source": [
    "for b in b_parameters:\n",
    "    psi = next(\n",
    "        d['wavefunction']\n",
    "        for d in loaded_data\n",
    "        if d['paramters']['B'] == b\n",
    "    )\n",
    "\n",
    "    rounded_b = round(b, 1)\n",
    "    psi_dict[rounded_b] = psi"
   ]
  },
  {
   "cell_type": "markdown",
   "id": "b4c1e616-c034-404b-b59e-196d1eaac475",
   "metadata": {},
   "source": [
    "# Definitons"
   ]
  },
  {
   "cell_type": "code",
   "execution_count": 13,
   "id": "62ec5614-6aca-465d-a562-f0f4fb98cac5",
   "metadata": {},
   "outputs": [],
   "source": [
    "np_I = np.array([[1,0],[0,1]])\n",
    "np_X = np.array([[0,1],[1,0]])\n",
    "np_Y = np.array([[0,-1j],[1j,0]])\n",
    "np_Z = np.array([[1,0],[0,-1]])"
   ]
  },
  {
   "cell_type": "code",
   "execution_count": 14,
   "id": "ddc01bac-517f-4922-9df0-28b400f70a3e",
   "metadata": {},
   "outputs": [],
   "source": [
    "symmetry_actions = [\n",
    "    [np_I, np_I],\n",
    "    [np_I, np_X],\n",
    "    [np_X, np_I],\n",
    "    [np_X, np_X]\n",
    "]"
   ]
  },
  {
   "cell_type": "code",
   "execution_count": 15,
   "id": "10721838-5776-4da8-9618-01dd30494f13",
   "metadata": {},
   "outputs": [],
   "source": [
    "symmetry_labels = [\n",
    "    'II',\n",
    "    'IX',\n",
    "    'XI',\n",
    "    'XX'\n",
    "]"
   ]
  },
  {
   "cell_type": "code",
   "execution_count": 16,
   "id": "a706b5a0-860a-4294-8b5b-bdbf9482fe28",
   "metadata": {},
   "outputs": [],
   "source": [
    "cases = [\n",
    "    [\n",
    "        SymmetryActionWithBoundaryUnitaries(\n",
    "            psi,\n",
    "            s*50,\n",
    "            left_boundary_unitaries=[np_I,]*3,\n",
    "            right_boundary_unitaries=[np_I,]*3\n",
    "        )\n",
    "        for s in symmetry_actions\n",
    "    ]\n",
    "    for psi in psi_dict.values()\n",
    "]"
   ]
  },
  {
   "cell_type": "code",
   "execution_count": 17,
   "id": "8e7ff810-32b3-4163-9b1b-ca96a282a7f5",
   "metadata": {},
   "outputs": [],
   "source": [
    "for l in cases:\n",
    "    for c in l:\n",
    "        c.compute_svd_approximate_expectation()"
   ]
  },
  {
   "cell_type": "code",
   "execution_count": 18,
   "id": "6bac53fa-b629-46fc-a145-f932a0af6f18",
   "metadata": {},
   "outputs": [],
   "source": [
    "left_trivial_leg_charge = tenpy.linalg.charges.LegCharge(\n",
    "    tenpy.linalg.charges.ChargeInfo([], []),\n",
    "    [0,1],\n",
    "    [[]],\n",
    "    qconj=1\n",
    ")"
   ]
  },
  {
   "cell_type": "code",
   "execution_count": 19,
   "id": "44f34cb7-0888-474b-9483-f4956951fc31",
   "metadata": {},
   "outputs": [],
   "source": [
    "right_trivial_leg_charge = tenpy.linalg.charges.LegCharge(\n",
    "    tenpy.linalg.charges.ChargeInfo([], []),\n",
    "    [0,1],\n",
    "    [[]],\n",
    "    qconj=-1\n",
    ")"
   ]
  },
  {
   "cell_type": "markdown",
   "id": "5ee06cdc-8577-460b-82cb-2110e47c931a",
   "metadata": {},
   "source": [
    "## Functions"
   ]
  },
  {
   "cell_type": "code",
   "execution_count": 20,
   "id": "f7500fa8-a1c6-45bf-949b-53a7526a5be9",
   "metadata": {},
   "outputs": [],
   "source": [
    "def get_physical_dim(tensor, p_label='p'):\n",
    "    index = tensor.get_leg_index(p_label)\n",
    "    dim = tensor.shape[index]\n",
    "    return dim"
   ]
  },
  {
   "cell_type": "code",
   "execution_count": 21,
   "id": "ba98ff84-8c5c-4f71-aa88-abbe2b839bff",
   "metadata": {},
   "outputs": [],
   "source": [
    "def mpo_frobenius_inner_product(mpo1_tensors, mpo2_tensors=None):\n",
    "    if mpo2_tensors is None:\n",
    "        mpo2_tensors = mpo1_tensors\n",
    "\n",
    "    w1 = mpo1_tensors[0]\n",
    "    dim = get_physical_dim(w1, p_label='p')\n",
    "    w2 = mpo2_tensors[0]\n",
    "\n",
    "    t = npc.tensordot(w1, w2.conj(), [['p', 'p*'], ['p*', 'p']])\n",
    "    #t /= dim\n",
    "\n",
    "    for w1, w2 in zip(mpo1_tensors[1:], mpo2_tensors[1:]):\n",
    "        dim = get_physical_dim(w1, p_label='p')\n",
    "\n",
    "        t = npc.tensordot(t, w1, [['vR', ], ['vL']])\n",
    "        t = npc.tensordot(t, w2.conj(), [['vR*', 'p', 'p*'], ['vL*', 'p*', 'p']])\n",
    "        #t /= dim\n",
    "\n",
    "    return t"
   ]
  },
  {
   "cell_type": "code",
   "execution_count": 22,
   "id": "2e202c02-6390-49eb-9b99-32147572b6fa",
   "metadata": {},
   "outputs": [],
   "source": [
    "def unitary_order_two_right_tensors(w_tensors):\n",
    "    out = list()\n",
    "\n",
    "    w = w_tensors[-1]\n",
    "    t = npc.tensordot(w, w.conj(), [['p', 'p*'], ['p*', 'p']])\n",
    "\n",
    "    out.append(t)\n",
    "\n",
    "    for w in w_tensors[-2:0:-1]:\n",
    "        t = npc.tensordot(t, w, [['vL',], ['vR']])\n",
    "        t = npc.tensordot(t, w.conj(), [['vL*', 'p', 'p*'], ['vR*', 'p*', 'p']])\n",
    "\n",
    "        out.append(t)\n",
    "\n",
    "    return out[::-1]"
   ]
  },
  {
   "cell_type": "code",
   "execution_count": 23,
   "id": "e12a7b85-584a-4b5c-8c12-039cc8752ca8",
   "metadata": {},
   "outputs": [],
   "source": [
    "def unitary_order_four_right_tensors(w_tensors):\n",
    "    out = list()\n",
    "\n",
    "    w = w_tensors[-1]\n",
    "    t = npc.tensordot(w, w.conj(), [['p',], ['p*',]])\n",
    "    t.ireplace_labels(['vL', 'vL*'], ['vL1', 'vL1*'])\n",
    "    t = npc.tensordot(t, w, [['p',], ['p*',]])\n",
    "    t = npc.tensordot(t, w.conj(), [['p', 'p*'], ['p*', 'p']])\n",
    "    \n",
    "    out.append(t)\n",
    "\n",
    "    for w in w_tensors[-2:0:-1]:\n",
    "        t = npc.tensordot(t, w, [['vL',], ['vR',]])\n",
    "        t = npc.tensordot(t, w.conj(), [['vL*', 'p'], ['vR*', 'p*']])\n",
    "\n",
    "        w = w.replace_label('vL', 'vL1')\n",
    "    \n",
    "        t = npc.tensordot(t, w, [['vL1', 'p',], ['vR', 'p*']])\n",
    "        t = npc.tensordot(t, w.conj(), [['vL1*', 'p', 'p*'], ['vR*', 'p*', 'p']])\n",
    "\n",
    "        out.append(t)\n",
    "\n",
    "    return out[::-1]"
   ]
  },
  {
   "cell_type": "code",
   "execution_count": 55,
   "id": "d16af878-4506-4fd0-8e37-92a6d7e1360d",
   "metadata": {},
   "outputs": [],
   "source": [
    "def overlap_right_tensors(w_tensors, b_tensors):\n",
    "    out = list()\n",
    "\n",
    "    t = get_right_identity_environment_from_tp_tensor(b_tensors[-1])\n",
    "\n",
    "    out.append(t)\n",
    "\n",
    "    # First site\n",
    "    b = b_tensors[-1]\n",
    "    w = w_tensors[-1]\n",
    "    \n",
    "    t = npc.tensordot(t, b, [['vL',], ['vR',]])\n",
    "    t = npc.tensordot(\n",
    "        t,\n",
    "        w.replace_label('vL', 'vLm'),\n",
    "        [['p',], ['p*',]]\n",
    "    )\n",
    "    t = npc.tensordot(t, b.conj(), [['p', 'vL*',], ['p*', 'vR*',]])\n",
    "\n",
    "    out.append(t)\n",
    "\n",
    "    # Inner sites\n",
    "    for w, b in zip(w_tensors[-2:0:-1], b_tensors[-2:0:-1]):\n",
    "        t = npc.tensordot(t, b, [['vL',], ['vR',]])\n",
    "        t = npc.tensordot(\n",
    "            t,\n",
    "            w.replace_label('vL', 'vLm'),\n",
    "            [['p', 'vLm'], ['p*', 'vR']]\n",
    "        )\n",
    "        t = npc.tensordot(t, b.conj(), [['p', 'vL*',], ['p*', 'vR*',]])\n",
    "    \n",
    "        out.append(t)\n",
    "\n",
    "    # Last site\n",
    "    b = b_tensors[0]\n",
    "    w = w_tensors[0]\n",
    "\n",
    "    t = npc.tensordot(t, b, [['vL',], ['vR',]])\n",
    "    t = npc.tensordot(\n",
    "        t,\n",
    "        w,\n",
    "        [['p', 'vLm'], ['p*', 'vR']]\n",
    "    )\n",
    "    t = npc.tensordot(t, b.conj(), [['p', 'vL*',], ['p*', 'vR*',]])\n",
    "\n",
    "    out.append(t)\n",
    "\n",
    "    return out[::-1]"
   ]
  },
  {
   "cell_type": "markdown",
   "id": "3b1fda53-6670-4188-b86e-d2809f353b43",
   "metadata": {},
   "source": [
    "### Initialize tensors"
   ]
  },
  {
   "cell_type": "code",
   "execution_count": 25,
   "id": "6663e659-fb23-426d-afc6-70a00d2984d3",
   "metadata": {},
   "outputs": [],
   "source": [
    "def rescale_mpo_tensors(mpo_tensors, new_norm):\n",
    "    num_sites = len(mpo_tensors)\n",
    "\n",
    "    old_norm = mpo_frobenius_inner_product(mpo_tensors).real\n",
    "    \n",
    "    scale_factor = np.power(\n",
    "        new_norm/old_norm,\n",
    "        1/(2*num_sites)\n",
    "    )\n",
    "\n",
    "    for i in range(num_sites):\n",
    "        mpo_tensors[i] = scale_factor*mpo_tensors[i]"
   ]
  },
  {
   "cell_type": "code",
   "execution_count": 26,
   "id": "4c09d507-0f5d-486e-bb5e-22f8d35a9fc3",
   "metadata": {},
   "outputs": [],
   "source": [
    "def generate_random_w_tensor(physical_dim, left_virtual_dim=None,\n",
    "                             right_virtual_dim=None):\n",
    "\n",
    "    if (left_virtual_dim is None) and (right_virtual_dim is None):\n",
    "        dims = (physical_dim, physical_dim)\n",
    "    elif (left_virtual_dim is None):\n",
    "        dims = (physical_dim, physical_dim, right_virtual_dim)\n",
    "    elif (right_virtual_dim is None):\n",
    "        dims = (physical_dim, physical_dim, left_virtual_dim)\n",
    "    else: \n",
    "        dims = (\n",
    "            physical_dim,\n",
    "            physical_dim,\n",
    "            left_virtual_dim,\n",
    "            right_virtual_dim\n",
    "        )\n",
    "    \n",
    "    X1 = rng.normal(size=dims)\n",
    "    X2 = 1j*rng.normal(size=dims)\n",
    "    X = X1 + X2\n",
    "\n",
    "        \n",
    "    if (left_virtual_dim is None) and (right_virtual_dim is None):\n",
    "        out = npc.Array.from_ndarray_trivial(X, labels=['p', 'p*'])\n",
    "    elif right_virtual_dim is None:\n",
    "        out = npc.Array.from_ndarray_trivial(X, labels=['p', 'p*', 'vL'])\n",
    "    elif left_virtual_dim is None:\n",
    "        out = npc.Array.from_ndarray_trivial(X, labels=['p', 'p*', 'vR'])\n",
    "    else:\n",
    "        out = npc.Array.from_ndarray_trivial(\n",
    "            X,\n",
    "            labels=['p', 'p*', 'vL', 'vR']\n",
    "        )\n",
    "\n",
    "    return out"
   ]
  },
  {
   "cell_type": "code",
   "execution_count": 27,
   "id": "e779de84-d12b-4de3-b9d8-004bdf6e47bd",
   "metadata": {},
   "outputs": [],
   "source": [
    "def get_random_mpo_tensors(num_sites, norm=None):\n",
    "    \"\"\"\n",
    "    Needs more arguments\n",
    "    \"\"\"\n",
    "\n",
    "    w = generate_random_w_tensor(edge_dims)\n",
    "    w_tensor = npc.Array.from_ndarray_trivial(\n",
    "        w,\n",
    "        labels=['p', 'p*', 'vR']\n",
    "    )\n",
    "\n",
    "    w_tensors = [w_tensor,]\n",
    "\n",
    "    for _ in range(num_sites-2):\n",
    "        w = generate_random_w_tensor(inner_dims)\n",
    "        w_tensor = npc.Array.from_ndarray_trivial(w, labels=['p', 'p*', 'vL', 'vR'])\n",
    "        \n",
    "        w_tensors.append(w_tensor)\n",
    "\n",
    "    w = generate_random_w_tensor(edge_dims)\n",
    "    w_tensor = npc.Array.from_ndarray_trivial(\n",
    "        w,\n",
    "        labels=['p', 'p*', 'vL']\n",
    "    )\n",
    "    w_tensors.append(w_tensor)\n",
    "\n",
    "    if norm is not None:\n",
    "        rescale_mpo_tensors(w_tensors, norm)\n",
    "\n",
    "    return w_tensors"
   ]
  },
  {
   "cell_type": "code",
   "execution_count": 28,
   "id": "3ffba566-177e-46a4-bb02-953f6a6c8250",
   "metadata": {},
   "outputs": [],
   "source": [
    "def get_identity_w_tensor(physical_dim, left_virtual_dim=None, right_virtual_dim=None):\n",
    "    diagonal = np.ones(physical_dim, dtype='complex')\n",
    "    identity_matrix = np.diag(diagonal)\n",
    "    \n",
    "    if (left_virtual_dim is None) and (right_virtual_dim is None):\n",
    "        w_tensor = npc.Array.from_ndarray_trivial(\n",
    "            identity_matrix,\n",
    "            labels=['p', 'p*']\n",
    "        )\n",
    "    elif right_virtual_dim is None:\n",
    "        X = np.zeros(\n",
    "            (physical_dim, physical_dim, left_virtual_dim),\n",
    "            dtype='complex'\n",
    "        )\n",
    "        X[...,0] = identity_matrix\n",
    "        w_tensor = npc.Array.from_ndarray_trivial(\n",
    "            X,\n",
    "            labels=['p', 'p*', 'vL']\n",
    "        )\n",
    "    elif left_virtual_dim is None:\n",
    "        X = np.zeros(\n",
    "            (physical_dim, physical_dim, right_virtual_dim),\n",
    "            dtype='complex'\n",
    "        )\n",
    "        X[...,0] = identity_matrix\n",
    "        w_tensor = npc.Array.from_ndarray_trivial(\n",
    "            X,\n",
    "            labels=['p', 'p*', 'vR']\n",
    "        )\n",
    "    else:\n",
    "        X = np.zeros(\n",
    "            (physical_dim, physical_dim, left_virtual_dim, right_virtual_dim),\n",
    "            dtype='complex'\n",
    "        )\n",
    "        X[...,0,0] = identity_matrix\n",
    "        w_tensor = npc.Array.from_ndarray_trivial(\n",
    "            X,\n",
    "            labels=['p', 'p*', 'vL', 'vR']\n",
    "        )\n",
    "\n",
    "    return w_tensor"
   ]
  },
  {
   "cell_type": "code",
   "execution_count": 29,
   "id": "0e11bd70-f8d2-4254-870c-75620f9da400",
   "metadata": {},
   "outputs": [],
   "source": [
    "def get_random_mpo_tensors(physical_dims, virtual_dims):\n",
    "    \"\"\"\n",
    "    Could fold in with get_identity_mpo_tensors\n",
    "    \"\"\"\n",
    "\n",
    "    w_tensors = [\n",
    "        generate_random_w_tensor(p_dim, *v_dims)\n",
    "        for p_dim, v_dims in zip(physical_dims, virtual_dims)\n",
    "    ]\n",
    "\n",
    "    return w_tensors"
   ]
  },
  {
   "cell_type": "code",
   "execution_count": 30,
   "id": "416a67d2-bf88-4655-8ffb-c7d7e0afff98",
   "metadata": {},
   "outputs": [],
   "source": [
    "def get_identity_mpo_tensors(physical_dims, virtual_dims):\n",
    "    \"\"\"\n",
    "    Needs more comments, docs!\n",
    "\n",
    "    Often physical dims, virtual dims will be the same, so could add\n",
    "    optional behaviour...\n",
    "    \"\"\"\n",
    "\n",
    "    w_tensors = [\n",
    "        get_identity_w_tensor(p_dim, *v_dims)\n",
    "        for p_dim, v_dims in zip(physical_dims, virtual_dims)\n",
    "    ]\n",
    "\n",
    "    return w_tensors"
   ]
  },
  {
   "cell_type": "markdown",
   "id": "e57bf0ac-6b4d-4988-98e7-fe319d6166c1",
   "metadata": {},
   "source": [
    "### ADAM functions"
   ]
  },
  {
   "cell_type": "code",
   "execution_count": 31,
   "id": "7ebe448b-1c37-4bb0-ba43-72ee28829714",
   "metadata": {},
   "outputs": [],
   "source": [
    "def squared_components(X):\n",
    "    r, i = (X.real, X.imag)\n",
    "    return r**2 + 1j*(i**2)"
   ]
  },
  {
   "cell_type": "code",
   "execution_count": 32,
   "id": "31b74760-623b-4dd4-a319-24e51b4f08f9",
   "metadata": {},
   "outputs": [],
   "source": [
    "def square_root_components(X):\n",
    "    r, i = (X.real, X.imag)\n",
    "    return np.sqrt(r) + 1j*np.sqrt(i)"
   ]
  },
  {
   "cell_type": "code",
   "execution_count": 33,
   "id": "91bff15c-8ecf-44a9-995f-b7f4b8f0615c",
   "metadata": {},
   "outputs": [],
   "source": [
    "class AdamTenpy:\n",
    "    def __init__(self, alpha=0.001, beta_1=0.9, beta_2=0.999, epsilon=1e-8):\n",
    "        self.alpha = alpha\n",
    "        self.beta_1 = beta_1\n",
    "        self.beta_2 = beta_2\n",
    "        self.epsilon = epsilon\n",
    "\n",
    "        self.moment_1 = None\n",
    "        self.moment_2 = None\n",
    "\n",
    "    def update(self, grad):\n",
    "        if self.moment_1 is None:\n",
    "            self.moment_1 = (1-self.beta_1)*grad\n",
    "        else:\n",
    "            self.moment_1 = self.beta_1*self.moment_1 + (1-self.beta_1)*grad\n",
    "\n",
    "        grad_squared = grad.unary_blockwise(squared_components)\n",
    "        if self.moment_2 is None:\n",
    "            self.moment_2 = (1-self.beta_2)*grad_squared\n",
    "        else:\n",
    "            self.moment_2 = self.beta_2*self.moment_2 + (1-self.beta_2)*grad_squared\n",
    "\n",
    "        self.moment_1 /= (1-self.beta_1)\n",
    "        self.moment_2 /= (1-self.beta_2)\n",
    "\n",
    "        out_grad_denom = (\n",
    "            self.moment_2\n",
    "            .unary_blockwise(square_root_components)\n",
    "            .unary_blockwise(lambda x: x + (1+1j)*self.epsilon)\n",
    "        )\n",
    "\n",
    "        out_grad = (\n",
    "            self.moment_1\n",
    "            .binary_blockwise(np.divide, out_grad_denom)\n",
    "        )\n",
    "\n",
    "        return self.alpha*out_grad"
   ]
  },
  {
   "cell_type": "markdown",
   "id": "c2919303-4883-4327-9b56-743be48ebb53",
   "metadata": {},
   "source": [
    "### Sweep function"
   ]
  },
  {
   "cell_type": "code",
   "execution_count": 34,
   "id": "94c08580-6ab0-4501-8e41-1517ea118eb5",
   "metadata": {},
   "outputs": [],
   "source": [
    "def mpo_tensor_raw_to_gradient(raw_mpo_tensor, gradient_target_tensor):\n",
    "    \"\"\"\n",
    "    Update raw_mpo_tensor calculated to be the gradient by changing leg names\n",
    "    as neeeded so can be easily and consistently added to\n",
    "    gradient_target_tensor.\n",
    "    \"\"\"\n",
    "    leg_labels = raw_mpo_tensor.get_leg_labels()\n",
    "\n",
    "    # First update the virtual legs\n",
    "    old_new_leg_label_pairs = [\n",
    "        ('vL*', 'vR'),\n",
    "        ('vR*', 'vL'),\n",
    "        ('vL1*', 'vR'),\n",
    "        ('vR1*', 'vL'),\n",
    "        ('vLm', 'vR'),\n",
    "        ('vRm', 'vL'),\n",
    "    ]\n",
    "\n",
    "    for old, new in old_new_leg_label_pairs:\n",
    "        if old in leg_labels:\n",
    "            raw_mpo_tensor.ireplace_label(old, new)\n",
    "\n",
    "    # Then create new array to get the physical legs correct.\n",
    "    # Is this consistent? Should set order of leg labels on raw_mpo_tensor\n",
    "    # before casting to array?\n",
    "    out = npc.Array.from_ndarray_trivial(\n",
    "        raw_mpo_tensor.to_ndarray(),\n",
    "        labels=raw_mpo_tensor.get_leg_labels()\n",
    "    )\n",
    "\n",
    "    out.itranspose(gradient_target_tensor.get_leg_labels())\n",
    "\n",
    "    return out"
   ]
  },
  {
   "cell_type": "code",
   "execution_count": 35,
   "id": "aa8f1c2b-a2fe-4851-b802-2418f619ce7e",
   "metadata": {},
   "outputs": [],
   "source": [
    "def update_mpo_score(raw_gradient_mpo_tensor, gradient_target_tensor,\n",
    "                     virtual_legs=[['vL*', 'vR*',], ['vR*', 'vL*',]],\n",
    "                     take_abs=False\n",
    "                    ):\n",
    "    # Calculate \"score\" (just the contraction of the two relevant tensors)\n",
    "    raw_legs, target_legs = virtual_legs\n",
    "\n",
    "    score = npc.tensordot(\n",
    "        raw_gradient_mpo_tensor,\n",
    "        gradient_target_tensor.conj(),\n",
    "        [['p', 'p*', *raw_legs], ['p*', 'p', *target_legs]]\n",
    "    )\n",
    "\n",
    "    if take_abs:\n",
    "        real_score = np.abs(score)\n",
    "    else:\n",
    "        real_score = score.real\n",
    "\n",
    "    return score"
   ]
  },
  {
   "cell_type": "code",
   "execution_count": 78,
   "id": "a35f4a5f-aa5f-49e7-a87b-c271d442025f",
   "metadata": {},
   "outputs": [],
   "source": [
    "def mpo_gradient_descent_sweep(mpo_tensors, b_tensors, right_overlap_tensors,\n",
    "    unitarity_learning_rate, overlap_learning_rate, overlap_target,\n",
    "    left_environment, adam_optimizers):\n",
    "    \"\"\"\n",
    "    Really need to tidy this function up...\n",
    "\n",
    "    Also get matrix_dim directly from tensors.\n",
    "    \"\"\"\n",
    "    # Initialise list of gradients to be filled\n",
    "    grads = list()\n",
    "    # HARD CODE WARNING!\n",
    "    total_dimension = 2**len(mpo_tensors)\n",
    "\n",
    "    # Initialise variables\n",
    "    right_unitary_two_tensors = unitary_order_two_right_tensors(mpo_tensors)\n",
    "    right_unitary_four_tensors = unitary_order_four_right_tensors(mpo_tensors)\n",
    "    \n",
    "    left_unitary_two_tensors = list()\n",
    "    left_unitary_four_tensors = list()\n",
    "    left_overlap_tensors = list()\n",
    "\n",
    "    num_sites = len(mpo_tensors)\n",
    "    assert len(mpo_tensors) == len(b_tensors)\n",
    "\n",
    "    # Leftmost site\n",
    "    w = mpo_tensors[0]\n",
    "    b = b_tensors[0]\n",
    "\n",
    "    t = right_unitary_two_tensors[0]\n",
    "\n",
    "    # Second order terms\n",
    "    grad_2 = npc.tensordot(t, w, [['vL'], ['vR',]])\n",
    "\n",
    "    order_2_score = update_mpo_score(\n",
    "        grad_2,\n",
    "        w,\n",
    "        [['vL*',], ['vR*',]]\n",
    "    )\n",
    "\n",
    "    grad_2 = mpo_tensor_raw_to_gradient(grad_2, w)\n",
    "\n",
    "    # Fourth order terms\n",
    "    t = right_unitary_four_tensors[0]\n",
    "\n",
    "    grad_4 = npc.tensordot(t, w, [['vL'], ['vR',]])\n",
    "    grad_4 = npc.tensordot(grad_4, w.conj(), [['vL*', 'p'], ['vR*', 'p*']])\n",
    "    grad_4 = npc.tensordot(grad_4, w, [['vL1', 'p'], ['vR', 'p*']])\n",
    "\n",
    "    order_4_score = update_mpo_score(\n",
    "        grad_4,\n",
    "        w,\n",
    "        [['vL1*',], ['vR*',]]\n",
    "    )\n",
    "\n",
    "    grad_4 = mpo_tensor_raw_to_gradient(grad_4, w)\n",
    "\n",
    "    unitary_score = order_4_score - 2*order_2_score + total_dimension\n",
    "    unitary_grad = (grad_4 - grad_2)/np.sqrt(1+unitary_score)\n",
    "    \n",
    "    # Overlap terms\n",
    "    t = right_overlap_tensors[0].conj().replace_label('vLm*', 'vLm')\n",
    "\n",
    "    grad_o = npc.tensordot(t, b, [['vL'], ['vR',]])\n",
    "    grad_o = npc.tensordot(grad_o, b.conj(), [['vL*',], ['vR*',]])\n",
    "    grad_o = npc.tensordot(grad_o, left_environment, [['vL', 'vL*'], ['vR', 'vR*']])\n",
    "\n",
    "    c_conj = update_mpo_score(\n",
    "        grad_o,\n",
    "        w,\n",
    "        [['vLm',], ['vR*',]],\n",
    "        take_abs=True\n",
    "    )\n",
    "    c = c_conj.conjugate()\n",
    "    c_abs = np.abs(c)\n",
    "    \n",
    "    grad_o_scale = c*(1 - overlap_target/c_abs)\n",
    "    grad_o = grad_o_scale*grad_o\n",
    "    grad_o = mpo_tensor_raw_to_gradient(grad_o, w)\n",
    "\n",
    "    grad = (\n",
    "        unitarity_learning_rate*unitary_grad +\n",
    "        overlap_learning_rate*grad_o\n",
    "    )\n",
    "    adam_grad = adam_optimizers[0].update(grad)\n",
    "    grads.append(adam_grad)\n",
    "\n",
    "    # Create and save left tensors\n",
    "    t = npc.tensordot(w, w.conj(), [['p', 'p*'], ['p*', 'p']])\n",
    "    left_unitary_two_tensors.append(t)\n",
    "    \n",
    "    t = npc.tensordot(w, w.conj(), [['p',], ['p*',]])\n",
    "    t.ireplace_labels(['vR', 'vR*'], ['vR1', 'vR1*'])\n",
    "    t = npc.tensordot(t, w, [['p',], ['p*',]])\n",
    "    t = npc.tensordot(t, w.conj(), [['p', 'p*'], ['p*', 'p']])\n",
    "    \n",
    "    left_unitary_four_tensors.append(t)\n",
    "\n",
    "    t = npc.tensordot(b, w.conj(), [['p',], ['p*',]])\n",
    "    #print(t)\n",
    "    t.ireplace_label('vR*', 'vRm')\n",
    "    #print(t)\n",
    "    t = npc.tensordot(t, left_environment, [['vL',], ['vR',]])\n",
    "    #print(t)\n",
    "    t = npc.tensordot(t, b.conj(), [['vR*', 'p'], ['vL*', 'p*']])\n",
    "\n",
    "    #print(t)\n",
    "\n",
    "    left_overlap_tensors.append(t)\n",
    "\n",
    "    # Inner sites\n",
    "    for i in range(1, num_sites-1):\n",
    "        w = mpo_tensors[i]\n",
    "        b = b_tensors[i]\n",
    "    \n",
    "        right_two_tensor = right_unitary_two_tensors[i]\n",
    "        right_four_tensor = right_unitary_four_tensors[i]\n",
    "        right_overlap_tensor = right_overlap_tensors[i].conj().replace_label('vLm*', 'vLm')\n",
    "\n",
    "        # Order two terms\n",
    "        left_two_tensor = left_unitary_two_tensors[-1]\n",
    "\n",
    "        grad_2 = npc.tensordot(right_two_tensor, w, [['vL'], ['vR',]])\n",
    "        grad_2 = npc.tensordot(grad_2, left_two_tensor, [['vL'], ['vR',]])\n",
    "\n",
    "        grad_2 = mpo_tensor_raw_to_gradient(grad_2, w)\n",
    "\n",
    "        # Order four terms\n",
    "        left_four_tensor = left_unitary_four_tensors[-1]\n",
    "\n",
    "        grad_4 = npc.tensordot(right_four_tensor, w, [['vL'], ['vR',]])\n",
    "        grad_4 = npc.tensordot(grad_4, w.conj(), [['vL*', 'p'], ['vR*', 'p*']])\n",
    "\n",
    "        grad_4 = npc.tensordot(\n",
    "            grad_4,\n",
    "            w.replace_label('vL', 'vL1'),\n",
    "            [['vL1', 'p'], ['vR', 'p*']]\n",
    "        )\n",
    "\n",
    "        grad_4 = npc.tensordot(\n",
    "            grad_4,\n",
    "            left_four_tensor,\n",
    "            [['vL', 'vL*', 'vL1'], ['vR', 'vR*', 'vR1']]\n",
    "        )\n",
    "\n",
    "        grad_4 = mpo_tensor_raw_to_gradient(grad_4, w)\n",
    "\n",
    "        unitary_grad = (grad_4 - grad_2)/np.sqrt(1+unitary_score)\n",
    "    \n",
    "        # Overlap terms\n",
    "        left_overlap_tensor = left_overlap_tensors[-1]\n",
    "\n",
    "        grad_o = npc.tensordot(right_overlap_tensor, b, [['vL',], ['vR',]])\n",
    "        grad_o = npc.tensordot(grad_o, b.conj(), [['vL*',], ['vR*',]])\n",
    "        grad_o = npc.tensordot(\n",
    "            grad_o,\n",
    "            left_overlap_tensor,\n",
    "            [['vL*', 'vL'], ['vR', 'vR*',]]\n",
    "        )\n",
    "\n",
    "        grad_o = grad_o_scale*grad_o\n",
    "        grad_o = mpo_tensor_raw_to_gradient(grad_o, w)\n",
    "\n",
    "        grad = (\n",
    "            unitarity_learning_rate*unitary_grad +\n",
    "            overlap_learning_rate*grad_o\n",
    "        )\n",
    "        adam_grad = adam_optimizers[i].update(grad)\n",
    "        grads.append(adam_grad)\n",
    "\n",
    "        # Update left tensors\n",
    "        t = npc.tensordot(left_two_tensor, w, [['vR',], ['vL']])\n",
    "        t = npc.tensordot(\n",
    "            t,\n",
    "            w.conj(),\n",
    "            [['vR*', 'p', 'p*'], ['vL*', 'p*', 'p']]\n",
    "        )\n",
    "        \n",
    "        left_unitary_two_tensors.append(t)\n",
    "        \n",
    "        t = npc.tensordot(left_four_tensor, w, [['vR',], ['vL']])\n",
    "        t = npc.tensordot(t, w.conj(), [['vR*', 'p'], ['vL*', 'p*']])\n",
    "        t = npc.tensordot(\n",
    "            t,\n",
    "            w.replace_label('vR', 'vR1'),\n",
    "            [['p', 'vR1'], ['p*', 'vL']]\n",
    "        )\n",
    "        t = npc.tensordot(\n",
    "            t,\n",
    "            w.conj().replace_label('vR*', 'vR1*'),\n",
    "            [['p', 'p*', 'vR1*'], ['p*', 'p', 'vL*']]\n",
    "        )\n",
    "        \n",
    "        left_unitary_four_tensors.append(t)\n",
    "\n",
    "        t = left_overlap_tensor.ireplace_label('vR*', 'vR1*')\n",
    "        t = npc.tensordot(\n",
    "            left_overlap_tensor,\n",
    "            w.conj(),\n",
    "            [['vRm',], ['vL*']]\n",
    "        )\n",
    "        t.ireplace_label('vR*', 'vRm')\n",
    "        t = npc.tensordot(t, b, [['vR', 'p*'], ['vL', 'p']])\n",
    "        t = npc.tensordot(t, b.conj(), [['vR1*', 'p'], ['vL*', 'p*']])\n",
    "\n",
    "        left_overlap_tensors.append(t)\n",
    "\n",
    "    # Last site\n",
    "    left_two_tensor = left_unitary_two_tensors[-1]\n",
    "    w = mpo_tensors[-1]\n",
    "    b = b_tensors[-1]\n",
    "    \n",
    "    grad_2 = npc.tensordot(left_two_tensor, w, [['vR'], ['vL',]])\n",
    "    grad_2 = mpo_tensor_raw_to_gradient(grad_2, w)\n",
    "\n",
    "    left_four_tensor = left_unitary_four_tensors[-1]\n",
    "    \n",
    "    grad_4 = npc.tensordot(left_four_tensor, w, [['vR'], ['vL',]])\n",
    "    grad_4 = npc.tensordot(grad_4, w.conj(), [['vR*', 'p'], ['vL*', 'p*']])\n",
    "    grad_4 = npc.tensordot(grad_4, w, [['vR1', 'p'], ['vL', 'p*']])\n",
    "\n",
    "    grad_4 = mpo_tensor_raw_to_gradient(grad_4, w)\n",
    "    \n",
    "    unitary_grad = (grad_4 - grad_2)/np.sqrt(1+unitary_score)\n",
    "\n",
    "    left_overlap_tensor = left_overlap_tensors[-1]\n",
    "    right_overlap_tensor = right_overlap_tensors[-1].conj()\n",
    "\n",
    "    grad_o = npc.tensordot(right_overlap_tensor, b, [['vL',], ['vR',]])\n",
    "    grad_o = npc.tensordot(grad_o, b.conj(), [['vL*',], ['vR*',]])\n",
    "    grad_o = npc.tensordot(\n",
    "        grad_o,\n",
    "        left_overlap_tensor,\n",
    "        [['vL*', 'vL'], ['vR', 'vR*',]]\n",
    "    )\n",
    "\n",
    "    grad_o = grad_o_scale*grad_o\n",
    "    grad_o = mpo_tensor_raw_to_gradient(grad_o, w)\n",
    "\n",
    "\n",
    "    grad = (\n",
    "        unitarity_learning_rate*unitary_grad +\n",
    "        overlap_learning_rate*grad_o\n",
    "    )\n",
    "    adam_grad = adam_optimizers[-1].update(grad)\n",
    "    grads.append(adam_grad)\n",
    "\n",
    "    \"\"\"\n",
    "    for i, g in enumerate(grads):\n",
    "        mpo_tensors[i] = mpo_tensors[i] - g\n",
    "    \"\"\"\n",
    "    \n",
    "    return (grads, unitary_score, c_abs)"
   ]
  },
  {
   "cell_type": "code",
   "execution_count": 42,
   "id": "e4c0c3f6-9014-41c6-a7b3-745dd0dc9970",
   "metadata": {},
   "outputs": [],
   "source": [
    "def swap_left_right_indices(npc_array):\n",
    "    left_right_pairs = {\n",
    "        'vL': 'vR',\n",
    "        'vR': 'vL',\n",
    "        'vL*': 'vR*',\n",
    "        'vR*': 'vL*'\n",
    "    }\n",
    "\n",
    "    leg_labels = npc_array.get_leg_labels()\n",
    "\n",
    "    old_labels = [l for l in leg_labels if l in left_right_pairs]\n",
    "    new_labels = [left_right_pairs[l] for l in old_labels]\n",
    "\n",
    "    out = npc_array.replace_labels(old_labels, new_labels)\n",
    "\n",
    "    return out"
   ]
  },
  {
   "cell_type": "code",
   "execution_count": 64,
   "id": "d66c2c04-401a-4cf8-8f7a-a2745f3c3a57",
   "metadata": {},
   "outputs": [],
   "source": [
    "def two_sided_mpo_gradient_descent_sweep(left_mpo_tensors, right_mpo_tensors,\n",
    "    left_b_tensors, right_b_tensors, unitarity_learning_rate, overlap_learning_rate,\n",
    "    symmetry_transfer_matrix, left_adam_optimizers, right_adam_optimizers):\n",
    "\n",
    "    # Compute left and right symmetry environments\n",
    "    # Right symmetry environment for left side first\n",
    "    right_overlap_tensors = overlap_right_tensors(\n",
    "        right_mpo_tensors,\n",
    "        right_b_tensors\n",
    "    )\n",
    "    right_symmetry_environment = npc.tensordot(\n",
    "        symmetry_transfer_matrix,\n",
    "        right_overlap_tensors[0],\n",
    "        [['vR', 'vR*'], ['vL', 'vL*']]\n",
    "    )\n",
    "    right_symmetry_environment = swap_left_right_indices(right_symmetry_environment)\n",
    "\n",
    "    # Left symmetry environment for right side\n",
    "    left_overlap_tensors = overlap_right_tensors(\n",
    "        left_mpo_tensors,\n",
    "        left_b_tensors\n",
    "    )\n",
    "    left_symmetry_environment = npc.tensordot(\n",
    "        symmetry_transfer_matrix,\n",
    "        swap_left_right_indices(left_overlap_tensors[0]),\n",
    "        [['vL', 'vL*'], ['vR', 'vR*']]\n",
    "    )\n",
    "\n",
    "    # Get right gradients\n",
    "    right_grads, unitary_score, c_abs = mpo_gradient_descent_sweep(\n",
    "        right_mpo_tensors,\n",
    "        right_b_tensors,\n",
    "        right_overlap_tensors[1:],\n",
    "        unitarity_learning_rate,\n",
    "        overlap_learning_rate,\n",
    "        1,\n",
    "        left_symmetry_environment,\n",
    "        right_adam_optimizers\n",
    "    )\n",
    "    \n",
    "    for i, g in enumerate(right_grads):\n",
    "        right_mpo_tensors[i] = right_mpo_tensors[i] - g\n",
    "\n",
    "    # Get left gradients\n",
    "    left_grads, *_ = mpo_gradient_descent_sweep(\n",
    "        left_mpo_tensors,\n",
    "        left_b_tensors,\n",
    "        left_overlap_tensors[1:],\n",
    "        unitarity_learning_rate,\n",
    "        overlap_learning_rate,\n",
    "        1,\n",
    "        right_symmetry_environment,\n",
    "        left_adam_optimizers\n",
    "    )\n",
    "\n",
    "    for i, g in enumerate(left_grads):\n",
    "        left_mpo_tensors[i] = left_mpo_tensors[i] - g\n",
    "\n",
    "    return (unitary_score, c_abs)"
   ]
  },
  {
   "cell_type": "code",
   "execution_count": 46,
   "id": "1a8b9251-44db-4ef2-80ad-db74402a94b4",
   "metadata": {},
   "outputs": [],
   "source": [
    "def unitarity_error_from_subscores(order_two_score, order_four_score, dimension):\n",
    "    return order_four_score - 2*order_two_score + dimension"
   ]
  },
  {
   "cell_type": "code",
   "execution_count": 47,
   "id": "b2ddc829-2e4b-4aa9-9711-b76244621c37",
   "metadata": {},
   "outputs": [],
   "source": [
    "def unitarity_errors_from_subscores(order_two_scores, order_four_scores,\n",
    "                                    dimension):\n",
    "    out = [\n",
    "        unitarity_error_from_subscores(o2, o4, dimension)\n",
    "        for o2, o4 in zip(order_two_scores, order_four_scores)\n",
    "    ]\n",
    "    \n",
    "    return out"
   ]
  },
  {
   "cell_type": "code",
   "execution_count": 60,
   "id": "e390f713-9369-4353-b585-07ea44412fb8",
   "metadata": {},
   "outputs": [],
   "source": [
    "def initialize_optimization(num_sites, bond_dimension, symmetry_case,\n",
    "    unitarity_learning_rate, overlap_learning_rate, adam_params):\n",
    "    total_one_side_dimension = 2**num_sites\n",
    "\n",
    "    physical_dims = [2,]*num_sites\n",
    "    virtual_dims = (\n",
    "        [(None, bond_dimension),] +\n",
    "        [(bond_dimension, bond_dimension)]*(num_sites - 2) +\n",
    "        [(bond_dimension, None),]\n",
    "    )\n",
    "\n",
    "    right_mpo_tensors = get_random_mpo_tensors(physical_dims, virtual_dims)\n",
    "    left_mpo_tensors = get_random_mpo_tensors(physical_dims, virtual_dims)\n",
    "    rescale_mpo_tensors(right_mpo_tensors, 1)\n",
    "    rescale_mpo_tensors(left_mpo_tensors, 1)\n",
    "\n",
    "    right_b_tensors = [\n",
    "        symmetry_case.psi.get_B(i)\n",
    "        for i in range(symmetry_case.right_symmetry_index + 1, symmetry_case.right_symmetry_index + 1 + num_sites)\n",
    "    ]\n",
    "\n",
    "    left_b_tensors = [\n",
    "        symmetry_case.psi.get_B(i, form='A')\n",
    "        for i in range(symmetry_case.left_symmetry_index - 1, symmetry_case.left_symmetry_index - 1 - num_sites, -1)\n",
    "    ]\n",
    "\n",
    "    left_b_tensors = [swap_left_right_indices(b) for b in left_b_tensors]\n",
    "\n",
    "    symmetry_transfer_matrix = symmetry_case.npc_symmetry_transfer_matrix\n",
    "\n",
    "    left_adam_optimizers = [\n",
    "        AdamTenpy(*adam_params) for _ in range(num_sites)\n",
    "    ]\n",
    "\n",
    "    right_adam_optimizers = [\n",
    "        AdamTenpy(*adam_params) for _ in range(num_sites)\n",
    "    ]\n",
    "\n",
    "    return (\n",
    "        left_mpo_tensors,\n",
    "        right_mpo_tensors,\n",
    "        left_b_tensors,\n",
    "        right_b_tensors,\n",
    "        unitarity_learning_rate,\n",
    "        overlap_learning_rate,\n",
    "        symmetry_transfer_matrix,\n",
    "        left_adam_optimizers,\n",
    "        right_adam_optimizers\n",
    "    )"
   ]
  },
  {
   "cell_type": "markdown",
   "id": "5a6b77d4-1b5d-455b-9d45-b0dfc2fe378d",
   "metadata": {},
   "source": [
    "### SPT phase extraction"
   ]
  },
  {
   "cell_type": "code",
   "execution_count": 146,
   "id": "19115e31-e566-4904-b863-492184c744e7",
   "metadata": {},
   "outputs": [],
   "source": [
    "def conjugate_single_mpo_tensor(mpo_tensor):\n",
    "    leg_labels = mpo_tensor.get_leg_labels()\n",
    "\n",
    "    if not ('vR' in leg_labels):\n",
    "        return mpo_tensor.conj().replace_labels(['vL*',], ['vL',])\n",
    "    elif not ('vL' in leg_labels):\n",
    "        return mpo_tensor.conj().replace_labels(['vR*'], ['vR'])\n",
    "    else:\n",
    "        return mpo_tensor.conj().replace_labels(['vL*', 'vR*'], ['vL', 'vR'])"
   ]
  },
  {
   "cell_type": "code",
   "execution_count": 147,
   "id": "58405086-22cd-4f65-8eec-0888ff6eb03f",
   "metadata": {},
   "outputs": [],
   "source": [
    "def conjugate_mpo(mpo_tensors):\n",
    "    return [\n",
    "        conjugate_single_mpo_tensor(t) for t in mpo_tensors\n",
    "    ]"
   ]
  },
  {
   "cell_type": "code",
   "execution_count": 148,
   "id": "6a0c4ee6-9a5c-464f-b7ba-68adbd5ad640",
   "metadata": {},
   "outputs": [],
   "source": [
    "def mpo_product_expectation(left_environment, b_tensors, mpos):\n",
    "    \"\"\"\n",
    "    Have an optional b_conj argument? Left and right arguments?\n",
    "\n",
    "    Like a previous function we wrote?\n",
    "    \"\"\"\n",
    "\n",
    "    # First site\n",
    "    t = b_tensors[0]\n",
    "\n",
    "    for i, l in enumerate(mpos):\n",
    "        w = l[0]\n",
    "        t = npc.tensordot(\n",
    "            t,\n",
    "            w.replace_label('vR', f'vR{i}'),\n",
    "            [['p',], ['p*',]]\n",
    "        )\n",
    "\n",
    "    t = npc.tensordot(\n",
    "        t,\n",
    "        b_tensors[0].conj(),\n",
    "        [['p',], ['p*',]]\n",
    "    )\n",
    "\n",
    "    t = npc.tensordot(\n",
    "        t,\n",
    "        left_environment,\n",
    "        [['vL', 'vL*',], ['vR', 'vR*']]\n",
    "    )\n",
    "\n",
    "    # Inner sites\n",
    "    for i in range(1, len(b_tensors)-1):\n",
    "        t = npc.tensordot(\n",
    "            t,\n",
    "            b_tensors[i],\n",
    "            [['vR',], ['vL',]]\n",
    "        )\n",
    "\n",
    "        for j, l in enumerate(mpos):\n",
    "            w = l[i]\n",
    "            t = npc.tensordot(\n",
    "                t,\n",
    "                w.replace_label('vR', f'vR{j}'),\n",
    "                [['p', f'vR{j}'], ['p*', 'vL']]\n",
    "            )\n",
    "    \n",
    "        t = npc.tensordot(\n",
    "            t,\n",
    "            b_tensors[i].conj(),\n",
    "            [['p', 'vR*'], ['p*', 'vL*']]\n",
    "        )\n",
    "\n",
    "    # Last site\n",
    "    t = npc.tensordot(\n",
    "        t,\n",
    "        b_tensors[-1],\n",
    "        [['vR',], ['vL',]]\n",
    "    )\n",
    "\n",
    "    for i, l in enumerate(mpos):\n",
    "        w = l[-1]\n",
    "        t = npc.tensordot(\n",
    "            t,\n",
    "            w,\n",
    "            [['p', f'vR{i}'], ['p*', 'vL']]\n",
    "        )\n",
    "\n",
    "    t = npc.tensordot(\n",
    "        t,\n",
    "        b_tensors[-1].conj(),\n",
    "        [['p', 'vR*', 'vR'], ['p*', 'vL*', 'vR*']]\n",
    "    )\n",
    "\n",
    "    return t"
   ]
  },
  {
   "cell_type": "code",
   "execution_count": 149,
   "id": "86ff850e-a4f7-4b73-9360-03431af04fdb",
   "metadata": {},
   "outputs": [],
   "source": [
    "def proj_rep_phase(left_environment, b_tensors, mpo_1, mpo_2, mpo_3):\n",
    "    num = mpo_product_expectation(\n",
    "        left_environment,\n",
    "        b_tensors,\n",
    "        [\n",
    "            mpo_1,\n",
    "            mpo_2,\n",
    "            conjugate_mpo(mpo_3)\n",
    "        ]\n",
    "    )\n",
    "\n",
    "    den = npc.trace(left_environment)\n",
    "\n",
    "    return num/den"
   ]
  },
  {
   "cell_type": "markdown",
   "id": "6609a3ee-0f68-4216-94ec-1ec4bfe0abb9",
   "metadata": {},
   "source": [
    "# Test"
   ]
  },
  {
   "cell_type": "code",
   "execution_count": 123,
   "id": "011f9048-a10f-4f5e-b622-0d6409cf7e21",
   "metadata": {},
   "outputs": [],
   "source": [
    "(\n",
    "    left_mpo_tensors,\n",
    "    right_mpo_tensors,\n",
    "    left_b_tensors,\n",
    "    right_b_tensors,\n",
    "    unitarity_learning_rate,\n",
    "    overlap_learning_rate,\n",
    "    symmetry_transfer_matrix,\n",
    "    left_adam_optimizers,\n",
    "    right_adam_optimizers\n",
    ") = initialize_optimization(3, 3, cases[0][1], 1, 3, (1e-3, 0.3, 0.3))"
   ]
  },
  {
   "cell_type": "code",
   "execution_count": 124,
   "id": "c8a611dd-49f2-475c-8f93-faae2d0508fa",
   "metadata": {},
   "outputs": [],
   "source": [
    "right_overlap_tensors = overlap_right_tensors(\n",
    "    right_mpo_tensors,\n",
    "    right_b_tensors\n",
    ")"
   ]
  },
  {
   "cell_type": "code",
   "execution_count": 125,
   "id": "2c74c814-9978-441d-b5df-8ec949fa611d",
   "metadata": {},
   "outputs": [],
   "source": [
    "unitary_scores, overlaps = (list(), list())"
   ]
  },
  {
   "cell_type": "code",
   "execution_count": 126,
   "id": "54b23b78-1795-496d-8199-4e1b734d834f",
   "metadata": {},
   "outputs": [],
   "source": [
    "for _ in range(1000):\n",
    "    unitary_score, overlap = two_sided_mpo_gradient_descent_sweep(\n",
    "        left_mpo_tensors,\n",
    "        right_mpo_tensors,\n",
    "        left_b_tensors,\n",
    "        right_b_tensors,\n",
    "        unitarity_learning_rate,\n",
    "        overlap_learning_rate,\n",
    "        symmetry_transfer_matrix,\n",
    "        left_adam_optimizers,\n",
    "        right_adam_optimizers\n",
    "    )\n",
    "\n",
    "    unitary_scores.append(unitary_score)\n",
    "    overlaps.append(overlap)"
   ]
  },
  {
   "cell_type": "code",
   "execution_count": 127,
   "id": "aa7c8102-fa1b-41b4-bd1c-4887c26c8267",
   "metadata": {},
   "outputs": [
    {
     "data": {
      "text/plain": [
       "[<matplotlib.lines.Line2D at 0x16cdb1a10>]"
      ]
     },
     "execution_count": 127,
     "metadata": {},
     "output_type": "execute_result"
    },
    {
     "data": {
      "image/png": "[encoded data removed]",
      "text/plain": [
       "<Figure size 640x480 with 1 Axes>"
      ]
     },
     "metadata": {},
     "output_type": "display_data"
    }
   ],
   "source": [
    "plt.plot(np.real(np.array(unitary_scores)))"
   ]
  },
  {
   "cell_type": "code",
   "execution_count": 129,
   "id": "12acb974-9dab-46fc-8271-a57bc3a4be38",
   "metadata": {},
   "outputs": [
    {
     "data": {
      "text/plain": [
       "(5.6466694838164244e-05+8.446672113059633e-16j)"
      ]
     },
     "execution_count": 129,
     "metadata": {},
     "output_type": "execute_result"
    }
   ],
   "source": [
    "unitary_scores[-1]"
   ]
  },
  {
   "cell_type": "code",
   "execution_count": 128,
   "id": "0cd85ff7-955b-449e-9e05-796e39f3dea5",
   "metadata": {},
   "outputs": [
    {
     "data": {
      "text/plain": [
       "[<matplotlib.lines.Line2D at 0x16ce0a210>]"
      ]
     },
     "execution_count": 128,
     "metadata": {},
     "output_type": "execute_result"
    },
    {
     "data": {
      "image/png": "[encoded data removed]",
      "text/plain": [
       "<Figure size 640x480 with 1 Axes>"
      ]
     },
     "metadata": {},
     "output_type": "display_data"
    }
   ],
   "source": [
    "plt.plot(overlaps)"
   ]
  },
  {
   "cell_type": "code",
   "execution_count": 130,
   "id": "4236a1eb-85f4-4523-a210-b80214c38143",
   "metadata": {},
   "outputs": [
    {
     "data": {
      "text/plain": [
       "0.9953819888586644"
      ]
     },
     "execution_count": 130,
     "metadata": {},
     "output_type": "execute_result"
    }
   ],
   "source": [
    "overlaps[-1]"
   ]
  },
  {
   "cell_type": "markdown",
   "id": "676e43cf-6103-402f-8458-6fcf649bf7c5",
   "metadata": {},
   "source": [
    "# SPT definitions"
   ]
  },
  {
   "cell_type": "code",
   "execution_count": 131,
   "id": "23e62c10-6c32-4ee4-9cde-ac7f05c69d7f",
   "metadata": {},
   "outputs": [],
   "source": [
    "from itertools import combinations"
   ]
  },
  {
   "cell_type": "code",
   "execution_count": 132,
   "id": "d1cd215b-c62c-405e-9adc-9a97db7142e2",
   "metadata": {},
   "outputs": [],
   "source": [
    "symmetry_combination_labels = list(combinations(symmetry_labels, 2))"
   ]
  },
  {
   "cell_type": "code",
   "execution_count": 133,
   "id": "45a081ff-eb82-4ff5-9700-55f11824f366",
   "metadata": {},
   "outputs": [
    {
     "data": {
      "text/plain": [
       "[('II', 'IX'),\n",
       " ('II', 'XI'),\n",
       " ('II', 'XX'),\n",
       " ('IX', 'XI'),\n",
       " ('IX', 'XX'),\n",
       " ('XI', 'XX')]"
      ]
     },
     "execution_count": 133,
     "metadata": {},
     "output_type": "execute_result"
    }
   ],
   "source": [
    "symmetry_combination_labels"
   ]
  },
  {
   "cell_type": "code",
   "execution_count": 134,
   "id": "aab20cf0-ae51-4603-9192-5ba0741b6a6d",
   "metadata": {},
   "outputs": [],
   "source": [
    "e, a, b, c = symmetry_labels"
   ]
  },
  {
   "cell_type": "code",
   "execution_count": 135,
   "id": "955bfb99-9c73-4794-b14e-f62f7872abe5",
   "metadata": {},
   "outputs": [],
   "source": [
    "group_products = [\n",
    "    (a, b, c),\n",
    "    (b, a, c),\n",
    "    (a, c, b),\n",
    "    (c, a, b),\n",
    "    (c, b, a),\n",
    "    (b, c, a)\n",
    "]"
   ]
  },
  {
   "cell_type": "markdown",
   "id": "b603ab73-0628-4657-b84e-563a051b6299",
   "metadata": {},
   "source": [
    "# Sweep"
   ]
  },
  {
   "cell_type": "code",
   "execution_count": 136,
   "id": "00969949-e4ad-495b-842a-d91d10f0d265",
   "metadata": {},
   "outputs": [],
   "source": [
    "num_sites = 6"
   ]
  },
  {
   "cell_type": "code",
   "execution_count": 137,
   "id": "b13dc43d-9179-4004-a05a-2c7f754f772f",
   "metadata": {},
   "outputs": [],
   "source": [
    "unitarity_learning_rate = 1\n",
    "overlap_learning_rate = 10\n",
    "\n",
    "adam_params = (1e-3, 0.4, 0.4)"
   ]
  },
  {
   "cell_type": "code",
   "execution_count": 138,
   "id": "cfde7fc5-bee2-4027-89ed-d400d9456bd1",
   "metadata": {},
   "outputs": [],
   "source": [
    "total_dimension = 2**num_sites"
   ]
  },
  {
   "cell_type": "code",
   "execution_count": 139,
   "id": "0ae39dca-ec8c-4cd5-9bce-a92601ecf8eb",
   "metadata": {},
   "outputs": [],
   "source": [
    "num_iterations = 1000"
   ]
  },
  {
   "cell_type": "code",
   "execution_count": 140,
   "id": "0a9d0c08-3909-422e-bef4-5915fd5a9a02",
   "metadata": {},
   "outputs": [],
   "source": [
    "bond_dimension=5"
   ]
  },
  {
   "cell_type": "code",
   "execution_count": 141,
   "id": "9ac6225e-e8d2-4ca7-9b6b-6de9acd3986c",
   "metadata": {},
   "outputs": [],
   "source": [
    "physical_dims = [2,]*num_sites\n",
    "virtual_dims = (\n",
    "    [(None, bond_dimension),] +\n",
    "    [(bond_dimension, bond_dimension)]*(num_sites - 2) +\n",
    "    [(bond_dimension, None),]\n",
    ")"
   ]
  },
  {
   "cell_type": "code",
   "execution_count": 143,
   "id": "e6a61a68-d56b-4e94-991c-bc13e665147c",
   "metadata": {},
   "outputs": [
    {
     "name": "stdout",
     "output_type": "stream",
     "text": [
      "0\n",
      "1\n",
      "2\n",
      "3\n",
      "4\n",
      "5\n",
      "6\n",
      "7\n",
      "8\n",
      "9\n",
      "10\n",
      "11\n",
      "12\n",
      "13\n",
      "14\n",
      "15\n",
      "16\n",
      "17\n",
      "18\n",
      "19\n",
      "20\n"
     ]
    }
   ],
   "source": [
    "solutions = list()\n",
    "unitarity_scores = list()\n",
    "overlap_scores = list()\n",
    "\n",
    "for i, l in enumerate(cases):\n",
    "    print(i)\n",
    "\n",
    "    solutions.append(list())\n",
    "    unitarity_scores.append(list())\n",
    "    overlap_scores.append(list())\n",
    "    \n",
    "    for c in l[1:]:\n",
    "        (\n",
    "            left_mpo_tensors,\n",
    "            right_mpo_tensors,\n",
    "            left_b_tensors,\n",
    "            right_b_tensors,\n",
    "            unitarity_learning_rate,\n",
    "            overlap_learning_rate,\n",
    "            symmetry_transfer_matrix,\n",
    "            left_adam_optimizers,\n",
    "            right_adam_optimizers\n",
    "        ) = initialize_optimization(\n",
    "            num_sites,\n",
    "            bond_dimension,\n",
    "            c,\n",
    "            unitarity_learning_rate,\n",
    "            overlap_learning_rate,\n",
    "            adam_params\n",
    "        )\n",
    "\n",
    "        current_unitarity_scores = list()\n",
    "        current_overlap_scores = list()\n",
    "\n",
    "        for _ in range(num_iterations):\n",
    "            unitarity, overlap = two_sided_mpo_gradient_descent_sweep(\n",
    "                left_mpo_tensors,\n",
    "                right_mpo_tensors,\n",
    "                left_b_tensors,\n",
    "                right_b_tensors,\n",
    "                unitarity_learning_rate,\n",
    "                overlap_learning_rate,\n",
    "                symmetry_transfer_matrix,\n",
    "                left_adam_optimizers,\n",
    "                right_adam_optimizers\n",
    "            )\n",
    "        \n",
    "            current_unitarity_scores.append(unitarity)\n",
    "            current_overlap_scores.append(overlap)\n",
    "\n",
    "        solutions[-1].append((left_mpo_tensors, right_mpo_tensors))\n",
    "        unitarity_scores[-1].append(current_unitarity_scores)\n",
    "        overlap_scores[-1].append(current_overlap_scores)"
   ]
  },
  {
   "cell_type": "code",
   "execution_count": 151,
   "id": "d65c875d-2b00-4b25-b3a2-54264a829894",
   "metadata": {},
   "outputs": [],
   "source": [
    "right_phases = list()\n",
    "\n",
    "for l_c, l_s in zip(cases, solutions):\n",
    "\n",
    "    solutions.append(list())\n",
    "\n",
    "    solutions_dict = {\n",
    "        v: k[1] for v, k in zip(symmetry_labels[1:], l_s)\n",
    "    }\n",
    "\n",
    "    b_tensors = [\n",
    "        l_c[0].psi.get_B(i)\n",
    "        for i in range(l_c[0].right_symmetry_index + 1, l_c[0].right_symmetry_index + 1 + num_sites)\n",
    "    ]\n",
    "\n",
    "    current_phases = [\n",
    "        proj_rep_phase(\n",
    "            l_c[0].right_projected_symmetry_state,\n",
    "            b_tensors,\n",
    "            solutions_dict[l1],\n",
    "            solutions_dict[l2],\n",
    "            solutions_dict[l3],\n",
    "        )\n",
    "        for l1, l2, l3 in group_products\n",
    "    ]\n",
    "\n",
    "    right_phases.append(current_phases)"
   ]
  },
  {
   "cell_type": "code",
   "execution_count": 152,
   "id": "7a8d1e37-daee-49ef-b161-173ed886aac3",
   "metadata": {},
   "outputs": [],
   "source": [
    "phases_array = np.array(right_phases)"
   ]
  },
  {
   "cell_type": "code",
   "execution_count": 153,
   "id": "3a2bbffb-5cd7-43de-b106-402e20d662df",
   "metadata": {},
   "outputs": [],
   "source": [
    "gauge_invariant_phases = phases_array[:,::2]/phases_array[:,1::2]"
   ]
  },
  {
   "cell_type": "code",
   "execution_count": 154,
   "id": "fd6845f9-15dc-4c33-b036-45fcdc253a8f",
   "metadata": {},
   "outputs": [
    {
     "data": {
      "text/plain": [
       "array([[-0.999-4.000e-03j, -0.999-4.000e-03j, -1.   -3.000e-03j],\n",
       "       [-1.   -0.000e+00j, -1.   +1.000e-03j, -1.   +0.000e+00j],\n",
       "       [-0.997+2.000e-03j, -1.   -0.000e+00j, -0.995+2.000e-03j],\n",
       "       [-1.005-8.000e-03j, -0.998+9.000e-03j, -0.998+3.200e-02j],\n",
       "       [-0.941+8.000e-03j, -0.998+1.000e-03j, -0.946+9.000e-03j],\n",
       "       [-1.027-5.800e-02j, -1.022+5.000e-03j, -0.883+2.100e-02j],\n",
       "       [-0.999-0.000e+00j, -0.999-2.000e-03j, -1.001+0.000e+00j],\n",
       "       [-0.998+7.000e-03j, -1.005+7.000e-03j, -1.001+3.000e-03j],\n",
       "       [-0.995-2.000e-03j, -1.001-2.000e-03j, -1.005+2.000e-03j],\n",
       "       [-0.989-6.000e-03j, -0.993-5.000e-03j, -0.997-5.000e-03j],\n",
       "       [-3.418+1.220e-01j,  0.137-8.840e-01j,  0.061+1.189e+00j],\n",
       "       [ 0.991+1.000e-03j,  0.986+4.000e-03j,  1.007-5.000e-03j],\n",
       "       [ 0.996-5.000e-03j,  0.994+1.300e-02j,  1.004-1.000e-03j],\n",
       "       [ 1.037+3.000e-02j,  0.948+0.000e+00j,  1.024-2.000e-02j],\n",
       "       [ 1.017-8.000e-03j,  0.982-1.000e-03j,  0.997+8.000e-03j],\n",
       "       [ 0.999-1.000e-03j,  0.983-4.000e-03j,  1.   +4.000e-03j],\n",
       "       [ 1.019-1.800e-02j,  1.002+2.000e-03j,  0.991+1.800e-02j],\n",
       "       [ 0.998-2.000e-03j,  0.988-3.000e-03j,  1.   -2.300e-02j],\n",
       "       [ 0.987-1.000e-03j,  0.996-8.000e-03j,  0.987+8.000e-03j],\n",
       "       [ 1.001-1.000e-02j,  1.015+8.000e-03j,  0.999-2.000e-03j],\n",
       "       [ 0.994-0.000e+00j,  0.965-3.500e-02j,  1.035-1.900e-02j]])"
      ]
     },
     "execution_count": 154,
     "metadata": {},
     "output_type": "execute_result"
    }
   ],
   "source": [
    "np.round(gauge_invariant_phases, 3)"
   ]
  },
  {
   "cell_type": "code",
   "execution_count": 155,
   "id": "5cd62572-3936-4895-99a4-2f0e660337c6",
   "metadata": {},
   "outputs": [
    {
     "data": {
      "text/plain": [
       "array([[-0.999-0.004j, -0.999-0.004j, -1.   -0.003j],\n",
       "       [-1.   -0.j   , -1.   +0.001j, -1.   +0.j   ],\n",
       "       [-0.997+0.002j, -1.   -0.j   , -0.995+0.002j],\n",
       "       [-1.005-0.008j, -0.998+0.009j, -0.998+0.032j],\n",
       "       [-0.941+0.008j, -0.998+0.001j, -0.946+0.009j],\n",
       "       [-1.027-0.058j, -1.022+0.005j, -0.883+0.021j],\n",
       "       [-0.999-0.j   , -0.999-0.002j, -1.001+0.j   ],\n",
       "       [-0.998+0.007j, -1.005+0.007j, -1.001+0.003j],\n",
       "       [-0.995-0.002j, -1.001-0.002j, -1.005+0.002j],\n",
       "       [-0.989-0.006j, -0.993-0.005j, -0.997-0.005j]])"
      ]
     },
     "execution_count": 155,
     "metadata": {},
     "output_type": "execute_result"
    }
   ],
   "source": [
    "np.round(gauge_invariant_phases, 3)[:10]"
   ]
  },
  {
   "cell_type": "code",
   "execution_count": 156,
   "id": "bc990ac6-08fc-4a9f-853f-053f591393b8",
   "metadata": {},
   "outputs": [
    {
     "data": {
      "text/plain": [
       "array([[0.991+0.001j, 0.986+0.004j, 1.007-0.005j],\n",
       "       [0.996-0.005j, 0.994+0.013j, 1.004-0.001j],\n",
       "       [1.037+0.03j , 0.948+0.j   , 1.024-0.02j ],\n",
       "       [1.017-0.008j, 0.982-0.001j, 0.997+0.008j],\n",
       "       [0.999-0.001j, 0.983-0.004j, 1.   +0.004j],\n",
       "       [1.019-0.018j, 1.002+0.002j, 0.991+0.018j],\n",
       "       [0.998-0.002j, 0.988-0.003j, 1.   -0.023j],\n",
       "       [0.987-0.001j, 0.996-0.008j, 0.987+0.008j],\n",
       "       [1.001-0.01j , 1.015+0.008j, 0.999-0.002j],\n",
       "       [0.994-0.j   , 0.965-0.035j, 1.035-0.019j]])"
      ]
     },
     "execution_count": 156,
     "metadata": {},
     "output_type": "execute_result"
    }
   ],
   "source": [
    "np.round(gauge_invariant_phases, 3)[11:]"
   ]
  },
  {
   "cell_type": "code",
   "execution_count": 161,
   "id": "4e64194e-38de-45f4-90ce-68ada4ffd3ae",
   "metadata": {},
   "outputs": [],
   "source": [
    "left_phases = list()\n",
    "\n",
    "for l_c, l_s in zip(cases, solutions):\n",
    "\n",
    "    solutions.append(list())\n",
    "\n",
    "    solutions_dict = {\n",
    "        v: k[0] for v, k in zip(symmetry_labels[1:], l_s)\n",
    "    }\n",
    "\n",
    "    b_tensors = [\n",
    "        l_c[0].psi.get_B(i, form='A')\n",
    "        for i in range(l_c[0].left_symmetry_index - 1, l_c[0].left_symmetry_index - 1 - num_sites, -1)\n",
    "    ]\n",
    "\n",
    "    b_tensors = [swap_left_right_indices(b) for b in b_tensors]\n",
    "\n",
    "    current_phases = [\n",
    "        proj_rep_phase(\n",
    "            swap_left_right_indices(l_c[0].left_projected_symmetry_state),\n",
    "            b_tensors,\n",
    "            solutions_dict[l1],\n",
    "            solutions_dict[l2],\n",
    "            solutions_dict[l3],\n",
    "        )\n",
    "        for l1, l2, l3 in group_products\n",
    "    ]\n",
    "\n",
    "    left_phases.append(current_phases)"
   ]
  },
  {
   "cell_type": "code",
   "execution_count": 162,
   "id": "17291aea-7957-4776-9c34-daa113b9f8f3",
   "metadata": {},
   "outputs": [],
   "source": [
    "phases_array = np.array(left_phases)"
   ]
  },
  {
   "cell_type": "code",
   "execution_count": 163,
   "id": "a27d1e25-6e6f-4c20-9a1a-d4da0d01b11d",
   "metadata": {},
   "outputs": [],
   "source": [
    "gauge_invariant_phases = phases_array[:,::2]/phases_array[:,1::2]"
   ]
  },
  {
   "cell_type": "code",
   "execution_count": 164,
   "id": "c30a9976-1afd-490a-8497-f18083af9bf4",
   "metadata": {},
   "outputs": [
    {
     "data": {
      "text/plain": [
       "array([[-0.986-5.000e-03j, -1.02 -4.000e-03j, -0.992-1.400e-02j],\n",
       "       [-1.006+1.000e-03j, -1.006-2.000e-03j, -0.995-2.000e-03j],\n",
       "       [-1.008+6.000e-03j, -1.009-2.100e-02j, -1.004-6.000e-03j],\n",
       "       [-1.   -0.000e+00j, -1.   +2.000e-03j, -0.998+0.000e+00j],\n",
       "       [-1.011+2.000e-03j, -0.997-1.900e-02j, -0.994+1.600e-02j],\n",
       "       [-1.032-4.800e-02j, -1.009+3.600e-02j, -1.034+1.100e-02j],\n",
       "       [-0.999-2.000e-03j, -0.997-3.000e-03j, -0.996-2.000e-03j],\n",
       "       [-1.002+2.000e-03j, -1.001-1.000e-03j, -1.003-1.000e-03j],\n",
       "       [-1.001-2.000e-02j, -1.004-6.000e-03j, -1.005+1.000e-02j],\n",
       "       [-1.   +0.000e+00j, -1.   -0.000e+00j, -1.002-0.000e+00j],\n",
       "       [-0.853+1.544e+00j, -0.952+6.500e-02j,  0.091-6.950e-01j],\n",
       "       [ 1.001+3.000e-03j,  1.002+1.000e-03j,  1.005+3.000e-03j],\n",
       "       [ 1.007-2.600e-02j,  1.007-8.000e-03j,  0.982+1.200e-02j],\n",
       "       [ 1.011+1.000e-03j,  1.007+5.000e-03j,  1.03 +2.000e-03j],\n",
       "       [ 0.975-4.200e-02j,  1.013-2.400e-02j,  0.991+2.200e-02j],\n",
       "       [ 1.001+6.000e-03j,  1.008-1.900e-02j,  1.008+1.000e-03j],\n",
       "       [ 1.003-9.000e-03j,  1.019-2.200e-02j,  1.003-4.000e-03j],\n",
       "       [ 1.007+1.800e-02j,  0.986+1.500e-02j,  1.012+6.000e-03j],\n",
       "       [ 0.991+5.000e-03j,  1.012+5.000e-03j,  1.025+3.000e-03j],\n",
       "       [ 1.009+1.000e-03j,  0.988-6.000e-03j,  1.   -3.000e-03j],\n",
       "       [ 0.997+7.000e-03j,  0.995+1.000e-02j,  0.994+1.200e-02j]])"
      ]
     },
     "execution_count": 164,
     "metadata": {},
     "output_type": "execute_result"
    }
   ],
   "source": [
    "np.round(gauge_invariant_phases, 3)"
   ]
  },
  {
   "cell_type": "code",
   "execution_count": 165,
   "id": "09e5e0ba-d054-4312-b231-054c68cee150",
   "metadata": {},
   "outputs": [
    {
     "data": {
      "text/plain": [
       "array([[-0.986-0.005j, -1.02 -0.004j, -0.992-0.014j],\n",
       "       [-1.006+0.001j, -1.006-0.002j, -0.995-0.002j],\n",
       "       [-1.008+0.006j, -1.009-0.021j, -1.004-0.006j],\n",
       "       [-1.   -0.j   , -1.   +0.002j, -0.998+0.j   ],\n",
       "       [-1.011+0.002j, -0.997-0.019j, -0.994+0.016j],\n",
       "       [-1.032-0.048j, -1.009+0.036j, -1.034+0.011j],\n",
       "       [-0.999-0.002j, -0.997-0.003j, -0.996-0.002j],\n",
       "       [-1.002+0.002j, -1.001-0.001j, -1.003-0.001j],\n",
       "       [-1.001-0.02j , -1.004-0.006j, -1.005+0.01j ],\n",
       "       [-1.   +0.j   , -1.   -0.j   , -1.002-0.j   ]])"
      ]
     },
     "execution_count": 165,
     "metadata": {},
     "output_type": "execute_result"
    }
   ],
   "source": [
    "np.round(gauge_invariant_phases, 3)[:10]"
   ]
  },
  {
   "cell_type": "code",
   "execution_count": 166,
   "id": "8e043d0d-a7fa-471d-b886-4952faea67ad",
   "metadata": {},
   "outputs": [
    {
     "data": {
      "text/plain": [
       "array([[1.001+0.003j, 1.002+0.001j, 1.005+0.003j],\n",
       "       [1.007-0.026j, 1.007-0.008j, 0.982+0.012j],\n",
       "       [1.011+0.001j, 1.007+0.005j, 1.03 +0.002j],\n",
       "       [0.975-0.042j, 1.013-0.024j, 0.991+0.022j],\n",
       "       [1.001+0.006j, 1.008-0.019j, 1.008+0.001j],\n",
       "       [1.003-0.009j, 1.019-0.022j, 1.003-0.004j],\n",
       "       [1.007+0.018j, 0.986+0.015j, 1.012+0.006j],\n",
       "       [0.991+0.005j, 1.012+0.005j, 1.025+0.003j],\n",
       "       [1.009+0.001j, 0.988-0.006j, 1.   -0.003j],\n",
       "       [0.997+0.007j, 0.995+0.01j , 0.994+0.012j]])"
      ]
     },
     "execution_count": 166,
     "metadata": {},
     "output_type": "execute_result"
    }
   ],
   "source": [
    "np.round(gauge_invariant_phases, 3)[11:]"
   ]
  },
  {
   "cell_type": "markdown",
   "id": "aed49dc6-c6b7-40c4-a5b7-e250bdfce9b0",
   "metadata": {},
   "source": [
    "# Conclusions\n",
    "* It works! Could be more precise perhaps with better optimization, but it works!"
   ]
  },
  {
   "cell_type": "code",
   "execution_count": null,
   "id": "a491044e-f888-4b99-99d4-35e76e55f4a6",
   "metadata": {},
   "outputs": [],
   "source": []
  }
 ],
 "metadata": {
  "kernelspec": {
   "display_name": "num_spt_venv_p11",
   "language": "python",
   "name": "num_spt_venv_p11"
  },
  "language_info": {
   "codemirror_mode": {
    "name": "ipython",
    "version": 3
   },
   "file_extension": ".py",
   "mimetype": "text/x-python",
   "name": "python",
   "nbconvert_exporter": "python",
   "pygments_lexer": "ipython3",
   "version": "3.11.9"
  }
 },
 "nbformat": 4,
 "nbformat_minor": 5
}
