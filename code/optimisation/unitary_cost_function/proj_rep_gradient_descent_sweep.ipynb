{
 "cells": [
  {
   "attachments": {},
   "cell_type": "markdown",
   "id": "ceb2d533-10d7-4b49-a17a-87c2e8e5934a",
   "metadata": {},
   "source": [
    "# Projective representation gradient descent test\n",
    "Created 22/10/2024\n",
    "\n",
    "Objectives:\n",
    "* Apply algorithm from \"proj_rep_gradient_descent_test\" notebook to find projective representation unitaries across a range of cases, and hence extract SPT phase."
   ]
  },
  {
   "cell_type": "markdown",
   "id": "7cb25441-e060-412c-9b9e-6d7856af206a",
   "metadata": {},
   "source": [
    "# Package imports"
   ]
  },
  {
   "cell_type": "code",
   "execution_count": 1,
   "id": "ecb41ea3-927f-4efa-aebe-ce15784aa037",
   "metadata": {},
   "outputs": [],
   "source": [
    "import sys\n",
    "sys.path.append('../../')"
   ]
  },
  {
   "cell_type": "code",
   "execution_count": 2,
   "id": "4a525ec6-f0c8-47ee-8b0b-345bf0ef8bd3",
   "metadata": {},
   "outputs": [],
   "source": [
    "import h5py\n",
    "from tenpy.tools import hdf5_io\n",
    "import tenpy\n",
    "import tenpy.linalg.np_conserved as npc\n",
    "\n",
    "import os"
   ]
  },
  {
   "cell_type": "code",
   "execution_count": 3,
   "id": "214f688a-c657-4810-b4d1-b1247deff62c",
   "metadata": {},
   "outputs": [],
   "source": [
    "import numpy as np\n",
    "import matplotlib.pyplot as plt\n",
    "import pandas as pd\n",
    "\n",
    "import scipy"
   ]
  },
  {
   "cell_type": "code",
   "execution_count": 4,
   "id": "2b54f3ce-90c3-4c5e-81e6-f801480f41fa",
   "metadata": {},
   "outputs": [],
   "source": [
    "from functools import reduce "
   ]
  },
  {
   "cell_type": "code",
   "execution_count": 5,
   "id": "b8dec68d-a5b3-4383-ab44-567a9a5981b3",
   "metadata": {},
   "outputs": [],
   "source": [
    "from SPTOptimization.SymmetryActionWithBoundaryUnitaries import SymmetryActionWithBoundaryUnitaries\n",
    "\n",
    "from SPTOptimization.utils import to_npc_array"
   ]
  },
  {
   "cell_type": "code",
   "execution_count": 6,
   "id": "cebb84ba-c22c-4224-9e2b-775506029b3e",
   "metadata": {},
   "outputs": [],
   "source": [
    "import re"
   ]
  },
  {
   "cell_type": "markdown",
   "id": "a175206a-1996-4839-bcbe-7a581eacf1dc",
   "metadata": {},
   "source": [
    "# Load data"
   ]
  },
  {
   "cell_type": "code",
   "execution_count": 7,
   "id": "c196fe74-d78a-4205-a41a-acfa510831d1",
   "metadata": {},
   "outputs": [],
   "source": [
    "DATA_DIR = r\"../../data/transverse_cluster_200_site_dmrg\""
   ]
  },
  {
   "cell_type": "code",
   "execution_count": 8,
   "id": "e1a89621-91df-4f40-adef-f16acbdea3e9",
   "metadata": {},
   "outputs": [],
   "source": [
    "loaded_data = list()\n",
    "\n",
    "for local_file_name in os.listdir(DATA_DIR):\n",
    "    f_name = r\"{}/{}\".format(DATA_DIR, local_file_name, ignore_unknown=False)\n",
    "    with h5py.File(f_name, 'r') as f:\n",
    "        data = hdf5_io.load_from_hdf5(f)\n",
    "        loaded_data.append(data)"
   ]
  },
  {
   "cell_type": "code",
   "execution_count": 9,
   "id": "b805dcff-dfda-4ca4-ba53-c6a3d6822dd4",
   "metadata": {},
   "outputs": [],
   "source": [
    "b_parameters = sorted(list(d['paramters']['B'] for d in loaded_data))"
   ]
  },
  {
   "cell_type": "code",
   "execution_count": 10,
   "id": "827a26d6-a667-4828-bf55-db731e15d89d",
   "metadata": {},
   "outputs": [],
   "source": [
    "psi_dict = dict()"
   ]
  },
  {
   "cell_type": "code",
   "execution_count": 11,
   "id": "e0e8c819-03d8-4a47-b853-365d65364ac7",
   "metadata": {},
   "outputs": [],
   "source": [
    "for b in b_parameters:\n",
    "    psi = next(\n",
    "        d['wavefunction']\n",
    "        for d in loaded_data\n",
    "        if d['paramters']['B'] == b\n",
    "    )\n",
    "\n",
    "    rounded_b = round(b, 1)\n",
    "    psi_dict[rounded_b] = psi"
   ]
  },
  {
   "cell_type": "markdown",
   "id": "b54d9a67-bf8b-44a8-a99f-aeac561e6e6a",
   "metadata": {},
   "source": [
    "# Definitions"
   ]
  },
  {
   "cell_type": "code",
   "execution_count": 12,
   "id": "62ec5614-6aca-465d-a562-f0f4fb98cac5",
   "metadata": {},
   "outputs": [],
   "source": [
    "np_I = np.array([[1,0],[0,1]])\n",
    "np_X = np.array([[0,1],[1,0]])\n",
    "np_Y = np.array([[0,-1j],[1j,0]])\n",
    "np_Z = np.array([[1,0],[0,-1]])"
   ]
  },
  {
   "cell_type": "code",
   "execution_count": 13,
   "id": "ddc01bac-517f-4922-9df0-28b400f70a3e",
   "metadata": {},
   "outputs": [],
   "source": [
    "symmetry_actions = [\n",
    "    [np_I, np_I],\n",
    "    [np_I, np_X],\n",
    "    [np_X, np_I],\n",
    "    [np_X, np_X]\n",
    "]"
   ]
  },
  {
   "cell_type": "code",
   "execution_count": 14,
   "id": "10721838-5776-4da8-9618-01dd30494f13",
   "metadata": {},
   "outputs": [],
   "source": [
    "symmetry_labels = [\n",
    "    'II',\n",
    "    'IX',\n",
    "    'XI',\n",
    "    'XX'\n",
    "]"
   ]
  },
  {
   "cell_type": "code",
   "execution_count": 15,
   "id": "a706b5a0-860a-4294-8b5b-bdbf9482fe28",
   "metadata": {},
   "outputs": [],
   "source": [
    "cases = [\n",
    "    [\n",
    "        SymmetryActionWithBoundaryUnitaries(\n",
    "            psi,\n",
    "            s*50,\n",
    "            left_boundary_unitaries=[np_I,]*3,\n",
    "            right_boundary_unitaries=[np_I,]*3\n",
    "        )\n",
    "        for s in symmetry_actions\n",
    "    ]\n",
    "    for psi in psi_dict.values()\n",
    "]"
   ]
  },
  {
   "cell_type": "code",
   "execution_count": 16,
   "id": "8e7ff810-32b3-4163-9b1b-ca96a282a7f5",
   "metadata": {},
   "outputs": [],
   "source": [
    "for l in cases:\n",
    "    for c in l:\n",
    "        c.compute_svd_approximate_expectation()"
   ]
  },
  {
   "cell_type": "code",
   "execution_count": 17,
   "id": "ab0c7f59-ae1d-40d6-969f-edb5c5b4f7d7",
   "metadata": {},
   "outputs": [],
   "source": [
    "NUM_SITES = 6"
   ]
  },
  {
   "cell_type": "code",
   "execution_count": 18,
   "id": "aab20cf0-ae51-4603-9192-5ba0741b6a6d",
   "metadata": {},
   "outputs": [],
   "source": [
    "e, a, b, c = symmetry_labels"
   ]
  },
  {
   "cell_type": "code",
   "execution_count": 19,
   "id": "955bfb99-9c73-4794-b14e-f62f7872abe5",
   "metadata": {},
   "outputs": [],
   "source": [
    "group_products = [\n",
    "    (a, a, e),\n",
    "    (b, b, e),\n",
    "    (c, c, e),\n",
    "    (a, b, c),\n",
    "    (b, a, c),\n",
    "    (a, c, b),\n",
    "    (c, a, b),\n",
    "    (c, b, a),\n",
    "    (b, c, a)\n",
    "]"
   ]
  },
  {
   "cell_type": "markdown",
   "id": "b116ba1c-8bbd-4278-89f1-d7172b836846",
   "metadata": {},
   "source": [
    "## Functions"
   ]
  },
  {
   "cell_type": "code",
   "execution_count": 20,
   "id": "86959723-16ca-49e9-9688-4228b620c1b8",
   "metadata": {},
   "outputs": [],
   "source": [
    "P_LEG_LABEL_REGEX_STRING = r\"^p\\d*$\"\n",
    "p_leg_pattern = re.compile(P_LEG_LABEL_REGEX_STRING)\n",
    "\n",
    "def is_single_physical_leg_label(label):\n",
    "    return bool(p_leg_pattern.match(label))"
   ]
  },
  {
   "cell_type": "code",
   "execution_count": 21,
   "id": "29d8003f-01c6-4575-abb3-8172dfb09fcc",
   "metadata": {},
   "outputs": [],
   "source": [
    "def is_grouped_physical_leg_label(leg_label):\n",
    "    head, *body, tail = leg_label\n",
    "    if (head != '(') or (tail != ')'):\n",
    "        return False\n",
    "\n",
    "    body = ''.join(body)\n",
    "    legs = body.split('.')\n",
    "\n",
    "    return all(is_single_physical_leg_label(l) for l in legs)"
   ]
  },
  {
   "cell_type": "code",
   "execution_count": 22,
   "id": "6b93c611-1b63-47b2-99a1-f6e2d72cc3b9",
   "metadata": {},
   "outputs": [],
   "source": [
    "def is_physical_leg_label(label):\n",
    "    out = (\n",
    "        is_single_physical_leg_label(label)\n",
    "        or is_grouped_physical_leg_label(label)\n",
    "    )\n",
    "\n",
    "    return out"
   ]
  },
  {
   "cell_type": "code",
   "execution_count": 23,
   "id": "6735cf31-f7ec-4488-91b0-88f6ab535730",
   "metadata": {},
   "outputs": [],
   "source": [
    "def extract_single_physical_leg_label_from_tensor(b):\n",
    "    out = next(\n",
    "        l for l in b.get_leg_labels()\n",
    "        if is_single_physical_leg_label(l)\n",
    "    )\n",
    "\n",
    "    return out"
   ]
  },
  {
   "cell_type": "code",
   "execution_count": 24,
   "id": "9cdb3295-995e-4161-a78c-df2ccce9a3b6",
   "metadata": {},
   "outputs": [],
   "source": [
    "def conjugate_single_physical_leg_label(label):\n",
    "    return label + '*'"
   ]
  },
  {
   "cell_type": "code",
   "execution_count": 25,
   "id": "52ee605f-f3d0-45b4-b796-1afe82b3877b",
   "metadata": {},
   "outputs": [],
   "source": [
    "def conjugate_grouped_physical_leg_label(label):\n",
    "    _, *body, _ = label\n",
    "    single_labels = ''.join(body).split('.')\n",
    "\n",
    "    conjugate_labels = [\n",
    "        conjugate_single_physical_leg_label(l)\n",
    "        for l in single_labels\n",
    "    ]\n",
    "\n",
    "    conjugate_body = '.'.join(conjugate_labels)\n",
    "    out = '(' + conjugate_body + ')'\n",
    "    \n",
    "    return out"
   ]
  },
  {
   "cell_type": "code",
   "execution_count": 26,
   "id": "53cee727-b4e7-4949-8311-e6c31bf11599",
   "metadata": {},
   "outputs": [],
   "source": [
    "def conjugate_leg_label(label):\n",
    "    if is_single_physical_leg_label(label):\n",
    "        return conjugate_single_physical_leg_label(label)\n",
    "    elif is_grouped_physical_leg_label(label):\n",
    "        return conjugate_grouped_physical_leg_label(label)\n",
    "    else:\n",
    "        raise ValueError"
   ]
  },
  {
   "cell_type": "code",
   "execution_count": 27,
   "id": "9d9130c2-a455-4f67-a371-f57810c17a2d",
   "metadata": {},
   "outputs": [],
   "source": [
    "def get_physical_leg_labels(t):\n",
    "    out = [\n",
    "        ll for ll in t.get_leg_labels()\n",
    "        if is_physical_leg_label(ll)\n",
    "    ]\n",
    "\n",
    "    return out"
   ]
  },
  {
   "cell_type": "code",
   "execution_count": 28,
   "id": "feaea859-aa93-4971-a766-ea3ecab718b8",
   "metadata": {},
   "outputs": [],
   "source": [
    "def get_random_unitary_operator(mps_tensor, dim):\n",
    "    # To-do: automate getting dimension\n",
    "    p_leg_label = get_physical_leg_labels(mps_tensor)[0]\n",
    "    p_leg = mps_tensor.get_leg(p_leg_label)\n",
    "    p_leg_label_conj = conjugate_leg_label(p_leg_label)\n",
    "    p_leg_conj = mps_tensor.get_leg(p_leg_label_conj)\n",
    "\n",
    "    X = scipy.stats.unitary_group.rvs(dim)\n",
    "\n",
    "    out = npc.Array.from_ndarray(\n",
    "        X,\n",
    "        legcharges=[p_leg, p_leg_conj],\n",
    "        dtype='complex',\n",
    "        labels=[p_leg_label, p_leg_label_conj]\n",
    "    )\n",
    "\n",
    "    return out"
   ]
  },
  {
   "cell_type": "code",
   "execution_count": 29,
   "id": "1708a45d-6a1c-4166-add1-f76da4185ae6",
   "metadata": {},
   "outputs": [],
   "source": [
    "def get_identity_operator(mps_tensor):\n",
    "    p_leg_label = get_physical_leg_labels(mps_tensor)[0]\n",
    "    p_leg = mps_tensor.get_leg(p_leg_label)\n",
    "    p_leg_label_conj = conjugate_leg_label(p_leg_label)\n",
    "\n",
    "    out = npc.diag(\n",
    "        1,\n",
    "        leg=p_leg,\n",
    "        dtype='complex',\n",
    "        labels=[p_leg_label, p_leg_label_conj]\n",
    "    )\n",
    "\n",
    "    return out"
   ]
  },
  {
   "cell_type": "markdown",
   "id": "d826ca80-b795-4c40-bdd4-8e911bbe4f2f",
   "metadata": {},
   "source": [
    "### Gradients"
   ]
  },
  {
   "cell_type": "code",
   "execution_count": 30,
   "id": "2abb0749-eceb-4eb9-8adb-74e08bff18fb",
   "metadata": {},
   "outputs": [],
   "source": [
    "def unitarity_gradient(matrix, grouped_physical_leg_label='p',\n",
    "                      grouped_physical_leg_conj_label='p*'):\n",
    "    # To-do: Optimise extraction of physical leg labels\n",
    "    def matrix_multiplication(m1, m2):\n",
    "        return npc.tensordot(\n",
    "            m1,\n",
    "            m2,\n",
    "            [\n",
    "                [grouped_physical_leg_label,],\n",
    "                [grouped_physical_leg_conj_label,]\n",
    "            ]\n",
    "        )\n",
    "    \n",
    "    t = matrix_multiplication(matrix, matrix.conj())\n",
    "\n",
    "    score_2 = npc.trace(\n",
    "        t,\n",
    "        grouped_physical_leg_label,\n",
    "        grouped_physical_leg_conj_label\n",
    "    )\n",
    "\n",
    "    t = matrix_multiplication(t, matrix)\n",
    "\n",
    "    score_4 = npc.tensordot(\n",
    "        t,\n",
    "        matrix.conj(),\n",
    "        [\n",
    "            [grouped_physical_leg_label, grouped_physical_leg_conj_label],\n",
    "            [grouped_physical_leg_conj_label, grouped_physical_leg_label]\n",
    "        ]\n",
    "    )\n",
    "\n",
    "    return (t - matrix, score_2, score_4)"
   ]
  },
  {
   "cell_type": "code",
   "execution_count": 31,
   "id": "bb727155-f175-495f-8949-d19d711cccba",
   "metadata": {},
   "outputs": [],
   "source": [
    "def overlap_gradient(matrix, reduced_density_matrix,\n",
    "                     grouped_physical_leg_label,\n",
    "                     grouped_physical_leg_conj_label,\n",
    "                     target=1): \n",
    "\n",
    "    overlap = npc.tensordot(\n",
    "        matrix,\n",
    "        reduced_density_matrix,\n",
    "        [\n",
    "            [grouped_physical_leg_label, grouped_physical_leg_conj_label],\n",
    "            [grouped_physical_leg_conj_label, grouped_physical_leg_label]\n",
    "        ]\n",
    "    )\n",
    "\n",
    "    scale = (overlap - target*overlap/(np.abs(overlap)))\n",
    "    gradient = scale*reduced_density_matrix.conj()\n",
    "\n",
    "    return (gradient, overlap)"
   ]
  },
  {
   "cell_type": "code",
   "execution_count": 32,
   "id": "42b2a613-312b-426e-85ca-92fc713003f2",
   "metadata": {},
   "outputs": [],
   "source": [
    "def update(matrix, reduced_density_matrix, unitarity_scores, overlap_scores,\n",
    "           target_scores, grouped_physical_leg_label,\n",
    "           grouped_physical_leg_conj_label, matrix_dim, unitarity_lr,\n",
    "           overlap_lr, target=1):\n",
    "\n",
    "    u_grad, u_score_2, u_score_4 = unitarity_gradient(\n",
    "        matrix, grouped_physical_leg_label, grouped_physical_leg_conj_label\n",
    "    )\n",
    "\n",
    "    u_score = u_score_4 - 2*u_score_2 + matrix_dim\n",
    "    unitarity_scores.append(u_score.real)\n",
    "\n",
    "    o_gradient, overlap = overlap_gradient(\n",
    "        matrix,\n",
    "        reduced_density_matrix,\n",
    "        grouped_physical_leg_label,\n",
    "        grouped_physical_leg_conj_label,\n",
    "        target=target\n",
    "    )\n",
    "\n",
    "    overlap_scores.append(overlap)\n",
    "\n",
    "    target_score = (\n",
    "        (overlap_lr/2.0)*(target - np.abs(overlap))**2 +\n",
    "        (unitarity_lr/4.0)*u_score.real\n",
    "    )\n",
    "\n",
    "    target_scores.append(target_score)\n",
    "\n",
    "    gradient = unitarity_lr*u_grad + overlap_lr*o_gradient\n",
    "    matrix -= gradient"
   ]
  },
  {
   "cell_type": "markdown",
   "id": "6282eede-e72d-448d-9609-3c870522b13b",
   "metadata": {},
   "source": [
    "### Proj rep functions"
   ]
  },
  {
   "cell_type": "code",
   "execution_count": 33,
   "id": "a6b954d1-f0da-4463-af2f-d4bf3d88f6cf",
   "metadata": {},
   "outputs": [],
   "source": [
    "IDENTITY_LABEL = 'II'"
   ]
  },
  {
   "cell_type": "code",
   "execution_count": 34,
   "id": "4417ff90-7fcc-4949-a17d-6f616fe56bbf",
   "metadata": {},
   "outputs": [],
   "source": [
    "def update_grad_dict(grad_dict, group_element_label, value):\n",
    "    if group_element_label in grad_dict:\n",
    "        grad_dict[group_element_label] += value\n",
    "    else:\n",
    "        grad_dict[group_element_label] = value"
   ]
  },
  {
   "cell_type": "code",
   "execution_count": 35,
   "id": "a3d701dd-e8bf-40db-9c9a-c5d1536cb602",
   "metadata": {},
   "outputs": [],
   "source": [
    "def get_unitary_from_dict(unitary_dict, label, identity_label=IDENTITY_LABEL):\n",
    "    if label == identity_label:\n",
    "        return None\n",
    "    else:\n",
    "        return unitary_dict[label]"
   ]
  },
  {
   "cell_type": "code",
   "execution_count": 36,
   "id": "764abbfb-22cb-4e9a-9465-c8d1671d8f29",
   "metadata": {},
   "outputs": [],
   "source": [
    "def update_grad_inverse_pair_case(unitary_1, unitary_2, group_label_1,\n",
    "                               group_label_2, matrix_mul, grad_dict,\n",
    "                               scores_dict, identity_label=IDENTITY_LABEL):\n",
    "    u1, u2 = unitary_1, unitary_2\n",
    "    \n",
    "    u3 = matrix_mul(u1, u2)\n",
    "\n",
    "    leg_labels = u3.get_leg_labels()\n",
    "\n",
    "    c = npc.trace(u3, *leg_labels)\n",
    "    c_normed = c/(np.abs(c))\n",
    "\n",
    "    o1 = matrix_mul(u3, u2.conj())\n",
    "    o2 = matrix_mul(u1.conj(), u3)\n",
    "\n",
    "    grad_1 = o1 - c_normed*(u2.conj())\n",
    "    grad_2 = o2 - c_normed*(u1.conj())\n",
    "\n",
    "    update_grad_dict(grad_dict, group_label_1, grad_1)\n",
    "    update_grad_dict(grad_dict, group_label_2, grad_2)\n",
    "\n",
    "    s1 = npc.tensordot(o1, u1.conj(), [leg_labels, leg_labels[::-1]])\n",
    "    s2 = np.abs(c)\n",
    "    s3 = u3.shape[0]\n",
    "    \n",
    "    score = (s1 -2*s2 + s3).real\n",
    "\n",
    "    scores_dict[(group_label_1, group_label_2, identity_label)] = score"
   ]
  },
  {
   "cell_type": "code",
   "execution_count": 37,
   "id": "5dfe2073-5338-41c7-8777-4b66a6a9b22f",
   "metadata": {},
   "outputs": [],
   "source": [
    "def update_grad_generic_case(unitary_triple, group_label_triple, matrix_mul,\n",
    "                          grad_dict, scores_dict):\n",
    "    \n",
    "    u_a, u_b, u_c = unitary_triple\n",
    "\n",
    "    # Perform matrix multiplications in a way that's difficult to read but\n",
    "    # ultimately reduces the number of matrix multiplications performed.\n",
    "    u1 = matrix_mul(u_a, u_b)\n",
    "    u2 = matrix_mul(u_a.conj(), u_c)\n",
    "    u3 = matrix_mul(u_c, u_b.conj())\n",
    "\n",
    "    u_triple = matrix_mul(u1, u_c.conj())\n",
    "    u4 = matrix_mul(u_triple, u3)\n",
    "    u5 = matrix_mul(u_a.conj(), u1)\n",
    "    u6 = reduce(matrix_mul, [u5, u_c.conj(), u_c])\n",
    "    u7 = matrix_mul(u3, u5)\n",
    "\n",
    "    leg_labels = u_triple.get_leg_labels()\n",
    "\n",
    "    c = npc.trace(u_triple, *leg_labels)\n",
    "    c_normed = c/(np.abs(c))\n",
    "\n",
    "    grads = [\n",
    "        u4 - c_normed*u3,\n",
    "        u6 - c_normed*u2,\n",
    "        u7 - c_normed.conjugate()*u1\n",
    "    ]\n",
    "\n",
    "    for l, g in zip(group_label_triple, grads):\n",
    "        update_grad_dict(grad_dict, l, g)\n",
    "    \n",
    "    s1 = npc.tensordot(u4, u_a.conj(), [leg_labels, leg_labels[::-1]])\n",
    "    s2 = np.abs(c)\n",
    "    s3 = u_triple.shape[0]\n",
    "    \n",
    "    score = (s1 -2*s2 + s3).real\n",
    "\n",
    "    scores_dict[group_label_triple] = score"
   ]
  },
  {
   "cell_type": "code",
   "execution_count": 38,
   "id": "aeb117ab-8b0c-450a-8cc5-429e61eebe35",
   "metadata": {},
   "outputs": [],
   "source": [
    "def update_grad(unitary_dict, group_label_triple, matrix_mul, grad_dict,\n",
    "                scores_dict, identity_label=IDENTITY_LABEL):\n",
    "    u_a, u_b, u_c = [\n",
    "        get_unitary_from_dict(unitary_dict, g)\n",
    "        for g in group_label_triple\n",
    "    ]\n",
    "\n",
    "    if u_c is None:\n",
    "        update_grad_inverse_pair_case(\n",
    "            u_a,\n",
    "            u_b,\n",
    "            group_label_triple[0],\n",
    "            group_label_triple[1],\n",
    "            matrix_mul,\n",
    "            grad_dict,\n",
    "            scores_dict,\n",
    "            identity_label\n",
    "        )\n",
    "    else:\n",
    "        update_grad_generic_case(\n",
    "            (u_a, u_b, u_c),\n",
    "            group_label_triple,\n",
    "            matrix_mul,\n",
    "            grad_dict,\n",
    "            scores_dict\n",
    "        )"
   ]
  },
  {
   "cell_type": "code",
   "execution_count": 39,
   "id": "4d530da8-a0f0-4d70-ac94-1912b55bbe50",
   "metadata": {},
   "outputs": [],
   "source": [
    "# Unused functions\n",
    "def get_grad_first_element(u_a, u_b, u_c, trace_phase, matrix_mul):\n",
    "    u_1 = matrix_mul(u_c, u_b.conj())\n",
    "\n",
    "    u_2 = reduce(matrix_mul, [u_a, u_b, u_c.conj(), u_1])\n",
    "\n",
    "    return u1 - trace_phase*u_2\n",
    "\n",
    "def get_grad_second_element(u_a, u_b, u_c, trace_phase, matrix_mul):\n",
    "    u_1 = matrix_mul(u_a.conj(), u_c)\n",
    "\n",
    "    u_2 = reduce(matrix_mul, [u_a.conj(), u_a, u_b, u_c.conj(), u_c])\n",
    "\n",
    "    return u1 - trace_phase*u_2\n",
    "\n",
    "def get_grad_third_element(u_a, u_b, u_c, trace_phase, matrix_mul):\n",
    "    u_1 = matrix_mul(u_a, u_b)\n",
    "\n",
    "    u_2 = reduce(matrix_mul, [u_c, u_b.conj(), u_a.conj(), u_1])\n",
    "\n",
    "    return u1 - trace_phase.conjugate()*u_2\n",
    "\n",
    "grad_element_functions = [\n",
    "    get_grad_first_element,\n",
    "    get_grad_second_element,\n",
    "    get_grad_third_element\n",
    "]"
   ]
  },
  {
   "cell_type": "code",
   "execution_count": 40,
   "id": "6940dbe1-ed2e-44e5-9bcb-fd99e8e90227",
   "metadata": {},
   "outputs": [],
   "source": [
    "def get_proj_rep_grad(unitary_dict, group_label_triples, physical_leg_label,\n",
    "             physical_leg_conj_label, identity_label=IDENTITY_LABEL):\n",
    "    \n",
    "    def matrix_multiplication(m1, m2):\n",
    "        return npc.tensordot(\n",
    "            m1,\n",
    "            m2,\n",
    "            [[physical_leg_label,], [physical_leg_conj_label,]]\n",
    "        )\n",
    "\n",
    "    grad_dict = dict()\n",
    "    scores_dict = dict()\n",
    "\n",
    "    for group_label_triple in group_label_triples:\n",
    "        update_grad(\n",
    "            unitary_dict,\n",
    "            group_label_triple,\n",
    "            matrix_multiplication,\n",
    "            grad_dict,\n",
    "            scores_dict,\n",
    "            identity_label=IDENTITY_LABEL\n",
    "        )\n",
    "\n",
    "    score = sum(scores_dict.values())\n",
    "\n",
    "    return grad_dict, score"
   ]
  },
  {
   "cell_type": "code",
   "execution_count": 41,
   "id": "86e390c5-87d9-4e7d-bbbd-02fded2b2855",
   "metadata": {},
   "outputs": [],
   "source": [
    "def get_reduced_density_matrix(symmetry_case, num_sites=NUM_SITES, normalise=False):\n",
    "    mps_tensors = [\n",
    "        symmetry_case.psi.get_B(i)\n",
    "        for i in range(\n",
    "            symmetry_case.right_symmetry_index + 1,\n",
    "            symmetry_case.right_symmetry_index + 1 + num_sites\n",
    "        )\n",
    "    ]\n",
    "\n",
    "    rdm = symmetry_case.right_projected_symmetry_state\n",
    "\n",
    "    if normalise:\n",
    "        normalisation = npc.trace(rdm, 'vR', 'vR*')\n",
    "        norm_phase = normalisation/np.abs(normalisation)\n",
    "    \n",
    "        rdm *= norm_phase.conj()\n",
    "\n",
    "    for i, b in enumerate(mps_tensors):\n",
    "        b_current = b.replace_label('p', f'p{i}')\n",
    "    \n",
    "        rdm = npc.tensordot(rdm, b_current, [['vR'], ['vL']])\n",
    "        rdm = npc.tensordot(rdm, b_current.conj(), [['vR*'], ['vL*']])\n",
    "    \n",
    "    rdm = npc.trace(rdm, 'vR', 'vR*')\n",
    "\n",
    "    leg_labels = [f'p{i}' for i in range(num_sites)]\n",
    "    leg_conj_labels = [f'p{i}*' for i in range(num_sites)]\n",
    "\n",
    "    rdm = rdm.combine_legs([leg_labels, leg_conj_labels])\n",
    "\n",
    "    return rdm"
   ]
  },
  {
   "cell_type": "code",
   "execution_count": 42,
   "id": "90e41a04-b548-4c31-8441-6dd06bbbcd87",
   "metadata": {},
   "outputs": [],
   "source": [
    "def get_grouped_leg_labels(num_sites):\n",
    "    leg_labels = [f'p{i}' for i in range(num_sites)]\n",
    "    leg_conj_labels = [f'p{i}*' for i in range(num_sites)]\n",
    "\n",
    "    grouped_physical_leg_label = '(' + '.'.join(leg_labels) + ')'\n",
    "    grouped_physical_leg_conj_label = '(' + '.'.join(leg_conj_labels) + ')'\n",
    "\n",
    "    return (grouped_physical_leg_label, grouped_physical_leg_conj_label)"
   ]
  },
  {
   "cell_type": "code",
   "execution_count": 43,
   "id": "7f821d87-fde7-4579-954d-27b0dd8f1342",
   "metadata": {},
   "outputs": [],
   "source": [
    "def multiply_tenpy_matrices(m1, m2, grouped_physical_leg_label='p',\n",
    "                            grouped_physical_leg_conj_label='p*'):\n",
    "    return npc.tensordot(\n",
    "        m1,\n",
    "        m2,\n",
    "        [\n",
    "            [grouped_physical_leg_label,],\n",
    "            [grouped_physical_leg_conj_label,]\n",
    "        ]\n",
    "    )"
   ]
  },
  {
   "cell_type": "code",
   "execution_count": 44,
   "id": "773c2f92-6ea4-4e2b-b3e7-f04c11ec7dad",
   "metadata": {},
   "outputs": [],
   "source": [
    "def get_overlap_target(symmetry_case):\n",
    "    singular_val = symmetry_case.symmetry_transfer_matrix_singular_vals[0]\n",
    "    target = np.power(singular_val, -1/2)\n",
    "\n",
    "    return target"
   ]
  },
  {
   "cell_type": "code",
   "execution_count": 45,
   "id": "ceeae501-35f0-4ae5-82e3-ecb93edd149a",
   "metadata": {},
   "outputs": [],
   "source": [
    "def initalize_optimization(symmetry_cases, num_sites,\n",
    "                           random_initialisation=False):\n",
    "\n",
    "    # Don't forget to only pass in symmetry_cases without identity!\n",
    "    # Should maybe allow for identity as well...?\n",
    "\n",
    "    reduced_density_matrices = {\n",
    "        l: get_reduced_density_matrix(c, num_sites)\n",
    "        for l, c in zip(symmetry_labels[1:], symmetry_cases)\n",
    "    }\n",
    "\n",
    "    overlap_targets = {\n",
    "        l: get_overlap_target(c)\n",
    "        for l, c in zip(symmetry_labels[1:], symmetry_cases)\n",
    "    }\n",
    "\n",
    "    leg_label, leg_conj_label = get_grouped_leg_labels(num_sites)\n",
    "\n",
    "    # Assuming spin 1/2\n",
    "    matrix_dim = 2**num_sites\n",
    "\n",
    "    if random_initialisation:\n",
    "        solutions_dict = {\n",
    "            l: get_random_unitary_operator(rdm, matrix_dim)\n",
    "            for l, rdm in reduced_density_matrices.items()\n",
    "        }\n",
    "    else:\n",
    "        solutions_dict = {\n",
    "            l: get_identity_operator(rdm)\n",
    "            for l, rdm in reduced_density_matrices.items()\n",
    "        }\n",
    "\n",
    "    unitarity_scores = {l:list() for l in symmetry_labels[1:]}\n",
    "    overall_unitarity_scores = list()\n",
    "    overlap_scores = {l:list() for l in symmetry_labels[1:]}\n",
    "    overall_target_overlap_scores = list()\n",
    "    proj_rep_scores = list()\n",
    "    # Be clearer with names?\n",
    "    cost_function_scores = list()\n",
    "\n",
    "    # Implement checks...?\n",
    "\n",
    "    return (\n",
    "        reduced_density_matrices,\n",
    "        overlap_targets,\n",
    "        leg_label,\n",
    "        leg_conj_label,\n",
    "        matrix_dim,\n",
    "        solutions_dict,\n",
    "        unitarity_scores,\n",
    "        overall_unitarity_scores,\n",
    "        overlap_scores,\n",
    "        overall_target_overlap_scores,\n",
    "        proj_rep_scores,\n",
    "        cost_function_scores\n",
    "    )"
   ]
  },
  {
   "cell_type": "code",
   "execution_count": 46,
   "id": "fed903b5-84e1-4d3d-8876-7e6d1d1ac9aa",
   "metadata": {},
   "outputs": [],
   "source": [
    "def get_unitarity_gradients(solutions_dict, matrix_dim, leg_label,\n",
    "                            leg_conj_label):\n",
    "    grad_score_triples = {\n",
    "        l: unitarity_gradient(v, leg_label, leg_conj_label)\n",
    "        for l, v in solutions_dict.items()\n",
    "    }\n",
    "\n",
    "    grads = {l: t[0] for l, t in grad_score_triples.items()}\n",
    "\n",
    "    get_u_score = lambda t: (t[2] - 2*t[1] + matrix_dim).real\n",
    "\n",
    "    scores = {l: get_u_score(t) for l, t in grad_score_triples.items()}\n",
    "\n",
    "    return grads, scores"
   ]
  },
  {
   "cell_type": "code",
   "execution_count": 47,
   "id": "3d1245b7-2d20-4ce0-bbce-90a054d31fd0",
   "metadata": {},
   "outputs": [],
   "source": [
    "def get_overlap_gradients(solutions_dict, reduced_density_matrices,\n",
    "                          overlap_targets, leg_label, leg_conj_label):\n",
    "    grads = dict()\n",
    "    scores = dict()\n",
    "\n",
    "    for label, sol in solutions_dict.items():\n",
    "        rdm = reduced_density_matrices[label]\n",
    "        overlap_target = overlap_targets[label]\n",
    "\n",
    "        gradient, overlap_score = overlap_gradient(\n",
    "            sol,\n",
    "            rdm,\n",
    "            leg_label,\n",
    "            leg_conj_label,\n",
    "            target=overlap_target\n",
    "        )\n",
    "\n",
    "        grads[label] = gradient\n",
    "        scores[label] = overlap_score\n",
    "\n",
    "    return grads, scores"
   ]
  },
  {
   "cell_type": "code",
   "execution_count": 48,
   "id": "a63c1c58-23dc-4db5-b5da-be9e1e7e84bd",
   "metadata": {},
   "outputs": [],
   "source": [
    "def update_once(reduced_density_matrices, overlap_targets, leg_label,\n",
    "                leg_conj_label, matrix_dim, solutions_dict, unitarity_scores,\n",
    "                overall_unitarity_scores, overlaps,\n",
    "                overall_target_overlap_scores, proj_rep_scores,\n",
    "                cost_function_scores, group_label_triples, unitarity_lr,\n",
    "                overlap_lr, proj_rep_lr):\n",
    "\n",
    "\n",
    "    unitarity_grads, current_u_scores = get_unitarity_gradients(\n",
    "        solutions_dict, matrix_dim,leg_label, leg_conj_label\n",
    "    )\n",
    "\n",
    "    for l, s in current_u_scores.items():\n",
    "        unitarity_scores[l].append(s)\n",
    "\n",
    "    current_u_score = sum(current_u_scores.values())\n",
    "    overall_unitarity_scores.append(current_u_score)\n",
    "\n",
    "    overlap_grads, current_overlaps = get_overlap_gradients(\n",
    "        solutions_dict,\n",
    "        reduced_density_matrices,\n",
    "        overlap_targets,\n",
    "        leg_label,\n",
    "        leg_conj_label\n",
    "    )\n",
    "\n",
    "    for l, s in current_overlaps.items():\n",
    "        overlaps[l].append(np.abs(s))\n",
    "\n",
    "    overlap_target_score = sum(\n",
    "        (overlap_targets[l] - np.abs(current_overlaps[l]))**2\n",
    "        for l in current_overlaps\n",
    "    )\n",
    "\n",
    "    overall_target_overlap_scores.append(overlap_target_score)\n",
    "\n",
    "    # Proj rep case\n",
    "    proj_rep_grads, proj_rep_score = get_proj_rep_grad(\n",
    "        solutions_dict,\n",
    "        group_label_triples,\n",
    "        leg_label,\n",
    "        leg_conj_label,\n",
    "        identity_label=IDENTITY_LABEL\n",
    "    )\n",
    "\n",
    "    proj_rep_scores.append(proj_rep_score)\n",
    "\n",
    "    cost_function_score = (\n",
    "        (overlap_lr/2.0)*overlap_target_score +\n",
    "        (unitarity_lr/4.0)*current_u_score +\n",
    "        (proj_rep_lr)*proj_rep_score\n",
    "    )\n",
    "        \n",
    "    cost_function_scores.append(cost_function_score)\n",
    "\n",
    "    # Update each unitary\n",
    "    for l in solutions_dict:\n",
    "        solutions_dict[l] -= unitarity_lr*unitarity_grads[l]\n",
    "        solutions_dict[l] -= overlap_lr*overlap_grads[l]\n",
    "        solutions_dict[l] -= proj_rep_lr*proj_rep_grads[l]"
   ]
  },
  {
   "cell_type": "code",
   "execution_count": 49,
   "id": "6b1c2416-0b1a-4c88-971c-264df3ceae3c",
   "metadata": {},
   "outputs": [],
   "source": [
    "def repeat_update(reduced_density_matrices, overlap_targets, leg_label,\n",
    "                leg_conj_label, matrix_dim, solutions_dict, unitarity_scores,\n",
    "                overall_unitarity_scores, overlaps,\n",
    "                overall_target_overlap_scores, proj_rep_scores,\n",
    "                cost_function_scores, group_label_triples, unitarity_lr,\n",
    "                overlap_lr, proj_rep_lr, num_iterations):\n",
    "\n",
    "    for _ in range(num_iterations):\n",
    "        update_once(\n",
    "            reduced_density_matrices,\n",
    "            overlap_targets,\n",
    "            leg_label,\n",
    "            leg_conj_label,\n",
    "            matrix_dim,\n",
    "            solutions_dict,\n",
    "            unitarity_scores,\n",
    "            overall_unitarity_scores,\n",
    "            overlaps,\n",
    "            overall_target_overlap_scores,\n",
    "            proj_rep_scores,\n",
    "            cost_function_scores,\n",
    "            group_label_triples,\n",
    "            unitarity_lr,\n",
    "            overlap_lr,\n",
    "            proj_rep_lr\n",
    "        )"
   ]
  },
  {
   "cell_type": "markdown",
   "id": "9b7e6588-e11d-429d-b9a9-945e59618933",
   "metadata": {},
   "source": [
    "### Sweep function"
   ]
  },
  {
   "cell_type": "code",
   "execution_count": 62,
   "id": "63c207d0-dd3c-4691-9420-deb212e99ff7",
   "metadata": {},
   "outputs": [],
   "source": [
    "num_sites = 5\n",
    "num_random_initializations = 200\n",
    "num_gd_iterations = 200\n",
    "\n",
    "unitarity_lr = 0.3\n",
    "overlap_lr = 0.3\n",
    "proj_rep_lr = 0.05"
   ]
  },
  {
   "cell_type": "code",
   "execution_count": 63,
   "id": "d5809322-f3bb-4514-aa0b-99031c9faf1a",
   "metadata": {},
   "outputs": [],
   "source": [
    "def proj_rep_unitary_extraction(symmetry_cases):\n",
    "    current_best_score = 10e10\n",
    "\n",
    "    for _ in range(num_random_initializations):\n",
    "        initial_params = initalize_optimization(\n",
    "            symmetry_cases, num_sites, random_initialisation=True\n",
    "        )\n",
    "\n",
    "        (\n",
    "            reduced_density_matrices,\n",
    "            overlap_targets,\n",
    "            leg_label,\n",
    "            leg_conj_label,\n",
    "            matrix_dim,\n",
    "            solutions_dict,\n",
    "            unitarity_scores,\n",
    "            overall_unitarity_scores,\n",
    "            overlap_scores,\n",
    "            overall_target_overlap_scores,\n",
    "            proj_rep_scores,\n",
    "            cost_function_scores\n",
    "        ) = initial_params\n",
    "\n",
    "        repeat_update(\n",
    "            reduced_density_matrices,\n",
    "            overlap_targets,\n",
    "            leg_label,\n",
    "            leg_conj_label,\n",
    "            matrix_dim,\n",
    "            solutions_dict,\n",
    "            unitarity_scores,\n",
    "            overall_unitarity_scores,\n",
    "            overlap_scores,\n",
    "            overall_target_overlap_scores,\n",
    "            proj_rep_scores,\n",
    "            cost_function_scores,\n",
    "            group_products,\n",
    "            unitarity_lr,\n",
    "            overlap_lr,\n",
    "            proj_rep_lr,\n",
    "            num_gd_iterations\n",
    "        )\n",
    "\n",
    "        if cost_function_scores[-1] < current_best_score:\n",
    "            best_solutions_dict = solutions_dict\n",
    "            best_unitarity_scores = unitarity_scores\n",
    "            best_overall_unitarity_scores = overall_unitarity_scores\n",
    "            best_overlap_scores = overlap_scores\n",
    "            best_overall_target_overlap_scores = overall_target_overlap_scores\n",
    "            best_proj_rep_scores = proj_rep_scores\n",
    "            best_cost_function_scores = cost_function_scores\n",
    "\n",
    "    return (\n",
    "        best_solutions_dict,\n",
    "        best_unitarity_scores,\n",
    "        best_overall_unitarity_scores,\n",
    "        best_overlap_scores,\n",
    "        best_overall_target_overlap_scores,\n",
    "        best_proj_rep_scores,\n",
    "        best_cost_function_scores\n",
    "    )"
   ]
  },
  {
   "cell_type": "code",
   "execution_count": 60,
   "id": "42559109-98dd-45a3-b5ed-cb4711eb90c8",
   "metadata": {},
   "outputs": [],
   "source": [
    "out = proj_rep_unitary_extraction(cases[0][1:])"
   ]
  },
  {
   "cell_type": "code",
   "execution_count": 65,
   "id": "e2ef30ad-cbb3-41a1-b9d1-9d746483da38",
   "metadata": {},
   "outputs": [
    {
     "name": "stderr",
     "output_type": "stream",
     "text": [
      "/var/folders/r3/xn8xq5c17932m2g1b4r3dss80000gn/T/ipykernel_6161/2324502288.py:31: RuntimeWarning: overflow encountered in scalar power\n",
      "  (overlap_targets[l] - np.abs(current_overlaps[l]))**2\n",
      "/Users/kierancooney/.pyenv/versions/num_spt_venv_p11/lib/python3.11/site-packages/numpy/core/fromnumeric.py:1761: RuntimeWarning: overflow encountered in reduce\n",
      "  return asanyarray(a).trace(offset=offset, axis1=axis1, axis2=axis2, dtype=dtype, out=out)\n",
      "/var/folders/r3/xn8xq5c17932m2g1b4r3dss80000gn/T/ipykernel_6161/3515715503.py:10: RuntimeWarning: invalid value encountered in scalar multiply\n",
      "  get_u_score = lambda t: (t[2] - 2*t[1] + matrix_dim).real\n",
      "/var/folders/r3/xn8xq5c17932m2g1b4r3dss80000gn/T/ipykernel_6161/2975211342.py:11: RuntimeWarning: invalid value encountered in scalar divide\n",
      "  c_normed = c/(np.abs(c))\n",
      "/var/folders/r3/xn8xq5c17932m2g1b4r3dss80000gn/T/ipykernel_6161/4133688814.py:15: RuntimeWarning: overflow encountered in scalar multiply\n",
      "  scale = (overlap - target*overlap/(np.abs(overlap)))\n",
      "/var/folders/r3/xn8xq5c17932m2g1b4r3dss80000gn/T/ipykernel_6161/4133688814.py:15: RuntimeWarning: invalid value encountered in scalar divide\n",
      "  scale = (overlap - target*overlap/(np.abs(overlap)))\n",
      "/var/folders/r3/xn8xq5c17932m2g1b4r3dss80000gn/T/ipykernel_6161/3393388920.py:21: RuntimeWarning: invalid value encountered in scalar divide\n",
      "  c_normed = c/(np.abs(c))\n",
      "/var/folders/r3/xn8xq5c17932m2g1b4r3dss80000gn/T/ipykernel_6161/3393388920.py:36: RuntimeWarning: overflow encountered in scalar multiply\n",
      "  score = (s1 -2*s2 + s3).real\n",
      "/var/folders/r3/xn8xq5c17932m2g1b4r3dss80000gn/T/ipykernel_6161/3515715503.py:10: RuntimeWarning: overflow encountered in scalar multiply\n",
      "  get_u_score = lambda t: (t[2] - 2*t[1] + matrix_dim).real\n",
      "/var/folders/r3/xn8xq5c17932m2g1b4r3dss80000gn/T/ipykernel_6161/2975211342.py:26: RuntimeWarning: overflow encountered in scalar multiply\n",
      "  score = (s1 -2*s2 + s3).real\n"
     ]
    },
    {
     "ename": "UnboundLocalError",
     "evalue": "cannot access local variable 'best_solutions_dict' where it is not associated with a value",
     "output_type": "error",
     "traceback": [
      "\u001b[0;31m---------------------------------------------------------------------------\u001b[0m",
      "\u001b[0;31mUnboundLocalError\u001b[0m                         Traceback (most recent call last)",
      "Cell \u001b[0;32mIn[65], line 4\u001b[0m\n\u001b[1;32m      1\u001b[0m outputs \u001b[38;5;241m=\u001b[39m \u001b[38;5;28mlist\u001b[39m()\n\u001b[1;32m      3\u001b[0m \u001b[38;5;28;01mfor\u001b[39;00m l \u001b[38;5;129;01min\u001b[39;00m cases:\n\u001b[0;32m----> 4\u001b[0m     outputs\u001b[38;5;241m.\u001b[39mappend(\u001b[43mproj_rep_unitary_extraction\u001b[49m\u001b[43m(\u001b[49m\u001b[43ml\u001b[49m\u001b[43m[\u001b[49m\u001b[38;5;241;43m1\u001b[39;49m\u001b[43m:\u001b[49m\u001b[43m]\u001b[49m\u001b[43m)\u001b[49m)\n",
      "Cell \u001b[0;32mIn[63], line 54\u001b[0m, in \u001b[0;36mproj_rep_unitary_extraction\u001b[0;34m(symmetry_cases)\u001b[0m\n\u001b[1;32m     50\u001b[0m         best_proj_rep_scores \u001b[38;5;241m=\u001b[39m proj_rep_scores\n\u001b[1;32m     51\u001b[0m         best_cost_function_scores \u001b[38;5;241m=\u001b[39m cost_function_scores\n\u001b[1;32m     53\u001b[0m \u001b[38;5;28;01mreturn\u001b[39;00m (\n\u001b[0;32m---> 54\u001b[0m     \u001b[43mbest_solutions_dict\u001b[49m,\n\u001b[1;32m     55\u001b[0m     best_unitarity_scores,\n\u001b[1;32m     56\u001b[0m     best_overall_unitarity_scores,\n\u001b[1;32m     57\u001b[0m     best_overlap_scores,\n\u001b[1;32m     58\u001b[0m     best_overall_target_overlap_scores,\n\u001b[1;32m     59\u001b[0m     best_proj_rep_scores,\n\u001b[1;32m     60\u001b[0m     best_cost_function_scores\n\u001b[1;32m     61\u001b[0m )\n",
      "\u001b[0;31mUnboundLocalError\u001b[0m: cannot access local variable 'best_solutions_dict' where it is not associated with a value"
     ]
    }
   ],
   "source": [
    "outputs = list()\n",
    "\n",
    "for l in cases:\n",
    "    outputs.append(proj_rep_unitary_extraction(l[1:]))"
   ]
  },
  {
   "cell_type": "code",
   "execution_count": 66,
   "id": "097cc1ba-f9ce-4b4d-bdad-363b894f5fe1",
   "metadata": {},
   "outputs": [
    {
     "data": {
      "text/plain": [
       "10"
      ]
     },
     "execution_count": 66,
     "metadata": {},
     "output_type": "execute_result"
    }
   ],
   "source": [
    "len(outputs)"
   ]
  },
  {
   "cell_type": "code",
   "execution_count": 67,
   "id": "3721f4e3-5541-4e74-bc60-bece47f8e737",
   "metadata": {},
   "outputs": [],
   "source": [
    "more_outputs = list()\n",
    "\n",
    "for l in cases[11:]:\n",
    "    outputs.append(proj_rep_unitary_extraction(l[1:]))"
   ]
  },
  {
   "cell_type": "code",
   "execution_count": 69,
   "id": "5971c216-86ad-4213-8d6c-27123f4de580",
   "metadata": {},
   "outputs": [
    {
     "data": {
      "text/plain": [
       "20"
      ]
     },
     "execution_count": 69,
     "metadata": {},
     "output_type": "execute_result"
    }
   ],
   "source": [
    "len(outputs)"
   ]
  },
  {
   "cell_type": "markdown",
   "id": "921ad69b-92f0-4705-9e9b-e5afd4a40ff9",
   "metadata": {},
   "source": [
    "## Analysis"
   ]
  },
  {
   "cell_type": "markdown",
   "id": "b95044be-0394-4463-9d2d-772f29f1eb7c",
   "metadata": {},
   "source": [
    "### Loss function"
   ]
  },
  {
   "cell_type": "code",
   "execution_count": 79,
   "id": "daade33a-540c-4051-b4ee-4cde7a66ca1d",
   "metadata": {},
   "outputs": [
    {
     "name": "stderr",
     "output_type": "stream",
     "text": [
      "/var/folders/r3/xn8xq5c17932m2g1b4r3dss80000gn/T/ipykernel_6161/2728721518.py:6: UserWarning: FigureCanvasAgg is non-interactive, and thus cannot be shown\n",
      "  fig.show()\n"
     ]
    },
    {
     "data": {
      "image/png": "[encoded data removed]",
      "text/plain": [
       "<Figure size 600x400 with 1 Axes>"
      ]
     },
     "metadata": {},
     "output_type": "display_data"
    }
   ],
   "source": [
    "fig, ax = plt.subplots(figsize=(6, 4))\n",
    "\n",
    "for l in outputs:\n",
    "    ax.plot(l[-1])\n",
    "\n",
    "fig.show()"
   ]
  },
  {
   "cell_type": "code",
   "execution_count": 80,
   "id": "5696070c-e617-495e-8ec6-c9a6b4b69c37",
   "metadata": {},
   "outputs": [],
   "source": [
    "final_cost_scores = np.array([l[-1][-1] for l in outputs])"
   ]
  },
  {
   "cell_type": "code",
   "execution_count": 81,
   "id": "885da48d-8e6b-4e33-9344-616fd2864e80",
   "metadata": {},
   "outputs": [
    {
     "data": {
      "image/png": "[encoded data removed]",
      "text/plain": [
       "<Figure size 600x400 with 1 Axes>"
      ]
     },
     "metadata": {},
     "output_type": "display_data"
    }
   ],
   "source": [
    "fig, ax = plt.subplots(figsize=(6,4))\n",
    "\n",
    "ax.plot(b_values, final_cost_scores, 'o')\n",
    "\n",
    "ax.grid()"
   ]
  },
  {
   "cell_type": "markdown",
   "id": "e7b114e0-367d-47ab-9d5d-523b2ef11f26",
   "metadata": {},
   "source": [
    "## Unitarity"
   ]
  },
  {
   "cell_type": "code",
   "execution_count": 70,
   "id": "1bd3bcae-f8e7-4a1f-a0ab-d4ad6a764969",
   "metadata": {},
   "outputs": [],
   "source": [
    "sweep_overall_unitarity_scores = [l[2] for l in outputs]"
   ]
  },
  {
   "cell_type": "code",
   "execution_count": 71,
   "id": "32d673d8-8cad-4743-ab8c-0bf30f846699",
   "metadata": {},
   "outputs": [
    {
     "name": "stderr",
     "output_type": "stream",
     "text": [
      "/var/folders/r3/xn8xq5c17932m2g1b4r3dss80000gn/T/ipykernel_6161/3585287231.py:6: UserWarning: FigureCanvasAgg is non-interactive, and thus cannot be shown\n",
      "  fig.show()\n"
     ]
    },
    {
     "data": {
      "image/png": "[encoded data removed]",
      "text/plain": [
       "<Figure size 600x400 with 1 Axes>"
      ]
     },
     "metadata": {},
     "output_type": "display_data"
    }
   ],
   "source": [
    "fig, ax = plt.subplots(figsize=(6, 4))\n",
    "\n",
    "for l in sweep_overall_unitarity_scores:\n",
    "    ax.plot(l)\n",
    "\n",
    "fig.show()"
   ]
  },
  {
   "cell_type": "code",
   "execution_count": 72,
   "id": "dcffcc5f-08fe-4458-818a-73f47aaf78c1",
   "metadata": {},
   "outputs": [],
   "source": [
    "final_unitarity_scores = np.array([l[-1] for l in sweep_overall_unitarity_scores])"
   ]
  },
  {
   "cell_type": "code",
   "execution_count": 73,
   "id": "4f9fa72a-850d-45c5-a473-ae272eac87b6",
   "metadata": {},
   "outputs": [],
   "source": [
    "b_values = np.array(list(range(0,10)) + list(range(11, 21)))"
   ]
  },
  {
   "cell_type": "code",
   "execution_count": 74,
   "id": "f40108ee-91b8-4cea-a20b-2b50fe9b1f28",
   "metadata": {},
   "outputs": [
    {
     "data": {
      "text/plain": [
       "20"
      ]
     },
     "execution_count": 74,
     "metadata": {},
     "output_type": "execute_result"
    }
   ],
   "source": [
    "len(b_values)"
   ]
  },
  {
   "cell_type": "code",
   "execution_count": 77,
   "id": "5b0f9f91-8cb4-4ebc-914a-fdef1f1e7424",
   "metadata": {},
   "outputs": [
    {
     "data": {
      "image/png": "[encoded data removed]",
      "text/plain": [
       "<Figure size 600x400 with 1 Axes>"
      ]
     },
     "metadata": {},
     "output_type": "display_data"
    }
   ],
   "source": [
    "fig, ax = plt.subplots(figsize=(6,4))\n",
    "\n",
    "ax.plot(b_values, final_unitarity_scores, 'o')\n",
    "\n",
    "ax.grid()"
   ]
  },
  {
   "cell_type": "markdown",
   "id": "6abe0baf-39f9-4592-9670-3959a427f6f3",
   "metadata": {},
   "source": [
    "## Overlap scores"
   ]
  },
  {
   "cell_type": "code",
   "execution_count": 82,
   "id": "b0454fcd-bd29-446f-82d9-bba478dd5e77",
   "metadata": {},
   "outputs": [
    {
     "name": "stderr",
     "output_type": "stream",
     "text": [
      "/var/folders/r3/xn8xq5c17932m2g1b4r3dss80000gn/T/ipykernel_6161/130678081.py:6: UserWarning: FigureCanvasAgg is non-interactive, and thus cannot be shown\n",
      "  fig.show()\n"
     ]
    },
    {
     "data": {
      "image/png": "[encoded data removed]",
      "text/plain": [
       "<Figure size 600x400 with 1 Axes>"
      ]
     },
     "metadata": {},
     "output_type": "display_data"
    }
   ],
   "source": [
    "fig, ax = plt.subplots(figsize=(6, 4))\n",
    "\n",
    "for l in outputs:\n",
    "    ax.plot(l[4])\n",
    "\n",
    "fig.show()"
   ]
  },
  {
   "cell_type": "code",
   "execution_count": 84,
   "id": "7e906fbc-4f42-4a72-9b86-93ef1605dfe2",
   "metadata": {},
   "outputs": [],
   "source": [
    "final_overlap_scores = np.array([l[4][-1] for l in outputs])"
   ]
  },
  {
   "cell_type": "code",
   "execution_count": 85,
   "id": "22423087-8b99-4f52-8d84-e615fa63de02",
   "metadata": {},
   "outputs": [
    {
     "data": {
      "image/png": "[encoded data removed]",
      "text/plain": [
       "<Figure size 600x400 with 1 Axes>"
      ]
     },
     "metadata": {},
     "output_type": "display_data"
    }
   ],
   "source": [
    "fig, ax = plt.subplots(figsize=(6,4))\n",
    "\n",
    "ax.plot(b_values, final_overlap_scores, 'o')\n",
    "\n",
    "ax.grid()"
   ]
  },
  {
   "cell_type": "markdown",
   "id": "b93acfd6-9cdb-4063-882c-f434866ae0c5",
   "metadata": {},
   "source": [
    "## Proj rep scores"
   ]
  },
  {
   "cell_type": "code",
   "execution_count": 86,
   "id": "8c7b2618-da97-48fc-b76e-ac76ef2fdf7c",
   "metadata": {},
   "outputs": [
    {
     "name": "stderr",
     "output_type": "stream",
     "text": [
      "/var/folders/r3/xn8xq5c17932m2g1b4r3dss80000gn/T/ipykernel_6161/1324827603.py:6: UserWarning: FigureCanvasAgg is non-interactive, and thus cannot be shown\n",
      "  fig.show()\n"
     ]
    },
    {
     "data": {
      "image/png": "[encoded data removed]",
      "text/plain": [
       "<Figure size 600x400 with 1 Axes>"
      ]
     },
     "metadata": {},
     "output_type": "display_data"
    }
   ],
   "source": [
    "fig, ax = plt.subplots(figsize=(6, 4))\n",
    "\n",
    "for l in outputs:\n",
    "    ax.plot(l[-2])\n",
    "\n",
    "fig.show()"
   ]
  },
  {
   "cell_type": "code",
   "execution_count": 89,
   "id": "f624c075-ec5f-456d-b17f-e69ae288bd6c",
   "metadata": {},
   "outputs": [],
   "source": [
    "final_proj_rep_scores = np.array([l[-2][-1] for l in outputs])"
   ]
  },
  {
   "cell_type": "code",
   "execution_count": 90,
   "id": "008d7134-a985-49ad-975c-f20a20a8c60f",
   "metadata": {},
   "outputs": [
    {
     "data": {
      "image/png": "[encoded data removed]",
      "text/plain": [
       "<Figure size 600x400 with 1 Axes>"
      ]
     },
     "metadata": {},
     "output_type": "display_data"
    }
   ],
   "source": [
    "fig, ax = plt.subplots(figsize=(6,4))\n",
    "\n",
    "ax.plot(b_values, final_proj_rep_scores, 'o')\n",
    "\n",
    "ax.grid()"
   ]
  },
  {
   "cell_type": "markdown",
   "id": "a882d01e-baaa-4da1-adcf-2329e742e600",
   "metadata": {},
   "source": [
    "# Sweep 2"
   ]
  },
  {
   "cell_type": "code",
   "execution_count": 92,
   "id": "dd53e00d-7f01-40df-9da1-13dba683338a",
   "metadata": {},
   "outputs": [],
   "source": [
    "num_sites = 4\n",
    "num_random_initializations = 500\n",
    "num_gd_iterations = 50\n",
    "\n",
    "unitarity_lr = 0.3\n",
    "overlap_lr = 0.3\n",
    "proj_rep_lr = 0.05"
   ]
  },
  {
   "cell_type": "code",
   "execution_count": 93,
   "id": "13323a83-f192-436b-8b0b-40a7c849d91a",
   "metadata": {},
   "outputs": [
    {
     "name": "stdout",
     "output_type": "stream",
     "text": [
      "0\n",
      "1\n",
      "2\n",
      "3\n",
      "4\n",
      "5\n",
      "6\n",
      "7\n",
      "8\n",
      "9\n",
      "10\n"
     ]
    },
    {
     "name": "stderr",
     "output_type": "stream",
     "text": [
      "/var/folders/r3/xn8xq5c17932m2g1b4r3dss80000gn/T/ipykernel_6161/2324502288.py:31: RuntimeWarning: overflow encountered in scalar power\n",
      "  (overlap_targets[l] - np.abs(current_overlaps[l]))**2\n",
      "/Users/kierancooney/.pyenv/versions/num_spt_venv_p11/lib/python3.11/site-packages/numpy/core/fromnumeric.py:1761: RuntimeWarning: overflow encountered in reduce\n",
      "  return asanyarray(a).trace(offset=offset, axis1=axis1, axis2=axis2, dtype=dtype, out=out)\n",
      "/var/folders/r3/xn8xq5c17932m2g1b4r3dss80000gn/T/ipykernel_6161/3393388920.py:21: RuntimeWarning: invalid value encountered in scalar divide\n",
      "  c_normed = c/(np.abs(c))\n",
      "/var/folders/r3/xn8xq5c17932m2g1b4r3dss80000gn/T/ipykernel_6161/3515715503.py:10: RuntimeWarning: invalid value encountered in scalar multiply\n",
      "  get_u_score = lambda t: (t[2] - 2*t[1] + matrix_dim).real\n",
      "/var/folders/r3/xn8xq5c17932m2g1b4r3dss80000gn/T/ipykernel_6161/3515715503.py:10: RuntimeWarning: overflow encountered in scalar multiply\n",
      "  get_u_score = lambda t: (t[2] - 2*t[1] + matrix_dim).real\n",
      "/var/folders/r3/xn8xq5c17932m2g1b4r3dss80000gn/T/ipykernel_6161/2975211342.py:26: RuntimeWarning: overflow encountered in scalar multiply\n",
      "  score = (s1 -2*s2 + s3).real\n"
     ]
    },
    {
     "name": "stdout",
     "output_type": "stream",
     "text": [
      "11\n",
      "12\n",
      "13\n",
      "14\n",
      "15\n",
      "16\n",
      "17\n",
      "18\n",
      "19\n",
      "20\n"
     ]
    }
   ],
   "source": [
    "four_site_outputs = list()\n",
    "\n",
    "for i, l in enumerate(cases):\n",
    "    print(i)\n",
    "    outputs.append(proj_rep_unitary_extraction(l[1:]))"
   ]
  },
  {
   "cell_type": "code",
   "execution_count": 94,
   "id": "a6de92eb-0ee3-439c-a4a5-421571fd88ee",
   "metadata": {},
   "outputs": [
    {
     "data": {
      "text/plain": [
       "41"
      ]
     },
     "execution_count": 94,
     "metadata": {},
     "output_type": "execute_result"
    }
   ],
   "source": [
    "len(outputs)"
   ]
  },
  {
   "cell_type": "code",
   "execution_count": 97,
   "id": "21c9fcae-a280-482a-b093-a7a99cdc899b",
   "metadata": {},
   "outputs": [],
   "source": [
    "four_site_outputs = outputs[20:]"
   ]
  },
  {
   "cell_type": "code",
   "execution_count": 67,
   "id": "3f2cdb2e-18c0-4b5f-bc78-fa5ad0f91fbb",
   "metadata": {},
   "outputs": [],
   "source": [
    "more_outputs = list()\n",
    "\n",
    "for l in cases[11:]:\n",
    "    outputs.append(proj_rep_unitary_extraction(l[1:]))"
   ]
  },
  {
   "cell_type": "code",
   "execution_count": 69,
   "id": "5dfa4efc-c09c-45b9-9bf5-5d9c7a22cb0d",
   "metadata": {},
   "outputs": [
    {
     "data": {
      "text/plain": [
       "20"
      ]
     },
     "execution_count": 69,
     "metadata": {},
     "output_type": "execute_result"
    }
   ],
   "source": [
    "len(outputs)"
   ]
  },
  {
   "cell_type": "markdown",
   "id": "07e5b77d-8464-4b39-9d05-a7800688d502",
   "metadata": {},
   "source": [
    "## Analysis"
   ]
  },
  {
   "cell_type": "markdown",
   "id": "2225cd90-6964-47a2-921f-d6a2e6e25635",
   "metadata": {},
   "source": [
    "### Loss function"
   ]
  },
  {
   "cell_type": "code",
   "execution_count": 99,
   "id": "bacccf22-f177-4059-9404-a7c15b632b14",
   "metadata": {},
   "outputs": [
    {
     "name": "stderr",
     "output_type": "stream",
     "text": [
      "/var/folders/r3/xn8xq5c17932m2g1b4r3dss80000gn/T/ipykernel_6161/766442944.py:6: UserWarning: FigureCanvasAgg is non-interactive, and thus cannot be shown\n",
      "  fig.show()\n"
     ]
    },
    {
     "data": {
      "image/png": "[encoded data removed]",
      "text/plain": [
       "<Figure size 600x400 with 1 Axes>"
      ]
     },
     "metadata": {},
     "output_type": "display_data"
    }
   ],
   "source": [
    "fig, ax = plt.subplots(figsize=(6, 4))\n",
    "\n",
    "for l in four_site_outputs:\n",
    "    ax.plot(l[-1])\n",
    "\n",
    "fig.show()"
   ]
  },
  {
   "cell_type": "code",
   "execution_count": 100,
   "id": "3a9e4679-79b5-4e52-8e10-fda98ccf13e1",
   "metadata": {},
   "outputs": [],
   "source": [
    "final_cost_scores = np.array([l[-1][-1] for l in four_site_outputs])"
   ]
  },
  {
   "cell_type": "code",
   "execution_count": 102,
   "id": "f1bf53f6-b66a-47b7-a8e6-6ce684f506e7",
   "metadata": {},
   "outputs": [],
   "source": [
    "b_values = np.array(list(range(21)))/10"
   ]
  },
  {
   "cell_type": "code",
   "execution_count": 103,
   "id": "77ec5ff9-bc5b-4504-82c6-cd16f7df4371",
   "metadata": {},
   "outputs": [
    {
     "data": {
      "image/png": "[encoded data removed]",
      "text/plain": [
       "<Figure size 600x400 with 1 Axes>"
      ]
     },
     "metadata": {},
     "output_type": "display_data"
    }
   ],
   "source": [
    "fig, ax = plt.subplots(figsize=(6,4))\n",
    "\n",
    "ax.plot(b_values, final_cost_scores, 'o')\n",
    "\n",
    "ax.grid()"
   ]
  },
  {
   "cell_type": "code",
   "execution_count": 105,
   "id": "fd6b63d6-c7db-4361-860d-88ee2df9331e",
   "metadata": {},
   "outputs": [
    {
     "data": {
      "image/png": "[encoded data removed]",
      "text/plain": [
       "<Figure size 600x400 with 1 Axes>"
      ]
     },
     "metadata": {},
     "output_type": "display_data"
    }
   ],
   "source": [
    "fig, ax = plt.subplots(figsize=(6,4))\n",
    "\n",
    "ax.plot(b_values, final_cost_scores, 'o')\n",
    "\n",
    "ax.set_ylim(0, 1)\n",
    "\n",
    "ax.grid()"
   ]
  },
  {
   "cell_type": "markdown",
   "id": "bf71b93f-3166-4f24-89c3-53d80d479519",
   "metadata": {},
   "source": [
    "## Unitarity"
   ]
  },
  {
   "cell_type": "code",
   "execution_count": 106,
   "id": "f7c99430-1916-49ba-8eb9-86a66755cd07",
   "metadata": {},
   "outputs": [],
   "source": [
    "sweep_overall_unitarity_scores = [l[2] for l in four_site_outputs]"
   ]
  },
  {
   "cell_type": "code",
   "execution_count": 107,
   "id": "1fff2e5e-5353-43f0-84a4-e9325d3f1cb1",
   "metadata": {},
   "outputs": [
    {
     "name": "stderr",
     "output_type": "stream",
     "text": [
      "/var/folders/r3/xn8xq5c17932m2g1b4r3dss80000gn/T/ipykernel_6161/3585287231.py:6: UserWarning: FigureCanvasAgg is non-interactive, and thus cannot be shown\n",
      "  fig.show()\n"
     ]
    },
    {
     "data": {
      "image/png": "[encoded data removed]",
      "text/plain": [
       "<Figure size 600x400 with 1 Axes>"
      ]
     },
     "metadata": {},
     "output_type": "display_data"
    }
   ],
   "source": [
    "fig, ax = plt.subplots(figsize=(6, 4))\n",
    "\n",
    "for l in sweep_overall_unitarity_scores:\n",
    "    ax.plot(l)\n",
    "\n",
    "fig.show()"
   ]
  },
  {
   "cell_type": "code",
   "execution_count": 108,
   "id": "3283b265-1956-44bc-82b6-d99759e72fe9",
   "metadata": {},
   "outputs": [],
   "source": [
    "final_unitarity_scores = np.array([l[-1] for l in sweep_overall_unitarity_scores])"
   ]
  },
  {
   "cell_type": "code",
   "execution_count": 109,
   "id": "e2ca21b0-9f64-4388-a58b-2c9ab983edd8",
   "metadata": {},
   "outputs": [
    {
     "data": {
      "image/png": "[encoded data removed]",
      "text/plain": [
       "<Figure size 600x400 with 1 Axes>"
      ]
     },
     "metadata": {},
     "output_type": "display_data"
    }
   ],
   "source": [
    "fig, ax = plt.subplots(figsize=(6,4))\n",
    "\n",
    "ax.plot(b_values, final_unitarity_scores, 'o')\n",
    "\n",
    "ax.grid()"
   ]
  },
  {
   "cell_type": "code",
   "execution_count": 110,
   "id": "7c4b1a87-0b8a-41d1-9c97-d98d9c2b5165",
   "metadata": {},
   "outputs": [
    {
     "data": {
      "image/png": "[encoded data removed]",
      "text/plain": [
       "<Figure size 600x400 with 1 Axes>"
      ]
     },
     "metadata": {},
     "output_type": "display_data"
    }
   ],
   "source": [
    "fig, ax = plt.subplots(figsize=(6,4))\n",
    "\n",
    "ax.plot(b_values, final_unitarity_scores, 'o')\n",
    "\n",
    "ax.set_ylim(0,1)\n",
    "ax.grid()"
   ]
  },
  {
   "cell_type": "markdown",
   "id": "d650df4b-3aa7-4642-8de0-26a3c95eeb18",
   "metadata": {},
   "source": [
    "## Overlap scores"
   ]
  },
  {
   "cell_type": "code",
   "execution_count": 111,
   "id": "65d1546e-91ee-4017-8233-3062523e9eb7",
   "metadata": {},
   "outputs": [
    {
     "name": "stderr",
     "output_type": "stream",
     "text": [
      "/var/folders/r3/xn8xq5c17932m2g1b4r3dss80000gn/T/ipykernel_6161/2811206054.py:6: UserWarning: FigureCanvasAgg is non-interactive, and thus cannot be shown\n",
      "  fig.show()\n"
     ]
    },
    {
     "data": {
      "image/png": "[encoded data removed]",
      "text/plain": [
       "<Figure size 600x400 with 1 Axes>"
      ]
     },
     "metadata": {},
     "output_type": "display_data"
    }
   ],
   "source": [
    "fig, ax = plt.subplots(figsize=(6, 4))\n",
    "\n",
    "for l in four_site_outputs:\n",
    "    ax.plot(l[4])\n",
    "\n",
    "fig.show()"
   ]
  },
  {
   "cell_type": "code",
   "execution_count": 112,
   "id": "de0ab065-55e7-4613-8f73-6968e6800169",
   "metadata": {},
   "outputs": [],
   "source": [
    "final_overlap_scores = np.array([l[4][-1] for l in four_site_outputs])"
   ]
  },
  {
   "cell_type": "code",
   "execution_count": 113,
   "id": "650fe158-d98d-40ff-bc60-68aea602d7c4",
   "metadata": {},
   "outputs": [
    {
     "data": {
      "image/png": "[encoded data removed]",
      "text/plain": [
       "<Figure size 600x400 with 1 Axes>"
      ]
     },
     "metadata": {},
     "output_type": "display_data"
    }
   ],
   "source": [
    "fig, ax = plt.subplots(figsize=(6,4))\n",
    "\n",
    "ax.plot(b_values, final_overlap_scores, 'o')\n",
    "\n",
    "ax.grid()"
   ]
  },
  {
   "cell_type": "code",
   "execution_count": 114,
   "id": "9cc94a14-21b3-4235-97b6-dbb3eab52dd6",
   "metadata": {},
   "outputs": [
    {
     "data": {
      "image/png": "[encoded data removed]",
      "text/plain": [
       "<Figure size 600x400 with 1 Axes>"
      ]
     },
     "metadata": {},
     "output_type": "display_data"
    }
   ],
   "source": [
    "fig, ax = plt.subplots(figsize=(6,4))\n",
    "\n",
    "ax.plot(b_values, final_overlap_scores, 'o')\n",
    "\n",
    "ax.set_ylim(0,1)\n",
    "\n",
    "ax.grid()"
   ]
  },
  {
   "cell_type": "markdown",
   "id": "c87b3bcc-82ee-4fc8-ac05-272832a8611f",
   "metadata": {},
   "source": [
    "## Proj rep scores"
   ]
  },
  {
   "cell_type": "code",
   "execution_count": 115,
   "id": "58159f17-3d3a-48a4-8b8b-b593698a4a04",
   "metadata": {},
   "outputs": [
    {
     "name": "stderr",
     "output_type": "stream",
     "text": [
      "/var/folders/r3/xn8xq5c17932m2g1b4r3dss80000gn/T/ipykernel_6161/3287020509.py:6: UserWarning: FigureCanvasAgg is non-interactive, and thus cannot be shown\n",
      "  fig.show()\n"
     ]
    },
    {
     "data": {
      "image/png": "[encoded data removed]",
      "text/plain": [
       "<Figure size 600x400 with 1 Axes>"
      ]
     },
     "metadata": {},
     "output_type": "display_data"
    }
   ],
   "source": [
    "fig, ax = plt.subplots(figsize=(6, 4))\n",
    "\n",
    "for l in four_site_outputs:\n",
    "    ax.plot(l[-2])\n",
    "\n",
    "fig.show()"
   ]
  },
  {
   "cell_type": "code",
   "execution_count": 117,
   "id": "9ef0e5a6-a367-4bbf-9e53-23305dc84e42",
   "metadata": {},
   "outputs": [],
   "source": [
    "final_proj_rep_scores = np.array([l[-2][-1] for l in four_site_outputs])"
   ]
  },
  {
   "cell_type": "code",
   "execution_count": 118,
   "id": "f4e521a8-8171-4d8c-a64a-ba11319f83da",
   "metadata": {},
   "outputs": [
    {
     "data": {
      "image/png": "[encoded data removed]",
      "text/plain": [
       "<Figure size 600x400 with 1 Axes>"
      ]
     },
     "metadata": {},
     "output_type": "display_data"
    }
   ],
   "source": [
    "fig, ax = plt.subplots(figsize=(6,4))\n",
    "\n",
    "ax.plot(b_values, final_proj_rep_scores, 'o')\n",
    "\n",
    "ax.grid()"
   ]
  },
  {
   "cell_type": "code",
   "execution_count": 119,
   "id": "67df3a50-8e57-4baf-a088-f1ecdba3c548",
   "metadata": {},
   "outputs": [
    {
     "data": {
      "image/png": "[encoded data removed]",
      "text/plain": [
       "<Figure size 600x400 with 1 Axes>"
      ]
     },
     "metadata": {},
     "output_type": "display_data"
    }
   ],
   "source": [
    "fig, ax = plt.subplots(figsize=(6,4))\n",
    "\n",
    "ax.plot(b_values, final_proj_rep_scores, 'o')\n",
    "\n",
    "ax.set_ylim(0,1)\n",
    "\n",
    "ax.grid()"
   ]
  },
  {
   "cell_type": "markdown",
   "id": "e2da3a8e-6b38-46f4-9521-567c4b9ccd21",
   "metadata": {},
   "source": [
    "# Extract SPT phase"
   ]
  },
  {
   "cell_type": "code",
   "execution_count": 121,
   "id": "fb1bb9cd-1ebf-4af6-8934-2326f1de548a",
   "metadata": {},
   "outputs": [],
   "source": [
    "unitaries = four_site_outputs[0][0]"
   ]
  },
  {
   "cell_type": "code",
   "execution_count": 122,
   "id": "7ceba877-dd23-4ed3-b233-1ec80e44c321",
   "metadata": {},
   "outputs": [
    {
     "data": {
      "text/plain": [
       "{'IX': <npc.Array shape=(16, 16) labels=['(p0.p1.p2.p3)', '(p0*.p1*.p2*.p3*)']>,\n",
       " 'XI': <npc.Array shape=(16, 16) labels=['(p0.p1.p2.p3)', '(p0*.p1*.p2*.p3*)']>,\n",
       " 'XX': <npc.Array shape=(16, 16) labels=['(p0.p1.p2.p3)', '(p0*.p1*.p2*.p3*)']>}"
      ]
     },
     "execution_count": 122,
     "metadata": {},
     "output_type": "execute_result"
    }
   ],
   "source": [
    "unitaries"
   ]
  },
  {
   "cell_type": "code",
   "execution_count": 123,
   "id": "2b728071-9773-46e2-9499-14b760e82224",
   "metadata": {},
   "outputs": [],
   "source": [
    "def extract_proj_rep_phase_generic(u_a, u_b, u_c, leg_label, leg_conj_label):\n",
    "    u1 = npc.tensordot(u_a, u_b, [[leg_label,], [leg_conj_label,]])\n",
    "    tr = npc.tensordot(\n",
    "        u1,\n",
    "        u_c.conj(),\n",
    "        [\n",
    "            [leg_label, leg_conj_label],\n",
    "            [leg_conj_label, leg_label]\n",
    "        ]\n",
    "    )\n",
    "\n",
    "    dim = u1.shape[0]\n",
    "\n",
    "    return tr/dim"
   ]
  },
  {
   "cell_type": "code",
   "execution_count": 125,
   "id": "3a010047-dd75-43ed-b336-75cd58013c87",
   "metadata": {},
   "outputs": [
    {
     "data": {
      "text/plain": [
       "(0.885154896533797+0.4809537944847054j)"
      ]
     },
     "execution_count": 125,
     "metadata": {},
     "output_type": "execute_result"
    }
   ],
   "source": [
    "extract_proj_rep_phase_generic(*unitaries.values(), '(p0.p1.p2.p3)', '(p0*.p1*.p2*.p3*)')"
   ]
  },
  {
   "cell_type": "code",
   "execution_count": 124,
   "id": "00376526-f61e-4a1e-9e2e-3274c39989dc",
   "metadata": {},
   "outputs": [],
   "source": [
    "def extract_proj_rep_phase_inverse_pair(u_a, u_b, leg_label, leg_conj_label):\n",
    "    tr = npc.tensordot(\n",
    "        u_a,\n",
    "        u_b,\n",
    "        [\n",
    "            [leg_label, leg_conj_label],\n",
    "            [leg_conj_label, leg_label]\n",
    "        ]\n",
    "    )\n",
    "\n",
    "    dim = u_a.shape[0]\n",
    "\n",
    "    return tr/dim"
   ]
  },
  {
   "cell_type": "code",
   "execution_count": 126,
   "id": "5835f9d4-03dd-41b1-92d5-736c89fea03d",
   "metadata": {},
   "outputs": [
    {
     "data": {
      "text/plain": [
       "(0.9983555901350853+0.10233135998249612j)"
      ]
     },
     "execution_count": 126,
     "metadata": {},
     "output_type": "execute_result"
    }
   ],
   "source": [
    "extract_proj_rep_phase_inverse_pair(unitaries['XI'], unitaries['XI'], '(p0.p1.p2.p3)', '(p0*.p1*.p2*.p3*)')"
   ]
  },
  {
   "cell_type": "code",
   "execution_count": 127,
   "id": "e80e4906-4b12-42ca-9861-34cd7ed63b65",
   "metadata": {},
   "outputs": [
    {
     "data": {
      "text/plain": [
       "[('IX', 'IX', 'II'),\n",
       " ('XI', 'XI', 'II'),\n",
       " ('XX', 'XX', 'II'),\n",
       " ('IX', 'XI', 'XX'),\n",
       " ('XI', 'IX', 'XX'),\n",
       " ('IX', 'XX', 'XI'),\n",
       " ('XX', 'IX', 'XI'),\n",
       " ('XX', 'XI', 'IX'),\n",
       " ('XI', 'XX', 'IX')]"
      ]
     },
     "execution_count": 127,
     "metadata": {},
     "output_type": "execute_result"
    }
   ],
   "source": [
    "group_products"
   ]
  },
  {
   "cell_type": "code",
   "execution_count": 128,
   "id": "f97880d6-14f5-48d7-8460-ef1745d2dbcb",
   "metadata": {},
   "outputs": [],
   "source": [
    "def extract_proj_rep_phase(unitary_dict, group_label_triple, leg_label,\n",
    "                           leg_conj_label):\n",
    "\n",
    "    u_a, u_b, u_c = [\n",
    "        get_unitary_from_dict(unitary_dict, l)\n",
    "        for l in group_label_triple\n",
    "    ]\n",
    "\n",
    "    if u_c is None:\n",
    "        return extract_proj_rep_phase_inverse_pair(\n",
    "            u_a, u_b, leg_label, leg_conj_label\n",
    "        )\n",
    "    else:\n",
    "        return extract_proj_rep_phase_generic(\n",
    "            u_a, u_b, u_c, leg_label, leg_conj_label\n",
    "        )"
   ]
  },
  {
   "cell_type": "code",
   "execution_count": 129,
   "id": "d2c8337c-41d4-471d-9653-37dd1918fc31",
   "metadata": {},
   "outputs": [],
   "source": [
    "proj_rep_phases = {\n",
    "    triple: extract_proj_rep_phase(\n",
    "        unitaries,\n",
    "        triple,\n",
    "        '(p0.p1.p2.p3)',\n",
    "        '(p0*.p1*.p2*.p3*)'\n",
    "    )\n",
    "    for triple in group_products\n",
    "}"
   ]
  },
  {
   "cell_type": "code",
   "execution_count": 130,
   "id": "c0404242-f20c-461b-9f07-f0a3332b8c77",
   "metadata": {},
   "outputs": [
    {
     "data": {
      "text/plain": [
       "{('IX', 'IX', 'II'): (-0.9903161816390463+0.17364816682717998j),\n",
       " ('XI', 'XI', 'II'): (0.9983555901350853+0.10233135998249612j),\n",
       " ('XX', 'XX', 'II'): (0.4856028862703506-0.8807030235689112j),\n",
       " ('IX', 'XI', 'XX'): (0.885154896533797+0.4809537944847054j),\n",
       " ('XI', 'IX', 'XX'): (-0.8851549793370314-0.48095383658284824j),\n",
       " ('IX', 'XX', 'XI'): (-0.7887871920049185+0.6266024452935122j),\n",
       " ('XX', 'IX', 'XI'): (0.788787176493026-0.6266024296992687j),\n",
       " ('XX', 'XI', 'IX'): (0.9295821631451043-0.3881916031902815j),\n",
       " ('XI', 'XX', 'IX'): (-0.9295822722629381+0.38819164594875755j)}"
      ]
     },
     "execution_count": 130,
     "metadata": {},
     "output_type": "execute_result"
    }
   ],
   "source": [
    "proj_rep_phases"
   ]
  },
  {
   "cell_type": "code",
   "execution_count": 132,
   "id": "3b784eac-ddea-4628-9090-2e33a175d7f7",
   "metadata": {},
   "outputs": [],
   "source": [
    "from itertools import combinations"
   ]
  },
  {
   "cell_type": "code",
   "execution_count": 146,
   "id": "a99e5f77-db2e-4010-b39f-3fd887dde222",
   "metadata": {},
   "outputs": [],
   "source": [
    "non_trivial_pairs = list(combinations(symmetry_labels[1:], 2))"
   ]
  },
  {
   "cell_type": "code",
   "execution_count": 136,
   "id": "a21ff316-dde7-4ac1-a07d-947fee0ecc05",
   "metadata": {},
   "outputs": [],
   "source": [
    "l = list(range(10))"
   ]
  },
  {
   "cell_type": "code",
   "execution_count": 137,
   "id": "49e57a87-2f1e-4964-adf3-7e56f2f29bed",
   "metadata": {},
   "outputs": [
    {
     "data": {
      "text/plain": [
       "[0]"
      ]
     },
     "execution_count": 137,
     "metadata": {},
     "output_type": "execute_result"
    }
   ],
   "source": [
    "l[:1]"
   ]
  },
  {
   "cell_type": "code",
   "execution_count": 140,
   "id": "f2d74560-01d1-4d7e-8bb5-3cb9723eb1ea",
   "metadata": {},
   "outputs": [
    {
     "data": {
      "text/plain": [
       "[1, 0]"
      ]
     },
     "execution_count": 140,
     "metadata": {},
     "output_type": "execute_result"
    }
   ],
   "source": [
    "l[1::-1]"
   ]
  },
  {
   "cell_type": "code",
   "execution_count": 143,
   "id": "7f51a234-f123-4833-8286-848524b020b7",
   "metadata": {},
   "outputs": [],
   "source": [
    "def first_pair_agree(triple, pair):\n",
    "    if triple[:2] == pair:\n",
    "        return True\n",
    "    elif triple[1::-1] == pair:\n",
    "        return True\n",
    "    else:\n",
    "        return False\n",
    "\n",
    "def get_gauge_invariant_phase(phase_dict, group_label_pair):\n",
    "    phases = [\n",
    "        v\n",
    "        for k, v in phase_dict.items()\n",
    "        if first_pair_agree(k, group_label_pair)\n",
    "    ]\n",
    "\n",
    "    assert len(phases) == 2\n",
    "\n",
    "    return phases[1]/phases[0]"
   ]
  },
  {
   "cell_type": "code",
   "execution_count": 145,
   "id": "ba79468c-8b55-4b31-9c08-9f9ab30ac7eb",
   "metadata": {},
   "outputs": [
    {
     "data": {
      "text/plain": [
       "[(-1.0000000921753043+2.5237610533018894e-09j),\n",
       " (-0.9999999783143189-2.5430718917556325e-09j),\n",
       " (-1.000000116309268-2.5729895133568068e-09j)]"
      ]
     },
     "execution_count": 145,
     "metadata": {},
     "output_type": "execute_result"
    }
   ],
   "source": [
    "[\n",
    "    get_gauge_invariant_phase(proj_rep_phases, pair)\n",
    "    for pair in combinations(symmetry_labels[1:], 2)\n",
    "]"
   ]
  },
  {
   "cell_type": "code",
   "execution_count": 154,
   "id": "089a9fb1-f22f-4275-a601-56126ef92b09",
   "metadata": {},
   "outputs": [],
   "source": [
    "sweep_phases = list()\n",
    "\n",
    "for l in four_site_outputs:\n",
    "    unitaries = l[0]\n",
    "\n",
    "    proj_rep_phases = {\n",
    "        triple: extract_proj_rep_phase(\n",
    "            unitaries,\n",
    "            triple,\n",
    "            '(p0.p1.p2.p3)',\n",
    "            '(p0*.p1*.p2*.p3*)'\n",
    "        )\n",
    "        for triple in group_products\n",
    "    }\n",
    "\n",
    "    phases = [\n",
    "        get_gauge_invariant_phase(proj_rep_phases, pair)\n",
    "        for pair in non_trivial_pairs\n",
    "    ]\n",
    "\n",
    "    sweep_phases.append(phases)"
   ]
  },
  {
   "cell_type": "code",
   "execution_count": 155,
   "id": "c5ff68f9-8752-4ec1-a7dd-e7985bd24f59",
   "metadata": {},
   "outputs": [
    {
     "data": {
      "text/plain": [
       "array([[-1.     +0.000e+00j, -1.     -0.000e+00j, -1.     -0.000e+00j],\n",
       "       [ 0.99999-4.230e-03j,  0.99999+4.230e-03j,  0.99999+4.230e-03j],\n",
       "       [-1.     +0.000e+00j, -1.     -0.000e+00j, -1.     -0.000e+00j],\n",
       "       [ 0.99999+4.260e-03j,  0.99999-4.260e-03j,  0.99999-4.260e-03j],\n",
       "       [ 0.99999+4.160e-03j,  0.99999-4.160e-03j,  0.99999-4.160e-03j],\n",
       "       [ 0.99999+4.230e-03j,  0.99999-4.230e-03j,  0.99999-4.230e-03j],\n",
       "       [ 0.99999+4.200e-03j,  0.99999-4.200e-03j,  0.99999-4.200e-03j],\n",
       "       [ 0.99999-4.290e-03j,  0.99999+4.290e-03j,  0.99999+4.290e-03j],\n",
       "       [ 0.99999-4.260e-03j,  0.99999+4.260e-03j,  0.99999+4.260e-03j],\n",
       "       [ 0.99999-4.160e-03j,  0.99999+4.160e-03j,  0.99999+4.160e-03j],\n",
       "       [-1.00403-2.590e-03j, -1.00373+2.770e-03j, -1.00085+2.680e-03j],\n",
       "       [ 1.     -0.000e+00j,  1.     +0.000e+00j,  1.     +0.000e+00j],\n",
       "       [ 1.     +1.000e-05j,  1.     -1.000e-05j,  1.     -1.000e-05j],\n",
       "       [-0.99999+4.840e-03j, -0.99999-4.840e-03j, -0.99999-4.840e-03j],\n",
       "       [-0.99983+1.791e-02j, -0.99984-1.791e-02j, -0.99984-1.791e-02j],\n",
       "       [-0.99999+3.960e-03j, -0.99999-3.960e-03j, -0.99999-3.960e-03j],\n",
       "       [ 1.     +0.000e+00j,  1.     -0.000e+00j,  1.     -0.000e+00j],\n",
       "       [ 1.     +0.000e+00j,  1.     -0.000e+00j,  1.     -0.000e+00j],\n",
       "       [-1.     -3.930e-03j, -0.99997+3.930e-03j, -1.00001+3.930e-03j],\n",
       "       [ 1.     -0.000e+00j,  1.     +0.000e+00j,  1.     +0.000e+00j],\n",
       "       [-0.99999+3.780e-03j, -0.99999-3.780e-03j, -0.99999-3.780e-03j]])"
      ]
     },
     "execution_count": 155,
     "metadata": {},
     "output_type": "execute_result"
    }
   ],
   "source": [
    "np.round(np.array(sweep_phases), 5)"
   ]
  },
  {
   "cell_type": "code",
   "execution_count": 156,
   "id": "94b35f45-b762-4917-bb5b-2911ecf7a5b3",
   "metadata": {},
   "outputs": [],
   "source": [
    "five_site_sweep_phases = list()\n",
    "\n",
    "for l in outputs[:20]:\n",
    "    unitaries = l[0]\n",
    "\n",
    "    proj_rep_phases = {\n",
    "        triple: extract_proj_rep_phase(\n",
    "            unitaries,\n",
    "            triple,\n",
    "            '(p0.p1.p2.p3.p4)',\n",
    "            '(p0*.p1*.p2*.p3*.p4*)'\n",
    "        )\n",
    "        for triple in group_products\n",
    "    }\n",
    "\n",
    "    phases = [\n",
    "        get_gauge_invariant_phase(proj_rep_phases, pair)\n",
    "        for pair in non_trivial_pairs\n",
    "    ]\n",
    "\n",
    "    five_site_sweep_phases.append(phases)"
   ]
  },
  {
   "cell_type": "code",
   "execution_count": 157,
   "id": "57a22b37-e94c-4e47-9373-b207246b1b25",
   "metadata": {},
   "outputs": [
    {
     "data": {
      "text/plain": [
       "array([[-1.     +0.000e+00j, -1.     -0.000e+00j, -1.     -0.000e+00j],\n",
       "       [ 0.99999-4.230e-03j,  0.99999+4.230e-03j,  0.99999+4.230e-03j],\n",
       "       [-1.     +0.000e+00j, -1.     -0.000e+00j, -1.     -0.000e+00j],\n",
       "       [ 0.99999+4.260e-03j,  0.99999-4.260e-03j,  0.99999-4.260e-03j],\n",
       "       [ 0.99999+4.160e-03j,  0.99999-4.160e-03j,  0.99999-4.160e-03j],\n",
       "       [ 0.99999+4.230e-03j,  0.99999-4.230e-03j,  0.99999-4.230e-03j],\n",
       "       [ 0.99999+4.200e-03j,  0.99999-4.200e-03j,  0.99999-4.200e-03j],\n",
       "       [ 0.99999-4.290e-03j,  0.99999+4.290e-03j,  0.99999+4.290e-03j],\n",
       "       [ 0.99999-4.260e-03j,  0.99999+4.260e-03j,  0.99999+4.260e-03j],\n",
       "       [ 0.99999-4.160e-03j,  0.99999+4.160e-03j,  0.99999+4.160e-03j],\n",
       "       [-1.00403-2.590e-03j, -1.00373+2.770e-03j, -1.00085+2.680e-03j],\n",
       "       [ 1.     -0.000e+00j,  1.     +0.000e+00j,  1.     +0.000e+00j],\n",
       "       [ 1.     +1.000e-05j,  1.     -1.000e-05j,  1.     -1.000e-05j],\n",
       "       [-0.99999+4.840e-03j, -0.99999-4.840e-03j, -0.99999-4.840e-03j],\n",
       "       [-0.99983+1.791e-02j, -0.99984-1.791e-02j, -0.99984-1.791e-02j],\n",
       "       [-0.99999+3.960e-03j, -0.99999-3.960e-03j, -0.99999-3.960e-03j],\n",
       "       [ 1.     +0.000e+00j,  1.     -0.000e+00j,  1.     -0.000e+00j],\n",
       "       [ 1.     +0.000e+00j,  1.     -0.000e+00j,  1.     -0.000e+00j],\n",
       "       [-1.     -3.930e-03j, -0.99997+3.930e-03j, -1.00001+3.930e-03j],\n",
       "       [ 1.     -0.000e+00j,  1.     +0.000e+00j,  1.     +0.000e+00j],\n",
       "       [-0.99999+3.780e-03j, -0.99999-3.780e-03j, -0.99999-3.780e-03j]])"
      ]
     },
     "execution_count": 157,
     "metadata": {},
     "output_type": "execute_result"
    }
   ],
   "source": [
    "np.round(np.array(sweep_phases), 5)"
   ]
  },
  {
   "cell_type": "markdown",
   "id": "46d088cd-e64c-406e-844e-627d8375f71d",
   "metadata": {},
   "source": [
    "## Debug B=0.1 case"
   ]
  },
  {
   "cell_type": "code",
   "execution_count": 169,
   "id": "b100e766-6b1e-415a-9823-a777045a1aec",
   "metadata": {},
   "outputs": [],
   "source": [
    "unitaries = four_site_outputs[1][0]"
   ]
  },
  {
   "cell_type": "code",
   "execution_count": 170,
   "id": "74383d20-4405-4ae7-886f-ab8f4e36d4b6",
   "metadata": {},
   "outputs": [
    {
     "data": {
      "text/plain": [
       "{'IX': <npc.Array shape=(16, 16) labels=['(p0.p1.p2.p3)', '(p0*.p1*.p2*.p3*)']>,\n",
       " 'XI': <npc.Array shape=(16, 16) labels=['(p0.p1.p2.p3)', '(p0*.p1*.p2*.p3*)']>,\n",
       " 'XX': <npc.Array shape=(16, 16) labels=['(p0.p1.p2.p3)', '(p0*.p1*.p2*.p3*)']>}"
      ]
     },
     "execution_count": 170,
     "metadata": {},
     "output_type": "execute_result"
    }
   ],
   "source": [
    "unitaries"
   ]
  },
  {
   "cell_type": "code",
   "execution_count": 171,
   "id": "e9c20819-cd6a-4b00-ba6e-3d321491964b",
   "metadata": {},
   "outputs": [],
   "source": [
    "proj_rep_phases = {\n",
    "    triple: extract_proj_rep_phase(\n",
    "        unitaries,\n",
    "        triple,\n",
    "        '(p0.p1.p2.p3)',\n",
    "        '(p0*.p1*.p2*.p3*)'\n",
    "    )\n",
    "    for triple in group_products\n",
    "}"
   ]
  },
  {
   "cell_type": "code",
   "execution_count": 172,
   "id": "7ad0cca6-7f2a-4b58-bd4a-fe90ace9c39b",
   "metadata": {},
   "outputs": [
    {
     "data": {
      "text/plain": [
       "{('IX', 'IX', 'II'): (0.33900719978165506+0.9500958087746607j),\n",
       " ('XI', 'XI', 'II'): (-1.0078680314099842-0.04072518773885056j),\n",
       " ('XX', 'XX', 'II'): (-0.07247587687894991-1.0060435451573393j),\n",
       " ('IX', 'XI', 'XX'): (-1.003656807407037+0.1139994595245941j),\n",
       " ('XI', 'IX', 'XX'): (-1.0031656338214037+0.11824240247511512j),\n",
       " ('IX', 'XX', 'XI'): (-0.2299224338931341-0.9835948361645799j),\n",
       " ('XX', 'IX', 'XI'): (-0.22576114300151223-0.984557812222873j),\n",
       " ('XX', 'XI', 'IX'): (0.9982350731532358+0.15443134139454048j),\n",
       " ('XI', 'XX', 'IX'): (0.9975734507536353+0.1586510198744018j)}"
      ]
     },
     "execution_count": 172,
     "metadata": {},
     "output_type": "execute_result"
    }
   ],
   "source": [
    "proj_rep_phases"
   ]
  },
  {
   "cell_type": "code",
   "execution_count": 173,
   "id": "87748ece-8616-4026-9dde-16dac29af122",
   "metadata": {},
   "outputs": [
    {
     "data": {
      "text/plain": [
       "(1.0127641409906216-1.1054510677503682e-08j)"
      ]
     },
     "execution_count": 173,
     "metadata": {},
     "output_type": "execute_result"
    }
   ],
   "source": [
    "u = reduce(\n",
    "    multiply_tensors,\n",
    "    [\n",
    "        unitaries['IX'],\n",
    "        unitaries['XI'],\n",
    "        unitaries['IX'].conj(),\n",
    "        unitaries['XI'].conj()\n",
    "    ]\n",
    ")\n",
    "npc.trace(u)/16"
   ]
  },
  {
   "cell_type": "markdown",
   "id": "7161abb7-40f5-4b6c-b40f-c04314cd02f5",
   "metadata": {},
   "source": [
    "Doesn't look like a glitch, it's the wrong projective rep."
   ]
  },
  {
   "cell_type": "code",
   "execution_count": 174,
   "id": "21cc3e8f-9775-4e74-b0f8-9425c44e7490",
   "metadata": {},
   "outputs": [],
   "source": [
    "rdm = get_reduced_density_matrix(cases[1][0], 4)"
   ]
  },
  {
   "cell_type": "code",
   "execution_count": 179,
   "id": "997aee9d-6330-46df-b910-35ff4d1bb937",
   "metadata": {},
   "outputs": [
    {
     "data": {
      "text/plain": [
       "['II', 'IX', 'XI', 'XX']"
      ]
     },
     "execution_count": 179,
     "metadata": {},
     "output_type": "execute_result"
    }
   ],
   "source": [
    "symmetry_labels"
   ]
  },
  {
   "cell_type": "code",
   "execution_count": 181,
   "id": "2cb4a55c-ceab-4892-a43c-cccabe03618c",
   "metadata": {},
   "outputs": [
    {
     "data": {
      "text/plain": [
       "0.8514348590072386"
      ]
     },
     "execution_count": 181,
     "metadata": {},
     "output_type": "execute_result"
    }
   ],
   "source": [
    "rdm = get_reduced_density_matrix(cases[1][1], 4)\n",
    "\n",
    "np.abs(npc.tensordot(\n",
    "    rdm,\n",
    "    unitaries['IX'],\n",
    "    [rdm.get_leg_labels(), rdm.get_leg_labels()[::-1]]\n",
    "))"
   ]
  },
  {
   "cell_type": "code",
   "execution_count": 183,
   "id": "5b59428b-e807-40d7-af3b-ff9c7ad3afc8",
   "metadata": {},
   "outputs": [
    {
     "data": {
      "text/plain": [
       "0.8496526997092654"
      ]
     },
     "execution_count": 183,
     "metadata": {},
     "output_type": "execute_result"
    }
   ],
   "source": [
    "rdm = get_reduced_density_matrix(cases[1][2], 4)\n",
    "\n",
    "np.abs(npc.tensordot(\n",
    "    rdm,\n",
    "    unitaries['XI'],\n",
    "    [rdm.get_leg_labels(), rdm.get_leg_labels()[::-1]]\n",
    "))"
   ]
  },
  {
   "cell_type": "code",
   "execution_count": 185,
   "id": "066f76a8-8996-4af9-8858-8d7775d736e7",
   "metadata": {},
   "outputs": [
    {
     "data": {
      "text/plain": [
       "0.8407669390196789"
      ]
     },
     "execution_count": 185,
     "metadata": {},
     "output_type": "execute_result"
    }
   ],
   "source": [
    "rdm = get_reduced_density_matrix(cases[1][3], 4)\n",
    "\n",
    "np.abs(npc.tensordot(\n",
    "    rdm,\n",
    "    unitaries['XX'],\n",
    "    [rdm.get_leg_labels(), rdm.get_leg_labels()[::-1]]\n",
    "))"
   ]
  },
  {
   "cell_type": "code",
   "execution_count": 162,
   "id": "02a4d1c9-7e6e-4d36-8bf8-952dc7e35743",
   "metadata": {},
   "outputs": [],
   "source": [
    "unitaries = four_site_outputs[0][0]"
   ]
  },
  {
   "cell_type": "code",
   "execution_count": 163,
   "id": "e8af934e-1869-4ee0-b9cf-7d5498f42ee4",
   "metadata": {},
   "outputs": [
    {
     "data": {
      "text/plain": [
       "{'IX': <npc.Array shape=(16, 16) labels=['(p0.p1.p2.p3)', '(p0*.p1*.p2*.p3*)']>,\n",
       " 'XI': <npc.Array shape=(16, 16) labels=['(p0.p1.p2.p3)', '(p0*.p1*.p2*.p3*)']>,\n",
       " 'XX': <npc.Array shape=(16, 16) labels=['(p0.p1.p2.p3)', '(p0*.p1*.p2*.p3*)']>}"
      ]
     },
     "execution_count": 163,
     "metadata": {},
     "output_type": "execute_result"
    }
   ],
   "source": [
    "unitaries"
   ]
  },
  {
   "cell_type": "code",
   "execution_count": 164,
   "id": "13be67f1-88bb-4355-9bc2-8bafe327fece",
   "metadata": {},
   "outputs": [],
   "source": [
    "proj_rep_phases = {\n",
    "    triple: extract_proj_rep_phase(\n",
    "        unitaries,\n",
    "        triple,\n",
    "        '(p0.p1.p2.p3)',\n",
    "        '(p0*.p1*.p2*.p3*)'\n",
    "    )\n",
    "    for triple in group_products\n",
    "}"
   ]
  },
  {
   "cell_type": "code",
   "execution_count": 165,
   "id": "a615c6dc-c2e4-48ed-9e85-5f7d977819b3",
   "metadata": {},
   "outputs": [
    {
     "data": {
      "text/plain": [
       "{('IX', 'IX', 'II'): (-0.9903161816390463+0.17364816682717998j),\n",
       " ('XI', 'XI', 'II'): (0.9983555901350853+0.10233135998249612j),\n",
       " ('XX', 'XX', 'II'): (0.4856028862703506-0.8807030235689112j),\n",
       " ('IX', 'XI', 'XX'): (0.885154896533797+0.4809537944847054j),\n",
       " ('XI', 'IX', 'XX'): (-0.8851549793370314-0.48095383658284824j),\n",
       " ('IX', 'XX', 'XI'): (-0.7887871920049185+0.6266024452935122j),\n",
       " ('XX', 'IX', 'XI'): (0.788787176493026-0.6266024296992687j),\n",
       " ('XX', 'XI', 'IX'): (0.9295821631451043-0.3881916031902815j),\n",
       " ('XI', 'XX', 'IX'): (-0.9295822722629381+0.38819164594875755j)}"
      ]
     },
     "execution_count": 165,
     "metadata": {},
     "output_type": "execute_result"
    }
   ],
   "source": [
    "proj_rep_phases"
   ]
  },
  {
   "cell_type": "code",
   "execution_count": 166,
   "id": "ddb2ed17-14ad-4b76-b85d-05bd0032283b",
   "metadata": {},
   "outputs": [],
   "source": [
    "def multiply_tensors(u1, u2):\n",
    "    return multiply_tenpy_matrices(\n",
    "        u1, u2, '(p0.p1.p2.p3)', '(p0*.p1*.p2*.p3*)'\n",
    "    )"
   ]
  },
  {
   "cell_type": "code",
   "execution_count": 168,
   "id": "dd51af5c-014e-42b4-8f94-d24d44232a91",
   "metadata": {},
   "outputs": [
    {
     "data": {
      "text/plain": [
       "(-1.0090632466414535+2.5369595530247424e-11j)"
      ]
     },
     "execution_count": 168,
     "metadata": {},
     "output_type": "execute_result"
    }
   ],
   "source": [
    "u = reduce(\n",
    "    multiply_tensors,\n",
    "    [\n",
    "        unitaries['IX'],\n",
    "        unitaries['XI'],\n",
    "        unitaries['IX'].conj(),\n",
    "        unitaries['XI'].conj()\n",
    "    ]\n",
    ")\n",
    "npc.trace(u)/16"
   ]
  },
  {
   "cell_type": "markdown",
   "id": "36afe6a7-1e49-4072-9b2f-14a1c31ee4fb",
   "metadata": {},
   "source": [
    "# Conclusions\n",
    "* This works, but is proving a pain in the neck to converge even for these simple cases.\n",
    "    * Often converges to the _wrong_ projective rep, leading to the wrong SPT phase!\n",
    "* The hyperparameters between the 3 costs seems to be an issue. Need to spend more effort tuning those (or sampling from a distribution?)\n",
    "* Alternative GD algorithms could help.\n",
    "* However the simpler method by extracting the phase from the state is\n",
    "    * Faster\n",
    "    * Easier\n",
    "    * More accurate\n",
    "* So maybe just work with the other one?"
   ]
  }
 ],
 "metadata": {
  "kernelspec": {
   "display_name": "num_spt_venv_p11",
   "language": "python",
   "name": "num_spt_venv_p11"
  },
  "language_info": {
   "codemirror_mode": {
    "name": "ipython",
    "version": 3
   },
   "file_extension": ".py",
   "mimetype": "text/x-python",
   "name": "python",
   "nbconvert_exporter": "python",
   "pygments_lexer": "ipython3",
   "version": "3.11.9"
  }
 },
 "nbformat": 4,
 "nbformat_minor": 5
}
