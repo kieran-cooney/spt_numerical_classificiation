{
 "cells": [
  {
   "cell_type": "markdown",
   "id": "0c28757e-3d8d-42c7-90fa-ce091e95bef2",
   "metadata": {},
   "source": [
    "# Unitary cost function gradient descent\n",
    "\n",
    "Created 27/09/2024\n",
    "\n",
    "Objectives:\n",
    "* Apply gradient descent algorithm to a large matrix to see wether it converges to some unitary."
   ]
  },
  {
   "cell_type": "code",
   "execution_count": 1,
   "id": "f9b0a5d7-6fb1-4ef7-8d69-9b2e4034de77",
   "metadata": {},
   "outputs": [],
   "source": [
    "import numpy as np\n",
    "import matplotlib.pyplot as plt\n",
    "from scipy.stats import unitary_group"
   ]
  },
  {
   "cell_type": "code",
   "execution_count": 2,
   "id": "1b7d3951-a902-48cc-b010-63a05aed3f78",
   "metadata": {},
   "outputs": [],
   "source": [
    "N = 2**6"
   ]
  },
  {
   "cell_type": "code",
   "execution_count": 3,
   "id": "7a85e128-386c-40ec-a366-2d68b8a279f2",
   "metadata": {},
   "outputs": [
    {
     "data": {
      "text/plain": [
       "64"
      ]
     },
     "execution_count": 3,
     "metadata": {},
     "output_type": "execute_result"
    }
   ],
   "source": [
    "N"
   ]
  },
  {
   "cell_type": "code",
   "execution_count": 4,
   "id": "864c808b-2e17-48eb-bb90-de4cdf2433f7",
   "metadata": {},
   "outputs": [],
   "source": [
    "def unitary_score(X):\n",
    "    diff = X @ np.conj(X.T)\n",
    "    for i in range(N):\n",
    "        diff[i,i] -= 1\n",
    "\n",
    "    return np.linalg.norm(diff)"
   ]
  },
  {
   "cell_type": "markdown",
   "id": "7f1d26ce-55f7-4776-bc1e-c0a64dc49e43",
   "metadata": {},
   "source": [
    "Test unitary_score function:"
   ]
  },
  {
   "cell_type": "code",
   "execution_count": 5,
   "id": "383b9f2b-89a9-49c9-83dc-90e00de81b65",
   "metadata": {},
   "outputs": [],
   "source": [
    "test_unitary_scores = list()\n",
    "\n",
    "for _ in range(100):\n",
    "    U = unitary_group.rvs(N)\n",
    "    test_unitary_scores.append(unitary_score(U))"
   ]
  },
  {
   "cell_type": "code",
   "execution_count": 6,
   "id": "41e6eb91-16db-47d8-8747-334f4e800dff",
   "metadata": {},
   "outputs": [
    {
     "data": {
      "text/plain": [
       "8.831364184582428e-15"
      ]
     },
     "execution_count": 6,
     "metadata": {},
     "output_type": "execute_result"
    }
   ],
   "source": [
    "max(test_unitary_scores)"
   ]
  },
  {
   "cell_type": "code",
   "execution_count": 117,
   "id": "70f23dba-6e4f-471b-8e3b-86f7954872dc",
   "metadata": {},
   "outputs": [],
   "source": [
    "def grad_descent_step(X, learning_rate=1):\n",
    "    X_c = np.conj(X.T)\n",
    "\n",
    "    X3 = np.matmul(np.matmul(X, X_c), X)\n",
    "\n",
    "    delta = 0.5*(X - X3)\n",
    "\n",
    "    return learning_rate*delta"
   ]
  },
  {
   "cell_type": "code",
   "execution_count": 223,
   "id": "c83e44b0-a53b-48f9-84a7-8099979eae10",
   "metadata": {},
   "outputs": [],
   "source": [
    "def scaled_grad_descent_step(X, learning_rate=1, scale_factor=1):\n",
    "    X_c = np.conj(X.T)\n",
    "\n",
    "    X3 = np.matmul(np.matmul(X, X_c), X)\n",
    "\n",
    "    delta = 0.5*(X - X3)\n",
    "\n",
    "    score = unitary_score(X)\n",
    "    return learning_rate*delta/(1+scale_factor*score)"
   ]
  },
  {
   "cell_type": "markdown",
   "id": "ee89f71b-c978-49a3-8b4c-cec307f502a0",
   "metadata": {},
   "source": [
    "Be more systematic with testing.\n",
    "1. Scalars\n",
    "2. Unitaries\n",
    "    * Exact and approximate, large and small.\n",
    "3. Arbitrary\n",
    "    * Large and small\n",
    "\n",
    "Sweep over learning rate parameters. Are there specific threshold values?"
   ]
  },
  {
   "cell_type": "markdown",
   "id": "958c7121-5ec9-45f2-ba5a-7585f9c11c11",
   "metadata": {},
   "source": [
    "# Scalars"
   ]
  },
  {
   "cell_type": "code",
   "execution_count": 118,
   "id": "cadbea6a-9c43-46f0-bcb0-ec4207e4a339",
   "metadata": {},
   "outputs": [],
   "source": [
    "N=1"
   ]
  },
  {
   "cell_type": "code",
   "execution_count": 119,
   "id": "b2aa8d14-186b-4be9-9d11-7a3256185a53",
   "metadata": {},
   "outputs": [],
   "source": [
    "unitary_scores = list()"
   ]
  },
  {
   "cell_type": "code",
   "execution_count": 120,
   "id": "2000e01b-d6c1-44dd-adb5-41b2a463eea8",
   "metadata": {},
   "outputs": [],
   "source": [
    "X = np.random.rand(N, N) + 1j*np.random.rand(N, N)"
   ]
  },
  {
   "cell_type": "code",
   "execution_count": 121,
   "id": "2b976bc5-7774-48a1-81f5-0e0049309460",
   "metadata": {},
   "outputs": [],
   "source": [
    "unitary_scores.append(unitary_score(X))"
   ]
  },
  {
   "cell_type": "code",
   "execution_count": 122,
   "id": "0c88b9d7-09ef-4bb4-882e-8e4e16c8f0e1",
   "metadata": {},
   "outputs": [
    {
     "data": {
      "text/plain": [
       "array([[0.12+0.69j]])"
      ]
     },
     "execution_count": 122,
     "metadata": {},
     "output_type": "execute_result"
    }
   ],
   "source": [
    "np.round(X, 2)"
   ]
  },
  {
   "cell_type": "code",
   "execution_count": 123,
   "id": "587097f0-4fde-4b8c-a5c2-65808de2094e",
   "metadata": {},
   "outputs": [
    {
     "data": {
      "text/plain": [
       "array([[0.03+0.18j]])"
      ]
     },
     "execution_count": 123,
     "metadata": {},
     "output_type": "execute_result"
    }
   ],
   "source": [
    "np.round(grad_descent_step(X), 2)"
   ]
  },
  {
   "cell_type": "code",
   "execution_count": 124,
   "id": "1d3c5a85-a415-405d-ab7b-9d7380047945",
   "metadata": {},
   "outputs": [],
   "source": [
    "for _ in range(300):\n",
    "    X+=grad_descent_step(X)\n",
    "    unitary_scores.append(unitary_score(X))"
   ]
  },
  {
   "cell_type": "code",
   "execution_count": 134,
   "id": "f88dc767-a0ed-4764-8916-d0711bb75807",
   "metadata": {},
   "outputs": [],
   "source": [
    "unitary_scores_1 = list()\n",
    "X = np.array([[0.1]]).astype('float')\n",
    "unitary_scores_1.append(unitary_score(X))\n",
    "for _ in range(30):\n",
    "    X+=grad_descent_step(X)\n",
    "    unitary_scores_1.append(unitary_score(X))"
   ]
  },
  {
   "cell_type": "code",
   "execution_count": 137,
   "id": "4a9b36c2-2e0c-44b2-b269-c9d612408e8c",
   "metadata": {},
   "outputs": [
    {
     "name": "stderr",
     "output_type": "stream",
     "text": [
      "/var/folders/r3/xn8xq5c17932m2g1b4r3dss80000gn/T/ipykernel_29138/2475999233.py:2: RuntimeWarning: overflow encountered in matmul\n",
      "  diff = X @ np.conj(X.T)\n",
      "/var/folders/r3/xn8xq5c17932m2g1b4r3dss80000gn/T/ipykernel_29138/3560967508.py:4: RuntimeWarning: overflow encountered in matmul\n",
      "  X3 = np.matmul(np.matmul(X, X_c), X)\n",
      "/var/folders/r3/xn8xq5c17932m2g1b4r3dss80000gn/T/ipykernel_29138/3560967508.py:6: RuntimeWarning: invalid value encountered in subtract\n",
      "  delta = 0.5*(X - X3)\n"
     ]
    }
   ],
   "source": [
    "unitary_scores_2 = list()\n",
    "X = np.array([[1000]]).astype('float')\n",
    "unitary_scores_2.append(unitary_score(X))\n",
    "for _ in range(30):\n",
    "    X+=grad_descent_step(X)\n",
    "    unitary_scores_2.append(unitary_score(X))"
   ]
  },
  {
   "cell_type": "code",
   "execution_count": 138,
   "id": "a53a1566-7838-45ca-87ed-114fdc1ee12d",
   "metadata": {},
   "outputs": [
    {
     "name": "stderr",
     "output_type": "stream",
     "text": [
      "/var/folders/r3/xn8xq5c17932m2g1b4r3dss80000gn/T/ipykernel_29138/3424074581.py:10: UserWarning: FigureCanvasAgg is non-interactive, and thus cannot be shown\n",
      "  fig.show()\n"
     ]
    },
    {
     "data": {
      "image/png": "[encoded data removed]",
      "text/plain": [
       "<Figure size 600x400 with 1 Axes>"
      ]
     },
     "metadata": {},
     "output_type": "display_data"
    }
   ],
   "source": [
    "fig, ax = plt.subplots(figsize=(6,4))\n",
    "\n",
    "num_points=20\n",
    "\n",
    "ax.plot(unitary_scores[:num_points])\n",
    "ax.plot(unitary_scores_1[:num_points])\n",
    "ax.plot(unitary_scores_2[:num_points])\n",
    "ax.set_yscale('log')\n",
    "\n",
    "fig.show()"
   ]
  },
  {
   "cell_type": "markdown",
   "id": "e6291bf0-28de-47cc-adc4-f3133197a791",
   "metadata": {},
   "source": [
    "# Unitaries"
   ]
  },
  {
   "cell_type": "markdown",
   "id": "2e77f77e-c32e-4362-bb73-a7c239d2c338",
   "metadata": {},
   "source": [
    "## Exact"
   ]
  },
  {
   "cell_type": "code",
   "execution_count": 146,
   "id": "1a8fc4c5-8137-4103-a34c-ebdb753aa4a7",
   "metadata": {},
   "outputs": [],
   "source": [
    "N=64"
   ]
  },
  {
   "cell_type": "code",
   "execution_count": 147,
   "id": "2ce77491-35db-49b7-a37c-eaa12135bdbb",
   "metadata": {},
   "outputs": [],
   "source": [
    "unitary_scores = list()"
   ]
  },
  {
   "cell_type": "code",
   "execution_count": 148,
   "id": "4c95699c-9d26-45e1-b305-124b110cb4ec",
   "metadata": {},
   "outputs": [],
   "source": [
    "X = unitary_group.rvs(N)"
   ]
  },
  {
   "cell_type": "code",
   "execution_count": 149,
   "id": "3d26ba7f-f17f-4170-b319-086c44e905f8",
   "metadata": {},
   "outputs": [],
   "source": [
    "unitary_scores.append(unitary_score(X))"
   ]
  },
  {
   "cell_type": "code",
   "execution_count": 150,
   "id": "0c367c3c-1d19-45ca-a7d7-7cabc2d81f40",
   "metadata": {},
   "outputs": [
    {
     "data": {
      "text/plain": [
       "7.468259030714992e-15"
      ]
     },
     "execution_count": 150,
     "metadata": {},
     "output_type": "execute_result"
    }
   ],
   "source": [
    "unitary_scores[-1]"
   ]
  },
  {
   "cell_type": "code",
   "execution_count": 151,
   "id": "111b3262-e531-4926-ad4a-b7b8f07d87a7",
   "metadata": {},
   "outputs": [],
   "source": [
    "for _ in range(300):\n",
    "    X+=grad_descent_step(X)\n",
    "    unitary_scores.append(unitary_score(X))"
   ]
  },
  {
   "cell_type": "code",
   "execution_count": 152,
   "id": "7de2f17b-7773-471a-8580-9c296c579ff2",
   "metadata": {},
   "outputs": [
    {
     "name": "stderr",
     "output_type": "stream",
     "text": [
      "/var/folders/r3/xn8xq5c17932m2g1b4r3dss80000gn/T/ipykernel_29138/1554473286.py:10: UserWarning: FigureCanvasAgg is non-interactive, and thus cannot be shown\n",
      "  fig.show()\n"
     ]
    },
    {
     "data": {
      "image/png": "[encoded data removed]",
      "text/plain": [
       "<Figure size 600x400 with 1 Axes>"
      ]
     },
     "metadata": {},
     "output_type": "display_data"
    }
   ],
   "source": [
    "fig, ax = plt.subplots(figsize=(6,4))\n",
    "\n",
    "num_points=20\n",
    "\n",
    "ax.plot(unitary_scores[:num_points])\n",
    "#ax.plot(unitary_scores_1[:num_points])\n",
    "#ax.plot(unitary_scores_2[:num_points])\n",
    "ax.set_yscale('log')\n",
    "\n",
    "fig.show()"
   ]
  },
  {
   "cell_type": "code",
   "execution_count": 153,
   "id": "0ea45d59-2954-432c-b25e-e7aef5d19460",
   "metadata": {},
   "outputs": [
    {
     "data": {
      "text/plain": [
       "2.2481047283735794e-15"
      ]
     },
     "execution_count": 153,
     "metadata": {},
     "output_type": "execute_result"
    }
   ],
   "source": [
    "unitary_scores[-1]"
   ]
  },
  {
   "cell_type": "markdown",
   "id": "9f65b0b2-796f-4a54-8b93-7dc56eae2879",
   "metadata": {},
   "source": [
    "## Approximate"
   ]
  },
  {
   "cell_type": "code",
   "execution_count": 154,
   "id": "78e2b792-4c50-4a3e-8dbc-01814c526d31",
   "metadata": {},
   "outputs": [],
   "source": [
    "N=64"
   ]
  },
  {
   "cell_type": "code",
   "execution_count": 177,
   "id": "0d937b0c-73f2-48c5-a6bf-4e88cad46322",
   "metadata": {},
   "outputs": [],
   "source": [
    "unitary_scores = list()"
   ]
  },
  {
   "cell_type": "code",
   "execution_count": 178,
   "id": "612becd2-2431-4bea-8498-f8415901e965",
   "metadata": {},
   "outputs": [],
   "source": [
    "X = unitary_group.rvs(N)"
   ]
  },
  {
   "cell_type": "code",
   "execution_count": 179,
   "id": "4b78e5ef-1d6e-4db2-b600-26b230aafb66",
   "metadata": {},
   "outputs": [],
   "source": [
    "perturbation = np.random.rand(N, N) + 1j*np.random.rand(N, N)\n",
    "perturbation /= np.linalg.norm(perturbation)\n",
    "perturbation *= 0.01"
   ]
  },
  {
   "cell_type": "code",
   "execution_count": 180,
   "id": "53bfd936-44a1-41e3-95de-6d99ac24e093",
   "metadata": {},
   "outputs": [],
   "source": [
    "X += perturbation"
   ]
  },
  {
   "cell_type": "code",
   "execution_count": 181,
   "id": "3756d478-648a-4cef-b84c-3ba54612d27f",
   "metadata": {},
   "outputs": [],
   "source": [
    "unitary_scores.append(unitary_score(X))"
   ]
  },
  {
   "cell_type": "code",
   "execution_count": 182,
   "id": "03a80efa-0322-42b7-980a-16625aaa4ef4",
   "metadata": {},
   "outputs": [
    {
     "data": {
      "text/plain": [
       "0.014164857367648331"
      ]
     },
     "execution_count": 182,
     "metadata": {},
     "output_type": "execute_result"
    }
   ],
   "source": [
    "unitary_scores[-1]"
   ]
  },
  {
   "cell_type": "code",
   "execution_count": 161,
   "id": "0a3e5c00-dc56-4221-a0e6-b088ebe81722",
   "metadata": {},
   "outputs": [],
   "source": [
    "for _ in range(300):\n",
    "    X+=grad_descent_step(X)\n",
    "    unitary_scores.append(unitary_score(X))"
   ]
  },
  {
   "cell_type": "code",
   "execution_count": 162,
   "id": "8fa1eabb-8b26-4e43-a177-a6004378e0da",
   "metadata": {},
   "outputs": [
    {
     "name": "stderr",
     "output_type": "stream",
     "text": [
      "/var/folders/r3/xn8xq5c17932m2g1b4r3dss80000gn/T/ipykernel_29138/1554473286.py:10: UserWarning: FigureCanvasAgg is non-interactive, and thus cannot be shown\n",
      "  fig.show()\n"
     ]
    },
    {
     "data": {
      "image/png": "[encoded data removed]",
      "text/plain": [
       "<Figure size 600x400 with 1 Axes>"
      ]
     },
     "metadata": {},
     "output_type": "display_data"
    }
   ],
   "source": [
    "fig, ax = plt.subplots(figsize=(6,4))\n",
    "\n",
    "num_points=20\n",
    "\n",
    "ax.plot(unitary_scores[:num_points])\n",
    "#ax.plot(unitary_scores_1[:num_points])\n",
    "#ax.plot(unitary_scores_2[:num_points])\n",
    "ax.set_yscale('log')\n",
    "\n",
    "fig.show()"
   ]
  },
  {
   "cell_type": "code",
   "execution_count": 183,
   "id": "260a09e1-2849-4309-b519-318ad0d99073",
   "metadata": {},
   "outputs": [],
   "source": [
    "X = unitary_group.rvs(N)\n",
    "unitary_scores=list()"
   ]
  },
  {
   "cell_type": "code",
   "execution_count": 184,
   "id": "f5083b4a-06ee-4603-b23d-0ffe2dd9e650",
   "metadata": {},
   "outputs": [],
   "source": [
    "perturbation = np.random.rand(N, N) + 1j*np.random.rand(N, N)\n",
    "perturbation /= np.linalg.norm(perturbation)\n",
    "perturbation *= 0.1"
   ]
  },
  {
   "cell_type": "code",
   "execution_count": 185,
   "id": "ada29f96-b8a4-478d-ba09-f585b20650d5",
   "metadata": {},
   "outputs": [],
   "source": [
    "X += perturbation"
   ]
  },
  {
   "cell_type": "code",
   "execution_count": 186,
   "id": "d427dc6f-8ade-43b5-a32d-d2f0c90e11a9",
   "metadata": {},
   "outputs": [],
   "source": [
    "unitary_scores.append(unitary_score(X))"
   ]
  },
  {
   "cell_type": "code",
   "execution_count": 187,
   "id": "35829314-706e-453f-9894-4ebd1b0b021f",
   "metadata": {},
   "outputs": [
    {
     "data": {
      "text/plain": [
       "[0.14399804545869474]"
      ]
     },
     "execution_count": 187,
     "metadata": {},
     "output_type": "execute_result"
    }
   ],
   "source": [
    "unitary_scores"
   ]
  },
  {
   "cell_type": "code",
   "execution_count": 188,
   "id": "3157a18f-b076-4608-807b-2854d8b08e59",
   "metadata": {},
   "outputs": [],
   "source": [
    "for _ in range(300):\n",
    "    X+=grad_descent_step(X)\n",
    "    unitary_scores.append(unitary_score(X))"
   ]
  },
  {
   "cell_type": "code",
   "execution_count": 189,
   "id": "31fccaae-9422-4a25-8de8-010ae5204a4e",
   "metadata": {},
   "outputs": [
    {
     "name": "stderr",
     "output_type": "stream",
     "text": [
      "/var/folders/r3/xn8xq5c17932m2g1b4r3dss80000gn/T/ipykernel_29138/1554473286.py:10: UserWarning: FigureCanvasAgg is non-interactive, and thus cannot be shown\n",
      "  fig.show()\n"
     ]
    },
    {
     "data": {
      "image/png": "[encoded data removed]",
      "text/plain": [
       "<Figure size 600x400 with 1 Axes>"
      ]
     },
     "metadata": {},
     "output_type": "display_data"
    }
   ],
   "source": [
    "fig, ax = plt.subplots(figsize=(6,4))\n",
    "\n",
    "num_points=20\n",
    "\n",
    "ax.plot(unitary_scores[:num_points])\n",
    "#ax.plot(unitary_scores_1[:num_points])\n",
    "#ax.plot(unitary_scores_2[:num_points])\n",
    "ax.set_yscale('log')\n",
    "\n",
    "fig.show()"
   ]
  },
  {
   "cell_type": "code",
   "execution_count": 192,
   "id": "93b1c58b-a109-4fde-915c-2d8a0e2a38e5",
   "metadata": {},
   "outputs": [],
   "source": [
    "X = unitary_group.rvs(N)\n",
    "unitary_scores=list()"
   ]
  },
  {
   "cell_type": "code",
   "execution_count": 193,
   "id": "44235883-ff5a-4130-964f-9e6e0b4d51a5",
   "metadata": {},
   "outputs": [],
   "source": [
    "perturbation = np.random.rand(N, N) + 1j*np.random.rand(N, N)\n",
    "perturbation /= np.linalg.norm(perturbation)\n",
    "perturbation *= 1"
   ]
  },
  {
   "cell_type": "code",
   "execution_count": 194,
   "id": "20071a18-645e-438c-866e-bfe40bdd246e",
   "metadata": {},
   "outputs": [],
   "source": [
    "X += perturbation"
   ]
  },
  {
   "cell_type": "code",
   "execution_count": 195,
   "id": "0b22a3da-e9c9-444c-ab50-1dac01394660",
   "metadata": {},
   "outputs": [],
   "source": [
    "unitary_scores.append(unitary_score(X))"
   ]
  },
  {
   "cell_type": "code",
   "execution_count": 196,
   "id": "c706acff-442f-49d1-aaeb-31630c2ccb2f",
   "metadata": {},
   "outputs": [
    {
     "data": {
      "text/plain": [
       "[1.5741523014774057]"
      ]
     },
     "execution_count": 196,
     "metadata": {},
     "output_type": "execute_result"
    }
   ],
   "source": [
    "unitary_scores"
   ]
  },
  {
   "cell_type": "code",
   "execution_count": 197,
   "id": "9c2ad948-8ebe-4b72-94ad-52f73eecb0ae",
   "metadata": {},
   "outputs": [],
   "source": [
    "for _ in range(300):\n",
    "    X+=grad_descent_step(X)\n",
    "    unitary_scores.append(unitary_score(X))"
   ]
  },
  {
   "cell_type": "code",
   "execution_count": 198,
   "id": "494fda5f-5874-44d2-8801-9d0022758f9c",
   "metadata": {},
   "outputs": [
    {
     "name": "stderr",
     "output_type": "stream",
     "text": [
      "/var/folders/r3/xn8xq5c17932m2g1b4r3dss80000gn/T/ipykernel_29138/1554473286.py:10: UserWarning: FigureCanvasAgg is non-interactive, and thus cannot be shown\n",
      "  fig.show()\n"
     ]
    },
    {
     "data": {
      "image/png": "[encoded data removed]",
      "text/plain": [
       "<Figure size 600x400 with 1 Axes>"
      ]
     },
     "metadata": {},
     "output_type": "display_data"
    }
   ],
   "source": [
    "fig, ax = plt.subplots(figsize=(6,4))\n",
    "\n",
    "num_points=20\n",
    "\n",
    "ax.plot(unitary_scores[:num_points])\n",
    "#ax.plot(unitary_scores_1[:num_points])\n",
    "#ax.plot(unitary_scores_2[:num_points])\n",
    "ax.set_yscale('log')\n",
    "\n",
    "fig.show()"
   ]
  },
  {
   "cell_type": "code",
   "execution_count": 199,
   "id": "17199bf8-ac1f-4e96-97a1-fdb8c9303767",
   "metadata": {},
   "outputs": [
    {
     "data": {
      "text/plain": [
       "1.8151971549695805e-15"
      ]
     },
     "execution_count": 199,
     "metadata": {},
     "output_type": "execute_result"
    }
   ],
   "source": [
    "unitary_scores[-1]"
   ]
  },
  {
   "cell_type": "code",
   "execution_count": 200,
   "id": "fb9c4a27-b9c8-49ad-a5ba-5405224fbcdc",
   "metadata": {},
   "outputs": [],
   "source": [
    "X = unitary_group.rvs(N)\n",
    "unitary_scores=list()"
   ]
  },
  {
   "cell_type": "code",
   "execution_count": 201,
   "id": "0ec84f38-83c4-40d5-8b06-d7b94dc759b4",
   "metadata": {},
   "outputs": [],
   "source": [
    "perturbation = np.random.rand(N, N) + 1j*np.random.rand(N, N)\n",
    "perturbation /= np.linalg.norm(perturbation)\n",
    "perturbation *= 10"
   ]
  },
  {
   "cell_type": "code",
   "execution_count": 202,
   "id": "7dcce1b2-3980-4643-b5d3-359283886157",
   "metadata": {},
   "outputs": [],
   "source": [
    "X += perturbation"
   ]
  },
  {
   "cell_type": "code",
   "execution_count": 203,
   "id": "d9a13a25-2bb3-4c36-ba1b-5c2f24f81a61",
   "metadata": {},
   "outputs": [],
   "source": [
    "unitary_scores.append(unitary_score(X))"
   ]
  },
  {
   "cell_type": "code",
   "execution_count": 204,
   "id": "a2d9b09a-5fc8-43c9-9077-4910bb3ce73e",
   "metadata": {},
   "outputs": [
    {
     "data": {
      "text/plain": [
       "[77.12570247303451]"
      ]
     },
     "execution_count": 204,
     "metadata": {},
     "output_type": "execute_result"
    }
   ],
   "source": [
    "unitary_scores"
   ]
  },
  {
   "cell_type": "code",
   "execution_count": 205,
   "id": "2ec33bcb-202c-4108-8bf0-27db1a2a1c99",
   "metadata": {},
   "outputs": [
    {
     "name": "stderr",
     "output_type": "stream",
     "text": [
      "/var/folders/r3/xn8xq5c17932m2g1b4r3dss80000gn/T/ipykernel_29138/2475999233.py:2: RuntimeWarning: overflow encountered in matmul\n",
      "  diff = X @ np.conj(X.T)\n",
      "/var/folders/r3/xn8xq5c17932m2g1b4r3dss80000gn/T/ipykernel_29138/2475999233.py:2: RuntimeWarning: invalid value encountered in matmul\n",
      "  diff = X @ np.conj(X.T)\n",
      "/var/folders/r3/xn8xq5c17932m2g1b4r3dss80000gn/T/ipykernel_29138/3560967508.py:4: RuntimeWarning: overflow encountered in matmul\n",
      "  X3 = np.matmul(np.matmul(X, X_c), X)\n",
      "/var/folders/r3/xn8xq5c17932m2g1b4r3dss80000gn/T/ipykernel_29138/3560967508.py:4: RuntimeWarning: invalid value encountered in matmul\n",
      "  X3 = np.matmul(np.matmul(X, X_c), X)\n"
     ]
    }
   ],
   "source": [
    "for _ in range(300):\n",
    "    X+=grad_descent_step(X)\n",
    "    unitary_scores.append(unitary_score(X))"
   ]
  },
  {
   "cell_type": "code",
   "execution_count": 206,
   "id": "4fb9d676-4b71-41d0-bd18-fe6562220e2a",
   "metadata": {},
   "outputs": [
    {
     "name": "stderr",
     "output_type": "stream",
     "text": [
      "/var/folders/r3/xn8xq5c17932m2g1b4r3dss80000gn/T/ipykernel_29138/1554473286.py:10: UserWarning: FigureCanvasAgg is non-interactive, and thus cannot be shown\n",
      "  fig.show()\n"
     ]
    },
    {
     "data": {
      "image/png": "[encoded data removed]",
      "text/plain": [
       "<Figure size 600x400 with 1 Axes>"
      ]
     },
     "metadata": {},
     "output_type": "display_data"
    }
   ],
   "source": [
    "fig, ax = plt.subplots(figsize=(6,4))\n",
    "\n",
    "num_points=20\n",
    "\n",
    "ax.plot(unitary_scores[:num_points])\n",
    "#ax.plot(unitary_scores_1[:num_points])\n",
    "#ax.plot(unitary_scores_2[:num_points])\n",
    "ax.set_yscale('log')\n",
    "\n",
    "fig.show()"
   ]
  },
  {
   "cell_type": "code",
   "execution_count": 208,
   "id": "a4cf6d5e-0dbe-478a-a6cf-206d86be589a",
   "metadata": {},
   "outputs": [
    {
     "data": {
      "text/plain": [
       "nan"
      ]
     },
     "execution_count": 208,
     "metadata": {},
     "output_type": "execute_result"
    }
   ],
   "source": [
    "unitary_scores[-1]"
   ]
  },
  {
   "cell_type": "code",
   "execution_count": 224,
   "id": "fd9880f0-ba84-4de6-bba3-a6a38f3ff827",
   "metadata": {},
   "outputs": [],
   "source": [
    "X = unitary_group.rvs(N)\n",
    "unitary_scores=list()"
   ]
  },
  {
   "cell_type": "code",
   "execution_count": 225,
   "id": "b42a5b94-2faf-4eb0-8f18-ca0ad2c6c6ca",
   "metadata": {},
   "outputs": [],
   "source": [
    "perturbation = np.random.rand(N, N) + 1j*np.random.rand(N, N)\n",
    "perturbation /= np.linalg.norm(perturbation)\n",
    "perturbation *= 10"
   ]
  },
  {
   "cell_type": "code",
   "execution_count": 226,
   "id": "c28f3b1b-0e7f-4e09-bf4e-ebb7ca341d20",
   "metadata": {},
   "outputs": [],
   "source": [
    "X += perturbation"
   ]
  },
  {
   "cell_type": "code",
   "execution_count": 227,
   "id": "41bf8580-68be-47c7-802b-f821f0f8b36a",
   "metadata": {},
   "outputs": [],
   "source": [
    "unitary_scores.append(unitary_score(X))"
   ]
  },
  {
   "cell_type": "code",
   "execution_count": 228,
   "id": "35835d54-f897-4fd4-ac4c-0c746bcf82e8",
   "metadata": {},
   "outputs": [
    {
     "data": {
      "text/plain": [
       "[77.33502265634195]"
      ]
     },
     "execution_count": 228,
     "metadata": {},
     "output_type": "execute_result"
    }
   ],
   "source": [
    "unitary_scores"
   ]
  },
  {
   "cell_type": "code",
   "execution_count": 229,
   "id": "8941dfeb-86f1-42be-b65e-cb51aeceeca9",
   "metadata": {},
   "outputs": [],
   "source": [
    "for _ in range(300):\n",
    "    X+=scaled_grad_descent_step(X)\n",
    "    unitary_scores.append(unitary_score(X))"
   ]
  },
  {
   "cell_type": "code",
   "execution_count": 231,
   "id": "7f09bfa7-1446-420a-9ef9-12e8adc5a3c9",
   "metadata": {},
   "outputs": [
    {
     "name": "stderr",
     "output_type": "stream",
     "text": [
      "/var/folders/r3/xn8xq5c17932m2g1b4r3dss80000gn/T/ipykernel_29138/666514804.py:10: UserWarning: FigureCanvasAgg is non-interactive, and thus cannot be shown\n",
      "  fig.show()\n"
     ]
    },
    {
     "data": {
      "image/png": "[encoded data removed]",
      "text/plain": [
       "<Figure size 600x400 with 1 Axes>"
      ]
     },
     "metadata": {},
     "output_type": "display_data"
    }
   ],
   "source": [
    "fig, ax = plt.subplots(figsize=(6,4))\n",
    "\n",
    "num_points=50\n",
    "\n",
    "ax.plot(unitary_scores[:num_points])\n",
    "#ax.plot(unitary_scores_1[:num_points])\n",
    "#ax.plot(unitary_scores_2[:num_points])\n",
    "ax.set_yscale('log')\n",
    "\n",
    "fig.show()"
   ]
  },
  {
   "cell_type": "code",
   "execution_count": 208,
   "id": "91be221a-fc83-4524-9cdd-88b14be4df6b",
   "metadata": {},
   "outputs": [
    {
     "data": {
      "text/plain": [
       "nan"
      ]
     },
     "execution_count": 208,
     "metadata": {},
     "output_type": "execute_result"
    }
   ],
   "source": [
    "unitary_scores[-1]"
   ]
  },
  {
   "cell_type": "markdown",
   "id": "9405010e-47b0-40b0-a583-9db86b075d60",
   "metadata": {},
   "source": [
    "# Conclusions\n",
    "* Gradient descent works!\n",
    "* There is a specific learning rate for optimal local convergence, (analysis performed elsewhere).\n",
    "    * However this learning rate may result in divergences if initial guess is far from unitary. In this case a lower learning rate would be optimal.\n",
    "    * This can be addressed by dynamically scaling the learning rate, however further tuning/investigation is required to ensure that the learning rate isn't overtuned to the point that convergence is too slow for large deviations from unitaries."
   ]
  },
  {
   "cell_type": "code",
   "execution_count": null,
   "id": "4aaf5239-cfa1-4798-8bfc-e66bf810c1ba",
   "metadata": {},
   "outputs": [],
   "source": []
  }
 ],
 "metadata": {
  "kernelspec": {
   "display_name": "num_spt_venv_p11",
   "language": "python",
   "name": "num_spt_venv_p11"
  },
  "language_info": {
   "codemirror_mode": {
    "name": "ipython",
    "version": 3
   },
   "file_extension": ".py",
   "mimetype": "text/x-python",
   "name": "python",
   "nbconvert_exporter": "python",
   "pygments_lexer": "ipython3",
   "version": "3.11.9"
  }
 },
 "nbformat": 4,
 "nbformat_minor": 5
}
