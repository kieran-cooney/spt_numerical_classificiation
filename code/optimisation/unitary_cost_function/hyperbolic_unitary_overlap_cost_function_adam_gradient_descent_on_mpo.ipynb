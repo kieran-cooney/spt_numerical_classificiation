{
 "cells": [
  {
   "cell_type": "markdown",
   "id": "9603afff-5204-44c1-92a2-6c7e09ad20f6",
   "metadata": {},
   "source": [
    "# Hyperbolic unitary overlap cost function ADAM gradient descent on MPO\n",
    "\n",
    "Created 12/11/2024\n",
    "\n",
    "Objectives:\n",
    "* Apply ADAM gradient descent algorithm to an MPO along with overlap gradient to see if we can get a decent solution."
   ]
  },
  {
   "cell_type": "markdown",
   "id": "9ad0db4d-805c-4403-9d48-c71d523d572f",
   "metadata": {},
   "source": [
    "# Package imports"
   ]
  },
  {
   "cell_type": "code",
   "execution_count": 1,
   "id": "ecb41ea3-927f-4efa-aebe-ce15784aa037",
   "metadata": {},
   "outputs": [],
   "source": [
    "import sys"
   ]
  },
  {
   "cell_type": "code",
   "execution_count": 2,
   "id": "0375bd38-12e1-417a-908a-13fb540081f5",
   "metadata": {},
   "outputs": [],
   "source": [
    "sys.path.append(\"../../\")"
   ]
  },
  {
   "cell_type": "code",
   "execution_count": 3,
   "id": "4a525ec6-f0c8-47ee-8b0b-345bf0ef8bd3",
   "metadata": {},
   "outputs": [],
   "source": [
    "import h5py\n",
    "from tenpy.tools import hdf5_io\n",
    "import tenpy\n",
    "import tenpy.linalg.np_conserved as npc\n",
    "\n",
    "import os"
   ]
  },
  {
   "cell_type": "code",
   "execution_count": 4,
   "id": "b22092ac-9191-4a2d-b568-8680c3687185",
   "metadata": {},
   "outputs": [],
   "source": [
    "from functools import reduce"
   ]
  },
  {
   "cell_type": "code",
   "execution_count": 637,
   "id": "214f688a-c657-4810-b4d1-b1247deff62c",
   "metadata": {},
   "outputs": [],
   "source": [
    "import numpy as np\n",
    "import pandas as pd\n",
    "\n",
    "rng = np.random.default_rng()\n",
    "import matplotlib.pyplot as plt"
   ]
  },
  {
   "cell_type": "code",
   "execution_count": 6,
   "id": "b7461fe3-41a3-492f-b018-8e32e27a7300",
   "metadata": {},
   "outputs": [],
   "source": [
    "import re"
   ]
  },
  {
   "cell_type": "code",
   "execution_count": 7,
   "id": "aeb48fbe-9ee7-4f88-9a91-b52643b95a4f",
   "metadata": {},
   "outputs": [],
   "source": [
    "from SPTOptimization.utils import (\n",
    "    get_right_identity_environment_from_tp_tensor,\n",
    "    to_npc_array\n",
    ")\n",
    "\n",
    "from SPTOptimization.SymmetryActionWithBoundaryUnitaries import SymmetryActionWithBoundaryUnitaries"
   ]
  },
  {
   "cell_type": "markdown",
   "id": "c69a8a47-e298-4c4c-97f7-a6157da4e15f",
   "metadata": {},
   "source": [
    "# Load data"
   ]
  },
  {
   "cell_type": "code",
   "execution_count": 8,
   "id": "210d7dcc-b7ae-4f06-8429-84177bec47d3",
   "metadata": {},
   "outputs": [],
   "source": [
    "DATA_DIR = r\"../../data/transverse_cluster_200_site_dmrg\""
   ]
  },
  {
   "cell_type": "code",
   "execution_count": 9,
   "id": "52736de2-8178-4035-9861-2f17b8d972fc",
   "metadata": {},
   "outputs": [],
   "source": [
    "f_name = DATA_DIR + r\"/0_00.h5\""
   ]
  },
  {
   "cell_type": "code",
   "execution_count": 10,
   "id": "294bd63f-24bb-46d4-9716-76d74e82b013",
   "metadata": {},
   "outputs": [
    {
     "data": {
      "text/plain": [
       "'../../data/transverse_cluster_200_site_dmrg/0_00.h5'"
      ]
     },
     "execution_count": 10,
     "metadata": {},
     "output_type": "execute_result"
    }
   ],
   "source": [
    "f_name"
   ]
  },
  {
   "cell_type": "code",
   "execution_count": 11,
   "id": "68e653fc-625c-4010-ac8e-f7740131b8cc",
   "metadata": {},
   "outputs": [],
   "source": [
    "with h5py.File(f_name, 'r') as f:\n",
    "    data = hdf5_io.load_from_hdf5(f)\n",
    "    test_psi = data['wavefunction']"
   ]
  },
  {
   "cell_type": "markdown",
   "id": "b4c1e616-c034-404b-b59e-196d1eaac475",
   "metadata": {},
   "source": [
    "# Definitons"
   ]
  },
  {
   "cell_type": "code",
   "execution_count": 12,
   "id": "c4de478c-a1d2-48a5-95e9-a1258f861404",
   "metadata": {},
   "outputs": [],
   "source": [
    "NUM_SITES=5\n",
    "BOND_DIMENSION=4\n",
    "PHYSICAL_DIMENSION=2\n",
    "LEARNING_RATE = 0.01"
   ]
  },
  {
   "cell_type": "code",
   "execution_count": 13,
   "id": "ac918d29-c8fa-4e25-ae73-e0880586fa57",
   "metadata": {},
   "outputs": [],
   "source": [
    "total_dimension = PHYSICAL_DIMENSION**NUM_SITES"
   ]
  },
  {
   "cell_type": "code",
   "execution_count": 14,
   "id": "6bac53fa-b629-46fc-a145-f932a0af6f18",
   "metadata": {},
   "outputs": [],
   "source": [
    "left_trivial_leg_charge = tenpy.linalg.charges.LegCharge(\n",
    "    tenpy.linalg.charges.ChargeInfo([], []),\n",
    "    [0,1],\n",
    "    [[]],\n",
    "    qconj=1\n",
    ")"
   ]
  },
  {
   "cell_type": "code",
   "execution_count": 15,
   "id": "44f34cb7-0888-474b-9483-f4956951fc31",
   "metadata": {},
   "outputs": [],
   "source": [
    "right_trivial_leg_charge = tenpy.linalg.charges.LegCharge(\n",
    "    tenpy.linalg.charges.ChargeInfo([], []),\n",
    "    [0,1],\n",
    "    [[]],\n",
    "    qconj=-1\n",
    ")"
   ]
  },
  {
   "cell_type": "code",
   "execution_count": 16,
   "id": "bbfc7cb3-f7f4-497d-9d09-25e27c479373",
   "metadata": {},
   "outputs": [],
   "source": [
    "def generate_random_w_tensor(dims):\n",
    "    x1 = np.random.rand(*dims)\n",
    "    x2 = 1j*np.random.rand(*dims)\n",
    "\n",
    "    return x1 + x2"
   ]
  },
  {
   "cell_type": "code",
   "execution_count": 17,
   "id": "cebfa38b-4fee-47eb-b71b-2916dba33f3e",
   "metadata": {},
   "outputs": [],
   "source": [
    "edge_dims = [PHYSICAL_DIMENSION,]*2 + [BOND_DIMENSION,]\n",
    "inner_dims = edge_dims + [BOND_DIMENSION,]"
   ]
  },
  {
   "cell_type": "code",
   "execution_count": 18,
   "id": "e9a4f858-bbae-4363-8c6d-cd02428b71eb",
   "metadata": {},
   "outputs": [],
   "source": [
    "w = generate_random_w_tensor(edge_dims)"
   ]
  },
  {
   "cell_type": "code",
   "execution_count": 19,
   "id": "2170f972-2a70-451a-b4e6-706c3f7dddbc",
   "metadata": {},
   "outputs": [],
   "source": [
    "w_tensor = npc.Array.from_ndarray_trivial(w, labels=['p', 'p*', 'vR'])"
   ]
  },
  {
   "cell_type": "code",
   "execution_count": 20,
   "id": "9d73d611-8153-42aa-8eed-177cf592bab2",
   "metadata": {},
   "outputs": [
    {
     "data": {
      "text/plain": [
       "<npc.Array shape=(2, 2, 4) labels=['p', 'p*', 'vR']>"
      ]
     },
     "execution_count": 20,
     "metadata": {},
     "output_type": "execute_result"
    }
   ],
   "source": [
    "w_tensor"
   ]
  },
  {
   "cell_type": "code",
   "execution_count": 21,
   "id": "90b199ce-741b-4bb9-bf36-6a6a0a3d3ea9",
   "metadata": {},
   "outputs": [],
   "source": [
    "w_tensors = [w_tensor,]"
   ]
  },
  {
   "cell_type": "code",
   "execution_count": 22,
   "id": "d7a7aaec-8063-49f9-b226-b4cc9aee6feb",
   "metadata": {},
   "outputs": [],
   "source": [
    "for _ in range(NUM_SITES-2):\n",
    "    w = generate_random_w_tensor(inner_dims)\n",
    "    w_tensor = npc.Array.from_ndarray_trivial(w, labels=['p', 'p*', 'vL', 'vR'])\n",
    "    \n",
    "    w_tensors.append(w_tensor)"
   ]
  },
  {
   "cell_type": "code",
   "execution_count": 23,
   "id": "ea4ac9e4-0753-4186-988c-01006ae36c24",
   "metadata": {},
   "outputs": [],
   "source": [
    "w = generate_random_w_tensor(edge_dims)"
   ]
  },
  {
   "cell_type": "code",
   "execution_count": 24,
   "id": "a1085c68-0fb1-4e2b-a1d5-54757bdc95e3",
   "metadata": {},
   "outputs": [],
   "source": [
    "w_tensor = npc.Array.from_ndarray_trivial(w, labels=['p', 'p*', 'vL'])"
   ]
  },
  {
   "cell_type": "code",
   "execution_count": 25,
   "id": "d7a5faef-2989-4520-9b55-daca27b4415d",
   "metadata": {},
   "outputs": [
    {
     "data": {
      "text/plain": [
       "<npc.Array shape=(2, 2, 4) labels=['p', 'p*', 'vL']>"
      ]
     },
     "execution_count": 25,
     "metadata": {},
     "output_type": "execute_result"
    }
   ],
   "source": [
    "w_tensor"
   ]
  },
  {
   "cell_type": "code",
   "execution_count": 26,
   "id": "8fa97083-a334-402e-9cb7-0552b356289b",
   "metadata": {},
   "outputs": [],
   "source": [
    "w_tensors.append(w_tensor)"
   ]
  },
  {
   "cell_type": "code",
   "execution_count": 27,
   "id": "53487878-218d-40a0-b336-02d38e074c33",
   "metadata": {},
   "outputs": [
    {
     "data": {
      "text/plain": [
       "[<npc.Array shape=(2, 2, 4) labels=['p', 'p*', 'vR']>,\n",
       " <npc.Array shape=(2, 2, 4, 4) labels=['p', 'p*', 'vL', 'vR']>,\n",
       " <npc.Array shape=(2, 2, 4, 4) labels=['p', 'p*', 'vL', 'vR']>,\n",
       " <npc.Array shape=(2, 2, 4, 4) labels=['p', 'p*', 'vL', 'vR']>,\n",
       " <npc.Array shape=(2, 2, 4) labels=['p', 'p*', 'vL']>]"
      ]
     },
     "execution_count": 27,
     "metadata": {},
     "output_type": "execute_result"
    }
   ],
   "source": [
    "w_tensors"
   ]
  },
  {
   "cell_type": "markdown",
   "id": "44c4141c-5521-4e71-9a95-647f977ed40b",
   "metadata": {},
   "source": [
    "## Test symmetry case"
   ]
  },
  {
   "cell_type": "code",
   "execution_count": 28,
   "id": "62ec5614-6aca-465d-a562-f0f4fb98cac5",
   "metadata": {},
   "outputs": [],
   "source": [
    "np_I = np.array([[1,0],[0,1]])\n",
    "np_X = np.array([[0,1],[1,0]])\n",
    "np_Y = np.array([[0,-1j],[1j,0]])\n",
    "np_Z = np.array([[1,0],[0,-1]])"
   ]
  },
  {
   "cell_type": "code",
   "execution_count": 29,
   "id": "ddc01bac-517f-4922-9df0-28b400f70a3e",
   "metadata": {},
   "outputs": [],
   "source": [
    "symmetry_actions = [\n",
    "    [np_I, np_I],\n",
    "    [np_I, np_X],\n",
    "    [np_X, np_I],\n",
    "    [np_X, np_X]\n",
    "]"
   ]
  },
  {
   "cell_type": "code",
   "execution_count": 30,
   "id": "10721838-5776-4da8-9618-01dd30494f13",
   "metadata": {},
   "outputs": [],
   "source": [
    "symmetry_labels = [\n",
    "    'II',\n",
    "    'IX',\n",
    "    'XI',\n",
    "    'XX'\n",
    "]"
   ]
  },
  {
   "cell_type": "code",
   "execution_count": 31,
   "id": "6e2a1cca-dcb2-43bc-8100-2c81768277c5",
   "metadata": {},
   "outputs": [],
   "source": [
    "test_case = SymmetryActionWithBoundaryUnitaries(\n",
    "    test_psi,\n",
    "    symmetry_actions[1]*50,\n",
    "    left_boundary_unitaries=[np_I,]*3,\n",
    "    right_boundary_unitaries=[np_I,]*3\n",
    ")"
   ]
  },
  {
   "cell_type": "code",
   "execution_count": 32,
   "id": "ea634919-7658-4844-bd78-f4fdfbf01552",
   "metadata": {},
   "outputs": [
    {
     "data": {
      "text/plain": [
       "(-6.371358002176382e-29+0j)"
      ]
     },
     "execution_count": 32,
     "metadata": {},
     "output_type": "execute_result"
    }
   ],
   "source": [
    "test_case.compute_svd_approximate_expectation()"
   ]
  },
  {
   "cell_type": "markdown",
   "id": "5ee06cdc-8577-460b-82cb-2110e47c931a",
   "metadata": {},
   "source": [
    "## Functions"
   ]
  },
  {
   "cell_type": "code",
   "execution_count": 33,
   "id": "f7500fa8-a1c6-45bf-949b-53a7526a5be9",
   "metadata": {},
   "outputs": [],
   "source": [
    "def get_physical_dim(tensor, p_label='p'):\n",
    "    index = tensor.get_leg_index(p_label)\n",
    "    dim = tensor.shape[index]\n",
    "    return dim"
   ]
  },
  {
   "cell_type": "code",
   "execution_count": 34,
   "id": "ba98ff84-8c5c-4f71-aa88-abbe2b839bff",
   "metadata": {},
   "outputs": [],
   "source": [
    "def mpo_frobenius_inner_product(mpo1_tensors, mpo2_tensors=None):\n",
    "    if mpo2_tensors is None:\n",
    "        mpo2_tensors = mpo1_tensors\n",
    "\n",
    "    w1 = mpo1_tensors[0]\n",
    "    dim = get_physical_dim(w1, p_label='p')\n",
    "    w2 = mpo2_tensors[0]\n",
    "\n",
    "    t = npc.tensordot(w1, w2.conj(), [['p', 'p*'], ['p*', 'p']])\n",
    "    #t /= dim\n",
    "\n",
    "    for w1, w2 in zip(mpo1_tensors[1:], mpo2_tensors[1:]):\n",
    "        dim = get_physical_dim(w1, p_label='p')\n",
    "\n",
    "        t = npc.tensordot(t, w1, [['vR', ], ['vL']])\n",
    "        t = npc.tensordot(t, w2.conj(), [['vR*', 'p', 'p*'], ['vL*', 'p*', 'p']])\n",
    "        #t /= dim\n",
    "\n",
    "    return t"
   ]
  },
  {
   "cell_type": "code",
   "execution_count": 35,
   "id": "2e202c02-6390-49eb-9b99-32147572b6fa",
   "metadata": {},
   "outputs": [],
   "source": [
    "def unitary_order_two_right_tensors(w_tensors):\n",
    "    out = list()\n",
    "\n",
    "    w = w_tensors[-1]\n",
    "    t = npc.tensordot(w, w.conj(), [['p', 'p*'], ['p*', 'p']])\n",
    "\n",
    "    out.append(t)\n",
    "\n",
    "    for w in w_tensors[-2:0:-1]:\n",
    "        t = npc.tensordot(t, w, [['vL',], ['vR']])\n",
    "        t = npc.tensordot(t, w.conj(), [['vL*', 'p', 'p*'], ['vR*', 'p*', 'p']])\n",
    "\n",
    "        out.append(t)\n",
    "\n",
    "    return out[::-1]"
   ]
  },
  {
   "cell_type": "code",
   "execution_count": 36,
   "id": "e12a7b85-584a-4b5c-8c12-039cc8752ca8",
   "metadata": {},
   "outputs": [],
   "source": [
    "def unitary_order_four_right_tensors(w_tensors):\n",
    "    out = list()\n",
    "\n",
    "    w = w_tensors[-1]\n",
    "    t = npc.tensordot(w, w.conj(), [['p',], ['p*',]])\n",
    "    t.ireplace_labels(['vL', 'vL*'], ['vL1', 'vL1*'])\n",
    "    t = npc.tensordot(t, w, [['p',], ['p*',]])\n",
    "    t = npc.tensordot(t, w.conj(), [['p', 'p*'], ['p*', 'p']])\n",
    "    \n",
    "    out.append(t)\n",
    "\n",
    "    for w in w_tensors[-2:0:-1]:\n",
    "        t = npc.tensordot(t, w, [['vL',], ['vR',]])\n",
    "        t = npc.tensordot(t, w.conj(), [['vL*', 'p'], ['vR*', 'p*']])\n",
    "\n",
    "        w = w.replace_label('vL', 'vL1')\n",
    "    \n",
    "        t = npc.tensordot(t, w, [['vL1', 'p',], ['vR', 'p*']])\n",
    "        t = npc.tensordot(t, w.conj(), [['vL1*', 'p', 'p*'], ['vR*', 'p*', 'p']])\n",
    "\n",
    "        out.append(t)\n",
    "\n",
    "    return out[::-1]"
   ]
  },
  {
   "cell_type": "code",
   "execution_count": 37,
   "id": "d63cf0b2-903d-482c-959c-d2c7b9dbc310",
   "metadata": {},
   "outputs": [
    {
     "data": {
      "text/plain": [
       "<npc.Array shape=(2, 2, 4) labels=['p*', 'p', 'vL*']>"
      ]
     },
     "execution_count": 37,
     "metadata": {},
     "output_type": "execute_result"
    }
   ],
   "source": [
    "w_tensors[-1].conj()"
   ]
  },
  {
   "cell_type": "code",
   "execution_count": 38,
   "id": "d16af878-4506-4fd0-8e37-92a6d7e1360d",
   "metadata": {},
   "outputs": [],
   "source": [
    "def overlap_right_tensors(w_tensors, b_tensors):\n",
    "    out = list()\n",
    "\n",
    "    t = get_right_identity_environment_from_tp_tensor(b_tensors[-1])\n",
    "\n",
    "    out.append(t)\n",
    "\n",
    "    b = b_tensors[-1]\n",
    "    w = w_tensors[-1]\n",
    "    \n",
    "    t = npc.tensordot(t, b, [['vL',], ['vR',]])\n",
    "    t = npc.tensordot(\n",
    "        t,\n",
    "        w.conj().replace_label('vL*', 'vLm'),\n",
    "        [['p',], ['p*',]]\n",
    "    )\n",
    "    t = npc.tensordot(t, b.conj(), [['p', 'vL*',], ['p*', 'vR*',]])\n",
    "\n",
    "    out.append(t)\n",
    "\n",
    "    for w, b in zip(w_tensors[-2:0:-1], b_tensors[-2:0:-1]):\n",
    "        t = npc.tensordot(t, b, [['vL',], ['vR',]])\n",
    "        t = npc.tensordot(\n",
    "            t,\n",
    "            w.conj().replace_label('vL*', 'vLm'),\n",
    "            [['p', 'vLm'], ['p*', 'vR*']]\n",
    "        )\n",
    "        t = npc.tensordot(t, b.conj(), [['p', 'vL*',], ['p*', 'vR*',]])\n",
    "    \n",
    "        out.append(t)\n",
    "\n",
    "    return out[::-1]"
   ]
  },
  {
   "cell_type": "markdown",
   "id": "3b1fda53-6670-4188-b86e-d2809f353b43",
   "metadata": {},
   "source": [
    "### Initialize tensors"
   ]
  },
  {
   "cell_type": "code",
   "execution_count": 39,
   "id": "6663e659-fb23-426d-afc6-70a00d2984d3",
   "metadata": {},
   "outputs": [],
   "source": [
    "def rescale_mpo_tensors(mpo_tensors, new_norm):\n",
    "    num_sites = len(mpo_tensors)\n",
    "\n",
    "    old_norm = mpo_frobenius_inner_product(mpo_tensors).real\n",
    "    \n",
    "    scale_factor = np.power(\n",
    "        new_norm/old_norm,\n",
    "        1/(2*num_sites)\n",
    "    )\n",
    "\n",
    "    for i in range(num_sites):\n",
    "        mpo_tensors[i] = scale_factor*mpo_tensors[i]"
   ]
  },
  {
   "cell_type": "code",
   "execution_count": 40,
   "id": "4c09d507-0f5d-486e-bb5e-22f8d35a9fc3",
   "metadata": {},
   "outputs": [],
   "source": [
    "def generate_random_w_tensor(physical_dim, left_virtual_dim=None,\n",
    "                             right_virtual_dim=None):\n",
    "\n",
    "    if (left_virtual_dim is None) and (right_virtual_dim is None):\n",
    "        dims = (physical_dim, physical_dim)\n",
    "    elif (left_virtual_dim is None):\n",
    "        dims = (physical_dim, physical_dim, right_virtual_dim)\n",
    "    elif (right_virtual_dim is None):\n",
    "        dims = (physical_dim, physical_dim, left_virtual_dim)\n",
    "    else: \n",
    "        dims = (\n",
    "            physical_dim,\n",
    "            physical_dim,\n",
    "            left_virtual_dim,\n",
    "            right_virtual_dim\n",
    "        )\n",
    "    \n",
    "    X1 = rng.normal(size=dims)\n",
    "    X2 = 1j*rng.normal(size=dims)\n",
    "    X = X1 + X2\n",
    "\n",
    "        \n",
    "    if (left_virtual_dim is None) and (right_virtual_dim is None):\n",
    "        out = npc.Array.from_ndarray_trivial(X, labels=['p', 'p*'])\n",
    "    elif right_virtual_dim is None:\n",
    "        out = npc.Array.from_ndarray_trivial(X, labels=['p', 'p*', 'vL'])\n",
    "    elif left_virtual_dim is None:\n",
    "        out = npc.Array.from_ndarray_trivial(X, labels=['p', 'p*', 'vR'])\n",
    "    else:\n",
    "        out = npc.Array.from_ndarray_trivial(\n",
    "            X,\n",
    "            labels=['p', 'p*', 'vL', 'vR']\n",
    "        )\n",
    "\n",
    "    return out"
   ]
  },
  {
   "cell_type": "code",
   "execution_count": 41,
   "id": "e779de84-d12b-4de3-b9d8-004bdf6e47bd",
   "metadata": {},
   "outputs": [],
   "source": [
    "def get_random_mpo_tensors(num_sites, norm=None):\n",
    "    \"\"\"\n",
    "    Needs more arguments\n",
    "    \"\"\"\n",
    "\n",
    "    w = generate_random_w_tensor(edge_dims)\n",
    "    w_tensor = npc.Array.from_ndarray_trivial(\n",
    "        w,\n",
    "        labels=['p', 'p*', 'vR']\n",
    "    )\n",
    "\n",
    "    w_tensors = [w_tensor,]\n",
    "\n",
    "    for _ in range(num_sites-2):\n",
    "        w = generate_random_w_tensor(inner_dims)\n",
    "        w_tensor = npc.Array.from_ndarray_trivial(w, labels=['p', 'p*', 'vL', 'vR'])\n",
    "        \n",
    "        w_tensors.append(w_tensor)\n",
    "\n",
    "    w = generate_random_w_tensor(edge_dims)\n",
    "    w_tensor = npc.Array.from_ndarray_trivial(\n",
    "        w,\n",
    "        labels=['p', 'p*', 'vL']\n",
    "    )\n",
    "    w_tensors.append(w_tensor)\n",
    "\n",
    "    if norm is not None:\n",
    "        rescale_mpo_tensors(w_tensors, norm)\n",
    "\n",
    "    return w_tensors"
   ]
  },
  {
   "cell_type": "code",
   "execution_count": 42,
   "id": "3ffba566-177e-46a4-bb02-953f6a6c8250",
   "metadata": {},
   "outputs": [],
   "source": [
    "def get_identity_w_tensor(physical_dim, left_virtual_dim=None, right_virtual_dim=None):\n",
    "    diagonal = np.ones(physical_dim, dtype='complex')\n",
    "    identity_matrix = np.diag(diagonal)\n",
    "    \n",
    "    if (left_virtual_dim is None) and (right_virtual_dim is None):\n",
    "        w_tensor = npc.Array.from_ndarray_trivial(\n",
    "            identity_matrix,\n",
    "            labels=['p', 'p*']\n",
    "        )\n",
    "    elif right_virtual_dim is None:\n",
    "        X = np.zeros(\n",
    "            (physical_dim, physical_dim, left_virtual_dim),\n",
    "            dtype='complex'\n",
    "        )\n",
    "        X[...,0] = identity_matrix\n",
    "        w_tensor = npc.Array.from_ndarray_trivial(\n",
    "            X,\n",
    "            labels=['p', 'p*', 'vL']\n",
    "        )\n",
    "    elif left_virtual_dim is None:\n",
    "        X = np.zeros(\n",
    "            (physical_dim, physical_dim, right_virtual_dim),\n",
    "            dtype='complex'\n",
    "        )\n",
    "        X[...,0] = identity_matrix\n",
    "        w_tensor = npc.Array.from_ndarray_trivial(\n",
    "            X,\n",
    "            labels=['p', 'p*', 'vR']\n",
    "        )\n",
    "    else:\n",
    "        X = np.zeros(\n",
    "            (physical_dim, physical_dim, left_virtual_dim, right_virtual_dim),\n",
    "            dtype='complex'\n",
    "        )\n",
    "        X[...,0,0] = identity_matrix\n",
    "        w_tensor = npc.Array.from_ndarray_trivial(\n",
    "            X,\n",
    "            labels=['p', 'p*', 'vL', 'vR']\n",
    "        )\n",
    "\n",
    "    return w_tensor"
   ]
  },
  {
   "cell_type": "code",
   "execution_count": 43,
   "id": "0e11bd70-f8d2-4254-870c-75620f9da400",
   "metadata": {},
   "outputs": [],
   "source": [
    "def get_random_mpo_tensors(physical_dims, virtual_dims):\n",
    "    \"\"\"\n",
    "    Could fold in with get_identity_mpo_tensors\n",
    "    \"\"\"\n",
    "\n",
    "    w_tensors = [\n",
    "        generate_random_w_tensor(p_dim, *v_dims)\n",
    "        for p_dim, v_dims in zip(physical_dims, virtual_dims)\n",
    "    ]\n",
    "\n",
    "    return w_tensors"
   ]
  },
  {
   "cell_type": "code",
   "execution_count": 44,
   "id": "416a67d2-bf88-4655-8ffb-c7d7e0afff98",
   "metadata": {},
   "outputs": [],
   "source": [
    "def get_identity_mpo_tensors(physical_dims, virtual_dims):\n",
    "    \"\"\"\n",
    "    Needs more comments, docs!\n",
    "\n",
    "    Often physical dims, virtual dims will be the same, so could add\n",
    "    optional behaviour...\n",
    "    \"\"\"\n",
    "\n",
    "    w_tensors = [\n",
    "        get_identity_w_tensor(p_dim, *v_dims)\n",
    "        for p_dim, v_dims in zip(physical_dims, virtual_dims)\n",
    "    ]\n",
    "\n",
    "    return w_tensors"
   ]
  },
  {
   "cell_type": "markdown",
   "id": "e57bf0ac-6b4d-4988-98e7-fe319d6166c1",
   "metadata": {},
   "source": [
    "### ADAM functions"
   ]
  },
  {
   "cell_type": "code",
   "execution_count": 70,
   "id": "7ebe448b-1c37-4bb0-ba43-72ee28829714",
   "metadata": {},
   "outputs": [],
   "source": [
    "def squared_components(X):\n",
    "    r, i = (X.real, X.imag)\n",
    "    return r**2 + 1j*(i**2)"
   ]
  },
  {
   "cell_type": "code",
   "execution_count": 71,
   "id": "31b74760-623b-4dd4-a319-24e51b4f08f9",
   "metadata": {},
   "outputs": [],
   "source": [
    "def square_root_components(X):\n",
    "    r, i = (X.real, X.imag)\n",
    "    return np.sqrt(r) + 1j*np.sqrt(i)"
   ]
  },
  {
   "cell_type": "code",
   "execution_count": 72,
   "id": "91bff15c-8ecf-44a9-995f-b7f4b8f0615c",
   "metadata": {},
   "outputs": [],
   "source": [
    "class AdamTenpy:\n",
    "    def __init__(self, alpha=0.001, beta_1=0.9, beta_2=0.999, epsilon=1e-8):\n",
    "        self.alpha = alpha\n",
    "        self.beta_1 = beta_1\n",
    "        self.beta_2 = beta_2\n",
    "        self.epsilon = epsilon\n",
    "\n",
    "        self.moment_1 = None\n",
    "        self.moment_2 = None\n",
    "\n",
    "    def update(self, grad):\n",
    "        if self.moment_1 is None:\n",
    "            self.moment_1 = (1-self.beta_1)*grad\n",
    "        else:\n",
    "            self.moment_1 = self.beta_1*self.moment_1 + (1-self.beta_1)*grad\n",
    "\n",
    "        grad_squared = grad.unary_blockwise(squared_components)\n",
    "        if self.moment_2 is None:\n",
    "            self.moment_2 = (1-self.beta_2)*grad_squared\n",
    "        else:\n",
    "            self.moment_2 = self.beta_2*self.moment_2 + (1-self.beta_2)*grad_squared\n",
    "\n",
    "        self.moment_1 /= (1-self.beta_1)\n",
    "        self.moment_2 /= (1-self.beta_2)\n",
    "\n",
    "        out_grad_denom = (\n",
    "            self.moment_2\n",
    "            .unary_blockwise(square_root_components)\n",
    "            .unary_blockwise(lambda x: x + (1+1j)*self.epsilon)\n",
    "        )\n",
    "\n",
    "        out_grad = (\n",
    "            self.moment_1\n",
    "            .binary_blockwise(np.divide, out_grad_denom)\n",
    "        )\n",
    "\n",
    "        return self.alpha*out_grad"
   ]
  },
  {
   "cell_type": "markdown",
   "id": "c2919303-4883-4327-9b56-743be48ebb53",
   "metadata": {},
   "source": [
    "### Sweep function"
   ]
  },
  {
   "cell_type": "code",
   "execution_count": 45,
   "id": "94c08580-6ab0-4501-8e41-1517ea118eb5",
   "metadata": {},
   "outputs": [],
   "source": [
    "def mpo_tensor_raw_to_gradient(raw_mpo_tensor, gradient_target_tensor):\n",
    "    \"\"\"\n",
    "    Update raw_mpo_tensor calculated to be the gradient by changing leg names\n",
    "    as neeeded so can be easily and consistently added to\n",
    "    gradient_target_tensor.\n",
    "    \"\"\"\n",
    "    leg_labels = raw_mpo_tensor.get_leg_labels()\n",
    "\n",
    "    # First update the virtual legs\n",
    "    old_new_leg_label_pairs = [\n",
    "        ('vL*', 'vR'),\n",
    "        ('vR*', 'vL'),\n",
    "        ('vL1*', 'vR'),\n",
    "        ('vR1*', 'vL'),\n",
    "        ('vLm', 'vR'),\n",
    "        ('vRm', 'vL'),\n",
    "    ]\n",
    "\n",
    "    for old, new in old_new_leg_label_pairs:\n",
    "        if old in leg_labels:\n",
    "            raw_mpo_tensor.ireplace_label(old, new)\n",
    "\n",
    "    # Then create new array to get the physical legs correct.\n",
    "    # Is this consistent? Should set order of leg labels on raw_mpo_tensor\n",
    "    # before casting to array?\n",
    "    out = npc.Array.from_ndarray_trivial(\n",
    "        raw_mpo_tensor.to_ndarray(),\n",
    "        labels=raw_mpo_tensor.get_leg_labels()\n",
    "    )\n",
    "\n",
    "    out.itranspose(gradient_target_tensor.get_leg_labels())\n",
    "\n",
    "    return out"
   ]
  },
  {
   "cell_type": "code",
   "execution_count": 69,
   "id": "aa8f1c2b-a2fe-4851-b802-2418f619ce7e",
   "metadata": {},
   "outputs": [],
   "source": [
    "def update_mpo_score(raw_gradient_mpo_tensor, gradient_target_tensor,\n",
    "                     virtual_legs=[['vL*', 'vR*',], ['vR*', 'vL*',]],\n",
    "                     take_abs=False\n",
    "                    ):\n",
    "    # Calculate \"score\" (just the contraction of the two relevant tensors)\n",
    "    raw_legs, target_legs = virtual_legs\n",
    "\n",
    "    score = npc.tensordot(\n",
    "        raw_gradient_mpo_tensor,\n",
    "        gradient_target_tensor.conj(),\n",
    "        [['p', 'p*', *raw_legs], ['p*', 'p', *target_legs]]\n",
    "    )\n",
    "\n",
    "    if take_abs:\n",
    "        real_score = np.abs(score)\n",
    "    else:\n",
    "        real_score = score.real\n",
    "\n",
    "    return score"
   ]
  },
  {
   "cell_type": "code",
   "execution_count": 342,
   "id": "a35f4a5f-aa5f-49e7-a87b-c271d442025f",
   "metadata": {},
   "outputs": [],
   "source": [
    "def mpo_gradient_descent_sweep(mpo_tensors, b_tensors,\n",
    "    unitarity_learning_rate, overlap_learning_rate,\n",
    "    overlap_target, left_environment, adam_optimizers):\n",
    "    \"\"\"\n",
    "    Really need to tidy this function up...\n",
    "\n",
    "    Also get matrix_dim directly from tensors.\n",
    "    \"\"\"\n",
    "    # Initialise list of gradients to be filled\n",
    "    grads = list()\n",
    "    # HARD CODE WARNING!\n",
    "    total_dimension = 2**len(mpo_tensors)\n",
    "\n",
    "    # Initialise variables\n",
    "    right_unitary_two_tensors = unitary_order_two_right_tensors(mpo_tensors)\n",
    "    right_unitary_four_tensors = unitary_order_four_right_tensors(mpo_tensors)\n",
    "    right_overlap_tensors = overlap_right_tensors(mpo_tensors, b_tensors)\n",
    "    \n",
    "    left_unitary_two_tensors = list()\n",
    "    left_unitary_four_tensors = list()\n",
    "    left_overlap_tensors = list()\n",
    "\n",
    "    num_sites = len(mpo_tensors)\n",
    "    assert len(mpo_tensors) == len(b_tensors)\n",
    "\n",
    "    # Leftmost site\n",
    "    w = mpo_tensors[0]\n",
    "    b = b_tensors[0]\n",
    "\n",
    "    t = right_unitary_two_tensors[0]\n",
    "\n",
    "    # Second order terms\n",
    "    grad_2 = npc.tensordot(t, w, [['vL'], ['vR',]])\n",
    "\n",
    "    order_2_score = update_mpo_score(\n",
    "        grad_2,\n",
    "        w,\n",
    "        [['vL*',], ['vR*',]]\n",
    "    )\n",
    "\n",
    "    grad_2 = mpo_tensor_raw_to_gradient(grad_2, w)\n",
    "\n",
    "    # Fourth order terms\n",
    "    t = right_unitary_four_tensors[0]\n",
    "\n",
    "    grad_4 = npc.tensordot(t, w, [['vL'], ['vR',]])\n",
    "    grad_4 = npc.tensordot(grad_4, w.conj(), [['vL*', 'p'], ['vR*', 'p*']])\n",
    "    grad_4 = npc.tensordot(grad_4, w, [['vL1', 'p'], ['vR', 'p*']])\n",
    "\n",
    "    order_4_score = update_mpo_score(\n",
    "        grad_4,\n",
    "        w,\n",
    "        [['vL1*',], ['vR*',]]\n",
    "    )\n",
    "\n",
    "    grad_4 = mpo_tensor_raw_to_gradient(grad_4, w)\n",
    "\n",
    "    unitary_score = order_4_score - 2*order_2_score + total_dimension\n",
    "    unitary_grad = (grad_4 - grad_2)/np.sqrt(1+unitary_score)\n",
    "    \n",
    "    # Overlap terms\n",
    "    t = right_overlap_tensors[0]\n",
    "\n",
    "    grad_o = npc.tensordot(t, b, [['vL'], ['vR',]])\n",
    "    grad_o = npc.tensordot(grad_o, b.conj(), [['vL*',], ['vR*',]])\n",
    "    grad_o = npc.tensordot(grad_o, left_environment, [['vL', 'vL*'], ['vR', 'vR*']])\n",
    "\n",
    "    c_conj = update_mpo_score(\n",
    "        grad_o,\n",
    "        w,\n",
    "        [['vLm',], ['vR*',]],\n",
    "        take_abs=True\n",
    "    )\n",
    "    c = c_conj.conjugate()\n",
    "    c_abs = np.abs(c)\n",
    "    \n",
    "    grad_o_scale = c*(1 - overlap_target/c_abs)\n",
    "    grad_o = grad_o_scale*grad_o\n",
    "    grad_o = mpo_tensor_raw_to_gradient(grad_o, w)\n",
    "\n",
    "    grad = (\n",
    "        unitarity_learning_rate*unitary_grad +\n",
    "        overlap_learning_rate*grad_o\n",
    "    )\n",
    "    adam_grad = adam_optimizers[0].update(grad)\n",
    "    grads.append(adam_grad)\n",
    "\n",
    "    # Create and save left tensors\n",
    "    t = npc.tensordot(w, w.conj(), [['p', 'p*'], ['p*', 'p']])\n",
    "    left_unitary_two_tensors.append(t)\n",
    "    \n",
    "    t = npc.tensordot(w, w.conj(), [['p',], ['p*',]])\n",
    "    t.ireplace_labels(['vR', 'vR*'], ['vR1', 'vR1*'])\n",
    "    t = npc.tensordot(t, w, [['p',], ['p*',]])\n",
    "    t = npc.tensordot(t, w.conj(), [['p', 'p*'], ['p*', 'p']])\n",
    "    \n",
    "    left_unitary_four_tensors.append(t)\n",
    "\n",
    "    t = npc.tensordot(b, w.conj(), [['p',], ['p*',]])\n",
    "    #print(t)\n",
    "    t.ireplace_label('vR*', 'vRm')\n",
    "    #print(t)\n",
    "    t = npc.tensordot(t, left_environment, [['vL',], ['vR',]])\n",
    "    #print(t)\n",
    "    t = npc.tensordot(t, b.conj(), [['vR*', 'p'], ['vL*', 'p*']])\n",
    "\n",
    "    #print(t)\n",
    "\n",
    "    left_overlap_tensors.append(t)\n",
    "\n",
    "    # Inner sites\n",
    "    for i in range(1, num_sites-1):\n",
    "        w = mpo_tensors[i]\n",
    "        b = b_tensors[i]\n",
    "    \n",
    "        right_two_tensor = right_unitary_two_tensors[i]\n",
    "        right_four_tensor = right_unitary_four_tensors[i]\n",
    "        right_overlap_tensor = right_overlap_tensors[i]\n",
    "\n",
    "        # Order two terms\n",
    "        left_two_tensor = left_unitary_two_tensors[-1]\n",
    "\n",
    "        grad_2 = npc.tensordot(right_two_tensor, w, [['vL'], ['vR',]])\n",
    "        grad_2 = npc.tensordot(grad_2, left_two_tensor, [['vL'], ['vR',]])\n",
    "\n",
    "        grad_2 = mpo_tensor_raw_to_gradient(grad_2, w)\n",
    "\n",
    "        # Order four terms\n",
    "        left_four_tensor = left_unitary_four_tensors[-1]\n",
    "\n",
    "        grad_4 = npc.tensordot(right_four_tensor, w, [['vL'], ['vR',]])\n",
    "        grad_4 = npc.tensordot(grad_4, w.conj(), [['vL*', 'p'], ['vR*', 'p*']])\n",
    "\n",
    "        grad_4 = npc.tensordot(\n",
    "            grad_4,\n",
    "            w.replace_label('vL', 'vL1'),\n",
    "            [['vL1', 'p'], ['vR', 'p*']]\n",
    "        )\n",
    "\n",
    "        grad_4 = npc.tensordot(\n",
    "            grad_4,\n",
    "            left_four_tensor,\n",
    "            [['vL', 'vL*', 'vL1'], ['vR', 'vR*', 'vR1']]\n",
    "        )\n",
    "\n",
    "        grad_4 = mpo_tensor_raw_to_gradient(grad_4, w)\n",
    "\n",
    "        unitary_grad = (grad_4 - grad_2)/np.sqrt(1+unitary_score)\n",
    "    \n",
    "        # Overlap terms\n",
    "        left_overlap_tensor = left_overlap_tensors[-1]\n",
    "\n",
    "        grad_o = npc.tensordot(right_overlap_tensor, b, [['vL',], ['vR',]])\n",
    "        grad_o = npc.tensordot(grad_o, b.conj(), [['vL*',], ['vR*',]])\n",
    "        grad_o = npc.tensordot(\n",
    "            grad_o,\n",
    "            left_overlap_tensor,\n",
    "            [['vL*', 'vL'], ['vR', 'vR*',]]\n",
    "        )\n",
    "\n",
    "        grad_o = grad_o_scale*grad_o\n",
    "        grad_o = mpo_tensor_raw_to_gradient(grad_o, w)\n",
    "\n",
    "        grad = (\n",
    "            unitarity_learning_rate*unitary_grad +\n",
    "            overlap_learning_rate*grad_o\n",
    "        )\n",
    "        adam_grad = adam_optimizers[i].update(grad)\n",
    "        grads.append(adam_grad)\n",
    "\n",
    "        # Update left tensors\n",
    "        t = npc.tensordot(left_two_tensor, w, [['vR',], ['vL']])\n",
    "        t = npc.tensordot(\n",
    "            t,\n",
    "            w.conj(),\n",
    "            [['vR*', 'p', 'p*'], ['vL*', 'p*', 'p']]\n",
    "        )\n",
    "        \n",
    "        left_unitary_two_tensors.append(t)\n",
    "        \n",
    "        t = npc.tensordot(left_four_tensor, w, [['vR',], ['vL']])\n",
    "        t = npc.tensordot(t, w.conj(), [['vR*', 'p'], ['vL*', 'p*']])\n",
    "        t = npc.tensordot(\n",
    "            t,\n",
    "            w.replace_label('vR', 'vR1'),\n",
    "            [['p', 'vR1'], ['p*', 'vL']]\n",
    "        )\n",
    "        t = npc.tensordot(\n",
    "            t,\n",
    "            w.conj().replace_label('vR*', 'vR1*'),\n",
    "            [['p', 'p*', 'vR1*'], ['p*', 'p', 'vL*']]\n",
    "        )\n",
    "        \n",
    "        left_unitary_four_tensors.append(t)\n",
    "\n",
    "        t = left_overlap_tensor.ireplace_label('vR*', 'vR1*')\n",
    "        t = npc.tensordot(\n",
    "            left_overlap_tensor,\n",
    "            w.conj(),\n",
    "            [['vRm',], ['vL*']]\n",
    "        )\n",
    "        t.ireplace_label('vR*', 'vRm')\n",
    "        t = npc.tensordot(t, b, [['vR', 'p*'], ['vL', 'p']])\n",
    "        t = npc.tensordot(t, b.conj(), [['vR1*', 'p'], ['vL*', 'p*']])\n",
    "\n",
    "        left_overlap_tensors.append(t)\n",
    "\n",
    "    # Last site\n",
    "    left_two_tensor = left_unitary_two_tensors[-1]\n",
    "    w = mpo_tensors[-1]\n",
    "    b = b_tensors[-1]\n",
    "    \n",
    "    grad_2 = npc.tensordot(left_two_tensor, w, [['vR'], ['vL',]])\n",
    "    grad_2 = mpo_tensor_raw_to_gradient(grad_2, w)\n",
    "\n",
    "    left_four_tensor = left_unitary_four_tensors[-1]\n",
    "    \n",
    "    grad_4 = npc.tensordot(left_four_tensor, w, [['vR'], ['vL',]])\n",
    "    grad_4 = npc.tensordot(grad_4, w.conj(), [['vR*', 'p'], ['vL*', 'p*']])\n",
    "    grad_4 = npc.tensordot(grad_4, w, [['vR1', 'p'], ['vL', 'p*']])\n",
    "\n",
    "    grad_4 = mpo_tensor_raw_to_gradient(grad_4, w)\n",
    "    \n",
    "    unitary_grad = (grad_4 - grad_2)/np.sqrt(1+unitary_score)\n",
    "\n",
    "    left_overlap_tensor = left_overlap_tensors[-1]\n",
    "    right_overlap_tensor = right_overlap_tensors[-1]\n",
    "\n",
    "    grad_o = npc.tensordot(right_overlap_tensor, b, [['vL',], ['vR',]])\n",
    "    grad_o = npc.tensordot(grad_o, b.conj(), [['vL*',], ['vR*',]])\n",
    "    grad_o = npc.tensordot(\n",
    "        grad_o,\n",
    "        left_overlap_tensor,\n",
    "        [['vL*', 'vL'], ['vR', 'vR*',]]\n",
    "    )\n",
    "\n",
    "    grad_o = grad_o_scale*grad_o\n",
    "    grad_o = mpo_tensor_raw_to_gradient(grad_o, w)\n",
    "\n",
    "    grad = (\n",
    "        unitarity_learning_rate*unitary_grad +\n",
    "        overlap_learning_rate*grad_o\n",
    "    )\n",
    "    adam_grad = adam_optimizers[-1].update(grad)\n",
    "    grads.append(adam_grad)\n",
    "\n",
    "    for i, g in enumerate(grads):\n",
    "        mpo_tensors[i] = mpo_tensors[i] - g\n",
    "\n",
    "    return (unitary_score, c_abs)"
   ]
  },
  {
   "cell_type": "code",
   "execution_count": 48,
   "id": "1a8b9251-44db-4ef2-80ad-db74402a94b4",
   "metadata": {},
   "outputs": [],
   "source": [
    "def unitarity_error_from_subscores(order_two_score, order_four_score, dimension):\n",
    "    return order_four_score - 2*order_two_score + dimension"
   ]
  },
  {
   "cell_type": "code",
   "execution_count": 49,
   "id": "b2ddc829-2e4b-4aa9-9711-b76244621c37",
   "metadata": {},
   "outputs": [],
   "source": [
    "def unitarity_errors_from_subscores(order_two_scores, order_four_scores,\n",
    "                                    dimension):\n",
    "    out = [\n",
    "        unitarity_error_from_subscores(o2, o4, dimension)\n",
    "        for o2, o4 in zip(order_two_scores, order_four_scores)\n",
    "    ]\n",
    "    \n",
    "    return out"
   ]
  },
  {
   "cell_type": "markdown",
   "id": "6609a3ee-0f68-4216-94ec-1ec4bfe0abb9",
   "metadata": {},
   "source": [
    "# Test"
   ]
  },
  {
   "cell_type": "markdown",
   "id": "4b3b03c6-c5ae-4bee-a25d-3b7f9000802a",
   "metadata": {},
   "source": [
    "## Solution test"
   ]
  },
  {
   "cell_type": "code",
   "execution_count": 73,
   "id": "876e8b31-6018-413b-b011-bc3466fb382b",
   "metadata": {},
   "outputs": [],
   "source": [
    "num_sites = 2"
   ]
  },
  {
   "cell_type": "code",
   "execution_count": 74,
   "id": "76012b45-c3f5-4801-b3ce-662b22675bef",
   "metadata": {},
   "outputs": [],
   "source": [
    "total_dimension = 2**num_sites"
   ]
  },
  {
   "cell_type": "code",
   "execution_count": 75,
   "id": "e4c93837-9549-4e63-9dea-0f71798a4bb7",
   "metadata": {},
   "outputs": [],
   "source": [
    "num_iterations = 500"
   ]
  },
  {
   "cell_type": "code",
   "execution_count": 76,
   "id": "3f5be5a0-08af-4dde-953e-c249af1948e2",
   "metadata": {},
   "outputs": [],
   "source": [
    "physical_dims = [2,]*num_sites\n",
    "virtual_dims = [(None, 1),] + [(1, None),]"
   ]
  },
  {
   "cell_type": "code",
   "execution_count": 77,
   "id": "fb5d7ca7-3ef3-4ba9-a089-61423c8bc13d",
   "metadata": {},
   "outputs": [],
   "source": [
    "X_1 = np.array([[[1,0],[0,-1]]])"
   ]
  },
  {
   "cell_type": "code",
   "execution_count": 78,
   "id": "1b8d5e56-dbd6-4658-9bfe-b6f3d8b3fae7",
   "metadata": {},
   "outputs": [
    {
     "data": {
      "text/plain": [
       "(1, 2, 2)"
      ]
     },
     "execution_count": 78,
     "metadata": {},
     "output_type": "execute_result"
    }
   ],
   "source": [
    "X_1.shape"
   ]
  },
  {
   "cell_type": "code",
   "execution_count": 79,
   "id": "8b6f85a7-7785-4bd2-abb2-abe17b134d33",
   "metadata": {},
   "outputs": [],
   "source": [
    "w_1 = npc.Array.from_ndarray_trivial(X_1, labels=['vR', 'p', 'p*'])"
   ]
  },
  {
   "cell_type": "code",
   "execution_count": 80,
   "id": "2f745c4b-751c-46c8-9641-e15038e62307",
   "metadata": {},
   "outputs": [],
   "source": [
    "w_2 = get_identity_w_tensor(2, left_virtual_dim=1)"
   ]
  },
  {
   "cell_type": "code",
   "execution_count": 81,
   "id": "d681ed4f-bb7b-4b64-b558-88b83ea8cb3a",
   "metadata": {},
   "outputs": [],
   "source": [
    "w_tensors = [w_1, w_2]"
   ]
  },
  {
   "cell_type": "code",
   "execution_count": 82,
   "id": "3592e6f4-42ce-48fe-bb68-b611c336122d",
   "metadata": {},
   "outputs": [
    {
     "data": {
      "text/plain": [
       "(4+0j)"
      ]
     },
     "execution_count": 82,
     "metadata": {},
     "output_type": "execute_result"
    }
   ],
   "source": [
    "mpo_frobenius_inner_product(w_tensors)"
   ]
  },
  {
   "cell_type": "code",
   "execution_count": 83,
   "id": "f1c7fc6d-a80c-4cf3-a900-8aeb72d01df3",
   "metadata": {},
   "outputs": [
    {
     "data": {
      "text/plain": [
       "4"
      ]
     },
     "execution_count": 83,
     "metadata": {},
     "output_type": "execute_result"
    }
   ],
   "source": [
    "total_dimension"
   ]
  },
  {
   "cell_type": "code",
   "execution_count": 84,
   "id": "43b8f798-42f2-4598-97e3-2fd78bc83084",
   "metadata": {},
   "outputs": [
    {
     "data": {
      "text/plain": [
       "[<npc.Array shape=(1, 2, 2) labels=['vR', 'p', 'p*']>,\n",
       " <npc.Array shape=(2, 2, 1) labels=['p', 'p*', 'vL']>]"
      ]
     },
     "execution_count": 84,
     "metadata": {},
     "output_type": "execute_result"
    }
   ],
   "source": [
    "w_tensors"
   ]
  },
  {
   "cell_type": "code",
   "execution_count": 85,
   "id": "557c79cf-61de-422d-aa59-ba730b8bfaf0",
   "metadata": {},
   "outputs": [],
   "source": [
    "b_tensors = [\n",
    "    test_case.psi.get_B(i)\n",
    "    for i in range(test_case.right_symmetry_index + 1, test_case.right_symmetry_index + 1 + num_sites)\n",
    "]"
   ]
  },
  {
   "cell_type": "code",
   "execution_count": 156,
   "id": "cab1f27e-c672-41e4-b824-a85499a1aac9",
   "metadata": {},
   "outputs": [
    {
     "data": {
      "text/plain": [
       "[<npc.Array shape=(2, 2, 2) labels=['vL', 'p', 'vR']>,\n",
       " <npc.Array shape=(2, 2, 2) labels=['vL', 'p', 'vR']>]"
      ]
     },
     "execution_count": 156,
     "metadata": {},
     "output_type": "execute_result"
    }
   ],
   "source": [
    "b_tensors"
   ]
  },
  {
   "cell_type": "code",
   "execution_count": 86,
   "id": "00c04222-14fc-4814-83f7-ebd43e490f22",
   "metadata": {},
   "outputs": [],
   "source": [
    "unitarity_learning_rate = 1\n",
    "overlap_learning_rate = 1"
   ]
  },
  {
   "cell_type": "code",
   "execution_count": 87,
   "id": "72186718-b3e9-4278-b65e-7b9742c3f446",
   "metadata": {},
   "outputs": [],
   "source": [
    "adam_params = (1e-3, 0.3, 0.3)"
   ]
  },
  {
   "cell_type": "code",
   "execution_count": 88,
   "id": "b0454895-79b1-4d3b-83db-0bb99524f2ba",
   "metadata": {},
   "outputs": [],
   "source": [
    "adam_optimizers = [\n",
    "    AdamTenpy(*adam_params) for _ in range(num_sites)\n",
    "]"
   ]
  },
  {
   "cell_type": "code",
   "execution_count": 89,
   "id": "1efab8c0-c8f5-4256-8706-4f74ac62c6c6",
   "metadata": {},
   "outputs": [],
   "source": [
    "unitarity_scores, overlap_scores = (list(), list())"
   ]
  },
  {
   "cell_type": "code",
   "execution_count": 90,
   "id": "0e708901-3f8c-4472-8e2d-9cbeb8cdd1eb",
   "metadata": {},
   "outputs": [],
   "source": [
    "for _ in range(num_iterations):\n",
    "    unitarity, overlap = mpo_gradient_descent_sweep(\n",
    "        w_tensors,\n",
    "        b_tensors,\n",
    "        unitarity_learning_rate,\n",
    "        overlap_learning_rate,\n",
    "        np.sqrt(2),\n",
    "        test_case.right_projected_symmetry_state,\n",
    "        adam_optimizers\n",
    "    )\n",
    "\n",
    "    unitarity_scores.append(unitarity)\n",
    "    overlap_scores.append(overlap)"
   ]
  },
  {
   "cell_type": "code",
   "execution_count": 92,
   "id": "d1cf0a7e-96b3-441e-b5d6-c7c2d91c393b",
   "metadata": {},
   "outputs": [],
   "source": [
    "unitary_scores_array = np.array(unitarity_scores)"
   ]
  },
  {
   "cell_type": "code",
   "execution_count": 93,
   "id": "ad3713d1-cd04-4f01-bff7-8f4fbc120e89",
   "metadata": {},
   "outputs": [
    {
     "name": "stderr",
     "output_type": "stream",
     "text": [
      "/Users/kierancooney/.pyenv/versions/num_spt_venv_p11/lib/python3.11/site-packages/matplotlib/cbook.py:1699: ComplexWarning: Casting complex values to real discards the imaginary part\n",
      "  return math.isfinite(val)\n",
      "/Users/kierancooney/.pyenv/versions/num_spt_venv_p11/lib/python3.11/site-packages/matplotlib/cbook.py:1345: ComplexWarning: Casting complex values to real discards the imaginary part\n",
      "  return np.asarray(x, float)\n"
     ]
    },
    {
     "data": {
      "text/plain": [
       "[<matplotlib.lines.Line2D at 0x1680c36d0>]"
      ]
     },
     "execution_count": 93,
     "metadata": {},
     "output_type": "execute_result"
    },
    {
     "data": {
      "image/png": "[encoded data removed]",
      "text/plain": [
       "<Figure size 640x480 with 1 Axes>"
      ]
     },
     "metadata": {},
     "output_type": "display_data"
    }
   ],
   "source": [
    "plt.plot(unitary_scores_array.flatten())"
   ]
  },
  {
   "cell_type": "code",
   "execution_count": 94,
   "id": "44c0f3a4-fc20-4799-8b0d-8509a61efa07",
   "metadata": {},
   "outputs": [
    {
     "data": {
      "text/plain": [
       "(3.055746130797843e-06-3.0742387724329604e-21j)"
      ]
     },
     "execution_count": 94,
     "metadata": {},
     "output_type": "execute_result"
    }
   ],
   "source": [
    "unitary_scores_array[-1]"
   ]
  },
  {
   "cell_type": "code",
   "execution_count": 95,
   "id": "fa5bfc43-29c6-4bed-a368-42df0eb7150a",
   "metadata": {},
   "outputs": [],
   "source": [
    "overlap_scores_array = np.array(overlap_scores)"
   ]
  },
  {
   "cell_type": "code",
   "execution_count": 96,
   "id": "dec385b7-1fba-4ac3-8dd0-f5b90d818e1b",
   "metadata": {},
   "outputs": [
    {
     "data": {
      "text/plain": [
       "[<matplotlib.lines.Line2D at 0x16b01b6d0>]"
      ]
     },
     "execution_count": 96,
     "metadata": {},
     "output_type": "execute_result"
    },
    {
     "data": {
      "image/png": "[encoded data removed]",
      "text/plain": [
       "<Figure size 640x480 with 1 Axes>"
      ]
     },
     "metadata": {},
     "output_type": "display_data"
    }
   ],
   "source": [
    "plt.plot(overlap_scores_array.flatten())"
   ]
  },
  {
   "cell_type": "code",
   "execution_count": 99,
   "id": "4532bafd-ec26-4c32-b212-97be2f511eb4",
   "metadata": {},
   "outputs": [
    {
     "data": {
      "text/plain": [
       "1.4137899217379883"
      ]
     },
     "execution_count": 99,
     "metadata": {},
     "output_type": "execute_result"
    }
   ],
   "source": [
    "overlap_scores_array[-1]"
   ]
  },
  {
   "cell_type": "markdown",
   "id": "e1d61a5f-a668-4ed0-ae44-66ef85b6b16f",
   "metadata": {},
   "source": [
    "Hyperparamters look off, but otherwise good!"
   ]
  },
  {
   "cell_type": "markdown",
   "id": "d2464585-3606-44e8-b990-6d422116852b",
   "metadata": {},
   "source": [
    "## Perturbed Solution test"
   ]
  },
  {
   "cell_type": "code",
   "execution_count": 100,
   "id": "22d17949-fea4-4ae8-9403-332f76da94be",
   "metadata": {},
   "outputs": [],
   "source": [
    "num_sites = 2"
   ]
  },
  {
   "cell_type": "code",
   "execution_count": 101,
   "id": "d5a133d3-d0c3-4a97-b323-b582d5824443",
   "metadata": {},
   "outputs": [],
   "source": [
    "total_dimension = 2**num_sites"
   ]
  },
  {
   "cell_type": "code",
   "execution_count": 102,
   "id": "eb156303-9954-47f3-a9b2-6daf81615108",
   "metadata": {},
   "outputs": [],
   "source": [
    "num_iterations = 500"
   ]
  },
  {
   "cell_type": "code",
   "execution_count": 103,
   "id": "c20b5ed2-6dc0-460f-a0e6-51fda60f5bee",
   "metadata": {},
   "outputs": [],
   "source": [
    "physical_dims = [2,]*num_sites\n",
    "virtual_dims = [(None, 1),] + [(1, None),]"
   ]
  },
  {
   "cell_type": "code",
   "execution_count": 104,
   "id": "e25add23-6af0-4715-a40d-01fc2d421c38",
   "metadata": {},
   "outputs": [],
   "source": [
    "X_1 = np.array([[[1,],[0,]],[[0,],[-1,]]])"
   ]
  },
  {
   "cell_type": "code",
   "execution_count": 105,
   "id": "353ab318-313f-4d42-b5df-fcc35d9f06d8",
   "metadata": {},
   "outputs": [
    {
     "data": {
      "text/plain": [
       "(2, 2, 1)"
      ]
     },
     "execution_count": 105,
     "metadata": {},
     "output_type": "execute_result"
    }
   ],
   "source": [
    "X_1.shape"
   ]
  },
  {
   "cell_type": "code",
   "execution_count": 106,
   "id": "f5900895-204f-4d58-8106-88959b5720ab",
   "metadata": {},
   "outputs": [],
   "source": [
    "w_1 = npc.Array.from_ndarray_trivial(X_1, labels=['p', 'p*', 'vR'])"
   ]
  },
  {
   "cell_type": "code",
   "execution_count": 107,
   "id": "32545e36-7f34-403a-91c5-ffcf0e8c6e93",
   "metadata": {},
   "outputs": [],
   "source": [
    "w_2 = get_identity_w_tensor(2, left_virtual_dim=1)"
   ]
  },
  {
   "cell_type": "code",
   "execution_count": 108,
   "id": "14dd9e5c-b872-4b93-9f81-8e6b676f01fc",
   "metadata": {},
   "outputs": [],
   "source": [
    "sol_w_tensors = [w_1, w_2]"
   ]
  },
  {
   "cell_type": "code",
   "execution_count": 109,
   "id": "72771388-bb5e-4396-bc2e-7a861b380ff6",
   "metadata": {},
   "outputs": [],
   "source": [
    "perturbations = get_random_mpo_tensors(physical_dims, virtual_dims)"
   ]
  },
  {
   "cell_type": "code",
   "execution_count": 110,
   "id": "827aa542-142d-4756-9c98-e9625bb6949e",
   "metadata": {},
   "outputs": [
    {
     "data": {
      "text/plain": [
       "<npc.Array shape=(2, 2, 1) labels=['p', 'p*', 'vR']>"
      ]
     },
     "execution_count": 110,
     "metadata": {},
     "output_type": "execute_result"
    }
   ],
   "source": [
    "w_1"
   ]
  },
  {
   "cell_type": "code",
   "execution_count": 111,
   "id": "6ff88890-8725-4ed0-8e6e-c4326f30c2a0",
   "metadata": {},
   "outputs": [
    {
     "data": {
      "text/plain": [
       "<npc.Array shape=(2, 2, 1) labels=['p', 'p*', 'vL']>"
      ]
     },
     "execution_count": 111,
     "metadata": {},
     "output_type": "execute_result"
    }
   ],
   "source": [
    "w_2"
   ]
  },
  {
   "cell_type": "code",
   "execution_count": 112,
   "id": "6efa48f6-ed15-4180-bd10-7d5ba4808a59",
   "metadata": {},
   "outputs": [
    {
     "data": {
      "text/plain": [
       "[<npc.Array shape=(2, 2, 1) labels=['p', 'p*', 'vR']>,\n",
       " <npc.Array shape=(2, 2, 1) labels=['p', 'p*', 'vL']>]"
      ]
     },
     "execution_count": 112,
     "metadata": {},
     "output_type": "execute_result"
    }
   ],
   "source": [
    "perturbations"
   ]
  },
  {
   "cell_type": "code",
   "execution_count": 113,
   "id": "8a5f94e6-8d5b-4d93-b56c-4c3896f44dd2",
   "metadata": {},
   "outputs": [],
   "source": [
    "w_tensors = [\n",
    "    w1 + 0.05*w2\n",
    "    for w1, w2 in zip(sol_w_tensors, perturbations)\n",
    "]"
   ]
  },
  {
   "cell_type": "code",
   "execution_count": 114,
   "id": "b1cb9145-57d1-42cc-b2ce-80b6e44a45fa",
   "metadata": {},
   "outputs": [
    {
     "data": {
      "text/plain": [
       "(4.834322980845772-5.763757929884581e-18j)"
      ]
     },
     "execution_count": 114,
     "metadata": {},
     "output_type": "execute_result"
    }
   ],
   "source": [
    "mpo_frobenius_inner_product(w_tensors)"
   ]
  },
  {
   "cell_type": "code",
   "execution_count": 115,
   "id": "9d545f05-cf48-476a-a0f7-9392f42514aa",
   "metadata": {},
   "outputs": [
    {
     "data": {
      "text/plain": [
       "4"
      ]
     },
     "execution_count": 115,
     "metadata": {},
     "output_type": "execute_result"
    }
   ],
   "source": [
    "total_dimension"
   ]
  },
  {
   "cell_type": "code",
   "execution_count": 116,
   "id": "f68aa459-71ac-4208-bdde-ba08a25e87b7",
   "metadata": {},
   "outputs": [
    {
     "data": {
      "text/plain": [
       "[<npc.Array shape=(2, 2, 1) labels=['p', 'p*', 'vR']>,\n",
       " <npc.Array shape=(2, 2, 1) labels=['p', 'p*', 'vL']>]"
      ]
     },
     "execution_count": 116,
     "metadata": {},
     "output_type": "execute_result"
    }
   ],
   "source": [
    "w_tensors"
   ]
  },
  {
   "cell_type": "code",
   "execution_count": 117,
   "id": "47960e6d-f553-4e8c-bfce-4b6519d736ae",
   "metadata": {},
   "outputs": [],
   "source": [
    "b_tensors = [\n",
    "    test_case.psi.get_B(i)\n",
    "    for i in range(test_case.right_symmetry_index + 1, test_case.right_symmetry_index + 1 + num_sites)\n",
    "]"
   ]
  },
  {
   "cell_type": "code",
   "execution_count": 118,
   "id": "3b573025-9269-492b-9bcb-693047feff74",
   "metadata": {},
   "outputs": [
    {
     "data": {
      "text/plain": [
       "[<npc.Array shape=(2, 2, 2) labels=['vL', 'p', 'vR']>,\n",
       " <npc.Array shape=(2, 2, 2) labels=['vL', 'p', 'vR']>]"
      ]
     },
     "execution_count": 118,
     "metadata": {},
     "output_type": "execute_result"
    }
   ],
   "source": [
    "b_tensors"
   ]
  },
  {
   "cell_type": "code",
   "execution_count": 119,
   "id": "c09e1bf9-f7b3-4718-aa2a-65589bcdad57",
   "metadata": {},
   "outputs": [],
   "source": [
    "unitarity_learning_rate = 1\n",
    "overlap_learning_rate = 1"
   ]
  },
  {
   "cell_type": "code",
   "execution_count": 120,
   "id": "ed3a7788-4828-4ed5-90d3-e24f5bdc587c",
   "metadata": {},
   "outputs": [],
   "source": [
    "adam_params = (1e-3, 0.3, 0.3)"
   ]
  },
  {
   "cell_type": "code",
   "execution_count": 121,
   "id": "33c16e31-c1da-402e-b10b-5a522782901a",
   "metadata": {},
   "outputs": [],
   "source": [
    "adam_optimizers = [\n",
    "    AdamTenpy(*adam_params) for _ in range(num_sites)\n",
    "]"
   ]
  },
  {
   "cell_type": "code",
   "execution_count": 122,
   "id": "22f233df-d946-4d32-8082-94f0ce776593",
   "metadata": {},
   "outputs": [],
   "source": [
    "unitarity_scores, overlap_scores = (list(), list())"
   ]
  },
  {
   "cell_type": "code",
   "execution_count": 123,
   "id": "bbbf206e-7331-4530-83f6-9e40b4cf0a78",
   "metadata": {},
   "outputs": [],
   "source": [
    "for _ in range(num_iterations):\n",
    "    unitarity, overlap = mpo_gradient_descent_sweep(\n",
    "        w_tensors,\n",
    "        b_tensors,\n",
    "        unitarity_learning_rate,\n",
    "        overlap_learning_rate,\n",
    "        np.sqrt(2),\n",
    "        test_case.right_projected_symmetry_state,\n",
    "        adam_optimizers\n",
    "    )\n",
    "\n",
    "    unitarity_scores.append(unitarity)\n",
    "    overlap_scores.append(overlap)"
   ]
  },
  {
   "cell_type": "code",
   "execution_count": 124,
   "id": "7c1fdca1-e2a9-42cd-aa91-1c4cc4d61a56",
   "metadata": {},
   "outputs": [],
   "source": [
    "unitary_scores_array = np.array(unitarity_scores)"
   ]
  },
  {
   "cell_type": "code",
   "execution_count": 125,
   "id": "1d451850-5164-4aa2-8367-a2a862aacb92",
   "metadata": {},
   "outputs": [
    {
     "data": {
      "text/plain": [
       "[<matplotlib.lines.Line2D at 0x10844c650>]"
      ]
     },
     "execution_count": 125,
     "metadata": {},
     "output_type": "execute_result"
    },
    {
     "data": {
      "image/png": "[encoded data removed]",
      "text/plain": [
       "<Figure size 640x480 with 1 Axes>"
      ]
     },
     "metadata": {},
     "output_type": "display_data"
    }
   ],
   "source": [
    "plt.plot(unitary_scores_array.flatten())"
   ]
  },
  {
   "cell_type": "code",
   "execution_count": 126,
   "id": "73bf4e15-2d9d-4c1c-8686-4001e8e7b022",
   "metadata": {},
   "outputs": [
    {
     "data": {
      "text/plain": [
       "(1.3126172193622665e-06-5.436156399040129e-18j)"
      ]
     },
     "execution_count": 126,
     "metadata": {},
     "output_type": "execute_result"
    }
   ],
   "source": [
    "unitary_scores_array[-1]"
   ]
  },
  {
   "cell_type": "code",
   "execution_count": 127,
   "id": "3852a8f0-0ede-4272-a614-f3b6280b48be",
   "metadata": {},
   "outputs": [],
   "source": [
    "overlap_scores_array = np.array(overlap_scores)"
   ]
  },
  {
   "cell_type": "code",
   "execution_count": 128,
   "id": "9574d9fc-d71e-404d-845a-ae346c6999e9",
   "metadata": {},
   "outputs": [
    {
     "data": {
      "text/plain": [
       "[<matplotlib.lines.Line2D at 0x16affce90>]"
      ]
     },
     "execution_count": 128,
     "metadata": {},
     "output_type": "execute_result"
    },
    {
     "data": {
      "image/png": "[encoded data removed]",
      "text/plain": [
       "<Figure size 640x480 with 1 Axes>"
      ]
     },
     "metadata": {},
     "output_type": "display_data"
    }
   ],
   "source": [
    "plt.plot(overlap_scores_array.flatten())"
   ]
  },
  {
   "cell_type": "code",
   "execution_count": 129,
   "id": "4e2c558c-e8a4-44dc-a3bf-2a74de2e2bcb",
   "metadata": {},
   "outputs": [
    {
     "data": {
      "text/plain": [
       "1.4132328146589352"
      ]
     },
     "execution_count": 129,
     "metadata": {},
     "output_type": "execute_result"
    }
   ],
   "source": [
    "overlap_scores_array[-1]"
   ]
  },
  {
   "cell_type": "markdown",
   "id": "0b87ca94-cd0a-4fdd-8729-a35469f831ef",
   "metadata": {},
   "source": [
    "Looks good!"
   ]
  },
  {
   "cell_type": "markdown",
   "id": "0928e36d-6df5-4d1b-ad84-e00f3b5eb695",
   "metadata": {},
   "source": [
    "## Perturbed Solution test, more sites and bond dimensions"
   ]
  },
  {
   "cell_type": "code",
   "execution_count": 130,
   "id": "d79fa4e7-e555-42c4-9581-f447352c4e71",
   "metadata": {},
   "outputs": [],
   "source": [
    "num_sites = 5"
   ]
  },
  {
   "cell_type": "code",
   "execution_count": 131,
   "id": "56cc5660-a27c-448f-9e64-849c155e05ec",
   "metadata": {},
   "outputs": [],
   "source": [
    "total_dimension = 2**num_sites"
   ]
  },
  {
   "cell_type": "code",
   "execution_count": 132,
   "id": "4d76c678-02ff-449d-981e-58dafb6f8ebc",
   "metadata": {},
   "outputs": [],
   "source": [
    "num_iterations = 500"
   ]
  },
  {
   "cell_type": "code",
   "execution_count": 133,
   "id": "c07be640-6ba3-4ebc-9b05-75801367a4e0",
   "metadata": {},
   "outputs": [],
   "source": [
    "bond_dimension=4"
   ]
  },
  {
   "cell_type": "code",
   "execution_count": 134,
   "id": "57bf15d5-8768-4656-a21f-83dbbe85942b",
   "metadata": {},
   "outputs": [],
   "source": [
    "physical_dims = [2,]*num_sites\n",
    "virtual_dims = [(None, 4),] + [(4,4)]*(num_sites - 2) + [(4, None),]"
   ]
  },
  {
   "cell_type": "code",
   "execution_count": 135,
   "id": "b88a5541-453c-4c3b-a3f0-d0d5c50a22f9",
   "metadata": {},
   "outputs": [],
   "source": [
    "X_1 = np.zeros((2, 2, bond_dimension))\n",
    "X_1[...,0] = np.array([[1, 0],[0, -1]])"
   ]
  },
  {
   "cell_type": "code",
   "execution_count": 136,
   "id": "2a0a6f70-67f2-4322-9bc0-75872d96362c",
   "metadata": {},
   "outputs": [
    {
     "data": {
      "text/plain": [
       "(2, 2, 4)"
      ]
     },
     "execution_count": 136,
     "metadata": {},
     "output_type": "execute_result"
    }
   ],
   "source": [
    "X_1.shape"
   ]
  },
  {
   "cell_type": "code",
   "execution_count": 137,
   "id": "07a2be20-35cb-44b6-aeec-fd85991962e2",
   "metadata": {},
   "outputs": [],
   "source": [
    "sol_w_tensors = [npc.Array.from_ndarray_trivial(X_1, labels=['p', 'p*', 'vR']),]"
   ]
  },
  {
   "cell_type": "code",
   "execution_count": 138,
   "id": "aeb39715-84a1-4957-a5be-156db897f8f3",
   "metadata": {},
   "outputs": [],
   "source": [
    "for pair in virtual_dims[1:]:\n",
    "    sol_w_tensors.append(get_identity_w_tensor(2, *pair))"
   ]
  },
  {
   "cell_type": "code",
   "execution_count": 139,
   "id": "bef2ecd1-cc42-4f54-9786-8f6bcc321fd6",
   "metadata": {},
   "outputs": [
    {
     "data": {
      "text/plain": [
       "[<npc.Array shape=(2, 2, 4) labels=['p', 'p*', 'vR']>,\n",
       " <npc.Array shape=(2, 2, 4, 4) labels=['p', 'p*', 'vL', 'vR']>,\n",
       " <npc.Array shape=(2, 2, 4, 4) labels=['p', 'p*', 'vL', 'vR']>,\n",
       " <npc.Array shape=(2, 2, 4, 4) labels=['p', 'p*', 'vL', 'vR']>,\n",
       " <npc.Array shape=(2, 2, 4) labels=['p', 'p*', 'vL']>]"
      ]
     },
     "execution_count": 139,
     "metadata": {},
     "output_type": "execute_result"
    }
   ],
   "source": [
    "sol_w_tensors"
   ]
  },
  {
   "cell_type": "code",
   "execution_count": 140,
   "id": "ad2f0798-84a6-4425-bb40-5f48a4011ef7",
   "metadata": {},
   "outputs": [],
   "source": [
    "perturbations = get_random_mpo_tensors(physical_dims, virtual_dims)"
   ]
  },
  {
   "cell_type": "code",
   "execution_count": 141,
   "id": "369a6cdb-01d5-4bec-ad29-c45bf3d94ffd",
   "metadata": {},
   "outputs": [
    {
     "data": {
      "text/plain": [
       "[<npc.Array shape=(2, 2, 4) labels=['p', 'p*', 'vR']>,\n",
       " <npc.Array shape=(2, 2, 4, 4) labels=['p', 'p*', 'vL', 'vR']>,\n",
       " <npc.Array shape=(2, 2, 4, 4) labels=['p', 'p*', 'vL', 'vR']>,\n",
       " <npc.Array shape=(2, 2, 4, 4) labels=['p', 'p*', 'vL', 'vR']>,\n",
       " <npc.Array shape=(2, 2, 4) labels=['p', 'p*', 'vL']>]"
      ]
     },
     "execution_count": 141,
     "metadata": {},
     "output_type": "execute_result"
    }
   ],
   "source": [
    "perturbations"
   ]
  },
  {
   "cell_type": "code",
   "execution_count": 142,
   "id": "0b4cd7b4-1c87-499e-9e1c-47a88a837cc7",
   "metadata": {},
   "outputs": [],
   "source": [
    "w_tensors = [\n",
    "    w1 + 0.05*w2\n",
    "    for w1, w2 in zip(sol_w_tensors, perturbations)\n",
    "]"
   ]
  },
  {
   "cell_type": "code",
   "execution_count": 143,
   "id": "7b3dc256-d1d0-4204-bd74-373ae595d908",
   "metadata": {},
   "outputs": [
    {
     "data": {
      "text/plain": [
       "(39.25935650433382-1.1102230246251565e-15j)"
      ]
     },
     "execution_count": 143,
     "metadata": {},
     "output_type": "execute_result"
    }
   ],
   "source": [
    "mpo_frobenius_inner_product(w_tensors)"
   ]
  },
  {
   "cell_type": "code",
   "execution_count": 144,
   "id": "eb3651c0-4277-4e36-aae9-83b0e66479e6",
   "metadata": {},
   "outputs": [
    {
     "data": {
      "text/plain": [
       "32"
      ]
     },
     "execution_count": 144,
     "metadata": {},
     "output_type": "execute_result"
    }
   ],
   "source": [
    "total_dimension"
   ]
  },
  {
   "cell_type": "code",
   "execution_count": 145,
   "id": "8ab2ec48-dd7a-41df-89c1-1ea07150ac67",
   "metadata": {},
   "outputs": [
    {
     "data": {
      "text/plain": [
       "[<npc.Array shape=(2, 2, 4) labels=['p', 'p*', 'vR']>,\n",
       " <npc.Array shape=(2, 2, 4, 4) labels=['p', 'p*', 'vL', 'vR']>,\n",
       " <npc.Array shape=(2, 2, 4, 4) labels=['p', 'p*', 'vL', 'vR']>,\n",
       " <npc.Array shape=(2, 2, 4, 4) labels=['p', 'p*', 'vL', 'vR']>,\n",
       " <npc.Array shape=(2, 2, 4) labels=['p', 'p*', 'vL']>]"
      ]
     },
     "execution_count": 145,
     "metadata": {},
     "output_type": "execute_result"
    }
   ],
   "source": [
    "w_tensors"
   ]
  },
  {
   "cell_type": "code",
   "execution_count": 146,
   "id": "326ca68f-ecfe-4786-9f68-6e6caff6aa4a",
   "metadata": {},
   "outputs": [],
   "source": [
    "b_tensors = [\n",
    "    test_case.psi.get_B(i)\n",
    "    for i in range(test_case.right_symmetry_index + 1, test_case.right_symmetry_index + 1 + num_sites)\n",
    "]"
   ]
  },
  {
   "cell_type": "code",
   "execution_count": 147,
   "id": "9ec4ba6e-25d8-47ea-ab35-ec1e31bd3cdf",
   "metadata": {},
   "outputs": [
    {
     "data": {
      "text/plain": [
       "[<npc.Array shape=(2, 2, 2) labels=['vL', 'p', 'vR']>,\n",
       " <npc.Array shape=(2, 2, 2) labels=['vL', 'p', 'vR']>,\n",
       " <npc.Array shape=(2, 2, 2) labels=['vL', 'p', 'vR']>,\n",
       " <npc.Array shape=(2, 2, 2) labels=['vL', 'p', 'vR']>,\n",
       " <npc.Array shape=(2, 2, 2) labels=['vL', 'p', 'vR']>]"
      ]
     },
     "execution_count": 147,
     "metadata": {},
     "output_type": "execute_result"
    }
   ],
   "source": [
    "b_tensors"
   ]
  },
  {
   "cell_type": "code",
   "execution_count": 148,
   "id": "42432ae4-8fa3-467b-b0df-ed27989f0797",
   "metadata": {},
   "outputs": [],
   "source": [
    "unitarity_learning_rate = 1\n",
    "overlap_learning_rate = 1"
   ]
  },
  {
   "cell_type": "code",
   "execution_count": 149,
   "id": "bc64b9c7-4314-4498-b6b6-316965721af2",
   "metadata": {},
   "outputs": [],
   "source": [
    "adam_params = (1e-3, 0.3, 0.3)"
   ]
  },
  {
   "cell_type": "code",
   "execution_count": 150,
   "id": "78f1ad52-435c-474d-965e-2c5c9e5c6468",
   "metadata": {},
   "outputs": [],
   "source": [
    "adam_optimizers = [\n",
    "    AdamTenpy(*adam_params) for _ in range(num_sites)\n",
    "]"
   ]
  },
  {
   "cell_type": "code",
   "execution_count": 151,
   "id": "4645c87e-1396-4178-9946-c0560f4ca0e2",
   "metadata": {},
   "outputs": [],
   "source": [
    "unitarity_scores, overlap_scores = (list(), list())"
   ]
  },
  {
   "cell_type": "code",
   "execution_count": 152,
   "id": "12c3677c-0eea-4de4-a8d0-cd4647a396de",
   "metadata": {},
   "outputs": [],
   "source": [
    "for _ in range(num_iterations):\n",
    "    unitarity, overlap = mpo_gradient_descent_sweep(\n",
    "        w_tensors,\n",
    "        b_tensors,\n",
    "        unitarity_learning_rate,\n",
    "        overlap_learning_rate,\n",
    "        np.sqrt(2),\n",
    "        test_case.right_projected_symmetry_state,\n",
    "        adam_optimizers\n",
    "    )\n",
    "\n",
    "    unitarity_scores.append(unitarity)\n",
    "    overlap_scores.append(overlap)"
   ]
  },
  {
   "cell_type": "code",
   "execution_count": 153,
   "id": "8bf99744-0e93-4b49-96b2-1024f576ff1c",
   "metadata": {},
   "outputs": [],
   "source": [
    "unitary_scores_array = np.array(unitarity_scores)"
   ]
  },
  {
   "cell_type": "code",
   "execution_count": 154,
   "id": "29fdfc96-ac2f-4acb-be4d-e3d09c7108d4",
   "metadata": {},
   "outputs": [
    {
     "data": {
      "text/plain": [
       "[<matplotlib.lines.Line2D at 0x1684fc8d0>]"
      ]
     },
     "execution_count": 154,
     "metadata": {},
     "output_type": "execute_result"
    },
    {
     "data": {
      "image/png": "[encoded data removed]",
      "text/plain": [
       "<Figure size 640x480 with 1 Axes>"
      ]
     },
     "metadata": {},
     "output_type": "display_data"
    }
   ],
   "source": [
    "plt.plot(unitary_scores_array.flatten())"
   ]
  },
  {
   "cell_type": "code",
   "execution_count": 155,
   "id": "d6dcb49d-6311-4755-9039-be642beb202c",
   "metadata": {},
   "outputs": [
    {
     "data": {
      "text/plain": [
       "(0.001190392833944287-1.3322676295501878e-15j)"
      ]
     },
     "execution_count": 155,
     "metadata": {},
     "output_type": "execute_result"
    }
   ],
   "source": [
    "unitary_scores_array[-1]"
   ]
  },
  {
   "cell_type": "code",
   "execution_count": 156,
   "id": "9dbd19dd-f784-44a4-a9cf-1d89f5f2a35d",
   "metadata": {},
   "outputs": [],
   "source": [
    "overlap_scores_array = np.array(overlap_scores)"
   ]
  },
  {
   "cell_type": "code",
   "execution_count": 157,
   "id": "3ecf5c2b-3ccb-4081-aa83-f9ff14af6d1d",
   "metadata": {},
   "outputs": [
    {
     "data": {
      "text/plain": [
       "[<matplotlib.lines.Line2D at 0x1085c44d0>]"
      ]
     },
     "execution_count": 157,
     "metadata": {},
     "output_type": "execute_result"
    },
    {
     "data": {
      "image/png": "[encoded data removed]",
      "text/plain": [
       "<Figure size 640x480 with 1 Axes>"
      ]
     },
     "metadata": {},
     "output_type": "display_data"
    }
   ],
   "source": [
    "plt.plot(overlap_scores_array.flatten())"
   ]
  },
  {
   "cell_type": "code",
   "execution_count": 158,
   "id": "acf81d51-511e-44a8-bcb0-73730f2fbaac",
   "metadata": {},
   "outputs": [
    {
     "data": {
      "text/plain": [
       "1.402756856450371"
      ]
     },
     "execution_count": 158,
     "metadata": {},
     "output_type": "execute_result"
    }
   ],
   "source": [
    "overlap_scores_array[-1]"
   ]
  },
  {
   "cell_type": "markdown",
   "id": "b65c2dbe-9267-4483-a5a4-93ca96865803",
   "metadata": {},
   "source": [
    "Still looks good!"
   ]
  },
  {
   "cell_type": "markdown",
   "id": "f9b32ebb-7005-4bb5-991a-f9c9c127c518",
   "metadata": {},
   "source": [
    "## Perturbed Solution test, more sites and bond dimensions, larger perturbation"
   ]
  },
  {
   "cell_type": "code",
   "execution_count": 185,
   "id": "06bf11a5-1866-45c6-a2d2-6c8d0be5c1f5",
   "metadata": {},
   "outputs": [],
   "source": [
    "num_sites = 5"
   ]
  },
  {
   "cell_type": "code",
   "execution_count": 186,
   "id": "1fb38d70-3d3a-4aeb-b157-3004617a8c5a",
   "metadata": {},
   "outputs": [],
   "source": [
    "total_dimension = 2**num_sites"
   ]
  },
  {
   "cell_type": "code",
   "execution_count": 187,
   "id": "3aad63e5-6293-4459-aa1f-7ce00497a9a9",
   "metadata": {},
   "outputs": [],
   "source": [
    "num_iterations = 500"
   ]
  },
  {
   "cell_type": "code",
   "execution_count": 188,
   "id": "2da5ffd4-2396-4a50-9c7b-69d34438a528",
   "metadata": {},
   "outputs": [],
   "source": [
    "bond_dimension=4"
   ]
  },
  {
   "cell_type": "code",
   "execution_count": 189,
   "id": "e0b0a1fd-495e-43f3-b3f4-8cebf263c159",
   "metadata": {},
   "outputs": [],
   "source": [
    "physical_dims = [2,]*num_sites\n",
    "virtual_dims = [(None, 4),] + [(4,4)]*(num_sites - 2) + [(4, None),]"
   ]
  },
  {
   "cell_type": "code",
   "execution_count": 190,
   "id": "9c68e947-e5e9-4631-8263-31c592e7673e",
   "metadata": {},
   "outputs": [],
   "source": [
    "X_1 = np.zeros((2, 2, bond_dimension))\n",
    "X_1[...,0] = np.array([[1, 0],[0, -1]])"
   ]
  },
  {
   "cell_type": "code",
   "execution_count": 191,
   "id": "79c78724-2966-4122-8a90-e3c65ed38df7",
   "metadata": {},
   "outputs": [
    {
     "data": {
      "text/plain": [
       "(2, 2, 4)"
      ]
     },
     "execution_count": 191,
     "metadata": {},
     "output_type": "execute_result"
    }
   ],
   "source": [
    "X_1.shape"
   ]
  },
  {
   "cell_type": "code",
   "execution_count": 192,
   "id": "72f393b3-9972-4190-9ba5-82a5444de143",
   "metadata": {},
   "outputs": [],
   "source": [
    "sol_w_tensors = [npc.Array.from_ndarray_trivial(X_1, labels=['p', 'p*', 'vR']),]"
   ]
  },
  {
   "cell_type": "code",
   "execution_count": 193,
   "id": "978389e1-6c3a-4ead-bc9c-3152b97188ef",
   "metadata": {},
   "outputs": [],
   "source": [
    "for pair in virtual_dims[1:]:\n",
    "    sol_w_tensors.append(get_identity_w_tensor(2, *pair))"
   ]
  },
  {
   "cell_type": "code",
   "execution_count": 194,
   "id": "6e0b1c40-29af-4eaa-9b3a-b0fd3c15c858",
   "metadata": {},
   "outputs": [
    {
     "data": {
      "text/plain": [
       "[<npc.Array shape=(2, 2, 4) labels=['p', 'p*', 'vR']>,\n",
       " <npc.Array shape=(2, 2, 4, 4) labels=['p', 'p*', 'vL', 'vR']>,\n",
       " <npc.Array shape=(2, 2, 4, 4) labels=['p', 'p*', 'vL', 'vR']>,\n",
       " <npc.Array shape=(2, 2, 4, 4) labels=['p', 'p*', 'vL', 'vR']>,\n",
       " <npc.Array shape=(2, 2, 4) labels=['p', 'p*', 'vL']>]"
      ]
     },
     "execution_count": 194,
     "metadata": {},
     "output_type": "execute_result"
    }
   ],
   "source": [
    "sol_w_tensors"
   ]
  },
  {
   "cell_type": "code",
   "execution_count": 195,
   "id": "5efb22e4-c2c8-42bd-bd11-d1c6c252cf12",
   "metadata": {},
   "outputs": [],
   "source": [
    "perturbations = get_random_mpo_tensors(physical_dims, virtual_dims)"
   ]
  },
  {
   "cell_type": "code",
   "execution_count": 196,
   "id": "81e74db9-d770-4a95-b1b5-9a7e9a5c6186",
   "metadata": {},
   "outputs": [
    {
     "data": {
      "text/plain": [
       "[<npc.Array shape=(2, 2, 4) labels=['p', 'p*', 'vR']>,\n",
       " <npc.Array shape=(2, 2, 4, 4) labels=['p', 'p*', 'vL', 'vR']>,\n",
       " <npc.Array shape=(2, 2, 4, 4) labels=['p', 'p*', 'vL', 'vR']>,\n",
       " <npc.Array shape=(2, 2, 4, 4) labels=['p', 'p*', 'vL', 'vR']>,\n",
       " <npc.Array shape=(2, 2, 4) labels=['p', 'p*', 'vL']>]"
      ]
     },
     "execution_count": 196,
     "metadata": {},
     "output_type": "execute_result"
    }
   ],
   "source": [
    "perturbations"
   ]
  },
  {
   "cell_type": "code",
   "execution_count": 197,
   "id": "6dbd0b19-18b3-47ad-aed9-42b5b68a9984",
   "metadata": {},
   "outputs": [],
   "source": [
    "w_tensors = [\n",
    "    w1 + 0.5*w2\n",
    "    for w1, w2 in zip(sol_w_tensors, perturbations)\n",
    "]"
   ]
  },
  {
   "cell_type": "code",
   "execution_count": 198,
   "id": "f97c938f-9cf8-4401-8d8b-47bdd92a8dea",
   "metadata": {},
   "outputs": [
    {
     "data": {
      "text/plain": [
       "(19039.329962779546+7.958078640513122e-13j)"
      ]
     },
     "execution_count": 198,
     "metadata": {},
     "output_type": "execute_result"
    }
   ],
   "source": [
    "mpo_frobenius_inner_product(w_tensors)"
   ]
  },
  {
   "cell_type": "code",
   "execution_count": 199,
   "id": "d0118270-9a5a-4593-9ea7-0a5e5e39cddc",
   "metadata": {},
   "outputs": [
    {
     "data": {
      "text/plain": [
       "32"
      ]
     },
     "execution_count": 199,
     "metadata": {},
     "output_type": "execute_result"
    }
   ],
   "source": [
    "total_dimension"
   ]
  },
  {
   "cell_type": "code",
   "execution_count": 200,
   "id": "8d81a53d-0bbd-48df-bb28-337495853046",
   "metadata": {},
   "outputs": [
    {
     "data": {
      "text/plain": [
       "[<npc.Array shape=(2, 2, 4) labels=['p', 'p*', 'vR']>,\n",
       " <npc.Array shape=(2, 2, 4, 4) labels=['p', 'p*', 'vL', 'vR']>,\n",
       " <npc.Array shape=(2, 2, 4, 4) labels=['p', 'p*', 'vL', 'vR']>,\n",
       " <npc.Array shape=(2, 2, 4, 4) labels=['p', 'p*', 'vL', 'vR']>,\n",
       " <npc.Array shape=(2, 2, 4) labels=['p', 'p*', 'vL']>]"
      ]
     },
     "execution_count": 200,
     "metadata": {},
     "output_type": "execute_result"
    }
   ],
   "source": [
    "w_tensors"
   ]
  },
  {
   "cell_type": "code",
   "execution_count": 201,
   "id": "8cfb0b9b-fcbe-46c8-bc46-1942786a4a44",
   "metadata": {},
   "outputs": [],
   "source": [
    "b_tensors = [\n",
    "    test_case.psi.get_B(i)\n",
    "    for i in range(test_case.right_symmetry_index + 1, test_case.right_symmetry_index + 1 + num_sites)\n",
    "]"
   ]
  },
  {
   "cell_type": "code",
   "execution_count": 202,
   "id": "d9e19bb0-c013-47a0-b5ec-b280f032d8a3",
   "metadata": {},
   "outputs": [
    {
     "data": {
      "text/plain": [
       "[<npc.Array shape=(2, 2, 2) labels=['vL', 'p', 'vR']>,\n",
       " <npc.Array shape=(2, 2, 2) labels=['vL', 'p', 'vR']>,\n",
       " <npc.Array shape=(2, 2, 2) labels=['vL', 'p', 'vR']>,\n",
       " <npc.Array shape=(2, 2, 2) labels=['vL', 'p', 'vR']>,\n",
       " <npc.Array shape=(2, 2, 2) labels=['vL', 'p', 'vR']>]"
      ]
     },
     "execution_count": 202,
     "metadata": {},
     "output_type": "execute_result"
    }
   ],
   "source": [
    "b_tensors"
   ]
  },
  {
   "cell_type": "code",
   "execution_count": 203,
   "id": "95c3ae7e-364d-473a-a7ae-ff5b242e4ee5",
   "metadata": {},
   "outputs": [],
   "source": [
    "unitarity_learning_rate = 1\n",
    "overlap_learning_rate = 1"
   ]
  },
  {
   "cell_type": "code",
   "execution_count": 204,
   "id": "de8434fd-f260-422b-9460-5586ac2e055f",
   "metadata": {},
   "outputs": [],
   "source": [
    "adam_params = (1e-3, 0.3, 0.3)"
   ]
  },
  {
   "cell_type": "code",
   "execution_count": 205,
   "id": "71faefbf-4161-4bd4-896c-6874450a010d",
   "metadata": {},
   "outputs": [],
   "source": [
    "adam_optimizers = [\n",
    "    AdamTenpy(*adam_params) for _ in range(num_sites)\n",
    "]"
   ]
  },
  {
   "cell_type": "code",
   "execution_count": 206,
   "id": "ed132f20-838b-4db2-b024-008c3f09f43c",
   "metadata": {},
   "outputs": [],
   "source": [
    "unitarity_scores, overlap_scores = (list(), list())"
   ]
  },
  {
   "cell_type": "code",
   "execution_count": 222,
   "id": "f09ec53e-d96c-495e-84d1-9be7266922ce",
   "metadata": {},
   "outputs": [],
   "source": [
    "for _ in range(num_iterations):\n",
    "    unitarity, overlap = mpo_gradient_descent_sweep(\n",
    "        w_tensors,\n",
    "        b_tensors,\n",
    "        unitarity_learning_rate,\n",
    "        overlap_learning_rate,\n",
    "        np.sqrt(2),\n",
    "        test_case.right_projected_symmetry_state,\n",
    "        adam_optimizers\n",
    "    )\n",
    "\n",
    "    unitarity_scores.append(unitarity)\n",
    "    overlap_scores.append(overlap)"
   ]
  },
  {
   "cell_type": "code",
   "execution_count": 223,
   "id": "43bbaf64-b9de-47a6-820b-64de1e1b3f18",
   "metadata": {},
   "outputs": [],
   "source": [
    "unitary_scores_array = np.array(unitarity_scores)"
   ]
  },
  {
   "cell_type": "code",
   "execution_count": 224,
   "id": "2237a379-fba0-4f35-b818-eee72d92e7e8",
   "metadata": {},
   "outputs": [
    {
     "data": {
      "text/plain": [
       "[<matplotlib.lines.Line2D at 0x16ab5a310>]"
      ]
     },
     "execution_count": 224,
     "metadata": {},
     "output_type": "execute_result"
    },
    {
     "data": {
      "image/png": "[encoded data removed]",
      "text/plain": [
       "<Figure size 640x480 with 1 Axes>"
      ]
     },
     "metadata": {},
     "output_type": "display_data"
    }
   ],
   "source": [
    "plt.plot(unitary_scores_array.flatten())"
   ]
  },
  {
   "cell_type": "code",
   "execution_count": 225,
   "id": "cb0a031f-c05f-4c35-b554-23bd4bcb87d4",
   "metadata": {},
   "outputs": [
    {
     "data": {
      "image/png": "[encoded data removed]",
      "text/plain": [
       "<Figure size 640x480 with 1 Axes>"
      ]
     },
     "metadata": {},
     "output_type": "display_data"
    }
   ],
   "source": [
    "plt.plot(unitary_scores_array.flatten())\n",
    "plt.yscale('log')"
   ]
  },
  {
   "cell_type": "code",
   "execution_count": 226,
   "id": "b3889ee5-2de6-4aab-9ef5-35cde4bdfb9e",
   "metadata": {},
   "outputs": [
    {
     "data": {
      "text/plain": [
       "(0.026593413308322766+1.6511236822225328e-12j)"
      ]
     },
     "execution_count": 226,
     "metadata": {},
     "output_type": "execute_result"
    }
   ],
   "source": [
    "unitary_scores_array[-1]"
   ]
  },
  {
   "cell_type": "code",
   "execution_count": 227,
   "id": "80fdd656-94d0-4d8c-a601-6ed88a7d7cdb",
   "metadata": {},
   "outputs": [],
   "source": [
    "overlap_scores_array = np.array(overlap_scores)"
   ]
  },
  {
   "cell_type": "code",
   "execution_count": 228,
   "id": "72d62e8e-6766-4b3e-9457-69636d670730",
   "metadata": {},
   "outputs": [
    {
     "data": {
      "text/plain": [
       "[<matplotlib.lines.Line2D at 0x1089236d0>]"
      ]
     },
     "execution_count": 228,
     "metadata": {},
     "output_type": "execute_result"
    },
    {
     "data": {
      "image/png": "[encoded data removed]",
      "text/plain": [
       "<Figure size 640x480 with 1 Axes>"
      ]
     },
     "metadata": {},
     "output_type": "display_data"
    }
   ],
   "source": [
    "plt.plot(overlap_scores_array.flatten())"
   ]
  },
  {
   "cell_type": "code",
   "execution_count": 229,
   "id": "40d53b51-b738-4444-81d4-980a219d2cd1",
   "metadata": {},
   "outputs": [
    {
     "data": {
      "text/plain": [
       "1.311581828834931"
      ]
     },
     "execution_count": 229,
     "metadata": {},
     "output_type": "execute_result"
    }
   ],
   "source": [
    "overlap_scores_array[-1]"
   ]
  },
  {
   "cell_type": "markdown",
   "id": "25205cae-a8a7-4884-87d1-dee3f1e6fc86",
   "metadata": {},
   "source": [
    "Not bad!"
   ]
  },
  {
   "cell_type": "markdown",
   "id": "c0e7f74f-4538-425e-92d6-8839d044d9e5",
   "metadata": {},
   "source": [
    "# Load harder case"
   ]
  },
  {
   "cell_type": "code",
   "execution_count": 230,
   "id": "49225514-d755-4fdd-8e8d-7535793a8ebf",
   "metadata": {},
   "outputs": [],
   "source": [
    "f_name = DATA_DIR + r\"/1_20.h5\""
   ]
  },
  {
   "cell_type": "code",
   "execution_count": 231,
   "id": "88b815e1-2964-49c1-814a-a4cfdc48da48",
   "metadata": {},
   "outputs": [
    {
     "data": {
      "text/plain": [
       "'../../data/transverse_cluster_200_site_dmrg/1_20.h5'"
      ]
     },
     "execution_count": 231,
     "metadata": {},
     "output_type": "execute_result"
    }
   ],
   "source": [
    "f_name"
   ]
  },
  {
   "cell_type": "code",
   "execution_count": 232,
   "id": "c9b64e46-d5e6-48cf-901a-4e256a34b11f",
   "metadata": {},
   "outputs": [],
   "source": [
    "with h5py.File(f_name, 'r') as f:\n",
    "    data = hdf5_io.load_from_hdf5(f)\n",
    "    test_psi = data['wavefunction']"
   ]
  },
  {
   "cell_type": "code",
   "execution_count": 249,
   "id": "b1d494ea-1134-48e8-a09b-85d921bfe113",
   "metadata": {},
   "outputs": [],
   "source": [
    "from SPTOptimization.SymmetryActionWithBoundaryUnitaries import SymmetryActionWithBoundaryUnitaries"
   ]
  },
  {
   "cell_type": "code",
   "execution_count": 250,
   "id": "b077f900-0484-4945-bded-65ffcc349fa8",
   "metadata": {},
   "outputs": [],
   "source": [
    "test_case = SymmetryActionWithBoundaryUnitaries(\n",
    "    test_psi,\n",
    "    symmetry_actions[1]*50,\n",
    "    left_boundary_unitaries=[np_I,]*3,\n",
    "    right_boundary_unitaries=[np_I,]*3\n",
    ")"
   ]
  },
  {
   "cell_type": "code",
   "execution_count": 251,
   "id": "f2696484-bab6-460f-b9ab-14a7b37c0b4a",
   "metadata": {},
   "outputs": [
    {
     "data": {
      "text/plain": [
       "(0.7490571268992677-0j)"
      ]
     },
     "execution_count": 251,
     "metadata": {},
     "output_type": "execute_result"
    }
   ],
   "source": [
    "test_case.compute_svd_approximate_expectation()"
   ]
  },
  {
   "cell_type": "code",
   "execution_count": 252,
   "id": "e1b87afb-ec52-41a2-badf-fbae3ce31820",
   "metadata": {},
   "outputs": [],
   "source": [
    "sing_val = test_case.symmetry_transfer_matrix_singular_vals[0]\n",
    "target = np.power(sing_val, -1/2)"
   ]
  },
  {
   "cell_type": "code",
   "execution_count": 253,
   "id": "6397ee2a-e5d6-4ebe-a1fd-4fdc821dca5b",
   "metadata": {},
   "outputs": [
    {
     "data": {
      "text/plain": [
       "1.1435095362066725"
      ]
     },
     "execution_count": 253,
     "metadata": {},
     "output_type": "execute_result"
    }
   ],
   "source": [
    "target"
   ]
  },
  {
   "cell_type": "markdown",
   "id": "ddf33152-1d62-4a2d-9df6-fabfba8ac2d6",
   "metadata": {},
   "source": [
    "# Harder tests"
   ]
  },
  {
   "cell_type": "markdown",
   "id": "1382f85f-ad69-456d-a09f-6b70d48ca006",
   "metadata": {},
   "source": [
    "## B=1.2, 10 sites"
   ]
  },
  {
   "cell_type": "code",
   "execution_count": 560,
   "id": "57cfbfdc-dbdd-47f9-a8c3-5f664fb43871",
   "metadata": {},
   "outputs": [],
   "source": [
    "num_sites = 10"
   ]
  },
  {
   "cell_type": "code",
   "execution_count": 561,
   "id": "acb1f167-c5cf-47e5-90f2-c69ff851e791",
   "metadata": {},
   "outputs": [],
   "source": [
    "total_dimension = 2**num_sites"
   ]
  },
  {
   "cell_type": "code",
   "execution_count": 562,
   "id": "a8c3729c-e491-47ee-af12-c9848401f1bc",
   "metadata": {},
   "outputs": [],
   "source": [
    "num_iterations = 500"
   ]
  },
  {
   "cell_type": "code",
   "execution_count": 563,
   "id": "1f0830c2-fbd6-4aed-a71a-7e682227ce2a",
   "metadata": {},
   "outputs": [],
   "source": [
    "bond_dimension=4"
   ]
  },
  {
   "cell_type": "code",
   "execution_count": 564,
   "id": "5cd342ae-2abf-4647-b1db-bd7c696452cb",
   "metadata": {},
   "outputs": [],
   "source": [
    "physical_dims = [2,]*num_sites\n",
    "virtual_dims = (\n",
    "    [(None, bond_dimension),] +\n",
    "    [(bond_dimension, bond_dimension)]*(num_sites - 2) +\n",
    "    [(bond_dimension, None),]\n",
    ")"
   ]
  },
  {
   "cell_type": "code",
   "execution_count": 565,
   "id": "3ac2d1e7-2c09-48b8-98dc-8f045f13d519",
   "metadata": {},
   "outputs": [],
   "source": [
    "mpo_tensors = get_random_mpo_tensors(physical_dims, virtual_dims)"
   ]
  },
  {
   "cell_type": "code",
   "execution_count": 566,
   "id": "11ec807d-d07e-4e1c-998f-ca89461aa1e6",
   "metadata": {},
   "outputs": [],
   "source": [
    "rescale_mpo_tensors(mpo_tensors, 1)"
   ]
  },
  {
   "cell_type": "code",
   "execution_count": 567,
   "id": "c93d25bb-4b11-4bbb-a1f8-753fd206bfe4",
   "metadata": {},
   "outputs": [],
   "source": [
    "b_tensors = [\n",
    "    test_case.psi.get_B(i)\n",
    "    for i in range(test_case.right_symmetry_index + 1, test_case.right_symmetry_index + 1 + num_sites)\n",
    "]"
   ]
  },
  {
   "cell_type": "code",
   "execution_count": 568,
   "id": "9bcdc041-f77f-4131-8e0f-f962593d4995",
   "metadata": {},
   "outputs": [],
   "source": [
    "unitarity_learning_rate = 1\n",
    "overlap_learning_rate = 10"
   ]
  },
  {
   "cell_type": "code",
   "execution_count": 569,
   "id": "1a0ed931-654f-4ff5-a411-4e9dd54ed321",
   "metadata": {},
   "outputs": [],
   "source": [
    "adam_params = (1e-3, 0.4, 0.4)"
   ]
  },
  {
   "cell_type": "code",
   "execution_count": 570,
   "id": "83da8059-d46f-4e8a-9566-ff7f8e9cf4fc",
   "metadata": {},
   "outputs": [],
   "source": [
    "adam_optimizers = [\n",
    "    AdamTenpy(*adam_params) for _ in range(num_sites)\n",
    "]"
   ]
  },
  {
   "cell_type": "code",
   "execution_count": 571,
   "id": "742bd26e-7c65-4504-a590-6b43930a61f7",
   "metadata": {},
   "outputs": [],
   "source": [
    "unitarity_scores, overlap_scores = (list(), list())"
   ]
  },
  {
   "cell_type": "code",
   "execution_count": 572,
   "id": "0fe432cc-b4a4-4744-80e5-617525c84d35",
   "metadata": {},
   "outputs": [
    {
     "data": {
      "text/plain": [
       "[<npc.Array shape=(2, 2, 4) labels=['p', 'p*', 'vR']>,\n",
       " <npc.Array shape=(2, 2, 4, 4) labels=['p', 'p*', 'vL', 'vR']>,\n",
       " <npc.Array shape=(2, 2, 4, 4) labels=['p', 'p*', 'vL', 'vR']>,\n",
       " <npc.Array shape=(2, 2, 4, 4) labels=['p', 'p*', 'vL', 'vR']>,\n",
       " <npc.Array shape=(2, 2, 4, 4) labels=['p', 'p*', 'vL', 'vR']>,\n",
       " <npc.Array shape=(2, 2, 4, 4) labels=['p', 'p*', 'vL', 'vR']>,\n",
       " <npc.Array shape=(2, 2, 4, 4) labels=['p', 'p*', 'vL', 'vR']>,\n",
       " <npc.Array shape=(2, 2, 4, 4) labels=['p', 'p*', 'vL', 'vR']>,\n",
       " <npc.Array shape=(2, 2, 4, 4) labels=['p', 'p*', 'vL', 'vR']>,\n",
       " <npc.Array shape=(2, 2, 4) labels=['p', 'p*', 'vL']>]"
      ]
     },
     "execution_count": 572,
     "metadata": {},
     "output_type": "execute_result"
    }
   ],
   "source": [
    "mpo_tensors"
   ]
  },
  {
   "cell_type": "code",
   "execution_count": 573,
   "id": "a6efabe5-9d87-4a92-9a18-17c58192e8a7",
   "metadata": {},
   "outputs": [
    {
     "data": {
      "text/plain": [
       "[<npc.Array shape=(8, 2, 8) labels=['vL', 'p', 'vR']>,\n",
       " <npc.Array shape=(8, 2, 8) labels=['vL', 'p', 'vR']>,\n",
       " <npc.Array shape=(8, 2, 8) labels=['vL', 'p', 'vR']>,\n",
       " <npc.Array shape=(8, 2, 8) labels=['vL', 'p', 'vR']>,\n",
       " <npc.Array shape=(8, 2, 8) labels=['vL', 'p', 'vR']>,\n",
       " <npc.Array shape=(8, 2, 8) labels=['vL', 'p', 'vR']>,\n",
       " <npc.Array shape=(8, 2, 8) labels=['vL', 'p', 'vR']>,\n",
       " <npc.Array shape=(8, 2, 8) labels=['vL', 'p', 'vR']>,\n",
       " <npc.Array shape=(8, 2, 8) labels=['vL', 'p', 'vR']>,\n",
       " <npc.Array shape=(8, 2, 8) labels=['vL', 'p', 'vR']>]"
      ]
     },
     "execution_count": 573,
     "metadata": {},
     "output_type": "execute_result"
    }
   ],
   "source": [
    "b_tensors"
   ]
  },
  {
   "cell_type": "code",
   "execution_count": 574,
   "id": "9fde540d-18ac-4925-a9ad-7c224fc70b30",
   "metadata": {},
   "outputs": [
    {
     "data": {
      "text/plain": [
       "<npc.Array shape=(8, 8) labels=['vR', 'vR*']>"
      ]
     },
     "execution_count": 574,
     "metadata": {},
     "output_type": "execute_result"
    }
   ],
   "source": [
    "test_case.right_projected_symmetry_state"
   ]
  },
  {
   "cell_type": "code",
   "execution_count": 575,
   "id": "ac5e3f49-fa79-435b-9b68-89c15c4aa5a0",
   "metadata": {
    "scrolled": true
   },
   "outputs": [],
   "source": [
    "for i in range(num_iterations):\n",
    "    unitarity, overlap = mpo_gradient_descent_sweep(\n",
    "        mpo_tensors,\n",
    "        b_tensors,\n",
    "        unitarity_learning_rate,\n",
    "        overlap_learning_rate,\n",
    "        target,\n",
    "        test_case.right_projected_symmetry_state,\n",
    "        adam_optimizers\n",
    "    )\n",
    "\n",
    "    unitarity_scores.append(unitarity)\n",
    "    overlap_scores.append(overlap)"
   ]
  },
  {
   "cell_type": "code",
   "execution_count": 576,
   "id": "9ef96a9d-aed9-492b-944f-febc52023f26",
   "metadata": {},
   "outputs": [],
   "source": [
    "unitary_scores_array = np.array(unitarity_scores)"
   ]
  },
  {
   "cell_type": "code",
   "execution_count": 577,
   "id": "c273ab73-3ea9-4c31-826b-5e35c9f2c5e9",
   "metadata": {},
   "outputs": [
    {
     "data": {
      "text/plain": [
       "[<matplotlib.lines.Line2D at 0x10bf43c50>]"
      ]
     },
     "execution_count": 577,
     "metadata": {},
     "output_type": "execute_result"
    },
    {
     "data": {
      "image/png": "[encoded data removed]",
      "text/plain": [
       "<Figure size 640x480 with 1 Axes>"
      ]
     },
     "metadata": {},
     "output_type": "display_data"
    }
   ],
   "source": [
    "plt.plot(unitary_scores_array.flatten())"
   ]
  },
  {
   "cell_type": "code",
   "execution_count": 578,
   "id": "edabe911-7852-4933-8886-0e4525c4e919",
   "metadata": {},
   "outputs": [
    {
     "data": {
      "image/png": "[encoded data removed]",
      "text/plain": [
       "<Figure size 640x480 with 1 Axes>"
      ]
     },
     "metadata": {},
     "output_type": "display_data"
    }
   ],
   "source": [
    "plt.plot(unitary_scores_array.flatten())\n",
    "plt.yscale('log')"
   ]
  },
  {
   "cell_type": "code",
   "execution_count": 579,
   "id": "bbe15180-5ab5-41bb-a868-f1bf7d5ce5f2",
   "metadata": {},
   "outputs": [
    {
     "data": {
      "text/plain": [
       "(1.7711987524766073-2.1316282072803006e-13j)"
      ]
     },
     "execution_count": 579,
     "metadata": {},
     "output_type": "execute_result"
    }
   ],
   "source": [
    "unitary_scores_array[-1]"
   ]
  },
  {
   "cell_type": "code",
   "execution_count": 580,
   "id": "23e24d0a-d012-4fe9-94f2-f8c2633f3973",
   "metadata": {},
   "outputs": [],
   "source": [
    "overlap_scores_array = np.array(overlap_scores)"
   ]
  },
  {
   "cell_type": "code",
   "execution_count": 581,
   "id": "291d3ccc-70d0-49bb-a750-9b9a145c7d22",
   "metadata": {},
   "outputs": [
    {
     "data": {
      "text/plain": [
       "[<matplotlib.lines.Line2D at 0x10c493990>]"
      ]
     },
     "execution_count": 581,
     "metadata": {},
     "output_type": "execute_result"
    },
    {
     "data": {
      "image/png": "[encoded data removed]",
      "text/plain": [
       "<Figure size 640x480 with 1 Axes>"
      ]
     },
     "metadata": {},
     "output_type": "display_data"
    }
   ],
   "source": [
    "plt.plot(overlap_scores_array.flatten())"
   ]
  },
  {
   "cell_type": "code",
   "execution_count": 582,
   "id": "2e87c997-8352-410c-ae0f-dd0a0083352a",
   "metadata": {},
   "outputs": [
    {
     "data": {
      "text/plain": [
       "0.7956181735289289"
      ]
     },
     "execution_count": 582,
     "metadata": {},
     "output_type": "execute_result"
    }
   ],
   "source": [
    "overlap_scores_array[-1]"
   ]
  },
  {
   "cell_type": "code",
   "execution_count": 583,
   "id": "c6f793da-990f-4dc7-b96d-6b896ba0c818",
   "metadata": {},
   "outputs": [
    {
     "data": {
      "text/plain": [
       "1.1435095362066725"
      ]
     },
     "execution_count": 583,
     "metadata": {},
     "output_type": "execute_result"
    }
   ],
   "source": [
    "target"
   ]
  },
  {
   "cell_type": "markdown",
   "id": "19ec7bc9-eace-4e29-8814-a5d737485faf",
   "metadata": {},
   "source": [
    "## B=1.2, 6 sites"
   ]
  },
  {
   "cell_type": "code",
   "execution_count": 584,
   "id": "a91c2b6e-c609-489e-b597-89ff2fe10dd4",
   "metadata": {},
   "outputs": [],
   "source": [
    "num_sites = 6"
   ]
  },
  {
   "cell_type": "code",
   "execution_count": 585,
   "id": "a8371a78-0697-483e-8c64-947d983c7f2d",
   "metadata": {},
   "outputs": [],
   "source": [
    "total_dimension = 2**num_sites"
   ]
  },
  {
   "cell_type": "code",
   "execution_count": 586,
   "id": "285e8f5f-49e0-4861-a03e-bb28cf84225a",
   "metadata": {},
   "outputs": [],
   "source": [
    "num_iterations = 500"
   ]
  },
  {
   "cell_type": "code",
   "execution_count": 587,
   "id": "9b332626-f8ba-4276-aed6-bb990093ce56",
   "metadata": {},
   "outputs": [],
   "source": [
    "bond_dimension=4"
   ]
  },
  {
   "cell_type": "code",
   "execution_count": 588,
   "id": "0c266e0f-4253-4480-a43a-6684ce4f747c",
   "metadata": {},
   "outputs": [],
   "source": [
    "physical_dims = [2,]*num_sites\n",
    "virtual_dims = (\n",
    "    [(None, bond_dimension),] +\n",
    "    [(bond_dimension, bond_dimension)]*(num_sites - 2) +\n",
    "    [(bond_dimension, None),]\n",
    ")"
   ]
  },
  {
   "cell_type": "code",
   "execution_count": 589,
   "id": "bed03ab3-475d-485f-9f09-73bd0379408c",
   "metadata": {},
   "outputs": [],
   "source": [
    "mpo_tensors = get_random_mpo_tensors(physical_dims, virtual_dims)"
   ]
  },
  {
   "cell_type": "code",
   "execution_count": 590,
   "id": "cdb2bee5-4aaf-4659-ad37-4229dc29713d",
   "metadata": {},
   "outputs": [],
   "source": [
    "rescale_mpo_tensors(mpo_tensors, 1)"
   ]
  },
  {
   "cell_type": "code",
   "execution_count": 591,
   "id": "10cdefb9-f08c-43b0-8564-ba9972dbf971",
   "metadata": {},
   "outputs": [],
   "source": [
    "b_tensors = [\n",
    "    test_case.psi.get_B(i)\n",
    "    for i in range(test_case.right_symmetry_index + 1, test_case.right_symmetry_index + 1 + num_sites)\n",
    "]"
   ]
  },
  {
   "cell_type": "code",
   "execution_count": 592,
   "id": "52bbd878-e96c-45de-afe5-64241dc53988",
   "metadata": {},
   "outputs": [],
   "source": [
    "unitarity_learning_rate = 1\n",
    "overlap_learning_rate = 10"
   ]
  },
  {
   "cell_type": "code",
   "execution_count": 593,
   "id": "77228e5b-9a63-4f07-b33f-6cf2574aabdc",
   "metadata": {},
   "outputs": [],
   "source": [
    "adam_params = (1e-3, 0.4, 0.4)"
   ]
  },
  {
   "cell_type": "code",
   "execution_count": 594,
   "id": "5fb1013e-5339-433d-84f4-492536686331",
   "metadata": {},
   "outputs": [],
   "source": [
    "adam_optimizers = [\n",
    "    AdamTenpy(*adam_params) for _ in range(num_sites)\n",
    "]"
   ]
  },
  {
   "cell_type": "code",
   "execution_count": 595,
   "id": "07f67700-51ee-41dd-b386-c273e342d71c",
   "metadata": {},
   "outputs": [],
   "source": [
    "unitarity_scores, overlap_scores = (list(), list())"
   ]
  },
  {
   "cell_type": "code",
   "execution_count": 597,
   "id": "24f53385-d653-45c2-9dcd-5efd8e539796",
   "metadata": {
    "scrolled": true
   },
   "outputs": [],
   "source": [
    "for i in range(num_iterations):\n",
    "    unitarity, overlap = mpo_gradient_descent_sweep(\n",
    "        mpo_tensors,\n",
    "        b_tensors,\n",
    "        unitarity_learning_rate,\n",
    "        overlap_learning_rate,\n",
    "        target,\n",
    "        test_case.right_projected_symmetry_state,\n",
    "        adam_optimizers\n",
    "    )\n",
    "\n",
    "    unitarity_scores.append(unitarity)\n",
    "    overlap_scores.append(overlap)"
   ]
  },
  {
   "cell_type": "code",
   "execution_count": 598,
   "id": "d3d83435-7b70-45c3-a830-085b52f3f206",
   "metadata": {},
   "outputs": [],
   "source": [
    "unitary_scores_array = np.array(unitarity_scores)"
   ]
  },
  {
   "cell_type": "code",
   "execution_count": 599,
   "id": "44ad7c30-5160-49f3-9c8e-d2b4d2449c2b",
   "metadata": {},
   "outputs": [
    {
     "data": {
      "text/plain": [
       "[<matplotlib.lines.Line2D at 0x10c9f3c50>]"
      ]
     },
     "execution_count": 599,
     "metadata": {},
     "output_type": "execute_result"
    },
    {
     "data": {
      "image/png": "[encoded data removed]",
      "text/plain": [
       "<Figure size 640x480 with 1 Axes>"
      ]
     },
     "metadata": {},
     "output_type": "display_data"
    }
   ],
   "source": [
    "plt.plot(unitary_scores_array.flatten())"
   ]
  },
  {
   "cell_type": "code",
   "execution_count": 600,
   "id": "d5b9eb2a-459d-4389-9ede-2e6ff087dcff",
   "metadata": {},
   "outputs": [
    {
     "data": {
      "image/png": "[encoded data removed]",
      "text/plain": [
       "<Figure size 640x480 with 1 Axes>"
      ]
     },
     "metadata": {},
     "output_type": "display_data"
    }
   ],
   "source": [
    "plt.plot(unitary_scores_array.flatten())\n",
    "plt.yscale('log')"
   ]
  },
  {
   "cell_type": "code",
   "execution_count": 601,
   "id": "89e1a0a8-376c-40d8-8bc7-fbb8198ccbcd",
   "metadata": {},
   "outputs": [
    {
     "data": {
      "text/plain": [
       "(0.10281913011978361-5.329070518200751e-15j)"
      ]
     },
     "execution_count": 601,
     "metadata": {},
     "output_type": "execute_result"
    }
   ],
   "source": [
    "unitary_scores_array[-1]"
   ]
  },
  {
   "cell_type": "code",
   "execution_count": 602,
   "id": "a1bc2e17-7b04-45ca-8e8e-de382206b039",
   "metadata": {},
   "outputs": [],
   "source": [
    "overlap_scores_array = np.array(overlap_scores)"
   ]
  },
  {
   "cell_type": "code",
   "execution_count": 603,
   "id": "5f99f608-40f0-4f23-a66b-95ad27ed28ee",
   "metadata": {},
   "outputs": [
    {
     "data": {
      "text/plain": [
       "[<matplotlib.lines.Line2D at 0x10cb3b6d0>]"
      ]
     },
     "execution_count": 603,
     "metadata": {},
     "output_type": "execute_result"
    },
    {
     "data": {
      "image/png": "[encoded data removed]",
      "text/plain": [
       "<Figure size 640x480 with 1 Axes>"
      ]
     },
     "metadata": {},
     "output_type": "display_data"
    }
   ],
   "source": [
    "plt.plot(overlap_scores_array.flatten())"
   ]
  },
  {
   "cell_type": "code",
   "execution_count": 604,
   "id": "5446f66a-7623-4857-a7b1-8491a0ccaf7a",
   "metadata": {},
   "outputs": [
    {
     "data": {
      "text/plain": [
       "1.0912526370359763"
      ]
     },
     "execution_count": 604,
     "metadata": {},
     "output_type": "execute_result"
    }
   ],
   "source": [
    "overlap_scores_array[-1]"
   ]
  },
  {
   "cell_type": "code",
   "execution_count": 605,
   "id": "c4470558-5b67-4e66-91d7-bb252b99b94b",
   "metadata": {},
   "outputs": [
    {
     "data": {
      "text/plain": [
       "1.1435095362066725"
      ]
     },
     "execution_count": 605,
     "metadata": {},
     "output_type": "execute_result"
    }
   ],
   "source": [
    "target"
   ]
  },
  {
   "cell_type": "markdown",
   "id": "728d30fa-32b4-498c-a251-5669bdd693e2",
   "metadata": {},
   "source": [
    "Much better. So getting estimating the number of sites required is important."
   ]
  },
  {
   "cell_type": "markdown",
   "id": "47689fa4-b0bf-4611-a6d1-07f23f1404e7",
   "metadata": {},
   "source": [
    "## B=1.2, 10 sites, random initialisation"
   ]
  },
  {
   "cell_type": "code",
   "execution_count": 615,
   "id": "d1b2b5d1-61e0-4dec-b163-2b8fc85c6d08",
   "metadata": {},
   "outputs": [],
   "source": [
    "num_sites = 8"
   ]
  },
  {
   "cell_type": "code",
   "execution_count": 616,
   "id": "4fb9c8f8-44c5-40d9-8e97-b8f9a60eccfd",
   "metadata": {},
   "outputs": [],
   "source": [
    "total_dimension = 2**num_sites"
   ]
  },
  {
   "cell_type": "code",
   "execution_count": 617,
   "id": "754662f7-62c9-4ff8-95e3-54fbff1b7584",
   "metadata": {},
   "outputs": [],
   "source": [
    "num_iterations = 500"
   ]
  },
  {
   "cell_type": "code",
   "execution_count": 618,
   "id": "21b1d590-aa4c-4e62-84d4-1d10f0349e01",
   "metadata": {},
   "outputs": [],
   "source": [
    "bond_dimension=4"
   ]
  },
  {
   "cell_type": "code",
   "execution_count": 619,
   "id": "66a921d5-8c46-4d64-91cf-8ce0132000ba",
   "metadata": {},
   "outputs": [],
   "source": [
    "physical_dims = [2,]*num_sites\n",
    "virtual_dims = (\n",
    "    [(None, bond_dimension),] +\n",
    "    [(bond_dimension, bond_dimension)]*(num_sites - 2) +\n",
    "    [(bond_dimension, None),]\n",
    ")"
   ]
  },
  {
   "cell_type": "code",
   "execution_count": 620,
   "id": "718e29d5-ecb3-4f6c-8f9e-4b84bbe7573c",
   "metadata": {},
   "outputs": [],
   "source": [
    "b_tensors = [\n",
    "    test_case.psi.get_B(i)\n",
    "    for i in range(test_case.right_symmetry_index + 1, test_case.right_symmetry_index + 1 + num_sites)\n",
    "]"
   ]
  },
  {
   "cell_type": "code",
   "execution_count": 621,
   "id": "3882e273-fd31-40cc-9507-c3b66f14e1fc",
   "metadata": {},
   "outputs": [],
   "source": [
    "adam_params = (1e-3, 0.4, 0.4)"
   ]
  },
  {
   "cell_type": "code",
   "execution_count": 622,
   "id": "37f952b0-4519-4530-82e0-5e62dad4014b",
   "metadata": {},
   "outputs": [],
   "source": [
    "unitarity_learning_rate = 1\n",
    "overlap_learning_rate = 10"
   ]
  },
  {
   "cell_type": "code",
   "execution_count": 623,
   "id": "d0932432-229a-437c-b2bb-c46f347bbc9e",
   "metadata": {},
   "outputs": [],
   "source": [
    "num_initialisations = 100"
   ]
  },
  {
   "cell_type": "code",
   "execution_count": 624,
   "id": "d2a6e31e-0116-4ce8-8302-d3ae67924eea",
   "metadata": {},
   "outputs": [],
   "source": [
    "best_score = 1e10\n",
    "\n",
    "unitary_scores = list()\n",
    "overlap_scores = list()"
   ]
  },
  {
   "cell_type": "code",
   "execution_count": 626,
   "id": "944108dc-6a20-4876-8571-ea1eb931e1a1",
   "metadata": {},
   "outputs": [
    {
     "name": "stdout",
     "output_type": "stream",
     "text": [
      "0\n",
      "10\n",
      "20\n",
      "30\n",
      "40\n",
      "50\n",
      "60\n",
      "70\n",
      "80\n",
      "90\n"
     ]
    }
   ],
   "source": [
    "for i in range(num_initialisations):\n",
    "    if i % 10 == 0:\n",
    "        print(i)\n",
    "\n",
    "    mpo_tensors = get_random_mpo_tensors(physical_dims, virtual_dims)\n",
    "    rescale_mpo_tensors(mpo_tensors, 1)\n",
    "\n",
    "    adam_optimizers = [\n",
    "        AdamTenpy(*adam_params) for _ in range(num_sites)\n",
    "    ]\n",
    "\n",
    "    current_unitarity_scores = list()\n",
    "    current_overlap_scores = list()\n",
    "\n",
    "    for i in range(num_iterations):\n",
    "        unitarity, overlap = mpo_gradient_descent_sweep(\n",
    "            mpo_tensors,\n",
    "            b_tensors,\n",
    "            unitarity_learning_rate,\n",
    "            overlap_learning_rate,\n",
    "            target,\n",
    "            test_case.right_projected_symmetry_state,\n",
    "            adam_optimizers\n",
    "        )\n",
    "    \n",
    "        current_unitarity_scores.append(unitarity)\n",
    "        current_overlap_scores.append(overlap)\n",
    "\n",
    "    unitary_scores.append(unitarity)\n",
    "    overlap_scores.append(overlap)\n",
    "\n",
    "    current_score = (\n",
    "        unitarity_learning_rate*(np.sqrt(unitarity + 1) -1)\n",
    "        + overlap_learning_rate*((target)**2)\n",
    "    )\n",
    "\n",
    "    if current_score < best_score:\n",
    "        best_score = current_score\n",
    "        best_unitarity_scores = current_unitarity_scores \n",
    "        best_overlap_scores = current_overlap_scores \n",
    "\n",
    "    "
   ]
  },
  {
   "cell_type": "code",
   "execution_count": 627,
   "id": "f5183241-9dd5-4d8d-b9bf-70a66446b017",
   "metadata": {},
   "outputs": [
    {
     "data": {
      "text/plain": [
       "(13.15160145000311+3.3034337408230543e-15j)"
      ]
     },
     "execution_count": 627,
     "metadata": {},
     "output_type": "execute_result"
    }
   ],
   "source": [
    "best_score"
   ]
  },
  {
   "cell_type": "code",
   "execution_count": 628,
   "id": "de9b7a66-0af5-4337-812f-d265cb8d4905",
   "metadata": {},
   "outputs": [],
   "source": [
    "unitary_scores_array = np.array(best_unitarity_scores)"
   ]
  },
  {
   "cell_type": "code",
   "execution_count": 629,
   "id": "9aaca3a2-beb7-493c-991a-738c64c44da7",
   "metadata": {},
   "outputs": [
    {
     "name": "stderr",
     "output_type": "stream",
     "text": [
      "/Users/kierancooney/.pyenv/versions/num_spt_venv_p11/lib/python3.11/site-packages/matplotlib/cbook.py:1699: ComplexWarning: Casting complex values to real discards the imaginary part\n",
      "  return math.isfinite(val)\n",
      "/Users/kierancooney/.pyenv/versions/num_spt_venv_p11/lib/python3.11/site-packages/matplotlib/cbook.py:1345: ComplexWarning: Casting complex values to real discards the imaginary part\n",
      "  return np.asarray(x, float)\n"
     ]
    },
    {
     "data": {
      "text/plain": [
       "[<matplotlib.lines.Line2D at 0x10c98fd50>]"
      ]
     },
     "execution_count": 629,
     "metadata": {},
     "output_type": "execute_result"
    },
    {
     "data": {
      "image/png": "[encoded data removed]",
      "text/plain": [
       "<Figure size 640x480 with 1 Axes>"
      ]
     },
     "metadata": {},
     "output_type": "display_data"
    }
   ],
   "source": [
    "plt.plot(unitary_scores_array.flatten())"
   ]
  },
  {
   "cell_type": "code",
   "execution_count": 630,
   "id": "c357b05e-3ec5-4ea9-8367-9d03f7a7ce70",
   "metadata": {},
   "outputs": [
    {
     "data": {
      "image/png": "[encoded data removed]",
      "text/plain": [
       "<Figure size 640x480 with 1 Axes>"
      ]
     },
     "metadata": {},
     "output_type": "display_data"
    }
   ],
   "source": [
    "plt.plot(unitary_scores_array.flatten())\n",
    "plt.yscale('log')"
   ]
  },
  {
   "cell_type": "code",
   "execution_count": 631,
   "id": "dad43923-3891-4b26-84c1-a06b8d9eb3f1",
   "metadata": {},
   "outputs": [
    {
     "data": {
      "text/plain": [
       "(0.15661605288960345+7.105427357601002e-15j)"
      ]
     },
     "execution_count": 631,
     "metadata": {},
     "output_type": "execute_result"
    }
   ],
   "source": [
    "unitary_scores_array[-1]"
   ]
  },
  {
   "cell_type": "code",
   "execution_count": 632,
   "id": "fc408baf-2062-495d-a5a9-93c2ff6c49a8",
   "metadata": {},
   "outputs": [],
   "source": [
    "overlap_scores_array = np.array(best_overlap_scores)"
   ]
  },
  {
   "cell_type": "code",
   "execution_count": 633,
   "id": "2ef6cf89-8898-4f0c-a1fe-c39a0612421c",
   "metadata": {},
   "outputs": [
    {
     "data": {
      "text/plain": [
       "[<matplotlib.lines.Line2D at 0x10c823c50>]"
      ]
     },
     "execution_count": 633,
     "metadata": {},
     "output_type": "execute_result"
    },
    {
     "data": {
      "image/png": "[encoded data removed]",
      "text/plain": [
       "<Figure size 640x480 with 1 Axes>"
      ]
     },
     "metadata": {},
     "output_type": "display_data"
    }
   ],
   "source": [
    "plt.plot(overlap_scores_array.flatten())"
   ]
  },
  {
   "cell_type": "code",
   "execution_count": 634,
   "id": "a6f5eabf-e074-4c01-8eb6-4effec2b656e",
   "metadata": {},
   "outputs": [
    {
     "data": {
      "text/plain": [
       "1.0339326003284974"
      ]
     },
     "execution_count": 634,
     "metadata": {},
     "output_type": "execute_result"
    }
   ],
   "source": [
    "overlap_scores_array[-1]"
   ]
  },
  {
   "cell_type": "code",
   "execution_count": 635,
   "id": "f64d62f9-f7b2-47e1-a55d-8dee7af17869",
   "metadata": {},
   "outputs": [
    {
     "data": {
      "text/plain": [
       "1.1435095362066725"
      ]
     },
     "execution_count": 635,
     "metadata": {},
     "output_type": "execute_result"
    }
   ],
   "source": [
    "target"
   ]
  },
  {
   "cell_type": "code",
   "execution_count": 640,
   "id": "242366ac-6445-466a-9cda-325d95202835",
   "metadata": {},
   "outputs": [
    {
     "data": {
      "text/plain": [
       "count    500.000000\n",
       "mean      96.382175\n",
       "std      107.086269\n",
       "min        0.206433\n",
       "25%        0.532842\n",
       "50%       31.319256\n",
       "75%      225.153386\n",
       "max      283.466362\n",
       "dtype: float64"
      ]
     },
     "execution_count": 640,
     "metadata": {},
     "output_type": "execute_result"
    }
   ],
   "source": [
    "pd.Series(np.real(np.array(current_unitarity_scores))).describe()"
   ]
  },
  {
   "cell_type": "code",
   "execution_count": 641,
   "id": "df5c1101-cbbd-401d-ab96-10b7d935bddc",
   "metadata": {},
   "outputs": [
    {
     "data": {
      "text/plain": [
       "count    500.000000\n",
       "mean       0.860389\n",
       "std        0.316202\n",
       "min        0.002322\n",
       "25%        0.933955\n",
       "50%        0.993191\n",
       "75%        1.020877\n",
       "max        1.060720\n",
       "dtype: float64"
      ]
     },
     "execution_count": 641,
     "metadata": {},
     "output_type": "execute_result"
    }
   ],
   "source": [
    "pd.Series(np.real(np.array(current_overlap_scores))).describe()"
   ]
  },
  {
   "cell_type": "markdown",
   "id": "0cdaf79e-4fae-4229-afb6-14e900f16a46",
   "metadata": {},
   "source": [
    "Random initialization can have a big impact on performance, along with selecting the right number of sites."
   ]
  },
  {
   "cell_type": "markdown",
   "id": "aed49dc6-c6b7-40c4-a5b7-e250bdfce9b0",
   "metadata": {},
   "source": [
    "# Conclusions\n",
    "* Appears to be working! Hyperparameter dependent though..."
   ]
  }
 ],
 "metadata": {
  "kernelspec": {
   "display_name": "num_spt_venv_p11",
   "language": "python",
   "name": "num_spt_venv_p11"
  },
  "language_info": {
   "codemirror_mode": {
    "name": "ipython",
    "version": 3
   },
   "file_extension": ".py",
   "mimetype": "text/x-python",
   "name": "python",
   "nbconvert_exporter": "python",
   "pygments_lexer": "ipython3",
   "version": "3.11.9"
  }
 },
 "nbformat": 4,
 "nbformat_minor": 5
}
