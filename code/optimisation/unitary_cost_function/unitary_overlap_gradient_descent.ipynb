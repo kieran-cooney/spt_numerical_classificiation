{
 "cells": [
  {
   "cell_type": "markdown",
   "id": "ceb2d533-10d7-4b49-a17a-87c2e8e5934a",
   "metadata": {},
   "source": [
    "# Unitary cost function gradient descent\n",
    "\n",
    "Created 03/10/2024\n",
    "\n",
    "Objectives:\n",
    "* For a given MPS, apply symmetry action and optimise for full unitary (i.e. not an MPO) at the boundary of the symmetry action. Then extract phase.\n",
    "* When optimizing for the unitary and overlap costs, it's possible the optimal solution will not be unitary! How to resolve? Unitarity takes priority. But having a large unitarity step size can lead to divergences!\n",
    "    * Could address this by performing unitarity gradient descent multiple times without overlap gradient descent when near optimum. Has effect of enhancing unitarity cost."
   ]
  },
  {
   "cell_type": "markdown",
   "id": "7cb25441-e060-412c-9b9e-6d7856af206a",
   "metadata": {},
   "source": [
    "# Package imports"
   ]
  },
  {
   "cell_type": "code",
   "execution_count": 1,
   "id": "ecb41ea3-927f-4efa-aebe-ce15784aa037",
   "metadata": {},
   "outputs": [],
   "source": [
    "import sys\n",
    "sys.path.append('../../')"
   ]
  },
  {
   "cell_type": "code",
   "execution_count": 2,
   "id": "4a525ec6-f0c8-47ee-8b0b-345bf0ef8bd3",
   "metadata": {},
   "outputs": [],
   "source": [
    "import h5py\n",
    "from tenpy.tools import hdf5_io\n",
    "import tenpy\n",
    "import tenpy.linalg.np_conserved as npc\n",
    "\n",
    "import os"
   ]
  },
  {
   "cell_type": "code",
   "execution_count": 3,
   "id": "214f688a-c657-4810-b4d1-b1247deff62c",
   "metadata": {},
   "outputs": [],
   "source": [
    "import numpy as np\n",
    "import matplotlib.pyplot as plt"
   ]
  },
  {
   "cell_type": "code",
   "execution_count": 16,
   "id": "b8dec68d-a5b3-4383-ab44-567a9a5981b3",
   "metadata": {},
   "outputs": [],
   "source": [
    "from SPTOptimization.SymmetryActionWithBoundaryUnitaries import SymmetryActionWithBoundaryUnitaries\n",
    "\n",
    "from SPTOptimization.utils import to_npc_array"
   ]
  },
  {
   "cell_type": "code",
   "execution_count": 34,
   "id": "cebb84ba-c22c-4224-9e2b-775506029b3e",
   "metadata": {},
   "outputs": [],
   "source": [
    "import re"
   ]
  },
  {
   "cell_type": "markdown",
   "id": "545689ac-1fcd-4a2e-80c5-743ba61dbb47",
   "metadata": {},
   "source": [
    "# Load data"
   ]
  },
  {
   "cell_type": "code",
   "execution_count": 9,
   "id": "210d7dcc-b7ae-4f06-8429-84177bec47d3",
   "metadata": {},
   "outputs": [],
   "source": [
    "DATA_DIR = r\"../../data/transverse_cluster_200_site_dmrg\""
   ]
  },
  {
   "cell_type": "code",
   "execution_count": 10,
   "id": "52736de2-8178-4035-9861-2f17b8d972fc",
   "metadata": {},
   "outputs": [],
   "source": [
    "f_name = DATA_DIR + r\"/0_50.h5\""
   ]
  },
  {
   "cell_type": "code",
   "execution_count": 11,
   "id": "294bd63f-24bb-46d4-9716-76d74e82b013",
   "metadata": {},
   "outputs": [
    {
     "data": {
      "text/plain": [
       "'../../data/transverse_cluster_200_site_dmrg/0_50.h5'"
      ]
     },
     "execution_count": 11,
     "metadata": {},
     "output_type": "execute_result"
    }
   ],
   "source": [
    "f_name"
   ]
  },
  {
   "cell_type": "code",
   "execution_count": 12,
   "id": "68e653fc-625c-4010-ac8e-f7740131b8cc",
   "metadata": {},
   "outputs": [],
   "source": [
    "with h5py.File(f_name, 'r') as f:\n",
    "    data = hdf5_io.load_from_hdf5(f)\n",
    "    test_psi = data['wavefunction']"
   ]
  },
  {
   "cell_type": "markdown",
   "id": "956bc0bf-5542-493a-bb17-ff60679387a1",
   "metadata": {},
   "source": [
    "# Definitions"
   ]
  },
  {
   "cell_type": "code",
   "execution_count": 13,
   "id": "ab0c7f59-ae1d-40d6-969f-edb5c5b4f7d7",
   "metadata": {},
   "outputs": [],
   "source": [
    "NUM_SITES = 6"
   ]
  },
  {
   "cell_type": "code",
   "execution_count": 17,
   "id": "513d7288-c641-4071-a4a3-652787d1f98c",
   "metadata": {},
   "outputs": [],
   "source": [
    "np_I = np.array([[1,0],[0,1]])\n",
    "np_X = np.array([[0,1],[1,0]])\n",
    "np_Y = np.array([[0,-1j],[1j,0]])\n",
    "np_Z = np.array([[1,0],[0,-1]])"
   ]
  },
  {
   "cell_type": "code",
   "execution_count": 18,
   "id": "2a78a62e-37eb-4baf-98ba-d6a94d599bec",
   "metadata": {},
   "outputs": [],
   "source": [
    "npc_I = to_npc_array(np_I)\n",
    "npc_X = to_npc_array(np_X)\n",
    "npc_Y = to_npc_array(np_Y)\n",
    "npc_Z = to_npc_array(np_Z)"
   ]
  },
  {
   "cell_type": "code",
   "execution_count": 19,
   "id": "b9e2f954-c591-4479-ba37-32862c25c660",
   "metadata": {},
   "outputs": [],
   "source": [
    "symmetry_actions = [\n",
    "    [np_I, np_X],\n",
    "    [np_X, np_I],\n",
    "    [np_X, np_X]\n",
    "]"
   ]
  },
  {
   "cell_type": "code",
   "execution_count": 20,
   "id": "8a105a8b-f2e4-4467-b58e-f256288bfcf0",
   "metadata": {},
   "outputs": [],
   "source": [
    "cases = [\n",
    "    SymmetryActionWithBoundaryUnitaries(test_psi, a*50)\n",
    "    for a in symmetry_actions\n",
    "]"
   ]
  },
  {
   "cell_type": "code",
   "execution_count": 21,
   "id": "43ba0c8e-1446-4530-969a-54a08416ccac",
   "metadata": {},
   "outputs": [],
   "source": [
    "for c in cases:\n",
    "    c.compute_svd_symmetry_action()"
   ]
  },
  {
   "cell_type": "markdown",
   "id": "b116ba1c-8bbd-4278-89f1-d7172b836846",
   "metadata": {},
   "source": [
    "## Functions"
   ]
  },
  {
   "cell_type": "code",
   "execution_count": 35,
   "id": "86959723-16ca-49e9-9688-4228b620c1b8",
   "metadata": {},
   "outputs": [],
   "source": [
    "P_LEG_LABEL_REGEX_STRING = r\"^p\\d*$\"\n",
    "p_leg_pattern = re.compile(P_LEG_LABEL_REGEX_STRING)\n",
    "\n",
    "def is_single_physical_leg_label(label):\n",
    "    return bool(p_leg_pattern.match(label))"
   ]
  },
  {
   "cell_type": "code",
   "execution_count": 36,
   "id": "29d8003f-01c6-4575-abb3-8172dfb09fcc",
   "metadata": {},
   "outputs": [],
   "source": [
    "def is_grouped_physical_leg_label(leg_label):\n",
    "    head, *body, tail = leg_label\n",
    "    if (head != '(') or (tail != ')'):\n",
    "        return False\n",
    "\n",
    "    body = ''.join(body)\n",
    "    legs = body.split('.')\n",
    "\n",
    "    return all(is_single_physical_leg_label(l) for l in legs)"
   ]
  },
  {
   "cell_type": "code",
   "execution_count": 37,
   "id": "6b93c611-1b63-47b2-99a1-f6e2d72cc3b9",
   "metadata": {},
   "outputs": [],
   "source": [
    "def is_physical_leg_label(label):\n",
    "    out = (\n",
    "        is_single_physical_leg_label(label)\n",
    "        or is_grouped_physical_leg_label(label)\n",
    "    )\n",
    "\n",
    "    return out"
   ]
  },
  {
   "cell_type": "code",
   "execution_count": 38,
   "id": "6735cf31-f7ec-4488-91b0-88f6ab535730",
   "metadata": {},
   "outputs": [],
   "source": [
    "def extract_single_physical_leg_label_from_tensor(b):\n",
    "    out = next(\n",
    "        l for l in b.get_leg_labels()\n",
    "        if is_single_physical_leg_label(l)\n",
    "    )\n",
    "\n",
    "    return out"
   ]
  },
  {
   "cell_type": "code",
   "execution_count": 39,
   "id": "9cdb3295-995e-4161-a78c-df2ccce9a3b6",
   "metadata": {},
   "outputs": [],
   "source": [
    "def conjugate_single_physical_leg_label(label):\n",
    "    return label + '*'"
   ]
  },
  {
   "cell_type": "code",
   "execution_count": 40,
   "id": "52ee605f-f3d0-45b4-b796-1afe82b3877b",
   "metadata": {},
   "outputs": [],
   "source": [
    "def conjugate_grouped_physical_leg_label(label):\n",
    "    _, *body, _ = label\n",
    "    single_labels = ''.join(body).split('.')\n",
    "\n",
    "    conjugate_labels = [\n",
    "        conjugate_single_physical_leg_label(l)\n",
    "        for l in single_labels\n",
    "    ]\n",
    "\n",
    "    conjugate_body = '.'.join(conjugate_labels)\n",
    "    out = '(' + conjugate_body + ')'\n",
    "    \n",
    "    return out"
   ]
  },
  {
   "cell_type": "code",
   "execution_count": 41,
   "id": "53cee727-b4e7-4949-8311-e6c31bf11599",
   "metadata": {},
   "outputs": [],
   "source": [
    "def conjugate_leg_label(label):\n",
    "    if is_single_physical_leg_label(label):\n",
    "        return conjugate_single_physical_leg_label(label)\n",
    "    elif is_grouped_physical_leg_label(label):\n",
    "        return conjugate_grouped_physical_leg_label(label)\n",
    "    else:\n",
    "        raise ValueError"
   ]
  },
  {
   "cell_type": "code",
   "execution_count": 42,
   "id": "9d9130c2-a455-4f67-a371-f57810c17a2d",
   "metadata": {},
   "outputs": [],
   "source": [
    "def get_physical_leg_labels(t):\n",
    "    out = [\n",
    "        ll for ll in t.get_leg_labels()\n",
    "        if is_physical_leg_label(ll)\n",
    "    ]\n",
    "\n",
    "    return out"
   ]
  },
  {
   "cell_type": "code",
   "execution_count": 43,
   "id": "feaea859-aa93-4971-a766-ea3ecab718b8",
   "metadata": {},
   "outputs": [],
   "source": [
    "def get_identity_operator(mps_tensor):\n",
    "    p_leg_label = get_physical_leg_labels(mps_tensor)[0]\n",
    "    p_leg = mps_tensor.get_leg(p_leg_label)\n",
    "    p_leg_label_conj = conjugate_leg_label(p_leg_label)\n",
    "\n",
    "    out = npc.diag(\n",
    "        1,\n",
    "        leg=p_leg,\n",
    "        dtype='complex',\n",
    "        labels=[p_leg_label, p_leg_label_conj]\n",
    "    )\n",
    "\n",
    "    return out"
   ]
  },
  {
   "cell_type": "code",
   "execution_count": null,
   "id": "4b1fd7d0-ef51-4652-bd01-c1db3d01cdb0",
   "metadata": {},
   "outputs": [],
   "source": [
    "def initialise_unitary(num_sites):\n",
    "    "
   ]
  },
  {
   "cell_type": "markdown",
   "id": "8f87ee67-a227-423d-aeaa-726a88298ed7",
   "metadata": {},
   "source": [
    "# Initial code"
   ]
  },
  {
   "cell_type": "markdown",
   "id": "66893acd-0210-49ca-b4cb-696ae4caa5f9",
   "metadata": {},
   "source": [
    "To-do:\n",
    "* Initialize unitary\n",
    "* Extract reduced density matrix\n",
    "* Write functions to compute gradients\n",
    "* Test"
   ]
  },
  {
   "cell_type": "markdown",
   "id": "c7eeb5bf-9acf-405e-abe0-322c539f9bed",
   "metadata": {},
   "source": [
    "## Extract reduced density matrix"
   ]
  },
  {
   "cell_type": "code",
   "execution_count": 22,
   "id": "cad31383-83ea-4bba-b853-e4a150c0bc8f",
   "metadata": {},
   "outputs": [],
   "source": [
    "test_case = cases[1]"
   ]
  },
  {
   "cell_type": "code",
   "execution_count": 23,
   "id": "09b07ef4-1ccc-4efe-93cc-42422eb751d8",
   "metadata": {},
   "outputs": [],
   "source": [
    "left_environment = test_case.right_projected_symmetry_state"
   ]
  },
  {
   "cell_type": "code",
   "execution_count": 24,
   "id": "61076a70-843e-47ed-8597-f69a8bda62ce",
   "metadata": {},
   "outputs": [
    {
     "data": {
      "text/plain": [
       "<npc.Array shape=(8, 8) labels=['vR', 'vR*']>"
      ]
     },
     "execution_count": 24,
     "metadata": {},
     "output_type": "execute_result"
    }
   ],
   "source": [
    "left_environment"
   ]
  },
  {
   "cell_type": "code",
   "execution_count": 26,
   "id": "fbbf17ed-eb46-4c66-898b-140066e5767e",
   "metadata": {},
   "outputs": [
    {
     "data": {
      "text/plain": [
       "[(0, 10),\n",
       " (1, 11),\n",
       " (2, 12),\n",
       " (3, 13),\n",
       " (4, 14),\n",
       " (5, 15),\n",
       " (6, 16),\n",
       " (7, 17),\n",
       " (8, 18),\n",
       " (9, 19)]"
      ]
     },
     "execution_count": 26,
     "metadata": {},
     "output_type": "execute_result"
    }
   ],
   "source": [
    "list(enumerate(range(10, 20)))"
   ]
  },
  {
   "cell_type": "code",
   "execution_count": 27,
   "id": "7ecbe937-7b8c-403a-8ae6-e5e95f718d05",
   "metadata": {},
   "outputs": [],
   "source": [
    "bs = [\n",
    "    test_case.psi.get_B(i)\n",
    "    for i in range(\n",
    "        test_case.right_symmetry_index + 1,\n",
    "        test_case.right_symmetry_index + 1 + NUM_SITES\n",
    "    )\n",
    "]"
   ]
  },
  {
   "cell_type": "code",
   "execution_count": 28,
   "id": "7e2214b9-4a06-4395-a645-82087470ffc5",
   "metadata": {},
   "outputs": [
    {
     "data": {
      "text/plain": [
       "6"
      ]
     },
     "execution_count": 28,
     "metadata": {},
     "output_type": "execute_result"
    }
   ],
   "source": [
    "len(bs)"
   ]
  },
  {
   "cell_type": "code",
   "execution_count": 31,
   "id": "ed3bd6ee-a4f1-40ac-92c2-6a4ffad5f9fa",
   "metadata": {},
   "outputs": [],
   "source": [
    "t = left_environment\n",
    "\n",
    "for i, b in enumerate(bs):\n",
    "    b_current = b.replace_label('p', f'p{i}')\n",
    "\n",
    "    t = npc.tensordot(t, b_current, [['vR'], ['vL']])\n",
    "    t = npc.tensordot(t, b_current.conj(), [['vR*'], ['vL*']])\n",
    "\n",
    "t = npc.trace(t, 'vR', 'vR*')"
   ]
  },
  {
   "cell_type": "code",
   "execution_count": 32,
   "id": "b3868dda-8d62-46e0-a039-34affd925363",
   "metadata": {},
   "outputs": [
    {
     "data": {
      "text/plain": [
       "<npc.Array shape=(2, 2, 2, 2, 2, 2, 2, 2, 2, 2, 2, 2) labels=['p0', 'p0*', 'p1', 'p1*', 'p2', 'p2*', 'p3', 'p3*', 'p4', 'p4*', 'p5', 'p5*']>"
      ]
     },
     "execution_count": 32,
     "metadata": {},
     "output_type": "execute_result"
    }
   ],
   "source": [
    "t"
   ]
  },
  {
   "cell_type": "code",
   "execution_count": 46,
   "id": "2141949a-c930-4fa7-8e2d-368c34c70ea1",
   "metadata": {},
   "outputs": [],
   "source": [
    "leg_labels = [f'p{i}' for i in range(len(bs))]\n",
    "leg_conj_labels = [f'p{i}*' for i in range(len(bs))]"
   ]
  },
  {
   "cell_type": "code",
   "execution_count": 47,
   "id": "9fe05db8-d97f-4444-b013-ae2491667bb6",
   "metadata": {},
   "outputs": [],
   "source": [
    "grouped_t = t.combine_legs([leg_labels, leg_conj_labels])"
   ]
  },
  {
   "cell_type": "code",
   "execution_count": 48,
   "id": "b01023fa-12ac-4ce4-830e-7f5c39ac74f8",
   "metadata": {},
   "outputs": [
    {
     "data": {
      "text/plain": [
       "<npc.Array shape=(64, 64) labels=['(p0.p1.p2.p3.p4.p5)', '(p0*.p1*.p2*.p3*.p4*.p5*)']>"
      ]
     },
     "execution_count": 48,
     "metadata": {},
     "output_type": "execute_result"
    }
   ],
   "source": [
    "grouped_t"
   ]
  },
  {
   "cell_type": "code",
   "execution_count": 68,
   "id": "1aeb8953-6a65-4bd7-bb88-17e3babb7b7a",
   "metadata": {},
   "outputs": [],
   "source": [
    "matrix = get_identity_operator(grouped_t)"
   ]
  },
  {
   "cell_type": "code",
   "execution_count": 52,
   "id": "99469e16-0c10-4455-8b85-04a9b8ae9862",
   "metadata": {},
   "outputs": [
    {
     "data": {
      "text/plain": [
       "<npc.Array shape=(64, 64) labels=['(p0.p1.p2.p3.p4.p5)', '(p0*.p1*.p2*.p3*.p4*.p5*)']>"
      ]
     },
     "execution_count": 52,
     "metadata": {},
     "output_type": "execute_result"
    }
   ],
   "source": [
    "matrix"
   ]
  },
  {
   "cell_type": "code",
   "execution_count": 53,
   "id": "478f96a2-0fa5-4524-a7b2-7410ed8a8eac",
   "metadata": {},
   "outputs": [],
   "source": [
    "grouped_physical_leg_label = '(p0.p1.p2.p3.p4.p5)'\n",
    "grouped_physical_leg_conj_label = '(p0*.p1*.p2*.p3*.p4*.p5*)'"
   ]
  },
  {
   "cell_type": "code",
   "execution_count": 350,
   "id": "2abb0749-eceb-4eb9-8adb-74e08bff18fb",
   "metadata": {},
   "outputs": [],
   "source": [
    "def unitarity_gradient(matrix, grouped_physical_leg_label,\n",
    "                      grouped_physical_leg_conj_label):\n",
    "    # To-do: Optimise extraction of physical leg labels\n",
    "    def matrix_multiplication(m1, m2):\n",
    "        return npc.tensordot(\n",
    "            m1,\n",
    "            m2,\n",
    "            [\n",
    "                [grouped_physical_leg_label,],\n",
    "                [grouped_physical_leg_conj_label,]\n",
    "            ]\n",
    "        )\n",
    "    \n",
    "    t = matrix_multiplication(matrix, matrix.conj())\n",
    "    score_2 = npc.trace(\n",
    "        t,\n",
    "        grouped_physical_leg_label,\n",
    "        grouped_physical_leg_conj_label\n",
    "    )\n",
    "\n",
    "    t = matrix_multiplication(t, matrix)\n",
    "\n",
    "    score_4 = npc.tensordot(\n",
    "        t,\n",
    "        matrix.conj(),\n",
    "        [\n",
    "            [grouped_physical_leg_label, grouped_physical_leg_conj_label],\n",
    "            [grouped_physical_leg_conj_label, grouped_physical_leg_label]\n",
    "        ]\n",
    "    )\n",
    "\n",
    "    return (t - matrix, score_2, score_4)"
   ]
  },
  {
   "cell_type": "code",
   "execution_count": 300,
   "id": "bb727155-f175-495f-8949-d19d711cccba",
   "metadata": {},
   "outputs": [],
   "source": [
    "def overlap_gradient(matrix, reduced_density_matrix,\n",
    "                     grouped_physical_leg_label,\n",
    "                     grouped_physical_leg_conj_label,\n",
    "                     target=1): \n",
    "\n",
    "    overlap = npc.tensordot(\n",
    "        matrix,\n",
    "        reduced_density_matrix,\n",
    "        [\n",
    "            [grouped_physical_leg_label, grouped_physical_leg_conj_label],\n",
    "            [grouped_physical_leg_conj_label, grouped_physical_leg_label]\n",
    "        ]\n",
    "    )\n",
    "\n",
    "    scale = (2*overlap - target*overlap/(np.abs(overlap)))\n",
    "    gradient = scale*reduced_density_matrix.conj()\n",
    "\n",
    "    return (gradient, overlap)"
   ]
  },
  {
   "cell_type": "code",
   "execution_count": 414,
   "id": "42b2a613-312b-426e-85ca-92fc713003f2",
   "metadata": {},
   "outputs": [],
   "source": [
    "def update(matrix, reduced_density_matrix, unitarity_scores, overlap_scores,\n",
    "           target_scores, grouped_physical_leg_label,\n",
    "           grouped_physical_leg_conj_label, matrix_dim, unitarity_lr,\n",
    "           overlap_lr, target=1):\n",
    "\n",
    "    u_grad, u_score_2, u_score_4 = unitarity_gradient(\n",
    "        matrix, grouped_physical_leg_label, grouped_physical_leg_conj_label\n",
    "    )\n",
    "\n",
    "    u_score = u_score_4 - 2*u_score_2 + matrix_dim\n",
    "    unitarity_scores.append(u_score.real)\n",
    "\n",
    "    o_gradient, overlap = overlap_gradient(\n",
    "        matrix,\n",
    "        reduced_density_matrix,\n",
    "        grouped_physical_leg_label,\n",
    "        grouped_physical_leg_conj_label,\n",
    "        target=target\n",
    "    )\n",
    "\n",
    "    overlap_scores.append(np.abs(overlap))\n",
    "\n",
    "    target_score = (\n",
    "        overlap_lr*(target - np.abs(overlap))**2 +\n",
    "        (unitarity_lr/4.0)*u_score.real\n",
    "    )\n",
    "\n",
    "    target_scores.append(target_score)\n",
    "\n",
    "    gradient = unitarity_lr*u_grad + overlap_lr*o_gradient\n",
    "    matrix -= gradient"
   ]
  },
  {
   "cell_type": "markdown",
   "id": "33dd41c6-7776-456f-aafc-a04e16724548",
   "metadata": {},
   "source": [
    "## Testing"
   ]
  },
  {
   "cell_type": "code",
   "execution_count": 145,
   "id": "738ea380-3aed-4bd8-92a4-ba9bb58dbe35",
   "metadata": {},
   "outputs": [],
   "source": [
    "unitarity_scores = list()\n",
    "overlap_scores = list()\n",
    "matrix_dim = 2**6"
   ]
  },
  {
   "cell_type": "code",
   "execution_count": 146,
   "id": "b2b9ed83-667f-4e01-a890-e6f074c2992c",
   "metadata": {},
   "outputs": [],
   "source": [
    "reduced_density_matrix = grouped_t\n",
    "matrix = get_identity_operator(grouped_t)"
   ]
  },
  {
   "cell_type": "code",
   "execution_count": 147,
   "id": "009da3a7-c1b3-443e-b898-22c82e599cca",
   "metadata": {},
   "outputs": [],
   "source": [
    "update(\n",
    "    matrix,\n",
    "    reduced_density_matrix,\n",
    "    unitarity_scores,\n",
    "    overlap_scores,\n",
    "    grouped_physical_leg_label,\n",
    "    grouped_physical_leg_conj_label,\n",
    "    matrix_dim,\n",
    "    unitarity_lr=0.1,\n",
    "    overlap_lr=1\n",
    ")"
   ]
  },
  {
   "cell_type": "code",
   "execution_count": 148,
   "id": "86cf249d-9de7-4a16-950e-da88da458242",
   "metadata": {},
   "outputs": [
    {
     "data": {
      "text/plain": [
       "[0.0]"
      ]
     },
     "execution_count": 148,
     "metadata": {},
     "output_type": "execute_result"
    }
   ],
   "source": [
    "unitarity_scores"
   ]
  },
  {
   "cell_type": "code",
   "execution_count": 149,
   "id": "93c92f2e-25b7-4d95-9189-0b48d23e1d0f",
   "metadata": {},
   "outputs": [
    {
     "data": {
      "text/plain": [
       "[4.068655487521333e-08]"
      ]
     },
     "execution_count": 149,
     "metadata": {},
     "output_type": "execute_result"
    }
   ],
   "source": [
    "overlap_scores"
   ]
  },
  {
   "cell_type": "code",
   "execution_count": 150,
   "id": "3a864d8a-5878-4fa1-9200-a12ef8913bba",
   "metadata": {},
   "outputs": [],
   "source": [
    "for _ in range(100):\n",
    "    update(\n",
    "        matrix,\n",
    "        reduced_density_matrix,\n",
    "        unitarity_scores,\n",
    "        overlap_scores,\n",
    "        grouped_physical_leg_label,\n",
    "        grouped_physical_leg_conj_label,\n",
    "        matrix_dim,\n",
    "        unitarity_lr=0.001,\n",
    "        overlap_lr=0.001\n",
    "    )"
   ]
  },
  {
   "cell_type": "code",
   "execution_count": 151,
   "id": "ca5c9b8e-e4a5-4109-adb5-836de35eb195",
   "metadata": {},
   "outputs": [
    {
     "data": {
      "text/plain": [
       "[<matplotlib.lines.Line2D at 0x302f20690>]"
      ]
     },
     "execution_count": 151,
     "metadata": {},
     "output_type": "execute_result"
    },
    {
     "data": {
      "image/png": "[encoded data removed]",
      "text/plain": [
       "<Figure size 640x480 with 1 Axes>"
      ]
     },
     "metadata": {},
     "output_type": "display_data"
    }
   ],
   "source": [
    "plt.plot(unitarity_scores)"
   ]
  },
  {
   "cell_type": "code",
   "execution_count": 152,
   "id": "44685b2b-8101-4d63-89a4-acbf017a71df",
   "metadata": {},
   "outputs": [
    {
     "data": {
      "text/plain": [
       "1.5587969501706738"
      ]
     },
     "execution_count": 152,
     "metadata": {},
     "output_type": "execute_result"
    }
   ],
   "source": [
    "unitarity_scores[-1]"
   ]
  },
  {
   "cell_type": "code",
   "execution_count": 153,
   "id": "b90f95aa-27b3-46c5-ba03-2ba6b989b6a2",
   "metadata": {},
   "outputs": [
    {
     "data": {
      "text/plain": [
       "[<matplotlib.lines.Line2D at 0x303418150>]"
      ]
     },
     "execution_count": 153,
     "metadata": {},
     "output_type": "execute_result"
    },
    {
     "data": {
      "image/png": "[encoded data removed]",
      "text/plain": [
       "<Figure size 640x480 with 1 Axes>"
      ]
     },
     "metadata": {},
     "output_type": "display_data"
    }
   ],
   "source": [
    "plt.plot(overlap_scores)"
   ]
  },
  {
   "cell_type": "code",
   "execution_count": 154,
   "id": "b52e1cda-43a7-40eb-a97b-f202306cb896",
   "metadata": {},
   "outputs": [
    {
     "data": {
      "text/plain": [
       "0.453744894374123"
      ]
     },
     "execution_count": 154,
     "metadata": {},
     "output_type": "execute_result"
    }
   ],
   "source": [
    "overlap_scores[-1]"
   ]
  },
  {
   "cell_type": "markdown",
   "id": "8c082819-e715-4643-8a2c-4b2ed0b43e58",
   "metadata": {},
   "source": [
    "## Test on scalars"
   ]
  },
  {
   "cell_type": "code",
   "execution_count": 415,
   "id": "e4ead540-b962-4344-9b8a-4c32233a1611",
   "metadata": {},
   "outputs": [],
   "source": [
    "scalar = 2*1j"
   ]
  },
  {
   "cell_type": "code",
   "execution_count": 416,
   "id": "8bf7ad42-e618-4310-aa2f-fb4229ad7bed",
   "metadata": {},
   "outputs": [],
   "source": [
    "scalar_rdm = npc.Array.from_ndarray_trivial(np.array([[scalar]]), labels=['p', 'p*'])"
   ]
  },
  {
   "cell_type": "code",
   "execution_count": 417,
   "id": "9a85fd3c-044d-4f32-858a-57d7dd2d1a83",
   "metadata": {},
   "outputs": [
    {
     "data": {
      "text/plain": [
       "<npc.Array shape=(1, 1) labels=['p', 'p*']>"
      ]
     },
     "execution_count": 417,
     "metadata": {},
     "output_type": "execute_result"
    }
   ],
   "source": [
    "scalar_rdm"
   ]
  },
  {
   "cell_type": "code",
   "execution_count": 418,
   "id": "d5e3b0b6-7524-46b7-83bd-0f672dab2018",
   "metadata": {},
   "outputs": [],
   "source": [
    "scalar_matrix = npc.Array.from_ndarray_trivial(np.array([[1]]), labels=['p', 'p*'])"
   ]
  },
  {
   "cell_type": "code",
   "execution_count": 419,
   "id": "bbbac184-7b60-44ab-993b-72843e43fe9b",
   "metadata": {},
   "outputs": [],
   "source": [
    "unitarity_scores = list()\n",
    "overlap_scores = list()\n",
    "target_scores = list()\n",
    "target = np.abs(scalar)\n",
    "matrix_dim = 1\n",
    "scalar_matrix_values = [scalar_matrix[0,0],]"
   ]
  },
  {
   "cell_type": "code",
   "execution_count": 420,
   "id": "d34fcc80-0e76-4d95-bef7-faa812a55536",
   "metadata": {},
   "outputs": [],
   "source": [
    "unitarity_lr = 0.01\n",
    "overlap_lr = 0.01"
   ]
  },
  {
   "cell_type": "code",
   "execution_count": 421,
   "id": "e0b6ab9c-f193-4b4b-b7e9-9d9c9b8aa86d",
   "metadata": {},
   "outputs": [],
   "source": [
    "update(\n",
    "    scalar_matrix,\n",
    "    scalar_rdm,\n",
    "    unitarity_scores,\n",
    "    overlap_scores,\n",
    "    target_scores,\n",
    "    'p',\n",
    "    'p*',\n",
    "    matrix_dim,\n",
    "    unitarity_lr=unitarity_lr,\n",
    "    overlap_lr=overlap_lr,\n",
    "    target=target\n",
    ")\n",
    "\n",
    "scalar_matrix_values.append(np.abs(scalar_matrix[0,0]))"
   ]
  },
  {
   "cell_type": "code",
   "execution_count": 422,
   "id": "ee051bdc-7469-4844-ac2f-344de45ccbb9",
   "metadata": {},
   "outputs": [
    {
     "data": {
      "text/plain": [
       "[0]"
      ]
     },
     "execution_count": 422,
     "metadata": {},
     "output_type": "execute_result"
    }
   ],
   "source": [
    "unitarity_scores"
   ]
  },
  {
   "cell_type": "code",
   "execution_count": 423,
   "id": "37977472-dfab-4849-84d0-534df3ae9b03",
   "metadata": {},
   "outputs": [
    {
     "data": {
      "text/plain": [
       "[2.0]"
      ]
     },
     "execution_count": 423,
     "metadata": {},
     "output_type": "execute_result"
    }
   ],
   "source": [
    "overlap_scores"
   ]
  },
  {
   "cell_type": "code",
   "execution_count": 424,
   "id": "7dbc84bc-6b20-4a2e-b4f8-6fa4076ff82f",
   "metadata": {},
   "outputs": [],
   "source": [
    "for _ in range(100):\n",
    "    update(\n",
    "        scalar_matrix,\n",
    "        scalar_rdm,\n",
    "        unitarity_scores,\n",
    "        overlap_scores,\n",
    "        target_scores,\n",
    "        'p',\n",
    "        'p*',\n",
    "        matrix_dim,\n",
    "        unitarity_lr=unitarity_lr,\n",
    "        overlap_lr=overlap_lr,\n",
    "        target=target\n",
    "    )\n",
    "\n",
    "    scalar_matrix_values.append(np.abs(scalar_matrix[0,0]))"
   ]
  },
  {
   "cell_type": "code",
   "execution_count": 425,
   "id": "cfed9f3a-386e-47dc-a022-e46364e1e7f9",
   "metadata": {},
   "outputs": [
    {
     "data": {
      "text/plain": [
       "[<matplotlib.lines.Line2D at 0x3044aaf90>]"
      ]
     },
     "execution_count": 425,
     "metadata": {},
     "output_type": "execute_result"
    },
    {
     "data": {
      "image/png": "[encoded data removed]",
      "text/plain": [
       "<Figure size 640x480 with 1 Axes>"
      ]
     },
     "metadata": {},
     "output_type": "display_data"
    }
   ],
   "source": [
    "plt.plot(unitarity_scores)"
   ]
  },
  {
   "cell_type": "code",
   "execution_count": 426,
   "id": "bf0d4ccf-a048-48fa-9ea0-8bae82161ba7",
   "metadata": {},
   "outputs": [
    {
     "data": {
      "text/plain": [
       "0.4895190440719632"
      ]
     },
     "execution_count": 426,
     "metadata": {},
     "output_type": "execute_result"
    }
   ],
   "source": [
    "unitarity_scores[-1]"
   ]
  },
  {
   "cell_type": "code",
   "execution_count": 427,
   "id": "d6424f73-a29a-4c07-be07-c7db4b17f39e",
   "metadata": {},
   "outputs": [
    {
     "data": {
      "text/plain": [
       "[<matplotlib.lines.Line2D at 0x3045f5790>]"
      ]
     },
     "execution_count": 427,
     "metadata": {},
     "output_type": "execute_result"
    },
    {
     "data": {
      "image/png": "[encoded data removed]",
      "text/plain": [
       "<Figure size 640x480 with 1 Axes>"
      ]
     },
     "metadata": {},
     "output_type": "display_data"
    }
   ],
   "source": [
    "plt.plot(overlap_scores)"
   ]
  },
  {
   "cell_type": "code",
   "execution_count": 428,
   "id": "a509c20f-5e6c-4767-830d-085ed4057f19",
   "metadata": {},
   "outputs": [
    {
     "data": {
      "text/plain": [
       "1.0960723047131118"
      ]
     },
     "execution_count": 428,
     "metadata": {},
     "output_type": "execute_result"
    }
   ],
   "source": [
    "overlap_scores[-1]"
   ]
  },
  {
   "cell_type": "code",
   "execution_count": 429,
   "id": "60d9761f-eb3c-4c88-8a16-67df9aff8811",
   "metadata": {},
   "outputs": [
    {
     "data": {
      "text/plain": [
       "[<matplotlib.lines.Line2D at 0x30461f110>]"
      ]
     },
     "execution_count": 429,
     "metadata": {},
     "output_type": "execute_result"
    },
    {
     "data": {
      "image/png": "[encoded data removed]",
      "text/plain": [
       "<Figure size 640x480 with 1 Axes>"
      ]
     },
     "metadata": {},
     "output_type": "display_data"
    }
   ],
   "source": [
    "plt.plot(scalar_matrix_values)"
   ]
  },
  {
   "cell_type": "code",
   "execution_count": 430,
   "id": "633d8021-d472-412f-9cd2-666f3df34316",
   "metadata": {},
   "outputs": [
    {
     "data": {
      "text/plain": [
       "array([[0.54802763+0.j]])"
      ]
     },
     "execution_count": 430,
     "metadata": {},
     "output_type": "execute_result"
    }
   ],
   "source": [
    "scalar_matrix.to_ndarray()"
   ]
  },
  {
   "cell_type": "code",
   "execution_count": 431,
   "id": "c2e22cb2-7a30-47a3-9e07-57eb3761e46f",
   "metadata": {},
   "outputs": [
    {
     "data": {
      "text/plain": [
       "[<matplotlib.lines.Line2D at 0x3046c5790>]"
      ]
     },
     "execution_count": 431,
     "metadata": {},
     "output_type": "execute_result"
    },
    {
     "data": {
      "image/png": "[encoded data removed]",
      "text/plain": [
       "<Figure size 640x480 with 1 Axes>"
      ]
     },
     "metadata": {},
     "output_type": "display_data"
    }
   ],
   "source": [
    "plt.plot(target_scores)"
   ]
  },
  {
   "cell_type": "markdown",
   "id": "baad7d75-0487-49a1-8bd3-d995d0877252",
   "metadata": {},
   "source": [
    "Debug this tomorrow!"
   ]
  }
 ],
 "metadata": {
  "kernelspec": {
   "display_name": "num_spt_venv_p11",
   "language": "python",
   "name": "num_spt_venv_p11"
  },
  "language_info": {
   "codemirror_mode": {
    "name": "ipython",
    "version": 3
   },
   "file_extension": ".py",
   "mimetype": "text/x-python",
   "name": "python",
   "nbconvert_exporter": "python",
   "pygments_lexer": "ipython3",
   "version": "3.11.9"
  }
 },
 "nbformat": 4,
 "nbformat_minor": 5
}
