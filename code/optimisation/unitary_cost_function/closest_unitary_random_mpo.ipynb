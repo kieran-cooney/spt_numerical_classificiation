{
 "cells": [
  {
   "cell_type": "markdown",
   "id": "9603afff-5204-44c1-92a2-6c7e09ad20f6",
   "metadata": {},
   "source": [
    "# Closest unitary random MPO\n",
    "\n",
    "Created 05/11/2024\n",
    "\n",
    "Objectives:\n",
    "* Sample MPO's randomly and check how close one can get to a unitary via a rescaling. We have an analytic formula for this."
   ]
  },
  {
   "cell_type": "markdown",
   "id": "9ad0db4d-805c-4403-9d48-c71d523d572f",
   "metadata": {},
   "source": [
    "# Package imports"
   ]
  },
  {
   "cell_type": "code",
   "execution_count": 1,
   "id": "ecb41ea3-927f-4efa-aebe-ce15784aa037",
   "metadata": {},
   "outputs": [],
   "source": [
    "import sys"
   ]
  },
  {
   "cell_type": "code",
   "execution_count": 2,
   "id": "0375bd38-12e1-417a-908a-13fb540081f5",
   "metadata": {},
   "outputs": [],
   "source": [
    "sys.path.append(\"../../\")"
   ]
  },
  {
   "cell_type": "code",
   "execution_count": 3,
   "id": "4a525ec6-f0c8-47ee-8b0b-345bf0ef8bd3",
   "metadata": {},
   "outputs": [],
   "source": [
    "import h5py\n",
    "from tenpy.tools import hdf5_io\n",
    "import tenpy\n",
    "import tenpy.linalg.np_conserved as npc\n",
    "\n",
    "import os"
   ]
  },
  {
   "cell_type": "code",
   "execution_count": 4,
   "id": "b22092ac-9191-4a2d-b568-8680c3687185",
   "metadata": {},
   "outputs": [],
   "source": [
    "from functools import reduce"
   ]
  },
  {
   "cell_type": "code",
   "execution_count": 78,
   "id": "214f688a-c657-4810-b4d1-b1247deff62c",
   "metadata": {},
   "outputs": [],
   "source": [
    "import numpy as np\n",
    "import pandas as pd\n",
    "rng = np.random.default_rng()\n",
    "import matplotlib.pyplot as plt"
   ]
  },
  {
   "cell_type": "code",
   "execution_count": 6,
   "id": "b7461fe3-41a3-492f-b018-8e32e27a7300",
   "metadata": {},
   "outputs": [],
   "source": [
    "import re"
   ]
  },
  {
   "cell_type": "code",
   "execution_count": 7,
   "id": "aeb48fbe-9ee7-4f88-9a91-b52643b95a4f",
   "metadata": {},
   "outputs": [],
   "source": [
    "from SPTOptimization.utils import (\n",
    "    get_right_identity_environment_from_tp_tensor,\n",
    "    to_npc_array\n",
    ")\n",
    "\n",
    "from SPTOptimization.SymmetryActionWithBoundaryUnitaries import SymmetryActionWithBoundaryUnitaries"
   ]
  },
  {
   "cell_type": "markdown",
   "id": "b4c1e616-c034-404b-b59e-196d1eaac475",
   "metadata": {},
   "source": [
    "# Definitons"
   ]
  },
  {
   "cell_type": "code",
   "execution_count": 8,
   "id": "c4de478c-a1d2-48a5-95e9-a1258f861404",
   "metadata": {},
   "outputs": [],
   "source": [
    "NUM_SITES=5\n",
    "BOND_DIMENSION=4\n",
    "PHYSICAL_DIMENSION=2\n",
    "LEARNING_RATE = 0.01"
   ]
  },
  {
   "cell_type": "code",
   "execution_count": 9,
   "id": "ac918d29-c8fa-4e25-ae73-e0880586fa57",
   "metadata": {},
   "outputs": [],
   "source": [
    "total_dimension = PHYSICAL_DIMENSION**NUM_SITES"
   ]
  },
  {
   "cell_type": "code",
   "execution_count": 10,
   "id": "6bac53fa-b629-46fc-a145-f932a0af6f18",
   "metadata": {},
   "outputs": [],
   "source": [
    "left_trivial_leg_charge = tenpy.linalg.charges.LegCharge(\n",
    "    tenpy.linalg.charges.ChargeInfo([], []),\n",
    "    [0,1],\n",
    "    [[]],\n",
    "    qconj=1\n",
    ")"
   ]
  },
  {
   "cell_type": "code",
   "execution_count": 11,
   "id": "44f34cb7-0888-474b-9483-f4956951fc31",
   "metadata": {},
   "outputs": [],
   "source": [
    "right_trivial_leg_charge = tenpy.linalg.charges.LegCharge(\n",
    "    tenpy.linalg.charges.ChargeInfo([], []),\n",
    "    [0,1],\n",
    "    [[]],\n",
    "    qconj=-1\n",
    ")"
   ]
  },
  {
   "cell_type": "code",
   "execution_count": 12,
   "id": "bbfc7cb3-f7f4-497d-9d09-25e27c479373",
   "metadata": {},
   "outputs": [],
   "source": [
    "def generate_random_w_tensor(dims):\n",
    "    x1 = np.random.rand(*dims)\n",
    "    x2 = 1j*np.random.rand(*dims)\n",
    "\n",
    "    return x1 + x2"
   ]
  },
  {
   "cell_type": "code",
   "execution_count": 13,
   "id": "cebfa38b-4fee-47eb-b71b-2916dba33f3e",
   "metadata": {},
   "outputs": [],
   "source": [
    "edge_dims = [PHYSICAL_DIMENSION,]*2 + [BOND_DIMENSION,]\n",
    "inner_dims = edge_dims + [BOND_DIMENSION,]"
   ]
  },
  {
   "cell_type": "code",
   "execution_count": 14,
   "id": "e9a4f858-bbae-4363-8c6d-cd02428b71eb",
   "metadata": {},
   "outputs": [],
   "source": [
    "w = generate_random_w_tensor(edge_dims)"
   ]
  },
  {
   "cell_type": "code",
   "execution_count": 15,
   "id": "2170f972-2a70-451a-b4e6-706c3f7dddbc",
   "metadata": {},
   "outputs": [],
   "source": [
    "w_tensor = npc.Array.from_ndarray_trivial(w, labels=['p', 'p*', 'vR'])"
   ]
  },
  {
   "cell_type": "code",
   "execution_count": 16,
   "id": "9d73d611-8153-42aa-8eed-177cf592bab2",
   "metadata": {},
   "outputs": [
    {
     "data": {
      "text/plain": [
       "<npc.Array shape=(2, 2, 4) labels=['p', 'p*', 'vR']>"
      ]
     },
     "execution_count": 16,
     "metadata": {},
     "output_type": "execute_result"
    }
   ],
   "source": [
    "w_tensor"
   ]
  },
  {
   "cell_type": "code",
   "execution_count": 17,
   "id": "90b199ce-741b-4bb9-bf36-6a6a0a3d3ea9",
   "metadata": {},
   "outputs": [],
   "source": [
    "w_tensors = [w_tensor,]"
   ]
  },
  {
   "cell_type": "code",
   "execution_count": 18,
   "id": "d7a7aaec-8063-49f9-b226-b4cc9aee6feb",
   "metadata": {},
   "outputs": [],
   "source": [
    "for _ in range(NUM_SITES-2):\n",
    "    w = generate_random_w_tensor(inner_dims)\n",
    "    w_tensor = npc.Array.from_ndarray_trivial(w, labels=['p', 'p*', 'vL', 'vR'])\n",
    "    \n",
    "    w_tensors.append(w_tensor)"
   ]
  },
  {
   "cell_type": "code",
   "execution_count": 19,
   "id": "ea4ac9e4-0753-4186-988c-01006ae36c24",
   "metadata": {},
   "outputs": [],
   "source": [
    "w = generate_random_w_tensor(edge_dims)"
   ]
  },
  {
   "cell_type": "code",
   "execution_count": 20,
   "id": "a1085c68-0fb1-4e2b-a1d5-54757bdc95e3",
   "metadata": {},
   "outputs": [],
   "source": [
    "w_tensor = npc.Array.from_ndarray_trivial(w, labels=['p', 'p*', 'vL'])"
   ]
  },
  {
   "cell_type": "code",
   "execution_count": 21,
   "id": "d7a5faef-2989-4520-9b55-daca27b4415d",
   "metadata": {},
   "outputs": [
    {
     "data": {
      "text/plain": [
       "<npc.Array shape=(2, 2, 4) labels=['p', 'p*', 'vL']>"
      ]
     },
     "execution_count": 21,
     "metadata": {},
     "output_type": "execute_result"
    }
   ],
   "source": [
    "w_tensor"
   ]
  },
  {
   "cell_type": "code",
   "execution_count": 22,
   "id": "8fa97083-a334-402e-9cb7-0552b356289b",
   "metadata": {},
   "outputs": [],
   "source": [
    "w_tensors.append(w_tensor)"
   ]
  },
  {
   "cell_type": "code",
   "execution_count": 23,
   "id": "53487878-218d-40a0-b336-02d38e074c33",
   "metadata": {},
   "outputs": [
    {
     "data": {
      "text/plain": [
       "[<npc.Array shape=(2, 2, 4) labels=['p', 'p*', 'vR']>,\n",
       " <npc.Array shape=(2, 2, 4, 4) labels=['p', 'p*', 'vL', 'vR']>,\n",
       " <npc.Array shape=(2, 2, 4, 4) labels=['p', 'p*', 'vL', 'vR']>,\n",
       " <npc.Array shape=(2, 2, 4, 4) labels=['p', 'p*', 'vL', 'vR']>,\n",
       " <npc.Array shape=(2, 2, 4) labels=['p', 'p*', 'vL']>]"
      ]
     },
     "execution_count": 23,
     "metadata": {},
     "output_type": "execute_result"
    }
   ],
   "source": [
    "w_tensors"
   ]
  },
  {
   "cell_type": "markdown",
   "id": "5ee06cdc-8577-460b-82cb-2110e47c931a",
   "metadata": {},
   "source": [
    "## Functions"
   ]
  },
  {
   "cell_type": "code",
   "execution_count": 28,
   "id": "f7500fa8-a1c6-45bf-949b-53a7526a5be9",
   "metadata": {},
   "outputs": [],
   "source": [
    "def get_physical_dim(tensor, p_label='p'):\n",
    "    index = tensor.get_leg_index(p_label)\n",
    "    dim = tensor.shape[index]\n",
    "    return dim"
   ]
  },
  {
   "cell_type": "code",
   "execution_count": 29,
   "id": "ba98ff84-8c5c-4f71-aa88-abbe2b839bff",
   "metadata": {},
   "outputs": [],
   "source": [
    "def mpo_frobenius_inner_product(mpo1_tensors, mpo2_tensors=None):\n",
    "    if mpo2_tensors is None:\n",
    "        mpo2_tensors = mpo1_tensors\n",
    "\n",
    "    w1 = mpo1_tensors[0]\n",
    "    dim = get_physical_dim(w1, p_label='p')\n",
    "    w2 = mpo2_tensors[0]\n",
    "\n",
    "    t = npc.tensordot(w1, w2.conj(), [['p', 'p*'], ['p*', 'p']])\n",
    "    #t /= dim\n",
    "\n",
    "    for w1, w2 in zip(mpo1_tensors[1:], mpo2_tensors[1:]):\n",
    "        dim = get_physical_dim(w1, p_label='p')\n",
    "\n",
    "        t = npc.tensordot(t, w1, [['vR', ], ['vL']])\n",
    "        t = npc.tensordot(t, w2.conj(), [['vR*', 'p', 'p*'], ['vL*', 'p*', 'p']])\n",
    "        #t /= dim\n",
    "\n",
    "    return t"
   ]
  },
  {
   "cell_type": "code",
   "execution_count": 30,
   "id": "2e202c02-6390-49eb-9b99-32147572b6fa",
   "metadata": {},
   "outputs": [],
   "source": [
    "def unitary_order_two_right_tensors(w_tensors):\n",
    "    out = list()\n",
    "\n",
    "    w = w_tensors[-1]\n",
    "    t = npc.tensordot(w, w.conj(), [['p', 'p*'], ['p*', 'p']])\n",
    "\n",
    "    out.append(t)\n",
    "\n",
    "    for w in w_tensors[-2:0:-1]:\n",
    "        t = npc.tensordot(t, w, [['vL',], ['vR']])\n",
    "        t = npc.tensordot(t, w.conj(), [['vL*', 'p', 'p*'], ['vR*', 'p*', 'p']])\n",
    "\n",
    "        out.append(t)\n",
    "\n",
    "    return out[::-1]"
   ]
  },
  {
   "cell_type": "code",
   "execution_count": 31,
   "id": "e12a7b85-584a-4b5c-8c12-039cc8752ca8",
   "metadata": {},
   "outputs": [],
   "source": [
    "def unitary_order_four_right_tensors(w_tensors):\n",
    "    out = list()\n",
    "\n",
    "    w = w_tensors[-1]\n",
    "    t = npc.tensordot(w, w.conj(), [['p',], ['p*',]])\n",
    "    t.ireplace_labels(['vL', 'vL*'], ['vL1', 'vL1*'])\n",
    "    t = npc.tensordot(t, w, [['p',], ['p*',]])\n",
    "    t = npc.tensordot(t, w.conj(), [['p', 'p*'], ['p*', 'p']])\n",
    "    \n",
    "    out.append(t)\n",
    "\n",
    "    for w in w_tensors[-2:0:-1]:\n",
    "        t = npc.tensordot(t, w, [['vL',], ['vR',]])\n",
    "        t = npc.tensordot(t, w.conj(), [['vL*', 'p'], ['vR*', 'p*']])\n",
    "\n",
    "        w = w.replace_label('vL', 'vL1')\n",
    "    \n",
    "        t = npc.tensordot(t, w, [['vL1', 'p',], ['vR', 'p*']])\n",
    "        t = npc.tensordot(t, w.conj(), [['vL1*', 'p', 'p*'], ['vR*', 'p*', 'p']])\n",
    "\n",
    "        out.append(t)\n",
    "\n",
    "    return out[::-1]"
   ]
  },
  {
   "cell_type": "code",
   "execution_count": 32,
   "id": "d63cf0b2-903d-482c-959c-d2c7b9dbc310",
   "metadata": {},
   "outputs": [
    {
     "data": {
      "text/plain": [
       "<npc.Array shape=(2, 2, 4) labels=['p*', 'p', 'vL*']>"
      ]
     },
     "execution_count": 32,
     "metadata": {},
     "output_type": "execute_result"
    }
   ],
   "source": [
    "w_tensors[-1].conj()"
   ]
  },
  {
   "cell_type": "code",
   "execution_count": 33,
   "id": "d16af878-4506-4fd0-8e37-92a6d7e1360d",
   "metadata": {},
   "outputs": [],
   "source": [
    "def overlap_right_tensors(w_tensors, b_tensors):\n",
    "    out = list()\n",
    "\n",
    "    t = get_right_identity_environment_from_tp_tensor(b_tensors[-1])\n",
    "\n",
    "    out.append(t)\n",
    "\n",
    "    b = b_tensors[-1]\n",
    "    w = w_tensors[-1]\n",
    "    \n",
    "    t = npc.tensordot(t, b, [['vL',], ['vR',]])\n",
    "    t = npc.tensordot(\n",
    "        t,\n",
    "        w.conj().replace_label('vL*', 'vLm'),\n",
    "        [['p',], ['p*',]]\n",
    "    )\n",
    "    t = npc.tensordot(t, b.conj(), [['p', 'vL*',], ['p*', 'vR*',]])\n",
    "\n",
    "    out.append(t)\n",
    "\n",
    "    for w, b in zip(w_tensors[-2:0:-1], b_tensors[-2:0:-1]):\n",
    "        t = npc.tensordot(t, b, [['vL',], ['vR',]])\n",
    "        t = npc.tensordot(\n",
    "            t,\n",
    "            w.conj().replace_label('vL*', 'vLm'),\n",
    "            [['p', 'vLm'], ['p*', 'vR*']]\n",
    "        )\n",
    "        t = npc.tensordot(t, b.conj(), [['p', 'vL*',], ['p*', 'vR*',]])\n",
    "    \n",
    "        out.append(t)\n",
    "\n",
    "    return out[::-1]"
   ]
  },
  {
   "cell_type": "markdown",
   "id": "3b1fda53-6670-4188-b86e-d2809f353b43",
   "metadata": {},
   "source": [
    "### Initialize tensors"
   ]
  },
  {
   "cell_type": "code",
   "execution_count": 34,
   "id": "6663e659-fb23-426d-afc6-70a00d2984d3",
   "metadata": {},
   "outputs": [],
   "source": [
    "def rescale_mpo_tensors(mpo_tensors, new_norm):\n",
    "    num_sites = len(mpo_tensors)\n",
    "\n",
    "    old_norm = mpo_frobenius_inner_product(mpo_tensors).real\n",
    "    \n",
    "    scale_factor = np.power(\n",
    "        new_norm/old_norm,\n",
    "        1/(2*num_sites)\n",
    "    )\n",
    "\n",
    "    for i in range(num_sites):\n",
    "        mpo_tensors[i] = scale_factor*mpo_tensors[i]"
   ]
  },
  {
   "cell_type": "code",
   "execution_count": 35,
   "id": "4c09d507-0f5d-486e-bb5e-22f8d35a9fc3",
   "metadata": {},
   "outputs": [],
   "source": [
    "def generate_random_w_tensor(physical_dim, left_virtual_dim=None,\n",
    "                             right_virtual_dim=None):\n",
    "\n",
    "    if (left_virtual_dim is None) and (right_virtual_dim is None):\n",
    "        dims = (physical_dim, physical_dim)\n",
    "    elif (left_virtual_dim is None):\n",
    "        dims = (physical_dim, physical_dim, right_virtual_dim)\n",
    "    elif (right_virtual_dim is None):\n",
    "        dims = (physical_dim, physical_dim, left_virtual_dim)\n",
    "    else: \n",
    "        dims = (\n",
    "            physical_dim,\n",
    "            physical_dim,\n",
    "            left_virtual_dim,\n",
    "            right_virtual_dim\n",
    "        )\n",
    "    \n",
    "    X1 = rng.normal(size=dims)\n",
    "    X2 = 1j*rng.normal(size=dims)\n",
    "    X = X1 + X2\n",
    "\n",
    "        \n",
    "    if (left_virtual_dim is None) and (right_virtual_dim is None):\n",
    "        out = npc.Array.from_ndarray_trivial(X, labels=['p', 'p*'])\n",
    "    elif right_virtual_dim is None:\n",
    "        out = npc.Array.from_ndarray_trivial(X, labels=['p', 'p*', 'vL'])\n",
    "    elif left_virtual_dim is None:\n",
    "        out = npc.Array.from_ndarray_trivial(X, labels=['p', 'p*', 'vR'])\n",
    "    else:\n",
    "        out = npc.Array.from_ndarray_trivial(\n",
    "            X,\n",
    "            labels=['p', 'p*', 'vL', 'vR']\n",
    "        )\n",
    "\n",
    "    return out"
   ]
  },
  {
   "cell_type": "code",
   "execution_count": 36,
   "id": "e779de84-d12b-4de3-b9d8-004bdf6e47bd",
   "metadata": {},
   "outputs": [],
   "source": [
    "def get_random_mpo_tensors(num_sites, norm=None):\n",
    "    \"\"\"\n",
    "    Needs more arguments\n",
    "    \"\"\"\n",
    "\n",
    "    w = generate_random_w_tensor(edge_dims)\n",
    "    w_tensor = npc.Array.from_ndarray_trivial(\n",
    "        w,\n",
    "        labels=['p', 'p*', 'vR']\n",
    "    )\n",
    "\n",
    "    w_tensors = [w_tensor,]\n",
    "\n",
    "    for _ in range(num_sites-2):\n",
    "        w = generate_random_w_tensor(inner_dims)\n",
    "        w_tensor = npc.Array.from_ndarray_trivial(w, labels=['p', 'p*', 'vL', 'vR'])\n",
    "        \n",
    "        w_tensors.append(w_tensor)\n",
    "\n",
    "    w = generate_random_w_tensor(edge_dims)\n",
    "    w_tensor = npc.Array.from_ndarray_trivial(\n",
    "        w,\n",
    "        labels=['p', 'p*', 'vL']\n",
    "    )\n",
    "    w_tensors.append(w_tensor)\n",
    "\n",
    "    if norm is not None:\n",
    "        rescale_mpo_tensors(w_tensors, norm)\n",
    "\n",
    "    return w_tensors"
   ]
  },
  {
   "cell_type": "code",
   "execution_count": 37,
   "id": "3ffba566-177e-46a4-bb02-953f6a6c8250",
   "metadata": {},
   "outputs": [],
   "source": [
    "def get_identity_w_tensor(physical_dim, left_virtual_dim=None, right_virtual_dim=None):\n",
    "    diagonal = np.ones(physical_dim, dtype='complex')\n",
    "    identity_matrix = np.diag(diagonal)\n",
    "    \n",
    "    if (left_virtual_dim is None) and (right_virtual_dim is None):\n",
    "        w_tensor = npc.Array.from_ndarray_trivial(\n",
    "            identity_matrix,\n",
    "            labels=['p', 'p*']\n",
    "        )\n",
    "    elif right_virtual_dim is None:\n",
    "        X = np.zeros(\n",
    "            (physical_dim, physical_dim, left_virtual_dim),\n",
    "            dtype='complex'\n",
    "        )\n",
    "        X[...,0] = identity_matrix\n",
    "        w_tensor = npc.Array.from_ndarray_trivial(\n",
    "            X,\n",
    "            labels=['p', 'p*', 'vL']\n",
    "        )\n",
    "    elif left_virtual_dim is None:\n",
    "        X = np.zeros(\n",
    "            (physical_dim, physical_dim, right_virtual_dim),\n",
    "            dtype='complex'\n",
    "        )\n",
    "        X[...,0] = identity_matrix\n",
    "        w_tensor = npc.Array.from_ndarray_trivial(\n",
    "            X,\n",
    "            labels=['p', 'p*', 'vR']\n",
    "        )\n",
    "    else:\n",
    "        X = np.zeros(\n",
    "            (physical_dim, physical_dim, left_virtual_dim, right_virtual_dim),\n",
    "            dtype='complex'\n",
    "        )\n",
    "        X[...,0,0] = identity_matrix\n",
    "        w_tensor = npc.Array.from_ndarray_trivial(\n",
    "            X,\n",
    "            labels=['p', 'p*', 'vL', 'vR']\n",
    "        )\n",
    "\n",
    "    return w_tensor"
   ]
  },
  {
   "cell_type": "code",
   "execution_count": 38,
   "id": "0e11bd70-f8d2-4254-870c-75620f9da400",
   "metadata": {},
   "outputs": [],
   "source": [
    "def get_random_mpo_tensors(physical_dims, virtual_dims):\n",
    "    \"\"\"\n",
    "    Could fold in with get_identity_mpo_tensors\n",
    "    \"\"\"\n",
    "\n",
    "    w_tensors = [\n",
    "        generate_random_w_tensor(p_dim, *v_dims)\n",
    "        for p_dim, v_dims in zip(physical_dims, virtual_dims)\n",
    "    ]\n",
    "\n",
    "    return w_tensors"
   ]
  },
  {
   "cell_type": "code",
   "execution_count": 39,
   "id": "416a67d2-bf88-4655-8ffb-c7d7e0afff98",
   "metadata": {},
   "outputs": [],
   "source": [
    "def get_identity_mpo_tensors(physical_dims, virtual_dims):\n",
    "    \"\"\"\n",
    "    Needs more comments, docs!\n",
    "\n",
    "    Often physical dims, virtual dims will be the same, so could add\n",
    "    optional behaviour...\n",
    "    \"\"\"\n",
    "\n",
    "    w_tensors = [\n",
    "        get_identity_w_tensor(p_dim, *v_dims)\n",
    "        for p_dim, v_dims in zip(physical_dims, virtual_dims)\n",
    "    ]\n",
    "\n",
    "    return w_tensors"
   ]
  },
  {
   "cell_type": "markdown",
   "id": "c2919303-4883-4327-9b56-743be48ebb53",
   "metadata": {},
   "source": [
    "### Sweep function"
   ]
  },
  {
   "cell_type": "code",
   "execution_count": 40,
   "id": "aa8f1c2b-a2fe-4851-b802-2418f619ce7e",
   "metadata": {},
   "outputs": [],
   "source": [
    "def get_mpo_score(raw_gradient_mpo_tensor, gradient_target_tensor,\n",
    "                  virtual_legs=[['vL*', 'vR*',], ['vR*', 'vL*',]]):\n",
    "    # Calculate \"score\" (just the contraction of the two relevant tensors)\n",
    "    # and add to score_list\n",
    "    raw_legs, target_legs = virtual_legs\n",
    "\n",
    "    score = npc.tensordot(\n",
    "        raw_gradient_mpo_tensor,\n",
    "        gradient_target_tensor.conj(),\n",
    "        [['p', 'p*', *raw_legs], ['p*', 'p', *target_legs]]\n",
    "    )\n",
    "\n",
    "    return score.real"
   ]
  },
  {
   "cell_type": "code",
   "execution_count": 63,
   "id": "8573374e-bd4e-4736-86e3-dedf38aaff7c",
   "metadata": {},
   "outputs": [],
   "source": [
    "def get_unitary_scores(mpo_tensors, matrix_dim):\n",
    "    right_unitary_two_tensors = unitary_order_two_right_tensors(mpo_tensors)\n",
    "    right_unitary_four_tensors = unitary_order_four_right_tensors(mpo_tensors)\n",
    "\n",
    "    w = mpo_tensors[0]\n",
    "    t = right_unitary_two_tensors[0]\n",
    "\n",
    "    grad_2 = npc.tensordot(t, w, [['vL'], ['vR',]])\n",
    "\n",
    "    score_2 = get_mpo_score(grad_2, w, [['vL*',], ['vR*',]])\n",
    "\n",
    "    # Fourth order terms\n",
    "    t = right_unitary_four_tensors[0]\n",
    "    grad_4 = npc.tensordot(t, w, [['vL'], ['vR',]])\n",
    "    grad_4 = npc.tensordot(grad_4, w.conj(), [['vL*', 'p'], ['vR*', 'p*']])\n",
    "    grad_4 = npc.tensordot(grad_4, w, [['vL1', 'p'], ['vR', 'p*']])\n",
    "\n",
    "    score_4 = get_mpo_score(grad_4, w, [['vL1*',], ['vR*',]])\n",
    "\n",
    "    unitarity_score = score_4 - 2*score_2 + matrix_dim\n",
    "    min_score = 1 - (score_2**2)/(score_4*matrix_dim)\n",
    "\n",
    "    return (min_score, unitarity_score, score_4, score_2, matrix_dim)"
   ]
  },
  {
   "cell_type": "code",
   "execution_count": 46,
   "id": "1a8b9251-44db-4ef2-80ad-db74402a94b4",
   "metadata": {},
   "outputs": [],
   "source": [
    "def unitarity_error_from_subscores(order_two_score, order_four_score, dimension):\n",
    "    return order_four_score - 2*order_two_score + dimension"
   ]
  },
  {
   "cell_type": "code",
   "execution_count": 47,
   "id": "b2ddc829-2e4b-4aa9-9711-b76244621c37",
   "metadata": {},
   "outputs": [],
   "source": [
    "def unitarity_errors_from_subscores(order_two_scores, order_four_scores,\n",
    "                                    dimension):\n",
    "    out = [\n",
    "        unitarity_error_from_subscores(o2, o4, dimension)\n",
    "        for o2, o4 in zip(order_two_scores, order_four_scores)\n",
    "    ]\n",
    "    \n",
    "    return out"
   ]
  },
  {
   "cell_type": "markdown",
   "id": "6609a3ee-0f68-4216-94ec-1ec4bfe0abb9",
   "metadata": {},
   "source": [
    "# Test"
   ]
  },
  {
   "cell_type": "markdown",
   "id": "4b3b03c6-c5ae-4bee-a25d-3b7f9000802a",
   "metadata": {},
   "source": [
    "## Identity test"
   ]
  },
  {
   "cell_type": "code",
   "execution_count": 64,
   "id": "876e8b31-6018-413b-b011-bc3466fb382b",
   "metadata": {},
   "outputs": [],
   "source": [
    "num_sites = 2"
   ]
  },
  {
   "cell_type": "code",
   "execution_count": 65,
   "id": "76012b45-c3f5-4801-b3ce-662b22675bef",
   "metadata": {},
   "outputs": [],
   "source": [
    "total_dimension = 2**num_sites"
   ]
  },
  {
   "cell_type": "code",
   "execution_count": 66,
   "id": "3f5be5a0-08af-4dde-953e-c249af1948e2",
   "metadata": {},
   "outputs": [],
   "source": [
    "physical_dims = [2,]*num_sites\n",
    "virtual_dims = [(None, 1),] + [(1, None),]"
   ]
  },
  {
   "cell_type": "code",
   "execution_count": 67,
   "id": "fb5d7ca7-3ef3-4ba9-a089-61423c8bc13d",
   "metadata": {},
   "outputs": [],
   "source": [
    "X_1 = np.array([[[1,0],[0,-1]]])"
   ]
  },
  {
   "cell_type": "code",
   "execution_count": 68,
   "id": "1b8d5e56-dbd6-4658-9bfe-b6f3d8b3fae7",
   "metadata": {},
   "outputs": [
    {
     "data": {
      "text/plain": [
       "(1, 2, 2)"
      ]
     },
     "execution_count": 68,
     "metadata": {},
     "output_type": "execute_result"
    }
   ],
   "source": [
    "X_1.shape"
   ]
  },
  {
   "cell_type": "code",
   "execution_count": 69,
   "id": "8b6f85a7-7785-4bd2-abb2-abe17b134d33",
   "metadata": {},
   "outputs": [],
   "source": [
    "w_1 = npc.Array.from_ndarray_trivial(X_1, labels=['vR', 'p', 'p*'])"
   ]
  },
  {
   "cell_type": "code",
   "execution_count": 70,
   "id": "2f745c4b-751c-46c8-9641-e15038e62307",
   "metadata": {},
   "outputs": [],
   "source": [
    "w_2 = get_identity_w_tensor(2, left_virtual_dim=1)"
   ]
  },
  {
   "cell_type": "code",
   "execution_count": 71,
   "id": "d681ed4f-bb7b-4b64-b558-88b83ea8cb3a",
   "metadata": {},
   "outputs": [],
   "source": [
    "w_tensors = [w_1, w_2]"
   ]
  },
  {
   "cell_type": "code",
   "execution_count": 72,
   "id": "0c8081c6-f10a-48ee-8e6a-3d973a327b37",
   "metadata": {},
   "outputs": [
    {
     "data": {
      "text/plain": [
       "(0.0, 0.0, 4.0, 4.0, 4)"
      ]
     },
     "execution_count": 72,
     "metadata": {},
     "output_type": "execute_result"
    }
   ],
   "source": [
    "get_unitary_scores(w_tensors, total_dimension)"
   ]
  },
  {
   "cell_type": "markdown",
   "id": "67d65a63-293b-4ca2-9cc1-1457d9a27e23",
   "metadata": {},
   "source": [
    "## Small sweep"
   ]
  },
  {
   "cell_type": "code",
   "execution_count": 73,
   "id": "5b5a2296-3328-41b5-acbe-535d5a6f84b9",
   "metadata": {},
   "outputs": [],
   "source": [
    "sample_size = 1000\n",
    "num_sites = 4\n",
    "total_dimension = 2**num_sites\n",
    "physical_dims = [2,]*num_sites\n",
    "bond_dimension = 4\n",
    "virtual_dims = [(None, 4),] + [(4,4)]*(num_sites - 2) + [(4, None),]"
   ]
  },
  {
   "cell_type": "code",
   "execution_count": 74,
   "id": "1d8a172f-7c47-4963-b4e7-6ee33dd272a8",
   "metadata": {},
   "outputs": [],
   "source": [
    "out = list()\n",
    "\n",
    "for _ in range(sample_size):\n",
    "    mpo_tensors = get_random_mpo_tensors(physical_dims, virtual_dims)\n",
    "    out.append(get_unitary_scores(mpo_tensors, total_dimension))"
   ]
  },
  {
   "cell_type": "code",
   "execution_count": 75,
   "id": "f5772fc4-ba54-40c9-840c-be81a4ae201b",
   "metadata": {},
   "outputs": [],
   "source": [
    "out_array = np.array(out)"
   ]
  },
  {
   "cell_type": "code",
   "execution_count": 76,
   "id": "681d375f-0bf7-4d43-a7ff-646b976a93e1",
   "metadata": {},
   "outputs": [
    {
     "data": {
      "text/plain": [
       "array([[5.99898754e-01, 2.84202256e+10, 2.84210787e+10, 4.26545360e+05,\n",
       "        1.60000000e+01],\n",
       "       [5.87670967e-01, 1.92329214e+09, 1.92351742e+09, 1.12649693e+05,\n",
       "        1.60000000e+01],\n",
       "       [7.13720668e-01, 1.08469248e+10, 1.08473706e+10, 2.22903674e+05,\n",
       "        1.60000000e+01],\n",
       "       ...,\n",
       "       [6.46001727e-01, 7.39689282e+09, 7.39730219e+09, 2.04690291e+05,\n",
       "        1.60000000e+01],\n",
       "       [7.53243056e-01, 2.40021629e+10, 2.40027786e+10, 3.07840278e+05,\n",
       "        1.60000000e+01],\n",
       "       [6.15685186e-01, 9.56521874e+09, 9.56570378e+09, 2.42528074e+05,\n",
       "        1.60000000e+01]])"
      ]
     },
     "execution_count": 76,
     "metadata": {},
     "output_type": "execute_result"
    }
   ],
   "source": [
    "out_array"
   ]
  },
  {
   "cell_type": "code",
   "execution_count": 79,
   "id": "63e0cacf-95dc-45e8-9d64-1aad365148aa",
   "metadata": {},
   "outputs": [
    {
     "data": {
      "text/plain": [
       "count    1000.000000\n",
       "mean        0.672097\n",
       "std         0.055037\n",
       "min         0.531214\n",
       "25%         0.632684\n",
       "50%         0.675836\n",
       "75%         0.710391\n",
       "max         0.837899\n",
       "dtype: float64"
      ]
     },
     "execution_count": 79,
     "metadata": {},
     "output_type": "execute_result"
    }
   ],
   "source": [
    "pd.Series(out_array[:,0]).describe()"
   ]
  },
  {
   "cell_type": "code",
   "execution_count": 80,
   "id": "d61decac-f64d-445b-a09d-392b8dec522c",
   "metadata": {},
   "outputs": [
    {
     "data": {
      "text/plain": [
       "(array([ 17.,  70., 123., 154., 207., 211., 135.,  59.,  16.,   8.]),\n",
       " array([0.53121373, 0.56188229, 0.59255086, 0.62321942, 0.65388798,\n",
       "        0.68455654, 0.7152251 , 0.74589367, 0.77656223, 0.80723079,\n",
       "        0.83789935]),\n",
       " <BarContainer object of 10 artists>)"
      ]
     },
     "execution_count": 80,
     "metadata": {},
     "output_type": "execute_result"
    },
    {
     "data": {
      "image/png": "[encoded data removed]",
      "text/plain": [
       "<Figure size 640x480 with 1 Axes>"
      ]
     },
     "metadata": {},
     "output_type": "display_data"
    }
   ],
   "source": [
    "plt.hist(out_array[:,0])"
   ]
  },
  {
   "cell_type": "code",
   "execution_count": 81,
   "id": "31f6ba7b-9607-4d77-8812-d498ae08bec6",
   "metadata": {},
   "outputs": [
    {
     "data": {
      "text/plain": [
       "count    1.000000e+03\n",
       "mean     1.558702e+10\n",
       "std      1.619199e+10\n",
       "min      4.703568e+08\n",
       "25%      5.380900e+09\n",
       "50%      1.057058e+10\n",
       "75%      1.848000e+10\n",
       "max      1.344801e+11\n",
       "dtype: float64"
      ]
     },
     "execution_count": 81,
     "metadata": {},
     "output_type": "execute_result"
    }
   ],
   "source": [
    "pd.Series(out_array[:,1]).describe()"
   ]
  },
  {
   "cell_type": "code",
   "execution_count": 82,
   "id": "6444189b-5712-47d0-8e02-ba1adc088dd1",
   "metadata": {},
   "outputs": [
    {
     "data": {
      "text/plain": [
       "(array([627., 229.,  67.,  38.,  18.,  11.,   7.,   0.,   1.,   2.]),\n",
       " array([4.70356753e+08, 1.38713300e+10, 2.72723033e+10, 4.06732766e+10,\n",
       "        5.40742498e+10, 6.74752231e+10, 8.08761964e+10, 9.42771697e+10,\n",
       "        1.07678143e+11, 1.21079116e+11, 1.34480089e+11]),\n",
       " <BarContainer object of 10 artists>)"
      ]
     },
     "execution_count": 82,
     "metadata": {},
     "output_type": "execute_result"
    },
    {
     "data": {
      "image/png": "[encoded data removed]",
      "text/plain": [
       "<Figure size 640x480 with 1 Axes>"
      ]
     },
     "metadata": {},
     "output_type": "display_data"
    }
   ],
   "source": [
    "plt.hist(out_array[:,1])"
   ]
  },
  {
   "cell_type": "markdown",
   "id": "a769b663-6896-4ce4-8666-1a4cb5109804",
   "metadata": {},
   "source": [
    "# Sweep"
   ]
  },
  {
   "cell_type": "code",
   "execution_count": 85,
   "id": "8c5b1c6a-7b89-4ac0-8a9b-1512982afb48",
   "metadata": {},
   "outputs": [],
   "source": [
    "bond_dimensions = list(range(1,6))\n",
    "num_sites = list(range(2, 21, 2))"
   ]
  },
  {
   "cell_type": "code",
   "execution_count": 86,
   "id": "5a8ea993-411a-4b1b-be74-0b3365bc64ef",
   "metadata": {},
   "outputs": [
    {
     "data": {
      "text/plain": [
       "50"
      ]
     },
     "execution_count": 86,
     "metadata": {},
     "output_type": "execute_result"
    }
   ],
   "source": [
    "len(num_sites)*len(bond_dimensions)"
   ]
  },
  {
   "cell_type": "code",
   "execution_count": 87,
   "id": "651b307c-55a8-467b-8308-af5501eb69f3",
   "metadata": {},
   "outputs": [],
   "source": [
    "sample_size = 500"
   ]
  },
  {
   "cell_type": "code",
   "execution_count": 92,
   "id": "56af7d1e-c3d5-4612-9743-a2f5c8f9f892",
   "metadata": {},
   "outputs": [
    {
     "name": "stdout",
     "output_type": "stream",
     "text": [
      "(2, 1)\n",
      "(2, 2)\n",
      "(2, 3)\n",
      "(2, 4)\n",
      "(2, 5)\n",
      "(4, 1)\n",
      "(4, 2)\n",
      "(4, 3)\n",
      "(4, 4)\n",
      "(4, 5)\n",
      "(6, 1)\n",
      "(6, 2)\n",
      "(6, 3)\n",
      "(6, 4)\n",
      "(6, 5)\n",
      "(8, 1)\n",
      "(8, 2)\n",
      "(8, 3)\n",
      "(8, 4)\n",
      "(8, 5)\n",
      "(10, 1)\n",
      "(10, 2)\n",
      "(10, 3)\n",
      "(10, 4)\n",
      "(10, 5)\n",
      "(12, 1)\n",
      "(12, 2)\n",
      "(12, 3)\n",
      "(12, 4)\n",
      "(12, 5)\n",
      "(14, 1)\n",
      "(14, 2)\n",
      "(14, 3)\n",
      "(14, 4)\n",
      "(14, 5)\n",
      "(16, 1)\n",
      "(16, 2)\n",
      "(16, 3)\n",
      "(16, 4)\n",
      "(16, 5)\n",
      "(18, 1)\n",
      "(18, 2)\n",
      "(18, 3)\n",
      "(18, 4)\n",
      "(18, 5)\n",
      "(20, 1)\n",
      "(20, 2)\n",
      "(20, 3)\n",
      "(20, 4)\n",
      "(20, 5)\n"
     ]
    }
   ],
   "source": [
    "out = list()\n",
    "\n",
    "for n in num_sites:\n",
    "    out.append(list())\n",
    "\n",
    "    total_dimension = 2**n\n",
    "    \n",
    "    for b in bond_dimensions:\n",
    "        print((n,b))\n",
    "\n",
    "        out[-1].append(list())\n",
    "        \n",
    "        \n",
    "        physical_dims = [2,]*n\n",
    "        virtual_dims = [(None, b),] + [(b,b)]*(n - 2) + [(b, None),]\n",
    "\n",
    "        for _ in range(sample_size):\n",
    "            mpo_tensors = get_random_mpo_tensors(physical_dims, virtual_dims)\n",
    "            out[-1][-1].append(get_unitary_scores(mpo_tensors, total_dimension))"
   ]
  },
  {
   "cell_type": "code",
   "execution_count": 93,
   "id": "bcf2703a-71ff-4670-bd30-56c16d8ae931",
   "metadata": {},
   "outputs": [],
   "source": [
    "out_array = np.array(out)"
   ]
  },
  {
   "cell_type": "code",
   "execution_count": 94,
   "id": "154fb49a-20c7-431d-8c70-fa03197fe1e6",
   "metadata": {},
   "outputs": [
    {
     "data": {
      "text/plain": [
       "(10, 5, 500, 5)"
      ]
     },
     "execution_count": 94,
     "metadata": {},
     "output_type": "execute_result"
    }
   ],
   "source": [
    "out_array.shape"
   ]
  },
  {
   "cell_type": "code",
   "execution_count": 95,
   "id": "61971651-9b73-4110-8a21-d693ebd5b993",
   "metadata": {},
   "outputs": [
    {
     "data": {
      "text/plain": [
       "array([[[0.70350297, 0.70553817, 0.66978099, ..., 0.48251303,\n",
       "         0.56731839, 0.54074444],\n",
       "        [0.58745181, 0.48396364, 0.71658094, ..., 0.66313308,\n",
       "         0.67071612, 0.65880656],\n",
       "        [0.55970465, 0.66479895, 0.42767414, ..., 0.47208698,\n",
       "         0.37329063, 0.59089246],\n",
       "        [0.40605033, 0.42767375, 0.59613621, ..., 0.52129911,\n",
       "         0.54200117, 0.50976518],\n",
       "        [0.35054426, 0.35649325, 0.63880633, ..., 0.5317601 ,\n",
       "         0.54892017, 0.57068054]],\n",
       "\n",
       "       [[0.8979764 , 0.70115097, 0.8758225 , ..., 0.84766074,\n",
       "         0.85369254, 0.86425113],\n",
       "        [0.84955696, 0.78828219, 0.86536251, ..., 0.73402074,\n",
       "         0.83112549, 0.70672851],\n",
       "        [0.68611566, 0.66350124, 0.62598498, ..., 0.63839679,\n",
       "         0.61093373, 0.81200178],\n",
       "        [0.67299763, 0.67061471, 0.63177418, ..., 0.74809789,\n",
       "         0.65766204, 0.60628644],\n",
       "        [0.62235625, 0.68286617, 0.59136461, ..., 0.66056349,\n",
       "         0.67879543, 0.69164445]],\n",
       "\n",
       "       [[0.88283265, 0.94983925, 0.94742644, ..., 0.91531464,\n",
       "         0.94615592, 0.95318183],\n",
       "        [0.86799216, 0.88462961, 0.90592285, ..., 0.84685263,\n",
       "         0.846147  , 0.9006175 ],\n",
       "        [0.83749656, 0.87325449, 0.81506037, ..., 0.83842936,\n",
       "         0.78020811, 0.78067466],\n",
       "        [0.78178829, 0.74665338, 0.82015411, ..., 0.74023041,\n",
       "         0.80865486, 0.72321989],\n",
       "        [0.75312344, 0.84126233, 0.77309914, ..., 0.78701495,\n",
       "         0.72177899, 0.75347177]],\n",
       "\n",
       "       ...,\n",
       "\n",
       "       [[0.99948522, 0.99957532, 0.99800187, ..., 0.99692602,\n",
       "         0.9993418 , 0.99943727],\n",
       "        [0.99663646, 0.98894445, 0.99421913, ..., 0.99802347,\n",
       "         0.99810096, 0.99263592],\n",
       "        [0.98283149, 0.98567233, 0.9746904 , ..., 0.98530618,\n",
       "         0.99173989, 0.98286907],\n",
       "        [0.97788575, 0.97450428, 0.96611324, ..., 0.95179958,\n",
       "         0.97404004, 0.96104185],\n",
       "        [0.94859499, 0.95368085, 0.94706243, ..., 0.93860774,\n",
       "         0.96768732, 0.96054988]],\n",
       "\n",
       "       [[0.9999042 , 0.99977586, 0.99983091, ..., 0.9995768 ,\n",
       "         0.99988782, 0.99950628],\n",
       "        [0.99591612, 0.99567625, 0.99568973, ..., 0.99685174,\n",
       "         0.99655924, 0.99867039],\n",
       "        [0.98690637, 0.99208643, 0.98845404, ..., 0.99597479,\n",
       "         0.98720282, 0.98924775],\n",
       "        [0.98491541, 0.99200571, 0.98126072, ..., 0.97948018,\n",
       "         0.98042091, 0.98663477],\n",
       "        [0.9662336 , 0.94961694, 0.96972417, ..., 0.97517085,\n",
       "         0.97195354, 0.97306796]],\n",
       "\n",
       "       [[0.99979022, 0.99979162, 0.99986326, ..., 0.99979768,\n",
       "         0.9998799 , 0.99973213],\n",
       "        [0.9988035 , 0.99908283, 0.99913186, ..., 0.99783727,\n",
       "         0.99854558, 0.99921479],\n",
       "        [0.99472647, 0.99405214, 0.99252193, ..., 0.99159976,\n",
       "         0.99358458, 0.99217167],\n",
       "        [0.99221663, 0.98486073, 0.9844626 , ..., 0.98846276,\n",
       "         0.98388063, 0.98260701],\n",
       "        [0.9832094 , 0.97450114, 0.97469762, ..., 0.98113563,\n",
       "         0.97790272, 0.98664162]]])"
      ]
     },
     "execution_count": 95,
     "metadata": {},
     "output_type": "execute_result"
    }
   ],
   "source": [
    "out_array[...,0]"
   ]
  },
  {
   "cell_type": "code",
   "execution_count": 97,
   "id": "8037362b-2ba9-4406-8dab-53b375d87ba4",
   "metadata": {},
   "outputs": [],
   "source": [
    "out_mins = np.min(out_array[...,0], axis=-1)"
   ]
  },
  {
   "cell_type": "code",
   "execution_count": 99,
   "id": "02a309d2-d5e9-4ce7-88bb-96cb7372d854",
   "metadata": {},
   "outputs": [
    {
     "data": {
      "text/plain": [
       "array([[0.16166591, 0.22299052, 0.21528336, 0.20098905, 0.26600067],\n",
       "       [0.4552387 , 0.46754571, 0.53434513, 0.52938804, 0.53002985],\n",
       "       [0.74121795, 0.74251851, 0.69492964, 0.66796893, 0.62841337],\n",
       "       [0.89401716, 0.84085029, 0.79567431, 0.77065871, 0.72571736],\n",
       "       [0.9321416 , 0.90655514, 0.86254363, 0.83652362, 0.80826689],\n",
       "       [0.97554631, 0.93067318, 0.91603866, 0.88284627, 0.86149928],\n",
       "       [0.98902123, 0.97042822, 0.94777087, 0.9186059 , 0.88553221],\n",
       "       [0.99344981, 0.97356536, 0.96351173, 0.94098612, 0.92347977],\n",
       "       [0.99796735, 0.989785  , 0.97669814, 0.96034957, 0.9393748 ],\n",
       "       [0.99891079, 0.991749  , 0.98765655, 0.97302728, 0.95905113]])"
      ]
     },
     "execution_count": 99,
     "metadata": {},
     "output_type": "execute_result"
    }
   ],
   "source": [
    "out_mins"
   ]
  },
  {
   "cell_type": "code",
   "execution_count": 100,
   "id": "e45af868-6218-4144-acee-5627693436ba",
   "metadata": {},
   "outputs": [],
   "source": [
    "out_means = np.mean(out_array[...,0], axis=-1)"
   ]
  },
  {
   "cell_type": "code",
   "execution_count": 101,
   "id": "9c305fb3-f29e-4798-8444-a51cf087be11",
   "metadata": {},
   "outputs": [
    {
     "data": {
      "text/plain": [
       "array([[0.58687435, 0.54040964, 0.5103405 , 0.50056361, 0.50134613],\n",
       "       [0.83251788, 0.75097214, 0.70769739, 0.67377499, 0.65338517],\n",
       "       [0.92811251, 0.86744514, 0.81899939, 0.78436892, 0.7480354 ],\n",
       "       [0.97106732, 0.93211626, 0.88630071, 0.85127924, 0.81980774],\n",
       "       [0.98744627, 0.96146256, 0.93188774, 0.89990997, 0.87082927],\n",
       "       [0.99499951, 0.97989115, 0.95732121, 0.93345854, 0.90727838],\n",
       "       [0.99788595, 0.98914535, 0.97339748, 0.95443909, 0.93356051],\n",
       "       [0.99916463, 0.99410456, 0.98377279, 0.96919837, 0.9524842 ],\n",
       "       [0.9996113 , 0.99679718, 0.99007228, 0.97930648, 0.96523413],\n",
       "       [0.99985981, 0.99827856, 0.99379353, 0.98604638, 0.97508189]])"
      ]
     },
     "execution_count": 101,
     "metadata": {},
     "output_type": "execute_result"
    }
   ],
   "source": [
    "out_means"
   ]
  },
  {
   "cell_type": "code",
   "execution_count": 102,
   "id": "5ecb190e-6eb7-4a49-9631-59971d4b1008",
   "metadata": {},
   "outputs": [],
   "source": [
    "out_vars = np.var(out_array[...,0], axis=-1)"
   ]
  },
  {
   "cell_type": "code",
   "execution_count": 103,
   "id": "4d7afe72-00b5-45dc-9900-40107c252ec5",
   "metadata": {},
   "outputs": [
    {
     "data": {
      "text/plain": [
       "array([[1.07795961e-02, 9.05949877e-03, 7.30512051e-03, 6.78235803e-03,\n",
       "        6.25364839e-03],\n",
       "       [3.96582464e-03, 4.01802452e-03, 3.35848715e-03, 2.85669993e-03,\n",
       "        2.62216537e-03],\n",
       "       [1.22196236e-03, 1.34391793e-03, 1.49412228e-03, 1.40037430e-03,\n",
       "        1.57993813e-03],\n",
       "       [2.40104548e-04, 4.68306351e-04, 6.34245667e-04, 8.18830462e-04,\n",
       "        8.74213328e-04],\n",
       "       [5.95365394e-05, 1.95547918e-04, 3.14050443e-04, 4.30673284e-04,\n",
       "        4.75140885e-04],\n",
       "       [9.81764722e-06, 6.01684391e-05, 1.37813604e-04, 2.35670234e-04,\n",
       "        2.74905906e-04],\n",
       "       [2.24632910e-06, 1.98600944e-05, 7.06829370e-05, 1.12440025e-04,\n",
       "        1.70257371e-04],\n",
       "       [4.19838985e-07, 7.42485890e-06, 2.71289063e-05, 5.59589516e-05,\n",
       "        8.91790815e-05],\n",
       "       [8.88782606e-08, 2.53532973e-06, 1.14536722e-05, 3.19244887e-05,\n",
       "        5.55836224e-05],\n",
       "       [1.49511519e-08, 8.24716838e-07, 4.31050959e-06, 1.43887103e-05,\n",
       "        2.90892534e-05]])"
      ]
     },
     "execution_count": 103,
     "metadata": {},
     "output_type": "execute_result"
    }
   ],
   "source": [
    "out_vars"
   ]
  },
  {
   "cell_type": "markdown",
   "id": "64555d53-3849-4f1a-8ebe-883fb9a4d237",
   "metadata": {},
   "source": [
    "# Conclusions\n",
    "* The score increeases strongly with the number of sites but seems to decrease slightly with bond dimension.\n",
    "* Basically never \"close\" to unitaries."
   ]
  }
 ],
 "metadata": {
  "kernelspec": {
   "display_name": "num_spt_venv_p11",
   "language": "python",
   "name": "num_spt_venv_p11"
  },
  "language_info": {
   "codemirror_mode": {
    "name": "ipython",
    "version": 3
   },
   "file_extension": ".py",
   "mimetype": "text/x-python",
   "name": "python",
   "nbconvert_exporter": "python",
   "pygments_lexer": "ipython3",
   "version": "3.11.9"
  }
 },
 "nbformat": 4,
 "nbformat_minor": 5
}
