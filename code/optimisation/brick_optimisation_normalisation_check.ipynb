{
 "cells": [
  {
   "cell_type": "markdown",
   "id": "5f2205a4-2c74-4cf5-9ad1-9d65bd13bed2",
   "metadata": {},
   "source": [
    "# Brick optimisation normalisation check\n",
    "\n",
    "Created 22/08/2024\n",
    "\n",
    "Objectives:\n",
    "* Have reason to believe (from brick_optimisation_layer_automation) that the mps normalisation is decaying with each layer. Check and correct if needs be.\n",
    "* Will need to do something similar for the mpo w tensors as well as the mps b tensors."
   ]
  },
  {
   "cell_type": "markdown",
   "id": "9ad0db4d-805c-4403-9d48-c71d523d572f",
   "metadata": {},
   "source": [
    "# Package imports"
   ]
  },
  {
   "cell_type": "code",
   "execution_count": 1,
   "id": "ecb41ea3-927f-4efa-aebe-ce15784aa037",
   "metadata": {},
   "outputs": [],
   "source": [
    "import sys\n",
    "sys.path.append('../')"
   ]
  },
  {
   "cell_type": "code",
   "execution_count": 2,
   "id": "4a525ec6-f0c8-47ee-8b0b-345bf0ef8bd3",
   "metadata": {},
   "outputs": [],
   "source": [
    "import h5py\n",
    "from tenpy.tools import hdf5_io\n",
    "import tenpy\n",
    "import tenpy.linalg.np_conserved as npc\n",
    "\n",
    "import os"
   ]
  },
  {
   "cell_type": "code",
   "execution_count": 3,
   "id": "b22092ac-9191-4a2d-b568-8680c3687185",
   "metadata": {},
   "outputs": [],
   "source": [
    "from functools import reduce\n",
    "from operator import mul"
   ]
  },
  {
   "cell_type": "code",
   "execution_count": 4,
   "id": "214f688a-c657-4810-b4d1-b1247deff62c",
   "metadata": {},
   "outputs": [],
   "source": [
    "import numpy as np\n",
    "import matplotlib.pyplot as plt"
   ]
  },
  {
   "cell_type": "code",
   "execution_count": 5,
   "id": "b8dec68d-a5b3-4383-ab44-567a9a5981b3",
   "metadata": {},
   "outputs": [],
   "source": [
    "from SPTOptimization.SymmetryActionWithBoundaryUnitaries import SymmetryActionWithBoundaryUnitaries\n",
    "\n",
    "from SPTOptimization.Optimizers.OneSiteSolver import OneSiteSolver\n",
    "\n",
    "from SPTOptimization.utils import (\n",
    "    to_npc_array,\n",
    "    get_right_identity_environment,\n",
    "    multiply_transfer_matrices\n",
    ")\n",
    "\n",
    "from SPTOptimization.Optimizers.utils import (\n",
    "    one_site_optimization_sweep_right\n",
    ")"
   ]
  },
  {
   "cell_type": "code",
   "execution_count": 6,
   "id": "b7461fe3-41a3-492f-b018-8e32e27a7300",
   "metadata": {},
   "outputs": [],
   "source": [
    "import re"
   ]
  },
  {
   "cell_type": "markdown",
   "id": "c69a8a47-e298-4c4c-97f7-a6157da4e15f",
   "metadata": {},
   "source": [
    "# Load data"
   ]
  },
  {
   "cell_type": "code",
   "execution_count": 7,
   "id": "210d7dcc-b7ae-4f06-8429-84177bec47d3",
   "metadata": {},
   "outputs": [],
   "source": [
    "DATA_DIR = r\"../data/transverse_cluster_200_site_dmrg\""
   ]
  },
  {
   "cell_type": "code",
   "execution_count": 8,
   "id": "52736de2-8178-4035-9861-2f17b8d972fc",
   "metadata": {},
   "outputs": [],
   "source": [
    "f_name = DATA_DIR + r\"/0_90.h5\""
   ]
  },
  {
   "cell_type": "code",
   "execution_count": 9,
   "id": "294bd63f-24bb-46d4-9716-76d74e82b013",
   "metadata": {},
   "outputs": [
    {
     "data": {
      "text/plain": [
       "'../data/transverse_cluster_200_site_dmrg/0_90.h5'"
      ]
     },
     "execution_count": 9,
     "metadata": {},
     "output_type": "execute_result"
    }
   ],
   "source": [
    "f_name"
   ]
  },
  {
   "cell_type": "code",
   "execution_count": 10,
   "id": "68e653fc-625c-4010-ac8e-f7740131b8cc",
   "metadata": {},
   "outputs": [],
   "source": [
    "with h5py.File(f_name, 'r') as f:\n",
    "    data = hdf5_io.load_from_hdf5(f)\n",
    "    test_psi = data['wavefunction']"
   ]
  },
  {
   "cell_type": "markdown",
   "id": "b4c1e616-c034-404b-b59e-196d1eaac475",
   "metadata": {},
   "source": [
    "# Definitons"
   ]
  },
  {
   "cell_type": "code",
   "execution_count": 11,
   "id": "63506364-f535-4c0f-8c5f-8839c69f7b9d",
   "metadata": {},
   "outputs": [],
   "source": [
    "MAX_VIRTUAL_BOND_DIM = 8\n",
    "MAX_INTERMEDIATE_VIRTUAL_BOND_DIM = 2*MAX_VIRTUAL_BOND_DIM\n",
    "\n",
    "SVD_CUTOFF = 1e-3"
   ]
  },
  {
   "cell_type": "code",
   "execution_count": 12,
   "id": "513d7288-c641-4071-a4a3-652787d1f98c",
   "metadata": {},
   "outputs": [],
   "source": [
    "np_I = np.array([[1,0],[0,1]])\n",
    "np_X = np.array([[0,1],[1,0]])\n",
    "np_Y = np.array([[0,-1j],[1j,0]])\n",
    "np_Z = np.array([[1,0],[0,-1]])"
   ]
  },
  {
   "cell_type": "code",
   "execution_count": 13,
   "id": "2a78a62e-37eb-4baf-98ba-d6a94d599bec",
   "metadata": {},
   "outputs": [],
   "source": [
    "npc_I = to_npc_array(np_I)\n",
    "npc_X = to_npc_array(np_X)\n",
    "npc_Y = to_npc_array(np_Y)\n",
    "npc_Z = to_npc_array(np_Z)"
   ]
  },
  {
   "cell_type": "code",
   "execution_count": 14,
   "id": "83f57221-30e0-4de5-b117-a5f6fd32f6ae",
   "metadata": {},
   "outputs": [],
   "source": [
    "test = SymmetryActionWithBoundaryUnitaries(\n",
    "    test_psi,\n",
    "    [np_X, np_I]*50\n",
    ")"
   ]
  },
  {
   "cell_type": "code",
   "execution_count": 15,
   "id": "62e39a51-442f-4d7b-a183-7840570aeb27",
   "metadata": {},
   "outputs": [],
   "source": [
    "test.compute_svd_symmetry_action()"
   ]
  },
  {
   "cell_type": "code",
   "execution_count": 16,
   "id": "d9bcfc72-8623-49d1-ab56-1bf97614f173",
   "metadata": {},
   "outputs": [
    {
     "data": {
      "text/plain": [
       "<npc.Array shape=(8, 8) labels=['vR', 'vR*']>"
      ]
     },
     "execution_count": 16,
     "metadata": {},
     "output_type": "execute_result"
    }
   ],
   "source": [
    "test.right_projected_symmetry_state"
   ]
  },
  {
   "cell_type": "code",
   "execution_count": 17,
   "id": "bd489263-5d26-4c1f-8a79-275c932cc106",
   "metadata": {},
   "outputs": [
    {
     "data": {
      "text/plain": [
       "<npc.Array shape=(8, 8) labels=['vL', 'vL*']>"
      ]
     },
     "execution_count": 17,
     "metadata": {},
     "output_type": "execute_result"
    }
   ],
   "source": [
    "test.left_projected_symmetry_state"
   ]
  },
  {
   "cell_type": "code",
   "execution_count": 18,
   "id": "6bac53fa-b629-46fc-a145-f932a0af6f18",
   "metadata": {},
   "outputs": [],
   "source": [
    "left_trivial_leg_charge = tenpy.linalg.charges.LegCharge(\n",
    "    tenpy.linalg.charges.ChargeInfo([], []),\n",
    "    [0,1],\n",
    "    [[]],\n",
    "    qconj=1\n",
    ")"
   ]
  },
  {
   "cell_type": "code",
   "execution_count": 19,
   "id": "44f34cb7-0888-474b-9483-f4956951fc31",
   "metadata": {},
   "outputs": [],
   "source": [
    "right_trivial_leg_charge = tenpy.linalg.charges.LegCharge(\n",
    "    tenpy.linalg.charges.ChargeInfo([], []),\n",
    "    [0,1],\n",
    "    [[]],\n",
    "    qconj=-1\n",
    ")"
   ]
  },
  {
   "cell_type": "markdown",
   "id": "38c05308-5c2c-4c60-8eb5-7446af7f85d7",
   "metadata": {},
   "source": [
    "## Functions"
   ]
  },
  {
   "cell_type": "markdown",
   "id": "fbf28b75-1454-41f0-a17d-dd1d8891cb81",
   "metadata": {},
   "source": [
    "### Leg and label functions"
   ]
  },
  {
   "cell_type": "code",
   "execution_count": 20,
   "id": "0cc65d77-76f3-4159-b2e6-e0ab8429c271",
   "metadata": {},
   "outputs": [],
   "source": [
    "P_LEG_LABEL_REGEX_STRING = r\"^p\\d*$\"\n",
    "p_leg_pattern = re.compile(P_LEG_LABEL_REGEX_STRING)\n",
    "\n",
    "def is_single_physical_leg_label(label):\n",
    "    return bool(p_leg_pattern.match(label))"
   ]
  },
  {
   "cell_type": "code",
   "execution_count": 21,
   "id": "af651898-f853-4710-bfa7-2928d6bb8d55",
   "metadata": {},
   "outputs": [],
   "source": [
    "def is_grouped_physical_leg_label(leg_label):\n",
    "    head, *body, tail = leg_label\n",
    "    if (head != '(') or (tail != ')'):\n",
    "        return False\n",
    "\n",
    "    body = ''.join(body)\n",
    "    legs = body.split('.')\n",
    "\n",
    "    return all(is_single_physical_leg_label(l) for l in legs)"
   ]
  },
  {
   "cell_type": "code",
   "execution_count": 22,
   "id": "1b14fc57-4f21-432e-b2b9-6dcafc179ef2",
   "metadata": {},
   "outputs": [],
   "source": [
    "def is_physical_leg_label(label):\n",
    "    out = (\n",
    "        is_single_physical_leg_label(label)\n",
    "        or is_grouped_physical_leg_label(label)\n",
    "    )\n",
    "\n",
    "    return out"
   ]
  },
  {
   "cell_type": "code",
   "execution_count": 23,
   "id": "949e51b3-8bd1-409f-bb98-0a57d1c99888",
   "metadata": {},
   "outputs": [],
   "source": [
    "def extract_single_physical_leg_label_from_tensor(b):\n",
    "    out = next(\n",
    "        l for l in b.get_leg_labels()\n",
    "        if is_single_physical_leg_label(l)\n",
    "    )\n",
    "\n",
    "    return out"
   ]
  },
  {
   "cell_type": "code",
   "execution_count": 24,
   "id": "1d03a2c8-1e74-4a87-abec-67ec6857100c",
   "metadata": {},
   "outputs": [],
   "source": [
    "def conjugate_single_physical_leg_label(label):\n",
    "    return label + '*'"
   ]
  },
  {
   "cell_type": "code",
   "execution_count": 25,
   "id": "16f3235f-6efc-4739-8dae-a42093c12370",
   "metadata": {},
   "outputs": [],
   "source": [
    "def conjugate_grouped_physical_leg_label(label):\n",
    "    _, *body, _ = label\n",
    "    single_labels = ''.join(body).split('.')\n",
    "\n",
    "    conjugate_labels = [\n",
    "        conjugate_single_physical_leg_label(l)\n",
    "        for l in single_labels\n",
    "    ]\n",
    "\n",
    "    conjugate_body = '.'.join(conjugate_labels)\n",
    "    out = '(' + conjugate_body + ')'\n",
    "    \n",
    "    return out"
   ]
  },
  {
   "cell_type": "code",
   "execution_count": 26,
   "id": "8dab4c14-1fb5-4933-b68c-204cc96541c4",
   "metadata": {},
   "outputs": [],
   "source": [
    "def conjugate_leg_label(label):\n",
    "    if is_single_physical_leg_label(label):\n",
    "        return conjugate_single_physical_leg_label(label)\n",
    "    elif is_grouped_physical_leg_label(label):\n",
    "        return conjugate_grouped_physical_leg_label(label)\n",
    "    else:\n",
    "        raise ValueError"
   ]
  },
  {
   "cell_type": "code",
   "execution_count": 27,
   "id": "8e00e4ef-bb2b-4229-8e92-5e07ec9931b4",
   "metadata": {},
   "outputs": [],
   "source": [
    "def get_physical_leg_labels(t):\n",
    "    out = [\n",
    "        ll for ll in t.get_leg_labels()\n",
    "        if is_physical_leg_label(ll)\n",
    "    ]\n",
    "\n",
    "    return out"
   ]
  },
  {
   "cell_type": "markdown",
   "id": "818c2f27-1431-42a7-ab63-9d81972ed7e2",
   "metadata": {},
   "source": [
    "### Other"
   ]
  },
  {
   "cell_type": "code",
   "execution_count": 28,
   "id": "d2464abb-fd7e-469a-a7d4-e604e24e14bc",
   "metadata": {},
   "outputs": [],
   "source": [
    "def contract_virtual_legs(tl, tr):\n",
    "    return npc.tensordot(tl, tr, ['vR', 'vL'])"
   ]
  },
  {
   "cell_type": "code",
   "execution_count": 29,
   "id": "ac3f7a01-08a2-4937-8308-f12f637f38b6",
   "metadata": {},
   "outputs": [],
   "source": [
    "def combine_tensors(tensors):\n",
    "    out = reduce(contract_virtual_legs, tensors)\n",
    "\n",
    "    leg_labels = [\n",
    "        extract_single_physical_leg_label_from_tensor(t)\n",
    "        for t in tensors\n",
    "    ]\n",
    "\n",
    "    out = out.combine_legs(leg_labels)\n",
    "\n",
    "    return out"
   ]
  },
  {
   "cell_type": "code",
   "execution_count": 30,
   "id": "6b01c411-0a2a-499d-b220-b99e197ecbd8",
   "metadata": {},
   "outputs": [],
   "source": [
    "def combine_b_tensors(b_tensors):\n",
    "    renamed_tensors = [\n",
    "        b.replace_label('p', f'p{i}')\n",
    "        for i, b in enumerate(b_tensors)\n",
    "    ]\n",
    "\n",
    "    return combine_tensors(renamed_tensors)"
   ]
  },
  {
   "cell_type": "code",
   "execution_count": 31,
   "id": "41848361-7394-4eb5-8006-8ab618c0a274",
   "metadata": {},
   "outputs": [],
   "source": [
    "def get_identity_operator(mps_tensor):\n",
    "    p_leg_label = get_physical_leg_labels(mps_tensor)[0]\n",
    "    p_leg = mps_tensor.get_leg(p_leg_label)\n",
    "    p_leg_label_conj = conjugate_leg_label(p_leg_label)\n",
    "\n",
    "    out = npc.diag(\n",
    "        1,\n",
    "        leg=p_leg,\n",
    "        dtype='complex',\n",
    "        labels=[p_leg_label, p_leg_label_conj]\n",
    "    )\n",
    "\n",
    "    return out"
   ]
  },
  {
   "cell_type": "code",
   "execution_count": 32,
   "id": "0b0386d2-79d0-45ab-98ce-ead4ca433c30",
   "metadata": {},
   "outputs": [],
   "source": [
    "def svd_reduce_split_tensor(t, max_inner_dim=MAX_VIRTUAL_BOND_DIM,\n",
    "                           normalise=True, svd_cutoff=SVD_CUTOFF):\n",
    "    U, S, VH = npc.svd(\n",
    "        t,\n",
    "        compute_uv=True,\n",
    "        inner_labels=['vR', 'vL'],\n",
    "        cutoff=svd_cutoff\n",
    "    )\n",
    "\n",
    "    # Truncate tensors:\n",
    "    U = U[:, :max_inner_dim]\n",
    "    S = S[:max_inner_dim]\n",
    "    VH = VH[:max_inner_dim, :]\n",
    "\n",
    "    if normalise:\n",
    "        new_norm = np.sqrt(np.sum(S**2))\n",
    "        S = S/new_norm\n",
    "\n",
    "    \"\"\"\n",
    "    leg = VH.get_leg('vL')\n",
    "\n",
    "    schmidt_values = npc.diag(S, leg, labels=['vL', 'vR'])\n",
    "    \"\"\"\n",
    "\n",
    "    return U, S, VH"
   ]
  },
  {
   "cell_type": "markdown",
   "id": "6f9d1f47-0b07-4028-b861-a608c0460a66",
   "metadata": {},
   "source": [
    "To-do: \n",
    "* Update initalisation for schmidt values.\n",
    "* Update svd_reduce_split_tensor function to output schmidt values\n",
    "* Check if boundary conditions on compression change anything.\n",
    "* Implement compress sweep at each layer. (Ignore for now.)\n",
    "* For unitaries, just do same thing? Combine upper and lower legs...? But do we need to normalise in that case...\n",
    "    * Nees further investigation. Check out transfer matrices and their trace."
   ]
  },
  {
   "cell_type": "code",
   "execution_count": 33,
   "id": "d2523496-e338-46ef-a2e2-5a8e8dbcba5f",
   "metadata": {},
   "outputs": [],
   "source": [
    "def split_combined_b(b, leftmost_schmidt_values,\n",
    "                     max_virtual_bond_dim=MAX_INTERMEDIATE_VIRTUAL_BOND_DIM,\n",
    "                     p_leg_labels=None):\n",
    "    t = b.split_legs()\n",
    "\n",
    "    num_sites = t.ndim - 2\n",
    "\n",
    "    if p_leg_labels is None:\n",
    "        p_leg_labels = [f'p{i}' for i in range(num_sites)]\n",
    "\n",
    "    out_bs = list()\n",
    "    out_schmidt_values = list()\n",
    "\n",
    "    current_left_schmidt_values = leftmost_schmidt_values\n",
    "\n",
    "    for i, ll in enumerate(p_leg_labels[:-1]):\n",
    "        t.iscale_axis(current_left_schmidt_values, axis='vL')\n",
    "\n",
    "        tail_legs = p_leg_labels[(i+1):]\n",
    "        \n",
    "        t = t.combine_legs([['vL', ll], ['vR', *tail_legs]])\n",
    "\n",
    "        U, S, VH = svd_reduce_split_tensor(\n",
    "            t,\n",
    "            max_inner_dim=max_virtual_bond_dim,\n",
    "            normalise=True\n",
    "        )\n",
    "\n",
    "        bl = (\n",
    "            U\n",
    "            .split_legs()\n",
    "            .replace_label(ll, 'p')\n",
    "        )\n",
    "        bl.iscale_axis(1/current_left_schmidt_values, axis='vL')\n",
    "        bl.iscale_axis(S, axis='vR')\n",
    "        bl.itranspose(['vL', 'p', 'vR'])\n",
    "        out_bs.append(bl)\n",
    "\n",
    "        out_schmidt_values.append(S)\n",
    "        current_left_schmidt_values=S\n",
    "\n",
    "        t = VH.split_legs()\n",
    "\n",
    "    bl = t.replace_label(p_leg_labels[-1], 'p')\n",
    "    bl.itranspose(['vL', 'p', 'vR'])\n",
    "    out_bs.append(bl)\n",
    "\n",
    "    return out_bs, out_schmidt_values"
   ]
  },
  {
   "cell_type": "code",
   "execution_count": 34,
   "id": "a02ec1af-d2c1-4766-a688-01946f284490",
   "metadata": {},
   "outputs": [],
   "source": [
    "def split_b(b, max_virtual_bond_dim=MAX_INTERMEDIATE_VIRTUAL_BOND_DIM,\n",
    "                     p_leg_labels=None):\n",
    "    leg_label = get_physical_leg_labels(b)[0]\n",
    "\n",
    "    if is_single_physical_leg_label(leg_label):\n",
    "        return b\n",
    "    elif is_grouped_physical_leg_label(leg_label):\n",
    "        return split_combined_b(b, max_virtual_bond_dim, p_leg_labels)\n",
    "    else:\n",
    "        raise ValueError"
   ]
  },
  {
   "cell_type": "code",
   "execution_count": 35,
   "id": "5dddedee-f5a2-4dc8-90e1-7afac18a0307",
   "metadata": {},
   "outputs": [],
   "source": [
    "def split_combined_u(u, max_virtual_bond_dim=MAX_VIRTUAL_BOND_DIM,\n",
    "                     p_leg_labels=None):\n",
    "    t = u.split_legs()\n",
    "    num_sites = t.ndim //2\n",
    "    \n",
    "    if p_leg_labels is None:\n",
    "        p_leg_labels = [f'p{i}' for i in range(num_sites)]\n",
    "\n",
    "    p_leg_labels_hc = [l+'*' for l in p_leg_labels]\n",
    "    out_ws = list()\n",
    "\n",
    "    for i, (ll, ll_hc) in enumerate(zip(p_leg_labels[:-1], p_leg_labels_hc[:-1])):\n",
    "        tail_legs = p_leg_labels[(i+1):]\n",
    "        tail_legs_hc = p_leg_labels_hc[(i+1):]\n",
    "\n",
    "        left_leg_labels = [ll, ll_hc]\n",
    "        if 'vL' in t.get_leg_labels():\n",
    "            left_leg_labels.append('vL')\n",
    "    \n",
    "        t = t.combine_legs([left_leg_labels, [*tail_legs, *tail_legs_hc]])\n",
    "\n",
    "        U, S, VH = svd_reduce_split_tensor(\n",
    "            t,\n",
    "            max_inner_dim=max_virtual_bond_dim,\n",
    "            normalise=False\n",
    "        )\n",
    "\n",
    "        U.iscale_axis(S, axis='vR')\n",
    "\n",
    "        wl = U.split_legs().replace_labels([ll, ll_hc], ['p', 'p*'])\n",
    "        #wl.itranspose(['p', 'p*'])\n",
    "        out_ws.append(wl)\n",
    "\n",
    "        t = VH.split_legs()\n",
    "\n",
    "    wl = t.replace_labels(\n",
    "        [p_leg_labels[-1], p_leg_labels_hc[-1]],\n",
    "        ['p', 'p*']\n",
    "    )\n",
    "    #wl.itranspose(['p', 'p*'])\n",
    "    out_ws.append(wl)\n",
    "\n",
    "    out_ws[0] = (\n",
    "        out_ws[0]\n",
    "        .add_leg(left_trivial_leg_charge, 0, label='vL')\n",
    "    )\n",
    "    \n",
    "    out_ws[-1] = (\n",
    "        out_ws[-1]\n",
    "        .add_leg(right_trivial_leg_charge, 0, label='vR')\n",
    "    )\n",
    "\n",
    "    return out_ws"
   ]
  },
  {
   "cell_type": "code",
   "execution_count": 36,
   "id": "a28056d8-7950-4661-b4b8-0b73e1f6cf97",
   "metadata": {},
   "outputs": [],
   "source": [
    "def split_u(u, max_virtual_bond_dim=MAX_VIRTUAL_BOND_DIM,\n",
    "            p_leg_labels=None):\n",
    "    leg_label = get_physical_leg_labels(u)[0]\n",
    "\n",
    "    if is_single_physical_leg_label(leg_label):\n",
    "        return [unitary_to_mpo_tensor(u),]\n",
    "    elif is_grouped_physical_leg_label(leg_label):\n",
    "        return split_combined_u(u, max_virtual_bond_dim, p_leg_labels)\n",
    "    else:\n",
    "        raise ValueError"
   ]
  },
  {
   "cell_type": "code",
   "execution_count": 37,
   "id": "bc71056c-f25f-4d68-b694-2a26c0ad5790",
   "metadata": {},
   "outputs": [],
   "source": [
    "def unitary_to_mpo_tensor(u):\n",
    "    out = (\n",
    "        u\n",
    "        .add_leg(left_trivial_leg_charge, 0, label='vL')\n",
    "        .add_leg(right_trivial_leg_charge, 0, label='vR')\n",
    "    )\n",
    "\n",
    "    return out"
   ]
  },
  {
   "cell_type": "code",
   "execution_count": 38,
   "id": "7b9fb468-6328-4ae0-b25a-652cb13032c1",
   "metadata": {},
   "outputs": [],
   "source": [
    "def multiply_individual_mpo_tensors(w1, w2):\n",
    "    w1 = w1.replace_labels(['vR', 'vL'], ['vR1', 'vL1'])\n",
    "    w2 = w2.replace_labels(['vR', 'vL'], ['vR2', 'vL2'])\n",
    "\n",
    "    w = (\n",
    "        npc.tensordot(w1, w2, [['p'], ['p*']])\n",
    "        .combine_legs([['vR1', 'vR2'], ['vL1', 'vL2']])\n",
    "        .replace_labels(['(vR1.vR2)', '(vL1.vL2)'], ['vR', 'vL'])\n",
    "    )\n",
    "\n",
    "    return w"
   ]
  },
  {
   "cell_type": "code",
   "execution_count": 39,
   "id": "f9a3a71f-0d3f-4ecf-8eec-c38f861561ef",
   "metadata": {},
   "outputs": [],
   "source": [
    "def group_elements(l, group_size, offset=0):\n",
    "    first, rest = l[:offset], l[offset:]\n",
    "\n",
    "    num_rest_groups = ((len(rest)-1)//group_size) + 1\n",
    "\n",
    "    groups = [first,] if first else list()\n",
    "\n",
    "    for i in range(num_rest_groups):\n",
    "        first_index = i*group_size\n",
    "        last_index = (i+1)*group_size\n",
    "        groups.append(rest[first_index:last_index])\n",
    "\n",
    "    return groups"
   ]
  },
  {
   "cell_type": "code",
   "execution_count": 40,
   "id": "96791fa9-9917-4440-b847-2bc4a3eb39e5",
   "metadata": {},
   "outputs": [],
   "source": [
    "def combine_grouped_b_tensors(grouped_bs):\n",
    "    out = list()\n",
    "\n",
    "    for group in grouped_bs:\n",
    "        if len(group) == 1:\n",
    "            out.append(group[0])\n",
    "        else:\n",
    "            out.append(combine_b_tensors(group))\n",
    "\n",
    "    return out"
   ]
  },
  {
   "cell_type": "code",
   "execution_count": 41,
   "id": "c78589cc-aa65-4aa1-9d53-0cf61702e92c",
   "metadata": {},
   "outputs": [],
   "source": [
    "def reduce_virtual_mpo_dim(wl, wr, max_virtual_bond_dim=MAX_VIRTUAL_BOND_DIM):\n",
    "    # wl = wl.replace_labels(['p', 'p*'], ['pl', 'pl*'])\n",
    "\n",
    "    wl = wl.combine_legs(['p', 'vL', 'p*'])\n",
    "    wr = wr.combine_legs(['p', 'vR', 'p*'])\n",
    "    w = npc.tensordot(wl, wr, ['vR', 'vL'])\n",
    "\n",
    "    wl, S, wr = svd_reduce_split_tensor(\n",
    "        w,\n",
    "        max_inner_dim=max_virtual_bond_dim\n",
    "    )\n",
    "\n",
    "    wl.iscale_axis(S, axis='vR')\n",
    "\n",
    "    wl = wl.split_legs()\n",
    "    wr = wr.split_legs()\n",
    "\n",
    "    return wl, wr"
   ]
  },
  {
   "cell_type": "code",
   "execution_count": 42,
   "id": "e7470053-b5df-45e0-b302-d7ad19d83f30",
   "metadata": {},
   "outputs": [],
   "source": [
    "def multiply_mpos(top_ws, bottom_ws, max_virtual_bond_dim=MAX_VIRTUAL_BOND_DIM):\n",
    "    ws = list()\n",
    "    \n",
    "    for w1, w2 in zip(top_ws, bottom_ws):\n",
    "        w = multiply_individual_mpo_tensors(w1, w2)\n",
    "        ws.append(w)\n",
    "\n",
    "\n",
    "    for i in range(len(ws)-1):\n",
    "        ws[i], ws[i+1] = reduce_virtual_mpo_dim(\n",
    "            ws[i],\n",
    "            ws[i+1],\n",
    "            max_virtual_bond_dim=max_virtual_bond_dim\n",
    "        )\n",
    "\n",
    "    return ws"
   ]
  },
  {
   "cell_type": "markdown",
   "id": "808162ba-8e2a-40bf-adcb-84aff74b5b95",
   "metadata": {},
   "source": [
    "### Layer function"
   ]
  },
  {
   "cell_type": "code",
   "execution_count": 43,
   "id": "28b4dd32-ad86-4b30-8047-0b8ad440a194",
   "metadata": {},
   "outputs": [],
   "source": [
    "def optimise_layer(\n",
    "        left_environment,\n",
    "        top_b_tensors,\n",
    "        left_schmidt_values,\n",
    "        block_width,\n",
    "        block_offset,\n",
    "        expectations,\n",
    "        previous_mpo_w_tensors,\n",
    "        bottom_b_tensors=None,\n",
    "        num_iterations=1,\n",
    "        max_virtual_bond_dim=MAX_VIRTUAL_BOND_DIM\n",
    "    ):\n",
    "\n",
    "    if bottom_b_tensors is None:\n",
    "        bottom_b_tensors = top_b_tensors\n",
    "\n",
    "    group = lambda x: group_elements(x, block_width, block_offset)\n",
    "    top_grouped_bs = group(top_b_tensors)\n",
    "    bottom_grouped_bs = group(bottom_b_tensors)\n",
    "    grouped_schmidt_values = group(left_schmidt_values)\n",
    "\n",
    "    top_combined_bs = combine_grouped_b_tensors(top_grouped_bs)\n",
    "    bottom_combined_bs = combine_grouped_b_tensors(bottom_grouped_bs)\n",
    "\n",
    "    unitaries = [\n",
    "        get_identity_operator(t) for t in top_combined_bs\n",
    "    ]\n",
    "\n",
    "    expectations.append(list())\n",
    "\n",
    "    for _ in range(num_iterations):\n",
    "        exps, *_ = one_site_optimization_sweep_right(\n",
    "            left_environment,\n",
    "            top_combined_bs,\n",
    "            unitaries,\n",
    "            bottom_combined_bs\n",
    "        )\n",
    "\n",
    "        expectations[-1].append(exps)\n",
    "\n",
    "    for i, u in enumerate(unitaries):\n",
    "        b = top_combined_bs[i]\n",
    "        ll = get_physical_leg_labels(b)[0]\n",
    "        llh = conjugate_leg_label(ll)\n",
    "    \n",
    "        new_b = npc.tensordot(b, u, [[ll,], [llh,]])\n",
    "    \n",
    "        top_combined_bs[i] = new_b\n",
    "\n",
    "    new_top_bs = list()\n",
    "    new_left_schmidt_values = left_schmidt_values.copy()\n",
    "\n",
    "    for b, s in zip (top_combined_bs, grouped_schmidt_values):\n",
    "        leg_label = get_physical_leg_labels(b)[0]\n",
    "        if is_single_physical_leg_label(leg_label):\n",
    "            new_top_bs.append(b)\n",
    "            new_left_schmidt_values.extend(s)\n",
    "        elif is_grouped_physical_leg_label(leg_label):\n",
    "            bs, schmidt_vals = split_combined_b(\n",
    "                b,\n",
    "                s[0],\n",
    "                max_virtual_bond_dim\n",
    "            )\n",
    "            new_top_bs.extend(bs)\n",
    "            new_left_schmidt_values.extend(s)\n",
    "\n",
    "    \"\"\"\n",
    "    for i, b in enumerate(new_top_bs):\n",
    "        top_b_tensors[i] = b\n",
    "    \"\"\"\n",
    "\n",
    "    current_unitary_w_tensors = list()\n",
    "\n",
    "    for u in unitaries:\n",
    "        current_unitary_w_tensors.extend(split_u(u, max_virtual_bond_dim=max_virtual_bond_dim))\n",
    "\n",
    "    if previous_mpo_w_tensors == []:\n",
    "        for w in current_unitary_w_tensors:\n",
    "            previous_mpo_w_tensors.append(w)\n",
    "    else:\n",
    "        new_mpo_w_tensors = multiply_mpos(\n",
    "            previous_mpo_w_tensors,\n",
    "            current_unitary_w_tensors,\n",
    "            max_virtual_bond_dim=max_virtual_bond_dim\n",
    "        )\n",
    "\n",
    "        for i, w in enumerate(new_mpo_w_tensors):\n",
    "            previous_mpo_w_tensors[i] = w\n",
    "\n",
    "    return new_top_bs, new_left_schmidt_values"
   ]
  },
  {
   "cell_type": "code",
   "execution_count": 44,
   "id": "3a51ee7d-cf08-4382-bb53-55cae7533c76",
   "metadata": {},
   "outputs": [],
   "source": [
    "def inner_product_b_tensors(b_tensors, b_bra_tensors=None, left_environment=None,\n",
    "                            right_environment=None):\n",
    "    if b_bra_tensors is None:\n",
    "        b_bra_tensors = b_tensors\n",
    "\n",
    "    b = b_tensors[0]\n",
    "    b_bra = b_bra_tensors[0]\n",
    "\n",
    "    if left_environment is None:\n",
    "        t = npc.tensordot(b, b_bra.conj(), [['vL',], ['vL*',]])\n",
    "    else:\n",
    "        t = npc.tensordot(left_environment, b, [['vR',], ['vL',]])\n",
    "        t = npc.tensordot(t, b_bra.conj(), [['vR*', 'p'], ['vL*', 'p*']])\n",
    "\n",
    "    for b, b_bra in zip(b_tensors[1:], b_bra_tensors[1:]):\n",
    "        t = npc.tensordot(t, b, [['vR',], ['vL',]])\n",
    "        t = npc.tensordot(t, b_bra.conj(), [['vR*', 'p'], ['vL*', 'p*']])\n",
    "\n",
    "    if right_environment is None:\n",
    "        out = npc.trace(t)\n",
    "    else:\n",
    "        out = npc.tensordot(t, right_environment, [['vR', 'vR*'], ['vL', 'vL*']])\n",
    "\n",
    "    return out"
   ]
  },
  {
   "cell_type": "markdown",
   "id": "4de20b96-dc26-422f-87aa-d0220ebeb7cf",
   "metadata": {},
   "source": [
    "# Optimisation"
   ]
  },
  {
   "cell_type": "markdown",
   "id": "8353566d-2126-4355-bf4e-7148ee47c36c",
   "metadata": {},
   "source": [
    "## Generate b tensors and check normalisation"
   ]
  },
  {
   "cell_type": "code",
   "execution_count": 45,
   "id": "5cceb5cb-84a8-48a5-978a-ad9c794af54b",
   "metadata": {},
   "outputs": [
    {
     "data": {
      "text/plain": [
       "149"
      ]
     },
     "execution_count": 45,
     "metadata": {},
     "output_type": "execute_result"
    }
   ],
   "source": [
    "test.right_symmetry_index"
   ]
  },
  {
   "cell_type": "code",
   "execution_count": 46,
   "id": "1cf15a5e-8b2b-4f59-884f-5f3b8faf527d",
   "metadata": {},
   "outputs": [],
   "source": [
    "bs = [\n",
    "    test_psi.get_B(i)\n",
    "    for k, i in enumerate(range(test.right_symmetry_index + 1, test.right_symmetry_index + 26))\n",
    "]"
   ]
  },
  {
   "cell_type": "code",
   "execution_count": 47,
   "id": "9c500b7f-a0f5-4c60-b642-33841f4f1861",
   "metadata": {},
   "outputs": [],
   "source": [
    "left_schmidt_values = [\n",
    "    test_psi.get_SL(i)\n",
    "    for _, i in enumerate(range(test.right_symmetry_index + 1, test.right_symmetry_index + 26))\n",
    "]"
   ]
  },
  {
   "cell_type": "code",
   "execution_count": 48,
   "id": "00a7dcf9-7193-4f7e-819c-573fae679ae1",
   "metadata": {},
   "outputs": [
    {
     "data": {
      "text/plain": [
       "25"
      ]
     },
     "execution_count": 48,
     "metadata": {},
     "output_type": "execute_result"
    }
   ],
   "source": [
    "len(bs)"
   ]
  },
  {
   "cell_type": "code",
   "execution_count": 49,
   "id": "143f2fa3-e2f1-4e82-a3ea-53869d7b8b55",
   "metadata": {},
   "outputs": [],
   "source": [
    "left_environment = test.right_projected_symmetry_state\n",
    "bottom_b_tensors = bs\n",
    "top_b_tensors = [bs,]\n",
    "left_schmidt_values_list = [left_schmidt_values,]\n",
    "block_width = 3\n",
    "expectations = list()\n",
    "previous_mpo_w_tensors = []\n",
    "num_iterations = 3"
   ]
  },
  {
   "cell_type": "code",
   "execution_count": 50,
   "id": "d1761958-54c0-487a-b6d0-36a514e1f097",
   "metadata": {
    "scrolled": true
   },
   "outputs": [
    {
     "name": "stdout",
     "output_type": "stream",
     "text": [
      "Layer: 0\n",
      "Layer: 5\n",
      "Layer: 10\n",
      "Layer: 15\n",
      "Layer: 20\n",
      "Layer: 25\n"
     ]
    }
   ],
   "source": [
    "for i in range(30):\n",
    "    if i%5 == 0:\n",
    "        print(f\"Layer: {i}\")\n",
    "    \n",
    "    offset = i % block_width\n",
    "\n",
    "    new_top_b_tensors, new_schmidt_values = optimise_layer(\n",
    "        left_environment,\n",
    "        top_b_tensors[-1],\n",
    "        left_schmidt_values_list[-1],\n",
    "        block_width,\n",
    "        offset,\n",
    "        expectations,\n",
    "        previous_mpo_w_tensors,\n",
    "        bottom_b_tensors,\n",
    "        num_iterations\n",
    "    )\n",
    "\n",
    "    top_b_tensors.append(new_top_b_tensors)\n",
    "    left_schmidt_values_list.append(new_schmidt_values)"
   ]
  },
  {
   "cell_type": "code",
   "execution_count": 51,
   "id": "62199f38-799e-421f-8130-95688c40cfc9",
   "metadata": {},
   "outputs": [],
   "source": [
    "final_expectations = list()\n",
    "\n",
    "for l in expectations:\n",
    "    final_expectations.append(l[-1][-1])"
   ]
  },
  {
   "cell_type": "code",
   "execution_count": 52,
   "id": "47004d08-2907-40c1-be56-5e465e029746",
   "metadata": {},
   "outputs": [
    {
     "data": {
      "text/plain": [
       "[<matplotlib.lines.Line2D at 0x1513f8ad0>]"
      ]
     },
     "execution_count": 52,
     "metadata": {},
     "output_type": "execute_result"
    },
    {
     "data": {
      "image/png": "[encoded data removed]",
      "text/plain": [
       "<Figure size 640x480 with 1 Axes>"
      ]
     },
     "metadata": {},
     "output_type": "display_data"
    }
   ],
   "source": [
    "plt.plot(final_expectations)"
   ]
  },
  {
   "cell_type": "code",
   "execution_count": 53,
   "id": "a92b2259-b258-49f8-986b-66afffd7439e",
   "metadata": {},
   "outputs": [
    {
     "data": {
      "text/plain": [
       "1.3829109489692606"
      ]
     },
     "execution_count": 53,
     "metadata": {},
     "output_type": "execute_result"
    }
   ],
   "source": [
    "final_expectations[-1]"
   ]
  },
  {
   "cell_type": "markdown",
   "id": "b6df8b7a-05af-4565-a591-125de9e58aa9",
   "metadata": {},
   "source": [
    "### Calculate normalisations"
   ]
  },
  {
   "cell_type": "code",
   "execution_count": 54,
   "id": "26e8e2e4-5ea9-408d-898d-9255a51e5236",
   "metadata": {},
   "outputs": [],
   "source": [
    "normalisations_by_layer = [\n",
    "    inner_product_b_tensors(\n",
    "        bs,\n",
    "        left_environment=test.right_projected_symmetry_state\n",
    "    )\n",
    "    for bs in top_b_tensors\n",
    "]"
   ]
  },
  {
   "cell_type": "code",
   "execution_count": 55,
   "id": "fe01ba14-d12b-4e1e-8580-bd3e3bdb4e3c",
   "metadata": {},
   "outputs": [
    {
     "data": {
      "text/plain": [
       "[<matplotlib.lines.Line2D at 0x157b80ad0>]"
      ]
     },
     "execution_count": 55,
     "metadata": {},
     "output_type": "execute_result"
    },
    {
     "data": {
      "image/png": "[encoded data removed]",
      "text/plain": [
       "<Figure size 640x480 with 1 Axes>"
      ]
     },
     "metadata": {},
     "output_type": "display_data"
    }
   ],
   "source": [
    "plt.plot(np.abs(np.array(normalisations_by_layer)))"
   ]
  },
  {
   "cell_type": "markdown",
   "id": "0f3143bd-76ed-4d7a-bf9b-5614965ef452",
   "metadata": {},
   "source": [
    "Small amount of drift, 2%"
   ]
  },
  {
   "cell_type": "code",
   "execution_count": 56,
   "id": "38ee7fcd-e2ed-4fa0-85f6-253e869a9f28",
   "metadata": {},
   "outputs": [
    {
     "data": {
      "text/plain": [
       "(1.019022056564998-0j)"
      ]
     },
     "execution_count": 56,
     "metadata": {},
     "output_type": "execute_result"
    }
   ],
   "source": [
    "normalisations_by_layer[-1]/normalisations_by_layer[0]"
   ]
  },
  {
   "cell_type": "markdown",
   "id": "b1871125-3396-433a-b08b-9c16e6e0eda9",
   "metadata": {},
   "source": [
    "## Sweep on block width"
   ]
  },
  {
   "cell_type": "code",
   "execution_count": 57,
   "id": "21462a5c-080c-4498-9626-6164048c81f8",
   "metadata": {},
   "outputs": [
    {
     "name": "stdout",
     "output_type": "stream",
     "text": [
      "Block width: 2\n",
      "Layer: 0\n",
      "Layer: 5\n",
      "Layer: 10\n",
      "Layer: 15\n",
      "Layer: 20\n",
      "Layer: 25\n",
      "Block width: 3\n",
      "Layer: 0\n",
      "Layer: 5\n",
      "Layer: 10\n"
     ]
    },
    {
     "ename": "KeyboardInterrupt",
     "evalue": "",
     "output_type": "error",
     "traceback": [
      "\u001b[0;31m---------------------------------------------------------------------------\u001b[0m",
      "\u001b[0;31mKeyboardInterrupt\u001b[0m                         Traceback (most recent call last)",
      "Cell \u001b[0;32mIn[57], line 30\u001b[0m\n\u001b[1;32m     26\u001b[0m     \u001b[38;5;28mprint\u001b[39m(\u001b[38;5;124mf\u001b[39m\u001b[38;5;124m\"\u001b[39m\u001b[38;5;124mLayer: \u001b[39m\u001b[38;5;132;01m{\u001b[39;00mi\u001b[38;5;132;01m}\u001b[39;00m\u001b[38;5;124m\"\u001b[39m)\n\u001b[1;32m     28\u001b[0m offset \u001b[38;5;241m=\u001b[39m i \u001b[38;5;241m%\u001b[39m block_width\n\u001b[0;32m---> 30\u001b[0m new_top_b_tensors, new_schmidt_values \u001b[38;5;241m=\u001b[39m \u001b[43moptimise_layer\u001b[49m\u001b[43m(\u001b[49m\n\u001b[1;32m     31\u001b[0m \u001b[43m    \u001b[49m\u001b[43mleft_environment\u001b[49m\u001b[43m,\u001b[49m\n\u001b[1;32m     32\u001b[0m \u001b[43m    \u001b[49m\u001b[43mtop_b_tensors\u001b[49m\u001b[43m[\u001b[49m\u001b[38;5;241;43m-\u001b[39;49m\u001b[38;5;241;43m1\u001b[39;49m\u001b[43m]\u001b[49m\u001b[43m,\u001b[49m\n\u001b[1;32m     33\u001b[0m \u001b[43m    \u001b[49m\u001b[43mleft_schmidt_values_list\u001b[49m\u001b[43m[\u001b[49m\u001b[38;5;241;43m-\u001b[39;49m\u001b[38;5;241;43m1\u001b[39;49m\u001b[43m]\u001b[49m\u001b[43m,\u001b[49m\n\u001b[1;32m     34\u001b[0m \u001b[43m    \u001b[49m\u001b[43mblock_width\u001b[49m\u001b[43m,\u001b[49m\n\u001b[1;32m     35\u001b[0m \u001b[43m    \u001b[49m\u001b[43moffset\u001b[49m\u001b[43m,\u001b[49m\n\u001b[1;32m     36\u001b[0m \u001b[43m    \u001b[49m\u001b[43mexpectations\u001b[49m\u001b[43m[\u001b[49m\u001b[38;5;241;43m-\u001b[39;49m\u001b[38;5;241;43m1\u001b[39;49m\u001b[43m]\u001b[49m\u001b[43m,\u001b[49m\n\u001b[1;32m     37\u001b[0m \u001b[43m    \u001b[49m\u001b[43mprevious_mpo_w_tensors\u001b[49m\u001b[43m,\u001b[49m\n\u001b[1;32m     38\u001b[0m \u001b[43m    \u001b[49m\u001b[43mbottom_b_tensors\u001b[49m\u001b[43m,\u001b[49m\n\u001b[1;32m     39\u001b[0m \u001b[43m    \u001b[49m\u001b[43mnum_iterations\u001b[49m\n\u001b[1;32m     40\u001b[0m \u001b[43m\u001b[49m\u001b[43m)\u001b[49m\n\u001b[1;32m     42\u001b[0m top_b_tensors\u001b[38;5;241m.\u001b[39mappend(new_top_b_tensors)\n\u001b[1;32m     43\u001b[0m left_schmidt_values_list\u001b[38;5;241m.\u001b[39mappend(new_schmidt_values)\n",
      "Cell \u001b[0;32mIn[43], line 81\u001b[0m, in \u001b[0;36moptimise_layer\u001b[0;34m(left_environment, top_b_tensors, left_schmidt_values, block_width, block_offset, expectations, previous_mpo_w_tensors, bottom_b_tensors, num_iterations, max_virtual_bond_dim)\u001b[0m\n\u001b[1;32m     79\u001b[0m         previous_mpo_w_tensors\u001b[38;5;241m.\u001b[39mappend(w)\n\u001b[1;32m     80\u001b[0m \u001b[38;5;28;01melse\u001b[39;00m:\n\u001b[0;32m---> 81\u001b[0m     new_mpo_w_tensors \u001b[38;5;241m=\u001b[39m \u001b[43mmultiply_mpos\u001b[49m\u001b[43m(\u001b[49m\n\u001b[1;32m     82\u001b[0m \u001b[43m        \u001b[49m\u001b[43mprevious_mpo_w_tensors\u001b[49m\u001b[43m,\u001b[49m\n\u001b[1;32m     83\u001b[0m \u001b[43m        \u001b[49m\u001b[43mcurrent_unitary_w_tensors\u001b[49m\u001b[43m,\u001b[49m\n\u001b[1;32m     84\u001b[0m \u001b[43m        \u001b[49m\u001b[43mmax_virtual_bond_dim\u001b[49m\u001b[38;5;241;43m=\u001b[39;49m\u001b[43mmax_virtual_bond_dim\u001b[49m\n\u001b[1;32m     85\u001b[0m \u001b[43m    \u001b[49m\u001b[43m)\u001b[49m\n\u001b[1;32m     87\u001b[0m     \u001b[38;5;28;01mfor\u001b[39;00m i, w \u001b[38;5;129;01min\u001b[39;00m \u001b[38;5;28menumerate\u001b[39m(new_mpo_w_tensors):\n\u001b[1;32m     88\u001b[0m         previous_mpo_w_tensors[i] \u001b[38;5;241m=\u001b[39m w\n",
      "Cell \u001b[0;32mIn[42], line 10\u001b[0m, in \u001b[0;36mmultiply_mpos\u001b[0;34m(top_ws, bottom_ws, max_virtual_bond_dim)\u001b[0m\n\u001b[1;32m      6\u001b[0m     ws\u001b[38;5;241m.\u001b[39mappend(w)\n\u001b[1;32m      9\u001b[0m \u001b[38;5;28;01mfor\u001b[39;00m i \u001b[38;5;129;01min\u001b[39;00m \u001b[38;5;28mrange\u001b[39m(\u001b[38;5;28mlen\u001b[39m(ws)\u001b[38;5;241m-\u001b[39m\u001b[38;5;241m1\u001b[39m):\n\u001b[0;32m---> 10\u001b[0m     ws[i], ws[i\u001b[38;5;241m+\u001b[39m\u001b[38;5;241m1\u001b[39m] \u001b[38;5;241m=\u001b[39m \u001b[43mreduce_virtual_mpo_dim\u001b[49m\u001b[43m(\u001b[49m\n\u001b[1;32m     11\u001b[0m \u001b[43m        \u001b[49m\u001b[43mws\u001b[49m\u001b[43m[\u001b[49m\u001b[43mi\u001b[49m\u001b[43m]\u001b[49m\u001b[43m,\u001b[49m\n\u001b[1;32m     12\u001b[0m \u001b[43m        \u001b[49m\u001b[43mws\u001b[49m\u001b[43m[\u001b[49m\u001b[43mi\u001b[49m\u001b[38;5;241;43m+\u001b[39;49m\u001b[38;5;241;43m1\u001b[39;49m\u001b[43m]\u001b[49m\u001b[43m,\u001b[49m\n\u001b[1;32m     13\u001b[0m \u001b[43m        \u001b[49m\u001b[43mmax_virtual_bond_dim\u001b[49m\u001b[38;5;241;43m=\u001b[39;49m\u001b[43mmax_virtual_bond_dim\u001b[49m\n\u001b[1;32m     14\u001b[0m \u001b[43m    \u001b[49m\u001b[43m)\u001b[49m\n\u001b[1;32m     16\u001b[0m \u001b[38;5;28;01mreturn\u001b[39;00m ws\n",
      "Cell \u001b[0;32mIn[41], line 8\u001b[0m, in \u001b[0;36mreduce_virtual_mpo_dim\u001b[0;34m(wl, wr, max_virtual_bond_dim)\u001b[0m\n\u001b[1;32m      5\u001b[0m wr \u001b[38;5;241m=\u001b[39m wr\u001b[38;5;241m.\u001b[39mcombine_legs([\u001b[38;5;124m'\u001b[39m\u001b[38;5;124mp\u001b[39m\u001b[38;5;124m'\u001b[39m, \u001b[38;5;124m'\u001b[39m\u001b[38;5;124mvR\u001b[39m\u001b[38;5;124m'\u001b[39m, \u001b[38;5;124m'\u001b[39m\u001b[38;5;124mp*\u001b[39m\u001b[38;5;124m'\u001b[39m])\n\u001b[1;32m      6\u001b[0m w \u001b[38;5;241m=\u001b[39m npc\u001b[38;5;241m.\u001b[39mtensordot(wl, wr, [\u001b[38;5;124m'\u001b[39m\u001b[38;5;124mvR\u001b[39m\u001b[38;5;124m'\u001b[39m, \u001b[38;5;124m'\u001b[39m\u001b[38;5;124mvL\u001b[39m\u001b[38;5;124m'\u001b[39m])\n\u001b[0;32m----> 8\u001b[0m wl, S, wr \u001b[38;5;241m=\u001b[39m \u001b[43msvd_reduce_split_tensor\u001b[49m\u001b[43m(\u001b[49m\n\u001b[1;32m      9\u001b[0m \u001b[43m    \u001b[49m\u001b[43mw\u001b[49m\u001b[43m,\u001b[49m\n\u001b[1;32m     10\u001b[0m \u001b[43m    \u001b[49m\u001b[43mmax_inner_dim\u001b[49m\u001b[38;5;241;43m=\u001b[39;49m\u001b[43mmax_virtual_bond_dim\u001b[49m\n\u001b[1;32m     11\u001b[0m \u001b[43m\u001b[49m\u001b[43m)\u001b[49m\n\u001b[1;32m     13\u001b[0m wl\u001b[38;5;241m.\u001b[39miscale_axis(S, axis\u001b[38;5;241m=\u001b[39m\u001b[38;5;124m'\u001b[39m\u001b[38;5;124mvR\u001b[39m\u001b[38;5;124m'\u001b[39m)\n\u001b[1;32m     15\u001b[0m wl \u001b[38;5;241m=\u001b[39m wl\u001b[38;5;241m.\u001b[39msplit_legs()\n",
      "Cell \u001b[0;32mIn[32], line 3\u001b[0m, in \u001b[0;36msvd_reduce_split_tensor\u001b[0;34m(t, max_inner_dim, normalise, svd_cutoff)\u001b[0m\n\u001b[1;32m      1\u001b[0m \u001b[38;5;28;01mdef\u001b[39;00m \u001b[38;5;21msvd_reduce_split_tensor\u001b[39m(t, max_inner_dim\u001b[38;5;241m=\u001b[39mMAX_VIRTUAL_BOND_DIM,\n\u001b[1;32m      2\u001b[0m                            normalise\u001b[38;5;241m=\u001b[39m\u001b[38;5;28;01mTrue\u001b[39;00m, svd_cutoff\u001b[38;5;241m=\u001b[39mSVD_CUTOFF):\n\u001b[0;32m----> 3\u001b[0m     U, S, VH \u001b[38;5;241m=\u001b[39m \u001b[43mnpc\u001b[49m\u001b[38;5;241;43m.\u001b[39;49m\u001b[43msvd\u001b[49m\u001b[43m(\u001b[49m\n\u001b[1;32m      4\u001b[0m \u001b[43m        \u001b[49m\u001b[43mt\u001b[49m\u001b[43m,\u001b[49m\n\u001b[1;32m      5\u001b[0m \u001b[43m        \u001b[49m\u001b[43mcompute_uv\u001b[49m\u001b[38;5;241;43m=\u001b[39;49m\u001b[38;5;28;43;01mTrue\u001b[39;49;00m\u001b[43m,\u001b[49m\n\u001b[1;32m      6\u001b[0m \u001b[43m        \u001b[49m\u001b[43minner_labels\u001b[49m\u001b[38;5;241;43m=\u001b[39;49m\u001b[43m[\u001b[49m\u001b[38;5;124;43m'\u001b[39;49m\u001b[38;5;124;43mvR\u001b[39;49m\u001b[38;5;124;43m'\u001b[39;49m\u001b[43m,\u001b[49m\u001b[43m \u001b[49m\u001b[38;5;124;43m'\u001b[39;49m\u001b[38;5;124;43mvL\u001b[39;49m\u001b[38;5;124;43m'\u001b[39;49m\u001b[43m]\u001b[49m\u001b[43m,\u001b[49m\n\u001b[1;32m      7\u001b[0m \u001b[43m        \u001b[49m\u001b[43mcutoff\u001b[49m\u001b[38;5;241;43m=\u001b[39;49m\u001b[43msvd_cutoff\u001b[49m\n\u001b[1;32m      8\u001b[0m \u001b[43m    \u001b[49m\u001b[43m)\u001b[49m\n\u001b[1;32m     10\u001b[0m     \u001b[38;5;66;03m# Truncate tensors:\u001b[39;00m\n\u001b[1;32m     11\u001b[0m     U \u001b[38;5;241m=\u001b[39m U[:, :max_inner_dim]\n",
      "File \u001b[0;32m~/.pyenv/versions/num_spt_venv_p11/lib/python3.11/site-packages/tenpy/linalg/np_conserved.py:3588\u001b[0m, in \u001b[0;36msvd\u001b[0;34m(a, full_matrices, compute_uv, cutoff, qtotal_LR, inner_labels, inner_qconj)\u001b[0m\n\u001b[1;32m   3586\u001b[0m \u001b[38;5;66;03m# the main work\u001b[39;00m\n\u001b[1;32m   3587\u001b[0m overwrite_a \u001b[38;5;241m=\u001b[39m (\u001b[38;5;28mlen\u001b[39m(piped_axes) \u001b[38;5;241m>\u001b[39m \u001b[38;5;241m0\u001b[39m)\n\u001b[0;32m-> 3588\u001b[0m U, S, VH \u001b[38;5;241m=\u001b[39m \u001b[43m_svd_worker\u001b[49m\u001b[43m(\u001b[49m\u001b[43ma\u001b[49m\u001b[43m,\u001b[49m\u001b[43m \u001b[49m\u001b[43mfull_matrices\u001b[49m\u001b[43m,\u001b[49m\u001b[43m \u001b[49m\u001b[43mcompute_uv\u001b[49m\u001b[43m,\u001b[49m\u001b[43m \u001b[49m\u001b[43moverwrite_a\u001b[49m\u001b[43m,\u001b[49m\u001b[43m \u001b[49m\u001b[43mcutoff\u001b[49m\u001b[43m,\u001b[49m\u001b[43m \u001b[49m\u001b[43mqtotal_LR\u001b[49m\u001b[43m,\u001b[49m\n\u001b[1;32m   3589\u001b[0m \u001b[43m                       \u001b[49m\u001b[43minner_qconj\u001b[49m\u001b[43m)\u001b[49m\n\u001b[1;32m   3590\u001b[0m \u001b[38;5;28;01mif\u001b[39;00m \u001b[38;5;129;01mnot\u001b[39;00m compute_uv:\n\u001b[1;32m   3591\u001b[0m     \u001b[38;5;28;01mreturn\u001b[39;00m S\n",
      "File \u001b[0;32m~/.pyenv/versions/num_spt_venv_p11/lib/python3.11/site-packages/tenpy/linalg/np_conserved.py:4767\u001b[0m, in \u001b[0;36m_svd_worker\u001b[0;34m(a, full_matrices, compute_uv, overwrite_a, cutoff, qtotal_LR, inner_qconj)\u001b[0m\n\u001b[1;32m   4765\u001b[0m block \u001b[38;5;241m=\u001b[39m a\u001b[38;5;241m.\u001b[39m_data[i]\n\u001b[1;32m   4766\u001b[0m \u001b[38;5;28;01mif\u001b[39;00m compute_uv:\n\u001b[0;32m-> 4767\u001b[0m     U_b, S_b, VH_b \u001b[38;5;241m=\u001b[39m \u001b[43msvd_flat\u001b[49m\u001b[43m(\u001b[49m\u001b[43mblock\u001b[49m\u001b[43m,\u001b[49m\u001b[43m \u001b[49m\u001b[43mfull_matrices\u001b[49m\u001b[43m,\u001b[49m\u001b[43m \u001b[49m\u001b[38;5;28;43;01mTrue\u001b[39;49;00m\u001b[43m,\u001b[49m\u001b[43m \u001b[49m\u001b[43moverwrite_a\u001b[49m\u001b[43m,\u001b[49m\u001b[43m \u001b[49m\u001b[43mcheck_finite\u001b[49m\u001b[38;5;241;43m=\u001b[39;49m\u001b[38;5;28;43;01mTrue\u001b[39;49;00m\u001b[43m)\u001b[49m\n\u001b[1;32m   4768\u001b[0m     \u001b[38;5;28;01mif\u001b[39;00m anynan(U_b) \u001b[38;5;129;01mor\u001b[39;00m anynan(VH_b) \u001b[38;5;129;01mor\u001b[39;00m anynan(S_b):\n\u001b[1;32m   4769\u001b[0m         warnings\u001b[38;5;241m.\u001b[39mwarn(\u001b[38;5;124m\"\u001b[39m\u001b[38;5;124mSvd (gesdd) gave NaNs. Try again with gesvd\u001b[39m\u001b[38;5;124m\"\u001b[39m)\n",
      "File \u001b[0;32m~/.pyenv/versions/num_spt_venv_p11/lib/python3.11/site-packages/tenpy/linalg/svd_robust.py:70\u001b[0m, in \u001b[0;36msvd\u001b[0;34m(a, full_matrices, compute_uv, overwrite_a, check_finite, lapack_driver, warn)\u001b[0m\n\u001b[1;32m     68\u001b[0m \u001b[38;5;28;01mif\u001b[39;00m lapack_driver \u001b[38;5;241m==\u001b[39m \u001b[38;5;124m'\u001b[39m\u001b[38;5;124mgesdd\u001b[39m\u001b[38;5;124m'\u001b[39m:\n\u001b[1;32m     69\u001b[0m     \u001b[38;5;28;01mtry\u001b[39;00m:\n\u001b[0;32m---> 70\u001b[0m         \u001b[38;5;28;01mreturn\u001b[39;00m \u001b[43mscipy\u001b[49m\u001b[38;5;241;43m.\u001b[39;49m\u001b[43mlinalg\u001b[49m\u001b[38;5;241;43m.\u001b[39;49m\u001b[43msvd\u001b[49m\u001b[43m(\u001b[49m\u001b[43ma\u001b[49m\u001b[43m,\u001b[49m\u001b[43m \u001b[49m\u001b[43mfull_matrices\u001b[49m\u001b[43m,\u001b[49m\u001b[43m \u001b[49m\u001b[43mcompute_uv\u001b[49m\u001b[43m,\u001b[49m\u001b[43m \u001b[49m\u001b[38;5;28;43;01mFalse\u001b[39;49;00m\u001b[43m,\u001b[49m\u001b[43m \u001b[49m\u001b[43mcheck_finite\u001b[49m\u001b[43m)\u001b[49m\n\u001b[1;32m     71\u001b[0m     \u001b[38;5;28;01mexcept\u001b[39;00m np\u001b[38;5;241m.\u001b[39mlinalg\u001b[38;5;241m.\u001b[39mLinAlgError:\n\u001b[1;32m     72\u001b[0m         \u001b[38;5;66;03m# 'gesdd' failed to converge, so we continue with the backup plan\u001b[39;00m\n\u001b[1;32m     73\u001b[0m         \u001b[38;5;28;01mif\u001b[39;00m warn:\n",
      "File \u001b[0;32m~/.pyenv/versions/num_spt_venv_p11/lib/python3.11/site-packages/scipy/linalg/_decomp_svd.py:141\u001b[0m, in \u001b[0;36msvd\u001b[0;34m(a, full_matrices, compute_uv, overwrite_a, check_finite, lapack_driver)\u001b[0m\n\u001b[1;32m    137\u001b[0m lwork \u001b[38;5;241m=\u001b[39m _compute_lwork(gesXd_lwork, a1\u001b[38;5;241m.\u001b[39mshape[\u001b[38;5;241m0\u001b[39m], a1\u001b[38;5;241m.\u001b[39mshape[\u001b[38;5;241m1\u001b[39m],\n\u001b[1;32m    138\u001b[0m                        compute_uv\u001b[38;5;241m=\u001b[39mcompute_uv, full_matrices\u001b[38;5;241m=\u001b[39mfull_matrices)\n\u001b[1;32m    140\u001b[0m \u001b[38;5;66;03m# perform decomposition\u001b[39;00m\n\u001b[0;32m--> 141\u001b[0m u, s, v, info \u001b[38;5;241m=\u001b[39m \u001b[43mgesXd\u001b[49m\u001b[43m(\u001b[49m\u001b[43ma1\u001b[49m\u001b[43m,\u001b[49m\u001b[43m \u001b[49m\u001b[43mcompute_uv\u001b[49m\u001b[38;5;241;43m=\u001b[39;49m\u001b[43mcompute_uv\u001b[49m\u001b[43m,\u001b[49m\u001b[43m \u001b[49m\u001b[43mlwork\u001b[49m\u001b[38;5;241;43m=\u001b[39;49m\u001b[43mlwork\u001b[49m\u001b[43m,\u001b[49m\n\u001b[1;32m    142\u001b[0m \u001b[43m                      \u001b[49m\u001b[43mfull_matrices\u001b[49m\u001b[38;5;241;43m=\u001b[39;49m\u001b[43mfull_matrices\u001b[49m\u001b[43m,\u001b[49m\u001b[43m \u001b[49m\u001b[43moverwrite_a\u001b[49m\u001b[38;5;241;43m=\u001b[39;49m\u001b[43moverwrite_a\u001b[49m\u001b[43m)\u001b[49m\n\u001b[1;32m    144\u001b[0m \u001b[38;5;28;01mif\u001b[39;00m info \u001b[38;5;241m>\u001b[39m \u001b[38;5;241m0\u001b[39m:\n\u001b[1;32m    145\u001b[0m     \u001b[38;5;28;01mraise\u001b[39;00m LinAlgError(\u001b[38;5;124m\"\u001b[39m\u001b[38;5;124mSVD did not converge\u001b[39m\u001b[38;5;124m\"\u001b[39m)\n",
      "\u001b[0;31mKeyboardInterrupt\u001b[0m: "
     ]
    }
   ],
   "source": [
    "expectations = list()\n",
    "\n",
    "for i in range(2, 7):\n",
    "    print(f\"Block width: {i}\")\n",
    "    expectations.append(list())\n",
    "    bs = [\n",
    "        test_psi.get_B(i)\n",
    "        for k, i in enumerate(range(test.right_symmetry_index + 1, test.right_symmetry_index + 26))\n",
    "    ]\n",
    "\n",
    "    left_schmidt_values = [\n",
    "        test_psi.get_SL(i)\n",
    "        for _, i in enumerate(range(test.right_symmetry_index + 1, test.right_symmetry_index + 26))\n",
    "    ]\n",
    "\n",
    "    left_environment = test.right_projected_symmetry_state\n",
    "    bottom_b_tensors = bs\n",
    "    top_b_tensors = [bs,]\n",
    "    left_schmidt_values_list = [left_schmidt_values,]\n",
    "    block_width = i\n",
    "    previous_mpo_w_tensors = []\n",
    "    num_iterations = 3\n",
    "\n",
    "    for i in range(30):\n",
    "        if i%5 == 0:\n",
    "            print(f\"Layer: {i}\")\n",
    "    \n",
    "        offset = i % block_width\n",
    "    \n",
    "        new_top_b_tensors, new_schmidt_values = optimise_layer(\n",
    "            left_environment,\n",
    "            top_b_tensors[-1],\n",
    "            left_schmidt_values_list[-1],\n",
    "            block_width,\n",
    "            offset,\n",
    "            expectations[-1],\n",
    "            previous_mpo_w_tensors,\n",
    "            bottom_b_tensors,\n",
    "            num_iterations\n",
    "        )\n",
    "    \n",
    "        top_b_tensors.append(new_top_b_tensors)\n",
    "        left_schmidt_values_list.append(new_schmidt_values)"
   ]
  },
  {
   "cell_type": "code",
   "execution_count": null,
   "id": "e978807a-d78f-4df3-8da0-174d450b385b",
   "metadata": {},
   "outputs": [],
   "source": [
    "final_expectations = list()\n",
    "\n",
    "for l in expectations:\n",
    "    final_expectations.append(list())\n",
    "    for l1 in l:\n",
    "        final_expectations[-1].append(l1[-1][-1])"
   ]
  },
  {
   "cell_type": "code",
   "execution_count": null,
   "id": "fd987a1f-8298-480c-9faa-971d169fa93f",
   "metadata": {},
   "outputs": [],
   "source": [
    "fig, ax = plt.subplots(figsize=(6,4))\n",
    "\n",
    "for i, l in enumerate(final_expectations, start=2):\n",
    "    plt.plot(l, label=i)\n",
    "\n",
    "ax.legend()"
   ]
  },
  {
   "cell_type": "code",
   "execution_count": null,
   "id": "611e9dd0-4018-4430-b386-aae09b8c2263",
   "metadata": {},
   "outputs": [],
   "source": [
    "final_expectations[-1][-1]"
   ]
  },
  {
   "cell_type": "markdown",
   "id": "56b2b496-712e-4a60-a37a-ad25df9afeab",
   "metadata": {},
   "source": [
    "### Block width 7"
   ]
  },
  {
   "cell_type": "code",
   "execution_count": 45,
   "id": "567bc3dc-5a16-4cda-a703-06dc57e23eff",
   "metadata": {},
   "outputs": [],
   "source": [
    "bs = [\n",
    "    test_psi.get_B(i)\n",
    "    for k, i in enumerate(range(test.right_symmetry_index + 1, test.right_symmetry_index + 36))\n",
    "]"
   ]
  },
  {
   "cell_type": "code",
   "execution_count": 46,
   "id": "d4137841-adaf-4d2d-8ed8-0f33809ba2ed",
   "metadata": {},
   "outputs": [],
   "source": [
    "left_schmidt_values = [\n",
    "    test_psi.get_SL(i)\n",
    "    for _, i in enumerate(range(test.right_symmetry_index + 1, test.right_symmetry_index + 36))\n",
    "]"
   ]
  },
  {
   "cell_type": "code",
   "execution_count": 47,
   "id": "017c5838-a6f1-4e21-9335-77c7b8df85ec",
   "metadata": {},
   "outputs": [
    {
     "data": {
      "text/plain": [
       "35"
      ]
     },
     "execution_count": 47,
     "metadata": {},
     "output_type": "execute_result"
    }
   ],
   "source": [
    "len(bs)"
   ]
  },
  {
   "cell_type": "code",
   "execution_count": 48,
   "id": "d3ef2e02-c6a7-481e-af89-7dbe032c3d17",
   "metadata": {},
   "outputs": [],
   "source": [
    "left_environment = test.right_projected_symmetry_state\n",
    "bottom_b_tensors = bs\n",
    "top_b_tensors = [bs,]\n",
    "left_schmidt_values_list = [left_schmidt_values,]\n",
    "block_width = 7\n",
    "expectations = list()\n",
    "previous_mpo_w_tensors = []\n",
    "num_iterations = 3"
   ]
  },
  {
   "cell_type": "code",
   "execution_count": 49,
   "id": "5e748a2d-7645-4e3b-bf4b-cf24986364cc",
   "metadata": {},
   "outputs": [],
   "source": [
    "def get_physical_dim(tensor, p_label='p'):\n",
    "    index = tensor.get_leg_index(p_label)\n",
    "    dim = tensor.shape[index]\n",
    "    return dim"
   ]
  },
  {
   "cell_type": "code",
   "execution_count": 50,
   "id": "f9bcda3d-38a9-422c-a45a-04dbbe05cb4c",
   "metadata": {},
   "outputs": [],
   "source": [
    "def mpo_unitarity_score(mpo_tensors):\n",
    "    dims = [get_physical_dim(w, p_label='p') for w in mpo_tensors]\n",
    "\n",
    "    w = mpo_tensors[0].take_slice(0, 'vL')\n",
    "    dim = dim = get_physical_dim(w, p_label='p')\n",
    "\n",
    "    t1 = w\n",
    "    t1 = npc.tensordot(t1, w.conj(), [['p', 'p*'], ['p*', 'p']])\n",
    "    t1 /= dim\n",
    "\n",
    "    t2 = w\n",
    "    t2 = npc.tensordot(t2, w.conj(), [['p',], ['p*',]])\n",
    "    t2.ireplace_labels(['vR', 'vR*'], ['vR1', 'vR1*'])\n",
    "    t2 = npc.tensordot(t2, w, [['p',], ['p*',]])\n",
    "    t2 = npc.tensordot(t2, w.conj(), [['p', 'p*'], ['p*', 'p']])\n",
    "    t2 /= dim\n",
    "\n",
    "    for w in mpo_tensors[1:]:\n",
    "        dim = get_physical_dim(w, p_label='p')\n",
    "\n",
    "        t1 = npc.tensordot(t1, w, [['vR', ], ['vL']])\n",
    "        t1 = npc.tensordot(t1, w.conj(), [['vR*', 'p', 'p*'], ['vL*', 'p*', 'p']])\n",
    "        t1 /= dim\n",
    "\n",
    "        t2 = npc.tensordot(t2, w, [['vR', ], ['vL']])\n",
    "        t2 = npc.tensordot(t2, w.conj(), [['vR*', 'p',], ['vL*', 'p*',]])\n",
    "    \n",
    "        w = w.replace_label('vR', 'vR1')\n",
    "        t2 = npc.tensordot(t2, w, [['vR1', 'p'], ['vL', 'p*']])\n",
    "        t2 = npc.tensordot(t2, w.conj(), [['vR1*', 'p', 'p*'], ['vL*', 'p*', 'p']])\n",
    "        t2 /= dim\n",
    "\n",
    "    e1 = t1[0,0]\n",
    "    e2 = t2[0,0,0,0]\n",
    "\n",
    "    return e2 - 2*e1 +1"
   ]
  },
  {
   "cell_type": "code",
   "execution_count": 51,
   "id": "18135bb9-6f8a-4ec5-85cf-28299c4ebba4",
   "metadata": {},
   "outputs": [],
   "source": [
    "unitarity_scores = list()"
   ]
  },
  {
   "cell_type": "code",
   "execution_count": 52,
   "id": "f96f2f59-8e9a-4507-a3a5-3e3864ccc5f7",
   "metadata": {
    "scrolled": true
   },
   "outputs": [
    {
     "name": "stdout",
     "output_type": "stream",
     "text": [
      "Layer: 0\n",
      "Layer: 5\n",
      "Layer: 10\n",
      "Layer: 15\n",
      "Layer: 20\n",
      "Layer: 25\n",
      "Layer: 30\n",
      "Layer: 35\n",
      "Layer: 40\n",
      "Layer: 45\n"
     ]
    }
   ],
   "source": [
    "for i in range(50):\n",
    "    if i%5 == 0:\n",
    "        print(f\"Layer: {i}\")\n",
    "    \n",
    "    offset = i % block_width\n",
    "\n",
    "    new_top_b_tensors, new_schmidt_values = optimise_layer(\n",
    "        left_environment,\n",
    "        top_b_tensors[-1],\n",
    "        left_schmidt_values_list[-1],\n",
    "        block_width,\n",
    "        offset,\n",
    "        expectations,\n",
    "        previous_mpo_w_tensors,\n",
    "        bottom_b_tensors,\n",
    "        num_iterations\n",
    "    )\n",
    "\n",
    "    top_b_tensors.append(new_top_b_tensors)\n",
    "    left_schmidt_values_list.append(new_schmidt_values)\n",
    "\n",
    "    unitarity_scores.append(mpo_unitarity_score(previous_mpo_w_tensors))"
   ]
  },
  {
   "cell_type": "code",
   "execution_count": 53,
   "id": "ffafeb11-5957-4454-b2aa-da0151bb51b0",
   "metadata": {},
   "outputs": [
    {
     "data": {
      "text/plain": [
       "[[1.3497803090234535,\n",
       "  1.391183983292805,\n",
       "  1.3913084934125843,\n",
       "  1.3913091385975656,\n",
       "  1.391309139692269,\n",
       "  1.3913091397115354],\n",
       " [1.3913091397115738,\n",
       "  1.3913095384147582,\n",
       "  1.3913096398555804,\n",
       "  1.3913096505499745,\n",
       "  1.3913096505811249,\n",
       "  1.3913096505815983],\n",
       " [1.3913096505815978,\n",
       "  1.3913096586378046,\n",
       "  1.3913096626617594,\n",
       "  1.3913096633233537,\n",
       "  1.3913096633277666,\n",
       "  1.391309663327815]]"
      ]
     },
     "execution_count": 53,
     "metadata": {},
     "output_type": "execute_result"
    }
   ],
   "source": [
    "expectations[1]"
   ]
  },
  {
   "cell_type": "code",
   "execution_count": 54,
   "id": "2724842d-7618-460c-b428-a6a7f481bcd1",
   "metadata": {},
   "outputs": [],
   "source": [
    "final_expectations = list()\n",
    "\n",
    "for l in expectations:\n",
    "    if l:\n",
    "        final_expectations.append(l[-1][-1])"
   ]
  },
  {
   "cell_type": "code",
   "execution_count": 55,
   "id": "c57a43c8-dc08-4eba-9628-176486d85084",
   "metadata": {},
   "outputs": [
    {
     "data": {
      "text/plain": [
       "[<matplotlib.lines.Line2D at 0x168870410>]"
      ]
     },
     "execution_count": 55,
     "metadata": {},
     "output_type": "execute_result"
    },
    {
     "data": {
      "image/png": "[encoded data removed]",
      "text/plain": [
       "<Figure size 640x480 with 1 Axes>"
      ]
     },
     "metadata": {},
     "output_type": "display_data"
    }
   ],
   "source": [
    "plt.plot(final_expectations)"
   ]
  },
  {
   "cell_type": "code",
   "execution_count": 56,
   "id": "8cc75934-51e3-48ed-a404-212754a00f22",
   "metadata": {},
   "outputs": [
    {
     "data": {
      "text/plain": [
       "1.4318933645782488"
      ]
     },
     "execution_count": 56,
     "metadata": {},
     "output_type": "execute_result"
    }
   ],
   "source": [
    "final_expectations[-1]"
   ]
  },
  {
   "cell_type": "code",
   "execution_count": 57,
   "id": "8d97c201-4584-46bd-8a30-4e4d3dcbcd4e",
   "metadata": {},
   "outputs": [],
   "source": [
    "normalisations_by_layer = [\n",
    "    inner_product_b_tensors(\n",
    "        bs,\n",
    "        left_environment=test.right_projected_symmetry_state\n",
    "    )\n",
    "    for bs in top_b_tensors\n",
    "]"
   ]
  },
  {
   "cell_type": "code",
   "execution_count": 58,
   "id": "8bdbc7ba-1309-4701-814b-04da3c295bda",
   "metadata": {},
   "outputs": [
    {
     "data": {
      "text/plain": [
       "[<matplotlib.lines.Line2D at 0x16d2e6450>]"
      ]
     },
     "execution_count": 58,
     "metadata": {},
     "output_type": "execute_result"
    },
    {
     "data": {
      "image/png": "[encoded data removed]",
      "text/plain": [
       "<Figure size 640x480 with 1 Axes>"
      ]
     },
     "metadata": {},
     "output_type": "display_data"
    }
   ],
   "source": [
    "plt.plot(np.abs(np.array(normalisations_by_layer)))"
   ]
  },
  {
   "cell_type": "markdown",
   "id": "dd8c6231-8a77-48f9-b14b-cd662a025145",
   "metadata": {},
   "source": [
    "The normalisation has a tendency to increase... why?"
   ]
  },
  {
   "cell_type": "code",
   "execution_count": 59,
   "id": "eba051f3-71d4-4e30-a596-6c9c7ad09611",
   "metadata": {},
   "outputs": [
    {
     "data": {
      "text/plain": [
       "[<matplotlib.lines.Line2D at 0x16d3c9990>]"
      ]
     },
     "execution_count": 59,
     "metadata": {},
     "output_type": "execute_result"
    },
    {
     "data": {
      "image/png": "[encoded data removed]",
      "text/plain": [
       "<Figure size 640x480 with 1 Axes>"
      ]
     },
     "metadata": {},
     "output_type": "display_data"
    }
   ],
   "source": [
    "plt.plot(np.real(np.array(unitarity_scores)))"
   ]
  },
  {
   "cell_type": "markdown",
   "id": "ee9f9ddc-8427-460e-9194-bf7f26f0aa09",
   "metadata": {},
   "source": [
    "Unitarity does not seem to be preserved..., even at the first layer. Something is up. So the truncation scheme does not work well. Need to test properly."
   ]
  },
  {
   "cell_type": "code",
   "execution_count": 95,
   "id": "d044dd1b-9bf8-450d-a287-c1f9b26e0a8f",
   "metadata": {},
   "outputs": [
    {
     "data": {
      "text/plain": [
       "50"
      ]
     },
     "execution_count": 95,
     "metadata": {},
     "output_type": "execute_result"
    }
   ],
   "source": [
    "len(unitarity_scores)"
   ]
  }
 ],
 "metadata": {
  "kernelspec": {
   "display_name": "num_spt_venv_p11",
   "language": "python",
   "name": "num_spt_venv_p11"
  },
  "language_info": {
   "codemirror_mode": {
    "name": "ipython",
    "version": 3
   },
   "file_extension": ".py",
   "mimetype": "text/x-python",
   "name": "python",
   "nbconvert_exporter": "python",
   "pygments_lexer": "ipython3",
   "version": "3.11.9"
  }
 },
 "nbformat": 4,
 "nbformat_minor": 5
}
