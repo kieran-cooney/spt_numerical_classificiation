{
 "cells": [
  {
   "cell_type": "markdown",
   "id": "5f2205a4-2c74-4cf5-9ad1-9d65bd13bed2",
   "metadata": {},
   "source": [
    "# N sites unitaries optimisation\n",
    "\n",
    "Created 25/07/2024\n",
    "\n",
    "Objectives:\n",
    "* Investigate optimising over unitaries over N sites instead of 1 site unitaries over N sites"
   ]
  },
  {
   "cell_type": "markdown",
   "id": "9ad0db4d-805c-4403-9d48-c71d523d572f",
   "metadata": {},
   "source": [
    "# Package imports"
   ]
  },
  {
   "cell_type": "code",
   "execution_count": 1,
   "id": "ecb41ea3-927f-4efa-aebe-ce15784aa037",
   "metadata": {},
   "outputs": [],
   "source": [
    "import sys\n",
    "sys.path.append('../')"
   ]
  },
  {
   "cell_type": "code",
   "execution_count": 2,
   "id": "4a525ec6-f0c8-47ee-8b0b-345bf0ef8bd3",
   "metadata": {},
   "outputs": [],
   "source": [
    "import h5py\n",
    "from tenpy.tools import hdf5_io\n",
    "import tenpy\n",
    "import tenpy.linalg.np_conserved as npc\n",
    "\n",
    "import os"
   ]
  },
  {
   "cell_type": "code",
   "execution_count": 232,
   "id": "b22092ac-9191-4a2d-b568-8680c3687185",
   "metadata": {},
   "outputs": [],
   "source": [
    "from functools import reduce\n",
    "from operator import mul"
   ]
  },
  {
   "cell_type": "code",
   "execution_count": 119,
   "id": "214f688a-c657-4810-b4d1-b1247deff62c",
   "metadata": {},
   "outputs": [],
   "source": [
    "import numpy as np\n",
    "import matplotlib.pyplot as plt"
   ]
  },
  {
   "cell_type": "code",
   "execution_count": 30,
   "id": "b8dec68d-a5b3-4383-ab44-567a9a5981b3",
   "metadata": {},
   "outputs": [],
   "source": [
    "from SPTOptimization.SymmetryActionWithBoundaryUnitaries import SymmetryActionWithBoundaryUnitaries\n",
    "from SPTOptimization.Optimizers.OneSiteSolver import OneSiteSolver\n",
    "from SPTOptimization.utils import (\n",
    "    to_npc_array,\n",
    "    get_right_identity_environment\n",
    ")"
   ]
  },
  {
   "cell_type": "markdown",
   "id": "c69a8a47-e298-4c4c-97f7-a6157da4e15f",
   "metadata": {},
   "source": [
    "# Load data"
   ]
  },
  {
   "cell_type": "code",
   "execution_count": 5,
   "id": "210d7dcc-b7ae-4f06-8429-84177bec47d3",
   "metadata": {},
   "outputs": [],
   "source": [
    "DATA_DIR = r\"../data/transverse_cluster_200_site_dmrg\""
   ]
  },
  {
   "cell_type": "code",
   "execution_count": 6,
   "id": "52736de2-8178-4035-9861-2f17b8d972fc",
   "metadata": {},
   "outputs": [],
   "source": [
    "f_name = DATA_DIR + r\"/0_50.h5\""
   ]
  },
  {
   "cell_type": "code",
   "execution_count": 7,
   "id": "294bd63f-24bb-46d4-9716-76d74e82b013",
   "metadata": {},
   "outputs": [
    {
     "data": {
      "text/plain": [
       "'../data/transverse_cluster_200_site_dmrg/0_50.h5'"
      ]
     },
     "execution_count": 7,
     "metadata": {},
     "output_type": "execute_result"
    }
   ],
   "source": [
    "f_name"
   ]
  },
  {
   "cell_type": "code",
   "execution_count": 8,
   "id": "68e653fc-625c-4010-ac8e-f7740131b8cc",
   "metadata": {},
   "outputs": [],
   "source": [
    "with h5py.File(f_name, 'r') as f:\n",
    "    data = hdf5_io.load_from_hdf5(f)\n",
    "    test_psi = data['wavefunction']"
   ]
  },
  {
   "cell_type": "markdown",
   "id": "b4c1e616-c034-404b-b59e-196d1eaac475",
   "metadata": {},
   "source": [
    "# Definitons"
   ]
  },
  {
   "cell_type": "code",
   "execution_count": 10,
   "id": "513d7288-c641-4071-a4a3-652787d1f98c",
   "metadata": {},
   "outputs": [],
   "source": [
    "np_I = np.array([[1,0],[0,1]])\n",
    "np_X = np.array([[0,1],[1,0]])\n",
    "np_Y = np.array([[0,-1j],[1j,0]])\n",
    "np_Z = np.array([[1,0],[0,-1]])"
   ]
  },
  {
   "cell_type": "code",
   "execution_count": 15,
   "id": "2a78a62e-37eb-4baf-98ba-d6a94d599bec",
   "metadata": {},
   "outputs": [],
   "source": [
    "npc_I = to_npc_array(np_I)\n",
    "npc_X = to_npc_array(np_X)\n",
    "npc_Y = to_npc_array(np_Y)\n",
    "npc_Z = to_npc_array(np_Z)"
   ]
  },
  {
   "cell_type": "code",
   "execution_count": 19,
   "id": "83f57221-30e0-4de5-b117-a5f6fd32f6ae",
   "metadata": {},
   "outputs": [],
   "source": [
    "test = SymmetryActionWithBoundaryUnitaries(\n",
    "    test_psi,\n",
    "    [np_X, np_I]*50,\n",
    "    left_boundary_unitaries=[np_I,]*3,\n",
    "    right_boundary_unitaries=[np_I,]*3\n",
    ")"
   ]
  },
  {
   "cell_type": "markdown",
   "id": "38a4d7bb-d4d6-40cd-a205-c94962518b98",
   "metadata": {},
   "source": [
    "# Normalisations\n",
    "What is the expectation value of all identities? What about symmetry operations on all sites?"
   ]
  },
  {
   "cell_type": "code",
   "execution_count": 14,
   "id": "e8615083-07e6-48de-85e1-d03c7e7b2bd2",
   "metadata": {},
   "outputs": [
    {
     "data": {
      "text/plain": [
       "array([1.])"
      ]
     },
     "execution_count": 14,
     "metadata": {},
     "output_type": "execute_result"
    }
   ],
   "source": [
    "test_psi.expectation_value(npc_I, [100,])"
   ]
  },
  {
   "cell_type": "code",
   "execution_count": 16,
   "id": "4eeb9807-7ce3-4348-9d70-661f44dc68a8",
   "metadata": {},
   "outputs": [
    {
     "data": {
      "text/plain": [
       "array(0.00039199)"
      ]
     },
     "execution_count": 16,
     "metadata": {},
     "output_type": "execute_result"
    }
   ],
   "source": [
    "test_psi.expectation_value_multi_sites(\n",
    "    [npc_I, npc_X]*100,\n",
    "    0\n",
    ")"
   ]
  },
  {
   "cell_type": "code",
   "execution_count": 17,
   "id": "84e65607-d769-43a9-baf1-bcf39ab4257b",
   "metadata": {},
   "outputs": [
    {
     "data": {
      "text/plain": [
       "array(-0.00081054)"
      ]
     },
     "execution_count": 17,
     "metadata": {},
     "output_type": "execute_result"
    }
   ],
   "source": [
    "test_psi.expectation_value_multi_sites(\n",
    "    [npc_X, npc_I]*100,\n",
    "    0\n",
    ")"
   ]
  },
  {
   "cell_type": "code",
   "execution_count": 18,
   "id": "f91a0cdb-04ed-4ccb-ba64-a58e77a9d4ca",
   "metadata": {},
   "outputs": [
    {
     "data": {
      "text/plain": [
       "array(-4.19416384e-35)"
      ]
     },
     "execution_count": 18,
     "metadata": {},
     "output_type": "execute_result"
    }
   ],
   "source": [
    "test_psi.expectation_value_multi_sites(\n",
    "    [npc_X, npc_X]*100,\n",
    "    0\n",
    ")"
   ]
  },
  {
   "cell_type": "markdown",
   "id": "18634884-54c3-49f9-b59b-62bc810fdf01",
   "metadata": {},
   "source": [
    "This is not surprising. The symmetry acts on the boundaries only, and so we are effectively taking the inner product of some edge state."
   ]
  },
  {
   "cell_type": "markdown",
   "id": "1f28c612-3934-4ee2-a1a7-24dffe780852",
   "metadata": {},
   "source": [
    "# N-site unitaries\n",
    "So far just applying 1-site unitaries. What if an N-site is applied? Have a simple formula for this too. Provides an upper bound.\n",
    "\n",
    "First compute an overall tensor representing the expectation tensor with the 5 unitaries removed, combine legs to form a matrix and then apply optimisation formula."
   ]
  },
  {
   "cell_type": "code",
   "execution_count": 26,
   "id": "a19be02a-b0ce-4658-9e19-f7942a0c927d",
   "metadata": {},
   "outputs": [],
   "source": [
    "left_site = test.right_symmetry_index+1\n",
    "right_site = left_site + 4"
   ]
  },
  {
   "cell_type": "code",
   "execution_count": 27,
   "id": "f3ddbeac-4166-4497-b69f-eeb6df92f0fb",
   "metadata": {},
   "outputs": [],
   "source": [
    "b_matrices = [\n",
    "    test_psi.get_B(i)\n",
    "    for i in range(left_site, right_site+1)\n",
    "]"
   ]
  },
  {
   "cell_type": "code",
   "execution_count": 28,
   "id": "d28e190c-cfdc-4439-b860-4830459f4477",
   "metadata": {},
   "outputs": [
    {
     "data": {
      "text/plain": [
       "5"
      ]
     },
     "execution_count": 28,
     "metadata": {},
     "output_type": "execute_result"
    }
   ],
   "source": [
    "len(b_matrices)"
   ]
  },
  {
   "cell_type": "code",
   "execution_count": 22,
   "id": "62e39a51-442f-4d7b-a183-7840570aeb27",
   "metadata": {},
   "outputs": [],
   "source": [
    "test.compute_svd_symmetry_action()"
   ]
  },
  {
   "cell_type": "code",
   "execution_count": 29,
   "id": "5aebb1f1-2c03-4d66-b665-b1cca446a6ff",
   "metadata": {},
   "outputs": [],
   "source": [
    "le = test.right_projected_symmetry_state"
   ]
  },
  {
   "cell_type": "code",
   "execution_count": 32,
   "id": "e2791015-a9b0-40fb-a4fe-bfe089c47f62",
   "metadata": {},
   "outputs": [],
   "source": [
    "re = get_right_identity_environment(test_psi, right_site)"
   ]
  },
  {
   "cell_type": "code",
   "execution_count": 47,
   "id": "a25a7ab5-857e-40a8-aa3d-8c7eb6e5c27c",
   "metadata": {},
   "outputs": [],
   "source": [
    "t = le\n",
    "\n",
    "for i, b in enumerate(b_matrices):\n",
    "    t = npc.tensordot(t, b, [['vR',],  ['vL',]])\n",
    "    t=t.replace_label('p', 'p_{}'.format(i))\n",
    "    \n",
    "    t = npc.tensordot(t, b.conj(), [['vR*',],  ['vL*',]])\n",
    "    t=t.replace_label('p*', 'p*_{}'.format(i))\n",
    "\n",
    "t = npc.trace(t, leg1='vR', leg2='vR*')"
   ]
  },
  {
   "cell_type": "code",
   "execution_count": 48,
   "id": "15bb79cf-9b6d-4872-af71-04ed30a47cb0",
   "metadata": {},
   "outputs": [
    {
     "data": {
      "text/plain": [
       "<npc.Array shape=(2, 2, 2, 2, 2, 2, 2, 2, 2, 2) labels=['p_0', 'p*_0', 'p_1', 'p*_1', 'p_2', 'p*_2', 'p_3', 'p*_3', 'p_4', 'p*_4']>"
      ]
     },
     "execution_count": 48,
     "metadata": {},
     "output_type": "execute_result"
    }
   ],
   "source": [
    "t"
   ]
  },
  {
   "cell_type": "code",
   "execution_count": 51,
   "id": "a587405f-0169-4968-a28b-0d7c33626719",
   "metadata": {},
   "outputs": [],
   "source": [
    "t = t.combine_legs(['p_0', 'p_1', 'p_2', 'p_3', 'p_4'])"
   ]
  },
  {
   "cell_type": "code",
   "execution_count": 52,
   "id": "070ec24c-e640-4e01-ab89-53179e2cf121",
   "metadata": {},
   "outputs": [],
   "source": [
    "t = t.combine_legs(['p*_0', 'p*_1', 'p*_2', 'p*_3', 'p*_4'])"
   ]
  },
  {
   "cell_type": "code",
   "execution_count": 53,
   "id": "92cbe9f1-c920-48b4-a1da-8b778da8ad08",
   "metadata": {},
   "outputs": [
    {
     "data": {
      "text/plain": [
       "<npc.Array shape=(32, 32) labels=['(p_0.p_1.p_2.p_3.p_4)', '(p*_0.p*_1.p*_2.p*_3.p*_4)']>"
      ]
     },
     "execution_count": 53,
     "metadata": {},
     "output_type": "execute_result"
    }
   ],
   "source": [
    "t"
   ]
  },
  {
   "cell_type": "code",
   "execution_count": 54,
   "id": "10443a60-71fb-4c77-84b0-41557dc2c301",
   "metadata": {},
   "outputs": [],
   "source": [
    "np_t = t.to_ndarray()"
   ]
  },
  {
   "cell_type": "code",
   "execution_count": 55,
   "id": "06f1a42b-8bd6-437a-aaa6-ddc620eb973d",
   "metadata": {},
   "outputs": [
    {
     "data": {
      "text/plain": [
       "(32, 32)"
      ]
     },
     "execution_count": 55,
     "metadata": {},
     "output_type": "execute_result"
    }
   ],
   "source": [
    "np_t.shape"
   ]
  },
  {
   "cell_type": "code",
   "execution_count": 59,
   "id": "8cb745f7-92b5-460f-babf-9f673242d337",
   "metadata": {},
   "outputs": [],
   "source": [
    "U, S, Vh = np.linalg.svd(np_t)"
   ]
  },
  {
   "cell_type": "code",
   "execution_count": 60,
   "id": "6f4b8f4b-0e82-4ba1-aefb-ad8fd600ea1a",
   "metadata": {},
   "outputs": [
    {
     "data": {
      "text/plain": [
       "1.407161495509056"
      ]
     },
     "execution_count": 60,
     "metadata": {},
     "output_type": "execute_result"
    }
   ],
   "source": [
    "np.sum(S)"
   ]
  },
  {
   "cell_type": "markdown",
   "id": "3d91b319-c9b1-403c-b111-ea8017266569",
   "metadata": {},
   "source": [
    "Optimal value is likely $\\sqrt{2}$, so this is pretty good."
   ]
  },
  {
   "cell_type": "code",
   "execution_count": 58,
   "id": "621ef5d8-c84e-45da-8090-2cf04c1ccc5b",
   "metadata": {},
   "outputs": [
    {
     "data": {
      "text/plain": [
       "array([3.66102898e-01, 3.66102715e-01, 3.37046191e-01, 3.37046049e-01,\n",
       "       1.84616503e-04, 1.84616503e-04, 1.69963946e-04, 1.69963937e-04,\n",
       "       4.01957344e-05, 4.01957328e-05, 3.70054963e-05, 3.70054963e-05,\n",
       "       2.02697092e-08, 2.02697001e-08, 1.86609520e-08, 1.86609433e-08,\n",
       "       5.01385787e-11, 4.11921867e-11, 3.93129094e-11, 3.22981684e-11,\n",
       "       8.18054440e-13, 6.72083087e-13, 6.41424601e-13, 5.26960910e-13,\n",
       "       7.57349085e-15, 6.22237154e-15, 5.94277894e-15, 4.88497056e-15,\n",
       "       1.24530738e-16, 1.03453386e-16, 1.01715722e-16, 7.67935640e-17])"
      ]
     },
     "execution_count": 58,
     "metadata": {},
     "output_type": "execute_result"
    }
   ],
   "source": [
    "S"
   ]
  },
  {
   "cell_type": "code",
   "execution_count": 61,
   "id": "0f9168ed-e5d0-49a7-a373-539c2b63cf7c",
   "metadata": {},
   "outputs": [],
   "source": [
    "W = np.dot(U, Vh)"
   ]
  },
  {
   "cell_type": "code",
   "execution_count": 67,
   "id": "17216705-b6d9-47fe-87e1-15a0f69765cd",
   "metadata": {},
   "outputs": [],
   "source": [
    "U, S, Vh = npc.svd(t, inner_labels = ['i', 'i*'])"
   ]
  },
  {
   "cell_type": "code",
   "execution_count": 68,
   "id": "3d15d45e-738e-4e26-8869-51fc923de7b7",
   "metadata": {},
   "outputs": [
    {
     "data": {
      "text/plain": [
       "array([3.66102898e-01, 3.66102715e-01, 3.37046191e-01, 3.37046049e-01,\n",
       "       1.84616503e-04, 1.84616503e-04, 1.69963946e-04, 1.69963937e-04,\n",
       "       4.01957344e-05, 4.01957328e-05, 3.70054963e-05, 3.70054963e-05,\n",
       "       2.02697092e-08, 2.02697001e-08, 1.86609520e-08, 1.86609433e-08,\n",
       "       5.01385787e-11, 4.11921867e-11, 3.93129094e-11, 3.22981684e-11,\n",
       "       8.18054436e-13, 6.72083087e-13, 6.41424596e-13, 5.26960915e-13,\n",
       "       7.57362106e-15, 6.22238172e-15, 5.94295312e-15, 4.88498156e-15,\n",
       "       1.20288955e-16, 1.09931819e-16, 1.02383345e-16, 9.14640212e-17])"
      ]
     },
     "execution_count": 68,
     "metadata": {},
     "output_type": "execute_result"
    }
   ],
   "source": [
    "S"
   ]
  },
  {
   "cell_type": "code",
   "execution_count": 69,
   "id": "b938a323-f37d-46b9-b108-b4b239b748ee",
   "metadata": {},
   "outputs": [
    {
     "data": {
      "text/plain": [
       "<npc.Array shape=(32, 32) labels=['(p_0.p_1.p_2.p_3.p_4)', 'i']>"
      ]
     },
     "execution_count": 69,
     "metadata": {},
     "output_type": "execute_result"
    }
   ],
   "source": [
    "U"
   ]
  },
  {
   "cell_type": "code",
   "execution_count": 70,
   "id": "fa78ccb8-9e29-4224-8b26-0fde8edd37c4",
   "metadata": {},
   "outputs": [
    {
     "data": {
      "text/plain": [
       "<npc.Array shape=(32, 32) labels=['i*', '(p*_0.p*_1.p*_2.p*_3.p*_4)']>"
      ]
     },
     "execution_count": 70,
     "metadata": {},
     "output_type": "execute_result"
    }
   ],
   "source": [
    "Vh"
   ]
  },
  {
   "cell_type": "markdown",
   "id": "1d2f8fe1-d678-454f-8ebd-76b6d4d6e2f6",
   "metadata": {},
   "source": [
    "Now construct the optimal N site unitary, and attempt to decompose into a tensor product of unitaries via SVD.\n",
    "\n",
    "Few different ways to \"cut\" the sites, let's try them all."
   ]
  },
  {
   "cell_type": "code",
   "execution_count": 71,
   "id": "29ffdb88-763c-44a0-a7bb-4d6d0d330bcc",
   "metadata": {},
   "outputs": [],
   "source": [
    "W = npc.tensordot(U, Vh, [['i',], ['i*',]])"
   ]
  },
  {
   "cell_type": "code",
   "execution_count": 72,
   "id": "b1f1c817-788c-4e8f-8ca7-985ecd72cd34",
   "metadata": {},
   "outputs": [
    {
     "data": {
      "text/plain": [
       "<npc.Array shape=(32, 32) labels=['(p_0.p_1.p_2.p_3.p_4)', '(p*_0.p*_1.p*_2.p*_3.p*_4)']>"
      ]
     },
     "execution_count": 72,
     "metadata": {},
     "output_type": "execute_result"
    }
   ],
   "source": [
    "W"
   ]
  },
  {
   "cell_type": "code",
   "execution_count": 74,
   "id": "6246739a-d3f9-49bc-a530-dfee3b454265",
   "metadata": {},
   "outputs": [],
   "source": [
    "W = W.split_legs()"
   ]
  },
  {
   "cell_type": "code",
   "execution_count": 75,
   "id": "4cc352ca-6a31-4cb6-bd81-ba4579411b87",
   "metadata": {},
   "outputs": [
    {
     "data": {
      "text/plain": [
       "<npc.Array shape=(2, 2, 2, 2, 2, 2, 2, 2, 2, 2) labels=['p_0', 'p_1', 'p_2', 'p_3', 'p_4', 'p*_0', 'p*_1', 'p*_2', 'p*_3', 'p*_4']>"
      ]
     },
     "execution_count": 75,
     "metadata": {},
     "output_type": "execute_result"
    }
   ],
   "source": [
    "W"
   ]
  },
  {
   "cell_type": "code",
   "execution_count": 76,
   "id": "bb32ba00-abf9-47c4-a10e-db5a0ae8769a",
   "metadata": {},
   "outputs": [],
   "source": [
    "W_0 = W.combine_legs(['p_0', 'p*_0'])\n",
    "W_0 = W_0.combine_legs(\n",
    "    ['p_1', 'p*_1', 'p_2', 'p*_2', 'p_3', 'p*_3', 'p_4', 'p*_4',]\n",
    ")\n",
    ")"
   ]
  },
  {
   "cell_type": "code",
   "execution_count": 77,
   "id": "a92471fc-4be2-43c5-a53d-a417112d89a6",
   "metadata": {},
   "outputs": [
    {
     "data": {
      "text/plain": [
       "<npc.Array shape=(4, 256) labels=['(p_0.p*_0)', '(p_1.p*_1.p_2.p*_2.p_3.p*_3.p_4.p*_4)']>"
      ]
     },
     "execution_count": 77,
     "metadata": {},
     "output_type": "execute_result"
    }
   ],
   "source": [
    "W_0"
   ]
  },
  {
   "cell_type": "code",
   "execution_count": 78,
   "id": "cf8e9aa8-876f-437a-aad4-0d4bac9c8450",
   "metadata": {},
   "outputs": [],
   "source": [
    "U_0, S_0, Vh_0 = npc.svd(W_0, inner_labels = ['i', 'i*'])"
   ]
  },
  {
   "cell_type": "code",
   "execution_count": 79,
   "id": "286ebf64-5618-4748-b3e8-0f496205f68f",
   "metadata": {},
   "outputs": [
    {
     "data": {
      "text/plain": [
       "array([5.30201863, 1.89392005, 0.47319313, 0.27884318])"
      ]
     },
     "execution_count": 79,
     "metadata": {},
     "output_type": "execute_result"
    }
   ],
   "source": [
    "S_0"
   ]
  },
  {
   "cell_type": "code",
   "execution_count": 127,
   "id": "002c9471-a13c-4d6c-8848-88af4b394a60",
   "metadata": {},
   "outputs": [],
   "source": [
    "np_U_0 = U_0.split_legs().to_ndarray()[...,0]"
   ]
  },
  {
   "cell_type": "markdown",
   "id": "4aabe091-018a-404b-a35b-45c2239f0fc1",
   "metadata": {},
   "source": [
    "Check that the result is in fact unitary. (Close enough)"
   ]
  },
  {
   "cell_type": "code",
   "execution_count": 129,
   "id": "41dbce62-edf2-48e6-933a-192613a29442",
   "metadata": {},
   "outputs": [
    {
     "data": {
      "text/plain": [
       "array([[5.00000000e-01+0.j, 1.43765208e-16+0.j],\n",
       "       [1.43765208e-16+0.j, 5.00000000e-01+0.j]])"
      ]
     },
     "execution_count": 129,
     "metadata": {},
     "output_type": "execute_result"
    }
   ],
   "source": [
    "np_U_0 @ (np_U_0.conj().T)"
   ]
  },
  {
   "cell_type": "code",
   "execution_count": 80,
   "id": "285eaadd-233f-47ec-8959-03b6cf058ffc",
   "metadata": {},
   "outputs": [],
   "source": [
    "W_1 = W.combine_legs(['p_0', 'p*_0', 'p_1', 'p*_1'])\n",
    "W_1 = W_1.combine_legs(\n",
    "    ['p_2', 'p*_2', 'p_3', 'p*_3', 'p_4', 'p*_4']\n",
    ")"
   ]
  },
  {
   "cell_type": "code",
   "execution_count": 81,
   "id": "a794f342-67f0-4e51-acfc-b64f26c46532",
   "metadata": {},
   "outputs": [
    {
     "data": {
      "text/plain": [
       "<npc.Array shape=(16, 64) labels=['(p_0.p*_0.p_1.p*_1)', '(p_2.p*_2.p_3.p*_3.p_4.p*_4)']>"
      ]
     },
     "execution_count": 81,
     "metadata": {},
     "output_type": "execute_result"
    }
   ],
   "source": [
    "W_1"
   ]
  },
  {
   "cell_type": "code",
   "execution_count": 84,
   "id": "dd634d31-10aa-4e3a-830d-543e47834d68",
   "metadata": {},
   "outputs": [],
   "source": [
    "U_1, S_1, Vh_1 = npc.svd(W_1, inner_labels = ['i', 'i*'])"
   ]
  },
  {
   "cell_type": "code",
   "execution_count": 85,
   "id": "dff50279-5631-4642-85a3-fabe68aedda5",
   "metadata": {},
   "outputs": [
    {
     "data": {
      "text/plain": [
       "array([3.73476145, 3.65420292, 1.40925851, 1.26044198, 0.89076655,\n",
       "       0.34055237, 0.30255463, 0.19504619, 0.16914154, 0.15123592,\n",
       "       0.08956417, 0.08729223, 0.07767774, 0.07553646, 0.05831385,\n",
       "       0.04845751])"
      ]
     },
     "execution_count": 85,
     "metadata": {},
     "output_type": "execute_result"
    }
   ],
   "source": [
    "S_1"
   ]
  },
  {
   "cell_type": "code",
   "execution_count": 86,
   "id": "e3e3f2dc-7350-4f73-a259-69fa6cfb36ff",
   "metadata": {},
   "outputs": [],
   "source": [
    "W_2 = W.combine_legs(['p_0', 'p*_0', 'p_1', 'p*_1', 'p_2', 'p*_2'])\n",
    "W_2 = W_2.combine_legs(\n",
    "    ['p_3', 'p*_3', 'p_4', 'p*_4']\n",
    ")"
   ]
  },
  {
   "cell_type": "code",
   "execution_count": 87,
   "id": "f90ea56f-bb0d-4326-98a7-a5b0fdd1bcdc",
   "metadata": {},
   "outputs": [
    {
     "data": {
      "text/plain": [
       "<npc.Array shape=(64, 16) labels=['(p_0.p*_0.p_1.p*_1.p_2.p*_2)', '(p_3.p*_3.p_4.p*_4)']>"
      ]
     },
     "execution_count": 87,
     "metadata": {},
     "output_type": "execute_result"
    }
   ],
   "source": [
    "W_2"
   ]
  },
  {
   "cell_type": "code",
   "execution_count": 88,
   "id": "729186df-1535-45e3-8f7a-1519f9fdaf0e",
   "metadata": {},
   "outputs": [],
   "source": [
    "U_2, S_2, Vh_2 = npc.svd(W_2, inner_labels = ['i', 'i*'])"
   ]
  },
  {
   "cell_type": "code",
   "execution_count": 89,
   "id": "f48a8500-b8d7-416f-a435-60e849d811bb",
   "metadata": {},
   "outputs": [
    {
     "data": {
      "text/plain": [
       "array([3.16177792, 3.06684575, 2.46107764, 2.20092214, 0.82280272,\n",
       "       0.73609489, 0.46290582, 0.41336233, 0.1875453 , 0.14332147,\n",
       "       0.12885699, 0.09881673, 0.06078629, 0.05255569, 0.0471475 ,\n",
       "       0.04362077])"
      ]
     },
     "execution_count": 89,
     "metadata": {},
     "output_type": "execute_result"
    }
   ],
   "source": [
    "S_2"
   ]
  },
  {
   "cell_type": "code",
   "execution_count": 90,
   "id": "53074262-852e-4420-9cde-fc7d5a389ee3",
   "metadata": {},
   "outputs": [],
   "source": [
    "W_3= W.combine_legs(['p_0', 'p*_0', 'p_1', 'p*_1', 'p_2', 'p*_2', 'p_3', 'p*_3'])\n",
    "W_3 = W_3.combine_legs(\n",
    "    ['p_4', 'p*_4']\n",
    ")"
   ]
  },
  {
   "cell_type": "code",
   "execution_count": 91,
   "id": "533b0a6a-dc3e-4974-b13e-820a51d8e202",
   "metadata": {},
   "outputs": [
    {
     "data": {
      "text/plain": [
       "<npc.Array shape=(256, 4) labels=['(p_0.p*_0.p_1.p*_1.p_2.p*_2.p_3.p*_3)', '(p_4.p*_4)']>"
      ]
     },
     "execution_count": 91,
     "metadata": {},
     "output_type": "execute_result"
    }
   ],
   "source": [
    "W_3"
   ]
  },
  {
   "cell_type": "code",
   "execution_count": 92,
   "id": "b39d3437-bdf1-4237-81d7-58ec7c9351b4",
   "metadata": {},
   "outputs": [],
   "source": [
    "U_3, S_3, Vh_3 = npc.svd(W_3, inner_labels = ['i', 'i*'])"
   ]
  },
  {
   "cell_type": "code",
   "execution_count": 93,
   "id": "5553e8f6-e011-4ea4-a25e-0737c095cf58",
   "metadata": {},
   "outputs": [
    {
     "data": {
      "text/plain": [
       "array([4.40984182, 3.30651071, 1.10756247, 0.62736547])"
      ]
     },
     "execution_count": 93,
     "metadata": {},
     "output_type": "execute_result"
    }
   ],
   "source": [
    "S_3"
   ]
  },
  {
   "cell_type": "markdown",
   "id": "c8579a8e-bd68-4564-9d6b-90d12d3af82a",
   "metadata": {},
   "source": [
    "Automate above, check resulting right expectation for different values of N:"
   ]
  },
  {
   "cell_type": "code",
   "execution_count": 116,
   "id": "43491803-dbcf-4fc2-82f8-2164f7760d32",
   "metadata": {},
   "outputs": [],
   "source": [
    "def compute_right_scores(n):\n",
    "    left_site = test.right_symmetry_index+1\n",
    "    right_site = test.right_symmetry_index + n\n",
    "    le = test.right_projected_symmetry_state\n",
    "    \n",
    "    t = le\n",
    "\n",
    "    b_matrices = [\n",
    "        test_psi.get_B(i)\n",
    "        for i in range(left_site, right_site+1)\n",
    "    ]\n",
    "\n",
    "    out = np.zeros(n)\n",
    "    top_legs = list()\n",
    "    bottom_legs = list()\n",
    "\n",
    "    for i, b in enumerate(b_matrices):\n",
    "        new_top_leg = 'p_{}'.format(i)\n",
    "        top_legs.append(new_top_leg)\n",
    "\n",
    "        t = npc.tensordot(t, b, [['vR',],  ['vL',]])        \n",
    "        t=t.replace_label('p', new_top_leg)\n",
    "\n",
    "        \n",
    "        new_bottom_leg = 'p*_{}'.format(i)\n",
    "        bottom_legs.append(new_bottom_leg)\n",
    "\n",
    "        t = npc.tensordot(t, b.conj(), [['vR*',],  ['vL*',]])\n",
    "        t=t.replace_label('p*', new_bottom_leg)\n",
    "\n",
    "        t0 = t.combine_legs(top_legs).combine_legs(bottom_legs)\n",
    "        t0 = npc.trace(t0, leg1='vR', leg2='vR*')\n",
    "        S = npc.svd(t0, inner_labels = ['i', 'i*'], compute_uv=False)\n",
    "        out[i] = np.sum(S)\n",
    "\n",
    "    return out"
   ]
  },
  {
   "cell_type": "code",
   "execution_count": 117,
   "id": "12e46300-8c63-4f24-9739-85e536187f72",
   "metadata": {},
   "outputs": [],
   "source": [
    "right_scores = compute_right_scores(10)"
   ]
  },
  {
   "cell_type": "code",
   "execution_count": 118,
   "id": "8fde9517-c370-47ac-83f1-4502df73fb8d",
   "metadata": {},
   "outputs": [
    {
     "data": {
      "text/plain": [
       "array([8.13733648e-08, 1.36514717e+00, 1.36514717e+00, 1.40716150e+00,\n",
       "       1.40716150e+00, 1.41363008e+00, 1.41363008e+00, 1.41482896e+00,\n",
       "       1.41482896e+00, 1.41506554e+00])"
      ]
     },
     "execution_count": 118,
     "metadata": {},
     "output_type": "execute_result"
    }
   ],
   "source": [
    "right_scores"
   ]
  },
  {
   "cell_type": "code",
   "execution_count": 120,
   "id": "687e10d3-5298-40df-9c01-1e6d391830b0",
   "metadata": {},
   "outputs": [
    {
     "data": {
      "text/plain": [
       "[<matplotlib.lines.Line2D at 0x177613ad0>]"
      ]
     },
     "execution_count": 120,
     "metadata": {},
     "output_type": "execute_result"
    },
    {
     "data": {
      "image/png": "[encoded data removed]",
      "text/plain": [
       "<Figure size 640x480 with 1 Axes>"
      ]
     },
     "metadata": {},
     "output_type": "display_data"
    }
   ],
   "source": [
    "plt.plot(right_scores)"
   ]
  },
  {
   "cell_type": "code",
   "execution_count": 121,
   "id": "d77be95a-4500-4426-88c6-3db1f2f96cf0",
   "metadata": {},
   "outputs": [
    {
     "data": {
      "text/plain": [
       "[<matplotlib.lines.Line2D at 0x32d3f1d50>]"
      ]
     },
     "execution_count": 121,
     "metadata": {},
     "output_type": "execute_result"
    },
    {
     "data": {
      "image/png": "[encoded data removed]",
      "text/plain": [
       "<Figure size 640x480 with 1 Axes>"
      ]
     },
     "metadata": {},
     "output_type": "display_data"
    }
   ],
   "source": [
    "plt.plot(right_scores[1:])"
   ]
  },
  {
   "cell_type": "markdown",
   "id": "6e3c9b14-27e1-4beb-880b-566a2086c477",
   "metadata": {},
   "source": [
    "Interesting \"plateaus\"... The right expectation only increases when n goes from odd to even. Due to the 2 site nature of the original symmetries...?"
   ]
  },
  {
   "cell_type": "markdown",
   "id": "a9b8eb61-5679-4ec0-ab5c-f23de32f6b79",
   "metadata": {},
   "source": [
    "Decompose into n site unitary into tensor product of 1 site unitaries."
   ]
  },
  {
   "cell_type": "code",
   "execution_count": 159,
   "id": "74dd6fba-81d2-4cbb-8ad2-10063ffb725a",
   "metadata": {},
   "outputs": [],
   "source": [
    "def one_site_tensorize_unitary(t, n, i):\n",
    "    left_leg_labels = [f'p_{i}', f'p*_{i}']\n",
    "    right_leg_labels = [\n",
    "        *[f'p_{j}' for j in range(i+1, n)],\n",
    "        *[f'p*_{j}' for j in range(i+1, n)],\n",
    "    ]\n",
    "\n",
    "    t_split = (\n",
    "        t\n",
    "        .combine_legs(left_leg_labels)\n",
    "        .combine_legs(right_leg_labels)\n",
    "    )\n",
    "\n",
    "    U, S, Vh = npc.svd(t_split, inner_labels = ['i', 'i*'])\n",
    "\n",
    "    U0 = U[:,0].split_legs()\n",
    "    V0 = Vh[0,:].split_legs()\n",
    "\n",
    "    return (U0, S, V0)"
   ]
  },
  {
   "cell_type": "code",
   "execution_count": 135,
   "id": "685bec94-13e2-4cb8-a5c8-029c7883185e",
   "metadata": {},
   "outputs": [],
   "source": [
    "t = t.split_legs()"
   ]
  },
  {
   "cell_type": "code",
   "execution_count": 136,
   "id": "648878a6-c076-430d-8220-64803d1e4d40",
   "metadata": {},
   "outputs": [
    {
     "data": {
      "text/plain": [
       "<npc.Array shape=(2, 2, 2, 2, 2, 2, 2, 2, 2, 2) labels=['p_0', 'p_1', 'p_2', 'p_3', 'p_4', 'p*_0', 'p*_1', 'p*_2', 'p*_3', 'p*_4']>"
      ]
     },
     "execution_count": 136,
     "metadata": {},
     "output_type": "execute_result"
    }
   ],
   "source": [
    "t"
   ]
  },
  {
   "cell_type": "code",
   "execution_count": 204,
   "id": "cd53da48-76c1-43b3-b457-f5a7bf0b9d0f",
   "metadata": {},
   "outputs": [],
   "source": [
    "def tensorize_unitary(t, n):\n",
    "    upper_leg_labels = [f'p_{j}' for j in range(n)]\n",
    "    lower_leg_labels = [f'p*_{j}' for j in range(n)]\n",
    "\n",
    "    t_combined = (\n",
    "        t\n",
    "        .combine_legs(upper_leg_labels)\n",
    "        .combine_legs(lower_leg_labels)\n",
    "    )\n",
    "\n",
    "    U, S, Vh = npc.svd(t_combined.complex_conj(), inner_labels=['i', 'i*'])\n",
    "    W = npc.tensordot(U, Vh, ['i', 'i*']).split_legs()\n",
    "\n",
    "    unitaries = list()\n",
    "    schmidt_values = list()\n",
    "\n",
    "    for i in range(n-1):\n",
    "        ul, sv, W = one_site_tensorize_unitary(W, n, i)\n",
    "        ul = ul.replace_labels([f'p_{i}', f'p*_{i}'], ['p', 'p*'])\n",
    "        unitaries.append(ul)\n",
    "        schmidt_values.append(sv)\n",
    "\n",
    "    W = W.replace_labels([f'p_{n-1}', f'p*_{n-1}'], ['p', 'p*'])\n",
    "    unitaries.append(W)\n",
    "\n",
    "    return (unitaries, schmidt_values)"
   ]
  },
  {
   "cell_type": "code",
   "execution_count": 205,
   "id": "6a293d80-00c2-41e5-812e-0620904ab391",
   "metadata": {},
   "outputs": [],
   "source": [
    "unitaries, schmidt_values = tensorize_unitary(t, 5)"
   ]
  },
  {
   "cell_type": "code",
   "execution_count": 206,
   "id": "052f70d6-7865-4c39-95e9-513a2e8ea644",
   "metadata": {},
   "outputs": [
    {
     "data": {
      "text/plain": [
       "[<npc.Array shape=(2, 2) labels=['p', 'p*']>,\n",
       " <npc.Array shape=(2, 2) labels=['p', 'p*']>,\n",
       " <npc.Array shape=(2, 2) labels=['p', 'p*']>,\n",
       " <npc.Array shape=(2, 2) labels=['p', 'p*']>,\n",
       " <npc.Array shape=(2, 2) labels=['p', 'p*']>]"
      ]
     },
     "execution_count": 206,
     "metadata": {},
     "output_type": "execute_result"
    }
   ],
   "source": [
    "unitaries"
   ]
  },
  {
   "cell_type": "code",
   "execution_count": 207,
   "id": "ad65b83f-6b70-4647-abd7-dedc6b7d1223",
   "metadata": {},
   "outputs": [
    {
     "data": {
      "text/plain": [
       "[array([5.30201863, 1.89392005, 0.47319313, 0.27884318]),\n",
       " array([0.70440088, 0.68913462, 0.1676845 , 0.02819209]),\n",
       " array([0.82291136, 0.53338709, 0.16280378, 0.10867401]),\n",
       " array([9.99985210e-01, 5.38699866e-03, 6.75999864e-04, 3.22411508e-04])]"
      ]
     },
     "execution_count": 207,
     "metadata": {},
     "output_type": "execute_result"
    }
   ],
   "source": [
    "schmidt_values"
   ]
  },
  {
   "cell_type": "code",
   "execution_count": 233,
   "id": "97ef4733-6b3c-4096-9c12-352a009049a2",
   "metadata": {},
   "outputs": [],
   "source": [
    "schmidt_factor = reduce(mul, (l[0] for l in schmidt_values))"
   ]
  },
  {
   "cell_type": "code",
   "execution_count": 234,
   "id": "0323f1ae-1f63-434e-b3d8-58fc503bd4e3",
   "metadata": {},
   "outputs": [
    {
     "data": {
      "text/plain": [
       "3.073319920981477"
      ]
     },
     "execution_count": 234,
     "metadata": {},
     "output_type": "execute_result"
    }
   ],
   "source": [
    "schmidt_factor"
   ]
  },
  {
   "cell_type": "markdown",
   "id": "53dff05c-ee3c-49ef-aeb5-e459e7656602",
   "metadata": {},
   "source": [
    "Check unitaries are actually unitaries:"
   ]
  },
  {
   "cell_type": "code",
   "execution_count": 236,
   "id": "3773bdac-23e8-47de-96f8-5a5e3e497f43",
   "metadata": {},
   "outputs": [],
   "source": [
    "u = unitaries[0].to_ndarray()"
   ]
  },
  {
   "cell_type": "code",
   "execution_count": 237,
   "id": "3d74e0d9-5640-4e1c-907c-c4cc300d8985",
   "metadata": {},
   "outputs": [
    {
     "data": {
      "text/plain": [
       "array([[5.00000000e-01+0.j, 1.39753009e-18+0.j],\n",
       "       [1.39753009e-18+0.j, 5.00000000e-01+0.j]])"
      ]
     },
     "execution_count": 237,
     "metadata": {},
     "output_type": "execute_result"
    }
   ],
   "source": [
    "u @ (u.conj().T)"
   ]
  },
  {
   "cell_type": "code",
   "execution_count": 238,
   "id": "b5bf2246-a6b6-47a8-8530-09deb691cb6c",
   "metadata": {},
   "outputs": [
    {
     "name": "stdout",
     "output_type": "stream",
     "text": [
      "[[5.00000000e-01+0.j 1.39753009e-18+0.j]\n",
      " [1.39753009e-18+0.j 5.00000000e-01+0.j]]\n",
      "[[0.50453465+0.j 0.03475558+0.j]\n",
      " [0.03475558+0.j 0.49546535+0.j]]\n",
      "[[ 0.4996206+0.j -0.0006554+0.j]\n",
      " [-0.0006554+0.j  0.5003794+0.j]]\n",
      "[[ 0.88052068+0.j -0.04095727+0.j]\n",
      " [-0.04095727+0.j  0.11947932+0.j]]\n",
      "[[0.48914819+0.j 0.00119075+0.j]\n",
      " [0.00119075+0.j 0.51085181+0.j]]\n"
     ]
    }
   ],
   "source": [
    "for u in unitaries:\n",
    "    np_U = u.to_ndarray()\n",
    "    print(np_U @ (np_U.conj().T))"
   ]
  },
  {
   "cell_type": "markdown",
   "id": "46e0d4fe-1c24-454e-b4a4-cfbeb41b28ec",
   "metadata": {},
   "source": [
    "Not unitary, but not far off either."
   ]
  },
  {
   "cell_type": "code",
   "execution_count": 208,
   "id": "37e98d71-fb96-4e9e-b72d-3521bde762af",
   "metadata": {},
   "outputs": [
    {
     "data": {
      "text/plain": [
       "<npc.Array shape=(2, 2, 2, 2, 2, 2, 2, 2, 2, 2) labels=['p_0', 'p_1', 'p_2', 'p_3', 'p_4', 'p*_0', 'p*_1', 'p*_2', 'p*_3', 'p*_4']>"
      ]
     },
     "execution_count": 208,
     "metadata": {},
     "output_type": "execute_result"
    }
   ],
   "source": [
    "t"
   ]
  },
  {
   "cell_type": "code",
   "execution_count": 223,
   "id": "052f1357-30d1-41c9-9b87-ab087d3f2ed6",
   "metadata": {},
   "outputs": [],
   "source": [
    "c = t"
   ]
  },
  {
   "cell_type": "code",
   "execution_count": 224,
   "id": "c3522282-38ca-4bde-af1b-74073fe4dcf8",
   "metadata": {},
   "outputs": [],
   "source": [
    "for i, u in enumerate(unitaries):\n",
    "    upper_label = f'p_{i}'\n",
    "    lower_label = f'p*_{i}'\n",
    "\n",
    "    label_pair = [lower_label, upper_label]\n",
    "    c = npc.tensordot(c, u, [label_pair, ['p', 'p*']])"
   ]
  },
  {
   "cell_type": "code",
   "execution_count": 225,
   "id": "b061fb3b-6a92-4707-a72a-c6a67bfb491e",
   "metadata": {},
   "outputs": [
    {
     "data": {
      "text/plain": [
       "(0.2193071074771448+0j)"
      ]
     },
     "execution_count": 225,
     "metadata": {},
     "output_type": "execute_result"
    }
   ],
   "source": [
    "c"
   ]
  },
  {
   "cell_type": "markdown",
   "id": "e37b604f-185f-4b4b-b505-e6bbc673a42f",
   "metadata": {},
   "source": [
    "Not good. Should check with class."
   ]
  },
  {
   "cell_type": "code",
   "execution_count": 231,
   "id": "ae1c3d2e-5eee-4c19-b6e3-1874569423f6",
   "metadata": {},
   "outputs": [],
   "source": [
    "np_unitaries = [u.to_ndarray() for u in unitaries]"
   ]
  },
  {
   "cell_type": "code",
   "execution_count": 227,
   "id": "c45eafd5-b1e5-46e4-bfcb-e22d2442f9a0",
   "metadata": {},
   "outputs": [],
   "source": [
    "opt_test = SymmetryActionWithBoundaryUnitaries(\n",
    "    test_psi,\n",
    "    [np_X, np_I]*50,\n",
    "    left_boundary_unitaries=[np_I,]*3,\n",
    "    right_boundary_unitaries=np_unitaries\n",
    ")"
   ]
  },
  {
   "cell_type": "code",
   "execution_count": 228,
   "id": "ce7bd725-c554-496c-b4d5-35bcd661f71b",
   "metadata": {},
   "outputs": [],
   "source": [
    "opt_test.compute_svd_symmetry_action()"
   ]
  },
  {
   "cell_type": "code",
   "execution_count": 229,
   "id": "762c6b5b-dd4a-4ec7-a9b6-c40ac62021ba",
   "metadata": {},
   "outputs": [
    {
     "data": {
      "text/plain": [
       "(-3.840662407864379e-12+0j)"
      ]
     },
     "execution_count": 229,
     "metadata": {},
     "output_type": "execute_result"
    }
   ],
   "source": [
    "opt_test.compute_svd_approximate_expectation()"
   ]
  },
  {
   "cell_type": "code",
   "execution_count": 230,
   "id": "a3dbb473-f464-478f-b6f9-3ee7922aa93c",
   "metadata": {},
   "outputs": [
    {
     "data": {
      "text/plain": [
       "(0.21930710747714474+0j)"
      ]
     },
     "execution_count": 230,
     "metadata": {},
     "output_type": "execute_result"
    }
   ],
   "source": [
    "opt_test.right_expectation"
   ]
  },
  {
   "cell_type": "markdown",
   "id": "c2c2ae1d-f3fc-411b-aef2-d2a98431603c",
   "metadata": {},
   "source": [
    "Note that the \"unitaries\" are often close to unitaries but off by a fixed scalar. If this were the case for all of them, then could find a correction term to get a sensible answer."
   ]
  },
  {
   "cell_type": "markdown",
   "id": "484bc4b1-5c97-441b-bb77-7d6a689f3919",
   "metadata": {},
   "source": [
    "# Conclusion\n",
    " * N site unitary optimisation provides a useful bound on the highest possible expectation one can... expect.\n",
    " * May struggle with scaling as on n sites one must find the singular values of a $2^n$ dimensional square matrix.\n",
    " * Could potentially provide a solution for the 1 site case provided we have a way to decompose the unitary. Not obvious to me how to do this. First need to decompose, but then need to ensure that the factors are still unitaries."
   ]
  },
  {
   "cell_type": "code",
   "execution_count": null,
   "id": "bf42bda1-f000-4ab6-a8c7-43bea3cc3cbf",
   "metadata": {},
   "outputs": [],
   "source": []
  }
 ],
 "metadata": {
  "kernelspec": {
   "display_name": "num_spt_venv_p11",
   "language": "python",
   "name": "num_spt_venv_p11"
  },
  "language_info": {
   "codemirror_mode": {
    "name": "ipython",
    "version": 3
   },
   "file_extension": ".py",
   "mimetype": "text/x-python",
   "name": "python",
   "nbconvert_exporter": "python",
   "pygments_lexer": "ipython3",
   "version": "3.11.9"
  }
 },
 "nbformat": 4,
 "nbformat_minor": 5
}
