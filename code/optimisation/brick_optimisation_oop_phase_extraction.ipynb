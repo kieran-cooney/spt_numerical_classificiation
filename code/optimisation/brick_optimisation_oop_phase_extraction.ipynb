{
 "cells": [
  {
   "cell_type": "markdown",
   "id": "5f2205a4-2c74-4cf5-9ad1-9d65bd13bed2",
   "metadata": {},
   "source": [
    "# Brick optimisation OOP phase extraction\n",
    "\n",
    "Created 03/07/2025\n",
    "\n",
    "Objectives:\n",
    "* Apply OOP packages from fermionic classification to bosonic states."
   ]
  },
  {
   "cell_type": "markdown",
   "id": "9ad0db4d-805c-4403-9d48-c71d523d572f",
   "metadata": {},
   "source": [
    "# Package imports"
   ]
  },
  {
   "cell_type": "code",
   "execution_count": 1,
   "id": "ecb41ea3-927f-4efa-aebe-ce15784aa037",
   "metadata": {},
   "outputs": [],
   "source": [
    "import sys\n",
    "sys.path.append('../')"
   ]
  },
  {
   "cell_type": "code",
   "execution_count": 2,
   "id": "4a525ec6-f0c8-47ee-8b0b-345bf0ef8bd3",
   "metadata": {},
   "outputs": [],
   "source": [
    "import h5py\n",
    "from tenpy.tools import hdf5_io\n",
    "import tenpy\n",
    "import tenpy.linalg.np_conserved as npc\n",
    "\n",
    "import os\n",
    "import pickle"
   ]
  },
  {
   "cell_type": "code",
   "execution_count": 3,
   "id": "214f688a-c657-4810-b4d1-b1247deff62c",
   "metadata": {},
   "outputs": [],
   "source": [
    "import numpy as np\n",
    "import matplotlib\n",
    "import matplotlib.pyplot as plt\n",
    "import pandas as pd\n",
    "\n",
    "from matplotlib.ticker import AutoMinorLocator, MultipleLocator"
   ]
  },
  {
   "cell_type": "code",
   "execution_count": 4,
   "id": "11d5f5ee-50dc-4446-aa69-0706b5eda5ba",
   "metadata": {},
   "outputs": [],
   "source": [
    "from tqdm import tqdm"
   ]
  },
  {
   "cell_type": "code",
   "execution_count": 5,
   "id": "b8dec68d-a5b3-4383-ab44-567a9a5981b3",
   "metadata": {},
   "outputs": [],
   "source": [
    "from SPTOptimization.SymmetryActionWithBoundaryUnitaries import SymmetryActionWithBoundaryUnitaries\n",
    "\n",
    "from SPTOptimization.utils import (\n",
    "    to_npc_array,\n",
    "    get_right_identity_environment,\n",
    "    get_right_identity_environment_from_tp_tensor,\n",
    "    multiply_stacked_unitaries_against_mps,\n",
    "    inner_product_b_tensors,\n",
    "    get_npc_identity_operator\n",
    ")\n",
    "\n",
    "from SPTOptimization.Optimizers.MPSBrickSolver import(\n",
    "    MPSBrickSolver\n",
    ")"
   ]
  },
  {
   "cell_type": "markdown",
   "id": "c69a8a47-e298-4c4c-97f7-a6157da4e15f",
   "metadata": {},
   "source": [
    "# Load data"
   ]
  },
  {
   "cell_type": "code",
   "execution_count": 6,
   "id": "a2e1bcbf-261d-4e7e-be0e-9f84b3c0ab0c",
   "metadata": {},
   "outputs": [],
   "source": [
    "DATA_DIR = r\"../data/transverse_cluster_200_site_dmrg\""
   ]
  },
  {
   "cell_type": "code",
   "execution_count": 7,
   "id": "038ddd01-0ee1-43d2-8a58-4ee04128149e",
   "metadata": {},
   "outputs": [],
   "source": [
    "loaded_data = list()\n",
    "\n",
    "for local_file_name in os.listdir(DATA_DIR):\n",
    "    f_name = r\"{}/{}\".format(DATA_DIR, local_file_name, ignore_unknown=False)\n",
    "    with h5py.File(f_name, 'r') as f:\n",
    "        data = hdf5_io.load_from_hdf5(f)\n",
    "        loaded_data.append(data)"
   ]
  },
  {
   "cell_type": "code",
   "execution_count": 8,
   "id": "d4129cd6-27df-4c4b-9031-3109b59edd83",
   "metadata": {},
   "outputs": [],
   "source": [
    "b_parameters = sorted(list(d['paramters']['B'] for d in loaded_data))"
   ]
  },
  {
   "cell_type": "code",
   "execution_count": 9,
   "id": "53d8b531-0639-47cc-9531-cacebbb3ffff",
   "metadata": {},
   "outputs": [],
   "source": [
    "psi_dict = dict()"
   ]
  },
  {
   "cell_type": "code",
   "execution_count": 10,
   "id": "d624426f-762b-4328-b296-6bd05cfffe1b",
   "metadata": {},
   "outputs": [],
   "source": [
    "for b in b_parameters:\n",
    "    psi = next(\n",
    "        d['wavefunction']\n",
    "        for d in loaded_data\n",
    "        if d['paramters']['B'] == b\n",
    "    )\n",
    "\n",
    "    rounded_b = round(b, 1)\n",
    "    psi_dict[rounded_b] = psi"
   ]
  },
  {
   "cell_type": "markdown",
   "id": "b4c1e616-c034-404b-b59e-196d1eaac475",
   "metadata": {},
   "source": [
    "# Definitons"
   ]
  },
  {
   "cell_type": "code",
   "execution_count": 11,
   "id": "63506364-f535-4c0f-8c5f-8839c69f7b9d",
   "metadata": {},
   "outputs": [],
   "source": [
    "MAX_VIRTUAL_BOND_DIM = 8\n",
    "MAX_INTERMEDIATE_VIRTUAL_BOND_DIM = 2*MAX_VIRTUAL_BOND_DIM\n",
    "# MPO bond dim?\n",
    "MAX_MPO_BOND_DIM = 50\n",
    "\n",
    "SVD_CUTOFF = 1e-3"
   ]
  },
  {
   "cell_type": "markdown",
   "id": "1efd18d4-328d-43dd-996d-393f18eb02b2",
   "metadata": {},
   "source": [
    "Define bosonic symmetries. Label by the group element added."
   ]
  },
  {
   "cell_type": "code",
   "execution_count": 12,
   "id": "513d7288-c641-4071-a4a3-652787d1f98c",
   "metadata": {},
   "outputs": [],
   "source": [
    "np_I = np.array([[1,0],[0,1]])\n",
    "np_X = np.array([[0,1],[1,0]])\n",
    "np_Y = np.array([[0,-1j],[1j,0]])\n",
    "np_Z = np.array([[1,0],[0,-1]])"
   ]
  },
  {
   "cell_type": "code",
   "execution_count": 13,
   "id": "2a78a62e-37eb-4baf-98ba-d6a94d599bec",
   "metadata": {},
   "outputs": [],
   "source": [
    "npc_I = to_npc_array(np_I)\n",
    "npc_X = to_npc_array(np_X)\n",
    "npc_Y = to_npc_array(np_Y)\n",
    "npc_Z = to_npc_array(np_Z)"
   ]
  },
  {
   "cell_type": "code",
   "execution_count": 14,
   "id": "b9e2f954-c591-4479-ba37-32862c25c660",
   "metadata": {},
   "outputs": [],
   "source": [
    "symmetry_actions = [\n",
    "    [np_I, np_I],\n",
    "    [np_I, np_X],\n",
    "    [np_X, np_I],\n",
    "    [np_X, np_X]\n",
    "]"
   ]
  },
  {
   "cell_type": "code",
   "execution_count": 15,
   "id": "a706b5a0-860a-4294-8b5b-bdbf9482fe28",
   "metadata": {},
   "outputs": [],
   "source": [
    "cases = [\n",
    "    [\n",
    "        SymmetryActionWithBoundaryUnitaries(\n",
    "            psi,\n",
    "            s*40,\n",
    "            left_boundary_unitaries=[np_I,]*3,\n",
    "            right_boundary_unitaries=[np_I,]*3\n",
    "        )\n",
    "        for s in symmetry_actions\n",
    "    ]\n",
    "    for psi in psi_dict.values()\n",
    "]"
   ]
  },
  {
   "cell_type": "code",
   "execution_count": 16,
   "id": "8e7ff810-32b3-4163-9b1b-ca96a282a7f5",
   "metadata": {},
   "outputs": [],
   "source": [
    "for l in cases:\n",
    "    for c in l:\n",
    "        c.compute_svd_approximate_expectation()"
   ]
  },
  {
   "cell_type": "code",
   "execution_count": 17,
   "id": "6bac53fa-b629-46fc-a145-f932a0af6f18",
   "metadata": {},
   "outputs": [],
   "source": [
    "left_trivial_leg_charge = tenpy.linalg.charges.LegCharge(\n",
    "    tenpy.linalg.charges.ChargeInfo([], []),\n",
    "    [0,1],\n",
    "    [[]],\n",
    "    qconj=1\n",
    ")"
   ]
  },
  {
   "cell_type": "code",
   "execution_count": 18,
   "id": "44f34cb7-0888-474b-9483-f4956951fc31",
   "metadata": {},
   "outputs": [],
   "source": [
    "right_trivial_leg_charge = tenpy.linalg.charges.LegCharge(\n",
    "    tenpy.linalg.charges.ChargeInfo([], []),\n",
    "    [0,1],\n",
    "    [[]],\n",
    "    qconj=-1\n",
    ")"
   ]
  },
  {
   "cell_type": "markdown",
   "id": "75e2c400-24f6-4b9a-a3c2-1170d416dd6a",
   "metadata": {},
   "source": [
    "## SPT functions"
   ]
  },
  {
   "cell_type": "code",
   "execution_count": 19,
   "id": "08ce0827-cbc3-4e55-8ac1-4eedc638e598",
   "metadata": {},
   "outputs": [],
   "source": [
    "def calculate_proj_rep_phase(state_g, left_schmidt_values_g, unitary_h,\n",
    "                             state_gh,\n",
    "                             left_environment,\n",
    "                             max_virtual_bond_dim=MAX_VIRTUAL_BOND_DIM):\n",
    "    prod_state, _ = multiply_stacked_unitaries_against_mps(\n",
    "        unitary_h,\n",
    "        state_g,\n",
    "        left_schmidt_values_g,\n",
    "        max_virtual_bond_dim\n",
    "    )\n",
    "\n",
    "    exp = inner_product_b_tensors(prod_state, state_gh, left_environment)\n",
    "\n",
    "    return exp/(np.abs(exp))"
   ]
  },
  {
   "cell_type": "code",
   "execution_count": 20,
   "id": "c70d9c69-1835-424f-8c10-cb95ae528bae",
   "metadata": {},
   "outputs": [],
   "source": [
    "def get_proj_rep_phases(mps_tensors, left_schmidt_values, unitaries,\n",
    "                        left_environment):\n",
    "    mps_dict = {\n",
    "        k: v for k, v in zip(symmetry_labels[1:], mps_tensors)\n",
    "    }\n",
    "\n",
    "    schmidt_vals_dict = {\n",
    "        k: v for k, v in zip(symmetry_labels[1:], left_schmidt_values)\n",
    "    }\n",
    "\n",
    "    unitaries_dict = {\n",
    "        k: v for k, v in zip(symmetry_labels[1:], unitaries)\n",
    "    }\n",
    "\n",
    "    out_phases = list()\n",
    "\n",
    "    for a, b, c in group_products:\n",
    "        phase = calculate_proj_rep_phase(\n",
    "            mps_dict[a],\n",
    "            schmidt_vals_dict[a],\n",
    "            unitaries_dict[b],\n",
    "            mps_dict[c],\n",
    "            left_environment,\n",
    "            max_virtual_bond_dim=MAX_VIRTUAL_BOND_DIM\n",
    "        )\n",
    "\n",
    "        out_phases.append(phase)\n",
    "\n",
    "    return out_phases"
   ]
  },
  {
   "cell_type": "code",
   "execution_count": 21,
   "id": "b40284a8-1f34-4211-a005-eb880a846972",
   "metadata": {},
   "outputs": [],
   "source": [
    "def get_right_proj_rep_phases_from_optimizers(optimizers):\n",
    "    mps_tensors = [\n",
    "        o.top_right_mps_tensors\n",
    "        for o in optimizers[1:]\n",
    "    ]\n",
    "\n",
    "    left_schmidt_values = [\n",
    "        o.current_right_side_left_schmidt_values\n",
    "        for o in optimizers[1:]\n",
    "    ]\n",
    "\n",
    "    unitaries = [\n",
    "        o.right_unitaries for o in optimizers[1:]\n",
    "    ]\n",
    "\n",
    "    left_environment = optimizers[0].right_side_left_symmetry_environment\n",
    "\n",
    "    out = get_proj_rep_phases(\n",
    "        mps_tensors,\n",
    "        left_schmidt_values,\n",
    "        unitaries,\n",
    "        left_environment\n",
    "    )\n",
    "\n",
    "    return out"
   ]
  },
  {
   "cell_type": "code",
   "execution_count": 22,
   "id": "1d8841a9-e8fd-441e-a997-cc5c3433de4c",
   "metadata": {},
   "outputs": [],
   "source": [
    "def get_left_proj_rep_phases_from_optimizers(optimizers):\n",
    "    mps_tensors = [\n",
    "        o.top_left_mps_tensors\n",
    "        for o in optimizers[1:]\n",
    "    ]\n",
    "\n",
    "    left_schmidt_values = [\n",
    "        o.current_left_side_right_schmidt_values\n",
    "        for o in optimizers[1:]\n",
    "    ]\n",
    "\n",
    "    unitaries = [\n",
    "        o.left_unitaries for o in optimizers[1:]\n",
    "    ]\n",
    "\n",
    "    left_environment = optimizers[0].left_side_right_symmetry_environment\n",
    "\n",
    "    out = get_proj_rep_phases(\n",
    "        mps_tensors,\n",
    "        left_schmidt_values,\n",
    "        unitaries,\n",
    "        left_environment\n",
    "    )\n",
    "\n",
    "    return out"
   ]
  },
  {
   "cell_type": "markdown",
   "id": "19be6d53-75b2-4838-a84c-ab09ad6ba778",
   "metadata": {},
   "source": [
    "## Group data definitions"
   ]
  },
  {
   "cell_type": "code",
   "execution_count": 23,
   "id": "23e62c10-6c32-4ee4-9cde-ac7f05c69d7f",
   "metadata": {},
   "outputs": [],
   "source": [
    "from itertools import combinations"
   ]
  },
  {
   "cell_type": "code",
   "execution_count": 24,
   "id": "10721838-5776-4da8-9618-01dd30494f13",
   "metadata": {},
   "outputs": [],
   "source": [
    "symmetry_labels = [\n",
    "    'II',\n",
    "    'IX',\n",
    "    'XI',\n",
    "    'XX'\n",
    "]"
   ]
  },
  {
   "cell_type": "code",
   "execution_count": 25,
   "id": "d1cd215b-c62c-405e-9adc-9a97db7142e2",
   "metadata": {},
   "outputs": [],
   "source": [
    "symmetry_combination_labels = list(combinations(symmetry_labels, 2))"
   ]
  },
  {
   "cell_type": "code",
   "execution_count": 26,
   "id": "45a081ff-eb82-4ff5-9700-55f11824f366",
   "metadata": {},
   "outputs": [
    {
     "data": {
      "text/plain": [
       "[('II', 'IX'),\n",
       " ('II', 'XI'),\n",
       " ('II', 'XX'),\n",
       " ('IX', 'XI'),\n",
       " ('IX', 'XX'),\n",
       " ('XI', 'XX')]"
      ]
     },
     "execution_count": 26,
     "metadata": {},
     "output_type": "execute_result"
    }
   ],
   "source": [
    "symmetry_combination_labels"
   ]
  },
  {
   "cell_type": "code",
   "execution_count": 27,
   "id": "aab20cf0-ae51-4603-9192-5ba0741b6a6d",
   "metadata": {},
   "outputs": [],
   "source": [
    "e, a, b, c = symmetry_labels"
   ]
  },
  {
   "cell_type": "code",
   "execution_count": 28,
   "id": "955bfb99-9c73-4794-b14e-f62f7872abe5",
   "metadata": {},
   "outputs": [],
   "source": [
    "group_products = [\n",
    "    (a, b, c),\n",
    "    (b, a, c),\n",
    "    (a, c, b),\n",
    "    (c, a, b),\n",
    "    (c, b, a),\n",
    "    (b, c, a)\n",
    "]"
   ]
  },
  {
   "cell_type": "markdown",
   "id": "a8d73e19-9829-45b4-9469-c38cd95df93e",
   "metadata": {},
   "source": [
    "# Calculate boundary operators"
   ]
  },
  {
   "cell_type": "code",
   "execution_count": 29,
   "id": "a8c16338-cc25-4baa-8aee-23a4c23f7e5a",
   "metadata": {},
   "outputs": [],
   "source": [
    "block_width = 4\n",
    "num_one_sided_iterations = 3\n",
    "num_two_sided_iterations = 3\n",
    "num_layers = 10\n",
    "num_sites = 16\n",
    "max_virtual_bond_dim = 30"
   ]
  },
  {
   "cell_type": "code",
   "execution_count": 30,
   "id": "7473af0e-2191-47d7-84a1-40c3e2a787cb",
   "metadata": {},
   "outputs": [
    {
     "data": {
      "text/plain": [
       "'\\noptimizers = list()\\n\\nfor l in cases:\\n    optimizers.append(list())\\n    for c in l:\\n        opt = MPSBrickSolver(\\n            c,\\n            num_sites,\\n            block_width,\\n            num_layers,\\n            num_one_sided_iterations,\\n            num_two_sided_iterations,\\n            max_virtual_bond_dim=max_virtual_bond_dim\\n        )\\n    \\n        opt.optimise()\\n    \\n        optimizers[-1].append(opt)\\n'"
      ]
     },
     "execution_count": 30,
     "metadata": {},
     "output_type": "execute_result"
    }
   ],
   "source": [
    "\"\"\"\n",
    "optimizers = list()\n",
    "\n",
    "for l in cases:\n",
    "    optimizers.append(list())\n",
    "    for c in l:\n",
    "        opt = MPSBrickSolver(\n",
    "            c,\n",
    "            num_sites,\n",
    "            block_width,\n",
    "            num_layers,\n",
    "            num_one_sided_iterations,\n",
    "            num_two_sided_iterations,\n",
    "            max_virtual_bond_dim=max_virtual_bond_dim\n",
    "        )\n",
    "    \n",
    "        opt.optimise()\n",
    "    \n",
    "        optimizers[-1].append(opt)\n",
    "\"\"\""
   ]
  },
  {
   "cell_type": "code",
   "execution_count": 31,
   "id": "36da2c32-b216-47d5-adeb-83447efeb78d",
   "metadata": {},
   "outputs": [
    {
     "data": {
      "text/plain": [
       "\"\\nwith open(r'solutions/brick_unitary_solutions.pkl', 'wb') as file:\\n    pickle.dump(optimizers, file)\\n\""
      ]
     },
     "execution_count": 31,
     "metadata": {},
     "output_type": "execute_result"
    }
   ],
   "source": [
    "\"\"\"\n",
    "with open(r'solutions/brick_unitary_solutions.pkl', 'wb') as file:\n",
    "    pickle.dump(optimizers, file)\n",
    "\"\"\""
   ]
  },
  {
   "cell_type": "code",
   "execution_count": 32,
   "id": "5cb560c2-afa4-48d2-9c7f-515180fe4ea7",
   "metadata": {},
   "outputs": [],
   "source": [
    "with open(r'solutions/brick_unitary_solutions.pkl', 'rb') as file:\n",
    "    optimizers = pickle.load(file)"
   ]
  },
  {
   "cell_type": "markdown",
   "id": "3ca04f85-a118-4783-aefe-6938320a265d",
   "metadata": {},
   "source": [
    "## Expectations"
   ]
  },
  {
   "cell_type": "code",
   "execution_count": 33,
   "id": "89d24ea6-7791-4492-a2b3-8d72d53dc4df",
   "metadata": {},
   "outputs": [],
   "source": [
    "interpolation_values = np.round(np.linspace(0, 2, 21), 3)\n",
    "interpolation_values = np.delete(interpolation_values, 10)"
   ]
  },
  {
   "cell_type": "code",
   "execution_count": 34,
   "id": "5ad411c2-46ce-47f5-a667-8d595d0d22d3",
   "metadata": {},
   "outputs": [],
   "source": [
    "final_exps = list()\n",
    "\n",
    "for l in optimizers:\n",
    "    final_exps.append(list())\n",
    "    for o in l:\n",
    "        final_exp = o.flatten_exps()[-1]\n",
    "        final_exps[-1].append(final_exp)\n",
    "\n",
    "final_exps = np.array(final_exps)"
   ]
  },
  {
   "cell_type": "code",
   "execution_count": 35,
   "id": "080cbadb-7c72-4363-8272-105989243ced",
   "metadata": {},
   "outputs": [
    {
     "data": {
      "text/plain": [
       "(21, 4)"
      ]
     },
     "execution_count": 35,
     "metadata": {},
     "output_type": "execute_result"
    }
   ],
   "source": [
    "final_exps.shape"
   ]
  },
  {
   "cell_type": "code",
   "execution_count": 36,
   "id": "46ab9b83-d7e4-4bec-8f58-9b9826696f92",
   "metadata": {},
   "outputs": [
    {
     "data": {
      "image/png": "[encoded data removed]",
      "text/plain": [
       "<Figure size 600x400 with 1 Axes>"
      ]
     },
     "metadata": {},
     "output_type": "display_data"
    }
   ],
   "source": [
    "fig, ax = plt.subplots(figsize=(6, 4))\n",
    "\n",
    "for i in range(1, 4):\n",
    "    ax.scatter(\n",
    "        interpolation_values,\n",
    "        np.delete(final_exps[:, i], 10, axis=0),\n",
    "        label=symmetry_labels[i],\n",
    "        s=20\n",
    "    )\n",
    "\n",
    "ax.grid()\n",
    "ax.legend(title='Applied symmetry')\n",
    "\n",
    "ax.xaxis.set_major_locator(MultipleLocator(0.2))\n",
    "\n",
    "ax.set_ylabel(r'$\\vert c \\vert$', fontsize=13)\n",
    "ax.set_xlabel('$B$', fontsize=13)\n",
    "\n",
    "fig.suptitle(r'Final overlap $\\vert c \\vert$ as a function of $B$')\n",
    "\n",
    "fig.savefig(r'plots/overlap_function_from_unitary_circuit_bosonic.png', dpi=200)"
   ]
  },
  {
   "cell_type": "code",
   "execution_count": 37,
   "id": "3d9040b9-4982-4282-9fae-e6eb4fd27873",
   "metadata": {},
   "outputs": [
    {
     "data": {
      "text/plain": [
       "[<matplotlib.lines.Line2D at 0x15fcb9890>]"
      ]
     },
     "execution_count": 37,
     "metadata": {},
     "output_type": "execute_result"
    },
    {
     "data": {
      "image/png": "[encoded data removed]",
      "text/plain": [
       "<Figure size 640x480 with 1 Axes>"
      ]
     },
     "metadata": {},
     "output_type": "display_data"
    }
   ],
   "source": [
    "plt.plot(optimizers[11][3].flatten_exps())"
   ]
  },
  {
   "cell_type": "markdown",
   "id": "4cd0b672-56e5-4d1c-9161-ba5fa4e17ae7",
   "metadata": {},
   "source": [
    "# Calculate proj reps"
   ]
  },
  {
   "cell_type": "markdown",
   "id": "5229edb6-7ad8-4c83-b47e-3d90a035a191",
   "metadata": {},
   "source": [
    "## Right side"
   ]
  },
  {
   "cell_type": "code",
   "execution_count": 38,
   "id": "ad73bb12-985d-4669-8161-a0c782ad7d52",
   "metadata": {},
   "outputs": [],
   "source": [
    "right_proj_rep_phases = list()\n",
    "\n",
    "for l in optimizers:\n",
    "\n",
    "    phases = get_right_proj_rep_phases_from_optimizers(l)\n",
    "\n",
    "    right_proj_rep_phases.append(phases)\n",
    "\n",
    "right_proj_rep_phases = np.array(right_proj_rep_phases)"
   ]
  },
  {
   "cell_type": "code",
   "execution_count": 39,
   "id": "a9b80ab4-ac85-4eb7-ab11-3f46e4fce49d",
   "metadata": {},
   "outputs": [
    {
     "data": {
      "text/plain": [
       "(21, 6)"
      ]
     },
     "execution_count": 39,
     "metadata": {},
     "output_type": "execute_result"
    }
   ],
   "source": [
    "right_proj_rep_phases.shape"
   ]
  },
  {
   "cell_type": "code",
   "execution_count": 40,
   "id": "218e6e4f-4771-415e-8e0c-e87e013d3583",
   "metadata": {},
   "outputs": [
    {
     "data": {
      "text/plain": [
       "array([[ 1.+0.j, -1.+0.j,  1.+0.j, -1.+0.j,  1.+0.j, -1.+0.j],\n",
       "       [ 1.+0.j, -1.+0.j,  1.+0.j, -1.+0.j,  1.+0.j, -1.+0.j],\n",
       "       [-1.+0.j,  1.+0.j, -1.+0.j,  1.+0.j, -1.+0.j,  1.+0.j],\n",
       "       [-1.+0.j,  1.+0.j, -1.+0.j,  1.+0.j, -1.+0.j,  1.+0.j],\n",
       "       [ 1.+0.j, -1.+0.j,  1.+0.j, -1.+0.j,  1.+0.j, -1.+0.j],\n",
       "       [ 1.+0.j, -1.+0.j,  1.+0.j, -1.+0.j,  1.+0.j, -1.+0.j],\n",
       "       [-1.+0.j,  1.+0.j, -1.+0.j,  1.+0.j, -1.+0.j,  1.+0.j],\n",
       "       [ 1.+0.j, -1.+0.j,  1.+0.j, -1.+0.j,  1.+0.j, -1.+0.j],\n",
       "       [-1.+0.j,  1.+0.j, -1.+0.j,  1.+0.j, -1.+0.j,  1.+0.j],\n",
       "       [ 1.+0.j, -1.+0.j,  1.+0.j, -1.+0.j,  1.+0.j, -1.+0.j],\n",
       "       [ 1.+0.j,  1.+0.j,  1.+0.j,  1.+0.j,  1.+0.j,  1.+0.j],\n",
       "       [ 1.+0.j,  1.+0.j,  1.+0.j,  1.+0.j,  1.+0.j,  1.+0.j],\n",
       "       [ 1.+0.j,  1.+0.j,  1.+0.j,  1.+0.j,  1.+0.j,  1.+0.j],\n",
       "       [ 1.+0.j,  1.+0.j,  1.+0.j,  1.+0.j,  1.+0.j,  1.+0.j],\n",
       "       [ 1.+0.j,  1.+0.j,  1.+0.j,  1.+0.j,  1.+0.j,  1.+0.j],\n",
       "       [ 1.+0.j,  1.+0.j,  1.+0.j,  1.+0.j,  1.+0.j,  1.+0.j],\n",
       "       [ 1.+0.j,  1.+0.j,  1.+0.j,  1.+0.j,  1.+0.j,  1.+0.j],\n",
       "       [ 1.+0.j,  1.+0.j,  1.+0.j,  1.+0.j,  1.+0.j,  1.+0.j],\n",
       "       [ 1.+0.j,  1.+0.j,  1.+0.j,  1.+0.j,  1.+0.j,  1.+0.j],\n",
       "       [ 1.+0.j,  1.+0.j,  1.+0.j,  1.+0.j,  1.+0.j,  1.+0.j],\n",
       "       [ 1.+0.j,  1.+0.j,  1.+0.j,  1.+0.j,  1.+0.j,  1.+0.j]])"
      ]
     },
     "execution_count": 40,
     "metadata": {},
     "output_type": "execute_result"
    }
   ],
   "source": [
    "right_proj_rep_phases"
   ]
  },
  {
   "cell_type": "code",
   "execution_count": 41,
   "id": "00eebb42-5507-413c-b57a-3f6117932bc5",
   "metadata": {},
   "outputs": [
    {
     "data": {
      "text/plain": [
       "array([[-1.-0.j, -1.-0.j, -1.-0.j],\n",
       "       [-1.-0.j, -1.-0.j, -1.-0.j],\n",
       "       [-1.+0.j, -1.+0.j, -1.+0.j],\n",
       "       [-1.+0.j, -1.+0.j, -1.+0.j],\n",
       "       [-1.-0.j, -1.-0.j, -1.-0.j],\n",
       "       [-1.-0.j, -1.-0.j, -1.-0.j],\n",
       "       [-1.+0.j, -1.+0.j, -1.+0.j],\n",
       "       [-1.-0.j, -1.-0.j, -1.-0.j],\n",
       "       [-1.+0.j, -1.+0.j, -1.+0.j],\n",
       "       [-1.-0.j, -1.-0.j, -1.-0.j],\n",
       "       [ 1.+0.j,  1.+0.j,  1.+0.j],\n",
       "       [ 1.+0.j,  1.+0.j,  1.+0.j],\n",
       "       [ 1.+0.j,  1.+0.j,  1.+0.j],\n",
       "       [ 1.+0.j,  1.+0.j,  1.+0.j],\n",
       "       [ 1.+0.j,  1.+0.j,  1.+0.j],\n",
       "       [ 1.+0.j,  1.+0.j,  1.+0.j],\n",
       "       [ 1.+0.j,  1.+0.j,  1.+0.j],\n",
       "       [ 1.+0.j,  1.+0.j,  1.+0.j],\n",
       "       [ 1.+0.j,  1.+0.j,  1.+0.j],\n",
       "       [ 1.+0.j,  1.+0.j,  1.+0.j],\n",
       "       [ 1.+0.j,  1.+0.j,  1.+0.j]])"
      ]
     },
     "execution_count": 41,
     "metadata": {},
     "output_type": "execute_result"
    }
   ],
   "source": [
    "right_proj_rep_phases[:, ::2]/right_proj_rep_phases[:, 1::2]"
   ]
  },
  {
   "cell_type": "markdown",
   "id": "31ac5ef6-e8e6-4841-ba26-0084c5539425",
   "metadata": {},
   "source": [
    "## Left side"
   ]
  },
  {
   "cell_type": "code",
   "execution_count": 42,
   "id": "e29df1df-f229-4d93-b844-f5bc03a858e1",
   "metadata": {},
   "outputs": [],
   "source": [
    "left_proj_rep_phases = list()\n",
    "\n",
    "for l in optimizers:\n",
    "\n",
    "    phases = get_left_proj_rep_phases_from_optimizers(l)\n",
    "\n",
    "    left_proj_rep_phases.append(phases)\n",
    "\n",
    "left_proj_rep_phases = np.array(left_proj_rep_phases)"
   ]
  },
  {
   "cell_type": "code",
   "execution_count": 43,
   "id": "78fb6b0f-03a4-4a5f-b626-d82e5483a5f6",
   "metadata": {},
   "outputs": [
    {
     "data": {
      "text/plain": [
       "(21, 6)"
      ]
     },
     "execution_count": 43,
     "metadata": {},
     "output_type": "execute_result"
    }
   ],
   "source": [
    "left_proj_rep_phases.shape"
   ]
  },
  {
   "cell_type": "code",
   "execution_count": 44,
   "id": "70b52ac4-f41d-4ae2-b8e0-aa140688f343",
   "metadata": {},
   "outputs": [
    {
     "data": {
      "text/plain": [
       "array([[ 1.+0.j, -1.+0.j,  1.+0.j, -1.+0.j,  1.+0.j, -1.+0.j],\n",
       "       [ 1.+0.j, -1.+0.j,  1.+0.j, -1.+0.j,  1.+0.j, -1.+0.j],\n",
       "       [-1.+0.j,  1.+0.j, -1.+0.j,  1.+0.j, -1.+0.j,  1.+0.j],\n",
       "       [-1.+0.j,  1.+0.j, -1.+0.j,  1.+0.j, -1.+0.j,  1.+0.j],\n",
       "       [ 1.+0.j, -1.+0.j,  1.+0.j, -1.+0.j,  1.+0.j, -1.+0.j],\n",
       "       [ 1.+0.j, -1.+0.j,  1.+0.j, -1.+0.j,  1.+0.j, -1.+0.j],\n",
       "       [-1.+0.j,  1.+0.j, -1.+0.j,  1.+0.j, -1.+0.j,  1.+0.j],\n",
       "       [ 1.+0.j, -1.+0.j,  1.+0.j, -1.+0.j,  1.+0.j, -1.+0.j],\n",
       "       [-1.+0.j,  1.+0.j, -1.+0.j,  1.+0.j, -1.+0.j,  1.+0.j],\n",
       "       [ 1.+0.j, -1.+0.j,  1.+0.j, -1.+0.j,  1.+0.j, -1.+0.j],\n",
       "       [ 1.+0.j,  1.+0.j,  1.+0.j,  1.+0.j,  1.+0.j,  1.+0.j],\n",
       "       [ 1.+0.j,  1.+0.j,  1.+0.j,  1.+0.j,  1.+0.j,  1.+0.j],\n",
       "       [ 1.+0.j,  1.+0.j,  1.+0.j,  1.+0.j,  1.+0.j,  1.+0.j],\n",
       "       [ 1.+0.j,  1.+0.j,  1.+0.j,  1.+0.j,  1.+0.j,  1.+0.j],\n",
       "       [ 1.+0.j,  1.+0.j,  1.+0.j,  1.+0.j,  1.+0.j,  1.+0.j],\n",
       "       [ 1.+0.j,  1.+0.j,  1.+0.j,  1.+0.j,  1.+0.j,  1.+0.j],\n",
       "       [ 1.+0.j,  1.+0.j,  1.+0.j,  1.+0.j,  1.+0.j,  1.+0.j],\n",
       "       [ 1.+0.j,  1.+0.j,  1.+0.j,  1.+0.j,  1.+0.j,  1.+0.j],\n",
       "       [ 1.+0.j,  1.+0.j,  1.+0.j,  1.+0.j,  1.+0.j,  1.+0.j],\n",
       "       [ 1.+0.j,  1.+0.j,  1.+0.j,  1.+0.j,  1.+0.j,  1.+0.j],\n",
       "       [ 1.+0.j,  1.+0.j,  1.+0.j,  1.+0.j,  1.+0.j,  1.+0.j]])"
      ]
     },
     "execution_count": 44,
     "metadata": {},
     "output_type": "execute_result"
    }
   ],
   "source": [
    "left_proj_rep_phases"
   ]
  },
  {
   "cell_type": "code",
   "execution_count": 45,
   "id": "beb370cb-98c7-4da2-9fd1-4b7167433172",
   "metadata": {},
   "outputs": [
    {
     "data": {
      "text/plain": [
       "array([[-1.-0.j, -1.-0.j, -1.-0.j],\n",
       "       [-1.-0.j, -1.-0.j, -1.-0.j],\n",
       "       [-1.+0.j, -1.+0.j, -1.+0.j],\n",
       "       [-1.+0.j, -1.+0.j, -1.+0.j],\n",
       "       [-1.-0.j, -1.-0.j, -1.-0.j],\n",
       "       [-1.-0.j, -1.-0.j, -1.-0.j],\n",
       "       [-1.+0.j, -1.+0.j, -1.+0.j],\n",
       "       [-1.-0.j, -1.-0.j, -1.-0.j],\n",
       "       [-1.+0.j, -1.+0.j, -1.+0.j],\n",
       "       [-1.-0.j, -1.-0.j, -1.-0.j],\n",
       "       [ 1.+0.j,  1.+0.j,  1.+0.j],\n",
       "       [ 1.+0.j,  1.+0.j,  1.+0.j],\n",
       "       [ 1.+0.j,  1.+0.j,  1.+0.j],\n",
       "       [ 1.+0.j,  1.+0.j,  1.+0.j],\n",
       "       [ 1.+0.j,  1.+0.j,  1.+0.j],\n",
       "       [ 1.+0.j,  1.+0.j,  1.+0.j],\n",
       "       [ 1.+0.j,  1.+0.j,  1.+0.j],\n",
       "       [ 1.+0.j,  1.+0.j,  1.+0.j],\n",
       "       [ 1.+0.j,  1.+0.j,  1.+0.j],\n",
       "       [ 1.+0.j,  1.+0.j,  1.+0.j],\n",
       "       [ 1.+0.j,  1.+0.j,  1.+0.j]])"
      ]
     },
     "execution_count": 45,
     "metadata": {},
     "output_type": "execute_result"
    }
   ],
   "source": [
    "left_proj_rep_phases[:, ::2]/left_proj_rep_phases[:, 1::2]"
   ]
  },
  {
   "cell_type": "markdown",
   "id": "fa423cad-651b-407e-85ea-2ed810859ff3",
   "metadata": {},
   "source": [
    "## Plots"
   ]
  },
  {
   "cell_type": "code",
   "execution_count": 46,
   "id": "1e1d4450-3e53-4697-9355-d131386112d0",
   "metadata": {},
   "outputs": [],
   "source": [
    "proj_rep_phases = np.stack([left_proj_rep_phases, right_proj_rep_phases], axis=-1)"
   ]
  },
  {
   "cell_type": "code",
   "execution_count": 47,
   "id": "142366ed-722f-4fa9-b741-83d1edf1f69a",
   "metadata": {},
   "outputs": [],
   "source": [
    "gauge_invariant_proj_rep_phase = proj_rep_phases[:, ::2, :]/proj_rep_phases[:, 1::2, :]"
   ]
  },
  {
   "cell_type": "code",
   "execution_count": 48,
   "id": "5c29eda9-2472-4338-b5f2-719102eb1ce9",
   "metadata": {},
   "outputs": [],
   "source": [
    "gauge_invariant_proj_rep_phase = np.delete(\n",
    "    gauge_invariant_proj_rep_phase,\n",
    "    10,\n",
    "    axis=0\n",
    ")"
   ]
  },
  {
   "cell_type": "code",
   "execution_count": 49,
   "id": "62ae94b5-647c-44a1-b43b-2800fe431430",
   "metadata": {},
   "outputs": [
    {
     "data": {
      "text/plain": [
       "(20, 3, 2)"
      ]
     },
     "execution_count": 49,
     "metadata": {},
     "output_type": "execute_result"
    }
   ],
   "source": [
    "gauge_invariant_proj_rep_phase.shape"
   ]
  },
  {
   "cell_type": "code",
   "execution_count": 50,
   "id": "39fac05c-7ceb-4308-980d-c885e850bc73",
   "metadata": {},
   "outputs": [],
   "source": [
    "delta_gauge_invariant_proj_rep_phase = gauge_invariant_proj_rep_phase.copy()\n",
    "delta_gauge_invariant_proj_rep_phase[:10]*=-1"
   ]
  },
  {
   "cell_type": "code",
   "execution_count": 51,
   "id": "524288bd-7646-4858-8188-1e8189fc7091",
   "metadata": {},
   "outputs": [],
   "source": [
    "delta_gauge_invariant_proj_rep_angle = np.imag(np.log(delta_gauge_invariant_proj_rep_phase))"
   ]
  },
  {
   "cell_type": "code",
   "execution_count": 52,
   "id": "9538d135-3d74-484f-8bc2-99eee0bc5ca3",
   "metadata": {},
   "outputs": [
    {
     "data": {
      "text/plain": [
       "(20, 3, 2)"
      ]
     },
     "execution_count": 52,
     "metadata": {},
     "output_type": "execute_result"
    }
   ],
   "source": [
    "delta_gauge_invariant_proj_rep_angle.shape"
   ]
  },
  {
   "cell_type": "code",
   "execution_count": 53,
   "id": "ac37af32-5e58-4bb4-a25d-d31fbf69db38",
   "metadata": {},
   "outputs": [],
   "source": [
    "markers = ['<', '>']"
   ]
  },
  {
   "cell_type": "code",
   "execution_count": 54,
   "id": "9fe50ec7-2fd4-438d-9065-780d09fde9f0",
   "metadata": {},
   "outputs": [],
   "source": [
    "colors = [\n",
    "    'tab:blue',\n",
    "    'tab:orange',\n",
    "    'tab:green'\n",
    "]   "
   ]
  },
  {
   "cell_type": "code",
   "execution_count": 55,
   "id": "279624b9-c293-4020-8b0f-bff0167f77a8",
   "metadata": {},
   "outputs": [],
   "source": [
    "e, a, b, c = symmetry_labels"
   ]
  },
  {
   "cell_type": "code",
   "execution_count": 56,
   "id": "d1e764db-d3cd-4216-9d5e-c5ddad7893f3",
   "metadata": {},
   "outputs": [],
   "source": [
    "symmetry_pair_labels = [\n",
    "    a + ',' + b,\n",
    "    a + ',' + c,\n",
    "    c + ',' + b\n",
    "]"
   ]
  },
  {
   "cell_type": "code",
   "execution_count": 57,
   "id": "715be721-dd85-4327-8b7f-7420cababb49",
   "metadata": {},
   "outputs": [],
   "source": [
    "side_labels = ['Left', 'Right']"
   ]
  },
  {
   "cell_type": "code",
   "execution_count": 58,
   "id": "eeaffded-41a4-4e2f-936d-2de17f20f6fd",
   "metadata": {},
   "outputs": [
    {
     "data": {
      "text/plain": [
       "0.0"
      ]
     },
     "execution_count": 58,
     "metadata": {},
     "output_type": "execute_result"
    }
   ],
   "source": [
    "np.max(np.abs(delta_gauge_invariant_proj_rep_angle))"
   ]
  },
  {
   "cell_type": "code",
   "execution_count": 59,
   "id": "25da5bc1-2eac-498d-973a-49b06b978579",
   "metadata": {},
   "outputs": [],
   "source": [
    "plot_bs = np.delete(np.array(b_parameters), 10)"
   ]
  },
  {
   "cell_type": "code",
   "execution_count": 60,
   "id": "e11cbe4a-00b8-4732-8c5b-6d567dbaa591",
   "metadata": {},
   "outputs": [
    {
     "data": {
      "image/png": "[encoded data removed]",
      "text/plain": [
       "<Figure size 800x600 with 1 Axes>"
      ]
     },
     "metadata": {},
     "output_type": "display_data"
    }
   ],
   "source": [
    "fig, ax = plt.subplots(figsize=(8,6))\n",
    "\n",
    "for i, (marker, side_label) in enumerate(zip(markers, side_labels)):\n",
    "    for j, (col, label) in enumerate(zip(colors, symmetry_pair_labels)):\n",
    "        plt.scatter(\n",
    "            plot_bs,\n",
    "            delta_gauge_invariant_proj_rep_angle[:, j, i],\n",
    "            marker=marker,\n",
    "            color=col,\n",
    "            label = f'({label}), {side_label}'\n",
    "        )\n",
    "\n",
    "ax.grid()\n",
    "ax.set_ylabel(r'$\\Delta \\Omega$', fontsize=13)\n",
    "ax.set_xlabel('$B$', fontsize=13)\n",
    "\n",
    "ax.legend(loc='upper right', title='$(g,h)$, Side')\n",
    "\n",
    "fig.suptitle(r'$\\Delta \\Omega(g,h)$ as a function of $B$')\n",
    "\n",
    "fig.savefig(r'plots/delta_proj_rep_angle_from_circuit_bosonic.png', dpi=200)"
   ]
  },
  {
   "cell_type": "markdown",
   "id": "ac5bacbe-05a7-4431-acf2-3ae4f289b9d3",
   "metadata": {},
   "source": [
    "# Final plot"
   ]
  },
  {
   "cell_type": "code",
   "execution_count": 61,
   "id": "922ec11a-ca69-4e0d-a4b2-606eed0a3f29",
   "metadata": {},
   "outputs": [],
   "source": [
    "gauge_invariant_proj_rep_angle = np.imag(np.log(gauge_invariant_proj_rep_phase))\n",
    "gauge_invariant_proj_rep_angle[gauge_invariant_proj_rep_angle<=-np.pi/2] += 2*np.pi"
   ]
  },
  {
   "cell_type": "code",
   "execution_count": 62,
   "id": "86b9db5a-f84d-4a21-9034-2ee0a01f6ddd",
   "metadata": {},
   "outputs": [],
   "source": [
    "mean_gauge_invariant_proj_rep_angle = np.mean(gauge_invariant_proj_rep_angle, axis=(1,2))\n",
    "max_gauge_invariant_proj_rep_angle = np.max(gauge_invariant_proj_rep_angle, axis=(1,2))\n",
    "min_gauge_invariant_proj_rep_angle = np.min(gauge_invariant_proj_rep_angle, axis=(1,2))\n",
    "\n",
    "min_max_gauge_invariant_proj_rep_angle = np.stack(\n",
    "    [\n",
    "        min_gauge_invariant_proj_rep_angle,\n",
    "        max_gauge_invariant_proj_rep_angle\n",
    "    ],\n",
    "    axis=0\n",
    ")\n",
    "\n",
    "error_gauge_invariant_proj_rep_angle = (\n",
    "    min_max_gauge_invariant_proj_rep_angle\n",
    "    - mean_gauge_invariant_proj_rep_angle[np.newaxis, :]\n",
    ")\n",
    "error_gauge_invariant_proj_rep_angle = np.abs(error_gauge_invariant_proj_rep_angle)"
   ]
  },
  {
   "cell_type": "code",
   "execution_count": 63,
   "id": "ef067a7f-df9b-47e0-8db2-7ef21ed77d11",
   "metadata": {},
   "outputs": [
    {
     "data": {
      "image/png": "[encoded data removed]",
      "text/plain": [
       "<Figure size 1200x400 with 2 Axes>"
      ]
     },
     "metadata": {},
     "output_type": "display_data"
    }
   ],
   "source": [
    "fig, [ax1, ax2] = plt.subplots(figsize=(12, 4), ncols=2)\n",
    "\n",
    "for i in range(1, 4):\n",
    "    ax1.plot(\n",
    "        interpolation_values,\n",
    "        np.delete(final_exps[:, i], 10, axis=0),\n",
    "        label=symmetry_labels[i],\n",
    "        marker='D'\n",
    "    )\n",
    "\n",
    "ax1.set_ylabel(r'$\\vert c \\vert$', fontsize=13)\n",
    "ax1.legend(title='Applied symmetry')\n",
    "ax1.set_ylim(-0.1, 1.1)\n",
    "ax1.yaxis.set_major_locator(MultipleLocator(0.2))\n",
    "ax1.yaxis.set_minor_locator(MultipleLocator(0.1))\n",
    "\n",
    "\n",
    "ax2.plot(\n",
    "    plot_bs,\n",
    "    mean_gauge_invariant_proj_rep_angle,\n",
    "    color='tab:blue',\n",
    "    marker='D'\n",
    ")\n",
    "\n",
    "ax2.set_yticks(\n",
    "    np.linspace(0, np.pi, 3),\n",
    "    labels=['$0$', '$\\pi/2$', '$\\pi$']\n",
    ")\n",
    "\n",
    "ax2.set_yticks(\n",
    "    [np.pi/6, np.pi/3, 2*np.pi/3, 5*np.pi/6],\n",
    "    minor=True\n",
    ")\n",
    "\n",
    "ax2.set_ylabel(r'$\\theta$', fontsize=12)\n",
    "\n",
    "for ax in [ax1, ax2]:\n",
    "    ax.grid()\n",
    "    ax.xaxis.set_major_locator(MultipleLocator(0.2))\n",
    "    ax.xaxis.set_minor_locator(MultipleLocator(0.1))\n",
    "\n",
    "    ax.set_xlabel('$B$', fontsize=13)\n",
    "\n",
    "    ax.tick_params(\n",
    "        axis='both',\n",
    "        which='major',\n",
    "        labelsize=11\n",
    "    )\n",
    "\n",
    "    ax.grid(\n",
    "        which='minor',\n",
    "        linestyle='--',\n",
    "    )\n",
    "\n",
    "fig.savefig(\n",
    "    r'plots/unitary_circuit_bosonic_mps_results.png',\n",
    "    bbox_inches='tight',\n",
    "    dpi=200\n",
    ")"
   ]
  },
  {
   "cell_type": "code",
   "execution_count": 68,
   "id": "0a3a6c60-cdea-483c-b39e-462b07206b3f",
   "metadata": {},
   "outputs": [],
   "source": [
    "with open(r'../make_plots/data/bosonic_results/mps_circuit_b_params.pkl', 'wb') as f:\n",
    "    pickle.dump(plot_bs, f)\n",
    "\n",
    "with open(r'../make_plots/data/bosonic_results/mps_circuit_mean_gauge_invariant_proj_rep_angle.pkl', 'wb') as f:\n",
    "    pickle.dump(mean_gauge_invariant_proj_rep_angle, f)\n",
    "\n",
    "with open(r'../make_plots/data/bosonic_results/mps_circuit_overlaps.pkl', 'wb') as f:\n",
    "    pickle.dump(np.delete(final_exps, 10, axis=0), f)"
   ]
  },
  {
   "cell_type": "code",
   "execution_count": null,
   "id": "c655523b-e871-4f47-814f-2bd0221e615e",
   "metadata": {},
   "outputs": [],
   "source": []
  }
 ],
 "metadata": {
  "kernelspec": {
   "display_name": "num_spt_venv_p11",
   "language": "python",
   "name": "num_spt_venv_p11"
  },
  "language_info": {
   "codemirror_mode": {
    "name": "ipython",
    "version": 3
   },
   "file_extension": ".py",
   "mimetype": "text/x-python",
   "name": "python",
   "nbconvert_exporter": "python",
   "pygments_lexer": "ipython3",
   "version": "3.11.9"
  }
 },
 "nbformat": 4,
 "nbformat_minor": 5
}
