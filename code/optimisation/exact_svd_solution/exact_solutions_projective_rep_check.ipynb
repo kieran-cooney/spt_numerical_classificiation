{
 "cells": [
  {
   "cell_type": "markdown",
   "id": "5f2205a4-2c74-4cf5-9ad1-9d65bd13bed2",
   "metadata": {},
   "source": [
    "# Exact solution projective rep check\n",
    "Created 07/10/2024\n",
    "\n",
    "Objectives:\n",
    "* Check if the exact solution via SVD yields a projective rep, varying the number of sites used."
   ]
  },
  {
   "cell_type": "markdown",
   "id": "9ad0db4d-805c-4403-9d48-c71d523d572f",
   "metadata": {},
   "source": [
    "# Package imports"
   ]
  },
  {
   "cell_type": "code",
   "execution_count": 1,
   "id": "8e42328b-1f06-42e6-ab67-163728ca732d",
   "metadata": {},
   "outputs": [],
   "source": [
    "import sys\n",
    "sys.path.append(\"../..\")"
   ]
  },
  {
   "cell_type": "code",
   "execution_count": 2,
   "id": "4a525ec6-f0c8-47ee-8b0b-345bf0ef8bd3",
   "metadata": {},
   "outputs": [],
   "source": [
    "import h5py\n",
    "from tenpy.tools import hdf5_io\n",
    "import tenpy\n",
    "import tenpy.linalg.np_conserved as npc\n",
    "\n",
    "import os"
   ]
  },
  {
   "cell_type": "code",
   "execution_count": 3,
   "id": "214f688a-c657-4810-b4d1-b1247deff62c",
   "metadata": {},
   "outputs": [],
   "source": [
    "import numpy as np\n",
    "import pandas as pd\n",
    "import matplotlib.pyplot as plt"
   ]
  },
  {
   "cell_type": "code",
   "execution_count": 4,
   "id": "b8dec68d-a5b3-4383-ab44-567a9a5981b3",
   "metadata": {},
   "outputs": [],
   "source": [
    "from SPTOptimization.SymmetryActionWithBoundaryUnitaries import SymmetryActionWithBoundaryUnitaries\n",
    "from SPTOptimization.Optimizers.utils import one_site_optimization\n",
    "\n",
    "from SPTOptimization.gradients import expectation_gradient_from_environments_and_b_tensor"
   ]
  },
  {
   "cell_type": "code",
   "execution_count": 32,
   "id": "f91ecce9-eb32-46c3-a53f-e1abe06d580a",
   "metadata": {},
   "outputs": [],
   "source": [
    "from functools import reduce\n",
    "from itertools import combinations"
   ]
  },
  {
   "cell_type": "markdown",
   "id": "968b03f4-adb0-48cc-bb4a-414d8856c7c2",
   "metadata": {},
   "source": [
    "# Load data"
   ]
  },
  {
   "cell_type": "code",
   "execution_count": 9,
   "id": "3b61bbe0-5d7f-49c5-96ab-265f8b0d36b6",
   "metadata": {},
   "outputs": [],
   "source": [
    "DATA_DIR = r\"../../data/transverse_cluster_200_site_dmrg\""
   ]
  },
  {
   "cell_type": "code",
   "execution_count": 10,
   "id": "2e1f611d-29dd-4c9b-ad1b-f4cc8b59bab7",
   "metadata": {},
   "outputs": [],
   "source": [
    "loaded_data = list()\n",
    "\n",
    "for local_file_name in os.listdir(DATA_DIR):\n",
    "    f_name = r\"{}/{}\".format(DATA_DIR, local_file_name, ignore_unknown=False)\n",
    "    with h5py.File(f_name, 'r') as f:\n",
    "        data = hdf5_io.load_from_hdf5(f)\n",
    "        loaded_data.append(data)"
   ]
  },
  {
   "cell_type": "code",
   "execution_count": 11,
   "id": "0ab87e3c-bd9b-4a88-9b74-ccdae9a91235",
   "metadata": {},
   "outputs": [],
   "source": [
    "b_parameters = sorted(list(d['paramters']['B'] for d in loaded_data))"
   ]
  },
  {
   "cell_type": "code",
   "execution_count": 12,
   "id": "322ad437-4f39-4e52-8e32-10dbe0fbd4ee",
   "metadata": {},
   "outputs": [],
   "source": [
    "psi_dict = dict()"
   ]
  },
  {
   "cell_type": "code",
   "execution_count": 13,
   "id": "097b34eb-49aa-4152-a116-c491420745fb",
   "metadata": {},
   "outputs": [],
   "source": [
    "for b in b_parameters:\n",
    "    psi = next(\n",
    "        d['wavefunction']\n",
    "        for d in loaded_data\n",
    "        if d['paramters']['B'] == b\n",
    "    )\n",
    "\n",
    "    rounded_b = round(b, 1)\n",
    "    psi_dict[rounded_b] = psi"
   ]
  },
  {
   "cell_type": "markdown",
   "id": "d6d360f5-5b8d-4807-9e92-188d06b544b7",
   "metadata": {},
   "source": [
    "# Definitions"
   ]
  },
  {
   "cell_type": "code",
   "execution_count": 14,
   "id": "513d7288-c641-4071-a4a3-652787d1f98c",
   "metadata": {},
   "outputs": [],
   "source": [
    "np_I = np.array([[1,0],[0,1]])\n",
    "np_X = np.array([[0,1],[1,0]])\n",
    "np_Y = np.array([[0,-1j],[1j,0]])\n",
    "np_Z = np.array([[1,0],[0,-1]])"
   ]
  },
  {
   "cell_type": "code",
   "execution_count": 15,
   "id": "97112128-6ee4-4d12-947c-1ee10e4e23db",
   "metadata": {},
   "outputs": [],
   "source": [
    "symmetry_actions = [\n",
    "    [np_I, np_I],\n",
    "    [np_I, np_X],\n",
    "    [np_X, np_I],\n",
    "    [np_X, np_X]\n",
    "]"
   ]
  },
  {
   "cell_type": "code",
   "execution_count": 16,
   "id": "6b3baa51-a417-492b-989f-6512df630027",
   "metadata": {},
   "outputs": [],
   "source": [
    "symmetry_labels = [\n",
    "    'II',\n",
    "    'IX',\n",
    "    'XI',\n",
    "    'XX'\n",
    "]"
   ]
  },
  {
   "cell_type": "code",
   "execution_count": 54,
   "id": "7e2defa8-d052-4de5-b3e6-054668823cc1",
   "metadata": {},
   "outputs": [],
   "source": [
    "symmetry_combination_labels = list(combinations(symmetry_labels, 2))"
   ]
  },
  {
   "cell_type": "code",
   "execution_count": 17,
   "id": "6e8f666e-cc44-43bb-8e8f-e41246e7286c",
   "metadata": {},
   "outputs": [],
   "source": [
    "cases = [\n",
    "    [\n",
    "        SymmetryActionWithBoundaryUnitaries(\n",
    "            psi,\n",
    "            s*50,\n",
    "            left_boundary_unitaries=[np_I,]*3,\n",
    "            right_boundary_unitaries=[np_I,]*3\n",
    "        )\n",
    "        for s in symmetry_actions\n",
    "    ]\n",
    "    for psi in psi_dict.values()\n",
    "]"
   ]
  },
  {
   "cell_type": "code",
   "execution_count": 18,
   "id": "0d8177af-3b52-4898-9b57-81ced3e58842",
   "metadata": {},
   "outputs": [],
   "source": [
    "for l in cases:\n",
    "    for c in l:\n",
    "        c.compute_svd_approximate_expectation()"
   ]
  },
  {
   "cell_type": "markdown",
   "id": "2f32363d-d425-47c3-9d19-fff7b031801c",
   "metadata": {},
   "source": [
    "## Functions"
   ]
  },
  {
   "cell_type": "code",
   "execution_count": 203,
   "id": "86e390c5-87d9-4e7d-bbbd-02fded2b2855",
   "metadata": {},
   "outputs": [],
   "source": [
    "def get_reduced_tensor_matrix(symmetry_case, num_sites, normalise=False):\n",
    "    mps_tensors = [\n",
    "        symmetry_case.psi.get_B(i)\n",
    "        for i in range(\n",
    "            symmetry_case.right_symmetry_index + 1,\n",
    "            symmetry_case.right_symmetry_index + 1 + num_sites\n",
    "        )\n",
    "    ]\n",
    "\n",
    "    rdm = symmetry_case.right_projected_symmetry_state\n",
    "\n",
    "    if normalise:\n",
    "        normalisation = npc.trace(rdm, 'vR', 'vR*')\n",
    "        norm_phase = normalisation/np.abs(normalisation)\n",
    "    \n",
    "        rdm *= norm_phase.conj()\n",
    "\n",
    "    for i, b in enumerate(mps_tensors):\n",
    "        b_current = b.replace_label('p', f'p{i}')\n",
    "    \n",
    "        rdm = npc.tensordot(rdm, b_current, [['vR'], ['vL']])\n",
    "        rdm = npc.tensordot(rdm, b_current.conj(), [['vR*'], ['vL*']])\n",
    "    \n",
    "    rdm = npc.trace(rdm, 'vR', 'vR*')\n",
    "\n",
    "    leg_labels = [f'p{i}' for i in range(num_sites)]\n",
    "    leg_conj_labels = [f'p{i}*' for i in range(num_sites)]\n",
    "\n",
    "    rdm = rdm.combine_legs([leg_labels, leg_conj_labels])\n",
    "\n",
    "    return rdm"
   ]
  },
  {
   "cell_type": "code",
   "execution_count": 160,
   "id": "2c56a556-b3d0-458b-8396-a840c3f0aed9",
   "metadata": {},
   "outputs": [],
   "source": [
    "def get_grouped_leg_labels(num_sites):\n",
    "    leg_labels = [f'p{i}' for i in range(num_sites)]\n",
    "    leg_conj_labels = [f'p{i}*' for i in range(num_sites)]\n",
    "\n",
    "    grouped_physical_leg_label = '(' + '.'.join(leg_labels) + ')'\n",
    "    grouped_physical_leg_conj_label = '(' + '.'.join(leg_conj_labels) + ')'\n",
    "\n",
    "    return (grouped_physical_leg_label, grouped_physical_leg_conj_label)"
   ]
  },
  {
   "cell_type": "code",
   "execution_count": 161,
   "id": "6f0a9fad-e44f-45e3-a0ba-0a39b597d8ae",
   "metadata": {},
   "outputs": [],
   "source": [
    "def get_grouped_site_svd_unitary(symmetry_case, num_sites):\n",
    "    rdm = get_reduced_tensor_matrix(symmetry_case, num_sites)\n",
    "\n",
    "    U, S, VH = npc.svd(\n",
    "        rdm.conj(),\n",
    "        full_matrices=True,\n",
    "        inner_labels=['i', 'i*']\n",
    "    )\n",
    "\n",
    "    sol = npc.tensordot(U, VH, [['i',], ['i*',]])\n",
    "\n",
    "    return (sol, S)"
   ]
  },
  {
   "cell_type": "code",
   "execution_count": 42,
   "id": "7f821d87-fde7-4579-954d-27b0dd8f1342",
   "metadata": {},
   "outputs": [],
   "source": [
    "def multiply_tenpy_matrices(m1, m2, grouped_physical_leg_label='p',\n",
    "                            grouped_physical_leg_conj_label='p*'):\n",
    "    return npc.tensordot(\n",
    "        m1,\n",
    "        m2,\n",
    "        [\n",
    "            [grouped_physical_leg_label,],\n",
    "            [grouped_physical_leg_conj_label,]\n",
    "        ]\n",
    "    )"
   ]
  },
  {
   "cell_type": "code",
   "execution_count": 44,
   "id": "b624eccf-2d3f-439f-b656-f6507d9938fc",
   "metadata": {},
   "outputs": [],
   "source": [
    "def distance_from_identity(j, dim=2, grouped_physical_leg_label='p',\n",
    "                            grouped_physical_leg_conj_label='p*'):\n",
    "    # Assumes two dimensions\n",
    "\n",
    "    p1 = grouped_physical_leg_label\n",
    "    p2 = grouped_physical_leg_conj_label\n",
    "    e1 = npc.tensordot(j, j.conj(), [[p1, p2], [p2, p1]])\n",
    "\n",
    "    e2 = npc.trace(j, p1, p2)\n",
    "\n",
    "    return e1 - 2*e2.real + dim"
   ]
  },
  {
   "cell_type": "code",
   "execution_count": 31,
   "id": "a8d0571b-d52b-461c-bf3f-a9c459c5e82b",
   "metadata": {},
   "outputs": [],
   "source": [
    "def gauge_invariant_phase(u1, u2, dim=2, grouped_physical_leg_label='p',\n",
    "                            grouped_physical_leg_conj_label='p*'):\n",
    "    def multiply(m1, m2):\n",
    "        return multiply_tenpy_matrices(\n",
    "            m1,\n",
    "            m2,\n",
    "            grouped_physical_leg_label,\n",
    "            grouped_physical_leg_conj_label\n",
    "        )\n",
    "\n",
    "    u = reduce(multiply, [u1, u2, u1.conj(), u2.conj()])\n",
    "\n",
    "    trace = npc.trace(\n",
    "        u,\n",
    "        grouped_physical_leg_label,\n",
    "        grouped_physical_leg_conj_label\n",
    "    )\n",
    "\n",
    "    phase = trace/abs(trace)\n",
    "\n",
    "    approx_identity = u/phase\n",
    "    approx_identity_distance = distance_from_identity(\n",
    "        approx_identity,\n",
    "        dim,\n",
    "        grouped_physical_leg_label,\n",
    "        grouped_physical_leg_conj_label\n",
    "    )\n",
    "\n",
    "    return phase, approx_identity_distance"
   ]
  },
  {
   "cell_type": "code",
   "execution_count": 157,
   "id": "d31b8851-ef6b-475a-8e25-93530858119e",
   "metadata": {},
   "outputs": [],
   "source": [
    "def state_gauge_invariant_phase(u1, u2, rdm_tensor, dim=2, grouped_physical_leg_label='p',\n",
    "                            grouped_physical_leg_conj_label='p*'):\n",
    "    def multiply(m1, m2):\n",
    "        return multiply_tenpy_matrices(\n",
    "            m1,\n",
    "            m2,\n",
    "            grouped_physical_leg_label,\n",
    "            grouped_physical_leg_conj_label\n",
    "        )\n",
    "\n",
    "    t = reduce(multiply, [u1, u2, u1.conj(), u2.conj(), rdm_tensor])\n",
    "\n",
    "    trace = npc.trace(\n",
    "        t,\n",
    "        grouped_physical_leg_label,\n",
    "        grouped_physical_leg_conj_label\n",
    "    )\n",
    "\n",
    "    phase = trace/abs(trace)\n",
    "\n",
    "    return phase"
   ]
  },
  {
   "cell_type": "code",
   "execution_count": 34,
   "id": "85f81c11-d294-41eb-ace0-ac490999005f",
   "metadata": {},
   "outputs": [],
   "source": [
    "def get_phase_distance_pairs(solutions, matrix_dim, grouped_physical_leg_label,\n",
    "                            grouped_physical_leg_conj_label):\n",
    "    # To-do: Automatically get all info. Should only need cases input argument\n",
    "    solution_pairs = combinations(solutions, 2)\n",
    "\n",
    "    out = [\n",
    "        gauge_invariant_phase(\n",
    "            *p,\n",
    "            matrix_dim,\n",
    "            grouped_physical_leg_label,\n",
    "            grouped_physical_leg_conj_label\n",
    "        )\n",
    "        for p in solution_pairs\n",
    "    ]\n",
    "\n",
    "    return out"
   ]
  },
  {
   "cell_type": "code",
   "execution_count": 162,
   "id": "0090417c-91dd-4eab-a2dd-987eea31db2f",
   "metadata": {},
   "outputs": [],
   "source": [
    "def get_state_phases(solutions, rdm_tensor, matrix_dim,\n",
    "                     grouped_physical_leg_label,\n",
    "                     grouped_physical_leg_conj_label):\n",
    "    # To-do: Automatically get all info. Should only need cases input argument\n",
    "    solution_pairs = combinations(solutions, 2)\n",
    "\n",
    "    out = [\n",
    "        state_gauge_invariant_phase(\n",
    "            *p,\n",
    "            rdm_tensor,\n",
    "            matrix_dim,\n",
    "            grouped_physical_leg_label,\n",
    "            grouped_physical_leg_conj_label\n",
    "        )\n",
    "        for p in solution_pairs\n",
    "    ]\n",
    "\n",
    "    return out"
   ]
  },
  {
   "cell_type": "markdown",
   "id": "a2c8b8d3-1dd1-4527-856c-14f92c547b87",
   "metadata": {},
   "source": [
    "# Calculate solutions"
   ]
  },
  {
   "cell_type": "code",
   "execution_count": 204,
   "id": "6876ddbf-795b-4676-86fa-128e9e27bb80",
   "metadata": {},
   "outputs": [
    {
     "name": "stdout",
     "output_type": "stream",
     "text": [
      "1\n",
      "2\n",
      "3\n",
      "4\n",
      "5\n",
      "6\n"
     ]
    }
   ],
   "source": [
    "solutions = list()\n",
    "scores = list()\n",
    "singular_values = list()\n",
    "\n",
    "for i in range(1, 7):\n",
    "    print(i)\n",
    "    solutions.append(list())\n",
    "    scores.append(list())\n",
    "    singular_values.append(list())\n",
    "\n",
    "    for l in cases:\n",
    "        solutions[-1].append(list())\n",
    "        scores[-1].append(list())\n",
    "        singular_values[-1].append(list())\n",
    "\n",
    "        for c in l:\n",
    "            sol, S = get_grouped_site_svd_unitary(c, i)\n",
    "            \n",
    "            solutions[-1][-1].append(sol)\n",
    "            singular_values[-1][-1].append(S)\n",
    "            scores[-1][-1].append(score)"
   ]
  },
  {
   "cell_type": "markdown",
   "id": "52746d80-699f-4ff6-aab2-12fd41824297",
   "metadata": {},
   "source": [
    "## Calculate SPT phases and distances"
   ]
  },
  {
   "cell_type": "code",
   "execution_count": 225,
   "id": "9b4c86f9-e052-4d9f-aa93-cebd8896d1f6",
   "metadata": {},
   "outputs": [],
   "source": [
    "phase_distance_pairs = list()\n",
    "state_phases = list()\n",
    "\n",
    "for i, n in enumerate(range(1, 7)):\n",
    "    phase_distance_pairs.append(list())\n",
    "    state_phases.append(list())\n",
    "\n",
    "    matrix_dim = 2**n\n",
    "\n",
    "    labels = get_grouped_leg_labels(n)\n",
    "    leg_label, conj_leg_label = labels\n",
    "\n",
    "    for l, c in zip(solutions[i], cases):\n",
    "        pair_data = get_phase_distance_pairs(\n",
    "            l,\n",
    "            matrix_dim,\n",
    "            leg_label,\n",
    "            conj_leg_label\n",
    "        )\n",
    "\n",
    "        phase_distance_pairs[-1].append(pair_data)\n",
    "\n",
    "        rdm = get_reduced_tensor_matrix(c[0], n, normalise=True)\n",
    "\n",
    "        state_data = get_state_phases(\n",
    "            l,\n",
    "            rdm,\n",
    "            matrix_dim,\n",
    "            leg_label,\n",
    "            conj_leg_label\n",
    "        )\n",
    "\n",
    "        state_phases[-1].append(state_data)"
   ]
  },
  {
   "cell_type": "markdown",
   "id": "2957740f-23b3-4dbe-8032-c99eb44ac315",
   "metadata": {},
   "source": [
    "# Analysis"
   ]
  },
  {
   "cell_type": "markdown",
   "id": "95c5d160-fb8f-4a21-a6e0-b78e20d9ac29",
   "metadata": {},
   "source": [
    "## Number of sites"
   ]
  },
  {
   "cell_type": "markdown",
   "id": "641fa0e6-5b56-4bce-aea9-f978495d96d4",
   "metadata": {},
   "source": [
    "### One site"
   ]
  },
  {
   "cell_type": "code",
   "execution_count": 226,
   "id": "bf87909c-5779-430a-bb6f-a8d53c3b78b5",
   "metadata": {},
   "outputs": [],
   "source": [
    "n=0"
   ]
  },
  {
   "cell_type": "code",
   "execution_count": 227,
   "id": "a5b75dfd-b3a5-4b1b-959c-0f10c0c6928a",
   "metadata": {},
   "outputs": [],
   "source": [
    "phases = [[p[0] for p in l] for l in phase_distance_pairs[n]]\n",
    "distances = [[p[1] for p in l] for l in phase_distance_pairs[n]]"
   ]
  },
  {
   "cell_type": "code",
   "execution_count": 228,
   "id": "dca6ff5b-a1b9-4fed-a4b1-b6bfbcba22e0",
   "metadata": {},
   "outputs": [
    {
     "data": {
      "text/plain": [
       "array([[ 1.+0.j,  1.+0.j,  1.+0.j, -1.+0.j, -1.+0.j, -1.+0.j],\n",
       "       [ 1.+0.j,  1.+0.j,  1.+0.j,  1.+0.j, -1.+0.j,  1.+0.j],\n",
       "       [ 1.+0.j,  1.+0.j,  1.+0.j, -1.+0.j, -1.+0.j, -1.+0.j],\n",
       "       [ 1.+0.j,  1.+0.j,  1.+0.j, -1.+0.j, -1.+0.j, -1.+0.j],\n",
       "       [ 1.+0.j,  1.+0.j,  1.+0.j, -1.+0.j, -1.+0.j, -1.+0.j],\n",
       "       [ 1.+0.j,  1.+0.j,  1.+0.j, -1.+0.j, -1.+0.j, -1.+0.j],\n",
       "       [ 1.+0.j,  1.+0.j,  1.+0.j, -1.+0.j, -1.+0.j, -1.+0.j],\n",
       "       [ 1.+0.j,  1.+0.j,  1.+0.j, -1.+0.j, -1.+0.j, -1.+0.j],\n",
       "       [ 1.+0.j,  1.+0.j,  1.+0.j, -1.+0.j, -1.+0.j, -1.+0.j],\n",
       "       [ 1.+0.j,  1.+0.j,  1.+0.j, -1.+0.j, -1.+0.j, -1.+0.j],\n",
       "       [ 1.+0.j,  1.+0.j,  1.+0.j, -1.+0.j, -1.+0.j, -1.+0.j],\n",
       "       [ 1.+0.j,  1.+0.j,  1.+0.j,  1.+0.j,  1.+0.j,  1.+0.j],\n",
       "       [ 1.+0.j,  1.+0.j,  1.+0.j,  1.+0.j,  1.+0.j,  1.+0.j],\n",
       "       [ 1.+0.j,  1.+0.j,  1.+0.j,  1.+0.j,  1.+0.j,  1.+0.j],\n",
       "       [ 1.+0.j,  1.+0.j,  1.+0.j,  1.+0.j,  1.+0.j,  1.+0.j],\n",
       "       [ 1.+0.j,  1.+0.j,  1.+0.j,  1.+0.j,  1.+0.j,  1.+0.j],\n",
       "       [ 1.+0.j,  1.+0.j,  1.+0.j,  1.+0.j,  1.+0.j,  1.+0.j],\n",
       "       [ 1.+0.j,  1.+0.j,  1.+0.j,  1.+0.j,  1.+0.j,  1.+0.j],\n",
       "       [ 1.+0.j,  1.+0.j,  1.+0.j,  1.+0.j,  1.+0.j,  1.+0.j],\n",
       "       [ 1.+0.j,  1.+0.j,  1.+0.j,  1.+0.j,  1.+0.j,  1.+0.j],\n",
       "       [ 1.+0.j,  1.+0.j,  1.+0.j,  1.+0.j,  1.+0.j,  1.+0.j]])"
      ]
     },
     "execution_count": 228,
     "metadata": {},
     "output_type": "execute_result"
    }
   ],
   "source": [
    "np.round(np.array(phases), 3)"
   ]
  },
  {
   "cell_type": "code",
   "execution_count": 229,
   "id": "70fdabf7-3cb4-4de0-8d5c-8e89cf247110",
   "metadata": {},
   "outputs": [
    {
     "data": {
      "text/plain": [
       "array([[ 1.+0.j,  1.+0.j,  1.+0.j, -1.+0.j, -1.+0.j, -1.+0.j],\n",
       "       [ 1.+0.j,  1.+0.j,  1.+0.j,  1.+0.j, -1.+0.j,  1.+0.j],\n",
       "       [ 1.+0.j,  1.+0.j,  1.+0.j, -1.+0.j, -1.+0.j, -1.+0.j],\n",
       "       [ 1.+0.j,  1.+0.j,  1.+0.j, -1.+0.j, -1.+0.j, -1.+0.j],\n",
       "       [ 1.+0.j,  1.+0.j,  1.+0.j, -1.+0.j, -1.+0.j, -1.+0.j],\n",
       "       [ 1.+0.j,  1.+0.j,  1.+0.j, -1.+0.j, -1.+0.j, -1.+0.j],\n",
       "       [ 1.+0.j,  1.+0.j,  1.+0.j, -1.+0.j, -1.+0.j, -1.+0.j],\n",
       "       [ 1.+0.j,  1.+0.j,  1.+0.j, -1.+0.j, -1.+0.j, -1.+0.j],\n",
       "       [ 1.+0.j,  1.+0.j,  1.+0.j, -1.+0.j, -1.+0.j, -1.+0.j],\n",
       "       [ 1.+0.j,  1.+0.j,  1.+0.j, -1.+0.j, -1.+0.j, -1.+0.j],\n",
       "       [ 1.+0.j,  1.+0.j,  1.+0.j, -1.+0.j, -1.+0.j, -1.+0.j],\n",
       "       [ 1.+0.j,  1.+0.j,  1.+0.j,  1.+0.j,  1.+0.j,  1.+0.j],\n",
       "       [ 1.+0.j,  1.+0.j,  1.+0.j,  1.+0.j,  1.+0.j,  1.+0.j],\n",
       "       [ 1.+0.j,  1.+0.j,  1.+0.j,  1.+0.j,  1.+0.j,  1.+0.j],\n",
       "       [ 1.+0.j,  1.+0.j,  1.+0.j,  1.+0.j,  1.+0.j,  1.+0.j],\n",
       "       [ 1.+0.j,  1.+0.j,  1.+0.j,  1.+0.j,  1.+0.j,  1.+0.j],\n",
       "       [ 1.+0.j,  1.+0.j,  1.+0.j,  1.+0.j,  1.+0.j,  1.+0.j],\n",
       "       [ 1.+0.j,  1.+0.j,  1.+0.j,  1.+0.j,  1.+0.j,  1.+0.j],\n",
       "       [ 1.+0.j,  1.+0.j,  1.+0.j,  1.+0.j,  1.+0.j,  1.+0.j],\n",
       "       [ 1.+0.j,  1.+0.j,  1.+0.j,  1.+0.j,  1.+0.j,  1.+0.j],\n",
       "       [ 1.+0.j,  1.+0.j,  1.+0.j,  1.+0.j,  1.+0.j,  1.+0.j]])"
      ]
     },
     "execution_count": 229,
     "metadata": {},
     "output_type": "execute_result"
    }
   ],
   "source": [
    "np.round(np.array(state_phases[n]), 3)"
   ]
  },
  {
   "cell_type": "code",
   "execution_count": 230,
   "id": "025dab19-7f42-476e-93e4-07b42f7b131d",
   "metadata": {},
   "outputs": [],
   "source": [
    "distances_array = np.real(np.array(distances).T)"
   ]
  },
  {
   "cell_type": "code",
   "execution_count": 231,
   "id": "86040943-2997-4997-a801-6d46e4518efe",
   "metadata": {},
   "outputs": [
    {
     "name": "stderr",
     "output_type": "stream",
     "text": [
      "/var/folders/r3/xn8xq5c17932m2g1b4r3dss80000gn/T/ipykernel_76975/3176477689.py:8: UserWarning: FigureCanvasAgg is non-interactive, and thus cannot be shown\n",
      "  fig.show()\n"
     ]
    },
    {
     "data": {
      "image/png": "[encoded data removed]",
      "text/plain": [
       "<Figure size 600x400 with 1 Axes>"
      ]
     },
     "metadata": {},
     "output_type": "display_data"
    }
   ],
   "source": [
    "fig, ax = plt.subplots(figsize=(6,4))\n",
    "\n",
    "for i, x in enumerate(distances_array):\n",
    "    ax.plot(x, label=symmetry_combination_labels[i])\n",
    "\n",
    "ax.legend()\n",
    "\n",
    "fig.show()"
   ]
  },
  {
   "cell_type": "markdown",
   "id": "c5854553-bea9-4ff9-b4ce-1a8610ff5930",
   "metadata": {},
   "source": [
    "### Two sites"
   ]
  },
  {
   "cell_type": "code",
   "execution_count": 234,
   "id": "4b01ab12-3f6d-486c-b95b-5c9ec5ff6633",
   "metadata": {},
   "outputs": [],
   "source": [
    "n=1"
   ]
  },
  {
   "cell_type": "code",
   "execution_count": 235,
   "id": "38cd0bfd-1c3c-48b1-982a-33e5c4129591",
   "metadata": {},
   "outputs": [],
   "source": [
    "phases = [[p[0] for p in l] for l in phase_distance_pairs[n]]\n",
    "distances = [[p[1] for p in l] for l in phase_distance_pairs[n]]"
   ]
  },
  {
   "cell_type": "code",
   "execution_count": 236,
   "id": "353cc6b1-0efc-49ed-8905-a65500a33cbd",
   "metadata": {},
   "outputs": [
    {
     "data": {
      "text/plain": [
       "array([[ 1.+0.j,  1.+0.j,  1.+0.j, -1.+0.j, -1.+0.j, -1.+0.j],\n",
       "       [ 1.+0.j,  1.+0.j,  1.+0.j, -1.+0.j, -1.+0.j, -1.+0.j],\n",
       "       [ 1.+0.j,  1.+0.j,  1.+0.j, -1.+0.j, -1.+0.j, -1.+0.j],\n",
       "       [ 1.+0.j,  1.+0.j,  1.+0.j, -1.+0.j, -1.+0.j, -1.+0.j],\n",
       "       [ 1.+0.j,  1.+0.j,  1.+0.j, -1.+0.j, -1.+0.j, -1.+0.j],\n",
       "       [ 1.+0.j,  1.+0.j,  1.+0.j, -1.+0.j, -1.+0.j, -1.+0.j],\n",
       "       [ 1.+0.j,  1.+0.j,  1.+0.j, -1.+0.j, -1.+0.j, -1.+0.j],\n",
       "       [ 1.+0.j,  1.+0.j,  1.+0.j, -1.+0.j, -1.+0.j, -1.+0.j],\n",
       "       [ 1.+0.j,  1.+0.j,  1.+0.j, -1.+0.j, -1.+0.j, -1.+0.j],\n",
       "       [ 1.+0.j,  1.+0.j,  1.+0.j, -1.+0.j, -1.+0.j, -1.+0.j],\n",
       "       [ 1.+0.j,  1.+0.j,  1.+0.j, -1.+0.j, -1.+0.j, -1.+0.j],\n",
       "       [ 1.+0.j,  1.+0.j,  1.+0.j,  1.+0.j,  1.+0.j,  1.+0.j],\n",
       "       [ 1.+0.j,  1.+0.j,  1.+0.j,  1.+0.j,  1.+0.j,  1.+0.j],\n",
       "       [ 1.+0.j,  1.+0.j,  1.+0.j,  1.+0.j,  1.+0.j,  1.+0.j],\n",
       "       [ 1.+0.j,  1.+0.j,  1.+0.j,  1.+0.j,  1.+0.j,  1.+0.j],\n",
       "       [ 1.+0.j,  1.+0.j,  1.+0.j,  1.+0.j,  1.+0.j,  1.+0.j],\n",
       "       [ 1.+0.j,  1.+0.j,  1.+0.j,  1.+0.j,  1.+0.j,  1.+0.j],\n",
       "       [ 1.+0.j,  1.+0.j,  1.+0.j,  1.+0.j,  1.+0.j,  1.+0.j],\n",
       "       [ 1.+0.j,  1.+0.j,  1.+0.j,  1.+0.j,  1.+0.j,  1.+0.j],\n",
       "       [ 1.+0.j,  1.+0.j,  1.+0.j,  1.+0.j,  1.+0.j,  1.+0.j],\n",
       "       [ 1.+0.j,  1.+0.j,  1.+0.j,  1.+0.j,  1.+0.j,  1.+0.j]])"
      ]
     },
     "execution_count": 236,
     "metadata": {},
     "output_type": "execute_result"
    }
   ],
   "source": [
    "np.round(np.array(phases), 3)"
   ]
  },
  {
   "cell_type": "code",
   "execution_count": 237,
   "id": "d0c50ee9-b702-4c72-a687-fa36b7b19186",
   "metadata": {},
   "outputs": [
    {
     "data": {
      "text/plain": [
       "array([[ 1.+0.j,  1.+0.j,  1.+0.j, -1.+0.j, -1.+0.j, -1.+0.j],\n",
       "       [ 1.+0.j,  1.+0.j,  1.+0.j, -1.+0.j, -1.+0.j, -1.+0.j],\n",
       "       [ 1.+0.j,  1.+0.j,  1.+0.j, -1.+0.j, -1.+0.j, -1.+0.j],\n",
       "       [ 1.+0.j,  1.+0.j,  1.+0.j, -1.+0.j, -1.+0.j, -1.+0.j],\n",
       "       [ 1.+0.j,  1.+0.j,  1.+0.j, -1.+0.j, -1.+0.j, -1.+0.j],\n",
       "       [ 1.+0.j,  1.+0.j,  1.+0.j, -1.+0.j, -1.+0.j, -1.+0.j],\n",
       "       [ 1.+0.j,  1.+0.j,  1.+0.j, -1.+0.j, -1.+0.j, -1.+0.j],\n",
       "       [ 1.+0.j,  1.+0.j,  1.+0.j, -1.+0.j, -1.+0.j, -1.+0.j],\n",
       "       [ 1.+0.j,  1.+0.j,  1.+0.j, -1.+0.j, -1.+0.j, -1.+0.j],\n",
       "       [ 1.+0.j,  1.+0.j,  1.+0.j, -1.+0.j, -1.+0.j, -1.+0.j],\n",
       "       [ 1.+0.j,  1.+0.j,  1.+0.j, -1.+0.j, -1.+0.j, -1.+0.j],\n",
       "       [ 1.+0.j,  1.+0.j,  1.+0.j,  1.+0.j,  1.+0.j,  1.+0.j],\n",
       "       [ 1.+0.j,  1.+0.j,  1.+0.j,  1.+0.j,  1.+0.j,  1.+0.j],\n",
       "       [ 1.+0.j,  1.+0.j,  1.+0.j,  1.+0.j,  1.+0.j,  1.+0.j],\n",
       "       [ 1.+0.j,  1.+0.j,  1.+0.j,  1.+0.j,  1.+0.j,  1.+0.j],\n",
       "       [ 1.+0.j,  1.+0.j,  1.+0.j,  1.+0.j,  1.+0.j,  1.+0.j],\n",
       "       [ 1.+0.j,  1.+0.j,  1.+0.j,  1.+0.j,  1.+0.j,  1.+0.j],\n",
       "       [ 1.+0.j,  1.+0.j,  1.+0.j,  1.+0.j,  1.+0.j,  1.+0.j],\n",
       "       [ 1.+0.j,  1.+0.j,  1.+0.j,  1.+0.j,  1.+0.j,  1.+0.j],\n",
       "       [ 1.+0.j,  1.+0.j,  1.+0.j,  1.+0.j,  1.+0.j,  1.+0.j],\n",
       "       [ 1.+0.j,  1.+0.j,  1.+0.j,  1.+0.j,  1.+0.j,  1.+0.j]])"
      ]
     },
     "execution_count": 237,
     "metadata": {},
     "output_type": "execute_result"
    }
   ],
   "source": [
    "np.round(np.array(state_phases[n]), 3)"
   ]
  },
  {
   "cell_type": "code",
   "execution_count": 238,
   "id": "262010cd-d957-4397-8cee-1ea041eb27a6",
   "metadata": {},
   "outputs": [],
   "source": [
    "distances_array = np.real(np.array(distances).T)"
   ]
  },
  {
   "cell_type": "code",
   "execution_count": 239,
   "id": "e2e87d4b-eca1-41cf-8518-e331968b0751",
   "metadata": {},
   "outputs": [
    {
     "name": "stderr",
     "output_type": "stream",
     "text": [
      "/var/folders/r3/xn8xq5c17932m2g1b4r3dss80000gn/T/ipykernel_76975/3176477689.py:8: UserWarning: FigureCanvasAgg is non-interactive, and thus cannot be shown\n",
      "  fig.show()\n"
     ]
    },
    {
     "data": {
      "image/png": "[encoded data removed]",
      "text/plain": [
       "<Figure size 600x400 with 1 Axes>"
      ]
     },
     "metadata": {},
     "output_type": "display_data"
    }
   ],
   "source": [
    "fig, ax = plt.subplots(figsize=(6,4))\n",
    "\n",
    "for i, x in enumerate(distances_array):\n",
    "    ax.plot(x, label=symmetry_combination_labels[i])\n",
    "\n",
    "ax.legend()\n",
    "\n",
    "fig.show()"
   ]
  },
  {
   "cell_type": "markdown",
   "id": "d883b846-9ca6-448e-b274-fb0702565b4b",
   "metadata": {},
   "source": [
    "### Three sites"
   ]
  },
  {
   "cell_type": "code",
   "execution_count": 240,
   "id": "b1c27212-5d5a-4396-aa82-5dc5e4b9dc5c",
   "metadata": {},
   "outputs": [],
   "source": [
    "n=2"
   ]
  },
  {
   "cell_type": "code",
   "execution_count": 241,
   "id": "ecdcbed2-d822-4eb9-9bf1-09630960eaeb",
   "metadata": {},
   "outputs": [],
   "source": [
    "phases = [[p[0] for p in l] for l in phase_distance_pairs[n]]\n",
    "distances = [[p[1] for p in l] for l in phase_distance_pairs[n]]"
   ]
  },
  {
   "cell_type": "code",
   "execution_count": 242,
   "id": "74fa6ea4-7e5c-4b54-83c4-782fcf6497f1",
   "metadata": {},
   "outputs": [
    {
     "data": {
      "text/plain": [
       "array([[ 1.+0.j,  1.+0.j,  1.+0.j, -1.+0.j, -1.+0.j, -1.+0.j],\n",
       "       [ 1.+0.j,  1.+0.j,  1.+0.j, -1.+0.j, -1.+0.j, -1.+0.j],\n",
       "       [ 1.+0.j,  1.+0.j,  1.+0.j, -1.+0.j, -1.+0.j, -1.+0.j],\n",
       "       [ 1.+0.j,  1.+0.j,  1.+0.j, -1.+0.j, -1.+0.j, -1.+0.j],\n",
       "       [ 1.+0.j,  1.+0.j,  1.+0.j, -1.+0.j, -1.+0.j, -1.+0.j],\n",
       "       [ 1.+0.j,  1.+0.j,  1.+0.j, -1.+0.j, -1.+0.j, -1.+0.j],\n",
       "       [ 1.+0.j,  1.+0.j,  1.+0.j, -1.+0.j, -1.+0.j, -1.+0.j],\n",
       "       [ 1.+0.j,  1.+0.j,  1.+0.j, -1.+0.j, -1.+0.j, -1.+0.j],\n",
       "       [ 1.+0.j,  1.+0.j,  1.+0.j, -1.+0.j, -1.+0.j, -1.+0.j],\n",
       "       [ 1.+0.j,  1.+0.j,  1.+0.j, -1.+0.j, -1.+0.j, -1.+0.j],\n",
       "       [ 1.+0.j,  1.+0.j,  1.+0.j, -1.+0.j, -1.+0.j, -1.+0.j],\n",
       "       [ 1.+0.j,  1.+0.j,  1.+0.j,  1.+0.j,  1.+0.j,  1.+0.j],\n",
       "       [ 1.+0.j,  1.+0.j,  1.+0.j,  1.+0.j,  1.+0.j,  1.+0.j],\n",
       "       [ 1.+0.j,  1.+0.j,  1.+0.j,  1.+0.j,  1.+0.j,  1.+0.j],\n",
       "       [ 1.+0.j,  1.+0.j,  1.+0.j,  1.+0.j,  1.+0.j,  1.+0.j],\n",
       "       [ 1.+0.j,  1.+0.j,  1.+0.j,  1.+0.j,  1.+0.j,  1.+0.j],\n",
       "       [ 1.+0.j,  1.+0.j,  1.+0.j,  1.+0.j,  1.+0.j,  1.+0.j],\n",
       "       [ 1.+0.j,  1.+0.j,  1.+0.j,  1.+0.j,  1.+0.j,  1.+0.j],\n",
       "       [ 1.+0.j,  1.+0.j,  1.+0.j,  1.+0.j,  1.+0.j,  1.+0.j],\n",
       "       [ 1.+0.j,  1.+0.j,  1.+0.j,  1.+0.j,  1.+0.j,  1.+0.j],\n",
       "       [ 1.+0.j,  1.+0.j,  1.+0.j,  1.+0.j,  1.+0.j,  1.+0.j]])"
      ]
     },
     "execution_count": 242,
     "metadata": {},
     "output_type": "execute_result"
    }
   ],
   "source": [
    "np.round(np.array(phases), 3)"
   ]
  },
  {
   "cell_type": "code",
   "execution_count": 243,
   "id": "e78b70b2-9627-424a-bde4-02ddc71a2130",
   "metadata": {},
   "outputs": [
    {
     "data": {
      "text/plain": [
       "array([[ 1.+0.j,  1.+0.j,  1.+0.j, -1.+0.j, -1.+0.j, -1.+0.j],\n",
       "       [ 1.+0.j,  1.+0.j,  1.+0.j, -1.+0.j, -1.+0.j, -1.+0.j],\n",
       "       [ 1.+0.j,  1.+0.j,  1.+0.j, -1.+0.j, -1.+0.j, -1.+0.j],\n",
       "       [ 1.+0.j,  1.+0.j,  1.+0.j, -1.+0.j, -1.+0.j, -1.+0.j],\n",
       "       [ 1.+0.j,  1.+0.j,  1.+0.j, -1.+0.j, -1.+0.j, -1.+0.j],\n",
       "       [ 1.+0.j,  1.+0.j,  1.+0.j, -1.+0.j, -1.+0.j, -1.+0.j],\n",
       "       [ 1.+0.j,  1.+0.j,  1.+0.j, -1.+0.j, -1.+0.j, -1.+0.j],\n",
       "       [ 1.+0.j,  1.+0.j,  1.+0.j, -1.+0.j, -1.+0.j, -1.+0.j],\n",
       "       [ 1.+0.j,  1.+0.j,  1.+0.j, -1.+0.j, -1.+0.j, -1.+0.j],\n",
       "       [ 1.+0.j,  1.+0.j,  1.+0.j, -1.+0.j, -1.+0.j, -1.+0.j],\n",
       "       [ 1.+0.j,  1.+0.j,  1.+0.j, -1.+0.j, -1.+0.j, -1.+0.j],\n",
       "       [ 1.+0.j,  1.+0.j,  1.+0.j,  1.+0.j,  1.+0.j,  1.+0.j],\n",
       "       [ 1.+0.j,  1.+0.j,  1.+0.j,  1.+0.j,  1.+0.j,  1.+0.j],\n",
       "       [ 1.+0.j,  1.+0.j,  1.+0.j,  1.+0.j,  1.+0.j,  1.+0.j],\n",
       "       [ 1.+0.j,  1.+0.j,  1.+0.j,  1.+0.j,  1.+0.j,  1.+0.j],\n",
       "       [ 1.+0.j,  1.+0.j,  1.+0.j,  1.+0.j,  1.+0.j,  1.+0.j],\n",
       "       [ 1.+0.j,  1.+0.j,  1.+0.j,  1.+0.j,  1.+0.j,  1.+0.j],\n",
       "       [ 1.+0.j,  1.+0.j,  1.+0.j,  1.+0.j,  1.+0.j,  1.+0.j],\n",
       "       [ 1.+0.j,  1.+0.j,  1.+0.j,  1.+0.j,  1.+0.j,  1.+0.j],\n",
       "       [ 1.+0.j,  1.+0.j,  1.+0.j,  1.+0.j,  1.+0.j,  1.+0.j],\n",
       "       [ 1.+0.j,  1.+0.j,  1.+0.j,  1.+0.j,  1.+0.j,  1.+0.j]])"
      ]
     },
     "execution_count": 243,
     "metadata": {},
     "output_type": "execute_result"
    }
   ],
   "source": [
    "np.round(np.array(state_phases[n]), 3)"
   ]
  },
  {
   "cell_type": "code",
   "execution_count": 244,
   "id": "2b9c36f1-7fa6-4517-8f42-b0c9f70aac18",
   "metadata": {},
   "outputs": [],
   "source": [
    "distances_array = np.real(np.array(distances).T)"
   ]
  },
  {
   "cell_type": "code",
   "execution_count": 245,
   "id": "356980b4-1846-4013-8fa9-9215f9d3dfba",
   "metadata": {},
   "outputs": [
    {
     "name": "stderr",
     "output_type": "stream",
     "text": [
      "/var/folders/r3/xn8xq5c17932m2g1b4r3dss80000gn/T/ipykernel_76975/3176477689.py:8: UserWarning: FigureCanvasAgg is non-interactive, and thus cannot be shown\n",
      "  fig.show()\n"
     ]
    },
    {
     "data": {
      "image/png": "[encoded data removed]",
      "text/plain": [
       "<Figure size 600x400 with 1 Axes>"
      ]
     },
     "metadata": {},
     "output_type": "display_data"
    }
   ],
   "source": [
    "fig, ax = plt.subplots(figsize=(6,4))\n",
    "\n",
    "for i, x in enumerate(distances_array):\n",
    "    ax.plot(x, label=symmetry_combination_labels[i])\n",
    "\n",
    "ax.legend()\n",
    "\n",
    "fig.show()"
   ]
  },
  {
   "cell_type": "markdown",
   "id": "ca7460fa-24d0-4b11-b60d-60c19b9e70a4",
   "metadata": {},
   "source": [
    "### Four sites"
   ]
  },
  {
   "cell_type": "code",
   "execution_count": 246,
   "id": "36aad009-f48f-4f8f-8430-2b47e5965808",
   "metadata": {},
   "outputs": [],
   "source": [
    "n=3"
   ]
  },
  {
   "cell_type": "code",
   "execution_count": 247,
   "id": "a6141d2e-b7b0-401a-8062-6d7893d0400e",
   "metadata": {},
   "outputs": [],
   "source": [
    "phases = [[p[0] for p in l] for l in phase_distance_pairs[n]]\n",
    "distances = [[p[1] for p in l] for l in phase_distance_pairs[n]]"
   ]
  },
  {
   "cell_type": "code",
   "execution_count": 248,
   "id": "8190539e-c5af-4f90-af88-d2ab9080d0a2",
   "metadata": {},
   "outputs": [
    {
     "data": {
      "text/plain": [
       "array([[ 1.+0.j,  1.+0.j,  1.+0.j, -1.+0.j, -1.+0.j, -1.+0.j],\n",
       "       [ 1.+0.j,  1.+0.j,  1.+0.j, -1.+0.j, -1.+0.j, -1.+0.j],\n",
       "       [ 1.+0.j,  1.+0.j,  1.+0.j, -1.+0.j, -1.+0.j, -1.+0.j],\n",
       "       [ 1.+0.j,  1.+0.j,  1.+0.j, -1.+0.j, -1.+0.j, -1.+0.j],\n",
       "       [ 1.+0.j,  1.+0.j,  1.+0.j, -1.+0.j, -1.+0.j, -1.+0.j],\n",
       "       [ 1.+0.j,  1.+0.j,  1.+0.j, -1.+0.j, -1.+0.j, -1.+0.j],\n",
       "       [ 1.+0.j,  1.+0.j,  1.+0.j, -1.+0.j, -1.+0.j, -1.+0.j],\n",
       "       [ 1.+0.j,  1.+0.j,  1.+0.j, -1.+0.j, -1.+0.j, -1.+0.j],\n",
       "       [ 1.+0.j,  1.+0.j,  1.+0.j, -1.+0.j, -1.+0.j, -1.+0.j],\n",
       "       [ 1.+0.j,  1.+0.j,  1.+0.j, -1.+0.j, -1.+0.j, -1.+0.j],\n",
       "       [ 1.+0.j,  1.+0.j,  1.+0.j, -1.+0.j, -1.+0.j, -1.+0.j],\n",
       "       [ 1.+0.j,  1.+0.j,  1.+0.j,  1.+0.j,  1.+0.j,  1.+0.j],\n",
       "       [ 1.+0.j,  1.+0.j,  1.+0.j,  1.+0.j,  1.+0.j,  1.+0.j],\n",
       "       [ 1.+0.j,  1.+0.j,  1.+0.j,  1.+0.j,  1.+0.j,  1.+0.j],\n",
       "       [ 1.+0.j,  1.+0.j,  1.+0.j,  1.+0.j,  1.+0.j,  1.+0.j],\n",
       "       [ 1.+0.j,  1.+0.j,  1.+0.j,  1.+0.j,  1.+0.j,  1.+0.j],\n",
       "       [ 1.+0.j,  1.+0.j,  1.+0.j,  1.+0.j,  1.+0.j,  1.+0.j],\n",
       "       [ 1.+0.j,  1.+0.j,  1.+0.j,  1.+0.j,  1.+0.j,  1.+0.j],\n",
       "       [ 1.+0.j,  1.+0.j,  1.+0.j,  1.+0.j,  1.+0.j,  1.+0.j],\n",
       "       [ 1.+0.j,  1.+0.j,  1.+0.j,  1.+0.j,  1.+0.j,  1.+0.j],\n",
       "       [ 1.+0.j,  1.+0.j,  1.+0.j,  1.+0.j,  1.+0.j,  1.+0.j]])"
      ]
     },
     "execution_count": 248,
     "metadata": {},
     "output_type": "execute_result"
    }
   ],
   "source": [
    "np.round(np.array(phases), 3)"
   ]
  },
  {
   "cell_type": "code",
   "execution_count": 249,
   "id": "769ffa60-9e0b-40b4-ac69-a829b4a05f58",
   "metadata": {},
   "outputs": [
    {
     "data": {
      "text/plain": [
       "array([[ 1.+0.j,  1.+0.j,  1.+0.j, -1.+0.j, -1.+0.j, -1.+0.j],\n",
       "       [ 1.+0.j,  1.+0.j,  1.+0.j, -1.+0.j, -1.+0.j, -1.+0.j],\n",
       "       [ 1.+0.j,  1.+0.j,  1.+0.j, -1.+0.j, -1.+0.j, -1.+0.j],\n",
       "       [ 1.+0.j,  1.+0.j,  1.+0.j, -1.+0.j, -1.+0.j, -1.+0.j],\n",
       "       [ 1.+0.j,  1.+0.j,  1.+0.j, -1.+0.j, -1.+0.j, -1.+0.j],\n",
       "       [ 1.+0.j,  1.+0.j,  1.+0.j, -1.+0.j, -1.+0.j, -1.+0.j],\n",
       "       [ 1.+0.j,  1.+0.j,  1.+0.j, -1.+0.j, -1.+0.j, -1.+0.j],\n",
       "       [ 1.+0.j,  1.+0.j,  1.+0.j, -1.+0.j, -1.+0.j, -1.+0.j],\n",
       "       [ 1.+0.j,  1.+0.j,  1.+0.j, -1.+0.j, -1.+0.j, -1.+0.j],\n",
       "       [ 1.+0.j,  1.+0.j,  1.+0.j, -1.+0.j, -1.+0.j, -1.+0.j],\n",
       "       [ 1.+0.j,  1.+0.j,  1.+0.j, -1.+0.j, -1.+0.j, -1.+0.j],\n",
       "       [ 1.+0.j,  1.+0.j,  1.+0.j,  1.+0.j,  1.+0.j,  1.+0.j],\n",
       "       [ 1.+0.j,  1.+0.j,  1.+0.j,  1.+0.j,  1.+0.j,  1.+0.j],\n",
       "       [ 1.+0.j,  1.+0.j,  1.+0.j,  1.+0.j,  1.+0.j,  1.+0.j],\n",
       "       [ 1.+0.j,  1.+0.j,  1.+0.j,  1.+0.j,  1.+0.j,  1.+0.j],\n",
       "       [ 1.+0.j,  1.+0.j,  1.+0.j,  1.+0.j,  1.+0.j,  1.+0.j],\n",
       "       [ 1.+0.j,  1.+0.j,  1.+0.j,  1.+0.j,  1.+0.j,  1.+0.j],\n",
       "       [ 1.+0.j,  1.+0.j,  1.+0.j,  1.+0.j,  1.+0.j,  1.+0.j],\n",
       "       [ 1.+0.j,  1.+0.j,  1.+0.j,  1.+0.j,  1.+0.j,  1.+0.j],\n",
       "       [ 1.+0.j,  1.+0.j,  1.+0.j,  1.+0.j,  1.+0.j,  1.+0.j],\n",
       "       [ 1.+0.j,  1.+0.j,  1.+0.j,  1.+0.j,  1.+0.j,  1.+0.j]])"
      ]
     },
     "execution_count": 249,
     "metadata": {},
     "output_type": "execute_result"
    }
   ],
   "source": [
    "np.round(np.array(state_phases[n]), 3)"
   ]
  },
  {
   "cell_type": "code",
   "execution_count": 250,
   "id": "2114601b-a48a-4bea-aca4-6ba554104474",
   "metadata": {},
   "outputs": [],
   "source": [
    "distances_array = np.real(np.array(distances).T)"
   ]
  },
  {
   "cell_type": "code",
   "execution_count": 251,
   "id": "c470aeb7-823b-4cb5-a42c-05fe7c47e287",
   "metadata": {},
   "outputs": [
    {
     "name": "stderr",
     "output_type": "stream",
     "text": [
      "/var/folders/r3/xn8xq5c17932m2g1b4r3dss80000gn/T/ipykernel_76975/3176477689.py:8: UserWarning: FigureCanvasAgg is non-interactive, and thus cannot be shown\n",
      "  fig.show()\n"
     ]
    },
    {
     "data": {
      "image/png": "[encoded data removed]",
      "text/plain": [
       "<Figure size 600x400 with 1 Axes>"
      ]
     },
     "metadata": {},
     "output_type": "display_data"
    }
   ],
   "source": [
    "fig, ax = plt.subplots(figsize=(6,4))\n",
    "\n",
    "for i, x in enumerate(distances_array):\n",
    "    ax.plot(x, label=symmetry_combination_labels[i])\n",
    "\n",
    "ax.legend()\n",
    "\n",
    "fig.show()"
   ]
  },
  {
   "cell_type": "markdown",
   "id": "3591bc5d-60ce-4f71-a464-6d1a9596821b",
   "metadata": {},
   "source": [
    "### Five sites"
   ]
  },
  {
   "cell_type": "code",
   "execution_count": 252,
   "id": "a6186f13-7c2e-41d0-8c76-74cea6461cb1",
   "metadata": {},
   "outputs": [],
   "source": [
    "n=4"
   ]
  },
  {
   "cell_type": "code",
   "execution_count": 253,
   "id": "438b4150-ff7d-40c7-810f-58a6aa73fb62",
   "metadata": {},
   "outputs": [],
   "source": [
    "phases = [[p[0] for p in l] for l in phase_distance_pairs[n]]\n",
    "distances = [[p[1] for p in l] for l in phase_distance_pairs[n]]"
   ]
  },
  {
   "cell_type": "code",
   "execution_count": 254,
   "id": "2937fece-6b0e-4079-834c-fe965c8a7cf0",
   "metadata": {},
   "outputs": [
    {
     "data": {
      "text/plain": [
       "array([[ 1.+0.j,  1.+0.j,  1.+0.j, -1.+0.j, -1.+0.j, -1.+0.j],\n",
       "       [ 1.+0.j,  1.+0.j,  1.+0.j, -1.+0.j, -1.+0.j, -1.+0.j],\n",
       "       [ 1.+0.j,  1.+0.j,  1.+0.j, -1.+0.j, -1.+0.j, -1.+0.j],\n",
       "       [ 1.+0.j,  1.+0.j,  1.+0.j, -1.+0.j, -1.+0.j, -1.+0.j],\n",
       "       [ 1.+0.j,  1.+0.j,  1.+0.j, -1.+0.j, -1.+0.j, -1.+0.j],\n",
       "       [ 1.+0.j,  1.+0.j,  1.+0.j, -1.+0.j, -1.+0.j, -1.+0.j],\n",
       "       [ 1.+0.j,  1.+0.j,  1.+0.j, -1.+0.j, -1.+0.j, -1.+0.j],\n",
       "       [ 1.+0.j,  1.+0.j,  1.+0.j, -1.+0.j, -1.+0.j, -1.+0.j],\n",
       "       [ 1.+0.j,  1.+0.j,  1.+0.j, -1.+0.j, -1.+0.j, -1.+0.j],\n",
       "       [ 1.+0.j,  1.+0.j,  1.+0.j, -1.+0.j, -1.+0.j, -1.+0.j],\n",
       "       [ 1.+0.j,  1.+0.j,  1.+0.j, -1.+0.j, -1.+0.j, -1.+0.j],\n",
       "       [ 1.+0.j,  1.+0.j,  1.+0.j,  1.+0.j,  1.+0.j,  1.+0.j],\n",
       "       [ 1.+0.j,  1.+0.j,  1.+0.j,  1.+0.j,  1.+0.j,  1.+0.j],\n",
       "       [ 1.+0.j,  1.+0.j,  1.+0.j,  1.+0.j,  1.+0.j,  1.+0.j],\n",
       "       [ 1.+0.j,  1.+0.j,  1.+0.j,  1.+0.j,  1.+0.j,  1.+0.j],\n",
       "       [ 1.+0.j,  1.+0.j,  1.+0.j,  1.+0.j,  1.+0.j,  1.+0.j],\n",
       "       [ 1.+0.j,  1.+0.j,  1.+0.j,  1.+0.j,  1.+0.j,  1.+0.j],\n",
       "       [ 1.+0.j,  1.+0.j,  1.+0.j,  1.+0.j,  1.+0.j,  1.+0.j],\n",
       "       [ 1.+0.j,  1.+0.j,  1.+0.j,  1.+0.j,  1.+0.j,  1.+0.j],\n",
       "       [ 1.+0.j,  1.+0.j,  1.+0.j,  1.+0.j,  1.+0.j,  1.+0.j],\n",
       "       [ 1.+0.j,  1.+0.j,  1.+0.j,  1.+0.j,  1.+0.j,  1.+0.j]])"
      ]
     },
     "execution_count": 254,
     "metadata": {},
     "output_type": "execute_result"
    }
   ],
   "source": [
    "np.round(np.array(phases), 3)"
   ]
  },
  {
   "cell_type": "code",
   "execution_count": 255,
   "id": "2be0d025-130f-4160-aa8e-dfdc7c72d34a",
   "metadata": {},
   "outputs": [
    {
     "data": {
      "text/plain": [
       "array([[ 1.+0.j,  1.+0.j,  1.+0.j, -1.+0.j, -1.+0.j, -1.+0.j],\n",
       "       [ 1.+0.j,  1.+0.j,  1.+0.j, -1.+0.j, -1.+0.j, -1.+0.j],\n",
       "       [ 1.+0.j,  1.+0.j,  1.+0.j, -1.+0.j, -1.+0.j, -1.+0.j],\n",
       "       [ 1.+0.j,  1.+0.j,  1.+0.j, -1.+0.j, -1.+0.j, -1.+0.j],\n",
       "       [ 1.+0.j,  1.+0.j,  1.+0.j, -1.+0.j, -1.+0.j, -1.+0.j],\n",
       "       [ 1.+0.j,  1.+0.j,  1.+0.j, -1.+0.j, -1.+0.j, -1.+0.j],\n",
       "       [ 1.+0.j,  1.+0.j,  1.+0.j, -1.+0.j, -1.+0.j, -1.+0.j],\n",
       "       [ 1.+0.j,  1.+0.j,  1.+0.j, -1.+0.j, -1.+0.j, -1.+0.j],\n",
       "       [ 1.+0.j,  1.+0.j,  1.+0.j, -1.+0.j, -1.+0.j, -1.+0.j],\n",
       "       [ 1.+0.j,  1.+0.j,  1.+0.j, -1.+0.j, -1.+0.j, -1.+0.j],\n",
       "       [ 1.+0.j,  1.+0.j,  1.+0.j, -1.+0.j, -1.+0.j, -1.+0.j],\n",
       "       [ 1.+0.j,  1.+0.j,  1.+0.j,  1.+0.j,  1.+0.j,  1.+0.j],\n",
       "       [ 1.+0.j,  1.+0.j,  1.+0.j,  1.+0.j,  1.+0.j,  1.+0.j],\n",
       "       [ 1.+0.j,  1.+0.j,  1.+0.j,  1.+0.j,  1.+0.j,  1.+0.j],\n",
       "       [ 1.+0.j,  1.+0.j,  1.+0.j,  1.+0.j,  1.+0.j,  1.+0.j],\n",
       "       [ 1.+0.j,  1.+0.j,  1.+0.j,  1.+0.j,  1.+0.j,  1.+0.j],\n",
       "       [ 1.+0.j,  1.+0.j,  1.+0.j,  1.+0.j,  1.+0.j,  1.+0.j],\n",
       "       [ 1.+0.j,  1.+0.j,  1.+0.j,  1.+0.j,  1.+0.j,  1.+0.j],\n",
       "       [ 1.+0.j,  1.+0.j,  1.+0.j,  1.+0.j,  1.+0.j,  1.+0.j],\n",
       "       [ 1.+0.j,  1.+0.j,  1.+0.j,  1.+0.j,  1.+0.j,  1.+0.j],\n",
       "       [ 1.+0.j,  1.+0.j,  1.+0.j,  1.+0.j,  1.+0.j,  1.+0.j]])"
      ]
     },
     "execution_count": 255,
     "metadata": {},
     "output_type": "execute_result"
    }
   ],
   "source": [
    "np.round(np.array(state_phases[n]), 3)"
   ]
  },
  {
   "cell_type": "code",
   "execution_count": 256,
   "id": "49a103a2-03fd-4c7c-8b5a-aa6e5cee390f",
   "metadata": {},
   "outputs": [],
   "source": [
    "distances_array = np.real(np.array(distances).T)"
   ]
  },
  {
   "cell_type": "code",
   "execution_count": 257,
   "id": "ac058da4-78cb-4403-baee-c6e0d9fc6c9f",
   "metadata": {},
   "outputs": [
    {
     "name": "stderr",
     "output_type": "stream",
     "text": [
      "/var/folders/r3/xn8xq5c17932m2g1b4r3dss80000gn/T/ipykernel_76975/3176477689.py:8: UserWarning: FigureCanvasAgg is non-interactive, and thus cannot be shown\n",
      "  fig.show()\n"
     ]
    },
    {
     "data": {
      "image/png": "[encoded data removed]",
      "text/plain": [
       "<Figure size 600x400 with 1 Axes>"
      ]
     },
     "metadata": {},
     "output_type": "display_data"
    }
   ],
   "source": [
    "fig, ax = plt.subplots(figsize=(6,4))\n",
    "\n",
    "for i, x in enumerate(distances_array):\n",
    "    ax.plot(x, label=symmetry_combination_labels[i])\n",
    "\n",
    "ax.legend()\n",
    "\n",
    "fig.show()"
   ]
  },
  {
   "cell_type": "markdown",
   "id": "0592b312-249f-49a4-b0ab-eae4eaab06fd",
   "metadata": {},
   "source": [
    "### Six sites"
   ]
  },
  {
   "cell_type": "code",
   "execution_count": 258,
   "id": "fb101d7a-dedf-45c8-a472-ee6a5efd05d6",
   "metadata": {},
   "outputs": [],
   "source": [
    "n=5"
   ]
  },
  {
   "cell_type": "code",
   "execution_count": 259,
   "id": "07f31c31-de22-46ff-a172-8853cbd35dba",
   "metadata": {},
   "outputs": [],
   "source": [
    "phases = [[p[0] for p in l] for l in phase_distance_pairs[n]]\n",
    "distances = [[p[1] for p in l] for l in phase_distance_pairs[n]]"
   ]
  },
  {
   "cell_type": "code",
   "execution_count": 260,
   "id": "f82892d5-1b4c-4082-b683-f7eb6f7354cb",
   "metadata": {},
   "outputs": [
    {
     "data": {
      "text/plain": [
       "array([[ 1.+0.j,  1.+0.j,  1.+0.j, -1.+0.j, -1.+0.j, -1.+0.j],\n",
       "       [ 1.+0.j,  1.+0.j,  1.+0.j, -1.+0.j, -1.+0.j, -1.+0.j],\n",
       "       [ 1.+0.j,  1.+0.j,  1.+0.j, -1.+0.j, -1.+0.j, -1.+0.j],\n",
       "       [ 1.+0.j,  1.+0.j,  1.+0.j, -1.+0.j, -1.+0.j, -1.+0.j],\n",
       "       [ 1.+0.j,  1.+0.j,  1.+0.j, -1.+0.j, -1.+0.j, -1.+0.j],\n",
       "       [ 1.+0.j,  1.+0.j,  1.+0.j, -1.+0.j, -1.+0.j, -1.+0.j],\n",
       "       [ 1.+0.j,  1.+0.j,  1.+0.j, -1.+0.j, -1.+0.j, -1.+0.j],\n",
       "       [ 1.+0.j,  1.+0.j,  1.+0.j, -1.+0.j, -1.+0.j, -1.+0.j],\n",
       "       [ 1.+0.j,  1.+0.j,  1.+0.j, -1.+0.j, -1.+0.j, -1.+0.j],\n",
       "       [ 1.+0.j,  1.+0.j,  1.+0.j, -1.+0.j, -1.+0.j, -1.+0.j],\n",
       "       [ 1.+0.j,  1.+0.j,  1.+0.j,  1.+0.j, -1.+0.j, -1.+0.j],\n",
       "       [ 1.+0.j,  1.+0.j,  1.+0.j,  1.+0.j,  1.+0.j,  1.+0.j],\n",
       "       [ 1.+0.j,  1.+0.j,  1.+0.j,  1.+0.j,  1.+0.j,  1.+0.j],\n",
       "       [ 1.+0.j,  1.+0.j,  1.+0.j,  1.+0.j,  1.+0.j,  1.+0.j],\n",
       "       [ 1.+0.j,  1.+0.j,  1.+0.j,  1.+0.j,  1.+0.j,  1.+0.j],\n",
       "       [ 1.+0.j,  1.+0.j,  1.+0.j,  1.+0.j,  1.+0.j,  1.+0.j],\n",
       "       [ 1.+0.j,  1.+0.j,  1.+0.j,  1.+0.j,  1.+0.j,  1.+0.j],\n",
       "       [ 1.+0.j,  1.+0.j,  1.+0.j,  1.+0.j,  1.+0.j,  1.+0.j],\n",
       "       [ 1.+0.j,  1.+0.j,  1.+0.j,  1.+0.j,  1.+0.j,  1.+0.j],\n",
       "       [ 1.+0.j,  1.+0.j,  1.+0.j,  1.+0.j,  1.+0.j,  1.+0.j],\n",
       "       [ 1.+0.j,  1.+0.j,  1.+0.j,  1.+0.j,  1.+0.j,  1.+0.j]])"
      ]
     },
     "execution_count": 260,
     "metadata": {},
     "output_type": "execute_result"
    }
   ],
   "source": [
    "np.round(np.array(phases), 3)"
   ]
  },
  {
   "cell_type": "code",
   "execution_count": 261,
   "id": "486ef8fc-59b1-4908-8dd1-f96f0480447d",
   "metadata": {},
   "outputs": [
    {
     "data": {
      "text/plain": [
       "array([[ 1.+0.j,  1.+0.j,  1.+0.j, -1.+0.j, -1.+0.j, -1.+0.j],\n",
       "       [ 1.+0.j,  1.+0.j,  1.+0.j, -1.+0.j, -1.+0.j, -1.+0.j],\n",
       "       [ 1.+0.j,  1.+0.j,  1.+0.j, -1.+0.j, -1.+0.j, -1.+0.j],\n",
       "       [ 1.+0.j,  1.+0.j,  1.+0.j, -1.+0.j, -1.+0.j, -1.+0.j],\n",
       "       [ 1.+0.j,  1.+0.j,  1.+0.j, -1.+0.j, -1.+0.j, -1.+0.j],\n",
       "       [ 1.+0.j,  1.+0.j,  1.+0.j, -1.+0.j, -1.+0.j, -1.+0.j],\n",
       "       [ 1.+0.j,  1.+0.j,  1.+0.j, -1.+0.j, -1.+0.j, -1.+0.j],\n",
       "       [ 1.+0.j,  1.+0.j,  1.+0.j, -1.+0.j, -1.+0.j, -1.+0.j],\n",
       "       [ 1.+0.j,  1.+0.j,  1.+0.j, -1.+0.j, -1.+0.j, -1.+0.j],\n",
       "       [ 1.+0.j,  1.+0.j,  1.+0.j, -1.+0.j, -1.+0.j, -1.+0.j],\n",
       "       [ 1.+0.j,  1.+0.j,  1.+0.j, -1.+0.j, -1.+0.j, -1.+0.j],\n",
       "       [ 1.+0.j,  1.+0.j,  1.+0.j,  1.+0.j,  1.+0.j,  1.+0.j],\n",
       "       [ 1.+0.j,  1.+0.j,  1.+0.j,  1.+0.j,  1.+0.j,  1.+0.j],\n",
       "       [ 1.+0.j,  1.+0.j,  1.+0.j,  1.+0.j,  1.+0.j,  1.+0.j],\n",
       "       [ 1.+0.j,  1.+0.j,  1.+0.j,  1.+0.j,  1.+0.j,  1.+0.j],\n",
       "       [ 1.+0.j,  1.+0.j,  1.+0.j,  1.+0.j,  1.+0.j,  1.+0.j],\n",
       "       [ 1.+0.j,  1.+0.j,  1.+0.j,  1.+0.j,  1.+0.j,  1.+0.j],\n",
       "       [ 1.+0.j,  1.+0.j,  1.+0.j,  1.+0.j,  1.+0.j,  1.+0.j],\n",
       "       [ 1.+0.j,  1.+0.j,  1.+0.j,  1.+0.j,  1.+0.j,  1.+0.j],\n",
       "       [ 1.+0.j,  1.+0.j,  1.+0.j,  1.+0.j,  1.+0.j,  1.+0.j],\n",
       "       [ 1.+0.j,  1.+0.j,  1.+0.j,  1.+0.j,  1.+0.j,  1.+0.j]])"
      ]
     },
     "execution_count": 261,
     "metadata": {},
     "output_type": "execute_result"
    }
   ],
   "source": [
    "np.round(np.array(state_phases[n]), 3)"
   ]
  },
  {
   "cell_type": "code",
   "execution_count": 262,
   "id": "1c925a53-93c4-45dc-8c10-5c9dfffdde85",
   "metadata": {},
   "outputs": [],
   "source": [
    "distances_array = np.real(np.array(distances).T)"
   ]
  },
  {
   "cell_type": "code",
   "execution_count": 263,
   "id": "f6a0e311-fe58-4620-8d2a-5c1cd3d4dc73",
   "metadata": {},
   "outputs": [
    {
     "name": "stderr",
     "output_type": "stream",
     "text": [
      "/var/folders/r3/xn8xq5c17932m2g1b4r3dss80000gn/T/ipykernel_76975/3176477689.py:8: UserWarning: FigureCanvasAgg is non-interactive, and thus cannot be shown\n",
      "  fig.show()\n"
     ]
    },
    {
     "data": {
      "image/png": "[encoded data removed]",
      "text/plain": [
       "<Figure size 600x400 with 1 Axes>"
      ]
     },
     "metadata": {},
     "output_type": "display_data"
    }
   ],
   "source": [
    "fig, ax = plt.subplots(figsize=(6,4))\n",
    "\n",
    "for i, x in enumerate(distances_array):\n",
    "    ax.plot(x, label=symmetry_combination_labels[i])\n",
    "\n",
    "ax.legend()\n",
    "\n",
    "fig.show()"
   ]
  },
  {
   "cell_type": "markdown",
   "id": "ddaf4b49-c0bd-48b5-880d-01ac5222144b",
   "metadata": {},
   "source": [
    "## B=0\n",
    "Why does the projective rep property change?"
   ]
  },
  {
   "cell_type": "code",
   "execution_count": 145,
   "id": "646d86d2-ed78-401e-ad9f-3f220fdfc9a6",
   "metadata": {},
   "outputs": [],
   "source": [
    "b0_solutions = [l1[0]for l1 in solutions]"
   ]
  },
  {
   "cell_type": "code",
   "execution_count": 146,
   "id": "3d35bad0-8b30-4694-af4a-2df0dbc60655",
   "metadata": {},
   "outputs": [],
   "source": [
    "b0_singular_values = [l1[0]for l1 in singular_values]"
   ]
  },
  {
   "cell_type": "code",
   "execution_count": 147,
   "id": "8fb1a7f9-7c4f-48cc-93c7-efd2751781e6",
   "metadata": {},
   "outputs": [],
   "source": [
    "b0_scores = np.array([l1[0] for l1 in scores])"
   ]
  },
  {
   "cell_type": "code",
   "execution_count": 142,
   "id": "6df2eff5-d274-4dbf-9b0f-8903fd07e705",
   "metadata": {},
   "outputs": [
    {
     "data": {
      "text/plain": [
       "array([[1.41421356e+00, 1.41421356e+00, 4.12167598e-14, 4.04121569e-14],\n",
       "       [1.41421356e+00, 1.41421356e+00, 1.41421356e+00, 1.41421356e+00],\n",
       "       [1.41421356e+00, 1.41421356e+00, 1.41421356e+00, 1.41421356e+00],\n",
       "       [1.41421356e+00, 1.41421356e+00, 1.41421356e+00, 1.41421356e+00],\n",
       "       [1.41421356e+00, 1.41421356e+00, 1.41421356e+00, 1.41421356e+00],\n",
       "       [1.41421356e+00, 1.41421356e+00, 1.41421356e+00, 1.41421356e+00]])"
      ]
     },
     "execution_count": 142,
     "metadata": {},
     "output_type": "execute_result"
    }
   ],
   "source": [
    "b0_scores"
   ]
  },
  {
   "cell_type": "markdown",
   "id": "74ebf78f-e586-4f83-b30f-d3e269d824e8",
   "metadata": {},
   "source": [
    "Scores are pretty flat."
   ]
  },
  {
   "cell_type": "markdown",
   "id": "311804d7-2eb3-4221-9a36-e5d38bff98b6",
   "metadata": {},
   "source": [
    "Singular values:"
   ]
  },
  {
   "cell_type": "code",
   "execution_count": 153,
   "id": "c36b6494-bfcd-46ca-b4a3-46cbfcebda2e",
   "metadata": {},
   "outputs": [
    {
     "data": {
      "text/plain": [
       "array([[0.707, 0.707],\n",
       "       [0.707, 0.707],\n",
       "       [0.   , 0.   ],\n",
       "       [0.   , 0.   ]])"
      ]
     },
     "execution_count": 153,
     "metadata": {},
     "output_type": "execute_result"
    }
   ],
   "source": [
    "np.round(np.array(b0_singular_values[0]), 3)"
   ]
  },
  {
   "cell_type": "code",
   "execution_count": 154,
   "id": "e7831c9d-15c5-445c-81eb-327e044f489b",
   "metadata": {},
   "outputs": [
    {
     "data": {
      "text/plain": [
       "array([[0.354, 0.354, 0.354, 0.354],\n",
       "       [0.354, 0.354, 0.354, 0.354],\n",
       "       [0.354, 0.354, 0.354, 0.354],\n",
       "       [0.354, 0.354, 0.354, 0.354]])"
      ]
     },
     "execution_count": 154,
     "metadata": {},
     "output_type": "execute_result"
    }
   ],
   "source": [
    "np.round(np.array(b0_singular_values[1]), 3)"
   ]
  },
  {
   "cell_type": "code",
   "execution_count": 155,
   "id": "736ef8fc-d398-4a6e-9169-c1462b87882e",
   "metadata": {},
   "outputs": [
    {
     "data": {
      "text/plain": [
       "array([[0.354, 0.354, 0.354, 0.354, 0.   , 0.   , 0.   , 0.   ],\n",
       "       [0.354, 0.354, 0.354, 0.354, 0.   , 0.   , 0.   , 0.   ],\n",
       "       [0.354, 0.354, 0.354, 0.354, 0.   , 0.   , 0.   , 0.   ],\n",
       "       [0.354, 0.354, 0.354, 0.354, 0.   , 0.   , 0.   , 0.   ]])"
      ]
     },
     "execution_count": 155,
     "metadata": {},
     "output_type": "execute_result"
    }
   ],
   "source": [
    "np.round(np.array(b0_singular_values[2]), 3)"
   ]
  },
  {
   "cell_type": "code",
   "execution_count": 156,
   "id": "932dd9c0-a54f-41c2-ba2a-e6f8b21b7414",
   "metadata": {},
   "outputs": [
    {
     "data": {
      "text/plain": [
       "array([[0.354, 0.354, 0.354, 0.354, 0.   , 0.   , 0.   , 0.   , 0.   ,\n",
       "        0.   , 0.   , 0.   , 0.   , 0.   , 0.   , 0.   ],\n",
       "       [0.354, 0.354, 0.354, 0.354, 0.   , 0.   , 0.   , 0.   , 0.   ,\n",
       "        0.   , 0.   , 0.   , 0.   , 0.   , 0.   , 0.   ],\n",
       "       [0.354, 0.354, 0.354, 0.354, 0.   , 0.   , 0.   , 0.   , 0.   ,\n",
       "        0.   , 0.   , 0.   , 0.   , 0.   , 0.   , 0.   ],\n",
       "       [0.354, 0.354, 0.354, 0.354, 0.   , 0.   , 0.   , 0.   , 0.   ,\n",
       "        0.   , 0.   , 0.   , 0.   , 0.   , 0.   , 0.   ]])"
      ]
     },
     "execution_count": 156,
     "metadata": {},
     "output_type": "execute_result"
    }
   ],
   "source": [
    "np.round(np.array(b0_singular_values[3]), 3)"
   ]
  },
  {
   "cell_type": "markdown",
   "id": "0bb381ff-0d18-49f9-8db6-63c68c5fc107",
   "metadata": {},
   "source": [
    "Singular values don't change as more sites are added, just more zeroes added. Therefore expect a degeneracy in the solutions."
   ]
  },
  {
   "cell_type": "markdown",
   "id": "4fb9e3bc-56bc-4dbb-b695-f44ee2456167",
   "metadata": {},
   "source": [
    "## Degeneracy with respect to B"
   ]
  },
  {
   "cell_type": "code",
   "execution_count": 271,
   "id": "b623ae46-f66d-4aa3-83e6-32dcc799a519",
   "metadata": {},
   "outputs": [],
   "source": [
    "def count_zeros(X, num_decimal_places=4):\n",
    "    return np.count_nonzero(np.round(X, num_decimal_places)==0)"
   ]
  },
  {
   "cell_type": "code",
   "execution_count": 285,
   "id": "88c08d2b-17df-4be6-82c4-52514ad2b5ad",
   "metadata": {},
   "outputs": [],
   "source": [
    "num_sing_val_zeroes = np.array(\n",
    "    [\n",
    "        [\n",
    "            [count_zeros(l3) for l3 in l2]\n",
    "            for l2 in l1]\n",
    "        for l1 in singular_values\n",
    "    ]\n",
    ")"
   ]
  },
  {
   "cell_type": "code",
   "execution_count": 286,
   "id": "a20efe0f-bbe7-4c16-81d9-baa0b0905aad",
   "metadata": {},
   "outputs": [
    {
     "data": {
      "text/plain": [
       "array([[[ 0,  0,  2,  2],\n",
       "        [ 0,  0,  2,  2],\n",
       "        [ 0,  0,  2,  2],\n",
       "        [ 0,  0,  2,  2],\n",
       "        [ 0,  0,  2,  2],\n",
       "        [ 0,  0,  2,  2],\n",
       "        [ 0,  0,  2,  2],\n",
       "        [ 0,  0,  1,  0],\n",
       "        [ 0,  0,  0,  0],\n",
       "        [ 0,  0,  0,  0],\n",
       "        [ 0,  0,  0,  0],\n",
       "        [ 0,  0,  0,  0],\n",
       "        [ 0,  0,  1,  1],\n",
       "        [ 0,  0,  1,  1],\n",
       "        [ 0,  0,  1,  1],\n",
       "        [ 0,  0,  1,  1],\n",
       "        [ 0,  0,  1,  1],\n",
       "        [ 0,  0,  1,  1],\n",
       "        [ 0,  0,  1,  1],\n",
       "        [ 0,  0,  1,  1],\n",
       "        [ 0,  0,  1,  1]],\n",
       "\n",
       "       [[ 0,  0,  0,  0],\n",
       "        [ 0,  0,  0,  0],\n",
       "        [ 0,  0,  0,  0],\n",
       "        [ 0,  0,  0,  0],\n",
       "        [ 0,  0,  0,  0],\n",
       "        [ 0,  0,  0,  0],\n",
       "        [ 0,  0,  0,  0],\n",
       "        [ 0,  0,  0,  0],\n",
       "        [ 0,  0,  0,  0],\n",
       "        [ 0,  0,  0,  0],\n",
       "        [ 0,  0,  0,  0],\n",
       "        [ 0,  1,  1,  1],\n",
       "        [ 0,  2,  2,  3],\n",
       "        [ 0,  2,  2,  3],\n",
       "        [ 0,  2,  2,  3],\n",
       "        [ 0,  2,  2,  3],\n",
       "        [ 0,  2,  2,  3],\n",
       "        [ 0,  2,  2,  3],\n",
       "        [ 0,  2,  2,  3],\n",
       "        [ 0,  2,  2,  3],\n",
       "        [ 0,  2,  2,  3]],\n",
       "\n",
       "       [[ 4,  4,  4,  4],\n",
       "        [ 4,  4,  4,  4],\n",
       "        [ 4,  4,  4,  4],\n",
       "        [ 4,  4,  4,  4],\n",
       "        [ 0,  4,  0,  4],\n",
       "        [ 0,  4,  0,  4],\n",
       "        [ 0,  4,  0,  4],\n",
       "        [ 0,  4,  0,  4],\n",
       "        [ 0,  4,  0,  4],\n",
       "        [ 0,  2,  0,  2],\n",
       "        [ 0,  0,  1,  0],\n",
       "        [ 0,  3,  0,  3],\n",
       "        [ 0,  4,  0,  4],\n",
       "        [ 0,  4,  0,  4],\n",
       "        [ 0,  4,  0,  4],\n",
       "        [ 1,  4,  1,  4],\n",
       "        [ 1,  4,  1,  4],\n",
       "        [ 1,  4,  1,  4],\n",
       "        [ 1,  4,  1,  4],\n",
       "        [ 1,  4,  1,  4],\n",
       "        [ 1,  4,  1,  4]],\n",
       "\n",
       "       [[12, 12, 12, 12],\n",
       "        [12, 12, 12, 12],\n",
       "        [12, 12, 12, 12],\n",
       "        [12, 12, 12, 12],\n",
       "        [ 4,  8,  8, 12],\n",
       "        [ 4,  8,  8, 12],\n",
       "        [ 4,  8,  8, 12],\n",
       "        [ 4,  8,  8, 12],\n",
       "        [ 4,  8,  8, 12],\n",
       "        [ 4,  6,  5,  6],\n",
       "        [ 3,  2,  5,  2],\n",
       "        [ 3,  2,  2,  1],\n",
       "        [ 3,  2,  2,  1],\n",
       "        [ 3,  4,  4,  5],\n",
       "        [ 3,  4,  4,  5],\n",
       "        [ 5,  5,  5,  5],\n",
       "        [ 5,  5,  5,  5],\n",
       "        [ 5,  5,  5,  5],\n",
       "        [ 5,  5,  5,  5],\n",
       "        [ 5,  5,  5,  5],\n",
       "        [ 5,  5,  5,  5]],\n",
       "\n",
       "       [[28, 28, 28, 28],\n",
       "        [28, 28, 28, 28],\n",
       "        [28, 28, 28, 28],\n",
       "        [28, 28, 28, 28],\n",
       "        [20, 24, 24, 28],\n",
       "        [20, 16, 24, 20],\n",
       "        [16, 16, 20, 20],\n",
       "        [16, 16, 20, 20],\n",
       "        [16, 16, 20, 20],\n",
       "        [16, 16, 17, 16],\n",
       "        [15, 16, 16, 14],\n",
       "        [16, 16, 17, 17],\n",
       "        [18, 17, 18, 17],\n",
       "        [18, 17, 18, 17],\n",
       "        [19, 20, 20, 21],\n",
       "        [20, 21, 20, 21],\n",
       "        [21, 21, 21, 21],\n",
       "        [21, 21, 21, 21],\n",
       "        [21, 21, 21, 21],\n",
       "        [21, 21, 21, 21],\n",
       "        [21, 21, 21, 21]],\n",
       "\n",
       "       [[60, 60, 60, 60],\n",
       "        [60, 60, 60, 60],\n",
       "        [60, 60, 60, 60],\n",
       "        [60, 60, 60, 60],\n",
       "        [52, 56, 56, 60],\n",
       "        [52, 48, 48, 44],\n",
       "        [44, 44, 44, 44],\n",
       "        [44, 44, 44, 44],\n",
       "        [44, 44, 44, 44],\n",
       "        [43, 44, 44, 44],\n",
       "        [46, 44, 48, 44],\n",
       "        [47, 48, 48, 49],\n",
       "        [47, 48, 48, 49],\n",
       "        [47, 48, 48, 49],\n",
       "        [51, 50, 50, 49],\n",
       "        [51, 52, 52, 53],\n",
       "        [53, 53, 53, 53],\n",
       "        [53, 53, 53, 53],\n",
       "        [53, 53, 53, 53],\n",
       "        [53, 53, 53, 53],\n",
       "        [53, 53, 53, 53]]])"
      ]
     },
     "execution_count": 286,
     "metadata": {},
     "output_type": "execute_result"
    }
   ],
   "source": [
    "num_sing_val_zeroes"
   ]
  },
  {
   "cell_type": "markdown",
   "id": "da076311-1cd9-40f1-92b6-9f0270f02f63",
   "metadata": {},
   "source": [
    "Degeneracy increases across the board for higher number of sites. But some sites do give a projective rep. So the number of vanishing singular values cannot be the only part of the story."
   ]
  },
  {
   "cell_type": "markdown",
   "id": "51ed4ba1-71b7-46df-b8f7-780082d74e00",
   "metadata": {},
   "source": [
    "# Conclusions\n",
    "* The exact solution space can be degenerate.\n",
    "    * Vanishing singular values of the reduced density matrix are necessary for this. But they don't give a direct count of the degeneracy necessarily.\n",
    "* One can extract the SPT phase by acting on the ground state (needs more testing)."
   ]
  },
  {
   "cell_type": "code",
   "execution_count": null,
   "id": "e35dc7d7-621b-49b3-8f1e-58960af270e0",
   "metadata": {},
   "outputs": [],
   "source": []
  }
 ],
 "metadata": {
  "kernelspec": {
   "display_name": "num_spt_venv_p11",
   "language": "python",
   "name": "num_spt_venv_p11"
  },
  "language_info": {
   "codemirror_mode": {
    "name": "ipython",
    "version": 3
   },
   "file_extension": ".py",
   "mimetype": "text/x-python",
   "name": "python",
   "nbconvert_exporter": "python",
   "pygments_lexer": "ipython3",
   "version": "3.11.9"
  }
 },
 "nbformat": 4,
 "nbformat_minor": 5
}
