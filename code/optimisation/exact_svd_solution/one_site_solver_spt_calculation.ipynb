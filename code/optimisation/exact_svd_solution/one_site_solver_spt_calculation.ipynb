{
 "cells": [
  {
   "cell_type": "markdown",
   "id": "5f2205a4-2c74-4cf5-9ad1-9d65bd13bed2",
   "metadata": {},
   "source": [
    "# One site solver SPT calculation\n",
    "Created 04/09/2024\n",
    "\n",
    "Objectives:\n",
    "* Solve for a single site at the boundary and investigate resulting SPT phase.\n",
    "* Try for two sites as well. (Natural unit cell.)\n",
    "* What about variations around this optimum?"
   ]
  },
  {
   "cell_type": "markdown",
   "id": "9ad0db4d-805c-4403-9d48-c71d523d572f",
   "metadata": {},
   "source": [
    "# Package imports"
   ]
  },
  {
   "cell_type": "code",
   "execution_count": 1,
   "id": "4a525ec6-f0c8-47ee-8b0b-345bf0ef8bd3",
   "metadata": {},
   "outputs": [],
   "source": [
    "import h5py\n",
    "from tenpy.tools import hdf5_io\n",
    "import tenpy\n",
    "import tenpy.linalg.np_conserved as npc\n",
    "\n",
    "import os"
   ]
  },
  {
   "cell_type": "code",
   "execution_count": 2,
   "id": "214f688a-c657-4810-b4d1-b1247deff62c",
   "metadata": {},
   "outputs": [],
   "source": [
    "import numpy as np\n",
    "import pandas as pd\n",
    "import matplotlib.pyplot as plt"
   ]
  },
  {
   "cell_type": "code",
   "execution_count": 3,
   "id": "b8dec68d-a5b3-4383-ab44-567a9a5981b3",
   "metadata": {},
   "outputs": [],
   "source": [
    "from SPTOptimization.SymmetryActionWithBoundaryUnitaries import SymmetryActionWithBoundaryUnitaries\n",
    "from SPTOptimization.Optimizers.utils import one_site_optimization\n",
    "\n",
    "from SPTOptimization.gradients import expectation_gradient_from_environments_and_b_tensor"
   ]
  },
  {
   "cell_type": "code",
   "execution_count": 4,
   "id": "f91ecce9-eb32-46c3-a53f-e1abe06d580a",
   "metadata": {},
   "outputs": [],
   "source": [
    "from functools import reduce"
   ]
  },
  {
   "cell_type": "markdown",
   "id": "968b03f4-adb0-48cc-bb4a-414d8856c7c2",
   "metadata": {},
   "source": [
    "# Load data"
   ]
  },
  {
   "cell_type": "code",
   "execution_count": 5,
   "id": "3b61bbe0-5d7f-49c5-96ab-265f8b0d36b6",
   "metadata": {},
   "outputs": [],
   "source": [
    "DATA_DIR = r\"data/transverse_cluster_200_site_dmrg\""
   ]
  },
  {
   "cell_type": "code",
   "execution_count": 6,
   "id": "2e1f611d-29dd-4c9b-ad1b-f4cc8b59bab7",
   "metadata": {},
   "outputs": [],
   "source": [
    "loaded_data = list()\n",
    "\n",
    "for local_file_name in os.listdir(DATA_DIR):\n",
    "    f_name = r\"{}/{}\".format(DATA_DIR, local_file_name, ignore_unknown=False)\n",
    "    with h5py.File(f_name, 'r') as f:\n",
    "        data = hdf5_io.load_from_hdf5(f)\n",
    "        loaded_data.append(data)"
   ]
  },
  {
   "cell_type": "code",
   "execution_count": 7,
   "id": "0ab87e3c-bd9b-4a88-9b74-ccdae9a91235",
   "metadata": {},
   "outputs": [],
   "source": [
    "b_parameters = sorted(list(d['paramters']['B'] for d in loaded_data))"
   ]
  },
  {
   "cell_type": "code",
   "execution_count": 8,
   "id": "322ad437-4f39-4e52-8e32-10dbe0fbd4ee",
   "metadata": {},
   "outputs": [],
   "source": [
    "psi_dict = dict()"
   ]
  },
  {
   "cell_type": "code",
   "execution_count": 9,
   "id": "097b34eb-49aa-4152-a116-c491420745fb",
   "metadata": {},
   "outputs": [],
   "source": [
    "for b in b_parameters:\n",
    "    psi = next(\n",
    "        d['wavefunction']\n",
    "        for d in loaded_data\n",
    "        if d['paramters']['B'] == b\n",
    "    )\n",
    "\n",
    "    rounded_b = round(b, 1)\n",
    "    psi_dict[rounded_b] = psi"
   ]
  },
  {
   "cell_type": "markdown",
   "id": "d6d360f5-5b8d-4807-9e92-188d06b544b7",
   "metadata": {},
   "source": [
    "# Definitions"
   ]
  },
  {
   "cell_type": "code",
   "execution_count": 10,
   "id": "513d7288-c641-4071-a4a3-652787d1f98c",
   "metadata": {},
   "outputs": [],
   "source": [
    "np_I = np.array([[1,0],[0,1]])\n",
    "np_X = np.array([[0,1],[1,0]])\n",
    "np_Y = np.array([[0,-1j],[1j,0]])\n",
    "np_Z = np.array([[1,0],[0,-1]])"
   ]
  },
  {
   "cell_type": "code",
   "execution_count": 11,
   "id": "97112128-6ee4-4d12-947c-1ee10e4e23db",
   "metadata": {},
   "outputs": [],
   "source": [
    "symmetry_actions = [\n",
    "    [np_I, np_I],\n",
    "    [np_I, np_X],\n",
    "    [np_X, np_I],\n",
    "    [np_X, np_X]\n",
    "]"
   ]
  },
  {
   "cell_type": "code",
   "execution_count": 12,
   "id": "6b3baa51-a417-492b-989f-6512df630027",
   "metadata": {},
   "outputs": [],
   "source": [
    "symmetry_labels = [\n",
    "    'II',\n",
    "    'IX',\n",
    "    'XI',\n",
    "    'XX'\n",
    "]"
   ]
  },
  {
   "cell_type": "code",
   "execution_count": 13,
   "id": "6e8f666e-cc44-43bb-8e8f-e41246e7286c",
   "metadata": {},
   "outputs": [],
   "source": [
    "cases = [\n",
    "    [\n",
    "        SymmetryActionWithBoundaryUnitaries(\n",
    "            psi,\n",
    "            s*50,\n",
    "            left_boundary_unitaries=[np_I,]*3,\n",
    "            right_boundary_unitaries=[np_I,]*3\n",
    "        )\n",
    "        for s in symmetry_actions\n",
    "    ]\n",
    "    for psi in psi_dict.values()\n",
    "]"
   ]
  },
  {
   "cell_type": "code",
   "execution_count": 14,
   "id": "0d8177af-3b52-4898-9b57-81ced3e58842",
   "metadata": {},
   "outputs": [],
   "source": [
    "for l in cases:\n",
    "    for c in l:\n",
    "        c.compute_svd_approximate_expectation()"
   ]
  },
  {
   "cell_type": "markdown",
   "id": "2f32363d-d425-47c3-9d19-fff7b031801c",
   "metadata": {},
   "source": [
    "## Functions"
   ]
  },
  {
   "cell_type": "code",
   "execution_count": 15,
   "id": "9f00c137-af01-4e87-80c6-09efc9fc8c26",
   "metadata": {},
   "outputs": [],
   "source": [
    "def get_unitary(case):\n",
    "    index = case.right_symmetry_index + 1\n",
    "    psi = case.psi\n",
    "    b = psi.get_B(index)\n",
    "\n",
    "    left_environment = case.right_projected_symmetry_state\n",
    "\n",
    "    grad = expectation_gradient_from_environments_and_b_tensor(\n",
    "        b,\n",
    "        left_environment,\n",
    "    )\n",
    "\n",
    "    score, unitary = one_site_optimization(grad)\n",
    "\n",
    "    return score, unitary"
   ]
  },
  {
   "cell_type": "code",
   "execution_count": 16,
   "id": "7f821d87-fde7-4579-954d-27b0dd8f1342",
   "metadata": {},
   "outputs": [],
   "source": [
    "def multiply_tenpy_matrices(m1, m2):\n",
    "    return npc.tensordot(m1, m2, [['p',], ['p*',]])"
   ]
  },
  {
   "cell_type": "code",
   "execution_count": 17,
   "id": "e17e44c0-3cb2-4051-bd1e-77d5a1888639",
   "metadata": {},
   "outputs": [],
   "source": [
    "def distance_from_identity(j, dim=2):\n",
    "    # Assumes two dimensions\n",
    "\n",
    "    e1 = npc.tensordot(j, j.conj(), [['p', 'p*'], ['p*', 'p']])\n",
    "\n",
    "    e2 = npc.trace(j, 'p', 'p*')\n",
    "\n",
    "    return e1 - 2*e2.real + dim"
   ]
  },
  {
   "cell_type": "code",
   "execution_count": 142,
   "id": "9ffc419a-6375-4b9a-9312-bc8ebb36b058",
   "metadata": {},
   "outputs": [],
   "source": [
    "def get_2_site_unitary(case):\n",
    "    index = case.right_symmetry_index + 1\n",
    "    psi = case.psi\n",
    "    b1 = psi.get_B(index).replace_label('p', 'p1')\n",
    "    b2 = psi.get_B(index+1).replace_label('p', 'p2')\n",
    "    b = (\n",
    "        npc.tensordot(b1, b2, [['vR',], ['vL',]])\n",
    "        .combine_legs(['p1', 'p2'])\n",
    "        .replace_label('(p1.p2)', 'p')\n",
    "    )\n",
    "\n",
    "    left_environment = case.right_projected_symmetry_state\n",
    "\n",
    "    grad = expectation_gradient_from_environments_and_b_tensor(\n",
    "        b,\n",
    "        left_environment,\n",
    "    )\n",
    "\n",
    "    score, unitary = one_site_optimization(grad)\n",
    "\n",
    "    return score, unitary"
   ]
  },
  {
   "cell_type": "markdown",
   "id": "2957740f-23b3-4dbe-8032-c99eb44ac315",
   "metadata": {},
   "source": [
    "# Analysis"
   ]
  },
  {
   "cell_type": "markdown",
   "id": "8c63629a-b1b3-4a3a-9d6d-21e201c32128",
   "metadata": {},
   "source": [
    "## One site unitaries"
   ]
  },
  {
   "cell_type": "code",
   "execution_count": 93,
   "id": "008d3ada-8af6-4c03-af84-cf0de0316381",
   "metadata": {},
   "outputs": [],
   "source": [
    "score_unitary_pairs = [[get_unitary(c) for c in l] for l in cases]"
   ]
  },
  {
   "cell_type": "code",
   "execution_count": 94,
   "id": "a5b75dfd-b3a5-4b1b-959c-0f10c0c6928a",
   "metadata": {},
   "outputs": [],
   "source": [
    "scores = [[p[0] for p in l] for l in score_unitary_pairs]\n",
    "unitaries = [[p[1] for p in l] for l in score_unitary_pairs]"
   ]
  },
  {
   "cell_type": "code",
   "execution_count": 95,
   "id": "a8d0571b-d52b-461c-bf3f-a9c459c5e82b",
   "metadata": {},
   "outputs": [],
   "source": [
    "def gauge_invariant_phase(u1, u2, dim=2):\n",
    "    u = reduce(multiply_tenpy_matrices, [u1, u2, u1.conj(), u2.conj()])\n",
    "\n",
    "    trace = npc.trace(u, 'p', 'p*')\n",
    "    phase = trace/abs(trace)\n",
    "\n",
    "    approx_identity = u/phase\n",
    "    approx_identity_distance = distance_from_identity(approx_identity, dim=dim)\n",
    "\n",
    "    return phase, approx_identity_distance"
   ]
  },
  {
   "cell_type": "code",
   "execution_count": 96,
   "id": "72041e1d-4cbd-4237-9052-c70453d8652f",
   "metadata": {},
   "outputs": [],
   "source": [
    "from itertools import combinations"
   ]
  },
  {
   "cell_type": "code",
   "execution_count": 97,
   "id": "278d162c-1ec9-409e-8b34-1fd2d7e54099",
   "metadata": {},
   "outputs": [],
   "source": [
    "symmetry_combination_labels = list(combinations(symmetry_labels, 2))"
   ]
  },
  {
   "cell_type": "code",
   "execution_count": 98,
   "id": "49222916-2f94-496e-bab7-351eb6131dee",
   "metadata": {},
   "outputs": [
    {
     "data": {
      "text/plain": [
       "[('II', 'IX'),\n",
       " ('II', 'XI'),\n",
       " ('II', 'XX'),\n",
       " ('IX', 'XI'),\n",
       " ('IX', 'XX'),\n",
       " ('XI', 'XX')]"
      ]
     },
     "execution_count": 98,
     "metadata": {},
     "output_type": "execute_result"
    }
   ],
   "source": [
    "symmetry_combination_labels"
   ]
  },
  {
   "cell_type": "code",
   "execution_count": 99,
   "id": "52e9b047-6034-475e-a5ad-040ccf8c5476",
   "metadata": {},
   "outputs": [],
   "source": [
    "phase_distance_pairs = [[gauge_invariant_phase(*p) for p in combinations(l, 2)] for l in unitaries]"
   ]
  },
  {
   "cell_type": "code",
   "execution_count": 100,
   "id": "305fff7d-d310-42fa-98c8-9054f4b33d7c",
   "metadata": {},
   "outputs": [],
   "source": [
    "phases = [[p[0] for p in l] for l in phase_distance_pairs]\n",
    "distances = [[p[1] for p in l] for l in phase_distance_pairs]"
   ]
  },
  {
   "cell_type": "markdown",
   "id": "72696bcf-9964-405f-9b87-1d910125b6ec",
   "metadata": {},
   "source": [
    "### Phases"
   ]
  },
  {
   "cell_type": "code",
   "execution_count": 101,
   "id": "372a1747-c3fa-4a5c-965c-e77a9cd69c8d",
   "metadata": {},
   "outputs": [
    {
     "data": {
      "text/plain": [
       "21"
      ]
     },
     "execution_count": 101,
     "metadata": {},
     "output_type": "execute_result"
    }
   ],
   "source": [
    "len(phases)"
   ]
  },
  {
   "cell_type": "code",
   "execution_count": 102,
   "id": "85d817f2-d106-4613-a6da-8730957e355d",
   "metadata": {},
   "outputs": [
    {
     "data": {
      "text/plain": [
       "[[(1+0j),\n",
       "  (1+0j),\n",
       "  (1+0j),\n",
       "  (-1+0j),\n",
       "  (-0.9999999999999999+0j),\n",
       "  (-0.9999999999999999+0j)],\n",
       " [(1+0j),\n",
       "  (1+0j),\n",
       "  (1+0j),\n",
       "  (0.9999999999999999+0j),\n",
       "  (-0.9999999999999999+0j),\n",
       "  (1+0j)],\n",
       " [(1+0j),\n",
       "  (1+0j),\n",
       "  (1+0j),\n",
       "  (-1+0j),\n",
       "  (-0.9999999999999999+0j),\n",
       "  (-0.9999999999999999+0j)],\n",
       " [(1+0j), (1+0j), (1+0j), (-0.9999999999999999+0j), (-1+0j), (-1+0j)],\n",
       " [(1+0j), (1+0j), (1+0j), (-1+0j), (-1+0j), (-1+0j)],\n",
       " [(1+0j), (1+0j), (1+0j), (-1+0j), (-1+0j), (-1+0j)],\n",
       " [(1+0j), (1+0j), (1+0j), (-1+0j), (-1+0j), (-1+0j)],\n",
       " [(1+0j), (1+0j), (1+0j), (-1+0j), (-1+0j), (-1+0j)],\n",
       " [(1+0j), (1+0j), (1+0j), (-1+0j), (-1+0j), (-1+0j)],\n",
       " [(1+0j), (1+0j), (1+0j), (-0.9999999999999999+0j), (-1+0j), (-1+0j)]]"
      ]
     },
     "execution_count": 102,
     "metadata": {},
     "output_type": "execute_result"
    }
   ],
   "source": [
    "phases[:10]"
   ]
  },
  {
   "cell_type": "code",
   "execution_count": 103,
   "id": "9d4055d9-8967-4db7-839e-62c64d38733f",
   "metadata": {},
   "outputs": [
    {
     "data": {
      "text/plain": [
       "[(1+0j), (1+0j), (1+0j), (-1+0j), (-1+0j), (-1+0j)]"
      ]
     },
     "execution_count": 103,
     "metadata": {},
     "output_type": "execute_result"
    }
   ],
   "source": [
    "phases[10]"
   ]
  },
  {
   "cell_type": "code",
   "execution_count": 104,
   "id": "a433f94a-8fa8-408b-b4e7-308e5f74d67f",
   "metadata": {},
   "outputs": [
    {
     "data": {
      "text/plain": [
       "[[(1+0j), (1+0j), (1+0j), (1+0j), (1+0j), (1+0j)],\n",
       " [(1+0j), (1+0j), (1+0j), (1+0j), (1+0j), (1+0j)],\n",
       " [(1+0j), (1+0j), (1+0j), (1+0j), (1+0j), (1+0j)],\n",
       " [(1+0j), (1+0j), (1+0j), (1+0j), (1+0j), (1+0j)],\n",
       " [(1+0j), (1+0j), (1+0j), (1+0j), (1+0j), (1+0j)],\n",
       " [(1+0j), (1+0j), (1+0j), (1+0j), (1+0j), (1+0j)],\n",
       " [(1+0j), (1+0j), (1+0j), (1+0j), (1+0j), (1+0j)],\n",
       " [(1+0j), (1+0j), (1+0j), (1+0j), (1+0j), (1+0j)],\n",
       " [(1+0j), (1+0j), (1+0j), (1+0j), (1+0j), (1+0j)],\n",
       " [(1+0j), (1+0j), (1+0j), (1+0j), (1+0j), (1+0j)]]"
      ]
     },
     "execution_count": 104,
     "metadata": {},
     "output_type": "execute_result"
    }
   ],
   "source": [
    "phases[11:]"
   ]
  },
  {
   "cell_type": "markdown",
   "id": "34d61e6e-2229-46cd-98ff-d6695b52a1b5",
   "metadata": {},
   "source": [
    "Classifying phases correctly."
   ]
  },
  {
   "cell_type": "markdown",
   "id": "2980b8f7-4042-4c61-9b79-61972875379e",
   "metadata": {},
   "source": [
    "### Scores"
   ]
  },
  {
   "cell_type": "code",
   "execution_count": 105,
   "id": "b54fba15-fca6-4610-8a8e-78240a7b4cdc",
   "metadata": {},
   "outputs": [],
   "source": [
    "scores_array = np.array(scores).T"
   ]
  },
  {
   "cell_type": "code",
   "execution_count": 106,
   "id": "71b41c82-e3f2-4f6d-b679-296da95fab95",
   "metadata": {},
   "outputs": [
    {
     "data": {
      "text/plain": [
       "array([[1.41421356e+00, 1.41421468e+00, 1.41423197e+00, 1.41431178e+00,\n",
       "        1.41454875e+00, 1.41512287e+00, 1.41638434e+00, 1.41906654e+00,\n",
       "        1.42490333e+00, 1.43609004e+00, 1.22193043e+00, 1.19941782e+00,\n",
       "        1.14350954e+00, 1.11037774e+00, 1.08855503e+00, 1.07315463e+00,\n",
       "        1.06174660e+00, 1.05298879e+00, 1.04607899e+00, 1.04050777e+00,\n",
       "        1.03593590e+00],\n",
       "       [1.41421356e+00, 1.41243913e+00, 1.40703388e+00, 1.39773668e+00,\n",
       "        1.38405447e+00, 1.36514717e+00, 1.33958229e+00, 1.30476721e+00,\n",
       "        1.25540835e+00, 1.17942893e+00, 1.08731293e+00, 9.80540906e-01,\n",
       "        9.89685622e-01, 9.93904459e-01, 9.96077894e-01, 9.97323836e-01,\n",
       "        9.98093544e-01, 9.98596040e-01, 9.98938340e-01, 9.99179550e-01,\n",
       "        9.99354300e-01],\n",
       "       [4.12682737e-14, 1.03755722e-13, 1.85292387e-13, 5.92581304e-13,\n",
       "        3.89535673e-10, 8.13733648e-08, 6.34935389e-06, 2.50372889e-04,\n",
       "        5.97902566e-03, 9.77451881e-02, 8.05690088e-01, 9.79793905e-01,\n",
       "        9.89685623e-01, 9.93904459e-01, 9.96077894e-01, 9.97323836e-01,\n",
       "        9.98093544e-01, 9.98596040e-01, 9.98938340e-01, 9.99179550e-01,\n",
       "        9.99354300e-01],\n",
       "       [4.05231405e-14, 3.25840865e-14, 1.88729097e-13, 5.58476731e-13,\n",
       "        3.64933888e-10, 7.30523285e-08, 5.37115131e-06, 1.94551358e-04,\n",
       "        4.08161579e-03, 5.31466109e-02, 5.08071393e-01, 8.00978674e-01,\n",
       "        8.56550115e-01, 8.89647540e-01, 9.11456697e-01, 9.26851235e-01,\n",
       "        9.38256516e-01, 9.47012954e-01, 9.53922037e-01, 9.59492856e-01,\n",
       "        9.64064491e-01]])"
      ]
     },
     "execution_count": 106,
     "metadata": {},
     "output_type": "execute_result"
    }
   ],
   "source": [
    "scores_array"
   ]
  },
  {
   "cell_type": "code",
   "execution_count": 107,
   "id": "594300f2-f484-4e38-a974-1e4984fec283",
   "metadata": {},
   "outputs": [
    {
     "name": "stderr",
     "output_type": "stream",
     "text": [
      "/var/folders/r3/xn8xq5c17932m2g1b4r3dss80000gn/T/ipykernel_54124/408976895.py:8: UserWarning: FigureCanvasAgg is non-interactive, and thus cannot be shown\n",
      "  fig.show()\n"
     ]
    },
    {
     "data": {
      "image/png": "[encoded data removed]",
      "text/plain": [
       "<Figure size 600x400 with 1 Axes>"
      ]
     },
     "metadata": {},
     "output_type": "display_data"
    }
   ],
   "source": [
    "fig, ax = plt.subplots(figsize=(6,4))\n",
    "\n",
    "for i, x in enumerate(scores_array):\n",
    "    ax.plot(x, label=symmetry_labels[i])\n",
    "\n",
    "ax.legend()\n",
    "\n",
    "fig.show()"
   ]
  },
  {
   "cell_type": "markdown",
   "id": "faf92b51-8356-44b7-b1b7-0e7f127dd4c1",
   "metadata": {},
   "source": [
    "Why is the score decreasing for the identity action in the trivial phase? The singular value is changing, as previously observed."
   ]
  },
  {
   "cell_type": "markdown",
   "id": "9c9bccfc-b126-4293-a84a-2413a9fe1109",
   "metadata": {},
   "source": [
    "### Distances"
   ]
  },
  {
   "cell_type": "code",
   "execution_count": 108,
   "id": "33cc83c9-d332-4c2b-b7c2-f568e89a312a",
   "metadata": {},
   "outputs": [],
   "source": [
    "distances_array = np.array(distances).T"
   ]
  },
  {
   "cell_type": "code",
   "execution_count": 109,
   "id": "7485c2fe-31ce-4d7d-96ff-928f1c4d2ca9",
   "metadata": {},
   "outputs": [
    {
     "data": {
      "text/plain": [
       "(4.440892098500626e-16+0j)"
      ]
     },
     "execution_count": 109,
     "metadata": {},
     "output_type": "execute_result"
    }
   ],
   "source": [
    "np.max(distances_array[:3])"
   ]
  },
  {
   "cell_type": "code",
   "execution_count": 110,
   "id": "be54955b-8cf9-40de-8c24-bc7f475e1ab2",
   "metadata": {},
   "outputs": [
    {
     "data": {
      "text/plain": [
       "(5.56131681488381e-05+0j)"
      ]
     },
     "execution_count": 110,
     "metadata": {},
     "output_type": "execute_result"
    }
   ],
   "source": [
    "np.max(distances_array[4:])"
   ]
  },
  {
   "cell_type": "code",
   "execution_count": 111,
   "id": "1c98f94c-cda2-474d-8410-6bc1262e5828",
   "metadata": {},
   "outputs": [
    {
     "data": {
      "text/plain": [
       "array([3.07404298e-01+0.j, 2.06095665e-05+0.j, 4.25914232e-02+0.j,\n",
       "       7.79373538e-05+0.j, 1.95269538e-08+0.j, 1.00586206e-13+0.j,\n",
       "       0.00000000e+00+0.j, 2.22044605e-15+0.j, 1.04019016e-11+0.j,\n",
       "       1.78165782e-06+0.j, 1.06165567e+00+0.j, 0.00000000e+00+0.j,\n",
       "       0.00000000e+00+0.j, 0.00000000e+00+0.j, 0.00000000e+00+0.j,\n",
       "       0.00000000e+00+0.j, 0.00000000e+00+0.j, 2.22044605e-16+0.j,\n",
       "       0.00000000e+00+0.j, 0.00000000e+00+0.j, 4.44089210e-16+0.j])"
      ]
     },
     "execution_count": 111,
     "metadata": {},
     "output_type": "execute_result"
    }
   ],
   "source": [
    "distances_array[3]"
   ]
  },
  {
   "cell_type": "code",
   "execution_count": 112,
   "id": "ee732434-2cb3-4083-8611-536b60ee875d",
   "metadata": {},
   "outputs": [
    {
     "data": {
      "text/plain": [
       "[<matplotlib.lines.Line2D at 0x302139850>]"
      ]
     },
     "execution_count": 112,
     "metadata": {},
     "output_type": "execute_result"
    },
    {
     "data": {
      "image/png": "[encoded data removed]",
      "text/plain": [
       "<Figure size 640x480 with 1 Axes>"
      ]
     },
     "metadata": {},
     "output_type": "display_data"
    }
   ],
   "source": [
    "plt.plot(distances_array[3])"
   ]
  },
  {
   "cell_type": "markdown",
   "id": "49be33df-80ee-4f42-8a71-f0b33503eb09",
   "metadata": {},
   "source": [
    "Getting an error precisely where the SPT phase above changes, the same B-strength and group elements, $XI$ and $IX$."
   ]
  },
  {
   "cell_type": "markdown",
   "id": "8182f26e-6e4f-4d2e-aee7-ab7e6031c7d5",
   "metadata": {},
   "source": [
    "### Unitaries"
   ]
  },
  {
   "cell_type": "code",
   "execution_count": 113,
   "id": "e0c6ebd8-1b81-4461-a2b1-ab8dceb9a9d9",
   "metadata": {},
   "outputs": [],
   "source": [
    "unitaries_array = np.round(np.array([[u.to_ndarray() for u in l] for l in unitaries]), 3)"
   ]
  },
  {
   "cell_type": "code",
   "execution_count": 114,
   "id": "61af6f62-f2ce-45f7-bd60-e0f9dfd5a378",
   "metadata": {},
   "outputs": [
    {
     "data": {
      "text/plain": [
       "(21, 4, 2, 2)"
      ]
     },
     "execution_count": 114,
     "metadata": {},
     "output_type": "execute_result"
    }
   ],
   "source": [
    "unitaries_array.shape"
   ]
  },
  {
   "cell_type": "code",
   "execution_count": 138,
   "id": "65182343-10bc-41f1-b2e9-d0b8f1eb5b2d",
   "metadata": {},
   "outputs": [
    {
     "data": {
      "text/plain": [
       "array([[[-1.   +0.j,  0.   +0.j],\n",
       "        [ 0.   +0.j, -1.   +0.j]],\n",
       "\n",
       "       [[-1.   +0.j,  0.   +0.j],\n",
       "        [ 0.   +0.j,  1.   +0.j]],\n",
       "\n",
       "       [[-0.196+0.j, -0.981+0.j],\n",
       "        [-0.981+0.j,  0.196+0.j]],\n",
       "\n",
       "       [[-0.   +0.j,  1.   +0.j],\n",
       "        [-1.   +0.j, -0.   +0.j]]])"
      ]
     },
     "execution_count": 138,
     "metadata": {},
     "output_type": "execute_result"
    }
   ],
   "source": [
    "unitaries_array[0]"
   ]
  },
  {
   "cell_type": "code",
   "execution_count": 139,
   "id": "11c5b1d4-750c-4c2e-8f10-dc0fce7a535d",
   "metadata": {},
   "outputs": [
    {
     "data": {
      "text/plain": [
       "array([[[-1.   +0.j, -0.   +0.j],\n",
       "        [-0.   +0.j, -1.   +0.j]],\n",
       "\n",
       "       [[ 1.   +0.j, -0.   +0.j],\n",
       "        [-0.   +0.j, -1.   +0.j]],\n",
       "\n",
       "       [[-1.   +0.j, -0.002+0.j],\n",
       "        [ 0.002+0.j, -1.   +0.j]],\n",
       "\n",
       "       [[ 0.003+0.j, -1.   +0.j],\n",
       "        [ 1.   +0.j,  0.003+0.j]]])"
      ]
     },
     "execution_count": 139,
     "metadata": {},
     "output_type": "execute_result"
    }
   ],
   "source": [
    "unitaries_array[1]"
   ]
  },
  {
   "cell_type": "code",
   "execution_count": 140,
   "id": "75a19971-fa00-49ca-99ad-648b2917aa08",
   "metadata": {},
   "outputs": [
    {
     "data": {
      "text/plain": [
       "array([[[-1.   +0.j,  0.   +0.j],\n",
       "        [-0.   +0.j, -1.   +0.j]],\n",
       "\n",
       "       [[ 1.   +0.j, -0.   +0.j],\n",
       "        [-0.   +0.j, -1.   +0.j]],\n",
       "\n",
       "       [[ 0.073+0.j, -0.997+0.j],\n",
       "        [-0.997+0.j, -0.073+0.j]],\n",
       "\n",
       "       [[ 0.   +0.j,  1.   +0.j],\n",
       "        [-1.   +0.j,  0.   +0.j]]])"
      ]
     },
     "execution_count": 140,
     "metadata": {},
     "output_type": "execute_result"
    }
   ],
   "source": [
    "unitaries_array[2]"
   ]
  },
  {
   "cell_type": "code",
   "execution_count": 141,
   "id": "f48bdfc7-74bc-4bad-9699-ae86b3fc2815",
   "metadata": {},
   "outputs": [
    {
     "data": {
      "text/plain": [
       "array([[[-1.   +0.j,  0.   +0.j],\n",
       "        [-0.   +0.j, -1.   +0.j]],\n",
       "\n",
       "       [[-1.   +0.j, -0.   +0.j],\n",
       "        [-0.   +0.j,  1.   +0.j]],\n",
       "\n",
       "       [[ 0.003+0.j, -1.   +0.j],\n",
       "        [-1.   +0.j, -0.003+0.j]],\n",
       "\n",
       "       [[ 0.   +0.j,  1.   +0.j],\n",
       "        [-1.   +0.j,  0.   +0.j]]])"
      ]
     },
     "execution_count": 141,
     "metadata": {},
     "output_type": "execute_result"
    }
   ],
   "source": [
    "unitaries_array[3]"
   ]
  },
  {
   "cell_type": "code",
   "execution_count": 115,
   "id": "cfcc93b2-139a-46ad-aecd-a726457d9b9b",
   "metadata": {},
   "outputs": [
    {
     "data": {
      "text/plain": [
       "array([[[-1.+0.j,  0.+0.j],\n",
       "        [ 0.+0.j, -1.+0.j]],\n",
       "\n",
       "       [[-1.+0.j, -0.+0.j],\n",
       "        [-0.+0.j, -1.+0.j]],\n",
       "\n",
       "       [[-1.+0.j,  0.+0.j],\n",
       "        [-0.+0.j, -1.+0.j]],\n",
       "\n",
       "       [[-1.+0.j,  0.+0.j],\n",
       "        [-0.+0.j, -1.+0.j]],\n",
       "\n",
       "       [[-1.+0.j, -0.+0.j],\n",
       "        [ 0.+0.j, -1.+0.j]],\n",
       "\n",
       "       [[-1.+0.j, -0.+0.j],\n",
       "        [ 0.+0.j, -1.+0.j]],\n",
       "\n",
       "       [[-1.+0.j, -0.+0.j],\n",
       "        [-0.+0.j, -1.+0.j]],\n",
       "\n",
       "       [[-1.+0.j, -0.+0.j],\n",
       "        [ 0.+0.j, -1.+0.j]],\n",
       "\n",
       "       [[-1.+0.j, -0.+0.j],\n",
       "        [-0.+0.j, -1.+0.j]],\n",
       "\n",
       "       [[-1.+0.j,  0.+0.j],\n",
       "        [-0.+0.j, -1.+0.j]],\n",
       "\n",
       "       [[-1.+0.j, -0.+0.j],\n",
       "        [ 0.+0.j, -1.+0.j]],\n",
       "\n",
       "       [[-1.+0.j, -0.+0.j],\n",
       "        [-0.+0.j, -1.+0.j]],\n",
       "\n",
       "       [[-1.+0.j, -0.+0.j],\n",
       "        [ 0.+0.j, -1.+0.j]],\n",
       "\n",
       "       [[-1.+0.j, -0.+0.j],\n",
       "        [-0.+0.j, -1.+0.j]],\n",
       "\n",
       "       [[-1.+0.j, -0.+0.j],\n",
       "        [-0.+0.j, -1.+0.j]],\n",
       "\n",
       "       [[-1.+0.j, -0.+0.j],\n",
       "        [ 0.+0.j, -1.+0.j]],\n",
       "\n",
       "       [[-1.+0.j, -0.+0.j],\n",
       "        [ 0.+0.j, -1.+0.j]],\n",
       "\n",
       "       [[-1.+0.j, -0.+0.j],\n",
       "        [ 0.+0.j, -1.+0.j]],\n",
       "\n",
       "       [[-1.+0.j,  0.+0.j],\n",
       "        [-0.+0.j, -1.+0.j]],\n",
       "\n",
       "       [[-1.+0.j, -0.+0.j],\n",
       "        [ 0.+0.j, -1.+0.j]],\n",
       "\n",
       "       [[-1.+0.j, -0.+0.j],\n",
       "        [ 0.+0.j, -1.+0.j]]])"
      ]
     },
     "execution_count": 115,
     "metadata": {},
     "output_type": "execute_result"
    }
   ],
   "source": [
    "unitaries_array[:, 0]"
   ]
  },
  {
   "cell_type": "code",
   "execution_count": 116,
   "id": "1e3cde80-bc3c-4e89-87fb-f758fbdf12a6",
   "metadata": {},
   "outputs": [
    {
     "data": {
      "text/plain": [
       "array([[[-1.   +0.j,  0.   +0.j],\n",
       "        [ 0.   +0.j,  1.   +0.j]],\n",
       "\n",
       "       [[ 1.   +0.j, -0.   +0.j],\n",
       "        [-0.   +0.j, -1.   +0.j]],\n",
       "\n",
       "       [[ 1.   +0.j, -0.   +0.j],\n",
       "        [-0.   +0.j, -1.   +0.j]],\n",
       "\n",
       "       [[-1.   +0.j, -0.   +0.j],\n",
       "        [-0.   +0.j,  1.   +0.j]],\n",
       "\n",
       "       [[ 1.   +0.j, -0.   +0.j],\n",
       "        [-0.   +0.j, -1.   +0.j]],\n",
       "\n",
       "       [[ 1.   +0.j, -0.   +0.j],\n",
       "        [-0.   +0.j, -1.   +0.j]],\n",
       "\n",
       "       [[-1.   +0.j,  0.   +0.j],\n",
       "        [ 0.   +0.j,  1.   +0.j]],\n",
       "\n",
       "       [[ 1.   +0.j,  0.   +0.j],\n",
       "        [ 0.   +0.j, -1.   +0.j]],\n",
       "\n",
       "       [[ 1.   +0.j, -0.   +0.j],\n",
       "        [-0.   +0.j, -1.   +0.j]],\n",
       "\n",
       "       [[ 1.   +0.j, -0.   +0.j],\n",
       "        [-0.   +0.j, -1.   +0.j]],\n",
       "\n",
       "       [[-0.931+0.j, -0.364+0.j],\n",
       "        [-0.364+0.j,  0.931+0.j]],\n",
       "\n",
       "       [[-1.   +0.j, -0.   +0.j],\n",
       "        [ 0.   +0.j, -1.   +0.j]],\n",
       "\n",
       "       [[-1.   +0.j,  0.   +0.j],\n",
       "        [-0.   +0.j, -1.   +0.j]],\n",
       "\n",
       "       [[-1.   +0.j, -0.   +0.j],\n",
       "        [ 0.   +0.j, -1.   +0.j]],\n",
       "\n",
       "       [[-1.   +0.j,  0.   +0.j],\n",
       "        [ 0.   +0.j, -1.   +0.j]],\n",
       "\n",
       "       [[-1.   +0.j,  0.   +0.j],\n",
       "        [-0.   +0.j, -1.   +0.j]],\n",
       "\n",
       "       [[-1.   +0.j, -0.   +0.j],\n",
       "        [ 0.   +0.j, -1.   +0.j]],\n",
       "\n",
       "       [[-1.   +0.j, -0.   +0.j],\n",
       "        [ 0.   +0.j, -1.   +0.j]],\n",
       "\n",
       "       [[-1.   +0.j,  0.   +0.j],\n",
       "        [-0.   +0.j, -1.   +0.j]],\n",
       "\n",
       "       [[-1.   +0.j, -0.   +0.j],\n",
       "        [-0.   +0.j, -1.   +0.j]],\n",
       "\n",
       "       [[-1.   +0.j,  0.   +0.j],\n",
       "        [-0.   +0.j, -1.   +0.j]]])"
      ]
     },
     "execution_count": 116,
     "metadata": {},
     "output_type": "execute_result"
    }
   ],
   "source": [
    "unitaries_array[:, 1]"
   ]
  },
  {
   "cell_type": "code",
   "execution_count": 117,
   "id": "2ac2bbc6-91a8-4981-8e71-9c10b1a80975",
   "metadata": {},
   "outputs": [
    {
     "data": {
      "text/plain": [
       "array([[[-0.196+0.j, -0.981+0.j],\n",
       "        [-0.981+0.j,  0.196+0.j]],\n",
       "\n",
       "       [[-1.   +0.j, -0.002+0.j],\n",
       "        [ 0.002+0.j, -1.   +0.j]],\n",
       "\n",
       "       [[ 0.073+0.j, -0.997+0.j],\n",
       "        [-0.997+0.j, -0.073+0.j]],\n",
       "\n",
       "       [[ 0.003+0.j, -1.   +0.j],\n",
       "        [-1.   +0.j, -0.003+0.j]],\n",
       "\n",
       "       [[ 0.   +0.j,  1.   +0.j],\n",
       "        [ 1.   +0.j, -0.   +0.j]],\n",
       "\n",
       "       [[ 0.   +0.j,  1.   +0.j],\n",
       "        [ 1.   +0.j, -0.   +0.j]],\n",
       "\n",
       "       [[-0.   +0.j, -1.   +0.j],\n",
       "        [-1.   +0.j,  0.   +0.j]],\n",
       "\n",
       "       [[-0.   +0.j, -1.   +0.j],\n",
       "        [-1.   +0.j,  0.   +0.j]],\n",
       "\n",
       "       [[ 0.   +0.j, -1.   +0.j],\n",
       "        [-1.   +0.j, -0.   +0.j]],\n",
       "\n",
       "       [[ 0.   +0.j, -1.   +0.j],\n",
       "        [-1.   +0.j, -0.   +0.j]],\n",
       "\n",
       "       [[-0.   +0.j, -1.   +0.j],\n",
       "        [-1.   +0.j,  0.   +0.j]],\n",
       "\n",
       "       [[-0.   +0.j, -1.   +0.j],\n",
       "        [-1.   +0.j,  0.   +0.j]],\n",
       "\n",
       "       [[-0.   +0.j, -1.   +0.j],\n",
       "        [-1.   +0.j,  0.   +0.j]],\n",
       "\n",
       "       [[ 0.   +0.j, -1.   +0.j],\n",
       "        [-1.   +0.j, -0.   +0.j]],\n",
       "\n",
       "       [[ 0.   +0.j, -1.   +0.j],\n",
       "        [-1.   +0.j, -0.   +0.j]],\n",
       "\n",
       "       [[-0.   +0.j, -1.   +0.j],\n",
       "        [-1.   +0.j,  0.   +0.j]],\n",
       "\n",
       "       [[ 0.   +0.j, -1.   +0.j],\n",
       "        [-1.   +0.j, -0.   +0.j]],\n",
       "\n",
       "       [[ 0.   +0.j, -1.   +0.j],\n",
       "        [-1.   +0.j, -0.   +0.j]],\n",
       "\n",
       "       [[-1.   +0.j,  0.   +0.j],\n",
       "        [-0.   +0.j, -1.   +0.j]],\n",
       "\n",
       "       [[-1.   +0.j, -0.   +0.j],\n",
       "        [ 0.   +0.j, -1.   +0.j]],\n",
       "\n",
       "       [[ 0.   +0.j, -1.   +0.j],\n",
       "        [-1.   +0.j, -0.   +0.j]]])"
      ]
     },
     "execution_count": 117,
     "metadata": {},
     "output_type": "execute_result"
    }
   ],
   "source": [
    "unitaries_array[:, 2]"
   ]
  },
  {
   "cell_type": "code",
   "execution_count": 118,
   "id": "ab45ad33-3c57-4cbf-b413-67069f62c5a4",
   "metadata": {},
   "outputs": [
    {
     "data": {
      "text/plain": [
       "array([[[-0.   +0.j,  1.   +0.j],\n",
       "        [-1.   +0.j, -0.   +0.j]],\n",
       "\n",
       "       [[ 0.003+0.j, -1.   +0.j],\n",
       "        [ 1.   +0.j,  0.003+0.j]],\n",
       "\n",
       "       [[ 0.   +0.j,  1.   +0.j],\n",
       "        [-1.   +0.j,  0.   +0.j]],\n",
       "\n",
       "       [[ 0.   +0.j,  1.   +0.j],\n",
       "        [-1.   +0.j,  0.   +0.j]],\n",
       "\n",
       "       [[-0.   +0.j,  1.   +0.j],\n",
       "        [-1.   +0.j, -0.   +0.j]],\n",
       "\n",
       "       [[-0.   +0.j, -1.   +0.j],\n",
       "        [ 1.   +0.j, -0.   +0.j]],\n",
       "\n",
       "       [[-0.   +0.j, -1.   +0.j],\n",
       "        [ 1.   +0.j, -0.   +0.j]],\n",
       "\n",
       "       [[-0.   +0.j,  1.   +0.j],\n",
       "        [-1.   +0.j, -0.   +0.j]],\n",
       "\n",
       "       [[ 0.   +0.j, -1.   +0.j],\n",
       "        [ 1.   +0.j,  0.   +0.j]],\n",
       "\n",
       "       [[-0.   +0.j, -1.   +0.j],\n",
       "        [ 1.   +0.j, -0.   +0.j]],\n",
       "\n",
       "       [[ 0.   +0.j,  1.   +0.j],\n",
       "        [-1.   +0.j,  0.   +0.j]],\n",
       "\n",
       "       [[-0.   +0.j, -1.   +0.j],\n",
       "        [-1.   +0.j,  0.   +0.j]],\n",
       "\n",
       "       [[-0.   +0.j, -1.   +0.j],\n",
       "        [-1.   +0.j,  0.   +0.j]],\n",
       "\n",
       "       [[ 0.   +0.j, -1.   +0.j],\n",
       "        [-1.   +0.j, -0.   +0.j]],\n",
       "\n",
       "       [[ 0.   +0.j, -1.   +0.j],\n",
       "        [-1.   +0.j, -0.   +0.j]],\n",
       "\n",
       "       [[-0.   +0.j, -1.   +0.j],\n",
       "        [-1.   +0.j,  0.   +0.j]],\n",
       "\n",
       "       [[ 0.   +0.j, -1.   +0.j],\n",
       "        [-1.   +0.j, -0.   +0.j]],\n",
       "\n",
       "       [[ 0.   +0.j, -1.   +0.j],\n",
       "        [-1.   +0.j, -0.   +0.j]],\n",
       "\n",
       "       [[-1.   +0.j, -0.   +0.j],\n",
       "        [-0.   +0.j, -1.   +0.j]],\n",
       "\n",
       "       [[-1.   +0.j,  0.   +0.j],\n",
       "        [-0.   +0.j, -1.   +0.j]],\n",
       "\n",
       "       [[ 0.   +0.j, -1.   +0.j],\n",
       "        [-1.   +0.j, -0.   +0.j]]])"
      ]
     },
     "execution_count": 118,
     "metadata": {},
     "output_type": "execute_result"
    }
   ],
   "source": [
    "unitaries_array[:, 3]"
   ]
  },
  {
   "cell_type": "markdown",
   "id": "f9e6b6e5-b1cf-4260-82f0-7b337a264b67",
   "metadata": {},
   "source": [
    "So in trivial phase, have $I, I, I, I/X$ and for the non-trivial phase have $I, Z, Z, iY$\n",
    "\n",
    "The flipping in the trivial phase of the $XX$ term is odd."
   ]
  },
  {
   "cell_type": "code",
   "execution_count": 119,
   "id": "8d4f81ee-bc38-4ff9-acab-bffbb79c4593",
   "metadata": {},
   "outputs": [
    {
     "data": {
      "text/plain": [
       "array([[[-1.+0.j,  0.+0.j],\n",
       "        [-0.+0.j, -1.+0.j]],\n",
       "\n",
       "       [[ 1.+0.j, -0.+0.j],\n",
       "        [-0.+0.j, -1.+0.j]],\n",
       "\n",
       "       [[ 0.+0.j, -1.+0.j],\n",
       "        [-1.+0.j, -0.+0.j]],\n",
       "\n",
       "       [[-0.+0.j, -1.+0.j],\n",
       "        [ 1.+0.j, -0.+0.j]]])"
      ]
     },
     "execution_count": 119,
     "metadata": {},
     "output_type": "execute_result"
    }
   ],
   "source": [
    "unitaries_array[9]"
   ]
  },
  {
   "cell_type": "markdown",
   "id": "558c66f9-bbed-46c4-bf4f-df028b06b4f9",
   "metadata": {},
   "source": [
    "Would taking a longer patch for the symmetry action fix this?"
   ]
  },
  {
   "cell_type": "markdown",
   "id": "bf16f8b5-70f5-402e-a308-2f1cefc6d983",
   "metadata": {},
   "source": [
    "### Longer patch for odd case"
   ]
  },
  {
   "cell_type": "code",
   "execution_count": 120,
   "id": "fdfb5555-802b-4501-9715-018fd5bb700f",
   "metadata": {},
   "outputs": [
    {
     "data": {
      "text/plain": [
       "dict_keys([0.0, 0.1, 0.2, 0.3, 0.4, 0.5, 0.6, 0.7, 0.8, 0.9, 1.0, 1.1, 1.2, 1.3, 1.4, 1.5, 1.6, 1.7, 1.8, 1.9, 2.0])"
      ]
     },
     "execution_count": 120,
     "metadata": {},
     "output_type": "execute_result"
    }
   ],
   "source": [
    "psi_dict.keys()"
   ]
  },
  {
   "cell_type": "code",
   "execution_count": 121,
   "id": "81e3ba38-b5eb-4f73-acd1-796f1844464f",
   "metadata": {},
   "outputs": [],
   "source": [
    "longer_cases = [\n",
    "    SymmetryActionWithBoundaryUnitaries(\n",
    "        psi_dict[0.9],\n",
    "        s*80,\n",
    "        left_boundary_unitaries=[np_I,]*3,\n",
    "        right_boundary_unitaries=[np_I,]*3\n",
    "    )\n",
    "    for s in symmetry_actions\n",
    "]"
   ]
  },
  {
   "cell_type": "code",
   "execution_count": 122,
   "id": "65233138-9e9f-4256-837f-04a528ba80a5",
   "metadata": {},
   "outputs": [],
   "source": [
    "for c in longer_cases:\n",
    "    c.compute_svd_approximate_expectation()"
   ]
  },
  {
   "cell_type": "code",
   "execution_count": 123,
   "id": "52f51c4e-7420-43b0-864c-247a252f999c",
   "metadata": {},
   "outputs": [],
   "source": [
    "score_unitary_pairs = [get_unitary(c) for c in longer_cases]"
   ]
  },
  {
   "cell_type": "code",
   "execution_count": 124,
   "id": "14d357b2-88c7-4047-bd01-b880b00d57b6",
   "metadata": {},
   "outputs": [],
   "source": [
    "scores = [p[0] for p in score_unitary_pairs]\n",
    "unitaries = [p[1] for p in score_unitary_pairs]"
   ]
  },
  {
   "cell_type": "code",
   "execution_count": 125,
   "id": "b5d807cc-2943-4bf3-8623-06424a7df758",
   "metadata": {},
   "outputs": [],
   "source": [
    "phase_distance_pairs = [gauge_invariant_phase(*p) for p in combinations(unitaries, 2)]"
   ]
  },
  {
   "cell_type": "code",
   "execution_count": 126,
   "id": "908c62a5-99fd-4d7b-802d-391476bfe3bd",
   "metadata": {},
   "outputs": [],
   "source": [
    "phases = [p[0] for p in phase_distance_pairs]\n",
    "distances = [p[1] for p in phase_distance_pairs]"
   ]
  },
  {
   "cell_type": "code",
   "execution_count": 127,
   "id": "e1fcaf93-3990-495f-9c5d-174b49e5791a",
   "metadata": {},
   "outputs": [
    {
     "data": {
      "text/plain": [
       "[(1+0j), (1+0j), (1+0j), (-1+0j), (-1+0j), (-1+0j)]"
      ]
     },
     "execution_count": 127,
     "metadata": {},
     "output_type": "execute_result"
    }
   ],
   "source": [
    "phases"
   ]
  },
  {
   "cell_type": "code",
   "execution_count": 128,
   "id": "c6137d9f-9985-4b84-953e-df561b297811",
   "metadata": {},
   "outputs": [
    {
     "data": {
      "text/plain": [
       "[array([[-1.00000000e+00+0.j,  3.01922521e-16+0.j],\n",
       "        [-3.12739389e-16+0.j, -1.00000000e+00+0.j]]),\n",
       " array([[ 0.99999944+0.j, -0.00106179+0.j],\n",
       "        [-0.00106179+0.j, -0.99999944+0.j]]),\n",
       " array([[ 1.23087451e-04+0.j, -9.99999992e-01+0.j],\n",
       "        [-9.99999992e-01+0.j, -1.23087451e-04+0.j]]),\n",
       " array([[-1.04360964e-14+0.j,  1.00000000e+00+0.j],\n",
       "        [-1.00000000e+00+0.j, -1.04360964e-14+0.j]])]"
      ]
     },
     "execution_count": 128,
     "metadata": {},
     "output_type": "execute_result"
    }
   ],
   "source": [
    "[u.to_ndarray() for u in unitaries]"
   ]
  },
  {
   "cell_type": "markdown",
   "id": "1d07c401-dbb3-440e-8906-e6de554b9d4f",
   "metadata": {},
   "source": [
    "Still having issues... perhaps the solution did not converge...?"
   ]
  },
  {
   "cell_type": "markdown",
   "id": "28c9a89b-ff3e-4b80-90c7-a4ef8e6bb82b",
   "metadata": {},
   "source": [
    "### Right projected symmetry states"
   ]
  },
  {
   "cell_type": "code",
   "execution_count": 129,
   "id": "a71fe614-a6e1-4067-bc0c-92e0603bf9eb",
   "metadata": {},
   "outputs": [],
   "source": [
    "right_symmetry_states = [[\n",
    "    np.round(c.right_projected_symmetry_state.to_ndarray())\n",
    "    for c in l] for l in cases]"
   ]
  },
  {
   "cell_type": "code",
   "execution_count": 130,
   "id": "50a6c48b-089b-4d61-a541-8d8587d92b3f",
   "metadata": {},
   "outputs": [
    {
     "data": {
      "text/plain": [
       "[array([[-1.+0.j, -0.+0.j],\n",
       "        [-0.+0.j, -1.+0.j]]),\n",
       " array([[ 0.+0.j,  1.+0.j],\n",
       "        [ 1.+0.j, -0.+0.j]]),\n",
       " array([[-1.+0.j,  0.+0.j],\n",
       "        [ 0.+0.j,  1.+0.j]]),\n",
       " array([[-0.+0.j, -1.+0.j],\n",
       "        [ 1.+0.j,  0.+0.j]])]"
      ]
     },
     "execution_count": 130,
     "metadata": {},
     "output_type": "execute_result"
    }
   ],
   "source": [
    "right_symmetry_states[0]"
   ]
  },
  {
   "cell_type": "code",
   "execution_count": 131,
   "id": "5ca60d30-bb68-47bb-b6c9-2ae589bb7fa8",
   "metadata": {},
   "outputs": [
    {
     "data": {
      "text/plain": [
       "array([[[-1.+0.j,  0.+0.j,  0.+0.j],\n",
       "        [ 0.+0.j, -1.+0.j, -0.+0.j],\n",
       "        [ 0.+0.j, -0.+0.j, -0.+0.j]],\n",
       "\n",
       "       [[ 0.+0.j,  1.+0.j,  0.+0.j],\n",
       "        [ 1.+0.j, -0.+0.j,  0.+0.j],\n",
       "        [ 0.+0.j,  0.+0.j, -0.+0.j]],\n",
       "\n",
       "       [[-1.+0.j,  0.+0.j, -0.+0.j],\n",
       "        [ 0.+0.j,  1.+0.j,  0.+0.j],\n",
       "        [-0.+0.j,  0.+0.j,  0.+0.j]],\n",
       "\n",
       "       [[ 0.+0.j,  1.+0.j,  0.+0.j],\n",
       "        [-1.+0.j, -0.+0.j,  0.+0.j],\n",
       "        [-0.+0.j, -0.+0.j, -0.+0.j]]])"
      ]
     },
     "execution_count": 131,
     "metadata": {},
     "output_type": "execute_result"
    }
   ],
   "source": [
    "np.array(right_symmetry_states[1])[:, :3, :3]"
   ]
  },
  {
   "cell_type": "code",
   "execution_count": 132,
   "id": "236aae2e-6b83-427d-a499-54f119d8e945",
   "metadata": {},
   "outputs": [
    {
     "data": {
      "text/plain": [
       "array([[[-1.+0.j, -0.+0.j,  0.+0.j],\n",
       "        [-0.+0.j, -1.+0.j,  0.+0.j],\n",
       "        [ 0.+0.j,  0.+0.j, -0.+0.j]],\n",
       "\n",
       "       [[-0.+0.j, -1.+0.j, -0.+0.j],\n",
       "        [-1.+0.j,  0.+0.j,  0.+0.j],\n",
       "        [-0.+0.j,  0.+0.j,  0.+0.j]],\n",
       "\n",
       "       [[ 1.+0.j, -0.+0.j, -0.+0.j],\n",
       "        [-0.+0.j, -1.+0.j, -0.+0.j],\n",
       "        [-0.+0.j, -0.+0.j,  0.+0.j]],\n",
       "\n",
       "       [[-0.+0.j,  1.+0.j,  0.+0.j],\n",
       "        [-1.+0.j,  0.+0.j,  0.+0.j],\n",
       "        [-0.+0.j, -0.+0.j,  0.+0.j]]])"
      ]
     },
     "execution_count": 132,
     "metadata": {},
     "output_type": "execute_result"
    }
   ],
   "source": [
    "np.array(right_symmetry_states[5])[:, :3, :3]"
   ]
  },
  {
   "cell_type": "code",
   "execution_count": 133,
   "id": "60ed8bf3-e436-45f1-9ec1-20827f025786",
   "metadata": {},
   "outputs": [
    {
     "data": {
      "text/plain": [
       "array([[[-1.+0.j,  0.+0.j, -0.+0.j],\n",
       "        [ 0.+0.j, -1.+0.j, -0.+0.j],\n",
       "        [-0.+0.j, -0.+0.j, -0.+0.j]],\n",
       "\n",
       "       [[-0.+0.j,  1.+0.j,  0.+0.j],\n",
       "        [ 1.+0.j,  0.+0.j,  0.+0.j],\n",
       "        [ 0.+0.j,  0.+0.j,  0.+0.j]],\n",
       "\n",
       "       [[-1.+0.j, -0.+0.j,  0.+0.j],\n",
       "        [-0.+0.j,  1.+0.j, -0.+0.j],\n",
       "        [ 0.+0.j, -0.+0.j, -0.+0.j]],\n",
       "\n",
       "       [[-0.+0.j, -1.+0.j,  0.+0.j],\n",
       "        [ 1.+0.j,  0.+0.j,  0.+0.j],\n",
       "        [-0.+0.j, -0.+0.j,  0.+0.j]]])"
      ]
     },
     "execution_count": 133,
     "metadata": {},
     "output_type": "execute_result"
    }
   ],
   "source": [
    "np.array(right_symmetry_states[8])[:, :3, :3]"
   ]
  },
  {
   "cell_type": "code",
   "execution_count": 134,
   "id": "f48e21d8-ba7b-476c-a02c-04774d7ef63f",
   "metadata": {},
   "outputs": [
    {
     "data": {
      "text/plain": [
       "array([[[-1.+0.j, -0.+0.j,  0.+0.j],\n",
       "        [-0.+0.j, -1.+0.j, -0.+0.j],\n",
       "        [ 0.+0.j, -0.+0.j, -0.+0.j]],\n",
       "\n",
       "       [[-0.+0.j, -1.+0.j, -0.+0.j],\n",
       "        [-1.+0.j,  0.+0.j,  0.+0.j],\n",
       "        [-0.+0.j,  0.+0.j,  0.+0.j]],\n",
       "\n",
       "       [[-1.+0.j,  0.+0.j, -0.+0.j],\n",
       "        [ 0.+0.j,  1.+0.j, -0.+0.j],\n",
       "        [-0.+0.j, -0.+0.j, -0.+0.j]],\n",
       "\n",
       "       [[-0.+0.j,  1.+0.j, -0.+0.j],\n",
       "        [-1.+0.j,  0.+0.j,  0.+0.j],\n",
       "        [ 0.+0.j, -0.+0.j, -0.+0.j]]])"
      ]
     },
     "execution_count": 134,
     "metadata": {},
     "output_type": "execute_result"
    }
   ],
   "source": [
    "np.array(right_symmetry_states[9])[:, :3, :3]"
   ]
  },
  {
   "cell_type": "code",
   "execution_count": 135,
   "id": "74934e5d-f4ee-4ffe-9299-7e1e1139f8f9",
   "metadata": {},
   "outputs": [
    {
     "data": {
      "text/plain": [
       "array([[[-1.+0.j, -0.+0.j, -0.+0.j],\n",
       "        [-0.+0.j, -0.+0.j, -0.+0.j],\n",
       "        [-0.+0.j, -0.+0.j, -0.+0.j]],\n",
       "\n",
       "       [[-1.+0.j, -1.+0.j, -0.+0.j],\n",
       "        [-1.+0.j, -0.+0.j,  0.+0.j],\n",
       "        [-0.+0.j,  0.+0.j,  0.+0.j]],\n",
       "\n",
       "       [[-1.+0.j,  0.+0.j, -0.+0.j],\n",
       "        [ 0.+0.j,  0.+0.j, -0.+0.j],\n",
       "        [-0.+0.j, -0.+0.j, -0.+0.j]],\n",
       "\n",
       "       [[-0.+0.j,  1.+0.j, -0.+0.j],\n",
       "        [-1.+0.j, -0.+0.j,  0.+0.j],\n",
       "        [ 0.+0.j, -0.+0.j, -0.+0.j]]])"
      ]
     },
     "execution_count": 135,
     "metadata": {},
     "output_type": "execute_result"
    }
   ],
   "source": [
    "np.array(right_symmetry_states[10])[:, :3, :3]"
   ]
  },
  {
   "cell_type": "code",
   "execution_count": 136,
   "id": "606f6122-18ed-45b2-ac14-0abf9bb247ca",
   "metadata": {},
   "outputs": [
    {
     "data": {
      "text/plain": [
       "array([[[-1.+0.j, -0.+0.j, -0.+0.j],\n",
       "        [-0.+0.j, -0.+0.j, -0.+0.j],\n",
       "        [-0.+0.j, -0.+0.j, -0.+0.j]],\n",
       "\n",
       "       [[-1.+0.j, -0.+0.j,  0.+0.j],\n",
       "        [-0.+0.j, -0.+0.j,  0.+0.j],\n",
       "        [ 0.+0.j,  0.+0.j,  0.+0.j]],\n",
       "\n",
       "       [[-1.+0.j,  0.+0.j, -0.+0.j],\n",
       "        [ 0.+0.j,  0.+0.j, -0.+0.j],\n",
       "        [-0.+0.j, -0.+0.j, -0.+0.j]],\n",
       "\n",
       "       [[-1.+0.j,  0.+0.j,  0.+0.j],\n",
       "        [ 0.+0.j,  0.+0.j,  0.+0.j],\n",
       "        [ 0.+0.j,  0.+0.j,  0.+0.j]]])"
      ]
     },
     "execution_count": 136,
     "metadata": {},
     "output_type": "execute_result"
    }
   ],
   "source": [
    "np.array(right_symmetry_states[11])[:, :3, :3]"
   ]
  },
  {
   "cell_type": "code",
   "execution_count": 137,
   "id": "d5985572-9262-4ab1-950a-c47028746a51",
   "metadata": {},
   "outputs": [
    {
     "data": {
      "text/plain": [
       "array([[[-1.+0.j, -0.+0.j, -0.+0.j],\n",
       "        [-0.+0.j, -0.+0.j, -0.+0.j],\n",
       "        [-0.+0.j, -0.+0.j, -0.+0.j]],\n",
       "\n",
       "       [[-1.+0.j, -0.+0.j, -0.+0.j],\n",
       "        [-0.+0.j, -0.+0.j, -0.+0.j],\n",
       "        [-0.+0.j, -0.+0.j,  0.+0.j]],\n",
       "\n",
       "       [[-1.+0.j, -0.+0.j, -0.+0.j],\n",
       "        [-0.+0.j,  0.+0.j,  0.+0.j],\n",
       "        [-0.+0.j,  0.+0.j, -0.+0.j]],\n",
       "\n",
       "       [[-1.+0.j, -0.+0.j, -0.+0.j],\n",
       "        [-0.+0.j,  0.+0.j,  0.+0.j],\n",
       "        [-0.+0.j,  0.+0.j,  0.+0.j]]])"
      ]
     },
     "execution_count": 137,
     "metadata": {},
     "output_type": "execute_result"
    }
   ],
   "source": [
    "np.array(right_symmetry_states[15])[:, :3, :3]"
   ]
  },
  {
   "cell_type": "markdown",
   "id": "2fde6011-c424-4a3a-8f4a-b077d4d7bbf0",
   "metadata": {},
   "source": [
    "Right symmetry states very regular, more than I remember..."
   ]
  },
  {
   "cell_type": "markdown",
   "id": "a17ad946-2f94-4792-91e8-b06f34ce1e7a",
   "metadata": {},
   "source": [
    "Fixed a bug in the code where I was solving for the wrong site (the one immediately to the left, so the site \"behind\" the symmetry action. This introduced errors for small B! So definitely _not_ translationally invariant, and possible room for improvement?"
   ]
  },
  {
   "cell_type": "markdown",
   "id": "d2e7f303-8f9c-4798-bb7d-c7bb687d4718",
   "metadata": {},
   "source": [
    "## Two site unitaries"
   ]
  },
  {
   "cell_type": "code",
   "execution_count": 143,
   "id": "1daa68d2-3e64-4f87-805b-6812697f4bda",
   "metadata": {},
   "outputs": [],
   "source": [
    "score_unitary_pairs = [[get_2_site_unitary(c) for c in l] for l in cases]"
   ]
  },
  {
   "cell_type": "code",
   "execution_count": 144,
   "id": "fa9ffc01-0ed5-4522-b7ac-46b3a7a06c1c",
   "metadata": {},
   "outputs": [],
   "source": [
    "scores = [[p[0] for p in l] for l in score_unitary_pairs]\n",
    "unitaries = [[p[1] for p in l] for l in score_unitary_pairs]"
   ]
  },
  {
   "cell_type": "code",
   "execution_count": 145,
   "id": "1dced5ac-51d2-4010-a90e-7e23a6ded919",
   "metadata": {},
   "outputs": [
    {
     "data": {
      "text/plain": [
       "<npc.Array shape=(4, 4) labels=['p', 'p*']>"
      ]
     },
     "execution_count": 145,
     "metadata": {},
     "output_type": "execute_result"
    }
   ],
   "source": [
    "unitaries[0][0]"
   ]
  },
  {
   "cell_type": "code",
   "execution_count": 146,
   "id": "ac3626c6-4ee5-409d-a403-3e739f52cce4",
   "metadata": {},
   "outputs": [],
   "source": [
    "identity_u = unitaries[0][0].copy()"
   ]
  },
  {
   "cell_type": "code",
   "execution_count": 147,
   "id": "17bc9f8b-5c4b-4cea-97ca-aaa96e4ff0e5",
   "metadata": {},
   "outputs": [],
   "source": [
    "for i in range(4):\n",
    "    for j in range(4):\n",
    "        c = 1 if i == j else 0\n",
    "        identity_u[i,j] = c"
   ]
  },
  {
   "cell_type": "code",
   "execution_count": 148,
   "id": "190d175b-0219-47b4-b2c0-65a0f92c243f",
   "metadata": {},
   "outputs": [
    {
     "data": {
      "text/plain": [
       "array([[1.+0.j, 0.+0.j, 0.+0.j, 0.+0.j],\n",
       "       [0.+0.j, 1.+0.j, 0.+0.j, 0.+0.j],\n",
       "       [0.+0.j, 0.+0.j, 1.+0.j, 0.+0.j],\n",
       "       [0.+0.j, 0.+0.j, 0.+0.j, 1.+0.j]])"
      ]
     },
     "execution_count": 148,
     "metadata": {},
     "output_type": "execute_result"
    }
   ],
   "source": [
    "identity_u.to_ndarray()"
   ]
  },
  {
   "cell_type": "code",
   "execution_count": 149,
   "id": "42210941-88e8-4d95-a52c-279978dcc85c",
   "metadata": {},
   "outputs": [],
   "source": [
    "phase_distance_pairs = [[gauge_invariant_phase(*p, dim=4) for p in combinations(l, 2)] for l in unitaries]"
   ]
  },
  {
   "cell_type": "code",
   "execution_count": 150,
   "id": "49a7651b-bc78-43a8-b04e-6d32f481e40f",
   "metadata": {},
   "outputs": [],
   "source": [
    "phases = [[p[0] for p in l] for l in phase_distance_pairs]\n",
    "distances = [[p[1] for p in l] for l in phase_distance_pairs]"
   ]
  },
  {
   "cell_type": "markdown",
   "id": "adb9d171-33b7-4e08-a390-23567700af2e",
   "metadata": {},
   "source": [
    "### Phases"
   ]
  },
  {
   "cell_type": "code",
   "execution_count": 151,
   "id": "1f4dca0b-0659-4ca7-9ce2-be23f802e492",
   "metadata": {},
   "outputs": [
    {
     "data": {
      "text/plain": [
       "21"
      ]
     },
     "execution_count": 151,
     "metadata": {},
     "output_type": "execute_result"
    }
   ],
   "source": [
    "len(phases)"
   ]
  },
  {
   "cell_type": "code",
   "execution_count": 152,
   "id": "fc5e5d02-fa8f-4a1c-badd-5776e2ed6a20",
   "metadata": {},
   "outputs": [
    {
     "data": {
      "text/plain": [
       "[[(1+0j), (1+0j), (1+0j), (-1+0j), (-1+0j), (-1+0j)],\n",
       " [(1+0j), (1+0j), (1+0j), (-1+0j), (-1+0j), (-1+0j)],\n",
       " [(1+0j), (1+0j), (1+0j), (-1+0j), (-1+0j), (-1+0j)],\n",
       " [(1+0j), (1+0j), (1+0j), (-1+0j), (-1+0j), (-1+0j)],\n",
       " [(1+0j), (1+0j), (1+0j), (-1+0j), (-1+0j), (-1+0j)],\n",
       " [(1+0j), (1+0j), (1+0j), (-1+0j), (-1+0j), (-1+0j)],\n",
       " [(1+0j), (1+0j), (1+0j), (-1+0j), (-1+0j), (-1+0j)],\n",
       " [(1+0j), (1+0j), (1+0j), (-1+0j), (-1+0j), (-1+0j)],\n",
       " [(1+0j), (1+0j), (1+0j), (-1+0j), (-1+0j), (-1+0j)],\n",
       " [(1+0j), (1+0j), (1+0j), (-1+0j), (-1+0j), (-1+0j)]]"
      ]
     },
     "execution_count": 152,
     "metadata": {},
     "output_type": "execute_result"
    }
   ],
   "source": [
    "phases[:10]"
   ]
  },
  {
   "cell_type": "code",
   "execution_count": 153,
   "id": "ba23c604-816f-4be5-9c07-b0c4a932462f",
   "metadata": {},
   "outputs": [
    {
     "data": {
      "text/plain": [
       "[(1+0j), (1+0j), (1+0j), (-1+0j), (-1+0j), (-1+0j)]"
      ]
     },
     "execution_count": 153,
     "metadata": {},
     "output_type": "execute_result"
    }
   ],
   "source": [
    "phases[10]"
   ]
  },
  {
   "cell_type": "code",
   "execution_count": 154,
   "id": "82b1e917-2798-4176-b9ca-b1d0570247ab",
   "metadata": {},
   "outputs": [
    {
     "data": {
      "text/plain": [
       "[[(1+0j), (1+0j), (1+0j), (1+0j), (1+0j), (1+0j)],\n",
       " [(1+0j), (1+0j), (1+0j), (1+0j), (1+0j), (1+0j)],\n",
       " [(1+0j), (1+0j), (1+0j), (1+0j), (1+0j), (1+0j)],\n",
       " [(1+0j), (1+0j), (1+0j), (1+0j), (1+0j), (1+0j)],\n",
       " [(1+0j), (1+0j), (1+0j), (1+0j), (1+0j), (1+0j)],\n",
       " [(1+0j), (1+0j), (1+0j), (1+0j), (1+0j), (1+0j)],\n",
       " [(1+0j), (1+0j), (1+0j), (1+0j), (1+0j), (1+0j)],\n",
       " [(1+0j), (1+0j), (1+0j), (1+0j), (1+0j), (1+0j)],\n",
       " [(1+0j), (1+0j), (1+0j), (1+0j), (1+0j), (1+0j)],\n",
       " [(1+0j), (1+0j), (1+0j), (1+0j), (1+0j), (1+0j)]]"
      ]
     },
     "execution_count": 154,
     "metadata": {},
     "output_type": "execute_result"
    }
   ],
   "source": [
    "phases[11:]"
   ]
  },
  {
   "cell_type": "markdown",
   "id": "db1c63e0-6f31-42fe-96b8-ed2e01c25616",
   "metadata": {},
   "source": [
    "### Scores"
   ]
  },
  {
   "cell_type": "code",
   "execution_count": 155,
   "id": "b9f3479e-92ed-4f4d-aa3c-31b2b01c36bd",
   "metadata": {},
   "outputs": [],
   "source": [
    "scores_array = np.array(scores).T"
   ]
  },
  {
   "cell_type": "code",
   "execution_count": 156,
   "id": "7f2fde98-119b-46c9-898d-9337bf5bf639",
   "metadata": {},
   "outputs": [
    {
     "data": {
      "text/plain": [
       "array([[1.41421356, 1.41421468, 1.41423197, 1.41431178, 1.41454875,\n",
       "        1.41512287, 1.41638434, 1.41906654, 1.42490333, 1.43609004,\n",
       "        1.22193043, 1.19941782, 1.14350954, 1.11037774, 1.08855503,\n",
       "        1.07315463, 1.0617466 , 1.05298879, 1.04607899, 1.04050777,\n",
       "        1.0359359 ],\n",
       "       [1.41421356, 1.41243913, 1.40703388, 1.39773668, 1.38405447,\n",
       "        1.36514717, 1.33958229, 1.30476721, 1.25540835, 1.17942897,\n",
       "        1.10267127, 0.98054091, 0.98968574, 0.9939045 , 0.99607791,\n",
       "        0.99732384, 0.99809355, 0.99859604, 0.99893834, 0.99917955,\n",
       "        0.9993543 ],\n",
       "       [1.41421356, 1.41243913, 1.40703388, 1.39773668, 1.38405447,\n",
       "        1.36514717, 1.33958229, 1.3047672 , 1.25539899, 1.17680489,\n",
       "        0.96841037, 0.97979391, 0.98968574, 0.9939045 , 0.99607791,\n",
       "        0.99732384, 0.99809355, 0.99859604, 0.99893834, 0.99917955,\n",
       "        0.9993543 ],\n",
       "       [1.41421356, 1.41066581, 1.39987243, 1.38135583, 1.35421758,\n",
       "        1.31693638, 1.26694475, 1.19967416, 1.1060655 , 0.96579662,\n",
       "        0.88272267, 0.80097867, 0.85655103, 0.88964784, 0.9114568 ,\n",
       "        0.92685128, 0.93825653, 0.94701296, 0.95392204, 0.95949286,\n",
       "        0.96406449]])"
      ]
     },
     "execution_count": 156,
     "metadata": {},
     "output_type": "execute_result"
    }
   ],
   "source": [
    "scores_array"
   ]
  },
  {
   "cell_type": "code",
   "execution_count": 157,
   "id": "f4c8e9a6-5e4d-43f8-b117-3dee2d5ceb7e",
   "metadata": {},
   "outputs": [
    {
     "name": "stderr",
     "output_type": "stream",
     "text": [
      "/var/folders/r3/xn8xq5c17932m2g1b4r3dss80000gn/T/ipykernel_54124/408976895.py:8: UserWarning: FigureCanvasAgg is non-interactive, and thus cannot be shown\n",
      "  fig.show()\n"
     ]
    },
    {
     "data": {
      "image/png": "[encoded data removed]",
      "text/plain": [
       "<Figure size 600x400 with 1 Axes>"
      ]
     },
     "metadata": {},
     "output_type": "display_data"
    }
   ],
   "source": [
    "fig, ax = plt.subplots(figsize=(6,4))\n",
    "\n",
    "for i, x in enumerate(scores_array):\n",
    "    ax.plot(x, label=symmetry_labels[i])\n",
    "\n",
    "ax.legend()\n",
    "\n",
    "fig.show()"
   ]
  },
  {
   "cell_type": "markdown",
   "id": "5bc0c126-82f5-4490-b499-6416183d1bf5",
   "metadata": {},
   "source": [
    "### Distances"
   ]
  },
  {
   "cell_type": "code",
   "execution_count": 158,
   "id": "025dab19-7f42-476e-93e4-07b42f7b131d",
   "metadata": {},
   "outputs": [],
   "source": [
    "distances_array = np.array(distances).T"
   ]
  },
  {
   "cell_type": "code",
   "execution_count": 159,
   "id": "71e00932-6152-47cd-9219-4e51e8d7d969",
   "metadata": {},
   "outputs": [
    {
     "data": {
      "text/plain": [
       "(2.3416646832949377+0j)"
      ]
     },
     "execution_count": 159,
     "metadata": {},
     "output_type": "execute_result"
    }
   ],
   "source": [
    "np.max(distances_array)"
   ]
  },
  {
   "cell_type": "code",
   "execution_count": 160,
   "id": "86040943-2997-4997-a801-6d46e4518efe",
   "metadata": {},
   "outputs": [
    {
     "name": "stderr",
     "output_type": "stream",
     "text": [
      "/Users/kierancooney/.pyenv/versions/num_spt_venv_p11/lib/python3.11/site-packages/matplotlib/cbook.py:1699: ComplexWarning: Casting complex values to real discards the imaginary part\n",
      "  return math.isfinite(val)\n",
      "/Users/kierancooney/.pyenv/versions/num_spt_venv_p11/lib/python3.11/site-packages/matplotlib/cbook.py:1345: ComplexWarning: Casting complex values to real discards the imaginary part\n",
      "  return np.asarray(x, float)\n",
      "/var/folders/r3/xn8xq5c17932m2g1b4r3dss80000gn/T/ipykernel_54124/3176477689.py:8: UserWarning: FigureCanvasAgg is non-interactive, and thus cannot be shown\n",
      "  fig.show()\n"
     ]
    },
    {
     "data": {
      "image/png": "[encoded data removed]",
      "text/plain": [
       "<Figure size 600x400 with 1 Axes>"
      ]
     },
     "metadata": {},
     "output_type": "display_data"
    }
   ],
   "source": [
    "fig, ax = plt.subplots(figsize=(6,4))\n",
    "\n",
    "for i, x in enumerate(distances_array):\n",
    "    ax.plot(x, label=symmetry_combination_labels[i])\n",
    "\n",
    "ax.legend()\n",
    "\n",
    "fig.show()"
   ]
  },
  {
   "cell_type": "markdown",
   "id": "77151cd4-8555-4806-9b54-74c14f480d9c",
   "metadata": {},
   "source": [
    "Worse projective representation in places."
   ]
  },
  {
   "cell_type": "markdown",
   "id": "490bac37-5ee6-41f2-904b-c920098a911e",
   "metadata": {},
   "source": [
    "### Unitaries"
   ]
  },
  {
   "cell_type": "code",
   "execution_count": 161,
   "id": "826ed89e-5a81-4d52-a892-481cd84da7be",
   "metadata": {},
   "outputs": [],
   "source": [
    "unitaries_array = np.round(np.array([[u.to_ndarray() for u in l] for l in unitaries]), 3)"
   ]
  },
  {
   "cell_type": "code",
   "execution_count": 162,
   "id": "6eb2c44c-a452-4e6f-8d29-3235e4600e58",
   "metadata": {},
   "outputs": [
    {
     "data": {
      "text/plain": [
       "(21, 4, 4, 4)"
      ]
     },
     "execution_count": 162,
     "metadata": {},
     "output_type": "execute_result"
    }
   ],
   "source": [
    "unitaries_array.shape"
   ]
  },
  {
   "cell_type": "code",
   "execution_count": 163,
   "id": "12e1cdbc-9fc3-48c5-8b99-d6013fd268ac",
   "metadata": {},
   "outputs": [
    {
     "data": {
      "text/plain": [
       "array([[-1.+0.j, -0.+0.j, -0.+0.j, -0.+0.j],\n",
       "       [ 0.+0.j, -1.+0.j, -0.+0.j, -0.+0.j],\n",
       "       [ 0.+0.j,  0.+0.j, -1.+0.j, -0.+0.j],\n",
       "       [ 0.+0.j, -0.+0.j, -0.+0.j, -1.+0.j]])"
      ]
     },
     "execution_count": 163,
     "metadata": {},
     "output_type": "execute_result"
    }
   ],
   "source": [
    "unitaries_array[0, 0]"
   ]
  },
  {
   "cell_type": "code",
   "execution_count": 164,
   "id": "5192395e-dfd9-4433-8fb2-d6ef796ae42b",
   "metadata": {},
   "outputs": [
    {
     "data": {
      "text/plain": [
       "array([[-1.+0.j,  0.+0.j,  0.+0.j, -0.+0.j],\n",
       "       [-0.+0.j, -1.+0.j, -0.+0.j,  0.+0.j],\n",
       "       [ 0.+0.j, -0.+0.j,  1.+0.j,  0.+0.j],\n",
       "       [-0.+0.j,  0.+0.j, -0.+0.j,  1.+0.j]])"
      ]
     },
     "execution_count": 164,
     "metadata": {},
     "output_type": "execute_result"
    }
   ],
   "source": [
    "unitaries_array[0, 1]"
   ]
  },
  {
   "cell_type": "code",
   "execution_count": 165,
   "id": "9776d3a6-35fe-4b5d-93af-d5c64a3c21b5",
   "metadata": {},
   "outputs": [
    {
     "data": {
      "text/plain": [
       "((1+0j), (4.440892098500626e-16+0j))"
      ]
     },
     "execution_count": 165,
     "metadata": {},
     "output_type": "execute_result"
    }
   ],
   "source": [
    "gauge_invariant_phase(unitaries[0][0], unitaries[0][1], dim=4)"
   ]
  },
  {
   "cell_type": "code",
   "execution_count": 166,
   "id": "30099f98-f13b-46b3-b4ec-a8755b8975e5",
   "metadata": {},
   "outputs": [
    {
     "data": {
      "text/plain": [
       "array([[[-1.+0.j, -0.+0.j, -0.+0.j, -0.+0.j],\n",
       "        [ 0.+0.j, -1.+0.j, -0.+0.j, -0.+0.j],\n",
       "        [ 0.+0.j,  0.+0.j, -1.+0.j, -0.+0.j],\n",
       "        [ 0.+0.j, -0.+0.j, -0.+0.j, -1.+0.j]],\n",
       "\n",
       "       [[-1.+0.j,  0.+0.j,  0.+0.j, -0.+0.j],\n",
       "        [-0.+0.j, -1.+0.j, -0.+0.j,  0.+0.j],\n",
       "        [ 0.+0.j, -0.+0.j,  1.+0.j,  0.+0.j],\n",
       "        [-0.+0.j,  0.+0.j, -0.+0.j,  1.+0.j]],\n",
       "\n",
       "       [[ 0.+0.j,  0.+0.j,  1.+0.j, -0.+0.j],\n",
       "        [-0.+0.j, -0.+0.j, -0.+0.j, -1.+0.j],\n",
       "        [ 1.+0.j, -0.+0.j, -0.+0.j, -0.+0.j],\n",
       "        [-0.+0.j, -1.+0.j,  0.+0.j,  0.+0.j]],\n",
       "\n",
       "       [[ 0.+0.j, -0.+0.j, -1.+0.j,  0.+0.j],\n",
       "        [-0.+0.j, -0.+0.j,  0.+0.j,  1.+0.j],\n",
       "        [ 1.+0.j, -0.+0.j, -0.+0.j,  0.+0.j],\n",
       "        [-0.+0.j, -1.+0.j, -0.+0.j, -0.+0.j]]])"
      ]
     },
     "execution_count": 166,
     "metadata": {},
     "output_type": "execute_result"
    }
   ],
   "source": [
    "unitaries_array[0]"
   ]
  },
  {
   "cell_type": "code",
   "execution_count": 167,
   "id": "c1fb962b-71eb-4a0e-a3aa-03b4782ea8e6",
   "metadata": {},
   "outputs": [
    {
     "data": {
      "text/plain": [
       "array([[[-1.+0.j, -0.+0.j, -0.+0.j, -0.+0.j],\n",
       "        [ 0.+0.j, -1.+0.j, -0.+0.j, -0.+0.j],\n",
       "        [ 0.+0.j,  0.+0.j, -1.+0.j, -0.+0.j],\n",
       "        [ 0.+0.j, -0.+0.j, -0.+0.j, -1.+0.j]],\n",
       "\n",
       "       [[-1.+0.j,  0.+0.j,  0.+0.j,  0.+0.j],\n",
       "        [ 0.+0.j, -1.+0.j,  0.+0.j, -0.+0.j],\n",
       "        [ 0.+0.j, -0.+0.j, -1.+0.j,  0.+0.j],\n",
       "        [ 0.+0.j,  0.+0.j, -0.+0.j, -1.+0.j]],\n",
       "\n",
       "       [[-1.+0.j, -0.+0.j,  0.+0.j, -0.+0.j],\n",
       "        [ 0.+0.j, -1.+0.j, -0.+0.j,  0.+0.j],\n",
       "        [ 0.+0.j, -0.+0.j, -1.+0.j, -0.+0.j],\n",
       "        [-0.+0.j,  0.+0.j, -0.+0.j, -1.+0.j]],\n",
       "\n",
       "       [[-1.+0.j,  0.+0.j, -0.+0.j, -0.+0.j],\n",
       "        [-0.+0.j, -1.+0.j,  0.+0.j,  0.+0.j],\n",
       "        [ 0.+0.j,  0.+0.j, -1.+0.j, -0.+0.j],\n",
       "        [ 0.+0.j, -0.+0.j,  0.+0.j, -1.+0.j]],\n",
       "\n",
       "       [[-1.+0.j, -0.+0.j, -0.+0.j, -0.+0.j],\n",
       "        [ 0.+0.j, -1.+0.j,  0.+0.j, -0.+0.j],\n",
       "        [-0.+0.j, -0.+0.j, -1.+0.j,  0.+0.j],\n",
       "        [-0.+0.j,  0.+0.j, -0.+0.j, -1.+0.j]],\n",
       "\n",
       "       [[-1.+0.j,  0.+0.j, -0.+0.j,  0.+0.j],\n",
       "        [-0.+0.j, -1.+0.j,  0.+0.j,  0.+0.j],\n",
       "        [ 0.+0.j,  0.+0.j, -1.+0.j,  0.+0.j],\n",
       "        [-0.+0.j,  0.+0.j,  0.+0.j, -1.+0.j]],\n",
       "\n",
       "       [[-1.+0.j, -0.+0.j,  0.+0.j,  0.+0.j],\n",
       "        [ 0.+0.j, -1.+0.j,  0.+0.j,  0.+0.j],\n",
       "        [-0.+0.j, -0.+0.j, -1.+0.j, -0.+0.j],\n",
       "        [ 0.+0.j, -0.+0.j,  0.+0.j, -1.+0.j]],\n",
       "\n",
       "       [[-1.+0.j, -0.+0.j, -0.+0.j, -0.+0.j],\n",
       "        [-0.+0.j, -1.+0.j, -0.+0.j, -0.+0.j],\n",
       "        [-0.+0.j, -0.+0.j, -1.+0.j, -0.+0.j],\n",
       "        [-0.+0.j, -0.+0.j,  0.+0.j, -1.+0.j]],\n",
       "\n",
       "       [[-1.+0.j, -0.+0.j,  0.+0.j,  0.+0.j],\n",
       "        [ 0.+0.j, -1.+0.j,  0.+0.j, -0.+0.j],\n",
       "        [-0.+0.j,  0.+0.j, -1.+0.j, -0.+0.j],\n",
       "        [ 0.+0.j,  0.+0.j, -0.+0.j, -1.+0.j]],\n",
       "\n",
       "       [[-1.+0.j, -0.+0.j,  0.+0.j, -0.+0.j],\n",
       "        [-0.+0.j, -1.+0.j,  0.+0.j,  0.+0.j],\n",
       "        [-0.+0.j,  0.+0.j, -1.+0.j,  0.+0.j],\n",
       "        [-0.+0.j, -0.+0.j, -0.+0.j, -1.+0.j]],\n",
       "\n",
       "       [[-1.+0.j,  0.+0.j, -0.+0.j,  0.+0.j],\n",
       "        [ 0.+0.j, -1.+0.j,  0.+0.j, -0.+0.j],\n",
       "        [ 0.+0.j,  0.+0.j, -1.+0.j,  0.+0.j],\n",
       "        [-0.+0.j,  0.+0.j,  0.+0.j, -1.+0.j]],\n",
       "\n",
       "       [[-1.+0.j,  0.+0.j,  0.+0.j,  0.+0.j],\n",
       "        [ 0.+0.j, -1.+0.j, -0.+0.j, -0.+0.j],\n",
       "        [-0.+0.j, -0.+0.j, -1.+0.j,  0.+0.j],\n",
       "        [ 0.+0.j, -0.+0.j,  0.+0.j, -1.+0.j]],\n",
       "\n",
       "       [[-1.+0.j,  0.+0.j,  0.+0.j, -0.+0.j],\n",
       "        [ 0.+0.j, -1.+0.j, -0.+0.j, -0.+0.j],\n",
       "        [ 0.+0.j,  0.+0.j, -1.+0.j,  0.+0.j],\n",
       "        [ 0.+0.j, -0.+0.j,  0.+0.j, -1.+0.j]],\n",
       "\n",
       "       [[-1.+0.j, -0.+0.j,  0.+0.j, -0.+0.j],\n",
       "        [-0.+0.j, -1.+0.j,  0.+0.j, -0.+0.j],\n",
       "        [-0.+0.j, -0.+0.j, -1.+0.j,  0.+0.j],\n",
       "        [-0.+0.j,  0.+0.j, -0.+0.j, -1.+0.j]],\n",
       "\n",
       "       [[-1.+0.j, -0.+0.j,  0.+0.j,  0.+0.j],\n",
       "        [ 0.+0.j, -1.+0.j, -0.+0.j, -0.+0.j],\n",
       "        [-0.+0.j,  0.+0.j, -1.+0.j, -0.+0.j],\n",
       "        [-0.+0.j,  0.+0.j,  0.+0.j, -1.+0.j]],\n",
       "\n",
       "       [[-1.+0.j,  0.+0.j, -0.+0.j,  0.+0.j],\n",
       "        [-0.+0.j, -1.+0.j,  0.+0.j,  0.+0.j],\n",
       "        [ 0.+0.j, -0.+0.j, -1.+0.j, -0.+0.j],\n",
       "        [-0.+0.j, -0.+0.j,  0.+0.j, -1.+0.j]],\n",
       "\n",
       "       [[-1.+0.j,  0.+0.j,  0.+0.j, -0.+0.j],\n",
       "        [-0.+0.j, -1.+0.j, -0.+0.j,  0.+0.j],\n",
       "        [-0.+0.j,  0.+0.j, -1.+0.j, -0.+0.j],\n",
       "        [ 0.+0.j, -0.+0.j,  0.+0.j, -1.+0.j]],\n",
       "\n",
       "       [[-1.+0.j, -0.+0.j,  0.+0.j, -0.+0.j],\n",
       "        [-0.+0.j, -1.+0.j, -0.+0.j,  0.+0.j],\n",
       "        [-0.+0.j,  0.+0.j, -1.+0.j, -0.+0.j],\n",
       "        [ 0.+0.j, -0.+0.j, -0.+0.j, -1.+0.j]],\n",
       "\n",
       "       [[-1.+0.j,  0.+0.j,  0.+0.j, -0.+0.j],\n",
       "        [-0.+0.j, -1.+0.j,  0.+0.j,  0.+0.j],\n",
       "        [-0.+0.j, -0.+0.j, -1.+0.j,  0.+0.j],\n",
       "        [ 0.+0.j, -0.+0.j, -0.+0.j, -1.+0.j]],\n",
       "\n",
       "       [[-1.+0.j,  0.+0.j,  0.+0.j,  0.+0.j],\n",
       "        [-0.+0.j, -1.+0.j, -0.+0.j,  0.+0.j],\n",
       "        [-0.+0.j,  0.+0.j, -1.+0.j,  0.+0.j],\n",
       "        [-0.+0.j, -0.+0.j, -0.+0.j, -1.+0.j]],\n",
       "\n",
       "       [[-1.+0.j,  0.+0.j,  0.+0.j,  0.+0.j],\n",
       "        [-0.+0.j, -1.+0.j, -0.+0.j,  0.+0.j],\n",
       "        [-0.+0.j,  0.+0.j, -1.+0.j,  0.+0.j],\n",
       "        [-0.+0.j, -0.+0.j, -0.+0.j, -1.+0.j]]])"
      ]
     },
     "execution_count": 167,
     "metadata": {},
     "output_type": "execute_result"
    }
   ],
   "source": [
    "unitaries_array[:, 0]"
   ]
  },
  {
   "cell_type": "code",
   "execution_count": 168,
   "id": "b5b23584-a3cd-466e-b50d-ae5feea6d284",
   "metadata": {},
   "outputs": [
    {
     "data": {
      "text/plain": [
       "array([[[-1.   +0.j,  0.   +0.j,  0.   +0.j, -0.   +0.j],\n",
       "        [-0.   +0.j, -1.   +0.j, -0.   +0.j,  0.   +0.j],\n",
       "        [ 0.   +0.j, -0.   +0.j,  1.   +0.j,  0.   +0.j],\n",
       "        [-0.   +0.j,  0.   +0.j, -0.   +0.j,  1.   +0.j]],\n",
       "\n",
       "       [[ 1.   +0.j,  0.   +0.j,  0.   +0.j, -0.   +0.j],\n",
       "        [-0.   +0.j,  1.   +0.j,  0.   +0.j, -0.   +0.j],\n",
       "        [ 0.   +0.j,  0.   +0.j, -1.   +0.j,  0.   +0.j],\n",
       "        [-0.   +0.j, -0.   +0.j, -0.   +0.j, -1.   +0.j]],\n",
       "\n",
       "       [[ 1.   +0.j, -0.   +0.j, -0.   +0.j, -0.   +0.j],\n",
       "        [ 0.   +0.j,  1.   +0.j, -0.   +0.j,  0.   +0.j],\n",
       "        [-0.   +0.j, -0.   +0.j, -1.   +0.j, -0.   +0.j],\n",
       "        [-0.   +0.j,  0.   +0.j, -0.   +0.j, -1.   +0.j]],\n",
       "\n",
       "       [[-1.   +0.j, -0.   +0.j, -0.   +0.j, -0.   +0.j],\n",
       "        [ 0.   +0.j, -1.   +0.j, -0.   +0.j, -0.   +0.j],\n",
       "        [-0.   +0.j, -0.   +0.j,  1.   +0.j, -0.   +0.j],\n",
       "        [-0.   +0.j, -0.   +0.j, -0.   +0.j,  1.   +0.j]],\n",
       "\n",
       "       [[ 1.   +0.j,  0.   +0.j, -0.   +0.j, -0.   +0.j],\n",
       "        [-0.   +0.j,  1.   +0.j, -0.   +0.j, -0.   +0.j],\n",
       "        [-0.   +0.j, -0.   +0.j, -1.   +0.j,  0.   +0.j],\n",
       "        [-0.   +0.j, -0.   +0.j,  0.   +0.j, -1.   +0.j]],\n",
       "\n",
       "       [[ 1.   +0.j,  0.   +0.j, -0.   +0.j, -0.   +0.j],\n",
       "        [-0.   +0.j,  1.   +0.j, -0.   +0.j, -0.   +0.j],\n",
       "        [-0.   +0.j, -0.   +0.j, -1.   +0.j,  0.   +0.j],\n",
       "        [-0.   +0.j, -0.   +0.j, -0.   +0.j, -1.   +0.j]],\n",
       "\n",
       "       [[-1.   +0.j,  0.   +0.j,  0.   +0.j,  0.   +0.j],\n",
       "        [-0.   +0.j, -1.   +0.j,  0.   +0.j,  0.   +0.j],\n",
       "        [ 0.   +0.j,  0.   +0.j,  1.   +0.j,  0.   +0.j],\n",
       "        [ 0.   +0.j,  0.   +0.j, -0.   +0.j,  1.   +0.j]],\n",
       "\n",
       "       [[ 1.   +0.j,  0.   +0.j,  0.   +0.j,  0.   +0.j],\n",
       "        [-0.   +0.j,  1.   +0.j,  0.   +0.j,  0.   +0.j],\n",
       "        [ 0.   +0.j,  0.   +0.j, -1.   +0.j,  0.   +0.j],\n",
       "        [ 0.   +0.j,  0.   +0.j, -0.   +0.j, -1.   +0.j]],\n",
       "\n",
       "       [[ 1.   +0.j, -0.   +0.j, -0.   +0.j, -0.   +0.j],\n",
       "        [-0.   +0.j,  1.   +0.j, -0.   +0.j, -0.   +0.j],\n",
       "        [-0.   +0.j, -0.   +0.j, -1.   +0.j,  0.   +0.j],\n",
       "        [-0.   +0.j, -0.   +0.j,  0.   +0.j, -1.   +0.j]],\n",
       "\n",
       "       [[ 1.   +0.j, -0.   +0.j, -0.   +0.j, -0.   +0.j],\n",
       "        [-0.   +0.j,  1.   +0.j, -0.   +0.j, -0.   +0.j],\n",
       "        [-0.   +0.j, -0.   +0.j, -1.   +0.j,  0.   +0.j],\n",
       "        [-0.   +0.j, -0.   +0.j,  0.   +0.j, -1.   +0.j]],\n",
       "\n",
       "       [[-0.924+0.j,  0.04 +0.j, -0.302+0.j, -0.229+0.j],\n",
       "        [ 0.04 +0.j, -0.978+0.j, -0.181+0.j, -0.092+0.j],\n",
       "        [-0.302+0.j, -0.181+0.j,  0.935+0.j, -0.045+0.j],\n",
       "        [-0.229+0.j, -0.092+0.j, -0.045+0.j,  0.968+0.j]],\n",
       "\n",
       "       [[-1.   +0.j,  0.   +0.j,  0.   +0.j, -0.   +0.j],\n",
       "        [ 0.   +0.j, -1.   +0.j, -0.   +0.j,  0.   +0.j],\n",
       "        [-0.   +0.j,  0.   +0.j, -1.   +0.j, -0.   +0.j],\n",
       "        [ 0.   +0.j, -0.   +0.j, -0.   +0.j, -1.   +0.j]],\n",
       "\n",
       "       [[-0.5  +0.j, -0.5  +0.j, -0.5  +0.j,  0.5  +0.j],\n",
       "        [-0.5  +0.j, -0.5  +0.j,  0.5  +0.j, -0.5  +0.j],\n",
       "        [-0.5  +0.j,  0.5  +0.j, -0.5  +0.j, -0.5  +0.j],\n",
       "        [ 0.5  +0.j, -0.5  +0.j, -0.5  +0.j, -0.5  +0.j]],\n",
       "\n",
       "       [[-0.5  +0.j, -0.5  +0.j, -0.5  +0.j,  0.5  +0.j],\n",
       "        [-0.5  +0.j, -0.5  +0.j,  0.5  +0.j, -0.5  +0.j],\n",
       "        [-0.5  +0.j,  0.5  +0.j, -0.5  +0.j, -0.5  +0.j],\n",
       "        [ 0.5  +0.j, -0.5  +0.j, -0.5  +0.j, -0.5  +0.j]],\n",
       "\n",
       "       [[-0.5  +0.j, -0.5  +0.j, -0.5  +0.j,  0.5  +0.j],\n",
       "        [-0.5  +0.j, -0.5  +0.j,  0.5  +0.j, -0.5  +0.j],\n",
       "        [-0.5  +0.j,  0.5  +0.j, -0.5  +0.j, -0.5  +0.j],\n",
       "        [ 0.5  +0.j, -0.5  +0.j, -0.5  +0.j, -0.5  +0.j]],\n",
       "\n",
       "       [[-0.5  +0.j, -0.5  +0.j, -0.5  +0.j,  0.5  +0.j],\n",
       "        [-0.5  +0.j, -0.5  +0.j,  0.5  +0.j, -0.5  +0.j],\n",
       "        [-0.5  +0.j,  0.5  +0.j, -0.5  +0.j, -0.5  +0.j],\n",
       "        [ 0.5  +0.j, -0.5  +0.j, -0.5  +0.j, -0.5  +0.j]],\n",
       "\n",
       "       [[-0.5  +0.j, -0.5  +0.j, -0.5  +0.j,  0.5  +0.j],\n",
       "        [-0.5  +0.j, -0.5  +0.j,  0.5  +0.j, -0.5  +0.j],\n",
       "        [-0.5  +0.j,  0.5  +0.j, -0.5  +0.j, -0.5  +0.j],\n",
       "        [ 0.5  +0.j, -0.5  +0.j, -0.5  +0.j, -0.5  +0.j]],\n",
       "\n",
       "       [[-0.5  +0.j, -0.5  +0.j, -0.5  +0.j,  0.5  +0.j],\n",
       "        [-0.5  +0.j, -0.5  +0.j,  0.5  +0.j, -0.5  +0.j],\n",
       "        [-0.5  +0.j,  0.5  +0.j, -0.5  +0.j, -0.5  +0.j],\n",
       "        [ 0.5  +0.j, -0.5  +0.j, -0.5  +0.j, -0.5  +0.j]],\n",
       "\n",
       "       [[-0.5  +0.j, -0.5  +0.j, -0.5  +0.j,  0.5  +0.j],\n",
       "        [-0.5  +0.j, -0.5  +0.j,  0.5  +0.j, -0.5  +0.j],\n",
       "        [-0.5  +0.j,  0.5  +0.j, -0.5  +0.j, -0.5  +0.j],\n",
       "        [ 0.5  +0.j, -0.5  +0.j, -0.5  +0.j, -0.5  +0.j]],\n",
       "\n",
       "       [[-0.5  +0.j, -0.5  +0.j, -0.5  +0.j,  0.5  +0.j],\n",
       "        [-0.5  +0.j, -0.5  +0.j,  0.5  +0.j, -0.5  +0.j],\n",
       "        [-0.5  +0.j,  0.5  +0.j, -0.5  +0.j, -0.5  +0.j],\n",
       "        [ 0.5  +0.j, -0.5  +0.j, -0.5  +0.j, -0.5  +0.j]],\n",
       "\n",
       "       [[-0.5  +0.j, -0.5  +0.j, -0.5  +0.j,  0.5  +0.j],\n",
       "        [-0.5  +0.j, -0.5  +0.j,  0.5  +0.j, -0.5  +0.j],\n",
       "        [-0.5  +0.j,  0.5  +0.j, -0.5  +0.j, -0.5  +0.j],\n",
       "        [ 0.5  +0.j, -0.5  +0.j, -0.5  +0.j, -0.5  +0.j]]])"
      ]
     },
     "execution_count": 168,
     "metadata": {},
     "output_type": "execute_result"
    }
   ],
   "source": [
    "unitaries_array[:, 1]"
   ]
  },
  {
   "cell_type": "markdown",
   "id": "b7c5c757-7456-4710-97f5-1bf12b6f9317",
   "metadata": {},
   "source": [
    "Split unitaries across both sites."
   ]
  },
  {
   "cell_type": "code",
   "execution_count": 172,
   "id": "016b2b30-1097-41c0-a8f6-443d2c3b142e",
   "metadata": {},
   "outputs": [
    {
     "data": {
      "text/plain": [
       "[[<npc.Array shape=(4, 4) labels=['p', 'p*']>,\n",
       "  <npc.Array shape=(4, 4) labels=['p', 'p*']>,\n",
       "  <npc.Array shape=(4, 4) labels=['p', 'p*']>,\n",
       "  <npc.Array shape=(4, 4) labels=['p', 'p*']>],\n",
       " [<npc.Array shape=(4, 4) labels=['p', 'p*']>,\n",
       "  <npc.Array shape=(4, 4) labels=['p', 'p*']>,\n",
       "  <npc.Array shape=(4, 4) labels=['p', 'p*']>,\n",
       "  <npc.Array shape=(4, 4) labels=['p', 'p*']>],\n",
       " [<npc.Array shape=(4, 4) labels=['p', 'p*']>,\n",
       "  <npc.Array shape=(4, 4) labels=['p', 'p*']>,\n",
       "  <npc.Array shape=(4, 4) labels=['p', 'p*']>,\n",
       "  <npc.Array shape=(4, 4) labels=['p', 'p*']>],\n",
       " [<npc.Array shape=(4, 4) labels=['p', 'p*']>,\n",
       "  <npc.Array shape=(4, 4) labels=['p', 'p*']>,\n",
       "  <npc.Array shape=(4, 4) labels=['p', 'p*']>,\n",
       "  <npc.Array shape=(4, 4) labels=['p', 'p*']>],\n",
       " [<npc.Array shape=(4, 4) labels=['p', 'p*']>,\n",
       "  <npc.Array shape=(4, 4) labels=['p', 'p*']>,\n",
       "  <npc.Array shape=(4, 4) labels=['p', 'p*']>,\n",
       "  <npc.Array shape=(4, 4) labels=['p', 'p*']>],\n",
       " [<npc.Array shape=(4, 4) labels=['p', 'p*']>,\n",
       "  <npc.Array shape=(4, 4) labels=['p', 'p*']>,\n",
       "  <npc.Array shape=(4, 4) labels=['p', 'p*']>,\n",
       "  <npc.Array shape=(4, 4) labels=['p', 'p*']>],\n",
       " [<npc.Array shape=(4, 4) labels=['p', 'p*']>,\n",
       "  <npc.Array shape=(4, 4) labels=['p', 'p*']>,\n",
       "  <npc.Array shape=(4, 4) labels=['p', 'p*']>,\n",
       "  <npc.Array shape=(4, 4) labels=['p', 'p*']>],\n",
       " [<npc.Array shape=(4, 4) labels=['p', 'p*']>,\n",
       "  <npc.Array shape=(4, 4) labels=['p', 'p*']>,\n",
       "  <npc.Array shape=(4, 4) labels=['p', 'p*']>,\n",
       "  <npc.Array shape=(4, 4) labels=['p', 'p*']>],\n",
       " [<npc.Array shape=(4, 4) labels=['p', 'p*']>,\n",
       "  <npc.Array shape=(4, 4) labels=['p', 'p*']>,\n",
       "  <npc.Array shape=(4, 4) labels=['p', 'p*']>,\n",
       "  <npc.Array shape=(4, 4) labels=['p', 'p*']>],\n",
       " [<npc.Array shape=(4, 4) labels=['p', 'p*']>,\n",
       "  <npc.Array shape=(4, 4) labels=['p', 'p*']>,\n",
       "  <npc.Array shape=(4, 4) labels=['p', 'p*']>,\n",
       "  <npc.Array shape=(4, 4) labels=['p', 'p*']>],\n",
       " [<npc.Array shape=(4, 4) labels=['p', 'p*']>,\n",
       "  <npc.Array shape=(4, 4) labels=['p', 'p*']>,\n",
       "  <npc.Array shape=(4, 4) labels=['p', 'p*']>,\n",
       "  <npc.Array shape=(4, 4) labels=['p', 'p*']>],\n",
       " [<npc.Array shape=(4, 4) labels=['p', 'p*']>,\n",
       "  <npc.Array shape=(4, 4) labels=['p', 'p*']>,\n",
       "  <npc.Array shape=(4, 4) labels=['p', 'p*']>,\n",
       "  <npc.Array shape=(4, 4) labels=['p', 'p*']>],\n",
       " [<npc.Array shape=(4, 4) labels=['p', 'p*']>,\n",
       "  <npc.Array shape=(4, 4) labels=['p', 'p*']>,\n",
       "  <npc.Array shape=(4, 4) labels=['p', 'p*']>,\n",
       "  <npc.Array shape=(4, 4) labels=['p', 'p*']>],\n",
       " [<npc.Array shape=(4, 4) labels=['p', 'p*']>,\n",
       "  <npc.Array shape=(4, 4) labels=['p', 'p*']>,\n",
       "  <npc.Array shape=(4, 4) labels=['p', 'p*']>,\n",
       "  <npc.Array shape=(4, 4) labels=['p', 'p*']>],\n",
       " [<npc.Array shape=(4, 4) labels=['p', 'p*']>,\n",
       "  <npc.Array shape=(4, 4) labels=['p', 'p*']>,\n",
       "  <npc.Array shape=(4, 4) labels=['p', 'p*']>,\n",
       "  <npc.Array shape=(4, 4) labels=['p', 'p*']>],\n",
       " [<npc.Array shape=(4, 4) labels=['p', 'p*']>,\n",
       "  <npc.Array shape=(4, 4) labels=['p', 'p*']>,\n",
       "  <npc.Array shape=(4, 4) labels=['p', 'p*']>,\n",
       "  <npc.Array shape=(4, 4) labels=['p', 'p*']>],\n",
       " [<npc.Array shape=(4, 4) labels=['p', 'p*']>,\n",
       "  <npc.Array shape=(4, 4) labels=['p', 'p*']>,\n",
       "  <npc.Array shape=(4, 4) labels=['p', 'p*']>,\n",
       "  <npc.Array shape=(4, 4) labels=['p', 'p*']>],\n",
       " [<npc.Array shape=(4, 4) labels=['p', 'p*']>,\n",
       "  <npc.Array shape=(4, 4) labels=['p', 'p*']>,\n",
       "  <npc.Array shape=(4, 4) labels=['p', 'p*']>,\n",
       "  <npc.Array shape=(4, 4) labels=['p', 'p*']>],\n",
       " [<npc.Array shape=(4, 4) labels=['p', 'p*']>,\n",
       "  <npc.Array shape=(4, 4) labels=['p', 'p*']>,\n",
       "  <npc.Array shape=(4, 4) labels=['p', 'p*']>,\n",
       "  <npc.Array shape=(4, 4) labels=['p', 'p*']>],\n",
       " [<npc.Array shape=(4, 4) labels=['p', 'p*']>,\n",
       "  <npc.Array shape=(4, 4) labels=['p', 'p*']>,\n",
       "  <npc.Array shape=(4, 4) labels=['p', 'p*']>,\n",
       "  <npc.Array shape=(4, 4) labels=['p', 'p*']>],\n",
       " [<npc.Array shape=(4, 4) labels=['p', 'p*']>,\n",
       "  <npc.Array shape=(4, 4) labels=['p', 'p*']>,\n",
       "  <npc.Array shape=(4, 4) labels=['p', 'p*']>,\n",
       "  <npc.Array shape=(4, 4) labels=['p', 'p*']>]]"
      ]
     },
     "execution_count": 172,
     "metadata": {},
     "output_type": "execute_result"
    }
   ],
   "source": [
    "unitaries"
   ]
  },
  {
   "cell_type": "code",
   "execution_count": 173,
   "id": "9a81981a-663b-4044-8002-16dc2354f4e2",
   "metadata": {},
   "outputs": [],
   "source": [
    "test_u = unitaries[0][0]"
   ]
  },
  {
   "cell_type": "code",
   "execution_count": 174,
   "id": "4b6f3c60-d41f-47a2-87a7-1ea93be284ad",
   "metadata": {},
   "outputs": [
    {
     "data": {
      "text/plain": [
       "<npc.Array shape=(4, 4) labels=['p', 'p*']>"
      ]
     },
     "execution_count": 174,
     "metadata": {},
     "output_type": "execute_result"
    }
   ],
   "source": [
    "test_u"
   ]
  },
  {
   "cell_type": "markdown",
   "id": "8245c736-bf05-4b8f-99d8-885ab914ab67",
   "metadata": {},
   "source": [
    "Resolve unitary as tensor product."
   ]
  },
  {
   "cell_type": "code",
   "execution_count": 197,
   "id": "1df87372-8553-4c94-9ade-c5554dd54bd9",
   "metadata": {},
   "outputs": [],
   "source": [
    "lr_u = (\n",
    "    test_u\n",
    "    .replace_labels(['p', 'p*'], ['(p1.p2)', '(p1*.p2*)'])\n",
    "    .split_legs()\n",
    "    .combine_legs([['p1', 'p1*'], ['p2', 'p2*']])\n",
    ")"
   ]
  },
  {
   "cell_type": "code",
   "execution_count": 200,
   "id": "312cd8d2-3f72-4c51-80a9-94fa04db861b",
   "metadata": {},
   "outputs": [],
   "source": [
    "U, S, VH = npc.svd(lr_u, compute_uv=True, inner_labels=['vR', 'vL'])"
   ]
  },
  {
   "cell_type": "code",
   "execution_count": 201,
   "id": "16b8344a-5b77-4421-b2c7-739587cc2e09",
   "metadata": {},
   "outputs": [
    {
     "data": {
      "text/plain": [
       "array([2.00000000e+00, 2.37050762e-15, 2.07554832e-15, 7.61742333e-17])"
      ]
     },
     "execution_count": 201,
     "metadata": {},
     "output_type": "execute_result"
    }
   ],
   "source": [
    "S"
   ]
  },
  {
   "cell_type": "code",
   "execution_count": 206,
   "id": "f3dc659f-648b-4f74-ac01-9ff14fee251c",
   "metadata": {},
   "outputs": [
    {
     "data": {
      "text/plain": [
       "array([[-7.07106781e-01+0.j, -8.66042068e-17+0.j],\n",
       "       [ 7.88492690e-17+0.j, -7.07106781e-01+0.j]])"
      ]
     },
     "execution_count": 206,
     "metadata": {},
     "output_type": "execute_result"
    }
   ],
   "source": [
    "U[:,0].split_legs().to_ndarray()"
   ]
  },
  {
   "cell_type": "code",
   "execution_count": 209,
   "id": "c4ac7240-f030-4f3c-965f-d33dcdef71d1",
   "metadata": {},
   "outputs": [
    {
     "data": {
      "text/plain": [
       "array([[ 7.07106781e-01+0.j,  4.71027738e-16+0.j],\n",
       "       [-3.85109171e-16+0.j,  7.07106781e-01+0.j]])"
      ]
     },
     "execution_count": 209,
     "metadata": {},
     "output_type": "execute_result"
    }
   ],
   "source": [
    "VH[0].split_legs().to_ndarray()"
   ]
  },
  {
   "cell_type": "code",
   "execution_count": 210,
   "id": "1a3ae567-8f43-49ee-bc58-76ed0809cc33",
   "metadata": {},
   "outputs": [],
   "source": [
    "test_u = unitaries[0][1]"
   ]
  },
  {
   "cell_type": "code",
   "execution_count": 211,
   "id": "5d2a0683-f92c-48b4-88fd-ef5374700e74",
   "metadata": {},
   "outputs": [
    {
     "data": {
      "text/plain": [
       "<npc.Array shape=(4, 4) labels=['p', 'p*']>"
      ]
     },
     "execution_count": 211,
     "metadata": {},
     "output_type": "execute_result"
    }
   ],
   "source": [
    "test_u"
   ]
  },
  {
   "cell_type": "markdown",
   "id": "466c491f-0ac0-4f4f-b89d-95ea6418fe32",
   "metadata": {},
   "source": [
    "Resolve unitary as tensor product."
   ]
  },
  {
   "cell_type": "code",
   "execution_count": 212,
   "id": "1cea016a-4fbe-4d2d-974b-2abce00e3d57",
   "metadata": {},
   "outputs": [],
   "source": [
    "lr_u = (\n",
    "    test_u\n",
    "    .replace_labels(['p', 'p*'], ['(p1.p2)', '(p1*.p2*)'])\n",
    "    .split_legs()\n",
    "    .combine_legs([['p1', 'p1*'], ['p2', 'p2*']])\n",
    ")"
   ]
  },
  {
   "cell_type": "code",
   "execution_count": 213,
   "id": "a2807139-158e-417d-9ae3-e4563799e3e1",
   "metadata": {},
   "outputs": [],
   "source": [
    "U, S, VH = npc.svd(lr_u, compute_uv=True, inner_labels=['vR', 'vL'])"
   ]
  },
  {
   "cell_type": "code",
   "execution_count": 214,
   "id": "fceeae13-0be9-436d-bbf2-79c520b970c5",
   "metadata": {},
   "outputs": [
    {
     "data": {
      "text/plain": [
       "array([2.00000000e+00, 1.14920473e-14, 2.72124160e-16, 6.73463545e-17])"
      ]
     },
     "execution_count": 214,
     "metadata": {},
     "output_type": "execute_result"
    }
   ],
   "source": [
    "S"
   ]
  },
  {
   "cell_type": "code",
   "execution_count": 215,
   "id": "c5a6103c-f904-4beb-aa49-337991693283",
   "metadata": {},
   "outputs": [
    {
     "data": {
      "text/plain": [
       "array([[-7.07106781e-01+0.j,  5.14223686e-15+0.j],\n",
       "       [ 5.14224922e-15+0.j,  7.07106781e-01+0.j]])"
      ]
     },
     "execution_count": 215,
     "metadata": {},
     "output_type": "execute_result"
    }
   ],
   "source": [
    "U[:,0].split_legs().to_ndarray()"
   ]
  },
  {
   "cell_type": "code",
   "execution_count": 216,
   "id": "da04c499-7369-4955-848d-bf1a67e099a6",
   "metadata": {},
   "outputs": [
    {
     "data": {
      "text/plain": [
       "array([[ 7.07106781e-01+0.j,  0.00000000e+00+0.j],\n",
       "       [-3.43795041e-18+0.j,  7.07106781e-01+0.j]])"
      ]
     },
     "execution_count": 216,
     "metadata": {},
     "output_type": "execute_result"
    }
   ],
   "source": [
    "VH[0].split_legs().to_ndarray()"
   ]
  },
  {
   "cell_type": "code",
   "execution_count": 217,
   "id": "f83dd7e3-bc3c-4c6a-936f-2d412c985b4c",
   "metadata": {},
   "outputs": [],
   "source": [
    "test_u = unitaries[0][2]"
   ]
  },
  {
   "cell_type": "code",
   "execution_count": 218,
   "id": "2a9e43a1-a8c9-452b-b6e0-9ffa069ffafc",
   "metadata": {},
   "outputs": [
    {
     "data": {
      "text/plain": [
       "<npc.Array shape=(4, 4) labels=['p', 'p*']>"
      ]
     },
     "execution_count": 218,
     "metadata": {},
     "output_type": "execute_result"
    }
   ],
   "source": [
    "test_u"
   ]
  },
  {
   "cell_type": "markdown",
   "id": "bfdc0af1-5cc3-4537-a488-0c27d0d7e424",
   "metadata": {},
   "source": [
    "Resolve unitary as tensor product."
   ]
  },
  {
   "cell_type": "code",
   "execution_count": 219,
   "id": "81d9ed2b-b186-4819-9795-6e2bb1e0aa84",
   "metadata": {},
   "outputs": [],
   "source": [
    "lr_u = (\n",
    "    test_u\n",
    "    .replace_labels(['p', 'p*'], ['(p1.p2)', '(p1*.p2*)'])\n",
    "    .split_legs()\n",
    "    .combine_legs([['p1', 'p1*'], ['p2', 'p2*']])\n",
    ")"
   ]
  },
  {
   "cell_type": "code",
   "execution_count": 220,
   "id": "c745d475-62cc-44b9-8883-6c672ca4d0e3",
   "metadata": {},
   "outputs": [],
   "source": [
    "U, S, VH = npc.svd(lr_u, compute_uv=True, inner_labels=['vR', 'vL'])"
   ]
  },
  {
   "cell_type": "code",
   "execution_count": 221,
   "id": "19554e04-d43f-4bca-b4d3-4453df9c6252",
   "metadata": {},
   "outputs": [
    {
     "data": {
      "text/plain": [
       "array([2.00000000e+00, 1.25543229e-14, 4.92146389e-15, 1.95362971e-17])"
      ]
     },
     "execution_count": 221,
     "metadata": {},
     "output_type": "execute_result"
    }
   ],
   "source": [
    "S"
   ]
  },
  {
   "cell_type": "code",
   "execution_count": 222,
   "id": "22a0d195-37e9-4574-8a5b-92c40b0930f8",
   "metadata": {},
   "outputs": [
    {
     "data": {
      "text/plain": [
       "array([[-5.32907052e-15+0.j, -7.07106781e-01+0.j],\n",
       "       [-7.07106781e-01+0.j,  5.48541820e-15+0.j]])"
      ]
     },
     "execution_count": 222,
     "metadata": {},
     "output_type": "execute_result"
    }
   ],
   "source": [
    "U[:,0].split_legs().to_ndarray()"
   ]
  },
  {
   "cell_type": "code",
   "execution_count": 223,
   "id": "c581b90b-c6d6-4e37-899b-a430e31914fd",
   "metadata": {},
   "outputs": [
    {
     "data": {
      "text/plain": [
       "array([[-7.07106781e-01+0.j,  4.39625888e-15+0.j],\n",
       "       [ 4.27540851e-15+0.j,  7.07106781e-01+0.j]])"
      ]
     },
     "execution_count": 223,
     "metadata": {},
     "output_type": "execute_result"
    }
   ],
   "source": [
    "VH[0].split_legs().to_ndarray()"
   ]
  },
  {
   "cell_type": "code",
   "execution_count": 224,
   "id": "ccefbd4b-fe24-4f23-9496-8fda675c2d85",
   "metadata": {},
   "outputs": [],
   "source": [
    "test_u = unitaries[0][3]"
   ]
  },
  {
   "cell_type": "code",
   "execution_count": 225,
   "id": "5c0b9fa5-6040-436c-9aea-bbe835c46529",
   "metadata": {},
   "outputs": [
    {
     "data": {
      "text/plain": [
       "<npc.Array shape=(4, 4) labels=['p', 'p*']>"
      ]
     },
     "execution_count": 225,
     "metadata": {},
     "output_type": "execute_result"
    }
   ],
   "source": [
    "test_u"
   ]
  },
  {
   "cell_type": "markdown",
   "id": "a9562798-2151-4104-9483-0ca6b3f9a66d",
   "metadata": {},
   "source": [
    "Resolve unitary as tensor product."
   ]
  },
  {
   "cell_type": "code",
   "execution_count": 226,
   "id": "934d6ccc-bb4c-42d8-ac2c-a37d79d95115",
   "metadata": {},
   "outputs": [],
   "source": [
    "lr_u = (\n",
    "    test_u\n",
    "    .replace_labels(['p', 'p*'], ['(p1.p2)', '(p1*.p2*)'])\n",
    "    .split_legs()\n",
    "    .combine_legs([['p1', 'p1*'], ['p2', 'p2*']])\n",
    ")"
   ]
  },
  {
   "cell_type": "code",
   "execution_count": 227,
   "id": "22ce7502-7713-4924-9e99-df63d5109a95",
   "metadata": {},
   "outputs": [],
   "source": [
    "U, S, VH = npc.svd(lr_u, compute_uv=True, inner_labels=['vR', 'vL'])"
   ]
  },
  {
   "cell_type": "code",
   "execution_count": 228,
   "id": "2cd2579d-d567-4f86-9e1b-0ef3fb619579",
   "metadata": {},
   "outputs": [
    {
     "data": {
      "text/plain": [
       "array([2.00000000e+00, 1.80494425e-16, 2.21086478e-17, 7.83543973e-19])"
      ]
     },
     "execution_count": 228,
     "metadata": {},
     "output_type": "execute_result"
    }
   ],
   "source": [
    "S"
   ]
  },
  {
   "cell_type": "code",
   "execution_count": 229,
   "id": "9dc42b16-2565-42a0-bd84-8876a75ece73",
   "metadata": {},
   "outputs": [
    {
     "data": {
      "text/plain": [
       "array([[ 0.00000000e+00+0.j,  7.07106781e-01+0.j],\n",
       "       [-7.07106781e-01+0.j,  2.22170314e-18+0.j]])"
      ]
     },
     "execution_count": 229,
     "metadata": {},
     "output_type": "execute_result"
    }
   ],
   "source": [
    "U[:,0].split_legs().to_ndarray()"
   ]
  },
  {
   "cell_type": "code",
   "execution_count": 230,
   "id": "de15b52c-0175-43cb-a874-8900d6c80c58",
   "metadata": {},
   "outputs": [
    {
     "data": {
      "text/plain": [
       "array([[-7.07106781e-01+0.j,  3.61121265e-15+0.j],\n",
       "       [ 3.48269223e-15+0.j,  7.07106781e-01+0.j]])"
      ]
     },
     "execution_count": 230,
     "metadata": {},
     "output_type": "execute_result"
    }
   ],
   "source": [
    "VH[0].split_legs().to_ndarray()"
   ]
  },
  {
   "cell_type": "markdown",
   "id": "0a6a9fc3-74da-4673-8fea-e22a7432c322",
   "metadata": {},
   "source": [
    "Same, but increase B"
   ]
  },
  {
   "cell_type": "code",
   "execution_count": 231,
   "id": "3218f59e-62ff-4458-b718-f4611064d945",
   "metadata": {},
   "outputs": [],
   "source": [
    "test_u = unitaries[9][0]"
   ]
  },
  {
   "cell_type": "code",
   "execution_count": 232,
   "id": "e395ab69-f9cb-402e-9406-599d44c08aa0",
   "metadata": {},
   "outputs": [
    {
     "data": {
      "text/plain": [
       "<npc.Array shape=(4, 4) labels=['p', 'p*']>"
      ]
     },
     "execution_count": 232,
     "metadata": {},
     "output_type": "execute_result"
    }
   ],
   "source": [
    "test_u"
   ]
  },
  {
   "cell_type": "markdown",
   "id": "a4122084-2a82-4911-be5f-4e8bbda2ea8b",
   "metadata": {},
   "source": [
    "Resolve unitary as tensor product."
   ]
  },
  {
   "cell_type": "code",
   "execution_count": 233,
   "id": "3f76d95f-fdf1-4738-8b7b-fbf52f970dee",
   "metadata": {},
   "outputs": [],
   "source": [
    "lr_u = (\n",
    "    test_u\n",
    "    .replace_labels(['p', 'p*'], ['(p1.p2)', '(p1*.p2*)'])\n",
    "    .split_legs()\n",
    "    .combine_legs([['p1', 'p1*'], ['p2', 'p2*']])\n",
    ")"
   ]
  },
  {
   "cell_type": "code",
   "execution_count": 234,
   "id": "bae13b03-7f2c-42b9-8ba6-36fc6144d860",
   "metadata": {},
   "outputs": [],
   "source": [
    "U, S, VH = npc.svd(lr_u, compute_uv=True, inner_labels=['vR', 'vL'])"
   ]
  },
  {
   "cell_type": "code",
   "execution_count": 235,
   "id": "77fab774-1520-4f58-8e24-adee0ae9bdaa",
   "metadata": {},
   "outputs": [
    {
     "data": {
      "text/plain": [
       "array([2.00000000e+00, 4.82573142e-16, 1.37863921e-16, 6.39856144e-17])"
      ]
     },
     "execution_count": 235,
     "metadata": {},
     "output_type": "execute_result"
    }
   ],
   "source": [
    "S"
   ]
  },
  {
   "cell_type": "code",
   "execution_count": 236,
   "id": "62910c7c-87b2-48c2-9f50-c6663dc79c00",
   "metadata": {},
   "outputs": [
    {
     "data": {
      "text/plain": [
       "array([[-7.07106781e-01+0.j,  1.56164355e-16+0.j],\n",
       "       [-1.57957857e-16+0.j, -7.07106781e-01+0.j]])"
      ]
     },
     "execution_count": 236,
     "metadata": {},
     "output_type": "execute_result"
    }
   ],
   "source": [
    "U[:,0].split_legs().to_ndarray()"
   ]
  },
  {
   "cell_type": "code",
   "execution_count": 237,
   "id": "574c410a-1687-4d38-8802-3771172a8735",
   "metadata": {},
   "outputs": [
    {
     "data": {
      "text/plain": [
       "array([[7.07106781e-01+0.j, 0.00000000e+00+0.j],\n",
       "       [2.72009154e-17+0.j, 7.07106781e-01+0.j]])"
      ]
     },
     "execution_count": 237,
     "metadata": {},
     "output_type": "execute_result"
    }
   ],
   "source": [
    "VH[0].split_legs().to_ndarray()"
   ]
  },
  {
   "cell_type": "code",
   "execution_count": 273,
   "id": "49eaaef1-4c04-4439-8190-23ff0777bceb",
   "metadata": {},
   "outputs": [
    {
     "data": {
      "text/plain": [
       "array([[-1.+0.j, -0.+0.j,  0.+0.j, -0.+0.j,  0.+0.j,  0.+0.j,  0.+0.j,\n",
       "        -0.+0.j],\n",
       "       [-0.+0.j, -1.+0.j, -0.+0.j,  0.+0.j, -0.+0.j, -0.+0.j, -0.+0.j,\n",
       "        -0.+0.j],\n",
       "       [ 0.+0.j, -0.+0.j, -0.+0.j, -0.+0.j, -0.+0.j, -0.+0.j, -0.+0.j,\n",
       "         0.+0.j],\n",
       "       [-0.+0.j,  0.+0.j, -0.+0.j, -0.+0.j,  0.+0.j,  0.+0.j, -0.+0.j,\n",
       "         0.+0.j],\n",
       "       [ 0.+0.j, -0.+0.j, -0.+0.j,  0.+0.j, -0.+0.j,  0.+0.j,  0.+0.j,\n",
       "        -0.+0.j],\n",
       "       [ 0.+0.j, -0.+0.j, -0.+0.j,  0.+0.j,  0.+0.j, -0.+0.j, -0.+0.j,\n",
       "         0.+0.j],\n",
       "       [ 0.+0.j, -0.+0.j, -0.+0.j, -0.+0.j,  0.+0.j, -0.+0.j, -0.+0.j,\n",
       "         0.+0.j],\n",
       "       [-0.+0.j, -0.+0.j,  0.+0.j,  0.+0.j, -0.+0.j,  0.+0.j,  0.+0.j,\n",
       "        -0.+0.j]])"
      ]
     },
     "execution_count": 273,
     "metadata": {},
     "output_type": "execute_result"
    }
   ],
   "source": [
    "np.round(cases[9][0].right_projected_symmetry_state.to_ndarray())"
   ]
  },
  {
   "cell_type": "code",
   "execution_count": 240,
   "id": "68b4ab01-ed9e-4efc-8b9a-ad74442835e1",
   "metadata": {},
   "outputs": [],
   "source": [
    "test_u = unitaries[9][1]"
   ]
  },
  {
   "cell_type": "code",
   "execution_count": 241,
   "id": "951220b8-b4cb-4b57-99fb-2b96e48790ed",
   "metadata": {},
   "outputs": [
    {
     "data": {
      "text/plain": [
       "<npc.Array shape=(4, 4) labels=['p', 'p*']>"
      ]
     },
     "execution_count": 241,
     "metadata": {},
     "output_type": "execute_result"
    }
   ],
   "source": [
    "test_u"
   ]
  },
  {
   "cell_type": "markdown",
   "id": "59bfd2ef-f4fe-4bda-b4f7-8cff18271a19",
   "metadata": {},
   "source": [
    "Resolve unitary as tensor product."
   ]
  },
  {
   "cell_type": "code",
   "execution_count": 242,
   "id": "cca156e8-08c0-4523-88ed-cc0bcf7fe205",
   "metadata": {},
   "outputs": [],
   "source": [
    "lr_u = (\n",
    "    test_u\n",
    "    .replace_labels(['p', 'p*'], ['(p1.p2)', '(p1*.p2*)'])\n",
    "    .split_legs()\n",
    "    .combine_legs([['p1', 'p1*'], ['p2', 'p2*']])\n",
    ")"
   ]
  },
  {
   "cell_type": "code",
   "execution_count": 243,
   "id": "ad63c886-8472-499f-ad53-883123f868d1",
   "metadata": {},
   "outputs": [],
   "source": [
    "U, S, VH = npc.svd(lr_u, compute_uv=True, inner_labels=['vR', 'vL'])"
   ]
  },
  {
   "cell_type": "code",
   "execution_count": 244,
   "id": "c542573b-a510-4900-8286-2bba928170d7",
   "metadata": {},
   "outputs": [
    {
     "data": {
      "text/plain": [
       "array([1.99999992e+00, 5.58867279e-04, 2.80319911e-09, 7.83844322e-13])"
      ]
     },
     "execution_count": 244,
     "metadata": {},
     "output_type": "execute_result"
    }
   ],
   "source": [
    "S"
   ]
  },
  {
   "cell_type": "code",
   "execution_count": 245,
   "id": "1a7cd934-e868-46c8-b8c4-6ee30457bb13",
   "metadata": {},
   "outputs": [
    {
     "data": {
      "text/plain": [
       "array([[-7.07106754e-01+0.j,  1.96581123e-04+0.j],\n",
       "       [ 1.96581123e-04+0.j,  7.07106754e-01+0.j]])"
      ]
     },
     "execution_count": 245,
     "metadata": {},
     "output_type": "execute_result"
    }
   ],
   "source": [
    "U[:,0].split_legs().to_ndarray()"
   ]
  },
  {
   "cell_type": "code",
   "execution_count": 246,
   "id": "bf594670-b4d3-4445-b41d-b655878a2c65",
   "metadata": {},
   "outputs": [
    {
     "data": {
      "text/plain": [
       "array([[-7.07106781e-01+0.j, -1.51650321e-16+0.j],\n",
       "       [-8.22001488e-17+0.j, -7.07106781e-01+0.j]])"
      ]
     },
     "execution_count": 246,
     "metadata": {},
     "output_type": "execute_result"
    }
   ],
   "source": [
    "VH[0].split_legs().to_ndarray()"
   ]
  },
  {
   "cell_type": "code",
   "execution_count": 274,
   "id": "72b97a07-ed7f-4fcd-9ea1-3c02103923a7",
   "metadata": {},
   "outputs": [
    {
     "data": {
      "text/plain": [
       "array([[-0.+0.j, -1.+0.j, -0.+0.j, -0.+0.j,  0.+0.j, -0.+0.j,  0.+0.j,\n",
       "        -0.+0.j],\n",
       "       [-1.+0.j,  0.+0.j,  0.+0.j,  0.+0.j,  0.+0.j, -0.+0.j,  0.+0.j,\n",
       "         0.+0.j],\n",
       "       [-0.+0.j,  0.+0.j,  0.+0.j, -0.+0.j,  0.+0.j,  0.+0.j,  0.+0.j,\n",
       "         0.+0.j],\n",
       "       [-0.+0.j,  0.+0.j, -0.+0.j, -0.+0.j, -0.+0.j,  0.+0.j, -0.+0.j,\n",
       "        -0.+0.j],\n",
       "       [ 0.+0.j,  0.+0.j,  0.+0.j, -0.+0.j, -0.+0.j, -0.+0.j, -0.+0.j,\n",
       "         0.+0.j],\n",
       "       [-0.+0.j, -0.+0.j,  0.+0.j,  0.+0.j, -0.+0.j,  0.+0.j, -0.+0.j,\n",
       "         0.+0.j],\n",
       "       [ 0.+0.j,  0.+0.j,  0.+0.j, -0.+0.j, -0.+0.j, -0.+0.j,  0.+0.j,\n",
       "        -0.+0.j],\n",
       "       [-0.+0.j,  0.+0.j,  0.+0.j, -0.+0.j,  0.+0.j,  0.+0.j, -0.+0.j,\n",
       "        -0.+0.j]])"
      ]
     },
     "execution_count": 274,
     "metadata": {},
     "output_type": "execute_result"
    }
   ],
   "source": [
    "np.round(cases[9][1].right_projected_symmetry_state.to_ndarray())"
   ]
  },
  {
   "cell_type": "code",
   "execution_count": 249,
   "id": "a69cd06e-6a6b-481f-8c32-1f04d3b3cd76",
   "metadata": {},
   "outputs": [],
   "source": [
    "test_u = unitaries[9][2]"
   ]
  },
  {
   "cell_type": "code",
   "execution_count": 250,
   "id": "3e1a7d8f-7bd9-475d-a186-5e0103a2297b",
   "metadata": {},
   "outputs": [
    {
     "data": {
      "text/plain": [
       "<npc.Array shape=(4, 4) labels=['p', 'p*']>"
      ]
     },
     "execution_count": 250,
     "metadata": {},
     "output_type": "execute_result"
    }
   ],
   "source": [
    "test_u"
   ]
  },
  {
   "cell_type": "markdown",
   "id": "56d48972-19b8-47b1-a680-a26c64cfa883",
   "metadata": {},
   "source": [
    "Resolve unitary as tensor product."
   ]
  },
  {
   "cell_type": "code",
   "execution_count": 251,
   "id": "a9c62423-ad98-49a7-bd52-b67dfb5b5db1",
   "metadata": {},
   "outputs": [],
   "source": [
    "lr_u = (\n",
    "    test_u\n",
    "    .replace_labels(['p', 'p*'], ['(p1.p2)', '(p1*.p2*)'])\n",
    "    .split_legs()\n",
    "    .combine_legs([['p1', 'p1*'], ['p2', 'p2*']])\n",
    ")"
   ]
  },
  {
   "cell_type": "code",
   "execution_count": 252,
   "id": "644bb921-f13a-451e-931c-3e72c80718ac",
   "metadata": {},
   "outputs": [],
   "source": [
    "U, S, VH = npc.svd(lr_u, compute_uv=True, inner_labels=['vR', 'vL'])"
   ]
  },
  {
   "cell_type": "code",
   "execution_count": 253,
   "id": "1cde49fc-55bd-4db2-a051-cdfb88a539d3",
   "metadata": {},
   "outputs": [
    {
     "data": {
      "text/plain": [
       "array([1.99948980e+00, 4.51725061e-02, 4.33920875e-06, 9.80314749e-08])"
      ]
     },
     "execution_count": 253,
     "metadata": {},
     "output_type": "execute_result"
    }
   ],
   "source": [
    "S"
   ]
  },
  {
   "cell_type": "code",
   "execution_count": 254,
   "id": "e497a78a-0f88-4212-aa58-4b9bf8767ec0",
   "metadata": {},
   "outputs": [
    {
     "data": {
      "text/plain": [
       "array([[-2.32348726e-07+0.j,  7.07106781e-01+0.j],\n",
       "       [ 7.07106781e-01+0.j,  2.32348726e-07+0.j]])"
      ]
     },
     "execution_count": 254,
     "metadata": {},
     "output_type": "execute_result"
    }
   ],
   "source": [
    "U[:,0].split_legs().to_ndarray()"
   ]
  },
  {
   "cell_type": "code",
   "execution_count": 255,
   "id": "57cff2ef-950b-41c6-bd80-07dcfcda8d5f",
   "metadata": {},
   "outputs": [
    {
     "data": {
      "text/plain": [
       "array([[-0.70675651+0.j, -0.02225398+0.j],\n",
       "       [-0.02225398+0.j,  0.70675651+0.j]])"
      ]
     },
     "execution_count": 255,
     "metadata": {},
     "output_type": "execute_result"
    }
   ],
   "source": [
    "VH[0].split_legs().to_ndarray()"
   ]
  },
  {
   "cell_type": "code",
   "execution_count": 275,
   "id": "7ff2ec31-be82-4aac-a6d2-9f9ccef4dee1",
   "metadata": {},
   "outputs": [
    {
     "data": {
      "text/plain": [
       "array([[-1.+0.j,  0.+0.j, -0.+0.j,  0.+0.j, -0.+0.j, -0.+0.j, -0.+0.j,\n",
       "        -0.+0.j],\n",
       "       [ 0.+0.j,  1.+0.j, -0.+0.j,  0.+0.j,  0.+0.j, -0.+0.j,  0.+0.j,\n",
       "        -0.+0.j],\n",
       "       [-0.+0.j, -0.+0.j, -0.+0.j,  0.+0.j,  0.+0.j,  0.+0.j,  0.+0.j,\n",
       "         0.+0.j],\n",
       "       [ 0.+0.j,  0.+0.j,  0.+0.j,  0.+0.j, -0.+0.j,  0.+0.j, -0.+0.j,\n",
       "         0.+0.j],\n",
       "       [-0.+0.j,  0.+0.j,  0.+0.j, -0.+0.j,  0.+0.j,  0.+0.j, -0.+0.j,\n",
       "        -0.+0.j],\n",
       "       [-0.+0.j, -0.+0.j,  0.+0.j,  0.+0.j,  0.+0.j, -0.+0.j,  0.+0.j,\n",
       "         0.+0.j],\n",
       "       [-0.+0.j,  0.+0.j,  0.+0.j, -0.+0.j, -0.+0.j,  0.+0.j,  0.+0.j,\n",
       "         0.+0.j],\n",
       "       [-0.+0.j, -0.+0.j,  0.+0.j,  0.+0.j, -0.+0.j,  0.+0.j,  0.+0.j,\n",
       "        -0.+0.j]])"
      ]
     },
     "execution_count": 275,
     "metadata": {},
     "output_type": "execute_result"
    }
   ],
   "source": [
    "np.round(cases[9][2].right_projected_symmetry_state.to_ndarray())"
   ]
  },
  {
   "cell_type": "code",
   "execution_count": 263,
   "id": "6469d61c-6a89-4b7a-a702-31c8881a9d81",
   "metadata": {},
   "outputs": [],
   "source": [
    "test_u = unitaries[9][3]"
   ]
  },
  {
   "cell_type": "code",
   "execution_count": 264,
   "id": "048b3f5f-fe78-4146-88e7-00ee5d404042",
   "metadata": {},
   "outputs": [
    {
     "data": {
      "text/plain": [
       "<npc.Array shape=(4, 4) labels=['p', 'p*']>"
      ]
     },
     "execution_count": 264,
     "metadata": {},
     "output_type": "execute_result"
    }
   ],
   "source": [
    "test_u"
   ]
  },
  {
   "cell_type": "markdown",
   "id": "a3a3edf1-23ed-426b-b5d5-aa2d2c77292f",
   "metadata": {},
   "source": [
    "Resolve unitary as tensor product."
   ]
  },
  {
   "cell_type": "code",
   "execution_count": 265,
   "id": "709b8ebf-21d8-4233-924f-440abab2180d",
   "metadata": {},
   "outputs": [],
   "source": [
    "lr_u = (\n",
    "    test_u\n",
    "    .replace_labels(['p', 'p*'], ['(p1.p2)', '(p1*.p2*)'])\n",
    "    .split_legs()\n",
    "    .combine_legs([['p1', 'p1*'], ['p2', 'p2*']])\n",
    ")"
   ]
  },
  {
   "cell_type": "code",
   "execution_count": 266,
   "id": "fec97f61-de1f-4abd-816d-d8784e305340",
   "metadata": {},
   "outputs": [],
   "source": [
    "U, S, VH = npc.svd(lr_u, compute_uv=True, inner_labels=['vR', 'vL'])"
   ]
  },
  {
   "cell_type": "code",
   "execution_count": 267,
   "id": "0ddb0bd3-b45c-4441-a2d5-6114a84dbc6c",
   "metadata": {},
   "outputs": [
    {
     "data": {
      "text/plain": [
       "array([1.99999996e+00, 4.24040395e-04, 3.30134694e-16, 3.93113131e-17])"
      ]
     },
     "execution_count": 267,
     "metadata": {},
     "output_type": "execute_result"
    }
   ],
   "source": [
    "S"
   ]
  },
  {
   "cell_type": "code",
   "execution_count": 268,
   "id": "5a7440b8-8eff-43c4-a150-477e333410e5",
   "metadata": {},
   "outputs": [
    {
     "data": {
      "text/plain": [
       "array([[ 0.00000000e+00+0.j, -7.07106781e-01+0.j],\n",
       "       [ 7.07106781e-01+0.j, -8.69291202e-17+0.j]])"
      ]
     },
     "execution_count": 268,
     "metadata": {},
     "output_type": "execute_result"
    }
   ],
   "source": [
    "U[:,0].split_legs().to_ndarray()"
   ]
  },
  {
   "cell_type": "code",
   "execution_count": 269,
   "id": "beaae32c-1ebb-4493-817f-0153994724ae",
   "metadata": {},
   "outputs": [
    {
     "data": {
      "text/plain": [
       "array([[ 0.70681665+0.j,  0.02025393+0.j],\n",
       "       [ 0.02025393+0.j, -0.70681665+0.j]])"
      ]
     },
     "execution_count": 269,
     "metadata": {},
     "output_type": "execute_result"
    }
   ],
   "source": [
    "VH[0].split_legs().to_ndarray()"
   ]
  },
  {
   "cell_type": "code",
   "execution_count": 276,
   "id": "87a876ef-578a-4da4-b00c-d9d84e8987e3",
   "metadata": {},
   "outputs": [
    {
     "data": {
      "text/plain": [
       "array([[-0.+0.j,  1.+0.j, -0.+0.j,  0.+0.j, -0.+0.j, -0.+0.j, -0.+0.j,\n",
       "         0.+0.j],\n",
       "       [-1.+0.j,  0.+0.j,  0.+0.j, -0.+0.j, -0.+0.j, -0.+0.j,  0.+0.j,\n",
       "        -0.+0.j],\n",
       "       [ 0.+0.j, -0.+0.j, -0.+0.j, -0.+0.j, -0.+0.j, -0.+0.j, -0.+0.j,\n",
       "         0.+0.j],\n",
       "       [-0.+0.j,  0.+0.j,  0.+0.j, -0.+0.j, -0.+0.j,  0.+0.j, -0.+0.j,\n",
       "         0.+0.j],\n",
       "       [ 0.+0.j,  0.+0.j,  0.+0.j,  0.+0.j,  0.+0.j, -0.+0.j,  0.+0.j,\n",
       "         0.+0.j],\n",
       "       [ 0.+0.j,  0.+0.j,  0.+0.j, -0.+0.j,  0.+0.j,  0.+0.j, -0.+0.j,\n",
       "        -0.+0.j],\n",
       "       [ 0.+0.j, -0.+0.j,  0.+0.j,  0.+0.j, -0.+0.j,  0.+0.j,  0.+0.j,\n",
       "        -0.+0.j],\n",
       "       [-0.+0.j,  0.+0.j, -0.+0.j, -0.+0.j, -0.+0.j,  0.+0.j,  0.+0.j,\n",
       "        -0.+0.j]])"
      ]
     },
     "execution_count": 276,
     "metadata": {},
     "output_type": "execute_result"
    }
   ],
   "source": [
    "np.round(cases[9][3].right_projected_symmetry_state.to_ndarray())"
   ]
  },
  {
   "cell_type": "markdown",
   "id": "e75a2415-1a07-4fd8-bb2f-723a9b0e0ddf",
   "metadata": {},
   "source": [
    "## Conclusion\n",
    "\n",
    "Adding a new site gives a projective representation. Makes sense, symmetry defined on two sites."
   ]
  },
  {
   "cell_type": "code",
   "execution_count": null,
   "id": "ab1c7aff-8238-45fa-9422-8e9266e81cbb",
   "metadata": {},
   "outputs": [],
   "source": []
  }
 ],
 "metadata": {
  "kernelspec": {
   "display_name": "num_spt_venv_p11",
   "language": "python",
   "name": "num_spt_venv_p11"
  },
  "language_info": {
   "codemirror_mode": {
    "name": "ipython",
    "version": 3
   },
   "file_extension": ".py",
   "mimetype": "text/x-python",
   "name": "python",
   "nbconvert_exporter": "python",
   "pygments_lexer": "ipython3",
   "version": "3.11.9"
  }
 },
 "nbformat": 4,
 "nbformat_minor": 5
}
