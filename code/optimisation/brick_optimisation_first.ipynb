{
 "cells": [
  {
   "cell_type": "markdown",
   "id": "5f2205a4-2c74-4cf5-9ad1-9d65bd13bed2",
   "metadata": {},
   "source": [
    "# Brick optimisation first\n",
    "\n",
    "Created 13/08/2024\n",
    "\n",
    "Objectives:\n",
    "* Implement brick pattern optimisation strategy to see if it actually works."
   ]
  },
  {
   "cell_type": "markdown",
   "id": "9ad0db4d-805c-4403-9d48-c71d523d572f",
   "metadata": {},
   "source": [
    "# Package imports"
   ]
  },
  {
   "cell_type": "code",
   "execution_count": 1,
   "id": "ecb41ea3-927f-4efa-aebe-ce15784aa037",
   "metadata": {},
   "outputs": [],
   "source": [
    "import sys\n",
    "sys.path.append('../')"
   ]
  },
  {
   "cell_type": "code",
   "execution_count": 2,
   "id": "4a525ec6-f0c8-47ee-8b0b-345bf0ef8bd3",
   "metadata": {},
   "outputs": [],
   "source": [
    "import h5py\n",
    "from tenpy.tools import hdf5_io\n",
    "import tenpy\n",
    "import tenpy.linalg.np_conserved as npc\n",
    "\n",
    "import os"
   ]
  },
  {
   "cell_type": "code",
   "execution_count": 3,
   "id": "b22092ac-9191-4a2d-b568-8680c3687185",
   "metadata": {},
   "outputs": [],
   "source": [
    "from functools import reduce\n",
    "from operator import mul"
   ]
  },
  {
   "cell_type": "code",
   "execution_count": 4,
   "id": "214f688a-c657-4810-b4d1-b1247deff62c",
   "metadata": {},
   "outputs": [],
   "source": [
    "import numpy as np\n",
    "import matplotlib.pyplot as plt"
   ]
  },
  {
   "cell_type": "code",
   "execution_count": 5,
   "id": "b8dec68d-a5b3-4383-ab44-567a9a5981b3",
   "metadata": {},
   "outputs": [],
   "source": [
    "from SPTOptimization.SymmetryActionWithBoundaryUnitaries import SymmetryActionWithBoundaryUnitaries\n",
    "\n",
    "from SPTOptimization.Optimizers.OneSiteSolver import OneSiteSolver\n",
    "\n",
    "from SPTOptimization.utils import (\n",
    "    to_npc_array,\n",
    "    get_right_identity_environment\n",
    ")\n",
    "\n",
    "from SPTOptimization.Optimizers.utils import (\n",
    "    one_site_optimization_sweep_right\n",
    ")"
   ]
  },
  {
   "cell_type": "code",
   "execution_count": 6,
   "id": "b7461fe3-41a3-492f-b018-8e32e27a7300",
   "metadata": {},
   "outputs": [],
   "source": [
    "import re"
   ]
  },
  {
   "cell_type": "markdown",
   "id": "c69a8a47-e298-4c4c-97f7-a6157da4e15f",
   "metadata": {},
   "source": [
    "# Load data"
   ]
  },
  {
   "cell_type": "code",
   "execution_count": 7,
   "id": "210d7dcc-b7ae-4f06-8429-84177bec47d3",
   "metadata": {},
   "outputs": [],
   "source": [
    "DATA_DIR = r\"../data/transverse_cluster_200_site_dmrg\""
   ]
  },
  {
   "cell_type": "code",
   "execution_count": 8,
   "id": "52736de2-8178-4035-9861-2f17b8d972fc",
   "metadata": {},
   "outputs": [],
   "source": [
    "f_name = DATA_DIR + r\"/0_90.h5\""
   ]
  },
  {
   "cell_type": "code",
   "execution_count": 9,
   "id": "294bd63f-24bb-46d4-9716-76d74e82b013",
   "metadata": {},
   "outputs": [
    {
     "data": {
      "text/plain": [
       "'../data/transverse_cluster_200_site_dmrg/0_90.h5'"
      ]
     },
     "execution_count": 9,
     "metadata": {},
     "output_type": "execute_result"
    }
   ],
   "source": [
    "f_name"
   ]
  },
  {
   "cell_type": "code",
   "execution_count": 10,
   "id": "68e653fc-625c-4010-ac8e-f7740131b8cc",
   "metadata": {},
   "outputs": [],
   "source": [
    "with h5py.File(f_name, 'r') as f:\n",
    "    data = hdf5_io.load_from_hdf5(f)\n",
    "    test_psi = data['wavefunction']"
   ]
  },
  {
   "cell_type": "markdown",
   "id": "b4c1e616-c034-404b-b59e-196d1eaac475",
   "metadata": {},
   "source": [
    "# Definitons"
   ]
  },
  {
   "cell_type": "code",
   "execution_count": 11,
   "id": "63506364-f535-4c0f-8c5f-8839c69f7b9d",
   "metadata": {},
   "outputs": [],
   "source": [
    "MAX_VIRTUAL_BOND_DIM = 8"
   ]
  },
  {
   "cell_type": "code",
   "execution_count": 12,
   "id": "513d7288-c641-4071-a4a3-652787d1f98c",
   "metadata": {},
   "outputs": [],
   "source": [
    "np_I = np.array([[1,0],[0,1]])\n",
    "np_X = np.array([[0,1],[1,0]])\n",
    "np_Y = np.array([[0,-1j],[1j,0]])\n",
    "np_Z = np.array([[1,0],[0,-1]])"
   ]
  },
  {
   "cell_type": "code",
   "execution_count": 13,
   "id": "2a78a62e-37eb-4baf-98ba-d6a94d599bec",
   "metadata": {},
   "outputs": [],
   "source": [
    "npc_I = to_npc_array(np_I)\n",
    "npc_X = to_npc_array(np_X)\n",
    "npc_Y = to_npc_array(np_Y)\n",
    "npc_Z = to_npc_array(np_Z)"
   ]
  },
  {
   "cell_type": "code",
   "execution_count": 14,
   "id": "83f57221-30e0-4de5-b117-a5f6fd32f6ae",
   "metadata": {},
   "outputs": [],
   "source": [
    "test = SymmetryActionWithBoundaryUnitaries(\n",
    "    test_psi,\n",
    "    [np_X, np_I]*50\n",
    ")"
   ]
  },
  {
   "cell_type": "code",
   "execution_count": 15,
   "id": "62e39a51-442f-4d7b-a183-7840570aeb27",
   "metadata": {},
   "outputs": [],
   "source": [
    "test.compute_svd_symmetry_action()"
   ]
  },
  {
   "cell_type": "code",
   "execution_count": 16,
   "id": "d9bcfc72-8623-49d1-ab56-1bf97614f173",
   "metadata": {},
   "outputs": [
    {
     "data": {
      "text/plain": [
       "<npc.Array shape=(8, 8) labels=['vR', 'vR*']>"
      ]
     },
     "execution_count": 16,
     "metadata": {},
     "output_type": "execute_result"
    }
   ],
   "source": [
    "test.right_projected_symmetry_state"
   ]
  },
  {
   "cell_type": "code",
   "execution_count": 17,
   "id": "bd489263-5d26-4c1f-8a79-275c932cc106",
   "metadata": {},
   "outputs": [
    {
     "data": {
      "text/plain": [
       "<npc.Array shape=(8, 8) labels=['vL', 'vL*']>"
      ]
     },
     "execution_count": 17,
     "metadata": {},
     "output_type": "execute_result"
    }
   ],
   "source": [
    "test.left_projected_symmetry_state"
   ]
  },
  {
   "cell_type": "code",
   "execution_count": 18,
   "id": "6bac53fa-b629-46fc-a145-f932a0af6f18",
   "metadata": {},
   "outputs": [],
   "source": [
    "left_trivial_leg_charge = tenpy.linalg.charges.LegCharge(\n",
    "    tenpy.linalg.charges.ChargeInfo([], []),\n",
    "    [0,1],\n",
    "    [[]],\n",
    "    qconj=1\n",
    ")"
   ]
  },
  {
   "cell_type": "code",
   "execution_count": 19,
   "id": "44f34cb7-0888-474b-9483-f4956951fc31",
   "metadata": {},
   "outputs": [],
   "source": [
    "right_trivial_leg_charge = tenpy.linalg.charges.LegCharge(\n",
    "    tenpy.linalg.charges.ChargeInfo([], []),\n",
    "    [0,1],\n",
    "    [[]],\n",
    "    qconj=-1\n",
    ")"
   ]
  },
  {
   "cell_type": "markdown",
   "id": "38c05308-5c2c-4c60-8eb5-7446af7f85d7",
   "metadata": {},
   "source": [
    "## Functions"
   ]
  },
  {
   "cell_type": "code",
   "execution_count": 20,
   "id": "98275bf5-def3-40b6-8739-0f8e34eb8c5a",
   "metadata": {},
   "outputs": [],
   "source": [
    "P_LEG_LABEL_REGEX_STRING = r\"^p\\d*$\"\n",
    "p_leg_pattern = re.compile(P_LEG_LABEL_REGEX_STRING)\n",
    "\n",
    "def extract_p_leg_label_from_tensor(b):\n",
    "    out = next(\n",
    "        l for l in b.get_leg_labels()\n",
    "        if (p_leg_pattern.match(l))\n",
    "    )\n",
    "\n",
    "    return out\n",
    "\n",
    "def combine_b_tensors(b1, b2):\n",
    "    b = npc.tensordot(b1, b2, ['vR', 'vL'])\n",
    "\n",
    "    p1 = extract_p_leg_label_from_tensor(b1)\n",
    "    p2 = extract_p_leg_label_from_tensor(b2)\n",
    "\n",
    "    b = b.combine_legs([p1, p2])\n",
    "\n",
    "    return b\n",
    "\n",
    "def combine_b_tensors_lr(b1, b2):\n",
    "    bl = b1.replace_label('p', 'pl')\n",
    "    br = b2.replace_label('p', 'pr')\n",
    "\n",
    "    b = npc.tensordot(bl, br, ['vR', 'vL'])\n",
    "    b = b.combine_legs(['pl', 'pr'])\n",
    "\n",
    "    return b"
   ]
  },
  {
   "cell_type": "code",
   "execution_count": 21,
   "id": "8dab4c14-1fb5-4933-b68c-204cc96541c4",
   "metadata": {},
   "outputs": [],
   "source": [
    "GROUPED_LEG_LABELS_REGEX_STRING = r\"^\\((\\w+)\\.(\\w+)\\)$\"\n",
    "grouped_leg_labels_pattern = re.compile(GROUPED_LEG_LABELS_REGEX_STRING)\n",
    "\n",
    "def conjugate_leg_label(l):\n",
    "    m = re.match(grouped_leg_labels_pattern, l)\n",
    "    if m:\n",
    "        left, right = m.groups()\n",
    "        out = f\"({left}*.{right}*)\"\n",
    "    else:\n",
    "        out = l + '*'\n",
    "\n",
    "    return out"
   ]
  },
  {
   "cell_type": "code",
   "execution_count": 22,
   "id": "41848361-7394-4eb5-8006-8ab618c0a274",
   "metadata": {},
   "outputs": [],
   "source": [
    "def get_identity_operator(mps_tensor):\n",
    "    p_leg_label = mps_tensor.get_leg_labels()[1]\n",
    "    p_leg = mps_tensor.get_leg(p_leg_label)\n",
    "    p_leg_label_conj = conjugate_leg_label(p_leg_label)\n",
    "\n",
    "    out = npc.diag(\n",
    "        1,\n",
    "        leg=p_leg,\n",
    "        dtype='complex',\n",
    "        labels=[p_leg_label, p_leg_label_conj]\n",
    "    )\n",
    "\n",
    "    return out"
   ]
  },
  {
   "cell_type": "code",
   "execution_count": 23,
   "id": "d2523496-e338-46ef-a2e2-5a8e8dbcba5f",
   "metadata": {},
   "outputs": [],
   "source": [
    "def split_combined_b(b, max_virtual_bond_dim=MAX_VIRTUAL_BOND_DIM):\n",
    "    t = b.split_legs()\n",
    "    t = t.combine_legs([['vL', 'pl'], ['vR', 'pr']])\n",
    "\n",
    "    U, S, VH = npc.svd(t, compute_uv=True, inner_labels=['vR', 'vL'])\n",
    "\n",
    "    for i in range(U.shape[1]):\n",
    "        U[:, i] *= S[i]\n",
    "    \n",
    "    U = U[:, :MAX_VIRTUAL_BOND_DIM]\n",
    "    VH = VH[:MAX_VIRTUAL_BOND_DIM, :]\n",
    "\n",
    "    bl = U.split_legs().replace_label('pl', 'p')\n",
    "    br = VH.split_legs().replace_label('pr', 'p')\n",
    "\n",
    "    bl.itranspose(['vL', 'p', 'vR'])\n",
    "    br.itranspose(['vL', 'p', 'vR'])\n",
    "\n",
    "    return bl, br"
   ]
  },
  {
   "cell_type": "code",
   "execution_count": 24,
   "id": "5dddedee-f5a2-4dc8-90e1-7afac18a0307",
   "metadata": {},
   "outputs": [],
   "source": [
    "def split_combined_u(u):\n",
    "    t = u.split_legs().combine_legs([['pl', 'pl*'], ['pr', 'pr*']])\n",
    "    t.itranspose(['(pl.pl*)', '(pr.pr*)'])\n",
    "\n",
    "    U, S, VH = npc.svd(t, compute_uv=True, inner_labels=['vR', 'vL'])\n",
    "\n",
    "    for i in range(U.shape[1]):\n",
    "        U[:, i] *= S[i]\n",
    "\n",
    "    wl = (\n",
    "        U\n",
    "        .split_legs()\n",
    "        .replace_labels(['pl', 'pl*'], ['p', 'p*'])\n",
    "        .add_leg(left_trivial_leg_charge, 0, label='vL')\n",
    "    )\n",
    "    \n",
    "    wr = (\n",
    "        VH\n",
    "        .split_legs()\n",
    "        .replace_labels(['pr', 'pr*'], ['p', 'p*'])\n",
    "        .add_leg(right_trivial_leg_charge, 0, label='vR')\n",
    "    )\n",
    "\n",
    "    return wl, wr"
   ]
  },
  {
   "cell_type": "code",
   "execution_count": 25,
   "id": "bc71056c-f25f-4d68-b694-2a26c0ad5790",
   "metadata": {},
   "outputs": [],
   "source": [
    "def unitary_to_mpo_tensor(u):\n",
    "    out = (\n",
    "        u\n",
    "        .add_leg(left_trivial_leg_charge, 0, label='vL')\n",
    "        .add_leg(right_trivial_leg_charge, 0, label='vR')\n",
    "    )\n",
    "\n",
    "    return out"
   ]
  },
  {
   "cell_type": "code",
   "execution_count": 111,
   "id": "fb526c43-afd2-4195-a157-2c92218e91ee",
   "metadata": {},
   "outputs": [],
   "source": [
    "PHYSICAL_LEG_LABELS = [\n",
    "    'p',\n",
    "    'p*',\n",
    "    '(pl.pr)',\n",
    "    '(pl*.pr*)'\n",
    "]"
   ]
  },
  {
   "cell_type": "code",
   "execution_count": 113,
   "id": "af651898-f853-4710-bfa7-2928d6bb8d55",
   "metadata": {},
   "outputs": [],
   "source": [
    "def is_physical_leg_label(leg_label):\n",
    "    return bool(leg_label in PHYSICAL_LEG_LABELS)"
   ]
  },
  {
   "cell_type": "code",
   "execution_count": 114,
   "id": "8e00e4ef-bb2b-4229-8e92-5e07ec9931b4",
   "metadata": {},
   "outputs": [],
   "source": [
    "def get_physical_leg_labels(t):\n",
    "    out = [\n",
    "        ll for ll in t.get_leg_labels()\n",
    "        if is_physical_leg_label(ll)\n",
    "    ]\n",
    "\n",
    "    return out"
   ]
  },
  {
   "cell_type": "markdown",
   "id": "4de20b96-dc26-422f-87aa-d0220ebeb7cf",
   "metadata": {},
   "source": [
    "# Optimisation"
   ]
  },
  {
   "cell_type": "markdown",
   "id": "188dbae8-f3b1-45c8-82fa-9093a19f539c",
   "metadata": {},
   "source": [
    "## First right sweep"
   ]
  },
  {
   "cell_type": "markdown",
   "id": "d0eaf906-c2a9-49d6-ba18-5c510c8ab3ec",
   "metadata": {},
   "source": [
    "### Define tensors"
   ]
  },
  {
   "cell_type": "code",
   "execution_count": 26,
   "id": "5cceb5cb-84a8-48a5-978a-ad9c794af54b",
   "metadata": {},
   "outputs": [
    {
     "data": {
      "text/plain": [
       "149"
      ]
     },
     "execution_count": 26,
     "metadata": {},
     "output_type": "execute_result"
    }
   ],
   "source": [
    "test.right_symmetry_index"
   ]
  },
  {
   "cell_type": "code",
   "execution_count": 27,
   "id": "b9169270-3689-4124-92f7-5f3631800749",
   "metadata": {},
   "outputs": [
    {
     "data": {
      "text/plain": [
       "\"\\nbs = [\\n    test_psi.get_B(i).replace_label('p', f'p{k}')\\n    for k, i in enumerate(range(test.right_symmetry_index + 1, test.right_symmetry_index + 12))\\n]\\n\""
      ]
     },
     "execution_count": 27,
     "metadata": {},
     "output_type": "execute_result"
    }
   ],
   "source": [
    "\"\"\"\n",
    "bs = [\n",
    "    test_psi.get_B(i).replace_label('p', f'p{k}')\n",
    "    for k, i in enumerate(range(test.right_symmetry_index + 1, test.right_symmetry_index + 12))\n",
    "]\n",
    "\"\"\""
   ]
  },
  {
   "cell_type": "code",
   "execution_count": 28,
   "id": "1cf15a5e-8b2b-4f59-884f-5f3b8faf527d",
   "metadata": {},
   "outputs": [],
   "source": [
    "bs = [\n",
    "    test_psi.get_B(i)\n",
    "    for k, i in enumerate(range(test.right_symmetry_index + 1, test.right_symmetry_index + 12))\n",
    "]"
   ]
  },
  {
   "cell_type": "code",
   "execution_count": 29,
   "id": "00a7dcf9-7193-4f7e-819c-573fae679ae1",
   "metadata": {},
   "outputs": [
    {
     "data": {
      "text/plain": [
       "11"
      ]
     },
     "execution_count": 29,
     "metadata": {},
     "output_type": "execute_result"
    }
   ],
   "source": [
    "len(bs)"
   ]
  },
  {
   "cell_type": "code",
   "execution_count": 30,
   "id": "11199221-2ac7-4007-9850-a7b63a3db1d9",
   "metadata": {},
   "outputs": [],
   "source": [
    "grouped_bs = [(bs[0],),] + list(zip(bs[1::2], bs[2::2]))"
   ]
  },
  {
   "cell_type": "code",
   "execution_count": 31,
   "id": "12839260-2320-4299-883c-e5268c343dae",
   "metadata": {},
   "outputs": [
    {
     "data": {
      "text/plain": [
       "[(<npc.Array shape=(8, 2, 8) labels=['vL', 'p', 'vR']>,),\n",
       " (<npc.Array shape=(8, 2, 8) labels=['vL', 'p', 'vR']>,\n",
       "  <npc.Array shape=(8, 2, 8) labels=['vL', 'p', 'vR']>),\n",
       " (<npc.Array shape=(8, 2, 8) labels=['vL', 'p', 'vR']>,\n",
       "  <npc.Array shape=(8, 2, 8) labels=['vL', 'p', 'vR']>),\n",
       " (<npc.Array shape=(8, 2, 8) labels=['vL', 'p', 'vR']>,\n",
       "  <npc.Array shape=(8, 2, 8) labels=['vL', 'p', 'vR']>),\n",
       " (<npc.Array shape=(8, 2, 8) labels=['vL', 'p', 'vR']>,\n",
       "  <npc.Array shape=(8, 2, 8) labels=['vL', 'p', 'vR']>),\n",
       " (<npc.Array shape=(8, 2, 8) labels=['vL', 'p', 'vR']>,\n",
       "  <npc.Array shape=(8, 2, 8) labels=['vL', 'p', 'vR']>)]"
      ]
     },
     "execution_count": 31,
     "metadata": {},
     "output_type": "execute_result"
    }
   ],
   "source": [
    "grouped_bs"
   ]
  },
  {
   "cell_type": "code",
   "execution_count": 32,
   "id": "d477fd1f-3cce-4d09-bbed-8afcc770aa6d",
   "metadata": {},
   "outputs": [],
   "source": [
    "combined_bs = [grouped_bs[0][0],] + [combine_b_tensors_lr(*p) for p in grouped_bs[1:]]"
   ]
  },
  {
   "cell_type": "code",
   "execution_count": 33,
   "id": "cc74e520-12d9-4615-afd9-9477009327bd",
   "metadata": {},
   "outputs": [
    {
     "data": {
      "text/plain": [
       "[<npc.Array shape=(8, 2, 8) labels=['vL', 'p', 'vR']>,\n",
       " <npc.Array shape=(8, 4, 8) labels=['vL', '(pl.pr)', 'vR']>,\n",
       " <npc.Array shape=(8, 4, 8) labels=['vL', '(pl.pr)', 'vR']>,\n",
       " <npc.Array shape=(8, 4, 8) labels=['vL', '(pl.pr)', 'vR']>,\n",
       " <npc.Array shape=(8, 4, 8) labels=['vL', '(pl.pr)', 'vR']>,\n",
       " <npc.Array shape=(8, 4, 8) labels=['vL', '(pl.pr)', 'vR']>]"
      ]
     },
     "execution_count": 33,
     "metadata": {},
     "output_type": "execute_result"
    }
   ],
   "source": [
    "combined_bs"
   ]
  },
  {
   "cell_type": "markdown",
   "id": "24e5d072-7b83-4ce5-b552-4b9415c041a0",
   "metadata": {},
   "source": [
    "Again, the naming convention could be an issue. Clash with single tensor and combined tensor.\n",
    "Do we need to number the 'p' legs, or would using '(pl.pr)' be sufficient...?"
   ]
  },
  {
   "cell_type": "code",
   "execution_count": 34,
   "id": "8e9b3f25-5230-4f03-97fe-bd3fe30e3c36",
   "metadata": {},
   "outputs": [],
   "source": [
    "unitaries = [\n",
    "    get_identity_operator(t) for t in combined_bs\n",
    "]"
   ]
  },
  {
   "cell_type": "code",
   "execution_count": 35,
   "id": "85b44062-c88d-47d2-862f-27a0ec4f9509",
   "metadata": {},
   "outputs": [
    {
     "data": {
      "text/plain": [
       "[<npc.Array shape=(2, 2) labels=['p', 'p*']>,\n",
       " <npc.Array shape=(4, 4) labels=['(pl.pr)', '(pl*.pr*)']>,\n",
       " <npc.Array shape=(4, 4) labels=['(pl.pr)', '(pl*.pr*)']>,\n",
       " <npc.Array shape=(4, 4) labels=['(pl.pr)', '(pl*.pr*)']>,\n",
       " <npc.Array shape=(4, 4) labels=['(pl.pr)', '(pl*.pr*)']>,\n",
       " <npc.Array shape=(4, 4) labels=['(pl.pr)', '(pl*.pr*)']>]"
      ]
     },
     "execution_count": 35,
     "metadata": {},
     "output_type": "execute_result"
    }
   ],
   "source": [
    "unitaries"
   ]
  },
  {
   "cell_type": "code",
   "execution_count": 36,
   "id": "2048589f-2429-4585-8031-9793a1d492d8",
   "metadata": {},
   "outputs": [
    {
     "data": {
      "text/plain": [
       "<npc.Array shape=(8, 4, 8) labels=['vL*', '(pl*.pr*)', 'vR*']>"
      ]
     },
     "execution_count": 36,
     "metadata": {},
     "output_type": "execute_result"
    }
   ],
   "source": [
    "combined_bs[1].conj()"
   ]
  },
  {
   "cell_type": "code",
   "execution_count": 37,
   "id": "5660986f-08ee-4394-9c22-d926ccdac3f8",
   "metadata": {},
   "outputs": [
    {
     "data": {
      "text/plain": [
       "array([[1.+0.j, 0.+0.j],\n",
       "       [0.+0.j, 1.+0.j]])"
      ]
     },
     "execution_count": 37,
     "metadata": {},
     "output_type": "execute_result"
    }
   ],
   "source": [
    "unitaries[0].to_ndarray()"
   ]
  },
  {
   "cell_type": "code",
   "execution_count": 38,
   "id": "4760192f-48ea-4eff-a90b-c03b4165deea",
   "metadata": {},
   "outputs": [
    {
     "data": {
      "text/plain": [
       "array([[1.+0.j, 0.+0.j, 0.+0.j, 0.+0.j],\n",
       "       [0.+0.j, 1.+0.j, 0.+0.j, 0.+0.j],\n",
       "       [0.+0.j, 0.+0.j, 1.+0.j, 0.+0.j],\n",
       "       [0.+0.j, 0.+0.j, 0.+0.j, 1.+0.j]])"
      ]
     },
     "execution_count": 38,
     "metadata": {},
     "output_type": "execute_result"
    }
   ],
   "source": [
    "unitaries[1].to_ndarray()"
   ]
  },
  {
   "cell_type": "code",
   "execution_count": 39,
   "id": "7363dcbc-193d-4e46-b35e-970dfe831e83",
   "metadata": {},
   "outputs": [],
   "source": [
    "expectations_r0 = list()"
   ]
  },
  {
   "cell_type": "code",
   "execution_count": 44,
   "id": "612866fc-52f7-4d04-9d55-b916adb839fc",
   "metadata": {},
   "outputs": [],
   "source": [
    "exps, _, tms = one_site_optimization_sweep_right(\n",
    "    test.right_projected_symmetry_state,\n",
    "    combined_bs,\n",
    "    unitaries\n",
    ")\n",
    "\n",
    "expectations_r0.append(exps)"
   ]
  },
  {
   "cell_type": "code",
   "execution_count": 45,
   "id": "f627ab5d-f46e-4c9a-96c1-b9bb5b3d7eab",
   "metadata": {},
   "outputs": [
    {
     "data": {
      "text/plain": [
       "array([[ 1.07021138e-06+0.j, -1.00000000e+00+0.j],\n",
       "       [-1.00000000e+00+0.j, -1.07021138e-06+0.j]])"
      ]
     },
     "execution_count": 45,
     "metadata": {},
     "output_type": "execute_result"
    }
   ],
   "source": [
    "unitaries[0].to_ndarray()"
   ]
  },
  {
   "cell_type": "code",
   "execution_count": 46,
   "id": "0f93e4db-6c8b-4629-b1a8-21ac4a1e650f",
   "metadata": {},
   "outputs": [
    {
     "data": {
      "text/plain": [
       "array([[ 9.99077386e-01+0.j, -8.73910945e-04+0.j,  2.50287735e-02+0.j,\n",
       "         3.48880106e-02+0.j],\n",
       "       [-8.73910945e-04+0.j,  9.99077548e-01+0.j,  3.48868898e-02+0.j,\n",
       "         2.50238804e-02+0.j],\n",
       "       [ 2.50287735e-02+0.j,  3.48868898e-02+0.j, -9.99077425e-01+0.j,\n",
       "         8.73910948e-04+0.j],\n",
       "       [ 3.48880106e-02+0.j,  2.50238804e-02+0.j,  8.73910948e-04+0.j,\n",
       "        -9.99077509e-01+0.j]])"
      ]
     },
     "execution_count": 46,
     "metadata": {},
     "output_type": "execute_result"
    }
   ],
   "source": [
    "unitaries[1].to_ndarray()"
   ]
  },
  {
   "cell_type": "code",
   "execution_count": 47,
   "id": "36909913-6e1d-4cdc-b627-e43b183eff9b",
   "metadata": {},
   "outputs": [
    {
     "data": {
      "text/plain": [
       "[[0.09774518810938414,\n",
       "  1.177108211170415,\n",
       "  1.1771082111704148,\n",
       "  1.177108211170415,\n",
       "  1.1771082111704148,\n",
       "  1.1771082111704148],\n",
       " [1.1771082124804502,\n",
       "  1.1771082125056047,\n",
       "  1.1771082125056038,\n",
       "  1.1771082125056036,\n",
       "  1.177108212505603,\n",
       "  1.177108212505603]]"
      ]
     },
     "execution_count": 47,
     "metadata": {},
     "output_type": "execute_result"
    }
   ],
   "source": [
    "expectations_r0"
   ]
  },
  {
   "cell_type": "code",
   "execution_count": 35,
   "id": "91304e79-d14e-41f4-8ddf-82cd1fb05252",
   "metadata": {},
   "outputs": [
    {
     "data": {
      "text/plain": [
       "[<npc.Array shape=(2, 2) labels=['p*', 'p']>,\n",
       " <npc.Array shape=(4, 4) labels=['(pl*.pr*)', '(pl.pr)']>,\n",
       " <npc.Array shape=(4, 4) labels=['(pl*.pr*)', '(pl.pr)']>,\n",
       " <npc.Array shape=(4, 4) labels=['(pl*.pr*)', '(pl.pr)']>,\n",
       " <npc.Array shape=(4, 4) labels=['(pl*.pr*)', '(pl.pr)']>,\n",
       " <npc.Array shape=(4, 4) labels=['(pl.pr)', '(pl*.pr*)']>]"
      ]
     },
     "execution_count": 35,
     "metadata": {},
     "output_type": "execute_result"
    }
   ],
   "source": [
    "unitaries"
   ]
  },
  {
   "cell_type": "code",
   "execution_count": 48,
   "id": "7fce68d2-ece6-48e3-82be-2d3b7b6c4843",
   "metadata": {},
   "outputs": [],
   "source": [
    "combined_bs_1 = list()\n",
    "\n",
    "for b, u in zip(combined_bs, unitaries):\n",
    "    ll = b.get_leg_labels()[1]\n",
    "    llh = conjugate_leg_label(ll)\n",
    "\n",
    "    new_b = npc.tensordot(b, u, [[ll,], [llh,]])\n",
    "\n",
    "    combined_bs_1.append(new_b)"
   ]
  },
  {
   "cell_type": "code",
   "execution_count": 49,
   "id": "d5fa8190-d4d2-4f66-8e76-0d6aa634f963",
   "metadata": {},
   "outputs": [
    {
     "data": {
      "text/plain": [
       "[<npc.Array shape=(8, 8, 2) labels=['vL', 'vR', 'p']>,\n",
       " <npc.Array shape=(8, 8, 4) labels=['vL', 'vR', '(pl.pr)']>,\n",
       " <npc.Array shape=(8, 8, 4) labels=['vL', 'vR', '(pl.pr)']>,\n",
       " <npc.Array shape=(8, 8, 4) labels=['vL', 'vR', '(pl.pr)']>,\n",
       " <npc.Array shape=(8, 8, 4) labels=['vL', 'vR', '(pl.pr)']>,\n",
       " <npc.Array shape=(8, 8, 4) labels=['vL', 'vR', '(pl.pr)']>]"
      ]
     },
     "execution_count": 49,
     "metadata": {},
     "output_type": "execute_result"
    }
   ],
   "source": [
    "combined_bs_1"
   ]
  },
  {
   "cell_type": "code",
   "execution_count": 50,
   "id": "026991bc-1b32-4333-8c52-a8840d895737",
   "metadata": {},
   "outputs": [
    {
     "data": {
      "text/plain": [
       "<npc.Array shape=(4, 3, 4) labels=['vL', 'vR', '(pl.pr)']>"
      ]
     },
     "execution_count": 50,
     "metadata": {},
     "output_type": "execute_result"
    }
   ],
   "source": [
    "combined_bs_1[1][:4, 5:]"
   ]
  },
  {
   "cell_type": "code",
   "execution_count": 51,
   "id": "eb4cf712-7ba2-427e-9255-744cc623301e",
   "metadata": {},
   "outputs": [
    {
     "data": {
      "text/plain": [
       "(0.6058012307237871+0j)"
      ]
     },
     "execution_count": 51,
     "metadata": {},
     "output_type": "execute_result"
    }
   ],
   "source": [
    "combined_bs_1[1][0,0,0]"
   ]
  },
  {
   "cell_type": "code",
   "execution_count": 52,
   "id": "6bb33e7e-a058-4aec-87a7-f9d539076bf0",
   "metadata": {},
   "outputs": [],
   "source": [
    "b = combined_bs_1[0]\n",
    "b.itranspose(['vL', 'p', 'vR'])\n",
    "\n",
    "bs_1 = [b,]"
   ]
  },
  {
   "cell_type": "code",
   "execution_count": 53,
   "id": "660cf8a4-37b5-473b-abd0-b712e8bfe0d7",
   "metadata": {},
   "outputs": [],
   "source": [
    "for b in combined_bs_1[1:]:\n",
    "    bl, br = split_combined_b(b)\n",
    "    bs_1.append(bl)\n",
    "    bs_1.append(br)"
   ]
  },
  {
   "cell_type": "code",
   "execution_count": 54,
   "id": "a2af2e70-e8be-4726-84d3-9a03e1686239",
   "metadata": {},
   "outputs": [
    {
     "data": {
      "text/plain": [
       "[<npc.Array shape=(8, 2, 8) labels=['vL', 'p', 'vR']>,\n",
       " <npc.Array shape=(8, 2, 8) labels=['vL', 'p', 'vR']>,\n",
       " <npc.Array shape=(8, 2, 8) labels=['vL', 'p', 'vR']>,\n",
       " <npc.Array shape=(8, 2, 8) labels=['vL', 'p', 'vR']>,\n",
       " <npc.Array shape=(8, 2, 8) labels=['vL', 'p', 'vR']>,\n",
       " <npc.Array shape=(8, 2, 8) labels=['vL', 'p', 'vR']>,\n",
       " <npc.Array shape=(8, 2, 8) labels=['vL', 'p', 'vR']>,\n",
       " <npc.Array shape=(8, 2, 8) labels=['vL', 'p', 'vR']>,\n",
       " <npc.Array shape=(8, 2, 8) labels=['vL', 'p', 'vR']>,\n",
       " <npc.Array shape=(8, 2, 8) labels=['vL', 'p', 'vR']>,\n",
       " <npc.Array shape=(8, 2, 8) labels=['vL', 'p', 'vR']>]"
      ]
     },
     "execution_count": 54,
     "metadata": {},
     "output_type": "execute_result"
    }
   ],
   "source": [
    "bs_1"
   ]
  },
  {
   "cell_type": "markdown",
   "id": "38049ac7-8ae5-4521-8b25-faa3f7b1a1c6",
   "metadata": {},
   "source": [
    "Test overlap"
   ]
  },
  {
   "cell_type": "code",
   "execution_count": 89,
   "id": "16b1a8b2-5e0f-46a7-b50d-340e8f84509a",
   "metadata": {},
   "outputs": [],
   "source": [
    "t = test.right_projected_symmetry_state\n",
    "\n",
    "for bu, bd in zip(bs_1, bs):\n",
    "    t = npc.tensordot(t, bu, [['vR',],['vL',]])\n",
    "    t = npc.tensordot(t, bd.conj(), [['vR*', 'p'],['vL*', 'p*']])\n",
    "\n",
    "e = npc.trace(t)"
   ]
  },
  {
   "cell_type": "code",
   "execution_count": 90,
   "id": "39f100f7-445b-4349-ac02-13299a9cd6db",
   "metadata": {},
   "outputs": [
    {
     "data": {
      "text/plain": [
       "(1.1770811213409618+0j)"
      ]
     },
     "execution_count": 90,
     "metadata": {},
     "output_type": "execute_result"
    }
   ],
   "source": [
    "e"
   ]
  },
  {
   "cell_type": "markdown",
   "id": "394e2bd1-6f20-4d1d-84b2-a8cac0f93a61",
   "metadata": {},
   "source": [
    "Correct."
   ]
  },
  {
   "cell_type": "code",
   "execution_count": 55,
   "id": "ebf2edaf-aba9-45d7-9e0d-77e248020e96",
   "metadata": {},
   "outputs": [
    {
     "data": {
      "text/plain": [
       "[<npc.Array shape=(2, 2) labels=['p*', 'p']>,\n",
       " <npc.Array shape=(4, 4) labels=['(pl*.pr*)', '(pl.pr)']>,\n",
       " <npc.Array shape=(4, 4) labels=['(pl*.pr*)', '(pl.pr)']>,\n",
       " <npc.Array shape=(4, 4) labels=['(pl*.pr*)', '(pl.pr)']>,\n",
       " <npc.Array shape=(4, 4) labels=['(pl*.pr*)', '(pl.pr)']>,\n",
       " <npc.Array shape=(4, 4) labels=['(pl*.pr*)', '(pl.pr)']>]"
      ]
     },
     "execution_count": 55,
     "metadata": {},
     "output_type": "execute_result"
    }
   ],
   "source": [
    "unitaries"
   ]
  },
  {
   "cell_type": "code",
   "execution_count": 56,
   "id": "35f53ccf-669d-400c-937f-78f7e51e516b",
   "metadata": {},
   "outputs": [
    {
     "data": {
      "text/plain": [
       "<npc.Array shape=(2, 2, 2, 2) labels=['pl*', 'pr*', 'pl', 'pr']>"
      ]
     },
     "execution_count": 56,
     "metadata": {},
     "output_type": "execute_result"
    }
   ],
   "source": [
    "unitaries[1].split_legs()"
   ]
  },
  {
   "cell_type": "code",
   "execution_count": 57,
   "id": "36ad7132-6ab5-4490-8fdf-43b5ee0f4f30",
   "metadata": {},
   "outputs": [
    {
     "data": {
      "text/plain": [
       "(<npc.Array shape=(1, 2, 2, 4) labels=['vL', 'p', 'p*', 'vR']>,\n",
       " <npc.Array shape=(1, 4, 2, 2) labels=['vR', 'vL', 'p', 'p*']>)"
      ]
     },
     "execution_count": 57,
     "metadata": {},
     "output_type": "execute_result"
    }
   ],
   "source": [
    "split_combined_u(unitaries[1])"
   ]
  },
  {
   "cell_type": "code",
   "execution_count": 58,
   "id": "03802b39-36ce-4e42-86e7-c28e8e90bdbc",
   "metadata": {},
   "outputs": [],
   "source": [
    "mpo_tensors_1 = [unitary_to_mpo_tensor(unitaries[0]),]\n",
    "\n",
    "for u in unitaries[1:]:\n",
    "    wl, wr = split_combined_u(u)\n",
    "    mpo_tensors_1.append(wl)\n",
    "    mpo_tensors_1.append(wr)    "
   ]
  },
  {
   "cell_type": "code",
   "execution_count": 59,
   "id": "3fca9a9a-d935-40e6-91df-cb20d83a1711",
   "metadata": {},
   "outputs": [
    {
     "data": {
      "text/plain": [
       "[<npc.Array shape=(1, 1, 2, 2) labels=['vR', 'vL', 'p*', 'p']>,\n",
       " <npc.Array shape=(1, 2, 2, 4) labels=['vL', 'p', 'p*', 'vR']>,\n",
       " <npc.Array shape=(1, 4, 2, 2) labels=['vR', 'vL', 'p', 'p*']>,\n",
       " <npc.Array shape=(1, 2, 2, 4) labels=['vL', 'p', 'p*', 'vR']>,\n",
       " <npc.Array shape=(1, 4, 2, 2) labels=['vR', 'vL', 'p', 'p*']>,\n",
       " <npc.Array shape=(1, 2, 2, 4) labels=['vL', 'p', 'p*', 'vR']>,\n",
       " <npc.Array shape=(1, 4, 2, 2) labels=['vR', 'vL', 'p', 'p*']>,\n",
       " <npc.Array shape=(1, 2, 2, 4) labels=['vL', 'p', 'p*', 'vR']>,\n",
       " <npc.Array shape=(1, 4, 2, 2) labels=['vR', 'vL', 'p', 'p*']>,\n",
       " <npc.Array shape=(1, 2, 2, 4) labels=['vL', 'p', 'p*', 'vR']>,\n",
       " <npc.Array shape=(1, 4, 2, 2) labels=['vR', 'vL', 'p', 'p*']>]"
      ]
     },
     "execution_count": 59,
     "metadata": {},
     "output_type": "execute_result"
    }
   ],
   "source": [
    "mpo_tensors_1"
   ]
  },
  {
   "cell_type": "markdown",
   "id": "0a6b4e13-b9fd-44cc-bcc1-66740fb2533e",
   "metadata": {},
   "source": [
    "## Second layer\n",
    "\n",
    "To-do:\n",
    "* Get new grouped bs\n",
    "* Initialise unitaries\n",
    "    * Add default argument to optimisation for identity unitaries?\n",
    "* Optimise unitaries\n",
    "    * Repeatedly?\n",
    "* Get new bs\n",
    "* Get new mpo tensors\n",
    "    * Compose and reduce function for mpo tensors"
   ]
  },
  {
   "cell_type": "code",
   "execution_count": 60,
   "id": "8a07355a-1097-4fab-8124-5f97b5e9174e",
   "metadata": {},
   "outputs": [
    {
     "data": {
      "text/plain": [
       "[<npc.Array shape=(8, 2, 8) labels=['vL', 'p', 'vR']>,\n",
       " <npc.Array shape=(8, 2, 8) labels=['vL', 'p', 'vR']>,\n",
       " <npc.Array shape=(8, 2, 8) labels=['vL', 'p', 'vR']>,\n",
       " <npc.Array shape=(8, 2, 8) labels=['vL', 'p', 'vR']>,\n",
       " <npc.Array shape=(8, 2, 8) labels=['vL', 'p', 'vR']>,\n",
       " <npc.Array shape=(8, 2, 8) labels=['vL', 'p', 'vR']>,\n",
       " <npc.Array shape=(8, 2, 8) labels=['vL', 'p', 'vR']>,\n",
       " <npc.Array shape=(8, 2, 8) labels=['vL', 'p', 'vR']>,\n",
       " <npc.Array shape=(8, 2, 8) labels=['vL', 'p', 'vR']>,\n",
       " <npc.Array shape=(8, 2, 8) labels=['vL', 'p', 'vR']>,\n",
       " <npc.Array shape=(8, 2, 8) labels=['vL', 'p', 'vR']>]"
      ]
     },
     "execution_count": 60,
     "metadata": {},
     "output_type": "execute_result"
    }
   ],
   "source": [
    "bs_1"
   ]
  },
  {
   "cell_type": "code",
   "execution_count": 66,
   "id": "74835f58-19b8-4603-b205-6d8df1fd2695",
   "metadata": {},
   "outputs": [
    {
     "data": {
      "text/plain": [
       "[(<npc.Array shape=(8, 2, 8) labels=['vL', 'p', 'vR']>,\n",
       "  <npc.Array shape=(8, 2, 8) labels=['vL', 'p', 'vR']>),\n",
       " (<npc.Array shape=(8, 2, 8) labels=['vL', 'p', 'vR']>,\n",
       "  <npc.Array shape=(8, 2, 8) labels=['vL', 'p', 'vR']>),\n",
       " (<npc.Array shape=(8, 2, 8) labels=['vL', 'p', 'vR']>,\n",
       "  <npc.Array shape=(8, 2, 8) labels=['vL', 'p', 'vR']>),\n",
       " (<npc.Array shape=(8, 2, 8) labels=['vL', 'p', 'vR']>,\n",
       "  <npc.Array shape=(8, 2, 8) labels=['vL', 'p', 'vR']>),\n",
       " (<npc.Array shape=(8, 2, 8) labels=['vL', 'p', 'vR']>,\n",
       "  <npc.Array shape=(8, 2, 8) labels=['vL', 'p', 'vR']>),\n",
       " (<npc.Array shape=(8, 2, 8) labels=['vL', 'p', 'vR']>,)]"
      ]
     },
     "execution_count": 66,
     "metadata": {},
     "output_type": "execute_result"
    }
   ],
   "source": [
    "grouped_bs_1"
   ]
  },
  {
   "cell_type": "code",
   "execution_count": 96,
   "id": "90cf2066-53c9-4826-a6b7-b5be62de3f30",
   "metadata": {},
   "outputs": [],
   "source": [
    "combined_bs_1 = [combine_b_tensors_lr(*p) for p in grouped_bs_1[:-1]] + [grouped_bs_1[-1][0],]"
   ]
  },
  {
   "cell_type": "code",
   "execution_count": 97,
   "id": "f1769e21-6e5a-46d9-aa1a-54864f62cc2a",
   "metadata": {},
   "outputs": [
    {
     "data": {
      "text/plain": [
       "[<npc.Array shape=(8, 4, 8) labels=['vL', '(pl.pr)', 'vR']>,\n",
       " <npc.Array shape=(8, 4, 8) labels=['vL', '(pl.pr)', 'vR']>,\n",
       " <npc.Array shape=(8, 4, 8) labels=['vL', '(pl.pr)', 'vR']>,\n",
       " <npc.Array shape=(8, 4, 8) labels=['vL', '(pl.pr)', 'vR']>,\n",
       " <npc.Array shape=(8, 4, 8) labels=['vL', '(pl.pr)', 'vR']>,\n",
       " <npc.Array shape=(8, 2, 8) labels=['vL', 'p', 'vR']>]"
      ]
     },
     "execution_count": 97,
     "metadata": {},
     "output_type": "execute_result"
    }
   ],
   "source": [
    "combined_bs_1"
   ]
  },
  {
   "cell_type": "code",
   "execution_count": 98,
   "id": "dab89069-17c5-4254-8d3f-9564f0e1f5e7",
   "metadata": {},
   "outputs": [],
   "source": [
    "grouped_bs_bra_1 = list(zip(bs[:-1:2], bs[1:-1:2])) + [(bs[-1],),]"
   ]
  },
  {
   "cell_type": "code",
   "execution_count": 99,
   "id": "f7bb8e55-cbea-4018-baee-9a14e9df12f5",
   "metadata": {},
   "outputs": [],
   "source": [
    "combined_bs_bra_1 = [combine_b_tensors_lr(*p) for p in grouped_bs_bra_1[:-1]] + [grouped_bs_bra_1[-1][0],]"
   ]
  },
  {
   "cell_type": "code",
   "execution_count": 100,
   "id": "04ca3343-d8c0-4515-8dce-9cfda7c1e303",
   "metadata": {},
   "outputs": [
    {
     "data": {
      "text/plain": [
       "[<npc.Array shape=(8, 4, 8) labels=['vL', '(pl.pr)', 'vR']>,\n",
       " <npc.Array shape=(8, 4, 8) labels=['vL', '(pl.pr)', 'vR']>,\n",
       " <npc.Array shape=(8, 4, 8) labels=['vL', '(pl.pr)', 'vR']>,\n",
       " <npc.Array shape=(8, 4, 8) labels=['vL', '(pl.pr)', 'vR']>,\n",
       " <npc.Array shape=(8, 4, 8) labels=['vL', '(pl.pr)', 'vR']>,\n",
       " <npc.Array shape=(8, 2, 8) labels=['vL', 'p', 'vR']>]"
      ]
     },
     "execution_count": 100,
     "metadata": {},
     "output_type": "execute_result"
    }
   ],
   "source": [
    "combined_bs_bra_1"
   ]
  },
  {
   "cell_type": "markdown",
   "id": "0bdd78f6-d36a-4376-85fa-955cbf9265bb",
   "metadata": {},
   "source": [
    "Test overlap"
   ]
  },
  {
   "cell_type": "code",
   "execution_count": 101,
   "id": "5677bd19-5185-452d-a085-bc4fc1f9b11e",
   "metadata": {},
   "outputs": [],
   "source": [
    "t = test.right_projected_symmetry_state\n",
    "\n",
    "for bu, bd in zip(combined_bs_1[:-1], combined_bs_bra_1[:-1]):\n",
    "    t = npc.tensordot(t, bu, [['vR',],['vL',]])\n",
    "    t = npc.tensordot(t, bd.conj(), [['vR*', '(pl.pr)'],['vL*', '(pl*.pr*)']])\n",
    "\n",
    "\n",
    "t = npc.tensordot(t, combined_bs_1[-1], [['vR',],['vL',]])\n",
    "t = npc.tensordot(t, combined_bs_bra_1[-1].conj(), [['vR*', 'p'],['vL*', 'p*']])\n",
    "\n",
    "e = npc.trace(t)"
   ]
  },
  {
   "cell_type": "code",
   "execution_count": 102,
   "id": "c7c4dfb5-1d45-4dcf-bfb6-bf75f2e521aa",
   "metadata": {},
   "outputs": [
    {
     "data": {
      "text/plain": [
       "(1.1770811213409613+0j)"
      ]
     },
     "execution_count": 102,
     "metadata": {},
     "output_type": "execute_result"
    }
   ],
   "source": [
    "e"
   ]
  },
  {
   "cell_type": "code",
   "execution_count": 103,
   "id": "3ae77380-fceb-4074-92e9-69947a5d4371",
   "metadata": {},
   "outputs": [],
   "source": [
    "unitaries = [\n",
    "    get_identity_operator(t) for t in combined_bs_1\n",
    "]"
   ]
  },
  {
   "cell_type": "code",
   "execution_count": 104,
   "id": "df971ae9-4fae-4b31-8bd6-ec8472a742c6",
   "metadata": {},
   "outputs": [],
   "source": [
    "expectations_r1 = list()"
   ]
  },
  {
   "cell_type": "code",
   "execution_count": 107,
   "id": "48636be1-8c01-4d3a-878d-3244ecf19b39",
   "metadata": {},
   "outputs": [],
   "source": [
    "exps, *_ = one_site_optimization_sweep_right(\n",
    "    test.right_projected_symmetry_state,\n",
    "    combined_bs_1,\n",
    "    unitaries,\n",
    "    combined_bs_bra_1\n",
    ")\n",
    "\n",
    "expectations_r1.append(exps)"
   ]
  },
  {
   "cell_type": "code",
   "execution_count": 108,
   "id": "f4acfb04-16cf-4d60-873f-9de44b51487e",
   "metadata": {},
   "outputs": [
    {
     "data": {
      "text/plain": [
       "[[1.177215623040653,\n",
       "  1.1766780855010426,\n",
       "  1.1766765270856747,\n",
       "  1.1766764781457462,\n",
       "  1.1766764779116077,\n",
       "  1.1766764779078547],\n",
       " [1.1772144067036576,\n",
       "  1.1766780432988435,\n",
       "  1.1766765337487242,\n",
       "  1.1766764849438134,\n",
       "  1.1766764847081512,\n",
       "  1.176676484703498]]"
      ]
     },
     "execution_count": 108,
     "metadata": {},
     "output_type": "execute_result"
    }
   ],
   "source": [
    "expectations_r1"
   ]
  },
  {
   "cell_type": "code",
   "execution_count": 109,
   "id": "0efb301c-c02f-494a-8985-7ecd89628a42",
   "metadata": {},
   "outputs": [
    {
     "data": {
      "text/plain": [
       "[<npc.Array shape=(4, 4) labels=['(pl*.pr*)', '(pl.pr)']>,\n",
       " <npc.Array shape=(4, 4) labels=['(pl*.pr*)', '(pl.pr)']>,\n",
       " <npc.Array shape=(4, 4) labels=['(pl*.pr*)', '(pl.pr)']>,\n",
       " <npc.Array shape=(4, 4) labels=['(pl*.pr*)', '(pl.pr)']>,\n",
       " <npc.Array shape=(4, 4) labels=['(pl*.pr*)', '(pl.pr)']>,\n",
       " <npc.Array shape=(2, 2) labels=['p*', 'p']>]"
      ]
     },
     "execution_count": 109,
     "metadata": {},
     "output_type": "execute_result"
    }
   ],
   "source": [
    "unitaries"
   ]
  },
  {
   "cell_type": "code",
   "execution_count": 110,
   "id": "91a940ba-6cec-40d5-a89f-5c8def53203a",
   "metadata": {},
   "outputs": [
    {
     "data": {
      "text/plain": [
       "array([[ 9.99800514e-01+0.j,  9.23001401e-03+0.j,  1.65253595e-04+0.j,\n",
       "        -1.77119007e-02+0.j],\n",
       "       [-9.23004351e-03+0.j,  9.99800514e-01+0.j,  1.77119240e-02+0.j,\n",
       "         1.63588146e-04+0.j],\n",
       "       [ 1.61813358e-04+0.j, -1.77119404e-02+0.j,  9.99800494e-01+0.j,\n",
       "         9.23222468e-03+0.j],\n",
       "       [ 1.77119171e-02+0.j,  1.63478807e-04+0.j, -9.23219518e-03+0.j,\n",
       "         9.99800494e-01+0.j]])"
      ]
     },
     "execution_count": 110,
     "metadata": {},
     "output_type": "execute_result"
    }
   ],
   "source": [
    "unitaries[0].to_ndarray()"
   ]
  },
  {
   "cell_type": "code",
   "execution_count": 115,
   "id": "16a3a4bd-2645-46f8-8408-812374b930ee",
   "metadata": {},
   "outputs": [],
   "source": [
    "combined_bs_2 = list()\n",
    "\n",
    "for b, u in zip(combined_bs_1, unitaries):\n",
    "    ll = get_physical_leg_labels(b)[0]\n",
    "    llh = conjugate_leg_label(ll)\n",
    "\n",
    "    new_b = npc.tensordot(b, u, [[ll,], [llh,]])\n",
    "\n",
    "    combined_bs_2.append(new_b)"
   ]
  },
  {
   "cell_type": "code",
   "execution_count": 116,
   "id": "1b63d1be-a287-49b6-851d-3749dd99788a",
   "metadata": {},
   "outputs": [
    {
     "data": {
      "text/plain": [
       "[<npc.Array shape=(8, 8, 4) labels=['vL', 'vR', '(pl.pr)']>,\n",
       " <npc.Array shape=(8, 8, 4) labels=['vL', 'vR', '(pl.pr)']>,\n",
       " <npc.Array shape=(8, 8, 4) labels=['vL', 'vR', '(pl.pr)']>,\n",
       " <npc.Array shape=(8, 8, 4) labels=['vL', 'vR', '(pl.pr)']>,\n",
       " <npc.Array shape=(8, 8, 4) labels=['vL', 'vR', '(pl.pr)']>,\n",
       " <npc.Array shape=(8, 8, 2) labels=['vL', 'vR', 'p']>]"
      ]
     },
     "execution_count": 116,
     "metadata": {},
     "output_type": "execute_result"
    }
   ],
   "source": [
    "combined_bs_2"
   ]
  },
  {
   "cell_type": "code",
   "execution_count": 118,
   "id": "20c5ab78-1034-433d-b6a0-447842b5fb96",
   "metadata": {},
   "outputs": [],
   "source": [
    "bs_2 = list()"
   ]
  },
  {
   "cell_type": "code",
   "execution_count": 119,
   "id": "74202028-eb0f-4fb9-80e3-3250880eb4b7",
   "metadata": {},
   "outputs": [],
   "source": [
    "for b in combined_bs_2[:-1]:\n",
    "    bl, br = split_combined_b(b)\n",
    "    bs_2.append(bl)\n",
    "    bs_2.append(br)\n",
    "\n",
    "bs_2.append(combined_bs_2[-1])"
   ]
  },
  {
   "cell_type": "code",
   "execution_count": 120,
   "id": "8e7957c7-6ae4-4fb2-9ebc-59fd30aec615",
   "metadata": {},
   "outputs": [
    {
     "data": {
      "text/plain": [
       "[<npc.Array shape=(8, 2, 8) labels=['vL', 'p', 'vR']>,\n",
       " <npc.Array shape=(8, 2, 8) labels=['vL', 'p', 'vR']>,\n",
       " <npc.Array shape=(8, 2, 8) labels=['vL', 'p', 'vR']>,\n",
       " <npc.Array shape=(8, 2, 8) labels=['vL', 'p', 'vR']>,\n",
       " <npc.Array shape=(8, 2, 8) labels=['vL', 'p', 'vR']>,\n",
       " <npc.Array shape=(8, 2, 8) labels=['vL', 'p', 'vR']>,\n",
       " <npc.Array shape=(8, 2, 8) labels=['vL', 'p', 'vR']>,\n",
       " <npc.Array shape=(8, 2, 8) labels=['vL', 'p', 'vR']>,\n",
       " <npc.Array shape=(8, 2, 8) labels=['vL', 'p', 'vR']>,\n",
       " <npc.Array shape=(8, 2, 8) labels=['vL', 'p', 'vR']>,\n",
       " <npc.Array shape=(8, 8, 2) labels=['vL', 'vR', 'p']>]"
      ]
     },
     "execution_count": 120,
     "metadata": {},
     "output_type": "execute_result"
    }
   ],
   "source": [
    "bs_2"
   ]
  },
  {
   "cell_type": "markdown",
   "id": "3ed52abb-3adb-4c3f-b3e5-3c455bccfc24",
   "metadata": {},
   "source": [
    "Test overlap"
   ]
  },
  {
   "cell_type": "code",
   "execution_count": 121,
   "id": "53ec78e9-138e-47d0-88ba-02bd7e615cf8",
   "metadata": {},
   "outputs": [],
   "source": [
    "t = test.right_projected_symmetry_state\n",
    "\n",
    "for bu, bd in zip(bs_2, bs):\n",
    "    t = npc.tensordot(t, bu, [['vR',],['vL',]])\n",
    "    t = npc.tensordot(t, bd.conj(), [['vR*', 'p'],['vL*', 'p*']])\n",
    "\n",
    "e = npc.trace(t)"
   ]
  },
  {
   "cell_type": "code",
   "execution_count": 122,
   "id": "7716786a-de65-409d-b72e-13afb60d3008",
   "metadata": {},
   "outputs": [
    {
     "data": {
      "text/plain": [
       "(1.1766159438778185+0j)"
      ]
     },
     "execution_count": 122,
     "metadata": {},
     "output_type": "execute_result"
    }
   ],
   "source": [
    "e"
   ]
  },
  {
   "cell_type": "markdown",
   "id": "e91eeefa-3ec5-4cc2-9763-24a745a3dee6",
   "metadata": {},
   "source": [
    "Correct."
   ]
  },
  {
   "cell_type": "code",
   "execution_count": 55,
   "id": "69b4a90d-c3ec-44e8-a63d-499f174377e1",
   "metadata": {},
   "outputs": [
    {
     "data": {
      "text/plain": [
       "[<npc.Array shape=(2, 2) labels=['p*', 'p']>,\n",
       " <npc.Array shape=(4, 4) labels=['(pl*.pr*)', '(pl.pr)']>,\n",
       " <npc.Array shape=(4, 4) labels=['(pl*.pr*)', '(pl.pr)']>,\n",
       " <npc.Array shape=(4, 4) labels=['(pl*.pr*)', '(pl.pr)']>,\n",
       " <npc.Array shape=(4, 4) labels=['(pl*.pr*)', '(pl.pr)']>,\n",
       " <npc.Array shape=(4, 4) labels=['(pl*.pr*)', '(pl.pr)']>]"
      ]
     },
     "execution_count": 55,
     "metadata": {},
     "output_type": "execute_result"
    }
   ],
   "source": [
    "unitaries"
   ]
  },
  {
   "cell_type": "code",
   "execution_count": 56,
   "id": "1fad5a54-2d09-40eb-97ed-1189b5b707b5",
   "metadata": {},
   "outputs": [
    {
     "data": {
      "text/plain": [
       "<npc.Array shape=(2, 2, 2, 2) labels=['pl*', 'pr*', 'pl', 'pr']>"
      ]
     },
     "execution_count": 56,
     "metadata": {},
     "output_type": "execute_result"
    }
   ],
   "source": [
    "unitaries[1].split_legs()"
   ]
  },
  {
   "cell_type": "code",
   "execution_count": 57,
   "id": "aaaa1169-1aa2-482c-bff3-f9bfa68cd48f",
   "metadata": {},
   "outputs": [
    {
     "data": {
      "text/plain": [
       "(<npc.Array shape=(1, 2, 2, 4) labels=['vL', 'p', 'p*', 'vR']>,\n",
       " <npc.Array shape=(1, 4, 2, 2) labels=['vR', 'vL', 'p', 'p*']>)"
      ]
     },
     "execution_count": 57,
     "metadata": {},
     "output_type": "execute_result"
    }
   ],
   "source": [
    "split_combined_u(unitaries[1])"
   ]
  },
  {
   "cell_type": "code",
   "execution_count": 58,
   "id": "a0cee4a7-5630-49fa-a8b5-b2d6be0d0d2f",
   "metadata": {},
   "outputs": [],
   "source": [
    "mpo_tensors_1 = [unitary_to_mpo_tensor(unitaries[0]),]\n",
    "\n",
    "for u in unitaries[1:]:\n",
    "    wl, wr = split_combined_u(u)\n",
    "    mpo_tensors_1.append(wl)\n",
    "    mpo_tensors_1.append(wr)    "
   ]
  },
  {
   "cell_type": "code",
   "execution_count": 59,
   "id": "a5ff6c76-fc66-457f-a77f-14b71c49d56b",
   "metadata": {},
   "outputs": [
    {
     "data": {
      "text/plain": [
       "[<npc.Array shape=(1, 1, 2, 2) labels=['vR', 'vL', 'p*', 'p']>,\n",
       " <npc.Array shape=(1, 2, 2, 4) labels=['vL', 'p', 'p*', 'vR']>,\n",
       " <npc.Array shape=(1, 4, 2, 2) labels=['vR', 'vL', 'p', 'p*']>,\n",
       " <npc.Array shape=(1, 2, 2, 4) labels=['vL', 'p', 'p*', 'vR']>,\n",
       " <npc.Array shape=(1, 4, 2, 2) labels=['vR', 'vL', 'p', 'p*']>,\n",
       " <npc.Array shape=(1, 2, 2, 4) labels=['vL', 'p', 'p*', 'vR']>,\n",
       " <npc.Array shape=(1, 4, 2, 2) labels=['vR', 'vL', 'p', 'p*']>,\n",
       " <npc.Array shape=(1, 2, 2, 4) labels=['vL', 'p', 'p*', 'vR']>,\n",
       " <npc.Array shape=(1, 4, 2, 2) labels=['vR', 'vL', 'p', 'p*']>,\n",
       " <npc.Array shape=(1, 2, 2, 4) labels=['vL', 'p', 'p*', 'vR']>,\n",
       " <npc.Array shape=(1, 4, 2, 2) labels=['vR', 'vL', 'p', 'p*']>]"
      ]
     },
     "execution_count": 59,
     "metadata": {},
     "output_type": "execute_result"
    }
   ],
   "source": [
    "mpo_tensors_1"
   ]
  },
  {
   "cell_type": "markdown",
   "id": "e188705f-fb95-45d6-a0a7-6b4c6dc308a2",
   "metadata": {},
   "source": [
    "# Old code"
   ]
  },
  {
   "cell_type": "code",
   "execution_count": 61,
   "id": "d6f73478-90ab-4efd-8c53-534dccf67ea1",
   "metadata": {},
   "outputs": [
    {
     "data": {
      "text/plain": [
       "LegCharge(ChargeInfo([], []), qconj=-1,\n",
       "array([0, 4]), array([], shape=(1, 0), dtype=int64))"
      ]
     },
     "execution_count": 61,
     "metadata": {},
     "output_type": "execute_result"
    }
   ],
   "source": [
    "right_leg_charge"
   ]
  },
  {
   "cell_type": "code",
   "execution_count": 62,
   "id": "9db6a04c-2e46-404a-aea5-b7884130a229",
   "metadata": {},
   "outputs": [
    {
     "data": {
      "text/plain": [
       "ChargeInfo([], [])"
      ]
     },
     "execution_count": 62,
     "metadata": {},
     "output_type": "execute_result"
    }
   ],
   "source": [
    "right_leg_charge.chinfo"
   ]
  },
  {
   "cell_type": "code",
   "execution_count": 65,
   "id": "82245065-29b1-44f9-8b71-4d2dde232d8d",
   "metadata": {},
   "outputs": [
    {
     "data": {
      "text/plain": [
       "array([0, 4])"
      ]
     },
     "execution_count": 65,
     "metadata": {},
     "output_type": "execute_result"
    }
   ],
   "source": [
    "right_leg_charge.slices"
   ]
  },
  {
   "cell_type": "code",
   "execution_count": 64,
   "id": "d83f43fc-b3d5-483b-98f4-e6889ff1e324",
   "metadata": {},
   "outputs": [
    {
     "data": {
      "text/plain": [
       "numpy.ndarray"
      ]
     },
     "execution_count": 64,
     "metadata": {},
     "output_type": "execute_result"
    }
   ],
   "source": [
    "type(right_leg_charge.slices)"
   ]
  },
  {
   "cell_type": "code",
   "execution_count": 66,
   "id": "54f0ac0b-e4f5-4a24-8561-849be7f24327",
   "metadata": {},
   "outputs": [
    {
     "data": {
      "text/plain": [
       "(2,)"
      ]
     },
     "execution_count": 66,
     "metadata": {},
     "output_type": "execute_result"
    }
   ],
   "source": [
    "right_leg_charge.slices.shape"
   ]
  },
  {
   "cell_type": "code",
   "execution_count": 67,
   "id": "5c407abe-5355-4799-b335-367e0d47ab6a",
   "metadata": {},
   "outputs": [
    {
     "data": {
      "text/plain": [
       "array([], shape=(1, 0), dtype=int64)"
      ]
     },
     "execution_count": 67,
     "metadata": {},
     "output_type": "execute_result"
    }
   ],
   "source": [
    "right_leg_charge.charges"
   ]
  },
  {
   "cell_type": "code",
   "execution_count": 75,
   "id": "6387476e-25c5-4c69-9237-08f484ae8004",
   "metadata": {},
   "outputs": [
    {
     "data": {
      "text/plain": [
       "LegCharge(ChargeInfo([], []), qconj=-1,\n",
       "array([0, 4]), array([], shape=(1, 0), dtype=int64))"
      ]
     },
     "execution_count": 75,
     "metadata": {},
     "output_type": "execute_result"
    }
   ],
   "source": [
    "tenpy.linalg.charges.LegCharge(\n",
    "    tenpy.linalg.charges.ChargeInfo([], []),\n",
    "    np.array([0, 4]),\n",
    "    np.array([[]], dtype='int64'),\n",
    "    qconj=-1\n",
    ")"
   ]
  },
  {
   "cell_type": "code",
   "execution_count": 74,
   "id": "a0cf3c59-355b-4c83-b785-4461109e451d",
   "metadata": {},
   "outputs": [
    {
     "data": {
      "text/plain": [
       "array([], shape=(1, 0), dtype=int64)"
      ]
     },
     "execution_count": 74,
     "metadata": {},
     "output_type": "execute_result"
    }
   ],
   "source": [
    "np.array([[]], dtype='int64')"
   ]
  }
 ],
 "metadata": {
  "kernelspec": {
   "display_name": "num_spt_venv_p11",
   "language": "python",
   "name": "num_spt_venv_p11"
  },
  "language_info": {
   "codemirror_mode": {
    "name": "ipython",
    "version": 3
   },
   "file_extension": ".py",
   "mimetype": "text/x-python",
   "name": "python",
   "nbconvert_exporter": "python",
   "pygments_lexer": "ipython3",
   "version": "3.11.9"
  }
 },
 "nbformat": 4,
 "nbformat_minor": 5
}
