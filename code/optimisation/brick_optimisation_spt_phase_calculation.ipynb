{
 "cells": [
  {
   "cell_type": "markdown",
   "id": "5f2205a4-2c74-4cf5-9ad1-9d65bd13bed2",
   "metadata": {},
   "source": [
    "# Brick optimisation SPT phase calculation\n",
    "\n",
    "Created 03/09/2024\n",
    "\n",
    "Objectives:\n",
    "* Calculate the SPT phases using brick optimsation.\n",
    "* Explore validity, do the resulting MPOs output the expected state?\n",
    "* When multiplied, are the resulting MPOs the same, up to the projective representation phase?\n",
    "* Can caluclate the phase by comparing MPO tensor by tensor or calculating an overall trace. Which is more accurate?"
   ]
  },
  {
   "cell_type": "markdown",
   "id": "9ad0db4d-805c-4403-9d48-c71d523d572f",
   "metadata": {},
   "source": [
    "# Package imports"
   ]
  },
  {
   "cell_type": "code",
   "execution_count": 1,
   "id": "ecb41ea3-927f-4efa-aebe-ce15784aa037",
   "metadata": {},
   "outputs": [],
   "source": [
    "import sys\n",
    "sys.path.append('../')"
   ]
  },
  {
   "cell_type": "code",
   "execution_count": 2,
   "id": "4a525ec6-f0c8-47ee-8b0b-345bf0ef8bd3",
   "metadata": {},
   "outputs": [],
   "source": [
    "import h5py\n",
    "from tenpy.tools import hdf5_io\n",
    "import tenpy\n",
    "import tenpy.linalg.np_conserved as npc\n",
    "\n",
    "import os"
   ]
  },
  {
   "cell_type": "code",
   "execution_count": 3,
   "id": "b22092ac-9191-4a2d-b568-8680c3687185",
   "metadata": {},
   "outputs": [],
   "source": [
    "from functools import reduce\n",
    "from operator import mul"
   ]
  },
  {
   "cell_type": "code",
   "execution_count": 4,
   "id": "214f688a-c657-4810-b4d1-b1247deff62c",
   "metadata": {},
   "outputs": [],
   "source": [
    "import numpy as np\n",
    "import matplotlib.pyplot as plt"
   ]
  },
  {
   "cell_type": "code",
   "execution_count": 5,
   "id": "b8dec68d-a5b3-4383-ab44-567a9a5981b3",
   "metadata": {},
   "outputs": [],
   "source": [
    "from SPTOptimization.SymmetryActionWithBoundaryUnitaries import SymmetryActionWithBoundaryUnitaries\n",
    "\n",
    "from SPTOptimization.Optimizers.OneSiteSolver import OneSiteSolver\n",
    "\n",
    "from SPTOptimization.utils import (\n",
    "    to_npc_array,\n",
    "    get_right_identity_environment,\n",
    "    multiply_transfer_matrices\n",
    ")\n",
    "\n",
    "from SPTOptimization.Optimizers.utils import (\n",
    "    one_site_optimization_sweep_right\n",
    ")"
   ]
  },
  {
   "cell_type": "code",
   "execution_count": 6,
   "id": "b7461fe3-41a3-492f-b018-8e32e27a7300",
   "metadata": {},
   "outputs": [],
   "source": [
    "import re"
   ]
  },
  {
   "cell_type": "markdown",
   "id": "c69a8a47-e298-4c4c-97f7-a6157da4e15f",
   "metadata": {},
   "source": [
    "# Load data"
   ]
  },
  {
   "cell_type": "code",
   "execution_count": 7,
   "id": "210d7dcc-b7ae-4f06-8429-84177bec47d3",
   "metadata": {},
   "outputs": [],
   "source": [
    "DATA_DIR = r\"../data/transverse_cluster_200_site_dmrg\""
   ]
  },
  {
   "cell_type": "code",
   "execution_count": 8,
   "id": "52736de2-8178-4035-9861-2f17b8d972fc",
   "metadata": {},
   "outputs": [],
   "source": [
    "f_name = DATA_DIR + r\"/0_90.h5\""
   ]
  },
  {
   "cell_type": "code",
   "execution_count": 9,
   "id": "294bd63f-24bb-46d4-9716-76d74e82b013",
   "metadata": {},
   "outputs": [
    {
     "data": {
      "text/plain": [
       "'../data/transverse_cluster_200_site_dmrg/0_90.h5'"
      ]
     },
     "execution_count": 9,
     "metadata": {},
     "output_type": "execute_result"
    }
   ],
   "source": [
    "f_name"
   ]
  },
  {
   "cell_type": "code",
   "execution_count": 10,
   "id": "68e653fc-625c-4010-ac8e-f7740131b8cc",
   "metadata": {},
   "outputs": [],
   "source": [
    "with h5py.File(f_name, 'r') as f:\n",
    "    data = hdf5_io.load_from_hdf5(f)\n",
    "    test_psi = data['wavefunction']"
   ]
  },
  {
   "cell_type": "markdown",
   "id": "b4c1e616-c034-404b-b59e-196d1eaac475",
   "metadata": {},
   "source": [
    "# Definitons"
   ]
  },
  {
   "cell_type": "markdown",
   "id": "4e7fe320-7b4b-43e7-8831-c0dbb8115502",
   "metadata": {},
   "source": [
    "Will need to update these based off previous work..."
   ]
  },
  {
   "cell_type": "code",
   "execution_count": 153,
   "id": "63506364-f535-4c0f-8c5f-8839c69f7b9d",
   "metadata": {},
   "outputs": [],
   "source": [
    "MAX_VIRTUAL_BOND_DIM = 8\n",
    "MAX_INTERMEDIATE_VIRTUAL_BOND_DIM = 2*MAX_VIRTUAL_BOND_DIM\n",
    "MAX_MPO_BOND_DIM = 50\n",
    "\n",
    "SVD_CUTOFF = 1e-3"
   ]
  },
  {
   "cell_type": "code",
   "execution_count": 154,
   "id": "513d7288-c641-4071-a4a3-652787d1f98c",
   "metadata": {},
   "outputs": [],
   "source": [
    "np_I = np.array([[1,0],[0,1]])\n",
    "np_X = np.array([[0,1],[1,0]])\n",
    "np_Y = np.array([[0,-1j],[1j,0]])\n",
    "np_Z = np.array([[1,0],[0,-1]])"
   ]
  },
  {
   "cell_type": "code",
   "execution_count": 155,
   "id": "2a78a62e-37eb-4baf-98ba-d6a94d599bec",
   "metadata": {},
   "outputs": [],
   "source": [
    "npc_I = to_npc_array(np_I)\n",
    "npc_X = to_npc_array(np_X)\n",
    "npc_Y = to_npc_array(np_Y)\n",
    "npc_Z = to_npc_array(np_Z)"
   ]
  },
  {
   "cell_type": "code",
   "execution_count": 156,
   "id": "b9e2f954-c591-4479-ba37-32862c25c660",
   "metadata": {},
   "outputs": [],
   "source": [
    "symmetry_actions = [\n",
    "    [np_I, np_X],\n",
    "    [np_X, np_I],\n",
    "    [np_X, np_X]\n",
    "]"
   ]
  },
  {
   "cell_type": "code",
   "execution_count": 157,
   "id": "abbc24c4-1f37-491d-a894-fefcfa523584",
   "metadata": {},
   "outputs": [],
   "source": [
    "cases = [\n",
    "    SymmetryActionWithBoundaryUnitaries(test_psi, a*50)\n",
    "    for a in symmetry_actions\n",
    "]"
   ]
  },
  {
   "cell_type": "code",
   "execution_count": 158,
   "id": "ee85be38-bc3f-4942-b604-badc919c9991",
   "metadata": {},
   "outputs": [],
   "source": [
    "for c in cases:\n",
    "    c.compute_svd_symmetry_action()"
   ]
  },
  {
   "cell_type": "code",
   "execution_count": 159,
   "id": "6bac53fa-b629-46fc-a145-f932a0af6f18",
   "metadata": {},
   "outputs": [],
   "source": [
    "left_trivial_leg_charge = tenpy.linalg.charges.LegCharge(\n",
    "    tenpy.linalg.charges.ChargeInfo([], []),\n",
    "    [0,1],\n",
    "    [[]],\n",
    "    qconj=1\n",
    ")"
   ]
  },
  {
   "cell_type": "code",
   "execution_count": 160,
   "id": "44f34cb7-0888-474b-9483-f4956951fc31",
   "metadata": {},
   "outputs": [],
   "source": [
    "right_trivial_leg_charge = tenpy.linalg.charges.LegCharge(\n",
    "    tenpy.linalg.charges.ChargeInfo([], []),\n",
    "    [0,1],\n",
    "    [[]],\n",
    "    qconj=-1\n",
    ")"
   ]
  },
  {
   "cell_type": "markdown",
   "id": "38c05308-5c2c-4c60-8eb5-7446af7f85d7",
   "metadata": {},
   "source": [
    "## Functions"
   ]
  },
  {
   "cell_type": "markdown",
   "id": "fbf28b75-1454-41f0-a17d-dd1d8891cb81",
   "metadata": {},
   "source": [
    "### Leg and label functions"
   ]
  },
  {
   "cell_type": "code",
   "execution_count": 161,
   "id": "0cc65d77-76f3-4159-b2e6-e0ab8429c271",
   "metadata": {},
   "outputs": [],
   "source": [
    "P_LEG_LABEL_REGEX_STRING = r\"^p\\d*$\"\n",
    "p_leg_pattern = re.compile(P_LEG_LABEL_REGEX_STRING)\n",
    "\n",
    "def is_single_physical_leg_label(label):\n",
    "    return bool(p_leg_pattern.match(label))"
   ]
  },
  {
   "cell_type": "code",
   "execution_count": 162,
   "id": "af651898-f853-4710-bfa7-2928d6bb8d55",
   "metadata": {},
   "outputs": [],
   "source": [
    "def is_grouped_physical_leg_label(leg_label):\n",
    "    head, *body, tail = leg_label\n",
    "    if (head != '(') or (tail != ')'):\n",
    "        return False\n",
    "\n",
    "    body = ''.join(body)\n",
    "    legs = body.split('.')\n",
    "\n",
    "    return all(is_single_physical_leg_label(l) for l in legs)"
   ]
  },
  {
   "cell_type": "code",
   "execution_count": 163,
   "id": "1b14fc57-4f21-432e-b2b9-6dcafc179ef2",
   "metadata": {},
   "outputs": [],
   "source": [
    "def is_physical_leg_label(label):\n",
    "    out = (\n",
    "        is_single_physical_leg_label(label)\n",
    "        or is_grouped_physical_leg_label(label)\n",
    "    )\n",
    "\n",
    "    return out"
   ]
  },
  {
   "cell_type": "code",
   "execution_count": 164,
   "id": "949e51b3-8bd1-409f-bb98-0a57d1c99888",
   "metadata": {},
   "outputs": [],
   "source": [
    "def extract_single_physical_leg_label_from_tensor(b):\n",
    "    out = next(\n",
    "        l for l in b.get_leg_labels()\n",
    "        if is_single_physical_leg_label(l)\n",
    "    )\n",
    "\n",
    "    return out"
   ]
  },
  {
   "cell_type": "code",
   "execution_count": 165,
   "id": "1d03a2c8-1e74-4a87-abec-67ec6857100c",
   "metadata": {},
   "outputs": [],
   "source": [
    "def conjugate_single_physical_leg_label(label):\n",
    "    return label + '*'"
   ]
  },
  {
   "cell_type": "code",
   "execution_count": 166,
   "id": "16f3235f-6efc-4739-8dae-a42093c12370",
   "metadata": {},
   "outputs": [],
   "source": [
    "def conjugate_grouped_physical_leg_label(label):\n",
    "    _, *body, _ = label\n",
    "    single_labels = ''.join(body).split('.')\n",
    "\n",
    "    conjugate_labels = [\n",
    "        conjugate_single_physical_leg_label(l)\n",
    "        for l in single_labels\n",
    "    ]\n",
    "\n",
    "    conjugate_body = '.'.join(conjugate_labels)\n",
    "    out = '(' + conjugate_body + ')'\n",
    "    \n",
    "    return out"
   ]
  },
  {
   "cell_type": "code",
   "execution_count": 167,
   "id": "8dab4c14-1fb5-4933-b68c-204cc96541c4",
   "metadata": {},
   "outputs": [],
   "source": [
    "def conjugate_leg_label(label):\n",
    "    if is_single_physical_leg_label(label):\n",
    "        return conjugate_single_physical_leg_label(label)\n",
    "    elif is_grouped_physical_leg_label(label):\n",
    "        return conjugate_grouped_physical_leg_label(label)\n",
    "    else:\n",
    "        raise ValueError"
   ]
  },
  {
   "cell_type": "code",
   "execution_count": 168,
   "id": "8e00e4ef-bb2b-4229-8e92-5e07ec9931b4",
   "metadata": {},
   "outputs": [],
   "source": [
    "def get_physical_leg_labels(t):\n",
    "    out = [\n",
    "        ll for ll in t.get_leg_labels()\n",
    "        if is_physical_leg_label(ll)\n",
    "    ]\n",
    "\n",
    "    return out"
   ]
  },
  {
   "cell_type": "markdown",
   "id": "818c2f27-1431-42a7-ab63-9d81972ed7e2",
   "metadata": {},
   "source": [
    "### Other"
   ]
  },
  {
   "cell_type": "code",
   "execution_count": 169,
   "id": "d2464abb-fd7e-469a-a7d4-e604e24e14bc",
   "metadata": {},
   "outputs": [],
   "source": [
    "def contract_virtual_legs(tl, tr):\n",
    "    return npc.tensordot(tl, tr, ['vR', 'vL'])"
   ]
  },
  {
   "cell_type": "code",
   "execution_count": 170,
   "id": "ac3f7a01-08a2-4937-8308-f12f637f38b6",
   "metadata": {},
   "outputs": [],
   "source": [
    "def combine_tensors(tensors):\n",
    "    out = reduce(contract_virtual_legs, tensors)\n",
    "\n",
    "    leg_labels = [\n",
    "        extract_single_physical_leg_label_from_tensor(t)\n",
    "        for t in tensors\n",
    "    ]\n",
    "\n",
    "    out = out.combine_legs(leg_labels)\n",
    "\n",
    "    return out"
   ]
  },
  {
   "cell_type": "code",
   "execution_count": 171,
   "id": "6b01c411-0a2a-499d-b220-b99e197ecbd8",
   "metadata": {},
   "outputs": [],
   "source": [
    "def combine_b_tensors(b_tensors):\n",
    "    renamed_tensors = [\n",
    "        b.replace_label('p', f'p{i}')\n",
    "        for i, b in enumerate(b_tensors)\n",
    "    ]\n",
    "\n",
    "    return combine_tensors(renamed_tensors)"
   ]
  },
  {
   "cell_type": "code",
   "execution_count": 172,
   "id": "41848361-7394-4eb5-8006-8ab618c0a274",
   "metadata": {},
   "outputs": [],
   "source": [
    "def get_identity_operator(mps_tensor):\n",
    "    p_leg_label = get_physical_leg_labels(mps_tensor)[0]\n",
    "    p_leg = mps_tensor.get_leg(p_leg_label)\n",
    "    p_leg_label_conj = conjugate_leg_label(p_leg_label)\n",
    "\n",
    "    out = npc.diag(\n",
    "        1,\n",
    "        leg=p_leg,\n",
    "        dtype='complex',\n",
    "        labels=[p_leg_label, p_leg_label_conj]\n",
    "    )\n",
    "\n",
    "    return out"
   ]
  },
  {
   "cell_type": "code",
   "execution_count": 173,
   "id": "0b0386d2-79d0-45ab-98ce-ead4ca433c30",
   "metadata": {},
   "outputs": [],
   "source": [
    "def svd_reduce_split_tensor(t, max_inner_dim=MAX_VIRTUAL_BOND_DIM,\n",
    "                           normalise=True, svd_cutoff=SVD_CUTOFF):\n",
    "    U, S, VH = npc.svd(\n",
    "        t,\n",
    "        compute_uv=True,\n",
    "        inner_labels=['vR', 'vL'],\n",
    "        cutoff=svd_cutoff\n",
    "    )\n",
    "\n",
    "    # Truncate tensors:\n",
    "    U = U[:, :max_inner_dim]\n",
    "    S = S[:max_inner_dim]\n",
    "    VH = VH[:max_inner_dim, :]\n",
    "\n",
    "    if normalise:\n",
    "        new_norm = np.sqrt(np.sum(S**2))\n",
    "        S = S/new_norm\n",
    "\n",
    "    \"\"\"\n",
    "    leg = VH.get_leg('vL')\n",
    "\n",
    "    schmidt_values = npc.diag(S, leg, labels=['vL', 'vR'])\n",
    "    \"\"\"\n",
    "\n",
    "    return U, S, VH"
   ]
  },
  {
   "cell_type": "code",
   "execution_count": 174,
   "id": "d2523496-e338-46ef-a2e2-5a8e8dbcba5f",
   "metadata": {},
   "outputs": [],
   "source": [
    "def split_combined_b(b, leftmost_schmidt_values,\n",
    "                     max_virtual_bond_dim=MAX_INTERMEDIATE_VIRTUAL_BOND_DIM,\n",
    "                     p_leg_labels=None):\n",
    "    t = b.split_legs()\n",
    "\n",
    "    num_sites = t.ndim - 2\n",
    "\n",
    "    if p_leg_labels is None:\n",
    "        p_leg_labels = [f'p{i}' for i in range(num_sites)]\n",
    "\n",
    "    out_bs = list()\n",
    "    out_schmidt_values = list()\n",
    "\n",
    "    current_left_schmidt_values = leftmost_schmidt_values\n",
    "\n",
    "    for i, ll in enumerate(p_leg_labels[:-1]):\n",
    "        t.iscale_axis(current_left_schmidt_values, axis='vL')\n",
    "\n",
    "        tail_legs = p_leg_labels[(i+1):]\n",
    "        \n",
    "        t = t.combine_legs([['vL', ll], ['vR', *tail_legs]])\n",
    "\n",
    "        U, S, VH = svd_reduce_split_tensor(\n",
    "            t,\n",
    "            max_inner_dim=max_virtual_bond_dim,\n",
    "            normalise=True\n",
    "        )\n",
    "\n",
    "        bl = (\n",
    "            U\n",
    "            .split_legs()\n",
    "            .replace_label(ll, 'p')\n",
    "        )\n",
    "        bl.iscale_axis(1/current_left_schmidt_values, axis='vL')\n",
    "        bl.iscale_axis(S, axis='vR')\n",
    "        bl.itranspose(['vL', 'p', 'vR'])\n",
    "        out_bs.append(bl)\n",
    "\n",
    "        out_schmidt_values.append(S)\n",
    "        current_left_schmidt_values=S\n",
    "\n",
    "        t = VH.split_legs()\n",
    "\n",
    "    bl = t.replace_label(p_leg_labels[-1], 'p')\n",
    "    bl.itranspose(['vL', 'p', 'vR'])\n",
    "    out_bs.append(bl)\n",
    "\n",
    "    return out_bs, out_schmidt_values"
   ]
  },
  {
   "cell_type": "code",
   "execution_count": 175,
   "id": "a02ec1af-d2c1-4766-a688-01946f284490",
   "metadata": {},
   "outputs": [],
   "source": [
    "def split_b(b, max_virtual_bond_dim=MAX_INTERMEDIATE_VIRTUAL_BOND_DIM,\n",
    "                     p_leg_labels=None):\n",
    "    leg_label = get_physical_leg_labels(b)[0]\n",
    "\n",
    "    if is_single_physical_leg_label(leg_label):\n",
    "        return b\n",
    "    elif is_grouped_physical_leg_label(leg_label):\n",
    "        return split_combined_b(b, max_virtual_bond_dim, p_leg_labels)\n",
    "    else:\n",
    "        raise ValueError"
   ]
  },
  {
   "cell_type": "code",
   "execution_count": 176,
   "id": "5dddedee-f5a2-4dc8-90e1-7afac18a0307",
   "metadata": {},
   "outputs": [],
   "source": [
    "def split_combined_u(u, max_virtual_bond_dim=MAX_VIRTUAL_BOND_DIM,\n",
    "                     p_leg_labels=None):\n",
    "    t = u.split_legs()\n",
    "    num_sites = t.ndim //2\n",
    "    \n",
    "    if p_leg_labels is None:\n",
    "        p_leg_labels = [f'p{i}' for i in range(num_sites)]\n",
    "\n",
    "    p_leg_labels_hc = [l+'*' for l in p_leg_labels]\n",
    "    out_ws = list()\n",
    "\n",
    "    for i, (ll, ll_hc) in enumerate(zip(p_leg_labels[:-1], p_leg_labels_hc[:-1])):\n",
    "        tail_legs = p_leg_labels[(i+1):]\n",
    "        tail_legs_hc = p_leg_labels_hc[(i+1):]\n",
    "\n",
    "        left_leg_labels = [ll, ll_hc]\n",
    "        if 'vL' in t.get_leg_labels():\n",
    "            left_leg_labels.append('vL')\n",
    "    \n",
    "        t = t.combine_legs([left_leg_labels, [*tail_legs, *tail_legs_hc]])\n",
    "\n",
    "        U, S, VH = svd_reduce_split_tensor(\n",
    "            t,\n",
    "            max_inner_dim=max_virtual_bond_dim,\n",
    "            normalise=False\n",
    "        )\n",
    "\n",
    "        U.iscale_axis(S, axis='vR')\n",
    "\n",
    "        wl = U.split_legs().replace_labels([ll, ll_hc], ['p', 'p*'])\n",
    "        #wl.itranspose(['p', 'p*'])\n",
    "        out_ws.append(wl)\n",
    "\n",
    "        t = VH.split_legs()\n",
    "\n",
    "    wl = t.replace_labels(\n",
    "        [p_leg_labels[-1], p_leg_labels_hc[-1]],\n",
    "        ['p', 'p*']\n",
    "    )\n",
    "    #wl.itranspose(['p', 'p*'])\n",
    "    out_ws.append(wl)\n",
    "\n",
    "    out_ws[0] = (\n",
    "        out_ws[0]\n",
    "        .add_leg(left_trivial_leg_charge, 0, label='vL')\n",
    "    )\n",
    "    \n",
    "    out_ws[-1] = (\n",
    "        out_ws[-1]\n",
    "        .add_leg(right_trivial_leg_charge, 0, label='vR')\n",
    "    )\n",
    "\n",
    "    return out_ws"
   ]
  },
  {
   "cell_type": "code",
   "execution_count": 177,
   "id": "a28056d8-7950-4661-b4b8-0b73e1f6cf97",
   "metadata": {},
   "outputs": [],
   "source": [
    "def split_u(u, max_virtual_bond_dim=MAX_VIRTUAL_BOND_DIM,\n",
    "            p_leg_labels=None):\n",
    "    leg_label = get_physical_leg_labels(u)[0]\n",
    "\n",
    "    if is_single_physical_leg_label(leg_label):\n",
    "        return [unitary_to_mpo_tensor(u),]\n",
    "    elif is_grouped_physical_leg_label(leg_label):\n",
    "        return split_combined_u(u, max_virtual_bond_dim, p_leg_labels)\n",
    "    else:\n",
    "        raise ValueError"
   ]
  },
  {
   "cell_type": "code",
   "execution_count": 178,
   "id": "bc71056c-f25f-4d68-b694-2a26c0ad5790",
   "metadata": {},
   "outputs": [],
   "source": [
    "def unitary_to_mpo_tensor(u):\n",
    "    out = (\n",
    "        u\n",
    "        .add_leg(left_trivial_leg_charge, 0, label='vL')\n",
    "        .add_leg(right_trivial_leg_charge, 0, label='vR')\n",
    "    )\n",
    "\n",
    "    return out"
   ]
  },
  {
   "cell_type": "code",
   "execution_count": 179,
   "id": "7b9fb468-6328-4ae0-b25a-652cb13032c1",
   "metadata": {},
   "outputs": [],
   "source": [
    "def multiply_individual_mpo_tensors(w1, w2):\n",
    "    w1 = w1.replace_labels(['vR', 'vL'], ['vR1', 'vL1'])\n",
    "    w2 = w2.replace_labels(['vR', 'vL'], ['vR2', 'vL2'])\n",
    "\n",
    "    w = (\n",
    "        npc.tensordot(w1, w2, [['p'], ['p*']])\n",
    "        .combine_legs([['vR1', 'vR2'], ['vL1', 'vL2']])\n",
    "        .replace_labels(['(vR1.vR2)', '(vL1.vL2)'], ['vR', 'vL'])\n",
    "    )\n",
    "\n",
    "    return w"
   ]
  },
  {
   "cell_type": "code",
   "execution_count": 180,
   "id": "f9a3a71f-0d3f-4ecf-8eec-c38f861561ef",
   "metadata": {},
   "outputs": [],
   "source": [
    "def group_elements(l, group_size, offset=0):\n",
    "    first, rest = l[:offset], l[offset:]\n",
    "\n",
    "    num_rest_groups = ((len(rest)-1)//group_size) + 1\n",
    "\n",
    "    groups = [first,] if first else list()\n",
    "\n",
    "    for i in range(num_rest_groups):\n",
    "        first_index = i*group_size\n",
    "        last_index = (i+1)*group_size\n",
    "        groups.append(rest[first_index:last_index])\n",
    "\n",
    "    return groups"
   ]
  },
  {
   "cell_type": "code",
   "execution_count": 181,
   "id": "96791fa9-9917-4440-b847-2bc4a3eb39e5",
   "metadata": {},
   "outputs": [],
   "source": [
    "def combine_grouped_b_tensors(grouped_bs):\n",
    "    out = list()\n",
    "\n",
    "    for group in grouped_bs:\n",
    "        if len(group) == 1:\n",
    "            out.append(group[0])\n",
    "        else:\n",
    "            out.append(combine_b_tensors(group))\n",
    "\n",
    "    return out"
   ]
  },
  {
   "cell_type": "code",
   "execution_count": 182,
   "id": "c78589cc-aa65-4aa1-9d53-0cf61702e92c",
   "metadata": {},
   "outputs": [],
   "source": [
    "def reduce_virtual_mpo_dim(wl, wr, max_virtual_bond_dim=MAX_VIRTUAL_BOND_DIM):\n",
    "    # wl = wl.replace_labels(['p', 'p*'], ['pl', 'pl*'])\n",
    "\n",
    "    wl = wl.combine_legs(['p', 'vL', 'p*'])\n",
    "    wr = wr.combine_legs(['p', 'vR', 'p*'])\n",
    "    w = npc.tensordot(wl, wr, ['vR', 'vL'])\n",
    "\n",
    "    wl, S, wr = svd_reduce_split_tensor(\n",
    "        w,\n",
    "        max_inner_dim=max_virtual_bond_dim\n",
    "    )\n",
    "\n",
    "    wl.iscale_axis(S, axis='vR')\n",
    "\n",
    "    wl = wl.split_legs()\n",
    "    wr = wr.split_legs()\n",
    "\n",
    "    return wl, wr"
   ]
  },
  {
   "cell_type": "code",
   "execution_count": 183,
   "id": "e7470053-b5df-45e0-b302-d7ad19d83f30",
   "metadata": {},
   "outputs": [],
   "source": [
    "def multiply_mpos(top_ws, bottom_ws, max_virtual_bond_dim=MAX_VIRTUAL_BOND_DIM):\n",
    "    ws = list()\n",
    "    \n",
    "    for w1, w2 in zip(top_ws, bottom_ws):\n",
    "        w = multiply_individual_mpo_tensors(w1, w2)\n",
    "        ws.append(w)\n",
    "\n",
    "\n",
    "    for i in range(len(ws)-1):\n",
    "        ws[i], ws[i+1] = reduce_virtual_mpo_dim(\n",
    "            ws[i],\n",
    "            ws[i+1],\n",
    "            max_virtual_bond_dim=max_virtual_bond_dim\n",
    "        )\n",
    "\n",
    "    return ws"
   ]
  },
  {
   "cell_type": "markdown",
   "id": "808162ba-8e2a-40bf-adcb-84aff74b5b95",
   "metadata": {},
   "source": [
    "### Layer function"
   ]
  },
  {
   "cell_type": "code",
   "execution_count": 184,
   "id": "28b4dd32-ad86-4b30-8047-0b8ad440a194",
   "metadata": {},
   "outputs": [],
   "source": [
    "def optimise_layer(\n",
    "        left_environment,\n",
    "        top_b_tensors,\n",
    "        left_schmidt_values,\n",
    "        block_width,\n",
    "        block_offset,\n",
    "        expectations,\n",
    "        previous_mpo_w_tensors,\n",
    "        bottom_b_tensors=None,\n",
    "        num_iterations=1,\n",
    "        max_virtual_bond_dim=MAX_VIRTUAL_BOND_DIM\n",
    "    ):\n",
    "\n",
    "    if bottom_b_tensors is None:\n",
    "        bottom_b_tensors = top_b_tensors\n",
    "\n",
    "    group = lambda x: group_elements(x, block_width, block_offset)\n",
    "    top_grouped_bs = group(top_b_tensors)\n",
    "    bottom_grouped_bs = group(bottom_b_tensors)\n",
    "    grouped_schmidt_values = group(left_schmidt_values)\n",
    "\n",
    "    top_combined_bs = combine_grouped_b_tensors(top_grouped_bs)\n",
    "    bottom_combined_bs = combine_grouped_b_tensors(bottom_grouped_bs)\n",
    "\n",
    "    unitaries = [\n",
    "        get_identity_operator(t) for t in top_combined_bs\n",
    "    ]\n",
    "\n",
    "    expectations.append(list())\n",
    "\n",
    "    for _ in range(num_iterations):\n",
    "        exps, *_ = one_site_optimization_sweep_right(\n",
    "            left_environment,\n",
    "            top_combined_bs,\n",
    "            unitaries,\n",
    "            bottom_combined_bs\n",
    "        )\n",
    "\n",
    "        expectations[-1].append(exps)\n",
    "\n",
    "    for i, u in enumerate(unitaries):\n",
    "        b = top_combined_bs[i]\n",
    "        ll = get_physical_leg_labels(b)[0]\n",
    "        llh = conjugate_leg_label(ll)\n",
    "    \n",
    "        new_b = npc.tensordot(b, u, [[ll,], [llh,]])\n",
    "    \n",
    "        top_combined_bs[i] = new_b\n",
    "\n",
    "    new_top_bs = list()\n",
    "    new_left_schmidt_values = left_schmidt_values.copy()\n",
    "\n",
    "    for b, s in zip (top_combined_bs, grouped_schmidt_values):\n",
    "        leg_label = get_physical_leg_labels(b)[0]\n",
    "        if is_single_physical_leg_label(leg_label):\n",
    "            new_top_bs.append(b)\n",
    "            new_left_schmidt_values.extend(s)\n",
    "        elif is_grouped_physical_leg_label(leg_label):\n",
    "            bs, schmidt_vals = split_combined_b(\n",
    "                b,\n",
    "                s[0],\n",
    "                max_virtual_bond_dim\n",
    "            )\n",
    "            new_top_bs.extend(bs)\n",
    "            new_left_schmidt_values.extend(s)\n",
    "\n",
    "    \"\"\"\n",
    "    for i, b in enumerate(new_top_bs):\n",
    "        top_b_tensors[i] = b\n",
    "    \"\"\"\n",
    "\n",
    "    current_unitary_w_tensors = list()\n",
    "\n",
    "    for u in unitaries:\n",
    "        split_us = split_u(u, max_virtual_bond_dim=MAX_MPO_BOND_DIM)\n",
    "        current_unitary_w_tensors.extend(split_us)\n",
    "\n",
    "    if previous_mpo_w_tensors == []:\n",
    "        for w in current_unitary_w_tensors:\n",
    "            previous_mpo_w_tensors.append(w)\n",
    "    else:\n",
    "        new_mpo_w_tensors = multiply_mpos(\n",
    "            previous_mpo_w_tensors,\n",
    "            current_unitary_w_tensors,\n",
    "            max_virtual_bond_dim=MAX_MPO_BOND_DIM\n",
    "        )\n",
    "\n",
    "        for i, w in enumerate(new_mpo_w_tensors):\n",
    "            previous_mpo_w_tensors[i] = w\n",
    "\n",
    "    return new_top_bs, new_left_schmidt_values"
   ]
  },
  {
   "cell_type": "code",
   "execution_count": 185,
   "id": "3a51ee7d-cf08-4382-bb53-55cae7533c76",
   "metadata": {},
   "outputs": [],
   "source": [
    "def inner_product_b_tensors(b_tensors, b_bra_tensors=None, left_environment=None,\n",
    "                            right_environment=None):\n",
    "    if b_bra_tensors is None:\n",
    "        b_bra_tensors = b_tensors\n",
    "\n",
    "    b = b_tensors[0]\n",
    "    b_bra = b_bra_tensors[0]\n",
    "\n",
    "    if left_environment is None:\n",
    "        t = npc.tensordot(b, b_bra.conj(), [['vL',], ['vL*',]])\n",
    "    else:\n",
    "        t = npc.tensordot(left_environment, b, [['vR',], ['vL',]])\n",
    "        t = npc.tensordot(t, b_bra.conj(), [['vR*', 'p'], ['vL*', 'p*']])\n",
    "\n",
    "    for b, b_bra in zip(b_tensors[1:], b_bra_tensors[1:]):\n",
    "        t = npc.tensordot(t, b, [['vR',], ['vL',]])\n",
    "        t = npc.tensordot(t, b_bra.conj(), [['vR*', 'p'], ['vL*', 'p*']])\n",
    "\n",
    "    if right_environment is None:\n",
    "        out = npc.trace(t)\n",
    "    else:\n",
    "        out = npc.tensordot(t, right_environment, [['vR', 'vR*'], ['vL', 'vL*']])\n",
    "\n",
    "    return out"
   ]
  },
  {
   "cell_type": "markdown",
   "id": "4de20b96-dc26-422f-87aa-d0220ebeb7cf",
   "metadata": {},
   "source": [
    "# Get MPO tensors for each case"
   ]
  },
  {
   "cell_type": "code",
   "execution_count": 186,
   "id": "89fbfd69-43a2-4a74-8885-82cde542c302",
   "metadata": {},
   "outputs": [],
   "source": [
    "test = cases[0]"
   ]
  },
  {
   "cell_type": "code",
   "execution_count": 187,
   "id": "5cceb5cb-84a8-48a5-978a-ad9c794af54b",
   "metadata": {},
   "outputs": [
    {
     "data": {
      "text/plain": [
       "149"
      ]
     },
     "execution_count": 187,
     "metadata": {},
     "output_type": "execute_result"
    }
   ],
   "source": [
    "test.right_symmetry_index"
   ]
  },
  {
   "cell_type": "code",
   "execution_count": 188,
   "id": "1cf15a5e-8b2b-4f59-884f-5f3b8faf527d",
   "metadata": {},
   "outputs": [],
   "source": [
    "bs = [\n",
    "    test_psi.get_B(i)\n",
    "    for k, i in enumerate(range(test.right_symmetry_index + 1, test.right_symmetry_index + 26))\n",
    "]"
   ]
  },
  {
   "cell_type": "code",
   "execution_count": 189,
   "id": "9c500b7f-a0f5-4c60-b642-33841f4f1861",
   "metadata": {},
   "outputs": [],
   "source": [
    "left_schmidt_values = [\n",
    "    test_psi.get_SL(i)\n",
    "    for _, i in enumerate(range(test.right_symmetry_index + 1, test.right_symmetry_index + 26))\n",
    "]"
   ]
  },
  {
   "cell_type": "code",
   "execution_count": 190,
   "id": "00a7dcf9-7193-4f7e-819c-573fae679ae1",
   "metadata": {},
   "outputs": [
    {
     "data": {
      "text/plain": [
       "25"
      ]
     },
     "execution_count": 190,
     "metadata": {},
     "output_type": "execute_result"
    }
   ],
   "source": [
    "len(bs)"
   ]
  },
  {
   "cell_type": "code",
   "execution_count": 191,
   "id": "077fcadf-448e-4ae0-a08d-57cb871e84d3",
   "metadata": {},
   "outputs": [
    {
     "data": {
      "text/plain": [
       "[[array([[1, 0],\n",
       "         [0, 1]]),\n",
       "  array([[0, 1],\n",
       "         [1, 0]])],\n",
       " [array([[0, 1],\n",
       "         [1, 0]]),\n",
       "  array([[1, 0],\n",
       "         [0, 1]])],\n",
       " [array([[0, 1],\n",
       "         [1, 0]]),\n",
       "  array([[0, 1],\n",
       "         [1, 0]])]]"
      ]
     },
     "execution_count": 191,
     "metadata": {},
     "output_type": "execute_result"
    }
   ],
   "source": [
    "symmetry_actions"
   ]
  },
  {
   "cell_type": "markdown",
   "id": "5f52b6be-1675-4148-b464-8a0b14a66fd5",
   "metadata": {},
   "source": [
    "## IX"
   ]
  },
  {
   "cell_type": "code",
   "execution_count": 192,
   "id": "143f2fa3-e2f1-4e82-a3ea-53869d7b8b55",
   "metadata": {},
   "outputs": [],
   "source": [
    "left_environment = cases[0].right_projected_symmetry_state\n",
    "bottom_b_tensors = bs\n",
    "top_b_tensors = [bs,]\n",
    "left_schmidt_values_list = [left_schmidt_values,]\n",
    "block_width = 7\n",
    "expectations = list()\n",
    "previous_mpo_w_tensors = []\n",
    "num_iterations = 3"
   ]
  },
  {
   "cell_type": "code",
   "execution_count": 193,
   "id": "d1761958-54c0-487a-b6d0-36a514e1f097",
   "metadata": {
    "scrolled": true
   },
   "outputs": [
    {
     "name": "stdout",
     "output_type": "stream",
     "text": [
      "Layer: 0\n",
      "Layer: 5\n",
      "Layer: 10\n",
      "Layer: 15\n",
      "Layer: 20\n",
      "Layer: 25\n"
     ]
    }
   ],
   "source": [
    "for i in range(30):\n",
    "    if i%5 == 0:\n",
    "        print(f\"Layer: {i}\")\n",
    "    \n",
    "    offset = i % block_width\n",
    "\n",
    "    new_top_b_tensors, new_schmidt_values = optimise_layer(\n",
    "        left_environment,\n",
    "        top_b_tensors[-1],\n",
    "        left_schmidt_values_list[-1],\n",
    "        block_width,\n",
    "        offset,\n",
    "        expectations,\n",
    "        previous_mpo_w_tensors,\n",
    "        bottom_b_tensors,\n",
    "        num_iterations\n",
    "    )\n",
    "\n",
    "    top_b_tensors.append(new_top_b_tensors)\n",
    "    left_schmidt_values_list.append(new_schmidt_values)"
   ]
  },
  {
   "cell_type": "code",
   "execution_count": 194,
   "id": "62199f38-799e-421f-8130-95688c40cfc9",
   "metadata": {},
   "outputs": [],
   "source": [
    "final_expectations = list()\n",
    "\n",
    "for l in expectations:\n",
    "    final_expectations.append(l[-1][-1])"
   ]
  },
  {
   "cell_type": "code",
   "execution_count": 195,
   "id": "47004d08-2907-40c1-be56-5e465e029746",
   "metadata": {},
   "outputs": [
    {
     "data": {
      "text/plain": [
       "[<matplotlib.lines.Line2D at 0x169c692d0>]"
      ]
     },
     "execution_count": 195,
     "metadata": {},
     "output_type": "execute_result"
    },
    {
     "data": {
      "image/png": "[encoded data removed]",
      "text/plain": [
       "<Figure size 640x480 with 1 Axes>"
      ]
     },
     "metadata": {},
     "output_type": "display_data"
    }
   ],
   "source": [
    "plt.plot(final_expectations)"
   ]
  },
  {
   "cell_type": "code",
   "execution_count": 196,
   "id": "a92b2259-b258-49f8-986b-66afffd7439e",
   "metadata": {},
   "outputs": [
    {
     "data": {
      "text/plain": [
       "1.4303073748409745"
      ]
     },
     "execution_count": 196,
     "metadata": {},
     "output_type": "execute_result"
    }
   ],
   "source": [
    "final_expectations[-1]"
   ]
  },
  {
   "cell_type": "code",
   "execution_count": 197,
   "id": "af424a3e-e93b-4cc6-9a13-9a0807890973",
   "metadata": {},
   "outputs": [],
   "source": [
    "mpo_tensors = list()"
   ]
  },
  {
   "cell_type": "code",
   "execution_count": 198,
   "id": "ff9313b4-3db4-4ea9-8c28-2c44d371c0dc",
   "metadata": {},
   "outputs": [],
   "source": [
    "ix_mpo = previous_mpo_w_tensors"
   ]
  },
  {
   "cell_type": "code",
   "execution_count": 199,
   "id": "4f993a7d-1102-4bd6-af7f-42930edeea30",
   "metadata": {},
   "outputs": [],
   "source": [
    "ix_state = new_top_b_tensors"
   ]
  },
  {
   "cell_type": "code",
   "execution_count": 200,
   "id": "8d22c75a-3215-4523-aae1-e0925448643c",
   "metadata": {},
   "outputs": [],
   "source": [
    "mpo_tensors.append(previous_mpo_w_tensors)"
   ]
  },
  {
   "cell_type": "markdown",
   "id": "fd3c27b6-0f40-4d99-827c-022189704338",
   "metadata": {},
   "source": [
    "## XI"
   ]
  },
  {
   "cell_type": "code",
   "execution_count": 201,
   "id": "816433d6-9c8e-4a35-86fb-90504574c378",
   "metadata": {},
   "outputs": [],
   "source": [
    "left_environment = cases[1].right_projected_symmetry_state\n",
    "bottom_b_tensors = bs\n",
    "top_b_tensors = [bs,]\n",
    "left_schmidt_values_list = [left_schmidt_values,]\n",
    "block_width = 7\n",
    "expectations = list()\n",
    "previous_mpo_w_tensors = []\n",
    "num_iterations = 3"
   ]
  },
  {
   "cell_type": "code",
   "execution_count": 202,
   "id": "51160aa8-0777-4045-bef6-dcaabb991c74",
   "metadata": {
    "scrolled": true
   },
   "outputs": [
    {
     "name": "stdout",
     "output_type": "stream",
     "text": [
      "Layer: 0\n",
      "Layer: 5\n",
      "Layer: 10\n",
      "Layer: 15\n",
      "Layer: 20\n",
      "Layer: 25\n"
     ]
    }
   ],
   "source": [
    "for i in range(30):\n",
    "    if i%5 == 0:\n",
    "        print(f\"Layer: {i}\")\n",
    "    \n",
    "    offset = i % block_width\n",
    "\n",
    "    new_top_b_tensors, new_schmidt_values = optimise_layer(\n",
    "        left_environment,\n",
    "        top_b_tensors[-1],\n",
    "        left_schmidt_values_list[-1],\n",
    "        block_width,\n",
    "        offset,\n",
    "        expectations,\n",
    "        previous_mpo_w_tensors,\n",
    "        bottom_b_tensors,\n",
    "        num_iterations\n",
    "    )\n",
    "\n",
    "    top_b_tensors.append(new_top_b_tensors)\n",
    "    left_schmidt_values_list.append(new_schmidt_values)"
   ]
  },
  {
   "cell_type": "code",
   "execution_count": 203,
   "id": "ca2ac15c-6ef5-4ce0-8722-0197223118ea",
   "metadata": {},
   "outputs": [],
   "source": [
    "final_expectations = list()\n",
    "\n",
    "for l in expectations:\n",
    "    final_expectations.append(l[-1][-1])"
   ]
  },
  {
   "cell_type": "code",
   "execution_count": 204,
   "id": "079eca40-23a6-4d76-9ab3-9835190c370c",
   "metadata": {},
   "outputs": [
    {
     "data": {
      "text/plain": [
       "[<matplotlib.lines.Line2D at 0x169fd81d0>]"
      ]
     },
     "execution_count": 204,
     "metadata": {},
     "output_type": "execute_result"
    },
    {
     "data": {
      "image/png": "[encoded data removed]",
      "text/plain": [
       "<Figure size 640x480 with 1 Axes>"
      ]
     },
     "metadata": {},
     "output_type": "display_data"
    }
   ],
   "source": [
    "plt.plot(final_expectations)"
   ]
  },
  {
   "cell_type": "code",
   "execution_count": 205,
   "id": "4a4153d0-da7d-4d42-b641-56432d28ab41",
   "metadata": {},
   "outputs": [
    {
     "data": {
      "text/plain": [
       "1.426812464463985"
      ]
     },
     "execution_count": 205,
     "metadata": {},
     "output_type": "execute_result"
    }
   ],
   "source": [
    "final_expectations[-1]"
   ]
  },
  {
   "cell_type": "code",
   "execution_count": 206,
   "id": "b781aa24-3706-4e10-b2b7-6f4e4656650e",
   "metadata": {},
   "outputs": [],
   "source": [
    "xi_mpo = previous_mpo_w_tensors"
   ]
  },
  {
   "cell_type": "code",
   "execution_count": 207,
   "id": "aa6379bc-9dae-4a08-85e4-74e980eff4e1",
   "metadata": {},
   "outputs": [],
   "source": [
    "xi_state = new_top_b_tensors"
   ]
  },
  {
   "cell_type": "code",
   "execution_count": 208,
   "id": "fd3fecd4-7047-4976-b76c-2f92b0c4e236",
   "metadata": {},
   "outputs": [],
   "source": [
    "mpo_tensors.append(previous_mpo_w_tensors)"
   ]
  },
  {
   "cell_type": "markdown",
   "id": "7a4caf8b-77a6-4193-9add-690bc4be18c1",
   "metadata": {},
   "source": [
    "## XX"
   ]
  },
  {
   "cell_type": "code",
   "execution_count": 209,
   "id": "a6d1e94a-be5b-483e-b80d-c28c6beb9f08",
   "metadata": {},
   "outputs": [],
   "source": [
    "left_environment = cases[2].right_projected_symmetry_state\n",
    "bottom_b_tensors = bs\n",
    "top_b_tensors = [bs,]\n",
    "left_schmidt_values_list = [left_schmidt_values,]\n",
    "block_width = 7\n",
    "expectations = list()\n",
    "previous_mpo_w_tensors = []\n",
    "num_iterations = 3"
   ]
  },
  {
   "cell_type": "code",
   "execution_count": 210,
   "id": "25a3fb31-1ce0-4d9e-a111-8576ed8f1c3b",
   "metadata": {
    "scrolled": true
   },
   "outputs": [
    {
     "name": "stdout",
     "output_type": "stream",
     "text": [
      "Layer: 0\n",
      "Layer: 5\n",
      "Layer: 10\n",
      "Layer: 15\n",
      "Layer: 20\n",
      "Layer: 25\n"
     ]
    }
   ],
   "source": [
    "for i in range(30):\n",
    "    if i%5 == 0:\n",
    "        print(f\"Layer: {i}\")\n",
    "    \n",
    "    offset = i % block_width\n",
    "\n",
    "    new_top_b_tensors, new_schmidt_values = optimise_layer(\n",
    "        left_environment,\n",
    "        top_b_tensors[-1],\n",
    "        left_schmidt_values_list[-1],\n",
    "        block_width,\n",
    "        offset,\n",
    "        expectations,\n",
    "        previous_mpo_w_tensors,\n",
    "        bottom_b_tensors,\n",
    "        num_iterations\n",
    "    )\n",
    "\n",
    "    top_b_tensors.append(new_top_b_tensors)\n",
    "    left_schmidt_values_list.append(new_schmidt_values)"
   ]
  },
  {
   "cell_type": "code",
   "execution_count": 211,
   "id": "6e8e67d9-d205-45be-83ae-2263744a6c65",
   "metadata": {},
   "outputs": [],
   "source": [
    "final_expectations = list()\n",
    "\n",
    "for l in expectations:\n",
    "    final_expectations.append(l[-1][-1])"
   ]
  },
  {
   "cell_type": "code",
   "execution_count": 212,
   "id": "07367ca7-88c4-4a9a-a983-cf5822ee35c6",
   "metadata": {},
   "outputs": [
    {
     "data": {
      "text/plain": [
       "[<matplotlib.lines.Line2D at 0x16a0981d0>]"
      ]
     },
     "execution_count": 212,
     "metadata": {},
     "output_type": "execute_result"
    },
    {
     "data": {
      "image/png": "[encoded data removed]",
      "text/plain": [
       "<Figure size 640x480 with 1 Axes>"
      ]
     },
     "metadata": {},
     "output_type": "display_data"
    }
   ],
   "source": [
    "plt.plot(final_expectations)"
   ]
  },
  {
   "cell_type": "code",
   "execution_count": 213,
   "id": "05eedb13-4695-4906-9366-aa990f692f6e",
   "metadata": {},
   "outputs": [
    {
     "data": {
      "text/plain": [
       "1.4314127076527376"
      ]
     },
     "execution_count": 213,
     "metadata": {},
     "output_type": "execute_result"
    }
   ],
   "source": [
    "final_expectations[-1]"
   ]
  },
  {
   "cell_type": "code",
   "execution_count": 214,
   "id": "7df3d530-9787-4b5c-8cf4-aebab9dccc3f",
   "metadata": {},
   "outputs": [],
   "source": [
    "xx_mpo = previous_mpo_w_tensors"
   ]
  },
  {
   "cell_type": "code",
   "execution_count": 215,
   "id": "93f677a5-f38d-47f8-8975-2490c522eed9",
   "metadata": {},
   "outputs": [],
   "source": [
    "xx_state = new_top_b_tensors"
   ]
  },
  {
   "cell_type": "code",
   "execution_count": 216,
   "id": "9867a2bc-771d-4a75-892c-4218f9686b02",
   "metadata": {},
   "outputs": [],
   "source": [
    "mpo_tensors.append(previous_mpo_w_tensors)"
   ]
  },
  {
   "cell_type": "markdown",
   "id": "6f00ca49-ed76-41db-8b25-52a2715022d0",
   "metadata": {},
   "source": [
    "# Compute relative phase via traces"
   ]
  },
  {
   "cell_type": "code",
   "execution_count": 217,
   "id": "8cb69c52-8d1b-49da-acfc-ee35ba158ec8",
   "metadata": {},
   "outputs": [],
   "source": [
    "mpo_1, mpo_2, mpo_3 = mpo_tensors"
   ]
  },
  {
   "cell_type": "code",
   "execution_count": 218,
   "id": "e1a9409a-0852-4731-99ea-0ee701168cf2",
   "metadata": {},
   "outputs": [],
   "source": [
    "def get_physical_dim(tensor, p_label='p'):\n",
    "    index = tensor.get_leg_index(p_label)\n",
    "    dim = tensor.shape[index]\n",
    "    return dim"
   ]
  },
  {
   "cell_type": "code",
   "execution_count": 219,
   "id": "7a8cb2a5-a380-496c-9521-81d8cbba117f",
   "metadata": {},
   "outputs": [],
   "source": [
    "def mpo_trace_product(mpo1_tensors, mpo2_tensors):\n",
    "\n",
    "    w1 = mpo1_tensors[0].take_slice(0, 'vL').replace_label('vR', 'vR1')\n",
    "    dim = get_physical_dim(w1, p_label='p')\n",
    "    w2 = mpo2_tensors[0].take_slice(0, 'vL').replace_label('vR', 'vR2')\n",
    "\n",
    "    t = npc.tensordot(w1, w2, [['p', 'p*'], ['p*', 'p']])\n",
    "    t /= dim\n",
    "\n",
    "    for w1, w2 in zip(mpo1_tensors[1:], mpo2_tensors[1:]):\n",
    "        dim = get_physical_dim(w1, p_label='p')\n",
    "\n",
    "        t = (\n",
    "            npc.tensordot(t, w1, [['vR1', ], ['vL']])\n",
    "            .replace_label('vR', 'vR1')\n",
    "        )\n",
    "        t = (\n",
    "            npc.tensordot(t, w2, [['vR2', 'p', 'p*'], ['vL', 'p*', 'p']])\n",
    "            .replace_label('vR', 'vR2')\n",
    "        )\n",
    "        t /= dim\n",
    "\n",
    "    e = t[0,0]\n",
    "\n",
    "    return e"
   ]
  },
  {
   "cell_type": "code",
   "execution_count": 220,
   "id": "27237d48-28c8-45ff-b1d0-595d986c6c68",
   "metadata": {},
   "outputs": [],
   "source": [
    "p_ix_xi = mpo_trace_product(mpo_1, mpo_2)"
   ]
  },
  {
   "cell_type": "code",
   "execution_count": 221,
   "id": "181ce935-b944-48e9-acd8-70183b9cca59",
   "metadata": {},
   "outputs": [
    {
     "data": {
      "text/plain": [
       "(1.2825985803874616e-44+0j)"
      ]
     },
     "execution_count": 221,
     "metadata": {},
     "output_type": "execute_result"
    }
   ],
   "source": [
    "p_ix_xi"
   ]
  },
  {
   "cell_type": "code",
   "execution_count": 222,
   "id": "f7b6e2cc-f609-4f34-92fe-eec92f168bd9",
   "metadata": {},
   "outputs": [
    {
     "data": {
      "text/plain": [
       "(-7.716251373152227e-45+0j)"
      ]
     },
     "execution_count": 222,
     "metadata": {},
     "output_type": "execute_result"
    }
   ],
   "source": [
    "mpo_trace_product(mpo_2, mpo_3)"
   ]
  },
  {
   "cell_type": "code",
   "execution_count": 223,
   "id": "edd552b7-1d0b-4cc1-985c-c4e7e6e6fbbf",
   "metadata": {},
   "outputs": [
    {
     "data": {
      "text/plain": [
       "(2.079168443174111e-44+0j)"
      ]
     },
     "execution_count": 223,
     "metadata": {},
     "output_type": "execute_result"
    }
   ],
   "source": [
    "mpo_trace_product(mpo_1, mpo_3)"
   ]
  },
  {
   "cell_type": "code",
   "execution_count": 224,
   "id": "1e6124c3-1e4d-4408-b9d6-87e95f207378",
   "metadata": {},
   "outputs": [],
   "source": [
    "def gauge_invariant_phase_trace(mpo1_tensors, mpo2_tensors):\n",
    "    dims = [get_physical_dim(w, p_label='p') for w in mpo1_tensors]\n",
    "\n",
    "    w1 = mpo1_tensors[0].take_slice(0, 'vL')\n",
    "    w2 = mpo2_tensors[0].take_slice(0, 'vL')\n",
    "    dim = get_physical_dim(w1, p_label='p')\n",
    "\n",
    "    t = w1.replace_label('vR', 'vR1')\n",
    "    t = npc.tensordot(t, w2, [['p',], ['p*',]])\n",
    "    t.ireplace_label('vR', 'vR2')\n",
    "    t = npc.tensordot(t, w1.conj(), [['p',], ['p*',]])\n",
    "    t.ireplace_label('vR*', 'vR1*')\n",
    "    t = npc.tensordot(t, w2.conj(), [['p', 'p*'], ['p*', 'p']])\n",
    "    t.ireplace_label('vR*', 'vR2*')\n",
    "\n",
    "    t /= dim\n",
    "\n",
    "    for w1, w2 in zip(mpo1_tensors[1:], mpo2_tensors[1:]):\n",
    "        dim = get_physical_dim(w1, p_label='p')\n",
    "\n",
    "        t = npc.tensordot(t, w1, [['vR1', ], ['vL']])\n",
    "        \n",
    "        t.ireplace_label('vR', 'vR1')\n",
    "        t = npc.tensordot(t, w2, [['vR2', 'p',], ['vL', 'p*',]])\n",
    "        t.ireplace_label('vR', 'vR2')\n",
    "\n",
    "        t = npc.tensordot(t, w1.conj(), [['vR1*', 'p'], ['vL*', 'p*']])\n",
    "        t.ireplace_label('vR*', 'vR1*')\n",
    "        t = npc.tensordot(t, w2.conj(), [['vR2*', 'p', 'p*'], ['vL*', 'p*', 'p']])\n",
    "        t.ireplace_label('vR*', 'vR2*')\n",
    "\n",
    "        t /= dim\n",
    "\n",
    "    e = t[0,0,0,0]\n",
    "\n",
    "    return e"
   ]
  },
  {
   "cell_type": "code",
   "execution_count": 225,
   "id": "b94ffa02-c7e0-463a-a4c0-198db6bf39f0",
   "metadata": {},
   "outputs": [
    {
     "data": {
      "text/plain": [
       "(-5.653900197570385e-79+0j)"
      ]
     },
     "execution_count": 225,
     "metadata": {},
     "output_type": "execute_result"
    }
   ],
   "source": [
    "gauge_invariant_phase_trace(mpo_1, mpo_2)"
   ]
  },
  {
   "cell_type": "code",
   "execution_count": 226,
   "id": "aacf30bb-93bd-4378-a26c-11514e6761ea",
   "metadata": {},
   "outputs": [
    {
     "data": {
      "text/plain": [
       "(-6.112965399331897e-79+0j)"
      ]
     },
     "execution_count": 226,
     "metadata": {},
     "output_type": "execute_result"
    }
   ],
   "source": [
    "gauge_invariant_phase_trace(mpo_2, mpo_3)"
   ]
  },
  {
   "cell_type": "code",
   "execution_count": 227,
   "id": "90f8b89b-5b59-4eed-9dca-3c62b0736c13",
   "metadata": {},
   "outputs": [
    {
     "data": {
      "text/plain": [
       "(-3.596559029706706e-79+0j)"
      ]
     },
     "execution_count": 227,
     "metadata": {},
     "output_type": "execute_result"
    }
   ],
   "source": [
    "gauge_invariant_phase_trace(mpo_1, mpo_3)"
   ]
  },
  {
   "cell_type": "markdown",
   "id": "baa5e415-acc1-48b2-a170-53bc9884caaa",
   "metadata": {},
   "source": [
    "As expected, getting too much decay in the MPOs."
   ]
  },
  {
   "cell_type": "markdown",
   "id": "e3987158-3dd8-46bd-8f15-6f733123194f",
   "metadata": {},
   "source": [
    "# Compute relative phase by comparing w terms directly"
   ]
  },
  {
   "cell_type": "code",
   "execution_count": 228,
   "id": "f7b71e88-3206-433b-87d8-58e885534b71",
   "metadata": {},
   "outputs": [],
   "source": [
    "import math"
   ]
  },
  {
   "cell_type": "code",
   "execution_count": 229,
   "id": "67af6c42-94d3-4b63-b860-2ca3db3599b7",
   "metadata": {},
   "outputs": [],
   "source": [
    "def get_canonical_form_mpo_w_tensors(mpo_w_tensors):\n",
    "    \"\"\"\n",
    "    Function that takes in a sequence of w tensors reprenting an MPO and\n",
    "    brings into right canonical form.\n",
    "\n",
    "    Useful for comparison of MPOs as this representation is unique, so\n",
    "    comparison of MPOs can be performed tensor by tensor after this\n",
    "    normalisation.\n",
    "\n",
    "    Adapted from https://github.com/tenpy/tenpy/blob/main/tenpy/networks/mps.py#L3808-L3925\n",
    "\n",
    "    To-do:\n",
    "    * Implement cutoff?\n",
    "    * Implement max virtual bond dimension?\n",
    "    * To renormalise or not renormalise? Check later.\n",
    "    * Implement appropriate cutoff (tricky to scale though).\n",
    "    \"\"\"\n",
    "\n",
    "    # Convert w tensors to having one \"p\" leg, like an MPS.\n",
    "    # (Is this even necessary?)\n",
    "    tensors = [\n",
    "        w.combine_legs(['p', 'p*'])\n",
    "        for w in mpo_w_tensors\n",
    "    ]\n",
    "\n",
    "    p_label = '(p.p*)'\n",
    "    \n",
    "\n",
    "    n=len(tensors)\n",
    "\n",
    "    # First perform QR decomposition in a left to right sweep.\n",
    "    # Q is orthonormal, so provides schmidt basis.\n",
    "    # Multiply R into the next tensor.\n",
    "    t = tensors[0]\n",
    "    t = t.combine_legs(['vL', p_label])\n",
    "\n",
    "    Q, R = npc.qr(t, inner_labels=['vR', 'vL'])\n",
    "    tensors[0] = Q.split_legs()\n",
    "\n",
    "    for i in range(1, n-1):\n",
    "        t = tensors[i]\n",
    "        t = (\n",
    "            npc\n",
    "            .tensordot(R, t, axes=['vR', 'vL'])\n",
    "            .combine_legs(['vL', p_label])\n",
    "        )\n",
    "\n",
    "        Q, R = npc.qr(t, inner_labels=['vR', 'vL'])\n",
    "        \n",
    "        tensors[i] = Q.split_legs()\n",
    "\n",
    "    # Now perform SVD reduction sweep from right to left.\n",
    "    t = tensors[-1]\n",
    "    # This is a bit of a hack. The normalisation for MPS (norm 1) is different\n",
    "    # than for an MPO (for an identity, want all 1's on the appropriate\n",
    "    # diagonal). Use the following factors to rescale accordingly.\n",
    "    dim = get_physical_dim(t, p_label)\n",
    "    rescale = math.pow(dim, 1/4)\n",
    "    t = (\n",
    "        npc\n",
    "        .tensordot(R, t, axes=['vR', 'vL'])\n",
    "        .combine_legs(['vR', p_label], qconj=-1)\n",
    "    )\n",
    "\n",
    "    singular_vals = list()\n",
    "    U, S, V = npc.svd(t, inner_labels=['vR', 'vL'])\n",
    "    V *= rescale\n",
    "    U /= rescale\n",
    "\n",
    "    tensors[-1] = V.split_legs()\n",
    "    singular_vals.append(S)\n",
    "    \n",
    "    for i in range(n - 2, -1, -1):\n",
    "        t = tensors[i]\n",
    "        dim = get_physical_dim(t, p_label)\n",
    "        rescale = math.pow(dim, 1/4)\n",
    "        t = npc.tensordot(\n",
    "            t,\n",
    "            U.split_legs().scale_axis(S, 'vR'),\n",
    "            axes=['vR', 'vL']\n",
    "        )\n",
    "        t = t.combine_legs(['vR', p_label], qconj=-1)\n",
    "        U, S, V = npc.svd(t, inner_labels=['vR', 'vL'])\n",
    "        V *= rescale\n",
    "        U /= rescale\n",
    "        #S = S / np.linalg.norm(S)  \n",
    "        tensors[i] = V.split_legs()\n",
    "        singular_vals.append(S)\n",
    "\n",
    "    # Absorb last singular value and U matrix into the first tensor.\n",
    "    # Both of these should be scalars.\n",
    "    tensors[0] *= U[0, 0]*S[0]\n",
    "    singular_vals[-1] /= S[0]\n",
    "    tensors = [t.split_legs(-1) for t in tensors]\n",
    "    singular_vals = singular_vals[::-1]\n",
    "\n",
    "    return tensors, singular_vals"
   ]
  },
  {
   "cell_type": "code",
   "execution_count": 230,
   "id": "c287d4a0-bd36-4819-9a9f-8ae4cce737e1",
   "metadata": {},
   "outputs": [],
   "source": [
    "canonical_mpo_tensors = [\n",
    "    get_canonical_form_mpo_w_tensors(mpo)[0]\n",
    "    for mpo in mpo_tensors\n",
    "]"
   ]
  },
  {
   "cell_type": "code",
   "execution_count": 231,
   "id": "84019bb9-3023-41e1-a3b4-8e0654d76c13",
   "metadata": {},
   "outputs": [],
   "source": [
    "symmetry_actions = ['IX', 'XI', 'XX']"
   ]
  },
  {
   "cell_type": "code",
   "execution_count": 232,
   "id": "4d546f9a-37b6-45b6-87e1-aa80be7fdf21",
   "metadata": {},
   "outputs": [],
   "source": [
    "from itertools import combinations"
   ]
  },
  {
   "cell_type": "code",
   "execution_count": 233,
   "id": "79c9d57c-2007-44c5-89ab-b5f7bdc6ce0b",
   "metadata": {},
   "outputs": [
    {
     "data": {
      "text/plain": [
       "[('IX', 'XI'), ('IX', 'XX'), ('XI', 'XX')]"
      ]
     },
     "execution_count": 233,
     "metadata": {},
     "output_type": "execute_result"
    }
   ],
   "source": [
    "list(combinations(symmetry_actions, 2))"
   ]
  },
  {
   "cell_type": "code",
   "execution_count": 234,
   "id": "34727ce9-b6c1-4bc5-aa78-0280310ee1bf",
   "metadata": {},
   "outputs": [],
   "source": [
    "mpo_pairs = [\n",
    "    (mpo_tensors[(i+1)%3], mpo_tensors[(i+2)%3])\n",
    "    for i in range(3)\n",
    "]"
   ]
  },
  {
   "cell_type": "code",
   "execution_count": 235,
   "id": "eccb7591-f08b-4c96-b3d0-465f89cc4ff7",
   "metadata": {},
   "outputs": [],
   "source": [
    "mpo_pair_products = [\n",
    "    multiply_mpos(m1, m2)\n",
    "    for m1, m2 in mpo_pairs\n",
    "]"
   ]
  },
  {
   "cell_type": "code",
   "execution_count": 236,
   "id": "44f519b1-4707-445a-9391-0a857f9bbff1",
   "metadata": {},
   "outputs": [],
   "source": [
    "canonical_mpo_pair_products = [\n",
    "    get_canonical_form_mpo_w_tensors(mpo)[0]\n",
    "    for mpo in mpo_pair_products\n",
    "]"
   ]
  },
  {
   "cell_type": "code",
   "execution_count": 237,
   "id": "a7f9b272-a2ac-47f8-939f-88ede1c53135",
   "metadata": {},
   "outputs": [],
   "source": [
    "pair, single = canonical_mpo_pair_products[0], canonical_mpo_tensors[0]"
   ]
  },
  {
   "cell_type": "code",
   "execution_count": 238,
   "id": "d5e0e7ad-974d-4d20-ad56-e5b2a6ee7a45",
   "metadata": {},
   "outputs": [
    {
     "data": {
      "text/plain": [
       "<npc.Array shape=(1, 4, 2, 2) labels=['vL', 'vR', 'p', 'p*']>"
      ]
     },
     "execution_count": 238,
     "metadata": {},
     "output_type": "execute_result"
    }
   ],
   "source": [
    "pair[0]"
   ]
  },
  {
   "cell_type": "code",
   "execution_count": 239,
   "id": "44cbee0a-d1bc-4ace-9673-9c3b5092adbe",
   "metadata": {},
   "outputs": [
    {
     "data": {
      "text/plain": [
       "<npc.Array shape=(1, 4, 2, 2) labels=['vL', 'vR', 'p', 'p*']>"
      ]
     },
     "execution_count": 239,
     "metadata": {},
     "output_type": "execute_result"
    }
   ],
   "source": [
    "single[0]"
   ]
  },
  {
   "cell_type": "code",
   "execution_count": 240,
   "id": "8983c846-970f-4919-b020-accda055a4f7",
   "metadata": {},
   "outputs": [],
   "source": [
    "X_pair = pair[0].to_ndarray()"
   ]
  },
  {
   "cell_type": "code",
   "execution_count": 241,
   "id": "90356c12-7232-4b1a-8ea1-23520ca702ec",
   "metadata": {},
   "outputs": [],
   "source": [
    "X_single = single[0].to_ndarray()"
   ]
  },
  {
   "cell_type": "code",
   "execution_count": 242,
   "id": "d4061e0d-3010-4a71-90d7-5550d08801ab",
   "metadata": {},
   "outputs": [
    {
     "data": {
      "text/plain": [
       "array([[[[-1.80010471e-13+0.j, -7.07228707e-15+0.j],\n",
       "         [-1.41904185e-14+0.j,  2.25896748e-13+0.j]],\n",
       "\n",
       "        [[ 1.34746148e-13+0.j,  6.59255452e-15+0.j],\n",
       "         [ 1.09012992e-14+0.j,  1.08266437e-13+0.j]],\n",
       "\n",
       "        [[-1.68040776e-15+0.j, -4.22123843e-15+0.j],\n",
       "         [ 2.33607586e-14+0.j, -3.74446512e-18+0.j]],\n",
       "\n",
       "        [[-7.27171918e-16+0.j,  1.22636540e-14+0.j],\n",
       "         [ 2.16369853e-15+0.j, -5.95966552e-17+0.j]]]])"
      ]
     },
     "execution_count": 242,
     "metadata": {},
     "output_type": "execute_result"
    }
   ],
   "source": [
    "X_pair"
   ]
  },
  {
   "cell_type": "code",
   "execution_count": 243,
   "id": "78881707-fde0-4ca1-84e5-8ec3cdeb2b3e",
   "metadata": {},
   "outputs": [
    {
     "data": {
      "text/plain": [
       "array([[[[-1.53817091e-08-0.j, -1.05493605e-08-0.j],\n",
       "         [-7.50994998e-09-0.j,  1.08409406e-08-0.j]],\n",
       "\n",
       "        [[ 7.38960548e-09-0.j,  9.50772340e-10-0.j],\n",
       "         [-6.87400752e-09+0.j, -1.03701080e-08+0.j]],\n",
       "\n",
       "        [[-5.33050231e-09-0.j,  3.92683375e-08+0.j],\n",
       "         [ 2.22930150e-08-0.j,  7.40834979e-06+0.j]],\n",
       "\n",
       "        [[ 6.69077455e-09+0.j,  2.79037543e-08-0.j],\n",
       "         [ 5.01411282e-08-0.j,  1.61846997e-07+0.j]]]])"
      ]
     },
     "execution_count": 243,
     "metadata": {},
     "output_type": "execute_result"
    }
   ],
   "source": [
    "X_single/X_pair"
   ]
  },
  {
   "cell_type": "code",
   "execution_count": null,
   "id": "d627ce00-ac5c-4cd0-9130-d7b29bf14d71",
   "metadata": {},
   "outputs": [],
   "source": []
  }
 ],
 "metadata": {
  "kernelspec": {
   "display_name": "num_spt_venv_p11",
   "language": "python",
   "name": "num_spt_venv_p11"
  },
  "language_info": {
   "codemirror_mode": {
    "name": "ipython",
    "version": 3
   },
   "file_extension": ".py",
   "mimetype": "text/x-python",
   "name": "python",
   "nbconvert_exporter": "python",
   "pygments_lexer": "ipython3",
   "version": "3.11.9"
  }
 },
 "nbformat": 4,
 "nbformat_minor": 5
}
