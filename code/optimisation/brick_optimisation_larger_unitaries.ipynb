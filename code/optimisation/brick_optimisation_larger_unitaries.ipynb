{
 "cells": [
  {
   "cell_type": "markdown",
   "id": "5f2205a4-2c74-4cf5-9ad1-9d65bd13bed2",
   "metadata": {},
   "source": [
    "# Brick optimisation larger unitaries\n",
    "\n",
    "Created 19/08/2024\n",
    "\n",
    "Objectives:\n",
    "* Implement brick pattern optimisation strategy with wider unitaries (>2).\n",
    "* Investigate performance as unitary width is widened.\n",
    "* Create functions to automate."
   ]
  },
  {
   "cell_type": "markdown",
   "id": "9ad0db4d-805c-4403-9d48-c71d523d572f",
   "metadata": {},
   "source": [
    "# Package imports"
   ]
  },
  {
   "cell_type": "code",
   "execution_count": 1,
   "id": "ecb41ea3-927f-4efa-aebe-ce15784aa037",
   "metadata": {},
   "outputs": [],
   "source": [
    "import sys\n",
    "sys.path.append('../')"
   ]
  },
  {
   "cell_type": "code",
   "execution_count": 2,
   "id": "4a525ec6-f0c8-47ee-8b0b-345bf0ef8bd3",
   "metadata": {},
   "outputs": [],
   "source": [
    "import h5py\n",
    "from tenpy.tools import hdf5_io\n",
    "import tenpy\n",
    "import tenpy.linalg.np_conserved as npc\n",
    "\n",
    "import os"
   ]
  },
  {
   "cell_type": "code",
   "execution_count": 3,
   "id": "b22092ac-9191-4a2d-b568-8680c3687185",
   "metadata": {},
   "outputs": [],
   "source": [
    "from functools import reduce\n",
    "from operator import mul"
   ]
  },
  {
   "cell_type": "code",
   "execution_count": 4,
   "id": "214f688a-c657-4810-b4d1-b1247deff62c",
   "metadata": {},
   "outputs": [],
   "source": [
    "import numpy as np\n",
    "import matplotlib.pyplot as plt"
   ]
  },
  {
   "cell_type": "code",
   "execution_count": 5,
   "id": "b8dec68d-a5b3-4383-ab44-567a9a5981b3",
   "metadata": {},
   "outputs": [],
   "source": [
    "from SPTOptimization.SymmetryActionWithBoundaryUnitaries import SymmetryActionWithBoundaryUnitaries\n",
    "\n",
    "from SPTOptimization.Optimizers.OneSiteSolver import OneSiteSolver\n",
    "\n",
    "from SPTOptimization.utils import (\n",
    "    to_npc_array,\n",
    "    get_right_identity_environment\n",
    ")\n",
    "\n",
    "from SPTOptimization.Optimizers.utils import (\n",
    "    one_site_optimization_sweep_right\n",
    ")"
   ]
  },
  {
   "cell_type": "code",
   "execution_count": 6,
   "id": "b7461fe3-41a3-492f-b018-8e32e27a7300",
   "metadata": {},
   "outputs": [],
   "source": [
    "import re"
   ]
  },
  {
   "cell_type": "markdown",
   "id": "c69a8a47-e298-4c4c-97f7-a6157da4e15f",
   "metadata": {},
   "source": [
    "# Load data"
   ]
  },
  {
   "cell_type": "code",
   "execution_count": 7,
   "id": "210d7dcc-b7ae-4f06-8429-84177bec47d3",
   "metadata": {},
   "outputs": [],
   "source": [
    "DATA_DIR = r\"../data/transverse_cluster_200_site_dmrg\""
   ]
  },
  {
   "cell_type": "code",
   "execution_count": 8,
   "id": "52736de2-8178-4035-9861-2f17b8d972fc",
   "metadata": {},
   "outputs": [],
   "source": [
    "f_name = DATA_DIR + r\"/0_90.h5\""
   ]
  },
  {
   "cell_type": "code",
   "execution_count": 9,
   "id": "294bd63f-24bb-46d4-9716-76d74e82b013",
   "metadata": {},
   "outputs": [
    {
     "data": {
      "text/plain": [
       "'../data/transverse_cluster_200_site_dmrg/0_90.h5'"
      ]
     },
     "execution_count": 9,
     "metadata": {},
     "output_type": "execute_result"
    }
   ],
   "source": [
    "f_name"
   ]
  },
  {
   "cell_type": "code",
   "execution_count": 10,
   "id": "68e653fc-625c-4010-ac8e-f7740131b8cc",
   "metadata": {},
   "outputs": [],
   "source": [
    "with h5py.File(f_name, 'r') as f:\n",
    "    data = hdf5_io.load_from_hdf5(f)\n",
    "    test_psi = data['wavefunction']"
   ]
  },
  {
   "cell_type": "markdown",
   "id": "b4c1e616-c034-404b-b59e-196d1eaac475",
   "metadata": {},
   "source": [
    "# Definitons"
   ]
  },
  {
   "cell_type": "code",
   "execution_count": 11,
   "id": "63506364-f535-4c0f-8c5f-8839c69f7b9d",
   "metadata": {},
   "outputs": [],
   "source": [
    "MAX_VIRTUAL_BOND_DIM = 8"
   ]
  },
  {
   "cell_type": "code",
   "execution_count": 12,
   "id": "513d7288-c641-4071-a4a3-652787d1f98c",
   "metadata": {},
   "outputs": [],
   "source": [
    "np_I = np.array([[1,0],[0,1]])\n",
    "np_X = np.array([[0,1],[1,0]])\n",
    "np_Y = np.array([[0,-1j],[1j,0]])\n",
    "np_Z = np.array([[1,0],[0,-1]])"
   ]
  },
  {
   "cell_type": "code",
   "execution_count": 13,
   "id": "2a78a62e-37eb-4baf-98ba-d6a94d599bec",
   "metadata": {},
   "outputs": [],
   "source": [
    "npc_I = to_npc_array(np_I)\n",
    "npc_X = to_npc_array(np_X)\n",
    "npc_Y = to_npc_array(np_Y)\n",
    "npc_Z = to_npc_array(np_Z)"
   ]
  },
  {
   "cell_type": "code",
   "execution_count": 14,
   "id": "83f57221-30e0-4de5-b117-a5f6fd32f6ae",
   "metadata": {},
   "outputs": [],
   "source": [
    "test = SymmetryActionWithBoundaryUnitaries(\n",
    "    test_psi,\n",
    "    [np_X, np_I]*50\n",
    ")"
   ]
  },
  {
   "cell_type": "code",
   "execution_count": 15,
   "id": "62e39a51-442f-4d7b-a183-7840570aeb27",
   "metadata": {},
   "outputs": [],
   "source": [
    "test.compute_svd_symmetry_action()"
   ]
  },
  {
   "cell_type": "code",
   "execution_count": 16,
   "id": "d9bcfc72-8623-49d1-ab56-1bf97614f173",
   "metadata": {},
   "outputs": [
    {
     "data": {
      "text/plain": [
       "<npc.Array shape=(8, 8) labels=['vR', 'vR*']>"
      ]
     },
     "execution_count": 16,
     "metadata": {},
     "output_type": "execute_result"
    }
   ],
   "source": [
    "test.right_projected_symmetry_state"
   ]
  },
  {
   "cell_type": "code",
   "execution_count": 17,
   "id": "bd489263-5d26-4c1f-8a79-275c932cc106",
   "metadata": {},
   "outputs": [
    {
     "data": {
      "text/plain": [
       "<npc.Array shape=(8, 8) labels=['vL', 'vL*']>"
      ]
     },
     "execution_count": 17,
     "metadata": {},
     "output_type": "execute_result"
    }
   ],
   "source": [
    "test.left_projected_symmetry_state"
   ]
  },
  {
   "cell_type": "code",
   "execution_count": 18,
   "id": "6bac53fa-b629-46fc-a145-f932a0af6f18",
   "metadata": {},
   "outputs": [],
   "source": [
    "left_trivial_leg_charge = tenpy.linalg.charges.LegCharge(\n",
    "    tenpy.linalg.charges.ChargeInfo([], []),\n",
    "    [0,1],\n",
    "    [[]],\n",
    "    qconj=1\n",
    ")"
   ]
  },
  {
   "cell_type": "code",
   "execution_count": 19,
   "id": "44f34cb7-0888-474b-9483-f4956951fc31",
   "metadata": {},
   "outputs": [],
   "source": [
    "right_trivial_leg_charge = tenpy.linalg.charges.LegCharge(\n",
    "    tenpy.linalg.charges.ChargeInfo([], []),\n",
    "    [0,1],\n",
    "    [[]],\n",
    "    qconj=-1\n",
    ")"
   ]
  },
  {
   "cell_type": "markdown",
   "id": "38c05308-5c2c-4c60-8eb5-7446af7f85d7",
   "metadata": {},
   "source": [
    "## Functions"
   ]
  },
  {
   "cell_type": "markdown",
   "id": "fbf28b75-1454-41f0-a17d-dd1d8891cb81",
   "metadata": {},
   "source": [
    "### Leg and label functions"
   ]
  },
  {
   "cell_type": "code",
   "execution_count": 20,
   "id": "0cc65d77-76f3-4159-b2e6-e0ab8429c271",
   "metadata": {},
   "outputs": [],
   "source": [
    "P_LEG_LABEL_REGEX_STRING = r\"^p\\d*$\"\n",
    "p_leg_pattern = re.compile(P_LEG_LABEL_REGEX_STRING)\n",
    "\n",
    "def is_single_physical_leg_label(label):\n",
    "    return bool(p_leg_pattern.match(label))"
   ]
  },
  {
   "cell_type": "code",
   "execution_count": 48,
   "id": "af651898-f853-4710-bfa7-2928d6bb8d55",
   "metadata": {},
   "outputs": [],
   "source": [
    "def is_grouped_physical_leg_label(leg_label):\n",
    "    head, *body, tail = leg_label\n",
    "    if (head != '(') or (tail != ')'):\n",
    "        return False\n",
    "\n",
    "    body = ''.join(body)\n",
    "    legs = body.split('.')\n",
    "\n",
    "    return all(is_single_physical_leg_label(l) for l in legs)"
   ]
  },
  {
   "cell_type": "code",
   "execution_count": 22,
   "id": "1b14fc57-4f21-432e-b2b9-6dcafc179ef2",
   "metadata": {},
   "outputs": [],
   "source": [
    "def is_physical_leg_label(label):\n",
    "    out = (\n",
    "        is_single_physical_leg_label(label)\n",
    "        or is_grouped_physical_leg_label(label)\n",
    "    )\n",
    "\n",
    "    return out"
   ]
  },
  {
   "cell_type": "code",
   "execution_count": 23,
   "id": "949e51b3-8bd1-409f-bb98-0a57d1c99888",
   "metadata": {},
   "outputs": [],
   "source": [
    "def extract_single_physical_leg_label_from_tensor(b):\n",
    "    out = next(\n",
    "        l for l in b.get_leg_labels()\n",
    "        if is_single_physical_leg_label(l)\n",
    "    )\n",
    "\n",
    "    return out"
   ]
  },
  {
   "cell_type": "code",
   "execution_count": 24,
   "id": "1d03a2c8-1e74-4a87-abec-67ec6857100c",
   "metadata": {},
   "outputs": [],
   "source": [
    "def conjugate_single_physical_leg_label(label):\n",
    "    return label + '*'"
   ]
  },
  {
   "cell_type": "code",
   "execution_count": 25,
   "id": "16f3235f-6efc-4739-8dae-a42093c12370",
   "metadata": {},
   "outputs": [],
   "source": [
    "def conjugate_grouped_physical_leg_label(label):\n",
    "    _, *body, _ = label\n",
    "    single_labels = ''.join(body).split('.')\n",
    "\n",
    "    conjugate_labels = [\n",
    "        conjugate_single_physical_leg_label(l)\n",
    "        for l in single_labels\n",
    "    ]\n",
    "\n",
    "    conjugate_body = '.'.join(conjugate_labels)\n",
    "    out = '(' + conjugate_body + ')'\n",
    "    \n",
    "    return out"
   ]
  },
  {
   "cell_type": "code",
   "execution_count": 26,
   "id": "8dab4c14-1fb5-4933-b68c-204cc96541c4",
   "metadata": {},
   "outputs": [],
   "source": [
    "def conjugate_leg_label(label):\n",
    "    if is_single_physical_leg_label(label):\n",
    "        return conjugate_single_physical_leg_label(label)\n",
    "    elif is_grouped_physical_leg_label(label):\n",
    "        return conjugate_grouped_physical_leg_label(label)\n",
    "    else:\n",
    "        raise ValueError"
   ]
  },
  {
   "cell_type": "code",
   "execution_count": 27,
   "id": "8e00e4ef-bb2b-4229-8e92-5e07ec9931b4",
   "metadata": {},
   "outputs": [],
   "source": [
    "def get_physical_leg_labels(t):\n",
    "    out = [\n",
    "        ll for ll in t.get_leg_labels()\n",
    "        if is_physical_leg_label(ll)\n",
    "    ]\n",
    "\n",
    "    return out"
   ]
  },
  {
   "cell_type": "markdown",
   "id": "818c2f27-1431-42a7-ab63-9d81972ed7e2",
   "metadata": {},
   "source": [
    "### Other"
   ]
  },
  {
   "cell_type": "code",
   "execution_count": 28,
   "id": "d2464abb-fd7e-469a-a7d4-e604e24e14bc",
   "metadata": {},
   "outputs": [],
   "source": [
    "def contract_virtual_legs(tl, tr):\n",
    "    return npc.tensordot(tl, tr, ['vR', 'vL'])"
   ]
  },
  {
   "cell_type": "code",
   "execution_count": 29,
   "id": "ac3f7a01-08a2-4937-8308-f12f637f38b6",
   "metadata": {},
   "outputs": [],
   "source": [
    "def combine_tensors(tensors):\n",
    "    out = reduce(contract_virtual_legs, tensors)\n",
    "\n",
    "    leg_labels = [\n",
    "        extract_single_physical_leg_label_from_tensor(t)\n",
    "        for t in tensors\n",
    "    ]\n",
    "\n",
    "    out = out.combine_legs(leg_labels)\n",
    "\n",
    "    return out"
   ]
  },
  {
   "cell_type": "code",
   "execution_count": 30,
   "id": "6b01c411-0a2a-499d-b220-b99e197ecbd8",
   "metadata": {},
   "outputs": [],
   "source": [
    "def combine_b_tensors(b_tensors):\n",
    "    renamed_tensors = [\n",
    "        b.replace_label('p', f'p{i}')\n",
    "        for i, b in enumerate(b_tensors)\n",
    "    ]\n",
    "\n",
    "    return combine_tensors(renamed_tensors)"
   ]
  },
  {
   "cell_type": "code",
   "execution_count": 31,
   "id": "41848361-7394-4eb5-8006-8ab618c0a274",
   "metadata": {},
   "outputs": [],
   "source": [
    "def get_identity_operator(mps_tensor):\n",
    "    p_leg_label = get_physical_leg_labels(mps_tensor)[0]\n",
    "    p_leg = mps_tensor.get_leg(p_leg_label)\n",
    "    p_leg_label_conj = conjugate_leg_label(p_leg_label)\n",
    "\n",
    "    out = npc.diag(\n",
    "        1,\n",
    "        leg=p_leg,\n",
    "        dtype='complex',\n",
    "        labels=[p_leg_label, p_leg_label_conj]\n",
    "    )\n",
    "\n",
    "    return out"
   ]
  },
  {
   "cell_type": "code",
   "execution_count": 32,
   "id": "0b0386d2-79d0-45ab-98ce-ead4ca433c30",
   "metadata": {},
   "outputs": [],
   "source": [
    "def svd_reduce_split_tensor(t, max_inner_dim=MAX_VIRTUAL_BOND_DIM, form='B'):\n",
    "    # To-do: Add form conditions\n",
    "    U, S, VH = npc.svd(t, compute_uv=True, inner_labels=['vR', 'vL'])\n",
    "\n",
    "    # Update this code for other forms. Check tenpy docks.\n",
    "    # Create U, V exponents and plug into for loop.\n",
    "    for i in range(U.shape[1]):\n",
    "        U[:, i] *= S[i]\n",
    "\n",
    "    if max_inner_dim is not None:\n",
    "        U = U[:, :max_inner_dim]\n",
    "        VH = VH[:max_inner_dim, :]\n",
    "\n",
    "    return U, VH"
   ]
  },
  {
   "cell_type": "code",
   "execution_count": 33,
   "id": "d2523496-e338-46ef-a2e2-5a8e8dbcba5f",
   "metadata": {},
   "outputs": [],
   "source": [
    "def split_combined_b(b, max_virtual_bond_dim=MAX_VIRTUAL_BOND_DIM,\n",
    "                     p_leg_labels=None):\n",
    "    t = b.split_legs()\n",
    "\n",
    "    num_sites = t.ndim - 2\n",
    "    if p_leg_labels is None:\n",
    "        p_leg_labels = [f'p{i}' for i in range(num_sites)]\n",
    "\n",
    "    out_bs = list()\n",
    "\n",
    "    for i, ll in enumerate(p_leg_labels[:-1]):\n",
    "        tail_legs = p_leg_labels[(i+1):]\n",
    "        t = t.combine_legs([['vL', ll], ['vR', *tail_legs]])\n",
    "\n",
    "        U, VH = svd_reduce_split_tensor(\n",
    "            t,\n",
    "            max_inner_dim=MAX_VIRTUAL_BOND_DIM,\n",
    "            form='B'\n",
    "        )\n",
    "\n",
    "        bl = U.split_legs().replace_label(ll, 'p')\n",
    "        bl.itranspose(['vL', 'p', 'vR'])\n",
    "        out_bs.append(bl)\n",
    "\n",
    "        t = VH.split_legs()\n",
    "\n",
    "    bl = t.replace_label(p_leg_labels[-1], 'p')\n",
    "    bl.itranspose(['vL', 'p', 'vR'])\n",
    "    out_bs.append(bl)\n",
    "\n",
    "    return out_bs"
   ]
  },
  {
   "cell_type": "code",
   "execution_count": 83,
   "id": "a02ec1af-d2c1-4766-a688-01946f284490",
   "metadata": {},
   "outputs": [],
   "source": [
    "def split_b(b, max_virtual_bond_dim=MAX_VIRTUAL_BOND_DIM,\n",
    "                     p_leg_labels=None):\n",
    "    leg_label = get_physical_leg_labels(b)[0]\n",
    "\n",
    "    if is_single_physical_leg_label(leg_label):\n",
    "        return [b,]\n",
    "    elif is_grouped_physical_leg_label(leg_label):\n",
    "        return split_combined_b(b, max_virtual_bond_dim, p_leg_labels)\n",
    "    else:\n",
    "        raise ValueError"
   ]
  },
  {
   "cell_type": "code",
   "execution_count": 34,
   "id": "5dddedee-f5a2-4dc8-90e1-7afac18a0307",
   "metadata": {},
   "outputs": [],
   "source": [
    "def split_combined_u(u, max_virtual_bond_dim=MAX_VIRTUAL_BOND_DIM,\n",
    "                     p_leg_labels=None):\n",
    "    t = u.split_legs()\n",
    "    num_sites = t.ndim //2\n",
    "    \n",
    "    if p_leg_labels is None:\n",
    "        p_leg_labels = [f'p{i}' for i in range(num_sites)]\n",
    "\n",
    "    p_leg_labels_hc = [l+'*' for l in p_leg_labels]\n",
    "    out_ws = list()\n",
    "\n",
    "    for i, (ll, ll_hc) in enumerate(zip(p_leg_labels[:-1], p_leg_labels_hc)):\n",
    "        tail_legs = p_leg_labels[(i+1):]\n",
    "        tail_legs_hc = p_leg_labels_hc[(i+1):]\n",
    "\n",
    "        left_leg_labels = [ll, ll_hc]\n",
    "        if 'vL' in t.get_leg_labels():\n",
    "            left_leg_labels.append('vL')\n",
    "    \n",
    "        t = t.combine_legs([left_leg_labels, [*tail_legs, *tail_legs_hc]])\n",
    "\n",
    "        U, VH = svd_reduce_split_tensor(\n",
    "            t,\n",
    "            max_inner_dim=MAX_VIRTUAL_BOND_DIM,\n",
    "            form='B'\n",
    "        )\n",
    "\n",
    "        wl = U.split_legs().replace_labels([ll, ll_hc], ['p', 'p*'])\n",
    "        #wl.itranspose(['p', 'p*'])\n",
    "        out_ws.append(wl)\n",
    "\n",
    "        t = VH.split_legs()\n",
    "\n",
    "    wl = t.replace_labels(\n",
    "        [p_leg_labels[-1], p_leg_labels_hc[-1]],\n",
    "        ['p', 'p*']\n",
    "    )\n",
    "    #wl.itranspose(['p', 'p*'])\n",
    "    out_ws.append(wl)\n",
    "\n",
    "    out_ws[0] = (\n",
    "        out_ws[0]\n",
    "        .add_leg(left_trivial_leg_charge, 0, label='vL')\n",
    "    )\n",
    "    \n",
    "    out_ws[-1] = (\n",
    "        out_ws[-1]\n",
    "        .add_leg(right_trivial_leg_charge, 0, label='vR')\n",
    "    )\n",
    "\n",
    "    return out_ws"
   ]
  },
  {
   "cell_type": "code",
   "execution_count": 101,
   "id": "a28056d8-7950-4661-b4b8-0b73e1f6cf97",
   "metadata": {},
   "outputs": [],
   "source": [
    "def split_u(u, max_virtual_bond_dim=MAX_VIRTUAL_BOND_DIM,\n",
    "            p_leg_labels=None):\n",
    "    leg_label = get_physical_leg_labels(u)[0]\n",
    "\n",
    "    if is_single_physical_leg_label(leg_label):\n",
    "        return [unitary_to_mpo_tensor(u),]\n",
    "    elif is_grouped_physical_leg_label(leg_label):\n",
    "        return split_combined_u(u, max_virtual_bond_dim, p_leg_labels)\n",
    "    else:\n",
    "        raise ValueError\n",
    "    "
   ]
  },
  {
   "cell_type": "code",
   "execution_count": 35,
   "id": "bc71056c-f25f-4d68-b694-2a26c0ad5790",
   "metadata": {},
   "outputs": [],
   "source": [
    "def unitary_to_mpo_tensor(u):\n",
    "    out = (\n",
    "        u\n",
    "        .add_leg(left_trivial_leg_charge, 0, label='vL')\n",
    "        .add_leg(right_trivial_leg_charge, 0, label='vR')\n",
    "    )\n",
    "\n",
    "    return out"
   ]
  },
  {
   "cell_type": "code",
   "execution_count": 36,
   "id": "7b9fb468-6328-4ae0-b25a-652cb13032c1",
   "metadata": {},
   "outputs": [],
   "source": [
    "def multiply_individual_mpo_tensors(w1, w2):\n",
    "    w1 = w1.replace_labels(['vR', 'vL'], ['vR1', 'vL1'])\n",
    "    w2 = w2.replace_labels(['vR', 'vL'], ['vR2', 'vL2'])\n",
    "\n",
    "    w = (\n",
    "        npc.tensordot(w1, w2, [['p'], ['p*']])\n",
    "        .combine_legs([['vR1', 'vR2'], ['vL1', 'vL2']])\n",
    "        .replace_labels(['(vR1.vR2)', '(vL1.vL2)'], ['vR', 'vL'])\n",
    "    )\n",
    "\n",
    "    return w"
   ]
  },
  {
   "cell_type": "code",
   "execution_count": 122,
   "id": "f9a3a71f-0d3f-4ecf-8eec-c38f861561ef",
   "metadata": {},
   "outputs": [],
   "source": [
    "def group_elements(l, group_size, offset=0):\n",
    "    first, rest = l[:offset], l[offset:]\n",
    "\n",
    "    num_rest_groups = ((len(rest)-1)//group_size) + 1\n",
    "\n",
    "    groups = [first,] if first else list()\n",
    "\n",
    "    for i in range(num_rest_groups):\n",
    "        first_index = i*group_size\n",
    "        last_index = (i+1)*group_size\n",
    "        groups.append(rest[first_index:last_index])\n",
    "\n",
    "    return groups"
   ]
  },
  {
   "cell_type": "code",
   "execution_count": 38,
   "id": "96791fa9-9917-4440-b847-2bc4a3eb39e5",
   "metadata": {},
   "outputs": [],
   "source": [
    "def combine_grouped_b_tensors(grouped_bs):\n",
    "    out = list()\n",
    "\n",
    "    for group in grouped_bs:\n",
    "        if len(group) == 1:\n",
    "            out.append(group[0])\n",
    "        else:\n",
    "            out.append(combine_b_tensors(group))\n",
    "\n",
    "    return out"
   ]
  },
  {
   "cell_type": "code",
   "execution_count": 104,
   "id": "c78589cc-aa65-4aa1-9d53-0cf61702e92c",
   "metadata": {},
   "outputs": [],
   "source": [
    "def reduce_virtual_mpo_dim(wl, wr):\n",
    "    # wl = wl.replace_labels(['p', 'p*'], ['pl', 'pl*'])\n",
    "\n",
    "    wl = wl.combine_legs(['p', 'vL', 'p*'])\n",
    "    wr = wr.combine_legs(['p', 'vR', 'p*'])\n",
    "    w = npc.tensordot(wl, wr, ['vR', 'vL'])\n",
    "\n",
    "    wl, wr = svd_reduce_split_tensor(\n",
    "        w,\n",
    "        max_inner_dim=MAX_VIRTUAL_BOND_DIM,\n",
    "        form='B'\n",
    "    )\n",
    "\n",
    "    wl = wl.split_legs()\n",
    "    wr = wr.split_legs()\n",
    "\n",
    "    return wl, wr"
   ]
  },
  {
   "cell_type": "code",
   "execution_count": 111,
   "id": "e7470053-b5df-45e0-b302-d7ad19d83f30",
   "metadata": {},
   "outputs": [],
   "source": [
    "def multiply_mpos(top_ws, bottom_ws):\n",
    "    ws = list()\n",
    "    \n",
    "    for w1, w2 in zip(top_ws, bottom_ws):\n",
    "        w = multiply_individual_mpo_tensors(w1, w2)\n",
    "        ws.append(w)\n",
    "\n",
    "\n",
    "    for i in range(len(ws)-1):\n",
    "        ws[i], ws[i+1] = reduce_virtual_mpo_dim(ws[i], ws[i+1])\n",
    "\n",
    "    return ws"
   ]
  },
  {
   "cell_type": "markdown",
   "id": "4de20b96-dc26-422f-87aa-d0220ebeb7cf",
   "metadata": {},
   "source": [
    "# Optimisation"
   ]
  },
  {
   "cell_type": "markdown",
   "id": "188dbae8-f3b1-45c8-82fa-9093a19f539c",
   "metadata": {},
   "source": [
    "## First right sweep"
   ]
  },
  {
   "cell_type": "code",
   "execution_count": 39,
   "id": "5cceb5cb-84a8-48a5-978a-ad9c794af54b",
   "metadata": {},
   "outputs": [
    {
     "data": {
      "text/plain": [
       "149"
      ]
     },
     "execution_count": 39,
     "metadata": {},
     "output_type": "execute_result"
    }
   ],
   "source": [
    "test.right_symmetry_index"
   ]
  },
  {
   "cell_type": "code",
   "execution_count": 40,
   "id": "1cf15a5e-8b2b-4f59-884f-5f3b8faf527d",
   "metadata": {},
   "outputs": [],
   "source": [
    "bs = [\n",
    "    test_psi.get_B(i)\n",
    "    for k, i in enumerate(range(test.right_symmetry_index + 1, test.right_symmetry_index + 12))\n",
    "]"
   ]
  },
  {
   "cell_type": "code",
   "execution_count": 41,
   "id": "00a7dcf9-7193-4f7e-819c-573fae679ae1",
   "metadata": {},
   "outputs": [
    {
     "data": {
      "text/plain": [
       "11"
      ]
     },
     "execution_count": 41,
     "metadata": {},
     "output_type": "execute_result"
    }
   ],
   "source": [
    "len(bs)"
   ]
  },
  {
   "cell_type": "code",
   "execution_count": 42,
   "id": "11199221-2ac7-4007-9850-a7b63a3db1d9",
   "metadata": {},
   "outputs": [],
   "source": [
    "grouped_bs = group_elements(bs, 3, 0)"
   ]
  },
  {
   "cell_type": "code",
   "execution_count": 43,
   "id": "78f8215b-907d-4310-a283-24451169f437",
   "metadata": {},
   "outputs": [
    {
     "data": {
      "text/plain": [
       "[[<npc.Array shape=(8, 2, 8) labels=['vL', 'p', 'vR']>,\n",
       "  <npc.Array shape=(8, 2, 8) labels=['vL', 'p', 'vR']>,\n",
       "  <npc.Array shape=(8, 2, 8) labels=['vL', 'p', 'vR']>],\n",
       " [<npc.Array shape=(8, 2, 8) labels=['vL', 'p', 'vR']>,\n",
       "  <npc.Array shape=(8, 2, 8) labels=['vL', 'p', 'vR']>,\n",
       "  <npc.Array shape=(8, 2, 8) labels=['vL', 'p', 'vR']>],\n",
       " [<npc.Array shape=(8, 2, 8) labels=['vL', 'p', 'vR']>,\n",
       "  <npc.Array shape=(8, 2, 8) labels=['vL', 'p', 'vR']>,\n",
       "  <npc.Array shape=(8, 2, 8) labels=['vL', 'p', 'vR']>],\n",
       " [<npc.Array shape=(8, 2, 8) labels=['vL', 'p', 'vR']>,\n",
       "  <npc.Array shape=(8, 2, 8) labels=['vL', 'p', 'vR']>]]"
      ]
     },
     "execution_count": 43,
     "metadata": {},
     "output_type": "execute_result"
    }
   ],
   "source": [
    "grouped_bs"
   ]
  },
  {
   "cell_type": "code",
   "execution_count": 44,
   "id": "32a4bdb4-4d2d-42ec-9ed5-5e655bceffa9",
   "metadata": {},
   "outputs": [],
   "source": [
    "combined_bs = combine_grouped_b_tensors(grouped_bs)"
   ]
  },
  {
   "cell_type": "code",
   "execution_count": 45,
   "id": "cc74e520-12d9-4615-afd9-9477009327bd",
   "metadata": {},
   "outputs": [
    {
     "data": {
      "text/plain": [
       "[<npc.Array shape=(8, 8, 8) labels=['vL', '(p0.p1.p2)', 'vR']>,\n",
       " <npc.Array shape=(8, 8, 8) labels=['vL', '(p0.p1.p2)', 'vR']>,\n",
       " <npc.Array shape=(8, 8, 8) labels=['vL', '(p0.p1.p2)', 'vR']>,\n",
       " <npc.Array shape=(8, 4, 8) labels=['vL', '(p0.p1)', 'vR']>]"
      ]
     },
     "execution_count": 45,
     "metadata": {},
     "output_type": "execute_result"
    }
   ],
   "source": [
    "combined_bs"
   ]
  },
  {
   "cell_type": "markdown",
   "id": "24e5d072-7b83-4ce5-b552-4b9415c041a0",
   "metadata": {},
   "source": [
    "Again, the naming convention could be an issue."
   ]
  },
  {
   "cell_type": "code",
   "execution_count": 49,
   "id": "8e9b3f25-5230-4f03-97fe-bd3fe30e3c36",
   "metadata": {},
   "outputs": [],
   "source": [
    "unitaries = [\n",
    "    get_identity_operator(t) for t in combined_bs\n",
    "]"
   ]
  },
  {
   "cell_type": "code",
   "execution_count": 50,
   "id": "85b44062-c88d-47d2-862f-27a0ec4f9509",
   "metadata": {},
   "outputs": [
    {
     "data": {
      "text/plain": [
       "[<npc.Array shape=(8, 8) labels=['(p0.p1.p2)', '(p0*.p1*.p2*)']>,\n",
       " <npc.Array shape=(8, 8) labels=['(p0.p1.p2)', '(p0*.p1*.p2*)']>,\n",
       " <npc.Array shape=(8, 8) labels=['(p0.p1.p2)', '(p0*.p1*.p2*)']>,\n",
       " <npc.Array shape=(4, 4) labels=['(p0.p1)', '(p0*.p1*)']>]"
      ]
     },
     "execution_count": 50,
     "metadata": {},
     "output_type": "execute_result"
    }
   ],
   "source": [
    "unitaries"
   ]
  },
  {
   "cell_type": "code",
   "execution_count": 51,
   "id": "2048589f-2429-4585-8031-9793a1d492d8",
   "metadata": {},
   "outputs": [
    {
     "data": {
      "text/plain": [
       "<npc.Array shape=(8, 8, 8) labels=['vL*', '(p0*.p1*.p2*)', 'vR*']>"
      ]
     },
     "execution_count": 51,
     "metadata": {},
     "output_type": "execute_result"
    }
   ],
   "source": [
    "combined_bs[1].conj()"
   ]
  },
  {
   "cell_type": "code",
   "execution_count": 52,
   "id": "7363dcbc-193d-4e46-b35e-970dfe831e83",
   "metadata": {},
   "outputs": [],
   "source": [
    "expectations = list()\n",
    "expectations.append(list())"
   ]
  },
  {
   "cell_type": "code",
   "execution_count": 53,
   "id": "612866fc-52f7-4d04-9d55-b916adb839fc",
   "metadata": {},
   "outputs": [],
   "source": [
    "exps, *_ = one_site_optimization_sweep_right(\n",
    "    test.right_projected_symmetry_state,\n",
    "    combined_bs,\n",
    "    unitaries\n",
    ")\n",
    "\n",
    "expectations[-1].append(exps)"
   ]
  },
  {
   "cell_type": "code",
   "execution_count": 54,
   "id": "e9271cec-831c-4c72-b93f-0b27ea6c799c",
   "metadata": {},
   "outputs": [
    {
     "data": {
      "text/plain": [
       "[[1.1772577977037582,\n",
       "  1.1786923957132358,\n",
       "  1.1786923957132351,\n",
       "  1.1786923957132365]]"
      ]
     },
     "execution_count": 54,
     "metadata": {},
     "output_type": "execute_result"
    }
   ],
   "source": [
    "expectations[-1]"
   ]
  },
  {
   "cell_type": "code",
   "execution_count": 55,
   "id": "7fce68d2-ece6-48e3-82be-2d3b7b6c4843",
   "metadata": {},
   "outputs": [],
   "source": [
    "new_combined_bs = list()\n",
    "\n",
    "for b, u in zip(combined_bs, unitaries):\n",
    "    ll = get_physical_leg_labels(b)[0]\n",
    "    llh = conjugate_leg_label(ll)\n",
    "\n",
    "    new_b = npc.tensordot(b, u, [[ll,], [llh,]])\n",
    "\n",
    "    new_combined_bs.append(new_b)"
   ]
  },
  {
   "cell_type": "code",
   "execution_count": 56,
   "id": "d5fa8190-d4d2-4f66-8e76-0d6aa634f963",
   "metadata": {},
   "outputs": [
    {
     "data": {
      "text/plain": [
       "[<npc.Array shape=(8, 8, 8) labels=['vL', 'vR', '(p0.p1.p2)']>,\n",
       " <npc.Array shape=(8, 8, 8) labels=['vL', 'vR', '(p0.p1.p2)']>,\n",
       " <npc.Array shape=(8, 8, 8) labels=['vL', 'vR', '(p0.p1.p2)']>,\n",
       " <npc.Array shape=(8, 8, 4) labels=['vL', 'vR', '(p0.p1)']>]"
      ]
     },
     "execution_count": 56,
     "metadata": {},
     "output_type": "execute_result"
    }
   ],
   "source": [
    "new_combined_bs"
   ]
  },
  {
   "cell_type": "code",
   "execution_count": 57,
   "id": "cf4cbbd5-455c-45be-b2e3-e0537307857f",
   "metadata": {},
   "outputs": [],
   "source": [
    "current_top_bs = list()"
   ]
  },
  {
   "cell_type": "code",
   "execution_count": 58,
   "id": "38a76cea-7c8b-4b39-86f7-bd7bb44514d1",
   "metadata": {},
   "outputs": [],
   "source": [
    "for b in new_combined_bs:\n",
    "    current_top_bs.extend(split_combined_b(b))"
   ]
  },
  {
   "cell_type": "code",
   "execution_count": 59,
   "id": "fdb2b1ad-5f12-4e80-aeed-997fced2ff2f",
   "metadata": {},
   "outputs": [
    {
     "data": {
      "text/plain": [
       "[<npc.Array shape=(8, 2, 8) labels=['vL', 'p', 'vR']>,\n",
       " <npc.Array shape=(8, 2, 8) labels=['vL', 'p', 'vR']>,\n",
       " <npc.Array shape=(8, 2, 8) labels=['vL', 'p', 'vR']>,\n",
       " <npc.Array shape=(8, 2, 8) labels=['vL', 'p', 'vR']>,\n",
       " <npc.Array shape=(8, 2, 8) labels=['vL', 'p', 'vR']>,\n",
       " <npc.Array shape=(8, 2, 8) labels=['vL', 'p', 'vR']>,\n",
       " <npc.Array shape=(8, 2, 8) labels=['vL', 'p', 'vR']>,\n",
       " <npc.Array shape=(8, 2, 8) labels=['vL', 'p', 'vR']>,\n",
       " <npc.Array shape=(8, 2, 8) labels=['vL', 'p', 'vR']>,\n",
       " <npc.Array shape=(8, 2, 8) labels=['vL', 'p', 'vR']>,\n",
       " <npc.Array shape=(8, 2, 8) labels=['vL', 'p', 'vR']>]"
      ]
     },
     "execution_count": 59,
     "metadata": {},
     "output_type": "execute_result"
    }
   ],
   "source": [
    "current_top_bs"
   ]
  },
  {
   "cell_type": "markdown",
   "id": "38049ac7-8ae5-4521-8b25-faa3f7b1a1c6",
   "metadata": {},
   "source": [
    "Test overlap"
   ]
  },
  {
   "cell_type": "code",
   "execution_count": 60,
   "id": "16b1a8b2-5e0f-46a7-b50d-340e8f84509a",
   "metadata": {},
   "outputs": [],
   "source": [
    "t = test.right_projected_symmetry_state\n",
    "\n",
    "for bu, bd in zip(current_top_bs, bs):\n",
    "    t = npc.tensordot(t, bu, [['vR',],['vL',]])\n",
    "    t = npc.tensordot(t, bd.conj(), [['vR*', 'p'],['vL*', 'p*']])\n",
    "\n",
    "e = npc.trace(t)"
   ]
  },
  {
   "cell_type": "code",
   "execution_count": 61,
   "id": "39f100f7-445b-4349-ac02-13299a9cd6db",
   "metadata": {},
   "outputs": [
    {
     "data": {
      "text/plain": [
       "(1.175927790804166+0j)"
      ]
     },
     "execution_count": 61,
     "metadata": {},
     "output_type": "execute_result"
    }
   ],
   "source": [
    "e"
   ]
  },
  {
   "cell_type": "markdown",
   "id": "394e2bd1-6f20-4d1d-84b2-a8cac0f93a61",
   "metadata": {},
   "source": [
    "Correct."
   ]
  },
  {
   "cell_type": "code",
   "execution_count": 62,
   "id": "ebf2edaf-aba9-45d7-9e0d-77e248020e96",
   "metadata": {},
   "outputs": [
    {
     "data": {
      "text/plain": [
       "[<npc.Array shape=(8, 8) labels=['(p0.p1.p2)', '(p0*.p1*.p2*)']>,\n",
       " <npc.Array shape=(8, 8) labels=['(p0.p1.p2)', '(p0*.p1*.p2*)']>,\n",
       " <npc.Array shape=(8, 8) labels=['(p0.p1.p2)', '(p0*.p1*.p2*)']>,\n",
       " <npc.Array shape=(4, 4) labels=['(p0.p1)', '(p0*.p1*)']>]"
      ]
     },
     "execution_count": 62,
     "metadata": {},
     "output_type": "execute_result"
    }
   ],
   "source": [
    "unitaries"
   ]
  },
  {
   "cell_type": "code",
   "execution_count": 63,
   "id": "35f53ccf-669d-400c-937f-78f7e51e516b",
   "metadata": {},
   "outputs": [
    {
     "data": {
      "text/plain": [
       "<npc.Array shape=(2, 2, 2, 2, 2, 2) labels=['p0', 'p1', 'p2', 'p0*', 'p1*', 'p2*']>"
      ]
     },
     "execution_count": 63,
     "metadata": {},
     "output_type": "execute_result"
    }
   ],
   "source": [
    "unitaries[1].split_legs()"
   ]
  },
  {
   "cell_type": "code",
   "execution_count": 64,
   "id": "b76a5b8b-d574-41f6-b8d7-3d5ada6f703f",
   "metadata": {},
   "outputs": [],
   "source": [
    "current_unitary_w_tensors = list()\n",
    "\n",
    "for u in unitaries:\n",
    "    current_unitary_w_tensors.extend(split_combined_u(u))"
   ]
  },
  {
   "cell_type": "code",
   "execution_count": 65,
   "id": "e95f2203-d460-47f3-803b-f576ff02a2ac",
   "metadata": {},
   "outputs": [
    {
     "data": {
      "text/plain": [
       "[<npc.Array shape=(1, 2, 2, 4) labels=['vL', 'p', 'p*', 'vR']>,\n",
       " <npc.Array shape=(2, 2, 4, 4) labels=['p', 'p*', 'vL', 'vR']>,\n",
       " <npc.Array shape=(1, 4, 2, 2) labels=['vR', 'vL', 'p', 'p*']>,\n",
       " <npc.Array shape=(1, 2, 2, 4) labels=['vL', 'p', 'p*', 'vR']>,\n",
       " <npc.Array shape=(2, 2, 4, 4) labels=['p', 'p*', 'vL', 'vR']>,\n",
       " <npc.Array shape=(1, 4, 2, 2) labels=['vR', 'vL', 'p', 'p*']>,\n",
       " <npc.Array shape=(1, 2, 2, 4) labels=['vL', 'p', 'p*', 'vR']>,\n",
       " <npc.Array shape=(2, 2, 4, 4) labels=['p', 'p*', 'vL', 'vR']>,\n",
       " <npc.Array shape=(1, 4, 2, 2) labels=['vR', 'vL', 'p', 'p*']>,\n",
       " <npc.Array shape=(1, 2, 2, 4) labels=['vL', 'p', 'p*', 'vR']>,\n",
       " <npc.Array shape=(1, 4, 2, 2) labels=['vR', 'vL', 'p', 'p*']>]"
      ]
     },
     "execution_count": 65,
     "metadata": {},
     "output_type": "execute_result"
    }
   ],
   "source": [
    "current_unitary_w_tensors"
   ]
  },
  {
   "cell_type": "markdown",
   "id": "4d032b71-b4d7-4d87-b410-59b264b50d3a",
   "metadata": {},
   "source": [
    "## Second sweep"
   ]
  },
  {
   "cell_type": "code",
   "execution_count": 66,
   "id": "83d76502-9921-447d-97c5-90e8a065f3c5",
   "metadata": {},
   "outputs": [],
   "source": [
    "grouped_bs = group_elements(bs, 3, 1)\n",
    "grouped_current_bs = group_elements(current_top_bs, 3, 1)"
   ]
  },
  {
   "cell_type": "code",
   "execution_count": 67,
   "id": "435ad6c3-a175-431b-912d-e3559b0a1c4a",
   "metadata": {},
   "outputs": [
    {
     "data": {
      "text/plain": [
       "[[<npc.Array shape=(8, 2, 8) labels=['vL', 'p', 'vR']>],\n",
       " [<npc.Array shape=(8, 2, 8) labels=['vL', 'p', 'vR']>,\n",
       "  <npc.Array shape=(8, 2, 8) labels=['vL', 'p', 'vR']>,\n",
       "  <npc.Array shape=(8, 2, 8) labels=['vL', 'p', 'vR']>],\n",
       " [<npc.Array shape=(8, 2, 8) labels=['vL', 'p', 'vR']>,\n",
       "  <npc.Array shape=(8, 2, 8) labels=['vL', 'p', 'vR']>,\n",
       "  <npc.Array shape=(8, 2, 8) labels=['vL', 'p', 'vR']>],\n",
       " [<npc.Array shape=(8, 2, 8) labels=['vL', 'p', 'vR']>,\n",
       "  <npc.Array shape=(8, 2, 8) labels=['vL', 'p', 'vR']>,\n",
       "  <npc.Array shape=(8, 2, 8) labels=['vL', 'p', 'vR']>],\n",
       " [<npc.Array shape=(8, 2, 8) labels=['vL', 'p', 'vR']>]]"
      ]
     },
     "execution_count": 67,
     "metadata": {},
     "output_type": "execute_result"
    }
   ],
   "source": [
    "grouped_bs"
   ]
  },
  {
   "cell_type": "code",
   "execution_count": 68,
   "id": "3a7a3d32-d89e-48a5-871b-352c67c64f50",
   "metadata": {},
   "outputs": [],
   "source": [
    "combined_bs = combine_grouped_b_tensors(grouped_bs)\n",
    "combined_current_bs = combine_grouped_b_tensors(grouped_current_bs)"
   ]
  },
  {
   "cell_type": "code",
   "execution_count": 69,
   "id": "1ed554cc-5900-4696-bf9c-bbce39b1a07e",
   "metadata": {},
   "outputs": [
    {
     "data": {
      "text/plain": [
       "[<npc.Array shape=(8, 2, 8) labels=['vL', 'p', 'vR']>,\n",
       " <npc.Array shape=(8, 8, 8) labels=['vL', '(p0.p1.p2)', 'vR']>,\n",
       " <npc.Array shape=(8, 8, 8) labels=['vL', '(p0.p1.p2)', 'vR']>,\n",
       " <npc.Array shape=(8, 8, 8) labels=['vL', '(p0.p1.p2)', 'vR']>,\n",
       " <npc.Array shape=(8, 2, 8) labels=['vL', 'p', 'vR']>]"
      ]
     },
     "execution_count": 69,
     "metadata": {},
     "output_type": "execute_result"
    }
   ],
   "source": [
    "combined_bs"
   ]
  },
  {
   "cell_type": "code",
   "execution_count": 70,
   "id": "c209d99d-7cc4-4147-9149-50594aa10f18",
   "metadata": {},
   "outputs": [
    {
     "data": {
      "text/plain": [
       "[<npc.Array shape=(8, 2, 8) labels=['vL', 'p', 'vR']>,\n",
       " <npc.Array shape=(8, 8, 8) labels=['vL', '(p0.p1.p2)', 'vR']>,\n",
       " <npc.Array shape=(8, 8, 8) labels=['vL', '(p0.p1.p2)', 'vR']>,\n",
       " <npc.Array shape=(8, 8, 8) labels=['vL', '(p0.p1.p2)', 'vR']>,\n",
       " <npc.Array shape=(8, 2, 8) labels=['vL', 'p', 'vR']>]"
      ]
     },
     "execution_count": 70,
     "metadata": {},
     "output_type": "execute_result"
    }
   ],
   "source": [
    "combined_current_bs"
   ]
  },
  {
   "cell_type": "code",
   "execution_count": 71,
   "id": "ade095b4-fc42-45cf-b44c-62c02c495339",
   "metadata": {},
   "outputs": [],
   "source": [
    "unitaries = [\n",
    "    get_identity_operator(t) for t in combined_bs\n",
    "]"
   ]
  },
  {
   "cell_type": "code",
   "execution_count": 72,
   "id": "40e4ddca-50f6-4a82-a18d-802bb885cafb",
   "metadata": {},
   "outputs": [
    {
     "data": {
      "text/plain": [
       "[<npc.Array shape=(2, 2) labels=['p', 'p*']>,\n",
       " <npc.Array shape=(8, 8) labels=['(p0.p1.p2)', '(p0*.p1*.p2*)']>,\n",
       " <npc.Array shape=(8, 8) labels=['(p0.p1.p2)', '(p0*.p1*.p2*)']>,\n",
       " <npc.Array shape=(8, 8) labels=['(p0.p1.p2)', '(p0*.p1*.p2*)']>,\n",
       " <npc.Array shape=(2, 2) labels=['p', 'p*']>]"
      ]
     },
     "execution_count": 72,
     "metadata": {},
     "output_type": "execute_result"
    }
   ],
   "source": [
    "unitaries"
   ]
  },
  {
   "cell_type": "code",
   "execution_count": 73,
   "id": "efb5aa50-3fc1-420c-946a-284e28ad0f36",
   "metadata": {},
   "outputs": [],
   "source": [
    "expectations.append(list())"
   ]
  },
  {
   "cell_type": "code",
   "execution_count": 74,
   "id": "627f0c88-3d61-41a5-85b9-281b73baf5b8",
   "metadata": {},
   "outputs": [
    {
     "data": {
      "text/plain": [
       "[[[1.1772577977037582,\n",
       "   1.1786923957132358,\n",
       "   1.1786923957132351,\n",
       "   1.1786923957132365]],\n",
       " []]"
      ]
     },
     "execution_count": 74,
     "metadata": {},
     "output_type": "execute_result"
    }
   ],
   "source": [
    "expectations"
   ]
  },
  {
   "cell_type": "code",
   "execution_count": 75,
   "id": "37a48634-1c61-4377-8ed7-7b6ddac31d32",
   "metadata": {},
   "outputs": [],
   "source": [
    "exps, *_ = one_site_optimization_sweep_right(\n",
    "    test.right_projected_symmetry_state,\n",
    "    combined_current_bs,\n",
    "    unitaries,\n",
    "    combined_bs\n",
    ")\n",
    "\n",
    "expectations[-1].append(exps)"
   ]
  },
  {
   "cell_type": "code",
   "execution_count": 76,
   "id": "b5eebb67-22a3-44da-842d-b97f6c64f447",
   "metadata": {},
   "outputs": [
    {
     "data": {
      "text/plain": [
       "[[1.175927790804165,\n",
       "  1.303628725063367,\n",
       "  1.3043109643048805,\n",
       "  1.3043190341509328,\n",
       "  1.3043190341509345]]"
      ]
     },
     "execution_count": 76,
     "metadata": {},
     "output_type": "execute_result"
    }
   ],
   "source": [
    "expectations[-1]"
   ]
  },
  {
   "cell_type": "code",
   "execution_count": 77,
   "id": "e28c77c8-5304-428e-a833-9dbbcc68a713",
   "metadata": {},
   "outputs": [
    {
     "data": {
      "text/plain": [
       "[[[1.1772577977037582,\n",
       "   1.1786923957132358,\n",
       "   1.1786923957132351,\n",
       "   1.1786923957132365]],\n",
       " [[1.175927790804165,\n",
       "   1.303628725063367,\n",
       "   1.3043109643048805,\n",
       "   1.3043190341509328,\n",
       "   1.3043190341509345]]]"
      ]
     },
     "execution_count": 77,
     "metadata": {},
     "output_type": "execute_result"
    }
   ],
   "source": [
    "expectations"
   ]
  },
  {
   "cell_type": "code",
   "execution_count": 78,
   "id": "a3bce3c7-0494-40c3-8f1a-2730a8f7c5d6",
   "metadata": {},
   "outputs": [],
   "source": [
    "new_combined_bs = list()\n",
    "\n",
    "for b, u in zip(combined_current_bs, unitaries):\n",
    "    ll = get_physical_leg_labels(b)[0]\n",
    "    llh = conjugate_leg_label(ll)\n",
    "\n",
    "    new_b = npc.tensordot(b, u, [[ll,], [llh,]])\n",
    "\n",
    "    new_combined_bs.append(new_b)"
   ]
  },
  {
   "cell_type": "code",
   "execution_count": 79,
   "id": "cbcf1d6e-8bcd-45a2-8b39-6e487756db0b",
   "metadata": {},
   "outputs": [
    {
     "data": {
      "text/plain": [
       "[<npc.Array shape=(8, 8, 2) labels=['vL', 'vR', 'p']>,\n",
       " <npc.Array shape=(8, 8, 8) labels=['vL', 'vR', '(p0.p1.p2)']>,\n",
       " <npc.Array shape=(8, 8, 8) labels=['vL', 'vR', '(p0.p1.p2)']>,\n",
       " <npc.Array shape=(8, 8, 8) labels=['vL', 'vR', '(p0.p1.p2)']>,\n",
       " <npc.Array shape=(8, 8, 2) labels=['vL', 'vR', 'p']>]"
      ]
     },
     "execution_count": 79,
     "metadata": {},
     "output_type": "execute_result"
    }
   ],
   "source": [
    "new_combined_bs"
   ]
  },
  {
   "cell_type": "code",
   "execution_count": 87,
   "id": "6fbc67d1-8b26-4ef3-bed6-799efc98700f",
   "metadata": {},
   "outputs": [],
   "source": [
    "current_top_bs = list()"
   ]
  },
  {
   "cell_type": "code",
   "execution_count": 88,
   "id": "293e3946-101b-4246-8749-2d27044c81f5",
   "metadata": {},
   "outputs": [],
   "source": [
    "for b in new_combined_bs:\n",
    "    current_top_bs.extend(split_b(b))"
   ]
  },
  {
   "cell_type": "code",
   "execution_count": 89,
   "id": "968aeec7-6191-4739-b3a2-211d272167b8",
   "metadata": {},
   "outputs": [
    {
     "data": {
      "text/plain": [
       "[<npc.Array shape=(8, 8, 2) labels=['vL', 'vR', 'p']>,\n",
       " <npc.Array shape=(8, 2, 8) labels=['vL', 'p', 'vR']>,\n",
       " <npc.Array shape=(8, 2, 8) labels=['vL', 'p', 'vR']>,\n",
       " <npc.Array shape=(8, 2, 8) labels=['vL', 'p', 'vR']>,\n",
       " <npc.Array shape=(8, 2, 8) labels=['vL', 'p', 'vR']>,\n",
       " <npc.Array shape=(8, 2, 8) labels=['vL', 'p', 'vR']>,\n",
       " <npc.Array shape=(8, 2, 8) labels=['vL', 'p', 'vR']>,\n",
       " <npc.Array shape=(8, 2, 8) labels=['vL', 'p', 'vR']>,\n",
       " <npc.Array shape=(8, 2, 8) labels=['vL', 'p', 'vR']>,\n",
       " <npc.Array shape=(8, 2, 8) labels=['vL', 'p', 'vR']>,\n",
       " <npc.Array shape=(8, 8, 2) labels=['vL', 'vR', 'p']>]"
      ]
     },
     "execution_count": 89,
     "metadata": {},
     "output_type": "execute_result"
    }
   ],
   "source": [
    "current_top_bs"
   ]
  },
  {
   "cell_type": "markdown",
   "id": "f9e426eb-7d61-402a-970d-23935891d770",
   "metadata": {},
   "source": [
    "Test overlap"
   ]
  },
  {
   "cell_type": "code",
   "execution_count": 90,
   "id": "48accd42-8d99-4607-9bfa-360e4d75ce89",
   "metadata": {},
   "outputs": [],
   "source": [
    "t = test.right_projected_symmetry_state\n",
    "\n",
    "for bu, bd in zip(current_top_bs, bs):\n",
    "    t = npc.tensordot(t, bu, [['vR',],['vL',]])\n",
    "    t = npc.tensordot(t, bd.conj(), [['vR*', 'p'],['vL*', 'p*']])\n",
    "\n",
    "e = npc.trace(t)"
   ]
  },
  {
   "cell_type": "code",
   "execution_count": 91,
   "id": "7e509c8f-9da3-4b34-8488-43cc51362c16",
   "metadata": {},
   "outputs": [
    {
     "data": {
      "text/plain": [
       "(1.3022922268378696+0j)"
      ]
     },
     "execution_count": 91,
     "metadata": {},
     "output_type": "execute_result"
    }
   ],
   "source": [
    "e"
   ]
  },
  {
   "cell_type": "code",
   "execution_count": 92,
   "id": "1818e3b4-c198-4f4a-af70-3247a4adaf95",
   "metadata": {},
   "outputs": [
    {
     "data": {
      "text/plain": [
       "[<npc.Array shape=(2, 2) labels=['p', 'p*']>,\n",
       " <npc.Array shape=(8, 8) labels=['(p0.p1.p2)', '(p0*.p1*.p2*)']>,\n",
       " <npc.Array shape=(8, 8) labels=['(p0.p1.p2)', '(p0*.p1*.p2*)']>,\n",
       " <npc.Array shape=(8, 8) labels=['(p0.p1.p2)', '(p0*.p1*.p2*)']>,\n",
       " <npc.Array shape=(2, 2) labels=['p', 'p*']>]"
      ]
     },
     "execution_count": 92,
     "metadata": {},
     "output_type": "execute_result"
    }
   ],
   "source": [
    "unitaries"
   ]
  },
  {
   "cell_type": "code",
   "execution_count": 58,
   "id": "fdf48b26-a295-47e5-a22f-6f0203094c90",
   "metadata": {},
   "outputs": [
    {
     "data": {
      "text/plain": [
       "<npc.Array shape=(2, 2, 2, 2) labels=['pl*', 'pr*', 'pl', 'pr']>"
      ]
     },
     "execution_count": 58,
     "metadata": {},
     "output_type": "execute_result"
    }
   ],
   "source": [
    "unitaries[1].split_legs()"
   ]
  },
  {
   "cell_type": "markdown",
   "id": "d44408cd-6bf5-4d54-a88c-5edcd55209f0",
   "metadata": {},
   "source": [
    "To do:\n",
    "* Get w tensors\n",
    "* Contract with prior w tensors."
   ]
  },
  {
   "cell_type": "code",
   "execution_count": 93,
   "id": "e41ad093-17a2-480f-b74a-705014ce919d",
   "metadata": {},
   "outputs": [
    {
     "data": {
      "text/plain": [
       "[<npc.Array shape=(1, 2, 2, 4) labels=['vL', 'p', 'p*', 'vR']>,\n",
       " <npc.Array shape=(2, 2, 4, 4) labels=['p', 'p*', 'vL', 'vR']>,\n",
       " <npc.Array shape=(1, 4, 2, 2) labels=['vR', 'vL', 'p', 'p*']>,\n",
       " <npc.Array shape=(1, 2, 2, 4) labels=['vL', 'p', 'p*', 'vR']>,\n",
       " <npc.Array shape=(2, 2, 4, 4) labels=['p', 'p*', 'vL', 'vR']>,\n",
       " <npc.Array shape=(1, 4, 2, 2) labels=['vR', 'vL', 'p', 'p*']>,\n",
       " <npc.Array shape=(1, 2, 2, 4) labels=['vL', 'p', 'p*', 'vR']>,\n",
       " <npc.Array shape=(2, 2, 4, 4) labels=['p', 'p*', 'vL', 'vR']>,\n",
       " <npc.Array shape=(1, 4, 2, 2) labels=['vR', 'vL', 'p', 'p*']>,\n",
       " <npc.Array shape=(1, 2, 2, 4) labels=['vL', 'p', 'p*', 'vR']>,\n",
       " <npc.Array shape=(1, 4, 2, 2) labels=['vR', 'vL', 'p', 'p*']>]"
      ]
     },
     "execution_count": 93,
     "metadata": {},
     "output_type": "execute_result"
    }
   ],
   "source": [
    "current_unitary_w_tensors"
   ]
  },
  {
   "cell_type": "code",
   "execution_count": 94,
   "id": "74b31c8c-c23d-4637-9777-f685102ae757",
   "metadata": {},
   "outputs": [],
   "source": [
    "prior_unitary_w_tensors = current_unitary_w_tensors\n",
    "current_unitary_w_tensors = list()"
   ]
  },
  {
   "cell_type": "code",
   "execution_count": 99,
   "id": "b4c00b00-e0a9-4f81-b65a-fef1ade3b5af",
   "metadata": {},
   "outputs": [],
   "source": [
    "current_unitary_w_tensors = list()\n",
    "\n",
    "for u in unitaries:\n",
    "    current_unitary_w_tensors.extend(split_u(u))"
   ]
  },
  {
   "cell_type": "code",
   "execution_count": 100,
   "id": "6c8c2182-3b1b-4ea5-8c80-9b23917a731d",
   "metadata": {},
   "outputs": [
    {
     "data": {
      "text/plain": [
       "[<npc.Array shape=(1, 1, 2, 2) labels=['vR', 'vL', 'p', 'p*']>,\n",
       " <npc.Array shape=(1, 2, 2, 4) labels=['vL', 'p', 'p*', 'vR']>,\n",
       " <npc.Array shape=(2, 2, 4, 4) labels=['p', 'p*', 'vL', 'vR']>,\n",
       " <npc.Array shape=(1, 4, 2, 2) labels=['vR', 'vL', 'p', 'p*']>,\n",
       " <npc.Array shape=(1, 2, 2, 4) labels=['vL', 'p', 'p*', 'vR']>,\n",
       " <npc.Array shape=(2, 2, 4, 4) labels=['p', 'p*', 'vL', 'vR']>,\n",
       " <npc.Array shape=(1, 4, 2, 2) labels=['vR', 'vL', 'p', 'p*']>,\n",
       " <npc.Array shape=(1, 2, 2, 4) labels=['vL', 'p', 'p*', 'vR']>,\n",
       " <npc.Array shape=(2, 2, 4, 4) labels=['p', 'p*', 'vL', 'vR']>,\n",
       " <npc.Array shape=(1, 4, 2, 2) labels=['vR', 'vL', 'p', 'p*']>,\n",
       " <npc.Array shape=(1, 1, 2, 2) labels=['vR', 'vL', 'p', 'p*']>]"
      ]
     },
     "execution_count": 100,
     "metadata": {},
     "output_type": "execute_result"
    }
   ],
   "source": [
    "current_unitary_w_tensors"
   ]
  },
  {
   "cell_type": "code",
   "execution_count": 113,
   "id": "be75864b-f228-4845-ba0b-b53bf4af4eef",
   "metadata": {},
   "outputs": [],
   "source": [
    "prior_unitary_w_tensors = multiply_mpos(prior_unitary_w_tensors, current_unitary_w_tensors)"
   ]
  },
  {
   "cell_type": "markdown",
   "id": "fb05ab8d-9be8-4c17-8385-abb147b73b5a",
   "metadata": {},
   "source": [
    "## Third sweep"
   ]
  },
  {
   "cell_type": "code",
   "execution_count": 126,
   "id": "4140570e-b6da-4627-9b50-b5bd02789a08",
   "metadata": {},
   "outputs": [],
   "source": [
    "grouped_bs = group_elements(bs, 3, 2)\n",
    "grouped_current_bs = group_elements(current_top_bs, 3, 2)"
   ]
  },
  {
   "cell_type": "code",
   "execution_count": 128,
   "id": "98caa629-bd81-4002-9755-bfcf90c09119",
   "metadata": {},
   "outputs": [],
   "source": [
    "combined_bs = combine_grouped_b_tensors(grouped_bs)\n",
    "combined_current_bs = combine_grouped_b_tensors(grouped_current_bs)"
   ]
  },
  {
   "cell_type": "code",
   "execution_count": 129,
   "id": "b2ff3eee-593f-41de-8ea8-8f3d71c309df",
   "metadata": {},
   "outputs": [
    {
     "data": {
      "text/plain": [
       "[<npc.Array shape=(8, 4, 8) labels=['vL', '(p0.p1)', 'vR']>,\n",
       " <npc.Array shape=(8, 8, 8) labels=['vL', '(p0.p1.p2)', 'vR']>,\n",
       " <npc.Array shape=(8, 8, 8) labels=['vL', '(p0.p1.p2)', 'vR']>,\n",
       " <npc.Array shape=(8, 8, 8) labels=['vL', '(p0.p1.p2)', 'vR']>]"
      ]
     },
     "execution_count": 129,
     "metadata": {},
     "output_type": "execute_result"
    }
   ],
   "source": [
    "combined_bs"
   ]
  },
  {
   "cell_type": "code",
   "execution_count": 130,
   "id": "e7c87c71-30e4-4824-8be1-f4f161a7f726",
   "metadata": {},
   "outputs": [
    {
     "data": {
      "text/plain": [
       "[<npc.Array shape=(8, 4, 8) labels=['vL', '(p0.p1)', 'vR']>,\n",
       " <npc.Array shape=(8, 8, 8) labels=['vL', '(p0.p1.p2)', 'vR']>,\n",
       " <npc.Array shape=(8, 8, 8) labels=['vL', '(p0.p1.p2)', 'vR']>,\n",
       " <npc.Array shape=(8, 8, 8) labels=['vL', '(p0.p1.p2)', 'vR']>]"
      ]
     },
     "execution_count": 130,
     "metadata": {},
     "output_type": "execute_result"
    }
   ],
   "source": [
    "combined_current_bs"
   ]
  },
  {
   "cell_type": "code",
   "execution_count": 131,
   "id": "621538a1-d1d8-4e71-891b-ba4cee1d920b",
   "metadata": {},
   "outputs": [],
   "source": [
    "unitaries = [\n",
    "    get_identity_operator(t) for t in combined_bs\n",
    "]"
   ]
  },
  {
   "cell_type": "code",
   "execution_count": 132,
   "id": "e6efd010-7ae4-4979-8a46-b9f474982338",
   "metadata": {},
   "outputs": [
    {
     "data": {
      "text/plain": [
       "[<npc.Array shape=(4, 4) labels=['(p0.p1)', '(p0*.p1*)']>,\n",
       " <npc.Array shape=(8, 8) labels=['(p0.p1.p2)', '(p0*.p1*.p2*)']>,\n",
       " <npc.Array shape=(8, 8) labels=['(p0.p1.p2)', '(p0*.p1*.p2*)']>,\n",
       " <npc.Array shape=(8, 8) labels=['(p0.p1.p2)', '(p0*.p1*.p2*)']>]"
      ]
     },
     "execution_count": 132,
     "metadata": {},
     "output_type": "execute_result"
    }
   ],
   "source": [
    "unitaries"
   ]
  },
  {
   "cell_type": "code",
   "execution_count": 133,
   "id": "e9f8ff69-d079-45b7-bc10-7ec278f82607",
   "metadata": {},
   "outputs": [],
   "source": [
    "expectations.append(list())"
   ]
  },
  {
   "cell_type": "code",
   "execution_count": 134,
   "id": "15c451dc-dcce-407e-96d2-8142782ee30b",
   "metadata": {},
   "outputs": [
    {
     "data": {
      "text/plain": [
       "[[[1.1772577977037582,\n",
       "   1.1786923957132358,\n",
       "   1.1786923957132351,\n",
       "   1.1786923957132365]],\n",
       " [[1.175927790804165,\n",
       "   1.303628725063367,\n",
       "   1.3043109643048805,\n",
       "   1.3043190341509328,\n",
       "   1.3043190341509345]],\n",
       " []]"
      ]
     },
     "execution_count": 134,
     "metadata": {},
     "output_type": "execute_result"
    }
   ],
   "source": [
    "expectations"
   ]
  },
  {
   "cell_type": "code",
   "execution_count": 137,
   "id": "9c131c37-c3e3-4076-8cd2-d1520a0013e6",
   "metadata": {},
   "outputs": [],
   "source": [
    "exps, *_ = one_site_optimization_sweep_right(\n",
    "    test.right_projected_symmetry_state,\n",
    "    combined_current_bs,\n",
    "    unitaries,\n",
    "    combined_bs\n",
    ")\n",
    "\n",
    "expectations[-1].append(exps)"
   ]
  },
  {
   "cell_type": "code",
   "execution_count": 138,
   "id": "b8eca749-b7db-42d2-bab3-1653cdeb2c9f",
   "metadata": {},
   "outputs": [
    {
     "data": {
      "text/plain": [
       "[[1.302309102183223,\n",
       "  1.3037161647937843,\n",
       "  1.3055127771561226,\n",
       "  1.3055152235921883],\n",
       " [1.305516414887383, 1.3055166447799396, 1.30551665006497, 1.305516650232087]]"
      ]
     },
     "execution_count": 138,
     "metadata": {},
     "output_type": "execute_result"
    }
   ],
   "source": [
    "expectations[-1]"
   ]
  },
  {
   "cell_type": "code",
   "execution_count": 139,
   "id": "897c14fa-6613-4383-8d8c-e2fec3a817f8",
   "metadata": {},
   "outputs": [
    {
     "data": {
      "text/plain": [
       "[[[1.1772577977037582,\n",
       "   1.1786923957132358,\n",
       "   1.1786923957132351,\n",
       "   1.1786923957132365]],\n",
       " [[1.175927790804165,\n",
       "   1.303628725063367,\n",
       "   1.3043109643048805,\n",
       "   1.3043190341509328,\n",
       "   1.3043190341509345]],\n",
       " [[1.302309102183223,\n",
       "   1.3037161647937843,\n",
       "   1.3055127771561226,\n",
       "   1.3055152235921883],\n",
       "  [1.305516414887383,\n",
       "   1.3055166447799396,\n",
       "   1.30551665006497,\n",
       "   1.305516650232087]]]"
      ]
     },
     "execution_count": 139,
     "metadata": {},
     "output_type": "execute_result"
    }
   ],
   "source": [
    "expectations"
   ]
  },
  {
   "cell_type": "code",
   "execution_count": 140,
   "id": "0957cd0a-e895-44c1-b902-2b36910e18cb",
   "metadata": {},
   "outputs": [],
   "source": [
    "new_combined_bs = list()\n",
    "\n",
    "for b, u in zip(combined_current_bs, unitaries):\n",
    "    ll = get_physical_leg_labels(b)[0]\n",
    "    llh = conjugate_leg_label(ll)\n",
    "\n",
    "    new_b = npc.tensordot(b, u, [[ll,], [llh,]])\n",
    "\n",
    "    new_combined_bs.append(new_b)"
   ]
  },
  {
   "cell_type": "code",
   "execution_count": 141,
   "id": "33ab40c4-874f-4917-878b-43a490d574f1",
   "metadata": {},
   "outputs": [
    {
     "data": {
      "text/plain": [
       "[<npc.Array shape=(8, 8, 4) labels=['vL', 'vR', '(p0.p1)']>,\n",
       " <npc.Array shape=(8, 8, 8) labels=['vL', 'vR', '(p0.p1.p2)']>,\n",
       " <npc.Array shape=(8, 8, 8) labels=['vL', 'vR', '(p0.p1.p2)']>,\n",
       " <npc.Array shape=(8, 8, 8) labels=['vL', 'vR', '(p0.p1.p2)']>]"
      ]
     },
     "execution_count": 141,
     "metadata": {},
     "output_type": "execute_result"
    }
   ],
   "source": [
    "new_combined_bs"
   ]
  },
  {
   "cell_type": "code",
   "execution_count": 142,
   "id": "83c5f352-50df-4f2a-87d4-ee8ce3e899f3",
   "metadata": {},
   "outputs": [],
   "source": [
    "current_top_bs = list()"
   ]
  },
  {
   "cell_type": "code",
   "execution_count": 143,
   "id": "afb3f68f-30a6-426f-9fc0-459ff05d4f89",
   "metadata": {},
   "outputs": [],
   "source": [
    "for b in new_combined_bs:\n",
    "    current_top_bs.extend(split_b(b))"
   ]
  },
  {
   "cell_type": "code",
   "execution_count": 144,
   "id": "cbd624ab-42cd-49d5-8b2b-8fc599a71af2",
   "metadata": {},
   "outputs": [
    {
     "data": {
      "text/plain": [
       "[<npc.Array shape=(8, 2, 8) labels=['vL', 'p', 'vR']>,\n",
       " <npc.Array shape=(8, 2, 8) labels=['vL', 'p', 'vR']>,\n",
       " <npc.Array shape=(8, 2, 8) labels=['vL', 'p', 'vR']>,\n",
       " <npc.Array shape=(8, 2, 8) labels=['vL', 'p', 'vR']>,\n",
       " <npc.Array shape=(8, 2, 8) labels=['vL', 'p', 'vR']>,\n",
       " <npc.Array shape=(8, 2, 8) labels=['vL', 'p', 'vR']>,\n",
       " <npc.Array shape=(8, 2, 8) labels=['vL', 'p', 'vR']>,\n",
       " <npc.Array shape=(8, 2, 8) labels=['vL', 'p', 'vR']>,\n",
       " <npc.Array shape=(8, 2, 8) labels=['vL', 'p', 'vR']>,\n",
       " <npc.Array shape=(8, 2, 8) labels=['vL', 'p', 'vR']>,\n",
       " <npc.Array shape=(8, 2, 8) labels=['vL', 'p', 'vR']>]"
      ]
     },
     "execution_count": 144,
     "metadata": {},
     "output_type": "execute_result"
    }
   ],
   "source": [
    "current_top_bs"
   ]
  },
  {
   "cell_type": "markdown",
   "id": "b2e1b804-f36f-4dab-aa99-baf7ef5a5e17",
   "metadata": {},
   "source": [
    "Test overlap"
   ]
  },
  {
   "cell_type": "code",
   "execution_count": 145,
   "id": "7dd193c2-63e3-454f-85c5-5131e8f43e28",
   "metadata": {},
   "outputs": [],
   "source": [
    "t = test.right_projected_symmetry_state\n",
    "\n",
    "for bu, bd in zip(current_top_bs, bs):\n",
    "    t = npc.tensordot(t, bu, [['vR',],['vL',]])\n",
    "    t = npc.tensordot(t, bd.conj(), [['vR*', 'p'],['vL*', 'p*']])\n",
    "\n",
    "e = npc.trace(t)"
   ]
  },
  {
   "cell_type": "code",
   "execution_count": 146,
   "id": "5c9a0221-0351-4137-88de-d3ce8f4e31a8",
   "metadata": {},
   "outputs": [
    {
     "data": {
      "text/plain": [
       "(1.299239230931257+0j)"
      ]
     },
     "execution_count": 146,
     "metadata": {},
     "output_type": "execute_result"
    }
   ],
   "source": [
    "e"
   ]
  },
  {
   "cell_type": "markdown",
   "id": "7314e143-d7f1-4b64-ad31-de665059d366",
   "metadata": {},
   "source": [
    "Likely have a name clash somewhere. Time to improve automation."
   ]
  },
  {
   "cell_type": "code",
   "execution_count": null,
   "id": "b85f6515-4251-4d64-bf43-5f58b73c3052",
   "metadata": {},
   "outputs": [],
   "source": []
  }
 ],
 "metadata": {
  "kernelspec": {
   "display_name": "num_spt_venv_p11",
   "language": "python",
   "name": "num_spt_venv_p11"
  },
  "language_info": {
   "codemirror_mode": {
    "name": "ipython",
    "version": 3
   },
   "file_extension": ".py",
   "mimetype": "text/x-python",
   "name": "python",
   "nbconvert_exporter": "python",
   "pygments_lexer": "ipython3",
   "version": "3.11.9"
  }
 },
 "nbformat": 4,
 "nbformat_minor": 5
}
