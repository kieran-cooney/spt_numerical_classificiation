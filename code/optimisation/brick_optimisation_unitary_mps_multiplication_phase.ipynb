{
 "cells": [
  {
   "cell_type": "markdown",
   "id": "5f2205a4-2c74-4cf5-9ad1-9d65bd13bed2",
   "metadata": {},
   "source": [
    "# Brick optimisation unitary multiplication phase\n",
    "\n",
    "Created 09/09/2024\n",
    "\n",
    "Objectives:\n",
    "* Calculate unitaries using brick optimisation. Don't truncate unitaries and multiply, instead multiply against the states and compare."
   ]
  },
  {
   "cell_type": "markdown",
   "id": "9ad0db4d-805c-4403-9d48-c71d523d572f",
   "metadata": {},
   "source": [
    "# Package imports"
   ]
  },
  {
   "cell_type": "code",
   "execution_count": 1,
   "id": "ecb41ea3-927f-4efa-aebe-ce15784aa037",
   "metadata": {},
   "outputs": [],
   "source": [
    "import sys\n",
    "sys.path.append('../')"
   ]
  },
  {
   "cell_type": "code",
   "execution_count": 2,
   "id": "4a525ec6-f0c8-47ee-8b0b-345bf0ef8bd3",
   "metadata": {},
   "outputs": [],
   "source": [
    "import h5py\n",
    "from tenpy.tools import hdf5_io\n",
    "import tenpy\n",
    "import tenpy.linalg.np_conserved as npc\n",
    "\n",
    "import os"
   ]
  },
  {
   "cell_type": "code",
   "execution_count": 3,
   "id": "b22092ac-9191-4a2d-b568-8680c3687185",
   "metadata": {},
   "outputs": [],
   "source": [
    "from functools import reduce\n",
    "from operator import mul"
   ]
  },
  {
   "cell_type": "code",
   "execution_count": 4,
   "id": "214f688a-c657-4810-b4d1-b1247deff62c",
   "metadata": {},
   "outputs": [],
   "source": [
    "import numpy as np\n",
    "import matplotlib.pyplot as plt"
   ]
  },
  {
   "cell_type": "code",
   "execution_count": 5,
   "id": "b8dec68d-a5b3-4383-ab44-567a9a5981b3",
   "metadata": {},
   "outputs": [],
   "source": [
    "from SPTOptimization.SymmetryActionWithBoundaryUnitaries import SymmetryActionWithBoundaryUnitaries\n",
    "\n",
    "from SPTOptimization.Optimizers.OneSiteSolver import OneSiteSolver\n",
    "\n",
    "from SPTOptimization.utils import (\n",
    "    to_npc_array,\n",
    "    get_right_identity_environment,\n",
    "    multiply_transfer_matrices\n",
    ")\n",
    "\n",
    "from SPTOptimization.Optimizers.utils import (\n",
    "    one_site_optimization_sweep_right\n",
    ")"
   ]
  },
  {
   "cell_type": "code",
   "execution_count": 6,
   "id": "b7461fe3-41a3-492f-b018-8e32e27a7300",
   "metadata": {},
   "outputs": [],
   "source": [
    "import re"
   ]
  },
  {
   "cell_type": "markdown",
   "id": "c69a8a47-e298-4c4c-97f7-a6157da4e15f",
   "metadata": {},
   "source": [
    "# Load data"
   ]
  },
  {
   "cell_type": "code",
   "execution_count": 7,
   "id": "210d7dcc-b7ae-4f06-8429-84177bec47d3",
   "metadata": {},
   "outputs": [],
   "source": [
    "DATA_DIR = r\"../data/transverse_cluster_200_site_dmrg\""
   ]
  },
  {
   "cell_type": "code",
   "execution_count": 8,
   "id": "52736de2-8178-4035-9861-2f17b8d972fc",
   "metadata": {},
   "outputs": [],
   "source": [
    "f_name = DATA_DIR + r\"/0_90.h5\""
   ]
  },
  {
   "cell_type": "code",
   "execution_count": 9,
   "id": "294bd63f-24bb-46d4-9716-76d74e82b013",
   "metadata": {},
   "outputs": [
    {
     "data": {
      "text/plain": [
       "'../data/transverse_cluster_200_site_dmrg/0_90.h5'"
      ]
     },
     "execution_count": 9,
     "metadata": {},
     "output_type": "execute_result"
    }
   ],
   "source": [
    "f_name"
   ]
  },
  {
   "cell_type": "code",
   "execution_count": 10,
   "id": "68e653fc-625c-4010-ac8e-f7740131b8cc",
   "metadata": {},
   "outputs": [],
   "source": [
    "with h5py.File(f_name, 'r') as f:\n",
    "    data = hdf5_io.load_from_hdf5(f)\n",
    "    test_psi = data['wavefunction']"
   ]
  },
  {
   "cell_type": "markdown",
   "id": "b4c1e616-c034-404b-b59e-196d1eaac475",
   "metadata": {},
   "source": [
    "# Definitons"
   ]
  },
  {
   "cell_type": "markdown",
   "id": "4e7fe320-7b4b-43e7-8831-c0dbb8115502",
   "metadata": {},
   "source": [
    "Will need to update these based off previous work..."
   ]
  },
  {
   "cell_type": "code",
   "execution_count": 11,
   "id": "63506364-f535-4c0f-8c5f-8839c69f7b9d",
   "metadata": {},
   "outputs": [],
   "source": [
    "MAX_VIRTUAL_BOND_DIM = 8\n",
    "MAX_INTERMEDIATE_VIRTUAL_BOND_DIM = 2*MAX_VIRTUAL_BOND_DIM\n",
    "MAX_MPO_BOND_DIM = 50\n",
    "\n",
    "SVD_CUTOFF = 1e-3"
   ]
  },
  {
   "cell_type": "code",
   "execution_count": 12,
   "id": "513d7288-c641-4071-a4a3-652787d1f98c",
   "metadata": {},
   "outputs": [],
   "source": [
    "np_I = np.array([[1,0],[0,1]])\n",
    "np_X = np.array([[0,1],[1,0]])\n",
    "np_Y = np.array([[0,-1j],[1j,0]])\n",
    "np_Z = np.array([[1,0],[0,-1]])"
   ]
  },
  {
   "cell_type": "code",
   "execution_count": 13,
   "id": "2a78a62e-37eb-4baf-98ba-d6a94d599bec",
   "metadata": {},
   "outputs": [],
   "source": [
    "npc_I = to_npc_array(np_I)\n",
    "npc_X = to_npc_array(np_X)\n",
    "npc_Y = to_npc_array(np_Y)\n",
    "npc_Z = to_npc_array(np_Z)"
   ]
  },
  {
   "cell_type": "code",
   "execution_count": 14,
   "id": "b9e2f954-c591-4479-ba37-32862c25c660",
   "metadata": {},
   "outputs": [],
   "source": [
    "symmetry_actions = [\n",
    "    [np_I, np_X],\n",
    "    [np_X, np_I],\n",
    "    [np_X, np_X]\n",
    "]"
   ]
  },
  {
   "cell_type": "code",
   "execution_count": 15,
   "id": "abbc24c4-1f37-491d-a894-fefcfa523584",
   "metadata": {},
   "outputs": [],
   "source": [
    "cases = [\n",
    "    SymmetryActionWithBoundaryUnitaries(test_psi, a*50)\n",
    "    for a in symmetry_actions\n",
    "]"
   ]
  },
  {
   "cell_type": "code",
   "execution_count": 16,
   "id": "ee85be38-bc3f-4942-b604-badc919c9991",
   "metadata": {},
   "outputs": [],
   "source": [
    "for c in cases:\n",
    "    c.compute_svd_symmetry_action()"
   ]
  },
  {
   "cell_type": "code",
   "execution_count": 17,
   "id": "6bac53fa-b629-46fc-a145-f932a0af6f18",
   "metadata": {},
   "outputs": [],
   "source": [
    "left_trivial_leg_charge = tenpy.linalg.charges.LegCharge(\n",
    "    tenpy.linalg.charges.ChargeInfo([], []),\n",
    "    [0,1],\n",
    "    [[]],\n",
    "    qconj=1\n",
    ")"
   ]
  },
  {
   "cell_type": "code",
   "execution_count": 18,
   "id": "44f34cb7-0888-474b-9483-f4956951fc31",
   "metadata": {},
   "outputs": [],
   "source": [
    "right_trivial_leg_charge = tenpy.linalg.charges.LegCharge(\n",
    "    tenpy.linalg.charges.ChargeInfo([], []),\n",
    "    [0,1],\n",
    "    [[]],\n",
    "    qconj=-1\n",
    ")"
   ]
  },
  {
   "cell_type": "markdown",
   "id": "38c05308-5c2c-4c60-8eb5-7446af7f85d7",
   "metadata": {},
   "source": [
    "## Functions"
   ]
  },
  {
   "cell_type": "markdown",
   "id": "fbf28b75-1454-41f0-a17d-dd1d8891cb81",
   "metadata": {},
   "source": [
    "### Leg and label functions"
   ]
  },
  {
   "cell_type": "code",
   "execution_count": 19,
   "id": "0cc65d77-76f3-4159-b2e6-e0ab8429c271",
   "metadata": {},
   "outputs": [],
   "source": [
    "P_LEG_LABEL_REGEX_STRING = r\"^p\\d*$\"\n",
    "p_leg_pattern = re.compile(P_LEG_LABEL_REGEX_STRING)\n",
    "\n",
    "def is_single_physical_leg_label(label):\n",
    "    return bool(p_leg_pattern.match(label))"
   ]
  },
  {
   "cell_type": "code",
   "execution_count": 20,
   "id": "af651898-f853-4710-bfa7-2928d6bb8d55",
   "metadata": {},
   "outputs": [],
   "source": [
    "def is_grouped_physical_leg_label(leg_label):\n",
    "    head, *body, tail = leg_label\n",
    "    if (head != '(') or (tail != ')'):\n",
    "        return False\n",
    "\n",
    "    body = ''.join(body)\n",
    "    legs = body.split('.')\n",
    "\n",
    "    return all(is_single_physical_leg_label(l) for l in legs)"
   ]
  },
  {
   "cell_type": "code",
   "execution_count": 21,
   "id": "1b14fc57-4f21-432e-b2b9-6dcafc179ef2",
   "metadata": {},
   "outputs": [],
   "source": [
    "def is_physical_leg_label(label):\n",
    "    out = (\n",
    "        is_single_physical_leg_label(label)\n",
    "        or is_grouped_physical_leg_label(label)\n",
    "    )\n",
    "\n",
    "    return out"
   ]
  },
  {
   "cell_type": "code",
   "execution_count": 22,
   "id": "949e51b3-8bd1-409f-bb98-0a57d1c99888",
   "metadata": {},
   "outputs": [],
   "source": [
    "def extract_single_physical_leg_label_from_tensor(b):\n",
    "    out = next(\n",
    "        l for l in b.get_leg_labels()\n",
    "        if is_single_physical_leg_label(l)\n",
    "    )\n",
    "\n",
    "    return out"
   ]
  },
  {
   "cell_type": "code",
   "execution_count": 23,
   "id": "1d03a2c8-1e74-4a87-abec-67ec6857100c",
   "metadata": {},
   "outputs": [],
   "source": [
    "def conjugate_single_physical_leg_label(label):\n",
    "    return label + '*'"
   ]
  },
  {
   "cell_type": "code",
   "execution_count": 24,
   "id": "16f3235f-6efc-4739-8dae-a42093c12370",
   "metadata": {},
   "outputs": [],
   "source": [
    "def conjugate_grouped_physical_leg_label(label):\n",
    "    _, *body, _ = label\n",
    "    single_labels = ''.join(body).split('.')\n",
    "\n",
    "    conjugate_labels = [\n",
    "        conjugate_single_physical_leg_label(l)\n",
    "        for l in single_labels\n",
    "    ]\n",
    "\n",
    "    conjugate_body = '.'.join(conjugate_labels)\n",
    "    out = '(' + conjugate_body + ')'\n",
    "    \n",
    "    return out"
   ]
  },
  {
   "cell_type": "code",
   "execution_count": 25,
   "id": "8dab4c14-1fb5-4933-b68c-204cc96541c4",
   "metadata": {},
   "outputs": [],
   "source": [
    "def conjugate_leg_label(label):\n",
    "    if is_single_physical_leg_label(label):\n",
    "        return conjugate_single_physical_leg_label(label)\n",
    "    elif is_grouped_physical_leg_label(label):\n",
    "        return conjugate_grouped_physical_leg_label(label)\n",
    "    else:\n",
    "        raise ValueError"
   ]
  },
  {
   "cell_type": "code",
   "execution_count": 26,
   "id": "8e00e4ef-bb2b-4229-8e92-5e07ec9931b4",
   "metadata": {},
   "outputs": [],
   "source": [
    "def get_physical_leg_labels(t):\n",
    "    out = [\n",
    "        ll for ll in t.get_leg_labels()\n",
    "        if is_physical_leg_label(ll)\n",
    "    ]\n",
    "\n",
    "    return out"
   ]
  },
  {
   "cell_type": "markdown",
   "id": "818c2f27-1431-42a7-ab63-9d81972ed7e2",
   "metadata": {},
   "source": [
    "### Other"
   ]
  },
  {
   "cell_type": "code",
   "execution_count": 27,
   "id": "d2464abb-fd7e-469a-a7d4-e604e24e14bc",
   "metadata": {},
   "outputs": [],
   "source": [
    "def contract_virtual_legs(tl, tr):\n",
    "    return npc.tensordot(tl, tr, ['vR', 'vL'])"
   ]
  },
  {
   "cell_type": "code",
   "execution_count": 28,
   "id": "ac3f7a01-08a2-4937-8308-f12f637f38b6",
   "metadata": {},
   "outputs": [],
   "source": [
    "def combine_tensors(tensors):\n",
    "    out = reduce(contract_virtual_legs, tensors)\n",
    "\n",
    "    leg_labels = [\n",
    "        extract_single_physical_leg_label_from_tensor(t)\n",
    "        for t in tensors\n",
    "    ]\n",
    "\n",
    "    out = out.combine_legs(leg_labels)\n",
    "\n",
    "    return out"
   ]
  },
  {
   "cell_type": "code",
   "execution_count": 29,
   "id": "6b01c411-0a2a-499d-b220-b99e197ecbd8",
   "metadata": {},
   "outputs": [],
   "source": [
    "def combine_b_tensors(b_tensors):\n",
    "    renamed_tensors = [\n",
    "        b.replace_label('p', f'p{i}')\n",
    "        for i, b in enumerate(b_tensors)\n",
    "    ]\n",
    "\n",
    "    return combine_tensors(renamed_tensors)"
   ]
  },
  {
   "cell_type": "code",
   "execution_count": 30,
   "id": "41848361-7394-4eb5-8006-8ab618c0a274",
   "metadata": {},
   "outputs": [],
   "source": [
    "def get_identity_operator(mps_tensor):\n",
    "    p_leg_label = get_physical_leg_labels(mps_tensor)[0]\n",
    "    p_leg = mps_tensor.get_leg(p_leg_label)\n",
    "    p_leg_label_conj = conjugate_leg_label(p_leg_label)\n",
    "\n",
    "    out = npc.diag(\n",
    "        1,\n",
    "        leg=p_leg,\n",
    "        dtype='complex',\n",
    "        labels=[p_leg_label, p_leg_label_conj]\n",
    "    )\n",
    "\n",
    "    return out"
   ]
  },
  {
   "cell_type": "code",
   "execution_count": 31,
   "id": "0b0386d2-79d0-45ab-98ce-ead4ca433c30",
   "metadata": {},
   "outputs": [],
   "source": [
    "def svd_reduce_split_tensor(t, max_inner_dim=MAX_VIRTUAL_BOND_DIM,\n",
    "                           normalise=True, svd_cutoff=SVD_CUTOFF):\n",
    "    U, S, VH = npc.svd(\n",
    "        t,\n",
    "        compute_uv=True,\n",
    "        inner_labels=['vR', 'vL'],\n",
    "        cutoff=svd_cutoff\n",
    "    )\n",
    "\n",
    "    # Truncate tensors:\n",
    "    U = U[:, :max_inner_dim]\n",
    "    S = S[:max_inner_dim]\n",
    "    VH = VH[:max_inner_dim, :]\n",
    "\n",
    "    if normalise:\n",
    "        new_norm = np.sqrt(np.sum(S**2))\n",
    "        S = S/new_norm\n",
    "\n",
    "    \"\"\"\n",
    "    leg = VH.get_leg('vL')\n",
    "\n",
    "    schmidt_values = npc.diag(S, leg, labels=['vL', 'vR'])\n",
    "    \"\"\"\n",
    "\n",
    "    return U, S, VH"
   ]
  },
  {
   "cell_type": "code",
   "execution_count": 32,
   "id": "d2523496-e338-46ef-a2e2-5a8e8dbcba5f",
   "metadata": {},
   "outputs": [],
   "source": [
    "def split_combined_b(b, leftmost_schmidt_values,\n",
    "                     max_virtual_bond_dim=MAX_INTERMEDIATE_VIRTUAL_BOND_DIM,\n",
    "                     p_leg_labels=None):\n",
    "    t = b.split_legs()\n",
    "\n",
    "    num_sites = t.ndim - 2\n",
    "\n",
    "    if p_leg_labels is None:\n",
    "        p_leg_labels = [f'p{i}' for i in range(num_sites)]\n",
    "\n",
    "    out_bs = list()\n",
    "    out_schmidt_values = list()\n",
    "\n",
    "    current_left_schmidt_values = leftmost_schmidt_values\n",
    "\n",
    "    for i, ll in enumerate(p_leg_labels[:-1]):\n",
    "        t.iscale_axis(current_left_schmidt_values, axis='vL')\n",
    "\n",
    "        tail_legs = p_leg_labels[(i+1):]\n",
    "        \n",
    "        t = t.combine_legs([['vL', ll], ['vR', *tail_legs]])\n",
    "\n",
    "        U, S, VH = svd_reduce_split_tensor(\n",
    "            t,\n",
    "            max_inner_dim=max_virtual_bond_dim,\n",
    "            normalise=True\n",
    "        )\n",
    "\n",
    "        bl = (\n",
    "            U\n",
    "            .split_legs()\n",
    "            .replace_label(ll, 'p')\n",
    "        )\n",
    "        bl.iscale_axis(1/current_left_schmidt_values, axis='vL')\n",
    "        bl.iscale_axis(S, axis='vR')\n",
    "        bl.itranspose(['vL', 'p', 'vR'])\n",
    "        out_bs.append(bl)\n",
    "\n",
    "        out_schmidt_values.append(S)\n",
    "        current_left_schmidt_values=S\n",
    "\n",
    "        t = VH.split_legs()\n",
    "\n",
    "    bl = t.replace_label(p_leg_labels[-1], 'p')\n",
    "    bl.itranspose(['vL', 'p', 'vR'])\n",
    "    out_bs.append(bl)\n",
    "\n",
    "    return out_bs, out_schmidt_values"
   ]
  },
  {
   "cell_type": "code",
   "execution_count": 33,
   "id": "a02ec1af-d2c1-4766-a688-01946f284490",
   "metadata": {},
   "outputs": [],
   "source": [
    "def split_b(b, max_virtual_bond_dim=MAX_INTERMEDIATE_VIRTUAL_BOND_DIM,\n",
    "                     p_leg_labels=None):\n",
    "    leg_label = get_physical_leg_labels(b)[0]\n",
    "\n",
    "    if is_single_physical_leg_label(leg_label):\n",
    "        return b\n",
    "    elif is_grouped_physical_leg_label(leg_label):\n",
    "        return split_combined_b(b, max_virtual_bond_dim, p_leg_labels)\n",
    "    else:\n",
    "        raise ValueError"
   ]
  },
  {
   "cell_type": "code",
   "execution_count": 34,
   "id": "5dddedee-f5a2-4dc8-90e1-7afac18a0307",
   "metadata": {},
   "outputs": [],
   "source": [
    "def split_combined_u(u, max_virtual_bond_dim=MAX_VIRTUAL_BOND_DIM,\n",
    "                     p_leg_labels=None):\n",
    "    t = u.split_legs()\n",
    "    num_sites = t.ndim //2\n",
    "    \n",
    "    if p_leg_labels is None:\n",
    "        p_leg_labels = [f'p{i}' for i in range(num_sites)]\n",
    "\n",
    "    p_leg_labels_hc = [l+'*' for l in p_leg_labels]\n",
    "    out_ws = list()\n",
    "\n",
    "    for i, (ll, ll_hc) in enumerate(zip(p_leg_labels[:-1], p_leg_labels_hc[:-1])):\n",
    "        tail_legs = p_leg_labels[(i+1):]\n",
    "        tail_legs_hc = p_leg_labels_hc[(i+1):]\n",
    "\n",
    "        left_leg_labels = [ll, ll_hc]\n",
    "        if 'vL' in t.get_leg_labels():\n",
    "            left_leg_labels.append('vL')\n",
    "    \n",
    "        t = t.combine_legs([left_leg_labels, [*tail_legs, *tail_legs_hc]])\n",
    "\n",
    "        U, S, VH = svd_reduce_split_tensor(\n",
    "            t,\n",
    "            max_inner_dim=max_virtual_bond_dim,\n",
    "            normalise=False\n",
    "        )\n",
    "\n",
    "        U.iscale_axis(S, axis='vR')\n",
    "\n",
    "        wl = U.split_legs().replace_labels([ll, ll_hc], ['p', 'p*'])\n",
    "        #wl.itranspose(['p', 'p*'])\n",
    "        out_ws.append(wl)\n",
    "\n",
    "        t = VH.split_legs()\n",
    "\n",
    "    wl = t.replace_labels(\n",
    "        [p_leg_labels[-1], p_leg_labels_hc[-1]],\n",
    "        ['p', 'p*']\n",
    "    )\n",
    "    #wl.itranspose(['p', 'p*'])\n",
    "    out_ws.append(wl)\n",
    "\n",
    "    out_ws[0] = (\n",
    "        out_ws[0]\n",
    "        .add_leg(left_trivial_leg_charge, 0, label='vL')\n",
    "    )\n",
    "    \n",
    "    out_ws[-1] = (\n",
    "        out_ws[-1]\n",
    "        .add_leg(right_trivial_leg_charge, 0, label='vR')\n",
    "    )\n",
    "\n",
    "    return out_ws"
   ]
  },
  {
   "cell_type": "code",
   "execution_count": 35,
   "id": "a28056d8-7950-4661-b4b8-0b73e1f6cf97",
   "metadata": {},
   "outputs": [],
   "source": [
    "def split_u(u, max_virtual_bond_dim=MAX_VIRTUAL_BOND_DIM,\n",
    "            p_leg_labels=None):\n",
    "    leg_label = get_physical_leg_labels(u)[0]\n",
    "\n",
    "    if is_single_physical_leg_label(leg_label):\n",
    "        return [unitary_to_mpo_tensor(u),]\n",
    "    elif is_grouped_physical_leg_label(leg_label):\n",
    "        return split_combined_u(u, max_virtual_bond_dim, p_leg_labels)\n",
    "    else:\n",
    "        raise ValueError"
   ]
  },
  {
   "cell_type": "code",
   "execution_count": 36,
   "id": "bc71056c-f25f-4d68-b694-2a26c0ad5790",
   "metadata": {},
   "outputs": [],
   "source": [
    "def unitary_to_mpo_tensor(u):\n",
    "    out = (\n",
    "        u\n",
    "        .add_leg(left_trivial_leg_charge, 0, label='vL')\n",
    "        .add_leg(right_trivial_leg_charge, 0, label='vR')\n",
    "    )\n",
    "\n",
    "    return out"
   ]
  },
  {
   "cell_type": "code",
   "execution_count": 37,
   "id": "7b9fb468-6328-4ae0-b25a-652cb13032c1",
   "metadata": {},
   "outputs": [],
   "source": [
    "def multiply_individual_mpo_tensors(w1, w2):\n",
    "    w1 = w1.replace_labels(['vR', 'vL'], ['vR1', 'vL1'])\n",
    "    w2 = w2.replace_labels(['vR', 'vL'], ['vR2', 'vL2'])\n",
    "\n",
    "    w = (\n",
    "        npc.tensordot(w1, w2, [['p'], ['p*']])\n",
    "        .combine_legs([['vR1', 'vR2'], ['vL1', 'vL2']])\n",
    "        .replace_labels(['(vR1.vR2)', '(vL1.vL2)'], ['vR', 'vL'])\n",
    "    )\n",
    "\n",
    "    return w"
   ]
  },
  {
   "cell_type": "code",
   "execution_count": 38,
   "id": "f9a3a71f-0d3f-4ecf-8eec-c38f861561ef",
   "metadata": {},
   "outputs": [],
   "source": [
    "def group_elements(l, group_size, offset=0):\n",
    "    first, rest = l[:offset], l[offset:]\n",
    "\n",
    "    num_rest_groups = ((len(rest)-1)//group_size) + 1\n",
    "\n",
    "    groups = [first,] if first else list()\n",
    "\n",
    "    for i in range(num_rest_groups):\n",
    "        first_index = i*group_size\n",
    "        last_index = (i+1)*group_size\n",
    "        groups.append(rest[first_index:last_index])\n",
    "\n",
    "    return groups"
   ]
  },
  {
   "cell_type": "code",
   "execution_count": 39,
   "id": "96791fa9-9917-4440-b847-2bc4a3eb39e5",
   "metadata": {},
   "outputs": [],
   "source": [
    "def combine_grouped_b_tensors(grouped_bs):\n",
    "    out = list()\n",
    "\n",
    "    for group in grouped_bs:\n",
    "        if len(group) == 1:\n",
    "            out.append(group[0])\n",
    "        else:\n",
    "            out.append(combine_b_tensors(group))\n",
    "\n",
    "    return out"
   ]
  },
  {
   "cell_type": "code",
   "execution_count": 40,
   "id": "c78589cc-aa65-4aa1-9d53-0cf61702e92c",
   "metadata": {},
   "outputs": [],
   "source": [
    "def reduce_virtual_mpo_dim(wl, wr, max_virtual_bond_dim=MAX_VIRTUAL_BOND_DIM):\n",
    "    # wl = wl.replace_labels(['p', 'p*'], ['pl', 'pl*'])\n",
    "\n",
    "    wl = wl.combine_legs(['p', 'vL', 'p*'])\n",
    "    wr = wr.combine_legs(['p', 'vR', 'p*'])\n",
    "    w = npc.tensordot(wl, wr, ['vR', 'vL'])\n",
    "\n",
    "    wl, S, wr = svd_reduce_split_tensor(\n",
    "        w,\n",
    "        max_inner_dim=max_virtual_bond_dim\n",
    "    )\n",
    "\n",
    "    wl.iscale_axis(S, axis='vR')\n",
    "\n",
    "    wl = wl.split_legs()\n",
    "    wr = wr.split_legs()\n",
    "\n",
    "    return wl, wr"
   ]
  },
  {
   "cell_type": "code",
   "execution_count": 41,
   "id": "e7470053-b5df-45e0-b302-d7ad19d83f30",
   "metadata": {},
   "outputs": [],
   "source": [
    "def multiply_mpos(top_ws, bottom_ws, max_virtual_bond_dim=MAX_VIRTUAL_BOND_DIM):\n",
    "    ws = list()\n",
    "    \n",
    "    for w1, w2 in zip(top_ws, bottom_ws):\n",
    "        w = multiply_individual_mpo_tensors(w1, w2)\n",
    "        ws.append(w)\n",
    "\n",
    "\n",
    "    for i in range(len(ws)-1):\n",
    "        ws[i], ws[i+1] = reduce_virtual_mpo_dim(\n",
    "            ws[i],\n",
    "            ws[i+1],\n",
    "            max_virtual_bond_dim=max_virtual_bond_dim\n",
    "        )\n",
    "\n",
    "    return ws"
   ]
  },
  {
   "cell_type": "markdown",
   "id": "808162ba-8e2a-40bf-adcb-84aff74b5b95",
   "metadata": {},
   "source": [
    "### Layer function"
   ]
  },
  {
   "cell_type": "code",
   "execution_count": 42,
   "id": "28b4dd32-ad86-4b30-8047-0b8ad440a194",
   "metadata": {},
   "outputs": [],
   "source": [
    "def optimise_layer(\n",
    "        left_environment,\n",
    "        top_b_tensors,\n",
    "        left_schmidt_values,\n",
    "        block_width,\n",
    "        block_offset,\n",
    "        expectations,\n",
    "        unitaries=list(),\n",
    "        bottom_b_tensors=None,\n",
    "        num_iterations=1,\n",
    "        max_virtual_bond_dim=MAX_VIRTUAL_BOND_DIM\n",
    "    ):\n",
    "\n",
    "    if bottom_b_tensors is None:\n",
    "        bottom_b_tensors = top_b_tensors\n",
    "\n",
    "    group = lambda x: group_elements(x, block_width, block_offset)\n",
    "    top_grouped_bs = group(top_b_tensors)\n",
    "    bottom_grouped_bs = group(bottom_b_tensors)\n",
    "    grouped_schmidt_values = group(left_schmidt_values)\n",
    "\n",
    "    top_combined_bs = combine_grouped_b_tensors(top_grouped_bs)\n",
    "    bottom_combined_bs = combine_grouped_b_tensors(bottom_grouped_bs)\n",
    "\n",
    "    new_unitaries = [\n",
    "        get_identity_operator(t) for t in top_combined_bs\n",
    "    ]\n",
    "\n",
    "    expectations.append(list())\n",
    "\n",
    "    for _ in range(num_iterations):\n",
    "        exps, *_ = one_site_optimization_sweep_right(\n",
    "            left_environment,\n",
    "            top_combined_bs,\n",
    "            new_unitaries,\n",
    "            bottom_combined_bs\n",
    "        )\n",
    "\n",
    "        expectations[-1].append(exps)\n",
    "\n",
    "    unitaries.append(new_unitaries)\n",
    "\n",
    "    for i, u in enumerate(new_unitaries):\n",
    "        b = top_combined_bs[i]\n",
    "        ll = get_physical_leg_labels(b)[0]\n",
    "        llh = conjugate_leg_label(ll)\n",
    "    \n",
    "        new_b = npc.tensordot(b, u, [[ll,], [llh,]])\n",
    "    \n",
    "        top_combined_bs[i] = new_b\n",
    "\n",
    "    new_top_bs = list()\n",
    "    new_left_schmidt_values = left_schmidt_values.copy()\n",
    "\n",
    "    for b, s in zip (top_combined_bs, grouped_schmidt_values):\n",
    "        leg_label = get_physical_leg_labels(b)[0]\n",
    "        if is_single_physical_leg_label(leg_label):\n",
    "            new_top_bs.append(b)\n",
    "            new_left_schmidt_values.extend(s)\n",
    "        elif is_grouped_physical_leg_label(leg_label):\n",
    "            bs, schmidt_vals = split_combined_b(\n",
    "                b,\n",
    "                s[0],\n",
    "                max_virtual_bond_dim\n",
    "            )\n",
    "            new_top_bs.extend(bs)\n",
    "            new_left_schmidt_values.extend(s)\n",
    "\n",
    "    \"\"\"\n",
    "    for i, b in enumerate(new_top_bs):\n",
    "        top_b_tensors[i] = b\n",
    "    \"\"\"\n",
    "\n",
    "    return new_top_bs, new_left_schmidt_values"
   ]
  },
  {
   "cell_type": "code",
   "execution_count": 43,
   "id": "3a51ee7d-cf08-4382-bb53-55cae7533c76",
   "metadata": {},
   "outputs": [],
   "source": [
    "def inner_product_b_tensors(b_tensors, b_bra_tensors=None, left_environment=None,\n",
    "                            right_environment=None):\n",
    "    if b_bra_tensors is None:\n",
    "        b_bra_tensors = b_tensors\n",
    "\n",
    "    b = b_tensors[0]\n",
    "    b_bra = b_bra_tensors[0]\n",
    "\n",
    "    if left_environment is None:\n",
    "        t = npc.tensordot(b, b_bra.conj(), [['vL',], ['vL*',]])\n",
    "    else:\n",
    "        t = npc.tensordot(left_environment, b, [['vR',], ['vL',]])\n",
    "        t = npc.tensordot(t, b_bra.conj(), [['vR*', 'p'], ['vL*', 'p*']])\n",
    "\n",
    "    for b, b_bra in zip(b_tensors[1:], b_bra_tensors[1:]):\n",
    "        t = npc.tensordot(t, b, [['vR',], ['vL',]])\n",
    "        t = npc.tensordot(t, b_bra.conj(), [['vR*', 'p'], ['vL*', 'p*']])\n",
    "\n",
    "    if right_environment is None:\n",
    "        out = npc.trace(t)\n",
    "    else:\n",
    "        out = npc.tensordot(t, right_environment, [['vR', 'vR*'], ['vL', 'vL*']])\n",
    "\n",
    "    return out"
   ]
  },
  {
   "cell_type": "markdown",
   "id": "4de20b96-dc26-422f-87aa-d0220ebeb7cf",
   "metadata": {},
   "source": [
    "# Get MPO tensors for each case"
   ]
  },
  {
   "cell_type": "code",
   "execution_count": 44,
   "id": "89fbfd69-43a2-4a74-8885-82cde542c302",
   "metadata": {},
   "outputs": [],
   "source": [
    "test = cases[0]"
   ]
  },
  {
   "cell_type": "code",
   "execution_count": 45,
   "id": "5cceb5cb-84a8-48a5-978a-ad9c794af54b",
   "metadata": {},
   "outputs": [
    {
     "data": {
      "text/plain": [
       "149"
      ]
     },
     "execution_count": 45,
     "metadata": {},
     "output_type": "execute_result"
    }
   ],
   "source": [
    "test.right_symmetry_index"
   ]
  },
  {
   "cell_type": "code",
   "execution_count": 46,
   "id": "1cf15a5e-8b2b-4f59-884f-5f3b8faf527d",
   "metadata": {},
   "outputs": [],
   "source": [
    "bs = [\n",
    "    test_psi.get_B(i)\n",
    "    for k, i in enumerate(range(test.right_symmetry_index + 1, test.right_symmetry_index + 26))\n",
    "]"
   ]
  },
  {
   "cell_type": "code",
   "execution_count": 47,
   "id": "9c500b7f-a0f5-4c60-b642-33841f4f1861",
   "metadata": {},
   "outputs": [],
   "source": [
    "left_schmidt_values = [\n",
    "    test_psi.get_SL(i)\n",
    "    for _, i in enumerate(range(test.right_symmetry_index + 1, test.right_symmetry_index + 26))\n",
    "]"
   ]
  },
  {
   "cell_type": "code",
   "execution_count": 48,
   "id": "00a7dcf9-7193-4f7e-819c-573fae679ae1",
   "metadata": {},
   "outputs": [
    {
     "data": {
      "text/plain": [
       "25"
      ]
     },
     "execution_count": 48,
     "metadata": {},
     "output_type": "execute_result"
    }
   ],
   "source": [
    "len(bs)"
   ]
  },
  {
   "cell_type": "code",
   "execution_count": 49,
   "id": "077fcadf-448e-4ae0-a08d-57cb871e84d3",
   "metadata": {},
   "outputs": [
    {
     "data": {
      "text/plain": [
       "[[array([[1, 0],\n",
       "         [0, 1]]),\n",
       "  array([[0, 1],\n",
       "         [1, 0]])],\n",
       " [array([[0, 1],\n",
       "         [1, 0]]),\n",
       "  array([[1, 0],\n",
       "         [0, 1]])],\n",
       " [array([[0, 1],\n",
       "         [1, 0]]),\n",
       "  array([[0, 1],\n",
       "         [1, 0]])]]"
      ]
     },
     "execution_count": 49,
     "metadata": {},
     "output_type": "execute_result"
    }
   ],
   "source": [
    "symmetry_actions"
   ]
  },
  {
   "cell_type": "markdown",
   "id": "5f52b6be-1675-4148-b464-8a0b14a66fd5",
   "metadata": {},
   "source": [
    "## IX"
   ]
  },
  {
   "cell_type": "code",
   "execution_count": 50,
   "id": "143f2fa3-e2f1-4e82-a3ea-53869d7b8b55",
   "metadata": {},
   "outputs": [],
   "source": [
    "left_environment = cases[0].right_projected_symmetry_state\n",
    "bottom_b_tensors = bs\n",
    "top_b_tensors = [bs,]\n",
    "left_schmidt_values_list = [left_schmidt_values,]\n",
    "block_width = 7\n",
    "expectations = list()\n",
    "unitaries = []\n",
    "num_iterations = 3"
   ]
  },
  {
   "cell_type": "code",
   "execution_count": 51,
   "id": "d1761958-54c0-487a-b6d0-36a514e1f097",
   "metadata": {
    "scrolled": true
   },
   "outputs": [
    {
     "name": "stdout",
     "output_type": "stream",
     "text": [
      "Layer: 0\n",
      "Layer: 5\n",
      "Layer: 10\n",
      "Layer: 15\n",
      "Layer: 20\n",
      "Layer: 25\n"
     ]
    }
   ],
   "source": [
    "for i in range(30):\n",
    "    if i%5 == 0:\n",
    "        print(f\"Layer: {i}\")\n",
    "    \n",
    "    offset = (block_width//2)*i % block_width\n",
    "\n",
    "    new_top_b_tensors, new_schmidt_values = optimise_layer(\n",
    "        left_environment,\n",
    "        top_b_tensors[-1],\n",
    "        left_schmidt_values_list[-1],\n",
    "        block_width,\n",
    "        offset,\n",
    "        expectations,\n",
    "        unitaries,\n",
    "        bottom_b_tensors,\n",
    "        num_iterations\n",
    "    )\n",
    "\n",
    "    top_b_tensors.append(new_top_b_tensors)\n",
    "    left_schmidt_values_list.append(new_schmidt_values)"
   ]
  },
  {
   "cell_type": "code",
   "execution_count": 52,
   "id": "62199f38-799e-421f-8130-95688c40cfc9",
   "metadata": {},
   "outputs": [],
   "source": [
    "final_expectations = list()\n",
    "\n",
    "for l in expectations:\n",
    "    final_expectations.append(l[-1][-1])"
   ]
  },
  {
   "cell_type": "code",
   "execution_count": 53,
   "id": "47004d08-2907-40c1-be56-5e465e029746",
   "metadata": {},
   "outputs": [
    {
     "data": {
      "text/plain": [
       "[<matplotlib.lines.Line2D at 0x177539210>]"
      ]
     },
     "execution_count": 53,
     "metadata": {},
     "output_type": "execute_result"
    },
    {
     "data": {
      "image/png": "[encoded data removed]",
      "text/plain": [
       "<Figure size 640x480 with 1 Axes>"
      ]
     },
     "metadata": {},
     "output_type": "display_data"
    }
   ],
   "source": [
    "plt.plot(final_expectations)"
   ]
  },
  {
   "cell_type": "code",
   "execution_count": 54,
   "id": "a92b2259-b258-49f8-986b-66afffd7439e",
   "metadata": {},
   "outputs": [
    {
     "data": {
      "text/plain": [
       "1.431618750938472"
      ]
     },
     "execution_count": 54,
     "metadata": {},
     "output_type": "execute_result"
    }
   ],
   "source": [
    "final_expectations[-1]"
   ]
  },
  {
   "cell_type": "code",
   "execution_count": 55,
   "id": "af424a3e-e93b-4cc6-9a13-9a0807890973",
   "metadata": {},
   "outputs": [],
   "source": [
    "symmetry_action_unitaries = list()"
   ]
  },
  {
   "cell_type": "code",
   "execution_count": 56,
   "id": "ff9313b4-3db4-4ea9-8c28-2c44d371c0dc",
   "metadata": {},
   "outputs": [],
   "source": [
    "ix_unitary = unitaries"
   ]
  },
  {
   "cell_type": "code",
   "execution_count": 57,
   "id": "4f993a7d-1102-4bd6-af7f-42930edeea30",
   "metadata": {},
   "outputs": [],
   "source": [
    "ix_state = new_top_b_tensors"
   ]
  },
  {
   "cell_type": "code",
   "execution_count": 58,
   "id": "c2f7e696-4c65-4023-aa30-9ed85879da84",
   "metadata": {},
   "outputs": [],
   "source": [
    "ix_schmidt_values = new_schmidt_values"
   ]
  },
  {
   "cell_type": "code",
   "execution_count": 59,
   "id": "8d22c75a-3215-4523-aae1-e0925448643c",
   "metadata": {},
   "outputs": [],
   "source": [
    "symmetry_action_unitaries.append(unitaries)"
   ]
  },
  {
   "cell_type": "markdown",
   "id": "fd3c27b6-0f40-4d99-827c-022189704338",
   "metadata": {},
   "source": [
    "## XI"
   ]
  },
  {
   "cell_type": "code",
   "execution_count": 61,
   "id": "816433d6-9c8e-4a35-86fb-90504574c378",
   "metadata": {},
   "outputs": [],
   "source": [
    "left_environment = cases[1].right_projected_symmetry_state\n",
    "bottom_b_tensors = bs\n",
    "top_b_tensors = [bs,]\n",
    "left_schmidt_values_list = [left_schmidt_values,]\n",
    "block_width = 7\n",
    "expectations = list()\n",
    "unitaries = []\n",
    "num_iterations = 3"
   ]
  },
  {
   "cell_type": "code",
   "execution_count": 66,
   "id": "51160aa8-0777-4045-bef6-dcaabb991c74",
   "metadata": {
    "scrolled": true
   },
   "outputs": [
    {
     "name": "stdout",
     "output_type": "stream",
     "text": [
      "Layer: 0\n",
      "Layer: 5\n",
      "Layer: 10\n",
      "Layer: 15\n",
      "Layer: 20\n",
      "Layer: 25\n"
     ]
    }
   ],
   "source": [
    "for i in range(30):\n",
    "    if i%5 == 0:\n",
    "        print(f\"Layer: {i}\")\n",
    "    \n",
    "    offset = (block_width//2)*i % block_width\n",
    "\n",
    "    new_top_b_tensors, new_schmidt_values = optimise_layer(\n",
    "        left_environment,\n",
    "        top_b_tensors[-1],\n",
    "        left_schmidt_values_list[-1],\n",
    "        block_width,\n",
    "        offset,\n",
    "        expectations,\n",
    "        unitaries,\n",
    "        bottom_b_tensors,\n",
    "        num_iterations\n",
    "    )\n",
    "\n",
    "    top_b_tensors.append(new_top_b_tensors)\n",
    "    left_schmidt_values_list.append(new_schmidt_values)"
   ]
  },
  {
   "cell_type": "code",
   "execution_count": 67,
   "id": "ca2ac15c-6ef5-4ce0-8722-0197223118ea",
   "metadata": {},
   "outputs": [],
   "source": [
    "final_expectations = list()\n",
    "\n",
    "for l in expectations:\n",
    "    final_expectations.append(l[-1][-1])"
   ]
  },
  {
   "cell_type": "code",
   "execution_count": 68,
   "id": "079eca40-23a6-4d76-9ab3-9835190c370c",
   "metadata": {},
   "outputs": [
    {
     "data": {
      "text/plain": [
       "[<matplotlib.lines.Line2D at 0x3024681d0>]"
      ]
     },
     "execution_count": 68,
     "metadata": {},
     "output_type": "execute_result"
    },
    {
     "data": {
      "image/png": "[encoded data removed]",
      "text/plain": [
       "<Figure size 640x480 with 1 Axes>"
      ]
     },
     "metadata": {},
     "output_type": "display_data"
    }
   ],
   "source": [
    "plt.plot(final_expectations)"
   ]
  },
  {
   "cell_type": "code",
   "execution_count": 69,
   "id": "4a4153d0-da7d-4d42-b641-56432d28ab41",
   "metadata": {},
   "outputs": [
    {
     "data": {
      "text/plain": [
       "1.4330749751688352"
      ]
     },
     "execution_count": 69,
     "metadata": {},
     "output_type": "execute_result"
    }
   ],
   "source": [
    "final_expectations[-1]"
   ]
  },
  {
   "cell_type": "code",
   "execution_count": 70,
   "id": "5d626145-00ae-4551-bf45-ec77982c8e81",
   "metadata": {},
   "outputs": [],
   "source": [
    "xi_unitary = unitaries"
   ]
  },
  {
   "cell_type": "code",
   "execution_count": 71,
   "id": "b1e2fbef-7326-48ec-a494-4a0defac652a",
   "metadata": {},
   "outputs": [],
   "source": [
    "xi_state = new_top_b_tensors"
   ]
  },
  {
   "cell_type": "code",
   "execution_count": 72,
   "id": "4f056735-4d4c-45b4-9d91-ccffa76bbaad",
   "metadata": {},
   "outputs": [],
   "source": [
    "xi_schmidt_values = new_schmidt_values"
   ]
  },
  {
   "cell_type": "code",
   "execution_count": 73,
   "id": "aceea1b3-7cd0-4817-8ec7-b9a12947ece9",
   "metadata": {},
   "outputs": [],
   "source": [
    "symmetry_action_unitaries.append(unitaries)"
   ]
  },
  {
   "cell_type": "markdown",
   "id": "7a4caf8b-77a6-4193-9add-690bc4be18c1",
   "metadata": {},
   "source": [
    "## XX"
   ]
  },
  {
   "cell_type": "code",
   "execution_count": 74,
   "id": "a6d1e94a-be5b-483e-b80d-c28c6beb9f08",
   "metadata": {},
   "outputs": [],
   "source": [
    "left_environment = cases[2].right_projected_symmetry_state\n",
    "bottom_b_tensors = bs\n",
    "top_b_tensors = [bs,]\n",
    "left_schmidt_values_list = [left_schmidt_values,]\n",
    "block_width = 7\n",
    "expectations = list()\n",
    "unitaries = []\n",
    "num_iterations = 3"
   ]
  },
  {
   "cell_type": "code",
   "execution_count": 75,
   "id": "25a3fb31-1ce0-4d9e-a111-8576ed8f1c3b",
   "metadata": {
    "scrolled": true
   },
   "outputs": [
    {
     "name": "stdout",
     "output_type": "stream",
     "text": [
      "Layer: 0\n",
      "Layer: 5\n",
      "Layer: 10\n",
      "Layer: 15\n",
      "Layer: 20\n",
      "Layer: 25\n"
     ]
    }
   ],
   "source": [
    "for i in range(30):\n",
    "    if i%5 == 0:\n",
    "        print(f\"Layer: {i}\")\n",
    "    \n",
    "    offset = (block_width//2)*i % block_width\n",
    "\n",
    "    new_top_b_tensors, new_schmidt_values = optimise_layer(\n",
    "        left_environment,\n",
    "        top_b_tensors[-1],\n",
    "        left_schmidt_values_list[-1],\n",
    "        block_width,\n",
    "        offset,\n",
    "        expectations,\n",
    "        unitaries,\n",
    "        bottom_b_tensors,\n",
    "        num_iterations\n",
    "    )\n",
    "\n",
    "    top_b_tensors.append(new_top_b_tensors)\n",
    "    left_schmidt_values_list.append(new_schmidt_values)"
   ]
  },
  {
   "cell_type": "code",
   "execution_count": 76,
   "id": "6e8e67d9-d205-45be-83ae-2263744a6c65",
   "metadata": {},
   "outputs": [],
   "source": [
    "final_expectations = list()\n",
    "\n",
    "for l in expectations:\n",
    "    final_expectations.append(l[-1][-1])"
   ]
  },
  {
   "cell_type": "code",
   "execution_count": 77,
   "id": "07367ca7-88c4-4a9a-a983-cf5822ee35c6",
   "metadata": {},
   "outputs": [
    {
     "data": {
      "text/plain": [
       "[<matplotlib.lines.Line2D at 0x3000001d0>]"
      ]
     },
     "execution_count": 77,
     "metadata": {},
     "output_type": "execute_result"
    },
    {
     "data": {
      "image/png": "[encoded data removed]",
      "text/plain": [
       "<Figure size 640x480 with 1 Axes>"
      ]
     },
     "metadata": {},
     "output_type": "display_data"
    }
   ],
   "source": [
    "plt.plot(final_expectations)"
   ]
  },
  {
   "cell_type": "code",
   "execution_count": 78,
   "id": "05eedb13-4695-4906-9366-aa990f692f6e",
   "metadata": {},
   "outputs": [
    {
     "data": {
      "text/plain": [
       "1.4357300714456378"
      ]
     },
     "execution_count": 78,
     "metadata": {},
     "output_type": "execute_result"
    }
   ],
   "source": [
    "final_expectations[-1]"
   ]
  },
  {
   "cell_type": "code",
   "execution_count": 79,
   "id": "118adb71-4e0a-4915-bd5a-4f43e827e6ca",
   "metadata": {},
   "outputs": [],
   "source": [
    "xx_unitary = unitaries"
   ]
  },
  {
   "cell_type": "code",
   "execution_count": 80,
   "id": "5fe87286-6c0d-4fea-9653-9875bbf5348c",
   "metadata": {},
   "outputs": [],
   "source": [
    "xx_state = new_top_b_tensors"
   ]
  },
  {
   "cell_type": "code",
   "execution_count": 81,
   "id": "d0ff6858-c0ec-45a1-b292-43656536e8fb",
   "metadata": {},
   "outputs": [],
   "source": [
    "xx_schmidt_values = new_schmidt_values"
   ]
  },
  {
   "cell_type": "code",
   "execution_count": 82,
   "id": "6561132a-253e-4b1b-a673-a43d3f89de37",
   "metadata": {},
   "outputs": [],
   "source": [
    "symmetry_action_unitaries.append(unitaries)"
   ]
  },
  {
   "cell_type": "markdown",
   "id": "ab59b323-ac28-442e-8307-e2c225bbadf1",
   "metadata": {},
   "source": [
    "# Multiply unitary against state"
   ]
  },
  {
   "cell_type": "code",
   "execution_count": 83,
   "id": "0b1dc163-b74e-47f1-8ffb-2fe8d871a4f6",
   "metadata": {},
   "outputs": [
    {
     "data": {
      "text/plain": [
       "[<npc.Array shape=(128, 128) labels=['(p0.p1.p2.p3.p4.p5.p6)', '(p0*.p1*.p2*.p3*.p4*.p5*.p6*)']>,\n",
       " <npc.Array shape=(128, 128) labels=['(p0.p1.p2.p3.p4.p5.p6)', '(p0*.p1*.p2*.p3*.p4*.p5*.p6*)']>,\n",
       " <npc.Array shape=(128, 128) labels=['(p0.p1.p2.p3.p4.p5.p6)', '(p0*.p1*.p2*.p3*.p4*.p5*.p6*)']>,\n",
       " <npc.Array shape=(16, 16) labels=['(p0.p1.p2.p3)', '(p0*.p1*.p2*.p3*)']>]"
      ]
     },
     "execution_count": 83,
     "metadata": {},
     "output_type": "execute_result"
    }
   ],
   "source": [
    "unitaries[0]"
   ]
  },
  {
   "cell_type": "code",
   "execution_count": 84,
   "id": "479b7fcb-0c46-4fa6-95a9-3b07697b4ccd",
   "metadata": {},
   "outputs": [],
   "source": [
    "def get_num_legs(unitary):\n",
    "    ll = unitary.get_leg_labels()[0]\n",
    "\n",
    "    return len(ll[1:-1].split('.'))"
   ]
  },
  {
   "cell_type": "code",
   "execution_count": 86,
   "id": "b6652636-f5c7-4759-9733-15af398cad5d",
   "metadata": {},
   "outputs": [
    {
     "name": "stdout",
     "output_type": "stream",
     "text": [
      "The history saving thread hit an unexpected error (OperationalError('attempt to write a readonly database')).History will not be written to the database.\n"
     ]
    }
   ],
   "source": [
    "def group_by_lengths(l, lengths):\n",
    "    out = list()\n",
    "\n",
    "    current_index = 0\n",
    "\n",
    "    for n in lengths:\n",
    "        current_group = l[current_index:current_index+n]\n",
    "        out.append(current_group)\n",
    "\n",
    "        current_index += n\n",
    "\n",
    "    return out"
   ]
  },
  {
   "cell_type": "code",
   "execution_count": 98,
   "id": "b28a9a3b-63a5-4c14-ae90-f74ee7c8a8d7",
   "metadata": {},
   "outputs": [],
   "source": [
    "def multiply_unitaries_against_mps(unitaries, b_tensors, left_schmidt_values,\n",
    "                                  max_virtual_bond_dim=MAX_VIRTUAL_BOND_DIM):\n",
    "    site_group_lens = [get_num_legs(u) for u in unitaries]\n",
    "\n",
    "    grouped_bs = group_by_lengths(b_tensors, site_group_lens)\n",
    "    grouped_schmidt_values = group_by_lengths(\n",
    "        left_schmidt_values,\n",
    "        site_group_lens\n",
    "    )\n",
    "\n",
    "    combined_bs = combine_grouped_b_tensors(grouped_bs)\n",
    "\n",
    "    for i, u in enumerate(unitaries):\n",
    "        b = combined_bs[i]\n",
    "        ll = get_physical_leg_labels(b)[0]\n",
    "        llh = conjugate_leg_label(ll)\n",
    "    \n",
    "        new_b = npc.tensordot(b, u, [[ll,], [llh,]])\n",
    "    \n",
    "        combined_bs[i] = new_b\n",
    "\n",
    "    new_top_bs = list()\n",
    "    new_left_schmidt_values = left_schmidt_values.copy()\n",
    "\n",
    "    for b, s in zip (combined_bs, grouped_schmidt_values):\n",
    "        leg_label = get_physical_leg_labels(b)[0]\n",
    "        if is_single_physical_leg_label(leg_label):\n",
    "            new_top_bs.append(b)\n",
    "            new_left_schmidt_values.extend(s)\n",
    "        elif is_grouped_physical_leg_label(leg_label):\n",
    "            bs, schmidt_vals = split_combined_b(\n",
    "                b,\n",
    "                s[0],\n",
    "                max_virtual_bond_dim\n",
    "            )\n",
    "            new_top_bs.extend(bs)\n",
    "            new_left_schmidt_values.extend(s)\n",
    "\n",
    "    return new_top_bs, new_left_schmidt_values"
   ]
  },
  {
   "cell_type": "code",
   "execution_count": 99,
   "id": "54f9b50d-2d57-4de3-93f6-b401d67120f3",
   "metadata": {},
   "outputs": [],
   "source": [
    "def multiply_stacked_unitaries_against_mps(unitaries, b_tensors, left_schmidt_values):\n",
    "    out_b_tensors = b_tensors.copy()\n",
    "    out_left_schmidt_values = left_schmidt_values.copy()\n",
    "\n",
    "    for l in unitaries:\n",
    "        out_b_tensors, out_left_schmidt_values = multiply_unitaries_against_mps(\n",
    "            l,\n",
    "            out_b_tensors,\n",
    "            out_left_schmidt_values\n",
    "        )\n",
    "\n",
    "    return out_b_tensors, out_left_schmidt_values"
   ]
  },
  {
   "cell_type": "markdown",
   "id": "fb904bb1-9cd6-40e8-ae98-c663a888ab10",
   "metadata": {},
   "source": [
    "## Test\n",
    "Check if agrees with optimisation output."
   ]
  },
  {
   "cell_type": "markdown",
   "id": "22e865cb-0e46-4619-82a9-74b3f61e74cc",
   "metadata": {},
   "source": [
    "### IX"
   ]
  },
  {
   "cell_type": "code",
   "execution_count": 100,
   "id": "587aa57a-4b3d-4a72-98d8-1ff13e5b2de1",
   "metadata": {},
   "outputs": [],
   "source": [
    "ix_out_state_test, _ = multiply_stacked_unitaries_against_mps(ix_unitary, bs, left_schmidt_values)"
   ]
  },
  {
   "cell_type": "code",
   "execution_count": 102,
   "id": "7e1db88d-afca-4139-9381-3fe27f561092",
   "metadata": {},
   "outputs": [],
   "source": [
    "ix_out_state_test, _ = ix_out_state_test"
   ]
  },
  {
   "cell_type": "code",
   "execution_count": 103,
   "id": "ff17dd75-06c2-46e9-9e47-ab270e2160c3",
   "metadata": {},
   "outputs": [
    {
     "data": {
      "text/plain": [
       "[<npc.Array shape=(8, 2, 8) labels=['vL', 'p', 'vR']>,\n",
       " <npc.Array shape=(8, 2, 8) labels=['vL', 'p', 'vR']>,\n",
       " <npc.Array shape=(8, 2, 8) labels=['vL', 'p', 'vR']>,\n",
       " <npc.Array shape=(8, 2, 8) labels=['vL', 'p', 'vR']>,\n",
       " <npc.Array shape=(8, 2, 8) labels=['vL', 'p', 'vR']>,\n",
       " <npc.Array shape=(8, 2, 8) labels=['vL', 'p', 'vR']>,\n",
       " <npc.Array shape=(8, 2, 8) labels=['vL', 'p', 'vR']>,\n",
       " <npc.Array shape=(8, 2, 8) labels=['vL', 'p', 'vR']>,\n",
       " <npc.Array shape=(8, 2, 8) labels=['vL', 'p', 'vR']>,\n",
       " <npc.Array shape=(8, 2, 8) labels=['vL', 'p', 'vR']>,\n",
       " <npc.Array shape=(8, 2, 8) labels=['vL', 'p', 'vR']>,\n",
       " <npc.Array shape=(8, 2, 8) labels=['vL', 'p', 'vR']>,\n",
       " <npc.Array shape=(8, 2, 8) labels=['vL', 'p', 'vR']>,\n",
       " <npc.Array shape=(8, 2, 8) labels=['vL', 'p', 'vR']>,\n",
       " <npc.Array shape=(8, 2, 8) labels=['vL', 'p', 'vR']>,\n",
       " <npc.Array shape=(8, 2, 8) labels=['vL', 'p', 'vR']>,\n",
       " <npc.Array shape=(8, 2, 8) labels=['vL', 'p', 'vR']>,\n",
       " <npc.Array shape=(8, 2, 8) labels=['vL', 'p', 'vR']>,\n",
       " <npc.Array shape=(8, 2, 8) labels=['vL', 'p', 'vR']>,\n",
       " <npc.Array shape=(8, 2, 8) labels=['vL', 'p', 'vR']>,\n",
       " <npc.Array shape=(8, 2, 8) labels=['vL', 'p', 'vR']>,\n",
       " <npc.Array shape=(8, 2, 8) labels=['vL', 'p', 'vR']>,\n",
       " <npc.Array shape=(8, 2, 8) labels=['vL', 'p', 'vR']>,\n",
       " <npc.Array shape=(8, 2, 8) labels=['vL', 'p', 'vR']>,\n",
       " <npc.Array shape=(8, 8, 2) labels=['vL', 'vR', 'p']>]"
      ]
     },
     "execution_count": 103,
     "metadata": {},
     "output_type": "execute_result"
    }
   ],
   "source": [
    "ix_out_state_test"
   ]
  },
  {
   "cell_type": "code",
   "execution_count": 107,
   "id": "e157a092-453c-413c-85c4-9eda06129263",
   "metadata": {},
   "outputs": [],
   "source": [
    "def mps_inner_product(\n",
    "        top_tensors, bottom_tensors, left_environment):\n",
    "\n",
    "    b_top = top_tensors[0]\n",
    "    b_bottom = bottom_tensors[0]\n",
    "\n",
    "    t = npc.tensordot(left_environment, b_bottom.conj(), (['vR*',], ['vL*',]))\n",
    "    t = npc.tensordot(t, b_top, (['vR', 'p*'], ['vL', 'p']))\n",
    "\n",
    "    for b_top, b_bottom in zip(top_tensors[1:], bottom_tensors[1:]):\n",
    "        t = npc.tensordot(t, b_bottom.conj(), (['vR*',], ['vL*',]))\n",
    "        t = npc.tensordot(t, b_top, (['vR', 'p*'], ['vL', 'p']))\n",
    "\n",
    "    e = npc.trace(t, 'vR', 'vR*')\n",
    "\n",
    "    return e"
   ]
  },
  {
   "cell_type": "code",
   "execution_count": 108,
   "id": "fe43a1e2-c67c-43f7-9996-946b109e06a9",
   "metadata": {},
   "outputs": [
    {
     "data": {
      "text/plain": [
       "(1.431758252865324+0j)"
      ]
     },
     "execution_count": 108,
     "metadata": {},
     "output_type": "execute_result"
    }
   ],
   "source": [
    "mps_inner_product(\n",
    "    ix_out_state_test,\n",
    "    bs,\n",
    "    cases[0].right_projected_symmetry_state\n",
    ")"
   ]
  },
  {
   "cell_type": "code",
   "execution_count": 109,
   "id": "bee79482-fe4c-4ed7-b403-efda18e1ce94",
   "metadata": {},
   "outputs": [
    {
     "data": {
      "text/plain": [
       "(1.431758252865324+0j)"
      ]
     },
     "execution_count": 109,
     "metadata": {},
     "output_type": "execute_result"
    }
   ],
   "source": [
    "mps_inner_product(\n",
    "    ix_state,\n",
    "    bs,\n",
    "    cases[0].right_projected_symmetry_state\n",
    ")"
   ]
  },
  {
   "cell_type": "markdown",
   "id": "07b1bfd3-b9c0-47d6-b348-b06fe9b65d74",
   "metadata": {},
   "source": [
    "Looks good."
   ]
  },
  {
   "cell_type": "markdown",
   "id": "7069904b-72a6-4df4-abed-037563259a7d",
   "metadata": {},
   "source": [
    "# Calculate phase"
   ]
  },
  {
   "cell_type": "code",
   "execution_count": 117,
   "id": "452ab1c4-b25a-431e-8ea7-87fb4e416220",
   "metadata": {},
   "outputs": [],
   "source": [
    "xi_ix_state, _ = multiply_stacked_unitaries_against_mps(xi_unitary, ix_state, ix_schmidt_values)"
   ]
  },
  {
   "cell_type": "code",
   "execution_count": 111,
   "id": "15ec92aa-52a6-4e49-8ce6-795b6bfac4bd",
   "metadata": {},
   "outputs": [],
   "source": [
    "trivial_case = SymmetryActionWithBoundaryUnitaries(test_psi, [np_I, np_I]*50)"
   ]
  },
  {
   "cell_type": "code",
   "execution_count": 112,
   "id": "a0d742f1-930c-4dd6-9c66-e7714bfa447d",
   "metadata": {},
   "outputs": [],
   "source": [
    "trivial_case.compute_svd_symmetry_action()"
   ]
  },
  {
   "cell_type": "code",
   "execution_count": 118,
   "id": "e276b37d-6e81-4257-80ce-c4c6b047d365",
   "metadata": {},
   "outputs": [
    {
     "data": {
      "text/plain": [
       "(1.4322695627792046+0j)"
      ]
     },
     "execution_count": 118,
     "metadata": {},
     "output_type": "execute_result"
    }
   ],
   "source": [
    "mps_inner_product(\n",
    "    xi_ix_state,\n",
    "    xx_state,\n",
    "    trivial_case.right_projected_symmetry_state\n",
    ")"
   ]
  },
  {
   "cell_type": "code",
   "execution_count": 121,
   "id": "13b52a3d-cbaa-4be0-810a-6d92707d4631",
   "metadata": {},
   "outputs": [],
   "source": [
    "X = np.round(trivial_case.right_projected_symmetry_state.to_ndarray(), 3)"
   ]
  },
  {
   "cell_type": "code",
   "execution_count": 124,
   "id": "f335663e-9c6f-41fe-bcaa-c90a788e66fa",
   "metadata": {},
   "outputs": [
    {
     "data": {
      "text/plain": [
       "array([-0.75 +0.j, -0.662+0.j, -0.007+0.j, -0.006+0.j, -0.006+0.j,\n",
       "       -0.006+0.j, -0.   +0.j, -0.   +0.j])"
      ]
     },
     "execution_count": 124,
     "metadata": {},
     "output_type": "execute_result"
    }
   ],
   "source": [
    "np.diag(X)"
   ]
  },
  {
   "cell_type": "markdown",
   "id": "ef241e30-4190-49f0-8e94-3e0221e83a86",
   "metadata": {},
   "source": [
    "Just schmidt values...?"
   ]
  },
  {
   "cell_type": "code",
   "execution_count": 126,
   "id": "3e009c3a-71a8-469b-ba71-9d70eb082faa",
   "metadata": {},
   "outputs": [
    {
     "data": {
      "text/plain": [
       "(1.0009009999999998+0j)"
      ]
     },
     "execution_count": 126,
     "metadata": {},
     "output_type": "execute_result"
    }
   ],
   "source": [
    "np.sum(np.power(X, 2))"
   ]
  },
  {
   "cell_type": "code",
   "execution_count": 127,
   "id": "6e102a47-f271-4fdd-9929-3247c8bd80d4",
   "metadata": {},
   "outputs": [],
   "source": [
    "xi_xx_state, _ = multiply_stacked_unitaries_against_mps(xi_unitary, xx_state, xx_schmidt_values)"
   ]
  },
  {
   "cell_type": "code",
   "execution_count": 128,
   "id": "d19c9424-1795-463d-810b-482006fb6051",
   "metadata": {},
   "outputs": [
    {
     "data": {
      "text/plain": [
       "(1.4266081567814601+0j)"
      ]
     },
     "execution_count": 128,
     "metadata": {},
     "output_type": "execute_result"
    }
   ],
   "source": [
    "mps_inner_product(\n",
    "    xi_xx_state,\n",
    "    ix_state,\n",
    "    trivial_case.right_projected_symmetry_state\n",
    ")"
   ]
  },
  {
   "cell_type": "code",
   "execution_count": 129,
   "id": "6c667594-745c-4107-a314-ccac3715050c",
   "metadata": {},
   "outputs": [],
   "source": [
    "ix_xx_state, _ = multiply_stacked_unitaries_against_mps(ix_unitary, xx_state, xx_schmidt_values)"
   ]
  },
  {
   "cell_type": "code",
   "execution_count": 130,
   "id": "62e483ee-dd51-4c7c-94fa-c8ccbc455044",
   "metadata": {},
   "outputs": [
    {
     "data": {
      "text/plain": [
       "(-1.4304325080629685+0j)"
      ]
     },
     "execution_count": 130,
     "metadata": {},
     "output_type": "execute_result"
    }
   ],
   "source": [
    "mps_inner_product(\n",
    "    ix_xx_state,\n",
    "    xi_state,\n",
    "    trivial_case.right_projected_symmetry_state\n",
    ")"
   ]
  },
  {
   "cell_type": "code",
   "execution_count": 131,
   "id": "78d58436-4e5c-4183-b234-666198fee863",
   "metadata": {},
   "outputs": [],
   "source": [
    "ix_ix_state, _ = multiply_stacked_unitaries_against_mps(ix_unitary, ix_state, ix_schmidt_values)"
   ]
  },
  {
   "cell_type": "code",
   "execution_count": 132,
   "id": "b2fc9271-5d94-443f-9ce7-69b7693fbfa1",
   "metadata": {},
   "outputs": [
    {
     "data": {
      "text/plain": [
       "(-1.4294132112456313+0j)"
      ]
     },
     "execution_count": 132,
     "metadata": {},
     "output_type": "execute_result"
    }
   ],
   "source": [
    "mps_inner_product(\n",
    "    ix_ix_state,\n",
    "    bs,\n",
    "    trivial_case.right_projected_symmetry_state\n",
    ")"
   ]
  },
  {
   "cell_type": "code",
   "execution_count": 133,
   "id": "1c22003c-116a-4c52-832b-5a5b6e9b37fa",
   "metadata": {},
   "outputs": [],
   "source": [
    "xi_xi_state, _ = multiply_stacked_unitaries_against_mps(xi_unitary, xi_state, xi_schmidt_values)"
   ]
  },
  {
   "cell_type": "code",
   "execution_count": 134,
   "id": "ba5ddc40-52d1-4651-b7dd-6b1813c5b069",
   "metadata": {},
   "outputs": [
    {
     "data": {
      "text/plain": [
       "(-1.42960363781293+0j)"
      ]
     },
     "execution_count": 134,
     "metadata": {},
     "output_type": "execute_result"
    }
   ],
   "source": [
    "mps_inner_product(\n",
    "    xi_xi_state,\n",
    "    bs,\n",
    "    trivial_case.right_projected_symmetry_state\n",
    ")"
   ]
  },
  {
   "cell_type": "code",
   "execution_count": 135,
   "id": "973a9176-8389-4040-a75d-5367c7dc97fe",
   "metadata": {},
   "outputs": [],
   "source": [
    "xx_xx_state, _ = multiply_stacked_unitaries_against_mps(xx_unitary, xx_state, xx_schmidt_values)"
   ]
  },
  {
   "cell_type": "code",
   "execution_count": 136,
   "id": "afd652b1-55b2-4974-9fe5-3b701ec0e477",
   "metadata": {},
   "outputs": [
    {
     "data": {
      "text/plain": [
       "(1.4274038025443507+0j)"
      ]
     },
     "execution_count": 136,
     "metadata": {},
     "output_type": "execute_result"
    }
   ],
   "source": [
    "mps_inner_product(\n",
    "    xx_xx_state,\n",
    "    bs,\n",
    "    trivial_case.right_projected_symmetry_state\n",
    ")"
   ]
  },
  {
   "cell_type": "markdown",
   "id": "b0eafe4e-d4d1-4d0b-a9cc-bdbe1b263b99",
   "metadata": {},
   "source": [
    "Looks good!"
   ]
  },
  {
   "cell_type": "markdown",
   "id": "fd06c225-07c1-4657-b7a2-b64d1f0152a1",
   "metadata": {},
   "source": [
    "## \"Gauge invariant\" phase"
   ]
  },
  {
   "cell_type": "code",
   "execution_count": 210,
   "id": "aa29d777-6a78-4089-9bbb-793ec4104e4f",
   "metadata": {},
   "outputs": [],
   "source": [
    "xi_ix_state, _ = multiply_stacked_unitaries_against_mps(xi_unitary, ix_state, ix_schmidt_values)"
   ]
  },
  {
   "cell_type": "code",
   "execution_count": 211,
   "id": "4f10ef2e-a9d6-4703-903d-d3c512d8ae9e",
   "metadata": {},
   "outputs": [],
   "source": [
    "ix_xi_state, _ = multiply_stacked_unitaries_against_mps(ix_unitary, xi_state, xi_schmidt_values)"
   ]
  },
  {
   "cell_type": "code",
   "execution_count": 212,
   "id": "965e9a40-9d8c-425e-a3ea-16f85abb0ec5",
   "metadata": {},
   "outputs": [],
   "source": [
    "trivial_case.compute_svd_symmetry_action()"
   ]
  },
  {
   "cell_type": "code",
   "execution_count": 213,
   "id": "a0fd3248-38b3-4852-b0d5-d134f970d72f",
   "metadata": {},
   "outputs": [
    {
     "data": {
      "text/plain": [
       "(-1.1973987562290027+0j)"
      ]
     },
     "execution_count": 213,
     "metadata": {},
     "output_type": "execute_result"
    }
   ],
   "source": [
    "mps_inner_product(\n",
    "    xi_ix_state,\n",
    "    ix_xi_state,\n",
    "    trivial_case.right_projected_symmetry_state\n",
    ")"
   ]
  },
  {
   "cell_type": "code",
   "execution_count": 214,
   "id": "bf1c992d-82c3-458f-9aa4-52628bb24467",
   "metadata": {},
   "outputs": [
    {
     "ename": "ValueError",
     "evalue": "s has wrong shape: (8,) instead of 7",
     "output_type": "error",
     "traceback": [
      "\u001b[0;31m---------------------------------------------------------------------------\u001b[0m",
      "\u001b[0;31mValueError\u001b[0m                                Traceback (most recent call last)",
      "Cell \u001b[0;32mIn[214], line 1\u001b[0m\n\u001b[0;32m----> 1\u001b[0m xi_xx_state, _ \u001b[38;5;241m=\u001b[39m \u001b[43mmultiply_stacked_unitaries_against_mps\u001b[49m\u001b[43m(\u001b[49m\u001b[43mxi_unitary\u001b[49m\u001b[43m,\u001b[49m\u001b[43m \u001b[49m\u001b[43mxx_state\u001b[49m\u001b[43m,\u001b[49m\u001b[43m \u001b[49m\u001b[43mxx_schmidt_values\u001b[49m\u001b[43m)\u001b[49m\n",
      "Cell \u001b[0;32mIn[192], line 6\u001b[0m, in \u001b[0;36mmultiply_stacked_unitaries_against_mps\u001b[0;34m(unitaries, b_tensors, left_schmidt_values)\u001b[0m\n\u001b[1;32m      3\u001b[0m out_left_schmidt_values \u001b[38;5;241m=\u001b[39m left_schmidt_values\u001b[38;5;241m.\u001b[39mcopy()\n\u001b[1;32m      5\u001b[0m \u001b[38;5;28;01mfor\u001b[39;00m l \u001b[38;5;129;01min\u001b[39;00m unitaries:\n\u001b[0;32m----> 6\u001b[0m     out_b_tensors, out_left_schmidt_values \u001b[38;5;241m=\u001b[39m \u001b[43mmultiply_unitaries_against_mps\u001b[49m\u001b[43m(\u001b[49m\n\u001b[1;32m      7\u001b[0m \u001b[43m        \u001b[49m\u001b[43ml\u001b[49m\u001b[43m,\u001b[49m\n\u001b[1;32m      8\u001b[0m \u001b[43m        \u001b[49m\u001b[43mout_b_tensors\u001b[49m\u001b[43m,\u001b[49m\n\u001b[1;32m      9\u001b[0m \u001b[43m        \u001b[49m\u001b[43mout_left_schmidt_values\u001b[49m\n\u001b[1;32m     10\u001b[0m \u001b[43m    \u001b[49m\u001b[43m)\u001b[49m\n\u001b[1;32m     12\u001b[0m \u001b[38;5;28;01mreturn\u001b[39;00m out_b_tensors, out_left_schmidt_values\n",
      "Cell \u001b[0;32mIn[191], line 31\u001b[0m, in \u001b[0;36mmultiply_unitaries_against_mps\u001b[0;34m(unitaries, b_tensors, left_schmidt_values, max_virtual_bond_dim)\u001b[0m\n\u001b[1;32m     29\u001b[0m     new_left_schmidt_values\u001b[38;5;241m.\u001b[39mextend(s)\n\u001b[1;32m     30\u001b[0m \u001b[38;5;28;01melif\u001b[39;00m is_grouped_physical_leg_label(leg_label):\n\u001b[0;32m---> 31\u001b[0m     bs, schmidt_vals \u001b[38;5;241m=\u001b[39m \u001b[43msplit_combined_b\u001b[49m\u001b[43m(\u001b[49m\n\u001b[1;32m     32\u001b[0m \u001b[43m        \u001b[49m\u001b[43mb\u001b[49m\u001b[43m,\u001b[49m\n\u001b[1;32m     33\u001b[0m \u001b[43m        \u001b[49m\u001b[43ms\u001b[49m\u001b[43m[\u001b[49m\u001b[38;5;241;43m0\u001b[39;49m\u001b[43m]\u001b[49m\u001b[43m,\u001b[49m\n\u001b[1;32m     34\u001b[0m \u001b[43m        \u001b[49m\u001b[43mmax_virtual_bond_dim\u001b[49m\n\u001b[1;32m     35\u001b[0m \u001b[43m    \u001b[49m\u001b[43m)\u001b[49m\n\u001b[1;32m     36\u001b[0m     new_top_bs\u001b[38;5;241m.\u001b[39mextend(bs)\n\u001b[1;32m     37\u001b[0m     new_left_schmidt_values\u001b[38;5;241m.\u001b[39mextend(s)\n",
      "Cell \u001b[0;32mIn[32], line 17\u001b[0m, in \u001b[0;36msplit_combined_b\u001b[0;34m(b, leftmost_schmidt_values, max_virtual_bond_dim, p_leg_labels)\u001b[0m\n\u001b[1;32m     14\u001b[0m current_left_schmidt_values \u001b[38;5;241m=\u001b[39m leftmost_schmidt_values\n\u001b[1;32m     16\u001b[0m \u001b[38;5;28;01mfor\u001b[39;00m i, ll \u001b[38;5;129;01min\u001b[39;00m \u001b[38;5;28menumerate\u001b[39m(p_leg_labels[:\u001b[38;5;241m-\u001b[39m\u001b[38;5;241m1\u001b[39m]):\n\u001b[0;32m---> 17\u001b[0m     \u001b[43mt\u001b[49m\u001b[38;5;241;43m.\u001b[39;49m\u001b[43miscale_axis\u001b[49m\u001b[43m(\u001b[49m\u001b[43mcurrent_left_schmidt_values\u001b[49m\u001b[43m,\u001b[49m\u001b[43m \u001b[49m\u001b[43maxis\u001b[49m\u001b[38;5;241;43m=\u001b[39;49m\u001b[38;5;124;43m'\u001b[39;49m\u001b[38;5;124;43mvL\u001b[39;49m\u001b[38;5;124;43m'\u001b[39;49m\u001b[43m)\u001b[49m\n\u001b[1;32m     19\u001b[0m     tail_legs \u001b[38;5;241m=\u001b[39m p_leg_labels[(i\u001b[38;5;241m+\u001b[39m\u001b[38;5;241m1\u001b[39m):]\n\u001b[1;32m     21\u001b[0m     t \u001b[38;5;241m=\u001b[39m t\u001b[38;5;241m.\u001b[39mcombine_legs([[\u001b[38;5;124m'\u001b[39m\u001b[38;5;124mvL\u001b[39m\u001b[38;5;124m'\u001b[39m, ll], [\u001b[38;5;124m'\u001b[39m\u001b[38;5;124mvR\u001b[39m\u001b[38;5;124m'\u001b[39m, \u001b[38;5;241m*\u001b[39mtail_legs]])\n",
      "File \u001b[0;32m~/.pyenv/versions/num_spt_venv_p11/lib/python3.11/site-packages/tenpy/linalg/np_conserved.py:1977\u001b[0m, in \u001b[0;36mArray.iscale_axis\u001b[0;34m(self, s, axis)\u001b[0m\n\u001b[1;32m   1975\u001b[0m s \u001b[38;5;241m=\u001b[39m np\u001b[38;5;241m.\u001b[39masarray(s)\n\u001b[1;32m   1976\u001b[0m \u001b[38;5;28;01mif\u001b[39;00m s\u001b[38;5;241m.\u001b[39mshape \u001b[38;5;241m!=\u001b[39m (\u001b[38;5;28mself\u001b[39m\u001b[38;5;241m.\u001b[39mshape[axis], ):\n\u001b[0;32m-> 1977\u001b[0m     \u001b[38;5;28;01mraise\u001b[39;00m \u001b[38;5;167;01mValueError\u001b[39;00m(\u001b[38;5;124m\"\u001b[39m\u001b[38;5;124ms has wrong shape: \u001b[39m\u001b[38;5;124m\"\u001b[39m \u001b[38;5;241m+\u001b[39m \u001b[38;5;28mstr\u001b[39m(s\u001b[38;5;241m.\u001b[39mshape) \u001b[38;5;241m+\u001b[39m \u001b[38;5;124m\"\u001b[39m\u001b[38;5;124m instead of \u001b[39m\u001b[38;5;124m\"\u001b[39m \u001b[38;5;241m+\u001b[39m\n\u001b[1;32m   1978\u001b[0m                      \u001b[38;5;28mstr\u001b[39m(\u001b[38;5;28mself\u001b[39m\u001b[38;5;241m.\u001b[39mshape[axis]))\n\u001b[1;32m   1979\u001b[0m \u001b[38;5;28mself\u001b[39m\u001b[38;5;241m.\u001b[39mdtype \u001b[38;5;241m=\u001b[39m np\u001b[38;5;241m.\u001b[39mpromote_types(\u001b[38;5;28mself\u001b[39m\u001b[38;5;241m.\u001b[39mdtype, s\u001b[38;5;241m.\u001b[39mdtype)\n\u001b[1;32m   1980\u001b[0m leg \u001b[38;5;241m=\u001b[39m \u001b[38;5;28mself\u001b[39m\u001b[38;5;241m.\u001b[39mlegs[axis]\n",
      "\u001b[0;31mValueError\u001b[0m: s has wrong shape: (8,) instead of 7"
     ]
    }
   ],
   "source": [
    "xi_xx_state, _ = multiply_stacked_unitaries_against_mps(xi_unitary, xx_state, xx_schmidt_values)"
   ]
  },
  {
   "cell_type": "code",
   "execution_count": null,
   "id": "6fa913df-326c-425e-8fd2-38f104388b41",
   "metadata": {},
   "outputs": [],
   "source": [
    "xx_xi_state, _ = multiply_stacked_unitaries_against_mps(xx_unitary, xi_state, xi_schmidt_values)"
   ]
  },
  {
   "cell_type": "code",
   "execution_count": null,
   "id": "f4d548be-e64e-49cc-8ec0-4e79fa627efa",
   "metadata": {},
   "outputs": [],
   "source": [
    "mps_inner_product(\n",
    "    xi_xx_state,\n",
    "    xx_xi_state,\n",
    "    trivial_case.right_projected_symmetry_state\n",
    ")"
   ]
  },
  {
   "cell_type": "code",
   "execution_count": 215,
   "id": "63f55be8-4131-4dc9-93fc-f608f12ca50a",
   "metadata": {},
   "outputs": [],
   "source": [
    "ix_xx_state, _ = multiply_stacked_unitaries_against_mps(ix_unitary, xx_state, xx_schmidt_values)"
   ]
  },
  {
   "cell_type": "code",
   "execution_count": 216,
   "id": "20a908cc-fec0-4efa-a23e-4992b2de1611",
   "metadata": {},
   "outputs": [],
   "source": [
    "xx_ix_state, _ = multiply_stacked_unitaries_against_mps(xx_unitary, ix_state, ix_schmidt_values)"
   ]
  },
  {
   "cell_type": "code",
   "execution_count": 217,
   "id": "2b3355d1-2232-4565-80a5-8c643048a474",
   "metadata": {},
   "outputs": [
    {
     "data": {
      "text/plain": [
       "(-1.1754859793283647+0j)"
      ]
     },
     "execution_count": 217,
     "metadata": {},
     "output_type": "execute_result"
    }
   ],
   "source": [
    "mps_inner_product(\n",
    "    ix_xx_state,\n",
    "    xx_ix_state,\n",
    "    trivial_case.right_projected_symmetry_state\n",
    ")"
   ]
  },
  {
   "cell_type": "code",
   "execution_count": null,
   "id": "f273b571-4041-4b15-a8b4-f2c92ff1afc0",
   "metadata": {},
   "outputs": [],
   "source": []
  }
 ],
 "metadata": {
  "kernelspec": {
   "display_name": "num_spt_venv_p11",
   "language": "python",
   "name": "num_spt_venv_p11"
  },
  "language_info": {
   "codemirror_mode": {
    "name": "ipython",
    "version": 3
   },
   "file_extension": ".py",
   "mimetype": "text/x-python",
   "name": "python",
   "nbconvert_exporter": "python",
   "pygments_lexer": "ipython3",
   "version": "3.11.9"
  }
 },
 "nbformat": 4,
 "nbformat_minor": 5
}
