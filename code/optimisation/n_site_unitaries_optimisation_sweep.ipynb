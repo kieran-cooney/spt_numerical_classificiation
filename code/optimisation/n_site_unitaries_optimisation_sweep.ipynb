{
 "cells": [
  {
   "cell_type": "markdown",
   "id": "5f2205a4-2c74-4cf5-9ad1-9d65bd13bed2",
   "metadata": {},
   "source": [
    "# N sites unitaries optimisation sweep\n",
    "\n",
    "Created 01/08/2024\n",
    "\n",
    "Objectives:\n",
    "* Apply N site optimisation to all wavefunctions, perform \"final\" check on results."
   ]
  },
  {
   "cell_type": "markdown",
   "id": "9ad0db4d-805c-4403-9d48-c71d523d572f",
   "metadata": {},
   "source": [
    "# Package imports"
   ]
  },
  {
   "cell_type": "code",
   "execution_count": 1,
   "id": "ecb41ea3-927f-4efa-aebe-ce15784aa037",
   "metadata": {},
   "outputs": [],
   "source": [
    "import sys\n",
    "sys.path.append('../')"
   ]
  },
  {
   "cell_type": "code",
   "execution_count": 2,
   "id": "4a525ec6-f0c8-47ee-8b0b-345bf0ef8bd3",
   "metadata": {},
   "outputs": [],
   "source": [
    "import h5py\n",
    "from tenpy.tools import hdf5_io\n",
    "import tenpy\n",
    "import tenpy.linalg.np_conserved as npc\n",
    "\n",
    "import os"
   ]
  },
  {
   "cell_type": "code",
   "execution_count": 3,
   "id": "b22092ac-9191-4a2d-b568-8680c3687185",
   "metadata": {},
   "outputs": [],
   "source": [
    "from time import perf_counter"
   ]
  },
  {
   "cell_type": "code",
   "execution_count": 4,
   "id": "214f688a-c657-4810-b4d1-b1247deff62c",
   "metadata": {},
   "outputs": [],
   "source": [
    "import numpy as np\n",
    "import matplotlib.pyplot as plt"
   ]
  },
  {
   "cell_type": "code",
   "execution_count": 5,
   "id": "b8dec68d-a5b3-4383-ab44-567a9a5981b3",
   "metadata": {},
   "outputs": [],
   "source": [
    "from SPTOptimization.SymmetryActionWithBoundaryUnitaries import SymmetryActionWithBoundaryUnitaries\n",
    "from SPTOptimization.Optimizers.OneSiteSolver import OneSiteSolver\n",
    "from SPTOptimization.utils import (\n",
    "    to_npc_array,\n",
    "    get_right_identity_environment\n",
    ")"
   ]
  },
  {
   "cell_type": "markdown",
   "id": "9186782d-e666-4934-b498-fa84e0370ec1",
   "metadata": {},
   "source": [
    "# Load data"
   ]
  },
  {
   "cell_type": "code",
   "execution_count": 6,
   "id": "6abe08ff-0e19-4249-81cb-4ffb64b81127",
   "metadata": {},
   "outputs": [],
   "source": [
    "DATA_DIR = r\"../data/transverse_cluster_200_site_dmrg\""
   ]
  },
  {
   "cell_type": "code",
   "execution_count": 7,
   "id": "6198f7ab-e216-4168-93b7-ce2ae6377ed7",
   "metadata": {},
   "outputs": [],
   "source": [
    "loaded_data = list()\n",
    "\n",
    "for local_file_name in os.listdir(DATA_DIR):\n",
    "    f_name = r\"{}/{}\".format(DATA_DIR, local_file_name, ignore_unknown=False)\n",
    "    with h5py.File(f_name, 'r') as f:\n",
    "        data = hdf5_io.load_from_hdf5(f)\n",
    "        loaded_data.append(data)"
   ]
  },
  {
   "cell_type": "code",
   "execution_count": 8,
   "id": "c7c19c2f-042a-418f-a5da-80490d56ba9e",
   "metadata": {},
   "outputs": [],
   "source": [
    "b_parameters = sorted(list(d['paramters']['B'] for d in loaded_data))"
   ]
  },
  {
   "cell_type": "code",
   "execution_count": 9,
   "id": "e11271e6-c097-4f07-b446-a3c36cd48b1c",
   "metadata": {},
   "outputs": [],
   "source": [
    "psi_dict = dict()"
   ]
  },
  {
   "cell_type": "code",
   "execution_count": 10,
   "id": "1e10def4-1844-4f1f-b3bd-12982ad34e95",
   "metadata": {},
   "outputs": [],
   "source": [
    "for b in b_parameters:\n",
    "    psi = next(\n",
    "        d['wavefunction']\n",
    "        for d in loaded_data\n",
    "        if d['paramters']['B'] == b\n",
    "    )\n",
    "\n",
    "    rounded_b = round(b, 1)\n",
    "    psi_dict[rounded_b] = psi"
   ]
  },
  {
   "cell_type": "markdown",
   "id": "b4c1e616-c034-404b-b59e-196d1eaac475",
   "metadata": {},
   "source": [
    "# Definitons"
   ]
  },
  {
   "cell_type": "code",
   "execution_count": 11,
   "id": "1f7f56c1-6ce1-412f-bf61-5ac4293f28df",
   "metadata": {},
   "outputs": [],
   "source": [
    "TOLERANCE = 0.005"
   ]
  },
  {
   "cell_type": "code",
   "execution_count": 12,
   "id": "513d7288-c641-4071-a4a3-652787d1f98c",
   "metadata": {},
   "outputs": [],
   "source": [
    "np_I = np.array([[1,0],[0,1]])\n",
    "np_X = np.array([[0,1],[1,0]])\n",
    "np_Y = np.array([[0,-1j],[1j,0]])\n",
    "np_Z = np.array([[1,0],[0,-1]])"
   ]
  },
  {
   "cell_type": "code",
   "execution_count": 13,
   "id": "2a78a62e-37eb-4baf-98ba-d6a94d599bec",
   "metadata": {},
   "outputs": [],
   "source": [
    "npc_I = to_npc_array(np_I)\n",
    "npc_X = to_npc_array(np_X)\n",
    "npc_Y = to_npc_array(np_Y)\n",
    "npc_Z = to_npc_array(np_Z)"
   ]
  },
  {
   "cell_type": "code",
   "execution_count": 14,
   "id": "afbc108d-8a81-4bdb-b245-ed8a09f28ded",
   "metadata": {},
   "outputs": [],
   "source": [
    "small_symmetry_actions = [\n",
    "    [np_I, np_I],\n",
    "    [np_I, np_X],\n",
    "    [np_X, np_I],\n",
    "    [np_X, np_X]\n",
    "]"
   ]
  },
  {
   "cell_type": "code",
   "execution_count": 15,
   "id": "7c498e41-b8c8-497e-93ff-fdd3f05e52b6",
   "metadata": {},
   "outputs": [],
   "source": [
    "big_symmetry_actions = [l*50 for l in small_symmetry_actions]"
   ]
  },
  {
   "cell_type": "code",
   "execution_count": 16,
   "id": "0d2e8dd5-6ad2-4545-8aa4-7e161a23805a",
   "metadata": {},
   "outputs": [],
   "source": [
    "symmetry_labels = [\n",
    "    'II',\n",
    "    'IX',\n",
    "    'XI',\n",
    "    'XX'\n",
    "]"
   ]
  },
  {
   "cell_type": "code",
   "execution_count": 18,
   "id": "9a4ca2bd-c89d-414b-a95d-9301f4ee8940",
   "metadata": {},
   "outputs": [],
   "source": [
    "symmetry_actions_with_boundary_unitaries = [\n",
    "    [\n",
    "        SymmetryActionWithBoundaryUnitaries(p, s)\n",
    "        for p in psi_dict.values()\n",
    "    ]\n",
    "    for s in big_symmetry_actions\n",
    "]"
   ]
  },
  {
   "cell_type": "code",
   "execution_count": 19,
   "id": "41f20132-b704-452d-bc68-86a4993d9c74",
   "metadata": {},
   "outputs": [],
   "source": [
    "for l in symmetry_actions_with_boundary_unitaries:\n",
    "    for e in l:\n",
    "        e.compute_svd_approximate_expectation()"
   ]
  },
  {
   "cell_type": "markdown",
   "id": "1f28c612-3934-4ee2-a1a7-24dffe780852",
   "metadata": {},
   "source": [
    "# Optimisation code"
   ]
  },
  {
   "cell_type": "code",
   "execution_count": 20,
   "id": "24965fa4-fcfa-41df-915a-6b7a966553af",
   "metadata": {},
   "outputs": [],
   "source": [
    "def optimise_step_right(psi, prev_t, boundary_index, site_index,\n",
    "    prev_top_legs, prev_bottom_legs):\n",
    "\n",
    "    b = psi.get_B(site_index)\n",
    "\n",
    "    new_top_leg = 'p_{}'.format(boundary_index)\n",
    "    new_top_legs = prev_top_legs + [new_top_leg,]\n",
    "\n",
    "    t = npc.tensordot(prev_t, b, [['vR',],  ['vL',]])        \n",
    "    t=t.replace_label('p', new_top_leg)\n",
    "\n",
    "    \n",
    "    new_bottom_leg = 'p*_{}'.format(boundary_index)\n",
    "    new_bottom_legs = prev_bottom_legs + [new_bottom_leg,]\n",
    "\n",
    "    t = npc.tensordot(t, b.conj(), [['vR*',],  ['vL*',]])\n",
    "    t=t.replace_label('p*', new_bottom_leg)\n",
    "\n",
    "    t0 = t.combine_legs(new_top_legs).combine_legs(new_bottom_legs)\n",
    "    t0 = npc.trace(t0, leg1='vR', leg2='vR*')\n",
    "    \n",
    "    U, S, VH = npc.svd(t0.complex_conj(), inner_labels = ['i', 'i*'])\n",
    "\n",
    "    out_exp = np.sum(S)\n",
    "    out_unitary = npc.tensordot(U, VH, [['i',], ['i*',]])\n",
    "\n",
    "    return (\n",
    "        t,\n",
    "        new_top_legs,\n",
    "        new_bottom_legs,\n",
    "        out_exp,\n",
    "        out_unitary\n",
    "    )"
   ]
  },
  {
   "cell_type": "code",
   "execution_count": 21,
   "id": "cb2b382c-ac32-46aa-bc07-0b1b36fd1588",
   "metadata": {},
   "outputs": [],
   "source": [
    "def optimise_step_left(psi, prev_t, boundary_index, site_index,\n",
    "    prev_top_legs, prev_bottom_legs):\n",
    "\n",
    "    a = psi.get_B(site_index, form='A')\n",
    "\n",
    "    new_top_leg = 'p_{}'.format(boundary_index)\n",
    "    new_top_legs = prev_top_legs + [new_top_leg,]\n",
    "\n",
    "    t = npc.tensordot(prev_t, a, [['vL',],  ['vR',]])        \n",
    "    t=t.replace_label('p', new_top_leg)\n",
    "    \n",
    "    new_bottom_leg = 'p*_{}'.format(boundary_index)\n",
    "    new_bottom_legs = prev_bottom_legs + [new_bottom_leg,]\n",
    "\n",
    "    t = npc.tensordot(t, a.conj(), [['vL*',],  ['vR*',]])\n",
    "    t=t.replace_label('p*', new_bottom_leg)\n",
    "\n",
    "    t0 = t.combine_legs(new_top_legs).combine_legs(new_bottom_legs)\n",
    "    t0 = npc.trace(t0, leg1='vL', leg2='vL*')\n",
    "\n",
    "    U, S, VH = npc.svd(t0.complex_conj(), inner_labels = ['i', 'i*'])\n",
    "\n",
    "    out_exp = np.sum(S)\n",
    "    out_unitary = npc.tensordot(U, VH, [['i',], ['i*',]])\n",
    "\n",
    "    return (\n",
    "        t,\n",
    "        new_top_legs,\n",
    "        new_bottom_legs,\n",
    "        out_exp,\n",
    "        out_unitary\n",
    "    )"
   ]
  },
  {
   "cell_type": "code",
   "execution_count": 28,
   "id": "9b3c65f5-4dbb-4033-8ca6-56e14e431f8e",
   "metadata": {},
   "outputs": [],
   "source": [
    "def optimise(symmetry_action, tolerance=TOLERANCE, max_num_sites=8):\n",
    "    psi = symmetry_action.psi\n",
    "    sing_val = symmetry_action.symmetry_transfer_matrix_singular_vals[0]\n",
    "\n",
    "    left_site_index = symmetry_action.left_symmetry_index\n",
    "    right_site_index = symmetry_action.right_symmetry_index\n",
    "    \n",
    "    left_t = symmetry_action.left_projected_symmetry_state\n",
    "    right_t = symmetry_action.right_projected_symmetry_state\n",
    "\n",
    "    num_sites = 0\n",
    "    left_exps = list()\n",
    "    right_exps = list()\n",
    "    left_times = list()\n",
    "    right_times = list()\n",
    "    exps = list()\n",
    "    left_unitary = None\n",
    "    right_unitary = None\n",
    "    right_top_legs = list()\n",
    "    right_bottom_legs = list()\n",
    "    left_top_legs = list()\n",
    "    left_bottom_legs = list()\n",
    "    right_boundary_index = 0\n",
    "    left_boundary_index = 0\n",
    "\n",
    "    while (not exps) or ((exps[-1] < 1-tolerance) and (num_sites <= max_num_sites)):\n",
    "        num_sites += 1\n",
    "\n",
    "        tic = perf_counter()\n",
    "\n",
    "        right_boundary_index += 1\n",
    "        right_site_index += 1\n",
    "        right_out = optimise_step_right(\n",
    "            psi,\n",
    "            right_t,\n",
    "            right_boundary_index,\n",
    "            right_site_index,\n",
    "            right_top_legs,\n",
    "            right_bottom_legs\n",
    "        )\n",
    "\n",
    "        (\n",
    "            right_t,\n",
    "            right_top_legs,\n",
    "            right_bottom_legs,\n",
    "            right_exp,\n",
    "            right_unitary\n",
    "        ) = right_out\n",
    "\n",
    "        right_exps.append(right_exp)\n",
    "        \n",
    "        toc = perf_counter()\n",
    "        right_times.append(toc-tic)\n",
    "\n",
    "        tic = perf_counter()\n",
    "\n",
    "        left_boundary_index += 1\n",
    "        left_site_index -= 1\n",
    "        left_out = optimise_step_left(\n",
    "            psi,\n",
    "            left_t,\n",
    "            left_boundary_index,\n",
    "            left_site_index,\n",
    "            left_top_legs,\n",
    "            left_bottom_legs\n",
    "        )\n",
    "\n",
    "        (\n",
    "            left_t,\n",
    "            left_top_legs,\n",
    "            left_bottom_legs,\n",
    "            left_exp,\n",
    "            left_unitary\n",
    "        ) = left_out\n",
    "\n",
    "        left_exps.append(left_exp)\n",
    "        \n",
    "        toc = perf_counter()\n",
    "        left_times.append(toc-tic)\n",
    "\n",
    "        exps.append(left_exp*sing_val*right_exp)\n",
    "\n",
    "    return (\n",
    "        left_exps,\n",
    "        right_exps,\n",
    "        left_times,\n",
    "        right_times,\n",
    "        exps,\n",
    "        left_unitary,\n",
    "        right_unitary\n",
    "    )"
   ]
  },
  {
   "cell_type": "code",
   "execution_count": 29,
   "id": "a8a40319-2fea-48cd-aa73-a306a3cf474a",
   "metadata": {},
   "outputs": [],
   "source": [
    "out = optimise(symmetry_actions_with_boundary_unitaries[0][0])"
   ]
  },
  {
   "cell_type": "code",
   "execution_count": 30,
   "id": "fc3f646f-ecd3-4213-b890-114a2d49885b",
   "metadata": {},
   "outputs": [
    {
     "data": {
      "text/plain": [
       "([1.4142135623730951],\n",
       " [1.4142135623730954],\n",
       " [0.002834291022736579],\n",
       " [0.013029541994910687],\n",
       " [0.999999999999999],\n",
       " <npc.Array shape=(2, 2) labels=['(p_1)', '(p*_1)']>,\n",
       " <npc.Array shape=(2, 2) labels=['(p_1)', '(p*_1)']>)"
      ]
     },
     "execution_count": 30,
     "metadata": {},
     "output_type": "execute_result"
    }
   ],
   "source": [
    "out"
   ]
  },
  {
   "cell_type": "code",
   "execution_count": 31,
   "id": "24eddd11-2bc5-4208-bdcc-f7a1da314ae1",
   "metadata": {},
   "outputs": [],
   "source": [
    "out = optimise(symmetry_actions_with_boundary_unitaries[2][5])"
   ]
  },
  {
   "cell_type": "code",
   "execution_count": 32,
   "id": "bf42bda1-f000-4ab6-a8c7-43bea3cc3cbf",
   "metadata": {},
   "outputs": [
    {
     "data": {
      "text/plain": [
       "([1.3651471712007188,\n",
       "  1.3651471712007188,\n",
       "  1.407161495410036,\n",
       "  1.4071614954120863,\n",
       "  1.4136300795049344,\n",
       "  1.413630079504935],\n",
       " [8.137336475797976e-08,\n",
       "  1.36514717120072,\n",
       "  1.36514717120072,\n",
       "  1.4071614954255984,\n",
       "  1.4071614955090552,\n",
       "  1.4136300795049312],\n",
       " [0.0034239160013385117,\n",
       "  0.006633249984588474,\n",
       "  0.002678541000932455,\n",
       "  0.002452499989885837,\n",
       "  0.0032986669975798577,\n",
       "  0.16933100001187995],\n",
       " [0.004226749995723367,\n",
       "  0.004625832982128486,\n",
       "  0.005911749991355464,\n",
       "  0.0047756249841768295,\n",
       "  0.008118792000459507,\n",
       "  0.11053854200872593],\n",
       " [5.547195176892189e-08,\n",
       "  0.930616280444522,\n",
       "  0.9592573053434531,\n",
       "  0.9887797980782852,\n",
       "  0.9933251223903362,\n",
       "  0.9978913409870666],\n",
       " <npc.Array shape=(64, 64) labels=['(p_1.p_2.p_3.p_4.p_5.p_6)', '(p*_1.p*_2.p*_3.p*_4.p*_5.p*_6)']>,\n",
       " <npc.Array shape=(64, 64) labels=['(p_1.p_2.p_3.p_4.p_5.p_6)', '(p*_1.p*_2.p*_3.p*_4.p*_5.p*_6)']>)"
      ]
     },
     "execution_count": 32,
     "metadata": {},
     "output_type": "execute_result"
    }
   ],
   "source": [
    "out"
   ]
  },
  {
   "cell_type": "markdown",
   "id": "c4c4f22d-3af3-4d83-96e8-13d4abe419b5",
   "metadata": {},
   "source": [
    "# Sweep"
   ]
  },
  {
   "cell_type": "code",
   "execution_count": 52,
   "id": "c9f6934a-95f2-4df9-b167-31788f822d4e",
   "metadata": {
    "scrolled": true
   },
   "outputs": [
    {
     "name": "stdout",
     "output_type": "stream",
     "text": [
      "Symmetry action: 0\n",
      "Wavefunction: 0\n",
      "Wavefunction: 1\n",
      "Wavefunction: 2\n",
      "Wavefunction: 3\n",
      "Wavefunction: 4\n",
      "Wavefunction: 5\n",
      "Wavefunction: 6\n",
      "Wavefunction: 7\n",
      "Wavefunction: 8\n",
      "Wavefunction: 9\n",
      "Wavefunction: 10\n",
      "Wavefunction: 11\n",
      "Wavefunction: 12\n",
      "Wavefunction: 13\n",
      "Wavefunction: 14\n",
      "Wavefunction: 15\n",
      "Wavefunction: 16\n",
      "Wavefunction: 17\n",
      "Wavefunction: 18\n",
      "Wavefunction: 19\n",
      "Wavefunction: 20\n",
      "Symmetry action: 1\n",
      "Wavefunction: 0\n",
      "Wavefunction: 1\n",
      "Wavefunction: 2\n",
      "Wavefunction: 3\n",
      "Wavefunction: 4\n",
      "Wavefunction: 5\n",
      "Wavefunction: 6\n",
      "Wavefunction: 7\n",
      "Wavefunction: 8\n",
      "Wavefunction: 9\n",
      "Wavefunction: 10\n",
      "Wavefunction: 11\n",
      "Wavefunction: 12\n",
      "Wavefunction: 13\n",
      "Wavefunction: 14\n",
      "Wavefunction: 15\n",
      "Wavefunction: 16\n",
      "Wavefunction: 17\n",
      "Wavefunction: 18\n",
      "Wavefunction: 19\n",
      "Wavefunction: 20\n",
      "Symmetry action: 2\n",
      "Wavefunction: 0\n",
      "Wavefunction: 1\n",
      "Wavefunction: 2\n",
      "Wavefunction: 3\n",
      "Wavefunction: 4\n",
      "Wavefunction: 5\n",
      "Wavefunction: 6\n",
      "Wavefunction: 7\n",
      "Wavefunction: 8\n",
      "Wavefunction: 9\n",
      "Wavefunction: 10\n",
      "Wavefunction: 11\n",
      "Wavefunction: 12\n",
      "Wavefunction: 13\n",
      "Wavefunction: 14\n",
      "Wavefunction: 15\n",
      "Wavefunction: 16\n",
      "Wavefunction: 17\n",
      "Wavefunction: 18\n",
      "Wavefunction: 19\n",
      "Wavefunction: 20\n",
      "Symmetry action: 3\n",
      "Wavefunction: 0\n",
      "Wavefunction: 1\n",
      "Wavefunction: 2\n",
      "Wavefunction: 3\n",
      "Wavefunction: 4\n",
      "Wavefunction: 5\n",
      "Wavefunction: 6\n",
      "Wavefunction: 7\n",
      "Wavefunction: 8\n",
      "Wavefunction: 9\n",
      "Wavefunction: 10\n",
      "Wavefunction: 11\n",
      "Wavefunction: 12\n",
      "Wavefunction: 13\n",
      "Wavefunction: 14\n",
      "Wavefunction: 15\n",
      "Wavefunction: 16\n",
      "Wavefunction: 17\n",
      "Wavefunction: 18\n",
      "Wavefunction: 19\n",
      "Wavefunction: 20\n"
     ]
    }
   ],
   "source": [
    "out_data =list()\n",
    "for i, l in enumerate(symmetry_actions_with_boundary_unitaries):\n",
    "    print(\"Symmetry action: {}\".format(i))\n",
    "    out_data.append(list())\n",
    "    for j, e in enumerate(l):\n",
    "        print(\"Wavefunction: {}\".format(j))\n",
    "        (out_data[-1]).append(optimise(e, max_num_sites=9))"
   ]
  },
  {
   "cell_type": "code",
   "execution_count": 53,
   "id": "d3f0038b-2870-4b14-8e08-95093609263a",
   "metadata": {},
   "outputs": [
    {
     "name": "stderr",
     "output_type": "stream",
     "text": [
      "/var/folders/r3/xn8xq5c17932m2g1b4r3dss80000gn/T/ipykernel_64605/1800624668.py:7: UserWarning: FigureCanvasAgg is non-interactive, and thus cannot be shown\n",
      "  fig.show()\n"
     ]
    },
    {
     "data": {
      "image/png": "[encoded data removed]",
      "text/plain": [
       "<Figure size 600x400 with 1 Axes>"
      ]
     },
     "metadata": {},
     "output_type": "display_data"
    }
   ],
   "source": [
    "fig, ax = plt.subplots(figsize=(6,4))\n",
    "\n",
    "for i, l in enumerate(out_data[2]):\n",
    "    ax.plot(l[4], label=i)\n",
    "\n",
    "ax.legend(loc='lower right')\n",
    "fig.show()"
   ]
  },
  {
   "cell_type": "code",
   "execution_count": 56,
   "id": "402ec284-2a56-4889-9210-7df06bab38a1",
   "metadata": {},
   "outputs": [
    {
     "name": "stderr",
     "output_type": "stream",
     "text": [
      "/var/folders/r3/xn8xq5c17932m2g1b4r3dss80000gn/T/ipykernel_64605/1835966123.py:8: UserWarning: FigureCanvasAgg is non-interactive, and thus cannot be shown\n",
      "  fig.show()\n"
     ]
    },
    {
     "data": {
      "image/png": "[encoded data removed]",
      "text/plain": [
       "<Figure size 600x400 with 1 Axes>"
      ]
     },
     "metadata": {},
     "output_type": "display_data"
    }
   ],
   "source": [
    "fig, ax = plt.subplots(figsize=(6,4))\n",
    "\n",
    "for i, l in enumerate(out_data[2][8:13], start=8):\n",
    "    ax.plot(l[4], label=i)\n",
    "\n",
    "ax.grid()\n",
    "ax.legend(loc='lower right')\n",
    "fig.show()"
   ]
  },
  {
   "cell_type": "code",
   "execution_count": 60,
   "id": "d227dd46-b995-4bd4-aca2-860f6af3e111",
   "metadata": {},
   "outputs": [
    {
     "name": "stderr",
     "output_type": "stream",
     "text": [
      "/var/folders/r3/xn8xq5c17932m2g1b4r3dss80000gn/T/ipykernel_64605/3124484707.py:8: UserWarning: FigureCanvasAgg is non-interactive, and thus cannot be shown\n",
      "  fig.show()\n"
     ]
    },
    {
     "data": {
      "image/png": "[encoded data removed]",
      "text/plain": [
       "<Figure size 600x400 with 1 Axes>"
      ]
     },
     "metadata": {},
     "output_type": "display_data"
    }
   ],
   "source": [
    "fig, ax = plt.subplots(figsize=(6,4))\n",
    "\n",
    "for i, l in enumerate(out_data[2][8:13], start=8):\n",
    "    ax.plot(l[2], label=i)\n",
    "\n",
    "ax.set_yscale('log')\n",
    "ax.legend(loc='lower right')\n",
    "fig.show()"
   ]
  },
  {
   "cell_type": "code",
   "execution_count": 57,
   "id": "50ed5db6-ac80-4f07-861a-157524fa4bf0",
   "metadata": {},
   "outputs": [
    {
     "data": {
      "text/plain": [
       "[0.0022334590030368418,\n",
       " 0.0007867919921409339,\n",
       " 0.0008356250182259828,\n",
       " 0.002523333008866757,\n",
       " 0.0017576249956618994,\n",
       " 0.12455958299688064,\n",
       " 0.5080802500015125,\n",
       " 0.677587958984077,\n",
       " 0.8912625419907272,\n",
       " 4.131249084020965]"
      ]
     },
     "execution_count": 57,
     "metadata": {},
     "output_type": "execute_result"
    }
   ],
   "source": [
    "out_data[2][10][2]"
   ]
  },
  {
   "cell_type": "code",
   "execution_count": 58,
   "id": "5fdcfebb-6d9e-466f-81e7-ea2cabfe8b48",
   "metadata": {},
   "outputs": [
    {
     "data": {
      "text/plain": [
       "[0.509292997869385,\n",
       " 0.6283401066665614,\n",
       " 0.6894675810160006,\n",
       " 0.7304508397665732,\n",
       " 0.768311204907468,\n",
       " 0.7979187093908211,\n",
       " 0.825500724965921,\n",
       " 0.8481788209064653,\n",
       " 0.8691443116447592,\n",
       " 0.8865840111741095]"
      ]
     },
     "execution_count": 58,
     "metadata": {},
     "output_type": "execute_result"
    }
   ],
   "source": [
    "out_data[2][10][4]"
   ]
  },
  {
   "cell_type": "code",
   "execution_count": 59,
   "id": "835aa473-4ba6-4061-82b5-0083f760e6c2",
   "metadata": {},
   "outputs": [
    {
     "data": {
      "text/plain": [
       "[<matplotlib.lines.Line2D at 0x177683e10>]"
      ]
     },
     "execution_count": 59,
     "metadata": {},
     "output_type": "execute_result"
    },
    {
     "data": {
      "image/png": "[encoded data removed]",
      "text/plain": [
       "<Figure size 640x480 with 1 Axes>"
      ]
     },
     "metadata": {},
     "output_type": "display_data"
    }
   ],
   "source": [
    "plt.plot(out_data[2][10][4])"
   ]
  },
  {
   "cell_type": "code",
   "execution_count": 48,
   "id": "b4193b74-7910-48c6-8e7d-24bcc9709217",
   "metadata": {},
   "outputs": [],
   "source": [
    "l = np.array(out_data[2][10][4])"
   ]
  },
  {
   "cell_type": "code",
   "execution_count": 49,
   "id": "58f0cd62-81c8-4a17-9c2b-6772f090214d",
   "metadata": {},
   "outputs": [],
   "source": [
    "d = l[1:] - l[:-1]"
   ]
  },
  {
   "cell_type": "code",
   "execution_count": 50,
   "id": "ca283dbb-4547-4c0b-8745-4d623c0b7713",
   "metadata": {},
   "outputs": [
    {
     "data": {
      "text/plain": [
       "array([0.51347299, 0.67045562, 0.92380075, 0.78201846, 0.93158866,\n",
       "       0.8222059 , 0.92448197])"
      ]
     },
     "execution_count": 50,
     "metadata": {},
     "output_type": "execute_result"
    }
   ],
   "source": [
    "d[1:]/d[:-1]"
   ]
  },
  {
   "cell_type": "code",
   "execution_count": null,
   "id": "24942384-a8de-48e8-bb54-6915dc34368a",
   "metadata": {},
   "outputs": [],
   "source": []
  }
 ],
 "metadata": {
  "kernelspec": {
   "display_name": "num_spt_venv_p11",
   "language": "python",
   "name": "num_spt_venv_p11"
  },
  "language_info": {
   "codemirror_mode": {
    "name": "ipython",
    "version": 3
   },
   "file_extension": ".py",
   "mimetype": "text/x-python",
   "name": "python",
   "nbconvert_exporter": "python",
   "pygments_lexer": "ipython3",
   "version": "3.11.9"
  }
 },
 "nbformat": 4,
 "nbformat_minor": 5
}
