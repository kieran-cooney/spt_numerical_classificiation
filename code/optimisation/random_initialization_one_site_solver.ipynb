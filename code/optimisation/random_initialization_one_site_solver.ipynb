{
 "cells": [
  {
   "cell_type": "markdown",
   "id": "5f2205a4-2c74-4cf5-9ad1-9d65bd13bed2",
   "metadata": {},
   "source": [
    "# Random initialization one site solver\n",
    "\n",
    "Created 26/07/2024\n",
    "\n",
    "Objectives:\n",
    "* Randomly initalize unitaries and solve to see how good a score can we get.\n",
    "* Perform for a number of different sites and wavefunctions.\n",
    "* Compare scores with non-randomized score."
   ]
  },
  {
   "cell_type": "markdown",
   "id": "9ad0db4d-805c-4403-9d48-c71d523d572f",
   "metadata": {},
   "source": [
    "# Package imports"
   ]
  },
  {
   "cell_type": "code",
   "execution_count": 1,
   "id": "ecb41ea3-927f-4efa-aebe-ce15784aa037",
   "metadata": {},
   "outputs": [],
   "source": [
    "import sys\n",
    "sys.path.append('../')"
   ]
  },
  {
   "cell_type": "code",
   "execution_count": 152,
   "id": "d32b55dd-bda2-4c3f-bb60-e6512e37e0c7",
   "metadata": {},
   "outputs": [],
   "source": [
    "from collections import Counter"
   ]
  },
  {
   "cell_type": "code",
   "execution_count": 2,
   "id": "ad1ccf53-65e7-45f7-92f2-37390873ffdd",
   "metadata": {},
   "outputs": [],
   "source": [
    "from time import perf_counter"
   ]
  },
  {
   "cell_type": "code",
   "execution_count": 3,
   "id": "4a525ec6-f0c8-47ee-8b0b-345bf0ef8bd3",
   "metadata": {},
   "outputs": [],
   "source": [
    "import h5py\n",
    "from tenpy.tools import hdf5_io\n",
    "import tenpy\n",
    "import tenpy.linalg.np_conserved as npc\n",
    "\n",
    "import os"
   ]
  },
  {
   "cell_type": "code",
   "execution_count": 85,
   "id": "214f688a-c657-4810-b4d1-b1247deff62c",
   "metadata": {},
   "outputs": [],
   "source": [
    "import numpy as np\n",
    "import pandas as pd\n",
    "import matplotlib.pyplot as plt\n",
    "from matplotlib.ticker import (MultipleLocator, AutoMinorLocator)"
   ]
  },
  {
   "cell_type": "code",
   "execution_count": 5,
   "id": "b8dec68d-a5b3-4383-ab44-567a9a5981b3",
   "metadata": {},
   "outputs": [],
   "source": [
    "from SPTOptimization.SymmetryActionWithBoundaryUnitaries import SymmetryActionWithBoundaryUnitaries\n",
    "from SPTOptimization.Optimizers.OneSiteSolver import OneSiteSolver"
   ]
  },
  {
   "cell_type": "markdown",
   "id": "968b03f4-adb0-48cc-bb4a-414d8856c7c2",
   "metadata": {},
   "source": [
    "# Load data"
   ]
  },
  {
   "cell_type": "code",
   "execution_count": 6,
   "id": "3b61bbe0-5d7f-49c5-96ab-265f8b0d36b6",
   "metadata": {},
   "outputs": [],
   "source": [
    "DATA_DIR = r\"../data/transverse_cluster_200_site_dmrg\""
   ]
  },
  {
   "cell_type": "code",
   "execution_count": 7,
   "id": "2e1f611d-29dd-4c9b-ad1b-f4cc8b59bab7",
   "metadata": {},
   "outputs": [],
   "source": [
    "loaded_data = list()\n",
    "\n",
    "for local_file_name in os.listdir(DATA_DIR):\n",
    "    f_name = r\"{}/{}\".format(DATA_DIR, local_file_name, ignore_unknown=False)\n",
    "    with h5py.File(f_name, 'r') as f:\n",
    "        data = hdf5_io.load_from_hdf5(f)\n",
    "        loaded_data.append(data)"
   ]
  },
  {
   "cell_type": "code",
   "execution_count": 8,
   "id": "0ab87e3c-bd9b-4a88-9b74-ccdae9a91235",
   "metadata": {},
   "outputs": [],
   "source": [
    "b_parameters = sorted(list(d['paramters']['B'] for d in loaded_data))"
   ]
  },
  {
   "cell_type": "code",
   "execution_count": 9,
   "id": "322ad437-4f39-4e52-8e32-10dbe0fbd4ee",
   "metadata": {},
   "outputs": [],
   "source": [
    "psi_dict = dict()"
   ]
  },
  {
   "cell_type": "code",
   "execution_count": 10,
   "id": "097b34eb-49aa-4152-a116-c491420745fb",
   "metadata": {},
   "outputs": [],
   "source": [
    "for b in b_parameters:\n",
    "    psi = next(\n",
    "        d['wavefunction']\n",
    "        for d in loaded_data\n",
    "        if d['paramters']['B'] == b\n",
    "    )\n",
    "\n",
    "    rounded_b = round(b, 1)\n",
    "    psi_dict[rounded_b] = psi"
   ]
  },
  {
   "cell_type": "markdown",
   "id": "d6d360f5-5b8d-4807-9e92-188d06b544b7",
   "metadata": {},
   "source": [
    "# Definitions"
   ]
  },
  {
   "cell_type": "code",
   "execution_count": 11,
   "id": "513d7288-c641-4071-a4a3-652787d1f98c",
   "metadata": {},
   "outputs": [],
   "source": [
    "np_I = np.array([[1,0],[0,1]])\n",
    "np_X = np.array([[0,1],[1,0]])\n",
    "np_Y = np.array([[0,-1j],[1j,0]])\n",
    "np_Z = np.array([[1,0],[0,-1]])"
   ]
  },
  {
   "cell_type": "code",
   "execution_count": 12,
   "id": "20d4f0b8-ae48-488f-8e24-4c2db9829e0e",
   "metadata": {},
   "outputs": [],
   "source": [
    "test_psi = psi_dict[0.5]"
   ]
  },
  {
   "cell_type": "code",
   "execution_count": 13,
   "id": "0628b950-8801-46e7-8068-bba6f79ec970",
   "metadata": {},
   "outputs": [],
   "source": [
    "test = SymmetryActionWithBoundaryUnitaries(\n",
    "    test_psi,\n",
    "    [np_X, np_I]*50,\n",
    "    left_boundary_unitaries=[np_I,]*3,\n",
    "    right_boundary_unitaries=[np_I,]*3\n",
    ")"
   ]
  },
  {
   "cell_type": "code",
   "execution_count": 14,
   "id": "0ecdd96f-16f2-46a2-917f-dacdf43323e0",
   "metadata": {},
   "outputs": [
    {
     "data": {
      "text/plain": [
       "(-7.12531953394994e-19+0j)"
      ]
     },
     "execution_count": 14,
     "metadata": {},
     "output_type": "execute_result"
    }
   ],
   "source": [
    "test.compute_svd_approximate_expectation()"
   ]
  },
  {
   "cell_type": "code",
   "execution_count": 15,
   "id": "afbc108d-8a81-4bdb-b245-ed8a09f28ded",
   "metadata": {},
   "outputs": [],
   "source": [
    "small_symmetry_actions = [\n",
    "    [np_I, np_I],\n",
    "    [np_I, np_X],\n",
    "    [np_X, np_I],\n",
    "    [np_X, np_X]\n",
    "]"
   ]
  },
  {
   "cell_type": "code",
   "execution_count": 16,
   "id": "7c498e41-b8c8-497e-93ff-fdd3f05e52b6",
   "metadata": {},
   "outputs": [],
   "source": [
    "big_symmetry_actions = [l*50 for l in small_symmetry_actions]"
   ]
  },
  {
   "cell_type": "code",
   "execution_count": 64,
   "id": "6b3baa51-a417-492b-989f-6512df630027",
   "metadata": {},
   "outputs": [],
   "source": [
    "symmetry_labels = [\n",
    "    'II',\n",
    "    'IX',\n",
    "    'XI',\n",
    "    'XX'\n",
    "]"
   ]
  },
  {
   "cell_type": "code",
   "execution_count": 17,
   "id": "16924982-da62-48ae-80b8-82e5bd95bb15",
   "metadata": {},
   "outputs": [],
   "source": [
    "symmetry_actions_with_boundary_unitaries = [\n",
    "    [\n",
    "        SymmetryActionWithBoundaryUnitaries(p, s)\n",
    "        for p in psi_dict.values()\n",
    "    ]\n",
    "    for s in big_symmetry_actions\n",
    "]"
   ]
  },
  {
   "cell_type": "code",
   "execution_count": 38,
   "id": "9075d421-6583-4f07-af8c-af91ea37ee6c",
   "metadata": {},
   "outputs": [],
   "source": [
    "for l in symmetry_actions_with_boundary_unitaries:\n",
    "    for e in l:\n",
    "        e.compute_svd_approximate_expectation()"
   ]
  },
  {
   "cell_type": "markdown",
   "id": "23780e79-4164-4272-bef5-915a4893d474",
   "metadata": {},
   "source": [
    "# Initial attempt"
   ]
  },
  {
   "cell_type": "code",
   "execution_count": 18,
   "id": "135b6029-e370-434d-9da4-097efd56e2da",
   "metadata": {},
   "outputs": [],
   "source": [
    "random_seed_right_expectations = list()\n",
    "random_seed_left_expectations = list()"
   ]
  },
  {
   "cell_type": "code",
   "execution_count": 19,
   "id": "aa6203cb-215e-4aaf-a939-257159f85fc8",
   "metadata": {},
   "outputs": [],
   "source": [
    "N = 200"
   ]
  },
  {
   "cell_type": "code",
   "execution_count": 20,
   "id": "73f225e8-f617-48c4-99c8-82d6584e5409",
   "metadata": {},
   "outputs": [],
   "source": [
    "tic = perf_counter()\n",
    "for _ in range(N):\n",
    "    rand_opt = OneSiteSolver(test, 5, 5, True)\n",
    "    rand_opt.optimize()\n",
    "    \n",
    "    random_seed_right_expectations.append(rand_opt.right_abs_expectations[-1][-1])\n",
    "    random_seed_left_expectations.append(rand_opt.left_abs_expectations[-1][-1])\n",
    "\n",
    "toc = perf_counter()\n",
    "time_elapsed = toc - tic"
   ]
  },
  {
   "cell_type": "code",
   "execution_count": 21,
   "id": "7c98d87c-c048-4098-80bc-685f7fb5d4db",
   "metadata": {},
   "outputs": [
    {
     "data": {
      "text/plain": [
       "11.40142554200429"
      ]
     },
     "execution_count": 21,
     "metadata": {},
     "output_type": "execute_result"
    }
   ],
   "source": [
    "time_elapsed"
   ]
  },
  {
   "cell_type": "code",
   "execution_count": 22,
   "id": "a271c776-cf99-4adf-bae2-846ae34e70bf",
   "metadata": {},
   "outputs": [],
   "source": [
    "avg_time = time_elapsed/N"
   ]
  },
  {
   "cell_type": "code",
   "execution_count": 23,
   "id": "2a785aed-cbc9-4c93-b660-6b6753da5c3a",
   "metadata": {},
   "outputs": [
    {
     "data": {
      "text/plain": [
       "0.05700712771002145"
      ]
     },
     "execution_count": 23,
     "metadata": {},
     "output_type": "execute_result"
    }
   ],
   "source": [
    "avg_time"
   ]
  },
  {
   "cell_type": "code",
   "execution_count": 24,
   "id": "f7a1b7c8-ee14-45c8-a56b-421b6cd6924f",
   "metadata": {},
   "outputs": [],
   "source": [
    "pd_random_seed_right_expectations = pd.Series(random_seed_right_expectations)\n",
    "pd_random_seed_left_expectations = pd.Series(random_seed_left_expectations)"
   ]
  },
  {
   "cell_type": "code",
   "execution_count": 25,
   "id": "e1ed1685-0882-4257-b5fb-080d93b5d910",
   "metadata": {},
   "outputs": [
    {
     "data": {
      "text/plain": [
       "count    200.000000\n",
       "mean       1.304038\n",
       "std        0.043027\n",
       "min        1.270962\n",
       "25%        1.275343\n",
       "50%        1.275345\n",
       "75%        1.365146\n",
       "max        1.365147\n",
       "dtype: float64"
      ]
     },
     "execution_count": 25,
     "metadata": {},
     "output_type": "execute_result"
    }
   ],
   "source": [
    "pd_random_seed_right_expectations.describe()"
   ]
  },
  {
   "cell_type": "code",
   "execution_count": 26,
   "id": "6d4b3031-18cd-47e6-aa06-01b15e728fc8",
   "metadata": {},
   "outputs": [
    {
     "data": {
      "text/plain": [
       "count    200.000000\n",
       "mean       1.309702\n",
       "std        0.055488\n",
       "min        1.195636\n",
       "25%        1.275345\n",
       "50%        1.279825\n",
       "75%        1.365146\n",
       "max        1.365147\n",
       "dtype: float64"
      ]
     },
     "execution_count": 26,
     "metadata": {},
     "output_type": "execute_result"
    }
   ],
   "source": [
    "pd_random_seed_left_expectations.describe()"
   ]
  },
  {
   "cell_type": "code",
   "execution_count": 27,
   "id": "95a35425-fc2a-4ba6-9433-1537f94df750",
   "metadata": {},
   "outputs": [],
   "source": [
    "random_seed_right_expectations = list()\n",
    "random_seed_left_expectations = list()"
   ]
  },
  {
   "cell_type": "code",
   "execution_count": 28,
   "id": "d941dda8-a645-4585-9401-6873fd5c0208",
   "metadata": {},
   "outputs": [],
   "source": [
    "N = 200"
   ]
  },
  {
   "cell_type": "code",
   "execution_count": 29,
   "id": "aae65cef-ac24-4e85-bc09-a025be9b5c95",
   "metadata": {},
   "outputs": [],
   "source": [
    "tic = perf_counter()\n",
    "for _ in range(N):\n",
    "    rand_opt = OneSiteSolver(test, 10, 10, True)\n",
    "    rand_opt.optimize()\n",
    "    \n",
    "    random_seed_right_expectations.append(rand_opt.right_abs_expectations[-1][-1])\n",
    "    random_seed_left_expectations.append(rand_opt.left_abs_expectations[-1][-1])\n",
    "\n",
    "toc = perf_counter()\n",
    "time_elapsed = toc - tic"
   ]
  },
  {
   "cell_type": "code",
   "execution_count": 30,
   "id": "9fa7d039-32f3-47df-8a07-0e7f39a8c019",
   "metadata": {},
   "outputs": [
    {
     "data": {
      "text/plain": [
       "25.99505999998655"
      ]
     },
     "execution_count": 30,
     "metadata": {},
     "output_type": "execute_result"
    }
   ],
   "source": [
    "time_elapsed"
   ]
  },
  {
   "cell_type": "code",
   "execution_count": 31,
   "id": "e9328f21-d002-4c63-b629-163a1d7787d2",
   "metadata": {},
   "outputs": [],
   "source": [
    "avg_time = time_elapsed/N"
   ]
  },
  {
   "cell_type": "code",
   "execution_count": 32,
   "id": "64e800f1-5a11-4171-b54a-203ee5f08471",
   "metadata": {},
   "outputs": [
    {
     "data": {
      "text/plain": [
       "0.12997529999993276"
      ]
     },
     "execution_count": 32,
     "metadata": {},
     "output_type": "execute_result"
    }
   ],
   "source": [
    "avg_time"
   ]
  },
  {
   "cell_type": "code",
   "execution_count": 33,
   "id": "a3a96277-38c8-4e3e-8210-fe47c8071dad",
   "metadata": {},
   "outputs": [],
   "source": [
    "pd_random_seed_right_expectations = pd.Series(random_seed_right_expectations)\n",
    "pd_random_seed_left_expectations = pd.Series(random_seed_left_expectations)"
   ]
  },
  {
   "cell_type": "code",
   "execution_count": 34,
   "id": "38d1d765-0bc3-4063-879d-367e4c3c7046",
   "metadata": {},
   "outputs": [
    {
     "data": {
      "text/plain": [
       "count    200.000000\n",
       "mean       1.206611\n",
       "std        0.066800\n",
       "min        1.046904\n",
       "25%        1.187352\n",
       "50%        1.191886\n",
       "75%        1.270487\n",
       "max        1.365147\n",
       "dtype: float64"
      ]
     },
     "execution_count": 34,
     "metadata": {},
     "output_type": "execute_result"
    }
   ],
   "source": [
    "pd_random_seed_right_expectations.describe()"
   ]
  },
  {
   "cell_type": "code",
   "execution_count": 35,
   "id": "3e302434-747f-4b96-8486-f4ec31a79b5c",
   "metadata": {},
   "outputs": [
    {
     "data": {
      "text/plain": [
       "count    200.000000\n",
       "mean       1.217053\n",
       "std        0.065149\n",
       "min        1.050215\n",
       "25%        1.187703\n",
       "50%        1.195630\n",
       "75%        1.270964\n",
       "max        1.365147\n",
       "dtype: float64"
      ]
     },
     "execution_count": 35,
     "metadata": {},
     "output_type": "execute_result"
    }
   ],
   "source": [
    "pd_random_seed_left_expectations.describe()"
   ]
  },
  {
   "cell_type": "markdown",
   "id": "8fc1d185-32bd-43b4-bef7-0f5a9d81d235",
   "metadata": {},
   "source": [
    "# Baseline scores"
   ]
  },
  {
   "cell_type": "code",
   "execution_count": 71,
   "id": "743e6560-0d64-4988-8642-17c65b8a5afa",
   "metadata": {},
   "outputs": [],
   "source": [
    "n_baseline = 20"
   ]
  },
  {
   "cell_type": "code",
   "execution_count": 72,
   "id": "b883f097-b8f5-433e-9be0-525643ccdd33",
   "metadata": {},
   "outputs": [],
   "source": [
    "left_baseline_scores = np.zeros(n_baseline)\n",
    "right_baseline_scores = np.zeros(n_baseline)"
   ]
  },
  {
   "cell_type": "code",
   "execution_count": 73,
   "id": "aeaf84f3-f173-46c8-bf0d-5efb166f7709",
   "metadata": {},
   "outputs": [],
   "source": [
    "base_opts = [\n",
    "    [OneSiteSolver(e, 0, 0, auto_pad=False) for e in l]\n",
    "    for l in symmetry_actions_with_boundary_unitaries\n",
    "]   "
   ]
  },
  {
   "cell_type": "code",
   "execution_count": 74,
   "id": "cb5ca798-5615-4aa6-8268-f61ea70fc0ac",
   "metadata": {},
   "outputs": [
    {
     "data": {
      "text/plain": [
       "4"
      ]
     },
     "execution_count": 74,
     "metadata": {},
     "output_type": "execute_result"
    }
   ],
   "source": [
    "len(symmetry_actions_with_boundary_unitaries)"
   ]
  },
  {
   "cell_type": "code",
   "execution_count": 75,
   "id": "b0b82382-a8d7-41e0-8a76-cb84b7a97223",
   "metadata": {},
   "outputs": [
    {
     "data": {
      "text/plain": [
       "21"
      ]
     },
     "execution_count": 75,
     "metadata": {},
     "output_type": "execute_result"
    }
   ],
   "source": [
    "len(psi_dict)"
   ]
  },
  {
   "cell_type": "code",
   "execution_count": 76,
   "id": "11e21f4f-b1b0-4b11-9e10-c07df15bebb1",
   "metadata": {},
   "outputs": [],
   "source": [
    "right_baseline_scores = np.zeros((4, 21, n_baseline))\n",
    "left_baseline_scores = np.zeros((4, 21, n_baseline))\n",
    "overall_expectations = np.zeros((4, 21, n_baseline))"
   ]
  },
  {
   "cell_type": "code",
   "execution_count": 77,
   "id": "6400b36c-5414-4009-9a27-96bf3ff051a2",
   "metadata": {},
   "outputs": [],
   "source": [
    "for i, l in enumerate(base_opts):\n",
    "    for j, e in enumerate(l):\n",
    "        for k in range(n_baseline):\n",
    "            e.pad_right()\n",
    "            e.pad_left()\n",
    "            e.optimize()\n",
    "            right_baseline_scores[i,j,k] = e.right_abs_expectations[-1][-1]\n",
    "            left_baseline_scores[i,j,k] = e.left_abs_expectations[-1][-1]\n",
    "            overall_expectations[i,j,k] = e.get_abs_expectation()"
   ]
  },
  {
   "cell_type": "markdown",
   "id": "9e078414-c6cf-4d40-97ba-faa499c6f72c",
   "metadata": {},
   "source": [
    "## Final scores"
   ]
  },
  {
   "cell_type": "code",
   "execution_count": 93,
   "id": "08173040-86f4-42c7-8042-9b7feac5b35a",
   "metadata": {},
   "outputs": [
    {
     "name": "stderr",
     "output_type": "stream",
     "text": [
      "/var/folders/r3/xn8xq5c17932m2g1b4r3dss80000gn/T/ipykernel_34233/3050914577.py:23: UserWarning: FigureCanvasAgg is non-interactive, and thus cannot be shown\n",
      "  fig.show()\n"
     ]
    },
    {
     "data": {
      "image/png": "[encoded data removed]",
      "text/plain": [
       "<Figure size 600x400 with 1 Axes>"
      ]
     },
     "metadata": {},
     "output_type": "display_data"
    }
   ],
   "source": [
    "fig, ax = plt.subplots(figsize=(6,4))\n",
    "\n",
    "for i in range(4):\n",
    "    ax.plot(\n",
    "        psi_dict.keys(),\n",
    "        right_baseline_scores[i,:,-1],\n",
    "        'o',\n",
    "        label = symmetry_labels[i]\n",
    "    )\n",
    "\n",
    "ax.xaxis.set_major_locator(MultipleLocator(0.2))\n",
    "ax.xaxis.set_minor_locator(MultipleLocator(0.1))\n",
    "\n",
    "ax.legend()\n",
    "ax.grid()\n",
    "ax.set_xlabel(\"B\", fontweight='bold')\n",
    "ax.set_ylabel(\"Right expectation value\", fontweight='bold')\n",
    "ax.set_title(\n",
    "    \"Right expectation values\\nfor one site optimisation on 20 sites\",\n",
    "    fontweight='bold'\n",
    ")\n",
    "\n",
    "fig.show()"
   ]
  },
  {
   "cell_type": "code",
   "execution_count": 94,
   "id": "58baa4b5-21a2-4223-a36a-94d08b872ef3",
   "metadata": {},
   "outputs": [
    {
     "name": "stderr",
     "output_type": "stream",
     "text": [
      "/var/folders/r3/xn8xq5c17932m2g1b4r3dss80000gn/T/ipykernel_34233/1868750114.py:23: UserWarning: FigureCanvasAgg is non-interactive, and thus cannot be shown\n",
      "  fig.show()\n"
     ]
    },
    {
     "data": {
      "image/png": "[encoded data removed]",
      "text/plain": [
       "<Figure size 600x400 with 1 Axes>"
      ]
     },
     "metadata": {},
     "output_type": "display_data"
    }
   ],
   "source": [
    "fig, ax = plt.subplots(figsize=(6,4))\n",
    "\n",
    "for i in range(4):\n",
    "    ax.plot(\n",
    "        psi_dict.keys(),\n",
    "        left_baseline_scores[i,:,-1],\n",
    "        'o',\n",
    "        label = symmetry_labels[i]\n",
    "    )\n",
    "\n",
    "ax.xaxis.set_major_locator(MultipleLocator(0.2))\n",
    "ax.xaxis.set_minor_locator(MultipleLocator(0.1))\n",
    "\n",
    "ax.legend()\n",
    "ax.grid()\n",
    "ax.set_xlabel(\"B\", fontweight='bold')\n",
    "ax.set_ylabel(\"Left expectation value\", fontweight='bold')\n",
    "ax.set_title(\n",
    "    \"Left expectation values\\nfor one site optimisation on 20 sites\",\n",
    "    fontweight='bold'\n",
    ")\n",
    "\n",
    "fig.show()"
   ]
  },
  {
   "cell_type": "code",
   "execution_count": 243,
   "id": "ac6da15a-6ce5-443b-9d77-9a4cfd8e1985",
   "metadata": {},
   "outputs": [
    {
     "name": "stderr",
     "output_type": "stream",
     "text": [
      "/var/folders/r3/xn8xq5c17932m2g1b4r3dss80000gn/T/ipykernel_34233/1491506737.py:23: UserWarning: FigureCanvasAgg is non-interactive, and thus cannot be shown\n",
      "  fig.show()\n"
     ]
    },
    {
     "data": {
      "image/png": "[encoded data removed]",
      "text/plain": [
       "<Figure size 600x400 with 1 Axes>"
      ]
     },
     "metadata": {},
     "output_type": "display_data"
    }
   ],
   "source": [
    "fig, ax = plt.subplots(figsize=(6,4))\n",
    "\n",
    "for i in range(4):\n",
    "    ax.plot(\n",
    "        psi_dict.keys(),\n",
    "        overall_expectations[i,:,-1],\n",
    "        'o',\n",
    "        label = symmetry_labels[i]\n",
    "    )\n",
    "\n",
    "ax.xaxis.set_major_locator(MultipleLocator(0.2))\n",
    "ax.xaxis.set_minor_locator(MultipleLocator(0.1))\n",
    "\n",
    "ax.legend()\n",
    "ax.grid()\n",
    "ax.set_xlabel(\"B\", fontweight='bold')\n",
    "ax.set_ylabel(\"Overall expectation value\", fontweight='bold')\n",
    "ax.set_title(\n",
    "    \"Overall expectation values\\nfor one site optimisation on 20 sites\",\n",
    "    fontweight='bold'\n",
    ")\n",
    "\n",
    "fig.show()"
   ]
  },
  {
   "cell_type": "markdown",
   "id": "4803fc4d-cbde-43cd-9d5c-1f14f6320c32",
   "metadata": {},
   "source": [
    "## Score as a function of number of boundary unitaries"
   ]
  },
  {
   "cell_type": "markdown",
   "id": "4ee3acf5-94a2-424c-95c7-753eeb457003",
   "metadata": {},
   "source": [
    "For $II$, all 1s (as expected.)"
   ]
  },
  {
   "cell_type": "code",
   "execution_count": 128,
   "id": "cb42f9c9-3b41-4e22-b9ae-9b45c39796c2",
   "metadata": {},
   "outputs": [
    {
     "data": {
      "text/plain": [
       "(0.9999999974506318, 1.0000000000000218)"
      ]
     },
     "execution_count": 128,
     "metadata": {},
     "output_type": "execute_result"
    }
   ],
   "source": [
    "(np.min(overall_expectations[0,:,:]), np.max(overall_expectations[0,:,:]))"
   ]
  },
  {
   "cell_type": "code",
   "execution_count": 133,
   "id": "7ca87659-5c4a-4733-823b-f74460c80d80",
   "metadata": {},
   "outputs": [
    {
     "name": "stderr",
     "output_type": "stream",
     "text": [
      "/var/folders/r3/xn8xq5c17932m2g1b4r3dss80000gn/T/ipykernel_34233/153390683.py:19: UserWarning: FigureCanvasAgg is non-interactive, and thus cannot be shown\n",
      "  fig.show()\n"
     ]
    },
    {
     "data": {
      "image/png": "[encoded data removed]",
      "text/plain": [
       "<Figure size 600x400 with 1 Axes>"
      ]
     },
     "metadata": {},
     "output_type": "display_data"
    }
   ],
   "source": [
    "fig, ax = plt.subplots(figsize=(6,4))\n",
    "\n",
    "for i, v in enumerate(list(psi_dict.keys())[::2]):\n",
    "    ax.plot(\n",
    "        list(range(1, 6)),\n",
    "        overall_expectations[1,i,:5],\n",
    "        label = v\n",
    "    )\n",
    "\n",
    "ax.legend(loc='right', title='B')\n",
    "ax.set_xticks(list(range(1, 6)))\n",
    "ax.set_xlabel(\"Number of sites\", fontweight='bold')\n",
    "ax.set_ylabel(\"Overall expectation value\", fontweight='bold')\n",
    "ax.set_title(\n",
    "    \"Overall expectation values for $IX$ symmetry\",\n",
    "    fontweight='bold'\n",
    ")\n",
    "\n",
    "fig.show()"
   ]
  },
  {
   "cell_type": "code",
   "execution_count": 134,
   "id": "e49fc8dc-c4bd-4493-b20a-ecb916793c44",
   "metadata": {},
   "outputs": [
    {
     "name": "stderr",
     "output_type": "stream",
     "text": [
      "/var/folders/r3/xn8xq5c17932m2g1b4r3dss80000gn/T/ipykernel_34233/1594301013.py:19: UserWarning: FigureCanvasAgg is non-interactive, and thus cannot be shown\n",
      "  fig.show()\n"
     ]
    },
    {
     "data": {
      "image/png": "[encoded data removed]",
      "text/plain": [
       "<Figure size 600x400 with 1 Axes>"
      ]
     },
     "metadata": {},
     "output_type": "display_data"
    }
   ],
   "source": [
    "fig, ax = plt.subplots(figsize=(6,4))\n",
    "\n",
    "for i, v in enumerate(list(psi_dict.keys())[::2]):\n",
    "    ax.plot(\n",
    "        list(range(1, 6)),\n",
    "        overall_expectations[2,i,:5],\n",
    "        label = v\n",
    "    )\n",
    "\n",
    "ax.legend(loc='right', title='B')\n",
    "ax.set_xticks(list(range(1, 6)))\n",
    "ax.set_xlabel(\"Number of sites\", fontweight='bold')\n",
    "ax.set_ylabel(\"Overall expectation value\", fontweight='bold')\n",
    "ax.set_title(\n",
    "    \"Overall expectation values for $XI$ symmetry\",\n",
    "    fontweight='bold'\n",
    ")\n",
    "\n",
    "fig.show()"
   ]
  },
  {
   "cell_type": "code",
   "execution_count": 135,
   "id": "7bcc0cec-75e9-4cd3-a7f5-a5377262f343",
   "metadata": {},
   "outputs": [
    {
     "name": "stderr",
     "output_type": "stream",
     "text": [
      "/var/folders/r3/xn8xq5c17932m2g1b4r3dss80000gn/T/ipykernel_34233/3189876450.py:19: UserWarning: FigureCanvasAgg is non-interactive, and thus cannot be shown\n",
      "  fig.show()\n"
     ]
    },
    {
     "data": {
      "image/png": "[encoded data removed]",
      "text/plain": [
       "<Figure size 600x400 with 1 Axes>"
      ]
     },
     "metadata": {},
     "output_type": "display_data"
    }
   ],
   "source": [
    "fig, ax = plt.subplots(figsize=(6,4))\n",
    "\n",
    "for i, v in enumerate(list(psi_dict.keys())[::2]):\n",
    "    ax.plot(\n",
    "        list(range(1, 6)),\n",
    "        overall_expectations[3,i,:5],\n",
    "        label = v\n",
    "    )\n",
    "\n",
    "ax.legend(loc='right', title='B')\n",
    "ax.set_xticks(list(range(1, 6)))\n",
    "ax.set_xlabel(\"Number of sites\", fontweight='bold')\n",
    "ax.set_ylabel(\"Overall expectation value\", fontweight='bold')\n",
    "ax.set_title(\n",
    "    \"Overall expectation values for $XX$ symmetry\",\n",
    "    fontweight='bold'\n",
    ")\n",
    "\n",
    "fig.show()"
   ]
  },
  {
   "cell_type": "code",
   "execution_count": 146,
   "id": "0845fb77-2836-4ef1-bcae-2f2518034ba3",
   "metadata": {},
   "outputs": [
    {
     "data": {
      "text/plain": [
       "0.001155563619771871"
      ]
     },
     "execution_count": 146,
     "metadata": {},
     "output_type": "execute_result"
    }
   ],
   "source": [
    "np.max(overall_expectations[...,-1] - overall_expectations[...,1])"
   ]
  },
  {
   "cell_type": "markdown",
   "id": "a1930d4c-4c73-4f2a-bd71-2c6f2da992f5",
   "metadata": {},
   "source": [
    "So in general, the maximum value is attained on just two sites to a good approximation."
   ]
  },
  {
   "cell_type": "markdown",
   "id": "960d63a7-2593-4a08-9b81-2b28d3b763be",
   "metadata": {},
   "source": [
    "# Randomised scores"
   ]
  },
  {
   "cell_type": "markdown",
   "id": "0b8925d0-e65a-4a8f-9660-0828d1c9dc40",
   "metadata": {},
   "source": [
    "* How long? Get within 0.01 of optimal, then go for as many takes again.\n",
    "* Do up until 5 unitaries for each symmetry and case.\n",
    "* "
   ]
  },
  {
   "cell_type": "code",
   "execution_count": 147,
   "id": "629f22f1-123e-4df3-9162-ec0a29d108ef",
   "metadata": {},
   "outputs": [],
   "source": [
    "base_line_targets = np.max(overall_expectations, axis=-1)"
   ]
  },
  {
   "cell_type": "code",
   "execution_count": 148,
   "id": "57c2fef6-7924-47cd-9b9f-11b368fe921b",
   "metadata": {},
   "outputs": [
    {
     "data": {
      "text/plain": [
       "(4, 21)"
      ]
     },
     "execution_count": 148,
     "metadata": {},
     "output_type": "execute_result"
    }
   ],
   "source": [
    "base_line_targets.shape"
   ]
  },
  {
   "cell_type": "code",
   "execution_count": 149,
   "id": "2893f551-a615-4f78-858c-740bf52b0bbb",
   "metadata": {},
   "outputs": [],
   "source": [
    "tolerance = 0.01"
   ]
  },
  {
   "cell_type": "code",
   "execution_count": 153,
   "id": "8e282eae-aba6-4b88-b213-99fcc6010fd2",
   "metadata": {},
   "outputs": [],
   "source": [
    "c = Counter()"
   ]
  },
  {
   "cell_type": "code",
   "execution_count": 154,
   "id": "4b5c3422-27f7-4660-8b34-ef65d944cce6",
   "metadata": {},
   "outputs": [],
   "source": [
    "c.update('hello')"
   ]
  },
  {
   "cell_type": "code",
   "execution_count": 209,
   "id": "485c7d55-b33a-4066-9a92-9d295631693c",
   "metadata": {},
   "outputs": [],
   "source": [
    "def random_opimization(psi, n, symmetry_action, goal):\n",
    "    scores = list()\n",
    "    N = 0\n",
    "    tolerance_met = False\n",
    "\n",
    "    best_left_score = 0\n",
    "    best_right_score = 0\n",
    "    best_expectation = 0\n",
    "\n",
    "    tic = perf_counter()\n",
    "\n",
    "    def iteration():\n",
    "        opt = OneSiteSolver(symmetry_action, n, n, True)\n",
    "        opt.optimize()\n",
    "\n",
    "        nonlocal best_right_score, best_left_score, best_expectation, scores\n",
    "\n",
    "        best_right_score = max(best_right_score, opt.right_abs_expectations[-1][-1])\n",
    "        best_left_score = max(best_left_score, opt.left_abs_expectations[-1][-1])\n",
    "        best_expectation = max(\n",
    "            best_expectation,\n",
    "            (\n",
    "                best_right_score\n",
    "                *best_left_score\n",
    "                *symmetry_action.symmetry_transfer_matrix_singular_vals[0]\n",
    "            )\n",
    "        )\n",
    "        scores.append(best_expectation)\n",
    "\n",
    "    while (not tolerance_met) and (N < 500):\n",
    "        iteration()\n",
    "        N+=1\n",
    "\n",
    "        if best_expectation > goal - tolerance:\n",
    "            tolerance_met = True\n",
    "\n",
    "    for _ in range(N):\n",
    "        iteration()\n",
    "\n",
    "    toc = perf_counter()\n",
    "\n",
    "    return (\n",
    "        pd.Series(np.array(scores)).describe(),\n",
    "        best_left_score,\n",
    "        best_right_score,\n",
    "        toc-tic\n",
    "    )"
   ]
  },
  {
   "cell_type": "code",
   "execution_count": 210,
   "id": "aa8da8bc-d4f4-45a2-88ea-cf0fe7c0cbd7",
   "metadata": {},
   "outputs": [],
   "source": [
    "quad = random_opimization(\n",
    "    psi_dict[0],\n",
    "    2,\n",
    "    symmetry_actions_with_boundary_unitaries[0][0],\n",
    "    base_line_targets[0,0]\n",
    ")"
   ]
  },
  {
   "cell_type": "code",
   "execution_count": 211,
   "id": "4ecf673b-ce45-4217-bb6a-423c22d1cead",
   "metadata": {},
   "outputs": [
    {
     "data": {
      "text/plain": [
       "(count    2.0\n",
       " mean     1.0\n",
       " std      0.0\n",
       " min      1.0\n",
       " 25%      1.0\n",
       " 50%      1.0\n",
       " 75%      1.0\n",
       " max      1.0\n",
       " dtype: float64,\n",
       " 1.4142135623730954,\n",
       " 1.4142135623730967,\n",
       " 0.07349879198591225)"
      ]
     },
     "execution_count": 211,
     "metadata": {},
     "output_type": "execute_result"
    }
   ],
   "source": [
    "quad"
   ]
  },
  {
   "cell_type": "code",
   "execution_count": 212,
   "id": "60031ce5-e05c-4f04-9755-485d57fc8463",
   "metadata": {},
   "outputs": [
    {
     "data": {
      "text/plain": [
       "1.0000000000000004"
      ]
     },
     "execution_count": 212,
     "metadata": {},
     "output_type": "execute_result"
    }
   ],
   "source": [
    "base_line_targets[0,0]"
   ]
  },
  {
   "cell_type": "code",
   "execution_count": 213,
   "id": "fabeddc5-ab0e-4372-8f56-82695a84e8b7",
   "metadata": {},
   "outputs": [],
   "source": [
    "num_sites_range = [2,4,6,8]"
   ]
  },
  {
   "cell_type": "code",
   "execution_count": 214,
   "id": "daf50860-e869-4dd5-b6b7-98e9a746fdd7",
   "metadata": {
    "scrolled": true
   },
   "outputs": [
    {
     "name": "stdout",
     "output_type": "stream",
     "text": [
      "Symmetry action: 0\n",
      "B: 0.0\n",
      "Number of sites: 2\n",
      "Time taken: 0.03509495800244622 s\n",
      "\n",
      "Number of sites: 4\n",
      "Time taken: 0.035147457994753495 s\n",
      "\n",
      "Number of sites: 6\n",
      "Time taken: 0.06234162501641549 s\n",
      "\n",
      "Number of sites: 8\n",
      "Time taken: 0.08086108302813955 s\n",
      "\n",
      "B: 0.2\n",
      "Number of sites: 2\n",
      "Time taken: 0.0705167920095846 s\n",
      "\n",
      "Number of sites: 4\n",
      "Time taken: 0.6222007500182372 s\n",
      "\n",
      "Number of sites: 6\n",
      "Time taken: 1.019590582989622 s\n",
      "\n",
      "Number of sites: 8\n",
      "Time taken: 7.568872000003466 s\n",
      "\n",
      "B: 0.4\n",
      "Number of sites: 2\n",
      "Time taken: 0.028975166991585866 s\n",
      "\n",
      "Number of sites: 4\n",
      "Time taken: 0.5766944579954725 s\n",
      "\n",
      "Number of sites: 6\n",
      "Time taken: 2.878235375013901 s\n",
      "\n",
      "Number of sites: 8\n",
      "Time taken: 2.154187042004196 s\n",
      "\n",
      "B: 0.6\n",
      "Number of sites: 2\n",
      "Time taken: 0.026386957993963733 s\n",
      "\n",
      "Number of sites: 4\n",
      "Time taken: 1.5275963330059312 s\n",
      "\n",
      "Number of sites: 6\n",
      "Time taken: 2.5722906249866355 s\n",
      "\n",
      "Number of sites: 8\n",
      "Time taken: 5.11199766700156 s\n",
      "\n",
      "B: 0.8\n",
      "Number of sites: 2\n",
      "Time taken: 0.021544332994380966 s\n",
      "\n",
      "Number of sites: 4\n",
      "Time taken: 0.6549832500168122 s\n",
      "\n",
      "Number of sites: 6\n",
      "Time taken: 1.9149797499994747 s\n",
      "\n",
      "Number of sites: 8\n",
      "Time taken: 6.168902459001401 s\n",
      "\n",
      "B: 1.0\n",
      "Number of sites: 2\n",
      "Time taken: 0.024160875007510185 s\n",
      "\n",
      "Number of sites: 4\n",
      "Time taken: 0.11340545801795088 s\n",
      "\n",
      "Number of sites: 6\n",
      "Time taken: 0.20587695797439665 s\n",
      "\n",
      "Number of sites: 8\n",
      "Time taken: 0.27443166699958965 s\n",
      "\n",
      "B: 1.2\n",
      "Number of sites: 2\n",
      "Time taken: 0.02697479201015085 s\n",
      "\n",
      "Number of sites: 4\n",
      "Time taken: 0.08147762500448152 s\n",
      "\n",
      "Number of sites: 6\n",
      "Time taken: 0.17483408300904557 s\n",
      "\n",
      "Number of sites: 8\n",
      "Time taken: 0.2599680839921348 s\n",
      "\n",
      "B: 1.4\n",
      "Number of sites: 2\n",
      "Time taken: 0.025338749983347952 s\n",
      "\n",
      "Number of sites: 4\n",
      "Time taken: 0.10159191698767245 s\n",
      "\n",
      "Number of sites: 6\n",
      "Time taken: 0.14544058399042115 s\n",
      "\n",
      "Number of sites: 8\n",
      "Time taken: 0.366873624996515 s\n",
      "\n",
      "B: 1.6\n",
      "Number of sites: 2\n",
      "Time taken: 0.0419375830097124 s\n",
      "\n",
      "Number of sites: 4\n",
      "Time taken: 0.08783583401236683 s\n",
      "\n",
      "Number of sites: 6\n",
      "Time taken: 0.18410120901535265 s\n",
      "\n",
      "Number of sites: 8\n",
      "Time taken: 0.30492108399630524 s\n",
      "\n",
      "B: 1.8\n",
      "Number of sites: 2\n",
      "Time taken: 0.020995792001485825 s\n",
      "\n",
      "Number of sites: 4\n",
      "Time taken: 0.1027080420171842 s\n",
      "\n",
      "Number of sites: 6\n",
      "Time taken: 0.32957899998291396 s\n",
      "\n",
      "Number of sites: 8\n",
      "Time taken: 0.3791343750199303 s\n",
      "\n",
      "B: 2.0\n",
      "Number of sites: 2\n",
      "Time taken: 0.032911374990362674 s\n",
      "\n",
      "Number of sites: 4\n",
      "Time taken: 0.08966233298997395 s\n",
      "\n",
      "Number of sites: 6\n",
      "Time taken: 0.1560896250011865 s\n",
      "\n",
      "Number of sites: 8\n",
      "Time taken: 0.2631075840035919 s\n",
      "\n",
      "Symmetry action: 1\n",
      "B: 0.0\n",
      "Number of sites: 2\n",
      "Time taken: 0.017716834001475945 s\n",
      "\n",
      "Number of sites: 4\n",
      "Time taken: 0.07760237500770018 s\n",
      "\n",
      "Number of sites: 6\n",
      "Time taken: 0.08947750000515953 s\n",
      "\n",
      "Number of sites: 8\n",
      "Time taken: 0.1337767920049373 s\n",
      "\n",
      "B: 0.2\n",
      "Number of sites: 2\n",
      "Time taken: 0.04561041700071655 s\n",
      "\n",
      "Number of sites: 4\n",
      "Time taken: 0.14369087500381283 s\n",
      "\n",
      "Number of sites: 6\n",
      "Time taken: 1.520681499998318 s\n",
      "\n",
      "Number of sites: 8\n",
      "Time taken: 2.291842500009807 s\n",
      "\n",
      "B: 0.4\n",
      "Number of sites: 2\n",
      "Time taken: 20.610824875009712 s\n",
      "\n",
      "Number of sites: 4\n",
      "Time taken: 44.87950483398163 s\n",
      "\n",
      "Number of sites: 6\n",
      "Time taken: 66.30320808297256 s\n",
      "\n",
      "Number of sites: 8\n",
      "Time taken: 97.35557508398779 s\n",
      "\n",
      "B: 0.6\n",
      "Number of sites: 2\n",
      "Time taken: 15.163936750002904 s\n",
      "\n",
      "Number of sites: 4\n",
      "Time taken: 45.511799416999565 s\n",
      "\n",
      "Number of sites: 6\n",
      "Time taken: 74.0420439169975 s\n",
      "\n",
      "Number of sites: 8\n",
      "Time taken: 105.48829966597259 s\n",
      "\n",
      "B: 0.8\n",
      "Number of sites: 2\n",
      "Time taken: 15.063407042005565 s\n",
      "\n",
      "Number of sites: 4\n",
      "Time taken: 46.4619065830193 s\n",
      "\n",
      "Number of sites: 6\n",
      "Time taken: 83.92577766699833 s\n",
      "\n",
      "Number of sites: 8\n",
      "Time taken: 119.16171099999337 s\n",
      "\n",
      "B: 1.0\n",
      "Number of sites: 2\n",
      "Time taken: 21.117013125011 s\n",
      "\n",
      "Number of sites: 4\n",
      "Time taken: 64.92807616697974 s\n",
      "\n",
      "Number of sites: 6\n",
      "Time taken: 117.78626112500206 s\n",
      "\n",
      "Number of sites: 8\n",
      "Time taken: 172.576664082997 s\n",
      "\n",
      "B: 1.2\n",
      "Number of sites: 2\n",
      "Time taken: 16.692678791994695 s\n",
      "\n",
      "Number of sites: 4\n",
      "Time taken: 80.44773958300357 s\n",
      "\n",
      "Number of sites: 6\n",
      "Time taken: 125.20132008299697 s\n",
      "\n",
      "Number of sites: 8\n",
      "Time taken: 182.3609524590138 s\n",
      "\n",
      "B: 1.4\n",
      "Number of sites: 2\n",
      "Time taken: 0.029441499995300546 s\n",
      "\n",
      "Number of sites: 4\n",
      "Time taken: 0.14800095901591703 s\n",
      "\n",
      "Number of sites: 6\n",
      "Time taken: 0.2324360830243677 s\n",
      "\n",
      "Number of sites: 8\n",
      "Time taken: 0.2737267909978982 s\n",
      "\n",
      "B: 1.6\n",
      "Number of sites: 2\n",
      "Time taken: 0.034555666003143415 s\n",
      "\n",
      "Number of sites: 4\n",
      "Time taken: 0.12842083399300463 s\n",
      "\n",
      "Number of sites: 6\n",
      "Time taken: 0.20305716700386256 s\n",
      "\n",
      "Number of sites: 8\n",
      "Time taken: 0.30903795899939723 s\n",
      "\n",
      "B: 1.8\n",
      "Number of sites: 2\n",
      "Time taken: 0.03794333300902508 s\n",
      "\n",
      "Number of sites: 4\n",
      "Time taken: 0.18391299998620525 s\n",
      "\n",
      "Number of sites: 6\n",
      "Time taken: 0.20103229201049544 s\n",
      "\n",
      "Number of sites: 8\n",
      "Time taken: 0.32083541600150056 s\n",
      "\n",
      "B: 2.0\n",
      "Number of sites: 2\n",
      "Time taken: 0.03541754200705327 s\n",
      "\n",
      "Number of sites: 4\n",
      "Time taken: 0.11972762501682155 s\n",
      "\n",
      "Number of sites: 6\n",
      "Time taken: 0.187753124977462 s\n",
      "\n",
      "Number of sites: 8\n",
      "Time taken: 0.3643353749939706 s\n",
      "\n",
      "Symmetry action: 2\n",
      "B: 0.0\n",
      "Number of sites: 2\n",
      "Time taken: 0.021090708003612235 s\n",
      "\n",
      "Number of sites: 4\n",
      "Time taken: 0.0576629999850411 s\n",
      "\n",
      "Number of sites: 6\n",
      "Time taken: 0.0985539169923868 s\n",
      "\n",
      "Number of sites: 8\n",
      "Time taken: 0.13813762500649318 s\n",
      "\n",
      "B: 0.2\n",
      "Number of sites: 2\n",
      "Time taken: 0.02938812502543442 s\n",
      "\n",
      "Number of sites: 4\n",
      "Time taken: 0.055946582986507565 s\n",
      "\n",
      "Number of sites: 6\n",
      "Time taken: 1.4424462499737274 s\n",
      "\n",
      "Number of sites: 8\n",
      "Time taken: 2.250668541993946 s\n",
      "\n",
      "B: 0.4\n",
      "Number of sites: 2\n",
      "Time taken: 15.294071832991904 s\n",
      "\n",
      "Number of sites: 4\n",
      "Time taken: 40.902681708015734 s\n",
      "\n",
      "Number of sites: 6\n",
      "Time taken: 70.61861358300666 s\n",
      "\n",
      "Number of sites: 8\n",
      "Time taken: 102.04171274998225 s\n",
      "\n",
      "B: 0.6\n",
      "Number of sites: 2\n",
      "Time taken: 16.710467458004132 s\n",
      "\n",
      "Number of sites: 4\n",
      "Time taken: 45.105506874999264 s\n",
      "\n",
      "Number of sites: 6\n",
      "Time taken: 82.70746529099415 s\n",
      "\n",
      "Number of sites: 8\n",
      "Time taken: 106.6097641250235 s\n",
      "\n",
      "B: 0.8\n",
      "Number of sites: 2\n",
      "Time taken: 14.664520082995296 s\n",
      "\n",
      "Number of sites: 4\n",
      "Time taken: 49.14020833399263 s\n",
      "\n",
      "Number of sites: 6\n",
      "Time taken: 83.40351445798296 s\n",
      "\n",
      "Number of sites: 8\n",
      "Time taken: 191.42852824999136 s\n",
      "\n",
      "B: 1.0\n",
      "Number of sites: 2\n",
      "Time taken: 27.478205916006118 s\n",
      "\n",
      "Number of sites: 4\n",
      "Time taken: 76.6820761669951 s\n",
      "\n",
      "Number of sites: 6\n",
      "Time taken: 129.93083662501886 s\n",
      "\n",
      "Number of sites: 8\n",
      "Time taken: 176.4084860419971 s\n",
      "\n",
      "B: 1.2\n",
      "Number of sites: 2\n",
      "Time taken: 15.157196209009271 s\n",
      "\n",
      "Number of sites: 4\n",
      "Time taken: 72.71924999999464 s\n",
      "\n",
      "Number of sites: 6\n",
      "Time taken: 110.49239145801403 s\n",
      "\n",
      "Number of sites: 8\n",
      "Time taken: 165.04263774998253 s\n",
      "\n",
      "B: 1.4\n",
      "Number of sites: 2\n",
      "Time taken: 0.027687750000040978 s\n",
      "\n",
      "Number of sites: 4\n",
      "Time taken: 0.10496629198314622 s\n",
      "\n",
      "Number of sites: 6\n",
      "Time taken: 0.2815804580168333 s\n",
      "\n",
      "Number of sites: 8\n",
      "Time taken: 0.38054054099484347 s\n",
      "\n",
      "B: 1.6\n",
      "Number of sites: 2\n",
      "Time taken: 0.02803795802174136 s\n",
      "\n",
      "Number of sites: 4\n",
      "Time taken: 0.13936416700016707 s\n",
      "\n",
      "Number of sites: 6\n",
      "Time taken: 0.2028538330050651 s\n",
      "\n",
      "Number of sites: 8\n",
      "Time taken: 0.33559070801129565 s\n",
      "\n",
      "B: 1.8\n",
      "Number of sites: 2\n",
      "Time taken: 0.041987459000665694 s\n",
      "\n",
      "Number of sites: 4\n",
      "Time taken: 0.13864458299940452 s\n",
      "\n",
      "Number of sites: 6\n",
      "Time taken: 0.21163837501080707 s\n",
      "\n",
      "Number of sites: 8\n",
      "Time taken: 0.3325764170149341 s\n",
      "\n",
      "B: 2.0\n",
      "Number of sites: 2\n",
      "Time taken: 0.028139457979705185 s\n",
      "\n",
      "Number of sites: 4\n",
      "Time taken: 0.1253493330150377 s\n",
      "\n",
      "Number of sites: 6\n",
      "Time taken: 0.20373120802105404 s\n",
      "\n",
      "Number of sites: 8\n",
      "Time taken: 0.2604932499816641 s\n",
      "\n",
      "Symmetry action: 3\n",
      "B: 0.0\n",
      "Number of sites: 2\n",
      "Time taken: 0.018266958999447525 s\n",
      "\n",
      "Number of sites: 4\n",
      "Time taken: 0.053379291988676414 s\n",
      "\n",
      "Number of sites: 6\n",
      "Time taken: 0.09361791599076241 s\n",
      "\n",
      "Number of sites: 8\n",
      "Time taken: 0.12793312498251908 s\n",
      "\n",
      "B: 0.2\n",
      "Number of sites: 2\n",
      "Time taken: 16.754240875015967 s\n",
      "\n",
      "Number of sites: 4\n",
      "Time taken: 39.54740608300199 s\n",
      "\n",
      "Number of sites: 6\n",
      "Time taken: 65.22789304199978 s\n",
      "\n",
      "Number of sites: 8\n",
      "Time taken: 91.54791754100006 s\n",
      "\n",
      "B: 0.4\n",
      "Number of sites: 2\n",
      "Time taken: 15.479630707995966 s\n",
      "\n",
      "Number of sites: 4\n",
      "Time taken: 42.254077582998434 s\n",
      "\n",
      "Number of sites: 6\n",
      "Time taken: 70.46234199998435 s\n",
      "\n",
      "Number of sites: 8\n",
      "Time taken: 108.98758504199213 s\n",
      "\n",
      "B: 0.6\n",
      "Number of sites: 2\n",
      "Time taken: 16.1971471660072 s\n",
      "\n",
      "Number of sites: 4\n",
      "Time taken: 42.469320541014895 s\n",
      "\n",
      "Number of sites: 6\n",
      "Time taken: 75.08549945897539 s\n",
      "\n",
      "Number of sites: 8\n",
      "Time taken: 111.95928820798872 s\n",
      "\n",
      "B: 0.8\n",
      "Number of sites: 2\n",
      "Time taken: 15.775168583990308 s\n",
      "\n",
      "Number of sites: 4\n",
      "Time taken: 47.126435207988834 s\n",
      "\n",
      "Number of sites: 6\n",
      "Time taken: 82.19145774998469 s\n",
      "\n",
      "Number of sites: 8\n",
      "Time taken: 118.95647437497973 s\n",
      "\n",
      "B: 1.0\n",
      "Number of sites: 2\n",
      "Time taken: 23.285536292009056 s\n",
      "\n",
      "Number of sites: 4\n",
      "Time taken: 74.80086437499267 s\n",
      "\n",
      "Number of sites: 6\n",
      "Time taken: 120.93796775001101 s\n",
      "\n",
      "Number of sites: 8\n",
      "Time taken: 169.18331158300862 s\n",
      "\n",
      "B: 1.2\n",
      "Number of sites: 2\n",
      "Time taken: 25.949527916003717 s\n",
      "\n",
      "Number of sites: 4\n",
      "Time taken: 96.27992195900879 s\n",
      "\n",
      "Number of sites: 6\n",
      "Time taken: 137.52444466599263 s\n",
      "\n",
      "Number of sites: 8\n",
      "Time taken: 222.79188808298204 s\n",
      "\n",
      "B: 1.4\n",
      "Number of sites: 2\n",
      "Time taken: 0.37433020799653605 s\n",
      "\n",
      "Number of sites: 4\n",
      "Time taken: 0.29287058298359625 s\n",
      "\n",
      "Number of sites: 6\n",
      "Time taken: 0.22666837499127723 s\n",
      "\n",
      "Number of sites: 8\n",
      "Time taken: 0.4603342500049621 s\n",
      "\n",
      "B: 1.6\n",
      "Number of sites: 2\n",
      "Time taken: 0.03454191700438969 s\n",
      "\n",
      "Number of sites: 4\n",
      "Time taken: 0.2461384999915026 s\n",
      "\n",
      "Number of sites: 6\n",
      "Time taken: 0.38581424998119473 s\n",
      "\n",
      "Number of sites: 8\n",
      "Time taken: 0.4406615410116501 s\n",
      "\n",
      "B: 1.8\n",
      "Number of sites: 2\n",
      "Time taken: 0.03545008398941718 s\n",
      "\n",
      "Number of sites: 4\n",
      "Time taken: 0.18565691699041054 s\n",
      "\n",
      "Number of sites: 6\n",
      "Time taken: 0.2552191249851603 s\n",
      "\n",
      "Number of sites: 8\n",
      "Time taken: 0.48984595900401473 s\n",
      "\n",
      "B: 2.0\n",
      "Number of sites: 2\n",
      "Time taken: 0.04883479198906571 s\n",
      "\n",
      "Number of sites: 4\n",
      "Time taken: 0.18089095898903906 s\n",
      "\n",
      "Number of sites: 6\n",
      "Time taken: 0.27851287499652244 s\n",
      "\n",
      "Number of sites: 8\n",
      "Time taken: 0.38983975001610816 s\n",
      "\n"
     ]
    }
   ],
   "source": [
    "random_opt_out_data = list()\n",
    "\n",
    "for i, l in enumerate(symmetry_actions_with_boundary_unitaries):\n",
    "    print(\"Symmetry action: {}\".format(i))\n",
    "    random_opt_out_data.append(list())\n",
    "    for j, (e, b) in enumerate(list(zip(l, psi_dict))[::2]):\n",
    "        print(\"B: {}\".format(b))\n",
    "        random_opt_out_data[-1].append(list())\n",
    "        for k, n in enumerate(num_sites_range):\n",
    "            print(\"Number of sites: {}\".format(n))\n",
    "            quad = random_opimization(\n",
    "                psi_dict[b],\n",
    "                n,\n",
    "                e,\n",
    "                base_line_targets[i,j]\n",
    "            )\n",
    "\n",
    "            random_opt_out_data[-1][-1].append(quad)\n",
    "\n",
    "            print(\"Time taken: {} s\\n\".format(quad[-1]))"
   ]
  },
  {
   "cell_type": "code",
   "execution_count": 217,
   "id": "f568823e-de97-4016-9534-e701f194c753",
   "metadata": {},
   "outputs": [],
   "source": [
    "q = random_opt_out_data[0][0][0]"
   ]
  },
  {
   "cell_type": "code",
   "execution_count": 218,
   "id": "b0d5d5d7-e81c-4099-b634-9441f51af799",
   "metadata": {},
   "outputs": [
    {
     "data": {
      "text/plain": [
       "count    2.000000e+00\n",
       "mean     1.000000e+00\n",
       "std      4.710277e-16\n",
       "min      1.000000e+00\n",
       "25%      1.000000e+00\n",
       "50%      1.000000e+00\n",
       "75%      1.000000e+00\n",
       "max      1.000000e+00\n",
       "dtype: float64"
      ]
     },
     "execution_count": 218,
     "metadata": {},
     "output_type": "execute_result"
    }
   ],
   "source": [
    "q[0]"
   ]
  },
  {
   "cell_type": "code",
   "execution_count": 219,
   "id": "68b70b06-9ab8-403c-8622-bf8eb506b4fd",
   "metadata": {},
   "outputs": [
    {
     "data": {
      "text/plain": [
       "1.4142135623730956"
      ]
     },
     "execution_count": 219,
     "metadata": {},
     "output_type": "execute_result"
    }
   ],
   "source": [
    "q[1]"
   ]
  },
  {
   "cell_type": "code",
   "execution_count": 220,
   "id": "a4d306dd-aca7-40b0-915d-3caae6dfcbcc",
   "metadata": {},
   "outputs": [
    {
     "data": {
      "text/plain": [
       "1.414213562373096"
      ]
     },
     "execution_count": 220,
     "metadata": {},
     "output_type": "execute_result"
    }
   ],
   "source": [
    "q[2]"
   ]
  },
  {
   "cell_type": "code",
   "execution_count": 221,
   "id": "95fe6f90-0a5c-4e17-9e64-0effc71be919",
   "metadata": {},
   "outputs": [
    {
     "data": {
      "text/plain": [
       "0.03509495800244622"
      ]
     },
     "execution_count": 221,
     "metadata": {},
     "output_type": "execute_result"
    }
   ],
   "source": [
    "q[3]"
   ]
  },
  {
   "cell_type": "code",
   "execution_count": 222,
   "id": "39b42aa3-0936-4872-a6df-2612e1681bcd",
   "metadata": {},
   "outputs": [
    {
     "data": {
      "text/plain": [
       "0.9999999999999999"
      ]
     },
     "execution_count": 222,
     "metadata": {},
     "output_type": "execute_result"
    }
   ],
   "source": [
    "q[0]['max']"
   ]
  },
  {
   "cell_type": "code",
   "execution_count": 223,
   "id": "6d43539c-1a5b-4dce-94d3-acf34945c6f6",
   "metadata": {},
   "outputs": [],
   "source": [
    "rand_max_scores = np.zeros((4, 11, 4))\n",
    "rand_max_left_scores = np.zeros((4, 11, 4))\n",
    "rand_max_right_scores = np.zeros((4, 11, 4))\n",
    "\n",
    "for i, l1 in enumerate(random_opt_out_data):\n",
    "    for j, l2 in enumerate(l1):\n",
    "        for k, l3 in enumerate(l2):\n",
    "            rand_max_scores[i,j,k] = l3[0]['max']\n",
    "            rand_max_left_scores[i,j,k] = l3[1]\n",
    "            rand_max_right_scores[i,j,k] = l3[2]"
   ]
  },
  {
   "cell_type": "code",
   "execution_count": 224,
   "id": "4e9b7447-32e4-40f3-b803-74e2ff5ec771",
   "metadata": {},
   "outputs": [
    {
     "data": {
      "text/plain": [
       "array([[[1.        , 1.        , 1.        , 1.        ],\n",
       "        [1.        , 1.        , 0.99999993, 0.99999999],\n",
       "        [1.        , 0.9999998 , 0.99999993, 0.999995  ],\n",
       "        [1.        , 0.9999999 , 0.99999873, 0.99999696],\n",
       "        [1.        , 0.99999937, 0.99999695, 0.99999419],\n",
       "        [0.9999997 , 0.99999724, 0.99998866, 0.99999373],\n",
       "        [1.        , 0.99999925, 0.99998632, 0.99996265],\n",
       "        [1.        , 0.99999583, 0.99997676, 0.99990475],\n",
       "        [1.        , 0.99999545, 0.99995042, 0.99983071],\n",
       "        [1.        , 0.99999005, 0.99993105, 0.99966336],\n",
       "        [1.        , 0.99999188, 0.99993038, 0.99980309]],\n",
       "\n",
       "       [[1.        , 1.        , 1.        , 1.        ],\n",
       "        [0.98984641, 0.9898464 , 0.9898464 , 0.9898464 ],\n",
       "        [0.95734953, 0.95734953, 0.95734953, 0.95734953],\n",
       "        [0.89449221, 0.8944922 , 0.89449218, 0.89449216],\n",
       "        [0.77622954, 0.7762304 , 0.77623171, 0.77623369],\n",
       "        [0.01617029, 0.01617028, 0.01617027, 0.01617027],\n",
       "        [0.74905713, 0.7911669 , 0.8028017 , 0.80905133],\n",
       "        [0.83730913, 0.87193005, 0.88218025, 0.88846159],\n",
       "        [0.88369161, 0.91174321, 0.92080147, 0.92582446],\n",
       "        [0.92081408, 0.93482842, 0.94258372, 0.94716264],\n",
       "        [0.93062176, 0.94926149, 0.95627943, 0.96031276]],\n",
       "\n",
       "       [[1.        , 1.        , 1.        , 1.        ],\n",
       "        [0.98984641, 0.9898464 , 0.9898464 , 0.98984598],\n",
       "        [0.95734953, 0.95734953, 0.95734953, 0.95734953],\n",
       "        [0.89449221, 0.8944922 , 0.89449219, 0.89449217],\n",
       "        [0.77622954, 0.77623042, 0.77623169, 0.77623381],\n",
       "        [0.59652464, 0.59652404, 0.5965239 , 0.59652354],\n",
       "        [0.74905713, 0.79116676, 0.80280781, 0.8090523 ],\n",
       "        [0.83730913, 0.87193306, 0.88230545, 0.88806611],\n",
       "        [0.88369161, 0.91174568, 0.92077909, 0.92622441],\n",
       "        [0.9119025 , 0.93483303, 0.94238444, 0.94700889],\n",
       "        [0.93062176, 0.94926361, 0.95617677, 0.96036178]],\n",
       "\n",
       "       [[1.        , 1.        , 1.        , 1.        ],\n",
       "        [0.97979591, 0.97979591, 0.97979591, 0.97979591],\n",
       "        [0.91651812, 0.91651812, 0.91651812, 0.91651812],\n",
       "        [0.80011631, 0.80011631, 0.8001163 , 0.8001163 ],\n",
       "        [0.60253123, 0.6025323 , 0.60253503, 0.60253861],\n",
       "        [0.01069105, 0.01099079, 0.01145514, 0.01169091],\n",
       "        [0.61362281, 0.62594243, 0.64451579, 0.65598456],\n",
       "        [0.74819153, 0.76026816, 0.77873449, 0.78949395],\n",
       "        [0.78091081, 0.83128653, 0.8479226 , 0.8582283 ],\n",
       "        [0.83156617, 0.87391719, 0.88852616, 0.89781841],\n",
       "        [0.86605687, 0.90111668, 0.91446782, 0.92229593]]])"
      ]
     },
     "execution_count": 224,
     "metadata": {},
     "output_type": "execute_result"
    }
   ],
   "source": [
    "rand_max_scores"
   ]
  },
  {
   "cell_type": "code",
   "execution_count": 229,
   "id": "cfed52c0-4ff6-4acc-b26e-81f4a740d4af",
   "metadata": {},
   "outputs": [
    {
     "data": {
      "text/plain": [
       "(4, 11)"
      ]
     },
     "execution_count": 229,
     "metadata": {},
     "output_type": "execute_result"
    }
   ],
   "source": [
    "base_line_targets[:,::2].shape"
   ]
  },
  {
   "cell_type": "code",
   "execution_count": 227,
   "id": "fbf63c62-f136-4775-b437-51abd7209746",
   "metadata": {},
   "outputs": [
    {
     "data": {
      "text/plain": [
       "(4, 11, 4)"
      ]
     },
     "execution_count": 227,
     "metadata": {},
     "output_type": "execute_result"
    }
   ],
   "source": [
    "rand_max_scores.shape"
   ]
  },
  {
   "cell_type": "markdown",
   "id": "71849ff6-c411-4acd-bf0d-1c7b0c95b58d",
   "metadata": {},
   "source": [
    "Can assume that 8 sites gives close to the best score."
   ]
  },
  {
   "cell_type": "code",
   "execution_count": 245,
   "id": "23c1c86e-d7b8-433d-9ae6-45310c5eafda",
   "metadata": {},
   "outputs": [
    {
     "data": {
      "text/plain": [
       "0.00033663533239303156"
      ]
     },
     "execution_count": 245,
     "metadata": {},
     "output_type": "execute_result"
    }
   ],
   "source": [
    "np.max(np.abs(np.max(rand_max_scores, axis=-1) - rand_max_scores[...,-1]))"
   ]
  },
  {
   "cell_type": "code",
   "execution_count": 231,
   "id": "0f003787-d656-4e91-ad21-375918858c56",
   "metadata": {},
   "outputs": [],
   "source": [
    "rand_max_scores_diff = base_line_targets[:,::2, np.newaxis] - rand_max_scores"
   ]
  },
  {
   "cell_type": "code",
   "execution_count": 232,
   "id": "10b950cd-a925-4689-88b1-005c1317d042",
   "metadata": {},
   "outputs": [
    {
     "data": {
      "text/plain": [
       "array([[[ 5.55111512e-16, -4.44089210e-16,  4.44089210e-16,\n",
       "          5.55111512e-16],\n",
       "        [ 2.22044605e-16,  5.10107290e-10,  7.10512575e-08,\n",
       "          1.19664847e-08],\n",
       "        [ 7.32747196e-15,  1.96290047e-07,  7.39731519e-08,\n",
       "          4.99751078e-06],\n",
       "        [ 3.10862447e-15,  1.02787017e-07,  1.26570825e-06,\n",
       "          3.03758080e-06],\n",
       "        [ 1.02140518e-14,  6.34550075e-07,  3.04617752e-06,\n",
       "          5.81247596e-06],\n",
       "        [ 2.97122328e-07,  2.75619672e-06,  1.13355559e-05,\n",
       "          6.26869422e-06],\n",
       "        [ 6.66133815e-16,  7.45580620e-07,  1.36774429e-05,\n",
       "          3.73494196e-05],\n",
       "        [ 6.66133815e-16,  4.16923422e-06,  2.32406421e-05,\n",
       "          9.52514596e-05],\n",
       "        [ 2.66453526e-15,  4.55432915e-06,  4.95836531e-05,\n",
       "          1.69290674e-04],\n",
       "        [ 2.22044605e-15,  9.95179792e-06,  6.89471370e-05,\n",
       "          3.36635332e-04],\n",
       "        [ 5.55111512e-16,  8.11990389e-06,  6.96168373e-05,\n",
       "          1.96906954e-04]],\n",
       "\n",
       "       [[ 9.99200722e-16, -1.11022302e-16,  1.11022302e-16,\n",
       "          5.55111512e-16],\n",
       "        [ 1.99840144e-15,  1.59554225e-09,  5.57995428e-10,\n",
       "          4.76714868e-09],\n",
       "        [ 2.44249065e-15,  2.45137244e-12,  1.70489511e-09,\n",
       "          3.67225217e-09],\n",
       "        [ 2.10942375e-15,  1.36222811e-09,  2.89250461e-08,\n",
       "          4.27139879e-08],\n",
       "        [ 5.88418203e-15, -8.55043728e-07, -2.16911875e-06,\n",
       "         -4.14980515e-06],\n",
       "        [ 1.25435249e-10,  1.10891156e-09,  1.36118578e-08,\n",
       "          1.91783753e-08],\n",
       "        [ 1.95592929e-06, -4.21078126e-02, -5.37426156e-02,\n",
       "         -5.99922433e-02],\n",
       "        [ 1.81101595e-08, -3.46209070e-02, -4.48711073e-02,\n",
       "         -5.11524469e-02],\n",
       "        [ 9.99200722e-16, -2.80515958e-02, -3.71098607e-02,\n",
       "         -4.21328471e-02],\n",
       "        [-8.91157359e-03, -2.29259199e-02, -3.06812147e-02,\n",
       "         -3.52601340e-02],\n",
       "        [ 0.00000000e+00, -1.86397219e-02, -2.56576665e-02,\n",
       "         -2.96909939e-02]],\n",
       "\n",
       "       [[-2.22044605e-16, -2.22044605e-16,  4.44089210e-16,\n",
       "         -4.44089210e-16],\n",
       "        [ 2.22044605e-15,  1.86624394e-09,  2.65977906e-09,\n",
       "          4.25668413e-07],\n",
       "        [ 2.77555756e-15,  1.38977718e-11,  7.44277528e-10,\n",
       "          3.31201577e-09],\n",
       "        [ 2.33146835e-15,  9.46287204e-09,  1.57125322e-08,\n",
       "          3.62010824e-08],\n",
       "        [ 8.21565038e-15, -8.75823175e-07, -2.14638394e-06,\n",
       "         -4.26503836e-06],\n",
       "        [ 5.32706140e-08,  6.55080733e-07,  7.92998828e-07,\n",
       "          1.14887597e-06],\n",
       "        [ 1.95615801e-06, -4.21076718e-02, -5.37487219e-02,\n",
       "         -5.99932134e-02],\n",
       "        [ 1.81122513e-08, -3.46239099e-02, -4.49963079e-02,\n",
       "         -5.07569664e-02],\n",
       "        [ 2.87970980e-10, -2.80540635e-02, -3.70874800e-02,\n",
       "         -4.25328003e-02],\n",
       "        [ 1.99840144e-15, -2.29305247e-02, -3.04819316e-02,\n",
       "         -3.51063827e-02],\n",
       "        [ 0.00000000e+00, -1.86418440e-02, -2.55550077e-02,\n",
       "         -2.97400122e-02]],\n",
       "\n",
       "       [[ 6.66133815e-16,  8.88178420e-16,  4.44089210e-16,\n",
       "          6.66133815e-16],\n",
       "        [-1.99840144e-15, -3.21964677e-15,  3.10862447e-14,\n",
       "          7.19024840e-12],\n",
       "        [ 3.33066907e-15,  5.10702591e-15,  2.12084017e-10,\n",
       "          3.11176751e-10],\n",
       "        [ 1.88737914e-15,  5.18984855e-12,  1.25500388e-09,\n",
       "          7.38780870e-09],\n",
       "        [ 3.33066907e-15, -1.06647652e-06, -3.80016733e-06,\n",
       "         -7.37771486e-06],\n",
       "        [-6.31703434e-04, -9.31436230e-04, -1.39579316e-03,\n",
       "         -1.63156172e-03],\n",
       "        [-5.25347925e-02, -6.48544098e-02, -8.34277728e-02,\n",
       "         -9.48965418e-02],\n",
       "        [-4.71049398e-02, -5.91815733e-02, -7.76479020e-02,\n",
       "         -8.84073642e-02],\n",
       "        [ 5.64895573e-08, -5.03756651e-02, -6.70117337e-02,\n",
       "         -7.73174402e-02],\n",
       "        [ 1.04956430e-08, -4.23510161e-02, -5.69599871e-02,\n",
       "         -6.62522304e-02],\n",
       "        [ 2.43724396e-09, -3.50598147e-02, -4.84109527e-02,\n",
       "         -5.62390661e-02]]])"
      ]
     },
     "execution_count": 232,
     "metadata": {},
     "output_type": "execute_result"
    }
   ],
   "source": [
    "rand_max_scores_diff"
   ]
  },
  {
   "cell_type": "code",
   "execution_count": 233,
   "id": "974e93a7-5e84-4823-84d6-479755803dc1",
   "metadata": {},
   "outputs": [
    {
     "data": {
      "text/plain": [
       "0.09489654175893758"
      ]
     },
     "execution_count": 233,
     "metadata": {},
     "output_type": "execute_result"
    }
   ],
   "source": [
    "np.max(np.abs(rand_max_scores_diff))"
   ]
  },
  {
   "cell_type": "code",
   "execution_count": 234,
   "id": "ace97b62-889d-4587-b8a5-a4854ee527e2",
   "metadata": {},
   "outputs": [
    {
     "data": {
      "text/plain": [
       "0.5610880159427649"
      ]
     },
     "execution_count": 234,
     "metadata": {},
     "output_type": "execute_result"
    }
   ],
   "source": [
    "base_line_targets[3, 12]"
   ]
  },
  {
   "cell_type": "code",
   "execution_count": 236,
   "id": "6112003e-cda2-4e96-b479-d714053d9a98",
   "metadata": {},
   "outputs": [
    {
     "data": {
      "text/plain": [
       "array([0.61362281, 0.62594243, 0.64451579, 0.65598456])"
      ]
     },
     "execution_count": 236,
     "metadata": {},
     "output_type": "execute_result"
    }
   ],
   "source": [
    "rand_max_scores[3, 6]"
   ]
  },
  {
   "cell_type": "code",
   "execution_count": 241,
   "id": "80033761-7d1c-4383-ab6d-622a976c3456",
   "metadata": {},
   "outputs": [
    {
     "data": {
      "text/plain": [
       "0.8660568680742208"
      ]
     },
     "execution_count": 241,
     "metadata": {},
     "output_type": "execute_result"
    }
   ],
   "source": [
    "base_line_targets[3, 20]"
   ]
  },
  {
   "cell_type": "code",
   "execution_count": 242,
   "id": "b1390773-d317-4c7b-80e4-98d5136b8612",
   "metadata": {},
   "outputs": [
    {
     "data": {
      "text/plain": [
       "array([0.86605687, 0.90111668, 0.91446782, 0.92229593])"
      ]
     },
     "execution_count": 242,
     "metadata": {},
     "output_type": "execute_result"
    }
   ],
   "source": [
    "rand_max_scores[3, 10]"
   ]
  },
  {
   "cell_type": "code",
   "execution_count": 248,
   "id": "f0016680-25d8-4a0e-9476-d4579b348c95",
   "metadata": {},
   "outputs": [
    {
     "name": "stderr",
     "output_type": "stream",
     "text": [
      "/var/folders/r3/xn8xq5c17932m2g1b4r3dss80000gn/T/ipykernel_34233/3920445253.py:23: UserWarning: FigureCanvasAgg is non-interactive, and thus cannot be shown\n",
      "  fig.show()\n"
     ]
    },
    {
     "data": {
      "image/png": "[encoded data removed]",
      "text/plain": [
       "<Figure size 600x400 with 1 Axes>"
      ]
     },
     "metadata": {},
     "output_type": "display_data"
    }
   ],
   "source": [
    "fig, ax = plt.subplots(figsize=(6,4))\n",
    "\n",
    "for i in range(4):\n",
    "    ax.plot(\n",
    "        list(psi_dict.keys())[::2],\n",
    "        rand_max_scores[i,:,-1],\n",
    "        'o',\n",
    "        label = symmetry_labels[i]\n",
    "    )\n",
    "\n",
    "ax.xaxis.set_major_locator(MultipleLocator(0.2))\n",
    "ax.xaxis.set_minor_locator(MultipleLocator(0.1))\n",
    "\n",
    "ax.legend()\n",
    "ax.grid()\n",
    "ax.set_xlabel(\"B\", fontweight='bold')\n",
    "ax.set_ylabel(\"Overall expectation value\", fontweight='bold')\n",
    "ax.set_title(\n",
    "    \"Overall expectation values for one site\\noptimisation on 8 sites with random initialization\",\n",
    "    fontweight='bold'\n",
    ")\n",
    "\n",
    "fig.show()"
   ]
  },
  {
   "cell_type": "code",
   "execution_count": 250,
   "id": "db69696a-59df-453f-b6f6-3cdb447df866",
   "metadata": {},
   "outputs": [
    {
     "name": "stderr",
     "output_type": "stream",
     "text": [
      "/var/folders/r3/xn8xq5c17932m2g1b4r3dss80000gn/T/ipykernel_34233/2219880948.py:23: UserWarning: FigureCanvasAgg is non-interactive, and thus cannot be shown\n",
      "  fig.show()\n"
     ]
    },
    {
     "data": {
      "image/png": "[encoded data removed]",
      "text/plain": [
       "<Figure size 600x400 with 1 Axes>"
      ]
     },
     "metadata": {},
     "output_type": "display_data"
    }
   ],
   "source": [
    "fig, ax = plt.subplots(figsize=(6,4))\n",
    "\n",
    "for i in range(4):\n",
    "    ax.plot(\n",
    "        list(psi_dict.keys())[::2],\n",
    "        -rand_max_scores_diff[i,:,-1],\n",
    "        'o',\n",
    "        label = symmetry_labels[i]\n",
    "    )\n",
    "\n",
    "ax.xaxis.set_major_locator(MultipleLocator(0.2))\n",
    "ax.xaxis.set_minor_locator(MultipleLocator(0.1))\n",
    "\n",
    "ax.legend()\n",
    "ax.grid()\n",
    "ax.set_xlabel(\"B\", fontweight='bold')\n",
    "ax.set_ylabel(\"Delta expectation value\", fontweight='bold')\n",
    "ax.set_title(\n",
    "    \"Improvement in expectation value\\nwith random initialization\",\n",
    "    fontweight='bold'\n",
    ")\n",
    "\n",
    "fig.show()"
   ]
  },
  {
   "cell_type": "markdown",
   "id": "910684e4-160c-47ae-a110-76e6a14eab0e",
   "metadata": {},
   "source": [
    "# Conclusions\n",
    "* Random initialisation does improve scores for $B>1$."
   ]
  },
  {
   "cell_type": "code",
   "execution_count": null,
   "id": "6577a84a-0244-4169-97f8-9ed6bfa6559c",
   "metadata": {},
   "outputs": [],
   "source": []
  }
 ],
 "metadata": {
  "kernelspec": {
   "display_name": "num_spt_venv_p11",
   "language": "python",
   "name": "num_spt_venv_p11"
  },
  "language_info": {
   "codemirror_mode": {
    "name": "ipython",
    "version": 3
   },
   "file_extension": ".py",
   "mimetype": "text/x-python",
   "name": "python",
   "nbconvert_exporter": "python",
   "pygments_lexer": "ipython3",
   "version": "3.11.9"
  }
 },
 "nbformat": 4,
 "nbformat_minor": 5
}
