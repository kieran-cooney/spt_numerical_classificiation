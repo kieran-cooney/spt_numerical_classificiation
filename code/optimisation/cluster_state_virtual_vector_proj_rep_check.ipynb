{
 "cells": [
  {
   "cell_type": "markdown",
   "id": "5f2205a4-2c74-4cf5-9ad1-9d65bd13bed2",
   "metadata": {},
   "source": [
    "# Cluster state virtual vector proj rep check\n",
    "\n",
    "Created 10/04/2024\n",
    "\n",
    "Objectives:\n",
    "* Sweep over all cases, and perform optimisation to the left and right of the symmetry action."
   ]
  },
  {
   "cell_type": "markdown",
   "id": "9ad0db4d-805c-4403-9d48-c71d523d572f",
   "metadata": {},
   "source": [
    "# Package imports"
   ]
  },
  {
   "cell_type": "code",
   "execution_count": 1,
   "id": "ecb41ea3-927f-4efa-aebe-ce15784aa037",
   "metadata": {},
   "outputs": [],
   "source": [
    "import sys\n",
    "sys.path.append('../')"
   ]
  },
  {
   "cell_type": "code",
   "execution_count": 2,
   "id": "4a525ec6-f0c8-47ee-8b0b-345bf0ef8bd3",
   "metadata": {},
   "outputs": [],
   "source": [
    "import h5py\n",
    "from tenpy.tools import hdf5_io\n",
    "import tenpy\n",
    "import tenpy.linalg.np_conserved as npc\n",
    "\n",
    "import os"
   ]
  },
  {
   "cell_type": "code",
   "execution_count": 3,
   "id": "b22092ac-9191-4a2d-b568-8680c3687185",
   "metadata": {},
   "outputs": [],
   "source": [
    "from functools import reduce\n",
    "from operator import mul"
   ]
  },
  {
   "cell_type": "code",
   "execution_count": 4,
   "id": "214f688a-c657-4810-b4d1-b1247deff62c",
   "metadata": {},
   "outputs": [],
   "source": [
    "import numpy as np\n",
    "import matplotlib.pyplot as plt"
   ]
  },
  {
   "cell_type": "code",
   "execution_count": 5,
   "id": "b8dec68d-a5b3-4383-ab44-567a9a5981b3",
   "metadata": {},
   "outputs": [],
   "source": [
    "from SPTOptimization.SymmetryActionWithBoundaryUnitaries import SymmetryActionWithBoundaryUnitaries\n",
    "\n",
    "from SPTOptimization.Optimizers.OneSiteSolver import OneSiteSolver\n",
    "\n",
    "from SPTOptimization.utils import (\n",
    "    to_npc_array,\n",
    "    get_right_identity_environment,\n",
    "    get_right_identity_environment_from_tp_tensor,\n",
    "    multiply_transfer_matrices\n",
    ")\n",
    "\n",
    "from SPTOptimization.Optimizers.utils import (\n",
    "    one_site_optimization_sweep_right\n",
    ")"
   ]
  },
  {
   "cell_type": "code",
   "execution_count": 6,
   "id": "b7461fe3-41a3-492f-b018-8e32e27a7300",
   "metadata": {},
   "outputs": [],
   "source": [
    "import re"
   ]
  },
  {
   "cell_type": "markdown",
   "id": "c69a8a47-e298-4c4c-97f7-a6157da4e15f",
   "metadata": {},
   "source": [
    "# Load data"
   ]
  },
  {
   "cell_type": "code",
   "execution_count": 7,
   "id": "210d7dcc-b7ae-4f06-8429-84177bec47d3",
   "metadata": {},
   "outputs": [],
   "source": [
    "DATA_DIR = r\"../data/transverse_cluster_200_site_dmrg\""
   ]
  },
  {
   "cell_type": "code",
   "execution_count": 8,
   "id": "e09f07cf-8441-4c7e-90b8-dbc8c61311f2",
   "metadata": {},
   "outputs": [],
   "source": [
    "loaded_data = list()\n",
    "\n",
    "for local_file_name in os.listdir(DATA_DIR):\n",
    "    f_name = r\"{}/{}\".format(DATA_DIR, local_file_name, ignore_unknown=False)\n",
    "    with h5py.File(f_name, 'r') as f:\n",
    "        data = hdf5_io.load_from_hdf5(f)\n",
    "        loaded_data.append(data)"
   ]
  },
  {
   "cell_type": "code",
   "execution_count": 9,
   "id": "e3f2b0da-cdda-4119-82ba-1e4f95fc93bb",
   "metadata": {},
   "outputs": [],
   "source": [
    "b_parameters = sorted(list(d['paramters']['B'] for d in loaded_data))"
   ]
  },
  {
   "cell_type": "code",
   "execution_count": 10,
   "id": "ebae1493-c152-4cb2-b432-503601ce3803",
   "metadata": {},
   "outputs": [],
   "source": [
    "psi_dict = dict()"
   ]
  },
  {
   "cell_type": "code",
   "execution_count": 11,
   "id": "9e5d893e-b2ea-4fcd-93bc-1c792f7ad862",
   "metadata": {},
   "outputs": [],
   "source": [
    "for b in b_parameters:\n",
    "    psi = next(\n",
    "        d['wavefunction']\n",
    "        for d in loaded_data\n",
    "        if d['paramters']['B'] == b\n",
    "    )\n",
    "\n",
    "    rounded_b = round(b, 1)\n",
    "    psi_dict[rounded_b] = psi"
   ]
  },
  {
   "cell_type": "markdown",
   "id": "b4c1e616-c034-404b-b59e-196d1eaac475",
   "metadata": {},
   "source": [
    "# Definitons"
   ]
  },
  {
   "cell_type": "markdown",
   "id": "4e7fe320-7b4b-43e7-8831-c0dbb8115502",
   "metadata": {},
   "source": [
    "Will need to update these based off previous work..."
   ]
  },
  {
   "cell_type": "code",
   "execution_count": 12,
   "id": "63506364-f535-4c0f-8c5f-8839c69f7b9d",
   "metadata": {},
   "outputs": [],
   "source": [
    "MAX_VIRTUAL_BOND_DIM = 8\n",
    "MAX_INTERMEDIATE_VIRTUAL_BOND_DIM = 2*MAX_VIRTUAL_BOND_DIM\n",
    "# MPO bond dim?\n",
    "MAX_MPO_BOND_DIM = 50\n",
    "\n",
    "SVD_CUTOFF = 1e-3"
   ]
  },
  {
   "cell_type": "code",
   "execution_count": 13,
   "id": "513d7288-c641-4071-a4a3-652787d1f98c",
   "metadata": {},
   "outputs": [],
   "source": [
    "np_I = np.array([[1,0],[0,1]])\n",
    "np_X = np.array([[0,1],[1,0]])\n",
    "np_Y = np.array([[0,-1j],[1j,0]])\n",
    "np_Z = np.array([[1,0],[0,-1]])"
   ]
  },
  {
   "cell_type": "code",
   "execution_count": 14,
   "id": "2a78a62e-37eb-4baf-98ba-d6a94d599bec",
   "metadata": {},
   "outputs": [],
   "source": [
    "npc_I = to_npc_array(np_I)\n",
    "npc_X = to_npc_array(np_X)\n",
    "npc_Y = to_npc_array(np_Y)\n",
    "npc_Z = to_npc_array(np_Z)"
   ]
  },
  {
   "cell_type": "code",
   "execution_count": 15,
   "id": "b9e2f954-c591-4479-ba37-32862c25c660",
   "metadata": {},
   "outputs": [],
   "source": [
    "symmetry_actions = [\n",
    "    [np_I, np_I],\n",
    "    [np_I, np_X],\n",
    "    [np_X, np_I],\n",
    "    [np_X, np_X]\n",
    "]"
   ]
  },
  {
   "cell_type": "code",
   "execution_count": 16,
   "id": "a706b5a0-860a-4294-8b5b-bdbf9482fe28",
   "metadata": {},
   "outputs": [],
   "source": [
    "cases = [\n",
    "    [\n",
    "        SymmetryActionWithBoundaryUnitaries(\n",
    "            psi,\n",
    "            s*50,\n",
    "            left_boundary_unitaries=[np_I,]*3,\n",
    "            right_boundary_unitaries=[np_I,]*3\n",
    "        )\n",
    "        for s in symmetry_actions\n",
    "    ]\n",
    "    for psi in psi_dict.values()\n",
    "]"
   ]
  },
  {
   "cell_type": "code",
   "execution_count": 17,
   "id": "8e7ff810-32b3-4163-9b1b-ca96a282a7f5",
   "metadata": {},
   "outputs": [],
   "source": [
    "for l in cases:\n",
    "    for c in l:\n",
    "        c.compute_svd_approximate_expectation()"
   ]
  },
  {
   "cell_type": "code",
   "execution_count": 18,
   "id": "6bac53fa-b629-46fc-a145-f932a0af6f18",
   "metadata": {},
   "outputs": [],
   "source": [
    "left_trivial_leg_charge = tenpy.linalg.charges.LegCharge(\n",
    "    tenpy.linalg.charges.ChargeInfo([], []),\n",
    "    [0,1],\n",
    "    [[]],\n",
    "    qconj=1\n",
    ")"
   ]
  },
  {
   "cell_type": "code",
   "execution_count": 19,
   "id": "44f34cb7-0888-474b-9483-f4956951fc31",
   "metadata": {},
   "outputs": [],
   "source": [
    "right_trivial_leg_charge = tenpy.linalg.charges.LegCharge(\n",
    "    tenpy.linalg.charges.ChargeInfo([], []),\n",
    "    [0,1],\n",
    "    [[]],\n",
    "    qconj=-1\n",
    ")"
   ]
  },
  {
   "cell_type": "markdown",
   "id": "994e2122-0e81-4da3-9c7a-db65077991ad",
   "metadata": {},
   "source": [
    "# Check phases"
   ]
  },
  {
   "cell_type": "code",
   "execution_count": 26,
   "id": "81774806-e526-4d2a-a722-d71a57c806ac",
   "metadata": {},
   "outputs": [],
   "source": [
    "def normalise_scaled_unitary(matrix):\n",
    "    m = matrix\n",
    "\n",
    "    tr = npc.tensordot(\n",
    "        m,\n",
    "        m.conj(),\n",
    "        [['vR', 'vR*'], ['vR*', 'vR']]\n",
    "    )\n",
    "\n",
    "    dim = m.to_ndarray().shape[0]\n",
    "\n",
    "    scale = np.sqrt(tr/dim)\n",
    "\n",
    "    out = m/scale\n",
    "\n",
    "    return out"
   ]
  },
  {
   "cell_type": "code",
   "execution_count": 29,
   "id": "f8f4b858-f00f-48cc-82d5-d80b190d4bf2",
   "metadata": {},
   "outputs": [],
   "source": [
    "def multiply_right_environments(env1, env2):\n",
    "    out = npc.tensordot(\n",
    "        env1,\n",
    "        env2,\n",
    "        [['vR',], ['vR*']]\n",
    "    )\n",
    "\n",
    "    return out"
   ]
  },
  {
   "cell_type": "code",
   "execution_count": 30,
   "id": "a4ed3f62-e0fd-41de-934e-5126e5d7f5a4",
   "metadata": {},
   "outputs": [],
   "source": [
    "def right_proj_rep_invariant_phase_from_environments_1(case1, case2):\n",
    "    v1 = case1.right_projected_symmetry_state\n",
    "    v1 = normalise_scaled_unitary(v1)\n",
    "\n",
    "    #print(np.round(npc.tensordot(v1, v1.conj(), [['vR',], ['vR*']]).to_ndarray()), 2)\n",
    "\n",
    "    v2 = case2.right_projected_symmetry_state\n",
    "\n",
    "    v2 = normalise_scaled_unitary(v2)\n",
    "\n",
    "    #print(np.round(npc.tensordot(v2, v2.conj(), [['vR',], ['vR*']]).to_ndarray()), 2)\n",
    "\n",
    "    t = reduce(\n",
    "        multiply_right_environments,\n",
    "        [v1, v2, v1.conj(), v2.conj()]\n",
    "    )\n",
    "\n",
    "    exp = npc.trace(t)\n",
    "    phase = exp/np.abs(exp)\n",
    "\n",
    "    return phase"
   ]
  },
  {
   "cell_type": "code",
   "execution_count": 31,
   "id": "bda58b23-c782-4cf9-b89d-30e026c8d07e",
   "metadata": {},
   "outputs": [
    {
     "data": {
      "text/plain": [
       "[<SPTOptimization.SymmetryActionWithBoundaryUnitaries.SymmetryActionWithBoundaryUnitaries at 0x73840723f390>,\n",
       " <SPTOptimization.SymmetryActionWithBoundaryUnitaries.SymmetryActionWithBoundaryUnitaries at 0x738406adb250>,\n",
       " <SPTOptimization.SymmetryActionWithBoundaryUnitaries.SymmetryActionWithBoundaryUnitaries at 0x738406843110>,\n",
       " <SPTOptimization.SymmetryActionWithBoundaryUnitaries.SymmetryActionWithBoundaryUnitaries at 0x7384074f8290>]"
      ]
     },
     "execution_count": 31,
     "metadata": {},
     "output_type": "execute_result"
    }
   ],
   "source": [
    "cases[0]"
   ]
  },
  {
   "cell_type": "code",
   "execution_count": 32,
   "id": "105a6b4f-36a5-42af-8cf7-a71194f10e88",
   "metadata": {},
   "outputs": [],
   "source": [
    "from itertools import combinations\n",
    "from functools import reduce"
   ]
  },
  {
   "cell_type": "code",
   "execution_count": 35,
   "id": "c4d0b6e0-cf6f-4b29-b26d-7725cf48ddce",
   "metadata": {},
   "outputs": [],
   "source": [
    "phases = list()\n",
    "\n",
    "for c in cases:\n",
    "    case_pairs = list(combinations(c[1:], 2))\n",
    "    \n",
    "    l = [\n",
    "        right_proj_rep_invariant_phase_from_environments_1(c1, c2)\n",
    "        for c1, c2 in case_pairs\n",
    "    ]\n",
    "\n",
    "    phases.append(l)"
   ]
  },
  {
   "cell_type": "code",
   "execution_count": 36,
   "id": "90d4cd75-ea7c-4031-a40d-08c5e1f047e9",
   "metadata": {},
   "outputs": [
    {
     "data": {
      "text/plain": [
       "[[(-1+0j), (-1+0j), (-1+0j)],\n",
       " [(-1+0j), (-1+0j), (-1+0j)],\n",
       " [(-1+0j), (-1+0j), (-1+0j)],\n",
       " [(-1+0j), (-1+0j), (-1+0j)],\n",
       " [(-1+0j), (-1+0j), (-1+0j)],\n",
       " [(-1+0j), (-1+0j), (-1+0j)],\n",
       " [(-1+0j), (-1+0j), (-1+0j)],\n",
       " [(-0.9999999999999999+0j),\n",
       "  (-0.9999999999999999+0j),\n",
       "  (-0.9999999999999999+0j)],\n",
       " [(-1+0j), (-1+0j), (-1+0j)],\n",
       " [(-1+0j), (-1+0j), (-0.9999999999999999+0j)],\n",
       " [(1+0j), (-1+0j), (-1+0j)],\n",
       " [(1+0j), (1+0j), (1+0j)],\n",
       " [(1+0j), (1+0j), (1+0j)],\n",
       " [(1+0j), (1+0j), (1+0j)],\n",
       " [(1+0j), (1+0j), (1+0j)],\n",
       " [(1+0j), (1+0j), (1+0j)],\n",
       " [(1+0j), (1+0j), (1+0j)],\n",
       " [(1+0j), (1+0j), (1+0j)],\n",
       " [(1+0j), (1+0j), (1+0j)],\n",
       " [(1+0j), (1+0j), (1+0j)],\n",
       " [(0.9999999999999999+0j), (0.9999999999999999+0j), (0.9999999999999999+0j)]]"
      ]
     },
     "execution_count": 36,
     "metadata": {},
     "output_type": "execute_result"
    }
   ],
   "source": [
    "phases"
   ]
  },
  {
   "cell_type": "code",
   "execution_count": null,
   "id": "fc746ccf-de08-4b08-9265-f23ea2b01e4d",
   "metadata": {},
   "outputs": [],
   "source": []
  }
 ],
 "metadata": {
  "kernelspec": {
   "display_name": "num_spt_venv_p11",
   "language": "python",
   "name": "num_spt_venv_p11"
  },
  "language_info": {
   "codemirror_mode": {
    "name": "ipython",
    "version": 3
   },
   "file_extension": ".py",
   "mimetype": "text/x-python",
   "name": "python",
   "nbconvert_exporter": "python",
   "pygments_lexer": "ipython3",
   "version": "3.11.11"
  }
 },
 "nbformat": 4,
 "nbformat_minor": 5
}
