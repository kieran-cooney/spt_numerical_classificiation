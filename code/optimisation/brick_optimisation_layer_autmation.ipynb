{
 "cells": [
  {
   "cell_type": "markdown",
   "id": "5f2205a4-2c74-4cf5-9ad1-9d65bd13bed2",
   "metadata": {},
   "source": [
    "# Brick optimisation layer automation\n",
    "\n",
    "Created 20/08/2024\n",
    "\n",
    "Objectives:\n",
    "* Automate layer optimisation from \"larger_unitaries\" notebook to check optimisation performance on deeper layers of unitaries.\n",
    "* Multiply resulting MPOs, check cohomology"
   ]
  },
  {
   "cell_type": "markdown",
   "id": "9ad0db4d-805c-4403-9d48-c71d523d572f",
   "metadata": {},
   "source": [
    "# Package imports"
   ]
  },
  {
   "cell_type": "code",
   "execution_count": 1,
   "id": "ecb41ea3-927f-4efa-aebe-ce15784aa037",
   "metadata": {},
   "outputs": [],
   "source": [
    "import sys\n",
    "sys.path.append('../')"
   ]
  },
  {
   "cell_type": "code",
   "execution_count": 2,
   "id": "4a525ec6-f0c8-47ee-8b0b-345bf0ef8bd3",
   "metadata": {},
   "outputs": [],
   "source": [
    "import h5py\n",
    "from tenpy.tools import hdf5_io\n",
    "import tenpy\n",
    "import tenpy.linalg.np_conserved as npc\n",
    "\n",
    "import os"
   ]
  },
  {
   "cell_type": "code",
   "execution_count": 3,
   "id": "b22092ac-9191-4a2d-b568-8680c3687185",
   "metadata": {},
   "outputs": [],
   "source": [
    "from functools import reduce\n",
    "from operator import mul"
   ]
  },
  {
   "cell_type": "code",
   "execution_count": 4,
   "id": "214f688a-c657-4810-b4d1-b1247deff62c",
   "metadata": {},
   "outputs": [],
   "source": [
    "import numpy as np\n",
    "import matplotlib.pyplot as plt"
   ]
  },
  {
   "cell_type": "code",
   "execution_count": 5,
   "id": "b8dec68d-a5b3-4383-ab44-567a9a5981b3",
   "metadata": {},
   "outputs": [],
   "source": [
    "from SPTOptimization.SymmetryActionWithBoundaryUnitaries import SymmetryActionWithBoundaryUnitaries\n",
    "\n",
    "from SPTOptimization.Optimizers.OneSiteSolver import OneSiteSolver\n",
    "\n",
    "from SPTOptimization.utils import (\n",
    "    to_npc_array,\n",
    "    get_right_identity_environment\n",
    ")\n",
    "\n",
    "from SPTOptimization.Optimizers.utils import (\n",
    "    one_site_optimization_sweep_right\n",
    ")"
   ]
  },
  {
   "cell_type": "code",
   "execution_count": 6,
   "id": "b7461fe3-41a3-492f-b018-8e32e27a7300",
   "metadata": {},
   "outputs": [],
   "source": [
    "import re"
   ]
  },
  {
   "cell_type": "markdown",
   "id": "c69a8a47-e298-4c4c-97f7-a6157da4e15f",
   "metadata": {},
   "source": [
    "# Load data"
   ]
  },
  {
   "cell_type": "code",
   "execution_count": 7,
   "id": "210d7dcc-b7ae-4f06-8429-84177bec47d3",
   "metadata": {},
   "outputs": [],
   "source": [
    "DATA_DIR = r\"../data/transverse_cluster_200_site_dmrg\""
   ]
  },
  {
   "cell_type": "code",
   "execution_count": 8,
   "id": "52736de2-8178-4035-9861-2f17b8d972fc",
   "metadata": {},
   "outputs": [],
   "source": [
    "f_name = DATA_DIR + r\"/0_90.h5\""
   ]
  },
  {
   "cell_type": "code",
   "execution_count": 9,
   "id": "294bd63f-24bb-46d4-9716-76d74e82b013",
   "metadata": {},
   "outputs": [
    {
     "data": {
      "text/plain": [
       "'../data/transverse_cluster_200_site_dmrg/0_90.h5'"
      ]
     },
     "execution_count": 9,
     "metadata": {},
     "output_type": "execute_result"
    }
   ],
   "source": [
    "f_name"
   ]
  },
  {
   "cell_type": "code",
   "execution_count": 10,
   "id": "68e653fc-625c-4010-ac8e-f7740131b8cc",
   "metadata": {},
   "outputs": [],
   "source": [
    "with h5py.File(f_name, 'r') as f:\n",
    "    data = hdf5_io.load_from_hdf5(f)\n",
    "    test_psi = data['wavefunction']"
   ]
  },
  {
   "cell_type": "markdown",
   "id": "b4c1e616-c034-404b-b59e-196d1eaac475",
   "metadata": {},
   "source": [
    "# Definitons"
   ]
  },
  {
   "cell_type": "code",
   "execution_count": 11,
   "id": "63506364-f535-4c0f-8c5f-8839c69f7b9d",
   "metadata": {},
   "outputs": [],
   "source": [
    "MAX_VIRTUAL_BOND_DIM = 8"
   ]
  },
  {
   "cell_type": "code",
   "execution_count": 12,
   "id": "513d7288-c641-4071-a4a3-652787d1f98c",
   "metadata": {},
   "outputs": [],
   "source": [
    "np_I = np.array([[1,0],[0,1]])\n",
    "np_X = np.array([[0,1],[1,0]])\n",
    "np_Y = np.array([[0,-1j],[1j,0]])\n",
    "np_Z = np.array([[1,0],[0,-1]])"
   ]
  },
  {
   "cell_type": "code",
   "execution_count": 13,
   "id": "2a78a62e-37eb-4baf-98ba-d6a94d599bec",
   "metadata": {},
   "outputs": [],
   "source": [
    "npc_I = to_npc_array(np_I)\n",
    "npc_X = to_npc_array(np_X)\n",
    "npc_Y = to_npc_array(np_Y)\n",
    "npc_Z = to_npc_array(np_Z)"
   ]
  },
  {
   "cell_type": "code",
   "execution_count": 14,
   "id": "83f57221-30e0-4de5-b117-a5f6fd32f6ae",
   "metadata": {},
   "outputs": [],
   "source": [
    "test = SymmetryActionWithBoundaryUnitaries(\n",
    "    test_psi,\n",
    "    [np_X, np_I]*50\n",
    ")"
   ]
  },
  {
   "cell_type": "code",
   "execution_count": 15,
   "id": "62e39a51-442f-4d7b-a183-7840570aeb27",
   "metadata": {},
   "outputs": [],
   "source": [
    "test.compute_svd_symmetry_action()"
   ]
  },
  {
   "cell_type": "code",
   "execution_count": 16,
   "id": "d9bcfc72-8623-49d1-ab56-1bf97614f173",
   "metadata": {},
   "outputs": [
    {
     "data": {
      "text/plain": [
       "<npc.Array shape=(8, 8) labels=['vR', 'vR*']>"
      ]
     },
     "execution_count": 16,
     "metadata": {},
     "output_type": "execute_result"
    }
   ],
   "source": [
    "test.right_projected_symmetry_state"
   ]
  },
  {
   "cell_type": "code",
   "execution_count": 17,
   "id": "bd489263-5d26-4c1f-8a79-275c932cc106",
   "metadata": {},
   "outputs": [
    {
     "data": {
      "text/plain": [
       "<npc.Array shape=(8, 8) labels=['vL', 'vL*']>"
      ]
     },
     "execution_count": 17,
     "metadata": {},
     "output_type": "execute_result"
    }
   ],
   "source": [
    "test.left_projected_symmetry_state"
   ]
  },
  {
   "cell_type": "code",
   "execution_count": 18,
   "id": "6bac53fa-b629-46fc-a145-f932a0af6f18",
   "metadata": {},
   "outputs": [],
   "source": [
    "left_trivial_leg_charge = tenpy.linalg.charges.LegCharge(\n",
    "    tenpy.linalg.charges.ChargeInfo([], []),\n",
    "    [0,1],\n",
    "    [[]],\n",
    "    qconj=1\n",
    ")"
   ]
  },
  {
   "cell_type": "code",
   "execution_count": 19,
   "id": "44f34cb7-0888-474b-9483-f4956951fc31",
   "metadata": {},
   "outputs": [],
   "source": [
    "right_trivial_leg_charge = tenpy.linalg.charges.LegCharge(\n",
    "    tenpy.linalg.charges.ChargeInfo([], []),\n",
    "    [0,1],\n",
    "    [[]],\n",
    "    qconj=-1\n",
    ")"
   ]
  },
  {
   "cell_type": "markdown",
   "id": "38c05308-5c2c-4c60-8eb5-7446af7f85d7",
   "metadata": {},
   "source": [
    "## Functions"
   ]
  },
  {
   "cell_type": "markdown",
   "id": "fbf28b75-1454-41f0-a17d-dd1d8891cb81",
   "metadata": {},
   "source": [
    "### Leg and label functions"
   ]
  },
  {
   "cell_type": "code",
   "execution_count": 20,
   "id": "0cc65d77-76f3-4159-b2e6-e0ab8429c271",
   "metadata": {},
   "outputs": [],
   "source": [
    "P_LEG_LABEL_REGEX_STRING = r\"^p\\d*$\"\n",
    "p_leg_pattern = re.compile(P_LEG_LABEL_REGEX_STRING)\n",
    "\n",
    "def is_single_physical_leg_label(label):\n",
    "    return bool(p_leg_pattern.match(label))"
   ]
  },
  {
   "cell_type": "code",
   "execution_count": 21,
   "id": "af651898-f853-4710-bfa7-2928d6bb8d55",
   "metadata": {},
   "outputs": [],
   "source": [
    "def is_grouped_physical_leg_label(leg_label):\n",
    "    head, *body, tail = leg_label\n",
    "    if (head != '(') or (tail != ')'):\n",
    "        return False\n",
    "\n",
    "    body = ''.join(body)\n",
    "    legs = body.split('.')\n",
    "\n",
    "    return all(is_single_physical_leg_label(l) for l in legs)"
   ]
  },
  {
   "cell_type": "code",
   "execution_count": 22,
   "id": "1b14fc57-4f21-432e-b2b9-6dcafc179ef2",
   "metadata": {},
   "outputs": [],
   "source": [
    "def is_physical_leg_label(label):\n",
    "    out = (\n",
    "        is_single_physical_leg_label(label)\n",
    "        or is_grouped_physical_leg_label(label)\n",
    "    )\n",
    "\n",
    "    return out"
   ]
  },
  {
   "cell_type": "code",
   "execution_count": 23,
   "id": "949e51b3-8bd1-409f-bb98-0a57d1c99888",
   "metadata": {},
   "outputs": [],
   "source": [
    "def extract_single_physical_leg_label_from_tensor(b):\n",
    "    out = next(\n",
    "        l for l in b.get_leg_labels()\n",
    "        if is_single_physical_leg_label(l)\n",
    "    )\n",
    "\n",
    "    return out"
   ]
  },
  {
   "cell_type": "code",
   "execution_count": 24,
   "id": "1d03a2c8-1e74-4a87-abec-67ec6857100c",
   "metadata": {},
   "outputs": [],
   "source": [
    "def conjugate_single_physical_leg_label(label):\n",
    "    return label + '*'"
   ]
  },
  {
   "cell_type": "code",
   "execution_count": 25,
   "id": "16f3235f-6efc-4739-8dae-a42093c12370",
   "metadata": {},
   "outputs": [],
   "source": [
    "def conjugate_grouped_physical_leg_label(label):\n",
    "    _, *body, _ = label\n",
    "    single_labels = ''.join(body).split('.')\n",
    "\n",
    "    conjugate_labels = [\n",
    "        conjugate_single_physical_leg_label(l)\n",
    "        for l in single_labels\n",
    "    ]\n",
    "\n",
    "    conjugate_body = '.'.join(conjugate_labels)\n",
    "    out = '(' + conjugate_body + ')'\n",
    "    \n",
    "    return out"
   ]
  },
  {
   "cell_type": "code",
   "execution_count": 26,
   "id": "8dab4c14-1fb5-4933-b68c-204cc96541c4",
   "metadata": {},
   "outputs": [],
   "source": [
    "def conjugate_leg_label(label):\n",
    "    if is_single_physical_leg_label(label):\n",
    "        return conjugate_single_physical_leg_label(label)\n",
    "    elif is_grouped_physical_leg_label(label):\n",
    "        return conjugate_grouped_physical_leg_label(label)\n",
    "    else:\n",
    "        raise ValueError"
   ]
  },
  {
   "cell_type": "code",
   "execution_count": 27,
   "id": "8e00e4ef-bb2b-4229-8e92-5e07ec9931b4",
   "metadata": {},
   "outputs": [],
   "source": [
    "def get_physical_leg_labels(t):\n",
    "    out = [\n",
    "        ll for ll in t.get_leg_labels()\n",
    "        if is_physical_leg_label(ll)\n",
    "    ]\n",
    "\n",
    "    return out"
   ]
  },
  {
   "cell_type": "markdown",
   "id": "818c2f27-1431-42a7-ab63-9d81972ed7e2",
   "metadata": {},
   "source": [
    "### Other"
   ]
  },
  {
   "cell_type": "code",
   "execution_count": 28,
   "id": "d2464abb-fd7e-469a-a7d4-e604e24e14bc",
   "metadata": {},
   "outputs": [],
   "source": [
    "def contract_virtual_legs(tl, tr):\n",
    "    return npc.tensordot(tl, tr, ['vR', 'vL'])"
   ]
  },
  {
   "cell_type": "code",
   "execution_count": 29,
   "id": "ac3f7a01-08a2-4937-8308-f12f637f38b6",
   "metadata": {},
   "outputs": [],
   "source": [
    "def combine_tensors(tensors):\n",
    "    out = reduce(contract_virtual_legs, tensors)\n",
    "\n",
    "    leg_labels = [\n",
    "        extract_single_physical_leg_label_from_tensor(t)\n",
    "        for t in tensors\n",
    "    ]\n",
    "\n",
    "    out = out.combine_legs(leg_labels)\n",
    "\n",
    "    return out"
   ]
  },
  {
   "cell_type": "code",
   "execution_count": 30,
   "id": "6b01c411-0a2a-499d-b220-b99e197ecbd8",
   "metadata": {},
   "outputs": [],
   "source": [
    "def combine_b_tensors(b_tensors):\n",
    "    renamed_tensors = [\n",
    "        b.replace_label('p', f'p{i}')\n",
    "        for i, b in enumerate(b_tensors)\n",
    "    ]\n",
    "\n",
    "    return combine_tensors(renamed_tensors)"
   ]
  },
  {
   "cell_type": "code",
   "execution_count": 31,
   "id": "41848361-7394-4eb5-8006-8ab618c0a274",
   "metadata": {},
   "outputs": [],
   "source": [
    "def get_identity_operator(mps_tensor):\n",
    "    p_leg_label = get_physical_leg_labels(mps_tensor)[0]\n",
    "    p_leg = mps_tensor.get_leg(p_leg_label)\n",
    "    p_leg_label_conj = conjugate_leg_label(p_leg_label)\n",
    "\n",
    "    out = npc.diag(\n",
    "        1,\n",
    "        leg=p_leg,\n",
    "        dtype='complex',\n",
    "        labels=[p_leg_label, p_leg_label_conj]\n",
    "    )\n",
    "\n",
    "    return out"
   ]
  },
  {
   "cell_type": "code",
   "execution_count": 32,
   "id": "0b0386d2-79d0-45ab-98ce-ead4ca433c30",
   "metadata": {},
   "outputs": [],
   "source": [
    "def svd_reduce_split_tensor(t, max_inner_dim=MAX_VIRTUAL_BOND_DIM, form='B'):\n",
    "    # To-do: Add form conditions\n",
    "    U, S, VH = npc.svd(t, compute_uv=True, inner_labels=['vR', 'vL'])\n",
    "\n",
    "    # Update this code for other forms. Check tenpy docks.\n",
    "    # Create U, V exponents and plug into for loop.\n",
    "    for i in range(U.shape[1]):\n",
    "        U[:, i] *= S[i]\n",
    "\n",
    "    if max_inner_dim is not None:\n",
    "        U = U[:, :max_inner_dim]\n",
    "        VH = VH[:max_inner_dim, :]\n",
    "\n",
    "    return U, VH"
   ]
  },
  {
   "cell_type": "code",
   "execution_count": 109,
   "id": "d2523496-e338-46ef-a2e2-5a8e8dbcba5f",
   "metadata": {},
   "outputs": [],
   "source": [
    "def split_combined_b(b, max_virtual_bond_dim=MAX_VIRTUAL_BOND_DIM,\n",
    "                     p_leg_labels=None):\n",
    "    t = b.split_legs()\n",
    "\n",
    "    num_sites = t.ndim - 2\n",
    "    if p_leg_labels is None:\n",
    "        p_leg_labels = [f'p{i}' for i in range(num_sites)]\n",
    "\n",
    "    out_bs = list()\n",
    "\n",
    "    for i, ll in enumerate(p_leg_labels[:-1]):\n",
    "        tail_legs = p_leg_labels[(i+1):]\n",
    "        t = t.combine_legs([['vL', ll], ['vR', *tail_legs]])\n",
    "\n",
    "        U, VH = svd_reduce_split_tensor(\n",
    "            t,\n",
    "            max_inner_dim=max_virtual_bond_dim,\n",
    "            form='B'\n",
    "        )\n",
    "\n",
    "        bl = U.split_legs().replace_label(ll, 'p')\n",
    "        bl.itranspose(['vL', 'p', 'vR'])\n",
    "        out_bs.append(bl)\n",
    "\n",
    "        t = VH.split_legs()\n",
    "\n",
    "    bl = t.replace_label(p_leg_labels[-1], 'p')\n",
    "    bl.itranspose(['vL', 'p', 'vR'])\n",
    "    out_bs.append(bl)\n",
    "\n",
    "    return out_bs"
   ]
  },
  {
   "cell_type": "code",
   "execution_count": 34,
   "id": "a02ec1af-d2c1-4766-a688-01946f284490",
   "metadata": {},
   "outputs": [],
   "source": [
    "def split_b(b, max_virtual_bond_dim=MAX_VIRTUAL_BOND_DIM,\n",
    "                     p_leg_labels=None):\n",
    "    leg_label = get_physical_leg_labels(b)[0]\n",
    "\n",
    "    if is_single_physical_leg_label(leg_label):\n",
    "        return [b,]\n",
    "    elif is_grouped_physical_leg_label(leg_label):\n",
    "        return split_combined_b(b, max_virtual_bond_dim, p_leg_labels)\n",
    "    else:\n",
    "        raise ValueError"
   ]
  },
  {
   "cell_type": "code",
   "execution_count": 108,
   "id": "5dddedee-f5a2-4dc8-90e1-7afac18a0307",
   "metadata": {},
   "outputs": [],
   "source": [
    "def split_combined_u(u, max_virtual_bond_dim=MAX_VIRTUAL_BOND_DIM,\n",
    "                     p_leg_labels=None):\n",
    "    t = u.split_legs()\n",
    "    num_sites = t.ndim //2\n",
    "    \n",
    "    if p_leg_labels is None:\n",
    "        p_leg_labels = [f'p{i}' for i in range(num_sites)]\n",
    "\n",
    "    p_leg_labels_hc = [l+'*' for l in p_leg_labels]\n",
    "    out_ws = list()\n",
    "\n",
    "    for i, (ll, ll_hc) in enumerate(zip(p_leg_labels[:-1], p_leg_labels_hc[:-1])):\n",
    "        tail_legs = p_leg_labels[(i+1):]\n",
    "        tail_legs_hc = p_leg_labels_hc[(i+1):]\n",
    "\n",
    "        left_leg_labels = [ll, ll_hc]\n",
    "        if 'vL' in t.get_leg_labels():\n",
    "            left_leg_labels.append('vL')\n",
    "    \n",
    "        t = t.combine_legs([left_leg_labels, [*tail_legs, *tail_legs_hc]])\n",
    "\n",
    "        U, VH = svd_reduce_split_tensor(\n",
    "            t,\n",
    "            max_inner_dim=max_virtual_bond_dim,\n",
    "            form='B'\n",
    "        )\n",
    "\n",
    "        wl = U.split_legs().replace_labels([ll, ll_hc], ['p', 'p*'])\n",
    "        #wl.itranspose(['p', 'p*'])\n",
    "        out_ws.append(wl)\n",
    "\n",
    "        t = VH.split_legs()\n",
    "\n",
    "    wl = t.replace_labels(\n",
    "        [p_leg_labels[-1], p_leg_labels_hc[-1]],\n",
    "        ['p', 'p*']\n",
    "    )\n",
    "    #wl.itranspose(['p', 'p*'])\n",
    "    out_ws.append(wl)\n",
    "\n",
    "    out_ws[0] = (\n",
    "        out_ws[0]\n",
    "        .add_leg(left_trivial_leg_charge, 0, label='vL')\n",
    "    )\n",
    "    \n",
    "    out_ws[-1] = (\n",
    "        out_ws[-1]\n",
    "        .add_leg(right_trivial_leg_charge, 0, label='vR')\n",
    "    )\n",
    "\n",
    "    return out_ws"
   ]
  },
  {
   "cell_type": "code",
   "execution_count": 36,
   "id": "a28056d8-7950-4661-b4b8-0b73e1f6cf97",
   "metadata": {},
   "outputs": [],
   "source": [
    "def split_u(u, max_virtual_bond_dim=MAX_VIRTUAL_BOND_DIM,\n",
    "            p_leg_labels=None):\n",
    "    leg_label = get_physical_leg_labels(u)[0]\n",
    "\n",
    "    if is_single_physical_leg_label(leg_label):\n",
    "        return [unitary_to_mpo_tensor(u),]\n",
    "    elif is_grouped_physical_leg_label(leg_label):\n",
    "        return split_combined_u(u, max_virtual_bond_dim, p_leg_labels)\n",
    "    else:\n",
    "        raise ValueError\n",
    "    "
   ]
  },
  {
   "cell_type": "code",
   "execution_count": 37,
   "id": "bc71056c-f25f-4d68-b694-2a26c0ad5790",
   "metadata": {},
   "outputs": [],
   "source": [
    "def unitary_to_mpo_tensor(u):\n",
    "    out = (\n",
    "        u\n",
    "        .add_leg(left_trivial_leg_charge, 0, label='vL')\n",
    "        .add_leg(right_trivial_leg_charge, 0, label='vR')\n",
    "    )\n",
    "\n",
    "    return out"
   ]
  },
  {
   "cell_type": "code",
   "execution_count": 38,
   "id": "7b9fb468-6328-4ae0-b25a-652cb13032c1",
   "metadata": {},
   "outputs": [],
   "source": [
    "def multiply_individual_mpo_tensors(w1, w2):\n",
    "    w1 = w1.replace_labels(['vR', 'vL'], ['vR1', 'vL1'])\n",
    "    w2 = w2.replace_labels(['vR', 'vL'], ['vR2', 'vL2'])\n",
    "\n",
    "    w = (\n",
    "        npc.tensordot(w1, w2, [['p'], ['p*']])\n",
    "        .combine_legs([['vR1', 'vR2'], ['vL1', 'vL2']])\n",
    "        .replace_labels(['(vR1.vR2)', '(vL1.vL2)'], ['vR', 'vL'])\n",
    "    )\n",
    "\n",
    "    return w"
   ]
  },
  {
   "cell_type": "code",
   "execution_count": 39,
   "id": "f9a3a71f-0d3f-4ecf-8eec-c38f861561ef",
   "metadata": {},
   "outputs": [],
   "source": [
    "def group_elements(l, group_size, offset=0):\n",
    "    first, rest = l[:offset], l[offset:]\n",
    "\n",
    "    num_rest_groups = ((len(rest)-1)//group_size) + 1\n",
    "\n",
    "    groups = [first,] if first else list()\n",
    "\n",
    "    for i in range(num_rest_groups):\n",
    "        first_index = i*group_size\n",
    "        last_index = (i+1)*group_size\n",
    "        groups.append(rest[first_index:last_index])\n",
    "\n",
    "    return groups"
   ]
  },
  {
   "cell_type": "code",
   "execution_count": 40,
   "id": "96791fa9-9917-4440-b847-2bc4a3eb39e5",
   "metadata": {},
   "outputs": [],
   "source": [
    "def combine_grouped_b_tensors(grouped_bs):\n",
    "    out = list()\n",
    "\n",
    "    for group in grouped_bs:\n",
    "        if len(group) == 1:\n",
    "            out.append(group[0])\n",
    "        else:\n",
    "            out.append(combine_b_tensors(group))\n",
    "\n",
    "    return out"
   ]
  },
  {
   "cell_type": "code",
   "execution_count": 122,
   "id": "c78589cc-aa65-4aa1-9d53-0cf61702e92c",
   "metadata": {},
   "outputs": [],
   "source": [
    "def reduce_virtual_mpo_dim(wl, wr, max_virtual_bond_dim=MAX_VIRTUAL_BOND_DIM):\n",
    "    # wl = wl.replace_labels(['p', 'p*'], ['pl', 'pl*'])\n",
    "\n",
    "    wl = wl.combine_legs(['p', 'vL', 'p*'])\n",
    "    wr = wr.combine_legs(['p', 'vR', 'p*'])\n",
    "    w = npc.tensordot(wl, wr, ['vR', 'vL'])\n",
    "\n",
    "    wl, wr = svd_reduce_split_tensor(\n",
    "        w,\n",
    "        max_inner_dim=max_virtual_bond_dim,\n",
    "        form='B'\n",
    "    )\n",
    "\n",
    "    wl = wl.split_legs()\n",
    "    wr = wr.split_legs()\n",
    "\n",
    "    return wl, wr"
   ]
  },
  {
   "cell_type": "code",
   "execution_count": 123,
   "id": "e7470053-b5df-45e0-b302-d7ad19d83f30",
   "metadata": {},
   "outputs": [],
   "source": [
    "def multiply_mpos(top_ws, bottom_ws, max_virtual_bond_dim=MAX_VIRTUAL_BOND_DIM):\n",
    "    ws = list()\n",
    "    \n",
    "    for w1, w2 in zip(top_ws, bottom_ws):\n",
    "        w = multiply_individual_mpo_tensors(w1, w2)\n",
    "        ws.append(w)\n",
    "\n",
    "\n",
    "    for i in range(len(ws)-1):\n",
    "        ws[i], ws[i+1] = reduce_virtual_mpo_dim(\n",
    "            ws[i],\n",
    "            ws[i+1],\n",
    "            max_virtual_bond_dim=max_virtual_bond_dim\n",
    "        )\n",
    "\n",
    "    return ws"
   ]
  },
  {
   "cell_type": "markdown",
   "id": "808162ba-8e2a-40bf-adcb-84aff74b5b95",
   "metadata": {},
   "source": [
    "### Layer function"
   ]
  },
  {
   "cell_type": "code",
   "execution_count": 139,
   "id": "28b4dd32-ad86-4b30-8047-0b8ad440a194",
   "metadata": {},
   "outputs": [],
   "source": [
    "def optimise_layer(\n",
    "        left_environment,\n",
    "        top_b_tensors,\n",
    "        block_width,\n",
    "        block_offset,\n",
    "        expectations,\n",
    "        previous_mpo_w_tensors,\n",
    "        bottom_b_tensors=None,\n",
    "        num_iterations=1,\n",
    "        max_virtual_bond_dim=MAX_VIRTUAL_BOND_DIM\n",
    "    ):\n",
    "\n",
    "    if bottom_b_tensors is None:\n",
    "        bottom_b_tensors = top_b_tensors\n",
    "\n",
    "    top_grouped_bs = group_elements(\n",
    "        top_b_tensors,\n",
    "        block_width,\n",
    "        block_offset\n",
    "    )\n",
    "    bottom_grouped_bs = group_elements(\n",
    "        bottom_b_tensors,\n",
    "        block_width,\n",
    "        block_offset\n",
    "    )\n",
    "\n",
    "    top_combined_bs = combine_grouped_b_tensors(top_grouped_bs)\n",
    "    bottom_combined_bs = combine_grouped_b_tensors(bottom_grouped_bs)\n",
    "\n",
    "    unitaries = [\n",
    "        get_identity_operator(t) for t in top_combined_bs\n",
    "    ]\n",
    "    \n",
    "    expectations.append(list())\n",
    "\n",
    "    for _ in range(num_iterations):\n",
    "        exps, *_ = one_site_optimization_sweep_right(\n",
    "            left_environment,\n",
    "            top_combined_bs,\n",
    "            unitaries,\n",
    "            bottom_combined_bs\n",
    "        )\n",
    "\n",
    "        expectations[-1].append(exps)\n",
    "\n",
    "    for i, u in enumerate(unitaries):\n",
    "        b = top_combined_bs[i]\n",
    "        ll = get_physical_leg_labels(b)[0]\n",
    "        llh = conjugate_leg_label(ll)\n",
    "    \n",
    "        new_b = npc.tensordot(b, u, [[ll,], [llh,]])\n",
    "    \n",
    "        top_combined_bs[i] = new_b\n",
    "\n",
    "    new_top_bs = list()\n",
    "\n",
    "    for b in top_combined_bs:\n",
    "        new_top_bs.extend(split_b(b, max_virtual_bond_dim=max_virtual_bond_dim))\n",
    "\n",
    "    for i, b in enumerate(new_top_bs):\n",
    "        top_b_tensors[i] = b\n",
    "\n",
    "    current_unitary_w_tensors = list()\n",
    "\n",
    "    for u in unitaries:\n",
    "        current_unitary_w_tensors.extend(split_u(u, max_virtual_bond_dim=max_virtual_bond_dim))\n",
    "\n",
    "    if previous_mpo_w_tensors == []:\n",
    "        for w in current_unitary_w_tensors:\n",
    "            previous_mpo_w_tensors.append(w)\n",
    "    else:\n",
    "        new_mpo_w_tensors = multiply_mpos(\n",
    "            previous_mpo_w_tensors,\n",
    "            current_unitary_w_tensors,\n",
    "            max_virtual_bond_dim=max_virtual_bond_dim\n",
    "        )\n",
    "\n",
    "        for i, w in enumerate(new_mpo_w_tensors):\n",
    "            previous_mpo_w_tensors[i] = w"
   ]
  },
  {
   "cell_type": "markdown",
   "id": "4de20b96-dc26-422f-87aa-d0220ebeb7cf",
   "metadata": {},
   "source": [
    "# Optimisation"
   ]
  },
  {
   "cell_type": "markdown",
   "id": "8353566d-2126-4355-bf4e-7148ee47c36c",
   "metadata": {},
   "source": [
    "## Layer by layer test"
   ]
  },
  {
   "cell_type": "code",
   "execution_count": 44,
   "id": "5cceb5cb-84a8-48a5-978a-ad9c794af54b",
   "metadata": {},
   "outputs": [
    {
     "data": {
      "text/plain": [
       "149"
      ]
     },
     "execution_count": 44,
     "metadata": {},
     "output_type": "execute_result"
    }
   ],
   "source": [
    "test.right_symmetry_index"
   ]
  },
  {
   "cell_type": "code",
   "execution_count": 62,
   "id": "1cf15a5e-8b2b-4f59-884f-5f3b8faf527d",
   "metadata": {},
   "outputs": [],
   "source": [
    "bs = [\n",
    "    test_psi.get_B(i)\n",
    "    for k, i in enumerate(range(test.right_symmetry_index + 1, test.right_symmetry_index + 26))\n",
    "]"
   ]
  },
  {
   "cell_type": "code",
   "execution_count": 63,
   "id": "00a7dcf9-7193-4f7e-819c-573fae679ae1",
   "metadata": {},
   "outputs": [
    {
     "data": {
      "text/plain": [
       "25"
      ]
     },
     "execution_count": 63,
     "metadata": {},
     "output_type": "execute_result"
    }
   ],
   "source": [
    "len(bs)"
   ]
  },
  {
   "cell_type": "code",
   "execution_count": 65,
   "id": "143f2fa3-e2f1-4e82-a3ea-53869d7b8b55",
   "metadata": {},
   "outputs": [],
   "source": [
    "left_environment = test.right_projected_symmetry_state\n",
    "bottom_b_tensors = bs\n",
    "top_b_tensors = bs.copy()\n",
    "block_width = 3\n",
    "expectations = list()\n",
    "previous_mpo_w_tensors = []\n",
    "num_iterations = 3"
   ]
  },
  {
   "cell_type": "code",
   "execution_count": 66,
   "id": "4aae7322-bdcc-4ca6-a98c-6f5793ef3227",
   "metadata": {},
   "outputs": [
    {
     "data": {
      "text/plain": [
       "(25, 25, 0)"
      ]
     },
     "execution_count": 66,
     "metadata": {},
     "output_type": "execute_result"
    }
   ],
   "source": [
    "len(bottom_b_tensors), len(top_b_tensors), len(previous_mpo_w_tensors)"
   ]
  },
  {
   "cell_type": "code",
   "execution_count": 67,
   "id": "96e6b6b0-9ece-40e1-96bf-7dcb2dc808af",
   "metadata": {},
   "outputs": [],
   "source": [
    "optimise_layer(\n",
    "    left_environment,\n",
    "    top_b_tensors,\n",
    "    block_width,\n",
    "    0,\n",
    "    expectations,\n",
    "    previous_mpo_w_tensors,\n",
    "    bottom_b_tensors,\n",
    "    num_iterations\n",
    ")"
   ]
  },
  {
   "cell_type": "code",
   "execution_count": 68,
   "id": "d57440df-564d-4edf-b027-50889edb2e07",
   "metadata": {},
   "outputs": [
    {
     "data": {
      "text/plain": [
       "[[[1.1772577977037573,\n",
       "   1.1786923957132351,\n",
       "   1.1786923957132347,\n",
       "   1.1786923957132354,\n",
       "   1.1786923957132354,\n",
       "   1.1786923957132358,\n",
       "   1.178692395713236,\n",
       "   1.1786923957132371,\n",
       "   1.1786923957132367],\n",
       "  [1.1786924590661374,\n",
       "   1.178692459276027,\n",
       "   1.1786924592760268,\n",
       "   1.1786924592760282,\n",
       "   1.1786924592760273,\n",
       "   1.178692459276027,\n",
       "   1.1786924592760264,\n",
       "   1.178692459276027,\n",
       "   1.1786924592760268],\n",
       "  [1.1786924592777763,\n",
       "   1.1786924592777923,\n",
       "   1.1786924592777919,\n",
       "   1.1786924592777919,\n",
       "   1.1786924592777916,\n",
       "   1.1786924592777923,\n",
       "   1.1786924592777914,\n",
       "   1.1786924592777923,\n",
       "   1.178692459277792]]]"
      ]
     },
     "execution_count": 68,
     "metadata": {},
     "output_type": "execute_result"
    }
   ],
   "source": [
    "expectations"
   ]
  },
  {
   "cell_type": "code",
   "execution_count": 70,
   "id": "05f352d4-576c-475e-8459-cd50bd944ecd",
   "metadata": {},
   "outputs": [],
   "source": [
    "optimise_layer(\n",
    "    left_environment,\n",
    "    top_b_tensors,\n",
    "    block_width,\n",
    "    1,\n",
    "    expectations,\n",
    "    previous_mpo_w_tensors,\n",
    "    bottom_b_tensors,\n",
    "    num_iterations\n",
    ")"
   ]
  },
  {
   "cell_type": "code",
   "execution_count": 71,
   "id": "675089a0-8bc3-4a5a-9d57-60ed5592ae68",
   "metadata": {},
   "outputs": [
    {
     "data": {
      "text/plain": [
       "[[[1.1772577977037573,\n",
       "   1.1786923957132351,\n",
       "   1.1786923957132347,\n",
       "   1.1786923957132354,\n",
       "   1.1786923957132354,\n",
       "   1.1786923957132358,\n",
       "   1.178692395713236,\n",
       "   1.1786923957132371,\n",
       "   1.1786923957132367],\n",
       "  [1.1786924590661374,\n",
       "   1.178692459276027,\n",
       "   1.1786924592760268,\n",
       "   1.1786924592760282,\n",
       "   1.1786924592760273,\n",
       "   1.178692459276027,\n",
       "   1.1786924592760264,\n",
       "   1.178692459276027,\n",
       "   1.1786924592760268],\n",
       "  [1.1786924592777763,\n",
       "   1.1786924592777923,\n",
       "   1.1786924592777919,\n",
       "   1.1786924592777919,\n",
       "   1.1786924592777916,\n",
       "   1.1786924592777923,\n",
       "   1.1786924592777914,\n",
       "   1.1786924592777923,\n",
       "   1.178692459277792]],\n",
       " [[1.1759283311506579,\n",
       "   1.3036371285268888,\n",
       "   1.304319413990794,\n",
       "   1.3043274815077306,\n",
       "   1.3043293129967917,\n",
       "   1.3043293133943508,\n",
       "   1.3043293612794784,\n",
       "   1.3043293612956264,\n",
       "   1.3043293625071024],\n",
       "  [1.3043293625071033,\n",
       "   1.3043297813348427,\n",
       "   1.3043297920068855,\n",
       "   1.3043297924226895,\n",
       "   1.3043297925576955,\n",
       "   1.3043297926116986,\n",
       "   1.3043297926384672,\n",
       "   1.3043297926483937,\n",
       "   1.3043297926510231],\n",
       "  [1.3043297926510227,\n",
       "   1.3043297926519506,\n",
       "   1.304329792671913,\n",
       "   1.30432979268945,\n",
       "   1.3043297927124131,\n",
       "   1.3043297927354898,\n",
       "   1.304329792749635,\n",
       "   1.3043297927559907,\n",
       "   1.304329792757731]]]"
      ]
     },
     "execution_count": 71,
     "metadata": {},
     "output_type": "execute_result"
    }
   ],
   "source": [
    "expectations"
   ]
  },
  {
   "cell_type": "code",
   "execution_count": 72,
   "id": "6baa193d-f6b9-4234-a758-8ae43f85f8ae",
   "metadata": {},
   "outputs": [],
   "source": [
    "optimise_layer(\n",
    "    left_environment,\n",
    "    top_b_tensors,\n",
    "    block_width,\n",
    "    2,\n",
    "    expectations,\n",
    "    previous_mpo_w_tensors,\n",
    "    bottom_b_tensors,\n",
    "    num_iterations\n",
    ")"
   ]
  },
  {
   "cell_type": "code",
   "execution_count": 73,
   "id": "7df71596-7183-491d-84d3-69b9e9367283",
   "metadata": {},
   "outputs": [
    {
     "data": {
      "text/plain": [
       "[[[1.1772577977037573,\n",
       "   1.1786923957132351,\n",
       "   1.1786923957132347,\n",
       "   1.1786923957132354,\n",
       "   1.1786923957132354,\n",
       "   1.1786923957132358,\n",
       "   1.178692395713236,\n",
       "   1.1786923957132371,\n",
       "   1.1786923957132367],\n",
       "  [1.1786924590661374,\n",
       "   1.178692459276027,\n",
       "   1.1786924592760268,\n",
       "   1.1786924592760282,\n",
       "   1.1786924592760273,\n",
       "   1.178692459276027,\n",
       "   1.1786924592760264,\n",
       "   1.178692459276027,\n",
       "   1.1786924592760268],\n",
       "  [1.1786924592777763,\n",
       "   1.1786924592777923,\n",
       "   1.1786924592777919,\n",
       "   1.1786924592777919,\n",
       "   1.1786924592777916,\n",
       "   1.1786924592777923,\n",
       "   1.1786924592777914,\n",
       "   1.1786924592777923,\n",
       "   1.178692459277792]],\n",
       " [[1.1759283311506579,\n",
       "   1.3036371285268888,\n",
       "   1.304319413990794,\n",
       "   1.3043274815077306,\n",
       "   1.3043293129967917,\n",
       "   1.3043293133943508,\n",
       "   1.3043293612794784,\n",
       "   1.3043293612956264,\n",
       "   1.3043293625071024],\n",
       "  [1.3043293625071033,\n",
       "   1.3043297813348427,\n",
       "   1.3043297920068855,\n",
       "   1.3043297924226895,\n",
       "   1.3043297925576955,\n",
       "   1.3043297926116986,\n",
       "   1.3043297926384672,\n",
       "   1.3043297926483937,\n",
       "   1.3043297926510231],\n",
       "  [1.3043297926510227,\n",
       "   1.3043297926519506,\n",
       "   1.304329792671913,\n",
       "   1.30432979268945,\n",
       "   1.3043297927124131,\n",
       "   1.3043297927354898,\n",
       "   1.304329792749635,\n",
       "   1.3043297927559907,\n",
       "   1.304329792757731]],\n",
       " [[1.3024065053102976,\n",
       "   1.303763267854717,\n",
       "   1.3055523497073105,\n",
       "   1.3055549594271534,\n",
       "   1.3055550315489504,\n",
       "   1.3055550438388919,\n",
       "   1.305555045509513,\n",
       "   1.305555046271126,\n",
       "   1.305555046281636],\n",
       "  [1.3055563201755813,\n",
       "   1.3055565522636143,\n",
       "   1.3055565570784171,\n",
       "   1.3055565574308463,\n",
       "   1.305556557502841,\n",
       "   1.3055565575614894,\n",
       "   1.3055565575894104,\n",
       "   1.305556557599818,\n",
       "   1.305556557601796],\n",
       "  [1.3055565576432775,\n",
       "   1.30555655862069,\n",
       "   1.3055565591584601,\n",
       "   1.3055565591949634,\n",
       "   1.3055565592086815,\n",
       "   1.3055565592247707,\n",
       "   1.3055565592363356,\n",
       "   1.30555655924133,\n",
       "   1.3055565592423497]]]"
      ]
     },
     "execution_count": 73,
     "metadata": {},
     "output_type": "execute_result"
    }
   ],
   "source": [
    "expectations"
   ]
  },
  {
   "cell_type": "code",
   "execution_count": 74,
   "id": "3ae75187-4856-4660-a47f-7170902282eb",
   "metadata": {},
   "outputs": [],
   "source": [
    "optimise_layer(\n",
    "    left_environment,\n",
    "    top_b_tensors,\n",
    "    block_width,\n",
    "    0,\n",
    "    expectations,\n",
    "    previous_mpo_w_tensors,\n",
    "    bottom_b_tensors,\n",
    "    num_iterations\n",
    ")"
   ]
  },
  {
   "cell_type": "code",
   "execution_count": 75,
   "id": "64acb557-4a8e-4e0e-a6a3-c723c17b0e18",
   "metadata": {
    "scrolled": true
   },
   "outputs": [
    {
     "data": {
      "text/plain": [
       "[[[1.1772577977037573,\n",
       "   1.1786923957132351,\n",
       "   1.1786923957132347,\n",
       "   1.1786923957132354,\n",
       "   1.1786923957132354,\n",
       "   1.1786923957132358,\n",
       "   1.178692395713236,\n",
       "   1.1786923957132371,\n",
       "   1.1786923957132367],\n",
       "  [1.1786924590661374,\n",
       "   1.178692459276027,\n",
       "   1.1786924592760268,\n",
       "   1.1786924592760282,\n",
       "   1.1786924592760273,\n",
       "   1.178692459276027,\n",
       "   1.1786924592760264,\n",
       "   1.178692459276027,\n",
       "   1.1786924592760268],\n",
       "  [1.1786924592777763,\n",
       "   1.1786924592777923,\n",
       "   1.1786924592777919,\n",
       "   1.1786924592777919,\n",
       "   1.1786924592777916,\n",
       "   1.1786924592777923,\n",
       "   1.1786924592777914,\n",
       "   1.1786924592777923,\n",
       "   1.178692459277792]],\n",
       " [[1.1759283311506579,\n",
       "   1.3036371285268888,\n",
       "   1.304319413990794,\n",
       "   1.3043274815077306,\n",
       "   1.3043293129967917,\n",
       "   1.3043293133943508,\n",
       "   1.3043293612794784,\n",
       "   1.3043293612956264,\n",
       "   1.3043293625071024],\n",
       "  [1.3043293625071033,\n",
       "   1.3043297813348427,\n",
       "   1.3043297920068855,\n",
       "   1.3043297924226895,\n",
       "   1.3043297925576955,\n",
       "   1.3043297926116986,\n",
       "   1.3043297926384672,\n",
       "   1.3043297926483937,\n",
       "   1.3043297926510231],\n",
       "  [1.3043297926510227,\n",
       "   1.3043297926519506,\n",
       "   1.304329792671913,\n",
       "   1.30432979268945,\n",
       "   1.3043297927124131,\n",
       "   1.3043297927354898,\n",
       "   1.304329792749635,\n",
       "   1.3043297927559907,\n",
       "   1.304329792757731]],\n",
       " [[1.3024065053102976,\n",
       "   1.303763267854717,\n",
       "   1.3055523497073105,\n",
       "   1.3055549594271534,\n",
       "   1.3055550315489504,\n",
       "   1.3055550438388919,\n",
       "   1.305555045509513,\n",
       "   1.305555046271126,\n",
       "   1.305555046281636],\n",
       "  [1.3055563201755813,\n",
       "   1.3055565522636143,\n",
       "   1.3055565570784171,\n",
       "   1.3055565574308463,\n",
       "   1.305556557502841,\n",
       "   1.3055565575614894,\n",
       "   1.3055565575894104,\n",
       "   1.305556557599818,\n",
       "   1.305556557601796],\n",
       "  [1.3055565576432775,\n",
       "   1.30555655862069,\n",
       "   1.3055565591584601,\n",
       "   1.3055565591949634,\n",
       "   1.3055565592086815,\n",
       "   1.3055565592247707,\n",
       "   1.3055565592363356,\n",
       "   1.30555655924133,\n",
       "   1.3055565592423497]],\n",
       " [[1.2995412951355485,\n",
       "   1.3197401018999149,\n",
       "   1.3210219966018424,\n",
       "   1.3210331889315667,\n",
       "   1.3210351002999001,\n",
       "   1.3210351021165956,\n",
       "   1.321035171828581,\n",
       "   1.3210351718762088,\n",
       "   1.3210351718762081],\n",
       "  [1.3210421525372964,\n",
       "   1.3210429742524552,\n",
       "   1.321043012898307,\n",
       "   1.3210430152933779,\n",
       "   1.321043015426368,\n",
       "   1.3210430154464972,\n",
       "   1.3210430154495159,\n",
       "   1.3210430154500155,\n",
       "   1.321043015450016],\n",
       "  [1.321043015611596,\n",
       "   1.3210430169386689,\n",
       "   1.3210430179726982,\n",
       "   1.3210430183356574,\n",
       "   1.3210430184095685,\n",
       "   1.3210430184207351,\n",
       "   1.3210430184220145,\n",
       "   1.321043018422161,\n",
       "   1.3210430184221642]]]"
      ]
     },
     "execution_count": 75,
     "metadata": {},
     "output_type": "execute_result"
    }
   ],
   "source": [
    "expectations"
   ]
  },
  {
   "cell_type": "markdown",
   "id": "44e7458f-7be9-4458-b042-d24abb2d4d94",
   "metadata": {},
   "source": [
    "## Multiple layers test"
   ]
  },
  {
   "cell_type": "code",
   "execution_count": 76,
   "id": "6385e8b0-263c-43e4-88b2-b125bb3d8dcc",
   "metadata": {},
   "outputs": [],
   "source": [
    "left_environment = test.right_projected_symmetry_state\n",
    "bottom_b_tensors = bs\n",
    "top_b_tensors = bs.copy()\n",
    "block_width = 3\n",
    "expectations = list()\n",
    "previous_mpo_w_tensors = []\n",
    "num_iterations = 3"
   ]
  },
  {
   "cell_type": "code",
   "execution_count": 77,
   "id": "d1761958-54c0-487a-b6d0-36a514e1f097",
   "metadata": {},
   "outputs": [
    {
     "name": "stdout",
     "output_type": "stream",
     "text": [
      "Layer: 0\n",
      "Layer: 5\n",
      "Layer: 10\n",
      "Layer: 15\n",
      "Layer: 20\n",
      "Layer: 25\n"
     ]
    }
   ],
   "source": [
    "for i in range(30):\n",
    "    if i%5 == 0:\n",
    "        print(f\"Layer: {i}\")\n",
    "    \n",
    "    offset = i % block_width\n",
    "\n",
    "    optimise_layer(\n",
    "        left_environment,\n",
    "        top_b_tensors,\n",
    "        block_width,\n",
    "        offset,\n",
    "        expectations,\n",
    "        previous_mpo_w_tensors,\n",
    "        bottom_b_tensors,\n",
    "        num_iterations\n",
    "    )"
   ]
  },
  {
   "cell_type": "code",
   "execution_count": 79,
   "id": "62199f38-799e-421f-8130-95688c40cfc9",
   "metadata": {},
   "outputs": [],
   "source": [
    "final_expectations = list()\n",
    "\n",
    "for l in expectations:\n",
    "    final_expectations.append(l[-1][-1])"
   ]
  },
  {
   "cell_type": "code",
   "execution_count": 80,
   "id": "56e674df-7894-4c87-9ac1-ff38883ff5ac",
   "metadata": {},
   "outputs": [
    {
     "data": {
      "text/plain": [
       "[1.178692459277792,\n",
       " 1.304329792757731,\n",
       " 1.3055565592423497,\n",
       " 1.3210430184221642,\n",
       " 1.3294220981605853,\n",
       " 1.3216450588496838,\n",
       " 1.3231019583003234,\n",
       " 1.3196158180573851,\n",
       " 1.3172956799251647,\n",
       " 1.3161539257816188,\n",
       " 1.3152031443244594,\n",
       " 1.3127285610229544,\n",
       " 1.3119925058470687,\n",
       " 1.3009959165865896,\n",
       " 1.299853379097181,\n",
       " 1.2985950819897698,\n",
       " 1.2915737527565667,\n",
       " 1.2919315001078355,\n",
       " 1.290181852505407,\n",
       " 1.288031532577377,\n",
       " 1.286843645927195,\n",
       " 1.2859711291298754,\n",
       " 1.2830823632780883,\n",
       " 1.2798108832859254,\n",
       " 1.2787051094829949,\n",
       " 1.272206513095139,\n",
       " 1.2629724197525027,\n",
       " 1.2622515047612897,\n",
       " 1.258586015488152,\n",
       " 1.250729200924993]"
      ]
     },
     "execution_count": 80,
     "metadata": {},
     "output_type": "execute_result"
    }
   ],
   "source": [
    "final_expectations"
   ]
  },
  {
   "cell_type": "code",
   "execution_count": 81,
   "id": "47004d08-2907-40c1-be56-5e465e029746",
   "metadata": {},
   "outputs": [
    {
     "data": {
      "text/plain": [
       "[<matplotlib.lines.Line2D at 0x169160b90>]"
      ]
     },
     "execution_count": 81,
     "metadata": {},
     "output_type": "execute_result"
    },
    {
     "data": {
      "image/png": "[encoded data removed]",
      "text/plain": [
       "<Figure size 640x480 with 1 Axes>"
      ]
     },
     "metadata": {},
     "output_type": "display_data"
    }
   ],
   "source": [
    "plt.plot(final_expectations)"
   ]
  },
  {
   "cell_type": "code",
   "execution_count": 83,
   "id": "4a9db23b-fe62-4c77-ab0a-0307c6c6b8e1",
   "metadata": {},
   "outputs": [
    {
     "data": {
      "text/plain": [
       "(-0.08812673606713177+0j)"
      ]
     },
     "execution_count": 83,
     "metadata": {},
     "output_type": "execute_result"
    }
   ],
   "source": [
    "t = left_environment\n",
    "\n",
    "for b in bs:\n",
    "    t = npc.tensordot(t, b, [['vR',], ['vL',]])\n",
    "    t = npc.tensordot(t, b.conj(), [['vR*', 'p'], ['vL*', 'p*']])\n",
    "\n",
    "npc.trace(t)"
   ]
  },
  {
   "cell_type": "code",
   "execution_count": 84,
   "id": "46b75ecc-042c-49b3-838a-b0cd57a7eda0",
   "metadata": {},
   "outputs": [
    {
     "data": {
      "text/plain": [
       "(-0.08812673606713205+0j)"
      ]
     },
     "execution_count": 84,
     "metadata": {},
     "output_type": "execute_result"
    }
   ],
   "source": [
    "npc.trace(left_environment)"
   ]
  },
  {
   "cell_type": "code",
   "execution_count": 85,
   "id": "4c0c903a-eb74-4ad2-9a49-a202f7b1d463",
   "metadata": {},
   "outputs": [
    {
     "data": {
      "text/plain": [
       "(-0.000944779398154762+0j)"
      ]
     },
     "execution_count": 85,
     "metadata": {},
     "output_type": "execute_result"
    }
   ],
   "source": [
    "npc.trace(test.left_projected_symmetry_state)"
   ]
  },
  {
   "cell_type": "code",
   "execution_count": 86,
   "id": "dfb5ba3b-4de6-4366-8c7e-2f724adb016f",
   "metadata": {},
   "outputs": [
    {
     "data": {
      "text/plain": [
       "(-0.083159237657227+0j)"
      ]
     },
     "execution_count": 86,
     "metadata": {},
     "output_type": "execute_result"
    }
   ],
   "source": [
    "t = left_environment\n",
    "\n",
    "for b in top_b_tensors:\n",
    "    t = npc.tensordot(t, b, [['vR',], ['vL',]])\n",
    "    t = npc.tensordot(t, b.conj(), [['vR*', 'p'], ['vL*', 'p*']])\n",
    "\n",
    "npc.trace(t)"
   ]
  },
  {
   "cell_type": "code",
   "execution_count": 140,
   "id": "368a45c3-21de-40b2-a4ad-36378bdd585e",
   "metadata": {},
   "outputs": [],
   "source": [
    "left_environment = test.right_projected_symmetry_state\n",
    "bottom_b_tensors = bs\n",
    "top_b_tensors = bs.copy()\n",
    "block_width = 3\n",
    "expectations_12 = list()\n",
    "previous_mpo_w_tensors = []\n",
    "num_iterations = 3\n",
    "max_virtual_bond_dim=12"
   ]
  },
  {
   "cell_type": "code",
   "execution_count": 141,
   "id": "d550ed3f-729a-43d6-bab9-036fd20bb70f",
   "metadata": {},
   "outputs": [
    {
     "name": "stdout",
     "output_type": "stream",
     "text": [
      "Layer: 0\n",
      "Layer: 5\n",
      "Layer: 10\n",
      "Layer: 15\n",
      "Layer: 20\n",
      "Layer: 25\n"
     ]
    }
   ],
   "source": [
    "for i in range(30):\n",
    "    if i%5 == 0:\n",
    "        print(f\"Layer: {i}\")\n",
    "    \n",
    "    offset = i % block_width\n",
    "\n",
    "    optimise_layer(\n",
    "        left_environment,\n",
    "        top_b_tensors,\n",
    "        block_width,\n",
    "        offset,\n",
    "        expectations_12,\n",
    "        previous_mpo_w_tensors,\n",
    "        bottom_b_tensors,\n",
    "        num_iterations,\n",
    "        max_virtual_bond_dim=max_virtual_bond_dim\n",
    "    )"
   ]
  },
  {
   "cell_type": "code",
   "execution_count": 142,
   "id": "08e98568-c304-4d3f-afa2-d3fc16990e93",
   "metadata": {},
   "outputs": [],
   "source": [
    "final_expectations_12 = list()\n",
    "\n",
    "for l in expectations_12:\n",
    "    final_expectations_12.append(l[-1][-1])"
   ]
  },
  {
   "cell_type": "code",
   "execution_count": 143,
   "id": "4cfbb60a-135d-4453-87ce-c962fa788738",
   "metadata": {},
   "outputs": [
    {
     "data": {
      "text/plain": [
       "[<matplotlib.lines.Line2D at 0x17400e390>]"
      ]
     },
     "execution_count": 143,
     "metadata": {},
     "output_type": "execute_result"
    },
    {
     "data": {
      "image/png": "[encoded data removed]",
      "text/plain": [
       "<Figure size 640x480 with 1 Axes>"
      ]
     },
     "metadata": {},
     "output_type": "display_data"
    }
   ],
   "source": [
    "plt.plot(final_expectations_12)"
   ]
  },
  {
   "cell_type": "markdown",
   "id": "2c9f57ef-c2c3-4368-94d3-bccdf6ef83b2",
   "metadata": {},
   "source": [
    "This is worse! That makes no sense."
   ]
  },
  {
   "cell_type": "code",
   "execution_count": 144,
   "id": "ca832c29-acda-49e8-ad64-38a1d529b9bb",
   "metadata": {},
   "outputs": [
    {
     "data": {
      "text/plain": [
       "[<matplotlib.lines.Line2D at 0x1744e6390>]"
      ]
     },
     "execution_count": 144,
     "metadata": {},
     "output_type": "execute_result"
    },
    {
     "data": {
      "image/png": "[encoded data removed]",
      "text/plain": [
       "<Figure size 640x480 with 1 Axes>"
      ]
     },
     "metadata": {},
     "output_type": "display_data"
    }
   ],
   "source": [
    "y = np.array(final_expectations_12) - np.array(final_expectations)\n",
    "\n",
    "plt.plot(y)"
   ]
  },
  {
   "cell_type": "code",
   "execution_count": 145,
   "id": "d4e5b2ba-7103-40c9-876a-9e9114b0a387",
   "metadata": {},
   "outputs": [
    {
     "data": {
      "text/plain": [
       "[<npc.Array shape=(8, 2, 12) labels=['vL', 'p', 'vR']>,\n",
       " <npc.Array shape=(12, 2, 12) labels=['vL', 'p', 'vR']>,\n",
       " <npc.Array shape=(12, 2, 12) labels=['vL', 'p', 'vR']>,\n",
       " <npc.Array shape=(12, 2, 12) labels=['vL', 'p', 'vR']>,\n",
       " <npc.Array shape=(12, 2, 12) labels=['vL', 'p', 'vR']>,\n",
       " <npc.Array shape=(12, 2, 12) labels=['vL', 'p', 'vR']>,\n",
       " <npc.Array shape=(12, 2, 12) labels=['vL', 'p', 'vR']>,\n",
       " <npc.Array shape=(12, 2, 12) labels=['vL', 'p', 'vR']>,\n",
       " <npc.Array shape=(12, 2, 12) labels=['vL', 'p', 'vR']>,\n",
       " <npc.Array shape=(12, 2, 12) labels=['vL', 'p', 'vR']>,\n",
       " <npc.Array shape=(12, 2, 12) labels=['vL', 'p', 'vR']>,\n",
       " <npc.Array shape=(12, 2, 12) labels=['vL', 'p', 'vR']>,\n",
       " <npc.Array shape=(12, 2, 12) labels=['vL', 'p', 'vR']>,\n",
       " <npc.Array shape=(12, 2, 12) labels=['vL', 'p', 'vR']>,\n",
       " <npc.Array shape=(12, 2, 12) labels=['vL', 'p', 'vR']>,\n",
       " <npc.Array shape=(12, 2, 12) labels=['vL', 'p', 'vR']>,\n",
       " <npc.Array shape=(12, 2, 12) labels=['vL', 'p', 'vR']>,\n",
       " <npc.Array shape=(12, 2, 12) labels=['vL', 'p', 'vR']>,\n",
       " <npc.Array shape=(12, 2, 12) labels=['vL', 'p', 'vR']>,\n",
       " <npc.Array shape=(12, 2, 12) labels=['vL', 'p', 'vR']>,\n",
       " <npc.Array shape=(12, 2, 12) labels=['vL', 'p', 'vR']>,\n",
       " <npc.Array shape=(12, 2, 12) labels=['vL', 'p', 'vR']>,\n",
       " <npc.Array shape=(12, 2, 12) labels=['vL', 'p', 'vR']>,\n",
       " <npc.Array shape=(12, 2, 12) labels=['vL', 'p', 'vR']>,\n",
       " <npc.Array shape=(12, 2, 8) labels=['vL', 'p', 'vR']>]"
      ]
     },
     "execution_count": 145,
     "metadata": {},
     "output_type": "execute_result"
    }
   ],
   "source": [
    "top_b_tensors"
   ]
  },
  {
   "cell_type": "code",
   "execution_count": 146,
   "id": "3448268b-79b1-4c33-8537-139c5883cebd",
   "metadata": {},
   "outputs": [
    {
     "data": {
      "text/plain": [
       "[<npc.Array shape=(2, 1, 2, 4) labels=['p', 'vL', 'p*', 'vR']>,\n",
       " <npc.Array shape=(2, 4, 2, 12) labels=['p', 'vL', 'p*', 'vR']>,\n",
       " <npc.Array shape=(2, 12, 2, 12) labels=['p', 'vL', 'p*', 'vR']>,\n",
       " <npc.Array shape=(2, 12, 2, 12) labels=['p', 'vL', 'p*', 'vR']>,\n",
       " <npc.Array shape=(2, 12, 2, 12) labels=['p', 'vL', 'p*', 'vR']>,\n",
       " <npc.Array shape=(2, 12, 2, 12) labels=['p', 'vL', 'p*', 'vR']>,\n",
       " <npc.Array shape=(2, 12, 2, 12) labels=['p', 'vL', 'p*', 'vR']>,\n",
       " <npc.Array shape=(2, 12, 2, 12) labels=['p', 'vL', 'p*', 'vR']>,\n",
       " <npc.Array shape=(2, 12, 2, 12) labels=['p', 'vL', 'p*', 'vR']>,\n",
       " <npc.Array shape=(2, 12, 2, 12) labels=['p', 'vL', 'p*', 'vR']>,\n",
       " <npc.Array shape=(2, 12, 2, 12) labels=['p', 'vL', 'p*', 'vR']>,\n",
       " <npc.Array shape=(2, 12, 2, 12) labels=['p', 'vL', 'p*', 'vR']>,\n",
       " <npc.Array shape=(2, 12, 2, 12) labels=['p', 'vL', 'p*', 'vR']>,\n",
       " <npc.Array shape=(2, 12, 2, 12) labels=['p', 'vL', 'p*', 'vR']>,\n",
       " <npc.Array shape=(2, 12, 2, 12) labels=['p', 'vL', 'p*', 'vR']>,\n",
       " <npc.Array shape=(2, 12, 2, 12) labels=['p', 'vL', 'p*', 'vR']>,\n",
       " <npc.Array shape=(2, 12, 2, 12) labels=['p', 'vL', 'p*', 'vR']>,\n",
       " <npc.Array shape=(2, 12, 2, 12) labels=['p', 'vL', 'p*', 'vR']>,\n",
       " <npc.Array shape=(2, 12, 2, 12) labels=['p', 'vL', 'p*', 'vR']>,\n",
       " <npc.Array shape=(2, 12, 2, 12) labels=['p', 'vL', 'p*', 'vR']>,\n",
       " <npc.Array shape=(2, 12, 2, 12) labels=['p', 'vL', 'p*', 'vR']>,\n",
       " <npc.Array shape=(2, 12, 2, 12) labels=['p', 'vL', 'p*', 'vR']>,\n",
       " <npc.Array shape=(2, 12, 2, 12) labels=['p', 'vL', 'p*', 'vR']>,\n",
       " <npc.Array shape=(2, 12, 2, 4) labels=['p', 'vL', 'p*', 'vR']>,\n",
       " <npc.Array shape=(4, 2, 1, 2) labels=['vL', 'p', 'vR', 'p*']>]"
      ]
     },
     "execution_count": 146,
     "metadata": {},
     "output_type": "execute_result"
    }
   ],
   "source": [
    "previous_mpo_w_tensors"
   ]
  },
  {
   "cell_type": "markdown",
   "id": "51416d40-543a-46e3-b541-7dbb8e7c68a6",
   "metadata": {},
   "source": [
    "To-do:\n",
    "* Check normalisation of updated MPS, how to address?"
   ]
  }
 ],
 "metadata": {
  "kernelspec": {
   "display_name": "num_spt_venv_p11",
   "language": "python",
   "name": "num_spt_venv_p11"
  },
  "language_info": {
   "codemirror_mode": {
    "name": "ipython",
    "version": 3
   },
   "file_extension": ".py",
   "mimetype": "text/x-python",
   "name": "python",
   "nbconvert_exporter": "python",
   "pygments_lexer": "ipython3",
   "version": "3.11.9"
  }
 },
 "nbformat": 4,
 "nbformat_minor": 5
}
