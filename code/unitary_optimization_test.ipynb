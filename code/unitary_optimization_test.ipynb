{
 "cells": [
  {
   "cell_type": "code",
   "execution_count": 55,
   "id": "69a162d9-636d-4afa-bf6e-a192b643defe",
   "metadata": {},
   "outputs": [],
   "source": [
    "import numpy as np\n",
    "import matplotlib.pyplot as plt"
   ]
  },
  {
   "cell_type": "code",
   "execution_count": 56,
   "id": "a7b90c8c-f331-4ced-a6d7-211aadfc9a7d",
   "metadata": {},
   "outputs": [],
   "source": [
    "eta = 0.001"
   ]
  },
  {
   "cell_type": "code",
   "execution_count": 57,
   "id": "922e06f6-522f-4419-889c-7918e919ce9a",
   "metadata": {},
   "outputs": [],
   "source": [
    "w = np.array([0,1])\n",
    "v=np.array([1,0])"
   ]
  },
  {
   "cell_type": "code",
   "execution_count": 58,
   "id": "9f671017-cdcb-4df2-978c-790b5a9f22ac",
   "metadata": {},
   "outputs": [
    {
     "data": {
      "text/plain": [
       "array([0, 1])"
      ]
     },
     "execution_count": 58,
     "metadata": {},
     "output_type": "execute_result"
    }
   ],
   "source": [
    "w"
   ]
  },
  {
   "cell_type": "code",
   "execution_count": 59,
   "id": "92d2dd47-6234-4026-bd13-9cfaeb2f7569",
   "metadata": {},
   "outputs": [
    {
     "data": {
      "text/plain": [
       "array([1, 0])"
      ]
     },
     "execution_count": 59,
     "metadata": {},
     "output_type": "execute_result"
    }
   ],
   "source": [
    "v"
   ]
  },
  {
   "cell_type": "code",
   "execution_count": 60,
   "id": "e907f48f-ef45-4db3-9a6d-c99b507997d0",
   "metadata": {},
   "outputs": [],
   "source": [
    "U_0 = 1/np.sqrt(2)*np.array([[1,1],[-1,1]])"
   ]
  },
  {
   "cell_type": "code",
   "execution_count": 61,
   "id": "9c2e7f14-b164-4dfb-be35-99ff33b14cc7",
   "metadata": {},
   "outputs": [],
   "source": [
    "M = (w.T).dot(U_0).dot(v)"
   ]
  },
  {
   "cell_type": "code",
   "execution_count": 62,
   "id": "5cfbbc94-e5b4-4f43-96ad-afa1e2abe007",
   "metadata": {},
   "outputs": [
    {
     "data": {
      "text/plain": [
       "-0.7071067811865475"
      ]
     },
     "execution_count": 62,
     "metadata": {},
     "output_type": "execute_result"
    }
   ],
   "source": [
    "M"
   ]
  },
  {
   "cell_type": "code",
   "execution_count": 63,
   "id": "79d98641-c63b-4132-9a26-3f42359cd35b",
   "metadata": {},
   "outputs": [],
   "source": [
    "gradients = np.zeros([2,2])"
   ]
  },
  {
   "cell_type": "code",
   "execution_count": 64,
   "id": "c822fce9-7979-4d14-aac4-338f89921f34",
   "metadata": {},
   "outputs": [],
   "source": [
    "for i in range(2):\n",
    "    for j in range(2):\n",
    "        gradients[i,j] = 2*w[i]*v[j]*M"
   ]
  },
  {
   "cell_type": "code",
   "execution_count": 65,
   "id": "8b31902e-c15f-43f1-90bd-caf51c2c601e",
   "metadata": {},
   "outputs": [
    {
     "data": {
      "text/plain": [
       "array([[-0.        , -0.        ],\n",
       "       [-1.41421356, -0.        ]])"
      ]
     },
     "execution_count": 65,
     "metadata": {},
     "output_type": "execute_result"
    }
   ],
   "source": [
    "gradients"
   ]
  },
  {
   "cell_type": "code",
   "execution_count": 66,
   "id": "309b1b25-6255-4a56-b1cf-d3397a819019",
   "metadata": {},
   "outputs": [],
   "source": [
    "def projector(U, delta_U):\n",
    "    M1 = (U.conj().T).dot(delta_U)\n",
    "    M2 = 0.5*(M1 - M1.conj().T)\n",
    "    M3 = U.dot(M2)\n",
    "\n",
    "    return M3"
   ]
  },
  {
   "cell_type": "code",
   "execution_count": 67,
   "id": "db268124-9582-4bec-afc0-739eacc94efb",
   "metadata": {},
   "outputs": [],
   "source": [
    "delta_U = -eta*projector(U_0, gradients)"
   ]
  },
  {
   "cell_type": "code",
   "execution_count": 68,
   "id": "e7d21793-0d6b-4ea0-aa6a-2975a21f1227",
   "metadata": {},
   "outputs": [
    {
     "data": {
      "text/plain": [
       "array([[ 0.00035355, -0.00035355],\n",
       "       [ 0.00035355,  0.00035355]])"
      ]
     },
     "execution_count": 68,
     "metadata": {},
     "output_type": "execute_result"
    }
   ],
   "source": [
    "delta_U"
   ]
  },
  {
   "cell_type": "code",
   "execution_count": 69,
   "id": "b338a7a4-2b00-4e9e-972e-6cf7c1a3d8e4",
   "metadata": {},
   "outputs": [],
   "source": [
    "new_U = U_0 + delta_U"
   ]
  },
  {
   "cell_type": "code",
   "execution_count": 70,
   "id": "d447dd1f-404b-48e5-b4c1-263ad629bcc4",
   "metadata": {},
   "outputs": [],
   "source": [
    "def unitary_test(U):\n",
    "    return np.max(np.abs(U.conj().T.dot(U)-np.identity(len(U))))"
   ]
  },
  {
   "cell_type": "code",
   "execution_count": 71,
   "id": "c49f2da3-10b2-413b-9635-a5c0d37e7a69",
   "metadata": {},
   "outputs": [
    {
     "data": {
      "text/plain": [
       "2.499999998128999e-07"
      ]
     },
     "execution_count": 71,
     "metadata": {},
     "output_type": "execute_result"
    }
   ],
   "source": [
    "unitary_test(new_U)"
   ]
  },
  {
   "cell_type": "code",
   "execution_count": 72,
   "id": "7f6f3430-9212-4cf0-9185-81bdf641935a",
   "metadata": {},
   "outputs": [],
   "source": [
    "grad_M = np.outer(w,v)"
   ]
  },
  {
   "cell_type": "code",
   "execution_count": 73,
   "id": "c092bca3-a3b3-47d2-9965-858b48702d45",
   "metadata": {},
   "outputs": [],
   "source": [
    "def matrix_element(U):\n",
    "    return w.conj().dot(U).dot(v)"
   ]
  },
  {
   "cell_type": "code",
   "execution_count": 74,
   "id": "38310d8e-fb27-4eaf-b8ac-13988719ea46",
   "metadata": {},
   "outputs": [],
   "source": [
    "def unitarize_matrix(U):\n",
    "    L,S,R = np.linalg.svd(U)\n",
    "    return L.dot(R)"
   ]
  },
  {
   "cell_type": "code",
   "execution_count": 75,
   "id": "79c8852b-c345-4ef6-a6e7-b595a39d64b7",
   "metadata": {},
   "outputs": [],
   "source": [
    "def update(U, eta=0.03):\n",
    "    M = matrix_element(U)\n",
    "    grad = -2*M*np.conj(grad_M)\n",
    "    projected_grad = projector(U, grad)\n",
    "    delta_U = eta*projected_grad\n",
    "    return U + delta_U"
   ]
  },
  {
   "cell_type": "code",
   "execution_count": 76,
   "id": "b2d13a1e-bcb4-4f55-a7e6-b144897ea382",
   "metadata": {},
   "outputs": [],
   "source": [
    "U_0 = 1/np.sqrt(2)*np.array([[1,1],[-1,1]])"
   ]
  },
  {
   "cell_type": "code",
   "execution_count": 77,
   "id": "0effb66c-11ec-4638-8ea9-66cb0a4c35be",
   "metadata": {},
   "outputs": [],
   "source": [
    "def loss(U):\n",
    "    M = np.abs(matrix_element(U))\n",
    "    return 1 - M**2"
   ]
  },
  {
   "cell_type": "code",
   "execution_count": 78,
   "id": "c32f212a-b913-4073-91ab-afa108e0b89e",
   "metadata": {},
   "outputs": [],
   "source": [
    "unitary_tol = 0.005"
   ]
  },
  {
   "cell_type": "code",
   "execution_count": 79,
   "id": "ae984067-a410-4bea-8af7-2b470bdd00df",
   "metadata": {},
   "outputs": [],
   "source": [
    "losses = list()\n",
    "unitary_scores = list()\n",
    "\n",
    "U = U_0\n",
    "for i in range(1000):\n",
    "    U = update(U, 0.01)\n",
    "    if unitary_test(U) > unitary_tol:\n",
    "        U = unitarize_matrix(U)\n",
    "    losses.append(loss(U))\n",
    "    unitary_scores.append(unitary_test(U))"
   ]
  },
  {
   "cell_type": "code",
   "execution_count": 80,
   "id": "d92da7eb-1517-43fa-8e48-2b6bde4cf4a7",
   "metadata": {},
   "outputs": [
    {
     "data": {
      "text/plain": [
       "array([[ 1.00125548e+00,  4.23654116e-05],\n",
       "       [-4.23654116e-05,  1.00125548e+00]])"
      ]
     },
     "execution_count": 80,
     "metadata": {},
     "output_type": "execute_result"
    }
   ],
   "source": [
    "U"
   ]
  },
  {
   "cell_type": "code",
   "execution_count": 81,
   "id": "902b1bb9-e239-4e3b-a4c8-c47c7665b357",
   "metadata": {},
   "outputs": [
    {
     "data": {
      "text/plain": [
       "[<matplotlib.lines.Line2D at 0x750f64ae7210>]"
      ]
     },
     "execution_count": 81,
     "metadata": {},
     "output_type": "execute_result"
    },
    {
     "data": {
      "image/png": "[encoded data removed]",
      "text/plain": [
       "<Figure size 640x480 with 1 Axes>"
      ]
     },
     "metadata": {},
     "output_type": "display_data"
    }
   ],
   "source": [
    "plt.plot(losses)"
   ]
  },
  {
   "cell_type": "code",
   "execution_count": 82,
   "id": "8593bd3f-6811-4a47-be6f-00948be44a8c",
   "metadata": {},
   "outputs": [
    {
     "data": {
      "text/plain": [
       "0.9999999982051719"
      ]
     },
     "execution_count": 82,
     "metadata": {},
     "output_type": "execute_result"
    }
   ],
   "source": [
    "losses[-1]"
   ]
  },
  {
   "cell_type": "code",
   "execution_count": 83,
   "id": "e1f0c197-4ea0-4f17-8231-8da4db38f05c",
   "metadata": {},
   "outputs": [
    {
     "data": {
      "text/plain": [
       "[<matplotlib.lines.Line2D at 0x750f64b17210>]"
      ]
     },
     "execution_count": 83,
     "metadata": {},
     "output_type": "execute_result"
    },
    {
     "data": {
      "image/png": "[encoded data removed]",
      "text/plain": [
       "<Figure size 640x480 with 1 Axes>"
      ]
     },
     "metadata": {},
     "output_type": "display_data"
    }
   ],
   "source": [
    "plt.plot(unitary_scores)"
   ]
  },
  {
   "cell_type": "markdown",
   "id": "8d88d8a2-f71b-4113-a5af-484f2ce2abc4",
   "metadata": {},
   "source": [
    "## Complex case"
   ]
  },
  {
   "cell_type": "code",
   "execution_count": 84,
   "id": "6cf4f1f8-bbbf-4bde-bf09-8fd3e64614e2",
   "metadata": {},
   "outputs": [
    {
     "data": {
      "text/plain": [
       "array([0.5-0.5j, 0.5+0.5j])"
      ]
     },
     "execution_count": 84,
     "metadata": {},
     "output_type": "execute_result"
    }
   ],
   "source": [
    "w = np.array([1-1j,1+1j])\n",
    "w /= np.linalg.norm(w)\n",
    "w"
   ]
  },
  {
   "cell_type": "code",
   "execution_count": 85,
   "id": "cb5cd5e5-eb10-401a-9e93-0ea9ca668dc9",
   "metadata": {},
   "outputs": [
    {
     "data": {
      "text/plain": [
       "array([1.+0.j, 0.+0.j])"
      ]
     },
     "execution_count": 85,
     "metadata": {},
     "output_type": "execute_result"
    }
   ],
   "source": [
    "v = np.array([1+0j, 0+0j])\n",
    "v"
   ]
  },
  {
   "cell_type": "code",
   "execution_count": 86,
   "id": "f1cda863-7003-4556-8660-f10e05647097",
   "metadata": {},
   "outputs": [],
   "source": [
    "grad_M = np.outer(w.conj(),v)"
   ]
  },
  {
   "cell_type": "code",
   "execution_count": 87,
   "id": "bde8bda7-4f5e-4a3f-9ced-99f920b54991",
   "metadata": {},
   "outputs": [
    {
     "data": {
      "text/plain": [
       "array([[0.5+0.5j, 0. +0.j ],\n",
       "       [0.5-0.5j, 0. +0.j ]])"
      ]
     },
     "execution_count": 87,
     "metadata": {},
     "output_type": "execute_result"
    }
   ],
   "source": [
    "grad_M"
   ]
  },
  {
   "cell_type": "code",
   "execution_count": 88,
   "id": "c7d4258e-daa8-4e0b-9ac5-362913cf96d8",
   "metadata": {},
   "outputs": [],
   "source": [
    "U_0 = np.identity(2)"
   ]
  },
  {
   "cell_type": "code",
   "execution_count": 89,
   "id": "7015aad3-4849-45fb-b5f8-5ef4f655a155",
   "metadata": {},
   "outputs": [
    {
     "data": {
      "text/plain": [
       "array([[1., 0.],\n",
       "       [0., 1.]])"
      ]
     },
     "execution_count": 89,
     "metadata": {},
     "output_type": "execute_result"
    }
   ],
   "source": [
    "U_0"
   ]
  },
  {
   "cell_type": "code",
   "execution_count": 90,
   "id": "87a31e40-9632-4f2b-bc13-3b13f3409e6c",
   "metadata": {},
   "outputs": [],
   "source": [
    "losses = list()\n",
    "unitary_scores = list()\n",
    "\n",
    "U = U_0\n",
    "for i in range(1000):\n",
    "    U = update(U, 0.01)\n",
    "    if unitary_test(U) > unitary_tol:\n",
    "        U = unitarize_matrix(U)\n",
    "    losses.append(loss(U))\n",
    "    unitary_scores.append(unitary_test(U))"
   ]
  },
  {
   "cell_type": "code",
   "execution_count": 91,
   "id": "b2ef679b-80b2-4c02-9de5-73e619fb553b",
   "metadata": {},
   "outputs": [
    {
     "data": {
      "text/plain": [
       "array([[1., 0.],\n",
       "       [0., 1.]])"
      ]
     },
     "execution_count": 91,
     "metadata": {},
     "output_type": "execute_result"
    }
   ],
   "source": [
    "U_0"
   ]
  },
  {
   "cell_type": "code",
   "execution_count": 92,
   "id": "855f9534-c46c-4e8b-8bad-909d8a5f3d5d",
   "metadata": {},
   "outputs": [
    {
     "data": {
      "text/plain": [
       "array([[1.+0.j   , 0.-0.015j],\n",
       "       [0.-0.015j, 1.+0.j   ]])"
      ]
     },
     "execution_count": 92,
     "metadata": {},
     "output_type": "execute_result"
    }
   ],
   "source": [
    "update(U_0)"
   ]
  },
  {
   "cell_type": "code",
   "execution_count": 93,
   "id": "014be5fb-e3f4-412d-a708-d006f45ec515",
   "metadata": {},
   "outputs": [
    {
     "data": {
      "text/plain": [
       "(2.9956869830427557e-05+2.9956869830427557e-05j)"
      ]
     },
     "execution_count": 93,
     "metadata": {},
     "output_type": "execute_result"
    }
   ],
   "source": [
    "matrix_element(U)"
   ]
  },
  {
   "cell_type": "code",
   "execution_count": 94,
   "id": "2587f754-9696-40f4-933a-4f94065ee95b",
   "metadata": {},
   "outputs": [
    {
     "data": {
      "text/plain": [
       "array([[0.7080245+0.j        , 0.       -0.70796458j],\n",
       "       [0.       -0.70796458j, 0.7080245+0.j        ]])"
      ]
     },
     "execution_count": 94,
     "metadata": {},
     "output_type": "execute_result"
    }
   ],
   "source": [
    "U"
   ]
  },
  {
   "cell_type": "code",
   "execution_count": 95,
   "id": "d9b7d44a-2502-4290-bd90-809f8e842ee5",
   "metadata": {},
   "outputs": [],
   "source": [
    "M = matrix_element(U)"
   ]
  },
  {
   "cell_type": "code",
   "execution_count": 96,
   "id": "af4dd971-818b-43d8-bd7c-41e6616be952",
   "metadata": {},
   "outputs": [
    {
     "data": {
      "text/plain": [
       "(2.9956869830427557e-05+2.9956869830427557e-05j)"
      ]
     },
     "execution_count": 96,
     "metadata": {},
     "output_type": "execute_result"
    }
   ],
   "source": [
    "M"
   ]
  },
  {
   "cell_type": "code",
   "execution_count": 97,
   "id": "1c1001fd-1764-4af6-9fe3-14de9b2fdcd3",
   "metadata": {},
   "outputs": [],
   "source": [
    "grad = 2*np.real(grad_M*M)"
   ]
  },
  {
   "cell_type": "code",
   "execution_count": 98,
   "id": "020da5ae-f0a3-41d7-9fa8-688a12a88e5b",
   "metadata": {},
   "outputs": [
    {
     "data": {
      "text/plain": [
       "array([[0.00000000e+00, 0.00000000e+00],\n",
       "       [5.99137397e-05, 0.00000000e+00]])"
      ]
     },
     "execution_count": 98,
     "metadata": {},
     "output_type": "execute_result"
    }
   ],
   "source": [
    "grad"
   ]
  },
  {
   "cell_type": "code",
   "execution_count": 99,
   "id": "f6d6b085-6f94-41ed-a6e6-8cda32598814",
   "metadata": {},
   "outputs": [],
   "source": [
    "projected_grad = projector(U, grad)"
   ]
  },
  {
   "cell_type": "code",
   "execution_count": 100,
   "id": "5f70db7d-1348-4877-8b09-ee652d123e81",
   "metadata": {},
   "outputs": [
    {
     "data": {
      "text/plain": [
       "array([[ 0.00000000e+00+1.50160687e-05j, -1.50173395e-05+0.00000000e+00j],\n",
       "       [ 4.50469356e-05+0.00000000e+00j,  0.00000000e+00+1.50160687e-05j]])"
      ]
     },
     "execution_count": 100,
     "metadata": {},
     "output_type": "execute_result"
    }
   ],
   "source": [
    "projected_grad"
   ]
  },
  {
   "cell_type": "code",
   "execution_count": 101,
   "id": "8ded6e80-7fa9-4a8e-b092-68ef5a9e727e",
   "metadata": {},
   "outputs": [
    {
     "data": {
      "text/plain": [
       "[<matplotlib.lines.Line2D at 0x750f649c55d0>]"
      ]
     },
     "execution_count": 101,
     "metadata": {},
     "output_type": "execute_result"
    },
    {
     "data": {
      "image/png": "[encoded data removed]",
      "text/plain": [
       "<Figure size 640x480 with 1 Axes>"
      ]
     },
     "metadata": {},
     "output_type": "display_data"
    }
   ],
   "source": [
    "plt.plot(losses)"
   ]
  },
  {
   "cell_type": "code",
   "execution_count": 102,
   "id": "c5815ca5-7bc8-4589-8842-19bd1aa9fb88",
   "metadata": {},
   "outputs": [
    {
     "data": {
      "text/plain": [
       "0.9999999982051719"
      ]
     },
     "execution_count": 102,
     "metadata": {},
     "output_type": "execute_result"
    }
   ],
   "source": [
    "losses[-1]"
   ]
  },
  {
   "cell_type": "code",
   "execution_count": 103,
   "id": "0d2bc146-781e-4b98-92c1-d1de30f56b62",
   "metadata": {},
   "outputs": [
    {
     "data": {
      "text/plain": [
       "[<matplotlib.lines.Line2D at 0x750f64a1c150>]"
      ]
     },
     "execution_count": 103,
     "metadata": {},
     "output_type": "execute_result"
    },
    {
     "data": {
      "image/png": "[encoded data removed]",
      "text/plain": [
       "<Figure size 640x480 with 1 Axes>"
      ]
     },
     "metadata": {},
     "output_type": "display_data"
    }
   ],
   "source": [
    "plt.plot(unitary_scores)"
   ]
  },
  {
   "cell_type": "code",
   "execution_count": 108,
   "id": "06b3a785-33d0-4c9c-93b0-dd02d9782da8",
   "metadata": {},
   "outputs": [
    {
     "data": {
      "text/plain": [
       "array([[0.7080245+0.j        , 0.       -0.70796458j],\n",
       "       [0.       -0.70796458j, 0.7080245+0.j        ]])"
      ]
     },
     "execution_count": 108,
     "metadata": {},
     "output_type": "execute_result"
    }
   ],
   "source": [
    "U"
   ]
  },
  {
   "cell_type": "code",
   "execution_count": 104,
   "id": "76db66cf-fa1b-44b8-bd98-fd439c033313",
   "metadata": {},
   "outputs": [
    {
     "data": {
      "text/plain": [
       "0.002512536436097834"
      ]
     },
     "execution_count": 104,
     "metadata": {},
     "output_type": "execute_result"
    }
   ],
   "source": [
    "unitary_test(U)"
   ]
  },
  {
   "cell_type": "code",
   "execution_count": 105,
   "id": "7745c31e-bff5-4b83-83e8-5949030df0e2",
   "metadata": {},
   "outputs": [
    {
     "data": {
      "text/plain": [
       "array([[0.7071367+0.j        , 0.       -0.70707686j],\n",
       "       [0.       -0.70707686j, 0.7071367+0.j        ]])"
      ]
     },
     "execution_count": 105,
     "metadata": {},
     "output_type": "execute_result"
    }
   ],
   "source": [
    "unitarize_matrix(U)"
   ]
  },
  {
   "cell_type": "code",
   "execution_count": 106,
   "id": "04486f4f-3b40-41ea-9a2c-5bf00c5d094d",
   "metadata": {},
   "outputs": [
    {
     "data": {
      "text/plain": [
       "1.1102230246251565e-16"
      ]
     },
     "execution_count": 106,
     "metadata": {},
     "output_type": "execute_result"
    }
   ],
   "source": [
    "unitary_test(unitarize_matrix(U))"
   ]
  },
  {
   "cell_type": "code",
   "execution_count": 107,
   "id": "9a67d256-00f2-4901-a1dd-7145208cefe4",
   "metadata": {},
   "outputs": [
    {
     "data": {
      "text/plain": [
       "array([0.7080245+0.j        , 0.       -0.70796458j])"
      ]
     },
     "execution_count": 107,
     "metadata": {},
     "output_type": "execute_result"
    }
   ],
   "source": [
    "U.dot(v)"
   ]
  },
  {
   "cell_type": "code",
   "execution_count": null,
   "id": "31acfecf-5eef-4bd4-a335-00c2bdbe3649",
   "metadata": {},
   "outputs": [],
   "source": []
  }
 ],
 "metadata": {
  "kernelspec": {
   "display_name": "venv",
   "language": "python",
   "name": "venv"
  },
  "language_info": {
   "codemirror_mode": {
    "name": "ipython",
    "version": 3
   },
   "file_extension": ".py",
   "mimetype": "text/x-python",
   "name": "python",
   "nbconvert_exporter": "python",
   "pygments_lexer": "ipython3",
   "version": "3.11.8"
  }
 },
 "nbformat": 4,
 "nbformat_minor": 5
}
