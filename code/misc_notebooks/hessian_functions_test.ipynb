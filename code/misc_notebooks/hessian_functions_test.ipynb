{
 "cells": [
  {
   "cell_type": "markdown",
   "id": "d11edcdd-d907-45a7-bf53-6edf322bdab9",
   "metadata": {},
   "source": [
    "# Hessian functions\n",
    "\n",
    "Created 03/07/2024\n",
    "\n",
    "Objectives:\n",
    "* Write functions to calculate hessians of loss functions"
   ]
  },
  {
   "cell_type": "markdown",
   "id": "41074775-f8e2-4d64-aa6a-14154441eb56",
   "metadata": {},
   "source": [
    "# Package imports"
   ]
  },
  {
   "cell_type": "code",
   "execution_count": 1,
   "id": "50bdaa6f-51ca-4663-bc6a-86b807b519bf",
   "metadata": {},
   "outputs": [],
   "source": [
    "import numpy as np"
   ]
  },
  {
   "cell_type": "code",
   "execution_count": 2,
   "id": "75bf1979-d93a-4a73-b1ef-9c82743d1b3c",
   "metadata": {},
   "outputs": [],
   "source": [
    "import h5py\n",
    "from tenpy.tools import hdf5_io\n",
    "import tenpy\n",
    "import tenpy.linalg.np_conserved as npc\n",
    "\n",
    "import os"
   ]
  },
  {
   "cell_type": "code",
   "execution_count": 3,
   "id": "36be74d7-c72c-468a-9f3e-4df59b034919",
   "metadata": {},
   "outputs": [],
   "source": [
    "import sys\n",
    "sys.path.append('../')"
   ]
  },
  {
   "cell_type": "code",
   "execution_count": 4,
   "id": "2367b3ea-47ff-4d1c-aee3-7ab427a5bc46",
   "metadata": {},
   "outputs": [],
   "source": [
    "from SPTOptimization.SymmetryActionWithBoundaryUnitaries import SymmetryActionWithBoundaryUnitaries\n",
    "from SPTOptimization.utils import (\n",
    "    get_transfer_matrix_from_unitary,\n",
    "    multiply_transfer_matrices,\n",
    "    get_right_identity_environment\n",
    ")\n",
    "from SPTOptimization.gradients import expectation_gradients"
   ]
  },
  {
   "cell_type": "markdown",
   "id": "469e3cf6-e922-4edc-ba54-fe620a72ed37",
   "metadata": {},
   "source": [
    "# Load data"
   ]
  },
  {
   "cell_type": "code",
   "execution_count": 5,
   "id": "51da7bd5-0c5f-4faf-9002-26afba1ba9f8",
   "metadata": {},
   "outputs": [],
   "source": [
    "DATA_DIR = r\"../data/transverse_cluster_200_site_dmrg/0_50.h5\""
   ]
  },
  {
   "cell_type": "code",
   "execution_count": 6,
   "id": "4fbc5874-d3e8-4469-9e41-879b4b44b699",
   "metadata": {},
   "outputs": [],
   "source": [
    "with h5py.File(DATA_DIR, 'r') as f:\n",
    "    data = hdf5_io.load_from_hdf5(f)"
   ]
  },
  {
   "cell_type": "code",
   "execution_count": 7,
   "id": "f2c872f4-0c67-4898-8ce0-d5a89415191d",
   "metadata": {},
   "outputs": [],
   "source": [
    "psi = data['wavefunction']"
   ]
  },
  {
   "cell_type": "markdown",
   "id": "ff62b930-79c1-48b6-90e7-7a16c377391d",
   "metadata": {},
   "source": [
    "# Definitions"
   ]
  },
  {
   "cell_type": "code",
   "execution_count": 8,
   "id": "4f3c24d6-3c80-420d-9a59-79c8348ce7e4",
   "metadata": {},
   "outputs": [],
   "source": [
    "np_I = np.array([[1,0],[0,1]])\n",
    "np_X = np.array([[0,1],[1,0]])\n",
    "np_Y = np.array([[0,-1j],[1j,0]])\n",
    "np_Z = np.array([[1,0],[0,-1]])"
   ]
  },
  {
   "cell_type": "code",
   "execution_count": 9,
   "id": "28de4936-1b65-45c1-a3a1-6f703831f2a3",
   "metadata": {},
   "outputs": [],
   "source": [
    "non_trivial_hermitians = np.array([\n",
    "    1j*np_X,\n",
    "    1j*np_Y,\n",
    "    1j*np_Z\n",
    "])"
   ]
  },
  {
   "cell_type": "code",
   "execution_count": 10,
   "id": "a5a7dedf-e73b-4901-bb4a-4bcaca2f74f0",
   "metadata": {},
   "outputs": [
    {
     "data": {
      "text/plain": [
       "(3, 2, 2)"
      ]
     },
     "execution_count": 10,
     "metadata": {},
     "output_type": "execute_result"
    }
   ],
   "source": [
    "non_trivial_hermitians.shape"
   ]
  },
  {
   "cell_type": "code",
   "execution_count": 11,
   "id": "9876a48d-2c04-433e-8846-a1612b3e6111",
   "metadata": {},
   "outputs": [],
   "source": [
    "test = SymmetryActionWithBoundaryUnitaries(\n",
    "    psi,\n",
    "    [np_X, np_I]*50,\n",
    "    left_boundary_unitaries = [np_Z,],\n",
    "    right_boundary_unitaries = [np_Y, np_Z, np_X]\n",
    ")"
   ]
  },
  {
   "cell_type": "code",
   "execution_count": 12,
   "id": "6ed3aec8-8356-40ea-8a82-47270c018c34",
   "metadata": {},
   "outputs": [
    {
     "data": {
      "text/plain": [
       "array(0.)"
      ]
     },
     "execution_count": 12,
     "metadata": {},
     "output_type": "execute_result"
    }
   ],
   "source": [
    "test.compute_expectation()"
   ]
  },
  {
   "cell_type": "code",
   "execution_count": 13,
   "id": "54d96213-c956-43c1-974b-d5fc71f6d180",
   "metadata": {},
   "outputs": [
    {
     "data": {
      "text/plain": [
       "1.1387329967158467e-17j"
      ]
     },
     "execution_count": 13,
     "metadata": {},
     "output_type": "execute_result"
    }
   ],
   "source": [
    "test.compute_svd_approximate_expectation()"
   ]
  },
  {
   "cell_type": "code",
   "execution_count": 14,
   "id": "978eb1aa-7838-4818-bc97-75419d2bdda0",
   "metadata": {},
   "outputs": [
    {
     "data": {
      "text/plain": [
       "<npc.Array shape=(8, 8) labels=['vR', 'vR*']>"
      ]
     },
     "execution_count": 14,
     "metadata": {},
     "output_type": "execute_result"
    }
   ],
   "source": [
    "test.right_projected_symmetry_state"
   ]
  },
  {
   "cell_type": "markdown",
   "id": "558fed3e-7e1e-4848-80bd-dec70361704c",
   "metadata": {},
   "source": [
    "# Code"
   ]
  },
  {
   "cell_type": "markdown",
   "id": "4c76364f-1d8e-4d49-8ec7-f21b7176819f",
   "metadata": {},
   "source": [
    "## Numpy reference updating"
   ]
  },
  {
   "cell_type": "code",
   "execution_count": 15,
   "id": "c5086950-b331-47b0-99cd-5c24b9c0a906",
   "metadata": {},
   "outputs": [],
   "source": [
    "X = np.identity(5)"
   ]
  },
  {
   "cell_type": "code",
   "execution_count": 16,
   "id": "67ddce84-a1ed-4225-8312-c1abb315c578",
   "metadata": {},
   "outputs": [
    {
     "data": {
      "text/plain": [
       "array([[1., 0., 0., 0., 0.],\n",
       "       [0., 1., 0., 0., 0.],\n",
       "       [0., 0., 1., 0., 0.],\n",
       "       [0., 0., 0., 1., 0.],\n",
       "       [0., 0., 0., 0., 1.]])"
      ]
     },
     "execution_count": 16,
     "metadata": {},
     "output_type": "execute_result"
    }
   ],
   "source": [
    "X"
   ]
  },
  {
   "cell_type": "code",
   "execution_count": 17,
   "id": "9e31eadd-5109-4dca-926b-c6b3003a7789",
   "metadata": {},
   "outputs": [],
   "source": [
    "a = X[2:, 2:]"
   ]
  },
  {
   "cell_type": "code",
   "execution_count": 18,
   "id": "da87c8c5-51ed-4f00-85ab-83d8bc399f79",
   "metadata": {},
   "outputs": [
    {
     "data": {
      "text/plain": [
       "array([[1., 0., 0.],\n",
       "       [0., 1., 0.],\n",
       "       [0., 0., 1.]])"
      ]
     },
     "execution_count": 18,
     "metadata": {},
     "output_type": "execute_result"
    }
   ],
   "source": [
    "a"
   ]
  },
  {
   "cell_type": "code",
   "execution_count": 19,
   "id": "9bbd971c-369d-45bb-9598-eedbfb6a72f8",
   "metadata": {},
   "outputs": [],
   "source": [
    "a[1,1] = 5"
   ]
  },
  {
   "cell_type": "code",
   "execution_count": 20,
   "id": "0a30514d-cd51-47cf-9ddd-493879e3f611",
   "metadata": {},
   "outputs": [
    {
     "data": {
      "text/plain": [
       "array([[1., 0., 0.],\n",
       "       [0., 5., 0.],\n",
       "       [0., 0., 1.]])"
      ]
     },
     "execution_count": 20,
     "metadata": {},
     "output_type": "execute_result"
    }
   ],
   "source": [
    "a"
   ]
  },
  {
   "cell_type": "code",
   "execution_count": 21,
   "id": "659fef5b-358d-434a-93ba-34e5c9b8d9c4",
   "metadata": {},
   "outputs": [
    {
     "data": {
      "text/plain": [
       "array([[1., 0., 0., 0., 0.],\n",
       "       [0., 1., 0., 0., 0.],\n",
       "       [0., 0., 1., 0., 0.],\n",
       "       [0., 0., 0., 5., 0.],\n",
       "       [0., 0., 0., 0., 1.]])"
      ]
     },
     "execution_count": 21,
     "metadata": {},
     "output_type": "execute_result"
    }
   ],
   "source": [
    "X"
   ]
  },
  {
   "cell_type": "markdown",
   "id": "f629e6c2-f5ee-451c-b878-7e646cb478a4",
   "metadata": {},
   "source": [
    "## recursive expectation hessian function"
   ]
  },
  {
   "cell_type": "code",
   "execution_count": 22,
   "id": "0f7e3fac-bfc2-4ee9-9d49-2e6bc313014d",
   "metadata": {},
   "outputs": [],
   "source": [
    "from SPTOptimization.gradients import expectation_gradient_from_environments"
   ]
  },
  {
   "cell_type": "code",
   "execution_count": 23,
   "id": "027cdac0-5c4e-4017-9285-12944c1cd11f",
   "metadata": {},
   "outputs": [
    {
     "data": {
      "text/plain": [
       "<npc.Array shape=(2, 2) labels=['p', 'p*']>"
      ]
     },
     "execution_count": 23,
     "metadata": {},
     "output_type": "execute_result"
    }
   ],
   "source": [
    "expectation_gradient_from_environments(psi, 100)"
   ]
  },
  {
   "cell_type": "code",
   "execution_count": 24,
   "id": "5230f1cb-bcc3-488e-be3c-6e3672fbf444",
   "metadata": {},
   "outputs": [
    {
     "name": "stdout",
     "output_type": "stream",
     "text": [
      "Help on class enumerate in module builtins:\n",
      "\n",
      "class enumerate(object)\n",
      " |  enumerate(iterable, start=0)\n",
      " |  \n",
      " |  Return an enumerate object.\n",
      " |  \n",
      " |    iterable\n",
      " |      an object supporting iteration\n",
      " |  \n",
      " |  The enumerate object yields pairs containing a count (from start, which\n",
      " |  defaults to zero) and a value yielded by the iterable argument.\n",
      " |  \n",
      " |  enumerate is useful for obtaining an indexed list:\n",
      " |      (0, seq[0]), (1, seq[1]), (2, seq[2]), ...\n",
      " |  \n",
      " |  Methods defined here:\n",
      " |  \n",
      " |  __getattribute__(self, name, /)\n",
      " |      Return getattr(self, name).\n",
      " |  \n",
      " |  __iter__(self, /)\n",
      " |      Implement iter(self).\n",
      " |  \n",
      " |  __next__(self, /)\n",
      " |      Implement next(self).\n",
      " |  \n",
      " |  __reduce__(...)\n",
      " |      Return state information for pickling.\n",
      " |  \n",
      " |  ----------------------------------------------------------------------\n",
      " |  Class methods defined here:\n",
      " |  \n",
      " |  __class_getitem__(...)\n",
      " |      See PEP 585\n",
      " |  \n",
      " |  ----------------------------------------------------------------------\n",
      " |  Static methods defined here:\n",
      " |  \n",
      " |  __new__(*args, **kwargs)\n",
      " |      Create and return a new object.  See help(type) for accurate signature.\n",
      "\n"
     ]
    }
   ],
   "source": [
    "help(enumerate)"
   ]
  },
  {
   "cell_type": "code",
   "execution_count": 25,
   "id": "991573fb-4a34-441c-8f82-5d0247412d66",
   "metadata": {},
   "outputs": [],
   "source": [
    "def recursive_expectation_hessian(psi, left_site_index, left_environment,\n",
    "    right_environment, unitaries, perturbations, transfer_matrices,\n",
    "    hessian_array, mps_form):\n",
    "\n",
    "    head_unitary, *tail_unitaries = unitaries\n",
    "    head_perturbations, *tail_perturbations = perturbations\n",
    "    head_tm, *tail_tms = transfer_matrices\n",
    "\n",
    "    perturbation_tms = [\n",
    "        get_transfer_matrix_from_unitary(\n",
    "            psi, left_site_index, u, form=mps_form\n",
    "        )\n",
    "        for u in head_perturbations\n",
    "    ]\n",
    "\n",
    "    new_left_environments = [\n",
    "        multiply_transfer_matrices(left_environment, tm)\n",
    "        for tm in perturbation_tms\n",
    "    ]\n",
    "\n",
    "    tail_gradients = [\n",
    "        expectation_gradients(\n",
    "            psi, tail_tms, left_site_index+1, le, right_environment, mps_form\n",
    "        )\n",
    "        for le in new_left_environments\n",
    "    ]\n",
    "\n",
    "    for i, gradients in enumerate(tail_gradients):\n",
    "        for j, (gradient, perturbations) in enumerate(zip(gradients, tail_perturbations), start=1):\n",
    "            for k, perturbation in enumerate(perturbations):\n",
    "                np_grad = gradient.to_ndarray()\n",
    "                out = np.sum(np_grad*perturbation)\n",
    "                hessian_array[0, i, j, k] = out\n",
    "                hessian_array[j, k, 0, i] = out\n",
    "\n",
    "    new_left_environment = multiply_transfer_matrices(\n",
    "        left_environment, head_tm\n",
    "    )\n",
    "\n",
    "    if len(tail_unitaries) > 1:\n",
    "        recursive_expectation_hessian(\n",
    "            psi,\n",
    "            left_site_index+1,\n",
    "            new_left_environment,\n",
    "            right_environment,\n",
    "            tail_unitaries,\n",
    "            tail_perturbations,\n",
    "            tail_tms,\n",
    "            hessian_array[1:, :, 1:, :],\n",
    "            mps_form\n",
    "        )"
   ]
  },
  {
   "cell_type": "markdown",
   "id": "d57e90cd-61e4-463d-a8e0-f6b808b0ebe4",
   "metadata": {},
   "source": [
    "Be careful with how \"hessian_array\" is interpreted..."
   ]
  },
  {
   "cell_type": "code",
   "execution_count": 26,
   "id": "1eccd7c0-4d9e-428d-8906-f662a0f4af89",
   "metadata": {},
   "outputs": [],
   "source": [
    "def get_expectation_hessian(psi, left_site_index, left_environment,\n",
    "    right_environment, unitaries, transfer_matrices,\n",
    "    mps_form):\n",
    "\n",
    "    n = len(unitaries)\n",
    "\n",
    "    hessian_array = np.zeros((n, 3, n, 3), dtype=complex)\n",
    "\n",
    "    perturbations = [np.dot(non_trivial_hermitians, u) for u in unitaries]\n",
    "    \n",
    "    recursive_expectation_hessian(\n",
    "        psi,\n",
    "        left_site_index,\n",
    "        left_environment,\n",
    "        right_environment,\n",
    "        unitaries,\n",
    "        perturbations,\n",
    "        transfer_matrices,\n",
    "        hessian_array,\n",
    "        mps_form\n",
    "    )\n",
    "\n",
    "    return hessian_array"
   ]
  },
  {
   "cell_type": "markdown",
   "id": "758805e8-69c1-45c8-a611-23550e5eff40",
   "metadata": {},
   "source": [
    "### Testing"
   ]
  },
  {
   "cell_type": "code",
   "execution_count": 27,
   "id": "35f9263a-5a4d-4920-bfe3-1427c0d6b674",
   "metadata": {},
   "outputs": [
    {
     "data": {
      "text/plain": [
       "<SPTOptimization.SymmetryActionWithBoundaryUnitaries.SymmetryActionWithBoundaryUnitaries at 0x7709ce3ccd90>"
      ]
     },
     "execution_count": 27,
     "metadata": {},
     "output_type": "execute_result"
    }
   ],
   "source": [
    "test"
   ]
  },
  {
   "cell_type": "code",
   "execution_count": 55,
   "id": "f2ca4d10-df21-43ae-a628-c5fb3ee8bb82",
   "metadata": {},
   "outputs": [],
   "source": [
    "h = get_expectation_hessian(\n",
    "    psi,\n",
    "    test.right_symmetry_index + 1,\n",
    "    test.right_projected_symmetry_state,\n",
    "    get_right_identity_environment(psi, test.right_symmetry_index + 3),\n",
    "    test.right_boundary_unitaries,\n",
    "    test.right_transfer_matrices,\n",
    "    mps_form=\"B\"\n",
    ")"
   ]
  },
  {
   "cell_type": "code",
   "execution_count": 56,
   "id": "5d2ee2a4-1136-443a-a902-93e02b30e769",
   "metadata": {
    "scrolled": true
   },
   "outputs": [
    {
     "data": {
      "text/plain": [
       "array([[[[ 0.00000000e+00+0.00000000e+00j,\n",
       "           0.00000000e+00+0.00000000e+00j,\n",
       "           0.00000000e+00+0.00000000e+00j],\n",
       "         [ 0.00000000e+00-2.90532301e-19j,\n",
       "          -1.56357962e-15+0.00000000e+00j,\n",
       "           0.00000000e+00-9.49596969e-15j],\n",
       "         [ 0.00000000e+00+1.48966001e-15j,\n",
       "          -1.51557505e-14+0.00000000e+00j,\n",
       "           0.00000000e+00+2.03287907e-20j]],\n",
       "\n",
       "        [[ 0.00000000e+00+0.00000000e+00j,\n",
       "           0.00000000e+00+0.00000000e+00j,\n",
       "           0.00000000e+00+0.00000000e+00j],\n",
       "         [-1.73472348e-18+0.00000000e+00j,\n",
       "           0.00000000e+00-1.18391248e-08j,\n",
       "          -4.57724219e-08+0.00000000e+00j],\n",
       "         [-3.53098077e-01+0.00000000e+00j,\n",
       "           0.00000000e+00-6.90136837e-12j,\n",
       "          -2.77555756e-17+0.00000000e+00j]],\n",
       "\n",
       "        [[ 0.00000000e+00+0.00000000e+00j,\n",
       "           0.00000000e+00+0.00000000e+00j,\n",
       "           0.00000000e+00+0.00000000e+00j],\n",
       "         [ 0.00000000e+00-1.38777878e-17j,\n",
       "          -4.20946981e-08+0.00000000e+00j,\n",
       "           0.00000000e+00+1.62746424e-07j],\n",
       "         [ 0.00000000e+00+1.36514717e+00j,\n",
       "          -2.76622059e-11+0.00000000e+00j,\n",
       "           0.00000000e+00+2.77555756e-17j]]],\n",
       "\n",
       "\n",
       "       [[[ 0.00000000e+00-2.90532301e-19j,\n",
       "          -1.73472348e-18+0.00000000e+00j,\n",
       "           0.00000000e+00-1.38777878e-17j],\n",
       "         [ 0.00000000e+00+0.00000000e+00j,\n",
       "           0.00000000e+00+0.00000000e+00j,\n",
       "           0.00000000e+00+0.00000000e+00j],\n",
       "         [ 0.00000000e+00-2.76675349e-11j,\n",
       "           1.27534515e+00+0.00000000e+00j,\n",
       "           0.00000000e+00-3.06049945e-17j]],\n",
       "\n",
       "        [[-1.56357962e-15+0.00000000e+00j,\n",
       "           0.00000000e+00-1.18391248e-08j,\n",
       "          -4.20946981e-08+0.00000000e+00j],\n",
       "         [ 0.00000000e+00+0.00000000e+00j,\n",
       "           0.00000000e+00+0.00000000e+00j,\n",
       "           0.00000000e+00+0.00000000e+00j],\n",
       "         [ 6.44940262e-17+0.00000000e+00j,\n",
       "           0.00000000e+00-5.36812493e-17j,\n",
       "          -1.42403079e-07+0.00000000e+00j]],\n",
       "\n",
       "        [[ 0.00000000e+00-9.49596969e-15j,\n",
       "          -4.57724219e-08+0.00000000e+00j,\n",
       "           0.00000000e+00+1.62746424e-07j],\n",
       "         [ 0.00000000e+00+0.00000000e+00j,\n",
       "           0.00000000e+00+0.00000000e+00j,\n",
       "           0.00000000e+00+0.00000000e+00j],\n",
       "         [ 0.00000000e+00+6.95570852e-18j,\n",
       "          -3.06897847e-17+0.00000000e+00j,\n",
       "           0.00000000e+00+3.68328538e-08j]]],\n",
       "\n",
       "\n",
       "       [[[ 0.00000000e+00+1.48966001e-15j,\n",
       "          -3.53098077e-01+0.00000000e+00j,\n",
       "           0.00000000e+00+1.36514717e+00j],\n",
       "         [ 0.00000000e+00-2.76675349e-11j,\n",
       "           6.44940262e-17+0.00000000e+00j,\n",
       "           0.00000000e+00+6.95570852e-18j],\n",
       "         [ 0.00000000e+00+0.00000000e+00j,\n",
       "           0.00000000e+00+0.00000000e+00j,\n",
       "           0.00000000e+00+0.00000000e+00j]],\n",
       "\n",
       "        [[-1.51557505e-14+0.00000000e+00j,\n",
       "           0.00000000e+00-6.90136837e-12j,\n",
       "          -2.76622059e-11+0.00000000e+00j],\n",
       "         [ 1.27534515e+00+0.00000000e+00j,\n",
       "           0.00000000e+00-5.36812493e-17j,\n",
       "          -3.06897847e-17+0.00000000e+00j],\n",
       "         [ 0.00000000e+00+0.00000000e+00j,\n",
       "           0.00000000e+00+0.00000000e+00j,\n",
       "           0.00000000e+00+0.00000000e+00j]],\n",
       "\n",
       "        [[ 0.00000000e+00+2.03287907e-20j,\n",
       "          -2.77555756e-17+0.00000000e+00j,\n",
       "           0.00000000e+00+2.77555756e-17j],\n",
       "         [ 0.00000000e+00-3.06049945e-17j,\n",
       "          -1.42403079e-07+0.00000000e+00j,\n",
       "           0.00000000e+00+3.68328538e-08j],\n",
       "         [ 0.00000000e+00+0.00000000e+00j,\n",
       "           0.00000000e+00+0.00000000e+00j,\n",
       "           0.00000000e+00+0.00000000e+00j]]]])"
      ]
     },
     "execution_count": 56,
     "metadata": {},
     "output_type": "execute_result"
    }
   ],
   "source": [
    "h"
   ]
  },
  {
   "cell_type": "code",
   "execution_count": 57,
   "id": "28c6d71f-4096-41a8-acdb-e06d07c359d2",
   "metadata": {},
   "outputs": [
    {
     "data": {
      "text/plain": [
       "(3, 3, 3, 3)"
      ]
     },
     "execution_count": 57,
     "metadata": {},
     "output_type": "execute_result"
    }
   ],
   "source": [
    "h.shape"
   ]
  },
  {
   "cell_type": "code",
   "execution_count": 58,
   "id": "e46e9fcc-8e3d-4631-8db6-fcd60e98e899",
   "metadata": {},
   "outputs": [
    {
     "data": {
      "text/plain": [
       "(1.2753451457354705+0j)"
      ]
     },
     "execution_count": 58,
     "metadata": {},
     "output_type": "execute_result"
    }
   ],
   "source": [
    "np.max(h)"
   ]
  },
  {
   "cell_type": "code",
   "execution_count": 59,
   "id": "e39508c0-3181-4b53-9657-fd8c041222e3",
   "metadata": {},
   "outputs": [
    {
     "data": {
      "text/plain": [
       "34"
      ]
     },
     "execution_count": 59,
     "metadata": {},
     "output_type": "execute_result"
    }
   ],
   "source": [
    "np.argmax(h)"
   ]
  },
  {
   "cell_type": "code",
   "execution_count": 60,
   "id": "47a989df-ea90-4399-85e0-51dc74bfd69f",
   "metadata": {},
   "outputs": [],
   "source": [
    "matrix_h = h.reshape((9,9))"
   ]
  },
  {
   "cell_type": "code",
   "execution_count": 61,
   "id": "d4c89674-5c5f-4387-aa16-6a016f5a8066",
   "metadata": {
    "scrolled": true
   },
   "outputs": [
    {
     "data": {
      "text/plain": [
       "array([[ 0.00000000e+00+0.00000000e+00j,  0.00000000e+00+0.00000000e+00j,\n",
       "         0.00000000e+00+0.00000000e+00j,  0.00000000e+00-2.90532301e-19j,\n",
       "        -1.56357962e-15+0.00000000e+00j,  0.00000000e+00-9.49596969e-15j,\n",
       "         0.00000000e+00+1.48966001e-15j, -1.51557505e-14+0.00000000e+00j,\n",
       "         0.00000000e+00+2.03287907e-20j],\n",
       "       [ 0.00000000e+00+0.00000000e+00j,  0.00000000e+00+0.00000000e+00j,\n",
       "         0.00000000e+00+0.00000000e+00j, -1.73472348e-18+0.00000000e+00j,\n",
       "         0.00000000e+00-1.18391248e-08j, -4.57724219e-08+0.00000000e+00j,\n",
       "        -3.53098077e-01+0.00000000e+00j,  0.00000000e+00-6.90136837e-12j,\n",
       "        -2.77555756e-17+0.00000000e+00j],\n",
       "       [ 0.00000000e+00+0.00000000e+00j,  0.00000000e+00+0.00000000e+00j,\n",
       "         0.00000000e+00+0.00000000e+00j,  0.00000000e+00-1.38777878e-17j,\n",
       "        -4.20946981e-08+0.00000000e+00j,  0.00000000e+00+1.62746424e-07j,\n",
       "         0.00000000e+00+1.36514717e+00j, -2.76622059e-11+0.00000000e+00j,\n",
       "         0.00000000e+00+2.77555756e-17j],\n",
       "       [ 0.00000000e+00-2.90532301e-19j, -1.73472348e-18+0.00000000e+00j,\n",
       "         0.00000000e+00-1.38777878e-17j,  0.00000000e+00+0.00000000e+00j,\n",
       "         0.00000000e+00+0.00000000e+00j,  0.00000000e+00+0.00000000e+00j,\n",
       "         0.00000000e+00-2.76675349e-11j,  1.27534515e+00+0.00000000e+00j,\n",
       "         0.00000000e+00-3.06049945e-17j],\n",
       "       [-1.56357962e-15+0.00000000e+00j,  0.00000000e+00-1.18391248e-08j,\n",
       "        -4.20946981e-08+0.00000000e+00j,  0.00000000e+00+0.00000000e+00j,\n",
       "         0.00000000e+00+0.00000000e+00j,  0.00000000e+00+0.00000000e+00j,\n",
       "         6.44940262e-17+0.00000000e+00j,  0.00000000e+00-5.36812493e-17j,\n",
       "        -1.42403079e-07+0.00000000e+00j],\n",
       "       [ 0.00000000e+00-9.49596969e-15j, -4.57724219e-08+0.00000000e+00j,\n",
       "         0.00000000e+00+1.62746424e-07j,  0.00000000e+00+0.00000000e+00j,\n",
       "         0.00000000e+00+0.00000000e+00j,  0.00000000e+00+0.00000000e+00j,\n",
       "         0.00000000e+00+6.95570852e-18j, -3.06897847e-17+0.00000000e+00j,\n",
       "         0.00000000e+00+3.68328538e-08j],\n",
       "       [ 0.00000000e+00+1.48966001e-15j, -3.53098077e-01+0.00000000e+00j,\n",
       "         0.00000000e+00+1.36514717e+00j,  0.00000000e+00-2.76675349e-11j,\n",
       "         6.44940262e-17+0.00000000e+00j,  0.00000000e+00+6.95570852e-18j,\n",
       "         0.00000000e+00+0.00000000e+00j,  0.00000000e+00+0.00000000e+00j,\n",
       "         0.00000000e+00+0.00000000e+00j],\n",
       "       [-1.51557505e-14+0.00000000e+00j,  0.00000000e+00-6.90136837e-12j,\n",
       "        -2.76622059e-11+0.00000000e+00j,  1.27534515e+00+0.00000000e+00j,\n",
       "         0.00000000e+00-5.36812493e-17j, -3.06897847e-17+0.00000000e+00j,\n",
       "         0.00000000e+00+0.00000000e+00j,  0.00000000e+00+0.00000000e+00j,\n",
       "         0.00000000e+00+0.00000000e+00j],\n",
       "       [ 0.00000000e+00+2.03287907e-20j, -2.77555756e-17+0.00000000e+00j,\n",
       "         0.00000000e+00+2.77555756e-17j,  0.00000000e+00-3.06049945e-17j,\n",
       "        -1.42403079e-07+0.00000000e+00j,  0.00000000e+00+3.68328538e-08j,\n",
       "         0.00000000e+00+0.00000000e+00j,  0.00000000e+00+0.00000000e+00j,\n",
       "         0.00000000e+00+0.00000000e+00j]])"
      ]
     },
     "execution_count": 61,
     "metadata": {},
     "output_type": "execute_result"
    }
   ],
   "source": [
    "matrix_h"
   ]
  },
  {
   "cell_type": "code",
   "execution_count": 62,
   "id": "555723b9-c7fc-461d-b53f-4ceccb808e03",
   "metadata": {},
   "outputs": [
    {
     "data": {
      "text/plain": [
       "0j"
      ]
     },
     "execution_count": 62,
     "metadata": {},
     "output_type": "execute_result"
    }
   ],
   "source": [
    "np.max(matrix_h - matrix_h.T)"
   ]
  },
  {
   "cell_type": "code",
   "execution_count": 63,
   "id": "6d51de3d-63f2-4881-b5ba-8e88fb4816f3",
   "metadata": {},
   "outputs": [
    {
     "data": {
      "text/plain": [
       "0j"
      ]
     },
     "execution_count": 63,
     "metadata": {},
     "output_type": "execute_result"
    }
   ],
   "source": [
    "matrix_h[0,0]"
   ]
  },
  {
   "cell_type": "code",
   "execution_count": 64,
   "id": "6c2ef7c4-d90c-4df7-9eed-d1d0b58c61ba",
   "metadata": {},
   "outputs": [
    {
     "data": {
      "text/plain": [
       "0j"
      ]
     },
     "execution_count": 64,
     "metadata": {},
     "output_type": "execute_result"
    }
   ],
   "source": [
    "np.max(np.diagonal(matrix_h))"
   ]
  },
  {
   "cell_type": "code",
   "execution_count": 65,
   "id": "15ccf902-bf08-4df3-bf39-d29cd30764d7",
   "metadata": {},
   "outputs": [
    {
     "data": {
      "text/plain": [
       "array([[0.+0.j, 0.+0.j, 0.+0.j],\n",
       "       [0.+0.j, 0.+0.j, 0.+0.j],\n",
       "       [0.+0.j, 0.+0.j, 0.+0.j]])"
      ]
     },
     "execution_count": 65,
     "metadata": {},
     "output_type": "execute_result"
    }
   ],
   "source": [
    "h[0, :, 0, :]"
   ]
  },
  {
   "cell_type": "code",
   "execution_count": 66,
   "id": "7f68ca5c-9eb9-4d6c-b3cc-ee673821bd43",
   "metadata": {},
   "outputs": [
    {
     "data": {
      "text/plain": [
       "array([[0.+0.j, 0.+0.j, 0.+0.j],\n",
       "       [0.+0.j, 0.+0.j, 0.+0.j],\n",
       "       [0.+0.j, 0.+0.j, 0.+0.j]])"
      ]
     },
     "execution_count": 66,
     "metadata": {},
     "output_type": "execute_result"
    }
   ],
   "source": [
    "h[1, :, 1, :]"
   ]
  },
  {
   "cell_type": "code",
   "execution_count": 67,
   "id": "9aa0d995-2ea5-4416-9f90-e90101f07d77",
   "metadata": {},
   "outputs": [
    {
     "data": {
      "text/plain": [
       "array([[0.+0.j, 0.+0.j, 0.+0.j],\n",
       "       [0.+0.j, 0.+0.j, 0.+0.j],\n",
       "       [0.+0.j, 0.+0.j, 0.+0.j]])"
      ]
     },
     "execution_count": 67,
     "metadata": {},
     "output_type": "execute_result"
    }
   ],
   "source": [
    "h[2, :, 2, :]"
   ]
  },
  {
   "cell_type": "code",
   "execution_count": 68,
   "id": "1e29028e-9255-475e-8fe5-62b0caec0b7c",
   "metadata": {},
   "outputs": [
    {
     "data": {
      "text/plain": [
       "array([[ 0.00000000e+00+1.48966001e-15j, -1.51557505e-14+0.00000000e+00j,\n",
       "         0.00000000e+00+2.03287907e-20j],\n",
       "       [-3.53098077e-01+0.00000000e+00j,  0.00000000e+00-6.90136837e-12j,\n",
       "        -2.77555756e-17+0.00000000e+00j],\n",
       "       [ 0.00000000e+00+1.36514717e+00j, -2.76622059e-11+0.00000000e+00j,\n",
       "         0.00000000e+00+2.77555756e-17j]])"
      ]
     },
     "execution_count": 68,
     "metadata": {},
     "output_type": "execute_result"
    }
   ],
   "source": [
    "h[0, :, 2, :]"
   ]
  },
  {
   "cell_type": "markdown",
   "id": "0da8bc66-c1de-4ef0-8efe-d9dd93238e0f",
   "metadata": {},
   "source": [
    "Compute expectations"
   ]
  },
  {
   "cell_type": "code",
   "execution_count": 69,
   "id": "e1ace0ca-a6bc-453a-83d8-9dee740df22b",
   "metadata": {},
   "outputs": [],
   "source": [
    "rescale_factor = (\n",
    "    test.left_expectation\n",
    "    * test.symmetry_transfer_matrix_singular_vals[0]\n",
    ")"
   ]
  },
  {
   "cell_type": "code",
   "execution_count": 70,
   "id": "73923171-6714-4f69-9c15-1b6ece3ae7f8",
   "metadata": {},
   "outputs": [],
   "source": [
    "perturbation1 = np.dot(non_trivial_hermitians[2], np_Y)\n",
    "perturbation2 = np.dot(non_trivial_hermitians[0], np_X)"
   ]
  },
  {
   "cell_type": "code",
   "execution_count": 71,
   "id": "9ee47083-6228-4f1c-b7ec-a61a36aa7ea8",
   "metadata": {},
   "outputs": [],
   "source": [
    "test2 = SymmetryActionWithBoundaryUnitaries(\n",
    "    psi,\n",
    "    [np_X, np_I]*50,\n",
    "    left_boundary_unitaries = [np_Z,],\n",
    "    right_boundary_unitaries = [perturbation1, np_Z, perturbation2]\n",
    ")"
   ]
  },
  {
   "cell_type": "code",
   "execution_count": 72,
   "id": "c224a24f-c811-48fe-be0b-aba1a6b76f45",
   "metadata": {},
   "outputs": [
    {
     "data": {
      "text/plain": [
       "array(0.+0.93061628j)"
      ]
     },
     "execution_count": 72,
     "metadata": {},
     "output_type": "execute_result"
    }
   ],
   "source": [
    "test2.compute_expectation()"
   ]
  },
  {
   "cell_type": "code",
   "execution_count": 73,
   "id": "f6cdb933-4632-40fc-8110-f82817660a65",
   "metadata": {},
   "outputs": [
    {
     "data": {
      "text/plain": [
       "0.930616280444522j"
      ]
     },
     "execution_count": 73,
     "metadata": {},
     "output_type": "execute_result"
    }
   ],
   "source": [
    "rescale_factor * h[0, 2, 2, 0]"
   ]
  },
  {
   "cell_type": "code",
   "execution_count": 74,
   "id": "2777d37f-93f3-49f0-8c54-d7a4bb59a5c6",
   "metadata": {},
   "outputs": [],
   "source": [
    "test_h = np.zeros((3,3), dtype=complex)"
   ]
  },
  {
   "cell_type": "code",
   "execution_count": 82,
   "id": "875e0d5e-25a1-4855-941c-b02ae9464c6d",
   "metadata": {},
   "outputs": [],
   "source": [
    "for i, m1 in enumerate(non_trivial_hermitians):\n",
    "    for j, m2 in enumerate(non_trivial_hermitians):\n",
    "        p1 = np.dot(m1, np_Y)\n",
    "        p2 = np.dot(m2, np_X)\n",
    "\n",
    "        e = SymmetryActionWithBoundaryUnitaries(\n",
    "            psi,\n",
    "            [np_X, np_I]*50,\n",
    "            left_boundary_unitaries = [np_Z,],\n",
    "            right_boundary_unitaries = [p1, np_Z, p2]\n",
    "        )\n",
    "        \n",
    "        test_h[i, j] = e.compute_expectation()"
   ]
  },
  {
   "cell_type": "code",
   "execution_count": 83,
   "id": "4a0ed8bf-5a60-4924-9eb3-084af6b6710a",
   "metadata": {},
   "outputs": [
    {
     "data": {
      "text/plain": [
       "array([[ 0.00000000e+00+0.00000000e+00j, -1.03311743e-14+0.00000000e+00j,\n",
       "         0.00000000e+00+0.00000000e+00j],\n",
       "       [-2.40705783e-01+0.00000000e+00j,  0.00000000e+00-4.70463983e-12j,\n",
       "        -5.63872175e-18+0.00000000e+00j],\n",
       "       [ 0.00000000e+00+9.30616280e-01j, -1.88572420e-11+0.00000000e+00j,\n",
       "         0.00000000e+00+0.00000000e+00j]])"
      ]
     },
     "execution_count": 83,
     "metadata": {},
     "output_type": "execute_result"
    }
   ],
   "source": [
    "test_h"
   ]
  },
  {
   "cell_type": "code",
   "execution_count": 84,
   "id": "7f969efd-5af6-4fba-a4db-434fc9ba3cb4",
   "metadata": {},
   "outputs": [
    {
     "data": {
      "text/plain": [
       "array([[ 0.00000000e+00+1.01549627e-15j, -1.03316247e-14+0.00000000e+00j,\n",
       "         0.00000000e+00+1.38580689e-20j],\n",
       "       [-2.40705783e-01+0.00000000e+00j,  0.00000000e+00-4.70463983e-12j,\n",
       "        -1.89208835e-17+0.00000000e+00j],\n",
       "       [ 0.00000000e+00+9.30616280e-01j, -1.88572336e-11+0.00000000e+00j,\n",
       "         0.00000000e+00+1.89208835e-17j]])"
      ]
     },
     "execution_count": 84,
     "metadata": {},
     "output_type": "execute_result"
    }
   ],
   "source": [
    "rescale_factor * h[0, :, 2, :]"
   ]
  },
  {
   "cell_type": "code",
   "execution_count": 85,
   "id": "6f07b088-8f30-4ba5-ae39-c28f8baac4f5",
   "metadata": {},
   "outputs": [
    {
     "data": {
      "text/plain": [
       "1.0154962677034446e-15"
      ]
     },
     "execution_count": 85,
     "metadata": {},
     "output_type": "execute_result"
    }
   ],
   "source": [
    "np.max(np.abs(test_h - rescale_factor * h[0, :, 2, :]))"
   ]
  },
  {
   "cell_type": "code",
   "execution_count": 95,
   "id": "9608ae4f-6c1c-4e76-9681-7d68ef3d790f",
   "metadata": {},
   "outputs": [],
   "source": [
    "for i, m1 in enumerate(non_trivial_hermitians):\n",
    "    for j, m2 in enumerate(non_trivial_hermitians):\n",
    "        p1 = np.dot(m1, np_Y)\n",
    "        p2 = np.dot(m2, np_Z)\n",
    "\n",
    "        e = SymmetryActionWithBoundaryUnitaries(\n",
    "            psi,\n",
    "            [np_X, np_I]*50,\n",
    "            left_boundary_unitaries = [np_Z,],\n",
    "            right_boundary_unitaries = [p1, p2, np_X]\n",
    "        )\n",
    "        \n",
    "        test_h[i, j] = e.compute_expectation()"
   ]
  },
  {
   "cell_type": "code",
   "execution_count": 96,
   "id": "4e241df3-5ffa-4592-aec0-5c0f18113b6f",
   "metadata": {},
   "outputs": [
    {
     "data": {
      "text/plain": [
       "array([[ 0.00000000e+00+0.00000000e+00j, -1.06324967e-15+0.00000000e+00j,\n",
       "         0.00000000e+00+0.00000000e+00j],\n",
       "       [-3.87950843e-19+0.00000000e+00j,  0.00000000e+00-8.07069194e-09j,\n",
       "        -3.12029076e-08+0.00000000e+00j],\n",
       "       [ 0.00000000e+00+0.00000000e+00j, -2.86958155e-08+0.00000000e+00j,\n",
       "         0.00000000e+00+1.10943695e-07j]])"
      ]
     },
     "execution_count": 96,
     "metadata": {},
     "output_type": "execute_result"
    }
   ],
   "source": [
    "test_h"
   ]
  },
  {
   "cell_type": "code",
   "execution_count": 97,
   "id": "3cd6b818-f372-41f1-9484-89a41b1f322c",
   "metadata": {},
   "outputs": [
    {
     "data": {
      "text/plain": [
       "array([[ 0.00000000e+00-1.98054902e-19j, -1.06588702e-15+0.00000000e+00j,\n",
       "         0.00000000e+00-6.47337092e-15j],\n",
       "       [-1.18255522e-18+0.00000000e+00j,  0.00000000e+00-8.07069195e-09j,\n",
       "        -3.12029076e-08+0.00000000e+00j],\n",
       "       [ 0.00000000e+00-9.46044173e-18j, -2.86958155e-08+0.00000000e+00j,\n",
       "         0.00000000e+00+1.10943695e-07j]])"
      ]
     },
     "execution_count": 97,
     "metadata": {},
     "output_type": "execute_result"
    }
   ],
   "source": [
    "rescale_factor * h[0, :, 1, :]"
   ]
  },
  {
   "cell_type": "code",
   "execution_count": 98,
   "id": "8b58b8b8-acd8-4ddf-91e9-3d3d53b748f7",
   "metadata": {},
   "outputs": [
    {
     "data": {
      "text/plain": [
       "6.473370916506173e-15"
      ]
     },
     "execution_count": 98,
     "metadata": {},
     "output_type": "execute_result"
    }
   ],
   "source": [
    "np.max(np.abs(test_h - rescale_factor * h[0, :, 1, :]))"
   ]
  },
  {
   "cell_type": "code",
   "execution_count": 90,
   "id": "44767e9a-1a2c-43c2-8a43-3c4568520e33",
   "metadata": {},
   "outputs": [],
   "source": [
    "for i, m1 in enumerate(non_trivial_hermitians):\n",
    "    for j, m2 in enumerate(non_trivial_hermitians):\n",
    "        p1 = np.dot(m1, np_Z)\n",
    "        p2 = np.dot(m2, np_X)\n",
    "\n",
    "        e = SymmetryActionWithBoundaryUnitaries(\n",
    "            psi,\n",
    "            [np_X, np_I]*50,\n",
    "            left_boundary_unitaries = [np_Z,],\n",
    "            right_boundary_unitaries = [np_Y, p1, p2]\n",
    "        )\n",
    "        \n",
    "        test_h[i, j] = e.compute_expectation()"
   ]
  },
  {
   "cell_type": "code",
   "execution_count": 91,
   "id": "7a9bff04-aa91-45f0-8e03-af0c0e87886e",
   "metadata": {},
   "outputs": [
    {
     "data": {
      "text/plain": [
       "array([[ 0.00000000e+00-1.88608753e-11j,  8.69398539e-01+0.00000000e+00j,\n",
       "         0.00000000e+00+0.00000000e+00j],\n",
       "       [-2.42348324e-17+0.00000000e+00j,  0.00000000e+00+0.00000000e+00j,\n",
       "        -9.70757050e-08+0.00000000e+00j],\n",
       "       [ 0.00000000e+00+0.00000000e+00j, -1.82113166e-17+0.00000000e+00j,\n",
       "         0.00000000e+00+2.51088338e-08j]])"
      ]
     },
     "execution_count": 91,
     "metadata": {},
     "output_type": "execute_result"
    }
   ],
   "source": [
    "test_h"
   ]
  },
  {
   "cell_type": "code",
   "execution_count": 92,
   "id": "4b081a40-d10a-453a-9e5d-600c0543ed28",
   "metadata": {},
   "outputs": [
    {
     "data": {
      "text/plain": [
       "array([[ 0.00000000e+00-1.88608664e-11j,  8.69398539e-01+0.00000000e+00j,\n",
       "         0.00000000e+00-2.08633228e-17j],\n",
       "       [ 4.39653629e-17+0.00000000e+00j,  0.00000000e+00-3.65943289e-17j,\n",
       "        -9.70757049e-08+0.00000000e+00j],\n",
       "       [ 0.00000000e+00+4.74168333e-18j, -2.09211241e-17+0.00000000e+00j,\n",
       "         0.00000000e+00+2.51088338e-08j]])"
      ]
     },
     "execution_count": 92,
     "metadata": {},
     "output_type": "execute_result"
    }
   ],
   "source": [
    "rescale_factor * h[1, :, 2, :]"
   ]
  },
  {
   "cell_type": "code",
   "execution_count": 94,
   "id": "1e92c503-8464-4620-98a9-38eeb47a8887",
   "metadata": {},
   "outputs": [
    {
     "data": {
      "text/plain": [
       "9.992007221626409e-16"
      ]
     },
     "execution_count": 94,
     "metadata": {},
     "output_type": "execute_result"
    }
   ],
   "source": [
    "np.max(np.abs(test_h - rescale_factor * h[1, :, 2, :]))"
   ]
  },
  {
   "cell_type": "markdown",
   "id": "7cda8bad-7a78-47a4-bc5b-5006dd3fbb81",
   "metadata": {},
   "source": [
    "Looks good!"
   ]
  },
  {
   "cell_type": "code",
   "execution_count": 99,
   "id": "7871c1a3-6aec-4d2a-84b2-38b1fc2c9773",
   "metadata": {},
   "outputs": [],
   "source": [
    "def get_expectation_gradient_fixed_basis(expectation_gradients, unitaries):\n",
    "    gradients = np.array([g.to_ndarray() for g in expectation_gradients])\n",
    "    perturbations = np.array([np.dot(non_trivial_hermitians, u) for u in unitaries])\n",
    "\n",
    "    perturbation_gradients = np.sum(\n",
    "        gradients[:, np.newaxis, ...] * perturbations,\n",
    "        (-1, -2)\n",
    "    )\n",
    "\n",
    "    return perturbation_gradients"
   ]
  },
  {
   "cell_type": "code",
   "execution_count": 100,
   "id": "ffef90c2-856c-40a2-addd-359603077e4c",
   "metadata": {},
   "outputs": [],
   "source": [
    "gradients = expectation_gradients(\n",
    "    psi,\n",
    "    test.right_transfer_matrices,\n",
    "    test.right_symmetry_index+1,\n",
    "    test.right_projected_symmetry_state\n",
    ")"
   ]
  },
  {
   "cell_type": "code",
   "execution_count": 101,
   "id": "46103dc6-ad92-4971-9377-2689b7617617",
   "metadata": {},
   "outputs": [
    {
     "data": {
      "text/plain": [
       "<npc.Array shape=(2, 2) labels=['p*', 'p']>"
      ]
     },
     "execution_count": 101,
     "metadata": {},
     "output_type": "execute_result"
    }
   ],
   "source": [
    "gradients[0]"
   ]
  },
  {
   "cell_type": "code",
   "execution_count": 102,
   "id": "1c7d8370-344b-419f-a455-b3a0057923e0",
   "metadata": {},
   "outputs": [],
   "source": [
    "X = get_expectation_gradient_fixed_basis(gradients, test.right_boundary_unitaries)"
   ]
  },
  {
   "cell_type": "code",
   "execution_count": 104,
   "id": "e585612c-11cb-40b9-81a8-365eadb82b6d",
   "metadata": {},
   "outputs": [
    {
     "data": {
      "text/plain": [
       "(3, 3)"
      ]
     },
     "execution_count": 104,
     "metadata": {},
     "output_type": "execute_result"
    }
   ],
   "source": [
    "X.shape"
   ]
  },
  {
   "cell_type": "code",
   "execution_count": 105,
   "id": "c86f51b1-8578-4e4e-8a9b-6a82d28071f9",
   "metadata": {},
   "outputs": [],
   "source": [
    "def get_quadratic_expectation_hessian(expectation, expectation_gradients,\n",
    "                                      expectation_hessian):\n",
    "\n",
    "    n = expectation_hessian.shape[0]*expectation_hessian.shape[1]\n",
    "\n",
    "    flat_exp_hessian = np.reshape(expectation_hessian, (n,n))\n",
    "    h1 = np.real(expectation*np.conj(flat_exp_hessian))\n",
    "\n",
    "    flat_exp_grads = np.reshape(expectation_gradients, (n))\n",
    "\n",
    "    second_order_from_first_hessian = (\n",
    "        flat_exp_grads[:, np.newaxis] + flat_exp_grads[np.newaxis, :]\n",
    "    )\n",
    "\n",
    "    h2 = np.abs(second_order_from_first_hessian)**2\n",
    "\n",
    "    return 2*(h1 + h2)"
   ]
  },
  {
   "cell_type": "code",
   "execution_count": null,
   "id": "0159d030-d5f1-4e8e-87aa-0f6d1a49e570",
   "metadata": {},
   "outputs": [],
   "source": []
  },
  {
   "cell_type": "code",
   "execution_count": 106,
   "id": "e1a7e190-85d1-42d3-b7fa-8a72787d927b",
   "metadata": {},
   "outputs": [],
   "source": [
    "full_h = get_quadratic_expectation_hessian(\n",
    "        test.expectation,\n",
    "        X,\n",
    "        h\n",
    "    )"
   ]
  },
  {
   "cell_type": "code",
   "execution_count": 107,
   "id": "106bbd0a-45bc-40c5-9b2b-dc5b5f563551",
   "metadata": {},
   "outputs": [
    {
     "data": {
      "text/plain": [
       "(9, 9)"
      ]
     },
     "execution_count": 107,
     "metadata": {},
     "output_type": "execute_result"
    }
   ],
   "source": [
    "full_h.shape"
   ]
  },
  {
   "cell_type": "code",
   "execution_count": 108,
   "id": "1b2758e1-a525-4d9b-b0ed-017a5ed4f012",
   "metadata": {},
   "outputs": [
    {
     "data": {
      "text/plain": [
       "array([[3.52702330e-27, 3.59068443e-02, 2.49356504e-01, 9.52478914e-23,\n",
       "        8.81755952e-28, 8.82338708e-28, 8.77026007e-28, 8.81755825e-28,\n",
       "        1.49419982e-27],\n",
       "       [3.59068443e-02, 1.43627377e-01, 2.85263348e-01, 3.59068443e-02,\n",
       "        3.59068443e-02, 3.59068443e-02, 3.59068443e-02, 3.59068443e-02,\n",
       "        3.59068443e-02],\n",
       "       [2.49356504e-01, 2.85263348e-01, 9.97426015e-01, 2.49356504e-01,\n",
       "        2.49356504e-01, 2.49356504e-01, 2.49356504e-01, 2.49356504e-01,\n",
       "        2.49356504e-01],\n",
       "       [9.52478914e-23, 3.59068443e-02, 2.49356504e-01, 3.83313511e-22,\n",
       "        9.58283778e-23, 9.58281857e-23, 9.58299392e-23, 9.58283778e-23,\n",
       "        9.56530257e-23],\n",
       "       [8.81755952e-28, 3.59068443e-02, 2.49356504e-01, 9.58283778e-23,\n",
       "        5.06298641e-34, 2.22871158e-34, 6.48643552e-33, 1.28144149e-34,\n",
       "        8.02908178e-29],\n",
       "       [8.82338708e-28, 3.59068443e-02, 2.49356504e-01, 9.58281857e-23,\n",
       "        2.22871158e-34, 3.85185989e-34, 4.89099625e-33, 9.63013326e-35,\n",
       "        8.04666478e-29],\n",
       "       [8.77026007e-28, 3.59068443e-02, 2.49356504e-01, 9.58299392e-23,\n",
       "        6.48643552e-33, 4.89099625e-33, 2.54394434e-32, 6.35986570e-33,\n",
       "        7.88678728e-29],\n",
       "       [8.81755825e-28, 3.59068443e-02, 2.49356504e-01, 9.58283778e-23,\n",
       "        1.28144149e-34, 9.63013326e-35, 6.35986570e-33, 1.93414637e-38,\n",
       "        8.02906912e-29],\n",
       "       [1.49419982e-27, 3.59068443e-02, 2.49356504e-01, 9.56530257e-23,\n",
       "        8.02908178e-29, 8.04666478e-29, 7.88678728e-29, 8.02906912e-29,\n",
       "        3.21162765e-28]])"
      ]
     },
     "execution_count": 108,
     "metadata": {},
     "output_type": "execute_result"
    }
   ],
   "source": [
    "full_h"
   ]
  },
  {
   "cell_type": "code",
   "execution_count": 110,
   "id": "aa68bb33-9295-43ee-b0b0-d0ce8ca8e92d",
   "metadata": {},
   "outputs": [
    {
     "ename": "LinAlgError",
     "evalue": "Matrix is not positive definite",
     "output_type": "error",
     "traceback": [
      "\u001b[0;31m---------------------------------------------------------------------------\u001b[0m",
      "\u001b[0;31mLinAlgError\u001b[0m                               Traceback (most recent call last)",
      "Cell \u001b[0;32mIn[110], line 1\u001b[0m\n\u001b[0;32m----> 1\u001b[0m \u001b[43mnp\u001b[49m\u001b[38;5;241;43m.\u001b[39;49m\u001b[43mlinalg\u001b[49m\u001b[38;5;241;43m.\u001b[39;49m\u001b[43mcholesky\u001b[49m\u001b[43m(\u001b[49m\u001b[43mfull_h\u001b[49m\u001b[43m)\u001b[49m\n",
      "File \u001b[0;32m~/Desktop/numerical_spt_classification/code/num_spt_venv_p11/lib/python3.11/site-packages/numpy/linalg/linalg.py:779\u001b[0m, in \u001b[0;36mcholesky\u001b[0;34m(a)\u001b[0m\n\u001b[1;32m    777\u001b[0m t, result_t \u001b[38;5;241m=\u001b[39m _commonType(a)\n\u001b[1;32m    778\u001b[0m signature \u001b[38;5;241m=\u001b[39m \u001b[38;5;124m'\u001b[39m\u001b[38;5;124mD->D\u001b[39m\u001b[38;5;124m'\u001b[39m \u001b[38;5;28;01mif\u001b[39;00m isComplexType(t) \u001b[38;5;28;01melse\u001b[39;00m \u001b[38;5;124m'\u001b[39m\u001b[38;5;124md->d\u001b[39m\u001b[38;5;124m'\u001b[39m\n\u001b[0;32m--> 779\u001b[0m r \u001b[38;5;241m=\u001b[39m \u001b[43mgufunc\u001b[49m\u001b[43m(\u001b[49m\u001b[43ma\u001b[49m\u001b[43m,\u001b[49m\u001b[43m \u001b[49m\u001b[43msignature\u001b[49m\u001b[38;5;241;43m=\u001b[39;49m\u001b[43msignature\u001b[49m\u001b[43m,\u001b[49m\u001b[43m \u001b[49m\u001b[43mextobj\u001b[49m\u001b[38;5;241;43m=\u001b[39;49m\u001b[43mextobj\u001b[49m\u001b[43m)\u001b[49m\n\u001b[1;32m    780\u001b[0m \u001b[38;5;28;01mreturn\u001b[39;00m wrap(r\u001b[38;5;241m.\u001b[39mastype(result_t, copy\u001b[38;5;241m=\u001b[39m\u001b[38;5;28;01mFalse\u001b[39;00m))\n",
      "File \u001b[0;32m~/Desktop/numerical_spt_classification/code/num_spt_venv_p11/lib/python3.11/site-packages/numpy/linalg/linalg.py:115\u001b[0m, in \u001b[0;36m_raise_linalgerror_nonposdef\u001b[0;34m(err, flag)\u001b[0m\n\u001b[1;32m    114\u001b[0m \u001b[38;5;28;01mdef\u001b[39;00m \u001b[38;5;21m_raise_linalgerror_nonposdef\u001b[39m(err, flag):\n\u001b[0;32m--> 115\u001b[0m     \u001b[38;5;28;01mraise\u001b[39;00m LinAlgError(\u001b[38;5;124m\"\u001b[39m\u001b[38;5;124mMatrix is not positive definite\u001b[39m\u001b[38;5;124m\"\u001b[39m)\n",
      "\u001b[0;31mLinAlgError\u001b[0m: Matrix is not positive definite"
     ]
    }
   ],
   "source": [
    "np.linalg.cholesky(full_h)"
   ]
  },
  {
   "cell_type": "code",
   "execution_count": 111,
   "id": "39e82d6f-79b8-4b9a-b6f1-8297ec52ac73",
   "metadata": {},
   "outputs": [],
   "source": [
    "l = np.linalg.eigvalsh(full_h)"
   ]
  },
  {
   "cell_type": "code",
   "execution_count": 112,
   "id": "e8ae6f97-03a1-4711-bd06-5febb4aa5e99",
   "metadata": {},
   "outputs": [
    {
     "data": {
      "text/plain": [
       "array([-3.32490283e-01, -5.26609219e-18, -2.17188302e-18, -1.43784166e-19,\n",
       "       -4.81482486e-35,  8.60744946e-19,  4.76945052e-18,  7.70089597e-02,\n",
       "        1.39653472e+00])"
      ]
     },
     "execution_count": 112,
     "metadata": {},
     "output_type": "execute_result"
    }
   ],
   "source": [
    "l"
   ]
  },
  {
   "cell_type": "code",
   "execution_count": null,
   "id": "2e1fb478-670f-4a2c-8c6d-376d5520eb83",
   "metadata": {},
   "outputs": [],
   "source": []
  }
 ],
 "metadata": {
  "kernelspec": {
   "display_name": "num_spt_venv_p11",
   "language": "python",
   "name": "num_spt_venv_p11"
  },
  "language_info": {
   "codemirror_mode": {
    "name": "ipython",
    "version": 3
   },
   "file_extension": ".py",
   "mimetype": "text/x-python",
   "name": "python",
   "nbconvert_exporter": "python",
   "pygments_lexer": "ipython3",
   "version": "3.11.9"
  }
 },
 "nbformat": 4,
 "nbformat_minor": 5
}
