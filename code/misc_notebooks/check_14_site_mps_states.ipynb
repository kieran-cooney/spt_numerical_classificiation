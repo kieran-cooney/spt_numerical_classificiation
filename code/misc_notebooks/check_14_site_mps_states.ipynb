{
 "cells": [
  {
   "cell_type": "markdown",
   "id": "cb563d96-ecb9-4761-bce3-d97945dc1fce",
   "metadata": {},
   "source": [
    "# Check 14 site mps states\n",
    "\n",
    "Objectives:\n",
    "* Check states created in [this notebook](../save_states/finite_transverse_cluster_save_dmrg_14_site.ipynb). Compare against 14 site ED states."
   ]
  },
  {
   "cell_type": "code",
   "execution_count": 1,
   "id": "eb653ebd-4d93-40fa-acfe-0eeafd35c1ef",
   "metadata": {},
   "outputs": [],
   "source": [
    "ED_DATA_DIR = r\"../data/transverse_cluster_14_site_dmrg\"\n",
    "MPS_DATA_DIR = r\"../data/transverse_cluster_200_site_dmrg\""
   ]
  },
  {
   "cell_type": "code",
   "execution_count": 2,
   "id": "3d489104-7550-4dd1-bc7f-9cadadfd29d7",
   "metadata": {},
   "outputs": [],
   "source": [
    "import h5py\n",
    "from tenpy.tools import hdf5_io\n",
    "\n",
    "import os"
   ]
  },
  {
   "cell_type": "code",
   "execution_count": 3,
   "id": "b2be2cf2-73f6-46d8-87e6-87b3e07e1111",
   "metadata": {},
   "outputs": [],
   "source": [
    "import sys"
   ]
  },
  {
   "cell_type": "code",
   "execution_count": 4,
   "id": "f180634c-3285-4c8a-8ff4-e6df548bf70b",
   "metadata": {},
   "outputs": [],
   "source": [
    "import numpy as np\n",
    "import matplotlib.pyplot as plt\n",
    "import matplotlib"
   ]
  },
  {
   "cell_type": "code",
   "execution_count": 5,
   "id": "ff243098-9cf9-4af0-970d-ea72d8157709",
   "metadata": {},
   "outputs": [],
   "source": [
    "import tenpy.linalg.np_conserved as npc"
   ]
  },
  {
   "cell_type": "code",
   "execution_count": 6,
   "id": "b106663a-0833-496b-b01e-7f8c2d6bf4da",
   "metadata": {},
   "outputs": [],
   "source": [
    "sys.path.append('../')"
   ]
  },
  {
   "cell_type": "code",
   "execution_count": 7,
   "id": "ad8c5dc9-4c08-4b8d-8619-19861300c88f",
   "metadata": {},
   "outputs": [],
   "source": [
    "from SPTOptimization.utils import to_npc_array"
   ]
  },
  {
   "cell_type": "code",
   "execution_count": 13,
   "id": "2bf61e24-3053-4d9e-949d-6cc598097e93",
   "metadata": {},
   "outputs": [],
   "source": [
    "import re"
   ]
  },
  {
   "cell_type": "markdown",
   "id": "4fddcc94-10dd-4326-b079-b7dc6bfd9434",
   "metadata": {},
   "source": [
    "# Load data"
   ]
  },
  {
   "cell_type": "code",
   "execution_count": 8,
   "id": "2b655610-048f-413f-89ee-6d48b81ec39b",
   "metadata": {},
   "outputs": [],
   "source": [
    "def split_full_state_legs(full_state_psi):\n",
    "    dim = full_state_psi.shape\n",
    "\n",
    "    num_legs = int(np.log2(dim[0]))\n",
    "    new_labels = [f'p{i}' for i in range(num_legs)]\n",
    "\n",
    "    full_state_psi.iset_leg_labels(['(' + '.'.join(new_labels) + ')'])\n",
    "    full_state_psi = full_state_psi.split_legs([0])\n",
    "    return full_state_psi"
   ]
  },
  {
   "cell_type": "code",
   "execution_count": 14,
   "id": "6fc941c8-0baa-41fe-8f67-9b66eaecbc50",
   "metadata": {},
   "outputs": [],
   "source": [
    "p = re.compile(r\"^\\d_\\d\\d\\.h5$\")"
   ]
  },
  {
   "cell_type": "code",
   "execution_count": 17,
   "id": "44f437ad-db1d-431d-a52b-d55fe73ee381",
   "metadata": {},
   "outputs": [],
   "source": [
    "loaded_data = list()\n",
    "\n",
    "for local_file_name in os.listdir(ED_DATA_DIR):\n",
    "    if p.match(local_file_name):\n",
    "        f_name = r\"{}/{}\".format(ED_DATA_DIR, local_file_name, ignore_unknown=False)\n",
    "        with h5py.File(f_name, 'r') as f:\n",
    "            data = hdf5_io.load_from_hdf5(f)\n",
    "            loaded_data.append(data)"
   ]
  },
  {
   "cell_type": "code",
   "execution_count": 18,
   "id": "3707e3d0-ef12-43b8-aef6-74f168125403",
   "metadata": {},
   "outputs": [],
   "source": [
    "b_parameters = sorted(list(d['paramters']['B'] for d in loaded_data))"
   ]
  },
  {
   "cell_type": "code",
   "execution_count": 19,
   "id": "41f8bf31-8e45-40f5-aace-3e113ec603e2",
   "metadata": {},
   "outputs": [],
   "source": [
    "psi_dict = dict()"
   ]
  },
  {
   "cell_type": "code",
   "execution_count": 20,
   "id": "2e317a48-3b24-48f3-a7ed-dcdec2974c0b",
   "metadata": {},
   "outputs": [],
   "source": [
    "for b in b_parameters:\n",
    "    psi = next(\n",
    "        d['wavefunction']\n",
    "        for d in loaded_data\n",
    "        if d['paramters']['B'] == b\n",
    "    )\n",
    "    #psi = split_full_state_legs(psi)\n",
    "    \n",
    "    rounded_b = round(b, 1)\n",
    "    psi_dict[rounded_b] = psi"
   ]
  },
  {
   "cell_type": "code",
   "execution_count": 21,
   "id": "b1129ec9-87c3-4378-ab44-38980845a348",
   "metadata": {},
   "outputs": [],
   "source": [
    "energies = [t['energy'] for t in loaded_data]"
   ]
  },
  {
   "cell_type": "markdown",
   "id": "5b1e131b-2aa0-4fe1-82bf-341522b360db",
   "metadata": {},
   "source": [
    "## Load energies from MPS solution"
   ]
  },
  {
   "cell_type": "code",
   "execution_count": 16,
   "id": "3abc6608-8a79-40fc-934e-fa82ce6e9305",
   "metadata": {},
   "outputs": [
    {
     "data": {
      "text/plain": [
       "'\\nmps_energies = list()\\n\\nfor local_file_name in os.listdir(MPS_DATA_DIR):\\n    f_name = r\"{}/{}\".format(MPS_DATA_DIR, local_file_name, ignore_unknown=False)\\n    with h5py.File(f_name, \\'r\\') as f:\\n        data = hdf5_io.load_from_hdf5(f)\\n        mps_energies.append(data[\\'energy\\'])\\n'"
      ]
     },
     "execution_count": 16,
     "metadata": {},
     "output_type": "execute_result"
    }
   ],
   "source": [
    "\"\"\"\n",
    "mps_energies = list()\n",
    "\n",
    "for local_file_name in os.listdir(MPS_DATA_DIR):\n",
    "    f_name = r\"{}/{}\".format(MPS_DATA_DIR, local_file_name, ignore_unknown=False)\n",
    "    with h5py.File(f_name, 'r') as f:\n",
    "        data = hdf5_io.load_from_hdf5(f)\n",
    "        mps_energies.append(data['energy'])\n",
    "\"\"\""
   ]
  },
  {
   "cell_type": "markdown",
   "id": "a445d0dc-e816-4b87-ab15-a1727dc974c0",
   "metadata": {},
   "source": [
    "# Energies"
   ]
  },
  {
   "cell_type": "code",
   "execution_count": 22,
   "id": "7b229460-4819-4c5e-a8fc-2fdefb8bbe6b",
   "metadata": {},
   "outputs": [
    {
     "data": {
      "text/plain": [
       "[<matplotlib.lines.Line2D at 0x153541650>]"
      ]
     },
     "execution_count": 22,
     "metadata": {},
     "output_type": "execute_result"
    },
    {
     "data": {
      "image/png": "[encoded data removed]",
      "text/plain": [
       "<Figure size 640x480 with 1 Axes>"
      ]
     },
     "metadata": {},
     "output_type": "display_data"
    }
   ],
   "source": [
    "plt.plot(energies)"
   ]
  },
  {
   "cell_type": "markdown",
   "id": "1c6e9b3e-2acd-4236-8c56-d726767a7a14",
   "metadata": {},
   "source": [
    "# String order parameters"
   ]
  },
  {
   "cell_type": "code",
   "execution_count": 34,
   "id": "83281e32-b2b4-493b-9b8c-c94e4d00de00",
   "metadata": {},
   "outputs": [],
   "source": [
    "def expectation_ops_dict(psi, ops_dict):\n",
    "    site_indices = sorted(list(ops_dict.keys()))\n",
    "    first_index, last_index = site_indices[0], site_indices[-1]\n",
    "\n",
    "    ops = list()\n",
    "\n",
    "    ops_list = [\n",
    "        ops_dict.get(i, 'Id')\n",
    "        for i in range(first_index, last_index+1)\n",
    "    ]\n",
    "\n",
    "    out = psi.expectation_value_multi_sites(ops_list, first_index)\n",
    "\n",
    "    return out"
   ]
  },
  {
   "cell_type": "code",
   "execution_count": 35,
   "id": "1f7a333d-35ce-409a-b561-b90c9eb8bd3c",
   "metadata": {},
   "outputs": [],
   "source": [
    "x_string_order_parameter_sites = [3,4,6,8,10,11]\n",
    "\n",
    "x_string_order_parameter_ops_dict = {\n",
    "    i: npc_X for i in x_string_order_parameter_sites\n",
    "}\n",
    "\n",
    "z_string_order_parameter_ops_dict = {\n",
    "    3: npc_Z,\n",
    "    4: npc_X,\n",
    "    6: npc_X,\n",
    "    8: npc_X,\n",
    "    10: npc_X,\n",
    "    11: npc_Z\n",
    "}\n"
   ]
  },
  {
   "cell_type": "code",
   "execution_count": 36,
   "id": "81b6a289-f3e3-4eb1-b4d7-2811a43d2f10",
   "metadata": {},
   "outputs": [],
   "source": [
    "x_string_order_parameters = [\n",
    "    expectation_ops_dict(psi, x_string_order_parameter_ops_dict)\n",
    "    for psi in psi_dict.values()\n",
    "]"
   ]
  },
  {
   "cell_type": "code",
   "execution_count": 37,
   "id": "da592bfa-8d7b-421f-9775-bd2bac68c3cc",
   "metadata": {},
   "outputs": [],
   "source": [
    "z_string_order_parameters = [\n",
    "    expectation_ops_dict(psi, z_string_order_parameter_ops_dict)\n",
    "    for psi in psi_dict.values()\n",
    "]"
   ]
  },
  {
   "cell_type": "code",
   "execution_count": 39,
   "id": "559389f0-fadb-4ed3-bd45-d3fde0a0b289",
   "metadata": {},
   "outputs": [
    {
     "data": {
      "image/png": "[encoded data removed]",
      "text/plain": [
       "<Figure size 600x400 with 1 Axes>"
      ]
     },
     "metadata": {},
     "output_type": "display_data"
    }
   ],
   "source": [
    "fig, ax = plt.subplots(figsize=(6, 4))\n",
    "\n",
    "ax.scatter(b_parameters, x_string_order_parameters)\n",
    "\n",
    "ax.xaxis.set_major_locator(\n",
    "    matplotlib.ticker.MultipleLocator(0.2)\n",
    ")\n",
    "\n",
    "ax.grid()\n",
    "\n",
    "ax.set_xlabel('$B$')\n",
    "ax.set_ylabel('String order parameter')\n",
    "\n",
    "fig.suptitle(r'$\\langle XXIX\\ldots IXX\\rangle$')\n",
    "\n",
    "fig.savefig(r'plots/ed_X_string_order_parameter.png', dpi=200)"
   ]
  },
  {
   "cell_type": "code",
   "execution_count": 40,
   "id": "6836a992-6975-4a5b-8d68-df5b35fe1be6",
   "metadata": {},
   "outputs": [
    {
     "data": {
      "image/png": "[encoded data removed]",
      "text/plain": [
       "<Figure size 600x400 with 1 Axes>"
      ]
     },
     "metadata": {},
     "output_type": "display_data"
    }
   ],
   "source": [
    "fig, ax = plt.subplots(figsize=(6, 4))\n",
    "\n",
    "ax.scatter(b_parameters, z_string_order_parameters)\n",
    "\n",
    "ax.xaxis.set_major_locator(\n",
    "    matplotlib.ticker.MultipleLocator(0.2)\n",
    ")\n",
    "\n",
    "ax.grid()\n",
    "\n",
    "ax.set_xlabel('$B$')\n",
    "ax.set_ylabel('String order parameter')\n",
    "\n",
    "fig.suptitle(r'$\\langle ZXIX\\ldots IXZ\\rangle$')\n",
    "\n",
    "fig.savefig(r'plots/ed_Z_string_order_parameter.png', dpi=200)"
   ]
  },
  {
   "cell_type": "markdown",
   "id": "40036a82-9cfa-495b-b4be-c1e59a4fe5a2",
   "metadata": {},
   "source": [
    "# Conclusions\n",
    "String order parameters match ED calculations."
   ]
  },
  {
   "cell_type": "code",
   "execution_count": null,
   "id": "f64d7847-e2d1-438c-b3a8-66f83e8a679f",
   "metadata": {},
   "outputs": [],
   "source": []
  }
 ],
 "metadata": {
  "kernelspec": {
   "display_name": "num_spt_venv_p11",
   "language": "python",
   "name": "num_spt_venv_p11"
  },
  "language_info": {
   "codemirror_mode": {
    "name": "ipython",
    "version": 3
   },
   "file_extension": ".py",
   "mimetype": "text/x-python",
   "name": "python",
   "nbconvert_exporter": "python",
   "pygments_lexer": "ipython3",
   "version": "3.11.9"
  }
 },
 "nbformat": 4,
 "nbformat_minor": 5
}
