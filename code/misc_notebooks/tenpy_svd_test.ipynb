{
 "cells": [
  {
   "cell_type": "code",
   "execution_count": 1,
   "id": "a9d875b4-cf8a-4b44-a18f-cd90163120a8",
   "metadata": {},
   "outputs": [],
   "source": [
    "import sys\n",
    "sys.path.append('../')"
   ]
  },
  {
   "cell_type": "code",
   "execution_count": 2,
   "id": "b71f8d5e-d592-43a4-8bb8-861071859e16",
   "metadata": {},
   "outputs": [],
   "source": [
    "import h5py\n",
    "from tenpy.tools import hdf5_io\n",
    "import tenpy\n",
    "import tenpy.linalg.np_conserved as npc\n",
    "\n",
    "import os"
   ]
  },
  {
   "cell_type": "code",
   "execution_count": 9,
   "id": "29ed568f-5404-4838-b736-85bb2a787d34",
   "metadata": {},
   "outputs": [],
   "source": [
    "import numpy as np"
   ]
  },
  {
   "cell_type": "code",
   "execution_count": 7,
   "id": "ede08a30-5bf3-4142-8e7c-4c356b21a871",
   "metadata": {},
   "outputs": [],
   "source": [
    "from SPTOptimization.utils import get_transfer_matrix_from_unitary"
   ]
  },
  {
   "cell_type": "markdown",
   "id": "1f6e7fa5-938e-4f25-b858-907b785f1bce",
   "metadata": {},
   "source": [
    "# Load data"
   ]
  },
  {
   "cell_type": "code",
   "execution_count": 3,
   "id": "945dd149-a13c-469c-8eba-81635a58c186",
   "metadata": {},
   "outputs": [],
   "source": [
    "DATA_DIR = r\"../data/transverse_cluster_200_site_dmrg/0_50.h5\""
   ]
  },
  {
   "cell_type": "code",
   "execution_count": 4,
   "id": "409462fc-7cd4-423b-af95-c784bdf19543",
   "metadata": {},
   "outputs": [],
   "source": [
    "with h5py.File(DATA_DIR, 'r') as f:\n",
    "    data = hdf5_io.load_from_hdf5(f)"
   ]
  },
  {
   "cell_type": "code",
   "execution_count": 5,
   "id": "3cdd15cc-a1ac-47d8-9f82-6fafc6cd484f",
   "metadata": {},
   "outputs": [],
   "source": [
    "psi = data['wavefunction']"
   ]
  },
  {
   "cell_type": "markdown",
   "id": "121728d6-7dad-46b8-a397-bd5861e0d234",
   "metadata": {},
   "source": [
    "# Test"
   ]
  },
  {
   "cell_type": "code",
   "execution_count": 10,
   "id": "513d7288-c641-4071-a4a3-652787d1f98c",
   "metadata": {},
   "outputs": [],
   "source": [
    "np_I = np.array([[1,0],[0,1]])\n",
    "np_X = np.array([[0,1],[1,0]])\n",
    "np_Y = np.array([[0,-1j],[1j,0]])\n",
    "np_Z = np.array([[1,0],[0,-1]])"
   ]
  },
  {
   "cell_type": "code",
   "execution_count": 11,
   "id": "050afa99-3e42-412f-a2f5-d09037a9f688",
   "metadata": {},
   "outputs": [],
   "source": [
    "tm = get_transfer_matrix_from_unitary(psi, 100, np_I)"
   ]
  },
  {
   "cell_type": "code",
   "execution_count": 12,
   "id": "32007e2f-5b4e-40d6-8ddb-0d099e0751f8",
   "metadata": {},
   "outputs": [
    {
     "data": {
      "text/plain": [
       "<npc.Array shape=(8, 8, 8, 8) labels=['vL', 'vR', 'vL*', 'vR*']>"
      ]
     },
     "execution_count": 12,
     "metadata": {},
     "output_type": "execute_result"
    }
   ],
   "source": [
    "tm"
   ]
  },
  {
   "cell_type": "code",
   "execution_count": 13,
   "id": "e199f2c4-991f-4ebe-bf66-dc441cef877b",
   "metadata": {},
   "outputs": [],
   "source": [
    "two_leg_tm = tm.combine_legs([['vL', 'vL*'], ['vR', 'vR*']])"
   ]
  },
  {
   "cell_type": "code",
   "execution_count": 14,
   "id": "5c9b1a77-0001-401c-a18e-1d092c434424",
   "metadata": {},
   "outputs": [
    {
     "data": {
      "text/plain": [
       "<npc.Array shape=(64, 64) labels=['(vL.vL*)', '(vR.vR*)']>"
      ]
     },
     "execution_count": 14,
     "metadata": {},
     "output_type": "execute_result"
    }
   ],
   "source": [
    "two_leg_tm"
   ]
  },
  {
   "cell_type": "code",
   "execution_count": 15,
   "id": "6e0d2231-b5bf-4c43-8e92-c8415bde67cb",
   "metadata": {},
   "outputs": [
    {
     "data": {
      "text/plain": [
       "<npc.Array shape=(8, 8, 8, 8) labels=['vL', 'vL*', 'vR', 'vR*']>"
      ]
     },
     "execution_count": 15,
     "metadata": {},
     "output_type": "execute_result"
    }
   ],
   "source": [
    "two_leg_tm.split_legs()"
   ]
  },
  {
   "cell_type": "code",
   "execution_count": 18,
   "id": "3ac63556-d18e-4666-9ab1-cc7319ed2eda",
   "metadata": {},
   "outputs": [],
   "source": [
    "U, S, VH = npc.svd(two_leg_tm, full_matrices=True)"
   ]
  },
  {
   "cell_type": "markdown",
   "id": "469a70dc-38ff-42cf-9a34-5896179133d1",
   "metadata": {},
   "source": [
    "This was a lot more straightforward than I was expecting..."
   ]
  },
  {
   "cell_type": "code",
   "execution_count": 19,
   "id": "efd5290d-2fec-46e8-ba1e-21123cb28ca7",
   "metadata": {},
   "outputs": [
    {
     "data": {
      "text/plain": [
       "<npc.Array shape=(64, 64) labels=['(vL.vL*)', None]>"
      ]
     },
     "execution_count": 19,
     "metadata": {},
     "output_type": "execute_result"
    }
   ],
   "source": [
    "U"
   ]
  },
  {
   "cell_type": "code",
   "execution_count": 20,
   "id": "5ecdac50-9bd4-4070-8ce5-28bb963d3643",
   "metadata": {},
   "outputs": [
    {
     "data": {
      "text/plain": [
       "array([1.38999682, 1.38999682, 1.38999682, 1.38999682, 1.38999682,\n",
       "       1.38999682, 1.38999682, 1.38999682, 1.38999682, 1.38999682,\n",
       "       1.38999682, 1.38999682, 1.38999682, 1.38999682, 1.38999682,\n",
       "       1.38999682, 0.25865202, 0.25865202, 0.25865202, 0.25865202,\n",
       "       0.25865202, 0.25865202, 0.25865202, 0.25865202, 0.25865202,\n",
       "       0.25865202, 0.25865202, 0.25865202, 0.25865202, 0.25865202,\n",
       "       0.25865202, 0.25865202, 0.03345043, 0.03345043, 0.03345043,\n",
       "       0.03345043, 0.03345043, 0.03345043, 0.03345043, 0.03345043,\n",
       "       0.03345043, 0.03345043, 0.03345043, 0.03345043, 0.03345043,\n",
       "       0.03345043, 0.03345043, 0.03345043, 0.00622449, 0.00622449,\n",
       "       0.00622449, 0.00622449, 0.00622449, 0.00622449, 0.00622449,\n",
       "       0.00622449, 0.00622449, 0.00622449, 0.00622449, 0.00622449,\n",
       "       0.00622449, 0.00622449, 0.00622449, 0.00622449])"
      ]
     },
     "execution_count": 20,
     "metadata": {},
     "output_type": "execute_result"
    }
   ],
   "source": [
    "S"
   ]
  },
  {
   "cell_type": "code",
   "execution_count": 22,
   "id": "d6ee7845-a42d-46b4-9709-2851b2d41403",
   "metadata": {},
   "outputs": [
    {
     "data": {
      "text/plain": [
       "numpy.ndarray"
      ]
     },
     "execution_count": 22,
     "metadata": {},
     "output_type": "execute_result"
    }
   ],
   "source": [
    "type(S)"
   ]
  },
  {
   "cell_type": "code",
   "execution_count": 21,
   "id": "890cef33-c224-462c-af22-e06882c161c3",
   "metadata": {},
   "outputs": [
    {
     "data": {
      "text/plain": [
       "<npc.Array shape=(64, 64) labels=[None, '(vR.vR*)']>"
      ]
     },
     "execution_count": 21,
     "metadata": {},
     "output_type": "execute_result"
    }
   ],
   "source": [
    "VH"
   ]
  },
  {
   "cell_type": "code",
   "execution_count": 24,
   "id": "111d0d44-cb49-44e5-b2f5-da325e35fb15",
   "metadata": {},
   "outputs": [
    {
     "data": {
      "text/plain": [
       "<npc.Array shape=(64,) labels=['(vL.vL*)']>"
      ]
     },
     "execution_count": 24,
     "metadata": {},
     "output_type": "execute_result"
    }
   ],
   "source": [
    "U[:,0]"
   ]
  },
  {
   "cell_type": "code",
   "execution_count": 26,
   "id": "0fe7608a-3fb2-4221-b73a-d1c12728269e",
   "metadata": {},
   "outputs": [
    {
     "data": {
      "text/plain": [
       "<npc.Array shape=(8, 8) labels=['vL', 'vL*']>"
      ]
     },
     "execution_count": 26,
     "metadata": {},
     "output_type": "execute_result"
    }
   ],
   "source": [
    "U[:,0].split_legs()"
   ]
  },
  {
   "cell_type": "code",
   "execution_count": 25,
   "id": "46c00278-a47e-443b-b715-224ca8ea2c98",
   "metadata": {},
   "outputs": [
    {
     "data": {
      "text/plain": [
       "<npc.Array shape=(64,) labels=['(vR.vR*)']>"
      ]
     },
     "execution_count": 25,
     "metadata": {},
     "output_type": "execute_result"
    }
   ],
   "source": [
    "VH[0, :]"
   ]
  },
  {
   "cell_type": "code",
   "execution_count": 27,
   "id": "9310b814-d4af-4895-a9e3-e54bd72da407",
   "metadata": {},
   "outputs": [
    {
     "data": {
      "text/plain": [
       "<npc.Array shape=(8, 8) labels=['vR', 'vR*']>"
      ]
     },
     "execution_count": 27,
     "metadata": {},
     "output_type": "execute_result"
    }
   ],
   "source": [
    "VH[0, :].split_legs()"
   ]
  },
  {
   "cell_type": "code",
   "execution_count": null,
   "id": "a291213d-4e94-4cbd-8483-5e6f0538210b",
   "metadata": {},
   "outputs": [],
   "source": []
  }
 ],
 "metadata": {
  "kernelspec": {
   "display_name": "num_spt_venv_p11",
   "language": "python",
   "name": "num_spt_venv_p11"
  },
  "language_info": {
   "codemirror_mode": {
    "name": "ipython",
    "version": 3
   },
   "file_extension": ".py",
   "mimetype": "text/x-python",
   "name": "python",
   "nbconvert_exporter": "python",
   "pygments_lexer": "ipython3",
   "version": "3.11.9"
  }
 },
 "nbformat": 4,
 "nbformat_minor": 5
}
