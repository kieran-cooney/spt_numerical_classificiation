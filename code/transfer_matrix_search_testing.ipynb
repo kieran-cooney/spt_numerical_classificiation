{
 "cells": [
  {
   "cell_type": "markdown",
   "id": "5703b582-defe-4040-b6bc-3d280348ead0",
   "metadata": {},
   "source": [
    "# Transfer matrix approach to unitary optimizatioin - testing\n",
    "Created 30/05/2024\n",
    "\n",
    "Objectives:\n",
    "* Test the transfer_matrix_approach_to_unitary_optimization.ipynb notebook."
   ]
  },
  {
   "cell_type": "markdown",
   "id": "eee76d37-5176-406f-9a8b-c60d000d7054",
   "metadata": {},
   "source": [
    "# Import packages"
   ]
  },
  {
   "cell_type": "code",
   "execution_count": 1,
   "id": "11b0000d-6767-442b-a1f0-eb8a92527573",
   "metadata": {},
   "outputs": [],
   "source": [
    "import pandas as pd\n",
    "import numpy as np\n",
    "import matplotlib.pyplot as plt\n",
    "import seaborn as sns"
   ]
  },
  {
   "cell_type": "code",
   "execution_count": 2,
   "id": "c204cf38-acad-40d2-b0c5-c850adc88f47",
   "metadata": {},
   "outputs": [],
   "source": [
    "import h5py\n",
    "from tenpy.tools import hdf5_io\n",
    "import tenpy\n",
    "import tenpy.linalg.np_conserved as npc\n",
    "\n",
    "import os"
   ]
  },
  {
   "cell_type": "code",
   "execution_count": 3,
   "id": "7e3fc681-7443-4e8d-a21d-e43d6829e9e3",
   "metadata": {},
   "outputs": [],
   "source": [
    "from collections import Counter\n",
    "from functools import reduce"
   ]
  },
  {
   "cell_type": "code",
   "execution_count": 4,
   "id": "b7751c26-ea22-42c8-8352-90e383aca25c",
   "metadata": {},
   "outputs": [],
   "source": [
    "from spt_classification import (\n",
    "    get_transfer_matrix_from_unitary,\n",
    "    get_transfer_matrices_from_unitary_list,\n",
    "    multiply_transfer_matrices,\n",
    "    to_npc_array\n",
    ")"
   ]
  },
  {
   "cell_type": "markdown",
   "id": "d96b93fe-49ec-4a83-b65b-a349ebd3067a",
   "metadata": {},
   "source": [
    "# Load data"
   ]
  },
  {
   "cell_type": "code",
   "execution_count": 6,
   "id": "f30ea89c-0990-4d96-ac11-5621b991e9a8",
   "metadata": {},
   "outputs": [],
   "source": [
    "DATA_DIR = r\"data/transverse_cluster_200_site_dmrg\""
   ]
  },
  {
   "cell_type": "code",
   "execution_count": 7,
   "id": "3492fa95-c060-4f2c-895b-6d97215a466d",
   "metadata": {},
   "outputs": [],
   "source": [
    "loaded_data = list()\n",
    "\n",
    "for local_file_name in os.listdir(DATA_DIR):\n",
    "    f_name = r\"{}/{}\".format(DATA_DIR, local_file_name, ignore_unknown=False)\n",
    "    with h5py.File(f_name, 'r') as f:\n",
    "        data = hdf5_io.load_from_hdf5(f)\n",
    "        loaded_data.append(data)"
   ]
  },
  {
   "cell_type": "code",
   "execution_count": 8,
   "id": "c237db90-7b83-4771-b34c-d433e15b342e",
   "metadata": {},
   "outputs": [],
   "source": [
    "b_parameters = sorted(list(d['paramters']['B'] for d in loaded_data))"
   ]
  },
  {
   "cell_type": "code",
   "execution_count": 9,
   "id": "0a4626cf-44b6-4d6c-9ee3-a431a721f231",
   "metadata": {},
   "outputs": [],
   "source": [
    "psi_dict = dict()"
   ]
  },
  {
   "cell_type": "code",
   "execution_count": 10,
   "id": "f1050f22-41b9-492c-829b-5b38bb8982b2",
   "metadata": {},
   "outputs": [],
   "source": [
    "for b in b_parameters:\n",
    "    psi = next(\n",
    "        d['wavefunction']\n",
    "        for d in loaded_data\n",
    "        if d['paramters']['B'] == b\n",
    "    )\n",
    "\n",
    "    rounded_b = round(b, 1)\n",
    "    psi_dict[rounded_b] = psi"
   ]
  },
  {
   "cell_type": "code",
   "execution_count": 11,
   "id": "7464ceea-c8de-4ee6-8e56-8eb08e4e8d08",
   "metadata": {},
   "outputs": [
    {
     "data": {
      "text/plain": [
       "[0.0,\n",
       " 0.1,\n",
       " 0.2,\n",
       " 0.3,\n",
       " 0.4,\n",
       " 0.5,\n",
       " 0.6,\n",
       " 0.7,\n",
       " 0.8,\n",
       " 0.9,\n",
       " 1.0,\n",
       " 1.1,\n",
       " 1.2,\n",
       " 1.3,\n",
       " 1.4,\n",
       " 1.5,\n",
       " 1.6,\n",
       " 1.7,\n",
       " 1.8,\n",
       " 1.9,\n",
       " 2.0]"
      ]
     },
     "execution_count": 11,
     "metadata": {},
     "output_type": "execute_result"
    }
   ],
   "source": [
    "list(psi_dict)"
   ]
  },
  {
   "cell_type": "code",
   "execution_count": 12,
   "id": "90ee2943-e138-408c-b872-d0bd333697f6",
   "metadata": {},
   "outputs": [],
   "source": [
    "test_psi = psi_dict[0.5]"
   ]
  },
  {
   "cell_type": "markdown",
   "id": "8fa4adae-43c4-4e83-8c23-bb52fe7c17e4",
   "metadata": {},
   "source": [
    "# Code"
   ]
  },
  {
   "cell_type": "code",
   "execution_count": 13,
   "id": "1498bf4c-f8d8-4a2c-b227-ff271a2d1c9f",
   "metadata": {},
   "outputs": [],
   "source": [
    "np_I = np.array([[1,0],[0,1]])\n",
    "np_X = np.array([[0,1],[1,0]])\n",
    "np_Y = np.array([[0,-1j],[1j,0]])\n",
    "np_Z = np.array([[1,0],[0,-1]])"
   ]
  },
  {
   "cell_type": "code",
   "execution_count": 14,
   "id": "28a883aa-cb48-4b2d-abfb-de6cf0205159",
   "metadata": {},
   "outputs": [],
   "source": [
    "import math\n",
    "C1 = math.sqrt(2)\n",
    "C2 = 1.533751168755204288118041"
   ]
  },
  {
   "cell_type": "code",
   "execution_count": 15,
   "id": "df1aa441-3c43-4886-818b-b7519f8a718d",
   "metadata": {},
   "outputs": [],
   "source": [
    "def super_fibonacci_point(n, s, phi=C1, psi=C2):\n",
    "    t = s/n\n",
    "    d = 2*math.pi*s\n",
    "    r = math.sqrt(t)\n",
    "    R = math.sqrt(1-t)\n",
    "    alpha = d/phi\n",
    "    beta = d/psi\n",
    "    point = [\n",
    "        r*math.sin(alpha),\n",
    "        r*math.cos(alpha),\n",
    "        R*math.sin(beta),\n",
    "        R*math.cos(beta)\n",
    "    ]\n",
    "\n",
    "    return point\n",
    "\n",
    "def super_fibonacci(n, phi=C1, psi=C2):\n",
    "    out = np.zeros((n,4))\n",
    "\n",
    "    for i in range(n):\n",
    "        s = i + 0.5\n",
    "        point = super_fibonacci_point(n, s, phi=C1, psi=C2)\n",
    "        out[i] = point\n",
    "\n",
    "    return out"
   ]
  },
  {
   "cell_type": "code",
   "execution_count": 16,
   "id": "9cb25270-b13b-4a6d-96ec-8c7bfc1bd546",
   "metadata": {},
   "outputs": [],
   "source": [
    "def s3_to_unitary(p):\n",
    "    X = p[0]*np_I + 1j*(p[1]*np_X + p[2]*np_Y + p[3]*np_Z)\n",
    "    return X"
   ]
  },
  {
   "cell_type": "code",
   "execution_count": 17,
   "id": "815a8ada-7332-4b17-bc1d-2f02990b5835",
   "metadata": {},
   "outputs": [],
   "source": [
    "def operator_norm(m):\n",
    "    singular_values = np.linalg.svd(m).S\n",
    "    singular_values_counts = Counter(np.round(singular_values, 3))\n",
    "\n",
    "    norm = max(singular_values_counts.keys())\n",
    "    count = singular_values_counts[norm]\n",
    "\n",
    "    return (norm, count)"
   ]
  },
  {
   "cell_type": "code",
   "execution_count": 20,
   "id": "c3a47a0a-1964-42f1-8766-ede13a14c543",
   "metadata": {},
   "outputs": [],
   "source": [
    "def get_left_environment(psi, index):\n",
    "    left_leg = psi.get_B(index).legs[0]\n",
    "    SL = npc.diag(psi.get_SL(index), left_leg, labels = ['vL', 'vR'])\n",
    "    left_environment = (\n",
    "        npc.tensordot(SL, SL.conj(), (['vL',], ['vL*',]))\n",
    "        .combine_legs([['vR', 'vR*'],])\n",
    "        .to_ndarray()\n",
    "    )\n",
    "\n",
    "    return left_environment"
   ]
  },
  {
   "cell_type": "code",
   "execution_count": 18,
   "id": "17a3581e-58be-4c13-b953-e753e9083d28",
   "metadata": {},
   "outputs": [],
   "source": [
    "def search_step(previous_points, s3_previous_points, s3_sample_points, num_next_points, index, vR):\n",
    "    base_tms = np.array([\n",
    "        get_transfer_matrix_from_unitary(test_psi, u, index)\n",
    "        .combine_legs([['vL', 'vL*'], ['vR', 'vR*']])\n",
    "        .to_ndarray()\n",
    "        for u in base_unitaries\n",
    "    ])\n",
    "\n",
    "    base_vectors = np.matmul(previous_points, base_tms)\n",
    "    base_overlaps = np.dot(base_vectors, vR)\n",
    "\n",
    "    overlaps = np.abs(np.tensordot(s3_sample_points, base_overlaps, [[1,], [0,]]))\n",
    "    target_percentile = 100.0*(1.0 - min(1, num_next_points/(overlaps.size)))\n",
    "    overlap_threshold = np.percentile(overlaps, target_percentile)\n",
    "\n",
    "    all_next_points = np.tensordot(s3_sample_points, base_vectors, [[1,], [0,]])\n",
    "\n",
    "    overlaps_filter = (overlaps > overlap_threshold)\n",
    "    \n",
    "\n",
    "    if s3_previous_points is None:\n",
    "        assert previous_points.shape[0] == 1\n",
    "        all_next_s3_points = s3_sample_points[:, np.newaxis, np.newaxis, :]\n",
    "        next_s3_depth = 1\n",
    "    else:\n",
    "        prev_num_s3_points, prev_s3_depth, *_ = s3_previous_points.shape\n",
    "        next_s3_depth = prev_s3_depth + 1\n",
    "\n",
    "        num_s3_sample_points = s3_sample_points.shape[0]\n",
    "        all_next_s3_points = np.zeros((num_s3_sample_points, prev_num_s3_points, next_s3_depth, 4))\n",
    "        \n",
    "        all_next_s3_points[:, :, :-1, :] = s3_previous_points[np.newaxis, ...]\n",
    "        all_next_s3_points[:, :, -1, :] = s3_sample_points[:, np.newaxis, :]\n",
    "    \n",
    "    filtered_next_s3_points = all_next_s3_points[overlaps_filter]\n",
    "    filtered_next_points = all_next_points[overlaps_filter]\n",
    "    filtered_overlaps = overlaps[overlaps_filter]\n",
    "\n",
    "    return (filtered_next_points, filtered_next_s3_points, filtered_overlaps)"
   ]
  },
  {
   "cell_type": "code",
   "execution_count": 19,
   "id": "21720f79-7519-490b-bd84-781cfc8e42e2",
   "metadata": {},
   "outputs": [],
   "source": [
    "def search_step_left(previous_points, s3_previous_points, s3_sample_points, num_next_points, index, vL):\n",
    "    base_tms = np.array([\n",
    "        get_transfer_matrix_from_unitary(test_psi, u, index)\n",
    "        .combine_legs([['vL', 'vL*'], ['vR', 'vR*']])\n",
    "        .to_ndarray()\n",
    "        for u in base_unitaries\n",
    "    ])\n",
    "\n",
    "    base_vectors = np.tensordot(previous_points, base_tms, [[-1,], [2,]])\n",
    "    base_overlaps = np.dot(base_vectors, vL)\n",
    "\n",
    "    overlaps = np.abs(np.tensordot(s3_sample_points, base_overlaps, [[1,], [1,]]))\n",
    "    target_percentile = 100.0*(1.0 - min(1, num_next_points/(overlaps.size)))\n",
    "    overlap_threshold = np.percentile(overlaps, target_percentile)\n",
    "\n",
    "    all_next_points = np.tensordot(s3_sample_points, base_vectors, [[1,], [1,]])\n",
    "\n",
    "    overlaps_filter = (overlaps > overlap_threshold)\n",
    "\n",
    "    if s3_previous_points is None:\n",
    "        assert previous_points.shape[0] == 1\n",
    "        all_next_s3_points = s3_sample_points[:, np.newaxis, np.newaxis, :]\n",
    "        next_s3_depth = 1\n",
    "    else:\n",
    "        prev_num_s3_points, prev_s3_depth, *_ = s3_previous_points.shape\n",
    "        next_s3_depth = prev_s3_depth + 1\n",
    "\n",
    "        num_s3_sample_points = s3_sample_points.shape[0]\n",
    "        all_next_s3_points = np.zeros((num_s3_sample_points, prev_num_s3_points, next_s3_depth, 4))\n",
    "        \n",
    "        all_next_s3_points[:, :, :-1, :] = s3_previous_points[np.newaxis, ...]\n",
    "        all_next_s3_points[:, :, -1, :] = s3_sample_points[:, np.newaxis, :]\n",
    "\n",
    "    filtered_next_s3_points = np.reshape(all_next_s3_points[overlaps_filter], (-1, next_s3_depth, 4))\n",
    "    filtered_next_points = np.reshape(all_next_points[overlaps_filter], (-1, 64))\n",
    "    filtered_overlaps = overlaps[overlaps_filter].flatten()\n",
    "        \n",
    "    return (filtered_next_points, filtered_next_s3_points, filtered_overlaps)"
   ]
  },
  {
   "cell_type": "code",
   "execution_count": 41,
   "id": "9c35cc52-d4ba-4c72-9e9a-3e7be2adbfc1",
   "metadata": {},
   "outputs": [],
   "source": [
    "def s3_points_to_unitary(s3_points):\n",
    "    return np.tensordot(s3_points, base_unitaries, [[-1,], [0,]])"
   ]
  },
  {
   "cell_type": "markdown",
   "id": "9a08f2dc-6693-45df-b0cd-fc014148e8ed",
   "metadata": {},
   "source": [
    "# Testing"
   ]
  },
  {
   "cell_type": "code",
   "execution_count": 23,
   "id": "67ad76f4-024a-4975-9726-35b05efd6a42",
   "metadata": {},
   "outputs": [],
   "source": [
    "symmetry_tm = (\n",
    "    reduce(\n",
    "        multiply_transfer_matrices,\n",
    "        get_transfer_matrices_from_unitary_list(\n",
    "            test_psi,\n",
    "            [np_X, np_I]*30,\n",
    "            (test_psi.L)//2 -30\n",
    "        )\n",
    "    )\n",
    "    .combine_legs([['vL', 'vL*'], ['vR', 'vR*']])\n",
    "    .to_ndarray()\n",
    ")"
   ]
  },
  {
   "cell_type": "code",
   "execution_count": 24,
   "id": "d081dc45-ef42-43ad-b223-2265a99569c9",
   "metadata": {},
   "outputs": [],
   "source": [
    "U, S, Vh = np.linalg.svd(symmetry_tm)"
   ]
  },
  {
   "cell_type": "code",
   "execution_count": 25,
   "id": "9d392f8d-75b2-4f3f-8f2f-82b0ad75501a",
   "metadata": {},
   "outputs": [],
   "source": [
    "left_projected_symmetry_state = U[:,0]\n",
    "right_projected_symmetry_state = Vh[0]"
   ]
  },
  {
   "cell_type": "code",
   "execution_count": 26,
   "id": "9d57e8fd-106d-4b7a-868a-31c323f9dfb5",
   "metadata": {},
   "outputs": [],
   "source": [
    "super_fib_points = super_fibonacci(1000)"
   ]
  },
  {
   "cell_type": "code",
   "execution_count": 31,
   "id": "d5a376bf-6214-4ec4-a407-88add3a9316c",
   "metadata": {},
   "outputs": [],
   "source": [
    "vR = np.identity(8).reshape((64,))"
   ]
  },
  {
   "cell_type": "code",
   "execution_count": 33,
   "id": "292810e1-3c91-4d34-8501-324b1ce9ad82",
   "metadata": {},
   "outputs": [],
   "source": [
    "base_unitaries = np.array([np_I, 1j*np_X, 1j*np_Y, 1j*np_Z])"
   ]
  },
  {
   "cell_type": "markdown",
   "id": "3ee3122a-1568-4fb7-b5be-ce3cad8e514f",
   "metadata": {},
   "source": [
    "## One site\n",
    "### From search"
   ]
  },
  {
   "cell_type": "code",
   "execution_count": 28,
   "id": "8b035811-1cea-4236-abe1-76413e6c1968",
   "metadata": {},
   "outputs": [],
   "source": [
    "N=1000"
   ]
  },
  {
   "cell_type": "code",
   "execution_count": 34,
   "id": "cee45b31-ade9-4d49-9c6c-9fbb86028761",
   "metadata": {},
   "outputs": [],
   "source": [
    "r_points_1, r_s3_points_1, r_overlaps_1 = search_step(\n",
    "    right_projected_symmetry_state[np.newaxis, :],\n",
    "    None,\n",
    "    super_fib_points,\n",
    "    N,\n",
    "    (test_psi.L//2)+30,\n",
    "    vR\n",
    ")"
   ]
  },
  {
   "cell_type": "code",
   "execution_count": 35,
   "id": "54422a3b-dddd-41c6-b337-7f18deb5d293",
   "metadata": {},
   "outputs": [
    {
     "data": {
      "text/plain": [
       "7.897631266251278e-11"
      ]
     },
     "execution_count": 35,
     "metadata": {},
     "output_type": "execute_result"
    }
   ],
   "source": [
    "np.max(r_overlaps_1)"
   ]
  },
  {
   "cell_type": "code",
   "execution_count": 77,
   "id": "9d0c4598-e5f2-404f-adf7-bc826ec20328",
   "metadata": {},
   "outputs": [],
   "source": [
    "r_arg_1 = np.argmax(r_overlaps_1)"
   ]
  },
  {
   "cell_type": "code",
   "execution_count": 38,
   "id": "ac5e33d9-b8c1-4a7a-abfb-ce396a18041a",
   "metadata": {},
   "outputs": [],
   "source": [
    "i = (test_psi.L//2)-30-1\n",
    "\n",
    "l_points_1, l_s3_points_1, l_overlaps_1 = search_step_left(\n",
    "    left_projected_symmetry_state[np.newaxis, :],\n",
    "    None,\n",
    "    super_fib_points,\n",
    "    N,\n",
    "    i,\n",
    "    get_left_environment(test_psi, i)\n",
    ")"
   ]
  },
  {
   "cell_type": "code",
   "execution_count": 39,
   "id": "b941e715-637a-4dac-aa00-1c505c4a77d2",
   "metadata": {},
   "outputs": [
    {
     "data": {
      "text/plain": [
       "0.33907274121853925"
      ]
     },
     "execution_count": 39,
     "metadata": {},
     "output_type": "execute_result"
    }
   ],
   "source": [
    "np.max(l_overlaps_1)"
   ]
  },
  {
   "cell_type": "code",
   "execution_count": 43,
   "id": "5cfe8a8d-a422-4ff0-8b55-36737e854271",
   "metadata": {},
   "outputs": [],
   "source": [
    "l_arg_1 = np.argmax(l_overlaps_1)"
   ]
  },
  {
   "cell_type": "code",
   "execution_count": 40,
   "id": "ace07a10-ef0d-42ec-ad94-b9d5085267c9",
   "metadata": {},
   "outputs": [
    {
     "data": {
      "text/plain": [
       "5.352301545120342e-11"
      ]
     },
     "execution_count": 40,
     "metadata": {},
     "output_type": "execute_result"
    }
   ],
   "source": [
    "S[0]*np.max(r_overlaps_1)*np.max(l_overlaps_1)"
   ]
  },
  {
   "cell_type": "markdown",
   "id": "4b41eb99-60ec-4d31-a646-529d3f02a765",
   "metadata": {},
   "source": [
    "### Check results\n",
    "#### Via expecation"
   ]
  },
  {
   "cell_type": "code",
   "execution_count": 45,
   "id": "c2154bbc-a50d-4b98-a552-aff0ae172c23",
   "metadata": {},
   "outputs": [],
   "source": [
    "r_unitary_1 = s3_points_to_unitary(r_s3_points_1[r_arg_1, 0])\n",
    "l_unitary_1 = s3_points_to_unitary(l_s3_points_1[l_arg_1, 0])"
   ]
  },
  {
   "cell_type": "code",
   "execution_count": 46,
   "id": "8b28473d-82a6-4eab-86b9-d82829aeeb9e",
   "metadata": {},
   "outputs": [],
   "source": [
    "np_operators = [\n",
    "    l_unitary_1,\n",
    "    *([np_X, np_I]*30),\n",
    "    r_unitary_1\n",
    "]"
   ]
  },
  {
   "cell_type": "code",
   "execution_count": 47,
   "id": "8d309e00-f39c-4731-b3c3-b6defb621da8",
   "metadata": {},
   "outputs": [
    {
     "data": {
      "text/plain": [
       "62"
      ]
     },
     "execution_count": 47,
     "metadata": {},
     "output_type": "execute_result"
    }
   ],
   "source": [
    "len(np_operators)"
   ]
  },
  {
   "cell_type": "code",
   "execution_count": 48,
   "id": "fd549701-afe8-4674-a86e-696cfdb49dbc",
   "metadata": {},
   "outputs": [],
   "source": [
    "operators = [to_npc_array(X) for X in np_operators]"
   ]
  },
  {
   "cell_type": "code",
   "execution_count": 49,
   "id": "52e99a84-cbd2-445f-acd9-16815c9a53cd",
   "metadata": {},
   "outputs": [],
   "source": [
    "expectation = test_psi.expectation_value_multi_sites(operators, (test_psi.L//2)-30-1)"
   ]
  },
  {
   "cell_type": "code",
   "execution_count": 50,
   "id": "c8baa636-f5e6-4ffa-aa83-6ccee4710d91",
   "metadata": {},
   "outputs": [
    {
     "data": {
      "text/plain": [
       "5.3501256950701365e-11"
      ]
     },
     "execution_count": 50,
     "metadata": {},
     "output_type": "execute_result"
    }
   ],
   "source": [
    "np.abs(expectation)"
   ]
  },
  {
   "cell_type": "markdown",
   "id": "d6f03394-bd25-4eb4-bcb2-7a1fa9a20fcf",
   "metadata": {},
   "source": [
    "Very close agreement.\n",
    "#### Via transfer matrices"
   ]
  },
  {
   "cell_type": "code",
   "execution_count": 52,
   "id": "a9e7e10b-e3d8-4967-bd54-2ca04f821865",
   "metadata": {},
   "outputs": [],
   "source": [
    "transfer_matrices = get_transfer_matrices_from_unitary_list(\n",
    "    test_psi,\n",
    "    np_operators,\n",
    "    (test_psi.L//2)-30-1\n",
    ")"
   ]
  },
  {
   "cell_type": "code",
   "execution_count": 53,
   "id": "22364482-c3d4-46b1-a9a4-df3670df4600",
   "metadata": {},
   "outputs": [],
   "source": [
    "overall_tm = reduce(multiply_transfer_matrices, transfer_matrices)"
   ]
  },
  {
   "cell_type": "code",
   "execution_count": 54,
   "id": "047761ef-6f4b-468f-8b9c-1f06f62ec7c8",
   "metadata": {},
   "outputs": [],
   "source": [
    "np_overall_tm = (\n",
    "    overall_tm\n",
    "    .combine_legs([['vL', 'vL*'], ['vR', 'vR*']])\n",
    "    .to_ndarray()\n",
    ")"
   ]
  },
  {
   "cell_type": "code",
   "execution_count": 55,
   "id": "2bcbb1af-b99f-4388-9f77-96f22de51a10",
   "metadata": {},
   "outputs": [
    {
     "data": {
      "text/plain": [
       "5.350140431489429e-11"
      ]
     },
     "execution_count": 55,
     "metadata": {},
     "output_type": "execute_result"
    }
   ],
   "source": [
    "np.abs(reduce(np.dot, [get_left_environment(test_psi, (test_psi.L//2)-30-1), np_overall_tm, vR]))"
   ]
  },
  {
   "cell_type": "markdown",
   "id": "924f6c13-8c41-480f-8df7-fdbd2547705d",
   "metadata": {},
   "source": [
    "#### SVD product approximation"
   ]
  },
  {
   "cell_type": "code",
   "execution_count": 108,
   "id": "22b37fb8-dbae-4cfa-b0ce-894bda0dd00e",
   "metadata": {},
   "outputs": [],
   "source": [
    "right_tm = (\n",
    "    get_transfer_matrix_from_unitary(\n",
    "        test_psi,\n",
    "        r_unitary_1,\n",
    "        (test_psi.L//2)+30\n",
    "    )\n",
    "    .combine_legs([['vL', 'vL*'], ['vR', 'vR*']])\n",
    "    .to_ndarray()\n",
    ")"
   ]
  },
  {
   "cell_type": "code",
   "execution_count": 60,
   "id": "6ddbb4f8-1275-4b07-a4b6-614cc01e6471",
   "metadata": {},
   "outputs": [],
   "source": [
    "left_tm = (\n",
    "    get_transfer_matrix_from_unitary(\n",
    "        test_psi,\n",
    "        l_unitary_1,\n",
    "        (test_psi.L//2) -30 -1\n",
    "    )\n",
    "    .combine_legs([['vL', 'vL*'], ['vR', 'vR*']])\n",
    "    .to_ndarray()\n",
    ")"
   ]
  },
  {
   "cell_type": "code",
   "execution_count": 70,
   "id": "970e414e-4319-4dbb-9aef-9f17f2e52874",
   "metadata": {},
   "outputs": [],
   "source": [
    "right_term = np.abs(reduce(np.dot, [right_projected_symmetry_state, right_tm, vR]))"
   ]
  },
  {
   "cell_type": "code",
   "execution_count": 107,
   "id": "19edaa3e-f1e3-46e2-925f-b2dd3a44fb7e",
   "metadata": {},
   "outputs": [
    {
     "data": {
      "text/plain": [
       "1.349953572573684"
      ]
     },
     "execution_count": 107,
     "metadata": {},
     "output_type": "execute_result"
    }
   ],
   "source": [
    "right_term"
   ]
  },
  {
   "cell_type": "code",
   "execution_count": 65,
   "id": "82ff9db8-fc3a-4b4e-8546-5a2c8790f890",
   "metadata": {},
   "outputs": [
    {
     "data": {
      "text/plain": [
       "0.7433005401241385"
      ]
     },
     "execution_count": 65,
     "metadata": {},
     "output_type": "execute_result"
    }
   ],
   "source": [
    "np.linalg.norm(np.dot(right_projected_symmetry_state, right_tm) - r_points_1[r_arg_1])"
   ]
  },
  {
   "cell_type": "code",
   "execution_count": 63,
   "id": "e4e63857-05b7-44f3-870b-12699454989a",
   "metadata": {},
   "outputs": [],
   "source": [
    "left_term = np.abs(\n",
    "    reduce(\n",
    "        np.dot,\n",
    "        [\n",
    "            get_left_environment(test_psi, (test_psi.L//2)-30-1),\n",
    "            left_tm,\n",
    "            left_projected_symmetry_state\n",
    "        ]\n",
    "    )\n",
    ")"
   ]
  },
  {
   "cell_type": "code",
   "execution_count": 64,
   "id": "2eb25fad-89fe-42b8-94da-4dbae7b50a33",
   "metadata": {},
   "outputs": [
    {
     "data": {
      "text/plain": [
       "0.3390727412185392"
      ]
     },
     "execution_count": 64,
     "metadata": {},
     "output_type": "execute_result"
    }
   ],
   "source": [
    "left_term"
   ]
  },
  {
   "cell_type": "code",
   "execution_count": 72,
   "id": "10d53f09-aac2-409e-9915-4435df73bb53",
   "metadata": {},
   "outputs": [
    {
     "data": {
      "text/plain": [
       "5.35231719316077e-11"
      ]
     },
     "execution_count": 72,
     "metadata": {},
     "output_type": "execute_result"
    }
   ],
   "source": [
    "S[0]*left_term*right_term"
   ]
  },
  {
   "cell_type": "markdown",
   "id": "8d426ece-503b-49c8-8c74-fa20fad7dd3f",
   "metadata": {},
   "source": [
    "Lesson learned, be _very_ careful with indexing...! Should probably automate somehow."
   ]
  },
  {
   "cell_type": "markdown",
   "id": "3b859c0a-5a01-4cea-a975-b01dc2abc6b4",
   "metadata": {},
   "source": [
    "## Two sites\n",
    "### From search"
   ]
  },
  {
   "cell_type": "code",
   "execution_count": 109,
   "id": "57d03997-06ec-49ae-8659-63741bad03f7",
   "metadata": {},
   "outputs": [],
   "source": [
    "r_points_2, r_s3_points_2, r_overlaps_2 = search_step(\n",
    "    r_points_1,\n",
    "    r_s3_points_1,\n",
    "    super_fib_points,\n",
    "    N,\n",
    "    (test_psi.L//2)+30+1,\n",
    "    vR\n",
    ")"
   ]
  },
  {
   "cell_type": "code",
   "execution_count": 110,
   "id": "8adb3042-879f-42b7-86f9-d0a66029d841",
   "metadata": {},
   "outputs": [
    {
     "data": {
      "text/plain": [
       "1.3499535725736844"
      ]
     },
     "execution_count": 110,
     "metadata": {},
     "output_type": "execute_result"
    }
   ],
   "source": [
    "np.max(r_overlaps_2)"
   ]
  },
  {
   "cell_type": "code",
   "execution_count": 80,
   "id": "6618f2c4-7525-4f96-bcec-c530354cd79a",
   "metadata": {},
   "outputs": [],
   "source": [
    "r_arg_2 = np.argmax(r_overlaps_2)"
   ]
  },
  {
   "cell_type": "code",
   "execution_count": 81,
   "id": "01d62060-73f9-4ea1-bcf9-76a8b8aa9c93",
   "metadata": {},
   "outputs": [],
   "source": [
    "i = (test_psi.L//2)-30-2\n",
    "\n",
    "l_points_2, l_s3_points_2, l_overlaps_2 = search_step_left(\n",
    "    l_points_1,\n",
    "    l_s3_points_1,\n",
    "    super_fib_points,\n",
    "    N,\n",
    "    i,\n",
    "    get_left_environment(test_psi, i)\n",
    ")"
   ]
  },
  {
   "cell_type": "code",
   "execution_count": 82,
   "id": "15c24fea-b630-4b31-9d3c-676127f914df",
   "metadata": {},
   "outputs": [
    {
     "data": {
      "text/plain": [
       "0.3389229141160786"
      ]
     },
     "execution_count": 82,
     "metadata": {},
     "output_type": "execute_result"
    }
   ],
   "source": [
    "np.max(l_overlaps_2)"
   ]
  },
  {
   "cell_type": "code",
   "execution_count": 83,
   "id": "74fd35b2-ea14-4142-9b73-c44f43eb18fe",
   "metadata": {},
   "outputs": [],
   "source": [
    "l_arg_2 = np.argmax(l_overlaps_2)"
   ]
  },
  {
   "cell_type": "code",
   "execution_count": 111,
   "id": "62f1783f-aba4-4771-bbec-56a916059dd0",
   "metadata": {},
   "outputs": [
    {
     "data": {
      "text/plain": [
       "0.9144724104850446"
      ]
     },
     "execution_count": 111,
     "metadata": {},
     "output_type": "execute_result"
    }
   ],
   "source": [
    "S[0]*np.max(r_overlaps_2)*np.max(l_overlaps_2)"
   ]
  },
  {
   "cell_type": "markdown",
   "id": "1c43e932-8c3d-4a0b-afbf-016ecaf6b71c",
   "metadata": {},
   "source": [
    "### Check results\n",
    "#### Via expecation"
   ]
  },
  {
   "cell_type": "code",
   "execution_count": 86,
   "id": "0ad937d0-d096-4cd7-bccb-6637899194e2",
   "metadata": {},
   "outputs": [],
   "source": [
    "r_unitary_2_1 = s3_points_to_unitary(r_s3_points_2[r_arg_2, 0])\n",
    "r_unitary_2_2 = s3_points_to_unitary(r_s3_points_2[r_arg_2, 1])\n",
    "l_unitary_2_1 = s3_points_to_unitary(l_s3_points_2[l_arg_2, 0])\n",
    "l_unitary_2_2 = s3_points_to_unitary(l_s3_points_2[l_arg_2, 1])"
   ]
  },
  {
   "cell_type": "code",
   "execution_count": 87,
   "id": "8011c6aa-be2f-40fa-970c-01e0de966a78",
   "metadata": {},
   "outputs": [],
   "source": [
    "np_operators = [\n",
    "    l_unitary_2_2,\n",
    "    l_unitary_2_1,\n",
    "    *([np_X, np_I]*30),\n",
    "    r_unitary_2_1,\n",
    "    r_unitary_2_2\n",
    "]"
   ]
  },
  {
   "cell_type": "code",
   "execution_count": 88,
   "id": "9fdb3a9d-21f5-46fa-85ec-12f674f9ed3f",
   "metadata": {},
   "outputs": [
    {
     "data": {
      "text/plain": [
       "64"
      ]
     },
     "execution_count": 88,
     "metadata": {},
     "output_type": "execute_result"
    }
   ],
   "source": [
    "len(np_operators)"
   ]
  },
  {
   "cell_type": "code",
   "execution_count": 89,
   "id": "10359cc4-44c0-41b1-8735-92a1290f92df",
   "metadata": {},
   "outputs": [],
   "source": [
    "operators = [to_npc_array(X) for X in np_operators]"
   ]
  },
  {
   "cell_type": "code",
   "execution_count": 90,
   "id": "95abd4dd-e4b2-4d3e-a100-d48825a86db6",
   "metadata": {},
   "outputs": [],
   "source": [
    "expectation = test_psi.expectation_value_multi_sites(operators, (test_psi.L//2)-30-2)"
   ]
  },
  {
   "cell_type": "code",
   "execution_count": 91,
   "id": "da86c1cb-e687-4276-b097-7b7f30f2bab7",
   "metadata": {},
   "outputs": [
    {
     "data": {
      "text/plain": [
       "0.9144724104850276"
      ]
     },
     "execution_count": 91,
     "metadata": {},
     "output_type": "execute_result"
    }
   ],
   "source": [
    "np.abs(expectation)"
   ]
  },
  {
   "cell_type": "markdown",
   "id": "321b205f-225d-41ad-92bb-7dd7c6f56f46",
   "metadata": {},
   "source": [
    "\n",
    "#### Via transfer matrices"
   ]
  },
  {
   "cell_type": "code",
   "execution_count": 92,
   "id": "6d9c648b-2723-4458-a78d-5e4518164d38",
   "metadata": {},
   "outputs": [],
   "source": [
    "transfer_matrices = get_transfer_matrices_from_unitary_list(\n",
    "    test_psi,\n",
    "    np_operators,\n",
    "    (test_psi.L//2)-30-2\n",
    ")"
   ]
  },
  {
   "cell_type": "code",
   "execution_count": 93,
   "id": "934d9578-0895-48f5-bd22-083f0078f559",
   "metadata": {},
   "outputs": [],
   "source": [
    "overall_tm = reduce(multiply_transfer_matrices, transfer_matrices)"
   ]
  },
  {
   "cell_type": "code",
   "execution_count": 94,
   "id": "a5140633-8efe-4f15-8932-20aaeec50530",
   "metadata": {},
   "outputs": [],
   "source": [
    "np_overall_tm = (\n",
    "    overall_tm\n",
    "    .combine_legs([['vL', 'vL*'], ['vR', 'vR*']])\n",
    "    .to_ndarray()\n",
    ")"
   ]
  },
  {
   "cell_type": "code",
   "execution_count": 95,
   "id": "29b33c1d-37ad-431c-aa53-dc3a51519fc5",
   "metadata": {},
   "outputs": [
    {
     "data": {
      "text/plain": [
       "0.9144724104850274"
      ]
     },
     "execution_count": 95,
     "metadata": {},
     "output_type": "execute_result"
    }
   ],
   "source": [
    "np.abs(reduce(np.dot, [get_left_environment(test_psi, (test_psi.L//2)-30-2), np_overall_tm, vR]))"
   ]
  },
  {
   "cell_type": "markdown",
   "id": "ce2586a9-b597-4cc0-ab07-76090d7147ba",
   "metadata": {},
   "source": [
    "#### SVD product approximation"
   ]
  },
  {
   "cell_type": "code",
   "execution_count": 96,
   "id": "a04933b3-eaa7-4c9f-85a0-b4e99c694473",
   "metadata": {},
   "outputs": [],
   "source": [
    "right_tm_2_1 = (\n",
    "    get_transfer_matrix_from_unitary(\n",
    "        test_psi,\n",
    "        r_unitary_2_1,\n",
    "        (test_psi.L//2)+30\n",
    "    )\n",
    "    .combine_legs([['vL', 'vL*'], ['vR', 'vR*']])\n",
    "    .to_ndarray()\n",
    ")\n",
    "\n",
    "right_tm_2_2 = (\n",
    "    get_transfer_matrix_from_unitary(\n",
    "        test_psi,\n",
    "        r_unitary_2_2,\n",
    "        (test_psi.L//2)+31\n",
    "    )\n",
    "    .combine_legs([['vL', 'vL*'], ['vR', 'vR*']])\n",
    "    .to_ndarray()\n",
    ")"
   ]
  },
  {
   "cell_type": "code",
   "execution_count": 97,
   "id": "21b201cd-5479-4e9c-b53e-b55c4dc2cb0d",
   "metadata": {},
   "outputs": [],
   "source": [
    "left_tm_2_1 = (\n",
    "    get_transfer_matrix_from_unitary(\n",
    "        test_psi,\n",
    "        l_unitary_2_1,\n",
    "        (test_psi.L//2) -30 -1\n",
    "    )\n",
    "    .combine_legs([['vL', 'vL*'], ['vR', 'vR*']])\n",
    "    .to_ndarray()\n",
    ")\n",
    "\n",
    "left_tm_2_2 = (\n",
    "    get_transfer_matrix_from_unitary(\n",
    "        test_psi,\n",
    "        l_unitary_2_2,\n",
    "        (test_psi.L//2) -30 -2\n",
    "    )\n",
    "    .combine_legs([['vL', 'vL*'], ['vR', 'vR*']])\n",
    "    .to_ndarray()\n",
    ")"
   ]
  },
  {
   "cell_type": "code",
   "execution_count": 98,
   "id": "513e7122-c654-49b9-a018-84672cb1f8d2",
   "metadata": {},
   "outputs": [],
   "source": [
    "right_term = np.abs(reduce(np.dot, [right_projected_symmetry_state, right_tm_2_1, right_tm_2_2, vR]))"
   ]
  },
  {
   "cell_type": "code",
   "execution_count": 99,
   "id": "d2bc313b-0d60-4630-97e9-06f0aefb61ae",
   "metadata": {},
   "outputs": [
    {
     "data": {
      "text/plain": [
       "1.349953572573684"
      ]
     },
     "execution_count": 99,
     "metadata": {},
     "output_type": "execute_result"
    }
   ],
   "source": [
    "right_term"
   ]
  },
  {
   "cell_type": "code",
   "execution_count": 65,
   "id": "2966c334-36d6-46de-8f60-accfd3c43605",
   "metadata": {},
   "outputs": [
    {
     "data": {
      "text/plain": [
       "0.7433005401241385"
      ]
     },
     "execution_count": 65,
     "metadata": {},
     "output_type": "execute_result"
    }
   ],
   "source": [
    "np.linalg.norm(np.dot(right_projected_symmetry_state, right_tm) - r_points_1[r_arg_1])"
   ]
  },
  {
   "cell_type": "code",
   "execution_count": 100,
   "id": "d435114d-1916-449d-9813-cb981152aa3a",
   "metadata": {},
   "outputs": [],
   "source": [
    "left_term = np.abs(\n",
    "    reduce(\n",
    "        np.dot,\n",
    "        [\n",
    "            get_left_environment(test_psi, (test_psi.L//2)-30-2),\n",
    "            left_tm_2_2,\n",
    "            left_tm_2_1,\n",
    "            left_projected_symmetry_state\n",
    "        ]\n",
    "    )\n",
    ")"
   ]
  },
  {
   "cell_type": "code",
   "execution_count": 101,
   "id": "d98b01df-8386-4d24-b296-e4fd201bd969",
   "metadata": {},
   "outputs": [
    {
     "data": {
      "text/plain": [
       "0.33892291411607856"
      ]
     },
     "execution_count": 101,
     "metadata": {},
     "output_type": "execute_result"
    }
   ],
   "source": [
    "left_term"
   ]
  },
  {
   "cell_type": "code",
   "execution_count": 102,
   "id": "d2fa57ea-c666-4bbc-b76e-5fe1aa327732",
   "metadata": {},
   "outputs": [
    {
     "data": {
      "text/plain": [
       "0.9144724104850441"
      ]
     },
     "execution_count": 102,
     "metadata": {},
     "output_type": "execute_result"
    }
   ],
   "source": [
    "S[0]*left_term*right_term"
   ]
  },
  {
   "cell_type": "markdown",
   "id": "6925732a-f26a-4406-ab12-402c4c94cdeb",
   "metadata": {},
   "source": [
    "## Three sites\n",
    "### From search"
   ]
  },
  {
   "cell_type": "code",
   "execution_count": 112,
   "id": "d22f62e0-4824-4ae8-9898-8f1ea3b22772",
   "metadata": {},
   "outputs": [],
   "source": [
    "r_points_3, r_s3_points_3, r_overlaps_3 = search_step(\n",
    "    r_points_2,\n",
    "    r_s3_points_2,\n",
    "    super_fib_points,\n",
    "    N,\n",
    "    (test_psi.L//2)+30+2,\n",
    "    vR\n",
    ")"
   ]
  },
  {
   "cell_type": "code",
   "execution_count": 113,
   "id": "e76e9e1e-fb9e-42a6-b66d-9860b42334ca",
   "metadata": {},
   "outputs": [
    {
     "data": {
      "text/plain": [
       "1.3493004237318182"
      ]
     },
     "execution_count": 113,
     "metadata": {},
     "output_type": "execute_result"
    }
   ],
   "source": [
    "np.max(r_overlaps_3)"
   ]
  },
  {
   "cell_type": "code",
   "execution_count": 114,
   "id": "f66e9f14-c643-4a4a-bc95-27877ec6c7c7",
   "metadata": {},
   "outputs": [],
   "source": [
    "r_arg_3 = np.argmax(r_overlaps_3)"
   ]
  },
  {
   "cell_type": "code",
   "execution_count": 115,
   "id": "90d3ace2-a27c-425f-ba69-4655455c1853",
   "metadata": {},
   "outputs": [],
   "source": [
    "i = (test_psi.L//2)-30-3\n",
    "\n",
    "l_points_3, l_s3_points_3, l_overlaps_3 = search_step_left(\n",
    "    l_points_2,\n",
    "    l_s3_points_2,\n",
    "    super_fib_points,\n",
    "    N,\n",
    "    i,\n",
    "    get_left_environment(test_psi, i)\n",
    ")"
   ]
  },
  {
   "cell_type": "code",
   "execution_count": 116,
   "id": "2a426449-86eb-4d20-8ec3-fde05d84629e",
   "metadata": {},
   "outputs": [
    {
     "data": {
      "text/plain": [
       "0.33869682256904254"
      ]
     },
     "execution_count": 116,
     "metadata": {},
     "output_type": "execute_result"
    }
   ],
   "source": [
    "np.max(l_overlaps_3)"
   ]
  },
  {
   "cell_type": "code",
   "execution_count": 117,
   "id": "eb6624db-fb0d-4507-9fb7-746e1028165d",
   "metadata": {},
   "outputs": [],
   "source": [
    "l_arg_3 = np.argmax(l_overlaps_3)"
   ]
  },
  {
   "cell_type": "code",
   "execution_count": 118,
   "id": "0def2afd-5a81-4f4b-9c6c-3be5cd7a31a6",
   "metadata": {},
   "outputs": [
    {
     "data": {
      "text/plain": [
       "0.9134202219625596"
      ]
     },
     "execution_count": 118,
     "metadata": {},
     "output_type": "execute_result"
    }
   ],
   "source": [
    "S[0]*np.max(r_overlaps_3)*np.max(l_overlaps_3)"
   ]
  },
  {
   "cell_type": "markdown",
   "id": "6307a855-c72d-41f8-b864-b0aef8927646",
   "metadata": {},
   "source": [
    "### Check results\n",
    "#### Via expecation"
   ]
  },
  {
   "cell_type": "code",
   "execution_count": 119,
   "id": "d9a10a26-c049-41aa-93a7-80eee2242d7c",
   "metadata": {},
   "outputs": [],
   "source": [
    "r_unitary_3_1 = s3_points_to_unitary(r_s3_points_3[r_arg_3, 0])\n",
    "r_unitary_3_2 = s3_points_to_unitary(r_s3_points_3[r_arg_3, 1])\n",
    "r_unitary_3_3 = s3_points_to_unitary(r_s3_points_3[r_arg_3, 2])\n",
    "l_unitary_3_1 = s3_points_to_unitary(l_s3_points_3[l_arg_3, 0])\n",
    "l_unitary_3_2 = s3_points_to_unitary(l_s3_points_3[l_arg_3, 1])\n",
    "l_unitary_3_3 = s3_points_to_unitary(l_s3_points_3[l_arg_3, 2])"
   ]
  },
  {
   "cell_type": "code",
   "execution_count": 120,
   "id": "3d35d366-e737-4def-84c2-02b03b928ba5",
   "metadata": {},
   "outputs": [],
   "source": [
    "np_operators = [\n",
    "    l_unitary_3_3,\n",
    "    l_unitary_3_2,\n",
    "    l_unitary_3_1,\n",
    "    *([np_X, np_I]*30),\n",
    "    r_unitary_3_1,\n",
    "    r_unitary_3_2,\n",
    "    r_unitary_3_3\n",
    "]"
   ]
  },
  {
   "cell_type": "code",
   "execution_count": 121,
   "id": "5e949f1f-fb82-451d-a55e-f3193ddb88be",
   "metadata": {},
   "outputs": [
    {
     "data": {
      "text/plain": [
       "66"
      ]
     },
     "execution_count": 121,
     "metadata": {},
     "output_type": "execute_result"
    }
   ],
   "source": [
    "len(np_operators)"
   ]
  },
  {
   "cell_type": "code",
   "execution_count": 122,
   "id": "fcb2a217-6324-45cf-b0e4-0b13e2f28b79",
   "metadata": {},
   "outputs": [],
   "source": [
    "operators = [to_npc_array(X) for X in np_operators]"
   ]
  },
  {
   "cell_type": "code",
   "execution_count": 123,
   "id": "f44ab9e3-3e17-4261-9cb2-6a903279ae47",
   "metadata": {},
   "outputs": [],
   "source": [
    "expectation = test_psi.expectation_value_multi_sites(operators, (test_psi.L//2)-30-3)"
   ]
  },
  {
   "cell_type": "code",
   "execution_count": 124,
   "id": "854ae460-e230-41e2-a36f-0a116643ef2b",
   "metadata": {},
   "outputs": [
    {
     "data": {
      "text/plain": [
       "0.913420221962542"
      ]
     },
     "execution_count": 124,
     "metadata": {},
     "output_type": "execute_result"
    }
   ],
   "source": [
    "np.abs(expectation)"
   ]
  },
  {
   "cell_type": "markdown",
   "id": "b5fd18a1-e1bf-4553-aba1-f6533452b93c",
   "metadata": {},
   "source": [
    "\n",
    "#### Via transfer matrices"
   ]
  },
  {
   "cell_type": "code",
   "execution_count": 92,
   "id": "939a79ac-5704-464f-bdec-1e4468c18fbf",
   "metadata": {},
   "outputs": [],
   "source": [
    "transfer_matrices = get_transfer_matrices_from_unitary_list(\n",
    "    test_psi,\n",
    "    np_operators,\n",
    "    (test_psi.L//2)-30-2\n",
    ")"
   ]
  },
  {
   "cell_type": "code",
   "execution_count": 93,
   "id": "cbdd6ae5-1525-4613-82a7-feed3b9b49ae",
   "metadata": {},
   "outputs": [],
   "source": [
    "overall_tm = reduce(multiply_transfer_matrices, transfer_matrices)"
   ]
  },
  {
   "cell_type": "code",
   "execution_count": 94,
   "id": "6e839dc0-9b11-4381-8706-8a2482494239",
   "metadata": {},
   "outputs": [],
   "source": [
    "np_overall_tm = (\n",
    "    overall_tm\n",
    "    .combine_legs([['vL', 'vL*'], ['vR', 'vR*']])\n",
    "    .to_ndarray()\n",
    ")"
   ]
  },
  {
   "cell_type": "code",
   "execution_count": 95,
   "id": "def96e06-0cab-4414-ab99-06b937f1a0fa",
   "metadata": {},
   "outputs": [
    {
     "data": {
      "text/plain": [
       "0.9144724104850274"
      ]
     },
     "execution_count": 95,
     "metadata": {},
     "output_type": "execute_result"
    }
   ],
   "source": [
    "np.abs(reduce(np.dot, [get_left_environment(test_psi, (test_psi.L//2)-30-2), np_overall_tm, vR]))"
   ]
  },
  {
   "cell_type": "markdown",
   "id": "8257216d-66a7-4f83-b601-d6dfb0724d0f",
   "metadata": {},
   "source": [
    "#### SVD product approximation"
   ]
  },
  {
   "cell_type": "code",
   "execution_count": 96,
   "id": "01e15abe-8073-42fe-b51e-ebea913dfe72",
   "metadata": {},
   "outputs": [],
   "source": [
    "right_tm_2_1 = (\n",
    "    get_transfer_matrix_from_unitary(\n",
    "        test_psi,\n",
    "        r_unitary_2_1,\n",
    "        (test_psi.L//2)+30\n",
    "    )\n",
    "    .combine_legs([['vL', 'vL*'], ['vR', 'vR*']])\n",
    "    .to_ndarray()\n",
    ")\n",
    "\n",
    "right_tm_2_2 = (\n",
    "    get_transfer_matrix_from_unitary(\n",
    "        test_psi,\n",
    "        r_unitary_2_2,\n",
    "        (test_psi.L//2)+31\n",
    "    )\n",
    "    .combine_legs([['vL', 'vL*'], ['vR', 'vR*']])\n",
    "    .to_ndarray()\n",
    ")"
   ]
  },
  {
   "cell_type": "code",
   "execution_count": 97,
   "id": "bbcccb33-3a81-4632-9441-ca40e98e5ab8",
   "metadata": {},
   "outputs": [],
   "source": [
    "left_tm_2_1 = (\n",
    "    get_transfer_matrix_from_unitary(\n",
    "        test_psi,\n",
    "        l_unitary_2_1,\n",
    "        (test_psi.L//2) -30 -1\n",
    "    )\n",
    "    .combine_legs([['vL', 'vL*'], ['vR', 'vR*']])\n",
    "    .to_ndarray()\n",
    ")\n",
    "\n",
    "left_tm_2_2 = (\n",
    "    get_transfer_matrix_from_unitary(\n",
    "        test_psi,\n",
    "        l_unitary_2_2,\n",
    "        (test_psi.L//2) -30 -2\n",
    "    )\n",
    "    .combine_legs([['vL', 'vL*'], ['vR', 'vR*']])\n",
    "    .to_ndarray()\n",
    ")"
   ]
  },
  {
   "cell_type": "code",
   "execution_count": 98,
   "id": "dfb2d5fc-3779-4a36-acbd-b55ccdf7e1fe",
   "metadata": {},
   "outputs": [],
   "source": [
    "right_term = np.abs(reduce(np.dot, [right_projected_symmetry_state, right_tm_2_1, right_tm_2_2, vR]))"
   ]
  },
  {
   "cell_type": "code",
   "execution_count": 99,
   "id": "06c8bab8-a655-46e2-87e7-267fdbc6a217",
   "metadata": {},
   "outputs": [
    {
     "data": {
      "text/plain": [
       "1.349953572573684"
      ]
     },
     "execution_count": 99,
     "metadata": {},
     "output_type": "execute_result"
    }
   ],
   "source": [
    "right_term"
   ]
  },
  {
   "cell_type": "code",
   "execution_count": 65,
   "id": "17e6dd5e-7b3a-400e-8894-16aafca29ba0",
   "metadata": {},
   "outputs": [
    {
     "data": {
      "text/plain": [
       "0.7433005401241385"
      ]
     },
     "execution_count": 65,
     "metadata": {},
     "output_type": "execute_result"
    }
   ],
   "source": [
    "np.linalg.norm(np.dot(right_projected_symmetry_state, right_tm) - r_points_1[r_arg_1])"
   ]
  },
  {
   "cell_type": "code",
   "execution_count": 100,
   "id": "3c0ddaec-6aa4-4e8c-abba-33bdd8dabf7a",
   "metadata": {},
   "outputs": [],
   "source": [
    "left_term = np.abs(\n",
    "    reduce(\n",
    "        np.dot,\n",
    "        [\n",
    "            get_left_environment(test_psi, (test_psi.L//2)-30-2),\n",
    "            left_tm_2_2,\n",
    "            left_tm_2_1,\n",
    "            left_projected_symmetry_state\n",
    "        ]\n",
    "    )\n",
    ")"
   ]
  },
  {
   "cell_type": "code",
   "execution_count": 101,
   "id": "50988b44-880e-4274-a0bc-0f30b0dd6a64",
   "metadata": {},
   "outputs": [
    {
     "data": {
      "text/plain": [
       "0.33892291411607856"
      ]
     },
     "execution_count": 101,
     "metadata": {},
     "output_type": "execute_result"
    }
   ],
   "source": [
    "left_term"
   ]
  },
  {
   "cell_type": "code",
   "execution_count": 102,
   "id": "81037501-c526-4b37-a461-a1fe171ec18c",
   "metadata": {},
   "outputs": [
    {
     "data": {
      "text/plain": [
       "0.9144724104850441"
      ]
     },
     "execution_count": 102,
     "metadata": {},
     "output_type": "execute_result"
    }
   ],
   "source": [
    "S[0]*left_term*right_term"
   ]
  }
 ],
 "metadata": {
  "kernelspec": {
   "display_name": "num_spt_venv_p11",
   "language": "python",
   "name": "num_spt_venv_p11"
  },
  "language_info": {
   "codemirror_mode": {
    "name": "ipython",
    "version": 3
   },
   "file_extension": ".py",
   "mimetype": "text/x-python",
   "name": "python",
   "nbconvert_exporter": "python",
   "pygments_lexer": "ipython3",
   "version": "3.11.9"
  }
 },
 "nbformat": 4,
 "nbformat_minor": 5
}
