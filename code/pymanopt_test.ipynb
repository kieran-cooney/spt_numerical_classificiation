{
 "cells": [
  {
   "cell_type": "code",
   "execution_count": 9,
   "id": "b04e3b18-74f3-4634-8bec-ff7ce0fc0fdf",
   "metadata": {},
   "outputs": [],
   "source": [
    "import numpy as np"
   ]
  },
  {
   "cell_type": "code",
   "execution_count": 5,
   "id": "83719fb3-d87a-430a-b068-22be8e1a63a1",
   "metadata": {},
   "outputs": [],
   "source": [
    "import pymanopt\n",
    "from pymanopt.manifolds import UnitaryGroup\n",
    "from pymanopt.optimizers import SteepestDescent"
   ]
  },
  {
   "cell_type": "code",
   "execution_count": 2,
   "id": "860353d4-2b7a-45fd-899d-945bb3aeebeb",
   "metadata": {},
   "outputs": [],
   "source": [
    "manifold = UnitaryGroup(2)"
   ]
  },
  {
   "cell_type": "code",
   "execution_count": 4,
   "id": "23e7272d-c37c-4413-b3be-cc8dae4bd2ba",
   "metadata": {},
   "outputs": [],
   "source": [
    "optimizer = SteepestDescent()"
   ]
  },
  {
   "cell_type": "code",
   "execution_count": 10,
   "id": "5e519caa-f5db-4a38-bd8c-09b263105bcb",
   "metadata": {},
   "outputs": [
    {
     "data": {
      "text/plain": [
       "array([0.5-0.5j, 0.5+0.5j])"
      ]
     },
     "execution_count": 10,
     "metadata": {},
     "output_type": "execute_result"
    }
   ],
   "source": [
    "w = np.array([1-1j,1+1j])\n",
    "w /= np.linalg.norm(w)\n",
    "w"
   ]
  },
  {
   "cell_type": "code",
   "execution_count": 11,
   "id": "9ec3099a-c1e1-4f03-8597-8fc691a5ac8d",
   "metadata": {},
   "outputs": [
    {
     "data": {
      "text/plain": [
       "array([1.+0.j, 0.+0.j])"
      ]
     },
     "execution_count": 11,
     "metadata": {},
     "output_type": "execute_result"
    }
   ],
   "source": [
    "v = np.array([1+0j, 0+0j])\n",
    "v"
   ]
  },
  {
   "cell_type": "code",
   "execution_count": 14,
   "id": "9920c00e-791b-4681-ac01-fec0f8b37db3",
   "metadata": {},
   "outputs": [
    {
     "data": {
      "text/plain": [
       "numpy.ndarray"
      ]
     },
     "execution_count": 14,
     "metadata": {},
     "output_type": "execute_result"
    }
   ],
   "source": [
    "type(manifold.random_point())"
   ]
  },
  {
   "cell_type": "code",
   "execution_count": 18,
   "id": "27f5e59a-4651-4693-b63f-41444e691daa",
   "metadata": {},
   "outputs": [],
   "source": [
    "u = manifold.random_point()"
   ]
  },
  {
   "cell_type": "code",
   "execution_count": 19,
   "id": "a2182afe-a1aa-47df-a975-88e544f587a9",
   "metadata": {},
   "outputs": [
    {
     "data": {
      "text/plain": [
       "(0.5563545671687197+0.03500438060553429j)"
      ]
     },
     "execution_count": 19,
     "metadata": {},
     "output_type": "execute_result"
    }
   ],
   "source": [
    "w.T.dot(u).dot(v)"
   ]
  },
  {
   "cell_type": "code",
   "execution_count": 20,
   "id": "e0141e0c-ab03-40ae-8a56-825f4ee53fb9",
   "metadata": {},
   "outputs": [],
   "source": [
    "@pymanopt.function.numpy(manifold)\n",
    "def cost(point):\n",
    "    M = w.T.dot(point).dot(v)\n",
    "    return 1 - (np.abs(M))**2"
   ]
  },
  {
   "cell_type": "code",
   "execution_count": 26,
   "id": "4d0f57c9-dba1-4d90-b71a-266fbc4b3f1c",
   "metadata": {},
   "outputs": [],
   "source": [
    "@pymanopt.function.numpy(manifold)\n",
    "def grad(point):\n",
    "    M = w.T.dot(point).dot(v)\n",
    "    grad_M = np.outer(w.conj(),v)\n",
    "    grad = -2*M*np.conj(grad_M)\n",
    "    return grad"
   ]
  },
  {
   "cell_type": "code",
   "execution_count": 27,
   "id": "0989edf8-7878-4b9a-a034-ea596b4c8303",
   "metadata": {},
   "outputs": [],
   "source": [
    "problem = pymanopt.Problem(manifold, cost, euclidean_gradient=grad)"
   ]
  },
  {
   "cell_type": "code",
   "execution_count": 32,
   "id": "ba411664-5132-4c49-a867-154c4e960c88",
   "metadata": {},
   "outputs": [
    {
     "data": {
      "text/plain": [
       "['__builtins__',\n",
       " '__cached__',\n",
       " '__doc__',\n",
       " '__file__',\n",
       " '__loader__',\n",
       " '__name__',\n",
       " '__package__',\n",
       " '__path__',\n",
       " '__spec__',\n",
       " 'bisect_sequence',\n",
       " 'extend_docstring',\n",
       " 'functools',\n",
       " 'is_sequence',\n",
       " 'multi',\n",
       " 'ndarraySequenceMixin',\n",
       " 'printer',\n",
       " 'return_as_class_instance',\n",
       " 'typing',\n",
       " 'unpack_singleton_sequence_return_value']"
      ]
     },
     "execution_count": 32,
     "metadata": {},
     "output_type": "execute_result"
    }
   ],
   "source": [
    "dir(pymanopt.tools)"
   ]
  },
  {
   "cell_type": "code",
   "execution_count": 56,
   "id": "b04ba3fb-30be-468f-8dcd-0512f73a92db",
   "metadata": {},
   "outputs": [],
   "source": [
    "U_0 = np.sqrt(1/2)*np.array([[1,1],[1,1]])"
   ]
  },
  {
   "cell_type": "code",
   "execution_count": 57,
   "id": "c2f8690a-a4c4-440b-b5d4-73f067eeb822",
   "metadata": {},
   "outputs": [
    {
     "name": "stdout",
     "output_type": "stream",
     "text": [
      "Optimizing...\n",
      "Iteration    Cost                       Gradient norm     \n",
      "---------    -----------------------    --------------    \n",
      "   1         +4.9999999999999989e-01    7.07106781e-01    \n",
      "Terminated - min step_size reached after 1 iterations, 0.00 seconds.\n",
      "\n"
     ]
    }
   ],
   "source": [
    "result = optimizer.run(problem, initial_point=U_0)"
   ]
  },
  {
   "cell_type": "code",
   "execution_count": 58,
   "id": "141787fa-4df0-4c7e-99b4-bc84a8872c8f",
   "metadata": {},
   "outputs": [
    {
     "data": {
      "text/plain": [
       "OptimizerResult(point=array([[0.70710678, 0.70710678],\n",
       "       [0.70710678, 0.70710678]]), cost=0.4999999999999999, iterations=1, stopping_criterion='Terminated - min step_size reached after 1 iterations, 0.00 seconds.', time=0.004629373550415039, cost_evaluations=1, step_size=0.0, gradient_norm=0.7071067811865477, log={'optimizer': 'SteepestDescent', 'stopping_criteria': {'max_time': 1000, 'max_iterations': 1000, 'min_gradient_norm': 1e-06, 'min_step_size': 1e-10, 'max_cost_evaluations': 5000}, 'optimizer_parameters': {'line_searcher': <pymanopt.optimizers.line_search.BackTrackingLineSearcher object at 0x7355263681d0>}, 'iterations': None})"
      ]
     },
     "execution_count": 58,
     "metadata": {},
     "output_type": "execute_result"
    }
   ],
   "source": [
    "result"
   ]
  },
  {
   "cell_type": "code",
   "execution_count": 59,
   "id": "aedbdc84-e64c-4003-8996-babc3ebee106",
   "metadata": {},
   "outputs": [
    {
     "data": {
      "text/plain": [
       "array([[0.70710678, 0.70710678],\n",
       "       [0.70710678, 0.70710678]])"
      ]
     },
     "execution_count": 59,
     "metadata": {},
     "output_type": "execute_result"
    }
   ],
   "source": [
    "result.point"
   ]
  },
  {
   "cell_type": "code",
   "execution_count": 60,
   "id": "cd141554-9e36-4948-9c21-94a862aa0084",
   "metadata": {},
   "outputs": [
    {
     "data": {
      "text/plain": [
       "0.4999999999999999"
      ]
     },
     "execution_count": 60,
     "metadata": {},
     "output_type": "execute_result"
    }
   ],
   "source": [
    "result.cost"
   ]
  },
  {
   "cell_type": "code",
   "execution_count": 54,
   "id": "fffd8199-79e4-4a81-ac11-d18307261dc6",
   "metadata": {},
   "outputs": [
    {
     "data": {
      "text/plain": [
       "1"
      ]
     },
     "execution_count": 54,
     "metadata": {},
     "output_type": "execute_result"
    }
   ],
   "source": [
    "result.cost_evaluations"
   ]
  },
  {
   "cell_type": "code",
   "execution_count": 55,
   "id": "04b2f350-daf7-43bc-9e6f-7aa716f86dbc",
   "metadata": {},
   "outputs": [
    {
     "data": {
      "text/plain": [
       "'Terminated - min step_size reached after 1 iterations, 0.01 seconds.'"
      ]
     },
     "execution_count": 55,
     "metadata": {},
     "output_type": "execute_result"
    }
   ],
   "source": [
    "result.stopping_criterion"
   ]
  },
  {
   "cell_type": "code",
   "execution_count": 47,
   "id": "c0619494-cd5f-4a88-86a2-aad6d73aff97",
   "metadata": {},
   "outputs": [],
   "source": [
    "out_U = result.point"
   ]
  },
  {
   "cell_type": "code",
   "execution_count": 50,
   "id": "437368b4-9665-49f0-b517-848921d65f5e",
   "metadata": {},
   "outputs": [],
   "source": [
    "M = w.T.dot(out_U).dot(v)"
   ]
  },
  {
   "cell_type": "code",
   "execution_count": 51,
   "id": "eaefafc4-4884-46c0-bb4a-c8663d7c3479",
   "metadata": {},
   "outputs": [
    {
     "data": {
      "text/plain": [
       "(0.1372938609109004-0.7434203635442467j)"
      ]
     },
     "execution_count": 51,
     "metadata": {},
     "output_type": "execute_result"
    }
   ],
   "source": [
    "M"
   ]
  },
  {
   "cell_type": "code",
   "execution_count": 52,
   "id": "f8931904-5dd8-45a1-9fd5-4685b5ca79ed",
   "metadata": {},
   "outputs": [
    {
     "data": {
      "text/plain": [
       "0.7559916938538952"
      ]
     },
     "execution_count": 52,
     "metadata": {},
     "output_type": "execute_result"
    }
   ],
   "source": [
    "np.abs(M)"
   ]
  },
  {
   "cell_type": "markdown",
   "id": "5a79be1e-221a-4238-a9b1-ec978779ef3f",
   "metadata": {},
   "source": [
    "Problem with the stopping criteria? Stopping too early."
   ]
  },
  {
   "cell_type": "code",
   "execution_count": null,
   "id": "4c57d454-38a5-46d9-b611-4f3d371cb051",
   "metadata": {},
   "outputs": [],
   "source": []
  }
 ],
 "metadata": {
  "kernelspec": {
   "display_name": "venv",
   "language": "python",
   "name": "venv"
  },
  "language_info": {
   "codemirror_mode": {
    "name": "ipython",
    "version": 3
   },
   "file_extension": ".py",
   "mimetype": "text/x-python",
   "name": "python",
   "nbconvert_exporter": "python",
   "pygments_lexer": "ipython3",
   "version": "3.11.8"
  }
 },
 "nbformat": 4,
 "nbformat_minor": 5
}
