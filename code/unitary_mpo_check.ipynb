{
 "cells": [
  {
   "cell_type": "markdown",
   "id": "5f2205a4-2c74-4cf5-9ad1-9d65bd13bed2",
   "metadata": {},
   "source": [
    "# Unitary MPO check\n",
    "\n",
    "Created 26/08/2024\n",
    "\n",
    "Objectives:\n",
    "* Investigate w tensors of mpo's. Check what unitarity implies."
   ]
  },
  {
   "cell_type": "markdown",
   "id": "9ad0db4d-805c-4403-9d48-c71d523d572f",
   "metadata": {},
   "source": [
    "# Package imports"
   ]
  },
  {
   "cell_type": "code",
   "execution_count": 1,
   "id": "ecb41ea3-927f-4efa-aebe-ce15784aa037",
   "metadata": {},
   "outputs": [],
   "source": [
    "import sys"
   ]
  },
  {
   "cell_type": "code",
   "execution_count": 2,
   "id": "4a525ec6-f0c8-47ee-8b0b-345bf0ef8bd3",
   "metadata": {},
   "outputs": [],
   "source": [
    "import h5py\n",
    "from tenpy.tools import hdf5_io\n",
    "import tenpy\n",
    "import tenpy.linalg.np_conserved as npc\n",
    "\n",
    "import os"
   ]
  },
  {
   "cell_type": "code",
   "execution_count": 3,
   "id": "b22092ac-9191-4a2d-b568-8680c3687185",
   "metadata": {},
   "outputs": [],
   "source": [
    "from functools import reduce\n",
    "from operator import mul"
   ]
  },
  {
   "cell_type": "code",
   "execution_count": 4,
   "id": "214f688a-c657-4810-b4d1-b1247deff62c",
   "metadata": {},
   "outputs": [],
   "source": [
    "import numpy as np\n",
    "import matplotlib.pyplot as plt"
   ]
  },
  {
   "cell_type": "code",
   "execution_count": 5,
   "id": "b8dec68d-a5b3-4383-ab44-567a9a5981b3",
   "metadata": {},
   "outputs": [],
   "source": [
    "from SPTOptimization.SymmetryActionWithBoundaryUnitaries import SymmetryActionWithBoundaryUnitaries\n",
    "\n",
    "from SPTOptimization.Optimizers.OneSiteSolver import OneSiteSolver\n",
    "\n",
    "from SPTOptimization.utils import (\n",
    "    to_npc_array,\n",
    "    get_right_identity_environment,\n",
    "    multiply_transfer_matrices\n",
    ")\n",
    "\n",
    "from SPTOptimization.Optimizers.utils import (\n",
    "    one_site_optimization_sweep_right\n",
    ")"
   ]
  },
  {
   "cell_type": "code",
   "execution_count": 6,
   "id": "b7461fe3-41a3-492f-b018-8e32e27a7300",
   "metadata": {},
   "outputs": [],
   "source": [
    "import re"
   ]
  },
  {
   "cell_type": "markdown",
   "id": "c69a8a47-e298-4c4c-97f7-a6157da4e15f",
   "metadata": {},
   "source": [
    "# Load data"
   ]
  },
  {
   "cell_type": "code",
   "execution_count": 7,
   "id": "210d7dcc-b7ae-4f06-8429-84177bec47d3",
   "metadata": {},
   "outputs": [],
   "source": [
    "DATA_DIR = r\"data/transverse_cluster_200_site_dmrg\""
   ]
  },
  {
   "cell_type": "code",
   "execution_count": 8,
   "id": "52736de2-8178-4035-9861-2f17b8d972fc",
   "metadata": {},
   "outputs": [],
   "source": [
    "f_name = DATA_DIR + r\"/0_90.h5\""
   ]
  },
  {
   "cell_type": "code",
   "execution_count": 9,
   "id": "294bd63f-24bb-46d4-9716-76d74e82b013",
   "metadata": {},
   "outputs": [
    {
     "data": {
      "text/plain": [
       "'data/transverse_cluster_200_site_dmrg/0_90.h5'"
      ]
     },
     "execution_count": 9,
     "metadata": {},
     "output_type": "execute_result"
    }
   ],
   "source": [
    "f_name"
   ]
  },
  {
   "cell_type": "code",
   "execution_count": 10,
   "id": "68e653fc-625c-4010-ac8e-f7740131b8cc",
   "metadata": {},
   "outputs": [],
   "source": [
    "with h5py.File(f_name, 'r') as f:\n",
    "    data = hdf5_io.load_from_hdf5(f)\n",
    "    test_psi = data['wavefunction']"
   ]
  },
  {
   "cell_type": "markdown",
   "id": "b4c1e616-c034-404b-b59e-196d1eaac475",
   "metadata": {},
   "source": [
    "# Definitons"
   ]
  },
  {
   "cell_type": "code",
   "execution_count": 11,
   "id": "63506364-f535-4c0f-8c5f-8839c69f7b9d",
   "metadata": {},
   "outputs": [],
   "source": [
    "MAX_VIRTUAL_BOND_DIM = 8\n",
    "MAX_INTERMEDIATE_VIRTUAL_BOND_DIM = 2*MAX_VIRTUAL_BOND_DIM\n",
    "\n",
    "SVD_CUTOFF = 1e-3"
   ]
  },
  {
   "cell_type": "code",
   "execution_count": 12,
   "id": "513d7288-c641-4071-a4a3-652787d1f98c",
   "metadata": {},
   "outputs": [],
   "source": [
    "np_I = np.array([[1,0],[0,1]])\n",
    "np_X = np.array([[0,1],[1,0]])\n",
    "np_Y = np.array([[0,-1j],[1j,0]])\n",
    "np_Z = np.array([[1,0],[0,-1]])"
   ]
  },
  {
   "cell_type": "code",
   "execution_count": 13,
   "id": "2a78a62e-37eb-4baf-98ba-d6a94d599bec",
   "metadata": {},
   "outputs": [],
   "source": [
    "npc_I = to_npc_array(np_I)\n",
    "npc_X = to_npc_array(np_X)\n",
    "npc_Y = to_npc_array(np_Y)\n",
    "npc_Z = to_npc_array(np_Z)"
   ]
  },
  {
   "cell_type": "code",
   "execution_count": 14,
   "id": "83f57221-30e0-4de5-b117-a5f6fd32f6ae",
   "metadata": {},
   "outputs": [],
   "source": [
    "test = SymmetryActionWithBoundaryUnitaries(\n",
    "    test_psi,\n",
    "    [np_X, np_I]*50\n",
    ")"
   ]
  },
  {
   "cell_type": "code",
   "execution_count": 15,
   "id": "62e39a51-442f-4d7b-a183-7840570aeb27",
   "metadata": {},
   "outputs": [],
   "source": [
    "test.compute_svd_symmetry_action()"
   ]
  },
  {
   "cell_type": "code",
   "execution_count": 16,
   "id": "d9bcfc72-8623-49d1-ab56-1bf97614f173",
   "metadata": {},
   "outputs": [
    {
     "data": {
      "text/plain": [
       "<npc.Array shape=(8, 8) labels=['vR', 'vR*']>"
      ]
     },
     "execution_count": 16,
     "metadata": {},
     "output_type": "execute_result"
    }
   ],
   "source": [
    "test.right_projected_symmetry_state"
   ]
  },
  {
   "cell_type": "code",
   "execution_count": 17,
   "id": "bd489263-5d26-4c1f-8a79-275c932cc106",
   "metadata": {},
   "outputs": [
    {
     "data": {
      "text/plain": [
       "<npc.Array shape=(8, 8) labels=['vL', 'vL*']>"
      ]
     },
     "execution_count": 17,
     "metadata": {},
     "output_type": "execute_result"
    }
   ],
   "source": [
    "test.left_projected_symmetry_state"
   ]
  },
  {
   "cell_type": "code",
   "execution_count": 18,
   "id": "6bac53fa-b629-46fc-a145-f932a0af6f18",
   "metadata": {},
   "outputs": [],
   "source": [
    "left_trivial_leg_charge = tenpy.linalg.charges.LegCharge(\n",
    "    tenpy.linalg.charges.ChargeInfo([], []),\n",
    "    [0,1],\n",
    "    [[]],\n",
    "    qconj=1\n",
    ")"
   ]
  },
  {
   "cell_type": "code",
   "execution_count": 19,
   "id": "44f34cb7-0888-474b-9483-f4956951fc31",
   "metadata": {},
   "outputs": [],
   "source": [
    "right_trivial_leg_charge = tenpy.linalg.charges.LegCharge(\n",
    "    tenpy.linalg.charges.ChargeInfo([], []),\n",
    "    [0,1],\n",
    "    [[]],\n",
    "    qconj=-1\n",
    ")"
   ]
  },
  {
   "cell_type": "markdown",
   "id": "38c05308-5c2c-4c60-8eb5-7446af7f85d7",
   "metadata": {},
   "source": [
    "## Functions"
   ]
  },
  {
   "cell_type": "markdown",
   "id": "fbf28b75-1454-41f0-a17d-dd1d8891cb81",
   "metadata": {},
   "source": [
    "### Leg and label functions"
   ]
  },
  {
   "cell_type": "code",
   "execution_count": 20,
   "id": "0cc65d77-76f3-4159-b2e6-e0ab8429c271",
   "metadata": {},
   "outputs": [],
   "source": [
    "P_LEG_LABEL_REGEX_STRING = r\"^p\\d*$\"\n",
    "p_leg_pattern = re.compile(P_LEG_LABEL_REGEX_STRING)\n",
    "\n",
    "def is_single_physical_leg_label(label):\n",
    "    return bool(p_leg_pattern.match(label))"
   ]
  },
  {
   "cell_type": "code",
   "execution_count": 21,
   "id": "af651898-f853-4710-bfa7-2928d6bb8d55",
   "metadata": {},
   "outputs": [],
   "source": [
    "def is_grouped_physical_leg_label(leg_label):\n",
    "    head, *body, tail = leg_label\n",
    "    if (head != '(') or (tail != ')'):\n",
    "        return False\n",
    "\n",
    "    body = ''.join(body)\n",
    "    legs = body.split('.')\n",
    "\n",
    "    return all(is_single_physical_leg_label(l) for l in legs)"
   ]
  },
  {
   "cell_type": "code",
   "execution_count": 22,
   "id": "1b14fc57-4f21-432e-b2b9-6dcafc179ef2",
   "metadata": {},
   "outputs": [],
   "source": [
    "def is_physical_leg_label(label):\n",
    "    out = (\n",
    "        is_single_physical_leg_label(label)\n",
    "        or is_grouped_physical_leg_label(label)\n",
    "    )\n",
    "\n",
    "    return out"
   ]
  },
  {
   "cell_type": "code",
   "execution_count": 23,
   "id": "949e51b3-8bd1-409f-bb98-0a57d1c99888",
   "metadata": {},
   "outputs": [],
   "source": [
    "def extract_single_physical_leg_label_from_tensor(b):\n",
    "    out = next(\n",
    "        l for l in b.get_leg_labels()\n",
    "        if is_single_physical_leg_label(l)\n",
    "    )\n",
    "\n",
    "    return out"
   ]
  },
  {
   "cell_type": "code",
   "execution_count": 24,
   "id": "1d03a2c8-1e74-4a87-abec-67ec6857100c",
   "metadata": {},
   "outputs": [],
   "source": [
    "def conjugate_single_physical_leg_label(label):\n",
    "    return label + '*'"
   ]
  },
  {
   "cell_type": "code",
   "execution_count": 25,
   "id": "16f3235f-6efc-4739-8dae-a42093c12370",
   "metadata": {},
   "outputs": [],
   "source": [
    "def conjugate_grouped_physical_leg_label(label):\n",
    "    _, *body, _ = label\n",
    "    single_labels = ''.join(body).split('.')\n",
    "\n",
    "    conjugate_labels = [\n",
    "        conjugate_single_physical_leg_label(l)\n",
    "        for l in single_labels\n",
    "    ]\n",
    "\n",
    "    conjugate_body = '.'.join(conjugate_labels)\n",
    "    out = '(' + conjugate_body + ')'\n",
    "    \n",
    "    return out"
   ]
  },
  {
   "cell_type": "code",
   "execution_count": 26,
   "id": "8dab4c14-1fb5-4933-b68c-204cc96541c4",
   "metadata": {},
   "outputs": [],
   "source": [
    "def conjugate_leg_label(label):\n",
    "    if is_single_physical_leg_label(label):\n",
    "        return conjugate_single_physical_leg_label(label)\n",
    "    elif is_grouped_physical_leg_label(label):\n",
    "        return conjugate_grouped_physical_leg_label(label)\n",
    "    else:\n",
    "        raise ValueError"
   ]
  },
  {
   "cell_type": "code",
   "execution_count": 27,
   "id": "8e00e4ef-bb2b-4229-8e92-5e07ec9931b4",
   "metadata": {},
   "outputs": [],
   "source": [
    "def get_physical_leg_labels(t):\n",
    "    out = [\n",
    "        ll for ll in t.get_leg_labels()\n",
    "        if is_physical_leg_label(ll)\n",
    "    ]\n",
    "\n",
    "    return out"
   ]
  },
  {
   "cell_type": "markdown",
   "id": "818c2f27-1431-42a7-ab63-9d81972ed7e2",
   "metadata": {},
   "source": [
    "### Other"
   ]
  },
  {
   "cell_type": "code",
   "execution_count": 28,
   "id": "d2464abb-fd7e-469a-a7d4-e604e24e14bc",
   "metadata": {},
   "outputs": [],
   "source": [
    "def contract_virtual_legs(tl, tr):\n",
    "    return npc.tensordot(tl, tr, ['vR', 'vL'])"
   ]
  },
  {
   "cell_type": "code",
   "execution_count": 29,
   "id": "ac3f7a01-08a2-4937-8308-f12f637f38b6",
   "metadata": {},
   "outputs": [],
   "source": [
    "def combine_tensors(tensors):\n",
    "    out = reduce(contract_virtual_legs, tensors)\n",
    "\n",
    "    leg_labels = [\n",
    "        extract_single_physical_leg_label_from_tensor(t)\n",
    "        for t in tensors\n",
    "    ]\n",
    "\n",
    "    out = out.combine_legs(leg_labels)\n",
    "\n",
    "    return out"
   ]
  },
  {
   "cell_type": "code",
   "execution_count": 30,
   "id": "6b01c411-0a2a-499d-b220-b99e197ecbd8",
   "metadata": {},
   "outputs": [],
   "source": [
    "def combine_b_tensors(b_tensors):\n",
    "    renamed_tensors = [\n",
    "        b.replace_label('p', f'p{i}')\n",
    "        for i, b in enumerate(b_tensors)\n",
    "    ]\n",
    "\n",
    "    return combine_tensors(renamed_tensors)"
   ]
  },
  {
   "cell_type": "code",
   "execution_count": 31,
   "id": "41848361-7394-4eb5-8006-8ab618c0a274",
   "metadata": {},
   "outputs": [],
   "source": [
    "def get_identity_operator(mps_tensor):\n",
    "    p_leg_label = get_physical_leg_labels(mps_tensor)[0]\n",
    "    p_leg = mps_tensor.get_leg(p_leg_label)\n",
    "    p_leg_label_conj = conjugate_leg_label(p_leg_label)\n",
    "\n",
    "    out = npc.diag(\n",
    "        1,\n",
    "        leg=p_leg,\n",
    "        dtype='complex',\n",
    "        labels=[p_leg_label, p_leg_label_conj]\n",
    "    )\n",
    "\n",
    "    return out"
   ]
  },
  {
   "cell_type": "code",
   "execution_count": 283,
   "id": "0b0386d2-79d0-45ab-98ce-ead4ca433c30",
   "metadata": {},
   "outputs": [
    {
     "name": "stdout",
     "output_type": "stream",
     "text": [
      "The history saving thread hit an unexpected error (OperationalError('attempt to write a readonly database')).History will not be written to the database.\n"
     ]
    }
   ],
   "source": [
    "def svd_reduce_split_tensor(t, max_inner_dim=MAX_VIRTUAL_BOND_DIM,\n",
    "                           normalise=True, svd_cutoff=SVD_CUTOFF):\n",
    "    U, S, VH = npc.svd(\n",
    "        t,\n",
    "        compute_uv=True,\n",
    "        inner_labels=['vR', 'vL'],\n",
    "        cutoff=svd_cutoff\n",
    "    )\n",
    "\n",
    "    # Truncate tensors:\n",
    "    U = U[:, :max_inner_dim]\n",
    "    S = S[:max_inner_dim]\n",
    "    VH = VH[:max_inner_dim, :]\n",
    "\n",
    "    if normalise:\n",
    "        new_norm = np.sqrt(np.sum(S**2))\n",
    "        S = S/new_norm\n",
    "\n",
    "    \"\"\"\n",
    "    leg = VH.get_leg('vL')\n",
    "\n",
    "    schmidt_values = npc.diag(S, leg, labels=['vL', 'vR'])\n",
    "    \"\"\"\n",
    "\n",
    "    return U, S, VH"
   ]
  },
  {
   "cell_type": "code",
   "execution_count": 33,
   "id": "d2523496-e338-46ef-a2e2-5a8e8dbcba5f",
   "metadata": {},
   "outputs": [],
   "source": [
    "def split_combined_b(b, leftmost_schmidt_values,\n",
    "                     max_virtual_bond_dim=MAX_INTERMEDIATE_VIRTUAL_BOND_DIM,\n",
    "                     p_leg_labels=None):\n",
    "    t = b.split_legs()\n",
    "\n",
    "    num_sites = t.ndim - 2\n",
    "\n",
    "    if p_leg_labels is None:\n",
    "        p_leg_labels = [f'p{i}' for i in range(num_sites)]\n",
    "\n",
    "    out_bs = list()\n",
    "    out_schmidt_values = list()\n",
    "\n",
    "    current_left_schmidt_values = leftmost_schmidt_values\n",
    "\n",
    "    for i, ll in enumerate(p_leg_labels[:-1]):\n",
    "        t.iscale_axis(current_left_schmidt_values, axis='vL')\n",
    "\n",
    "        tail_legs = p_leg_labels[(i+1):]\n",
    "        \n",
    "        t = t.combine_legs([['vL', ll], ['vR', *tail_legs]])\n",
    "\n",
    "        U, S, VH = svd_reduce_split_tensor(\n",
    "            t,\n",
    "            max_inner_dim=max_virtual_bond_dim,\n",
    "            normalise=True\n",
    "        )\n",
    "\n",
    "        bl = (\n",
    "            U\n",
    "            .split_legs()\n",
    "            .replace_label(ll, 'p')\n",
    "        )\n",
    "        bl.iscale_axis(1/current_left_schmidt_values, axis='vL')\n",
    "        bl.iscale_axis(S, axis='vR')\n",
    "        bl.itranspose(['vL', 'p', 'vR'])\n",
    "        out_bs.append(bl)\n",
    "\n",
    "        out_schmidt_values.append(S)\n",
    "        current_left_schmidt_values=S\n",
    "\n",
    "        t = VH.split_legs()\n",
    "\n",
    "    bl = t.replace_label(p_leg_labels[-1], 'p')\n",
    "    bl.itranspose(['vL', 'p', 'vR'])\n",
    "    out_bs.append(bl)\n",
    "\n",
    "    return out_bs, out_schmidt_values"
   ]
  },
  {
   "cell_type": "code",
   "execution_count": 34,
   "id": "a02ec1af-d2c1-4766-a688-01946f284490",
   "metadata": {},
   "outputs": [],
   "source": [
    "def split_b(b, max_virtual_bond_dim=MAX_INTERMEDIATE_VIRTUAL_BOND_DIM,\n",
    "                     p_leg_labels=None):\n",
    "    leg_label = get_physical_leg_labels(b)[0]\n",
    "\n",
    "    if is_single_physical_leg_label(leg_label):\n",
    "        return b\n",
    "    elif is_grouped_physical_leg_label(leg_label):\n",
    "        return split_combined_b(b, max_virtual_bond_dim, p_leg_labels)\n",
    "    else:\n",
    "        raise ValueError"
   ]
  },
  {
   "cell_type": "code",
   "execution_count": 35,
   "id": "5dddedee-f5a2-4dc8-90e1-7afac18a0307",
   "metadata": {},
   "outputs": [],
   "source": [
    "def split_combined_u(u, max_virtual_bond_dim=MAX_VIRTUAL_BOND_DIM,\n",
    "                     p_leg_labels=None):\n",
    "    t = u.split_legs()\n",
    "    num_sites = t.ndim //2\n",
    "    \n",
    "    if p_leg_labels is None:\n",
    "        p_leg_labels = [f'p{i}' for i in range(num_sites)]\n",
    "\n",
    "    p_leg_labels_hc = [l+'*' for l in p_leg_labels]\n",
    "    out_ws = list()\n",
    "\n",
    "    for i, (ll, ll_hc) in enumerate(zip(p_leg_labels[:-1], p_leg_labels_hc[:-1])):\n",
    "        tail_legs = p_leg_labels[(i+1):]\n",
    "        tail_legs_hc = p_leg_labels_hc[(i+1):]\n",
    "\n",
    "        left_leg_labels = [ll, ll_hc]\n",
    "        if 'vL' in t.get_leg_labels():\n",
    "            left_leg_labels.append('vL')\n",
    "    \n",
    "        t = t.combine_legs([left_leg_labels, [*tail_legs, *tail_legs_hc]])\n",
    "\n",
    "        U, S, VH = svd_reduce_split_tensor(\n",
    "            t,\n",
    "            max_inner_dim=max_virtual_bond_dim,\n",
    "            normalise=False\n",
    "        )\n",
    "\n",
    "        U.iscale_axis(S, axis='vR')\n",
    "\n",
    "        wl = U.split_legs().replace_labels([ll, ll_hc], ['p', 'p*'])\n",
    "        #wl.itranspose(['p', 'p*'])\n",
    "        out_ws.append(wl)\n",
    "\n",
    "        t = VH.split_legs()\n",
    "\n",
    "    wl = t.replace_labels(\n",
    "        [p_leg_labels[-1], p_leg_labels_hc[-1]],\n",
    "        ['p', 'p*']\n",
    "    )\n",
    "    #wl.itranspose(['p', 'p*'])\n",
    "    out_ws.append(wl)\n",
    "\n",
    "    out_ws[0] = (\n",
    "        out_ws[0]\n",
    "        .add_leg(left_trivial_leg_charge, 0, label='vL')\n",
    "    )\n",
    "    \n",
    "    out_ws[-1] = (\n",
    "        out_ws[-1]\n",
    "        .add_leg(right_trivial_leg_charge, 0, label='vR')\n",
    "    )\n",
    "\n",
    "    return out_ws"
   ]
  },
  {
   "cell_type": "code",
   "execution_count": 36,
   "id": "a28056d8-7950-4661-b4b8-0b73e1f6cf97",
   "metadata": {},
   "outputs": [],
   "source": [
    "def split_u(u, max_virtual_bond_dim=MAX_VIRTUAL_BOND_DIM,\n",
    "            p_leg_labels=None):\n",
    "    leg_label = get_physical_leg_labels(u)[0]\n",
    "\n",
    "    if is_single_physical_leg_label(leg_label):\n",
    "        return [unitary_to_mpo_tensor(u),]\n",
    "    elif is_grouped_physical_leg_label(leg_label):\n",
    "        return split_combined_u(u, max_virtual_bond_dim, p_leg_labels)\n",
    "    else:\n",
    "        raise ValueError"
   ]
  },
  {
   "cell_type": "code",
   "execution_count": 37,
   "id": "bc71056c-f25f-4d68-b694-2a26c0ad5790",
   "metadata": {},
   "outputs": [],
   "source": [
    "def unitary_to_mpo_tensor(u):\n",
    "    out = (\n",
    "        u\n",
    "        .add_leg(left_trivial_leg_charge, 0, label='vL')\n",
    "        .add_leg(right_trivial_leg_charge, 0, label='vR')\n",
    "    )\n",
    "\n",
    "    return out"
   ]
  },
  {
   "cell_type": "code",
   "execution_count": 38,
   "id": "7b9fb468-6328-4ae0-b25a-652cb13032c1",
   "metadata": {},
   "outputs": [],
   "source": [
    "def multiply_individual_mpo_tensors(w1, w2):\n",
    "    w1 = w1.replace_labels(['vR', 'vL'], ['vR1', 'vL1'])\n",
    "    w2 = w2.replace_labels(['vR', 'vL'], ['vR2', 'vL2'])\n",
    "\n",
    "    w = (\n",
    "        npc.tensordot(w1, w2, [['p'], ['p*']])\n",
    "        .combine_legs([['vR1', 'vR2'], ['vL1', 'vL2']])\n",
    "        .replace_labels(['(vR1.vR2)', '(vL1.vL2)'], ['vR', 'vL'])\n",
    "    )\n",
    "\n",
    "    return w"
   ]
  },
  {
   "cell_type": "code",
   "execution_count": 39,
   "id": "f9a3a71f-0d3f-4ecf-8eec-c38f861561ef",
   "metadata": {},
   "outputs": [],
   "source": [
    "def group_elements(l, group_size, offset=0):\n",
    "    first, rest = l[:offset], l[offset:]\n",
    "\n",
    "    num_rest_groups = ((len(rest)-1)//group_size) + 1\n",
    "\n",
    "    groups = [first,] if first else list()\n",
    "\n",
    "    for i in range(num_rest_groups):\n",
    "        first_index = i*group_size\n",
    "        last_index = (i+1)*group_size\n",
    "        groups.append(rest[first_index:last_index])\n",
    "\n",
    "    return groups"
   ]
  },
  {
   "cell_type": "code",
   "execution_count": 40,
   "id": "96791fa9-9917-4440-b847-2bc4a3eb39e5",
   "metadata": {},
   "outputs": [],
   "source": [
    "def combine_grouped_b_tensors(grouped_bs):\n",
    "    out = list()\n",
    "\n",
    "    for group in grouped_bs:\n",
    "        if len(group) == 1:\n",
    "            out.append(group[0])\n",
    "        else:\n",
    "            out.append(combine_b_tensors(group))\n",
    "\n",
    "    return out"
   ]
  },
  {
   "cell_type": "code",
   "execution_count": 41,
   "id": "c78589cc-aa65-4aa1-9d53-0cf61702e92c",
   "metadata": {},
   "outputs": [],
   "source": [
    "def reduce_virtual_mpo_dim(wl, wr, max_virtual_bond_dim=MAX_VIRTUAL_BOND_DIM):\n",
    "    # wl = wl.replace_labels(['p', 'p*'], ['pl', 'pl*'])\n",
    "\n",
    "    wl = wl.combine_legs(['p', 'vL', 'p*'])\n",
    "    wr = wr.combine_legs(['p', 'vR', 'p*'])\n",
    "    w = npc.tensordot(wl, wr, ['vR', 'vL'])\n",
    "\n",
    "    wl, S, wr = svd_reduce_split_tensor(\n",
    "        w,\n",
    "        max_inner_dim=max_virtual_bond_dim\n",
    "    )\n",
    "\n",
    "    wl.iscale_axis(S, axis='vR')\n",
    "\n",
    "    wl = wl.split_legs()\n",
    "    wr = wr.split_legs()\n",
    "\n",
    "    return wl, wr"
   ]
  },
  {
   "cell_type": "code",
   "execution_count": 42,
   "id": "e7470053-b5df-45e0-b302-d7ad19d83f30",
   "metadata": {},
   "outputs": [],
   "source": [
    "def multiply_mpos(top_ws, bottom_ws, max_virtual_bond_dim=MAX_VIRTUAL_BOND_DIM):\n",
    "    ws = list()\n",
    "    \n",
    "    for w1, w2 in zip(top_ws, bottom_ws):\n",
    "        w = multiply_individual_mpo_tensors(w1, w2)\n",
    "        ws.append(w)\n",
    "\n",
    "\n",
    "    for i in range(len(ws)-1):\n",
    "        ws[i], ws[i+1] = reduce_virtual_mpo_dim(\n",
    "            ws[i],\n",
    "            ws[i+1],\n",
    "            max_virtual_bond_dim=max_virtual_bond_dim\n",
    "        )\n",
    "\n",
    "    return ws"
   ]
  },
  {
   "cell_type": "markdown",
   "id": "808162ba-8e2a-40bf-adcb-84aff74b5b95",
   "metadata": {},
   "source": [
    "### Layer function"
   ]
  },
  {
   "cell_type": "code",
   "execution_count": 43,
   "id": "28b4dd32-ad86-4b30-8047-0b8ad440a194",
   "metadata": {},
   "outputs": [],
   "source": [
    "def optimise_layer(\n",
    "        left_environment,\n",
    "        top_b_tensors,\n",
    "        left_schmidt_values,\n",
    "        block_width,\n",
    "        block_offset,\n",
    "        expectations,\n",
    "        previous_mpo_w_tensors,\n",
    "        bottom_b_tensors=None,\n",
    "        num_iterations=1,\n",
    "        max_virtual_bond_dim=MAX_VIRTUAL_BOND_DIM\n",
    "    ):\n",
    "\n",
    "    if bottom_b_tensors is None:\n",
    "        bottom_b_tensors = top_b_tensors\n",
    "\n",
    "    group = lambda x: group_elements(x, block_width, block_offset)\n",
    "    top_grouped_bs = group(top_b_tensors)\n",
    "    bottom_grouped_bs = group(bottom_b_tensors)\n",
    "    grouped_schmidt_values = group(left_schmidt_values)\n",
    "\n",
    "    top_combined_bs = combine_grouped_b_tensors(top_grouped_bs)\n",
    "    bottom_combined_bs = combine_grouped_b_tensors(bottom_grouped_bs)\n",
    "\n",
    "    unitaries = [\n",
    "        get_identity_operator(t) for t in top_combined_bs\n",
    "    ]\n",
    "\n",
    "    expectations.append(list())\n",
    "\n",
    "    for _ in range(num_iterations):\n",
    "        exps, *_ = one_site_optimization_sweep_right(\n",
    "            left_environment,\n",
    "            top_combined_bs,\n",
    "            unitaries,\n",
    "            bottom_combined_bs\n",
    "        )\n",
    "\n",
    "        expectations[-1].append(exps)\n",
    "\n",
    "    for i, u in enumerate(unitaries):\n",
    "        b = top_combined_bs[i]\n",
    "        ll = get_physical_leg_labels(b)[0]\n",
    "        llh = conjugate_leg_label(ll)\n",
    "    \n",
    "        new_b = npc.tensordot(b, u, [[ll,], [llh,]])\n",
    "    \n",
    "        top_combined_bs[i] = new_b\n",
    "\n",
    "    new_top_bs = list()\n",
    "    new_left_schmidt_values = left_schmidt_values.copy()\n",
    "\n",
    "    for b, s in zip (top_combined_bs, grouped_schmidt_values):\n",
    "        leg_label = get_physical_leg_labels(b)[0]\n",
    "        if is_single_physical_leg_label(leg_label):\n",
    "            new_top_bs.append(b)\n",
    "            new_left_schmidt_values.extend(s)\n",
    "        elif is_grouped_physical_leg_label(leg_label):\n",
    "            bs, schmidt_vals = split_combined_b(\n",
    "                b,\n",
    "                s[0],\n",
    "                max_virtual_bond_dim\n",
    "            )\n",
    "            new_top_bs.extend(bs)\n",
    "            new_left_schmidt_values.extend(s)\n",
    "\n",
    "    \"\"\"\n",
    "    for i, b in enumerate(new_top_bs):\n",
    "        top_b_tensors[i] = b\n",
    "    \"\"\"\n",
    "\n",
    "    current_unitary_w_tensors = list()\n",
    "\n",
    "    for u in unitaries:\n",
    "        current_unitary_w_tensors.extend(split_u(u, max_virtual_bond_dim=max_virtual_bond_dim))\n",
    "\n",
    "    if previous_mpo_w_tensors == []:\n",
    "        for w in current_unitary_w_tensors:\n",
    "            previous_mpo_w_tensors.append(w)\n",
    "    else:\n",
    "        new_mpo_w_tensors = multiply_mpos(\n",
    "            previous_mpo_w_tensors,\n",
    "            current_unitary_w_tensors,\n",
    "            max_virtual_bond_dim=max_virtual_bond_dim\n",
    "        )\n",
    "\n",
    "        for i, w in enumerate(new_mpo_w_tensors):\n",
    "            previous_mpo_w_tensors[i] = w\n",
    "\n",
    "    return new_top_bs, new_left_schmidt_values, unitaries"
   ]
  },
  {
   "cell_type": "code",
   "execution_count": 44,
   "id": "3a51ee7d-cf08-4382-bb53-55cae7533c76",
   "metadata": {},
   "outputs": [],
   "source": [
    "def inner_product_b_tensors(b_tensors, b_bra_tensors=None, left_environment=None,\n",
    "                            right_environment=None):\n",
    "    if b_bra_tensors is None:\n",
    "        b_bra_tensors = b_tensors\n",
    "\n",
    "    b = b_tensors[0]\n",
    "    b_bra = b_bra_tensors[0]\n",
    "\n",
    "    if left_environment is None:\n",
    "        t = npc.tensordot(b, b_bra.conj(), [['vL',], ['vL*',]])\n",
    "    else:\n",
    "        t = npc.tensordot(left_environment, b, [['vR',], ['vL',]])\n",
    "        t = npc.tensordot(t, b_bra.conj(), [['vR*', 'p'], ['vL*', 'p*']])\n",
    "\n",
    "    for b, b_bra in zip(b_tensors[1:], b_bra_tensors[1:]):\n",
    "        t = npc.tensordot(t, b, [['vR',], ['vL',]])\n",
    "        t = npc.tensordot(t, b_bra.conj(), [['vR*', 'p'], ['vL*', 'p*']])\n",
    "\n",
    "    if right_environment is None:\n",
    "        out = npc.trace(t)\n",
    "    else:\n",
    "        out = npc.tensordot(t, right_environment, [['vR', 'vR*'], ['vL', 'vL*']])\n",
    "\n",
    "    return out"
   ]
  },
  {
   "cell_type": "markdown",
   "id": "4de20b96-dc26-422f-87aa-d0220ebeb7cf",
   "metadata": {},
   "source": [
    "# Unitary investigation"
   ]
  },
  {
   "cell_type": "markdown",
   "id": "8353566d-2126-4355-bf4e-7148ee47c36c",
   "metadata": {},
   "source": [
    "## Generate w tensors"
   ]
  },
  {
   "cell_type": "code",
   "execution_count": 45,
   "id": "5cceb5cb-84a8-48a5-978a-ad9c794af54b",
   "metadata": {},
   "outputs": [
    {
     "data": {
      "text/plain": [
       "149"
      ]
     },
     "execution_count": 45,
     "metadata": {},
     "output_type": "execute_result"
    }
   ],
   "source": [
    "test.right_symmetry_index"
   ]
  },
  {
   "cell_type": "code",
   "execution_count": 46,
   "id": "1cf15a5e-8b2b-4f59-884f-5f3b8faf527d",
   "metadata": {},
   "outputs": [],
   "source": [
    "bs = [\n",
    "    test_psi.get_B(i)\n",
    "    for k, i in enumerate(range(test.right_symmetry_index + 1, test.right_symmetry_index + 16))\n",
    "]"
   ]
  },
  {
   "cell_type": "code",
   "execution_count": 47,
   "id": "9c500b7f-a0f5-4c60-b642-33841f4f1861",
   "metadata": {},
   "outputs": [],
   "source": [
    "left_schmidt_values = [\n",
    "    test_psi.get_SL(i)\n",
    "    for _, i in enumerate(range(test.right_symmetry_index + 1, test.right_symmetry_index + 16))\n",
    "]"
   ]
  },
  {
   "cell_type": "code",
   "execution_count": 48,
   "id": "143f2fa3-e2f1-4e82-a3ea-53869d7b8b55",
   "metadata": {},
   "outputs": [],
   "source": [
    "left_environment = test.right_projected_symmetry_state\n",
    "bottom_b_tensors = bs\n",
    "top_b_tensors = [bs,]\n",
    "left_schmidt_values_list = [left_schmidt_values,]\n",
    "block_width = 3\n",
    "expectations = list()\n",
    "previous_mpo_w_tensors = []\n",
    "num_iterations = 1"
   ]
  },
  {
   "cell_type": "code",
   "execution_count": 49,
   "id": "d1761958-54c0-487a-b6d0-36a514e1f097",
   "metadata": {
    "scrolled": true
   },
   "outputs": [],
   "source": [
    "new_top_b_tensors, new_schmidt_values, unitaries = optimise_layer(\n",
    "    left_environment,\n",
    "    top_b_tensors[-1],\n",
    "    left_schmidt_values_list[-1],\n",
    "    block_width,\n",
    "    0,\n",
    "    expectations,\n",
    "    previous_mpo_w_tensors,\n",
    "    bottom_b_tensors,\n",
    "    num_iterations\n",
    ")\n",
    "\n",
    "top_b_tensors.append(new_top_b_tensors)\n",
    "left_schmidt_values_list.append(new_schmidt_values)"
   ]
  },
  {
   "cell_type": "code",
   "execution_count": 50,
   "id": "b2da4508-6486-4309-9366-eaccd5140537",
   "metadata": {},
   "outputs": [
    {
     "data": {
      "text/plain": [
       "[<npc.Array shape=(1, 2, 2, 4) labels=['vL', 'p', 'p*', 'vR']>,\n",
       " <npc.Array shape=(2, 2, 4, 4) labels=['p', 'p*', 'vL', 'vR']>,\n",
       " <npc.Array shape=(1, 4, 2, 2) labels=['vR', 'vL', 'p', 'p*']>,\n",
       " <npc.Array shape=(1, 2, 2, 4) labels=['vL', 'p', 'p*', 'vR']>,\n",
       " <npc.Array shape=(2, 2, 4, 4) labels=['p', 'p*', 'vL', 'vR']>,\n",
       " <npc.Array shape=(1, 4, 2, 2) labels=['vR', 'vL', 'p', 'p*']>,\n",
       " <npc.Array shape=(1, 2, 2, 1) labels=['vL', 'p', 'p*', 'vR']>,\n",
       " <npc.Array shape=(2, 2, 1, 1) labels=['p', 'p*', 'vL', 'vR']>,\n",
       " <npc.Array shape=(1, 1, 2, 2) labels=['vR', 'vL', 'p', 'p*']>,\n",
       " <npc.Array shape=(1, 2, 2, 1) labels=['vL', 'p', 'p*', 'vR']>,\n",
       " <npc.Array shape=(2, 2, 1, 1) labels=['p', 'p*', 'vL', 'vR']>,\n",
       " <npc.Array shape=(1, 1, 2, 2) labels=['vR', 'vL', 'p', 'p*']>,\n",
       " <npc.Array shape=(1, 2, 2, 1) labels=['vL', 'p', 'p*', 'vR']>,\n",
       " <npc.Array shape=(2, 2, 1, 1) labels=['p', 'p*', 'vL', 'vR']>,\n",
       " <npc.Array shape=(1, 1, 2, 2) labels=['vR', 'vL', 'p', 'p*']>]"
      ]
     },
     "execution_count": 50,
     "metadata": {},
     "output_type": "execute_result"
    }
   ],
   "source": [
    "previous_mpo_w_tensors"
   ]
  },
  {
   "cell_type": "markdown",
   "id": "59f2a0e4-317b-40f9-9770-f742ceb0f6bc",
   "metadata": {},
   "source": [
    "## Check unitarity of w tensors"
   ]
  },
  {
   "cell_type": "code",
   "execution_count": 51,
   "id": "04d34302-dfb6-4bab-b97c-a8347332c035",
   "metadata": {},
   "outputs": [],
   "source": [
    "ws = [\n",
    "    w.replace_labels(['p', 'p*'], [f'p{i}', f'p{i}*'])\n",
    "    for i, w in enumerate(previous_mpo_w_tensors[:3])\n",
    "]"
   ]
  },
  {
   "cell_type": "code",
   "execution_count": 52,
   "id": "456618bc-d5a0-441c-936c-ad291759b999",
   "metadata": {},
   "outputs": [],
   "source": [
    "w = ws[0]\n",
    "w = npc.tensordot(w, ws[1], [['vR',], ['vL',]])\n",
    "w = npc.tensordot(w, ws[2], [['vR',], ['vL',]])\n",
    "w = w.take_slice([0,0], ['vL', 'vR'])\n",
    "w = w.combine_legs([['p0', 'p1', 'p2'], ['p0*', 'p1*', 'p2*']])"
   ]
  },
  {
   "cell_type": "code",
   "execution_count": 53,
   "id": "c06d42f0-c48f-4859-9c97-523e268cf13a",
   "metadata": {},
   "outputs": [
    {
     "data": {
      "text/plain": [
       "<npc.Array shape=(8, 8) labels=['(p0.p1.p2)', '(p0*.p1*.p2*)']>"
      ]
     },
     "execution_count": 53,
     "metadata": {},
     "output_type": "execute_result"
    }
   ],
   "source": [
    "w"
   ]
  },
  {
   "cell_type": "code",
   "execution_count": 54,
   "id": "34beefe3-0ea4-4a55-9279-7d92a5a35316",
   "metadata": {},
   "outputs": [],
   "source": [
    "w_i = npc.tensordot(w, w.conj(), [['(p0.p1.p2)',], ['(p0*.p1*.p2*)',]])"
   ]
  },
  {
   "cell_type": "code",
   "execution_count": 55,
   "id": "275a647b-f874-492e-a4ee-27f837aa1bcc",
   "metadata": {},
   "outputs": [
    {
     "data": {
      "text/plain": [
       "array([[ 1.00000000e+00+0.j,  3.18982219e-16+0.j, -2.90317022e-16+0.j,\n",
       "         1.44224647e-16+0.j,  8.11793686e-17+0.j,  6.59471110e-18+0.j,\n",
       "        -1.11564640e-16+0.j,  4.35970472e-16+0.j],\n",
       "       [ 3.18982219e-16+0.j,  1.00000000e+00+0.j,  2.43831738e-17+0.j,\n",
       "         3.52049689e-17+0.j,  4.98229949e-16+0.j,  7.54555764e-17+0.j,\n",
       "        -1.36656807e-16+0.j,  4.40658172e-16+0.j],\n",
       "       [-2.90317022e-16+0.j,  2.43831738e-17+0.j,  1.00000000e+00+0.j,\n",
       "         2.20784916e-16+0.j, -4.60753928e-17+0.j,  2.10714574e-16+0.j,\n",
       "        -2.29902849e-16+0.j,  2.99649562e-16+0.j],\n",
       "       [ 1.44224647e-16+0.j,  3.52049689e-17+0.j,  2.20784916e-16+0.j,\n",
       "         1.00000000e+00+0.j, -1.96296427e-17+0.j, -2.07531890e-16+0.j,\n",
       "        -5.45779731e-17+0.j, -3.63206138e-16+0.j],\n",
       "       [ 8.11793686e-17+0.j,  4.98229949e-16+0.j, -4.60753928e-17+0.j,\n",
       "        -1.96296427e-17+0.j,  1.00000000e+00+0.j,  2.40194730e-16+0.j,\n",
       "        -4.09978764e-17+0.j, -1.14292762e-16+0.j],\n",
       "       [ 6.59471110e-18+0.j,  7.54555764e-17+0.j,  2.10714574e-16+0.j,\n",
       "        -2.07531890e-16+0.j,  2.40194730e-16+0.j,  1.00000000e+00+0.j,\n",
       "         2.09381694e-17+0.j, -4.18179549e-16+0.j],\n",
       "       [-1.11564640e-16+0.j, -1.36656807e-16+0.j, -2.29902849e-16+0.j,\n",
       "        -5.45779731e-17+0.j, -4.09978764e-17+0.j,  2.09381694e-17+0.j,\n",
       "         1.00000000e+00+0.j,  7.10563991e-16+0.j],\n",
       "       [ 4.35970472e-16+0.j,  4.40658172e-16+0.j,  2.99649562e-16+0.j,\n",
       "        -3.63206138e-16+0.j, -1.14292762e-16+0.j, -4.18179549e-16+0.j,\n",
       "         7.10563991e-16+0.j,  1.00000000e+00+0.j]])"
      ]
     },
     "execution_count": 55,
     "metadata": {},
     "output_type": "execute_result"
    }
   ],
   "source": [
    "w_i.to_ndarray()"
   ]
  },
  {
   "cell_type": "markdown",
   "id": "fd3a972b-a79b-4461-9c77-b117fe6fcf09",
   "metadata": {},
   "source": [
    "Very close to identity."
   ]
  },
  {
   "cell_type": "code",
   "execution_count": 56,
   "id": "2148d5ad-9a11-40c7-9df0-2c3ddb37a63c",
   "metadata": {},
   "outputs": [
    {
     "data": {
      "text/plain": [
       "<npc.Array shape=(1, 2, 2, 4) labels=['vL', 'p0', 'p0*', 'vR']>"
      ]
     },
     "execution_count": 56,
     "metadata": {},
     "output_type": "execute_result"
    }
   ],
   "source": [
    "ws[0]"
   ]
  },
  {
   "cell_type": "code",
   "execution_count": 57,
   "id": "1c2c642a-d032-4f8b-882a-c9e6f542fc0e",
   "metadata": {},
   "outputs": [
    {
     "data": {
      "text/plain": [
       "array([[[ 7.02129812e-08+0.j, -2.60806677e-15+0.j, -2.34806169e-02+0.j,\n",
       "          1.88998325e-02+0.j],\n",
       "        [-1.99949756e+00+0.j,  3.31808322e-02+0.j, -2.15042947e-15+0.j,\n",
       "          6.63673277e-10+0.j]],\n",
       "\n",
       "       [[-1.99949756e+00+0.j, -3.31808322e-02+0.j,  2.14697245e-15+0.j,\n",
       "          6.63673764e-10+0.j],\n",
       "        [-7.02129810e-08+0.j, -3.47057729e-15+0.j, -2.34806169e-02+0.j,\n",
       "         -1.88998325e-02+0.j]]])"
      ]
     },
     "execution_count": 57,
     "metadata": {},
     "output_type": "execute_result"
    }
   ],
   "source": [
    "ws[0][0].to_ndarray()"
   ]
  },
  {
   "cell_type": "code",
   "execution_count": 58,
   "id": "a81792c5-80cc-4309-9c58-e0ddeec32c33",
   "metadata": {},
   "outputs": [],
   "source": [
    "w1_i = (\n",
    "    npc.tensordot(ws[0], ws[0].conj(), [['p0',], ['p0*']])\n",
    "    .take_slice([0,0], ['vL', 'vL*'])\n",
    ")"
   ]
  },
  {
   "cell_type": "code",
   "execution_count": 59,
   "id": "50e37d0c-b635-4e02-9b9c-e66b35395d0f",
   "metadata": {},
   "outputs": [
    {
     "data": {
      "text/plain": [
       "<npc.Array shape=(2, 4, 2, 4) labels=['p0*', 'vR', 'p0', 'vR*']>"
      ]
     },
     "execution_count": 59,
     "metadata": {},
     "output_type": "execute_result"
    }
   ],
   "source": [
    "w1_i"
   ]
  },
  {
   "cell_type": "code",
   "execution_count": 60,
   "id": "d825c7b7-8b92-44f5-8395-e41fd2a6d0fb",
   "metadata": {},
   "outputs": [
    {
     "data": {
      "text/plain": [
       "array([[ 3.99799049e+00+0.j, -4.56798480e-16+0.j],\n",
       "       [-4.56798480e-16+0.j,  3.99799049e+00+0.j]])"
      ]
     },
     "execution_count": 60,
     "metadata": {},
     "output_type": "execute_result"
    }
   ],
   "source": [
    "w1_i.to_ndarray()[:, 0, :, 0]"
   ]
  },
  {
   "cell_type": "code",
   "execution_count": 61,
   "id": "75338a34-4621-40b1-a772-480b2c23cca9",
   "metadata": {},
   "outputs": [
    {
     "data": {
      "text/plain": [
       "array([[ 6.63449930e-02+0.j,  2.32973035e-09+0.j],\n",
       "       [ 2.32973209e-09+0.j, -6.63449930e-02+0.j]])"
      ]
     },
     "execution_count": 61,
     "metadata": {},
     "output_type": "execute_result"
    }
   ],
   "source": [
    "w1_i.to_ndarray()[:, 1, :, 0]"
   ]
  },
  {
   "cell_type": "code",
   "execution_count": 62,
   "id": "aa427b4b-aca4-4dc5-8cc9-53247fe23c0b",
   "metadata": {},
   "outputs": [
    {
     "data": {
      "text/plain": [
       "array([[ 6.63449930e-02+0.j,  2.32973209e-09+0.j],\n",
       "       [ 2.32973035e-09+0.j, -6.63449930e-02+0.j]])"
      ]
     },
     "execution_count": 62,
     "metadata": {},
     "output_type": "execute_result"
    }
   ],
   "source": [
    "w1_i.to_ndarray()[:, 0, :, 1]"
   ]
  },
  {
   "cell_type": "code",
   "execution_count": 63,
   "id": "edd45f83-bfa8-431d-9a01-1023903ca49c",
   "metadata": {},
   "outputs": [
    {
     "data": {
      "text/plain": [
       "array([[1.10096762e-03+0.j, 2.86188171e-17+0.j],\n",
       "       [2.86188171e-17+0.j, 1.10096762e-03+0.j]])"
      ]
     },
     "execution_count": 63,
     "metadata": {},
     "output_type": "execute_result"
    }
   ],
   "source": [
    "w1_i.to_ndarray()[:, 1, :, 1]"
   ]
  },
  {
   "cell_type": "code",
   "execution_count": 64,
   "id": "b7f882fe-6418-440c-8c83-7ec11739b040",
   "metadata": {},
   "outputs": [
    {
     "data": {
      "text/plain": [
       "array([[-9.99931593e-18+0.j,  7.79106409e-04+0.j],\n",
       "       [-7.79106409e-04+0.j,  1.01382565e-17+0.j]])"
      ]
     },
     "execution_count": 64,
     "metadata": {},
     "output_type": "execute_result"
    }
   ],
   "source": [
    "w1_i.to_ndarray()[:, 1, :, 2]"
   ]
  },
  {
   "cell_type": "code",
   "execution_count": 65,
   "id": "e2c3ec5d-807c-46e0-bdb3-f99cfcb65c64",
   "metadata": {},
   "outputs": [],
   "source": [
    "w2_i = (\n",
    "    npc.tensordot(ws[1], ws[1].conj(), [['p1',], ['p1*']])\n",
    ")"
   ]
  },
  {
   "cell_type": "code",
   "execution_count": 66,
   "id": "96e75102-5338-4449-a2e9-9166b54631c1",
   "metadata": {},
   "outputs": [
    {
     "data": {
      "text/plain": [
       "<npc.Array shape=(2, 4, 4, 2, 4, 4) labels=['p1*', 'vL', 'vR', 'p1', 'vL*', 'vR*']>"
      ]
     },
     "execution_count": 66,
     "metadata": {},
     "output_type": "execute_result"
    }
   ],
   "source": [
    "w2_i"
   ]
  },
  {
   "cell_type": "code",
   "execution_count": 67,
   "id": "649c5c75-8718-4f2f-9277-36f9d801ad81",
   "metadata": {},
   "outputs": [
    {
     "data": {
      "text/plain": [
       "array([[ 3.18909934e-01+0.j, -9.63090243e-08+0.j],\n",
       "       [-9.63090243e-08+0.j,  3.18914770e-01+0.j]])"
      ]
     },
     "execution_count": 67,
     "metadata": {},
     "output_type": "execute_result"
    }
   ],
   "source": [
    "w2_i.to_ndarray()[:, 0, 0, :, 0, 0]"
   ]
  },
  {
   "cell_type": "code",
   "execution_count": 68,
   "id": "f5f4de6f-c7ae-4054-ba44-37f7d58d1f80",
   "metadata": {},
   "outputs": [
    {
     "data": {
      "text/plain": [
       "array([[ 4.50398550e-08+0.j, -1.13064305e-06+0.j],\n",
       "       [-1.13063442e-06+0.j, -4.50398547e-08+0.j]])"
      ]
     },
     "execution_count": 68,
     "metadata": {},
     "output_type": "execute_result"
    }
   ],
   "source": [
    "w2_i.to_ndarray()[:, 1, 0, :, 0, 0]"
   ]
  },
  {
   "cell_type": "code",
   "execution_count": 69,
   "id": "b9c41b5d-13b5-4397-9016-d09327e4dd6d",
   "metadata": {},
   "outputs": [
    {
     "data": {
      "text/plain": [
       "array([[ 2.99634157e-09+0.j, -7.52176750e-08+0.j],\n",
       "       [-7.52171038e-08+0.j, -2.99634230e-09+0.j]])"
      ]
     },
     "execution_count": 69,
     "metadata": {},
     "output_type": "execute_result"
    }
   ],
   "source": [
    "w2_i.to_ndarray()[:, 0, 1, :, 0, 0]"
   ]
  },
  {
   "cell_type": "code",
   "execution_count": 70,
   "id": "2b0de9f0-e1a7-40cf-81a7-b6a64daad556",
   "metadata": {},
   "outputs": [
    {
     "data": {
      "text/plain": [
       "array([[ 4.50398550e-08+0.j, -1.13063442e-06+0.j],\n",
       "       [-1.13064305e-06+0.j, -4.50398547e-08+0.j]])"
      ]
     },
     "execution_count": 70,
     "metadata": {},
     "output_type": "execute_result"
    }
   ],
   "source": [
    "w2_i.to_ndarray()[:, 0, 0, :, 1, 0]"
   ]
  },
  {
   "cell_type": "code",
   "execution_count": 71,
   "id": "a7ba4fff-f878-4088-b26a-2c0c6c0c5abe",
   "metadata": {},
   "outputs": [
    {
     "data": {
      "text/plain": [
       "array([[ 2.99634157e-09+0.j, -7.52171038e-08+0.j],\n",
       "       [-7.52176750e-08+0.j, -2.99634230e-09+0.j]])"
      ]
     },
     "execution_count": 71,
     "metadata": {},
     "output_type": "execute_result"
    }
   ],
   "source": [
    "w2_i.to_ndarray()[:, 0, 0, :, 0, 1]"
   ]
  },
  {
   "cell_type": "code",
   "execution_count": 72,
   "id": "0f7396fc-3c4f-40c4-be04-4dd4f0714d22",
   "metadata": {},
   "outputs": [
    {
     "data": {
      "text/plain": [
       "array([[-0.00465002+0.j, -0.31895798+0.j],\n",
       "       [ 0.31895268+0.j, -0.00457781+0.j]])"
      ]
     },
     "execution_count": 72,
     "metadata": {},
     "output_type": "execute_result"
    }
   ],
   "source": [
    "w2_i.to_ndarray()[:, 2, 0, :, 0, 0]"
   ]
  },
  {
   "cell_type": "code",
   "execution_count": 73,
   "id": "825a9c57-b5c1-4f75-a976-6485e4e71ac8",
   "metadata": {},
   "outputs": [
    {
     "data": {
      "text/plain": [
       "array([[ 1.35644040e-04+0.j,  1.85128320e-06+0.j],\n",
       "       [-1.85120384e-06+0.j,  1.35642400e-04+0.j]])"
      ]
     },
     "execution_count": 73,
     "metadata": {},
     "output_type": "execute_result"
    }
   ],
   "source": [
    "w2_i.to_ndarray()[:, 0, 2, :, 0, 0]"
   ]
  },
  {
   "cell_type": "code",
   "execution_count": 74,
   "id": "dd788a58-1f5c-41dc-bbea-c71b926ee4ee",
   "metadata": {},
   "outputs": [
    {
     "data": {
      "text/plain": [
       "array([[-0.00465002+0.j,  0.31895268+0.j],\n",
       "       [-0.31895798+0.j, -0.00457781+0.j]])"
      ]
     },
     "execution_count": 74,
     "metadata": {},
     "output_type": "execute_result"
    }
   ],
   "source": [
    "w2_i.to_ndarray()[:, 0, 0, :, 2, 0]"
   ]
  },
  {
   "cell_type": "code",
   "execution_count": 75,
   "id": "b23cac3e-1fb7-4f1e-818e-eb6393427fba",
   "metadata": {},
   "outputs": [
    {
     "data": {
      "text/plain": [
       "array([[ 1.35644040e-04+0.j, -1.85120384e-06+0.j],\n",
       "       [ 1.85128320e-06+0.j,  1.35642400e-04+0.j]])"
      ]
     },
     "execution_count": 75,
     "metadata": {},
     "output_type": "execute_result"
    }
   ],
   "source": [
    "w2_i.to_ndarray()[:, 0, 0, :, 0, 2]"
   ]
  },
  {
   "cell_type": "code",
   "execution_count": 76,
   "id": "875ab9ca-d8bc-4f60-bd26-b6675648d392",
   "metadata": {},
   "outputs": [],
   "source": [
    "w2_tm = (\n",
    "    npc.tensordot(ws[1], ws[1].conj(), [['p1', 'p1*'], ['p1*', 'p1']])\n",
    "    .combine_legs([['vR*', 'vR'], ['vL', 'vL*']])\n",
    ")"
   ]
  },
  {
   "cell_type": "code",
   "execution_count": 77,
   "id": "25e6ba41-a1e1-44c8-a0fc-27e601ccec0a",
   "metadata": {},
   "outputs": [
    {
     "data": {
      "text/plain": [
       "<npc.Array shape=(16, 16) labels=['(vL.vL*)', '(vR*.vR)']>"
      ]
     },
     "execution_count": 77,
     "metadata": {},
     "output_type": "execute_result"
    }
   ],
   "source": [
    "w2_tm"
   ]
  },
  {
   "cell_type": "code",
   "execution_count": 78,
   "id": "c264fedf-c4c0-432d-a7f9-97e339c01b93",
   "metadata": {},
   "outputs": [],
   "source": [
    "U, S, VH = npc.svd(w2_tm, compute_uv=True)"
   ]
  },
  {
   "cell_type": "code",
   "execution_count": 79,
   "id": "244df756-3bd7-47fb-bafb-60f59bb10b16",
   "metadata": {},
   "outputs": [
    {
     "data": {
      "text/plain": [
       "array([1.03738866e+00, 1.00000714e+00, 9.99818117e-01, 9.99572604e-01,\n",
       "       9.99412642e-01, 9.61155964e-01, 1.92041454e-02, 1.77929251e-02,\n",
       "       1.49726103e-02, 1.49726103e-02, 3.70738061e-03, 3.70738001e-03,\n",
       "       4.17263260e-04, 4.17263165e-04, 1.94802508e-04, 1.94802430e-04])"
      ]
     },
     "execution_count": 79,
     "metadata": {},
     "output_type": "execute_result"
    }
   ],
   "source": [
    "S"
   ]
  },
  {
   "cell_type": "code",
   "execution_count": 80,
   "id": "9f9867e7-17b0-432e-bbeb-4ecaa5592b30",
   "metadata": {},
   "outputs": [],
   "source": [
    "W, V = npc.eig(w2_tm)"
   ]
  },
  {
   "cell_type": "code",
   "execution_count": 81,
   "id": "da015aef-85b9-41ea-a737-3e18ca4b4cba",
   "metadata": {},
   "outputs": [
    {
     "data": {
      "text/plain": [
       "array([ 1.00000000e+00+3.06541224e-18j,  9.99774557e-01-2.38140666e-18j,\n",
       "       -3.60415487e-01-1.06126690e-17j, -5.47491007e-02-7.41864707e-18j,\n",
       "        2.64458449e-02-4.42639145e-02j,  2.64458449e-02+4.42639145e-02j,\n",
       "        1.81077981e-02+8.67361738e-18j, -2.98914579e-03+1.83308611e-02j,\n",
       "       -2.98914579e-03-1.83308611e-02j,  2.98847857e-03+1.83276602e-02j,\n",
       "       -1.81068190e-02-1.46090762e-18j,  2.98847857e-03-1.83276602e-02j,\n",
       "        2.44181993e-04-3.66394808e-19j, -7.62378431e-03+0.00000000e+00j,\n",
       "        7.44434502e-03+0.00000000e+00j,  2.44376556e-04+0.00000000e+00j])"
      ]
     },
     "execution_count": 81,
     "metadata": {},
     "output_type": "execute_result"
    }
   ],
   "source": [
    "W"
   ]
  },
  {
   "cell_type": "code",
   "execution_count": 82,
   "id": "1e3e55b7-2173-4929-ba7d-238adcd54315",
   "metadata": {},
   "outputs": [
    {
     "data": {
      "text/plain": [
       "array([[ 0.5  +0.j   , -0.358+0.j   , -0.323-0.j   , -0.453-0.j   ,\n",
       "        -0.473+0.015j, -0.473-0.015j,  0.   +0.j   ,  0.   +0.j   ,\n",
       "         0.   -0.j   ,  0.   +0.j   ,  0.   -0.j   ,  0.   -0.j   ,\n",
       "        -0.004-0.j   ,  0.   +0.j   , -0.   -0.j   , -0.   +0.j   ],\n",
       "       [ 0.   -0.j   ,  0.   +0.j   ,  0.   -0.j   ,  0.   -0.j   ,\n",
       "         0.   +0.j   ,  0.   -0.j   ,  0.584-0.j   ,  0.159+0.195j,\n",
       "         0.159-0.195j, -0.159+0.195j,  0.584+0.j   , -0.159-0.195j,\n",
       "         0.   +0.j   , -0.   +0.j   ,  0.   +0.j   ,  0.   -0.j   ],\n",
       "       [-0.   -0.j   ,  0.   -0.j   , -0.031-0.j   , -0.214+0.j   ,\n",
       "         0.125+0.196j,  0.125-0.196j, -0.   -0.j   , -0.   +0.j   ,\n",
       "        -0.   -0.j   , -0.   +0.j   ,  0.   -0.j   , -0.   -0.j   ,\n",
       "         0.426-0.j   , -0.657+0.j   ,  0.659+0.j   ,  0.426+0.j   ],\n",
       "       [ 0.   -0.j   , -0.   -0.j   , -0.   -0.j   , -0.011-0.j   ,\n",
       "         0.006-0.012j,  0.006+0.012j, -0.   -0.j   ,  0.   -0.j   ,\n",
       "         0.   +0.j   ,  0.   +0.j   , -0.   -0.j   ,  0.   -0.j   ,\n",
       "        -0.   -0.j   ,  0.261-0.j   ,  0.256-0.j   ,  0.006+0.j   ],\n",
       "       [ 0.   -0.j   ,  0.   -0.j   ,  0.   -0.j   ,  0.   -0.j   ,\n",
       "         0.   +0.j   ,  0.   -0.j   ,  0.584+0.j   ,  0.159+0.195j,\n",
       "         0.159-0.195j,  0.159-0.195j, -0.584+0.j   ,  0.159+0.195j,\n",
       "         0.   +0.j   ,  0.   -0.j   , -0.   -0.j   , -0.   +0.j   ],\n",
       "       [ 0.5  -0.j   ,  0.785+0.j   ,  0.   +0.j   ,  0.   +0.j   ,\n",
       "        -0.   +0.j   , -0.   -0.j   ,  0.   -0.j   ,  0.   +0.j   ,\n",
       "         0.   -0.j   ,  0.   -0.j   , -0.   -0.j   ,  0.   +0.j   ,\n",
       "        -0.   +0.j   , -0.   -0.j   , -0.   -0.j   , -0.   +0.j   ],\n",
       "       [ 0.   +0.j   , -0.   +0.j   , -0.   -0.j   , -0.   -0.j   ,\n",
       "         0.   +0.j   ,  0.   -0.j   , -0.007+0.j   , -0.002+0.012j,\n",
       "        -0.002-0.012j, -0.002-0.012j,  0.007+0.j   , -0.002+0.012j,\n",
       "         0.   -0.j   ,  0.   +0.j   ,  0.   -0.j   ,  0.   +0.j   ],\n",
       "       [ 0.   +0.j   , -0.   +0.j   ,  0.   +0.j   ,  0.   +0.j   ,\n",
       "        -0.   +0.j   , -0.   -0.j   , -0.399+0.j   ,  0.661+0.j   ,\n",
       "         0.661+0.j   ,  0.661+0.j   ,  0.399-0.j   ,  0.661+0.j   ,\n",
       "         0.   +0.j   ,  0.   +0.j   , -0.   -0.j   , -0.   +0.j   ],\n",
       "       [-0.   +0.j   ,  0.   +0.j   , -0.031+0.j   , -0.214+0.j   ,\n",
       "         0.125+0.196j,  0.125-0.196j, -0.   -0.j   , -0.   +0.j   ,\n",
       "        -0.   -0.j   ,  0.   -0.j   , -0.   -0.j   ,  0.   +0.j   ,\n",
       "         0.426-0.j   ,  0.657+0.j   , -0.659+0.j   , -0.426-0.j   ],\n",
       "       [ 0.   +0.j   , -0.   +0.j   , -0.   -0.j   , -0.   -0.j   ,\n",
       "         0.   +0.j   ,  0.   -0.j   , -0.007-0.j   , -0.002+0.012j,\n",
       "        -0.002-0.012j,  0.002+0.012j, -0.007+0.j   ,  0.002-0.012j,\n",
       "         0.   +0.j   , -0.   +0.j   , -0.   +0.j   , -0.   -0.j   ],\n",
       "       [ 0.5  +0.j   , -0.358+0.j   , -0.321-0.j   , -0.046-0.j   ,\n",
       "         0.022-0.036j,  0.022+0.036j, -0.   -0.j   ,  0.   -0.j   ,\n",
       "         0.   +0.j   ,  0.   -0.j   , -0.   -0.j   ,  0.   +0.j   ,\n",
       "         0.   -0.j   ,  0.   +0.j   ,  0.   +0.j   ,  0.   -0.j   ],\n",
       "       [ 0.   +0.j   , -0.   +0.j   ,  0.   +0.j   ,  0.001-0.j   ,\n",
       "        -0.   +0.001j, -0.   -0.001j, -0.   -0.j   , -0.   +0.j   ,\n",
       "        -0.   -0.j   ,  0.   +0.j   , -0.   -0.j   ,  0.   -0.j   ,\n",
       "         0.564+0.j   , -0.018+0.j   , -0.019+0.j   , -0.564-0.j   ],\n",
       "       [ 0.   -0.j   , -0.   -0.j   , -0.   -0.j   , -0.011-0.j   ,\n",
       "         0.006-0.012j,  0.006+0.012j, -0.   -0.j   ,  0.   -0.j   ,\n",
       "         0.   +0.j   , -0.   -0.j   ,  0.   -0.j   , -0.   +0.j   ,\n",
       "        -0.   -0.j   , -0.261+0.j   , -0.256+0.j   , -0.006-0.j   ],\n",
       "       [ 0.   +0.j   , -0.   +0.j   ,  0.   +0.j   ,  0.   +0.j   ,\n",
       "        -0.   +0.j   , -0.   -0.j   , -0.399+0.j   ,  0.661+0.j   ,\n",
       "         0.661+0.j   , -0.661+0.j   , -0.399+0.j   , -0.661-0.j   ,\n",
       "         0.   -0.j   , -0.   -0.j   ,  0.   +0.j   ,  0.   +0.j   ],\n",
       "       [ 0.   +0.j   , -0.   +0.j   ,  0.   +0.j   ,  0.001+0.j   ,\n",
       "        -0.   +0.001j, -0.   -0.001j, -0.   -0.j   , -0.   +0.j   ,\n",
       "        -0.   -0.j   , -0.   -0.j   ,  0.   -0.j   , -0.   +0.j   ,\n",
       "         0.564+0.j   ,  0.018+0.j   ,  0.019+0.j   ,  0.564+0.j   ],\n",
       "       [ 0.5  +0.j   , -0.357+0.j   ,  0.889+0.j   ,  0.837+0.j   ,\n",
       "         0.816+0.j   ,  0.816+0.j   , -0.   -0.j   , -0.   -0.j   ,\n",
       "        -0.   +0.j   , -0.   -0.j   , -0.   +0.j   , -0.   +0.j   ,\n",
       "         0.008+0.j   , -0.   -0.j   ,  0.   +0.j   ,  0.   -0.j   ]])"
      ]
     },
     "execution_count": 82,
     "metadata": {},
     "output_type": "execute_result"
    }
   ],
   "source": [
    "np.round(V.to_ndarray(), 3)"
   ]
  },
  {
   "cell_type": "markdown",
   "id": "291ba34d-3797-44dc-a6c2-9cc887381f23",
   "metadata": {},
   "source": [
    "## Check schmidt values between transfer matrix tensors."
   ]
  },
  {
   "cell_type": "code",
   "execution_count": 83,
   "id": "963aa301-73f3-4516-93b6-0e2675e74b5b",
   "metadata": {},
   "outputs": [],
   "source": [
    "tms = [\n",
    "    npc.tensordot(w, w.conj(), [[f'p{i}',], [f'p{i}*',]])\n",
    "    for i, w in enumerate(ws)\n",
    "]"
   ]
  },
  {
   "cell_type": "code",
   "execution_count": 84,
   "id": "3978b2a3-5fa2-4620-b2ef-e6e07f93b2b0",
   "metadata": {},
   "outputs": [],
   "source": [
    "tm_12 = (\n",
    "    npc.tensordot(tms[0], tms[1], [['vR', 'vR*'], ['vL', 'vL*']])\n",
    "    .combine_legs([\n",
    "        ['vL', 'vL*', 'p0', 'p0*'],\n",
    "        ['vR', 'vR*', 'p1', 'p1*']\n",
    "    ])\n",
    ")"
   ]
  },
  {
   "cell_type": "code",
   "execution_count": 85,
   "id": "33b70cc1-e4d4-4745-b6e6-4c9e9fa8af4c",
   "metadata": {},
   "outputs": [
    {
     "data": {
      "text/plain": [
       "<npc.Array shape=(4, 64) labels=['(vL.vL*.p0.p0*)', '(vR.vR*.p1.p1*)']>"
      ]
     },
     "execution_count": 85,
     "metadata": {},
     "output_type": "execute_result"
    }
   ],
   "source": [
    "tm_12"
   ]
  },
  {
   "cell_type": "code",
   "execution_count": 86,
   "id": "4af38a15-ad62-485a-b7a3-de467765b1d8",
   "metadata": {},
   "outputs": [],
   "source": [
    "U, S, VH = npc.svd(tm_12, compute_uv=True, inner_labels=['i', 'i*'])"
   ]
  },
  {
   "cell_type": "code",
   "execution_count": 87,
   "id": "959f7cbd-9813-41e0-b486-899c458d7a5d",
   "metadata": {},
   "outputs": [
    {
     "data": {
      "text/plain": [
       "array([3.9980327 , 0.09382874, 0.06382358, 0.05345356])"
      ]
     },
     "execution_count": 87,
     "metadata": {},
     "output_type": "execute_result"
    }
   ],
   "source": [
    "S"
   ]
  },
  {
   "cell_type": "code",
   "execution_count": 88,
   "id": "0262855a-b9f5-4cdf-ab19-f07d94674b20",
   "metadata": {},
   "outputs": [
    {
     "data": {
      "text/plain": [
       "0.9498458225926052"
      ]
     },
     "execution_count": 88,
     "metadata": {},
     "output_type": "execute_result"
    }
   ],
   "source": [
    "S[0]/np.sum(S)"
   ]
  },
  {
   "cell_type": "code",
   "execution_count": 89,
   "id": "d085bd31-1bb2-4a52-bfd0-cd3f89146deb",
   "metadata": {},
   "outputs": [
    {
     "data": {
      "text/plain": [
       "<npc.Array shape=(4,) labels=['(vL.vL*.p0.p0*)']>"
      ]
     },
     "execution_count": 89,
     "metadata": {},
     "output_type": "execute_result"
    }
   ],
   "source": [
    "U[:,0]"
   ]
  },
  {
   "cell_type": "code",
   "execution_count": 90,
   "id": "defe9d59-8efe-4739-94a8-9315c519cbca",
   "metadata": {},
   "outputs": [],
   "source": [
    "left_unitary = U[:,0].split_legs()"
   ]
  },
  {
   "cell_type": "code",
   "execution_count": 91,
   "id": "5f5fa5e7-9715-4cd8-8273-b0df969b2458",
   "metadata": {},
   "outputs": [
    {
     "data": {
      "text/plain": [
       "<npc.Array shape=(1, 1, 2, 2) labels=['vL', 'vL*', 'p0', 'p0*']>"
      ]
     },
     "execution_count": 91,
     "metadata": {},
     "output_type": "execute_result"
    }
   ],
   "source": [
    "left_unitary"
   ]
  },
  {
   "cell_type": "code",
   "execution_count": 92,
   "id": "d6a5f692-00a2-436c-9c7e-254ff6732a5c",
   "metadata": {},
   "outputs": [],
   "source": [
    "left_unitary = left_unitary[0,0]"
   ]
  },
  {
   "cell_type": "code",
   "execution_count": 93,
   "id": "e0950e08-133c-436c-b348-1a3850d5129c",
   "metadata": {},
   "outputs": [
    {
     "data": {
      "text/plain": [
       "<npc.Array shape=(2, 2) labels=['p0', 'p0*']>"
      ]
     },
     "execution_count": 93,
     "metadata": {},
     "output_type": "execute_result"
    }
   ],
   "source": [
    "left_unitary"
   ]
  },
  {
   "cell_type": "code",
   "execution_count": 94,
   "id": "48dd865b-bc2c-4edc-950e-8831101cd27c",
   "metadata": {},
   "outputs": [
    {
     "data": {
      "text/plain": [
       "array([[-7.07106781e-01+0.j,  8.08067120e-17+0.j],\n",
       "       [ 8.09098057e-17+0.j, -7.07106781e-01+0.j]])"
      ]
     },
     "execution_count": 94,
     "metadata": {},
     "output_type": "execute_result"
    }
   ],
   "source": [
    "left_unitary.to_ndarray()"
   ]
  },
  {
   "cell_type": "code",
   "execution_count": 95,
   "id": "5c8e634b-732f-470f-8e57-1bdc50a7c4da",
   "metadata": {},
   "outputs": [
    {
     "data": {
      "text/plain": [
       "0.7071067811865475"
      ]
     },
     "execution_count": 95,
     "metadata": {},
     "output_type": "execute_result"
    }
   ],
   "source": [
    "1/np.sqrt(2)"
   ]
  },
  {
   "cell_type": "code",
   "execution_count": 96,
   "id": "132f2252-feff-41f3-8727-5de67717f478",
   "metadata": {},
   "outputs": [
    {
     "data": {
      "text/plain": [
       "[<npc.Array shape=(1, 2, 4, 1, 2, 4) labels=['vL', 'p0*', 'vR', 'vL*', 'p0', 'vR*']>,\n",
       " <npc.Array shape=(2, 4, 4, 2, 4, 4) labels=['p1*', 'vL', 'vR', 'p1', 'vL*', 'vR*']>,\n",
       " <npc.Array shape=(1, 4, 2, 1, 4, 2) labels=['vR', 'vL', 'p2*', 'vR*', 'vL*', 'p2']>]"
      ]
     },
     "execution_count": 96,
     "metadata": {},
     "output_type": "execute_result"
    }
   ],
   "source": [
    "tms"
   ]
  },
  {
   "cell_type": "markdown",
   "id": "4247aa13-4511-47ef-9876-5e3138bf3bdd",
   "metadata": {},
   "source": [
    "## Groups of groups of legs in tenpy"
   ]
  },
  {
   "cell_type": "code",
   "execution_count": 97,
   "id": "1980eecd-e290-4b40-ae28-be5abc220cc9",
   "metadata": {},
   "outputs": [],
   "source": [
    "from functools import reduce"
   ]
  },
  {
   "cell_type": "code",
   "execution_count": 98,
   "id": "e23f8a1b-1036-4258-9102-7f503660b6f7",
   "metadata": {},
   "outputs": [],
   "source": [
    "def tm_multiply(tm1, tm2):\n",
    "    return npc.tensordot(tm1, tm2, [['vR', 'vR*'], ['vL', 'vL*']])"
   ]
  },
  {
   "cell_type": "code",
   "execution_count": 99,
   "id": "648efb33-42e3-4e33-8b50-8ed9cc36ca37",
   "metadata": {},
   "outputs": [],
   "source": [
    "overall_tm = reduce(tm_multiply, tms)"
   ]
  },
  {
   "cell_type": "code",
   "execution_count": 100,
   "id": "ce664d66-59d6-41cf-ae7a-44e9ae7961a8",
   "metadata": {},
   "outputs": [
    {
     "data": {
      "text/plain": [
       "<npc.Array shape=(1, 2, 1, 2, 2, 2, 1, 2, 1, 2) labels=['vL', 'p0*', 'vL*', 'p0', 'p1*', 'p1', 'vR', 'p2*', 'vR*', 'p2']>"
      ]
     },
     "execution_count": 100,
     "metadata": {},
     "output_type": "execute_result"
    }
   ],
   "source": [
    "overall_tm"
   ]
  },
  {
   "cell_type": "code",
   "execution_count": 101,
   "id": "ab0fa280-bbc7-4617-9603-e1c54d654777",
   "metadata": {},
   "outputs": [],
   "source": [
    "grouped_overall_tm = (\n",
    "    overall_tm\n",
    "    .combine_legs([['p0', 'p1', 'p2'], ['p0*', 'p1*', 'p2*']])\n",
    ")"
   ]
  },
  {
   "cell_type": "code",
   "execution_count": 102,
   "id": "a18fb112-ded1-40b2-8dcd-73f8f08621f5",
   "metadata": {},
   "outputs": [
    {
     "data": {
      "text/plain": [
       "<npc.Array shape=(1, 8, 1, 8, 1, 1) labels=['vL', '(p0*.p1*.p2*)', 'vL*', '(p0.p1.p2)', 'vR', 'vR*']>"
      ]
     },
     "execution_count": 102,
     "metadata": {},
     "output_type": "execute_result"
    }
   ],
   "source": [
    "grouped_overall_tm"
   ]
  },
  {
   "cell_type": "code",
   "execution_count": 103,
   "id": "0e22efd8-d725-4220-aaa7-374cb4a28a47",
   "metadata": {},
   "outputs": [],
   "source": [
    "nested_grouped_overall_tm = (\n",
    "    grouped_overall_tm\n",
    "    .combine_legs(['(p0*.p1*.p2*)', '(p0.p1.p2)'])\n",
    ")"
   ]
  },
  {
   "cell_type": "code",
   "execution_count": 104,
   "id": "90b1270b-eebf-41b8-9040-5fc8741ea35a",
   "metadata": {},
   "outputs": [
    {
     "data": {
      "text/plain": [
       "<npc.Array shape=(1, 8, 8, 1, 1, 1) labels=['vL', '(p0*.p1*.p2*)', '(p0.p1.p2)', 'vL*', 'vR', 'vR*']>"
      ]
     },
     "execution_count": 104,
     "metadata": {},
     "output_type": "execute_result"
    }
   ],
   "source": [
    "nested_grouped_overall_tm.split_legs()"
   ]
  },
  {
   "cell_type": "code",
   "execution_count": 105,
   "id": "401c2c3b-10c4-4f5a-834b-3660650c440e",
   "metadata": {},
   "outputs": [
    {
     "data": {
      "text/plain": [
       "<npc.Array shape=(1, 2, 2, 2, 2, 2, 2, 1, 1, 1) labels=['vL', 'p0*', 'p1*', 'p2*', 'p0', 'p1', 'p2', 'vL*', 'vR', 'vR*']>"
      ]
     },
     "execution_count": 105,
     "metadata": {},
     "output_type": "execute_result"
    }
   ],
   "source": [
    "nested_grouped_overall_tm.split_legs().split_legs()"
   ]
  },
  {
   "cell_type": "markdown",
   "id": "5e41c07e-c87f-444f-9b1b-26049b8751b5",
   "metadata": {},
   "source": [
    "Yuck"
   ]
  },
  {
   "cell_type": "markdown",
   "id": "c42b07cc-32be-44ea-b13b-872409424ac7",
   "metadata": {},
   "source": [
    "## Canonical form algorithm\n",
    "\n",
    "Adapted from https://github.com/tenpy/tenpy/blob/main/tenpy/networks/mps.py#L3808-L3925"
   ]
  },
  {
   "cell_type": "code",
   "execution_count": 106,
   "id": "33b7f661-a8d3-487d-89cf-0ea285c003be",
   "metadata": {},
   "outputs": [],
   "source": [
    "def get_physical_dim(tensor, p_label='p'):\n",
    "    index = tensor.get_leg_index(p_label)\n",
    "    dim = tensor.shape[index]\n",
    "    return dim"
   ]
  },
  {
   "cell_type": "code",
   "execution_count": 107,
   "id": "83322cf9-cf73-45b0-a835-3ea18e1661b4",
   "metadata": {},
   "outputs": [],
   "source": [
    "import math"
   ]
  },
  {
   "cell_type": "code",
   "execution_count": 108,
   "id": "67af6c42-94d3-4b63-b860-2ca3db3599b7",
   "metadata": {},
   "outputs": [],
   "source": [
    "def get_canonical_form_mpo_w_tensors(mpo_w_tensors):\n",
    "    \"\"\"\n",
    "    Function that takes in a sequence of w tensors reprenting an MPO and\n",
    "    brings into right canonical form.\n",
    "\n",
    "    Useful for comparison of MPOs as this representation is unique, so\n",
    "    comparison of MPOs can be performed tensor by tensor after this\n",
    "    normalisation.\n",
    "\n",
    "    Adapted from https://github.com/tenpy/tenpy/blob/main/tenpy/networks/mps.py#L3808-L3925\n",
    "\n",
    "    To-do:\n",
    "    * Implement cutoff?\n",
    "    * Implement max virtual bond dimension?\n",
    "    * To renormalise or not renormalise? Check later.\n",
    "    * Implement appropriate cutoff (tricky to scale though).\n",
    "    \"\"\"\n",
    "\n",
    "    # Convert w tensors to having one \"p\" leg, like an MPS.\n",
    "    # (Is this even necessary?)\n",
    "    tensors = [\n",
    "        w.combine_legs(['p', 'p*'])\n",
    "        for w in mpo_w_tensors\n",
    "    ]\n",
    "\n",
    "    p_label = '(p.p*)'\n",
    "    \n",
    "\n",
    "    n=len(tensors)\n",
    "\n",
    "    # First perform QR decomposition in a left to right sweep.\n",
    "    # Q is orthonormal, so provides schmidt basis.\n",
    "    # Multiply R into the next tensor.\n",
    "    t = tensors[0]\n",
    "    t = t.combine_legs(['vL', p_label])\n",
    "\n",
    "    Q, R = npc.qr(t, inner_labels=['vR', 'vL'])\n",
    "    tensors[0] = Q.split_legs()\n",
    "\n",
    "    for i in range(1, n-1):\n",
    "        t = tensors[i]\n",
    "        t = (\n",
    "            npc\n",
    "            .tensordot(R, t, axes=['vR', 'vL'])\n",
    "            .combine_legs(['vL', p_label])\n",
    "        )\n",
    "\n",
    "        Q, R = npc.qr(t, inner_labels=['vR', 'vL'])\n",
    "        \n",
    "        tensors[i] = Q.split_legs()\n",
    "\n",
    "    # Now perform SVD reduction sweep from right to left.\n",
    "    t = tensors[-1]\n",
    "    # This is a bit of a hack. The normalisation for MPS (norm 1) is different\n",
    "    # than for an MPO (for an identity, want all 1's on the appropriate\n",
    "    # diagonal). Use the following factors to rescale accordingly.\n",
    "    dim = get_physical_dim(t, p_label)\n",
    "    rescale = math.pow(dim, 1/4)\n",
    "    t = (\n",
    "        npc\n",
    "        .tensordot(R, t, axes=['vR', 'vL'])\n",
    "        .combine_legs(['vR', p_label], qconj=-1)\n",
    "    )\n",
    "\n",
    "    singular_vals = list()\n",
    "    U, S, V = npc.svd(t, inner_labels=['vR', 'vL'], cutoff=0.01)\n",
    "    V *= rescale\n",
    "    U /= rescale\n",
    "\n",
    "    tensors[-1] = V.split_legs()\n",
    "    singular_vals.append(S)\n",
    "    \n",
    "    for i in range(n - 2, -1, -1):\n",
    "        t = tensors[i]\n",
    "        dim = get_physical_dim(t, p_label)\n",
    "        rescale = math.pow(dim, 1/4)\n",
    "        t = npc.tensordot(\n",
    "            t,\n",
    "            U.split_legs().scale_axis(S, 'vR'),\n",
    "            axes=['vR', 'vL']\n",
    "        )\n",
    "        t = t.combine_legs(['vR', p_label], qconj=-1)\n",
    "        U, S, V = npc.svd(t, inner_labels=['vR', 'vL'], cutoff=0.01)\n",
    "        V *= rescale\n",
    "        U /= rescale\n",
    "        #S = S / np.linalg.norm(S)  \n",
    "        tensors[i] = V.split_legs()\n",
    "        singular_vals.append(S)\n",
    "\n",
    "    # Absorb last singular value and U matrix into the first tensor.\n",
    "    # Both of these should be scalars.\n",
    "    tensors[0] *= U[0, 0]*S[0]\n",
    "    singular_vals[-1] /= S[0]\n",
    "    tensors = [t.split_legs(-1) for t in tensors]\n",
    "    singular_vals = singular_vals[::-1]\n",
    "\n",
    "    return tensors, singular_vals"
   ]
  },
  {
   "cell_type": "markdown",
   "id": "1dd3d812-d2e6-4a89-8766-04473a664549",
   "metadata": {},
   "source": [
    "Test function"
   ]
  },
  {
   "cell_type": "code",
   "execution_count": 109,
   "id": "a0fda10b-53d4-4435-9ded-f3f26f82c605",
   "metadata": {},
   "outputs": [],
   "source": [
    "def identity_w_from_unitary_mpo_w(w_tensor):\n",
    "    out_w = (\n",
    "        npc\n",
    "        .tensordot(w_tensor, w_tensor.conj(), [['p',], ['p*']])\n",
    "        .combine_legs([['vR', 'vR*'], ['vL', 'vL*']])\n",
    "        .replace_labels(['(vR.vR*)', '(vL.vL*)'], ['vR', 'vL'])\n",
    "    )\n",
    "\n",
    "    return out_w"
   ]
  },
  {
   "cell_type": "code",
   "execution_count": 110,
   "id": "0e24a601-15a6-4fce-a7cc-ba049874fa06",
   "metadata": {},
   "outputs": [],
   "source": [
    "identity_mpo_tensors = [\n",
    "    identity_w_from_unitary_mpo_w(w)\n",
    "    for w in previous_mpo_w_tensors\n",
    "]"
   ]
  },
  {
   "cell_type": "code",
   "execution_count": 111,
   "id": "4bae1b0b-c006-4d3c-96af-42655c7fd6dc",
   "metadata": {},
   "outputs": [],
   "source": [
    "new_previous_mpo_w_tensors, singular_vals = get_canonical_form_mpo_w_tensors(\n",
    "    identity_mpo_tensors\n",
    ")"
   ]
  },
  {
   "cell_type": "code",
   "execution_count": 112,
   "id": "9c174636-c72e-4267-8c94-18916eccffc3",
   "metadata": {},
   "outputs": [
    {
     "data": {
      "text/plain": [
       "[array([1.]),\n",
       " array([2.]),\n",
       " array([2.82842712]),\n",
       " array([4.]),\n",
       " array([5.65685425]),\n",
       " array([8.]),\n",
       " array([11.3137085]),\n",
       " array([16.]),\n",
       " array([22.627417]),\n",
       " array([32.]),\n",
       " array([45.254834]),\n",
       " array([64.]),\n",
       " array([90.50966799]),\n",
       " array([128.]),\n",
       " array([181.01933598])]"
      ]
     },
     "execution_count": 112,
     "metadata": {},
     "output_type": "execute_result"
    }
   ],
   "source": [
    "singular_vals"
   ]
  },
  {
   "cell_type": "code",
   "execution_count": 113,
   "id": "20578990-1c47-4701-8074-c24db2c64274",
   "metadata": {},
   "outputs": [
    {
     "data": {
      "text/plain": [
       "[<npc.Array shape=(1, 1, 2, 2) labels=['vL', 'vR', 'p', 'p*']>,\n",
       " <npc.Array shape=(1, 1, 2, 2) labels=['vL', 'vR', 'p', 'p*']>,\n",
       " <npc.Array shape=(1, 1, 2, 2) labels=['vL', 'vR', 'p', 'p*']>,\n",
       " <npc.Array shape=(1, 1, 2, 2) labels=['vL', 'vR', 'p', 'p*']>,\n",
       " <npc.Array shape=(1, 1, 2, 2) labels=['vL', 'vR', 'p', 'p*']>,\n",
       " <npc.Array shape=(1, 1, 2, 2) labels=['vL', 'vR', 'p', 'p*']>,\n",
       " <npc.Array shape=(1, 1, 2, 2) labels=['vL', 'vR', 'p', 'p*']>,\n",
       " <npc.Array shape=(1, 1, 2, 2) labels=['vL', 'vR', 'p', 'p*']>,\n",
       " <npc.Array shape=(1, 1, 2, 2) labels=['vL', 'vR', 'p', 'p*']>,\n",
       " <npc.Array shape=(1, 1, 2, 2) labels=['vL', 'vR', 'p', 'p*']>,\n",
       " <npc.Array shape=(1, 1, 2, 2) labels=['vL', 'vR', 'p', 'p*']>,\n",
       " <npc.Array shape=(1, 1, 2, 2) labels=['vL', 'vR', 'p', 'p*']>,\n",
       " <npc.Array shape=(1, 1, 2, 2) labels=['vL', 'vR', 'p', 'p*']>,\n",
       " <npc.Array shape=(1, 1, 2, 2) labels=['vL', 'vR', 'p', 'p*']>,\n",
       " <npc.Array shape=(1, 1, 2, 2) labels=['vL', 'vR', 'p', 'p*']>]"
      ]
     },
     "execution_count": 113,
     "metadata": {},
     "output_type": "execute_result"
    }
   ],
   "source": [
    "new_previous_mpo_w_tensors"
   ]
  },
  {
   "cell_type": "code",
   "execution_count": 114,
   "id": "c4e58c1c-0164-49c9-8e3e-35571f9d770f",
   "metadata": {},
   "outputs": [
    {
     "name": "stdout",
     "output_type": "stream",
     "text": [
      "[[ 1.00000000e+00-0.j -1.09130597e-16-0.j]\n",
      " [-1.09129356e-16-0.j  1.00000000e+00-0.j]]\n",
      "[[-1.00000000e+00+0.j  2.22044605e-16+0.j]\n",
      " [ 1.76278132e-16+0.j -1.00000000e+00+0.j]]\n",
      "[[-1.00000000e+00+0.j -4.44089210e-16+0.j]\n",
      " [-1.78859177e-16+0.j -1.00000000e+00+0.j]]\n",
      "[[-1.00000000e+00+0.j  5.96031245e-17+0.j]\n",
      " [ 1.98381003e-16+0.j -1.00000000e+00+0.j]]\n",
      "[[-1.00000000e+00+0.j  0.00000000e+00+0.j]\n",
      " [-1.38777878e-16+0.j -1.00000000e+00+0.j]]\n",
      "[[-1.00000000e+00+0.j -2.22044605e-16+0.j]\n",
      " [-1.12315685e-16+0.j -1.00000000e+00+0.j]]\n",
      "[[-1.00000000e+00+0.j  2.12996323e-17+0.j]\n",
      " [ 2.12996323e-17+0.j -1.00000000e+00+0.j]]\n",
      "[[-1.0000000e+00+0.j  2.3225941e-16+0.j]\n",
      " [ 2.3225941e-16+0.j -1.0000000e+00+0.j]]\n",
      "[[-1.00000000e+00+0.j  2.69047687e-16+0.j]\n",
      " [ 2.69047687e-16+0.j -1.00000000e+00+0.j]]\n",
      "[[-1.00000000e+00+0.j  5.79935533e-18+0.j]\n",
      " [ 5.79935533e-18+0.j -1.00000000e+00+0.j]]\n",
      "[[-1.00000000e+00+0.j  3.33442482e-16+0.j]\n",
      " [ 3.33442482e-16+0.j -1.00000000e+00+0.j]]\n",
      "[[-1.00000000e+00+0.j  1.58549293e-16+0.j]\n",
      " [ 1.58549293e-16+0.j -1.00000000e+00+0.j]]\n",
      "[[-1.00000000e+00+0.j -8.07220668e-17+0.j]\n",
      " [-8.07220668e-17+0.j -1.00000000e+00+0.j]]\n",
      "[[-1.0000000e+00+0.j -2.2884639e-16+0.j]\n",
      " [-2.2884639e-16+0.j -1.0000000e+00+0.j]]\n",
      "[[-1.00000000e+00+0.j -1.69117303e-16+0.j]\n",
      " [-1.69117303e-16+0.j -1.00000000e+00+0.j]]\n"
     ]
    }
   ],
   "source": [
    "for w in new_previous_mpo_w_tensors:\n",
    "    print(w[0,0].to_ndarray())"
   ]
  },
  {
   "cell_type": "code",
   "execution_count": 115,
   "id": "441a9365-f81b-4339-99ef-3e86cd10658b",
   "metadata": {},
   "outputs": [
    {
     "data": {
      "text/plain": [
       "15"
      ]
     },
     "execution_count": 115,
     "metadata": {},
     "output_type": "execute_result"
    }
   ],
   "source": [
    "len(new_previous_mpo_w_tensors)"
   ]
  },
  {
   "cell_type": "markdown",
   "id": "ac80f985-3617-457f-9878-235e4405ea22",
   "metadata": {},
   "source": [
    "## Unitarity score function"
   ]
  },
  {
   "cell_type": "code",
   "execution_count": 116,
   "id": "2fdf9fb5-b098-45a7-ae7f-a51a5c9e1df5",
   "metadata": {},
   "outputs": [],
   "source": [
    "def mpo_unitarity_score(mpo_tensors):\n",
    "    dims = [get_physical_dim(w, p_label='p') for w in mpo_tensors]\n",
    "\n",
    "    w = mpo_tensors[0].take_slice(0, 'vL')\n",
    "    dim = dim = get_physical_dim(w, p_label='p')\n",
    "\n",
    "    t1 = w\n",
    "    t1 = npc.tensordot(t1, w.conj(), [['p', 'p*'], ['p*', 'p']])\n",
    "    t1 /= dim\n",
    "\n",
    "    t2 = w\n",
    "    t2 = npc.tensordot(t2, w.conj(), [['p',], ['p*',]])\n",
    "    t2.ireplace_labels(['vR', 'vR*'], ['vR1', 'vR1*'])\n",
    "    t2 = npc.tensordot(t2, w, [['p',], ['p*',]])\n",
    "    t2 = npc.tensordot(t2, w.conj(), [['p', 'p*'], ['p*', 'p']])\n",
    "    t2 /= dim\n",
    "\n",
    "    for w in mpo_tensors[1:]:\n",
    "        dim = get_physical_dim(w, p_label='p')\n",
    "\n",
    "        t1 = npc.tensordot(t1, w, [['vR', ], ['vL']])\n",
    "        t1 = npc.tensordot(t1, w.conj(), [['vR*', 'p', 'p*'], ['vL*', 'p*', 'p']])\n",
    "        t1 /= dim\n",
    "\n",
    "        t2 = npc.tensordot(t2, w, [['vR', ], ['vL']])\n",
    "        t2 = npc.tensordot(t2, w.conj(), [['vR*', 'p',], ['vL*', 'p*',]])\n",
    "    \n",
    "        w = w.replace_label('vR', 'vR1')\n",
    "        t2 = npc.tensordot(t2, w, [['vR1', 'p'], ['vL', 'p*']])\n",
    "        t2 = npc.tensordot(t2, w.conj(), [['vR1*', 'p', 'p*'], ['vL*', 'p*', 'p']])\n",
    "        t2 /= dim\n",
    "\n",
    "    e1 = t1[0,0]\n",
    "    e2 = t2[0,0,0,0]\n",
    "\n",
    "    return e2 - 2*e1 +1"
   ]
  },
  {
   "cell_type": "code",
   "execution_count": 117,
   "id": "61a484a9-378d-41d1-ae77-c2cb12f784a5",
   "metadata": {},
   "outputs": [
    {
     "data": {
      "text/plain": [
       "0j"
      ]
     },
     "execution_count": 117,
     "metadata": {},
     "output_type": "execute_result"
    }
   ],
   "source": [
    "mpo_unitarity_score(previous_mpo_w_tensors)"
   ]
  },
  {
   "cell_type": "markdown",
   "id": "50213cf3-778b-465c-b358-a3d5337bbbfc",
   "metadata": {},
   "source": [
    "Measures deviation from unitarity, so smaller is better."
   ]
  },
  {
   "cell_type": "markdown",
   "id": "bd8776a6-d3eb-40e4-80c0-4df275f1dd71",
   "metadata": {},
   "source": [
    "## Effect of MPO compression on unitarity"
   ]
  },
  {
   "cell_type": "code",
   "execution_count": 118,
   "id": "567bc3dc-5a16-4cda-a703-06dc57e23eff",
   "metadata": {},
   "outputs": [],
   "source": [
    "bs = [\n",
    "    test_psi.get_B(i)\n",
    "    for k, i in enumerate(range(test.right_symmetry_index + 1, test.right_symmetry_index + 36))\n",
    "]"
   ]
  },
  {
   "cell_type": "code",
   "execution_count": 119,
   "id": "d4137841-adaf-4d2d-8ed8-0f33809ba2ed",
   "metadata": {},
   "outputs": [],
   "source": [
    "left_schmidt_values = [\n",
    "    test_psi.get_SL(i)\n",
    "    for _, i in enumerate(range(test.right_symmetry_index + 1, test.right_symmetry_index + 36))\n",
    "]"
   ]
  },
  {
   "cell_type": "code",
   "execution_count": 120,
   "id": "017c5838-a6f1-4e21-9335-77c7b8df85ec",
   "metadata": {},
   "outputs": [
    {
     "data": {
      "text/plain": [
       "35"
      ]
     },
     "execution_count": 120,
     "metadata": {},
     "output_type": "execute_result"
    }
   ],
   "source": [
    "len(bs)"
   ]
  },
  {
   "cell_type": "code",
   "execution_count": 121,
   "id": "d3ef2e02-c6a7-481e-af89-7dbe032c3d17",
   "metadata": {},
   "outputs": [],
   "source": [
    "left_environment = test.right_projected_symmetry_state\n",
    "bottom_b_tensors = bs\n",
    "top_b_tensors = [bs,]\n",
    "left_schmidt_values_list = [left_schmidt_values,]\n",
    "block_width = 7\n",
    "expectations = list()\n",
    "previous_mpo_w_tensors = []\n",
    "num_iterations = 3"
   ]
  },
  {
   "cell_type": "code",
   "execution_count": 122,
   "id": "18135bb9-6f8a-4ec5-85cf-28299c4ebba4",
   "metadata": {},
   "outputs": [],
   "source": [
    "unitarity_scores = list()"
   ]
  },
  {
   "cell_type": "code",
   "execution_count": 123,
   "id": "f96f2f59-8e9a-4507-a3a5-3e3864ccc5f7",
   "metadata": {
    "scrolled": true
   },
   "outputs": [],
   "source": [
    "offset = 0\n",
    "\n",
    "new_top_b_tensors, new_schmidt_values, unitaries = optimise_layer(\n",
    "    left_environment,\n",
    "    top_b_tensors[-1],\n",
    "    left_schmidt_values_list[-1],\n",
    "    block_width,\n",
    "    offset,\n",
    "    expectations,\n",
    "    previous_mpo_w_tensors,\n",
    "    bottom_b_tensors,\n",
    "    num_iterations\n",
    ")"
   ]
  },
  {
   "cell_type": "code",
   "execution_count": 124,
   "id": "0a855a7a-078e-446d-8e89-ed157b04c300",
   "metadata": {},
   "outputs": [
    {
     "data": {
      "text/plain": [
       "[<npc.Array shape=(128, 128) labels=['(p0.p1.p2.p3.p4.p5.p6)', '(p0*.p1*.p2*.p3*.p4*.p5*.p6*)']>,\n",
       " <npc.Array shape=(128, 128) labels=['(p0.p1.p2.p3.p4.p5.p6)', '(p0*.p1*.p2*.p3*.p4*.p5*.p6*)']>,\n",
       " <npc.Array shape=(128, 128) labels=['(p0.p1.p2.p3.p4.p5.p6)', '(p0*.p1*.p2*.p3*.p4*.p5*.p6*)']>,\n",
       " <npc.Array shape=(128, 128) labels=['(p0.p1.p2.p3.p4.p5.p6)', '(p0*.p1*.p2*.p3*.p4*.p5*.p6*)']>,\n",
       " <npc.Array shape=(128, 128) labels=['(p0.p1.p2.p3.p4.p5.p6)', '(p0*.p1*.p2*.p3*.p4*.p5*.p6*)']>]"
      ]
     },
     "execution_count": 124,
     "metadata": {},
     "output_type": "execute_result"
    }
   ],
   "source": [
    "unitaries"
   ]
  },
  {
   "cell_type": "code",
   "execution_count": 125,
   "id": "1eed1e94-4ac2-475c-a24e-f72d82899593",
   "metadata": {},
   "outputs": [],
   "source": [
    "test_mpo = unitaries[0]\n",
    "test_mpo = test_mpo.replace_labels(\n",
    "    ['(p0.p1.p2.p3.p4.p5.p6)', '(p0*.p1*.p2*.p3*.p4*.p5*.p6*)'], ['p', 'p*']\n",
    ")"
   ]
  },
  {
   "cell_type": "code",
   "execution_count": 126,
   "id": "db4b0c97-a4af-4d16-a16b-f942c668ccfc",
   "metadata": {},
   "outputs": [
    {
     "data": {
      "text/plain": [
       "<npc.Array shape=(128, 128) labels=['p', 'p*']>"
      ]
     },
     "execution_count": 126,
     "metadata": {},
     "output_type": "execute_result"
    }
   ],
   "source": [
    "test_mpo"
   ]
  },
  {
   "cell_type": "code",
   "execution_count": 127,
   "id": "a4875e6a-d9b2-417e-a738-131b815d5645",
   "metadata": {},
   "outputs": [],
   "source": [
    "e1 = npc.tensordot(test_mpo, test_mpo.conj(), [['p', 'p*'], ['p*', 'p']])/2**7"
   ]
  },
  {
   "cell_type": "code",
   "execution_count": 128,
   "id": "2ec696d2-849a-43aa-a413-b1fca818792c",
   "metadata": {},
   "outputs": [
    {
     "data": {
      "text/plain": [
       "(1.0000000000000002+0j)"
      ]
     },
     "execution_count": 128,
     "metadata": {},
     "output_type": "execute_result"
    }
   ],
   "source": [
    "e1"
   ]
  },
  {
   "cell_type": "code",
   "execution_count": 129,
   "id": "39978a35-c0d9-47cc-bdc2-0538b117acac",
   "metadata": {},
   "outputs": [],
   "source": [
    "t2 = test_mpo\n",
    "t2 = npc.tensordot(t2, test_mpo.conj(), [['p',], ['p*',]])\n",
    "t2 = npc.tensordot(t2, test_mpo, [['p',], ['p*',]])\n",
    "t2 = npc.tensordot(t2, test_mpo.conj(), [['p', 'p*'], ['p*', 'p']])"
   ]
  },
  {
   "cell_type": "code",
   "execution_count": 130,
   "id": "5dc6443f-a30f-4e7d-bec4-89d985ad9671",
   "metadata": {},
   "outputs": [],
   "source": [
    "e2 = t2/2**7"
   ]
  },
  {
   "cell_type": "code",
   "execution_count": 131,
   "id": "aa4cd40a-08dc-477f-a46b-4d3a38879e8a",
   "metadata": {},
   "outputs": [
    {
     "data": {
      "text/plain": [
       "(1.0000000000000004+0j)"
      ]
     },
     "execution_count": 131,
     "metadata": {},
     "output_type": "execute_result"
    }
   ],
   "source": [
    "e2"
   ]
  },
  {
   "cell_type": "code",
   "execution_count": 132,
   "id": "601056a5-b708-4cce-8d91-15e609fff50e",
   "metadata": {},
   "outputs": [
    {
     "data": {
      "text/plain": [
       "0j"
      ]
     },
     "execution_count": 132,
     "metadata": {},
     "output_type": "execute_result"
    }
   ],
   "source": [
    "e2 -2*e1 + 1"
   ]
  },
  {
   "cell_type": "markdown",
   "id": "b86a4f3f-3ffe-4a24-8ced-2ca0a0fa8e54",
   "metadata": {},
   "source": [
    "Entire block unitary, as expected."
   ]
  },
  {
   "cell_type": "code",
   "execution_count": 133,
   "id": "ab2da6ee-9740-4b99-934a-f453e2784260",
   "metadata": {},
   "outputs": [],
   "source": [
    "test_mpo = unitaries[0]"
   ]
  },
  {
   "cell_type": "code",
   "execution_count": 134,
   "id": "703b5359-51df-498c-83b4-ed918ddc6c4c",
   "metadata": {},
   "outputs": [],
   "source": [
    "test_mpo_tensors = split_combined_u(test_mpo, 100)"
   ]
  },
  {
   "cell_type": "code",
   "execution_count": 135,
   "id": "d7a3c24c-fe4a-42b0-a3ff-93922ac9c310",
   "metadata": {},
   "outputs": [
    {
     "data": {
      "text/plain": [
       "[<npc.Array shape=(1, 2, 2, 4) labels=['vL', 'p', 'p*', 'vR']>,\n",
       " <npc.Array shape=(2, 2, 4, 16) labels=['p', 'p*', 'vL', 'vR']>,\n",
       " <npc.Array shape=(2, 2, 16, 64) labels=['p', 'p*', 'vL', 'vR']>,\n",
       " <npc.Array shape=(2, 2, 64, 64) labels=['p', 'p*', 'vL', 'vR']>,\n",
       " <npc.Array shape=(2, 2, 64, 16) labels=['p', 'p*', 'vL', 'vR']>,\n",
       " <npc.Array shape=(2, 2, 16, 4) labels=['p', 'p*', 'vL', 'vR']>,\n",
       " <npc.Array shape=(1, 4, 2, 2) labels=['vR', 'vL', 'p', 'p*']>]"
      ]
     },
     "execution_count": 135,
     "metadata": {},
     "output_type": "execute_result"
    }
   ],
   "source": [
    "test_mpo_tensors"
   ]
  },
  {
   "cell_type": "code",
   "execution_count": 136,
   "id": "ea932ba0-c37d-45a0-b26b-33ffad6d4d1c",
   "metadata": {},
   "outputs": [
    {
     "data": {
      "text/plain": [
       "(-2.220446049250313e-16+0j)"
      ]
     },
     "execution_count": 136,
     "metadata": {},
     "output_type": "execute_result"
    }
   ],
   "source": [
    "mpo_unitarity_score(test_mpo_tensors)"
   ]
  },
  {
   "cell_type": "code",
   "execution_count": 137,
   "id": "008f019e-4bb4-4180-8ca2-d52844a1fc9c",
   "metadata": {},
   "outputs": [],
   "source": [
    "max_dim_vals = list(range(1, 10)) + list(range(10, 66, 5))"
   ]
  },
  {
   "cell_type": "code",
   "execution_count": 297,
   "id": "bc266999-5d00-42bb-9a0b-fba6c4a75056",
   "metadata": {},
   "outputs": [],
   "source": [
    "test_mpo_tensors_by_max_virtual_dim = [\n",
    "    split_combined_u(test_mpo, i)\n",
    "    for i in max_dim_vals\n",
    "]"
   ]
  },
  {
   "cell_type": "code",
   "execution_count": 298,
   "id": "5aecd18d-d327-4adf-8edd-519f09fade31",
   "metadata": {},
   "outputs": [],
   "source": [
    "mpo_unitarity_scores = [\n",
    "    mpo_unitarity_score(ws)\n",
    "    for ws in test_mpo_tensors_by_max_virtual_dim\n",
    "]"
   ]
  },
  {
   "cell_type": "code",
   "execution_count": 299,
   "id": "259e385b-6f52-45af-9dd1-2f3be890478b",
   "metadata": {},
   "outputs": [
    {
     "data": {
      "text/plain": [
       "[(0.8272221892698497+0j),\n",
       " (0.7337500719743941+0j),\n",
       " (0.6900584057119388+0j),\n",
       " (0.6757779417392912+0j),\n",
       " (0.6700991175633797+0j),\n",
       " (0.640839881314176+0j),\n",
       " (0.6048581435020073+0j),\n",
       " (0.5859260418277576+0j),\n",
       " (0.5896651674605016+0j),\n",
       " (0.5785280738565989+0j),\n",
       " (0.4689081286018234+0j),\n",
       " (0.42355049741043227+0j),\n",
       " (0.401668604917808+0j),\n",
       " (0.3656067277535535+0j),\n",
       " (0.34545823567353495+0j),\n",
       " (0.27397738292742635+0j),\n",
       " (0.2335430154047965+0j),\n",
       " (0.1614843215144952+0j),\n",
       " (0.08124830176149711+0j),\n",
       " (0.03402079406771574+0j),\n",
       " (-2.220446049250313e-16+0j)]"
      ]
     },
     "execution_count": 299,
     "metadata": {},
     "output_type": "execute_result"
    }
   ],
   "source": [
    "mpo_unitarity_scores"
   ]
  },
  {
   "cell_type": "code",
   "execution_count": 300,
   "id": "8de72b5e-3098-4d4c-a230-8dd7f9ed91ab",
   "metadata": {},
   "outputs": [
    {
     "data": {
      "text/plain": [
       "[<matplotlib.lines.Line2D at 0x17e875490>]"
      ]
     },
     "execution_count": 300,
     "metadata": {},
     "output_type": "execute_result"
    },
    {
     "data": {
      "image/png": "[encoded data removed]",
      "text/plain": [
       "<Figure size 640x480 with 1 Axes>"
      ]
     },
     "metadata": {},
     "output_type": "display_data"
    }
   ],
   "source": [
    "plt.plot(\n",
    "    max_dim_vals,\n",
    "    np.real(np.array(mpo_unitarity_scores)),\n",
    "    'o'\n",
    ")"
   ]
  },
  {
   "cell_type": "markdown",
   "id": "2ec12b42-17a9-4051-acd6-43879b10ccbd",
   "metadata": {},
   "source": [
    "So we need to crank up the virtual dimension for mpos? Yikes."
   ]
  },
  {
   "cell_type": "code",
   "execution_count": 301,
   "id": "ba98ff84-8c5c-4f71-aa88-abbe2b839bff",
   "metadata": {},
   "outputs": [],
   "source": [
    "def mpo_frobenius_inner_product(mpo1_tensors, mpo2_tensors=None):\n",
    "    if mpo2_tensors is None:\n",
    "        mpo2_tensors = mpo1_tensors\n",
    "\n",
    "    w1 = mpo1_tensors[0].take_slice(0, 'vL')\n",
    "    dim = get_physical_dim(w, p_label='p')\n",
    "    w2 = mpo2_tensors[0].take_slice(0, 'vL')\n",
    "\n",
    "    t = npc.tensordot(w1, w2.conj(), [['p', 'p*'], ['p*', 'p']])\n",
    "    t /= dim\n",
    "\n",
    "    for w1, w2 in zip(mpo1_tensors[1:], mpo2_tensors[1:]):\n",
    "        dim = get_physical_dim(w1, p_label='p')\n",
    "\n",
    "        t = npc.tensordot(t, w1, [['vR', ], ['vL']])\n",
    "        t = npc.tensordot(t, w2.conj(), [['vR*', 'p', 'p*'], ['vL*', 'p*', 'p']])\n",
    "        t /= dim\n",
    "\n",
    "    e = t[0,0]\n",
    "\n",
    "    return e"
   ]
  },
  {
   "cell_type": "markdown",
   "id": "5c002c40-22d5-4b9e-87e6-794500fc8e93",
   "metadata": {},
   "source": [
    "Define similar function to the above generalising $\\textrm{Tr}(U^\\dagger U U^\\dagger U)$?"
   ]
  },
  {
   "cell_type": "markdown",
   "id": "615fda0a-0a25-4719-ac42-8b204bbb819d",
   "metadata": {},
   "source": [
    "Define a similar function for arbitrary frobenius difference? Could be useful when approximating products of near-unitaries."
   ]
  },
  {
   "cell_type": "code",
   "execution_count": 302,
   "id": "8297333c-a50f-4a50-a833-dd140e6e2d47",
   "metadata": {},
   "outputs": [],
   "source": [
    "def frobenius_unitary_difference(\n",
    "    mpo_tensors, unitary_tensors, mpo_frobenius_norm=None):\n",
    "\n",
    "    if mpo_frobenius_norm is None:\n",
    "        mpo_frobenius_norm = mpo_frobenius_inner_product(mpo_tensors)\n",
    "    inner_product = mpo_frobenius_inner_product(mpo_tensors, unitary_tensors)\n",
    "\n",
    "    return 1 - 2*inner_product.real + mpo_frobenius_norm"
   ]
  },
  {
   "cell_type": "code",
   "execution_count": 303,
   "id": "2c93bd36-21d1-42df-9080-026fceb63c18",
   "metadata": {},
   "outputs": [],
   "source": [
    "def frob_inner_product_tensors_against_mpo(mpo_tensors, mpo):\n",
    "    t = mpo\n",
    "    p_leg = 'p0'\n",
    "    p_leg_c = 'p0*'\n",
    "    w = (\n",
    "        mpo_tensors[0]\n",
    "        .replace_labels(['p', 'p*'], [p_leg, p_leg_c])\n",
    "        .take_slice(0, 'vL')\n",
    "    )\n",
    "    t = npc.tensordot(t, w.conj(), [[p_leg, p_leg_c], [p_leg_c, p_leg]])\n",
    "\n",
    "    \n",
    "    dim = get_physical_dim(w, p_label=p_leg)\n",
    "    t /= dim\n",
    "\n",
    "    for i, w in enumerate(mpo_tensors[1:], start=1):\n",
    "        p_leg = f'p{i}'\n",
    "        p_leg_c = f'p{i}*'\n",
    "        w = w.replace_labels(['p', 'p*'], [p_leg, p_leg_c])\n",
    "        t = npc.tensordot(\n",
    "            t,\n",
    "            w.conj(),\n",
    "            [[p_leg, p_leg_c, 'vR*'], [p_leg_c, p_leg, 'vL*']]\n",
    "        )\n",
    "\n",
    "        dim = get_physical_dim(w, p_label=p_leg)\n",
    "        t /= dim\n",
    "\n",
    "    e = t[0]\n",
    "\n",
    "    return e"
   ]
  },
  {
   "cell_type": "code",
   "execution_count": 304,
   "id": "86df43c5-9137-4e93-81c5-70003772c900",
   "metadata": {},
   "outputs": [],
   "source": [
    "def split_u_error(mpo_tensors, u):\n",
    "    mpo_frobenius_norm = mpo_frobenius_inner_product(mpo_tensors)\n",
    "\n",
    "    u_hc_mpo_frob_inner_product = frob_inner_product_tensors_against_mpo(\n",
    "        mpo_tensors, u\n",
    "    )\n",
    "\n",
    "    return 1 - 2*u_hc_mpo_frob_inner_product.real + mpo_frobenius_norm\n",
    "    #return (u_hc_mpo_frob_inner_product.real, mpo_frobenius_norm)"
   ]
  },
  {
   "cell_type": "code",
   "execution_count": 305,
   "id": "691b0768-a2e7-47b7-9135-d67888e814da",
   "metadata": {},
   "outputs": [
    {
     "data": {
      "text/plain": [
       "<npc.Array shape=(128, 128) labels=['(p0.p1.p2.p3.p4.p5.p6)', '(p0*.p1*.p2*.p3*.p4*.p5*.p6*)']>"
      ]
     },
     "execution_count": 305,
     "metadata": {},
     "output_type": "execute_result"
    }
   ],
   "source": [
    "test_mpo"
   ]
  },
  {
   "cell_type": "code",
   "execution_count": 306,
   "id": "05c93a00-ac60-40b8-aec4-5ae563aa1964",
   "metadata": {},
   "outputs": [
    {
     "data": {
      "text/plain": [
       "[<npc.Array shape=(1, 2, 2, 1) labels=['vL', 'p', 'p*', 'vR']>,\n",
       " <npc.Array shape=(2, 2, 1, 1) labels=['p', 'p*', 'vL', 'vR']>,\n",
       " <npc.Array shape=(2, 2, 1, 1) labels=['p', 'p*', 'vL', 'vR']>,\n",
       " <npc.Array shape=(2, 2, 1, 1) labels=['p', 'p*', 'vL', 'vR']>,\n",
       " <npc.Array shape=(2, 2, 1, 1) labels=['p', 'p*', 'vL', 'vR']>,\n",
       " <npc.Array shape=(2, 2, 1, 1) labels=['p', 'p*', 'vL', 'vR']>,\n",
       " <npc.Array shape=(1, 1, 2, 2) labels=['vR', 'vL', 'p', 'p*']>]"
      ]
     },
     "execution_count": 306,
     "metadata": {},
     "output_type": "execute_result"
    }
   ],
   "source": [
    "test_mpo_tensors_by_max_virtual_dim[0]"
   ]
  },
  {
   "cell_type": "code",
   "execution_count": 307,
   "id": "9a41d4dc-f1b8-4655-ba08-6b2668b9db0f",
   "metadata": {},
   "outputs": [
    {
     "data": {
      "text/plain": [
       "(0.8885189946277328+0j)"
      ]
     },
     "execution_count": 307,
     "metadata": {},
     "output_type": "execute_result"
    }
   ],
   "source": [
    "split_u_error(\n",
    "    test_mpo_tensors_by_max_virtual_dim[0],\n",
    "    test_mpo.split_legs()\n",
    ")"
   ]
  },
  {
   "cell_type": "code",
   "execution_count": 308,
   "id": "87e2e0ed-7a63-4170-98fa-524002a19186",
   "metadata": {},
   "outputs": [],
   "source": [
    "split_u_errors = [\n",
    "    split_u_error(ws, test_mpo.split_legs())\n",
    "    for ws in test_mpo_tensors_by_max_virtual_dim\n",
    "]"
   ]
  },
  {
   "cell_type": "code",
   "execution_count": 309,
   "id": "6692595c-bedb-4ae2-acc7-7c963c55fff0",
   "metadata": {},
   "outputs": [
    {
     "data": {
      "text/plain": [
       "[(0.8885189946277328+0j),\n",
       " (0.8096546657278086+0j),\n",
       " (0.75406552820741+0j),\n",
       " (0.7637713928152461+0j),\n",
       " (0.7546762274560459+0j),\n",
       " (0.7311546398277045+0j),\n",
       " (0.7109898489517943+0j),\n",
       " (0.6911763734917784+0j),\n",
       " (0.6925044920697908+0j),\n",
       " (0.6846914768863364+0j),\n",
       " (0.5606094032178519+0j),\n",
       " (0.46338524568633+0j),\n",
       " (0.3993559938667841+0j),\n",
       " (0.3152527475128488+0j),\n",
       " (0.24904212222971012+0j),\n",
       " (0.18064629165530377+0j),\n",
       " (0.14280044736811015+0j),\n",
       " (0.09211655720130851+0j),\n",
       " (0.044541152871643286+0j),\n",
       " (0.017663622720607508+0j),\n",
       " (-4.440892098500626e-16+0j)]"
      ]
     },
     "execution_count": 309,
     "metadata": {},
     "output_type": "execute_result"
    }
   ],
   "source": [
    "split_u_errors"
   ]
  },
  {
   "cell_type": "code",
   "execution_count": 310,
   "id": "75958528-f7bb-45cf-8d87-69f972f20496",
   "metadata": {},
   "outputs": [
    {
     "data": {
      "text/plain": [
       "[<matplotlib.lines.Line2D at 0x301584050>]"
      ]
     },
     "execution_count": 310,
     "metadata": {},
     "output_type": "execute_result"
    },
    {
     "data": {
      "image/png": "[encoded data removed]",
      "text/plain": [
       "<Figure size 640x480 with 1 Axes>"
      ]
     },
     "metadata": {},
     "output_type": "display_data"
    }
   ],
   "source": [
    "plt.plot(\n",
    "    max_dim_vals,\n",
    "    np.real(np.array(split_u_errors)),\n",
    "    'o'\n",
    ")"
   ]
  },
  {
   "cell_type": "code",
   "execution_count": 311,
   "id": "891bad39-d7bf-4af0-b04a-1ec4c699fe44",
   "metadata": {},
   "outputs": [
    {
     "name": "stderr",
     "output_type": "stream",
     "text": [
      "/var/folders/r3/xn8xq5c17932m2g1b4r3dss80000gn/T/ipykernel_8478/3348248756.py:15: UserWarning: FigureCanvasAgg is non-interactive, and thus cannot be shown\n",
      "  fig.show()\n"
     ]
    },
    {
     "data": {
      "image/png": "[encoded data removed]",
      "text/plain": [
       "<Figure size 600x400 with 1 Axes>"
      ]
     },
     "metadata": {},
     "output_type": "display_data"
    }
   ],
   "source": [
    "fig, ax = plt.subplots(figsize=(6,4))\n",
    "\n",
    "ax.plot(\n",
    "    max_dim_vals,\n",
    "    np.real(np.array(mpo_unitarity_scores)),\n",
    "    'ro'\n",
    ")\n",
    "\n",
    "ax.plot(\n",
    "    max_dim_vals,\n",
    "    np.real(np.array(split_u_errors)),\n",
    "    'bo'\n",
    ")\n",
    "\n",
    "fig.show()"
   ]
  },
  {
   "cell_type": "code",
   "execution_count": 312,
   "id": "07ce636d-3a6a-4854-b274-f953d7088fc2",
   "metadata": {},
   "outputs": [],
   "source": [
    "split_u_squared_norm = [\n",
    "    mpo_frobenius_inner_product(ws)\n",
    "    for ws in test_mpo_tensors_by_max_virtual_dim\n",
    "]"
   ]
  },
  {
   "cell_type": "code",
   "execution_count": 313,
   "id": "5d4326d6-0756-4258-a96f-863fceb47ff6",
   "metadata": {},
   "outputs": [
    {
     "data": {
      "text/plain": [
       "[(0.11148100537226725+0j),\n",
       " (0.18033813261687412+0j),\n",
       " (0.20631995397945463+0j),\n",
       " (0.21218603254157137+0j),\n",
       " (0.2131350092484954+0j),\n",
       " (0.24343601019575356+0j),\n",
       " (0.2680614538950657+0j),\n",
       " (0.2822848557970755+0j),\n",
       " (0.285567619544026+0j),\n",
       " (0.29690487523526177+0j),\n",
       " (0.43494760084482714+0j),\n",
       " (0.5367371493675764+0j),\n",
       " (0.6004331802776226+0j),\n",
       " (0.6877566898294851+0j),\n",
       " (0.7525165595003029+0j),\n",
       " (0.8201271858046175+0j),\n",
       " (0.8573303646794173+0j),\n",
       " (0.9072621372543259+0j),\n",
       " (0.9549586420919447+0j),\n",
       " (0.9822561022148306+0j),\n",
       " (0.9999999999999991+0j)]"
      ]
     },
     "execution_count": 313,
     "metadata": {},
     "output_type": "execute_result"
    }
   ],
   "source": [
    "split_u_squared_norm"
   ]
  },
  {
   "cell_type": "code",
   "execution_count": 316,
   "id": "9506dc08-d214-461a-a749-5d0dbf5c53d0",
   "metadata": {},
   "outputs": [
    {
     "data": {
      "text/plain": [
       "[<matplotlib.lines.Line2D at 0x174ed2cd0>]"
      ]
     },
     "execution_count": 316,
     "metadata": {},
     "output_type": "execute_result"
    },
    {
     "data": {
      "image/png": "[encoded data removed]",
      "text/plain": [
       "<Figure size 640x480 with 1 Axes>"
      ]
     },
     "metadata": {},
     "output_type": "display_data"
    }
   ],
   "source": [
    "plt.plot(\n",
    "    max_dim_vals,\n",
    "    np.real(np.array(split_u_squared_norm)),\n",
    "    'bo'\n",
    ")"
   ]
  },
  {
   "cell_type": "markdown",
   "id": "8dec95c6-77d6-4cfe-83d4-246dba95908b",
   "metadata": {},
   "source": [
    "## Schmidt value normalisation"
   ]
  },
  {
   "cell_type": "code",
   "execution_count": 184,
   "id": "0ce618f6-c6fb-4b47-8257-9a2ed6778e86",
   "metadata": {},
   "outputs": [
    {
     "data": {
      "text/plain": [
       "<npc.Array shape=(128, 128) labels=['(p0.p1.p2.p3.p4.p5.p6)', '(p0*.p1*.p2*.p3*.p4*.p5*.p6*)']>"
      ]
     },
     "execution_count": 184,
     "metadata": {},
     "output_type": "execute_result"
    }
   ],
   "source": [
    "test_mpo"
   ]
  },
  {
   "cell_type": "code",
   "execution_count": 185,
   "id": "9805695e-d4b6-4902-abab-585e79960627",
   "metadata": {},
   "outputs": [
    {
     "data": {
      "text/plain": [
       "(128.00000000000003+0j)"
      ]
     },
     "execution_count": 185,
     "metadata": {},
     "output_type": "execute_result"
    }
   ],
   "source": [
    "npc.tensordot(\n",
    "    test_mpo,\n",
    "    test_mpo.conj(),\n",
    "    [\n",
    "        ['(p0.p1.p2.p3.p4.p5.p6)', '(p0*.p1*.p2*.p3*.p4*.p5*.p6*)'],\n",
    "        ['(p0*.p1*.p2*.p3*.p4*.p5*.p6*)', '(p0.p1.p2.p3.p4.p5.p6)']\n",
    "    ]\n",
    ")"
   ]
  },
  {
   "cell_type": "code",
   "execution_count": 189,
   "id": "f2442ad6-73f4-4371-a101-40edb6f2e95a",
   "metadata": {},
   "outputs": [],
   "source": [
    "split_test_mpo = (\n",
    "    test_mpo\n",
    "    .split_legs()\n",
    "    .combine_legs([\n",
    "        ['p0', 'p1', 'p2', 'p3', 'p0*', 'p1*', 'p2*', 'p3*'],\n",
    "        ['p4', 'p5', 'p6', 'p4*', 'p5*', 'p6*']\n",
    "    ])\n",
    ")"
   ]
  },
  {
   "cell_type": "code",
   "execution_count": 190,
   "id": "81dd11b2-8906-4d17-8ed1-f67ff22b5578",
   "metadata": {},
   "outputs": [
    {
     "data": {
      "text/plain": [
       "<npc.Array shape=(256, 64) labels=['(p0.p1.p2.p3.p0*.p1*.p2*.p3*)', '(p4.p5.p6.p4*.p5*.p6*)']>"
      ]
     },
     "execution_count": 190,
     "metadata": {},
     "output_type": "execute_result"
    }
   ],
   "source": [
    "split_test_mpo"
   ]
  },
  {
   "cell_type": "code",
   "execution_count": 191,
   "id": "4492ef18-e352-4eaf-a1e6-6184203ab579",
   "metadata": {},
   "outputs": [],
   "source": [
    "U, S, VH = npc.svd(split_test_mpo)"
   ]
  },
  {
   "cell_type": "code",
   "execution_count": 192,
   "id": "d6fc286e-bab4-42f6-b47e-7403365b6d79",
   "metadata": {},
   "outputs": [
    {
     "data": {
      "text/plain": [
       "array([4.30165611, 4.07442239, 2.86883116, 2.58150601, 2.35693369,\n",
       "       2.16555361, 1.9046894 , 1.89179977, 1.79122453, 1.73173144,\n",
       "       1.69298712, 1.63556623, 1.61056886, 1.55030566, 1.52434678,\n",
       "       1.51093029, 1.46306624, 1.45622646, 1.41063529, 1.33150823,\n",
       "       1.29033194, 1.25730773, 1.24244477, 1.20618016, 1.17079204,\n",
       "       1.15359621, 1.13548117, 1.10407079, 1.08618833, 1.05999285,\n",
       "       1.04038045, 1.00614054, 0.98955043, 0.95830412, 0.94666763,\n",
       "       0.9120003 , 0.90711186, 0.86493545, 0.85917027, 0.84742021,\n",
       "       0.80888873, 0.80514503, 0.78570842, 0.77296846, 0.75928405,\n",
       "       0.72163339, 0.69484975, 0.67542963, 0.66444679, 0.63124617,\n",
       "       0.60312943, 0.58930108, 0.57396738, 0.54767409, 0.53323575,\n",
       "       0.51402761, 0.49906663, 0.48270007, 0.45664115, 0.4193766 ,\n",
       "       0.4105994 , 0.3605691 , 0.33755624, 0.32526694])"
      ]
     },
     "execution_count": 192,
     "metadata": {},
     "output_type": "execute_result"
    }
   ],
   "source": [
    "S"
   ]
  },
  {
   "cell_type": "code",
   "execution_count": 193,
   "id": "d2992f94-1e77-414e-8326-749f9d08d385",
   "metadata": {},
   "outputs": [
    {
     "data": {
      "text/plain": [
       "127.99999999999994"
      ]
     },
     "execution_count": 193,
     "metadata": {},
     "output_type": "execute_result"
    }
   ],
   "source": [
    "np.sum(S**2)"
   ]
  },
  {
   "cell_type": "code",
   "execution_count": 194,
   "id": "c0635823-265f-43bb-95f9-412dc9b3c6f5",
   "metadata": {},
   "outputs": [
    {
     "data": {
      "text/plain": [
       "[<matplotlib.lines.Line2D at 0x10420e590>]"
      ]
     },
     "execution_count": 194,
     "metadata": {},
     "output_type": "execute_result"
    },
    {
     "data": {
      "image/png": "[encoded data removed]",
      "text/plain": [
       "<Figure size 640x480 with 1 Axes>"
      ]
     },
     "metadata": {},
     "output_type": "display_data"
    }
   ],
   "source": [
    "plt.plot(S)"
   ]
  },
  {
   "cell_type": "markdown",
   "id": "f9f2d099-a0c8-44ba-be43-436a69cba900",
   "metadata": {},
   "source": [
    "So we do want to normalise. But how to deal with the big numbers?"
   ]
  },
  {
   "cell_type": "markdown",
   "id": "0fa4b834-b174-4e32-9168-ec71eedf419a",
   "metadata": {},
   "source": [
    "## Redo with re-normalization"
   ]
  },
  {
   "cell_type": "code",
   "execution_count": 196,
   "id": "e47cd665-08c7-4326-bb8f-940cc8ac7fd8",
   "metadata": {},
   "outputs": [],
   "source": [
    "from operator import mul"
   ]
  },
  {
   "cell_type": "code",
   "execution_count": 205,
   "id": "9cfc882a-8b30-4334-aef2-45f15f5790f6",
   "metadata": {},
   "outputs": [],
   "source": [
    "def get_leg_dim(t, leg_label):\n",
    "    return t.get_leg(leg_label).get_block_sizes()[0]"
   ]
  },
  {
   "cell_type": "code",
   "execution_count": 357,
   "id": "712c2f3b-6e68-417a-807e-e8f4510209ee",
   "metadata": {},
   "outputs": [],
   "source": [
    "def split_combined_u_normalised(u, max_virtual_bond_dim=MAX_VIRTUAL_BOND_DIM,\n",
    "                     p_leg_labels=None):\n",
    "    t = u.split_legs()\n",
    "    num_sites = t.ndim //2\n",
    "    \n",
    "    if p_leg_labels is None:\n",
    "        p_leg_labels = [f'p{i}' for i in range(num_sites)]\n",
    "\n",
    "    #total_dim = reduce(mul, (get_leg_dim(u, p) for p in p_leg_labels))\n",
    "\n",
    "    p_leg_labels_hc = [l+'*' for l in p_leg_labels]\n",
    "    out_ws = list()\n",
    "\n",
    "    for i, (ll, ll_hc) in enumerate(zip(p_leg_labels[:-1], p_leg_labels_hc[:-1])):\n",
    "        tail_legs = p_leg_labels[(i+1):]\n",
    "        tail_legs_hc = p_leg_labels_hc[(i+1):]\n",
    "\n",
    "        left_leg_labels = [ll, ll_hc]\n",
    "        if 'vL' in t.get_leg_labels():\n",
    "            left_leg_labels.append('vL')\n",
    "    \n",
    "        t = t.combine_legs([left_leg_labels, [*tail_legs, *tail_legs_hc]])\n",
    "\n",
    "        U, S, VH = svd_reduce_split_tensor(\n",
    "            t,\n",
    "            max_inner_dim=max_virtual_bond_dim,\n",
    "            normalise=False\n",
    "        )\n",
    "\n",
    "        U.iscale_axis(S, axis='vR')\n",
    "\n",
    "        wl = U.split_legs().replace_labels([ll, ll_hc], ['p', 'p*'])\n",
    "        #wl.itranspose(['p', 'p*'])\n",
    "        out_ws.append(wl)\n",
    "\n",
    "        t = VH.split_legs()\n",
    "\n",
    "    wl = t.replace_labels(\n",
    "        [p_leg_labels[-1], p_leg_labels_hc[-1]],\n",
    "        ['p', 'p*']\n",
    "    )\n",
    "    #wl.itranspose(['p', 'p*'])\n",
    "    out_ws.append(wl)\n",
    "\n",
    "    out_ws[0] = (\n",
    "        out_ws[0]\n",
    "        .add_leg(left_trivial_leg_charge, 0, label='vL')\n",
    "    )\n",
    "    \n",
    "    out_ws[-1] = (\n",
    "        out_ws[-1]\n",
    "        .add_leg(right_trivial_leg_charge, 0, label='vR')\n",
    "    )\n",
    "\n",
    "    norm = mpo_frobenius_inner_product(out_ws)  \n",
    "    scale_factor = np.power(norm, 1/(2*num_sites))\n",
    "\n",
    "    for i, w in enumerate(out_ws):\n",
    "        out_ws[i] /= scale_factor\n",
    "\n",
    "    return out_ws"
   ]
  },
  {
   "cell_type": "code",
   "execution_count": 358,
   "id": "5139936c-b0f4-4779-86b1-14fd881aac5e",
   "metadata": {},
   "outputs": [
    {
     "data": {
      "text/plain": [
       "[1, 2, 3, 4, 5, 6, 7, 8, 9, 10, 15, 20, 25, 30, 35, 40, 45, 50, 55, 60, 65]"
      ]
     },
     "execution_count": 358,
     "metadata": {},
     "output_type": "execute_result"
    }
   ],
   "source": [
    "max_dim_vals"
   ]
  },
  {
   "cell_type": "markdown",
   "id": "ad233bbb-c339-4470-a46d-506208bd912c",
   "metadata": {},
   "source": [
    "To do: Step through and check singular values."
   ]
  },
  {
   "cell_type": "code",
   "execution_count": 359,
   "id": "a09b33a5-57cf-49d3-b72e-3bdf633dbfd4",
   "metadata": {},
   "outputs": [],
   "source": [
    "test_mpo_tensors_by_max_virtual_dim = [\n",
    "    split_combined_u_normalised(test_mpo.split_legs(), i)\n",
    "    for i in max_dim_vals\n",
    "]"
   ]
  },
  {
   "cell_type": "code",
   "execution_count": 360,
   "id": "7a30aace-ea85-4cad-a315-5dac994fcdb2",
   "metadata": {},
   "outputs": [],
   "source": [
    "mpo_unitarity_scores = [\n",
    "    mpo_unitarity_score(ws)\n",
    "    for ws in test_mpo_tensors_by_max_virtual_dim\n",
    "]"
   ]
  },
  {
   "cell_type": "code",
   "execution_count": 361,
   "id": "55f21314-73d7-4580-9bb3-2b91c41827ef",
   "metadata": {},
   "outputs": [
    {
     "data": {
      "text/plain": [
       "[(3.037990121181784+0j),\n",
       " (1.9034744399849708+0j),\n",
       " (1.4125751374218751+0j),\n",
       " (1.2244231097249436+0j),\n",
       " (1.1214284133628372+0j),\n",
       " (1.155071724486489+0j),\n",
       " (0.9619683955371237+0j),\n",
       " (0.8886395786227466+0j),\n",
       " (0.9718288647404749+0j),\n",
       " (0.954996337851322+0j),\n",
       " (0.7909101232321676+0j),\n",
       " (0.7252607623715532+0j),\n",
       " (0.6712941274385429+0j),\n",
       " (0.5668194329014928+0j),\n",
       " (0.5018888076156487+0j),\n",
       " (0.3592329228604252+0j),\n",
       " (0.29004617297272106+0j),\n",
       " (0.1857361728525211+0j),\n",
       " (0.08686871496243165+0j),\n",
       " (0.034934704771480085+0j),\n",
       " 0j]"
      ]
     },
     "execution_count": 361,
     "metadata": {},
     "output_type": "execute_result"
    }
   ],
   "source": [
    "mpo_unitarity_scores"
   ]
  },
  {
   "cell_type": "code",
   "execution_count": 362,
   "id": "4ef9b8a1-167f-4c5c-adc7-342a76feee98",
   "metadata": {},
   "outputs": [
    {
     "data": {
      "text/plain": [
       "[<matplotlib.lines.Line2D at 0x175444990>]"
      ]
     },
     "execution_count": 362,
     "metadata": {},
     "output_type": "execute_result"
    },
    {
     "data": {
      "image/png": "[encoded data removed]",
      "text/plain": [
       "<Figure size 640x480 with 1 Axes>"
      ]
     },
     "metadata": {},
     "output_type": "display_data"
    }
   ],
   "source": [
    "plt.plot(\n",
    "    max_dim_vals,\n",
    "    np.real(np.array(mpo_unitarity_scores)),\n",
    "    'o'\n",
    ")"
   ]
  },
  {
   "cell_type": "code",
   "execution_count": 363,
   "id": "e8b6c7ea-8959-4940-a31c-82c87cd7dc8d",
   "metadata": {},
   "outputs": [],
   "source": [
    "split_u_errors = [\n",
    "    split_u_error(ws, test_mpo.split_legs())\n",
    "    for ws in test_mpo_tensors_by_max_virtual_dim\n",
    "]"
   ]
  },
  {
   "cell_type": "code",
   "execution_count": 364,
   "id": "3b7593d6-fe28-4ede-9043-15f1a76a79b3",
   "metadata": {},
   "outputs": [
    {
     "data": {
      "text/plain": [
       "[(1.3322245725626993+0j),\n",
       " (1.1271101730727486+0j),\n",
       " (1.0043373647500722+0j),\n",
       " (1.0265326572448095+0j),\n",
       " (1.0069459201630484+0j),\n",
       " (0.9617160232524862+0j),\n",
       " (0.9240456696479611+0j),\n",
       " (0.8874401022878458+0j),\n",
       " (0.8901955987342992+0j),\n",
       " (0.8764454430166722+0j),\n",
       " (0.6742519951380759+0j),\n",
       " (0.5349201232816413+0j),\n",
       " (0.44997545227223723+0j),\n",
       " (0.34500689474764745+0j),\n",
       " (0.2668425519974902+0j),\n",
       " (0.18963662132156323+0j),\n",
       " (0.14829855795083757+0j),\n",
       " (0.09434153199653394+0j),\n",
       " (0.04504842757688232+0j),\n",
       " (0.01774231854734265+0j),\n",
       " (-4.440892098500626e-16+0j)]"
      ]
     },
     "execution_count": 364,
     "metadata": {},
     "output_type": "execute_result"
    }
   ],
   "source": [
    "split_u_errors"
   ]
  },
  {
   "cell_type": "code",
   "execution_count": 365,
   "id": "e24564a4-9a4f-48e5-acff-995b42968bf5",
   "metadata": {},
   "outputs": [
    {
     "data": {
      "text/plain": [
       "[<matplotlib.lines.Line2D at 0x1753cc190>]"
      ]
     },
     "execution_count": 365,
     "metadata": {},
     "output_type": "execute_result"
    },
    {
     "data": {
      "image/png": "[encoded data removed]",
      "text/plain": [
       "<Figure size 640x480 with 1 Axes>"
      ]
     },
     "metadata": {},
     "output_type": "display_data"
    }
   ],
   "source": [
    "plt.plot(\n",
    "    max_dim_vals,\n",
    "    np.real(np.array(split_u_errors)),\n",
    "    'o'\n",
    ")"
   ]
  },
  {
   "cell_type": "code",
   "execution_count": 366,
   "id": "8246be66-2fda-405c-9438-3b8dea9e4cf0",
   "metadata": {},
   "outputs": [
    {
     "name": "stderr",
     "output_type": "stream",
     "text": [
      "/var/folders/r3/xn8xq5c17932m2g1b4r3dss80000gn/T/ipykernel_8478/3348248756.py:15: UserWarning: FigureCanvasAgg is non-interactive, and thus cannot be shown\n",
      "  fig.show()\n"
     ]
    },
    {
     "data": {
      "image/png": "[encoded data removed]",
      "text/plain": [
       "<Figure size 600x400 with 1 Axes>"
      ]
     },
     "metadata": {},
     "output_type": "display_data"
    }
   ],
   "source": [
    "fig, ax = plt.subplots(figsize=(6,4))\n",
    "\n",
    "ax.plot(\n",
    "    max_dim_vals,\n",
    "    np.real(np.array(mpo_unitarity_scores)),\n",
    "    'ro'\n",
    ")\n",
    "\n",
    "ax.plot(\n",
    "    max_dim_vals,\n",
    "    np.real(np.array(split_u_errors)),\n",
    "    'bo'\n",
    ")\n",
    "\n",
    "fig.show()"
   ]
  },
  {
   "cell_type": "code",
   "execution_count": 367,
   "id": "4c9e75ee-83ab-491a-853d-8db33c9644b8",
   "metadata": {},
   "outputs": [],
   "source": [
    "split_u_squared_norm = [\n",
    "    mpo_frobenius_inner_product(ws)\n",
    "    for ws in test_mpo_tensors_by_max_virtual_dim\n",
    "]"
   ]
  },
  {
   "cell_type": "code",
   "execution_count": 368,
   "id": "593a3a17-eb1d-4d1b-b5af-733ec59583bb",
   "metadata": {},
   "outputs": [
    {
     "data": {
      "text/plain": [
       "[(0.9999999999999993+0j),\n",
       " (1.0000000000000016+0j),\n",
       " (0.9999999999999987+0j),\n",
       " (0.9999999999999987+0j),\n",
       " (1.0000000000000009+0j),\n",
       " (1.0000000000000009+0j),\n",
       " (1.0000000000000004+0j),\n",
       " (0.9999999999999982+0j),\n",
       " (0.9999999999999994+0j),\n",
       " (0.9999999999999984+0j),\n",
       " (1+0j),\n",
       " (0.999999999999999+0j),\n",
       " (1+0j),\n",
       " (1.0000000000000018+0j),\n",
       " (0.9999999999999993+0j),\n",
       " (1.0000000000000016+0j),\n",
       " (1.0000000000000002+0j),\n",
       " (1.0000000000000004+0j),\n",
       " (1.0000000000000018+0j),\n",
       " (1.000000000000001+0j),\n",
       " (1.0000000000000022+0j)]"
      ]
     },
     "execution_count": 368,
     "metadata": {},
     "output_type": "execute_result"
    }
   ],
   "source": [
    "split_u_squared_norm"
   ]
  },
  {
   "cell_type": "code",
   "execution_count": 369,
   "id": "f9d53c85-c408-4d0d-b88e-fd65fc52468b",
   "metadata": {},
   "outputs": [
    {
     "data": {
      "text/plain": [
       "[<matplotlib.lines.Line2D at 0x175b79990>]"
      ]
     },
     "execution_count": 369,
     "metadata": {},
     "output_type": "execute_result"
    },
    {
     "data": {
      "image/png": "[encoded data removed]",
      "text/plain": [
       "<Figure size 640x480 with 1 Axes>"
      ]
     },
     "metadata": {},
     "output_type": "display_data"
    }
   ],
   "source": [
    "plt.plot(\n",
    "    max_dim_vals,\n",
    "    np.real(np.array(split_u_squared_norm)),\n",
    "    'bo'\n",
    ")"
   ]
  },
  {
   "cell_type": "markdown",
   "id": "f09dd964-79f4-4186-9b35-e7ef054f1f34",
   "metadata": {},
   "source": [
    "So re-normalising does not help much. Would not affect the SPT phase at the end of the calculation anyway."
   ]
  },
  {
   "cell_type": "markdown",
   "id": "f1522a0d-dfbc-404e-9e6b-acb2b5a46dbf",
   "metadata": {},
   "source": [
    "# Conclusions\n",
    "\n",
    "* Seems like for unitaries defined on many sites a high bond dimension is required or a better optimisation scheme?\n",
    "\n",
    "* The unitarity and approximation scores seem strongly related. Enough to get a good approximation?"
   ]
  }
 ],
 "metadata": {
  "kernelspec": {
   "display_name": "num_spt_venv_p11",
   "language": "python",
   "name": "num_spt_venv_p11"
  },
  "language_info": {
   "codemirror_mode": {
    "name": "ipython",
    "version": 3
   },
   "file_extension": ".py",
   "mimetype": "text/x-python",
   "name": "python",
   "nbconvert_exporter": "python",
   "pygments_lexer": "ipython3",
   "version": "3.11.9"
  }
 },
 "nbformat": 4,
 "nbformat_minor": 5
}
