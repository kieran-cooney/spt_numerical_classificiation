{
 "cells": [
  {
   "cell_type": "markdown",
   "metadata": {},
   "source": [
    "# Excitations with DMRG and segment boundary conditions"
   ]
  },
  {
   "cell_type": "markdown",
   "metadata": {},
   "source": [
    "This notebook illustrates how we can find excited states with DMRG.\n",
    "\n",
    "The idea is that we run a first DMRG to find the ground state $|\\psi_0\\rangle$ and then run DMRG on a modified Hamiltonian\n",
    "$$H \\rightarrow H'= (1-|\\psi_0 \\rangle \\langle \\psi_0|) H (1-|\\psi_0 \\rangle \\langle \\psi_0|)$$\n",
    "to find the first excited state $|\\psi_1\\rangle$.\n",
    "\n",
    "For the second excited state, we would use \n",
    "$$H \\rightarrow H''= (1-|\\psi_0 \\rangle \\langle \\psi_0| - |\\psi_1 \\rangle \\langle \\psi_1|) H (1-|\\psi_0 \\rangle \\langle \\psi_0| - |\\psi_1 \\rangle \\langle \\psi_1|),$$ \n",
    "and so on.\n",
    "\n",
    "\n",
    "In the infinite case, this doesn't work because the overlaps/projectors are no longer well defined. However, we can consider a finite segment in the infinite chain, and take the limit of making that segment very big."
   ]
  },
  {
   "cell_type": "markdown",
   "metadata": {},
   "source": [
    "Please follow these guidelines:\n",
    "\n",
    "- [x] Choose the (beggining of the) filename such that the order of the included examples makes somewhat sense and the basic examples come first.\n",
    "- [x] Include a title at the top of the notebook to make sure it can be included into the documentation.\n",
    "  Use only subtitles afterwards.\n",
    "- [ ] Include the output such that others don't need to rerun everything to see it.\n",
    "- [ ] Before saving, \"Restart Kernel and Run All Cells\" to ensure that everything works properly.\n",
    "- [ ] Add a summary of what is shown in the example at the top, if this seems useful/necessary.\n",
    "- [ ] Remove this comment"
   ]
  },
  {
   "cell_type": "code",
   "execution_count": 18,
   "metadata": {},
   "outputs": [],
   "source": [
    "import numpy as np\n",
    "import scipy\n",
    "import matplotlib.pyplot as plt\n",
    "np.set_printoptions(precision=5, suppress=True, linewidth=100)\n",
    "plt.rcParams['figure.dpi'] = 150"
   ]
  },
  {
   "cell_type": "code",
   "execution_count": 19,
   "metadata": {},
   "outputs": [],
   "source": [
    "import tenpy\n",
    "import tenpy.linalg.np_conserved as npc\n",
    "from tenpy.algorithms import dmrg\n",
    "from tenpy.networks.mps import MPS\n",
    "from tenpy.models.xxz_chain import XXZChain\n",
    "from tenpy.models.tf_ising import TFIChain\n",
    "\n",
    "tenpy.tools.misc.setup_logging(to_stdout=\"INFO\")"
   ]
  },
  {
   "cell_type": "markdown",
   "metadata": {},
   "source": [
    "## Infinite Systems with a modified center: segment boundary conditions\n",
    "\n",
    "\n",
    "For infinite systems, the issue arrises that the overlap of two different states is formally always zero.\n",
    "However, we can look for excitations on a finite \"segment\" in the center and keep everything outside this segment\n",
    "fixed:\n",
    "\n",
    "```\n",
    "fixed left half-infinte chain   |      \"segment\"                        |   fixed right half-infinte chain\n",
    "\n",
    "      ... --A[-3]--A[-2]--A[-1]--C[0]--C[1]--C[2]-- ... --C[L-2]--C[L-1]--B[L]--B[L+1]--B[L+2]-- ...\n",
    "```\n",
    "Here, all the `A` of the left half-chain have to be in left-canonical form, all the `B` on the right are right-canonical, and the `C` can be in any canonical form, with a center matrix somewhere (where we do DMRG).\n",
    "Since we keep the `A` and `B` fixed, the overlap with a state of modified `C` is well definied again, and we can use the same trick to orhtogonalize against previously found states.\n",
    "\n",
    "In DMRG, we can acchieve this situation by just fixing the environments at the boundaries of the segment.\n",
    "If we take trivial boundaries on one of the two sides, we can study the boundary of a half-infinite chain."
   ]
  },
  {
   "cell_type": "code",
   "execution_count": 20,
   "metadata": {},
   "outputs": [],
   "source": [
    "from tenpy.models.lattice import TrivialLattice\n",
    "from tenpy.models.model import MPOModel\n",
    "from tenpy.networks.mpo import MPOEnvironment"
   ]
  },
  {
   "cell_type": "code",
   "execution_count": 21,
   "metadata": {},
   "outputs": [
    {
     "name": "stdout",
     "output_type": "stream",
     "text": [
      "INFO    : TFIChain: reading 'bc_MPS'='infinite'\n",
      "INFO    : TFIChain: reading 'conserve'='best'\n",
      "INFO    : TFIChain: set conserve to parity\n",
      "INFO    : TFIChain: reading 'L'=2\n",
      "INFO    : TFIChain: reading 'J'=1.0\n",
      "INFO    : TFIChain: reading 'g'=1.5\n"
     ]
    }
   ],
   "source": [
    "model_params = {\n",
    "    'J': 1. , 'g': 1.5, \n",
    "    'L': 2,\n",
    "    'bc_MPS': 'infinite',\n",
    "    'conserve': 'best',\n",
    "}\n",
    "\n",
    "M_i = TFIChain(model_params)"
   ]
  },
  {
   "cell_type": "code",
   "execution_count": 22,
   "metadata": {
    "scrolled": true
   },
   "outputs": [
    {
     "name": "stdout",
     "output_type": "stream",
     "text": [
      "INFO    : TwoSiteDMRGEngine: subconfig 'trunc_params'=Config(<2 options>, 'trunc_params')\n",
      "INFO    : start environment_sweep\n",
      "INFO    : trunc_params: reading 'chi_max'=100\n",
      "INFO    : trunc_params: reading 'svd_min'=1e-10\n",
      "INFO    : TwoSiteDMRGEngine: reading 'mixer'=True\n",
      "INFO    : activate DensityMatrixMixer with initial amplitude 1e-05\n",
      "INFO    : Running sweep with optimization\n",
      "INFO    : start environment_sweep\n",
      "INFO    : checkpoint after sweep 10\n",
      "energy=-1.6719262215362249, max S=0.1534954326661218, age=128, norm_err=6.9e-16\n",
      "Current memory usage 271.2MB, wall time: 0.5s\n",
      "Delta E = nan, Delta S = 1.5350e-02 (per sweep)\n",
      "max trunc_err = 3.4586e-20, max E_trunc = 8.5265e-14\n",
      "chi: [21, 21]\n",
      "================================================================================\n",
      "INFO    : Running sweep with optimization\n",
      "INFO    : start environment_sweep\n",
      "INFO    : checkpoint after sweep 20\n",
      "energy=-1.6719262215362534, max S=0.1534917776136637, age=248, norm_err=1.2e-15\n",
      "Current memory usage 271.2MB, wall time: 0.8s\n",
      "Delta E = -2.8422e-15, Delta S = -3.6551e-07 (per sweep)\n",
      "max trunc_err = 2.3338e-20, max E_trunc = 2.8422e-13\n",
      "chi: [24, 23]\n",
      "================================================================================\n",
      "INFO    : TwoSiteDMRGEngine: reading 'max_E_err'=1e-10\n",
      "INFO    : TwoSiteDMRGEngine: Convergence criterion reached with enabled mixer. Disable mixer and continue.\n",
      "INFO    : deactivate DensityMatrixMixer with final amplitude 1.5624999999999996e-07\n",
      "INFO    : Running sweep with optimization\n",
      "INFO    : start environment_sweep\n",
      "INFO    : checkpoint after sweep 30\n",
      "energy=-1.6719262215361397, max S=0.1534912555392888, age=368, norm_err=5.0e-16\n",
      "Current memory usage 271.2MB, wall time: 0.3s\n",
      "Delta E = 1.1369e-14, Delta S = -5.2207e-08 (per sweep)\n",
      "max trunc_err = 2.0725e-20, max E_trunc = 2.2737e-13\n",
      "chi: [21, 21]\n",
      "================================================================================\n",
      "INFO    : TwoSiteDMRGEngine finished after 30 sweeps, max chi=21\n"
     ]
    }
   ],
   "source": [
    "# first dmrg run for *infinite* lattice\n",
    "psi0_i = MPS.from_lat_product_state(M_i.lat, [['up']])\n",
    "\n",
    "dmrg_params = {\n",
    "    'mixer': True,\n",
    "    'max_E_err': 1.e-10,\n",
    "    'trunc_params': {\n",
    "        'chi_max': 100,\n",
    "        'svd_min': 1.e-10,\n",
    "    },\n",
    "}\n",
    "eng0_i = dmrg.TwoSiteDMRGEngine(psi0_i, M_i, dmrg_params) \n",
    "E0_i, _ = eng0_i.run()\n",
    "resume_psi0_i = eng0_i.get_resume_data(sequential_simulations=True)"
   ]
  },
  {
   "cell_type": "code",
   "execution_count": 23,
   "metadata": {},
   "outputs": [
    {
     "data": {
      "text/plain": [
       "{'psi': <tenpy.networks.mps.MPS at 0x73cded3b9a50>,\n",
       " 'sequential_simulations': True,\n",
       " 'init_env_data': {'init_LP': <npc.Array shape=(21, 3, 21) labels=['vR*', 'wR', 'vR']>,\n",
       "  'age_LP': 184,\n",
       "  'init_RP': <npc.Array shape=(21, 3, 21) labels=['vL', 'wL', 'vL*']>,\n",
       "  'age_RP': 184}}"
      ]
     },
     "execution_count": 23,
     "metadata": {},
     "output_type": "execute_result"
    }
   ],
   "source": [
    "resume_psi0_i"
   ]
  },
  {
   "cell_type": "code",
   "execution_count": 24,
   "metadata": {},
   "outputs": [
    {
     "data": {
      "text/plain": [
       "array([0.15349, 0.15349])"
      ]
     },
     "execution_count": 24,
     "metadata": {},
     "output_type": "execute_result"
    }
   ],
   "source": [
    "psi0_i.entanglement_entropy()"
   ]
  },
  {
   "cell_type": "code",
   "execution_count": 25,
   "metadata": {},
   "outputs": [],
   "source": [
    "enlarge = 10  # this is a parameter: how large should the \"segment\" be?\n",
    "# beware: if you have gapless excitations, this will induce a \"finite-size\" gap ~ 1/(enlarge*N_sites_per_unit_cell)\n",
    "\n",
    "M_s = M_i.extract_segment(enlarge=10)\n",
    "first, last = M_s.lat.segment_first_last\n",
    "\n",
    "\n",
    "psi0_s = psi0_i.extract_segment(first, last)\n",
    "init_env_data = eng0_i.env.get_initialization_data(first, last)\n",
    "\n",
    "psi1_s = psi0_s.copy()  # TODO: perturb this a little bit\n",
    "resume_psi1_s = {'init_env_data': init_env_data}\n"
   ]
  },
  {
   "cell_type": "markdown",
   "metadata": {},
   "source": [
    "Note: there is a somewhat arbitrary constant in the energy depending on the number of contracted sites in the environment. You should only compare energy differences!"
   ]
  },
  {
   "cell_type": "code",
   "execution_count": 26,
   "metadata": {
    "scrolled": true
   },
   "outputs": [
    {
     "name": "stdout",
     "output_type": "stream",
     "text": [
      "INFO    : TwoSiteDMRGEngine: reading 'diag_method'='default'\n",
      "INFO    : TwoSiteDMRGEngine: subconfig 'trunc_params'=Config(<5 options>, 'trunc_params')\n",
      "INFO    : TwoSiteDMRGEngine: reading 'max_N_sites_per_ring'=18\n",
      "INFO    : TwoSiteDMRGEngine: reading 'combine'=False\n",
      "INFO    : TwoSiteDMRGEngine: subconfig 'lanczos_params'=Config(<9 options>, 'lanczos_params')\n",
      "INFO    : TwoSiteDMRGEngine: reading 'chi_list'=None\n",
      "INFO    : TwoSiteDMRGEngine: reading 'N_sweeps_check'=10\n",
      "INFO    : TwoSiteDMRGEngine: subconfig 'mixer_params'=Config(<3 options>, 'mixer_params')\n",
      "INFO    : TwoSiteDMRGEngine: reading 'mixer'=True\n",
      "INFO    : activate DensityMatrixMixer with initial amplitude 1e-05\n",
      "INFO    : TwoSiteDMRGEngine: reading 'max_sweeps'=1000\n",
      "INFO    : TwoSiteDMRGEngine: reading 'max_hours'=8760\n",
      "INFO    : TwoSiteDMRGEngine: reading 'P_tol_to_trunc'=0.05\n",
      "INFO    : TwoSiteDMRGEngine: reading 'P_tol_min'=5.0000000000000005e-22\n",
      "INFO    : TwoSiteDMRGEngine: reading 'P_tol_max'=0.0001\n",
      "INFO    : TwoSiteDMRGEngine: reading 'E_tol_to_trunc'=None\n",
      "INFO    : Running sweep with optimization\n",
      "INFO    : TwoSiteDMRGEngine: reading 'max_N_for_ED'=400\n"
     ]
    },
    {
     "ename": "AttributeError",
     "evalue": "'NoneType' object has no attribute 'rank'",
     "output_type": "error",
     "traceback": [
      "\u001b[0;31m---------------------------------------------------------------------------\u001b[0m",
      "\u001b[0;31mAttributeError\u001b[0m                            Traceback (most recent call last)",
      "Cell \u001b[0;32mIn[26], line 2\u001b[0m\n\u001b[1;32m      1\u001b[0m eng \u001b[38;5;241m=\u001b[39m dmrg\u001b[38;5;241m.\u001b[39mTwoSiteDMRGEngine(psi1_s, M_s, dmrg_params, resume_data\u001b[38;5;241m=\u001b[39mresume_psi1_s)\n\u001b[0;32m----> 2\u001b[0m E1_s, _ \u001b[38;5;241m=\u001b[39m \u001b[43meng\u001b[49m\u001b[38;5;241;43m.\u001b[39;49m\u001b[43mrun\u001b[49m\u001b[43m(\u001b[49m\u001b[43m)\u001b[49m\n",
      "File \u001b[0;32m~/Desktop/numerical_spt_classification/code/venv/lib/python3.11/site-packages/tenpy/algorithms/dmrg.py:459\u001b[0m, in \u001b[0;36mDMRGEngine.run\u001b[0;34m(self)\u001b[0m\n\u001b[1;32m    448\u001b[0m \u001b[38;5;28;01mdef\u001b[39;00m \u001b[38;5;21mrun\u001b[39m(\u001b[38;5;28mself\u001b[39m):\n\u001b[1;32m    449\u001b[0m \u001b[38;5;250m    \u001b[39m\u001b[38;5;124;03m\"\"\"Run the DMRG simulation to find the ground state.\u001b[39;00m\n\u001b[1;32m    450\u001b[0m \n\u001b[1;32m    451\u001b[0m \u001b[38;5;124;03m    Returns\u001b[39;00m\n\u001b[0;32m   (...)\u001b[0m\n\u001b[1;32m    457\u001b[0m \u001b[38;5;124;03m        i.e. just a reference to :attr:`psi`.\u001b[39;00m\n\u001b[1;32m    458\u001b[0m \u001b[38;5;124;03m    \"\"\"\u001b[39;00m\n\u001b[0;32m--> 459\u001b[0m     \u001b[38;5;28;01mreturn\u001b[39;00m \u001b[38;5;28;43msuper\u001b[39;49m\u001b[43m(\u001b[49m\u001b[43m)\u001b[49m\u001b[38;5;241;43m.\u001b[39;49m\u001b[43mrun\u001b[49m\u001b[43m(\u001b[49m\u001b[43m)\u001b[49m\n",
      "File \u001b[0;32m~/Desktop/numerical_spt_classification/code/venv/lib/python3.11/site-packages/tenpy/algorithms/mps_common.py:779\u001b[0m, in \u001b[0;36mIterativeSweeps.run\u001b[0;34m(self)\u001b[0m\n\u001b[1;32m    777\u001b[0m \u001b[38;5;28;01mif\u001b[39;00m \u001b[38;5;129;01mnot\u001b[39;00m is_first_sweep:\n\u001b[1;32m    778\u001b[0m     \u001b[38;5;28mself\u001b[39m\u001b[38;5;241m.\u001b[39mcheckpoint\u001b[38;5;241m.\u001b[39memit(\u001b[38;5;28mself\u001b[39m)\n\u001b[0;32m--> 779\u001b[0m result \u001b[38;5;241m=\u001b[39m \u001b[38;5;28;43mself\u001b[39;49m\u001b[38;5;241;43m.\u001b[39;49m\u001b[43mrun_iteration\u001b[49m\u001b[43m(\u001b[49m\u001b[43m)\u001b[49m\n\u001b[1;32m    780\u001b[0m \u001b[38;5;28mself\u001b[39m\u001b[38;5;241m.\u001b[39mstatus_update(iteration_start_time\u001b[38;5;241m=\u001b[39miteration_start_time)\n\u001b[1;32m    781\u001b[0m is_first_sweep \u001b[38;5;241m=\u001b[39m \u001b[38;5;28;01mFalse\u001b[39;00m\n",
      "File \u001b[0;32m~/Desktop/numerical_spt_classification/code/venv/lib/python3.11/site-packages/tenpy/algorithms/dmrg.py:307\u001b[0m, in \u001b[0;36mDMRGEngine.run_iteration\u001b[0;34m(self)\u001b[0m\n\u001b[1;32m    305\u001b[0m logger\u001b[38;5;241m.\u001b[39minfo(\u001b[38;5;124m'\u001b[39m\u001b[38;5;124mRunning sweep with optimization\u001b[39m\u001b[38;5;124m'\u001b[39m)\n\u001b[1;32m    306\u001b[0m \u001b[38;5;28;01mfor\u001b[39;00m i \u001b[38;5;129;01min\u001b[39;00m \u001b[38;5;28mrange\u001b[39m(\u001b[38;5;28mself\u001b[39m\u001b[38;5;241m.\u001b[39mN_sweeps_check \u001b[38;5;241m-\u001b[39m \u001b[38;5;241m1\u001b[39m):\n\u001b[0;32m--> 307\u001b[0m     \u001b[38;5;28;43mself\u001b[39;49m\u001b[38;5;241;43m.\u001b[39;49m\u001b[43msweep\u001b[49m\u001b[43m(\u001b[49m\u001b[43mmeas_E_trunc\u001b[49m\u001b[38;5;241;43m=\u001b[39;49m\u001b[38;5;28;43;01mFalse\u001b[39;49;00m\u001b[43m)\u001b[49m\n\u001b[1;32m    308\u001b[0m max_trunc_err \u001b[38;5;241m=\u001b[39m \u001b[38;5;28mself\u001b[39m\u001b[38;5;241m.\u001b[39msweep(meas_E_trunc\u001b[38;5;241m=\u001b[39m\u001b[38;5;28;01mTrue\u001b[39;00m)\n\u001b[1;32m    309\u001b[0m max_E_trunc \u001b[38;5;241m=\u001b[39m np\u001b[38;5;241m.\u001b[39mmax(\u001b[38;5;28mself\u001b[39m\u001b[38;5;241m.\u001b[39mE_trunc_list)\n",
      "File \u001b[0;32m~/Desktop/numerical_spt_classification/code/venv/lib/python3.11/site-packages/tenpy/algorithms/dmrg.py:544\u001b[0m, in \u001b[0;36mDMRGEngine.sweep\u001b[0;34m(self, optimize, meas_E_trunc)\u001b[0m\n\u001b[1;32m    538\u001b[0m \u001b[38;5;250m\u001b[39m\u001b[38;5;124;03m\"\"\"One 'sweep' of the algorithm.\u001b[39;00m\n\u001b[1;32m    539\u001b[0m \n\u001b[1;32m    540\u001b[0m \u001b[38;5;124;03mThin wrapper around :meth:`tenpy.algorithms.mps_common.Sweep.sweep` with one additional\u001b[39;00m\n\u001b[1;32m    541\u001b[0m \u001b[38;5;124;03mparameter `meas_E_trunc` specifying whether to measure truncation energies.\u001b[39;00m\n\u001b[1;32m    542\u001b[0m \u001b[38;5;124;03m\"\"\"\u001b[39;00m\n\u001b[1;32m    543\u001b[0m \u001b[38;5;28mself\u001b[39m\u001b[38;5;241m.\u001b[39m_meas_E_trunc \u001b[38;5;241m=\u001b[39m meas_E_trunc\n\u001b[0;32m--> 544\u001b[0m \u001b[38;5;28;01mreturn\u001b[39;00m \u001b[38;5;28;43msuper\u001b[39;49m\u001b[43m(\u001b[49m\u001b[43m)\u001b[49m\u001b[38;5;241;43m.\u001b[39;49m\u001b[43msweep\u001b[49m\u001b[43m(\u001b[49m\u001b[43moptimize\u001b[49m\u001b[43m)\u001b[49m\n",
      "File \u001b[0;32m~/Desktop/numerical_spt_classification/code/venv/lib/python3.11/site-packages/tenpy/algorithms/mps_common.py:381\u001b[0m, in \u001b[0;36mSweep.sweep\u001b[0;34m(self, optimize)\u001b[0m\n\u001b[1;32m    379\u001b[0m     update_data \u001b[38;5;241m=\u001b[39m \u001b[38;5;28mself\u001b[39m\u001b[38;5;241m.\u001b[39mupdate_local(theta, optimize\u001b[38;5;241m=\u001b[39moptimize)\n\u001b[1;32m    380\u001b[0m     \u001b[38;5;28mself\u001b[39m\u001b[38;5;241m.\u001b[39mupdate_env(\u001b[38;5;241m*\u001b[39m\u001b[38;5;241m*\u001b[39mupdate_data)\n\u001b[0;32m--> 381\u001b[0m     \u001b[38;5;28;43mself\u001b[39;49m\u001b[38;5;241;43m.\u001b[39;49m\u001b[43mpost_update_local\u001b[49m\u001b[43m(\u001b[49m\u001b[38;5;241;43m*\u001b[39;49m\u001b[38;5;241;43m*\u001b[39;49m\u001b[43mupdate_data\u001b[49m\u001b[43m)\u001b[49m\n\u001b[1;32m    382\u001b[0m     \u001b[38;5;28mself\u001b[39m\u001b[38;5;241m.\u001b[39mfree_no_longer_needed_envs()\n\u001b[1;32m    384\u001b[0m \u001b[38;5;28;01mif\u001b[39;00m optimize:  \u001b[38;5;66;03m# count optimization sweeps\u001b[39;00m\n",
      "File \u001b[0;32m~/Desktop/numerical_spt_classification/code/venv/lib/python3.11/site-packages/tenpy/algorithms/dmrg.py:632\u001b[0m, in \u001b[0;36mDMRGEngine.post_update_local\u001b[0;34m(self, E0, age, N, ov_change, err, **update_data)\u001b[0m\n\u001b[1;32m    629\u001b[0m \u001b[38;5;28mself\u001b[39m\u001b[38;5;241m.\u001b[39mE_trunc_list\u001b[38;5;241m.\u001b[39mappend(E_trunc)\n\u001b[1;32m    631\u001b[0m \u001b[38;5;28;01mif\u001b[39;00m \u001b[38;5;28mself\u001b[39m\u001b[38;5;241m.\u001b[39mpsi\u001b[38;5;241m.\u001b[39mbc \u001b[38;5;241m==\u001b[39m \u001b[38;5;124m'\u001b[39m\u001b[38;5;124msegment\u001b[39m\u001b[38;5;124m'\u001b[39m:\n\u001b[0;32m--> 632\u001b[0m     \u001b[38;5;28;43mself\u001b[39;49m\u001b[38;5;241;43m.\u001b[39;49m\u001b[43mupdate_segment_boundaries\u001b[49m\u001b[43m(\u001b[49m\u001b[43m)\u001b[49m\n",
      "File \u001b[0;32m~/Desktop/numerical_spt_classification/code/venv/lib/python3.11/site-packages/tenpy/algorithms/dmrg.py:656\u001b[0m, in \u001b[0;36mDMRGEngine.update_segment_boundaries\u001b[0;34m(self)\u001b[0m\n\u001b[1;32m    653\u001b[0m psi\u001b[38;5;241m.\u001b[39mset_B(j, A_new, form\u001b[38;5;241m=\u001b[39m\u001b[38;5;124m'\u001b[39m\u001b[38;5;124mA\u001b[39m\u001b[38;5;124m'\u001b[39m)\n\u001b[1;32m    655\u001b[0m old_UL, old_VR \u001b[38;5;241m=\u001b[39m psi\u001b[38;5;241m.\u001b[39msegment_boundaries\n\u001b[0;32m--> 656\u001b[0m new_UL \u001b[38;5;241m=\u001b[39m \u001b[43mnpc\u001b[49m\u001b[38;5;241;43m.\u001b[39;49m\u001b[43mtensordot\u001b[49m\u001b[43m(\u001b[49m\u001b[43mold_UL\u001b[49m\u001b[43m,\u001b[49m\u001b[43m \u001b[49m\u001b[43mU\u001b[49m\u001b[43m,\u001b[49m\u001b[43m \u001b[49m\u001b[43maxes\u001b[49m\u001b[38;5;241;43m=\u001b[39;49m\u001b[43m[\u001b[49m\u001b[38;5;124;43m'\u001b[39;49m\u001b[38;5;124;43mvR\u001b[39;49m\u001b[38;5;124;43m'\u001b[39;49m\u001b[43m,\u001b[49m\u001b[43m \u001b[49m\u001b[38;5;124;43m'\u001b[39;49m\u001b[38;5;124;43mvL\u001b[39;49m\u001b[38;5;124;43m'\u001b[39;49m\u001b[43m]\u001b[49m\u001b[43m)\u001b[49m\n\u001b[1;32m    657\u001b[0m psi\u001b[38;5;241m.\u001b[39msegment_boundaries \u001b[38;5;241m=\u001b[39m (new_UL, old_VR)\n\u001b[1;32m    659\u001b[0m \u001b[38;5;28;01mfor\u001b[39;00m env \u001b[38;5;129;01min\u001b[39;00m \u001b[38;5;28mself\u001b[39m\u001b[38;5;241m.\u001b[39m_all_envs:\n",
      "File \u001b[0;32m~/Desktop/numerical_spt_classification/code/venv/lib/python3.11/site-packages/tenpy/linalg/np_conserved.py:3476\u001b[0m, in \u001b[0;36mtensordot\u001b[0;34m(a, b, axes)\u001b[0m\n\u001b[1;32m   3448\u001b[0m \u001b[38;5;250m\u001b[39m\u001b[38;5;124;03m\"\"\"Similar as ``np.tensordot`` but for :class:`Array`.\u001b[39;00m\n\u001b[1;32m   3449\u001b[0m \n\u001b[1;32m   3450\u001b[0m \u001b[38;5;124;03mBuilds the tensor product of `a` and `b` and sums over the specified axes.\u001b[39;00m\n\u001b[0;32m   (...)\u001b[0m\n\u001b[1;32m   3473\u001b[0m \u001b[38;5;124;03m    Returns a scalar in case of a full contraction.\u001b[39;00m\n\u001b[1;32m   3474\u001b[0m \u001b[38;5;124;03m\"\"\"\u001b[39;00m\n\u001b[1;32m   3475\u001b[0m \u001b[38;5;66;03m# for details on the implementation, see _tensordot_worker.\u001b[39;00m\n\u001b[0;32m-> 3476\u001b[0m a, b, axes \u001b[38;5;241m=\u001b[39m \u001b[43m_tensordot_transpose_axes\u001b[49m\u001b[43m(\u001b[49m\u001b[43ma\u001b[49m\u001b[43m,\u001b[49m\u001b[43m \u001b[49m\u001b[43mb\u001b[49m\u001b[43m,\u001b[49m\u001b[43m \u001b[49m\u001b[43maxes\u001b[49m\u001b[43m)\u001b[49m\n\u001b[1;32m   3478\u001b[0m \u001b[38;5;66;03m# optimize/check for special cases\u001b[39;00m\n\u001b[1;32m   3479\u001b[0m no_block \u001b[38;5;241m=\u001b[39m (a\u001b[38;5;241m.\u001b[39mstored_blocks \u001b[38;5;241m==\u001b[39m \u001b[38;5;241m0\u001b[39m \u001b[38;5;129;01mor\u001b[39;00m b\u001b[38;5;241m.\u001b[39mstored_blocks \u001b[38;5;241m==\u001b[39m \u001b[38;5;241m0\u001b[39m)  \u001b[38;5;66;03m# result is zero\u001b[39;00m\n",
      "File \u001b[0;32m~/Desktop/numerical_spt_classification/code/venv/lib/python3.11/site-packages/tenpy/linalg/_npc_helper.pyx:1261\u001b[0m, in \u001b[0;36mtenpy.linalg._npc_helper._tensordot_transpose_axes\u001b[0;34m()\u001b[0m\n",
      "\u001b[0;31mAttributeError\u001b[0m: 'NoneType' object has no attribute 'rank'"
     ]
    }
   ],
   "source": [
    "eng = dmrg.TwoSiteDMRGEngine(psi1_s, M_s, dmrg_params, resume_data=resume_psi1_s)\n",
    "E1_s, _ = eng.run()"
   ]
  },
  {
   "cell_type": "code",
   "execution_count": null,
   "metadata": {},
   "outputs": [],
   "source": [
    "psi1_s.entanglement_entropy()"
   ]
  },
  {
   "cell_type": "code",
   "execution_count": null,
   "metadata": {},
   "outputs": [],
   "source": [
    "psi1_s.entanglement_entropy() - np.mean(psi0_i.entanglement_entropy())"
   ]
  },
  {
   "cell_type": "code",
   "execution_count": null,
   "metadata": {},
   "outputs": [],
   "source": [
    "\n"
   ]
  },
  {
   "cell_type": "markdown",
   "metadata": {},
   "source": [
    "## project left boundary onto largest right schmidt state, use trivial/finite left bc"
   ]
  },
  {
   "cell_type": "code",
   "execution_count": null,
   "metadata": {},
   "outputs": [],
   "source": [
    "psi_halfinf = psi0_s.copy()  # the oringinal MPS\n",
    "S = psi0_s.get_SL(0)\n",
    "proj = np.zeros(len(S), bool)\n",
    "proj[np.argmax(S)] = True\n",
    "B = psi_halfinf.get_B(0, form='B')\n",
    "B.iproject(proj, 'vL')\n",
    "psi_halfinf.set_B(0, B, form='B')\n",
    "psi_halfinf.set_SL(0, np.ones(1, float))\n",
    "psi_halfinf.canonical_form_finite()\n",
    "psi_halfinf.test_sanity()\n",
    "\n",
    "init_env_data_halfinf = init_env_data.copy()\n",
    "init_env_data_halfinf['init_LP'] = MPOEnvironment(psi0_i, M_i.H_MPO, psi0_i).init_LP(0, 0)\n",
    "init_env_data_halfinf['age_LP'] = 0"
   ]
  },
  {
   "cell_type": "code",
   "execution_count": null,
   "metadata": {},
   "outputs": [],
   "source": [
    "eng_halfinf = dmrg.TwoSiteDMRGEngine(psi_halfinf, M_s, dmrg_params,\n",
    "                                     resume_data={'init_env_data': init_env_data_halfinf})\n",
    "eng_halfinf.run()"
   ]
  },
  {
   "cell_type": "code",
   "execution_count": null,
   "metadata": {},
   "outputs": [],
   "source": [
    "psi_halfinf.entanglement_entropy()"
   ]
  },
  {
   "cell_type": "code",
   "execution_count": null,
   "metadata": {},
   "outputs": [],
   "source": [
    "psi_halfinf.expectation_value('Sigmaz')"
   ]
  },
  {
   "cell_type": "code",
   "execution_count": null,
   "metadata": {},
   "outputs": [],
   "source": [
    "psi_halfinf.L"
   ]
  },
  {
   "cell_type": "markdown",
   "metadata": {},
   "source": [
    "## modify model on left boundary"
   ]
  },
  {
   "cell_type": "code",
   "execution_count": null,
   "metadata": {},
   "outputs": [],
   "source": [
    "model_params_defect = {\n",
    "    'J': 1. , 'g': [0.] + [model_params['g']] * (psi_halfinf.L-1), \n",
    "    'L': psi_halfinf.L,\n",
    "    'bc_MPS': 'segment',\n",
    "    'conserve': 'best',\n",
    "}\n",
    "\n",
    "M_s_defect = TFIChain(model_params_defect)"
   ]
  },
  {
   "cell_type": "code",
   "execution_count": null,
   "metadata": {},
   "outputs": [],
   "source": [
    "psi_defect = psi_halfinf.copy()\n",
    "eng_defect = dmrg.TwoSiteDMRGEngine(psi_defect, M_s_defect, dmrg_params,\n",
    "                                    resume_data={'init_env_data': init_env_data_halfinf})\n",
    "eng_defect.run()"
   ]
  },
  {
   "cell_type": "code",
   "execution_count": null,
   "metadata": {},
   "outputs": [],
   "source": [
    "psi_defect.entanglement_entropy()"
   ]
  },
  {
   "cell_type": "code",
   "execution_count": null,
   "metadata": {},
   "outputs": [],
   "source": [
    "psi_defect.expectation_value('Sigmaz')"
   ]
  },
  {
   "cell_type": "code",
   "execution_count": null,
   "metadata": {},
   "outputs": [],
   "source": []
  },
  {
   "cell_type": "code",
   "execution_count": null,
   "metadata": {},
   "outputs": [],
   "source": []
  }
 ],
 "metadata": {
  "kernelspec": {
   "display_name": "venv",
   "language": "python",
   "name": "venv"
  },
  "language_info": {
   "codemirror_mode": {
    "name": "ipython",
    "version": 3
   },
   "file_extension": ".py",
   "mimetype": "text/x-python",
   "name": "python",
   "nbconvert_exporter": "python",
   "pygments_lexer": "ipython3",
   "version": "3.11.8"
  }
 },
 "nbformat": 4,
 "nbformat_minor": 4
}
