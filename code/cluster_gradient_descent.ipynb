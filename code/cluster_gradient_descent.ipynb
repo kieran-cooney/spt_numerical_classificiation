{
 "cells": [
  {
   "cell_type": "code",
   "execution_count": 5,
   "id": "c2f8ac38-4bcb-42a7-b54b-9114ea18a1cc",
   "metadata": {},
   "outputs": [],
   "source": [
    "import numpy as np\n",
    "import matplotlib.pyplot as plt\n",
    "\n",
    "import h5py\n",
    "from tenpy.tools import hdf5_io"
   ]
  },
  {
   "cell_type": "code",
   "execution_count": 6,
   "id": "a13225ce-ed22-429b-a5bc-aaa49adc5b5c",
   "metadata": {},
   "outputs": [],
   "source": [
    "import h5py\n",
    "from tenpy.tools import hdf5_io"
   ]
  },
  {
   "cell_type": "code",
   "execution_count": 4,
   "id": "e10a96f2-4931-4d94-99a0-6f6c20af1335",
   "metadata": {},
   "outputs": [],
   "source": [
    "import os"
   ]
  },
  {
   "cell_type": "code",
   "execution_count": 5,
   "id": "44308769-429d-415c-a33f-c7f14081112c",
   "metadata": {},
   "outputs": [],
   "source": [
    "DATA_DIR = r\"data/cluster_ising_2site_idmrg\""
   ]
  },
  {
   "cell_type": "code",
   "execution_count": 6,
   "id": "65ea4f04-78fb-4bb1-9e83-c90e6372a4c5",
   "metadata": {},
   "outputs": [],
   "source": [
    "loaded_data = list()\n",
    "\n",
    "for local_file_name in os.listdir(DATA_DIR):\n",
    "    f_name = r\"{}/{}\".format(DATA_DIR, local_file_name)\n",
    "    with h5py.File(f_name, 'r') as f:\n",
    "        data = hdf5_io.load_from_hdf5(f)\n",
    "        loaded_data.append(data)"
   ]
  },
  {
   "cell_type": "code",
   "execution_count": 7,
   "id": "f9dbe643-246d-4f98-9c19-d8b8ead73c58",
   "metadata": {},
   "outputs": [
    {
     "data": {
      "text/plain": [
       "{'paramters': {'B': 1.175},\n",
       " 'wavefunction': <tenpy.networks.mps.MPS at 0x7af030856a90>}"
      ]
     },
     "execution_count": 7,
     "metadata": {},
     "output_type": "execute_result"
    }
   ],
   "source": [
    "loaded_data[0]"
   ]
  },
  {
   "cell_type": "code",
   "execution_count": 9,
   "id": "42d69d21-9652-4e33-bca7-21363090a4bb",
   "metadata": {},
   "outputs": [],
   "source": [
    "psi = next(d['wavefunction'] for d in loaded_data if d['paramters']['B'] == 0)"
   ]
  },
  {
   "cell_type": "code",
   "execution_count": 10,
   "id": "66f4b30e-0995-43a0-b9f1-3efafe2aa41b",
   "metadata": {},
   "outputs": [
    {
     "data": {
      "text/plain": [
       "<tenpy.networks.mps.MPS at 0x7af02fb6d250>"
      ]
     },
     "execution_count": 10,
     "metadata": {},
     "output_type": "execute_result"
    }
   ],
   "source": [
    "psi"
   ]
  },
  {
   "cell_type": "code",
   "execution_count": 11,
   "id": "a5f2b9bd-249c-4cdc-bc03-3a5552631fa2",
   "metadata": {},
   "outputs": [
    {
     "name": "stdout",
     "output_type": "stream",
     "text": [
      "<npc.Array shape=(2, 2, 2) labels=['vL', 'p', 'vR']\n",
      "charge=ChargeInfo([], [])\n",
      " +1 | +1 | -1 \n",
      "0 []|0 []|0 []\n",
      "2   |2   |2   \n",
      "[[[ 0.74313472 -0.31769339]\n",
      "  [-0.23149703 -0.54150791]]\n",
      "\n",
      " [[ 0.54150791 -0.23149703]\n",
      "  [ 0.31769339  0.74313472]]]\n",
      ">\n"
     ]
    }
   ],
   "source": [
    "print(psi.get_B(0))"
   ]
  },
  {
   "cell_type": "code",
   "execution_count": 12,
   "id": "b9133b4e-cb6d-4cf2-a0af-db34affda856",
   "metadata": {},
   "outputs": [
    {
     "name": "stdout",
     "output_type": "stream",
     "text": [
      "<npc.Array shape=(2, 2, 2) labels=['vL', 'p', 'vR']\n",
      "charge=ChargeInfo([], [])\n",
      " +1 | +1 | -1 \n",
      "0 []|0 []|0 []\n",
      "2   |2   |2   \n",
      "[[[-0.36772611  0.05771523]\n",
      "  [-0.14391159 -0.91691653]]\n",
      "\n",
      " [[ 0.91691653 -0.14391159]\n",
      "  [-0.05771523 -0.36772611]]]\n",
      ">\n"
     ]
    }
   ],
   "source": [
    "print(psi.get_B(1))"
   ]
  },
  {
   "cell_type": "markdown",
   "id": "64051865-5369-4824-8f43-c012a09a474d",
   "metadata": {},
   "source": [
    "# Comments\n",
    "* Boundary conditions become important. Have an infinite MPS but a finite/segment MPO to operate with. But I think it's ok to calculate in a \"finite\" way?\n",
    "    * Try mpo.expectation_value_power method?"
   ]
  },
  {
   "cell_type": "code",
   "execution_count": 2,
   "id": "974c96bc-c131-46fa-94b4-2dd4152b5b6a",
   "metadata": {},
   "outputs": [],
   "source": [
    "from tenpy.networks.mpo import MPO\n",
    "from tenpy.linalg.np_conserved import Array as npc_Array\n",
    "from tenpy.networks.site import SpinHalfSite\n",
    "from tenpy.linalg.charges import LegCharge"
   ]
  },
  {
   "cell_type": "code",
   "execution_count": 3,
   "id": "52124733-8efb-406d-9022-7208bab6e456",
   "metadata": {},
   "outputs": [
    {
     "ename": "NameError",
     "evalue": "name 'np' is not defined",
     "output_type": "error",
     "traceback": [
      "\u001b[0;31m---------------------------------------------------------------------------\u001b[0m",
      "\u001b[0;31mNameError\u001b[0m                                 Traceback (most recent call last)",
      "Cell \u001b[0;32mIn[3], line 1\u001b[0m\n\u001b[0;32m----> 1\u001b[0m U \u001b[38;5;241m=\u001b[39m \u001b[43mnp\u001b[49m\u001b[38;5;241m.\u001b[39midentity(\u001b[38;5;241m2\u001b[39m)\n",
      "\u001b[0;31mNameError\u001b[0m: name 'np' is not defined"
     ]
    }
   ],
   "source": [
    "U = np.identity(2)"
   ]
  },
  {
   "cell_type": "code",
   "execution_count": 4,
   "id": "a0c61f85-e74b-4b78-a5b4-ecf6882450a4",
   "metadata": {},
   "outputs": [
    {
     "ename": "NameError",
     "evalue": "name 'U' is not defined",
     "output_type": "error",
     "traceback": [
      "\u001b[0;31m---------------------------------------------------------------------------\u001b[0m",
      "\u001b[0;31mNameError\u001b[0m                                 Traceback (most recent call last)",
      "Cell \u001b[0;32mIn[4], line 1\u001b[0m\n\u001b[0;32m----> 1\u001b[0m \u001b[43mU\u001b[49m[np\u001b[38;5;241m.\u001b[39mnewaxis, np\u001b[38;5;241m.\u001b[39mnewaxis, \u001b[38;5;241m.\u001b[39m\u001b[38;5;241m.\u001b[39m\u001b[38;5;241m.\u001b[39m]\n",
      "\u001b[0;31mNameError\u001b[0m: name 'U' is not defined"
     ]
    }
   ],
   "source": [
    "U[np.newaxis, np.newaxis, ...]"
   ]
  },
  {
   "cell_type": "code",
   "execution_count": 1,
   "id": "efe737d2-90b7-4c2b-beef-e97277afe4cf",
   "metadata": {},
   "outputs": [
    {
     "ename": "NameError",
     "evalue": "name 'npc_Array' is not defined",
     "output_type": "error",
     "traceback": [
      "\u001b[0;31m---------------------------------------------------------------------------\u001b[0m",
      "\u001b[0;31mNameError\u001b[0m                                 Traceback (most recent call last)",
      "Cell \u001b[0;32mIn[1], line 2\u001b[0m\n\u001b[1;32m      1\u001b[0m npc_U \u001b[38;5;241m=\u001b[39m (\n\u001b[0;32m----> 2\u001b[0m     \u001b[43mnpc_Array\u001b[49m\n\u001b[1;32m      3\u001b[0m     \u001b[38;5;241m.\u001b[39mfrom_ndarray_trivial(\n\u001b[1;32m      4\u001b[0m         U,\n\u001b[1;32m      5\u001b[0m         dtype\u001b[38;5;241m=\u001b[39mnp\u001b[38;5;241m.\u001b[39mcomplex_,\n\u001b[1;32m      6\u001b[0m         labels\u001b[38;5;241m=\u001b[39m[\u001b[38;5;124m'\u001b[39m\u001b[38;5;124mp\u001b[39m\u001b[38;5;124m'\u001b[39m, \u001b[38;5;124m'\u001b[39m\u001b[38;5;124mp*\u001b[39m\u001b[38;5;124m'\u001b[39m]\n\u001b[1;32m      7\u001b[0m     )\n\u001b[1;32m      8\u001b[0m )\n",
      "\u001b[0;31mNameError\u001b[0m: name 'npc_Array' is not defined"
     ]
    }
   ],
   "source": [
    "npc_U = (\n",
    "    npc_Array\n",
    "    .from_ndarray_trivial(\n",
    "        U[np.newaxis, np.newaxis, ...],\n",
    "        dtype=np.complex_,\n",
    "        labels=['wL', 'wR', 'p', 'p*']\n",
    "    )\n",
    ")"
   ]
  },
  {
   "cell_type": "code",
   "execution_count": 32,
   "id": "dcc32053-7554-4067-83ed-f7827f7801b4",
   "metadata": {},
   "outputs": [
    {
     "name": "stdout",
     "output_type": "stream",
     "text": [
      "<npc.Array shape=(1, 1, 2, 2) labels=['wL', 'wR', 'p', 'p*']\n",
      "charge=ChargeInfo([], [])\n",
      " +1 | +1 | +1 | +1 \n",
      "0 []|0 []|0 []|0 []\n",
      "1   |1   |2   |2   \n",
      "[[[[1.+0.j 0.+0.j]\n",
      "   [0.+0.j 1.+0.j]]]]\n",
      ">\n"
     ]
    }
   ],
   "source": [
    "print(npc_U)"
   ]
  },
  {
   "cell_type": "code",
   "execution_count": 33,
   "id": "073072d4-0101-434c-97e2-6b395c1352e7",
   "metadata": {},
   "outputs": [],
   "source": [
    "X = np.array([[0,1],[1,0]])"
   ]
  },
  {
   "cell_type": "code",
   "execution_count": 34,
   "id": "f600d103-3446-4be7-a80a-ed413f50a3ff",
   "metadata": {},
   "outputs": [],
   "source": [
    "npc_X = (\n",
    "    npc_Array\n",
    "    .from_ndarray_trivial(\n",
    "        X[np.newaxis, np.newaxis, ...],\n",
    "        dtype=np.complex_,\n",
    "        labels=['wL', 'wR', 'p', 'p*']\n",
    "    )\n",
    ")"
   ]
  },
  {
   "cell_type": "code",
   "execution_count": 35,
   "id": "623f89b8-b611-4bfc-a892-4cd49387e7d9",
   "metadata": {},
   "outputs": [
    {
     "name": "stdout",
     "output_type": "stream",
     "text": [
      "<npc.Array shape=(1, 1, 2, 2) labels=['wL', 'wR', 'p', 'p*']\n",
      "charge=ChargeInfo([], [])\n",
      " +1 | +1 | +1 | +1 \n",
      "0 []|0 []|0 []|0 []\n",
      "1   |1   |2   |2   \n",
      "[[[[0.+0.j 1.+0.j]\n",
      "   [1.+0.j 0.+0.j]]]]\n",
      ">\n"
     ]
    }
   ],
   "source": [
    "print(npc_X)"
   ]
  },
  {
   "cell_type": "code",
   "execution_count": 36,
   "id": "b9a867e7-483d-4242-9059-198394f650f9",
   "metadata": {},
   "outputs": [],
   "source": [
    "I = np.identity(2)"
   ]
  },
  {
   "cell_type": "code",
   "execution_count": 37,
   "id": "59d0b202-b7fc-4524-8a1b-de007d5b77de",
   "metadata": {},
   "outputs": [],
   "source": [
    "npc_I = (\n",
    "    npc_Array\n",
    "    .from_ndarray_trivial(\n",
    "        I[np.newaxis, np.newaxis, ...],\n",
    "        dtype=np.complex_,\n",
    "        labels=['wL', 'wR', 'p', 'p*']\n",
    "    )\n",
    ")"
   ]
  },
  {
   "cell_type": "code",
   "execution_count": 38,
   "id": "761c489c-7f8a-4dbe-9129-d51c2dd52cb2",
   "metadata": {},
   "outputs": [],
   "source": [
    "site = SpinHalfSite(conserve=None)\n",
    "mpo_U = MPO(\n",
    "    [site,]*5,\n",
    "    [npc_U, npc_X, npc_I, npc_X, npc_U]\n",
    ")"
   ]
  },
  {
   "cell_type": "code",
   "execution_count": 41,
   "id": "a4654a33-9144-4519-a096-e3b44dd5aa94",
   "metadata": {},
   "outputs": [
    {
     "data": {
      "text/plain": [
       "'infinite'"
      ]
     },
     "execution_count": 41,
     "metadata": {},
     "output_type": "execute_result"
    }
   ],
   "source": [
    "psi.bc"
   ]
  },
  {
   "cell_type": "code",
   "execution_count": 39,
   "id": "cbdf2164-d91d-4b81-a56e-bfbfef8b8ec5",
   "metadata": {},
   "outputs": [
    {
     "ename": "ValueError",
     "evalue": "Only makes sense for infinite MPS",
     "output_type": "error",
     "traceback": [
      "\u001b[0;31m---------------------------------------------------------------------------\u001b[0m",
      "\u001b[0;31mValueError\u001b[0m                                Traceback (most recent call last)",
      "Cell \u001b[0;32mIn[39], line 1\u001b[0m\n\u001b[0;32m----> 1\u001b[0m \u001b[43mmpo_U\u001b[49m\u001b[38;5;241;43m.\u001b[39;49m\u001b[43mexpectation_value\u001b[49m\u001b[43m(\u001b[49m\u001b[43mpsi\u001b[49m\u001b[43m)\u001b[49m\n",
      "File \u001b[0;32m~/Desktop/numerical_spt_classification/code/venv/lib/python3.11/site-packages/tenpy/networks/mpo.py:747\u001b[0m, in \u001b[0;36mMPO.expectation_value\u001b[0;34m(self, psi, tol, max_range, init_env_data)\u001b[0m\n\u001b[1;32m    722\u001b[0m \u001b[38;5;250m\u001b[39m\u001b[38;5;124;03m\"\"\"Calculate ``<psi|self|psi>/<psi|psi>`` (or density for infinite).\u001b[39;00m\n\u001b[1;32m    723\u001b[0m \n\u001b[1;32m    724\u001b[0m \u001b[38;5;124;03mFor infinite MPS, it **assumes** that `self` is extensive, e.g. a Hamiltonian\u001b[39;00m\n\u001b[0;32m   (...)\u001b[0m\n\u001b[1;32m    744\u001b[0m \u001b[38;5;124;03m    For an infinite MPS: the (energy) density per site.\u001b[39;00m\n\u001b[1;32m    745\u001b[0m \u001b[38;5;124;03m\"\"\"\u001b[39;00m\n\u001b[1;32m    746\u001b[0m \u001b[38;5;28;01mif\u001b[39;00m \u001b[38;5;28mself\u001b[39m\u001b[38;5;241m.\u001b[39mfinite:\n\u001b[0;32m--> 747\u001b[0m     \u001b[38;5;28;01mreturn\u001b[39;00m \u001b[38;5;28;43mself\u001b[39;49m\u001b[38;5;241;43m.\u001b[39;49m\u001b[43mexpectation_value_finite\u001b[49m\u001b[43m(\u001b[49m\u001b[43mpsi\u001b[49m\u001b[43m,\u001b[49m\u001b[43m \u001b[49m\u001b[38;5;241;43m*\u001b[39;49m\u001b[38;5;241;43m*\u001b[39;49m\u001b[43minit_env_data\u001b[49m\u001b[43m)\u001b[49m\n\u001b[1;32m    748\u001b[0m \u001b[38;5;28;01melif\u001b[39;00m \u001b[38;5;28mself\u001b[39m\u001b[38;5;241m.\u001b[39mmax_range \u001b[38;5;129;01mis\u001b[39;00m \u001b[38;5;28;01mNone\u001b[39;00m \u001b[38;5;129;01mor\u001b[39;00m \u001b[38;5;28mself\u001b[39m\u001b[38;5;241m.\u001b[39mmax_range \u001b[38;5;241m>\u001b[39m \u001b[38;5;241m10\u001b[39m \u001b[38;5;241m*\u001b[39m \u001b[38;5;28mself\u001b[39m\u001b[38;5;241m.\u001b[39mL:\n\u001b[1;32m    749\u001b[0m     \u001b[38;5;28;01mreturn\u001b[39;00m \u001b[38;5;28mself\u001b[39m\u001b[38;5;241m.\u001b[39mexpectation_value_TM(psi, tol\u001b[38;5;241m=\u001b[39mtol, \u001b[38;5;241m*\u001b[39m\u001b[38;5;241m*\u001b[39minit_env_data)\n",
      "File \u001b[0;32m~/Desktop/numerical_spt_classification/code/venv/lib/python3.11/site-packages/tenpy/networks/mpo.py:775\u001b[0m, in \u001b[0;36mMPO.expectation_value_finite\u001b[0;34m(self, psi, init_env_data)\u001b[0m\n\u001b[1;32m    771\u001b[0m         init_env_data[\u001b[38;5;124m'\u001b[39m\u001b[38;5;124mstart_env_sites\u001b[39m\u001b[38;5;124m'\u001b[39m] \u001b[38;5;241m=\u001b[39m \u001b[38;5;241m0\u001b[39m\n\u001b[1;32m    772\u001b[0m         warnings\u001b[38;5;241m.\u001b[39mwarn(\u001b[38;5;124m\"\u001b[39m\u001b[38;5;124mMPO.expectation_value(psi) with segment psi needs environments! \u001b[39m\u001b[38;5;124m\"\u001b[39m\n\u001b[1;32m    773\u001b[0m                       \u001b[38;5;124m\"\u001b[39m\u001b[38;5;124mCan only estimate value completely ignoring contributions \u001b[39m\u001b[38;5;124m\"\u001b[39m\n\u001b[1;32m    774\u001b[0m                       \u001b[38;5;124m\"\u001b[39m\u001b[38;5;124macross segment boundaries!\u001b[39m\u001b[38;5;124m\"\u001b[39m)\n\u001b[0;32m--> 775\u001b[0m env \u001b[38;5;241m=\u001b[39m \u001b[43mMPOEnvironment\u001b[49m\u001b[43m(\u001b[49m\u001b[43mpsi\u001b[49m\u001b[43m,\u001b[49m\u001b[43m \u001b[49m\u001b[38;5;28;43mself\u001b[39;49m\u001b[43m,\u001b[49m\u001b[43m \u001b[49m\u001b[43mpsi\u001b[49m\u001b[43m,\u001b[49m\u001b[43m \u001b[49m\u001b[38;5;241;43m*\u001b[39;49m\u001b[38;5;241;43m*\u001b[39;49m\u001b[43minit_env_data\u001b[49m\u001b[43m)\u001b[49m\n\u001b[1;32m    776\u001b[0m val \u001b[38;5;241m=\u001b[39m env\u001b[38;5;241m.\u001b[39mfull_contraction(\u001b[38;5;241m0\u001b[39m)  \u001b[38;5;66;03m# handles explicit_plus_hc\u001b[39;00m\n\u001b[1;32m    777\u001b[0m \u001b[38;5;28;01mreturn\u001b[39;00m np\u001b[38;5;241m.\u001b[39mreal_if_close(val)\n",
      "File \u001b[0;32m~/Desktop/numerical_spt_classification/code/venv/lib/python3.11/site-packages/tenpy/networks/mpo.py:2118\u001b[0m, in \u001b[0;36mMPOEnvironment.__init__\u001b[0;34m(self, bra, H, ket, cache, **init_env_data)\u001b[0m\n\u001b[1;32m   2116\u001b[0m \u001b[38;5;28;01mdef\u001b[39;00m \u001b[38;5;21m__init__\u001b[39m(\u001b[38;5;28mself\u001b[39m, bra, H, ket, cache\u001b[38;5;241m=\u001b[39m\u001b[38;5;28;01mNone\u001b[39;00m, \u001b[38;5;241m*\u001b[39m\u001b[38;5;241m*\u001b[39minit_env_data):\n\u001b[1;32m   2117\u001b[0m     \u001b[38;5;28mself\u001b[39m\u001b[38;5;241m.\u001b[39mH \u001b[38;5;241m=\u001b[39m H\n\u001b[0;32m-> 2118\u001b[0m     \u001b[38;5;28;43msuper\u001b[39;49m\u001b[43m(\u001b[49m\u001b[43m)\u001b[49m\u001b[38;5;241;43m.\u001b[39;49m\u001b[38;5;21;43m__init__\u001b[39;49m\u001b[43m(\u001b[49m\u001b[43mbra\u001b[49m\u001b[43m,\u001b[49m\u001b[43m \u001b[49m\u001b[43mket\u001b[49m\u001b[43m,\u001b[49m\u001b[43m \u001b[49m\u001b[43mcache\u001b[49m\u001b[43m,\u001b[49m\u001b[43m \u001b[49m\u001b[38;5;241;43m*\u001b[39;49m\u001b[38;5;241;43m*\u001b[39;49m\u001b[43minit_env_data\u001b[49m\u001b[43m)\u001b[49m\n\u001b[1;32m   2119\u001b[0m     \u001b[38;5;28mself\u001b[39m\u001b[38;5;241m.\u001b[39mdtype \u001b[38;5;241m=\u001b[39m np\u001b[38;5;241m.\u001b[39mresult_type(bra\u001b[38;5;241m.\u001b[39mdtype, ket\u001b[38;5;241m.\u001b[39mdtype, H\u001b[38;5;241m.\u001b[39mdtype)\n",
      "File \u001b[0;32m~/Desktop/numerical_spt_classification/code/venv/lib/python3.11/site-packages/tenpy/networks/mps.py:5287\u001b[0m, in \u001b[0;36mBaseEnvironment.__init__\u001b[0;34m(self, bra, ket, cache, **init_env_data)\u001b[0m\n\u001b[1;32m   5284\u001b[0m \u001b[38;5;28;01mif\u001b[39;00m \u001b[38;5;129;01mnot\u001b[39;00m \u001b[38;5;28mself\u001b[39m\u001b[38;5;241m.\u001b[39mcache\u001b[38;5;241m.\u001b[39mlong_term_storage\u001b[38;5;241m.\u001b[39mtrivial \u001b[38;5;129;01mand\u001b[39;00m L \u001b[38;5;241m<\u001b[39m \u001b[38;5;241m8\u001b[39m:\n\u001b[1;32m   5285\u001b[0m     warnings\u001b[38;5;241m.\u001b[39mwarn(\u001b[38;5;124m\"\u001b[39m\u001b[38;5;124mnon-trivial cache for short-length environment: \u001b[39m\u001b[38;5;124m\"\u001b[39m\n\u001b[1;32m   5286\u001b[0m                   \u001b[38;5;124m\"\u001b[39m\u001b[38;5;124mMuch overhead for a little RAM saving. Necessary?\u001b[39m\u001b[38;5;124m\"\u001b[39m)\n\u001b[0;32m-> 5287\u001b[0m \u001b[38;5;28;43mself\u001b[39;49m\u001b[38;5;241;43m.\u001b[39;49m\u001b[43minit_first_LP_last_RP\u001b[49m\u001b[43m(\u001b[49m\u001b[38;5;241;43m*\u001b[39;49m\u001b[38;5;241;43m*\u001b[39;49m\u001b[43minit_env_data\u001b[49m\u001b[43m)\u001b[49m\n\u001b[1;32m   5288\u001b[0m \u001b[38;5;28mself\u001b[39m\u001b[38;5;241m.\u001b[39mtest_sanity()\n",
      "File \u001b[0;32m~/Desktop/numerical_spt_classification/code/venv/lib/python3.11/site-packages/tenpy/networks/mpo.py:2159\u001b[0m, in \u001b[0;36mMPOEnvironment.init_first_LP_last_RP\u001b[0;34m(self, init_LP, init_RP, age_LP, age_RP, start_env_sites)\u001b[0m\n\u001b[1;32m   2156\u001b[0m     warnings\u001b[38;5;241m.\u001b[39mwarn(\u001b[38;5;124m\"\u001b[39m\u001b[38;5;124mcall psi.canonical_form() to regenerate MPO environments from psi\u001b[39m\u001b[38;5;124m\"\u001b[39m\n\u001b[1;32m   2157\u001b[0m                   \u001b[38;5;124mf\u001b[39m\u001b[38;5;124m\"\u001b[39m\u001b[38;5;124m with current norm error \u001b[39m\u001b[38;5;132;01m{\u001b[39;00mnorm_err\u001b[38;5;132;01m:\u001b[39;00m\u001b[38;5;124m.2e\u001b[39m\u001b[38;5;132;01m}\u001b[39;00m\u001b[38;5;124m\"\u001b[39m)\n\u001b[1;32m   2158\u001b[0m     \u001b[38;5;28mself\u001b[39m\u001b[38;5;241m.\u001b[39mket\u001b[38;5;241m.\u001b[39mcanonical_form()\n\u001b[0;32m-> 2159\u001b[0m env_data \u001b[38;5;241m=\u001b[39m \u001b[43mMPOTransferMatrix\u001b[49m\u001b[38;5;241;43m.\u001b[39;49m\u001b[43mfind_init_LP_RP\u001b[49m\u001b[43m(\u001b[49m\u001b[38;5;28;43mself\u001b[39;49m\u001b[38;5;241;43m.\u001b[39;49m\u001b[43mH\u001b[49m\u001b[43m,\u001b[49m\u001b[43m \u001b[49m\u001b[38;5;28;43mself\u001b[39;49m\u001b[38;5;241;43m.\u001b[39;49m\u001b[43mket\u001b[49m\u001b[43m,\u001b[49m\u001b[43m \u001b[49m\u001b[38;5;241;43m0\u001b[39;49m\u001b[43m,\u001b[49m\u001b[43m \u001b[49m\u001b[38;5;28;43mself\u001b[39;49m\u001b[38;5;241;43m.\u001b[39;49m\u001b[43mL\u001b[49m\u001b[43m \u001b[49m\u001b[38;5;241;43m-\u001b[39;49m\u001b[43m \u001b[49m\u001b[38;5;241;43m1\u001b[39;49m\u001b[43m)\u001b[49m\n\u001b[1;32m   2160\u001b[0m init_LP \u001b[38;5;241m=\u001b[39m env_data[\u001b[38;5;124m'\u001b[39m\u001b[38;5;124minit_LP\u001b[39m\u001b[38;5;124m'\u001b[39m]\n\u001b[1;32m   2161\u001b[0m init_RP \u001b[38;5;241m=\u001b[39m env_data[\u001b[38;5;124m'\u001b[39m\u001b[38;5;124minit_RP\u001b[39m\u001b[38;5;124m'\u001b[39m]\n",
      "File \u001b[0;32m~/Desktop/numerical_spt_classification/code/venv/lib/python3.11/site-packages/tenpy/networks/mpo.py:2691\u001b[0m, in \u001b[0;36mMPOTransferMatrix.find_init_LP_RP\u001b[0;34m(cls, H, psi, first, last, guess_init_env_data, calc_E, tol_ev0, _subtraction_gauge, **kwargs)\u001b[0m\n\u001b[1;32m   2689\u001b[0m \u001b[38;5;28;01mfor\u001b[39;00m transpose \u001b[38;5;129;01min\u001b[39;00m [\u001b[38;5;28;01mFalse\u001b[39;00m, \u001b[38;5;28;01mTrue\u001b[39;00m]:\n\u001b[1;32m   2690\u001b[0m     guess \u001b[38;5;241m=\u001b[39m guess_init_env_data\u001b[38;5;241m.\u001b[39mget(\u001b[38;5;124m'\u001b[39m\u001b[38;5;124minit_LP\u001b[39m\u001b[38;5;124m'\u001b[39m \u001b[38;5;28;01mif\u001b[39;00m transpose \u001b[38;5;28;01melse\u001b[39;00m \u001b[38;5;124m'\u001b[39m\u001b[38;5;124minit_RP\u001b[39m\u001b[38;5;124m'\u001b[39m, \u001b[38;5;28;01mNone\u001b[39;00m)\n\u001b[0;32m-> 2691\u001b[0m     TM \u001b[38;5;241m=\u001b[39m \u001b[38;5;28;43mcls\u001b[39;49m\u001b[43m(\u001b[49m\u001b[43mH\u001b[49m\u001b[43m,\u001b[49m\u001b[43m \u001b[49m\u001b[43mpsi\u001b[49m\u001b[43m,\u001b[49m\u001b[43m \u001b[49m\u001b[43mtranspose\u001b[49m\u001b[38;5;241;43m=\u001b[39;49m\u001b[43mtranspose\u001b[49m\u001b[43m,\u001b[49m\u001b[43m \u001b[49m\u001b[43mguess\u001b[49m\u001b[38;5;241;43m=\u001b[39;49m\u001b[43mguess\u001b[49m\u001b[43m,\u001b[49m\u001b[43m \u001b[49m\u001b[43m_subtraction_gauge\u001b[49m\u001b[38;5;241;43m=\u001b[39;49m\u001b[43m_subtraction_gauge\u001b[49m\u001b[43m)\u001b[49m\n\u001b[1;32m   2692\u001b[0m     val, vec \u001b[38;5;241m=\u001b[39m TM\u001b[38;5;241m.\u001b[39mdominant_eigenvector(\u001b[38;5;241m*\u001b[39m\u001b[38;5;241m*\u001b[39mkwargs)\n\u001b[1;32m   2693\u001b[0m     \u001b[38;5;28;01mif\u001b[39;00m \u001b[38;5;28mabs\u001b[39m(\u001b[38;5;241m1.\u001b[39m \u001b[38;5;241m-\u001b[39m val) \u001b[38;5;241m>\u001b[39m tol_ev0:\n",
      "File \u001b[0;32m~/Desktop/numerical_spt_classification/code/venv/lib/python3.11/site-packages/tenpy/networks/mpo.py:2454\u001b[0m, in \u001b[0;36mMPOTransferMatrix.__init__\u001b[0;34m(self, H, psi, transpose, guess, _subtraction_gauge)\u001b[0m\n\u001b[1;32m   2452\u001b[0m \u001b[38;5;28;01mdef\u001b[39;00m \u001b[38;5;21m__init__\u001b[39m(\u001b[38;5;28mself\u001b[39m, H, psi, transpose\u001b[38;5;241m=\u001b[39m\u001b[38;5;28;01mFalse\u001b[39;00m, guess\u001b[38;5;241m=\u001b[39m\u001b[38;5;28;01mNone\u001b[39;00m, _subtraction_gauge\u001b[38;5;241m=\u001b[39m\u001b[38;5;124m'\u001b[39m\u001b[38;5;124mrho\u001b[39m\u001b[38;5;124m'\u001b[39m):\n\u001b[1;32m   2453\u001b[0m     \u001b[38;5;28;01mif\u001b[39;00m psi\u001b[38;5;241m.\u001b[39mfinite \u001b[38;5;129;01mor\u001b[39;00m H\u001b[38;5;241m.\u001b[39mbc \u001b[38;5;241m!=\u001b[39m \u001b[38;5;124m'\u001b[39m\u001b[38;5;124minfinite\u001b[39m\u001b[38;5;124m'\u001b[39m:\n\u001b[0;32m-> 2454\u001b[0m         \u001b[38;5;28;01mraise\u001b[39;00m \u001b[38;5;167;01mValueError\u001b[39;00m(\u001b[38;5;124m\"\u001b[39m\u001b[38;5;124mOnly makes sense for infinite MPS\u001b[39m\u001b[38;5;124m\"\u001b[39m)\n\u001b[1;32m   2455\u001b[0m     \u001b[38;5;28mself\u001b[39m\u001b[38;5;241m.\u001b[39mL \u001b[38;5;241m=\u001b[39m lcm(H\u001b[38;5;241m.\u001b[39mL, psi\u001b[38;5;241m.\u001b[39mL)\n\u001b[1;32m   2456\u001b[0m     \u001b[38;5;28;01mif\u001b[39;00m np\u001b[38;5;241m.\u001b[39mlinalg\u001b[38;5;241m.\u001b[39mnorm(psi\u001b[38;5;241m.\u001b[39mnorm_test()) \u001b[38;5;241m>\u001b[39m \u001b[38;5;241m1.e-10\u001b[39m:\n",
      "\u001b[0;31mValueError\u001b[0m: Only makes sense for infinite MPS"
     ]
    }
   ],
   "source": [
    "mpo_U.expectation_value(psi)"
   ]
  },
  {
   "cell_type": "code",
   "execution_count": null,
   "id": "580049de-d6ae-445f-9bd6-e0dcbea82970",
   "metadata": {},
   "outputs": [],
   "source": []
  }
 ],
 "metadata": {
  "kernelspec": {
   "display_name": "venv",
   "language": "python",
   "name": "venv"
  },
  "language_info": {
   "codemirror_mode": {
    "name": "ipython",
    "version": 3
   },
   "file_extension": ".py",
   "mimetype": "text/x-python",
   "name": "python",
   "nbconvert_exporter": "python",
   "pygments_lexer": "ipython3",
   "version": "3.11.8"
  }
 },
 "nbformat": 4,
 "nbformat_minor": 5
}
