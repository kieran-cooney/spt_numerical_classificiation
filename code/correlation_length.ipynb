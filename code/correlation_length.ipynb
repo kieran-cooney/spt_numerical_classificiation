{
 "cells": [
  {
   "cell_type": "markdown",
   "id": "e891001b-22db-4076-be16-7dc31ff7d760",
   "metadata": {},
   "source": [
    "# Correlation lengths\n",
    "\n",
    "Created 17/07/2024\n",
    "\n",
    "Objectives:\n",
    "* Write a function to calculate the correlation length of an MPS"
   ]
  },
  {
   "cell_type": "markdown",
   "id": "b8d9b40f-441f-4745-a771-506e2472c0c3",
   "metadata": {},
   "source": [
    "# Imports"
   ]
  },
  {
   "cell_type": "code",
   "execution_count": 1,
   "id": "569a6cbf-83b2-4dc8-8be1-a63c58f29e2d",
   "metadata": {},
   "outputs": [],
   "source": [
    "from functools import reduce"
   ]
  },
  {
   "cell_type": "code",
   "execution_count": 2,
   "id": "280de1e7-f33a-4efd-9b58-80f9a64fa478",
   "metadata": {},
   "outputs": [],
   "source": [
    "import numpy as np\n",
    "import matplotlib.pyplot as plt"
   ]
  },
  {
   "cell_type": "code",
   "execution_count": 88,
   "id": "4647f3b6-6434-44e7-95b5-b49d212b8635",
   "metadata": {},
   "outputs": [],
   "source": [
    "from matplotlib.ticker import AutoMinorLocator, MultipleLocator"
   ]
  },
  {
   "cell_type": "code",
   "execution_count": 3,
   "id": "d8d226b4-e0e2-4bfc-ab0a-f8997adce417",
   "metadata": {},
   "outputs": [],
   "source": [
    "import h5py\n",
    "from tenpy.tools import hdf5_io\n",
    "\n",
    "import os"
   ]
  },
  {
   "cell_type": "code",
   "execution_count": 4,
   "id": "9dd57b84-117e-4944-988a-8e4a4e32af00",
   "metadata": {},
   "outputs": [],
   "source": [
    "import sys"
   ]
  },
  {
   "cell_type": "code",
   "execution_count": 5,
   "id": "15aead25-72dc-4d08-8026-6143e9fccbd4",
   "metadata": {},
   "outputs": [],
   "source": [
    "sys.path.append(\"../\")"
   ]
  },
  {
   "cell_type": "code",
   "execution_count": 6,
   "id": "7ea3e541-4388-4e56-819d-1ca5ed310584",
   "metadata": {},
   "outputs": [],
   "source": [
    "from SPTOptimization.utils import (\n",
    "    get_transfer_matrix_from_unitary,\n",
    "    multiply_transfer_matrices\n",
    ")"
   ]
  },
  {
   "cell_type": "markdown",
   "id": "10553d66-4aff-4169-9753-21e83772f4b6",
   "metadata": {},
   "source": [
    "# Load data"
   ]
  },
  {
   "cell_type": "code",
   "execution_count": 7,
   "id": "3b61bbe0-5d7f-49c5-96ab-265f8b0d36b6",
   "metadata": {},
   "outputs": [],
   "source": [
    "DATA_DIR = r\"data/transverse_cluster_200_site_dmrg\""
   ]
  },
  {
   "cell_type": "code",
   "execution_count": 8,
   "id": "2e1f611d-29dd-4c9b-ad1b-f4cc8b59bab7",
   "metadata": {},
   "outputs": [],
   "source": [
    "loaded_data = list()\n",
    "\n",
    "for local_file_name in os.listdir(DATA_DIR):\n",
    "    f_name = r\"{}/{}\".format(DATA_DIR, local_file_name, ignore_unknown=False)\n",
    "    with h5py.File(f_name, 'r') as f:\n",
    "        data = hdf5_io.load_from_hdf5(f)\n",
    "        loaded_data.append(data)"
   ]
  },
  {
   "cell_type": "code",
   "execution_count": 9,
   "id": "0ab87e3c-bd9b-4a88-9b74-ccdae9a91235",
   "metadata": {},
   "outputs": [],
   "source": [
    "b_parameters = sorted(list(d['paramters']['B'] for d in loaded_data))"
   ]
  },
  {
   "cell_type": "code",
   "execution_count": 10,
   "id": "322ad437-4f39-4e52-8e32-10dbe0fbd4ee",
   "metadata": {},
   "outputs": [],
   "source": [
    "psi_dict = dict()"
   ]
  },
  {
   "cell_type": "code",
   "execution_count": 11,
   "id": "097b34eb-49aa-4152-a116-c491420745fb",
   "metadata": {},
   "outputs": [],
   "source": [
    "for b in b_parameters:\n",
    "    psi = next(\n",
    "        d['wavefunction']\n",
    "        for d in loaded_data\n",
    "        if d['paramters']['B'] == b\n",
    "    )\n",
    "\n",
    "    rounded_b = round(b, 1)\n",
    "    psi_dict[rounded_b] = psi"
   ]
  },
  {
   "cell_type": "markdown",
   "id": "304db27e-1e01-43e1-8c6d-34a6514d8ee7",
   "metadata": {},
   "source": [
    "# Initial tests"
   ]
  },
  {
   "cell_type": "code",
   "execution_count": 12,
   "id": "dcbf042d-5b73-475b-bfd8-4847c4bbb927",
   "metadata": {},
   "outputs": [],
   "source": [
    "test_psi = psi_dict[0.5]"
   ]
  },
  {
   "cell_type": "code",
   "execution_count": 13,
   "id": "79a8fd95-693e-4f5f-b93d-ed9450c372fd",
   "metadata": {},
   "outputs": [],
   "source": [
    "test_tm = (\n",
    "    get_transfer_matrix_from_unitary(test_psi, 100)\n",
    "    .combine_legs([['vR', 'vR*'], ['vL', 'vL*']])\n",
    "    .to_ndarray()\n",
    ")"
   ]
  },
  {
   "cell_type": "code",
   "execution_count": 14,
   "id": "b878d7b4-dba4-4a69-a209-ff30cbd33f7c",
   "metadata": {},
   "outputs": [
    {
     "data": {
      "text/plain": [
       "array([ 1.        +6.02130311e-17j,  0.99262633+3.46819956e-18j,\n",
       "       -0.81667963-6.39309857e-18j,  0.68165188-7.06856222e-17j,\n",
       "       -0.81671761-1.86385542e-17j, -0.4358438 -3.04728254e-17j,\n",
       "       -0.33571146+4.61835167e-17j, -0.44737044-4.73386870e-17j,\n",
       "        0.31360024+1.78506283e-16j, -0.31183672+1.47913510e-16j,\n",
       "        0.31380393+1.33016475e-16j, -0.19414252+9.01031684e-17j,\n",
       "        0.13678232+1.27679054e-01j,  0.18772291+7.54390635e-02j,\n",
       "        0.2177274 +7.14693093e-03j,  0.2177274 -7.14693093e-03j,\n",
       "        0.18772291-7.54390635e-02j,  0.13678232-1.27679054e-01j,\n",
       "       -0.21104775+1.11056717e-16j, -0.15643413+1.32322756e-16j,\n",
       "        0.21747391+2.08350201e-02j,  0.21747391-2.08350201e-02j,\n",
       "       -0.05280738+1.10858427e-01j, -0.05280738-1.10858427e-01j,\n",
       "       -0.15323067-1.22821692e-17j,  0.07248865+7.00305261e-02j,\n",
       "        0.07248865-7.00305261e-02j, -0.08620203+3.94731112e-17j,\n",
       "       -0.04515352+9.17770207e-02j, -0.04515352-9.17770207e-02j,\n",
       "       -0.07339911+5.83688360e-17j, -0.05624436+2.97932273e-02j,\n",
       "       -0.05624436-2.97932273e-02j, -0.08909539+1.87015114e-17j,\n",
       "        0.10381713+5.18210608e-02j,  0.10381713-5.18210608e-02j,\n",
       "        0.11042231-7.63602972e-17j,  0.0684848 +5.92135306e-02j,\n",
       "        0.07278672-5.40663747e-17j,  0.0684848 -5.92135306e-02j,\n",
       "       -0.00998995+2.89426853e-02j, -0.00998995-2.89426853e-02j,\n",
       "       -0.02551091-6.55602097e-18j, -0.04865177+2.83103361e-02j,\n",
       "       -0.04865177-2.83103361e-02j,  0.05160533+1.26819579e-02j,\n",
       "        0.05160533-1.26819579e-02j,  0.04590185+1.77044892e-17j,\n",
       "        0.04140326-8.65321110e-18j, -0.03949754+1.49640279e-18j,\n",
       "        0.01401941+1.95850929e-02j,  0.01401941-1.95850929e-02j,\n",
       "        0.06437101-7.64815656e-18j, -0.02192875+7.47915686e-18j,\n",
       "        0.01835906+8.20684394e-03j,  0.01835906-8.20684394e-03j,\n",
       "        0.05037071+5.87859697e-19j,  0.00979255-1.17297552e-18j,\n",
       "        0.01342039+2.05551429e-02j,  0.01342039-2.05551429e-02j,\n",
       "        0.01855979+8.92524471e-03j,  0.01855979-8.92524471e-03j,\n",
       "        0.01785877-1.02104031e-18j,  0.00865352+0.00000000e+00j])"
      ]
     },
     "execution_count": 14,
     "metadata": {},
     "output_type": "execute_result"
    }
   ],
   "source": [
    "np.linalg.eigvals(test_tm)"
   ]
  },
  {
   "cell_type": "code",
   "execution_count": 15,
   "id": "c745b7c4-30b6-454c-a5b3-c1bce69cbb02",
   "metadata": {},
   "outputs": [
    {
     "data": {
      "text/plain": [
       "135.11706074443174"
      ]
     },
     "execution_count": 15,
     "metadata": {},
     "output_type": "execute_result"
    }
   ],
   "source": [
    "-1/np.log(0.99262633)"
   ]
  },
  {
   "cell_type": "code",
   "execution_count": 16,
   "id": "b45d8277-a3ba-4e28-af0b-ee46ccb343cc",
   "metadata": {},
   "outputs": [],
   "source": [
    "test_tms = [\n",
    "    get_transfer_matrix_from_unitary(p, 100)\n",
    "    .combine_legs([['vR', 'vR*'], ['vL', 'vL*']])\n",
    "    .to_ndarray()\n",
    "    for p in psi_dict.values()\n",
    "]"
   ]
  },
  {
   "cell_type": "code",
   "execution_count": 17,
   "id": "3eaa5f5a-149c-4ba2-8b57-58524a47c261",
   "metadata": {},
   "outputs": [],
   "source": [
    "def get_corr_length(tm):\n",
    "    eigs = np.linalg.eigvals(tm)\n",
    "    l2 = np.abs(eigs[1])\n",
    "    return -1/np.log(l2)"
   ]
  },
  {
   "cell_type": "code",
   "execution_count": 18,
   "id": "00c40499-ee11-4914-affc-51c0ce36b954",
   "metadata": {},
   "outputs": [],
   "source": [
    "test_corr_lengths = [get_corr_length(tm) for tm in test_tms]"
   ]
  },
  {
   "cell_type": "code",
   "execution_count": 19,
   "id": "69f1bf31-6b69-4e90-a12f-83c7d3e6b806",
   "metadata": {},
   "outputs": [
    {
     "data": {
      "text/plain": [
       "[<matplotlib.lines.Line2D at 0x7eaf2a498050>]"
      ]
     },
     "execution_count": 19,
     "metadata": {},
     "output_type": "execute_result"
    },
    {
     "data": {
      "image/png": "[encoded data removed]",
      "text/plain": [
       "<Figure size 640x480 with 1 Axes>"
      ]
     },
     "metadata": {},
     "output_type": "display_data"
    }
   ],
   "source": [
    "plt.plot(test_corr_lengths)"
   ]
  },
  {
   "cell_type": "code",
   "execution_count": 20,
   "id": "f87e98c2-9944-4433-95db-a2aec0d39334",
   "metadata": {},
   "outputs": [
    {
     "data": {
      "text/plain": [
       "[<matplotlib.lines.Line2D at 0x7eaf27cf74d0>]"
      ]
     },
     "execution_count": 20,
     "metadata": {},
     "output_type": "execute_result"
    },
    {
     "data": {
      "image/png": "[encoded data removed]",
      "text/plain": [
       "<Figure size 640x480 with 1 Axes>"
      ]
     },
     "metadata": {},
     "output_type": "display_data"
    }
   ],
   "source": [
    "plt.plot(test_corr_lengths[:10])"
   ]
  },
  {
   "cell_type": "code",
   "execution_count": 21,
   "id": "f8da8685-cdc7-4c97-86e5-5ae06660e51f",
   "metadata": {},
   "outputs": [
    {
     "data": {
      "text/plain": [
       "[<matplotlib.lines.Line2D at 0x7eaf25b164d0>]"
      ]
     },
     "execution_count": 21,
     "metadata": {},
     "output_type": "execute_result"
    },
    {
     "data": {
      "image/png": "[encoded data removed]",
      "text/plain": [
       "<Figure size 640x480 with 1 Axes>"
      ]
     },
     "metadata": {},
     "output_type": "display_data"
    }
   ],
   "source": [
    "plt.plot(test_corr_lengths[11:])"
   ]
  },
  {
   "cell_type": "code",
   "execution_count": 22,
   "id": "0d6dcc80-357f-4ec0-a214-a21aab97c5e1",
   "metadata": {},
   "outputs": [
    {
     "data": {
      "text/plain": [
       "200"
      ]
     },
     "execution_count": 22,
     "metadata": {},
     "output_type": "execute_result"
    }
   ],
   "source": [
    "test_psi.L"
   ]
  },
  {
   "cell_type": "code",
   "execution_count": 23,
   "id": "b5a37846-5a82-401a-bbf4-d2b8ea3d1fe1",
   "metadata": {},
   "outputs": [],
   "source": [
    "def get_cental_transfer_matrix(psi, num_sites=40):\n",
    "    total_num_sites = psi.L\n",
    "\n",
    "    left_site = (total_num_sites - num_sites)//2\n",
    "\n",
    "    transfer_matrices = (\n",
    "        get_transfer_matrix_from_unitary(psi, i)\n",
    "        for i in range(left_site, left_site + num_sites)\n",
    "    )\n",
    "\n",
    "    overall_transfer_matrix = reduce(multiply_transfer_matrices, transfer_matrices)\n",
    "\n",
    "    return overall_transfer_matrix"
   ]
  },
  {
   "cell_type": "code",
   "execution_count": 100,
   "id": "b1ae64e2-9f44-4549-b450-cb7d940c4f8d",
   "metadata": {},
   "outputs": [],
   "source": [
    "def get_corr_length(tm, num_sites=40):\n",
    "    np_tm = (\n",
    "        tm\n",
    "        .combine_legs([['vR', 'vR*'], ['vL', 'vL*']])\n",
    "        .to_ndarray()\n",
    "    )\n",
    "\n",
    "    eigs = np.sort(np.linalg.eigvals(np_tm))[::-1]\n",
    "    l2 = np.abs(eigs[1])\n",
    "    return np.array([-num_sites/np.log(l2), eigs[0]])"
   ]
  },
  {
   "cell_type": "code",
   "execution_count": 92,
   "id": "4708c0f5-0654-4f90-b2ae-0a10e719933a",
   "metadata": {},
   "outputs": [],
   "source": [
    "num_sites=60"
   ]
  },
  {
   "cell_type": "code",
   "execution_count": 84,
   "id": "73feb3fa-4e08-4e2b-ad06-69c11b1f88c6",
   "metadata": {},
   "outputs": [],
   "source": [
    "test_big_tms = [\n",
    "    get_cental_transfer_matrix(p, num_sites)\n",
    "    for p in psi_dict.values()\n",
    "]"
   ]
  },
  {
   "cell_type": "code",
   "execution_count": 101,
   "id": "2b40884d-bfc2-4b5c-a802-cfec00dd2f02",
   "metadata": {},
   "outputs": [],
   "source": [
    "test_big_corr_lengths = np.array([\n",
    "    get_corr_length(tm, num_sites)\n",
    "    for tm in test_big_tms\n",
    "])"
   ]
  },
  {
   "cell_type": "code",
   "execution_count": 103,
   "id": "0c10caf7-c72f-4b36-a4f7-4c3a90bd546e",
   "metadata": {},
   "outputs": [
    {
     "name": "stderr",
     "output_type": "stream",
     "text": [
      "/home/kieranc/Desktop/numerical_spt_classification/code/num_spt_venv_p11/lib/python3.11/site-packages/matplotlib/cbook.py:1699: ComplexWarning: Casting complex values to real discards the imaginary part\n",
      "  return math.isfinite(val)\n",
      "/home/kieranc/Desktop/numerical_spt_classification/code/num_spt_venv_p11/lib/python3.11/site-packages/matplotlib/cbook.py:1345: ComplexWarning: Casting complex values to real discards the imaginary part\n",
      "  return np.asarray(x, float)\n"
     ]
    },
    {
     "data": {
      "text/plain": [
       "[<matplotlib.lines.Line2D at 0x7eaf232370d0>]"
      ]
     },
     "execution_count": 103,
     "metadata": {},
     "output_type": "execute_result"
    },
    {
     "data": {
      "image/png": "[encoded data removed]",
      "text/plain": [
       "<Figure size 640x480 with 1 Axes>"
      ]
     },
     "metadata": {},
     "output_type": "display_data"
    }
   ],
   "source": [
    "plt.plot(test_big_corr_lengths[:,0])"
   ]
  },
  {
   "cell_type": "code",
   "execution_count": 105,
   "id": "ab868e75-b233-4b76-a88d-6872214d1399",
   "metadata": {},
   "outputs": [
    {
     "data": {
      "text/plain": [
       "array([1.+0.00000000e+00j, 1.+0.00000000e+00j, 1.+0.00000000e+00j,\n",
       "       1.+0.00000000e+00j, 1.+0.00000000e+00j, 1.+2.61012179e-54j,\n",
       "       1.-4.17619486e-53j, 1.+0.00000000e+00j, 1.+0.00000000e+00j,\n",
       "       1.+0.00000000e+00j, 1.-7.89639894e-39j, 1.+0.00000000e+00j,\n",
       "       1.+0.00000000e+00j, 1.+0.00000000e+00j, 1.+0.00000000e+00j,\n",
       "       1.+0.00000000e+00j, 1.+0.00000000e+00j, 1.+6.68191178e-52j,\n",
       "       1.+0.00000000e+00j, 1.+0.00000000e+00j, 1.+0.00000000e+00j])"
      ]
     },
     "execution_count": 105,
     "metadata": {},
     "output_type": "execute_result"
    }
   ],
   "source": [
    "test_big_corr_lengths[:,1]"
   ]
  },
  {
   "cell_type": "code",
   "execution_count": 106,
   "id": "e6326ab2-9ffa-48cd-85b8-32316d2ac19b",
   "metadata": {},
   "outputs": [
    {
     "data": {
      "text/plain": [
       "array([[ 1.61797575+0.00000000e+00j,  1.        +0.00000000e+00j],\n",
       "       [ 1.18701537+0.00000000e+00j,  1.        +0.00000000e+00j],\n",
       "       [ 1.38404111+0.00000000e+00j,  1.        +0.00000000e+00j],\n",
       "       [ 1.57227909+0.00000000e+00j,  1.        +0.00000000e+00j],\n",
       "       [ 1.85559665+0.00000000e+00j,  1.        +0.00000000e+00j],\n",
       "       [ 2.3300337 +0.00000000e+00j,  1.        +2.61012179e-54j],\n",
       "       [ 2.81144221+0.00000000e+00j,  1.        -4.17619486e-53j],\n",
       "       [ 3.96757482+0.00000000e+00j,  1.        +0.00000000e+00j],\n",
       "       [ 5.3846893 +0.00000000e+00j,  1.        +0.00000000e+00j],\n",
       "       [ 7.68616093+0.00000000e+00j,  1.        +0.00000000e+00j],\n",
       "       [12.5003699 +0.00000000e+00j,  1.        -7.89639894e-39j],\n",
       "       [ 8.60528635+0.00000000e+00j,  1.        +0.00000000e+00j],\n",
       "       [ 3.18356514+0.00000000e+00j,  1.        +0.00000000e+00j],\n",
       "       [ 5.25663816+0.00000000e+00j,  1.        +0.00000000e+00j],\n",
       "       [ 4.41405736+0.00000000e+00j,  1.        +0.00000000e+00j],\n",
       "       [ 2.22385986+0.00000000e+00j,  1.        +0.00000000e+00j],\n",
       "       [ 3.32706714+0.00000000e+00j,  1.        +0.00000000e+00j],\n",
       "       [ 3.12969471+0.00000000e+00j,  1.        +6.68191178e-52j],\n",
       "       [ 2.87809319+0.00000000e+00j,  1.        +0.00000000e+00j],\n",
       "       [ 2.5941129 +0.00000000e+00j,  1.        +0.00000000e+00j],\n",
       "       [ 2.5039303 +0.00000000e+00j,  1.        +0.00000000e+00j]])"
      ]
     },
     "execution_count": 106,
     "metadata": {},
     "output_type": "execute_result"
    }
   ],
   "source": [
    "test_big_corr_lengths"
   ]
  },
  {
   "cell_type": "code",
   "execution_count": 108,
   "id": "0842a27d-6a7d-48f1-a268-329156aa5e34",
   "metadata": {},
   "outputs": [
    {
     "data": {
      "text/plain": [
       "Text(0.5, 1.0, 'Correlation length in the ZXZ model as a function of B')"
      ]
     },
     "execution_count": 108,
     "metadata": {},
     "output_type": "execute_result"
    },
    {
     "data": {
      "image/png": "[encoded data removed]",
      "text/plain": [
       "<Figure size 600x400 with 1 Axes>"
      ]
     },
     "metadata": {},
     "output_type": "display_data"
    }
   ],
   "source": [
    "fig, ax = plt.subplots(figsize=(6, 4))\n",
    "\n",
    "ax.plot(\n",
    "    psi_dict.keys(),\n",
    "    test_big_corr_lengths[:,0],\n",
    "    'o'\n",
    ")\n",
    "\n",
    "ax.grid()\n",
    "\n",
    "ax.set_xticks(np.array(list(psi_dict.keys())))\n",
    "\n",
    "ax.xaxis.set_major_locator(MultipleLocator(0.2))\n",
    "ax.xaxis.set_minor_locator(MultipleLocator(0.1))\n",
    "\n",
    "ax.set_xlabel(\"B\", fontweight='bold')\n",
    "ax.set_ylabel(\"Correlation Length\", fontweight='bold')\n",
    "\n",
    "ax.set_title(\"Correlation length in the ZXZ model as a function of B\", fontweight='bold')"
   ]
  },
  {
   "cell_type": "code",
   "execution_count": 109,
   "id": "fadd9c80-e609-4502-bb17-983030e83e44",
   "metadata": {},
   "outputs": [
    {
     "data": {
      "text/plain": [
       "array([ 1.61797575+0.j,  1.18701537+0.j,  1.38404111+0.j,  1.57227909+0.j,\n",
       "        1.85559665+0.j,  2.3300337 +0.j,  2.81144221+0.j,  3.96757482+0.j,\n",
       "        5.3846893 +0.j,  7.68616093+0.j, 12.5003699 +0.j,  8.60528635+0.j,\n",
       "        3.18356514+0.j,  5.25663816+0.j,  4.41405736+0.j,  2.22385986+0.j,\n",
       "        3.32706714+0.j,  3.12969471+0.j,  2.87809319+0.j,  2.5941129 +0.j,\n",
       "        2.5039303 +0.j])"
      ]
     },
     "execution_count": 109,
     "metadata": {},
     "output_type": "execute_result"
    }
   ],
   "source": [
    "test_big_corr_lengths[:,0]"
   ]
  },
  {
   "cell_type": "code",
   "execution_count": 72,
   "id": "d453d185-9be0-4018-bb53-a7cedb36056f",
   "metadata": {},
   "outputs": [],
   "source": [
    "tp_tm = test_big_tms[0]"
   ]
  },
  {
   "cell_type": "code",
   "execution_count": 73,
   "id": "5701eccb-3b0b-4321-a87f-854d3b474b17",
   "metadata": {},
   "outputs": [
    {
     "data": {
      "text/plain": [
       "<npc.Array shape=(2, 2, 2, 2) labels=['vL', 'vL*', 'vR', 'vR*']>"
      ]
     },
     "execution_count": 73,
     "metadata": {},
     "output_type": "execute_result"
    }
   ],
   "source": [
    "tp_tm"
   ]
  },
  {
   "cell_type": "code",
   "execution_count": 74,
   "id": "dd814af1-bcf9-4f66-a47e-61945074ea68",
   "metadata": {},
   "outputs": [],
   "source": [
    "np_tm = (\n",
    "    tp_tm\n",
    "    .combine_legs([['vR', 'vR*'], ['vL', 'vL*']])\n",
    "    .to_ndarray()\n",
    ")\n",
    "\n",
    "eigs = np.linalg.eigvals(np_tm)"
   ]
  },
  {
   "cell_type": "code",
   "execution_count": 75,
   "id": "c4ab1108-d867-458f-b148-fe2cf6a99ec9",
   "metadata": {},
   "outputs": [
    {
     "data": {
      "text/plain": [
       "array([3.92523115e-17+0.j, 1.00000000e+00+0.j, 4.11143958e-35+0.j,\n",
       "       9.86076132e-32+0.j])"
      ]
     },
     "execution_count": 75,
     "metadata": {},
     "output_type": "execute_result"
    }
   ],
   "source": [
    "eigs"
   ]
  },
  {
   "cell_type": "code",
   "execution_count": 76,
   "id": "f15345d6-66d1-47b7-a9f4-5f541f93c95a",
   "metadata": {},
   "outputs": [
    {
     "data": {
      "text/plain": [
       "array([1.00000000e+00+0.j, 3.92523115e-17+0.j, 9.86076132e-32+0.j,\n",
       "       4.11143958e-35+0.j])"
      ]
     },
     "execution_count": 76,
     "metadata": {},
     "output_type": "execute_result"
    }
   ],
   "source": [
    "np.sort(eigs)[::-1]"
   ]
  },
  {
   "cell_type": "code",
   "execution_count": null,
   "id": "15bac851-8bcb-429a-beb3-251845f5f9ca",
   "metadata": {},
   "outputs": [],
   "source": []
  }
 ],
 "metadata": {
  "kernelspec": {
   "display_name": "num_spt_venv_p11",
   "language": "python",
   "name": "num_spt_venv_p11"
  },
  "language_info": {
   "codemirror_mode": {
    "name": "ipython",
    "version": 3
   },
   "file_extension": ".py",
   "mimetype": "text/x-python",
   "name": "python",
   "nbconvert_exporter": "python",
   "pygments_lexer": "ipython3",
   "version": "3.11.9"
  }
 },
 "nbformat": 4,
 "nbformat_minor": 5
}
