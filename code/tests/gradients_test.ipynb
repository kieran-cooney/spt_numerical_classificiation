{
 "cells": [
  {
   "cell_type": "code",
   "execution_count": 1,
   "id": "ff893f97-a977-44de-950c-260b0496ba63",
   "metadata": {},
   "outputs": [],
   "source": [
    "import sys\n",
    "sys.path.append('../')"
   ]
  },
  {
   "cell_type": "code",
   "execution_count": 2,
   "id": "4e5c98e3-60cf-494f-bf90-7778a29094e9",
   "metadata": {},
   "outputs": [],
   "source": [
    "import h5py\n",
    "from tenpy.tools import hdf5_io\n",
    "import tenpy\n",
    "import tenpy.linalg.np_conserved as npc\n",
    "\n",
    "import os"
   ]
  },
  {
   "cell_type": "code",
   "execution_count": 3,
   "id": "f1472ce1-d36a-443a-a7e3-e28ae78642c9",
   "metadata": {},
   "outputs": [],
   "source": [
    "import numpy as np\n",
    "\n",
    "from scipy.stats import unitary_group"
   ]
  },
  {
   "cell_type": "code",
   "execution_count": 4,
   "id": "da4ac14b-02f0-48e6-af1c-15e406d30f82",
   "metadata": {},
   "outputs": [],
   "source": [
    "from SPTOptimization.gradients import *\n",
    "from SPTOptimization.SymmetryActionWithBoundaryUnitaries import SymmetryActionWithBoundaryUnitaries\n",
    "from SPTOptimization.utils import (\n",
    "    tenpy_to_np_transfer_matrix,\n",
    "    get_left_identity_environment,\n",
    "    get_right_identity_environment\n",
    ")"
   ]
  },
  {
   "cell_type": "markdown",
   "id": "d52e4be2-35de-4dec-bf96-733cba97387f",
   "metadata": {},
   "source": [
    "# Load data"
   ]
  },
  {
   "cell_type": "code",
   "execution_count": 5,
   "id": "51da7bd5-0c5f-4faf-9002-26afba1ba9f8",
   "metadata": {},
   "outputs": [],
   "source": [
    "DATA_DIR = r\"../data/transverse_cluster_200_site_dmrg/0_50.h5\""
   ]
  },
  {
   "cell_type": "code",
   "execution_count": 6,
   "id": "4fbc5874-d3e8-4469-9e41-879b4b44b699",
   "metadata": {},
   "outputs": [],
   "source": [
    "with h5py.File(DATA_DIR, 'r') as f:\n",
    "    data = hdf5_io.load_from_hdf5(f)"
   ]
  },
  {
   "cell_type": "code",
   "execution_count": 7,
   "id": "f2c872f4-0c67-4898-8ce0-d5a89415191d",
   "metadata": {},
   "outputs": [],
   "source": [
    "psi = data['wavefunction']"
   ]
  },
  {
   "cell_type": "markdown",
   "id": "79f2262c-7a0d-489f-9855-76050bdd27fa",
   "metadata": {},
   "source": [
    "# Definitions"
   ]
  },
  {
   "cell_type": "code",
   "execution_count": 8,
   "id": "b3f73540-f882-4c72-9a1d-cf3597f6645c",
   "metadata": {},
   "outputs": [],
   "source": [
    "unitary_sampler = unitary_group(2)"
   ]
  },
  {
   "cell_type": "code",
   "execution_count": 9,
   "id": "9f05daa8-3597-42d4-8e99-88ea95a0f5de",
   "metadata": {},
   "outputs": [
    {
     "data": {
      "text/plain": [
       "array([[-0.10123215+0.03019309j, -0.99307082+0.05148575j],\n",
       "       [ 0.88579198+0.45189933j, -0.08012604-0.06884322j]])"
      ]
     },
     "execution_count": 9,
     "metadata": {},
     "output_type": "execute_result"
    }
   ],
   "source": [
    "unitary_sampler.rvs()"
   ]
  },
  {
   "cell_type": "code",
   "execution_count": 10,
   "id": "513d7288-c641-4071-a4a3-652787d1f98c",
   "metadata": {},
   "outputs": [],
   "source": [
    "np_I = np.array([[1,0],[0,1]])\n",
    "np_X = np.array([[0,1],[1,0]])\n",
    "np_Y = np.array([[0,-1j],[1j,0]])\n",
    "np_Z = np.array([[1,0],[0,-1]])"
   ]
  },
  {
   "cell_type": "code",
   "execution_count": 11,
   "id": "17990407-bd2a-4364-b371-186a6feda20e",
   "metadata": {},
   "outputs": [],
   "source": [
    "test = SymmetryActionWithBoundaryUnitaries(\n",
    "    psi,\n",
    "    [np_X, np_I]*50,\n",
    "    left_boundary_unitaries = [np_Z,],\n",
    "    right_boundary_unitaries = [np_X, np_Z]\n",
    ")"
   ]
  },
  {
   "cell_type": "code",
   "execution_count": 12,
   "id": "23d5bdb7-b897-4604-855a-ece3248116fa",
   "metadata": {},
   "outputs": [
    {
     "data": {
      "text/plain": [
       "array(0.93061628)"
      ]
     },
     "execution_count": 12,
     "metadata": {},
     "output_type": "execute_result"
    }
   ],
   "source": [
    "test.compute_expectation()"
   ]
  },
  {
   "cell_type": "code",
   "execution_count": 13,
   "id": "7260887b-b115-4ed8-85b2-4194c59e2e24",
   "metadata": {},
   "outputs": [
    {
     "data": {
      "text/plain": [
       "(0.9306162804445224+0j)"
      ]
     },
     "execution_count": 13,
     "metadata": {},
     "output_type": "execute_result"
    }
   ],
   "source": [
    "test.compute_svd_approximate_expectation()"
   ]
  },
  {
   "cell_type": "markdown",
   "id": "f4bb01d4-6a49-4e91-badf-86ee6da3dbcc",
   "metadata": {},
   "source": [
    "# Tests"
   ]
  },
  {
   "cell_type": "code",
   "execution_count": 14,
   "id": "aa89e0fc-eeaf-44a3-92a1-d9fb03af9b2c",
   "metadata": {},
   "outputs": [
    {
     "data": {
      "text/plain": [
       "[<npc.Array shape=(8, 8, 8, 8) labels=['vL', 'vR', 'vL*', 'vR*']>,\n",
       " <npc.Array shape=(8, 8, 8, 8) labels=['vL', 'vR', 'vL*', 'vR*']>]"
      ]
     },
     "execution_count": 14,
     "metadata": {},
     "output_type": "execute_result"
    }
   ],
   "source": [
    "test.right_transfer_matrices"
   ]
  },
  {
   "cell_type": "code",
   "execution_count": 15,
   "id": "8f4eed6e-96ad-424f-99bb-94b7c0ee1b68",
   "metadata": {},
   "outputs": [
    {
     "data": {
      "text/plain": [
       "<npc.Array shape=(8, 8) labels=['vR', 'vR*']>"
      ]
     },
     "execution_count": 15,
     "metadata": {},
     "output_type": "execute_result"
    }
   ],
   "source": [
    "test.right_projected_symmetry_state"
   ]
  },
  {
   "cell_type": "markdown",
   "id": "921b1802-a785-436b-8882-4c03700bba2a",
   "metadata": {},
   "source": [
    "## identity_environment_functions"
   ]
  },
  {
   "cell_type": "code",
   "execution_count": 16,
   "id": "d4b277f9-b15a-40b9-a471-48ad9b0d2dbd",
   "metadata": {},
   "outputs": [],
   "source": [
    "ir = get_right_identity_environment(psi, 100)"
   ]
  },
  {
   "cell_type": "code",
   "execution_count": 17,
   "id": "359aba45-5b55-49a8-87a6-cfc2a3d75a55",
   "metadata": {},
   "outputs": [
    {
     "data": {
      "text/plain": [
       "<npc.Array shape=(8, 8) labels=['vL', 'vL*']>"
      ]
     },
     "execution_count": 17,
     "metadata": {},
     "output_type": "execute_result"
    }
   ],
   "source": [
    "ir"
   ]
  },
  {
   "cell_type": "code",
   "execution_count": 18,
   "id": "a1c40230-362c-4570-b7d4-1adbfd172e84",
   "metadata": {},
   "outputs": [
    {
     "data": {
      "text/plain": [
       "array([[1, 0, 0, 0, 0, 0, 0, 0],\n",
       "       [0, 1, 0, 0, 0, 0, 0, 0],\n",
       "       [0, 0, 1, 0, 0, 0, 0, 0],\n",
       "       [0, 0, 0, 1, 0, 0, 0, 0],\n",
       "       [0, 0, 0, 0, 1, 0, 0, 0],\n",
       "       [0, 0, 0, 0, 0, 1, 0, 0],\n",
       "       [0, 0, 0, 0, 0, 0, 1, 0],\n",
       "       [0, 0, 0, 0, 0, 0, 0, 1]])"
      ]
     },
     "execution_count": 18,
     "metadata": {},
     "output_type": "execute_result"
    }
   ],
   "source": [
    "ir.to_ndarray()"
   ]
  },
  {
   "cell_type": "code",
   "execution_count": 19,
   "id": "eb91495e-ca7b-4227-9891-fb35a2190f11",
   "metadata": {},
   "outputs": [],
   "source": [
    "il = get_left_identity_environment(psi, 100)"
   ]
  },
  {
   "cell_type": "code",
   "execution_count": 20,
   "id": "d0c7e9d4-3ba9-4bae-87e3-e396d2e95d8f",
   "metadata": {},
   "outputs": [
    {
     "data": {
      "text/plain": [
       "<npc.Array shape=(8, 8) labels=['vR', 'vR*']>"
      ]
     },
     "execution_count": 20,
     "metadata": {},
     "output_type": "execute_result"
    }
   ],
   "source": [
    "il"
   ]
  },
  {
   "cell_type": "code",
   "execution_count": 21,
   "id": "14296268-c8d9-461f-bea5-e83279897e95",
   "metadata": {},
   "outputs": [
    {
     "data": {
      "text/plain": [
       "array([[1, 0, 0, 0, 0, 0, 0, 0],\n",
       "       [0, 1, 0, 0, 0, 0, 0, 0],\n",
       "       [0, 0, 1, 0, 0, 0, 0, 0],\n",
       "       [0, 0, 0, 1, 0, 0, 0, 0],\n",
       "       [0, 0, 0, 0, 1, 0, 0, 0],\n",
       "       [0, 0, 0, 0, 0, 1, 0, 0],\n",
       "       [0, 0, 0, 0, 0, 0, 1, 0],\n",
       "       [0, 0, 0, 0, 0, 0, 0, 1]])"
      ]
     },
     "execution_count": 21,
     "metadata": {},
     "output_type": "execute_result"
    }
   ],
   "source": [
    "il.to_ndarray()"
   ]
  },
  {
   "cell_type": "markdown",
   "id": "c18ad2c2-a03b-4525-868a-8ae538bb321c",
   "metadata": {},
   "source": [
    "## expectation_gradient_from_environments\n",
    "Just check shape"
   ]
  },
  {
   "cell_type": "code",
   "execution_count": 22,
   "id": "6ca5b14f-d0f3-4844-98ed-0ec2cdf9e806",
   "metadata": {},
   "outputs": [
    {
     "data": {
      "text/plain": [
       "<npc.Array shape=(2, 2) labels=['p', 'p*']>"
      ]
     },
     "execution_count": 22,
     "metadata": {},
     "output_type": "execute_result"
    }
   ],
   "source": [
    "expectation_gradient_from_environments(psi, 100)"
   ]
  },
  {
   "cell_type": "code",
   "execution_count": 23,
   "id": "46a9dee0-b85e-4911-9058-121facbe4fa9",
   "metadata": {},
   "outputs": [
    {
     "data": {
      "text/plain": [
       "<npc.Array shape=(2, 2) labels=['p*', 'p']>"
      ]
     },
     "execution_count": 23,
     "metadata": {},
     "output_type": "execute_result"
    }
   ],
   "source": [
    "expectation_gradient_from_environments(psi, 100, left_environment=il)"
   ]
  },
  {
   "cell_type": "code",
   "execution_count": 24,
   "id": "6ab14872-a29a-4a90-9e9b-da75064746a6",
   "metadata": {},
   "outputs": [
    {
     "data": {
      "text/plain": [
       "<npc.Array shape=(2, 2) labels=['p', 'p*']>"
      ]
     },
     "execution_count": 24,
     "metadata": {},
     "output_type": "execute_result"
    }
   ],
   "source": [
    "expectation_gradient_from_environments(psi, 100, right_environment=ir)"
   ]
  },
  {
   "cell_type": "code",
   "execution_count": 25,
   "id": "8b1fc64a-5b18-4f17-a710-8fe4356cae62",
   "metadata": {},
   "outputs": [
    {
     "data": {
      "text/plain": [
       "<npc.Array shape=(2, 2) labels=['p*', 'p']>"
      ]
     },
     "execution_count": 25,
     "metadata": {},
     "output_type": "execute_result"
    }
   ],
   "source": [
    "expectation_gradient_from_environments(psi, 100, left_environment=il, right_environment=ir)"
   ]
  },
  {
   "cell_type": "markdown",
   "id": "d6743242-0f93-4c08-be36-59c729538522",
   "metadata": {},
   "source": [
    "## expectation gradients"
   ]
  },
  {
   "cell_type": "code",
   "execution_count": 26,
   "id": "be0d68a8-4bd4-46bb-b9ff-2781e29e73e0",
   "metadata": {},
   "outputs": [
    {
     "data": {
      "text/plain": [
       "<npc.Array shape=(8, 2, 8) labels=['vL', 'p', 'vR']>"
      ]
     },
     "execution_count": 26,
     "metadata": {},
     "output_type": "execute_result"
    }
   ],
   "source": [
    "psi.get_B(100)"
   ]
  },
  {
   "cell_type": "code",
   "execution_count": 27,
   "id": "fbdaa5ad-2fab-4b1d-8f1d-bd3584b881ba",
   "metadata": {},
   "outputs": [],
   "source": [
    "a = psi.get_B(100)"
   ]
  },
  {
   "cell_type": "code",
   "execution_count": 28,
   "id": "f8a256d9-cc92-4527-a3f2-53ab64673d31",
   "metadata": {},
   "outputs": [
    {
     "data": {
      "text/plain": [
       "<npc.Array shape=(8, 2, 8) labels=['vL', 'p', 'vR']>"
      ]
     },
     "execution_count": 28,
     "metadata": {},
     "output_type": "execute_result"
    }
   ],
   "source": [
    "a"
   ]
  },
  {
   "cell_type": "code",
   "execution_count": 29,
   "id": "6dd98fe2-7500-4417-8b72-4ca34bcc7af8",
   "metadata": {},
   "outputs": [
    {
     "data": {
      "text/plain": [
       "[LegCharge(ChargeInfo([], []), qconj=+1,\n",
       " array([0, 8]), array([], shape=(1, 0), dtype=int64)),\n",
       " LegCharge(ChargeInfo([], []), qconj=+1,\n",
       " array([0, 2]), array([], shape=(1, 0), dtype=int64)),\n",
       " LegCharge(ChargeInfo([], []), qconj=-1,\n",
       " array([0, 8]), array([], shape=(1, 0), dtype=int64))]"
      ]
     },
     "execution_count": 29,
     "metadata": {},
     "output_type": "execute_result"
    }
   ],
   "source": [
    "a.legs"
   ]
  },
  {
   "cell_type": "code",
   "execution_count": 30,
   "id": "6828a84c-94ab-48b2-97b3-5f9de41e911e",
   "metadata": {},
   "outputs": [],
   "source": [
    "right_gradients = expectation_gradients(\n",
    "    psi,\n",
    "    test.right_transfer_matrices,\n",
    "    test.right_symmetry_index+1,\n",
    "    left_environment=test.right_projected_symmetry_state,\n",
    "    right_environment=None\n",
    ")"
   ]
  },
  {
   "cell_type": "code",
   "execution_count": 31,
   "id": "9861769d-3b2c-4641-845a-3269909aae19",
   "metadata": {},
   "outputs": [
    {
     "data": {
      "text/plain": [
       "2"
      ]
     },
     "execution_count": 31,
     "metadata": {},
     "output_type": "execute_result"
    }
   ],
   "source": [
    "len(test.right_transfer_matrices)"
   ]
  },
  {
   "cell_type": "code",
   "execution_count": 32,
   "id": "92b3424f-79c5-4aff-be04-58230cfb51f9",
   "metadata": {},
   "outputs": [
    {
     "data": {
      "text/plain": [
       "2"
      ]
     },
     "execution_count": 32,
     "metadata": {},
     "output_type": "execute_result"
    }
   ],
   "source": [
    "len(right_gradients)"
   ]
  },
  {
   "cell_type": "code",
   "execution_count": 33,
   "id": "b3fac1a3-4459-4e5f-8bd4-a4d4c68f2e06",
   "metadata": {},
   "outputs": [
    {
     "data": {
      "text/plain": [
       "<npc.Array shape=(2, 2) labels=['p*', 'p']>"
      ]
     },
     "execution_count": 33,
     "metadata": {},
     "output_type": "execute_result"
    }
   ],
   "source": [
    "right_gradients[0]"
   ]
  },
  {
   "cell_type": "code",
   "execution_count": 34,
   "id": "23fe4b3f-7353-438f-9014-8167eae68f22",
   "metadata": {},
   "outputs": [
    {
     "data": {
      "text/plain": [
       "array([[0.17654904+0.j, 0.68257359+0.j],\n",
       "       [0.68257359+0.j, 0.17654904+0.j]])"
      ]
     },
     "execution_count": 34,
     "metadata": {},
     "output_type": "execute_result"
    }
   ],
   "source": [
    "right_gradients[0].to_ndarray()"
   ]
  },
  {
   "cell_type": "code",
   "execution_count": 35,
   "id": "feeae76f-f8ff-48f7-b46f-8f2cffe5356d",
   "metadata": {},
   "outputs": [
    {
     "data": {
      "text/plain": [
       "(2, 2)"
      ]
     },
     "execution_count": 35,
     "metadata": {},
     "output_type": "execute_result"
    }
   ],
   "source": [
    "right_gradients[0].shape"
   ]
  },
  {
   "cell_type": "code",
   "execution_count": 36,
   "id": "82b47e3e-31c5-43f6-9cd1-9e49376366b7",
   "metadata": {},
   "outputs": [
    {
     "data": {
      "text/plain": [
       "<npc.Array shape=(2, 2) labels=['p*', 'p']>"
      ]
     },
     "execution_count": 36,
     "metadata": {},
     "output_type": "execute_result"
    }
   ],
   "source": [
    "right_gradients[1]"
   ]
  },
  {
   "cell_type": "code",
   "execution_count": 37,
   "id": "d572c91c-fd8b-4a73-9cec-722ca321440c",
   "metadata": {},
   "outputs": [
    {
     "data": {
      "text/plain": [
       "array([[ 6.82573626e-01+0.j,  1.05236871e-08+0.j],\n",
       "       [ 1.05236870e-08+0.j, -6.82573545e-01+0.j]])"
      ]
     },
     "execution_count": 37,
     "metadata": {},
     "output_type": "execute_result"
    }
   ],
   "source": [
    "right_gradients[1].to_ndarray()"
   ]
  },
  {
   "cell_type": "code",
   "execution_count": 38,
   "id": "5c2fe78a-70ac-4ea6-a935-9fd3962a7901",
   "metadata": {},
   "outputs": [
    {
     "data": {
      "text/plain": [
       "(2, 2)"
      ]
     },
     "execution_count": 38,
     "metadata": {},
     "output_type": "execute_result"
    }
   ],
   "source": [
    "right_gradients[1].shape"
   ]
  },
  {
   "cell_type": "code",
   "execution_count": 39,
   "id": "8475c690-99bd-4418-8b0f-456ba524cf01",
   "metadata": {},
   "outputs": [],
   "source": [
    "# Careful with np/npc types...\n",
    "#first_order_correction_from_gradient_one_site(right_gradients[0], np_Z)"
   ]
  },
  {
   "cell_type": "code",
   "execution_count": 40,
   "id": "3d000670-48c7-45a0-8576-6ec04bcc0955",
   "metadata": {},
   "outputs": [],
   "source": [
    "gradient = (\n",
    "    test.left_expectation\n",
    "    *test.symmetry_transfer_matrix_singular_vals[0]\n",
    "    *right_gradients[0].to_ndarray()\n",
    ")\n",
    "delta_U = np_X"
   ]
  },
  {
   "cell_type": "code",
   "execution_count": 41,
   "id": "4d833d5f-5d7f-4c51-959b-2d1a173a35b0",
   "metadata": {},
   "outputs": [
    {
     "data": {
      "text/plain": [
       "(0.9306162804445222+0j)"
      ]
     },
     "execution_count": 41,
     "metadata": {},
     "output_type": "execute_result"
    }
   ],
   "source": [
    "np.sum(gradient*delta_U)"
   ]
  },
  {
   "cell_type": "code",
   "execution_count": 42,
   "id": "e847f137-d2cb-4280-9c02-97ac60c4e87d",
   "metadata": {},
   "outputs": [],
   "source": [
    "test2 = SymmetryActionWithBoundaryUnitaries(\n",
    "    psi,\n",
    "    [np_X, np_I]*50,\n",
    "    left_boundary_unitaries = [np_Z,],\n",
    "    right_boundary_unitaries = [np_X + np_X, np_Z]\n",
    ")"
   ]
  },
  {
   "cell_type": "code",
   "execution_count": 43,
   "id": "e3860fc1-1dbf-4784-bd3b-67a3afaa087f",
   "metadata": {},
   "outputs": [
    {
     "data": {
      "text/plain": [
       "array(1.86123256)"
      ]
     },
     "execution_count": 43,
     "metadata": {},
     "output_type": "execute_result"
    }
   ],
   "source": [
    "test2.compute_expectation()"
   ]
  },
  {
   "cell_type": "code",
   "execution_count": 44,
   "id": "aa19c194-1f51-4e96-8465-891520e5f100",
   "metadata": {},
   "outputs": [
    {
     "data": {
      "text/plain": [
       "0.9306162804445213"
      ]
     },
     "execution_count": 44,
     "metadata": {},
     "output_type": "execute_result"
    }
   ],
   "source": [
    "test2.expectation - test.expectation"
   ]
  },
  {
   "cell_type": "markdown",
   "id": "5c4d0e5e-d3a6-4657-9910-f2c7e9053c81",
   "metadata": {},
   "source": [
    "Repeat for second site"
   ]
  },
  {
   "cell_type": "code",
   "execution_count": 45,
   "id": "2a0a5277-8aad-4eae-ad73-c32cbb4ac924",
   "metadata": {},
   "outputs": [
    {
     "data": {
      "text/plain": [
       "<npc.Array shape=(2, 2) labels=['p*', 'p']>"
      ]
     },
     "execution_count": 45,
     "metadata": {},
     "output_type": "execute_result"
    }
   ],
   "source": [
    "right_gradients[1]"
   ]
  },
  {
   "cell_type": "code",
   "execution_count": 46,
   "id": "e37d27a4-6b21-4f40-9b51-3113e9991042",
   "metadata": {},
   "outputs": [
    {
     "data": {
      "text/plain": [
       "array([[ 6.82573626e-01+0.j,  1.05236871e-08+0.j],\n",
       "       [ 1.05236870e-08+0.j, -6.82573545e-01+0.j]])"
      ]
     },
     "execution_count": 46,
     "metadata": {},
     "output_type": "execute_result"
    }
   ],
   "source": [
    "right_gradients[1].to_ndarray()"
   ]
  },
  {
   "cell_type": "code",
   "execution_count": 47,
   "id": "b4b36355-7247-4fe0-bf43-bdbb061c2e38",
   "metadata": {},
   "outputs": [
    {
     "data": {
      "text/plain": [
       "(2, 2)"
      ]
     },
     "execution_count": 47,
     "metadata": {},
     "output_type": "execute_result"
    }
   ],
   "source": [
    "right_gradients[1].shape"
   ]
  },
  {
   "cell_type": "code",
   "execution_count": 48,
   "id": "4c6d6f46-8e24-40a0-afc5-6572b076553a",
   "metadata": {},
   "outputs": [],
   "source": [
    "# Careful with np/npc types...\n",
    "#first_order_correction_from_gradient_one_site(right_gradients[0], np_Z)"
   ]
  },
  {
   "cell_type": "code",
   "execution_count": 49,
   "id": "ca0ceaa0-15bc-4fe2-8ecf-b0f7af7d0083",
   "metadata": {},
   "outputs": [],
   "source": [
    "gradient = (\n",
    "    test.left_expectation\n",
    "    *test.symmetry_transfer_matrix_singular_vals[0]\n",
    "    *right_gradients[1].to_ndarray()\n",
    ")\n",
    "delta_U = np_Z"
   ]
  },
  {
   "cell_type": "code",
   "execution_count": 50,
   "id": "394a8f56-b8e4-4b5b-a8a5-4a560612999c",
   "metadata": {},
   "outputs": [
    {
     "data": {
      "text/plain": [
       "(0.930616280444522+0j)"
      ]
     },
     "execution_count": 50,
     "metadata": {},
     "output_type": "execute_result"
    }
   ],
   "source": [
    "np.sum(gradient*delta_U)"
   ]
  },
  {
   "cell_type": "code",
   "execution_count": 51,
   "id": "815e42bb-6a5e-4d61-8f63-58a676e402f2",
   "metadata": {},
   "outputs": [],
   "source": [
    "test2 = SymmetryActionWithBoundaryUnitaries(\n",
    "    psi,\n",
    "    [np_X, np_I]*50,\n",
    "    left_boundary_unitaries = [np_Z,],\n",
    "    right_boundary_unitaries = [np_X, np_Z + np_Z]\n",
    ")"
   ]
  },
  {
   "cell_type": "code",
   "execution_count": 52,
   "id": "b572ee59-1645-4516-ae2b-75f0d80b443b",
   "metadata": {},
   "outputs": [
    {
     "data": {
      "text/plain": [
       "array(1.86123256)"
      ]
     },
     "execution_count": 52,
     "metadata": {},
     "output_type": "execute_result"
    }
   ],
   "source": [
    "test2.compute_expectation()"
   ]
  },
  {
   "cell_type": "code",
   "execution_count": 53,
   "id": "d58b3c2b-92a1-41d8-8e95-d6b0c21240d2",
   "metadata": {},
   "outputs": [
    {
     "data": {
      "text/plain": [
       "0.9306162804445213"
      ]
     },
     "execution_count": 53,
     "metadata": {},
     "output_type": "execute_result"
    }
   ],
   "source": [
    "test2.expectation - test.expectation"
   ]
  },
  {
   "cell_type": "markdown",
   "id": "3e2179fe-269d-4bfe-a6c4-ab2b4da0b0ae",
   "metadata": {},
   "source": [
    "Repeat on left side"
   ]
  },
  {
   "cell_type": "code",
   "execution_count": 54,
   "id": "3f2f5017-723e-46ab-9dee-91baba4d885c",
   "metadata": {},
   "outputs": [],
   "source": [
    "left_gradients = expectation_gradients(\n",
    "    psi,\n",
    "    test.left_transfer_matrices[::-1],\n",
    "    test.left_symmetry_index-1,\n",
    "    left_environment=None,\n",
    "    right_environment=test.left_projected_symmetry_state,\n",
    "    mps_form=\"A\"\n",
    ")"
   ]
  },
  {
   "cell_type": "code",
   "execution_count": 55,
   "id": "529cf4b7-9485-4159-a077-c983fc4fa5ac",
   "metadata": {},
   "outputs": [
    {
     "data": {
      "text/plain": [
       "1"
      ]
     },
     "execution_count": 55,
     "metadata": {},
     "output_type": "execute_result"
    }
   ],
   "source": [
    "len(test.left_transfer_matrices)"
   ]
  },
  {
   "cell_type": "code",
   "execution_count": 56,
   "id": "b38b5d02-d134-4c1f-a91a-fd7f6affd5e4",
   "metadata": {},
   "outputs": [
    {
     "data": {
      "text/plain": [
       "1"
      ]
     },
     "execution_count": 56,
     "metadata": {},
     "output_type": "execute_result"
    }
   ],
   "source": [
    "len(left_gradients)"
   ]
  },
  {
   "cell_type": "code",
   "execution_count": 57,
   "id": "d12c6d8f-85a3-4f00-b7b0-c247874ec86a",
   "metadata": {},
   "outputs": [
    {
     "data": {
      "text/plain": [
       "<npc.Array shape=(2, 2) labels=['p*', 'p']>"
      ]
     },
     "execution_count": 57,
     "metadata": {},
     "output_type": "execute_result"
    }
   ],
   "source": [
    "left_gradients[0]"
   ]
  },
  {
   "cell_type": "code",
   "execution_count": 58,
   "id": "14dc08f9-b9c5-4a39-bfd6-7560103bc094",
   "metadata": {},
   "outputs": [
    {
     "data": {
      "text/plain": [
       "array([[ 6.82573586e-01+0.j, -4.53610246e-12+0.j],\n",
       "       [-4.53609937e-12+0.j, -6.82573586e-01+0.j]])"
      ]
     },
     "execution_count": 58,
     "metadata": {},
     "output_type": "execute_result"
    }
   ],
   "source": [
    "left_gradients[0].to_ndarray()"
   ]
  },
  {
   "cell_type": "code",
   "execution_count": 59,
   "id": "3541a07e-a63d-411e-964f-117b45b65e7f",
   "metadata": {},
   "outputs": [
    {
     "data": {
      "text/plain": [
       "(2, 2)"
      ]
     },
     "execution_count": 59,
     "metadata": {},
     "output_type": "execute_result"
    }
   ],
   "source": [
    "left_gradients[0].shape"
   ]
  },
  {
   "cell_type": "code",
   "execution_count": 60,
   "id": "9d0bba2b-0625-4b8e-916a-f7172a6d0ac5",
   "metadata": {},
   "outputs": [],
   "source": [
    "gradient = (\n",
    "    test.right_expectation\n",
    "    *test.symmetry_transfer_matrix_singular_vals[0]\n",
    "    *left_gradients[0].to_ndarray()\n",
    ")\n",
    "delta_U = np_Z"
   ]
  },
  {
   "cell_type": "code",
   "execution_count": 61,
   "id": "ce585edc-bbb9-43a1-807b-ea609bfd8aa2",
   "metadata": {},
   "outputs": [
    {
     "data": {
      "text/plain": [
       "(0.9306162804445224+0j)"
      ]
     },
     "execution_count": 61,
     "metadata": {},
     "output_type": "execute_result"
    }
   ],
   "source": [
    "np.sum(gradient*delta_U)"
   ]
  },
  {
   "cell_type": "code",
   "execution_count": 62,
   "id": "3aabe78d-caf4-47c6-9534-a55461cb09a3",
   "metadata": {},
   "outputs": [],
   "source": [
    "test2 = SymmetryActionWithBoundaryUnitaries(\n",
    "    psi,\n",
    "    [np_X, np_I]*50,\n",
    "    left_boundary_unitaries = [np_Z + np_Z,],\n",
    "    right_boundary_unitaries = [np_X, np_Z]\n",
    ")"
   ]
  },
  {
   "cell_type": "code",
   "execution_count": 63,
   "id": "9a3f8e2c-485f-4e69-b1a7-997e0135fe20",
   "metadata": {},
   "outputs": [
    {
     "data": {
      "text/plain": [
       "array(1.86123256)"
      ]
     },
     "execution_count": 63,
     "metadata": {},
     "output_type": "execute_result"
    }
   ],
   "source": [
    "test2.compute_expectation()"
   ]
  },
  {
   "cell_type": "code",
   "execution_count": 64,
   "id": "358af290-ffdc-4685-ae2a-518171e035dc",
   "metadata": {},
   "outputs": [
    {
     "data": {
      "text/plain": [
       "0.9306162804445213"
      ]
     },
     "execution_count": 64,
     "metadata": {},
     "output_type": "execute_result"
    }
   ],
   "source": [
    "test2.expectation - test.expectation"
   ]
  },
  {
   "cell_type": "markdown",
   "id": "754fcbef-895e-4940-92ba-89cf9cb19253",
   "metadata": {},
   "source": [
    "All good"
   ]
  },
  {
   "cell_type": "markdown",
   "id": "5c7c139e-28e6-492f-bfc9-09f98b2ab3d8",
   "metadata": {},
   "source": [
    "## gradients_outside_right_boundary_unitaries"
   ]
  },
  {
   "cell_type": "code",
   "execution_count": 65,
   "id": "c4af0785-f9a0-49f0-ac36-442f2dd02103",
   "metadata": {},
   "outputs": [],
   "source": [
    "outside_gradients = gradients_outside_right_boundary_unitaries(\n",
    "    psi,\n",
    "    (\n",
    "        test.left_expectation\n",
    "        * test.symmetry_transfer_matrix_singular_vals[0]\n",
    "        * test.right_transfer_vectors[-1]\n",
    "    ),\n",
    "    3,\n",
    "    test.right_symmetry_index + 2\n",
    ")"
   ]
  },
  {
   "cell_type": "code",
   "execution_count": 66,
   "id": "7f704a0f-64e3-4b08-966a-e817daf9038f",
   "metadata": {},
   "outputs": [
    {
     "data": {
      "text/plain": [
       "[<npc.Array shape=(2, 2) labels=['p*', 'p']>,\n",
       " <npc.Array shape=(2, 2) labels=['p*', 'p']>,\n",
       " <npc.Array shape=(2, 2) labels=['p*', 'p']>]"
      ]
     },
     "execution_count": 66,
     "metadata": {},
     "output_type": "execute_result"
    }
   ],
   "source": [
    "outside_gradients"
   ]
  },
  {
   "cell_type": "code",
   "execution_count": 67,
   "id": "fc9c479a-3744-424a-985f-66815ab9edbb",
   "metadata": {},
   "outputs": [
    {
     "data": {
      "text/plain": [
       "array([[0.46530814+0.j, 0.12035289+0.j],\n",
       "       [0.12035289+0.j, 0.46530814+0.j]])"
      ]
     },
     "execution_count": 67,
     "metadata": {},
     "output_type": "execute_result"
    }
   ],
   "source": [
    "outside_gradients[0].to_ndarray()"
   ]
  },
  {
   "cell_type": "code",
   "execution_count": 68,
   "id": "e84c2f32-2d06-4632-9b7a-74206600315a",
   "metadata": {},
   "outputs": [
    {
     "data": {
      "text/plain": [
       "(0.2407057831122734+0j)"
      ]
     },
     "execution_count": 68,
     "metadata": {},
     "output_type": "execute_result"
    }
   ],
   "source": [
    "np.sum(outside_gradients[0].to_ndarray()*np_X)"
   ]
  },
  {
   "cell_type": "code",
   "execution_count": 112,
   "id": "222a1873-1fa8-4a35-af28-a28993a8b8c7",
   "metadata": {},
   "outputs": [],
   "source": [
    "test3 = SymmetryActionWithBoundaryUnitaries(\n",
    "    psi,\n",
    "    [np_X, np_I]*50,\n",
    "    left_boundary_unitaries = [np_Z,],\n",
    "    right_boundary_unitaries = [np_X, np_Z, np_I + np_X]\n",
    ")"
   ]
  },
  {
   "cell_type": "code",
   "execution_count": 113,
   "id": "e5c1b483-91fd-4e17-a812-a3d0813a1e5d",
   "metadata": {},
   "outputs": [
    {
     "data": {
      "text/plain": [
       "array(0.93061628)"
      ]
     },
     "execution_count": 113,
     "metadata": {},
     "output_type": "execute_result"
    }
   ],
   "source": [
    "test.compute_expectation()"
   ]
  },
  {
   "cell_type": "code",
   "execution_count": 114,
   "id": "855805f1-89f2-4b66-85c0-afea4b450e88",
   "metadata": {},
   "outputs": [
    {
     "data": {
      "text/plain": [
       "array(1.17132206)"
      ]
     },
     "execution_count": 114,
     "metadata": {},
     "output_type": "execute_result"
    }
   ],
   "source": [
    "test3.compute_expectation()"
   ]
  },
  {
   "cell_type": "code",
   "execution_count": 115,
   "id": "c5fc5c9f-8549-4b18-818a-f0567bdbcf60",
   "metadata": {},
   "outputs": [
    {
     "data": {
      "text/plain": [
       "0.24070578311227275"
      ]
     },
     "execution_count": 115,
     "metadata": {},
     "output_type": "execute_result"
    }
   ],
   "source": [
    "test3.expectation - test.expectation"
   ]
  },
  {
   "cell_type": "code",
   "execution_count": 116,
   "id": "d27cac7a-b781-40f9-a43a-0489d07723e0",
   "metadata": {},
   "outputs": [
    {
     "data": {
      "text/plain": [
       "(0.23265407011115596+0j)"
      ]
     },
     "execution_count": 116,
     "metadata": {},
     "output_type": "execute_result"
    }
   ],
   "source": [
    "np.sum(outside_gradients[1].to_ndarray()*np_X)"
   ]
  },
  {
   "cell_type": "code",
   "execution_count": 120,
   "id": "bc28143d-f011-48d2-8213-2444ff1df80e",
   "metadata": {},
   "outputs": [],
   "source": [
    "test4 = SymmetryActionWithBoundaryUnitaries(\n",
    "    psi,\n",
    "    [np_X, np_I]*50,\n",
    "    left_boundary_unitaries = [np_Z,],\n",
    "    right_boundary_unitaries = [np_X, np_Z, np_I, np_I + np_X]\n",
    ")"
   ]
  },
  {
   "cell_type": "code",
   "execution_count": 121,
   "id": "91b6a240-5839-4387-ba0b-994ff8ea000f",
   "metadata": {},
   "outputs": [
    {
     "data": {
      "text/plain": [
       "array(1.16327035)"
      ]
     },
     "execution_count": 121,
     "metadata": {},
     "output_type": "execute_result"
    }
   ],
   "source": [
    "test4.compute_expectation()"
   ]
  },
  {
   "cell_type": "code",
   "execution_count": 122,
   "id": "2ac9ffd1-23e0-453e-aae0-7180675dca7f",
   "metadata": {},
   "outputs": [
    {
     "data": {
      "text/plain": [
       "0.23265407011115102"
      ]
     },
     "execution_count": 122,
     "metadata": {},
     "output_type": "execute_result"
    }
   ],
   "source": [
    "test4.expectation - test.expectation"
   ]
  },
  {
   "cell_type": "markdown",
   "id": "966d8e82-19fc-4bc3-85b9-e3f41563da8d",
   "metadata": {},
   "source": [
    "## gradients_outside_left_boundary_unitaries"
   ]
  },
  {
   "cell_type": "code",
   "execution_count": 123,
   "id": "ceec60c2-ec33-4a52-8fc9-f74e59a3aae3",
   "metadata": {},
   "outputs": [],
   "source": [
    "outside_gradients = gradients_outside_left_boundary_unitaries(\n",
    "    psi,\n",
    "    (\n",
    "        test.right_expectation\n",
    "        * test.symmetry_transfer_matrix_singular_vals[0]\n",
    "        * test.left_transfer_vectors[-1]\n",
    "    ),\n",
    "    3,\n",
    "    test.left_symmetry_index - 1\n",
    ")"
   ]
  },
  {
   "cell_type": "code",
   "execution_count": 124,
   "id": "9f52e516-fbf4-46a6-9fe2-6c5740d3881a",
   "metadata": {},
   "outputs": [
    {
     "data": {
      "text/plain": [
       "[<npc.Array shape=(2, 2) labels=['p', 'p*']>,\n",
       " <npc.Array shape=(2, 2) labels=['p', 'p*']>,\n",
       " <npc.Array shape=(2, 2) labels=['p', 'p*']>]"
      ]
     },
     "execution_count": 124,
     "metadata": {},
     "output_type": "execute_result"
    }
   ],
   "source": [
    "outside_gradients"
   ]
  },
  {
   "cell_type": "code",
   "execution_count": 125,
   "id": "a66b582c-3db7-4c42-9fb0-21b0b2c01e1d",
   "metadata": {},
   "outputs": [
    {
     "data": {
      "text/plain": [
       "array([[0.46530812+0.j, 0.12035289+0.j],\n",
       "       [0.12035289+0.j, 0.46530816+0.j]])"
      ]
     },
     "execution_count": 125,
     "metadata": {},
     "output_type": "execute_result"
    }
   ],
   "source": [
    "outside_gradients[0].to_ndarray()"
   ]
  },
  {
   "cell_type": "code",
   "execution_count": 126,
   "id": "64fc2676-3626-494f-936f-bf1a1626526b",
   "metadata": {},
   "outputs": [
    {
     "data": {
      "text/plain": [
       "(0.24070578311226953+0j)"
      ]
     },
     "execution_count": 126,
     "metadata": {},
     "output_type": "execute_result"
    }
   ],
   "source": [
    "np.sum(outside_gradients[0].to_ndarray()*np_X)"
   ]
  },
  {
   "cell_type": "code",
   "execution_count": 127,
   "id": "5bbed3d4-d41e-4945-a0d8-320021a9678b",
   "metadata": {},
   "outputs": [],
   "source": [
    "test3 = SymmetryActionWithBoundaryUnitaries(\n",
    "    psi,\n",
    "    [np_X, np_I]*50,\n",
    "    left_boundary_unitaries = [np_Z, np_I + np_X],\n",
    "    right_boundary_unitaries = [np_X, np_Z]\n",
    ")"
   ]
  },
  {
   "cell_type": "code",
   "execution_count": 128,
   "id": "b36e9177-7c8c-4b32-860b-11fda3493634",
   "metadata": {},
   "outputs": [
    {
     "data": {
      "text/plain": [
       "array(1.17132206)"
      ]
     },
     "execution_count": 128,
     "metadata": {},
     "output_type": "execute_result"
    }
   ],
   "source": [
    "test3.compute_expectation()"
   ]
  },
  {
   "cell_type": "code",
   "execution_count": 129,
   "id": "3756a1aa-068e-4b1f-a5ae-cc49cb431a42",
   "metadata": {},
   "outputs": [
    {
     "data": {
      "text/plain": [
       "0.2407057831122681"
      ]
     },
     "execution_count": 129,
     "metadata": {},
     "output_type": "execute_result"
    }
   ],
   "source": [
    "test3.expectation - test.expectation"
   ]
  },
  {
   "cell_type": "code",
   "execution_count": 134,
   "id": "b45b9d32-59cf-44bb-9ec4-6930e3fe87cc",
   "metadata": {},
   "outputs": [
    {
     "data": {
      "text/plain": [
       "array([[0.46530814+0.j, 0.11632704+0.j],\n",
       "       [0.11632704+0.j, 0.46530814+0.j]])"
      ]
     },
     "execution_count": 134,
     "metadata": {},
     "output_type": "execute_result"
    }
   ],
   "source": [
    "outside_gradients[1].to_ndarray()"
   ]
  },
  {
   "cell_type": "markdown",
   "id": "df101989-5c15-4d84-9b3e-c05c700321ee",
   "metadata": {},
   "source": [
    "There's an error here, ignore for now."
   ]
  },
  {
   "cell_type": "code",
   "execution_count": 130,
   "id": "cc7ff192-8faf-4c04-be8b-285d456404e2",
   "metadata": {},
   "outputs": [
    {
     "data": {
      "text/plain": [
       "(0.23265407011115596+0j)"
      ]
     },
     "execution_count": 130,
     "metadata": {},
     "output_type": "execute_result"
    }
   ],
   "source": [
    "np.sum(outside_gradients[1].to_ndarray()*np_X)"
   ]
  },
  {
   "cell_type": "code",
   "execution_count": 131,
   "id": "0e5dcc01-27c1-4eae-bd45-d725cedd4fb6",
   "metadata": {},
   "outputs": [],
   "source": [
    "test4 = SymmetryActionWithBoundaryUnitaries(\n",
    "    psi,\n",
    "    [np_X, np_I]*50,\n",
    "    left_boundary_unitaries = [np_Z, np_I, np_I + np_X],\n",
    "    right_boundary_unitaries = [np_X, np_Z, np_I, np_X]\n",
    ")"
   ]
  },
  {
   "cell_type": "code",
   "execution_count": 132,
   "id": "a506cc5c-bea4-4d56-bf63-6290f8b75852",
   "metadata": {},
   "outputs": [
    {
     "data": {
      "text/plain": [
       "array(0.29081759)"
      ]
     },
     "execution_count": 132,
     "metadata": {},
     "output_type": "execute_result"
    }
   ],
   "source": [
    "test4.compute_expectation()"
   ]
  },
  {
   "cell_type": "code",
   "execution_count": 133,
   "id": "9b7116ec-2dd9-4971-8dba-04d463da2325",
   "metadata": {},
   "outputs": [
    {
     "data": {
      "text/plain": [
       "-0.6397986928055761"
      ]
     },
     "execution_count": 133,
     "metadata": {},
     "output_type": "execute_result"
    }
   ],
   "source": [
    "test4.expectation - test.expectation"
   ]
  },
  {
   "cell_type": "markdown",
   "id": "bd324477-ec53-47ec-aa27-c2fb5344be77",
   "metadata": {},
   "source": [
    "## quadratic_expectation_gradient"
   ]
  },
  {
   "cell_type": "code",
   "execution_count": 188,
   "id": "0197d568-9770-4746-b95a-8fd7a1beed82",
   "metadata": {},
   "outputs": [],
   "source": [
    "test = SymmetryActionWithBoundaryUnitaries(\n",
    "    psi,\n",
    "    [np_X, np_I]*50,\n",
    "    left_boundary_unitaries = [1j*np_Z,],\n",
    "    right_boundary_unitaries = [1j*np_X, 1j*np_Z]\n",
    ")"
   ]
  },
  {
   "cell_type": "code",
   "execution_count": 189,
   "id": "0e311003-d9b4-4af7-899d-095a2f7c8e7c",
   "metadata": {},
   "outputs": [
    {
     "data": {
      "text/plain": [
       "array(0.-0.93061628j)"
      ]
     },
     "execution_count": 189,
     "metadata": {},
     "output_type": "execute_result"
    }
   ],
   "source": [
    "test.compute_expectation()"
   ]
  },
  {
   "cell_type": "code",
   "execution_count": 190,
   "id": "53cb181d-7b04-427b-b544-cbc09c4894d0",
   "metadata": {},
   "outputs": [],
   "source": [
    "squared_expectation = np.abs(test.expectation)**2"
   ]
  },
  {
   "cell_type": "code",
   "execution_count": 191,
   "id": "ecabecd7-6565-4247-83a8-b664ff24f677",
   "metadata": {},
   "outputs": [
    {
     "data": {
      "text/plain": [
       "0.8660466614283958"
      ]
     },
     "execution_count": 191,
     "metadata": {},
     "output_type": "execute_result"
    }
   ],
   "source": [
    "squared_expectation"
   ]
  },
  {
   "cell_type": "code",
   "execution_count": 192,
   "id": "260dc24d-6d91-423c-9a3d-b3255ff2039a",
   "metadata": {},
   "outputs": [
    {
     "data": {
      "text/plain": [
       "(-0-0.9306162804445224j)"
      ]
     },
     "execution_count": 192,
     "metadata": {},
     "output_type": "execute_result"
    }
   ],
   "source": [
    "test.compute_svd_approximate_expectation()"
   ]
  },
  {
   "cell_type": "code",
   "execution_count": 193,
   "id": "7875e539-d7fa-4391-8dad-02c9759553eb",
   "metadata": {},
   "outputs": [],
   "source": [
    "right_gradients = expectation_gradients(\n",
    "    psi,\n",
    "    test.right_transfer_matrices,\n",
    "    test.right_symmetry_index+1,\n",
    "    left_environment=test.right_projected_symmetry_state,\n",
    "    right_environment=None\n",
    ")"
   ]
  },
  {
   "cell_type": "code",
   "execution_count": 194,
   "id": "c311607e-008f-48cc-b73e-8c1a1c56e548",
   "metadata": {},
   "outputs": [
    {
     "data": {
      "text/plain": [
       "2"
      ]
     },
     "execution_count": 194,
     "metadata": {},
     "output_type": "execute_result"
    }
   ],
   "source": [
    "len(test.right_transfer_matrices)"
   ]
  },
  {
   "cell_type": "code",
   "execution_count": 195,
   "id": "15e126ba-ded7-4dac-a978-f538d251203c",
   "metadata": {},
   "outputs": [
    {
     "data": {
      "text/plain": [
       "2"
      ]
     },
     "execution_count": 195,
     "metadata": {},
     "output_type": "execute_result"
    }
   ],
   "source": [
    "len(right_gradients)"
   ]
  },
  {
   "cell_type": "code",
   "execution_count": 196,
   "id": "8910fb80-1b06-43df-bdb3-caa5da039145",
   "metadata": {},
   "outputs": [],
   "source": [
    "gradient = (\n",
    "    test.left_expectation\n",
    "    *test.symmetry_transfer_matrix_singular_vals[0]\n",
    "    *right_gradients[0].to_ndarray()\n",
    ")"
   ]
  },
  {
   "cell_type": "code",
   "execution_count": 197,
   "id": "17324709-3c8c-4191-b88b-a54f4bb1dc05",
   "metadata": {},
   "outputs": [],
   "source": [
    "quad_gradient = quadratic_expectation_gradient(gradient, test.expectation)"
   ]
  },
  {
   "cell_type": "code",
   "execution_count": 198,
   "id": "4f9a6342-e6a6-4f21-b1f4-147aa2ed451c",
   "metadata": {},
   "outputs": [
    {
     "data": {
      "text/plain": [
       "array([[-0.12035289+0.j, -0.46530814+0.j],\n",
       "       [-0.46530814+0.j, -0.12035289+0.j]])"
      ]
     },
     "execution_count": 198,
     "metadata": {},
     "output_type": "execute_result"
    }
   ],
   "source": [
    "gradient"
   ]
  },
  {
   "cell_type": "code",
   "execution_count": 199,
   "id": "d85188f2-d88f-47cd-979f-311fec52924a",
   "metadata": {},
   "outputs": [
    {
     "data": {
      "text/plain": [
       "array([[-0.+0.22400472j, -0.+0.86604666j],\n",
       "       [-0.+0.86604666j, -0.+0.22400472j]])"
      ]
     },
     "execution_count": 199,
     "metadata": {},
     "output_type": "execute_result"
    }
   ],
   "source": [
    "quad_gradient"
   ]
  },
  {
   "cell_type": "markdown",
   "id": "64c46e0d-3d82-4a88-a141-d9b51bf54bfc",
   "metadata": {},
   "source": [
    "Try different perturbations"
   ]
  },
  {
   "cell_type": "code",
   "execution_count": 212,
   "id": "927c3b7b-1190-42d6-9e82-96c1d62766ab",
   "metadata": {},
   "outputs": [],
   "source": [
    "delta_U = 1e-2*1j*np_X"
   ]
  },
  {
   "cell_type": "code",
   "execution_count": 213,
   "id": "95a6b373-abac-4630-9ad6-bbc432fe8a2e",
   "metadata": {},
   "outputs": [
    {
     "data": {
      "text/plain": [
       "array([[0.+0.j  , 0.+0.01j],\n",
       "       [0.+0.01j, 0.+0.j  ]])"
      ]
     },
     "execution_count": 213,
     "metadata": {},
     "output_type": "execute_result"
    }
   ],
   "source": [
    "delta_U"
   ]
  },
  {
   "cell_type": "code",
   "execution_count": 214,
   "id": "4a05837b-1d33-4c04-8cd6-c6de44bc4fa9",
   "metadata": {},
   "outputs": [
    {
     "data": {
      "text/plain": [
       "array(0.-0.93061628j)"
      ]
     },
     "execution_count": 214,
     "metadata": {},
     "output_type": "execute_result"
    }
   ],
   "source": [
    "test.expectation"
   ]
  },
  {
   "cell_type": "code",
   "execution_count": 215,
   "id": "baf4010c-9f3f-410e-9ce2-8567fcee5b21",
   "metadata": {},
   "outputs": [
    {
     "data": {
      "text/plain": [
       "-0.009306162804445222j"
      ]
     },
     "execution_count": 215,
     "metadata": {},
     "output_type": "execute_result"
    }
   ],
   "source": [
    "np.sum(delta_U*gradient)"
   ]
  },
  {
   "cell_type": "code",
   "execution_count": 216,
   "id": "17c9fe42-a5f0-4b53-9d20-fe288e4c08d8",
   "metadata": {},
   "outputs": [
    {
     "data": {
      "text/plain": [
       "0.017320933228567932"
      ]
     },
     "execution_count": 216,
     "metadata": {},
     "output_type": "execute_result"
    }
   ],
   "source": [
    "first_order_correction_from_gradient_one_site(quad_gradient, delta_U)"
   ]
  },
  {
   "cell_type": "code",
   "execution_count": 217,
   "id": "1da498ef-9fcc-4f65-8e11-dc1e93962764",
   "metadata": {},
   "outputs": [],
   "source": [
    "test2 = SymmetryActionWithBoundaryUnitaries(\n",
    "    psi,\n",
    "    [np_X, np_I]*50,\n",
    "    left_boundary_unitaries = [1j*np_Z,],\n",
    "    right_boundary_unitaries = [1j*np_X + delta_U, 1j*np_Z]\n",
    ")"
   ]
  },
  {
   "cell_type": "code",
   "execution_count": 218,
   "id": "7929a404-fa17-42b0-9560-8a8efbbb7d88",
   "metadata": {},
   "outputs": [
    {
     "data": {
      "text/plain": [
       "array(0.-0.93992244j)"
      ]
     },
     "execution_count": 218,
     "metadata": {},
     "output_type": "execute_result"
    }
   ],
   "source": [
    "test2.compute_expectation()"
   ]
  },
  {
   "cell_type": "code",
   "execution_count": 219,
   "id": "d7cebc8d-5f57-4fc5-9a54-e7c8d567fc73",
   "metadata": {},
   "outputs": [
    {
     "data": {
      "text/plain": [
       "-0.009306162804445184j"
      ]
     },
     "execution_count": 219,
     "metadata": {},
     "output_type": "execute_result"
    }
   ],
   "source": [
    "test2.expectation - test.expectation"
   ]
  },
  {
   "cell_type": "code",
   "execution_count": 220,
   "id": "d7c97ed2-f156-47bb-a4c2-d84d125c34d5",
   "metadata": {},
   "outputs": [
    {
     "data": {
      "text/plain": [
       "0.017407537894710723"
      ]
     },
     "execution_count": 220,
     "metadata": {},
     "output_type": "execute_result"
    }
   ],
   "source": [
    "np.abs(test2.expectation)**2 - squared_expectation"
   ]
  },
  {
   "cell_type": "code",
   "execution_count": 230,
   "id": "e49e197d-dcb3-41b6-b188-459890472044",
   "metadata": {},
   "outputs": [],
   "source": [
    "delta_U = 1e-2*1j*np_I"
   ]
  },
  {
   "cell_type": "code",
   "execution_count": 231,
   "id": "737032a8-888b-4464-9389-a7518440c190",
   "metadata": {},
   "outputs": [
    {
     "data": {
      "text/plain": [
       "array([[0.+0.01j, 0.+0.j  ],\n",
       "       [0.+0.j  , 0.+0.01j]])"
      ]
     },
     "execution_count": 231,
     "metadata": {},
     "output_type": "execute_result"
    }
   ],
   "source": [
    "delta_U"
   ]
  },
  {
   "cell_type": "code",
   "execution_count": 232,
   "id": "a7476c42-a360-467e-9708-979f687afb30",
   "metadata": {},
   "outputs": [
    {
     "data": {
      "text/plain": [
       "array(0.-0.93061628j)"
      ]
     },
     "execution_count": 232,
     "metadata": {},
     "output_type": "execute_result"
    }
   ],
   "source": [
    "test.expectation"
   ]
  },
  {
   "cell_type": "code",
   "execution_count": 233,
   "id": "173a6bf1-917f-4313-88f7-df298a92cbe8",
   "metadata": {},
   "outputs": [
    {
     "data": {
      "text/plain": [
       "-0.00240705783112258j"
      ]
     },
     "execution_count": 233,
     "metadata": {},
     "output_type": "execute_result"
    }
   ],
   "source": [
    "np.sum(delta_U*gradient)"
   ]
  },
  {
   "cell_type": "code",
   "execution_count": 234,
   "id": "0386e3fa-fd57-48b7-b12f-6503d49c9efa",
   "metadata": {},
   "outputs": [
    {
     "data": {
      "text/plain": [
       "0.004480094411228304"
      ]
     },
     "execution_count": 234,
     "metadata": {},
     "output_type": "execute_result"
    }
   ],
   "source": [
    "first_order_correction_from_gradient_one_site(quad_gradient, delta_U)"
   ]
  },
  {
   "cell_type": "code",
   "execution_count": 235,
   "id": "95374c79-9717-4ad5-a5d1-4809cf0d106d",
   "metadata": {},
   "outputs": [],
   "source": [
    "test2 = SymmetryActionWithBoundaryUnitaries(\n",
    "    psi,\n",
    "    [np_X, np_I]*50,\n",
    "    left_boundary_unitaries = [1j*np_Z,],\n",
    "    right_boundary_unitaries = [1j*np_X + delta_U, 1j*np_Z]\n",
    ")"
   ]
  },
  {
   "cell_type": "code",
   "execution_count": 236,
   "id": "872674e7-bbe6-4d32-bff1-716592df5311",
   "metadata": {},
   "outputs": [
    {
     "data": {
      "text/plain": [
       "array(0.-0.93302334j)"
      ]
     },
     "execution_count": 236,
     "metadata": {},
     "output_type": "execute_result"
    }
   ],
   "source": [
    "test2.compute_expectation()"
   ]
  },
  {
   "cell_type": "code",
   "execution_count": 237,
   "id": "a2d3457a-e57c-4291-8a72-19235b7ea3d4",
   "metadata": {},
   "outputs": [
    {
     "data": {
      "text/plain": [
       "-0.0024070578311222723j"
      ]
     },
     "execution_count": 237,
     "metadata": {},
     "output_type": "execute_result"
    }
   ],
   "source": [
    "test2.expectation - test.expectation"
   ]
  },
  {
   "cell_type": "code",
   "execution_count": 238,
   "id": "9f2ac78a-7e26-41d3-91aa-d32e5930d551",
   "metadata": {},
   "outputs": [
    {
     "data": {
      "text/plain": [
       "0.004485888338630173"
      ]
     },
     "execution_count": 238,
     "metadata": {},
     "output_type": "execute_result"
    }
   ],
   "source": [
    "np.abs(test2.expectation)**2 - squared_expectation"
   ]
  },
  {
   "cell_type": "markdown",
   "id": "057bcc54-4690-4231-9303-300b9047948b",
   "metadata": {},
   "source": [
    "## linear_expectation_gradient"
   ]
  },
  {
   "cell_type": "code",
   "execution_count": 239,
   "id": "e2b6ce4e-4e7b-4010-8b12-d296e1ae55ae",
   "metadata": {},
   "outputs": [],
   "source": [
    "abs_expectation = np.abs(test.expectation)"
   ]
  },
  {
   "cell_type": "code",
   "execution_count": 240,
   "id": "55c3112d-88d9-4cb8-8406-f479b631c44a",
   "metadata": {},
   "outputs": [
    {
     "data": {
      "text/plain": [
       "0.9306162804445213"
      ]
     },
     "execution_count": 240,
     "metadata": {},
     "output_type": "execute_result"
    }
   ],
   "source": [
    "abs_expectation"
   ]
  },
  {
   "cell_type": "code",
   "execution_count": 241,
   "id": "0880b915-5601-4dca-988d-48431e661650",
   "metadata": {},
   "outputs": [],
   "source": [
    "lin_gradient = linear_expectation_gradient(gradient, test.expectation)"
   ]
  },
  {
   "cell_type": "code",
   "execution_count": 242,
   "id": "1091145c-80c0-4df9-9205-eadc886adc11",
   "metadata": {},
   "outputs": [
    {
     "data": {
      "text/plain": [
       "array([[-0.12035289+0.j, -0.46530814+0.j],\n",
       "       [-0.46530814+0.j, -0.12035289+0.j]])"
      ]
     },
     "execution_count": 242,
     "metadata": {},
     "output_type": "execute_result"
    }
   ],
   "source": [
    "gradient"
   ]
  },
  {
   "cell_type": "code",
   "execution_count": 243,
   "id": "94a28efb-722b-45fe-a68a-7bef16cb2d9a",
   "metadata": {},
   "outputs": [
    {
     "data": {
      "text/plain": [
       "array([[-0.+0.12035289j, -0.+0.46530814j],\n",
       "       [-0.+0.46530814j, -0.+0.12035289j]])"
      ]
     },
     "execution_count": 243,
     "metadata": {},
     "output_type": "execute_result"
    }
   ],
   "source": [
    "lin_gradient"
   ]
  },
  {
   "cell_type": "markdown",
   "id": "511a83aa-4092-4acd-a179-cf0745b40184",
   "metadata": {},
   "source": [
    "Try different perturbations"
   ]
  },
  {
   "cell_type": "code",
   "execution_count": 244,
   "id": "efa8eee9-6cf8-4285-969b-288c852e236e",
   "metadata": {},
   "outputs": [],
   "source": [
    "delta_U = 1e-2*1j*np_X"
   ]
  },
  {
   "cell_type": "code",
   "execution_count": 245,
   "id": "0a0f05bc-6d3d-47b7-9912-132e7480bfdb",
   "metadata": {},
   "outputs": [
    {
     "data": {
      "text/plain": [
       "array([[0.+0.j  , 0.+0.01j],\n",
       "       [0.+0.01j, 0.+0.j  ]])"
      ]
     },
     "execution_count": 245,
     "metadata": {},
     "output_type": "execute_result"
    }
   ],
   "source": [
    "delta_U"
   ]
  },
  {
   "cell_type": "code",
   "execution_count": 246,
   "id": "9dd1e994-8fce-4a31-a87e-bebc00c05678",
   "metadata": {},
   "outputs": [
    {
     "data": {
      "text/plain": [
       "array(0.-0.93061628j)"
      ]
     },
     "execution_count": 246,
     "metadata": {},
     "output_type": "execute_result"
    }
   ],
   "source": [
    "test.expectation"
   ]
  },
  {
   "cell_type": "code",
   "execution_count": 247,
   "id": "1b3094a0-e6ca-47ed-b6a5-ca93404fb1ce",
   "metadata": {},
   "outputs": [
    {
     "data": {
      "text/plain": [
       "0.009306162804445222"
      ]
     },
     "execution_count": 247,
     "metadata": {},
     "output_type": "execute_result"
    }
   ],
   "source": [
    "first_order_correction_from_gradient_one_site(lin_gradient, delta_U)"
   ]
  },
  {
   "cell_type": "code",
   "execution_count": 248,
   "id": "28adcc30-567c-4e25-a9a3-9d04d5d27b1d",
   "metadata": {},
   "outputs": [],
   "source": [
    "test2 = SymmetryActionWithBoundaryUnitaries(\n",
    "    psi,\n",
    "    [np_X, np_I]*50,\n",
    "    left_boundary_unitaries = [1j*np_Z,],\n",
    "    right_boundary_unitaries = [1j*np_X + delta_U, 1j*np_Z]\n",
    ")"
   ]
  },
  {
   "cell_type": "code",
   "execution_count": 249,
   "id": "f5175934-5693-48cb-bbe9-c509cdc1ec59",
   "metadata": {},
   "outputs": [
    {
     "data": {
      "text/plain": [
       "array(0.-0.93992244j)"
      ]
     },
     "execution_count": 249,
     "metadata": {},
     "output_type": "execute_result"
    }
   ],
   "source": [
    "test2.compute_expectation()"
   ]
  },
  {
   "cell_type": "code",
   "execution_count": 250,
   "id": "22a9fb31-94e1-4975-ad28-76281c2e11e6",
   "metadata": {},
   "outputs": [
    {
     "data": {
      "text/plain": [
       "-0.009306162804445184j"
      ]
     },
     "execution_count": 250,
     "metadata": {},
     "output_type": "execute_result"
    }
   ],
   "source": [
    "test2.expectation - test.expectation"
   ]
  },
  {
   "cell_type": "code",
   "execution_count": 251,
   "id": "a806d0af-2d4c-4dad-b506-d2ce4ab61a04",
   "metadata": {},
   "outputs": [
    {
     "data": {
      "text/plain": [
       "0.009306162804445184"
      ]
     },
     "execution_count": 251,
     "metadata": {},
     "output_type": "execute_result"
    }
   ],
   "source": [
    "np.abs(test2.expectation) - abs_expectation"
   ]
  },
  {
   "cell_type": "code",
   "execution_count": 252,
   "id": "832d47f0-4735-4453-9a27-ddc18ebb9ca7",
   "metadata": {},
   "outputs": [],
   "source": [
    "delta_U = 1e-2*1j*np_I"
   ]
  },
  {
   "cell_type": "code",
   "execution_count": 253,
   "id": "d227709e-df2e-4bd8-aa61-2cdded989afe",
   "metadata": {},
   "outputs": [
    {
     "data": {
      "text/plain": [
       "array([[0.+0.01j, 0.+0.j  ],\n",
       "       [0.+0.j  , 0.+0.01j]])"
      ]
     },
     "execution_count": 253,
     "metadata": {},
     "output_type": "execute_result"
    }
   ],
   "source": [
    "delta_U"
   ]
  },
  {
   "cell_type": "code",
   "execution_count": 254,
   "id": "a00fa081-bc3c-4e87-9be1-7b88cfafd10d",
   "metadata": {},
   "outputs": [
    {
     "data": {
      "text/plain": [
       "0.00240705783112258"
      ]
     },
     "execution_count": 254,
     "metadata": {},
     "output_type": "execute_result"
    }
   ],
   "source": [
    "first_order_correction_from_gradient_one_site(lin_gradient, delta_U)"
   ]
  },
  {
   "cell_type": "code",
   "execution_count": 255,
   "id": "a931ba4b-9787-4982-b439-a53cf9d4ca0b",
   "metadata": {},
   "outputs": [],
   "source": [
    "test2 = SymmetryActionWithBoundaryUnitaries(\n",
    "    psi,\n",
    "    [np_X, np_I]*50,\n",
    "    left_boundary_unitaries = [1j*np_Z,],\n",
    "    right_boundary_unitaries = [1j*np_X + delta_U, 1j*np_Z]\n",
    ")"
   ]
  },
  {
   "cell_type": "code",
   "execution_count": 256,
   "id": "4d02654c-59b2-40eb-99de-0f418396143d",
   "metadata": {},
   "outputs": [
    {
     "data": {
      "text/plain": [
       "array(0.-0.93302334j)"
      ]
     },
     "execution_count": 256,
     "metadata": {},
     "output_type": "execute_result"
    }
   ],
   "source": [
    "test2.compute_expectation()"
   ]
  },
  {
   "cell_type": "code",
   "execution_count": 257,
   "id": "79f2605f-704b-40c3-9563-5b05fbf528b0",
   "metadata": {},
   "outputs": [
    {
     "data": {
      "text/plain": [
       "-0.0024070578311222723j"
      ]
     },
     "execution_count": 257,
     "metadata": {},
     "output_type": "execute_result"
    }
   ],
   "source": [
    "test2.expectation - test.expectation"
   ]
  },
  {
   "cell_type": "code",
   "execution_count": 258,
   "id": "151508f8-05c5-4224-8101-10e55647cfbb",
   "metadata": {},
   "outputs": [
    {
     "data": {
      "text/plain": [
       "0.0024070578311222723"
      ]
     },
     "execution_count": 258,
     "metadata": {},
     "output_type": "execute_result"
    }
   ],
   "source": [
    "np.abs(test2.expectation) - abs_expectation"
   ]
  },
  {
   "cell_type": "markdown",
   "id": "9f93a76f-fee8-40ac-a7bc-92fa74168227",
   "metadata": {},
   "source": [
    "Good enough!"
   ]
  },
  {
   "cell_type": "markdown",
   "id": "e762e817-1440-4f07-b922-91edb9187028",
   "metadata": {},
   "source": [
    "# Old code"
   ]
  },
  {
   "cell_type": "code",
   "execution_count": 85,
   "id": "e5e7557c-dfb6-4b59-b5e3-35ecfadea39d",
   "metadata": {},
   "outputs": [],
   "source": [
    "x = 7"
   ]
  },
  {
   "cell_type": "code",
   "execution_count": 86,
   "id": "c695a0bd-0815-4d33-98aa-9fbbc7139836",
   "metadata": {},
   "outputs": [
    {
     "data": {
      "text/plain": [
       "True"
      ]
     },
     "execution_count": 86,
     "metadata": {},
     "output_type": "execute_result"
    }
   ],
   "source": [
    "isinstance(x, int)"
   ]
  },
  {
   "cell_type": "code",
   "execution_count": 87,
   "id": "d76afa5c-c9a3-4a21-813b-2e6f5ea1ad35",
   "metadata": {},
   "outputs": [
    {
     "data": {
      "text/plain": [
       "False"
      ]
     },
     "execution_count": 87,
     "metadata": {},
     "output_type": "execute_result"
    }
   ],
   "source": [
    "isinstance('a', int)"
   ]
  },
  {
   "cell_type": "code",
   "execution_count": 88,
   "id": "16249fd0-b8b6-4603-a282-55584a942d6b",
   "metadata": {},
   "outputs": [
    {
     "name": "stdout",
     "output_type": "stream",
     "text": [
      "Help on class range in module builtins:\n",
      "\n",
      "class range(object)\n",
      " |  range(stop) -> range object\n",
      " |  range(start, stop[, step]) -> range object\n",
      " |  \n",
      " |  Return an object that produces a sequence of integers from start (inclusive)\n",
      " |  to stop (exclusive) by step.  range(i, j) produces i, i+1, i+2, ..., j-1.\n",
      " |  start defaults to 0, and stop is omitted!  range(4) produces 0, 1, 2, 3.\n",
      " |  These are exactly the valid indices for a list of 4 elements.\n",
      " |  When step is given, it specifies the increment (or decrement).\n",
      " |  \n",
      " |  Methods defined here:\n",
      " |  \n",
      " |  __bool__(self, /)\n",
      " |      True if self else False\n",
      " |  \n",
      " |  __contains__(self, key, /)\n",
      " |      Return key in self.\n",
      " |  \n",
      " |  __eq__(self, value, /)\n",
      " |      Return self==value.\n",
      " |  \n",
      " |  __ge__(self, value, /)\n",
      " |      Return self>=value.\n",
      " |  \n",
      " |  __getattribute__(self, name, /)\n",
      " |      Return getattr(self, name).\n",
      " |  \n",
      " |  __getitem__(self, key, /)\n",
      " |      Return self[key].\n",
      " |  \n",
      " |  __gt__(self, value, /)\n",
      " |      Return self>value.\n",
      " |  \n",
      " |  __hash__(self, /)\n",
      " |      Return hash(self).\n",
      " |  \n",
      " |  __iter__(self, /)\n",
      " |      Implement iter(self).\n",
      " |  \n",
      " |  __le__(self, value, /)\n",
      " |      Return self<=value.\n",
      " |  \n",
      " |  __len__(self, /)\n",
      " |      Return len(self).\n",
      " |  \n",
      " |  __lt__(self, value, /)\n",
      " |      Return self<value.\n",
      " |  \n",
      " |  __ne__(self, value, /)\n",
      " |      Return self!=value.\n",
      " |  \n",
      " |  __reduce__(...)\n",
      " |      Helper for pickle.\n",
      " |  \n",
      " |  __repr__(self, /)\n",
      " |      Return repr(self).\n",
      " |  \n",
      " |  __reversed__(...)\n",
      " |      Return a reverse iterator.\n",
      " |  \n",
      " |  count(...)\n",
      " |      rangeobject.count(value) -> integer -- return number of occurrences of value\n",
      " |  \n",
      " |  index(...)\n",
      " |      rangeobject.index(value) -> integer -- return index of value.\n",
      " |      Raise ValueError if the value is not present.\n",
      " |  \n",
      " |  ----------------------------------------------------------------------\n",
      " |  Static methods defined here:\n",
      " |  \n",
      " |  __new__(*args, **kwargs)\n",
      " |      Create and return a new object.  See help(type) for accurate signature.\n",
      " |  \n",
      " |  ----------------------------------------------------------------------\n",
      " |  Data descriptors defined here:\n",
      " |  \n",
      " |  start\n",
      " |  \n",
      " |  step\n",
      " |  \n",
      " |  stop\n",
      "\n"
     ]
    }
   ],
   "source": [
    "help(range)"
   ]
  },
  {
   "cell_type": "code",
   "execution_count": 89,
   "id": "28fdc5b9-696e-4e8a-88ec-197bfaeb5920",
   "metadata": {},
   "outputs": [],
   "source": [
    "kd_00 = np.array([[1,0], [0, 0]])\n",
    "kd_01 = np.array([[0,1], [0, 0]])\n",
    "kd_10 = np.array([[0,0], [1, 0]])\n",
    "kd_11 = np.array([[0,0], [0, 1]])"
   ]
  },
  {
   "cell_type": "code",
   "execution_count": 90,
   "id": "3b36374f-8953-4e92-bae3-fd5e1252409f",
   "metadata": {},
   "outputs": [],
   "source": [
    "kd_arrays = [kd_00, kd_01, kd_10, kd_11]"
   ]
  },
  {
   "cell_type": "code",
   "execution_count": 91,
   "id": "684fedb8-d11b-4125-a804-f2c0e900c3bb",
   "metadata": {},
   "outputs": [],
   "source": [
    "kd_tests = [\n",
    "    SymmetryActionWithBoundaryUnitaries(\n",
    "        psi,\n",
    "        [np_X, np_I]*50,\n",
    "        left_boundary_unitaries = [np_Z,],\n",
    "        right_boundary_unitaries = [m, np_Z]\n",
    "    )\n",
    "    for m in kd_arrays\n",
    "]"
   ]
  },
  {
   "cell_type": "code",
   "execution_count": 92,
   "id": "37a72992-22d8-4894-8911-46a6b90f75c8",
   "metadata": {},
   "outputs": [],
   "source": [
    "for t in kd_tests:\n",
    "    t.compute_expectation()"
   ]
  },
  {
   "cell_type": "code",
   "execution_count": 93,
   "id": "cef2cf44-37bc-4ec6-9d02-476cc26808e5",
   "metadata": {},
   "outputs": [],
   "source": [
    "kd_expectations = [t.expectation for t in kd_tests]"
   ]
  },
  {
   "cell_type": "code",
   "execution_count": 94,
   "id": "6f857973-2d38-4fa2-9bf8-b4ad044b8786",
   "metadata": {},
   "outputs": [
    {
     "data": {
      "text/plain": [
       "[array(0.12035289), array(0.46530814), array(0.46530814), array(0.12035289)]"
      ]
     },
     "execution_count": 94,
     "metadata": {},
     "output_type": "execute_result"
    }
   ],
   "source": [
    "kd_expectations"
   ]
  },
  {
   "cell_type": "code",
   "execution_count": 95,
   "id": "ef674d9e-b197-4a3d-bff7-a30ae5dbc3b9",
   "metadata": {},
   "outputs": [
    {
     "data": {
      "text/plain": [
       "array([[ 4.65308140e-01+0.j, -3.09224594e-12+0.j],\n",
       "       [-3.09224384e-12+0.j, -4.65308140e-01+0.j]])"
      ]
     },
     "execution_count": 95,
     "metadata": {},
     "output_type": "execute_result"
    }
   ],
   "source": [
    "gradient"
   ]
  },
  {
   "cell_type": "code",
   "execution_count": 96,
   "id": "07181d82-3ce9-4588-abd9-efef75712f28",
   "metadata": {},
   "outputs": [
    {
     "data": {
      "text/plain": [
       "1.466928131098472"
      ]
     },
     "execution_count": 96,
     "metadata": {},
     "output_type": "execute_result"
    }
   ],
   "source": [
    "0.17654904/0.12035289"
   ]
  },
  {
   "cell_type": "code",
   "execution_count": 97,
   "id": "d15864f9-047a-4a1c-aff2-77cc020d3052",
   "metadata": {},
   "outputs": [
    {
     "data": {
      "text/plain": [
       "1.4669281091880317"
      ]
     },
     "execution_count": 97,
     "metadata": {},
     "output_type": "execute_result"
    }
   ],
   "source": [
    "0.68257359/0.46530814"
   ]
  },
  {
   "cell_type": "code",
   "execution_count": 98,
   "id": "49882984-8324-4fd4-9b14-8f6e6ea9d5e3",
   "metadata": {},
   "outputs": [
    {
     "data": {
      "text/plain": [
       "0.6816966651170902"
      ]
     },
     "execution_count": 98,
     "metadata": {},
     "output_type": "execute_result"
    }
   ],
   "source": [
    "(0.68257359/0.46530814)**(-1)"
   ]
  },
  {
   "cell_type": "code",
   "execution_count": 99,
   "id": "ff0d7e7a-330e-4295-855f-2ea682e97023",
   "metadata": {},
   "outputs": [
    {
     "data": {
      "text/plain": [
       "array([4.99357640e-01, 5.64338811e-17, 3.52817003e-17, 3.52817003e-17,\n",
       "       3.52817003e-17, 3.52817003e-17, 3.52817003e-17, 3.52817003e-17,\n",
       "       3.52817003e-17, 3.52817003e-17, 3.52817003e-17, 3.52817003e-17,\n",
       "       3.52817003e-17, 3.52817003e-17, 3.52817003e-17, 3.52817003e-17,\n",
       "       3.52817003e-17, 3.52817003e-17, 3.52817003e-17, 3.52817003e-17,\n",
       "       3.52817003e-17, 3.52817003e-17, 3.52817003e-17, 3.52817003e-17,\n",
       "       3.52817003e-17, 3.52817003e-17, 3.52817003e-17, 3.52817003e-17,\n",
       "       3.52817003e-17, 3.52817003e-17, 3.52817003e-17, 3.52817003e-17,\n",
       "       3.52817003e-17, 3.52817003e-17, 3.52817003e-17, 3.52817003e-17,\n",
       "       3.52817003e-17, 3.52817003e-17, 3.52817003e-17, 3.52817003e-17,\n",
       "       3.52817003e-17, 3.52817003e-17, 3.52817003e-17, 3.52817003e-17,\n",
       "       3.52817003e-17, 3.52817003e-17, 3.52817003e-17, 3.52817003e-17,\n",
       "       3.52817003e-17, 3.52817003e-17, 3.52817003e-17, 3.52817003e-17,\n",
       "       3.52817003e-17, 3.52817003e-17, 3.52817003e-17, 3.52817003e-17,\n",
       "       3.52817003e-17, 3.52817003e-17, 3.52817003e-17, 3.52817003e-17,\n",
       "       3.52817003e-17, 3.52817003e-17, 3.52817003e-17, 3.52817003e-17])"
      ]
     },
     "execution_count": 99,
     "metadata": {},
     "output_type": "execute_result"
    }
   ],
   "source": [
    "test.symmetry_transfer_matrix_singular_vals"
   ]
  },
  {
   "cell_type": "code",
   "execution_count": 100,
   "id": "53fec963-1361-4331-a5f0-44690fbe1752",
   "metadata": {},
   "outputs": [
    {
     "data": {
      "text/plain": [
       "(1.3651471712007195+0j)"
      ]
     },
     "execution_count": 100,
     "metadata": {},
     "output_type": "execute_result"
    }
   ],
   "source": [
    "test.left_expectation"
   ]
  },
  {
   "cell_type": "code",
   "execution_count": 101,
   "id": "8e85f75b-211f-40ef-94fa-39486fd4b4b2",
   "metadata": {},
   "outputs": [
    {
     "data": {
      "text/plain": [
       "(0.6816966698367003+0j)"
      ]
     },
     "execution_count": 101,
     "metadata": {},
     "output_type": "execute_result"
    }
   ],
   "source": [
    "test.left_expectation*(test.symmetry_transfer_matrix_singular_vals[0])"
   ]
  }
 ],
 "metadata": {
  "kernelspec": {
   "display_name": "num_spt_venv_p11",
   "language": "python",
   "name": "num_spt_venv_p11"
  },
  "language_info": {
   "codemirror_mode": {
    "name": "ipython",
    "version": 3
   },
   "file_extension": ".py",
   "mimetype": "text/x-python",
   "name": "python",
   "nbconvert_exporter": "python",
   "pygments_lexer": "ipython3",
   "version": "3.11.9"
  }
 },
 "nbformat": 4,
 "nbformat_minor": 5
}
