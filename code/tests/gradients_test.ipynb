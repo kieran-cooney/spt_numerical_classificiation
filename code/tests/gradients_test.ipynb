{
 "cells": [
  {
   "cell_type": "code",
   "execution_count": 1,
   "id": "ff893f97-a977-44de-950c-260b0496ba63",
   "metadata": {},
   "outputs": [],
   "source": [
    "import sys\n",
    "sys.path.append('../')"
   ]
  },
  {
   "cell_type": "code",
   "execution_count": 2,
   "id": "4e5c98e3-60cf-494f-bf90-7778a29094e9",
   "metadata": {},
   "outputs": [],
   "source": [
    "import h5py\n",
    "from tenpy.tools import hdf5_io\n",
    "import tenpy\n",
    "import tenpy.linalg.np_conserved as npc\n",
    "\n",
    "import os"
   ]
  },
  {
   "cell_type": "code",
   "execution_count": 3,
   "id": "f1472ce1-d36a-443a-a7e3-e28ae78642c9",
   "metadata": {},
   "outputs": [],
   "source": [
    "import numpy as np\n",
    "\n",
    "from scipy.stats import unitary_group"
   ]
  },
  {
   "cell_type": "code",
   "execution_count": 4,
   "id": "da4ac14b-02f0-48e6-af1c-15e406d30f82",
   "metadata": {},
   "outputs": [],
   "source": [
    "from SPTOptimization.gradients import *\n",
    "from SPTOptimization.SymmetryActionWithBoundaryUnitaries import SymmetryActionWithBoundaryUnitaries\n",
    "from SPTOptimization.utils import (\n",
    "    tenpy_to_np_transfer_matrix,\n",
    "    get_left_identity_environment,\n",
    "    get_right_identity_environment\n",
    ")"
   ]
  },
  {
   "cell_type": "markdown",
   "id": "d52e4be2-35de-4dec-bf96-733cba97387f",
   "metadata": {},
   "source": [
    "# Load data"
   ]
  },
  {
   "cell_type": "code",
   "execution_count": 5,
   "id": "51da7bd5-0c5f-4faf-9002-26afba1ba9f8",
   "metadata": {},
   "outputs": [],
   "source": [
    "DATA_DIR = r\"../data/transverse_cluster_200_site_dmrg/0_50.h5\""
   ]
  },
  {
   "cell_type": "code",
   "execution_count": 6,
   "id": "4fbc5874-d3e8-4469-9e41-879b4b44b699",
   "metadata": {},
   "outputs": [],
   "source": [
    "with h5py.File(DATA_DIR, 'r') as f:\n",
    "    data = hdf5_io.load_from_hdf5(f)"
   ]
  },
  {
   "cell_type": "code",
   "execution_count": 7,
   "id": "f2c872f4-0c67-4898-8ce0-d5a89415191d",
   "metadata": {},
   "outputs": [],
   "source": [
    "psi = data['wavefunction']"
   ]
  },
  {
   "cell_type": "markdown",
   "id": "79f2262c-7a0d-489f-9855-76050bdd27fa",
   "metadata": {},
   "source": [
    "# Definitions"
   ]
  },
  {
   "cell_type": "code",
   "execution_count": 8,
   "id": "b3f73540-f882-4c72-9a1d-cf3597f6645c",
   "metadata": {},
   "outputs": [],
   "source": [
    "unitary_sampler = unitary_group(2)"
   ]
  },
  {
   "cell_type": "code",
   "execution_count": 9,
   "id": "9f05daa8-3597-42d4-8e99-88ea95a0f5de",
   "metadata": {},
   "outputs": [
    {
     "data": {
      "text/plain": [
       "array([[-0.04779384+0.06430586j, -0.99292934-0.08758905j],\n",
       "       [ 0.89230815-0.44425969j, -0.06798205-0.04240206j]])"
      ]
     },
     "execution_count": 9,
     "metadata": {},
     "output_type": "execute_result"
    }
   ],
   "source": [
    "unitary_sampler.rvs()"
   ]
  },
  {
   "cell_type": "code",
   "execution_count": 10,
   "id": "513d7288-c641-4071-a4a3-652787d1f98c",
   "metadata": {},
   "outputs": [],
   "source": [
    "np_I = np.array([[1,0],[0,1]])\n",
    "np_X = np.array([[0,1],[1,0]])\n",
    "np_Y = np.array([[0,-1j],[1j,0]])\n",
    "np_Z = np.array([[1,0],[0,-1]])"
   ]
  },
  {
   "cell_type": "code",
   "execution_count": 11,
   "id": "17990407-bd2a-4364-b371-186a6feda20e",
   "metadata": {},
   "outputs": [],
   "source": [
    "test = SymmetryActionWithBoundaryUnitaries(\n",
    "    psi,\n",
    "    [np_X, np_I]*50,\n",
    "    left_boundary_unitaries = [np_Z,],\n",
    "    right_boundary_unitaries = [np_X, np_Z]\n",
    ")"
   ]
  },
  {
   "cell_type": "code",
   "execution_count": 12,
   "id": "23d5bdb7-b897-4604-855a-ece3248116fa",
   "metadata": {},
   "outputs": [
    {
     "data": {
      "text/plain": [
       "array(0.93061628)"
      ]
     },
     "execution_count": 12,
     "metadata": {},
     "output_type": "execute_result"
    }
   ],
   "source": [
    "test.compute_expectation()"
   ]
  },
  {
   "cell_type": "code",
   "execution_count": 13,
   "id": "7260887b-b115-4ed8-85b2-4194c59e2e24",
   "metadata": {},
   "outputs": [
    {
     "data": {
      "text/plain": [
       "(0.9306162804445224+0j)"
      ]
     },
     "execution_count": 13,
     "metadata": {},
     "output_type": "execute_result"
    }
   ],
   "source": [
    "test.compute_svd_approximate_expectation()"
   ]
  },
  {
   "cell_type": "markdown",
   "id": "f4bb01d4-6a49-4e91-badf-86ee6da3dbcc",
   "metadata": {},
   "source": [
    "# Tests"
   ]
  },
  {
   "cell_type": "code",
   "execution_count": 14,
   "id": "aa89e0fc-eeaf-44a3-92a1-d9fb03af9b2c",
   "metadata": {},
   "outputs": [
    {
     "data": {
      "text/plain": [
       "[<npc.Array shape=(8, 8, 8, 8) labels=['vL', 'vR', 'vL*', 'vR*']>,\n",
       " <npc.Array shape=(8, 8, 8, 8) labels=['vL', 'vR', 'vL*', 'vR*']>]"
      ]
     },
     "execution_count": 14,
     "metadata": {},
     "output_type": "execute_result"
    }
   ],
   "source": [
    "test.right_transfer_matrices"
   ]
  },
  {
   "cell_type": "code",
   "execution_count": 15,
   "id": "8f4eed6e-96ad-424f-99bb-94b7c0ee1b68",
   "metadata": {},
   "outputs": [
    {
     "data": {
      "text/plain": [
       "<npc.Array shape=(8, 8) labels=['vR', 'vR*']>"
      ]
     },
     "execution_count": 15,
     "metadata": {},
     "output_type": "execute_result"
    }
   ],
   "source": [
    "test.right_projected_symmetry_state"
   ]
  },
  {
   "cell_type": "markdown",
   "id": "921b1802-a785-436b-8882-4c03700bba2a",
   "metadata": {},
   "source": [
    "## identity_environment_functions"
   ]
  },
  {
   "cell_type": "code",
   "execution_count": 16,
   "id": "d4b277f9-b15a-40b9-a471-48ad9b0d2dbd",
   "metadata": {},
   "outputs": [],
   "source": [
    "ir = get_right_identity_environment(psi, 100)"
   ]
  },
  {
   "cell_type": "code",
   "execution_count": 17,
   "id": "359aba45-5b55-49a8-87a6-cfc2a3d75a55",
   "metadata": {},
   "outputs": [
    {
     "data": {
      "text/plain": [
       "<npc.Array shape=(8, 8) labels=['vL', 'vL*']>"
      ]
     },
     "execution_count": 17,
     "metadata": {},
     "output_type": "execute_result"
    }
   ],
   "source": [
    "ir"
   ]
  },
  {
   "cell_type": "code",
   "execution_count": 18,
   "id": "a1c40230-362c-4570-b7d4-1adbfd172e84",
   "metadata": {},
   "outputs": [
    {
     "data": {
      "text/plain": [
       "array([[1, 0, 0, 0, 0, 0, 0, 0],\n",
       "       [0, 1, 0, 0, 0, 0, 0, 0],\n",
       "       [0, 0, 1, 0, 0, 0, 0, 0],\n",
       "       [0, 0, 0, 1, 0, 0, 0, 0],\n",
       "       [0, 0, 0, 0, 1, 0, 0, 0],\n",
       "       [0, 0, 0, 0, 0, 1, 0, 0],\n",
       "       [0, 0, 0, 0, 0, 0, 1, 0],\n",
       "       [0, 0, 0, 0, 0, 0, 0, 1]])"
      ]
     },
     "execution_count": 18,
     "metadata": {},
     "output_type": "execute_result"
    }
   ],
   "source": [
    "ir.to_ndarray()"
   ]
  },
  {
   "cell_type": "code",
   "execution_count": 19,
   "id": "eb91495e-ca7b-4227-9891-fb35a2190f11",
   "metadata": {},
   "outputs": [],
   "source": [
    "il = get_left_identity_environment(psi, 100)"
   ]
  },
  {
   "cell_type": "code",
   "execution_count": 20,
   "id": "d0c7e9d4-3ba9-4bae-87e3-e396d2e95d8f",
   "metadata": {},
   "outputs": [
    {
     "data": {
      "text/plain": [
       "<npc.Array shape=(8, 8) labels=['vR', 'vR*']>"
      ]
     },
     "execution_count": 20,
     "metadata": {},
     "output_type": "execute_result"
    }
   ],
   "source": [
    "il"
   ]
  },
  {
   "cell_type": "code",
   "execution_count": 21,
   "id": "14296268-c8d9-461f-bea5-e83279897e95",
   "metadata": {},
   "outputs": [
    {
     "data": {
      "text/plain": [
       "array([[1, 0, 0, 0, 0, 0, 0, 0],\n",
       "       [0, 1, 0, 0, 0, 0, 0, 0],\n",
       "       [0, 0, 1, 0, 0, 0, 0, 0],\n",
       "       [0, 0, 0, 1, 0, 0, 0, 0],\n",
       "       [0, 0, 0, 0, 1, 0, 0, 0],\n",
       "       [0, 0, 0, 0, 0, 1, 0, 0],\n",
       "       [0, 0, 0, 0, 0, 0, 1, 0],\n",
       "       [0, 0, 0, 0, 0, 0, 0, 1]])"
      ]
     },
     "execution_count": 21,
     "metadata": {},
     "output_type": "execute_result"
    }
   ],
   "source": [
    "il.to_ndarray()"
   ]
  },
  {
   "cell_type": "markdown",
   "id": "c18ad2c2-a03b-4525-868a-8ae538bb321c",
   "metadata": {},
   "source": [
    "## expectation_gradient_from_environments"
   ]
  },
  {
   "cell_type": "code",
   "execution_count": 22,
   "id": "6ca5b14f-d0f3-4844-98ed-0ec2cdf9e806",
   "metadata": {},
   "outputs": [
    {
     "data": {
      "text/plain": [
       "<npc.Array shape=(2, 2) labels=['p', 'p*']>"
      ]
     },
     "execution_count": 22,
     "metadata": {},
     "output_type": "execute_result"
    }
   ],
   "source": [
    "expectation_gradient_from_environments(psi, 100)"
   ]
  },
  {
   "cell_type": "code",
   "execution_count": 23,
   "id": "46a9dee0-b85e-4911-9058-121facbe4fa9",
   "metadata": {},
   "outputs": [
    {
     "data": {
      "text/plain": [
       "<npc.Array shape=(2, 2) labels=['p*', 'p']>"
      ]
     },
     "execution_count": 23,
     "metadata": {},
     "output_type": "execute_result"
    }
   ],
   "source": [
    "expectation_gradient_from_environments(psi, 100, left_environment=il)"
   ]
  },
  {
   "cell_type": "code",
   "execution_count": 24,
   "id": "6ab14872-a29a-4a90-9e9b-da75064746a6",
   "metadata": {},
   "outputs": [
    {
     "data": {
      "text/plain": [
       "<npc.Array shape=(2, 2) labels=['p', 'p*']>"
      ]
     },
     "execution_count": 24,
     "metadata": {},
     "output_type": "execute_result"
    }
   ],
   "source": [
    "expectation_gradient_from_environments(psi, 100, right_environment=ir)"
   ]
  },
  {
   "cell_type": "code",
   "execution_count": 25,
   "id": "8b1fc64a-5b18-4f17-a710-8fe4356cae62",
   "metadata": {},
   "outputs": [
    {
     "data": {
      "text/plain": [
       "<npc.Array shape=(2, 2) labels=['p*', 'p']>"
      ]
     },
     "execution_count": 25,
     "metadata": {},
     "output_type": "execute_result"
    }
   ],
   "source": [
    "expectation_gradient_from_environments(psi, 100, left_environment=il, right_environment=ir)"
   ]
  },
  {
   "cell_type": "markdown",
   "id": "d6743242-0f93-4c08-be36-59c729538522",
   "metadata": {},
   "source": [
    "## expectation gradients"
   ]
  },
  {
   "cell_type": "code",
   "execution_count": 26,
   "id": "be0d68a8-4bd4-46bb-b9ff-2781e29e73e0",
   "metadata": {},
   "outputs": [
    {
     "data": {
      "text/plain": [
       "<npc.Array shape=(8, 2, 8) labels=['vL', 'p', 'vR']>"
      ]
     },
     "execution_count": 26,
     "metadata": {},
     "output_type": "execute_result"
    }
   ],
   "source": [
    "psi.get_B(100)"
   ]
  },
  {
   "cell_type": "code",
   "execution_count": 27,
   "id": "fbdaa5ad-2fab-4b1d-8f1d-bd3584b881ba",
   "metadata": {},
   "outputs": [],
   "source": [
    "a = psi.get_B(100)"
   ]
  },
  {
   "cell_type": "code",
   "execution_count": 28,
   "id": "f8a256d9-cc92-4527-a3f2-53ab64673d31",
   "metadata": {},
   "outputs": [
    {
     "data": {
      "text/plain": [
       "<npc.Array shape=(8, 2, 8) labels=['vL', 'p', 'vR']>"
      ]
     },
     "execution_count": 28,
     "metadata": {},
     "output_type": "execute_result"
    }
   ],
   "source": [
    "a"
   ]
  },
  {
   "cell_type": "code",
   "execution_count": 29,
   "id": "6dd98fe2-7500-4417-8b72-4ca34bcc7af8",
   "metadata": {},
   "outputs": [
    {
     "data": {
      "text/plain": [
       "[LegCharge(ChargeInfo([], []), qconj=+1,\n",
       " array([0, 8]), array([], shape=(1, 0), dtype=int64)),\n",
       " LegCharge(ChargeInfo([], []), qconj=+1,\n",
       " array([0, 2]), array([], shape=(1, 0), dtype=int64)),\n",
       " LegCharge(ChargeInfo([], []), qconj=-1,\n",
       " array([0, 8]), array([], shape=(1, 0), dtype=int64))]"
      ]
     },
     "execution_count": 29,
     "metadata": {},
     "output_type": "execute_result"
    }
   ],
   "source": [
    "a.legs"
   ]
  },
  {
   "cell_type": "code",
   "execution_count": 30,
   "id": "6828a84c-94ab-48b2-97b3-5f9de41e911e",
   "metadata": {},
   "outputs": [],
   "source": [
    "right_gradients = expectation_gradients(\n",
    "    psi,\n",
    "    test.right_transfer_matrices,\n",
    "    test.right_symmetry_index+1,\n",
    "    test.right_projected_symmetry_state\n",
    ")"
   ]
  },
  {
   "cell_type": "code",
   "execution_count": 31,
   "id": "9861769d-3b2c-4641-845a-3269909aae19",
   "metadata": {},
   "outputs": [
    {
     "data": {
      "text/plain": [
       "2"
      ]
     },
     "execution_count": 31,
     "metadata": {},
     "output_type": "execute_result"
    }
   ],
   "source": [
    "len(test.right_transfer_matrices)"
   ]
  },
  {
   "cell_type": "code",
   "execution_count": 32,
   "id": "92b3424f-79c5-4aff-be04-58230cfb51f9",
   "metadata": {},
   "outputs": [
    {
     "data": {
      "text/plain": [
       "2"
      ]
     },
     "execution_count": 32,
     "metadata": {},
     "output_type": "execute_result"
    }
   ],
   "source": [
    "len(right_gradients)"
   ]
  },
  {
   "cell_type": "code",
   "execution_count": 33,
   "id": "b3fac1a3-4459-4e5f-8bd4-a4d4c68f2e06",
   "metadata": {},
   "outputs": [
    {
     "data": {
      "text/plain": [
       "<npc.Array shape=(2, 2) labels=['p*', 'p']>"
      ]
     },
     "execution_count": 33,
     "metadata": {},
     "output_type": "execute_result"
    }
   ],
   "source": [
    "right_gradients[0]"
   ]
  },
  {
   "cell_type": "code",
   "execution_count": 34,
   "id": "23fe4b3f-7353-438f-9014-8167eae68f22",
   "metadata": {},
   "outputs": [
    {
     "data": {
      "text/plain": [
       "array([[0.17654904+0.j, 0.68257359+0.j],\n",
       "       [0.68257359+0.j, 0.17654904+0.j]])"
      ]
     },
     "execution_count": 34,
     "metadata": {},
     "output_type": "execute_result"
    }
   ],
   "source": [
    "right_gradients[0].to_ndarray()"
   ]
  },
  {
   "cell_type": "code",
   "execution_count": 35,
   "id": "feeae76f-f8ff-48f7-b46f-8f2cffe5356d",
   "metadata": {},
   "outputs": [
    {
     "data": {
      "text/plain": [
       "(2, 2)"
      ]
     },
     "execution_count": 35,
     "metadata": {},
     "output_type": "execute_result"
    }
   ],
   "source": [
    "right_gradients[0].shape"
   ]
  },
  {
   "cell_type": "code",
   "execution_count": 36,
   "id": "82b47e3e-31c5-43f6-9cd1-9e49376366b7",
   "metadata": {},
   "outputs": [
    {
     "data": {
      "text/plain": [
       "<npc.Array shape=(2, 2) labels=['p*', 'p']>"
      ]
     },
     "execution_count": 36,
     "metadata": {},
     "output_type": "execute_result"
    }
   ],
   "source": [
    "right_gradients[1]"
   ]
  },
  {
   "cell_type": "code",
   "execution_count": 37,
   "id": "d572c91c-fd8b-4a73-9cec-722ca321440c",
   "metadata": {},
   "outputs": [
    {
     "data": {
      "text/plain": [
       "array([[ 6.82573626e-01+0.j,  1.05236871e-08+0.j],\n",
       "       [ 1.05236870e-08+0.j, -6.82573545e-01+0.j]])"
      ]
     },
     "execution_count": 37,
     "metadata": {},
     "output_type": "execute_result"
    }
   ],
   "source": [
    "right_gradients[1].to_ndarray()"
   ]
  },
  {
   "cell_type": "code",
   "execution_count": 38,
   "id": "5c2fe78a-70ac-4ea6-a935-9fd3962a7901",
   "metadata": {},
   "outputs": [
    {
     "data": {
      "text/plain": [
       "(2, 2)"
      ]
     },
     "execution_count": 38,
     "metadata": {},
     "output_type": "execute_result"
    }
   ],
   "source": [
    "right_gradients[1].shape"
   ]
  },
  {
   "cell_type": "code",
   "execution_count": 39,
   "id": "8475c690-99bd-4418-8b0f-456ba524cf01",
   "metadata": {},
   "outputs": [],
   "source": [
    "# Careful with np/npc types...\n",
    "#first_order_correction_from_gradient_one_site(right_gradients[0], np_Z)"
   ]
  },
  {
   "cell_type": "code",
   "execution_count": 40,
   "id": "3d000670-48c7-45a0-8576-6ec04bcc0955",
   "metadata": {},
   "outputs": [],
   "source": [
    "gradient = (\n",
    "    test.left_expectation\n",
    "    *test.symmetry_transfer_matrix_singular_vals[0]\n",
    "    *right_gradients[0].to_ndarray()\n",
    ")\n",
    "delta_U = np_X"
   ]
  },
  {
   "cell_type": "code",
   "execution_count": 41,
   "id": "4d833d5f-5d7f-4c51-959b-2d1a173a35b0",
   "metadata": {},
   "outputs": [
    {
     "data": {
      "text/plain": [
       "(0.9306162804445222+0j)"
      ]
     },
     "execution_count": 41,
     "metadata": {},
     "output_type": "execute_result"
    }
   ],
   "source": [
    "np.sum(gradient*delta_U)"
   ]
  },
  {
   "cell_type": "code",
   "execution_count": 42,
   "id": "e847f137-d2cb-4280-9c02-97ac60c4e87d",
   "metadata": {},
   "outputs": [],
   "source": [
    "test2 = SymmetryActionWithBoundaryUnitaries(\n",
    "    psi,\n",
    "    [np_X, np_I]*50,\n",
    "    left_boundary_unitaries = [np_Z,],\n",
    "    right_boundary_unitaries = [np_X + np_X, np_Z]\n",
    ")"
   ]
  },
  {
   "cell_type": "code",
   "execution_count": 43,
   "id": "e3860fc1-1dbf-4784-bd3b-67a3afaa087f",
   "metadata": {},
   "outputs": [
    {
     "data": {
      "text/plain": [
       "array(1.86123256)"
      ]
     },
     "execution_count": 43,
     "metadata": {},
     "output_type": "execute_result"
    }
   ],
   "source": [
    "test2.compute_expectation()"
   ]
  },
  {
   "cell_type": "code",
   "execution_count": 44,
   "id": "aa19c194-1f51-4e96-8465-891520e5f100",
   "metadata": {},
   "outputs": [
    {
     "data": {
      "text/plain": [
       "0.9306162804445213"
      ]
     },
     "execution_count": 44,
     "metadata": {},
     "output_type": "execute_result"
    }
   ],
   "source": [
    "test2.expectation - test.expectation"
   ]
  },
  {
   "cell_type": "markdown",
   "id": "ddeb294b-0335-4eb7-a0e3-a4d76fc62095",
   "metadata": {},
   "source": [
    "## linear_expectation_gradient"
   ]
  },
  {
   "cell_type": "markdown",
   "id": "6c687636-5ec5-40a2-88a2-b1b4cb3021f1",
   "metadata": {},
   "source": [
    "Not much to check here"
   ]
  },
  {
   "cell_type": "code",
   "execution_count": 45,
   "id": "944de834-320a-47de-b377-f4f379899f46",
   "metadata": {},
   "outputs": [
    {
     "data": {
      "text/plain": [
       "array([[0.12035289+0.j, 0.46530814+0.j],\n",
       "       [0.46530814+0.j, 0.12035289+0.j]])"
      ]
     },
     "execution_count": 45,
     "metadata": {},
     "output_type": "execute_result"
    }
   ],
   "source": [
    "linear_expectation_gradient(gradient, test.expectation)"
   ]
  },
  {
   "cell_type": "code",
   "execution_count": 46,
   "id": "3c7234a9-0eeb-4abb-9f9c-0e1df4241653",
   "metadata": {},
   "outputs": [
    {
     "data": {
      "text/plain": [
       "array([[0.12035289+0.j, 0.46530814+0.j],\n",
       "       [0.46530814+0.j, 0.12035289+0.j]])"
      ]
     },
     "execution_count": 46,
     "metadata": {},
     "output_type": "execute_result"
    }
   ],
   "source": [
    "gradient"
   ]
  },
  {
   "cell_type": "markdown",
   "id": "5c7c139e-28e6-492f-bfc9-09f98b2ab3d8",
   "metadata": {},
   "source": [
    "## gradients_outside_right_boundary_unitaries"
   ]
  },
  {
   "cell_type": "code",
   "execution_count": 68,
   "id": "c4af0785-f9a0-49f0-ac36-442f2dd02103",
   "metadata": {},
   "outputs": [],
   "source": [
    "outside_gradients = gradients_outside_right_boundary_unitaries(\n",
    "    psi,\n",
    "    (\n",
    "        test.left_expectation\n",
    "        * test.symmetry_transfer_matrix_singular_vals[0]\n",
    "        * test.right_transfer_vectors[-1]\n",
    "    ),\n",
    "    3,\n",
    "    test.right_symmetry_index + 2\n",
    ")"
   ]
  },
  {
   "cell_type": "code",
   "execution_count": 69,
   "id": "7f704a0f-64e3-4b08-966a-e817daf9038f",
   "metadata": {},
   "outputs": [
    {
     "data": {
      "text/plain": [
       "[<npc.Array shape=(2, 2) labels=['p*', 'p']>,\n",
       " <npc.Array shape=(2, 2) labels=['p*', 'p']>,\n",
       " <npc.Array shape=(2, 2) labels=['p*', 'p']>]"
      ]
     },
     "execution_count": 69,
     "metadata": {},
     "output_type": "execute_result"
    }
   ],
   "source": [
    "outside_gradients"
   ]
  },
  {
   "cell_type": "code",
   "execution_count": 70,
   "id": "fc9c479a-3744-424a-985f-66815ab9edbb",
   "metadata": {},
   "outputs": [
    {
     "data": {
      "text/plain": [
       "array([[0.46530814+0.j, 0.12035289+0.j],\n",
       "       [0.12035289+0.j, 0.46530814+0.j]])"
      ]
     },
     "execution_count": 70,
     "metadata": {},
     "output_type": "execute_result"
    }
   ],
   "source": [
    "outside_gradients[0].to_ndarray()"
   ]
  },
  {
   "cell_type": "code",
   "execution_count": 71,
   "id": "222a1873-1fa8-4a35-af28-a28993a8b8c7",
   "metadata": {},
   "outputs": [],
   "source": [
    "test3 = SymmetryActionWithBoundaryUnitaries(\n",
    "    psi,\n",
    "    [np_X, np_I]*50,\n",
    "    left_boundary_unitaries = [np_Z,],\n",
    "    right_boundary_unitaries = [np_X, np_Z, np_X]\n",
    ")"
   ]
  },
  {
   "cell_type": "code",
   "execution_count": 72,
   "id": "855805f1-89f2-4b66-85c0-afea4b450e88",
   "metadata": {},
   "outputs": [
    {
     "data": {
      "text/plain": [
       "array(0.24070578)"
      ]
     },
     "execution_count": 72,
     "metadata": {},
     "output_type": "execute_result"
    }
   ],
   "source": [
    "test3.compute_expectation()"
   ]
  },
  {
   "cell_type": "markdown",
   "id": "95da48e5-e7ac-4093-8cfc-7ad9299879bf",
   "metadata": {},
   "source": [
    "As expected."
   ]
  },
  {
   "cell_type": "markdown",
   "id": "e762e817-1440-4f07-b922-91edb9187028",
   "metadata": {},
   "source": [
    "# Old code"
   ]
  },
  {
   "cell_type": "code",
   "execution_count": 49,
   "id": "e5e7557c-dfb6-4b59-b5e3-35ecfadea39d",
   "metadata": {},
   "outputs": [],
   "source": [
    "x = 7"
   ]
  },
  {
   "cell_type": "code",
   "execution_count": 50,
   "id": "c695a0bd-0815-4d33-98aa-9fbbc7139836",
   "metadata": {},
   "outputs": [
    {
     "data": {
      "text/plain": [
       "True"
      ]
     },
     "execution_count": 50,
     "metadata": {},
     "output_type": "execute_result"
    }
   ],
   "source": [
    "isinstance(x, int)"
   ]
  },
  {
   "cell_type": "code",
   "execution_count": 51,
   "id": "d76afa5c-c9a3-4a21-813b-2e6f5ea1ad35",
   "metadata": {},
   "outputs": [
    {
     "data": {
      "text/plain": [
       "False"
      ]
     },
     "execution_count": 51,
     "metadata": {},
     "output_type": "execute_result"
    }
   ],
   "source": [
    "isinstance('a', int)"
   ]
  },
  {
   "cell_type": "code",
   "execution_count": 52,
   "id": "16249fd0-b8b6-4603-a282-55584a942d6b",
   "metadata": {},
   "outputs": [
    {
     "name": "stdout",
     "output_type": "stream",
     "text": [
      "Help on class range in module builtins:\n",
      "\n",
      "class range(object)\n",
      " |  range(stop) -> range object\n",
      " |  range(start, stop[, step]) -> range object\n",
      " |  \n",
      " |  Return an object that produces a sequence of integers from start (inclusive)\n",
      " |  to stop (exclusive) by step.  range(i, j) produces i, i+1, i+2, ..., j-1.\n",
      " |  start defaults to 0, and stop is omitted!  range(4) produces 0, 1, 2, 3.\n",
      " |  These are exactly the valid indices for a list of 4 elements.\n",
      " |  When step is given, it specifies the increment (or decrement).\n",
      " |  \n",
      " |  Methods defined here:\n",
      " |  \n",
      " |  __bool__(self, /)\n",
      " |      True if self else False\n",
      " |  \n",
      " |  __contains__(self, key, /)\n",
      " |      Return key in self.\n",
      " |  \n",
      " |  __eq__(self, value, /)\n",
      " |      Return self==value.\n",
      " |  \n",
      " |  __ge__(self, value, /)\n",
      " |      Return self>=value.\n",
      " |  \n",
      " |  __getattribute__(self, name, /)\n",
      " |      Return getattr(self, name).\n",
      " |  \n",
      " |  __getitem__(self, key, /)\n",
      " |      Return self[key].\n",
      " |  \n",
      " |  __gt__(self, value, /)\n",
      " |      Return self>value.\n",
      " |  \n",
      " |  __hash__(self, /)\n",
      " |      Return hash(self).\n",
      " |  \n",
      " |  __iter__(self, /)\n",
      " |      Implement iter(self).\n",
      " |  \n",
      " |  __le__(self, value, /)\n",
      " |      Return self<=value.\n",
      " |  \n",
      " |  __len__(self, /)\n",
      " |      Return len(self).\n",
      " |  \n",
      " |  __lt__(self, value, /)\n",
      " |      Return self<value.\n",
      " |  \n",
      " |  __ne__(self, value, /)\n",
      " |      Return self!=value.\n",
      " |  \n",
      " |  __reduce__(...)\n",
      " |      Helper for pickle.\n",
      " |  \n",
      " |  __repr__(self, /)\n",
      " |      Return repr(self).\n",
      " |  \n",
      " |  __reversed__(...)\n",
      " |      Return a reverse iterator.\n",
      " |  \n",
      " |  count(...)\n",
      " |      rangeobject.count(value) -> integer -- return number of occurrences of value\n",
      " |  \n",
      " |  index(...)\n",
      " |      rangeobject.index(value) -> integer -- return index of value.\n",
      " |      Raise ValueError if the value is not present.\n",
      " |  \n",
      " |  ----------------------------------------------------------------------\n",
      " |  Static methods defined here:\n",
      " |  \n",
      " |  __new__(*args, **kwargs)\n",
      " |      Create and return a new object.  See help(type) for accurate signature.\n",
      " |  \n",
      " |  ----------------------------------------------------------------------\n",
      " |  Data descriptors defined here:\n",
      " |  \n",
      " |  start\n",
      " |  \n",
      " |  step\n",
      " |  \n",
      " |  stop\n",
      "\n"
     ]
    }
   ],
   "source": [
    "help(range)"
   ]
  },
  {
   "cell_type": "code",
   "execution_count": 53,
   "id": "28fdc5b9-696e-4e8a-88ec-197bfaeb5920",
   "metadata": {},
   "outputs": [],
   "source": [
    "kd_00 = np.array([[1,0], [0, 0]])\n",
    "kd_01 = np.array([[0,1], [0, 0]])\n",
    "kd_10 = np.array([[0,0], [1, 0]])\n",
    "kd_11 = np.array([[0,0], [0, 1]])"
   ]
  },
  {
   "cell_type": "code",
   "execution_count": 54,
   "id": "3b36374f-8953-4e92-bae3-fd5e1252409f",
   "metadata": {},
   "outputs": [],
   "source": [
    "kd_arrays = [kd_00, kd_01, kd_10, kd_11]"
   ]
  },
  {
   "cell_type": "code",
   "execution_count": 55,
   "id": "684fedb8-d11b-4125-a804-f2c0e900c3bb",
   "metadata": {},
   "outputs": [],
   "source": [
    "kd_tests = [\n",
    "    SymmetryActionWithBoundaryUnitaries(\n",
    "        psi,\n",
    "        [np_X, np_I]*50,\n",
    "        left_boundary_unitaries = [np_Z,],\n",
    "        right_boundary_unitaries = [m, np_Z]\n",
    "    )\n",
    "    for m in kd_arrays\n",
    "]"
   ]
  },
  {
   "cell_type": "code",
   "execution_count": 56,
   "id": "37a72992-22d8-4894-8911-46a6b90f75c8",
   "metadata": {},
   "outputs": [],
   "source": [
    "for t in kd_tests:\n",
    "    t.compute_expectation()"
   ]
  },
  {
   "cell_type": "code",
   "execution_count": 57,
   "id": "cef2cf44-37bc-4ec6-9d02-476cc26808e5",
   "metadata": {},
   "outputs": [],
   "source": [
    "kd_expectations = [t.expectation for t in kd_tests]"
   ]
  },
  {
   "cell_type": "code",
   "execution_count": 58,
   "id": "6f857973-2d38-4fa2-9bf8-b4ad044b8786",
   "metadata": {},
   "outputs": [
    {
     "data": {
      "text/plain": [
       "[array(0.12035289), array(0.46530814), array(0.46530814), array(0.12035289)]"
      ]
     },
     "execution_count": 58,
     "metadata": {},
     "output_type": "execute_result"
    }
   ],
   "source": [
    "kd_expectations"
   ]
  },
  {
   "cell_type": "code",
   "execution_count": 59,
   "id": "ef674d9e-b197-4a3d-bff7-a30ae5dbc3b9",
   "metadata": {},
   "outputs": [
    {
     "data": {
      "text/plain": [
       "array([[0.12035289+0.j, 0.46530814+0.j],\n",
       "       [0.46530814+0.j, 0.12035289+0.j]])"
      ]
     },
     "execution_count": 59,
     "metadata": {},
     "output_type": "execute_result"
    }
   ],
   "source": [
    "gradient"
   ]
  },
  {
   "cell_type": "code",
   "execution_count": 60,
   "id": "07181d82-3ce9-4588-abd9-efef75712f28",
   "metadata": {},
   "outputs": [
    {
     "data": {
      "text/plain": [
       "1.466928131098472"
      ]
     },
     "execution_count": 60,
     "metadata": {},
     "output_type": "execute_result"
    }
   ],
   "source": [
    "0.17654904/0.12035289"
   ]
  },
  {
   "cell_type": "code",
   "execution_count": 61,
   "id": "d15864f9-047a-4a1c-aff2-77cc020d3052",
   "metadata": {},
   "outputs": [
    {
     "data": {
      "text/plain": [
       "1.4669281091880317"
      ]
     },
     "execution_count": 61,
     "metadata": {},
     "output_type": "execute_result"
    }
   ],
   "source": [
    "0.68257359/0.46530814"
   ]
  },
  {
   "cell_type": "code",
   "execution_count": 62,
   "id": "49882984-8324-4fd4-9b14-8f6e6ea9d5e3",
   "metadata": {},
   "outputs": [
    {
     "data": {
      "text/plain": [
       "0.6816966651170902"
      ]
     },
     "execution_count": 62,
     "metadata": {},
     "output_type": "execute_result"
    }
   ],
   "source": [
    "(0.68257359/0.46530814)**(-1)"
   ]
  },
  {
   "cell_type": "code",
   "execution_count": 63,
   "id": "ff0d7e7a-330e-4295-855f-2ea682e97023",
   "metadata": {},
   "outputs": [
    {
     "data": {
      "text/plain": [
       "array([4.99357640e-01, 5.64338811e-17, 3.52817003e-17, 3.52817003e-17,\n",
       "       3.52817003e-17, 3.52817003e-17, 3.52817003e-17, 3.52817003e-17,\n",
       "       3.52817003e-17, 3.52817003e-17, 3.52817003e-17, 3.52817003e-17,\n",
       "       3.52817003e-17, 3.52817003e-17, 3.52817003e-17, 3.52817003e-17,\n",
       "       3.52817003e-17, 3.52817003e-17, 3.52817003e-17, 3.52817003e-17,\n",
       "       3.52817003e-17, 3.52817003e-17, 3.52817003e-17, 3.52817003e-17,\n",
       "       3.52817003e-17, 3.52817003e-17, 3.52817003e-17, 3.52817003e-17,\n",
       "       3.52817003e-17, 3.52817003e-17, 3.52817003e-17, 3.52817003e-17,\n",
       "       3.52817003e-17, 3.52817003e-17, 3.52817003e-17, 3.52817003e-17,\n",
       "       3.52817003e-17, 3.52817003e-17, 3.52817003e-17, 3.52817003e-17,\n",
       "       3.52817003e-17, 3.52817003e-17, 3.52817003e-17, 3.52817003e-17,\n",
       "       3.52817003e-17, 3.52817003e-17, 3.52817003e-17, 3.52817003e-17,\n",
       "       3.52817003e-17, 3.52817003e-17, 3.52817003e-17, 3.52817003e-17,\n",
       "       3.52817003e-17, 3.52817003e-17, 3.52817003e-17, 3.52817003e-17,\n",
       "       3.52817003e-17, 3.52817003e-17, 3.52817003e-17, 3.52817003e-17,\n",
       "       3.52817003e-17, 3.52817003e-17, 3.52817003e-17, 3.52817003e-17])"
      ]
     },
     "execution_count": 63,
     "metadata": {},
     "output_type": "execute_result"
    }
   ],
   "source": [
    "test.symmetry_transfer_matrix_singular_vals"
   ]
  },
  {
   "cell_type": "code",
   "execution_count": 64,
   "id": "53fec963-1361-4331-a5f0-44690fbe1752",
   "metadata": {},
   "outputs": [
    {
     "data": {
      "text/plain": [
       "(1.3651471712007195+0j)"
      ]
     },
     "execution_count": 64,
     "metadata": {},
     "output_type": "execute_result"
    }
   ],
   "source": [
    "test.left_expectation"
   ]
  },
  {
   "cell_type": "code",
   "execution_count": 65,
   "id": "8e85f75b-211f-40ef-94fa-39486fd4b4b2",
   "metadata": {},
   "outputs": [
    {
     "data": {
      "text/plain": [
       "(0.6816966698367003+0j)"
      ]
     },
     "execution_count": 65,
     "metadata": {},
     "output_type": "execute_result"
    }
   ],
   "source": [
    "test.left_expectation*(test.symmetry_transfer_matrix_singular_vals[0])"
   ]
  }
 ],
 "metadata": {
  "kernelspec": {
   "display_name": "num_spt_venv_p11",
   "language": "python",
   "name": "num_spt_venv_p11"
  },
  "language_info": {
   "codemirror_mode": {
    "name": "ipython",
    "version": 3
   },
   "file_extension": ".py",
   "mimetype": "text/x-python",
   "name": "python",
   "nbconvert_exporter": "python",
   "pygments_lexer": "ipython3",
   "version": "3.11.9"
  }
 },
 "nbformat": 4,
 "nbformat_minor": 5
}
