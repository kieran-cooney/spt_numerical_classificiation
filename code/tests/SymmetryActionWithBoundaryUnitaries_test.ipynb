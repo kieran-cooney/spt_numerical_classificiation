{
 "cells": [
  {
   "cell_type": "code",
   "execution_count": 1,
   "id": "ecb41ea3-927f-4efa-aebe-ce15784aa037",
   "metadata": {},
   "outputs": [],
   "source": [
    "import sys\n",
    "sys.path.append('../')"
   ]
  },
  {
   "cell_type": "code",
   "execution_count": 2,
   "id": "4a525ec6-f0c8-47ee-8b0b-345bf0ef8bd3",
   "metadata": {},
   "outputs": [],
   "source": [
    "import h5py\n",
    "from tenpy.tools import hdf5_io\n",
    "import tenpy\n",
    "import tenpy.linalg.np_conserved as npc\n",
    "\n",
    "import os"
   ]
  },
  {
   "cell_type": "code",
   "execution_count": 3,
   "id": "214f688a-c657-4810-b4d1-b1247deff62c",
   "metadata": {},
   "outputs": [],
   "source": [
    "import numpy as np"
   ]
  },
  {
   "cell_type": "code",
   "execution_count": 4,
   "id": "b8dec68d-a5b3-4383-ab44-567a9a5981b3",
   "metadata": {},
   "outputs": [],
   "source": [
    "from SPTOptimization.SymmetryActionWithBoundaryUnitaries import SymmetryActionWithBoundaryUnitaries\n",
    "from SPTOptimization.TransferMatrixSearch import (\n",
    "    TransferMatrixSearch,\n",
    "    s3_to_unitary\n",
    ")"
   ]
  },
  {
   "cell_type": "markdown",
   "id": "c69a8a47-e298-4c4c-97f7-a6157da4e15f",
   "metadata": {},
   "source": [
    "# Load data"
   ]
  },
  {
   "cell_type": "code",
   "execution_count": 5,
   "id": "210d7dcc-b7ae-4f06-8429-84177bec47d3",
   "metadata": {},
   "outputs": [],
   "source": [
    "DATA_DIR = r\"../data/transverse_cluster_200_site_dmrg\""
   ]
  },
  {
   "cell_type": "code",
   "execution_count": 6,
   "id": "1c650415-3cc0-4dfd-b04c-4a7e2adcbd48",
   "metadata": {},
   "outputs": [],
   "source": [
    "loaded_data = list()\n",
    "\n",
    "for local_file_name in os.listdir(DATA_DIR):\n",
    "    f_name = r\"{}/{}\".format(DATA_DIR, local_file_name, ignore_unknown=False)\n",
    "    with h5py.File(f_name, 'r') as f:\n",
    "        data = hdf5_io.load_from_hdf5(f)\n",
    "        loaded_data.append(data)"
   ]
  },
  {
   "cell_type": "code",
   "execution_count": 7,
   "id": "9c83a3b0-8c0c-4bc2-8ad8-9cbb1a60f923",
   "metadata": {},
   "outputs": [],
   "source": [
    "b_parameters = sorted(list(d['paramters']['B'] for d in loaded_data))"
   ]
  },
  {
   "cell_type": "code",
   "execution_count": 8,
   "id": "bc1342e6-d495-469d-b93f-b4d755d0b6e3",
   "metadata": {},
   "outputs": [],
   "source": [
    "psi_dict = dict()"
   ]
  },
  {
   "cell_type": "code",
   "execution_count": 9,
   "id": "ebe5c813-795b-4dc4-bf13-7450675cb0f8",
   "metadata": {},
   "outputs": [],
   "source": [
    "for b in b_parameters:\n",
    "    psi = next(\n",
    "        d['wavefunction']\n",
    "        for d in loaded_data\n",
    "        if d['paramters']['B'] == b\n",
    "    )\n",
    "\n",
    "    rounded_b = round(b, 1)\n",
    "    psi_dict[rounded_b] = psi"
   ]
  },
  {
   "cell_type": "code",
   "execution_count": 10,
   "id": "63ffb5b8-7b54-4531-85d1-86b36f3c6dfb",
   "metadata": {},
   "outputs": [
    {
     "data": {
      "text/plain": [
       "[0.0,\n",
       " 0.1,\n",
       " 0.2,\n",
       " 0.3,\n",
       " 0.4,\n",
       " 0.5,\n",
       " 0.6,\n",
       " 0.7,\n",
       " 0.8,\n",
       " 0.9,\n",
       " 1.0,\n",
       " 1.1,\n",
       " 1.2,\n",
       " 1.3,\n",
       " 1.4,\n",
       " 1.5,\n",
       " 1.6,\n",
       " 1.7,\n",
       " 1.8,\n",
       " 1.9,\n",
       " 2.0]"
      ]
     },
     "execution_count": 10,
     "metadata": {},
     "output_type": "execute_result"
    }
   ],
   "source": [
    "list(psi_dict)"
   ]
  },
  {
   "cell_type": "code",
   "execution_count": 11,
   "id": "bac9fd59-f30f-4639-8751-1310f4e8fa55",
   "metadata": {},
   "outputs": [],
   "source": [
    "test_psi = psi_dict[0.5]"
   ]
  },
  {
   "cell_type": "markdown",
   "id": "b4c1e616-c034-404b-b59e-196d1eaac475",
   "metadata": {},
   "source": [
    "# Test"
   ]
  },
  {
   "cell_type": "code",
   "execution_count": 12,
   "id": "513d7288-c641-4071-a4a3-652787d1f98c",
   "metadata": {},
   "outputs": [],
   "source": [
    "np_I = np.array([[1,0],[0,1]])\n",
    "np_X = np.array([[0,1],[1,0]])\n",
    "np_Y = np.array([[0,-1j],[1j,0]])\n",
    "np_Z = np.array([[1,0],[0,-1]])"
   ]
  },
  {
   "cell_type": "markdown",
   "id": "43808e34-38ae-43c4-af14-aaefe89c44a3",
   "metadata": {},
   "source": [
    "## Test 1"
   ]
  },
  {
   "cell_type": "code",
   "execution_count": 13,
   "id": "331f62bc-e623-459e-81e3-7f1df4feb536",
   "metadata": {},
   "outputs": [],
   "source": [
    "test = SymmetryActionWithBoundaryUnitaries(test_psi, [np_X, np_I]*50)"
   ]
  },
  {
   "cell_type": "code",
   "execution_count": 14,
   "id": "ce985e8b-3009-42c8-a012-7fefb5930f59",
   "metadata": {},
   "outputs": [
    {
     "data": {
      "text/plain": [
       "array(-4.39591975e-19)"
      ]
     },
     "execution_count": 14,
     "metadata": {},
     "output_type": "execute_result"
    }
   ],
   "source": [
    "test.compute_expectation()"
   ]
  },
  {
   "cell_type": "code",
   "execution_count": 15,
   "id": "a43c29a0-161b-4967-89f4-b0c165ca7921",
   "metadata": {},
   "outputs": [
    {
     "data": {
      "text/plain": [
       "array(-4.39591975e-19)"
      ]
     },
     "execution_count": 15,
     "metadata": {},
     "output_type": "execute_result"
    }
   ],
   "source": [
    "test.expectation"
   ]
  },
  {
   "cell_type": "code",
   "execution_count": 16,
   "id": "e959682f-2456-4c25-a217-1f3f2ec01cd8",
   "metadata": {},
   "outputs": [
    {
     "data": {
      "text/plain": [
       "numpy.ndarray"
      ]
     },
     "execution_count": 16,
     "metadata": {},
     "output_type": "execute_result"
    }
   ],
   "source": [
    "type(test.expectation)"
   ]
  },
  {
   "cell_type": "code",
   "execution_count": 17,
   "id": "0171f866-61ab-4cf6-b9b1-bef72b1c09e6",
   "metadata": {},
   "outputs": [
    {
     "name": "stdout",
     "output_type": "stream",
     "text": [
      "<npc.Array shape=(64, 64) labels=['(vL.vL*)', '(vR.vR*)']\n",
      "charge=ChargeInfo([], [])\n",
      "LegPipe(shape (8, 8)->64,   |LegPipe(shape (8, 8)->64,   \n",
      "    qconj (+1, -1)->+1;     |    qconj (-1, +1)->-1;     \n",
      "    block numbers (1, 1)->1)|    block numbers (1, 1)->1)\n",
      " +1  |  -1                  | -1  |  +1                  \n",
      "0 [] | 0 []                 |0 [] | 0 []                 \n",
      "8    | 8                    |8    | 8                    \n",
      ")                           |)                           \n",
      ">\n"
     ]
    },
    {
     "data": {
      "text/plain": [
       "(-7.125247019401047e-19+0j)"
      ]
     },
     "execution_count": 17,
     "metadata": {},
     "output_type": "execute_result"
    }
   ],
   "source": [
    "test.compute_svd_approximate_expectation()"
   ]
  },
  {
   "cell_type": "code",
   "execution_count": 18,
   "id": "aabdc61c-e6f6-41a2-8f26-7f3250d9285b",
   "metadata": {},
   "outputs": [
    {
     "data": {
      "text/plain": [
       "array([[-2.15213611e-04+0.j,  8.48334367e-08+0.j,  1.65162558e-20+0.j,\n",
       "        ...,  2.22145011e-23+0.j,  1.03818938e-14+0.j,\n",
       "        -2.22435456e-11+0.j],\n",
       "       [-2.49678663e-01+0.j,  9.84189569e-05+0.j,  1.91834623e-17+0.j,\n",
       "        ...,  2.57736601e-20+0.j,  1.20444862e-11+0.j,\n",
       "        -2.58057040e-08+0.j],\n",
       "       [ 2.05687038e-11+0.j, -8.10782661e-15+0.j, -1.60795230e-25+0.j,\n",
       "        ...,  5.28002642e-29+0.j, -9.92232855e-22+0.j,\n",
       "         2.12589204e-18+0.j],\n",
       "       ...,\n",
       "       [ 9.83506938e-15+0.j, -3.87681033e-18+0.j,  6.76417135e-29+0.j,\n",
       "        ..., -2.51220866e-32+0.j, -4.74443440e-25+0.j,\n",
       "         1.01651012e-21+0.j],\n",
       "       [ 2.58057021e-08+0.j, -1.01721559e-11+0.j, -1.98130935e-24+0.j,\n",
       "        ..., -2.66372968e-27+0.j, -1.24486578e-18+0.j,\n",
       "         2.66716547e-15+0.j],\n",
       "       [-2.66991015e-11+0.j,  1.05243183e-14+0.j,  2.05016886e-27+0.j,\n",
       "        ...,  2.75504073e-30+0.j,  1.28796332e-21+0.j,\n",
       "        -2.75950336e-18+0.j]])"
      ]
     },
     "execution_count": 18,
     "metadata": {},
     "output_type": "execute_result"
    }
   ],
   "source": [
    "test.np_symmetry_transfer_matrix"
   ]
  },
  {
   "cell_type": "code",
   "execution_count": 19,
   "id": "2908228c-a217-4d57-844c-c99b7da4db53",
   "metadata": {},
   "outputs": [
    {
     "data": {
      "text/plain": [
       "<npc.Array shape=(8, 8, 8, 8) labels=['vL*', 'vL', 'vR', 'vR*']>"
      ]
     },
     "execution_count": 19,
     "metadata": {},
     "output_type": "execute_result"
    }
   ],
   "source": [
    "test.npc_symmetry_transfer_matrix"
   ]
  },
  {
   "cell_type": "code",
   "execution_count": 20,
   "id": "e4af7774-6ca6-4881-a19f-ee1526277a3a",
   "metadata": {},
   "outputs": [
    {
     "data": {
      "text/plain": [
       "<npc.Array shape=(64, 64) labels=['(vL.vL*)', '(vR.vR*)']>"
      ]
     },
     "execution_count": 20,
     "metadata": {},
     "output_type": "execute_result"
    }
   ],
   "source": [
    "test.npc_symmetry_transfer_matrix.combine_legs([['vL', 'vL*'], ['vR', 'vR*']])"
   ]
  },
  {
   "cell_type": "code",
   "execution_count": 21,
   "id": "0f3d5c90-cd83-49b3-b581-f5ff11dd2ed2",
   "metadata": {},
   "outputs": [
    {
     "data": {
      "text/plain": [
       "(-3.50701245068312e-11+0j)"
      ]
     },
     "execution_count": 21,
     "metadata": {},
     "output_type": "execute_result"
    }
   ],
   "source": [
    "test.left_expectation"
   ]
  },
  {
   "cell_type": "code",
   "execution_count": 22,
   "id": "6a55b08e-a206-4829-96d9-cb181bc19513",
   "metadata": {},
   "outputs": [
    {
     "data": {
      "text/plain": [
       "(4.068655495612192e-08+0j)"
      ]
     },
     "execution_count": 22,
     "metadata": {},
     "output_type": "execute_result"
    }
   ],
   "source": [
    "test.right_expectation"
   ]
  },
  {
   "cell_type": "code",
   "execution_count": 23,
   "id": "11d4f9c8-17ed-4334-b996-c6aa3e7b7628",
   "metadata": {},
   "outputs": [
    {
     "data": {
      "text/plain": [
       "array([4.99357640e-01, 5.64338811e-17, 3.52817003e-17, 3.52817003e-17,\n",
       "       3.52817003e-17, 3.52817003e-17, 3.52817003e-17, 3.52817003e-17,\n",
       "       3.52817003e-17, 3.52817003e-17, 3.52817003e-17, 3.52817003e-17,\n",
       "       3.52817003e-17, 3.52817003e-17, 3.52817003e-17, 3.52817003e-17,\n",
       "       3.52817003e-17, 3.52817003e-17, 3.52817003e-17, 3.52817003e-17,\n",
       "       3.52817003e-17, 3.52817003e-17, 3.52817003e-17, 3.52817003e-17,\n",
       "       3.52817003e-17, 3.52817003e-17, 3.52817003e-17, 3.52817003e-17,\n",
       "       3.52817003e-17, 3.52817003e-17, 3.52817003e-17, 3.52817003e-17,\n",
       "       3.52817003e-17, 3.52817003e-17, 3.52817003e-17, 3.52817003e-17,\n",
       "       3.52817003e-17, 3.52817003e-17, 3.52817003e-17, 3.52817003e-17,\n",
       "       3.52817003e-17, 3.52817003e-17, 3.52817003e-17, 3.52817003e-17,\n",
       "       3.52817003e-17, 3.52817003e-17, 3.52817003e-17, 3.52817003e-17,\n",
       "       3.52817003e-17, 3.52817003e-17, 3.52817003e-17, 3.52817003e-17,\n",
       "       3.52817003e-17, 3.52817003e-17, 3.52817003e-17, 3.52817003e-17,\n",
       "       3.52817003e-17, 3.52817003e-17, 3.52817003e-17, 3.52817003e-17,\n",
       "       3.52817003e-17, 3.52817003e-17, 3.52817003e-17, 3.52817003e-17])"
      ]
     },
     "execution_count": 23,
     "metadata": {},
     "output_type": "execute_result"
    }
   ],
   "source": [
    "test.symmetry_transfer_matrix_singular_vals"
   ]
  },
  {
   "cell_type": "code",
   "execution_count": 24,
   "id": "88defefc-e605-4d2b-af1a-46e9dc43d150",
   "metadata": {},
   "outputs": [
    {
     "data": {
      "text/plain": [
       "(-7.125247019401047e-19+0j)"
      ]
     },
     "execution_count": 24,
     "metadata": {},
     "output_type": "execute_result"
    }
   ],
   "source": [
    "test.svd_approximate_expectation"
   ]
  },
  {
   "cell_type": "markdown",
   "id": "5af7ba45-f0dc-4abb-bb74-7e372cbb624a",
   "metadata": {},
   "source": [
    "## Test 2"
   ]
  },
  {
   "cell_type": "code",
   "execution_count": 25,
   "id": "d77dd0c4-9659-42d5-af22-ce59dbc60732",
   "metadata": {},
   "outputs": [],
   "source": [
    "test2 = SymmetryActionWithBoundaryUnitaries(\n",
    "    test_psi,\n",
    "    [np_X, np_I]*50,\n",
    "    left_boundary_unitaries = [np_Z,],\n",
    "    right_boundary_unitaries = [np_X, np_Z]\n",
    ")"
   ]
  },
  {
   "cell_type": "code",
   "execution_count": 26,
   "id": "1837ef7f-eb0e-4bfd-b749-bdf0064d9a80",
   "metadata": {},
   "outputs": [
    {
     "data": {
      "text/plain": [
       "array(0.93061628)"
      ]
     },
     "execution_count": 26,
     "metadata": {},
     "output_type": "execute_result"
    }
   ],
   "source": [
    "test2.compute_expectation()"
   ]
  },
  {
   "cell_type": "code",
   "execution_count": 27,
   "id": "2a3cc25b-8431-4212-b5e6-6dde339557f7",
   "metadata": {},
   "outputs": [
    {
     "data": {
      "text/plain": [
       "array(0.93061628)"
      ]
     },
     "execution_count": 27,
     "metadata": {},
     "output_type": "execute_result"
    }
   ],
   "source": [
    "test2.expectation"
   ]
  },
  {
   "cell_type": "code",
   "execution_count": 28,
   "id": "08b9abeb-5a3f-4544-8481-11791b6c3a45",
   "metadata": {},
   "outputs": [
    {
     "data": {
      "text/plain": [
       "numpy.ndarray"
      ]
     },
     "execution_count": 28,
     "metadata": {},
     "output_type": "execute_result"
    }
   ],
   "source": [
    "type(test2.expectation)"
   ]
  },
  {
   "cell_type": "code",
   "execution_count": 29,
   "id": "79f54e2a-32e0-4ed1-90bf-87dd7ab5c311",
   "metadata": {},
   "outputs": [
    {
     "name": "stdout",
     "output_type": "stream",
     "text": [
      "<npc.Array shape=(64, 64) labels=['(vL.vL*)', '(vR.vR*)']\n",
      "charge=ChargeInfo([], [])\n",
      "LegPipe(shape (8, 8)->64,   |LegPipe(shape (8, 8)->64,   \n",
      "    qconj (+1, -1)->+1;     |    qconj (-1, +1)->-1;     \n",
      "    block numbers (1, 1)->1)|    block numbers (1, 1)->1)\n",
      " +1  |  -1                  | -1  |  +1                  \n",
      "0 [] | 0 []                 |0 [] | 0 []                 \n",
      "8    | 8                    |8    | 8                    \n",
      ")                           |)                           \n",
      ">\n"
     ]
    }
   ],
   "source": [
    "test2.compute_svd_symmetry_action()"
   ]
  },
  {
   "cell_type": "code",
   "execution_count": 30,
   "id": "e0ed17f8-7b6e-4747-a78d-2786b59d17a8",
   "metadata": {},
   "outputs": [
    {
     "data": {
      "text/plain": [
       "tenpy.linalg.np_conserved.Array"
      ]
     },
     "execution_count": 30,
     "metadata": {},
     "output_type": "execute_result"
    }
   ],
   "source": [
    "type(test2.right_projected_symmetry_state)"
   ]
  },
  {
   "cell_type": "code",
   "execution_count": 31,
   "id": "bd62a14f-3a6b-40a8-b1b9-2f2e9606a36a",
   "metadata": {},
   "outputs": [
    {
     "data": {
      "text/plain": [
       "tenpy.linalg.np_conserved.Array"
      ]
     },
     "execution_count": 31,
     "metadata": {},
     "output_type": "execute_result"
    }
   ],
   "source": [
    "type(test2.left_projected_symmetry_state)"
   ]
  },
  {
   "cell_type": "code",
   "execution_count": 32,
   "id": "f9ac849c-f8ad-43a1-8654-7428282bad12",
   "metadata": {},
   "outputs": [
    {
     "data": {
      "text/plain": [
       "numpy.ndarray"
      ]
     },
     "execution_count": 32,
     "metadata": {},
     "output_type": "execute_result"
    }
   ],
   "source": [
    "type(test2.symmetry_transfer_matrix_singular_vals)"
   ]
  },
  {
   "cell_type": "code",
   "execution_count": 33,
   "id": "0f43df01-ccdc-4524-83a5-cf8d70f90e34",
   "metadata": {},
   "outputs": [
    {
     "data": {
      "text/plain": [
       "(1.3651471712007197+0j)"
      ]
     },
     "execution_count": 33,
     "metadata": {},
     "output_type": "execute_result"
    }
   ],
   "source": [
    "test2.compute_right_boundary_expectation()"
   ]
  },
  {
   "cell_type": "code",
   "execution_count": 34,
   "id": "d2639911-ee76-406e-bd11-be0e9182ce42",
   "metadata": {},
   "outputs": [
    {
     "data": {
      "text/plain": [
       "(1.3651471712007195+0j)"
      ]
     },
     "execution_count": 34,
     "metadata": {},
     "output_type": "execute_result"
    }
   ],
   "source": [
    "test2.compute_left_boundary_expectation()"
   ]
  },
  {
   "cell_type": "code",
   "execution_count": 35,
   "id": "9e6e14f2-3d6d-460e-807d-f5c1b26e82f9",
   "metadata": {},
   "outputs": [
    {
     "data": {
      "text/plain": [
       "(1.3651471712007195+0j)"
      ]
     },
     "execution_count": 35,
     "metadata": {},
     "output_type": "execute_result"
    }
   ],
   "source": [
    "test2.left_expectation"
   ]
  },
  {
   "cell_type": "code",
   "execution_count": 36,
   "id": "05701b29-d822-443b-95f9-c842723d54b7",
   "metadata": {},
   "outputs": [
    {
     "data": {
      "text/plain": [
       "(1.3651471712007197+0j)"
      ]
     },
     "execution_count": 36,
     "metadata": {},
     "output_type": "execute_result"
    }
   ],
   "source": [
    "test2.right_expectation"
   ]
  },
  {
   "cell_type": "code",
   "execution_count": 37,
   "id": "7a759e3f-efc9-4412-9b33-b94865cc4090",
   "metadata": {},
   "outputs": [
    {
     "data": {
      "text/plain": [
       "array([4.99357640e-01, 5.64338811e-17, 3.52817003e-17, 3.52817003e-17,\n",
       "       3.52817003e-17, 3.52817003e-17, 3.52817003e-17, 3.52817003e-17,\n",
       "       3.52817003e-17, 3.52817003e-17, 3.52817003e-17, 3.52817003e-17,\n",
       "       3.52817003e-17, 3.52817003e-17, 3.52817003e-17, 3.52817003e-17,\n",
       "       3.52817003e-17, 3.52817003e-17, 3.52817003e-17, 3.52817003e-17,\n",
       "       3.52817003e-17, 3.52817003e-17, 3.52817003e-17, 3.52817003e-17,\n",
       "       3.52817003e-17, 3.52817003e-17, 3.52817003e-17, 3.52817003e-17,\n",
       "       3.52817003e-17, 3.52817003e-17, 3.52817003e-17, 3.52817003e-17,\n",
       "       3.52817003e-17, 3.52817003e-17, 3.52817003e-17, 3.52817003e-17,\n",
       "       3.52817003e-17, 3.52817003e-17, 3.52817003e-17, 3.52817003e-17,\n",
       "       3.52817003e-17, 3.52817003e-17, 3.52817003e-17, 3.52817003e-17,\n",
       "       3.52817003e-17, 3.52817003e-17, 3.52817003e-17, 3.52817003e-17,\n",
       "       3.52817003e-17, 3.52817003e-17, 3.52817003e-17, 3.52817003e-17,\n",
       "       3.52817003e-17, 3.52817003e-17, 3.52817003e-17, 3.52817003e-17,\n",
       "       3.52817003e-17, 3.52817003e-17, 3.52817003e-17, 3.52817003e-17,\n",
       "       3.52817003e-17, 3.52817003e-17, 3.52817003e-17, 3.52817003e-17])"
      ]
     },
     "execution_count": 37,
     "metadata": {},
     "output_type": "execute_result"
    }
   ],
   "source": [
    "test2.symmetry_transfer_matrix_singular_vals"
   ]
  },
  {
   "cell_type": "code",
   "execution_count": 39,
   "id": "608dc465-1eb2-4f55-8aa9-1b72633da3f6",
   "metadata": {},
   "outputs": [
    {
     "name": "stdout",
     "output_type": "stream",
     "text": [
      "<npc.Array shape=(64, 64) labels=['(vL.vL*)', '(vR.vR*)']\n",
      "charge=ChargeInfo([], [])\n",
      "LegPipe(shape (8, 8)->64,   |LegPipe(shape (8, 8)->64,   \n",
      "    qconj (+1, -1)->+1;     |    qconj (-1, +1)->-1;     \n",
      "    block numbers (1, 1)->1)|    block numbers (1, 1)->1)\n",
      " +1  |  -1                  | -1  |  +1                  \n",
      "0 [] | 0 []                 |0 [] | 0 []                 \n",
      "8    | 8                    |8    | 8                    \n",
      ")                           |)                           \n",
      ">\n"
     ]
    },
    {
     "data": {
      "text/plain": [
       "(0.9306162804445224+0j)"
      ]
     },
     "execution_count": 39,
     "metadata": {},
     "output_type": "execute_result"
    }
   ],
   "source": [
    "test2.compute_svd_approximate_expectation()"
   ]
  },
  {
   "cell_type": "code",
   "execution_count": 40,
   "id": "1004893e-0262-48d7-958f-342426446b6a",
   "metadata": {},
   "outputs": [
    {
     "data": {
      "text/plain": [
       "(0.9306162804445224+0j)"
      ]
     },
     "execution_count": 40,
     "metadata": {},
     "output_type": "execute_result"
    }
   ],
   "source": [
    "test2.svd_approximate_expectation"
   ]
  },
  {
   "cell_type": "code",
   "execution_count": 41,
   "id": "f6379f9f-0c2d-4b83-94e3-e59cf38847ee",
   "metadata": {},
   "outputs": [
    {
     "data": {
      "text/plain": [
       "(64, 64)"
      ]
     },
     "execution_count": 41,
     "metadata": {},
     "output_type": "execute_result"
    }
   ],
   "source": [
    "test2.np_symmetry_transfer_matrix.shape"
   ]
  },
  {
   "cell_type": "markdown",
   "id": "042ba585-1804-4b94-ac55-71cb1f92f297",
   "metadata": {},
   "source": [
    "Crack out the old tests"
   ]
  },
  {
   "cell_type": "code",
   "execution_count": 42,
   "id": "2539043f-d7a2-4150-bf3f-3cdeedac7d6e",
   "metadata": {},
   "outputs": [],
   "source": [
    "test_search = TransferMatrixSearch(test_psi, [np_X, np_I]*50)"
   ]
  },
  {
   "cell_type": "code",
   "execution_count": 43,
   "id": "7a22ec74-057a-4d16-8cd9-77cc0160089b",
   "metadata": {},
   "outputs": [],
   "source": [
    "test_search.search_step_right()"
   ]
  },
  {
   "cell_type": "code",
   "execution_count": 44,
   "id": "28ea53f3-fae6-4714-981c-e956a6567752",
   "metadata": {},
   "outputs": [],
   "source": [
    "test_search.search_step_right()"
   ]
  },
  {
   "cell_type": "code",
   "execution_count": 45,
   "id": "ce3db3f2-4e96-45b1-901b-ec5a6dc94697",
   "metadata": {},
   "outputs": [],
   "source": [
    "test_search.search_step_left()"
   ]
  },
  {
   "cell_type": "code",
   "execution_count": 46,
   "id": "f1710fc1-7f68-43f8-bac9-02d59a3af015",
   "metadata": {},
   "outputs": [],
   "source": [
    "test_search.search_step_left()"
   ]
  },
  {
   "cell_type": "code",
   "execution_count": 47,
   "id": "8d8dc488-9145-4fff-8844-0116294d18ef",
   "metadata": {},
   "outputs": [
    {
     "data": {
      "text/plain": [
       "0.9226475110645209"
      ]
     },
     "execution_count": 47,
     "metadata": {},
     "output_type": "execute_result"
    }
   ],
   "source": [
    "test_search.max_overlap"
   ]
  },
  {
   "cell_type": "code",
   "execution_count": 48,
   "id": "a6d7df52-6780-4449-9b21-ca0c31ee71e3",
   "metadata": {},
   "outputs": [
    {
     "data": {
      "text/plain": [
       "2"
      ]
     },
     "execution_count": 48,
     "metadata": {},
     "output_type": "execute_result"
    }
   ],
   "source": [
    "test_search.current_right_depth"
   ]
  },
  {
   "cell_type": "code",
   "execution_count": 49,
   "id": "65335a1c-4fee-4f42-b541-6c0e7ffed0f7",
   "metadata": {},
   "outputs": [
    {
     "data": {
      "text/plain": [
       "2"
      ]
     },
     "execution_count": 49,
     "metadata": {},
     "output_type": "execute_result"
    }
   ],
   "source": [
    "test_search.current_left_depth"
   ]
  },
  {
   "cell_type": "code",
   "execution_count": 50,
   "id": "45d5b908-76ac-46c5-a01d-dc5b7c733c26",
   "metadata": {},
   "outputs": [],
   "source": [
    "r_unitaries = test_search.right_max_s3_points"
   ]
  },
  {
   "cell_type": "code",
   "execution_count": 51,
   "id": "6215e132-0644-4f5d-a434-39402ad30734",
   "metadata": {},
   "outputs": [
    {
     "data": {
      "text/plain": [
       "array([[ 0.02476986, -0.99731462, -0.06574199,  0.02068793],\n",
       "       [ 0.0558371 ,  0.05130515,  0.01280051, -0.99703869]])"
      ]
     },
     "execution_count": 51,
     "metadata": {},
     "output_type": "execute_result"
    }
   ],
   "source": [
    "r_unitaries"
   ]
  },
  {
   "cell_type": "code",
   "execution_count": null,
   "id": "880620f7-a27a-47bc-9d2d-9b9efa410838",
   "metadata": {},
   "outputs": [],
   "source": [
    "l_unitaries = test_search.left_max_s3_points"
   ]
  },
  {
   "cell_type": "code",
   "execution_count": null,
   "id": "34332e71-439c-48c1-9b01-84feda432171",
   "metadata": {},
   "outputs": [],
   "source": [
    "l_unitaries"
   ]
  },
  {
   "cell_type": "code",
   "execution_count": null,
   "id": "c0b134e6-5a26-4927-91dd-be230c667909",
   "metadata": {},
   "outputs": [],
   "source": [
    "test_search.left_max_overlap"
   ]
  },
  {
   "cell_type": "code",
   "execution_count": null,
   "id": "540a5dd4-dbca-46e1-a529-d99ec015d96c",
   "metadata": {},
   "outputs": [],
   "source": [
    "test_search.right_max_overlap"
   ]
  },
  {
   "cell_type": "code",
   "execution_count": null,
   "id": "9fc5873a-695f-44b5-b63c-ad150896c2d7",
   "metadata": {},
   "outputs": [],
   "source": [
    "test_search.max_overlap"
   ]
  },
  {
   "cell_type": "code",
   "execution_count": null,
   "id": "beaf0e4e-6fdb-482f-bd66-49a7a533ac04",
   "metadata": {},
   "outputs": [],
   "source": [
    "r_unitary_1 = s3_to_unitary(r_unitaries[0])\n",
    "r_unitary_2 = s3_to_unitary(r_unitaries[1])"
   ]
  },
  {
   "cell_type": "code",
   "execution_count": null,
   "id": "b0a66b94-01b5-4460-be78-b8b71c38352a",
   "metadata": {},
   "outputs": [],
   "source": [
    "l_unitary = s3_to_unitary(l_unitaries[0])"
   ]
  },
  {
   "cell_type": "code",
   "execution_count": null,
   "id": "2582165c-c9fd-4219-932f-4ff5fb12901c",
   "metadata": {},
   "outputs": [],
   "source": [
    "test3 = SymmetryActionWithBoundaryUnitaries(\n",
    "    test_psi,\n",
    "    [np_X, np_I]*50,\n",
    "    left_boundary_unitaries = [l_unitary,],\n",
    "    right_boundary_unitaries = [r_unitary_1, r_unitary_2]\n",
    ")"
   ]
  },
  {
   "cell_type": "code",
   "execution_count": null,
   "id": "c9bf97b9-393b-46f0-af93-8d6b637321cb",
   "metadata": {},
   "outputs": [],
   "source": [
    "test3.compute_expectation()"
   ]
  },
  {
   "cell_type": "code",
   "execution_count": null,
   "id": "e2d83c79-49c5-4120-b131-dff01adc97fc",
   "metadata": {},
   "outputs": [],
   "source": [
    "np.abs(test3.expectation)"
   ]
  },
  {
   "cell_type": "code",
   "execution_count": null,
   "id": "1072743e-4bf1-4ae8-8897-f553d00e175a",
   "metadata": {},
   "outputs": [],
   "source": [
    "test3.compute_svd_approximate_exepctation()"
   ]
  },
  {
   "cell_type": "code",
   "execution_count": null,
   "id": "d4d40156-5f73-45ce-9ec6-9bdf9f1cd199",
   "metadata": {},
   "outputs": [],
   "source": [
    "np.abs(test3.svd_approximate_expectation)"
   ]
  },
  {
   "cell_type": "code",
   "execution_count": null,
   "id": "8901bb5e-3159-4258-acfc-7ccdc86363aa",
   "metadata": {},
   "outputs": [],
   "source": [
    "np.abs(test3.right_expectation)"
   ]
  },
  {
   "cell_type": "code",
   "execution_count": null,
   "id": "eeaa0ddd-7ec2-455d-9efc-60b9b56dd5c2",
   "metadata": {},
   "outputs": [],
   "source": [
    "1.357477472779108/0.6705320732652"
   ]
  },
  {
   "cell_type": "code",
   "execution_count": null,
   "id": "b3c19937-9738-4532-962a-e164625db5dc",
   "metadata": {},
   "outputs": [],
   "source": [
    "np.abs(test3.left_expectation)"
   ]
  },
  {
   "cell_type": "markdown",
   "id": "0b3ac117-23fd-4346-9b18-85b454c29cf8",
   "metadata": {},
   "source": [
    "Inconsistent types... scalars vs arrays."
   ]
  },
  {
   "cell_type": "code",
   "execution_count": null,
   "id": "1ee22e47-20e3-4474-80a0-29aeb09271a1",
   "metadata": {},
   "outputs": [],
   "source": [
    "0.45574587*2"
   ]
  },
  {
   "cell_type": "code",
   "execution_count": null,
   "id": "e8773be5-a0f2-4f18-b60f-e286eb0e5c83",
   "metadata": {},
   "outputs": [],
   "source": [
    "test3.symmetry_transfer_matrix_singular_vals"
   ]
  },
  {
   "cell_type": "code",
   "execution_count": null,
   "id": "b34a38ec-eea4-45ee-a0f7-b72dd06b7ba3",
   "metadata": {},
   "outputs": [],
   "source": [
    "test_search.symmetry_transfer_matrix_op_norm"
   ]
  },
  {
   "cell_type": "markdown",
   "id": "9a501a4b-d89f-4e34-bf60-0c1b4f1cbc98",
   "metadata": {},
   "source": [
    "Using a different gauge in each method, so can't compare scores directly.\n",
    "But the right scores should still agree?"
   ]
  },
  {
   "cell_type": "code",
   "execution_count": null,
   "id": "0144a58b-8ba3-4eda-b21f-5367616aac5b",
   "metadata": {},
   "outputs": [],
   "source": [
    "np.linalg.norm(test_search.right_projected_symmetry_state - test3.right_projected_symmetry_state)"
   ]
  },
  {
   "cell_type": "markdown",
   "id": "e39ce9f7-320f-4cd4-a539-ddd519306039",
   "metadata": {},
   "source": [
    "Right projected states agree..."
   ]
  },
  {
   "cell_type": "code",
   "execution_count": null,
   "id": "ed8a6daf-578a-4d1d-9647-a0f3850a149a",
   "metadata": {},
   "outputs": [],
   "source": [
    "test3.right_edge_transfer_vector"
   ]
  }
 ],
 "metadata": {
  "kernelspec": {
   "display_name": "num_spt_venv_p11",
   "language": "python",
   "name": "num_spt_venv_p11"
  },
  "language_info": {
   "codemirror_mode": {
    "name": "ipython",
    "version": 3
   },
   "file_extension": ".py",
   "mimetype": "text/x-python",
   "name": "python",
   "nbconvert_exporter": "python",
   "pygments_lexer": "ipython3",
   "version": "3.11.9"
  }
 },
 "nbformat": 4,
 "nbformat_minor": 5
}
