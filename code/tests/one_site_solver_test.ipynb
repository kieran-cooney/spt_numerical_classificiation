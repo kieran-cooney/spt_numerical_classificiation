{
 "cells": [
  {
   "cell_type": "code",
   "execution_count": 1,
   "id": "ecb41ea3-927f-4efa-aebe-ce15784aa037",
   "metadata": {},
   "outputs": [],
   "source": [
    "import sys\n",
    "sys.path.append('../')"
   ]
  },
  {
   "cell_type": "code",
   "execution_count": 2,
   "id": "4a525ec6-f0c8-47ee-8b0b-345bf0ef8bd3",
   "metadata": {},
   "outputs": [],
   "source": [
    "import h5py\n",
    "from tenpy.tools import hdf5_io\n",
    "import tenpy\n",
    "import tenpy.linalg.np_conserved as npc\n",
    "\n",
    "import os"
   ]
  },
  {
   "cell_type": "code",
   "execution_count": 3,
   "id": "214f688a-c657-4810-b4d1-b1247deff62c",
   "metadata": {},
   "outputs": [],
   "source": [
    "import numpy as np"
   ]
  },
  {
   "cell_type": "code",
   "execution_count": 4,
   "id": "b8dec68d-a5b3-4383-ab44-567a9a5981b3",
   "metadata": {},
   "outputs": [],
   "source": [
    "from SPTOptimization.SymmetryActionWithBoundaryUnitaries import SymmetryActionWithBoundaryUnitaries\n",
    "from SPTOptimization.Optimizers.OneSiteSolver import OneSiteSolver\n",
    "from SPTOptimization.utils import multiply_transfer_matrices"
   ]
  },
  {
   "cell_type": "markdown",
   "id": "c69a8a47-e298-4c4c-97f7-a6157da4e15f",
   "metadata": {},
   "source": [
    "# Load data"
   ]
  },
  {
   "cell_type": "code",
   "execution_count": 5,
   "id": "210d7dcc-b7ae-4f06-8429-84177bec47d3",
   "metadata": {},
   "outputs": [],
   "source": [
    "DATA_DIR = r\"../data/transverse_cluster_200_site_dmrg\""
   ]
  },
  {
   "cell_type": "code",
   "execution_count": 6,
   "id": "52736de2-8178-4035-9861-2f17b8d972fc",
   "metadata": {},
   "outputs": [],
   "source": [
    "f_name = DATA_DIR + r\"/0_50.h5\""
   ]
  },
  {
   "cell_type": "code",
   "execution_count": 7,
   "id": "294bd63f-24bb-46d4-9716-76d74e82b013",
   "metadata": {},
   "outputs": [
    {
     "data": {
      "text/plain": [
       "'../data/transverse_cluster_200_site_dmrg/0_50.h5'"
      ]
     },
     "execution_count": 7,
     "metadata": {},
     "output_type": "execute_result"
    }
   ],
   "source": [
    "f_name"
   ]
  },
  {
   "cell_type": "code",
   "execution_count": 8,
   "id": "68e653fc-625c-4010-ac8e-f7740131b8cc",
   "metadata": {},
   "outputs": [],
   "source": [
    "with h5py.File(f_name, 'r') as f:\n",
    "    data = hdf5_io.load_from_hdf5(f)\n",
    "    test_psi = data['wavefunction']"
   ]
  },
  {
   "cell_type": "markdown",
   "id": "b4c1e616-c034-404b-b59e-196d1eaac475",
   "metadata": {},
   "source": [
    "# Test"
   ]
  },
  {
   "cell_type": "code",
   "execution_count": 9,
   "id": "513d7288-c641-4071-a4a3-652787d1f98c",
   "metadata": {},
   "outputs": [],
   "source": [
    "np_I = np.array([[1,0],[0,1]])\n",
    "np_X = np.array([[0,1],[1,0]])\n",
    "np_Y = np.array([[0,-1j],[1j,0]])\n",
    "np_Z = np.array([[1,0],[0,-1]])"
   ]
  },
  {
   "cell_type": "markdown",
   "id": "43808e34-38ae-43c4-af14-aaefe89c44a3",
   "metadata": {},
   "source": [
    "## Test 1"
   ]
  },
  {
   "cell_type": "code",
   "execution_count": 10,
   "id": "331f62bc-e623-459e-81e3-7f1df4feb536",
   "metadata": {},
   "outputs": [],
   "source": [
    "test = SymmetryActionWithBoundaryUnitaries(\n",
    "    test_psi,\n",
    "    [np_X, np_I]*50,\n",
    "    left_boundary_unitaries=[np_I,]*3,\n",
    "    right_boundary_unitaries=[np_I,]*3\n",
    ")"
   ]
  },
  {
   "cell_type": "code",
   "execution_count": 11,
   "id": "750fefb6-fe15-4e41-b766-7ea64714ce1c",
   "metadata": {},
   "outputs": [
    {
     "data": {
      "text/plain": [
       "(-7.125364867846016e-19+0j)"
      ]
     },
     "execution_count": 11,
     "metadata": {},
     "output_type": "execute_result"
    }
   ],
   "source": [
    "test.compute_svd_approximate_expectation()"
   ]
  },
  {
   "cell_type": "code",
   "execution_count": 12,
   "id": "a94a34ed-9653-4c14-9673-f524755eefb6",
   "metadata": {},
   "outputs": [
    {
     "data": {
      "text/plain": [
       "3"
      ]
     },
     "execution_count": 12,
     "metadata": {},
     "output_type": "execute_result"
    }
   ],
   "source": [
    "test.num_right_unitary_sites"
   ]
  },
  {
   "cell_type": "code",
   "execution_count": 13,
   "id": "f45e082c-30f2-4913-aa60-8cfcd1368951",
   "metadata": {},
   "outputs": [],
   "source": [
    "test_opt = OneSiteSolver(test)"
   ]
  },
  {
   "cell_type": "code",
   "execution_count": 14,
   "id": "2b558f45-1b37-4eba-b52d-92787bf70b0b",
   "metadata": {},
   "outputs": [],
   "source": [
    "test_opt.optimize()"
   ]
  },
  {
   "cell_type": "code",
   "execution_count": 15,
   "id": "9ad427a8-6830-4150-baed-d7d0eb33f769",
   "metadata": {},
   "outputs": [
    {
     "data": {
      "text/plain": [
       "0.9306162804445218"
      ]
     },
     "execution_count": 15,
     "metadata": {},
     "output_type": "execute_result"
    }
   ],
   "source": [
    "test_opt.get_abs_expectation()"
   ]
  },
  {
   "cell_type": "code",
   "execution_count": 16,
   "id": "2da1ae49-bec9-4348-a5af-6804222581e3",
   "metadata": {},
   "outputs": [
    {
     "data": {
      "text/plain": [
       "[array([8.13733655e-08, 1.36514717e+00, 1.36514717e+00]),\n",
       " array([1.36514717, 1.36514717, 1.36514717])]"
      ]
     },
     "execution_count": 16,
     "metadata": {},
     "output_type": "execute_result"
    }
   ],
   "source": [
    "test_opt.right_abs_expectations"
   ]
  },
  {
   "cell_type": "code",
   "execution_count": 17,
   "id": "d5030b17-cade-4f25-9a2b-34ba9bd2bd7f",
   "metadata": {},
   "outputs": [
    {
     "data": {
      "text/plain": [
       "[array([1.36514717, 1.36514717, 1.36514717]),\n",
       " array([1.36514717, 1.36514717, 1.36514717])]"
      ]
     },
     "execution_count": 17,
     "metadata": {},
     "output_type": "execute_result"
    }
   ],
   "source": [
    "test_opt.left_abs_expectations"
   ]
  },
  {
   "cell_type": "code",
   "execution_count": 18,
   "id": "dafee4c3-4e34-4978-8963-1de6df98ef43",
   "metadata": {},
   "outputs": [
    {
     "data": {
      "text/plain": [
       "0.499357640126897"
      ]
     },
     "execution_count": 18,
     "metadata": {},
     "output_type": "execute_result"
    }
   ],
   "source": [
    "test_opt.symmetry_singular_value"
   ]
  },
  {
   "cell_type": "code",
   "execution_count": 19,
   "id": "3fdcbb36-9733-4ebb-8f7b-df936f0606df",
   "metadata": {},
   "outputs": [
    {
     "data": {
      "text/plain": [
       "[array([8.13733655e-08, 1.36514717e+00, 1.36514717e+00]),\n",
       " array([1.36514717, 1.36514717, 1.36514717])]"
      ]
     },
     "execution_count": 19,
     "metadata": {},
     "output_type": "execute_result"
    }
   ],
   "source": [
    "test_opt.right_abs_expectations"
   ]
  },
  {
   "cell_type": "code",
   "execution_count": 20,
   "id": "ffc1c74a-6e8a-4ad0-adbe-f980915afc21",
   "metadata": {},
   "outputs": [],
   "source": [
    "test_opt.pad_right(7)\n",
    "test_opt.pad_left(7)"
   ]
  },
  {
   "cell_type": "code",
   "execution_count": 21,
   "id": "bd8f6235-8b22-4eb5-a524-97cac819520d",
   "metadata": {},
   "outputs": [
    {
     "data": {
      "text/plain": [
       "10"
      ]
     },
     "execution_count": 21,
     "metadata": {},
     "output_type": "execute_result"
    }
   ],
   "source": [
    "len(test_opt.right_boundary_unitaries)"
   ]
  },
  {
   "cell_type": "code",
   "execution_count": 22,
   "id": "77e41821-ca2a-4f7e-9a6c-5e12b8ac7ff8",
   "metadata": {},
   "outputs": [
    {
     "data": {
      "text/plain": [
       "10"
      ]
     },
     "execution_count": 22,
     "metadata": {},
     "output_type": "execute_result"
    }
   ],
   "source": [
    "len(test_opt.left_boundary_unitaries)"
   ]
  },
  {
   "cell_type": "code",
   "execution_count": 23,
   "id": "1d5f5f5d-f6fc-4a2c-8160-3bba971a1efc",
   "metadata": {},
   "outputs": [],
   "source": [
    "test_opt.optimize()"
   ]
  },
  {
   "cell_type": "code",
   "execution_count": 24,
   "id": "11abc0fb-ecbb-4d10-8078-b7e27b9efff8",
   "metadata": {},
   "outputs": [
    {
     "data": {
      "text/plain": [
       "[array([8.13733655e-08, 1.36514717e+00, 1.36514717e+00]),\n",
       " array([1.36514717, 1.36514717, 1.36514717]),\n",
       " array([1.36514717, 1.36514717, 1.36514717, 1.36514717, 1.36514717,\n",
       "        1.36514717, 1.36514717, 1.36514717, 1.36514717, 1.36514717])]"
      ]
     },
     "execution_count": 24,
     "metadata": {},
     "output_type": "execute_result"
    }
   ],
   "source": [
    "test_opt.right_abs_expectations"
   ]
  },
  {
   "cell_type": "code",
   "execution_count": 25,
   "id": "6044155e-8267-496d-b800-e49e1a3b6612",
   "metadata": {},
   "outputs": [
    {
     "data": {
      "text/plain": [
       "[array([1.36514717, 1.36514717, 1.36514717]),\n",
       " array([1.36514717, 1.36514717, 1.36514717]),\n",
       " array([1.36514717, 1.36514717, 1.36514717, 1.36514717, 1.36514717,\n",
       "        1.36514717, 1.36514717, 1.36514717, 1.36514717, 1.36514717])]"
      ]
     },
     "execution_count": 25,
     "metadata": {},
     "output_type": "execute_result"
    }
   ],
   "source": [
    "test_opt.left_abs_expectations"
   ]
  },
  {
   "cell_type": "code",
   "execution_count": 26,
   "id": "b85b929a-ff27-4c5a-b6e8-547855438bbc",
   "metadata": {},
   "outputs": [],
   "source": [
    "test_opt2 = OneSiteSolver(test)"
   ]
  },
  {
   "cell_type": "code",
   "execution_count": 27,
   "id": "f4856b13-da19-4088-8726-09f809e7dbe5",
   "metadata": {},
   "outputs": [],
   "source": [
    "test_opt2.pad_right(7)\n",
    "test_opt2.pad_left(7)"
   ]
  },
  {
   "cell_type": "code",
   "execution_count": 28,
   "id": "ee11cbb5-7b10-4316-bb62-1f68c08ee2e6",
   "metadata": {},
   "outputs": [],
   "source": [
    "test_opt2.optimize()"
   ]
  },
  {
   "cell_type": "code",
   "execution_count": 29,
   "id": "412519cd-fbf2-42ce-90dc-627cd2eade9a",
   "metadata": {},
   "outputs": [
    {
     "data": {
      "text/plain": [
       "0.9306162804445235"
      ]
     },
     "execution_count": 29,
     "metadata": {},
     "output_type": "execute_result"
    }
   ],
   "source": [
    "test_opt2.get_abs_expectation()"
   ]
  },
  {
   "cell_type": "code",
   "execution_count": 30,
   "id": "e9caa8e0-943e-4389-90b0-bdb08d51a794",
   "metadata": {},
   "outputs": [
    {
     "data": {
      "text/plain": [
       "[array([8.13733657e-08, 1.36514717e+00, 1.36514717e+00, 1.36514717e+00,\n",
       "        1.36514717e+00, 1.36514717e+00, 1.36514717e+00, 1.36514717e+00,\n",
       "        1.36514717e+00, 1.36514717e+00]),\n",
       " array([1.36514717, 1.36514717, 1.36514717, 1.36514717, 1.36514717,\n",
       "        1.36514717, 1.36514717, 1.36514717, 1.36514717, 1.36514717])]"
      ]
     },
     "execution_count": 30,
     "metadata": {},
     "output_type": "execute_result"
    }
   ],
   "source": [
    "test_opt2.right_abs_expectations"
   ]
  },
  {
   "cell_type": "code",
   "execution_count": 31,
   "id": "41695796-70b2-4f6e-8e18-8bba8d4ffdd6",
   "metadata": {},
   "outputs": [
    {
     "data": {
      "text/plain": [
       "[array([1.36514717, 1.36514717, 1.36514717, 1.36514717, 1.36514717,\n",
       "        1.36514717, 1.36514717, 1.36514717, 1.36514717, 1.36514717]),\n",
       " array([1.36514717, 1.36514717, 1.36514717, 1.36514717, 1.36514717,\n",
       "        1.36514717, 1.36514717, 1.36514717, 1.36514717, 1.36514717])]"
      ]
     },
     "execution_count": 31,
     "metadata": {},
     "output_type": "execute_result"
    }
   ],
   "source": [
    "test_opt2.left_abs_expectations"
   ]
  },
  {
   "cell_type": "code",
   "execution_count": 32,
   "id": "2735033d-6464-49e0-906b-765bdf89527a",
   "metadata": {},
   "outputs": [],
   "source": [
    "lre = test_opt2.left_right_environments\n",
    "rre = test_opt2.right_right_environments"
   ]
  },
  {
   "cell_type": "code",
   "execution_count": 33,
   "id": "bbfb4b9d-2b19-4b19-b1b6-95ef13e4da98",
   "metadata": {},
   "outputs": [],
   "source": [
    "exps_from_envs = np.array([\n",
    "    multiply_transfer_matrices(le, re) for le, re in zip(lre, rre)\n",
    "])"
   ]
  },
  {
   "cell_type": "code",
   "execution_count": 34,
   "id": "efbef267-163b-432a-9e8f-4810a7b7de87",
   "metadata": {},
   "outputs": [
    {
     "data": {
      "text/plain": [
       "array([1.36514717+0.j, 1.36514717+0.j, 1.36514717+0.j, 1.36514717+0.j,\n",
       "       1.36514717+0.j, 1.36514717+0.j, 1.36514717+0.j, 1.36514717+0.j,\n",
       "       1.36514717+0.j, 1.36514717+0.j, 1.36514717+0.j])"
      ]
     },
     "execution_count": 34,
     "metadata": {},
     "output_type": "execute_result"
    }
   ],
   "source": [
    "exps_from_envs"
   ]
  },
  {
   "cell_type": "code",
   "execution_count": 35,
   "id": "041bafb0-2497-4900-8be7-ba7b47a652cc",
   "metadata": {},
   "outputs": [
    {
     "data": {
      "text/plain": [
       "array([1.36514709e+00+0.j, 8.65973959e-15+0.j, 9.10382880e-15+0.j,\n",
       "       8.88178420e-15+0.j, 9.76996262e-15+0.j, 9.99200722e-15+0.j,\n",
       "       1.02140518e-14+0.j, 1.06581410e-14+0.j, 1.15463195e-14+0.j,\n",
       "       1.06581410e-14+0.j])"
      ]
     },
     "execution_count": 35,
     "metadata": {},
     "output_type": "execute_result"
    }
   ],
   "source": [
    "exps_from_envs[1:] - test_opt2.right_abs_expectations[0]"
   ]
  },
  {
   "cell_type": "markdown",
   "id": "d43476c4-14ba-4329-b302-1573b63758ee",
   "metadata": {},
   "source": [
    "So these values agree..."
   ]
  },
  {
   "cell_type": "code",
   "execution_count": 36,
   "id": "f6d43559-2f5e-49a1-99b2-5407e75c7cc0",
   "metadata": {},
   "outputs": [
    {
     "data": {
      "text/plain": [
       "159"
      ]
     },
     "execution_count": 36,
     "metadata": {},
     "output_type": "execute_result"
    }
   ],
   "source": [
    "test_opt2.rightmost_boundary_index"
   ]
  },
  {
   "cell_type": "code",
   "execution_count": 37,
   "id": "2b2530c4-6dbf-4727-a1fc-7458a291d2a5",
   "metadata": {},
   "outputs": [
    {
     "data": {
      "text/plain": [
       "True"
      ]
     },
     "execution_count": 37,
     "metadata": {},
     "output_type": "execute_result"
    }
   ],
   "source": [
    "bool(test_opt2.right_abs_expectations)"
   ]
  },
  {
   "cell_type": "code",
   "execution_count": 38,
   "id": "e82ed7b0-970f-4550-bf22-6322d9054651",
   "metadata": {},
   "outputs": [],
   "source": [
    "test_opt2.optimize()"
   ]
  },
  {
   "cell_type": "code",
   "execution_count": 39,
   "id": "05a89ea8-b144-4fb1-b3d5-65dae0ac00e0",
   "metadata": {},
   "outputs": [
    {
     "data": {
      "text/plain": [
       "0.930616280444523"
      ]
     },
     "execution_count": 39,
     "metadata": {},
     "output_type": "execute_result"
    }
   ],
   "source": [
    "test_opt2.get_abs_expectation()"
   ]
  },
  {
   "cell_type": "code",
   "execution_count": 40,
   "id": "93114cc0-704d-486f-8044-583fbf587c19",
   "metadata": {},
   "outputs": [
    {
     "data": {
      "text/plain": [
       "[array([8.13733657e-08, 1.36514717e+00, 1.36514717e+00, 1.36514717e+00,\n",
       "        1.36514717e+00, 1.36514717e+00, 1.36514717e+00, 1.36514717e+00,\n",
       "        1.36514717e+00, 1.36514717e+00]),\n",
       " array([1.36514717, 1.36514717, 1.36514717, 1.36514717, 1.36514717,\n",
       "        1.36514717, 1.36514717, 1.36514717, 1.36514717, 1.36514717]),\n",
       " array([1.36514717, 1.36514717, 1.36514717, 1.36514717, 1.36514717,\n",
       "        1.36514717, 1.36514717, 1.36514717, 1.36514717, 1.36514717])]"
      ]
     },
     "execution_count": 40,
     "metadata": {},
     "output_type": "execute_result"
    }
   ],
   "source": [
    "test_opt2.right_abs_expectations"
   ]
  },
  {
   "cell_type": "code",
   "execution_count": 41,
   "id": "0ea5601d-7726-40bf-8602-e7ad946b9452",
   "metadata": {},
   "outputs": [
    {
     "data": {
      "text/plain": [
       "[array([1.36514717, 1.36514717, 1.36514717, 1.36514717, 1.36514717,\n",
       "        1.36514717, 1.36514717, 1.36514717, 1.36514717, 1.36514717]),\n",
       " array([1.36514717, 1.36514717, 1.36514717, 1.36514717, 1.36514717,\n",
       "        1.36514717, 1.36514717, 1.36514717, 1.36514717, 1.36514717]),\n",
       " array([1.36514717, 1.36514717, 1.36514717, 1.36514717, 1.36514717,\n",
       "        1.36514717, 1.36514717, 1.36514717, 1.36514717, 1.36514717])]"
      ]
     },
     "execution_count": 41,
     "metadata": {},
     "output_type": "execute_result"
    }
   ],
   "source": [
    "test_opt2.left_abs_expectations"
   ]
  },
  {
   "cell_type": "markdown",
   "id": "3eb3a18a-82cb-4227-bafd-f858ed2b3c86",
   "metadata": {},
   "source": [
    "## Test random"
   ]
  },
  {
   "cell_type": "code",
   "execution_count": 42,
   "id": "bde747aa-6a88-410a-b3b2-5bdbd8f0030b",
   "metadata": {},
   "outputs": [],
   "source": [
    "test_opt4 = OneSiteSolver(test, 10, 10, True)"
   ]
  },
  {
   "cell_type": "code",
   "execution_count": 43,
   "id": "313852ef-fa97-4b19-9717-14228e879826",
   "metadata": {},
   "outputs": [
    {
     "data": {
      "text/plain": [
       "0.9306162804445224"
      ]
     },
     "execution_count": 43,
     "metadata": {},
     "output_type": "execute_result"
    }
   ],
   "source": [
    "test_opt.get_abs_expectation()"
   ]
  },
  {
   "cell_type": "code",
   "execution_count": 44,
   "id": "1803480b-e0c6-413f-a68e-396f39ade39f",
   "metadata": {},
   "outputs": [],
   "source": [
    "random_seed_expectations = list()"
   ]
  },
  {
   "cell_type": "code",
   "execution_count": 45,
   "id": "f0547216-7b70-452e-8b5b-3ec6027af4a6",
   "metadata": {},
   "outputs": [],
   "source": [
    "for _ in range(100):\n",
    "    rand_opt = OneSiteSolver(test, 10, 10, True)\n",
    "    rand_opt.optimize()\n",
    "    random_seed_expectations.append(rand_opt.get_abs_expectation())"
   ]
  },
  {
   "cell_type": "code",
   "execution_count": 46,
   "id": "ddfc8aca-3840-4ef8-8013-c69cd1f30569",
   "metadata": {},
   "outputs": [],
   "source": [
    "import pandas as pd"
   ]
  },
  {
   "cell_type": "code",
   "execution_count": 47,
   "id": "c462c6cd-f479-473e-ae9a-28d52cfb160d",
   "metadata": {},
   "outputs": [],
   "source": [
    "pd_random_seed_expectations = pd.Series(random_seed_expectations)"
   ]
  },
  {
   "cell_type": "code",
   "execution_count": 48,
   "id": "44b922a9-4edf-4db9-8e0a-e2cd26a8ccbe",
   "metadata": {},
   "outputs": [
    {
     "data": {
      "text/plain": [
       "count    100.000000\n",
       "mean       0.728244\n",
       "std        0.052079\n",
       "min        0.621104\n",
       "25%        0.706429\n",
       "50%        0.711402\n",
       "75%        0.756456\n",
       "max        0.930611\n",
       "dtype: float64"
      ]
     },
     "execution_count": 48,
     "metadata": {},
     "output_type": "execute_result"
    }
   ],
   "source": [
    "pd_random_seed_expectations.describe()"
   ]
  },
  {
   "cell_type": "code",
   "execution_count": 51,
   "id": "f1771a81-c35a-49e1-a69e-c5f2f81852de",
   "metadata": {},
   "outputs": [],
   "source": [
    "random_seed_expectations_20 = list()"
   ]
  },
  {
   "cell_type": "code",
   "execution_count": 52,
   "id": "79762018-58e0-4314-9629-8c42f463d5d8",
   "metadata": {},
   "outputs": [],
   "source": [
    "for _ in range(100):\n",
    "    rand_opt = OneSiteSolver(test, 20, 20, True)\n",
    "    rand_opt.optimize()\n",
    "    random_seed_expectations_20.append(rand_opt.get_abs_expectation())"
   ]
  },
  {
   "cell_type": "code",
   "execution_count": 53,
   "id": "8e8a22ac-8a25-47b9-95a7-5b74a4666ec6",
   "metadata": {},
   "outputs": [],
   "source": [
    "pd_random_seed_expectations_20 = pd.Series(random_seed_expectations_20)"
   ]
  },
  {
   "cell_type": "code",
   "execution_count": 54,
   "id": "3806eb3e-0259-408e-9b3e-5aa8daa9abda",
   "metadata": {},
   "outputs": [
    {
     "data": {
      "text/plain": [
       "count    100.000000\n",
       "mean       0.525418\n",
       "std        0.058506\n",
       "min        0.414569\n",
       "25%        0.475662\n",
       "50%        0.510212\n",
       "75%        0.572145\n",
       "max        0.708702\n",
       "dtype: float64"
      ]
     },
     "execution_count": 54,
     "metadata": {},
     "output_type": "execute_result"
    }
   ],
   "source": [
    "pd_random_seed_expectations_20.describe()"
   ]
  },
  {
   "cell_type": "code",
   "execution_count": null,
   "id": "28271be3-728b-42d2-ad75-c61b7de772c4",
   "metadata": {},
   "outputs": [],
   "source": []
  }
 ],
 "metadata": {
  "kernelspec": {
   "display_name": "num_spt_venv_p11",
   "language": "python",
   "name": "num_spt_venv_p11"
  },
  "language_info": {
   "codemirror_mode": {
    "name": "ipython",
    "version": 3
   },
   "file_extension": ".py",
   "mimetype": "text/x-python",
   "name": "python",
   "nbconvert_exporter": "python",
   "pygments_lexer": "ipython3",
   "version": "3.11.9"
  }
 },
 "nbformat": 4,
 "nbformat_minor": 5
}
