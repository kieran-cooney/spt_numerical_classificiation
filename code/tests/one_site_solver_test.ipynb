{
 "cells": [
  {
   "cell_type": "code",
   "execution_count": 1,
   "id": "ecb41ea3-927f-4efa-aebe-ce15784aa037",
   "metadata": {},
   "outputs": [],
   "source": [
    "import sys\n",
    "sys.path.append('../')"
   ]
  },
  {
   "cell_type": "code",
   "execution_count": 2,
   "id": "4a525ec6-f0c8-47ee-8b0b-345bf0ef8bd3",
   "metadata": {},
   "outputs": [],
   "source": [
    "import h5py\n",
    "from tenpy.tools import hdf5_io\n",
    "import tenpy\n",
    "import tenpy.linalg.np_conserved as npc\n",
    "\n",
    "import os"
   ]
  },
  {
   "cell_type": "code",
   "execution_count": 3,
   "id": "214f688a-c657-4810-b4d1-b1247deff62c",
   "metadata": {},
   "outputs": [],
   "source": [
    "import numpy as np"
   ]
  },
  {
   "cell_type": "code",
   "execution_count": 4,
   "id": "b8dec68d-a5b3-4383-ab44-567a9a5981b3",
   "metadata": {},
   "outputs": [],
   "source": [
    "from SPTOptimization.SymmetryActionWithBoundaryUnitaries import SymmetryActionWithBoundaryUnitaries\n",
    "from SPTOptimization.Optimizers.OneSiteSolver import OneSiteSolver"
   ]
  },
  {
   "cell_type": "markdown",
   "id": "c69a8a47-e298-4c4c-97f7-a6157da4e15f",
   "metadata": {},
   "source": [
    "# Load data"
   ]
  },
  {
   "cell_type": "code",
   "execution_count": 5,
   "id": "210d7dcc-b7ae-4f06-8429-84177bec47d3",
   "metadata": {},
   "outputs": [],
   "source": [
    "DATA_DIR = r\"../data/transverse_cluster_200_site_dmrg\""
   ]
  },
  {
   "cell_type": "code",
   "execution_count": 6,
   "id": "52736de2-8178-4035-9861-2f17b8d972fc",
   "metadata": {},
   "outputs": [],
   "source": [
    "f_name = DATA_DIR + r\"/0_50.h5\""
   ]
  },
  {
   "cell_type": "code",
   "execution_count": 7,
   "id": "294bd63f-24bb-46d4-9716-76d74e82b013",
   "metadata": {},
   "outputs": [
    {
     "data": {
      "text/plain": [
       "'../data/transverse_cluster_200_site_dmrg/0_50.h5'"
      ]
     },
     "execution_count": 7,
     "metadata": {},
     "output_type": "execute_result"
    }
   ],
   "source": [
    "f_name"
   ]
  },
  {
   "cell_type": "code",
   "execution_count": 8,
   "id": "68e653fc-625c-4010-ac8e-f7740131b8cc",
   "metadata": {},
   "outputs": [],
   "source": [
    "with h5py.File(f_name, 'r') as f:\n",
    "    data = hdf5_io.load_from_hdf5(f)\n",
    "    test_psi = data['wavefunction']"
   ]
  },
  {
   "cell_type": "markdown",
   "id": "b4c1e616-c034-404b-b59e-196d1eaac475",
   "metadata": {},
   "source": [
    "# Test"
   ]
  },
  {
   "cell_type": "code",
   "execution_count": 9,
   "id": "513d7288-c641-4071-a4a3-652787d1f98c",
   "metadata": {},
   "outputs": [],
   "source": [
    "np_I = np.array([[1,0],[0,1]])\n",
    "np_X = np.array([[0,1],[1,0]])\n",
    "np_Y = np.array([[0,-1j],[1j,0]])\n",
    "np_Z = np.array([[1,0],[0,-1]])"
   ]
  },
  {
   "cell_type": "markdown",
   "id": "43808e34-38ae-43c4-af14-aaefe89c44a3",
   "metadata": {},
   "source": [
    "## Test 1"
   ]
  },
  {
   "cell_type": "code",
   "execution_count": 10,
   "id": "331f62bc-e623-459e-81e3-7f1df4feb536",
   "metadata": {},
   "outputs": [],
   "source": [
    "test = SymmetryActionWithBoundaryUnitaries(\n",
    "    test_psi,\n",
    "    [np_X, np_I]*50,\n",
    "    left_boundary_unitaries=[np_I,]*3,\n",
    "    right_boundary_unitaries=[np_I,]*3\n",
    ")"
   ]
  },
  {
   "cell_type": "code",
   "execution_count": 11,
   "id": "750fefb6-fe15-4e41-b766-7ea64714ce1c",
   "metadata": {},
   "outputs": [
    {
     "data": {
      "text/plain": [
       "(-7.12531953394994e-19+0j)"
      ]
     },
     "execution_count": 11,
     "metadata": {},
     "output_type": "execute_result"
    }
   ],
   "source": [
    "test.compute_svd_approximate_expectation()"
   ]
  },
  {
   "cell_type": "code",
   "execution_count": 12,
   "id": "f45e082c-30f2-4913-aa60-8cfcd1368951",
   "metadata": {},
   "outputs": [],
   "source": [
    "test_opt = OneSiteSolver(test)"
   ]
  },
  {
   "cell_type": "code",
   "execution_count": 13,
   "id": "2b558f45-1b37-4eba-b52d-92787bf70b0b",
   "metadata": {},
   "outputs": [],
   "source": [
    "test_opt.optimize()"
   ]
  },
  {
   "cell_type": "code",
   "execution_count": 14,
   "id": "9ad427a8-6830-4150-baed-d7d0eb33f769",
   "metadata": {},
   "outputs": [
    {
     "data": {
      "text/plain": [
       "0.9306162804445153"
      ]
     },
     "execution_count": 14,
     "metadata": {},
     "output_type": "execute_result"
    }
   ],
   "source": [
    "test_opt.get_abs_expectation()"
   ]
  },
  {
   "cell_type": "code",
   "execution_count": 15,
   "id": "2da1ae49-bec9-4348-a5af-6804222581e3",
   "metadata": {},
   "outputs": [
    {
     "data": {
      "text/plain": [
       "[array([8.13733648e-08, 1.36514717e+00, 1.36514717e+00])]"
      ]
     },
     "execution_count": 15,
     "metadata": {},
     "output_type": "execute_result"
    }
   ],
   "source": [
    "test_opt.right_abs_expectations"
   ]
  },
  {
   "cell_type": "code",
   "execution_count": 16,
   "id": "d5030b17-cade-4f25-9a2b-34ba9bd2bd7f",
   "metadata": {},
   "outputs": [
    {
     "data": {
      "text/plain": [
       "[array([1.36514717, 1.36514717, 1.36514717])]"
      ]
     },
     "execution_count": 16,
     "metadata": {},
     "output_type": "execute_result"
    }
   ],
   "source": [
    "test_opt.left_abs_expectations"
   ]
  },
  {
   "cell_type": "code",
   "execution_count": 17,
   "id": "dafee4c3-4e34-4978-8963-1de6df98ef43",
   "metadata": {},
   "outputs": [
    {
     "data": {
      "text/plain": [
       "0.499357640126897"
      ]
     },
     "execution_count": 17,
     "metadata": {},
     "output_type": "execute_result"
    }
   ],
   "source": [
    "test_opt.symmetry_singular_value"
   ]
  },
  {
   "cell_type": "code",
   "execution_count": 18,
   "id": "3fdcbb36-9733-4ebb-8f7b-df936f0606df",
   "metadata": {},
   "outputs": [
    {
     "data": {
      "text/plain": [
       "[array([8.13733648e-08, 1.36514717e+00, 1.36514717e+00])]"
      ]
     },
     "execution_count": 18,
     "metadata": {},
     "output_type": "execute_result"
    }
   ],
   "source": [
    "test_opt.right_abs_expectations"
   ]
  },
  {
   "cell_type": "code",
   "execution_count": 19,
   "id": "ffc1c74a-6e8a-4ad0-adbe-f980915afc21",
   "metadata": {},
   "outputs": [],
   "source": [
    "test_opt.pad_right(7)\n",
    "test_opt.pad_left(7)"
   ]
  },
  {
   "cell_type": "code",
   "execution_count": 20,
   "id": "bd8f6235-8b22-4eb5-a524-97cac819520d",
   "metadata": {},
   "outputs": [
    {
     "data": {
      "text/plain": [
       "10"
      ]
     },
     "execution_count": 20,
     "metadata": {},
     "output_type": "execute_result"
    }
   ],
   "source": [
    "len(test_opt.right_boundary_unitaries)"
   ]
  },
  {
   "cell_type": "code",
   "execution_count": 21,
   "id": "77e41821-ca2a-4f7e-9a6c-5e12b8ac7ff8",
   "metadata": {},
   "outputs": [
    {
     "data": {
      "text/plain": [
       "10"
      ]
     },
     "execution_count": 21,
     "metadata": {},
     "output_type": "execute_result"
    }
   ],
   "source": [
    "len(test_opt.left_boundary_unitaries)"
   ]
  },
  {
   "cell_type": "code",
   "execution_count": 24,
   "id": "1d5f5f5d-f6fc-4a2c-8160-3bba971a1efc",
   "metadata": {},
   "outputs": [],
   "source": [
    "test_opt.optimize()"
   ]
  },
  {
   "cell_type": "code",
   "execution_count": 25,
   "id": "11abc0fb-ecbb-4d10-8078-b7e27b9efff8",
   "metadata": {},
   "outputs": [
    {
     "data": {
      "text/plain": [
       "[array([8.13733648e-08, 1.36514717e+00, 1.36514717e+00]),\n",
       " array([4.42483079e-05, 1.17708125e-01, 2.42454038e-02, 2.42928195e-02,\n",
       "        6.62496683e-03, 6.62306355e-03, 1.35468557e-03, 1.35476727e-03,\n",
       "        4.79031405e-05, 6.40603294e-05]),\n",
       " array([1.91281703e-04, 1.90966698e-04, 1.91721778e-04, 1.91736717e-04,\n",
       "        1.91589681e-04, 1.91346795e-04, 1.91271958e-04, 1.91273478e-04,\n",
       "        5.41067624e-05, 4.91967733e-05])]"
      ]
     },
     "execution_count": 25,
     "metadata": {},
     "output_type": "execute_result"
    }
   ],
   "source": [
    "test_opt.right_abs_expectations"
   ]
  },
  {
   "cell_type": "code",
   "execution_count": 26,
   "id": "6044155e-8267-496d-b800-e49e1a3b6612",
   "metadata": {},
   "outputs": [
    {
     "data": {
      "text/plain": [
       "[array([1.36514717, 1.36514717, 1.36514717]),\n",
       " array([1.36486960e+00, 3.56144669e-01, 3.51292466e-01, 1.00283376e-01,\n",
       "        9.87564001e-02, 2.06930130e-02, 2.06744342e-02, 4.54096140e-03,\n",
       "        4.50383581e-03, 1.06490586e-03]),\n",
       " array([0.0010778 , 0.00106462, 0.00106495, 0.00105665, 0.00105573,\n",
       "        0.00105572, 0.00105581, 0.00105005, 0.00105005, 0.00104405])]"
      ]
     },
     "execution_count": 26,
     "metadata": {},
     "output_type": "execute_result"
    }
   ],
   "source": [
    "test_opt.left_abs_expectations"
   ]
  },
  {
   "cell_type": "markdown",
   "id": "de7c1344-7504-49bf-8a7f-6efc9ca193b5",
   "metadata": {},
   "source": [
    "Something definitely wrong here..."
   ]
  },
  {
   "cell_type": "code",
   "execution_count": 27,
   "id": "b85b929a-ff27-4c5a-b6e8-547855438bbc",
   "metadata": {},
   "outputs": [],
   "source": [
    "test_opt2 = OneSiteSolver(test)"
   ]
  },
  {
   "cell_type": "code",
   "execution_count": 28,
   "id": "f4856b13-da19-4088-8726-09f809e7dbe5",
   "metadata": {},
   "outputs": [],
   "source": [
    "test_opt2.pad_right(7)\n",
    "test_opt2.pad_left(7)"
   ]
  },
  {
   "cell_type": "code",
   "execution_count": 29,
   "id": "ee11cbb5-7b10-4316-bb62-1f68c08ee2e6",
   "metadata": {},
   "outputs": [],
   "source": [
    "test_opt2.optimize()"
   ]
  },
  {
   "cell_type": "code",
   "execution_count": 30,
   "id": "412519cd-fbf2-42ce-90dc-627cd2eade9a",
   "metadata": {},
   "outputs": [
    {
     "data": {
      "text/plain": [
       "3.043146059941001e-08"
      ]
     },
     "execution_count": 30,
     "metadata": {},
     "output_type": "execute_result"
    }
   ],
   "source": [
    "test_opt2.get_abs_expectation()"
   ]
  },
  {
   "cell_type": "code",
   "execution_count": 32,
   "id": "e9caa8e0-943e-4389-90b0-bdb08d51a794",
   "metadata": {},
   "outputs": [
    {
     "data": {
      "text/plain": [
       "[array([4.38367626e-05, 1.17640086e-01, 2.40635946e-02, 2.40445467e-02,\n",
       "        6.54932690e-03, 6.54818715e-03, 1.34877031e-03, 1.34879113e-03,\n",
       "        5.63538147e-04, 1.24656069e-04, 5.29447780e-05, 6.03191149e-05,\n",
       "        5.70439666e-05, 5.74679822e-05, 5.78163943e-05, 5.78001882e-05,\n",
       "        5.77946018e-05])]"
      ]
     },
     "execution_count": 32,
     "metadata": {},
     "output_type": "execute_result"
    }
   ],
   "source": [
    "test_opt2.right_abs_expectations"
   ]
  },
  {
   "cell_type": "code",
   "execution_count": 33,
   "id": "41695796-70b2-4f6e-8e18-8bba8d4ffdd6",
   "metadata": {},
   "outputs": [
    {
     "data": {
      "text/plain": [
       "[array([1.36514717e+00, 3.53117396e-01, 3.53097106e-01, 1.00232646e-01,\n",
       "        1.00228904e-01, 2.07997444e-02, 2.07998705e-02, 4.41026574e-03,\n",
       "        4.41026637e-03, 1.05444512e-03, 1.05444461e-03, 1.05444473e-03,\n",
       "        1.05444468e-03, 1.05444475e-03, 1.05444472e-03, 1.05444475e-03,\n",
       "        1.05444473e-03])]"
      ]
     },
     "execution_count": 33,
     "metadata": {},
     "output_type": "execute_result"
    }
   ],
   "source": [
    "test_opt2.left_abs_expectations"
   ]
  }
 ],
 "metadata": {
  "kernelspec": {
   "display_name": "num_spt_venv_p11",
   "language": "python",
   "name": "num_spt_venv_p11"
  },
  "language_info": {
   "codemirror_mode": {
    "name": "ipython",
    "version": 3
   },
   "file_extension": ".py",
   "mimetype": "text/x-python",
   "name": "python",
   "nbconvert_exporter": "python",
   "pygments_lexer": "ipython3",
   "version": "3.11.9"
  }
 },
 "nbformat": 4,
 "nbformat_minor": 5
}
