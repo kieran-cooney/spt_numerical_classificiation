{
 "cells": [
  {
   "cell_type": "markdown",
   "id": "5f2205a4-2c74-4cf5-9ad1-9d65bd13bed2",
   "metadata": {},
   "source": [
    "# One site solver SPT calculation\n",
    "Created 04/09/2024\n",
    "\n",
    "Objectives:\n",
    "* Solve for a single site at the boundary and investigate resulting SPT phase.\n",
    "* Try for two sites as well. (Natural unit cell.)\n",
    "* What about variations around this optimum?"
   ]
  },
  {
   "cell_type": "markdown",
   "id": "9ad0db4d-805c-4403-9d48-c71d523d572f",
   "metadata": {},
   "source": [
    "# Package imports"
   ]
  },
  {
   "cell_type": "code",
   "execution_count": 1,
   "id": "4a525ec6-f0c8-47ee-8b0b-345bf0ef8bd3",
   "metadata": {},
   "outputs": [],
   "source": [
    "import h5py\n",
    "from tenpy.tools import hdf5_io\n",
    "import tenpy\n",
    "import tenpy.linalg.np_conserved as npc\n",
    "\n",
    "import os"
   ]
  },
  {
   "cell_type": "code",
   "execution_count": 2,
   "id": "214f688a-c657-4810-b4d1-b1247deff62c",
   "metadata": {},
   "outputs": [],
   "source": [
    "import numpy as np\n",
    "import pandas as pd\n",
    "import matplotlib.pyplot as plt"
   ]
  },
  {
   "cell_type": "code",
   "execution_count": 17,
   "id": "b8dec68d-a5b3-4383-ab44-567a9a5981b3",
   "metadata": {},
   "outputs": [],
   "source": [
    "from SPTOptimization.SymmetryActionWithBoundaryUnitaries import SymmetryActionWithBoundaryUnitaries\n",
    "from SPTOptimization.Optimizers.utils import one_site_optimization\n",
    "\n",
    "from SPTOptimization.gradients import expectation_gradient_from_environments_and_b_tensor"
   ]
  },
  {
   "cell_type": "code",
   "execution_count": 34,
   "id": "f91ecce9-eb32-46c3-a53f-e1abe06d580a",
   "metadata": {},
   "outputs": [],
   "source": [
    "from functools import reduce"
   ]
  },
  {
   "cell_type": "markdown",
   "id": "968b03f4-adb0-48cc-bb4a-414d8856c7c2",
   "metadata": {},
   "source": [
    "# Load data"
   ]
  },
  {
   "cell_type": "code",
   "execution_count": 6,
   "id": "3b61bbe0-5d7f-49c5-96ab-265f8b0d36b6",
   "metadata": {},
   "outputs": [],
   "source": [
    "DATA_DIR = r\"data/transverse_cluster_200_site_dmrg\""
   ]
  },
  {
   "cell_type": "code",
   "execution_count": 7,
   "id": "2e1f611d-29dd-4c9b-ad1b-f4cc8b59bab7",
   "metadata": {},
   "outputs": [],
   "source": [
    "loaded_data = list()\n",
    "\n",
    "for local_file_name in os.listdir(DATA_DIR):\n",
    "    f_name = r\"{}/{}\".format(DATA_DIR, local_file_name, ignore_unknown=False)\n",
    "    with h5py.File(f_name, 'r') as f:\n",
    "        data = hdf5_io.load_from_hdf5(f)\n",
    "        loaded_data.append(data)"
   ]
  },
  {
   "cell_type": "code",
   "execution_count": 8,
   "id": "0ab87e3c-bd9b-4a88-9b74-ccdae9a91235",
   "metadata": {},
   "outputs": [],
   "source": [
    "b_parameters = sorted(list(d['paramters']['B'] for d in loaded_data))"
   ]
  },
  {
   "cell_type": "code",
   "execution_count": 9,
   "id": "322ad437-4f39-4e52-8e32-10dbe0fbd4ee",
   "metadata": {},
   "outputs": [],
   "source": [
    "psi_dict = dict()"
   ]
  },
  {
   "cell_type": "code",
   "execution_count": 10,
   "id": "097b34eb-49aa-4152-a116-c491420745fb",
   "metadata": {},
   "outputs": [],
   "source": [
    "for b in b_parameters:\n",
    "    psi = next(\n",
    "        d['wavefunction']\n",
    "        for d in loaded_data\n",
    "        if d['paramters']['B'] == b\n",
    "    )\n",
    "\n",
    "    rounded_b = round(b, 1)\n",
    "    psi_dict[rounded_b] = psi"
   ]
  },
  {
   "cell_type": "markdown",
   "id": "d6d360f5-5b8d-4807-9e92-188d06b544b7",
   "metadata": {},
   "source": [
    "# Definitions"
   ]
  },
  {
   "cell_type": "code",
   "execution_count": 11,
   "id": "513d7288-c641-4071-a4a3-652787d1f98c",
   "metadata": {},
   "outputs": [],
   "source": [
    "np_I = np.array([[1,0],[0,1]])\n",
    "np_X = np.array([[0,1],[1,0]])\n",
    "np_Y = np.array([[0,-1j],[1j,0]])\n",
    "np_Z = np.array([[1,0],[0,-1]])"
   ]
  },
  {
   "cell_type": "code",
   "execution_count": 12,
   "id": "97112128-6ee4-4d12-947c-1ee10e4e23db",
   "metadata": {},
   "outputs": [],
   "source": [
    "symmetry_actions = [\n",
    "    [np_I, np_I],\n",
    "    [np_I, np_X],\n",
    "    [np_X, np_I],\n",
    "    [np_X, np_X]\n",
    "]"
   ]
  },
  {
   "cell_type": "code",
   "execution_count": 15,
   "id": "6b3baa51-a417-492b-989f-6512df630027",
   "metadata": {},
   "outputs": [],
   "source": [
    "symmetry_labels = [\n",
    "    'II',\n",
    "    'IX',\n",
    "    'XI',\n",
    "    'XX'\n",
    "]"
   ]
  },
  {
   "cell_type": "code",
   "execution_count": 13,
   "id": "6e8f666e-cc44-43bb-8e8f-e41246e7286c",
   "metadata": {},
   "outputs": [],
   "source": [
    "cases = [\n",
    "    [\n",
    "        SymmetryActionWithBoundaryUnitaries(\n",
    "            psi,\n",
    "            s*50,\n",
    "            left_boundary_unitaries=[np_I,]*3,\n",
    "            right_boundary_unitaries=[np_I,]*3\n",
    "        )\n",
    "        for s in symmetry_actions\n",
    "    ]\n",
    "    for psi in psi_dict.values()\n",
    "]"
   ]
  },
  {
   "cell_type": "code",
   "execution_count": 14,
   "id": "0d8177af-3b52-4898-9b57-81ced3e58842",
   "metadata": {},
   "outputs": [],
   "source": [
    "for l in cases:\n",
    "    for c in l:\n",
    "        c.compute_svd_approximate_expectation()"
   ]
  },
  {
   "cell_type": "markdown",
   "id": "2f32363d-d425-47c3-9d19-fff7b031801c",
   "metadata": {},
   "source": [
    "## Functions"
   ]
  },
  {
   "cell_type": "code",
   "execution_count": 127,
   "id": "9f00c137-af01-4e87-80c6-09efc9fc8c26",
   "metadata": {},
   "outputs": [],
   "source": [
    "def get_unitary(case):\n",
    "    index = case.right_symmetry_index + 1\n",
    "    psi = case.psi\n",
    "    b = psi.get_B(index)\n",
    "\n",
    "    left_environment = case.right_projected_symmetry_state\n",
    "\n",
    "    grad = expectation_gradient_from_environments_and_b_tensor(\n",
    "        b,\n",
    "        left_environment,\n",
    "    )\n",
    "\n",
    "    score, unitary = one_site_optimization(grad)\n",
    "\n",
    "    return score, unitary"
   ]
  },
  {
   "cell_type": "code",
   "execution_count": 33,
   "id": "7f821d87-fde7-4579-954d-27b0dd8f1342",
   "metadata": {},
   "outputs": [],
   "source": [
    "def multiply_tenpy_matrices(m1, m2):\n",
    "    return npc.tensordot(m1, m2, [['p',], ['p*',]])"
   ]
  },
  {
   "cell_type": "code",
   "execution_count": 192,
   "id": "e17e44c0-3cb2-4051-bd1e-77d5a1888639",
   "metadata": {},
   "outputs": [],
   "source": [
    "def distance_from_identity(j, dim=2):\n",
    "    # Assumes two dimensions\n",
    "\n",
    "    e1 = npc.tensordot(j, j.conj(), [['p', 'p*'], ['p*', 'p']])\n",
    "\n",
    "    e2 = npc.trace(j, 'p', 'p*')\n",
    "\n",
    "    return e1 - 2*e2.real + dim"
   ]
  },
  {
   "cell_type": "code",
   "execution_count": 176,
   "id": "9ffc419a-6375-4b9a-9312-bc8ebb36b058",
   "metadata": {},
   "outputs": [],
   "source": [
    "def get_2_site_unitary(case):\n",
    "    index = case.right_symmetry_index + 1\n",
    "    psi = case.psi\n",
    "    b1 = psi.get_B(index).replace_label('p', 'p1')\n",
    "    b2 = psi.get_B(index).replace_label('p', 'p2')\n",
    "    b = (\n",
    "        npc.tensordot(b1, b2, [['vR',], ['vL',]])\n",
    "        .combine_legs(['p1', 'p2'])\n",
    "        .replace_label('(p1.p2)', 'p')\n",
    "    )\n",
    "\n",
    "    left_environment = case.right_projected_symmetry_state\n",
    "\n",
    "    grad = expectation_gradient_from_environments_and_b_tensor(\n",
    "        b,\n",
    "        left_environment,\n",
    "    )\n",
    "\n",
    "    score, unitary = one_site_optimization(grad)\n",
    "\n",
    "    return score, unitary"
   ]
  },
  {
   "cell_type": "markdown",
   "id": "2957740f-23b3-4dbe-8032-c99eb44ac315",
   "metadata": {},
   "source": [
    "# Analysis"
   ]
  },
  {
   "cell_type": "markdown",
   "id": "8c63629a-b1b3-4a3a-9d6d-21e201c32128",
   "metadata": {},
   "source": [
    "## One site unitaries"
   ]
  },
  {
   "cell_type": "code",
   "execution_count": 128,
   "id": "008d3ada-8af6-4c03-af84-cf0de0316381",
   "metadata": {},
   "outputs": [],
   "source": [
    "score_unitary_pairs = [[get_unitary(c) for c in l] for l in cases]"
   ]
  },
  {
   "cell_type": "code",
   "execution_count": 129,
   "id": "a5b75dfd-b3a5-4b1b-959c-0f10c0c6928a",
   "metadata": {},
   "outputs": [],
   "source": [
    "scores = [[p[0] for p in l] for l in score_unitary_pairs]\n",
    "unitaries = [[p[1] for p in l] for l in score_unitary_pairs]"
   ]
  },
  {
   "cell_type": "code",
   "execution_count": 195,
   "id": "a8d0571b-d52b-461c-bf3f-a9c459c5e82b",
   "metadata": {},
   "outputs": [],
   "source": [
    "def gauge_invariant_phase(u1, u2, dim=2):\n",
    "    u = reduce(multiply_tenpy_matrices, [u1, u2, u1.conj(), u2.conj()])\n",
    "\n",
    "    trace = npc.trace(u, 'p', 'p*')\n",
    "    phase = trace/abs(trace)\n",
    "\n",
    "    approx_identity = u/phase\n",
    "    approx_identity_distance = distance_from_identity(approx_identity, dim=dim)\n",
    "\n",
    "    return phase, approx_identity_distance"
   ]
  },
  {
   "cell_type": "code",
   "execution_count": 131,
   "id": "72041e1d-4cbd-4237-9052-c70453d8652f",
   "metadata": {},
   "outputs": [],
   "source": [
    "from itertools import combinations"
   ]
  },
  {
   "cell_type": "code",
   "execution_count": 234,
   "id": "278d162c-1ec9-409e-8b34-1fd2d7e54099",
   "metadata": {},
   "outputs": [],
   "source": [
    "symmetry_combination_labels = list(combinations(symmetry_labels, 2))"
   ]
  },
  {
   "cell_type": "code",
   "execution_count": 235,
   "id": "49222916-2f94-496e-bab7-351eb6131dee",
   "metadata": {},
   "outputs": [
    {
     "data": {
      "text/plain": [
       "[('II', 'IX'),\n",
       " ('II', 'XI'),\n",
       " ('II', 'XX'),\n",
       " ('IX', 'XI'),\n",
       " ('IX', 'XX'),\n",
       " ('XI', 'XX')]"
      ]
     },
     "execution_count": 235,
     "metadata": {},
     "output_type": "execute_result"
    }
   ],
   "source": [
    "symmetry_combination_labels"
   ]
  },
  {
   "cell_type": "code",
   "execution_count": 133,
   "id": "52e9b047-6034-475e-a5ad-040ccf8c5476",
   "metadata": {},
   "outputs": [],
   "source": [
    "phase_distance_pairs = [[gauge_invariant_phase(*p) for p in combinations(l, 2)] for l in unitaries]"
   ]
  },
  {
   "cell_type": "code",
   "execution_count": 134,
   "id": "305fff7d-d310-42fa-98c8-9054f4b33d7c",
   "metadata": {},
   "outputs": [],
   "source": [
    "phases = [[p[0] for p in l] for l in phase_distance_pairs]\n",
    "distances = [[p[1] for p in l] for l in phase_distance_pairs]"
   ]
  },
  {
   "cell_type": "markdown",
   "id": "72696bcf-9964-405f-9b87-1d910125b6ec",
   "metadata": {},
   "source": [
    "### Phases"
   ]
  },
  {
   "cell_type": "code",
   "execution_count": 135,
   "id": "372a1747-c3fa-4a5c-965c-e77a9cd69c8d",
   "metadata": {},
   "outputs": [
    {
     "data": {
      "text/plain": [
       "21"
      ]
     },
     "execution_count": 135,
     "metadata": {},
     "output_type": "execute_result"
    }
   ],
   "source": [
    "len(phases)"
   ]
  },
  {
   "cell_type": "code",
   "execution_count": 136,
   "id": "85d817f2-d106-4613-a6da-8730957e355d",
   "metadata": {},
   "outputs": [
    {
     "data": {
      "text/plain": [
       "[[(1+0j), (1+0j), (1+0j), (-1+0j), (-1+0j), (-1+0j)],\n",
       " [(1+0j), (1+0j), (1+0j), (1+0j), (-1+0j), (1+0j)],\n",
       " [(1+0j), (1+0j), (1+0j), (-1+0j), (-1+0j), (-1+0j)],\n",
       " [(1+0j), (1+0j), (1+0j), (-1+0j), (-1+0j), (-1+0j)],\n",
       " [(1+0j), (1+0j), (1+0j), (-1+0j), (-1+0j), (-1+0j)],\n",
       " [(1+0j), (1+0j), (1+0j), (-1+0j), (-1+0j), (-1+0j)],\n",
       " [(1+0j), (1+0j), (1+0j), (-1+0j), (-1+0j), (-1+0j)],\n",
       " [(1+0j), (1+0j), (1+0j), (-1+0j), (-1+0j), (-1+0j)],\n",
       " [(1+0j), (1+0j), (1+0j), (-1+0j), (-1+0j), (-1+0j)],\n",
       " [(1+0j), (1+0j), (1+0j), (-1+0j), (-1+0j), (-1+0j)]]"
      ]
     },
     "execution_count": 136,
     "metadata": {},
     "output_type": "execute_result"
    }
   ],
   "source": [
    "phases[:10]"
   ]
  },
  {
   "cell_type": "code",
   "execution_count": 137,
   "id": "9d4055d9-8967-4db7-839e-62c64d38733f",
   "metadata": {},
   "outputs": [
    {
     "data": {
      "text/plain": [
       "[(1+0j), (1+0j), (1+0j), (-1+0j), (-1+0j), (-1+0j)]"
      ]
     },
     "execution_count": 137,
     "metadata": {},
     "output_type": "execute_result"
    }
   ],
   "source": [
    "phases[10]"
   ]
  },
  {
   "cell_type": "code",
   "execution_count": 138,
   "id": "a433f94a-8fa8-408b-b4e7-308e5f74d67f",
   "metadata": {},
   "outputs": [
    {
     "data": {
      "text/plain": [
       "[[(1+0j), (1+0j), (1+0j), (1+0j), (1+0j), (1+0j)],\n",
       " [(1+0j), (1+0j), (1+0j), (1+0j), (1+0j), (1+0j)],\n",
       " [(1+0j), (1+0j), (1+0j), (1+0j), (1+0j), (1+0j)],\n",
       " [(1+0j), (1+0j), (1+0j), (1+0j), (1+0j), (1+0j)],\n",
       " [(1+0j), (1+0j), (1+0j), (1+0j), (1+0j), (1+0j)],\n",
       " [(1+0j), (1+0j), (1+0j), (1+0j), (1+0j), (1+0j)],\n",
       " [(1+0j), (1+0j), (1+0j), (1+0j), (1+0j), (1+0j)],\n",
       " [(1+0j), (1+0j), (1+0j), (1+0j), (1+0j), (1+0j)],\n",
       " [(1+0j), (1+0j), (1+0j), (1+0j), (1+0j), (1+0j)],\n",
       " [(1+0j), (1+0j), (1+0j), (1+0j), (1+0j), (1+0j)]]"
      ]
     },
     "execution_count": 138,
     "metadata": {},
     "output_type": "execute_result"
    }
   ],
   "source": [
    "phases[11:]"
   ]
  },
  {
   "cell_type": "markdown",
   "id": "34d61e6e-2229-46cd-98ff-d6695b52a1b5",
   "metadata": {},
   "source": [
    "Classifying phases correctly."
   ]
  },
  {
   "cell_type": "markdown",
   "id": "2980b8f7-4042-4c61-9b79-61972875379e",
   "metadata": {},
   "source": [
    "### Scores"
   ]
  },
  {
   "cell_type": "code",
   "execution_count": 139,
   "id": "b54fba15-fca6-4610-8a8e-78240a7b4cdc",
   "metadata": {},
   "outputs": [],
   "source": [
    "scores_array = np.array(scores).T"
   ]
  },
  {
   "cell_type": "code",
   "execution_count": 140,
   "id": "71b41c82-e3f2-4f6d-b679-296da95fab95",
   "metadata": {},
   "outputs": [
    {
     "data": {
      "text/plain": [
       "array([[1.41421356e+00, 1.41421468e+00, 1.41423197e+00, 1.41431178e+00,\n",
       "        1.41454875e+00, 1.41512287e+00, 1.41638434e+00, 1.41906654e+00,\n",
       "        1.42490333e+00, 1.43609004e+00, 1.22193043e+00, 1.19941782e+00,\n",
       "        1.14350954e+00, 1.11037774e+00, 1.08855503e+00, 1.07315463e+00,\n",
       "        1.06174660e+00, 1.05298879e+00, 1.04607899e+00, 1.04050777e+00,\n",
       "        1.03593590e+00],\n",
       "       [1.41421356e+00, 1.41243913e+00, 1.40703388e+00, 1.39773668e+00,\n",
       "        1.38405447e+00, 1.36514717e+00, 1.33958229e+00, 1.30476721e+00,\n",
       "        1.25540835e+00, 1.17942893e+00, 1.08731293e+00, 9.80540906e-01,\n",
       "        9.89685622e-01, 9.93904459e-01, 9.96077894e-01, 9.97323836e-01,\n",
       "        9.98093544e-01, 9.98596040e-01, 9.98938340e-01, 9.99179550e-01,\n",
       "        9.99354300e-01],\n",
       "       [4.11820374e-14, 1.03332376e-13, 1.85324742e-13, 5.92581095e-13,\n",
       "        3.89535617e-10, 8.13733648e-08, 6.34935389e-06, 2.50372889e-04,\n",
       "        5.97902566e-03, 9.77451881e-02, 8.05690088e-01, 9.79793905e-01,\n",
       "        9.89685623e-01, 9.93904459e-01, 9.96077894e-01, 9.97323836e-01,\n",
       "        9.98093544e-01, 9.98596040e-01, 9.98938340e-01, 9.99179550e-01,\n",
       "        9.99354300e-01],\n",
       "       [4.04676293e-14, 3.25840865e-14, 1.88729095e-13, 5.58476737e-13,\n",
       "        3.64933944e-10, 7.30523284e-08, 5.37115131e-06, 1.94551358e-04,\n",
       "        4.08161579e-03, 5.31466109e-02, 5.08071393e-01, 8.00978674e-01,\n",
       "        8.56550115e-01, 8.89647540e-01, 9.11456697e-01, 9.26851235e-01,\n",
       "        9.38256516e-01, 9.47012954e-01, 9.53922037e-01, 9.59492856e-01,\n",
       "        9.64064491e-01]])"
      ]
     },
     "execution_count": 140,
     "metadata": {},
     "output_type": "execute_result"
    }
   ],
   "source": [
    "scores_array"
   ]
  },
  {
   "cell_type": "code",
   "execution_count": 141,
   "id": "594300f2-f484-4e38-a974-1e4984fec283",
   "metadata": {},
   "outputs": [
    {
     "name": "stderr",
     "output_type": "stream",
     "text": [
      "/tmp/ipykernel_15782/408976895.py:8: UserWarning: FigureCanvasAgg is non-interactive, and thus cannot be shown\n",
      "  fig.show()\n"
     ]
    },
    {
     "data": {
      "image/png": "[encoded data removed]",
      "text/plain": [
       "<Figure size 600x400 with 1 Axes>"
      ]
     },
     "metadata": {},
     "output_type": "display_data"
    }
   ],
   "source": [
    "fig, ax = plt.subplots(figsize=(6,4))\n",
    "\n",
    "for i, x in enumerate(scores_array):\n",
    "    ax.plot(x, label=symmetry_labels[i])\n",
    "\n",
    "ax.legend()\n",
    "\n",
    "fig.show()"
   ]
  },
  {
   "cell_type": "markdown",
   "id": "faf92b51-8356-44b7-b1b7-0e7f127dd4c1",
   "metadata": {},
   "source": [
    "Why is the score decreasing for the identity action in the trivial phase? The singular value is changing, as previously observed."
   ]
  },
  {
   "cell_type": "markdown",
   "id": "9c9bccfc-b126-4293-a84a-2413a9fe1109",
   "metadata": {},
   "source": [
    "### Distances"
   ]
  },
  {
   "cell_type": "code",
   "execution_count": 142,
   "id": "33cc83c9-d332-4c2b-b7c2-f568e89a312a",
   "metadata": {},
   "outputs": [],
   "source": [
    "distances_array = np.array(distances).T"
   ]
  },
  {
   "cell_type": "code",
   "execution_count": 143,
   "id": "7485c2fe-31ce-4d7d-96ff-928f1c4d2ca9",
   "metadata": {},
   "outputs": [
    {
     "data": {
      "text/plain": [
       "(4.440892098500626e-16+0j)"
      ]
     },
     "execution_count": 143,
     "metadata": {},
     "output_type": "execute_result"
    }
   ],
   "source": [
    "np.max(distances_array[:3])"
   ]
  },
  {
   "cell_type": "code",
   "execution_count": 144,
   "id": "be54955b-8cf9-40de-8c24-bc7f475e1ab2",
   "metadata": {},
   "outputs": [
    {
     "data": {
      "text/plain": [
       "(5.561319188718272e-05+0j)"
      ]
     },
     "execution_count": 144,
     "metadata": {},
     "output_type": "execute_result"
    }
   ],
   "source": [
    "np.max(distances_array[4:])"
   ]
  },
  {
   "cell_type": "code",
   "execution_count": 145,
   "id": "1c98f94c-cda2-474d-8410-6bc1262e5828",
   "metadata": {},
   "outputs": [
    {
     "data": {
      "text/plain": [
       "array([ 2.96332019e-01+0.j,  9.23501475e-06+0.j,  4.05899348e-02+0.j,\n",
       "        7.21999987e-05+0.j,  1.95833243e-08+0.j,  1.00364161e-13+0.j,\n",
       "        0.00000000e+00+0.j,  1.99840144e-15+0.j,  1.04019016e-11+0.j,\n",
       "        1.78165782e-06+0.j,  1.06165567e+00+0.j,  4.44089210e-16+0.j,\n",
       "        0.00000000e+00+0.j,  0.00000000e+00+0.j,  0.00000000e+00+0.j,\n",
       "       -4.44089210e-16+0.j,  0.00000000e+00+0.j,  0.00000000e+00+0.j,\n",
       "        0.00000000e+00+0.j,  0.00000000e+00+0.j,  0.00000000e+00+0.j])"
      ]
     },
     "execution_count": 145,
     "metadata": {},
     "output_type": "execute_result"
    }
   ],
   "source": [
    "distances_array[3]"
   ]
  },
  {
   "cell_type": "code",
   "execution_count": 146,
   "id": "ee732434-2cb3-4083-8611-536b60ee875d",
   "metadata": {},
   "outputs": [
    {
     "name": "stderr",
     "output_type": "stream",
     "text": [
      "/home/kieranc/Desktop/numerical_spt_classification/code/num_spt_venv_p11/lib/python3.11/site-packages/matplotlib/cbook.py:1699: ComplexWarning: Casting complex values to real discards the imaginary part\n",
      "  return math.isfinite(val)\n",
      "/home/kieranc/Desktop/numerical_spt_classification/code/num_spt_venv_p11/lib/python3.11/site-packages/matplotlib/cbook.py:1345: ComplexWarning: Casting complex values to real discards the imaginary part\n",
      "  return np.asarray(x, float)\n"
     ]
    },
    {
     "data": {
      "text/plain": [
       "[<matplotlib.lines.Line2D at 0x7390e115a650>]"
      ]
     },
     "execution_count": 146,
     "metadata": {},
     "output_type": "execute_result"
    },
    {
     "data": {
      "image/png": "[encoded data removed]",
      "text/plain": [
       "<Figure size 640x480 with 1 Axes>"
      ]
     },
     "metadata": {},
     "output_type": "display_data"
    }
   ],
   "source": [
    "plt.plot(distances_array[3])"
   ]
  },
  {
   "cell_type": "markdown",
   "id": "49be33df-80ee-4f42-8a71-f0b33503eb09",
   "metadata": {},
   "source": [
    "Getting an error precisely where the SPT phase above changes, the same B-strength and group elements, $XI$ and $IX$."
   ]
  },
  {
   "cell_type": "markdown",
   "id": "8182f26e-6e4f-4d2e-aee7-ab7e6031c7d5",
   "metadata": {},
   "source": [
    "### Unitaries"
   ]
  },
  {
   "cell_type": "code",
   "execution_count": 147,
   "id": "e0c6ebd8-1b81-4461-a2b1-ab8dceb9a9d9",
   "metadata": {},
   "outputs": [],
   "source": [
    "unitaries_array = np.round(np.array([[u.to_ndarray() for u in l] for l in unitaries]), 3)"
   ]
  },
  {
   "cell_type": "code",
   "execution_count": 148,
   "id": "61af6f62-f2ce-45f7-bd60-e0f9dfd5a378",
   "metadata": {},
   "outputs": [
    {
     "data": {
      "text/plain": [
       "(21, 4, 2, 2)"
      ]
     },
     "execution_count": 148,
     "metadata": {},
     "output_type": "execute_result"
    }
   ],
   "source": [
    "unitaries_array.shape"
   ]
  },
  {
   "cell_type": "code",
   "execution_count": 149,
   "id": "cfcc93b2-139a-46ad-aecd-a726457d9b9b",
   "metadata": {},
   "outputs": [
    {
     "data": {
      "text/plain": [
       "array([[[-1.+0.j, -0.+0.j],\n",
       "        [ 0.+0.j, -1.+0.j]],\n",
       "\n",
       "       [[-1.+0.j,  0.+0.j],\n",
       "        [-0.+0.j, -1.+0.j]],\n",
       "\n",
       "       [[-1.+0.j,  0.+0.j],\n",
       "        [-0.+0.j, -1.+0.j]],\n",
       "\n",
       "       [[-1.+0.j,  0.+0.j],\n",
       "        [ 0.+0.j, -1.+0.j]],\n",
       "\n",
       "       [[-1.+0.j, -0.+0.j],\n",
       "        [ 0.+0.j, -1.+0.j]],\n",
       "\n",
       "       [[-1.+0.j, -0.+0.j],\n",
       "        [ 0.+0.j, -1.+0.j]],\n",
       "\n",
       "       [[-1.+0.j, -0.+0.j],\n",
       "        [-0.+0.j, -1.+0.j]],\n",
       "\n",
       "       [[-1.+0.j,  0.+0.j],\n",
       "        [ 0.+0.j, -1.+0.j]],\n",
       "\n",
       "       [[-1.+0.j, -0.+0.j],\n",
       "        [-0.+0.j, -1.+0.j]],\n",
       "\n",
       "       [[-1.+0.j,  0.+0.j],\n",
       "        [-0.+0.j, -1.+0.j]],\n",
       "\n",
       "       [[-1.+0.j, -0.+0.j],\n",
       "        [ 0.+0.j, -1.+0.j]],\n",
       "\n",
       "       [[-1.+0.j,  0.+0.j],\n",
       "        [-0.+0.j, -1.+0.j]],\n",
       "\n",
       "       [[-1.+0.j,  0.+0.j],\n",
       "        [-0.+0.j, -1.+0.j]],\n",
       "\n",
       "       [[-1.+0.j, -0.+0.j],\n",
       "        [-0.+0.j, -1.+0.j]],\n",
       "\n",
       "       [[-1.+0.j, -0.+0.j],\n",
       "        [-0.+0.j, -1.+0.j]],\n",
       "\n",
       "       [[-1.+0.j, -0.+0.j],\n",
       "        [-0.+0.j, -1.+0.j]],\n",
       "\n",
       "       [[-1.+0.j, -0.+0.j],\n",
       "        [ 0.+0.j, -1.+0.j]],\n",
       "\n",
       "       [[-1.+0.j, -0.+0.j],\n",
       "        [ 0.+0.j, -1.+0.j]],\n",
       "\n",
       "       [[-1.+0.j,  0.+0.j],\n",
       "        [-0.+0.j, -1.+0.j]],\n",
       "\n",
       "       [[-1.+0.j, -0.+0.j],\n",
       "        [ 0.+0.j, -1.+0.j]],\n",
       "\n",
       "       [[-1.+0.j, -0.+0.j],\n",
       "        [ 0.+0.j, -1.+0.j]]])"
      ]
     },
     "execution_count": 149,
     "metadata": {},
     "output_type": "execute_result"
    }
   ],
   "source": [
    "unitaries_array[:, 0]"
   ]
  },
  {
   "cell_type": "code",
   "execution_count": 150,
   "id": "1e3cde80-bc3c-4e89-87fb-f758fbdf12a6",
   "metadata": {},
   "outputs": [
    {
     "data": {
      "text/plain": [
       "array([[[-1.   +0.j,  0.   +0.j],\n",
       "        [ 0.   +0.j,  1.   +0.j]],\n",
       "\n",
       "       [[ 1.   +0.j, -0.   +0.j],\n",
       "        [-0.   +0.j, -1.   +0.j]],\n",
       "\n",
       "       [[ 1.   +0.j, -0.   +0.j],\n",
       "        [-0.   +0.j, -1.   +0.j]],\n",
       "\n",
       "       [[-1.   +0.j, -0.   +0.j],\n",
       "        [-0.   +0.j,  1.   +0.j]],\n",
       "\n",
       "       [[ 1.   +0.j, -0.   +0.j],\n",
       "        [-0.   +0.j, -1.   +0.j]],\n",
       "\n",
       "       [[ 1.   +0.j, -0.   +0.j],\n",
       "        [-0.   +0.j, -1.   +0.j]],\n",
       "\n",
       "       [[-1.   +0.j,  0.   +0.j],\n",
       "        [ 0.   +0.j,  1.   +0.j]],\n",
       "\n",
       "       [[ 1.   +0.j,  0.   +0.j],\n",
       "        [ 0.   +0.j, -1.   +0.j]],\n",
       "\n",
       "       [[ 1.   +0.j, -0.   +0.j],\n",
       "        [-0.   +0.j, -1.   +0.j]],\n",
       "\n",
       "       [[ 1.   +0.j, -0.   +0.j],\n",
       "        [-0.   +0.j, -1.   +0.j]],\n",
       "\n",
       "       [[-0.931+0.j, -0.364+0.j],\n",
       "        [-0.364+0.j,  0.931+0.j]],\n",
       "\n",
       "       [[-1.   +0.j, -0.   +0.j],\n",
       "        [ 0.   +0.j, -1.   +0.j]],\n",
       "\n",
       "       [[-1.   +0.j,  0.   +0.j],\n",
       "        [ 0.   +0.j, -1.   +0.j]],\n",
       "\n",
       "       [[-1.   +0.j, -0.   +0.j],\n",
       "        [ 0.   +0.j, -1.   +0.j]],\n",
       "\n",
       "       [[-1.   +0.j, -0.   +0.j],\n",
       "        [ 0.   +0.j, -1.   +0.j]],\n",
       "\n",
       "       [[-1.   +0.j,  0.   +0.j],\n",
       "        [-0.   +0.j, -1.   +0.j]],\n",
       "\n",
       "       [[-1.   +0.j, -0.   +0.j],\n",
       "        [ 0.   +0.j, -1.   +0.j]],\n",
       "\n",
       "       [[-1.   +0.j, -0.   +0.j],\n",
       "        [ 0.   +0.j, -1.   +0.j]],\n",
       "\n",
       "       [[-1.   +0.j,  0.   +0.j],\n",
       "        [ 0.   +0.j, -1.   +0.j]],\n",
       "\n",
       "       [[-1.   +0.j,  0.   +0.j],\n",
       "        [-0.   +0.j, -1.   +0.j]],\n",
       "\n",
       "       [[-1.   +0.j,  0.   +0.j],\n",
       "        [-0.   +0.j, -1.   +0.j]]])"
      ]
     },
     "execution_count": 150,
     "metadata": {},
     "output_type": "execute_result"
    }
   ],
   "source": [
    "unitaries_array[:, 1]"
   ]
  },
  {
   "cell_type": "code",
   "execution_count": 151,
   "id": "2ac2bbc6-91a8-4981-8e71-9c10b1a80975",
   "metadata": {},
   "outputs": [
    {
     "data": {
      "text/plain": [
       "array([[[-0.192+0.j, -0.981+0.j],\n",
       "        [-0.981+0.j,  0.192+0.j]],\n",
       "\n",
       "       [[-1.   +0.j, -0.001+0.j],\n",
       "        [ 0.001+0.j, -1.   +0.j]],\n",
       "\n",
       "       [[ 0.071+0.j, -0.997+0.j],\n",
       "        [-0.997+0.j, -0.071+0.j]],\n",
       "\n",
       "       [[ 0.003+0.j, -1.   +0.j],\n",
       "        [-1.   +0.j, -0.003+0.j]],\n",
       "\n",
       "       [[ 0.   +0.j,  1.   +0.j],\n",
       "        [ 1.   +0.j, -0.   +0.j]],\n",
       "\n",
       "       [[ 0.   +0.j,  1.   +0.j],\n",
       "        [ 1.   +0.j, -0.   +0.j]],\n",
       "\n",
       "       [[-0.   +0.j, -1.   +0.j],\n",
       "        [-1.   +0.j,  0.   +0.j]],\n",
       "\n",
       "       [[-0.   +0.j, -1.   +0.j],\n",
       "        [-1.   +0.j,  0.   +0.j]],\n",
       "\n",
       "       [[ 0.   +0.j, -1.   +0.j],\n",
       "        [-1.   +0.j, -0.   +0.j]],\n",
       "\n",
       "       [[ 0.   +0.j, -1.   +0.j],\n",
       "        [-1.   +0.j, -0.   +0.j]],\n",
       "\n",
       "       [[-0.   +0.j, -1.   +0.j],\n",
       "        [-1.   +0.j,  0.   +0.j]],\n",
       "\n",
       "       [[-0.   +0.j, -1.   +0.j],\n",
       "        [-1.   +0.j,  0.   +0.j]],\n",
       "\n",
       "       [[-0.   +0.j, -1.   +0.j],\n",
       "        [-1.   +0.j,  0.   +0.j]],\n",
       "\n",
       "       [[ 0.   +0.j, -1.   +0.j],\n",
       "        [-1.   +0.j, -0.   +0.j]],\n",
       "\n",
       "       [[ 0.   +0.j, -1.   +0.j],\n",
       "        [-1.   +0.j, -0.   +0.j]],\n",
       "\n",
       "       [[-0.   +0.j, -1.   +0.j],\n",
       "        [-1.   +0.j,  0.   +0.j]],\n",
       "\n",
       "       [[ 0.   +0.j, -1.   +0.j],\n",
       "        [-1.   +0.j, -0.   +0.j]],\n",
       "\n",
       "       [[ 0.   +0.j, -1.   +0.j],\n",
       "        [-1.   +0.j, -0.   +0.j]],\n",
       "\n",
       "       [[-1.   +0.j,  0.   +0.j],\n",
       "        [-0.   +0.j, -1.   +0.j]],\n",
       "\n",
       "       [[-1.   +0.j,  0.   +0.j],\n",
       "        [ 0.   +0.j, -1.   +0.j]],\n",
       "\n",
       "       [[ 0.   +0.j, -1.   +0.j],\n",
       "        [-1.   +0.j, -0.   +0.j]]])"
      ]
     },
     "execution_count": 151,
     "metadata": {},
     "output_type": "execute_result"
    }
   ],
   "source": [
    "unitaries_array[:, 2]"
   ]
  },
  {
   "cell_type": "code",
   "execution_count": 152,
   "id": "ab45ad33-3c57-4cbf-b413-67069f62c5a4",
   "metadata": {},
   "outputs": [
    {
     "data": {
      "text/plain": [
       "array([[[-0.   +0.j,  1.   +0.j],\n",
       "        [-1.   +0.j, -0.   +0.j]],\n",
       "\n",
       "       [[ 0.003+0.j, -1.   +0.j],\n",
       "        [ 1.   +0.j,  0.003+0.j]],\n",
       "\n",
       "       [[ 0.   +0.j,  1.   +0.j],\n",
       "        [-1.   +0.j,  0.   +0.j]],\n",
       "\n",
       "       [[ 0.   +0.j,  1.   +0.j],\n",
       "        [-1.   +0.j,  0.   +0.j]],\n",
       "\n",
       "       [[-0.   +0.j,  1.   +0.j],\n",
       "        [-1.   +0.j, -0.   +0.j]],\n",
       "\n",
       "       [[-0.   +0.j, -1.   +0.j],\n",
       "        [ 1.   +0.j, -0.   +0.j]],\n",
       "\n",
       "       [[-0.   +0.j, -1.   +0.j],\n",
       "        [ 1.   +0.j, -0.   +0.j]],\n",
       "\n",
       "       [[-0.   +0.j,  1.   +0.j],\n",
       "        [-1.   +0.j, -0.   +0.j]],\n",
       "\n",
       "       [[-0.   +0.j, -1.   +0.j],\n",
       "        [ 1.   +0.j, -0.   +0.j]],\n",
       "\n",
       "       [[-0.   +0.j, -1.   +0.j],\n",
       "        [ 1.   +0.j, -0.   +0.j]],\n",
       "\n",
       "       [[-0.   +0.j,  1.   +0.j],\n",
       "        [-1.   +0.j, -0.   +0.j]],\n",
       "\n",
       "       [[-0.   +0.j, -1.   +0.j],\n",
       "        [-1.   +0.j,  0.   +0.j]],\n",
       "\n",
       "       [[-0.   +0.j, -1.   +0.j],\n",
       "        [-1.   +0.j,  0.   +0.j]],\n",
       "\n",
       "       [[ 0.   +0.j, -1.   +0.j],\n",
       "        [-1.   +0.j, -0.   +0.j]],\n",
       "\n",
       "       [[ 0.   +0.j, -1.   +0.j],\n",
       "        [-1.   +0.j, -0.   +0.j]],\n",
       "\n",
       "       [[-0.   +0.j, -1.   +0.j],\n",
       "        [-1.   +0.j,  0.   +0.j]],\n",
       "\n",
       "       [[ 0.   +0.j, -1.   +0.j],\n",
       "        [-1.   +0.j, -0.   +0.j]],\n",
       "\n",
       "       [[ 0.   +0.j, -1.   +0.j],\n",
       "        [-1.   +0.j, -0.   +0.j]],\n",
       "\n",
       "       [[-1.   +0.j, -0.   +0.j],\n",
       "        [-0.   +0.j, -1.   +0.j]],\n",
       "\n",
       "       [[-1.   +0.j,  0.   +0.j],\n",
       "        [-0.   +0.j, -1.   +0.j]],\n",
       "\n",
       "       [[ 0.   +0.j, -1.   +0.j],\n",
       "        [-1.   +0.j, -0.   +0.j]]])"
      ]
     },
     "execution_count": 152,
     "metadata": {},
     "output_type": "execute_result"
    }
   ],
   "source": [
    "unitaries_array[:, 3]"
   ]
  },
  {
   "cell_type": "markdown",
   "id": "f9e6b6e5-b1cf-4260-82f0-7b337a264b67",
   "metadata": {},
   "source": [
    "So in trivial phase, have $I, I, I, I/X$ and for the non-trivial phase have $I, Z, Z, iY$\n",
    "\n",
    "The flipping in the trivial phase of the $XX$ term is odd."
   ]
  },
  {
   "cell_type": "code",
   "execution_count": 153,
   "id": "8d4f81ee-bc38-4ff9-acab-bffbb79c4593",
   "metadata": {},
   "outputs": [
    {
     "data": {
      "text/plain": [
       "array([[[-1.+0.j,  0.+0.j],\n",
       "        [-0.+0.j, -1.+0.j]],\n",
       "\n",
       "       [[ 1.+0.j, -0.+0.j],\n",
       "        [-0.+0.j, -1.+0.j]],\n",
       "\n",
       "       [[ 0.+0.j, -1.+0.j],\n",
       "        [-1.+0.j, -0.+0.j]],\n",
       "\n",
       "       [[-0.+0.j, -1.+0.j],\n",
       "        [ 1.+0.j, -0.+0.j]]])"
      ]
     },
     "execution_count": 153,
     "metadata": {},
     "output_type": "execute_result"
    }
   ],
   "source": [
    "unitaries_array[9]"
   ]
  },
  {
   "cell_type": "markdown",
   "id": "558c66f9-bbed-46c4-bf4f-df028b06b4f9",
   "metadata": {},
   "source": [
    "Would taking a longer patch for the symmetry action fix this?"
   ]
  },
  {
   "cell_type": "markdown",
   "id": "bf16f8b5-70f5-402e-a308-2f1cefc6d983",
   "metadata": {},
   "source": [
    "### Longer patch for odd case"
   ]
  },
  {
   "cell_type": "code",
   "execution_count": 154,
   "id": "fdfb5555-802b-4501-9715-018fd5bb700f",
   "metadata": {},
   "outputs": [
    {
     "data": {
      "text/plain": [
       "dict_keys([0.0, 0.1, 0.2, 0.3, 0.4, 0.5, 0.6, 0.7, 0.8, 0.9, 1.0, 1.1, 1.2, 1.3, 1.4, 1.5, 1.6, 1.7, 1.8, 1.9, 2.0])"
      ]
     },
     "execution_count": 154,
     "metadata": {},
     "output_type": "execute_result"
    }
   ],
   "source": [
    "psi_dict.keys()"
   ]
  },
  {
   "cell_type": "code",
   "execution_count": 155,
   "id": "81e3ba38-b5eb-4f73-acd1-796f1844464f",
   "metadata": {},
   "outputs": [],
   "source": [
    "longer_cases = [\n",
    "    SymmetryActionWithBoundaryUnitaries(\n",
    "        psi_dict[0.9],\n",
    "        s*80,\n",
    "        left_boundary_unitaries=[np_I,]*3,\n",
    "        right_boundary_unitaries=[np_I,]*3\n",
    "    )\n",
    "    for s in symmetry_actions\n",
    "]"
   ]
  },
  {
   "cell_type": "code",
   "execution_count": 156,
   "id": "65233138-9e9f-4256-837f-04a528ba80a5",
   "metadata": {},
   "outputs": [],
   "source": [
    "for c in longer_cases:\n",
    "    c.compute_svd_approximate_expectation()"
   ]
  },
  {
   "cell_type": "code",
   "execution_count": 157,
   "id": "52f51c4e-7420-43b0-864c-247a252f999c",
   "metadata": {},
   "outputs": [],
   "source": [
    "score_unitary_pairs = [get_unitary(c) for c in longer_cases]"
   ]
  },
  {
   "cell_type": "code",
   "execution_count": 158,
   "id": "14d357b2-88c7-4047-bd01-b880b00d57b6",
   "metadata": {},
   "outputs": [],
   "source": [
    "scores = [p[0] for p in score_unitary_pairs]\n",
    "unitaries = [p[1] for p in score_unitary_pairs]"
   ]
  },
  {
   "cell_type": "code",
   "execution_count": 159,
   "id": "b5d807cc-2943-4bf3-8623-06424a7df758",
   "metadata": {},
   "outputs": [],
   "source": [
    "phase_distance_pairs = [gauge_invariant_phase(*p) for p in combinations(unitaries, 2)]"
   ]
  },
  {
   "cell_type": "code",
   "execution_count": 160,
   "id": "908c62a5-99fd-4d7b-802d-391476bfe3bd",
   "metadata": {},
   "outputs": [],
   "source": [
    "phases = [p[0] for p in phase_distance_pairs]\n",
    "distances = [p[1] for p in phase_distance_pairs]"
   ]
  },
  {
   "cell_type": "code",
   "execution_count": 161,
   "id": "e1fcaf93-3990-495f-9c5d-174b49e5791a",
   "metadata": {},
   "outputs": [
    {
     "data": {
      "text/plain": [
       "[(1+0j), (1+0j), (1+0j), (-1+0j), (-1+0j), (-1+0j)]"
      ]
     },
     "execution_count": 161,
     "metadata": {},
     "output_type": "execute_result"
    }
   ],
   "source": [
    "phases"
   ]
  },
  {
   "cell_type": "code",
   "execution_count": 162,
   "id": "c6137d9f-9985-4b84-953e-df561b297811",
   "metadata": {},
   "outputs": [
    {
     "data": {
      "text/plain": [
       "[array([[-1.00000000e+00+0.j,  3.24821461e-16+0.j],\n",
       "        [-1.32642367e-16+0.j, -1.00000000e+00+0.j]]),\n",
       " array([[ 0.99999944+0.j, -0.00106179+0.j],\n",
       "        [-0.00106179+0.j, -0.99999944+0.j]]),\n",
       " array([[ 1.23087451e-04+0.j, -9.99999992e-01+0.j],\n",
       "        [-9.99999992e-01+0.j, -1.23087451e-04+0.j]]),\n",
       " array([[-7.10542736e-15+0.j,  1.00000000e+00+0.j],\n",
       "        [-1.00000000e+00+0.j, -6.99440506e-15+0.j]])]"
      ]
     },
     "execution_count": 162,
     "metadata": {},
     "output_type": "execute_result"
    }
   ],
   "source": [
    "[u.to_ndarray() for u in unitaries]"
   ]
  },
  {
   "cell_type": "markdown",
   "id": "1d07c401-dbb3-440e-8906-e6de554b9d4f",
   "metadata": {},
   "source": [
    "Still having issues... perhaps the solution did not converge...?"
   ]
  },
  {
   "cell_type": "markdown",
   "id": "28c9a89b-ff3e-4b80-90c7-a4ef8e6bb82b",
   "metadata": {},
   "source": [
    "### Right projected symmetry states"
   ]
  },
  {
   "cell_type": "code",
   "execution_count": 163,
   "id": "a71fe614-a6e1-4067-bc0c-92e0603bf9eb",
   "metadata": {},
   "outputs": [],
   "source": [
    "right_symmetry_states = [[\n",
    "    np.round(c.right_projected_symmetry_state.to_ndarray())\n",
    "    for c in l] for l in cases]"
   ]
  },
  {
   "cell_type": "code",
   "execution_count": 164,
   "id": "50a6c48b-089b-4d61-a541-8d8587d92b3f",
   "metadata": {},
   "outputs": [
    {
     "data": {
      "text/plain": [
       "[array([[-1.+0.j, -0.+0.j],\n",
       "        [-0.+0.j, -1.+0.j]]),\n",
       " array([[ 0.+0.j,  1.+0.j],\n",
       "        [ 1.+0.j, -0.+0.j]]),\n",
       " array([[-1.+0.j,  0.+0.j],\n",
       "        [ 0.+0.j,  1.+0.j]]),\n",
       " array([[-0.+0.j, -1.+0.j],\n",
       "        [ 1.+0.j,  0.+0.j]])]"
      ]
     },
     "execution_count": 164,
     "metadata": {},
     "output_type": "execute_result"
    }
   ],
   "source": [
    "right_symmetry_states[0]"
   ]
  },
  {
   "cell_type": "code",
   "execution_count": 165,
   "id": "5ca60d30-bb68-47bb-b6c9-2ae589bb7fa8",
   "metadata": {},
   "outputs": [
    {
     "data": {
      "text/plain": [
       "array([[[-1.+0.j,  0.+0.j,  0.+0.j],\n",
       "        [ 0.+0.j, -1.+0.j, -0.+0.j],\n",
       "        [ 0.+0.j, -0.+0.j, -0.+0.j]],\n",
       "\n",
       "       [[ 0.+0.j,  1.+0.j,  0.+0.j],\n",
       "        [ 1.+0.j, -0.+0.j,  0.+0.j],\n",
       "        [ 0.+0.j,  0.+0.j, -0.+0.j]],\n",
       "\n",
       "       [[-1.+0.j,  0.+0.j, -0.+0.j],\n",
       "        [ 0.+0.j,  1.+0.j,  0.+0.j],\n",
       "        [-0.+0.j,  0.+0.j,  0.+0.j]],\n",
       "\n",
       "       [[ 0.+0.j,  1.+0.j,  0.+0.j],\n",
       "        [-1.+0.j, -0.+0.j,  0.+0.j],\n",
       "        [-0.+0.j, -0.+0.j, -0.+0.j]]])"
      ]
     },
     "execution_count": 165,
     "metadata": {},
     "output_type": "execute_result"
    }
   ],
   "source": [
    "np.array(right_symmetry_states[1])[:, :3, :3]"
   ]
  },
  {
   "cell_type": "code",
   "execution_count": 166,
   "id": "236aae2e-6b83-427d-a499-54f119d8e945",
   "metadata": {},
   "outputs": [
    {
     "data": {
      "text/plain": [
       "array([[[-1.+0.j, -0.+0.j,  0.+0.j],\n",
       "        [-0.+0.j, -1.+0.j,  0.+0.j],\n",
       "        [ 0.+0.j,  0.+0.j, -0.+0.j]],\n",
       "\n",
       "       [[-0.+0.j, -1.+0.j, -0.+0.j],\n",
       "        [-1.+0.j,  0.+0.j,  0.+0.j],\n",
       "        [-0.+0.j,  0.+0.j,  0.+0.j]],\n",
       "\n",
       "       [[ 1.+0.j, -0.+0.j, -0.+0.j],\n",
       "        [-0.+0.j, -1.+0.j, -0.+0.j],\n",
       "        [-0.+0.j, -0.+0.j,  0.+0.j]],\n",
       "\n",
       "       [[-0.+0.j,  1.+0.j,  0.+0.j],\n",
       "        [-1.+0.j,  0.+0.j,  0.+0.j],\n",
       "        [-0.+0.j, -0.+0.j,  0.+0.j]]])"
      ]
     },
     "execution_count": 166,
     "metadata": {},
     "output_type": "execute_result"
    }
   ],
   "source": [
    "np.array(right_symmetry_states[5])[:, :3, :3]"
   ]
  },
  {
   "cell_type": "code",
   "execution_count": 167,
   "id": "60ed8bf3-e436-45f1-9ec1-20827f025786",
   "metadata": {},
   "outputs": [
    {
     "data": {
      "text/plain": [
       "array([[[-1.+0.j,  0.+0.j, -0.+0.j],\n",
       "        [ 0.+0.j, -1.+0.j, -0.+0.j],\n",
       "        [-0.+0.j, -0.+0.j, -0.+0.j]],\n",
       "\n",
       "       [[-0.+0.j,  1.+0.j,  0.+0.j],\n",
       "        [ 1.+0.j,  0.+0.j,  0.+0.j],\n",
       "        [ 0.+0.j,  0.+0.j,  0.+0.j]],\n",
       "\n",
       "       [[-1.+0.j, -0.+0.j,  0.+0.j],\n",
       "        [-0.+0.j,  1.+0.j, -0.+0.j],\n",
       "        [ 0.+0.j, -0.+0.j, -0.+0.j]],\n",
       "\n",
       "       [[ 0.+0.j, -1.+0.j,  0.+0.j],\n",
       "        [ 1.+0.j, -0.+0.j,  0.+0.j],\n",
       "        [-0.+0.j, -0.+0.j, -0.+0.j]]])"
      ]
     },
     "execution_count": 167,
     "metadata": {},
     "output_type": "execute_result"
    }
   ],
   "source": [
    "np.array(right_symmetry_states[8])[:, :3, :3]"
   ]
  },
  {
   "cell_type": "code",
   "execution_count": 168,
   "id": "f48e21d8-ba7b-476c-a02c-04774d7ef63f",
   "metadata": {},
   "outputs": [
    {
     "data": {
      "text/plain": [
       "array([[[-1.+0.j, -0.+0.j,  0.+0.j],\n",
       "        [-0.+0.j, -1.+0.j, -0.+0.j],\n",
       "        [ 0.+0.j, -0.+0.j, -0.+0.j]],\n",
       "\n",
       "       [[-0.+0.j, -1.+0.j, -0.+0.j],\n",
       "        [-1.+0.j,  0.+0.j,  0.+0.j],\n",
       "        [-0.+0.j,  0.+0.j,  0.+0.j]],\n",
       "\n",
       "       [[-1.+0.j,  0.+0.j, -0.+0.j],\n",
       "        [ 0.+0.j,  1.+0.j, -0.+0.j],\n",
       "        [-0.+0.j, -0.+0.j, -0.+0.j]],\n",
       "\n",
       "       [[-0.+0.j,  1.+0.j, -0.+0.j],\n",
       "        [-1.+0.j, -0.+0.j,  0.+0.j],\n",
       "        [ 0.+0.j, -0.+0.j, -0.+0.j]]])"
      ]
     },
     "execution_count": 168,
     "metadata": {},
     "output_type": "execute_result"
    }
   ],
   "source": [
    "np.array(right_symmetry_states[9])[:, :3, :3]"
   ]
  },
  {
   "cell_type": "code",
   "execution_count": 169,
   "id": "74934e5d-f4ee-4ffe-9299-7e1e1139f8f9",
   "metadata": {},
   "outputs": [
    {
     "data": {
      "text/plain": [
       "array([[[-1.+0.j, -0.+0.j, -0.+0.j],\n",
       "        [-0.+0.j, -0.+0.j, -0.+0.j],\n",
       "        [-0.+0.j, -0.+0.j, -0.+0.j]],\n",
       "\n",
       "       [[-1.+0.j, -1.+0.j, -0.+0.j],\n",
       "        [-1.+0.j, -0.+0.j,  0.+0.j],\n",
       "        [-0.+0.j,  0.+0.j,  0.+0.j]],\n",
       "\n",
       "       [[-1.+0.j,  0.+0.j, -0.+0.j],\n",
       "        [ 0.+0.j,  0.+0.j, -0.+0.j],\n",
       "        [-0.+0.j, -0.+0.j, -0.+0.j]],\n",
       "\n",
       "       [[-0.+0.j,  1.+0.j, -0.+0.j],\n",
       "        [-1.+0.j,  0.+0.j,  0.+0.j],\n",
       "        [ 0.+0.j, -0.+0.j,  0.+0.j]]])"
      ]
     },
     "execution_count": 169,
     "metadata": {},
     "output_type": "execute_result"
    }
   ],
   "source": [
    "np.array(right_symmetry_states[10])[:, :3, :3]"
   ]
  },
  {
   "cell_type": "code",
   "execution_count": 170,
   "id": "606f6122-18ed-45b2-ac14-0abf9bb247ca",
   "metadata": {},
   "outputs": [
    {
     "data": {
      "text/plain": [
       "array([[[-1.+0.j, -0.+0.j, -0.+0.j],\n",
       "        [-0.+0.j, -0.+0.j, -0.+0.j],\n",
       "        [-0.+0.j, -0.+0.j, -0.+0.j]],\n",
       "\n",
       "       [[-1.+0.j, -0.+0.j,  0.+0.j],\n",
       "        [-0.+0.j, -0.+0.j,  0.+0.j],\n",
       "        [ 0.+0.j,  0.+0.j,  0.+0.j]],\n",
       "\n",
       "       [[-1.+0.j,  0.+0.j, -0.+0.j],\n",
       "        [ 0.+0.j,  0.+0.j, -0.+0.j],\n",
       "        [-0.+0.j, -0.+0.j, -0.+0.j]],\n",
       "\n",
       "       [[-1.+0.j,  0.+0.j,  0.+0.j],\n",
       "        [ 0.+0.j,  0.+0.j,  0.+0.j],\n",
       "        [ 0.+0.j,  0.+0.j,  0.+0.j]]])"
      ]
     },
     "execution_count": 170,
     "metadata": {},
     "output_type": "execute_result"
    }
   ],
   "source": [
    "np.array(right_symmetry_states[11])[:, :3, :3]"
   ]
  },
  {
   "cell_type": "code",
   "execution_count": 171,
   "id": "d5985572-9262-4ab1-950a-c47028746a51",
   "metadata": {},
   "outputs": [
    {
     "data": {
      "text/plain": [
       "array([[[-1.+0.j, -0.+0.j, -0.+0.j],\n",
       "        [-0.+0.j, -0.+0.j, -0.+0.j],\n",
       "        [-0.+0.j, -0.+0.j, -0.+0.j]],\n",
       "\n",
       "       [[-1.+0.j, -0.+0.j, -0.+0.j],\n",
       "        [-0.+0.j, -0.+0.j, -0.+0.j],\n",
       "        [-0.+0.j, -0.+0.j,  0.+0.j]],\n",
       "\n",
       "       [[-1.+0.j, -0.+0.j, -0.+0.j],\n",
       "        [-0.+0.j,  0.+0.j,  0.+0.j],\n",
       "        [-0.+0.j,  0.+0.j, -0.+0.j]],\n",
       "\n",
       "       [[-1.+0.j, -0.+0.j, -0.+0.j],\n",
       "        [-0.+0.j,  0.+0.j,  0.+0.j],\n",
       "        [-0.+0.j,  0.+0.j,  0.+0.j]]])"
      ]
     },
     "execution_count": 171,
     "metadata": {},
     "output_type": "execute_result"
    }
   ],
   "source": [
    "np.array(right_symmetry_states[15])[:, :3, :3]"
   ]
  },
  {
   "cell_type": "markdown",
   "id": "2fde6011-c424-4a3a-8f4a-b077d4d7bbf0",
   "metadata": {},
   "source": [
    "Right symmetry states very regular, more than I remember..."
   ]
  },
  {
   "cell_type": "markdown",
   "id": "a17ad946-2f94-4792-91e8-b06f34ce1e7a",
   "metadata": {},
   "source": [
    "Fixed a bug in the code where I was solving for the wrong site (the one immediately to the left, so the site \"behind\" the symmetry action. This introduced errors for small B! So definitely _not_ translationally invariant, and possible room for improvement?"
   ]
  },
  {
   "cell_type": "markdown",
   "id": "d2e7f303-8f9c-4798-bb7d-c7bb687d4718",
   "metadata": {},
   "source": [
    "## Two site unitaries"
   ]
  },
  {
   "cell_type": "code",
   "execution_count": 216,
   "id": "1daa68d2-3e64-4f87-805b-6812697f4bda",
   "metadata": {},
   "outputs": [],
   "source": [
    "score_unitary_pairs = [[get_2_site_unitary(c) for c in l] for l in cases]"
   ]
  },
  {
   "cell_type": "code",
   "execution_count": 217,
   "id": "fa9ffc01-0ed5-4522-b7ac-46b3a7a06c1c",
   "metadata": {},
   "outputs": [],
   "source": [
    "scores = [[p[0] for p in l] for l in score_unitary_pairs]\n",
    "unitaries = [[p[1] for p in l] for l in score_unitary_pairs]"
   ]
  },
  {
   "cell_type": "code",
   "execution_count": 218,
   "id": "1dced5ac-51d2-4010-a90e-7e23a6ded919",
   "metadata": {},
   "outputs": [
    {
     "data": {
      "text/plain": [
       "<npc.Array shape=(4, 4) labels=['p', 'p*']>"
      ]
     },
     "execution_count": 218,
     "metadata": {},
     "output_type": "execute_result"
    }
   ],
   "source": [
    "unitaries[0][0]"
   ]
  },
  {
   "cell_type": "code",
   "execution_count": 219,
   "id": "ac3626c6-4ee5-409d-a403-3e739f52cce4",
   "metadata": {},
   "outputs": [],
   "source": [
    "identity_u = unitaries[0][0].copy()"
   ]
  },
  {
   "cell_type": "code",
   "execution_count": 220,
   "id": "17bc9f8b-5c4b-4cea-97ca-aaa96e4ff0e5",
   "metadata": {},
   "outputs": [],
   "source": [
    "for i in range(4):\n",
    "    for j in range(4):\n",
    "        c = 1 if i == j else 0\n",
    "        identity_u[i,j] = c"
   ]
  },
  {
   "cell_type": "code",
   "execution_count": 221,
   "id": "190d175b-0219-47b4-b2c0-65a0f92c243f",
   "metadata": {},
   "outputs": [
    {
     "data": {
      "text/plain": [
       "array([[1.+0.j, 0.+0.j, 0.+0.j, 0.+0.j],\n",
       "       [0.+0.j, 1.+0.j, 0.+0.j, 0.+0.j],\n",
       "       [0.+0.j, 0.+0.j, 1.+0.j, 0.+0.j],\n",
       "       [0.+0.j, 0.+0.j, 0.+0.j, 1.+0.j]])"
      ]
     },
     "execution_count": 221,
     "metadata": {},
     "output_type": "execute_result"
    }
   ],
   "source": [
    "identity_u.to_ndarray()"
   ]
  },
  {
   "cell_type": "code",
   "execution_count": 222,
   "id": "42210941-88e8-4d95-a52c-279978dcc85c",
   "metadata": {},
   "outputs": [],
   "source": [
    "phase_distance_pairs = [[gauge_invariant_phase(*p, dim=4) for p in combinations(l, 2)] for l in unitaries]"
   ]
  },
  {
   "cell_type": "code",
   "execution_count": 223,
   "id": "49a7651b-bc78-43a8-b04e-6d32f481e40f",
   "metadata": {},
   "outputs": [],
   "source": [
    "phases = [[p[0] for p in l] for l in phase_distance_pairs]\n",
    "distances = [[p[1] for p in l] for l in phase_distance_pairs]"
   ]
  },
  {
   "cell_type": "markdown",
   "id": "adb9d171-33b7-4e08-a390-23567700af2e",
   "metadata": {},
   "source": [
    "### Phases"
   ]
  },
  {
   "cell_type": "code",
   "execution_count": 224,
   "id": "1f4dca0b-0659-4ca7-9ce2-be23f802e492",
   "metadata": {},
   "outputs": [
    {
     "data": {
      "text/plain": [
       "21"
      ]
     },
     "execution_count": 224,
     "metadata": {},
     "output_type": "execute_result"
    }
   ],
   "source": [
    "len(phases)"
   ]
  },
  {
   "cell_type": "code",
   "execution_count": 225,
   "id": "fc5e5d02-fa8f-4a1c-badd-5776e2ed6a20",
   "metadata": {},
   "outputs": [
    {
     "data": {
      "text/plain": [
       "[[(1+0j), (1+0j), (1+0j), (-1+0j), (-1+0j), (-1+0j)],\n",
       " [(1+0j), (1+0j), (1+0j), (-0.9999999999999999+0j), (-1+0j), (-1+0j)],\n",
       " [(1+0j), (1+0j), (1+0j), (-1+0j), (-1+0j), (-1+0j)],\n",
       " [(1+0j), (1+0j), (1+0j), (-1+0j), (-1+0j), (-1+0j)],\n",
       " [(1+0j), (1+0j), (1+0j), (1+0j), (1+0j), (-1+0j)],\n",
       " [(1+0j), (1+0j), (1+0j), (-1+0j), (-1+0j), (-0.9999999999999999+0j)],\n",
       " [(1+0j), (1+0j), (1+0j), (-1+0j), (-0.9999999999999999+0j), (-1+0j)],\n",
       " [(1+0j), (1+0j), (1+0j), (-1+0j), (-0.9999999999999999+0j), (-1+0j)],\n",
       " [(1+0j),\n",
       "  (1+0j),\n",
       "  (1+0j),\n",
       "  (0.9999999999999999+0j),\n",
       "  (-0.9999999999999999+0j),\n",
       "  (-1+0j)],\n",
       " [(1+0j), (1+0j), (1+0j), (-1+0j), (-1+0j), (-1+0j)]]"
      ]
     },
     "execution_count": 225,
     "metadata": {},
     "output_type": "execute_result"
    }
   ],
   "source": [
    "phases[:10]"
   ]
  },
  {
   "cell_type": "code",
   "execution_count": 226,
   "id": "ba23c604-816f-4be5-9c07-b0c4a932462f",
   "metadata": {},
   "outputs": [
    {
     "data": {
      "text/plain": [
       "[(1+0j), (1+0j), (1+0j), (1+0j), (-1+0j), (-1+0j)]"
      ]
     },
     "execution_count": 226,
     "metadata": {},
     "output_type": "execute_result"
    }
   ],
   "source": [
    "phases[10]"
   ]
  },
  {
   "cell_type": "code",
   "execution_count": 227,
   "id": "82b1e917-2798-4176-b9ca-b1d0570247ab",
   "metadata": {},
   "outputs": [
    {
     "data": {
      "text/plain": [
       "[[(1+0j), (1+0j), (1+0j), (1+0j), (1+0j), (1+0j)],\n",
       " [(1+0j), (1+0j), (1+0j), (1+0j), (1+0j), (1+0j)],\n",
       " [(1+0j), (1+0j), (1+0j), (1+0j), (1+0j), (1+0j)],\n",
       " [(1+0j), (1+0j), (1+0j), (1+0j), (1+0j), (1+0j)],\n",
       " [(1+0j), (1+0j), (1+0j), (1+0j), (1+0j), (1+0j)],\n",
       " [(1+0j), (1+0j), (1+0j), (1+0j), (1+0j), (1+0j)],\n",
       " [(1+0j), (1+0j), (1+0j), (1+0j), (1+0j), (1+0j)],\n",
       " [(1+0j), (1+0j), (1+0j), (1+0j), (1+0j), (1+0j)],\n",
       " [(1+0j), (1+0j), (1+0j), (1+0j), (1+0j), (1+0j)],\n",
       " [(1+0j), (1+0j), (1+0j), (1+0j), (1+0j), (1+0j)]]"
      ]
     },
     "execution_count": 227,
     "metadata": {},
     "output_type": "execute_result"
    }
   ],
   "source": [
    "phases[11:]"
   ]
  },
  {
   "cell_type": "markdown",
   "id": "db1c63e0-6f31-42fe-96b8-ed2e01c25616",
   "metadata": {},
   "source": [
    "### Scores"
   ]
  },
  {
   "cell_type": "code",
   "execution_count": 228,
   "id": "b9f3479e-92ed-4f4d-aa3c-31b2b01c36bd",
   "metadata": {},
   "outputs": [],
   "source": [
    "scores_array = np.array(scores).T"
   ]
  },
  {
   "cell_type": "code",
   "execution_count": 229,
   "id": "7f2fde98-119b-46c9-898d-9337bf5bf639",
   "metadata": {},
   "outputs": [
    {
     "data": {
      "text/plain": [
       "array([[1.41421356e+00, 1.41421468e+00, 1.41423197e+00, 1.41431178e+00,\n",
       "        1.41454875e+00, 1.41512287e+00, 1.41638434e+00, 1.41906654e+00,\n",
       "        1.42490333e+00, 1.43609004e+00, 1.22193043e+00, 1.19941782e+00,\n",
       "        1.14350954e+00, 1.11037774e+00, 1.08855503e+00, 1.07315463e+00,\n",
       "        1.06174660e+00, 1.05298879e+00, 1.04607899e+00, 1.04050777e+00,\n",
       "        1.03593590e+00],\n",
       "       [1.41421356e+00, 1.41297022e+00, 1.40976082e+00, 1.39967238e+00,\n",
       "        1.41170989e+00, 1.40723506e+00, 1.40710250e+00, 1.39538600e+00,\n",
       "        1.35063213e+00, 1.38828738e+00, 1.15259220e+00, 9.80540906e-01,\n",
       "        9.89685739e-01, 9.93978145e-01, 9.96077917e-01, 9.97323839e-01,\n",
       "        9.98093568e-01, 9.98596041e-01, 9.98942146e-01, 9.99179550e-01,\n",
       "        9.99354300e-01],\n",
       "       [9.22541232e-01, 1.18166962e+00, 1.10895598e+00, 1.30709990e+00,\n",
       "        2.68563674e-03, 2.73265668e-04, 7.10413503e-02, 1.02140669e-01,\n",
       "        7.35278065e-03, 1.07370800e-01, 9.05416808e-01, 1.08607193e+00,\n",
       "        9.89685741e-01, 9.93978103e-01, 9.96077916e-01, 9.97323840e-01,\n",
       "        9.98093562e-01, 9.98596041e-01, 9.98942147e-01, 9.99179550e-01,\n",
       "        9.99354300e-01],\n",
       "       [9.22541232e-01, 1.18018660e+00, 1.10330714e+00, 1.29207431e+00,\n",
       "        2.67148389e-03, 2.63821435e-04, 7.03946748e-02, 1.00198771e-01,\n",
       "        5.72660649e-03, 8.90341080e-02, 6.72836424e-01, 8.89313931e-01,\n",
       "        8.56551026e-01, 8.89721154e-01, 9.11456792e-01, 9.26851247e-01,\n",
       "        9.38256574e-01, 9.47012962e-01, 9.53929651e-01, 9.59492857e-01,\n",
       "        9.64064492e-01]])"
      ]
     },
     "execution_count": 229,
     "metadata": {},
     "output_type": "execute_result"
    }
   ],
   "source": [
    "scores_array"
   ]
  },
  {
   "cell_type": "code",
   "execution_count": 230,
   "id": "f4c8e9a6-5e4d-43f8-b117-3dee2d5ceb7e",
   "metadata": {},
   "outputs": [
    {
     "name": "stderr",
     "output_type": "stream",
     "text": [
      "/tmp/ipykernel_15782/408976895.py:8: UserWarning: FigureCanvasAgg is non-interactive, and thus cannot be shown\n",
      "  fig.show()\n"
     ]
    },
    {
     "data": {
      "image/png": "[encoded data removed]",
      "text/plain": [
       "<Figure size 600x400 with 1 Axes>"
      ]
     },
     "metadata": {},
     "output_type": "display_data"
    }
   ],
   "source": [
    "fig, ax = plt.subplots(figsize=(6,4))\n",
    "\n",
    "for i, x in enumerate(scores_array):\n",
    "    ax.plot(x, label=symmetry_labels[i])\n",
    "\n",
    "ax.legend()\n",
    "\n",
    "fig.show()"
   ]
  },
  {
   "cell_type": "markdown",
   "id": "5bc0c126-82f5-4490-b499-6416183d1bf5",
   "metadata": {},
   "source": [
    "### Distances"
   ]
  },
  {
   "cell_type": "code",
   "execution_count": 231,
   "id": "025dab19-7f42-476e-93e4-07b42f7b131d",
   "metadata": {},
   "outputs": [],
   "source": [
    "distances_array = np.array(distances).T"
   ]
  },
  {
   "cell_type": "code",
   "execution_count": 233,
   "id": "71e00932-6152-47cd-9219-4e51e8d7d969",
   "metadata": {},
   "outputs": [
    {
     "data": {
      "text/plain": [
       "(8.000000000000005+0j)"
      ]
     },
     "execution_count": 233,
     "metadata": {},
     "output_type": "execute_result"
    }
   ],
   "source": [
    "np.max(distances_array)"
   ]
  },
  {
   "cell_type": "code",
   "execution_count": 237,
   "id": "86040943-2997-4997-a801-6d46e4518efe",
   "metadata": {},
   "outputs": [
    {
     "name": "stderr",
     "output_type": "stream",
     "text": [
      "/home/kieranc/Desktop/numerical_spt_classification/code/num_spt_venv_p11/lib/python3.11/site-packages/matplotlib/cbook.py:1699: ComplexWarning: Casting complex values to real discards the imaginary part\n",
      "  return math.isfinite(val)\n",
      "/home/kieranc/Desktop/numerical_spt_classification/code/num_spt_venv_p11/lib/python3.11/site-packages/matplotlib/cbook.py:1345: ComplexWarning: Casting complex values to real discards the imaginary part\n",
      "  return np.asarray(x, float)\n",
      "/tmp/ipykernel_15782/3176477689.py:8: UserWarning: FigureCanvasAgg is non-interactive, and thus cannot be shown\n",
      "  fig.show()\n"
     ]
    },
    {
     "data": {
      "image/png": "[encoded data removed]",
      "text/plain": [
       "<Figure size 600x400 with 1 Axes>"
      ]
     },
     "metadata": {},
     "output_type": "display_data"
    }
   ],
   "source": [
    "fig, ax = plt.subplots(figsize=(6,4))\n",
    "\n",
    "for i, x in enumerate(distances_array):\n",
    "    ax.plot(x, label=symmetry_combination_labels[i])\n",
    "\n",
    "ax.legend()\n",
    "\n",
    "fig.show()"
   ]
  },
  {
   "cell_type": "markdown",
   "id": "77151cd4-8555-4806-9b54-74c14f480d9c",
   "metadata": {},
   "source": [
    "Worse projective representation in places."
   ]
  },
  {
   "cell_type": "markdown",
   "id": "490bac37-5ee6-41f2-904b-c920098a911e",
   "metadata": {},
   "source": [
    "### Unitaries"
   ]
  },
  {
   "cell_type": "code",
   "execution_count": 238,
   "id": "826ed89e-5a81-4d52-a892-481cd84da7be",
   "metadata": {},
   "outputs": [],
   "source": [
    "unitaries_array = np.round(np.array([[u.to_ndarray() for u in l] for l in unitaries]), 3)"
   ]
  },
  {
   "cell_type": "code",
   "execution_count": 239,
   "id": "6eb2c44c-a452-4e6f-8d29-3235e4600e58",
   "metadata": {},
   "outputs": [
    {
     "data": {
      "text/plain": [
       "(21, 4, 4, 4)"
      ]
     },
     "execution_count": 239,
     "metadata": {},
     "output_type": "execute_result"
    }
   ],
   "source": [
    "unitaries_array.shape"
   ]
  },
  {
   "cell_type": "code",
   "execution_count": 240,
   "id": "12e1cdbc-9fc3-48c5-8b99-d6013fd268ac",
   "metadata": {},
   "outputs": [
    {
     "data": {
      "text/plain": [
       "array([[-1.+0.j,  0.+0.j, -0.+0.j, -0.+0.j],\n",
       "       [-0.+0.j, -1.+0.j,  0.+0.j, -0.+0.j],\n",
       "       [ 0.+0.j, -0.+0.j, -1.+0.j, -0.+0.j],\n",
       "       [ 0.+0.j,  0.+0.j,  0.+0.j, -1.+0.j]])"
      ]
     },
     "execution_count": 240,
     "metadata": {},
     "output_type": "execute_result"
    }
   ],
   "source": [
    "unitaries_array[0, 0]"
   ]
  },
  {
   "cell_type": "code",
   "execution_count": 241,
   "id": "5192395e-dfd9-4433-8fb2-d6ef796ae42b",
   "metadata": {},
   "outputs": [
    {
     "data": {
      "text/plain": [
       "array([[-1.+0.j,  0.+0.j,  0.+0.j,  0.+0.j],\n",
       "       [-0.+0.j, -1.+0.j,  0.+0.j, -0.+0.j],\n",
       "       [ 0.+0.j,  0.+0.j,  1.+0.j, -0.+0.j],\n",
       "       [ 0.+0.j, -0.+0.j,  0.+0.j,  1.+0.j]])"
      ]
     },
     "execution_count": 241,
     "metadata": {},
     "output_type": "execute_result"
    }
   ],
   "source": [
    "unitaries_array[0, 1]"
   ]
  },
  {
   "cell_type": "code",
   "execution_count": 242,
   "id": "9776d3a6-35fe-4b5d-93af-d5c64a3c21b5",
   "metadata": {},
   "outputs": [
    {
     "data": {
      "text/plain": [
       "((1+0j), (-8.881784197001252e-16+0j))"
      ]
     },
     "execution_count": 242,
     "metadata": {},
     "output_type": "execute_result"
    }
   ],
   "source": [
    "gauge_invariant_phase(unitaries[0][0], unitaries[0][1], dim=4)"
   ]
  },
  {
   "cell_type": "code",
   "execution_count": 249,
   "id": "30099f98-f13b-46b3-b4ec-a8755b8975e5",
   "metadata": {},
   "outputs": [
    {
     "data": {
      "text/plain": [
       "array([[[-1.+0.j,  0.+0.j, -0.+0.j, -0.+0.j],\n",
       "        [-0.+0.j, -1.+0.j,  0.+0.j, -0.+0.j],\n",
       "        [ 0.+0.j, -0.+0.j, -1.+0.j, -0.+0.j],\n",
       "        [ 0.+0.j,  0.+0.j,  0.+0.j, -1.+0.j]],\n",
       "\n",
       "       [[-1.+0.j,  0.+0.j,  0.+0.j,  0.+0.j],\n",
       "        [-0.+0.j, -1.+0.j,  0.+0.j, -0.+0.j],\n",
       "        [ 0.+0.j,  0.+0.j,  1.+0.j, -0.+0.j],\n",
       "        [ 0.+0.j, -0.+0.j,  0.+0.j,  1.+0.j]],\n",
       "\n",
       "       [[-0.+0.j,  0.+0.j, -1.+0.j,  0.+0.j],\n",
       "        [ 0.+0.j, -0.+0.j,  0.+0.j,  1.+0.j],\n",
       "        [-1.+0.j,  0.+0.j,  0.+0.j,  0.+0.j],\n",
       "        [ 0.+0.j,  1.+0.j,  0.+0.j,  0.+0.j]],\n",
       "\n",
       "       [[ 0.+0.j,  0.+0.j,  1.+0.j, -0.+0.j],\n",
       "        [-0.+0.j, -0.+0.j, -0.+0.j, -1.+0.j],\n",
       "        [-1.+0.j,  0.+0.j,  0.+0.j,  0.+0.j],\n",
       "        [ 0.+0.j,  1.+0.j, -0.+0.j, -0.+0.j]]])"
      ]
     },
     "execution_count": 249,
     "metadata": {},
     "output_type": "execute_result"
    }
   ],
   "source": [
    "unitaries_array[0]"
   ]
  },
  {
   "cell_type": "code",
   "execution_count": 243,
   "id": "c1fb962b-71eb-4a0e-a3aa-03b4782ea8e6",
   "metadata": {},
   "outputs": [
    {
     "data": {
      "text/plain": [
       "array([[[-1.+0.j,  0.+0.j, -0.+0.j, -0.+0.j],\n",
       "        [-0.+0.j, -1.+0.j,  0.+0.j, -0.+0.j],\n",
       "        [ 0.+0.j, -0.+0.j, -1.+0.j, -0.+0.j],\n",
       "        [ 0.+0.j,  0.+0.j,  0.+0.j, -1.+0.j]],\n",
       "\n",
       "       [[-1.+0.j,  0.+0.j, -0.+0.j, -0.+0.j],\n",
       "        [ 0.+0.j, -1.+0.j, -0.+0.j, -0.+0.j],\n",
       "        [ 0.+0.j,  0.+0.j, -1.+0.j,  0.+0.j],\n",
       "        [ 0.+0.j, -0.+0.j,  0.+0.j, -1.+0.j]],\n",
       "\n",
       "       [[-1.+0.j, -0.+0.j,  0.+0.j, -0.+0.j],\n",
       "        [ 0.+0.j, -1.+0.j,  0.+0.j, -0.+0.j],\n",
       "        [ 0.+0.j,  0.+0.j, -1.+0.j,  0.+0.j],\n",
       "        [-0.+0.j, -0.+0.j,  0.+0.j, -1.+0.j]],\n",
       "\n",
       "       [[-1.+0.j,  0.+0.j,  0.+0.j,  0.+0.j],\n",
       "        [ 0.+0.j, -1.+0.j, -0.+0.j, -0.+0.j],\n",
       "        [ 0.+0.j, -0.+0.j, -1.+0.j,  0.+0.j],\n",
       "        [-0.+0.j, -0.+0.j,  0.+0.j, -1.+0.j]],\n",
       "\n",
       "       [[-1.+0.j,  0.+0.j, -0.+0.j, -0.+0.j],\n",
       "        [-0.+0.j, -1.+0.j,  0.+0.j, -0.+0.j],\n",
       "        [ 0.+0.j, -0.+0.j, -1.+0.j,  0.+0.j],\n",
       "        [ 0.+0.j,  0.+0.j, -0.+0.j, -1.+0.j]],\n",
       "\n",
       "       [[-1.+0.j, -0.+0.j,  0.+0.j, -0.+0.j],\n",
       "        [ 0.+0.j, -1.+0.j, -0.+0.j,  0.+0.j],\n",
       "        [-0.+0.j,  0.+0.j, -1.+0.j, -0.+0.j],\n",
       "        [-0.+0.j, -0.+0.j,  0.+0.j, -1.+0.j]],\n",
       "\n",
       "       [[-1.+0.j, -0.+0.j,  0.+0.j,  0.+0.j],\n",
       "        [ 0.+0.j, -1.+0.j, -0.+0.j, -0.+0.j],\n",
       "        [-0.+0.j,  0.+0.j, -1.+0.j, -0.+0.j],\n",
       "        [-0.+0.j,  0.+0.j,  0.+0.j, -1.+0.j]],\n",
       "\n",
       "       [[-1.+0.j, -0.+0.j,  0.+0.j,  0.+0.j],\n",
       "        [ 0.+0.j, -1.+0.j, -0.+0.j, -0.+0.j],\n",
       "        [-0.+0.j, -0.+0.j, -1.+0.j,  0.+0.j],\n",
       "        [-0.+0.j,  0.+0.j, -0.+0.j, -1.+0.j]],\n",
       "\n",
       "       [[-1.+0.j, -0.+0.j, -0.+0.j,  0.+0.j],\n",
       "        [ 0.+0.j, -1.+0.j,  0.+0.j, -0.+0.j],\n",
       "        [ 0.+0.j,  0.+0.j, -1.+0.j, -0.+0.j],\n",
       "        [-0.+0.j,  0.+0.j,  0.+0.j, -1.+0.j]],\n",
       "\n",
       "       [[-1.+0.j,  0.+0.j, -0.+0.j,  0.+0.j],\n",
       "        [-0.+0.j, -1.+0.j,  0.+0.j, -0.+0.j],\n",
       "        [ 0.+0.j, -0.+0.j, -1.+0.j,  0.+0.j],\n",
       "        [ 0.+0.j,  0.+0.j, -0.+0.j, -1.+0.j]],\n",
       "\n",
       "       [[-1.+0.j, -0.+0.j,  0.+0.j,  0.+0.j],\n",
       "        [ 0.+0.j, -1.+0.j,  0.+0.j,  0.+0.j],\n",
       "        [-0.+0.j,  0.+0.j, -1.+0.j, -0.+0.j],\n",
       "        [ 0.+0.j, -0.+0.j,  0.+0.j, -1.+0.j]],\n",
       "\n",
       "       [[-1.+0.j,  0.+0.j, -0.+0.j,  0.+0.j],\n",
       "        [ 0.+0.j, -1.+0.j,  0.+0.j, -0.+0.j],\n",
       "        [ 0.+0.j, -0.+0.j, -1.+0.j, -0.+0.j],\n",
       "        [-0.+0.j,  0.+0.j,  0.+0.j, -1.+0.j]],\n",
       "\n",
       "       [[-1.+0.j, -0.+0.j, -0.+0.j, -0.+0.j],\n",
       "        [ 0.+0.j, -1.+0.j,  0.+0.j, -0.+0.j],\n",
       "        [ 0.+0.j,  0.+0.j, -1.+0.j,  0.+0.j],\n",
       "        [ 0.+0.j,  0.+0.j, -0.+0.j, -1.+0.j]],\n",
       "\n",
       "       [[-1.+0.j,  0.+0.j, -0.+0.j, -0.+0.j],\n",
       "        [-0.+0.j, -1.+0.j,  0.+0.j, -0.+0.j],\n",
       "        [ 0.+0.j, -0.+0.j, -1.+0.j,  0.+0.j],\n",
       "        [ 0.+0.j, -0.+0.j, -0.+0.j, -1.+0.j]],\n",
       "\n",
       "       [[-1.+0.j, -0.+0.j, -0.+0.j, -0.+0.j],\n",
       "        [-0.+0.j, -1.+0.j,  0.+0.j, -0.+0.j],\n",
       "        [-0.+0.j, -0.+0.j, -1.+0.j,  0.+0.j],\n",
       "        [ 0.+0.j,  0.+0.j, -0.+0.j, -1.+0.j]],\n",
       "\n",
       "       [[-1.+0.j,  0.+0.j, -0.+0.j,  0.+0.j],\n",
       "        [-0.+0.j, -1.+0.j,  0.+0.j, -0.+0.j],\n",
       "        [ 0.+0.j, -0.+0.j, -1.+0.j, -0.+0.j],\n",
       "        [-0.+0.j,  0.+0.j,  0.+0.j, -1.+0.j]],\n",
       "\n",
       "       [[-1.+0.j, -0.+0.j,  0.+0.j,  0.+0.j],\n",
       "        [ 0.+0.j, -1.+0.j,  0.+0.j, -0.+0.j],\n",
       "        [-0.+0.j,  0.+0.j, -1.+0.j,  0.+0.j],\n",
       "        [-0.+0.j,  0.+0.j, -0.+0.j, -1.+0.j]],\n",
       "\n",
       "       [[-1.+0.j, -0.+0.j, -0.+0.j,  0.+0.j],\n",
       "        [ 0.+0.j, -1.+0.j, -0.+0.j,  0.+0.j],\n",
       "        [-0.+0.j,  0.+0.j, -1.+0.j, -0.+0.j],\n",
       "        [-0.+0.j, -0.+0.j,  0.+0.j, -1.+0.j]],\n",
       "\n",
       "       [[-1.+0.j,  0.+0.j, -0.+0.j, -0.+0.j],\n",
       "        [-0.+0.j, -1.+0.j, -0.+0.j,  0.+0.j],\n",
       "        [ 0.+0.j, -0.+0.j, -1.+0.j, -0.+0.j],\n",
       "        [ 0.+0.j, -0.+0.j, -0.+0.j, -1.+0.j]],\n",
       "\n",
       "       [[-1.+0.j,  0.+0.j,  0.+0.j,  0.+0.j],\n",
       "        [-0.+0.j, -1.+0.j, -0.+0.j,  0.+0.j],\n",
       "        [-0.+0.j,  0.+0.j, -1.+0.j,  0.+0.j],\n",
       "        [-0.+0.j, -0.+0.j, -0.+0.j, -1.+0.j]],\n",
       "\n",
       "       [[-1.+0.j,  0.+0.j,  0.+0.j,  0.+0.j],\n",
       "        [-0.+0.j, -1.+0.j, -0.+0.j,  0.+0.j],\n",
       "        [-0.+0.j,  0.+0.j, -1.+0.j,  0.+0.j],\n",
       "        [-0.+0.j, -0.+0.j, -0.+0.j, -1.+0.j]]])"
      ]
     },
     "execution_count": 243,
     "metadata": {},
     "output_type": "execute_result"
    }
   ],
   "source": [
    "unitaries_array[:, 0]"
   ]
  },
  {
   "cell_type": "code",
   "execution_count": 244,
   "id": "b5b23584-a3cd-466e-b50d-ae5feea6d284",
   "metadata": {},
   "outputs": [
    {
     "data": {
      "text/plain": [
       "array([[[-1.   +0.j,  0.   +0.j,  0.   +0.j,  0.   +0.j],\n",
       "        [-0.   +0.j, -1.   +0.j,  0.   +0.j, -0.   +0.j],\n",
       "        [ 0.   +0.j,  0.   +0.j,  1.   +0.j, -0.   +0.j],\n",
       "        [ 0.   +0.j, -0.   +0.j,  0.   +0.j,  1.   +0.j]],\n",
       "\n",
       "       [[ 1.   +0.j, -0.   +0.j, -0.027+0.j, -0.   +0.j],\n",
       "        [-0.   +0.j,  1.   +0.j, -0.   +0.j,  0.027+0.j],\n",
       "        [-0.027+0.j, -0.   +0.j, -1.   +0.j, -0.   +0.j],\n",
       "        [-0.   +0.j,  0.027+0.j, -0.   +0.j, -1.   +0.j]],\n",
       "\n",
       "       [[ 0.998+0.j,  0.   +0.j, -0.062+0.j, -0.   +0.j],\n",
       "        [ 0.   +0.j,  0.998+0.j,  0.001+0.j,  0.062+0.j],\n",
       "        [-0.062+0.j,  0.001+0.j, -0.998+0.j,  0.   +0.j],\n",
       "        [-0.   +0.j,  0.062+0.j,  0.   +0.j, -0.998+0.j]],\n",
       "\n",
       "       [[-0.999+0.j, -0.   +0.j,  0.053+0.j,  0.002+0.j],\n",
       "        [-0.   +0.j, -0.999+0.j, -0.002+0.j, -0.053+0.j],\n",
       "        [ 0.053+0.j, -0.002+0.j,  0.999+0.j, -0.   +0.j],\n",
       "        [ 0.002+0.j, -0.053+0.j, -0.   +0.j,  0.999+0.j]],\n",
       "\n",
       "       [[ 0.985+0.j, -0.018+0.j,  0.174+0.j,  0.004+0.j],\n",
       "        [-0.018+0.j,  0.954+0.j,  0.208+0.j, -0.215+0.j],\n",
       "        [ 0.174+0.j,  0.208+0.j, -0.962+0.j, -0.023+0.j],\n",
       "        [ 0.004+0.j, -0.215+0.j, -0.023+0.j, -0.976+0.j]],\n",
       "\n",
       "       [[ 0.97 +0.j, -0.   +0.j,  0.242+0.j,  0.   +0.j],\n",
       "        [-0.   +0.j,  0.97 +0.j,  0.003+0.j, -0.243+0.j],\n",
       "        [ 0.242+0.j,  0.003+0.j, -0.97 +0.j, -0.   +0.j],\n",
       "        [ 0.   +0.j, -0.243+0.j, -0.   +0.j, -0.97 +0.j]],\n",
       "\n",
       "       [[ 0.954+0.j, -0.3  +0.j,  0.002+0.j, -0.013+0.j],\n",
       "        [-0.3  +0.j, -0.954+0.j, -0.001+0.j,  0.002+0.j],\n",
       "        [ 0.002+0.j, -0.001+0.j,  0.953+0.j,  0.303+0.j],\n",
       "        [-0.013+0.j,  0.002+0.j,  0.303+0.j, -0.953+0.j]],\n",
       "\n",
       "       [[-0.937+0.j,  0.349+0.j, -0.006+0.j,  0.032+0.j],\n",
       "        [ 0.349+0.j,  0.937+0.j,  0.002+0.j, -0.006+0.j],\n",
       "        [-0.006+0.j,  0.002+0.j, -0.933+0.j, -0.36 +0.j],\n",
       "        [ 0.032+0.j, -0.006+0.j, -0.36 +0.j,  0.932+0.j]],\n",
       "\n",
       "       [[ 0.929+0.j, -0.   +0.j, -0.369+0.j,  0.   +0.j],\n",
       "        [-0.   +0.j,  0.93 +0.j,  0.   +0.j,  0.369+0.j],\n",
       "        [-0.369+0.j,  0.   +0.j, -0.929+0.j, -0.   +0.j],\n",
       "        [ 0.   +0.j,  0.369+0.j, -0.   +0.j, -0.93 +0.j]],\n",
       "\n",
       "       [[ 0.853+0.j,  0.522+0.j, -0.005+0.j,  0.003+0.j],\n",
       "        [ 0.522+0.j, -0.852+0.j,  0.019+0.j, -0.005+0.j],\n",
       "        [-0.005+0.j,  0.019+0.j,  0.846+0.j, -0.532+0.j],\n",
       "        [ 0.003+0.j, -0.005+0.j, -0.532+0.j, -0.847+0.j]],\n",
       "\n",
       "       [[-0.971+0.j, -0.062+0.j,  0.188+0.j,  0.133+0.j],\n",
       "        [-0.062+0.j, -0.827+0.j, -0.238+0.j, -0.505+0.j],\n",
       "        [ 0.188+0.j, -0.238+0.j,  0.95 +0.j, -0.081+0.j],\n",
       "        [ 0.133+0.j, -0.505+0.j, -0.081+0.j,  0.849+0.j]],\n",
       "\n",
       "       [[-1.   +0.j, -0.   +0.j,  0.   +0.j,  0.   +0.j],\n",
       "        [-0.   +0.j, -1.   +0.j,  0.   +0.j, -0.   +0.j],\n",
       "        [ 0.   +0.j, -0.   +0.j, -1.   +0.j, -0.   +0.j],\n",
       "        [-0.   +0.j,  0.   +0.j,  0.   +0.j, -1.   +0.j]],\n",
       "\n",
       "       [[-0.5  +0.j, -0.5  +0.j, -0.5  +0.j,  0.5  +0.j],\n",
       "        [-0.5  +0.j, -0.5  +0.j,  0.5  +0.j, -0.5  +0.j],\n",
       "        [-0.5  +0.j,  0.5  +0.j, -0.5  +0.j, -0.5  +0.j],\n",
       "        [ 0.5  +0.j, -0.5  +0.j, -0.5  +0.j, -0.5  +0.j]],\n",
       "\n",
       "       [[-0.5  +0.j, -0.5  +0.j,  0.5  +0.j, -0.5  +0.j],\n",
       "        [-0.5  +0.j, -0.5  +0.j, -0.5  +0.j,  0.5  +0.j],\n",
       "        [ 0.5  +0.j, -0.5  +0.j, -0.5  +0.j, -0.5  +0.j],\n",
       "        [-0.5  +0.j,  0.5  +0.j, -0.5  +0.j, -0.5  +0.j]],\n",
       "\n",
       "       [[-0.5  +0.j, -0.5  +0.j, -0.5  +0.j,  0.5  +0.j],\n",
       "        [-0.5  +0.j, -0.5  +0.j,  0.5  +0.j, -0.5  +0.j],\n",
       "        [-0.5  +0.j,  0.5  +0.j, -0.5  +0.j, -0.5  +0.j],\n",
       "        [ 0.5  +0.j, -0.5  +0.j, -0.5  +0.j, -0.5  +0.j]],\n",
       "\n",
       "       [[-0.5  +0.j, -0.5  +0.j,  0.5  +0.j, -0.5  +0.j],\n",
       "        [-0.5  +0.j, -0.5  +0.j, -0.5  +0.j,  0.5  +0.j],\n",
       "        [ 0.5  +0.j, -0.5  +0.j, -0.5  +0.j, -0.5  +0.j],\n",
       "        [-0.5  +0.j,  0.5  +0.j, -0.5  +0.j, -0.5  +0.j]],\n",
       "\n",
       "       [[-0.5  +0.j, -0.5  +0.j, -0.5  +0.j,  0.5  +0.j],\n",
       "        [-0.5  +0.j, -0.5  +0.j,  0.5  +0.j, -0.5  +0.j],\n",
       "        [-0.5  +0.j,  0.5  +0.j, -0.5  +0.j, -0.5  +0.j],\n",
       "        [ 0.5  +0.j, -0.5  +0.j, -0.5  +0.j, -0.5  +0.j]],\n",
       "\n",
       "       [[-0.5  +0.j, -0.5  +0.j, -0.5  +0.j,  0.5  +0.j],\n",
       "        [-0.5  +0.j, -0.5  +0.j,  0.5  +0.j, -0.5  +0.j],\n",
       "        [-0.5  +0.j,  0.5  +0.j, -0.5  +0.j, -0.5  +0.j],\n",
       "        [ 0.5  +0.j, -0.5  +0.j, -0.5  +0.j, -0.5  +0.j]],\n",
       "\n",
       "       [[-0.5  +0.j, -0.5  +0.j, -0.5  +0.j,  0.5  +0.j],\n",
       "        [-0.5  +0.j, -0.5  +0.j,  0.5  +0.j, -0.5  +0.j],\n",
       "        [-0.5  +0.j,  0.5  +0.j, -0.5  +0.j, -0.5  +0.j],\n",
       "        [ 0.5  +0.j, -0.5  +0.j, -0.5  +0.j, -0.5  +0.j]],\n",
       "\n",
       "       [[-0.5  +0.j, -0.5  +0.j,  0.5  +0.j, -0.5  +0.j],\n",
       "        [-0.5  +0.j, -0.5  +0.j, -0.5  +0.j,  0.5  +0.j],\n",
       "        [ 0.5  +0.j, -0.5  +0.j, -0.5  +0.j, -0.5  +0.j],\n",
       "        [-0.5  +0.j,  0.5  +0.j, -0.5  +0.j, -0.5  +0.j]],\n",
       "\n",
       "       [[-0.5  +0.j, -0.5  +0.j, -0.5  +0.j,  0.5  +0.j],\n",
       "        [-0.5  +0.j, -0.5  +0.j,  0.5  +0.j, -0.5  +0.j],\n",
       "        [-0.5  +0.j,  0.5  +0.j, -0.5  +0.j, -0.5  +0.j],\n",
       "        [ 0.5  +0.j, -0.5  +0.j, -0.5  +0.j, -0.5  +0.j]]])"
      ]
     },
     "execution_count": 244,
     "metadata": {},
     "output_type": "execute_result"
    }
   ],
   "source": [
    "unitaries_array[:, 1]"
   ]
  },
  {
   "cell_type": "code",
   "execution_count": 245,
   "id": "1229c8e0-1e14-4d50-be1c-65bd03008d21",
   "metadata": {},
   "outputs": [
    {
     "data": {
      "text/plain": [
       "array([[[-0.   +0.j,  0.   +0.j, -1.   +0.j,  0.   +0.j],\n",
       "        [ 0.   +0.j, -0.   +0.j,  0.   +0.j,  1.   +0.j],\n",
       "        [-1.   +0.j,  0.   +0.j,  0.   +0.j,  0.   +0.j],\n",
       "        [ 0.   +0.j,  1.   +0.j,  0.   +0.j,  0.   +0.j]],\n",
       "\n",
       "       [[-0.   +0.j,  0.   +0.j,  1.   +0.j, -0.   +0.j],\n",
       "        [ 0.   +0.j,  0.   +0.j, -0.   +0.j, -1.   +0.j],\n",
       "        [ 1.   +0.j, -0.   +0.j,  0.   +0.j,  0.   +0.j],\n",
       "        [-0.   +0.j, -1.   +0.j,  0.   +0.j, -0.   +0.j]],\n",
       "\n",
       "       [[ 0.   +0.j, -0.001+0.j,  1.   +0.j,  0.   +0.j],\n",
       "        [-0.001+0.j, -0.   +0.j,  0.   +0.j, -1.   +0.j],\n",
       "        [ 1.   +0.j,  0.   +0.j, -0.   +0.j, -0.001+0.j],\n",
       "        [ 0.   +0.j, -1.   +0.j, -0.001+0.j,  0.   +0.j]],\n",
       "\n",
       "       [[ 0.   +0.j,  0.002+0.j, -1.   +0.j, -0.   +0.j],\n",
       "        [ 0.002+0.j, -0.   +0.j, -0.   +0.j,  1.   +0.j],\n",
       "        [-1.   +0.j, -0.   +0.j, -0.   +0.j,  0.002+0.j],\n",
       "        [-0.   +0.j,  1.   +0.j,  0.002+0.j,  0.   +0.j]],\n",
       "\n",
       "       [[-0.179+0.j,  0.848+0.j, -0.465+0.j, -0.18 +0.j],\n",
       "        [ 0.848+0.j,  0.324+0.j,  0.107+0.j,  0.405+0.j],\n",
       "        [-0.465+0.j,  0.107+0.j,  0.035+0.j,  0.878+0.j],\n",
       "        [-0.18 +0.j,  0.405+0.j,  0.878+0.j, -0.179+0.j]],\n",
       "\n",
       "       [[-0.045+0.j,  0.172+0.j, -0.983+0.j, -0.047+0.j],\n",
       "        [ 0.172+0.j,  0.061+0.j, -0.045+0.j,  0.982+0.j],\n",
       "        [-0.983+0.j, -0.045+0.j,  0.029+0.j,  0.176+0.j],\n",
       "        [-0.047+0.j,  0.982+0.j,  0.176+0.j, -0.045+0.j]],\n",
       "\n",
       "       [[ 0.303+0.j,  0.9  +0.j, -0.091+0.j,  0.298+0.j],\n",
       "        [ 0.9  +0.j, -0.298+0.j, -0.299+0.j, -0.107+0.j],\n",
       "        [-0.091+0.j, -0.299+0.j, -0.299+0.j,  0.902+0.j],\n",
       "        [ 0.298+0.j, -0.107+0.j,  0.902+0.j,  0.294+0.j]],\n",
       "\n",
       "       [[-0.349+0.j, -0.861+0.j,  0.134+0.j, -0.345+0.j],\n",
       "        [-0.861+0.j,  0.346+0.j,  0.345+0.j,  0.143+0.j],\n",
       "        [ 0.134+0.j,  0.345+0.j,  0.346+0.j, -0.862+0.j],\n",
       "        [-0.345+0.j,  0.143+0.j, -0.862+0.j, -0.342+0.j]],\n",
       "\n",
       "       [[-0.866+0.j,  0.337+0.j, -0.297+0.j, -0.218+0.j],\n",
       "        [ 0.337+0.j, -0.149+0.j, -0.749+0.j, -0.551+0.j],\n",
       "        [-0.297+0.j, -0.749+0.j, -0.341+0.j,  0.485+0.j],\n",
       "        [-0.218+0.j, -0.551+0.j,  0.485+0.j, -0.644+0.j]],\n",
       "\n",
       "       [[ 0.115+0.j, -0.047+0.j, -0.854+0.j, -0.504+0.j],\n",
       "        [-0.047+0.j, -0.176+0.j,  0.502+0.j, -0.845+0.j],\n",
       "        [-0.854+0.j,  0.502+0.j, -0.081+0.j, -0.105+0.j],\n",
       "        [-0.504+0.j, -0.845+0.j, -0.105+0.j,  0.142+0.j]],\n",
       "\n",
       "       [[-0.5  +0.j,  0.5  +0.j, -0.502+0.j, -0.498+0.j],\n",
       "        [ 0.5  +0.j, -0.499+0.j, -0.502+0.j, -0.498+0.j],\n",
       "        [-0.502+0.j, -0.502+0.j, -0.497+0.j,  0.5  +0.j],\n",
       "        [-0.498+0.j, -0.498+0.j,  0.5  +0.j, -0.504+0.j]],\n",
       "\n",
       "       [[-0.225+0.j,  0.054+0.j, -0.946+0.j, -0.227+0.j],\n",
       "        [ 0.054+0.j,  0.225+0.j,  0.227+0.j, -0.946+0.j],\n",
       "        [-0.946+0.j,  0.227+0.j,  0.225+0.j,  0.054+0.j],\n",
       "        [-0.227+0.j, -0.946+0.j,  0.054+0.j, -0.225+0.j]],\n",
       "\n",
       "       [[-0.5  +0.j, -0.5  +0.j, -0.5  +0.j,  0.5  +0.j],\n",
       "        [-0.5  +0.j, -0.5  +0.j,  0.5  +0.j, -0.5  +0.j],\n",
       "        [-0.5  +0.j,  0.5  +0.j, -0.5  +0.j, -0.5  +0.j],\n",
       "        [ 0.5  +0.j, -0.5  +0.j, -0.5  +0.j, -0.5  +0.j]],\n",
       "\n",
       "       [[-0.5  +0.j, -0.5  +0.j, -0.5  +0.j,  0.5  +0.j],\n",
       "        [-0.5  +0.j, -0.5  +0.j,  0.5  +0.j, -0.5  +0.j],\n",
       "        [-0.5  +0.j,  0.5  +0.j, -0.5  +0.j, -0.5  +0.j],\n",
       "        [ 0.5  +0.j, -0.5  +0.j, -0.5  +0.j, -0.5  +0.j]],\n",
       "\n",
       "       [[-0.5  +0.j, -0.5  +0.j, -0.5  +0.j,  0.5  +0.j],\n",
       "        [-0.5  +0.j, -0.5  +0.j,  0.5  +0.j, -0.5  +0.j],\n",
       "        [-0.5  +0.j,  0.5  +0.j, -0.5  +0.j, -0.5  +0.j],\n",
       "        [ 0.5  +0.j, -0.5  +0.j, -0.5  +0.j, -0.5  +0.j]],\n",
       "\n",
       "       [[-0.5  +0.j,  0.5  +0.j, -0.5  +0.j, -0.5  +0.j],\n",
       "        [ 0.5  +0.j, -0.5  +0.j, -0.5  +0.j, -0.5  +0.j],\n",
       "        [-0.5  +0.j, -0.5  +0.j, -0.5  +0.j,  0.5  +0.j],\n",
       "        [-0.5  +0.j, -0.5  +0.j,  0.5  +0.j, -0.5  +0.j]],\n",
       "\n",
       "       [[-0.5  +0.j,  0.5  +0.j, -0.5  +0.j, -0.5  +0.j],\n",
       "        [ 0.5  +0.j, -0.5  +0.j, -0.5  +0.j, -0.5  +0.j],\n",
       "        [-0.5  +0.j, -0.5  +0.j, -0.5  +0.j,  0.5  +0.j],\n",
       "        [-0.5  +0.j, -0.5  +0.j,  0.5  +0.j, -0.5  +0.j]],\n",
       "\n",
       "       [[-0.5  +0.j, -0.5  +0.j, -0.5  +0.j,  0.5  +0.j],\n",
       "        [-0.5  +0.j, -0.5  +0.j,  0.5  +0.j, -0.5  +0.j],\n",
       "        [-0.5  +0.j,  0.5  +0.j, -0.5  +0.j, -0.5  +0.j],\n",
       "        [ 0.5  +0.j, -0.5  +0.j, -0.5  +0.j, -0.5  +0.j]],\n",
       "\n",
       "       [[-0.5  +0.j,  0.5  +0.j, -0.5  +0.j, -0.5  +0.j],\n",
       "        [ 0.5  +0.j, -0.5  +0.j, -0.5  +0.j, -0.5  +0.j],\n",
       "        [-0.5  +0.j, -0.5  +0.j, -0.5  +0.j,  0.5  +0.j],\n",
       "        [-0.5  +0.j, -0.5  +0.j,  0.5  +0.j, -0.5  +0.j]],\n",
       "\n",
       "       [[-0.5  +0.j,  0.5  +0.j, -0.5  +0.j, -0.5  +0.j],\n",
       "        [ 0.5  +0.j, -0.5  +0.j, -0.5  +0.j, -0.5  +0.j],\n",
       "        [-0.5  +0.j, -0.5  +0.j, -0.5  +0.j,  0.5  +0.j],\n",
       "        [-0.5  +0.j, -0.5  +0.j,  0.5  +0.j, -0.5  +0.j]],\n",
       "\n",
       "       [[-0.5  +0.j, -0.5  +0.j, -0.5  +0.j,  0.5  +0.j],\n",
       "        [-0.5  +0.j, -0.5  +0.j,  0.5  +0.j, -0.5  +0.j],\n",
       "        [-0.5  +0.j,  0.5  +0.j, -0.5  +0.j, -0.5  +0.j],\n",
       "        [ 0.5  +0.j, -0.5  +0.j, -0.5  +0.j, -0.5  +0.j]]])"
      ]
     },
     "execution_count": 245,
     "metadata": {},
     "output_type": "execute_result"
    }
   ],
   "source": [
    "unitaries_array[:, 2]"
   ]
  },
  {
   "cell_type": "code",
   "execution_count": 246,
   "id": "a250dcd6-46e0-488d-b2f4-2665dfa6248d",
   "metadata": {},
   "outputs": [
    {
     "data": {
      "text/plain": [
       "array([[[ 0.   +0.j,  0.   +0.j,  1.   +0.j, -0.   +0.j],\n",
       "        [-0.   +0.j, -0.   +0.j, -0.   +0.j, -1.   +0.j],\n",
       "        [-1.   +0.j,  0.   +0.j,  0.   +0.j,  0.   +0.j],\n",
       "        [ 0.   +0.j,  1.   +0.j, -0.   +0.j, -0.   +0.j]],\n",
       "\n",
       "       [[ 0.   +0.j, -0.   +0.j, -1.   +0.j,  0.   +0.j],\n",
       "        [ 0.   +0.j,  0.   +0.j,  0.   +0.j,  1.   +0.j],\n",
       "        [ 1.   +0.j, -0.   +0.j,  0.   +0.j, -0.   +0.j],\n",
       "        [-0.   +0.j, -1.   +0.j,  0.   +0.j,  0.   +0.j]],\n",
       "\n",
       "       [[ 0.   +0.j,  0.   +0.j, -1.   +0.j, -0.   +0.j],\n",
       "        [-0.   +0.j, -0.   +0.j, -0.   +0.j,  1.   +0.j],\n",
       "        [ 1.   +0.j,  0.   +0.j,  0.   +0.j,  0.   +0.j],\n",
       "        [ 0.   +0.j, -1.   +0.j, -0.   +0.j,  0.   +0.j]],\n",
       "\n",
       "       [[ 0.   +0.j,  0.   +0.j,  1.   +0.j,  0.   +0.j],\n",
       "        [-0.   +0.j,  0.   +0.j,  0.   +0.j, -1.   +0.j],\n",
       "        [-1.   +0.j, -0.   +0.j, -0.   +0.j,  0.   +0.j],\n",
       "        [-0.   +0.j,  1.   +0.j, -0.   +0.j,  0.   +0.j]],\n",
       "\n",
       "       [[-0.   +0.j,  0.878+0.j, -0.442+0.j, -0.183+0.j],\n",
       "        [-0.878+0.j, -0.   +0.j, -0.183+0.j,  0.442+0.j],\n",
       "        [ 0.442+0.j,  0.183+0.j,  0.   +0.j,  0.878+0.j],\n",
       "        [ 0.183+0.j, -0.442+0.j, -0.878+0.j,  0.   +0.j]],\n",
       "\n",
       "       [[ 0.   +0.j, -0.174+0.j,  0.984+0.j,  0.046+0.j],\n",
       "        [ 0.174+0.j, -0.   +0.j,  0.046+0.j, -0.984+0.j],\n",
       "        [-0.984+0.j, -0.046+0.j,  0.   +0.j, -0.174+0.j],\n",
       "        [-0.046+0.j,  0.984+0.j,  0.174+0.j, -0.   +0.j]],\n",
       "\n",
       "       [[ 0.   +0.j, -0.949+0.j,  0.008+0.j, -0.317+0.j],\n",
       "        [ 0.949+0.j,  0.   +0.j, -0.317+0.j, -0.008+0.j],\n",
       "        [-0.008+0.j,  0.317+0.j, -0.   +0.j, -0.949+0.j],\n",
       "        [ 0.317+0.j,  0.008+0.j,  0.949+0.j, -0.   +0.j]],\n",
       "\n",
       "       [[-0.   +0.j, -0.926+0.j,  0.005+0.j, -0.376+0.j],\n",
       "        [ 0.926+0.j, -0.   +0.j, -0.376+0.j, -0.005+0.j],\n",
       "        [-0.005+0.j,  0.376+0.j,  0.   +0.j, -0.926+0.j],\n",
       "        [ 0.376+0.j,  0.005+0.j,  0.926+0.j,  0.   +0.j]],\n",
       "\n",
       "       [[-0.   +0.j,  0.321+0.j,  0.192+0.j, -0.927+0.j],\n",
       "        [-0.321+0.j, -0.   +0.j, -0.927+0.j, -0.192+0.j],\n",
       "        [-0.192+0.j,  0.927+0.j, -0.   +0.j,  0.321+0.j],\n",
       "        [ 0.927+0.j,  0.192+0.j, -0.321+0.j, -0.   +0.j]],\n",
       "\n",
       "       [[-0.   +0.j, -0.   +0.j, -0.597+0.j, -0.802+0.j],\n",
       "        [ 0.   +0.j, -0.   +0.j,  0.802+0.j, -0.597+0.j],\n",
       "        [ 0.597+0.j, -0.802+0.j,  0.   +0.j,  0.   +0.j],\n",
       "        [ 0.802+0.j,  0.597+0.j, -0.   +0.j, -0.   +0.j]],\n",
       "\n",
       "       [[ 0.   +0.j, -0.   +0.j,  0.755+0.j, -0.656+0.j],\n",
       "        [ 0.   +0.j,  0.   +0.j,  0.656+0.j,  0.755+0.j],\n",
       "        [-0.755+0.j, -0.656+0.j,  0.   +0.j,  0.   +0.j],\n",
       "        [ 0.656+0.j, -0.755+0.j, -0.   +0.j,  0.   +0.j]],\n",
       "\n",
       "       [[-0.227+0.j,  0.055+0.j, -0.945+0.j, -0.229+0.j],\n",
       "        [ 0.055+0.j,  0.227+0.j,  0.229+0.j, -0.945+0.j],\n",
       "        [-0.945+0.j,  0.229+0.j,  0.227+0.j,  0.055+0.j],\n",
       "        [-0.229+0.j, -0.945+0.j,  0.055+0.j, -0.227+0.j]],\n",
       "\n",
       "       [[-0.   +0.j, -1.   +0.j, -0.   +0.j, -0.   +0.j],\n",
       "        [-1.   +0.j,  0.   +0.j,  0.   +0.j,  0.   +0.j],\n",
       "        [-0.   +0.j,  0.   +0.j,  0.   +0.j, -1.   +0.j],\n",
       "        [-0.   +0.j,  0.   +0.j, -1.   +0.j, -0.   +0.j]],\n",
       "\n",
       "       [[-0.5  +0.j,  0.5  +0.j, -0.5  +0.j, -0.5  +0.j],\n",
       "        [ 0.5  +0.j, -0.5  +0.j, -0.5  +0.j, -0.5  +0.j],\n",
       "        [-0.5  +0.j, -0.5  +0.j, -0.5  +0.j,  0.5  +0.j],\n",
       "        [-0.5  +0.j, -0.5  +0.j,  0.5  +0.j, -0.5  +0.j]],\n",
       "\n",
       "       [[-0.   +0.j, -1.   +0.j,  0.   +0.j,  0.   +0.j],\n",
       "        [-1.   +0.j,  0.   +0.j, -0.   +0.j, -0.   +0.j],\n",
       "        [ 0.   +0.j, -0.   +0.j,  0.   +0.j, -1.   +0.j],\n",
       "        [ 0.   +0.j, -0.   +0.j, -1.   +0.j, -0.   +0.j]],\n",
       "\n",
       "       [[ 0.   +0.j, -1.   +0.j, -0.   +0.j, -0.   +0.j],\n",
       "        [-1.   +0.j, -0.   +0.j,  0.   +0.j,  0.   +0.j],\n",
       "        [-0.   +0.j,  0.   +0.j,  0.   +0.j, -1.   +0.j],\n",
       "        [-0.   +0.j,  0.   +0.j, -1.   +0.j, -0.   +0.j]],\n",
       "\n",
       "       [[-0.   +0.j, -1.   +0.j,  0.   +0.j,  0.   +0.j],\n",
       "        [-1.   +0.j,  0.   +0.j, -0.   +0.j, -0.   +0.j],\n",
       "        [ 0.   +0.j, -0.   +0.j, -0.   +0.j, -1.   +0.j],\n",
       "        [ 0.   +0.j, -0.   +0.j, -1.   +0.j,  0.   +0.j]],\n",
       "\n",
       "       [[-0.   +0.j, -1.   +0.j,  0.   +0.j,  0.   +0.j],\n",
       "        [-1.   +0.j,  0.   +0.j, -0.   +0.j, -0.   +0.j],\n",
       "        [ 0.   +0.j, -0.   +0.j,  0.   +0.j, -1.   +0.j],\n",
       "        [ 0.   +0.j, -0.   +0.j, -1.   +0.j, -0.   +0.j]],\n",
       "\n",
       "       [[-0.   +0.j, -1.   +0.j, -0.   +0.j, -0.   +0.j],\n",
       "        [-1.   +0.j,  0.   +0.j,  0.   +0.j,  0.   +0.j],\n",
       "        [-0.   +0.j,  0.   +0.j,  0.   +0.j, -1.   +0.j],\n",
       "        [-0.   +0.j,  0.   +0.j, -1.   +0.j, -0.   +0.j]],\n",
       "\n",
       "       [[ 0.   +0.j, -1.   +0.j, -0.   +0.j, -0.   +0.j],\n",
       "        [-1.   +0.j, -0.   +0.j,  0.   +0.j,  0.   +0.j],\n",
       "        [-0.   +0.j,  0.   +0.j,  0.   +0.j, -1.   +0.j],\n",
       "        [-0.   +0.j,  0.   +0.j, -1.   +0.j, -0.   +0.j]],\n",
       "\n",
       "       [[-0.   +0.j, -1.   +0.j,  0.   +0.j,  0.   +0.j],\n",
       "        [-1.   +0.j,  0.   +0.j, -0.   +0.j, -0.   +0.j],\n",
       "        [ 0.   +0.j, -0.   +0.j,  0.   +0.j, -1.   +0.j],\n",
       "        [ 0.   +0.j, -0.   +0.j, -1.   +0.j, -0.   +0.j]]])"
      ]
     },
     "execution_count": 246,
     "metadata": {},
     "output_type": "execute_result"
    }
   ],
   "source": [
    "unitaries_array[:, 3]"
   ]
  },
  {
   "cell_type": "code",
   "execution_count": 247,
   "id": "73c4600a-5984-42b6-8fbc-05c03dc9ebc8",
   "metadata": {},
   "outputs": [
    {
     "data": {
      "text/plain": [
       "array([[[-1.   +0.j,  0.   +0.j, -0.   +0.j,  0.   +0.j],\n",
       "        [-0.   +0.j, -1.   +0.j,  0.   +0.j, -0.   +0.j],\n",
       "        [ 0.   +0.j, -0.   +0.j, -1.   +0.j,  0.   +0.j],\n",
       "        [ 0.   +0.j,  0.   +0.j, -0.   +0.j, -1.   +0.j]],\n",
       "\n",
       "       [[ 0.853+0.j,  0.522+0.j, -0.005+0.j,  0.003+0.j],\n",
       "        [ 0.522+0.j, -0.852+0.j,  0.019+0.j, -0.005+0.j],\n",
       "        [-0.005+0.j,  0.019+0.j,  0.846+0.j, -0.532+0.j],\n",
       "        [ 0.003+0.j, -0.005+0.j, -0.532+0.j, -0.847+0.j]],\n",
       "\n",
       "       [[ 0.115+0.j, -0.047+0.j, -0.854+0.j, -0.504+0.j],\n",
       "        [-0.047+0.j, -0.176+0.j,  0.502+0.j, -0.845+0.j],\n",
       "        [-0.854+0.j,  0.502+0.j, -0.081+0.j, -0.105+0.j],\n",
       "        [-0.504+0.j, -0.845+0.j, -0.105+0.j,  0.142+0.j]],\n",
       "\n",
       "       [[-0.   +0.j, -0.   +0.j, -0.597+0.j, -0.802+0.j],\n",
       "        [ 0.   +0.j, -0.   +0.j,  0.802+0.j, -0.597+0.j],\n",
       "        [ 0.597+0.j, -0.802+0.j,  0.   +0.j,  0.   +0.j],\n",
       "        [ 0.802+0.j,  0.597+0.j, -0.   +0.j, -0.   +0.j]]])"
      ]
     },
     "execution_count": 247,
     "metadata": {},
     "output_type": "execute_result"
    }
   ],
   "source": [
    "unitaries_array[9]"
   ]
  },
  {
   "cell_type": "markdown",
   "id": "e75a2415-1a07-4fd8-bb2f-723a9b0e0ddf",
   "metadata": {},
   "source": [
    "## Conclusion\n",
    "\n",
    "Don't seem to gain much by adding a new site, in fact it perhaps makes things worse?"
   ]
  },
  {
   "cell_type": "code",
   "execution_count": null,
   "id": "ab1c7aff-8238-45fa-9422-8e9266e81cbb",
   "metadata": {},
   "outputs": [],
   "source": []
  }
 ],
 "metadata": {
  "kernelspec": {
   "display_name": "num_spt_venv_p11",
   "language": "python",
   "name": "num_spt_venv_p11"
  },
  "language_info": {
   "codemirror_mode": {
    "name": "ipython",
    "version": 3
   },
   "file_extension": ".py",
   "mimetype": "text/x-python",
   "name": "python",
   "nbconvert_exporter": "python",
   "pygments_lexer": "ipython3",
   "version": "3.11.9"
  }
 },
 "nbformat": 4,
 "nbformat_minor": 5
}
