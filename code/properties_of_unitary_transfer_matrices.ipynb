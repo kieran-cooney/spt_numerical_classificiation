{
 "cells": [
  {
   "cell_type": "markdown",
   "id": "6851b73d-4ce0-44e7-9e63-4c69c4386304",
   "metadata": {},
   "source": [
    "# Properties of transfer matrices induced by unitaries\n",
    "\n",
    "Created 06/06/2024\n",
    "\n",
    "Objectives:\n",
    "* When acting with the transfer matrices derived from unitaries on these states, are there extra requirements?\n",
    "    * Vector norm less than or equal to one?\n",
    "    * Is there only a subspace of the entire space accessible?\n",
    "    * Compare transfer matrices from unitaries with more general operators. What properties do transfer matrices from unitaries have?"
   ]
  },
  {
   "cell_type": "markdown",
   "id": "00ae17ca-d530-45a0-9781-8c0c97bea046",
   "metadata": {},
   "source": [
    "# Package imports"
   ]
  },
  {
   "cell_type": "code",
   "execution_count": 1,
   "id": "1214ca43-9c3b-4fd1-9789-1468b6bf2134",
   "metadata": {},
   "outputs": [],
   "source": [
    "from functools import reduce\n",
    "from collections import Counter\n",
    "\n",
    "import numpy as np\n",
    "import pandas as pd\n",
    "import matplotlib.pyplot as plt"
   ]
  },
  {
   "cell_type": "code",
   "execution_count": 2,
   "id": "75bf1979-d93a-4a73-b1ef-9c82743d1b3c",
   "metadata": {},
   "outputs": [],
   "source": [
    "import h5py\n",
    "from tenpy.tools import hdf5_io\n",
    "import tenpy\n",
    "import tenpy.linalg.np_conserved as npc\n",
    "\n",
    "import os"
   ]
  },
  {
   "cell_type": "code",
   "execution_count": 3,
   "id": "e355c226-5646-462c-ba0d-14e1b62b77e3",
   "metadata": {},
   "outputs": [],
   "source": [
    "from SPTOptimization.super_fibonacci import super_fibonacci"
   ]
  },
  {
   "cell_type": "code",
   "execution_count": 4,
   "id": "fb27cfbd-ce3c-4049-b74a-bdb32d693959",
   "metadata": {},
   "outputs": [],
   "source": [
    "from SPTOptimization.utils import (\n",
    "    get_transfer_matrix_from_unitary,\n",
    "    get_transfer_matrices_from_unitary_list,\n",
    "    multiply_transfer_matrices,\n",
    "    to_npc_array\n",
    ")"
   ]
  },
  {
   "cell_type": "markdown",
   "id": "6c21aef5-ebdd-43b7-88df-f817976e12af",
   "metadata": {},
   "source": [
    "# Load data"
   ]
  },
  {
   "cell_type": "code",
   "execution_count": 5,
   "id": "f30ea89c-0990-4d96-ac11-5621b991e9a8",
   "metadata": {},
   "outputs": [],
   "source": [
    "DATA_DIR = r\"data/transverse_cluster_200_site_dmrg\""
   ]
  },
  {
   "cell_type": "code",
   "execution_count": 6,
   "id": "3492fa95-c060-4f2c-895b-6d97215a466d",
   "metadata": {},
   "outputs": [],
   "source": [
    "loaded_data = list()\n",
    "\n",
    "for local_file_name in os.listdir(DATA_DIR):\n",
    "    f_name = r\"{}/{}\".format(DATA_DIR, local_file_name, ignore_unknown=False)\n",
    "    with h5py.File(f_name, 'r') as f:\n",
    "        data = hdf5_io.load_from_hdf5(f)\n",
    "        loaded_data.append(data)"
   ]
  },
  {
   "cell_type": "code",
   "execution_count": 7,
   "id": "c237db90-7b83-4771-b34c-d433e15b342e",
   "metadata": {},
   "outputs": [],
   "source": [
    "b_parameters = sorted(list(d['paramters']['B'] for d in loaded_data))"
   ]
  },
  {
   "cell_type": "code",
   "execution_count": 8,
   "id": "0a4626cf-44b6-4d6c-9ee3-a431a721f231",
   "metadata": {},
   "outputs": [],
   "source": [
    "psi_dict = dict()"
   ]
  },
  {
   "cell_type": "code",
   "execution_count": 9,
   "id": "f1050f22-41b9-492c-829b-5b38bb8982b2",
   "metadata": {},
   "outputs": [],
   "source": [
    "for b in b_parameters:\n",
    "    psi = next(\n",
    "        d['wavefunction']\n",
    "        for d in loaded_data\n",
    "        if d['paramters']['B'] == b\n",
    "    )\n",
    "\n",
    "    rounded_b = round(b, 1)\n",
    "    psi_dict[rounded_b] = psi"
   ]
  },
  {
   "cell_type": "code",
   "execution_count": 10,
   "id": "7464ceea-c8de-4ee6-8e56-8eb08e4e8d08",
   "metadata": {},
   "outputs": [
    {
     "data": {
      "text/plain": [
       "[0.0,\n",
       " 0.1,\n",
       " 0.2,\n",
       " 0.3,\n",
       " 0.4,\n",
       " 0.5,\n",
       " 0.6,\n",
       " 0.7,\n",
       " 0.8,\n",
       " 0.9,\n",
       " 1.0,\n",
       " 1.1,\n",
       " 1.2,\n",
       " 1.3,\n",
       " 1.4,\n",
       " 1.5,\n",
       " 1.6,\n",
       " 1.7,\n",
       " 1.8,\n",
       " 1.9,\n",
       " 2.0]"
      ]
     },
     "execution_count": 10,
     "metadata": {},
     "output_type": "execute_result"
    }
   ],
   "source": [
    "list(psi_dict)"
   ]
  },
  {
   "cell_type": "code",
   "execution_count": 11,
   "id": "90ee2943-e138-408c-b872-d0bd333697f6",
   "metadata": {},
   "outputs": [],
   "source": [
    "test_psi = psi_dict[0.5]"
   ]
  },
  {
   "cell_type": "markdown",
   "id": "2aa1e2a1-98ca-48b3-bcac-d377fd7e0ac2",
   "metadata": {},
   "source": [
    "# Definitions"
   ]
  },
  {
   "cell_type": "code",
   "execution_count": 12,
   "id": "513d7288-c641-4071-a4a3-652787d1f98c",
   "metadata": {},
   "outputs": [],
   "source": [
    "np_I = np.array([[1,0],[0,1]])\n",
    "np_X = np.array([[0,1],[1,0]])\n",
    "np_Y = np.array([[0,-1j],[1j,0]])\n",
    "np_Z = np.array([[1,0],[0,-1]])"
   ]
  },
  {
   "cell_type": "code",
   "execution_count": 13,
   "id": "b274f56a-9650-4deb-ba78-6a5f2eaa7099",
   "metadata": {},
   "outputs": [],
   "source": [
    "base_unitaries = np.array([np_I, 1j*np_X, 1j*np_Y, 1j*np_Z])"
   ]
  },
  {
   "cell_type": "code",
   "execution_count": 14,
   "id": "6880d3a5-e781-4a22-a6f0-1ae84a60df5c",
   "metadata": {},
   "outputs": [],
   "source": [
    "def get_symmetry_tm(psi, symmetry_operations):\n",
    "    index = (psi.L - len(symmetry_operations))//2\n",
    "\n",
    "    tms = get_transfer_matrices_from_unitary_list(\n",
    "        psi,\n",
    "        symmetry_operations,\n",
    "        index\n",
    "    )\n",
    "\n",
    "    transfer_matrix = reduce(\n",
    "        multiply_transfer_matrices,\n",
    "        tms\n",
    "    )\n",
    "\n",
    "    np_transfer_matrix = (\n",
    "        transfer_matrix\n",
    "        .combine_legs([['vL', 'vL*'], ['vR', 'vR*']])\n",
    "        .to_ndarray()\n",
    "    )\n",
    "\n",
    "    return np_transfer_matrix"
   ]
  },
  {
   "cell_type": "code",
   "execution_count": 15,
   "id": "db37eff2-3ba3-4dde-a3d0-aa553e9f9273",
   "metadata": {},
   "outputs": [],
   "source": [
    "def get_left_right_projected_states(symmetry_transfer_matrix):\n",
    "    U, S, Vh = np.linalg.svd(symmetry_transfer_matrix)\n",
    "\n",
    "    return (S[0], U[:, 0], Vh[0])"
   ]
  },
  {
   "cell_type": "markdown",
   "id": "244fa1fc-e5f6-4881-9eda-5ff67b5c22e6",
   "metadata": {},
   "source": [
    "# Code\n",
    "## Testing"
   ]
  },
  {
   "cell_type": "code",
   "execution_count": 16,
   "id": "7b197dce-cf37-42a6-ade5-24ee7d24ea81",
   "metadata": {},
   "outputs": [],
   "source": [
    "symmetry_tms = [\n",
    "    get_symmetry_tm(psi, [np_X, np_I]*40)\n",
    "    for psi in psi_dict.values()\n",
    "]"
   ]
  },
  {
   "cell_type": "code",
   "execution_count": 17,
   "id": "83df2b88-32a0-427e-87ec-b46e7e80d8af",
   "metadata": {},
   "outputs": [],
   "source": [
    "def get_base_transfer_matrices(psi, site_index):\n",
    "    X = np.array([\n",
    "        get_transfer_matrix_from_unitary(psi, u, site_index)\n",
    "        .combine_legs([['vL', 'vL*'], ['vR', 'vR*']])\n",
    "        .to_ndarray()\n",
    "        for u in base_unitaries\n",
    "    ])\n",
    "\n",
    "    return X"
   ]
  },
  {
   "cell_type": "code",
   "execution_count": 18,
   "id": "86c2975a-e9f2-420a-a750-146d2096daa3",
   "metadata": {},
   "outputs": [],
   "source": [
    "def operator_norm(X):\n",
    "    return np.linalg.SVD(X).S[0]"
   ]
  },
  {
   "cell_type": "code",
   "execution_count": 19,
   "id": "77f6b4c0-e8e7-4c33-a443-2465b3cad72e",
   "metadata": {},
   "outputs": [],
   "source": [
    "base_index = (test_psi.L + 80)//2"
   ]
  },
  {
   "cell_type": "code",
   "execution_count": 20,
   "id": "46d2106c-31b9-4e88-be43-25e865e9cd72",
   "metadata": {},
   "outputs": [
    {
     "data": {
      "text/plain": [
       "140"
      ]
     },
     "execution_count": 20,
     "metadata": {},
     "output_type": "execute_result"
    }
   ],
   "source": [
    "base_index"
   ]
  },
  {
   "cell_type": "code",
   "execution_count": 21,
   "id": "d5a3ec16-3442-4734-b3ac-33999c834e2f",
   "metadata": {},
   "outputs": [],
   "source": [
    "base_transfer_matrices = get_base_transfer_matrices(test_psi, base_index)"
   ]
  },
  {
   "cell_type": "code",
   "execution_count": 22,
   "id": "f9deb0f4-aae1-42bc-8998-815e28a4fea4",
   "metadata": {},
   "outputs": [
    {
     "data": {
      "text/plain": [
       "(4, 64, 64)"
      ]
     },
     "execution_count": 22,
     "metadata": {},
     "output_type": "execute_result"
    }
   ],
   "source": [
    "base_transfer_matrices.shape"
   ]
  },
  {
   "cell_type": "code",
   "execution_count": 23,
   "id": "da0d3c2e-4964-44db-8ce0-f4c42fd5792c",
   "metadata": {},
   "outputs": [],
   "source": [
    "sing_vals = np.round(np.linalg.svd(base_transfer_matrices).S, 3)"
   ]
  },
  {
   "cell_type": "code",
   "execution_count": 24,
   "id": "67b0de2e-6794-4d5b-a6b0-8c397e5c2409",
   "metadata": {},
   "outputs": [
    {
     "data": {
      "text/plain": [
       "(Counter({1.39: 16, 0.259: 16, 0.033: 16, 0.006: 16}),\n",
       " Counter({1.39: 16, 0.259: 16, 0.033: 16, 0.006: 16}),\n",
       " Counter({0.0: 32, 1.39: 16, 0.261: 16}),\n",
       " Counter({0.0: 32, 1.39: 16, 0.261: 16}))"
      ]
     },
     "execution_count": 24,
     "metadata": {},
     "output_type": "execute_result"
    }
   ],
   "source": [
    "(\n",
    "    Counter(sing_vals[0]),\n",
    "    Counter(sing_vals[1]),\n",
    "    Counter(sing_vals[2]),\n",
    "    Counter(sing_vals[3])\n",
    ")"
   ]
  },
  {
   "cell_type": "code",
   "execution_count": 25,
   "id": "2d0c6a43-cf35-40ea-ae09-6c2e22841636",
   "metadata": {},
   "outputs": [],
   "source": [
    "s3_points = super_fibonacci(int(2e4))\n",
    "s3_search_points = s3_points[s3_points[:, 0] >=  0]"
   ]
  },
  {
   "cell_type": "code",
   "execution_count": 26,
   "id": "2bef9b76-674a-407c-99fd-ee80db2c08e9",
   "metadata": {},
   "outputs": [
    {
     "data": {
      "text/plain": [
       "(20000, 4)"
      ]
     },
     "execution_count": 26,
     "metadata": {},
     "output_type": "execute_result"
    }
   ],
   "source": [
    "s3_points.shape"
   ]
  },
  {
   "cell_type": "code",
   "execution_count": 27,
   "id": "664d8ffa-7f9e-4e2b-b86a-684599c5bc39",
   "metadata": {},
   "outputs": [],
   "source": [
    "test_symmetry_tm = symmetry_tms[5]"
   ]
  },
  {
   "cell_type": "code",
   "execution_count": 28,
   "id": "fd7e7770-3081-4e25-b502-ef30be90c76c",
   "metadata": {},
   "outputs": [],
   "source": [
    "*_, test_right_projected_state = get_left_right_projected_states(test_symmetry_tm)"
   ]
  },
  {
   "cell_type": "code",
   "execution_count": 29,
   "id": "d13895bf-ed1a-4221-83e3-f45e04c7f93a",
   "metadata": {},
   "outputs": [
    {
     "data": {
      "text/plain": [
       "(64,)"
      ]
     },
     "execution_count": 29,
     "metadata": {},
     "output_type": "execute_result"
    }
   ],
   "source": [
    "test_right_projected_state.shape"
   ]
  },
  {
   "cell_type": "code",
   "execution_count": 30,
   "id": "494fc1bd-67cc-4ffc-8c48-9e833390d008",
   "metadata": {},
   "outputs": [
    {
     "data": {
      "text/plain": [
       "1.0"
      ]
     },
     "execution_count": 30,
     "metadata": {},
     "output_type": "execute_result"
    }
   ],
   "source": [
    "np.linalg.norm(test_right_projected_state)"
   ]
  },
  {
   "cell_type": "code",
   "execution_count": 31,
   "id": "6ebd6d74-0d31-4bc5-b4ce-a750b1834135",
   "metadata": {},
   "outputs": [],
   "source": [
    "test_next_base_points = np.tensordot(\n",
    "    test_right_projected_state,\n",
    "    base_transfer_matrices,\n",
    "    [[0,], [1,]]\n",
    ")"
   ]
  },
  {
   "cell_type": "code",
   "execution_count": 32,
   "id": "df24170a-3d62-4090-b635-045eb98a6d8c",
   "metadata": {},
   "outputs": [
    {
     "data": {
      "text/plain": [
       "array([0.25989061, 1.        , 0.96532736, 0.02449415])"
      ]
     },
     "execution_count": 32,
     "metadata": {},
     "output_type": "execute_result"
    }
   ],
   "source": [
    "np.linalg.norm(test_next_base_points, axis=1)"
   ]
  },
  {
   "cell_type": "code",
   "execution_count": 33,
   "id": "92317e80-1b4f-4f89-b79a-9c44d57c1ee8",
   "metadata": {},
   "outputs": [
    {
     "data": {
      "text/plain": [
       "(4, 64)"
      ]
     },
     "execution_count": 33,
     "metadata": {},
     "output_type": "execute_result"
    }
   ],
   "source": [
    "test_next_base_points.shape"
   ]
  },
  {
   "cell_type": "code",
   "execution_count": 34,
   "id": "2a38ab96-4b03-4a0e-9752-7b3b89dc83e3",
   "metadata": {},
   "outputs": [],
   "source": [
    "test_next_points = np.tensordot(\n",
    "    s3_search_points,\n",
    "    test_next_base_points,\n",
    "    [[1,], [0,]]\n",
    ")"
   ]
  },
  {
   "cell_type": "code",
   "execution_count": 35,
   "id": "a834202b-5bc7-4a15-8def-c5865b81fb73",
   "metadata": {},
   "outputs": [
    {
     "data": {
      "text/plain": [
       "(10003, 64)"
      ]
     },
     "execution_count": 35,
     "metadata": {},
     "output_type": "execute_result"
    }
   ],
   "source": [
    "test_next_points.shape"
   ]
  },
  {
   "cell_type": "code",
   "execution_count": 36,
   "id": "a431043a-1078-4009-a837-f53eda20500d",
   "metadata": {},
   "outputs": [],
   "source": [
    "test_next_points_norm = np.linalg.norm(test_next_points, axis=1)"
   ]
  },
  {
   "cell_type": "code",
   "execution_count": 37,
   "id": "ea9bd268-b04e-4ec5-8d7b-20ff7e0e8375",
   "metadata": {},
   "outputs": [
    {
     "data": {
      "text/plain": [
       "count    10003.000000\n",
       "mean         0.673947\n",
       "std          0.213655\n",
       "min          0.032207\n",
       "25%          0.516259\n",
       "50%          0.707193\n",
       "75%          0.855978\n",
       "max          0.999486\n",
       "dtype: float64"
      ]
     },
     "execution_count": 37,
     "metadata": {},
     "output_type": "execute_result"
    }
   ],
   "source": [
    "pd.Series(test_next_points_norm).describe()"
   ]
  },
  {
   "cell_type": "code",
   "execution_count": 38,
   "id": "b1456e42-610b-4bbb-a76d-2c9cd8060c3a",
   "metadata": {},
   "outputs": [],
   "source": [
    "next_base_transfer_matrices = get_base_transfer_matrices(test_psi, base_index+1)"
   ]
  },
  {
   "cell_type": "code",
   "execution_count": 39,
   "id": "fd39eec9-8b4f-4c44-845f-acfd4e8daee4",
   "metadata": {},
   "outputs": [],
   "source": [
    "next_sing_vals = np.round(np.linalg.svd(next_base_transfer_matrices).S, 3)"
   ]
  },
  {
   "cell_type": "code",
   "execution_count": 40,
   "id": "0f63f777-7fcb-4d40-afb5-c042ed944f22",
   "metadata": {},
   "outputs": [
    {
     "data": {
      "text/plain": [
       "(Counter({1.39: 16, 0.259: 16, 0.033: 16, 0.006: 16}),\n",
       " Counter({1.39: 16, 0.259: 16, 0.033: 16, 0.006: 16}),\n",
       " Counter({0.0: 32, 1.39: 16, 0.261: 16}),\n",
       " Counter({0.0: 32, 1.39: 16, 0.261: 16}))"
      ]
     },
     "execution_count": 40,
     "metadata": {},
     "output_type": "execute_result"
    }
   ],
   "source": [
    "(\n",
    "    Counter(next_sing_vals[0]),\n",
    "    Counter(next_sing_vals[1]),\n",
    "    Counter(next_sing_vals[2]),\n",
    "    Counter(next_sing_vals[3])\n",
    ")"
   ]
  },
  {
   "cell_type": "code",
   "execution_count": 41,
   "id": "542e0e04-08ee-4411-9217-e9eda6a9e8df",
   "metadata": {},
   "outputs": [],
   "source": [
    "test_2_base_points = np.tensordot(\n",
    "    test_next_points,\n",
    "    base_transfer_matrices,\n",
    "    [[1,], [1,]]\n",
    ")"
   ]
  },
  {
   "cell_type": "code",
   "execution_count": 42,
   "id": "c5aac535-e3a8-41b7-a997-5cb901bddaee",
   "metadata": {},
   "outputs": [
    {
     "data": {
      "text/plain": [
       "(10003, 4, 64)"
      ]
     },
     "execution_count": 42,
     "metadata": {},
     "output_type": "execute_result"
    }
   ],
   "source": [
    "test_2_base_points.shape"
   ]
  },
  {
   "cell_type": "code",
   "execution_count": 43,
   "id": "1a2ba7fe-841f-409a-85b8-ce8ff83fd718",
   "metadata": {},
   "outputs": [],
   "source": [
    "test_2_points = np.tensordot(\n",
    "    s3_search_points[3::5],\n",
    "    test_2_base_points[2::5],\n",
    "    [[1,], [1,]]\n",
    ")"
   ]
  },
  {
   "cell_type": "code",
   "execution_count": 44,
   "id": "3706f936-b7ae-4fc2-a303-721ff3c90ad9",
   "metadata": {},
   "outputs": [
    {
     "data": {
      "text/plain": [
       "(2000, 2001, 64)"
      ]
     },
     "execution_count": 44,
     "metadata": {},
     "output_type": "execute_result"
    }
   ],
   "source": [
    "test_2_points.shape"
   ]
  },
  {
   "cell_type": "code",
   "execution_count": 45,
   "id": "bdd78349-6976-443d-9fc2-b0dd0cdb68fb",
   "metadata": {},
   "outputs": [],
   "source": [
    "test_2_norms = np.linalg.norm(test_2_points, axis=-1)"
   ]
  },
  {
   "cell_type": "code",
   "execution_count": 46,
   "id": "32640405-ebd1-400f-81d1-393647dd96ad",
   "metadata": {},
   "outputs": [
    {
     "data": {
      "text/plain": [
       "count    4.002000e+06\n",
       "mean     4.517203e-01\n",
       "std      2.093431e-01\n",
       "min      1.173027e-02\n",
       "25%      2.844637e-01\n",
       "50%      4.380686e-01\n",
       "75%      6.093696e-01\n",
       "max      9.977682e-01\n",
       "dtype: float64"
      ]
     },
     "execution_count": 46,
     "metadata": {},
     "output_type": "execute_result"
    }
   ],
   "source": [
    "pd.Series(test_2_norms.flatten()).describe()"
   ]
  },
  {
   "cell_type": "code",
   "execution_count": 47,
   "id": "f14128f4-47fe-4a74-a38b-b699e7270213",
   "metadata": {},
   "outputs": [],
   "source": [
    "max_2_norms = np.max(test_2_norms, axis=0)"
   ]
  },
  {
   "cell_type": "code",
   "execution_count": 48,
   "id": "e9008de0-b39d-4aba-b144-d07ce1257d55",
   "metadata": {},
   "outputs": [
    {
     "data": {
      "text/plain": [
       "(2001,)"
      ]
     },
     "execution_count": 48,
     "metadata": {},
     "output_type": "execute_result"
    }
   ],
   "source": [
    "max_2_norms.shape"
   ]
  },
  {
   "cell_type": "code",
   "execution_count": 49,
   "id": "47ea9cb6-a2f0-4fae-8241-c6e3e36f68ba",
   "metadata": {},
   "outputs": [],
   "source": [
    "norm_2_1_ratio = max_2_norms/test_next_points_norm[2::5]"
   ]
  },
  {
   "cell_type": "code",
   "execution_count": 50,
   "id": "922b472f-b555-4065-a91f-0f2a998d02bd",
   "metadata": {},
   "outputs": [
    {
     "data": {
      "text/plain": [
       "(2001,)"
      ]
     },
     "execution_count": 50,
     "metadata": {},
     "output_type": "execute_result"
    }
   ],
   "source": [
    "norm_2_1_ratio.shape"
   ]
  },
  {
   "cell_type": "code",
   "execution_count": 51,
   "id": "d8a9b654-cf64-4da5-9c89-8824b3ccf203",
   "metadata": {},
   "outputs": [
    {
     "data": {
      "text/plain": [
       "count    2001.000000\n",
       "mean        0.998553\n",
       "std         0.001990\n",
       "min         0.997837\n",
       "25%         0.998200\n",
       "50%         0.998355\n",
       "75%         0.998613\n",
       "max         1.082165\n",
       "dtype: float64"
      ]
     },
     "execution_count": 51,
     "metadata": {},
     "output_type": "execute_result"
    }
   ],
   "source": [
    "pd.Series(norm_2_1_ratio).describe()"
   ]
  },
  {
   "cell_type": "markdown",
   "id": "37d83522-e437-4ddc-8141-cc0baffef741",
   "metadata": {},
   "source": [
    "## Right side"
   ]
  },
  {
   "cell_type": "code",
   "execution_count": 52,
   "id": "14165db8-4a6d-4372-9bcd-6373832c793c",
   "metadata": {},
   "outputs": [],
   "source": [
    "s3_points = super_fibonacci(int(4e3))\n",
    "s3_search_points = s3_points[s3_points[:, 0] >=  0]"
   ]
  },
  {
   "cell_type": "code",
   "execution_count": 53,
   "id": "a0764074-bf06-4834-bf44-eb4e6dc3c970",
   "metadata": {},
   "outputs": [
    {
     "data": {
      "text/plain": [
       "(4000, 4)"
      ]
     },
     "execution_count": 53,
     "metadata": {},
     "output_type": "execute_result"
    }
   ],
   "source": [
    "s3_points.shape"
   ]
  },
  {
   "cell_type": "code",
   "execution_count": 54,
   "id": "a430d29c-40a6-47df-aa0a-59eeabfd3a53",
   "metadata": {},
   "outputs": [],
   "source": [
    "def describe_1d_array(X):\n",
    "    return pd.Series(X).describe()"
   ]
  },
  {
   "cell_type": "code",
   "execution_count": 55,
   "id": "581da4ae-c467-4e9b-ba37-ce8e9fef0b33",
   "metadata": {},
   "outputs": [],
   "source": [
    "def check_ratios_and_distances(psi, right_projected_state):\n",
    "    base_transfer_matrices_1 = get_base_transfer_matrices(psi, base_index)\n",
    "    base_transfer_matrices_2 = get_base_transfer_matrices(psi, base_index+1)\n",
    "\n",
    "    base_sing_vals_1 = np.round(np.linalg.svd(base_transfer_matrices_1).S, 3)\n",
    "    base_sing_vals_2 = np.round(np.linalg.svd(base_transfer_matrices_2).S, 3)\n",
    "\n",
    "    base_points_1 = np.tensordot(\n",
    "        right_projected_state,\n",
    "        base_transfer_matrices_1,\n",
    "        [[0,], [1,]]\n",
    "    )\n",
    "    \n",
    "    virtual_points_1 = np.tensordot(\n",
    "        s3_search_points,\n",
    "        base_points_1,\n",
    "        [[1,], [0,]]\n",
    "    )\n",
    "\n",
    "    norm_virtual_points_1 = np.linalg.norm(virtual_points_1, axis=-1)\n",
    "    norms_1_stats = describe_1d_array(norm_virtual_points_1)\n",
    "\n",
    "    base_points_2 = np.tensordot(\n",
    "        virtual_points_1,\n",
    "        base_transfer_matrices_2,\n",
    "        [[1,], [1,]]\n",
    "    )\n",
    "\n",
    "    stride_length = 10\n",
    "\n",
    "    norms_2 = np.zeros((len(s3_search_points), len(virtual_points_1)))\n",
    "    ratios = np.zeros((len(virtual_points_1,)))\n",
    "\n",
    "    steps = len(virtual_points_1)//stride_length\n",
    "\n",
    "    for i in range(steps):\n",
    "        virtual_2_points = np.tensordot(\n",
    "            s3_search_points,\n",
    "            base_points_2[stride_length*i:stride_length*(i+1)],\n",
    "            [[1,], [1,]]\n",
    "        )\n",
    "\n",
    "        norms = np.linalg.norm(virtual_2_points, axis=2)\n",
    "        norms_2[:, stride_length*i:stride_length*(i+1)] = norms\n",
    "        \n",
    "        max_virtual_2_norms = np.max(norms, axis=0)\n",
    "        norms_ratio = max_virtual_2_norms/norm_virtual_points_1[stride_length*i:stride_length*(i+1)]\n",
    "\n",
    "        ratios[stride_length*i:stride_length*(i+1)] = norms_ratio\n",
    "\n",
    "    ratios_desc = describe_1d_array(ratios)\n",
    "    norms_2_stats = describe_1d_array(norms_2.flatten())\n",
    "\n",
    "    return {\n",
    "        \"base_sing_vals_1\": base_sing_vals_1,\n",
    "        \"base_sing_vals_2\": base_sing_vals_2,\n",
    "        \"norms_1\": norm_virtual_points_1,\n",
    "        \"norm_virtual_points_1_stats\": norms_1_stats,\n",
    "        \"max_norms_2\": np.max(norms_2, axis=0),\n",
    "        \"norm_virtual_points_2_stats\": norms_2_stats,\n",
    "        \"2_to_1_ratios_stats\": ratios_desc\n",
    "    }"
   ]
  },
  {
   "cell_type": "code",
   "execution_count": 56,
   "id": "b5111a96-bb17-41b4-b42c-25f02623965a",
   "metadata": {},
   "outputs": [],
   "source": [
    "d = check_ratios_and_distances(test_psi, test_right_projected_state)"
   ]
  },
  {
   "cell_type": "code",
   "execution_count": 57,
   "id": "9243c855-de47-40ad-8937-197abab174e3",
   "metadata": {},
   "outputs": [
    {
     "data": {
      "text/plain": [
       "count    2003.000000\n",
       "mean        0.898473\n",
       "std         0.087258\n",
       "min         0.000000\n",
       "25%         0.837059\n",
       "50%         0.916340\n",
       "75%         0.972151\n",
       "max         0.999461\n",
       "dtype: float64"
      ]
     },
     "execution_count": 57,
     "metadata": {},
     "output_type": "execute_result"
    }
   ],
   "source": [
    "d['2_to_1_ratios_stats']"
   ]
  },
  {
   "cell_type": "code",
   "execution_count": 58,
   "id": "944802af-e547-445a-9217-74de82faae53",
   "metadata": {},
   "outputs": [
    {
     "data": {
      "text/plain": [
       "count    4.012009e+06\n",
       "mean     4.659019e-01\n",
       "std      1.793924e-01\n",
       "min      0.000000e+00\n",
       "25%      3.289117e-01\n",
       "50%      4.670930e-01\n",
       "75%      6.009182e-01\n",
       "max      9.980977e-01\n",
       "dtype: float64"
      ]
     },
     "execution_count": 58,
     "metadata": {},
     "output_type": "execute_result"
    }
   ],
   "source": [
    "d['norm_virtual_points_2_stats']"
   ]
  },
  {
   "cell_type": "code",
   "execution_count": 59,
   "id": "8e11d698-afc6-417d-9899-82bba726a543",
   "metadata": {},
   "outputs": [
    {
     "data": {
      "text/plain": [
       "<matplotlib.collections.PathCollection at 0x77a78ec3e890>"
      ]
     },
     "execution_count": 59,
     "metadata": {},
     "output_type": "execute_result"
    },
    {
     "data": {
      "image/png": "[encoded data removed]",
      "text/plain": [
       "<Figure size 800x600 with 1 Axes>"
      ]
     },
     "metadata": {},
     "output_type": "display_data"
    }
   ],
   "source": [
    "fig, ax = plt.subplots(figsize=(8,6))\n",
    "\n",
    "ax.scatter(d['norms_1'], d['max_norms_2'] ,s=10)"
   ]
  },
  {
   "cell_type": "code",
   "execution_count": 60,
   "id": "b70dfdd3-b2d6-4ece-8fd0-b6a19a56bffa",
   "metadata": {},
   "outputs": [],
   "source": [
    "left_projected_states = list()\n",
    "right_projected_states = list()\n",
    "\n",
    "for tm in symmetry_tms:\n",
    "    _, left_projected_state, right_projected_state = (\n",
    "        get_left_right_projected_states(tm)\n",
    "    )\n",
    "\n",
    "    left_projected_states.append(left_projected_state)\n",
    "    right_projected_states.append(right_projected_state)"
   ]
  },
  {
   "cell_type": "code",
   "execution_count": 61,
   "id": "a5823eda-760a-4462-b924-12ba047a5e03",
   "metadata": {},
   "outputs": [],
   "source": [
    "right_ratios_and_norms = [\n",
    "    check_ratios_and_distances(psi, right_projected_state)\n",
    "    for psi, right_projected_state in zip(psi_dict.values(), right_projected_states)\n",
    "]"
   ]
  },
  {
   "cell_type": "markdown",
   "id": "f9daf22f-f5f2-4fdf-bbca-d47941856a50",
   "metadata": {},
   "source": [
    "### Singular values 1"
   ]
  },
  {
   "cell_type": "code",
   "execution_count": 62,
   "id": "eab5fb05-efb2-4802-9370-682ef544f2ee",
   "metadata": {},
   "outputs": [
    {
     "data": {
      "text/plain": [
       "array([[1., 1., 0., 0.],\n",
       "       [1., 1., 0., 0.],\n",
       "       [1., 1., 0., 0.],\n",
       "       [1., 1., 0., 0.]])"
      ]
     },
     "execution_count": 62,
     "metadata": {},
     "output_type": "execute_result"
    }
   ],
   "source": [
    "right_ratios_and_norms[0][\"base_sing_vals_1\"]"
   ]
  },
  {
   "cell_type": "code",
   "execution_count": 63,
   "id": "b811c857-c694-4df7-8f65-e1fa08a4a584",
   "metadata": {},
   "outputs": [
    {
     "data": {
      "text/plain": [
       "array([[1.413e+00, 1.413e+00, 1.413e+00, 1.413e+00, 1.413e+00, 1.413e+00,\n",
       "        1.413e+00, 1.413e+00, 1.413e+00, 1.413e+00, 1.413e+00, 1.413e+00,\n",
       "        1.413e+00, 1.413e+00, 1.413e+00, 1.413e+00, 5.000e-02, 5.000e-02,\n",
       "        5.000e-02, 5.000e-02, 5.000e-02, 5.000e-02, 5.000e-02, 5.000e-02,\n",
       "        5.000e-02, 5.000e-02, 5.000e-02, 5.000e-02, 5.000e-02, 5.000e-02,\n",
       "        5.000e-02, 5.000e-02, 1.000e-03, 1.000e-03, 1.000e-03, 1.000e-03,\n",
       "        1.000e-03, 1.000e-03, 1.000e-03, 1.000e-03, 1.000e-03, 1.000e-03,\n",
       "        1.000e-03, 1.000e-03, 1.000e-03, 1.000e-03, 1.000e-03, 1.000e-03,\n",
       "        0.000e+00, 0.000e+00, 0.000e+00, 0.000e+00, 0.000e+00, 0.000e+00,\n",
       "        0.000e+00, 0.000e+00, 0.000e+00, 0.000e+00, 0.000e+00, 0.000e+00,\n",
       "        0.000e+00, 0.000e+00, 0.000e+00, 0.000e+00],\n",
       "       [1.413e+00, 1.413e+00, 1.413e+00, 1.413e+00, 1.413e+00, 1.413e+00,\n",
       "        1.413e+00, 1.413e+00, 1.413e+00, 1.413e+00, 1.413e+00, 1.413e+00,\n",
       "        1.413e+00, 1.413e+00, 1.413e+00, 1.413e+00, 5.000e-02, 5.000e-02,\n",
       "        5.000e-02, 5.000e-02, 5.000e-02, 5.000e-02, 5.000e-02, 5.000e-02,\n",
       "        5.000e-02, 5.000e-02, 5.000e-02, 5.000e-02, 5.000e-02, 5.000e-02,\n",
       "        5.000e-02, 5.000e-02, 1.000e-03, 1.000e-03, 1.000e-03, 1.000e-03,\n",
       "        1.000e-03, 1.000e-03, 1.000e-03, 1.000e-03, 1.000e-03, 1.000e-03,\n",
       "        1.000e-03, 1.000e-03, 1.000e-03, 1.000e-03, 1.000e-03, 1.000e-03,\n",
       "        0.000e+00, 0.000e+00, 0.000e+00, 0.000e+00, 0.000e+00, 0.000e+00,\n",
       "        0.000e+00, 0.000e+00, 0.000e+00, 0.000e+00, 0.000e+00, 0.000e+00,\n",
       "        0.000e+00, 0.000e+00, 0.000e+00, 0.000e+00],\n",
       "       [1.413e+00, 1.413e+00, 1.413e+00, 1.413e+00, 1.413e+00, 1.413e+00,\n",
       "        1.413e+00, 1.413e+00, 1.413e+00, 1.413e+00, 1.413e+00, 1.413e+00,\n",
       "        1.413e+00, 1.413e+00, 1.413e+00, 1.413e+00, 5.000e-02, 5.000e-02,\n",
       "        5.000e-02, 5.000e-02, 5.000e-02, 5.000e-02, 5.000e-02, 5.000e-02,\n",
       "        5.000e-02, 5.000e-02, 5.000e-02, 5.000e-02, 5.000e-02, 5.000e-02,\n",
       "        5.000e-02, 5.000e-02, 0.000e+00, 0.000e+00, 0.000e+00, 0.000e+00,\n",
       "        0.000e+00, 0.000e+00, 0.000e+00, 0.000e+00, 0.000e+00, 0.000e+00,\n",
       "        0.000e+00, 0.000e+00, 0.000e+00, 0.000e+00, 0.000e+00, 0.000e+00,\n",
       "        0.000e+00, 0.000e+00, 0.000e+00, 0.000e+00, 0.000e+00, 0.000e+00,\n",
       "        0.000e+00, 0.000e+00, 0.000e+00, 0.000e+00, 0.000e+00, 0.000e+00,\n",
       "        0.000e+00, 0.000e+00, 0.000e+00, 0.000e+00],\n",
       "       [1.413e+00, 1.413e+00, 1.413e+00, 1.413e+00, 1.413e+00, 1.413e+00,\n",
       "        1.413e+00, 1.413e+00, 1.413e+00, 1.413e+00, 1.413e+00, 1.413e+00,\n",
       "        1.413e+00, 1.413e+00, 1.413e+00, 1.413e+00, 5.000e-02, 5.000e-02,\n",
       "        5.000e-02, 5.000e-02, 5.000e-02, 5.000e-02, 5.000e-02, 5.000e-02,\n",
       "        5.000e-02, 5.000e-02, 5.000e-02, 5.000e-02, 5.000e-02, 5.000e-02,\n",
       "        5.000e-02, 5.000e-02, 0.000e+00, 0.000e+00, 0.000e+00, 0.000e+00,\n",
       "        0.000e+00, 0.000e+00, 0.000e+00, 0.000e+00, 0.000e+00, 0.000e+00,\n",
       "        0.000e+00, 0.000e+00, 0.000e+00, 0.000e+00, 0.000e+00, 0.000e+00,\n",
       "        0.000e+00, 0.000e+00, 0.000e+00, 0.000e+00, 0.000e+00, 0.000e+00,\n",
       "        0.000e+00, 0.000e+00, 0.000e+00, 0.000e+00, 0.000e+00, 0.000e+00,\n",
       "        0.000e+00, 0.000e+00, 0.000e+00, 0.000e+00]])"
      ]
     },
     "execution_count": 63,
     "metadata": {},
     "output_type": "execute_result"
    }
   ],
   "source": [
    "right_ratios_and_norms[1][\"base_sing_vals_1\"]"
   ]
  },
  {
   "cell_type": "code",
   "execution_count": 64,
   "id": "f9e27d30-78aa-418f-9af0-23ecbde09f27",
   "metadata": {},
   "outputs": [
    {
     "data": {
      "text/plain": [
       "array([[1.39 , 1.39 , 1.39 , 1.39 , 1.39 , 1.39 , 1.39 , 1.39 , 1.39 ,\n",
       "        1.39 , 1.39 , 1.39 , 1.39 , 1.39 , 1.39 , 1.39 , 0.259, 0.259,\n",
       "        0.259, 0.259, 0.259, 0.259, 0.259, 0.259, 0.259, 0.259, 0.259,\n",
       "        0.259, 0.259, 0.259, 0.259, 0.259, 0.033, 0.033, 0.033, 0.033,\n",
       "        0.033, 0.033, 0.033, 0.033, 0.033, 0.033, 0.033, 0.033, 0.033,\n",
       "        0.033, 0.033, 0.033, 0.006, 0.006, 0.006, 0.006, 0.006, 0.006,\n",
       "        0.006, 0.006, 0.006, 0.006, 0.006, 0.006, 0.006, 0.006, 0.006,\n",
       "        0.006],\n",
       "       [1.39 , 1.39 , 1.39 , 1.39 , 1.39 , 1.39 , 1.39 , 1.39 , 1.39 ,\n",
       "        1.39 , 1.39 , 1.39 , 1.39 , 1.39 , 1.39 , 1.39 , 0.259, 0.259,\n",
       "        0.259, 0.259, 0.259, 0.259, 0.259, 0.259, 0.259, 0.259, 0.259,\n",
       "        0.259, 0.259, 0.259, 0.259, 0.259, 0.033, 0.033, 0.033, 0.033,\n",
       "        0.033, 0.033, 0.033, 0.033, 0.033, 0.033, 0.033, 0.033, 0.033,\n",
       "        0.033, 0.033, 0.033, 0.006, 0.006, 0.006, 0.006, 0.006, 0.006,\n",
       "        0.006, 0.006, 0.006, 0.006, 0.006, 0.006, 0.006, 0.006, 0.006,\n",
       "        0.006],\n",
       "       [1.39 , 1.39 , 1.39 , 1.39 , 1.39 , 1.39 , 1.39 , 1.39 , 1.39 ,\n",
       "        1.39 , 1.39 , 1.39 , 1.39 , 1.39 , 1.39 , 1.39 , 0.261, 0.261,\n",
       "        0.261, 0.261, 0.261, 0.261, 0.261, 0.261, 0.261, 0.261, 0.261,\n",
       "        0.261, 0.261, 0.261, 0.261, 0.261, 0.   , 0.   , 0.   , 0.   ,\n",
       "        0.   , 0.   , 0.   , 0.   , 0.   , 0.   , 0.   , 0.   , 0.   ,\n",
       "        0.   , 0.   , 0.   , 0.   , 0.   , 0.   , 0.   , 0.   , 0.   ,\n",
       "        0.   , 0.   , 0.   , 0.   , 0.   , 0.   , 0.   , 0.   , 0.   ,\n",
       "        0.   ],\n",
       "       [1.39 , 1.39 , 1.39 , 1.39 , 1.39 , 1.39 , 1.39 , 1.39 , 1.39 ,\n",
       "        1.39 , 1.39 , 1.39 , 1.39 , 1.39 , 1.39 , 1.39 , 0.261, 0.261,\n",
       "        0.261, 0.261, 0.261, 0.261, 0.261, 0.261, 0.261, 0.261, 0.261,\n",
       "        0.261, 0.261, 0.261, 0.261, 0.261, 0.   , 0.   , 0.   , 0.   ,\n",
       "        0.   , 0.   , 0.   , 0.   , 0.   , 0.   , 0.   , 0.   , 0.   ,\n",
       "        0.   , 0.   , 0.   , 0.   , 0.   , 0.   , 0.   , 0.   , 0.   ,\n",
       "        0.   , 0.   , 0.   , 0.   , 0.   , 0.   , 0.   , 0.   , 0.   ,\n",
       "        0.   ]])"
      ]
     },
     "execution_count": 64,
     "metadata": {},
     "output_type": "execute_result"
    }
   ],
   "source": [
    "right_ratios_and_norms[5][\"base_sing_vals_1\"]"
   ]
  },
  {
   "cell_type": "code",
   "execution_count": 65,
   "id": "9d5fb3bc-b388-4a49-83b3-197b7a004f87",
   "metadata": {},
   "outputs": [
    {
     "data": {
      "text/plain": [
       "array([[1.311, 1.311, 1.311, 1.311, 1.311, 1.311, 1.311, 1.311, 1.311,\n",
       "        1.311, 1.311, 1.311, 1.311, 1.311, 1.311, 1.311, 0.52 , 0.52 ,\n",
       "        0.52 , 0.52 , 0.52 , 0.52 , 0.52 , 0.52 , 0.52 , 0.52 , 0.52 ,\n",
       "        0.52 , 0.52 , 0.52 , 0.52 , 0.52 , 0.135, 0.135, 0.135, 0.135,\n",
       "        0.135, 0.135, 0.135, 0.135, 0.135, 0.135, 0.135, 0.135, 0.135,\n",
       "        0.135, 0.135, 0.135, 0.054, 0.054, 0.054, 0.054, 0.054, 0.054,\n",
       "        0.054, 0.054, 0.054, 0.054, 0.054, 0.054, 0.054, 0.054, 0.054,\n",
       "        0.054],\n",
       "       [1.311, 1.311, 1.311, 1.311, 1.311, 1.311, 1.311, 1.311, 1.311,\n",
       "        1.311, 1.311, 1.311, 1.311, 1.311, 1.311, 1.311, 0.52 , 0.52 ,\n",
       "        0.52 , 0.52 , 0.52 , 0.52 , 0.52 , 0.52 , 0.52 , 0.52 , 0.52 ,\n",
       "        0.52 , 0.52 , 0.52 , 0.52 , 0.52 , 0.135, 0.135, 0.135, 0.135,\n",
       "        0.135, 0.135, 0.135, 0.135, 0.135, 0.135, 0.135, 0.135, 0.135,\n",
       "        0.135, 0.135, 0.135, 0.054, 0.054, 0.054, 0.054, 0.054, 0.054,\n",
       "        0.054, 0.054, 0.054, 0.054, 0.054, 0.054, 0.054, 0.054, 0.054,\n",
       "        0.054],\n",
       "       [1.308, 1.308, 1.308, 1.308, 1.308, 1.308, 1.308, 1.308, 1.308,\n",
       "        1.308, 1.308, 1.308, 1.308, 1.308, 1.308, 1.308, 0.528, 0.528,\n",
       "        0.528, 0.528, 0.528, 0.528, 0.528, 0.528, 0.528, 0.528, 0.528,\n",
       "        0.528, 0.528, 0.528, 0.528, 0.528, 0.   , 0.   , 0.   , 0.   ,\n",
       "        0.   , 0.   , 0.   , 0.   , 0.   , 0.   , 0.   , 0.   , 0.   ,\n",
       "        0.   , 0.   , 0.   , 0.   , 0.   , 0.   , 0.   , 0.   , 0.   ,\n",
       "        0.   , 0.   , 0.   , 0.   , 0.   , 0.   , 0.   , 0.   , 0.   ,\n",
       "        0.   ],\n",
       "       [1.308, 1.308, 1.308, 1.308, 1.308, 1.308, 1.308, 1.308, 1.308,\n",
       "        1.308, 1.308, 1.308, 1.308, 1.308, 1.308, 1.308, 0.528, 0.528,\n",
       "        0.528, 0.528, 0.528, 0.528, 0.528, 0.528, 0.528, 0.528, 0.528,\n",
       "        0.528, 0.528, 0.528, 0.528, 0.528, 0.   , 0.   , 0.   , 0.   ,\n",
       "        0.   , 0.   , 0.   , 0.   , 0.   , 0.   , 0.   , 0.   , 0.   ,\n",
       "        0.   , 0.   , 0.   , 0.   , 0.   , 0.   , 0.   , 0.   , 0.   ,\n",
       "        0.   , 0.   , 0.   , 0.   , 0.   , 0.   , 0.   , 0.   , 0.   ,\n",
       "        0.   ]])"
      ]
     },
     "execution_count": 65,
     "metadata": {},
     "output_type": "execute_result"
    }
   ],
   "source": [
    "right_ratios_and_norms[9][\"base_sing_vals_1\"]"
   ]
  },
  {
   "cell_type": "code",
   "execution_count": 66,
   "id": "0920080a-6d18-4365-b77c-71a29284cf5a",
   "metadata": {},
   "outputs": [
    {
     "data": {
      "text/plain": [
       "array([[1.392e+00, 1.388e+00, 1.388e+00, 1.385e+00, 1.368e+00, 1.368e+00,\n",
       "        1.364e+00, 1.364e+00, 1.346e+00, 1.014e+00, 1.014e+00, 1.013e+00,\n",
       "        1.013e+00, 1.004e+00, 1.003e+00, 1.003e+00, 1.003e+00, 1.002e+00,\n",
       "        1.002e+00, 1.000e+00, 9.900e-01, 9.820e-01, 9.750e-01, 9.400e-01,\n",
       "        9.400e-01, 2.910e-01, 2.870e-01, 2.870e-01, 2.820e-01, 2.720e-01,\n",
       "        2.720e-01, 2.650e-01, 2.650e-01, 2.460e-01, 1.830e-01, 1.770e-01,\n",
       "        1.710e-01, 1.680e-01, 1.680e-01, 1.680e-01, 1.680e-01, 1.680e-01,\n",
       "        1.450e-01, 1.450e-01, 1.440e-01, 1.440e-01, 6.400e-02, 6.200e-02,\n",
       "        6.200e-02, 6.000e-02, 5.700e-02, 5.700e-02, 5.400e-02, 5.400e-02,\n",
       "        5.100e-02, 1.300e-02, 1.300e-02, 1.300e-02, 1.300e-02, 1.100e-02,\n",
       "        1.100e-02, 1.100e-02, 1.100e-02, 9.000e-03],\n",
       "       [1.392e+00, 1.388e+00, 1.388e+00, 1.385e+00, 1.368e+00, 1.368e+00,\n",
       "        1.364e+00, 1.364e+00, 1.346e+00, 1.014e+00, 1.014e+00, 1.013e+00,\n",
       "        1.013e+00, 1.004e+00, 1.003e+00, 1.003e+00, 1.003e+00, 1.002e+00,\n",
       "        1.002e+00, 1.000e+00, 9.900e-01, 9.820e-01, 9.750e-01, 9.400e-01,\n",
       "        9.400e-01, 2.910e-01, 2.870e-01, 2.870e-01, 2.820e-01, 2.720e-01,\n",
       "        2.720e-01, 2.650e-01, 2.650e-01, 2.460e-01, 1.830e-01, 1.770e-01,\n",
       "        1.710e-01, 1.680e-01, 1.680e-01, 1.680e-01, 1.680e-01, 1.680e-01,\n",
       "        1.450e-01, 1.450e-01, 1.440e-01, 1.440e-01, 6.400e-02, 6.200e-02,\n",
       "        6.200e-02, 6.000e-02, 5.700e-02, 5.700e-02, 5.400e-02, 5.400e-02,\n",
       "        5.100e-02, 1.300e-02, 1.300e-02, 1.300e-02, 1.300e-02, 1.100e-02,\n",
       "        1.100e-02, 1.100e-02, 1.100e-02, 9.000e-03],\n",
       "       [1.392e+00, 1.388e+00, 1.388e+00, 1.384e+00, 1.368e+00, 1.368e+00,\n",
       "        1.365e+00, 1.365e+00, 1.345e+00, 1.026e+00, 1.008e+00, 1.008e+00,\n",
       "        1.004e+00, 1.004e+00, 9.970e-01, 9.970e-01, 9.930e-01, 9.930e-01,\n",
       "        9.920e-01, 9.910e-01, 9.760e-01, 3.790e-01, 3.730e-01, 2.940e-01,\n",
       "        2.940e-01, 2.920e-01, 2.880e-01, 2.770e-01, 2.770e-01, 2.700e-01,\n",
       "        2.700e-01, 2.580e-01, 2.510e-01, 2.310e-01, 1.270e-01, 1.240e-01,\n",
       "        1.090e-01, 1.090e-01, 1.080e-01, 1.080e-01, 9.800e-02, 9.800e-02,\n",
       "        9.600e-02, 9.600e-02, 3.000e-03, 3.000e-03, 3.000e-03, 2.000e-03,\n",
       "        2.000e-03, 1.000e-03, 1.000e-03, 1.000e-03, 0.000e+00, 0.000e+00,\n",
       "        0.000e+00, 0.000e+00, 0.000e+00, 0.000e+00, 0.000e+00, 0.000e+00,\n",
       "        0.000e+00, 0.000e+00, 0.000e+00, 0.000e+00],\n",
       "       [1.392e+00, 1.388e+00, 1.388e+00, 1.384e+00, 1.368e+00, 1.368e+00,\n",
       "        1.365e+00, 1.365e+00, 1.345e+00, 1.026e+00, 1.008e+00, 1.008e+00,\n",
       "        1.004e+00, 1.004e+00, 9.970e-01, 9.970e-01, 9.930e-01, 9.930e-01,\n",
       "        9.920e-01, 9.910e-01, 9.760e-01, 3.790e-01, 3.730e-01, 2.940e-01,\n",
       "        2.940e-01, 2.920e-01, 2.880e-01, 2.770e-01, 2.770e-01, 2.700e-01,\n",
       "        2.700e-01, 2.580e-01, 2.510e-01, 2.310e-01, 1.270e-01, 1.240e-01,\n",
       "        1.090e-01, 1.090e-01, 1.080e-01, 1.080e-01, 9.800e-02, 9.800e-02,\n",
       "        9.600e-02, 9.600e-02, 3.000e-03, 3.000e-03, 3.000e-03, 2.000e-03,\n",
       "        2.000e-03, 1.000e-03, 1.000e-03, 1.000e-03, 0.000e+00, 0.000e+00,\n",
       "        0.000e+00, 0.000e+00, 0.000e+00, 0.000e+00, 0.000e+00, 0.000e+00,\n",
       "        0.000e+00, 0.000e+00, 0.000e+00, 0.000e+00]])"
      ]
     },
     "execution_count": 66,
     "metadata": {},
     "output_type": "execute_result"
    }
   ],
   "source": [
    "right_ratios_and_norms[11][\"base_sing_vals_1\"]"
   ]
  },
  {
   "cell_type": "code",
   "execution_count": 67,
   "id": "f70b2d3b-b422-4a9b-bfd3-e43c6f638acc",
   "metadata": {},
   "outputs": [
    {
     "data": {
      "text/plain": [
       "array([[1.387, 1.387, 1.387, 1.387, 1.343, 1.343, 1.343, 1.343, 1.307,\n",
       "        1.   , 1.   , 1.   , 1.   , 0.999, 0.999, 0.999, 0.999, 0.999,\n",
       "        0.999, 0.999, 0.999, 0.998, 0.998, 0.998, 0.998, 0.52 , 0.4  ,\n",
       "        0.4  , 0.4  , 0.4  , 0.359, 0.359, 0.359, 0.359, 0.187, 0.137,\n",
       "        0.137, 0.137, 0.137, 0.086, 0.086, 0.086, 0.086, 0.085, 0.085,\n",
       "        0.085, 0.085, 0.074, 0.051, 0.051, 0.05 , 0.05 , 0.029, 0.028,\n",
       "        0.028, 0.028, 0.015, 0.015, 0.015, 0.015, 0.003, 0.003, 0.003,\n",
       "        0.003],\n",
       "       [1.387, 1.387, 1.387, 1.387, 1.343, 1.343, 1.343, 1.343, 1.307,\n",
       "        1.   , 1.   , 1.   , 1.   , 0.999, 0.999, 0.999, 0.999, 0.999,\n",
       "        0.999, 0.999, 0.999, 0.998, 0.998, 0.998, 0.998, 0.52 , 0.4  ,\n",
       "        0.4  , 0.4  , 0.4  , 0.359, 0.359, 0.359, 0.359, 0.187, 0.137,\n",
       "        0.137, 0.137, 0.137, 0.086, 0.086, 0.086, 0.086, 0.085, 0.085,\n",
       "        0.085, 0.085, 0.074, 0.051, 0.051, 0.05 , 0.05 , 0.029, 0.028,\n",
       "        0.028, 0.028, 0.015, 0.015, 0.015, 0.015, 0.003, 0.003, 0.003,\n",
       "        0.003],\n",
       "       [1.387, 1.387, 1.387, 1.387, 1.344, 1.344, 1.344, 1.344, 1.302,\n",
       "        1.024, 1.024, 1.024, 1.024, 0.996, 0.996, 0.996, 0.996, 0.949,\n",
       "        0.949, 0.949, 0.949, 0.535, 0.408, 0.408, 0.408, 0.408, 0.246,\n",
       "        0.246, 0.246, 0.246, 0.184, 0.184, 0.184, 0.184, 0.142, 0.142,\n",
       "        0.142, 0.141, 0.057, 0.057, 0.057, 0.057, 0.013, 0.013, 0.013,\n",
       "        0.013, 0.004, 0.004, 0.004, 0.004, 0.   , 0.   , 0.   , 0.   ,\n",
       "        0.   , 0.   , 0.   , 0.   , 0.   , 0.   , 0.   , 0.   , 0.   ,\n",
       "        0.   ],\n",
       "       [1.387, 1.387, 1.387, 1.387, 1.344, 1.344, 1.344, 1.344, 1.302,\n",
       "        1.024, 1.024, 1.024, 1.024, 0.996, 0.996, 0.996, 0.996, 0.949,\n",
       "        0.949, 0.949, 0.949, 0.535, 0.408, 0.408, 0.408, 0.408, 0.246,\n",
       "        0.246, 0.246, 0.246, 0.184, 0.184, 0.184, 0.184, 0.142, 0.142,\n",
       "        0.142, 0.141, 0.057, 0.057, 0.057, 0.057, 0.013, 0.013, 0.013,\n",
       "        0.013, 0.004, 0.004, 0.004, 0.004, 0.   , 0.   , 0.   , 0.   ,\n",
       "        0.   , 0.   , 0.   , 0.   , 0.   , 0.   , 0.   , 0.   , 0.   ,\n",
       "        0.   ]])"
      ]
     },
     "execution_count": 67,
     "metadata": {},
     "output_type": "execute_result"
    }
   ],
   "source": [
    "right_ratios_and_norms[15][\"base_sing_vals_1\"]"
   ]
  },
  {
   "cell_type": "code",
   "execution_count": 68,
   "id": "c9d488e1-d427-438e-ba2b-fdc2a8a52a0a",
   "metadata": {},
   "outputs": [
    {
     "data": {
      "text/plain": [
       "array([[1.401e+00, 1.401e+00, 1.401e+00, 1.401e+00, 1.377e+00, 1.377e+00,\n",
       "        1.377e+00, 1.377e+00, 1.356e+00, 1.000e+00, 1.000e+00, 1.000e+00,\n",
       "        1.000e+00, 1.000e+00, 1.000e+00, 1.000e+00, 1.000e+00, 1.000e+00,\n",
       "        1.000e+00, 1.000e+00, 1.000e+00, 9.990e-01, 9.990e-01, 9.990e-01,\n",
       "        9.990e-01, 3.830e-01, 2.900e-01, 2.900e-01, 2.900e-01, 2.900e-01,\n",
       "        2.600e-01, 2.600e-01, 2.600e-01, 2.600e-01, 1.330e-01, 7.800e-02,\n",
       "        7.800e-02, 7.800e-02, 7.800e-02, 4.800e-02, 4.800e-02, 4.800e-02,\n",
       "        4.800e-02, 4.800e-02, 4.800e-02, 4.800e-02, 4.800e-02, 3.700e-02,\n",
       "        2.800e-02, 2.800e-02, 2.800e-02, 2.800e-02, 1.600e-02, 1.600e-02,\n",
       "        1.600e-02, 1.600e-02, 6.000e-03, 6.000e-03, 6.000e-03, 6.000e-03,\n",
       "        1.000e-03, 1.000e-03, 1.000e-03, 1.000e-03],\n",
       "       [1.401e+00, 1.401e+00, 1.401e+00, 1.401e+00, 1.377e+00, 1.377e+00,\n",
       "        1.377e+00, 1.377e+00, 1.356e+00, 1.000e+00, 1.000e+00, 1.000e+00,\n",
       "        1.000e+00, 1.000e+00, 1.000e+00, 1.000e+00, 1.000e+00, 1.000e+00,\n",
       "        1.000e+00, 1.000e+00, 1.000e+00, 9.990e-01, 9.990e-01, 9.990e-01,\n",
       "        9.990e-01, 3.830e-01, 2.900e-01, 2.900e-01, 2.900e-01, 2.900e-01,\n",
       "        2.600e-01, 2.600e-01, 2.600e-01, 2.600e-01, 1.330e-01, 7.800e-02,\n",
       "        7.800e-02, 7.800e-02, 7.800e-02, 4.800e-02, 4.800e-02, 4.800e-02,\n",
       "        4.800e-02, 4.800e-02, 4.800e-02, 4.800e-02, 4.800e-02, 3.700e-02,\n",
       "        2.800e-02, 2.800e-02, 2.800e-02, 2.800e-02, 1.600e-02, 1.600e-02,\n",
       "        1.600e-02, 1.600e-02, 6.000e-03, 6.000e-03, 6.000e-03, 6.000e-03,\n",
       "        1.000e-03, 1.000e-03, 1.000e-03, 1.000e-03],\n",
       "       [1.401e+00, 1.401e+00, 1.401e+00, 1.401e+00, 1.378e+00, 1.378e+00,\n",
       "        1.378e+00, 1.378e+00, 1.355e+00, 1.014e+00, 1.014e+00, 1.014e+00,\n",
       "        1.014e+00, 9.990e-01, 9.990e-01, 9.990e-01, 9.990e-01, 9.740e-01,\n",
       "        9.740e-01, 9.740e-01, 9.740e-01, 3.990e-01, 2.940e-01, 2.940e-01,\n",
       "        2.940e-01, 2.940e-01, 1.800e-01, 1.800e-01, 1.800e-01, 1.800e-01,\n",
       "        1.310e-01, 1.310e-01, 1.310e-01, 1.310e-01, 8.000e-02, 8.000e-02,\n",
       "        8.000e-02, 8.000e-02, 3.200e-02, 3.200e-02, 3.200e-02, 3.200e-02,\n",
       "        7.000e-03, 7.000e-03, 7.000e-03, 7.000e-03, 2.000e-03, 2.000e-03,\n",
       "        2.000e-03, 2.000e-03, 0.000e+00, 0.000e+00, 0.000e+00, 0.000e+00,\n",
       "        0.000e+00, 0.000e+00, 0.000e+00, 0.000e+00, 0.000e+00, 0.000e+00,\n",
       "        0.000e+00, 0.000e+00, 0.000e+00, 0.000e+00],\n",
       "       [1.401e+00, 1.401e+00, 1.401e+00, 1.401e+00, 1.378e+00, 1.378e+00,\n",
       "        1.378e+00, 1.378e+00, 1.355e+00, 1.014e+00, 1.014e+00, 1.014e+00,\n",
       "        1.014e+00, 9.990e-01, 9.990e-01, 9.990e-01, 9.990e-01, 9.740e-01,\n",
       "        9.740e-01, 9.740e-01, 9.740e-01, 3.990e-01, 2.940e-01, 2.940e-01,\n",
       "        2.940e-01, 2.940e-01, 1.800e-01, 1.800e-01, 1.800e-01, 1.800e-01,\n",
       "        1.310e-01, 1.310e-01, 1.310e-01, 1.310e-01, 8.000e-02, 8.000e-02,\n",
       "        8.000e-02, 8.000e-02, 3.200e-02, 3.200e-02, 3.200e-02, 3.200e-02,\n",
       "        7.000e-03, 7.000e-03, 7.000e-03, 7.000e-03, 2.000e-03, 2.000e-03,\n",
       "        2.000e-03, 2.000e-03, 0.000e+00, 0.000e+00, 0.000e+00, 0.000e+00,\n",
       "        0.000e+00, 0.000e+00, 0.000e+00, 0.000e+00, 0.000e+00, 0.000e+00,\n",
       "        0.000e+00, 0.000e+00, 0.000e+00, 0.000e+00]])"
      ]
     },
     "execution_count": 68,
     "metadata": {},
     "output_type": "execute_result"
    }
   ],
   "source": [
    "right_ratios_and_norms[20][\"base_sing_vals_1\"]"
   ]
  },
  {
   "cell_type": "markdown",
   "id": "42b635ce-1e38-4b6b-87ab-bfdac2332b76",
   "metadata": {},
   "source": [
    "Conclusions:\n",
    "* The 4 groups of 16 fold degenerate singular values seems peculiar to the non trivial phase, and so is likely a result of entanglement spectrum degeneracy.\n",
    "* Regardless of B, the transfer matrices seem to have a similar maximum singular value (operator norm) of about 1.4"
   ]
  },
  {
   "cell_type": "markdown",
   "id": "f5a8eacb-a2cf-406c-bb0d-68ab559ba8b3",
   "metadata": {},
   "source": [
    "### Singular values 2"
   ]
  },
  {
   "cell_type": "code",
   "execution_count": 69,
   "id": "2706369d-5291-490b-ab93-991ae2eeeb23",
   "metadata": {},
   "outputs": [
    {
     "data": {
      "text/plain": [
       "array([[1., 1., 0., 0.],\n",
       "       [1., 1., 0., 0.],\n",
       "       [1., 1., 0., 0.],\n",
       "       [1., 1., 0., 0.]])"
      ]
     },
     "execution_count": 69,
     "metadata": {},
     "output_type": "execute_result"
    }
   ],
   "source": [
    "right_ratios_and_norms[0][\"base_sing_vals_2\"]"
   ]
  },
  {
   "cell_type": "code",
   "execution_count": 70,
   "id": "d9f6941b-ae37-4a64-abb4-d9f27ebd395e",
   "metadata": {},
   "outputs": [
    {
     "data": {
      "text/plain": [
       "array([[1.413e+00, 1.413e+00, 1.413e+00, 1.413e+00, 1.413e+00, 1.413e+00,\n",
       "        1.413e+00, 1.413e+00, 1.413e+00, 1.413e+00, 1.413e+00, 1.413e+00,\n",
       "        1.413e+00, 1.413e+00, 1.413e+00, 1.413e+00, 5.000e-02, 5.000e-02,\n",
       "        5.000e-02, 5.000e-02, 5.000e-02, 5.000e-02, 5.000e-02, 5.000e-02,\n",
       "        5.000e-02, 5.000e-02, 5.000e-02, 5.000e-02, 5.000e-02, 5.000e-02,\n",
       "        5.000e-02, 5.000e-02, 1.000e-03, 1.000e-03, 1.000e-03, 1.000e-03,\n",
       "        1.000e-03, 1.000e-03, 1.000e-03, 1.000e-03, 1.000e-03, 1.000e-03,\n",
       "        1.000e-03, 1.000e-03, 1.000e-03, 1.000e-03, 1.000e-03, 1.000e-03,\n",
       "        0.000e+00, 0.000e+00, 0.000e+00, 0.000e+00, 0.000e+00, 0.000e+00,\n",
       "        0.000e+00, 0.000e+00, 0.000e+00, 0.000e+00, 0.000e+00, 0.000e+00,\n",
       "        0.000e+00, 0.000e+00, 0.000e+00, 0.000e+00],\n",
       "       [1.413e+00, 1.413e+00, 1.413e+00, 1.413e+00, 1.413e+00, 1.413e+00,\n",
       "        1.413e+00, 1.413e+00, 1.413e+00, 1.413e+00, 1.413e+00, 1.413e+00,\n",
       "        1.413e+00, 1.413e+00, 1.413e+00, 1.413e+00, 5.000e-02, 5.000e-02,\n",
       "        5.000e-02, 5.000e-02, 5.000e-02, 5.000e-02, 5.000e-02, 5.000e-02,\n",
       "        5.000e-02, 5.000e-02, 5.000e-02, 5.000e-02, 5.000e-02, 5.000e-02,\n",
       "        5.000e-02, 5.000e-02, 1.000e-03, 1.000e-03, 1.000e-03, 1.000e-03,\n",
       "        1.000e-03, 1.000e-03, 1.000e-03, 1.000e-03, 1.000e-03, 1.000e-03,\n",
       "        1.000e-03, 1.000e-03, 1.000e-03, 1.000e-03, 1.000e-03, 1.000e-03,\n",
       "        0.000e+00, 0.000e+00, 0.000e+00, 0.000e+00, 0.000e+00, 0.000e+00,\n",
       "        0.000e+00, 0.000e+00, 0.000e+00, 0.000e+00, 0.000e+00, 0.000e+00,\n",
       "        0.000e+00, 0.000e+00, 0.000e+00, 0.000e+00],\n",
       "       [1.413e+00, 1.413e+00, 1.413e+00, 1.413e+00, 1.413e+00, 1.413e+00,\n",
       "        1.413e+00, 1.413e+00, 1.413e+00, 1.413e+00, 1.413e+00, 1.413e+00,\n",
       "        1.413e+00, 1.413e+00, 1.413e+00, 1.413e+00, 5.000e-02, 5.000e-02,\n",
       "        5.000e-02, 5.000e-02, 5.000e-02, 5.000e-02, 5.000e-02, 5.000e-02,\n",
       "        5.000e-02, 5.000e-02, 5.000e-02, 5.000e-02, 5.000e-02, 5.000e-02,\n",
       "        5.000e-02, 5.000e-02, 0.000e+00, 0.000e+00, 0.000e+00, 0.000e+00,\n",
       "        0.000e+00, 0.000e+00, 0.000e+00, 0.000e+00, 0.000e+00, 0.000e+00,\n",
       "        0.000e+00, 0.000e+00, 0.000e+00, 0.000e+00, 0.000e+00, 0.000e+00,\n",
       "        0.000e+00, 0.000e+00, 0.000e+00, 0.000e+00, 0.000e+00, 0.000e+00,\n",
       "        0.000e+00, 0.000e+00, 0.000e+00, 0.000e+00, 0.000e+00, 0.000e+00,\n",
       "        0.000e+00, 0.000e+00, 0.000e+00, 0.000e+00],\n",
       "       [1.413e+00, 1.413e+00, 1.413e+00, 1.413e+00, 1.413e+00, 1.413e+00,\n",
       "        1.413e+00, 1.413e+00, 1.413e+00, 1.413e+00, 1.413e+00, 1.413e+00,\n",
       "        1.413e+00, 1.413e+00, 1.413e+00, 1.413e+00, 5.000e-02, 5.000e-02,\n",
       "        5.000e-02, 5.000e-02, 5.000e-02, 5.000e-02, 5.000e-02, 5.000e-02,\n",
       "        5.000e-02, 5.000e-02, 5.000e-02, 5.000e-02, 5.000e-02, 5.000e-02,\n",
       "        5.000e-02, 5.000e-02, 0.000e+00, 0.000e+00, 0.000e+00, 0.000e+00,\n",
       "        0.000e+00, 0.000e+00, 0.000e+00, 0.000e+00, 0.000e+00, 0.000e+00,\n",
       "        0.000e+00, 0.000e+00, 0.000e+00, 0.000e+00, 0.000e+00, 0.000e+00,\n",
       "        0.000e+00, 0.000e+00, 0.000e+00, 0.000e+00, 0.000e+00, 0.000e+00,\n",
       "        0.000e+00, 0.000e+00, 0.000e+00, 0.000e+00, 0.000e+00, 0.000e+00,\n",
       "        0.000e+00, 0.000e+00, 0.000e+00, 0.000e+00]])"
      ]
     },
     "execution_count": 70,
     "metadata": {},
     "output_type": "execute_result"
    }
   ],
   "source": [
    "right_ratios_and_norms[1][\"base_sing_vals_2\"]"
   ]
  },
  {
   "cell_type": "code",
   "execution_count": 71,
   "id": "7493c880-0f1b-4ef6-8579-9b109ef4ccc1",
   "metadata": {},
   "outputs": [
    {
     "data": {
      "text/plain": [
       "array([[1.39 , 1.39 , 1.39 , 1.39 , 1.39 , 1.39 , 1.39 , 1.39 , 1.39 ,\n",
       "        1.39 , 1.39 , 1.39 , 1.39 , 1.39 , 1.39 , 1.39 , 0.259, 0.259,\n",
       "        0.259, 0.259, 0.259, 0.259, 0.259, 0.259, 0.259, 0.259, 0.259,\n",
       "        0.259, 0.259, 0.259, 0.259, 0.259, 0.033, 0.033, 0.033, 0.033,\n",
       "        0.033, 0.033, 0.033, 0.033, 0.033, 0.033, 0.033, 0.033, 0.033,\n",
       "        0.033, 0.033, 0.033, 0.006, 0.006, 0.006, 0.006, 0.006, 0.006,\n",
       "        0.006, 0.006, 0.006, 0.006, 0.006, 0.006, 0.006, 0.006, 0.006,\n",
       "        0.006],\n",
       "       [1.39 , 1.39 , 1.39 , 1.39 , 1.39 , 1.39 , 1.39 , 1.39 , 1.39 ,\n",
       "        1.39 , 1.39 , 1.39 , 1.39 , 1.39 , 1.39 , 1.39 , 0.259, 0.259,\n",
       "        0.259, 0.259, 0.259, 0.259, 0.259, 0.259, 0.259, 0.259, 0.259,\n",
       "        0.259, 0.259, 0.259, 0.259, 0.259, 0.033, 0.033, 0.033, 0.033,\n",
       "        0.033, 0.033, 0.033, 0.033, 0.033, 0.033, 0.033, 0.033, 0.033,\n",
       "        0.033, 0.033, 0.033, 0.006, 0.006, 0.006, 0.006, 0.006, 0.006,\n",
       "        0.006, 0.006, 0.006, 0.006, 0.006, 0.006, 0.006, 0.006, 0.006,\n",
       "        0.006],\n",
       "       [1.39 , 1.39 , 1.39 , 1.39 , 1.39 , 1.39 , 1.39 , 1.39 , 1.39 ,\n",
       "        1.39 , 1.39 , 1.39 , 1.39 , 1.39 , 1.39 , 1.39 , 0.261, 0.261,\n",
       "        0.261, 0.261, 0.261, 0.261, 0.261, 0.261, 0.261, 0.261, 0.261,\n",
       "        0.261, 0.261, 0.261, 0.261, 0.261, 0.   , 0.   , 0.   , 0.   ,\n",
       "        0.   , 0.   , 0.   , 0.   , 0.   , 0.   , 0.   , 0.   , 0.   ,\n",
       "        0.   , 0.   , 0.   , 0.   , 0.   , 0.   , 0.   , 0.   , 0.   ,\n",
       "        0.   , 0.   , 0.   , 0.   , 0.   , 0.   , 0.   , 0.   , 0.   ,\n",
       "        0.   ],\n",
       "       [1.39 , 1.39 , 1.39 , 1.39 , 1.39 , 1.39 , 1.39 , 1.39 , 1.39 ,\n",
       "        1.39 , 1.39 , 1.39 , 1.39 , 1.39 , 1.39 , 1.39 , 0.261, 0.261,\n",
       "        0.261, 0.261, 0.261, 0.261, 0.261, 0.261, 0.261, 0.261, 0.261,\n",
       "        0.261, 0.261, 0.261, 0.261, 0.261, 0.   , 0.   , 0.   , 0.   ,\n",
       "        0.   , 0.   , 0.   , 0.   , 0.   , 0.   , 0.   , 0.   , 0.   ,\n",
       "        0.   , 0.   , 0.   , 0.   , 0.   , 0.   , 0.   , 0.   , 0.   ,\n",
       "        0.   , 0.   , 0.   , 0.   , 0.   , 0.   , 0.   , 0.   , 0.   ,\n",
       "        0.   ]])"
      ]
     },
     "execution_count": 71,
     "metadata": {},
     "output_type": "execute_result"
    }
   ],
   "source": [
    "right_ratios_and_norms[5][\"base_sing_vals_2\"]"
   ]
  },
  {
   "cell_type": "code",
   "execution_count": 72,
   "id": "82bd6bf0-d48a-48a8-90e9-db8aa4c3bb0d",
   "metadata": {},
   "outputs": [
    {
     "data": {
      "text/plain": [
       "array([[1.311, 1.311, 1.311, 1.311, 1.311, 1.311, 1.311, 1.311, 1.311,\n",
       "        1.311, 1.311, 1.311, 1.311, 1.311, 1.311, 1.311, 0.521, 0.521,\n",
       "        0.521, 0.521, 0.521, 0.521, 0.521, 0.521, 0.521, 0.521, 0.521,\n",
       "        0.521, 0.521, 0.521, 0.521, 0.521, 0.135, 0.135, 0.135, 0.135,\n",
       "        0.135, 0.135, 0.135, 0.135, 0.135, 0.135, 0.135, 0.135, 0.135,\n",
       "        0.135, 0.135, 0.135, 0.054, 0.054, 0.054, 0.054, 0.054, 0.054,\n",
       "        0.054, 0.054, 0.054, 0.054, 0.054, 0.054, 0.054, 0.054, 0.054,\n",
       "        0.054],\n",
       "       [1.311, 1.311, 1.311, 1.311, 1.311, 1.311, 1.311, 1.311, 1.311,\n",
       "        1.311, 1.311, 1.311, 1.311, 1.311, 1.311, 1.311, 0.521, 0.521,\n",
       "        0.521, 0.521, 0.521, 0.521, 0.521, 0.521, 0.521, 0.521, 0.521,\n",
       "        0.521, 0.521, 0.521, 0.521, 0.521, 0.135, 0.135, 0.135, 0.135,\n",
       "        0.135, 0.135, 0.135, 0.135, 0.135, 0.135, 0.135, 0.135, 0.135,\n",
       "        0.135, 0.135, 0.135, 0.054, 0.054, 0.054, 0.054, 0.054, 0.054,\n",
       "        0.054, 0.054, 0.054, 0.054, 0.054, 0.054, 0.054, 0.054, 0.054,\n",
       "        0.054],\n",
       "       [1.308, 1.308, 1.308, 1.308, 1.308, 1.308, 1.308, 1.308, 1.308,\n",
       "        1.308, 1.308, 1.308, 1.308, 1.308, 1.308, 1.308, 0.529, 0.529,\n",
       "        0.529, 0.529, 0.529, 0.529, 0.529, 0.529, 0.529, 0.529, 0.529,\n",
       "        0.529, 0.529, 0.529, 0.529, 0.529, 0.   , 0.   , 0.   , 0.   ,\n",
       "        0.   , 0.   , 0.   , 0.   , 0.   , 0.   , 0.   , 0.   , 0.   ,\n",
       "        0.   , 0.   , 0.   , 0.   , 0.   , 0.   , 0.   , 0.   , 0.   ,\n",
       "        0.   , 0.   , 0.   , 0.   , 0.   , 0.   , 0.   , 0.   , 0.   ,\n",
       "        0.   ],\n",
       "       [1.308, 1.308, 1.308, 1.308, 1.308, 1.308, 1.308, 1.308, 1.308,\n",
       "        1.308, 1.308, 1.308, 1.308, 1.308, 1.308, 1.308, 0.529, 0.529,\n",
       "        0.529, 0.529, 0.529, 0.529, 0.529, 0.529, 0.529, 0.529, 0.529,\n",
       "        0.529, 0.529, 0.529, 0.529, 0.529, 0.   , 0.   , 0.   , 0.   ,\n",
       "        0.   , 0.   , 0.   , 0.   , 0.   , 0.   , 0.   , 0.   , 0.   ,\n",
       "        0.   , 0.   , 0.   , 0.   , 0.   , 0.   , 0.   , 0.   , 0.   ,\n",
       "        0.   , 0.   , 0.   , 0.   , 0.   , 0.   , 0.   , 0.   , 0.   ,\n",
       "        0.   ]])"
      ]
     },
     "execution_count": 72,
     "metadata": {},
     "output_type": "execute_result"
    }
   ],
   "source": [
    "right_ratios_and_norms[9][\"base_sing_vals_2\"]"
   ]
  },
  {
   "cell_type": "code",
   "execution_count": 73,
   "id": "3e0998c4-c36c-4e5e-9a3b-48d450baf641",
   "metadata": {},
   "outputs": [
    {
     "data": {
      "text/plain": [
       "array([[1.354, 1.305, 1.305, 1.269, 1.204, 1.204, 1.187, 1.186, 1.136,\n",
       "        1.002, 1.002, 1.002, 1.001, 1.001, 0.999, 0.997, 0.996, 0.996,\n",
       "        0.993, 0.969, 0.969, 0.964, 0.963, 0.963, 0.962, 0.823, 0.753,\n",
       "        0.748, 0.666, 0.666, 0.644, 0.644, 0.642, 0.642, 0.609, 0.464,\n",
       "        0.464, 0.422, 0.399, 0.399, 0.396, 0.396, 0.305, 0.267, 0.255,\n",
       "        0.21 , 0.168, 0.163, 0.162, 0.136, 0.135, 0.134, 0.133, 0.092,\n",
       "        0.092, 0.079, 0.064, 0.064, 0.053, 0.053, 0.041, 0.023, 0.023,\n",
       "        0.007],\n",
       "       [1.354, 1.305, 1.305, 1.269, 1.204, 1.204, 1.187, 1.186, 1.136,\n",
       "        1.002, 1.002, 1.002, 1.001, 1.001, 0.999, 0.997, 0.996, 0.996,\n",
       "        0.993, 0.969, 0.969, 0.964, 0.963, 0.963, 0.962, 0.823, 0.753,\n",
       "        0.748, 0.666, 0.666, 0.644, 0.644, 0.642, 0.642, 0.609, 0.464,\n",
       "        0.464, 0.422, 0.399, 0.399, 0.396, 0.396, 0.305, 0.267, 0.255,\n",
       "        0.21 , 0.168, 0.163, 0.162, 0.136, 0.135, 0.134, 0.133, 0.092,\n",
       "        0.092, 0.079, 0.064, 0.064, 0.053, 0.053, 0.041, 0.023, 0.023,\n",
       "        0.007],\n",
       "       [1.352, 1.308, 1.308, 1.264, 1.213, 1.213, 1.169, 1.168, 1.071,\n",
       "        1.049, 0.991, 0.99 , 0.99 , 0.953, 0.953, 0.918, 0.918, 0.817,\n",
       "        0.817, 0.785, 0.765, 0.765, 0.748, 0.743, 0.683, 0.683, 0.615,\n",
       "        0.477, 0.477, 0.367, 0.296, 0.296, 0.269, 0.269, 0.269, 0.266,\n",
       "        0.257, 0.257, 0.246, 0.246, 0.218, 0.116, 0.112, 0.095, 0.076,\n",
       "        0.071, 0.041, 0.041, 0.035, 0.029, 0.022, 0.022, 0.012, 0.012,\n",
       "        0.005, 0.005, 0.   , 0.   , 0.   , 0.   , 0.   , 0.   , 0.   ,\n",
       "        0.   ],\n",
       "       [1.352, 1.308, 1.308, 1.264, 1.213, 1.213, 1.169, 1.168, 1.071,\n",
       "        1.049, 0.991, 0.99 , 0.99 , 0.953, 0.953, 0.918, 0.918, 0.817,\n",
       "        0.817, 0.785, 0.765, 0.765, 0.748, 0.743, 0.683, 0.683, 0.615,\n",
       "        0.477, 0.477, 0.367, 0.296, 0.296, 0.269, 0.269, 0.269, 0.266,\n",
       "        0.257, 0.257, 0.246, 0.246, 0.218, 0.116, 0.112, 0.095, 0.076,\n",
       "        0.071, 0.041, 0.041, 0.035, 0.029, 0.022, 0.022, 0.012, 0.012,\n",
       "        0.005, 0.005, 0.   , 0.   , 0.   , 0.   , 0.   , 0.   , 0.   ,\n",
       "        0.   ]])"
      ]
     },
     "execution_count": 73,
     "metadata": {},
     "output_type": "execute_result"
    }
   ],
   "source": [
    "right_ratios_and_norms[11][\"base_sing_vals_2\"]"
   ]
  },
  {
   "cell_type": "code",
   "execution_count": 74,
   "id": "3f30a960-d0f8-46f9-95ba-e7dafd0dcece",
   "metadata": {},
   "outputs": [
    {
     "data": {
      "text/plain": [
       "array([[1.387, 1.387, 1.387, 1.387, 1.343, 1.343, 1.343, 1.343, 1.307,\n",
       "        1.   , 1.   , 1.   , 1.   , 0.999, 0.999, 0.999, 0.999, 0.999,\n",
       "        0.999, 0.999, 0.999, 0.998, 0.998, 0.998, 0.998, 0.52 , 0.4  ,\n",
       "        0.4  , 0.4  , 0.4  , 0.359, 0.359, 0.359, 0.359, 0.187, 0.137,\n",
       "        0.137, 0.137, 0.137, 0.086, 0.086, 0.086, 0.086, 0.085, 0.085,\n",
       "        0.085, 0.085, 0.074, 0.051, 0.051, 0.05 , 0.05 , 0.029, 0.028,\n",
       "        0.028, 0.028, 0.015, 0.015, 0.015, 0.015, 0.003, 0.003, 0.003,\n",
       "        0.003],\n",
       "       [1.387, 1.387, 1.387, 1.387, 1.343, 1.343, 1.343, 1.343, 1.307,\n",
       "        1.   , 1.   , 1.   , 1.   , 0.999, 0.999, 0.999, 0.999, 0.999,\n",
       "        0.999, 0.999, 0.999, 0.998, 0.998, 0.998, 0.998, 0.52 , 0.4  ,\n",
       "        0.4  , 0.4  , 0.4  , 0.359, 0.359, 0.359, 0.359, 0.187, 0.137,\n",
       "        0.137, 0.137, 0.137, 0.086, 0.086, 0.086, 0.086, 0.085, 0.085,\n",
       "        0.085, 0.085, 0.074, 0.051, 0.051, 0.05 , 0.05 , 0.029, 0.028,\n",
       "        0.028, 0.028, 0.015, 0.015, 0.015, 0.015, 0.003, 0.003, 0.003,\n",
       "        0.003],\n",
       "       [1.387, 1.387, 1.387, 1.387, 1.344, 1.344, 1.344, 1.344, 1.302,\n",
       "        1.024, 1.024, 1.024, 1.024, 0.996, 0.996, 0.996, 0.996, 0.949,\n",
       "        0.949, 0.949, 0.949, 0.535, 0.408, 0.408, 0.408, 0.408, 0.246,\n",
       "        0.246, 0.246, 0.246, 0.184, 0.184, 0.184, 0.184, 0.142, 0.142,\n",
       "        0.142, 0.141, 0.057, 0.057, 0.057, 0.057, 0.013, 0.013, 0.013,\n",
       "        0.013, 0.004, 0.004, 0.004, 0.004, 0.   , 0.   , 0.   , 0.   ,\n",
       "        0.   , 0.   , 0.   , 0.   , 0.   , 0.   , 0.   , 0.   , 0.   ,\n",
       "        0.   ],\n",
       "       [1.387, 1.387, 1.387, 1.387, 1.344, 1.344, 1.344, 1.344, 1.302,\n",
       "        1.024, 1.024, 1.024, 1.024, 0.996, 0.996, 0.996, 0.996, 0.949,\n",
       "        0.949, 0.949, 0.949, 0.535, 0.408, 0.408, 0.408, 0.408, 0.246,\n",
       "        0.246, 0.246, 0.246, 0.184, 0.184, 0.184, 0.184, 0.142, 0.142,\n",
       "        0.142, 0.141, 0.057, 0.057, 0.057, 0.057, 0.013, 0.013, 0.013,\n",
       "        0.013, 0.004, 0.004, 0.004, 0.004, 0.   , 0.   , 0.   , 0.   ,\n",
       "        0.   , 0.   , 0.   , 0.   , 0.   , 0.   , 0.   , 0.   , 0.   ,\n",
       "        0.   ]])"
      ]
     },
     "execution_count": 74,
     "metadata": {},
     "output_type": "execute_result"
    }
   ],
   "source": [
    "right_ratios_and_norms[15][\"base_sing_vals_2\"]"
   ]
  },
  {
   "cell_type": "code",
   "execution_count": 75,
   "id": "335dca76-6981-4416-821f-f6dd12114b28",
   "metadata": {},
   "outputs": [
    {
     "data": {
      "text/plain": [
       "array([[1.401e+00, 1.401e+00, 1.401e+00, 1.401e+00, 1.377e+00, 1.377e+00,\n",
       "        1.377e+00, 1.377e+00, 1.356e+00, 1.000e+00, 1.000e+00, 1.000e+00,\n",
       "        1.000e+00, 1.000e+00, 1.000e+00, 1.000e+00, 1.000e+00, 1.000e+00,\n",
       "        1.000e+00, 1.000e+00, 1.000e+00, 9.990e-01, 9.990e-01, 9.990e-01,\n",
       "        9.990e-01, 3.830e-01, 2.900e-01, 2.900e-01, 2.900e-01, 2.900e-01,\n",
       "        2.600e-01, 2.600e-01, 2.600e-01, 2.600e-01, 1.330e-01, 7.800e-02,\n",
       "        7.800e-02, 7.800e-02, 7.800e-02, 4.800e-02, 4.800e-02, 4.800e-02,\n",
       "        4.800e-02, 4.800e-02, 4.800e-02, 4.800e-02, 4.800e-02, 3.700e-02,\n",
       "        2.800e-02, 2.800e-02, 2.800e-02, 2.800e-02, 1.600e-02, 1.600e-02,\n",
       "        1.600e-02, 1.600e-02, 6.000e-03, 6.000e-03, 6.000e-03, 6.000e-03,\n",
       "        1.000e-03, 1.000e-03, 1.000e-03, 1.000e-03],\n",
       "       [1.401e+00, 1.401e+00, 1.401e+00, 1.401e+00, 1.377e+00, 1.377e+00,\n",
       "        1.377e+00, 1.377e+00, 1.356e+00, 1.000e+00, 1.000e+00, 1.000e+00,\n",
       "        1.000e+00, 1.000e+00, 1.000e+00, 1.000e+00, 1.000e+00, 1.000e+00,\n",
       "        1.000e+00, 1.000e+00, 1.000e+00, 9.990e-01, 9.990e-01, 9.990e-01,\n",
       "        9.990e-01, 3.830e-01, 2.900e-01, 2.900e-01, 2.900e-01, 2.900e-01,\n",
       "        2.600e-01, 2.600e-01, 2.600e-01, 2.600e-01, 1.330e-01, 7.800e-02,\n",
       "        7.800e-02, 7.800e-02, 7.800e-02, 4.800e-02, 4.800e-02, 4.800e-02,\n",
       "        4.800e-02, 4.800e-02, 4.800e-02, 4.800e-02, 4.800e-02, 3.700e-02,\n",
       "        2.800e-02, 2.800e-02, 2.800e-02, 2.800e-02, 1.600e-02, 1.600e-02,\n",
       "        1.600e-02, 1.600e-02, 6.000e-03, 6.000e-03, 6.000e-03, 6.000e-03,\n",
       "        1.000e-03, 1.000e-03, 1.000e-03, 1.000e-03],\n",
       "       [1.401e+00, 1.401e+00, 1.401e+00, 1.401e+00, 1.378e+00, 1.378e+00,\n",
       "        1.378e+00, 1.378e+00, 1.355e+00, 1.014e+00, 1.014e+00, 1.014e+00,\n",
       "        1.014e+00, 9.990e-01, 9.990e-01, 9.990e-01, 9.990e-01, 9.740e-01,\n",
       "        9.740e-01, 9.740e-01, 9.740e-01, 3.990e-01, 2.940e-01, 2.940e-01,\n",
       "        2.940e-01, 2.940e-01, 1.800e-01, 1.800e-01, 1.800e-01, 1.800e-01,\n",
       "        1.310e-01, 1.310e-01, 1.310e-01, 1.310e-01, 8.000e-02, 8.000e-02,\n",
       "        8.000e-02, 8.000e-02, 3.200e-02, 3.200e-02, 3.200e-02, 3.200e-02,\n",
       "        7.000e-03, 7.000e-03, 7.000e-03, 7.000e-03, 2.000e-03, 2.000e-03,\n",
       "        2.000e-03, 2.000e-03, 0.000e+00, 0.000e+00, 0.000e+00, 0.000e+00,\n",
       "        0.000e+00, 0.000e+00, 0.000e+00, 0.000e+00, 0.000e+00, 0.000e+00,\n",
       "        0.000e+00, 0.000e+00, 0.000e+00, 0.000e+00],\n",
       "       [1.401e+00, 1.401e+00, 1.401e+00, 1.401e+00, 1.378e+00, 1.378e+00,\n",
       "        1.378e+00, 1.378e+00, 1.355e+00, 1.014e+00, 1.014e+00, 1.014e+00,\n",
       "        1.014e+00, 9.990e-01, 9.990e-01, 9.990e-01, 9.990e-01, 9.740e-01,\n",
       "        9.740e-01, 9.740e-01, 9.740e-01, 3.990e-01, 2.940e-01, 2.940e-01,\n",
       "        2.940e-01, 2.940e-01, 1.800e-01, 1.800e-01, 1.800e-01, 1.800e-01,\n",
       "        1.310e-01, 1.310e-01, 1.310e-01, 1.310e-01, 8.000e-02, 8.000e-02,\n",
       "        8.000e-02, 8.000e-02, 3.200e-02, 3.200e-02, 3.200e-02, 3.200e-02,\n",
       "        7.000e-03, 7.000e-03, 7.000e-03, 7.000e-03, 2.000e-03, 2.000e-03,\n",
       "        2.000e-03, 2.000e-03, 0.000e+00, 0.000e+00, 0.000e+00, 0.000e+00,\n",
       "        0.000e+00, 0.000e+00, 0.000e+00, 0.000e+00, 0.000e+00, 0.000e+00,\n",
       "        0.000e+00, 0.000e+00, 0.000e+00, 0.000e+00]])"
      ]
     },
     "execution_count": 75,
     "metadata": {},
     "output_type": "execute_result"
    }
   ],
   "source": [
    "right_ratios_and_norms[20][\"base_sing_vals_2\"]"
   ]
  },
  {
   "cell_type": "markdown",
   "id": "da29134d-f1a3-44f8-806e-6ca14036ef34",
   "metadata": {},
   "source": [
    "Conclusions:\n",
    "* No change from previous case "
   ]
  },
  {
   "cell_type": "markdown",
   "id": "198540cc-9025-43b3-b9f3-d8c6c037f084",
   "metadata": {},
   "source": [
    "### Norms of first virtual points"
   ]
  },
  {
   "cell_type": "code",
   "execution_count": 76,
   "id": "49890d03-784d-48a3-949d-0068b45f38fe",
   "metadata": {},
   "outputs": [
    {
     "name": "stdout",
     "output_type": "stream",
     "text": [
      "\n",
      " i=0\n",
      "count    2003.000000\n",
      "mean        0.665942\n",
      "std         0.235971\n",
      "min         0.012002\n",
      "25%         0.495106\n",
      "50%         0.710266\n",
      "75%         0.863463\n",
      "max         0.999679\n",
      "dtype: float64\n",
      "\n",
      " i=1\n",
      "count    2003.000000\n",
      "mean        0.666329\n",
      "std         0.234877\n",
      "min         0.014683\n",
      "25%         0.495524\n",
      "50%         0.710240\n",
      "75%         0.863287\n",
      "max         0.999667\n",
      "dtype: float64\n",
      "\n",
      " i=2\n",
      "count    2003.000000\n",
      "mean        0.667377\n",
      "std         0.231887\n",
      "min         0.021026\n",
      "25%         0.497994\n",
      "50%         0.710183\n",
      "75%         0.862632\n",
      "max         0.999632\n",
      "dtype: float64\n",
      "\n",
      " i=3\n",
      "count    2003.000000\n",
      "mean        0.668953\n",
      "std         0.227307\n",
      "min         0.029360\n",
      "25%         0.500487\n",
      "50%         0.709096\n",
      "75%         0.862163\n",
      "max         0.999572\n",
      "dtype: float64\n",
      "\n",
      " i=4\n",
      "count    2003.000000\n",
      "mean        0.670967\n",
      "std         0.221303\n",
      "min         0.039360\n",
      "25%         0.506328\n",
      "50%         0.709320\n",
      "75%         0.859121\n",
      "max         0.999484\n",
      "dtype: float64\n",
      "\n",
      " i=5\n",
      "count    2003.000000\n",
      "mean        0.673358\n",
      "std         0.213936\n",
      "min         0.046612\n",
      "25%         0.513316\n",
      "50%         0.710438\n",
      "75%         0.855083\n",
      "max         0.999364\n",
      "dtype: float64\n",
      "\n",
      " i=6\n",
      "count    2003.000000\n",
      "mean        0.676086\n",
      "std         0.205178\n",
      "min         0.054764\n",
      "25%         0.524271\n",
      "50%         0.708506\n",
      "75%         0.849369\n",
      "max         0.999269\n",
      "dtype: float64\n",
      "\n",
      " i=7\n",
      "count    2003.000000\n",
      "mean        0.679133\n",
      "std         0.194894\n",
      "min         0.067958\n",
      "25%         0.535513\n",
      "50%         0.708016\n",
      "75%         0.842119\n",
      "max         0.999240\n",
      "dtype: float64\n",
      "\n",
      " i=8\n",
      "count    2003.000000\n",
      "mean        0.682505\n",
      "std         0.182801\n",
      "min         0.088442\n",
      "25%         0.553167\n",
      "50%         0.707398\n",
      "75%         0.832709\n",
      "max         0.999202\n",
      "dtype: float64\n",
      "\n",
      " i=9\n",
      "count    2003.000000\n",
      "mean        0.686271\n",
      "std         0.168226\n",
      "min         0.122086\n",
      "25%         0.574557\n",
      "50%         0.705727\n",
      "75%         0.814509\n",
      "max         0.999313\n",
      "dtype: float64\n",
      "\n",
      " i=10\n",
      "count    2003.000000\n",
      "mean        0.691696\n",
      "std         0.145101\n",
      "min         0.293894\n",
      "25%         0.591727\n",
      "50%         0.699590\n",
      "75%         0.792812\n",
      "max         0.999062\n",
      "dtype: float64\n",
      "\n",
      " i=11\n",
      "count    2003.000000\n",
      "mean        0.687759\n",
      "std         0.162897\n",
      "min         0.298878\n",
      "25%         0.558921\n",
      "50%         0.702665\n",
      "75%         0.820409\n",
      "max         0.999366\n",
      "dtype: float64\n",
      "\n",
      " i=12\n",
      "count    2003.000000\n",
      "mean        0.684826\n",
      "std         0.174833\n",
      "min         0.282312\n",
      "25%         0.548514\n",
      "50%         0.703976\n",
      "75%         0.831773\n",
      "max         0.998806\n",
      "dtype: float64\n",
      "\n",
      " i=13\n",
      "count    2003.000000\n",
      "mean        0.682455\n",
      "std         0.183863\n",
      "min         0.264015\n",
      "25%         0.540217\n",
      "50%         0.704800\n",
      "75%         0.838550\n",
      "max         0.998783\n",
      "dtype: float64\n",
      "\n",
      " i=14\n",
      "count    2003.000000\n",
      "mean        0.680516\n",
      "std         0.190902\n",
      "min         0.247134\n",
      "25%         0.533484\n",
      "50%         0.706794\n",
      "75%         0.843442\n",
      "max         0.998767\n",
      "dtype: float64\n",
      "\n",
      " i=15\n",
      "count    2003.000000\n",
      "mean        0.678910\n",
      "std         0.196523\n",
      "min         0.231920\n",
      "25%         0.528577\n",
      "50%         0.706605\n",
      "75%         0.846941\n",
      "max         0.998755\n",
      "dtype: float64\n",
      "\n",
      " i=16\n",
      "count    2003.000000\n",
      "mean        0.677564\n",
      "std         0.201104\n",
      "min         0.218292\n",
      "25%         0.525219\n",
      "50%         0.706102\n",
      "75%         0.849758\n",
      "max         0.998745\n",
      "dtype: float64\n",
      "\n",
      " i=17\n",
      "count    2003.000000\n",
      "mean        0.676423\n",
      "std         0.204899\n",
      "min         0.206084\n",
      "25%         0.522447\n",
      "50%         0.706559\n",
      "75%         0.851640\n",
      "max         0.998738\n",
      "dtype: float64\n",
      "\n",
      " i=18\n",
      "count    2003.000000\n",
      "mean        0.675447\n",
      "std         0.208087\n",
      "min         0.195118\n",
      "25%         0.519468\n",
      "50%         0.705708\n",
      "75%         0.852598\n",
      "max         0.998732\n",
      "dtype: float64\n",
      "\n",
      " i=19\n",
      "count    2003.000000\n",
      "mean        0.674604\n",
      "std         0.210796\n",
      "min         0.185234\n",
      "25%         0.517248\n",
      "50%         0.705743\n",
      "75%         0.855537\n",
      "max         0.998727\n",
      "dtype: float64\n",
      "\n",
      " i=20\n",
      "count    2003.000000\n",
      "mean        0.673870\n",
      "std         0.213121\n",
      "min         0.176290\n",
      "25%         0.514550\n",
      "50%         0.706158\n",
      "75%         0.855892\n",
      "max         0.998722\n",
      "dtype: float64\n"
     ]
    }
   ],
   "source": [
    "for i, d in enumerate(right_ratios_and_norms):\n",
    "    print(\"\\n i={}\".format(i))\n",
    "    print(d[\"norm_virtual_points_1_stats\"])"
   ]
  },
  {
   "cell_type": "markdown",
   "id": "17a8018a-c3a9-4864-ad2c-4a05f9769317",
   "metadata": {},
   "source": [
    "Concluisons:\n",
    "Wide spread in values across the board."
   ]
  },
  {
   "cell_type": "markdown",
   "id": "d986b1dd-1e07-47a0-badd-28f0f2a59225",
   "metadata": {},
   "source": [
    "### Max of norm of second virtual points against norm of first virtual point"
   ]
  },
  {
   "cell_type": "code",
   "execution_count": 77,
   "id": "f3ef0ec4-c997-4904-ab5f-7b9d20dad4dc",
   "metadata": {},
   "outputs": [
    {
     "data": {
      "text/plain": [
       "<matplotlib.collections.PathCollection at 0x77a78ecebc90>"
      ]
     },
     "execution_count": 77,
     "metadata": {},
     "output_type": "execute_result"
    },
    {
     "data": {
      "image/png": "[encoded data removed]",
      "text/plain": [
       "<Figure size 800x600 with 1 Axes>"
      ]
     },
     "metadata": {},
     "output_type": "display_data"
    }
   ],
   "source": [
    "i = 0\n",
    "d = right_ratios_and_norms[i]\n",
    "\n",
    "fig, ax = plt.subplots(figsize=(8,6))\n",
    "\n",
    "ax.scatter(d['norms_1'], d['max_norms_2'] ,s=10)"
   ]
  },
  {
   "cell_type": "code",
   "execution_count": 78,
   "id": "6a8fb5de-1fde-437b-84fe-e01f1f2e314f",
   "metadata": {},
   "outputs": [
    {
     "data": {
      "text/plain": [
       "<matplotlib.collections.PathCollection at 0x77a8cc34ef90>"
      ]
     },
     "execution_count": 78,
     "metadata": {},
     "output_type": "execute_result"
    },
    {
     "data": {
      "image/png": "[encoded data removed]",
      "text/plain": [
       "<Figure size 800x600 with 1 Axes>"
      ]
     },
     "metadata": {},
     "output_type": "display_data"
    }
   ],
   "source": [
    "i = 5\n",
    "d = right_ratios_and_norms[i]\n",
    "\n",
    "fig, ax = plt.subplots(figsize=(8,6))\n",
    "\n",
    "ax.scatter(d['norms_1'], d['max_norms_2'] ,s=10)"
   ]
  },
  {
   "cell_type": "code",
   "execution_count": 79,
   "id": "e26d0285-4d3e-43a6-8b45-737a8fe88158",
   "metadata": {},
   "outputs": [
    {
     "data": {
      "text/plain": [
       "<matplotlib.collections.PathCollection at 0x77a8cc34ff50>"
      ]
     },
     "execution_count": 79,
     "metadata": {},
     "output_type": "execute_result"
    },
    {
     "data": {
      "image/png": "[encoded data removed]",
      "text/plain": [
       "<Figure size 800x600 with 1 Axes>"
      ]
     },
     "metadata": {},
     "output_type": "display_data"
    }
   ],
   "source": [
    "i = 9\n",
    "d = right_ratios_and_norms[i]\n",
    "\n",
    "fig, ax = plt.subplots(figsize=(8,6))\n",
    "\n",
    "ax.scatter(d['norms_1'], d['max_norms_2'] ,s=10)"
   ]
  },
  {
   "cell_type": "code",
   "execution_count": 80,
   "id": "64897ed0-ac8b-419a-b273-73b38a5ec27f",
   "metadata": {},
   "outputs": [
    {
     "data": {
      "text/plain": [
       "<matplotlib.collections.PathCollection at 0x77a78eb2d810>"
      ]
     },
     "execution_count": 80,
     "metadata": {},
     "output_type": "execute_result"
    },
    {
     "data": {
      "image/png": "[encoded data removed]",
      "text/plain": [
       "<Figure size 800x600 with 1 Axes>"
      ]
     },
     "metadata": {},
     "output_type": "display_data"
    }
   ],
   "source": [
    "i = 11\n",
    "d = right_ratios_and_norms[i]\n",
    "\n",
    "fig, ax = plt.subplots(figsize=(8,6))\n",
    "\n",
    "ax.scatter(d['norms_1'], d['max_norms_2'] ,s=10)"
   ]
  },
  {
   "cell_type": "code",
   "execution_count": 81,
   "id": "365743c0-b4d4-48cd-8f16-faf028e3492e",
   "metadata": {},
   "outputs": [
    {
     "data": {
      "text/plain": [
       "<matplotlib.collections.PathCollection at 0x77a78e9c3110>"
      ]
     },
     "execution_count": 81,
     "metadata": {},
     "output_type": "execute_result"
    },
    {
     "data": {
      "image/png": "[encoded data removed]",
      "text/plain": [
       "<Figure size 800x600 with 1 Axes>"
      ]
     },
     "metadata": {},
     "output_type": "display_data"
    }
   ],
   "source": [
    "i = 15\n",
    "d = right_ratios_and_norms[i]\n",
    "\n",
    "fig, ax = plt.subplots(figsize=(8,6))\n",
    "\n",
    "ax.scatter(d['norms_1'], d['max_norms_2'] ,s=10)"
   ]
  },
  {
   "cell_type": "code",
   "execution_count": 82,
   "id": "fd7a0704-a705-4661-8ec3-be4c044ead55",
   "metadata": {},
   "outputs": [
    {
     "data": {
      "text/plain": [
       "<matplotlib.collections.PathCollection at 0x77a78ea0af10>"
      ]
     },
     "execution_count": 82,
     "metadata": {},
     "output_type": "execute_result"
    },
    {
     "data": {
      "image/png": "[encoded data removed]",
      "text/plain": [
       "<Figure size 800x600 with 1 Axes>"
      ]
     },
     "metadata": {},
     "output_type": "display_data"
    }
   ],
   "source": [
    "i = 20\n",
    "d = right_ratios_and_norms[i]\n",
    "\n",
    "fig, ax = plt.subplots(figsize=(8,6))\n",
    "\n",
    "ax.scatter(d['norms_1'], d['max_norms_2'] ,s=10)"
   ]
  },
  {
   "cell_type": "markdown",
   "id": "01acc2b0-0845-4ada-9785-040bd7d69850",
   "metadata": {},
   "source": [
    "Conclusions:\n",
    "* Interesting \"tightening\" of the spread depending on B.\n",
    "* In general, a lower prior norm implies a lower future norm. This is surprising, considering the operator norms of the transfer matrices are about 1.4."
   ]
  },
  {
   "cell_type": "markdown",
   "id": "b266e527-970c-461f-8782-680e5dc38814",
   "metadata": {},
   "source": [
    "### Ratio of norms"
   ]
  },
  {
   "cell_type": "code",
   "execution_count": 83,
   "id": "6bb3bfc7-e3b3-40cc-9c2a-56e00071d440",
   "metadata": {},
   "outputs": [
    {
     "name": "stdout",
     "output_type": "stream",
     "text": [
      "\n",
      " i=0\n",
      "count    2003.000000\n",
      "mean        0.899101\n",
      "std         0.093978\n",
      "min         0.000000\n",
      "25%         0.831999\n",
      "50%         0.923894\n",
      "75%         0.980612\n",
      "max         0.999928\n",
      "dtype: float64\n",
      "\n",
      " i=1\n",
      "count    2003.000000\n",
      "mean        0.898333\n",
      "std         0.093452\n",
      "min         0.000000\n",
      "25%         0.831543\n",
      "50%         0.922969\n",
      "75%         0.978851\n",
      "max         0.999638\n",
      "dtype: float64\n",
      "\n",
      " i=2\n",
      "count    2003.000000\n",
      "mean        0.897450\n",
      "std         0.092682\n",
      "min         0.000000\n",
      "25%         0.831474\n",
      "50%         0.920738\n",
      "75%         0.976595\n",
      "max         0.999602\n",
      "dtype: float64\n",
      "\n",
      " i=3\n",
      "count    2003.000000\n",
      "mean        0.897031\n",
      "std         0.091322\n",
      "min         0.000000\n",
      "25%         0.832442\n",
      "50%         0.918371\n",
      "75%         0.974943\n",
      "max         0.999541\n",
      "dtype: float64\n",
      "\n",
      " i=4\n",
      "count    2003.000000\n",
      "mean        0.897327\n",
      "std         0.089439\n",
      "min         0.000000\n",
      "25%         0.834298\n",
      "50%         0.916457\n",
      "75%         0.973301\n",
      "max         0.999467\n",
      "dtype: float64\n",
      "\n",
      " i=5\n",
      "count    2003.000000\n",
      "mean        0.898473\n",
      "std         0.087258\n",
      "min         0.000000\n",
      "25%         0.837059\n",
      "50%         0.916340\n",
      "75%         0.972151\n",
      "max         0.999461\n",
      "dtype: float64\n",
      "\n",
      " i=6\n",
      "count    2003.000000\n",
      "mean        0.900735\n",
      "std         0.084714\n",
      "min         0.000000\n",
      "25%         0.841052\n",
      "50%         0.918933\n",
      "75%         0.971963\n",
      "max         0.999458\n",
      "dtype: float64\n",
      "\n",
      " i=7\n",
      "count    2003.000000\n",
      "mean        0.904768\n",
      "std         0.081010\n",
      "min         0.000000\n",
      "25%         0.846525\n",
      "50%         0.920197\n",
      "75%         0.972806\n",
      "max         0.999450\n",
      "dtype: float64\n",
      "\n",
      " i=8\n",
      "count    2003.000000\n",
      "mean        0.911220\n",
      "std         0.075662\n",
      "min         0.000000\n",
      "25%         0.856007\n",
      "50%         0.923890\n",
      "75%         0.974585\n",
      "max         0.999437\n",
      "dtype: float64\n",
      "\n",
      " i=9\n",
      "count    2003.000000\n",
      "mean        0.921059\n",
      "std         0.068691\n",
      "min         0.000000\n",
      "25%         0.872387\n",
      "50%         0.933037\n",
      "75%         0.976910\n",
      "max         0.999461\n",
      "dtype: float64\n",
      "\n",
      " i=10\n",
      "count    2003.000000\n",
      "mean        0.947446\n",
      "std         0.051360\n",
      "min         0.000000\n",
      "25%         0.913513\n",
      "50%         0.954365\n",
      "75%         0.982516\n",
      "max         0.999579\n",
      "dtype: float64\n",
      "\n",
      " i=11\n",
      "count    2003.000000\n",
      "mean        0.975147\n",
      "std         0.042415\n",
      "min         0.000000\n",
      "25%         0.963328\n",
      "50%         0.982662\n",
      "75%         0.992915\n",
      "max         0.999036\n",
      "dtype: float64\n",
      "\n",
      " i=12\n",
      "count    2003.000000\n",
      "mean        0.982134\n",
      "std         0.040782\n",
      "min         0.000000\n",
      "25%         0.974718\n",
      "50%         0.988865\n",
      "75%         0.995505\n",
      "max         0.999391\n",
      "dtype: float64\n",
      "\n",
      " i=13\n",
      "count    2003.000000\n",
      "mean        0.986311\n",
      "std         0.039916\n",
      "min         0.000000\n",
      "25%         0.981790\n",
      "50%         0.992169\n",
      "75%         0.996827\n",
      "max         0.999400\n",
      "dtype: float64\n",
      "\n",
      " i=14\n",
      "count    2003.000000\n",
      "mean        0.989100\n",
      "std         0.039431\n",
      "min         0.000000\n",
      "25%         0.986529\n",
      "50%         0.994263\n",
      "75%         0.997601\n",
      "max         0.999406\n",
      "dtype: float64\n",
      "\n",
      " i=15\n",
      "count    2003.000000\n",
      "mean        0.991050\n",
      "std         0.039146\n",
      "min         0.000000\n",
      "25%         0.989605\n",
      "50%         0.995626\n",
      "75%         0.998094\n",
      "max         0.999411\n",
      "dtype: float64\n",
      "\n",
      " i=16\n",
      "count    2003.000000\n",
      "mean        0.992460\n",
      "std         0.038973\n",
      "min         0.000000\n",
      "25%         0.991895\n",
      "50%         0.996576\n",
      "75%         0.998428\n",
      "max         0.999415\n",
      "dtype: float64\n",
      "\n",
      " i=17\n",
      "count    2003.000000\n",
      "mean        0.993518\n",
      "std         0.038861\n",
      "min         0.000000\n",
      "25%         0.993546\n",
      "50%         0.997227\n",
      "75%         0.998665\n",
      "max         0.999418\n",
      "dtype: float64\n",
      "\n",
      " i=18\n",
      "count    2003.000000\n",
      "mean        0.994318\n",
      "std         0.038791\n",
      "min         0.000000\n",
      "25%         0.994716\n",
      "50%         0.997713\n",
      "75%         0.998832\n",
      "max         0.999421\n",
      "dtype: float64\n",
      "\n",
      " i=19\n",
      "count    2003.000000\n",
      "mean        0.994938\n",
      "std         0.038745\n",
      "min         0.000000\n",
      "25%         0.995661\n",
      "50%         0.998072\n",
      "75%         0.998958\n",
      "max         0.999423\n",
      "dtype: float64\n",
      "\n",
      " i=20\n",
      "count    2003.000000\n",
      "mean        0.995426\n",
      "std         0.038714\n",
      "min         0.000000\n",
      "25%         0.996375\n",
      "50%         0.998339\n",
      "75%         0.999052\n",
      "max         0.999424\n",
      "dtype: float64\n"
     ]
    }
   ],
   "source": [
    "for i, d in enumerate(right_ratios_and_norms):\n",
    "    print(\"\\n i={}\".format(i))\n",
    "    print(d[\"2_to_1_ratios_stats\"])"
   ]
  },
  {
   "cell_type": "markdown",
   "id": "6db2c557-304f-42ba-82fc-1bdace9d00fd",
   "metadata": {},
   "source": [
    "Conclusions:\n",
    "* All pretty much bounded with max 1, how weird."
   ]
  },
  {
   "cell_type": "markdown",
   "id": "79594a8b-33b0-4f1a-9d81-4436aa477642",
   "metadata": {},
   "source": [
    "## Left side"
   ]
  },
  {
   "cell_type": "code",
   "execution_count": 84,
   "id": "a35ea139-cae0-4218-b477-938401662825",
   "metadata": {},
   "outputs": [],
   "source": [
    "base_index = (test_psi.L - 80)//2 -1"
   ]
  },
  {
   "cell_type": "code",
   "execution_count": 85,
   "id": "1e84cf65-81d6-498f-a7d7-cc19c25f5377",
   "metadata": {},
   "outputs": [],
   "source": [
    "def left_check_ratios_and_distances(psi, left_projected_state):\n",
    "    base_transfer_matrices_1 = get_base_transfer_matrices(psi, base_index)\n",
    "    base_transfer_matrices_2 = get_base_transfer_matrices(psi, base_index-1)\n",
    "\n",
    "    base_sing_vals_1 = np.round(np.linalg.svd(base_transfer_matrices_1).S, 3)\n",
    "    base_sing_vals_2 = np.round(np.linalg.svd(base_transfer_matrices_2).S, 3)\n",
    "\n",
    "    base_points_1 = np.tensordot(\n",
    "        left_projected_state,\n",
    "        base_transfer_matrices_1,\n",
    "        [[0,], [2,]]\n",
    "    )\n",
    "    \n",
    "    virtual_points_1 = np.tensordot(\n",
    "        s3_search_points,\n",
    "        base_points_1,\n",
    "        [[1,], [0,]]\n",
    "    )\n",
    "\n",
    "    norm_virtual_points_1 = np.linalg.norm(virtual_points_1, axis=-1)\n",
    "    norms_1_stats = describe_1d_array(norm_virtual_points_1)\n",
    "\n",
    "    base_points_2 = np.tensordot(\n",
    "        virtual_points_1,\n",
    "        base_transfer_matrices_2,\n",
    "        [[1,], [2,]]\n",
    "    )\n",
    "\n",
    "    stride_length = 10\n",
    "\n",
    "    norms_2 = np.zeros((len(s3_search_points), len(virtual_points_1)))\n",
    "    ratios = np.zeros((len(virtual_points_1,)))\n",
    "\n",
    "    steps = len(virtual_points_1)//stride_length\n",
    "\n",
    "    for i in range(steps):\n",
    "        virtual_2_points = np.tensordot(\n",
    "            s3_search_points,\n",
    "            base_points_2[stride_length*i:stride_length*(i+1)],\n",
    "            [[1,], [1,]]\n",
    "        )\n",
    "\n",
    "        norms = np.linalg.norm(virtual_2_points, axis=2)\n",
    "        norms_2[:, stride_length*i:stride_length*(i+1)] = norms\n",
    "        \n",
    "        max_virtual_2_norms = np.max(norms, axis=0)\n",
    "        norms_ratio = max_virtual_2_norms/norm_virtual_points_1[stride_length*i:stride_length*(i+1)]\n",
    "\n",
    "        ratios[stride_length*i:stride_length*(i+1)] = norms_ratio\n",
    "\n",
    "    ratios_desc = describe_1d_array(ratios)\n",
    "    norms_2_stats = describe_1d_array(norms_2.flatten())\n",
    "\n",
    "    return {\n",
    "        \"base_sing_vals_1\": base_sing_vals_1,\n",
    "        \"base_sing_vals_2\": base_sing_vals_2,\n",
    "        \"norms_1\": norm_virtual_points_1,\n",
    "        \"norm_virtual_points_1_stats\": norms_1_stats,\n",
    "        \"max_norms_2\": np.max(norms_2, axis=0),\n",
    "        \"norm_virtual_points_2_stats\": norms_2_stats,\n",
    "        \"2_to_1_ratios_stats\": ratios_desc\n",
    "    }"
   ]
  },
  {
   "cell_type": "code",
   "execution_count": 86,
   "id": "26947e0f-2d4f-4eb4-9fa8-1a262fe12e13",
   "metadata": {},
   "outputs": [],
   "source": [
    "left_ratios_and_norms = [\n",
    "    left_check_ratios_and_distances(psi, left_projected_state)\n",
    "    for psi, left_projected_state in zip(psi_dict.values(), left_projected_states)\n",
    "]"
   ]
  },
  {
   "cell_type": "markdown",
   "id": "421f4a86-8e9a-40c9-aa06-aece57c9f9ac",
   "metadata": {},
   "source": [
    "### Singular values 1"
   ]
  },
  {
   "cell_type": "code",
   "execution_count": 87,
   "id": "e96be572-7a09-4fc9-97df-24970f5b993d",
   "metadata": {},
   "outputs": [
    {
     "data": {
      "text/plain": [
       "array([[1., 1., 0., 0.],\n",
       "       [1., 1., 0., 0.],\n",
       "       [1., 1., 0., 0.],\n",
       "       [1., 1., 0., 0.]])"
      ]
     },
     "execution_count": 87,
     "metadata": {},
     "output_type": "execute_result"
    }
   ],
   "source": [
    "left_ratios_and_norms[0][\"base_sing_vals_1\"]"
   ]
  },
  {
   "cell_type": "code",
   "execution_count": 88,
   "id": "4bcab6ea-7e3b-46ad-a933-4a0687db48f2",
   "metadata": {},
   "outputs": [
    {
     "data": {
      "text/plain": [
       "array([[1.413e+00, 1.413e+00, 1.413e+00, 1.413e+00, 1.413e+00, 1.413e+00,\n",
       "        1.413e+00, 1.413e+00, 1.413e+00, 1.413e+00, 1.413e+00, 1.413e+00,\n",
       "        1.413e+00, 1.413e+00, 1.413e+00, 1.413e+00, 5.000e-02, 5.000e-02,\n",
       "        5.000e-02, 5.000e-02, 5.000e-02, 5.000e-02, 5.000e-02, 5.000e-02,\n",
       "        5.000e-02, 5.000e-02, 5.000e-02, 5.000e-02, 5.000e-02, 5.000e-02,\n",
       "        5.000e-02, 5.000e-02, 1.000e-03, 1.000e-03, 1.000e-03, 1.000e-03,\n",
       "        1.000e-03, 1.000e-03, 1.000e-03, 1.000e-03, 1.000e-03, 1.000e-03,\n",
       "        1.000e-03, 1.000e-03, 1.000e-03, 1.000e-03, 1.000e-03, 1.000e-03,\n",
       "        0.000e+00, 0.000e+00, 0.000e+00, 0.000e+00, 0.000e+00, 0.000e+00,\n",
       "        0.000e+00, 0.000e+00, 0.000e+00, 0.000e+00, 0.000e+00, 0.000e+00,\n",
       "        0.000e+00, 0.000e+00, 0.000e+00, 0.000e+00],\n",
       "       [1.413e+00, 1.413e+00, 1.413e+00, 1.413e+00, 1.413e+00, 1.413e+00,\n",
       "        1.413e+00, 1.413e+00, 1.413e+00, 1.413e+00, 1.413e+00, 1.413e+00,\n",
       "        1.413e+00, 1.413e+00, 1.413e+00, 1.413e+00, 5.000e-02, 5.000e-02,\n",
       "        5.000e-02, 5.000e-02, 5.000e-02, 5.000e-02, 5.000e-02, 5.000e-02,\n",
       "        5.000e-02, 5.000e-02, 5.000e-02, 5.000e-02, 5.000e-02, 5.000e-02,\n",
       "        5.000e-02, 5.000e-02, 1.000e-03, 1.000e-03, 1.000e-03, 1.000e-03,\n",
       "        1.000e-03, 1.000e-03, 1.000e-03, 1.000e-03, 1.000e-03, 1.000e-03,\n",
       "        1.000e-03, 1.000e-03, 1.000e-03, 1.000e-03, 1.000e-03, 1.000e-03,\n",
       "        0.000e+00, 0.000e+00, 0.000e+00, 0.000e+00, 0.000e+00, 0.000e+00,\n",
       "        0.000e+00, 0.000e+00, 0.000e+00, 0.000e+00, 0.000e+00, 0.000e+00,\n",
       "        0.000e+00, 0.000e+00, 0.000e+00, 0.000e+00],\n",
       "       [1.413e+00, 1.413e+00, 1.413e+00, 1.413e+00, 1.413e+00, 1.413e+00,\n",
       "        1.413e+00, 1.413e+00, 1.413e+00, 1.413e+00, 1.413e+00, 1.413e+00,\n",
       "        1.413e+00, 1.413e+00, 1.413e+00, 1.413e+00, 5.000e-02, 5.000e-02,\n",
       "        5.000e-02, 5.000e-02, 5.000e-02, 5.000e-02, 5.000e-02, 5.000e-02,\n",
       "        5.000e-02, 5.000e-02, 5.000e-02, 5.000e-02, 5.000e-02, 5.000e-02,\n",
       "        5.000e-02, 5.000e-02, 0.000e+00, 0.000e+00, 0.000e+00, 0.000e+00,\n",
       "        0.000e+00, 0.000e+00, 0.000e+00, 0.000e+00, 0.000e+00, 0.000e+00,\n",
       "        0.000e+00, 0.000e+00, 0.000e+00, 0.000e+00, 0.000e+00, 0.000e+00,\n",
       "        0.000e+00, 0.000e+00, 0.000e+00, 0.000e+00, 0.000e+00, 0.000e+00,\n",
       "        0.000e+00, 0.000e+00, 0.000e+00, 0.000e+00, 0.000e+00, 0.000e+00,\n",
       "        0.000e+00, 0.000e+00, 0.000e+00, 0.000e+00],\n",
       "       [1.413e+00, 1.413e+00, 1.413e+00, 1.413e+00, 1.413e+00, 1.413e+00,\n",
       "        1.413e+00, 1.413e+00, 1.413e+00, 1.413e+00, 1.413e+00, 1.413e+00,\n",
       "        1.413e+00, 1.413e+00, 1.413e+00, 1.413e+00, 5.000e-02, 5.000e-02,\n",
       "        5.000e-02, 5.000e-02, 5.000e-02, 5.000e-02, 5.000e-02, 5.000e-02,\n",
       "        5.000e-02, 5.000e-02, 5.000e-02, 5.000e-02, 5.000e-02, 5.000e-02,\n",
       "        5.000e-02, 5.000e-02, 0.000e+00, 0.000e+00, 0.000e+00, 0.000e+00,\n",
       "        0.000e+00, 0.000e+00, 0.000e+00, 0.000e+00, 0.000e+00, 0.000e+00,\n",
       "        0.000e+00, 0.000e+00, 0.000e+00, 0.000e+00, 0.000e+00, 0.000e+00,\n",
       "        0.000e+00, 0.000e+00, 0.000e+00, 0.000e+00, 0.000e+00, 0.000e+00,\n",
       "        0.000e+00, 0.000e+00, 0.000e+00, 0.000e+00, 0.000e+00, 0.000e+00,\n",
       "        0.000e+00, 0.000e+00, 0.000e+00, 0.000e+00]])"
      ]
     },
     "execution_count": 88,
     "metadata": {},
     "output_type": "execute_result"
    }
   ],
   "source": [
    "left_ratios_and_norms[1][\"base_sing_vals_1\"]"
   ]
  },
  {
   "cell_type": "code",
   "execution_count": 89,
   "id": "02a02a66-198f-4aa3-a219-cb61548ac953",
   "metadata": {},
   "outputs": [
    {
     "data": {
      "text/plain": [
       "array([[1.39 , 1.39 , 1.39 , 1.39 , 1.39 , 1.39 , 1.39 , 1.39 , 1.39 ,\n",
       "        1.39 , 1.39 , 1.39 , 1.39 , 1.39 , 1.39 , 1.39 , 0.259, 0.259,\n",
       "        0.259, 0.259, 0.259, 0.259, 0.259, 0.259, 0.259, 0.259, 0.259,\n",
       "        0.259, 0.259, 0.259, 0.259, 0.259, 0.033, 0.033, 0.033, 0.033,\n",
       "        0.033, 0.033, 0.033, 0.033, 0.033, 0.033, 0.033, 0.033, 0.033,\n",
       "        0.033, 0.033, 0.033, 0.006, 0.006, 0.006, 0.006, 0.006, 0.006,\n",
       "        0.006, 0.006, 0.006, 0.006, 0.006, 0.006, 0.006, 0.006, 0.006,\n",
       "        0.006],\n",
       "       [1.39 , 1.39 , 1.39 , 1.39 , 1.39 , 1.39 , 1.39 , 1.39 , 1.39 ,\n",
       "        1.39 , 1.39 , 1.39 , 1.39 , 1.39 , 1.39 , 1.39 , 0.259, 0.259,\n",
       "        0.259, 0.259, 0.259, 0.259, 0.259, 0.259, 0.259, 0.259, 0.259,\n",
       "        0.259, 0.259, 0.259, 0.259, 0.259, 0.033, 0.033, 0.033, 0.033,\n",
       "        0.033, 0.033, 0.033, 0.033, 0.033, 0.033, 0.033, 0.033, 0.033,\n",
       "        0.033, 0.033, 0.033, 0.006, 0.006, 0.006, 0.006, 0.006, 0.006,\n",
       "        0.006, 0.006, 0.006, 0.006, 0.006, 0.006, 0.006, 0.006, 0.006,\n",
       "        0.006],\n",
       "       [1.39 , 1.39 , 1.39 , 1.39 , 1.39 , 1.39 , 1.39 , 1.39 , 1.39 ,\n",
       "        1.39 , 1.39 , 1.39 , 1.39 , 1.39 , 1.39 , 1.39 , 0.261, 0.261,\n",
       "        0.261, 0.261, 0.261, 0.261, 0.261, 0.261, 0.261, 0.261, 0.261,\n",
       "        0.261, 0.261, 0.261, 0.261, 0.261, 0.   , 0.   , 0.   , 0.   ,\n",
       "        0.   , 0.   , 0.   , 0.   , 0.   , 0.   , 0.   , 0.   , 0.   ,\n",
       "        0.   , 0.   , 0.   , 0.   , 0.   , 0.   , 0.   , 0.   , 0.   ,\n",
       "        0.   , 0.   , 0.   , 0.   , 0.   , 0.   , 0.   , 0.   , 0.   ,\n",
       "        0.   ],\n",
       "       [1.39 , 1.39 , 1.39 , 1.39 , 1.39 , 1.39 , 1.39 , 1.39 , 1.39 ,\n",
       "        1.39 , 1.39 , 1.39 , 1.39 , 1.39 , 1.39 , 1.39 , 0.261, 0.261,\n",
       "        0.261, 0.261, 0.261, 0.261, 0.261, 0.261, 0.261, 0.261, 0.261,\n",
       "        0.261, 0.261, 0.261, 0.261, 0.261, 0.   , 0.   , 0.   , 0.   ,\n",
       "        0.   , 0.   , 0.   , 0.   , 0.   , 0.   , 0.   , 0.   , 0.   ,\n",
       "        0.   , 0.   , 0.   , 0.   , 0.   , 0.   , 0.   , 0.   , 0.   ,\n",
       "        0.   , 0.   , 0.   , 0.   , 0.   , 0.   , 0.   , 0.   , 0.   ,\n",
       "        0.   ]])"
      ]
     },
     "execution_count": 89,
     "metadata": {},
     "output_type": "execute_result"
    }
   ],
   "source": [
    "left_ratios_and_norms[5][\"base_sing_vals_1\"]"
   ]
  },
  {
   "cell_type": "code",
   "execution_count": 90,
   "id": "2d1903d3-402c-4489-809b-b1cd995274f3",
   "metadata": {},
   "outputs": [
    {
     "data": {
      "text/plain": [
       "array([[1.311, 1.311, 1.311, 1.311, 1.311, 1.311, 1.311, 1.311, 1.311,\n",
       "        1.311, 1.311, 1.311, 1.311, 1.311, 1.311, 1.311, 0.52 , 0.52 ,\n",
       "        0.52 , 0.52 , 0.52 , 0.52 , 0.52 , 0.52 , 0.52 , 0.52 , 0.52 ,\n",
       "        0.52 , 0.52 , 0.52 , 0.52 , 0.52 , 0.135, 0.135, 0.135, 0.135,\n",
       "        0.135, 0.135, 0.135, 0.135, 0.135, 0.135, 0.135, 0.135, 0.135,\n",
       "        0.135, 0.135, 0.135, 0.054, 0.054, 0.054, 0.054, 0.054, 0.054,\n",
       "        0.054, 0.054, 0.054, 0.054, 0.054, 0.054, 0.054, 0.054, 0.054,\n",
       "        0.054],\n",
       "       [1.311, 1.311, 1.311, 1.311, 1.311, 1.311, 1.311, 1.311, 1.311,\n",
       "        1.311, 1.311, 1.311, 1.311, 1.311, 1.311, 1.311, 0.52 , 0.52 ,\n",
       "        0.52 , 0.52 , 0.52 , 0.52 , 0.52 , 0.52 , 0.52 , 0.52 , 0.52 ,\n",
       "        0.52 , 0.52 , 0.52 , 0.52 , 0.52 , 0.135, 0.135, 0.135, 0.135,\n",
       "        0.135, 0.135, 0.135, 0.135, 0.135, 0.135, 0.135, 0.135, 0.135,\n",
       "        0.135, 0.135, 0.135, 0.054, 0.054, 0.054, 0.054, 0.054, 0.054,\n",
       "        0.054, 0.054, 0.054, 0.054, 0.054, 0.054, 0.054, 0.054, 0.054,\n",
       "        0.054],\n",
       "       [1.308, 1.308, 1.308, 1.308, 1.308, 1.308, 1.308, 1.308, 1.308,\n",
       "        1.308, 1.308, 1.308, 1.308, 1.308, 1.308, 1.308, 0.528, 0.528,\n",
       "        0.528, 0.528, 0.528, 0.528, 0.528, 0.528, 0.528, 0.528, 0.528,\n",
       "        0.528, 0.528, 0.528, 0.528, 0.528, 0.   , 0.   , 0.   , 0.   ,\n",
       "        0.   , 0.   , 0.   , 0.   , 0.   , 0.   , 0.   , 0.   , 0.   ,\n",
       "        0.   , 0.   , 0.   , 0.   , 0.   , 0.   , 0.   , 0.   , 0.   ,\n",
       "        0.   , 0.   , 0.   , 0.   , 0.   , 0.   , 0.   , 0.   , 0.   ,\n",
       "        0.   ],\n",
       "       [1.308, 1.308, 1.308, 1.308, 1.308, 1.308, 1.308, 1.308, 1.308,\n",
       "        1.308, 1.308, 1.308, 1.308, 1.308, 1.308, 1.308, 0.528, 0.528,\n",
       "        0.528, 0.528, 0.528, 0.528, 0.528, 0.528, 0.528, 0.528, 0.528,\n",
       "        0.528, 0.528, 0.528, 0.528, 0.528, 0.   , 0.   , 0.   , 0.   ,\n",
       "        0.   , 0.   , 0.   , 0.   , 0.   , 0.   , 0.   , 0.   , 0.   ,\n",
       "        0.   , 0.   , 0.   , 0.   , 0.   , 0.   , 0.   , 0.   , 0.   ,\n",
       "        0.   , 0.   , 0.   , 0.   , 0.   , 0.   , 0.   , 0.   , 0.   ,\n",
       "        0.   ]])"
      ]
     },
     "execution_count": 90,
     "metadata": {},
     "output_type": "execute_result"
    }
   ],
   "source": [
    "left_ratios_and_norms[9][\"base_sing_vals_1\"]"
   ]
  },
  {
   "cell_type": "code",
   "execution_count": 91,
   "id": "70448b31-c0bb-49be-921f-fc5367d353bd",
   "metadata": {},
   "outputs": [
    {
     "data": {
      "text/plain": [
       "array([[1.358, 1.357, 1.357, 1.355, 1.27 , 1.27 , 1.269, 1.269, 1.215,\n",
       "        1.001, 1.001, 1.   , 1.   , 1.   , 1.   , 1.   , 1.   , 0.998,\n",
       "        0.998, 0.998, 0.997, 0.997, 0.996, 0.996, 0.996, 0.706, 0.546,\n",
       "        0.546, 0.542, 0.542, 0.505, 0.505, 0.505, 0.505, 0.269, 0.201,\n",
       "        0.188, 0.188, 0.173, 0.156, 0.132, 0.131, 0.131, 0.13 , 0.112,\n",
       "        0.111, 0.111, 0.111, 0.077, 0.077, 0.067, 0.064, 0.041, 0.036,\n",
       "        0.036, 0.034, 0.034, 0.033, 0.028, 0.028, 0.006, 0.005, 0.005,\n",
       "        0.004],\n",
       "       [1.358, 1.357, 1.357, 1.355, 1.27 , 1.27 , 1.269, 1.269, 1.215,\n",
       "        1.001, 1.001, 1.   , 1.   , 1.   , 1.   , 1.   , 1.   , 0.998,\n",
       "        0.998, 0.998, 0.997, 0.997, 0.996, 0.996, 0.996, 0.706, 0.546,\n",
       "        0.546, 0.542, 0.542, 0.505, 0.505, 0.505, 0.505, 0.269, 0.201,\n",
       "        0.188, 0.188, 0.173, 0.156, 0.132, 0.131, 0.131, 0.13 , 0.112,\n",
       "        0.111, 0.111, 0.111, 0.077, 0.077, 0.067, 0.064, 0.041, 0.036,\n",
       "        0.036, 0.034, 0.034, 0.033, 0.028, 0.028, 0.006, 0.005, 0.005,\n",
       "        0.004],\n",
       "       [1.356, 1.354, 1.354, 1.353, 1.276, 1.276, 1.274, 1.274, 1.195,\n",
       "        1.053, 1.052, 1.052, 1.05 , 0.994, 0.993, 0.993, 0.992, 0.903,\n",
       "        0.903, 0.902, 0.902, 0.706, 0.565, 0.565, 0.562, 0.562, 0.367,\n",
       "        0.366, 0.366, 0.365, 0.271, 0.271, 0.271, 0.271, 0.212, 0.197,\n",
       "        0.197, 0.182, 0.09 , 0.084, 0.084, 0.078, 0.028, 0.025, 0.025,\n",
       "        0.025, 0.012, 0.011, 0.011, 0.011, 0.   , 0.   , 0.   , 0.   ,\n",
       "        0.   , 0.   , 0.   , 0.   , 0.   , 0.   , 0.   , 0.   , 0.   ,\n",
       "        0.   ],\n",
       "       [1.356, 1.354, 1.354, 1.353, 1.276, 1.276, 1.274, 1.274, 1.195,\n",
       "        1.053, 1.052, 1.052, 1.05 , 0.994, 0.993, 0.993, 0.992, 0.903,\n",
       "        0.903, 0.902, 0.902, 0.706, 0.565, 0.565, 0.562, 0.562, 0.367,\n",
       "        0.366, 0.366, 0.365, 0.271, 0.271, 0.271, 0.271, 0.212, 0.197,\n",
       "        0.197, 0.182, 0.09 , 0.084, 0.084, 0.078, 0.028, 0.025, 0.025,\n",
       "        0.025, 0.012, 0.011, 0.011, 0.011, 0.   , 0.   , 0.   , 0.   ,\n",
       "        0.   , 0.   , 0.   , 0.   , 0.   , 0.   , 0.   , 0.   , 0.   ,\n",
       "        0.   ]])"
      ]
     },
     "execution_count": 91,
     "metadata": {},
     "output_type": "execute_result"
    }
   ],
   "source": [
    "left_ratios_and_norms[11][\"base_sing_vals_1\"]"
   ]
  },
  {
   "cell_type": "code",
   "execution_count": 92,
   "id": "c94bb738-5cae-47f3-b70e-b2aadf3aa044",
   "metadata": {},
   "outputs": [
    {
     "data": {
      "text/plain": [
       "array([[1.387, 1.387, 1.387, 1.387, 1.343, 1.343, 1.343, 1.343, 1.307,\n",
       "        1.   , 1.   , 1.   , 1.   , 0.999, 0.999, 0.999, 0.999, 0.999,\n",
       "        0.999, 0.999, 0.999, 0.998, 0.998, 0.998, 0.998, 0.52 , 0.4  ,\n",
       "        0.4  , 0.4  , 0.4  , 0.359, 0.359, 0.359, 0.359, 0.187, 0.137,\n",
       "        0.137, 0.137, 0.137, 0.086, 0.086, 0.086, 0.086, 0.085, 0.085,\n",
       "        0.085, 0.085, 0.074, 0.051, 0.051, 0.05 , 0.05 , 0.029, 0.028,\n",
       "        0.028, 0.028, 0.015, 0.015, 0.015, 0.015, 0.003, 0.003, 0.003,\n",
       "        0.003],\n",
       "       [1.387, 1.387, 1.387, 1.387, 1.343, 1.343, 1.343, 1.343, 1.307,\n",
       "        1.   , 1.   , 1.   , 1.   , 0.999, 0.999, 0.999, 0.999, 0.999,\n",
       "        0.999, 0.999, 0.999, 0.998, 0.998, 0.998, 0.998, 0.52 , 0.4  ,\n",
       "        0.4  , 0.4  , 0.4  , 0.359, 0.359, 0.359, 0.359, 0.187, 0.137,\n",
       "        0.137, 0.137, 0.137, 0.086, 0.086, 0.086, 0.086, 0.085, 0.085,\n",
       "        0.085, 0.085, 0.074, 0.051, 0.051, 0.05 , 0.05 , 0.029, 0.028,\n",
       "        0.028, 0.028, 0.015, 0.015, 0.015, 0.015, 0.003, 0.003, 0.003,\n",
       "        0.003],\n",
       "       [1.387, 1.387, 1.387, 1.387, 1.344, 1.344, 1.344, 1.344, 1.302,\n",
       "        1.024, 1.024, 1.024, 1.024, 0.996, 0.996, 0.996, 0.996, 0.949,\n",
       "        0.949, 0.949, 0.949, 0.535, 0.408, 0.408, 0.408, 0.408, 0.246,\n",
       "        0.246, 0.246, 0.246, 0.184, 0.184, 0.184, 0.184, 0.142, 0.142,\n",
       "        0.142, 0.141, 0.057, 0.057, 0.057, 0.057, 0.013, 0.013, 0.013,\n",
       "        0.013, 0.004, 0.004, 0.004, 0.004, 0.   , 0.   , 0.   , 0.   ,\n",
       "        0.   , 0.   , 0.   , 0.   , 0.   , 0.   , 0.   , 0.   , 0.   ,\n",
       "        0.   ],\n",
       "       [1.387, 1.387, 1.387, 1.387, 1.344, 1.344, 1.344, 1.344, 1.302,\n",
       "        1.024, 1.024, 1.024, 1.024, 0.996, 0.996, 0.996, 0.996, 0.949,\n",
       "        0.949, 0.949, 0.949, 0.535, 0.408, 0.408, 0.408, 0.408, 0.246,\n",
       "        0.246, 0.246, 0.246, 0.184, 0.184, 0.184, 0.184, 0.142, 0.142,\n",
       "        0.142, 0.141, 0.057, 0.057, 0.057, 0.057, 0.013, 0.013, 0.013,\n",
       "        0.013, 0.004, 0.004, 0.004, 0.004, 0.   , 0.   , 0.   , 0.   ,\n",
       "        0.   , 0.   , 0.   , 0.   , 0.   , 0.   , 0.   , 0.   , 0.   ,\n",
       "        0.   ]])"
      ]
     },
     "execution_count": 92,
     "metadata": {},
     "output_type": "execute_result"
    }
   ],
   "source": [
    "left_ratios_and_norms[15][\"base_sing_vals_1\"]"
   ]
  },
  {
   "cell_type": "code",
   "execution_count": 93,
   "id": "a9267adb-d760-4c07-abe6-49e48c84c75c",
   "metadata": {},
   "outputs": [
    {
     "data": {
      "text/plain": [
       "array([[1.401e+00, 1.401e+00, 1.401e+00, 1.401e+00, 1.377e+00, 1.377e+00,\n",
       "        1.377e+00, 1.377e+00, 1.356e+00, 1.000e+00, 1.000e+00, 1.000e+00,\n",
       "        1.000e+00, 1.000e+00, 1.000e+00, 1.000e+00, 1.000e+00, 1.000e+00,\n",
       "        1.000e+00, 1.000e+00, 1.000e+00, 9.990e-01, 9.990e-01, 9.990e-01,\n",
       "        9.990e-01, 3.830e-01, 2.900e-01, 2.900e-01, 2.900e-01, 2.900e-01,\n",
       "        2.600e-01, 2.600e-01, 2.600e-01, 2.600e-01, 1.330e-01, 7.800e-02,\n",
       "        7.800e-02, 7.800e-02, 7.800e-02, 4.800e-02, 4.800e-02, 4.800e-02,\n",
       "        4.800e-02, 4.800e-02, 4.800e-02, 4.800e-02, 4.800e-02, 3.700e-02,\n",
       "        2.800e-02, 2.800e-02, 2.800e-02, 2.800e-02, 1.600e-02, 1.600e-02,\n",
       "        1.600e-02, 1.600e-02, 6.000e-03, 6.000e-03, 6.000e-03, 6.000e-03,\n",
       "        1.000e-03, 1.000e-03, 1.000e-03, 1.000e-03],\n",
       "       [1.401e+00, 1.401e+00, 1.401e+00, 1.401e+00, 1.377e+00, 1.377e+00,\n",
       "        1.377e+00, 1.377e+00, 1.356e+00, 1.000e+00, 1.000e+00, 1.000e+00,\n",
       "        1.000e+00, 1.000e+00, 1.000e+00, 1.000e+00, 1.000e+00, 1.000e+00,\n",
       "        1.000e+00, 1.000e+00, 1.000e+00, 9.990e-01, 9.990e-01, 9.990e-01,\n",
       "        9.990e-01, 3.830e-01, 2.900e-01, 2.900e-01, 2.900e-01, 2.900e-01,\n",
       "        2.600e-01, 2.600e-01, 2.600e-01, 2.600e-01, 1.330e-01, 7.800e-02,\n",
       "        7.800e-02, 7.800e-02, 7.800e-02, 4.800e-02, 4.800e-02, 4.800e-02,\n",
       "        4.800e-02, 4.800e-02, 4.800e-02, 4.800e-02, 4.800e-02, 3.700e-02,\n",
       "        2.800e-02, 2.800e-02, 2.800e-02, 2.800e-02, 1.600e-02, 1.600e-02,\n",
       "        1.600e-02, 1.600e-02, 6.000e-03, 6.000e-03, 6.000e-03, 6.000e-03,\n",
       "        1.000e-03, 1.000e-03, 1.000e-03, 1.000e-03],\n",
       "       [1.401e+00, 1.401e+00, 1.401e+00, 1.401e+00, 1.378e+00, 1.378e+00,\n",
       "        1.378e+00, 1.378e+00, 1.355e+00, 1.014e+00, 1.014e+00, 1.014e+00,\n",
       "        1.014e+00, 9.990e-01, 9.990e-01, 9.990e-01, 9.990e-01, 9.740e-01,\n",
       "        9.740e-01, 9.740e-01, 9.740e-01, 3.990e-01, 2.940e-01, 2.940e-01,\n",
       "        2.940e-01, 2.940e-01, 1.800e-01, 1.800e-01, 1.800e-01, 1.800e-01,\n",
       "        1.310e-01, 1.310e-01, 1.310e-01, 1.310e-01, 8.000e-02, 8.000e-02,\n",
       "        8.000e-02, 8.000e-02, 3.200e-02, 3.200e-02, 3.200e-02, 3.200e-02,\n",
       "        7.000e-03, 7.000e-03, 7.000e-03, 7.000e-03, 2.000e-03, 2.000e-03,\n",
       "        2.000e-03, 2.000e-03, 0.000e+00, 0.000e+00, 0.000e+00, 0.000e+00,\n",
       "        0.000e+00, 0.000e+00, 0.000e+00, 0.000e+00, 0.000e+00, 0.000e+00,\n",
       "        0.000e+00, 0.000e+00, 0.000e+00, 0.000e+00],\n",
       "       [1.401e+00, 1.401e+00, 1.401e+00, 1.401e+00, 1.378e+00, 1.378e+00,\n",
       "        1.378e+00, 1.378e+00, 1.355e+00, 1.014e+00, 1.014e+00, 1.014e+00,\n",
       "        1.014e+00, 9.990e-01, 9.990e-01, 9.990e-01, 9.990e-01, 9.740e-01,\n",
       "        9.740e-01, 9.740e-01, 9.740e-01, 3.990e-01, 2.940e-01, 2.940e-01,\n",
       "        2.940e-01, 2.940e-01, 1.800e-01, 1.800e-01, 1.800e-01, 1.800e-01,\n",
       "        1.310e-01, 1.310e-01, 1.310e-01, 1.310e-01, 8.000e-02, 8.000e-02,\n",
       "        8.000e-02, 8.000e-02, 3.200e-02, 3.200e-02, 3.200e-02, 3.200e-02,\n",
       "        7.000e-03, 7.000e-03, 7.000e-03, 7.000e-03, 2.000e-03, 2.000e-03,\n",
       "        2.000e-03, 2.000e-03, 0.000e+00, 0.000e+00, 0.000e+00, 0.000e+00,\n",
       "        0.000e+00, 0.000e+00, 0.000e+00, 0.000e+00, 0.000e+00, 0.000e+00,\n",
       "        0.000e+00, 0.000e+00, 0.000e+00, 0.000e+00]])"
      ]
     },
     "execution_count": 93,
     "metadata": {},
     "output_type": "execute_result"
    }
   ],
   "source": [
    "left_ratios_and_norms[20][\"base_sing_vals_1\"]"
   ]
  },
  {
   "cell_type": "markdown",
   "id": "d6397495-f857-4862-9ab1-a3e2ebaf788c",
   "metadata": {},
   "source": [
    "### Singular values 2"
   ]
  },
  {
   "cell_type": "code",
   "execution_count": 94,
   "id": "75cb9912-480b-406b-87bf-cc1faba4f541",
   "metadata": {},
   "outputs": [
    {
     "data": {
      "text/plain": [
       "array([[1., 1., 0., 0.],\n",
       "       [1., 1., 0., 0.],\n",
       "       [1., 1., 0., 0.],\n",
       "       [1., 1., 0., 0.]])"
      ]
     },
     "execution_count": 94,
     "metadata": {},
     "output_type": "execute_result"
    }
   ],
   "source": [
    "left_ratios_and_norms[0][\"base_sing_vals_2\"]"
   ]
  },
  {
   "cell_type": "code",
   "execution_count": 95,
   "id": "09e6faae-9834-40c0-a5a7-3879ad07f64d",
   "metadata": {},
   "outputs": [
    {
     "data": {
      "text/plain": [
       "array([[1.413e+00, 1.413e+00, 1.413e+00, 1.413e+00, 1.413e+00, 1.413e+00,\n",
       "        1.413e+00, 1.413e+00, 1.413e+00, 1.413e+00, 1.413e+00, 1.413e+00,\n",
       "        1.413e+00, 1.413e+00, 1.413e+00, 1.413e+00, 5.000e-02, 5.000e-02,\n",
       "        5.000e-02, 5.000e-02, 5.000e-02, 5.000e-02, 5.000e-02, 5.000e-02,\n",
       "        5.000e-02, 5.000e-02, 5.000e-02, 5.000e-02, 5.000e-02, 5.000e-02,\n",
       "        5.000e-02, 5.000e-02, 1.000e-03, 1.000e-03, 1.000e-03, 1.000e-03,\n",
       "        1.000e-03, 1.000e-03, 1.000e-03, 1.000e-03, 1.000e-03, 1.000e-03,\n",
       "        1.000e-03, 1.000e-03, 1.000e-03, 1.000e-03, 1.000e-03, 1.000e-03,\n",
       "        0.000e+00, 0.000e+00, 0.000e+00, 0.000e+00, 0.000e+00, 0.000e+00,\n",
       "        0.000e+00, 0.000e+00, 0.000e+00, 0.000e+00, 0.000e+00, 0.000e+00,\n",
       "        0.000e+00, 0.000e+00, 0.000e+00, 0.000e+00],\n",
       "       [1.413e+00, 1.413e+00, 1.413e+00, 1.413e+00, 1.413e+00, 1.413e+00,\n",
       "        1.413e+00, 1.413e+00, 1.413e+00, 1.413e+00, 1.413e+00, 1.413e+00,\n",
       "        1.413e+00, 1.413e+00, 1.413e+00, 1.413e+00, 5.000e-02, 5.000e-02,\n",
       "        5.000e-02, 5.000e-02, 5.000e-02, 5.000e-02, 5.000e-02, 5.000e-02,\n",
       "        5.000e-02, 5.000e-02, 5.000e-02, 5.000e-02, 5.000e-02, 5.000e-02,\n",
       "        5.000e-02, 5.000e-02, 1.000e-03, 1.000e-03, 1.000e-03, 1.000e-03,\n",
       "        1.000e-03, 1.000e-03, 1.000e-03, 1.000e-03, 1.000e-03, 1.000e-03,\n",
       "        1.000e-03, 1.000e-03, 1.000e-03, 1.000e-03, 1.000e-03, 1.000e-03,\n",
       "        0.000e+00, 0.000e+00, 0.000e+00, 0.000e+00, 0.000e+00, 0.000e+00,\n",
       "        0.000e+00, 0.000e+00, 0.000e+00, 0.000e+00, 0.000e+00, 0.000e+00,\n",
       "        0.000e+00, 0.000e+00, 0.000e+00, 0.000e+00],\n",
       "       [1.413e+00, 1.413e+00, 1.413e+00, 1.413e+00, 1.413e+00, 1.413e+00,\n",
       "        1.413e+00, 1.413e+00, 1.413e+00, 1.413e+00, 1.413e+00, 1.413e+00,\n",
       "        1.413e+00, 1.413e+00, 1.413e+00, 1.413e+00, 5.000e-02, 5.000e-02,\n",
       "        5.000e-02, 5.000e-02, 5.000e-02, 5.000e-02, 5.000e-02, 5.000e-02,\n",
       "        5.000e-02, 5.000e-02, 5.000e-02, 5.000e-02, 5.000e-02, 5.000e-02,\n",
       "        5.000e-02, 5.000e-02, 0.000e+00, 0.000e+00, 0.000e+00, 0.000e+00,\n",
       "        0.000e+00, 0.000e+00, 0.000e+00, 0.000e+00, 0.000e+00, 0.000e+00,\n",
       "        0.000e+00, 0.000e+00, 0.000e+00, 0.000e+00, 0.000e+00, 0.000e+00,\n",
       "        0.000e+00, 0.000e+00, 0.000e+00, 0.000e+00, 0.000e+00, 0.000e+00,\n",
       "        0.000e+00, 0.000e+00, 0.000e+00, 0.000e+00, 0.000e+00, 0.000e+00,\n",
       "        0.000e+00, 0.000e+00, 0.000e+00, 0.000e+00],\n",
       "       [1.413e+00, 1.413e+00, 1.413e+00, 1.413e+00, 1.413e+00, 1.413e+00,\n",
       "        1.413e+00, 1.413e+00, 1.413e+00, 1.413e+00, 1.413e+00, 1.413e+00,\n",
       "        1.413e+00, 1.413e+00, 1.413e+00, 1.413e+00, 5.000e-02, 5.000e-02,\n",
       "        5.000e-02, 5.000e-02, 5.000e-02, 5.000e-02, 5.000e-02, 5.000e-02,\n",
       "        5.000e-02, 5.000e-02, 5.000e-02, 5.000e-02, 5.000e-02, 5.000e-02,\n",
       "        5.000e-02, 5.000e-02, 0.000e+00, 0.000e+00, 0.000e+00, 0.000e+00,\n",
       "        0.000e+00, 0.000e+00, 0.000e+00, 0.000e+00, 0.000e+00, 0.000e+00,\n",
       "        0.000e+00, 0.000e+00, 0.000e+00, 0.000e+00, 0.000e+00, 0.000e+00,\n",
       "        0.000e+00, 0.000e+00, 0.000e+00, 0.000e+00, 0.000e+00, 0.000e+00,\n",
       "        0.000e+00, 0.000e+00, 0.000e+00, 0.000e+00, 0.000e+00, 0.000e+00,\n",
       "        0.000e+00, 0.000e+00, 0.000e+00, 0.000e+00]])"
      ]
     },
     "execution_count": 95,
     "metadata": {},
     "output_type": "execute_result"
    }
   ],
   "source": [
    "left_ratios_and_norms[1][\"base_sing_vals_2\"]"
   ]
  },
  {
   "cell_type": "code",
   "execution_count": 96,
   "id": "2a0d4f9e-c911-41d2-919f-ca59005a9f0e",
   "metadata": {},
   "outputs": [
    {
     "data": {
      "text/plain": [
       "array([[1.39 , 1.39 , 1.39 , 1.39 , 1.39 , 1.39 , 1.39 , 1.39 , 1.39 ,\n",
       "        1.39 , 1.39 , 1.39 , 1.39 , 1.39 , 1.39 , 1.39 , 0.259, 0.259,\n",
       "        0.259, 0.259, 0.259, 0.259, 0.259, 0.259, 0.259, 0.259, 0.259,\n",
       "        0.259, 0.259, 0.259, 0.259, 0.259, 0.033, 0.033, 0.033, 0.033,\n",
       "        0.033, 0.033, 0.033, 0.033, 0.033, 0.033, 0.033, 0.033, 0.033,\n",
       "        0.033, 0.033, 0.033, 0.006, 0.006, 0.006, 0.006, 0.006, 0.006,\n",
       "        0.006, 0.006, 0.006, 0.006, 0.006, 0.006, 0.006, 0.006, 0.006,\n",
       "        0.006],\n",
       "       [1.39 , 1.39 , 1.39 , 1.39 , 1.39 , 1.39 , 1.39 , 1.39 , 1.39 ,\n",
       "        1.39 , 1.39 , 1.39 , 1.39 , 1.39 , 1.39 , 1.39 , 0.259, 0.259,\n",
       "        0.259, 0.259, 0.259, 0.259, 0.259, 0.259, 0.259, 0.259, 0.259,\n",
       "        0.259, 0.259, 0.259, 0.259, 0.259, 0.033, 0.033, 0.033, 0.033,\n",
       "        0.033, 0.033, 0.033, 0.033, 0.033, 0.033, 0.033, 0.033, 0.033,\n",
       "        0.033, 0.033, 0.033, 0.006, 0.006, 0.006, 0.006, 0.006, 0.006,\n",
       "        0.006, 0.006, 0.006, 0.006, 0.006, 0.006, 0.006, 0.006, 0.006,\n",
       "        0.006],\n",
       "       [1.39 , 1.39 , 1.39 , 1.39 , 1.39 , 1.39 , 1.39 , 1.39 , 1.39 ,\n",
       "        1.39 , 1.39 , 1.39 , 1.39 , 1.39 , 1.39 , 1.39 , 0.261, 0.261,\n",
       "        0.261, 0.261, 0.261, 0.261, 0.261, 0.261, 0.261, 0.261, 0.261,\n",
       "        0.261, 0.261, 0.261, 0.261, 0.261, 0.   , 0.   , 0.   , 0.   ,\n",
       "        0.   , 0.   , 0.   , 0.   , 0.   , 0.   , 0.   , 0.   , 0.   ,\n",
       "        0.   , 0.   , 0.   , 0.   , 0.   , 0.   , 0.   , 0.   , 0.   ,\n",
       "        0.   , 0.   , 0.   , 0.   , 0.   , 0.   , 0.   , 0.   , 0.   ,\n",
       "        0.   ],\n",
       "       [1.39 , 1.39 , 1.39 , 1.39 , 1.39 , 1.39 , 1.39 , 1.39 , 1.39 ,\n",
       "        1.39 , 1.39 , 1.39 , 1.39 , 1.39 , 1.39 , 1.39 , 0.261, 0.261,\n",
       "        0.261, 0.261, 0.261, 0.261, 0.261, 0.261, 0.261, 0.261, 0.261,\n",
       "        0.261, 0.261, 0.261, 0.261, 0.261, 0.   , 0.   , 0.   , 0.   ,\n",
       "        0.   , 0.   , 0.   , 0.   , 0.   , 0.   , 0.   , 0.   , 0.   ,\n",
       "        0.   , 0.   , 0.   , 0.   , 0.   , 0.   , 0.   , 0.   , 0.   ,\n",
       "        0.   , 0.   , 0.   , 0.   , 0.   , 0.   , 0.   , 0.   , 0.   ,\n",
       "        0.   ]])"
      ]
     },
     "execution_count": 96,
     "metadata": {},
     "output_type": "execute_result"
    }
   ],
   "source": [
    "left_ratios_and_norms[5][\"base_sing_vals_2\"]"
   ]
  },
  {
   "cell_type": "code",
   "execution_count": 97,
   "id": "3049e754-86e4-4f45-ba0c-b0ffd74d31c2",
   "metadata": {},
   "outputs": [
    {
     "data": {
      "text/plain": [
       "array([[1.311, 1.311, 1.311, 1.311, 1.311, 1.311, 1.311, 1.311, 1.311,\n",
       "        1.311, 1.311, 1.311, 1.311, 1.311, 1.311, 1.311, 0.521, 0.521,\n",
       "        0.521, 0.521, 0.521, 0.521, 0.521, 0.521, 0.521, 0.521, 0.521,\n",
       "        0.521, 0.521, 0.521, 0.521, 0.521, 0.135, 0.135, 0.135, 0.135,\n",
       "        0.135, 0.135, 0.135, 0.135, 0.135, 0.135, 0.135, 0.135, 0.135,\n",
       "        0.135, 0.135, 0.135, 0.054, 0.054, 0.054, 0.054, 0.054, 0.054,\n",
       "        0.054, 0.054, 0.054, 0.054, 0.054, 0.054, 0.054, 0.054, 0.054,\n",
       "        0.054],\n",
       "       [1.311, 1.311, 1.311, 1.311, 1.311, 1.311, 1.311, 1.311, 1.311,\n",
       "        1.311, 1.311, 1.311, 1.311, 1.311, 1.311, 1.311, 0.521, 0.521,\n",
       "        0.521, 0.521, 0.521, 0.521, 0.521, 0.521, 0.521, 0.521, 0.521,\n",
       "        0.521, 0.521, 0.521, 0.521, 0.521, 0.135, 0.135, 0.135, 0.135,\n",
       "        0.135, 0.135, 0.135, 0.135, 0.135, 0.135, 0.135, 0.135, 0.135,\n",
       "        0.135, 0.135, 0.135, 0.054, 0.054, 0.054, 0.054, 0.054, 0.054,\n",
       "        0.054, 0.054, 0.054, 0.054, 0.054, 0.054, 0.054, 0.054, 0.054,\n",
       "        0.054],\n",
       "       [1.308, 1.308, 1.308, 1.308, 1.308, 1.308, 1.308, 1.308, 1.308,\n",
       "        1.308, 1.308, 1.308, 1.308, 1.308, 1.308, 1.308, 0.529, 0.529,\n",
       "        0.529, 0.529, 0.529, 0.529, 0.529, 0.529, 0.529, 0.529, 0.529,\n",
       "        0.529, 0.529, 0.529, 0.529, 0.529, 0.   , 0.   , 0.   , 0.   ,\n",
       "        0.   , 0.   , 0.   , 0.   , 0.   , 0.   , 0.   , 0.   , 0.   ,\n",
       "        0.   , 0.   , 0.   , 0.   , 0.   , 0.   , 0.   , 0.   , 0.   ,\n",
       "        0.   , 0.   , 0.   , 0.   , 0.   , 0.   , 0.   , 0.   , 0.   ,\n",
       "        0.   ],\n",
       "       [1.308, 1.308, 1.308, 1.308, 1.308, 1.308, 1.308, 1.308, 1.308,\n",
       "        1.308, 1.308, 1.308, 1.308, 1.308, 1.308, 1.308, 0.529, 0.529,\n",
       "        0.529, 0.529, 0.529, 0.529, 0.529, 0.529, 0.529, 0.529, 0.529,\n",
       "        0.529, 0.529, 0.529, 0.529, 0.529, 0.   , 0.   , 0.   , 0.   ,\n",
       "        0.   , 0.   , 0.   , 0.   , 0.   , 0.   , 0.   , 0.   , 0.   ,\n",
       "        0.   , 0.   , 0.   , 0.   , 0.   , 0.   , 0.   , 0.   , 0.   ,\n",
       "        0.   , 0.   , 0.   , 0.   , 0.   , 0.   , 0.   , 0.   , 0.   ,\n",
       "        0.   ]])"
      ]
     },
     "execution_count": 97,
     "metadata": {},
     "output_type": "execute_result"
    }
   ],
   "source": [
    "left_ratios_and_norms[9][\"base_sing_vals_2\"]"
   ]
  },
  {
   "cell_type": "code",
   "execution_count": 98,
   "id": "e31b3c6f-4b03-4e64-8345-4bb17ee2383e",
   "metadata": {},
   "outputs": [
    {
     "data": {
      "text/plain": [
       "array([[1.349, 1.348, 1.348, 1.348, 1.261, 1.261, 1.261, 1.261, 1.207,\n",
       "        1.   , 1.   , 1.   , 1.   , 0.998, 0.998, 0.998, 0.998, 0.996,\n",
       "        0.996, 0.996, 0.996, 0.994, 0.994, 0.994, 0.994, 0.72 , 0.565,\n",
       "        0.565, 0.564, 0.564, 0.518, 0.518, 0.518, 0.518, 0.278, 0.248,\n",
       "        0.246, 0.246, 0.243, 0.166, 0.163, 0.162, 0.162, 0.161, 0.16 ,\n",
       "        0.159, 0.159, 0.158, 0.095, 0.095, 0.093, 0.093, 0.053, 0.052,\n",
       "        0.052, 0.052, 0.044, 0.044, 0.043, 0.043, 0.01 , 0.01 , 0.01 ,\n",
       "        0.01 ],\n",
       "       [1.349, 1.348, 1.348, 1.348, 1.261, 1.261, 1.261, 1.261, 1.207,\n",
       "        1.   , 1.   , 1.   , 1.   , 0.998, 0.998, 0.998, 0.998, 0.996,\n",
       "        0.996, 0.996, 0.996, 0.994, 0.994, 0.994, 0.994, 0.72 , 0.565,\n",
       "        0.565, 0.564, 0.564, 0.518, 0.518, 0.518, 0.518, 0.278, 0.248,\n",
       "        0.246, 0.246, 0.243, 0.166, 0.163, 0.162, 0.162, 0.161, 0.16 ,\n",
       "        0.159, 0.159, 0.158, 0.095, 0.095, 0.093, 0.093, 0.053, 0.052,\n",
       "        0.052, 0.052, 0.044, 0.044, 0.043, 0.043, 0.01 , 0.01 , 0.01 ,\n",
       "        0.01 ],\n",
       "       [1.347, 1.346, 1.346, 1.346, 1.266, 1.266, 1.265, 1.265, 1.185,\n",
       "        1.044, 1.044, 1.044, 1.044, 0.987, 0.987, 0.987, 0.987, 0.894,\n",
       "        0.894, 0.894, 0.894, 0.718, 0.584, 0.584, 0.583, 0.583, 0.363,\n",
       "        0.363, 0.363, 0.363, 0.275, 0.275, 0.275, 0.275, 0.26 , 0.258,\n",
       "        0.258, 0.256, 0.11 , 0.109, 0.109, 0.108, 0.027, 0.027, 0.027,\n",
       "        0.027, 0.012, 0.012, 0.012, 0.012, 0.   , 0.   , 0.   , 0.   ,\n",
       "        0.   , 0.   , 0.   , 0.   , 0.   , 0.   , 0.   , 0.   , 0.   ,\n",
       "        0.   ],\n",
       "       [1.347, 1.346, 1.346, 1.346, 1.266, 1.266, 1.265, 1.265, 1.185,\n",
       "        1.044, 1.044, 1.044, 1.044, 0.987, 0.987, 0.987, 0.987, 0.894,\n",
       "        0.894, 0.894, 0.894, 0.718, 0.584, 0.584, 0.583, 0.583, 0.363,\n",
       "        0.363, 0.363, 0.363, 0.275, 0.275, 0.275, 0.275, 0.26 , 0.258,\n",
       "        0.258, 0.256, 0.11 , 0.109, 0.109, 0.108, 0.027, 0.027, 0.027,\n",
       "        0.027, 0.012, 0.012, 0.012, 0.012, 0.   , 0.   , 0.   , 0.   ,\n",
       "        0.   , 0.   , 0.   , 0.   , 0.   , 0.   , 0.   , 0.   , 0.   ,\n",
       "        0.   ]])"
      ]
     },
     "execution_count": 98,
     "metadata": {},
     "output_type": "execute_result"
    }
   ],
   "source": [
    "left_ratios_and_norms[11][\"base_sing_vals_2\"]"
   ]
  },
  {
   "cell_type": "code",
   "execution_count": 99,
   "id": "dc67e710-ded3-4ed7-90ac-fd36006f21a2",
   "metadata": {},
   "outputs": [
    {
     "data": {
      "text/plain": [
       "array([[1.387, 1.387, 1.387, 1.387, 1.343, 1.343, 1.343, 1.343, 1.307,\n",
       "        1.   , 1.   , 1.   , 1.   , 0.999, 0.999, 0.999, 0.999, 0.999,\n",
       "        0.999, 0.999, 0.999, 0.998, 0.998, 0.998, 0.998, 0.52 , 0.4  ,\n",
       "        0.4  , 0.4  , 0.4  , 0.359, 0.359, 0.359, 0.359, 0.187, 0.137,\n",
       "        0.137, 0.137, 0.137, 0.086, 0.086, 0.086, 0.086, 0.085, 0.085,\n",
       "        0.085, 0.085, 0.074, 0.051, 0.051, 0.05 , 0.05 , 0.029, 0.028,\n",
       "        0.028, 0.028, 0.015, 0.015, 0.015, 0.015, 0.003, 0.003, 0.003,\n",
       "        0.003],\n",
       "       [1.387, 1.387, 1.387, 1.387, 1.343, 1.343, 1.343, 1.343, 1.307,\n",
       "        1.   , 1.   , 1.   , 1.   , 0.999, 0.999, 0.999, 0.999, 0.999,\n",
       "        0.999, 0.999, 0.999, 0.998, 0.998, 0.998, 0.998, 0.52 , 0.4  ,\n",
       "        0.4  , 0.4  , 0.4  , 0.359, 0.359, 0.359, 0.359, 0.187, 0.137,\n",
       "        0.137, 0.137, 0.137, 0.086, 0.086, 0.086, 0.086, 0.085, 0.085,\n",
       "        0.085, 0.085, 0.074, 0.051, 0.051, 0.05 , 0.05 , 0.029, 0.028,\n",
       "        0.028, 0.028, 0.015, 0.015, 0.015, 0.015, 0.003, 0.003, 0.003,\n",
       "        0.003],\n",
       "       [1.387, 1.387, 1.387, 1.387, 1.344, 1.344, 1.344, 1.344, 1.302,\n",
       "        1.024, 1.024, 1.024, 1.024, 0.996, 0.996, 0.996, 0.996, 0.949,\n",
       "        0.949, 0.949, 0.949, 0.535, 0.408, 0.408, 0.408, 0.408, 0.246,\n",
       "        0.246, 0.246, 0.246, 0.184, 0.184, 0.184, 0.184, 0.142, 0.142,\n",
       "        0.142, 0.141, 0.057, 0.057, 0.057, 0.057, 0.013, 0.013, 0.013,\n",
       "        0.013, 0.004, 0.004, 0.004, 0.004, 0.   , 0.   , 0.   , 0.   ,\n",
       "        0.   , 0.   , 0.   , 0.   , 0.   , 0.   , 0.   , 0.   , 0.   ,\n",
       "        0.   ],\n",
       "       [1.387, 1.387, 1.387, 1.387, 1.344, 1.344, 1.344, 1.344, 1.302,\n",
       "        1.024, 1.024, 1.024, 1.024, 0.996, 0.996, 0.996, 0.996, 0.949,\n",
       "        0.949, 0.949, 0.949, 0.535, 0.408, 0.408, 0.408, 0.408, 0.246,\n",
       "        0.246, 0.246, 0.246, 0.184, 0.184, 0.184, 0.184, 0.142, 0.142,\n",
       "        0.142, 0.141, 0.057, 0.057, 0.057, 0.057, 0.013, 0.013, 0.013,\n",
       "        0.013, 0.004, 0.004, 0.004, 0.004, 0.   , 0.   , 0.   , 0.   ,\n",
       "        0.   , 0.   , 0.   , 0.   , 0.   , 0.   , 0.   , 0.   , 0.   ,\n",
       "        0.   ]])"
      ]
     },
     "execution_count": 99,
     "metadata": {},
     "output_type": "execute_result"
    }
   ],
   "source": [
    "left_ratios_and_norms[15][\"base_sing_vals_2\"]"
   ]
  },
  {
   "cell_type": "code",
   "execution_count": 100,
   "id": "6c1eaf9e-2434-4432-a050-e05ac535093d",
   "metadata": {},
   "outputs": [
    {
     "data": {
      "text/plain": [
       "array([[1.401e+00, 1.401e+00, 1.401e+00, 1.401e+00, 1.377e+00, 1.377e+00,\n",
       "        1.377e+00, 1.377e+00, 1.356e+00, 1.000e+00, 1.000e+00, 1.000e+00,\n",
       "        1.000e+00, 1.000e+00, 1.000e+00, 1.000e+00, 1.000e+00, 1.000e+00,\n",
       "        1.000e+00, 1.000e+00, 1.000e+00, 9.990e-01, 9.990e-01, 9.990e-01,\n",
       "        9.990e-01, 3.830e-01, 2.900e-01, 2.900e-01, 2.900e-01, 2.900e-01,\n",
       "        2.600e-01, 2.600e-01, 2.600e-01, 2.600e-01, 1.330e-01, 7.800e-02,\n",
       "        7.800e-02, 7.800e-02, 7.800e-02, 4.800e-02, 4.800e-02, 4.800e-02,\n",
       "        4.800e-02, 4.800e-02, 4.800e-02, 4.800e-02, 4.800e-02, 3.700e-02,\n",
       "        2.800e-02, 2.800e-02, 2.800e-02, 2.800e-02, 1.600e-02, 1.600e-02,\n",
       "        1.600e-02, 1.600e-02, 6.000e-03, 6.000e-03, 6.000e-03, 6.000e-03,\n",
       "        1.000e-03, 1.000e-03, 1.000e-03, 1.000e-03],\n",
       "       [1.401e+00, 1.401e+00, 1.401e+00, 1.401e+00, 1.377e+00, 1.377e+00,\n",
       "        1.377e+00, 1.377e+00, 1.356e+00, 1.000e+00, 1.000e+00, 1.000e+00,\n",
       "        1.000e+00, 1.000e+00, 1.000e+00, 1.000e+00, 1.000e+00, 1.000e+00,\n",
       "        1.000e+00, 1.000e+00, 1.000e+00, 9.990e-01, 9.990e-01, 9.990e-01,\n",
       "        9.990e-01, 3.830e-01, 2.900e-01, 2.900e-01, 2.900e-01, 2.900e-01,\n",
       "        2.600e-01, 2.600e-01, 2.600e-01, 2.600e-01, 1.330e-01, 7.800e-02,\n",
       "        7.800e-02, 7.800e-02, 7.800e-02, 4.800e-02, 4.800e-02, 4.800e-02,\n",
       "        4.800e-02, 4.800e-02, 4.800e-02, 4.800e-02, 4.800e-02, 3.700e-02,\n",
       "        2.800e-02, 2.800e-02, 2.800e-02, 2.800e-02, 1.600e-02, 1.600e-02,\n",
       "        1.600e-02, 1.600e-02, 6.000e-03, 6.000e-03, 6.000e-03, 6.000e-03,\n",
       "        1.000e-03, 1.000e-03, 1.000e-03, 1.000e-03],\n",
       "       [1.401e+00, 1.401e+00, 1.401e+00, 1.401e+00, 1.378e+00, 1.378e+00,\n",
       "        1.378e+00, 1.378e+00, 1.355e+00, 1.014e+00, 1.014e+00, 1.014e+00,\n",
       "        1.014e+00, 9.990e-01, 9.990e-01, 9.990e-01, 9.990e-01, 9.740e-01,\n",
       "        9.740e-01, 9.740e-01, 9.740e-01, 3.990e-01, 2.940e-01, 2.940e-01,\n",
       "        2.940e-01, 2.940e-01, 1.800e-01, 1.800e-01, 1.800e-01, 1.800e-01,\n",
       "        1.310e-01, 1.310e-01, 1.310e-01, 1.310e-01, 8.000e-02, 8.000e-02,\n",
       "        8.000e-02, 8.000e-02, 3.200e-02, 3.200e-02, 3.200e-02, 3.200e-02,\n",
       "        7.000e-03, 7.000e-03, 7.000e-03, 7.000e-03, 2.000e-03, 2.000e-03,\n",
       "        2.000e-03, 2.000e-03, 0.000e+00, 0.000e+00, 0.000e+00, 0.000e+00,\n",
       "        0.000e+00, 0.000e+00, 0.000e+00, 0.000e+00, 0.000e+00, 0.000e+00,\n",
       "        0.000e+00, 0.000e+00, 0.000e+00, 0.000e+00],\n",
       "       [1.401e+00, 1.401e+00, 1.401e+00, 1.401e+00, 1.378e+00, 1.378e+00,\n",
       "        1.378e+00, 1.378e+00, 1.355e+00, 1.014e+00, 1.014e+00, 1.014e+00,\n",
       "        1.014e+00, 9.990e-01, 9.990e-01, 9.990e-01, 9.990e-01, 9.740e-01,\n",
       "        9.740e-01, 9.740e-01, 9.740e-01, 3.990e-01, 2.940e-01, 2.940e-01,\n",
       "        2.940e-01, 2.940e-01, 1.800e-01, 1.800e-01, 1.800e-01, 1.800e-01,\n",
       "        1.310e-01, 1.310e-01, 1.310e-01, 1.310e-01, 8.000e-02, 8.000e-02,\n",
       "        8.000e-02, 8.000e-02, 3.200e-02, 3.200e-02, 3.200e-02, 3.200e-02,\n",
       "        7.000e-03, 7.000e-03, 7.000e-03, 7.000e-03, 2.000e-03, 2.000e-03,\n",
       "        2.000e-03, 2.000e-03, 0.000e+00, 0.000e+00, 0.000e+00, 0.000e+00,\n",
       "        0.000e+00, 0.000e+00, 0.000e+00, 0.000e+00, 0.000e+00, 0.000e+00,\n",
       "        0.000e+00, 0.000e+00, 0.000e+00, 0.000e+00]])"
      ]
     },
     "execution_count": 100,
     "metadata": {},
     "output_type": "execute_result"
    }
   ],
   "source": [
    "left_ratios_and_norms[20][\"base_sing_vals_2\"]"
   ]
  },
  {
   "cell_type": "markdown",
   "id": "43001e7a-4617-4cfb-b552-5f09587b7295",
   "metadata": {},
   "source": [
    "Conclusions:\n",
    "* No change from previous case "
   ]
  },
  {
   "cell_type": "markdown",
   "id": "9856980a-6008-442a-a3cc-816fd19e5746",
   "metadata": {},
   "source": [
    "### Norms of first virtual points"
   ]
  },
  {
   "cell_type": "code",
   "execution_count": 101,
   "id": "b1e50f85-fc78-4a0e-9b5f-8e1f37c3d4ef",
   "metadata": {},
   "outputs": [
    {
     "name": "stdout",
     "output_type": "stream",
     "text": [
      "\n",
      " i=0\n",
      "count    2003.000000\n",
      "mean        0.667453\n",
      "std         0.235374\n",
      "min         0.025355\n",
      "25%         0.504411\n",
      "50%         0.703933\n",
      "75%         0.868833\n",
      "max         0.999928\n",
      "dtype: float64\n",
      "\n",
      " i=1\n",
      "count    2003.000000\n",
      "mean        0.999374\n",
      "std         0.000362\n",
      "min         0.998746\n",
      "25%         0.999065\n",
      "50%         0.999367\n",
      "75%         0.999692\n",
      "max         0.999999\n",
      "dtype: float64\n",
      "\n",
      " i=2\n",
      "count    2003.000000\n",
      "mean        0.997468\n",
      "std         0.001461\n",
      "min         0.994927\n",
      "25%         0.996218\n",
      "50%         0.997441\n",
      "75%         0.998752\n",
      "max         0.999995\n",
      "dtype: float64\n",
      "\n",
      " i=3\n",
      "count    2003.000000\n",
      "mean        0.994198\n",
      "std         0.003341\n",
      "min         0.988364\n",
      "25%         0.991334\n",
      "50%         0.994149\n",
      "75%         0.997130\n",
      "max         0.999988\n",
      "dtype: float64\n",
      "\n",
      " i=4\n",
      "count    2003.000000\n",
      "mean        0.989408\n",
      "std         0.006082\n",
      "min         0.978728\n",
      "25%         0.984187\n",
      "50%         0.989328\n",
      "75%         0.994750\n",
      "max         0.999978\n",
      "dtype: float64\n",
      "\n",
      " i=5\n",
      "count    2003.000000\n",
      "mean        0.982847\n",
      "std         0.009811\n",
      "min         0.965496\n",
      "25%         0.974437\n",
      "50%         0.982728\n",
      "75%         0.991450\n",
      "max         0.999964\n",
      "dtype: float64\n",
      "\n",
      " i=6\n",
      "count    2003.000000\n",
      "mean        0.974117\n",
      "std         0.014734\n",
      "min         0.947842\n",
      "25%         0.961448\n",
      "50%         0.973981\n",
      "75%         0.987003\n",
      "max         0.999946\n",
      "dtype: float64\n",
      "\n",
      " i=7\n",
      "count    2003.000000\n",
      "mean        0.962572\n",
      "std         0.021181\n",
      "min         0.924442\n",
      "25%         0.944463\n",
      "50%         0.962503\n",
      "75%         0.981021\n",
      "max         0.999922\n",
      "dtype: float64\n",
      "\n",
      " i=8\n",
      "count    2003.000000\n",
      "mean        0.947084\n",
      "std         0.029733\n",
      "min         0.893014\n",
      "25%         0.921941\n",
      "50%         0.947150\n",
      "75%         0.973112\n",
      "max         0.999890\n",
      "dtype: float64\n",
      "\n",
      " i=9\n",
      "count    2003.000000\n",
      "mean        0.925487\n",
      "std         0.041491\n",
      "min         0.849304\n",
      "25%         0.890472\n",
      "50%         0.926410\n",
      "75%         0.961844\n",
      "max         0.999822\n",
      "dtype: float64\n",
      "\n",
      " i=10\n",
      "count    2003.000000\n",
      "mean        0.869210\n",
      "std         0.061600\n",
      "min         0.733714\n",
      "25%         0.818771\n",
      "50%         0.870990\n",
      "75%         0.918602\n",
      "max         0.999739\n",
      "dtype: float64\n",
      "\n",
      " i=11\n",
      "count    2003.000000\n",
      "mean        0.883843\n",
      "std         0.046147\n",
      "min         0.781618\n",
      "25%         0.852992\n",
      "50%         0.880176\n",
      "75%         0.913373\n",
      "max         0.999747\n",
      "dtype: float64\n",
      "\n",
      " i=12\n",
      "count    2003.000000\n",
      "mean        0.888727\n",
      "std         0.045141\n",
      "min         0.788235\n",
      "25%         0.856840\n",
      "50%         0.886920\n",
      "75%         0.918394\n",
      "max         0.999759\n",
      "dtype: float64\n",
      "\n",
      " i=13\n",
      "count    2003.000000\n",
      "mean        0.896987\n",
      "std         0.042873\n",
      "min         0.802946\n",
      "25%         0.864550\n",
      "50%         0.896105\n",
      "75%         0.926120\n",
      "max         0.999776\n",
      "dtype: float64\n",
      "\n",
      " i=14\n",
      "count    2003.000000\n",
      "mean        0.903183\n",
      "std         0.041430\n",
      "min         0.813796\n",
      "25%         0.870888\n",
      "50%         0.902828\n",
      "75%         0.933102\n",
      "max         0.999789\n",
      "dtype: float64\n",
      "\n",
      " i=15\n",
      "count    2003.000000\n",
      "mean        0.907937\n",
      "std         0.040495\n",
      "min         0.822041\n",
      "25%         0.875748\n",
      "50%         0.907664\n",
      "75%         0.938971\n",
      "max         0.999800\n",
      "dtype: float64\n",
      "\n",
      " i=16\n",
      "count    2003.000000\n",
      "mean        0.911665\n",
      "std         0.039877\n",
      "min         0.828448\n",
      "25%         0.879083\n",
      "50%         0.911519\n",
      "75%         0.943101\n",
      "max         0.999808\n",
      "dtype: float64\n",
      "\n",
      " i=17\n",
      "count    2003.000000\n",
      "mean        0.914643\n",
      "std         0.039461\n",
      "min         0.833524\n",
      "25%         0.882170\n",
      "50%         0.915204\n",
      "75%         0.946388\n",
      "max         0.999814\n",
      "dtype: float64\n",
      "\n",
      " i=18\n",
      "count    2003.000000\n",
      "mean        0.917063\n",
      "std         0.039177\n",
      "min         0.837618\n",
      "25%         0.884316\n",
      "50%         0.917426\n",
      "75%         0.949211\n",
      "max         0.999820\n",
      "dtype: float64\n",
      "\n",
      " i=19\n",
      "count    2003.000000\n",
      "mean        0.919056\n",
      "std         0.038980\n",
      "min         0.840969\n",
      "25%         0.886059\n",
      "50%         0.919141\n",
      "75%         0.951673\n",
      "max         0.999824\n",
      "dtype: float64\n",
      "\n",
      " i=20\n",
      "count    2003.000000\n",
      "mean        0.920720\n",
      "std         0.038843\n",
      "min         0.843749\n",
      "25%         0.887870\n",
      "50%         0.921024\n",
      "75%         0.953721\n",
      "max         0.999828\n",
      "dtype: float64\n"
     ]
    }
   ],
   "source": [
    "for i, d in enumerate(left_ratios_and_norms):\n",
    "    print(\"\\n i={}\".format(i))\n",
    "    print(d[\"norm_virtual_points_1_stats\"])"
   ]
  },
  {
   "cell_type": "markdown",
   "id": "ce21a09e-005e-4f75-b44d-b91f152d4007",
   "metadata": {},
   "source": [
    "Concluisons:\n",
    "Wide spread in values across the board."
   ]
  },
  {
   "cell_type": "markdown",
   "id": "1f8fd0e8-4ce2-4e6d-9435-4c84c3bc88b9",
   "metadata": {},
   "source": [
    "### Max of norm of second virtual points against norm of first virtual point"
   ]
  },
  {
   "cell_type": "code",
   "execution_count": 102,
   "id": "50c72c25-259e-4284-8fc0-0baab70b9516",
   "metadata": {},
   "outputs": [
    {
     "data": {
      "text/plain": [
       "<matplotlib.collections.PathCollection at 0x77a78ea8b610>"
      ]
     },
     "execution_count": 102,
     "metadata": {},
     "output_type": "execute_result"
    },
    {
     "data": {
      "image/png": "[encoded data removed]",
      "text/plain": [
       "<Figure size 800x600 with 1 Axes>"
      ]
     },
     "metadata": {},
     "output_type": "display_data"
    }
   ],
   "source": [
    "i = 0\n",
    "d = left_ratios_and_norms[i]\n",
    "\n",
    "fig, ax = plt.subplots(figsize=(8,6))\n",
    "\n",
    "ax.scatter(d['norms_1'], d['max_norms_2'] ,s=10)"
   ]
  },
  {
   "cell_type": "code",
   "execution_count": 103,
   "id": "b4cf34b1-c873-43db-b747-8a4497d5e295",
   "metadata": {},
   "outputs": [
    {
     "data": {
      "text/plain": [
       "<matplotlib.collections.PathCollection at 0x77a78ea60150>"
      ]
     },
     "execution_count": 103,
     "metadata": {},
     "output_type": "execute_result"
    },
    {
     "data": {
      "image/png": "[encoded data removed]",
      "text/plain": [
       "<Figure size 800x600 with 1 Axes>"
      ]
     },
     "metadata": {},
     "output_type": "display_data"
    }
   ],
   "source": [
    "i = 5\n",
    "d = left_ratios_and_norms[i]\n",
    "\n",
    "fig, ax = plt.subplots(figsize=(8,6))\n",
    "\n",
    "ax.scatter(d['norms_1'], d['max_norms_2'] ,s=10)"
   ]
  },
  {
   "cell_type": "code",
   "execution_count": 104,
   "id": "5a151581-757b-43c5-bc9a-a3b9d12a0e57",
   "metadata": {},
   "outputs": [
    {
     "data": {
      "text/plain": [
       "<matplotlib.collections.PathCollection at 0x77a78e93cb90>"
      ]
     },
     "execution_count": 104,
     "metadata": {},
     "output_type": "execute_result"
    },
    {
     "data": {
      "image/png": "[encoded data removed]",
      "text/plain": [
       "<Figure size 800x600 with 1 Axes>"
      ]
     },
     "metadata": {},
     "output_type": "display_data"
    }
   ],
   "source": [
    "i = 9\n",
    "d = left_ratios_and_norms[i]\n",
    "\n",
    "fig, ax = plt.subplots(figsize=(8,6))\n",
    "\n",
    "ax.scatter(d['norms_1'], d['max_norms_2'] ,s=10)"
   ]
  },
  {
   "cell_type": "code",
   "execution_count": 105,
   "id": "a0f41521-5cf9-4a75-99a0-4c005c81a1a7",
   "metadata": {},
   "outputs": [
    {
     "data": {
      "text/plain": [
       "<matplotlib.collections.PathCollection at 0x77a78e805a10>"
      ]
     },
     "execution_count": 105,
     "metadata": {},
     "output_type": "execute_result"
    },
    {
     "data": {
      "image/png": "[encoded data removed]",
      "text/plain": [
       "<Figure size 800x600 with 1 Axes>"
      ]
     },
     "metadata": {},
     "output_type": "display_data"
    }
   ],
   "source": [
    "i = 11\n",
    "d = left_ratios_and_norms[i]\n",
    "\n",
    "fig, ax = plt.subplots(figsize=(8,6))\n",
    "\n",
    "ax.scatter(d['norms_1'], d['max_norms_2'] ,s=10)"
   ]
  },
  {
   "cell_type": "code",
   "execution_count": 106,
   "id": "9dfff65a-319c-476f-bece-b5146ceef2f1",
   "metadata": {},
   "outputs": [
    {
     "data": {
      "text/plain": [
       "<matplotlib.collections.PathCollection at 0x77a78e831ed0>"
      ]
     },
     "execution_count": 106,
     "metadata": {},
     "output_type": "execute_result"
    },
    {
     "data": {
      "image/png": "[encoded data removed]",
      "text/plain": [
       "<Figure size 800x600 with 1 Axes>"
      ]
     },
     "metadata": {},
     "output_type": "display_data"
    }
   ],
   "source": [
    "i = 15\n",
    "d = left_ratios_and_norms[i]\n",
    "\n",
    "fig, ax = plt.subplots(figsize=(8,6))\n",
    "\n",
    "ax.scatter(d['norms_1'], d['max_norms_2'] ,s=10)"
   ]
  },
  {
   "cell_type": "code",
   "execution_count": 107,
   "id": "c378ea7f-72b0-47cb-901d-ce446437d8a6",
   "metadata": {},
   "outputs": [
    {
     "data": {
      "text/plain": [
       "<matplotlib.collections.PathCollection at 0x77a8cc327810>"
      ]
     },
     "execution_count": 107,
     "metadata": {},
     "output_type": "execute_result"
    },
    {
     "data": {
      "image/png": "[encoded data removed]",
      "text/plain": [
       "<Figure size 800x600 with 1 Axes>"
      ]
     },
     "metadata": {},
     "output_type": "display_data"
    }
   ],
   "source": [
    "i = 20\n",
    "d = left_ratios_and_norms[i]\n",
    "\n",
    "fig, ax = plt.subplots(figsize=(8,6))\n",
    "\n",
    "ax.scatter(d['norms_1'], d['max_norms_2'] ,s=10)"
   ]
  },
  {
   "cell_type": "markdown",
   "id": "e1ce7c40-44d4-4188-a953-b42c1a1ad4f3",
   "metadata": {},
   "source": [
    "Conclusions:\n",
    "* Quite different behaviour to right side. Makes sense considering the assymmetry of the symmetry operation."
   ]
  },
  {
   "cell_type": "markdown",
   "id": "b229acb2-539e-4e5a-aafd-cb396acb05a4",
   "metadata": {},
   "source": [
    "### Ratio of norms"
   ]
  },
  {
   "cell_type": "code",
   "execution_count": 108,
   "id": "e5823b74-f158-448a-9178-70984c343bcb",
   "metadata": {},
   "outputs": [
    {
     "name": "stdout",
     "output_type": "stream",
     "text": [
      "\n",
      " i=0\n",
      "count    2003.000000\n",
      "mean        0.898307\n",
      "std         0.095170\n",
      "min         0.000000\n",
      "25%         0.826933\n",
      "50%         0.924269\n",
      "75%         0.981067\n",
      "max         0.999928\n",
      "dtype: float64\n",
      "\n",
      " i=1\n",
      "count    2003.000000\n",
      "mean        0.998189\n",
      "std         0.038670\n",
      "min         0.000000\n",
      "25%         0.999529\n",
      "50%         0.999686\n",
      "75%         0.999842\n",
      "max         0.999999\n",
      "dtype: float64\n",
      "\n",
      " i=2\n",
      "count    2003.000000\n",
      "mean        0.997235\n",
      "std         0.038639\n",
      "min         0.000000\n",
      "25%         0.998096\n",
      "50%         0.998730\n",
      "75%         0.999362\n",
      "max         0.999994\n",
      "dtype: float64\n",
      "\n",
      " i=3\n",
      "count    2003.000000\n",
      "mean        0.995601\n",
      "std         0.038605\n",
      "min         0.000000\n",
      "25%         0.995637\n",
      "50%         0.997089\n",
      "75%         0.998544\n",
      "max         0.999986\n",
      "dtype: float64\n",
      "\n",
      " i=4\n",
      "count    2003.000000\n",
      "mean        0.993215\n",
      "std         0.038597\n",
      "min         0.000000\n",
      "25%         0.992062\n",
      "50%         0.994697\n",
      "75%         0.997352\n",
      "max         0.999975\n",
      "dtype: float64\n",
      "\n",
      " i=5\n",
      "count    2003.000000\n",
      "mean        0.989965\n",
      "std         0.038666\n",
      "min         0.000000\n",
      "25%         0.987197\n",
      "50%         0.991421\n",
      "75%         0.995743\n",
      "max         0.999960\n",
      "dtype: float64\n",
      "\n",
      " i=6\n",
      "count    2003.000000\n",
      "mean        0.985677\n",
      "std         0.038898\n",
      "min         0.000000\n",
      "25%         0.980723\n",
      "50%         0.987155\n",
      "75%         0.993593\n",
      "max         0.999939\n",
      "dtype: float64\n",
      "\n",
      " i=7\n",
      "count    2003.000000\n",
      "mean        0.980080\n",
      "std         0.039440\n",
      "min         0.000000\n",
      "25%         0.972219\n",
      "50%         0.981655\n",
      "75%         0.990893\n",
      "max         0.999912\n",
      "dtype: float64\n",
      "\n",
      " i=8\n",
      "count    2003.000000\n",
      "mean        0.972728\n",
      "std         0.040554\n",
      "min         0.000000\n",
      "25%         0.961095\n",
      "50%         0.974190\n",
      "75%         0.987201\n",
      "max         0.999876\n",
      "dtype: float64\n",
      "\n",
      " i=9\n",
      "count    2003.000000\n",
      "mean        0.962792\n",
      "std         0.042737\n",
      "min         0.000000\n",
      "25%         0.946029\n",
      "50%         0.964378\n",
      "75%         0.982382\n",
      "max         0.999826\n",
      "dtype: float64\n",
      "\n",
      " i=10\n",
      "count    2003.000000\n",
      "mean        0.966014\n",
      "std         0.048349\n",
      "min         0.000000\n",
      "25%         0.947496\n",
      "50%         0.971664\n",
      "75%         0.991119\n",
      "max         1.031184\n",
      "dtype: float64\n",
      "\n",
      " i=11\n",
      "count    2003.000000\n",
      "mean        0.975593\n",
      "std         0.039701\n",
      "min         0.000000\n",
      "25%         0.966841\n",
      "50%         0.977388\n",
      "75%         0.987510\n",
      "max         0.999201\n",
      "dtype: float64\n",
      "\n",
      " i=12\n",
      "count    2003.000000\n",
      "mean        0.982451\n",
      "std         0.039152\n",
      "min         0.000000\n",
      "25%         0.976104\n",
      "50%         0.984253\n",
      "75%         0.991954\n",
      "max         0.999412\n",
      "dtype: float64\n",
      "\n",
      " i=13\n",
      "count    2003.000000\n",
      "mean        0.985489\n",
      "std         0.038890\n",
      "min         0.000000\n",
      "25%         0.980612\n",
      "50%         0.987252\n",
      "75%         0.993404\n",
      "max         0.999459\n",
      "dtype: float64\n",
      "\n",
      " i=14\n",
      "count    2003.000000\n",
      "mean        0.987746\n",
      "std         0.038748\n",
      "min         0.000000\n",
      "25%         0.983992\n",
      "50%         0.989451\n",
      "75%         0.994544\n",
      "max         0.999496\n",
      "dtype: float64\n",
      "\n",
      " i=15\n",
      "count    2003.000000\n",
      "mean        0.989454\n",
      "std         0.038671\n",
      "min         0.000000\n",
      "25%         0.986565\n",
      "50%         0.991136\n",
      "75%         0.995404\n",
      "max         0.999525\n",
      "dtype: float64\n",
      "\n",
      " i=16\n",
      "count    2003.000000\n",
      "mean        0.990774\n",
      "std         0.038628\n",
      "min         0.000000\n",
      "25%         0.988487\n",
      "50%         0.992389\n",
      "75%         0.996053\n",
      "max         0.999560\n",
      "dtype: float64\n",
      "\n",
      " i=17\n",
      "count    2003.000000\n",
      "mean        0.991814\n",
      "std         0.038605\n",
      "min         0.000000\n",
      "25%         0.990070\n",
      "50%         0.993439\n",
      "75%         0.996581\n",
      "max         0.999612\n",
      "dtype: float64\n",
      "\n",
      " i=18\n",
      "count    2003.000000\n",
      "mean        0.992647\n",
      "std         0.038593\n",
      "min         0.000000\n",
      "25%         0.991314\n",
      "50%         0.994228\n",
      "75%         0.996990\n",
      "max         0.999651\n",
      "dtype: float64\n",
      "\n",
      " i=19\n",
      "count    2003.000000\n",
      "mean        0.993324\n",
      "std         0.038588\n",
      "min         0.000000\n",
      "25%         0.992319\n",
      "50%         0.994907\n",
      "75%         0.997326\n",
      "max         0.999681\n",
      "dtype: float64\n",
      "\n",
      " i=20\n",
      "count    2003.000000\n",
      "mean        0.993882\n",
      "std         0.038587\n",
      "min         0.000000\n",
      "25%         0.993158\n",
      "50%         0.995452\n",
      "75%         0.997602\n",
      "max         0.999703\n",
      "dtype: float64\n"
     ]
    }
   ],
   "source": [
    "for i, d in enumerate(left_ratios_and_norms):\n",
    "    print(\"\\n i={}\".format(i))\n",
    "    print(d[\"2_to_1_ratios_stats\"])"
   ]
  },
  {
   "cell_type": "markdown",
   "id": "c723ff1b-eeaa-4de6-ac8f-1e6fa4230271",
   "metadata": {},
   "source": [
    "Conclusions:\n",
    "* Again, all bounded."
   ]
  },
  {
   "cell_type": "markdown",
   "id": "c01ed3d9-131e-4c2d-9610-4ff2b1106028",
   "metadata": {},
   "source": [
    "## Which operators preserve the virtual vector norm?\n",
    "And does this change depending on the previous operator used?"
   ]
  },
  {
   "cell_type": "markdown",
   "id": "52f5a72d-ce66-4a1e-a0f7-e68c8cfccddb",
   "metadata": {},
   "source": [
    "### Exploration"
   ]
  },
  {
   "cell_type": "code",
   "execution_count": 109,
   "id": "3d2b3efb-96ca-43fe-a221-dfc78e81e43a",
   "metadata": {},
   "outputs": [],
   "source": [
    "base_index = (test_psi.L + 80)//2"
   ]
  },
  {
   "cell_type": "code",
   "execution_count": 110,
   "id": "9dda68b4-7d76-436d-967b-8d53585d7bf8",
   "metadata": {},
   "outputs": [],
   "source": [
    "base_transfer_matrices = get_base_transfer_matrices(test_psi, base_index)"
   ]
  },
  {
   "cell_type": "code",
   "execution_count": 111,
   "id": "a1df7338-2e5b-4a00-8a9d-250cd36b5ae2",
   "metadata": {},
   "outputs": [
    {
     "data": {
      "text/plain": [
       "(4, 64, 64)"
      ]
     },
     "execution_count": 111,
     "metadata": {},
     "output_type": "execute_result"
    }
   ],
   "source": [
    "base_transfer_matrices.shape"
   ]
  },
  {
   "cell_type": "code",
   "execution_count": 112,
   "id": "2ab4afba-5670-4e0f-867d-ea7c2b02a628",
   "metadata": {},
   "outputs": [],
   "source": [
    "sing_vals = np.round(np.linalg.svd(base_transfer_matrices).S, 3)"
   ]
  },
  {
   "cell_type": "code",
   "execution_count": 113,
   "id": "760656e0-e0bf-494b-9cc0-c232ab08f1dc",
   "metadata": {},
   "outputs": [
    {
     "data": {
      "text/plain": [
       "(Counter({1.39: 16, 0.259: 16, 0.033: 16, 0.006: 16}),\n",
       " Counter({1.39: 16, 0.259: 16, 0.033: 16, 0.006: 16}),\n",
       " Counter({0.0: 32, 1.39: 16, 0.261: 16}),\n",
       " Counter({0.0: 32, 1.39: 16, 0.261: 16}))"
      ]
     },
     "execution_count": 113,
     "metadata": {},
     "output_type": "execute_result"
    }
   ],
   "source": [
    "(\n",
    "    Counter(sing_vals[0]),\n",
    "    Counter(sing_vals[1]),\n",
    "    Counter(sing_vals[2]),\n",
    "    Counter(sing_vals[3])\n",
    ")"
   ]
  },
  {
   "cell_type": "code",
   "execution_count": 118,
   "id": "947466cf-169a-4603-bdf2-7eaa5d57c6f7",
   "metadata": {},
   "outputs": [],
   "source": [
    "eig_vals = np.round(np.abs(np.linalg.eig(base_transfer_matrices).eigenvalues), 3)"
   ]
  },
  {
   "cell_type": "code",
   "execution_count": 119,
   "id": "e5905881-a458-4541-88aa-c89b64702ac3",
   "metadata": {},
   "outputs": [
    {
     "data": {
      "text/plain": [
       "(Counter({0.093: 8,\n",
       "          0.01: 4,\n",
       "          1.0: 2,\n",
       "          0.057: 2,\n",
       "          0.009: 2,\n",
       "          0.033: 2,\n",
       "          0.746: 1,\n",
       "          0.843: 1,\n",
       "          0.851: 1,\n",
       "          0.69: 1,\n",
       "          0.84: 1,\n",
       "          0.847: 1,\n",
       "          0.318: 1,\n",
       "          0.306: 1,\n",
       "          0.26: 1,\n",
       "          0.243: 1,\n",
       "          0.296: 1,\n",
       "          0.262: 1,\n",
       "          0.288: 1,\n",
       "          0.268: 1,\n",
       "          0.177: 1,\n",
       "          0.173: 1,\n",
       "          0.141: 1,\n",
       "          0.147: 1,\n",
       "          0.153: 1,\n",
       "          0.152: 1,\n",
       "          0.113: 1,\n",
       "          0.126: 1,\n",
       "          0.13: 1,\n",
       "          0.111: 1,\n",
       "          0.133: 1,\n",
       "          0.132: 1,\n",
       "          0.061: 1,\n",
       "          0.065: 1,\n",
       "          0.078: 1,\n",
       "          0.036: 1,\n",
       "          0.067: 1,\n",
       "          0.032: 1,\n",
       "          0.027: 1,\n",
       "          0.05: 1,\n",
       "          0.069: 1,\n",
       "          0.012: 1,\n",
       "          0.077: 1,\n",
       "          0.029: 1,\n",
       "          0.066: 1,\n",
       "          0.059: 1,\n",
       "          0.049: 1,\n",
       "          0.028: 1,\n",
       "          0.03: 1,\n",
       "          0.013: 1}),\n",
       " Counter({0.093: 8,\n",
       "          0.01: 4,\n",
       "          1.0: 2,\n",
       "          0.057: 2,\n",
       "          0.033: 2,\n",
       "          0.009: 2,\n",
       "          0.746: 1,\n",
       "          0.843: 1,\n",
       "          0.84: 1,\n",
       "          0.851: 1,\n",
       "          0.847: 1,\n",
       "          0.69: 1,\n",
       "          0.318: 1,\n",
       "          0.296: 1,\n",
       "          0.26: 1,\n",
       "          0.268: 1,\n",
       "          0.243: 1,\n",
       "          0.262: 1,\n",
       "          0.306: 1,\n",
       "          0.288: 1,\n",
       "          0.153: 1,\n",
       "          0.173: 1,\n",
       "          0.177: 1,\n",
       "          0.141: 1,\n",
       "          0.133: 1,\n",
       "          0.126: 1,\n",
       "          0.152: 1,\n",
       "          0.147: 1,\n",
       "          0.132: 1,\n",
       "          0.13: 1,\n",
       "          0.111: 1,\n",
       "          0.077: 1,\n",
       "          0.113: 1,\n",
       "          0.078: 1,\n",
       "          0.059: 1,\n",
       "          0.049: 1,\n",
       "          0.061: 1,\n",
       "          0.067: 1,\n",
       "          0.069: 1,\n",
       "          0.066: 1,\n",
       "          0.05: 1,\n",
       "          0.036: 1,\n",
       "          0.065: 1,\n",
       "          0.027: 1,\n",
       "          0.028: 1,\n",
       "          0.012: 1,\n",
       "          0.013: 1,\n",
       "          0.032: 1,\n",
       "          0.029: 1,\n",
       "          0.03: 1}),\n",
       " Counter({0.0: 40,\n",
       "          0.09: 4,\n",
       "          0.067: 4,\n",
       "          0.966: 2,\n",
       "          0.662: 2,\n",
       "          0.797: 2,\n",
       "          0.802: 2,\n",
       "          0.212: 2,\n",
       "          0.168: 2,\n",
       "          0.137: 2,\n",
       "          0.11: 2}),\n",
       " Counter({0.0: 40,\n",
       "          0.067: 4,\n",
       "          0.09: 4,\n",
       "          0.966: 2,\n",
       "          0.797: 2,\n",
       "          0.662: 2,\n",
       "          0.802: 2,\n",
       "          0.212: 2,\n",
       "          0.137: 2,\n",
       "          0.11: 2,\n",
       "          0.168: 2}))"
      ]
     },
     "execution_count": 119,
     "metadata": {},
     "output_type": "execute_result"
    }
   ],
   "source": [
    "(\n",
    "    Counter(eig_vals[0]),\n",
    "    Counter(eig_vals[1]),\n",
    "    Counter(eig_vals[2]),\n",
    "    Counter(eig_vals[3])\n",
    ")"
   ]
  },
  {
   "cell_type": "code",
   "execution_count": 120,
   "id": "de404495-054d-4c18-b5b0-30f04ed4b182",
   "metadata": {},
   "outputs": [],
   "source": [
    "s3_points = super_fibonacci(int(2e4))\n",
    "s3_search_points = s3_points[s3_points[:, 0] >=  0]"
   ]
  },
  {
   "cell_type": "code",
   "execution_count": 121,
   "id": "564d4f14-fdd6-40c9-ad7e-a6a0d1d5f604",
   "metadata": {},
   "outputs": [
    {
     "data": {
      "text/plain": [
       "(20000, 4)"
      ]
     },
     "execution_count": 121,
     "metadata": {},
     "output_type": "execute_result"
    }
   ],
   "source": [
    "s3_points.shape"
   ]
  },
  {
   "cell_type": "code",
   "execution_count": 122,
   "id": "8f0430b4-6579-4856-af7d-7cff7472c6c8",
   "metadata": {},
   "outputs": [],
   "source": [
    "test_symmetry_tm = symmetry_tms[5]"
   ]
  },
  {
   "cell_type": "code",
   "execution_count": 123,
   "id": "e9aefe2a-26cb-4700-ada4-f45ef841ebf5",
   "metadata": {},
   "outputs": [],
   "source": [
    "*_, test_right_projected_state = get_left_right_projected_states(test_symmetry_tm)"
   ]
  },
  {
   "cell_type": "code",
   "execution_count": 124,
   "id": "b18d815b-7538-4ba7-b646-fe8d6b1510ed",
   "metadata": {},
   "outputs": [
    {
     "data": {
      "text/plain": [
       "(64,)"
      ]
     },
     "execution_count": 124,
     "metadata": {},
     "output_type": "execute_result"
    }
   ],
   "source": [
    "test_right_projected_state.shape"
   ]
  },
  {
   "cell_type": "code",
   "execution_count": 125,
   "id": "b288b1a2-bc07-4290-9587-4cf769e22dc3",
   "metadata": {},
   "outputs": [
    {
     "data": {
      "text/plain": [
       "1.0"
      ]
     },
     "execution_count": 125,
     "metadata": {},
     "output_type": "execute_result"
    }
   ],
   "source": [
    "np.linalg.norm(test_right_projected_state)"
   ]
  },
  {
   "cell_type": "code",
   "execution_count": 126,
   "id": "3dd1141a-d7a6-43cd-991b-3b81601c49e1",
   "metadata": {},
   "outputs": [],
   "source": [
    "test_next_base_points = np.tensordot(\n",
    "    test_right_projected_state,\n",
    "    base_transfer_matrices,\n",
    "    [[0,], [1,]]\n",
    ")"
   ]
  },
  {
   "cell_type": "code",
   "execution_count": 127,
   "id": "ee1a51e2-24b0-4c7c-80cc-066efb3e9ec4",
   "metadata": {},
   "outputs": [
    {
     "data": {
      "text/plain": [
       "array([0.25989061, 1.        , 0.96532736, 0.02449415])"
      ]
     },
     "execution_count": 127,
     "metadata": {},
     "output_type": "execute_result"
    }
   ],
   "source": [
    "np.linalg.norm(test_next_base_points, axis=1)"
   ]
  },
  {
   "cell_type": "code",
   "execution_count": 129,
   "id": "a82e2c55-3a17-4448-98bd-92481312dfa6",
   "metadata": {},
   "outputs": [
    {
     "data": {
      "text/plain": [
       "(4, 64)"
      ]
     },
     "execution_count": 129,
     "metadata": {},
     "output_type": "execute_result"
    }
   ],
   "source": [
    "test_next_base_points.shape"
   ]
  },
  {
   "cell_type": "code",
   "execution_count": 143,
   "id": "c45366e6-f0e3-45a2-9f97-9f0c7c6df5bb",
   "metadata": {},
   "outputs": [],
   "source": [
    "inner_product_array = np.dot(test_next_base_points, test_next_base_points.T.conj())"
   ]
  },
  {
   "cell_type": "code",
   "execution_count": 144,
   "id": "b881ef87-d036-4d1e-9f16-e58a8ec6a4b2",
   "metadata": {},
   "outputs": [
    {
     "data": {
      "text/plain": [
       "array([[ 0.068+0.j   ,  0.   -0.259j, -0.   +0.j   ,  0.   -0.j   ],\n",
       "       [ 0.   +0.259j,  1.   +0.j   ,  0.   -0.j   ,  0.   +0.j   ],\n",
       "       [-0.   +0.j   ,  0.   +0.j   ,  0.932+0.j   ,  0.   -0.j   ],\n",
       "       [ 0.   +0.j   ,  0.   +0.j   ,  0.   +0.j   ,  0.001+0.j   ]])"
      ]
     },
     "execution_count": 144,
     "metadata": {},
     "output_type": "execute_result"
    }
   ],
   "source": [
    "np.round(inner_product_array, 3)"
   ]
  },
  {
   "cell_type": "code",
   "execution_count": 145,
   "id": "2b2aff7f-181d-430e-9769-148751257b36",
   "metadata": {},
   "outputs": [
    {
     "data": {
      "text/plain": [
       "array([5.23964550e-04, 1.06701916e+00, 5.99963590e-04, 9.31856908e-01])"
      ]
     },
     "execution_count": 145,
     "metadata": {},
     "output_type": "execute_result"
    }
   ],
   "source": [
    "np.abs(np.linalg.eig(inner_product_array).eigenvalues)"
   ]
  },
  {
   "cell_type": "code",
   "execution_count": 146,
   "id": "606d10bb-501e-4f62-9c8d-a54f87bae0f7",
   "metadata": {},
   "outputs": [
    {
     "data": {
      "text/plain": [
       "array([[ 0.968+0.j   , -0.   -0.251j, -0.   +0.j   ,  0.   +0.j   ],\n",
       "       [ 0.   -0.251j,  0.968+0.j   ,  0.   +0.j   ,  0.   +0.j   ],\n",
       "       [ 0.   -0.j   ,  0.   +0.j   ,  0.   -0.j   ,  1.   +0.j   ],\n",
       "       [-0.   -0.j   ,  0.   -0.j   ,  1.   +0.j   , -0.   +0.j   ]])"
      ]
     },
     "execution_count": 146,
     "metadata": {},
     "output_type": "execute_result"
    }
   ],
   "source": [
    "np.round(np.linalg.eig(inner_product_array).eigenvectors, 3)"
   ]
  },
  {
   "cell_type": "code",
   "execution_count": 147,
   "id": "7649f54a-1818-451a-9fd0-6c53f6bfc55d",
   "metadata": {},
   "outputs": [
    {
     "data": {
      "text/plain": [
       "array([1.067e+00, 9.320e-01, 1.000e-03, 1.000e-03])"
      ]
     },
     "execution_count": 147,
     "metadata": {},
     "output_type": "execute_result"
    }
   ],
   "source": [
    "np.round(np.linalg.svd(inner_product_array).S, 3)"
   ]
  },
  {
   "cell_type": "code",
   "execution_count": 148,
   "id": "53d1bbc8-addd-484f-aa95-afc1c49a60e9",
   "metadata": {},
   "outputs": [],
   "source": [
    "real_inner_product_array = np.real(inner_product_array)"
   ]
  },
  {
   "cell_type": "code",
   "execution_count": 149,
   "id": "33234042-0bdc-4eb0-aff5-7e72fb003f34",
   "metadata": {},
   "outputs": [
    {
     "data": {
      "text/plain": [
       "array([[ 0.068,  0.   , -0.   ,  0.   ],\n",
       "       [ 0.   ,  1.   ,  0.   ,  0.   ],\n",
       "       [-0.   ,  0.   ,  0.932,  0.   ],\n",
       "       [ 0.   ,  0.   ,  0.   ,  0.001]])"
      ]
     },
     "execution_count": 149,
     "metadata": {},
     "output_type": "execute_result"
    }
   ],
   "source": [
    "np.round(real_inner_product_array, 3)"
   ]
  },
  {
   "cell_type": "markdown",
   "id": "a5bb5e16-2815-4f2b-b9f6-48795bab20da",
   "metadata": {},
   "source": [
    "Already diagonal...!"
   ]
  },
  {
   "cell_type": "code",
   "execution_count": 150,
   "id": "f417eb4e-bc4c-470f-9915-935753265d38",
   "metadata": {},
   "outputs": [
    {
     "data": {
      "text/plain": [
       "array([6.75431288e-02, 9.31856908e-01, 1.00000000e+00, 5.99963590e-04])"
      ]
     },
     "execution_count": 150,
     "metadata": {},
     "output_type": "execute_result"
    }
   ],
   "source": [
    "np.abs(np.linalg.eig(real_inner_product_array).eigenvalues)"
   ]
  },
  {
   "cell_type": "markdown",
   "id": "aef1aa87-7853-4922-b83e-0a96551f9817",
   "metadata": {},
   "source": [
    "Check what happens when we map after $X$."
   ]
  },
  {
   "cell_type": "code",
   "execution_count": 151,
   "id": "527817e4-e924-4090-a6b5-ffd233243804",
   "metadata": {},
   "outputs": [],
   "source": [
    "next_base_transfer_matrices = get_base_transfer_matrices(test_psi, base_index+1)"
   ]
  },
  {
   "cell_type": "code",
   "execution_count": 152,
   "id": "7a0aecae-e335-4509-9d4c-d67d5d42b675",
   "metadata": {},
   "outputs": [
    {
     "data": {
      "text/plain": [
       "array([0.+7.07106681e-01j, 0.-1.98669504e-04j, 0.-4.80297270e-16j,\n",
       "       0.-5.20454521e-16j, 0.-3.16475525e-15j, 0.-6.87777428e-16j,\n",
       "       0.-5.67381436e-18j, 0.-1.37788006e-17j, 0.-1.98669504e-04j,\n",
       "       0.-7.07106679e-01j, 0.-2.83891006e-15j, 0.-1.21508186e-15j,\n",
       "       0.-9.13938497e-16j, 0.-7.83321918e-16j, 0.+1.36615269e-17j,\n",
       "       0.+2.54714116e-18j, 0.-4.80146690e-16j, 0.-2.83888977e-15j,\n",
       "       0.+1.45125387e-04j, 0.+1.74975561e-04j, 0.-1.86382233e-08j,\n",
       "       0.-2.61197354e-08j, 0.-4.31721975e-19j, 0.+3.94066362e-19j,\n",
       "       0.-5.20402122e-16j, 0.-1.21585567e-15j, 0.+1.74975561e-04j,\n",
       "       0.-1.45125384e-04j, 0.-2.16807384e-08j, 0.+4.06000621e-08j,\n",
       "       0.-4.20540361e-19j, 0.-2.90052536e-19j, 0.-3.16459444e-15j,\n",
       "       0.-9.13911708e-16j, 0.-1.86382233e-08j, 0.-2.16807384e-08j,\n",
       "       0.-2.01689908e-04j, 0.-1.04876146e-04j, 0.+2.85412053e-19j,\n",
       "       0.-4.71997496e-19j, 0.-6.89228403e-16j, 0.-7.83178936e-16j,\n",
       "       0.-2.61197354e-08j, 0.+4.06000621e-08j, 0.-1.04876146e-04j,\n",
       "       0.+2.01689904e-04j, 0.-2.22028925e-19j, 0.-4.50351814e-19j,\n",
       "       0.-5.67246944e-18j, 0.+1.36615436e-17j, 0.-4.31665299e-19j,\n",
       "       0.-4.20554019e-19j, 0.+2.85177134e-19j, 0.-2.22208423e-19j,\n",
       "       0.-7.30834275e-08j, 0.+9.53924637e-11j, 0.-1.37788898e-17j,\n",
       "       0.+2.54725818e-18j, 0.+3.93573363e-19j, 0.-2.90231207e-19j,\n",
       "       0.-4.71941339e-19j, 0.-4.50348029e-19j, 0.+9.53924637e-11j,\n",
       "       0.+7.30834273e-08j])"
      ]
     },
     "execution_count": 152,
     "metadata": {},
     "output_type": "execute_result"
    }
   ],
   "source": [
    "test_next_base_points[1]"
   ]
  },
  {
   "cell_type": "code",
   "execution_count": 153,
   "id": "06253cef-5178-4256-a4ae-50c751dcd5eb",
   "metadata": {},
   "outputs": [],
   "source": [
    "base_points_after_X = np.tensordot(next_base_transfer_matrices, test_next_base_points[1], [[1,], [0,]])"
   ]
  },
  {
   "cell_type": "code",
   "execution_count": 154,
   "id": "034ed4cd-77fa-4741-be95-e94fe07ff86b",
   "metadata": {},
   "outputs": [
    {
     "data": {
      "text/plain": [
       "(4, 64)"
      ]
     },
     "execution_count": 154,
     "metadata": {},
     "output_type": "execute_result"
    }
   ],
   "source": [
    "base_points_after_X.shape"
   ]
  },
  {
   "cell_type": "code",
   "execution_count": 155,
   "id": "b93bc1b0-991d-4856-a5b6-1d8c509b43b4",
   "metadata": {},
   "outputs": [
    {
     "data": {
      "text/plain": [
       "array([1.        , 0.25989061, 0.02449415, 0.96532736])"
      ]
     },
     "execution_count": 155,
     "metadata": {},
     "output_type": "execute_result"
    }
   ],
   "source": [
    "np.linalg.norm(base_points_after_X, axis=1)"
   ]
  },
  {
   "cell_type": "markdown",
   "id": "d6c44b17-43d5-4277-b636-bba4d17263cc",
   "metadata": {},
   "source": [
    "So we _have_ to reduce the norm to get out of the repeating symmetry pattern."
   ]
  },
  {
   "cell_type": "code",
   "execution_count": 156,
   "id": "5cf2016d-4a95-45d1-ac48-68087be362a9",
   "metadata": {},
   "outputs": [],
   "source": [
    "base_points_after_Y = np.tensordot(next_base_transfer_matrices, test_next_base_points[2], [[1,], [0,]])"
   ]
  },
  {
   "cell_type": "code",
   "execution_count": 157,
   "id": "7adbd44a-37d0-4640-851f-a17d8c72ffc3",
   "metadata": {},
   "outputs": [
    {
     "data": {
      "text/plain": [
       "array([0.25087952, 0.96532736, 0.93185691, 0.02364488])"
      ]
     },
     "execution_count": 157,
     "metadata": {},
     "output_type": "execute_result"
    }
   ],
   "source": [
    "np.linalg.norm(base_points_after_Y, axis=1)"
   ]
  },
  {
   "cell_type": "markdown",
   "id": "8de2816f-e54f-46f2-8a4d-fbc0237b1941",
   "metadata": {},
   "source": [
    "So there are a few directions we can go in,\n",
    "* $XI$ (want to avoid)\n",
    "* $XZ$ (I believe this is the B=0 solution?)\n",
    "* $YX$\n",
    "* $YY$\n",
    "the last two look the most promising.\n",
    "\n",
    "This also tells us that while there may be consistently two directions in $S^3$ which preserve the norm, they can change depending on previous points/choices."
   ]
  },
  {
   "cell_type": "markdown",
   "id": "6fc4d20b-eed1-433d-b778-6dfb806bf29e",
   "metadata": {},
   "source": [
    "### Automate"
   ]
  },
  {
   "cell_type": "code",
   "execution_count": 159,
   "id": "ce296110-0bce-479e-9b6d-6f50bcdc979c",
   "metadata": {},
   "outputs": [
    {
     "data": {
      "text/plain": [
       "140"
      ]
     },
     "execution_count": 159,
     "metadata": {},
     "output_type": "execute_result"
    }
   ],
   "source": [
    "base_index"
   ]
  },
  {
   "cell_type": "code",
   "execution_count": 171,
   "id": "a7f35bba-7fb6-46df-a616-8a429caada0a",
   "metadata": {},
   "outputs": [],
   "source": [
    "def get_distance_array_eigenvalues(psi, right_projected_symmetry_state):\n",
    "    base_transfer_matrices = get_base_transfer_matrices(psi, base_index)\n",
    "    base_points = np.tensordot(\n",
    "        right_projected_symmetry_state,\n",
    "        base_transfer_matrices,\n",
    "        [[0,], [1,]]\n",
    "    )\n",
    "\n",
    "    inner_product_array = np.real(\n",
    "        np.dot(\n",
    "            base_points, base_points.T.conj()\n",
    "        )\n",
    "    )\n",
    "\n",
    "    eigs, eig_vectors = np.linalg.eig(inner_product_array)\n",
    "\n",
    "    return (np.round(eigs, 4), np.round(eig_vectors, 4))"
   ]
  },
  {
   "cell_type": "code",
   "execution_count": 172,
   "id": "2ff3b96a-d373-4831-bee4-7a66a9352160",
   "metadata": {},
   "outputs": [
    {
     "name": "stdout",
     "output_type": "stream",
     "text": [
      "\n",
      " i=0\n",
      "[0. 1. 1. 0.]\n",
      "[[ 1. -0.  0.  0.]\n",
      " [ 0.  0. -1.  0.]\n",
      " [ 0. -1.  0.  0.]\n",
      " [ 0.  0.  0.  1.]]\n",
      "\n",
      " i=1\n",
      "[0.0025 0.9975 1.     0.    ]\n",
      "[[ 1. -0.  0.  0.]\n",
      " [ 0.  0. -1.  0.]\n",
      " [ 0. -1.  0.  0.]\n",
      " [ 0.  0.  0.  1.]]\n",
      "\n",
      " i=2\n",
      "[0.0101 0.9899 1.     0.    ]\n",
      "[[ 1. -0.  0.  0.]\n",
      " [ 0.  0. -1. -0.]\n",
      " [ 0. -1.  0.  0.]\n",
      " [ 0.  0. -0.  1.]]\n",
      "\n",
      " i=3\n",
      "[2.310e-02 9.768e-01 1.000e+00 1.000e-04]\n",
      "[[ 1. -0.  0.  0.]\n",
      " [ 0.  0.  1.  0.]\n",
      " [ 0.  1.  0.  0.]\n",
      " [ 0.  0. -0.  1.]]\n",
      "\n",
      " i=4\n",
      "[4.200e-02 9.578e-01 1.000e+00 2.000e-04]\n",
      "[[ 1. -0. -0. -0.]\n",
      " [ 0.  0.  1. -0.]\n",
      " [ 0.  1.  0.  0.]\n",
      " [ 0.  0.  0.  1.]]\n",
      "\n",
      " i=5\n",
      "[6.750e-02 9.319e-01 1.000e+00 6.000e-04]\n",
      "[[ 1. -0.  0.  0.]\n",
      " [ 0.  0.  1. -0.]\n",
      " [ 0.  1.  0.  0.]\n",
      " [ 0.  0.  0.  1.]]\n",
      "\n",
      " i=6\n",
      "[0.1012 0.8974 1.     0.0014]\n",
      "[[ 1. -0.  0.  0.]\n",
      " [ 0.  0. -1. -0.]\n",
      " [ 0. -1.  0.  0.]\n",
      " [ 0.  0. -0.  1.]]\n",
      "\n",
      " i=7\n",
      "[0.1453 0.8517 1.     0.0029]\n",
      "[[ 1. -0.  0.  0.]\n",
      " [ 0.  0. -1.  0.]\n",
      " [ 0. -1.  0.  0.]\n",
      " [ 0.  0.  0.  1.]]\n",
      "\n",
      " i=8\n",
      "[0.2043 0.7896 1.     0.0061]\n",
      "[[ 1. -0.  0.  0.]\n",
      " [ 0.  0.  1.  0.]\n",
      " [ 0.  1.  0.  0.]\n",
      " [ 0.  0. -0.  1.]]\n",
      "\n",
      " i=9\n",
      "[0.2892 0.6974 1.0003 0.0131]\n",
      "[[ 1. -0.  0.  0.]\n",
      " [ 0.  0.  1.  0.]\n",
      " [ 0.  1.  0.  0.]\n",
      " [ 0.  0. -0.  1.]]\n",
      "\n",
      " i=10\n",
      "[0.6008 0.3146 1.0003 0.0843]\n",
      "[[ 1.e+00  0.e+00  0.e+00  0.e+00]\n",
      " [ 0.e+00  0.e+00 -1.e+00 -1.e-04]\n",
      " [ 0.e+00 -1.e+00  0.e+00  0.e+00]\n",
      " [ 0.e+00  0.e+00 -1.e-04  1.e+00]]\n",
      "\n",
      " i=11\n",
      "[0.7296 0.1822 1.0011 0.0872]\n",
      "[[ 1.  0.  0.  0.]\n",
      " [ 0.  0. -1. -0.]\n",
      " [ 0. -1.  0.  0.]\n",
      " [ 0.  0. -0.  1.]]\n",
      "\n",
      " i=12\n",
      "[0.7887 0.133  1.     0.0783]\n",
      "[[ 1.  0.  0.  0.]\n",
      " [ 0.  0. -1. -0.]\n",
      " [ 0. -1.  0.  0.]\n",
      " [ 0.  0. -0.  1.]]\n",
      "\n",
      " i=13\n",
      "[0.8273 0.104  1.     0.0687]\n",
      "[[ 1.  0.  0.  0.]\n",
      " [ 0.  0.  1. -0.]\n",
      " [ 0.  1.  0.  0.]\n",
      " [ 0.  0.  0.  1.]]\n",
      "\n",
      " i=14\n",
      "[0.8553 0.0845 1.     0.0603]\n",
      "[[ 1.  0.  0.  0.]\n",
      " [ 0.  0. -1.  0.]\n",
      " [ 0. -1.  0.  0.]\n",
      " [ 0.  0.  0.  1.]]\n",
      "\n",
      " i=15\n",
      "[0.8765 0.0704 1.     0.0531]\n",
      "[[ 1.  0.  0.  0.]\n",
      " [ 0.  0. -1. -0.]\n",
      " [ 0. -1.  0.  0.]\n",
      " [ 0.  0. -0.  1.]]\n",
      "\n",
      " i=16\n",
      "[0.8932 0.0598 1.     0.0471]\n",
      "[[ 1.  0.  0.  0.]\n",
      " [ 0.  0.  1.  0.]\n",
      " [ 0.  1.  0.  0.]\n",
      " [ 0.  0. -0.  1.]]\n",
      "\n",
      " i=17\n",
      "[0.9065 0.0515 1.     0.0419]\n",
      "[[ 1.  0.  0.  0.]\n",
      " [ 0.  0.  1.  0.]\n",
      " [ 0.  1.  0.  0.]\n",
      " [ 0.  0. -0.  1.]]\n",
      "\n",
      " i=18\n",
      "[0.9174 0.045  1.     0.0376]\n",
      "[[ 1.  0.  0.  0.]\n",
      " [ 0.  0.  1. -0.]\n",
      " [ 0.  1.  0.  0.]\n",
      " [ 0.  0.  0.  1.]]\n",
      "\n",
      " i=19\n",
      "[0.9265 0.0397 1.     0.0338]\n",
      "[[ 1.  0.  0.  0.]\n",
      " [ 0.  0. -1. -0.]\n",
      " [ 0. -1.  0.  0.]\n",
      " [ 0.  0. -0.  1.]]\n",
      "\n",
      " i=20\n",
      "[0.9341 0.0353 1.     0.0306]\n",
      "[[ 1.  0.  0.  0.]\n",
      " [ 0.  0. -1.  0.]\n",
      " [ 0. -1.  0. -0.]\n",
      " [ 0.  0.  0.  1.]]\n"
     ]
    }
   ],
   "source": [
    "for i, (psi, right_state) in enumerate(zip(psi_dict.values(), right_projected_states)):\n",
    "    print(\"\\n i={}\".format(i))\n",
    "    vals, vecs = get_distance_array_eigenvalues(psi, right_state)\n",
    "    print(vals)\n",
    "    print(vecs)"
   ]
  },
  {
   "cell_type": "markdown",
   "id": "019c2491-2d18-4807-b599-1107037c264d",
   "metadata": {},
   "source": [
    "* The degeneracy in the eigenvalues splits close to the critical point.\n",
    "* The two dominant operators swap from $X, Y$ to $I, Y$.\n",
    "* All eigenvalues less than one, further supporting that distances only decrease."
   ]
  },
  {
   "cell_type": "markdown",
   "id": "1f878bea-4e54-4320-b304-e8bf731f843c",
   "metadata": {},
   "source": [
    "# Conclusions\n",
    "Despite the operator norms being greater than one, it does indeed appear that the virtual vectors are bounded by unit length 1. A proof of this would be nice. This suggests looking for all admissable virtual vectors.\n",
    "The bound on one virtual vector to the next should help a lot when it comes to searching for optimal solutions. Again, proof would be nice to justify this though. (Does this follow from the FCS theory?)\n",
    "Could look into the particular vectors in question. What are the singular vectors corresponding to those singular values greater than one? Anything special about those vectors?\n",
    "As nothing is proven, should really implement checks in solution methods going forward."
   ]
  },
  {
   "cell_type": "code",
   "execution_count": null,
   "id": "d75a07a3-cd1b-4745-9618-dfd36ebd8b20",
   "metadata": {},
   "outputs": [],
   "source": []
  }
 ],
 "metadata": {
  "kernelspec": {
   "display_name": "num_spt_venv_p11",
   "language": "python",
   "name": "num_spt_venv_p11"
  },
  "language_info": {
   "codemirror_mode": {
    "name": "ipython",
    "version": 3
   },
   "file_extension": ".py",
   "mimetype": "text/x-python",
   "name": "python",
   "nbconvert_exporter": "python",
   "pygments_lexer": "ipython3",
   "version": "3.11.9"
  }
 },
 "nbformat": 4,
 "nbformat_minor": 5
}
