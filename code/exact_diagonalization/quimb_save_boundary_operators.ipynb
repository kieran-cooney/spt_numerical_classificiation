{
 "cells": [
  {
   "cell_type": "markdown",
   "id": "6a2dac7f-2bbc-4993-8a37-4dc5bd7c4f33",
   "metadata": {},
   "source": [
    "# QUIMB save boundary operators\n",
    "Created 04/07/2024\n",
    "\n",
    "Objectives:\n",
    "* Use QUIMB to extract boundary operators on the ED states."
   ]
  },
  {
   "cell_type": "markdown",
   "id": "725eaa22-d2a4-40d8-9a97-ad5bd49becb7",
   "metadata": {},
   "source": [
    "# Package imports"
   ]
  },
  {
   "cell_type": "code",
   "execution_count": 1,
   "id": "ecb41ea3-927f-4efa-aebe-ce15784aa037",
   "metadata": {},
   "outputs": [],
   "source": [
    "import sys"
   ]
  },
  {
   "cell_type": "code",
   "execution_count": 9,
   "id": "0375bd38-12e1-417a-908a-13fb540081f5",
   "metadata": {},
   "outputs": [],
   "source": [
    "sys.path.append(\"../\")"
   ]
  },
  {
   "cell_type": "code",
   "execution_count": 3,
   "id": "0cf49837-01b6-431a-b570-d7ed25903239",
   "metadata": {},
   "outputs": [],
   "source": [
    "from itertools import chain\n",
    "import re"
   ]
  },
  {
   "cell_type": "code",
   "execution_count": 4,
   "id": "f59344b7-d34e-47e4-99be-f5a2687f8176",
   "metadata": {},
   "outputs": [],
   "source": [
    "import h5py\n",
    "from tenpy.tools import hdf5_io\n",
    "import tenpy\n",
    "import tenpy.linalg.np_conserved as npc\n",
    "\n",
    "import os\n",
    "import pickle"
   ]
  },
  {
   "cell_type": "code",
   "execution_count": 5,
   "id": "19404619-d778-4cc3-8ee1-1db6f14b2043",
   "metadata": {},
   "outputs": [],
   "source": [
    "import numpy as np\n",
    "import jax.numpy as jnp\n",
    "\n",
    "import matplotlib.pyplot as plt"
   ]
  },
  {
   "cell_type": "code",
   "execution_count": 6,
   "id": "92eeb066-5463-4237-ad07-3c5a0d934f4f",
   "metadata": {},
   "outputs": [
    {
     "name": "stderr",
     "output_type": "stream",
     "text": [
      "/home/kieranc/Desktop/numerical_spt_classification/code/num_spt_venv_p11/lib/python3.11/site-packages/cotengra/hyperoptimizers/hyper.py:54: UserWarning: Couldn't find `optuna`, `cmaes`, or `nevergrad` so will use completely random sampling in place of hyper-optimization.\n",
      "  warnings.warn(\n",
      "/home/kieranc/Desktop/numerical_spt_classification/code/num_spt_venv_p11/lib/python3.11/site-packages/cotengra/hyperoptimizers/hyper.py:36: UserWarning: Couldn't import `kahypar` - skipping from default hyper optimizer and using basic `labels` method instead.\n",
      "  warnings.warn(\n",
      "/home/kieranc/Desktop/numerical_spt_classification/code/num_spt_venv_p11/lib/python3.11/site-packages/cotengra/hyperoptimizers/hyper.py:73: UserWarning: Couldn't find `optuna`, `cmaes`, or `nevergrad` so will use completely random sampling in place of hyper-optimization.\n",
      "  warnings.warn(\n"
     ]
    }
   ],
   "source": [
    "import quimb as qu\n",
    "import quimb.tensor as qtn\n",
    "from quimb.tensor.optimize import TNOptimizer"
   ]
  },
  {
   "cell_type": "markdown",
   "id": "71c44d61-9279-4312-9ba8-6f07fe68bf65",
   "metadata": {},
   "source": [
    "# Load data"
   ]
  },
  {
   "cell_type": "code",
   "execution_count": 10,
   "id": "c196fe74-d78a-4205-a41a-acfa510831d1",
   "metadata": {},
   "outputs": [],
   "source": [
    "DATA_DIR = r\"../data/transverse_cluster_14_site_ed\""
   ]
  },
  {
   "cell_type": "code",
   "execution_count": 19,
   "id": "2b655610-048f-413f-89ee-6d48b81ec39b",
   "metadata": {},
   "outputs": [],
   "source": [
    "def split_full_state_legs(full_state_psi):\n",
    "    dim = full_state_psi.shape\n",
    "\n",
    "    num_legs = int(np.log2(dim[0]))\n",
    "    new_labels = [f'p{i}' for i in range(num_legs)]\n",
    "\n",
    "    full_state_psi.iset_leg_labels(['(' + '.'.join(new_labels) + ')'])\n",
    "    full_state_psi = full_state_psi.split_legs([0])\n",
    "    return full_state_psi"
   ]
  },
  {
   "cell_type": "code",
   "execution_count": 11,
   "id": "e1a89621-91df-4f40-adef-f16acbdea3e9",
   "metadata": {},
   "outputs": [],
   "source": [
    "loaded_data = list()\n",
    "\n",
    "for local_file_name in os.listdir(DATA_DIR):\n",
    "    f_name = r\"{}/{}\".format(DATA_DIR, local_file_name, ignore_unknown=False)\n",
    "    with h5py.File(f_name, 'r') as f:\n",
    "        data = hdf5_io.load_from_hdf5(f)\n",
    "        loaded_data.append(data)"
   ]
  },
  {
   "cell_type": "code",
   "execution_count": 12,
   "id": "b805dcff-dfda-4ca4-ba53-c6a3d6822dd4",
   "metadata": {},
   "outputs": [],
   "source": [
    "b_parameters = sorted(list(d['paramters']['B'] for d in loaded_data))"
   ]
  },
  {
   "cell_type": "code",
   "execution_count": 13,
   "id": "827a26d6-a667-4828-bf55-db731e15d89d",
   "metadata": {},
   "outputs": [],
   "source": [
    "psi_dict = dict()"
   ]
  },
  {
   "cell_type": "code",
   "execution_count": 34,
   "id": "f73cd53c-5f57-4dca-9431-8e4523eea0f7",
   "metadata": {},
   "outputs": [],
   "source": [
    "for b in b_parameters:\n",
    "    psi = next(\n",
    "        d['wavefunction']\n",
    "        for d in loaded_data\n",
    "        if d['paramters']['B'] == b\n",
    "    )\n",
    "    #psi = split_full_state_legs(psi)\n",
    "    \n",
    "    rounded_b = round(b, 1)\n",
    "    psi_dict[rounded_b] = psi"
   ]
  },
  {
   "cell_type": "code",
   "execution_count": 21,
   "id": "0e4b0283-9d6a-40d5-93b2-70a3fb5f3f8c",
   "metadata": {},
   "outputs": [
    {
     "data": {
      "text/plain": [
       "<npc.Array shape=(2, 2, 2, 2, 2, 2, 2, 2, 2, 2, 2, 2, 2, 2) labels=['p0', 'p1', 'p2', 'p3', 'p4', 'p5', 'p6', 'p7', 'p8', 'p9', 'p10', 'p11', 'p12', 'p13']>"
      ]
     },
     "execution_count": 21,
     "metadata": {},
     "output_type": "execute_result"
    }
   ],
   "source": [
    "psi_dict[0]"
   ]
  },
  {
   "cell_type": "code",
   "execution_count": null,
   "id": "d098e4f4-38e5-46e8-b948-783911333b82",
   "metadata": {},
   "outputs": [],
   "source": [
    "psi_arrays = list()\n",
    "psi_arrays.append(mps_psi.get_B(0, 'Th')[0, ...].to_ndarray())\n",
    "for i in range(1, mps_psi.L-1):\n",
    "    psi_arrays.append(mps_psi.get_B(i).to_ndarray())\n",
    "psi_arrays.append(mps_psi.get_B(mps_psi.L-1)[..., 0].to_ndarray())\n",
    "\n",
    "q1 = (\n",
    "    qtn\n",
    "    .tensor_1d\n",
    "    .MatrixProductState(psi_arrays, shape='lpr')\n",
    ")"
   ]
  },
  {
   "cell_type": "code",
   "execution_count": 35,
   "id": "b59aba9a-0864-4d98-975e-5d3c14ab7a17",
   "metadata": {},
   "outputs": [],
   "source": [
    "test_tenpy_psi = psi_dict[0]"
   ]
  },
  {
   "cell_type": "code",
   "execution_count": 36,
   "id": "bbe05966-fb81-4a14-84ac-11aa53a46f3f",
   "metadata": {},
   "outputs": [
    {
     "data": {
      "text/plain": [
       "(16384,)"
      ]
     },
     "execution_count": 36,
     "metadata": {},
     "output_type": "execute_result"
    }
   ],
   "source": [
    "test_tenpy_psi.to_ndarray().shape"
   ]
  },
  {
   "cell_type": "code",
   "execution_count": 28,
   "id": "0f926d84-4d50-4987-9c4d-792f141b0d99",
   "metadata": {},
   "outputs": [
    {
     "data": {
      "text/plain": [
       "14.0"
      ]
     },
     "execution_count": 28,
     "metadata": {},
     "output_type": "execute_result"
    }
   ],
   "source": [
    "np.log2(16384)"
   ]
  },
  {
   "cell_type": "code",
   "execution_count": 32,
   "id": "c4593818-7736-4c9b-96e4-cd007a9b441a",
   "metadata": {},
   "outputs": [
    {
     "name": "stdout",
     "output_type": "stream",
     "text": [
      "Help on function infer_size in module quimb.core:\n",
      "\n",
      "infer_size(p, base=2)\n",
      "    Infer the size, i.e. number of 'sites' in a state.\n",
      "    \n",
      "    Parameters\n",
      "    ----------\n",
      "    p : vector or operator\n",
      "        An array representing a state with a shape attribute.\n",
      "    base : int, optional\n",
      "        Size of the individual states that ``p`` is composed of, e.g. this\n",
      "        defauts 2 for qubits.\n",
      "    \n",
      "    Returns\n",
      "    -------\n",
      "    int\n",
      "        Number of composite systems.\n",
      "    \n",
      "    Examples\n",
      "    --------\n",
      "    >>> infer_size(singlet() & singlet())\n",
      "    4\n",
      "    \n",
      "    >>> infersize(rand_rho(5**3), base=5)\n",
      "    3\n",
      "\n"
     ]
    }
   ],
   "source": [
    "help(qu.infer_size)"
   ]
  },
  {
   "cell_type": "code",
   "execution_count": 37,
   "id": "f5ed347d-a31e-4ca9-8f5e-dd1e145deda9",
   "metadata": {},
   "outputs": [
    {
     "data": {
      "text/plain": [
       "14"
      ]
     },
     "execution_count": 37,
     "metadata": {},
     "output_type": "execute_result"
    }
   ],
   "source": [
    "qu.infer_size(test_tenpy_psi.to_ndarray())"
   ]
  },
  {
   "cell_type": "code",
   "execution_count": 38,
   "id": "56c1055a-4202-4343-b075-e1b9c4c227c3",
   "metadata": {},
   "outputs": [],
   "source": [
    "test_quimb_psi = qtn.Dense1D(\n",
    "    test_tenpy_psi.to_ndarray(),\n",
    "    phys_dim=2\n",
    ")"
   ]
  },
  {
   "cell_type": "code",
   "execution_count": 40,
   "id": "d8dbec63-f249-4043-9dc8-7e8f4f261dd0",
   "metadata": {},
   "outputs": [
    {
     "data": {
      "image/png": "[encoded data removed]",
      "text/plain": [
       "<Figure size 600x600 with 1 Axes>"
      ]
     },
     "metadata": {
      "needs_background": "light"
     },
     "output_type": "display_data"
    }
   ],
   "source": [
    "test_quimb_psi.draw()"
   ]
  },
  {
   "cell_type": "markdown",
   "id": "c63383d4-bbde-443a-92a9-97b613c0d54b",
   "metadata": {},
   "source": [
    "# Definitions"
   ]
  },
  {
   "cell_type": "code",
   "execution_count": 42,
   "id": "6e3a806a-6e88-4073-8cb4-a46345cdb810",
   "metadata": {},
   "outputs": [],
   "source": [
    "np_I = np.array([[1,0],[0,1]])\n",
    "np_X = np.array([[0,1],[1,0]])"
   ]
  },
  {
   "cell_type": "code",
   "execution_count": 43,
   "id": "ddc01bac-517f-4922-9df0-28b400f70a3e",
   "metadata": {},
   "outputs": [],
   "source": [
    "symmetry_actions = [\n",
    "    [np_I, np_I],\n",
    "    [np_I, np_X],\n",
    "    [np_X, np_I],\n",
    "    [np_X, np_X]\n",
    "]"
   ]
  },
  {
   "cell_type": "code",
   "execution_count": 44,
   "id": "10721838-5776-4da8-9618-01dd30494f13",
   "metadata": {},
   "outputs": [],
   "source": [
    "symmetry_labels = [\n",
    "    'II',\n",
    "    'IX',\n",
    "    'XI',\n",
    "    'XX'\n",
    "]"
   ]
  },
  {
   "cell_type": "code",
   "execution_count": 84,
   "id": "608e2be7-7003-4d86-8bdc-bb7519c6c30c",
   "metadata": {},
   "outputs": [],
   "source": [
    "def generate_problem_rdm(quimb_psi, symmetry_site_pairs, leftmost_symmetry_site,\n",
    "                         num_symmetry_sites, num_boundary_sites):\n",
    "    q_top = quimb_psi.copy(deep=True)\n",
    "    for i, s in symmetry_site_pairs:\n",
    "        q_top.gate(\n",
    "            s,\n",
    "            where=i,\n",
    "            contract=False,\n",
    "            inplace=True\n",
    "        )\n",
    "\n",
    "    \n",
    "    indices_to_map = list(chain(\n",
    "        range(leftmost_symmetry_site-num_boundary_sites, leftmost_symmetry_site),\n",
    "        range(leftmost_symmetry_site+num_symmetry_sites, leftmost_symmetry_site+num_symmetry_sites+num_boundary_sites)\n",
    "    ))\n",
    "\n",
    "    index_mapping = {f'k{i}': f'b{i}' for i in indices_to_map}\n",
    "\n",
    "    q_bottom = (\n",
    "        quimb_psi\n",
    "        .copy()\n",
    "        .reindex(index_mapping, inplace=True)\n",
    "        .conj()\n",
    "    )\n",
    "\n",
    "    sites_to_contract = {\n",
    "        'left': list(range(leftmost_symmetry_site-num_boundary_sites)),\n",
    "        'middle': list(range(leftmost_symmetry_site, leftmost_symmetry_site+num_symmetry_sites)),\n",
    "        'right': list(range(leftmost_symmetry_site+num_symmetry_sites+num_boundary_sites, quimb_psi.L))\n",
    "    }\n",
    "\n",
    "    tags_to_contract = {\n",
    "        k: [f'I{i}' for i in v]\n",
    "        for k, v in sites_to_contract.items()\n",
    "    }\n",
    "\n",
    "    tn = (q_top & q_bottom)\n",
    "\n",
    "    \"\"\"\n",
    "    tnc = (\n",
    "        tn\n",
    "        .contract(tags_to_contract['left'])\n",
    "        .contract(tags_to_contract['middle'])\n",
    "        .contract(tags_to_contract['right'])\n",
    "    )\n",
    "    \"\"\"\n",
    "\n",
    "    tnc = tn.contract()\n",
    "\n",
    "    return tnc"
   ]
  },
  {
   "cell_type": "code",
   "execution_count": 46,
   "id": "5c16fb4b-7e24-4d9e-929c-b98296f5c313",
   "metadata": {},
   "outputs": [],
   "source": [
    "def initialize_mpo(left_most_symmetry_site, num_symmetry_sites,\n",
    "                   num_boundary_sites, bond_dimension, phys_dim=2):\n",
    "    # Kind of hard coding the physical dimensions.\n",
    "    ml = qtn.MPO_rand(\n",
    "        num_boundary_sites,\n",
    "        bond_dimension,\n",
    "        phys_dim=phys_dim,\n",
    "        normalize=True,\n",
    "        sites=list(range(left_most_symmetry_site-num_boundary_sites, left_most_symmetry_site)),\n",
    "        dtype=np.complex128,\n",
    "        tags='left_mpo'\n",
    "    )\n",
    "\n",
    "    mr = qtn.MPO_rand(\n",
    "        num_boundary_sites,\n",
    "        bond_dimension,\n",
    "        phys_dim=phys_dim,\n",
    "        normalize=True,\n",
    "        sites=list(range(\n",
    "            left_most_symmetry_site + num_symmetry_sites,\n",
    "            left_most_symmetry_site + num_symmetry_sites + num_boundary_sites\n",
    "        )),\n",
    "        dtype=np.complex128,\n",
    "        tags='right_mpo'\n",
    "    )\n",
    "\n",
    "    mpo = (ml & mr)\n",
    "\n",
    "    return mpo"
   ]
  },
  {
   "cell_type": "markdown",
   "id": "56525c31-f37b-4245-b2ec-82185feed908",
   "metadata": {},
   "source": [
    "## Optimisation functions"
   ]
  },
  {
   "cell_type": "code",
   "execution_count": 47,
   "id": "ad93555d-f4af-4fa2-96fc-2a54f95466e0",
   "metadata": {},
   "outputs": [],
   "source": [
    "def split_mpo_pair(mpo_pair):\n",
    "    ml = qtn.TensorNetwork(\n",
    "        list(map(mpo_pair.tensor_map.__getitem__, mpo.tag_map['left_mpo']))\n",
    "    )\n",
    "\n",
    "    mr = qtn.TensorNetwork(\n",
    "        list(map(mpo_pair.tensor_map.__getitem__, mpo.tag_map['right_mpo']))\n",
    "    )\n",
    "\n",
    "    return (ml, mr)"
   ]
  },
  {
   "cell_type": "code",
   "execution_count": 48,
   "id": "e41dad25-3a05-450c-a853-76a24e53f6bd",
   "metadata": {},
   "outputs": [],
   "source": [
    "def overlap_loss_function(ml, mr, rdm_tn, epsilon=0):\n",
    "    c = (rdm_tn & ml & mr) ^ ...\n",
    "\n",
    "    c_abs_squared = (\n",
    "        c\n",
    "        *jnp.conjugate(c)\n",
    "    )\n",
    "    #c_abs_squared = c_abs_squared.astype('float32')\n",
    "    c_abs = (jnp.sqrt(c_abs_squared+epsilon))\n",
    "\n",
    "    target = jnp.sqrt(1+epsilon)\n",
    "    loss = (c_abs - target)**2\n",
    "\n",
    "    return loss"
   ]
  },
  {
   "cell_type": "code",
   "execution_count": 49,
   "id": "d739d242-7370-4763-8ff2-9e6c2a9bc9ad",
   "metadata": {},
   "outputs": [],
   "source": [
    "def overlap_loss_function_mpo_pair(mpo_pair, rdm_tn):\n",
    "    ml, mr = split_mpo_pair(mpo_pair)\n",
    "\n",
    "    return overlap_loss_function(ml, mr, rdm_tn)"
   ]
  },
  {
   "cell_type": "code",
   "execution_count": 50,
   "id": "0f466494-c220-4ee0-9ae1-0a0a14a38e88",
   "metadata": {},
   "outputs": [],
   "source": [
    "regex_s = r\"^I\\d+$\"\n",
    "regex_p = re.compile(regex_s)"
   ]
  },
  {
   "cell_type": "code",
   "execution_count": 51,
   "id": "23b12517-79b5-45b5-8ae8-07b08b68805d",
   "metadata": {},
   "outputs": [],
   "source": [
    "def relabel_mpo(mpo, k_label, b_label):\n",
    "    site_locs = [\n",
    "        int(k[1:]) for k in mpo.tag_map\n",
    "        if bool(re.search(regex_p, k))\n",
    "    ]\n",
    "\n",
    "    k_in_indices = [f'k{i}' for i in site_locs]\n",
    "    j_in_indices = [f'b{i}' for i in site_locs]\n",
    "\n",
    "    k_out_indices = [f'{k_label}{i}' for i in site_locs]\n",
    "    j_out_indices = [f'{b_label}{i}' for i in site_locs]\n",
    "\n",
    "    mapping = dict(\n",
    "        chain(\n",
    "            zip(k_in_indices, k_out_indices),\n",
    "            zip(j_in_indices, j_out_indices)\n",
    "        )\n",
    "    )\n",
    "\n",
    "    mpo.reindex(mapping, inplace=True)"
   ]
  },
  {
   "cell_type": "code",
   "execution_count": 52,
   "id": "a51b6cd6-be16-433c-a0fd-91fce71aff8f",
   "metadata": {},
   "outputs": [],
   "source": [
    "def unitarity_tn(tn, total_physical_dim):\n",
    "    ms = [tn.copy(), tn.copy(), tn.copy()]\n",
    "\n",
    "    relabel_mpo(ms[0], 'k', 'l')\n",
    "    relabel_mpo(ms[1], 'm', 'l')\n",
    "    relabel_mpo(ms[2], 'm', 'b')\n",
    "\n",
    "    ms[0] = ms[0].conj()\n",
    "    ms[2] = ms[2].conj()\n",
    "\n",
    "    n2tn = (tn & tn.conj())\n",
    "    n2 = n2tn.contract(n2tn.tag_map)\n",
    "    n4tn = (tn & ms[0] & ms[1] & ms[2])\n",
    "    n4 = n4tn.contract(n4tn.tag_map)\n",
    "\n",
    "    out = jnp.real(n4 - 2*n2 + total_physical_dim)\n",
    "\n",
    "    return out"
   ]
  },
  {
   "cell_type": "code",
   "execution_count": 53,
   "id": "43d0c110-9e4c-4981-8f32-16cf01445fa4",
   "metadata": {},
   "outputs": [],
   "source": [
    "def overall_loss_function(mpo_pair, rdm_tn, total_physical_dimension,\n",
    "    unitary_cost_coefficient=1, overlap_cost_coefficient=1, losses=None):\n",
    "    ml, mr = split_mpo_pair(mpo_pair)\n",
    "\n",
    "    o_loss = overlap_loss_function(ml, mr, rdm_tn)\n",
    "    ul_loss = unitarity_tn(ml, total_physical_dimension)\n",
    "    ur_loss = unitarity_tn(mr, total_physical_dimension)\n",
    "\n",
    "    out = (\n",
    "        unitary_cost_coefficient*(ul_loss+ur_loss)\n",
    "        + overlap_cost_coefficient*o_loss\n",
    "    )\n",
    "\n",
    "    out = jnp.real(out)\n",
    "\n",
    "    if losses is not None:\n",
    "        losses.append((o_loss, ul_loss, ur_loss))\n",
    "    return out"
   ]
  },
  {
   "cell_type": "markdown",
   "id": "ddeffedb-0af1-4557-b777-b843a220859c",
   "metadata": {},
   "source": [
    "# Loop and solve for boundary operators"
   ]
  },
  {
   "cell_type": "code",
   "execution_count": 85,
   "id": "21b6bcc3-7d7a-43de-9a16-c0626bb1c025",
   "metadata": {},
   "outputs": [],
   "source": [
    "num_boundary_sites=4\n",
    "left_most_symmetry_site=5\n",
    "num_symmetry_sites=4\n",
    "bond_dimension=5\n",
    "\n",
    "total_physical_dim = 2**num_boundary_sites"
   ]
  },
  {
   "cell_type": "code",
   "execution_count": 86,
   "id": "33ee56db-2db8-4937-9397-e2bf4de6863b",
   "metadata": {},
   "outputs": [],
   "source": [
    "num_iterations = int(5e3) \n",
    "num_seeds = 10\n",
    "\n",
    "alpha=3e-4\n",
    "beta_1 = 0.4\n",
    "beta_2 = 0.4\n",
    "overlap_learning_rate=5\n",
    "\n",
    "score_target=0.1"
   ]
  },
  {
   "cell_type": "code",
   "execution_count": 88,
   "id": "76f05b02-884c-4c3e-b7c9-1d8e1c34c123",
   "metadata": {
    "scrolled": true
   },
   "outputs": [
    {
     "name": "stderr",
     "output_type": "stream",
     "text": [
      "+0.000546312542 [best: +0.000238430832] : : 5001it [00:18, 277.40it/s]                                  \n"
     ]
    },
    {
     "name": "stdout",
     "output_type": "stream",
     "text": [
      "Saving: mpo_solutions/0.0_1_1.pickle\n"
     ]
    },
    {
     "name": "stderr",
     "output_type": "stream",
     "text": [
      "+0.000516334723 [best: +0.000146790553] : : 5001it [00:17, 289.27it/s]                                  \n"
     ]
    },
    {
     "name": "stdout",
     "output_type": "stream",
     "text": [
      "Saving: mpo_solutions/0.0_2_1.pickle\n"
     ]
    },
    {
     "name": "stderr",
     "output_type": "stream",
     "text": [
      "+0.000416136405 [best: +0.000180870120] : : 5001it [00:17, 285.54it/s]                                  \n"
     ]
    },
    {
     "name": "stdout",
     "output_type": "stream",
     "text": [
      "Saving: mpo_solutions/0.0_3_1.pickle\n"
     ]
    },
    {
     "name": "stderr",
     "output_type": "stream",
     "text": [
      "+0.000608884264 [best: +0.000330851879] : : 5001it [00:17, 287.61it/s]                                  \n"
     ]
    },
    {
     "name": "stdout",
     "output_type": "stream",
     "text": [
      "Saving: mpo_solutions/0.1_1_1.pickle\n"
     ]
    },
    {
     "name": "stderr",
     "output_type": "stream",
     "text": [
      "+0.000264929200 [best: +0.000220671864] : : 5001it [00:17, 288.83it/s]                                  \n"
     ]
    },
    {
     "name": "stdout",
     "output_type": "stream",
     "text": [
      "Saving: mpo_solutions/0.1_2_1.pickle\n"
     ]
    },
    {
     "name": "stderr",
     "output_type": "stream",
     "text": [
      "+0.000504367170 [best: +0.000444710196] : : 5001it [00:16, 294.95it/s]                                  \n"
     ]
    },
    {
     "name": "stdout",
     "output_type": "stream",
     "text": [
      "Saving: mpo_solutions/0.1_3_1.pickle\n"
     ]
    },
    {
     "name": "stderr",
     "output_type": "stream",
     "text": [
      "+0.001416456769 [best: +0.001070319209] : : 5001it [00:16, 294.32it/s]                                  \n"
     ]
    },
    {
     "name": "stdout",
     "output_type": "stream",
     "text": [
      "Saving: mpo_solutions/0.2_1_1.pickle\n"
     ]
    },
    {
     "name": "stderr",
     "output_type": "stream",
     "text": [
      "+0.001315368921 [best: +0.001107922057] : : 5001it [00:17, 290.54it/s]                                  \n"
     ]
    },
    {
     "name": "stdout",
     "output_type": "stream",
     "text": [
      "Saving: mpo_solutions/0.2_2_1.pickle\n"
     ]
    },
    {
     "name": "stderr",
     "output_type": "stream",
     "text": [
      "+0.002986049512 [best: +0.002904404653] : : 5001it [00:17, 288.07it/s]                                  \n"
     ]
    },
    {
     "name": "stdout",
     "output_type": "stream",
     "text": [
      "Saving: mpo_solutions/0.2_3_1.pickle\n"
     ]
    },
    {
     "name": "stderr",
     "output_type": "stream",
     "text": [
      "+0.003098561428 [best: +0.002758692950] : : 5001it [00:16, 305.27it/s]                                  \n"
     ]
    },
    {
     "name": "stdout",
     "output_type": "stream",
     "text": [
      "Saving: mpo_solutions/0.3_1_1.pickle\n"
     ]
    },
    {
     "name": "stderr",
     "output_type": "stream",
     "text": [
      "+0.003667754354 [best: +0.003516207216] : : 5001it [00:17, 288.28it/s]                                  \n"
     ]
    },
    {
     "name": "stdout",
     "output_type": "stream",
     "text": [
      "Saving: mpo_solutions/0.3_2_1.pickle\n"
     ]
    },
    {
     "name": "stderr",
     "output_type": "stream",
     "text": [
      "+0.004296747968 [best: +0.003594223876] : : 5001it [00:17, 285.80it/s]                                  \n"
     ]
    },
    {
     "name": "stdout",
     "output_type": "stream",
     "text": [
      "Saving: mpo_solutions/0.3_3_1.pickle\n"
     ]
    },
    {
     "name": "stderr",
     "output_type": "stream",
     "text": [
      "+0.007873913273 [best: +0.007582623977] : : 5001it [00:16, 300.81it/s]                                  \n"
     ]
    },
    {
     "name": "stdout",
     "output_type": "stream",
     "text": [
      "Saving: mpo_solutions/0.4_1_1.pickle\n"
     ]
    },
    {
     "name": "stderr",
     "output_type": "stream",
     "text": [
      "+0.007084907033 [best: +0.007076824084] : : 5001it [00:17, 291.67it/s]                                  \n"
     ]
    },
    {
     "name": "stdout",
     "output_type": "stream",
     "text": [
      "Saving: mpo_solutions/0.4_2_1.pickle\n"
     ]
    },
    {
     "name": "stderr",
     "output_type": "stream",
     "text": [
      "+0.014532502741 [best: +0.014470349997] : : 5001it [00:16, 303.35it/s]                                  \n"
     ]
    },
    {
     "name": "stdout",
     "output_type": "stream",
     "text": [
      "Saving: mpo_solutions/0.4_3_1.pickle\n"
     ]
    },
    {
     "name": "stderr",
     "output_type": "stream",
     "text": [
      "+0.025735652074 [best: +0.025735652074] : : 5001it [00:17, 287.94it/s]                                  \n"
     ]
    },
    {
     "name": "stdout",
     "output_type": "stream",
     "text": [
      "Saving: mpo_solutions/0.5_1_1.pickle\n"
     ]
    },
    {
     "name": "stderr",
     "output_type": "stream",
     "text": [
      "+0.019393308088 [best: +0.019259624183] : : 5001it [00:17, 283.29it/s]                                  \n"
     ]
    },
    {
     "name": "stdout",
     "output_type": "stream",
     "text": [
      "Saving: mpo_solutions/0.5_2_1.pickle\n"
     ]
    },
    {
     "name": "stderr",
     "output_type": "stream",
     "text": [
      "+0.069662764668 [best: +0.069483846426] : : 5001it [00:15, 315.37it/s]                                  \n"
     ]
    },
    {
     "name": "stdout",
     "output_type": "stream",
     "text": [
      "Saving: mpo_solutions/0.5_3_1.pickle\n"
     ]
    },
    {
     "name": "stderr",
     "output_type": "stream",
     "text": [
      "+0.087518408895 [best: +0.087214954197] : : 5001it [00:16, 295.21it/s]                                  \n"
     ]
    },
    {
     "name": "stdout",
     "output_type": "stream",
     "text": [
      "Saving: mpo_solutions/0.6_1_1.pickle\n"
     ]
    },
    {
     "name": "stderr",
     "output_type": "stream",
     "text": [
      "+0.087458796799 [best: +0.087440915406] : : 5001it [00:16, 302.37it/s]                                  \n"
     ]
    },
    {
     "name": "stdout",
     "output_type": "stream",
     "text": [
      "Saving: mpo_solutions/0.6_2_1.pickle\n"
     ]
    },
    {
     "name": "stderr",
     "output_type": "stream",
     "text": [
      "+0.323405921459 [best: +0.323374092579] : : 5001it [00:17, 287.87it/s]                                  \n"
     ]
    },
    {
     "name": "stdout",
     "output_type": "stream",
     "text": [
      "Saving: mpo_solutions/0.6_3_1.pickle\n"
     ]
    },
    {
     "name": "stderr",
     "output_type": "stream",
     "text": [
      "+0.323155701160 [best: +0.323074996471] : : 5001it [00:16, 294.79it/s]                                  \n"
     ]
    },
    {
     "name": "stdout",
     "output_type": "stream",
     "text": [
      "Saving: mpo_solutions/0.6_3_2.pickle\n"
     ]
    },
    {
     "name": "stderr",
     "output_type": "stream",
     "text": [
      "+0.346048593521 [best: +0.345954775810] : : 5001it [00:16, 308.74it/s]                                  \n"
     ]
    },
    {
     "name": "stdout",
     "output_type": "stream",
     "text": [
      "Saving: mpo_solutions/0.6_3_3.pickle\n"
     ]
    },
    {
     "name": "stderr",
     "output_type": "stream",
     "text": [
      "+0.362929373980 [best: +0.362870693207] : : 5001it [00:15, 315.52it/s]                                  \n"
     ]
    },
    {
     "name": "stdout",
     "output_type": "stream",
     "text": [
      "Saving: mpo_solutions/0.6_3_4.pickle\n"
     ]
    },
    {
     "name": "stderr",
     "output_type": "stream",
     "text": [
      "+1.760186195374 [best: +1.759961128235] : : 5001it [00:17, 294.10it/s]                                  \n"
     ]
    },
    {
     "name": "stdout",
     "output_type": "stream",
     "text": [
      "Saving: mpo_solutions/0.6_3_5.pickle\n"
     ]
    },
    {
     "name": "stderr",
     "output_type": "stream",
     "text": [
      "+0.374013066292 [best: +0.374013066292] : : 5001it [00:17, 293.43it/s]                                  \n"
     ]
    },
    {
     "name": "stdout",
     "output_type": "stream",
     "text": [
      "Saving: mpo_solutions/0.6_3_6.pickle\n"
     ]
    },
    {
     "name": "stderr",
     "output_type": "stream",
     "text": [
      "+0.324218034744 [best: +0.324081152678] : : 5001it [00:16, 306.11it/s]                                  \n"
     ]
    },
    {
     "name": "stdout",
     "output_type": "stream",
     "text": [
      "Saving: mpo_solutions/0.6_3_7.pickle\n"
     ]
    },
    {
     "name": "stderr",
     "output_type": "stream",
     "text": [
      "+0.329259067774 [best: +0.329137235880] : : 5001it [00:16, 295.96it/s]                                  \n"
     ]
    },
    {
     "name": "stdout",
     "output_type": "stream",
     "text": [
      "Saving: mpo_solutions/0.6_3_8.pickle\n"
     ]
    },
    {
     "name": "stderr",
     "output_type": "stream",
     "text": [
      "+0.357086271048 [best: +0.357086271048] : : 5001it [00:16, 303.53it/s]                                  \n"
     ]
    },
    {
     "name": "stdout",
     "output_type": "stream",
     "text": [
      "Saving: mpo_solutions/0.6_3_9.pickle\n"
     ]
    },
    {
     "name": "stderr",
     "output_type": "stream",
     "text": [
      "+0.372740000486 [best: +0.372444003820] : : 5001it [00:16, 297.92it/s]                                  \n"
     ]
    },
    {
     "name": "stdout",
     "output_type": "stream",
     "text": [
      "Saving: mpo_solutions/0.6_3_10.pickle\n"
     ]
    },
    {
     "name": "stderr",
     "output_type": "stream",
     "text": [
      "+0.354397952557 [best: +0.354149043560] : : 5001it [00:17, 283.83it/s]                                  \n"
     ]
    },
    {
     "name": "stdout",
     "output_type": "stream",
     "text": [
      "Saving: mpo_solutions/0.7_1_1.pickle\n"
     ]
    },
    {
     "name": "stderr",
     "output_type": "stream",
     "text": [
      "+0.341506361961 [best: +0.341506361961] : : 5001it [00:16, 301.58it/s]                                  \n"
     ]
    },
    {
     "name": "stdout",
     "output_type": "stream",
     "text": [
      "Saving: mpo_solutions/0.7_1_2.pickle\n"
     ]
    },
    {
     "name": "stderr",
     "output_type": "stream",
     "text": [
      "+0.353245407343 [best: +0.352803349495] : : 5001it [00:16, 302.44it/s]                                  \n"
     ]
    },
    {
     "name": "stdout",
     "output_type": "stream",
     "text": [
      "Saving: mpo_solutions/0.7_1_3.pickle\n"
     ]
    },
    {
     "name": "stderr",
     "output_type": "stream",
     "text": [
      "+0.355516612530 [best: +0.355369240046] : : 5001it [00:15, 325.38it/s]                                  \n"
     ]
    },
    {
     "name": "stdout",
     "output_type": "stream",
     "text": [
      "Saving: mpo_solutions/0.7_1_4.pickle\n"
     ]
    },
    {
     "name": "stderr",
     "output_type": "stream",
     "text": [
      "+0.323470473289 [best: +0.323228001595] : : 5001it [00:15, 315.00it/s]                                  \n"
     ]
    },
    {
     "name": "stdout",
     "output_type": "stream",
     "text": [
      "Saving: mpo_solutions/0.7_1_5.pickle\n"
     ]
    },
    {
     "name": "stderr",
     "output_type": "stream",
     "text": [
      "+0.356790125370 [best: +0.356756865978] : : 5001it [00:17, 289.85it/s]                                  \n"
     ]
    },
    {
     "name": "stdout",
     "output_type": "stream",
     "text": [
      "Saving: mpo_solutions/0.7_1_6.pickle\n"
     ]
    },
    {
     "name": "stderr",
     "output_type": "stream",
     "text": [
      "+0.353696703911 [best: +0.353458583355] : : 5001it [00:17, 292.79it/s]                                  \n"
     ]
    },
    {
     "name": "stdout",
     "output_type": "stream",
     "text": [
      "Saving: mpo_solutions/0.7_1_7.pickle\n"
     ]
    },
    {
     "name": "stderr",
     "output_type": "stream",
     "text": [
      "+0.339668631554 [best: +0.338952392340] : : 5001it [00:17, 280.46it/s]                                  \n"
     ]
    },
    {
     "name": "stdout",
     "output_type": "stream",
     "text": [
      "Saving: mpo_solutions/0.7_1_8.pickle\n"
     ]
    },
    {
     "name": "stderr",
     "output_type": "stream",
     "text": [
      "+0.355098545551 [best: +0.354889452457] : : 5001it [00:17, 287.12it/s]                                  \n"
     ]
    },
    {
     "name": "stdout",
     "output_type": "stream",
     "text": [
      "Saving: mpo_solutions/0.7_1_9.pickle\n"
     ]
    },
    {
     "name": "stderr",
     "output_type": "stream",
     "text": [
      "+0.351120114326 [best: +0.350602000952] : : 5001it [00:18, 274.14it/s]                                  \n"
     ]
    },
    {
     "name": "stdout",
     "output_type": "stream",
     "text": [
      "Saving: mpo_solutions/0.7_1_10.pickle\n"
     ]
    },
    {
     "name": "stderr",
     "output_type": "stream",
     "text": [
      "+0.362209886312 [best: +0.361914068460] : : 5001it [00:17, 284.64it/s]                                  \n"
     ]
    },
    {
     "name": "stdout",
     "output_type": "stream",
     "text": [
      "Saving: mpo_solutions/0.7_2_1.pickle\n"
     ]
    },
    {
     "name": "stderr",
     "output_type": "stream",
     "text": [
      "+0.377634406090 [best: +0.377221614122] : : 5001it [00:18, 276.80it/s]                                  \n"
     ]
    },
    {
     "name": "stdout",
     "output_type": "stream",
     "text": [
      "Saving: mpo_solutions/0.7_2_2.pickle\n"
     ]
    },
    {
     "name": "stderr",
     "output_type": "stream",
     "text": [
      "+0.365072846413 [best: +0.364881664515] : : 5001it [00:15, 327.75it/s]                                  \n"
     ]
    },
    {
     "name": "stdout",
     "output_type": "stream",
     "text": [
      "Saving: mpo_solutions/0.7_2_3.pickle\n"
     ]
    },
    {
     "name": "stderr",
     "output_type": "stream",
     "text": [
      "+0.333644688129 [best: +0.333586841822] : : 5001it [00:17, 287.31it/s]                                  \n"
     ]
    },
    {
     "name": "stdout",
     "output_type": "stream",
     "text": [
      "Saving: mpo_solutions/0.7_2_4.pickle\n"
     ]
    },
    {
     "name": "stderr",
     "output_type": "stream",
     "text": [
      "+0.360139250755 [best: +0.359969705343] : : 5001it [00:15, 318.64it/s]                                  \n"
     ]
    },
    {
     "name": "stdout",
     "output_type": "stream",
     "text": [
      "Saving: mpo_solutions/0.7_2_5.pickle\n"
     ]
    },
    {
     "name": "stderr",
     "output_type": "stream",
     "text": [
      "+0.411479234695 [best: +0.411188066006] : : 5001it [00:17, 289.98it/s]                                  \n"
     ]
    },
    {
     "name": "stdout",
     "output_type": "stream",
     "text": [
      "Saving: mpo_solutions/0.7_2_6.pickle\n"
     ]
    },
    {
     "name": "stderr",
     "output_type": "stream",
     "text": [
      "+0.318284362555 [best: +0.318131744862] : : 5001it [00:17, 287.62it/s]                                  \n"
     ]
    },
    {
     "name": "stdout",
     "output_type": "stream",
     "text": [
      "Saving: mpo_solutions/0.7_2_7.pickle\n"
     ]
    },
    {
     "name": "stderr",
     "output_type": "stream",
     "text": [
      "+0.359778612852 [best: +0.359557479620] : : 5001it [00:17, 291.84it/s]                                  \n"
     ]
    },
    {
     "name": "stdout",
     "output_type": "stream",
     "text": [
      "Saving: mpo_solutions/0.7_2_8.pickle\n"
     ]
    },
    {
     "name": "stderr",
     "output_type": "stream",
     "text": [
      "+0.368197619915 [best: +0.367651939392] : : 5001it [00:17, 293.92it/s]                                  \n"
     ]
    },
    {
     "name": "stdout",
     "output_type": "stream",
     "text": [
      "Saving: mpo_solutions/0.7_2_9.pickle\n"
     ]
    },
    {
     "name": "stderr",
     "output_type": "stream",
     "text": [
      "+0.350804537535 [best: +0.350804537535] : : 5001it [00:16, 298.13it/s]                                  \n"
     ]
    },
    {
     "name": "stdout",
     "output_type": "stream",
     "text": [
      "Saving: mpo_solutions/0.7_2_10.pickle\n"
     ]
    },
    {
     "name": "stderr",
     "output_type": "stream",
     "text": [
      "+1.533713936806 [best: +1.533574104309] : : 5001it [00:17, 283.54it/s]                                  \n"
     ]
    },
    {
     "name": "stdout",
     "output_type": "stream",
     "text": [
      "Saving: mpo_solutions/0.7_3_1.pickle\n"
     ]
    },
    {
     "name": "stderr",
     "output_type": "stream",
     "text": [
      "+1.315871238708 [best: +1.315760135651] : : 5001it [00:16, 311.45it/s]                                  \n"
     ]
    },
    {
     "name": "stdout",
     "output_type": "stream",
     "text": [
      "Saving: mpo_solutions/0.7_3_2.pickle\n"
     ]
    },
    {
     "name": "stderr",
     "output_type": "stream",
     "text": [
      "+1.321821451187 [best: +1.321821451187] : : 5001it [00:15, 314.13it/s]                                  \n"
     ]
    },
    {
     "name": "stdout",
     "output_type": "stream",
     "text": [
      "Saving: mpo_solutions/0.7_3_3.pickle\n"
     ]
    },
    {
     "name": "stderr",
     "output_type": "stream",
     "text": [
      "+1.268526792526 [best: +1.268226623535] : : 5001it [00:17, 286.77it/s]                                  \n"
     ]
    },
    {
     "name": "stdout",
     "output_type": "stream",
     "text": [
      "Saving: mpo_solutions/0.7_3_4.pickle\n"
     ]
    },
    {
     "name": "stderr",
     "output_type": "stream",
     "text": [
      "+1.313251256943 [best: +1.313226580620] : : 5001it [00:16, 312.44it/s]                                  \n"
     ]
    },
    {
     "name": "stdout",
     "output_type": "stream",
     "text": [
      "Saving: mpo_solutions/0.7_3_5.pickle\n"
     ]
    },
    {
     "name": "stderr",
     "output_type": "stream",
     "text": [
      "+1.341525316238 [best: +1.341525316238] : : 5001it [00:16, 305.24it/s]                                  \n"
     ]
    },
    {
     "name": "stdout",
     "output_type": "stream",
     "text": [
      "Saving: mpo_solutions/0.7_3_6.pickle\n"
     ]
    },
    {
     "name": "stderr",
     "output_type": "stream",
     "text": [
      "+1.323655366898 [best: +1.323655366898] : : 5001it [00:17, 293.65it/s]                                  \n"
     ]
    },
    {
     "name": "stdout",
     "output_type": "stream",
     "text": [
      "Saving: mpo_solutions/0.7_3_7.pickle\n"
     ]
    },
    {
     "name": "stderr",
     "output_type": "stream",
     "text": [
      "+1.534374713898 [best: +1.534305930138] : : 5001it [00:18, 275.91it/s]                                  \n"
     ]
    },
    {
     "name": "stdout",
     "output_type": "stream",
     "text": [
      "Saving: mpo_solutions/0.7_3_8.pickle\n"
     ]
    },
    {
     "name": "stderr",
     "output_type": "stream",
     "text": [
      "+1.414120078087 [best: +1.414120078087] : : 5001it [00:16, 295.45it/s]                                  \n"
     ]
    },
    {
     "name": "stdout",
     "output_type": "stream",
     "text": [
      "Saving: mpo_solutions/0.7_3_9.pickle\n"
     ]
    },
    {
     "name": "stderr",
     "output_type": "stream",
     "text": [
      "+1.274648666382 [best: +1.274648666382] : : 5001it [00:16, 303.35it/s]                                  \n"
     ]
    },
    {
     "name": "stdout",
     "output_type": "stream",
     "text": [
      "Saving: mpo_solutions/0.7_3_10.pickle\n"
     ]
    },
    {
     "name": "stderr",
     "output_type": "stream",
     "text": [
      "+0.155198633671 [best: +0.155198633671] : : 5001it [00:16, 303.37it/s]                                  \n"
     ]
    },
    {
     "name": "stdout",
     "output_type": "stream",
     "text": [
      "Saving: mpo_solutions/0.8_1_1.pickle\n"
     ]
    },
    {
     "name": "stderr",
     "output_type": "stream",
     "text": [
      "+0.170170307159 [best: +0.170058339834] : : 5001it [00:16, 311.24it/s]                                  \n"
     ]
    },
    {
     "name": "stdout",
     "output_type": "stream",
     "text": [
      "Saving: mpo_solutions/0.8_1_2.pickle\n"
     ]
    },
    {
     "name": "stderr",
     "output_type": "stream",
     "text": [
      "+0.159085392952 [best: +0.159060925245] : : 5001it [00:16, 310.39it/s]                                  \n"
     ]
    },
    {
     "name": "stdout",
     "output_type": "stream",
     "text": [
      "Saving: mpo_solutions/0.8_1_3.pickle\n"
     ]
    },
    {
     "name": "stderr",
     "output_type": "stream",
     "text": [
      "+0.173879981041 [best: +0.173879981041] : : 5001it [00:18, 268.36it/s]                                  \n"
     ]
    },
    {
     "name": "stdout",
     "output_type": "stream",
     "text": [
      "Saving: mpo_solutions/0.8_1_4.pickle\n"
     ]
    },
    {
     "name": "stderr",
     "output_type": "stream",
     "text": [
      "+0.155352890491 [best: +0.155300915241] : : 5001it [00:15, 314.73it/s]                                  \n"
     ]
    },
    {
     "name": "stdout",
     "output_type": "stream",
     "text": [
      "Saving: mpo_solutions/0.8_1_5.pickle\n"
     ]
    },
    {
     "name": "stderr",
     "output_type": "stream",
     "text": [
      "+0.250860393047 [best: +0.250794082880] : : 5001it [00:16, 312.37it/s]                                  \n"
     ]
    },
    {
     "name": "stdout",
     "output_type": "stream",
     "text": [
      "Saving: mpo_solutions/0.8_1_6.pickle\n"
     ]
    },
    {
     "name": "stderr",
     "output_type": "stream",
     "text": [
      "+0.167571961880 [best: +0.167481705546] : : 5001it [00:17, 291.13it/s]                                  \n"
     ]
    },
    {
     "name": "stdout",
     "output_type": "stream",
     "text": [
      "Saving: mpo_solutions/0.8_1_7.pickle\n"
     ]
    },
    {
     "name": "stderr",
     "output_type": "stream",
     "text": [
      "+0.164809554815 [best: +0.164750173688] : : 5001it [00:17, 289.17it/s]                                  \n"
     ]
    },
    {
     "name": "stdout",
     "output_type": "stream",
     "text": [
      "Saving: mpo_solutions/0.8_1_8.pickle\n"
     ]
    },
    {
     "name": "stderr",
     "output_type": "stream",
     "text": [
      "+0.170684784651 [best: +0.169943362474] : : 5001it [00:16, 303.78it/s]                                  \n"
     ]
    },
    {
     "name": "stdout",
     "output_type": "stream",
     "text": [
      "Saving: mpo_solutions/0.8_1_9.pickle\n"
     ]
    },
    {
     "name": "stderr",
     "output_type": "stream",
     "text": [
      "+0.162298634648 [best: +0.162184163928] : : 5001it [00:15, 320.70it/s]                                  \n"
     ]
    },
    {
     "name": "stdout",
     "output_type": "stream",
     "text": [
      "Saving: mpo_solutions/0.8_1_10.pickle\n"
     ]
    },
    {
     "name": "stderr",
     "output_type": "stream",
     "text": [
      "+0.196535632014 [best: +0.196383863688] : : 5001it [00:16, 299.51it/s]                                  \n"
     ]
    },
    {
     "name": "stdout",
     "output_type": "stream",
     "text": [
      "Saving: mpo_solutions/0.8_2_1.pickle\n"
     ]
    },
    {
     "name": "stderr",
     "output_type": "stream",
     "text": [
      "+0.176262497902 [best: +0.175845235586] : : 5001it [00:17, 293.49it/s]                                  \n"
     ]
    },
    {
     "name": "stdout",
     "output_type": "stream",
     "text": [
      "Saving: mpo_solutions/0.8_2_2.pickle\n"
     ]
    },
    {
     "name": "stderr",
     "output_type": "stream",
     "text": [
      "+0.216588482261 [best: +0.216568276286] : : 5001it [00:17, 278.08it/s]                                  \n"
     ]
    },
    {
     "name": "stdout",
     "output_type": "stream",
     "text": [
      "Saving: mpo_solutions/0.8_2_3.pickle\n"
     ]
    },
    {
     "name": "stderr",
     "output_type": "stream",
     "text": [
      "+0.154544383287 [best: +0.154095962644] : : 5001it [00:17, 285.74it/s]                                  \n"
     ]
    },
    {
     "name": "stdout",
     "output_type": "stream",
     "text": [
      "Saving: mpo_solutions/0.8_2_4.pickle\n"
     ]
    },
    {
     "name": "stderr",
     "output_type": "stream",
     "text": [
      "+0.229338794947 [best: +0.229325965047] : : 5001it [00:16, 297.77it/s]                                  \n"
     ]
    },
    {
     "name": "stdout",
     "output_type": "stream",
     "text": [
      "Saving: mpo_solutions/0.8_2_5.pickle\n"
     ]
    },
    {
     "name": "stderr",
     "output_type": "stream",
     "text": [
      "+0.155261665583 [best: +0.155169099569] : : 5001it [00:16, 306.47it/s]                                  \n"
     ]
    },
    {
     "name": "stdout",
     "output_type": "stream",
     "text": [
      "Saving: mpo_solutions/0.8_2_6.pickle\n"
     ]
    },
    {
     "name": "stderr",
     "output_type": "stream",
     "text": [
      "+0.159489721060 [best: +0.159413948655] : : 5001it [00:16, 307.48it/s]                                  \n"
     ]
    },
    {
     "name": "stdout",
     "output_type": "stream",
     "text": [
      "Saving: mpo_solutions/0.8_2_7.pickle\n"
     ]
    },
    {
     "name": "stderr",
     "output_type": "stream",
     "text": [
      "+0.159335762262 [best: +0.159272983670] : : 5001it [00:16, 297.15it/s]                                  \n"
     ]
    },
    {
     "name": "stdout",
     "output_type": "stream",
     "text": [
      "Saving: mpo_solutions/0.8_2_8.pickle\n"
     ]
    },
    {
     "name": "stderr",
     "output_type": "stream",
     "text": [
      "+0.154123842716 [best: +0.153816893697] : : 5001it [00:17, 293.45it/s]                                  \n"
     ]
    },
    {
     "name": "stdout",
     "output_type": "stream",
     "text": [
      "Saving: mpo_solutions/0.8_2_9.pickle\n"
     ]
    },
    {
     "name": "stderr",
     "output_type": "stream",
     "text": [
      "+0.174918904901 [best: +0.174553990364] : : 5001it [00:17, 287.78it/s]                                  \n"
     ]
    },
    {
     "name": "stdout",
     "output_type": "stream",
     "text": [
      "Saving: mpo_solutions/0.8_2_10.pickle\n"
     ]
    },
    {
     "name": "stderr",
     "output_type": "stream",
     "text": [
      "+0.599534571171 [best: +0.599497556686] : : 5001it [00:16, 295.22it/s]                                  \n"
     ]
    },
    {
     "name": "stdout",
     "output_type": "stream",
     "text": [
      "Saving: mpo_solutions/0.8_3_1.pickle\n"
     ]
    },
    {
     "name": "stderr",
     "output_type": "stream",
     "text": [
      "+0.608395576477 [best: +0.607958197594] : : 5001it [00:17, 286.54it/s]                                  \n"
     ]
    },
    {
     "name": "stdout",
     "output_type": "stream",
     "text": [
      "Saving: mpo_solutions/0.8_3_2.pickle\n"
     ]
    },
    {
     "name": "stderr",
     "output_type": "stream",
     "text": [
      "+0.617955148220 [best: +0.617955148220] : : 5001it [00:16, 306.89it/s]                                  \n"
     ]
    },
    {
     "name": "stdout",
     "output_type": "stream",
     "text": [
      "Saving: mpo_solutions/0.8_3_3.pickle\n"
     ]
    },
    {
     "name": "stderr",
     "output_type": "stream",
     "text": [
      "+0.741949141026 [best: +0.741500318050] : : 5001it [00:16, 310.24it/s]                                  \n"
     ]
    },
    {
     "name": "stdout",
     "output_type": "stream",
     "text": [
      "Saving: mpo_solutions/0.8_3_4.pickle\n"
     ]
    },
    {
     "name": "stderr",
     "output_type": "stream",
     "text": [
      "+0.608774662018 [best: +0.608474910259] : : 5001it [00:16, 298.42it/s]                                  \n"
     ]
    },
    {
     "name": "stdout",
     "output_type": "stream",
     "text": [
      "Saving: mpo_solutions/0.8_3_5.pickle\n"
     ]
    },
    {
     "name": "stderr",
     "output_type": "stream",
     "text": [
      "+0.608050584793 [best: +0.608039140701] : : 5001it [00:16, 307.80it/s]                                  \n"
     ]
    },
    {
     "name": "stdout",
     "output_type": "stream",
     "text": [
      "Saving: mpo_solutions/0.8_3_6.pickle\n"
     ]
    },
    {
     "name": "stderr",
     "output_type": "stream",
     "text": [
      "+0.601666450500 [best: +0.601147174835] : : 5001it [00:16, 299.20it/s]                                  \n"
     ]
    },
    {
     "name": "stdout",
     "output_type": "stream",
     "text": [
      "Saving: mpo_solutions/0.8_3_7.pickle\n"
     ]
    },
    {
     "name": "stderr",
     "output_type": "stream",
     "text": [
      "+0.605307936668 [best: +0.604973018169] : : 5001it [00:16, 306.64it/s]                                  \n"
     ]
    },
    {
     "name": "stdout",
     "output_type": "stream",
     "text": [
      "Saving: mpo_solutions/0.8_3_8.pickle\n"
     ]
    },
    {
     "name": "stderr",
     "output_type": "stream",
     "text": [
      "+0.609720349312 [best: +0.609662711620] : : 5001it [00:16, 305.34it/s]                                  \n"
     ]
    },
    {
     "name": "stdout",
     "output_type": "stream",
     "text": [
      "Saving: mpo_solutions/0.8_3_9.pickle\n"
     ]
    },
    {
     "name": "stderr",
     "output_type": "stream",
     "text": [
      "+0.661392569542 [best: +0.661392569542] : : 5001it [00:17, 289.58it/s]                                  \n"
     ]
    },
    {
     "name": "stdout",
     "output_type": "stream",
     "text": [
      "Saving: mpo_solutions/0.8_3_10.pickle\n"
     ]
    },
    {
     "name": "stderr",
     "output_type": "stream",
     "text": [
      "+0.072797991335 [best: +0.072696052492] : : 5001it [00:17, 290.95it/s]                                  \n"
     ]
    },
    {
     "name": "stdout",
     "output_type": "stream",
     "text": [
      "Saving: mpo_solutions/0.9_1_1.pickle\n"
     ]
    },
    {
     "name": "stderr",
     "output_type": "stream",
     "text": [
      "+0.066089659929 [best: +0.065972045064] : : 5001it [00:16, 295.96it/s]                                  \n"
     ]
    },
    {
     "name": "stdout",
     "output_type": "stream",
     "text": [
      "Saving: mpo_solutions/0.9_2_1.pickle\n"
     ]
    },
    {
     "name": "stderr",
     "output_type": "stream",
     "text": [
      "+0.233670204878 [best: +0.233670204878] : : 5001it [00:17, 278.12it/s]                                  \n"
     ]
    },
    {
     "name": "stdout",
     "output_type": "stream",
     "text": [
      "Saving: mpo_solutions/0.9_3_1.pickle\n"
     ]
    },
    {
     "name": "stderr",
     "output_type": "stream",
     "text": [
      "+0.241994053125 [best: +0.241837769747] : : 5001it [00:15, 313.91it/s]                                  \n"
     ]
    },
    {
     "name": "stdout",
     "output_type": "stream",
     "text": [
      "Saving: mpo_solutions/0.9_3_2.pickle\n"
     ]
    },
    {
     "name": "stderr",
     "output_type": "stream",
     "text": [
      "+0.247813224792 [best: +0.247646808624] : : 5001it [00:16, 306.16it/s]                                  \n"
     ]
    },
    {
     "name": "stdout",
     "output_type": "stream",
     "text": [
      "Saving: mpo_solutions/0.9_3_3.pickle\n"
     ]
    },
    {
     "name": "stderr",
     "output_type": "stream",
     "text": [
      "+0.232063576579 [best: +0.231932148337] : : 5001it [00:18, 275.11it/s]                                  \n"
     ]
    },
    {
     "name": "stdout",
     "output_type": "stream",
     "text": [
      "Saving: mpo_solutions/0.9_3_4.pickle\n"
     ]
    },
    {
     "name": "stderr",
     "output_type": "stream",
     "text": [
      "+0.250698745251 [best: +0.249981656671] : : 5001it [00:16, 301.10it/s]                                  \n"
     ]
    },
    {
     "name": "stdout",
     "output_type": "stream",
     "text": [
      "Saving: mpo_solutions/0.9_3_5.pickle\n"
     ]
    },
    {
     "name": "stderr",
     "output_type": "stream",
     "text": [
      "+0.218789070845 [best: +0.218594893813] : : 5001it [00:16, 297.66it/s]                                  \n"
     ]
    },
    {
     "name": "stdout",
     "output_type": "stream",
     "text": [
      "Saving: mpo_solutions/0.9_3_6.pickle\n"
     ]
    },
    {
     "name": "stderr",
     "output_type": "stream",
     "text": [
      "+0.253252983093 [best: +0.252473413944] : : 5001it [00:17, 291.11it/s]                                  \n"
     ]
    },
    {
     "name": "stdout",
     "output_type": "stream",
     "text": [
      "Saving: mpo_solutions/0.9_3_7.pickle\n"
     ]
    },
    {
     "name": "stderr",
     "output_type": "stream",
     "text": [
      "+0.241466999054 [best: +0.241466999054] : : 5001it [00:16, 294.63it/s]                                  \n"
     ]
    },
    {
     "name": "stdout",
     "output_type": "stream",
     "text": [
      "Saving: mpo_solutions/0.9_3_8.pickle\n"
     ]
    },
    {
     "name": "stderr",
     "output_type": "stream",
     "text": [
      "+0.254743695259 [best: +0.254138052464] : : 5001it [00:18, 276.16it/s]                                  \n"
     ]
    },
    {
     "name": "stdout",
     "output_type": "stream",
     "text": [
      "Saving: mpo_solutions/0.9_3_9.pickle\n"
     ]
    },
    {
     "name": "stderr",
     "output_type": "stream",
     "text": [
      "+0.236169576645 [best: +0.235511571169] : : 5001it [00:16, 301.40it/s]                                  \n"
     ]
    },
    {
     "name": "stdout",
     "output_type": "stream",
     "text": [
      "Saving: mpo_solutions/0.9_3_10.pickle\n"
     ]
    },
    {
     "name": "stderr",
     "output_type": "stream",
     "text": [
      "+0.032419320196 [best: +0.032413601875] : : 5001it [00:16, 294.91it/s]                                  \n"
     ]
    },
    {
     "name": "stdout",
     "output_type": "stream",
     "text": [
      "Saving: mpo_solutions/1.0_1_1.pickle\n"
     ]
    },
    {
     "name": "stderr",
     "output_type": "stream",
     "text": [
      "+0.032471999526 [best: +0.031876787543] : : 5001it [00:17, 277.98it/s]                                  \n"
     ]
    },
    {
     "name": "stdout",
     "output_type": "stream",
     "text": [
      "Saving: mpo_solutions/1.0_2_1.pickle\n"
     ]
    },
    {
     "name": "stderr",
     "output_type": "stream",
     "text": [
      "+0.117341101170 [best: +0.117208510637] : : 5001it [00:16, 300.20it/s]                                  \n"
     ]
    },
    {
     "name": "stdout",
     "output_type": "stream",
     "text": [
      "Saving: mpo_solutions/1.0_3_1.pickle\n"
     ]
    },
    {
     "name": "stderr",
     "output_type": "stream",
     "text": [
      "+0.108571097255 [best: +0.108450151980] : : 5001it [00:16, 297.58it/s]                                  \n"
     ]
    },
    {
     "name": "stdout",
     "output_type": "stream",
     "text": [
      "Saving: mpo_solutions/1.0_3_2.pickle\n"
     ]
    },
    {
     "name": "stderr",
     "output_type": "stream",
     "text": [
      "+0.108164109290 [best: +0.108026385307] : : 5001it [00:16, 297.50it/s]                                  \n"
     ]
    },
    {
     "name": "stdout",
     "output_type": "stream",
     "text": [
      "Saving: mpo_solutions/1.0_3_3.pickle\n"
     ]
    },
    {
     "name": "stderr",
     "output_type": "stream",
     "text": [
      "+0.099788397551 [best: +0.099586114287] : : 5001it [00:16, 299.42it/s]                                  \n"
     ]
    },
    {
     "name": "stdout",
     "output_type": "stream",
     "text": [
      "Saving: mpo_solutions/1.0_3_4.pickle\n"
     ]
    },
    {
     "name": "stderr",
     "output_type": "stream",
     "text": [
      "+0.013181783259 [best: +0.013171417639] : : 5001it [00:17, 280.64it/s]                                  \n"
     ]
    },
    {
     "name": "stdout",
     "output_type": "stream",
     "text": [
      "Saving: mpo_solutions/1.1_1_1.pickle\n"
     ]
    },
    {
     "name": "stderr",
     "output_type": "stream",
     "text": [
      "+0.018080215901 [best: +0.017974399030] : : 5001it [00:15, 325.29it/s]                                  \n"
     ]
    },
    {
     "name": "stdout",
     "output_type": "stream",
     "text": [
      "Saving: mpo_solutions/1.1_2_1.pickle\n"
     ]
    },
    {
     "name": "stderr",
     "output_type": "stream",
     "text": [
      "+0.046350412071 [best: +0.046259425581] : : 5001it [00:16, 297.20it/s]                                  \n"
     ]
    },
    {
     "name": "stdout",
     "output_type": "stream",
     "text": [
      "Saving: mpo_solutions/1.1_3_1.pickle\n"
     ]
    },
    {
     "name": "stderr",
     "output_type": "stream",
     "text": [
      "+0.010192886926 [best: +0.009943962097] : : 5001it [00:17, 278.31it/s]                                  \n"
     ]
    },
    {
     "name": "stdout",
     "output_type": "stream",
     "text": [
      "Saving: mpo_solutions/1.2_1_1.pickle\n"
     ]
    },
    {
     "name": "stderr",
     "output_type": "stream",
     "text": [
      "+0.012954426929 [best: +0.012954426929] : : 5001it [00:16, 295.83it/s]                                  \n"
     ]
    },
    {
     "name": "stdout",
     "output_type": "stream",
     "text": [
      "Saving: mpo_solutions/1.2_2_1.pickle\n"
     ]
    },
    {
     "name": "stderr",
     "output_type": "stream",
     "text": [
      "+0.028394989669 [best: +0.028343457729] : : 5001it [00:17, 278.70it/s]                                  \n"
     ]
    },
    {
     "name": "stdout",
     "output_type": "stream",
     "text": [
      "Saving: mpo_solutions/1.2_3_1.pickle\n"
     ]
    },
    {
     "name": "stderr",
     "output_type": "stream",
     "text": [
      "+0.005070017185 [best: +0.004823763389] : : 5001it [00:16, 304.21it/s]                                  \n"
     ]
    },
    {
     "name": "stdout",
     "output_type": "stream",
     "text": [
      "Saving: mpo_solutions/1.3_1_1.pickle\n"
     ]
    },
    {
     "name": "stderr",
     "output_type": "stream",
     "text": [
      "+0.006447110325 [best: +0.006011522841] : : 5001it [00:16, 307.79it/s]                                  \n"
     ]
    },
    {
     "name": "stdout",
     "output_type": "stream",
     "text": [
      "Saving: mpo_solutions/1.3_2_1.pickle\n"
     ]
    },
    {
     "name": "stderr",
     "output_type": "stream",
     "text": [
      "+0.015863880515 [best: +0.015771720558] : : 5001it [00:18, 274.94it/s]                                  \n"
     ]
    },
    {
     "name": "stdout",
     "output_type": "stream",
     "text": [
      "Saving: mpo_solutions/1.3_3_1.pickle\n"
     ]
    },
    {
     "name": "stderr",
     "output_type": "stream",
     "text": [
      "+0.016325457022 [best: +0.015946090221] : : 5001it [00:17, 292.47it/s]                                  \n"
     ]
    },
    {
     "name": "stdout",
     "output_type": "stream",
     "text": [
      "Saving: mpo_solutions/1.4_1_1.pickle\n"
     ]
    },
    {
     "name": "stderr",
     "output_type": "stream",
     "text": [
      "+0.007312451024 [best: +0.006517791655] : : 5001it [00:17, 281.07it/s]                                  \n"
     ]
    },
    {
     "name": "stdout",
     "output_type": "stream",
     "text": [
      "Saving: mpo_solutions/1.4_2_1.pickle\n"
     ]
    },
    {
     "name": "stderr",
     "output_type": "stream",
     "text": [
      "+0.015749955550 [best: +0.015595771372] : : 5001it [00:17, 281.90it/s]                                  \n"
     ]
    },
    {
     "name": "stdout",
     "output_type": "stream",
     "text": [
      "Saving: mpo_solutions/1.4_3_1.pickle\n"
     ]
    },
    {
     "name": "stderr",
     "output_type": "stream",
     "text": [
      "+0.005953014363 [best: +0.004772807006] : : 5001it [00:16, 307.08it/s]                                  \n"
     ]
    },
    {
     "name": "stdout",
     "output_type": "stream",
     "text": [
      "Saving: mpo_solutions/1.5_1_1.pickle\n"
     ]
    },
    {
     "name": "stderr",
     "output_type": "stream",
     "text": [
      "+0.008833135478 [best: +0.007930973545] : : 5001it [00:15, 314.73it/s]                                  \n"
     ]
    },
    {
     "name": "stdout",
     "output_type": "stream",
     "text": [
      "Saving: mpo_solutions/1.5_2_1.pickle\n"
     ]
    },
    {
     "name": "stderr",
     "output_type": "stream",
     "text": [
      "+0.009176999331 [best: +0.009146068245] : : 5001it [00:18, 276.42it/s]                                  \n"
     ]
    },
    {
     "name": "stdout",
     "output_type": "stream",
     "text": [
      "Saving: mpo_solutions/1.5_3_1.pickle\n"
     ]
    },
    {
     "name": "stderr",
     "output_type": "stream",
     "text": [
      "+0.005526954774 [best: +0.005108370446] : : 5001it [00:17, 293.52it/s]                                  \n"
     ]
    },
    {
     "name": "stdout",
     "output_type": "stream",
     "text": [
      "Saving: mpo_solutions/1.6_1_1.pickle\n"
     ]
    },
    {
     "name": "stderr",
     "output_type": "stream",
     "text": [
      "+0.004454460926 [best: +0.003602927085] : : 5001it [00:17, 292.28it/s]                                  \n"
     ]
    },
    {
     "name": "stdout",
     "output_type": "stream",
     "text": [
      "Saving: mpo_solutions/1.6_2_1.pickle\n"
     ]
    },
    {
     "name": "stderr",
     "output_type": "stream",
     "text": [
      "+0.013991523534 [best: +0.013612142764] : : 5001it [00:17, 287.63it/s]                                  \n"
     ]
    },
    {
     "name": "stdout",
     "output_type": "stream",
     "text": [
      "Saving: mpo_solutions/1.6_3_1.pickle\n"
     ]
    },
    {
     "name": "stderr",
     "output_type": "stream",
     "text": [
      "+0.005886940751 [best: +0.004753837362] : : 5001it [00:16, 311.68it/s]                                  \n"
     ]
    },
    {
     "name": "stdout",
     "output_type": "stream",
     "text": [
      "Saving: mpo_solutions/1.7_1_1.pickle\n"
     ]
    },
    {
     "name": "stderr",
     "output_type": "stream",
     "text": [
      "+0.005938404240 [best: +0.005733952392] : : 5001it [00:17, 292.88it/s]                                  \n"
     ]
    },
    {
     "name": "stdout",
     "output_type": "stream",
     "text": [
      "Saving: mpo_solutions/1.7_2_1.pickle\n"
     ]
    },
    {
     "name": "stderr",
     "output_type": "stream",
     "text": [
      "+0.009948443621 [best: +0.009948443621] : : 5001it [00:17, 287.08it/s]                                  \n"
     ]
    },
    {
     "name": "stdout",
     "output_type": "stream",
     "text": [
      "Saving: mpo_solutions/1.7_3_1.pickle\n"
     ]
    },
    {
     "name": "stderr",
     "output_type": "stream",
     "text": [
      "+0.013876821846 [best: +0.013148249127] : : 5001it [00:17, 292.17it/s]                                  \n"
     ]
    },
    {
     "name": "stdout",
     "output_type": "stream",
     "text": [
      "Saving: mpo_solutions/1.8_1_1.pickle\n"
     ]
    },
    {
     "name": "stderr",
     "output_type": "stream",
     "text": [
      "+0.005194764119 [best: +0.005193244666] : : 5001it [00:17, 288.62it/s]                                  \n"
     ]
    },
    {
     "name": "stdout",
     "output_type": "stream",
     "text": [
      "Saving: mpo_solutions/1.8_2_1.pickle\n"
     ]
    },
    {
     "name": "stderr",
     "output_type": "stream",
     "text": [
      "+0.006483367644 [best: +0.006452135742] : : 5001it [00:15, 324.14it/s]                                  \n"
     ]
    },
    {
     "name": "stdout",
     "output_type": "stream",
     "text": [
      "Saving: mpo_solutions/1.8_3_1.pickle\n"
     ]
    },
    {
     "name": "stderr",
     "output_type": "stream",
     "text": [
      "+0.005413009785 [best: +0.005259033293] : : 5001it [00:14, 350.96it/s]                                  \n"
     ]
    },
    {
     "name": "stdout",
     "output_type": "stream",
     "text": [
      "Saving: mpo_solutions/1.9_1_1.pickle\n"
     ]
    },
    {
     "name": "stderr",
     "output_type": "stream",
     "text": [
      "+0.006183787715 [best: +0.005772698205] : : 5001it [00:13, 358.78it/s]                                  \n"
     ]
    },
    {
     "name": "stdout",
     "output_type": "stream",
     "text": [
      "Saving: mpo_solutions/1.9_2_1.pickle\n"
     ]
    },
    {
     "name": "stderr",
     "output_type": "stream",
     "text": [
      "+0.015343591571 [best: +0.015205942094] : : 5001it [00:13, 362.37it/s]                                  \n"
     ]
    },
    {
     "name": "stdout",
     "output_type": "stream",
     "text": [
      "Saving: mpo_solutions/1.9_3_1.pickle\n"
     ]
    },
    {
     "name": "stderr",
     "output_type": "stream",
     "text": [
      "+0.006128262728 [best: +0.006027206313] : : 5001it [00:14, 347.39it/s]                                  \n"
     ]
    },
    {
     "name": "stdout",
     "output_type": "stream",
     "text": [
      "Saving: mpo_solutions/2.0_1_1.pickle\n"
     ]
    },
    {
     "name": "stderr",
     "output_type": "stream",
     "text": [
      "+0.005130496342 [best: +0.004406609107] : : 5001it [00:14, 354.73it/s]                                  \n"
     ]
    },
    {
     "name": "stdout",
     "output_type": "stream",
     "text": [
      "Saving: mpo_solutions/2.0_2_1.pickle\n"
     ]
    },
    {
     "name": "stderr",
     "output_type": "stream",
     "text": [
      "+0.012393310666 [best: +0.010946597904] : : 5001it [00:14, 349.25it/s]                                  \n"
     ]
    },
    {
     "name": "stdout",
     "output_type": "stream",
     "text": [
      "Saving: mpo_solutions/2.0_3_1.pickle\n"
     ]
    }
   ],
   "source": [
    "for k1, mps_psi in psi_dict.items():\n",
    "\n",
    "    q1 = qtn.Dense1D(\n",
    "        mps_psi.to_ndarray(),\n",
    "        phys_dim=2\n",
    "    )\n",
    "\n",
    "    for k2, bs in enumerate(symmetry_actions[1:], start=1):\n",
    "        symmetry_site_pairs = (\n",
    "            [(i, bs[0]) for i in range(left_most_symmetry_site, left_most_symmetry_site+num_symmetry_sites, 2)]\n",
    "            + [(i, bs[1]) for i in range(left_most_symmetry_site+1, left_most_symmetry_site+num_symmetry_sites+1, 2)]\n",
    "        )\n",
    "\n",
    "        problem_rdm = generate_problem_rdm(\n",
    "            q1,\n",
    "            symmetry_site_pairs,\n",
    "            left_most_symmetry_site,\n",
    "            num_symmetry_sites,\n",
    "            num_boundary_sites\n",
    "        )\n",
    "\n",
    "        seed_number = 0\n",
    "        new_seed_needed=True\n",
    "        while new_seed_needed:\n",
    "            mpo = initialize_mpo(\n",
    "                left_most_symmetry_site,\n",
    "                num_symmetry_sites,\n",
    "                num_boundary_sites,\n",
    "                bond_dimension\n",
    "            )\n",
    "        \n",
    "            optmzr = qtn.optimize.TNOptimizer(\n",
    "                mpo,                                \n",
    "                loss_fn=overall_loss_function,\n",
    "                loss_kwargs={\n",
    "                    'rdm_tn': problem_rdm,\n",
    "                    'total_physical_dimension': total_physical_dim,\n",
    "                    'unitary_cost_coefficient': 1,\n",
    "                    'overlap_cost_coefficient': overlap_learning_rate\n",
    "                },\n",
    "                autodiff_backend='jax',\n",
    "                optimizer='cadam',\n",
    "            )\n",
    "\n",
    "            optmzr.optimize(\n",
    "                num_iterations,\n",
    "                learning_rate=alpha,\n",
    "                beta1=beta_1,\n",
    "                beta2=beta_2,\n",
    "                tol=score_target\n",
    "            )\n",
    "\n",
    "            final_score = jnp.min(np.array(optmzr.losses))\n",
    "\n",
    "            if (seed_number == num_seeds - 1) or (final_score < score_target):\n",
    "                new_seed_needed = False\n",
    "\n",
    "            seed_number += 1\n",
    "\n",
    "            file_name = rf'mpo_solutions/{k1}_{k2}_{seed_number}.pickle'\n",
    "            print('Saving: ' + file_name)\n",
    "\n",
    "            with open(file_name, 'wb') as file:\n",
    "                pickle.dump([final_score, optmzr.get_tn_opt()], file)"
   ]
  },
  {
   "cell_type": "markdown",
   "id": "13474456-ed99-4721-b02d-1fc214b97d8f",
   "metadata": {},
   "source": [
    "# Step through"
   ]
  },
  {
   "cell_type": "code",
   "execution_count": 71,
   "id": "199f9fc3-bec1-4bbe-af7e-39675b47f71c",
   "metadata": {},
   "outputs": [],
   "source": [
    "q1 = qtn.Dense1D(\n",
    "    psi_dict[0].to_ndarray(),\n",
    "    phys_dim=2\n",
    ")"
   ]
  },
  {
   "cell_type": "code",
   "execution_count": 72,
   "id": "fede222e-c898-4894-a5c7-2ec5d05d945d",
   "metadata": {},
   "outputs": [
    {
     "data": {
      "image/png": "[encoded data removed]",
      "text/plain": [
       "<Figure size 600x600 with 1 Axes>"
      ]
     },
     "metadata": {
      "needs_background": "light"
     },
     "output_type": "display_data"
    }
   ],
   "source": [
    "q1.draw()"
   ]
  },
  {
   "cell_type": "code",
   "execution_count": 73,
   "id": "067b3fb1-dd7e-49e3-a0bc-6597d163b24f",
   "metadata": {},
   "outputs": [],
   "source": [
    "bs = symmetry_actions[1]"
   ]
  },
  {
   "cell_type": "code",
   "execution_count": 74,
   "id": "37b2595d-9482-4f2f-a858-7e61c0f829fa",
   "metadata": {},
   "outputs": [],
   "source": [
    "symmetry_site_pairs = (\n",
    "    [(i, bs[0]) for i in range(left_most_symmetry_site, left_most_symmetry_site+num_symmetry_sites, 2)]\n",
    "    + [(i, bs[1]) for i in range(left_most_symmetry_site+1, left_most_symmetry_site+num_symmetry_sites+1, 2)]\n",
    ")"
   ]
  },
  {
   "cell_type": "code",
   "execution_count": 75,
   "id": "e2219064-ee65-4cac-aba2-4f44dbdf8c55",
   "metadata": {},
   "outputs": [
    {
     "ename": "AttributeError",
     "evalue": "'list' object has no attribute 'inds'",
     "output_type": "error",
     "traceback": [
      "\u001b[0;31m---------------------------------------------------------------------------\u001b[0m",
      "\u001b[0;31mAttributeError\u001b[0m                            Traceback (most recent call last)",
      "\u001b[0;32m/tmp/ipykernel_8509/2387449357.py\u001b[0m in \u001b[0;36m?\u001b[0;34m()\u001b[0m\n\u001b[0;32m----> 1\u001b[0;31m problem_rdm = generate_problem_rdm(\n\u001b[0m\u001b[1;32m      2\u001b[0m     \u001b[0mq1\u001b[0m\u001b[0;34m,\u001b[0m\u001b[0;34m\u001b[0m\u001b[0;34m\u001b[0m\u001b[0m\n\u001b[1;32m      3\u001b[0m     \u001b[0msymmetry_site_pairs\u001b[0m\u001b[0;34m,\u001b[0m\u001b[0;34m\u001b[0m\u001b[0;34m\u001b[0m\u001b[0m\n\u001b[1;32m      4\u001b[0m     \u001b[0mleft_most_symmetry_site\u001b[0m\u001b[0;34m,\u001b[0m\u001b[0;34m\u001b[0m\u001b[0;34m\u001b[0m\u001b[0m\n",
      "\u001b[0;32m/tmp/ipykernel_8509/493822524.py\u001b[0m in \u001b[0;36m?\u001b[0;34m(quimb_psi, symmetry_site_pairs, leftmost_symmetry_site, num_symmetry_sites, num_boundary_sites)\u001b[0m\n\u001b[1;32m     39\u001b[0m \u001b[0;34m\u001b[0m\u001b[0m\n\u001b[1;32m     40\u001b[0m     tnc = (\n\u001b[1;32m     41\u001b[0m         \u001b[0mtn\u001b[0m\u001b[0;34m\u001b[0m\u001b[0;34m\u001b[0m\u001b[0m\n\u001b[1;32m     42\u001b[0m         \u001b[0;34m.\u001b[0m\u001b[0mcontract\u001b[0m\u001b[0;34m(\u001b[0m\u001b[0mtags_to_contract\u001b[0m\u001b[0;34m[\u001b[0m\u001b[0;34m'left'\u001b[0m\u001b[0;34m]\u001b[0m\u001b[0;34m)\u001b[0m\u001b[0;34m\u001b[0m\u001b[0;34m\u001b[0m\u001b[0m\n\u001b[0;32m---> 43\u001b[0;31m         \u001b[0;34m.\u001b[0m\u001b[0mcontract\u001b[0m\u001b[0;34m(\u001b[0m\u001b[0mtags_to_contract\u001b[0m\u001b[0;34m[\u001b[0m\u001b[0;34m'middle'\u001b[0m\u001b[0;34m]\u001b[0m\u001b[0;34m)\u001b[0m\u001b[0;34m\u001b[0m\u001b[0;34m\u001b[0m\u001b[0m\n\u001b[0m\u001b[1;32m     44\u001b[0m         \u001b[0;34m.\u001b[0m\u001b[0mcontract\u001b[0m\u001b[0;34m(\u001b[0m\u001b[0mtags_to_contract\u001b[0m\u001b[0;34m[\u001b[0m\u001b[0;34m'right'\u001b[0m\u001b[0;34m]\u001b[0m\u001b[0;34m)\u001b[0m\u001b[0;34m\u001b[0m\u001b[0;34m\u001b[0m\u001b[0m\n\u001b[1;32m     45\u001b[0m     )\n\u001b[1;32m     46\u001b[0m \u001b[0;34m\u001b[0m\u001b[0m\n",
      "\u001b[0;32m~/Desktop/numerical_spt_classification/code/num_spt_venv_p11/lib/python3.11/site-packages/quimb/tensor/tensor_core.py\u001b[0m in \u001b[0;36m?\u001b[0;34m(self, output_inds, *others, **opts)\u001b[0m\n\u001b[1;32m   2460\u001b[0m     \u001b[0;34m@\u001b[0m\u001b[0mfunctools\u001b[0m\u001b[0;34m.\u001b[0m\u001b[0mwraps\u001b[0m\u001b[0;34m(\u001b[0m\u001b[0mtensor_contract\u001b[0m\u001b[0;34m)\u001b[0m\u001b[0;34m\u001b[0m\u001b[0;34m\u001b[0m\u001b[0m\n\u001b[1;32m   2461\u001b[0m     \u001b[0;32mdef\u001b[0m \u001b[0mcontract\u001b[0m\u001b[0;34m(\u001b[0m\u001b[0mself\u001b[0m\u001b[0;34m,\u001b[0m \u001b[0;34m*\u001b[0m\u001b[0mothers\u001b[0m\u001b[0;34m,\u001b[0m \u001b[0moutput_inds\u001b[0m\u001b[0;34m=\u001b[0m\u001b[0;32mNone\u001b[0m\u001b[0;34m,\u001b[0m \u001b[0;34m**\u001b[0m\u001b[0mopts\u001b[0m\u001b[0;34m)\u001b[0m\u001b[0;34m:\u001b[0m\u001b[0;34m\u001b[0m\u001b[0;34m\u001b[0m\u001b[0m\n\u001b[0;32m-> 2462\u001b[0;31m         \u001b[0;32mreturn\u001b[0m \u001b[0mtensor_contract\u001b[0m\u001b[0;34m(\u001b[0m\u001b[0mself\u001b[0m\u001b[0;34m,\u001b[0m \u001b[0;34m*\u001b[0m\u001b[0mothers\u001b[0m\u001b[0;34m,\u001b[0m \u001b[0moutput_inds\u001b[0m\u001b[0;34m=\u001b[0m\u001b[0moutput_inds\u001b[0m\u001b[0;34m,\u001b[0m \u001b[0;34m**\u001b[0m\u001b[0mopts\u001b[0m\u001b[0;34m)\u001b[0m\u001b[0;34m\u001b[0m\u001b[0;34m\u001b[0m\u001b[0m\n\u001b[0m",
      "\u001b[0;32m/usr/lib/python3.11/functools.py\u001b[0m in \u001b[0;36m?\u001b[0;34m(*args, **kw)\u001b[0m\n\u001b[1;32m    905\u001b[0m         \u001b[0;32mif\u001b[0m \u001b[0;32mnot\u001b[0m \u001b[0margs\u001b[0m\u001b[0;34m:\u001b[0m\u001b[0;34m\u001b[0m\u001b[0;34m\u001b[0m\u001b[0m\n\u001b[1;32m    906\u001b[0m             raise TypeError(f'{funcname} requires at least '\n\u001b[1;32m    907\u001b[0m                             '1 positional argument')\n\u001b[1;32m    908\u001b[0m \u001b[0;34m\u001b[0m\u001b[0m\n\u001b[0;32m--> 909\u001b[0;31m         \u001b[0;32mreturn\u001b[0m \u001b[0mdispatch\u001b[0m\u001b[0;34m(\u001b[0m\u001b[0margs\u001b[0m\u001b[0;34m[\u001b[0m\u001b[0;36m0\u001b[0m\u001b[0;34m]\u001b[0m\u001b[0;34m.\u001b[0m\u001b[0m__class__\u001b[0m\u001b[0;34m)\u001b[0m\u001b[0;34m(\u001b[0m\u001b[0;34m*\u001b[0m\u001b[0margs\u001b[0m\u001b[0;34m,\u001b[0m \u001b[0;34m**\u001b[0m\u001b[0mkw\u001b[0m\u001b[0;34m)\u001b[0m\u001b[0;34m\u001b[0m\u001b[0;34m\u001b[0m\u001b[0m\n\u001b[0m",
      "\u001b[0;32m~/Desktop/numerical_spt_classification/code/num_spt_venv_p11/lib/python3.11/site-packages/quimb/tensor/tensor_core.py\u001b[0m in \u001b[0;36m?\u001b[0;34m(output_inds, optimize, get, backend, preserve_tensor, drop_tags, strip_exponent, exponent, *tensors, **contract_opts)\u001b[0m\n\u001b[1;32m    285\u001b[0m     \u001b[0mReturns\u001b[0m\u001b[0;34m\u001b[0m\u001b[0;34m\u001b[0m\u001b[0m\n\u001b[1;32m    286\u001b[0m     \u001b[0;34m-\u001b[0m\u001b[0;34m-\u001b[0m\u001b[0;34m-\u001b[0m\u001b[0;34m-\u001b[0m\u001b[0;34m-\u001b[0m\u001b[0;34m-\u001b[0m\u001b[0;34m-\u001b[0m\u001b[0;34m\u001b[0m\u001b[0;34m\u001b[0m\u001b[0m\n\u001b[1;32m    287\u001b[0m     \u001b[0mscalar\u001b[0m \u001b[0;32mor\u001b[0m \u001b[0mTensor\u001b[0m\u001b[0;34m\u001b[0m\u001b[0;34m\u001b[0m\u001b[0m\n\u001b[1;32m    288\u001b[0m     \"\"\"\n\u001b[0;32m--> 289\u001b[0;31m     \u001b[0minds\u001b[0m\u001b[0;34m,\u001b[0m \u001b[0mshapes\u001b[0m\u001b[0;34m,\u001b[0m \u001b[0marrays\u001b[0m \u001b[0;34m=\u001b[0m \u001b[0mzip\u001b[0m\u001b[0;34m(\u001b[0m\u001b[0;34m*\u001b[0m\u001b[0;34m(\u001b[0m\u001b[0;34m(\u001b[0m\u001b[0mt\u001b[0m\u001b[0;34m.\u001b[0m\u001b[0minds\u001b[0m\u001b[0;34m,\u001b[0m \u001b[0mt\u001b[0m\u001b[0;34m.\u001b[0m\u001b[0mshape\u001b[0m\u001b[0;34m,\u001b[0m \u001b[0mt\u001b[0m\u001b[0;34m.\u001b[0m\u001b[0mdata\u001b[0m\u001b[0;34m)\u001b[0m \u001b[0;32mfor\u001b[0m \u001b[0mt\u001b[0m \u001b[0;32min\u001b[0m \u001b[0mtensors\u001b[0m\u001b[0;34m)\u001b[0m\u001b[0;34m)\u001b[0m\u001b[0;34m\u001b[0m\u001b[0;34m\u001b[0m\u001b[0m\n\u001b[0m\u001b[1;32m    290\u001b[0m \u001b[0;34m\u001b[0m\u001b[0m\n\u001b[1;32m    291\u001b[0m     \u001b[0;32mif\u001b[0m \u001b[0moutput_inds\u001b[0m \u001b[0;32mis\u001b[0m \u001b[0;32mNone\u001b[0m\u001b[0;34m:\u001b[0m\u001b[0;34m\u001b[0m\u001b[0;34m\u001b[0m\u001b[0m\n\u001b[1;32m    292\u001b[0m         \u001b[0;31m# sort output indices by input order for efficiency and consistency\u001b[0m\u001b[0;34m\u001b[0m\u001b[0;34m\u001b[0m\u001b[0m\n",
      "\u001b[0;32m~/Desktop/numerical_spt_classification/code/num_spt_venv_p11/lib/python3.11/site-packages/quimb/tensor/tensor_core.py\u001b[0m in \u001b[0;36m?\u001b[0;34m(.0)\u001b[0m\n\u001b[0;32m--> 289\u001b[0;31m def tensor_contract(\n\u001b[0m\u001b[1;32m    290\u001b[0m     \u001b[0;34m*\u001b[0m\u001b[0mtensors\u001b[0m\u001b[0;34m:\u001b[0m \u001b[0;34m\"Tensor\"\u001b[0m\u001b[0;34m,\u001b[0m\u001b[0;34m\u001b[0m\u001b[0;34m\u001b[0m\u001b[0m\n\u001b[1;32m    291\u001b[0m     \u001b[0moutput_inds\u001b[0m\u001b[0;34m=\u001b[0m\u001b[0;32mNone\u001b[0m\u001b[0;34m,\u001b[0m\u001b[0;34m\u001b[0m\u001b[0;34m\u001b[0m\u001b[0m\n\u001b[1;32m    292\u001b[0m     \u001b[0moptimize\u001b[0m\u001b[0;34m=\u001b[0m\u001b[0;32mNone\u001b[0m\u001b[0;34m,\u001b[0m\u001b[0;34m\u001b[0m\u001b[0;34m\u001b[0m\u001b[0m\n",
      "\u001b[0;31mAttributeError\u001b[0m: 'list' object has no attribute 'inds'"
     ]
    }
   ],
   "source": [
    "problem_rdm = generate_problem_rdm(\n",
    "    q1,\n",
    "    symmetry_site_pairs,\n",
    "    left_most_symmetry_site,\n",
    "    num_symmetry_sites,\n",
    "    num_boundary_sites\n",
    ")"
   ]
  },
  {
   "cell_type": "code",
   "execution_count": 76,
   "id": "d932b164-0fc2-4173-856d-82b97a5c22e1",
   "metadata": {},
   "outputs": [],
   "source": [
    "leftmost_symmetry_site = left_most_symmetry_site"
   ]
  },
  {
   "cell_type": "code",
   "execution_count": 77,
   "id": "13510e46-79d9-47f2-ba96-4e84bf89f5a8",
   "metadata": {},
   "outputs": [],
   "source": [
    "quimb_psi = q1"
   ]
  },
  {
   "cell_type": "code",
   "execution_count": 78,
   "id": "80adc855-e545-4578-af74-1371a7722b53",
   "metadata": {},
   "outputs": [],
   "source": [
    "q_top = quimb_psi.copy(deep=True)\n",
    "for i, s in symmetry_site_pairs:\n",
    "    q_top.gate(\n",
    "        s,\n",
    "        where=i,\n",
    "        contract=False,\n",
    "        inplace=True\n",
    "    )\n",
    "\n",
    "\n",
    "indices_to_map = list(chain(\n",
    "    range(leftmost_symmetry_site-num_boundary_sites, leftmost_symmetry_site),\n",
    "    range(leftmost_symmetry_site+num_symmetry_sites, leftmost_symmetry_site+num_symmetry_sites+num_boundary_sites)\n",
    "))\n",
    "\n",
    "index_mapping = {f'k{i}': f'b{i}' for i in indices_to_map}\n",
    "\n",
    "q_bottom = (\n",
    "    quimb_psi\n",
    "    .copy()\n",
    "    .reindex(index_mapping, inplace=True)\n",
    "    .conj()\n",
    ")\n",
    "\n",
    "sites_to_contract = {\n",
    "    'left': list(range(leftmost_symmetry_site-num_boundary_sites)),\n",
    "    'middle': list(range(leftmost_symmetry_site, leftmost_symmetry_site+num_symmetry_sites)),\n",
    "    'right': list(range(leftmost_symmetry_site+num_symmetry_sites+num_boundary_sites, quimb_psi.L))\n",
    "}\n",
    "\n",
    "tags_to_contract = {\n",
    "    k: [f'I{i}' for i in v]\n",
    "    for k, v in sites_to_contract.items()\n",
    "}\n",
    "\n",
    "tn = (q_top & q_bottom)"
   ]
  },
  {
   "cell_type": "code",
   "execution_count": 79,
   "id": "7a387069-6b5c-4597-a2de-5cd7694fd257",
   "metadata": {},
   "outputs": [
    {
     "data": {
      "image/png": "[encoded data removed]",
      "text/plain": [
       "<Figure size 600x600 with 1 Axes>"
      ]
     },
     "metadata": {
      "needs_background": "light"
     },
     "output_type": "display_data"
    }
   ],
   "source": [
    "tn.draw()"
   ]
  },
  {
   "cell_type": "code",
   "execution_count": 83,
   "id": "f5f691f0-1d1c-4e83-9e7b-41d0735b1e9c",
   "metadata": {},
   "outputs": [
    {
     "data": {
      "image/png": "[encoded data removed]",
      "text/plain": [
       "<Figure size 600x600 with 1 Axes>"
      ]
     },
     "metadata": {
      "needs_background": "light"
     },
     "output_type": "display_data"
    }
   ],
   "source": [
    "tn.contract().draw()"
   ]
  },
  {
   "cell_type": "code",
   "execution_count": 80,
   "id": "bf7b65bf-d8bd-4451-9cd3-89d59556f612",
   "metadata": {},
   "outputs": [],
   "source": [
    "tnc1 = tn.contract(tags_to_contract['left'])"
   ]
  },
  {
   "cell_type": "code",
   "execution_count": 82,
   "id": "d2a1413f-fc76-4e82-b177-0246e6ac143b",
   "metadata": {},
   "outputs": [
    {
     "data": {
      "image/png": "[encoded data removed]",
      "text/plain": [
       "<Figure size 600x600 with 1 Axes>"
      ]
     },
     "metadata": {
      "needs_background": "light"
     },
     "output_type": "display_data"
    }
   ],
   "source": [
    "tnc1.draw()"
   ]
  },
  {
   "cell_type": "code",
   "execution_count": 81,
   "id": "c61ef400-ca7e-4059-8a59-7be8a5a90429",
   "metadata": {},
   "outputs": [
    {
     "data": {
      "text/plain": [
       "{'left': [0], 'middle': [5, 6, 7, 8], 'right': [13]}"
      ]
     },
     "execution_count": 81,
     "metadata": {},
     "output_type": "execute_result"
    }
   ],
   "source": [
    "sites_to_contract"
   ]
  },
  {
   "cell_type": "code",
   "execution_count": null,
   "id": "a1a1e945-7dd8-49c9-967e-3cbc673bcffc",
   "metadata": {},
   "outputs": [],
   "source": [
    "tnc1.draw()"
   ]
  }
 ],
 "metadata": {
  "kernelspec": {
   "display_name": "num_spt_venv_p11",
   "language": "python",
   "name": "num_spt_venv_p11"
  },
  "language_info": {
   "codemirror_mode": {
    "name": "ipython",
    "version": 3
   },
   "file_extension": ".py",
   "mimetype": "text/x-python",
   "name": "python",
   "nbconvert_exporter": "python",
   "pygments_lexer": "ipython3",
   "version": "3.11.13"
  }
 },
 "nbformat": 4,
 "nbformat_minor": 5
}
