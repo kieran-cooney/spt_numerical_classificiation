{
 "cells": [
  {
   "cell_type": "markdown",
   "id": "6a2dac7f-2bbc-4993-8a37-4dc5bd7c4f33",
   "metadata": {},
   "source": [
    "# Full unitary solution - extract spt phases\n",
    "Created 07/07/2024\n",
    "\n",
    "Objectives:\n",
    "* Extract spt phases from solved boundary operators."
   ]
  },
  {
   "cell_type": "markdown",
   "id": "725eaa22-d2a4-40d8-9a97-ad5bd49becb7",
   "metadata": {},
   "source": [
    "# Package imports"
   ]
  },
  {
   "cell_type": "code",
   "execution_count": 1,
   "id": "ecb41ea3-927f-4efa-aebe-ce15784aa037",
   "metadata": {},
   "outputs": [],
   "source": [
    "import sys"
   ]
  },
  {
   "cell_type": "code",
   "execution_count": 2,
   "id": "0375bd38-12e1-417a-908a-13fb540081f5",
   "metadata": {},
   "outputs": [],
   "source": [
    "sys.path.append(\"../../\")"
   ]
  },
  {
   "cell_type": "code",
   "execution_count": 3,
   "id": "88e49e61-5068-49cb-95d9-caf78b7ba941",
   "metadata": {},
   "outputs": [],
   "source": [
    "import tqdm"
   ]
  },
  {
   "cell_type": "code",
   "execution_count": 4,
   "id": "0cf49837-01b6-431a-b570-d7ed25903239",
   "metadata": {},
   "outputs": [],
   "source": [
    "from itertools import chain, combinations\n",
    "from collections import defaultdict\n",
    "import re"
   ]
  },
  {
   "cell_type": "code",
   "execution_count": 5,
   "id": "f59344b7-d34e-47e4-99be-f5a2687f8176",
   "metadata": {},
   "outputs": [],
   "source": [
    "import h5py\n",
    "from tenpy.tools import hdf5_io\n",
    "import tenpy\n",
    "import tenpy.linalg.np_conserved as npc\n",
    "\n",
    "import os\n",
    "import pickle"
   ]
  },
  {
   "cell_type": "code",
   "execution_count": 6,
   "id": "19404619-d778-4cc3-8ee1-1db6f14b2043",
   "metadata": {},
   "outputs": [],
   "source": [
    "import numpy as np\n",
    "import jax.numpy as jnp\n",
    "\n",
    "import pandas as pd\n",
    "\n",
    "import matplotlib.pyplot as plt\n",
    "import matplotlib\n",
    "\n",
    "from matplotlib.ticker import AutoMinorLocator, MultipleLocator"
   ]
  },
  {
   "cell_type": "code",
   "execution_count": 7,
   "id": "92eeb066-5463-4237-ad07-3c5a0d934f4f",
   "metadata": {},
   "outputs": [
    {
     "name": "stderr",
     "output_type": "stream",
     "text": [
      "/Users/kierancooney/.pyenv/versions/num_spt_venv_p11/lib/python3.11/site-packages/cotengra/hyperoptimizers/hyper.py:54: UserWarning: Couldn't find `optuna`, `cmaes`, or `nevergrad` so will use completely random sampling in place of hyper-optimization.\n",
      "  warnings.warn(\n",
      "/Users/kierancooney/.pyenv/versions/num_spt_venv_p11/lib/python3.11/site-packages/cotengra/hyperoptimizers/hyper.py:36: UserWarning: Couldn't import `kahypar` - skipping from default hyper optimizer and using basic `labels` method instead.\n",
      "  warnings.warn(\n",
      "/Users/kierancooney/.pyenv/versions/num_spt_venv_p11/lib/python3.11/site-packages/cotengra/hyperoptimizers/hyper.py:73: UserWarning: Couldn't find `optuna`, `cmaes`, or `nevergrad` so will use completely random sampling in place of hyper-optimization.\n",
      "  warnings.warn(\n"
     ]
    }
   ],
   "source": [
    "import quimb as qu\n",
    "import quimb.tensor as qtn"
   ]
  },
  {
   "cell_type": "markdown",
   "id": "feced7d5-2bbc-40f8-801b-82e055c095e3",
   "metadata": {},
   "source": [
    "# Load data"
   ]
  },
  {
   "cell_type": "code",
   "execution_count": 8,
   "id": "fd344ec9-f7cf-495e-8bce-c98182930256",
   "metadata": {},
   "outputs": [],
   "source": [
    "DATA_DIR = r\"../data/transverse_cluster_14_site_ed\""
   ]
  },
  {
   "cell_type": "code",
   "execution_count": 9,
   "id": "531afcbb-7eef-419a-9ece-994388f1d474",
   "metadata": {},
   "outputs": [],
   "source": [
    "loaded_data = list()\n",
    "\n",
    "for local_file_name in os.listdir(DATA_DIR):\n",
    "    f_name = r\"{}/{}\".format(DATA_DIR, local_file_name, ignore_unknown=False)\n",
    "    with h5py.File(f_name, 'r') as f:\n",
    "        data = hdf5_io.load_from_hdf5(f)\n",
    "        loaded_data.append(data)"
   ]
  },
  {
   "cell_type": "code",
   "execution_count": 10,
   "id": "ecbcb7a8-0b48-4f53-828f-929773df06e8",
   "metadata": {},
   "outputs": [],
   "source": [
    "b_parameters = sorted(list(d['paramters']['B'] for d in loaded_data))"
   ]
  },
  {
   "cell_type": "code",
   "execution_count": 11,
   "id": "023173a6-8300-47b6-86f3-3c3995a0bda8",
   "metadata": {},
   "outputs": [],
   "source": [
    "psi_dict = dict()"
   ]
  },
  {
   "cell_type": "code",
   "execution_count": 12,
   "id": "6c823fe5-6e75-4e0e-919c-4bae2c0745ad",
   "metadata": {},
   "outputs": [],
   "source": [
    "for b in b_parameters:\n",
    "    tenpy_psi = next(\n",
    "        d['wavefunction']\n",
    "        for d in loaded_data\n",
    "        if d['paramters']['B'] == b\n",
    "    )\n",
    "    #psi = split_full_state_legs(psi)\n",
    "\n",
    "    quimb_psi = qtn.Dense1D(\n",
    "        tenpy_psi.to_ndarray(),\n",
    "        phys_dim=2\n",
    "    )\n",
    "    \n",
    "    rounded_b = round(b, 1)\n",
    "    psi_dict[rounded_b] = quimb_psi"
   ]
  },
  {
   "cell_type": "markdown",
   "id": "92def783-a903-4553-8550-c17595b1f3b9",
   "metadata": {},
   "source": [
    "## Load boundary operators"
   ]
  },
  {
   "cell_type": "code",
   "execution_count": 13,
   "id": "9c1fa1ff-72ad-44b3-b915-2a38bf4e3835",
   "metadata": {},
   "outputs": [],
   "source": [
    "SOL_DIR = r\"svd_solutions/\""
   ]
  },
  {
   "cell_type": "code",
   "execution_count": 14,
   "id": "750e68de-da35-4a52-86f7-7e6f7f1aeae4",
   "metadata": {},
   "outputs": [],
   "source": [
    "file_name_pattern = re.compile(r'^\\d\\.\\d_\\d\\.pickle$')"
   ]
  },
  {
   "cell_type": "code",
   "execution_count": 15,
   "id": "0b50b6b7-d1ac-46a1-9a87-00597d4d8745",
   "metadata": {},
   "outputs": [],
   "source": [
    "def parse_file_name(file_name):\n",
    "    if not bool(file_name_pattern.match(file_name)):\n",
    "        return None\n",
    "\n",
    "    file_name = '.'.join((file_name.split('.'))[:-1])\n",
    "\n",
    "    b, sym_index= file_name.split('_')\n",
    "\n",
    "    b = float(b)\n",
    "    sym_index = int(sym_index)\n",
    "    \n",
    "    return (b, sym_index)"
   ]
  },
  {
   "cell_type": "code",
   "execution_count": 16,
   "id": "e2133785-82cd-4d0c-b223-d76daa4bbcdb",
   "metadata": {},
   "outputs": [],
   "source": [
    "boundary_operator_solutions = dict()\n",
    "\n",
    "for local_file_name in list(os.walk(SOL_DIR))[0][2]:\n",
    "    f_name = r\"{}/{}\".format(SOL_DIR, local_file_name, ignore_unknown=False)\n",
    "\n",
    "    key = parse_file_name(local_file_name)\n",
    "\n",
    "    if key is not None:\n",
    "        with open(f_name, 'rb') as f:\n",
    "            out = pickle.load(f)\n",
    "    \n",
    "            boundary_operator_solutions[key] = out"
   ]
  },
  {
   "cell_type": "code",
   "execution_count": 17,
   "id": "a7ad33ac-0687-4885-a40e-6fce5fa32a2a",
   "metadata": {},
   "outputs": [
    {
     "data": {
      "text/plain": [
       "((Tensor(shape=(16, 16), inds=('b_left', 'k_left'), tags=oset([])),\n",
       "  Tensor(shape=(16, 16), inds=('b_right', 'k_right'), tags=oset([]))),\n",
       " [0.8618978245660459,\n",
       "  1.0000000000000016,\n",
       "  1.000000000000002,\n",
       "  1.0000000000000016,\n",
       "  1.0000000000000013,\n",
       "  1.0000000000000016,\n",
       "  1.000000000000002,\n",
       "  1.0000000000000018,\n",
       "  1.0000000000000016,\n",
       "  1.0000000000000016,\n",
       "  1.000000000000002,\n",
       "  1.000000000000002,\n",
       "  1.0000000000000022,\n",
       "  1.0000000000000018,\n",
       "  1.000000000000002,\n",
       "  1.0000000000000018,\n",
       "  1.0000000000000016,\n",
       "  1.0000000000000018,\n",
       "  1.0000000000000018,\n",
       "  1.0000000000000016])"
      ]
     },
     "execution_count": 17,
     "metadata": {},
     "output_type": "execute_result"
    }
   ],
   "source": [
    "boundary_operator_solutions[(0.0, 1)]"
   ]
  },
  {
   "cell_type": "markdown",
   "id": "1e9ecb8c-2307-49c2-be28-8a8f0cc594ac",
   "metadata": {},
   "source": [
    "### Check values"
   ]
  },
  {
   "cell_type": "code",
   "execution_count": 18,
   "id": "953b3bbd-464a-48ca-8ea7-8c57f163d6f6",
   "metadata": {},
   "outputs": [],
   "source": [
    "scores = {k: v[-1][-1] for k, v in boundary_operator_solutions.items()}"
   ]
  },
  {
   "cell_type": "code",
   "execution_count": 19,
   "id": "de52e63f-0d03-4ad3-a5fb-0110634b0ebb",
   "metadata": {},
   "outputs": [
    {
     "data": {
      "text/plain": [
       "count    63.000000\n",
       "mean      0.935849\n",
       "std       0.090923\n",
       "min       0.575380\n",
       "25%       0.915870\n",
       "50%       0.980338\n",
       "75%       0.993304\n",
       "max       1.000000\n",
       "dtype: float64"
      ]
     },
     "execution_count": 19,
     "metadata": {},
     "output_type": "execute_result"
    }
   ],
   "source": [
    "pd.Series(scores.values()).describe()"
   ]
  },
  {
   "cell_type": "markdown",
   "id": "c63383d4-bbde-443a-92a9-97b613c0d54b",
   "metadata": {},
   "source": [
    "# Definitions"
   ]
  },
  {
   "cell_type": "code",
   "execution_count": 20,
   "id": "6e3a806a-6e88-4073-8cb4-a46345cdb810",
   "metadata": {},
   "outputs": [],
   "source": [
    "np_I = np.array([[1,0],[0,1]])\n",
    "np_X = np.array([[0,1],[1,0]])"
   ]
  },
  {
   "cell_type": "code",
   "execution_count": 21,
   "id": "ddc01bac-517f-4922-9df0-28b400f70a3e",
   "metadata": {},
   "outputs": [],
   "source": [
    "symmetry_actions = [\n",
    "    [np_I, np_I],\n",
    "    [np_I, np_X],\n",
    "    [np_X, np_I],\n",
    "    [np_X, np_X]\n",
    "]"
   ]
  },
  {
   "cell_type": "code",
   "execution_count": 22,
   "id": "10721838-5776-4da8-9618-01dd30494f13",
   "metadata": {},
   "outputs": [],
   "source": [
    "symmetry_labels = [\n",
    "    'II',\n",
    "    'IX',\n",
    "    'XI',\n",
    "    'XX'\n",
    "]"
   ]
  },
  {
   "cell_type": "code",
   "execution_count": 23,
   "id": "608e2be7-7003-4d86-8bdc-bb7519c6c30c",
   "metadata": {},
   "outputs": [],
   "source": [
    "def generate_problem_rdm(quimb_psi, symmetry_site_pairs, leftmost_symmetry_site,\n",
    "                         num_symmetry_sites, num_boundary_sites):\n",
    "    q_top = quimb_psi.copy(deep=True)\n",
    "    for i, s in symmetry_site_pairs:\n",
    "        q_top.gate(\n",
    "            s,\n",
    "            where=i,\n",
    "            contract=False,\n",
    "            inplace=True\n",
    "        )\n",
    "\n",
    "    left_boundary_sites = list(range(\n",
    "        leftmost_symmetry_site-num_boundary_sites,\n",
    "        leftmost_symmetry_site\n",
    "    ))\n",
    "\n",
    "    right_boundary_sites = list(range(\n",
    "        leftmost_symmetry_site+num_symmetry_sites,\n",
    "        leftmost_symmetry_site+num_symmetry_sites+num_boundary_sites\n",
    "    ))\n",
    "    \n",
    "    indices_to_map = list(chain(left_boundary_sites, right_boundary_sites))\n",
    "\n",
    "    index_mapping = {f'k{i}': f'b{i}' for i in indices_to_map}\n",
    "\n",
    "    q_bottom = (\n",
    "        quimb_psi\n",
    "        .copy()\n",
    "        .reindex(index_mapping, inplace=True)\n",
    "        .conj()\n",
    "    )\n",
    "\n",
    "    sites_to_contract = {\n",
    "        'left': list(range(leftmost_symmetry_site-num_boundary_sites)),\n",
    "        'middle': list(range(leftmost_symmetry_site, leftmost_symmetry_site+num_symmetry_sites)),\n",
    "        'right': list(range(leftmost_symmetry_site+num_symmetry_sites+num_boundary_sites, quimb_psi.L))\n",
    "    }\n",
    "\n",
    "    tags_to_contract = {\n",
    "        k: [f'I{i}' for i in v]\n",
    "        for k, v in sites_to_contract.items()\n",
    "    }\n",
    "\n",
    "    tn = (q_top & q_bottom)\n",
    "\n",
    "    \"\"\"\n",
    "    tnc = (\n",
    "        tn\n",
    "        .contract(tags_to_contract['left'])\n",
    "        .contract(tags_to_contract['middle'])\n",
    "        .contract(tags_to_contract['right'])\n",
    "    )\n",
    "    \"\"\"\n",
    "\n",
    "    tnc = tn.contract()\n",
    "\n",
    "    fuse_maps = [\n",
    "        ('k_left', (f'k{i}' for i in left_boundary_sites)),\n",
    "        ('b_left', (f'b{i}' for i in left_boundary_sites)),\n",
    "        ('k_right', (f'k{i}' for i in right_boundary_sites)),\n",
    "        ('b_right', (f'b{i}' for i in right_boundary_sites))\n",
    "    ]\n",
    "\n",
    "    tnc.fuse(fuse_maps, inplace=True)\n",
    "\n",
    "    return tnc"
   ]
  },
  {
   "cell_type": "markdown",
   "id": "89502f65-7a6f-4804-8c05-4773c352db1d",
   "metadata": {},
   "source": [
    "## SPT extraction functions"
   ]
  },
  {
   "cell_type": "code",
   "execution_count": 24,
   "id": "d1cd215b-c62c-405e-9adc-9a97db7142e2",
   "metadata": {},
   "outputs": [],
   "source": [
    "symmetry_combination_labels = list(combinations(symmetry_labels, 2))"
   ]
  },
  {
   "cell_type": "code",
   "execution_count": 25,
   "id": "45a081ff-eb82-4ff5-9700-55f11824f366",
   "metadata": {},
   "outputs": [
    {
     "data": {
      "text/plain": [
       "[('II', 'IX'),\n",
       " ('II', 'XI'),\n",
       " ('II', 'XX'),\n",
       " ('IX', 'XI'),\n",
       " ('IX', 'XX'),\n",
       " ('XI', 'XX')]"
      ]
     },
     "execution_count": 25,
     "metadata": {},
     "output_type": "execute_result"
    }
   ],
   "source": [
    "symmetry_combination_labels"
   ]
  },
  {
   "cell_type": "code",
   "execution_count": 26,
   "id": "aab20cf0-ae51-4603-9192-5ba0741b6a6d",
   "metadata": {},
   "outputs": [],
   "source": [
    "e, a, b, c = symmetry_labels"
   ]
  },
  {
   "cell_type": "code",
   "execution_count": 27,
   "id": "955bfb99-9c73-4794-b14e-f62f7872abe5",
   "metadata": {},
   "outputs": [],
   "source": [
    "group_products = [\n",
    "    (a, b, c),\n",
    "    (b, a, c),\n",
    "    (a, c, b),\n",
    "    (c, a, b),\n",
    "    (c, b, a),\n",
    "    (b, c, a)\n",
    "]"
   ]
  },
  {
   "cell_type": "code",
   "execution_count": 28,
   "id": "ecfb632a-e83b-48c2-b9d2-8f83cae57fd1",
   "metadata": {},
   "outputs": [],
   "source": [
    "def relabel_mpo(mpo, k_label, b_label):\n",
    "    site_locs = [\n",
    "        int(k[1:]) for k in mpo.tag_map\n",
    "        if bool(re.search(regex_p, k))\n",
    "    ]\n",
    "\n",
    "    k_in_indices = [f'k{i}' for i in site_locs]\n",
    "    j_in_indices = [f'b{i}' for i in site_locs]\n",
    "\n",
    "    k_out_indices = [f'{k_label}{i}' for i in site_locs]\n",
    "    j_out_indices = [f'{b_label}{i}' for i in site_locs]\n",
    "\n",
    "    mapping = dict(\n",
    "        chain(\n",
    "            zip(k_in_indices, k_out_indices),\n",
    "            zip(j_in_indices, j_out_indices)\n",
    "        )\n",
    "    )\n",
    "\n",
    "    mpo.reindex(mapping, inplace=True)"
   ]
  },
  {
   "cell_type": "code",
   "execution_count": 29,
   "id": "1a8fd0f0-aac0-418e-b8b2-76140077d53d",
   "metadata": {},
   "outputs": [],
   "source": [
    "def get_proj_rep_phase(rho, u_g, u_h, u_gh):\n",
    "    m = (u_gh.conj().T) @ u_h @ u_g @ rho\n",
    "    exp = np.trace(m)\n",
    "\n",
    "    out = exp/np.abs(exp)\n",
    "\n",
    "    return out"
   ]
  },
  {
   "cell_type": "code",
   "execution_count": 30,
   "id": "a2293eed-c032-4604-bc28-66e2331cd8b3",
   "metadata": {},
   "outputs": [],
   "source": [
    "def get_proj_rep_phases(rho, unitaries):\n",
    "    out = list()\n",
    "\n",
    "    unitaries_dict = {\n",
    "        k: v for k, v in zip(symmetry_labels[1:], unitaries)\n",
    "    }\n",
    "\n",
    "    out_phases = list()\n",
    "    for a, b, c in group_products:\n",
    "        phase = get_proj_rep_phase(\n",
    "            rho,\n",
    "            unitaries_dict[a],\n",
    "            unitaries_dict[b],\n",
    "            unitaries_dict[c]\n",
    "        )\n",
    "\n",
    "        out_phases.append(phase)\n",
    "\n",
    "    return out_phases"
   ]
  },
  {
   "cell_type": "markdown",
   "id": "fee5bd9c-66b2-4bad-95c9-2c6cae8de1c7",
   "metadata": {},
   "source": [
    "# Extract spt phases"
   ]
  },
  {
   "cell_type": "code",
   "execution_count": 31,
   "id": "05943c27-e1cf-4589-a89f-12780725736a",
   "metadata": {},
   "outputs": [],
   "source": [
    "b_params = np.round(np.linspace(0, 2, 21), 3)"
   ]
  },
  {
   "cell_type": "code",
   "execution_count": 32,
   "id": "21b6bcc3-7d7a-43de-9a16-c0626bb1c025",
   "metadata": {},
   "outputs": [],
   "source": [
    "num_boundary_sites=4\n",
    "left_most_symmetry_site=5\n",
    "leftmost_symmetry_site=left_most_symmetry_site\n",
    "num_symmetry_sites=4"
   ]
  },
  {
   "cell_type": "code",
   "execution_count": 33,
   "id": "8a3eb870-ce52-47a6-a266-5e01e02f8f59",
   "metadata": {},
   "outputs": [],
   "source": [
    "proj_rep_phases = list()\n",
    "\n",
    "for t in b_params:\n",
    "    psi = psi_dict[t]\n",
    "\n",
    "    rdm = generate_problem_rdm(\n",
    "        psi,\n",
    "        [],\n",
    "        leftmost_symmetry_site,\n",
    "        num_symmetry_sites,\n",
    "        num_boundary_sites\n",
    "    )\n",
    "\n",
    "    left_rdm = (\n",
    "        rdm\n",
    "        .trace('b_right', 'k_right')\n",
    "        .transpose('k_left', 'b_left')\n",
    "        .data\n",
    "    )\n",
    "    right_rdm = (\n",
    "        rdm\n",
    "        .trace('b_left', 'k_left')\n",
    "        .transpose('k_right', 'b_right')\n",
    "        .data\n",
    "    )\n",
    "\n",
    "    unitary_pairs = [boundary_operator_solutions[(t, i)][0] for i in [1,2,3]]\n",
    "    left_unitaries, right_unitaries = zip(*unitary_pairs)\n",
    "\n",
    "    left_unitaries = [\n",
    "        lu.transpose('b_left', 'k_left').data\n",
    "        for lu in left_unitaries\n",
    "    ]\n",
    "\n",
    "    right_unitaries = [\n",
    "        ru.transpose('b_right', 'k_right').data\n",
    "        for ru in right_unitaries\n",
    "    ]\n",
    "    left_phases = get_proj_rep_phases(left_rdm, left_unitaries)\n",
    "    right_phases = get_proj_rep_phases(right_rdm, right_unitaries)\n",
    "\n",
    "    proj_rep_phases.append([left_phases, right_phases])"
   ]
  },
  {
   "cell_type": "code",
   "execution_count": 34,
   "id": "fd57ff16-2aa4-45e5-b988-322691674a76",
   "metadata": {},
   "outputs": [],
   "source": [
    "proj_rep_phases = np.array(proj_rep_phases)"
   ]
  },
  {
   "cell_type": "code",
   "execution_count": 35,
   "id": "2a9d8acd-e78e-4baa-b1c3-6e5bf5dbad51",
   "metadata": {},
   "outputs": [
    {
     "data": {
      "text/plain": [
       "(21, 2, 6)"
      ]
     },
     "execution_count": 35,
     "metadata": {},
     "output_type": "execute_result"
    }
   ],
   "source": [
    "proj_rep_phases.shape"
   ]
  },
  {
   "cell_type": "code",
   "execution_count": 36,
   "id": "a505756e-66fe-4e72-b9f1-a75815fb604f",
   "metadata": {},
   "outputs": [
    {
     "data": {
      "text/plain": [
       "array([0. , 0.1, 0.2, 0.3, 0.4, 0.5, 0.6, 0.7, 0.8, 0.9, 1. , 1.1, 1.2,\n",
       "       1.3, 1.4, 1.5, 1.6, 1.7, 1.8, 1.9, 2. ])"
      ]
     },
     "execution_count": 36,
     "metadata": {},
     "output_type": "execute_result"
    }
   ],
   "source": [
    "b_params"
   ]
  },
  {
   "cell_type": "code",
   "execution_count": 37,
   "id": "aca352cb-5ffd-45a4-9db0-9d856ba37946",
   "metadata": {},
   "outputs": [
    {
     "data": {
      "text/plain": [
       "21"
      ]
     },
     "execution_count": 37,
     "metadata": {},
     "output_type": "execute_result"
    }
   ],
   "source": [
    "len(b_params)"
   ]
  },
  {
   "cell_type": "code",
   "execution_count": 38,
   "id": "b570d275-0a7d-4c29-b90d-5db7fe82be43",
   "metadata": {},
   "outputs": [
    {
     "data": {
      "text/plain": [
       "array([[[-1.-0.j, -1.+0.j, -1.-0.j],\n",
       "        [-1.+0.j, -1.+0.j, -1.+0.j]],\n",
       "\n",
       "       [[-1.+0.j, -1.+0.j, -1.+0.j],\n",
       "        [-1.+0.j, -1.-0.j, -1.+0.j]],\n",
       "\n",
       "       [[-1.+0.j, -1.+0.j, -1.+0.j],\n",
       "        [-1.+0.j, -1.-0.j, -1.-0.j]],\n",
       "\n",
       "       [[-1.-0.j, -1.-0.j, -1.-0.j],\n",
       "        [-1.-0.j, -1.-0.j, -1.+0.j]],\n",
       "\n",
       "       [[-1.-0.j, -1.-0.j, -1.+0.j],\n",
       "        [-1.+0.j, -1.+0.j, -1.-0.j]],\n",
       "\n",
       "       [[-1.+0.j, -1.+0.j, -1.-0.j],\n",
       "        [-1.+0.j, -1.-0.j, -1.-0.j]],\n",
       "\n",
       "       [[-1.+0.j, -1.-0.j, -1.+0.j],\n",
       "        [-1.-0.j, -1.+0.j, -1.+0.j]],\n",
       "\n",
       "       [[-1.-0.j, -1.-0.j, -1.-0.j],\n",
       "        [-1.+0.j, -1.+0.j, -1.+0.j]],\n",
       "\n",
       "       [[ 1.-0.j,  1.-0.j,  1.-0.j],\n",
       "        [ 1.+0.j,  1.+0.j,  1.-0.j]],\n",
       "\n",
       "       [[ 1.+0.j,  1.+0.j,  1.+0.j],\n",
       "        [ 1.+0.j,  1.+0.j,  1.-0.j]],\n",
       "\n",
       "       [[ 1.+0.j,  1.+0.j,  1.+0.j],\n",
       "        [ 1.+0.j,  1.+0.j,  1.-0.j]],\n",
       "\n",
       "       [[ 1.-0.j,  1.-0.j,  1.-0.j],\n",
       "        [ 1.+0.j,  1.+0.j,  1.-0.j]],\n",
       "\n",
       "       [[ 1.+0.j,  1.+0.j,  1.+0.j],\n",
       "        [ 1.+0.j,  1.-0.j,  1.+0.j]],\n",
       "\n",
       "       [[ 1.-0.j,  1.+0.j,  1.-0.j],\n",
       "        [ 1.-0.j,  1.-0.j,  1.-0.j]],\n",
       "\n",
       "       [[ 1.-0.j,  1.-0.j,  1.+0.j],\n",
       "        [ 1.+0.j,  1.+0.j,  1.+0.j]],\n",
       "\n",
       "       [[ 1.-0.j,  1.+0.j,  1.-0.j],\n",
       "        [ 1.+0.j,  1.+0.j,  1.+0.j]],\n",
       "\n",
       "       [[ 1.-0.j,  1.+0.j,  1.-0.j],\n",
       "        [ 1.-0.j,  1.-0.j,  1.-0.j]],\n",
       "\n",
       "       [[ 1.+0.j,  1.-0.j,  1.-0.j],\n",
       "        [ 1.+0.j,  1.+0.j,  1.-0.j]],\n",
       "\n",
       "       [[ 1.-0.j,  1.-0.j,  1.+0.j],\n",
       "        [ 1.+0.j,  1.+0.j,  1.+0.j]],\n",
       "\n",
       "       [[ 1.+0.j,  1.+0.j,  1.+0.j],\n",
       "        [ 1.+0.j,  1.+0.j,  1.-0.j]],\n",
       "\n",
       "       [[ 1.+0.j,  1.+0.j,  1.-0.j],\n",
       "        [ 1.-0.j,  1.+0.j,  1.+0.j]]])"
      ]
     },
     "execution_count": 38,
     "metadata": {},
     "output_type": "execute_result"
    }
   ],
   "source": [
    "np.round(\n",
    "    proj_rep_phases[..., ::2]/proj_rep_phases[..., 1::2],\n",
    "    2\n",
    ")"
   ]
  },
  {
   "cell_type": "code",
   "execution_count": 39,
   "id": "eab6d72f-b056-414f-b3ab-3a39d21281bb",
   "metadata": {},
   "outputs": [],
   "source": [
    "gauge_invariant_proj_rep_phase = proj_rep_phases[..., ::2]/proj_rep_phases[..., 1::2]"
   ]
  },
  {
   "cell_type": "code",
   "execution_count": 40,
   "id": "4747c1b3-e5d5-4461-a6b3-84f5304a7ead",
   "metadata": {},
   "outputs": [
    {
     "data": {
      "text/plain": [
       "array([[[-1.-0.j, -1.+0.j, -1.-0.j],\n",
       "        [-1.+0.j, -1.+0.j, -1.+0.j]],\n",
       "\n",
       "       [[-1.+0.j, -1.+0.j, -1.+0.j],\n",
       "        [-1.+0.j, -1.-0.j, -1.+0.j]],\n",
       "\n",
       "       [[-1.+0.j, -1.+0.j, -1.+0.j],\n",
       "        [-1.+0.j, -1.-0.j, -1.-0.j]],\n",
       "\n",
       "       [[-1.-0.j, -1.-0.j, -1.-0.j],\n",
       "        [-1.-0.j, -1.-0.j, -1.+0.j]],\n",
       "\n",
       "       [[-1.-0.j, -1.-0.j, -1.+0.j],\n",
       "        [-1.+0.j, -1.+0.j, -1.-0.j]],\n",
       "\n",
       "       [[-1.+0.j, -1.+0.j, -1.-0.j],\n",
       "        [-1.+0.j, -1.-0.j, -1.-0.j]],\n",
       "\n",
       "       [[-1.+0.j, -1.-0.j, -1.+0.j],\n",
       "        [-1.-0.j, -1.+0.j, -1.+0.j]],\n",
       "\n",
       "       [[-1.-0.j, -1.-0.j, -1.-0.j],\n",
       "        [-1.+0.j, -1.+0.j, -1.+0.j]]])"
      ]
     },
     "execution_count": 40,
     "metadata": {},
     "output_type": "execute_result"
    }
   ],
   "source": [
    "np.round(gauge_invariant_proj_rep_phase[:8], 2)"
   ]
  },
  {
   "cell_type": "code",
   "execution_count": 41,
   "id": "7ddaec11-38f5-40cb-bebc-49c5a17fd84a",
   "metadata": {},
   "outputs": [
    {
     "data": {
      "text/plain": [
       "array([[[1.-0.j, 1.-0.j, 1.-0.j],\n",
       "        [1.+0.j, 1.+0.j, 1.-0.j]],\n",
       "\n",
       "       [[1.+0.j, 1.+0.j, 1.+0.j],\n",
       "        [1.+0.j, 1.+0.j, 1.-0.j]],\n",
       "\n",
       "       [[1.+0.j, 1.+0.j, 1.+0.j],\n",
       "        [1.+0.j, 1.+0.j, 1.-0.j]],\n",
       "\n",
       "       [[1.-0.j, 1.-0.j, 1.-0.j],\n",
       "        [1.+0.j, 1.+0.j, 1.-0.j]],\n",
       "\n",
       "       [[1.+0.j, 1.+0.j, 1.+0.j],\n",
       "        [1.+0.j, 1.-0.j, 1.+0.j]],\n",
       "\n",
       "       [[1.-0.j, 1.+0.j, 1.-0.j],\n",
       "        [1.-0.j, 1.-0.j, 1.-0.j]],\n",
       "\n",
       "       [[1.-0.j, 1.-0.j, 1.+0.j],\n",
       "        [1.+0.j, 1.+0.j, 1.+0.j]],\n",
       "\n",
       "       [[1.-0.j, 1.+0.j, 1.-0.j],\n",
       "        [1.+0.j, 1.+0.j, 1.+0.j]],\n",
       "\n",
       "       [[1.-0.j, 1.+0.j, 1.-0.j],\n",
       "        [1.-0.j, 1.-0.j, 1.-0.j]],\n",
       "\n",
       "       [[1.+0.j, 1.-0.j, 1.-0.j],\n",
       "        [1.+0.j, 1.+0.j, 1.-0.j]],\n",
       "\n",
       "       [[1.-0.j, 1.-0.j, 1.+0.j],\n",
       "        [1.+0.j, 1.+0.j, 1.+0.j]],\n",
       "\n",
       "       [[1.+0.j, 1.+0.j, 1.+0.j],\n",
       "        [1.+0.j, 1.+0.j, 1.-0.j]],\n",
       "\n",
       "       [[1.+0.j, 1.+0.j, 1.-0.j],\n",
       "        [1.-0.j, 1.+0.j, 1.+0.j]]])"
      ]
     },
     "execution_count": 41,
     "metadata": {},
     "output_type": "execute_result"
    }
   ],
   "source": [
    "np.round(gauge_invariant_proj_rep_phase[8:], 2)"
   ]
  },
  {
   "cell_type": "code",
   "execution_count": 42,
   "id": "e3220a0d-cd8f-406d-abd5-34325f153f1b",
   "metadata": {},
   "outputs": [],
   "source": [
    "delta_gauge_invariant_proj_rep_phase = gauge_invariant_proj_rep_phase.copy()\n",
    "delta_gauge_invariant_proj_rep_phase[:8]*=-1"
   ]
  },
  {
   "cell_type": "code",
   "execution_count": 43,
   "id": "524288bd-7646-4858-8188-1e8189fc7091",
   "metadata": {},
   "outputs": [],
   "source": [
    "delta_gauge_invariant_proj_rep_angle = np.imag(np.log(delta_gauge_invariant_proj_rep_phase))"
   ]
  },
  {
   "cell_type": "code",
   "execution_count": 44,
   "id": "9538d135-3d74-484f-8bc2-99eee0bc5ca3",
   "metadata": {},
   "outputs": [
    {
     "data": {
      "text/plain": [
       "(21, 2, 3)"
      ]
     },
     "execution_count": 44,
     "metadata": {},
     "output_type": "execute_result"
    }
   ],
   "source": [
    "delta_gauge_invariant_proj_rep_angle.shape"
   ]
  },
  {
   "cell_type": "code",
   "execution_count": 45,
   "id": "ac37af32-5e58-4bb4-a25d-d31fbf69db38",
   "metadata": {},
   "outputs": [],
   "source": [
    "markers = ['<', '>']"
   ]
  },
  {
   "cell_type": "code",
   "execution_count": 46,
   "id": "9fe50ec7-2fd4-438d-9065-780d09fde9f0",
   "metadata": {},
   "outputs": [],
   "source": [
    "colors = [\n",
    "    'tab:blue',\n",
    "    'tab:orange',\n",
    "    'tab:green'\n",
    "]   "
   ]
  },
  {
   "cell_type": "code",
   "execution_count": 47,
   "id": "279624b9-c293-4020-8b0f-bff0167f77a8",
   "metadata": {},
   "outputs": [],
   "source": [
    "e, a, b, c = symmetry_labels"
   ]
  },
  {
   "cell_type": "code",
   "execution_count": 48,
   "id": "d1e764db-d3cd-4216-9d5e-c5ddad7893f3",
   "metadata": {},
   "outputs": [],
   "source": [
    "symmetry_pair_labels = [\n",
    "    a + ',' + b,\n",
    "    a + ',' + c,\n",
    "    c + ',' + b\n",
    "]"
   ]
  },
  {
   "cell_type": "code",
   "execution_count": 49,
   "id": "715be721-dd85-4327-8b7f-7420cababb49",
   "metadata": {},
   "outputs": [],
   "source": [
    "side_labels = ['Left', 'Right']"
   ]
  },
  {
   "cell_type": "code",
   "execution_count": 50,
   "id": "e11cbe4a-00b8-4732-8c5b-6d567dbaa591",
   "metadata": {},
   "outputs": [
    {
     "data": {
      "image/png": "[encoded data removed]",
      "text/plain": [
       "<Figure size 600x400 with 1 Axes>"
      ]
     },
     "metadata": {},
     "output_type": "display_data"
    }
   ],
   "source": [
    "fig, ax = plt.subplots(figsize=(6, 4))\n",
    "\n",
    "for i, (marker, side_label) in enumerate(zip(markers, side_labels)):\n",
    "    for j, (col, label) in enumerate(zip(colors, symmetry_pair_labels)):\n",
    "        plt.scatter(\n",
    "            b_params,\n",
    "            delta_gauge_invariant_proj_rep_angle[:, i, j],\n",
    "            marker=marker,\n",
    "            color=col,\n",
    "            label = f'({label}), {side_label}'\n",
    "        )\n",
    "\n",
    "ax.xaxis.set_major_locator(\n",
    "    matplotlib.ticker.MultipleLocator(0.2)\n",
    ")\n",
    "\n",
    "ax.grid()\n",
    "\n",
    "ax.set_ylabel(r'$\\Delta \\Omega$', fontsize=13)\n",
    "ax.set_xlabel('$B$', fontsize=13)\n",
    "\n",
    "ax.legend(bbox_to_anchor=(1.02, 1.05), title='$(g,h)$, Side')\n",
    "\n",
    "fig.suptitle(r'$\\Delta \\Omega(g,h)$ as a function of $B$')\n",
    "\n",
    "fig.savefig(r'plots/ed_delta_proj_rep_angle_from_svd_bosonic.png', dpi=200)"
   ]
  },
  {
   "cell_type": "code",
   "execution_count": 51,
   "id": "9e71c156-8a4a-4304-afd5-49c59cf2f44e",
   "metadata": {},
   "outputs": [
    {
     "data": {
      "text/plain": [
       "array([[ 5.47763924e-05,  5.32954988e-05,  4.84454950e-05],\n",
       "       [-8.12111059e-05, -7.94218492e-05, -7.21546350e-05]])"
      ]
     },
     "execution_count": 51,
     "metadata": {},
     "output_type": "execute_result"
    }
   ],
   "source": [
    "delta_gauge_invariant_proj_rep_angle[7]"
   ]
  },
  {
   "cell_type": "code",
   "execution_count": 52,
   "id": "6fb6c294-3cb0-4456-89e7-84ba32b1c27d",
   "metadata": {},
   "outputs": [
    {
     "data": {
      "text/plain": [
       "1.5932102544468887e-15"
      ]
     },
     "execution_count": 52,
     "metadata": {},
     "output_type": "execute_result"
    }
   ],
   "source": [
    "np.max(np.abs(np.delete(delta_gauge_invariant_proj_rep_angle, 7, axis=0)))"
   ]
  },
  {
   "cell_type": "code",
   "execution_count": 53,
   "id": "81d3ce7e-937d-4524-8cd6-a00681458253",
   "metadata": {},
   "outputs": [],
   "source": [
    "scores = list()\n",
    "for t in b_params:\n",
    "\n",
    "    scores.append([boundary_operator_solutions[(t, i)][1][-1] for i in [1,2,3]])\n",
    "\n",
    "scores = np.array(scores)"
   ]
  },
  {
   "cell_type": "code",
   "execution_count": 54,
   "id": "0ec1cc68-ae34-4a27-b624-7ce592022f06",
   "metadata": {},
   "outputs": [
    {
     "data": {
      "text/plain": [
       "(21, 3)"
      ]
     },
     "execution_count": 54,
     "metadata": {},
     "output_type": "execute_result"
    }
   ],
   "source": [
    "scores.shape"
   ]
  },
  {
   "cell_type": "code",
   "execution_count": 55,
   "id": "e674071d-3677-4a5b-8a03-06aab53e31e6",
   "metadata": {},
   "outputs": [
    {
     "data": {
      "image/png": "[encoded data removed]",
      "text/plain": [
       "<Figure size 600x400 with 1 Axes>"
      ]
     },
     "metadata": {},
     "output_type": "display_data"
    }
   ],
   "source": [
    "fig, ax = plt.subplots(figsize=(6,4))\n",
    "\n",
    "for j, (col, label) in enumerate(zip(colors, symmetry_labels[1:])):\n",
    "    plt.scatter(\n",
    "        b_params,\n",
    "        scores[:, j],\n",
    "        color=col,\n",
    "        label = label\n",
    "    )\n",
    "\n",
    "ax.xaxis.set_major_locator(\n",
    "    matplotlib.ticker.MultipleLocator(0.2)\n",
    ")\n",
    "\n",
    "#ax.set_yscale('log')\n",
    "\n",
    "ax.grid()\n",
    "ax.grid(\n",
    "    which='minor',\n",
    "    axis='y',\n",
    "    linestyle='--',\n",
    "    zorder=-1e10\n",
    ")\n",
    "ax.set_axisbelow(True)\n",
    "\n",
    "ax.set_ylabel(r'$\\vert c\\vert$', fontsize=13)\n",
    "ax.set_xlabel('$B$', fontsize=13)\n",
    "\n",
    "ax.legend(loc='lower right', title='Applied symmetry')\n",
    "\n",
    "fig.suptitle(r'Final overlap $\\vert c \\vert$ with symmetry $g$ as a function of $B$')\n",
    "\n",
    "fig.savefig(r'plots/ed_cost_function_from_svd_bosonic.png', dpi=200)"
   ]
  },
  {
   "cell_type": "markdown",
   "id": "98571172-fab7-4cd0-a399-26e2c88194d9",
   "metadata": {},
   "source": [
    "# Final plot"
   ]
  },
  {
   "cell_type": "code",
   "execution_count": 56,
   "id": "9cbb0763-8bcf-43df-9b02-b951df8f7637",
   "metadata": {},
   "outputs": [],
   "source": [
    "gauge_invariant_proj_rep_angle = np.imag(np.log(gauge_invariant_proj_rep_phase))\n",
    "gauge_invariant_proj_rep_angle[gauge_invariant_proj_rep_angle<=-np.pi/2] += 2*np.pi"
   ]
  },
  {
   "cell_type": "code",
   "execution_count": 57,
   "id": "31a871f6-543c-4757-8b75-a2ecc2349b0e",
   "metadata": {},
   "outputs": [],
   "source": [
    "mean_gauge_invariant_proj_rep_angle = np.mean(gauge_invariant_proj_rep_angle, axis=(1,2))\n",
    "max_gauge_invariant_proj_rep_angle = np.max(gauge_invariant_proj_rep_angle, axis=(1,2))\n",
    "min_gauge_invariant_proj_rep_angle = np.min(gauge_invariant_proj_rep_angle, axis=(1,2))\n",
    "\n",
    "min_max_gauge_invariant_proj_rep_angle = np.stack(\n",
    "    [\n",
    "        min_gauge_invariant_proj_rep_angle,\n",
    "        max_gauge_invariant_proj_rep_angle\n",
    "    ],\n",
    "    axis=0\n",
    ")\n",
    "\n",
    "error_gauge_invariant_proj_rep_angle = (\n",
    "    min_max_gauge_invariant_proj_rep_angle\n",
    "    - mean_gauge_invariant_proj_rep_angle[np.newaxis, :]\n",
    ")\n",
    "error_gauge_invariant_proj_rep_angle = np.abs(error_gauge_invariant_proj_rep_angle)"
   ]
  },
  {
   "cell_type": "code",
   "execution_count": 58,
   "id": "2f422182-5666-4f79-b7c9-61c7731503c6",
   "metadata": {},
   "outputs": [
    {
     "data": {
      "text/plain": [
       "6.84994052999599e-05"
      ]
     },
     "execution_count": 58,
     "metadata": {},
     "output_type": "execute_result"
    }
   ],
   "source": [
    "np.max(error_gauge_invariant_proj_rep_angle)"
   ]
  },
  {
   "cell_type": "code",
   "execution_count": 59,
   "id": "64058b07-06e2-4e0d-a7a6-72dc622d0f5f",
   "metadata": {},
   "outputs": [
    {
     "data": {
      "image/png": "[encoded data removed]",
      "text/plain": [
       "<Figure size 1200x400 with 2 Axes>"
      ]
     },
     "metadata": {},
     "output_type": "display_data"
    }
   ],
   "source": [
    "fig, [ax1, ax2] = plt.subplots(figsize=(12, 4), ncols=2)\n",
    "\n",
    "for i in range(1, 4):\n",
    "    ax1.plot(\n",
    "        b_params,\n",
    "        scores[:, i-1],\n",
    "        label=symmetry_labels[i],\n",
    "        marker='D'\n",
    "    )\n",
    "\n",
    "ax1.set_ylabel(r'$\\vert c \\vert$', fontsize=13)\n",
    "ax1.legend(title='Applied symmetry')\n",
    "ax1.set_ylim(-0.1, 1.1)\n",
    "ax1.yaxis.set_major_locator(MultipleLocator(0.2))\n",
    "ax1.yaxis.set_minor_locator(MultipleLocator(0.1))\n",
    "\n",
    "\n",
    "ax2.plot(\n",
    "    b_params,\n",
    "    mean_gauge_invariant_proj_rep_angle,\n",
    "    color='tab:blue',\n",
    "    marker='D'\n",
    ")\n",
    "\n",
    "ax2.set_yticks(\n",
    "    np.linspace(0, np.pi, 3),\n",
    "    labels=['$0$', '$\\pi/2$', '$\\pi$']\n",
    ")\n",
    "\n",
    "ax2.set_yticks(\n",
    "    [np.pi/6, np.pi/3, 2*np.pi/3, 5*np.pi/6],\n",
    "    minor=True\n",
    ")\n",
    "\n",
    "ax2.set_ylabel(r'$\\theta$', fontsize=12)\n",
    "\n",
    "for ax in [ax1, ax2]:\n",
    "    ax.grid()\n",
    "    ax.xaxis.set_major_locator(MultipleLocator(0.2))\n",
    "    ax.xaxis.set_minor_locator(MultipleLocator(0.1))\n",
    "\n",
    "    ax.set_xlabel('$B$', fontsize=13)\n",
    "\n",
    "    ax.tick_params(\n",
    "        axis='both',\n",
    "        which='major',\n",
    "        labelsize=11\n",
    "    )\n",
    "\n",
    "    ax.grid(\n",
    "        which='minor',\n",
    "        linestyle='--',\n",
    "    )\n",
    "\n",
    "fig.savefig(\n",
    "    r'plots/unitary_circuit_bosonic_ed_results.png',\n",
    "    bbox_inches='tight',\n",
    "    dpi=200\n",
    ")"
   ]
  },
  {
   "cell_type": "code",
   "execution_count": 70,
   "id": "fac9f409-c100-405c-bd76-ca26bcf73d36",
   "metadata": {},
   "outputs": [],
   "source": [
    "with open(r'../make_plots/data/bosonic_results/ed_circuit_b_params.pkl', 'wb') as f:\n",
    "    pickle.dump(b_params, f)\n",
    "\n",
    "with open(r'../make_plots/data/bosonic_results/ed_circuit_mean_gauge_invariant_proj_rep_angle.pkl', 'wb') as f:\n",
    "    pickle.dump(mean_gauge_invariant_proj_rep_angle, f)\n",
    "\n",
    "with open(r'../make_plots/data/bosonic_results/ed_circuit_overlaps.pkl', 'wb') as f:\n",
    "    pickle.dump(scores, f)"
   ]
  },
  {
   "cell_type": "code",
   "execution_count": null,
   "id": "646ad33d-1b4a-4c74-8519-8111380d2517",
   "metadata": {},
   "outputs": [],
   "source": []
  }
 ],
 "metadata": {
  "kernelspec": {
   "display_name": "num_spt_venv_p11",
   "language": "python",
   "name": "num_spt_venv_p11"
  },
  "language_info": {
   "codemirror_mode": {
    "name": "ipython",
    "version": 3
   },
   "file_extension": ".py",
   "mimetype": "text/x-python",
   "name": "python",
   "nbconvert_exporter": "python",
   "pygments_lexer": "ipython3",
   "version": "3.11.9"
  }
 },
 "nbformat": 4,
 "nbformat_minor": 5
}
