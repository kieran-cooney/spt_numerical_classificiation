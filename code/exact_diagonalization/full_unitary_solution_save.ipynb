{
 "cells": [
  {
   "cell_type": "markdown",
   "id": "6a2dac7f-2bbc-4993-8a37-4dc5bd7c4f33",
   "metadata": {},
   "source": [
    "# Full unitary solution - save\n",
    "Created 07/07/2024\n",
    "\n",
    "Objectives:\n",
    "* Use a \"unitary circuit\" appraoch to solve for boundary operators on ED states. Because of the small number of sites available, and for ease, we shall just solve for a single 4 site unitary on both sides."
   ]
  },
  {
   "cell_type": "markdown",
   "id": "725eaa22-d2a4-40d8-9a97-ad5bd49becb7",
   "metadata": {},
   "source": [
    "# Package imports"
   ]
  },
  {
   "cell_type": "code",
   "execution_count": 1,
   "id": "ecb41ea3-927f-4efa-aebe-ce15784aa037",
   "metadata": {},
   "outputs": [],
   "source": [
    "import sys"
   ]
  },
  {
   "cell_type": "code",
   "execution_count": 2,
   "id": "0375bd38-12e1-417a-908a-13fb540081f5",
   "metadata": {},
   "outputs": [],
   "source": [
    "sys.path.append(\"../../\")"
   ]
  },
  {
   "cell_type": "code",
   "execution_count": 77,
   "id": "88e49e61-5068-49cb-95d9-caf78b7ba941",
   "metadata": {},
   "outputs": [],
   "source": [
    "import tqdm"
   ]
  },
  {
   "cell_type": "code",
   "execution_count": 3,
   "id": "0cf49837-01b6-431a-b570-d7ed25903239",
   "metadata": {},
   "outputs": [],
   "source": [
    "from itertools import chain, combinations\n",
    "from collections import defaultdict\n",
    "import re"
   ]
  },
  {
   "cell_type": "code",
   "execution_count": 4,
   "id": "f59344b7-d34e-47e4-99be-f5a2687f8176",
   "metadata": {},
   "outputs": [],
   "source": [
    "import h5py\n",
    "from tenpy.tools import hdf5_io\n",
    "import tenpy\n",
    "import tenpy.linalg.np_conserved as npc\n",
    "\n",
    "import os\n",
    "import pickle"
   ]
  },
  {
   "cell_type": "code",
   "execution_count": 5,
   "id": "19404619-d778-4cc3-8ee1-1db6f14b2043",
   "metadata": {},
   "outputs": [],
   "source": [
    "import numpy as np\n",
    "import jax.numpy as jnp\n",
    "\n",
    "import pandas as pd\n",
    "\n",
    "import matplotlib.pyplot as plt\n",
    "import matplotlib"
   ]
  },
  {
   "cell_type": "code",
   "execution_count": 21,
   "id": "92eeb066-5463-4237-ad07-3c5a0d934f4f",
   "metadata": {},
   "outputs": [
    {
     "name": "stderr",
     "output_type": "stream",
     "text": [
      "/Users/kierancooney/.pyenv/versions/num_spt_venv_p11/lib/python3.11/site-packages/cotengra/hyperoptimizers/hyper.py:54: UserWarning: Couldn't find `optuna`, `cmaes`, or `nevergrad` so will use completely random sampling in place of hyper-optimization.\n",
      "  warnings.warn(\n",
      "/Users/kierancooney/.pyenv/versions/num_spt_venv_p11/lib/python3.11/site-packages/cotengra/hyperoptimizers/hyper.py:36: UserWarning: Couldn't import `kahypar` - skipping from default hyper optimizer and using basic `labels` method instead.\n",
      "  warnings.warn(\n",
      "/Users/kierancooney/.pyenv/versions/num_spt_venv_p11/lib/python3.11/site-packages/cotengra/hyperoptimizers/hyper.py:73: UserWarning: Couldn't find `optuna`, `cmaes`, or `nevergrad` so will use completely random sampling in place of hyper-optimization.\n",
      "  warnings.warn(\n"
     ]
    }
   ],
   "source": [
    "import quimb as qu\n",
    "import quimb.tensor as qtn"
   ]
  },
  {
   "cell_type": "markdown",
   "id": "71c44d61-9279-4312-9ba8-6f07fe68bf65",
   "metadata": {},
   "source": [
    "# Load data"
   ]
  },
  {
   "cell_type": "code",
   "execution_count": 6,
   "id": "0a959f4f-197f-4c89-b83c-a19cc4d23594",
   "metadata": {},
   "outputs": [],
   "source": [
    "DATA_DIR = r\"../data/transverse_cluster_14_site_ed\""
   ]
  },
  {
   "cell_type": "code",
   "execution_count": 7,
   "id": "63d58876-7136-4dbf-ac40-e60220f99e7b",
   "metadata": {},
   "outputs": [],
   "source": [
    "def split_full_state_legs(full_state_psi):\n",
    "    dim = full_state_psi.shape\n",
    "\n",
    "    num_legs = int(np.log2(dim[0]))\n",
    "    new_labels = [f'p{i}' for i in range(num_legs)]\n",
    "\n",
    "    full_state_psi.iset_leg_labels(['(' + '.'.join(new_labels) + ')'])\n",
    "    full_state_psi = full_state_psi.split_legs([0])\n",
    "    return full_state_psi"
   ]
  },
  {
   "cell_type": "code",
   "execution_count": 8,
   "id": "53275f0e-9b77-44b7-8563-30428e19dbe7",
   "metadata": {},
   "outputs": [],
   "source": [
    "loaded_data = list()\n",
    "\n",
    "for local_file_name in os.listdir(DATA_DIR):\n",
    "    f_name = r\"{}/{}\".format(DATA_DIR, local_file_name, ignore_unknown=False)\n",
    "    with h5py.File(f_name, 'r') as f:\n",
    "        data = hdf5_io.load_from_hdf5(f)\n",
    "        loaded_data.append(data)"
   ]
  },
  {
   "cell_type": "code",
   "execution_count": 9,
   "id": "2e42bb49-d786-40a5-8d00-7ae14149ad8e",
   "metadata": {},
   "outputs": [],
   "source": [
    "b_parameters = sorted(list(d['paramters']['B'] for d in loaded_data))"
   ]
  },
  {
   "cell_type": "code",
   "execution_count": 10,
   "id": "934a96a7-93d6-442f-b976-839c6bf11167",
   "metadata": {},
   "outputs": [],
   "source": [
    "psi_dict = dict()"
   ]
  },
  {
   "cell_type": "code",
   "execution_count": 24,
   "id": "6c823fe5-6e75-4e0e-919c-4bae2c0745ad",
   "metadata": {},
   "outputs": [],
   "source": [
    "for b in b_parameters:\n",
    "    tenpy_psi = next(\n",
    "        d['wavefunction']\n",
    "        for d in loaded_data\n",
    "        if d['paramters']['B'] == b\n",
    "    )\n",
    "    #psi = split_full_state_legs(psi)\n",
    "\n",
    "    quimb_psi = qtn.Dense1D(\n",
    "        tenpy_psi.to_ndarray(),\n",
    "        phys_dim=2\n",
    "    )\n",
    "    \n",
    "    rounded_b = round(b, 1)\n",
    "    psi_dict[rounded_b] = quimb_psi"
   ]
  },
  {
   "cell_type": "code",
   "execution_count": 25,
   "id": "f98e71e0-fd1a-4a01-b36b-28037e8f4893",
   "metadata": {},
   "outputs": [
    {
     "data": {
      "text/html": [
       "<samp style='font-size: 12px;'><details><summary><b style=\"color: #2fd233;\">Dense1D</b>(tensors=1, indices=14, L=14, max_bond=None)</summary><samp style='font-size: 12px;'><details><summary><b style=\"color: #e55471;\">Tensor</b>(shape=(<b style=\"color: #828fdd;\">2</b>, <b style=\"color: #828fdd;\">2</b>, <b style=\"color: #828fdd;\">2</b>, <b style=\"color: #828fdd;\">2</b>, <b style=\"color: #828fdd;\">2</b>, <b style=\"color: #828fdd;\">2</b>, <b style=\"color: #828fdd;\">2</b>, <b style=\"color: #828fdd;\">2</b>, <b style=\"color: #828fdd;\">2</b>, <b style=\"color: #828fdd;\">2</b>, <b style=\"color: #828fdd;\">2</b>, <b style=\"color: #828fdd;\">2</b>, <b style=\"color: #828fdd;\">2</b>, <b style=\"color: #828fdd;\">2</b>), inds=[<b style=\"color: #b1dc61;\">k0</b>, <b style=\"color: #8aa5db;\">k1</b>, <b style=\"color: #df546d;\">k2</b>, <b style=\"color: #4c7be1;\">k3</b>, <b style=\"color: #462edc;\">k4</b>, <b style=\"color: #85dfdf;\">k5</b>, <b style=\"color: #2cb7d3;\">k6</b>, <b style=\"color: #53e08f;\">k7</b>, <b style=\"color: #7bcd9f;\">k8</b>, <b style=\"color: #cc70c1;\">k9</b>, <b style=\"color: #3fcf58;\">k10</b>, <b style=\"color: #6d6fcf;\">k11</b>, <b style=\"color: #70c0d6;\">k12</b>, <b style=\"color: #67b9df;\">k13</b>], tags={<b style=\"color: #d2b137;\">I0</b>, <b style=\"color: #d19b78;\">I1</b>, <b style=\"color: #dd5dd7;\">I2</b>, <b style=\"color: #dd65d9;\">I3</b>, <b style=\"color: #998ad1;\">I4</b>, <b style=\"color: #97dddc;\">I5</b>, <b style=\"color: #b2de5f;\">I6</b>, <b style=\"color: #5582d6;\">I7</b>, <b style=\"color: #8a3dd8;\">I8</b>, <b style=\"color: #d74979;\">I9</b>, <b style=\"color: #4e2bd3;\">I10</b>, <b style=\"color: #cc3988;\">I11</b>, <b style=\"color: #30a0d2;\">I12</b>, <b style=\"color: #59aad4;\">I13</b>}),</summary>backend=<b style=\"color: #7fdd73;\">numpy</b>, dtype=<b style=\"color: #75d2c6;\">float64</b>, data=...</details></samp></details></samp>"
      ],
      "text/plain": [
       "Dense1D(tensors=1, indices=14, L=14, max_bond=None)"
      ]
     },
     "execution_count": 25,
     "metadata": {},
     "output_type": "execute_result"
    }
   ],
   "source": [
    "psi_dict[0]"
   ]
  },
  {
   "cell_type": "markdown",
   "id": "c63383d4-bbde-443a-92a9-97b613c0d54b",
   "metadata": {},
   "source": [
    "# Definitions"
   ]
  },
  {
   "cell_type": "code",
   "execution_count": 16,
   "id": "6e3a806a-6e88-4073-8cb4-a46345cdb810",
   "metadata": {},
   "outputs": [],
   "source": [
    "np_I = np.array([[1,0],[0,1]])\n",
    "np_X = np.array([[0,1],[1,0]])"
   ]
  },
  {
   "cell_type": "code",
   "execution_count": 17,
   "id": "ddc01bac-517f-4922-9df0-28b400f70a3e",
   "metadata": {},
   "outputs": [],
   "source": [
    "symmetry_actions = [\n",
    "    [np_I, np_I],\n",
    "    [np_I, np_X],\n",
    "    [np_X, np_I],\n",
    "    [np_X, np_X]\n",
    "]"
   ]
  },
  {
   "cell_type": "code",
   "execution_count": 18,
   "id": "10721838-5776-4da8-9618-01dd30494f13",
   "metadata": {},
   "outputs": [],
   "source": [
    "symmetry_labels = [\n",
    "    'II',\n",
    "    'IX',\n",
    "    'XI',\n",
    "    'XX'\n",
    "]"
   ]
  },
  {
   "cell_type": "code",
   "execution_count": 38,
   "id": "608e2be7-7003-4d86-8bdc-bb7519c6c30c",
   "metadata": {},
   "outputs": [],
   "source": [
    "def generate_problem_rdm(quimb_psi, symmetry_site_pairs, leftmost_symmetry_site,\n",
    "                         num_symmetry_sites, num_boundary_sites):\n",
    "    q_top = quimb_psi.copy(deep=True)\n",
    "    for i, s in symmetry_site_pairs:\n",
    "        q_top.gate(\n",
    "            s,\n",
    "            where=i,\n",
    "            contract=False,\n",
    "            inplace=True\n",
    "        )\n",
    "\n",
    "    left_boundary_sites = list(range(\n",
    "        leftmost_symmetry_site-num_boundary_sites,\n",
    "        leftmost_symmetry_site\n",
    "    ))\n",
    "\n",
    "    right_boundary_sites = list(range(\n",
    "        leftmost_symmetry_site+num_symmetry_sites,\n",
    "        leftmost_symmetry_site+num_symmetry_sites+num_boundary_sites\n",
    "    ))\n",
    "    \n",
    "    indices_to_map = list(chain(left_boundary_sites, right_boundary_sites))\n",
    "\n",
    "    index_mapping = {f'k{i}': f'b{i}' for i in indices_to_map}\n",
    "\n",
    "    q_bottom = (\n",
    "        quimb_psi\n",
    "        .copy()\n",
    "        .reindex(index_mapping, inplace=True)\n",
    "        .conj()\n",
    "    )\n",
    "\n",
    "    sites_to_contract = {\n",
    "        'left': list(range(leftmost_symmetry_site-num_boundary_sites)),\n",
    "        'middle': list(range(leftmost_symmetry_site, leftmost_symmetry_site+num_symmetry_sites)),\n",
    "        'right': list(range(leftmost_symmetry_site+num_symmetry_sites+num_boundary_sites, quimb_psi.L))\n",
    "    }\n",
    "\n",
    "    tags_to_contract = {\n",
    "        k: [f'I{i}' for i in v]\n",
    "        for k, v in sites_to_contract.items()\n",
    "    }\n",
    "\n",
    "    tn = (q_top & q_bottom)\n",
    "\n",
    "    \"\"\"\n",
    "    tnc = (\n",
    "        tn\n",
    "        .contract(tags_to_contract['left'])\n",
    "        .contract(tags_to_contract['middle'])\n",
    "        .contract(tags_to_contract['right'])\n",
    "    )\n",
    "    \"\"\"\n",
    "\n",
    "    tnc = tn.contract()\n",
    "\n",
    "    fuse_maps = [\n",
    "        ('k_left', (f'k{i}' for i in left_boundary_sites)),\n",
    "        ('b_left', (f'b{i}' for i in left_boundary_sites)),\n",
    "        ('k_right', (f'k{i}' for i in right_boundary_sites)),\n",
    "        ('b_right', (f'b{i}' for i in right_boundary_sites))\n",
    "    ]\n",
    "\n",
    "    tnc.fuse(fuse_maps, inplace=True)\n",
    "\n",
    "    return tnc"
   ]
  },
  {
   "cell_type": "markdown",
   "id": "56525c31-f37b-4245-b2ec-82185feed908",
   "metadata": {},
   "source": [
    "## Optimisation functions"
   ]
  },
  {
   "cell_type": "code",
   "execution_count": 66,
   "id": "765f58d7-9172-4d39-ae75-2c99ef422e16",
   "metadata": {},
   "outputs": [],
   "source": [
    "def solve_for_boundary_operators(rdm, num_iters=20):\n",
    "    scores = list()\n",
    "\n",
    "    u_left = qtn.tensor_builder.rand_tensor(\n",
    "        (16, 16),\n",
    "        inds=['k_left', 'b_left'],\n",
    "        dtype='complex64'\n",
    "    )\n",
    "\n",
    "    u_right = qtn.tensor_builder.rand_tensor(\n",
    "        (16, 16),\n",
    "        inds=['k_right', 'b_right'],\n",
    "        dtype='complex64'\n",
    "    )\n",
    "\n",
    "    for _ in range(num_iters):\n",
    "        right_rdm = (rdm & u_left).contract()\n",
    "        data = right_rdm.data\n",
    "        U, S, VH = np.linalg.svd(data)\n",
    "        scores.append(np.sum(S))\n",
    "    \n",
    "        sol = (U @ VH).conj().T\n",
    "        u_right = qtn.Tensor(sol, inds = ['b_right', 'k_right'])\n",
    "        \n",
    "        left_rdm = (rdm & u_right).contract()\n",
    "        data = left_rdm.data\n",
    "        U, S, VH = np.linalg.svd(data)\n",
    "        scores.append(np.sum(S))\n",
    "    \n",
    "        sol = (U @ VH).conj().T\n",
    "        u_left = qtn.Tensor(sol, inds = ['b_left', 'k_left'])\n",
    "\n",
    "    return (u_left, u_right), scores"
   ]
  },
  {
   "cell_type": "markdown",
   "id": "3fd788ca-2978-4321-9be2-6957bcf8e269",
   "metadata": {},
   "source": [
    "Warning! Solutions are defined with 'k' and 'b' legs having bra and ket directions respectively to make contractions easier."
   ]
  },
  {
   "cell_type": "markdown",
   "id": "cceb8c50-9b46-475b-8bc1-f0bf548e552a",
   "metadata": {},
   "source": [
    "# Sweep and save"
   ]
  },
  {
   "cell_type": "code",
   "execution_count": 74,
   "id": "21b6bcc3-7d7a-43de-9a16-c0626bb1c025",
   "metadata": {},
   "outputs": [],
   "source": [
    "num_boundary_sites=4\n",
    "left_most_symmetry_site=5\n",
    "num_symmetry_sites=4"
   ]
  },
  {
   "cell_type": "code",
   "execution_count": 75,
   "id": "33ee56db-2db8-4937-9397-e2bf4de6863b",
   "metadata": {},
   "outputs": [],
   "source": [
    "num_iterations = 10"
   ]
  },
  {
   "cell_type": "code",
   "execution_count": 79,
   "id": "76f05b02-884c-4c3e-b7c9-1d8e1c34c123",
   "metadata": {
    "scrolled": true
   },
   "outputs": [
    {
     "name": "stderr",
     "output_type": "stream",
     "text": [
      "100%|█████████████████████████████████████████████████████████████████████████████████████████████████████████████████████████████████████████████| 21/21 [00:02<00:00,  9.50it/s]\n"
     ]
    }
   ],
   "source": [
    "for k1, psi in tqdm.tqdm(psi_dict.items()):\n",
    "    for k2, bs in enumerate(symmetry_actions[1:], start=1):\n",
    "        symmetry_site_pairs = (\n",
    "            [(i, bs[0]) for i in range(left_most_symmetry_site, left_most_symmetry_site+num_symmetry_sites, 2)]\n",
    "            + [(i, bs[1]) for i in range(left_most_symmetry_site+1, left_most_symmetry_site+num_symmetry_sites+1, 2)]\n",
    "        )\n",
    "\n",
    "        rdm = generate_problem_rdm(\n",
    "            psi,\n",
    "            symmetry_site_pairs,\n",
    "            leftmost_symmetry_site,\n",
    "            num_symmetry_sites,\n",
    "            num_boundary_sites\n",
    "        )\n",
    "\n",
    "        (u_left, u_right), scores = solve_for_boundary_operators(\n",
    "            rdm,\n",
    "            num_iters=num_iterations\n",
    "        )\n",
    "\n",
    "        file_name = rf'svd_solutions/{k1}_{k2}.pickle'\n",
    "\n",
    "        with open(file_name, 'wb') as file:\n",
    "            pickle.dump(((u_left, u_right), scores), file)"
   ]
  }
 ],
 "metadata": {
  "kernelspec": {
   "display_name": "num_spt_venv_p11",
   "language": "python",
   "name": "num_spt_venv_p11"
  },
  "language_info": {
   "codemirror_mode": {
    "name": "ipython",
    "version": 3
   },
   "file_extension": ".py",
   "mimetype": "text/x-python",
   "name": "python",
   "nbconvert_exporter": "python",
   "pygments_lexer": "ipython3",
   "version": "3.11.9"
  }
 },
 "nbformat": 4,
 "nbformat_minor": 5
}
