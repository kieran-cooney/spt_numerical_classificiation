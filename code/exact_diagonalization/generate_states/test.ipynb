{
 "cells": [
  {
   "cell_type": "markdown",
   "id": "8ea3365e-b4fb-464b-a1df-80ddd30aa531",
   "metadata": {},
   "source": [
    "https://tenpy.readthedocs.io/en/v0.11.0/examples/z_exact_diag.html"
   ]
  },
  {
   "cell_type": "code",
   "execution_count": 1,
   "id": "06fec210-86bb-49e4-8080-916dc8167337",
   "metadata": {
    "editable": true,
    "slideshow": {
     "slide_type": ""
    },
    "tags": []
   },
   "outputs": [],
   "source": [
    "import tenpy.linalg.np_conserved as npc\n",
    "from tenpy.models.xxz_chain import XXZChain\n",
    "from tenpy.networks.mps import MPS\n",
    "\n",
    "from tenpy.algorithms.exact_diag import ExactDiag\n",
    "from tenpy.algorithms import dmrg"
   ]
  },
  {
   "cell_type": "code",
   "execution_count": 5,
   "id": "c83e996d-f3c8-4e11-923e-8446edd5c48e",
   "metadata": {
    "editable": true,
    "slideshow": {
     "slide_type": ""
    },
    "tags": []
   },
   "outputs": [],
   "source": [
    "L=10\n",
    "Jz=1"
   ]
  },
  {
   "cell_type": "code",
   "execution_count": 6,
   "id": "48e7fb0c-8364-4155-a80f-cd08f622f7f7",
   "metadata": {
    "editable": true,
    "slideshow": {
     "slide_type": ""
    },
    "tags": []
   },
   "outputs": [],
   "source": [
    "xxz_pars = dict(L=L, Jxx=1., Jz=Jz, hz=0.0, bc_MPS='finite', sort_charge=True)\n",
    "M = XXZChain(xxz_pars)\n",
    "\n",
    "product_state = [\"up\", \"down\"] * (xxz_pars['L'] // 2)  # this selects a charge sector!\n",
    "psi_DMRG = MPS.from_product_state(M.lat.mps_sites(), product_state)\n",
    "charge_sector = psi_DMRG.get_total_charge(True)  # ED charge sector should match"
   ]
  },
  {
   "cell_type": "code",
   "execution_count": 7,
   "id": "93acfa53-365a-4ad1-bdbe-da7b6e9c53b9",
   "metadata": {
    "editable": true,
    "slideshow": {
     "slide_type": ""
    },
    "tags": []
   },
   "outputs": [],
   "source": [
    "ED = ExactDiag(M, charge_sector=charge_sector, max_size=2.e6)\n",
    "ED.build_full_H_from_mpo()\n",
    "# ED.build_full_H_from_bonds()  # whatever you prefer"
   ]
  },
  {
   "cell_type": "code",
   "execution_count": 8,
   "id": "93ed4386-6e0e-468d-a08a-8bd9b9bdfc6d",
   "metadata": {},
   "outputs": [],
   "source": [
    "ED.full_diagonalization()  # the expensive part for large L"
   ]
  },
  {
   "cell_type": "code",
   "execution_count": 9,
   "id": "97c9a70b-76dc-4577-9f50-c9d7755bf665",
   "metadata": {},
   "outputs": [],
   "source": [
    "E0_ED, psi_ED = ED.groundstate()  # return the ground state"
   ]
  },
  {
   "cell_type": "code",
   "execution_count": 10,
   "id": "b23ea63b-3a5f-4096-bc65-14b432cb03ea",
   "metadata": {},
   "outputs": [
    {
     "data": {
      "text/plain": [
       "<npc.Array shape=(252,) labels=['ps']>"
      ]
     },
     "execution_count": 10,
     "metadata": {},
     "output_type": "execute_result"
    }
   ],
   "source": [
    "psi_ED"
   ]
  },
  {
   "cell_type": "code",
   "execution_count": 11,
   "id": "85771984-3d24-4007-85ca-fc3779490b66",
   "metadata": {},
   "outputs": [
    {
     "data": {
      "text/plain": [
       "array([ 9.51573290e-07, -1.14341717e-05,  5.67869476e-05, -1.47610251e-04,\n",
       "        2.02598443e-04, -1.01292541e-04,  5.67869476e-05, -4.09737643e-04,\n",
       "        1.21908928e-03, -1.78033748e-03,  9.13247326e-04,  7.32733350e-04,\n",
       "       -3.46468559e-03,  5.84509588e-03, -3.15849641e-03,  2.77370846e-03,\n",
       "       -8.23598557e-03,  5.08249446e-03,  3.16203983e-03, -3.54254173e-03,\n",
       "        8.06588899e-04, -1.47610251e-04,  1.21908928e-03, -3.96993451e-03,\n",
       "        6.09127967e-03, -3.19377576e-03, -3.46468559e-03,  1.72025367e-02,\n",
       "       -3.02151951e-02,  1.66363884e-02, -1.60809881e-02,  4.91569017e-02,\n",
       "       -3.08871042e-02, -1.98926863e-02,  2.28886825e-02, -5.34289838e-03,\n",
       "        2.77370846e-03, -1.60809881e-02,  3.18294272e-02, -1.84313243e-02,\n",
       "        2.79437588e-02, -9.08178433e-02,  5.92910244e-02,  4.20723600e-02,\n",
       "       -5.11842855e-02,  1.26051139e-02, -1.02014756e-02,  3.71174697e-02,\n",
       "       -2.69577503e-02, -3.19716838e-02,  4.45162964e-02, -1.26051139e-02,\n",
       "        7.43655918e-03, -1.18715628e-02,  5.34289838e-03, -8.06588899e-04,\n",
       "        2.02598443e-04, -1.78033748e-03,  6.09127967e-03, -9.66888394e-03,\n",
       "        5.15439173e-03,  5.84509588e-03, -3.02151951e-02,  5.50151117e-02,\n",
       "       -3.08361768e-02,  3.18294272e-02, -9.96015791e-02,  6.36506066e-02,\n",
       "        4.21811902e-02, -4.97390917e-02,  1.18715628e-02, -8.23598557e-03,\n",
       "        4.91569017e-02, -9.96015791e-02,  5.84212777e-02, -9.08178433e-02,\n",
       "        2.98955598e-01, -1.97711694e-01, -1.43388501e-01,  1.77739074e-01,\n",
       "       -4.45162964e-02,  3.71174697e-02, -1.37587498e-01,  1.02128184e-01,\n",
       "        1.25144584e-01, -1.77739074e-01,  5.11842855e-02, -3.06418538e-02,\n",
       "        4.97390917e-02, -2.28886825e-02,  3.54254173e-03,  3.16203983e-03,\n",
       "       -1.98926863e-02,  4.21811902e-02, -2.55055319e-02,  4.20723600e-02,\n",
       "       -1.43388501e-01,  9.87153498e-02,  7.78271653e-02, -1.02128184e-01,\n",
       "        2.69577503e-02, -3.19716838e-02,  1.25144584e-01, -9.87153498e-02,\n",
       "       -1.32834666e-01,  1.97711694e-01, -5.92910244e-02,  3.78014912e-02,\n",
       "       -6.36506066e-02,  3.08871042e-02, -5.08249446e-03,  7.43655918e-03,\n",
       "       -3.06418538e-02,  2.55055319e-02,  3.78014912e-02, -5.84212777e-02,\n",
       "        1.84313243e-02, -1.74710115e-02,  3.08361768e-02, -1.66363884e-02,\n",
       "        3.15849641e-03,  2.77352233e-03, -5.15439173e-03,  3.19377576e-03,\n",
       "       -9.13247326e-04,  1.01292541e-04, -1.01292541e-04,  9.13247326e-04,\n",
       "       -3.19377576e-03,  5.15439173e-03, -2.77352233e-03, -3.15849641e-03,\n",
       "        1.66363884e-02, -3.08361768e-02,  1.74710115e-02, -1.84313243e-02,\n",
       "        5.84212777e-02, -3.78014912e-02, -2.55055319e-02,  3.06418538e-02,\n",
       "       -7.43655918e-03,  5.08249446e-03, -3.08871042e-02,  6.36506066e-02,\n",
       "       -3.78014912e-02,  5.92910244e-02, -1.97711694e-01,  1.32834666e-01,\n",
       "        9.87153498e-02, -1.25144584e-01,  3.19716838e-02, -2.69577503e-02,\n",
       "        1.02128184e-01, -7.78271653e-02, -9.87153498e-02,  1.43388501e-01,\n",
       "       -4.20723600e-02,  2.55055319e-02, -4.21811902e-02,  1.98926863e-02,\n",
       "       -3.16203983e-03, -3.54254173e-03,  2.28886825e-02, -4.97390917e-02,\n",
       "        3.06418538e-02, -5.11842855e-02,  1.77739074e-01, -1.25144584e-01,\n",
       "       -1.02128184e-01,  1.37587498e-01, -3.71174697e-02,  4.45162964e-02,\n",
       "       -1.77739074e-01,  1.43388501e-01,  1.97711694e-01, -2.98955598e-01,\n",
       "        9.08178433e-02, -5.84212777e-02,  9.96015791e-02, -4.91569017e-02,\n",
       "        8.23598557e-03, -1.18715628e-02,  4.97390917e-02, -4.21811902e-02,\n",
       "       -6.36506066e-02,  9.96015791e-02, -3.18294272e-02,  3.08361768e-02,\n",
       "       -5.50151117e-02,  3.02151951e-02, -5.84509588e-03, -5.15439173e-03,\n",
       "        9.66888394e-03, -6.09127967e-03,  1.78033748e-03, -2.02598443e-04,\n",
       "        8.06588899e-04, -5.34289838e-03,  1.18715628e-02, -7.43655918e-03,\n",
       "        1.26051139e-02, -4.45162964e-02,  3.19716838e-02,  2.69577503e-02,\n",
       "       -3.71174697e-02,  1.02014756e-02, -1.26051139e-02,  5.11842855e-02,\n",
       "       -4.20723600e-02, -5.92910244e-02,  9.08178433e-02, -2.79437588e-02,\n",
       "        1.84313243e-02, -3.18294272e-02,  1.60809881e-02, -2.77370846e-03,\n",
       "        5.34289838e-03, -2.28886825e-02,  1.98926863e-02,  3.08871042e-02,\n",
       "       -4.91569017e-02,  1.60809881e-02, -1.66363884e-02,  3.02151951e-02,\n",
       "       -1.72025367e-02,  3.46468559e-03,  3.19377576e-03, -6.09127967e-03,\n",
       "        3.96993451e-03, -1.21908928e-03,  1.47610251e-04, -8.06588899e-04,\n",
       "        3.54254173e-03, -3.16203983e-03, -5.08249446e-03,  8.23598557e-03,\n",
       "       -2.77370846e-03,  3.15849641e-03, -5.84509588e-03,  3.46468559e-03,\n",
       "       -7.32733350e-04, -9.13247326e-04,  1.78033748e-03, -1.21908928e-03,\n",
       "        4.09737643e-04, -5.67869476e-05,  1.01292541e-04, -2.02598443e-04,\n",
       "        1.47610251e-04, -5.67869476e-05,  1.14341717e-05, -9.51573290e-07])"
      ]
     },
     "execution_count": 11,
     "metadata": {},
     "output_type": "execute_result"
    }
   ],
   "source": [
    "psi_ED.to_ndarray()"
   ]
  },
  {
   "cell_type": "code",
   "execution_count": 13,
   "id": "bb7d5aac-d355-4a21-9437-a9747aca6005",
   "metadata": {},
   "outputs": [
    {
     "ename": "ValueError",
     "evalue": "cannot reshape array of size 252 into shape (2,2,2,2,2,2,2,2)",
     "output_type": "error",
     "traceback": [
      "\u001b[0;31m---------------------------------------------------------------------------\u001b[0m",
      "\u001b[0;31mValueError\u001b[0m                                Traceback (most recent call last)",
      "Cell \u001b[0;32mIn[13], line 1\u001b[0m\n\u001b[0;32m----> 1\u001b[0m psi_reshaped_ED \u001b[38;5;241m=\u001b[39m \u001b[43mpsi_ED\u001b[49m\u001b[38;5;241;43m.\u001b[39;49m\u001b[43mto_ndarray\u001b[49m\u001b[43m(\u001b[49m\u001b[43m)\u001b[49m\u001b[38;5;241;43m.\u001b[39;49m\u001b[43mreshape\u001b[49m\u001b[43m(\u001b[49m\u001b[43m(\u001b[49m\u001b[38;5;241;43m2\u001b[39;49m\u001b[43m,\u001b[49m\u001b[43m)\u001b[49m\u001b[38;5;241;43m*\u001b[39;49m\u001b[38;5;241;43m8\u001b[39;49m\u001b[43m)\u001b[49m\n",
      "\u001b[0;31mValueError\u001b[0m: cannot reshape array of size 252 into shape (2,2,2,2,2,2,2,2)"
     ]
    }
   ],
   "source": [
    "psi_reshaped_ED = psi_ED.to_ndarray().reshape((2,)*8)"
   ]
  },
  {
   "cell_type": "code",
   "execution_count": 14,
   "id": "da13f162-a3da-4aa3-b462-2c22b64483bc",
   "metadata": {},
   "outputs": [
    {
     "data": {
      "text/plain": [
       "256"
      ]
     },
     "execution_count": 14,
     "metadata": {},
     "output_type": "execute_result"
    }
   ],
   "source": [
    "2**8"
   ]
  },
  {
   "cell_type": "code",
   "execution_count": null,
   "id": "bd8915a1-edae-4b49-bccd-208d25f69d02",
   "metadata": {},
   "outputs": [],
   "source": []
  },
  {
   "cell_type": "markdown",
   "id": "2a0a17c0-918e-40b4-b568-03e8751b43a4",
   "metadata": {},
   "source": [
    "How large can this go, realistically?"
   ]
  },
  {
   "cell_type": "code",
   "execution_count": 39,
   "id": "a861e50c-ec61-4ead-9247-950620eac834",
   "metadata": {},
   "outputs": [],
   "source": [
    "L=16\n",
    "Jz=1"
   ]
  },
  {
   "cell_type": "code",
   "execution_count": 40,
   "id": "f222d1f5-1f18-4eab-b61c-6a7dedc106b9",
   "metadata": {},
   "outputs": [],
   "source": [
    "xxz_pars = dict(L=L, Jxx=1., Jz=Jz, hz=0.0, bc_MPS='finite', sort_charge=True)\n",
    "M = XXZChain(xxz_pars)\n",
    "\n",
    "product_state = [\"up\", \"down\"] * (xxz_pars['L'] // 2)  # this selects a charge sector!\n",
    "psi_DMRG = MPS.from_product_state(M.lat.mps_sites(), product_state)\n",
    "charge_sector = psi_DMRG.get_total_charge(True)  # ED charge sector should match"
   ]
  },
  {
   "cell_type": "code",
   "execution_count": 41,
   "id": "8956440e-3f10-4f3a-958d-fd44df3cac68",
   "metadata": {},
   "outputs": [
    {
     "data": {
      "text/plain": [
       "2000000.0"
      ]
     },
     "execution_count": 41,
     "metadata": {},
     "output_type": "execute_result"
    }
   ],
   "source": [
    "2e6"
   ]
  },
  {
   "cell_type": "code",
   "execution_count": 43,
   "id": "6806e9a8-84b8-4307-8116-acf342ce3451",
   "metadata": {},
   "outputs": [],
   "source": [
    "ED = ExactDiag(M, charge_sector=charge_sector, max_size=1e10)\n",
    "ED.build_full_H_from_mpo()\n",
    "# ED.build_full_H_from_bonds()  # whatever you prefer"
   ]
  },
  {
   "cell_type": "code",
   "execution_count": 44,
   "id": "a60002d5-e7f9-4a2c-8147-2f487d499a18",
   "metadata": {},
   "outputs": [
    {
     "data": {
      "text/plain": [
       "False"
      ]
     },
     "execution_count": 44,
     "metadata": {},
     "output_type": "execute_result"
    }
   ],
   "source": [
    "ED._exceeds_max_size()"
   ]
  },
  {
   "cell_type": "code",
   "execution_count": 45,
   "id": "1fd3b041-29c1-4f39-8fd2-a9160c105a0c",
   "metadata": {},
   "outputs": [],
   "source": [
    "ED.full_diagonalization()  # the expensive part for large L"
   ]
  },
  {
   "cell_type": "code",
   "execution_count": 46,
   "id": "1f649cef-de08-40de-900c-b903b3ad1b8b",
   "metadata": {},
   "outputs": [],
   "source": [
    "E0_ED, psi_ED = ED.groundstate()  # return the ground state"
   ]
  },
  {
   "cell_type": "code",
   "execution_count": 47,
   "id": "783c89fb-e52c-4334-a470-701e0d6887e8",
   "metadata": {
    "editable": true,
    "slideshow": {
     "slide_type": ""
    },
    "tags": []
   },
   "outputs": [
    {
     "data": {
      "text/plain": [
       "<npc.Array shape=(12870,) labels=['ps']>"
      ]
     },
     "execution_count": 47,
     "metadata": {},
     "output_type": "execute_result"
    }
   ],
   "source": [
    "psi_ED"
   ]
  }
 ],
 "metadata": {
  "kernelspec": {
   "display_name": "num_spt_venv_p11",
   "language": "python",
   "name": "num_spt_venv_p11"
  },
  "language_info": {
   "codemirror_mode": {
    "name": "ipython",
    "version": 3
   },
   "file_extension": ".py",
   "mimetype": "text/x-python",
   "name": "python",
   "nbconvert_exporter": "python",
   "pygments_lexer": "ipython3",
   "version": "3.11.9"
  }
 },
 "nbformat": 4,
 "nbformat_minor": 5
}
