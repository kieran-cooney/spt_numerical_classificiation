{
 "cells": [
  {
   "cell_type": "code",
   "execution_count": 12,
   "metadata": {
    "editable": true,
    "slideshow": {
     "slide_type": ""
    },
    "tags": []
   },
   "outputs": [],
   "source": [
    "import time\n",
    "\n",
    "import numpy as np\n",
    "import scipy\n",
    "import matplotlib.pyplot as plt"
   ]
  },
  {
   "cell_type": "code",
   "execution_count": 1,
   "metadata": {},
   "outputs": [],
   "source": [
    "import tenpy\n",
    "import tenpy.linalg.np_conserved as npc\n",
    "from tenpy.algorithms import dmrg\n",
    "from tenpy.networks.mps import MPS\n",
    "from tenpy.algorithms.exact_diag import ExactDiag"
   ]
  },
  {
   "cell_type": "code",
   "execution_count": 2,
   "metadata": {},
   "outputs": [],
   "source": [
    "from tenpy.networks.site import SpinSite, SpinHalfSite\n",
    "from tenpy.models.lattice import Chain\n",
    "from tenpy.models.model import CouplingModel, NearestNeighborModel, MPOModel"
   ]
  },
  {
   "cell_type": "code",
   "execution_count": 4,
   "metadata": {},
   "outputs": [],
   "source": [
    "class ClusterIsing(CouplingModel):\n",
    "    def __init__(self, model_params):\n",
    "        # Read out/set default parameters\n",
    "        name = \"Cluster Ising model\"\n",
    "        L = model_params.get('L', 5)\n",
    "        B = model_params.get('B', 0)\n",
    "        bc_MPS = model_params.get('bc_MPS', 'finite')\n",
    "        \n",
    "        # sites\n",
    "        site = SpinHalfSite(conserve=None)\n",
    "\n",
    "        # lattice\n",
    "        bc = 'open'\n",
    "        lat = Chain(L, site, bc=bc, bc_MPS=bc_MPS)\n",
    "\n",
    "        # initialize CouplingModel\n",
    "        CouplingModel.__init__(self, lat)\n",
    "\n",
    "        # add terms of the Hamiltonian\n",
    "        self.add_onsite(-B, 0, 'Sigmax')\n",
    "        self.add_multi_coupling(\n",
    "            -1,\n",
    "            [\n",
    "                ('Sigmaz', -1, 0),\n",
    "                ('Sigmax', 0, 0),\n",
    "                ('Sigmaz', 1, 0),\n",
    "            ]\n",
    "        )\n",
    "\n",
    "        # initialize H_MPO\n",
    "        MPOModel.__init__(self, lat, self.calc_H_MPO())"
   ]
  },
  {
   "cell_type": "code",
   "execution_count": 5,
   "metadata": {},
   "outputs": [],
   "source": [
    "B_params = np.linspace(0, 2, 21)"
   ]
  },
  {
   "cell_type": "code",
   "execution_count": 6,
   "metadata": {},
   "outputs": [
    {
     "data": {
      "text/plain": [
       "array([0. , 0.1, 0.2, 0.3, 0.4, 0.5, 0.6, 0.7, 0.8, 0.9, 1. , 1.1, 1.2,\n",
       "       1.3, 1.4, 1.5, 1.6, 1.7, 1.8, 1.9, 2. ])"
      ]
     },
     "execution_count": 6,
     "metadata": {},
     "output_type": "execute_result"
    }
   ],
   "source": [
    "B_params"
   ]
  },
  {
   "cell_type": "code",
   "execution_count": 27,
   "metadata": {},
   "outputs": [],
   "source": [
    "NUM_SITES = 14\n",
    "MAX_SIZE = 2**30"
   ]
  },
  {
   "cell_type": "code",
   "execution_count": 18,
   "metadata": {
    "editable": true,
    "slideshow": {
     "slide_type": ""
    },
    "tags": []
   },
   "outputs": [],
   "source": [
    "import h5py\n",
    "from tenpy.tools import hdf5_io"
   ]
  },
  {
   "cell_type": "code",
   "execution_count": 20,
   "metadata": {},
   "outputs": [],
   "source": [
    "import os"
   ]
  },
  {
   "cell_type": "code",
   "execution_count": 28,
   "metadata": {},
   "outputs": [
    {
     "data": {
      "text/plain": [
       "['0_00.h5']"
      ]
     },
     "execution_count": 28,
     "metadata": {},
     "output_type": "execute_result"
    }
   ],
   "source": [
    "os.listdir(r\"../../data/transverse_cluster_14_site_ed/\")"
   ]
  },
  {
   "cell_type": "code",
   "execution_count": 29,
   "metadata": {
    "editable": true,
    "scrolled": true,
    "slideshow": {
     "slide_type": ""
    },
    "tags": []
   },
   "outputs": [
    {
     "name": "stdout",
     "output_type": "stream",
     "text": [
      "Commencing B=0.00 model\n",
      "Time taken in minutes: 9.075781925519307\n",
      "Commencing B=0.10 model\n",
      "Time taken in minutes: 9.11449093023936\n",
      "Commencing B=0.20 model\n",
      "Time taken in minutes: 9.212719933191936\n",
      "Commencing B=0.30 model\n",
      "Time taken in minutes: 8.694939279556275\n",
      "Commencing B=0.40 model\n",
      "Time taken in minutes: 8.683763066927591\n",
      "Commencing B=0.50 model\n",
      "Time taken in minutes: 8.622125013669331\n",
      "Commencing B=0.60 model\n",
      "Time taken in minutes: 8.92505093018214\n",
      "Commencing B=0.70 model\n",
      "Time taken in minutes: 8.763870120048523\n",
      "Commencing B=0.80 model\n",
      "Time taken in minutes: 8.672255909442901\n",
      "Commencing B=0.90 model\n",
      "Time taken in minutes: 8.629004184405009\n",
      "Commencing B=1.00 model\n",
      "Time taken in minutes: 8.687012441953023\n",
      "Commencing B=1.10 model\n",
      "Time taken in minutes: 8.687918782234192\n",
      "Commencing B=1.20 model\n",
      "Time taken in minutes: 8.650095609823863\n",
      "Commencing B=1.30 model\n",
      "Time taken in minutes: 8.691623377799989\n",
      "Commencing B=1.40 model\n",
      "Time taken in minutes: 8.687895635763804\n",
      "Commencing B=1.50 model\n",
      "Time taken in minutes: 8.664301490783691\n",
      "Commencing B=1.60 model\n",
      "Time taken in minutes: 8.646196186542511\n",
      "Commencing B=1.70 model\n",
      "Time taken in minutes: 8.702758570512136\n",
      "Commencing B=1.80 model\n",
      "Time taken in minutes: 8.644238169987997\n",
      "Commencing B=1.90 model\n",
      "Time taken in minutes: 8.688366222381593\n",
      "Commencing B=2.00 model\n",
      "Time taken in minutes: 8.692167564233143\n"
     ]
    }
   ],
   "source": [
    "times = list()\n",
    "\n",
    "for B in B_params:\n",
    "    print(\"Commencing B={:.2f} model\".format(B))\n",
    "    start = time.time()\n",
    "    model=ClusterIsing({'B': B, 'L':NUM_SITES})\n",
    "    \n",
    "    psi = MPS.from_desired_bond_dimension(model.lat.mps_sites(), 1, bc=model.lat.bc_MPS)\n",
    "    psi.canonical_form()\n",
    "\n",
    "    ED = ExactDiag(model, max_size=MAX_SIZE)\n",
    "\n",
    "    ED.build_full_H_from_mpo()\n",
    "    ED.full_diagonalization()\n",
    "    E0_ED, psi_ED = ED.groundstate()\n",
    "\n",
    "    data = {\n",
    "        \"wavefunction\": psi_ED,\n",
    "        \"energy\": E0_ED,\n",
    "        \"paramters\": {\"B\": B}\n",
    "    }\n",
    "\n",
    "    filename = r\"/home/kieranc/Desktop/numerical_spt_classification/code/data/transverse_cluster_14_site_ed/{:.2f}\".format(B).replace(\".\", \"_\")\n",
    "    filename += \".h5\"\n",
    "    with h5py.File(filename, 'w') as f:\n",
    "        hdf5_io.save_to_hdf5(f, data)\n",
    "\n",
    "    end = time.time()\n",
    "    duration = end - start\n",
    "    times.append(duration)\n",
    "    print(f\"Time taken in minutes: {duration/60}\")"
   ]
  },
  {
   "cell_type": "code",
   "execution_count": null,
   "metadata": {},
   "outputs": [],
   "source": []
  }
 ],
 "metadata": {
  "kernelspec": {
   "display_name": "num_spt_venv",
   "language": "python",
   "name": "num_spt_venv"
  },
  "language_info": {
   "codemirror_mode": {
    "name": "ipython",
    "version": 3
   },
   "file_extension": ".py",
   "mimetype": "text/x-python",
   "name": "python",
   "nbconvert_exporter": "python",
   "pygments_lexer": "ipython3",
   "version": "3.12.7"
  }
 },
 "nbformat": 4,
 "nbformat_minor": 4
}
