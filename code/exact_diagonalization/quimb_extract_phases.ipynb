{
 "cells": [
  {
   "cell_type": "markdown",
   "id": "6a2dac7f-2bbc-4993-8a37-4dc5bd7c4f33",
   "metadata": {},
   "source": [
    "# QUIMB extract phases\n",
    "Created 03/07/2024\n",
    "\n",
    "Objectives:\n",
    "* Use QUIMB to extract SPT phase from boundary operators calculated [here](quimb_save_boundary_operators.ipynb)."
   ]
  },
  {
   "cell_type": "markdown",
   "id": "725eaa22-d2a4-40d8-9a97-ad5bd49becb7",
   "metadata": {},
   "source": [
    "# Package imports"
   ]
  },
  {
   "cell_type": "code",
   "execution_count": 1,
   "id": "ecb41ea3-927f-4efa-aebe-ce15784aa037",
   "metadata": {},
   "outputs": [],
   "source": [
    "import sys"
   ]
  },
  {
   "cell_type": "code",
   "execution_count": 2,
   "id": "0375bd38-12e1-417a-908a-13fb540081f5",
   "metadata": {},
   "outputs": [],
   "source": [
    "sys.path.append(\"../../\")"
   ]
  },
  {
   "cell_type": "code",
   "execution_count": 3,
   "id": "0cf49837-01b6-431a-b570-d7ed25903239",
   "metadata": {},
   "outputs": [],
   "source": [
    "from itertools import chain, combinations\n",
    "from collections import defaultdict\n",
    "import re"
   ]
  },
  {
   "cell_type": "code",
   "execution_count": 4,
   "id": "f59344b7-d34e-47e4-99be-f5a2687f8176",
   "metadata": {},
   "outputs": [],
   "source": [
    "import h5py\n",
    "from tenpy.tools import hdf5_io\n",
    "import tenpy\n",
    "import tenpy.linalg.np_conserved as npc\n",
    "\n",
    "import os\n",
    "import pickle"
   ]
  },
  {
   "cell_type": "code",
   "execution_count": 5,
   "id": "19404619-d778-4cc3-8ee1-1db6f14b2043",
   "metadata": {},
   "outputs": [],
   "source": [
    "import numpy as np\n",
    "import jax.numpy as jnp\n",
    "\n",
    "import pandas as pd\n",
    "\n",
    "import matplotlib.pyplot as plt\n",
    "import matplotlib"
   ]
  },
  {
   "cell_type": "code",
   "execution_count": 6,
   "id": "92eeb066-5463-4237-ad07-3c5a0d934f4f",
   "metadata": {},
   "outputs": [
    {
     "name": "stderr",
     "output_type": "stream",
     "text": [
      "/Users/kierancooney/.pyenv/versions/num_spt_venv_p11/lib/python3.11/site-packages/cotengra/hyperoptimizers/hyper.py:54: UserWarning: Couldn't find `optuna`, `cmaes`, or `nevergrad` so will use completely random sampling in place of hyper-optimization.\n",
      "  warnings.warn(\n",
      "/Users/kierancooney/.pyenv/versions/num_spt_venv_p11/lib/python3.11/site-packages/cotengra/hyperoptimizers/hyper.py:36: UserWarning: Couldn't import `kahypar` - skipping from default hyper optimizer and using basic `labels` method instead.\n",
      "  warnings.warn(\n",
      "/Users/kierancooney/.pyenv/versions/num_spt_venv_p11/lib/python3.11/site-packages/cotengra/hyperoptimizers/hyper.py:73: UserWarning: Couldn't find `optuna`, `cmaes`, or `nevergrad` so will use completely random sampling in place of hyper-optimization.\n",
      "  warnings.warn(\n"
     ]
    }
   ],
   "source": [
    "import quimb as qu\n",
    "import quimb.tensor as qtn\n",
    "from quimb.tensor.optimize import TNOptimizer"
   ]
  },
  {
   "cell_type": "markdown",
   "id": "71c44d61-9279-4312-9ba8-6f07fe68bf65",
   "metadata": {},
   "source": [
    "# Load data"
   ]
  },
  {
   "cell_type": "code",
   "execution_count": 7,
   "id": "0a959f4f-197f-4c89-b83c-a19cc4d23594",
   "metadata": {},
   "outputs": [],
   "source": [
    "DATA_DIR = r\"../data/transverse_cluster_14_site_ed\""
   ]
  },
  {
   "cell_type": "code",
   "execution_count": 8,
   "id": "63d58876-7136-4dbf-ac40-e60220f99e7b",
   "metadata": {},
   "outputs": [],
   "source": [
    "def split_full_state_legs(full_state_psi):\n",
    "    dim = full_state_psi.shape\n",
    "\n",
    "    num_legs = int(np.log2(dim[0]))\n",
    "    new_labels = [f'p{i}' for i in range(num_legs)]\n",
    "\n",
    "    full_state_psi.iset_leg_labels(['(' + '.'.join(new_labels) + ')'])\n",
    "    full_state_psi = full_state_psi.split_legs([0])\n",
    "    return full_state_psi"
   ]
  },
  {
   "cell_type": "code",
   "execution_count": 9,
   "id": "53275f0e-9b77-44b7-8563-30428e19dbe7",
   "metadata": {},
   "outputs": [],
   "source": [
    "loaded_data = list()\n",
    "\n",
    "for local_file_name in os.listdir(DATA_DIR):\n",
    "    f_name = r\"{}/{}\".format(DATA_DIR, local_file_name, ignore_unknown=False)\n",
    "    with h5py.File(f_name, 'r') as f:\n",
    "        data = hdf5_io.load_from_hdf5(f)\n",
    "        loaded_data.append(data)"
   ]
  },
  {
   "cell_type": "code",
   "execution_count": 10,
   "id": "2e42bb49-d786-40a5-8d00-7ae14149ad8e",
   "metadata": {},
   "outputs": [],
   "source": [
    "b_parameters = sorted(list(d['paramters']['B'] for d in loaded_data))"
   ]
  },
  {
   "cell_type": "code",
   "execution_count": 11,
   "id": "934a96a7-93d6-442f-b976-839c6bf11167",
   "metadata": {},
   "outputs": [],
   "source": [
    "psi_dict = dict()"
   ]
  },
  {
   "cell_type": "code",
   "execution_count": 12,
   "id": "6c823fe5-6e75-4e0e-919c-4bae2c0745ad",
   "metadata": {},
   "outputs": [],
   "source": [
    "for b in b_parameters:\n",
    "    psi = next(\n",
    "        d['wavefunction']\n",
    "        for d in loaded_data\n",
    "        if d['paramters']['B'] == b\n",
    "    )\n",
    "    #psi = split_full_state_legs(psi)\n",
    "    \n",
    "    rounded_b = round(b, 1)\n",
    "    psi_dict[rounded_b] = psi"
   ]
  },
  {
   "cell_type": "markdown",
   "id": "c5391a4a-0f95-4f75-9ee5-364293d260bb",
   "metadata": {},
   "source": [
    "## Load boundary operators"
   ]
  },
  {
   "cell_type": "code",
   "execution_count": 13,
   "id": "84955b31-cf2e-4ac2-9c29-cdfb044db5ee",
   "metadata": {},
   "outputs": [],
   "source": [
    "SOL_DIR = r\"mpo_solutions/\""
   ]
  },
  {
   "cell_type": "code",
   "execution_count": 14,
   "id": "49ec504a-d2ad-4b9e-b0fa-fda9a3d627a6",
   "metadata": {},
   "outputs": [],
   "source": [
    "file_name_pattern = re.compile(r'^\\d\\.\\d_\\d_\\d\\.pickle$')"
   ]
  },
  {
   "cell_type": "code",
   "execution_count": 15,
   "id": "2ad6c9f4-cdfc-40fd-a2d3-291b202113dd",
   "metadata": {},
   "outputs": [],
   "source": [
    "def parse_file_name(file_name):\n",
    "    if not bool(file_name_pattern.match(file_name)):\n",
    "        return None\n",
    "\n",
    "    file_name = '.'.join((file_name.split('.'))[:-1])\n",
    "\n",
    "    b, sym_index, i = file_name.split('_')\n",
    "\n",
    "    b = float(b)\n",
    "    sym_index = int(sym_index)\n",
    "    i = int(i)\n",
    "    \n",
    "    return (b, sym_index, i)"
   ]
  },
  {
   "cell_type": "code",
   "execution_count": 16,
   "id": "9043a80d-7c54-4148-9a98-f899bed61f1c",
   "metadata": {},
   "outputs": [],
   "source": [
    "boundary_operator_solutions = dict()\n",
    "\n",
    "for local_file_name in list(os.walk(SOL_DIR))[0][2]:\n",
    "    f_name = r\"{}/{}\".format(SOL_DIR, local_file_name, ignore_unknown=False)\n",
    "\n",
    "    key = parse_file_name(local_file_name)\n",
    "\n",
    "    if key is not None:\n",
    "        with open(f_name, 'rb') as f:\n",
    "            out = pickle.load(f)\n",
    "    \n",
    "            boundary_operator_solutions[key] = out"
   ]
  },
  {
   "cell_type": "code",
   "execution_count": 17,
   "id": "74ddc5ea-125d-4572-a861-ab016af1a5b9",
   "metadata": {},
   "outputs": [
    {
     "data": {
      "text/plain": [
       "[Array(0.00011921, dtype=float32),\n",
       " TensorNetwork1D(tensors=8, indices=22, L=4, max_bond=5)]"
      ]
     },
     "execution_count": 17,
     "metadata": {},
     "output_type": "execute_result"
    }
   ],
   "source": [
    "boundary_operator_solutions[(0.0, 1, 1)]"
   ]
  },
  {
   "cell_type": "code",
   "execution_count": 18,
   "id": "3b5a2288-ef1f-47ea-b533-6725051c76ae",
   "metadata": {},
   "outputs": [
    {
     "data": {
      "text/plain": [
       "dict_keys([(0.6, 3, 7), (0.5, 1, 1), (0.9, 2, 1), (0.9, 3, 1), (0.7, 3, 4), (0.7, 2, 4), (0.7, 2, 8), (0.7, 3, 8), (0.8, 2, 2), (0.8, 3, 2), (1.1, 3, 1), (1.1, 2, 1), (0.4, 2, 1), (0.4, 3, 1), (0.8, 1, 1), (0.7, 1, 7), (1.0, 1, 1), (0.7, 1, 5), (0.1, 2, 1), (0.1, 3, 1), (0.8, 1, 3), (0.7, 1, 9), (1.9, 3, 1), (1.9, 2, 1), (1.5, 1, 1), (0.0, 1, 1), (0.9, 3, 3), (0.6, 3, 9), (0.6, 3, 5), (1.8, 1, 1), (1.4, 3, 1), (1.4, 2, 1), (0.7, 3, 6), (0.7, 2, 6), (1.3, 2, 1), (1.3, 3, 1), (0.8, 1, 7), (0.7, 1, 1), (0.7, 3, 2), (0.7, 2, 2), (1.2, 1, 1), (0.8, 3, 8), (0.8, 2, 8), (0.8, 2, 4), (0.8, 3, 4), (0.6, 3, 1), (0.6, 2, 1), (0.9, 3, 7), (0.8, 2, 6), (0.8, 3, 6), (2.0, 3, 1), (2.0, 2, 1), (1.7, 1, 1), (0.9, 3, 5), (0.3, 3, 1), (0.3, 2, 1), (0.9, 3, 9), (0.6, 3, 3), (1.6, 2, 1), (1.6, 3, 1), (0.2, 1, 1), (0.8, 1, 9), (0.7, 1, 3), (0.8, 1, 5), (0.0, 3, 1), (0.0, 2, 1), (1.8, 2, 1), (1.8, 3, 1), (1.4, 1, 1), (0.7, 1, 6), (0.7, 2, 5), (0.7, 3, 5), (0.8, 3, 3), (0.1, 1, 1), (0.8, 2, 3), (0.7, 3, 9), (0.7, 2, 9), (0.6, 3, 6), (1.9, 1, 1), (1.5, 2, 1), (1.5, 3, 1), (0.4, 1, 1), (0.8, 3, 1), (0.8, 2, 1), (0.7, 2, 7), (0.7, 3, 7), (0.6, 3, 8), (0.9, 3, 2), (1.0, 2, 1), (1.0, 3, 1), (0.6, 3, 4), (0.5, 3, 1), (0.5, 2, 1), (0.9, 1, 1), (0.7, 1, 4), (0.7, 1, 8), (1.1, 1, 1), (0.8, 1, 2), (1.6, 1, 1), (0.9, 3, 6), (0.2, 2, 1), (0.2, 3, 1), (0.8, 2, 9), (0.8, 3, 9), (0.7, 2, 3), (0.7, 3, 3), (0.8, 3, 5), (0.8, 2, 5), (0.8, 1, 6), (1.7, 3, 1), (1.7, 2, 1), (2.0, 1, 1), (0.3, 1, 1), (0.7, 1, 2), (0.8, 1, 8), (1.2, 3, 1), (1.2, 2, 1), (0.8, 1, 4), (0.6, 1, 1), (0.9, 3, 4), (0.6, 3, 2), (1.3, 1, 1), (0.9, 3, 8), (0.8, 3, 7), (0.8, 2, 7), (0.7, 2, 1), (0.7, 3, 1)])"
      ]
     },
     "execution_count": 18,
     "metadata": {},
     "output_type": "execute_result"
    }
   ],
   "source": [
    "boundary_operator_solutions.keys()"
   ]
  },
  {
   "cell_type": "markdown",
   "id": "aeaeed8f-9e64-4383-bc53-27150a8d548a",
   "metadata": {},
   "source": [
    "### Check values"
   ]
  },
  {
   "cell_type": "code",
   "execution_count": 19,
   "id": "1b1a1eaa-265f-4def-a3d3-0ad318930b4b",
   "metadata": {},
   "outputs": [],
   "source": [
    "scores = [float(v[0]._value) for v in boundary_operator_solutions.values()]"
   ]
  },
  {
   "cell_type": "code",
   "execution_count": 20,
   "id": "18b031de-4cf0-4576-b236-089341aca078",
   "metadata": {},
   "outputs": [
    {
     "data": {
      "text/plain": [
       "count    127.000000\n",
       "mean       0.179815\n",
       "std        0.228679\n",
       "min        0.000119\n",
       "25%        0.008550\n",
       "50%        0.118523\n",
       "75%        0.222888\n",
       "max        1.016431\n",
       "dtype: float64"
      ]
     },
     "execution_count": 20,
     "metadata": {},
     "output_type": "execute_result"
    }
   ],
   "source": [
    "pd.Series(scores).describe()"
   ]
  },
  {
   "cell_type": "code",
   "execution_count": 21,
   "id": "7896fa9b-0290-4742-93a8-503497597318",
   "metadata": {},
   "outputs": [],
   "source": [
    "score_pairs = defaultdict(list)\n",
    "\n",
    "for k, v in boundary_operator_solutions.items():\n",
    "    score_pairs[k[:-1]].append((k[-1], float(v[0]._value)))"
   ]
  },
  {
   "cell_type": "code",
   "execution_count": 22,
   "id": "8cf00e47-3dd9-47f1-9c7c-c3b6ecd76ba1",
   "metadata": {},
   "outputs": [],
   "source": [
    "best_score_pairs = {\n",
    "    k: min(v, key=lambda x: x[1]) for k, v in score_pairs.items()\n",
    "}"
   ]
  },
  {
   "cell_type": "code",
   "execution_count": 23,
   "id": "b07ea0b5-9c25-4969-ad77-44605f544778",
   "metadata": {},
   "outputs": [],
   "source": [
    "best_scores = [v[1] for v in best_score_pairs.values()]"
   ]
  },
  {
   "cell_type": "code",
   "execution_count": 24,
   "id": "20a71c05-b888-450a-9353-7f26970ebd57",
   "metadata": {},
   "outputs": [
    {
     "data": {
      "text/plain": [
       "63"
      ]
     },
     "execution_count": 24,
     "metadata": {},
     "output_type": "execute_result"
    }
   ],
   "source": [
    "len(best_score_pairs)"
   ]
  },
  {
   "cell_type": "code",
   "execution_count": 25,
   "id": "3b02c07c-fe40-4acb-8632-893fe8b48254",
   "metadata": {},
   "outputs": [
    {
     "data": {
      "text/plain": [
       "count    63.000000\n",
       "mean      0.046602\n",
       "std       0.114911\n",
       "min       0.000119\n",
       "25%       0.004158\n",
       "50%       0.008431\n",
       "75%       0.025560\n",
       "max       0.753083\n",
       "dtype: float64"
      ]
     },
     "execution_count": 25,
     "metadata": {},
     "output_type": "execute_result"
    }
   ],
   "source": [
    "pd.Series(best_scores).describe()"
   ]
  },
  {
   "cell_type": "code",
   "execution_count": 26,
   "id": "231f533b-5075-402a-821d-dab6eaf23098",
   "metadata": {},
   "outputs": [],
   "source": [
    "best_boundary_operators = {\n",
    "    k: boundary_operator_solutions[(*k, v[0])]\n",
    "    for k, v in best_score_pairs.items()\n",
    "}"
   ]
  },
  {
   "cell_type": "code",
   "execution_count": 27,
   "id": "42992661-50a4-4bdf-8039-26eccee167ae",
   "metadata": {},
   "outputs": [
    {
     "data": {
      "text/plain": [
       "63"
      ]
     },
     "execution_count": 27,
     "metadata": {},
     "output_type": "execute_result"
    }
   ],
   "source": [
    "len(best_boundary_operators)"
   ]
  },
  {
   "cell_type": "markdown",
   "id": "c63383d4-bbde-443a-92a9-97b613c0d54b",
   "metadata": {},
   "source": [
    "# Definitions"
   ]
  },
  {
   "cell_type": "code",
   "execution_count": 28,
   "id": "6e3a806a-6e88-4073-8cb4-a46345cdb810",
   "metadata": {},
   "outputs": [],
   "source": [
    "np_I = np.array([[1,0],[0,1]])\n",
    "np_X = np.array([[0,1],[1,0]])"
   ]
  },
  {
   "cell_type": "code",
   "execution_count": 29,
   "id": "ddc01bac-517f-4922-9df0-28b400f70a3e",
   "metadata": {},
   "outputs": [],
   "source": [
    "symmetry_actions = [\n",
    "    [np_I, np_I],\n",
    "    [np_I, np_X],\n",
    "    [np_X, np_I],\n",
    "    [np_X, np_X]\n",
    "]"
   ]
  },
  {
   "cell_type": "code",
   "execution_count": 30,
   "id": "10721838-5776-4da8-9618-01dd30494f13",
   "metadata": {},
   "outputs": [],
   "source": [
    "symmetry_labels = [\n",
    "    'II',\n",
    "    'IX',\n",
    "    'XI',\n",
    "    'XX'\n",
    "]"
   ]
  },
  {
   "cell_type": "code",
   "execution_count": 31,
   "id": "608e2be7-7003-4d86-8bdc-bb7519c6c30c",
   "metadata": {},
   "outputs": [],
   "source": [
    "def generate_problem_rdm(quimb_psi, symmetry_site_pairs, leftmost_symmetry_site,\n",
    "                         num_symmetry_sites, num_boundary_sites):\n",
    "    q_top = quimb_psi.copy(deep=True)\n",
    "    for i, s in symmetry_site_pairs:\n",
    "        q_top.gate(\n",
    "            s,\n",
    "            where=i,\n",
    "            contract=False,\n",
    "            inplace=True\n",
    "        )\n",
    "\n",
    "    \n",
    "    indices_to_map = list(chain(\n",
    "        range(leftmost_symmetry_site-num_boundary_sites, leftmost_symmetry_site),\n",
    "        range(leftmost_symmetry_site+num_symmetry_sites, leftmost_symmetry_site+num_symmetry_sites+num_boundary_sites)\n",
    "    ))\n",
    "\n",
    "    index_mapping = {f'k{i}': f'b{i}' for i in indices_to_map}\n",
    "\n",
    "    q_bottom = (\n",
    "        quimb_psi\n",
    "        .copy()\n",
    "        .reindex(index_mapping, inplace=True)\n",
    "        .conj()\n",
    "    )\n",
    "\n",
    "    sites_to_contract = {\n",
    "        'left': list(range(leftmost_symmetry_site-num_boundary_sites)),\n",
    "        'middle': list(range(leftmost_symmetry_site, leftmost_symmetry_site+num_symmetry_sites)),\n",
    "        'right': list(range(leftmost_symmetry_site+num_symmetry_sites+num_boundary_sites, quimb_psi.L))\n",
    "    }\n",
    "\n",
    "    tags_to_contract = {\n",
    "        k: [f'I{i}' for i in v]\n",
    "        for k, v in sites_to_contract.items()\n",
    "    }\n",
    "\n",
    "    tn = (q_top & q_bottom)\n",
    "\n",
    "    \"\"\"\n",
    "    tnc = (\n",
    "        tn\n",
    "        .contract(tags_to_contract['left'])\n",
    "        .contract(tags_to_contract['middle'])\n",
    "        .contract(tags_to_contract['right'])\n",
    "    )\n",
    "    \"\"\"\n",
    "\n",
    "    tnc = tn.contract()\n",
    "\n",
    "    return tnc"
   ]
  },
  {
   "cell_type": "code",
   "execution_count": 32,
   "id": "ba959b71-464d-4c96-ac7f-08790107cdc0",
   "metadata": {},
   "outputs": [],
   "source": [
    "def generate_rdm(quimb_psi, left_site_index, right_site_index):\n",
    "    indices_to_map = list(range(left_site_index, right_site_index + 1))\n",
    "\n",
    "    index_mapping = {f'k{i}': f'b{i}' for i in indices_to_map}\n",
    "\n",
    "    q_bottom = (\n",
    "        quimb_psi\n",
    "        .copy()\n",
    "        .reindex(index_mapping, inplace=True)\n",
    "        .conj()\n",
    "    )\n",
    "\n",
    "    tn = (quimb_psi & q_bottom)\n",
    "    tnc = tn.contract()\n",
    "\n",
    "    return tnc"
   ]
  },
  {
   "cell_type": "code",
   "execution_count": 33,
   "id": "38e68758-b251-404d-8058-8db81c93fcd1",
   "metadata": {},
   "outputs": [],
   "source": [
    "def generate_boundary_rdms(quimb_psi, leftmost_symmetry_site,\n",
    "    num_symmetry_sites, num_boundary_sites):\n",
    "\n",
    "    left_rdm = generate_rdm(\n",
    "        quimb_psi,\n",
    "        leftmost_symmetry_site-num_boundary_sites,\n",
    "        leftmost_symmetry_site-1\n",
    "    )\n",
    "\n",
    "    right_rdm = generate_rdm(\n",
    "        quimb_psi,\n",
    "        leftmost_symmetry_site+num_symmetry_sites,\n",
    "        leftmost_symmetry_site+num_symmetry_sites+num_boundary_sites-1\n",
    "    )\n",
    "\n",
    "    return left_rdm, right_rdm"
   ]
  },
  {
   "cell_type": "markdown",
   "id": "56525c31-f37b-4245-b2ec-82185feed908",
   "metadata": {},
   "source": [
    "## Optimisation functions"
   ]
  },
  {
   "cell_type": "code",
   "execution_count": 34,
   "id": "ad93555d-f4af-4fa2-96fc-2a54f95466e0",
   "metadata": {},
   "outputs": [],
   "source": [
    "def split_mpo_pair(mpo_pair):\n",
    "    ml = qtn.TensorNetwork(\n",
    "        list(map(mpo_pair.tensor_map.__getitem__, mpo_pair.tag_map['left_mpo']))\n",
    "    )\n",
    "\n",
    "    mr = qtn.TensorNetwork(\n",
    "        list(map(mpo_pair.tensor_map.__getitem__, mpo_pair.tag_map['right_mpo']))\n",
    "    )\n",
    "\n",
    "    return (ml, mr)"
   ]
  },
  {
   "cell_type": "code",
   "execution_count": 35,
   "id": "e41dad25-3a05-450c-a853-76a24e53f6bd",
   "metadata": {},
   "outputs": [],
   "source": [
    "def overlap_loss_function(ml, mr, rdm_tn, epsilon=0):\n",
    "    c = (rdm_tn & ml & mr) ^ ...\n",
    "\n",
    "    c_abs_squared = (\n",
    "        c\n",
    "        *jnp.conjugate(c)\n",
    "    )\n",
    "    #c_abs_squared = c_abs_squared.astype('float32')\n",
    "    c_abs = (jnp.sqrt(c_abs_squared+epsilon))\n",
    "\n",
    "    target = jnp.sqrt(1+epsilon)\n",
    "    loss = (c_abs - target)**2\n",
    "\n",
    "    return loss"
   ]
  },
  {
   "cell_type": "code",
   "execution_count": 36,
   "id": "d739d242-7370-4763-8ff2-9e6c2a9bc9ad",
   "metadata": {},
   "outputs": [],
   "source": [
    "def overlap_loss_function_mpo_pair(mpo_pair, rdm_tn):\n",
    "    ml, mr = split_mpo_pair(mpo_pair)\n",
    "\n",
    "    return overlap_loss_function(ml, mr, rdm_tn)"
   ]
  },
  {
   "cell_type": "code",
   "execution_count": 37,
   "id": "0f466494-c220-4ee0-9ae1-0a0a14a38e88",
   "metadata": {},
   "outputs": [],
   "source": [
    "regex_s = r\"^I\\d+$\"\n",
    "regex_p = re.compile(regex_s)"
   ]
  },
  {
   "cell_type": "code",
   "execution_count": 38,
   "id": "23b12517-79b5-45b5-8ae8-07b08b68805d",
   "metadata": {},
   "outputs": [],
   "source": [
    "def relabel_mpo(mpo, k_label, b_label):\n",
    "    site_locs = [\n",
    "        int(k[1:]) for k in mpo.tag_map\n",
    "        if bool(re.search(regex_p, k))\n",
    "    ]\n",
    "\n",
    "    k_in_indices = [f'k{i}' for i in site_locs]\n",
    "    j_in_indices = [f'b{i}' for i in site_locs]\n",
    "\n",
    "    k_out_indices = [f'{k_label}{i}' for i in site_locs]\n",
    "    j_out_indices = [f'{b_label}{i}' for i in site_locs]\n",
    "\n",
    "    mapping = dict(\n",
    "        chain(\n",
    "            zip(k_in_indices, k_out_indices),\n",
    "            zip(j_in_indices, j_out_indices)\n",
    "        )\n",
    "    )\n",
    "\n",
    "    mpo.reindex(mapping, inplace=True)"
   ]
  },
  {
   "cell_type": "code",
   "execution_count": 39,
   "id": "a51b6cd6-be16-433c-a0fd-91fce71aff8f",
   "metadata": {},
   "outputs": [],
   "source": [
    "def unitarity_tn(tn, total_physical_dim):\n",
    "    ms = [tn.copy(), tn.copy(), tn.copy()]\n",
    "\n",
    "    relabel_mpo(ms[0], 'k', 'l')\n",
    "    relabel_mpo(ms[1], 'm', 'l')\n",
    "    relabel_mpo(ms[2], 'm', 'b')\n",
    "\n",
    "    ms[0] = ms[0].conj()\n",
    "    ms[2] = ms[2].conj()\n",
    "\n",
    "    n2tn = (tn & tn.conj())\n",
    "    n2 = n2tn.contract(n2tn.tag_map)\n",
    "    n4tn = (tn & ms[0] & ms[1] & ms[2])\n",
    "    n4 = n4tn.contract(n4tn.tag_map)\n",
    "\n",
    "    out = jnp.real(n4 - 2*n2 + total_physical_dim)\n",
    "\n",
    "    return out"
   ]
  },
  {
   "cell_type": "code",
   "execution_count": 40,
   "id": "43d0c110-9e4c-4981-8f32-16cf01445fa4",
   "metadata": {},
   "outputs": [],
   "source": [
    "def overall_loss_function(mpo_pair, rdm_tn, total_physical_dimension,\n",
    "    unitary_cost_coefficient=1, overlap_cost_coefficient=1, losses=None):\n",
    "    ml, mr = split_mpo_pair(mpo_pair)\n",
    "\n",
    "    o_loss = overlap_loss_function(ml, mr, rdm_tn)\n",
    "    ul_loss = unitarity_tn(ml, total_physical_dimension)\n",
    "    ur_loss = unitarity_tn(mr, total_physical_dimension)\n",
    "\n",
    "    out = (\n",
    "        unitary_cost_coefficient*(ul_loss+ur_loss)\n",
    "        + overlap_cost_coefficient*o_loss\n",
    "    )\n",
    "\n",
    "    out = jnp.real(out)\n",
    "\n",
    "    if losses is not None:\n",
    "        losses.append((o_loss, ul_loss, ur_loss))\n",
    "    return out"
   ]
  },
  {
   "cell_type": "markdown",
   "id": "46d2aae5-493e-4997-92d9-23b88456b904",
   "metadata": {},
   "source": [
    "## SPT extraction functions"
   ]
  },
  {
   "cell_type": "code",
   "execution_count": 41,
   "id": "d1cd215b-c62c-405e-9adc-9a97db7142e2",
   "metadata": {},
   "outputs": [],
   "source": [
    "symmetry_combination_labels = list(combinations(symmetry_labels, 2))"
   ]
  },
  {
   "cell_type": "code",
   "execution_count": 42,
   "id": "45a081ff-eb82-4ff5-9700-55f11824f366",
   "metadata": {},
   "outputs": [
    {
     "data": {
      "text/plain": [
       "[('II', 'IX'),\n",
       " ('II', 'XI'),\n",
       " ('II', 'XX'),\n",
       " ('IX', 'XI'),\n",
       " ('IX', 'XX'),\n",
       " ('XI', 'XX')]"
      ]
     },
     "execution_count": 42,
     "metadata": {},
     "output_type": "execute_result"
    }
   ],
   "source": [
    "symmetry_combination_labels"
   ]
  },
  {
   "cell_type": "code",
   "execution_count": 43,
   "id": "aab20cf0-ae51-4603-9192-5ba0741b6a6d",
   "metadata": {},
   "outputs": [],
   "source": [
    "e, a, b, c = symmetry_labels"
   ]
  },
  {
   "cell_type": "code",
   "execution_count": 44,
   "id": "955bfb99-9c73-4794-b14e-f62f7872abe5",
   "metadata": {},
   "outputs": [],
   "source": [
    "group_products = [\n",
    "    (a, b, c),\n",
    "    (b, a, c),\n",
    "    (a, c, b),\n",
    "    (c, a, b),\n",
    "    (c, b, a),\n",
    "    (b, c, a)\n",
    "]"
   ]
  },
  {
   "cell_type": "code",
   "execution_count": 45,
   "id": "af242bf1-7146-4c72-9852-d4946fc00791",
   "metadata": {},
   "outputs": [],
   "source": [
    "test_psi = psi_dict[0]"
   ]
  },
  {
   "cell_type": "code",
   "execution_count": 46,
   "id": "97145e7e-15ff-4f47-a2ec-4503849e329a",
   "metadata": {},
   "outputs": [
    {
     "data": {
      "text/plain": [
       "<npc.Array shape=(16384,) labels=['ps']>"
      ]
     },
     "execution_count": 46,
     "metadata": {},
     "output_type": "execute_result"
    }
   ],
   "source": [
    "test_psi"
   ]
  },
  {
   "cell_type": "code",
   "execution_count": 47,
   "id": "3bf8038b-bcf3-4b10-ba38-f3284d61e0f6",
   "metadata": {},
   "outputs": [],
   "source": [
    "quimb_psi = qtn.Dense1D(\n",
    "    test_psi.to_ndarray(),\n",
    "    phys_dim=2\n",
    ")"
   ]
  },
  {
   "cell_type": "code",
   "execution_count": 48,
   "id": "09c2586a-3974-4cc9-b858-b7e8e6125900",
   "metadata": {},
   "outputs": [
    {
     "data": {
      "text/html": [
       "<samp style='font-size: 12px;'><details><summary><b style=\"color: #2fd233;\">Dense1D</b>(tensors=1, indices=14, L=14, max_bond=None)</summary><samp style='font-size: 12px;'><details><summary><b style=\"color: #e55471;\">Tensor</b>(shape=(<b style=\"color: #828fdd;\">2</b>, <b style=\"color: #828fdd;\">2</b>, <b style=\"color: #828fdd;\">2</b>, <b style=\"color: #828fdd;\">2</b>, <b style=\"color: #828fdd;\">2</b>, <b style=\"color: #828fdd;\">2</b>, <b style=\"color: #828fdd;\">2</b>, <b style=\"color: #828fdd;\">2</b>, <b style=\"color: #828fdd;\">2</b>, <b style=\"color: #828fdd;\">2</b>, <b style=\"color: #828fdd;\">2</b>, <b style=\"color: #828fdd;\">2</b>, <b style=\"color: #828fdd;\">2</b>, <b style=\"color: #828fdd;\">2</b>), inds=[<b style=\"color: #b1dc61;\">k0</b>, <b style=\"color: #8aa5db;\">k1</b>, <b style=\"color: #df546d;\">k2</b>, <b style=\"color: #4c7be1;\">k3</b>, <b style=\"color: #462edc;\">k4</b>, <b style=\"color: #85dfdf;\">k5</b>, <b style=\"color: #2cb7d3;\">k6</b>, <b style=\"color: #53e08f;\">k7</b>, <b style=\"color: #7bcd9f;\">k8</b>, <b style=\"color: #cc70c1;\">k9</b>, <b style=\"color: #3fcf58;\">k10</b>, <b style=\"color: #6d6fcf;\">k11</b>, <b style=\"color: #70c0d6;\">k12</b>, <b style=\"color: #67b9df;\">k13</b>], tags={<b style=\"color: #d2b137;\">I0</b>, <b style=\"color: #d19b78;\">I1</b>, <b style=\"color: #dd5dd7;\">I2</b>, <b style=\"color: #dd65d9;\">I3</b>, <b style=\"color: #998ad1;\">I4</b>, <b style=\"color: #97dddc;\">I5</b>, <b style=\"color: #b2de5f;\">I6</b>, <b style=\"color: #5582d6;\">I7</b>, <b style=\"color: #8a3dd8;\">I8</b>, <b style=\"color: #d74979;\">I9</b>, <b style=\"color: #4e2bd3;\">I10</b>, <b style=\"color: #cc3988;\">I11</b>, <b style=\"color: #30a0d2;\">I12</b>, <b style=\"color: #59aad4;\">I13</b>}),</summary>backend=<b style=\"color: #7fdd73;\">numpy</b>, dtype=<b style=\"color: #75d2c6;\">float64</b>, data=...</details></samp></details></samp>"
      ],
      "text/plain": [
       "Dense1D(tensors=1, indices=14, L=14, max_bond=None)"
      ]
     },
     "execution_count": 48,
     "metadata": {},
     "output_type": "execute_result"
    }
   ],
   "source": [
    "quimb_psi"
   ]
  },
  {
   "cell_type": "code",
   "execution_count": 49,
   "id": "2ed0b694-9eba-4b91-8343-b95648bb797a",
   "metadata": {},
   "outputs": [],
   "source": [
    "test_mpo = split_mpo_pair(best_boundary_operators[(0,1)][1])[1]"
   ]
  },
  {
   "cell_type": "code",
   "execution_count": 50,
   "id": "4174c639-7c56-4645-bfa2-bd76e74638d9",
   "metadata": {},
   "outputs": [
    {
     "data": {
      "image/png": "[encoded data removed]",
      "text/plain": [
       "<Figure size 600x600 with 1 Axes>"
      ]
     },
     "metadata": {
      "needs_background": "light"
     },
     "output_type": "display_data"
    }
   ],
   "source": [
    "test_mpo.draw()"
   ]
  },
  {
   "cell_type": "code",
   "execution_count": 52,
   "id": "5928c632-fb74-4d1e-801f-d61ed04d165e",
   "metadata": {},
   "outputs": [],
   "source": [
    "def get_proj_rep_phase(rho, u_g, u_h, u_gh):\n",
    "    us = [u_g.copy(), u_h.copy(), u_gh.copy()]\n",
    "\n",
    "    relabel_mpo(us[0], 'l', 'k')\n",
    "    relabel_mpo(us[1], 'm', 'l')\n",
    "    relabel_mpo(us[2], 'b', 'm')\n",
    "\n",
    "    us[2] = us[2].conj()\n",
    "\n",
    "    tn = rho & us[0] & us[1] & us[2]\n",
    "    exp = tn.contract(tn.tag_map)\n",
    "\n",
    "    out = exp/np.abs(exp)\n",
    "\n",
    "    return out"
   ]
  },
  {
   "cell_type": "code",
   "execution_count": 53,
   "id": "2f6a12cd-de94-452f-8fca-732a82c3ad58",
   "metadata": {},
   "outputs": [],
   "source": [
    "def tensor_network_to_mpo(tn):\n",
    "    sites = [\n",
    "        int(s[1:]) for s in tn.tag_map\n",
    "        if s[0]=='I'\n",
    "    ]\n",
    "    \n",
    "    rho = qtn.MatrixProductOperator(\n",
    "        [t.data for t in tn.tensors],\n",
    "        sites=sites\n",
    "    )\n",
    "\n",
    "    return rho"
   ]
  },
  {
   "cell_type": "code",
   "execution_count": 54,
   "id": "dcb4078a-9db2-44cc-89e1-4ec295806d87",
   "metadata": {},
   "outputs": [],
   "source": [
    "def get_proj_rep_phases(rho, unitaries):\n",
    "    out = list()\n",
    "\n",
    "    unitaries_dict = {\n",
    "        k: v for k, v in zip(symmetry_labels[1:], unitaries)\n",
    "    }\n",
    "\n",
    "    out_phases = list()\n",
    "    for a, b, c in group_products:\n",
    "        phase = get_proj_rep_phase(\n",
    "            rho,\n",
    "            unitaries_dict[a],\n",
    "            unitaries_dict[b],\n",
    "            unitaries_dict[c]\n",
    "        )\n",
    "\n",
    "        out_phases.append(phase)\n",
    "\n",
    "    return out_phases"
   ]
  },
  {
   "cell_type": "markdown",
   "id": "878a8b52-3ca8-4d83-ace1-24e0cb0c4cbe",
   "metadata": {},
   "source": [
    "# Extract phases"
   ]
  },
  {
   "cell_type": "code",
   "execution_count": 55,
   "id": "0f2fc51c-f16f-45c0-b7e4-94161e06a1a7",
   "metadata": {},
   "outputs": [],
   "source": [
    "b_params = np.round(np.linspace(0, 2, 21), 3)"
   ]
  },
  {
   "cell_type": "code",
   "execution_count": 56,
   "id": "27e817ec-36de-47bb-8f67-46081193095a",
   "metadata": {},
   "outputs": [],
   "source": [
    "num_boundary_sites=4\n",
    "leftmost_symmetry_site=5\n",
    "num_symmetry_sites=4"
   ]
  },
  {
   "cell_type": "code",
   "execution_count": 57,
   "id": "31be5c5d-ae70-4c4e-b959-1bf10a36ea3d",
   "metadata": {},
   "outputs": [],
   "source": [
    "proj_rep_phases = list()\n",
    "\n",
    "for t in b_params:\n",
    "    tenpy_psi = psi_dict[t]\n",
    "\n",
    "    quimb_psi = qtn.Dense1D(\n",
    "        tenpy_psi.to_ndarray(),\n",
    "        phys_dim=2\n",
    "    )\n",
    "\n",
    "    left_rdm, right_rdm = generate_boundary_rdms(\n",
    "        quimb_psi,\n",
    "        leftmost_symmetry_site,\n",
    "        num_symmetry_sites,\n",
    "        num_boundary_sites\n",
    "    )\n",
    "\n",
    "    unitaries = [best_boundary_operators[(t, i)][1] for i in [1,2,3]]\n",
    "\n",
    "    unitary_pairs = [split_mpo_pair(p) for p in unitaries]\n",
    "    mpo_pairs = [(tensor_network_to_mpo(x), tensor_network_to_mpo(y)) for x,y in unitary_pairs]\n",
    "    left_unitaries, right_unitaries = zip(*mpo_pairs)\n",
    "\n",
    "    left_phases = get_proj_rep_phases(left_rdm, left_unitaries)\n",
    "    right_phases = get_proj_rep_phases(right_rdm, right_unitaries)\n",
    "\n",
    "    proj_rep_phases.append([left_phases, right_phases])"
   ]
  },
  {
   "cell_type": "code",
   "execution_count": 58,
   "id": "fd57ff16-2aa4-45e5-b988-322691674a76",
   "metadata": {},
   "outputs": [],
   "source": [
    "proj_rep_phases = np.array(proj_rep_phases)"
   ]
  },
  {
   "cell_type": "code",
   "execution_count": 59,
   "id": "2a9d8acd-e78e-4baa-b1c3-6e5bf5dbad51",
   "metadata": {},
   "outputs": [
    {
     "data": {
      "text/plain": [
       "(21, 2, 6)"
      ]
     },
     "execution_count": 59,
     "metadata": {},
     "output_type": "execute_result"
    }
   ],
   "source": [
    "proj_rep_phases.shape"
   ]
  },
  {
   "cell_type": "code",
   "execution_count": 60,
   "id": "a505756e-66fe-4e72-b9f1-a75815fb604f",
   "metadata": {},
   "outputs": [
    {
     "data": {
      "text/plain": [
       "array([0. , 0.1, 0.2, 0.3, 0.4, 0.5, 0.6, 0.7, 0.8, 0.9, 1. , 1.1, 1.2,\n",
       "       1.3, 1.4, 1.5, 1.6, 1.7, 1.8, 1.9, 2. ])"
      ]
     },
     "execution_count": 60,
     "metadata": {},
     "output_type": "execute_result"
    }
   ],
   "source": [
    "b_params"
   ]
  },
  {
   "cell_type": "code",
   "execution_count": 61,
   "id": "aca352cb-5ffd-45a4-9db0-9d856ba37946",
   "metadata": {},
   "outputs": [
    {
     "data": {
      "text/plain": [
       "21"
      ]
     },
     "execution_count": 61,
     "metadata": {},
     "output_type": "execute_result"
    }
   ],
   "source": [
    "len(b_params)"
   ]
  },
  {
   "cell_type": "code",
   "execution_count": 62,
   "id": "b570d275-0a7d-4c29-b90d-5db7fe82be43",
   "metadata": {},
   "outputs": [
    {
     "data": {
      "text/plain": [
       "array([[[-1.-0.j  , -1.+0.j  , -1.-0.j  ],\n",
       "        [-1.+0.j  , -1.-0.j  , -1.+0.j  ]],\n",
       "\n",
       "       [[-1.-0.j  , -1.-0.j  , -1.-0.j  ],\n",
       "        [-1.-0.j  , -1.-0.j  , -1.-0.j  ]],\n",
       "\n",
       "       [[-1.+0.j  , -1.+0.j  , -1.+0.j  ],\n",
       "        [-1.+0.j  , -1.-0.j  , -1.-0.j  ]],\n",
       "\n",
       "       [[-1.-0.j  , -1.-0.j  , -1.-0.j  ],\n",
       "        [-1.+0.j  , -1.-0.j  , -1.+0.j  ]],\n",
       "\n",
       "       [[-1.-0.02j, -1.+0.j  , -1.-0.02j],\n",
       "        [-1.-0.01j, -1.-0.j  , -1.-0.01j]],\n",
       "\n",
       "       [[-1.-0.j  , -1.-0.j  , -1.+0.j  ],\n",
       "        [-1.-0.j  , -1.-0.j  , -1.-0.j  ]],\n",
       "\n",
       "       [[-1.+0.j  , -1.-0.01j, -1.+0.j  ],\n",
       "        [-1.+0.j  , -1.+0.j  , -1.-0.01j]],\n",
       "\n",
       "       [[-1.-0.j  , -1.-0.j  , -1.-0.j  ],\n",
       "        [-1.+0.j  , -1.+0.j  , -1.+0.j  ]],\n",
       "\n",
       "       [[ 1.+0.j  ,  1.+0.j  ,  1.+0.j  ],\n",
       "        [ 1.-0.j  ,  1.+0.j  ,  1.+0.j  ]],\n",
       "\n",
       "       [[ 1.-0.01j,  1.+0.01j,  1.-0.01j],\n",
       "        [ 1.+0.01j,  1.+0.01j,  1.-0.j  ]],\n",
       "\n",
       "       [[ 1.-0.j  ,  1.-0.01j,  1.+0.j  ],\n",
       "        [ 1.-0.j  ,  1.-0.j  ,  1.-0.01j]],\n",
       "\n",
       "       [[ 1.+0.j  ,  1.+0.04j,  1.-0.j  ],\n",
       "        [ 1.-0.j  ,  1.+0.j  ,  1.+0.03j]],\n",
       "\n",
       "       [[ 1.-0.01j,  1.-0.01j,  1.-0.j  ],\n",
       "        [ 1.+0.j  ,  1.+0.02j,  1.+0.01j]],\n",
       "\n",
       "       [[ 1.-0.01j,  1.-0.02j,  1.-0.j  ],\n",
       "        [ 1.+0.j  ,  1.-0.j  ,  1.+0.03j]],\n",
       "\n",
       "       [[ 1.+0.j  ,  1.-0.01j,  1.-0.j  ],\n",
       "        [ 1.+0.02j,  1.-0.01j,  1.+0.j  ]],\n",
       "\n",
       "       [[ 1.+0.j  ,  1.+0.j  ,  1.-0.j  ],\n",
       "        [ 1.-0.01j,  1.+0.j  ,  1.+0.j  ]],\n",
       "\n",
       "       [[ 1.-0.01j,  1.-0.j  ,  1.-0.01j],\n",
       "        [ 1.+0.01j,  1.+0.j  ,  1.-0.j  ]],\n",
       "\n",
       "       [[ 1.-0.01j,  1.+0.j  ,  1.+0.j  ],\n",
       "        [ 1.+0.01j,  1.+0.j  ,  1.-0.j  ]],\n",
       "\n",
       "       [[ 1.-0.j  ,  1.+0.01j,  1.-0.01j],\n",
       "        [ 1.+0.j  ,  1.+0.01j,  1.+0.j  ]],\n",
       "\n",
       "       [[ 1.+0.01j,  1.+0.01j,  1.-0.j  ],\n",
       "        [ 1.-0.j  ,  1.-0.j  ,  1.-0.j  ]],\n",
       "\n",
       "       [[ 1.+0.01j,  1.-0.01j,  1.+0.j  ],\n",
       "        [ 1.-0.01j,  1.+0.02j,  1.+0.02j]]])"
      ]
     },
     "execution_count": 62,
     "metadata": {},
     "output_type": "execute_result"
    }
   ],
   "source": [
    "np.round(\n",
    "    proj_rep_phases[..., ::2]/proj_rep_phases[..., 1::2],\n",
    "    2\n",
    ")"
   ]
  },
  {
   "cell_type": "code",
   "execution_count": 63,
   "id": "eab6d72f-b056-414f-b3ab-3a39d21281bb",
   "metadata": {},
   "outputs": [],
   "source": [
    "gauge_invariant_proj_rep_phase = proj_rep_phases[..., ::2]/proj_rep_phases[..., 1::2]"
   ]
  },
  {
   "cell_type": "code",
   "execution_count": 64,
   "id": "4747c1b3-e5d5-4461-a6b3-84f5304a7ead",
   "metadata": {},
   "outputs": [
    {
     "data": {
      "text/plain": [
       "array([[[-1.-0.j  , -1.+0.j  , -1.-0.j  ],\n",
       "        [-1.+0.j  , -1.-0.j  , -1.+0.j  ]],\n",
       "\n",
       "       [[-1.-0.j  , -1.-0.j  , -1.-0.j  ],\n",
       "        [-1.-0.j  , -1.-0.j  , -1.-0.j  ]],\n",
       "\n",
       "       [[-1.+0.j  , -1.+0.j  , -1.+0.j  ],\n",
       "        [-1.+0.j  , -1.-0.j  , -1.-0.j  ]],\n",
       "\n",
       "       [[-1.-0.j  , -1.-0.j  , -1.-0.j  ],\n",
       "        [-1.+0.j  , -1.-0.j  , -1.+0.j  ]],\n",
       "\n",
       "       [[-1.-0.02j, -1.+0.j  , -1.-0.02j],\n",
       "        [-1.-0.01j, -1.-0.j  , -1.-0.01j]],\n",
       "\n",
       "       [[-1.-0.j  , -1.-0.j  , -1.+0.j  ],\n",
       "        [-1.-0.j  , -1.-0.j  , -1.-0.j  ]],\n",
       "\n",
       "       [[-1.+0.j  , -1.-0.01j, -1.+0.j  ],\n",
       "        [-1.+0.j  , -1.+0.j  , -1.-0.01j]],\n",
       "\n",
       "       [[-1.-0.j  , -1.-0.j  , -1.-0.j  ],\n",
       "        [-1.+0.j  , -1.+0.j  , -1.+0.j  ]]])"
      ]
     },
     "execution_count": 64,
     "metadata": {},
     "output_type": "execute_result"
    }
   ],
   "source": [
    "np.round(gauge_invariant_proj_rep_phase[:8], 2)"
   ]
  },
  {
   "cell_type": "code",
   "execution_count": 65,
   "id": "7ddaec11-38f5-40cb-bebc-49c5a17fd84a",
   "metadata": {},
   "outputs": [
    {
     "data": {
      "text/plain": [
       "array([[[1.+0.j  , 1.+0.j  , 1.+0.j  ],\n",
       "        [1.-0.j  , 1.+0.j  , 1.+0.j  ]],\n",
       "\n",
       "       [[1.-0.01j, 1.+0.01j, 1.-0.01j],\n",
       "        [1.+0.01j, 1.+0.01j, 1.-0.j  ]],\n",
       "\n",
       "       [[1.-0.j  , 1.-0.01j, 1.+0.j  ],\n",
       "        [1.-0.j  , 1.-0.j  , 1.-0.01j]],\n",
       "\n",
       "       [[1.+0.j  , 1.+0.04j, 1.-0.j  ],\n",
       "        [1.-0.j  , 1.+0.j  , 1.+0.03j]],\n",
       "\n",
       "       [[1.-0.01j, 1.-0.01j, 1.-0.j  ],\n",
       "        [1.+0.j  , 1.+0.02j, 1.+0.01j]],\n",
       "\n",
       "       [[1.-0.01j, 1.-0.02j, 1.-0.j  ],\n",
       "        [1.+0.j  , 1.-0.j  , 1.+0.03j]],\n",
       "\n",
       "       [[1.+0.j  , 1.-0.01j, 1.-0.j  ],\n",
       "        [1.+0.02j, 1.-0.01j, 1.+0.j  ]],\n",
       "\n",
       "       [[1.+0.j  , 1.+0.j  , 1.-0.j  ],\n",
       "        [1.-0.01j, 1.+0.j  , 1.+0.j  ]],\n",
       "\n",
       "       [[1.-0.01j, 1.-0.j  , 1.-0.01j],\n",
       "        [1.+0.01j, 1.+0.j  , 1.-0.j  ]],\n",
       "\n",
       "       [[1.-0.01j, 1.+0.j  , 1.+0.j  ],\n",
       "        [1.+0.01j, 1.+0.j  , 1.-0.j  ]],\n",
       "\n",
       "       [[1.-0.j  , 1.+0.01j, 1.-0.01j],\n",
       "        [1.+0.j  , 1.+0.01j, 1.+0.j  ]],\n",
       "\n",
       "       [[1.+0.01j, 1.+0.01j, 1.-0.j  ],\n",
       "        [1.-0.j  , 1.-0.j  , 1.-0.j  ]],\n",
       "\n",
       "       [[1.+0.01j, 1.-0.01j, 1.+0.j  ],\n",
       "        [1.-0.01j, 1.+0.02j, 1.+0.02j]]])"
      ]
     },
     "execution_count": 65,
     "metadata": {},
     "output_type": "execute_result"
    }
   ],
   "source": [
    "np.round(gauge_invariant_proj_rep_phase[8:], 2)"
   ]
  },
  {
   "cell_type": "code",
   "execution_count": 66,
   "id": "e3220a0d-cd8f-406d-abd5-34325f153f1b",
   "metadata": {},
   "outputs": [],
   "source": [
    "delta_gauge_invariant_proj_rep_phase = gauge_invariant_proj_rep_phase.copy()\n",
    "delta_gauge_invariant_proj_rep_phase[:8]*=-1"
   ]
  },
  {
   "cell_type": "code",
   "execution_count": 67,
   "id": "524288bd-7646-4858-8188-1e8189fc7091",
   "metadata": {},
   "outputs": [],
   "source": [
    "delta_gauge_invariant_proj_rep_angle = np.imag(np.log(delta_gauge_invariant_proj_rep_phase))"
   ]
  },
  {
   "cell_type": "code",
   "execution_count": 68,
   "id": "9538d135-3d74-484f-8bc2-99eee0bc5ca3",
   "metadata": {},
   "outputs": [
    {
     "data": {
      "text/plain": [
       "(21, 2, 3)"
      ]
     },
     "execution_count": 68,
     "metadata": {},
     "output_type": "execute_result"
    }
   ],
   "source": [
    "delta_gauge_invariant_proj_rep_angle.shape"
   ]
  },
  {
   "cell_type": "code",
   "execution_count": 69,
   "id": "ac37af32-5e58-4bb4-a25d-d31fbf69db38",
   "metadata": {},
   "outputs": [],
   "source": [
    "markers = ['<', '>']"
   ]
  },
  {
   "cell_type": "code",
   "execution_count": 70,
   "id": "9fe50ec7-2fd4-438d-9065-780d09fde9f0",
   "metadata": {},
   "outputs": [],
   "source": [
    "colors = [\n",
    "    'tab:blue',\n",
    "    'tab:orange',\n",
    "    'tab:green'\n",
    "]   "
   ]
  },
  {
   "cell_type": "code",
   "execution_count": 71,
   "id": "279624b9-c293-4020-8b0f-bff0167f77a8",
   "metadata": {},
   "outputs": [],
   "source": [
    "e, a, b, c = symmetry_labels"
   ]
  },
  {
   "cell_type": "code",
   "execution_count": 72,
   "id": "d1e764db-d3cd-4216-9d5e-c5ddad7893f3",
   "metadata": {},
   "outputs": [],
   "source": [
    "symmetry_pair_labels = [\n",
    "    a + ',' + b,\n",
    "    a + ',' + c,\n",
    "    c + ',' + b\n",
    "]"
   ]
  },
  {
   "cell_type": "code",
   "execution_count": 73,
   "id": "715be721-dd85-4327-8b7f-7420cababb49",
   "metadata": {},
   "outputs": [],
   "source": [
    "side_labels = ['Left', 'Right']"
   ]
  },
  {
   "cell_type": "code",
   "execution_count": 74,
   "id": "e11cbe4a-00b8-4732-8c5b-6d567dbaa591",
   "metadata": {},
   "outputs": [
    {
     "data": {
      "image/png": "[encoded data removed]",
      "text/plain": [
       "<Figure size 600x400 with 1 Axes>"
      ]
     },
     "metadata": {},
     "output_type": "display_data"
    }
   ],
   "source": [
    "fig, ax = plt.subplots(figsize=(6, 4))\n",
    "\n",
    "for i, (marker, side_label) in enumerate(zip(markers, side_labels)):\n",
    "    for j, (col, label) in enumerate(zip(colors, symmetry_pair_labels)):\n",
    "        plt.scatter(\n",
    "            b_params,\n",
    "            delta_gauge_invariant_proj_rep_angle[:, i, j],\n",
    "            marker=marker,\n",
    "            color=col,\n",
    "            label = f'({label}), {side_label}'\n",
    "        )\n",
    "\n",
    "ax.xaxis.set_major_locator(\n",
    "    matplotlib.ticker.MultipleLocator(0.2)\n",
    ")\n",
    "\n",
    "ax.grid()\n",
    "\n",
    "ax.set_ylabel(r'$\\Delta \\Omega$', fontsize=13)\n",
    "ax.set_xlabel('$B$', fontsize=13)\n",
    "\n",
    "ax.legend(bbox_to_anchor=(1.02, 1.05), title='$(g,h)$, Side')\n",
    "\n",
    "fig.suptitle(r'$\\Delta \\Omega(g,h)$ as a function of $B$')\n",
    "\n",
    "fig.savefig(r'plots/ed_delta_proj_rep_angle_from_mpo_bosonic.png', dpi=200)"
   ]
  },
  {
   "cell_type": "code",
   "execution_count": 77,
   "id": "35f262c9-9ad3-48ed-a1d1-97b3ff49715a",
   "metadata": {},
   "outputs": [
    {
     "data": {
      "text/plain": [
       "0.03913240017626721"
      ]
     },
     "execution_count": 77,
     "metadata": {},
     "output_type": "execute_result"
    }
   ],
   "source": [
    "np.max(np.abs(delta_gauge_invariant_proj_rep_angle))"
   ]
  },
  {
   "cell_type": "code",
   "execution_count": 78,
   "id": "63660d34-2bca-46d0-ac92-4ad72ea2412c",
   "metadata": {},
   "outputs": [
    {
     "data": {
      "text/plain": [
       "0.02491245969241233"
      ]
     },
     "execution_count": 78,
     "metadata": {},
     "output_type": "execute_result"
    }
   ],
   "source": [
    "np.max(np.abs(delta_gauge_invariant_proj_rep_angle))/(np.pi/2)"
   ]
  },
  {
   "cell_type": "code",
   "execution_count": 80,
   "id": "c730309b-1547-4203-86c6-1af6190e88e6",
   "metadata": {},
   "outputs": [],
   "source": [
    "gauge_invariant_proj_rep_angle = np.imag(np.log(gauge_invariant_proj_rep_phase))\n",
    "gauge_invariant_proj_rep_angle[gauge_invariant_proj_rep_angle<=-np.pi/2] += 2*np.pi"
   ]
  },
  {
   "cell_type": "code",
   "execution_count": 81,
   "id": "cae17b77-4552-4fd0-811d-d97857a23e5f",
   "metadata": {},
   "outputs": [
    {
     "data": {
      "text/plain": [
       "(21, 2, 3)"
      ]
     },
     "execution_count": 81,
     "metadata": {},
     "output_type": "execute_result"
    }
   ],
   "source": [
    "gauge_invariant_proj_rep_angle.shape"
   ]
  },
  {
   "cell_type": "code",
   "execution_count": 82,
   "id": "86b9db5a-f84d-4a21-9034-2ee0a01f6ddd",
   "metadata": {},
   "outputs": [],
   "source": [
    "mean_gauge_invariant_proj_rep_angle = np.mean(gauge_invariant_proj_rep_angle, axis=(1,2))\n",
    "max_gauge_invariant_proj_rep_angle = np.max(gauge_invariant_proj_rep_angle, axis=(1,2))\n",
    "min_gauge_invariant_proj_rep_angle = np.min(gauge_invariant_proj_rep_angle, axis=(1,2))\n",
    "\n",
    "min_max_gauge_invariant_proj_rep_angle = np.stack(\n",
    "    [\n",
    "        min_gauge_invariant_proj_rep_angle,\n",
    "        max_gauge_invariant_proj_rep_angle\n",
    "    ],\n",
    "    axis=0\n",
    ")\n",
    "\n",
    "error_gauge_invariant_proj_rep_angle = (\n",
    "    min_max_gauge_invariant_proj_rep_angle\n",
    "    - mean_gauge_invariant_proj_rep_angle[np.newaxis, :]\n",
    ")\n",
    "error_gauge_invariant_proj_rep_angle = np.abs(error_gauge_invariant_proj_rep_angle)"
   ]
  },
  {
   "cell_type": "code",
   "execution_count": 83,
   "id": "eb187bc9-009d-4e2d-9ba3-58d91bf19861",
   "metadata": {},
   "outputs": [
    {
     "data": {
      "text/plain": [
       "0.03142499980137064"
      ]
     },
     "execution_count": 83,
     "metadata": {},
     "output_type": "execute_result"
    }
   ],
   "source": [
    "np.max(error_gauge_invariant_proj_rep_angle)"
   ]
  },
  {
   "cell_type": "code",
   "execution_count": 85,
   "id": "fce96620-9207-4ca1-b5d8-1383b3b1c7c5",
   "metadata": {},
   "outputs": [
    {
     "data": {
      "image/png": "[encoded data removed]",
      "text/plain": [
       "<Figure size 600x400 with 1 Axes>"
      ]
     },
     "metadata": {},
     "output_type": "display_data"
    }
   ],
   "source": [
    "fig, ax = plt.subplots(figsize=(6,4))\n",
    "\n",
    "plt.errorbar(\n",
    "    b_params,\n",
    "    mean_gauge_invariant_proj_rep_angle,\n",
    "    yerr=error_gauge_invariant_proj_rep_angle,\n",
    "    color='tab:blue',\n",
    "    fmt='-',\n",
    "    capsize=2\n",
    ")\n",
    "\n",
    "ax.xaxis.set_major_locator(\n",
    "    matplotlib.ticker.MultipleLocator(0.2)\n",
    ")\n",
    "ax.xaxis.set_minor_locator(\n",
    "    matplotlib.ticker.MultipleLocator(0.1)\n",
    ")\n",
    "\n",
    "ax.set_yticks(\n",
    "    np.linspace(0, np.pi, 3),\n",
    "    labels=['$0$', '$\\pi/2$', '$\\pi$']\n",
    ")\n",
    "\n",
    "ax.set_yticks(\n",
    "    [np.pi/6, np.pi/3, 2*np.pi/3, 5*np.pi/6],\n",
    "    minor=True\n",
    ")\n",
    "\n",
    "ax.tick_params(\n",
    "    axis='both',\n",
    "    which='major',\n",
    "    labelsize=11\n",
    ")\n",
    "\n",
    "ax.grid(\n",
    "    axis='y',\n",
    "    which='both'\n",
    ")\n",
    "ax.grid(\n",
    "    axis='x',\n",
    "    which='major'\n",
    ")\n",
    "\n",
    "ax.set_ylabel(r'$\\theta$', fontsize=12)\n",
    "ax.set_xlabel('$B$', fontsize=12)\n",
    "\n",
    "fig.savefig(r'plots/proj_rep_angle_from_mpo_ed_bosonic.png', dpi=200)"
   ]
  },
  {
   "cell_type": "code",
   "execution_count": 75,
   "id": "81d3ce7e-937d-4524-8cd6-a00681458253",
   "metadata": {},
   "outputs": [],
   "source": [
    "scores = list()\n",
    "for t in b_params:\n",
    "\n",
    "    scores.append([best_boundary_operators[(t, i)][0] for i in [1,2,3]])\n",
    "\n",
    "scores = np.array(scores)"
   ]
  },
  {
   "cell_type": "code",
   "execution_count": 86,
   "id": "2c1ef98b-f44d-49e5-8839-3fc952153cd0",
   "metadata": {},
   "outputs": [
    {
     "data": {
      "image/png": "[encoded data removed]",
      "text/plain": [
       "<Figure size 600x400 with 1 Axes>"
      ]
     },
     "metadata": {},
     "output_type": "display_data"
    }
   ],
   "source": [
    "fig, ax = plt.subplots(figsize=(6,4))\n",
    "\n",
    "for j, (col, label) in enumerate(zip(colors, symmetry_labels[1:])):\n",
    "    plt.plot(\n",
    "        b_params,\n",
    "        scores[:, j],\n",
    "        color=col,\n",
    "        label = label,\n",
    "        marker='D'\n",
    "    )\n",
    "\n",
    "ax.xaxis.set_major_locator(\n",
    "    matplotlib.ticker.MultipleLocator(0.2)\n",
    ")\n",
    "\n",
    "ax.set_yscale('log')\n",
    "ax.set_ylim(bottom=None, top=1)\n",
    "ax.tick_params(\n",
    "    axis='both',\n",
    "    which='major',\n",
    "    labelsize=11\n",
    ")\n",
    "\n",
    "ax.grid()\n",
    "ax.grid(\n",
    "    which='minor',\n",
    "    axis='y',\n",
    "    linestyle='--',\n",
    "    zorder=-1e10\n",
    ")\n",
    "ax.set_axisbelow(True)\n",
    "\n",
    "ax.set_ylabel(r'$L$', fontsize=12)\n",
    "ax.set_xlabel('$B$', fontsize=12)\n",
    "\n",
    "ax.legend(loc='lower right', title='Applied symmetry')\n",
    "\n",
    "#fig.suptitle(r'Final cost $L$ with symmetry $g$ as a function of $B$')\n",
    "\n",
    "fig.savefig(r'plots/ed_cost_function_from_mpo_bosonic.png', dpi=200)"
   ]
  },
  {
   "cell_type": "markdown",
   "id": "44f6c3cf-fd21-4366-a46b-83e7cc9e4fdf",
   "metadata": {},
   "source": [
    "## Recalculate score components"
   ]
  },
  {
   "cell_type": "code",
   "execution_count": 99,
   "id": "5dca0528",
   "metadata": {},
   "outputs": [],
   "source": [
    "def generate_problem_rdm(quimb_psi, symmetry_site_pairs, leftmost_symmetry_site,\n",
    "                         num_symmetry_sites, num_boundary_sites):\n",
    "    q_top = quimb_psi.copy(deep=True)\n",
    "    for i, s in symmetry_site_pairs:\n",
    "        q_top.gate(\n",
    "            s,\n",
    "            where=i,\n",
    "            contract=False,\n",
    "            inplace=True\n",
    "        )\n",
    "\n",
    "    \n",
    "    indices_to_map = list(chain(\n",
    "        range(leftmost_symmetry_site-num_boundary_sites, leftmost_symmetry_site),\n",
    "        range(leftmost_symmetry_site+num_symmetry_sites, leftmost_symmetry_site+num_symmetry_sites+num_boundary_sites)\n",
    "    ))\n",
    "\n",
    "    index_mapping = {f'k{i}': f'b{i}' for i in indices_to_map}\n",
    "\n",
    "    q_bottom = (\n",
    "        quimb_psi\n",
    "        .copy()\n",
    "        .reindex(index_mapping, inplace=True)\n",
    "        .conj()\n",
    "    )\n",
    "\n",
    "    sites_to_contract = {\n",
    "        'left': list(range(leftmost_symmetry_site-num_boundary_sites)),\n",
    "        'middle': list(range(leftmost_symmetry_site, leftmost_symmetry_site+num_symmetry_sites)),\n",
    "        'right': list(range(leftmost_symmetry_site+num_symmetry_sites+num_boundary_sites, quimb_psi.L))\n",
    "    }\n",
    "\n",
    "    tags_to_contract = {\n",
    "        k: [f'I{i}' for i in v]\n",
    "        for k, v in sites_to_contract.items()\n",
    "    }\n",
    "\n",
    "    tn = (q_top & q_bottom)\n",
    "\n",
    "    \"\"\"\n",
    "    tnc = (\n",
    "        tn\n",
    "        .contract(tags_to_contract['left'])\n",
    "        .contract(tags_to_contract['middle'])\n",
    "        .contract(tags_to_contract['right'])\n",
    "    )\n",
    "    \"\"\"\n",
    "\n",
    "    tnc = tn.contract()\n",
    "\n",
    "    return tnc"
   ]
  },
  {
   "cell_type": "code",
   "execution_count": 94,
   "id": "67239112-e580-499f-8271-2383ae8a03cd",
   "metadata": {},
   "outputs": [],
   "source": [
    "def split_mpo_pair(mpo_pair):\n",
    "    ml = qtn.TensorNetwork(\n",
    "        list(map(mpo_pair.tensor_map.__getitem__, mpo_pair.tag_map['left_mpo']))\n",
    "    )\n",
    "\n",
    "    mr = qtn.TensorNetwork(\n",
    "        list(map(mpo_pair.tensor_map.__getitem__, mpo_pair.tag_map['right_mpo']))\n",
    "    )\n",
    "\n",
    "    return (ml, mr)"
   ]
  },
  {
   "cell_type": "code",
   "execution_count": 102,
   "id": "31be7830-ef09-41d5-bbc7-204e1beecccc",
   "metadata": {},
   "outputs": [],
   "source": [
    "def loss_overlap(ml, mr, rdm_tn, epsilon=0):\n",
    "    c = (rdm_tn & ml & mr) ^ ...\n",
    "\n",
    "    c_abs_squared = (\n",
    "        c\n",
    "        *jnp.conjugate(c)\n",
    "    )\n",
    "    #c_abs_squared = c_abs_squared.astype('float32')\n",
    "    c_abs = (jnp.sqrt(jnp.real(c_abs_squared+epsilon)))\n",
    "\n",
    "    return c_abs"
   ]
  },
  {
   "cell_type": "code",
   "execution_count": 90,
   "id": "e332b7b5-85a4-4ae7-8a44-1aa4826d6ed3",
   "metadata": {},
   "outputs": [],
   "source": [
    "def unitarity_tn(tn, total_physical_dim):\n",
    "    ms = [tn.copy(), tn.copy(), tn.copy()]\n",
    "\n",
    "    relabel_mpo(ms[0], 'k', 'l')\n",
    "    relabel_mpo(ms[1], 'm', 'l')\n",
    "    relabel_mpo(ms[2], 'm', 'b')\n",
    "\n",
    "    ms[0] = ms[0].conj()\n",
    "    ms[2] = ms[2].conj()\n",
    "\n",
    "    n2tn = (tn & tn.conj())\n",
    "    n2 = n2tn.contract(n2tn.tag_map)\n",
    "    n4tn = (tn & ms[0] & ms[1] & ms[2])\n",
    "    n4 = n4tn.contract(n4tn.tag_map)\n",
    "\n",
    "    out = jnp.real(n4 - 2*n2 + total_physical_dim)\n",
    "\n",
    "    return out"
   ]
  },
  {
   "cell_type": "code",
   "execution_count": 91,
   "id": "21b6bcc3-7d7a-43de-9a16-c0626bb1c025",
   "metadata": {},
   "outputs": [],
   "source": [
    "num_boundary_sites=4\n",
    "left_most_symmetry_site=5\n",
    "num_symmetry_sites=4\n",
    "bond_dimension=5\n",
    "\n",
    "total_physical_dim = 2**num_boundary_sites"
   ]
  },
  {
   "cell_type": "code",
   "execution_count": 95,
   "id": "5464de54-a21c-4b22-91c6-c87240c545ba",
   "metadata": {},
   "outputs": [],
   "source": [
    "unitarities_dict = dict()\n",
    "\n",
    "for k, v in best_boundary_operators.items():\n",
    "    pair = v[1]\n",
    "    ml, mr = split_mpo_pair(pair)\n",
    "    left_unitarity = unitarity_tn(ml, total_physical_dim)\n",
    "    right_unitarity = unitarity_tn(mr, total_physical_dim)\n",
    "\n",
    "    unitarities_dict[k] = (left_unitarity, right_unitarity)"
   ]
  },
  {
   "cell_type": "code",
   "execution_count": 96,
   "id": "de3c14f6-7102-4c08-b7fa-1760a4492341",
   "metadata": {},
   "outputs": [
    {
     "data": {
      "text/plain": [
       "0.007750042"
      ]
     },
     "execution_count": 96,
     "metadata": {},
     "output_type": "execute_result"
    }
   ],
   "source": [
    "np.mean(np.array(list(unitarities_dict.values())))"
   ]
  },
  {
   "cell_type": "code",
   "execution_count": 97,
   "id": "71f2e862-3636-48f4-a3f1-66779871d713",
   "metadata": {},
   "outputs": [
    {
     "data": {
      "text/plain": [
       "0.07119751"
      ]
     },
     "execution_count": 97,
     "metadata": {},
     "output_type": "execute_result"
    }
   ],
   "source": [
    "np.max(np.array(list(unitarities_dict.values())))"
   ]
  },
  {
   "cell_type": "code",
   "execution_count": 100,
   "id": "5205efef-8e70-49fc-8909-404dbc903684",
   "metadata": {},
   "outputs": [],
   "source": [
    "overlaps_dict = dict()\n",
    "\n",
    "for k1, mps_psi in psi_dict.items():\n",
    "\n",
    "    q1 = qtn.Dense1D(\n",
    "        mps_psi.to_ndarray(),\n",
    "        phys_dim=2\n",
    "    )\n",
    "\n",
    "    for k2, bs in enumerate(symmetry_actions[1:], start=1):\n",
    "        symmetry_site_pairs = (\n",
    "            [(i, bs[0]) for i in range(left_most_symmetry_site, left_most_symmetry_site+num_symmetry_sites, 2)]\n",
    "            + [(i, bs[1]) for i in range(left_most_symmetry_site+1, left_most_symmetry_site+num_symmetry_sites+1, 2)]\n",
    "        )\n",
    "\n",
    "        problem_rdm = generate_problem_rdm(\n",
    "            q1,\n",
    "            symmetry_site_pairs,\n",
    "            left_most_symmetry_site,\n",
    "            num_symmetry_sites,\n",
    "            num_boundary_sites\n",
    "        )\n",
    "\n",
    "        \n",
    "        ml, mr = split_mpo_pair(best_boundary_operators[(k1, k2)][1])\n",
    "        overlap = loss_overlap(ml, mr, problem_rdm)\n",
    "\n",
    "        overlaps_dict[(k1, k2)] = overlap"
   ]
  },
  {
   "cell_type": "code",
   "execution_count": 103,
   "id": "e76ba966-e6d8-4784-a6cb-c30b43155c30",
   "metadata": {},
   "outputs": [
    {
     "data": {
      "image/png": "[encoded data removed]",
      "text/plain": [
       "<Figure size 600x400 with 1 Axes>"
      ]
     },
     "metadata": {},
     "output_type": "display_data"
    }
   ],
   "source": [
    "fig, ax = plt.subplots(figsize=(6,4))\n",
    "\n",
    "for j, (col, label) in enumerate(zip(colors, symmetry_labels[1:]), start=1):\n",
    "    plt.plot(\n",
    "        b_params,\n",
    "        [overlaps_dict[(b, j)] for b in b_params],\n",
    "        color=col,\n",
    "        label=label,\n",
    "        marker='D'\n",
    "    )\n",
    "\n",
    "ax.xaxis.set_major_locator(\n",
    "    matplotlib.ticker.MultipleLocator(0.2)\n",
    ")\n",
    "ax.yaxis.set_minor_locator(\n",
    "    matplotlib.ticker.MultipleLocator(0.1)\n",
    ")\n",
    "\n",
    "ax.set_ylim(0, 1.1)\n",
    "ax.tick_params(\n",
    "    axis='both',\n",
    "    which='major',\n",
    "    labelsize=11\n",
    ")\n",
    "\n",
    "ax.grid(\n",
    "    which='both',\n",
    "    axis='y'\n",
    ")\n",
    "ax.grid(\n",
    "    which='major',\n",
    "    axis='x'\n",
    ")\n",
    "\n",
    "ax.set_ylabel(r'$\\vert c \\vert$', fontsize=12)\n",
    "ax.set_xlabel('$B$', fontsize=12)\n",
    "\n",
    "ax.legend(loc='lower right', title='Applied symmetry')\n",
    "\n",
    "fig.savefig(r'plots/overlap_mpo_ed_bosonic.png', dpi=200)"
   ]
  }
 ],
 "metadata": {
  "kernelspec": {
   "display_name": "num_spt_venv_p11",
   "language": "python",
   "name": "num_spt_venv_p11"
  },
  "language_info": {
   "codemirror_mode": {
    "name": "ipython",
    "version": 3
   },
   "file_extension": ".py",
   "mimetype": "text/x-python",
   "name": "python",
   "nbconvert_exporter": "python",
   "pygments_lexer": "ipython3",
   "version": "3.11.9"
  }
 },
 "nbformat": 4,
 "nbformat_minor": 5
}
