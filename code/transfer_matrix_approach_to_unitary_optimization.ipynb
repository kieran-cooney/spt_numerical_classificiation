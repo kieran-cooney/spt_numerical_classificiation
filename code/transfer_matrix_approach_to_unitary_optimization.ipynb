{
 "cells": [
  {
   "cell_type": "markdown",
   "id": "26e89560-04d7-468f-815b-733e8dcc58f4",
   "metadata": {},
   "source": [
    "# Transfer matrix approach to unitary optimization\n",
    "\n",
    "Created 23/05/2024\n",
    "\n",
    "Objectives:\n",
    "\n",
    "* Investigate the degeneracy of the resulting transfer matrix from the symmetry operation. Is this approximated as a projector? Of rank one, or higher?\n",
    "    * There is also a corresponding projector from the boundary given by the canonical MPS form.\n",
    "* For a given unitary contracted with the bra and ket MPS at a single site, have a resulting transfer matrix. Can we say anything about the operator norm of the resulting transfer matrix? Surely bounded above by one, is it ever smaller?\n",
    "* What can we say about the unitary transfer matrix applied to the image of the symmetry transfer matrix?\n",
    "* Away from the boundaries, is the system approximately translationally invariant?\n",
    "* Each of these should be tested for a number of different states and symmetry operations."
   ]
  },
  {
   "cell_type": "markdown",
   "id": "5783f199-a776-4aab-a425-a5dec9410605",
   "metadata": {},
   "source": [
    "# Import packages"
   ]
  },
  {
   "cell_type": "code",
   "execution_count": 1,
   "id": "398503d8-7d41-42e2-927b-48cdd76a00bc",
   "metadata": {},
   "outputs": [],
   "source": [
    "import pandas as pd\n",
    "import numpy as np\n",
    "import matplotlib.pyplot as plt\n",
    "import seaborn as sns"
   ]
  },
  {
   "cell_type": "code",
   "execution_count": 2,
   "id": "5c0807c0-733d-4b84-ab4a-971ad1e5e369",
   "metadata": {},
   "outputs": [],
   "source": [
    "import h5py\n",
    "from tenpy.tools import hdf5_io\n",
    "import tenpy\n",
    "import tenpy.linalg.np_conserved as npc\n",
    "\n",
    "import os"
   ]
  },
  {
   "cell_type": "code",
   "execution_count": 3,
   "id": "689326df-a8dc-4400-86e7-632005d534fc",
   "metadata": {},
   "outputs": [],
   "source": [
    "from collections import Counter\n",
    "from functools import reduce"
   ]
  },
  {
   "cell_type": "code",
   "execution_count": 4,
   "id": "7f8c21ea-7bce-4d2c-a3e0-514d31621e43",
   "metadata": {},
   "outputs": [],
   "source": [
    "from spt_classification import (\n",
    "    get_transfer_matrix_from_unitary,\n",
    "    get_transfer_matrices_from_unitary_list,\n",
    "    multiply_transfer_matrices,\n",
    "    to_npc_array\n",
    ")"
   ]
  },
  {
   "cell_type": "markdown",
   "id": "3bc925cd-d4eb-4f8b-83cc-528a5264a316",
   "metadata": {},
   "source": [
    "# Load data"
   ]
  },
  {
   "cell_type": "code",
   "execution_count": 5,
   "id": "f30ea89c-0990-4d96-ac11-5621b991e9a8",
   "metadata": {},
   "outputs": [],
   "source": [
    "DATA_DIR = r\"data/transverse_cluster_200_site_dmrg\""
   ]
  },
  {
   "cell_type": "code",
   "execution_count": 6,
   "id": "3492fa95-c060-4f2c-895b-6d97215a466d",
   "metadata": {},
   "outputs": [],
   "source": [
    "loaded_data = list()\n",
    "\n",
    "for local_file_name in os.listdir(DATA_DIR):\n",
    "    f_name = r\"{}/{}\".format(DATA_DIR, local_file_name, ignore_unknown=False)\n",
    "    with h5py.File(f_name, 'r') as f:\n",
    "        data = hdf5_io.load_from_hdf5(f)\n",
    "        loaded_data.append(data)"
   ]
  },
  {
   "cell_type": "code",
   "execution_count": 7,
   "id": "c237db90-7b83-4771-b34c-d433e15b342e",
   "metadata": {},
   "outputs": [],
   "source": [
    "b_parameters = sorted(list(d['paramters']['B'] for d in loaded_data))"
   ]
  },
  {
   "cell_type": "code",
   "execution_count": 8,
   "id": "0a4626cf-44b6-4d6c-9ee3-a431a721f231",
   "metadata": {},
   "outputs": [],
   "source": [
    "psi_dict = dict()"
   ]
  },
  {
   "cell_type": "code",
   "execution_count": 9,
   "id": "f1050f22-41b9-492c-829b-5b38bb8982b2",
   "metadata": {},
   "outputs": [],
   "source": [
    "for b in b_parameters:\n",
    "    psi = next(\n",
    "        d['wavefunction']\n",
    "        for d in loaded_data\n",
    "        if d['paramters']['B'] == b\n",
    "    )\n",
    "\n",
    "    rounded_b = round(b, 1)\n",
    "    psi_dict[rounded_b] = psi"
   ]
  },
  {
   "cell_type": "code",
   "execution_count": 10,
   "id": "7464ceea-c8de-4ee6-8e56-8eb08e4e8d08",
   "metadata": {},
   "outputs": [
    {
     "data": {
      "text/plain": [
       "[0.0,\n",
       " 0.1,\n",
       " 0.2,\n",
       " 0.3,\n",
       " 0.4,\n",
       " 0.5,\n",
       " 0.6,\n",
       " 0.7,\n",
       " 0.8,\n",
       " 0.9,\n",
       " 1.0,\n",
       " 1.1,\n",
       " 1.2,\n",
       " 1.3,\n",
       " 1.4,\n",
       " 1.5,\n",
       " 1.6,\n",
       " 1.7,\n",
       " 1.8,\n",
       " 1.9,\n",
       " 2.0]"
      ]
     },
     "execution_count": 10,
     "metadata": {},
     "output_type": "execute_result"
    }
   ],
   "source": [
    "list(psi_dict)"
   ]
  },
  {
   "cell_type": "code",
   "execution_count": 11,
   "id": "90ee2943-e138-408c-b872-d0bd333697f6",
   "metadata": {},
   "outputs": [],
   "source": [
    "test_psi = psi_dict[0.5]"
   ]
  },
  {
   "cell_type": "markdown",
   "id": "083b6c78-d925-4a42-8675-1615aecf19b4",
   "metadata": {},
   "source": [
    "# Code\n",
    "## Transfer matrix of symmetry operation"
   ]
  },
  {
   "cell_type": "code",
   "execution_count": 12,
   "id": "1498bf4c-f8d8-4a2c-b227-ff271a2d1c9f",
   "metadata": {},
   "outputs": [],
   "source": [
    "np_I = np.array([[1,0],[0,1]])\n",
    "np_X = np.array([[0,1],[1,0]])\n",
    "np_Y = np.array([[0,-1j],[1j,0]])\n",
    "np_Z = np.array([[1,0],[0,-1]])"
   ]
  },
  {
   "cell_type": "code",
   "execution_count": 13,
   "id": "cb568752-75db-49e8-90ad-199b522c99d9",
   "metadata": {},
   "outputs": [],
   "source": [
    "tms = get_transfer_matrices_from_unitary_list(test_psi, [np_X, np_I], (test_psi.L)//2)"
   ]
  },
  {
   "cell_type": "code",
   "execution_count": 14,
   "id": "bb8551ad-4c0c-4021-a88f-6baa69f2c5af",
   "metadata": {},
   "outputs": [],
   "source": [
    "tm = (\n",
    "    multiply_transfer_matrices(*tms)\n",
    "    .combine_legs([['vL', 'vL*'], ['vR', 'vR*']])\n",
    "    .replace_labels(['(vL.vL*)', '(vR.vR*)'], ['L', 'R'])\n",
    "    .to_ndarray()\n",
    ")"
   ]
  },
  {
   "cell_type": "code",
   "execution_count": 15,
   "id": "3955d563-f0c7-421f-bc67-d713f1048d19",
   "metadata": {},
   "outputs": [
    {
     "data": {
      "text/plain": [
       "array([[ 5.26907589e-01+0.j,  2.23094656e-01+0.j, -1.57412201e-03+0.j,\n",
       "        ..., -1.77342809e-06+0.j,  1.35644097e-08+0.j,\n",
       "         2.68362169e-08+0.j],\n",
       "       [ 1.60085762e-01+0.j,  2.61384204e-01+0.j, -1.63164790e-03+0.j,\n",
       "        ...,  1.50702397e-06+0.j,  1.48148523e-08+0.j,\n",
       "         1.85928813e-08+0.j],\n",
       "       [-5.02432737e-02+0.j, -9.84046922e-02+0.j, -2.26684739e-02+0.j,\n",
       "        ...,  1.16713551e-05+0.j,  2.28729564e-07+0.j,\n",
       "         2.42019616e-07+0.j],\n",
       "       ...,\n",
       "       [-2.16590823e-02+0.j, -5.05036876e-03+0.j,  1.45148049e-02+0.j,\n",
       "        ..., -2.42622202e-03+0.j,  3.09828177e-05+0.j,\n",
       "         8.83826176e-05+0.j],\n",
       "       [ 9.44375298e-02+0.j, -2.52504727e-02+0.j, -1.22500086e-02+0.j,\n",
       "        ..., -2.74386294e-03+0.j, -1.33874206e-04+0.j,\n",
       "         5.99995152e-04+0.j],\n",
       "       [ 2.45902063e-01+0.j,  2.07626121e-01+0.j, -1.02922464e-01+0.j,\n",
       "        ..., -6.93143497e-03+0.j,  6.11157757e-04+0.j,\n",
       "         2.20045109e-03+0.j]])"
      ]
     },
     "execution_count": 15,
     "metadata": {},
     "output_type": "execute_result"
    }
   ],
   "source": [
    "tm"
   ]
  },
  {
   "cell_type": "code",
   "execution_count": 16,
   "id": "b9e33a9b-e5bc-42bf-a690-eadf9b6098eb",
   "metadata": {},
   "outputs": [],
   "source": [
    "eig_vals, eig_vecs = np.linalg.eig(tm)"
   ]
  },
  {
   "cell_type": "code",
   "execution_count": 17,
   "id": "7d3a5287-7a51-483c-bb59-a77e6d39d7dd",
   "metadata": {},
   "outputs": [
    {
     "data": {
      "text/plain": [
       "array([ 9.91391477e-01+3.38693677e-19j,  2.14723339e-01-2.94077889e-18j,\n",
       "       -1.03061521e-01+1.87691077e-02j, -1.03061521e-01-1.87691077e-02j,\n",
       "        4.22877504e-02+8.08284812e-02j,  4.22877504e-02-8.08284812e-02j,\n",
       "        2.17317009e-01+4.12208963e-18j, -1.35260188e-01+1.53591789e-17j,\n",
       "        2.37532352e-02+7.87675690e-02j,  2.37532352e-02-7.87675690e-02j,\n",
       "       -7.29984029e-02-1.31891148e-17j,  3.10695426e-02+0.00000000e+00j,\n",
       "        4.23273783e-03-3.00681894e-02j,  4.23273783e-03+3.00681894e-02j,\n",
       "       -2.62308946e-02+2.61134306e-18j, -3.32415751e-02+1.39515828e-17j,\n",
       "       -9.41268775e-04-2.18540779e-02j, -9.41268775e-04+2.18540779e-02j,\n",
       "        1.92076531e-02-9.55712521e-18j, -1.78648961e-02-4.69159819e-03j,\n",
       "       -1.78648961e-02+4.69159819e-03j,  4.76110481e-03-2.18770349e-02j,\n",
       "        4.76110481e-03+2.18770349e-02j, -2.25906183e-02-6.55429000e-18j,\n",
       "        2.03670237e-02-9.24149244e-18j,  1.45719415e-02+8.57954884e-19j,\n",
       "       -1.37407841e-02+1.01007528e-02j, -1.37407841e-02-1.01007528e-02j,\n",
       "       -7.62833429e-03+7.52765924e-03j, -7.62833429e-03-7.52765924e-03j,\n",
       "        8.73676778e-03-4.11365072e-18j, -1.16634571e-02+2.49788783e-18j,\n",
       "       -1.66494846e-03+1.03242446e-02j, -1.66494846e-03-1.03242446e-02j,\n",
       "        9.05419293e-03+1.66619212e-18j, -5.65172838e-03+1.23617137e-18j,\n",
       "       -3.01616759e-03+2.51408659e-03j,  4.64033066e-03-4.66390048e-18j,\n",
       "        3.30388356e-03+2.56696254e-03j, -3.01616759e-03-2.51408659e-03j,\n",
       "        3.30388356e-03-2.56696254e-03j, -3.09714645e-03+7.95919349e-19j,\n",
       "        3.36489754e-03-1.04304162e-18j, -4.44249163e-03-3.50821301e-19j,\n",
       "       -3.68189119e-03+1.63575818e-18j,  3.60895083e-03+3.98688767e-19j,\n",
       "       -1.38047394e-03-1.62427895e-18j, -4.20250240e-04+1.41999680e-03j,\n",
       "        1.89280056e-03+1.28285175e-19j, -4.20250240e-04-1.41999680e-03j,\n",
       "        6.81283743e-04+9.03428270e-04j,  6.81283743e-04-9.03428270e-04j,\n",
       "        2.64188568e-03+3.48199518e-19j, -7.48997301e-05-2.71216724e-19j,\n",
       "        2.86695607e-04-3.49317243e-19j,  6.99972272e-04-6.29651678e-19j,\n",
       "       -6.01155737e-04+1.53246729e-03j,  4.83918700e-04+1.42890700e-03j,\n",
       "        2.03752349e-03+7.80177934e-19j, -6.01155737e-04-1.53246729e-03j,\n",
       "        4.83918700e-04-1.42890700e-03j, -9.26019290e-04+0.00000000e+00j,\n",
       "       -3.33616499e-04+0.00000000e+00j,  7.66214407e-04+0.00000000e+00j])"
      ]
     },
     "execution_count": 17,
     "metadata": {},
     "output_type": "execute_result"
    }
   ],
   "source": [
    "eig_vals"
   ]
  },
  {
   "cell_type": "code",
   "execution_count": 18,
   "id": "f0d6b02d-25c0-472b-b06a-0bc41cbaf91c",
   "metadata": {},
   "outputs": [
    {
     "data": {
      "text/plain": [
       "array([9.91391477e-01, 2.14723339e-01, 1.04756654e-01, 1.04756654e-01,\n",
       "       9.12222407e-02, 9.12222407e-02, 2.17317009e-01, 1.35260188e-01,\n",
       "       8.22711743e-02, 8.22711743e-02, 7.29984029e-02, 3.10695426e-02,\n",
       "       3.03646518e-02, 3.03646518e-02, 2.62308946e-02, 3.32415751e-02,\n",
       "       2.18743390e-02, 2.18743390e-02, 1.92076531e-02, 1.84706688e-02,\n",
       "       1.84706688e-02, 2.23891218e-02, 2.23891218e-02, 2.25906183e-02,\n",
       "       2.03670237e-02, 1.45719415e-02, 1.70538663e-02, 1.70538663e-02,\n",
       "       1.07171422e-02, 1.07171422e-02, 8.73676778e-03, 1.16634571e-02,\n",
       "       1.04576326e-02, 1.04576326e-02, 9.05419293e-03, 5.65172838e-03,\n",
       "       3.92656317e-03, 4.64033066e-03, 4.18389092e-03, 3.92656317e-03,\n",
       "       4.18389092e-03, 3.09714645e-03, 3.36489754e-03, 4.44249163e-03,\n",
       "       3.68189119e-03, 3.60895083e-03, 1.38047394e-03, 1.48087851e-03,\n",
       "       1.89280056e-03, 1.48087851e-03, 1.13151676e-03, 1.13151676e-03,\n",
       "       2.64188568e-03, 7.48997301e-05, 2.86695607e-04, 6.99972272e-04,\n",
       "       1.64616045e-03, 1.50862604e-03, 2.03752349e-03, 1.64616045e-03,\n",
       "       1.50862604e-03, 9.26019290e-04, 3.33616499e-04, 7.66214407e-04])"
      ]
     },
     "execution_count": 18,
     "metadata": {},
     "output_type": "execute_result"
    }
   ],
   "source": [
    "np.abs(eig_vals)"
   ]
  },
  {
   "cell_type": "markdown",
   "id": "10d56c73-9906-4ffe-a744-f34dc954f8fc",
   "metadata": {},
   "source": [
    "So yes, well approximated as a rank 1 projector."
   ]
  },
  {
   "cell_type": "code",
   "execution_count": 19,
   "id": "f89782cf-8f25-4789-bd8b-4499d99d56de",
   "metadata": {},
   "outputs": [],
   "source": [
    "symmetry_projected_state = eig_vecs[:, 0]"
   ]
  },
  {
   "cell_type": "code",
   "execution_count": 20,
   "id": "8f760699-b492-402d-b543-769184cffbe5",
   "metadata": {},
   "outputs": [
    {
     "data": {
      "text/plain": [
       "1.0"
      ]
     },
     "execution_count": 20,
     "metadata": {},
     "output_type": "execute_result"
    }
   ],
   "source": [
    "np.linalg.norm(symmetry_projected_state)"
   ]
  },
  {
   "cell_type": "markdown",
   "id": "d988bece-2a87-4f98-9ebf-b5bf85f4d14f",
   "metadata": {},
   "source": [
    "### Multisite\n",
    "If we operate the symmetry on many sites, will it tends towards this rank one projector with the same eigenvector?"
   ]
  },
  {
   "cell_type": "code",
   "execution_count": 21,
   "id": "e350e2cb-a2fd-4afb-bc11-bdae037e0ebe",
   "metadata": {},
   "outputs": [],
   "source": [
    "tms = get_transfer_matrices_from_unitary_list(test_psi, [np_X, np_I]*30, ((test_psi.L)//2) - 30)"
   ]
  },
  {
   "cell_type": "code",
   "execution_count": 22,
   "id": "e5503cea-1f99-41a0-8d83-b7813da9120a",
   "metadata": {},
   "outputs": [],
   "source": [
    "tm = (\n",
    "    reduce(multiply_transfer_matrices, tms)\n",
    "    .combine_legs([['vL', 'vL*'], ['vR', 'vR*']])\n",
    "    .replace_labels(['(vL.vL*)', '(vR.vR*)'], ['L', 'R'])\n",
    "    .to_ndarray()\n",
    ")"
   ]
  },
  {
   "cell_type": "code",
   "execution_count": 23,
   "id": "2013df36-ce1b-49bf-b54b-5d9457b67c0c",
   "metadata": {},
   "outputs": [
    {
     "data": {
      "text/plain": [
       "array([[ 7.33924664e-04+0.j, -2.36803851e-06+0.j, -7.64594539e-16+0.j,\n",
       "        ..., -2.12329226e-18+0.j, -5.19782214e-12+0.j,\n",
       "         7.56773783e-11+0.j],\n",
       "       [-4.99675525e-01+0.j,  1.61222391e-03+0.j,  7.94539033e-16+0.j,\n",
       "        ..., -3.62173160e-18+0.j,  3.53881624e-09+0.j,\n",
       "        -5.15231820e-08+0.j],\n",
       "       [ 1.34459262e-11+0.j,  9.16491587e-12+0.j, -5.77418078e-15+0.j,\n",
       "        ...,  2.95425824e-18+0.j, -9.65362828e-19+0.j,\n",
       "        -8.85303492e-19+0.j],\n",
       "       ...,\n",
       "       [-9.85088951e-12+0.j, -7.70417883e-12+0.j,  5.55750203e-15+0.j,\n",
       "        ..., -5.02395892e-19+0.j,  7.81625381e-19+0.j,\n",
       "         1.42589867e-18+0.j],\n",
       "       [-4.68839407e-01+0.j,  1.51272989e-03+0.j, -8.74243071e-16+0.j,\n",
       "        ...,  3.27732039e-18+0.j,  3.32042780e-09+0.j,\n",
       "        -4.83435688e-08+0.j],\n",
       "       [-1.72817185e-01+0.j,  5.57601851e-04+0.j,  7.50426157e-16+0.j,\n",
       "        ...,  2.06209321e-18+0.j,  1.22393079e-09+0.j,\n",
       "        -1.78197467e-08+0.j]])"
      ]
     },
     "execution_count": 23,
     "metadata": {},
     "output_type": "execute_result"
    }
   ],
   "source": [
    "tm"
   ]
  },
  {
   "cell_type": "code",
   "execution_count": 24,
   "id": "5f267c36-3d73-496c-8394-b576fd50f126",
   "metadata": {},
   "outputs": [],
   "source": [
    "eig_vals, eig_vecs = np.linalg.eig(tm)"
   ]
  },
  {
   "cell_type": "code",
   "execution_count": 25,
   "id": "2c6fd173-f4ad-4447-b772-550b296c23a3",
   "metadata": {},
   "outputs": [
    {
     "data": {
      "text/plain": [
       "array([ 4.69133143e-03-3.32527057e-71j,  5.54726984e-12+3.32527057e-71j,\n",
       "       -5.57852759e-12+0.00000000e+00j, -3.46597706e-19-3.95995736e-40j,\n",
       "       -1.47984516e-19-2.28298821e-39j, -1.53402697e-20+1.73125652e-37j,\n",
       "       -2.98411235e-21+4.10852633e-21j, -2.98411235e-21-4.10852633e-21j,\n",
       "        3.61487582e-21+1.07421561e-21j,  3.61487582e-21-1.07421561e-21j,\n",
       "       -1.69844103e-21+7.25315396e-22j, -1.69844103e-21-7.25315396e-22j,\n",
       "       -9.15248658e-23+1.47197510e-21j, -9.15248658e-23-1.47197510e-21j,\n",
       "        1.44312379e-21-4.04863021e-38j, -7.97174066e-22+6.62991529e-22j,\n",
       "       -7.97174066e-22-6.62991529e-22j,  7.56983756e-22-4.60912741e-38j,\n",
       "       -2.11430914e-22+2.37294155e-22j, -2.11430914e-22-2.37294155e-22j,\n",
       "        3.96241709e-22+2.72337915e-38j,  3.32925868e-22-2.16167690e-37j,\n",
       "       -2.28806521e-23+1.11089263e-22j, -2.28806521e-23-1.11089263e-22j,\n",
       "       -6.71817285e-23+2.59478434e-39j,  3.55604297e-23+9.90196043e-40j,\n",
       "       -3.19214690e-24+6.91133604e-24j, -3.19214690e-24-6.91133604e-24j,\n",
       "        2.22503607e-24-1.53967583e-46j, -2.84794202e-25+1.30068640e-46j,\n",
       "        1.66465675e-27-2.69049305e-43j, -1.97305282e-28-8.28448045e-28j,\n",
       "       -1.97305282e-28+8.28448045e-28j,  1.60506947e-28-3.13253611e-45j,\n",
       "       -2.05315774e-29-7.77887675e-29j, -2.05315774e-29+7.77887675e-29j,\n",
       "       -5.54178734e-29+1.15038799e-47j,  4.16640229e-29-1.85052203e-47j,\n",
       "        6.03107741e-31-1.09222425e-29j,  6.03107741e-31+1.09222425e-29j,\n",
       "        4.95606872e-30+1.26389090e-46j, -1.83782750e-30-1.48321372e-30j,\n",
       "       -1.83782750e-30+1.48321372e-30j,  9.75909402e-31-1.09108486e-30j,\n",
       "        9.75909402e-31+1.09108486e-30j,  1.29975933e-31-9.37041712e-31j,\n",
       "        1.29975933e-31+9.37041712e-31j, -7.65913559e-31+1.47179092e-47j,\n",
       "        2.60374812e-31-1.04289250e-31j,  2.60374812e-31+1.04289250e-31j,\n",
       "       -2.75313720e-31+1.94753433e-47j, -1.17340482e-31-1.53233767e-31j,\n",
       "       -1.17340482e-31+1.53233767e-31j,  1.47005936e-31-6.35526414e-48j,\n",
       "        1.29346047e-31+3.19534416e-48j,  5.94187425e-32+1.26854694e-47j,\n",
       "       -1.44880447e-32-4.46534492e-32j, -1.44880447e-32+4.46534492e-32j,\n",
       "       -3.77502932e-32-5.95126346e-48j,  7.26111408e-33-8.39799723e-33j,\n",
       "        7.26111408e-33+8.39799723e-33j, -6.04483304e-33-2.88240918e-33j,\n",
       "       -6.04483304e-33+2.88240918e-33j,  2.92295835e-33+4.72480166e-50j])"
      ]
     },
     "execution_count": 25,
     "metadata": {},
     "output_type": "execute_result"
    }
   ],
   "source": [
    "eig_vals"
   ]
  },
  {
   "cell_type": "code",
   "execution_count": 26,
   "id": "eaa586c4-644d-4737-a736-a0ce0234df96",
   "metadata": {},
   "outputs": [
    {
     "data": {
      "text/plain": [
       "array([4.69133143e-03, 5.54726984e-12, 5.57852759e-12, 3.46597706e-19,\n",
       "       1.47984516e-19, 1.53402697e-20, 5.07788491e-21, 5.07788491e-21,\n",
       "       3.77110943e-21, 3.77110943e-21, 1.84683090e-21, 1.84683090e-21,\n",
       "       1.47481778e-21, 1.47481778e-21, 1.44312379e-21, 1.03684341e-21,\n",
       "       1.03684341e-21, 7.56983756e-22, 3.17823139e-22, 3.17823139e-22,\n",
       "       3.96241709e-22, 3.32925868e-22, 1.13421112e-22, 1.13421112e-22,\n",
       "       6.71817285e-23, 3.55604297e-23, 7.61290796e-24, 7.61290796e-24,\n",
       "       2.22503607e-24, 2.84794202e-25, 1.66465675e-27, 8.51619362e-28,\n",
       "       8.51619362e-28, 1.60506947e-28, 8.04527067e-29, 8.04527067e-29,\n",
       "       5.54178734e-29, 4.16640229e-29, 1.09388811e-29, 1.09388811e-29,\n",
       "       4.95606872e-30, 2.36168009e-30, 2.36168009e-30, 1.46385291e-30,\n",
       "       1.46385291e-30, 9.46013168e-31, 9.46013168e-31, 7.65913559e-31,\n",
       "       2.80484028e-31, 2.80484028e-31, 2.75313720e-31, 1.93000974e-31,\n",
       "       1.93000974e-31, 1.47005936e-31, 1.29346047e-31, 5.94187425e-32,\n",
       "       4.69450100e-32, 4.69450100e-32, 3.77502932e-32, 1.11018077e-32,\n",
       "       1.11018077e-32, 6.69688653e-33, 6.69688653e-33, 2.92295835e-33])"
      ]
     },
     "execution_count": 26,
     "metadata": {},
     "output_type": "execute_result"
    }
   ],
   "source": [
    "np.abs(eig_vals)"
   ]
  },
  {
   "cell_type": "markdown",
   "id": "284505ec-2a6c-48a0-bd28-d8ab3390e2ad",
   "metadata": {},
   "source": [
    "Not quite a rank 1 projector, modified by a small scalar."
   ]
  },
  {
   "cell_type": "code",
   "execution_count": 27,
   "id": "69ba3d69-5d87-4faa-bce7-04747cfa2c83",
   "metadata": {},
   "outputs": [
    {
     "data": {
      "text/plain": [
       "array([3.42608264e-01, 2.03290077e-01, 7.04031042e-03, 3.93711409e-04,\n",
       "       7.50781311e-03, 1.33151310e-02, 3.84478386e-02, 1.38409089e-02,\n",
       "       2.03290077e-01, 3.41925341e-01, 4.10891065e-03, 1.72890920e-02,\n",
       "       1.22389416e-03, 8.07323741e-03, 1.38566175e-02, 3.69521750e-02,\n",
       "       7.04031042e-03, 4.10891065e-03, 3.26355107e-01, 1.19350247e-01,\n",
       "       7.34383216e-02, 4.37729560e-01, 6.51543255e-03, 4.89252210e-03,\n",
       "       3.93711409e-04, 1.72890920e-02, 1.19350247e-01, 2.38459709e-01,\n",
       "       1.54326472e-01, 2.58414425e-01, 1.57544179e-02, 1.93879859e-03,\n",
       "       7.50781311e-03, 1.22389416e-03, 7.34383216e-02, 1.54326472e-01,\n",
       "       4.03199013e-02, 3.03156226e-01, 8.83190164e-03, 6.58058724e-03,\n",
       "       1.33151310e-02, 8.07323741e-03, 4.37729560e-01, 2.58414425e-01,\n",
       "       3.03156226e-01, 4.76338268e-02, 1.11406742e-03, 1.48355272e-02,\n",
       "       3.84478386e-02, 1.38566175e-02, 6.51543255e-03, 1.57544179e-02,\n",
       "       8.83190164e-03, 1.11406742e-03, 1.78551001e-01, 2.42714582e-01,\n",
       "       1.38409089e-02, 3.69521750e-02, 4.89252210e-03, 1.93879859e-03,\n",
       "       6.58058724e-03, 1.48355272e-02, 2.42714582e-01, 1.77868430e-01])"
      ]
     },
     "execution_count": 27,
     "metadata": {},
     "output_type": "execute_result"
    }
   ],
   "source": [
    "np.abs(symmetry_projected_state - eig_vecs[:, 0])"
   ]
  },
  {
   "cell_type": "markdown",
   "id": "f03c907a-7e37-4fe8-b068-fc852c4081c6",
   "metadata": {},
   "source": [
    "The eigenvector winds up being a bit different too."
   ]
  },
  {
   "cell_type": "code",
   "execution_count": 28,
   "id": "621f7f2e-e1db-4398-9684-884d6cfc7e21",
   "metadata": {},
   "outputs": [],
   "source": [
    "symmetry_projected_state = eig_vecs[:, 0]"
   ]
  },
  {
   "cell_type": "code",
   "execution_count": 29,
   "id": "33d34230-801c-4649-bb9d-6ba2bb40695a",
   "metadata": {},
   "outputs": [],
   "source": [
    "symmetry_projected_eig_val = eig_vals[0]"
   ]
  },
  {
   "cell_type": "code",
   "execution_count": 30,
   "id": "09600aea-395b-4a36-b72f-b7385cc05cd9",
   "metadata": {},
   "outputs": [
    {
     "data": {
      "text/plain": [
       "(0.004691331425645306-3.325270566927668e-71j)"
      ]
     },
     "execution_count": 30,
     "metadata": {},
     "output_type": "execute_result"
    }
   ],
   "source": [
    "symmetry_projected_eig_val"
   ]
  },
  {
   "cell_type": "code",
   "execution_count": 31,
   "id": "700fe063-b296-49d2-a5e6-c53d3247d8b9",
   "metadata": {},
   "outputs": [
    {
     "data": {
      "text/plain": [
       "0.9999999999999999"
      ]
     },
     "execution_count": 31,
     "metadata": {},
     "output_type": "execute_result"
    }
   ],
   "source": [
    "np.linalg.norm(symmetry_projected_state)"
   ]
  },
  {
   "cell_type": "code",
   "execution_count": 32,
   "id": "540b1224-4560-4273-9277-c33c0db8f4d1",
   "metadata": {},
   "outputs": [
    {
     "data": {
      "text/plain": [
       "array([1.99871487e+00, 5.88672656e-11, 5.88672487e-11, 1.41218271e-16,\n",
       "       1.41218271e-16, 1.41218271e-16, 1.41218271e-16, 1.41218271e-16,\n",
       "       1.41218271e-16, 1.41218271e-16, 1.41218271e-16, 1.41218271e-16,\n",
       "       1.41218271e-16, 1.41218271e-16, 1.41218271e-16, 1.41218271e-16,\n",
       "       1.41218271e-16, 1.41218271e-16, 1.41218271e-16, 1.41218271e-16,\n",
       "       1.41218271e-16, 1.41218271e-16, 1.41218271e-16, 1.41218271e-16,\n",
       "       1.41218271e-16, 1.41218271e-16, 1.41218271e-16, 1.41218271e-16,\n",
       "       1.41218271e-16, 1.41218271e-16, 1.41218271e-16, 1.41218271e-16,\n",
       "       1.41218271e-16, 1.41218271e-16, 1.41218271e-16, 1.41218271e-16,\n",
       "       1.41218271e-16, 1.41218271e-16, 1.41218271e-16, 1.41218271e-16,\n",
       "       1.41218271e-16, 1.41218271e-16, 1.41218271e-16, 1.41218271e-16,\n",
       "       1.41218271e-16, 1.41218271e-16, 1.41218271e-16, 1.41218271e-16,\n",
       "       1.41218271e-16, 1.41218271e-16, 1.41218271e-16, 1.41218271e-16,\n",
       "       1.41218271e-16, 1.41218271e-16, 1.41218271e-16, 1.41218271e-16,\n",
       "       1.41218271e-16, 1.41218271e-16, 1.41218271e-16, 1.41218271e-16,\n",
       "       1.41218271e-16, 1.41218271e-16, 1.41218271e-16, 7.27427948e-17])"
      ]
     },
     "execution_count": 32,
     "metadata": {},
     "output_type": "execute_result"
    }
   ],
   "source": [
    "np.linalg.svd(tm).S"
   ]
  },
  {
   "cell_type": "markdown",
   "id": "c5408979-a917-4e2b-9689-27f4e10f15b4",
   "metadata": {},
   "source": [
    "One singular value close to 2, the others almost vanishing..."
   ]
  },
  {
   "cell_type": "markdown",
   "id": "e896736e-8c88-43fe-9044-bf1f0c65a86a",
   "metadata": {},
   "source": [
    "The state is almost purely real."
   ]
  },
  {
   "cell_type": "code",
   "execution_count": 33,
   "id": "3f95cd97-c49f-423e-8849-05922465e02c",
   "metadata": {},
   "outputs": [
    {
     "data": {
      "text/plain": [
       "array([0.+3.40570880e-71j, 0.+0.00000000e+00j, 0.+1.30782116e-88j,\n",
       "       0.+1.09026553e-88j, 0.-1.89135438e-91j, 0.-9.85597771e-91j,\n",
       "       0.-3.45734862e-72j, 0.+1.94676471e-71j, 0.+1.02951152e-84j,\n",
       "       0.-3.42586092e-71j, 0.+3.79592250e-91j, 0.+6.31047984e-91j,\n",
       "       0.+1.42770589e-88j, 0.+9.27780987e-89j, 0.-1.94676594e-71j,\n",
       "       0.-3.45813581e-72j, 0.+1.30782138e-88j, 0.+3.79592162e-91j,\n",
       "       0.-2.33764628e-70j, 0.+2.01076468e-87j, 0.+2.57377879e-85j,\n",
       "       0.+1.02951152e-84j, 0.-1.07228864e-88j, 0.-1.97386568e-89j,\n",
       "       0.+1.09026534e-88j, 0.+6.31047896e-91j, 0.+2.01076468e-87j,\n",
       "       0.+9.92492062e-72j, 0.+1.02951152e-84j, 0.-2.57377879e-85j,\n",
       "       0.+1.28823119e-88j, 0.+2.25650836e-89j, 0.-1.89135409e-91j,\n",
       "       0.+1.42770608e-88j, 0.+2.57377879e-85j, 0.+1.02951152e-84j,\n",
       "       0.-1.02272025e-71j, 0.+0.00000000e+00j, 0.-1.65310488e-89j,\n",
       "       0.+9.12962245e-89j, 0.-9.85597757e-91j, 0.+9.27780687e-89j,\n",
       "       0.+0.00000000e+00j, 0.+0.00000000e+00j, 0.-4.02152937e-87j,\n",
       "       0.+0.00000000e+00j, 0.+2.50011424e-89j, 0.-1.40563018e-88j,\n",
       "       0.-3.45734862e-72j, 0.-1.94676594e-71j, 0.-1.07228898e-88j,\n",
       "       0.+1.28823096e-88j, 0.-1.65310516e-89j, 0.+2.50011414e-89j,\n",
       "       0.+3.94401231e-68j, 0.+1.02951152e-84j, 0.+1.94676471e-71j,\n",
       "       0.-3.45813581e-72j, 0.-1.97386610e-89j, 0.+2.25650798e-89j,\n",
       "       0.+9.12962507e-89j, 0.-1.40562995e-88j, 0.+0.00000000e+00j,\n",
       "       0.+5.73932466e-69j])"
      ]
     },
     "execution_count": 33,
     "metadata": {},
     "output_type": "execute_result"
    }
   ],
   "source": [
    "symmetry_projected_state - symmetry_projected_state.conj()"
   ]
  },
  {
   "cell_type": "markdown",
   "id": "09f14013-1dbf-4563-986f-883660861fc2",
   "metadata": {},
   "source": [
    "But single eigenvector approximation is not as good as expected..."
   ]
  },
  {
   "cell_type": "code",
   "execution_count": 34,
   "id": "23d71b32-39dc-48c5-a2d9-2ee6d0a769ec",
   "metadata": {},
   "outputs": [
    {
     "data": {
      "text/plain": [
       "1.9987093616693288"
      ]
     },
     "execution_count": 34,
     "metadata": {},
     "output_type": "execute_result"
    }
   ],
   "source": [
    "np.linalg.norm(tm - symmetry_projected_eig_val*np.outer(symmetry_projected_state, symmetry_projected_state.conj()))"
   ]
  },
  {
   "cell_type": "code",
   "execution_count": 35,
   "id": "144f5265-ccec-45ec-af3f-a4fe1201879b",
   "metadata": {},
   "outputs": [
    {
     "data": {
      "text/plain": [
       "array([1.00000000e+00, 9.99200587e-17, 9.99200587e-17, 9.99200587e-17,\n",
       "       9.99200587e-17, 9.99200587e-17, 9.99200587e-17, 9.99200587e-17,\n",
       "       9.99200587e-17, 9.99200587e-17, 9.99200587e-17, 9.99200587e-17,\n",
       "       9.99200587e-17, 9.99200587e-17, 9.99200587e-17, 9.99200587e-17,\n",
       "       9.99200587e-17, 9.99200587e-17, 9.99200587e-17, 9.99200587e-17,\n",
       "       9.99200587e-17, 9.99200587e-17, 9.99200587e-17, 9.99200587e-17,\n",
       "       9.99200587e-17, 9.99200587e-17, 9.99200587e-17, 9.99200587e-17,\n",
       "       9.99200587e-17, 9.99200587e-17, 9.99200587e-17, 9.99200587e-17,\n",
       "       9.99200587e-17, 9.99200587e-17, 9.99200587e-17, 9.99200587e-17,\n",
       "       9.99200587e-17, 9.99200587e-17, 9.99200587e-17, 9.99200587e-17,\n",
       "       9.99200587e-17, 9.99200587e-17, 9.99200587e-17, 9.99200587e-17,\n",
       "       9.99200587e-17, 9.99200587e-17, 9.99200587e-17, 9.99200587e-17,\n",
       "       9.99200587e-17, 9.99200587e-17, 9.99200587e-17, 9.99200587e-17,\n",
       "       9.99200587e-17, 9.99200587e-17, 9.99200587e-17, 9.99200587e-17,\n",
       "       9.99200587e-17, 9.99200587e-17, 9.99200587e-17, 9.99200587e-17,\n",
       "       9.99200587e-17, 9.99200587e-17, 9.99200587e-17, 1.37585849e-19])"
      ]
     },
     "execution_count": 35,
     "metadata": {},
     "output_type": "execute_result"
    }
   ],
   "source": [
    "np.linalg.svd(np.outer(symmetry_projected_state, symmetry_projected_state)).S"
   ]
  },
  {
   "cell_type": "code",
   "execution_count": 36,
   "id": "ba94b7a2-518e-4bec-8821-4cba3cd62a67",
   "metadata": {},
   "outputs": [
    {
     "data": {
      "text/plain": [
       "1.9836374287493117"
      ]
     },
     "execution_count": 36,
     "metadata": {},
     "output_type": "execute_result"
    }
   ],
   "source": [
    "np.linalg.norm(np.linalg.eig(np.outer(symmetry_projected_state, symmetry_projected_state.conj()))[1][0] - symmetry_projected_state)"
   ]
  },
  {
   "cell_type": "markdown",
   "id": "c6696347-b42f-4598-bdce-c5a460240baf",
   "metadata": {},
   "source": [
    "Could use the SVD decomposition instead? I'm not sure there is any reason not to, offers more flexibility to get the best approximation, as the input and output vectors are allowed to be different. (The eigenvector description is useful for translationally invariant systems, as it can then be calculated directly from the transfer matrix.)"
   ]
  },
  {
   "cell_type": "code",
   "execution_count": 37,
   "id": "d3521f15-2005-4363-a39b-24c565051a6b",
   "metadata": {},
   "outputs": [],
   "source": [
    "U, S, Vh = np.linalg.svd(tm)"
   ]
  },
  {
   "cell_type": "code",
   "execution_count": 38,
   "id": "733c6062-1eab-4d6a-bf18-433c5bf7f9e4",
   "metadata": {},
   "outputs": [
    {
     "data": {
      "text/plain": [
       "array([1.99871487e+00, 5.88672656e-11, 5.88672487e-11, 1.41218271e-16,\n",
       "       1.41218271e-16, 1.41218271e-16, 1.41218271e-16, 1.41218271e-16,\n",
       "       1.41218271e-16, 1.41218271e-16, 1.41218271e-16, 1.41218271e-16,\n",
       "       1.41218271e-16, 1.41218271e-16, 1.41218271e-16, 1.41218271e-16,\n",
       "       1.41218271e-16, 1.41218271e-16, 1.41218271e-16, 1.41218271e-16,\n",
       "       1.41218271e-16, 1.41218271e-16, 1.41218271e-16, 1.41218271e-16,\n",
       "       1.41218271e-16, 1.41218271e-16, 1.41218271e-16, 1.41218271e-16,\n",
       "       1.41218271e-16, 1.41218271e-16, 1.41218271e-16, 1.41218271e-16,\n",
       "       1.41218271e-16, 1.41218271e-16, 1.41218271e-16, 1.41218271e-16,\n",
       "       1.41218271e-16, 1.41218271e-16, 1.41218271e-16, 1.41218271e-16,\n",
       "       1.41218271e-16, 1.41218271e-16, 1.41218271e-16, 1.41218271e-16,\n",
       "       1.41218271e-16, 1.41218271e-16, 1.41218271e-16, 1.41218271e-16,\n",
       "       1.41218271e-16, 1.41218271e-16, 1.41218271e-16, 1.41218271e-16,\n",
       "       1.41218271e-16, 1.41218271e-16, 1.41218271e-16, 1.41218271e-16,\n",
       "       1.41218271e-16, 1.41218271e-16, 1.41218271e-16, 1.41218271e-16,\n",
       "       1.41218271e-16, 1.41218271e-16, 1.41218271e-16, 7.27427948e-17])"
      ]
     },
     "execution_count": 38,
     "metadata": {},
     "output_type": "execute_result"
    }
   ],
   "source": [
    "S"
   ]
  },
  {
   "cell_type": "code",
   "execution_count": 39,
   "id": "cde0d43e-fa85-471f-9198-88a9a0ce1140",
   "metadata": {},
   "outputs": [],
   "source": [
    "left_projected_symmetry_state = U[:,0]\n",
    "right_projected_symmetry_state = Vh[0].conj()"
   ]
  },
  {
   "cell_type": "code",
   "execution_count": 40,
   "id": "b05e13a1-392e-417a-843f-82975cdef8fd",
   "metadata": {},
   "outputs": [],
   "source": [
    "svd_tm_approx = S[0]*(np.outer(left_projected_symmetry_state, right_projected_symmetry_state.conj()))"
   ]
  },
  {
   "cell_type": "code",
   "execution_count": 41,
   "id": "7733ee7d-f036-44ad-bc5e-b5dd02db2d7b",
   "metadata": {},
   "outputs": [
    {
     "data": {
      "text/plain": [
       "8.325087716580306e-11"
      ]
     },
     "execution_count": 41,
     "metadata": {},
     "output_type": "execute_result"
    }
   ],
   "source": [
    "np.linalg.norm(tm - svd_tm_approx)"
   ]
  },
  {
   "cell_type": "markdown",
   "id": "d9c92a24-3f4b-495f-b414-ce2bf9ff3183",
   "metadata": {},
   "source": [
    "Much better. But why is there such a discrepancy between the eigenvector and SVD decompositions?"
   ]
  },
  {
   "cell_type": "code",
   "execution_count": 42,
   "id": "4dde7049-ee1b-41b6-8cfd-1d080400ef4b",
   "metadata": {},
   "outputs": [
    {
     "data": {
      "text/plain": [
       "1.9987148673623165"
      ]
     },
     "execution_count": 42,
     "metadata": {},
     "output_type": "execute_result"
    }
   ],
   "source": [
    "S[0]"
   ]
  },
  {
   "cell_type": "markdown",
   "id": "9a835802-2ac2-4674-a502-fdff0ae675bf",
   "metadata": {},
   "source": [
    "Singular value very close to 2... why?"
   ]
  },
  {
   "cell_type": "markdown",
   "id": "4f962624-b748-4aa8-a773-915d97e96931",
   "metadata": {},
   "source": [
    "## Transfer matrix of one site unitary\n",
    "Note that after multiplying on the symmetry projected state, the output vector is linearly dependent on the input unitary."
   ]
  },
  {
   "cell_type": "code",
   "execution_count": 43,
   "id": "844d7c94-30f4-4830-ba93-f6b02334190d",
   "metadata": {},
   "outputs": [],
   "source": [
    "index = ((test_psi.L)//2) + 30"
   ]
  },
  {
   "cell_type": "markdown",
   "id": "d7c6dd9a-d151-41bc-8947-ad49291c326f",
   "metadata": {},
   "source": [
    "Evaluate matrix for each of the four pauli matrices. Output is then a linear combination.\n",
    "Also want the operator norm, (i.e. largest singular value) which we can't expect to behave linearly."
   ]
  },
  {
   "cell_type": "markdown",
   "id": "f30061eb-9109-4a84-8f7e-d026a994a766",
   "metadata": {},
   "source": [
    "### Check matrix product assumptions"
   ]
  },
  {
   "cell_type": "code",
   "execution_count": 44,
   "id": "2fcaa19d-a1ec-4d1c-8420-9e23a75ef760",
   "metadata": {},
   "outputs": [],
   "source": [
    "tm1 = (\n",
    "    get_transfer_matrix_from_unitary(test_psi, np_I, index)\n",
    "    .combine_legs([['vL', 'vL*'], ['vR', 'vR*']])\n",
    ")"
   ]
  },
  {
   "cell_type": "code",
   "execution_count": 45,
   "id": "3df389d2-63be-45ca-9d75-28d5f9828f4c",
   "metadata": {},
   "outputs": [],
   "source": [
    "tm2 = (\n",
    "    get_transfer_matrix_from_unitary(test_psi, np_I, index+1)\n",
    "    .combine_legs([['vL', 'vL*'], ['vR', 'vR*']])\n",
    ")"
   ]
  },
  {
   "cell_type": "code",
   "execution_count": 46,
   "id": "4f4e27a8-a9b3-4d77-bf15-002b4ecac805",
   "metadata": {},
   "outputs": [
    {
     "data": {
      "text/plain": [
       "<npc.Array shape=(64, 64) labels=['(vL.vL*)', '(vR.vR*)']>"
      ]
     },
     "execution_count": 46,
     "metadata": {},
     "output_type": "execute_result"
    }
   ],
   "source": [
    "tm1"
   ]
  },
  {
   "cell_type": "code",
   "execution_count": 47,
   "id": "58d27cb1-0856-464b-872d-7a703c787289",
   "metadata": {},
   "outputs": [],
   "source": [
    "tm12 = tenpy.linalg.np_conserved.tensordot(tm1, tm2, ('(vR.vR*)', '(vL.vL*)'))"
   ]
  },
  {
   "cell_type": "code",
   "execution_count": 48,
   "id": "4f4c298b-e0d7-427a-82e7-5f9a7a7b5150",
   "metadata": {},
   "outputs": [],
   "source": [
    "np_tm1 = tm1.to_ndarray()\n",
    "np_tm2 = tm2.to_ndarray()"
   ]
  },
  {
   "cell_type": "code",
   "execution_count": 49,
   "id": "cc5464a5-4550-443b-b89c-bb5914698869",
   "metadata": {},
   "outputs": [],
   "source": [
    "np_tm12 = np_tm1 @ np_tm2"
   ]
  },
  {
   "cell_type": "code",
   "execution_count": 50,
   "id": "9627c9d4-81bd-4061-87c2-3a7123e8dbcc",
   "metadata": {},
   "outputs": [
    {
     "data": {
      "text/plain": [
       "0.0"
      ]
     },
     "execution_count": 50,
     "metadata": {},
     "output_type": "execute_result"
    }
   ],
   "source": [
    "np.linalg.norm(np_tm12 - tm12.to_ndarray())"
   ]
  },
  {
   "cell_type": "markdown",
   "id": "cba6d066-f341-4dde-93d3-ea4ba790370e",
   "metadata": {},
   "source": [
    "As expected."
   ]
  },
  {
   "cell_type": "code",
   "execution_count": 51,
   "id": "c77d67d9-3398-45e1-8d50-71df0bc6149f",
   "metadata": {},
   "outputs": [],
   "source": [
    "unitaries = [np_I, np_X, np_Y, np_Z]"
   ]
  },
  {
   "cell_type": "code",
   "execution_count": 52,
   "id": "ec12a636-6f9e-4cf9-8efe-a29a0f2915b7",
   "metadata": {},
   "outputs": [],
   "source": [
    "one_site_tms = [\n",
    "    get_transfer_matrix_from_unitary(test_psi, u, index)\n",
    "    .combine_legs([['vL', 'vL*'], ['vR', 'vR*']])\n",
    "    .to_ndarray()\n",
    "    for u in unitaries\n",
    "]"
   ]
  },
  {
   "cell_type": "code",
   "execution_count": 53,
   "id": "0b4fc3ca-9ae9-4c2c-82f8-7df641a86bfb",
   "metadata": {},
   "outputs": [],
   "source": [
    "X1 = one_site_tms[0]"
   ]
  },
  {
   "cell_type": "code",
   "execution_count": 54,
   "id": "2285d161-056d-4dd3-99be-fe20cac924df",
   "metadata": {},
   "outputs": [],
   "source": [
    "X2 = (\n",
    "    get_transfer_matrix_from_unitary(test_psi, np_I, index+1)\n",
    "    .combine_legs([['vL', 'vL*'], ['vR', 'vR*']])\n",
    "    .to_ndarray()\n",
    ")"
   ]
  },
  {
   "cell_type": "code",
   "execution_count": 55,
   "id": "50251b15-4af3-48ad-b0c3-9004083df363",
   "metadata": {},
   "outputs": [
    {
     "data": {
      "text/plain": [
       "False"
      ]
     },
     "execution_count": 55,
     "metadata": {},
     "output_type": "execute_result"
    }
   ],
   "source": [
    "X1[0,0] == X2[0,0]"
   ]
  },
  {
   "cell_type": "code",
   "execution_count": 56,
   "id": "5c4d8fc8-3802-4147-b059-2ccd3cda0ec0",
   "metadata": {},
   "outputs": [],
   "source": [
    "singular_values = [\n",
    "    np.linalg.svd(tm).S\n",
    "    for tm in one_site_tms\n",
    "]"
   ]
  },
  {
   "cell_type": "code",
   "execution_count": 57,
   "id": "16918721-b67d-425b-98db-c5d1c5f002a8",
   "metadata": {},
   "outputs": [
    {
     "data": {
      "text/plain": [
       "array([1.38999682, 1.38999682, 1.38999682, 1.38999682, 1.38999682,\n",
       "       1.38999682, 1.38999682, 1.38999682, 1.38999682, 1.38999682,\n",
       "       1.38999682, 1.38999682, 1.38999682, 1.38999682, 1.38999682,\n",
       "       1.38999682, 0.25865202, 0.25865202, 0.25865202, 0.25865202,\n",
       "       0.25865202, 0.25865202, 0.25865202, 0.25865202, 0.25865202,\n",
       "       0.25865202, 0.25865202, 0.25865202, 0.25865202, 0.25865202,\n",
       "       0.25865202, 0.25865202, 0.03345043, 0.03345043, 0.03345043,\n",
       "       0.03345043, 0.03345043, 0.03345043, 0.03345043, 0.03345043,\n",
       "       0.03345043, 0.03345043, 0.03345043, 0.03345043, 0.03345043,\n",
       "       0.03345043, 0.03345043, 0.03345043, 0.00622449, 0.00622449,\n",
       "       0.00622449, 0.00622449, 0.00622449, 0.00622449, 0.00622449,\n",
       "       0.00622449, 0.00622449, 0.00622449, 0.00622449, 0.00622449,\n",
       "       0.00622449, 0.00622449, 0.00622449, 0.00622449])"
      ]
     },
     "execution_count": 57,
     "metadata": {},
     "output_type": "execute_result"
    }
   ],
   "source": [
    "singular_values[0]"
   ]
  },
  {
   "cell_type": "code",
   "execution_count": 58,
   "id": "8c9153a2-86d8-4897-bc4f-0eca6253b0c7",
   "metadata": {},
   "outputs": [],
   "source": [
    "singular_values_counts = [\n",
    "    Counter(np.round(sv, 3))\n",
    "    for sv in singular_values\n",
    "]"
   ]
  },
  {
   "cell_type": "code",
   "execution_count": 59,
   "id": "8e1b86b1-01fb-4c27-a6c6-e63e06a844e7",
   "metadata": {},
   "outputs": [
    {
     "data": {
      "text/plain": [
       "[Counter({1.39: 16, 0.259: 16, 0.033: 16, 0.006: 16}),\n",
       " Counter({1.39: 16, 0.259: 16, 0.033: 16, 0.006: 16}),\n",
       " Counter({0.0: 32, 1.39: 16, 0.261: 16}),\n",
       " Counter({0.0: 32, 1.39: 16, 0.261: 16})]"
      ]
     },
     "execution_count": 59,
     "metadata": {},
     "output_type": "execute_result"
    }
   ],
   "source": [
    "singular_values_counts"
   ]
  },
  {
   "cell_type": "markdown",
   "id": "eb3c8380-292e-4bff-95d1-4635b6c47c03",
   "metadata": {},
   "source": [
    "No clear reason/explanation for the 1.3899 singular value..."
   ]
  },
  {
   "cell_type": "markdown",
   "id": "1b1f568d-d390-4e67-bdd5-68459860765f",
   "metadata": {},
   "source": [
    "Check singular values of $M-I$, the bound on the \"update\"."
   ]
  },
  {
   "cell_type": "code",
   "execution_count": 60,
   "id": "f095d3ec-2f75-4657-9396-05c07c28092e",
   "metadata": {},
   "outputs": [],
   "source": [
    "singular_values = [\n",
    "    np.linalg.svd(tm - np.identity(tm.shape[0])).S\n",
    "    for tm in one_site_tms\n",
    "]"
   ]
  },
  {
   "cell_type": "code",
   "execution_count": 61,
   "id": "a585655d-11ca-433b-84ca-347f68bce7ee",
   "metadata": {},
   "outputs": [
    {
     "data": {
      "text/plain": [
       "array([2.27187424e+00, 2.26676778e+00, 2.25519399e+00, 2.25136926e+00,\n",
       "       2.10154751e+00, 2.02148522e+00, 2.01851511e+00, 1.92011661e+00,\n",
       "       1.91320075e+00, 1.82588387e+00, 1.82486731e+00, 1.67922482e+00,\n",
       "       1.49483711e+00, 1.49424566e+00, 1.42108433e+00, 1.40139869e+00,\n",
       "       1.25617906e+00, 1.25571262e+00, 1.17368124e+00, 1.11249718e+00,\n",
       "       1.11109680e+00, 1.09014464e+00, 1.06851545e+00, 1.05892256e+00,\n",
       "       1.04721476e+00, 1.04167491e+00, 1.03289766e+00, 1.03203080e+00,\n",
       "       1.02995759e+00, 1.02862200e+00, 1.01079724e+00, 1.00581672e+00,\n",
       "       1.00470901e+00, 9.95829489e-01, 9.91056529e-01, 9.86476078e-01,\n",
       "       9.84889039e-01, 9.77473979e-01, 9.77081828e-01, 9.74017687e-01,\n",
       "       9.68890942e-01, 9.66548809e-01, 9.65302474e-01, 9.23691303e-01,\n",
       "       9.20969140e-01, 8.77639774e-01, 8.49295198e-01, 8.07965892e-01,\n",
       "       7.58586852e-01, 7.57324417e-01, 7.48213518e-01, 7.37310450e-01,\n",
       "       7.28762719e-01, 5.59077534e-01, 5.56407217e-01, 5.15351012e-01,\n",
       "       5.04500986e-01, 4.00558572e-01, 3.75169513e-01, 3.18916603e-01,\n",
       "       3.25962487e-02, 1.31916729e-02, 1.29980854e-02, 9.28613781e-17])"
      ]
     },
     "execution_count": 61,
     "metadata": {},
     "output_type": "execute_result"
    }
   ],
   "source": [
    "singular_values[0]"
   ]
  },
  {
   "cell_type": "code",
   "execution_count": 62,
   "id": "9a54d588-b0e6-4b53-938a-76e6e8e4e27b",
   "metadata": {},
   "outputs": [],
   "source": [
    "singular_values_counts = [\n",
    "    Counter(np.round(sv, 3))\n",
    "    for sv in singular_values\n",
    "]"
   ]
  },
  {
   "cell_type": "code",
   "execution_count": 63,
   "id": "14afbdd0-e5d2-4cfc-b23d-9e7cce2297f0",
   "metadata": {},
   "outputs": [
    {
     "data": {
      "text/plain": [
       "[Counter({1.256: 2,\n",
       "          0.977: 2,\n",
       "          0.013: 2,\n",
       "          2.272: 1,\n",
       "          2.267: 1,\n",
       "          2.255: 1,\n",
       "          2.251: 1,\n",
       "          2.102: 1,\n",
       "          2.021: 1,\n",
       "          2.019: 1,\n",
       "          1.92: 1,\n",
       "          1.913: 1,\n",
       "          1.826: 1,\n",
       "          1.825: 1,\n",
       "          1.679: 1,\n",
       "          1.495: 1,\n",
       "          1.494: 1,\n",
       "          1.421: 1,\n",
       "          1.401: 1,\n",
       "          1.174: 1,\n",
       "          1.112: 1,\n",
       "          1.111: 1,\n",
       "          1.09: 1,\n",
       "          1.069: 1,\n",
       "          1.059: 1,\n",
       "          1.047: 1,\n",
       "          1.042: 1,\n",
       "          1.033: 1,\n",
       "          1.032: 1,\n",
       "          1.03: 1,\n",
       "          1.029: 1,\n",
       "          1.011: 1,\n",
       "          1.006: 1,\n",
       "          1.005: 1,\n",
       "          0.996: 1,\n",
       "          0.991: 1,\n",
       "          0.986: 1,\n",
       "          0.985: 1,\n",
       "          0.974: 1,\n",
       "          0.969: 1,\n",
       "          0.967: 1,\n",
       "          0.965: 1,\n",
       "          0.924: 1,\n",
       "          0.921: 1,\n",
       "          0.878: 1,\n",
       "          0.849: 1,\n",
       "          0.808: 1,\n",
       "          0.759: 1,\n",
       "          0.757: 1,\n",
       "          0.748: 1,\n",
       "          0.737: 1,\n",
       "          0.729: 1,\n",
       "          0.559: 1,\n",
       "          0.556: 1,\n",
       "          0.515: 1,\n",
       "          0.505: 1,\n",
       "          0.401: 1,\n",
       "          0.375: 1,\n",
       "          0.319: 1,\n",
       "          0.033: 1,\n",
       "          0.0: 1}),\n",
       " Counter({1.256: 2,\n",
       "          0.986: 2,\n",
       "          0.977: 2,\n",
       "          0.013: 2,\n",
       "          2.272: 1,\n",
       "          2.267: 1,\n",
       "          2.255: 1,\n",
       "          2.251: 1,\n",
       "          2.102: 1,\n",
       "          2.022: 1,\n",
       "          2.018: 1,\n",
       "          1.92: 1,\n",
       "          1.913: 1,\n",
       "          1.826: 1,\n",
       "          1.825: 1,\n",
       "          1.679: 1,\n",
       "          1.495: 1,\n",
       "          1.494: 1,\n",
       "          1.421: 1,\n",
       "          1.401: 1,\n",
       "          1.174: 1,\n",
       "          1.113: 1,\n",
       "          1.111: 1,\n",
       "          1.09: 1,\n",
       "          1.068: 1,\n",
       "          1.059: 1,\n",
       "          1.047: 1,\n",
       "          1.042: 1,\n",
       "          1.033: 1,\n",
       "          1.032: 1,\n",
       "          1.03: 1,\n",
       "          1.029: 1,\n",
       "          1.011: 1,\n",
       "          1.007: 1,\n",
       "          1.004: 1,\n",
       "          0.996: 1,\n",
       "          0.991: 1,\n",
       "          0.974: 1,\n",
       "          0.969: 1,\n",
       "          0.967: 1,\n",
       "          0.965: 1,\n",
       "          0.924: 1,\n",
       "          0.921: 1,\n",
       "          0.878: 1,\n",
       "          0.849: 1,\n",
       "          0.808: 1,\n",
       "          0.759: 1,\n",
       "          0.757: 1,\n",
       "          0.748: 1,\n",
       "          0.737: 1,\n",
       "          0.729: 1,\n",
       "          0.559: 1,\n",
       "          0.556: 1,\n",
       "          0.516: 1,\n",
       "          0.504: 1,\n",
       "          0.401: 1,\n",
       "          0.375: 1,\n",
       "          0.319: 1,\n",
       "          0.033: 1,\n",
       "          0.0: 1}),\n",
       " Counter({1.0: 7,\n",
       "          1.931: 2,\n",
       "          1.921: 2,\n",
       "          2.264: 1,\n",
       "          2.257: 1,\n",
       "          2.252: 1,\n",
       "          2.228: 1,\n",
       "          2.018: 1,\n",
       "          2.015: 1,\n",
       "          1.8: 1,\n",
       "          1.797: 1,\n",
       "          1.567: 1,\n",
       "          1.448: 1,\n",
       "          1.437: 1,\n",
       "          1.426: 1,\n",
       "          1.254: 1,\n",
       "          1.252: 1,\n",
       "          1.14: 1,\n",
       "          1.139: 1,\n",
       "          1.121: 1,\n",
       "          1.058: 1,\n",
       "          1.045: 1,\n",
       "          1.038: 1,\n",
       "          1.036: 1,\n",
       "          1.033: 1,\n",
       "          1.032: 1,\n",
       "          1.022: 1,\n",
       "          1.019: 1,\n",
       "          1.004: 1,\n",
       "          1.003: 1,\n",
       "          0.998: 1,\n",
       "          0.993: 1,\n",
       "          0.991: 1,\n",
       "          0.986: 1,\n",
       "          0.985: 1,\n",
       "          0.915: 1,\n",
       "          0.912: 1,\n",
       "          0.901: 1,\n",
       "          0.824: 1,\n",
       "          0.821: 1,\n",
       "          0.794: 1,\n",
       "          0.754: 1,\n",
       "          0.748: 1,\n",
       "          0.707: 1,\n",
       "          0.629: 1,\n",
       "          0.628: 1,\n",
       "          0.496: 1,\n",
       "          0.494: 1,\n",
       "          0.466: 1,\n",
       "          0.464: 1,\n",
       "          0.418: 1,\n",
       "          0.407: 1,\n",
       "          0.06: 1,\n",
       "          0.039: 1,\n",
       "          0.035: 1,\n",
       "          0.017: 1}),\n",
       " Counter({1.0: 7,\n",
       "          1.839: 2,\n",
       "          0.975: 2,\n",
       "          0.968: 2,\n",
       "          0.726: 2,\n",
       "          1.96: 1,\n",
       "          1.952: 1,\n",
       "          1.927: 1,\n",
       "          1.918: 1,\n",
       "          1.915: 1,\n",
       "          1.908: 1,\n",
       "          1.888: 1,\n",
       "          1.871: 1,\n",
       "          1.846: 1,\n",
       "          1.829: 1,\n",
       "          1.824: 1,\n",
       "          1.817: 1,\n",
       "          1.816: 1,\n",
       "          1.807: 1,\n",
       "          1.091: 1,\n",
       "          1.086: 1,\n",
       "          1.084: 1,\n",
       "          1.079: 1,\n",
       "          1.07: 1,\n",
       "          1.065: 1,\n",
       "          1.058: 1,\n",
       "          1.056: 1,\n",
       "          1.054: 1,\n",
       "          1.046: 1,\n",
       "          1.045: 1,\n",
       "          1.038: 1,\n",
       "          1.035: 1,\n",
       "          1.03: 1,\n",
       "          1.028: 1,\n",
       "          1.026: 1,\n",
       "          0.998: 1,\n",
       "          0.977: 1,\n",
       "          0.976: 1,\n",
       "          0.971: 1,\n",
       "          0.965: 1,\n",
       "          0.741: 1,\n",
       "          0.735: 1,\n",
       "          0.722: 1,\n",
       "          0.72: 1,\n",
       "          0.704: 1,\n",
       "          0.7: 1,\n",
       "          0.585: 1,\n",
       "          0.578: 1,\n",
       "          0.541: 1,\n",
       "          0.54: 1,\n",
       "          0.538: 1,\n",
       "          0.533: 1,\n",
       "          0.492: 1,\n",
       "          0.491: 1})]"
      ]
     },
     "execution_count": 63,
     "metadata": {},
     "output_type": "execute_result"
    }
   ],
   "source": [
    "singular_values_counts"
   ]
  },
  {
   "cell_type": "markdown",
   "id": "2731c106-618b-41bb-b69a-4c9f2b6d81bb",
   "metadata": {},
   "source": [
    "Multiply tms against projected state"
   ]
  },
  {
   "cell_type": "code",
   "execution_count": 64,
   "id": "0f53f4d8-1b34-4909-8691-b1b3c826d21e",
   "metadata": {},
   "outputs": [],
   "source": [
    "transfered_once_projected_states = [\n",
    "    np.matmul(right_projected_symmetry_state.conj(), tm)\n",
    "    for tm in one_site_tms\n",
    "]"
   ]
  },
  {
   "cell_type": "code",
   "execution_count": 65,
   "id": "9aaf222c-693b-41b8-80d6-bda4430bdf5c",
   "metadata": {},
   "outputs": [
    {
     "data": {
      "text/plain": [
       "[0.2598906092402411,\n",
       " 0.9999999999999993,\n",
       " 0.9653273577592497,\n",
       " 0.024494154206292876]"
      ]
     },
     "execution_count": 65,
     "metadata": {},
     "output_type": "execute_result"
    }
   ],
   "source": [
    "[np.linalg.norm(v) for v in transfered_once_projected_states]"
   ]
  },
  {
   "cell_type": "code",
   "execution_count": 66,
   "id": "886656fa-4db1-46e4-a957-4f0b2de4e63f",
   "metadata": {},
   "outputs": [
    {
     "data": {
      "text/plain": [
       "array([-1.83008042e-01+0.j, -2.95578737e-04+0.j, -1.41188503e-05+0.j,\n",
       "        1.40918606e-05+0.j,  5.70681865e-03+0.j, -1.03535209e-02+0.j,\n",
       "       -2.03510216e-17+0.j,  1.30917512e-17+0.j, -2.95578737e-04+0.j,\n",
       "        1.83008042e-01+0.j,  1.84352196e-03+0.j,  1.16774902e-02+0.j,\n",
       "        2.31591213e-05+0.j,  2.61451214e-05+0.j, -1.53915016e-17+0.j,\n",
       "        3.14522151e-17+0.j, -1.41188503e-05+0.j,  1.84352196e-03+0.j,\n",
       "       -5.87386256e-05+0.j,  6.04619202e-07+0.j,  2.24091260e-07+0.j,\n",
       "        2.63520753e-07+0.j, -1.50998383e-07+0.j, -3.75116982e-06+0.j,\n",
       "        1.40918606e-05+0.j,  1.16774902e-02+0.j,  6.04619202e-07+0.j,\n",
       "       -5.49956092e-05+0.j, -2.19509965e-07+0.j, -3.71406411e-07+0.j,\n",
       "        1.31373683e-08+0.j,  5.92616901e-07+0.j,  5.70681865e-03+0.j,\n",
       "        2.31591213e-05+0.j,  2.24091260e-07+0.j, -2.19509965e-07+0.j,\n",
       "        5.79178312e-05+0.j,  1.66176913e-06+0.j,  3.32581335e-06+0.j,\n",
       "       -1.34919907e-07+0.j, -1.03535209e-02+0.j,  2.61451214e-05+0.j,\n",
       "        2.63520753e-07+0.j, -3.71406411e-07+0.j,  1.66176913e-06+0.j,\n",
       "        5.58164037e-05+0.j,  1.83339860e-06+0.j, -6.84453311e-08+0.j,\n",
       "       -2.03492586e-17+0.j, -1.53914908e-17+0.j, -1.50998383e-07+0.j,\n",
       "        1.31373683e-08+0.j,  3.32581335e-06+0.j,  1.83339860e-06+0.j,\n",
       "       -1.75850727e-08+0.j,  1.51606316e-09+0.j,  1.30915481e-17+0.j,\n",
       "        3.14496353e-17+0.j, -3.75116982e-06+0.j,  5.92616901e-07+0.j,\n",
       "       -1.34919907e-07+0.j, -6.84453311e-08+0.j,  1.51606316e-09+0.j,\n",
       "        1.75850727e-08+0.j])"
      ]
     },
     "execution_count": 66,
     "metadata": {},
     "output_type": "execute_result"
    }
   ],
   "source": [
    "transfered_once_projected_states[0]"
   ]
  },
  {
   "cell_type": "code",
   "execution_count": 67,
   "id": "c9d140e6-1ae1-41a1-aecc-29c68cc008ff",
   "metadata": {},
   "outputs": [],
   "source": [
    "transfered_twice_projected_states = [\n",
    "    [\n",
    "        np.matmul(v, tm) for tm in one_site_tms\n",
    "    ]\n",
    "    for v in transfered_once_projected_states\n",
    "]"
   ]
  },
  {
   "cell_type": "code",
   "execution_count": 68,
   "id": "934a7b0a-252b-4fc8-8873-850787244fad",
   "metadata": {},
   "outputs": [
    {
     "data": {
      "text/plain": [
       "[[0.09860577399571531,\n",
       "  0.2585343569466187,\n",
       "  0.24159149396594756,\n",
       "  0.012517795282441912],\n",
       " [0.2599364276881363,\n",
       "  0.9999745906862684,\n",
       "  0.9653299685327946,\n",
       "  0.024938391989656566],\n",
       " [0.24236243919500525,\n",
       "  0.964772371288879,\n",
       "  0.9347197788477917,\n",
       "  0.022078722171449232],\n",
       " [0.006876680489180962,\n",
       "  0.0028763590990107534,\n",
       "  0.0025219426526905077,\n",
       "  0.03373432687342532]]"
      ]
     },
     "execution_count": 68,
     "metadata": {},
     "output_type": "execute_result"
    }
   ],
   "source": [
    "[\n",
    "    [np.linalg.norm(v) for v in l]\n",
    "    for l in transfered_twice_projected_states\n",
    "]"
   ]
  },
  {
   "cell_type": "markdown",
   "id": "d4a555bf-c042-4bdc-93bf-eadb8ba87022",
   "metadata": {},
   "source": [
    "## Sweep over unitaries\n",
    "Use the super-fibonacci spirals. Could do an analytic caclulation perhaps?"
   ]
  },
  {
   "cell_type": "code",
   "execution_count": 69,
   "id": "28a883aa-cb48-4b2d-abfb-de6cf0205159",
   "metadata": {},
   "outputs": [],
   "source": [
    "import math\n",
    "C1 = math.sqrt(2)\n",
    "C2 = 1.533751168755204288118041"
   ]
  },
  {
   "cell_type": "code",
   "execution_count": 70,
   "id": "df1aa441-3c43-4886-818b-b7519f8a718d",
   "metadata": {},
   "outputs": [],
   "source": [
    "def super_fibonacci_point(n, s, phi=C1, psi=C2):\n",
    "    t = s/n\n",
    "    d = 2*math.pi*s\n",
    "    r = math.sqrt(t)\n",
    "    R = math.sqrt(1-t)\n",
    "    alpha = d/phi\n",
    "    beta = d/psi\n",
    "    point = [\n",
    "        r*math.sin(alpha),\n",
    "        r*math.cos(alpha),\n",
    "        R*math.sin(beta),\n",
    "        R*math.cos(beta)\n",
    "    ]\n",
    "\n",
    "    return point\n",
    "\n",
    "def super_fibonacci(n, phi=C1, psi=C2):\n",
    "    out = np.zeros((n,4))\n",
    "\n",
    "    for i in range(n):\n",
    "        s = i + 0.5\n",
    "        point = super_fibonacci_point(n, s, phi=C1, psi=C2)\n",
    "        out[i] = point\n",
    "\n",
    "    return out"
   ]
  },
  {
   "cell_type": "code",
   "execution_count": 71,
   "id": "9cb25270-b13b-4a6d-96ec-8c7bfc1bd546",
   "metadata": {},
   "outputs": [],
   "source": [
    "def s3_to_unitary(p):\n",
    "    X = p[0]*np_I + 1j*(p[1]*np_X + p[2]*np_Y + p[3]*np_Z)\n",
    "    return X"
   ]
  },
  {
   "cell_type": "code",
   "execution_count": 72,
   "id": "69889864-13ac-4dd0-89d5-b7c9370592a3",
   "metadata": {},
   "outputs": [],
   "source": [
    "fib_unitaries = [s3_to_unitary(p) for p in super_fibonacci(1000)]"
   ]
  },
  {
   "cell_type": "code",
   "execution_count": 73,
   "id": "3c320e39-80a0-4a1f-8e3f-160f590adfc9",
   "metadata": {},
   "outputs": [
    {
     "data": {
      "text/plain": [
       "array([[1.00000000e+00+0.00000000e+00j, 5.65553453e-18+1.73472348e-17j],\n",
       "       [5.65553453e-18-1.73472348e-17j, 1.00000000e+00+0.00000000e+00j]])"
      ]
     },
     "execution_count": 73,
     "metadata": {},
     "output_type": "execute_result"
    }
   ],
   "source": [
    "np.dot(fib_unitaries[500], fib_unitaries[500].T.conj())"
   ]
  },
  {
   "cell_type": "code",
   "execution_count": 74,
   "id": "14451d5d-5505-4e56-ab16-8af22b62d095",
   "metadata": {},
   "outputs": [
    {
     "data": {
      "text/plain": [
       "(1+5.551115123125783e-17j)"
      ]
     },
     "execution_count": 74,
     "metadata": {},
     "output_type": "execute_result"
    }
   ],
   "source": [
    "np.linalg.det(fib_unitaries[500])"
   ]
  },
  {
   "cell_type": "code",
   "execution_count": 75,
   "id": "71246687-f538-4326-878b-a69d85cf5e8e",
   "metadata": {},
   "outputs": [],
   "source": [
    "fib_tms = [\n",
    "    get_transfer_matrix_from_unitary(test_psi, u, index)\n",
    "    .combine_legs([['vL', 'vL*'], ['vR', 'vR*']])\n",
    "    .to_ndarray()\n",
    "    for u in fib_unitaries\n",
    "]"
   ]
  },
  {
   "cell_type": "code",
   "execution_count": 76,
   "id": "815a8ada-7332-4b17-bc1d-2f02990b5835",
   "metadata": {},
   "outputs": [],
   "source": [
    "def operator_norm(m):\n",
    "    singular_values = np.linalg.svd(m).S\n",
    "    singular_values_counts = Counter(np.round(singular_values, 3))\n",
    "\n",
    "    norm = max(singular_values_counts.keys())\n",
    "    count = singular_values_counts[norm]\n",
    "\n",
    "    return (norm, count)"
   ]
  },
  {
   "cell_type": "code",
   "execution_count": 77,
   "id": "e5aa579b-cda0-48e6-bff0-86887f2d277e",
   "metadata": {},
   "outputs": [
    {
     "data": {
      "text/plain": [
       "(1.39, 16)"
      ]
     },
     "execution_count": 77,
     "metadata": {},
     "output_type": "execute_result"
    }
   ],
   "source": [
    "operator_norm(fib_tms[500])"
   ]
  },
  {
   "cell_type": "code",
   "execution_count": 78,
   "id": "c6ad1670-1ab3-4029-89e4-c7e333b9bf1c",
   "metadata": {},
   "outputs": [],
   "source": [
    "operator_norms = [operator_norm(tm) for tm in fib_tms]"
   ]
  },
  {
   "cell_type": "code",
   "execution_count": 79,
   "id": "c79f5b82-18e0-479e-8b07-23b628e7b47e",
   "metadata": {},
   "outputs": [
    {
     "data": {
      "text/plain": [
       "Counter({(1.39, 16): 1000})"
      ]
     },
     "execution_count": 79,
     "metadata": {},
     "output_type": "execute_result"
    }
   ],
   "source": [
    "Counter(operator_norms)"
   ]
  },
  {
   "cell_type": "markdown",
   "id": "19811303-5b59-44b8-8506-452029dc01e2",
   "metadata": {},
   "source": [
    "So the operator norm (and it's degeneracy) seems to be some kind of an invariant? Need to dig into this more."
   ]
  },
  {
   "cell_type": "code",
   "execution_count": 80,
   "id": "35dc6425-6fd1-4050-8ebe-94b590c7d1eb",
   "metadata": {},
   "outputs": [],
   "source": [
    "fib_transfered_once_projected_states = [\n",
    "    np.matmul(right_projected_symmetry_state.conj(), tm)\n",
    "    for tm in fib_tms\n",
    "]"
   ]
  },
  {
   "cell_type": "code",
   "execution_count": 81,
   "id": "abc41266-9fd9-4ac7-b51f-0e76ab22227a",
   "metadata": {},
   "outputs": [],
   "source": [
    "transfered_once_norms = np.array([np.linalg.norm(v) for v in fib_transfered_once_projected_states])"
   ]
  },
  {
   "cell_type": "code",
   "execution_count": 82,
   "id": "4d303efc-95f4-44a0-a498-c15464322243",
   "metadata": {},
   "outputs": [
    {
     "data": {
      "text/plain": [
       "count    1000.000000\n",
       "mean        0.673844\n",
       "std         0.213880\n",
       "min         0.080190\n",
       "25%         0.518177\n",
       "50%         0.705949\n",
       "75%         0.857338\n",
       "max         0.997721\n",
       "dtype: float64"
      ]
     },
     "execution_count": 82,
     "metadata": {},
     "output_type": "execute_result"
    }
   ],
   "source": [
    "pd.Series(transfered_once_norms).describe()"
   ]
  },
  {
   "cell_type": "code",
   "execution_count": 83,
   "id": "3187cd6c-c2b6-4d26-adce-30ccabd65b0c",
   "metadata": {},
   "outputs": [
    {
     "data": {
      "text/plain": [
       "<Axes: ylabel='Count'>"
      ]
     },
     "execution_count": 83,
     "metadata": {},
     "output_type": "execute_result"
    },
    {
     "data": {
      "image/png": "[encoded data removed]",
      "text/plain": [
       "<Figure size 640x480 with 1 Axes>"
      ]
     },
     "metadata": {},
     "output_type": "display_data"
    }
   ],
   "source": [
    "sns.histplot(transfered_once_norms)"
   ]
  },
  {
   "cell_type": "code",
   "execution_count": 84,
   "id": "b8e8293c-828e-4e25-ac29-09e20302fd3c",
   "metadata": {},
   "outputs": [],
   "source": [
    "fib_tms_1 = [\n",
    "    get_transfer_matrix_from_unitary(test_psi, u, index+1)\n",
    "    .combine_legs([['vL', 'vL*'], ['vR', 'vR*']])\n",
    "    .to_ndarray()\n",
    "    for u in fib_unitaries\n",
    "]"
   ]
  },
  {
   "cell_type": "code",
   "execution_count": 85,
   "id": "83690231-2ce2-470a-9e2b-765200c8a9b1",
   "metadata": {},
   "outputs": [],
   "source": [
    "fib_transfered_twice_projected_states = [\n",
    "    np.matmul(v, tm)\n",
    "    for v in fib_transfered_once_projected_states\n",
    "    for tm in fib_tms\n",
    "]"
   ]
  },
  {
   "cell_type": "code",
   "execution_count": 86,
   "id": "127759c1-3972-47c7-8527-1887e196bc23",
   "metadata": {},
   "outputs": [],
   "source": [
    "transfered_twice_norms = np.array([np.linalg.norm(v) for v in fib_transfered_twice_projected_states])"
   ]
  },
  {
   "cell_type": "code",
   "execution_count": 87,
   "id": "97221c32-3202-449e-aa84-8c55bb3adda3",
   "metadata": {},
   "outputs": [
    {
     "data": {
      "text/plain": [
       "count    1000000.000000\n",
       "mean           0.453715\n",
       "std            0.209541\n",
       "min            0.009898\n",
       "25%            0.285996\n",
       "50%            0.440534\n",
       "75%            0.612005\n",
       "max            0.995300\n",
       "dtype: float64"
      ]
     },
     "execution_count": 87,
     "metadata": {},
     "output_type": "execute_result"
    }
   ],
   "source": [
    "pd.Series(transfered_twice_norms).describe()"
   ]
  },
  {
   "cell_type": "code",
   "execution_count": 88,
   "id": "04312810-52af-4d78-b35b-2fc0e0745ff2",
   "metadata": {},
   "outputs": [
    {
     "data": {
      "text/plain": [
       "<Axes: ylabel='Count'>"
      ]
     },
     "execution_count": 88,
     "metadata": {},
     "output_type": "execute_result"
    },
    {
     "data": {
      "image/png": "[encoded data removed]",
      "text/plain": [
       "<Figure size 640x480 with 1 Axes>"
      ]
     },
     "metadata": {},
     "output_type": "display_data"
    }
   ],
   "source": [
    "sns.histplot(transfered_twice_norms)"
   ]
  },
  {
   "cell_type": "markdown",
   "id": "a8e7c9f3-492b-4bcf-9596-286954545024",
   "metadata": {},
   "source": [
    "Form the right environment vector."
   ]
  },
  {
   "cell_type": "code",
   "execution_count": 89,
   "id": "2ef12b1a-588a-422b-bf37-3da353b445ba",
   "metadata": {},
   "outputs": [],
   "source": [
    "vR = np.identity(8).reshape((64,))"
   ]
  },
  {
   "cell_type": "code",
   "execution_count": 90,
   "id": "b93e04ef-07dd-48ae-913a-ff4d09875d7f",
   "metadata": {},
   "outputs": [],
   "source": [
    "fib_transfered_twice_inner_products = [\n",
    "    np.abs(np.dot(v, vR)) for v in fib_transfered_twice_projected_states\n",
    "]"
   ]
  },
  {
   "cell_type": "code",
   "execution_count": 91,
   "id": "6afc428e-d379-4890-a001-70c84b71e364",
   "metadata": {},
   "outputs": [
    {
     "data": {
      "text/plain": [
       "count    1.000000e+06\n",
       "mean     1.315019e-03\n",
       "std      1.113661e-03\n",
       "min      5.158361e-07\n",
       "25%      4.554196e-04\n",
       "50%      9.880402e-04\n",
       "75%      1.866744e-03\n",
       "max      6.539194e-03\n",
       "dtype: float64"
      ]
     },
     "execution_count": 91,
     "metadata": {},
     "output_type": "execute_result"
    }
   ],
   "source": [
    "pd.Series(fib_transfered_twice_inner_products).describe()"
   ]
  },
  {
   "cell_type": "code",
   "execution_count": 92,
   "id": "bf59f723-34f4-49af-b358-83ce04a65000",
   "metadata": {},
   "outputs": [
    {
     "data": {
      "text/plain": [
       "<Axes: ylabel='Count'>"
      ]
     },
     "execution_count": 92,
     "metadata": {},
     "output_type": "execute_result"
    },
    {
     "data": {
      "image/png": "[encoded data removed]",
      "text/plain": [
       "<Figure size 640x480 with 1 Axes>"
      ]
     },
     "metadata": {},
     "output_type": "display_data"
    }
   ],
   "source": [
    "sns.histplot(fib_transfered_twice_inner_products)"
   ]
  },
  {
   "cell_type": "markdown",
   "id": "80e8b383-b2b9-4bb1-a02d-6d11239e335e",
   "metadata": {},
   "source": [
    "## Implement search algorithm\n",
    "### First step"
   ]
  },
  {
   "cell_type": "code",
   "execution_count": 93,
   "id": "ba81895d-d4ae-4a27-9243-e48493586b21",
   "metadata": {},
   "outputs": [],
   "source": [
    "base_unitaries = np.array([np_I, 1j*np_X, 1j*np_Y, 1j*np_Z])"
   ]
  },
  {
   "cell_type": "code",
   "execution_count": 94,
   "id": "20fc7284-7896-49c8-b098-9c57c60c1955",
   "metadata": {},
   "outputs": [
    {
     "data": {
      "text/plain": [
       "(4, 2, 2)"
      ]
     },
     "execution_count": 94,
     "metadata": {},
     "output_type": "execute_result"
    }
   ],
   "source": [
    "base_unitaries.shape"
   ]
  },
  {
   "cell_type": "code",
   "execution_count": 95,
   "id": "a2e90ea1-3cb7-46ce-ab32-98453c8e7cc2",
   "metadata": {},
   "outputs": [
    {
     "data": {
      "text/plain": [
       "130"
      ]
     },
     "execution_count": 95,
     "metadata": {},
     "output_type": "execute_result"
    }
   ],
   "source": [
    "index"
   ]
  },
  {
   "cell_type": "code",
   "execution_count": 96,
   "id": "48807138-3e34-437e-b40a-3ef69007a45e",
   "metadata": {},
   "outputs": [],
   "source": [
    "base_tms = np.array([\n",
    "    get_transfer_matrix_from_unitary(test_psi, u, index)\n",
    "    .combine_legs([['vL', 'vL*'], ['vR', 'vR*']])\n",
    "    .to_ndarray()\n",
    "    for u in base_unitaries\n",
    "])"
   ]
  },
  {
   "cell_type": "code",
   "execution_count": 97,
   "id": "94ec32a6-8253-4844-8a21-1fd1e5b08587",
   "metadata": {},
   "outputs": [
    {
     "data": {
      "text/plain": [
       "(4, 64, 64)"
      ]
     },
     "execution_count": 97,
     "metadata": {},
     "output_type": "execute_result"
    }
   ],
   "source": [
    "base_tms.shape"
   ]
  },
  {
   "cell_type": "code",
   "execution_count": 98,
   "id": "1cc1b06c-fa4d-4bb9-a7cc-8c57a29e818d",
   "metadata": {},
   "outputs": [],
   "source": [
    "base_vectors = np.matmul(right_projected_symmetry_state.conj(), base_tms)"
   ]
  },
  {
   "cell_type": "code",
   "execution_count": 99,
   "id": "4719729a-c33b-4921-b481-cdc21c5f3e96",
   "metadata": {},
   "outputs": [
    {
     "data": {
      "text/plain": [
       "(4, 64)"
      ]
     },
     "execution_count": 99,
     "metadata": {},
     "output_type": "execute_result"
    }
   ],
   "source": [
    "base_vectors.shape"
   ]
  },
  {
   "cell_type": "code",
   "execution_count": 100,
   "id": "bf855e79-6a83-4d7d-b5c3-09400aa2a357",
   "metadata": {},
   "outputs": [],
   "source": [
    "super_fib_points = np.array([p for p in super_fibonacci(1000) if p[0] >= 0])"
   ]
  },
  {
   "cell_type": "code",
   "execution_count": 101,
   "id": "412dc043-6b03-43a8-978a-e75cecfe18a7",
   "metadata": {},
   "outputs": [
    {
     "data": {
      "text/plain": [
       "503"
      ]
     },
     "execution_count": 101,
     "metadata": {},
     "output_type": "execute_result"
    }
   ],
   "source": [
    "len(super_fib_points)"
   ]
  },
  {
   "cell_type": "code",
   "execution_count": 102,
   "id": "26d95b0c-4ad1-4b2c-bea6-bad3af441d57",
   "metadata": {},
   "outputs": [
    {
     "data": {
      "text/plain": [
       "(503, 4)"
      ]
     },
     "execution_count": 102,
     "metadata": {},
     "output_type": "execute_result"
    }
   ],
   "source": [
    "super_fib_points.shape"
   ]
  },
  {
   "cell_type": "code",
   "execution_count": 103,
   "id": "54fc17c5-e4bf-4a63-9959-04158a6a2248",
   "metadata": {},
   "outputs": [],
   "source": [
    "sample_points = np.matmul(super_fib_points, base_vectors)"
   ]
  },
  {
   "cell_type": "code",
   "execution_count": 104,
   "id": "9df9d130-bbbc-4768-bc31-2fa81f0770ca",
   "metadata": {},
   "outputs": [
    {
     "data": {
      "text/plain": [
       "(503, 64)"
      ]
     },
     "execution_count": 104,
     "metadata": {},
     "output_type": "execute_result"
    }
   ],
   "source": [
    "sample_points.shape"
   ]
  },
  {
   "cell_type": "code",
   "execution_count": 105,
   "id": "307a356c-c7d7-4eef-845f-383b2168b2af",
   "metadata": {},
   "outputs": [],
   "source": [
    "inner_products = np.matmul(sample_points, vR)"
   ]
  },
  {
   "cell_type": "code",
   "execution_count": 106,
   "id": "96ec759e-90bd-476e-bcc1-712d78d059d4",
   "metadata": {},
   "outputs": [
    {
     "data": {
      "text/plain": [
       "(503,)"
      ]
     },
     "execution_count": 106,
     "metadata": {},
     "output_type": "execute_result"
    }
   ],
   "source": [
    "inner_products.shape"
   ]
  },
  {
   "cell_type": "code",
   "execution_count": 107,
   "id": "3af053a7-140d-4528-a378-ee24995285fa",
   "metadata": {},
   "outputs": [
    {
     "data": {
      "text/plain": [
       "count    5.030000e+02\n",
       "mean     4.069730e-11\n",
       "std      1.759418e-11\n",
       "min      1.275686e-12\n",
       "25%      2.796019e-11\n",
       "50%      3.946762e-11\n",
       "75%      5.345921e-11\n",
       "max      7.830460e-11\n",
       "dtype: float64"
      ]
     },
     "execution_count": 107,
     "metadata": {},
     "output_type": "execute_result"
    }
   ],
   "source": [
    "pd.Series(np.abs(inner_products)).describe()"
   ]
  },
  {
   "cell_type": "code",
   "execution_count": 108,
   "id": "0d36595e-91f9-497b-bfed-5bf8d33a6e1b",
   "metadata": {},
   "outputs": [],
   "source": [
    "dists = np.linalg.norm(sample_points[np.newaxis, :, :] - sample_points[:, np.newaxis, :], axis=2)"
   ]
  },
  {
   "cell_type": "code",
   "execution_count": 109,
   "id": "21088569-e857-4f7d-988d-713baa2ab04f",
   "metadata": {},
   "outputs": [
    {
     "data": {
      "text/plain": [
       "array([[0.        , 0.9919521 , 0.09822114, ..., 0.88250178, 0.99372412,\n",
       "        1.29439041],\n",
       "       [0.9919521 , 0.        , 1.08170612, ..., 0.34610005, 0.62939794,\n",
       "        0.93474585],\n",
       "       [0.09822114, 1.08170612, 0.        , ..., 0.97537336, 1.04626091,\n",
       "        1.38599984],\n",
       "       ...,\n",
       "       [0.88250178, 0.34610005, 0.97537336, ..., 0.        , 0.7317492 ,\n",
       "        0.77832944],\n",
       "       [0.99372412, 0.62939794, 1.04626091, ..., 0.7317492 , 0.        ,\n",
       "        1.49497488],\n",
       "       [1.29439041, 0.93474585, 1.38599984, ..., 0.77832944, 1.49497488,\n",
       "        0.        ]])"
      ]
     },
     "execution_count": 109,
     "metadata": {},
     "output_type": "execute_result"
    }
   ],
   "source": [
    "dists"
   ]
  },
  {
   "cell_type": "code",
   "execution_count": 110,
   "id": "99c56b88-2d5b-4e86-9168-6aa6159feb1e",
   "metadata": {},
   "outputs": [],
   "source": [
    "dists_vec = np.triu(dists).flatten()\n",
    "dists_vec = dists_vec[dists_vec > 0]"
   ]
  },
  {
   "cell_type": "code",
   "execution_count": 111,
   "id": "51e307e9-6838-4adb-90d0-0e2b118fb573",
   "metadata": {},
   "outputs": [
    {
     "data": {
      "text/plain": [
       "count    126253.000000\n",
       "mean          0.896487\n",
       "std           0.410743\n",
       "min           0.027169\n",
       "25%           0.574972\n",
       "50%           0.880222\n",
       "75%           1.202690\n",
       "max           1.972426\n",
       "dtype: float64"
      ]
     },
     "execution_count": 111,
     "metadata": {},
     "output_type": "execute_result"
    }
   ],
   "source": [
    "pd.Series(dists_vec).describe()"
   ]
  },
  {
   "cell_type": "code",
   "execution_count": 112,
   "id": "89aa8d46-6158-4cda-a187-75639dd3b1b8",
   "metadata": {},
   "outputs": [
    {
     "data": {
      "text/plain": [
       "<Axes: ylabel='Count'>"
      ]
     },
     "execution_count": 112,
     "metadata": {},
     "output_type": "execute_result"
    },
    {
     "data": {
      "image/png": "[encoded data removed]",
      "text/plain": [
       "<Figure size 640x480 with 1 Axes>"
      ]
     },
     "metadata": {},
     "output_type": "display_data"
    }
   ],
   "source": [
    "sns.histplot(dists_vec)"
   ]
  },
  {
   "cell_type": "markdown",
   "id": "8e51e8a4-cf81-4835-bc05-85714d6198d9",
   "metadata": {},
   "source": [
    "### Second step"
   ]
  },
  {
   "cell_type": "code",
   "execution_count": 113,
   "id": "63607d36-6ea9-4243-a8f4-22085338a273",
   "metadata": {},
   "outputs": [],
   "source": [
    "second_tms = np.array([\n",
    "    get_transfer_matrix_from_unitary(test_psi, u, index+1)\n",
    "    .combine_legs([['vL', 'vL*'], ['vR', 'vR*']])\n",
    "    .to_ndarray()\n",
    "    for u in base_unitaries\n",
    "])"
   ]
  },
  {
   "cell_type": "code",
   "execution_count": 114,
   "id": "565688af-eeac-41a9-960a-84676d42d363",
   "metadata": {},
   "outputs": [
    {
     "data": {
      "text/plain": [
       "(4, 64, 64)"
      ]
     },
     "execution_count": 114,
     "metadata": {},
     "output_type": "execute_result"
    }
   ],
   "source": [
    "second_tms.shape"
   ]
  },
  {
   "cell_type": "code",
   "execution_count": 115,
   "id": "7dd28ba9-a762-4d46-916f-9906488b7fac",
   "metadata": {},
   "outputs": [],
   "source": [
    "second_vectors = np.matmul(sample_points, base_tms)"
   ]
  },
  {
   "cell_type": "code",
   "execution_count": 116,
   "id": "466fd09f-5171-4aff-a1be-08497044af24",
   "metadata": {},
   "outputs": [
    {
     "data": {
      "text/plain": [
       "(4, 503, 64)"
      ]
     },
     "execution_count": 116,
     "metadata": {},
     "output_type": "execute_result"
    }
   ],
   "source": [
    "second_vectors.shape"
   ]
  },
  {
   "cell_type": "code",
   "execution_count": 117,
   "id": "7ce33724-f771-422a-9abe-2fd48d48aacc",
   "metadata": {},
   "outputs": [
    {
     "data": {
      "text/plain": [
       "(503, 4)"
      ]
     },
     "execution_count": 117,
     "metadata": {},
     "output_type": "execute_result"
    }
   ],
   "source": [
    "super_fib_points.shape"
   ]
  },
  {
   "cell_type": "code",
   "execution_count": 118,
   "id": "f64589ae-246d-412c-9b6e-43cf1b4e5528",
   "metadata": {},
   "outputs": [],
   "source": [
    "second_sample_points = np.tensordot(super_fib_points, second_vectors, [[1,], [0,]])"
   ]
  },
  {
   "cell_type": "code",
   "execution_count": 119,
   "id": "0214b1ee-f30c-4c8e-a052-eaccc46b8006",
   "metadata": {},
   "outputs": [
    {
     "data": {
      "text/plain": [
       "(503, 503, 64)"
      ]
     },
     "execution_count": 119,
     "metadata": {},
     "output_type": "execute_result"
    }
   ],
   "source": [
    "second_sample_points.shape"
   ]
  },
  {
   "cell_type": "code",
   "execution_count": 120,
   "id": "08362c70-6699-461e-b2a0-e469f7985656",
   "metadata": {},
   "outputs": [
    {
     "data": {
      "text/plain": [
       "(64,)"
      ]
     },
     "execution_count": 120,
     "metadata": {},
     "output_type": "execute_result"
    }
   ],
   "source": [
    "vR.shape"
   ]
  },
  {
   "cell_type": "code",
   "execution_count": 121,
   "id": "db18cebb-a90d-4ee7-982c-55cb5bcfd1fc",
   "metadata": {},
   "outputs": [],
   "source": [
    "second_inner_products = np.dot(second_sample_points, vR).flatten()"
   ]
  },
  {
   "cell_type": "code",
   "execution_count": 122,
   "id": "1eb21bc5-63c9-4726-8986-95185055f29e",
   "metadata": {},
   "outputs": [
    {
     "data": {
      "text/plain": [
       "(253009,)"
      ]
     },
     "execution_count": 122,
     "metadata": {},
     "output_type": "execute_result"
    }
   ],
   "source": [
    "second_inner_products.shape"
   ]
  },
  {
   "cell_type": "code",
   "execution_count": 123,
   "id": "588cb863-2a4b-4586-bd94-a4b393d5543c",
   "metadata": {},
   "outputs": [
    {
     "data": {
      "text/plain": [
       "count    2.530090e+05\n",
       "mean     1.326700e-03\n",
       "std      1.125061e-03\n",
       "min      5.366142e-07\n",
       "25%      4.545131e-04\n",
       "50%      9.972213e-04\n",
       "75%      1.882976e-03\n",
       "max      6.492501e-03\n",
       "dtype: float64"
      ]
     },
     "execution_count": 123,
     "metadata": {},
     "output_type": "execute_result"
    }
   ],
   "source": [
    "pd.Series(np.abs(second_inner_products)).describe()"
   ]
  },
  {
   "cell_type": "code",
   "execution_count": 124,
   "id": "0f8314b5-d347-4abe-b004-fbb530fec8ad",
   "metadata": {},
   "outputs": [
    {
     "data": {
      "text/plain": [
       "array([0.00297775, 0.00485874, 0.00581784, 0.0062891 ])"
      ]
     },
     "execution_count": 124,
     "metadata": {},
     "output_type": "execute_result"
    }
   ],
   "source": [
    "np.percentile(np.abs(second_inner_products), [90, 99, 99.9, 99.99])"
   ]
  },
  {
   "cell_type": "code",
   "execution_count": 125,
   "id": "106f92c9-963d-4950-b9f8-1cc988242ef7",
   "metadata": {},
   "outputs": [
    {
     "data": {
      "text/plain": [
       "0.005817843036149485"
      ]
     },
     "execution_count": 125,
     "metadata": {},
     "output_type": "execute_result"
    }
   ],
   "source": [
    "np.percentile(np.abs(second_inner_products), 99.9)"
   ]
  },
  {
   "cell_type": "code",
   "execution_count": 126,
   "id": "6dadf456-27a9-4105-a91c-652f08ea468c",
   "metadata": {},
   "outputs": [],
   "source": [
    "inner_product_threshold = 0.00577334"
   ]
  },
  {
   "cell_type": "code",
   "execution_count": 127,
   "id": "6de4a603-c345-447d-91f7-f021ed6c0599",
   "metadata": {},
   "outputs": [],
   "source": [
    "second_filtered_points = np.reshape(second_sample_points, (-1, 64))[np.abs(second_inner_products) > inner_product_threshold]"
   ]
  },
  {
   "cell_type": "code",
   "execution_count": 128,
   "id": "fa395547-8cac-4a81-b424-a589ab5d6d66",
   "metadata": {},
   "outputs": [
    {
     "data": {
      "text/plain": [
       "(300, 64)"
      ]
     },
     "execution_count": 128,
     "metadata": {},
     "output_type": "execute_result"
    }
   ],
   "source": [
    "second_filtered_points.shape"
   ]
  },
  {
   "cell_type": "code",
   "execution_count": 129,
   "id": "03c75911-bff5-4a75-a00b-a416787eb7bf",
   "metadata": {},
   "outputs": [],
   "source": [
    "second_dists = np.linalg.norm(second_filtered_points[np.newaxis, :, :] - second_filtered_points[:, np.newaxis, :], axis=2)"
   ]
  },
  {
   "cell_type": "code",
   "execution_count": 130,
   "id": "35b0c82a-a31d-466c-a0c4-c92837086384",
   "metadata": {},
   "outputs": [
    {
     "data": {
      "text/plain": [
       "array([[0.        , 0.24038763, 0.09178719, ..., 0.20920309, 0.40328741,\n",
       "        0.36774433],\n",
       "       [0.24038763, 0.        , 0.26225497, ..., 0.22625141, 0.41294007,\n",
       "        0.29079599],\n",
       "       [0.09178719, 0.26225497, 0.        , ..., 0.28096323, 0.32084974,\n",
       "        0.44257779],\n",
       "       ...,\n",
       "       [0.20920309, 0.22625141, 0.28096323, ..., 0.        , 0.55487094,\n",
       "        0.18388014],\n",
       "       [0.40328741, 0.41294007, 0.32084974, ..., 0.55487094, 0.        ,\n",
       "        0.68891064],\n",
       "       [0.36774433, 0.29079599, 0.44257779, ..., 0.18388014, 0.68891064,\n",
       "        0.        ]])"
      ]
     },
     "execution_count": 130,
     "metadata": {},
     "output_type": "execute_result"
    }
   ],
   "source": [
    "second_dists"
   ]
  },
  {
   "cell_type": "code",
   "execution_count": 131,
   "id": "f60bd1ca-d291-44af-ba23-bf0792604e7c",
   "metadata": {},
   "outputs": [],
   "source": [
    "second_dists_vec = np.triu(second_dists).flatten()\n",
    "second_dists_vec = second_dists_vec[second_dists_vec > 0]"
   ]
  },
  {
   "cell_type": "code",
   "execution_count": 132,
   "id": "e02cec99-81e3-4742-91c6-cc80df291411",
   "metadata": {},
   "outputs": [
    {
     "data": {
      "text/plain": [
       "count    44850.000000\n",
       "mean         0.302574\n",
       "std          0.145273\n",
       "min          0.003528\n",
       "25%          0.189745\n",
       "50%          0.282527\n",
       "75%          0.395621\n",
       "max          0.859299\n",
       "dtype: float64"
      ]
     },
     "execution_count": 132,
     "metadata": {},
     "output_type": "execute_result"
    }
   ],
   "source": [
    "pd.Series(second_dists_vec).describe()"
   ]
  },
  {
   "cell_type": "code",
   "execution_count": 133,
   "id": "c2664a2f-74e6-4530-b00d-f4a6ed3dc6d7",
   "metadata": {},
   "outputs": [
    {
     "data": {
      "text/plain": [
       "<Axes: ylabel='Count'>"
      ]
     },
     "execution_count": 133,
     "metadata": {},
     "output_type": "execute_result"
    },
    {
     "data": {
      "image/png": "[encoded data removed]",
      "text/plain": [
       "<Figure size 640x480 with 1 Axes>"
      ]
     },
     "metadata": {},
     "output_type": "display_data"
    }
   ],
   "source": [
    "sns.histplot(dists_vec)"
   ]
  },
  {
   "cell_type": "markdown",
   "id": "39c7f729-8e24-450e-91a3-7021c1141ed4",
   "metadata": {},
   "source": [
    "### Make into a function"
   ]
  },
  {
   "cell_type": "code",
   "execution_count": 134,
   "id": "17a3581e-58be-4c13-b953-e753e9083d28",
   "metadata": {},
   "outputs": [],
   "source": [
    "def search_step(previous_points, s3_previous_points, s3_sample_points, num_next_points, index, vR):\n",
    "    base_tms = np.array([\n",
    "        get_transfer_matrix_from_unitary(test_psi, u, index)\n",
    "        .combine_legs([['vL', 'vL*'], ['vR', 'vR*']])\n",
    "        .to_ndarray()\n",
    "        for u in base_unitaries\n",
    "    ])\n",
    "\n",
    "    base_vectors = np.matmul(previous_points, base_tms)\n",
    "    base_overlaps = np.dot(base_vectors, vR)\n",
    "\n",
    "    #overlaps = np.abs(np.tensordot(s3_sample_points, base_overlaps, [[1,], [0,]])).flatten()\n",
    "    overlaps = np.abs(np.tensordot(s3_sample_points, base_overlaps, [[1,], [0,]]))\n",
    "    target_percentile = 100.0*(1.0 - min(1, num_next_points/(overlaps.size)))\n",
    "    overlap_threshold = np.percentile(overlaps, target_percentile)\n",
    "\n",
    "    print(overlap_threshold)\n",
    "\n",
    "    all_next_points = np.tensordot(s3_sample_points, base_vectors, [[1,], [0,]])\n",
    "\n",
    "    overlaps_filter = (overlaps > overlap_threshold)\n",
    "    print(overlaps_filter.shape)\n",
    "    print(overlaps_filter.sum())\n",
    "    print(np.var(overlaps))\n",
    "    \n",
    "\n",
    "    if s3_previous_points is None:\n",
    "        assert previous_points.shape[0] == 1\n",
    "        all_next_s3_points = s3_sample_points[:, np.newaxis, np.newaxis, :]\n",
    "        next_s3_depth = 1\n",
    "    else:\n",
    "        prev_num_s3_points, prev_s3_depth, *_ = s3_previous_points.shape\n",
    "        next_s3_depth = prev_s3_depth + 1\n",
    "\n",
    "        num_s3_sample_points = s3_sample_points.shape[0]\n",
    "        all_next_s3_points = np.zeros((num_s3_sample_points, prev_num_s3_points, next_s3_depth, 4))\n",
    "        \n",
    "        all_next_s3_points[:, :, :-1, :] = s3_previous_points[np.newaxis, ...]\n",
    "        all_next_s3_points[:, :, -1, :] = s3_sample_points[:, np.newaxis, :]\n",
    "        #all_next_s3_points = all_next_s3_points.reshape((prev_num_s3_points*num_s3_sample_points, prev_s3_depth + 1, 4))\n",
    "\n",
    "    \"\"\"\n",
    "    filtered_next_s3_points = np.reshape(all_next_s3_points[overlaps_filter], (-1, next_s3_depth, 4))\n",
    "    filtered_next_points = np.reshape(all_next_points[overlaps_filter], (-1, 64))\n",
    "    filtered_overlaps = overlaps[overlaps_filter].flatten()\n",
    "    \"\"\"\n",
    "    \n",
    "    filtered_next_s3_points = all_next_s3_points[overlaps_filter]\n",
    "    filtered_next_points = all_next_points[overlaps_filter]\n",
    "    filtered_overlaps = overlaps[overlaps_filter]\n",
    "\n",
    "    return (filtered_next_points, filtered_next_s3_points, filtered_overlaps)"
   ]
  },
  {
   "cell_type": "code",
   "execution_count": 135,
   "id": "22cdcf44-63a6-49c0-8d09-ffba390ddf31",
   "metadata": {},
   "outputs": [],
   "source": [
    "a = np.arange(10).reshape((2,5))"
   ]
  },
  {
   "cell_type": "code",
   "execution_count": 136,
   "id": "e8366649-4bfa-4c09-8c95-d4ff8e93dba5",
   "metadata": {},
   "outputs": [
    {
     "data": {
      "text/plain": [
       "array([[0, 1, 2, 3, 4],\n",
       "       [5, 6, 7, 8, 9]])"
      ]
     },
     "execution_count": 136,
     "metadata": {},
     "output_type": "execute_result"
    }
   ],
   "source": [
    "a"
   ]
  },
  {
   "cell_type": "code",
   "execution_count": 137,
   "id": "47440cd5-0fc4-4766-88ce-aacb0a77408f",
   "metadata": {},
   "outputs": [
    {
     "data": {
      "text/plain": [
       "array([[False, False, False,  True,  True],\n",
       "       [ True,  True,  True,  True,  True]])"
      ]
     },
     "execution_count": 137,
     "metadata": {},
     "output_type": "execute_result"
    }
   ],
   "source": [
    "a > 2"
   ]
  },
  {
   "cell_type": "code",
   "execution_count": 138,
   "id": "c4234c1a-cc48-4217-a800-be2fa0a26bdc",
   "metadata": {},
   "outputs": [
    {
     "data": {
      "text/plain": [
       "array([0, 1, 2, 3, 4, 5, 6, 7, 8, 9])"
      ]
     },
     "execution_count": 138,
     "metadata": {},
     "output_type": "execute_result"
    }
   ],
   "source": [
    "a[a>-1]"
   ]
  },
  {
   "cell_type": "code",
   "execution_count": 139,
   "id": "a92e89c1-3115-48e6-941e-e9c15e6837b6",
   "metadata": {},
   "outputs": [],
   "source": [
    "index = (test_psi.L)//2 + 30"
   ]
  },
  {
   "cell_type": "code",
   "execution_count": 140,
   "id": "5a017953-dfee-42a3-9895-4a76f0e1073b",
   "metadata": {},
   "outputs": [],
   "source": [
    "N = 10000"
   ]
  },
  {
   "cell_type": "code",
   "execution_count": 141,
   "id": "224d8a46-08f1-4960-af36-802e5e325c29",
   "metadata": {},
   "outputs": [],
   "source": [
    "# s3_points_0 = np.zeros((0,0,4))"
   ]
  },
  {
   "cell_type": "code",
   "execution_count": 411,
   "id": "3c0c54cc-bc2a-44f6-9362-f7f66897e335",
   "metadata": {},
   "outputs": [
    {
     "name": "stdout",
     "output_type": "stream",
     "text": [
      "1.275683795438508e-12\n",
      "(503, 1)\n",
      "502\n",
      "3.0893929246038747e-22\n"
     ]
    }
   ],
   "source": [
    "points_1, s3_points_1, overlaps_1 = search_step(\n",
    "    right_projected_symmetry_state[np.newaxis, :],\n",
    "    None,\n",
    "    super_fib_points,\n",
    "    N,\n",
    "    (test_psi.L)//2 + 30,\n",
    "    vR\n",
    ")"
   ]
  },
  {
   "cell_type": "code",
   "execution_count": 412,
   "id": "94a714cd-f2e6-4f9a-9067-59f56c8e3537",
   "metadata": {},
   "outputs": [
    {
     "data": {
      "text/plain": [
       "7.830454947183468e-11"
      ]
     },
     "execution_count": 412,
     "metadata": {},
     "output_type": "execute_result"
    }
   ],
   "source": [
    "np.max(overlaps_1)"
   ]
  },
  {
   "cell_type": "code",
   "execution_count": 413,
   "id": "24594490-92ca-40e2-950e-bb0f0865b6a4",
   "metadata": {},
   "outputs": [
    {
     "data": {
      "text/plain": [
       "(502, 64)"
      ]
     },
     "execution_count": 413,
     "metadata": {},
     "output_type": "execute_result"
    }
   ],
   "source": [
    "points_1.shape"
   ]
  },
  {
   "cell_type": "code",
   "execution_count": 414,
   "id": "c5114fd5-d285-40c8-92d2-7155b8c9c7d8",
   "metadata": {},
   "outputs": [
    {
     "data": {
      "text/plain": [
       "(502, 1, 4)"
      ]
     },
     "execution_count": 414,
     "metadata": {},
     "output_type": "execute_result"
    }
   ],
   "source": [
    "s3_points_1.shape"
   ]
  },
  {
   "cell_type": "code",
   "execution_count": 146,
   "id": "ab8b6d50-46a6-4bfe-8808-861a8f5adbef",
   "metadata": {},
   "outputs": [],
   "source": [
    "#dists_3 = all_to_all_distances(points_3)"
   ]
  },
  {
   "cell_type": "code",
   "execution_count": 147,
   "id": "1e8130f6-1484-4bea-a845-c31bb8bd5de0",
   "metadata": {},
   "outputs": [],
   "source": [
    "#pd.Series(dists_3).describe()"
   ]
  },
  {
   "cell_type": "code",
   "execution_count": 415,
   "id": "e0a486e6-9e76-4e72-8be8-45985a5ffd1a",
   "metadata": {},
   "outputs": [
    {
     "data": {
      "text/plain": [
       "(503, 4)"
      ]
     },
     "execution_count": 415,
     "metadata": {},
     "output_type": "execute_result"
    }
   ],
   "source": [
    "super_fib_points.shape"
   ]
  },
  {
   "cell_type": "code",
   "execution_count": 416,
   "id": "9ea25c93-9bc6-4fea-864e-4f0a3559006b",
   "metadata": {},
   "outputs": [
    {
     "name": "stdout",
     "output_type": "stream",
     "text": [
      "0.7985486980277029\n",
      "(503, 502)\n",
      "10000\n",
      "0.055324575755854824\n"
     ]
    }
   ],
   "source": [
    "points_2, s3_points_2, overlap_2 = search_step(points_1, s3_points_1, super_fib_points, N, (test_psi.L)//2 + 30+1, vR)"
   ]
  },
  {
   "cell_type": "code",
   "execution_count": 417,
   "id": "3a6fcc45-b947-47a2-9712-83cf14bdec0e",
   "metadata": {},
   "outputs": [
    {
     "data": {
      "text/plain": [
       "1.3385384571321608"
      ]
     },
     "execution_count": 417,
     "metadata": {},
     "output_type": "execute_result"
    }
   ],
   "source": [
    "np.max(overlap_2)"
   ]
  },
  {
   "cell_type": "code",
   "execution_count": 418,
   "id": "f1dbc55a-9e40-401d-ad78-5c089d27b057",
   "metadata": {},
   "outputs": [
    {
     "data": {
      "text/plain": [
       "(10000, 64)"
      ]
     },
     "execution_count": 418,
     "metadata": {},
     "output_type": "execute_result"
    }
   ],
   "source": [
    "points_2.shape"
   ]
  },
  {
   "cell_type": "code",
   "execution_count": 419,
   "id": "f43f15f6-8b93-4325-b4f2-6ad494822f79",
   "metadata": {},
   "outputs": [
    {
     "data": {
      "text/plain": [
       "(10000, 2, 4)"
      ]
     },
     "execution_count": 419,
     "metadata": {},
     "output_type": "execute_result"
    }
   ],
   "source": [
    "s3_points_2.shape"
   ]
  },
  {
   "cell_type": "code",
   "execution_count": 153,
   "id": "30b0b400-cb33-4f27-8697-8ad7b1a01207",
   "metadata": {},
   "outputs": [],
   "source": [
    "# dists_2 = all_to_all_distances(points_2)"
   ]
  },
  {
   "cell_type": "code",
   "execution_count": 154,
   "id": "6cd702ba-0c27-49ca-86e6-6e67796c8f07",
   "metadata": {},
   "outputs": [],
   "source": [
    "# pd.Series(dists_2).describe()"
   ]
  },
  {
   "cell_type": "code",
   "execution_count": 155,
   "id": "bd5d8a2f-8a98-4ffd-8d10-216980c235a3",
   "metadata": {},
   "outputs": [],
   "source": [
    "# sns.histplot(dists_2)"
   ]
  },
  {
   "cell_type": "code",
   "execution_count": 420,
   "id": "4c6c714e-78aa-48fe-bddf-82ee8d952397",
   "metadata": {},
   "outputs": [
    {
     "name": "stdout",
     "output_type": "stream",
     "text": [
      "1.0998994245267626\n",
      "(503, 10000)\n",
      "10000\n",
      "0.053109959349186144\n"
     ]
    }
   ],
   "source": [
    "points_3, s3_points_3, overlaps_3 = search_step(points_2, s3_points_2, super_fib_points, N, (test_psi.L)//2 + 30 +2, vR)"
   ]
  },
  {
   "cell_type": "code",
   "execution_count": 421,
   "id": "f7f9a98b-ca0b-444e-bb55-54c7b5e5828c",
   "metadata": {},
   "outputs": [
    {
     "data": {
      "text/plain": [
       "1.322568351285101"
      ]
     },
     "execution_count": 421,
     "metadata": {},
     "output_type": "execute_result"
    }
   ],
   "source": [
    "np.max(overlaps_3)"
   ]
  },
  {
   "cell_type": "code",
   "execution_count": 422,
   "id": "c70332c9-6854-4692-8a30-44896ff7c591",
   "metadata": {},
   "outputs": [
    {
     "data": {
      "text/plain": [
       "(10000, 64)"
      ]
     },
     "execution_count": 422,
     "metadata": {},
     "output_type": "execute_result"
    }
   ],
   "source": [
    "points_3.shape"
   ]
  },
  {
   "cell_type": "code",
   "execution_count": 423,
   "id": "05d3159a-8269-40cd-8924-f5cc5f2d9088",
   "metadata": {},
   "outputs": [
    {
     "data": {
      "text/plain": [
       "array([[ 0.02770535,  0.98169874, -0.15216804,  0.11110755],\n",
       "       [ 0.01440665,  0.03595064, -0.13772195,  0.98971343],\n",
       "       [ 0.83010546, -0.03774811,  0.53265619,  0.16055336]])"
      ]
     },
     "execution_count": 423,
     "metadata": {},
     "output_type": "execute_result"
    }
   ],
   "source": [
    "s3_points_3[0]"
   ]
  },
  {
   "cell_type": "code",
   "execution_count": 424,
   "id": "722fa815-2d55-4d45-9aca-ce3faa963c75",
   "metadata": {},
   "outputs": [
    {
     "data": {
      "text/plain": [
       "<mpl_toolkits.mplot3d.art3d.Path3DCollection at 0x7714afd963d0>"
      ]
     },
     "execution_count": 424,
     "metadata": {},
     "output_type": "execute_result"
    },
    {
     "data": {
      "image/png": "[encoded data removed]",
      "text/plain": [
       "<Figure size 1200x1200 with 1 Axes>"
      ]
     },
     "metadata": {},
     "output_type": "display_data"
    }
   ],
   "source": [
    "fig = plt.figure(figsize=(12, 12))\n",
    "ax = fig.add_subplot(projection='3d')\n",
    "ax.scatter(s3_points_3[:, 0, 1], s3_points_3[:, 0, 2], s3_points_3[:, 0, 3])"
   ]
  },
  {
   "cell_type": "code",
   "execution_count": 425,
   "id": "f7fc4a56-9e38-4e61-aab0-695b6293917d",
   "metadata": {},
   "outputs": [
    {
     "data": {
      "text/plain": [
       "(10000, 10000, 10000)"
      ]
     },
     "execution_count": 425,
     "metadata": {},
     "output_type": "execute_result"
    }
   ],
   "source": [
    "len(s3_points_3[:,0,1]), len(s3_points_3[:,0,2]), len(s3_points_3[:,0,3])"
   ]
  },
  {
   "cell_type": "code",
   "execution_count": 426,
   "id": "a02d7d9a-845b-464e-994c-e19764778a93",
   "metadata": {},
   "outputs": [
    {
     "data": {
      "text/plain": [
       "array([ 0.98169874, -0.98614023,  0.98169874, ...,  0.98169874,\n",
       "       -0.98614023,  0.97821005])"
      ]
     },
     "execution_count": 426,
     "metadata": {},
     "output_type": "execute_result"
    }
   ],
   "source": [
    "s3_points_3[:,0,1]"
   ]
  },
  {
   "cell_type": "code",
   "execution_count": 427,
   "id": "1cf0f1ec-a3d5-4277-8bf8-5db053e1e6d7",
   "metadata": {},
   "outputs": [
    {
     "data": {
      "text/plain": [
       "<Axes: ylabel='Count'>"
      ]
     },
     "execution_count": 427,
     "metadata": {},
     "output_type": "execute_result"
    },
    {
     "data": {
      "image/png": "[encoded data removed]",
      "text/plain": [
       "<Figure size 640x480 with 1 Axes>"
      ]
     },
     "metadata": {},
     "output_type": "display_data"
    }
   ],
   "source": [
    "sns.histplot(s3_points_3[:,0,1])"
   ]
  },
  {
   "cell_type": "code",
   "execution_count": 428,
   "id": "1fc659d2-6331-40c1-9999-fd8030b3da39",
   "metadata": {},
   "outputs": [],
   "source": [
    "import plotly.graph_objects as go"
   ]
  },
  {
   "cell_type": "code",
   "execution_count": 429,
   "id": "32b41718-98cd-41a9-8f19-b467eeabe4ed",
   "metadata": {},
   "outputs": [],
   "source": [
    "fig = go.Figure(data=[go.Scatter3d(x=s3_points_3[:, 0, 1], y=s3_points_3[:, 0, 2], z=s3_points_3[:, 0, 3],\n",
    "                                   mode='markers')])"
   ]
  },
  {
   "cell_type": "code",
   "execution_count": 430,
   "id": "ecdb3f9d-10b6-423c-a8ce-3f1063ebf932",
   "metadata": {},
   "outputs": [],
   "source": [
    "fig.write_html(\"plots/3d_plot.html\")"
   ]
  },
  {
   "cell_type": "code",
   "execution_count": 431,
   "id": "25f4eef7-4e4a-4fd1-b6ca-3d96c90e3d95",
   "metadata": {},
   "outputs": [
    {
     "data": {
      "text/plain": [
       "(10000, 3, 4)"
      ]
     },
     "execution_count": 431,
     "metadata": {},
     "output_type": "execute_result"
    }
   ],
   "source": [
    "s3_points_3.shape"
   ]
  },
  {
   "cell_type": "code",
   "execution_count": 432,
   "id": "d7682e0f-c2b5-4796-8ee5-826a511c2ac1",
   "metadata": {},
   "outputs": [],
   "source": [
    "def all_to_all_distances(array_of_vecs):\n",
    "    X = array_of_vecs\n",
    "    dists_array = np.linalg.norm(X[np.newaxis, :, :] - X[:, np.newaxis, :], axis=2)\n",
    "\n",
    "    dists_vec = np.triu(dists_array).flatten()\n",
    "    pos_dists_vec = dists_vec[dists_vec > 0]\n",
    "\n",
    "    return pos_dists_vec"
   ]
  },
  {
   "cell_type": "markdown",
   "id": "c2fab091-1f78-49c2-a35b-f6e8e43c45df",
   "metadata": {},
   "source": [
    "### Left side\n",
    "Need to be a bit more careful as the left vector can keep changing."
   ]
  },
  {
   "cell_type": "code",
   "execution_count": 433,
   "id": "21720f79-7519-490b-bd84-781cfc8e42e2",
   "metadata": {},
   "outputs": [],
   "source": [
    "def search_step_left(previous_points, s3_previous_points, s3_sample_points, num_next_points, index, vL):\n",
    "    base_tms = np.array([\n",
    "        get_transfer_matrix_from_unitary(test_psi, u, index)\n",
    "        .combine_legs([['vL', 'vL*'], ['vR', 'vR*']])\n",
    "        .to_ndarray()\n",
    "        for u in base_unitaries\n",
    "    ])\n",
    "\n",
    "    base_vectors = np.tensordot(previous_points, base_tms, [[-1,], [2,]])\n",
    "    base_overlaps = np.dot(base_vectors, vL)\n",
    "\n",
    "    #overlaps = np.abs(np.tensordot(s3_sample_points, base_overlaps, [[1,], [1,]])).flatten()\n",
    "    overlaps = np.abs(np.tensordot(s3_sample_points, base_overlaps, [[1,], [1,]]))\n",
    "    target_percentile = 100.0*(1.0 - min(1, num_next_points/(overlaps.size)))\n",
    "    overlap_threshold = np.percentile(overlaps, target_percentile)\n",
    "\n",
    "    all_next_points = np.tensordot(s3_sample_points, base_vectors, [[1,], [1,]])\n",
    "\n",
    "    overlaps_filter = (overlaps > overlap_threshold)\n",
    "\n",
    "    if s3_previous_points is None:\n",
    "        assert previous_points.shape[0] == 1\n",
    "        all_next_s3_points = s3_sample_points[:, np.newaxis, np.newaxis, :]\n",
    "        next_s3_depth = 1\n",
    "    else:\n",
    "        prev_num_s3_points, prev_s3_depth, *_ = s3_previous_points.shape\n",
    "        next_s3_depth = prev_s3_depth + 1\n",
    "\n",
    "        num_s3_sample_points = s3_sample_points.shape[0]\n",
    "        all_next_s3_points = np.zeros((num_s3_sample_points, prev_num_s3_points, next_s3_depth, 4))\n",
    "        \n",
    "        all_next_s3_points[:, :, :-1, :] = s3_previous_points[np.newaxis, ...]\n",
    "        all_next_s3_points[:, :, -1, :] = s3_sample_points[:, np.newaxis, :]\n",
    "        #all_next_s3_points = all_next_s3_points.reshape((prev_num_s3_points*num_s3_sample_points, prev_s3_depth + 1, 4))\n",
    "\n",
    "    filtered_next_s3_points = np.reshape(all_next_s3_points[overlaps_filter], (-1, next_s3_depth, 4))\n",
    "    filtered_next_points = np.reshape(all_next_points[overlaps_filter], (-1, 64))\n",
    "    filtered_overlaps = overlaps[overlaps_filter].flatten()\n",
    "        \n",
    "    return (filtered_next_points, filtered_next_s3_points, filtered_overlaps)"
   ]
  },
  {
   "cell_type": "code",
   "execution_count": 360,
   "id": "baad275c-9ac4-40bd-a9b5-65e36f5ef5cd",
   "metadata": {},
   "outputs": [],
   "source": [
    "index = (test_psi.L//2) -1"
   ]
  },
  {
   "cell_type": "code",
   "execution_count": 434,
   "id": "f8d71252-23c1-4159-9849-b7e39673bf69",
   "metadata": {},
   "outputs": [
    {
     "data": {
      "text/plain": [
       "(64,)"
      ]
     },
     "execution_count": 434,
     "metadata": {},
     "output_type": "execute_result"
    }
   ],
   "source": [
    "left_projected_symmetry_state.shape"
   ]
  },
  {
   "cell_type": "code",
   "execution_count": 435,
   "id": "d68bf44b-3d62-4be0-b1ca-1b701277bef7",
   "metadata": {},
   "outputs": [],
   "source": [
    "base_tms = np.array([\n",
    "    get_transfer_matrix_from_unitary(test_psi, u, index)\n",
    "    .combine_legs([['vL', 'vL*'], ['vR', 'vR*']])\n",
    "    .to_ndarray()\n",
    "    for u in base_unitaries\n",
    "])"
   ]
  },
  {
   "cell_type": "code",
   "execution_count": 436,
   "id": "40fa8325-8731-40f6-a704-d37ad452ba3f",
   "metadata": {},
   "outputs": [
    {
     "data": {
      "text/plain": [
       "(4, 64, 64)"
      ]
     },
     "execution_count": 436,
     "metadata": {},
     "output_type": "execute_result"
    }
   ],
   "source": [
    "base_tms.shape"
   ]
  },
  {
   "cell_type": "code",
   "execution_count": 437,
   "id": "d805fe11-61e0-4696-8c32-119f26777ffc",
   "metadata": {},
   "outputs": [],
   "source": [
    "base_vectors = np.tensordot(left_projected_symmetry_state[np.newaxis, :], base_tms, [[-1,], [2,]])"
   ]
  },
  {
   "cell_type": "code",
   "execution_count": 438,
   "id": "c3a47a0a-1964-42f1-8766-ede13a14c543",
   "metadata": {},
   "outputs": [],
   "source": [
    "def get_left_environment(psi, index):\n",
    "    left_leg = psi.get_B(index).legs[0]\n",
    "    SL = npc.diag(psi.get_SL(index), left_leg, labels = ['vL', 'vR'])\n",
    "    left_environment = (\n",
    "        npc.tensordot(SL, SL.conj(), (['vL',], ['vL*',]))\n",
    "        .combine_legs([['vR', 'vR*'],])\n",
    "        .to_ndarray()\n",
    "    )\n",
    "\n",
    "    return left_environment"
   ]
  },
  {
   "cell_type": "code",
   "execution_count": 439,
   "id": "81557ccb-7ed3-42f8-9881-69f181f6e1f9",
   "metadata": {},
   "outputs": [],
   "source": [
    "vL = get_left_environment(test_psi, index)"
   ]
  },
  {
   "cell_type": "code",
   "execution_count": 440,
   "id": "69a5644c-0241-4b17-8629-36a4d0d5ce2b",
   "metadata": {},
   "outputs": [
    {
     "data": {
      "text/plain": [
       "3.9655279782236216e-11"
      ]
     },
     "execution_count": 440,
     "metadata": {},
     "output_type": "execute_result"
    }
   ],
   "source": [
    "np.linalg.norm(get_left_environment(test_psi, index) - get_left_environment(test_psi, index-1))"
   ]
  },
  {
   "cell_type": "code",
   "execution_count": 441,
   "id": "26ac8fe6-56ad-46ff-88a0-6f521e624776",
   "metadata": {},
   "outputs": [
    {
     "data": {
      "text/plain": [
       "(64,)"
      ]
     },
     "execution_count": 441,
     "metadata": {},
     "output_type": "execute_result"
    }
   ],
   "source": [
    "vL.shape"
   ]
  },
  {
   "cell_type": "code",
   "execution_count": 442,
   "id": "2a0e153d-b504-4981-8a7b-cf3537d40cfa",
   "metadata": {},
   "outputs": [],
   "source": [
    "base_overlaps = np.dot(base_vectors, vL)"
   ]
  },
  {
   "cell_type": "code",
   "execution_count": 443,
   "id": "77efaa00-98ec-40f0-9312-f5ae2ad57a46",
   "metadata": {},
   "outputs": [
    {
     "data": {
      "text/plain": [
       "(1, 4)"
      ]
     },
     "execution_count": 443,
     "metadata": {},
     "output_type": "execute_result"
    }
   ],
   "source": [
    "base_overlaps.shape"
   ]
  },
  {
   "cell_type": "code",
   "execution_count": 446,
   "id": "d097844f-34fc-4bc4-ba36-bc7cd864a80a",
   "metadata": {},
   "outputs": [],
   "source": [
    "l_points_1, l_s3_points_1, l_overlaps_1 = search_step_left(\n",
    "    left_projected_symmetry_state[np.newaxis, :],\n",
    "    None,\n",
    "    super_fib_points,\n",
    "    N,\n",
    "    (test_psi.L)//2 - 30 - 1,\n",
    "    vL\n",
    ")"
   ]
  },
  {
   "cell_type": "code",
   "execution_count": 447,
   "id": "8f3537fa-4d94-4b21-9a92-afe436bbddaa",
   "metadata": {},
   "outputs": [
    {
     "data": {
      "text/plain": [
       "0.33907274121853936"
      ]
     },
     "execution_count": 447,
     "metadata": {},
     "output_type": "execute_result"
    }
   ],
   "source": [
    "np.max(l_overlaps_1)"
   ]
  },
  {
   "cell_type": "code",
   "execution_count": 448,
   "id": "0c9edf8a-3b13-4522-a2d0-9d2c1181700f",
   "metadata": {},
   "outputs": [],
   "source": [
    "l_points_2, l_s3_points_2, l_overlaps_2 = search_step_left(\n",
    "    l_points_1,\n",
    "    l_s3_points_1,\n",
    "    super_fib_points,\n",
    "    N,\n",
    "    (test_psi.L)//2 - 30 - 2,\n",
    "    get_left_environment(test_psi, (test_psi.L)//2 - 30 - 2)\n",
    ")"
   ]
  },
  {
   "cell_type": "code",
   "execution_count": 449,
   "id": "a035db08-1687-4559-bf0b-0cfc46f827b0",
   "metadata": {},
   "outputs": [
    {
     "data": {
      "text/plain": [
       "0.3349505914391766"
      ]
     },
     "execution_count": 449,
     "metadata": {},
     "output_type": "execute_result"
    }
   ],
   "source": [
    "np.max(l_overlaps_2)"
   ]
  },
  {
   "cell_type": "code",
   "execution_count": 450,
   "id": "a791646b-77e6-4b68-b7f3-e834a497ce06",
   "metadata": {},
   "outputs": [],
   "source": [
    "l_points_3, l_s3_points_3, l_overlaps_3 = search_step_left(\n",
    "    l_points_2,\n",
    "    l_s3_points_2,\n",
    "    super_fib_points,\n",
    "    N,\n",
    "    (test_psi.L)//2 - 30 - 3,\n",
    "    get_left_environment(test_psi, (test_psi.L)//2 - 30 - 3)\n",
    ")"
   ]
  },
  {
   "cell_type": "code",
   "execution_count": 451,
   "id": "2f4898c2-f9a5-41a1-937b-6d85ad40f036",
   "metadata": {},
   "outputs": [
    {
     "data": {
      "text/plain": [
       "0.33038339366322933"
      ]
     },
     "execution_count": 451,
     "metadata": {},
     "output_type": "execute_result"
    }
   ],
   "source": [
    "np.max(l_overlaps_3)"
   ]
  },
  {
   "cell_type": "code",
   "execution_count": 452,
   "id": "18181421-2d8c-4fd3-a66a-4d0196a03c16",
   "metadata": {},
   "outputs": [
    {
     "data": {
      "text/plain": [
       "0.8739092404983074"
      ]
     },
     "execution_count": 452,
     "metadata": {},
     "output_type": "execute_result"
    }
   ],
   "source": [
    "2*np.max(l_overlaps_3)*np.max(overlaps_3)"
   ]
  },
  {
   "cell_type": "markdown",
   "id": "e7bb05ca-3dec-4f49-9b48-8b88deca3020",
   "metadata": {},
   "source": [
    "Seems reasonable... now just need to check that this answer is correct! The asymmetry is concering...\n",
    "(Maybe not actually as the symmetry operation is not symmetric.)"
   ]
  },
  {
   "cell_type": "markdown",
   "id": "75dcb4aa-3591-4db3-b229-67ce891272a4",
   "metadata": {},
   "source": [
    "### Check with overlap\n",
    "Get S3 points, then unitaries, then compute overlap as usual."
   ]
  },
  {
   "cell_type": "code",
   "execution_count": 453,
   "id": "0db0d64c-3604-404e-8b00-0b003e75c6e7",
   "metadata": {},
   "outputs": [
    {
     "data": {
      "text/plain": [
       "array([[ 0.06346218, -0.98614023, -0.13629517, -0.07016856],\n",
       "       [ 0.07896558,  0.07255644,  0.01276344, -0.99415144],\n",
       "       [ 0.98741941, -0.11181641, -0.09195797,  0.06359034]])"
      ]
     },
     "execution_count": 453,
     "metadata": {},
     "output_type": "execute_result"
    }
   ],
   "source": [
    "s3_points_3[np.argmax(overlaps_3)]"
   ]
  },
  {
   "cell_type": "code",
   "execution_count": 454,
   "id": "46d27948-0f84-44e5-b8fc-abe29e87652f",
   "metadata": {},
   "outputs": [
    {
     "data": {
      "text/plain": [
       "(3, 4)"
      ]
     },
     "execution_count": 454,
     "metadata": {},
     "output_type": "execute_result"
    }
   ],
   "source": [
    "s3_points_3[np.argmax(overlaps_3)].shape"
   ]
  },
  {
   "cell_type": "code",
   "execution_count": 455,
   "id": "023a6f95-a768-49fb-86cf-1bcb5863c05c",
   "metadata": {},
   "outputs": [
    {
     "data": {
      "text/plain": [
       "(4, 2, 2)"
      ]
     },
     "execution_count": 455,
     "metadata": {},
     "output_type": "execute_result"
    }
   ],
   "source": [
    "base_unitaries.shape"
   ]
  },
  {
   "cell_type": "code",
   "execution_count": 456,
   "id": "42d4d713-b75b-4c53-b6a1-5de6d088337e",
   "metadata": {},
   "outputs": [],
   "source": [
    "def s3_points_to_unitary(s3_points):\n",
    "    return np.tensordot(s3_points, base_unitaries, [[-1,], [0,]])"
   ]
  },
  {
   "cell_type": "code",
   "execution_count": 457,
   "id": "88a03aee-855b-4600-b291-f17a1fec0344",
   "metadata": {},
   "outputs": [],
   "source": [
    "r_unitaries = s3_points_to_unitary(s3_points_3[np.argmax(overlaps_3)])\n",
    "l_unitaries = s3_points_to_unitary(l_s3_points_3[np.argmax(l_overlaps_3)])"
   ]
  },
  {
   "cell_type": "code",
   "execution_count": 458,
   "id": "20f283dc-047d-4032-9f42-cbcc77300036",
   "metadata": {},
   "outputs": [
    {
     "data": {
      "text/plain": [
       "(3, 2, 2)"
      ]
     },
     "execution_count": 458,
     "metadata": {},
     "output_type": "execute_result"
    }
   ],
   "source": [
    "r_unitaries.shape"
   ]
  },
  {
   "cell_type": "code",
   "execution_count": 459,
   "id": "ea5c55dc-018e-480e-a52c-97b0c4e18375",
   "metadata": {},
   "outputs": [
    {
     "data": {
      "text/plain": [
       "(3, 2, 2)"
      ]
     },
     "execution_count": 459,
     "metadata": {},
     "output_type": "execute_result"
    }
   ],
   "source": [
    "l_unitaries.shape"
   ]
  },
  {
   "cell_type": "code",
   "execution_count": 460,
   "id": "e61d027b-0f8e-4f14-ae72-83e9c10d3674",
   "metadata": {},
   "outputs": [],
   "source": [
    "np_operators = [\n",
    "    *(l_unitaries[::-1]),\n",
    "    *([np_X, np_I]*30),\n",
    "    *(r_unitaries)\n",
    "]"
   ]
  },
  {
   "cell_type": "code",
   "execution_count": 461,
   "id": "84a32b06-e16e-4ebd-abbb-6f1a71fb46e6",
   "metadata": {},
   "outputs": [
    {
     "data": {
      "text/plain": [
       "66"
      ]
     },
     "execution_count": 461,
     "metadata": {},
     "output_type": "execute_result"
    }
   ],
   "source": [
    "len(np_operators)"
   ]
  },
  {
   "cell_type": "code",
   "execution_count": 462,
   "id": "127e0cac-f028-4b68-af61-721f5303d20a",
   "metadata": {},
   "outputs": [],
   "source": [
    "operators = [to_npc_array(X) for X in np_operators]"
   ]
  },
  {
   "cell_type": "code",
   "execution_count": 463,
   "id": "7a7d29a0-1ae0-4209-9abc-a11e0efd2091",
   "metadata": {},
   "outputs": [
    {
     "data": {
      "text/plain": [
       "(2, 2)"
      ]
     },
     "execution_count": 463,
     "metadata": {},
     "output_type": "execute_result"
    }
   ],
   "source": [
    "operators[0].shape"
   ]
  },
  {
   "cell_type": "code",
   "execution_count": 464,
   "id": "826c191d-9bd9-4dea-af9b-ca5028bc3463",
   "metadata": {},
   "outputs": [
    {
     "data": {
      "text/plain": [
       "<npc.Array shape=(2, 2) labels=['p', 'p*']>"
      ]
     },
     "execution_count": 464,
     "metadata": {},
     "output_type": "execute_result"
    }
   ],
   "source": [
    "operators[0]"
   ]
  },
  {
   "cell_type": "code",
   "execution_count": 465,
   "id": "a0dd610e-97ea-4a71-8e2f-27440fd92620",
   "metadata": {},
   "outputs": [],
   "source": [
    "index = ((test_psi.L)//2) - 30 - 3"
   ]
  },
  {
   "cell_type": "code",
   "execution_count": 466,
   "id": "96bea24f-0769-4cf5-9171-6c895edf34ad",
   "metadata": {},
   "outputs": [],
   "source": [
    "expectation = test_psi.expectation_value_multi_sites(operators, index)"
   ]
  },
  {
   "cell_type": "code",
   "execution_count": 467,
   "id": "fcd9b6c4-429c-48d3-90bb-82fce4bbbaae",
   "metadata": {},
   "outputs": [
    {
     "data": {
      "text/plain": [
       "0.8733476958546205"
      ]
     },
     "execution_count": 467,
     "metadata": {},
     "output_type": "execute_result"
    }
   ],
   "source": [
    "np.abs(expectation)"
   ]
  },
  {
   "cell_type": "markdown",
   "id": "30e12de4-8b0a-4bec-a11f-33acb5cc3797",
   "metadata": {},
   "source": [
    "This is wrong...\n",
    "\n",
    "Evaluate via transfer matrices"
   ]
  },
  {
   "cell_type": "code",
   "execution_count": 203,
   "id": "2fde21ef-bab7-44c9-bf6e-751b695ee866",
   "metadata": {},
   "outputs": [],
   "source": [
    "transfer_matrices = get_transfer_matrices_from_unitary_list(test_psi, np_operators, index)"
   ]
  },
  {
   "cell_type": "code",
   "execution_count": 204,
   "id": "85bea3ad-fc72-41f4-80b8-7071515c1bec",
   "metadata": {},
   "outputs": [],
   "source": [
    "overall_tm = reduce(multiply_transfer_matrices, transfer_matrices)"
   ]
  },
  {
   "cell_type": "code",
   "execution_count": 205,
   "id": "08bc6e11-cddc-4234-8452-d3d0a85c14cb",
   "metadata": {},
   "outputs": [
    {
     "data": {
      "text/plain": [
       "<npc.Array shape=(8, 8, 8, 8) labels=['vL', 'vL*', 'vR', 'vR*']>"
      ]
     },
     "execution_count": 205,
     "metadata": {},
     "output_type": "execute_result"
    }
   ],
   "source": [
    "overall_tm"
   ]
  },
  {
   "cell_type": "code",
   "execution_count": 206,
   "id": "4ef7ebf6-b0f8-4262-a89d-8e631fb6b689",
   "metadata": {},
   "outputs": [],
   "source": [
    "left_environment = get_left_environment(test_psi, index)"
   ]
  },
  {
   "cell_type": "code",
   "execution_count": 207,
   "id": "38fff1b2-77a6-42f9-80ac-41d276cc20c0",
   "metadata": {},
   "outputs": [
    {
     "data": {
      "text/plain": [
       "array([4.99678665e-01, 0.00000000e+00, 0.00000000e+00, 0.00000000e+00,\n",
       "       0.00000000e+00, 0.00000000e+00, 0.00000000e+00, 0.00000000e+00,\n",
       "       0.00000000e+00, 4.99678665e-01, 0.00000000e+00, 0.00000000e+00,\n",
       "       0.00000000e+00, 0.00000000e+00, 0.00000000e+00, 0.00000000e+00,\n",
       "       0.00000000e+00, 0.00000000e+00, 1.60641580e-04, 0.00000000e+00,\n",
       "       0.00000000e+00, 0.00000000e+00, 0.00000000e+00, 0.00000000e+00,\n",
       "       0.00000000e+00, 0.00000000e+00, 0.00000000e+00, 1.60641580e-04,\n",
       "       0.00000000e+00, 0.00000000e+00, 0.00000000e+00, 0.00000000e+00,\n",
       "       0.00000000e+00, 0.00000000e+00, 0.00000000e+00, 0.00000000e+00,\n",
       "       1.60641580e-04, 0.00000000e+00, 0.00000000e+00, 0.00000000e+00,\n",
       "       0.00000000e+00, 0.00000000e+00, 0.00000000e+00, 0.00000000e+00,\n",
       "       0.00000000e+00, 1.60641580e-04, 0.00000000e+00, 0.00000000e+00,\n",
       "       0.00000000e+00, 0.00000000e+00, 0.00000000e+00, 0.00000000e+00,\n",
       "       0.00000000e+00, 0.00000000e+00, 5.16446247e-08, 0.00000000e+00,\n",
       "       0.00000000e+00, 0.00000000e+00, 0.00000000e+00, 0.00000000e+00,\n",
       "       0.00000000e+00, 0.00000000e+00, 0.00000000e+00, 5.16446247e-08])"
      ]
     },
     "execution_count": 207,
     "metadata": {},
     "output_type": "execute_result"
    }
   ],
   "source": [
    "left_environment"
   ]
  },
  {
   "cell_type": "code",
   "execution_count": 208,
   "id": "8ac2c957-61e2-47b3-b6a0-1ea70f41f03c",
   "metadata": {},
   "outputs": [],
   "source": [
    "np_overall_tm = (\n",
    "    overall_tm\n",
    "    .combine_legs([['vL', 'vL*'], ['vR', 'vR*']])\n",
    "    .to_ndarray()\n",
    ")"
   ]
  },
  {
   "cell_type": "code",
   "execution_count": 209,
   "id": "70916d18-d115-4ad3-9d8f-11b5020b9eec",
   "metadata": {},
   "outputs": [
    {
     "data": {
      "text/plain": [
       "array([1., 0., 0., 0., 0., 0., 0., 0., 0., 1., 0., 0., 0., 0., 0., 0., 0.,\n",
       "       0., 1., 0., 0., 0., 0., 0., 0., 0., 0., 1., 0., 0., 0., 0., 0., 0.,\n",
       "       0., 0., 1., 0., 0., 0., 0., 0., 0., 0., 0., 1., 0., 0., 0., 0., 0.,\n",
       "       0., 0., 0., 1., 0., 0., 0., 0., 0., 0., 0., 0., 1.])"
      ]
     },
     "execution_count": 209,
     "metadata": {},
     "output_type": "execute_result"
    }
   ],
   "source": [
    "vR"
   ]
  },
  {
   "cell_type": "code",
   "execution_count": 210,
   "id": "ca387388-0604-406e-bc8a-4c92580bd24a",
   "metadata": {},
   "outputs": [],
   "source": [
    "expectation = np.dot(np.dot(left_environment, np_overall_tm), vR)"
   ]
  },
  {
   "cell_type": "code",
   "execution_count": 211,
   "id": "22280aa0-1fa9-4878-922c-8eabf290db4f",
   "metadata": {},
   "outputs": [
    {
     "data": {
      "text/plain": [
       "(-0.0010080339199378366+0.0038792595414330615j)"
      ]
     },
     "execution_count": 211,
     "metadata": {},
     "output_type": "execute_result"
    }
   ],
   "source": [
    "expectation"
   ]
  },
  {
   "cell_type": "code",
   "execution_count": 212,
   "id": "fa71cb6f-e780-43f2-a63b-ce387f828e7e",
   "metadata": {},
   "outputs": [
    {
     "data": {
      "text/plain": [
       "0.004008090190295709"
      ]
     },
     "execution_count": 212,
     "metadata": {},
     "output_type": "execute_result"
    }
   ],
   "source": [
    "np.abs(expectation)"
   ]
  },
  {
   "cell_type": "markdown",
   "id": "b4d2920d-13ef-401a-b0f8-f7ce7606d7c8",
   "metadata": {},
   "source": [
    "This is correct. Now perform SVD approximation."
   ]
  },
  {
   "cell_type": "code",
   "execution_count": 213,
   "id": "b14f7f0d-2fc0-4fe8-b7a4-6cc79c51dd45",
   "metadata": {},
   "outputs": [],
   "source": [
    "symmetry_tm = (\n",
    "    reduce(\n",
    "        multiply_transfer_matrices,\n",
    "        get_transfer_matrices_from_unitary_list(\n",
    "            test_psi,\n",
    "            [np_X, np_I]*30,\n",
    "            (test_psi.L)//2 -30\n",
    "        )\n",
    "    )\n",
    "    .combine_legs([['vL', 'vL*'], ['vR', 'vR*']])\n",
    "    .to_ndarray()\n",
    ")"
   ]
  },
  {
   "cell_type": "code",
   "execution_count": 214,
   "id": "77200fd3-da2c-4475-a739-c752f40e3fd9",
   "metadata": {},
   "outputs": [],
   "source": [
    "U, S, Vh = np.linalg.svd(symmetry_tm)"
   ]
  },
  {
   "cell_type": "code",
   "execution_count": 215,
   "id": "92cb012d-a65a-4c3b-8e98-9c4cbffc4e2f",
   "metadata": {},
   "outputs": [
    {
     "data": {
      "text/plain": [
       "array([1.99871487e+00, 5.88672656e-11, 5.88672487e-11, 1.41218271e-16,\n",
       "       1.41218271e-16, 1.41218271e-16, 1.41218271e-16, 1.41218271e-16,\n",
       "       1.41218271e-16, 1.41218271e-16, 1.41218271e-16, 1.41218271e-16,\n",
       "       1.41218271e-16, 1.41218271e-16, 1.41218271e-16, 1.41218271e-16,\n",
       "       1.41218271e-16, 1.41218271e-16, 1.41218271e-16, 1.41218271e-16,\n",
       "       1.41218271e-16, 1.41218271e-16, 1.41218271e-16, 1.41218271e-16,\n",
       "       1.41218271e-16, 1.41218271e-16, 1.41218271e-16, 1.41218271e-16,\n",
       "       1.41218271e-16, 1.41218271e-16, 1.41218271e-16, 1.41218271e-16,\n",
       "       1.41218271e-16, 1.41218271e-16, 1.41218271e-16, 1.41218271e-16,\n",
       "       1.41218271e-16, 1.41218271e-16, 1.41218271e-16, 1.41218271e-16,\n",
       "       1.41218271e-16, 1.41218271e-16, 1.41218271e-16, 1.41218271e-16,\n",
       "       1.41218271e-16, 1.41218271e-16, 1.41218271e-16, 1.41218271e-16,\n",
       "       1.41218271e-16, 1.41218271e-16, 1.41218271e-16, 1.41218271e-16,\n",
       "       1.41218271e-16, 1.41218271e-16, 1.41218271e-16, 1.41218271e-16,\n",
       "       1.41218271e-16, 1.41218271e-16, 1.41218271e-16, 1.41218271e-16,\n",
       "       1.41218271e-16, 1.41218271e-16, 1.41218271e-16, 7.27427948e-17])"
      ]
     },
     "execution_count": 215,
     "metadata": {},
     "output_type": "execute_result"
    }
   ],
   "source": [
    "S"
   ]
  },
  {
   "cell_type": "code",
   "execution_count": 216,
   "id": "8597d836-2085-4b4f-828c-4eccfd0f092d",
   "metadata": {},
   "outputs": [],
   "source": [
    "approximate_symmetry_tm = S[0]*np.outer(U[:, 0], Vh[0])"
   ]
  },
  {
   "cell_type": "code",
   "execution_count": 217,
   "id": "a498fcad-b77b-4a94-a6ae-23ee1f961503",
   "metadata": {},
   "outputs": [
    {
     "data": {
      "text/plain": [
       "8.325087716580306e-11"
      ]
     },
     "execution_count": 217,
     "metadata": {},
     "output_type": "execute_result"
    }
   ],
   "source": [
    "np.linalg.norm(symmetry_tm - approximate_symmetry_tm)"
   ]
  },
  {
   "cell_type": "code",
   "execution_count": 218,
   "id": "c0544f4f-add7-479d-a9f4-32fbfcfb78ef",
   "metadata": {},
   "outputs": [],
   "source": [
    "left_tm = (\n",
    "    reduce(\n",
    "        multiply_transfer_matrices,\n",
    "        get_transfer_matrices_from_unitary_list(\n",
    "            test_psi,\n",
    "            l_unitaries[::-1],\n",
    "            index\n",
    "        )\n",
    "    )\n",
    "    .combine_legs([['vL', 'vL*'], ['vR', 'vR*']])\n",
    "    .to_ndarray()\n",
    ")"
   ]
  },
  {
   "cell_type": "code",
   "execution_count": 219,
   "id": "0b7a9450-3ae5-470b-9cd5-de761c835fc3",
   "metadata": {},
   "outputs": [],
   "source": [
    "right_tm = symmetry_tm = (\n",
    "    reduce(\n",
    "        multiply_transfer_matrices,\n",
    "        get_transfer_matrices_from_unitary_list(\n",
    "            test_psi,\n",
    "            r_unitaries,\n",
    "            index\n",
    "        )\n",
    "    )\n",
    "    .combine_legs([['vL', 'vL*'], ['vR', 'vR*']])\n",
    "    .to_ndarray()\n",
    ")"
   ]
  },
  {
   "cell_type": "code",
   "execution_count": 220,
   "id": "9cb15209-9471-49b8-abaf-d101dd904c33",
   "metadata": {},
   "outputs": [],
   "source": [
    "approximate_expectation = reduce(\n",
    "    np.dot,\n",
    "    [left_environment, left_tm, approximate_symmetry_tm, right_tm, vR]\n",
    ")"
   ]
  },
  {
   "cell_type": "code",
   "execution_count": 221,
   "id": "7c58f964-50a1-48fc-ab5d-f24c71d4411e",
   "metadata": {},
   "outputs": [
    {
     "data": {
      "text/plain": [
       "0.004008022176878208"
      ]
     },
     "execution_count": 221,
     "metadata": {},
     "output_type": "execute_result"
    }
   ],
   "source": [
    "np.abs(approximate_expectation)"
   ]
  },
  {
   "cell_type": "markdown",
   "id": "e2c6a729-8ba6-4548-bfe1-604d39e4da19",
   "metadata": {},
   "source": [
    "Correct to 4 significant figures.\n",
    "Now evaluate as product of left and right terms, along with singular value."
   ]
  },
  {
   "cell_type": "code",
   "execution_count": 222,
   "id": "ddea76ef-b022-4006-bead-bf918e25641a",
   "metadata": {},
   "outputs": [],
   "source": [
    "left_expectation = reduce(\n",
    "    np.dot,\n",
    "    [left_environment, left_tm, U[:,0]]\n",
    ")"
   ]
  },
  {
   "cell_type": "code",
   "execution_count": 223,
   "id": "572d8558-9fe2-42e2-91f3-138071821eb0",
   "metadata": {},
   "outputs": [
    {
     "data": {
      "text/plain": [
       "(-0.000399997409236041+0.0014625292520542823j)"
      ]
     },
     "execution_count": 223,
     "metadata": {},
     "output_type": "execute_result"
    }
   ],
   "source": [
    "left_expectation"
   ]
  },
  {
   "cell_type": "code",
   "execution_count": 224,
   "id": "c3de829f-d507-48ae-826b-1b97e43b5874",
   "metadata": {},
   "outputs": [
    {
     "data": {
      "text/plain": [
       "0.0015162419795369088"
      ]
     },
     "execution_count": 224,
     "metadata": {},
     "output_type": "execute_result"
    }
   ],
   "source": [
    "np.abs(left_expectation)"
   ]
  },
  {
   "cell_type": "code",
   "execution_count": 225,
   "id": "b0ea7ae2-d27f-4360-9516-c1807c9a4084",
   "metadata": {},
   "outputs": [],
   "source": [
    "right_expectation = reduce(\n",
    "    np.dot,\n",
    "    [Vh[0], right_tm, vR]\n",
    ")"
   ]
  },
  {
   "cell_type": "code",
   "execution_count": 226,
   "id": "eb0ce855-8498-45f4-be3d-99a561a82cfc",
   "metadata": {},
   "outputs": [
    {
     "data": {
      "text/plain": [
       "(-1.3224395328002903+0.016773859470718237j)"
      ]
     },
     "execution_count": 226,
     "metadata": {},
     "output_type": "execute_result"
    }
   ],
   "source": [
    "right_expectation"
   ]
  },
  {
   "cell_type": "code",
   "execution_count": 227,
   "id": "d1dbe2be-ad14-47cf-beb0-4e7f7299e33b",
   "metadata": {},
   "outputs": [
    {
     "data": {
      "text/plain": [
       "1.3225459085697528"
      ]
     },
     "execution_count": 227,
     "metadata": {},
     "output_type": "execute_result"
    }
   ],
   "source": [
    "np.abs(right_expectation)"
   ]
  },
  {
   "cell_type": "code",
   "execution_count": 228,
   "id": "b3115bfc-72a8-489d-8524-ada0ed32e734",
   "metadata": {},
   "outputs": [
    {
     "data": {
      "text/plain": [
       "0.004008022176878213"
      ]
     },
     "execution_count": 228,
     "metadata": {},
     "output_type": "execute_result"
    }
   ],
   "source": [
    "np.abs(S[0]*left_expectation*right_expectation)"
   ]
  },
  {
   "cell_type": "markdown",
   "id": "c51c54fa-c529-48bf-8a84-082d5c377d32",
   "metadata": {},
   "source": [
    "Agrees almost exactly."
   ]
  },
  {
   "cell_type": "code",
   "execution_count": 229,
   "id": "b3643a87-b1d5-4671-812b-c86b62f47b7e",
   "metadata": {},
   "outputs": [
    {
     "data": {
      "text/plain": [
       "(0.30168928025545305, 1.322568351285101)"
      ]
     },
     "execution_count": 229,
     "metadata": {},
     "output_type": "execute_result"
    }
   ],
   "source": [
    "np.max(l_overlaps_3), np.max(overlaps_3)"
   ]
  },
  {
   "cell_type": "code",
   "execution_count": 230,
   "id": "74143013-00b9-47a0-9eaa-71fb7b21053e",
   "metadata": {},
   "outputs": [
    {
     "data": {
      "text/plain": [
       "0.0"
      ]
     },
     "execution_count": 230,
     "metadata": {},
     "output_type": "execute_result"
    }
   ],
   "source": [
    "np.linalg.norm(left_projected_symmetry_state - U[:, 0])"
   ]
  },
  {
   "cell_type": "code",
   "execution_count": 231,
   "id": "3e979bc1-9634-4610-99dc-851b9f910ea4",
   "metadata": {},
   "outputs": [
    {
     "data": {
      "text/plain": [
       "0.0"
      ]
     },
     "execution_count": 231,
     "metadata": {},
     "output_type": "execute_result"
    }
   ],
   "source": [
    "np.linalg.norm(right_projected_symmetry_state - Vh[0])"
   ]
  },
  {
   "cell_type": "markdown",
   "id": "adebd022-4c6a-4849-9b33-c28f79eee3bb",
   "metadata": {},
   "source": [
    "Debug left side, right side seems ok."
   ]
  },
  {
   "cell_type": "code",
   "execution_count": 232,
   "id": "d7d2618c-066b-45a0-a854-af7a65d15cfa",
   "metadata": {},
   "outputs": [],
   "source": [
    "l_arg_1 = np.argmax(l_overlaps_1)"
   ]
  },
  {
   "cell_type": "code",
   "execution_count": 233,
   "id": "3f4273cb-ca46-4843-91ef-7e6abe45e29a",
   "metadata": {},
   "outputs": [
    {
     "data": {
      "text/plain": [
       "7"
      ]
     },
     "execution_count": 233,
     "metadata": {},
     "output_type": "execute_result"
    }
   ],
   "source": [
    "l_arg_1"
   ]
  },
  {
   "cell_type": "code",
   "execution_count": 234,
   "id": "00498d84-9507-4920-a004-aa2a2d2a1be5",
   "metadata": {},
   "outputs": [],
   "source": [
    "l_point_1 = l_points_1[l_arg_1]"
   ]
  },
  {
   "cell_type": "code",
   "execution_count": 235,
   "id": "d22e653d-8c2d-456b-873c-8fdad3812f88",
   "metadata": {},
   "outputs": [
    {
     "data": {
      "text/plain": [
       "(64,)"
      ]
     },
     "execution_count": 235,
     "metadata": {},
     "output_type": "execute_result"
    }
   ],
   "source": [
    "l_point_1.shape"
   ]
  },
  {
   "cell_type": "code",
   "execution_count": 236,
   "id": "0f1cb4b3-4656-47b6-b76c-2e58b9213355",
   "metadata": {},
   "outputs": [],
   "source": [
    "l_s3_point_1 = l_s3_points_1[l_arg_1, 0]"
   ]
  },
  {
   "cell_type": "code",
   "execution_count": 237,
   "id": "a4f6ee3f-c531-4bfc-8345-cd17c0b46938",
   "metadata": {},
   "outputs": [
    {
     "data": {
      "text/plain": [
       "(502, 1, 4)"
      ]
     },
     "execution_count": 237,
     "metadata": {},
     "output_type": "execute_result"
    }
   ],
   "source": [
    "l_s3_points_1.shape"
   ]
  },
  {
   "cell_type": "code",
   "execution_count": 238,
   "id": "53904285-b950-4bb7-a5ba-6737abe40b36",
   "metadata": {},
   "outputs": [
    {
     "data": {
      "text/plain": [
       "array([ 0.07896558,  0.07255644,  0.01276344, -0.99415144])"
      ]
     },
     "execution_count": 238,
     "metadata": {},
     "output_type": "execute_result"
    }
   ],
   "source": [
    "l_s3_point_1"
   ]
  },
  {
   "cell_type": "code",
   "execution_count": 239,
   "id": "0b29915c-6465-4f03-9a11-aff7e837c9fb",
   "metadata": {},
   "outputs": [
    {
     "data": {
      "text/plain": [
       "0.13863469139805149"
      ]
     },
     "execution_count": 239,
     "metadata": {},
     "output_type": "execute_result"
    }
   ],
   "source": [
    "np.max(l_overlaps_1)"
   ]
  },
  {
   "cell_type": "code",
   "execution_count": 240,
   "id": "ee2a7892-7ff9-43d6-ba08-04c4f12bfc98",
   "metadata": {},
   "outputs": [
    {
     "data": {
      "text/plain": [
       "0.13863469139805146"
      ]
     },
     "execution_count": 240,
     "metadata": {},
     "output_type": "execute_result"
    }
   ],
   "source": [
    "np.abs(np.dot(l_point_1, vL))"
   ]
  },
  {
   "cell_type": "code",
   "execution_count": 241,
   "id": "b2d72370-1313-4025-9583-8a43bd3e6cc7",
   "metadata": {},
   "outputs": [
    {
     "data": {
      "text/plain": [
       "0.13863469139805146"
      ]
     },
     "execution_count": 241,
     "metadata": {},
     "output_type": "execute_result"
    }
   ],
   "source": [
    "np.abs(np.dot(vL, l_point_1))"
   ]
  },
  {
   "cell_type": "code",
   "execution_count": 242,
   "id": "9e191033-bc07-4c8a-8cc7-e7cbb41bb7c8",
   "metadata": {},
   "outputs": [],
   "source": [
    "l_unitary_1 = s3_points_to_unitary(l_s3_point_1)"
   ]
  },
  {
   "cell_type": "code",
   "execution_count": 243,
   "id": "512b2aca-26bd-4afd-a527-3cd76ad94cdf",
   "metadata": {},
   "outputs": [],
   "source": [
    "l_tm_1 = (\n",
    "    get_transfer_matrix_from_unitary(test_psi, l_unitary_1, (test_psi.L)//2 - 30 - 1)\n",
    "    .combine_legs([['vL', 'vL*'], ['vR', 'vR*']])\n",
    "    .to_ndarray()\n",
    ")"
   ]
  },
  {
   "cell_type": "code",
   "execution_count": 244,
   "id": "3ccd28c8-02fa-44c4-8dff-a887027d060e",
   "metadata": {},
   "outputs": [
    {
     "data": {
      "text/plain": [
       "array([[ 4.96927763e-02+4.46015339e-02j, -6.17616608e-03+4.80019523e-01j,\n",
       "        -9.21069036e-05+6.96919634e-03j, ...,\n",
       "        -2.05296990e-19+6.84121754e-19j,  4.87034389e-33-1.37794227e-31j,\n",
       "         8.47991761e-33-5.62321666e-32j],\n",
       "       [ 6.21260874e-03-4.79986421e-01j, -4.96791229e-02-4.56595294e-02j,\n",
       "         4.21335045e-04+3.41567903e-04j, ...,\n",
       "         1.38462010e-19-3.67287340e-18j, -8.45854523e-33+2.84093332e-32j,\n",
       "        -6.21148835e-33+1.20314227e-31j],\n",
       "       [ 5.16845847e-03-4.02188188e-01j,  2.42796756e-02+2.18160857e-02j,\n",
       "         2.34734007e-02+2.30299199e-02j, ...,\n",
       "        -4.13380741e-18+1.08529889e-16j,  8.98632071e-20-3.12292348e-18j,\n",
       "         2.02700974e-19-1.18709498e-18j],\n",
       "       ...,\n",
       "       [ 1.42209634e-15-2.24896389e-13j,  2.48874320e-14-9.50529439e-14j,\n",
       "        -1.44207875e-14+5.51316653e-14j, ...,\n",
       "        -1.80225278e-03+4.87161551e-03j, -7.86825976e-05-5.90125189e-05j,\n",
       "        -6.67302834e-05+1.58678419e-03j],\n",
       "       [ 2.05749722e-28+5.56849196e-26j, -5.96342545e-27+3.24097720e-26j,\n",
       "         2.32340270e-14-6.28075419e-14j, ...,\n",
       "        -4.21914948e-03+2.24236688e-04j, -2.45463977e-03-2.84727068e-03j,\n",
       "        -1.16027124e-03+3.13701936e-02j],\n",
       "       [ 1.97939026e-26-1.30478307e-25j,  6.83256721e-27-2.29832604e-25j,\n",
       "        -4.45405100e-15+2.23575150e-13j, ...,\n",
       "         3.20839959e-03-8.20272609e-02j,  8.89635240e-04-3.06972453e-02j,\n",
       "         3.09877886e-03-1.66560890e-02j]])"
      ]
     },
     "execution_count": 244,
     "metadata": {},
     "output_type": "execute_result"
    }
   ],
   "source": [
    "l_tm_1"
   ]
  },
  {
   "cell_type": "code",
   "execution_count": 245,
   "id": "26ce2c61-157c-4a8a-bd94-6f76cd90848b",
   "metadata": {},
   "outputs": [
    {
     "data": {
      "text/plain": [
       "0.3390727412185396"
      ]
     },
     "execution_count": 245,
     "metadata": {},
     "output_type": "execute_result"
    }
   ],
   "source": [
    "np.abs(np.dot(vL, np.dot(l_tm_1, U[:, 0])))"
   ]
  },
  {
   "cell_type": "code",
   "execution_count": 246,
   "id": "c65e14da-6311-4231-b0ff-99b61379ed1e",
   "metadata": {},
   "outputs": [
    {
     "data": {
      "text/plain": [
       "(64,)"
      ]
     },
     "execution_count": 246,
     "metadata": {},
     "output_type": "execute_result"
    }
   ],
   "source": [
    "U[:, 0].shape"
   ]
  },
  {
   "cell_type": "code",
   "execution_count": 247,
   "id": "29ca0c12-7ae6-470f-856a-4e5583f408b0",
   "metadata": {},
   "outputs": [
    {
     "data": {
      "text/plain": [
       "1.2899211412551288"
      ]
     },
     "execution_count": 247,
     "metadata": {},
     "output_type": "execute_result"
    }
   ],
   "source": [
    "np.linalg.norm(np.dot(l_tm_1, U[:, 0]) - l_point_1)"
   ]
  },
  {
   "cell_type": "code",
   "execution_count": 248,
   "id": "e9eee312-cbc3-463e-a493-a042c02b7fb4",
   "metadata": {},
   "outputs": [
    {
     "data": {
      "text/plain": [
       "0.0"
      ]
     },
     "execution_count": 248,
     "metadata": {},
     "output_type": "execute_result"
    }
   ],
   "source": [
    "np.linalg.norm(left_projected_symmetry_state-U[:,0])"
   ]
  },
  {
   "cell_type": "code",
   "execution_count": 249,
   "id": "670a1b1f-a8f0-42f8-b9d6-87753b0b706b",
   "metadata": {},
   "outputs": [
    {
     "data": {
      "text/plain": [
       "0.3390727412185394"
      ]
     },
     "execution_count": 249,
     "metadata": {},
     "output_type": "execute_result"
    }
   ],
   "source": [
    "np.abs(reduce(np.dot, [vL, l_tm_1, U[:,0]]))"
   ]
  },
  {
   "cell_type": "markdown",
   "id": "a7d48199-909b-4e8b-a0ec-e5f79d4265da",
   "metadata": {},
   "source": [
    "Something fishy, step through..."
   ]
  },
  {
   "cell_type": "code",
   "execution_count": 250,
   "id": "b5b52a1a-9315-44c1-9a14-86b823fd9e2f",
   "metadata": {},
   "outputs": [],
   "source": [
    "previous_points = left_projected_symmetry_state[np.newaxis, :]\n",
    "s3_previous_points = None\n",
    "s3_sample_points = super_fib_points\n",
    "num_next_points = N\n",
    "index = (test_psi.L)//2 - 30 - 1"
   ]
  },
  {
   "cell_type": "code",
   "execution_count": 251,
   "id": "5f02bb84-20e6-41ac-9a45-cad5bf9b14a9",
   "metadata": {},
   "outputs": [],
   "source": [
    "base_tms = np.array([\n",
    "    get_transfer_matrix_from_unitary(test_psi, u, index)\n",
    "    .combine_legs([['vL', 'vL*'], ['vR', 'vR*']])\n",
    "    .to_ndarray()\n",
    "    for u in base_unitaries\n",
    "])"
   ]
  },
  {
   "cell_type": "code",
   "execution_count": 252,
   "id": "fe59c119-b86d-4e73-9cb4-2ca5e3c9bb80",
   "metadata": {},
   "outputs": [
    {
     "data": {
      "text/plain": [
       "(4, 64, 64)"
      ]
     },
     "execution_count": 252,
     "metadata": {},
     "output_type": "execute_result"
    }
   ],
   "source": [
    "base_tms.shape"
   ]
  },
  {
   "cell_type": "code",
   "execution_count": 253,
   "id": "faef8d3d-eed2-44ed-82f0-583de4e90cfd",
   "metadata": {},
   "outputs": [
    {
     "data": {
      "text/plain": [
       "5.742041854060771e-16"
      ]
     },
     "execution_count": 253,
     "metadata": {},
     "output_type": "execute_result"
    }
   ],
   "source": [
    "np.linalg.norm(np.tensordot(l_s3_point_1, base_tms, [[-1], [0]]) - l_tm_1)"
   ]
  },
  {
   "cell_type": "code",
   "execution_count": 254,
   "id": "047e561f-bb88-4719-b401-e9b74736f56c",
   "metadata": {},
   "outputs": [],
   "source": [
    "base_vectors = np.tensordot(previous_points, base_tms, [[-1,], [2,]])"
   ]
  },
  {
   "cell_type": "code",
   "execution_count": 255,
   "id": "7d91feac-f0d1-491f-84ac-a13b82d9d0d9",
   "metadata": {},
   "outputs": [
    {
     "data": {
      "text/plain": [
       "(1, 4, 64)"
      ]
     },
     "execution_count": 255,
     "metadata": {},
     "output_type": "execute_result"
    }
   ],
   "source": [
    "base_vectors.shape"
   ]
  },
  {
   "cell_type": "code",
   "execution_count": 256,
   "id": "5e0dab43-4e23-45d8-bbf7-5e04b8861944",
   "metadata": {},
   "outputs": [
    {
     "data": {
      "text/plain": [
       "1.2899211412551288"
      ]
     },
     "execution_count": 256,
     "metadata": {},
     "output_type": "execute_result"
    }
   ],
   "source": [
    "np.linalg.norm(l_point_1 - np.dot(l_s3_point_1, base_vectors[0]))"
   ]
  },
  {
   "cell_type": "code",
   "execution_count": 257,
   "id": "fc12a258-27ea-48d7-9d66-959eb421a43d",
   "metadata": {},
   "outputs": [],
   "source": [
    "base_overlaps = np.dot(base_vectors, vL)"
   ]
  },
  {
   "cell_type": "code",
   "execution_count": 258,
   "id": "78adf78b-f031-4195-9fa1-634f1b4330d2",
   "metadata": {},
   "outputs": [
    {
     "data": {
      "text/plain": [
       "(1, 4)"
      ]
     },
     "execution_count": 258,
     "metadata": {},
     "output_type": "execute_result"
    }
   ],
   "source": [
    "base_overlaps.shape"
   ]
  },
  {
   "cell_type": "code",
   "execution_count": 259,
   "id": "7483058d-c4d0-4601-a3d8-1aeac50e89dd",
   "metadata": {},
   "outputs": [],
   "source": [
    "overlaps = np.abs(np.tensordot(s3_sample_points, base_overlaps, [[1,], [1,]]))"
   ]
  },
  {
   "cell_type": "code",
   "execution_count": 260,
   "id": "52641522-7771-4ebb-ac92-d6ace15c178d",
   "metadata": {},
   "outputs": [
    {
     "data": {
      "text/plain": [
       "(503, 1)"
      ]
     },
     "execution_count": 260,
     "metadata": {},
     "output_type": "execute_result"
    }
   ],
   "source": [
    "overlaps.shape"
   ]
  },
  {
   "cell_type": "code",
   "execution_count": 261,
   "id": "3f9bc013-4462-4cf0-8bbb-560b96cdc0bf",
   "metadata": {},
   "outputs": [
    {
     "data": {
      "text/plain": [
       "0.33907274121853953"
      ]
     },
     "execution_count": 261,
     "metadata": {},
     "output_type": "execute_result"
    }
   ],
   "source": [
    "overlaps[l_arg_1, 0]"
   ]
  },
  {
   "cell_type": "code",
   "execution_count": 262,
   "id": "e8bb719a-38ec-4f20-9f50-0363d2e6a693",
   "metadata": {},
   "outputs": [],
   "source": [
    "all_next_points = np.tensordot(s3_sample_points, base_vectors, [[1,], [1,]])"
   ]
  },
  {
   "cell_type": "code",
   "execution_count": 263,
   "id": "beca33e6-fb48-40c7-b33f-9bebb95f0565",
   "metadata": {},
   "outputs": [
    {
     "data": {
      "text/plain": [
       "(503, 1, 64)"
      ]
     },
     "execution_count": 263,
     "metadata": {},
     "output_type": "execute_result"
    }
   ],
   "source": [
    "all_next_points.shape"
   ]
  },
  {
   "cell_type": "code",
   "execution_count": 264,
   "id": "a92dea49-c9ee-49a7-8868-ef96fcd736b5",
   "metadata": {},
   "outputs": [
    {
     "data": {
      "text/plain": [
       "1.2899211412551288"
      ]
     },
     "execution_count": 264,
     "metadata": {},
     "output_type": "execute_result"
    }
   ],
   "source": [
    "np.linalg.norm(all_next_points[l_arg_1, 0] - l_point_1)"
   ]
  },
  {
   "cell_type": "code",
   "execution_count": 265,
   "id": "6dc5e4c0-e336-4acb-a0a2-1aa1e66460ae",
   "metadata": {},
   "outputs": [
    {
     "data": {
      "text/plain": [
       "2.956145590638561e-16"
      ]
     },
     "execution_count": 265,
     "metadata": {},
     "output_type": "execute_result"
    }
   ],
   "source": [
    "np.linalg.norm(all_next_points[l_arg_1, 0] - np.dot(l_tm_1, U[:,0]))"
   ]
  },
  {
   "cell_type": "code",
   "execution_count": 266,
   "id": "91220605-d5b7-44a5-b66c-5fb9a7d2031c",
   "metadata": {},
   "outputs": [],
   "source": [
    "target_percentile = 100.0*(1.0 - min(1, num_next_points/(overlaps.size)))\n",
    "overlap_threshold = np.percentile(overlaps, target_percentile)\n",
    "\n",
    "overlaps_filter = (overlaps > overlap_threshold)"
   ]
  },
  {
   "cell_type": "code",
   "execution_count": 267,
   "id": "1b5054f2-d872-471e-a3ee-a733b42caf7c",
   "metadata": {},
   "outputs": [
    {
     "data": {
      "text/plain": [
       "(503, 1)"
      ]
     },
     "execution_count": 267,
     "metadata": {},
     "output_type": "execute_result"
    }
   ],
   "source": [
    "overlaps_filter.shape"
   ]
  },
  {
   "cell_type": "code",
   "execution_count": 268,
   "id": "d0bdd6d8-8619-483e-9571-92978fe06023",
   "metadata": {},
   "outputs": [
    {
     "data": {
      "text/plain": [
       "(503, 1)"
      ]
     },
     "execution_count": 268,
     "metadata": {},
     "output_type": "execute_result"
    }
   ],
   "source": [
    "overlaps_filter.shape"
   ]
  },
  {
   "cell_type": "code",
   "execution_count": 269,
   "id": "51f4baad-5489-4fe6-ba2f-1db1d156df70",
   "metadata": {},
   "outputs": [
    {
     "data": {
      "text/plain": [
       "502"
      ]
     },
     "execution_count": 269,
     "metadata": {},
     "output_type": "execute_result"
    }
   ],
   "source": [
    "overlaps_filter.sum()"
   ]
  },
  {
   "cell_type": "code",
   "execution_count": 270,
   "id": "43db4f79-509a-4655-aa68-415970cfac8a",
   "metadata": {},
   "outputs": [
    {
     "data": {
      "text/plain": [
       "0.0004871987699695134"
      ]
     },
     "execution_count": 270,
     "metadata": {},
     "output_type": "execute_result"
    }
   ],
   "source": [
    "overlap_threshold"
   ]
  },
  {
   "cell_type": "code",
   "execution_count": 271,
   "id": "508c8647-6d44-4615-a422-0cdddff192e2",
   "metadata": {},
   "outputs": [
    {
     "data": {
      "text/plain": [
       "0.0004871987699695134"
      ]
     },
     "execution_count": 271,
     "metadata": {},
     "output_type": "execute_result"
    }
   ],
   "source": [
    "np.min(overlaps)"
   ]
  },
  {
   "cell_type": "code",
   "execution_count": 272,
   "id": "bfb95c0c-56cd-457d-acd6-81987a2031ae",
   "metadata": {},
   "outputs": [
    {
     "data": {
      "text/plain": [
       "(503, 1, 64)"
      ]
     },
     "execution_count": 272,
     "metadata": {},
     "output_type": "execute_result"
    }
   ],
   "source": [
    "all_next_points.shape"
   ]
  },
  {
   "cell_type": "code",
   "execution_count": 273,
   "id": "d51038b0-567e-4cde-9034-29d501346167",
   "metadata": {},
   "outputs": [
    {
     "data": {
      "text/plain": [
       "(502, 64)"
      ]
     },
     "execution_count": 273,
     "metadata": {},
     "output_type": "execute_result"
    }
   ],
   "source": [
    "all_next_points[overlaps_filter].shape"
   ]
  },
  {
   "cell_type": "code",
   "execution_count": 274,
   "id": "365756ee-9b44-4981-9571-dafd336f33a8",
   "metadata": {},
   "outputs": [],
   "source": [
    "all_next_s3_points = s3_sample_points[:, np.newaxis, np.newaxis, :]\n",
    "next_s3_depth = 1"
   ]
  },
  {
   "cell_type": "code",
   "execution_count": 275,
   "id": "0a582f71-fa1f-4865-b67e-18b4d19f49b6",
   "metadata": {},
   "outputs": [],
   "source": [
    "filtered_next_s3_points = np.reshape(all_next_s3_points[overlaps_filter], (-1, next_s3_depth, 4))\n",
    "filtered_next_points = np.reshape(all_next_points[overlaps_filter], (-1, 64))\n",
    "filtered_overlaps = overlaps[overlaps_filter].flatten()"
   ]
  },
  {
   "cell_type": "code",
   "execution_count": 276,
   "id": "c4d1e6d3-d350-42bb-9946-552746f42c96",
   "metadata": {},
   "outputs": [
    {
     "data": {
      "text/plain": [
       "(502, 64)"
      ]
     },
     "execution_count": 276,
     "metadata": {},
     "output_type": "execute_result"
    }
   ],
   "source": [
    "l_points_1.shape"
   ]
  },
  {
   "cell_type": "code",
   "execution_count": 277,
   "id": "745d88f4-5440-4c66-a117-644fb9219e9f",
   "metadata": {},
   "outputs": [
    {
     "data": {
      "text/plain": [
       "(502, 64)"
      ]
     },
     "execution_count": 277,
     "metadata": {},
     "output_type": "execute_result"
    }
   ],
   "source": [
    "filtered_next_points.shape"
   ]
  },
  {
   "cell_type": "code",
   "execution_count": 278,
   "id": "26235d1b-8e0c-4e33-8e78-63b422a93f3d",
   "metadata": {},
   "outputs": [
    {
     "data": {
      "text/plain": [
       "25.74014075292017"
      ]
     },
     "execution_count": 278,
     "metadata": {},
     "output_type": "execute_result"
    }
   ],
   "source": [
    "np.linalg.norm(l_points_1 - filtered_next_points)"
   ]
  },
  {
   "cell_type": "code",
   "execution_count": 279,
   "id": "3189f609-e52c-40d3-b091-4ae9444b56aa",
   "metadata": {},
   "outputs": [
    {
     "data": {
      "text/plain": [
       "25.74014075292017"
      ]
     },
     "execution_count": 279,
     "metadata": {},
     "output_type": "execute_result"
    }
   ],
   "source": [
    "np.linalg.norm(l_points_1 - filtered_next_points)"
   ]
  },
  {
   "cell_type": "code",
   "execution_count": 280,
   "id": "f01bd0e6-a465-4f53-980e-a547034f87cb",
   "metadata": {},
   "outputs": [
    {
     "data": {
      "text/plain": [
       "(503, 1, 64)"
      ]
     },
     "execution_count": 280,
     "metadata": {},
     "output_type": "execute_result"
    }
   ],
   "source": [
    "all_next_points.shape"
   ]
  },
  {
   "cell_type": "code",
   "execution_count": 281,
   "id": "99932ecb-dee3-4be7-8163-52be5738e176",
   "metadata": {},
   "outputs": [
    {
     "data": {
      "text/plain": [
       "25.74014075292017"
      ]
     },
     "execution_count": 281,
     "metadata": {},
     "output_type": "execute_result"
    }
   ],
   "source": [
    "np.linalg.norm(all_next_points[overlaps_filter] - l_points_1)"
   ]
  },
  {
   "cell_type": "code",
   "execution_count": 282,
   "id": "c75d0585-9aee-4af4-b0fa-62dc11292d00",
   "metadata": {},
   "outputs": [
    {
     "data": {
      "text/plain": [
       "0.0"
      ]
     },
     "execution_count": 282,
     "metadata": {},
     "output_type": "execute_result"
    }
   ],
   "source": [
    "np.linalg.norm(all_next_points[overlaps_filter] - filtered_next_points)"
   ]
  },
  {
   "cell_type": "code",
   "execution_count": 283,
   "id": "4874a72a-be84-4aab-9e79-7c5cbfda3a52",
   "metadata": {},
   "outputs": [
    {
     "data": {
      "text/plain": [
       "(array([33]), array([0]))"
      ]
     },
     "execution_count": 283,
     "metadata": {},
     "output_type": "execute_result"
    }
   ],
   "source": [
    "np.nonzero(overlaps == overlap_threshold)"
   ]
  },
  {
   "cell_type": "code",
   "execution_count": 284,
   "id": "9b137ebe-c758-43f9-97eb-7b3c8d0c014e",
   "metadata": {},
   "outputs": [
    {
     "data": {
      "text/plain": [
       "array([0.15670499])"
      ]
     },
     "execution_count": 284,
     "metadata": {},
     "output_type": "execute_result"
    }
   ],
   "source": [
    "overlaps[0]"
   ]
  },
  {
   "cell_type": "code",
   "execution_count": 285,
   "id": "32905f04-5c6c-43ff-b336-cb957a50729e",
   "metadata": {},
   "outputs": [
    {
     "data": {
      "text/plain": [
       "array([0.0004872])"
      ]
     },
     "execution_count": 285,
     "metadata": {},
     "output_type": "execute_result"
    }
   ],
   "source": [
    "overlaps[33]"
   ]
  },
  {
   "cell_type": "code",
   "execution_count": 286,
   "id": "f6a28dc2-ded4-4379-89b2-3de3dc5d4ad3",
   "metadata": {},
   "outputs": [
    {
     "data": {
      "text/plain": [
       "0.0004871987699695134"
      ]
     },
     "execution_count": 286,
     "metadata": {},
     "output_type": "execute_result"
    }
   ],
   "source": [
    "overlaps[33,0]"
   ]
  },
  {
   "cell_type": "markdown",
   "id": "01ef0ee8-3bfd-4157-8b30-4911057ee564",
   "metadata": {},
   "source": [
    "Ok, seems alright at step 1. Try step 2:"
   ]
  },
  {
   "cell_type": "code",
   "execution_count": 378,
   "id": "ff081c1e-ec51-409c-843d-58f7f7f03367",
   "metadata": {},
   "outputs": [
    {
     "data": {
      "text/plain": [
       "0.3053306295558697"
      ]
     },
     "execution_count": 378,
     "metadata": {},
     "output_type": "execute_result"
    }
   ],
   "source": [
    "np.max(l_overlaps_2)"
   ]
  },
  {
   "cell_type": "code",
   "execution_count": 379,
   "id": "6a732053-0e05-4636-af5e-0f04a19e0ad8",
   "metadata": {},
   "outputs": [],
   "source": [
    "l_arg_2 = np.argmax(l_overlaps_2)"
   ]
  },
  {
   "cell_type": "code",
   "execution_count": 381,
   "id": "ef14e407-a0a8-4e46-b0e0-5d4c1ac005e7",
   "metadata": {},
   "outputs": [
    {
     "data": {
      "text/plain": [
       "(10000, 2, 4)"
      ]
     },
     "execution_count": 381,
     "metadata": {},
     "output_type": "execute_result"
    }
   ],
   "source": [
    "l_s3_points_2.shape"
   ]
  },
  {
   "cell_type": "code",
   "execution_count": 382,
   "id": "2e5639b1-2da8-48ca-af3b-41c09230d937",
   "metadata": {},
   "outputs": [],
   "source": [
    "l_s3_point_2_1, l_s3_point_2_2 = l_s3_points_2[l_arg_2]"
   ]
  },
  {
   "cell_type": "code",
   "execution_count": 383,
   "id": "d47e1856-9121-464b-8f8f-52e3837c330f",
   "metadata": {},
   "outputs": [],
   "source": [
    "l_point_2 = l_points_2[l_arg_2]"
   ]
  },
  {
   "cell_type": "code",
   "execution_count": 392,
   "id": "c477d110-1d74-4d03-ad23-362d8145ec4c",
   "metadata": {},
   "outputs": [
    {
     "data": {
      "text/plain": [
       "0.3053306295550417"
      ]
     },
     "execution_count": 392,
     "metadata": {},
     "output_type": "execute_result"
    }
   ],
   "source": [
    "np.abs(np.dot(l_point_2, vL))"
   ]
  },
  {
   "cell_type": "code",
   "execution_count": 385,
   "id": "246c7528-1a9d-45a7-bff0-90e34d04e344",
   "metadata": {},
   "outputs": [],
   "source": [
    "l_unitary_2_1 = s3_points_to_unitary(l_s3_point_2_1)\n",
    "l_unitary_2_2 = s3_points_to_unitary(l_s3_point_2_2)"
   ]
  },
  {
   "cell_type": "code",
   "execution_count": 386,
   "id": "9d4bd0f4-d570-4daf-b0f9-d758cc7bd5cf",
   "metadata": {},
   "outputs": [],
   "source": [
    "l_tm_2_1 = (\n",
    "    get_transfer_matrix_from_unitary(test_psi, l_unitary_2_1, (test_psi.L)//2 - 30 - 1)\n",
    "    .combine_legs([['vL', 'vL*'], ['vR', 'vR*']])\n",
    "    .to_ndarray()\n",
    ")\n",
    "\n",
    "l_tm_2_2 = (\n",
    "    get_transfer_matrix_from_unitary(test_psi, l_unitary_2_2, (test_psi.L)//2 - 30 - 2)\n",
    "    .combine_legs([['vL', 'vL*'], ['vR', 'vR*']])\n",
    "    .to_ndarray()\n",
    ")"
   ]
  },
  {
   "cell_type": "code",
   "execution_count": 387,
   "id": "546d3558-6eed-4f93-a6ae-b3a55350165d",
   "metadata": {},
   "outputs": [],
   "source": [
    "vL = get_left_environment(test_psi, (test_psi.L)//2 - 30 - 2)"
   ]
  },
  {
   "cell_type": "code",
   "execution_count": 390,
   "id": "4f5af71b-5328-41d5-87b0-fb5dacb5f596",
   "metadata": {},
   "outputs": [
    {
     "name": "stdout",
     "output_type": "stream",
     "text": [
      "Help on built-in function reduce in module _functools:\n",
      "\n",
      "reduce(...)\n",
      "    reduce(function, iterable[, initial]) -> value\n",
      "    \n",
      "    Apply a function of two arguments cumulatively to the items of a sequence\n",
      "    or iterable, from left to right, so as to reduce the iterable to a single\n",
      "    value.  For example, reduce(lambda x, y: x+y, [1, 2, 3, 4, 5]) calculates\n",
      "    ((((1+2)+3)+4)+5).  If initial is present, it is placed before the items\n",
      "    of the iterable in the calculation, and serves as a default when the\n",
      "    iterable is empty.\n",
      "\n"
     ]
    }
   ],
   "source": [
    "help(reduce)"
   ]
  },
  {
   "cell_type": "code",
   "execution_count": 391,
   "id": "4e21f195-ba0a-40fb-a937-2914d681e3fb",
   "metadata": {},
   "outputs": [
    {
     "data": {
      "text/plain": [
       "0.0019424581974042583"
      ]
     },
     "execution_count": 391,
     "metadata": {},
     "output_type": "execute_result"
    }
   ],
   "source": [
    "np.abs(reduce(np.dot, [vL, l_tm_2_2, l_tm_2_1, U[:,0]]))"
   ]
  },
  {
   "cell_type": "code",
   "execution_count": 393,
   "id": "8e1c236b-adef-4f67-98d5-7e8fab6c3398",
   "metadata": {},
   "outputs": [],
   "source": [
    "previous_points =  l_points_1\n",
    "s3_previous_points = l_s3_points_1\n",
    "s3_sample_points = super_fib_points\n",
    "num_next_points = N\n",
    "index = (test_psi.L)//2 - 30 - 2\n",
    "vL = get_left_environment(test_psi, (test_psi.L)//2 - 30 - 2)"
   ]
  },
  {
   "cell_type": "code",
   "execution_count": 394,
   "id": "6c12f3a9-1c29-41bf-9e39-f14dd3313e3c",
   "metadata": {},
   "outputs": [
    {
     "data": {
      "text/plain": [
       "(502, 64)"
      ]
     },
     "execution_count": 394,
     "metadata": {},
     "output_type": "execute_result"
    }
   ],
   "source": [
    "previous_points.shape"
   ]
  },
  {
   "cell_type": "code",
   "execution_count": 395,
   "id": "039639a9-7e5c-4f7c-af8c-5b4a96e99d1e",
   "metadata": {},
   "outputs": [],
   "source": [
    "base_tms = np.array([\n",
    "    get_transfer_matrix_from_unitary(test_psi, u, index)\n",
    "    .combine_legs([['vL', 'vL*'], ['vR', 'vR*']])\n",
    "    .to_ndarray()\n",
    "    for u in base_unitaries\n",
    "])"
   ]
  },
  {
   "cell_type": "code",
   "execution_count": 396,
   "id": "7d484c4f-0da5-4501-af0e-2180f83b960b",
   "metadata": {},
   "outputs": [
    {
     "data": {
      "text/plain": [
       "(4, 64, 64)"
      ]
     },
     "execution_count": 396,
     "metadata": {},
     "output_type": "execute_result"
    }
   ],
   "source": [
    "base_tms.shape"
   ]
  },
  {
   "cell_type": "code",
   "execution_count": 397,
   "id": "af93cd00-7909-47bd-9c3d-d5f5a932f3e9",
   "metadata": {},
   "outputs": [],
   "source": [
    "base_vectors = np.tensordot(previous_points, base_tms, [[-1,], [2,]])"
   ]
  },
  {
   "cell_type": "code",
   "execution_count": 398,
   "id": "c599f817-6d07-453e-a9ca-2b56609254e4",
   "metadata": {},
   "outputs": [
    {
     "data": {
      "text/plain": [
       "(502, 4, 64)"
      ]
     },
     "execution_count": 398,
     "metadata": {},
     "output_type": "execute_result"
    }
   ],
   "source": [
    "base_vectors.shape"
   ]
  },
  {
   "cell_type": "code",
   "execution_count": 399,
   "id": "1ca198e3-d138-4fce-a959-ccf5d8c5a9d8",
   "metadata": {},
   "outputs": [],
   "source": [
    "base_overlaps = np.dot(base_vectors, vL)"
   ]
  },
  {
   "cell_type": "code",
   "execution_count": 400,
   "id": "3518c269-721b-40df-a070-a9c6b81fe9b2",
   "metadata": {},
   "outputs": [
    {
     "data": {
      "text/plain": [
       "(502, 4)"
      ]
     },
     "execution_count": 400,
     "metadata": {},
     "output_type": "execute_result"
    }
   ],
   "source": [
    "base_overlaps.shape"
   ]
  },
  {
   "cell_type": "code",
   "execution_count": 401,
   "id": "93417d98-5657-4e5c-93b3-57ef6a5eba13",
   "metadata": {},
   "outputs": [],
   "source": [
    "overlaps = np.abs(np.tensordot(s3_sample_points, base_overlaps, [[1,], [1,]]))"
   ]
  },
  {
   "cell_type": "code",
   "execution_count": 402,
   "id": "5ccc5f69-3316-438b-aa8b-17e3d58d1764",
   "metadata": {},
   "outputs": [
    {
     "data": {
      "text/plain": [
       "(503, 502)"
      ]
     },
     "execution_count": 402,
     "metadata": {},
     "output_type": "execute_result"
    }
   ],
   "source": [
    "overlaps.shape"
   ]
  },
  {
   "cell_type": "code",
   "execution_count": 403,
   "id": "985fa1f4-f812-4d14-819f-34342b95cb8a",
   "metadata": {},
   "outputs": [
    {
     "data": {
      "text/plain": [
       "0.1474604969971217"
      ]
     },
     "execution_count": 403,
     "metadata": {},
     "output_type": "execute_result"
    }
   ],
   "source": [
    "np.max(overlaps)"
   ]
  },
  {
   "cell_type": "code",
   "execution_count": 404,
   "id": "8851006e-1e13-44b5-aaa9-662e1ae208de",
   "metadata": {},
   "outputs": [],
   "source": [
    "target_percentile = 100.0*(1.0 - min(1, num_next_points/(overlaps.size)))\n",
    "overlap_threshold = np.percentile(overlaps, target_percentile)"
   ]
  },
  {
   "cell_type": "code",
   "execution_count": 405,
   "id": "05caf209-bd21-4ef9-9a30-eb594002a78a",
   "metadata": {},
   "outputs": [
    {
     "data": {
      "text/plain": [
       "0.10058552550365561"
      ]
     },
     "execution_count": 405,
     "metadata": {},
     "output_type": "execute_result"
    }
   ],
   "source": [
    "overlap_threshold"
   ]
  },
  {
   "cell_type": "code",
   "execution_count": 406,
   "id": "7187591c-df69-41a6-9bec-a315d2867fac",
   "metadata": {},
   "outputs": [
    {
     "data": {
      "text/plain": [
       "0.3053306295558697"
      ]
     },
     "execution_count": 406,
     "metadata": {},
     "output_type": "execute_result"
    }
   ],
   "source": [
    "np.max(l_overlaps_2)"
   ]
  },
  {
   "cell_type": "code",
   "execution_count": 407,
   "id": "baca203e-43a8-4e1d-9934-90d688a4250e",
   "metadata": {},
   "outputs": [],
   "source": [
    "all_next_points = np.tensordot(s3_sample_points, base_vectors, [[1,], [1,]])\n",
    "\n",
    "overlaps_filter = (overlaps > overlap_threshold)"
   ]
  },
  {
   "cell_type": "code",
   "execution_count": 408,
   "id": "b374e68f-4236-4b5a-8269-14ad21bffaf9",
   "metadata": {},
   "outputs": [
    {
     "data": {
      "text/plain": [
       "(503, 502, 64)"
      ]
     },
     "execution_count": 408,
     "metadata": {},
     "output_type": "execute_result"
    }
   ],
   "source": [
    "all_next_points.shape"
   ]
  },
  {
   "cell_type": "code",
   "execution_count": 409,
   "id": "dec73893-ce48-4e41-b2d5-17d92e6edf88",
   "metadata": {},
   "outputs": [
    {
     "data": {
      "text/plain": [
       "(503, 502)"
      ]
     },
     "execution_count": 409,
     "metadata": {},
     "output_type": "execute_result"
    }
   ],
   "source": [
    "overlaps_filter.shape"
   ]
  },
  {
   "cell_type": "code",
   "execution_count": 410,
   "id": "159388bb-3a44-45ef-b126-b1323b4a0289",
   "metadata": {},
   "outputs": [
    {
     "data": {
      "text/plain": [
       "10000"
      ]
     },
     "execution_count": 410,
     "metadata": {},
     "output_type": "execute_result"
    }
   ],
   "source": [
    "overlaps_filter.sum()"
   ]
  },
  {
   "cell_type": "code",
   "execution_count": 287,
   "id": "b859b996-69ed-4545-bd09-671e661c19e8",
   "metadata": {},
   "outputs": [],
   "source": [
    "def search_step_left(previous_points, s3_previous_points, s3_sample_points, num_next_points, index, vL):\n",
    "    base_tms = np.array([\n",
    "        get_transfer_matrix_from_unitary(test_psi, u, index)\n",
    "        .combine_legs([['vL', 'vL*'], ['vR', 'vR*']])\n",
    "        .to_ndarray()\n",
    "        for u in base_unitaries\n",
    "    ])\n",
    "\n",
    "    base_vectors = np.tensordot(previous_points, base_tms, [[-1,], [2,]])\n",
    "    base_overlaps = np.dot(base_vectors, vL)\n",
    "\n",
    "    #overlaps = np.abs(np.tensordot(s3_sample_points, base_overlaps, [[1,], [1,]])).flatten()\n",
    "    overlaps = np.abs(np.tensordot(s3_sample_points, base_overlaps, [[1,], [1,]]))\n",
    "    target_percentile = 100.0*(1.0 - min(1, num_next_points/(overlaps.size)))\n",
    "    overlap_threshold = np.percentile(overlaps, target_percentile)\n",
    "\n",
    "    all_next_points = np.tensordot(s3_sample_points, base_vectors, [[1,], [1,]])\n",
    "\n",
    "    overlaps_filter = (overlaps > overlap_threshold)\n",
    "\n",
    "    if s3_previous_points is None:\n",
    "        assert previous_points.shape[0] == 1\n",
    "        all_next_s3_points = s3_sample_points[:, np.newaxis, np.newaxis, :]\n",
    "        next_s3_depth = 1\n",
    "    else:\n",
    "        prev_num_s3_points, prev_s3_depth, *_ = s3_previous_points.shape\n",
    "        next_s3_depth = prev_s3_depth + 1\n",
    "\n",
    "        num_s3_sample_points = s3_sample_points.shape[0]\n",
    "        all_next_s3_points = np.zeros((num_s3_sample_points, prev_num_s3_points, next_s3_depth, 4))\n",
    "        \n",
    "        all_next_s3_points[:, :, :-1, :] = s3_previous_points[np.newaxis, ...]\n",
    "        all_next_s3_points[:, :, -1, :] = s3_sample_points[:, np.newaxis, :]\n",
    "        #all_next_s3_points = all_next_s3_points.reshape((prev_num_s3_points*num_s3_sample_points, prev_s3_depth + 1, 4))\n",
    "\n",
    "    filtered_next_s3_points = np.reshape(all_next_s3_points[overlaps_filter], (-1, next_s3_depth, 4))\n",
    "    filtered_next_points = np.reshape(all_next_points[overlaps_filter], (-1, 64))\n",
    "    filtered_overlaps = overlaps[overlaps_filter].flatten()\n",
    "        \n",
    "    return (filtered_next_points, filtered_next_s3_points, filtered_overlaps)"
   ]
  },
  {
   "cell_type": "code",
   "execution_count": null,
   "id": "6892e769-a7c7-42aa-b0f6-c94f6095abc3",
   "metadata": {},
   "outputs": [],
   "source": [
    "l_points_2, l_s3_points_2, l_overlaps_2 = search_step_left(\n",
    "    l_points_1,\n",
    "    l_s3_points_1,\n",
    "    super_fib_points,\n",
    "    N,\n",
    "    index-1,\n",
    "    get_left_environment(test_psi, index-1)\n",
    ")"
   ]
  },
  {
   "cell_type": "markdown",
   "id": "2e3e97b0-4192-43ef-991b-391e77519122",
   "metadata": {},
   "source": [
    "All agrees, so move on to next step."
   ]
  },
  {
   "cell_type": "code",
   "execution_count": 288,
   "id": "41171ebd-0e27-42e5-91ab-0be80ff7e6e8",
   "metadata": {},
   "outputs": [],
   "source": [
    "r_arg_2 = np.argmax(overlap_2)"
   ]
  },
  {
   "cell_type": "code",
   "execution_count": 289,
   "id": "4254c18b-bb6a-4228-a9ed-1e3a96f1af75",
   "metadata": {},
   "outputs": [
    {
     "data": {
      "text/plain": [
       "645"
      ]
     },
     "execution_count": 289,
     "metadata": {},
     "output_type": "execute_result"
    }
   ],
   "source": [
    "r_arg_2"
   ]
  },
  {
   "cell_type": "code",
   "execution_count": 290,
   "id": "3a74df4d-8b9a-4376-b023-adf05b265018",
   "metadata": {},
   "outputs": [],
   "source": [
    "r_point_2 = points_2[r_arg_2]"
   ]
  },
  {
   "cell_type": "code",
   "execution_count": 291,
   "id": "c7e3472f-fc2f-461e-98be-74f47c95370e",
   "metadata": {},
   "outputs": [
    {
     "data": {
      "text/plain": [
       "array([ 6.55164422e-01+6.59906798e-02j, -7.63329095e-04-6.71785343e-03j,\n",
       "        3.56680075e-03+2.10711351e-04j, -1.94540927e-03-7.36736649e-05j,\n",
       "        1.36592014e-04-1.72160535e-03j,  1.63216362e-05-3.18971896e-04j,\n",
       "        1.54139292e-05-6.50938166e-06j,  1.96701704e-07-4.38575213e-06j,\n",
       "        3.03929670e-03+6.78221523e-03j,  6.83188779e-01-4.36995105e-02j,\n",
       "       -6.91171735e-05-1.07435763e-03j,  1.10637577e-04+1.39670050e-03j,\n",
       "        1.93202333e-03+1.91955850e-04j,  1.37440785e-03+6.18061616e-05j,\n",
       "        1.38037766e-07-2.53521694e-06j,  1.42331467e-05-8.79625108e-06j,\n",
       "        3.56212925e-03-7.51415678e-05j,  1.48207526e-04+1.75905506e-03j,\n",
       "       -1.05740509e-04+5.58127486e-06j,  1.85340437e-04-2.29606238e-05j,\n",
       "       -5.04338254e-07-2.19132274e-06j, -1.83845022e-07+1.86765432e-06j,\n",
       "       -3.37490243e-07-2.43297719e-08j, -1.19483358e-09-3.90875686e-08j,\n",
       "       -1.96439058e-03+3.74958039e-05j, -3.92652250e-06-9.76253972e-05j,\n",
       "        1.86518065e-04-7.44016829e-06j,  1.13306099e-04-1.24851911e-05j,\n",
       "       -4.78103378e-07+4.96290989e-06j, -1.68611930e-06-1.51205797e-06j,\n",
       "       -6.85467969e-07-2.62917453e-08j, -4.03754825e-08-5.61518226e-07j,\n",
       "       -6.63439132e-05+9.26420054e-04j,  1.92575806e-03-1.12483638e-04j,\n",
       "       -1.36832489e-06-2.22170410e-07j, -4.90892950e-07+1.18217660e-06j,\n",
       "       -9.61878111e-05-1.10768348e-05j, -1.94074759e-04-2.39868141e-05j,\n",
       "       -3.78026593e-08+4.84853209e-07j,  7.16003286e-07+2.07848764e-08j,\n",
       "       -1.22017997e-04+1.48549256e-03j,  1.39197902e-03-4.52577428e-05j,\n",
       "       -4.37827219e-07+5.75514203e-06j, -2.01953104e-07+5.86369095e-07j,\n",
       "       -1.95261253e-04-8.48174606e-06j,  8.86222217e-05+4.12712456e-06j,\n",
       "        2.54484833e-08-2.92822827e-07j, -1.09441008e-06-2.44606047e-08j,\n",
       "        1.42331467e-05+8.79985287e-06j, -1.96701704e-07-2.56550998e-06j,\n",
       "       -3.41688322e-07+4.49897151e-08j, -6.81496141e-07+4.36824409e-08j,\n",
       "        6.65448781e-09-9.53148358e-08j, -3.98151048e-08+5.58186363e-07j,\n",
       "       -7.05150676e-08-4.59646738e-09j,  2.95697643e-10-7.23426757e-10j,\n",
       "       -1.38037766e-07-4.35545909e-06j,  1.54139292e-05+6.51298345e-06j,\n",
       "        3.56256454e-08+4.41174325e-07j,  2.95046753e-08+3.49549971e-07j,\n",
       "        7.19481308e-07-5.17574079e-08j, -1.09015656e-06+5.19667192e-08j,\n",
       "       -7.10480642e-11+6.71881925e-10j, -6.78113282e-08+6.74634778e-09j])"
      ]
     },
     "execution_count": 291,
     "metadata": {},
     "output_type": "execute_result"
    }
   ],
   "source": [
    "r_point_2"
   ]
  },
  {
   "cell_type": "code",
   "execution_count": 292,
   "id": "22e411de-2f6e-461a-bb86-fa7188a539eb",
   "metadata": {},
   "outputs": [],
   "source": [
    "s3_points_max_2 = s3_points_2[r_arg_2]"
   ]
  },
  {
   "cell_type": "code",
   "execution_count": 293,
   "id": "4bcff3d4-4e1f-4ddf-8e9c-23902b036407",
   "metadata": {},
   "outputs": [
    {
     "data": {
      "text/plain": [
       "(2, 4)"
      ]
     },
     "execution_count": 293,
     "metadata": {},
     "output_type": "execute_result"
    }
   ],
   "source": [
    "s3_points_max_2.shape"
   ]
  },
  {
   "cell_type": "code",
   "execution_count": 294,
   "id": "b1fc19d2-a612-418a-bba0-f8fdc9dd63e6",
   "metadata": {},
   "outputs": [
    {
     "data": {
      "text/plain": [
       "array([[ 0.06346218, -0.98614023, -0.13629517, -0.07016856],\n",
       "       [ 0.07896558,  0.07255644,  0.01276344, -0.99415144]])"
      ]
     },
     "execution_count": 294,
     "metadata": {},
     "output_type": "execute_result"
    }
   ],
   "source": [
    "s3_points_max_2"
   ]
  },
  {
   "cell_type": "code",
   "execution_count": 295,
   "id": "8e9054c1-512b-4dcd-a427-3896d4a70639",
   "metadata": {},
   "outputs": [
    {
     "data": {
      "text/plain": [
       "1.3385384571321608"
      ]
     },
     "execution_count": 295,
     "metadata": {},
     "output_type": "execute_result"
    }
   ],
   "source": [
    "np.max(overlap_2)"
   ]
  },
  {
   "cell_type": "code",
   "execution_count": 296,
   "id": "d8059509-2898-444c-9c19-d591db4c9c04",
   "metadata": {},
   "outputs": [
    {
     "data": {
      "text/plain": [
       "1.3385384571321608"
      ]
     },
     "execution_count": 296,
     "metadata": {},
     "output_type": "execute_result"
    }
   ],
   "source": [
    "np.abs(np.dot(r_point_2, vR))"
   ]
  },
  {
   "cell_type": "code",
   "execution_count": 297,
   "id": "fc57c0d9-4161-4607-aeca-b669183610d6",
   "metadata": {},
   "outputs": [],
   "source": [
    "r_unitary_2_1 = s3_points_to_unitary(s3_points_max_2[0])\n",
    "r_unitary_2_2 = s3_points_to_unitary(s3_points_max_2[1])"
   ]
  },
  {
   "cell_type": "code",
   "execution_count": 298,
   "id": "274ee025-1b06-43f1-8828-7ff62637f509",
   "metadata": {},
   "outputs": [],
   "source": [
    "r_tm_2_1 = (\n",
    "    get_transfer_matrix_from_unitary(test_psi, r_unitary_2_1, (test_psi.L)//2 + 30)\n",
    "    .combine_legs([['vL', 'vL*'], ['vR', 'vR*']])\n",
    "    .to_ndarray()\n",
    ")\n",
    "\n",
    "r_tm_2_2 = (\n",
    "    get_transfer_matrix_from_unitary(test_psi, r_unitary_2_2, (test_psi.L)//2 + 31)\n",
    "    .combine_legs([['vL', 'vL*'], ['vR', 'vR*']])\n",
    "    .to_ndarray()\n",
    ")"
   ]
  },
  {
   "cell_type": "code",
   "execution_count": 299,
   "id": "8277f8fd-3ac2-466d-9bd7-eac2985e598f",
   "metadata": {},
   "outputs": [
    {
     "data": {
      "text/plain": [
       "1.3385384571321608"
      ]
     },
     "execution_count": 299,
     "metadata": {},
     "output_type": "execute_result"
    }
   ],
   "source": [
    "np.abs(reduce(np.dot, [Vh[0], r_tm_2_1, r_tm_2_2, vR]))"
   ]
  },
  {
   "cell_type": "code",
   "execution_count": 300,
   "id": "1bea5d54-b966-4924-8082-3c12729f84a2",
   "metadata": {},
   "outputs": [
    {
     "data": {
      "text/plain": [
       "2.0228825977488903e-17"
      ]
     },
     "execution_count": 300,
     "metadata": {},
     "output_type": "execute_result"
    }
   ],
   "source": [
    "np.linalg.norm(reduce(np.dot, [Vh[0], r_tm_2_1, r_tm_2_2]) - r_point_2)"
   ]
  },
  {
   "cell_type": "code",
   "execution_count": 301,
   "id": "bbc5bb61-683f-4c55-b54d-30507f3592bc",
   "metadata": {},
   "outputs": [
    {
     "data": {
      "text/plain": [
       "(64,)"
      ]
     },
     "execution_count": 301,
     "metadata": {},
     "output_type": "execute_result"
    }
   ],
   "source": [
    "r_point_2.shape"
   ]
  },
  {
   "cell_type": "code",
   "execution_count": 302,
   "id": "95115a28-960b-4ecc-b4c5-1c681308cbaf",
   "metadata": {},
   "outputs": [
    {
     "data": {
      "text/plain": [
       "(64,)"
      ]
     },
     "execution_count": 302,
     "metadata": {},
     "output_type": "execute_result"
    }
   ],
   "source": [
    "reduce(np.dot, [Vh[0], r_tm_2_1, r_tm_2_2]).shape"
   ]
  },
  {
   "cell_type": "markdown",
   "id": "3d298716-8957-4516-a18f-1c4da0a8fe5e",
   "metadata": {},
   "source": [
    "All good so far.\n",
    "\n",
    "Step through I guess..."
   ]
  },
  {
   "cell_type": "code",
   "execution_count": 303,
   "id": "0d734471-08be-43d7-9dc0-7d7a03528927",
   "metadata": {},
   "outputs": [],
   "source": [
    "previous_points = points_1\n",
    "s3_previous_points = s3_points_1\n",
    "s3_sample_points = super_fib_points\n",
    "num_next_points = N\n",
    "index = (test_psi.L)//2 + 30 + 1"
   ]
  },
  {
   "cell_type": "code",
   "execution_count": 304,
   "id": "edf92fa7-70c1-4720-b902-3c61ea15c7b6",
   "metadata": {},
   "outputs": [],
   "source": [
    "base_tms = np.array([\n",
    "    get_transfer_matrix_from_unitary(test_psi, u, index)\n",
    "    .combine_legs([['vL', 'vL*'], ['vR', 'vR*']])\n",
    "    .to_ndarray()\n",
    "    for u in base_unitaries\n",
    "])"
   ]
  },
  {
   "cell_type": "code",
   "execution_count": 305,
   "id": "baecbabb-bcf6-46c7-828e-9c48bb3a670f",
   "metadata": {},
   "outputs": [],
   "source": [
    "base_vectors = np.matmul(previous_points, base_tms)\n",
    "base_overlaps = np.dot(base_vectors, vR)"
   ]
  },
  {
   "cell_type": "code",
   "execution_count": 306,
   "id": "5edbb378-cc7b-4519-b222-47291fa7f6d6",
   "metadata": {},
   "outputs": [
    {
     "data": {
      "text/plain": [
       "(4, 502, 64)"
      ]
     },
     "execution_count": 306,
     "metadata": {},
     "output_type": "execute_result"
    }
   ],
   "source": [
    "base_vectors.shape"
   ]
  },
  {
   "cell_type": "code",
   "execution_count": 307,
   "id": "626fd2cd-913b-47ac-a200-f2e7468ec26c",
   "metadata": {},
   "outputs": [
    {
     "data": {
      "text/plain": [
       "(4, 502)"
      ]
     },
     "execution_count": 307,
     "metadata": {},
     "output_type": "execute_result"
    }
   ],
   "source": [
    "base_overlaps.shape"
   ]
  },
  {
   "cell_type": "code",
   "execution_count": 308,
   "id": "5ff4e8df-f437-48fa-bf1f-b959c2d2edb5",
   "metadata": {},
   "outputs": [
    {
     "data": {
      "text/plain": [
       "(503, 502)"
      ]
     },
     "execution_count": 308,
     "metadata": {},
     "output_type": "execute_result"
    }
   ],
   "source": [
    "np.tensordot(s3_sample_points, base_overlaps, [[1,], [0,]]).shape"
   ]
  },
  {
   "cell_type": "code",
   "execution_count": 309,
   "id": "98879040-8b79-4fec-b5b2-8ea5a9664850",
   "metadata": {},
   "outputs": [],
   "source": [
    "overlaps = np.abs(np.tensordot(s3_sample_points, base_overlaps, [[1,], [0,]])).flatten()"
   ]
  },
  {
   "cell_type": "code",
   "execution_count": 310,
   "id": "d69f28dc-5a06-43c5-9538-5276784497a5",
   "metadata": {},
   "outputs": [
    {
     "data": {
      "text/plain": [
       "(503, 502)"
      ]
     },
     "execution_count": 310,
     "metadata": {},
     "output_type": "execute_result"
    }
   ],
   "source": [
    "np.abs(np.tensordot(s3_sample_points, base_overlaps, [[1,], [0,]])).shape"
   ]
  },
  {
   "cell_type": "code",
   "execution_count": 311,
   "id": "1f0ea8e1-102e-4a8c-973c-00993009dc18",
   "metadata": {},
   "outputs": [
    {
     "data": {
      "text/plain": [
       "(252506,)"
      ]
     },
     "execution_count": 311,
     "metadata": {},
     "output_type": "execute_result"
    }
   ],
   "source": [
    "overlaps.shape"
   ]
  },
  {
   "cell_type": "code",
   "execution_count": 312,
   "id": "c7bb53ef-16c6-40bd-b7f9-1d4ea4f35b73",
   "metadata": {},
   "outputs": [],
   "source": [
    "target_percentile = 100.0*(1.0 - min(1, num_next_points/len(overlaps)))\n",
    "overlap_threshold = np.percentile(overlaps, target_percentile)"
   ]
  },
  {
   "cell_type": "code",
   "execution_count": 313,
   "id": "9e116ff8-374a-4f3a-9661-7ebdf8d00a7e",
   "metadata": {},
   "outputs": [
    {
     "data": {
      "text/plain": [
       "96.0396980665806"
      ]
     },
     "execution_count": 313,
     "metadata": {},
     "output_type": "execute_result"
    }
   ],
   "source": [
    "target_percentile"
   ]
  },
  {
   "cell_type": "code",
   "execution_count": 314,
   "id": "2661a78b-7337-43d2-98f0-c442ab859c24",
   "metadata": {},
   "outputs": [
    {
     "data": {
      "text/plain": [
       "0.7985486980277029"
      ]
     },
     "execution_count": 314,
     "metadata": {},
     "output_type": "execute_result"
    }
   ],
   "source": [
    "overlap_threshold"
   ]
  },
  {
   "cell_type": "code",
   "execution_count": 315,
   "id": "c0bb477d-4bf2-45b9-a3de-9a3871852dad",
   "metadata": {},
   "outputs": [
    {
     "data": {
      "text/plain": [
       "1.3385384571321608"
      ]
     },
     "execution_count": 315,
     "metadata": {},
     "output_type": "execute_result"
    }
   ],
   "source": [
    "np.max(overlaps)"
   ]
  },
  {
   "cell_type": "code",
   "execution_count": 316,
   "id": "8a43fe1f-b1fa-4240-b5ee-ce9a5e352b51",
   "metadata": {},
   "outputs": [],
   "source": [
    "all_next_points = np.tensordot(s3_sample_points, base_vectors, [[1,], [0,]])"
   ]
  },
  {
   "cell_type": "code",
   "execution_count": 317,
   "id": "1357d025-6071-4d5d-abb4-3d74515fc943",
   "metadata": {},
   "outputs": [
    {
     "data": {
      "text/plain": [
       "(503, 502, 64)"
      ]
     },
     "execution_count": 317,
     "metadata": {},
     "output_type": "execute_result"
    }
   ],
   "source": [
    "all_next_points.shape"
   ]
  },
  {
   "cell_type": "code",
   "execution_count": 318,
   "id": "c1d71933-7c7a-43c2-93a8-fb103bf513a3",
   "metadata": {},
   "outputs": [],
   "source": [
    "filtered_next_points = np.reshape(all_next_points, (-1, 64))[overlaps > overlap_threshold]"
   ]
  },
  {
   "cell_type": "code",
   "execution_count": 319,
   "id": "1b5a5a9d-e8f2-476a-b436-b64c4a7a477b",
   "metadata": {},
   "outputs": [
    {
     "data": {
      "text/plain": [
       "(10000, 64)"
      ]
     },
     "execution_count": 319,
     "metadata": {},
     "output_type": "execute_result"
    }
   ],
   "source": [
    "filtered_next_points.shape"
   ]
  },
  {
   "cell_type": "code",
   "execution_count": 320,
   "id": "ebdf1be8-0238-47d2-8440-3f8701d1f631",
   "metadata": {},
   "outputs": [
    {
     "data": {
      "text/plain": [
       "False"
      ]
     },
     "execution_count": 320,
     "metadata": {},
     "output_type": "execute_result"
    }
   ],
   "source": [
    "s3_previous_points is None"
   ]
  },
  {
   "cell_type": "code",
   "execution_count": 321,
   "id": "47447581-5a88-4e38-b7be-bf4d58695982",
   "metadata": {},
   "outputs": [],
   "source": [
    "prev_num_s3_points, prev_s3_depth, *_ = s3_previous_points.shape\n",
    "num_s3_sample_points = s3_sample_points.shape[0]\n",
    "all_next_s3_points = np.zeros((prev_num_s3_points, num_s3_sample_points, prev_s3_depth + 1, 4))\n",
    "\n",
    "all_next_s3_points[:, :, :-1, :] = s3_previous_points[:, np.newaxis, :, :]\n",
    "all_next_s3_points[:, :, -1, :] = s3_sample_points[np.newaxis, :, :]\n",
    "all_next_s3_points = all_next_s3_points.reshape((prev_num_s3_points*num_s3_sample_points, prev_s3_depth + 1, 4))"
   ]
  },
  {
   "cell_type": "code",
   "execution_count": 322,
   "id": "c4965285-0479-46cb-8c07-e0141b673b40",
   "metadata": {},
   "outputs": [],
   "source": [
    "filtered_next_s3_points = all_next_s3_points[overlaps > overlap_threshold, ...]\n",
    "filtered_overlaps = overlaps[overlaps > overlap_threshold]"
   ]
  },
  {
   "cell_type": "code",
   "execution_count": 323,
   "id": "2b85ca9d-7825-4bea-bb3a-88c1f6300148",
   "metadata": {},
   "outputs": [
    {
     "data": {
      "text/plain": [
       "0.8088986832985713"
      ]
     },
     "execution_count": 323,
     "metadata": {},
     "output_type": "execute_result"
    }
   ],
   "source": [
    "filtered_overlaps[0]"
   ]
  },
  {
   "cell_type": "markdown",
   "id": "b960a33f-51ee-4d03-861d-8f8499de0617",
   "metadata": {},
   "source": [
    "Step through for first points"
   ]
  },
  {
   "cell_type": "code",
   "execution_count": 324,
   "id": "acae1731-814d-4507-a445-d9a94b54479a",
   "metadata": {},
   "outputs": [
    {
     "data": {
      "text/plain": [
       "(252506,)"
      ]
     },
     "execution_count": 324,
     "metadata": {},
     "output_type": "execute_result"
    }
   ],
   "source": [
    "overlaps.shape"
   ]
  },
  {
   "cell_type": "code",
   "execution_count": 325,
   "id": "9310e167-c26f-48ba-b155-2f8fc404c13c",
   "metadata": {},
   "outputs": [
    {
     "data": {
      "text/plain": [
       "0.022669870879346014"
      ]
     },
     "execution_count": 325,
     "metadata": {},
     "output_type": "execute_result"
    }
   ],
   "source": [
    "overlaps[0]"
   ]
  },
  {
   "cell_type": "code",
   "execution_count": 326,
   "id": "13bcf0e6-c510-4d97-805a-2140bb7838f4",
   "metadata": {},
   "outputs": [],
   "source": [
    "next_point = all_next_points[0, 0]\n",
    "previous_point = points_1[0]"
   ]
  },
  {
   "cell_type": "code",
   "execution_count": 327,
   "id": "a702b6f4-c75d-442f-b0f5-968a968d0b6b",
   "metadata": {},
   "outputs": [],
   "source": [
    "s3_previous_point = s3_previous_points[0, 0]"
   ]
  },
  {
   "cell_type": "code",
   "execution_count": 328,
   "id": "fa994fea-f695-4b41-afc8-99fffe53af8d",
   "metadata": {},
   "outputs": [],
   "source": [
    "s3_next_point = s3_sample_points[0]"
   ]
  },
  {
   "cell_type": "code",
   "execution_count": 329,
   "id": "d8acbdf8-cb3c-4d76-bbfb-9fb9b2f642f6",
   "metadata": {},
   "outputs": [
    {
     "data": {
      "text/plain": [
       "(252506, 2, 4)"
      ]
     },
     "execution_count": 329,
     "metadata": {},
     "output_type": "execute_result"
    }
   ],
   "source": [
    "all_next_s3_points.shape"
   ]
  },
  {
   "cell_type": "code",
   "execution_count": 330,
   "id": "56b628a6-19d4-4b36-ae5d-0f325a33841e",
   "metadata": {},
   "outputs": [
    {
     "data": {
      "text/plain": [
       "0.0"
      ]
     },
     "execution_count": 330,
     "metadata": {},
     "output_type": "execute_result"
    }
   ],
   "source": [
    "np.linalg.norm(all_next_s3_points[0,0] - s3_previous_point)"
   ]
  },
  {
   "cell_type": "code",
   "execution_count": 331,
   "id": "dcc9918d-ade5-4251-8756-3041753a227c",
   "metadata": {},
   "outputs": [
    {
     "data": {
      "text/plain": [
       "0.0"
      ]
     },
     "execution_count": 331,
     "metadata": {},
     "output_type": "execute_result"
    }
   ],
   "source": [
    "np.linalg.norm(all_next_s3_points[0,1] - s3_next_point)"
   ]
  },
  {
   "cell_type": "code",
   "execution_count": 332,
   "id": "ecd2622d-62cf-408f-a361-6e2d3a942694",
   "metadata": {},
   "outputs": [],
   "source": [
    "previous_unitary = (\n",
    "    get_transfer_matrix_from_unitary(\n",
    "        test_psi,\n",
    "        s3_points_to_unitary(s3_previous_point),\n",
    "        (test_psi.L)//2 + 30\n",
    "    )\n",
    "    .combine_legs([['vL', 'vL*'], ['vR', 'vR*']])\n",
    "    .to_ndarray()\n",
    ")\n",
    "\n",
    "next_unitary = (\n",
    "    get_transfer_matrix_from_unitary(\n",
    "        test_psi,\n",
    "        s3_points_to_unitary(s3_next_point),\n",
    "        (test_psi.L)//2 + 31\n",
    "    )\n",
    "    .combine_legs([['vL', 'vL*'], ['vR', 'vR*']])\n",
    "    .to_ndarray()\n",
    ")"
   ]
  },
  {
   "cell_type": "code",
   "execution_count": 333,
   "id": "9293d710-4ad8-4b0d-b6f1-bb171cd24a5e",
   "metadata": {},
   "outputs": [
    {
     "data": {
      "text/plain": [
       "9.573289061756698e-17"
      ]
     },
     "execution_count": 333,
     "metadata": {},
     "output_type": "execute_result"
    }
   ],
   "source": [
    "np.linalg.norm(np.dot(Vh[0], previous_unitary) - previous_point)"
   ]
  },
  {
   "cell_type": "code",
   "execution_count": 334,
   "id": "40b0f8e3-8c29-463d-b395-aeaffccf3615",
   "metadata": {},
   "outputs": [
    {
     "data": {
      "text/plain": [
       "4.58098745451507e-17"
      ]
     },
     "execution_count": 334,
     "metadata": {},
     "output_type": "execute_result"
    }
   ],
   "source": [
    "np.linalg.norm(np.dot(previous_point, next_unitary) - next_point)"
   ]
  },
  {
   "cell_type": "code",
   "execution_count": 335,
   "id": "26f4182f-8d6f-45b5-a30a-3941b4c567e1",
   "metadata": {},
   "outputs": [
    {
     "data": {
      "text/plain": [
       "9.015546438799351e-17"
      ]
     },
     "execution_count": 335,
     "metadata": {},
     "output_type": "execute_result"
    }
   ],
   "source": [
    "np.linalg.norm(reduce(np.dot, [Vh[0], previous_unitary, next_unitary]) - next_point)"
   ]
  },
  {
   "cell_type": "code",
   "execution_count": 336,
   "id": "7d2b1f02-72d0-469e-9b0a-0885144da72d",
   "metadata": {},
   "outputs": [
    {
     "data": {
      "text/plain": [
       "0.02266987087934599"
      ]
     },
     "execution_count": 336,
     "metadata": {},
     "output_type": "execute_result"
    }
   ],
   "source": [
    "np.abs(reduce(np.dot, [Vh[0], previous_unitary, next_unitary, vR]))"
   ]
  },
  {
   "cell_type": "code",
   "execution_count": 337,
   "id": "234d91a1-16be-45eb-aa36-aa2aac979d89",
   "metadata": {},
   "outputs": [
    {
     "data": {
      "text/plain": [
       "0.022669870879346014"
      ]
     },
     "execution_count": 337,
     "metadata": {},
     "output_type": "execute_result"
    }
   ],
   "source": [
    "overlaps[0]"
   ]
  },
  {
   "cell_type": "markdown",
   "id": "3e6dba27-dcd3-4e4d-b583-2158da783b61",
   "metadata": {},
   "source": [
    "Okay, try another point"
   ]
  },
  {
   "cell_type": "code",
   "execution_count": 338,
   "id": "f242a4b8-4293-4127-8bf5-982defa974e4",
   "metadata": {},
   "outputs": [
    {
     "data": {
      "text/plain": [
       "(252506,)"
      ]
     },
     "execution_count": 338,
     "metadata": {},
     "output_type": "execute_result"
    }
   ],
   "source": [
    "overlaps.shape"
   ]
  },
  {
   "cell_type": "code",
   "execution_count": 339,
   "id": "aed8a812-1865-456f-981b-15be2072a288",
   "metadata": {},
   "outputs": [
    {
     "data": {
      "text/plain": [
       "0.022669870879346014"
      ]
     },
     "execution_count": 339,
     "metadata": {},
     "output_type": "execute_result"
    }
   ],
   "source": [
    "overlaps[0]"
   ]
  },
  {
   "cell_type": "code",
   "execution_count": 340,
   "id": "6c954875-a074-443c-89c6-7aea5fe8d24d",
   "metadata": {},
   "outputs": [
    {
     "data": {
      "text/plain": [
       "(503, 502, 64)"
      ]
     },
     "execution_count": 340,
     "metadata": {},
     "output_type": "execute_result"
    }
   ],
   "source": [
    "all_next_points.shape"
   ]
  },
  {
   "cell_type": "code",
   "execution_count": 341,
   "id": "4a451cec-000c-49b9-b377-87a33f02c4b0",
   "metadata": {},
   "outputs": [
    {
     "data": {
      "text/plain": [
       "(502, 64)"
      ]
     },
     "execution_count": 341,
     "metadata": {},
     "output_type": "execute_result"
    }
   ],
   "source": [
    "previous_points.shape"
   ]
  },
  {
   "cell_type": "code",
   "execution_count": 342,
   "id": "7c127a67-e783-42a8-9639-ba9d72ec9837",
   "metadata": {},
   "outputs": [
    {
     "data": {
      "text/plain": [
       "(503, 4)"
      ]
     },
     "execution_count": 342,
     "metadata": {},
     "output_type": "execute_result"
    }
   ],
   "source": [
    "s3_sample_points.shape"
   ]
  },
  {
   "cell_type": "code",
   "execution_count": 343,
   "id": "14b08e94-cc03-470c-a2c2-3811474fae62",
   "metadata": {},
   "outputs": [],
   "source": [
    "previous_point_index = 10\n",
    "s3_sample_point_index = 20"
   ]
  },
  {
   "cell_type": "code",
   "execution_count": 344,
   "id": "17335410-7f4b-4e56-a11e-f233ce13a253",
   "metadata": {},
   "outputs": [],
   "source": [
    "next_point = all_next_points[s3_sample_point_index, previous_point_index]\n",
    "previous_point = points_1[previous_point_index]"
   ]
  },
  {
   "cell_type": "code",
   "execution_count": 345,
   "id": "0343639d-3d23-4984-81da-e13698189269",
   "metadata": {},
   "outputs": [
    {
     "data": {
      "text/plain": [
       "(502, 1, 4)"
      ]
     },
     "execution_count": 345,
     "metadata": {},
     "output_type": "execute_result"
    }
   ],
   "source": [
    "s3_previous_points.shape"
   ]
  },
  {
   "cell_type": "code",
   "execution_count": 346,
   "id": "ad2acacf-98df-49d4-a524-a9d6b8ab7af1",
   "metadata": {},
   "outputs": [],
   "source": [
    "s3_previous_point = s3_previous_points[previous_point_index, 0]"
   ]
  },
  {
   "cell_type": "code",
   "execution_count": 347,
   "id": "38e1d6f4-2d3c-47bd-965c-3cbb85b450b5",
   "metadata": {},
   "outputs": [],
   "source": [
    "s3_next_point = s3_sample_points[s3_sample_point_index]"
   ]
  },
  {
   "cell_type": "code",
   "execution_count": 348,
   "id": "e6120e91-e40e-41d5-8261-14ed23eb2f36",
   "metadata": {},
   "outputs": [
    {
     "data": {
      "text/plain": [
       "(252506, 2, 4)"
      ]
     },
     "execution_count": 348,
     "metadata": {},
     "output_type": "execute_result"
    }
   ],
   "source": [
    "all_next_s3_points.shape"
   ]
  },
  {
   "cell_type": "code",
   "execution_count": 349,
   "id": "e109b84f-868b-4f4d-9136-330e8d3aa2df",
   "metadata": {},
   "outputs": [
    {
     "data": {
      "text/plain": [
       "503"
      ]
     },
     "execution_count": 349,
     "metadata": {},
     "output_type": "execute_result"
    }
   ],
   "source": [
    "num_s3_sample_points"
   ]
  },
  {
   "cell_type": "code",
   "execution_count": 350,
   "id": "e84e22cd-cd55-4b37-9b46-384d45e665e2",
   "metadata": {},
   "outputs": [
    {
     "data": {
      "text/plain": [
       "502"
      ]
     },
     "execution_count": 350,
     "metadata": {},
     "output_type": "execute_result"
    }
   ],
   "source": [
    "num_previous_points = previous_points.shape[0]\n",
    "num_previous_points"
   ]
  },
  {
   "cell_type": "code",
   "execution_count": 351,
   "id": "3faa0b96-7251-4782-a262-d656dc4f4be2",
   "metadata": {},
   "outputs": [
    {
     "data": {
      "text/plain": [
       "0.0"
      ]
     },
     "execution_count": 351,
     "metadata": {},
     "output_type": "execute_result"
    }
   ],
   "source": [
    "np.linalg.norm(all_next_s3_points[previous_point_index*num_s3_sample_points + s3_sample_point_index,0] - s3_previous_point)"
   ]
  },
  {
   "cell_type": "code",
   "execution_count": 352,
   "id": "f5fcb3e0-9a19-47b7-a64f-468a1c928e7f",
   "metadata": {},
   "outputs": [
    {
     "data": {
      "text/plain": [
       "0.0"
      ]
     },
     "execution_count": 352,
     "metadata": {},
     "output_type": "execute_result"
    }
   ],
   "source": [
    "np.linalg.norm(all_next_s3_points[previous_point_index*num_s3_sample_points + s3_sample_point_index,1] - s3_next_point)"
   ]
  },
  {
   "cell_type": "code",
   "execution_count": 353,
   "id": "6208d9f3-58f5-4cf2-8236-cace2e8db67b",
   "metadata": {},
   "outputs": [],
   "source": [
    "previous_unitary = (\n",
    "    get_transfer_matrix_from_unitary(\n",
    "        test_psi,\n",
    "        s3_points_to_unitary(s3_previous_point),\n",
    "        (test_psi.L)//2 + 30\n",
    "    )\n",
    "    .combine_legs([['vL', 'vL*'], ['vR', 'vR*']])\n",
    "    .to_ndarray()\n",
    ")\n",
    "\n",
    "next_unitary = (\n",
    "    get_transfer_matrix_from_unitary(\n",
    "        test_psi,\n",
    "        s3_points_to_unitary(s3_next_point),\n",
    "        (test_psi.L)//2 + 31\n",
    "    )\n",
    "    .combine_legs([['vL', 'vL*'], ['vR', 'vR*']])\n",
    "    .to_ndarray()\n",
    ")"
   ]
  },
  {
   "cell_type": "code",
   "execution_count": 354,
   "id": "0c7dea69-cfb2-4c55-8db8-d103621b76c6",
   "metadata": {},
   "outputs": [
    {
     "data": {
      "text/plain": [
       "1.7229811868533296e-16"
      ]
     },
     "execution_count": 354,
     "metadata": {},
     "output_type": "execute_result"
    }
   ],
   "source": [
    "np.linalg.norm(np.dot(Vh[0], previous_unitary) - previous_point)"
   ]
  },
  {
   "cell_type": "code",
   "execution_count": 355,
   "id": "0c658763-2ba0-4610-9740-f6ced544cc33",
   "metadata": {},
   "outputs": [
    {
     "data": {
      "text/plain": [
       "1.4322266331654753e-16"
      ]
     },
     "execution_count": 355,
     "metadata": {},
     "output_type": "execute_result"
    }
   ],
   "source": [
    "np.linalg.norm(np.dot(previous_point, next_unitary) - next_point)"
   ]
  },
  {
   "cell_type": "code",
   "execution_count": 356,
   "id": "f7a7bb64-8c27-4d48-b9ff-20cc1bf29eb4",
   "metadata": {},
   "outputs": [
    {
     "data": {
      "text/plain": [
       "1.1660969443300767e-16"
      ]
     },
     "execution_count": 356,
     "metadata": {},
     "output_type": "execute_result"
    }
   ],
   "source": [
    "np.linalg.norm(reduce(np.dot, [Vh[0], previous_unitary, next_unitary]) - next_point)"
   ]
  },
  {
   "cell_type": "code",
   "execution_count": 357,
   "id": "70216f23-cd3d-48a4-992a-eca92e046dad",
   "metadata": {},
   "outputs": [
    {
     "data": {
      "text/plain": [
       "0.15367963328059475"
      ]
     },
     "execution_count": 357,
     "metadata": {},
     "output_type": "execute_result"
    }
   ],
   "source": [
    "np.abs(reduce(np.dot, [Vh[0], previous_unitary, next_unitary, vR]))"
   ]
  },
  {
   "cell_type": "code",
   "execution_count": 358,
   "id": "96ed42be-7bcb-4ec7-a84a-41e1ec2b5ddf",
   "metadata": {},
   "outputs": [
    {
     "data": {
      "text/plain": [
       "0.27602744285883185"
      ]
     },
     "execution_count": 358,
     "metadata": {},
     "output_type": "execute_result"
    }
   ],
   "source": [
    "overlaps[previous_point_index*num_s3_sample_points + s3_sample_point_index]"
   ]
  },
  {
   "cell_type": "code",
   "execution_count": 359,
   "id": "7d8ae320-87b0-4ff7-9e17-8b7b58049f8b",
   "metadata": {},
   "outputs": [
    {
     "data": {
      "text/plain": [
       "0.15367963328059484"
      ]
     },
     "execution_count": 359,
     "metadata": {},
     "output_type": "execute_result"
    }
   ],
   "source": [
    "overlaps[previous_point_index + s3_sample_point_index*num_previous_points]"
   ]
  },
  {
   "cell_type": "markdown",
   "id": "c6ea112a-67f0-4aa3-a331-01b422b6bec2",
   "metadata": {},
   "source": [
    "Disagreement! Need to track this down..."
   ]
  },
  {
   "cell_type": "markdown",
   "id": "5b145985-c4ca-4a7a-bbd7-6fd62e49b340",
   "metadata": {},
   "source": [
    "# To-do\n",
    "* Compute all-to-all distances and statistics more carefully. Could avoid gigantic arrays with blocking of arrays, then bucket the results. Could use an array for the buckets.\n",
    "* The big freedom is choosing the $S^3$ points to sample over, and then which of the resulting points to keep. Currently keeping the top candidates. Could also keep a certain portion of the top candidates, then sample the remainders also. Could do this uniformly, or sample uniformly with respect to the deciles. E.g. take an equal number of points from 0-.1, .1-.2 etc. Want to get a good \"spread\" of candidates.\n",
    "* Again, the optimization step is crying out for an OOP API. That raises the question of how to integrate such an object with other optimization based objects, and even the possibility of combining/mixing strategies.\n",
    "* I'm getting different results sometime, but I don't think there's anything inherently stochastic going on. There could be a leaked global variable creeping into the function that's getting overwritten...?"
   ]
  },
  {
   "cell_type": "code",
   "execution_count": null,
   "id": "59701e63-496f-404c-9d90-69bcad2f8cc2",
   "metadata": {},
   "outputs": [],
   "source": []
  }
 ],
 "metadata": {
  "kernelspec": {
   "display_name": "num_spt_venv_p11",
   "language": "python",
   "name": "num_spt_venv_p11"
  },
  "language_info": {
   "codemirror_mode": {
    "name": "ipython",
    "version": 3
   },
   "file_extension": ".py",
   "mimetype": "text/x-python",
   "name": "python",
   "nbconvert_exporter": "python",
   "pygments_lexer": "ipython3",
   "version": "3.11.9"
  }
 },
 "nbformat": 4,
 "nbformat_minor": 5
}
