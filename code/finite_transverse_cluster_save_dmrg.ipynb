{
 "cells": [
  {
   "cell_type": "code",
   "execution_count": 2,
   "metadata": {},
   "outputs": [],
   "source": [
    "import numpy as np\n",
    "import scipy\n",
    "import matplotlib.pyplot as plt"
   ]
  },
  {
   "cell_type": "code",
   "execution_count": 3,
   "metadata": {},
   "outputs": [],
   "source": [
    "import tenpy\n",
    "import tenpy.linalg.np_conserved as npc\n",
    "from tenpy.algorithms import dmrg\n",
    "from tenpy.networks.mps import MPS"
   ]
  },
  {
   "cell_type": "code",
   "execution_count": 4,
   "metadata": {},
   "outputs": [],
   "source": [
    "from tenpy.networks.site import SpinSite, SpinHalfSite\n",
    "from tenpy.models.lattice import Chain\n",
    "from tenpy.models.model import CouplingModel, NearestNeighborModel, MPOModel"
   ]
  },
  {
   "cell_type": "code",
   "execution_count": 5,
   "metadata": {},
   "outputs": [],
   "source": [
    "class ClusterIsing(CouplingModel):\n",
    "    def __init__(self, model_params):\n",
    "        # Read out/set default parameters\n",
    "        name = \"Cluster Ising model\"\n",
    "        L = model_params.get('L', 5)\n",
    "        B = model_params.get('B', 0)\n",
    "        bc_MPS = model_params.get('bc_MPS', 'finite')\n",
    "        \n",
    "        # sites\n",
    "        site = SpinHalfSite(conserve=None)\n",
    "\n",
    "        # lattice\n",
    "        bc = 'open'\n",
    "        lat = Chain(L, site, bc=bc, bc_MPS=bc_MPS)\n",
    "\n",
    "        # initialize CouplingModel\n",
    "        CouplingModel.__init__(self, lat)\n",
    "\n",
    "        # add terms of the Hamiltonian\n",
    "        self.add_onsite(-B, 0, 'Sigmax')\n",
    "        self.add_multi_coupling(\n",
    "            -1,\n",
    "            [\n",
    "                ('Sigmaz', -1, 0),\n",
    "                ('Sigmax', 0, 0),\n",
    "                ('Sigmaz', 1, 0),\n",
    "            ]\n",
    "        )\n",
    "\n",
    "        # initialize H_MPO\n",
    "        MPOModel.__init__(self, lat, self.calc_H_MPO())"
   ]
  },
  {
   "cell_type": "code",
   "execution_count": 6,
   "metadata": {},
   "outputs": [],
   "source": [
    "dmrg_params = {\n",
    "    \"trunc_params\": {\"chi_max\": 8, \"chi_min\": 1, \"svd_min\": 1.e-10},\n",
    "    \"min_sweeps\":100,\n",
    "    \"max_sweeps\":200,\n",
    "    \"mixer\": True,\n",
    "    \"combine\":False,\n",
    "    'decay':2,\n",
    "    'amplitude':10e-1,\n",
    "    'disable_after':60,\n",
    "    'update_env':0\n",
    "}"
   ]
  },
  {
   "cell_type": "code",
   "execution_count": 7,
   "metadata": {},
   "outputs": [],
   "source": [
    "B_params = np.linspace(1.3, 2, 8)"
   ]
  },
  {
   "cell_type": "code",
   "execution_count": 8,
   "metadata": {},
   "outputs": [
    {
     "data": {
      "text/plain": [
       "array([1.3, 1.4, 1.5, 1.6, 1.7, 1.8, 1.9, 2. ])"
      ]
     },
     "execution_count": 8,
     "metadata": {},
     "output_type": "execute_result"
    }
   ],
   "source": [
    "B_params"
   ]
  },
  {
   "cell_type": "code",
   "execution_count": 9,
   "metadata": {},
   "outputs": [],
   "source": [
    "import h5py\n",
    "from tenpy.tools import hdf5_io"
   ]
  },
  {
   "cell_type": "code",
   "execution_count": 10,
   "metadata": {
    "scrolled": true
   },
   "outputs": [
    {
     "name": "stdout",
     "output_type": "stream",
     "text": [
      "Commencing B=1.30 model\n"
     ]
    },
    {
     "name": "stderr",
     "output_type": "stream",
     "text": [
      "final DMRG state not in canonical form up to norm_tol=1.00e-05: norm_err=4.78e-05\n"
     ]
    },
    {
     "name": "stdout",
     "output_type": "stream",
     "text": [
      "Commencing B=1.40 model\n"
     ]
    },
    {
     "name": "stderr",
     "output_type": "stream",
     "text": [
      "/home/kieranc/Desktop/numerical_spt_classification/code/num_spt_venv/lib/python3.12/site-packages/tenpy/tools/params.py:230: UserWarning: unused options for config TwoSiteDMRGEngine:\n",
      "['amplitude', 'decay', 'disable_after', 'update_env']\n",
      "  warnings.warn(msg.format(keys=sorted(unused), name=self.name))\n",
      "final DMRG state not in canonical form up to norm_tol=1.00e-05: norm_err=2.80e-05\n"
     ]
    },
    {
     "name": "stdout",
     "output_type": "stream",
     "text": [
      "Commencing B=1.50 model\n"
     ]
    },
    {
     "name": "stderr",
     "output_type": "stream",
     "text": [
      "/home/kieranc/Desktop/numerical_spt_classification/code/num_spt_venv/lib/python3.12/site-packages/tenpy/tools/params.py:230: UserWarning: unused options for config TwoSiteDMRGEngine:\n",
      "['amplitude', 'decay', 'disable_after', 'update_env']\n",
      "  warnings.warn(msg.format(keys=sorted(unused), name=self.name))\n",
      "final DMRG state not in canonical form up to norm_tol=1.00e-05: norm_err=1.70e-05\n"
     ]
    },
    {
     "name": "stdout",
     "output_type": "stream",
     "text": [
      "Commencing B=1.60 model\n"
     ]
    },
    {
     "name": "stderr",
     "output_type": "stream",
     "text": [
      "/home/kieranc/Desktop/numerical_spt_classification/code/num_spt_venv/lib/python3.12/site-packages/tenpy/tools/params.py:230: UserWarning: unused options for config TwoSiteDMRGEngine:\n",
      "['amplitude', 'decay', 'disable_after', 'update_env']\n",
      "  warnings.warn(msg.format(keys=sorted(unused), name=self.name))\n",
      "final DMRG state not in canonical form up to norm_tol=1.00e-05: norm_err=1.06e-05\n"
     ]
    },
    {
     "name": "stdout",
     "output_type": "stream",
     "text": [
      "Commencing B=1.70 model\n"
     ]
    },
    {
     "name": "stderr",
     "output_type": "stream",
     "text": [
      "/home/kieranc/Desktop/numerical_spt_classification/code/num_spt_venv/lib/python3.12/site-packages/tenpy/tools/params.py:230: UserWarning: unused options for config TwoSiteDMRGEngine:\n",
      "['amplitude', 'decay', 'disable_after', 'update_env']\n",
      "  warnings.warn(msg.format(keys=sorted(unused), name=self.name))\n"
     ]
    },
    {
     "name": "stdout",
     "output_type": "stream",
     "text": [
      "Commencing B=1.80 model\n"
     ]
    },
    {
     "name": "stderr",
     "output_type": "stream",
     "text": [
      "/home/kieranc/Desktop/numerical_spt_classification/code/num_spt_venv/lib/python3.12/site-packages/tenpy/tools/params.py:230: UserWarning: unused options for config TwoSiteDMRGEngine:\n",
      "['amplitude', 'decay', 'disable_after', 'update_env']\n",
      "  warnings.warn(msg.format(keys=sorted(unused), name=self.name))\n"
     ]
    },
    {
     "name": "stdout",
     "output_type": "stream",
     "text": [
      "Commencing B=1.90 model\n"
     ]
    },
    {
     "name": "stderr",
     "output_type": "stream",
     "text": [
      "/home/kieranc/Desktop/numerical_spt_classification/code/num_spt_venv/lib/python3.12/site-packages/tenpy/tools/params.py:230: UserWarning: unused options for config TwoSiteDMRGEngine:\n",
      "['amplitude', 'decay', 'disable_after', 'update_env']\n",
      "  warnings.warn(msg.format(keys=sorted(unused), name=self.name))\n"
     ]
    },
    {
     "name": "stdout",
     "output_type": "stream",
     "text": [
      "Commencing B=2.00 model\n"
     ]
    },
    {
     "name": "stderr",
     "output_type": "stream",
     "text": [
      "/home/kieranc/Desktop/numerical_spt_classification/code/num_spt_venv/lib/python3.12/site-packages/tenpy/tools/params.py:230: UserWarning: unused options for config TwoSiteDMRGEngine:\n",
      "['amplitude', 'decay', 'disable_after', 'update_env']\n",
      "  warnings.warn(msg.format(keys=sorted(unused), name=self.name))\n"
     ]
    }
   ],
   "source": [
    "wavefunctions = list()\n",
    "energies = list()\n",
    "\n",
    "for B in B_params:\n",
    "    print(\"Commencing B={:.2f} model\".format(B))\n",
    "    model=ClusterIsing({'B': B, 'L':200})\n",
    "    \n",
    "    psi = MPS.from_desired_bond_dimension(model.lat.mps_sites(), 1, bc=model.lat.bc_MPS)\n",
    "    psi.canonical_form()\n",
    "\n",
    "    eng = dmrg.TwoSiteDMRGEngine(psi, model, dmrg_params)\n",
    "    e, psi = eng.run()\n",
    "\n",
    "    wavefunctions.append(psi)\n",
    "    energies.append(e)\n",
    "\n",
    "    data = {\n",
    "        \"wavefunction\": psi,\n",
    "        \"paramters\": {\"B\": B}\n",
    "    }\n",
    "\n",
    "    filename = r\"data/transverse_cluster_200_site_dmrg/{:.2f}\".format(B).replace(\".\", \"_\")\n",
    "    filename += \".h5\"\n",
    "    with h5py.File(filename, 'w') as f:\n",
    "        hdf5_io.save_to_hdf5(f, data)"
   ]
  },
  {
   "cell_type": "code",
   "execution_count": 11,
   "metadata": {},
   "outputs": [
    {
     "data": {
      "text/plain": [
       "7"
      ]
     },
     "execution_count": 11,
     "metadata": {},
     "output_type": "execute_result"
    }
   ],
   "source": [
    "7"
   ]
  },
  {
   "cell_type": "code",
   "execution_count": null,
   "metadata": {},
   "outputs": [],
   "source": []
  }
 ],
 "metadata": {
  "kernelspec": {
   "display_name": "num_spt_venv",
   "language": "python",
   "name": "num_spt_venv"
  },
  "language_info": {
   "codemirror_mode": {
    "name": "ipython",
    "version": 3
   },
   "file_extension": ".py",
   "mimetype": "text/x-python",
   "name": "python",
   "nbconvert_exporter": "python",
   "pygments_lexer": "ipython3",
   "version": "3.12.3"
  }
 },
 "nbformat": 4,
 "nbformat_minor": 4
}
