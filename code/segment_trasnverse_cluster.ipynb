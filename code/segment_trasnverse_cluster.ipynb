{
 "cells": [
  {
   "cell_type": "code",
   "execution_count": 1,
   "metadata": {},
   "outputs": [],
   "source": [
    "import numpy as np\n",
    "import scipy\n",
    "import matplotlib.pyplot as plt"
   ]
  },
  {
   "cell_type": "code",
   "execution_count": 2,
   "metadata": {},
   "outputs": [],
   "source": [
    "import h5py\n",
    "from tenpy.tools import hdf5_io\\\n",
    "\n",
    "import os"
   ]
  },
  {
   "cell_type": "code",
   "execution_count": 3,
   "metadata": {},
   "outputs": [],
   "source": [
    "import tenpy\n",
    "import tenpy.linalg.np_conserved as npc\n",
    "from tenpy.algorithms import dmrg\n",
    "from tenpy.networks.mps import MPS"
   ]
  },
  {
   "cell_type": "code",
   "execution_count": 4,
   "metadata": {},
   "outputs": [],
   "source": [
    "from tenpy.networks.site import SpinSite, SpinHalfSite\n",
    "from tenpy.models.lattice import Chain\n",
    "from tenpy.models.model import CouplingModel, NearestNeighborModel, MPOModel"
   ]
  },
  {
   "cell_type": "code",
   "execution_count": 5,
   "metadata": {},
   "outputs": [],
   "source": [
    "class TransverseCluster(CouplingModel):\n",
    "    def __init__(self, model_params):\n",
    "        # Read out/set default parameters\n",
    "        name = \"Cluster Ising model\"\n",
    "        L = model_params.get('L', 2)\n",
    "        B = model_params.get('B', 0)\n",
    "        bc_MPS = model_params.get('bc_MPS', 'infinite')\n",
    "        \n",
    "        # sites\n",
    "        site = SpinHalfSite(conserve=None)\n",
    "\n",
    "        # lattice\n",
    "        bc = 'periodic'\n",
    "        lat = Chain(L, site, bc=bc, bc_MPS=bc_MPS)\n",
    "\n",
    "        # initialize CouplingModel\n",
    "        CouplingModel.__init__(self, lat)\n",
    "\n",
    "        # add terms of the Hamiltonian\n",
    "        self.add_onsite(-B, 0, 'Sigmax')\n",
    "        self.add_multi_coupling(\n",
    "            -1,\n",
    "            [\n",
    "                ('Sigmaz', -1, 0),\n",
    "                ('Sigmax', 0, 0),\n",
    "                ('Sigmaz', 1, 0),\n",
    "            ]\n",
    "        )\n",
    "\n",
    "        # initialize H_MPO\n",
    "        MPOModel.__init__(self, lat, self.calc_H_MPO())"
   ]
  },
  {
   "cell_type": "code",
   "execution_count": 6,
   "metadata": {},
   "outputs": [],
   "source": [
    "model_infinite = TransverseCluster({})"
   ]
  },
  {
   "cell_type": "code",
   "execution_count": 7,
   "metadata": {},
   "outputs": [],
   "source": [
    "psi0_inf = MPS.from_desired_bond_dimension(model_infinite.lat.mps_sites(), 1, bc=model_infinite.lat.bc_MPS)"
   ]
  },
  {
   "cell_type": "code",
   "execution_count": 8,
   "metadata": {},
   "outputs": [],
   "source": [
    "psi0_inf.canonical_form()"
   ]
  },
  {
   "cell_type": "code",
   "execution_count": 9,
   "metadata": {},
   "outputs": [],
   "source": [
    "dmrg_params = {\n",
    "    \"trunc_params\": {\"chi_max\": 8, \"chi_min\": 1, \"svd_min\": 1.e-10},\n",
    "    \"min_sweeps\":100,\n",
    "    \"max_sweeps\":200,\n",
    "    \"mixer\": True,\n",
    "    \"combine\":False,\n",
    "    'decay':2,\n",
    "    'amplitude':10e-1,\n",
    "    'disable_after':60,\n",
    "    'update_env':0\n",
    "}"
   ]
  },
  {
   "cell_type": "code",
   "execution_count": 10,
   "metadata": {},
   "outputs": [],
   "source": [
    "eng0_inf = dmrg.TwoSiteDMRGEngine(psi0_inf, model_infinite, dmrg_params)\n",
    "E0_inf, _ = eng0_inf.run()\n",
    "resume_psi0_inf = eng0_inf.get_resume_data(sequential_simulations=True)"
   ]
  },
  {
   "cell_type": "code",
   "execution_count": 11,
   "metadata": {},
   "outputs": [
    {
     "data": {
      "text/plain": [
       "{'psi': <tenpy.networks.mps.MPS at 0x74e07328c750>,\n",
       " 'sequential_simulations': True,\n",
       " 'init_env_data': {'init_LP': <npc.Array shape=(2, 4, 2) labels=['vR*', 'wR', 'vR']>,\n",
       "  'age_LP': 444,\n",
       "  'init_RP': <npc.Array shape=(2, 4, 2) labels=['vL', 'wL', 'vL*']>,\n",
       "  'age_RP': 444}}"
      ]
     },
     "execution_count": 11,
     "metadata": {},
     "output_type": "execute_result"
    }
   ],
   "source": [
    "resume_psi0_inf"
   ]
  },
  {
   "cell_type": "code",
   "execution_count": 12,
   "metadata": {},
   "outputs": [
    {
     "data": {
      "text/plain": [
       "array([0.69314718, 0.69314718])"
      ]
     },
     "execution_count": 12,
     "metadata": {},
     "output_type": "execute_result"
    }
   ],
   "source": [
    "psi0_inf.entanglement_entropy()"
   ]
  },
  {
   "cell_type": "code",
   "execution_count": 14,
   "metadata": {},
   "outputs": [
    {
     "name": "stdout",
     "output_type": "stream",
     "text": [
      "<npc.Array shape=(2, 2, 2) labels=['vL', 'p', 'vR']\n",
      "charge=ChargeInfo([], [])\n",
      " +1 | +1 | -1 \n",
      "0 []|0 []|0 []\n",
      "2   |2   |2   \n",
      "[[[ 0.73607057 -0.08206514]\n",
      "  [ 0.07445073  0.6677743 ]]\n",
      "\n",
      " [[ 0.6677743  -0.07445073]\n",
      "  [-0.08206514 -0.73607057]]]\n",
      ">\n"
     ]
    }
   ],
   "source": [
    "print(psi0_inf.get_B(0))"
   ]
  },
  {
   "cell_type": "code",
   "execution_count": 15,
   "metadata": {},
   "outputs": [
    {
     "name": "stdout",
     "output_type": "stream",
     "text": [
      "<npc.Array shape=(2, 2, 2) labels=['vL', 'p', 'vR']\n",
      "charge=ChargeInfo([], [])\n",
      " +1 | +1 | -1 \n",
      "0 []|0 []|0 []\n",
      "2   |2   |2   \n",
      "[[[-0.78018037  0.03795534]\n",
      "  [-0.03034093 -0.62366451]]\n",
      "\n",
      " [[-0.62366451  0.03034093]\n",
      "  [ 0.03795534  0.78018037]]]\n",
      ">\n"
     ]
    }
   ],
   "source": [
    "print(psi0_inf.get_B(1))"
   ]
  },
  {
   "cell_type": "code",
   "execution_count": 16,
   "metadata": {},
   "outputs": [
    {
     "data": {
      "text/plain": [
       "-1.0000000000002132"
      ]
     },
     "execution_count": 16,
     "metadata": {},
     "output_type": "execute_result"
    }
   ],
   "source": [
    "E0_inf"
   ]
  },
  {
   "cell_type": "code",
   "execution_count": 17,
   "metadata": {},
   "outputs": [],
   "source": [
    "enlarge = 5"
   ]
  },
  {
   "cell_type": "code",
   "execution_count": 18,
   "metadata": {},
   "outputs": [],
   "source": [
    "model_seg = model_infinite.extract_segment(enlarge=enlarge)\n",
    "first, last = model_seg.lat.segment_first_last"
   ]
  },
  {
   "cell_type": "code",
   "execution_count": 19,
   "metadata": {},
   "outputs": [],
   "source": [
    "psi0_seg = psi0_inf.extract_segment(first, last)"
   ]
  },
  {
   "cell_type": "code",
   "execution_count": 20,
   "metadata": {},
   "outputs": [],
   "source": [
    "init_env_data = eng0_inf.env.get_initialization_data(first, last)"
   ]
  },
  {
   "cell_type": "code",
   "execution_count": 21,
   "metadata": {},
   "outputs": [
    {
     "data": {
      "text/plain": [
       "{'init_LP': <npc.Array shape=(2, 4, 2) labels=['vR*', 'wR', 'vR']>,\n",
       " 'age_LP': 444,\n",
       " 'init_RP': <npc.Array shape=(2, 4, 2) labels=['vL', 'wL', 'vL*']>,\n",
       " 'age_RP': 444}"
      ]
     },
     "execution_count": 21,
     "metadata": {},
     "output_type": "execute_result"
    }
   ],
   "source": [
    "init_env_data"
   ]
  },
  {
   "cell_type": "code",
   "execution_count": 24,
   "metadata": {},
   "outputs": [],
   "source": [
    "psi1_seg = psi0_seg.copy()"
   ]
  },
  {
   "cell_type": "code",
   "execution_count": 22,
   "metadata": {},
   "outputs": [],
   "source": [
    "resume_psi1_seg = {'init_env_data': init_env_data}"
   ]
  },
  {
   "cell_type": "code",
   "execution_count": 26,
   "metadata": {},
   "outputs": [
    {
     "data": {
      "text/plain": [
       "dict"
      ]
     },
     "execution_count": 26,
     "metadata": {},
     "output_type": "execute_result"
    }
   ],
   "source": [
    "type(init_env_data)"
   ]
  },
  {
   "cell_type": "code",
   "execution_count": 27,
   "metadata": {},
   "outputs": [
    {
     "data": {
      "text/plain": [
       "True"
      ]
     },
     "execution_count": 27,
     "metadata": {},
     "output_type": "execute_result"
    }
   ],
   "source": [
    "psi1_seg.finite"
   ]
  },
  {
   "cell_type": "code",
   "execution_count": 28,
   "metadata": {},
   "outputs": [
    {
     "ename": "AttributeError",
     "evalue": "'TransverseCluster' object has no attribute 'finite'",
     "output_type": "error",
     "traceback": [
      "\u001b[0;31m---------------------------------------------------------------------------\u001b[0m",
      "\u001b[0;31mAttributeError\u001b[0m                            Traceback (most recent call last)",
      "Cell \u001b[0;32mIn[28], line 1\u001b[0m\n\u001b[0;32m----> 1\u001b[0m \u001b[43mmodel_seg\u001b[49m\u001b[38;5;241;43m.\u001b[39;49m\u001b[43mfinite\u001b[49m\n",
      "\u001b[0;31mAttributeError\u001b[0m: 'TransverseCluster' object has no attribute 'finite'"
     ]
    }
   ],
   "source": [
    "model_seg.finite"
   ]
  },
  {
   "cell_type": "code",
   "execution_count": 29,
   "metadata": {},
   "outputs": [
    {
     "data": {
      "text/plain": [
       "False"
      ]
     },
     "execution_count": 29,
     "metadata": {},
     "output_type": "execute_result"
    }
   ],
   "source": [
    "model_seg.H_MPO.finite"
   ]
  },
  {
   "cell_type": "code",
   "execution_count": null,
   "metadata": {},
   "outputs": [],
   "source": [
    "dmrg.TwoSiteDMRGEngine(psi1_seg, model_seg, dmrg_params, resume_data=resume_psi1_seg)\n",
    "DMRGEngine.super().__init__(psi1_seg, model_seg, dmrg_params, resume_data=resume_psi1_seg)\n",
    "Sweep.init_env(model_seg, resume_data=resume_psi1_seg, orthogonal_to=None)\n",
    "Sweep._init_mpo_env(model_seg.H_MPO, init_env_data)\n",
    "Sweep.MPOEnvironment(psi1_seg, H, psi1_seg, cache=cache, **init_env_data)\n",
    "MPOEnvironment.super().__init__(psi1_seg, psi1_seg, cache, **int_env_data)"
   ]
  },
  {
   "cell_type": "code",
   "execution_count": 25,
   "metadata": {},
   "outputs": [
    {
     "ename": "AssertionError",
     "evalue": "",
     "output_type": "error",
     "traceback": [
      "\u001b[0;31m---------------------------------------------------------------------------\u001b[0m",
      "\u001b[0;31mAssertionError\u001b[0m                            Traceback (most recent call last)",
      "Cell \u001b[0;32mIn[25], line 1\u001b[0m\n\u001b[0;32m----> 1\u001b[0m eng \u001b[38;5;241m=\u001b[39m \u001b[43mdmrg\u001b[49m\u001b[38;5;241;43m.\u001b[39;49m\u001b[43mTwoSiteDMRGEngine\u001b[49m\u001b[43m(\u001b[49m\u001b[43mpsi1_seg\u001b[49m\u001b[43m,\u001b[49m\u001b[43m \u001b[49m\u001b[43mmodel_seg\u001b[49m\u001b[43m,\u001b[49m\u001b[43m \u001b[49m\u001b[43mdmrg_params\u001b[49m\u001b[43m,\u001b[49m\u001b[43m \u001b[49m\u001b[43mresume_data\u001b[49m\u001b[38;5;241;43m=\u001b[39;49m\u001b[43mresume_psi1_seg\u001b[49m\u001b[43m)\u001b[49m\n",
      "File \u001b[0;32m~/Desktop/numerical_spt_classification/code/venv/lib/python3.11/site-packages/tenpy/algorithms/dmrg.py:210\u001b[0m, in \u001b[0;36mDMRGEngine.__init__\u001b[0;34m(self, psi, model, options, **kwargs)\u001b[0m\n\u001b[1;32m    208\u001b[0m \u001b[38;5;28mself\u001b[39m\u001b[38;5;241m.\u001b[39mdiag_method \u001b[38;5;241m=\u001b[39m options\u001b[38;5;241m.\u001b[39mget(\u001b[38;5;124m'\u001b[39m\u001b[38;5;124mdiag_method\u001b[39m\u001b[38;5;124m'\u001b[39m, \u001b[38;5;124m'\u001b[39m\u001b[38;5;124mdefault\u001b[39m\u001b[38;5;124m'\u001b[39m)\n\u001b[1;32m    209\u001b[0m \u001b[38;5;28mself\u001b[39m\u001b[38;5;241m.\u001b[39m_entropy_approx \u001b[38;5;241m=\u001b[39m [\u001b[38;5;28;01mNone\u001b[39;00m] \u001b[38;5;241m*\u001b[39m psi\u001b[38;5;241m.\u001b[39mL  \u001b[38;5;66;03m# always left of a given site\u001b[39;00m\n\u001b[0;32m--> 210\u001b[0m \u001b[38;5;28;43msuper\u001b[39;49m\u001b[43m(\u001b[49m\u001b[43m)\u001b[49m\u001b[38;5;241;43m.\u001b[39;49m\u001b[38;5;21;43m__init__\u001b[39;49m\u001b[43m(\u001b[49m\u001b[43mpsi\u001b[49m\u001b[43m,\u001b[49m\u001b[43m \u001b[49m\u001b[43mmodel\u001b[49m\u001b[43m,\u001b[49m\u001b[43m \u001b[49m\u001b[43moptions\u001b[49m\u001b[43m,\u001b[49m\u001b[43m \u001b[49m\u001b[38;5;241;43m*\u001b[39;49m\u001b[38;5;241;43m*\u001b[39;49m\u001b[43mkwargs\u001b[49m\u001b[43m)\u001b[49m\n\u001b[1;32m    211\u001b[0m \u001b[38;5;28mself\u001b[39m\u001b[38;5;241m.\u001b[39mN_sweeps_check \u001b[38;5;241m=\u001b[39m \u001b[38;5;28mself\u001b[39m\u001b[38;5;241m.\u001b[39moptions\u001b[38;5;241m.\u001b[39mget(\u001b[38;5;124m'\u001b[39m\u001b[38;5;124mN_sweeps_check\u001b[39m\u001b[38;5;124m'\u001b[39m, \u001b[38;5;241m1\u001b[39m \u001b[38;5;28;01mif\u001b[39;00m \u001b[38;5;28mself\u001b[39m\u001b[38;5;241m.\u001b[39mpsi\u001b[38;5;241m.\u001b[39mfinite \u001b[38;5;28;01melse\u001b[39;00m \u001b[38;5;241m10\u001b[39m)\n\u001b[1;32m    212\u001b[0m default_min_sweeps \u001b[38;5;241m=\u001b[39m \u001b[38;5;28mint\u001b[39m(\u001b[38;5;241m1.5\u001b[39m \u001b[38;5;241m*\u001b[39m \u001b[38;5;28mself\u001b[39m\u001b[38;5;241m.\u001b[39mN_sweeps_check)\n",
      "File \u001b[0;32m~/Desktop/numerical_spt_classification/code/venv/lib/python3.11/site-packages/tenpy/algorithms/mps_common.py:145\u001b[0m, in \u001b[0;36mSweep.__init__\u001b[0;34m(self, psi, model, options, orthogonal_to, **kwargs)\u001b[0m\n\u001b[1;32m    143\u001b[0m \u001b[38;5;28mself\u001b[39m\u001b[38;5;241m.\u001b[39menv \u001b[38;5;241m=\u001b[39m \u001b[38;5;28;01mNone\u001b[39;00m\n\u001b[1;32m    144\u001b[0m \u001b[38;5;28mself\u001b[39m\u001b[38;5;241m.\u001b[39mortho_to_envs \u001b[38;5;241m=\u001b[39m []\n\u001b[0;32m--> 145\u001b[0m \u001b[38;5;28;43mself\u001b[39;49m\u001b[38;5;241;43m.\u001b[39;49m\u001b[43minit_env\u001b[49m\u001b[43m(\u001b[49m\u001b[43mmodel\u001b[49m\u001b[43m,\u001b[49m\u001b[43m \u001b[49m\u001b[43mresume_data\u001b[49m\u001b[38;5;241;43m=\u001b[39;49m\u001b[38;5;28;43mself\u001b[39;49m\u001b[38;5;241;43m.\u001b[39;49m\u001b[43mresume_data\u001b[49m\u001b[43m,\u001b[49m\u001b[43m \u001b[49m\u001b[43morthogonal_to\u001b[49m\u001b[38;5;241;43m=\u001b[39;49m\u001b[43morthogonal_to\u001b[49m\u001b[43m)\u001b[49m\n\u001b[1;32m    146\u001b[0m \u001b[38;5;28mself\u001b[39m\u001b[38;5;241m.\u001b[39mi0 \u001b[38;5;241m=\u001b[39m \u001b[38;5;241m0\u001b[39m\n\u001b[1;32m    147\u001b[0m \u001b[38;5;28mself\u001b[39m\u001b[38;5;241m.\u001b[39mmove_right \u001b[38;5;241m=\u001b[39m \u001b[38;5;28;01mTrue\u001b[39;00m\n",
      "File \u001b[0;32m~/Desktop/numerical_spt_classification/code/venv/lib/python3.11/site-packages/tenpy/algorithms/mps_common.py:244\u001b[0m, in \u001b[0;36mSweep.init_env\u001b[0;34m(self, model, resume_data, orthogonal_to)\u001b[0m\n\u001b[1;32m    241\u001b[0m     warnings\u001b[38;5;241m.\u001b[39mwarn(\u001b[38;5;124m\"\u001b[39m\u001b[38;5;124mRe-using environment with `chi_list` set! Do you want this?\u001b[39m\u001b[38;5;124m\"\u001b[39m)\n\u001b[1;32m    243\u001b[0m \u001b[38;5;66;03m# actually initialize the environment\u001b[39;00m\n\u001b[0;32m--> 244\u001b[0m \u001b[38;5;28;43mself\u001b[39;49m\u001b[38;5;241;43m.\u001b[39;49m\u001b[43m_init_mpo_env\u001b[49m\u001b[43m(\u001b[49m\u001b[43mH\u001b[49m\u001b[43m,\u001b[49m\u001b[43m \u001b[49m\u001b[43minit_env_data\u001b[49m\u001b[43m)\u001b[49m\n\u001b[1;32m    245\u001b[0m \u001b[38;5;28mself\u001b[39m\u001b[38;5;241m.\u001b[39m_init_ortho_to_envs(orthogonal_to, resume_data)\n\u001b[1;32m    247\u001b[0m \u001b[38;5;28mself\u001b[39m\u001b[38;5;241m.\u001b[39mreset_stats(resume_data)\n",
      "File \u001b[0;32m~/Desktop/numerical_spt_classification/code/venv/lib/python3.11/site-packages/tenpy/algorithms/mps_common.py:260\u001b[0m, in \u001b[0;36mSweep._init_mpo_env\u001b[0;34m(self, H, init_env_data)\u001b[0m\n\u001b[1;32m    258\u001b[0m     cache \u001b[38;5;241m=\u001b[39m \u001b[38;5;28mself\u001b[39m\u001b[38;5;241m.\u001b[39menv\u001b[38;5;241m.\u001b[39mcache  \u001b[38;5;66;03m# re-initialize and reuse the cache!\u001b[39;00m\n\u001b[1;32m    259\u001b[0m     cache\u001b[38;5;241m.\u001b[39mclear()  \u001b[38;5;66;03m# remove old entries which might no longer be valid\u001b[39;00m\n\u001b[0;32m--> 260\u001b[0m \u001b[38;5;28mself\u001b[39m\u001b[38;5;241m.\u001b[39menv \u001b[38;5;241m=\u001b[39m \u001b[43mMPOEnvironment\u001b[49m\u001b[43m(\u001b[49m\u001b[38;5;28;43mself\u001b[39;49m\u001b[38;5;241;43m.\u001b[39;49m\u001b[43mpsi\u001b[49m\u001b[43m,\u001b[49m\u001b[43m \u001b[49m\u001b[43mH\u001b[49m\u001b[43m,\u001b[49m\u001b[43m \u001b[49m\u001b[38;5;28;43mself\u001b[39;49m\u001b[38;5;241;43m.\u001b[39;49m\u001b[43mpsi\u001b[49m\u001b[43m,\u001b[49m\u001b[43m \u001b[49m\u001b[43mcache\u001b[49m\u001b[38;5;241;43m=\u001b[39;49m\u001b[43mcache\u001b[49m\u001b[43m,\u001b[49m\u001b[43m \u001b[49m\u001b[38;5;241;43m*\u001b[39;49m\u001b[38;5;241;43m*\u001b[39;49m\u001b[43minit_env_data\u001b[49m\u001b[43m)\u001b[49m\n",
      "File \u001b[0;32m~/Desktop/numerical_spt_classification/code/venv/lib/python3.11/site-packages/tenpy/networks/mpo.py:2118\u001b[0m, in \u001b[0;36mMPOEnvironment.__init__\u001b[0;34m(self, bra, H, ket, cache, **init_env_data)\u001b[0m\n\u001b[1;32m   2116\u001b[0m \u001b[38;5;28;01mdef\u001b[39;00m \u001b[38;5;21m__init__\u001b[39m(\u001b[38;5;28mself\u001b[39m, bra, H, ket, cache\u001b[38;5;241m=\u001b[39m\u001b[38;5;28;01mNone\u001b[39;00m, \u001b[38;5;241m*\u001b[39m\u001b[38;5;241m*\u001b[39minit_env_data):\n\u001b[1;32m   2117\u001b[0m     \u001b[38;5;28mself\u001b[39m\u001b[38;5;241m.\u001b[39mH \u001b[38;5;241m=\u001b[39m H\n\u001b[0;32m-> 2118\u001b[0m     \u001b[38;5;28;43msuper\u001b[39;49m\u001b[43m(\u001b[49m\u001b[43m)\u001b[49m\u001b[38;5;241;43m.\u001b[39;49m\u001b[38;5;21;43m__init__\u001b[39;49m\u001b[43m(\u001b[49m\u001b[43mbra\u001b[49m\u001b[43m,\u001b[49m\u001b[43m \u001b[49m\u001b[43mket\u001b[49m\u001b[43m,\u001b[49m\u001b[43m \u001b[49m\u001b[43mcache\u001b[49m\u001b[43m,\u001b[49m\u001b[43m \u001b[49m\u001b[38;5;241;43m*\u001b[39;49m\u001b[38;5;241;43m*\u001b[39;49m\u001b[43minit_env_data\u001b[49m\u001b[43m)\u001b[49m\n\u001b[1;32m   2119\u001b[0m     \u001b[38;5;28mself\u001b[39m\u001b[38;5;241m.\u001b[39mdtype \u001b[38;5;241m=\u001b[39m np\u001b[38;5;241m.\u001b[39mresult_type(bra\u001b[38;5;241m.\u001b[39mdtype, ket\u001b[38;5;241m.\u001b[39mdtype, H\u001b[38;5;241m.\u001b[39mdtype)\n",
      "File \u001b[0;32m~/Desktop/numerical_spt_classification/code/venv/lib/python3.11/site-packages/tenpy/networks/mps.py:5288\u001b[0m, in \u001b[0;36mBaseEnvironment.__init__\u001b[0;34m(self, bra, ket, cache, **init_env_data)\u001b[0m\n\u001b[1;32m   5285\u001b[0m     warnings\u001b[38;5;241m.\u001b[39mwarn(\u001b[38;5;124m\"\u001b[39m\u001b[38;5;124mnon-trivial cache for short-length environment: \u001b[39m\u001b[38;5;124m\"\u001b[39m\n\u001b[1;32m   5286\u001b[0m                   \u001b[38;5;124m\"\u001b[39m\u001b[38;5;124mMuch overhead for a little RAM saving. Necessary?\u001b[39m\u001b[38;5;124m\"\u001b[39m)\n\u001b[1;32m   5287\u001b[0m \u001b[38;5;28mself\u001b[39m\u001b[38;5;241m.\u001b[39minit_first_LP_last_RP(\u001b[38;5;241m*\u001b[39m\u001b[38;5;241m*\u001b[39minit_env_data)\n\u001b[0;32m-> 5288\u001b[0m \u001b[38;5;28;43mself\u001b[39;49m\u001b[38;5;241;43m.\u001b[39;49m\u001b[43mtest_sanity\u001b[49m\u001b[43m(\u001b[49m\u001b[43m)\u001b[49m\n",
      "File \u001b[0;32m~/Desktop/numerical_spt_classification/code/venv/lib/python3.11/site-packages/tenpy/networks/mpo.py:2192\u001b[0m, in \u001b[0;36mMPOEnvironment.test_sanity\u001b[0;34m(self)\u001b[0m\n\u001b[1;32m   2190\u001b[0m \u001b[38;5;28;01mdef\u001b[39;00m \u001b[38;5;21mtest_sanity\u001b[39m(\u001b[38;5;28mself\u001b[39m):\n\u001b[1;32m   2191\u001b[0m \u001b[38;5;250m    \u001b[39m\u001b[38;5;124;03m\"\"\"Sanity check, raises ValueErrors, if something is wrong.\"\"\"\u001b[39;00m\n\u001b[0;32m-> 2192\u001b[0m     \u001b[38;5;28;01massert\u001b[39;00m (\u001b[38;5;28mself\u001b[39m\u001b[38;5;241m.\u001b[39mbra\u001b[38;5;241m.\u001b[39mfinite \u001b[38;5;241m==\u001b[39m \u001b[38;5;28mself\u001b[39m\u001b[38;5;241m.\u001b[39mket\u001b[38;5;241m.\u001b[39mfinite \u001b[38;5;241m==\u001b[39m \u001b[38;5;28mself\u001b[39m\u001b[38;5;241m.\u001b[39mH\u001b[38;5;241m.\u001b[39mfinite \u001b[38;5;241m==\u001b[39m \u001b[38;5;28mself\u001b[39m\u001b[38;5;241m.\u001b[39mfinite)\n\u001b[1;32m   2193\u001b[0m     \u001b[38;5;66;03m# check that the physical legs are contractable\u001b[39;00m\n\u001b[1;32m   2194\u001b[0m     \u001b[38;5;28;01mfor\u001b[39;00m b_s, H_s, k_s \u001b[38;5;129;01min\u001b[39;00m \u001b[38;5;28mzip\u001b[39m(\u001b[38;5;28mself\u001b[39m\u001b[38;5;241m.\u001b[39mbra\u001b[38;5;241m.\u001b[39msites, \u001b[38;5;28mself\u001b[39m\u001b[38;5;241m.\u001b[39mH\u001b[38;5;241m.\u001b[39msites, \u001b[38;5;28mself\u001b[39m\u001b[38;5;241m.\u001b[39mket\u001b[38;5;241m.\u001b[39msites):\n",
      "\u001b[0;31mAssertionError\u001b[0m: "
     ]
    }
   ],
   "source": [
    "eng = dmrg.TwoSiteDMRGEngine(psi1_seg, model_seg, dmrg_params, resume_data=resume_psi1_seg)"
   ]
  },
  {
   "cell_type": "code",
   "execution_count": null,
   "metadata": {},
   "outputs": [],
   "source": [
    "E1_s, _ = eng.run()"
   ]
  }
 ],
 "metadata": {
  "kernelspec": {
   "display_name": "venv",
   "language": "python",
   "name": "venv"
  },
  "language_info": {
   "codemirror_mode": {
    "name": "ipython",
    "version": 3
   },
   "file_extension": ".py",
   "mimetype": "text/x-python",
   "name": "python",
   "nbconvert_exporter": "python",
   "pygments_lexer": "ipython3",
   "version": "3.11.8"
  }
 },
 "nbformat": 4,
 "nbformat_minor": 4
}
