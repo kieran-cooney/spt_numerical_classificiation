{
 "cells": [
  {
   "cell_type": "markdown",
   "id": "5f2205a4-2c74-4cf5-9ad1-9d65bd13bed2",
   "metadata": {},
   "source": [
    "# Non-trivial models boundary operators\n",
    "\n",
    "Created 29/04/2025\n",
    "\n",
    "Objectives:\n",
    "* Investigate boundary operators and extract SPT phase."
   ]
  },
  {
   "cell_type": "markdown",
   "id": "9ad0db4d-805c-4403-9d48-c71d523d572f",
   "metadata": {},
   "source": [
    "# Package imports"
   ]
  },
  {
   "cell_type": "code",
   "execution_count": 1,
   "id": "ecb41ea3-927f-4efa-aebe-ce15784aa037",
   "metadata": {},
   "outputs": [],
   "source": [
    "import sys\n",
    "sys.path.append('../')"
   ]
  },
  {
   "cell_type": "code",
   "execution_count": 2,
   "id": "4a525ec6-f0c8-47ee-8b0b-345bf0ef8bd3",
   "metadata": {},
   "outputs": [],
   "source": [
    "import h5py\n",
    "from tenpy.tools import hdf5_io\n",
    "import tenpy\n",
    "import tenpy.linalg.np_conserved as npc\n",
    "\n",
    "import os\n",
    "import pickle"
   ]
  },
  {
   "cell_type": "code",
   "execution_count": 3,
   "id": "214f688a-c657-4810-b4d1-b1247deff62c",
   "metadata": {},
   "outputs": [],
   "source": [
    "import numpy as np\n",
    "import pandas as pd\n",
    "\n",
    "import matplotlib.pyplot as plt\n",
    "import matplotlib\n",
    "from matplotlib.ticker import AutoMinorLocator, MultipleLocator"
   ]
  },
  {
   "cell_type": "code",
   "execution_count": 4,
   "id": "11d5f5ee-50dc-4446-aa69-0706b5eda5ba",
   "metadata": {},
   "outputs": [],
   "source": [
    "from tqdm import tqdm"
   ]
  },
  {
   "cell_type": "code",
   "execution_count": 5,
   "id": "b8dec68d-a5b3-4383-ab44-567a9a5981b3",
   "metadata": {},
   "outputs": [],
   "source": [
    "from SPTOptimization.SymmetryActionWithBoundaryUnitaries import SymmetryActionWithBoundaryUnitaries\n",
    "\n",
    "from SPTOptimization.utils import (\n",
    "    to_npc_array,\n",
    "    get_right_identity_environment,\n",
    "    get_right_identity_environment_from_tp_tensor,\n",
    "    multiply_stacked_unitaries_against_mps,\n",
    "    inner_product_b_tensors,\n",
    "    get_npc_identity_operator\n",
    ")\n",
    "\n",
    "from SPTOptimization.Optimizers.MPSBrickSolver import(\n",
    "    MPSBrickSolver\n",
    ")"
   ]
  },
  {
   "cell_type": "markdown",
   "id": "c69a8a47-e298-4c4c-97f7-a6157da4e15f",
   "metadata": {},
   "source": [
    "# Load data"
   ]
  },
  {
   "cell_type": "code",
   "execution_count": 6,
   "id": "210d7dcc-b7ae-4f06-8429-84177bec47d3",
   "metadata": {},
   "outputs": [],
   "source": [
    "DATA_DIR_1 = r\"../data/interpolated_trivial_to_nontrivial_fermionic_trivial_proj_rep_200_site_dmrg/\"\n",
    "DATA_DIR_2 = r\"../data/interpolated_nontrivial_fermionic_proj_rep_to_nontrivial_proj_rep_200_site_dmrg/\""
   ]
  },
  {
   "cell_type": "code",
   "execution_count": 7,
   "id": "ae809e74-d444-4db4-88ff-7538f6110d08",
   "metadata": {},
   "outputs": [],
   "source": [
    "def parse_file_name(file_name):\n",
    "    interpolation = int(file_name.split('_')[0])/100\n",
    "\n",
    "    return interpolation"
   ]
  },
  {
   "cell_type": "code",
   "execution_count": 8,
   "id": "e09f07cf-8441-4c7e-90b8-dbc8c61311f2",
   "metadata": {},
   "outputs": [],
   "source": [
    "loaded_data_triv_proj_rep = dict()\n",
    "energies_triv_proj_rep = dict()\n",
    "\n",
    "for local_file_name in list(os.walk(DATA_DIR_1))[0][2]:\n",
    "    f_name = r\"{}/{}\".format(DATA_DIR_1, local_file_name, ignore_unknown=False)\n",
    "    with h5py.File(f_name, 'r') as f:\n",
    "        data = hdf5_io.load_from_hdf5(f)\n",
    "\n",
    "        data_info = parse_file_name(local_file_name)\n",
    "        loaded_data_triv_proj_rep[data_info]=data['wavefunction']\n",
    "        energies_triv_proj_rep[data_info]=data['energy']"
   ]
  },
  {
   "cell_type": "code",
   "execution_count": 9,
   "id": "38dd3540-a84f-4ca7-b7a8-68ed1b0be4e2",
   "metadata": {},
   "outputs": [],
   "source": [
    "loaded_data_non_triv_proj_rep = dict()\n",
    "energies_non_triv_proj_rep = dict()\n",
    "\n",
    "for local_file_name in list(os.walk(DATA_DIR_2))[0][2]:\n",
    "    f_name = r\"{}/{}\".format(DATA_DIR_2, local_file_name, ignore_unknown=False)\n",
    "\n",
    "    with h5py.File(f_name, 'r') as f:\n",
    "        data = hdf5_io.load_from_hdf5(f)\n",
    "\n",
    "        data_info = parse_file_name(local_file_name)\n",
    "        loaded_data_non_triv_proj_rep[data_info]=data['wavefunction']\n",
    "        energies_non_triv_proj_rep[data_info]=data['energy']"
   ]
  },
  {
   "cell_type": "markdown",
   "id": "b4c1e616-c034-404b-b59e-196d1eaac475",
   "metadata": {},
   "source": [
    "# Definitons"
   ]
  },
  {
   "cell_type": "code",
   "execution_count": 10,
   "id": "63506364-f535-4c0f-8c5f-8839c69f7b9d",
   "metadata": {},
   "outputs": [],
   "source": [
    "MAX_VIRTUAL_BOND_DIM = 30\n",
    "MAX_INTERMEDIATE_VIRTUAL_BOND_DIM = 2*MAX_VIRTUAL_BOND_DIM\n",
    "# MPO bond dim?\n",
    "MAX_MPO_BOND_DIM = 50\n",
    "\n",
    "SVD_CUTOFF = 1e-3"
   ]
  },
  {
   "cell_type": "markdown",
   "id": "1efd18d4-328d-43dd-996d-393f18eb02b2",
   "metadata": {},
   "source": [
    "Define bosonic symmetries. Label by the group element added."
   ]
  },
  {
   "cell_type": "code",
   "execution_count": 11,
   "id": "513d7288-c641-4071-a4a3-652787d1f98c",
   "metadata": {},
   "outputs": [],
   "source": [
    "np_00 = np.array([\n",
    "    [1, 0, 0, 0],\n",
    "    [0, 1, 0, 0],\n",
    "    [0, 0, 1, 0],\n",
    "    [0, 0, 0, 1]\n",
    "])\n",
    "\n",
    "np_01 = np.array([\n",
    "    [0, 1, 0, 0],\n",
    "    [1, 0, 0, 0],\n",
    "    [0, 0, 0, 1],\n",
    "    [0, 0, 1, 0]\n",
    "])\n",
    "\n",
    "np_10 = np.array([\n",
    "    [0, 0, 1, 0],\n",
    "    [0, 0, 0, 1],\n",
    "    [1, 0, 0, 0],\n",
    "    [0, 1, 0, 0]\n",
    "])\n",
    "\n",
    "np_11 = np.array([\n",
    "    [0, 0, 0, 1],\n",
    "    [0, 0, 1, 0],\n",
    "    [0, 1, 0, 0],\n",
    "    [1, 0, 0, 0]\n",
    "])"
   ]
  },
  {
   "cell_type": "code",
   "execution_count": 12,
   "id": "c83907c6-e86f-48af-a2a1-11b250f47e84",
   "metadata": {},
   "outputs": [],
   "source": [
    "bosonic_np_symmetries = [\n",
    "    np_00,\n",
    "    np_01,\n",
    "    np_10,\n",
    "    np_11\n",
    "]"
   ]
  },
  {
   "cell_type": "code",
   "execution_count": 13,
   "id": "fd7c7309-10ee-4834-b153-9a4121462fca",
   "metadata": {},
   "outputs": [],
   "source": [
    "bosonic_npc_symmetries = [\n",
    "    to_npc_array(X) for X in bosonic_np_symmetries\n",
    "]"
   ]
  },
  {
   "cell_type": "code",
   "execution_count": 14,
   "id": "2a78a62e-37eb-4baf-98ba-d6a94d599bec",
   "metadata": {},
   "outputs": [],
   "source": [
    "npc_00 = to_npc_array(np_00)\n",
    "npc_01 = to_npc_array(np_01)\n",
    "npc_10 = to_npc_array(np_10)\n",
    "npc_11 = to_npc_array(np_11)"
   ]
  },
  {
   "cell_type": "markdown",
   "id": "1ecddc96-798a-416b-b0b4-d9ea9e25cfca",
   "metadata": {},
   "source": [
    "Define \"fermionic symmetries\". Just identity and JW string."
   ]
  },
  {
   "cell_type": "code",
   "execution_count": 15,
   "id": "a1c64bf0-4b2e-4492-b242-3dae6eb527c3",
   "metadata": {},
   "outputs": [],
   "source": [
    "np_I = np.array([\n",
    "    [1, 0],\n",
    "    [0, 1]\n",
    "])\n",
    "\n",
    "np_JW = np.array([\n",
    "    [1, 0],\n",
    "    [0, -1]\n",
    "])"
   ]
  },
  {
   "cell_type": "code",
   "execution_count": 16,
   "id": "e595ca13-740a-41a3-a658-8831c8f54323",
   "metadata": {},
   "outputs": [],
   "source": [
    "fermionic_np_symmetries = [np_I, np_JW]"
   ]
  },
  {
   "cell_type": "code",
   "execution_count": 17,
   "id": "6e5b6ad0-2496-4072-afe9-c41fc62da40e",
   "metadata": {},
   "outputs": [],
   "source": [
    "fermionic_npc_symmetries = [\n",
    "    to_npc_array(X) for X in fermionic_np_symmetries\n",
    "]"
   ]
  },
  {
   "cell_type": "code",
   "execution_count": 18,
   "id": "a2b43b48-e438-4702-8287-f5d27fc47f7b",
   "metadata": {},
   "outputs": [],
   "source": [
    "npc_JW = fermionic_npc_symmetries[1]"
   ]
  },
  {
   "cell_type": "code",
   "execution_count": 19,
   "id": "b9e2f954-c591-4479-ba37-32862c25c660",
   "metadata": {},
   "outputs": [],
   "source": [
    "symmetry_actions = [\n",
    "    [[b, f] for b in bosonic_np_symmetries]\n",
    "    for f in fermionic_np_symmetries\n",
    "]"
   ]
  },
  {
   "cell_type": "code",
   "execution_count": 20,
   "id": "8c945b86-cec1-4b08-930f-1922b7e1bea6",
   "metadata": {},
   "outputs": [],
   "source": [
    "shifted_symmetry_actions = [\n",
    "    [[f, b] for b in bosonic_np_symmetries]\n",
    "    for f in fermionic_np_symmetries\n",
    "]"
   ]
  },
  {
   "cell_type": "code",
   "execution_count": 21,
   "id": "ac19b501-4293-4d08-8bb0-35515cd6a093",
   "metadata": {},
   "outputs": [],
   "source": [
    "cases_triv_proj_rep = dict()\n",
    "\n",
    "for k, psi in loaded_data_triv_proj_rep.items():\n",
    "\n",
    "    for i, l in enumerate(symmetry_actions):\n",
    "\n",
    "        for j, s in enumerate(l):\n",
    "            case = SymmetryActionWithBoundaryUnitaries(\n",
    "                psi,\n",
    "                s*40,\n",
    "                left_symmetry_index=60,\n",
    "                left_boundary_unitaries=[np_I, np_00]*1,\n",
    "                right_boundary_unitaries=[np_00, np_I]*1\n",
    "            )\n",
    "\n",
    "            cases_triv_proj_rep[(k, i, j)] = case"
   ]
  },
  {
   "cell_type": "code",
   "execution_count": 22,
   "id": "8e7ff810-32b3-4163-9b1b-ca96a282a7f5",
   "metadata": {},
   "outputs": [],
   "source": [
    "for c in cases_triv_proj_rep.values():\n",
    "    c.compute_svd_approximate_expectation()"
   ]
  },
  {
   "cell_type": "code",
   "execution_count": 23,
   "id": "d5a75573-aebb-4b9c-904f-342f9f57c345",
   "metadata": {},
   "outputs": [],
   "source": [
    "cases_non_triv_proj_rep = dict()\n",
    "\n",
    "for k, psi in loaded_data_non_triv_proj_rep.items():\n",
    "\n",
    "    for i, l in enumerate(symmetry_actions):\n",
    "\n",
    "        for j, s in enumerate(l):\n",
    "            case = SymmetryActionWithBoundaryUnitaries(\n",
    "                psi,\n",
    "                s*40,\n",
    "                left_symmetry_index=60,\n",
    "                left_boundary_unitaries=[np_I, np_00]*1,\n",
    "                right_boundary_unitaries=[np_00, np_I]*1\n",
    "            )\n",
    "\n",
    "            cases_non_triv_proj_rep[(k, i, j)] = case"
   ]
  },
  {
   "cell_type": "code",
   "execution_count": 24,
   "id": "8d8df7a6-3e0c-4e4f-bc02-97d989f2c6e1",
   "metadata": {},
   "outputs": [],
   "source": [
    "for c in cases_non_triv_proj_rep.values():\n",
    "    c.compute_svd_approximate_expectation()"
   ]
  },
  {
   "cell_type": "code",
   "execution_count": 25,
   "id": "6bac53fa-b629-46fc-a145-f932a0af6f18",
   "metadata": {},
   "outputs": [],
   "source": [
    "left_trivial_leg_charge = tenpy.linalg.charges.LegCharge(\n",
    "    tenpy.linalg.charges.ChargeInfo([], []),\n",
    "    [0,1],\n",
    "    [[]],\n",
    "    qconj=1\n",
    ")"
   ]
  },
  {
   "cell_type": "code",
   "execution_count": 26,
   "id": "44f34cb7-0888-474b-9483-f4956951fc31",
   "metadata": {},
   "outputs": [],
   "source": [
    "right_trivial_leg_charge = tenpy.linalg.charges.LegCharge(\n",
    "    tenpy.linalg.charges.ChargeInfo([], []),\n",
    "    [0,1],\n",
    "    [[]],\n",
    "    qconj=-1\n",
    ")"
   ]
  },
  {
   "cell_type": "markdown",
   "id": "e54c2e74-e029-4b2c-93b6-f82af0bf42d9",
   "metadata": {},
   "source": [
    "## SPT functions"
   ]
  },
  {
   "cell_type": "code",
   "execution_count": 27,
   "id": "08ce0827-cbc3-4e55-8ac1-4eedc638e598",
   "metadata": {},
   "outputs": [],
   "source": [
    "def calculate_proj_rep_phase(state_g, left_schmidt_values_g, unitary_h,\n",
    "                             state_gh,\n",
    "                             left_environment,\n",
    "                             max_virtual_bond_dim=MAX_VIRTUAL_BOND_DIM):\n",
    "    prod_state, _ = multiply_stacked_unitaries_against_mps(\n",
    "        unitary_h,\n",
    "        state_g,\n",
    "        left_schmidt_values_g,\n",
    "        max_virtual_bond_dim\n",
    "    )\n",
    "\n",
    "    exp = inner_product_b_tensors(prod_state, state_gh, left_environment)\n",
    "\n",
    "    return exp/(np.abs(exp))"
   ]
  },
  {
   "cell_type": "code",
   "execution_count": 28,
   "id": "c70d9c69-1835-424f-8c10-cb95ae528bae",
   "metadata": {},
   "outputs": [],
   "source": [
    "def get_proj_rep_phases(mps_tensors, left_schmidt_values, unitaries,\n",
    "                        left_environment):\n",
    "    mps_dict = {\n",
    "        k: v for k, v in zip(symmetry_labels[1:], mps_tensors)\n",
    "    }\n",
    "\n",
    "    schmidt_vals_dict = {\n",
    "        k: v for k, v in zip(symmetry_labels[1:], left_schmidt_values)\n",
    "    }\n",
    "\n",
    "    unitaries_dict = {\n",
    "        k: v for k, v in zip(symmetry_labels[1:], unitaries)\n",
    "    }\n",
    "\n",
    "    out_phases = list()\n",
    "\n",
    "    for a, b, c in group_products:\n",
    "        phase = calculate_proj_rep_phase(\n",
    "            mps_dict[a],\n",
    "            schmidt_vals_dict[a],\n",
    "            unitaries_dict[b],\n",
    "            mps_dict[c],\n",
    "            left_environment,\n",
    "            max_virtual_bond_dim=MAX_VIRTUAL_BOND_DIM\n",
    "        )\n",
    "\n",
    "        out_phases.append(phase)\n",
    "\n",
    "    return out_phases"
   ]
  },
  {
   "cell_type": "code",
   "execution_count": 29,
   "id": "b40284a8-1f34-4211-a005-eb880a846972",
   "metadata": {},
   "outputs": [],
   "source": [
    "def get_right_proj_rep_phases_from_optimizers(optimizers):\n",
    "    mps_tensors = [\n",
    "        o.top_right_mps_tensors\n",
    "        for o in optimizers[1:]\n",
    "    ]\n",
    "\n",
    "    left_schmidt_values = [\n",
    "        o.current_right_side_left_schmidt_values\n",
    "        for o in optimizers[1:]\n",
    "    ]\n",
    "\n",
    "    unitaries = [\n",
    "        o.right_unitaries for o in optimizers[1:]\n",
    "    ]\n",
    "\n",
    "    left_environment = optimizers[0].right_side_left_symmetry_environment\n",
    "\n",
    "    out = get_proj_rep_phases(\n",
    "        mps_tensors,\n",
    "        left_schmidt_values,\n",
    "        unitaries,\n",
    "        left_environment\n",
    "    )\n",
    "\n",
    "    return out"
   ]
  },
  {
   "cell_type": "code",
   "execution_count": 30,
   "id": "1d8841a9-e8fd-441e-a997-cc5c3433de4c",
   "metadata": {},
   "outputs": [],
   "source": [
    "def get_left_proj_rep_phases_from_optimizers(optimizers):\n",
    "    mps_tensors = [\n",
    "        o.top_left_mps_tensors\n",
    "        for o in optimizers[1:]\n",
    "    ]\n",
    "\n",
    "    left_schmidt_values = [\n",
    "        o.current_left_side_right_schmidt_values\n",
    "        for o in optimizers[1:]\n",
    "    ]\n",
    "\n",
    "    unitaries = [\n",
    "        o.left_unitaries for o in optimizers[1:]\n",
    "    ]\n",
    "\n",
    "    left_environment = optimizers[0].left_side_right_symmetry_environment\n",
    "\n",
    "    out = get_proj_rep_phases(\n",
    "        mps_tensors,\n",
    "        left_schmidt_values,\n",
    "        unitaries,\n",
    "        left_environment\n",
    "    )\n",
    "\n",
    "    return out"
   ]
  },
  {
   "cell_type": "markdown",
   "id": "f6407652-a916-40ec-8e56-650ef3c4cd5d",
   "metadata": {},
   "source": [
    "## Group data definitions"
   ]
  },
  {
   "cell_type": "code",
   "execution_count": 31,
   "id": "23e62c10-6c32-4ee4-9cde-ac7f05c69d7f",
   "metadata": {},
   "outputs": [],
   "source": [
    "from itertools import combinations"
   ]
  },
  {
   "cell_type": "code",
   "execution_count": 32,
   "id": "10721838-5776-4da8-9618-01dd30494f13",
   "metadata": {},
   "outputs": [],
   "source": [
    "symmetry_labels = [\n",
    "    'II',\n",
    "    'IX',\n",
    "    'XI',\n",
    "    'XX'\n",
    "]"
   ]
  },
  {
   "cell_type": "code",
   "execution_count": 33,
   "id": "d1cd215b-c62c-405e-9adc-9a97db7142e2",
   "metadata": {},
   "outputs": [],
   "source": [
    "symmetry_combination_labels = list(combinations(symmetry_labels, 2))"
   ]
  },
  {
   "cell_type": "code",
   "execution_count": 34,
   "id": "45a081ff-eb82-4ff5-9700-55f11824f366",
   "metadata": {},
   "outputs": [
    {
     "data": {
      "text/plain": [
       "[('II', 'IX'),\n",
       " ('II', 'XI'),\n",
       " ('II', 'XX'),\n",
       " ('IX', 'XI'),\n",
       " ('IX', 'XX'),\n",
       " ('XI', 'XX')]"
      ]
     },
     "execution_count": 34,
     "metadata": {},
     "output_type": "execute_result"
    }
   ],
   "source": [
    "symmetry_combination_labels"
   ]
  },
  {
   "cell_type": "code",
   "execution_count": 35,
   "id": "aab20cf0-ae51-4603-9192-5ba0741b6a6d",
   "metadata": {},
   "outputs": [],
   "source": [
    "e, a, b, c = symmetry_labels"
   ]
  },
  {
   "cell_type": "code",
   "execution_count": 36,
   "id": "955bfb99-9c73-4794-b14e-f62f7872abe5",
   "metadata": {},
   "outputs": [],
   "source": [
    "group_products = [\n",
    "    (a, b, c),\n",
    "    (b, a, c),\n",
    "    (a, c, b),\n",
    "    (c, a, b),\n",
    "    (c, b, a),\n",
    "    (b, c, a)\n",
    "]"
   ]
  },
  {
   "cell_type": "code",
   "execution_count": 37,
   "id": "d1e764db-d3cd-4216-9d5e-c5ddad7893f3",
   "metadata": {},
   "outputs": [],
   "source": [
    "symmetry_pair_labels = [\n",
    "    a + ',' + b,\n",
    "    a + ',' + c,\n",
    "    c + ',' + b\n",
    "]"
   ]
  },
  {
   "cell_type": "markdown",
   "id": "a8d73e19-9829-45b4-9469-c38cd95df93e",
   "metadata": {},
   "source": [
    "# Calculate boundary operators"
   ]
  },
  {
   "cell_type": "code",
   "execution_count": 38,
   "id": "a8c16338-cc25-4baa-8aee-23a4c23f7e5a",
   "metadata": {},
   "outputs": [],
   "source": [
    "block_width = 3\n",
    "num_one_sided_iterations = 3\n",
    "num_two_sided_iterations = 3\n",
    "num_layers = 4\n",
    "num_sites = 15\n",
    "max_virtual_bond_dim = 30"
   ]
  },
  {
   "cell_type": "code",
   "execution_count": 39,
   "id": "7473af0e-2191-47d7-84a1-40c3e2a787cb",
   "metadata": {},
   "outputs": [
    {
     "data": {
      "text/plain": [
       "'\\noptimizer_dict_triv_proj_rep = dict()\\n\\nfor k, v in cases_triv_proj_rep.items():\\n    opt = MPSBrickSolver(\\n        v,\\n        num_sites,\\n        block_width,\\n        num_layers,\\n        num_one_sided_iterations,\\n        num_two_sided_iterations,\\n        max_virtual_bond_dim=max_virtual_bond_dim\\n    )\\n\\n    opt.optimise()\\n\\n    optimizer_dict_triv_proj_rep[k] = opt\\n'"
      ]
     },
     "execution_count": 39,
     "metadata": {},
     "output_type": "execute_result"
    }
   ],
   "source": [
    "\"\"\"\n",
    "optimizer_dict_triv_proj_rep = dict()\n",
    "\n",
    "for k, v in cases_triv_proj_rep.items():\n",
    "    opt = MPSBrickSolver(\n",
    "        v,\n",
    "        num_sites,\n",
    "        block_width,\n",
    "        num_layers,\n",
    "        num_one_sided_iterations,\n",
    "        num_two_sided_iterations,\n",
    "        max_virtual_bond_dim=max_virtual_bond_dim\n",
    "    )\n",
    "\n",
    "    opt.optimise()\n",
    "\n",
    "    optimizer_dict_triv_proj_rep[k] = opt\n",
    "\"\"\""
   ]
  },
  {
   "cell_type": "code",
   "execution_count": 40,
   "id": "8a390d78-505c-49b2-a2ca-0559ed65dca5",
   "metadata": {},
   "outputs": [
    {
     "data": {
      "text/plain": [
       "'\\noptimizer_dict_non_triv_proj_rep = dict()\\n\\nfor k, v in cases_non_triv_proj_rep.items():\\n    opt = MPSBrickSolver(\\n        v,\\n        num_sites,\\n        block_width,\\n        num_layers,\\n        num_one_sided_iterations,\\n        num_two_sided_iterations,\\n        max_virtual_bond_dim=max_virtual_bond_dim\\n    )\\n\\n    opt.optimise()\\n\\n    optimizer_dict_non_triv_proj_rep[k] = opt\\n'"
      ]
     },
     "execution_count": 40,
     "metadata": {},
     "output_type": "execute_result"
    }
   ],
   "source": [
    "\"\"\"\n",
    "optimizer_dict_non_triv_proj_rep = dict()\n",
    "\n",
    "for k, v in cases_non_triv_proj_rep.items():\n",
    "    opt = MPSBrickSolver(\n",
    "        v,\n",
    "        num_sites,\n",
    "        block_width,\n",
    "        num_layers,\n",
    "        num_one_sided_iterations,\n",
    "        num_two_sided_iterations,\n",
    "        max_virtual_bond_dim=max_virtual_bond_dim\n",
    "    )\n",
    "\n",
    "    opt.optimise()\n",
    "\n",
    "    optimizer_dict_non_triv_proj_rep[k] = opt\n",
    "\"\"\""
   ]
  },
  {
   "cell_type": "markdown",
   "id": "ba7b6704-fe47-4129-b4f8-7dc59fb599fd",
   "metadata": {},
   "source": [
    "Save results."
   ]
  },
  {
   "cell_type": "code",
   "execution_count": 41,
   "id": "36da2c32-b216-47d5-adeb-83447efeb78d",
   "metadata": {},
   "outputs": [
    {
     "data": {
      "text/plain": [
       "\"\\nwith open(r'solutions/non_trivial_models_triv_proj_rep_brick_sol_30_bond_dim_dict.pkl', 'wb') as file:\\n    pickle.dump(optimizer_dict_triv_proj_rep, file)\\n\""
      ]
     },
     "execution_count": 41,
     "metadata": {},
     "output_type": "execute_result"
    }
   ],
   "source": [
    "\"\"\"\n",
    "with open(r'solutions/non_trivial_models_triv_proj_rep_brick_sol_30_bond_dim_dict.pkl', 'wb') as file:\n",
    "    pickle.dump(optimizer_dict_triv_proj_rep, file)\n",
    "\"\"\""
   ]
  },
  {
   "cell_type": "code",
   "execution_count": 42,
   "id": "6a3d8513-e85d-4e58-83b6-7398e64669d4",
   "metadata": {},
   "outputs": [
    {
     "data": {
      "text/plain": [
       "\"\\nwith open(r'solutions/non_trivial_models_non_triv_proj_rep_brick_sol_30_bond_dim_dict.pkl', 'wb') as file:\\n    pickle.dump(optimizer_dict_non_triv_proj_rep, file)\\n\""
      ]
     },
     "execution_count": 42,
     "metadata": {},
     "output_type": "execute_result"
    }
   ],
   "source": [
    "\"\"\"\n",
    "with open(r'solutions/non_trivial_models_non_triv_proj_rep_brick_sol_30_bond_dim_dict.pkl', 'wb') as file:\n",
    "    pickle.dump(optimizer_dict_non_triv_proj_rep, file)\n",
    "\"\"\""
   ]
  },
  {
   "cell_type": "code",
   "execution_count": 43,
   "id": "6c8b1cd6-1041-4b66-b29b-ffb50545ce4c",
   "metadata": {},
   "outputs": [],
   "source": [
    "with open(r'solutions/non_trivial_models_triv_proj_rep_brick_sol_30_bond_dim_dict.pkl', 'rb') as file:\n",
    "    optimizer_dict_triv_proj_rep = pickle.load(file)\n",
    "\n",
    "with open(r'solutions/non_trivial_models_non_triv_proj_rep_brick_sol_30_bond_dim_dict.pkl', 'rb') as file:\n",
    "    optimizer_dict_non_triv_proj_rep = pickle.load(file)"
   ]
  },
  {
   "cell_type": "markdown",
   "id": "3ca04f85-a118-4783-aefe-6938320a265d",
   "metadata": {},
   "source": [
    "## Expectations"
   ]
  },
  {
   "cell_type": "code",
   "execution_count": 44,
   "id": "89d24ea6-7791-4492-a2b3-8d72d53dc4df",
   "metadata": {},
   "outputs": [],
   "source": [
    "interpolation_values = np.round(np.linspace(0, 1, 21), 3)"
   ]
  },
  {
   "cell_type": "code",
   "execution_count": 45,
   "id": "5ad411c2-46ce-47f5-a667-8d595d0d22d3",
   "metadata": {},
   "outputs": [],
   "source": [
    "final_exps_triv_proj_rep = dict()\n",
    "\n",
    "for k, v in optimizer_dict_triv_proj_rep.items():\n",
    "    final_exp = v.flatten_exps()[-1]\n",
    "    final_exps_triv_proj_rep[k] = final_exp"
   ]
  },
  {
   "cell_type": "code",
   "execution_count": 46,
   "id": "46ab9b83-d7e4-4bec-8f58-9b9826696f92",
   "metadata": {},
   "outputs": [
    {
     "data": {
      "text/plain": [
       "<matplotlib.legend.Legend at 0x17ac27a50>"
      ]
     },
     "execution_count": 46,
     "metadata": {},
     "output_type": "execute_result"
    },
    {
     "data": {
      "image/png": "[encoded data removed]",
      "text/plain": [
       "<Figure size 600x400 with 1 Axes>"
      ]
     },
     "metadata": {},
     "output_type": "display_data"
    }
   ],
   "source": [
    "fig, ax = plt.subplots(figsize=(6, 4))\n",
    "\n",
    "for i in range(4):\n",
    "    l = [final_exps_triv_proj_rep[(t, 0, i)] for t in interpolation_values]\n",
    "    ax.plot(interpolation_values, l, label=i)\n",
    "\n",
    "ax.legend()"
   ]
  },
  {
   "cell_type": "code",
   "execution_count": 47,
   "id": "280ae637-e27f-4b49-8b38-7342460cc27c",
   "metadata": {},
   "outputs": [
    {
     "data": {
      "text/plain": [
       "<matplotlib.legend.Legend at 0x340a90d10>"
      ]
     },
     "execution_count": 47,
     "metadata": {},
     "output_type": "execute_result"
    },
    {
     "data": {
      "image/png": "[encoded data removed]",
      "text/plain": [
       "<Figure size 600x400 with 1 Axes>"
      ]
     },
     "metadata": {},
     "output_type": "display_data"
    }
   ],
   "source": [
    "fig, ax = plt.subplots(figsize=(6, 4))\n",
    "\n",
    "for i in range(4):\n",
    "    l = [final_exps_triv_proj_rep[(t, 1, i)] for t in interpolation_values]\n",
    "    ax.plot(interpolation_values, l, label=i)\n",
    "\n",
    "ax.legend()"
   ]
  },
  {
   "cell_type": "markdown",
   "id": "9c65ef60-fc1d-401a-8aad-2f67d75edc67",
   "metadata": {},
   "source": [
    "The (0, 2) and (1,3) symmetries have the same result, as expected as they have the same action on the state!"
   ]
  },
  {
   "cell_type": "code",
   "execution_count": 48,
   "id": "a374d4d3-6432-4e4c-936f-bd9729c0751c",
   "metadata": {},
   "outputs": [],
   "source": [
    "final_exps_non_triv_proj_rep = dict()\n",
    "\n",
    "for k, v in optimizer_dict_non_triv_proj_rep.items():\n",
    "    final_exp = v.flatten_exps()[-1]\n",
    "    final_exps_non_triv_proj_rep[k] = final_exp"
   ]
  },
  {
   "cell_type": "code",
   "execution_count": 49,
   "id": "c4392eaa-9b0b-4cdf-b260-4a6dbb117a9e",
   "metadata": {},
   "outputs": [
    {
     "data": {
      "text/plain": [
       "<matplotlib.legend.Legend at 0x340c49c90>"
      ]
     },
     "execution_count": 49,
     "metadata": {},
     "output_type": "execute_result"
    },
    {
     "data": {
      "image/png": "[encoded data removed]",
      "text/plain": [
       "<Figure size 600x400 with 1 Axes>"
      ]
     },
     "metadata": {},
     "output_type": "display_data"
    }
   ],
   "source": [
    "fig, ax = plt.subplots(figsize=(6, 4))\n",
    "\n",
    "for i in range(4):\n",
    "    l = [final_exps_non_triv_proj_rep[(t, 0, i)] for t in interpolation_values]\n",
    "    ax.plot(interpolation_values, l, label=i)\n",
    "\n",
    "ax.legend()"
   ]
  },
  {
   "cell_type": "code",
   "execution_count": 50,
   "id": "3fd4cff9-f761-44eb-a92e-db7aa0d6830e",
   "metadata": {},
   "outputs": [
    {
     "data": {
      "text/plain": [
       "<matplotlib.legend.Legend at 0x340efcb90>"
      ]
     },
     "execution_count": 50,
     "metadata": {},
     "output_type": "execute_result"
    },
    {
     "data": {
      "image/png": "[encoded data removed]",
      "text/plain": [
       "<Figure size 600x400 with 1 Axes>"
      ]
     },
     "metadata": {},
     "output_type": "display_data"
    }
   ],
   "source": [
    "fig, ax = plt.subplots(figsize=(6, 4))\n",
    "\n",
    "for i in range(4):\n",
    "    l = [final_exps_non_triv_proj_rep[(t, 1, i)] for t in interpolation_values]\n",
    "    ax.plot(interpolation_values, l, label=i)\n",
    "\n",
    "ax.legend()"
   ]
  },
  {
   "cell_type": "markdown",
   "id": "6e3b0e76-6a48-4956-926b-a801790ce4dd",
   "metadata": {},
   "source": [
    "Difference with/without the JW string in this case."
   ]
  },
  {
   "cell_type": "code",
   "execution_count": 51,
   "id": "3d9040b9-4982-4282-9fae-e6eb4fd27873",
   "metadata": {},
   "outputs": [
    {
     "data": {
      "text/plain": [
       "[<matplotlib.lines.Line2D at 0x340fccb10>]"
      ]
     },
     "execution_count": 51,
     "metadata": {},
     "output_type": "execute_result"
    },
    {
     "data": {
      "image/png": "[encoded data removed]",
      "text/plain": [
       "<Figure size 640x480 with 1 Axes>"
      ]
     },
     "metadata": {},
     "output_type": "display_data"
    }
   ],
   "source": [
    "plt.plot(optimizer_dict_triv_proj_rep[(0.55, 1, 1)].flatten_exps())"
   ]
  },
  {
   "cell_type": "code",
   "execution_count": 52,
   "id": "b4ffb016-8a38-4fec-bbcf-0896a0ade82d",
   "metadata": {},
   "outputs": [
    {
     "data": {
      "text/plain": [
       "[<matplotlib.lines.Line2D at 0x3411c4550>]"
      ]
     },
     "execution_count": 52,
     "metadata": {},
     "output_type": "execute_result"
    },
    {
     "data": {
      "image/png": "[encoded data removed]",
      "text/plain": [
       "<Figure size 640x480 with 1 Axes>"
      ]
     },
     "metadata": {},
     "output_type": "display_data"
    }
   ],
   "source": [
    "plt.plot(optimizer_dict_non_triv_proj_rep[(0.55, 1, 1)].flatten_exps())"
   ]
  },
  {
   "cell_type": "markdown",
   "id": "f1c8d3eb-71da-44ed-991f-992267105cd0",
   "metadata": {},
   "source": [
    "## Fermionic cohomology"
   ]
  },
  {
   "cell_type": "code",
   "execution_count": 53,
   "id": "3294853c-f2b3-4426-a1a5-295ca4ae9bcb",
   "metadata": {},
   "outputs": [],
   "source": [
    "def right_fp_charge(optimizer):\n",
    "    opt = optimizer\n",
    "\n",
    "    base_bs = opt.bottom_right_mps_tensors\n",
    "\n",
    "    fp_bs = list()\n",
    "    \n",
    "    for i, b in enumerate(base_bs):\n",
    "        # Need to update this logic\n",
    "        if i%2:\n",
    "            b_to_add = npc.tensordot(b, npc_JW, [['p',], ['p*',]])\n",
    "        else:\n",
    "            b_to_add = b\n",
    "    \n",
    "        fp_bs.append(b_to_add)\n",
    "\n",
    "    fp_o_bs, _ = multiply_stacked_unitaries_against_mps(\n",
    "        opt.right_unitaries,\n",
    "        fp_bs,\n",
    "        opt.original_right_side_left_schmidt_values,\n",
    "        opt.max_virtual_bond_dim\n",
    "    )\n",
    "\n",
    "    out = inner_product_b_tensors(\n",
    "        fp_o_bs,\n",
    "        fp_bs,\n",
    "        left_environment=opt.right_side_left_symmetry_environment\n",
    "    )\n",
    "\n",
    "    return out"
   ]
  },
  {
   "cell_type": "code",
   "execution_count": 54,
   "id": "44549e56-a4a9-4e50-b582-f20e95cc73a3",
   "metadata": {},
   "outputs": [
    {
     "name": "stderr",
     "output_type": "stream",
     "text": [
      "100%|███████████████████████████████████████████████████████████████████████████████████████████████████████████████████████| 168/168 [01:04<00:00,  2.62it/s]\n"
     ]
    }
   ],
   "source": [
    "right_fp_triv_proj_rep_charges = dict()\n",
    "\n",
    "for k, v in tqdm(optimizer_dict_triv_proj_rep.items()):\n",
    "    right_fp_triv_proj_rep_charges[k] = right_fp_charge(v)"
   ]
  },
  {
   "cell_type": "code",
   "execution_count": 55,
   "id": "eafef484-0fb7-497d-9081-b1dc4af27de3",
   "metadata": {},
   "outputs": [
    {
     "name": "stderr",
     "output_type": "stream",
     "text": [
      "100%|███████████████████████████████████████████████████████████████████████████████████████████████████████████████████████| 168/168 [08:58<00:00,  3.20s/it]\n"
     ]
    }
   ],
   "source": [
    "right_fp_non_triv_proj_rep_charges = dict()\n",
    "\n",
    "for k, v in tqdm(optimizer_dict_non_triv_proj_rep.items()):\n",
    "    right_fp_non_triv_proj_rep_charges[k] = right_fp_charge(v)"
   ]
  },
  {
   "cell_type": "code",
   "execution_count": 56,
   "id": "44c45c60-eb93-4e3f-a6ea-bccae7b704bf",
   "metadata": {},
   "outputs": [],
   "source": [
    "right_fp_triv_proj_rep_charges_list = list()\n",
    "\n",
    "for t in interpolation_values:\n",
    "    l0 = [right_fp_triv_proj_rep_charges[(t,0,i)] for i in range(4)]\n",
    "    l1 = [right_fp_triv_proj_rep_charges[(t,1,i)] for i in range(4)]\n",
    "    \n",
    "    right_fp_triv_proj_rep_charges_list.append([l0, l1])\n",
    "\n",
    "right_fp_triv_proj_rep_charges_array = np.array(right_fp_triv_proj_rep_charges_list)"
   ]
  },
  {
   "cell_type": "code",
   "execution_count": 57,
   "id": "95c4ea68-cd84-414f-8c3a-f4d931111926",
   "metadata": {},
   "outputs": [
    {
     "data": {
      "text/plain": [
       "array([[[ 1.  , -1.  ,  1.  , -1.  ],\n",
       "        [ 1.  , -1.  ,  1.  , -1.  ]],\n",
       "\n",
       "       [[ 1.  , -1.  ,  1.  , -1.  ],\n",
       "        [ 1.  , -1.  ,  1.  , -1.  ]],\n",
       "\n",
       "       [[ 1.  , -1.  ,  1.  , -1.  ],\n",
       "        [ 1.  , -1.  ,  1.  , -1.  ]],\n",
       "\n",
       "       [[ 1.  , -1.  ,  1.  , -1.  ],\n",
       "        [ 1.  , -1.  ,  1.  , -1.  ]],\n",
       "\n",
       "       [[ 1.  , -0.99,  1.  , -0.99],\n",
       "        [ 1.  , -0.99,  1.  , -0.99]],\n",
       "\n",
       "       [[ 1.  , -0.99,  1.  , -0.99],\n",
       "        [ 1.  , -0.99,  1.  , -0.99]],\n",
       "\n",
       "       [[ 1.  , -0.97,  1.  , -0.97],\n",
       "        [ 1.  , -0.97,  1.  , -0.97]],\n",
       "\n",
       "       [[ 1.  , -0.95,  1.  , -0.95],\n",
       "        [ 0.99, -0.95,  0.99, -0.95]],\n",
       "\n",
       "       [[ 1.  , -0.89,  1.  , -0.89],\n",
       "        [ 0.98, -0.89,  0.98, -0.89]],\n",
       "\n",
       "       [[ 1.  , -0.7 ,  1.  , -0.7 ],\n",
       "        [ 0.95, -0.69,  0.95, -0.69]],\n",
       "\n",
       "       [[ 1.  ,  0.  ,  1.  ,  0.  ],\n",
       "        [ 0.99,  0.  ,  0.99,  0.  ]],\n",
       "\n",
       "       [[ 1.  ,  0.74,  1.  ,  0.74],\n",
       "        [ 0.97,  0.74,  0.97,  0.74]],\n",
       "\n",
       "       [[ 1.  ,  0.93,  1.  ,  0.93],\n",
       "        [ 1.  ,  0.93,  1.  ,  0.93]],\n",
       "\n",
       "       [[ 1.  ,  0.97,  1.  ,  0.97],\n",
       "        [ 1.  ,  0.97,  1.  ,  0.97]],\n",
       "\n",
       "       [[ 1.  ,  0.99,  1.  ,  0.99],\n",
       "        [ 1.  ,  0.99,  1.  ,  0.99]],\n",
       "\n",
       "       [[ 1.  ,  0.99,  1.  ,  0.99],\n",
       "        [ 1.  ,  0.99,  1.  ,  0.99]],\n",
       "\n",
       "       [[ 1.  ,  1.  ,  1.  ,  1.  ],\n",
       "        [ 1.  ,  1.  ,  1.  ,  1.  ]],\n",
       "\n",
       "       [[ 1.  ,  1.  ,  1.  ,  1.  ],\n",
       "        [ 1.  ,  1.  ,  1.  ,  1.  ]],\n",
       "\n",
       "       [[ 1.  ,  1.  ,  1.  ,  1.  ],\n",
       "        [ 1.  ,  1.  ,  1.  ,  1.  ]],\n",
       "\n",
       "       [[ 1.  ,  1.  ,  1.  ,  1.  ],\n",
       "        [ 1.  ,  1.  ,  1.  ,  1.  ]],\n",
       "\n",
       "       [[ 1.  ,  1.  ,  1.  ,  1.  ],\n",
       "        [ 1.  ,  1.  ,  1.  ,  1.  ]]])"
      ]
     },
     "execution_count": 57,
     "metadata": {},
     "output_type": "execute_result"
    }
   ],
   "source": [
    "np.real(np.round(right_fp_triv_proj_rep_charges_array, 2))"
   ]
  },
  {
   "cell_type": "code",
   "execution_count": 58,
   "id": "ecf58797-4074-4776-841d-4e5e27c64bfd",
   "metadata": {},
   "outputs": [],
   "source": [
    "right_fp_non_triv_proj_rep_charges_list = list()\n",
    "\n",
    "for t in interpolation_values:\n",
    "    l0 = [right_fp_non_triv_proj_rep_charges[(t,0,i)] for i in range(4)]\n",
    "    l1 = [right_fp_non_triv_proj_rep_charges[(t,1,i)] for i in range(4)]\n",
    "    \n",
    "    right_fp_non_triv_proj_rep_charges_list.append([l0, l1])\n",
    "\n",
    "right_fp_non_triv_proj_rep_charges_array = np.array(right_fp_non_triv_proj_rep_charges_list)"
   ]
  },
  {
   "cell_type": "code",
   "execution_count": 59,
   "id": "b4f4b66c-6c1a-46fe-914d-a5c363042b98",
   "metadata": {},
   "outputs": [
    {
     "data": {
      "text/plain": [
       "array([[[ 1.  ,  1.  , -1.  , -1.  ],\n",
       "        [ 1.  ,  1.  , -1.  , -1.  ]],\n",
       "\n",
       "       [[ 1.  ,  1.  , -1.  , -1.  ],\n",
       "        [ 1.  ,  1.  , -1.  , -1.  ]],\n",
       "\n",
       "       [[ 1.  ,  1.  , -1.  , -1.  ],\n",
       "        [ 1.  ,  1.  , -1.  , -1.  ]],\n",
       "\n",
       "       [[ 1.  ,  1.  , -1.  , -1.  ],\n",
       "        [ 1.  ,  1.  , -1.  , -1.  ]],\n",
       "\n",
       "       [[ 1.  ,  0.99, -0.99, -1.  ],\n",
       "        [ 1.  ,  1.  , -0.99, -1.  ]],\n",
       "\n",
       "       [[ 1.  ,  0.99, -0.99, -0.99],\n",
       "        [ 1.  ,  0.99, -0.99, -1.  ]],\n",
       "\n",
       "       [[ 1.  ,  0.98, -0.98, -0.99],\n",
       "        [ 0.99,  0.98, -0.98, -0.99]],\n",
       "\n",
       "       [[ 1.  ,  0.97, -0.96, -0.99],\n",
       "        [ 0.99,  0.93, -0.96, -0.99]],\n",
       "\n",
       "       [[ 1.  ,  0.92, -0.92, -0.98],\n",
       "        [ 0.97,  0.91, -0.94, -0.99]],\n",
       "\n",
       "       [[ 1.  ,  0.79, -0.84, -0.97],\n",
       "        [ 0.95,  0.82, -0.84, -0.95]],\n",
       "\n",
       "       [[ 1.  ,  0.  , -0.  , -0.95],\n",
       "        [ 0.95,  0.  , -0.  , -0.97]],\n",
       "\n",
       "       [[ 1.  , -0.92,  0.92, -0.94],\n",
       "        [ 0.95, -0.91,  0.91, -0.97]],\n",
       "\n",
       "       [[ 1.  , -0.97,  0.97, -0.97],\n",
       "        [ 0.97, -0.96,  0.96, -0.98]],\n",
       "\n",
       "       [[ 1.  , -0.98,  0.99, -0.98],\n",
       "        [ 0.99, -0.98,  0.98, -0.99]],\n",
       "\n",
       "       [[ 1.  , -0.99,  0.99, -0.99],\n",
       "        [ 0.99, -0.99,  0.99, -0.99]],\n",
       "\n",
       "       [[ 1.  , -1.  ,  1.  , -1.  ],\n",
       "        [ 1.  , -0.99,  0.99, -1.  ]],\n",
       "\n",
       "       [[ 1.  , -1.  ,  1.  , -1.  ],\n",
       "        [ 1.  , -1.  ,  1.  , -1.  ]],\n",
       "\n",
       "       [[ 1.  , -1.  ,  1.  , -1.  ],\n",
       "        [ 1.  , -1.  ,  1.  , -1.  ]],\n",
       "\n",
       "       [[ 1.  , -1.  ,  1.  , -1.  ],\n",
       "        [ 1.  , -1.  ,  1.  , -1.  ]],\n",
       "\n",
       "       [[ 1.  , -1.  ,  1.  , -1.  ],\n",
       "        [ 1.  , -1.  ,  1.  , -1.  ]],\n",
       "\n",
       "       [[ 1.  , -1.  ,  1.  , -1.  ],\n",
       "        [ 1.  , -1.  ,  1.  , -1.  ]]])"
      ]
     },
     "execution_count": 59,
     "metadata": {},
     "output_type": "execute_result"
    }
   ],
   "source": [
    "np.real(np.round(right_fp_non_triv_proj_rep_charges_array, 2))"
   ]
  },
  {
   "cell_type": "markdown",
   "id": "696d9c21-65f9-4eef-b6c8-f3cb86a95a4e",
   "metadata": {},
   "source": [
    "Looks good!"
   ]
  },
  {
   "cell_type": "markdown",
   "id": "e0fec070-802f-4a09-bad5-7a565cc67400",
   "metadata": {},
   "source": [
    "## Extract phases"
   ]
  },
  {
   "cell_type": "code",
   "execution_count": 60,
   "id": "7ada020f-cec3-48c7-be6c-0c0f59830abc",
   "metadata": {},
   "outputs": [],
   "source": [
    "right_fp_triv_proj_rep_charges_dict = dict()\n",
    "\n",
    "for i, t in enumerate(interpolation_values):\n",
    "    for j in range(4):\n",
    "        charge = right_fp_triv_proj_rep_charges_array[i, 0, j]\n",
    "        sign_charge = 1 if charge > 0 else -1\n",
    "    \n",
    "        right_fp_triv_proj_rep_charges_dict[(t, j)] = sign_charge"
   ]
  },
  {
   "cell_type": "code",
   "execution_count": 61,
   "id": "e3cba160-5a5e-49c2-a342-9b3bef10b3a2",
   "metadata": {},
   "outputs": [],
   "source": [
    "right_fp_non_triv_proj_rep_charges_dict = dict()\n",
    "\n",
    "for i, t in enumerate(interpolation_values):\n",
    "    for j in range(4):\n",
    "        charge = right_fp_non_triv_proj_rep_charges_array[i, 0, j]\n",
    "        sign_charge = 1 if charge > 0 else -1\n",
    "    \n",
    "        right_fp_non_triv_proj_rep_charges_dict[(t, j)] = sign_charge"
   ]
  },
  {
   "cell_type": "markdown",
   "id": "c2f90cde-04b0-4c86-98c7-2867f18a2dfc",
   "metadata": {},
   "source": [
    "## Left side"
   ]
  },
  {
   "cell_type": "code",
   "execution_count": 62,
   "id": "60d2ea7d-bbf1-4b14-abdc-298553839a2b",
   "metadata": {},
   "outputs": [],
   "source": [
    "def left_fp_charge(optimizer):\n",
    "    opt = optimizer\n",
    "\n",
    "    base_bs = opt.bottom_left_mps_tensors\n",
    "\n",
    "    fp_bs = list()\n",
    "    \n",
    "    for i, b in enumerate(base_bs):\n",
    "        # Need to update this logic\n",
    "        if (i%2 == 0):\n",
    "            b_to_add = npc.tensordot(b, npc_JW, [['p',], ['p*',]])\n",
    "        else:\n",
    "            b_to_add = b\n",
    "    \n",
    "        fp_bs.append(b_to_add)\n",
    "\n",
    "    fp_o_bs, _ = multiply_stacked_unitaries_against_mps(\n",
    "        opt.left_unitaries,\n",
    "        fp_bs,\n",
    "        opt.original_left_side_right_schmidt_values,\n",
    "        opt.max_virtual_bond_dim\n",
    "    )\n",
    "\n",
    "    out = inner_product_b_tensors(\n",
    "        fp_o_bs,\n",
    "        fp_bs,\n",
    "        left_environment=opt.left_side_right_symmetry_environment\n",
    "    )\n",
    "\n",
    "    return out"
   ]
  },
  {
   "cell_type": "code",
   "execution_count": 63,
   "id": "d81ddb6d-6b94-462e-8384-64d77a0d7bc2",
   "metadata": {},
   "outputs": [
    {
     "name": "stderr",
     "output_type": "stream",
     "text": [
      "100%|███████████████████████████████████████████████████████████████████████████████████████████████████████████████████████| 168/168 [30:50<00:00, 11.02s/it]\n"
     ]
    }
   ],
   "source": [
    "left_fp_triv_proj_rep_charges = dict()\n",
    "\n",
    "for k, v in tqdm(optimizer_dict_triv_proj_rep.items()):\n",
    "    left_fp_triv_proj_rep_charges[k] = left_fp_charge(v)"
   ]
  },
  {
   "cell_type": "code",
   "execution_count": 64,
   "id": "e4470248-ce0a-4089-8620-352fe06d947b",
   "metadata": {},
   "outputs": [
    {
     "name": "stderr",
     "output_type": "stream",
     "text": [
      "100%|███████████████████████████████████████████████████████████████████████████████████████████████████████████████████████| 168/168 [49:51<00:00, 17.81s/it]\n"
     ]
    }
   ],
   "source": [
    "left_fp_non_triv_proj_rep_charges = dict()\n",
    "\n",
    "for k, v in tqdm(optimizer_dict_non_triv_proj_rep.items()):\n",
    "    left_fp_non_triv_proj_rep_charges[k] = left_fp_charge(v)"
   ]
  },
  {
   "cell_type": "code",
   "execution_count": 65,
   "id": "9aee878e-47f2-4e4e-90ac-f5a4a0072cfc",
   "metadata": {},
   "outputs": [],
   "source": [
    "left_fp_triv_proj_rep_charges_list = list()\n",
    "\n",
    "for t in interpolation_values:\n",
    "    l0 = [left_fp_triv_proj_rep_charges[(t,0,i)] for i in range(4)]\n",
    "    l1 = [left_fp_triv_proj_rep_charges[(t,1,i)] for i in range(4)]\n",
    "    \n",
    "    left_fp_triv_proj_rep_charges_list.append([l0, l1])\n",
    "\n",
    "left_fp_triv_proj_rep_charges_array = np.array(left_fp_triv_proj_rep_charges_list)"
   ]
  },
  {
   "cell_type": "code",
   "execution_count": 66,
   "id": "8dc54f7d-d219-4659-a216-eedc3e5b68c0",
   "metadata": {},
   "outputs": [],
   "source": [
    "left_fp_non_triv_proj_rep_charges_list = list()\n",
    "\n",
    "for t in interpolation_values:\n",
    "    l0 = [left_fp_non_triv_proj_rep_charges[(t,0,i)] for i in range(4)]\n",
    "    l1 = [left_fp_non_triv_proj_rep_charges[(t,1,i)] for i in range(4)]\n",
    "    \n",
    "    left_fp_non_triv_proj_rep_charges_list.append([l0, l1])\n",
    "\n",
    "left_fp_non_triv_proj_rep_charges_array = np.array(left_fp_non_triv_proj_rep_charges_list)"
   ]
  },
  {
   "cell_type": "code",
   "execution_count": 67,
   "id": "7e7ff6ab-ce4a-43b3-9ac3-501c4df229c4",
   "metadata": {},
   "outputs": [],
   "source": [
    "left_fp_triv_proj_rep_charges_dict = dict()\n",
    "\n",
    "for i, t in enumerate(interpolation_values):\n",
    "    for j in range(4):\n",
    "        charge = left_fp_triv_proj_rep_charges_array[i, 0, j]\n",
    "        sign_charge = 1 if charge > 0 else -1\n",
    "    \n",
    "        left_fp_triv_proj_rep_charges_dict[(t, j)] = sign_charge"
   ]
  },
  {
   "cell_type": "code",
   "execution_count": 68,
   "id": "f4b6b42e-350e-4959-8dae-1731ea61755d",
   "metadata": {},
   "outputs": [],
   "source": [
    "left_fp_non_triv_proj_rep_charges_dict = dict()\n",
    "\n",
    "for i, t in enumerate(interpolation_values):\n",
    "    for j in range(4):\n",
    "        charge = left_fp_non_triv_proj_rep_charges_array[i, 0, j]\n",
    "        sign_charge = 1 if charge > 0 else -1\n",
    "    \n",
    "        left_fp_non_triv_proj_rep_charges_dict[(t, j)] = sign_charge"
   ]
  },
  {
   "cell_type": "code",
   "execution_count": 69,
   "id": "a610d50e-1462-4879-82f2-0b96c040122b",
   "metadata": {},
   "outputs": [
    {
     "data": {
      "text/plain": [
       "(True, True)"
      ]
     },
     "execution_count": 69,
     "metadata": {},
     "output_type": "execute_result"
    }
   ],
   "source": [
    "(\n",
    "    left_fp_triv_proj_rep_charges_dict == right_fp_triv_proj_rep_charges_dict,\n",
    "    left_fp_non_triv_proj_rep_charges_dict == right_fp_non_triv_proj_rep_charges_dict\n",
    ")"
   ]
  },
  {
   "cell_type": "markdown",
   "id": "60a0f11a-a05b-4fe0-985d-994bf6295b34",
   "metadata": {},
   "source": [
    "Great, they agree so we only need one going forward."
   ]
  },
  {
   "cell_type": "markdown",
   "id": "4ba1a571-b982-4ee4-b291-3642f2730f82",
   "metadata": {},
   "source": [
    "Combine into single array."
   ]
  },
  {
   "cell_type": "code",
   "execution_count": 70,
   "id": "0b087a98-40c5-489b-9020-e3b75b6791d0",
   "metadata": {},
   "outputs": [],
   "source": [
    "fp_triv_proj_rep_charges_array = np.stack(\n",
    "    [left_fp_triv_proj_rep_charges_array, right_fp_triv_proj_rep_charges_array],\n",
    "    axis=-1\n",
    ")\n",
    "\n",
    "fp_non_triv_proj_rep_charges_array = np.stack(\n",
    "    [left_fp_non_triv_proj_rep_charges_array, right_fp_non_triv_proj_rep_charges_array],\n",
    "    axis=-1\n",
    ")\n",
    "\n",
    "fp_charges_array = np.stack(\n",
    "    [fp_triv_proj_rep_charges_array, fp_non_triv_proj_rep_charges_array],\n",
    "    axis=0\n",
    ")"
   ]
  },
  {
   "cell_type": "code",
   "execution_count": 71,
   "id": "f3dfa6b5-6d27-4de3-8ee9-9c6e84d5b76d",
   "metadata": {},
   "outputs": [
    {
     "data": {
      "text/plain": [
       "(2, 21, 2, 4, 2)"
      ]
     },
     "execution_count": 71,
     "metadata": {},
     "output_type": "execute_result"
    }
   ],
   "source": [
    "fp_charges_array.shape"
   ]
  },
  {
   "cell_type": "code",
   "execution_count": 72,
   "id": "bf544779-089a-4ff6-90f5-8449d9dbe7e7",
   "metadata": {},
   "outputs": [
    {
     "data": {
      "text/plain": [
       "array([[[[ 1.00000000e+00+0.00000000e+00j,\n",
       "           1.00000000e+00+0.00000000e+00j],\n",
       "         [ 1.09182301e-05+0.00000000e+00j,\n",
       "           1.09182301e-05+0.00000000e+00j],\n",
       "         [ 1.00000000e+00+0.00000000e+00j,\n",
       "           1.00000000e+00+0.00000000e+00j],\n",
       "         [ 1.09182301e-05+0.00000000e+00j,\n",
       "           1.09182301e-05+0.00000000e+00j]],\n",
       "\n",
       "        [[ 9.87906956e-01+0.00000000e+00j,\n",
       "           9.87906956e-01+0.00000000e+00j],\n",
       "         [ 1.09160011e-05+0.00000000e+00j,\n",
       "           1.09160011e-05+0.00000000e+00j],\n",
       "         [ 9.87906903e-01+0.00000000e+00j,\n",
       "           9.87906903e-01+0.00000000e+00j],\n",
       "         [ 1.09160011e-05+0.00000000e+00j,\n",
       "           1.09160011e-05+0.00000000e+00j]]],\n",
       "\n",
       "\n",
       "       [[[ 1.00000000e+00-7.05717419e-16j,\n",
       "           1.00000000e+00-3.48656933e-16j],\n",
       "         [ 1.30492257e-04-2.25330650e-11j,\n",
       "           1.30492257e-04-2.25330648e-11j],\n",
       "         [-1.26964600e-04+3.46639543e-11j,\n",
       "          -1.26964600e-04+3.46639544e-11j],\n",
       "         [-9.49294839e-01-6.45049017e-10j,\n",
       "          -9.49294839e-01-6.45046440e-10j]],\n",
       "\n",
       "        [[ 9.52547781e-01+3.61910535e-10j,\n",
       "           9.52547781e-01+3.61909867e-10j],\n",
       "         [ 1.24969880e-04+8.25010757e-11j,\n",
       "           1.24969880e-04+8.25010757e-11j],\n",
       "         [-1.25844970e-04+5.08890813e-12j,\n",
       "          -1.25844970e-04+5.08890847e-12j],\n",
       "         [-9.71388515e-01+3.51566424e-10j,\n",
       "          -9.71388515e-01+3.51564808e-10j]]]])"
      ]
     },
     "execution_count": 72,
     "metadata": {},
     "output_type": "execute_result"
    }
   ],
   "source": [
    "fp_charges_array[:, 10, ...]"
   ]
  },
  {
   "cell_type": "code",
   "execution_count": 73,
   "id": "1db2714c-05ff-4526-a475-bedfd12e742c",
   "metadata": {},
   "outputs": [],
   "source": [
    "fp_charges_array = np.delete(fp_charges_array, 10, axis=1)"
   ]
  },
  {
   "cell_type": "code",
   "execution_count": 74,
   "id": "dba911b0-990d-4e6d-995c-99eec852e941",
   "metadata": {},
   "outputs": [
    {
     "data": {
      "text/plain": [
       "(2, 20, 2, 4, 2)"
      ]
     },
     "execution_count": 74,
     "metadata": {},
     "output_type": "execute_result"
    }
   ],
   "source": [
    "fp_charges_array.shape"
   ]
  },
  {
   "cell_type": "code",
   "execution_count": 75,
   "id": "99a5ca7d-ec0a-4739-95a1-af6e4636813d",
   "metadata": {},
   "outputs": [
    {
     "data": {
      "text/plain": [
       "8.372702234514765e-15"
      ]
     },
     "execution_count": 75,
     "metadata": {},
     "output_type": "execute_result"
    }
   ],
   "source": [
    "np.max(np.abs(fp_charges_array[..., 0] - fp_charges_array[..., 1]))"
   ]
  },
  {
   "cell_type": "code",
   "execution_count": 76,
   "id": "c6b536ad-196b-42af-9c8d-6bde1899afac",
   "metadata": {},
   "outputs": [],
   "source": [
    "fp_charges_array = fp_charges_array[..., 0]"
   ]
  },
  {
   "cell_type": "code",
   "execution_count": 77,
   "id": "cc71192d-3034-4f3b-9def-d741f5ff3ea8",
   "metadata": {},
   "outputs": [
    {
     "data": {
      "text/plain": [
       "0.05498764233237323"
      ]
     },
     "execution_count": 77,
     "metadata": {},
     "output_type": "execute_result"
    }
   ],
   "source": [
    "np.max(np.abs(fp_charges_array[..., 0, :] - fp_charges_array[..., 1, :]))"
   ]
  },
  {
   "cell_type": "code",
   "execution_count": 78,
   "id": "159c4475-7edd-434c-a6cc-ece186ab8d1b",
   "metadata": {},
   "outputs": [
    {
     "data": {
      "text/plain": [
       "1.0706960997367053e-06"
      ]
     },
     "execution_count": 78,
     "metadata": {},
     "output_type": "execute_result"
    }
   ],
   "source": [
    "np.max(np.abs(np.imag(fp_charges_array)))"
   ]
  },
  {
   "cell_type": "code",
   "execution_count": 79,
   "id": "44bbe129-baaf-4d37-8d43-0810a5ca3461",
   "metadata": {},
   "outputs": [],
   "source": [
    "fp_charges_array = np.real(fp_charges_array)"
   ]
  },
  {
   "cell_type": "code",
   "execution_count": 80,
   "id": "a9c9fe57-1c79-43d4-a0cb-af9f56719b27",
   "metadata": {},
   "outputs": [
    {
     "data": {
      "text/plain": [
       "0.6871050496090014"
      ]
     },
     "execution_count": 80,
     "metadata": {},
     "output_type": "execute_result"
    }
   ],
   "source": [
    "np.min(np.abs(fp_charges_array))"
   ]
  },
  {
   "cell_type": "code",
   "execution_count": 81,
   "id": "4d07db3a-89f8-469f-a4c7-9a1f84ea2cf1",
   "metadata": {},
   "outputs": [
    {
     "data": {
      "text/plain": [
       "(2, 20, 2, 4)"
      ]
     },
     "execution_count": 81,
     "metadata": {},
     "output_type": "execute_result"
    }
   ],
   "source": [
    "fp_charges_array.shape"
   ]
  },
  {
   "cell_type": "code",
   "execution_count": 82,
   "id": "da59ad18-d7cb-406f-9638-16d7d4eef263",
   "metadata": {},
   "outputs": [],
   "source": [
    "sub_fp_charges_array = fp_charges_array[..., 0, 1:]"
   ]
  },
  {
   "cell_type": "code",
   "execution_count": 83,
   "id": "e6204117-131d-4cf5-ba2d-5ba4f9b2706f",
   "metadata": {},
   "outputs": [
    {
     "data": {
      "text/plain": [
       "(2, 20, 3)"
      ]
     },
     "execution_count": 83,
     "metadata": {},
     "output_type": "execute_result"
    }
   ],
   "source": [
    "sub_fp_charges_array.shape"
   ]
  },
  {
   "cell_type": "code",
   "execution_count": 84,
   "id": "920a8927-3618-4659-a24c-693983558a8c",
   "metadata": {},
   "outputs": [],
   "source": [
    "sub_fp_charges_array[0, :10, 0] *= -1\n",
    "sub_fp_charges_array[0, :10, 2] *= -1"
   ]
  },
  {
   "cell_type": "code",
   "execution_count": 85,
   "id": "f16571c1-d2e0-4799-9a16-647198af1dd9",
   "metadata": {},
   "outputs": [],
   "source": [
    "sub_fp_charges_array[1, 10:, 0] *= -1\n",
    "sub_fp_charges_array[1, 10:, 2] *= -1"
   ]
  },
  {
   "cell_type": "code",
   "execution_count": 86,
   "id": "40d5fd95-8230-4c32-aea3-bdde2f06a86c",
   "metadata": {},
   "outputs": [],
   "source": [
    "sub_fp_charges_array[1, :10, 1] *= -1\n",
    "sub_fp_charges_array[1, :10, 2] *= -1"
   ]
  },
  {
   "cell_type": "code",
   "execution_count": 87,
   "id": "37de7087-9e24-485d-8891-134bcfeb4ee1",
   "metadata": {},
   "outputs": [
    {
     "data": {
      "text/plain": [
       "True"
      ]
     },
     "execution_count": 87,
     "metadata": {},
     "output_type": "execute_result"
    }
   ],
   "source": [
    "np.all(sub_fp_charges_array > 0)"
   ]
  },
  {
   "cell_type": "code",
   "execution_count": 88,
   "id": "961627ff-54d6-4a74-bd39-c2c7b259d64a",
   "metadata": {},
   "outputs": [],
   "source": [
    "colors = [\n",
    "    'tab:blue',\n",
    "    'tab:orange',\n",
    "    'tab:green'\n",
    "]   "
   ]
  },
  {
   "cell_type": "code",
   "execution_count": 89,
   "id": "4aa53860-fb4a-473f-86cc-deefd437fd9c",
   "metadata": {},
   "outputs": [],
   "source": [
    "interpolation_values = np.delete(interpolation_values, 10)"
   ]
  },
  {
   "cell_type": "code",
   "execution_count": 90,
   "id": "1fd29bf1-ce0a-405a-ae94-7dc1d42c4d67",
   "metadata": {},
   "outputs": [
    {
     "data": {
      "image/png": "[encoded data removed]",
      "text/plain": [
       "<Figure size 1200x400 with 2 Axes>"
      ]
     },
     "metadata": {},
     "output_type": "display_data"
    }
   ],
   "source": [
    "fig, [ax1, ax2] = plt.subplots(figsize=(12,4), ncols=2)\n",
    "\n",
    "for k, ax in enumerate([ax1, ax2]):\n",
    "    for j, (col, label) in enumerate(zip(colors, symmetry_labels[1:])):\n",
    "        ax.scatter(\n",
    "            1-interpolation_values, # I ordered this wrong at definition\n",
    "            sub_fp_charges_array[k, :, j],\n",
    "            color=col,\n",
    "            label=label\n",
    "        )\n",
    "\n",
    "    ax.set_ylim(0.69, 1.01)\n",
    "    ax.xaxis.set_major_locator(MultipleLocator(0.1))\n",
    "    \n",
    "    #ax.set_yscale('log')\n",
    "    \n",
    "    ax.grid()\n",
    "    ax.grid(\n",
    "        which='minor',\n",
    "        axis='y',\n",
    "        linestyle='--',\n",
    "        zorder=-1e10\n",
    "    )\n",
    "    ax.set_axisbelow(True)\n",
    "\n",
    "    if k == 0:\n",
    "        ax.set_ylabel(r'$\\Delta\\eta$', fontsize=13)\n",
    "    ax.set_xlabel('$t$', fontsize=13)\n",
    "\n",
    "    if k == 0:\n",
    "        ax.legend(loc='lower right', title='Applied symmetry')\n",
    "\n",
    "    ax.title.set_text(rf'$H_{{f,{k+1}}}(t)$')\n",
    "\n",
    "fig.suptitle(r'Fermionic decoration parameter $\\Delta\\eta$ as a function of $t$')\n",
    "\n",
    "fig.savefig(r'plots/fermion_decoration_parameter_unitary_circuit.png', dpi=200)"
   ]
  },
  {
   "cell_type": "markdown",
   "id": "4cd0b672-56e5-4d1c-9161-ba5fa4e17ae7",
   "metadata": {},
   "source": [
    "# Calculate proj reps"
   ]
  },
  {
   "cell_type": "markdown",
   "id": "5229edb6-7ad8-4c83-b47e-3d90a035a191",
   "metadata": {},
   "source": [
    "## Right side"
   ]
  },
  {
   "cell_type": "code",
   "execution_count": 91,
   "id": "ad73bb12-985d-4669-8161-a0c782ad7d52",
   "metadata": {},
   "outputs": [],
   "source": [
    "right_triv_proj_rep_phases = list()\n",
    "\n",
    "for t in interpolation_values:\n",
    "    optimizers = list()\n",
    "    for j in range(4):\n",
    "        jw_phase = right_fp_triv_proj_rep_charges_dict[(t, j)]\n",
    "        jw = 1 if jw_phase < 0 else 0\n",
    "\n",
    "        opt = optimizer_dict_triv_proj_rep[(t, jw, j)]\n",
    "\n",
    "        optimizers.append(opt)\n",
    "\n",
    "    phases = get_right_proj_rep_phases_from_optimizers(optimizers)\n",
    "\n",
    "    right_triv_proj_rep_phases.append(phases)\n",
    "\n",
    "right_triv_proj_rep_phases = np.array(right_triv_proj_rep_phases)"
   ]
  },
  {
   "cell_type": "code",
   "execution_count": 92,
   "id": "a9b80ab4-ac85-4eb7-ab11-3f46e4fce49d",
   "metadata": {},
   "outputs": [
    {
     "data": {
      "text/plain": [
       "(20, 6)"
      ]
     },
     "execution_count": 92,
     "metadata": {},
     "output_type": "execute_result"
    }
   ],
   "source": [
    "right_triv_proj_rep_phases.shape"
   ]
  },
  {
   "cell_type": "code",
   "execution_count": 93,
   "id": "218e6e4f-4771-415e-8e0c-e87e013d3583",
   "metadata": {},
   "outputs": [
    {
     "data": {
      "text/plain": [
       "array([[ 1.+0.j,  1.+0.j, -1.+0.j, -1.+0.j,  1.+0.j,  1.+0.j],\n",
       "       [ 1.+0.j,  1.+0.j, -1.+0.j, -1.+0.j,  1.+0.j,  1.+0.j],\n",
       "       [ 1.+0.j,  1.+0.j, -1.+0.j, -1.+0.j,  1.+0.j,  1.+0.j],\n",
       "       [ 1.+0.j,  1.+0.j, -1.+0.j, -1.+0.j,  1.+0.j,  1.+0.j],\n",
       "       [ 1.+0.j,  1.+0.j, -1.+0.j, -1.+0.j,  1.+0.j,  1.+0.j],\n",
       "       [-1.+0.j, -1.+0.j,  1.+0.j,  1.+0.j, -1.+0.j, -1.+0.j],\n",
       "       [ 1.+0.j,  1.+0.j, -1.+0.j, -1.+0.j,  1.+0.j,  1.+0.j],\n",
       "       [ 1.+0.j,  1.+0.j, -1.+0.j, -1.+0.j,  1.+0.j,  1.+0.j],\n",
       "       [-1.+0.j, -1.+0.j,  1.+0.j,  1.+0.j, -1.+0.j, -1.+0.j],\n",
       "       [ 1.+0.j,  1.+0.j, -1.+0.j, -1.+0.j,  1.+0.j,  1.+0.j],\n",
       "       [ 1.+0.j,  1.+0.j,  1.+0.j,  1.+0.j,  1.+0.j,  1.+0.j],\n",
       "       [ 1.+0.j,  1.+0.j,  1.+0.j,  1.+0.j,  1.+0.j,  1.+0.j],\n",
       "       [ 1.+0.j,  1.+0.j,  1.+0.j,  1.+0.j,  1.+0.j,  1.+0.j],\n",
       "       [ 1.+0.j,  1.+0.j,  1.+0.j,  1.+0.j,  1.+0.j,  1.+0.j],\n",
       "       [ 1.+0.j,  1.+0.j,  1.+0.j,  1.+0.j,  1.+0.j,  1.+0.j],\n",
       "       [ 1.+0.j,  1.+0.j,  1.+0.j,  1.+0.j,  1.+0.j,  1.+0.j],\n",
       "       [ 1.+0.j,  1.+0.j,  1.+0.j,  1.+0.j,  1.+0.j,  1.+0.j],\n",
       "       [ 1.+0.j,  1.+0.j,  1.+0.j,  1.+0.j,  1.+0.j,  1.+0.j],\n",
       "       [ 1.+0.j,  1.+0.j,  1.+0.j,  1.+0.j,  1.+0.j,  1.+0.j],\n",
       "       [ 1.+0.j,  1.+0.j,  1.+0.j,  1.+0.j,  1.+0.j,  1.+0.j]])"
      ]
     },
     "execution_count": 93,
     "metadata": {},
     "output_type": "execute_result"
    }
   ],
   "source": [
    "right_triv_proj_rep_phases"
   ]
  },
  {
   "cell_type": "code",
   "execution_count": 94,
   "id": "00eebb42-5507-413c-b57a-3f6117932bc5",
   "metadata": {},
   "outputs": [
    {
     "data": {
      "text/plain": [
       "array([[1.+0.j, 1.-0.j, 1.+0.j],\n",
       "       [1.+0.j, 1.-0.j, 1.+0.j],\n",
       "       [1.+0.j, 1.-0.j, 1.+0.j],\n",
       "       [1.+0.j, 1.-0.j, 1.+0.j],\n",
       "       [1.+0.j, 1.-0.j, 1.+0.j],\n",
       "       [1.-0.j, 1.+0.j, 1.-0.j],\n",
       "       [1.+0.j, 1.-0.j, 1.+0.j],\n",
       "       [1.+0.j, 1.-0.j, 1.+0.j],\n",
       "       [1.-0.j, 1.+0.j, 1.-0.j],\n",
       "       [1.+0.j, 1.-0.j, 1.+0.j],\n",
       "       [1.+0.j, 1.+0.j, 1.+0.j],\n",
       "       [1.+0.j, 1.+0.j, 1.+0.j],\n",
       "       [1.+0.j, 1.+0.j, 1.+0.j],\n",
       "       [1.+0.j, 1.+0.j, 1.+0.j],\n",
       "       [1.+0.j, 1.+0.j, 1.+0.j],\n",
       "       [1.+0.j, 1.+0.j, 1.+0.j],\n",
       "       [1.+0.j, 1.+0.j, 1.+0.j],\n",
       "       [1.+0.j, 1.+0.j, 1.+0.j],\n",
       "       [1.+0.j, 1.+0.j, 1.+0.j],\n",
       "       [1.+0.j, 1.+0.j, 1.+0.j]])"
      ]
     },
     "execution_count": 94,
     "metadata": {},
     "output_type": "execute_result"
    }
   ],
   "source": [
    "right_triv_proj_rep_phases[:, ::2]/right_triv_proj_rep_phases[:, 1::2]"
   ]
  },
  {
   "cell_type": "code",
   "execution_count": 95,
   "id": "a929ceee-239a-436a-93ba-24dffce162ca",
   "metadata": {},
   "outputs": [],
   "source": [
    "right_non_triv_proj_rep_phases = list()\n",
    "\n",
    "for t in interpolation_values:\n",
    "    optimizers = list()\n",
    "    for j in range(4):\n",
    "        jw_phase = right_fp_non_triv_proj_rep_charges_dict[(t, j)]\n",
    "        jw = 1 if jw_phase < 0 else 0\n",
    "\n",
    "        opt = optimizer_dict_non_triv_proj_rep[(t, jw, j)]\n",
    "\n",
    "        optimizers.append(opt)\n",
    "\n",
    "    phases = get_right_proj_rep_phases_from_optimizers(optimizers)\n",
    "\n",
    "    right_non_triv_proj_rep_phases.append(phases)\n",
    "\n",
    "right_non_triv_proj_rep_phases = np.array(right_non_triv_proj_rep_phases)"
   ]
  },
  {
   "cell_type": "code",
   "execution_count": 96,
   "id": "15fcb52b-811e-4570-aaad-0b866b7e65db",
   "metadata": {},
   "outputs": [
    {
     "data": {
      "text/plain": [
       "(20, 6)"
      ]
     },
     "execution_count": 96,
     "metadata": {},
     "output_type": "execute_result"
    }
   ],
   "source": [
    "right_non_triv_proj_rep_phases.shape"
   ]
  },
  {
   "cell_type": "code",
   "execution_count": 97,
   "id": "bd972c5d-7d45-458b-b249-85a881e1c1bc",
   "metadata": {},
   "outputs": [
    {
     "data": {
      "text/plain": [
       "array([[ 0.02+1.j  , -0.02-1.j  , -0.02-1.j  ,  0.02+1.j  ,  0.02-1.j  ,\n",
       "        -0.02+1.j  ],\n",
       "       [ 0.  -1.j  , -0.  +1.j  ,  0.  +1.j  , -0.  -1.j  , -0.  +1.j  ,\n",
       "         0.  -1.j  ],\n",
       "       [-0.01+1.j  ,  0.01-1.j  ,  0.  -1.j  , -0.  +1.j  , -0.  -1.j  ,\n",
       "         0.  +1.j  ],\n",
       "       [ 0.  -1.j  , -0.  +1.j  , -0.  +1.j  ,  0.  -1.j  , -0.  +1.j  ,\n",
       "         0.  -1.j  ],\n",
       "       [ 0.  -1.j  , -0.  +1.j  ,  0.  +1.j  , -0.  -1.j  ,  0.  +1.j  ,\n",
       "        -0.  -1.j  ],\n",
       "       [ 0.01-1.j  , -0.01+1.j  ,  0.  +1.j  , -0.  -1.j  , -0.  +1.j  ,\n",
       "         0.  -1.j  ],\n",
       "       [ 0.  -1.j  , -0.  +1.j  ,  0.  +1.j  , -0.  -1.j  , -0.  +1.j  ,\n",
       "         0.  -1.j  ],\n",
       "       [ 0.  +1.j  , -0.  -1.j  , -0.  -1.j  ,  0.  +1.j  ,  0.  -1.j  ,\n",
       "        -0.  +1.j  ],\n",
       "       [ 0.01-1.j  , -0.01+1.j  ,  0.01+1.j  , -0.01-1.j  , -0.01+1.j  ,\n",
       "         0.01-1.j  ],\n",
       "       [-0.  -1.j  ,  0.  +1.j  , -0.  +1.j  ,  0.  -1.j  , -0.  +1.j  ,\n",
       "         0.  -1.j  ],\n",
       "       [ 1.  -0.j  ,  1.  -0.j  ,  1.  -0.j  ,  1.  -0.j  ,  1.  +0.j  ,\n",
       "         1.  +0.j  ],\n",
       "       [ 1.  -0.j  ,  1.  -0.j  ,  1.  +0.j  ,  1.  +0.j  ,  1.  +0.j  ,\n",
       "         1.  +0.j  ],\n",
       "       [ 1.  -0.j  ,  1.  -0.j  ,  1.  +0.j  ,  1.  +0.j  ,  1.  -0.j  ,\n",
       "         1.  -0.j  ],\n",
       "       [ 1.  -0.j  ,  1.  -0.j  ,  1.  -0.j  ,  1.  -0.j  ,  1.  -0.j  ,\n",
       "         1.  -0.j  ],\n",
       "       [ 1.  -0.j  ,  1.  -0.j  ,  1.  -0.j  ,  1.  -0.j  ,  1.  +0.j  ,\n",
       "         1.  +0.j  ],\n",
       "       [ 1.  +0.j  ,  1.  +0.j  ,  1.  -0.j  ,  1.  -0.j  ,  1.  -0.j  ,\n",
       "         1.  -0.j  ],\n",
       "       [ 1.  -0.j  ,  1.  -0.j  ,  1.  -0.j  ,  1.  -0.j  ,  1.  +0.j  ,\n",
       "         1.  +0.j  ],\n",
       "       [ 1.  -0.j  ,  1.  -0.j  ,  1.  +0.j  ,  1.  +0.j  ,  1.  +0.j  ,\n",
       "         1.  +0.j  ],\n",
       "       [ 1.  -0.01j,  1.  -0.01j,  0.99+0.12j,  0.99+0.12j,  1.  +0.01j,\n",
       "         1.  +0.01j],\n",
       "       [ 1.  +0.j  ,  1.  +0.j  , -1.  +0.j  , -1.  +0.j  ,  1.  +0.j  ,\n",
       "         1.  +0.j  ]])"
      ]
     },
     "execution_count": 97,
     "metadata": {},
     "output_type": "execute_result"
    }
   ],
   "source": [
    "np.round(right_non_triv_proj_rep_phases, 2)"
   ]
  },
  {
   "cell_type": "markdown",
   "id": "a2866204-7623-43b2-8b17-b6bada0b26aa",
   "metadata": {},
   "source": [
    "Why are these phases so clean..."
   ]
  },
  {
   "cell_type": "code",
   "execution_count": 98,
   "id": "c3f7c256-fd11-4ad8-9f72-ddd507d6f363",
   "metadata": {},
   "outputs": [
    {
     "data": {
      "text/plain": [
       "array([[-1.+0.j, -1.-0.j, -1.-0.j],\n",
       "       [-1.-0.j, -1.-0.j, -1.-0.j],\n",
       "       [-1.+0.j, -1.-0.j, -1.-0.j],\n",
       "       [-1.-0.j, -1.+0.j, -1.-0.j],\n",
       "       [-1.+0.j, -1.+0.j, -1.+0.j],\n",
       "       [-1.+0.j, -1.-0.j, -1.-0.j],\n",
       "       [-1.-0.j, -1.-0.j, -1.+0.j],\n",
       "       [-1.-0.j, -1.+0.j, -1.-0.j],\n",
       "       [-1.-0.j, -1.+0.j, -1.+0.j],\n",
       "       [-1.+0.j, -1.-0.j, -1.-0.j],\n",
       "       [ 1.+0.j,  1.-0.j,  1.-0.j],\n",
       "       [ 1.+0.j,  1.-0.j,  1.-0.j],\n",
       "       [ 1.-0.j,  1.-0.j,  1.-0.j],\n",
       "       [ 1.-0.j,  1.-0.j,  1.-0.j],\n",
       "       [ 1.-0.j,  1.+0.j,  1.-0.j],\n",
       "       [ 1.+0.j,  1.-0.j,  1.-0.j],\n",
       "       [ 1.+0.j,  1.+0.j,  1.-0.j],\n",
       "       [ 1.+0.j,  1.+0.j,  1.-0.j],\n",
       "       [ 1.+0.j,  1.+0.j,  1.+0.j],\n",
       "       [ 1.+0.j,  1.-0.j,  1.+0.j]])"
      ]
     },
     "execution_count": 98,
     "metadata": {},
     "output_type": "execute_result"
    }
   ],
   "source": [
    "np.round(\n",
    "    right_non_triv_proj_rep_phases[:, ::2]/right_non_triv_proj_rep_phases[:, 1::2],\n",
    "    2\n",
    ")"
   ]
  },
  {
   "cell_type": "markdown",
   "id": "a8ea8e18-d2a0-43e8-ae01-ecf23d192d1c",
   "metadata": {},
   "source": [
    "Looks good!"
   ]
  },
  {
   "cell_type": "markdown",
   "id": "31ac5ef6-e8e6-4841-ba26-0084c5539425",
   "metadata": {},
   "source": [
    "## Left side"
   ]
  },
  {
   "cell_type": "code",
   "execution_count": 99,
   "id": "e29df1df-f229-4d93-b844-f5bc03a858e1",
   "metadata": {},
   "outputs": [],
   "source": [
    "left_triv_proj_rep_phases = list()\n",
    "\n",
    "for t in interpolation_values:\n",
    "    optimizers = list()\n",
    "    for j in range(4):\n",
    "        jw_phase = left_fp_triv_proj_rep_charges_dict[(t, j)]\n",
    "        jw = 1 if jw_phase < 0 else 0\n",
    "\n",
    "        opt = optimizer_dict_triv_proj_rep[(t, jw, j)]\n",
    "\n",
    "        optimizers.append(opt)\n",
    "\n",
    "    phases = get_left_proj_rep_phases_from_optimizers(optimizers)\n",
    "\n",
    "    left_triv_proj_rep_phases.append(phases)\n",
    "\n",
    "left_triv_proj_rep_phases = np.array(left_triv_proj_rep_phases)"
   ]
  },
  {
   "cell_type": "code",
   "execution_count": 100,
   "id": "78fb6b0f-03a4-4a5f-b626-d82e5483a5f6",
   "metadata": {},
   "outputs": [
    {
     "data": {
      "text/plain": [
       "(20, 6)"
      ]
     },
     "execution_count": 100,
     "metadata": {},
     "output_type": "execute_result"
    }
   ],
   "source": [
    "left_triv_proj_rep_phases.shape"
   ]
  },
  {
   "cell_type": "code",
   "execution_count": 101,
   "id": "70b52ac4-f41d-4ae2-b8e0-aa140688f343",
   "metadata": {},
   "outputs": [
    {
     "data": {
      "text/plain": [
       "array([[ 1.+0.j,  1.+0.j, -1.+0.j, -1.+0.j,  1.+0.j,  1.+0.j],\n",
       "       [ 1.+0.j,  1.+0.j, -1.+0.j, -1.+0.j,  1.+0.j,  1.+0.j],\n",
       "       [ 1.+0.j,  1.+0.j, -1.+0.j, -1.+0.j,  1.+0.j,  1.+0.j],\n",
       "       [ 1.+0.j,  1.+0.j, -1.+0.j, -1.+0.j,  1.+0.j,  1.+0.j],\n",
       "       [ 1.+0.j,  1.+0.j, -1.+0.j, -1.+0.j,  1.+0.j,  1.+0.j],\n",
       "       [-1.+0.j, -1.+0.j,  1.+0.j,  1.+0.j, -1.+0.j, -1.+0.j],\n",
       "       [ 1.+0.j,  1.+0.j, -1.+0.j, -1.+0.j,  1.+0.j,  1.+0.j],\n",
       "       [ 1.+0.j,  1.+0.j, -1.+0.j, -1.+0.j,  1.+0.j,  1.+0.j],\n",
       "       [-1.+0.j, -1.+0.j,  1.+0.j,  1.+0.j, -1.+0.j, -1.+0.j],\n",
       "       [ 1.+0.j,  1.+0.j, -1.+0.j, -1.+0.j,  1.+0.j,  1.+0.j],\n",
       "       [ 1.+0.j,  1.+0.j,  1.+0.j,  1.+0.j,  1.+0.j,  1.+0.j],\n",
       "       [ 1.+0.j,  1.+0.j,  1.+0.j,  1.+0.j,  1.+0.j,  1.+0.j],\n",
       "       [ 1.+0.j,  1.+0.j,  1.+0.j,  1.+0.j,  1.+0.j,  1.+0.j],\n",
       "       [ 1.+0.j,  1.+0.j,  1.+0.j,  1.+0.j,  1.+0.j,  1.+0.j],\n",
       "       [ 1.+0.j,  1.+0.j,  1.+0.j,  1.+0.j,  1.+0.j,  1.+0.j],\n",
       "       [ 1.+0.j,  1.+0.j,  1.+0.j,  1.+0.j,  1.+0.j,  1.+0.j],\n",
       "       [ 1.+0.j,  1.+0.j,  1.+0.j,  1.+0.j,  1.+0.j,  1.+0.j],\n",
       "       [ 1.+0.j,  1.+0.j,  1.+0.j,  1.+0.j,  1.+0.j,  1.+0.j],\n",
       "       [ 1.+0.j,  1.+0.j,  1.+0.j,  1.+0.j,  1.+0.j,  1.+0.j],\n",
       "       [ 1.+0.j,  1.+0.j,  1.+0.j,  1.+0.j,  1.+0.j,  1.+0.j]])"
      ]
     },
     "execution_count": 101,
     "metadata": {},
     "output_type": "execute_result"
    }
   ],
   "source": [
    "left_triv_proj_rep_phases"
   ]
  },
  {
   "cell_type": "code",
   "execution_count": 102,
   "id": "beb370cb-98c7-4da2-9fd1-4b7167433172",
   "metadata": {},
   "outputs": [
    {
     "data": {
      "text/plain": [
       "array([[1.+0.j, 1.-0.j, 1.+0.j],\n",
       "       [1.+0.j, 1.-0.j, 1.+0.j],\n",
       "       [1.+0.j, 1.-0.j, 1.+0.j],\n",
       "       [1.+0.j, 1.-0.j, 1.+0.j],\n",
       "       [1.+0.j, 1.-0.j, 1.+0.j],\n",
       "       [1.-0.j, 1.+0.j, 1.-0.j],\n",
       "       [1.+0.j, 1.-0.j, 1.+0.j],\n",
       "       [1.+0.j, 1.-0.j, 1.+0.j],\n",
       "       [1.-0.j, 1.+0.j, 1.-0.j],\n",
       "       [1.+0.j, 1.-0.j, 1.+0.j],\n",
       "       [1.+0.j, 1.+0.j, 1.+0.j],\n",
       "       [1.+0.j, 1.+0.j, 1.+0.j],\n",
       "       [1.+0.j, 1.+0.j, 1.+0.j],\n",
       "       [1.+0.j, 1.+0.j, 1.+0.j],\n",
       "       [1.+0.j, 1.+0.j, 1.+0.j],\n",
       "       [1.+0.j, 1.+0.j, 1.+0.j],\n",
       "       [1.+0.j, 1.+0.j, 1.+0.j],\n",
       "       [1.+0.j, 1.+0.j, 1.+0.j],\n",
       "       [1.+0.j, 1.+0.j, 1.+0.j],\n",
       "       [1.+0.j, 1.+0.j, 1.+0.j]])"
      ]
     },
     "execution_count": 102,
     "metadata": {},
     "output_type": "execute_result"
    }
   ],
   "source": [
    "left_triv_proj_rep_phases[:, ::2]/left_triv_proj_rep_phases[:, 1::2]"
   ]
  },
  {
   "cell_type": "code",
   "execution_count": 103,
   "id": "da4180c0-d8b7-4364-a307-b31678cf3c5e",
   "metadata": {},
   "outputs": [],
   "source": [
    "left_non_triv_proj_rep_phases = list()\n",
    "\n",
    "for t in interpolation_values:\n",
    "    optimizers = list()\n",
    "    for j in range(4):\n",
    "        jw_phase = left_fp_non_triv_proj_rep_charges_dict[(t, j)]\n",
    "        jw = 1 if jw_phase < 0 else 0\n",
    "\n",
    "        opt = optimizer_dict_non_triv_proj_rep[(t, jw, j)]\n",
    "\n",
    "        optimizers.append(opt)\n",
    "\n",
    "    phases = get_left_proj_rep_phases_from_optimizers(optimizers)\n",
    "\n",
    "    left_non_triv_proj_rep_phases.append(phases)\n",
    "\n",
    "left_non_triv_proj_rep_phases = np.array(left_non_triv_proj_rep_phases)"
   ]
  },
  {
   "cell_type": "code",
   "execution_count": 104,
   "id": "2e4e1398-6894-4de9-8686-fb9aabd783e0",
   "metadata": {},
   "outputs": [
    {
     "data": {
      "text/plain": [
       "(20, 6)"
      ]
     },
     "execution_count": 104,
     "metadata": {},
     "output_type": "execute_result"
    }
   ],
   "source": [
    "left_non_triv_proj_rep_phases.shape"
   ]
  },
  {
   "cell_type": "code",
   "execution_count": 105,
   "id": "7e05ba2f-c069-403c-8526-1d56b6741612",
   "metadata": {},
   "outputs": [
    {
     "data": {
      "text/plain": [
       "array([[ 0.02-1.j  , -0.02+1.j  , -0.02+1.j  ,  0.02-1.j  ,  0.02+1.j  ,\n",
       "        -0.02-1.j  ],\n",
       "       [ 0.  +1.j  , -0.  -1.j  ,  0.  -1.j  , -0.  +1.j  , -0.  -1.j  ,\n",
       "         0.  +1.j  ],\n",
       "       [-0.01-1.j  ,  0.01+1.j  ,  0.  +1.j  , -0.  -1.j  , -0.  +1.j  ,\n",
       "         0.  -1.j  ],\n",
       "       [ 0.  +1.j  , -0.  -1.j  , -0.  -1.j  ,  0.  +1.j  , -0.  -1.j  ,\n",
       "         0.  +1.j  ],\n",
       "       [ 0.  +1.j  , -0.  -1.j  ,  0.  -1.j  , -0.  +1.j  ,  0.  -1.j  ,\n",
       "        -0.  +1.j  ],\n",
       "       [ 0.01+1.j  , -0.01-1.j  ,  0.  -1.j  , -0.  +1.j  , -0.  -1.j  ,\n",
       "         0.  +1.j  ],\n",
       "       [ 0.  +1.j  , -0.  -1.j  ,  0.  -1.j  , -0.  +1.j  , -0.  -1.j  ,\n",
       "         0.  +1.j  ],\n",
       "       [ 0.  -1.j  , -0.  +1.j  , -0.  +1.j  ,  0.  -1.j  ,  0.  +1.j  ,\n",
       "        -0.  -1.j  ],\n",
       "       [ 0.01+1.j  , -0.01-1.j  ,  0.01-1.j  , -0.01+1.j  , -0.01-1.j  ,\n",
       "         0.01+1.j  ],\n",
       "       [-0.01+1.j  ,  0.01-1.j  ,  0.01-1.j  , -0.01+1.j  , -0.01-1.j  ,\n",
       "         0.02+1.j  ],\n",
       "       [ 1.  -0.j  ,  1.  -0.j  ,  1.  +0.01j,  1.  +0.j  ,  1.  -0.01j,\n",
       "         1.  -0.01j],\n",
       "       [ 1.  +0.j  ,  1.  +0.j  ,  1.  -0.j  ,  1.  -0.j  ,  1.  +0.j  ,\n",
       "         1.  +0.j  ],\n",
       "       [ 1.  -0.j  ,  1.  -0.j  ,  1.  +0.j  ,  1.  -0.j  ,  1.  -0.j  ,\n",
       "         1.  -0.j  ],\n",
       "       [ 1.  -0.j  ,  1.  -0.j  ,  1.  +0.j  ,  1.  +0.j  ,  1.  -0.j  ,\n",
       "         1.  -0.j  ],\n",
       "       [ 1.  +0.j  ,  1.  +0.j  ,  1.  +0.01j,  1.  +0.j  ,  1.  -0.j  ,\n",
       "         1.  -0.j  ],\n",
       "       [ 1.  -0.j  ,  1.  -0.j  ,  1.  +0.j  ,  1.  +0.j  ,  1.  +0.j  ,\n",
       "         1.  +0.j  ],\n",
       "       [ 1.  +0.j  ,  1.  +0.j  ,  1.  +0.j  ,  1.  +0.j  ,  1.  -0.j  ,\n",
       "         1.  -0.j  ],\n",
       "       [ 1.  +0.j  ,  1.  +0.j  ,  1.  -0.j  ,  1.  -0.j  ,  1.  -0.j  ,\n",
       "         1.  -0.j  ],\n",
       "       [ 1.  +0.01j,  1.  +0.01j,  0.99-0.12j,  0.99-0.12j,  1.  -0.01j,\n",
       "         1.  -0.01j],\n",
       "       [ 1.  +0.j  ,  1.  +0.j  , -1.  +0.j  , -1.  +0.j  ,  1.  +0.j  ,\n",
       "         1.  +0.j  ]])"
      ]
     },
     "execution_count": 105,
     "metadata": {},
     "output_type": "execute_result"
    }
   ],
   "source": [
    "np.round(left_non_triv_proj_rep_phases, 2)"
   ]
  },
  {
   "cell_type": "code",
   "execution_count": 106,
   "id": "0cfc853c-eb59-4b63-87b1-740ae7345cf6",
   "metadata": {},
   "outputs": [
    {
     "data": {
      "text/plain": [
       "array([[-1.+0.j  , -1.+0.j  , -1.+0.j  ],\n",
       "       [-1.-0.j  , -1.+0.j  , -1.+0.j  ],\n",
       "       [-1.+0.j  , -1.-0.j  , -1.+0.j  ],\n",
       "       [-1.-0.j  , -1.-0.j  , -1.-0.j  ],\n",
       "       [-1.+0.j  , -1.-0.j  , -1.+0.j  ],\n",
       "       [-1.-0.j  , -1.-0.j  , -1.-0.j  ],\n",
       "       [-1.+0.j  , -1.-0.j  , -1.+0.j  ],\n",
       "       [-1.-0.j  , -1.+0.j  , -1.-0.j  ],\n",
       "       [-1.-0.j  , -1.-0.j  , -1.-0.j  ],\n",
       "       [-1.-0.01j, -1.+0.01j, -1.-0.01j],\n",
       "       [ 1.-0.j  ,  1.+0.j  ,  1.-0.j  ],\n",
       "       [ 1.+0.j  ,  1.+0.j  ,  1.+0.j  ],\n",
       "       [ 1.-0.j  ,  1.+0.j  ,  1.-0.j  ],\n",
       "       [ 1.-0.j  ,  1.+0.j  ,  1.-0.j  ],\n",
       "       [ 1.-0.j  ,  1.+0.j  ,  1.-0.j  ],\n",
       "       [ 1.+0.j  ,  1.+0.j  ,  1.+0.j  ],\n",
       "       [ 1.-0.j  ,  1.+0.j  ,  1.-0.j  ],\n",
       "       [ 1.+0.j  ,  1.+0.j  ,  1.+0.j  ],\n",
       "       [ 1.+0.j  ,  1.+0.j  ,  1.-0.j  ],\n",
       "       [ 1.+0.j  ,  1.-0.j  ,  1.+0.j  ]])"
      ]
     },
     "execution_count": 106,
     "metadata": {},
     "output_type": "execute_result"
    }
   ],
   "source": [
    "np.round(\n",
    "    left_non_triv_proj_rep_phases[:, ::2]/left_non_triv_proj_rep_phases[:, 1::2],\n",
    "    2\n",
    ")"
   ]
  },
  {
   "cell_type": "markdown",
   "id": "b1c0caa5-42f5-48a0-ba82-f7a98abc9d0c",
   "metadata": {},
   "source": [
    "Looks good!"
   ]
  },
  {
   "cell_type": "markdown",
   "id": "99c5c482-7281-4046-9d45-f30f4b7ddda9",
   "metadata": {},
   "source": [
    "## All phases"
   ]
  },
  {
   "cell_type": "code",
   "execution_count": 107,
   "id": "c3ef9875-1da0-40ad-8c97-e646a01266e9",
   "metadata": {},
   "outputs": [],
   "source": [
    "triv_proj_rep_phases_array = np.stack(\n",
    "    [left_triv_proj_rep_phases, right_triv_proj_rep_phases],\n",
    "    axis=-1\n",
    ")\n",
    "\n",
    "non_triv_proj_rep_phases_array = np.stack(\n",
    "    [left_non_triv_proj_rep_phases, right_non_triv_proj_rep_phases],\n",
    "    axis=-1\n",
    ")\n",
    "\n",
    "proj_rep_phases_array = np.stack(\n",
    "    [triv_proj_rep_phases_array, non_triv_proj_rep_phases_array],\n",
    "    axis=0\n",
    ")"
   ]
  },
  {
   "cell_type": "code",
   "execution_count": 108,
   "id": "52c67bd3-b0e8-4247-b44b-1462b14c507c",
   "metadata": {},
   "outputs": [
    {
     "data": {
      "text/plain": [
       "(2, 20, 6, 2)"
      ]
     },
     "execution_count": 108,
     "metadata": {},
     "output_type": "execute_result"
    }
   ],
   "source": [
    "proj_rep_phases_array.shape"
   ]
  },
  {
   "cell_type": "code",
   "execution_count": 109,
   "id": "ee31479d-7ec5-400a-ba08-9c8346cb7bad",
   "metadata": {},
   "outputs": [],
   "source": [
    "gauge_invariant_proj_rep_phases_array = proj_rep_phases_array[..., ::2, :]/proj_rep_phases_array[..., 1::2, :]"
   ]
  },
  {
   "cell_type": "code",
   "execution_count": 110,
   "id": "aee9dff0-c6c3-4918-986c-f7daf40bde18",
   "metadata": {},
   "outputs": [
    {
     "data": {
      "text/plain": [
       "array([1., 1., 1., 1., 1., 1., 1., 1.])"
      ]
     },
     "execution_count": 110,
     "metadata": {},
     "output_type": "execute_result"
    }
   ],
   "source": [
    "np.unique(np.abs(gauge_invariant_proj_rep_phases_array))"
   ]
  },
  {
   "cell_type": "code",
   "execution_count": 111,
   "id": "7c221489-0975-46d5-a737-1dd35c10e9ad",
   "metadata": {},
   "outputs": [],
   "source": [
    "gauge_invariant_proj_rep_phases_array[1, :10] *= -1"
   ]
  },
  {
   "cell_type": "code",
   "execution_count": 112,
   "id": "c45c216c-462f-452f-999f-511ead9befe6",
   "metadata": {},
   "outputs": [],
   "source": [
    "delta_gauge_invariant_proj_rep_angle = np.imag(np.log(gauge_invariant_proj_rep_phases_array))"
   ]
  },
  {
   "cell_type": "code",
   "execution_count": 113,
   "id": "3955775c-f8e3-4aa5-a4fe-793675d962d3",
   "metadata": {},
   "outputs": [
    {
     "data": {
      "text/plain": [
       "0.00878484485640816"
      ]
     },
     "execution_count": 113,
     "metadata": {},
     "output_type": "execute_result"
    }
   ],
   "source": [
    "np.max(np.abs(delta_gauge_invariant_proj_rep_angle))"
   ]
  },
  {
   "cell_type": "code",
   "execution_count": 114,
   "id": "9e560570-095d-4638-9d96-2be4b0f9ddd8",
   "metadata": {},
   "outputs": [
    {
     "data": {
      "text/plain": [
       "(2, 20, 3, 2)"
      ]
     },
     "execution_count": 114,
     "metadata": {},
     "output_type": "execute_result"
    }
   ],
   "source": [
    "delta_gauge_invariant_proj_rep_angle.shape"
   ]
  },
  {
   "cell_type": "code",
   "execution_count": 115,
   "id": "ac37af32-5e58-4bb4-a25d-d31fbf69db38",
   "metadata": {},
   "outputs": [],
   "source": [
    "markers = ['<', '>']"
   ]
  },
  {
   "cell_type": "code",
   "execution_count": 116,
   "id": "715be721-dd85-4327-8b7f-7420cababb49",
   "metadata": {},
   "outputs": [],
   "source": [
    "side_labels = ['Left', 'Right']"
   ]
  },
  {
   "cell_type": "code",
   "execution_count": 117,
   "id": "1c103900-9b3f-4501-8d9b-a2427ed9ba4e",
   "metadata": {},
   "outputs": [
    {
     "data": {
      "text/plain": [
       "0.0"
      ]
     },
     "execution_count": 117,
     "metadata": {},
     "output_type": "execute_result"
    }
   ],
   "source": [
    "np.max(np.abs(delta_gauge_invariant_proj_rep_angle[0]))"
   ]
  },
  {
   "cell_type": "code",
   "execution_count": 118,
   "id": "e11cbe4a-00b8-4732-8c5b-6d567dbaa591",
   "metadata": {},
   "outputs": [
    {
     "data": {
      "image/png": "[encoded data removed]",
      "text/plain": [
       "<Figure size 600x400 with 1 Axes>"
      ]
     },
     "metadata": {},
     "output_type": "display_data"
    }
   ],
   "source": [
    "fig, ax = plt.subplots(figsize=(6,4))\n",
    "\n",
    "for i, (marker, side_label) in enumerate(zip(markers, side_labels)):\n",
    "    for j, (col, label) in enumerate(zip(colors, symmetry_pair_labels)):\n",
    "        ax.scatter(\n",
    "            interpolation_values,\n",
    "            delta_gauge_invariant_proj_rep_angle[1, :, j, i],\n",
    "            marker=marker,\n",
    "            color=col,\n",
    "            label = f'({label}), {side_label}'\n",
    "        )\n",
    "\n",
    "ax.xaxis.set_major_locator(MultipleLocator(0.1))\n",
    "\n",
    "ax.grid()\n",
    "ax.set_ylabel(r'$\\Delta \\Theta$', fontsize=13)\n",
    "ax.set_xlabel('$t$', fontsize=13)\n",
    "\n",
    "ax.legend(loc='upper left', title='$(g,h)$, Side')\n",
    "\n",
    "fig.suptitle(r'$\\Delta \\Theta(g,h)$ as a function of $t$ for $H_{f,2}(t)$')\n",
    "\n",
    "fig.savefig(r'plots/delta_proj_rep_angle_from_unitary_circuit_fermionc.png', dpi=200)"
   ]
  },
  {
   "cell_type": "markdown",
   "id": "96fbf56b-78ae-439b-ad89-2c51d6c3ab17",
   "metadata": {},
   "source": [
    "# Final plot"
   ]
  },
  {
   "cell_type": "code",
   "execution_count": 148,
   "id": "4a2695ec-7ca8-450f-9c2d-ed96e0caef38",
   "metadata": {},
   "outputs": [],
   "source": [
    "fp_triv_proj_rep_charges_array = np.stack(\n",
    "    [left_fp_triv_proj_rep_charges_array, right_fp_triv_proj_rep_charges_array],\n",
    "    axis=-1\n",
    ")\n",
    "\n",
    "fp_non_triv_proj_rep_charges_array = np.stack(\n",
    "    [left_fp_non_triv_proj_rep_charges_array, right_fp_non_triv_proj_rep_charges_array],\n",
    "    axis=-1\n",
    ")\n",
    "\n",
    "fp_charges_array = np.stack(\n",
    "    [fp_triv_proj_rep_charges_array, fp_non_triv_proj_rep_charges_array],\n",
    "    axis=0\n",
    ")"
   ]
  },
  {
   "cell_type": "code",
   "execution_count": 149,
   "id": "17a4180f-2a4b-47e3-aadf-0be083e31095",
   "metadata": {},
   "outputs": [
    {
     "data": {
      "text/plain": [
       "(2, 21, 2, 4, 2)"
      ]
     },
     "execution_count": 149,
     "metadata": {},
     "output_type": "execute_result"
    }
   ],
   "source": [
    "fp_charges_array.shape"
   ]
  },
  {
   "cell_type": "code",
   "execution_count": 150,
   "id": "842a1412-7db6-4771-96de-84c3ba5d191c",
   "metadata": {},
   "outputs": [],
   "source": [
    "fp_charges_array = np.delete(fp_charges_array, 10, axis=1)"
   ]
  },
  {
   "cell_type": "code",
   "execution_count": 151,
   "id": "9504b9f8-dfc4-4fab-80f3-c5626f0e9d9d",
   "metadata": {},
   "outputs": [
    {
     "data": {
      "text/plain": [
       "8.372702234514765e-15"
      ]
     },
     "execution_count": 151,
     "metadata": {},
     "output_type": "execute_result"
    }
   ],
   "source": [
    "np.max(np.abs(fp_charges_array[..., 0] - fp_charges_array[..., 1]))"
   ]
  },
  {
   "cell_type": "code",
   "execution_count": 152,
   "id": "820edcbc-d50b-4964-8e27-c0448adf06ee",
   "metadata": {},
   "outputs": [],
   "source": [
    "fp_charges_array = fp_charges_array[..., 0]"
   ]
  },
  {
   "cell_type": "code",
   "execution_count": 153,
   "id": "98719056-cd7a-4efd-ba48-81cdcf07da72",
   "metadata": {},
   "outputs": [
    {
     "data": {
      "text/plain": [
       "(2, 20, 2, 4)"
      ]
     },
     "execution_count": 153,
     "metadata": {},
     "output_type": "execute_result"
    }
   ],
   "source": [
    "fp_charges_array.shape"
   ]
  },
  {
   "cell_type": "code",
   "execution_count": 154,
   "id": "6291d241-2ae1-41e8-af9b-05cc745e68a4",
   "metadata": {},
   "outputs": [
    {
     "data": {
      "text/plain": [
       "0.05498764233237323"
      ]
     },
     "execution_count": 154,
     "metadata": {},
     "output_type": "execute_result"
    }
   ],
   "source": [
    "np.max(np.abs(fp_charges_array[..., 0, :] - fp_charges_array[..., 1, :]))"
   ]
  },
  {
   "cell_type": "code",
   "execution_count": 125,
   "id": "887b5684-c18d-4993-a4ad-07475a495291",
   "metadata": {},
   "outputs": [],
   "source": [
    "sub_fp_charges_array = fp_charges_array[..., 0, 1:]"
   ]
  },
  {
   "cell_type": "code",
   "execution_count": 126,
   "id": "14843ae0-b2fc-4f52-950d-3870dc633b3d",
   "metadata": {},
   "outputs": [
    {
     "data": {
      "text/plain": [
       "(2, 20, 3)"
      ]
     },
     "execution_count": 126,
     "metadata": {},
     "output_type": "execute_result"
    }
   ],
   "source": [
    "sub_fp_charges_array.shape"
   ]
  },
  {
   "cell_type": "code",
   "execution_count": 127,
   "id": "7904ac30-86ec-47ea-a071-fa03b9372db4",
   "metadata": {},
   "outputs": [
    {
     "data": {
      "text/plain": [
       "(2, 20, 2, 4)"
      ]
     },
     "execution_count": 127,
     "metadata": {},
     "output_type": "execute_result"
    }
   ],
   "source": [
    "fp_charges_array.shape"
   ]
  },
  {
   "cell_type": "code",
   "execution_count": 128,
   "id": "c635a127-b2cf-40a3-a739-52f4c3978a74",
   "metadata": {},
   "outputs": [],
   "source": [
    "sub_fp_charges_array = np.real(fp_charges_array[..., 1:])"
   ]
  },
  {
   "cell_type": "code",
   "execution_count": 129,
   "id": "b29b730d-aa31-4a63-8973-3196cb58c724",
   "metadata": {},
   "outputs": [],
   "source": [
    "mean_fp_charges_array = np.mean(sub_fp_charges_array, axis=2)"
   ]
  },
  {
   "cell_type": "code",
   "execution_count": 130,
   "id": "a8f726ba-4e7b-4e5e-bd9a-dc9707c52d48",
   "metadata": {},
   "outputs": [],
   "source": [
    "err_fp_charges_array = np.max(\n",
    "    np.abs(sub_fp_charges_array - mean_fp_charges_array[..., np.newaxis, :]),\n",
    "    axis=2\n",
    ")"
   ]
  },
  {
   "cell_type": "code",
   "execution_count": 131,
   "id": "bdeac455-5e34-4235-a93a-98323f6bd1be",
   "metadata": {},
   "outputs": [],
   "source": [
    "gauge_invariant_proj_rep_phases_array = proj_rep_phases_array[..., ::2, :]/proj_rep_phases_array[..., 1::2, :]"
   ]
  },
  {
   "cell_type": "code",
   "execution_count": 132,
   "id": "58fd268a-a210-46e9-b346-f38e70d6d073",
   "metadata": {},
   "outputs": [],
   "source": [
    "gauge_invariant_proj_rep_angle = np.imag(np.log(gauge_invariant_proj_rep_phases_array))\n",
    "gauge_invariant_proj_rep_angle[gauge_invariant_proj_rep_angle<=-np.pi/2] += 2*np.pi"
   ]
  },
  {
   "cell_type": "code",
   "execution_count": 133,
   "id": "86b9db5a-f84d-4a21-9034-2ee0a01f6ddd",
   "metadata": {},
   "outputs": [],
   "source": [
    "mean_gauge_invariant_proj_rep_angle = np.mean(gauge_invariant_proj_rep_angle, axis=(2,3))\n",
    "max_gauge_invariant_proj_rep_angle = np.max(gauge_invariant_proj_rep_angle, axis=(2,3))\n",
    "min_gauge_invariant_proj_rep_angle = np.min(gauge_invariant_proj_rep_angle, axis=(2,3))\n",
    "\n",
    "min_max_gauge_invariant_proj_rep_angle = np.stack(\n",
    "    [\n",
    "        min_gauge_invariant_proj_rep_angle,\n",
    "        max_gauge_invariant_proj_rep_angle\n",
    "    ],\n",
    "    axis=0\n",
    ")\n",
    "\n",
    "error_gauge_invariant_proj_rep_angle = (\n",
    "    min_max_gauge_invariant_proj_rep_angle\n",
    "    - mean_gauge_invariant_proj_rep_angle[np.newaxis, :]\n",
    ")\n",
    "error_gauge_invariant_proj_rep_angle = np.abs(error_gauge_invariant_proj_rep_angle)"
   ]
  },
  {
   "cell_type": "code",
   "execution_count": 134,
   "id": "e77d5e0b-ecc5-4d60-b08e-14030ee166e0",
   "metadata": {},
   "outputs": [],
   "source": [
    "raw_overlaps = [\n",
    "    final_exps_triv_proj_rep,\n",
    "    final_exps_non_triv_proj_rep\n",
    "]\n",
    "\n",
    "overlaps_array = np.zeros((2, 20, 3))\n",
    "\n",
    "for i, d in enumerate(raw_overlaps):\n",
    "    for j, t in enumerate(interpolation_values):\n",
    "        for k in range(3):\n",
    "            jw = right_fp_triv_proj_rep_charges_dict[(t, k+1)]\n",
    "            mod_jw = 0 if jw == -1 else 1\n",
    "            overlap = d[(t, mod_jw, k+1)]\n",
    "            overlaps_array[i, j, k] = overlap"
   ]
  },
  {
   "cell_type": "code",
   "execution_count": 135,
   "id": "55095b07-8c41-4051-946c-61b79320980e",
   "metadata": {},
   "outputs": [
    {
     "data": {
      "text/plain": [
       "array([[0.00000000e+00, 0.00000000e+00, 0.00000000e+00, 0.00000000e+00,\n",
       "        0.00000000e+00, 0.00000000e+00, 0.00000000e+00, 0.00000000e+00,\n",
       "        0.00000000e+00, 0.00000000e+00, 0.00000000e+00, 0.00000000e+00,\n",
       "        0.00000000e+00, 0.00000000e+00, 0.00000000e+00, 0.00000000e+00,\n",
       "        0.00000000e+00, 0.00000000e+00, 0.00000000e+00, 0.00000000e+00],\n",
       "       [3.14159216e+00, 3.14159241e+00, 3.14159126e+00, 3.14159359e+00,\n",
       "        3.14158570e+00, 3.14159917e+00, 3.14159819e+00, 3.14162702e+00,\n",
       "        3.14169314e+00, 3.14301002e+00, 3.56933521e-04, 4.57778120e-04,\n",
       "        1.52490646e-04, 1.02497423e-04, 5.69277942e-05, 4.99050884e-05,\n",
       "        1.05640819e-05, 1.04931708e-05, 7.39988338e-07, 0.00000000e+00]])"
      ]
     },
     "execution_count": 135,
     "metadata": {},
     "output_type": "execute_result"
    }
   ],
   "source": [
    "mean_gauge_invariant_proj_rep_angle"
   ]
  },
  {
   "cell_type": "code",
   "execution_count": 142,
   "id": "fb9c8bdd-3237-4c63-b3ec-679cd2e7e523",
   "metadata": {},
   "outputs": [
    {
     "data": {
      "image/png": "[encoded data removed]",
      "text/plain": [
       "<Figure size 1200x1600 with 6 Axes>"
      ]
     },
     "metadata": {},
     "output_type": "display_data"
    }
   ],
   "source": [
    "figure_label_fontsize=25\n",
    "y_tick_label_fontsize=20\n",
    "y_label_fontsize=25\n",
    "x_tick_label_fontsize=20\n",
    "x_label_fontsize=25\n",
    "row_label_fontsize=25\n",
    "\n",
    "axis_spine_linewidth = 1.5\n",
    "\n",
    "major_tick_length = 8\n",
    "major_tick_width = 1.8\n",
    "minor_tick_length = 6\n",
    "minor_tick_width = 1.2\n",
    "\n",
    "plot_linewidth = 2.5\n",
    "\n",
    "fig, ax_grid = plt.subplots(\n",
    "    figsize=(12,16),\n",
    "    ncols=2,\n",
    "    nrows=3\n",
    ")\n",
    "\n",
    "for j, (col, label) in enumerate(zip(colors, symmetry_labels[1:])):\n",
    "    for i, ax_row in enumerate(ax_grid):\n",
    "        for k, ax in enumerate(ax_row):\n",
    "            if i == 0:\n",
    "                ax.errorbar(\n",
    "                    interpolation_values[::-1],\n",
    "                    mean_fp_charges_array[k, :, j],\n",
    "                    yerr=err_fp_charges_array[k, :, j],\n",
    "                    color=col,\n",
    "                    label=label,\n",
    "                    fmt='-',\n",
    "                    capsize=2,\n",
    "                    linewidth=phase_linewidth\n",
    "                )\n",
    "\n",
    "            if i==1:\n",
    "                ax.plot(\n",
    "                    interpolation_values[::-1], # I ordered this wrong at definition\n",
    "                    overlaps_array[k, :, j],\n",
    "                    color=col,\n",
    "                    label=label,\n",
    "                    marker='D',\n",
    "                    linewidth=phase_linewidth\n",
    "                )\n",
    "\n",
    "            if i==2:\n",
    "                ax.plot(\n",
    "                    interpolation_values[::-1],\n",
    "                    mean_gauge_invariant_proj_rep_angle[k],\n",
    "                    color='tab:blue',\n",
    "                    marker='D',\n",
    "                    linewidth=phase_linewidth\n",
    "                )\n",
    "\n",
    "ax_grid[0][0].set_ylim(-1.1, 1.1)\n",
    "ax_grid[0][1].set_ylim(-1.1, 1.1)\n",
    "ax_grid[1][0].set_ylim(-0.5, 1.05)\n",
    "ax_grid[1][1].set_ylim(-0.5, 1.05)\n",
    "\n",
    "ax_grid[2][0].set_ylim((-0.1)*np.pi, np.pi*(1.1))\n",
    "ax_grid[2][1].set_ylim((-0.1)*np.pi, np.pi*(1.1))\n",
    "\n",
    "for i, row in enumerate(ax_grid):\n",
    "    for j, ax in enumerate(row):\n",
    "        ax.xaxis.set_major_locator(\n",
    "            matplotlib.ticker.MultipleLocator(0.25)\n",
    "        )\n",
    "        ax.xaxis.set_minor_locator(\n",
    "            matplotlib.ticker.MultipleLocator(0.05)\n",
    "        )\n",
    "        ax.grid()\n",
    "\n",
    "        ax.grid(\n",
    "            which='minor',\n",
    "            axis='y',\n",
    "            linestyle='--',\n",
    "            zorder=-1e10\n",
    "        )\n",
    "\n",
    "        for axis in ['top','bottom','left','right']:\n",
    "            ax.spines[axis].set_linewidth(axis_spine_linewidth)\n",
    "\n",
    "        ax.tick_params(\n",
    "            axis='both',\n",
    "            which='major',\n",
    "            length=major_tick_length,\n",
    "            width=major_tick_width\n",
    "        )\n",
    "\n",
    "        ax.tick_params(\n",
    "            axis='both',\n",
    "            which='minor',\n",
    "            length=minor_tick_length,\n",
    "            width=minor_tick_width\n",
    "        )\n",
    "\n",
    "        if i == 2:\n",
    "            ax.set_yticks(\n",
    "                np.linspace(0, np.pi, 3),\n",
    "                labels=['$0$', '$\\pi/2$', '$\\pi$']\n",
    "            )\n",
    "            \n",
    "            ax.set_yticks(\n",
    "                [np.pi/6, np.pi/3, 2*np.pi/3, 5*np.pi/6],\n",
    "                minor=True\n",
    "            )\n",
    "\n",
    "            ax.set_xlabel('$t$', fontsize=x_label_fontsize)\n",
    "\n",
    "            ax.tick_params(\n",
    "                axis='x',\n",
    "                which='major',\n",
    "                labelsize=x_tick_label_fontsize\n",
    "            )\n",
    "\n",
    "        if i == 0:\n",
    "            ax.title.set_text(rf'$H_{{f,{j+1}}}(t)$')\n",
    "            ax.title.set_fontsize(figure_label_fontsize)\n",
    "\n",
    "        if j == 0:\n",
    "            ax.tick_params(\n",
    "                axis='y',\n",
    "                which='major',\n",
    "                labelsize=y_tick_label_fontsize\n",
    "            )\n",
    "        if j == 1:\n",
    "            ax.set_yticklabels([])\n",
    "            ax.yaxis.set_label_position(\"right\")\n",
    "        if i!= 2:\n",
    "            ax.set_xticklabels([])\n",
    "\n",
    "ax_grid[0][0].set_ylabel(r'$(-1)^{n_1(g)}$', fontsize=y_label_fontsize)\n",
    "ax_grid[1][0].set_ylabel(r'Overlap $\\vert c \\vert$', fontsize=y_label_fontsize)\n",
    "ax_grid[2][0].set_ylabel(r'$\\theta=-i\\ \\log(\\Omega)$', fontsize=y_label_fontsize)\n",
    "\n",
    "for i, l in enumerate('abc'):\n",
    "    ax_grid[i][1].set_ylabel(\n",
    "        f'({l})',\n",
    "        fontsize=y_label_fontsize,\n",
    "        rotation='horizontal',\n",
    "        ha='left',\n",
    "        labelpad=15\n",
    "    )\n",
    "\n",
    "ax_grid[1][1].legend(\n",
    "    loc='lower right',\n",
    "    title='Applied symmetry $g$',\n",
    "    fontsize='xx-large',\n",
    "    title_fontsize='xx-large'\n",
    ")\n",
    "\n",
    "fig.subplots_adjust(wspace=0.1, hspace=0.1)\n",
    "\n",
    "fig.savefig(\n",
    "    r'plots/unitary_circuit_fermionic_results.png',\n",
    "    dpi=200,\n",
    "    bbox_inches='tight'\n",
    ")"
   ]
  },
  {
   "cell_type": "code",
   "execution_count": 137,
   "id": "6a310f0d-94b5-4647-ade3-711b32a7a04f",
   "metadata": {},
   "outputs": [
    {
     "data": {
      "text/plain": [
       "0.008624327688213196"
      ]
     },
     "execution_count": 137,
     "metadata": {},
     "output_type": "execute_result"
    }
   ],
   "source": [
    "np.max(error_gauge_invariant_proj_rep_angle)"
   ]
  },
  {
   "cell_type": "code",
   "execution_count": null,
   "id": "c7e951a8-69c4-4fa9-ba52-8e06dc344cf9",
   "metadata": {},
   "outputs": [],
   "source": []
  }
 ],
 "metadata": {
  "kernelspec": {
   "display_name": "num_spt_venv_p11",
   "language": "python",
   "name": "num_spt_venv_p11"
  },
  "language_info": {
   "codemirror_mode": {
    "name": "ipython",
    "version": 3
   },
   "file_extension": ".py",
   "mimetype": "text/x-python",
   "name": "python",
   "nbconvert_exporter": "python",
   "pygments_lexer": "ipython3",
   "version": "3.11.9"
  }
 },
 "nbformat": 4,
 "nbformat_minor": 5
}
