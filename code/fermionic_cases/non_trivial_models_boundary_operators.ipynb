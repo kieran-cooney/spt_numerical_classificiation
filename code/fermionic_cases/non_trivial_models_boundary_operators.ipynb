{
 "cells": [
  {
   "cell_type": "markdown",
   "id": "5f2205a4-2c74-4cf5-9ad1-9d65bd13bed2",
   "metadata": {},
   "source": [
    "# Non-trivial models boundary operators\n",
    "\n",
    "Created 29/04/2025\n",
    "\n",
    "Objectives:\n",
    "* Investigate boundary operators and extract SPT phase."
   ]
  },
  {
   "cell_type": "markdown",
   "id": "9ad0db4d-805c-4403-9d48-c71d523d572f",
   "metadata": {},
   "source": [
    "# Package imports"
   ]
  },
  {
   "cell_type": "code",
   "execution_count": 1,
   "id": "ecb41ea3-927f-4efa-aebe-ce15784aa037",
   "metadata": {},
   "outputs": [],
   "source": [
    "import sys\n",
    "sys.path.append('../')"
   ]
  },
  {
   "cell_type": "code",
   "execution_count": 2,
   "id": "4a525ec6-f0c8-47ee-8b0b-345bf0ef8bd3",
   "metadata": {},
   "outputs": [],
   "source": [
    "import h5py\n",
    "from tenpy.tools import hdf5_io\n",
    "import tenpy\n",
    "import tenpy.linalg.np_conserved as npc\n",
    "\n",
    "import os\n",
    "import pickle"
   ]
  },
  {
   "cell_type": "code",
   "execution_count": 3,
   "id": "214f688a-c657-4810-b4d1-b1247deff62c",
   "metadata": {},
   "outputs": [],
   "source": [
    "import numpy as np\n",
    "import matplotlib.pyplot as plt\n",
    "import pandas as pd\n",
    "\n",
    "from matplotlib.ticker import AutoMinorLocator, MultipleLocator"
   ]
  },
  {
   "cell_type": "code",
   "execution_count": 4,
   "id": "11d5f5ee-50dc-4446-aa69-0706b5eda5ba",
   "metadata": {},
   "outputs": [],
   "source": [
    "from tqdm import tqdm"
   ]
  },
  {
   "cell_type": "code",
   "execution_count": 5,
   "id": "b8dec68d-a5b3-4383-ab44-567a9a5981b3",
   "metadata": {},
   "outputs": [],
   "source": [
    "from SPTOptimization.SymmetryActionWithBoundaryUnitaries import SymmetryActionWithBoundaryUnitaries\n",
    "\n",
    "from SPTOptimization.utils import (\n",
    "    to_npc_array,\n",
    "    get_right_identity_environment,\n",
    "    get_right_identity_environment_from_tp_tensor,\n",
    "    multiply_stacked_unitaries_against_mps,\n",
    "    inner_product_b_tensors,\n",
    "    get_npc_identity_operator\n",
    ")\n",
    "\n",
    "from SPTOptimization.Optimizers.MPSBrickSolver import(\n",
    "    MPSBrickSolver\n",
    ")"
   ]
  },
  {
   "cell_type": "markdown",
   "id": "c69a8a47-e298-4c4c-97f7-a6157da4e15f",
   "metadata": {},
   "source": [
    "# Load data"
   ]
  },
  {
   "cell_type": "code",
   "execution_count": 6,
   "id": "210d7dcc-b7ae-4f06-8429-84177bec47d3",
   "metadata": {},
   "outputs": [],
   "source": [
    "DATA_DIR_1 = r\"../data/interpolated_trivial_to_nontrivial_fermionic_trivial_proj_rep_200_site_dmrg/\"\n",
    "DATA_DIR_2 = r\"../data/interpolated_nontrivial_fermionic_proj_rep_to_nontrivial_proj_rep_200_site_dmrg/\""
   ]
  },
  {
   "cell_type": "code",
   "execution_count": 7,
   "id": "ae809e74-d444-4db4-88ff-7538f6110d08",
   "metadata": {},
   "outputs": [],
   "source": [
    "def parse_file_name(file_name):\n",
    "    interpolation = int(file_name.split('_')[0])/100\n",
    "\n",
    "    return interpolation"
   ]
  },
  {
   "cell_type": "code",
   "execution_count": 8,
   "id": "e09f07cf-8441-4c7e-90b8-dbc8c61311f2",
   "metadata": {},
   "outputs": [],
   "source": [
    "loaded_data_triv_proj_rep = dict()\n",
    "energies_triv_proj_rep = dict()\n",
    "\n",
    "for local_file_name in list(os.walk(DATA_DIR_1))[0][2]:\n",
    "    f_name = r\"{}/{}\".format(DATA_DIR_1, local_file_name, ignore_unknown=False)\n",
    "    with h5py.File(f_name, 'r') as f:\n",
    "        data = hdf5_io.load_from_hdf5(f)\n",
    "\n",
    "        data_info = parse_file_name(local_file_name)\n",
    "        loaded_data_triv_proj_rep[data_info]=data['wavefunction']\n",
    "        energies_triv_proj_rep[data_info]=data['energy']"
   ]
  },
  {
   "cell_type": "code",
   "execution_count": 9,
   "id": "38dd3540-a84f-4ca7-b7a8-68ed1b0be4e2",
   "metadata": {},
   "outputs": [],
   "source": [
    "loaded_data_non_triv_proj_rep = dict()\n",
    "energies_non_triv_proj_rep = dict()\n",
    "\n",
    "for local_file_name in list(os.walk(DATA_DIR_2))[0][2]:\n",
    "    f_name = r\"{}/{}\".format(DATA_DIR_2, local_file_name, ignore_unknown=False)\n",
    "\n",
    "    with h5py.File(f_name, 'r') as f:\n",
    "        data = hdf5_io.load_from_hdf5(f)\n",
    "\n",
    "        data_info = parse_file_name(local_file_name)\n",
    "        loaded_data_non_triv_proj_rep[data_info]=data['wavefunction']\n",
    "        energies_non_triv_proj_rep[data_info]=data['energy']"
   ]
  },
  {
   "cell_type": "markdown",
   "id": "b4c1e616-c034-404b-b59e-196d1eaac475",
   "metadata": {},
   "source": [
    "# Definitons"
   ]
  },
  {
   "cell_type": "code",
   "execution_count": 10,
   "id": "63506364-f535-4c0f-8c5f-8839c69f7b9d",
   "metadata": {},
   "outputs": [],
   "source": [
    "MAX_VIRTUAL_BOND_DIM = 30\n",
    "MAX_INTERMEDIATE_VIRTUAL_BOND_DIM = 2*MAX_VIRTUAL_BOND_DIM\n",
    "# MPO bond dim?\n",
    "MAX_MPO_BOND_DIM = 50\n",
    "\n",
    "SVD_CUTOFF = 1e-3"
   ]
  },
  {
   "cell_type": "markdown",
   "id": "1efd18d4-328d-43dd-996d-393f18eb02b2",
   "metadata": {},
   "source": [
    "Define bosonic symmetries. Label by the group element added."
   ]
  },
  {
   "cell_type": "code",
   "execution_count": 11,
   "id": "513d7288-c641-4071-a4a3-652787d1f98c",
   "metadata": {},
   "outputs": [],
   "source": [
    "np_00 = np.array([\n",
    "    [1, 0, 0, 0],\n",
    "    [0, 1, 0, 0],\n",
    "    [0, 0, 1, 0],\n",
    "    [0, 0, 0, 1]\n",
    "])\n",
    "\n",
    "np_01 = np.array([\n",
    "    [0, 1, 0, 0],\n",
    "    [1, 0, 0, 0],\n",
    "    [0, 0, 0, 1],\n",
    "    [0, 0, 1, 0]\n",
    "])\n",
    "\n",
    "np_10 = np.array([\n",
    "    [0, 0, 1, 0],\n",
    "    [0, 0, 0, 1],\n",
    "    [1, 0, 0, 0],\n",
    "    [0, 1, 0, 0]\n",
    "])\n",
    "\n",
    "np_11 = np.array([\n",
    "    [0, 0, 0, 1],\n",
    "    [0, 0, 1, 0],\n",
    "    [0, 1, 0, 0],\n",
    "    [1, 0, 0, 0]\n",
    "])"
   ]
  },
  {
   "cell_type": "code",
   "execution_count": 12,
   "id": "c83907c6-e86f-48af-a2a1-11b250f47e84",
   "metadata": {},
   "outputs": [],
   "source": [
    "bosonic_np_symmetries = [\n",
    "    np_00,\n",
    "    np_01,\n",
    "    np_10,\n",
    "    np_11\n",
    "]"
   ]
  },
  {
   "cell_type": "code",
   "execution_count": 13,
   "id": "fd7c7309-10ee-4834-b153-9a4121462fca",
   "metadata": {},
   "outputs": [],
   "source": [
    "bosonic_npc_symmetries = [\n",
    "    to_npc_array(X) for X in bosonic_np_symmetries\n",
    "]"
   ]
  },
  {
   "cell_type": "code",
   "execution_count": 14,
   "id": "2a78a62e-37eb-4baf-98ba-d6a94d599bec",
   "metadata": {},
   "outputs": [],
   "source": [
    "npc_00 = to_npc_array(np_00)\n",
    "npc_01 = to_npc_array(np_01)\n",
    "npc_10 = to_npc_array(np_10)\n",
    "npc_11 = to_npc_array(np_11)"
   ]
  },
  {
   "cell_type": "markdown",
   "id": "1ecddc96-798a-416b-b0b4-d9ea9e25cfca",
   "metadata": {},
   "source": [
    "Define \"fermionic symmetries\". Just identity and JW string."
   ]
  },
  {
   "cell_type": "code",
   "execution_count": 15,
   "id": "a1c64bf0-4b2e-4492-b242-3dae6eb527c3",
   "metadata": {},
   "outputs": [],
   "source": [
    "np_I = np.array([\n",
    "    [1, 0],\n",
    "    [0, 1]\n",
    "])\n",
    "\n",
    "np_JW = np.array([\n",
    "    [1, 0],\n",
    "    [0, -1]\n",
    "])"
   ]
  },
  {
   "cell_type": "code",
   "execution_count": 16,
   "id": "e595ca13-740a-41a3-a658-8831c8f54323",
   "metadata": {},
   "outputs": [],
   "source": [
    "fermionic_np_symmetries = [np_I, np_JW]"
   ]
  },
  {
   "cell_type": "code",
   "execution_count": 17,
   "id": "6e5b6ad0-2496-4072-afe9-c41fc62da40e",
   "metadata": {},
   "outputs": [],
   "source": [
    "fermionic_npc_symmetries = [\n",
    "    to_npc_array(X) for X in fermionic_np_symmetries\n",
    "]"
   ]
  },
  {
   "cell_type": "code",
   "execution_count": 18,
   "id": "a2b43b48-e438-4702-8287-f5d27fc47f7b",
   "metadata": {},
   "outputs": [],
   "source": [
    "npc_JW = fermionic_npc_symmetries[1]"
   ]
  },
  {
   "cell_type": "code",
   "execution_count": 19,
   "id": "b9e2f954-c591-4479-ba37-32862c25c660",
   "metadata": {},
   "outputs": [],
   "source": [
    "symmetry_actions = [\n",
    "    [[b, f] for b in bosonic_np_symmetries]\n",
    "    for f in fermionic_np_symmetries\n",
    "]"
   ]
  },
  {
   "cell_type": "code",
   "execution_count": 20,
   "id": "8c945b86-cec1-4b08-930f-1922b7e1bea6",
   "metadata": {},
   "outputs": [],
   "source": [
    "shifted_symmetry_actions = [\n",
    "    [[f, b] for b in bosonic_np_symmetries]\n",
    "    for f in fermionic_np_symmetries\n",
    "]"
   ]
  },
  {
   "cell_type": "code",
   "execution_count": 21,
   "id": "ac19b501-4293-4d08-8bb0-35515cd6a093",
   "metadata": {},
   "outputs": [],
   "source": [
    "cases_triv_proj_rep = dict()\n",
    "\n",
    "for k, psi in loaded_data_triv_proj_rep.items():\n",
    "\n",
    "    for i, l in enumerate(symmetry_actions):\n",
    "\n",
    "        for j, s in enumerate(l):\n",
    "            case = SymmetryActionWithBoundaryUnitaries(\n",
    "                psi,\n",
    "                s*40,\n",
    "                left_symmetry_index=60,\n",
    "                left_boundary_unitaries=[np_I, np_00]*1,\n",
    "                right_boundary_unitaries=[np_00, np_I]*1\n",
    "            )\n",
    "\n",
    "            cases_triv_proj_rep[(k, i, j)] = case"
   ]
  },
  {
   "cell_type": "code",
   "execution_count": 22,
   "id": "8e7ff810-32b3-4163-9b1b-ca96a282a7f5",
   "metadata": {},
   "outputs": [],
   "source": [
    "for c in cases_triv_proj_rep.values():\n",
    "    c.compute_svd_approximate_expectation()"
   ]
  },
  {
   "cell_type": "code",
   "execution_count": 23,
   "id": "d5a75573-aebb-4b9c-904f-342f9f57c345",
   "metadata": {},
   "outputs": [],
   "source": [
    "cases_non_triv_proj_rep = dict()\n",
    "\n",
    "for k, psi in loaded_data_non_triv_proj_rep.items():\n",
    "\n",
    "    for i, l in enumerate(symmetry_actions):\n",
    "\n",
    "        for j, s in enumerate(l):\n",
    "            case = SymmetryActionWithBoundaryUnitaries(\n",
    "                psi,\n",
    "                s*40,\n",
    "                left_symmetry_index=60,\n",
    "                left_boundary_unitaries=[np_I, np_00]*1,\n",
    "                right_boundary_unitaries=[np_00, np_I]*1\n",
    "            )\n",
    "\n",
    "            cases_non_triv_proj_rep[(k, i, j)] = case"
   ]
  },
  {
   "cell_type": "code",
   "execution_count": 24,
   "id": "8d8df7a6-3e0c-4e4f-bc02-97d989f2c6e1",
   "metadata": {},
   "outputs": [],
   "source": [
    "for c in cases_non_triv_proj_rep.values():\n",
    "    c.compute_svd_approximate_expectation()"
   ]
  },
  {
   "cell_type": "code",
   "execution_count": 25,
   "id": "6bac53fa-b629-46fc-a145-f932a0af6f18",
   "metadata": {},
   "outputs": [],
   "source": [
    "left_trivial_leg_charge = tenpy.linalg.charges.LegCharge(\n",
    "    tenpy.linalg.charges.ChargeInfo([], []),\n",
    "    [0,1],\n",
    "    [[]],\n",
    "    qconj=1\n",
    ")"
   ]
  },
  {
   "cell_type": "code",
   "execution_count": 26,
   "id": "44f34cb7-0888-474b-9483-f4956951fc31",
   "metadata": {},
   "outputs": [],
   "source": [
    "right_trivial_leg_charge = tenpy.linalg.charges.LegCharge(\n",
    "    tenpy.linalg.charges.ChargeInfo([], []),\n",
    "    [0,1],\n",
    "    [[]],\n",
    "    qconj=-1\n",
    ")"
   ]
  },
  {
   "cell_type": "markdown",
   "id": "a8d73e19-9829-45b4-9469-c38cd95df93e",
   "metadata": {},
   "source": [
    "# Calculate boundary operators"
   ]
  },
  {
   "cell_type": "code",
   "execution_count": 27,
   "id": "a8c16338-cc25-4baa-8aee-23a4c23f7e5a",
   "metadata": {},
   "outputs": [],
   "source": [
    "block_width = 3\n",
    "num_one_sided_iterations = 3\n",
    "num_two_sided_iterations = 3\n",
    "num_layers = 4\n",
    "num_sites = 15\n",
    "max_virtual_bond_dim = 30"
   ]
  },
  {
   "cell_type": "code",
   "execution_count": 27,
   "id": "7473af0e-2191-47d7-84a1-40c3e2a787cb",
   "metadata": {},
   "outputs": [
    {
     "data": {
      "text/plain": [
       "'\\noptimizer_dict_triv_proj_rep = dict()\\n\\nfor k, v in cases_triv_proj_rep.items():\\n    opt = MPSBrickSolver(\\n        v,\\n        num_sites,\\n        block_width,\\n        num_layers,\\n        num_one_sided_iterations,\\n        num_two_sided_iterations,\\n        max_virtual_bond_dim=max_virtual_bond_dim\\n    )\\n\\n    opt.optimise()\\n\\n    optimizer_dict_triv_proj_rep[k] = opt\\n'"
      ]
     },
     "execution_count": 27,
     "metadata": {},
     "output_type": "execute_result"
    }
   ],
   "source": [
    "\"\"\"\n",
    "optimizer_dict_triv_proj_rep = dict()\n",
    "\n",
    "for k, v in cases_triv_proj_rep.items():\n",
    "    opt = MPSBrickSolver(\n",
    "        v,\n",
    "        num_sites,\n",
    "        block_width,\n",
    "        num_layers,\n",
    "        num_one_sided_iterations,\n",
    "        num_two_sided_iterations,\n",
    "        max_virtual_bond_dim=max_virtual_bond_dim\n",
    "    )\n",
    "\n",
    "    opt.optimise()\n",
    "\n",
    "    optimizer_dict_triv_proj_rep[k] = opt\n",
    "\"\"\""
   ]
  },
  {
   "cell_type": "code",
   "execution_count": 30,
   "id": "8a390d78-505c-49b2-a2ca-0559ed65dca5",
   "metadata": {},
   "outputs": [
    {
     "data": {
      "text/plain": [
       "'\\noptimizer_dict_non_triv_proj_rep = dict()\\n\\nfor k, v in cases_non_triv_proj_rep.items():\\n    opt = MPSBrickSolver(\\n        v,\\n        num_sites,\\n        block_width,\\n        num_layers,\\n        num_one_sided_iterations,\\n        num_two_sided_iterations,\\n        max_virtual_bond_dim=max_virtual_bond_dim\\n    )\\n\\n    opt.optimise()\\n\\n    optimizer_dict_non_triv_proj_rep[k] = opt\\n'"
      ]
     },
     "execution_count": 30,
     "metadata": {},
     "output_type": "execute_result"
    }
   ],
   "source": [
    "\"\"\"\n",
    "optimizer_dict_non_triv_proj_rep = dict()\n",
    "\n",
    "for k, v in cases_non_triv_proj_rep.items():\n",
    "    opt = MPSBrickSolver(\n",
    "        v,\n",
    "        num_sites,\n",
    "        block_width,\n",
    "        num_layers,\n",
    "        num_one_sided_iterations,\n",
    "        num_two_sided_iterations,\n",
    "        max_virtual_bond_dim=max_virtual_bond_dim\n",
    "    )\n",
    "\n",
    "    opt.optimise()\n",
    "\n",
    "    optimizer_dict_non_triv_proj_rep[k] = opt\n",
    "\"\"\""
   ]
  },
  {
   "cell_type": "markdown",
   "id": "ba7b6704-fe47-4129-b4f8-7dc59fb599fd",
   "metadata": {},
   "source": [
    "Save results."
   ]
  },
  {
   "cell_type": "code",
   "execution_count": 29,
   "id": "36da2c32-b216-47d5-adeb-83447efeb78d",
   "metadata": {},
   "outputs": [
    {
     "data": {
      "text/plain": [
       "\"\\nwith open(r'solutions/non_trivial_models_triv_proj_rep_brick_sol_30_bond_dim_dict.pkl', 'wb') as file:\\n    pickle.dump(optimizer_dict_triv_proj_rep, file)\\n\""
      ]
     },
     "execution_count": 29,
     "metadata": {},
     "output_type": "execute_result"
    }
   ],
   "source": [
    "\"\"\"\n",
    "with open(r'solutions/non_trivial_models_triv_proj_rep_brick_sol_30_bond_dim_dict.pkl', 'wb') as file:\n",
    "    pickle.dump(optimizer_dict_triv_proj_rep, file)\n",
    "\"\"\""
   ]
  },
  {
   "cell_type": "code",
   "execution_count": 31,
   "id": "6a3d8513-e85d-4e58-83b6-7398e64669d4",
   "metadata": {},
   "outputs": [
    {
     "data": {
      "text/plain": [
       "\"\\nwith open(r'solutions/non_trivial_models_non_triv_proj_rep_brick_sol_30_bond_dim_dict.pkl', 'wb') as file:\\n    pickle.dump(optimizer_dict_non_triv_proj_rep, file)\\n\""
      ]
     },
     "execution_count": 31,
     "metadata": {},
     "output_type": "execute_result"
    }
   ],
   "source": [
    "\"\"\"\n",
    "with open(r'solutions/non_trivial_models_non_triv_proj_rep_brick_sol_30_bond_dim_dict.pkl', 'wb') as file:\n",
    "    pickle.dump(optimizer_dict_non_triv_proj_rep, file)\n",
    "\"\"\""
   ]
  },
  {
   "cell_type": "code",
   "execution_count": 32,
   "id": "6c8b1cd6-1041-4b66-b29b-ffb50545ce4c",
   "metadata": {},
   "outputs": [],
   "source": [
    "with open(r'solutions/non_trivial_models_triv_proj_rep_brick_sol_30_bond_dim_dict.pkl', 'rb') as file:\n",
    "    optimizer_dict_triv_proj_rep = pickle.load(file)\n",
    "\n",
    "with open(r'solutions/non_trivial_models_non_triv_proj_rep_brick_sol_30_bond_dim_dict.pkl', 'rb') as file:\n",
    "    optimizer_dict_non_triv_proj_rep = pickle.load(file)"
   ]
  },
  {
   "cell_type": "markdown",
   "id": "3ca04f85-a118-4783-aefe-6938320a265d",
   "metadata": {},
   "source": [
    "## Expectations"
   ]
  },
  {
   "cell_type": "code",
   "execution_count": 33,
   "id": "89d24ea6-7791-4492-a2b3-8d72d53dc4df",
   "metadata": {},
   "outputs": [],
   "source": [
    "interpolation_values = np.round(np.linspace(0, 1, 21), 3)"
   ]
  },
  {
   "cell_type": "code",
   "execution_count": 34,
   "id": "5ad411c2-46ce-47f5-a667-8d595d0d22d3",
   "metadata": {},
   "outputs": [],
   "source": [
    "final_exps_triv_proj_rep = dict()\n",
    "\n",
    "for k, v in optimizer_dict_triv_proj_rep.items():\n",
    "    final_exp = v.flatten_exps()[-1]\n",
    "    final_exps_triv_proj_rep[k] = final_exp"
   ]
  },
  {
   "cell_type": "code",
   "execution_count": 35,
   "id": "46ab9b83-d7e4-4bec-8f58-9b9826696f92",
   "metadata": {},
   "outputs": [
    {
     "data": {
      "text/plain": [
       "<matplotlib.legend.Legend at 0x302812cd0>"
      ]
     },
     "execution_count": 35,
     "metadata": {},
     "output_type": "execute_result"
    },
    {
     "data": {
      "image/png": "[encoded data removed]",
      "text/plain": [
       "<Figure size 600x400 with 1 Axes>"
      ]
     },
     "metadata": {},
     "output_type": "display_data"
    }
   ],
   "source": [
    "fig, ax = plt.subplots(figsize=(6, 4))\n",
    "\n",
    "for i in range(4):\n",
    "    l = [final_exps_triv_proj_rep[(t, 0, i)] for t in interpolation_values]\n",
    "    ax.plot(interpolation_values, l, label=i)\n",
    "\n",
    "ax.legend()"
   ]
  },
  {
   "cell_type": "code",
   "execution_count": 36,
   "id": "280ae637-e27f-4b49-8b38-7342460cc27c",
   "metadata": {},
   "outputs": [
    {
     "data": {
      "text/plain": [
       "<matplotlib.legend.Legend at 0x32ebc2090>"
      ]
     },
     "execution_count": 36,
     "metadata": {},
     "output_type": "execute_result"
    },
    {
     "data": {
      "image/png": "[encoded data removed]",
      "text/plain": [
       "<Figure size 600x400 with 1 Axes>"
      ]
     },
     "metadata": {},
     "output_type": "display_data"
    }
   ],
   "source": [
    "fig, ax = plt.subplots(figsize=(6, 4))\n",
    "\n",
    "for i in range(4):\n",
    "    l = [final_exps_triv_proj_rep[(t, 1, i)] for t in interpolation_values]\n",
    "    ax.plot(interpolation_values, l, label=i)\n",
    "\n",
    "ax.legend()"
   ]
  },
  {
   "cell_type": "markdown",
   "id": "9c65ef60-fc1d-401a-8aad-2f67d75edc67",
   "metadata": {},
   "source": [
    "The (0, 2) and (1,3) symmetries have the same result, as expected as they have the same action on the state!"
   ]
  },
  {
   "cell_type": "code",
   "execution_count": 37,
   "id": "a374d4d3-6432-4e4c-936f-bd9729c0751c",
   "metadata": {},
   "outputs": [],
   "source": [
    "final_exps_non_triv_proj_rep = dict()\n",
    "\n",
    "for k, v in optimizer_dict_non_triv_proj_rep.items():\n",
    "    final_exp = v.flatten_exps()[-1]\n",
    "    final_exps_non_triv_proj_rep[k] = final_exp"
   ]
  },
  {
   "cell_type": "code",
   "execution_count": 38,
   "id": "c4392eaa-9b0b-4cdf-b260-4a6dbb117a9e",
   "metadata": {},
   "outputs": [
    {
     "data": {
      "text/plain": [
       "<matplotlib.legend.Legend at 0x32e982090>"
      ]
     },
     "execution_count": 38,
     "metadata": {},
     "output_type": "execute_result"
    },
    {
     "data": {
      "image/png": "[encoded data removed]",
      "text/plain": [
       "<Figure size 600x400 with 1 Axes>"
      ]
     },
     "metadata": {},
     "output_type": "display_data"
    }
   ],
   "source": [
    "fig, ax = plt.subplots(figsize=(6, 4))\n",
    "\n",
    "for i in range(4):\n",
    "    l = [final_exps_non_triv_proj_rep[(t, 0, i)] for t in interpolation_values]\n",
    "    ax.plot(interpolation_values, l, label=i)\n",
    "\n",
    "ax.legend()"
   ]
  },
  {
   "cell_type": "code",
   "execution_count": 39,
   "id": "3fd4cff9-f761-44eb-a92e-db7aa0d6830e",
   "metadata": {},
   "outputs": [
    {
     "data": {
      "text/plain": [
       "<matplotlib.legend.Legend at 0x32dfbcc10>"
      ]
     },
     "execution_count": 39,
     "metadata": {},
     "output_type": "execute_result"
    },
    {
     "data": {
      "image/png": "[encoded data removed]",
      "text/plain": [
       "<Figure size 600x400 with 1 Axes>"
      ]
     },
     "metadata": {},
     "output_type": "display_data"
    }
   ],
   "source": [
    "fig, ax = plt.subplots(figsize=(6, 4))\n",
    "\n",
    "for i in range(4):\n",
    "    l = [final_exps_non_triv_proj_rep[(t, 1, i)] for t in interpolation_values]\n",
    "    ax.plot(interpolation_values, l, label=i)\n",
    "\n",
    "ax.legend()"
   ]
  },
  {
   "cell_type": "markdown",
   "id": "6e3b0e76-6a48-4956-926b-a801790ce4dd",
   "metadata": {},
   "source": [
    "Difference with/without the JW string in this case."
   ]
  },
  {
   "cell_type": "code",
   "execution_count": 40,
   "id": "3d9040b9-4982-4282-9fae-e6eb4fd27873",
   "metadata": {},
   "outputs": [
    {
     "data": {
      "text/plain": [
       "[<matplotlib.lines.Line2D at 0x32ec77e10>]"
      ]
     },
     "execution_count": 40,
     "metadata": {},
     "output_type": "execute_result"
    },
    {
     "data": {
      "image/png": "[encoded data removed]",
      "text/plain": [
       "<Figure size 640x480 with 1 Axes>"
      ]
     },
     "metadata": {},
     "output_type": "display_data"
    }
   ],
   "source": [
    "plt.plot(optimizer_dict_triv_proj_rep[(0.55, 1, 1)].flatten_exps())"
   ]
  },
  {
   "cell_type": "code",
   "execution_count": 41,
   "id": "b4ffb016-8a38-4fec-bbcf-0896a0ade82d",
   "metadata": {},
   "outputs": [
    {
     "data": {
      "text/plain": [
       "[<matplotlib.lines.Line2D at 0x32d9bd910>]"
      ]
     },
     "execution_count": 41,
     "metadata": {},
     "output_type": "execute_result"
    },
    {
     "data": {
      "image/png": "[encoded data removed]",
      "text/plain": [
       "<Figure size 640x480 with 1 Axes>"
      ]
     },
     "metadata": {},
     "output_type": "display_data"
    }
   ],
   "source": [
    "plt.plot(optimizer_dict_non_triv_proj_rep[(0.55, 1, 1)].flatten_exps())"
   ]
  },
  {
   "cell_type": "markdown",
   "id": "f1c8d3eb-71da-44ed-991f-992267105cd0",
   "metadata": {},
   "source": [
    "## Fermionic cohomology"
   ]
  },
  {
   "cell_type": "code",
   "execution_count": 42,
   "id": "3294853c-f2b3-4426-a1a5-295ca4ae9bcb",
   "metadata": {},
   "outputs": [],
   "source": [
    "def right_fp_charge(optimizer):\n",
    "    opt = optimizer\n",
    "\n",
    "    base_bs = opt.bottom_right_mps_tensors\n",
    "\n",
    "    fp_bs = list()\n",
    "    \n",
    "    for i, b in enumerate(base_bs):\n",
    "        # Need to update this logic\n",
    "        if i%2:\n",
    "            b_to_add = npc.tensordot(b, npc_JW, [['p',], ['p*',]])\n",
    "        else:\n",
    "            b_to_add = b\n",
    "    \n",
    "        fp_bs.append(b_to_add)\n",
    "\n",
    "    fp_o_bs, _ = multiply_stacked_unitaries_against_mps(\n",
    "        opt.right_unitaries,\n",
    "        fp_bs,\n",
    "        opt.original_right_side_left_schmidt_values,\n",
    "        opt.max_virtual_bond_dim\n",
    "    )\n",
    "\n",
    "    out = inner_product_b_tensors(\n",
    "        fp_o_bs,\n",
    "        fp_bs,\n",
    "        left_environment=opt.right_side_left_symmetry_environment\n",
    "    )\n",
    "\n",
    "    return out"
   ]
  },
  {
   "cell_type": "code",
   "execution_count": 43,
   "id": "44549e56-a4a9-4e50-b582-f20e95cc73a3",
   "metadata": {},
   "outputs": [
    {
     "name": "stderr",
     "output_type": "stream",
     "text": [
      "100%|███████████████████████████████████████████████████████████████████████████████████████████████████████████████████████████████████████████| 168/168 [00:56<00:00,  2.98it/s]\n"
     ]
    }
   ],
   "source": [
    "right_fp_triv_proj_rep_charges = dict()\n",
    "\n",
    "for k, v in tqdm(optimizer_dict_triv_proj_rep.items()):\n",
    "    right_fp_triv_proj_rep_charges[k] = right_fp_charge(v)"
   ]
  },
  {
   "cell_type": "code",
   "execution_count": 44,
   "id": "eafef484-0fb7-497d-9081-b1dc4af27de3",
   "metadata": {},
   "outputs": [
    {
     "name": "stderr",
     "output_type": "stream",
     "text": [
      "100%|███████████████████████████████████████████████████████████████████████████████████████████████████████████████████████████████████████████| 168/168 [01:04<00:00,  2.61it/s]\n"
     ]
    }
   ],
   "source": [
    "right_fp_non_triv_proj_rep_charges = dict()\n",
    "\n",
    "for k, v in tqdm(optimizer_dict_non_triv_proj_rep.items()):\n",
    "    right_fp_non_triv_proj_rep_charges[k] = right_fp_charge(v)"
   ]
  },
  {
   "cell_type": "code",
   "execution_count": 45,
   "id": "44c45c60-eb93-4e3f-a6ea-bccae7b704bf",
   "metadata": {},
   "outputs": [],
   "source": [
    "right_fp_triv_proj_rep_charges_list = list()\n",
    "\n",
    "for t in interpolation_values:\n",
    "    l0 = [right_fp_triv_proj_rep_charges[(t,0,i)] for i in range(4)]\n",
    "    l1 = [right_fp_triv_proj_rep_charges[(t,1,i)] for i in range(4)]\n",
    "    \n",
    "    right_fp_triv_proj_rep_charges_list.append([l0, l1])\n",
    "\n",
    "right_fp_triv_proj_rep_charges_array = np.array(right_fp_triv_proj_rep_charges_list)"
   ]
  },
  {
   "cell_type": "code",
   "execution_count": 46,
   "id": "95c4ea68-cd84-414f-8c3a-f4d931111926",
   "metadata": {},
   "outputs": [
    {
     "data": {
      "text/plain": [
       "array([[[ 1.  , -1.  ,  1.  , -1.  ],\n",
       "        [ 1.  , -1.  ,  1.  , -1.  ]],\n",
       "\n",
       "       [[ 1.  , -1.  ,  1.  , -1.  ],\n",
       "        [ 1.  , -1.  ,  1.  , -1.  ]],\n",
       "\n",
       "       [[ 1.  , -1.  ,  1.  , -1.  ],\n",
       "        [ 1.  , -1.  ,  1.  , -1.  ]],\n",
       "\n",
       "       [[ 1.  , -1.  ,  1.  , -1.  ],\n",
       "        [ 1.  , -1.  ,  1.  , -1.  ]],\n",
       "\n",
       "       [[ 1.  , -0.99,  1.  , -0.99],\n",
       "        [ 1.  , -0.99,  1.  , -0.99]],\n",
       "\n",
       "       [[ 1.  , -0.99,  1.  , -0.99],\n",
       "        [ 1.  , -0.99,  1.  , -0.99]],\n",
       "\n",
       "       [[ 1.  , -0.97,  1.  , -0.97],\n",
       "        [ 1.  , -0.97,  1.  , -0.97]],\n",
       "\n",
       "       [[ 1.  , -0.95,  1.  , -0.95],\n",
       "        [ 0.99, -0.95,  0.99, -0.95]],\n",
       "\n",
       "       [[ 1.  , -0.89,  1.  , -0.89],\n",
       "        [ 0.98, -0.89,  0.98, -0.89]],\n",
       "\n",
       "       [[ 1.  , -0.7 ,  1.  , -0.7 ],\n",
       "        [ 0.95, -0.69,  0.95, -0.69]],\n",
       "\n",
       "       [[ 1.  ,  0.  ,  1.  ,  0.  ],\n",
       "        [ 0.99,  0.  ,  0.99,  0.  ]],\n",
       "\n",
       "       [[ 1.  ,  0.74,  1.  ,  0.74],\n",
       "        [ 0.97,  0.74,  0.97,  0.74]],\n",
       "\n",
       "       [[ 1.  ,  0.93,  1.  ,  0.93],\n",
       "        [ 1.  ,  0.93,  1.  ,  0.93]],\n",
       "\n",
       "       [[ 1.  ,  0.97,  1.  ,  0.97],\n",
       "        [ 1.  ,  0.97,  1.  ,  0.97]],\n",
       "\n",
       "       [[ 1.  ,  0.99,  1.  ,  0.99],\n",
       "        [ 1.  ,  0.99,  1.  ,  0.99]],\n",
       "\n",
       "       [[ 1.  ,  0.99,  1.  ,  0.99],\n",
       "        [ 1.  ,  0.99,  1.  ,  0.99]],\n",
       "\n",
       "       [[ 1.  ,  1.  ,  1.  ,  1.  ],\n",
       "        [ 1.  ,  1.  ,  1.  ,  1.  ]],\n",
       "\n",
       "       [[ 1.  ,  1.  ,  1.  ,  1.  ],\n",
       "        [ 1.  ,  1.  ,  1.  ,  1.  ]],\n",
       "\n",
       "       [[ 1.  ,  1.  ,  1.  ,  1.  ],\n",
       "        [ 1.  ,  1.  ,  1.  ,  1.  ]],\n",
       "\n",
       "       [[ 1.  ,  1.  ,  1.  ,  1.  ],\n",
       "        [ 1.  ,  1.  ,  1.  ,  1.  ]],\n",
       "\n",
       "       [[ 1.  ,  1.  ,  1.  ,  1.  ],\n",
       "        [ 1.  ,  1.  ,  1.  ,  1.  ]]])"
      ]
     },
     "execution_count": 46,
     "metadata": {},
     "output_type": "execute_result"
    }
   ],
   "source": [
    "np.real(np.round(right_fp_triv_proj_rep_charges_array, 2))"
   ]
  },
  {
   "cell_type": "code",
   "execution_count": 47,
   "id": "ecf58797-4074-4776-841d-4e5e27c64bfd",
   "metadata": {},
   "outputs": [],
   "source": [
    "right_fp_non_triv_proj_rep_charges_list = list()\n",
    "\n",
    "for t in interpolation_values:\n",
    "    l0 = [right_fp_non_triv_proj_rep_charges[(t,0,i)] for i in range(4)]\n",
    "    l1 = [right_fp_non_triv_proj_rep_charges[(t,1,i)] for i in range(4)]\n",
    "    \n",
    "    right_fp_non_triv_proj_rep_charges_list.append([l0, l1])\n",
    "\n",
    "right_fp_non_triv_proj_rep_charges_array = np.array(right_fp_non_triv_proj_rep_charges_list)"
   ]
  },
  {
   "cell_type": "code",
   "execution_count": 48,
   "id": "b4f4b66c-6c1a-46fe-914d-a5c363042b98",
   "metadata": {},
   "outputs": [
    {
     "data": {
      "text/plain": [
       "array([[[ 1.  ,  1.  , -1.  , -1.  ],\n",
       "        [ 1.  ,  1.  , -1.  , -1.  ]],\n",
       "\n",
       "       [[ 1.  ,  1.  , -1.  , -1.  ],\n",
       "        [ 1.  ,  1.  , -1.  , -1.  ]],\n",
       "\n",
       "       [[ 1.  ,  1.  , -1.  , -1.  ],\n",
       "        [ 1.  ,  1.  , -1.  , -1.  ]],\n",
       "\n",
       "       [[ 1.  ,  1.  , -1.  , -1.  ],\n",
       "        [ 1.  ,  1.  , -1.  , -1.  ]],\n",
       "\n",
       "       [[ 1.  ,  0.99, -0.99, -1.  ],\n",
       "        [ 1.  ,  1.  , -0.99, -1.  ]],\n",
       "\n",
       "       [[ 1.  ,  0.99, -0.99, -0.99],\n",
       "        [ 1.  ,  0.99, -0.99, -1.  ]],\n",
       "\n",
       "       [[ 1.  ,  0.98, -0.98, -0.99],\n",
       "        [ 0.99,  0.98, -0.98, -0.99]],\n",
       "\n",
       "       [[ 1.  ,  0.97, -0.96, -0.99],\n",
       "        [ 0.99,  0.93, -0.96, -0.99]],\n",
       "\n",
       "       [[ 1.  ,  0.92, -0.92, -0.98],\n",
       "        [ 0.97,  0.91, -0.94, -0.99]],\n",
       "\n",
       "       [[ 1.  ,  0.79, -0.84, -0.97],\n",
       "        [ 0.95,  0.82, -0.84, -0.95]],\n",
       "\n",
       "       [[ 1.  ,  0.  , -0.  , -0.95],\n",
       "        [ 0.95,  0.  , -0.  , -0.97]],\n",
       "\n",
       "       [[ 1.  , -0.92,  0.92, -0.94],\n",
       "        [ 0.95, -0.91,  0.91, -0.97]],\n",
       "\n",
       "       [[ 1.  , -0.97,  0.97, -0.97],\n",
       "        [ 0.97, -0.96,  0.96, -0.98]],\n",
       "\n",
       "       [[ 1.  , -0.98,  0.99, -0.98],\n",
       "        [ 0.99, -0.98,  0.98, -0.99]],\n",
       "\n",
       "       [[ 1.  , -0.99,  0.99, -0.99],\n",
       "        [ 0.99, -0.99,  0.99, -0.99]],\n",
       "\n",
       "       [[ 1.  , -1.  ,  1.  , -1.  ],\n",
       "        [ 1.  , -0.99,  0.99, -1.  ]],\n",
       "\n",
       "       [[ 1.  , -1.  ,  1.  , -1.  ],\n",
       "        [ 1.  , -1.  ,  1.  , -1.  ]],\n",
       "\n",
       "       [[ 1.  , -1.  ,  1.  , -1.  ],\n",
       "        [ 1.  , -1.  ,  1.  , -1.  ]],\n",
       "\n",
       "       [[ 1.  , -1.  ,  1.  , -1.  ],\n",
       "        [ 1.  , -1.  ,  1.  , -1.  ]],\n",
       "\n",
       "       [[ 1.  , -1.  ,  1.  , -1.  ],\n",
       "        [ 1.  , -1.  ,  1.  , -1.  ]],\n",
       "\n",
       "       [[ 1.  , -1.  ,  1.  , -1.  ],\n",
       "        [ 1.  , -1.  ,  1.  , -1.  ]]])"
      ]
     },
     "execution_count": 48,
     "metadata": {},
     "output_type": "execute_result"
    }
   ],
   "source": [
    "np.real(np.round(right_fp_non_triv_proj_rep_charges_array, 2))"
   ]
  },
  {
   "cell_type": "markdown",
   "id": "696d9c21-65f9-4eef-b6c8-f3cb86a95a4e",
   "metadata": {},
   "source": [
    "Looks good!"
   ]
  },
  {
   "cell_type": "markdown",
   "id": "e0fec070-802f-4a09-bad5-7a565cc67400",
   "metadata": {},
   "source": [
    "## Extract phases"
   ]
  },
  {
   "cell_type": "code",
   "execution_count": 49,
   "id": "7ada020f-cec3-48c7-be6c-0c0f59830abc",
   "metadata": {},
   "outputs": [],
   "source": [
    "right_fp_triv_proj_rep_charges_dict = dict()\n",
    "\n",
    "for i, t in enumerate(interpolation_values):\n",
    "    for j in range(4):\n",
    "        charge = right_fp_triv_proj_rep_charges_array[i, 0, j]\n",
    "        sign_charge = 1 if charge > 0 else -1\n",
    "    \n",
    "        right_fp_triv_proj_rep_charges_dict[(t, j)] = sign_charge"
   ]
  },
  {
   "cell_type": "code",
   "execution_count": 50,
   "id": "e3cba160-5a5e-49c2-a342-9b3bef10b3a2",
   "metadata": {},
   "outputs": [],
   "source": [
    "right_fp_non_triv_proj_rep_charges_dict = dict()\n",
    "\n",
    "for i, t in enumerate(interpolation_values):\n",
    "    for j in range(4):\n",
    "        charge = right_fp_non_triv_proj_rep_charges_array[i, 0, j]\n",
    "        sign_charge = 1 if charge > 0 else -1\n",
    "    \n",
    "        right_fp_non_triv_proj_rep_charges_dict[(t, j)] = sign_charge"
   ]
  },
  {
   "cell_type": "markdown",
   "id": "c2f90cde-04b0-4c86-98c7-2867f18a2dfc",
   "metadata": {},
   "source": [
    "## Left side"
   ]
  },
  {
   "cell_type": "code",
   "execution_count": 51,
   "id": "60d2ea7d-bbf1-4b14-abdc-298553839a2b",
   "metadata": {},
   "outputs": [],
   "source": [
    "def left_fp_charge(optimizer):\n",
    "    opt = optimizer\n",
    "\n",
    "    base_bs = opt.bottom_left_mps_tensors\n",
    "\n",
    "    fp_bs = list()\n",
    "    \n",
    "    for i, b in enumerate(base_bs):\n",
    "        # Need to update this logic\n",
    "        if (i%2 == 0):\n",
    "            b_to_add = npc.tensordot(b, npc_JW, [['p',], ['p*',]])\n",
    "        else:\n",
    "            b_to_add = b\n",
    "    \n",
    "        fp_bs.append(b_to_add)\n",
    "\n",
    "    fp_o_bs, _ = multiply_stacked_unitaries_against_mps(\n",
    "        opt.left_unitaries,\n",
    "        fp_bs,\n",
    "        opt.original_left_side_right_schmidt_values,\n",
    "        opt.max_virtual_bond_dim\n",
    "    )\n",
    "\n",
    "    out = inner_product_b_tensors(\n",
    "        fp_o_bs,\n",
    "        fp_bs,\n",
    "        left_environment=opt.left_side_right_symmetry_environment\n",
    "    )\n",
    "\n",
    "    return out"
   ]
  },
  {
   "cell_type": "code",
   "execution_count": 52,
   "id": "d81ddb6d-6b94-462e-8384-64d77a0d7bc2",
   "metadata": {},
   "outputs": [
    {
     "name": "stderr",
     "output_type": "stream",
     "text": [
      "100%|███████████████████████████████████████████████████████████████████████████████████████████████████████████████████████████████████████████| 168/168 [00:43<00:00,  3.90it/s]\n"
     ]
    }
   ],
   "source": [
    "left_fp_triv_proj_rep_charges = dict()\n",
    "\n",
    "for k, v in tqdm(optimizer_dict_triv_proj_rep.items()):\n",
    "    left_fp_triv_proj_rep_charges[k] = left_fp_charge(v)"
   ]
  },
  {
   "cell_type": "code",
   "execution_count": 53,
   "id": "e4470248-ce0a-4089-8620-352fe06d947b",
   "metadata": {},
   "outputs": [
    {
     "name": "stderr",
     "output_type": "stream",
     "text": [
      "100%|███████████████████████████████████████████████████████████████████████████████████████████████████████████████████████████████████████████| 168/168 [00:49<00:00,  3.40it/s]\n"
     ]
    }
   ],
   "source": [
    "left_fp_non_triv_proj_rep_charges = dict()\n",
    "\n",
    "for k, v in tqdm(optimizer_dict_non_triv_proj_rep.items()):\n",
    "    left_fp_non_triv_proj_rep_charges[k] = left_fp_charge(v)"
   ]
  },
  {
   "cell_type": "code",
   "execution_count": 54,
   "id": "9aee878e-47f2-4e4e-90ac-f5a4a0072cfc",
   "metadata": {},
   "outputs": [],
   "source": [
    "left_fp_triv_proj_rep_charges_list = list()\n",
    "\n",
    "for t in interpolation_values:\n",
    "    l0 = [left_fp_triv_proj_rep_charges[(t,0,i)] for i in range(4)]\n",
    "    l1 = [left_fp_triv_proj_rep_charges[(t,1,i)] for i in range(4)]\n",
    "    \n",
    "    left_fp_triv_proj_rep_charges_list.append([l0, l1])\n",
    "\n",
    "left_fp_triv_proj_rep_charges_array = np.array(left_fp_triv_proj_rep_charges_list)"
   ]
  },
  {
   "cell_type": "code",
   "execution_count": 55,
   "id": "8dc54f7d-d219-4659-a216-eedc3e5b68c0",
   "metadata": {},
   "outputs": [],
   "source": [
    "left_fp_non_triv_proj_rep_charges_list = list()\n",
    "\n",
    "for t in interpolation_values:\n",
    "    l0 = [left_fp_non_triv_proj_rep_charges[(t,0,i)] for i in range(4)]\n",
    "    l1 = [left_fp_non_triv_proj_rep_charges[(t,1,i)] for i in range(4)]\n",
    "    \n",
    "    left_fp_non_triv_proj_rep_charges_list.append([l0, l1])\n",
    "\n",
    "left_fp_non_triv_proj_rep_charges_array = np.array(left_fp_non_triv_proj_rep_charges_list)"
   ]
  },
  {
   "cell_type": "code",
   "execution_count": 56,
   "id": "7e7ff6ab-ce4a-43b3-9ac3-501c4df229c4",
   "metadata": {},
   "outputs": [],
   "source": [
    "left_fp_triv_proj_rep_charges_dict = dict()\n",
    "\n",
    "for i, t in enumerate(interpolation_values):\n",
    "    for j in range(4):\n",
    "        charge = left_fp_triv_proj_rep_charges_array[i, 0, j]\n",
    "        sign_charge = 1 if charge > 0 else -1\n",
    "    \n",
    "        left_fp_triv_proj_rep_charges_dict[(t, j)] = sign_charge"
   ]
  },
  {
   "cell_type": "code",
   "execution_count": 57,
   "id": "f4b6b42e-350e-4959-8dae-1731ea61755d",
   "metadata": {},
   "outputs": [],
   "source": [
    "left_fp_non_triv_proj_rep_charges_dict = dict()\n",
    "\n",
    "for i, t in enumerate(interpolation_values):\n",
    "    for j in range(4):\n",
    "        charge = left_fp_non_triv_proj_rep_charges_array[i, 0, j]\n",
    "        sign_charge = 1 if charge > 0 else -1\n",
    "    \n",
    "        left_fp_non_triv_proj_rep_charges_dict[(t, j)] = sign_charge"
   ]
  },
  {
   "cell_type": "code",
   "execution_count": 58,
   "id": "a610d50e-1462-4879-82f2-0b96c040122b",
   "metadata": {},
   "outputs": [
    {
     "data": {
      "text/plain": [
       "(True, True)"
      ]
     },
     "execution_count": 58,
     "metadata": {},
     "output_type": "execute_result"
    }
   ],
   "source": [
    "(\n",
    "    left_fp_triv_proj_rep_charges_dict == right_fp_triv_proj_rep_charges_dict,\n",
    "    left_fp_non_triv_proj_rep_charges_dict == right_fp_non_triv_proj_rep_charges_dict\n",
    ")"
   ]
  },
  {
   "cell_type": "markdown",
   "id": "60a0f11a-a05b-4fe0-985d-994bf6295b34",
   "metadata": {},
   "source": [
    "Great, they agree so we only need one going forward."
   ]
  },
  {
   "cell_type": "markdown",
   "id": "bcc644c2-d4df-4c09-93d1-06dff9b7216b",
   "metadata": {},
   "source": [
    "# Calculate proj reps"
   ]
  },
  {
   "cell_type": "markdown",
   "id": "9a489bd4-0cee-4b98-8600-9edd34eb3308",
   "metadata": {},
   "source": [
    "Give a wavefunction, calculate proj rep."
   ]
  },
  {
   "cell_type": "markdown",
   "id": "d9b7253b-e02a-46f7-9f02-3a6635898de3",
   "metadata": {},
   "source": [
    "## SPT functions"
   ]
  },
  {
   "cell_type": "code",
   "execution_count": 59,
   "id": "08ce0827-cbc3-4e55-8ac1-4eedc638e598",
   "metadata": {},
   "outputs": [],
   "source": [
    "def calculate_proj_rep_phase(state_g, left_schmidt_values_g, unitary_h,\n",
    "                             state_gh,\n",
    "                             left_environment,\n",
    "                             max_virtual_bond_dim=MAX_VIRTUAL_BOND_DIM):\n",
    "    prod_state, _ = multiply_stacked_unitaries_against_mps(\n",
    "        unitary_h,\n",
    "        state_g,\n",
    "        left_schmidt_values_g,\n",
    "        max_virtual_bond_dim\n",
    "    )\n",
    "\n",
    "    exp = inner_product_b_tensors(prod_state, state_gh, left_environment)\n",
    "\n",
    "    return exp/(np.abs(exp))"
   ]
  },
  {
   "cell_type": "code",
   "execution_count": 60,
   "id": "c70d9c69-1835-424f-8c10-cb95ae528bae",
   "metadata": {},
   "outputs": [],
   "source": [
    "def get_proj_rep_phases(mps_tensors, left_schmidt_values, unitaries,\n",
    "                        left_environment):\n",
    "    mps_dict = {\n",
    "        k: v for k, v in zip(symmetry_labels[1:], mps_tensors)\n",
    "    }\n",
    "\n",
    "    schmidt_vals_dict = {\n",
    "        k: v for k, v in zip(symmetry_labels[1:], left_schmidt_values)\n",
    "    }\n",
    "\n",
    "    unitaries_dict = {\n",
    "        k: v for k, v in zip(symmetry_labels[1:], unitaries)\n",
    "    }\n",
    "\n",
    "    out_phases = list()\n",
    "\n",
    "    for a, b, c in group_products:\n",
    "        phase = calculate_proj_rep_phase(\n",
    "            mps_dict[a],\n",
    "            schmidt_vals_dict[a],\n",
    "            unitaries_dict[b],\n",
    "            mps_dict[c],\n",
    "            left_environment,\n",
    "            max_virtual_bond_dim=MAX_VIRTUAL_BOND_DIM\n",
    "        )\n",
    "\n",
    "        out_phases.append(phase)\n",
    "\n",
    "    return out_phases"
   ]
  },
  {
   "cell_type": "code",
   "execution_count": 61,
   "id": "b40284a8-1f34-4211-a005-eb880a846972",
   "metadata": {},
   "outputs": [],
   "source": [
    "def get_right_proj_rep_phases_from_optimizers(optimizers):\n",
    "    mps_tensors = [\n",
    "        o.top_right_mps_tensors\n",
    "        for o in optimizers[1:]\n",
    "    ]\n",
    "\n",
    "    left_schmidt_values = [\n",
    "        o.current_right_side_left_schmidt_values\n",
    "        for o in optimizers[1:]\n",
    "    ]\n",
    "\n",
    "    unitaries = [\n",
    "        o.right_unitaries for o in optimizers[1:]\n",
    "    ]\n",
    "\n",
    "    left_environment = optimizers[0].right_side_left_symmetry_environment\n",
    "\n",
    "    out = get_proj_rep_phases(\n",
    "        mps_tensors,\n",
    "        left_schmidt_values,\n",
    "        unitaries,\n",
    "        left_environment\n",
    "    )\n",
    "\n",
    "    return out"
   ]
  },
  {
   "cell_type": "code",
   "execution_count": 81,
   "id": "1d8841a9-e8fd-441e-a997-cc5c3433de4c",
   "metadata": {},
   "outputs": [],
   "source": [
    "def get_left_proj_rep_phases_from_optimizers(optimizers):\n",
    "    mps_tensors = [\n",
    "        o.top_left_mps_tensors\n",
    "        for o in optimizers[1:]\n",
    "    ]\n",
    "\n",
    "    left_schmidt_values = [\n",
    "        o.current_left_side_right_schmidt_values\n",
    "        for o in optimizers[1:]\n",
    "    ]\n",
    "\n",
    "    unitaries = [\n",
    "        o.left_unitaries for o in optimizers[1:]\n",
    "    ]\n",
    "\n",
    "    left_environment = optimizers[0].left_side_right_symmetry_environment\n",
    "\n",
    "    out = get_proj_rep_phases(\n",
    "        mps_tensors,\n",
    "        left_schmidt_values,\n",
    "        unitaries,\n",
    "        left_environment\n",
    "    )\n",
    "\n",
    "    return out"
   ]
  },
  {
   "cell_type": "markdown",
   "id": "86260bdd-abdb-4ae4-9352-6bac42373cd5",
   "metadata": {},
   "source": [
    "## Group data definitions"
   ]
  },
  {
   "cell_type": "code",
   "execution_count": 62,
   "id": "23e62c10-6c32-4ee4-9cde-ac7f05c69d7f",
   "metadata": {},
   "outputs": [],
   "source": [
    "from itertools import combinations"
   ]
  },
  {
   "cell_type": "code",
   "execution_count": 63,
   "id": "10721838-5776-4da8-9618-01dd30494f13",
   "metadata": {},
   "outputs": [],
   "source": [
    "symmetry_labels = [\n",
    "    'II',\n",
    "    'IX',\n",
    "    'XI',\n",
    "    'XX'\n",
    "]"
   ]
  },
  {
   "cell_type": "code",
   "execution_count": 64,
   "id": "d1cd215b-c62c-405e-9adc-9a97db7142e2",
   "metadata": {},
   "outputs": [],
   "source": [
    "symmetry_combination_labels = list(combinations(symmetry_labels, 2))"
   ]
  },
  {
   "cell_type": "code",
   "execution_count": 65,
   "id": "45a081ff-eb82-4ff5-9700-55f11824f366",
   "metadata": {},
   "outputs": [
    {
     "data": {
      "text/plain": [
       "[('II', 'IX'),\n",
       " ('II', 'XI'),\n",
       " ('II', 'XX'),\n",
       " ('IX', 'XI'),\n",
       " ('IX', 'XX'),\n",
       " ('XI', 'XX')]"
      ]
     },
     "execution_count": 65,
     "metadata": {},
     "output_type": "execute_result"
    }
   ],
   "source": [
    "symmetry_combination_labels"
   ]
  },
  {
   "cell_type": "code",
   "execution_count": 66,
   "id": "aab20cf0-ae51-4603-9192-5ba0741b6a6d",
   "metadata": {},
   "outputs": [],
   "source": [
    "e, a, b, c = symmetry_labels"
   ]
  },
  {
   "cell_type": "code",
   "execution_count": 67,
   "id": "955bfb99-9c73-4794-b14e-f62f7872abe5",
   "metadata": {},
   "outputs": [],
   "source": [
    "group_products = [\n",
    "    (a, b, c),\n",
    "    (b, a, c),\n",
    "    (a, c, b),\n",
    "    (c, a, b),\n",
    "    (c, b, a),\n",
    "    (b, c, a)\n",
    "]"
   ]
  },
  {
   "cell_type": "markdown",
   "id": "4cd0b672-56e5-4d1c-9161-ba5fa4e17ae7",
   "metadata": {},
   "source": [
    "# Calculate proj reps"
   ]
  },
  {
   "cell_type": "markdown",
   "id": "5229edb6-7ad8-4c83-b47e-3d90a035a191",
   "metadata": {},
   "source": [
    "## Right side"
   ]
  },
  {
   "cell_type": "code",
   "execution_count": 68,
   "id": "ad73bb12-985d-4669-8161-a0c782ad7d52",
   "metadata": {},
   "outputs": [],
   "source": [
    "right_triv_proj_rep_phases = list()\n",
    "\n",
    "for t in interpolation_values:\n",
    "    optimizers = list()\n",
    "    for j in range(4):\n",
    "        jw_phase = right_fp_triv_proj_rep_charges_dict[(t, j)]\n",
    "        jw = 1 if jw_phase < 0 else 0\n",
    "\n",
    "        opt = optimizer_dict_triv_proj_rep[(t, jw, j)]\n",
    "\n",
    "        optimizers.append(opt)\n",
    "\n",
    "    phases = get_right_proj_rep_phases_from_optimizers(optimizers)\n",
    "\n",
    "    right_triv_proj_rep_phases.append(phases)\n",
    "\n",
    "right_triv_proj_rep_phases = np.array(right_triv_proj_rep_phases)"
   ]
  },
  {
   "cell_type": "code",
   "execution_count": 69,
   "id": "a9b80ab4-ac85-4eb7-ab11-3f46e4fce49d",
   "metadata": {},
   "outputs": [
    {
     "data": {
      "text/plain": [
       "(21, 6)"
      ]
     },
     "execution_count": 69,
     "metadata": {},
     "output_type": "execute_result"
    }
   ],
   "source": [
    "right_triv_proj_rep_phases.shape"
   ]
  },
  {
   "cell_type": "code",
   "execution_count": 70,
   "id": "218e6e4f-4771-415e-8e0c-e87e013d3583",
   "metadata": {},
   "outputs": [
    {
     "data": {
      "text/plain": [
       "array([[ 1.+0.j,  1.+0.j, -1.+0.j, -1.+0.j,  1.+0.j,  1.+0.j],\n",
       "       [ 1.+0.j,  1.+0.j, -1.+0.j, -1.+0.j,  1.+0.j,  1.+0.j],\n",
       "       [ 1.+0.j,  1.+0.j, -1.+0.j, -1.+0.j,  1.+0.j,  1.+0.j],\n",
       "       [ 1.+0.j,  1.+0.j, -1.+0.j, -1.+0.j,  1.+0.j,  1.+0.j],\n",
       "       [ 1.+0.j,  1.+0.j, -1.+0.j, -1.+0.j,  1.+0.j,  1.+0.j],\n",
       "       [-1.+0.j, -1.+0.j,  1.+0.j,  1.+0.j, -1.+0.j, -1.+0.j],\n",
       "       [ 1.+0.j,  1.+0.j, -1.+0.j, -1.+0.j,  1.+0.j,  1.+0.j],\n",
       "       [ 1.+0.j,  1.+0.j, -1.+0.j, -1.+0.j,  1.+0.j,  1.+0.j],\n",
       "       [-1.+0.j, -1.+0.j,  1.+0.j,  1.+0.j, -1.+0.j, -1.+0.j],\n",
       "       [ 1.+0.j,  1.+0.j, -1.+0.j, -1.+0.j,  1.+0.j,  1.+0.j],\n",
       "       [ 1.+0.j,  1.+0.j,  1.+0.j,  1.+0.j,  1.+0.j,  1.+0.j],\n",
       "       [ 1.+0.j,  1.+0.j,  1.+0.j,  1.+0.j,  1.+0.j,  1.+0.j],\n",
       "       [ 1.+0.j,  1.+0.j,  1.+0.j,  1.+0.j,  1.+0.j,  1.+0.j],\n",
       "       [ 1.+0.j,  1.+0.j,  1.+0.j,  1.+0.j,  1.+0.j,  1.+0.j],\n",
       "       [ 1.+0.j,  1.+0.j,  1.+0.j,  1.+0.j,  1.+0.j,  1.+0.j],\n",
       "       [ 1.+0.j,  1.+0.j,  1.+0.j,  1.+0.j,  1.+0.j,  1.+0.j],\n",
       "       [ 1.+0.j,  1.+0.j,  1.+0.j,  1.+0.j,  1.+0.j,  1.+0.j],\n",
       "       [ 1.+0.j,  1.+0.j,  1.+0.j,  1.+0.j,  1.+0.j,  1.+0.j],\n",
       "       [ 1.+0.j,  1.+0.j,  1.+0.j,  1.+0.j,  1.+0.j,  1.+0.j],\n",
       "       [ 1.+0.j,  1.+0.j,  1.+0.j,  1.+0.j,  1.+0.j,  1.+0.j],\n",
       "       [ 1.+0.j,  1.+0.j,  1.+0.j,  1.+0.j,  1.+0.j,  1.+0.j]])"
      ]
     },
     "execution_count": 70,
     "metadata": {},
     "output_type": "execute_result"
    }
   ],
   "source": [
    "right_triv_proj_rep_phases"
   ]
  },
  {
   "cell_type": "code",
   "execution_count": 71,
   "id": "00eebb42-5507-413c-b57a-3f6117932bc5",
   "metadata": {},
   "outputs": [
    {
     "data": {
      "text/plain": [
       "array([[1.+0.j, 1.-0.j, 1.+0.j],\n",
       "       [1.+0.j, 1.-0.j, 1.+0.j],\n",
       "       [1.+0.j, 1.-0.j, 1.+0.j],\n",
       "       [1.+0.j, 1.-0.j, 1.+0.j],\n",
       "       [1.+0.j, 1.-0.j, 1.+0.j],\n",
       "       [1.-0.j, 1.+0.j, 1.-0.j],\n",
       "       [1.+0.j, 1.-0.j, 1.+0.j],\n",
       "       [1.+0.j, 1.-0.j, 1.+0.j],\n",
       "       [1.-0.j, 1.+0.j, 1.-0.j],\n",
       "       [1.+0.j, 1.-0.j, 1.+0.j],\n",
       "       [1.+0.j, 1.+0.j, 1.+0.j],\n",
       "       [1.+0.j, 1.+0.j, 1.+0.j],\n",
       "       [1.+0.j, 1.+0.j, 1.+0.j],\n",
       "       [1.+0.j, 1.+0.j, 1.+0.j],\n",
       "       [1.+0.j, 1.+0.j, 1.+0.j],\n",
       "       [1.+0.j, 1.+0.j, 1.+0.j],\n",
       "       [1.+0.j, 1.+0.j, 1.+0.j],\n",
       "       [1.+0.j, 1.+0.j, 1.+0.j],\n",
       "       [1.+0.j, 1.+0.j, 1.+0.j],\n",
       "       [1.+0.j, 1.+0.j, 1.+0.j],\n",
       "       [1.+0.j, 1.+0.j, 1.+0.j]])"
      ]
     },
     "execution_count": 71,
     "metadata": {},
     "output_type": "execute_result"
    }
   ],
   "source": [
    "right_triv_proj_rep_phases[:, ::2]/right_triv_proj_rep_phases[:, 1::2]"
   ]
  },
  {
   "cell_type": "code",
   "execution_count": 72,
   "id": "a929ceee-239a-436a-93ba-24dffce162ca",
   "metadata": {},
   "outputs": [],
   "source": [
    "right_non_triv_proj_rep_phases = list()\n",
    "\n",
    "for t in interpolation_values:\n",
    "    optimizers = list()\n",
    "    for j in range(4):\n",
    "        jw_phase = right_fp_non_triv_proj_rep_charges_dict[(t, j)]\n",
    "        jw = 1 if jw_phase < 0 else 0\n",
    "\n",
    "        opt = optimizer_dict_non_triv_proj_rep[(t, jw, j)]\n",
    "\n",
    "        optimizers.append(opt)\n",
    "\n",
    "    phases = get_right_proj_rep_phases_from_optimizers(optimizers)\n",
    "\n",
    "    right_non_triv_proj_rep_phases.append(phases)\n",
    "\n",
    "right_non_triv_proj_rep_phases = np.array(right_non_triv_proj_rep_phases)"
   ]
  },
  {
   "cell_type": "code",
   "execution_count": 73,
   "id": "15fcb52b-811e-4570-aaad-0b866b7e65db",
   "metadata": {},
   "outputs": [
    {
     "data": {
      "text/plain": [
       "(21, 6)"
      ]
     },
     "execution_count": 73,
     "metadata": {},
     "output_type": "execute_result"
    }
   ],
   "source": [
    "right_non_triv_proj_rep_phases.shape"
   ]
  },
  {
   "cell_type": "code",
   "execution_count": 76,
   "id": "bd972c5d-7d45-458b-b249-85a881e1c1bc",
   "metadata": {},
   "outputs": [
    {
     "data": {
      "text/plain": [
       "array([[ 0.02+1.j  , -0.02-1.j  , -0.02-1.j  ,  0.02+1.j  ,  0.02-1.j  ,\n",
       "        -0.02+1.j  ],\n",
       "       [ 0.  -1.j  , -0.  +1.j  ,  0.  +1.j  , -0.  -1.j  , -0.  +1.j  ,\n",
       "         0.  -1.j  ],\n",
       "       [-0.01+1.j  ,  0.01-1.j  ,  0.  -1.j  , -0.  +1.j  , -0.  -1.j  ,\n",
       "         0.  +1.j  ],\n",
       "       [ 0.  -1.j  , -0.  +1.j  , -0.  +1.j  ,  0.  -1.j  , -0.  +1.j  ,\n",
       "         0.  -1.j  ],\n",
       "       [ 0.  -1.j  , -0.  +1.j  ,  0.  +1.j  , -0.  -1.j  ,  0.  +1.j  ,\n",
       "        -0.  -1.j  ],\n",
       "       [ 0.01-1.j  , -0.01+1.j  ,  0.  +1.j  , -0.  -1.j  , -0.  +1.j  ,\n",
       "         0.  -1.j  ],\n",
       "       [ 0.  -1.j  , -0.  +1.j  ,  0.  +1.j  , -0.  -1.j  , -0.  +1.j  ,\n",
       "         0.  -1.j  ],\n",
       "       [ 0.  +1.j  , -0.  -1.j  , -0.  -1.j  ,  0.  +1.j  ,  0.  -1.j  ,\n",
       "        -0.  +1.j  ],\n",
       "       [ 0.01-1.j  , -0.01+1.j  ,  0.01+1.j  , -0.01-1.j  , -0.01+1.j  ,\n",
       "         0.01-1.j  ],\n",
       "       [-0.  -1.j  ,  0.  +1.j  , -0.  +1.j  ,  0.  -1.j  , -0.  +1.j  ,\n",
       "         0.  -1.j  ],\n",
       "       [-0.  -1.j  , -0.  +1.j  , -0.  +1.j  , -0.  -1.j  , -0.  +1.j  ,\n",
       "        -0.  -1.j  ],\n",
       "       [ 1.  -0.j  ,  1.  -0.j  ,  1.  -0.j  ,  1.  -0.j  ,  1.  +0.j  ,\n",
       "         1.  +0.j  ],\n",
       "       [ 1.  -0.j  ,  1.  -0.j  ,  1.  +0.j  ,  1.  +0.j  ,  1.  +0.j  ,\n",
       "         1.  +0.j  ],\n",
       "       [ 1.  -0.j  ,  1.  -0.j  ,  1.  +0.j  ,  1.  +0.j  ,  1.  -0.j  ,\n",
       "         1.  -0.j  ],\n",
       "       [ 1.  -0.j  ,  1.  -0.j  ,  1.  -0.j  ,  1.  -0.j  ,  1.  -0.j  ,\n",
       "         1.  -0.j  ],\n",
       "       [ 1.  -0.j  ,  1.  -0.j  ,  1.  -0.j  ,  1.  -0.j  ,  1.  +0.j  ,\n",
       "         1.  +0.j  ],\n",
       "       [ 1.  +0.j  ,  1.  +0.j  ,  1.  -0.j  ,  1.  -0.j  ,  1.  -0.j  ,\n",
       "         1.  -0.j  ],\n",
       "       [ 1.  -0.j  ,  1.  -0.j  ,  1.  -0.j  ,  1.  -0.j  ,  1.  +0.j  ,\n",
       "         1.  +0.j  ],\n",
       "       [ 1.  -0.j  ,  1.  -0.j  ,  1.  +0.j  ,  1.  +0.j  ,  1.  +0.j  ,\n",
       "         1.  +0.j  ],\n",
       "       [ 1.  -0.01j,  1.  -0.01j,  0.99+0.12j,  0.99+0.12j,  1.  +0.01j,\n",
       "         1.  +0.01j],\n",
       "       [ 1.  +0.j  ,  1.  +0.j  , -1.  +0.j  , -1.  +0.j  ,  1.  +0.j  ,\n",
       "         1.  +0.j  ]])"
      ]
     },
     "execution_count": 76,
     "metadata": {},
     "output_type": "execute_result"
    }
   ],
   "source": [
    "np.round(right_non_triv_proj_rep_phases, 2)"
   ]
  },
  {
   "cell_type": "markdown",
   "id": "a2866204-7623-43b2-8b17-b6bada0b26aa",
   "metadata": {},
   "source": [
    "Why are these phases so clean..."
   ]
  },
  {
   "cell_type": "code",
   "execution_count": 78,
   "id": "c3f7c256-fd11-4ad8-9f72-ddd507d6f363",
   "metadata": {},
   "outputs": [
    {
     "data": {
      "text/plain": [
       "array([[-1.+0.j, -1.-0.j, -1.-0.j],\n",
       "       [-1.-0.j, -1.-0.j, -1.-0.j],\n",
       "       [-1.+0.j, -1.-0.j, -1.-0.j],\n",
       "       [-1.-0.j, -1.+0.j, -1.-0.j],\n",
       "       [-1.+0.j, -1.+0.j, -1.+0.j],\n",
       "       [-1.+0.j, -1.-0.j, -1.-0.j],\n",
       "       [-1.-0.j, -1.-0.j, -1.+0.j],\n",
       "       [-1.-0.j, -1.+0.j, -1.-0.j],\n",
       "       [-1.-0.j, -1.+0.j, -1.+0.j],\n",
       "       [-1.+0.j, -1.-0.j, -1.-0.j],\n",
       "       [-1.+0.j, -1.-0.j, -1.-0.j],\n",
       "       [ 1.+0.j,  1.-0.j,  1.-0.j],\n",
       "       [ 1.+0.j,  1.-0.j,  1.-0.j],\n",
       "       [ 1.-0.j,  1.-0.j,  1.-0.j],\n",
       "       [ 1.-0.j,  1.-0.j,  1.-0.j],\n",
       "       [ 1.-0.j,  1.+0.j,  1.-0.j],\n",
       "       [ 1.+0.j,  1.-0.j,  1.-0.j],\n",
       "       [ 1.+0.j,  1.+0.j,  1.-0.j],\n",
       "       [ 1.+0.j,  1.+0.j,  1.-0.j],\n",
       "       [ 1.+0.j,  1.+0.j,  1.+0.j],\n",
       "       [ 1.+0.j,  1.-0.j,  1.+0.j]])"
      ]
     },
     "execution_count": 78,
     "metadata": {},
     "output_type": "execute_result"
    }
   ],
   "source": [
    "np.round(\n",
    "    right_non_triv_proj_rep_phases[:, ::2]/right_non_triv_proj_rep_phases[:, 1::2],\n",
    "    2\n",
    ")"
   ]
  },
  {
   "cell_type": "markdown",
   "id": "a8ea8e18-d2a0-43e8-ae01-ecf23d192d1c",
   "metadata": {},
   "source": [
    "Looks good!"
   ]
  },
  {
   "cell_type": "markdown",
   "id": "31ac5ef6-e8e6-4841-ba26-0084c5539425",
   "metadata": {},
   "source": [
    "## Left side"
   ]
  },
  {
   "cell_type": "code",
   "execution_count": 82,
   "id": "e29df1df-f229-4d93-b844-f5bc03a858e1",
   "metadata": {},
   "outputs": [],
   "source": [
    "left_triv_proj_rep_phases = list()\n",
    "\n",
    "for t in interpolation_values:\n",
    "    optimizers = list()\n",
    "    for j in range(4):\n",
    "        jw_phase = left_fp_triv_proj_rep_charges_dict[(t, j)]\n",
    "        jw = 1 if jw_phase < 0 else 0\n",
    "\n",
    "        opt = optimizer_dict_triv_proj_rep[(t, jw, j)]\n",
    "\n",
    "        optimizers.append(opt)\n",
    "\n",
    "    phases = get_left_proj_rep_phases_from_optimizers(optimizers)\n",
    "\n",
    "    left_triv_proj_rep_phases.append(phases)\n",
    "\n",
    "left_triv_proj_rep_phases = np.array(left_triv_proj_rep_phases)"
   ]
  },
  {
   "cell_type": "code",
   "execution_count": 83,
   "id": "78fb6b0f-03a4-4a5f-b626-d82e5483a5f6",
   "metadata": {},
   "outputs": [
    {
     "data": {
      "text/plain": [
       "(21, 6)"
      ]
     },
     "execution_count": 83,
     "metadata": {},
     "output_type": "execute_result"
    }
   ],
   "source": [
    "left_triv_proj_rep_phases.shape"
   ]
  },
  {
   "cell_type": "code",
   "execution_count": 84,
   "id": "70b52ac4-f41d-4ae2-b8e0-aa140688f343",
   "metadata": {},
   "outputs": [
    {
     "data": {
      "text/plain": [
       "array([[ 1.+0.j,  1.+0.j, -1.+0.j, -1.+0.j,  1.+0.j,  1.+0.j],\n",
       "       [ 1.+0.j,  1.+0.j, -1.+0.j, -1.+0.j,  1.+0.j,  1.+0.j],\n",
       "       [ 1.+0.j,  1.+0.j, -1.+0.j, -1.+0.j,  1.+0.j,  1.+0.j],\n",
       "       [ 1.+0.j,  1.+0.j, -1.+0.j, -1.+0.j,  1.+0.j,  1.+0.j],\n",
       "       [ 1.+0.j,  1.+0.j, -1.+0.j, -1.+0.j,  1.+0.j,  1.+0.j],\n",
       "       [-1.+0.j, -1.+0.j,  1.+0.j,  1.+0.j, -1.+0.j, -1.+0.j],\n",
       "       [ 1.+0.j,  1.+0.j, -1.+0.j, -1.+0.j,  1.+0.j,  1.+0.j],\n",
       "       [ 1.+0.j,  1.+0.j, -1.+0.j, -1.+0.j,  1.+0.j,  1.+0.j],\n",
       "       [-1.+0.j, -1.+0.j,  1.+0.j,  1.+0.j, -1.+0.j, -1.+0.j],\n",
       "       [ 1.+0.j,  1.+0.j, -1.+0.j, -1.+0.j,  1.+0.j,  1.+0.j],\n",
       "       [ 1.+0.j,  1.+0.j,  1.+0.j,  1.+0.j,  1.+0.j,  1.+0.j],\n",
       "       [ 1.+0.j,  1.+0.j,  1.+0.j,  1.+0.j,  1.+0.j,  1.+0.j],\n",
       "       [ 1.+0.j,  1.+0.j,  1.+0.j,  1.+0.j,  1.+0.j,  1.+0.j],\n",
       "       [ 1.+0.j,  1.+0.j,  1.+0.j,  1.+0.j,  1.+0.j,  1.+0.j],\n",
       "       [ 1.+0.j,  1.+0.j,  1.+0.j,  1.+0.j,  1.+0.j,  1.+0.j],\n",
       "       [ 1.+0.j,  1.+0.j,  1.+0.j,  1.+0.j,  1.+0.j,  1.+0.j],\n",
       "       [ 1.+0.j,  1.+0.j,  1.+0.j,  1.+0.j,  1.+0.j,  1.+0.j],\n",
       "       [ 1.+0.j,  1.+0.j,  1.+0.j,  1.+0.j,  1.+0.j,  1.+0.j],\n",
       "       [ 1.+0.j,  1.+0.j,  1.+0.j,  1.+0.j,  1.+0.j,  1.+0.j],\n",
       "       [ 1.+0.j,  1.+0.j,  1.+0.j,  1.+0.j,  1.+0.j,  1.+0.j],\n",
       "       [ 1.+0.j,  1.+0.j,  1.+0.j,  1.+0.j,  1.+0.j,  1.+0.j]])"
      ]
     },
     "execution_count": 84,
     "metadata": {},
     "output_type": "execute_result"
    }
   ],
   "source": [
    "left_triv_proj_rep_phases"
   ]
  },
  {
   "cell_type": "code",
   "execution_count": 85,
   "id": "beb370cb-98c7-4da2-9fd1-4b7167433172",
   "metadata": {},
   "outputs": [
    {
     "data": {
      "text/plain": [
       "array([[1.+0.j, 1.-0.j, 1.+0.j],\n",
       "       [1.+0.j, 1.-0.j, 1.+0.j],\n",
       "       [1.+0.j, 1.-0.j, 1.+0.j],\n",
       "       [1.+0.j, 1.-0.j, 1.+0.j],\n",
       "       [1.+0.j, 1.-0.j, 1.+0.j],\n",
       "       [1.-0.j, 1.+0.j, 1.-0.j],\n",
       "       [1.+0.j, 1.-0.j, 1.+0.j],\n",
       "       [1.+0.j, 1.-0.j, 1.+0.j],\n",
       "       [1.-0.j, 1.+0.j, 1.-0.j],\n",
       "       [1.+0.j, 1.-0.j, 1.+0.j],\n",
       "       [1.+0.j, 1.+0.j, 1.+0.j],\n",
       "       [1.+0.j, 1.+0.j, 1.+0.j],\n",
       "       [1.+0.j, 1.+0.j, 1.+0.j],\n",
       "       [1.+0.j, 1.+0.j, 1.+0.j],\n",
       "       [1.+0.j, 1.+0.j, 1.+0.j],\n",
       "       [1.+0.j, 1.+0.j, 1.+0.j],\n",
       "       [1.+0.j, 1.+0.j, 1.+0.j],\n",
       "       [1.+0.j, 1.+0.j, 1.+0.j],\n",
       "       [1.+0.j, 1.+0.j, 1.+0.j],\n",
       "       [1.+0.j, 1.+0.j, 1.+0.j],\n",
       "       [1.+0.j, 1.+0.j, 1.+0.j]])"
      ]
     },
     "execution_count": 85,
     "metadata": {},
     "output_type": "execute_result"
    }
   ],
   "source": [
    "left_triv_proj_rep_phases[:, ::2]/left_triv_proj_rep_phases[:, 1::2]"
   ]
  },
  {
   "cell_type": "code",
   "execution_count": 86,
   "id": "da4180c0-d8b7-4364-a307-b31678cf3c5e",
   "metadata": {},
   "outputs": [
    {
     "ename": "NameError",
     "evalue": "name 'rleft_non_triv_proj_rep_phases' is not defined",
     "output_type": "error",
     "traceback": [
      "\u001b[0;31m---------------------------------------------------------------------------\u001b[0m",
      "\u001b[0;31mNameError\u001b[0m                                 Traceback (most recent call last)",
      "Cell \u001b[0;32mIn[86], line 17\u001b[0m\n\u001b[1;32m     13\u001b[0m     phases \u001b[38;5;241m=\u001b[39m get_left_proj_rep_phases_from_optimizers(optimizers)\n\u001b[1;32m     15\u001b[0m     left_non_triv_proj_rep_phases\u001b[38;5;241m.\u001b[39mappend(phases)\n\u001b[0;32m---> 17\u001b[0m left_non_triv_proj_rep_phases \u001b[38;5;241m=\u001b[39m np\u001b[38;5;241m.\u001b[39marray(\u001b[43mrleft_non_triv_proj_rep_phases\u001b[49m)\n",
      "\u001b[0;31mNameError\u001b[0m: name 'rleft_non_triv_proj_rep_phases' is not defined"
     ]
    }
   ],
   "source": [
    "left_non_triv_proj_rep_phases = list()\n",
    "\n",
    "for t in interpolation_values:\n",
    "    optimizers = list()\n",
    "    for j in range(4):\n",
    "        jw_phase = left_fp_non_triv_proj_rep_charges_dict[(t, j)]\n",
    "        jw = 1 if jw_phase < 0 else 0\n",
    "\n",
    "        opt = optimizer_dict_non_triv_proj_rep[(t, jw, j)]\n",
    "\n",
    "        optimizers.append(opt)\n",
    "\n",
    "    phases = get_left_proj_rep_phases_from_optimizers(optimizers)\n",
    "\n",
    "    left_non_triv_proj_rep_phases.append(phases)\n",
    "\n",
    "left_non_triv_proj_rep_phases = np.array(left_non_triv_proj_rep_phases)"
   ]
  },
  {
   "cell_type": "code",
   "execution_count": 88,
   "id": "2e4e1398-6894-4de9-8686-fb9aabd783e0",
   "metadata": {},
   "outputs": [
    {
     "data": {
      "text/plain": [
       "(21, 6)"
      ]
     },
     "execution_count": 88,
     "metadata": {},
     "output_type": "execute_result"
    }
   ],
   "source": [
    "left_non_triv_proj_rep_phases.shape"
   ]
  },
  {
   "cell_type": "code",
   "execution_count": 89,
   "id": "7e05ba2f-c069-403c-8526-1d56b6741612",
   "metadata": {},
   "outputs": [
    {
     "data": {
      "text/plain": [
       "array([[ 0.02-1.j  , -0.02+1.j  , -0.02+1.j  ,  0.02-1.j  ,  0.02+1.j  ,\n",
       "        -0.02-1.j  ],\n",
       "       [ 0.  +1.j  , -0.  -1.j  ,  0.  -1.j  , -0.  +1.j  , -0.  -1.j  ,\n",
       "         0.  +1.j  ],\n",
       "       [-0.01-1.j  ,  0.01+1.j  ,  0.  +1.j  , -0.  -1.j  , -0.  +1.j  ,\n",
       "         0.  -1.j  ],\n",
       "       [ 0.  +1.j  , -0.  -1.j  , -0.  -1.j  ,  0.  +1.j  , -0.  -1.j  ,\n",
       "         0.  +1.j  ],\n",
       "       [ 0.  +1.j  , -0.  -1.j  ,  0.  -1.j  , -0.  +1.j  ,  0.  -1.j  ,\n",
       "        -0.  +1.j  ],\n",
       "       [ 0.01+1.j  , -0.01-1.j  ,  0.  -1.j  , -0.  +1.j  , -0.  -1.j  ,\n",
       "         0.  +1.j  ],\n",
       "       [ 0.  +1.j  , -0.  -1.j  ,  0.  -1.j  , -0.  +1.j  , -0.  -1.j  ,\n",
       "         0.  +1.j  ],\n",
       "       [ 0.  -1.j  , -0.  +1.j  , -0.  +1.j  ,  0.  -1.j  ,  0.  +1.j  ,\n",
       "        -0.  -1.j  ],\n",
       "       [ 0.01+1.j  , -0.01-1.j  ,  0.01-1.j  , -0.01+1.j  , -0.01-1.j  ,\n",
       "         0.01+1.j  ],\n",
       "       [-0.01+1.j  ,  0.01-1.j  ,  0.01-1.j  , -0.01+1.j  , -0.01-1.j  ,\n",
       "         0.02+1.j  ],\n",
       "       [-0.  +1.j  , -0.01-1.j  ,  0.01-1.j  , -0.01+1.j  , -0.01-1.j  ,\n",
       "         0.01+1.j  ],\n",
       "       [ 1.  -0.j  ,  1.  -0.j  ,  1.  +0.01j,  1.  +0.j  ,  1.  -0.01j,\n",
       "         1.  -0.01j],\n",
       "       [ 1.  +0.j  ,  1.  +0.j  ,  1.  -0.j  ,  1.  -0.j  ,  1.  +0.j  ,\n",
       "         1.  +0.j  ],\n",
       "       [ 1.  -0.j  ,  1.  -0.j  ,  1.  +0.j  ,  1.  -0.j  ,  1.  -0.j  ,\n",
       "         1.  -0.j  ],\n",
       "       [ 1.  -0.j  ,  1.  -0.j  ,  1.  +0.j  ,  1.  +0.j  ,  1.  -0.j  ,\n",
       "         1.  -0.j  ],\n",
       "       [ 1.  +0.j  ,  1.  +0.j  ,  1.  +0.01j,  1.  +0.j  ,  1.  -0.j  ,\n",
       "         1.  -0.j  ],\n",
       "       [ 1.  -0.j  ,  1.  -0.j  ,  1.  +0.j  ,  1.  +0.j  ,  1.  +0.j  ,\n",
       "         1.  +0.j  ],\n",
       "       [ 1.  +0.j  ,  1.  +0.j  ,  1.  +0.j  ,  1.  +0.j  ,  1.  -0.j  ,\n",
       "         1.  -0.j  ],\n",
       "       [ 1.  +0.j  ,  1.  +0.j  ,  1.  -0.j  ,  1.  -0.j  ,  1.  -0.j  ,\n",
       "         1.  -0.j  ],\n",
       "       [ 1.  +0.01j,  1.  +0.01j,  0.99-0.12j,  0.99-0.12j,  1.  -0.01j,\n",
       "         1.  -0.01j],\n",
       "       [ 1.  +0.j  ,  1.  +0.j  , -1.  +0.j  , -1.  +0.j  ,  1.  +0.j  ,\n",
       "         1.  +0.j  ]])"
      ]
     },
     "execution_count": 89,
     "metadata": {},
     "output_type": "execute_result"
    }
   ],
   "source": [
    "np.round(left_non_triv_proj_rep_phases, 2)"
   ]
  },
  {
   "cell_type": "code",
   "execution_count": 90,
   "id": "0cfc853c-eb59-4b63-87b1-740ae7345cf6",
   "metadata": {},
   "outputs": [
    {
     "data": {
      "text/plain": [
       "array([[-1.+0.j  , -1.+0.j  , -1.+0.j  ],\n",
       "       [-1.-0.j  , -1.+0.j  , -1.+0.j  ],\n",
       "       [-1.+0.j  , -1.-0.j  , -1.+0.j  ],\n",
       "       [-1.-0.j  , -1.-0.j  , -1.-0.j  ],\n",
       "       [-1.+0.j  , -1.-0.j  , -1.+0.j  ],\n",
       "       [-1.-0.j  , -1.-0.j  , -1.-0.j  ],\n",
       "       [-1.+0.j  , -1.-0.j  , -1.+0.j  ],\n",
       "       [-1.-0.j  , -1.+0.j  , -1.-0.j  ],\n",
       "       [-1.-0.j  , -1.-0.j  , -1.-0.j  ],\n",
       "       [-1.-0.01j, -1.+0.01j, -1.-0.01j],\n",
       "       [-1.-0.01j, -1.-0.j  , -1.-0.j  ],\n",
       "       [ 1.-0.j  ,  1.+0.j  ,  1.-0.j  ],\n",
       "       [ 1.+0.j  ,  1.+0.j  ,  1.+0.j  ],\n",
       "       [ 1.-0.j  ,  1.+0.j  ,  1.-0.j  ],\n",
       "       [ 1.-0.j  ,  1.+0.j  ,  1.-0.j  ],\n",
       "       [ 1.-0.j  ,  1.+0.j  ,  1.-0.j  ],\n",
       "       [ 1.+0.j  ,  1.+0.j  ,  1.+0.j  ],\n",
       "       [ 1.-0.j  ,  1.+0.j  ,  1.-0.j  ],\n",
       "       [ 1.+0.j  ,  1.+0.j  ,  1.+0.j  ],\n",
       "       [ 1.+0.j  ,  1.+0.j  ,  1.-0.j  ],\n",
       "       [ 1.+0.j  ,  1.-0.j  ,  1.+0.j  ]])"
      ]
     },
     "execution_count": 90,
     "metadata": {},
     "output_type": "execute_result"
    }
   ],
   "source": [
    "np.round(\n",
    "    left_non_triv_proj_rep_phases[:, ::2]/left_non_triv_proj_rep_phases[:, 1::2],\n",
    "    2\n",
    ")"
   ]
  },
  {
   "cell_type": "markdown",
   "id": "b1c0caa5-42f5-48a0-ba82-f7a98abc9d0c",
   "metadata": {},
   "source": [
    "Looks good!"
   ]
  },
  {
   "cell_type": "markdown",
   "id": "c733a9de-4608-4d97-994f-faee8ec32bec",
   "metadata": {},
   "source": [
    "# Old code"
   ]
  },
  {
   "cell_type": "code",
   "execution_count": null,
   "id": "e9d4d818-bdea-40a3-9f27-09362a917994",
   "metadata": {},
   "outputs": [],
   "source": [
    "def manual_left_side_right_symmetry_environment(opt):\n",
    "    # Currently this method only accounts for the \"closed\" layers.\n",
    "    top_right_bs, _ = multiply_stacked_unitaries_against_mps(\n",
    "        opt.right_unitaries,\n",
    "        opt.bottom_right_mps_tensors,\n",
    "        opt.original_right_side_left_schmidt_values,\n",
    "        opt.max_virtual_bond_dim\n",
    "    )\n",
    "\n",
    "    right_t = npc.tensordot(\n",
    "        top_right_bs[-1],\n",
    "        opt.bottom_right_mps_tensors[-1].conj(),\n",
    "        [['vR', 'p'], ['vR*', 'p*']]\n",
    "    )\n",
    "\n",
    "    b_pairs = zip(top_right_bs[-2::-1], opt.bottom_right_mps_tensors[-2::-1])\n",
    "\n",
    "    for bt, bb in b_pairs:\n",
    "        right_t = npc.tensordot(\n",
    "            right_t,\n",
    "            bt,\n",
    "            [['vL',], ['vR',]]\n",
    "        )\n",
    "\n",
    "        right_t = npc.tensordot(\n",
    "            right_t,\n",
    "            bb.conj(),\n",
    "            [['vL*', 'p'], ['vR*', 'p*']]\n",
    "        )\n",
    "\n",
    "    right_t = npc.tensordot(\n",
    "        right_t,\n",
    "        opt.symmetry_case.npc_symmetry_transfer_matrix,\n",
    "        [['vL', 'vL*'], ['vR', 'vR*']]\n",
    "    )\n",
    "\n",
    "    return right_t"
   ]
  }
 ],
 "metadata": {
  "kernelspec": {
   "display_name": "num_spt_venv_p11",
   "language": "python",
   "name": "num_spt_venv_p11"
  },
  "language_info": {
   "codemirror_mode": {
    "name": "ipython",
    "version": 3
   },
   "file_extension": ".py",
   "mimetype": "text/x-python",
   "name": "python",
   "nbconvert_exporter": "python",
   "pygments_lexer": "ipython3",
   "version": "3.11.11"
  }
 },
 "nbformat": 4,
 "nbformat_minor": 5
}
