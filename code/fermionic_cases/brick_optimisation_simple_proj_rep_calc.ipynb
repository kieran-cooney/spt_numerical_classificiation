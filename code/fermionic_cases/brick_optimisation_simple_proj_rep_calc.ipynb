{
 "cells": [
  {
   "cell_type": "markdown",
   "id": "5f2205a4-2c74-4cf5-9ad1-9d65bd13bed2",
   "metadata": {},
   "source": [
    "# Brick optimisation - simple proj rep calc\n",
    "\n",
    "Created 08/04/2025\n",
    "\n",
    "Objectives:\n",
    "* Caclulate proj rep, check it's working so we can put into another object."
   ]
  },
  {
   "cell_type": "markdown",
   "id": "9ad0db4d-805c-4403-9d48-c71d523d572f",
   "metadata": {},
   "source": [
    "# Package imports"
   ]
  },
  {
   "cell_type": "code",
   "execution_count": 1,
   "id": "ecb41ea3-927f-4efa-aebe-ce15784aa037",
   "metadata": {},
   "outputs": [],
   "source": [
    "import sys\n",
    "sys.path.append('../')"
   ]
  },
  {
   "cell_type": "code",
   "execution_count": 2,
   "id": "4a525ec6-f0c8-47ee-8b0b-345bf0ef8bd3",
   "metadata": {},
   "outputs": [],
   "source": [
    "import h5py\n",
    "from tenpy.tools import hdf5_io\n",
    "import tenpy\n",
    "import tenpy.linalg.np_conserved as npc\n",
    "\n",
    "import os"
   ]
  },
  {
   "cell_type": "code",
   "execution_count": 3,
   "id": "214f688a-c657-4810-b4d1-b1247deff62c",
   "metadata": {},
   "outputs": [],
   "source": [
    "import numpy as np\n",
    "import matplotlib.pyplot as plt\n",
    "import pandas as pd"
   ]
  },
  {
   "cell_type": "code",
   "execution_count": 4,
   "id": "b8dec68d-a5b3-4383-ab44-567a9a5981b3",
   "metadata": {},
   "outputs": [],
   "source": [
    "from SPTOptimization.SymmetryActionWithBoundaryUnitaries import SymmetryActionWithBoundaryUnitaries\n",
    "\n",
    "from SPTOptimization.utils import (\n",
    "    to_npc_array,\n",
    "    get_right_identity_environment,\n",
    "    get_right_identity_environment_from_tp_tensor,\n",
    "    multiply_stacked_unitaries_against_mps,\n",
    "    inner_product_b_tensors\n",
    ")\n",
    "\n",
    "from SPTOptimization.Optimizers.MPSBrickSolver import(\n",
    "    MPSBrickSolver\n",
    ")"
   ]
  },
  {
   "cell_type": "markdown",
   "id": "c69a8a47-e298-4c4c-97f7-a6157da4e15f",
   "metadata": {},
   "source": [
    "# Load data"
   ]
  },
  {
   "cell_type": "code",
   "execution_count": 5,
   "id": "210d7dcc-b7ae-4f06-8429-84177bec47d3",
   "metadata": {},
   "outputs": [],
   "source": [
    "DATA_DIR = r\"../data/simple_fermionic_cluster_200_site_dmrg/\""
   ]
  },
  {
   "cell_type": "code",
   "execution_count": 6,
   "id": "ae809e74-d444-4db4-88ff-7538f6110d08",
   "metadata": {},
   "outputs": [],
   "source": [
    "def parse_file_name(file_name):\n",
    "    non_trivial_proj_rep = bool(int(file_name[3]))\n",
    "\n",
    "    n1_01 = int(file_name[8])\n",
    "    n1_10 = int(file_name[9])\n",
    "\n",
    "    return (non_trivial_proj_rep, (n1_01, n1_10))"
   ]
  },
  {
   "cell_type": "code",
   "execution_count": 7,
   "id": "e09f07cf-8441-4c7e-90b8-dbc8c61311f2",
   "metadata": {},
   "outputs": [],
   "source": [
    "loaded_data = dict()\n",
    "\n",
    "for local_file_name in os.listdir(DATA_DIR):\n",
    "    f_name = r\"{}/{}\".format(DATA_DIR, local_file_name, ignore_unknown=False)\n",
    "    with h5py.File(f_name, 'r') as f:\n",
    "        data = hdf5_io.load_from_hdf5(f)\n",
    "\n",
    "        data_info = parse_file_name(local_file_name)\n",
    "        loaded_data[data_info]=data['wavefunction']"
   ]
  },
  {
   "cell_type": "code",
   "execution_count": 8,
   "id": "991ad694-d6ed-4b68-9d35-7a4afb4c225b",
   "metadata": {},
   "outputs": [
    {
     "data": {
      "text/plain": [
       "{(False, (1, 1)): <tenpy.networks.mps.MPS at 0x7d4bb7098c50>,\n",
       " (False, (0, 0)): <tenpy.networks.mps.MPS at 0x7d4bb6a2bc50>,\n",
       " (True, (1, 0)): <tenpy.networks.mps.MPS at 0x7d4bb66a4e50>,\n",
       " (True, (0, 1)): <tenpy.networks.mps.MPS at 0x7d4bb6705610>,\n",
       " (True, (0, 0)): <tenpy.networks.mps.MPS at 0x7d4bb6547610>,\n",
       " (True, (1, 1)): <tenpy.networks.mps.MPS at 0x7d4bb65ed210>,\n",
       " (False, (1, 0)): <tenpy.networks.mps.MPS at 0x7d4bb6806810>,\n",
       " (False, (0, 1)): <tenpy.networks.mps.MPS at 0x7d4bb6453710>}"
      ]
     },
     "execution_count": 8,
     "metadata": {},
     "output_type": "execute_result"
    }
   ],
   "source": [
    "loaded_data"
   ]
  },
  {
   "cell_type": "code",
   "execution_count": 9,
   "id": "ec80aaf2-da09-4592-a809-a8314fd83e77",
   "metadata": {},
   "outputs": [
    {
     "data": {
      "text/plain": [
       "array([0.00000000e+00, 8.06502780e-58, 1.23690174e-32, 7.94099304e-32,\n",
       "       2.05694015e-32, 2.18149273e-32, 2.36122489e-31, 1.92812549e-29,\n",
       "       1.02382538e-31, 6.43426399e-32, 5.43108385e-32, 1.44142395e-32,\n",
       "       9.50700006e-33, 3.34253978e-32, 2.22062291e-32, 3.11301804e-32,\n",
       "       1.59644622e-32, 3.18549623e-32, 8.97734403e-33, 2.18002233e-32,\n",
       "       7.68854991e-33, 1.96149649e-31, 6.36170358e-32, 1.29773074e-31,\n",
       "       8.45714546e-33, 5.35962791e-32, 2.38291158e-34, 3.21235332e-32,\n",
       "       4.13468673e-30, 2.47075839e-32, 3.86189285e-32, 8.12728123e-33,\n",
       "       1.43713253e-32, 1.17453463e-32, 6.02315024e-32, 1.88833724e-32,\n",
       "       2.12686593e-30, 1.19221600e-31, 4.16532767e-32, 1.64792348e-29,\n",
       "       2.02150553e-30, 9.03437657e-32, 1.34399706e-32, 2.29796943e-32,\n",
       "       1.67067027e-31, 2.62462347e-32, 8.24426744e-33, 6.51166714e-33,\n",
       "       2.71371928e-32, 2.06626976e-32, 2.89736867e-31, 1.45535890e-31,\n",
       "       1.13467738e-30, 2.00315369e-32, 1.62325755e-32, 1.40365954e-29,\n",
       "       7.36682410e-30, 2.40856608e-32, 6.32324602e-33, 2.89656169e-32,\n",
       "       9.05698462e-33, 2.72678560e-32, 3.02861669e-32, 4.01293999e-33,\n",
       "       1.44809325e-31, 8.55392114e-33, 1.23879994e-32, 1.44747454e-31,\n",
       "       2.10187733e-32, 7.73393504e-32, 1.15056124e-32, 4.70336591e-33,\n",
       "       3.92623154e-33, 1.22162297e-32, 5.75039460e-31, 2.75266244e-32,\n",
       "       1.46118600e-32, 1.72800940e-32, 9.91166856e-32, 9.02490217e-30,\n",
       "       2.19627953e-32, 1.11533464e-32, 2.41311092e-32, 4.82844235e-32,\n",
       "       7.83790796e-33, 1.77657708e-32, 1.08047687e-32, 1.44574490e-32,\n",
       "       6.83023159e-30, 2.90323916e-32, 1.66908779e-32, 1.40556816e-32,\n",
       "       4.14893529e-31, 5.75735468e-33, 3.12090799e-32, 6.97073943e-31,\n",
       "       4.04620049e-32, 1.46763637e-32, 1.18704930e-28, 0.00000000e+00])"
      ]
     },
     "execution_count": 9,
     "metadata": {},
     "output_type": "execute_result"
    }
   ],
   "source": [
    "loaded_data[(True, (0,0))].expectation_value('N', sites=list(range(1, 201, 2)))"
   ]
  },
  {
   "cell_type": "code",
   "execution_count": 10,
   "id": "41d02fac-b668-444d-bde4-949dd6fe9e40",
   "metadata": {},
   "outputs": [
    {
     "data": {
      "text/plain": [
       "array([0.00000000e+00, 0.00000000e+00, 3.59424750e-29, 7.59555955e-29,\n",
       "       1.25737033e-28, 7.59555955e-29, 6.65878723e-29, 3.59424750e-29,\n",
       "       0.00000000e+00, 1.14662165e-29, 0.00000000e+00, 6.56849963e-29,\n",
       "       6.56849963e-29, 7.49910898e-29, 8.98561875e-30, 3.59424750e-29,\n",
       "       3.59424750e-29, 5.43574468e-30, 8.98561875e-30, 3.59424750e-29,\n",
       "       5.43574468e-30, 1.14662165e-29, 3.59424750e-29, 3.59424750e-29,\n",
       "       2.95946099e-29, 1.25737033e-28, 8.01495006e-30, 6.56849963e-29,\n",
       "       3.02016630e-29, 7.49910898e-29, 3.59424750e-29, 1.14662165e-29,\n",
       "       3.02016630e-29, 3.59424750e-29, 7.49910898e-29, 1.25737033e-28,\n",
       "       1.39804025e-28, 1.92592994e-28, 0.00000000e+00, 7.70371978e-30,\n",
       "       1.39804025e-28, 3.59424750e-29, 3.59424750e-29, 7.70371978e-30,\n",
       "       7.30805673e-29, 3.02016630e-29, 0.00000000e+00, 1.39804025e-28,\n",
       "       3.59424750e-29, 7.70371978e-30, 3.59424750e-29, 3.59424750e-29,\n",
       "       0.00000000e+00, 0.00000000e+00, 0.00000000e+00, 3.59424750e-29,\n",
       "       0.00000000e+00, 5.69767115e-30, 5.69767115e-30, 3.59424750e-29,\n",
       "       0.00000000e+00, 0.00000000e+00, 3.02016630e-29, 3.59424750e-29,\n",
       "       3.02016630e-29, 8.98561875e-30, 2.95946099e-29, 3.59424750e-29,\n",
       "       3.02016630e-29, 1.25737033e-28, 2.95946099e-29, 8.98561875e-30,\n",
       "       3.59424750e-29, 3.59424750e-29, 3.59424750e-29, 3.02016630e-29,\n",
       "       3.02016630e-29, 7.49910898e-29, 3.02016630e-29, 0.00000000e+00,\n",
       "       8.01495006e-30, 3.02016630e-29, 2.95946099e-29, 0.00000000e+00,\n",
       "       0.00000000e+00, 3.59424750e-29, 0.00000000e+00, 0.00000000e+00,\n",
       "       1.39804025e-28, 1.14662165e-29, 7.39865247e-30, 3.59424750e-29,\n",
       "       3.02016630e-29, 2.08308583e-28, 7.30805673e-29, 6.65878723e-29,\n",
       "       3.02016630e-29, 0.00000000e+00, 9.43705673e-29, 0.00000000e+00])"
      ]
     },
     "execution_count": 10,
     "metadata": {},
     "output_type": "execute_result"
    }
   ],
   "source": [
    "loaded_data[(False, (0,0))].expectation_value('N', sites=list(range(1, 201, 2)))"
   ]
  },
  {
   "cell_type": "code",
   "execution_count": 11,
   "id": "4379132f-163c-4908-9934-7cd390909df3",
   "metadata": {},
   "outputs": [],
   "source": [
    "loaded_exps = dict()\n",
    "\n",
    "for k, psi in loaded_data.items():\n",
    "    exp = psi.expectation_value('N', sites=[101,])[0]\n",
    "    loaded_exps[k] = exp"
   ]
  },
  {
   "cell_type": "code",
   "execution_count": 12,
   "id": "a40c29ff-45c2-4274-b6ed-3b43eec93d03",
   "metadata": {},
   "outputs": [
    {
     "data": {
      "text/plain": [
       "{(False, (1, 1)): 0.49999999999999667,\n",
       " (False, (0, 0)): 3.594247499413394e-29,\n",
       " (True, (1, 0)): 0.49999999999998707,\n",
       " (True, (0, 1)): 0.5000000000000188,\n",
       " (True, (0, 0)): 2.897368673320364e-31,\n",
       " (True, (1, 1)): 0.4999999999999868,\n",
       " (False, (1, 0)): 0.4999999999999989,\n",
       " (False, (0, 1)): 0.5000000000000056}"
      ]
     },
     "execution_count": 12,
     "metadata": {},
     "output_type": "execute_result"
    }
   ],
   "source": [
    "loaded_exps"
   ]
  },
  {
   "cell_type": "markdown",
   "id": "b4c1e616-c034-404b-b59e-196d1eaac475",
   "metadata": {},
   "source": [
    "# Definitons"
   ]
  },
  {
   "cell_type": "code",
   "execution_count": 13,
   "id": "63506364-f535-4c0f-8c5f-8839c69f7b9d",
   "metadata": {},
   "outputs": [],
   "source": [
    "MAX_VIRTUAL_BOND_DIM = 8\n",
    "MAX_INTERMEDIATE_VIRTUAL_BOND_DIM = 2*MAX_VIRTUAL_BOND_DIM\n",
    "# MPO bond dim?\n",
    "MAX_MPO_BOND_DIM = 50\n",
    "\n",
    "SVD_CUTOFF = 1e-3"
   ]
  },
  {
   "cell_type": "markdown",
   "id": "1efd18d4-328d-43dd-996d-393f18eb02b2",
   "metadata": {},
   "source": [
    "Define bosonic symmetries. Label by the group element added."
   ]
  },
  {
   "cell_type": "code",
   "execution_count": 14,
   "id": "513d7288-c641-4071-a4a3-652787d1f98c",
   "metadata": {},
   "outputs": [],
   "source": [
    "np_00 = np.array([\n",
    "    [1, 0, 0, 0],\n",
    "    [0, 1, 0, 0],\n",
    "    [0, 0, 1, 0],\n",
    "    [0, 0, 0, 1]\n",
    "])\n",
    "\n",
    "np_01 = np.array([\n",
    "    [0, 1, 0, 0],\n",
    "    [1, 0, 0, 0],\n",
    "    [0, 0, 0, 1],\n",
    "    [0, 0, 1, 0]\n",
    "])\n",
    "\n",
    "np_10 = np.array([\n",
    "    [0, 0, 1, 0],\n",
    "    [0, 0, 0, 1],\n",
    "    [1, 0, 0, 0],\n",
    "    [0, 1, 0, 0]\n",
    "])\n",
    "\n",
    "np_11 = np.array([\n",
    "    [0, 0, 0, 1],\n",
    "    [0, 0, 1, 0],\n",
    "    [0, 1, 0, 0],\n",
    "    [1, 0, 0, 0]\n",
    "])"
   ]
  },
  {
   "cell_type": "code",
   "execution_count": 15,
   "id": "c83907c6-e86f-48af-a2a1-11b250f47e84",
   "metadata": {},
   "outputs": [],
   "source": [
    "bosonic_np_symmetries = [\n",
    "    np_00,\n",
    "    np_01,\n",
    "    np_10,\n",
    "    np_11\n",
    "]"
   ]
  },
  {
   "cell_type": "code",
   "execution_count": 16,
   "id": "fd7c7309-10ee-4834-b153-9a4121462fca",
   "metadata": {},
   "outputs": [],
   "source": [
    "bosonic_npc_symmetries = [\n",
    "    to_npc_array(X) for X in bosonic_np_symmetries\n",
    "]"
   ]
  },
  {
   "cell_type": "code",
   "execution_count": 17,
   "id": "2a78a62e-37eb-4baf-98ba-d6a94d599bec",
   "metadata": {},
   "outputs": [],
   "source": [
    "npc_00 = to_npc_array(np_00)\n",
    "npc_01 = to_npc_array(np_01)\n",
    "npc_10 = to_npc_array(np_10)\n",
    "npc_11 = to_npc_array(np_11)"
   ]
  },
  {
   "cell_type": "markdown",
   "id": "1ecddc96-798a-416b-b0b4-d9ea9e25cfca",
   "metadata": {},
   "source": [
    "Define \"fermionic symmetries\". Just identity and JW string."
   ]
  },
  {
   "cell_type": "code",
   "execution_count": 18,
   "id": "a1c64bf0-4b2e-4492-b242-3dae6eb527c3",
   "metadata": {},
   "outputs": [],
   "source": [
    "np_I = np.array([\n",
    "    [1, 0],\n",
    "    [0, 1]\n",
    "])\n",
    "\n",
    "np_JW = np.array([\n",
    "    [1, 0],\n",
    "    [0, -1]\n",
    "])"
   ]
  },
  {
   "cell_type": "code",
   "execution_count": 19,
   "id": "e595ca13-740a-41a3-a658-8831c8f54323",
   "metadata": {},
   "outputs": [],
   "source": [
    "fermionic_np_symmetries = [np_I, np_JW]"
   ]
  },
  {
   "cell_type": "code",
   "execution_count": 20,
   "id": "6e5b6ad0-2496-4072-afe9-c41fc62da40e",
   "metadata": {},
   "outputs": [],
   "source": [
    "fermionic_npc_symmetries = [\n",
    "    to_npc_array(X) for X in fermionic_np_symmetries\n",
    "]"
   ]
  },
  {
   "cell_type": "code",
   "execution_count": 21,
   "id": "a2b43b48-e438-4702-8287-f5d27fc47f7b",
   "metadata": {},
   "outputs": [],
   "source": [
    "npc_JW = fermionic_npc_symmetries[1]"
   ]
  },
  {
   "cell_type": "code",
   "execution_count": 22,
   "id": "b9e2f954-c591-4479-ba37-32862c25c660",
   "metadata": {},
   "outputs": [],
   "source": [
    "symmetry_actions = [\n",
    "    [[b, f] for b in bosonic_np_symmetries]\n",
    "    for f in fermionic_np_symmetries\n",
    "]"
   ]
  },
  {
   "cell_type": "code",
   "execution_count": 23,
   "id": "8c945b86-cec1-4b08-930f-1922b7e1bea6",
   "metadata": {},
   "outputs": [],
   "source": [
    "shifted_symmetry_actions = [\n",
    "    [[f, b] for b in bosonic_np_symmetries]\n",
    "    for f in fermionic_np_symmetries\n",
    "]"
   ]
  },
  {
   "cell_type": "code",
   "execution_count": 24,
   "id": "ac19b501-4293-4d08-8bb0-35515cd6a093",
   "metadata": {},
   "outputs": [],
   "source": [
    "cases = dict()\n",
    "\n",
    "for k, psi in loaded_data.items():\n",
    "\n",
    "    for i, l in enumerate(symmetry_actions):\n",
    "\n",
    "        for j, s in enumerate(l):\n",
    "            case = SymmetryActionWithBoundaryUnitaries(\n",
    "                psi,\n",
    "                s*50,\n",
    "                left_symmetry_index=50,\n",
    "                left_boundary_unitaries=[np_I, np_00]*1,\n",
    "                right_boundary_unitaries=[np_00, np_I]*1\n",
    "            )\n",
    "\n",
    "            cases[(*k, i, j)] = case"
   ]
  },
  {
   "cell_type": "code",
   "execution_count": 25,
   "id": "8e7ff810-32b3-4163-9b1b-ca96a282a7f5",
   "metadata": {},
   "outputs": [],
   "source": [
    "for c in cases.values():\n",
    "    c.compute_svd_approximate_expectation()"
   ]
  },
  {
   "cell_type": "code",
   "execution_count": 26,
   "id": "6d0180ee-6b87-40c9-8bb4-782c9c5b0083",
   "metadata": {},
   "outputs": [],
   "source": [
    "shifted_cases = dict()\n",
    "\n",
    "for k, psi in loaded_data.items():\n",
    "\n",
    "    for i, l in enumerate(shifted_symmetry_actions):\n",
    "\n",
    "        for j, s in enumerate(l):\n",
    "            case = SymmetryActionWithBoundaryUnitaries(\n",
    "                psi,\n",
    "                s*50,\n",
    "                left_symmetry_index=51,\n",
    "                left_boundary_unitaries=[np_00, np_I]*1,\n",
    "                right_boundary_unitaries=[np_I, np_00]*1\n",
    "            )\n",
    "\n",
    "            shifted_cases[(*k, i, j)] = case"
   ]
  },
  {
   "cell_type": "code",
   "execution_count": 27,
   "id": "7a5b4a5d-38e8-451a-8664-122b12a4488b",
   "metadata": {},
   "outputs": [],
   "source": [
    "for c in shifted_cases.values():\n",
    "    c.compute_svd_approximate_expectation()"
   ]
  },
  {
   "cell_type": "code",
   "execution_count": 28,
   "id": "88732f60-9cad-4436-a0ce-c3d7e32e2535",
   "metadata": {},
   "outputs": [],
   "source": [
    "symmetric_cases = dict()\n",
    "\n",
    "for k, psi in loaded_data.items():\n",
    "\n",
    "    for i, l in enumerate(symmetry_actions):\n",
    "\n",
    "        for j, s in enumerate(l):\n",
    "            case = SymmetryActionWithBoundaryUnitaries(\n",
    "                psi,\n",
    "                [s[1],] + s*49,\n",
    "                left_symmetry_index=51,\n",
    "                left_boundary_unitaries=[np_00, np_I, np_00],\n",
    "                right_boundary_unitaries=[np_00, np_I, np_00]\n",
    "            )\n",
    "\n",
    "            symmetric_cases[(*k, i, j)] = case"
   ]
  },
  {
   "cell_type": "code",
   "execution_count": 29,
   "id": "71497ede-da3e-4bdb-ace3-9a80c6ebdc8a",
   "metadata": {},
   "outputs": [],
   "source": [
    "for c in symmetric_cases.values():\n",
    "    c.compute_svd_approximate_expectation()"
   ]
  },
  {
   "cell_type": "code",
   "execution_count": 30,
   "id": "6bac53fa-b629-46fc-a145-f932a0af6f18",
   "metadata": {},
   "outputs": [],
   "source": [
    "left_trivial_leg_charge = tenpy.linalg.charges.LegCharge(\n",
    "    tenpy.linalg.charges.ChargeInfo([], []),\n",
    "    [0,1],\n",
    "    [[]],\n",
    "    qconj=1\n",
    ")"
   ]
  },
  {
   "cell_type": "code",
   "execution_count": 31,
   "id": "44f34cb7-0888-474b-9483-f4956951fc31",
   "metadata": {},
   "outputs": [],
   "source": [
    "right_trivial_leg_charge = tenpy.linalg.charges.LegCharge(\n",
    "    tenpy.linalg.charges.ChargeInfo([], []),\n",
    "    [0,1],\n",
    "    [[]],\n",
    "    qconj=-1\n",
    ")"
   ]
  },
  {
   "cell_type": "markdown",
   "id": "6abed7b9-6bd7-4274-a65f-eb6e3845e23c",
   "metadata": {},
   "source": [
    "# Sweep"
   ]
  },
  {
   "cell_type": "code",
   "execution_count": 32,
   "id": "a8c16338-cc25-4baa-8aee-23a4c23f7e5a",
   "metadata": {},
   "outputs": [],
   "source": [
    "block_width = 5\n",
    "num_one_sided_iterations = 1\n",
    "num_two_sided_iterations = 3\n",
    "num_layers = 1\n",
    "num_sites = 5"
   ]
  },
  {
   "cell_type": "code",
   "execution_count": 33,
   "id": "7473af0e-2191-47d7-84a1-40c3e2a787cb",
   "metadata": {},
   "outputs": [],
   "source": [
    "optimizer_dict = dict()\n",
    "\n",
    "for k, v in cases.items():\n",
    "    opt = MPSBrickSolver(\n",
    "        v,\n",
    "        num_sites,\n",
    "        block_width,\n",
    "        num_layers,\n",
    "        num_one_sided_iterations,\n",
    "        num_two_sided_iterations,\n",
    "        max_virtual_bond_dim=MAX_VIRTUAL_BOND_DIM\n",
    "    )\n",
    "\n",
    "    opt.optimise()\n",
    "\n",
    "    optimizer_dict[k] = opt"
   ]
  },
  {
   "cell_type": "code",
   "execution_count": 34,
   "id": "496b68a0-4e55-417f-ae8c-e5b0bb313563",
   "metadata": {},
   "outputs": [],
   "source": [
    "final_exps = dict()\n",
    "\n",
    "for k, v in optimizer_dict.items():\n",
    "    final_exp = v.flatten_exps()[-1]\n",
    "    final_exps[k] = final_exp"
   ]
  },
  {
   "cell_type": "code",
   "execution_count": 35,
   "id": "5f5c3c4b-776c-43c8-8f44-2c5f108d2dab",
   "metadata": {},
   "outputs": [],
   "source": [
    "bad_cases = [\n",
    "    k\n",
    "    for k, v in final_exps.items()\n",
    "    if v < 0.99\n",
    "]"
   ]
  },
  {
   "cell_type": "code",
   "execution_count": 36,
   "id": "205aba32-d48d-4f4f-9236-e35fe4383c53",
   "metadata": {},
   "outputs": [
    {
     "data": {
      "text/plain": [
       "[]"
      ]
     },
     "execution_count": 36,
     "metadata": {},
     "output_type": "execute_result"
    }
   ],
   "source": [
    "bad_cases"
   ]
  },
  {
   "cell_type": "markdown",
   "id": "bcc644c2-d4df-4c09-93d1-06dff9b7216b",
   "metadata": {},
   "source": [
    "# Test proj rep"
   ]
  },
  {
   "cell_type": "markdown",
   "id": "9a489bd4-0cee-4b98-8600-9edd34eb3308",
   "metadata": {},
   "source": [
    "Give a wavefunction, calculate proj rep."
   ]
  },
  {
   "cell_type": "markdown",
   "id": "d9b7253b-e02a-46f7-9f02-3a6635898de3",
   "metadata": {},
   "source": [
    "## SPT functions"
   ]
  },
  {
   "cell_type": "code",
   "execution_count": 37,
   "id": "08ce0827-cbc3-4e55-8ac1-4eedc638e598",
   "metadata": {},
   "outputs": [],
   "source": [
    "def calculate_proj_rep_phase(state_g, left_schmidt_values_g, unitary_h,\n",
    "                             state_gh,\n",
    "                             left_environment,\n",
    "                             max_virtual_bond_dim=MAX_VIRTUAL_BOND_DIM):\n",
    "    prod_state, _ = multiply_stacked_unitaries_against_mps(\n",
    "        unitary_h,\n",
    "        state_g,\n",
    "        left_schmidt_values_g,\n",
    "        max_virtual_bond_dim\n",
    "    )\n",
    "\n",
    "    exp = inner_product_b_tensors(prod_state, state_gh, left_environment)\n",
    "\n",
    "    return exp/(np.abs(exp))"
   ]
  },
  {
   "cell_type": "code",
   "execution_count": 38,
   "id": "c70d9c69-1835-424f-8c10-cb95ae528bae",
   "metadata": {},
   "outputs": [],
   "source": [
    "def get_proj_rep_phases(mps_tensors, left_schmidt_values, unitaries,\n",
    "                        left_environment):\n",
    "    mps_dict = {\n",
    "        k: v for k, v in zip(symmetry_labels[1:], mps_tensors)\n",
    "    }\n",
    "\n",
    "    schmidt_vals_dict = {\n",
    "        k: v for k, v in zip(symmetry_labels[1:], left_schmidt_values)\n",
    "    }\n",
    "\n",
    "    unitaries_dict = {\n",
    "        k: v for k, v in zip(symmetry_labels[1:], unitaries)\n",
    "    }\n",
    "\n",
    "    out_phases = list()\n",
    "\n",
    "    for a, b, c in group_products:\n",
    "        phase = calculate_proj_rep_phase(\n",
    "            mps_dict[a],\n",
    "            schmidt_vals_dict[a],\n",
    "            unitaries_dict[b],\n",
    "            mps_dict[c],\n",
    "            left_environment,\n",
    "            max_virtual_bond_dim=MAX_VIRTUAL_BOND_DIM\n",
    "        )\n",
    "\n",
    "        out_phases.append(phase)\n",
    "\n",
    "    return out_phases"
   ]
  },
  {
   "cell_type": "markdown",
   "id": "86260bdd-abdb-4ae4-9352-6bac42373cd5",
   "metadata": {},
   "source": [
    "## Group data definitions"
   ]
  },
  {
   "cell_type": "code",
   "execution_count": 39,
   "id": "23e62c10-6c32-4ee4-9cde-ac7f05c69d7f",
   "metadata": {},
   "outputs": [],
   "source": [
    "from itertools import combinations"
   ]
  },
  {
   "cell_type": "code",
   "execution_count": 40,
   "id": "10721838-5776-4da8-9618-01dd30494f13",
   "metadata": {},
   "outputs": [],
   "source": [
    "symmetry_labels = [\n",
    "    'II',\n",
    "    'IX',\n",
    "    'XI',\n",
    "    'XX'\n",
    "]"
   ]
  },
  {
   "cell_type": "code",
   "execution_count": 41,
   "id": "d1cd215b-c62c-405e-9adc-9a97db7142e2",
   "metadata": {},
   "outputs": [],
   "source": [
    "symmetry_combination_labels = list(combinations(symmetry_labels, 2))"
   ]
  },
  {
   "cell_type": "code",
   "execution_count": 42,
   "id": "45a081ff-eb82-4ff5-9700-55f11824f366",
   "metadata": {},
   "outputs": [
    {
     "data": {
      "text/plain": [
       "[('II', 'IX'),\n",
       " ('II', 'XI'),\n",
       " ('II', 'XX'),\n",
       " ('IX', 'XI'),\n",
       " ('IX', 'XX'),\n",
       " ('XI', 'XX')]"
      ]
     },
     "execution_count": 42,
     "metadata": {},
     "output_type": "execute_result"
    }
   ],
   "source": [
    "symmetry_combination_labels"
   ]
  },
  {
   "cell_type": "code",
   "execution_count": 43,
   "id": "aab20cf0-ae51-4603-9192-5ba0741b6a6d",
   "metadata": {},
   "outputs": [],
   "source": [
    "e, a, b, c = symmetry_labels"
   ]
  },
  {
   "cell_type": "code",
   "execution_count": 44,
   "id": "955bfb99-9c73-4794-b14e-f62f7872abe5",
   "metadata": {},
   "outputs": [],
   "source": [
    "group_products = [\n",
    "    (a, b, c),\n",
    "    (b, a, c),\n",
    "    (a, c, b),\n",
    "    (c, a, b),\n",
    "    (c, b, a),\n",
    "    (b, c, a)\n",
    "]"
   ]
  },
  {
   "cell_type": "markdown",
   "id": "e23ca0a5-5848-4076-a514-a9c5824c46d9",
   "metadata": {},
   "source": [
    "## Test case 1"
   ]
  },
  {
   "cell_type": "code",
   "execution_count": 45,
   "id": "890fd7b0-1d77-4723-ad49-c57f1f2d5884",
   "metadata": {},
   "outputs": [],
   "source": [
    "proj_rep = True\n",
    "n1_pair = (1, 0)\n",
    "\n",
    "# May need to treat more consistently later.\n",
    "jw_string = False"
   ]
  },
  {
   "cell_type": "code",
   "execution_count": 46,
   "id": "e0811081-dc3f-4773-837d-1adec99ceed0",
   "metadata": {},
   "outputs": [],
   "source": [
    "sub_opts = [\n",
    "    optimizer_dict[(proj_rep, n1_pair, jw_string, i)]\n",
    "    for i in range(4)\n",
    "]"
   ]
  },
  {
   "cell_type": "markdown",
   "id": "1adff8e2-aa35-4dc8-8b6b-4d03a17e272c",
   "metadata": {},
   "source": [
    "### Right side"
   ]
  },
  {
   "cell_type": "code",
   "execution_count": 47,
   "id": "17016948-5a03-4c31-8f2d-7f557d9a1e8c",
   "metadata": {},
   "outputs": [],
   "source": [
    "test_opt = sub_opts[0]"
   ]
  },
  {
   "cell_type": "code",
   "execution_count": 48,
   "id": "5b850ba4-3e42-448d-aced-d3f14ad94eb2",
   "metadata": {},
   "outputs": [],
   "source": [
    "mps_tensors = [\n",
    "    opt.top_right_mps_tensors\n",
    "    for opt in sub_opts\n",
    "]"
   ]
  },
  {
   "cell_type": "code",
   "execution_count": 49,
   "id": "a11ded89-c97f-4e73-96ba-3933879a5fd4",
   "metadata": {},
   "outputs": [],
   "source": [
    "right_side_left_schmidt_values = [\n",
    "    opt.current_right_side_left_schmidt_values\n",
    "    for opt in sub_opts\n",
    "]"
   ]
  },
  {
   "cell_type": "code",
   "execution_count": 50,
   "id": "ea0a230e-420c-445e-8f15-aa229f67da96",
   "metadata": {},
   "outputs": [],
   "source": [
    "unitaries = [\n",
    "    opt.right_unitaries\n",
    "    for opt in sub_opts\n",
    "]"
   ]
  },
  {
   "cell_type": "code",
   "execution_count": 51,
   "id": "36819a61-22d1-4acf-9e89-506947905ff9",
   "metadata": {},
   "outputs": [],
   "source": [
    "null_opt = optimizer_dict[(proj_rep, n1_pair, 0, 0)]"
   ]
  },
  {
   "cell_type": "code",
   "execution_count": 52,
   "id": "e299a8fd-571d-4906-b3e2-aa3cfd5733a1",
   "metadata": {},
   "outputs": [],
   "source": [
    "left_environment = null_opt.right_side_left_symmetry_environment"
   ]
  },
  {
   "cell_type": "code",
   "execution_count": 53,
   "id": "408c7a5a-c8de-4834-af26-edfe870299ab",
   "metadata": {},
   "outputs": [],
   "source": [
    "proj_rep_phases = get_proj_rep_phases(\n",
    "    mps_tensors,\n",
    "    right_side_left_schmidt_values,\n",
    "    unitaries,\n",
    "    left_environment\n",
    ")"
   ]
  },
  {
   "cell_type": "code",
   "execution_count": 54,
   "id": "609ff137-c8dc-4c2a-b73c-ce042946bd23",
   "metadata": {},
   "outputs": [
    {
     "data": {
      "text/plain": [
       "[(-1+0j),\n",
       " (-0.9999999999999999+0j),\n",
       " (-1+0j),\n",
       " (-0.9999999999999999+0j),\n",
       " (-1+0j),\n",
       " (-1+0j)]"
      ]
     },
     "execution_count": 54,
     "metadata": {},
     "output_type": "execute_result"
    }
   ],
   "source": [
    "proj_rep_phases"
   ]
  },
  {
   "cell_type": "markdown",
   "id": "335dce36-b6d2-4ebe-808b-22fb4bf581f1",
   "metadata": {},
   "source": [
    "These are wrong... Wait, need \"gauge invariant\" phases?"
   ]
  },
  {
   "cell_type": "markdown",
   "id": "9efcb680-18ad-4f45-88cd-3f0da115477a",
   "metadata": {},
   "source": [
    "## Test case 2"
   ]
  },
  {
   "cell_type": "code",
   "execution_count": 55,
   "id": "3ec8c3d9-678a-4449-9553-6c33f7093964",
   "metadata": {},
   "outputs": [],
   "source": [
    "proj_rep = True\n",
    "n1_pair = (0, 0)\n",
    "\n",
    "# May need to treat more consistently later.\n",
    "jw_string = False"
   ]
  },
  {
   "cell_type": "code",
   "execution_count": 56,
   "id": "0db250e7-e9e7-4990-bbcd-d0838c864f7d",
   "metadata": {},
   "outputs": [],
   "source": [
    "sub_opts = [\n",
    "    optimizer_dict[(proj_rep, n1_pair, jw_string, i)]\n",
    "    for i in range(4)\n",
    "]"
   ]
  },
  {
   "cell_type": "markdown",
   "id": "5ae98e9d-8a7f-4ad7-ae4f-0cc3fc318658",
   "metadata": {},
   "source": [
    "### Right side"
   ]
  },
  {
   "cell_type": "code",
   "execution_count": 57,
   "id": "3966919b-3849-4e4e-abae-e4ca074ae096",
   "metadata": {},
   "outputs": [],
   "source": [
    "test_opt = sub_opts[0]"
   ]
  },
  {
   "cell_type": "code",
   "execution_count": 58,
   "id": "86602066-7af5-4c51-9ae2-f79b011774a6",
   "metadata": {},
   "outputs": [],
   "source": [
    "mps_tensors = [\n",
    "    opt.top_right_mps_tensors\n",
    "    for opt in sub_opts\n",
    "]"
   ]
  },
  {
   "cell_type": "code",
   "execution_count": 59,
   "id": "01a86186-b227-4038-b173-0e6d38a6f597",
   "metadata": {},
   "outputs": [],
   "source": [
    "right_side_left_schmidt_values = [\n",
    "    opt.current_right_side_left_schmidt_values\n",
    "    for opt in sub_opts\n",
    "]"
   ]
  },
  {
   "cell_type": "code",
   "execution_count": 60,
   "id": "6de7caf9-8a31-49a8-9381-b1f7da30ecd4",
   "metadata": {},
   "outputs": [],
   "source": [
    "unitaries = [\n",
    "    opt.right_unitaries\n",
    "    for opt in sub_opts\n",
    "]"
   ]
  },
  {
   "cell_type": "code",
   "execution_count": 61,
   "id": "3ecec0d7-0bc8-4fcd-b45c-b06f5cb2d5b0",
   "metadata": {},
   "outputs": [],
   "source": [
    "null_opt = optimizer_dict[(proj_rep, n1_pair, 0, 0)]"
   ]
  },
  {
   "cell_type": "code",
   "execution_count": 62,
   "id": "0e67de78-beb2-47b5-ac11-9fbed8e3b5e0",
   "metadata": {},
   "outputs": [],
   "source": [
    "left_environment = null_opt.right_side_left_symmetry_environment"
   ]
  },
  {
   "cell_type": "code",
   "execution_count": 63,
   "id": "c04ad30a-a163-4384-8914-d6435772c432",
   "metadata": {},
   "outputs": [],
   "source": [
    "proj_rep_phases = get_proj_rep_phases(\n",
    "    mps_tensors,\n",
    "    right_side_left_schmidt_values,\n",
    "    unitaries,\n",
    "    left_environment\n",
    ")"
   ]
  },
  {
   "cell_type": "code",
   "execution_count": 64,
   "id": "f3b1292d-7158-4604-9888-69d35c52ca47",
   "metadata": {},
   "outputs": [
    {
     "data": {
      "text/plain": [
       "[(1+0j), (1+0j), (1+0j), (1+0j), (1+0j), (1+0j)]"
      ]
     },
     "execution_count": 64,
     "metadata": {},
     "output_type": "execute_result"
    }
   ],
   "source": [
    "proj_rep_phases"
   ]
  },
  {
   "cell_type": "markdown",
   "id": "2560b223-fb0b-42d8-b07e-aa26b78ccf8e",
   "metadata": {},
   "source": [
    "Better...! So why wrong when I have a non-trivial fermion homology?"
   ]
  },
  {
   "cell_type": "markdown",
   "id": "2ccba7da-58d2-4eae-b762-617dbf98d472",
   "metadata": {},
   "source": [
    "## Test case 3"
   ]
  },
  {
   "cell_type": "code",
   "execution_count": 65,
   "id": "7f5a9476-3bd7-46a5-902b-668ecb6b9f90",
   "metadata": {},
   "outputs": [],
   "source": [
    "proj_rep = False\n",
    "n1_pair = (1, 0)\n",
    "\n",
    "# May need to treat more consistently later.\n",
    "jw_string = False"
   ]
  },
  {
   "cell_type": "code",
   "execution_count": 66,
   "id": "a4909c44-c539-48a8-b8ff-4f3dee4dc70d",
   "metadata": {},
   "outputs": [],
   "source": [
    "sub_opts = [\n",
    "    optimizer_dict[(proj_rep, n1_pair, jw_string, i)]\n",
    "    for i in range(4)\n",
    "]"
   ]
  },
  {
   "cell_type": "markdown",
   "id": "2f95a40b-6dc7-43c5-b719-cb986bb2070c",
   "metadata": {},
   "source": [
    "### Right side"
   ]
  },
  {
   "cell_type": "code",
   "execution_count": 67,
   "id": "94f708e8-70f2-4100-9553-9a9e53e4d17b",
   "metadata": {},
   "outputs": [],
   "source": [
    "test_opt = sub_opts[0]"
   ]
  },
  {
   "cell_type": "code",
   "execution_count": 68,
   "id": "f29bd6ac-3558-48fe-a049-33a9046d0470",
   "metadata": {},
   "outputs": [],
   "source": [
    "mps_tensors = [\n",
    "    opt.top_right_mps_tensors\n",
    "    for opt in sub_opts\n",
    "]"
   ]
  },
  {
   "cell_type": "code",
   "execution_count": 69,
   "id": "d2169de7-b64a-4e19-b708-7f2a962cc0eb",
   "metadata": {},
   "outputs": [],
   "source": [
    "right_side_left_schmidt_values = [\n",
    "    opt.current_right_side_left_schmidt_values\n",
    "    for opt in sub_opts\n",
    "]"
   ]
  },
  {
   "cell_type": "code",
   "execution_count": 70,
   "id": "1ee50541-9a28-4a08-844e-1f93b4f3d5e7",
   "metadata": {},
   "outputs": [],
   "source": [
    "unitaries = [\n",
    "    opt.right_unitaries\n",
    "    for opt in sub_opts\n",
    "]"
   ]
  },
  {
   "cell_type": "code",
   "execution_count": 71,
   "id": "fcfbc1c5-fb97-4e15-a704-6b507bb8485d",
   "metadata": {},
   "outputs": [],
   "source": [
    "null_opt = optimizer_dict[(proj_rep, n1_pair, 0, 0)]"
   ]
  },
  {
   "cell_type": "code",
   "execution_count": 72,
   "id": "2d6f90ba-de06-4344-8a4c-3b1f22e96f55",
   "metadata": {},
   "outputs": [],
   "source": [
    "left_environment = null_opt.right_side_left_symmetry_environment"
   ]
  },
  {
   "cell_type": "code",
   "execution_count": 73,
   "id": "b0875ec1-652a-44fd-8879-4f5d2948b546",
   "metadata": {},
   "outputs": [],
   "source": [
    "proj_rep_phases = get_proj_rep_phases(\n",
    "    mps_tensors,\n",
    "    right_side_left_schmidt_values,\n",
    "    unitaries,\n",
    "    left_environment\n",
    ")"
   ]
  },
  {
   "cell_type": "code",
   "execution_count": 74,
   "id": "09f0f001-cebb-47ba-9c6d-6b874b492bac",
   "metadata": {},
   "outputs": [
    {
     "data": {
      "text/plain": [
       "[(1+0j), (1+0j), (1+0j), (1+0j), (0.9999999999999999+0j), (1+0j)]"
      ]
     },
     "execution_count": 74,
     "metadata": {},
     "output_type": "execute_result"
    }
   ],
   "source": [
    "proj_rep_phases"
   ]
  },
  {
   "cell_type": "markdown",
   "id": "14b3d2a5-92b7-4678-9fa0-86135a50cdf2",
   "metadata": {},
   "source": [
    "## Test case 4"
   ]
  },
  {
   "cell_type": "code",
   "execution_count": 75,
   "id": "89128bca-bd95-4d85-b724-4d73c0da633b",
   "metadata": {},
   "outputs": [],
   "source": [
    "proj_rep = False\n",
    "n1_pair = (0, 0)\n",
    "\n",
    "# May need to treat more consistently later.\n",
    "jw_string = False"
   ]
  },
  {
   "cell_type": "code",
   "execution_count": 76,
   "id": "6d6bd1f0-4058-4c2a-8672-289ec47db1a4",
   "metadata": {},
   "outputs": [],
   "source": [
    "sub_opts = [\n",
    "    optimizer_dict[(proj_rep, n1_pair, jw_string, i)]\n",
    "    for i in range(4)\n",
    "]"
   ]
  },
  {
   "cell_type": "markdown",
   "id": "8e89301b-9b0f-42bd-8014-d1554c0707ef",
   "metadata": {},
   "source": [
    "### Right side"
   ]
  },
  {
   "cell_type": "code",
   "execution_count": 77,
   "id": "beebf684-f8bd-4f80-8c74-a679ed3dcddd",
   "metadata": {},
   "outputs": [],
   "source": [
    "test_opt = sub_opts[0]"
   ]
  },
  {
   "cell_type": "code",
   "execution_count": 78,
   "id": "9d680e94-7555-4218-9878-56e0fda1edaa",
   "metadata": {},
   "outputs": [],
   "source": [
    "mps_tensors = [\n",
    "    opt.top_right_mps_tensors\n",
    "    for opt in sub_opts\n",
    "]"
   ]
  },
  {
   "cell_type": "code",
   "execution_count": 79,
   "id": "4818c9f5-54b9-4e46-83f3-18da67ff19f9",
   "metadata": {},
   "outputs": [],
   "source": [
    "right_side_left_schmidt_values = [\n",
    "    opt.current_right_side_left_schmidt_values\n",
    "    for opt in sub_opts\n",
    "]"
   ]
  },
  {
   "cell_type": "code",
   "execution_count": 80,
   "id": "da9a3b8a-1927-4495-95c5-634a94168249",
   "metadata": {},
   "outputs": [],
   "source": [
    "unitaries = [\n",
    "    opt.right_unitaries\n",
    "    for opt in sub_opts\n",
    "]"
   ]
  },
  {
   "cell_type": "code",
   "execution_count": 81,
   "id": "f239d7e5-9274-4f8d-b596-92595453a43f",
   "metadata": {},
   "outputs": [],
   "source": [
    "null_opt = optimizer_dict[(proj_rep, n1_pair, 0, 0)]"
   ]
  },
  {
   "cell_type": "code",
   "execution_count": 82,
   "id": "2f5b0180-9aa5-4467-95f4-3205dcea64c9",
   "metadata": {},
   "outputs": [],
   "source": [
    "left_environment = null_opt.right_side_left_symmetry_environment"
   ]
  },
  {
   "cell_type": "code",
   "execution_count": 83,
   "id": "97bec64d-8c15-4b43-b774-0d31dfde0e8f",
   "metadata": {},
   "outputs": [],
   "source": [
    "proj_rep_phases = get_proj_rep_phases(\n",
    "    mps_tensors,\n",
    "    right_side_left_schmidt_values,\n",
    "    unitaries,\n",
    "    left_environment\n",
    ")"
   ]
  },
  {
   "cell_type": "code",
   "execution_count": 84,
   "id": "2e0e9725-caad-4071-a708-2b08dbed0e7a",
   "metadata": {},
   "outputs": [
    {
     "data": {
      "text/plain": [
       "[(1+0j), (1+0j), (1+0j), (1+0j), (1+0j), (1+0j)]"
      ]
     },
     "execution_count": 84,
     "metadata": {},
     "output_type": "execute_result"
    }
   ],
   "source": [
    "proj_rep_phases"
   ]
  },
  {
   "cell_type": "markdown",
   "id": "aa7be18f-230a-4862-8aaa-684a685257f3",
   "metadata": {},
   "source": [
    "# String order parameters"
   ]
  },
  {
   "cell_type": "code",
   "execution_count": 85,
   "id": "77dec1cc-9047-4499-816f-1f4a4a1db8da",
   "metadata": {},
   "outputs": [],
   "source": [
    "np_Z_01 = np.array([\n",
    "    [1, 0, 0, 0],\n",
    "    [0, -1, 0, 0],\n",
    "    [0, 0, 1, 0],\n",
    "    [0, 0, 0, -1]\n",
    "])\n",
    "\n",
    "np_Z_10 = np.array([\n",
    "    [1, 0, 0, 0],\n",
    "    [0, 1, 0, 0],\n",
    "    [0, 0, -1, 0],\n",
    "    [0, 0, 0, -1]\n",
    "])\n",
    "\n",
    "np_Z_11 = np.array([\n",
    "    [1, 0, 0, 0],\n",
    "    [0, -1, 0, 0],\n",
    "    [0, 0, -1, 0],\n",
    "    [0, 0, 0, 1]\n",
    "])"
   ]
  },
  {
   "cell_type": "code",
   "execution_count": 86,
   "id": "fa1b0bb5-932d-4cbc-9d4c-01280bbf27a5",
   "metadata": {},
   "outputs": [],
   "source": [
    "bosonic_np_phase_symmetries = [\n",
    "    np_00,\n",
    "    np_Z_01,\n",
    "    np_Z_10,\n",
    "    np_Z_11\n",
    "]"
   ]
  },
  {
   "cell_type": "code",
   "execution_count": 87,
   "id": "e7edbb49-55ea-49d5-b303-a0a18fa1a7b5",
   "metadata": {},
   "outputs": [],
   "source": [
    "bosonic_npc_phase_symmetries = [\n",
    "    to_npc_array(X) for X in bosonic_np_phase_symmetries\n",
    "]"
   ]
  },
  {
   "cell_type": "code",
   "execution_count": 88,
   "id": "c2e86f35-8de3-4fc8-8915-f6222bf345d2",
   "metadata": {},
   "outputs": [],
   "source": [
    "npc_Z_01 = to_npc_array(np_Z_01)\n",
    "npc_Z_10 = to_npc_array(np_Z_10)\n",
    "npc_Z_11 = to_npc_array(np_Z_11)"
   ]
  },
  {
   "cell_type": "code",
   "execution_count": 89,
   "id": "fee5f761-4dc1-4b8e-8c66-0f154178346d",
   "metadata": {},
   "outputs": [],
   "source": [
    "fermion_identity = fermionic_npc_symmetries[0]"
   ]
  },
  {
   "cell_type": "code",
   "execution_count": 90,
   "id": "9da705c4-dc15-4fc7-9214-4c4b47d6c2e4",
   "metadata": {},
   "outputs": [],
   "source": [
    "symmetry_term = [npc_01, fermion_identity]*50"
   ]
  },
  {
   "cell_type": "code",
   "execution_count": 91,
   "id": "25a8dbcb-07bd-4c56-8eea-361901e52729",
   "metadata": {},
   "outputs": [],
   "source": [
    "string_order_term_1 = [npc_00, fermion_identity] + symmetry_term + [npc_00,]\n",
    "string_order_term_2 = [npc_Z_01, fermion_identity] + symmetry_term + [npc_Z_01,]"
   ]
  },
  {
   "cell_type": "code",
   "execution_count": 92,
   "id": "19843907-55ed-4356-8236-8cc48bdcb9bd",
   "metadata": {
    "scrolled": true
   },
   "outputs": [],
   "source": [
    "string_order_params = dict()\n",
    "\n",
    "n = 0\n",
    "\n",
    "for l, v in loaded_data.items():\n",
    "    for i, s in enumerate(bosonic_npc_symmetries):\n",
    "        for j, b1 in enumerate(bosonic_npc_phase_symmetries):\n",
    "            for k, b2 in enumerate(bosonic_npc_phase_symmetries):\n",
    "\n",
    "                term = [b1, fermion_identity] + [s, fermion_identity]*5 + [b2,]\n",
    "                exp = v.expectation_value_multi_sites(term, 50)\n",
    "\n",
    "                string_order_params[(*l, i, j, k)] = exp\n",
    "                n+=1"
   ]
  },
  {
   "cell_type": "code",
   "execution_count": 93,
   "id": "50b7c971-a1b8-4e1e-bcd6-ef89599129e7",
   "metadata": {},
   "outputs": [],
   "source": [
    "large_string_order_params = {\n",
    "    k: v\n",
    "    for k, v in string_order_params.items()\n",
    "    if v > 0.1\n",
    "}"
   ]
  },
  {
   "cell_type": "code",
   "execution_count": 94,
   "id": "57d29018-18c0-4cfc-aee2-f0098218a034",
   "metadata": {},
   "outputs": [
    {
     "data": {
      "text/plain": [
       "{(False, (1, 1), 0, 0, 0): array(1.),\n",
       " (False, (1, 1), 3, 0, 0): array(1.),\n",
       " (False, (0, 0), 0, 0, 0): array(1.),\n",
       " (False, (0, 0), 1, 0, 0): array(1.),\n",
       " (False, (0, 0), 2, 0, 0): array(1.),\n",
       " (False, (0, 0), 3, 0, 0): array(1.),\n",
       " (True, (1, 0), 0, 0, 0): array(1.),\n",
       " (True, (0, 1), 0, 0, 0): array(1.),\n",
       " (True, (0, 0), 0, 0, 0): array(1.),\n",
       " (True, (1, 1), 0, 0, 0): array(1.),\n",
       " (False, (1, 0), 0, 0, 0): array(1.),\n",
       " (False, (1, 0), 2, 0, 0): array(1.),\n",
       " (False, (0, 1), 0, 0, 0): array(1.),\n",
       " (False, (0, 1), 1, 0, 0): array(1.)}"
      ]
     },
     "execution_count": 94,
     "metadata": {},
     "output_type": "execute_result"
    }
   ],
   "source": [
    "large_string_order_params"
   ]
  },
  {
   "cell_type": "code",
   "execution_count": 95,
   "id": "6447a1b0-9ec2-4740-a61c-a9bc11bf0ef6",
   "metadata": {},
   "outputs": [
    {
     "data": {
      "text/plain": [
       "{(False, (1, 1), 0, 0, 0): array(1.),\n",
       " (False, (1, 1), 3, 0, 0): array(1.),\n",
       " (False, (0, 0), 0, 0, 0): array(1.),\n",
       " (False, (0, 0), 1, 0, 0): array(1.),\n",
       " (False, (0, 0), 2, 0, 0): array(1.),\n",
       " (False, (0, 0), 3, 0, 0): array(1.),\n",
       " (False, (1, 0), 0, 0, 0): array(1.),\n",
       " (False, (1, 0), 2, 0, 0): array(1.),\n",
       " (False, (0, 1), 0, 0, 0): array(1.),\n",
       " (False, (0, 1), 1, 0, 0): array(1.)}"
      ]
     },
     "execution_count": 95,
     "metadata": {},
     "output_type": "execute_result"
    }
   ],
   "source": [
    "{\n",
    "    k: v\n",
    "    for k, v in large_string_order_params.items()\n",
    "    if not k[0]\n",
    "}"
   ]
  },
  {
   "cell_type": "code",
   "execution_count": 96,
   "id": "471463b4-140e-4289-9cda-3bef3908a43e",
   "metadata": {},
   "outputs": [
    {
     "data": {
      "text/plain": [
       "True"
      ]
     },
     "execution_count": 96,
     "metadata": {},
     "output_type": "execute_result"
    }
   ],
   "source": [
    "np.all((-np_01 @ np_Z_01 @ np_01) == np_Z_01)"
   ]
  },
  {
   "cell_type": "code",
   "execution_count": 97,
   "id": "9387a1b5-58a7-4b66-bd79-946fe0a867ef",
   "metadata": {},
   "outputs": [
    {
     "data": {
      "text/plain": [
       "True"
      ]
     },
     "execution_count": 97,
     "metadata": {},
     "output_type": "execute_result"
    }
   ],
   "source": [
    "np.all((-np_10 @ np_Z_10 @ np_10) == np_Z_10)"
   ]
  },
  {
   "cell_type": "code",
   "execution_count": 98,
   "id": "434033ae-7a9d-4c2c-9cae-5bde947be371",
   "metadata": {},
   "outputs": [
    {
     "data": {
      "text/plain": [
       "True"
      ]
     },
     "execution_count": 98,
     "metadata": {},
     "output_type": "execute_result"
    }
   ],
   "source": [
    "np.all((np_11 @ np_Z_11 @ np_11) == np_Z_11)"
   ]
  },
  {
   "cell_type": "code",
   "execution_count": 99,
   "id": "ffccf7a0-4cd6-4eac-9a43-57e79b0674ac",
   "metadata": {},
   "outputs": [
    {
     "data": {
      "text/plain": [
       "True"
      ]
     },
     "execution_count": 99,
     "metadata": {},
     "output_type": "execute_result"
    }
   ],
   "source": [
    "np.all((-np_11 @ np_Z_10 @ np_11) == np_Z_10)"
   ]
  },
  {
   "cell_type": "code",
   "execution_count": 100,
   "id": "7fd90be1-e3b3-4294-9c19-cb55dcfc6f8d",
   "metadata": {},
   "outputs": [
    {
     "data": {
      "text/plain": [
       "True"
      ]
     },
     "execution_count": 100,
     "metadata": {},
     "output_type": "execute_result"
    }
   ],
   "source": [
    "np.all((-np_11 @ np_Z_01 @ np_11) == np_Z_01)"
   ]
  },
  {
   "cell_type": "code",
   "execution_count": 101,
   "id": "55ac4491-82dc-4776-9b6c-e83c1269f816",
   "metadata": {},
   "outputs": [
    {
     "data": {
      "text/plain": [
       "True"
      ]
     },
     "execution_count": 101,
     "metadata": {},
     "output_type": "execute_result"
    }
   ],
   "source": [
    "np.all((np_01 @ np_Z_10 @ np_01) == np_Z_10)"
   ]
  },
  {
   "cell_type": "code",
   "execution_count": 102,
   "id": "47f77a12-1b26-4bf6-9275-72fda824935b",
   "metadata": {},
   "outputs": [
    {
     "data": {
      "text/plain": [
       "True"
      ]
     },
     "execution_count": 102,
     "metadata": {},
     "output_type": "execute_result"
    }
   ],
   "source": [
    "np.all((np_10 @ np_Z_01 @ np_10) == np_Z_01)"
   ]
  },
  {
   "cell_type": "code",
   "execution_count": 103,
   "id": "3aafc908-cf97-41b2-9724-3610c346c2e5",
   "metadata": {},
   "outputs": [
    {
     "data": {
      "text/plain": [
       "array(1.57772181e-29)"
      ]
     },
     "execution_count": 103,
     "metadata": {},
     "output_type": "execute_result"
    }
   ],
   "source": [
    "string_order_params[(False, (0, 0), 1, 2, 2)]"
   ]
  },
  {
   "cell_type": "code",
   "execution_count": 104,
   "id": "a970ab06-416e-4412-953f-0b0e5a1649eb",
   "metadata": {},
   "outputs": [
    {
     "data": {
      "text/plain": [
       "array(-2.4713882e-28)"
      ]
     },
     "execution_count": 104,
     "metadata": {},
     "output_type": "execute_result"
    }
   ],
   "source": [
    "string_order_params[(True, (0, 0), 1, 2, 2)]"
   ]
  },
  {
   "cell_type": "markdown",
   "id": "8134f43c-9b21-4fa9-9bc1-ee599e881a2a",
   "metadata": {},
   "source": [
    "All looks good..."
   ]
  },
  {
   "cell_type": "markdown",
   "id": "850303ee-7499-4f40-91e4-a74dc7a7c690",
   "metadata": {},
   "source": [
    "# Verify SPT phase with environments"
   ]
  },
  {
   "cell_type": "code",
   "execution_count": 136,
   "id": "b2bee669-0e6d-4851-8f8c-7c2fb3d10051",
   "metadata": {},
   "outputs": [],
   "source": [
    "test_cases = [\n",
    "    cases[True, (0, 0), 0, i]\n",
    "    for i in range(4)\n",
    "]"
   ]
  },
  {
   "cell_type": "code",
   "execution_count": 137,
   "id": "6f917326-ab51-409c-82c3-4ee5f4a8245a",
   "metadata": {},
   "outputs": [],
   "source": [
    "test_case = test_cases[0]"
   ]
  },
  {
   "cell_type": "code",
   "execution_count": 138,
   "id": "0fea56d8-3c41-4b47-99af-0b3f17bc33d8",
   "metadata": {},
   "outputs": [
    {
     "data": {
      "text/plain": [
       "<SPTOptimization.SymmetryActionWithBoundaryUnitaries.SymmetryActionWithBoundaryUnitaries at 0x7d4bb6528bd0>"
      ]
     },
     "execution_count": 138,
     "metadata": {},
     "output_type": "execute_result"
    }
   ],
   "source": [
    "test_case"
   ]
  },
  {
   "cell_type": "code",
   "execution_count": 139,
   "id": "d4f2324e-5ec5-4eb3-a39a-da9034be84ea",
   "metadata": {},
   "outputs": [
    {
     "data": {
      "text/plain": [
       "<npc.Array shape=(4, 4) labels=['vR', 'vR*']>"
      ]
     },
     "execution_count": 139,
     "metadata": {},
     "output_type": "execute_result"
    }
   ],
   "source": [
    "test_case.right_projected_symmetry_state"
   ]
  },
  {
   "cell_type": "code",
   "execution_count": 140,
   "id": "5d7710b2-f2e9-473e-b6e7-229e6aab7168",
   "metadata": {},
   "outputs": [],
   "source": [
    "def multiply_right_environments(env1, env2):\n",
    "    out = npc.tensordot(\n",
    "        env1,\n",
    "        env2,\n",
    "        [['vR',], ['vR*']]\n",
    "    )\n",
    "\n",
    "    return out"
   ]
  },
  {
   "cell_type": "code",
   "execution_count": 141,
   "id": "b4796e67-c7c3-4075-9a28-d14939d32472",
   "metadata": {},
   "outputs": [],
   "source": [
    "from functools import reduce"
   ]
  },
  {
   "cell_type": "code",
   "execution_count": 142,
   "id": "d9f2f865-12a4-47b9-8aa7-6a8182db04de",
   "metadata": {},
   "outputs": [
    {
     "name": "stdout",
     "output_type": "stream",
     "text": [
      "Help on built-in function reduce in module _functools:\n",
      "\n",
      "reduce(...)\n",
      "    reduce(function, iterable[, initial]) -> value\n",
      "    \n",
      "    Apply a function of two arguments cumulatively to the items of a sequence\n",
      "    or iterable, from left to right, so as to reduce the iterable to a single\n",
      "    value.  For example, reduce(lambda x, y: x+y, [1, 2, 3, 4, 5]) calculates\n",
      "    ((((1+2)+3)+4)+5).  If initial is present, it is placed before the items\n",
      "    of the iterable in the calculation, and serves as a default when the\n",
      "    iterable is empty.\n",
      "\n"
     ]
    }
   ],
   "source": [
    "help(reduce)"
   ]
  },
  {
   "cell_type": "code",
   "execution_count": 143,
   "id": "81774806-e526-4d2a-a722-d71a57c806ac",
   "metadata": {},
   "outputs": [],
   "source": [
    "def normalise_scaled_unitary(matrix):\n",
    "    m = matrix\n",
    "\n",
    "    tr = npc.tensordot(\n",
    "        m,\n",
    "        m.conj(),\n",
    "        [['vR', 'vR*'], ['vR*', 'vR']]\n",
    "    )\n",
    "\n",
    "    dim = m.to_ndarray().shape[0]\n",
    "\n",
    "    scale = np.sqrt(tr/dim)\n",
    "\n",
    "    out = m/scale\n",
    "\n",
    "    return out"
   ]
  },
  {
   "cell_type": "code",
   "execution_count": 144,
   "id": "3083a367-5aa5-462e-aea9-08b0d987bb79",
   "metadata": {},
   "outputs": [],
   "source": [
    "def right_proj_rep_invariant_phase_from_environments(case0, case1, case2):\n",
    "    v0 = case0.right_projected_symmetry_state\n",
    "\n",
    "    v1 = case1.right_projected_symmetry_state\n",
    "    v1 = npc.tensordot(\n",
    "        v0.conj(),\n",
    "        v1,\n",
    "        [['vR',], ['vR*']]\n",
    "    )\n",
    "    v1 = normalise_scaled_unitary(v1)\n",
    "\n",
    "    #print(np.round(npc.tensordot(v1, v1.conj(), [['vR',], ['vR*']]).to_ndarray()), 2)\n",
    "\n",
    "    v2 = case2.right_projected_symmetry_state\n",
    "    v2 = npc.tensordot(\n",
    "        v0.conj(),\n",
    "        v2,\n",
    "        [['vR',], ['vR*']]\n",
    "    )\n",
    "    v2 = normalise_scaled_unitary(v2)\n",
    "\n",
    "    #print(np.round(npc.tensordot(v2, v2.conj(), [['vR',], ['vR*']]).to_ndarray()), 2)\n",
    "\n",
    "    t = reduce(\n",
    "        multiply_right_environments,\n",
    "        [v1, v2, v1.conj(), v2.conj()]\n",
    "    )\n",
    "\n",
    "    exp = npc.trace(t)\n",
    "    phase = exp/np.abs(exp)\n",
    "\n",
    "    return phase"
   ]
  },
  {
   "cell_type": "code",
   "execution_count": 145,
   "id": "b7ed30a1-8fb3-4ffd-9c76-5020e63ae2a1",
   "metadata": {},
   "outputs": [
    {
     "data": {
      "text/plain": [
       "(1+0j)"
      ]
     },
     "execution_count": 145,
     "metadata": {},
     "output_type": "execute_result"
    }
   ],
   "source": [
    "right_proj_rep_invariant_phase_from_environments(\n",
    "    test_cases[0],\n",
    "    test_cases[1],\n",
    "    test_cases[2]\n",
    ")"
   ]
  },
  {
   "cell_type": "code",
   "execution_count": 115,
   "id": "2dd40dd0-11e7-4b01-bf3d-e8fc1ede4e0f",
   "metadata": {},
   "outputs": [],
   "source": [
    "from itertools import combinations"
   ]
  },
  {
   "cell_type": "code",
   "execution_count": 116,
   "id": "4b45ab62-739b-4484-b6d0-3f8416013c84",
   "metadata": {},
   "outputs": [],
   "source": [
    "case_pairs = list(combinations(test_cases[1:], 2))"
   ]
  },
  {
   "cell_type": "code",
   "execution_count": 117,
   "id": "b7cbb5eb-2137-42f7-8589-12a064338045",
   "metadata": {},
   "outputs": [],
   "source": [
    "phases = [\n",
    "    right_proj_rep_invariant_phase_from_environments(test_cases[0], c1, c2)\n",
    "    for c1, c2 in case_pairs\n",
    "]"
   ]
  },
  {
   "cell_type": "code",
   "execution_count": 118,
   "id": "04c794b5-9505-443d-8190-34ab76cd4525",
   "metadata": {},
   "outputs": [
    {
     "data": {
      "text/plain": [
       "[(1+0j), (1+0j), (1+0j)]"
      ]
     },
     "execution_count": 118,
     "metadata": {},
     "output_type": "execute_result"
    }
   ],
   "source": [
    "phases"
   ]
  },
  {
   "cell_type": "code",
   "execution_count": 119,
   "id": "3bb2f97d-1032-4bfa-9005-057bfb06a681",
   "metadata": {},
   "outputs": [],
   "source": [
    "test_cases = [\n",
    "    cases[False, (0, 0), 0, i]\n",
    "    for i in range(4)\n",
    "]"
   ]
  },
  {
   "cell_type": "code",
   "execution_count": 120,
   "id": "f34a7bc3-0b6c-401b-bdb0-3038f4eeee94",
   "metadata": {},
   "outputs": [],
   "source": [
    "case_pairs = list(combinations(test_cases[1:], 2))"
   ]
  },
  {
   "cell_type": "code",
   "execution_count": 121,
   "id": "8153e537-3a5a-4f18-8645-0a7f7b1fd8c9",
   "metadata": {},
   "outputs": [],
   "source": [
    "phases = [\n",
    "    right_proj_rep_invariant_phase_from_environments(test_cases[0], c1, c2)\n",
    "    for c1, c2 in case_pairs\n",
    "]"
   ]
  },
  {
   "cell_type": "code",
   "execution_count": 122,
   "id": "fb3b08dc-718b-4a8e-9645-f276f7129b4d",
   "metadata": {},
   "outputs": [
    {
     "data": {
      "text/plain": [
       "[(1+0j), (1+0j), (1+0j)]"
      ]
     },
     "execution_count": 122,
     "metadata": {},
     "output_type": "execute_result"
    }
   ],
   "source": [
    "phases"
   ]
  },
  {
   "cell_type": "code",
   "execution_count": 123,
   "id": "94b7fc43-ac2b-44c4-99d6-e347048c6e7a",
   "metadata": {},
   "outputs": [],
   "source": [
    "test_cases = [\n",
    "    cases[True, (1, 0), 0, i]\n",
    "    for i in range(4)\n",
    "]"
   ]
  },
  {
   "cell_type": "code",
   "execution_count": 124,
   "id": "9eda859d-e474-42fd-943c-4816e3992807",
   "metadata": {},
   "outputs": [],
   "source": [
    "case_pairs = list(combinations(test_cases[1:], 2))"
   ]
  },
  {
   "cell_type": "code",
   "execution_count": 125,
   "id": "a4343803-ec4a-4337-969a-d6671f330ea5",
   "metadata": {},
   "outputs": [],
   "source": [
    "phases = [\n",
    "    right_proj_rep_invariant_phase_from_environments(test_cases[0], c1, c2)\n",
    "    for c1, c2 in case_pairs\n",
    "]"
   ]
  },
  {
   "cell_type": "code",
   "execution_count": 126,
   "id": "1921d3cd-b9b6-4be3-a35a-b1c3931f78bf",
   "metadata": {},
   "outputs": [
    {
     "data": {
      "text/plain": [
       "[(1+0j), (1+0j), (1+0j)]"
      ]
     },
     "execution_count": 126,
     "metadata": {},
     "output_type": "execute_result"
    }
   ],
   "source": [
    "phases"
   ]
  },
  {
   "cell_type": "code",
   "execution_count": 127,
   "id": "a4ed3f62-e0fd-41de-934e-5126e5d7f5a4",
   "metadata": {},
   "outputs": [],
   "source": [
    "def right_proj_rep_invariant_phase_from_environments_1(case1, case2):\n",
    "    v1 = case1.right_projected_symmetry_state\n",
    "    v1 = normalise_scaled_unitary(v1)\n",
    "\n",
    "    #print(np.round(npc.tensordot(v1, v1.conj(), [['vR',], ['vR*']]).to_ndarray()), 2)\n",
    "\n",
    "    v2 = case2.right_projected_symmetry_state\n",
    "\n",
    "    v2 = normalise_scaled_unitary(v2)\n",
    "\n",
    "    #print(np.round(npc.tensordot(v2, v2.conj(), [['vR',], ['vR*']]).to_ndarray()), 2)\n",
    "\n",
    "    t = reduce(\n",
    "        multiply_right_environments,\n",
    "        [v1, v2, v1.conj(), v2.conj()]\n",
    "    )\n",
    "\n",
    "    exp = npc.trace(t)\n",
    "    phase = exp/np.abs(exp)\n",
    "\n",
    "    return phase"
   ]
  },
  {
   "cell_type": "code",
   "execution_count": 128,
   "id": "9961e501-0f56-4f80-a37b-b5a9b5327955",
   "metadata": {},
   "outputs": [
    {
     "data": {
      "text/plain": [
       "[(1+0j), (1+0j), (1+0j)]"
      ]
     },
     "execution_count": 128,
     "metadata": {},
     "output_type": "execute_result"
    }
   ],
   "source": [
    "test_cases = [\n",
    "    cases[True, (0, 0), 0, i]\n",
    "    for i in range(4)\n",
    "]\n",
    "\n",
    "case_pairs = list(combinations(test_cases[1:], 2))\n",
    "\n",
    "[\n",
    "    right_proj_rep_invariant_phase_from_environments_1(c1, c2)\n",
    "    for c1, c2 in case_pairs\n",
    "]"
   ]
  },
  {
   "cell_type": "code",
   "execution_count": 129,
   "id": "7ca5462d-f255-4eb8-bdff-783937be33de",
   "metadata": {},
   "outputs": [
    {
     "data": {
      "text/plain": [
       "[(1+0j), (1+0j), (1+0j)]"
      ]
     },
     "execution_count": 129,
     "metadata": {},
     "output_type": "execute_result"
    }
   ],
   "source": [
    "test_cases = [\n",
    "    cases[False, (0, 0), 0, i]\n",
    "    for i in range(4)\n",
    "]\n",
    "\n",
    "case_pairs = list(combinations(test_cases[1:], 2))\n",
    "\n",
    "[\n",
    "    right_proj_rep_invariant_phase_from_environments_1(c1, c2)\n",
    "    for c1, c2 in case_pairs\n",
    "]"
   ]
  },
  {
   "cell_type": "code",
   "execution_count": 130,
   "id": "6bcbc904-f466-4c44-8af3-80190c74b45a",
   "metadata": {},
   "outputs": [
    {
     "data": {
      "text/plain": [
       "[(1+0j), (1+0j), (1+0j)]"
      ]
     },
     "execution_count": 130,
     "metadata": {},
     "output_type": "execute_result"
    }
   ],
   "source": [
    "test_cases = [\n",
    "    cases[True, (1, 0), 0, i]\n",
    "    for i in range(4)\n",
    "]\n",
    "\n",
    "case_pairs = list(combinations(test_cases[1:], 2))\n",
    "\n",
    "[\n",
    "    right_proj_rep_invariant_phase_from_environments_1(c1, c2)\n",
    "    for c1, c2 in case_pairs\n",
    "]"
   ]
  },
  {
   "cell_type": "code",
   "execution_count": 131,
   "id": "32e8510e-9556-44b9-b705-27c363a0df67",
   "metadata": {},
   "outputs": [
    {
     "data": {
      "text/plain": [
       "[(1+0j), (1+0j), (1+0j)]"
      ]
     },
     "execution_count": 131,
     "metadata": {},
     "output_type": "execute_result"
    }
   ],
   "source": [
    "test_cases = [\n",
    "    shifted_cases[True, (0, 0), 0, i]\n",
    "    for i in range(4)\n",
    "]\n",
    "\n",
    "case_pairs = list(combinations(test_cases[1:], 2))\n",
    "\n",
    "[\n",
    "    right_proj_rep_invariant_phase_from_environments_1(c1, c2)\n",
    "    for c1, c2 in case_pairs\n",
    "]"
   ]
  },
  {
   "cell_type": "code",
   "execution_count": 132,
   "id": "d4a654e7-cbaa-452c-bcb4-ea986595a4d7",
   "metadata": {},
   "outputs": [
    {
     "data": {
      "text/plain": [
       "[(1+0j), (1+0j), (1+0j)]"
      ]
     },
     "execution_count": 132,
     "metadata": {},
     "output_type": "execute_result"
    }
   ],
   "source": [
    "test_cases = [\n",
    "    shifted_cases[False, (0, 0), 0, i]\n",
    "    for i in range(4)\n",
    "]\n",
    "\n",
    "case_pairs = list(combinations(test_cases[1:], 2))\n",
    "\n",
    "[\n",
    "    right_proj_rep_invariant_phase_from_environments_1(c1, c2)\n",
    "    for c1, c2 in case_pairs\n",
    "]"
   ]
  },
  {
   "cell_type": "code",
   "execution_count": 133,
   "id": "dd0168a3-8913-459a-95a9-e800f623f8cb",
   "metadata": {},
   "outputs": [
    {
     "data": {
      "text/plain": [
       "[(1+0j), (1+0j), (1+0j)]"
      ]
     },
     "execution_count": 133,
     "metadata": {},
     "output_type": "execute_result"
    }
   ],
   "source": [
    "test_cases = [\n",
    "    shifted_cases[True, (1, 0), 0, i]\n",
    "    for i in range(4)\n",
    "]\n",
    "\n",
    "case_pairs = list(combinations(test_cases[1:], 2))\n",
    "\n",
    "[\n",
    "    right_proj_rep_invariant_phase_from_environments_1(c1, c2)\n",
    "    for c1, c2 in case_pairs\n",
    "]"
   ]
  },
  {
   "cell_type": "markdown",
   "id": "e6bc1cb3-324d-4d8c-8e0e-019b91036867",
   "metadata": {},
   "source": [
    "Explicitly multiply vectors."
   ]
  },
  {
   "cell_type": "code",
   "execution_count": 146,
   "id": "c7f7cbcb-61da-42f9-b3af-02675227d804",
   "metadata": {},
   "outputs": [],
   "source": [
    "test_cases = [\n",
    "    cases[True, (0, 0), 0, i]\n",
    "    for i in range(4)\n",
    "]"
   ]
  },
  {
   "cell_type": "code",
   "execution_count": 147,
   "id": "8b1f1245-bda4-4fc5-953c-dff9cebc19dc",
   "metadata": {},
   "outputs": [],
   "source": [
    "case1, case2, case3 = test_cases[1:]"
   ]
  },
  {
   "cell_type": "code",
   "execution_count": 154,
   "id": "213761c8-03e4-411e-8295-e0c559f97306",
   "metadata": {},
   "outputs": [],
   "source": [
    "v1 = case1.right_projected_symmetry_state\n",
    "v1 = normalise_scaled_unitary(v1)\n",
    "\n",
    "v2 = case2.right_projected_symmetry_state\n",
    "v2 = normalise_scaled_unitary(v2)\n",
    "\n",
    "v12 = multiply_right_environments(v1, v2)\n",
    "v21 = multiply_right_environments(v2, v1)\n",
    "\n",
    "v3 = case3.right_projected_symmetry_state\n",
    "v3 = normalise_scaled_unitary(v3)"
   ]
  },
  {
   "cell_type": "code",
   "execution_count": 155,
   "id": "a3f1a9df-de48-40f5-b4db-5bfbd72cbde8",
   "metadata": {},
   "outputs": [
    {
     "data": {
      "text/plain": [
       "(<npc.Array shape=(4, 4) labels=['vR*', 'vR']>,\n",
       " <npc.Array shape=(4, 4) labels=['vR*', 'vR']>,\n",
       " <npc.Array shape=(4, 4) labels=['vR', 'vR*']>)"
      ]
     },
     "execution_count": 155,
     "metadata": {},
     "output_type": "execute_result"
    }
   ],
   "source": [
    "v12, v21, v3"
   ]
  },
  {
   "cell_type": "code",
   "execution_count": 157,
   "id": "eeebae8e-337f-4d55-a8a5-da49e6d1919e",
   "metadata": {},
   "outputs": [],
   "source": [
    "X12 = v12.to_ndarray()"
   ]
  },
  {
   "cell_type": "code",
   "execution_count": 158,
   "id": "5248984d-1968-4ea1-b967-0257ab9b5ed5",
   "metadata": {},
   "outputs": [],
   "source": [
    "X21 = v21.to_ndarray()"
   ]
  },
  {
   "cell_type": "code",
   "execution_count": 159,
   "id": "fd797cd0-0587-42ee-ab39-cddd204b1c4d",
   "metadata": {},
   "outputs": [],
   "source": [
    "X3 = v3.to_ndarray()"
   ]
  },
  {
   "cell_type": "code",
   "execution_count": 160,
   "id": "88bf093c-5e03-4170-9842-290b7796faca",
   "metadata": {},
   "outputs": [
    {
     "data": {
      "text/plain": [
       "array([[-1.+0.j, -1.+0.j, -1.+0.j, -1.+0.j],\n",
       "       [-1.+0.j, -1.+0.j, -1.+0.j, -1.-0.j],\n",
       "       [-1.+0.j, -1.+0.j, -1.-0.j, -1.+0.j],\n",
       "       [-1.+0.j, -1.-0.j, -1.+0.j, -1.+0.j]])"
      ]
     },
     "execution_count": 160,
     "metadata": {},
     "output_type": "execute_result"
    }
   ],
   "source": [
    "X3/X12"
   ]
  },
  {
   "cell_type": "code",
   "execution_count": 161,
   "id": "0b423b55-907a-4f61-aeea-ea121647e47c",
   "metadata": {},
   "outputs": [
    {
     "data": {
      "text/plain": [
       "array([[-1.+0.j, -1.+0.j, -1.+0.j, -1.+0.j],\n",
       "       [-1.+0.j, -1.+0.j, -1.+0.j, -1.-0.j],\n",
       "       [-1.+0.j, -1.+0.j, -1.-0.j, -1.+0.j],\n",
       "       [-1.+0.j, -1.-0.j, -1.+0.j, -1.+0.j]])"
      ]
     },
     "execution_count": 161,
     "metadata": {},
     "output_type": "execute_result"
    }
   ],
   "source": [
    "X3/X21"
   ]
  },
  {
   "cell_type": "markdown",
   "id": "ebf87cc6-11f3-484b-b57c-08716df3931a",
   "metadata": {},
   "source": [
    "[Compare with ZXZ model](./../optimisation/cluster_state_virtual_vector_proj_rep_check.ipynb)\n",
    "\n",
    "So these results are definitely wrong."
   ]
  },
  {
   "cell_type": "markdown",
   "id": "d2509d32-bc4c-4540-a134-420dc1f4d732",
   "metadata": {},
   "source": [
    "# Check entanglement spectrum"
   ]
  },
  {
   "cell_type": "code",
   "execution_count": 134,
   "id": "d7787e7e-2b4c-4201-a634-c69054937fd0",
   "metadata": {},
   "outputs": [
    {
     "name": "stdout",
     "output_type": "stream",
     "text": [
      "(False, (1, 1)) - [0.70710678 0.70710678]\n",
      "(False, (0, 0)) - [1.]\n",
      "(True, (1, 0)) - [0.5 0.5 0.5 0.5]\n",
      "(True, (0, 1)) - [0.5 0.5 0.5 0.5]\n",
      "(True, (0, 0)) - [0.5 0.5 0.5 0.5]\n",
      "(True, (1, 1)) - [0.5 0.5 0.5 0.5]\n",
      "(False, (1, 0)) - [0.70710678 0.70710678]\n",
      "(False, (0, 1)) - [0.70710678 0.70710678]\n"
     ]
    }
   ],
   "source": [
    "for k, v in loaded_data.items():\n",
    "    print(f\"{k} - {v.get_SR(101)}\")"
   ]
  },
  {
   "cell_type": "code",
   "execution_count": 135,
   "id": "b2f4833d-34b2-46e1-bbdd-272676c51e09",
   "metadata": {},
   "outputs": [
    {
     "name": "stdout",
     "output_type": "stream",
     "text": [
      "(False, (1, 1)) - [0.70710678 0.70710678]\n",
      "(False, (0, 0)) - [1.]\n",
      "(True, (1, 0)) - [0.5 0.5 0.5 0.5]\n",
      "(True, (0, 1)) - [0.5 0.5 0.5 0.5]\n",
      "(True, (0, 0)) - [0.5 0.5 0.5 0.5]\n",
      "(True, (1, 1)) - [0.5 0.5 0.5 0.5]\n",
      "(False, (1, 0)) - [0.70710678 0.70710678]\n",
      "(False, (0, 1)) - [0.70710678 0.70710678]\n"
     ]
    }
   ],
   "source": [
    "for k, v in loaded_data.items():\n",
    "    print(f\"{k} - {v.get_SR(100)}\")"
   ]
  },
  {
   "cell_type": "markdown",
   "id": "f619dc99-f278-4c5c-8011-be7667c91a9f",
   "metadata": {},
   "source": [
    "So there is something going on... The 2-fold degeneracy due to the fermion spt is unexpected for me."
   ]
  },
  {
   "cell_type": "markdown",
   "id": "c00ac38e-9676-47f2-bad3-f42b244c4100",
   "metadata": {},
   "source": [
    "# To-do:\n",
    "Calculate string order parameters."
   ]
  }
 ],
 "metadata": {
  "kernelspec": {
   "display_name": "num_spt_venv_p11",
   "language": "python",
   "name": "num_spt_venv_p11"
  },
  "language_info": {
   "codemirror_mode": {
    "name": "ipython",
    "version": 3
   },
   "file_extension": ".py",
   "mimetype": "text/x-python",
   "name": "python",
   "nbconvert_exporter": "python",
   "pygments_lexer": "ipython3",
   "version": "3.11.11"
  }
 },
 "nbformat": 4,
 "nbformat_minor": 5
}
