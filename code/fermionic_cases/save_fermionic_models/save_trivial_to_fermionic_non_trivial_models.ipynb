{
 "cells": [
  {
   "cell_type": "markdown",
   "metadata": {},
   "source": [
    "# Save trivial to fermionic non-trivial models\n",
    "\n",
    "Created 14/04/2025\n",
    "\n",
    "Objectives:\n",
    "* Take a hamiltonian as a linear combination of the trivial fermionic model and a  model trivial in proj rep but non-trivial in fermionic decoration. Sweep over linear combinations, interpolating between the two extreme cases. Save the output."
   ]
  },
  {
   "cell_type": "markdown",
   "metadata": {},
   "source": [
    "# Imports "
   ]
  },
  {
   "cell_type": "code",
   "execution_count": 1,
   "metadata": {},
   "outputs": [],
   "source": [
    "from itertools import product"
   ]
  },
  {
   "cell_type": "code",
   "execution_count": 2,
   "metadata": {},
   "outputs": [],
   "source": [
    "import numpy as np\n",
    "import scipy\n",
    "import matplotlib.pyplot as plt"
   ]
  },
  {
   "cell_type": "code",
   "execution_count": 3,
   "metadata": {},
   "outputs": [],
   "source": [
    "import tenpy\n",
    "import tenpy.linalg.np_conserved as npc\n",
    "from tenpy.algorithms import dmrg\n",
    "from tenpy.networks.mps import MPS"
   ]
  },
  {
   "cell_type": "code",
   "execution_count": 4,
   "metadata": {},
   "outputs": [],
   "source": [
    "from tenpy.networks.terms import MultiCouplingTerms\n",
    "from tenpy.networks.mpo import MPO\n",
    "\n",
    "from tenpy.networks.site import ClockSite, FermionSite\n",
    "from tenpy.models.lattice import Chain\n",
    "from tenpy.models.model import CouplingMPOModel"
   ]
  },
  {
   "cell_type": "markdown",
   "metadata": {},
   "source": [
    "# Define model"
   ]
  },
  {
   "cell_type": "code",
   "execution_count": 5,
   "metadata": {},
   "outputs": [],
   "source": [
    "def mod_4_to_bit(x):    \n",
    "    possible_mod_4_values = list(range(4))\n",
    "    assert x in possible_mod_4_values\n",
    "\n",
    "    x0 = x % 2\n",
    "    x1 = ((x - x0) // 2) % 2\n",
    "\n",
    "    return (x0, x1)"
   ]
  },
  {
   "cell_type": "code",
   "execution_count": 6,
   "metadata": {},
   "outputs": [],
   "source": [
    "def bit_to_mod_4(bit_pair):\n",
    "    x0, x1 = bit_pair\n",
    "\n",
    "    possible_mod_2_values = list(range(2))\n",
    "    assert x0 in possible_mod_2_values\n",
    "    assert x1 in possible_mod_2_values\n",
    "\n",
    "    return x0 + 2*x1"
   ]
  },
  {
   "cell_type": "code",
   "execution_count": 7,
   "metadata": {},
   "outputs": [],
   "source": [
    "def mod_4_to_bit_addition(x, y):\n",
    "    (x0, x1) = mod_4_to_bit(x)\n",
    "    (y0, y1) = mod_4_to_bit(y)\n",
    "\n",
    "    out0 = (x0 + y0) % 2\n",
    "    out1 = (x1 + y1) % 2\n",
    "\n",
    "    out = bit_to_mod_4((out0, out1))\n",
    "\n",
    "    return out"
   ]
  },
  {
   "cell_type": "code",
   "execution_count": 8,
   "metadata": {},
   "outputs": [],
   "source": [
    "def get_n1_func(n1_01, n1_10):\n",
    "    l = [0, n1_01, n1_10, (n1_01 + n1_10)%2]\n",
    "    \n",
    "    def f(g1, g2):\n",
    "        i = mod_4_to_bit_addition(g1, g2)\n",
    "        return l[i]\n",
    "\n",
    "    return f"
   ]
  },
  {
   "cell_type": "code",
   "execution_count": 9,
   "metadata": {},
   "outputs": [],
   "source": [
    "n1_pair_to_fermion_operators_dict = {\n",
    "    (0, 0): \"Id\",\n",
    "    (0, 1): \"C\",\n",
    "    (1, 0): \"Cd\",\n",
    "    (1, 1): \"N\"\n",
    "}"
   ]
  },
  {
   "cell_type": "code",
   "execution_count": 10,
   "metadata": {},
   "outputs": [],
   "source": [
    "n1_pairs = [\n",
    "    (0, 0),\n",
    "    (0, 1),\n",
    "    (1, 0),\n",
    "    (1, 1)\n",
    "]"
   ]
  },
  {
   "cell_type": "code",
   "execution_count": 11,
   "metadata": {},
   "outputs": [],
   "source": [
    "pauli_proj_rep_phases = np.array([\n",
    "    [1, 1, 1, 1],\n",
    "    [1, 1, 1j, -1j],\n",
    "    [1, -1j, 1, 1j],\n",
    "    [1, 1j, -1j, 1]\n",
    "])"
   ]
  },
  {
   "cell_type": "code",
   "execution_count": 12,
   "metadata": {},
   "outputs": [],
   "source": [
    "def get_proj_rep_term_phase(group_quad):\n",
    "    g_left, g_in, g_out, g_right = group_quad\n",
    "\n",
    "    g1 = mod_4_to_bit_addition(g_left, g_in)\n",
    "    g2 = mod_4_to_bit_addition(g_in, g_right)\n",
    "    g3 = mod_4_to_bit_addition(g_left, g_out)\n",
    "    g4 = mod_4_to_bit_addition(g_out, g_right)\n",
    "\n",
    "    numerator_phase = pauli_proj_rep_phases[g1, g2]\n",
    "    denominator_phase = pauli_proj_rep_phases[g3, g4]\n",
    "\n",
    "    return numerator_phase/denominator_phase"
   ]
  },
  {
   "cell_type": "code",
   "execution_count": 13,
   "metadata": {},
   "outputs": [],
   "source": [
    "def get_op_list(g_quad, n1_func):\n",
    "    out = list()\n",
    "    g_left, g_in, g_out, g_right = g_quad\n",
    "\n",
    "    out.append((f'map_{g_left}_{g_left}', 0, 0))\n",
    "    \n",
    "    out.append((f'map_{g_in}_{g_out}', 1, 0))\n",
    "\n",
    "    out.append((f'map_{g_right}_{g_right}', 2, 0))\n",
    "\n",
    "    if n1_func(g_left, g_out):\n",
    "        out.append(('Cd', 0, 1))\n",
    "    if n1_func(g_out, g_right):\n",
    "        out.append(('Cd', 1, 1))\n",
    "\n",
    "    if n1_func(g_in, g_right):\n",
    "        out.append(('C', 1, 1))\n",
    "    if n1_func(g_left, g_in):\n",
    "        out.append(('C', 0, 1))\n",
    "\n",
    "    return out"
   ]
  },
  {
   "cell_type": "code",
   "execution_count": 14,
   "metadata": {},
   "outputs": [],
   "source": [
    "def get_op_list_trivial(g_quad):\n",
    "    out = list()\n",
    "    g_left, g_in, g_out, g_right = g_quad\n",
    "\n",
    "    out.append((f'map_{g_left}_{g_left}', 0, 0))\n",
    "    \n",
    "    out.append((f'map_{g_in}_{g_out}', 1, 0))\n",
    "\n",
    "    out.append((f'map_{g_right}_{g_right}', 2, 0))\n",
    "\n",
    "    out.append(('C', 1, 1))\n",
    "    out.append(('C', 0, 1))\n",
    "\n",
    "    out.append(('Cd', 0, 1))\n",
    "    out.append(('Cd', 1, 1))\n",
    "\n",
    "    return out"
   ]
  },
  {
   "cell_type": "code",
   "execution_count": 49,
   "metadata": {},
   "outputs": [],
   "source": [
    "class ClusterFermionWithTrivial(CouplingMPOModel):\n",
    "        default_lattice = \"Chain\"\n",
    "        force_default_lattice = True\n",
    "\n",
    "        # Would it be easier to subclass ClockSite?\n",
    "        def init_sites(self, model_params):\n",
    "            spin = ClockSite(4, conserve=None)\n",
    "            for i in range(4):\n",
    "                for j in range(4):\n",
    "                    X = np.zeros((4,4))\n",
    "                    X[j, i] = 1\n",
    "                    op_name = f\"map_{i}_{j}\"\n",
    "                    spin.add_op(op_name, X)\n",
    "            ferm = FermionSite(conserve=None)\n",
    "            sites = [spin, ferm]\n",
    "            return [spin, ferm], ['s', 'f']\n",
    "\n",
    "        def init_terms(self, model_params):\n",
    "            # Read off model parameters\n",
    "            n1_func = get_n1_func(1, 0)\n",
    "\n",
    "            t = model_params.get('interpolation', 0)\n",
    "            group_quads = product(range(4), repeat=4)\n",
    "\n",
    "            for group_quad in group_quads:\n",
    "                op_list_trivial = get_op_list_trivial(group_quad)\n",
    "                op_list_non_trivial = get_op_list(group_quad, n1_func)\n",
    "\n",
    "                self.add_multi_coupling((-1/4)*t, op_list_trivial)\n",
    "                self.add_multi_coupling((-1/4)*(1-t), op_list_non_trivial)"
   ]
  },
  {
   "cell_type": "markdown",
   "metadata": {},
   "source": [
    "# Run DMRG"
   ]
  },
  {
   "cell_type": "code",
   "execution_count": 45,
   "metadata": {},
   "outputs": [],
   "source": [
    "dmrg_params = {\n",
    "    \"trunc_params\": {\"chi_max\": 8, \"chi_min\": 1, \"svd_min\": 1.e-10},\n",
    "    \"min_sweeps\":100,\n",
    "    \"max_sweeps\":200,\n",
    "    \"mixer\": True,\n",
    "    \"combine\":False,\n",
    "    'decay':2,\n",
    "    'amplitude':10e-1,\n",
    "    'disable_after':60,\n",
    "    'update_env':0\n",
    "}"
   ]
  },
  {
   "cell_type": "code",
   "execution_count": 46,
   "metadata": {},
   "outputs": [],
   "source": [
    "import h5py\n",
    "from tenpy.tools import hdf5_io"
   ]
  },
  {
   "cell_type": "code",
   "execution_count": 50,
   "metadata": {},
   "outputs": [],
   "source": [
    "interpolation_values = np.linspace(0, 1 , 21)"
   ]
  },
  {
   "cell_type": "code",
   "execution_count": 51,
   "metadata": {},
   "outputs": [
    {
     "data": {
      "text/plain": [
       "array([0.  , 0.05, 0.1 , 0.15, 0.2 , 0.25, 0.3 , 0.35, 0.4 , 0.45, 0.5 ,\n",
       "       0.55, 0.6 , 0.65, 0.7 , 0.75, 0.8 , 0.85, 0.9 , 0.95, 1.  ])"
      ]
     },
     "execution_count": 51,
     "metadata": {},
     "output_type": "execute_result"
    }
   ],
   "source": [
    "interpolation_values"
   ]
  },
  {
   "cell_type": "code",
   "execution_count": 57,
   "metadata": {
    "scrolled": true
   },
   "outputs": [
    {
     "name": "stdout",
     "output_type": "stream",
     "text": [
      "Commencing interpolation=0.0 model\n",
      "Energy: -98.00000000000011\n",
      "\n",
      "Commencing interpolation=0.05 model\n"
     ]
    },
    {
     "name": "stderr",
     "output_type": "stream",
     "text": [
      "/home/kieranc/Desktop/numerical_spt_classification/code/num_spt_venv_p11/lib/python3.11/site-packages/tenpy/tools/params.py:230: UserWarning: unused options for config TwoSiteDMRGEngine:\n",
      "['amplitude', 'decay', 'disable_after', 'update_env']\n",
      "  warnings.warn(msg.format(keys=sorted(unused), name=self.name))\n"
     ]
    },
    {
     "name": "stdout",
     "output_type": "stream",
     "text": [
      "Energy: -93.72845415159874\n",
      "\n",
      "Commencing interpolation=0.1 model\n"
     ]
    },
    {
     "name": "stderr",
     "output_type": "stream",
     "text": [
      "/home/kieranc/Desktop/numerical_spt_classification/code/num_spt_venv_p11/lib/python3.11/site-packages/tenpy/tools/params.py:230: UserWarning: unused options for config TwoSiteDMRGEngine:\n",
      "['amplitude', 'decay', 'disable_after', 'update_env']\n",
      "  warnings.warn(msg.format(keys=sorted(unused), name=self.name))\n"
     ]
    },
    {
     "name": "stdout",
     "output_type": "stream",
     "text": [
      "Energy: -89.4944168563192\n",
      "\n",
      "Commencing interpolation=0.15000000000000002 model\n"
     ]
    },
    {
     "name": "stderr",
     "output_type": "stream",
     "text": [
      "/home/kieranc/Desktop/numerical_spt_classification/code/num_spt_venv_p11/lib/python3.11/site-packages/tenpy/tools/params.py:230: UserWarning: unused options for config TwoSiteDMRGEngine:\n",
      "['amplitude', 'decay', 'disable_after', 'update_env']\n",
      "  warnings.warn(msg.format(keys=sorted(unused), name=self.name))\n"
     ]
    },
    {
     "name": "stdout",
     "output_type": "stream",
     "text": [
      "Energy: -85.30876355011799\n",
      "\n",
      "Commencing interpolation=0.2 model\n"
     ]
    },
    {
     "name": "stderr",
     "output_type": "stream",
     "text": [
      "/home/kieranc/Desktop/numerical_spt_classification/code/num_spt_venv_p11/lib/python3.11/site-packages/tenpy/tools/params.py:230: UserWarning: unused options for config TwoSiteDMRGEngine:\n",
      "['amplitude', 'decay', 'disable_after', 'update_env']\n",
      "  warnings.warn(msg.format(keys=sorted(unused), name=self.name))\n"
     ]
    },
    {
     "name": "stdout",
     "output_type": "stream",
     "text": [
      "Energy: -81.18715166965156\n",
      "\n",
      "Commencing interpolation=0.25 model\n"
     ]
    },
    {
     "name": "stderr",
     "output_type": "stream",
     "text": [
      "/home/kieranc/Desktop/numerical_spt_classification/code/num_spt_venv_p11/lib/python3.11/site-packages/tenpy/tools/params.py:230: UserWarning: unused options for config TwoSiteDMRGEngine:\n",
      "['amplitude', 'decay', 'disable_after', 'update_env']\n",
      "  warnings.warn(msg.format(keys=sorted(unused), name=self.name))\n"
     ]
    },
    {
     "name": "stdout",
     "output_type": "stream",
     "text": [
      "Energy: -77.15309568701747\n",
      "\n",
      "Commencing interpolation=0.30000000000000004 model\n"
     ]
    },
    {
     "name": "stderr",
     "output_type": "stream",
     "text": [
      "/home/kieranc/Desktop/numerical_spt_classification/code/num_spt_venv_p11/lib/python3.11/site-packages/tenpy/tools/params.py:230: UserWarning: unused options for config TwoSiteDMRGEngine:\n",
      "['amplitude', 'decay', 'disable_after', 'update_env']\n",
      "  warnings.warn(msg.format(keys=sorted(unused), name=self.name))\n"
     ]
    },
    {
     "name": "stdout",
     "output_type": "stream",
     "text": [
      "Energy: -73.24393076296205\n",
      "\n",
      "Commencing interpolation=0.35000000000000003 model\n"
     ]
    },
    {
     "name": "stderr",
     "output_type": "stream",
     "text": [
      "/home/kieranc/Desktop/numerical_spt_classification/code/num_spt_venv_p11/lib/python3.11/site-packages/tenpy/tools/params.py:230: UserWarning: unused options for config TwoSiteDMRGEngine:\n",
      "['amplitude', 'decay', 'disable_after', 'update_env']\n",
      "  warnings.warn(msg.format(keys=sorted(unused), name=self.name))\n"
     ]
    },
    {
     "name": "stdout",
     "output_type": "stream",
     "text": [
      "Energy: -69.52375724848572\n",
      "\n",
      "Commencing interpolation=0.4 model\n"
     ]
    },
    {
     "name": "stderr",
     "output_type": "stream",
     "text": [
      "/home/kieranc/Desktop/numerical_spt_classification/code/num_spt_venv_p11/lib/python3.11/site-packages/tenpy/tools/params.py:230: UserWarning: unused options for config TwoSiteDMRGEngine:\n",
      "['amplitude', 'decay', 'disable_after', 'update_env']\n",
      "  warnings.warn(msg.format(keys=sorted(unused), name=self.name))\n"
     ]
    },
    {
     "name": "stdout",
     "output_type": "stream",
     "text": [
      "Energy: -66.11696400548337\n",
      "\n",
      "Commencing interpolation=0.45 model\n"
     ]
    },
    {
     "name": "stderr",
     "output_type": "stream",
     "text": [
      "/home/kieranc/Desktop/numerical_spt_classification/code/num_spt_venv_p11/lib/python3.11/site-packages/tenpy/tools/params.py:230: UserWarning: unused options for config TwoSiteDMRGEngine:\n",
      "['amplitude', 'decay', 'disable_after', 'update_env']\n",
      "  warnings.warn(msg.format(keys=sorted(unused), name=self.name))\n"
     ]
    },
    {
     "name": "stdout",
     "output_type": "stream",
     "text": [
      "Energy: -63.33197304413102\n",
      "\n",
      "Commencing interpolation=0.5 model\n"
     ]
    },
    {
     "name": "stderr",
     "output_type": "stream",
     "text": [
      "/home/kieranc/Desktop/numerical_spt_classification/code/num_spt_venv_p11/lib/python3.11/site-packages/tenpy/tools/params.py:230: UserWarning: unused options for config TwoSiteDMRGEngine:\n",
      "['amplitude', 'decay', 'disable_after', 'update_env']\n",
      "  warnings.warn(msg.format(keys=sorted(unused), name=self.name))\n",
      "final DMRG state not in canonical form up to norm_tol=1.00e-05: norm_err=4.22e-05\n"
     ]
    },
    {
     "name": "stdout",
     "output_type": "stream",
     "text": [
      "Energy: -62.27941084304157\n",
      "\n",
      "Commencing interpolation=0.55 model\n"
     ]
    },
    {
     "name": "stderr",
     "output_type": "stream",
     "text": [
      "/home/kieranc/Desktop/numerical_spt_classification/code/num_spt_venv_p11/lib/python3.11/site-packages/tenpy/tools/params.py:230: UserWarning: unused options for config TwoSiteDMRGEngine:\n",
      "['amplitude', 'decay', 'disable_after', 'update_env']\n",
      "  warnings.warn(msg.format(keys=sorted(unused), name=self.name))\n"
     ]
    },
    {
     "name": "stdout",
     "output_type": "stream",
     "text": [
      "Energy: -63.331575652367206\n",
      "\n",
      "Commencing interpolation=0.6000000000000001 model\n"
     ]
    },
    {
     "name": "stderr",
     "output_type": "stream",
     "text": [
      "/home/kieranc/Desktop/numerical_spt_classification/code/num_spt_venv_p11/lib/python3.11/site-packages/tenpy/tools/params.py:230: UserWarning: unused options for config TwoSiteDMRGEngine:\n",
      "['amplitude', 'decay', 'disable_after', 'update_env']\n",
      "  warnings.warn(msg.format(keys=sorted(unused), name=self.name))\n"
     ]
    },
    {
     "name": "stdout",
     "output_type": "stream",
     "text": [
      "Energy: -66.11691432614471\n",
      "\n",
      "Commencing interpolation=0.65 model\n"
     ]
    },
    {
     "name": "stderr",
     "output_type": "stream",
     "text": [
      "/home/kieranc/Desktop/numerical_spt_classification/code/num_spt_venv_p11/lib/python3.11/site-packages/tenpy/tools/params.py:230: UserWarning: unused options for config TwoSiteDMRGEngine:\n",
      "['amplitude', 'decay', 'disable_after', 'update_env']\n",
      "  warnings.warn(msg.format(keys=sorted(unused), name=self.name))\n"
     ]
    },
    {
     "name": "stdout",
     "output_type": "stream",
     "text": [
      "Energy: -69.52376307719612\n",
      "\n",
      "Commencing interpolation=0.7000000000000001 model\n"
     ]
    },
    {
     "name": "stderr",
     "output_type": "stream",
     "text": [
      "/home/kieranc/Desktop/numerical_spt_classification/code/num_spt_venv_p11/lib/python3.11/site-packages/tenpy/tools/params.py:230: UserWarning: unused options for config TwoSiteDMRGEngine:\n",
      "['amplitude', 'decay', 'disable_after', 'update_env']\n",
      "  warnings.warn(msg.format(keys=sorted(unused), name=self.name))\n"
     ]
    },
    {
     "name": "stdout",
     "output_type": "stream",
     "text": [
      "Energy: -73.24393569163186\n",
      "\n",
      "Commencing interpolation=0.75 model\n"
     ]
    },
    {
     "name": "stderr",
     "output_type": "stream",
     "text": [
      "/home/kieranc/Desktop/numerical_spt_classification/code/num_spt_venv_p11/lib/python3.11/site-packages/tenpy/tools/params.py:230: UserWarning: unused options for config TwoSiteDMRGEngine:\n",
      "['amplitude', 'decay', 'disable_after', 'update_env']\n",
      "  warnings.warn(msg.format(keys=sorted(unused), name=self.name))\n"
     ]
    },
    {
     "name": "stdout",
     "output_type": "stream",
     "text": [
      "Energy: -77.15309768383776\n",
      "\n",
      "Commencing interpolation=0.8 model\n"
     ]
    },
    {
     "name": "stderr",
     "output_type": "stream",
     "text": [
      "/home/kieranc/Desktop/numerical_spt_classification/code/num_spt_venv_p11/lib/python3.11/site-packages/tenpy/tools/params.py:230: UserWarning: unused options for config TwoSiteDMRGEngine:\n",
      "['amplitude', 'decay', 'disable_after', 'update_env']\n",
      "  warnings.warn(msg.format(keys=sorted(unused), name=self.name))\n"
     ]
    },
    {
     "name": "stdout",
     "output_type": "stream",
     "text": [
      "Energy: -81.1871522931755\n",
      "\n",
      "Commencing interpolation=0.8500000000000001 model\n"
     ]
    },
    {
     "name": "stderr",
     "output_type": "stream",
     "text": [
      "/home/kieranc/Desktop/numerical_spt_classification/code/num_spt_venv_p11/lib/python3.11/site-packages/tenpy/tools/params.py:230: UserWarning: unused options for config TwoSiteDMRGEngine:\n",
      "['amplitude', 'decay', 'disable_after', 'update_env']\n",
      "  warnings.warn(msg.format(keys=sorted(unused), name=self.name))\n"
     ]
    },
    {
     "name": "stdout",
     "output_type": "stream",
     "text": [
      "Energy: -85.30876369812097\n",
      "\n",
      "Commencing interpolation=0.9 model\n"
     ]
    },
    {
     "name": "stderr",
     "output_type": "stream",
     "text": [
      "/home/kieranc/Desktop/numerical_spt_classification/code/num_spt_venv_p11/lib/python3.11/site-packages/tenpy/tools/params.py:230: UserWarning: unused options for config TwoSiteDMRGEngine:\n",
      "['amplitude', 'decay', 'disable_after', 'update_env']\n",
      "  warnings.warn(msg.format(keys=sorted(unused), name=self.name))\n"
     ]
    },
    {
     "name": "stdout",
     "output_type": "stream",
     "text": [
      "Energy: -89.49441687840036\n",
      "\n",
      "Commencing interpolation=0.9500000000000001 model\n"
     ]
    },
    {
     "name": "stderr",
     "output_type": "stream",
     "text": [
      "/home/kieranc/Desktop/numerical_spt_classification/code/num_spt_venv_p11/lib/python3.11/site-packages/tenpy/tools/params.py:230: UserWarning: unused options for config TwoSiteDMRGEngine:\n",
      "['amplitude', 'decay', 'disable_after', 'update_env']\n",
      "  warnings.warn(msg.format(keys=sorted(unused), name=self.name))\n"
     ]
    },
    {
     "name": "stdout",
     "output_type": "stream",
     "text": [
      "Energy: -93.72845415265758\n",
      "\n",
      "Commencing interpolation=1.0 model\n"
     ]
    },
    {
     "name": "stderr",
     "output_type": "stream",
     "text": [
      "/home/kieranc/Desktop/numerical_spt_classification/code/num_spt_venv_p11/lib/python3.11/site-packages/tenpy/tools/params.py:230: UserWarning: unused options for config TwoSiteDMRGEngine:\n",
      "['amplitude', 'decay', 'disable_after', 'update_env']\n",
      "  warnings.warn(msg.format(keys=sorted(unused), name=self.name))\n"
     ]
    },
    {
     "name": "stdout",
     "output_type": "stream",
     "text": [
      "Energy: -98.00000000000023\n",
      "\n"
     ]
    }
   ],
   "source": [
    "num_unit_cells = 100\n",
    "\n",
    "for t in interpolation_values:\n",
    "        print(f\"Commencing interpolation={t} model\")\n",
    "        model=ClusterFermionWithTrivial({'interpolation': t, 'L': num_unit_cells})\n",
    "        \n",
    "        psi = MPS.from_lat_product_state(model.lat, [['0', 'empty'],]*num_unit_cells)\n",
    "        psi.canonical_form()\n",
    "    \n",
    "        eng = dmrg.TwoSiteDMRGEngine(psi, model, dmrg_params)\n",
    "        e, psi = eng.run()\n",
    "\n",
    "        print(f\"Energy: {e}\\n\")\n",
    "\n",
    "        data = {\n",
    "            \"wavefunction\": psi,\n",
    "            \"energy\": e,\n",
    "            \"paramters\": {\"interpolation\": t}\n",
    "        }\n",
    "\n",
    "        t_string = str(int(100*t))\n",
    "        one_minus_t_string = str(int(100*(1-t)))\n",
    "\n",
    "        file_name = f'{t_string}_pc_triv_{one_minus_t_string}_pc_non_triv'\n",
    "    \n",
    "        filename = (\n",
    "            r\"../../data/interpolated_trivial_to_nontrivial_fermionic_trivial_proj_rep_200_site_dmrg/{}\"\n",
    "            .format(file_name)\n",
    "        )\n",
    "\n",
    "        filename += \".h5\"\n",
    "\n",
    "        with h5py.File(filename, 'w') as f:\n",
    "\n",
    "            hdf5_io.save_to_hdf5(f, data)"
   ]
  },
  {
   "cell_type": "code",
   "execution_count": null,
   "metadata": {},
   "outputs": [],
   "source": []
  }
 ],
 "metadata": {
  "kernelspec": {
   "display_name": "num_spt_venv_p11",
   "language": "python",
   "name": "num_spt_venv_p11"
  },
  "language_info": {
   "codemirror_mode": {
    "name": "ipython",
    "version": 3
   },
   "file_extension": ".py",
   "mimetype": "text/x-python",
   "name": "python",
   "nbconvert_exporter": "python",
   "pygments_lexer": "ipython3",
   "version": "3.11.9"
  }
 },
 "nbformat": 4,
 "nbformat_minor": 4
}
