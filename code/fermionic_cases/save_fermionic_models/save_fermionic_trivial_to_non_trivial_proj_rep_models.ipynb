{
 "cells": [
  {
   "cell_type": "markdown",
   "metadata": {},
   "source": [
    "# Save fermionic trivial to non-trivial proj rep models\n",
    "\n",
    "Created 14/04/2025\n",
    "\n",
    "Objectives:\n",
    "* Take a hamiltonian as a linear combination of the fermionic trivial proj rep model and a  model non-trivial in proj-rep. Sweep over linear combinations, interpolating between the two extreme cases. Save the output."
   ]
  },
  {
   "cell_type": "markdown",
   "metadata": {},
   "source": [
    "# Imports "
   ]
  },
  {
   "cell_type": "code",
   "execution_count": 1,
   "metadata": {},
   "outputs": [],
   "source": [
    "from itertools import product"
   ]
  },
  {
   "cell_type": "code",
   "execution_count": 2,
   "metadata": {},
   "outputs": [],
   "source": [
    "import numpy as np\n",
    "import scipy\n",
    "import matplotlib.pyplot as plt"
   ]
  },
  {
   "cell_type": "code",
   "execution_count": 3,
   "metadata": {},
   "outputs": [],
   "source": [
    "import tenpy\n",
    "import tenpy.linalg.np_conserved as npc\n",
    "from tenpy.algorithms import dmrg\n",
    "from tenpy.networks.mps import MPS"
   ]
  },
  {
   "cell_type": "code",
   "execution_count": 4,
   "metadata": {},
   "outputs": [],
   "source": [
    "from tenpy.networks.terms import MultiCouplingTerms\n",
    "from tenpy.networks.mpo import MPO\n",
    "\n",
    "from tenpy.networks.site import ClockSite, FermionSite\n",
    "from tenpy.models.lattice import Chain\n",
    "from tenpy.models.model import CouplingMPOModel"
   ]
  },
  {
   "cell_type": "markdown",
   "metadata": {},
   "source": [
    "# Define model"
   ]
  },
  {
   "cell_type": "code",
   "execution_count": 5,
   "metadata": {},
   "outputs": [],
   "source": [
    "def mod_4_to_bit(x):    \n",
    "    possible_mod_4_values = list(range(4))\n",
    "    assert x in possible_mod_4_values\n",
    "\n",
    "    x0 = x % 2\n",
    "    x1 = ((x - x0) // 2) % 2\n",
    "\n",
    "    return (x0, x1)"
   ]
  },
  {
   "cell_type": "code",
   "execution_count": 6,
   "metadata": {},
   "outputs": [],
   "source": [
    "def bit_to_mod_4(bit_pair):\n",
    "    x0, x1 = bit_pair\n",
    "\n",
    "    possible_mod_2_values = list(range(2))\n",
    "    assert x0 in possible_mod_2_values\n",
    "    assert x1 in possible_mod_2_values\n",
    "\n",
    "    return x0 + 2*x1"
   ]
  },
  {
   "cell_type": "code",
   "execution_count": 7,
   "metadata": {},
   "outputs": [],
   "source": [
    "def mod_4_to_bit_addition(x, y):\n",
    "    (x0, x1) = mod_4_to_bit(x)\n",
    "    (y0, y1) = mod_4_to_bit(y)\n",
    "\n",
    "    out0 = (x0 + y0) % 2\n",
    "    out1 = (x1 + y1) % 2\n",
    "\n",
    "    out = bit_to_mod_4((out0, out1))\n",
    "\n",
    "    return out"
   ]
  },
  {
   "cell_type": "code",
   "execution_count": 8,
   "metadata": {},
   "outputs": [],
   "source": [
    "def get_n1_func(n1_01, n1_10):\n",
    "    l = [0, n1_01, n1_10, (n1_01 + n1_10)%2]\n",
    "    \n",
    "    def f(g1, g2):\n",
    "        i = mod_4_to_bit_addition(g1, g2)\n",
    "        return l[i]\n",
    "\n",
    "    return f"
   ]
  },
  {
   "cell_type": "code",
   "execution_count": 9,
   "metadata": {},
   "outputs": [],
   "source": [
    "n1_pair_to_fermion_operators_dict = {\n",
    "    (0, 0): \"Id\",\n",
    "    (0, 1): \"C\",\n",
    "    (1, 0): \"Cd\",\n",
    "    (1, 1): \"N\"\n",
    "}"
   ]
  },
  {
   "cell_type": "code",
   "execution_count": 10,
   "metadata": {},
   "outputs": [],
   "source": [
    "n1_pairs = [\n",
    "    (0, 0),\n",
    "    (0, 1),\n",
    "    (1, 0),\n",
    "    (1, 1)\n",
    "]"
   ]
  },
  {
   "cell_type": "code",
   "execution_count": 11,
   "metadata": {},
   "outputs": [],
   "source": [
    "pauli_proj_rep_phases = np.array([\n",
    "    [1, 1, 1, 1],\n",
    "    [1, 1, 1j, -1j],\n",
    "    [1, -1j, 1, 1j],\n",
    "    [1, 1j, -1j, 1]\n",
    "])"
   ]
  },
  {
   "cell_type": "code",
   "execution_count": 12,
   "metadata": {},
   "outputs": [],
   "source": [
    "def get_proj_rep_term_phase(group_quad):\n",
    "    g_left, g_in, g_out, g_right = group_quad\n",
    "\n",
    "    g1 = mod_4_to_bit_addition(g_left, g_in)\n",
    "    g2 = mod_4_to_bit_addition(g_in, g_right)\n",
    "    g3 = mod_4_to_bit_addition(g_left, g_out)\n",
    "    g4 = mod_4_to_bit_addition(g_out, g_right)\n",
    "\n",
    "    numerator_phase = pauli_proj_rep_phases[g1, g2]\n",
    "    denominator_phase = pauli_proj_rep_phases[g3, g4]\n",
    "\n",
    "    return numerator_phase/denominator_phase"
   ]
  },
  {
   "cell_type": "code",
   "execution_count": 13,
   "metadata": {},
   "outputs": [],
   "source": [
    "def get_op_list(g_quad, n1_func):\n",
    "    out = list()\n",
    "    g_left, g_in, g_out, g_right = g_quad\n",
    "\n",
    "    out.append((f'map_{g_left}_{g_left}', 0, 0))\n",
    "    \n",
    "    out.append((f'map_{g_in}_{g_out}', 1, 0))\n",
    "\n",
    "    out.append((f'map_{g_right}_{g_right}', 2, 0))\n",
    "\n",
    "    if n1_func(g_left, g_out):\n",
    "        out.append(('Cd', 0, 1))\n",
    "    if n1_func(g_out, g_right):\n",
    "        out.append(('Cd', 1, 1))\n",
    "\n",
    "    if n1_func(g_in, g_right):\n",
    "        out.append(('C', 1, 1))\n",
    "    if n1_func(g_left, g_in):\n",
    "        out.append(('C', 0, 1))\n",
    "\n",
    "    return out"
   ]
  },
  {
   "cell_type": "code",
   "execution_count": 14,
   "metadata": {},
   "outputs": [],
   "source": [
    "def get_op_list_trivial(g_quad):\n",
    "    out = list()\n",
    "    g_left, g_in, g_out, g_right = g_quad\n",
    "\n",
    "    out.append((f'map_{g_left}_{g_left}', 0, 0))\n",
    "    \n",
    "    out.append((f'map_{g_in}_{g_out}', 1, 0))\n",
    "\n",
    "    out.append((f'map_{g_right}_{g_right}', 2, 0))\n",
    "\n",
    "    out.append(('C', 1, 1))\n",
    "    out.append(('C', 0, 1))\n",
    "\n",
    "    out.append(('Cd', 0, 1))\n",
    "    out.append(('Cd', 1, 1))\n",
    "\n",
    "    return out"
   ]
  },
  {
   "cell_type": "code",
   "execution_count": 15,
   "metadata": {},
   "outputs": [],
   "source": [
    "class ClusterFermionProjRepInterpolation(CouplingMPOModel):\n",
    "        default_lattice = \"Chain\"\n",
    "        force_default_lattice = True\n",
    "\n",
    "        # Would it be easier to subclass ClockSite?\n",
    "        def init_sites(self, model_params):\n",
    "            spin = ClockSite(4, conserve=None)\n",
    "            for i in range(4):\n",
    "                for j in range(4):\n",
    "                    X = np.zeros((4,4))\n",
    "                    X[j, i] = 1\n",
    "                    op_name = f\"map_{i}_{j}\"\n",
    "                    spin.add_op(op_name, X)\n",
    "            ferm = FermionSite(conserve=None)\n",
    "            sites = [spin, ferm]\n",
    "            return [spin, ferm], ['s', 'f']\n",
    "\n",
    "        def init_terms(self, model_params):\n",
    "            # Read off model parameters\n",
    "            n1_func_1 = get_n1_func(1, 0)\n",
    "            n1_func_2 = get_n1_func(0, 1)\n",
    "\n",
    "            t = model_params.get('interpolation', 0)\n",
    "            group_quads = product(range(4), repeat=4)\n",
    "\n",
    "            for group_quad in group_quads:\n",
    "                op_list_1 = get_op_list(group_quad, n1_func_1)\n",
    "                op_list_2 = get_op_list(group_quad, n1_func_2)\n",
    "\n",
    "                phase = get_proj_rep_term_phase(group_quad)\n",
    "\n",
    "                self.add_multi_coupling((-1/4)*t, op_list_1)\n",
    "                self.add_multi_coupling((-1/4)*(1-t)*phase, op_list_2)"
   ]
  },
  {
   "cell_type": "markdown",
   "metadata": {},
   "source": [
    "# Run DMRG"
   ]
  },
  {
   "cell_type": "code",
   "execution_count": 16,
   "metadata": {},
   "outputs": [],
   "source": [
    "dmrg_params = {\n",
    "    \"trunc_params\": {\"chi_max\": 8, \"chi_min\": 1, \"svd_min\": 1.e-10},\n",
    "    \"min_sweeps\":100,\n",
    "    \"max_sweeps\":200,\n",
    "    \"mixer\": True,\n",
    "    \"combine\":False,\n",
    "    'decay':2,\n",
    "    'amplitude':10e-1,\n",
    "    'disable_after':60,\n",
    "    'update_env':0\n",
    "}"
   ]
  },
  {
   "cell_type": "code",
   "execution_count": 17,
   "metadata": {},
   "outputs": [],
   "source": [
    "import h5py\n",
    "from tenpy.tools import hdf5_io"
   ]
  },
  {
   "cell_type": "code",
   "execution_count": 18,
   "metadata": {},
   "outputs": [],
   "source": [
    "interpolation_values = np.linspace(0, 1 , 21)"
   ]
  },
  {
   "cell_type": "code",
   "execution_count": 19,
   "metadata": {},
   "outputs": [
    {
     "data": {
      "text/plain": [
       "array([0.  , 0.05, 0.1 , 0.15, 0.2 , 0.25, 0.3 , 0.35, 0.4 , 0.45, 0.5 ,\n",
       "       0.55, 0.6 , 0.65, 0.7 , 0.75, 0.8 , 0.85, 0.9 , 0.95, 1.  ])"
      ]
     },
     "execution_count": 19,
     "metadata": {},
     "output_type": "execute_result"
    }
   ],
   "source": [
    "interpolation_values"
   ]
  },
  {
   "cell_type": "code",
   "execution_count": 20,
   "metadata": {
    "scrolled": true
   },
   "outputs": [
    {
     "name": "stdout",
     "output_type": "stream",
     "text": [
      "Commencing interpolation=0.0 model\n",
      "Energy: -97.99999999999905\n",
      "\n",
      "Commencing interpolation=0.05 model\n"
     ]
    },
    {
     "name": "stderr",
     "output_type": "stream",
     "text": [
      "/Users/kierancooney/.pyenv/versions/num_spt_venv_p11/lib/python3.11/site-packages/tenpy/tools/params.py:230: UserWarning: unused options for config TwoSiteDMRGEngine:\n",
      "['amplitude', 'decay', 'disable_after', 'update_env']\n",
      "  warnings.warn(msg.format(keys=sorted(unused), name=self.name))\n"
     ]
    },
    {
     "name": "stdout",
     "output_type": "stream",
     "text": [
      "Energy: -94.11361170462943\n",
      "\n",
      "Commencing interpolation=0.1 model\n"
     ]
    },
    {
     "name": "stderr",
     "output_type": "stream",
     "text": [
      "/Users/kierancooney/.pyenv/versions/num_spt_venv_p11/lib/python3.11/site-packages/tenpy/tools/params.py:230: UserWarning: unused options for config TwoSiteDMRGEngine:\n",
      "['amplitude', 'decay', 'disable_after', 'update_env']\n",
      "  warnings.warn(msg.format(keys=sorted(unused), name=self.name))\n"
     ]
    },
    {
     "name": "stdout",
     "output_type": "stream",
     "text": [
      "Energy: -90.26945264245597\n",
      "\n",
      "Commencing interpolation=0.15000000000000002 model\n"
     ]
    },
    {
     "name": "stderr",
     "output_type": "stream",
     "text": [
      "/Users/kierancooney/.pyenv/versions/num_spt_venv_p11/lib/python3.11/site-packages/tenpy/tools/params.py:230: UserWarning: unused options for config TwoSiteDMRGEngine:\n",
      "['amplitude', 'decay', 'disable_after', 'update_env']\n",
      "  warnings.warn(msg.format(keys=sorted(unused), name=self.name))\n"
     ]
    },
    {
     "name": "stdout",
     "output_type": "stream",
     "text": [
      "Energy: -86.4781247712751\n",
      "\n",
      "Commencing interpolation=0.2 model\n"
     ]
    },
    {
     "name": "stderr",
     "output_type": "stream",
     "text": [
      "/Users/kierancooney/.pyenv/versions/num_spt_venv_p11/lib/python3.11/site-packages/tenpy/tools/params.py:230: UserWarning: unused options for config TwoSiteDMRGEngine:\n",
      "['amplitude', 'decay', 'disable_after', 'update_env']\n",
      "  warnings.warn(msg.format(keys=sorted(unused), name=self.name))\n"
     ]
    },
    {
     "name": "stdout",
     "output_type": "stream",
     "text": [
      "Energy: -82.75420854527742\n",
      "\n",
      "Commencing interpolation=0.25 model\n"
     ]
    },
    {
     "name": "stderr",
     "output_type": "stream",
     "text": [
      "/Users/kierancooney/.pyenv/versions/num_spt_venv_p11/lib/python3.11/site-packages/tenpy/tools/params.py:230: UserWarning: unused options for config TwoSiteDMRGEngine:\n",
      "['amplitude', 'decay', 'disable_after', 'update_env']\n",
      "  warnings.warn(msg.format(keys=sorted(unused), name=self.name))\n"
     ]
    },
    {
     "name": "stdout",
     "output_type": "stream",
     "text": [
      "Energy: -79.11841434959783\n",
      "\n",
      "Commencing interpolation=0.30000000000000004 model\n"
     ]
    },
    {
     "name": "stderr",
     "output_type": "stream",
     "text": [
      "/Users/kierancooney/.pyenv/versions/num_spt_venv_p11/lib/python3.11/site-packages/tenpy/tools/params.py:230: UserWarning: unused options for config TwoSiteDMRGEngine:\n",
      "['amplitude', 'decay', 'disable_after', 'update_env']\n",
      "  warnings.warn(msg.format(keys=sorted(unused), name=self.name))\n"
     ]
    },
    {
     "name": "stdout",
     "output_type": "stream",
     "text": [
      "Energy: -75.6014142722527\n",
      "\n",
      "Commencing interpolation=0.35000000000000003 model\n"
     ]
    },
    {
     "name": "stderr",
     "output_type": "stream",
     "text": [
      "/Users/kierancooney/.pyenv/versions/num_spt_venv_p11/lib/python3.11/site-packages/tenpy/tools/params.py:230: UserWarning: unused options for config TwoSiteDMRGEngine:\n",
      "['amplitude', 'decay', 'disable_after', 'update_env']\n",
      "  warnings.warn(msg.format(keys=sorted(unused), name=self.name))\n"
     ]
    },
    {
     "name": "stdout",
     "output_type": "stream",
     "text": [
      "Energy: -72.25131925282413\n",
      "\n",
      "Commencing interpolation=0.4 model\n"
     ]
    },
    {
     "name": "stderr",
     "output_type": "stream",
     "text": [
      "/Users/kierancooney/.pyenv/versions/num_spt_venv_p11/lib/python3.11/site-packages/tenpy/tools/params.py:230: UserWarning: unused options for config TwoSiteDMRGEngine:\n",
      "['amplitude', 'decay', 'disable_after', 'update_env']\n",
      "  warnings.warn(msg.format(keys=sorted(unused), name=self.name))\n"
     ]
    },
    {
     "name": "stdout",
     "output_type": "stream",
     "text": [
      "Energy: -69.15043002214522\n",
      "\n",
      "Commencing interpolation=0.45 model\n"
     ]
    },
    {
     "name": "stderr",
     "output_type": "stream",
     "text": [
      "/Users/kierancooney/.pyenv/versions/num_spt_venv_p11/lib/python3.11/site-packages/tenpy/tools/params.py:230: UserWarning: unused options for config TwoSiteDMRGEngine:\n",
      "['amplitude', 'decay', 'disable_after', 'update_env']\n",
      "  warnings.warn(msg.format(keys=sorted(unused), name=self.name))\n"
     ]
    },
    {
     "name": "stdout",
     "output_type": "stream",
     "text": [
      "Energy: -66.46251490531982\n",
      "\n",
      "Commencing interpolation=0.5 model\n"
     ]
    },
    {
     "name": "stderr",
     "output_type": "stream",
     "text": [
      "/Users/kierancooney/.pyenv/versions/num_spt_venv_p11/lib/python3.11/site-packages/tenpy/tools/params.py:230: UserWarning: unused options for config TwoSiteDMRGEngine:\n",
      "['amplitude', 'decay', 'disable_after', 'update_env']\n",
      "  warnings.warn(msg.format(keys=sorted(unused), name=self.name))\n",
      "/Users/kierancooney/.pyenv/versions/num_spt_venv_p11/lib/python3.11/site-packages/tenpy/algorithms/mps_common.py:783: TenpyInconsistencyWarning: Maximum truncation error (``max_trunc_err``) exceeded.\n",
      "  consistency_check(np.max(self.trunc_err_list), self.options, 'max_trunc_err', 1e-4,\n"
     ]
    },
    {
     "name": "stdout",
     "output_type": "stream",
     "text": [
      "Energy: -64.91273864175592\n",
      "\n",
      "Commencing interpolation=0.55 model\n"
     ]
    },
    {
     "name": "stderr",
     "output_type": "stream",
     "text": [
      "/Users/kierancooney/.pyenv/versions/num_spt_venv_p11/lib/python3.11/site-packages/tenpy/tools/params.py:230: UserWarning: unused options for config TwoSiteDMRGEngine:\n",
      "['amplitude', 'decay', 'disable_after', 'update_env']\n",
      "  warnings.warn(msg.format(keys=sorted(unused), name=self.name))\n",
      "/Users/kierancooney/.pyenv/versions/num_spt_venv_p11/lib/python3.11/site-packages/tenpy/algorithms/mps_common.py:783: TenpyInconsistencyWarning: Maximum truncation error (``max_trunc_err``) exceeded.\n",
      "  consistency_check(np.max(self.trunc_err_list), self.options, 'max_trunc_err', 1e-4,\n"
     ]
    },
    {
     "name": "stdout",
     "output_type": "stream",
     "text": [
      "Energy: -66.38161728665118\n",
      "\n",
      "Commencing interpolation=0.6000000000000001 model\n"
     ]
    },
    {
     "name": "stderr",
     "output_type": "stream",
     "text": [
      "/Users/kierancooney/.pyenv/versions/num_spt_venv_p11/lib/python3.11/site-packages/tenpy/tools/params.py:230: UserWarning: unused options for config TwoSiteDMRGEngine:\n",
      "['amplitude', 'decay', 'disable_after', 'update_env']\n",
      "  warnings.warn(msg.format(keys=sorted(unused), name=self.name))\n",
      "/Users/kierancooney/.pyenv/versions/num_spt_venv_p11/lib/python3.11/site-packages/tenpy/algorithms/mps_common.py:783: TenpyInconsistencyWarning: Maximum truncation error (``max_trunc_err``) exceeded.\n",
      "  consistency_check(np.max(self.trunc_err_list), self.options, 'max_trunc_err', 1e-4,\n"
     ]
    },
    {
     "name": "stdout",
     "output_type": "stream",
     "text": [
      "Energy: -69.09073280136393\n",
      "\n",
      "Commencing interpolation=0.65 model\n"
     ]
    },
    {
     "name": "stderr",
     "output_type": "stream",
     "text": [
      "/Users/kierancooney/.pyenv/versions/num_spt_venv_p11/lib/python3.11/site-packages/tenpy/tools/params.py:230: UserWarning: unused options for config TwoSiteDMRGEngine:\n",
      "['amplitude', 'decay', 'disable_after', 'update_env']\n",
      "  warnings.warn(msg.format(keys=sorted(unused), name=self.name))\n",
      "/Users/kierancooney/.pyenv/versions/num_spt_venv_p11/lib/python3.11/site-packages/tenpy/algorithms/mps_common.py:783: TenpyInconsistencyWarning: Maximum truncation error (``max_trunc_err``) exceeded.\n",
      "  consistency_check(np.max(self.trunc_err_list), self.options, 'max_trunc_err', 1e-4,\n"
     ]
    },
    {
     "name": "stdout",
     "output_type": "stream",
     "text": [
      "Energy: -72.20919681289105\n",
      "\n",
      "Commencing interpolation=0.7000000000000001 model\n"
     ]
    },
    {
     "name": "stderr",
     "output_type": "stream",
     "text": [
      "/Users/kierancooney/.pyenv/versions/num_spt_venv_p11/lib/python3.11/site-packages/tenpy/tools/params.py:230: UserWarning: unused options for config TwoSiteDMRGEngine:\n",
      "['amplitude', 'decay', 'disable_after', 'update_env']\n",
      "  warnings.warn(msg.format(keys=sorted(unused), name=self.name))\n"
     ]
    },
    {
     "name": "stdout",
     "output_type": "stream",
     "text": [
      "Energy: -75.57302490215372\n",
      "\n",
      "Commencing interpolation=0.75 model\n"
     ]
    },
    {
     "name": "stderr",
     "output_type": "stream",
     "text": [
      "/Users/kierancooney/.pyenv/versions/num_spt_venv_p11/lib/python3.11/site-packages/tenpy/tools/params.py:230: UserWarning: unused options for config TwoSiteDMRGEngine:\n",
      "['amplitude', 'decay', 'disable_after', 'update_env']\n",
      "  warnings.warn(msg.format(keys=sorted(unused), name=self.name))\n"
     ]
    },
    {
     "name": "stdout",
     "output_type": "stream",
     "text": [
      "Energy: -79.10033172294543\n",
      "\n",
      "Commencing interpolation=0.8 model\n"
     ]
    },
    {
     "name": "stderr",
     "output_type": "stream",
     "text": [
      "/Users/kierancooney/.pyenv/versions/num_spt_venv_p11/lib/python3.11/site-packages/tenpy/tools/params.py:230: UserWarning: unused options for config TwoSiteDMRGEngine:\n",
      "['amplitude', 'decay', 'disable_after', 'update_env']\n",
      "  warnings.warn(msg.format(keys=sorted(unused), name=self.name))\n"
     ]
    },
    {
     "name": "stdout",
     "output_type": "stream",
     "text": [
      "Energy: -82.7435684902591\n",
      "\n",
      "Commencing interpolation=0.8500000000000001 model\n"
     ]
    },
    {
     "name": "stderr",
     "output_type": "stream",
     "text": [
      "/Users/kierancooney/.pyenv/versions/num_spt_venv_p11/lib/python3.11/site-packages/tenpy/tools/params.py:230: UserWarning: unused options for config TwoSiteDMRGEngine:\n",
      "['amplitude', 'decay', 'disable_after', 'update_env']\n",
      "  warnings.warn(msg.format(keys=sorted(unused), name=self.name))\n"
     ]
    },
    {
     "name": "stdout",
     "output_type": "stream",
     "text": [
      "Energy: -86.47260247364227\n",
      "\n",
      "Commencing interpolation=0.9 model\n"
     ]
    },
    {
     "name": "stderr",
     "output_type": "stream",
     "text": [
      "/Users/kierancooney/.pyenv/versions/num_spt_venv_p11/lib/python3.11/site-packages/tenpy/tools/params.py:230: UserWarning: unused options for config TwoSiteDMRGEngine:\n",
      "['amplitude', 'decay', 'disable_after', 'update_env']\n",
      "  warnings.warn(msg.format(keys=sorted(unused), name=self.name))\n"
     ]
    },
    {
     "name": "stdout",
     "output_type": "stream",
     "text": [
      "Energy: -90.26717896200473\n",
      "\n",
      "Commencing interpolation=0.9500000000000001 model\n"
     ]
    },
    {
     "name": "stderr",
     "output_type": "stream",
     "text": [
      "/Users/kierancooney/.pyenv/versions/num_spt_venv_p11/lib/python3.11/site-packages/tenpy/tools/params.py:230: UserWarning: unused options for config TwoSiteDMRGEngine:\n",
      "['amplitude', 'decay', 'disable_after', 'update_env']\n",
      "  warnings.warn(msg.format(keys=sorted(unused), name=self.name))\n"
     ]
    },
    {
     "name": "stdout",
     "output_type": "stream",
     "text": [
      "Energy: -94.1130829937174\n",
      "\n",
      "Commencing interpolation=1.0 model\n"
     ]
    },
    {
     "name": "stderr",
     "output_type": "stream",
     "text": [
      "/Users/kierancooney/.pyenv/versions/num_spt_venv_p11/lib/python3.11/site-packages/tenpy/tools/params.py:230: UserWarning: unused options for config TwoSiteDMRGEngine:\n",
      "['amplitude', 'decay', 'disable_after', 'update_env']\n",
      "  warnings.warn(msg.format(keys=sorted(unused), name=self.name))\n"
     ]
    },
    {
     "name": "stdout",
     "output_type": "stream",
     "text": [
      "Energy: -98.00000000000045\n",
      "\n"
     ]
    }
   ],
   "source": [
    "num_unit_cells = 100\n",
    "\n",
    "for t in interpolation_values:\n",
    "        print(f\"Commencing interpolation={t} model\")\n",
    "        model=ClusterFermionProjRepInterpolation({'interpolation': t, 'L': num_unit_cells})\n",
    "        \n",
    "        psi = MPS.from_lat_product_state(model.lat, [['0', 'empty'],]*num_unit_cells)\n",
    "        psi.canonical_form()\n",
    "    \n",
    "        eng = dmrg.TwoSiteDMRGEngine(psi, model, dmrg_params)\n",
    "        e, psi = eng.run()\n",
    "\n",
    "        print(f\"Energy: {e}\\n\")\n",
    "\n",
    "        data = {\n",
    "            \"wavefunction\": psi,\n",
    "            \"energy\": e,\n",
    "            \"paramters\": {\"interpolation\": t}\n",
    "        }\n",
    "\n",
    "        t_string = str(int(100*t))\n",
    "        one_minus_t_string = str(int(100*(1-t)))\n",
    "\n",
    "        file_name = f'{t_string}_pc_triv_{one_minus_t_string}_pc_non_triv'\n",
    "    \n",
    "        filename = (\n",
    "            r\"../../data/interpolated_nontrivial_fermionic_proj_rep_to_nontrivial_proj_rep_200_site_dmrg/{}\"\n",
    "            .format(file_name)\n",
    "        )\n",
    "\n",
    "        filename += \".h5\"\n",
    "\n",
    "        with h5py.File(filename, 'w') as f:\n",
    "\n",
    "            hdf5_io.save_to_hdf5(f, data)"
   ]
  },
  {
   "cell_type": "code",
   "execution_count": null,
   "metadata": {},
   "outputs": [],
   "source": []
  }
 ],
 "metadata": {
  "kernelspec": {
   "display_name": "num_spt_venv_p11",
   "language": "python",
   "name": "num_spt_venv_p11"
  },
  "language_info": {
   "codemirror_mode": {
    "name": "ipython",
    "version": 3
   },
   "file_extension": ".py",
   "mimetype": "text/x-python",
   "name": "python",
   "nbconvert_exporter": "python",
   "pygments_lexer": "ipython3",
   "version": "3.11.9"
  }
 },
 "nbformat": 4,
 "nbformat_minor": 4
}
