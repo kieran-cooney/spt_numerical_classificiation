{
 "cells": [
  {
   "cell_type": "markdown",
   "id": "5b626275-a344-4050-b6c1-bc9eeac43ae5",
   "metadata": {},
   "source": [
    "# Gradient descent - longer run\n",
    "Created 19/05/2024\n",
    "\n",
    "Objectives:\n",
    "* Still struggling to see convergence... fix hyperparameters but run for longer."
   ]
  },
  {
   "cell_type": "markdown",
   "id": "9ad0db4d-805c-4403-9d48-c71d523d572f",
   "metadata": {},
   "source": [
    "# Package imports"
   ]
  },
  {
   "cell_type": "code",
   "execution_count": 1,
   "id": "ecb41ea3-927f-4efa-aebe-ce15784aa037",
   "metadata": {},
   "outputs": [],
   "source": [
    "import sys"
   ]
  },
  {
   "cell_type": "code",
   "execution_count": 2,
   "id": "0375bd38-12e1-417a-908a-13fb540081f5",
   "metadata": {},
   "outputs": [],
   "source": [
    "sys.path.append(\"../\")"
   ]
  },
  {
   "cell_type": "code",
   "execution_count": 3,
   "id": "4a525ec6-f0c8-47ee-8b0b-345bf0ef8bd3",
   "metadata": {},
   "outputs": [],
   "source": [
    "import h5py\n",
    "from tenpy.tools import hdf5_io\n",
    "import tenpy\n",
    "import tenpy.linalg.np_conserved as npc\n",
    "\n",
    "import os\n",
    "import time\n",
    "\n",
    "from collections import namedtuple"
   ]
  },
  {
   "cell_type": "code",
   "execution_count": 4,
   "id": "214f688a-c657-4810-b4d1-b1247deff62c",
   "metadata": {},
   "outputs": [],
   "source": [
    "import numpy as np\n",
    "import pandas as pd\n",
    "import scipy\n",
    "\n",
    "import matplotlib.pyplot as plt"
   ]
  },
  {
   "cell_type": "code",
   "execution_count": 5,
   "id": "aeb48fbe-9ee7-4f88-9a91-b52643b95a4f",
   "metadata": {},
   "outputs": [],
   "source": [
    "from SPTOptimization.utils import (\n",
    "    to_npc_array\n",
    ")\n",
    "\n",
    "from SPTOptimization.SymmetryActionWithBoundaryUnitaries import SymmetryActionWithBoundaryUnitaries\n",
    "\n",
    "from SPTOptimization.Optimizers.MPOGradientDescent import (\n",
    "    MPOGradientDescent\n",
    ")"
   ]
  },
  {
   "cell_type": "markdown",
   "id": "0dd074eb-4e79-4a83-97a0-8f7b14c0d73a",
   "metadata": {},
   "source": [
    "# Load data"
   ]
  },
  {
   "cell_type": "code",
   "execution_count": 6,
   "id": "a073ec4a-1d8d-4786-af9f-11e750b1e3a9",
   "metadata": {},
   "outputs": [],
   "source": [
    "DATA_DIR_2 = r\"../data/interpolated_nontrivial_fermionic_proj_rep_to_nontrivial_proj_rep_200_site_dmrg/\""
   ]
  },
  {
   "cell_type": "code",
   "execution_count": 7,
   "id": "9fd5bc67-e5e4-4b8f-a5e4-f5120506f1ed",
   "metadata": {},
   "outputs": [],
   "source": [
    "def parse_file_name(file_name):\n",
    "    interpolation = int(file_name.split('_')[0])/100\n",
    "\n",
    "    return interpolation"
   ]
  },
  {
   "cell_type": "code",
   "execution_count": 8,
   "id": "d694f0e0-4ab2-4eea-8f21-7177abc2de50",
   "metadata": {},
   "outputs": [],
   "source": [
    "loaded_data_non_triv_proj_rep = dict()\n",
    "energies_non_triv_proj_rep = dict()\n",
    "\n",
    "for local_file_name in list(os.walk(DATA_DIR_2))[0][2]:\n",
    "    f_name = r\"{}/{}\".format(DATA_DIR_2, local_file_name, ignore_unknown=False)\n",
    "\n",
    "    with h5py.File(f_name, 'r') as f:\n",
    "        data = hdf5_io.load_from_hdf5(f)\n",
    "\n",
    "        data_info = parse_file_name(local_file_name)\n",
    "        loaded_data_non_triv_proj_rep[data_info]=data['wavefunction']\n",
    "        energies_non_triv_proj_rep[data_info]=data['energy']"
   ]
  },
  {
   "cell_type": "markdown",
   "id": "914eed85-86ca-41c9-9839-a758b596f631",
   "metadata": {},
   "source": [
    "# Definitons"
   ]
  },
  {
   "cell_type": "code",
   "execution_count": 9,
   "id": "63506364-f535-4c0f-8c5f-8839c69f7b9d",
   "metadata": {},
   "outputs": [],
   "source": [
    "MAX_VIRTUAL_BOND_DIM = 30\n",
    "MAX_INTERMEDIATE_VIRTUAL_BOND_DIM = 2*MAX_VIRTUAL_BOND_DIM\n",
    "# MPO bond dim?\n",
    "MAX_MPO_BOND_DIM = 50\n",
    "\n",
    "SVD_CUTOFF = 1e-3"
   ]
  },
  {
   "cell_type": "markdown",
   "id": "7a2700f1-9c35-422c-9f64-c1ebeae21207",
   "metadata": {},
   "source": [
    "Define bosonic symmetries. Label by the group element added."
   ]
  },
  {
   "cell_type": "code",
   "execution_count": 10,
   "id": "513d7288-c641-4071-a4a3-652787d1f98c",
   "metadata": {},
   "outputs": [],
   "source": [
    "np_00 = np.array([\n",
    "    [1, 0, 0, 0],\n",
    "    [0, 1, 0, 0],\n",
    "    [0, 0, 1, 0],\n",
    "    [0, 0, 0, 1]\n",
    "])\n",
    "\n",
    "np_01 = np.array([\n",
    "    [0, 1, 0, 0],\n",
    "    [1, 0, 0, 0],\n",
    "    [0, 0, 0, 1],\n",
    "    [0, 0, 1, 0]\n",
    "])\n",
    "\n",
    "np_10 = np.array([\n",
    "    [0, 0, 1, 0],\n",
    "    [0, 0, 0, 1],\n",
    "    [1, 0, 0, 0],\n",
    "    [0, 1, 0, 0]\n",
    "])\n",
    "\n",
    "np_11 = np.array([\n",
    "    [0, 0, 0, 1],\n",
    "    [0, 0, 1, 0],\n",
    "    [0, 1, 0, 0],\n",
    "    [1, 0, 0, 0]\n",
    "])"
   ]
  },
  {
   "cell_type": "code",
   "execution_count": 11,
   "id": "c83907c6-e86f-48af-a2a1-11b250f47e84",
   "metadata": {},
   "outputs": [],
   "source": [
    "bosonic_np_symmetries = [\n",
    "    np_00,\n",
    "    np_01,\n",
    "    np_10,\n",
    "    np_11\n",
    "]"
   ]
  },
  {
   "cell_type": "code",
   "execution_count": 12,
   "id": "fd7c7309-10ee-4834-b153-9a4121462fca",
   "metadata": {},
   "outputs": [],
   "source": [
    "bosonic_npc_symmetries = [\n",
    "    to_npc_array(X) for X in bosonic_np_symmetries\n",
    "]"
   ]
  },
  {
   "cell_type": "code",
   "execution_count": 13,
   "id": "2a78a62e-37eb-4baf-98ba-d6a94d599bec",
   "metadata": {},
   "outputs": [],
   "source": [
    "npc_00 = to_npc_array(np_00)\n",
    "npc_01 = to_npc_array(np_01)\n",
    "npc_10 = to_npc_array(np_10)\n",
    "npc_11 = to_npc_array(np_11)"
   ]
  },
  {
   "cell_type": "markdown",
   "id": "5c8a3f80-d770-441f-baad-5ab9ac713e51",
   "metadata": {},
   "source": [
    "Define \"fermionic symmetries\". Just identity and JW string."
   ]
  },
  {
   "cell_type": "code",
   "execution_count": 14,
   "id": "a1c64bf0-4b2e-4492-b242-3dae6eb527c3",
   "metadata": {},
   "outputs": [],
   "source": [
    "np_I = np.array([\n",
    "    [1, 0],\n",
    "    [0, 1]\n",
    "])\n",
    "\n",
    "np_JW = np.array([\n",
    "    [1, 0],\n",
    "    [0, -1]\n",
    "])"
   ]
  },
  {
   "cell_type": "code",
   "execution_count": 15,
   "id": "e595ca13-740a-41a3-a658-8831c8f54323",
   "metadata": {},
   "outputs": [],
   "source": [
    "fermionic_np_symmetries = [np_I, np_JW]"
   ]
  },
  {
   "cell_type": "code",
   "execution_count": 16,
   "id": "6e5b6ad0-2496-4072-afe9-c41fc62da40e",
   "metadata": {},
   "outputs": [],
   "source": [
    "fermionic_npc_symmetries = [\n",
    "    to_npc_array(X) for X in fermionic_np_symmetries\n",
    "]"
   ]
  },
  {
   "cell_type": "code",
   "execution_count": 17,
   "id": "a2b43b48-e438-4702-8287-f5d27fc47f7b",
   "metadata": {},
   "outputs": [],
   "source": [
    "npc_JW = fermionic_npc_symmetries[1]"
   ]
  },
  {
   "cell_type": "code",
   "execution_count": 18,
   "id": "b9e2f954-c591-4479-ba37-32862c25c660",
   "metadata": {},
   "outputs": [],
   "source": [
    "symmetry_actions = [\n",
    "    [[b, f] for b in bosonic_np_symmetries]\n",
    "    for f in fermionic_np_symmetries\n",
    "]"
   ]
  },
  {
   "cell_type": "code",
   "execution_count": 19,
   "id": "8c945b86-cec1-4b08-930f-1922b7e1bea6",
   "metadata": {},
   "outputs": [],
   "source": [
    "shifted_symmetry_actions = [\n",
    "    [[f, b] for b in bosonic_np_symmetries]\n",
    "    for f in fermionic_np_symmetries\n",
    "]"
   ]
  },
  {
   "cell_type": "code",
   "execution_count": 20,
   "id": "d5a75573-aebb-4b9c-904f-342f9f57c345",
   "metadata": {},
   "outputs": [],
   "source": [
    "cases_non_triv_proj_rep = dict()\n",
    "psi = loaded_data_non_triv_proj_rep[0]\n",
    "\n",
    "for i, l in enumerate(symmetry_actions):\n",
    "\n",
    "    for j, s in enumerate(l):\n",
    "        case = SymmetryActionWithBoundaryUnitaries(\n",
    "            psi,\n",
    "            s*40,\n",
    "            left_symmetry_index=60,\n",
    "            left_boundary_unitaries=[np_I, np_00]*1,\n",
    "            right_boundary_unitaries=[np_00, np_I]*1\n",
    "        )\n",
    "\n",
    "        cases_non_triv_proj_rep[(i, j)] = case"
   ]
  },
  {
   "cell_type": "code",
   "execution_count": 21,
   "id": "8d8df7a6-3e0c-4e4f-bc02-97d989f2c6e1",
   "metadata": {},
   "outputs": [],
   "source": [
    "for c in cases_non_triv_proj_rep.values():\n",
    "    c.compute_svd_approximate_expectation()"
   ]
  },
  {
   "cell_type": "code",
   "execution_count": 22,
   "id": "8c7ec4fb-38c1-47a2-9d15-a5f37dd1c6a0",
   "metadata": {},
   "outputs": [],
   "source": [
    "def get_good_sol_found(unitarity, overlap):\n",
    "    if (unitarity < 8) and (overlap > 0.9):\n",
    "        return True\n",
    "    return False"
   ]
  },
  {
   "cell_type": "code",
   "execution_count": 23,
   "id": "7e756feb-09ad-4563-9402-19d034e02d18",
   "metadata": {},
   "outputs": [],
   "source": [
    "def get_diverging_sol(unitarity, overlap):\n",
    "    if unitarity > 1e10:\n",
    "        return True\n",
    "    if overlap > 1e10:\n",
    "        return True\n",
    "    return False"
   ]
  },
  {
   "cell_type": "markdown",
   "id": "1013c965-a966-47ed-8b14-0a1e053c9cf4",
   "metadata": {},
   "source": [
    "# Get MPO solutions"
   ]
  },
  {
   "cell_type": "markdown",
   "id": "2752edfb-5a75-4ff8-93f2-98971a1358d8",
   "metadata": {},
   "source": [
    "## Attempt 1"
   ]
  },
  {
   "cell_type": "code",
   "execution_count": 32,
   "id": "d5782a57-deb1-4e9f-b9a0-9521392e7072",
   "metadata": {},
   "outputs": [],
   "source": [
    "num_sites = 5\n",
    "\n",
    "unitarity_learning_rate = 1\n",
    "overlap_learning_rate = 30\n",
    "\n",
    "num_iterations = int(1e4)\n",
    "bond_dimension = 6"
   ]
  },
  {
   "cell_type": "code",
   "execution_count": 25,
   "id": "98fb4ba1-c3cb-45a2-89fb-dc0bc3555ff6",
   "metadata": {},
   "outputs": [],
   "source": [
    "physical_dims = [2,]*num_sites\n",
    "virtual_dims = (\n",
    "    [(None, bond_dimension),] +\n",
    "    [(bond_dimension, bond_dimension)]*(num_sites - 2) +\n",
    "    [(bond_dimension, None),]\n",
    ")"
   ]
  },
  {
   "cell_type": "code",
   "execution_count": 26,
   "id": "a5d5387d-3f65-4969-bab2-36e95a6d277c",
   "metadata": {},
   "outputs": [],
   "source": [
    "def get_good_sol_found(unitarity, overlap):\n",
    "    if (unitarity < 10) and (overlap > 0.9):\n",
    "        return True\n",
    "    return False"
   ]
  },
  {
   "cell_type": "code",
   "execution_count": 27,
   "id": "3b455c43-9c64-4d66-a112-9d91449e97fb",
   "metadata": {},
   "outputs": [],
   "source": [
    "adam_params = (1e-3, 0.4, 0.4)"
   ]
  },
  {
   "cell_type": "code",
   "execution_count": 29,
   "id": "18b5a905-0f11-471b-a90f-6c19f1dd2d84",
   "metadata": {},
   "outputs": [],
   "source": [
    "test_case = cases_non_triv_proj_rep[(0,1)]"
   ]
  },
  {
   "cell_type": "code",
   "execution_count": 33,
   "id": "6cafd42d-fd08-4daf-8029-fa6bb5161722",
   "metadata": {
    "scrolled": true
   },
   "outputs": [
    {
     "name": "stdout",
     "output_type": "stream",
     "text": [
      "0\n",
      "254.01286617095062\n",
      "1.2737114650132946e-06\n",
      "100\n",
      "121.02625327536134\n",
      "0.00021026544175421983\n",
      "200\n",
      "1.7167391239299832\n",
      "6.917310553392136e-05\n",
      "300\n",
      "0.14615703483099196\n",
      "1.63130624637063e-05\n",
      "400\n",
      "0.07079412406213237\n",
      "1.4773360037560687e-05\n",
      "500\n",
      "0.051224105356368455\n",
      "8.751835944686238e-06\n",
      "600\n",
      "0.045127734114771556\n",
      "8.646950161927619e-06\n",
      "700\n",
      "0.043934639718486324\n",
      "1.1899802186622934e-05\n",
      "800\n",
      "0.05264870532744226\n",
      "9.810697405889485e-06\n",
      "900\n",
      "0.05222950623868883\n",
      "1.1211370128874598e-05\n",
      "1000\n",
      "0.05125617909405378\n",
      "1.341237854242228e-05\n",
      "1100\n",
      "0.03556553866360446\n",
      "1.1204397787777196e-05\n",
      "1200\n",
      "0.016968419069911533\n",
      "1.3620048550246397e-05\n",
      "1300\n",
      "0.013448393232408762\n",
      "1.2814625722392978e-05\n",
      "1400\n",
      "0.019574684631777473\n",
      "1.2726180524687907e-05\n",
      "1500\n",
      "0.026364527266423465\n",
      "6.2546866210303256e-06\n",
      "1600\n",
      "0.04409009749809911\n",
      "1.157850541768864e-05\n",
      "1700\n",
      "0.030937521267617285\n",
      "1.082128527655382e-05\n",
      "1800\n",
      "0.01007459093932539\n",
      "1.1041409766104579e-05\n",
      "1900\n",
      "0.008490298575395627\n",
      "9.464750644277613e-06\n",
      "2000\n",
      "0.007554588927064287\n",
      "1.179239406292028e-05\n",
      "2100\n",
      "0.007858399735141575\n",
      "9.58594101856635e-06\n",
      "2200\n",
      "0.01606373549032014\n",
      "8.889895408099253e-06\n",
      "2300\n",
      "0.025626950993228093\n",
      "8.51703902013994e-06\n",
      "2400\n",
      "0.039051324027866485\n",
      "1.0529959571742571e-05\n",
      "2500\n",
      "0.04460710063500528\n",
      "7.305923569842687e-06\n",
      "2600\n",
      "0.02319970541930161\n",
      "8.164448056445424e-06\n",
      "2700\n",
      "0.016230815257415543\n",
      "9.305799662271772e-06\n",
      "2800\n",
      "0.010005605272141338\n",
      "9.622586620096307e-06\n",
      "2900\n",
      "0.005265928097514916\n",
      "9.6864535681402e-06\n",
      "3000\n",
      "0.005997962266860668\n",
      "9.65886487976364e-06\n",
      "3100\n",
      "0.010005105330719744\n",
      "1.2020047910575962e-05\n",
      "3200\n",
      "0.020200498668884848\n",
      "5.061727487430053e-06\n",
      "3300\n",
      "0.02761916728218239\n",
      "7.3787135335947595e-06\n",
      "3400\n",
      "0.030247247509691988\n",
      "1.1013871794422061e-05\n",
      "3500\n",
      "0.0407178956929215\n",
      "8.838349905704921e-06\n",
      "3600\n",
      "0.032668480266579536\n",
      "6.54307575485764e-06\n",
      "3700\n",
      "0.03899410010978954\n",
      "7.4226066998422215e-06\n",
      "3800\n",
      "0.021593859283711936\n",
      "1.03075051956843e-05\n",
      "3900\n",
      "0.010989850835358084\n",
      "8.74564177014072e-06\n",
      "4000\n",
      "0.004125705485733988\n",
      "8.12656365416637e-06\n",
      "4100\n",
      "0.010280489104729895\n",
      "3.5232089700594072e-06\n",
      "4200\n",
      "0.018601503988350032\n",
      "8.402426294797643e-06\n",
      "4300\n",
      "0.01769176394753913\n",
      "7.12738967659084e-06\n",
      "4400\n",
      "0.023455599276360317\n",
      "8.294116807534752e-06\n",
      "4500\n",
      "0.035051312972427695\n",
      "7.787581320831877e-06\n",
      "4600\n",
      "0.038198794892593924\n",
      "8.780215844943729e-06\n",
      "4700\n",
      "0.014793478636704549\n",
      "6.441121450771077e-06\n",
      "4800\n",
      "0.006551494808718417\n",
      "7.131269262711215e-06\n",
      "4900\n",
      "0.003982092296723749\n",
      "6.870918328058532e-06\n",
      "5000\n",
      "0.006748685668355847\n",
      "6.009314642665309e-06\n",
      "5100\n",
      "0.024952959117655382\n",
      "7.551878180533119e-06\n",
      "5200\n",
      "0.03416153298576319\n",
      "1.0716011712265152e-05\n",
      "5300\n",
      "0.03611880032528347\n",
      "6.30396008972841e-06\n",
      "5400\n",
      "0.02670322696309313\n",
      "5.242912613892915e-06\n",
      "5500\n",
      "0.025485810649826135\n",
      "6.007389176787405e-06\n",
      "5600\n",
      "0.009804947636951056\n",
      "7.396632354164911e-06\n",
      "5700\n",
      "0.00484393844914166\n",
      "3.9544248153544576e-06\n",
      "5800\n",
      "0.006392439171861497\n",
      "8.078684482615691e-06\n",
      "5900\n",
      "0.0029157446132330733\n",
      "6.644866870638591e-06\n",
      "6000\n",
      "0.004029373551134086\n",
      "5.140440289670414e-06\n",
      "6100\n",
      "0.0035026799563979694\n",
      "8.831165294245463e-06\n",
      "6200\n",
      "0.004376449574465369\n",
      "9.174265966109526e-06\n",
      "6300\n",
      "0.00499922661151686\n",
      "4.953770236436107e-06\n",
      "6400\n",
      "0.011780997313906028\n",
      "8.678892262928336e-06\n",
      "6500\n",
      "0.020409476912846003\n",
      "4.56965401017309e-06\n",
      "6600\n",
      "0.02528168021495958\n",
      "4.684923873949177e-06\n",
      "6700\n",
      "0.02559397940319741\n",
      "5.160479468302631e-06\n",
      "6800\n",
      "0.04063102735105417\n",
      "5.558985887960524e-06\n",
      "6900\n",
      "0.017963463957698877\n",
      "7.714512441665916e-06\n",
      "7000\n",
      "0.016262760011301225\n",
      "7.529478753928952e-06\n",
      "7100\n",
      "0.0029718778836240745\n",
      "5.4245623045851034e-06\n",
      "7200\n",
      "0.0075500607298408795\n",
      "4.121703476491065e-06\n",
      "7300\n",
      "0.017224580201343542\n",
      "6.974355316876644e-06\n",
      "7400\n",
      "0.02932128042846216\n",
      "5.431548068195153e-06\n",
      "7500\n",
      "0.041343814267975176\n",
      "7.033661700839149e-06\n",
      "7600\n",
      "0.013022293409733265\n",
      "3.7437816986446754e-06\n",
      "7700\n",
      "0.00694848613159138\n",
      "4.67294235824154e-06\n",
      "7800\n",
      "0.0031520818201897782\n",
      "4.928170157875765e-06\n",
      "7900\n",
      "0.012382447665174823\n",
      "5.268116005160415e-06\n",
      "8000\n",
      "0.01840106682197984\n",
      "2.887537101926982e-06\n",
      "8100\n",
      "0.03163190215087752\n",
      "3.037658469883291e-06\n",
      "8200\n",
      "0.03567818999900396\n",
      "4.157890466302251e-06\n",
      "8300\n",
      "0.021317934619673906\n",
      "3.957071636972362e-06\n",
      "8400\n",
      "0.010501340454851515\n",
      "2.764001714808489e-06\n",
      "8500\n",
      "0.003854777318622382\n",
      "2.161175346313296e-06\n",
      "8600\n",
      "0.0024922438048520235\n",
      "4.570551008300078e-06\n",
      "8700\n",
      "0.011509148335761665\n",
      "3.7036888849285397e-06\n",
      "8800\n",
      "0.024307892023898603\n",
      "3.285905581202921e-06\n",
      "8900\n",
      "0.01216992478836687\n",
      "1.3790401313350803e-06\n",
      "9000\n",
      "0.010788360086166904\n",
      "2.371165191728524e-06\n",
      "9100\n",
      "0.01796118866829488\n",
      "3.1910732249880556e-06\n",
      "9200\n",
      "0.020290082360986617\n",
      "5.607120189730912e-06\n",
      "9300\n",
      "0.02241193491784088\n",
      "4.139952121688288e-06\n",
      "9400\n",
      "0.019242594848037697\n",
      "3.852791052397804e-06\n",
      "9500\n",
      "0.02853925292734516\n",
      "3.4821425672977016e-06\n",
      "9600\n",
      "0.02612357867008086\n",
      "3.352946327519326e-06\n",
      "9700\n",
      "0.025568553543706685\n",
      "3.6370650308495006e-06\n",
      "9800\n",
      "0.01573146276098214\n",
      "2.1414667430078794e-06\n",
      "9900\n",
      "0.012830869294447211\n",
      "4.0750249203747195e-06\n"
     ]
    }
   ],
   "source": [
    "opt = MPOGradientDescent(\n",
    "    test_case,\n",
    "    num_sites,\n",
    "    bond_dimension,\n",
    "    unitarity_learning_rate,\n",
    "    1,\n",
    "    overlap_learning_rate,\n",
    "    adam_params,\n",
    "    random_initial_mpo=True\n",
    ")\n",
    "\n",
    "for i in range(num_iterations):\n",
    "    opt.grad_desc_one_step()\n",
    "\n",
    "    if (i%100 == 0):\n",
    "        print(i)\n",
    "        print(opt.unitarity_scores[-1])\n",
    "        print(opt.mpo_expectations[-1])"
   ]
  },
  {
   "cell_type": "code",
   "execution_count": 35,
   "id": "f71c4b8e-91dc-4836-84f7-4b4ca36158b7",
   "metadata": {},
   "outputs": [
    {
     "data": {
      "text/plain": [
       "[<matplotlib.lines.Line2D at 0x1680a8450>]"
      ]
     },
     "execution_count": 35,
     "metadata": {},
     "output_type": "execute_result"
    },
    {
     "data": {
      "image/png": "[encoded data removed]",
      "text/plain": [
       "<Figure size 800x900 with 3 Axes>"
      ]
     },
     "metadata": {},
     "output_type": "display_data"
    }
   ],
   "source": [
    "fig, [ax1, ax2, ax3] = plt.subplots(nrows=3, figsize=(8, 9))\n",
    "\n",
    "ax1.plot(opt.unitarity_scores)\n",
    "ax2.plot(opt.mpo_expectations)\n",
    "opt.compute_training_losses()\n",
    "ax3.plot(opt.training_losses)"
   ]
  },
  {
   "cell_type": "markdown",
   "id": "d3bc9fef-a7ee-4beb-9531-d40924e55ed8",
   "metadata": {},
   "source": [
    "## Attempt 2"
   ]
  },
  {
   "cell_type": "code",
   "execution_count": 36,
   "id": "b62019f0-05cc-41c5-a37e-593bb83071e2",
   "metadata": {},
   "outputs": [],
   "source": [
    "num_sites = 5\n",
    "\n",
    "unitarity_learning_rate = 1\n",
    "overlap_learning_rate = 60\n",
    "\n",
    "num_iterations = int(1e4)\n",
    "bond_dimension = 6"
   ]
  },
  {
   "cell_type": "code",
   "execution_count": 37,
   "id": "44ac5742-c93f-4fe1-b542-52057ae50774",
   "metadata": {},
   "outputs": [],
   "source": [
    "physical_dims = [2,]*num_sites\n",
    "virtual_dims = (\n",
    "    [(None, bond_dimension),] +\n",
    "    [(bond_dimension, bond_dimension)]*(num_sites - 2) +\n",
    "    [(bond_dimension, None),]\n",
    ")"
   ]
  },
  {
   "cell_type": "code",
   "execution_count": 38,
   "id": "d90a8697-7366-45f6-95e1-623c049b61ca",
   "metadata": {},
   "outputs": [],
   "source": [
    "def get_good_sol_found(unitarity, overlap):\n",
    "    if (unitarity < 10) and (overlap > 0.9):\n",
    "        return True\n",
    "    return False"
   ]
  },
  {
   "cell_type": "code",
   "execution_count": 39,
   "id": "ce3656db-17cc-4f0d-904e-29e4d1d7db30",
   "metadata": {},
   "outputs": [],
   "source": [
    "adam_params = (1e-3, 0.4, 0.4)"
   ]
  },
  {
   "cell_type": "code",
   "execution_count": 40,
   "id": "60711b57-2105-494a-a350-6c9fc56993d9",
   "metadata": {},
   "outputs": [],
   "source": [
    "test_case = cases_non_triv_proj_rep[(0,1)]"
   ]
  },
  {
   "cell_type": "code",
   "execution_count": 41,
   "id": "37169c18-162f-4b45-b8a8-839d96f0a91c",
   "metadata": {
    "scrolled": true
   },
   "outputs": [
    {
     "name": "stdout",
     "output_type": "stream",
     "text": [
      "0\n",
      "254.01397629900387\n",
      "1.0570677469405692e-06\n",
      "100\n",
      "122.65145218508633\n",
      "0.0001784696978460293\n",
      "200\n",
      "5.900505356977646\n",
      "8.105285156858714e-05\n",
      "300\n",
      "0.18689367863183293\n",
      "9.079197896260113e-05\n",
      "400\n",
      "0.07071545545522895\n",
      "0.0001552396973709545\n",
      "500\n",
      "0.07112030150290138\n",
      "0.0002760764009268623\n",
      "600\n",
      "0.0653151944873116\n",
      "0.0004555097396123399\n",
      "700\n",
      "0.06764455518748491\n",
      "0.0006774854540403735\n",
      "800\n",
      "0.0645779135677742\n",
      "0.0007417567490278724\n",
      "900\n",
      "0.0578393744797836\n",
      "0.0008370521842013234\n",
      "1000\n",
      "0.0398498250948478\n",
      "0.0008666285930190241\n",
      "1100\n",
      "0.027950695976898032\n",
      "0.0011787450060662332\n",
      "1200\n",
      "0.04715790020327404\n",
      "0.0007447394337637992\n",
      "1300\n",
      "0.023073940397239312\n",
      "0.0004390051246464784\n",
      "1400\n",
      "0.023702237822021743\n",
      "0.0003600076131954961\n",
      "1500\n",
      "0.01979459275250406\n",
      "0.00030571705381611395\n",
      "1600\n",
      "0.022303831974625155\n",
      "0.00036302829612034585\n",
      "1700\n",
      "0.019848239479671292\n",
      "0.00030155542463626095\n",
      "1800\n",
      "0.0232877782682408\n",
      "0.00034078687293142315\n",
      "1900\n",
      "0.017502292825014365\n",
      "0.00039098048987907256\n",
      "2000\n",
      "0.010629488380459406\n",
      "0.0003664534029920966\n",
      "2100\n",
      "0.008495970299463806\n",
      "0.0004464947482818642\n",
      "2200\n",
      "0.028972382473568814\n",
      "0.0003900069097573211\n",
      "2300\n",
      "0.036233447936297125\n",
      "0.00045367872646775347\n",
      "2400\n",
      "0.020666204216865935\n",
      "0.0004714439346825438\n",
      "2500\n",
      "0.012345526311150934\n",
      "0.0005430352956220126\n",
      "2600\n",
      "0.008108196728244366\n",
      "0.0005430607443943203\n",
      "2700\n",
      "0.007448278663190422\n",
      "0.000629543414257724\n",
      "2800\n",
      "0.011925148661418916\n",
      "0.0003402474847095285\n",
      "2900\n",
      "0.03731455331524103\n",
      "0.00045544229491925207\n",
      "3000\n",
      "0.021819489482709287\n",
      "0.0005261609121726142\n",
      "3100\n",
      "0.04292840706787615\n",
      "0.0006451574849037279\n",
      "3200\n",
      "0.03591970048182702\n",
      "0.0011870045347307761\n",
      "3300\n",
      "0.03996310248459167\n",
      "0.0026602528979616045\n",
      "3400\n",
      "0.06001891543138527\n",
      "0.0027499088387138446\n",
      "3500\n",
      "0.013444189320011901\n",
      "0.0016852580758116252\n",
      "3600\n",
      "0.0206872135107119\n",
      "5.081167032741076e-05\n",
      "3700\n",
      "0.020605522299888435\n",
      "8.242111475285234e-05\n",
      "3800\n",
      "0.02695384827353564\n",
      "0.00011403795839130384\n",
      "3900\n",
      "0.03944186104996561\n",
      "0.00012539635715160522\n",
      "4000\n",
      "0.041341059450076045\n",
      "8.8439365807594e-05\n",
      "4100\n",
      "0.03818699120591873\n",
      "7.02085060734705e-05\n",
      "4200\n",
      "0.04383396114496918\n",
      "6.245127376314231e-05\n",
      "4300\n",
      "0.03267205744876378\n",
      "2.8031241505644018e-05\n",
      "4400\n",
      "0.03199776869985271\n",
      "4.678294306854611e-05\n",
      "4500\n",
      "0.023198878022412828\n",
      "5.8352277458463926e-05\n",
      "4600\n",
      "0.037061806588553736\n",
      "2.6658644521886397e-05\n",
      "4700\n",
      "0.034187192564616\n",
      "3.1528477229342985e-05\n",
      "4800\n",
      "0.03747626377355573\n",
      "1.353653597627733e-05\n",
      "4900\n",
      "0.028562542395690116\n",
      "1.3504893301307272e-05\n",
      "5000\n",
      "0.03860802657675322\n",
      "5.409173822606458e-05\n",
      "5100\n",
      "0.01568743153384844\n",
      "2.1374783579329517e-05\n",
      "5200\n",
      "0.01619862682588291\n",
      "4.0675244143431674e-05\n",
      "5300\n",
      "0.005283526202134681\n",
      "5.5614504740382736e-05\n",
      "5400\n",
      "0.005123988838477089\n",
      "2.1154950967257795e-05\n",
      "5500\n",
      "0.0058488804819489815\n",
      "4.997116750183775e-05\n",
      "5600\n",
      "0.013175140208147695\n",
      "4.010389659123918e-06\n",
      "5700\n",
      "0.01993037244238849\n",
      "2.6584031584953536e-05\n",
      "5800\n",
      "0.03375800823107511\n",
      "2.328679520809836e-05\n",
      "5900\n",
      "0.03812223287206962\n",
      "4.4682526295563117e-05\n",
      "6000\n",
      "0.03485982282114719\n",
      "1.990843891505691e-05\n",
      "6100\n",
      "0.03729433346296673\n",
      "2.1179937303132002e-05\n",
      "6200\n",
      "0.037213295202747076\n",
      "2.2472456780075604e-05\n",
      "6300\n",
      "0.027710053949817848\n",
      "9.649556559633147e-06\n",
      "6400\n",
      "0.03566990484895882\n",
      "2.407494744826585e-05\n",
      "6500\n",
      "0.03414116966251868\n",
      "2.4869120553853716e-05\n",
      "6600\n",
      "0.027145851549619238\n",
      "2.1076073866344996e-05\n",
      "6700\n",
      "0.03291954623921356\n",
      "1.459396211684619e-05\n",
      "6800\n",
      "0.028810833621434995\n",
      "1.743066893304916e-05\n",
      "6900\n",
      "0.033708649458503714\n",
      "2.0957591892695195e-05\n",
      "7000\n",
      "0.019119584400499434\n",
      "3.4332828300234644e-05\n",
      "7100\n",
      "0.0269194740986336\n",
      "1.4354956192020645e-05\n",
      "7200\n",
      "0.009672668682355834\n",
      "1.529985632733318e-05\n",
      "7300\n",
      "0.007551520069341677\n",
      "2.510675717332071e-05\n",
      "7400\n",
      "0.009845674691973727\n",
      "2.544869046932314e-05\n",
      "7500\n",
      "0.0097313438944866\n",
      "2.6671113862564603e-05\n",
      "7600\n",
      "0.007497017502998915\n",
      "3.6759133481929216e-05\n",
      "7700\n",
      "0.004702427937985476\n",
      "2.727948324063227e-05\n",
      "7800\n",
      "0.007032865565690827\n",
      "1.132193164719289e-05\n",
      "7900\n",
      "0.004177736496131956\n",
      "1.3438002720796989e-05\n",
      "8000\n",
      "0.007746670191352223\n",
      "2.9155240661783458e-05\n",
      "8100\n",
      "0.004014166816347142\n",
      "3.944352804276494e-05\n",
      "8200\n",
      "0.005281870367070951\n",
      "3.890767597546675e-05\n",
      "8300\n",
      "0.015880895492756508\n",
      "1.9603505503003116e-05\n",
      "8400\n",
      "0.02937257126689019\n",
      "8.106173439604778e-06\n",
      "8500\n",
      "0.0422347275160746\n",
      "2.985873697312444e-05\n",
      "8600\n",
      "0.031081549179589274\n",
      "1.7538211892974802e-05\n",
      "8700\n",
      "0.04099456821936087\n",
      "1.6706322565183256e-05\n",
      "8800\n",
      "0.026970881534055025\n",
      "1.8768886381492432e-05\n",
      "8900\n",
      "0.021851126981914604\n",
      "6.098705817958275e-06\n",
      "9000\n",
      "0.015214014410446453\n",
      "1.4099822779273478e-05\n",
      "9100\n",
      "0.010652243397373695\n",
      "8.024515446451797e-06\n",
      "9200\n",
      "0.016683877599348307\n",
      "3.4747119229690734e-05\n",
      "9300\n",
      "0.009704379224388049\n",
      "2.2270336700157672e-05\n",
      "9400\n",
      "0.00872171183800674\n",
      "2.5717379031742012e-05\n",
      "9500\n",
      "0.007237603808022186\n",
      "1.196554662776551e-05\n",
      "9600\n",
      "0.0037142364963074215\n",
      "1.2602334417507557e-05\n",
      "9700\n",
      "0.00449797029682486\n",
      "2.761443648319096e-05\n",
      "9800\n",
      "0.004109309141938411\n",
      "1.417057941187085e-05\n",
      "9900\n",
      "0.004906614343894944\n",
      "2.443999752348595e-05\n"
     ]
    }
   ],
   "source": [
    "opt = MPOGradientDescent(\n",
    "    test_case,\n",
    "    num_sites,\n",
    "    bond_dimension,\n",
    "    unitarity_learning_rate,\n",
    "    1,\n",
    "    overlap_learning_rate,\n",
    "    adam_params,\n",
    "    random_initial_mpo=True\n",
    ")\n",
    "\n",
    "for i in range(num_iterations):\n",
    "    opt.grad_desc_one_step()\n",
    "\n",
    "    if (i%100 == 0):\n",
    "        print(i)\n",
    "        print(opt.unitarity_scores[-1])\n",
    "        print(opt.mpo_expectations[-1])"
   ]
  },
  {
   "cell_type": "code",
   "execution_count": 42,
   "id": "837006fd-8fba-490f-bc6a-086441bd9b5e",
   "metadata": {},
   "outputs": [
    {
     "data": {
      "text/plain": [
       "[<matplotlib.lines.Line2D at 0x1689adb50>]"
      ]
     },
     "execution_count": 42,
     "metadata": {},
     "output_type": "execute_result"
    },
    {
     "data": {
      "image/png": "[encoded data removed]",
      "text/plain": [
       "<Figure size 800x900 with 3 Axes>"
      ]
     },
     "metadata": {},
     "output_type": "display_data"
    }
   ],
   "source": [
    "fig, [ax1, ax2, ax3] = plt.subplots(nrows=3, figsize=(8, 9))\n",
    "\n",
    "ax1.plot(opt.unitarity_scores)\n",
    "ax2.plot(opt.mpo_expectations)\n",
    "opt.compute_training_losses()\n",
    "ax3.plot(opt.training_losses)"
   ]
  },
  {
   "cell_type": "markdown",
   "id": "d8ab915b-4ce3-49d4-946b-1b5582c27ca7",
   "metadata": {},
   "source": [
    "Wait, what's happening at the dip? Something is wrong..."
   ]
  },
  {
   "cell_type": "code",
   "execution_count": 44,
   "id": "89e6a690-51bb-4ab8-980c-cd24e055b65d",
   "metadata": {},
   "outputs": [
    {
     "data": {
      "text/plain": [
       "[<matplotlib.lines.Line2D at 0x168b650d0>]"
      ]
     },
     "execution_count": 44,
     "metadata": {},
     "output_type": "execute_result"
    },
    {
     "data": {
      "image/png": "[encoded data removed]",
      "text/plain": [
       "<Figure size 640x480 with 1 Axes>"
      ]
     },
     "metadata": {},
     "output_type": "display_data"
    }
   ],
   "source": [
    "plt.plot(opt.training_losses[3000:4000])"
   ]
  },
  {
   "cell_type": "markdown",
   "id": "1818afac-e73e-435c-9993-ede34011b3b9",
   "metadata": {},
   "source": [
    "This is _not_ the expected behaviour...! Could be an artifact of momentum...?"
   ]
  },
  {
   "cell_type": "code",
   "execution_count": 43,
   "id": "cf8fdc49-bcb7-4328-b778-c8c53d455938",
   "metadata": {},
   "outputs": [
    {
     "data": {
      "text/plain": [
       "[<matplotlib.lines.Line2D at 0x168a68f10>]"
      ]
     },
     "execution_count": 43,
     "metadata": {},
     "output_type": "execute_result"
    },
    {
     "data": {
      "image/png": "[encoded data removed]",
      "text/plain": [
       "<Figure size 640x480 with 1 Axes>"
      ]
     },
     "metadata": {},
     "output_type": "display_data"
    }
   ],
   "source": [
    "plt.plot(opt.training_losses[1:] - opt.training_losses[:-1])"
   ]
  },
  {
   "cell_type": "code",
   "execution_count": null,
   "id": "c2849eec-302f-4c48-808b-30a678803305",
   "metadata": {},
   "outputs": [],
   "source": []
  }
 ],
 "metadata": {
  "kernelspec": {
   "display_name": "num_spt_venv_p11",
   "language": "python",
   "name": "num_spt_venv_p11"
  },
  "language_info": {
   "codemirror_mode": {
    "name": "ipython",
    "version": 3
   },
   "file_extension": ".py",
   "mimetype": "text/x-python",
   "name": "python",
   "nbconvert_exporter": "python",
   "pygments_lexer": "ipython3",
   "version": "3.11.9"
  }
 },
 "nbformat": 4,
 "nbformat_minor": 5
}
