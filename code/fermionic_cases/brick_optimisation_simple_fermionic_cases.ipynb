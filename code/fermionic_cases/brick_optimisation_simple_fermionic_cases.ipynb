{
 "cells": [
  {
   "cell_type": "markdown",
   "id": "5f2205a4-2c74-4cf5-9ad1-9d65bd13bed2",
   "metadata": {},
   "source": [
    "# Brick optimisation - simple fermionic cases\n",
    "\n",
    "Created 10/102/2025\n",
    "\n",
    "Objectives:\n",
    "* Sweep over all simple fermionic cases, checking to see if we can extract the SPT and the extraction makes sense."
   ]
  },
  {
   "cell_type": "markdown",
   "id": "9ad0db4d-805c-4403-9d48-c71d523d572f",
   "metadata": {},
   "source": [
    "# Package imports"
   ]
  },
  {
   "cell_type": "code",
   "execution_count": 1,
   "id": "ecb41ea3-927f-4efa-aebe-ce15784aa037",
   "metadata": {},
   "outputs": [],
   "source": [
    "import sys\n",
    "sys.path.append('../')"
   ]
  },
  {
   "cell_type": "code",
   "execution_count": 2,
   "id": "4a525ec6-f0c8-47ee-8b0b-345bf0ef8bd3",
   "metadata": {},
   "outputs": [],
   "source": [
    "import h5py\n",
    "from tenpy.tools import hdf5_io\n",
    "import tenpy\n",
    "import tenpy.linalg.np_conserved as npc\n",
    "\n",
    "import os"
   ]
  },
  {
   "cell_type": "code",
   "execution_count": 3,
   "id": "b22092ac-9191-4a2d-b568-8680c3687185",
   "metadata": {},
   "outputs": [],
   "source": [
    "from functools import reduce\n",
    "from operator import mul"
   ]
  },
  {
   "cell_type": "code",
   "execution_count": 4,
   "id": "214f688a-c657-4810-b4d1-b1247deff62c",
   "metadata": {},
   "outputs": [],
   "source": [
    "import numpy as np\n",
    "import matplotlib.pyplot as plt"
   ]
  },
  {
   "cell_type": "code",
   "execution_count": 5,
   "id": "b8dec68d-a5b3-4383-ab44-567a9a5981b3",
   "metadata": {},
   "outputs": [],
   "source": [
    "from SPTOptimization.SymmetryActionWithBoundaryUnitaries import SymmetryActionWithBoundaryUnitaries\n",
    "\n",
    "from SPTOptimization.Optimizers.OneSiteSolver import OneSiteSolver\n",
    "\n",
    "from SPTOptimization.utils import (\n",
    "    to_npc_array,\n",
    "    get_right_identity_environment,\n",
    "    get_right_identity_environment_from_tp_tensor,\n",
    "    multiply_transfer_matrices\n",
    ")\n",
    "\n",
    "from SPTOptimization.Optimizers.utils import (\n",
    "    one_site_optimization_sweep_right\n",
    ")"
   ]
  },
  {
   "cell_type": "code",
   "execution_count": 6,
   "id": "b7461fe3-41a3-492f-b018-8e32e27a7300",
   "metadata": {},
   "outputs": [],
   "source": [
    "import re"
   ]
  },
  {
   "cell_type": "markdown",
   "id": "c69a8a47-e298-4c4c-97f7-a6157da4e15f",
   "metadata": {},
   "source": [
    "# Load data"
   ]
  },
  {
   "cell_type": "code",
   "execution_count": 7,
   "id": "210d7dcc-b7ae-4f06-8429-84177bec47d3",
   "metadata": {},
   "outputs": [],
   "source": [
    "DATA_DIR = r\"../data/simple_fermionic_cluster_200_site_dmrg/\""
   ]
  },
  {
   "cell_type": "code",
   "execution_count": 8,
   "id": "ae809e74-d444-4db4-88ff-7538f6110d08",
   "metadata": {},
   "outputs": [],
   "source": [
    "def parse_file_name(file_name):\n",
    "    non_trivial_proj_rep = bool(int(file_name[3]))\n",
    "\n",
    "    n1_01 = int(file_name[8])\n",
    "    n1_10 = int(file_name[9])\n",
    "\n",
    "    return (non_trivial_proj_rep, (n1_01, n1_10))"
   ]
  },
  {
   "cell_type": "code",
   "execution_count": 9,
   "id": "e09f07cf-8441-4c7e-90b8-dbc8c61311f2",
   "metadata": {},
   "outputs": [],
   "source": [
    "loaded_data = dict()\n",
    "\n",
    "for local_file_name in os.listdir(DATA_DIR):\n",
    "    f_name = r\"{}/{}\".format(DATA_DIR, local_file_name, ignore_unknown=False)\n",
    "    with h5py.File(f_name, 'r') as f:\n",
    "        data = hdf5_io.load_from_hdf5(f)\n",
    "\n",
    "        data_info = parse_file_name(local_file_name)\n",
    "        loaded_data[data_info]=data['wavefunction']"
   ]
  },
  {
   "cell_type": "code",
   "execution_count": 10,
   "id": "991ad694-d6ed-4b68-9d35-7a4afb4c225b",
   "metadata": {},
   "outputs": [
    {
     "data": {
      "text/plain": [
       "{(False, (1, 1)): <tenpy.networks.mps.MPS at 0x7c31862ec050>,\n",
       " (False, (0, 0)): <tenpy.networks.mps.MPS at 0x7c3185f5f3d0>,\n",
       " (True, (1, 0)): <tenpy.networks.mps.MPS at 0x7c3185fa0b90>,\n",
       " (True, (0, 1)): <tenpy.networks.mps.MPS at 0x7c3185e2f790>,\n",
       " (True, (0, 0)): <tenpy.networks.mps.MPS at 0x7c3185eb9fd0>,\n",
       " (True, (1, 1)): <tenpy.networks.mps.MPS at 0x7c3185e1f690>,\n",
       " (False, (1, 0)): <tenpy.networks.mps.MPS at 0x7c3185da8d50>,\n",
       " (False, (0, 1)): <tenpy.networks.mps.MPS at 0x7c3185c11150>}"
      ]
     },
     "execution_count": 10,
     "metadata": {},
     "output_type": "execute_result"
    }
   ],
   "source": [
    "loaded_data"
   ]
  },
  {
   "cell_type": "markdown",
   "id": "b4c1e616-c034-404b-b59e-196d1eaac475",
   "metadata": {},
   "source": [
    "# Definitons"
   ]
  },
  {
   "cell_type": "code",
   "execution_count": 11,
   "id": "63506364-f535-4c0f-8c5f-8839c69f7b9d",
   "metadata": {},
   "outputs": [],
   "source": [
    "MAX_VIRTUAL_BOND_DIM = 8\n",
    "MAX_INTERMEDIATE_VIRTUAL_BOND_DIM = 2*MAX_VIRTUAL_BOND_DIM\n",
    "# MPO bond dim?\n",
    "MAX_MPO_BOND_DIM = 50\n",
    "\n",
    "SVD_CUTOFF = 1e-3"
   ]
  },
  {
   "cell_type": "markdown",
   "id": "1efd18d4-328d-43dd-996d-393f18eb02b2",
   "metadata": {},
   "source": [
    "Define bosonic symmetries. Label by the group element added."
   ]
  },
  {
   "cell_type": "code",
   "execution_count": 12,
   "id": "513d7288-c641-4071-a4a3-652787d1f98c",
   "metadata": {},
   "outputs": [],
   "source": [
    "np_00 = np.array([\n",
    "    [1, 0, 0, 0],\n",
    "    [0, 1, 0, 0],\n",
    "    [0, 0, 1, 0],\n",
    "    [0, 0, 0, 1]\n",
    "])\n",
    "\n",
    "np_01 = np.array([\n",
    "    [0, 1, 0, 0],\n",
    "    [1, 0, 0, 0],\n",
    "    [0, 0, 0, 1],\n",
    "    [0, 0, 1, 0]\n",
    "])\n",
    "\n",
    "np_10 = np.array([\n",
    "    [0, 0, 1, 0],\n",
    "    [0, 0, 0, 1],\n",
    "    [1, 0, 0, 0],\n",
    "    [0, 1, 0, 0]\n",
    "])\n",
    "\n",
    "np_11 = np.array([\n",
    "    [0, 0, 0, 1],\n",
    "    [0, 0, 1, 0],\n",
    "    [0, 1, 0, 0],\n",
    "    [1, 0, 0, 0]\n",
    "])"
   ]
  },
  {
   "cell_type": "code",
   "execution_count": 13,
   "id": "c83907c6-e86f-48af-a2a1-11b250f47e84",
   "metadata": {},
   "outputs": [],
   "source": [
    "bosonic_np_symmetries = [\n",
    "    np_00,\n",
    "    np_01,\n",
    "    np_10,\n",
    "    np_11\n",
    "]"
   ]
  },
  {
   "cell_type": "code",
   "execution_count": 14,
   "id": "2a78a62e-37eb-4baf-98ba-d6a94d599bec",
   "metadata": {},
   "outputs": [],
   "source": [
    "npc_00 = to_npc_array(np_00)\n",
    "npc_01 = to_npc_array(np_01)\n",
    "npc_10 = to_npc_array(np_10)\n",
    "npc_11 = to_npc_array(np_11)"
   ]
  },
  {
   "cell_type": "markdown",
   "id": "1ecddc96-798a-416b-b0b4-d9ea9e25cfca",
   "metadata": {},
   "source": [
    "Define \"fermionic symmetries\". Just identity and JW string."
   ]
  },
  {
   "cell_type": "code",
   "execution_count": 15,
   "id": "a1c64bf0-4b2e-4492-b242-3dae6eb527c3",
   "metadata": {},
   "outputs": [],
   "source": [
    "np_I = np.array([\n",
    "    [1, 0],\n",
    "    [0, 1]\n",
    "])\n",
    "\n",
    "np_JW = np.array([\n",
    "    [1, 0],\n",
    "    [0, -1]\n",
    "])"
   ]
  },
  {
   "cell_type": "code",
   "execution_count": 16,
   "id": "e595ca13-740a-41a3-a658-8831c8f54323",
   "metadata": {},
   "outputs": [],
   "source": [
    "fermionic_np_symmetries = [np_I, np_JW]"
   ]
  },
  {
   "cell_type": "code",
   "execution_count": 17,
   "id": "6e5b6ad0-2496-4072-afe9-c41fc62da40e",
   "metadata": {},
   "outputs": [],
   "source": [
    "fermionic_npc_symmetries = [\n",
    "    to_npc_array(X) for X in fermionic_np_symmetries\n",
    "]"
   ]
  },
  {
   "cell_type": "code",
   "execution_count": 18,
   "id": "b9e2f954-c591-4479-ba37-32862c25c660",
   "metadata": {},
   "outputs": [],
   "source": [
    "symmetry_actions = [\n",
    "    [[b, f] for b in bosonic_np_symmetries]\n",
    "    for f in fermionic_np_symmetries\n",
    "]"
   ]
  },
  {
   "cell_type": "code",
   "execution_count": 19,
   "id": "46bc6472-0ffe-420c-a8a2-dae330b72beb",
   "metadata": {},
   "outputs": [
    {
     "data": {
      "text/plain": [
       "[[[array([[1, 0, 0, 0],\n",
       "          [0, 1, 0, 0],\n",
       "          [0, 0, 1, 0],\n",
       "          [0, 0, 0, 1]]),\n",
       "   array([[1, 0],\n",
       "          [0, 1]])],\n",
       "  [array([[0, 1, 0, 0],\n",
       "          [1, 0, 0, 0],\n",
       "          [0, 0, 0, 1],\n",
       "          [0, 0, 1, 0]]),\n",
       "   array([[1, 0],\n",
       "          [0, 1]])],\n",
       "  [array([[0, 0, 1, 0],\n",
       "          [0, 0, 0, 1],\n",
       "          [1, 0, 0, 0],\n",
       "          [0, 1, 0, 0]]),\n",
       "   array([[1, 0],\n",
       "          [0, 1]])],\n",
       "  [array([[0, 0, 0, 1],\n",
       "          [0, 0, 1, 0],\n",
       "          [0, 1, 0, 0],\n",
       "          [1, 0, 0, 0]]),\n",
       "   array([[1, 0],\n",
       "          [0, 1]])]],\n",
       " [[array([[1, 0, 0, 0],\n",
       "          [0, 1, 0, 0],\n",
       "          [0, 0, 1, 0],\n",
       "          [0, 0, 0, 1]]),\n",
       "   array([[ 1,  0],\n",
       "          [ 0, -1]])],\n",
       "  [array([[0, 1, 0, 0],\n",
       "          [1, 0, 0, 0],\n",
       "          [0, 0, 0, 1],\n",
       "          [0, 0, 1, 0]]),\n",
       "   array([[ 1,  0],\n",
       "          [ 0, -1]])],\n",
       "  [array([[0, 0, 1, 0],\n",
       "          [0, 0, 0, 1],\n",
       "          [1, 0, 0, 0],\n",
       "          [0, 1, 0, 0]]),\n",
       "   array([[ 1,  0],\n",
       "          [ 0, -1]])],\n",
       "  [array([[0, 0, 0, 1],\n",
       "          [0, 0, 1, 0],\n",
       "          [0, 1, 0, 0],\n",
       "          [1, 0, 0, 0]]),\n",
       "   array([[ 1,  0],\n",
       "          [ 0, -1]])]]]"
      ]
     },
     "execution_count": 19,
     "metadata": {},
     "output_type": "execute_result"
    }
   ],
   "source": [
    "symmetry_actions"
   ]
  },
  {
   "cell_type": "code",
   "execution_count": 20,
   "id": "ac19b501-4293-4d08-8bb0-35515cd6a093",
   "metadata": {},
   "outputs": [],
   "source": [
    "cases = dict()\n",
    "\n",
    "for k, psi in loaded_data.items():\n",
    "\n",
    "    for i, l in enumerate(symmetry_actions):\n",
    "\n",
    "        for j, s in enumerate(l):\n",
    "            case = SymmetryActionWithBoundaryUnitaries(\n",
    "                psi,\n",
    "                s*50,\n",
    "                left_symmetry_index=50,\n",
    "                left_boundary_unitaries=[np_I, np_00]*1,\n",
    "                right_boundary_unitaries=[np_00, np_I]*1\n",
    "            )\n",
    "\n",
    "            cases[(*k, i, j)] = case"
   ]
  },
  {
   "cell_type": "code",
   "execution_count": 21,
   "id": "8e7ff810-32b3-4163-9b1b-ca96a282a7f5",
   "metadata": {},
   "outputs": [],
   "source": [
    "for c in cases.values():\n",
    "    c.compute_svd_approximate_expectation()"
   ]
  },
  {
   "cell_type": "markdown",
   "id": "1015415a-6ea6-4486-a7c8-a716269c8e03",
   "metadata": {},
   "source": [
    "Why do I need these again? Will need to update..."
   ]
  },
  {
   "cell_type": "code",
   "execution_count": 22,
   "id": "6bac53fa-b629-46fc-a145-f932a0af6f18",
   "metadata": {},
   "outputs": [],
   "source": [
    "left_trivial_leg_charge = tenpy.linalg.charges.LegCharge(\n",
    "    tenpy.linalg.charges.ChargeInfo([], []),\n",
    "    [0,1],\n",
    "    [[]],\n",
    "    qconj=1\n",
    ")"
   ]
  },
  {
   "cell_type": "code",
   "execution_count": 23,
   "id": "44f34cb7-0888-474b-9483-f4956951fc31",
   "metadata": {},
   "outputs": [],
   "source": [
    "right_trivial_leg_charge = tenpy.linalg.charges.LegCharge(\n",
    "    tenpy.linalg.charges.ChargeInfo([], []),\n",
    "    [0,1],\n",
    "    [[]],\n",
    "    qconj=-1\n",
    ")"
   ]
  },
  {
   "cell_type": "markdown",
   "id": "38c05308-5c2c-4c60-8eb5-7446af7f85d7",
   "metadata": {},
   "source": [
    "## Functions"
   ]
  },
  {
   "cell_type": "markdown",
   "id": "fbf28b75-1454-41f0-a17d-dd1d8891cb81",
   "metadata": {},
   "source": [
    "### Leg and label functions"
   ]
  },
  {
   "cell_type": "code",
   "execution_count": 24,
   "id": "0cc65d77-76f3-4159-b2e6-e0ab8429c271",
   "metadata": {},
   "outputs": [],
   "source": [
    "P_LEG_LABEL_REGEX_STRING = r\"^p\\d*$\"\n",
    "p_leg_pattern = re.compile(P_LEG_LABEL_REGEX_STRING)\n",
    "\n",
    "def is_single_physical_leg_label(label):\n",
    "    return bool(p_leg_pattern.match(label))"
   ]
  },
  {
   "cell_type": "code",
   "execution_count": 25,
   "id": "af651898-f853-4710-bfa7-2928d6bb8d55",
   "metadata": {},
   "outputs": [],
   "source": [
    "def is_grouped_physical_leg_label(leg_label):\n",
    "    head, *body, tail = leg_label\n",
    "    if (head != '(') or (tail != ')'):\n",
    "        return False\n",
    "\n",
    "    body = ''.join(body)\n",
    "    legs = body.split('.')\n",
    "\n",
    "    return all(is_single_physical_leg_label(l) for l in legs)"
   ]
  },
  {
   "cell_type": "code",
   "execution_count": 26,
   "id": "1b14fc57-4f21-432e-b2b9-6dcafc179ef2",
   "metadata": {},
   "outputs": [],
   "source": [
    "def is_physical_leg_label(label):\n",
    "    out = (\n",
    "        is_single_physical_leg_label(label)\n",
    "        or is_grouped_physical_leg_label(label)\n",
    "    )\n",
    "\n",
    "    return out"
   ]
  },
  {
   "cell_type": "code",
   "execution_count": 27,
   "id": "949e51b3-8bd1-409f-bb98-0a57d1c99888",
   "metadata": {},
   "outputs": [],
   "source": [
    "def extract_single_physical_leg_label_from_tensor(b):\n",
    "    out = next(\n",
    "        l for l in b.get_leg_labels()\n",
    "        if is_single_physical_leg_label(l)\n",
    "    )\n",
    "\n",
    "    return out"
   ]
  },
  {
   "cell_type": "code",
   "execution_count": 28,
   "id": "1d03a2c8-1e74-4a87-abec-67ec6857100c",
   "metadata": {},
   "outputs": [],
   "source": [
    "def conjugate_single_physical_leg_label(label):\n",
    "    return label + '*'"
   ]
  },
  {
   "cell_type": "code",
   "execution_count": 29,
   "id": "16f3235f-6efc-4739-8dae-a42093c12370",
   "metadata": {},
   "outputs": [],
   "source": [
    "def conjugate_grouped_physical_leg_label(label):\n",
    "    _, *body, _ = label\n",
    "    single_labels = ''.join(body).split('.')\n",
    "\n",
    "    conjugate_labels = [\n",
    "        conjugate_single_physical_leg_label(l)\n",
    "        for l in single_labels\n",
    "    ]\n",
    "\n",
    "    conjugate_body = '.'.join(conjugate_labels)\n",
    "    out = '(' + conjugate_body + ')'\n",
    "    \n",
    "    return out"
   ]
  },
  {
   "cell_type": "code",
   "execution_count": 30,
   "id": "8dab4c14-1fb5-4933-b68c-204cc96541c4",
   "metadata": {},
   "outputs": [],
   "source": [
    "def conjugate_leg_label(label):\n",
    "    if is_single_physical_leg_label(label):\n",
    "        return conjugate_single_physical_leg_label(label)\n",
    "    elif is_grouped_physical_leg_label(label):\n",
    "        return conjugate_grouped_physical_leg_label(label)\n",
    "    else:\n",
    "        raise ValueError"
   ]
  },
  {
   "cell_type": "code",
   "execution_count": 31,
   "id": "8e00e4ef-bb2b-4229-8e92-5e07ec9931b4",
   "metadata": {},
   "outputs": [],
   "source": [
    "def get_physical_leg_labels(t):\n",
    "    out = [\n",
    "        ll for ll in t.get_leg_labels()\n",
    "        if is_physical_leg_label(ll)\n",
    "    ]\n",
    "\n",
    "    return out"
   ]
  },
  {
   "cell_type": "markdown",
   "id": "818c2f27-1431-42a7-ab63-9d81972ed7e2",
   "metadata": {},
   "source": [
    "### Other"
   ]
  },
  {
   "cell_type": "code",
   "execution_count": 32,
   "id": "d2464abb-fd7e-469a-a7d4-e604e24e14bc",
   "metadata": {},
   "outputs": [],
   "source": [
    "def contract_virtual_legs(tl, tr):\n",
    "    return npc.tensordot(tl, tr, ['vR', 'vL'])"
   ]
  },
  {
   "cell_type": "code",
   "execution_count": 33,
   "id": "ac3f7a01-08a2-4937-8308-f12f637f38b6",
   "metadata": {},
   "outputs": [],
   "source": [
    "def combine_tensors(tensors):\n",
    "    out = reduce(contract_virtual_legs, tensors)\n",
    "\n",
    "    leg_labels = [\n",
    "        extract_single_physical_leg_label_from_tensor(t)\n",
    "        for t in tensors\n",
    "    ]\n",
    "\n",
    "    out = out.combine_legs(leg_labels)\n",
    "\n",
    "    return out"
   ]
  },
  {
   "cell_type": "code",
   "execution_count": 34,
   "id": "6b01c411-0a2a-499d-b220-b99e197ecbd8",
   "metadata": {},
   "outputs": [],
   "source": [
    "def combine_b_tensors(b_tensors):\n",
    "    renamed_tensors = [\n",
    "        b.replace_label('p', f'p{i}')\n",
    "        for i, b in enumerate(b_tensors)\n",
    "    ]\n",
    "\n",
    "    return combine_tensors(renamed_tensors)"
   ]
  },
  {
   "cell_type": "code",
   "execution_count": 35,
   "id": "41848361-7394-4eb5-8006-8ab618c0a274",
   "metadata": {},
   "outputs": [],
   "source": [
    "def get_identity_operator(mps_tensor):\n",
    "    p_leg_label = get_physical_leg_labels(mps_tensor)[0]\n",
    "    p_leg = mps_tensor.get_leg(p_leg_label)\n",
    "    p_leg_label_conj = conjugate_leg_label(p_leg_label)\n",
    "\n",
    "    out = npc.diag(\n",
    "        1,\n",
    "        leg=p_leg,\n",
    "        dtype='complex',\n",
    "        labels=[p_leg_label, p_leg_label_conj]\n",
    "    )\n",
    "\n",
    "    return out"
   ]
  },
  {
   "cell_type": "code",
   "execution_count": 36,
   "id": "0b0386d2-79d0-45ab-98ce-ead4ca433c30",
   "metadata": {},
   "outputs": [],
   "source": [
    "def svd_reduce_split_tensor(t, max_inner_dim=MAX_VIRTUAL_BOND_DIM,\n",
    "                           normalise=True, svd_cutoff=SVD_CUTOFF):\n",
    "    U, S, VH = npc.svd(\n",
    "        t,\n",
    "        compute_uv=True,\n",
    "        inner_labels=['vR', 'vL'],\n",
    "        cutoff=svd_cutoff\n",
    "    )\n",
    "\n",
    "    # Truncate tensors:\n",
    "    U = U[:, :max_inner_dim]\n",
    "    S = S[:max_inner_dim]\n",
    "    VH = VH[:max_inner_dim, :]\n",
    "\n",
    "    if normalise:\n",
    "        new_norm = np.sqrt(np.sum(S**2))\n",
    "        S = S/new_norm\n",
    "\n",
    "    \"\"\"\n",
    "    leg = VH.get_leg('vL')\n",
    "\n",
    "    schmidt_values = npc.diag(S, leg, labels=['vL', 'vR'])\n",
    "    \"\"\"\n",
    "\n",
    "    return U, S, VH"
   ]
  },
  {
   "cell_type": "code",
   "execution_count": 37,
   "id": "d2523496-e338-46ef-a2e2-5a8e8dbcba5f",
   "metadata": {},
   "outputs": [],
   "source": [
    "def split_combined_b(b, leftmost_schmidt_values,\n",
    "                     max_virtual_bond_dim=MAX_INTERMEDIATE_VIRTUAL_BOND_DIM,\n",
    "                     p_leg_labels=None):\n",
    "    t = b.split_legs()\n",
    "\n",
    "    num_sites = t.ndim - 2\n",
    "\n",
    "    if p_leg_labels is None:\n",
    "        p_leg_labels = [f'p{i}' for i in range(num_sites)]\n",
    "\n",
    "    out_bs = list()\n",
    "    out_schmidt_values = list()\n",
    "\n",
    "    current_left_schmidt_values = leftmost_schmidt_values\n",
    "\n",
    "    for i, ll in enumerate(p_leg_labels[:-1]):\n",
    "        # In case the bond dimension has been truncated. May need to add in a\n",
    "        # case if have less schmidt values than the bond dim...\n",
    "        bond_dim = t.get_leg('vL').get_block_sizes()[0]\n",
    "        t.iscale_axis(current_left_schmidt_values[:bond_dim], axis='vL')\n",
    "\n",
    "        tail_legs = p_leg_labels[(i+1):]\n",
    "        \n",
    "        t = t.combine_legs([['vL', ll], ['vR', *tail_legs]])\n",
    "\n",
    "        U, S, VH = svd_reduce_split_tensor(\n",
    "            t,\n",
    "            max_inner_dim=max_virtual_bond_dim,\n",
    "            normalise=True\n",
    "        )\n",
    "\n",
    "        bl = (\n",
    "            U\n",
    "            .split_legs()\n",
    "            .replace_label(ll, 'p')\n",
    "        )\n",
    "        bl.iscale_axis(1/current_left_schmidt_values[:bond_dim], axis='vL')\n",
    "        bl.iscale_axis(S, axis='vR')\n",
    "        bl.itranspose(['vL', 'p', 'vR'])\n",
    "        out_bs.append(bl)\n",
    "\n",
    "        out_schmidt_values.append(S)\n",
    "        current_left_schmidt_values=S\n",
    "\n",
    "        t = VH.split_legs()\n",
    "\n",
    "    bl = t.replace_label(p_leg_labels[-1], 'p')\n",
    "    bl.itranspose(['vL', 'p', 'vR'])\n",
    "    out_bs.append(bl)\n",
    "\n",
    "    return out_bs, out_schmidt_values"
   ]
  },
  {
   "cell_type": "code",
   "execution_count": 38,
   "id": "a02ec1af-d2c1-4766-a688-01946f284490",
   "metadata": {},
   "outputs": [],
   "source": [
    "def split_b(b, max_virtual_bond_dim=MAX_INTERMEDIATE_VIRTUAL_BOND_DIM,\n",
    "                     p_leg_labels=None):\n",
    "    leg_label = get_physical_leg_labels(b)[0]\n",
    "\n",
    "    if is_single_physical_leg_label(leg_label):\n",
    "        return b\n",
    "    elif is_grouped_physical_leg_label(leg_label):\n",
    "        return split_combined_b(b, max_virtual_bond_dim, p_leg_labels)\n",
    "    else:\n",
    "        raise ValueError"
   ]
  },
  {
   "cell_type": "code",
   "execution_count": 39,
   "id": "5dddedee-f5a2-4dc8-90e1-7afac18a0307",
   "metadata": {},
   "outputs": [],
   "source": [
    "def split_combined_u(u, max_virtual_bond_dim=MAX_VIRTUAL_BOND_DIM,\n",
    "                     p_leg_labels=None):\n",
    "    t = u.split_legs()\n",
    "    num_sites = t.ndim //2\n",
    "    \n",
    "    if p_leg_labels is None:\n",
    "        p_leg_labels = [f'p{i}' for i in range(num_sites)]\n",
    "\n",
    "    p_leg_labels_hc = [l+'*' for l in p_leg_labels]\n",
    "    out_ws = list()\n",
    "\n",
    "    for i, (ll, ll_hc) in enumerate(zip(p_leg_labels[:-1], p_leg_labels_hc[:-1])):\n",
    "        tail_legs = p_leg_labels[(i+1):]\n",
    "        tail_legs_hc = p_leg_labels_hc[(i+1):]\n",
    "\n",
    "        left_leg_labels = [ll, ll_hc]\n",
    "        if 'vL' in t.get_leg_labels():\n",
    "            left_leg_labels.append('vL')\n",
    "    \n",
    "        t = t.combine_legs([left_leg_labels, [*tail_legs, *tail_legs_hc]])\n",
    "\n",
    "        U, S, VH = svd_reduce_split_tensor(\n",
    "            t,\n",
    "            max_inner_dim=max_virtual_bond_dim,\n",
    "            normalise=False\n",
    "        )\n",
    "\n",
    "        U.iscale_axis(S, axis='vR')\n",
    "\n",
    "        wl = U.split_legs().replace_labels([ll, ll_hc], ['p', 'p*'])\n",
    "        #wl.itranspose(['p', 'p*'])\n",
    "        out_ws.append(wl)\n",
    "\n",
    "        t = VH.split_legs()\n",
    "\n",
    "    wl = t.replace_labels(\n",
    "        [p_leg_labels[-1], p_leg_labels_hc[-1]],\n",
    "        ['p', 'p*']\n",
    "    )\n",
    "    #wl.itranspose(['p', 'p*'])\n",
    "    out_ws.append(wl)\n",
    "\n",
    "    out_ws[0] = (\n",
    "        out_ws[0]\n",
    "        .add_leg(left_trivial_leg_charge, 0, label='vL')\n",
    "    )\n",
    "    \n",
    "    out_ws[-1] = (\n",
    "        out_ws[-1]\n",
    "        .add_leg(right_trivial_leg_charge, 0, label='vR')\n",
    "    )\n",
    "\n",
    "    return out_ws"
   ]
  },
  {
   "cell_type": "code",
   "execution_count": 40,
   "id": "a28056d8-7950-4661-b4b8-0b73e1f6cf97",
   "metadata": {},
   "outputs": [],
   "source": [
    "def split_u(u, max_virtual_bond_dim=MAX_VIRTUAL_BOND_DIM,\n",
    "            p_leg_labels=None):\n",
    "    leg_label = get_physical_leg_labels(u)[0]\n",
    "\n",
    "    if is_single_physical_leg_label(leg_label):\n",
    "        return [unitary_to_mpo_tensor(u),]\n",
    "    elif is_grouped_physical_leg_label(leg_label):\n",
    "        return split_combined_u(u, max_virtual_bond_dim, p_leg_labels)\n",
    "    else:\n",
    "        raise ValueError"
   ]
  },
  {
   "cell_type": "code",
   "execution_count": 41,
   "id": "bc71056c-f25f-4d68-b694-2a26c0ad5790",
   "metadata": {},
   "outputs": [],
   "source": [
    "def unitary_to_mpo_tensor(u):\n",
    "    out = (\n",
    "        u\n",
    "        .add_leg(left_trivial_leg_charge, 0, label='vL')\n",
    "        .add_leg(right_trivial_leg_charge, 0, label='vR')\n",
    "    )\n",
    "\n",
    "    return out"
   ]
  },
  {
   "cell_type": "code",
   "execution_count": 42,
   "id": "7b9fb468-6328-4ae0-b25a-652cb13032c1",
   "metadata": {},
   "outputs": [],
   "source": [
    "def multiply_individual_mpo_tensors(w1, w2):\n",
    "    w1 = w1.replace_labels(['vR', 'vL'], ['vR1', 'vL1'])\n",
    "    w2 = w2.replace_labels(['vR', 'vL'], ['vR2', 'vL2'])\n",
    "\n",
    "    w = (\n",
    "        npc.tensordot(w1, w2, [['p'], ['p*']])\n",
    "        .combine_legs([['vR1', 'vR2'], ['vL1', 'vL2']])\n",
    "        .replace_labels(['(vR1.vR2)', '(vL1.vL2)'], ['vR', 'vL'])\n",
    "    )\n",
    "\n",
    "    return w"
   ]
  },
  {
   "cell_type": "code",
   "execution_count": 43,
   "id": "f9a3a71f-0d3f-4ecf-8eec-c38f861561ef",
   "metadata": {},
   "outputs": [],
   "source": [
    "def group_elements(l, group_size, offset=0):\n",
    "    first, rest = l[:offset], l[offset:]\n",
    "\n",
    "    num_rest_groups = ((len(rest)-1)//group_size) + 1\n",
    "\n",
    "    groups = [first,] if first else list()\n",
    "\n",
    "    for i in range(num_rest_groups):\n",
    "        first_index = i*group_size\n",
    "        last_index = (i+1)*group_size\n",
    "        groups.append(rest[first_index:last_index])\n",
    "\n",
    "    return groups"
   ]
  },
  {
   "cell_type": "code",
   "execution_count": 44,
   "id": "96791fa9-9917-4440-b847-2bc4a3eb39e5",
   "metadata": {},
   "outputs": [],
   "source": [
    "def combine_grouped_b_tensors(grouped_bs):\n",
    "    out = list()\n",
    "\n",
    "    for group in grouped_bs:\n",
    "        if len(group) == 1:\n",
    "            out.append(group[0])\n",
    "        else:\n",
    "            out.append(combine_b_tensors(group))\n",
    "\n",
    "    return out"
   ]
  },
  {
   "cell_type": "code",
   "execution_count": 45,
   "id": "c78589cc-aa65-4aa1-9d53-0cf61702e92c",
   "metadata": {},
   "outputs": [],
   "source": [
    "def reduce_virtual_mpo_dim(wl, wr, max_virtual_bond_dim=MAX_VIRTUAL_BOND_DIM):\n",
    "    # wl = wl.replace_labels(['p', 'p*'], ['pl', 'pl*'])\n",
    "\n",
    "    wl = wl.combine_legs(['p', 'vL', 'p*'])\n",
    "    wr = wr.combine_legs(['p', 'vR', 'p*'])\n",
    "    w = npc.tensordot(wl, wr, ['vR', 'vL'])\n",
    "\n",
    "    wl, S, wr = svd_reduce_split_tensor(\n",
    "        w,\n",
    "        max_inner_dim=max_virtual_bond_dim\n",
    "    )\n",
    "\n",
    "    wl.iscale_axis(S, axis='vR')\n",
    "\n",
    "    wl = wl.split_legs()\n",
    "    wr = wr.split_legs()\n",
    "\n",
    "    return wl, wr"
   ]
  },
  {
   "cell_type": "code",
   "execution_count": 46,
   "id": "e7470053-b5df-45e0-b302-d7ad19d83f30",
   "metadata": {},
   "outputs": [],
   "source": [
    "def multiply_mpos(top_ws, bottom_ws, max_virtual_bond_dim=MAX_VIRTUAL_BOND_DIM):\n",
    "    ws = list()\n",
    "    \n",
    "    for w1, w2 in zip(top_ws, bottom_ws):\n",
    "        w = multiply_individual_mpo_tensors(w1, w2)\n",
    "        ws.append(w)\n",
    "\n",
    "\n",
    "    for i in range(len(ws)-1):\n",
    "        ws[i], ws[i+1] = reduce_virtual_mpo_dim(\n",
    "            ws[i],\n",
    "            ws[i+1],\n",
    "            max_virtual_bond_dim=max_virtual_bond_dim\n",
    "        )\n",
    "\n",
    "    return ws"
   ]
  },
  {
   "cell_type": "markdown",
   "id": "808162ba-8e2a-40bf-adcb-84aff74b5b95",
   "metadata": {},
   "source": [
    "### Layer function"
   ]
  },
  {
   "cell_type": "code",
   "execution_count": 47,
   "id": "28b4dd32-ad86-4b30-8047-0b8ad440a194",
   "metadata": {},
   "outputs": [],
   "source": [
    "def optimise_layer(\n",
    "        left_environment,\n",
    "        top_b_tensors,\n",
    "        left_schmidt_values,\n",
    "        block_width,\n",
    "        block_offset,\n",
    "        expectations,\n",
    "        unitaries=list(),\n",
    "        bottom_b_tensors=None,\n",
    "        num_iterations=1,\n",
    "        max_virtual_bond_dim=MAX_VIRTUAL_BOND_DIM\n",
    "    ):\n",
    "\n",
    "    if bottom_b_tensors is None:\n",
    "        bottom_b_tensors = top_b_tensors\n",
    "\n",
    "    group = lambda x: group_elements(x, block_width, block_offset)\n",
    "    top_grouped_bs = group(top_b_tensors)\n",
    "    bottom_grouped_bs = group(bottom_b_tensors)\n",
    "    grouped_schmidt_values = group(left_schmidt_values)\n",
    "\n",
    "    top_combined_bs = combine_grouped_b_tensors(top_grouped_bs)\n",
    "    bottom_combined_bs = combine_grouped_b_tensors(bottom_grouped_bs)\n",
    "\n",
    "    new_unitaries = [\n",
    "        get_identity_operator(t) for t in top_combined_bs\n",
    "    ]\n",
    "\n",
    "    expectations.append(list())\n",
    "\n",
    "    for _ in range(num_iterations):\n",
    "        exps, *_ = one_site_optimization_sweep_right(\n",
    "            left_environment,\n",
    "            top_combined_bs,\n",
    "            new_unitaries,\n",
    "            bottom_combined_bs\n",
    "        )\n",
    "\n",
    "        expectations[-1].append(exps)\n",
    "\n",
    "    unitaries.append(new_unitaries)\n",
    "\n",
    "    for i, u in enumerate(new_unitaries):\n",
    "        b = top_combined_bs[i]\n",
    "        ll = get_physical_leg_labels(b)[0]\n",
    "        llh = conjugate_leg_label(ll)\n",
    "    \n",
    "        new_b = npc.tensordot(b, u, [[ll,], [llh,]])\n",
    "    \n",
    "        top_combined_bs[i] = new_b\n",
    "\n",
    "    new_top_bs = list()\n",
    "    #new_left_schmidt_values = left_schmidt_values.copy()\n",
    "    new_left_schmidt_values = list()\n",
    "\n",
    "    for b, s in zip (top_combined_bs, grouped_schmidt_values):\n",
    "        \"\"\"\n",
    "        print(b)\n",
    "        print(s)\n",
    "        print('\\n')\n",
    "        \"\"\"\n",
    "        leg_label = get_physical_leg_labels(b)[0]\n",
    "        if is_single_physical_leg_label(leg_label):\n",
    "            new_top_bs.append(b)\n",
    "            new_left_schmidt_values.extend(s)\n",
    "        elif is_grouped_physical_leg_label(leg_label):\n",
    "            bs, schmidt_vals = split_combined_b(\n",
    "                b,\n",
    "                s[0],\n",
    "                max_virtual_bond_dim\n",
    "            )\n",
    "            new_top_bs.extend(bs)\n",
    "            new_left_schmidt_values.extend(s)\n",
    "\n",
    "    \"\"\"\n",
    "    for i, b in enumerate(new_top_bs):\n",
    "        top_b_tensors[i] = b\n",
    "    \"\"\"\n",
    "\n",
    "    return new_top_bs, new_left_schmidt_values"
   ]
  },
  {
   "cell_type": "code",
   "execution_count": 48,
   "id": "3a51ee7d-cf08-4382-bb53-55cae7533c76",
   "metadata": {},
   "outputs": [],
   "source": [
    "def inner_product_b_tensors(b_tensors, b_bra_tensors=None, left_environment=None,\n",
    "                            right_environment=None):\n",
    "    if b_bra_tensors is None:\n",
    "        b_bra_tensors = b_tensors\n",
    "\n",
    "    b = b_tensors[0]\n",
    "    b_bra = b_bra_tensors[0]\n",
    "\n",
    "    if left_environment is None:\n",
    "        t = npc.tensordot(b, b_bra.conj(), [['vL',], ['vL*',]])\n",
    "    else:\n",
    "        t = npc.tensordot(left_environment, b, [['vR',], ['vL',]])\n",
    "        t = npc.tensordot(t, b_bra.conj(), [['vR*', 'p'], ['vL*', 'p*']])\n",
    "\n",
    "    for b, b_bra in zip(b_tensors[1:], b_bra_tensors[1:]):\n",
    "        t = npc.tensordot(t, b, [['vR',], ['vL',]])\n",
    "        t = npc.tensordot(t, b_bra.conj(), [['vR*', 'p'], ['vL*', 'p*']])\n",
    "\n",
    "    if right_environment is None:\n",
    "        out = npc.trace(t)\n",
    "    else:\n",
    "        out = npc.tensordot(t, right_environment, [['vR', 'vR*'], ['vL', 'vL*']])\n",
    "\n",
    "    return out"
   ]
  },
  {
   "cell_type": "code",
   "execution_count": 49,
   "id": "da01938e-f826-4a2f-874d-2a7ea0576fee",
   "metadata": {},
   "outputs": [],
   "source": [
    "def get_left_side_right_symmetry_environment(\n",
    "    right_top_b_tensors, right_bottom_b_tensors, symmetry_transfer_matrix\n",
    "    ):\n",
    "\n",
    "    if right_bottom_b_tensors is None:\n",
    "        right_bottom_b_tensors = right_top_b_tensors\n",
    "\n",
    "    t = get_right_identity_environment_from_tp_tensor(right_top_b_tensors[-1])\n",
    "\n",
    "    for tb, bb in zip(right_top_b_tensors[::-1], right_bottom_b_tensors[::-1]):\n",
    "        t = npc.tensordot(t, tb, [['vL',], ['vR']])\n",
    "        t = npc.tensordot(t, bb.conj(), [['vL*', 'p'], ['vR*', 'p*']])\n",
    "\n",
    "    t = npc.tensordot(\n",
    "        t,\n",
    "        symmetry_transfer_matrix,\n",
    "        [['vL', 'vL*',], ['vR', 'vR*']]\n",
    "    )\n",
    "\n",
    "    return t"
   ]
  },
  {
   "cell_type": "code",
   "execution_count": 50,
   "id": "e4c0c3f6-9014-41c6-a7b3-745dd0dc9970",
   "metadata": {},
   "outputs": [],
   "source": [
    "def swap_left_right_indices(npc_array):\n",
    "    left_right_pairs = {\n",
    "        'vL': 'vR',\n",
    "        'vR': 'vL',\n",
    "        'vL*': 'vR*',\n",
    "        'vR*': 'vL*'\n",
    "    }\n",
    "\n",
    "    leg_labels = npc_array.get_leg_labels()\n",
    "\n",
    "    old_labels = [l for l in leg_labels if l in left_right_pairs]\n",
    "    new_labels = [left_right_pairs[l] for l in old_labels]\n",
    "\n",
    "    out = npc_array.replace_labels(old_labels, new_labels)\n",
    "\n",
    "    return out"
   ]
  },
  {
   "cell_type": "code",
   "execution_count": 51,
   "id": "ebd32d02-222b-49ff-9df3-d74114ea3ea5",
   "metadata": {},
   "outputs": [],
   "source": [
    "def two_sided_optimise_layer(\n",
    "        symmetry_transfer_matrix,\n",
    "        top_left_b_tensors,\n",
    "        top_right_b_tensors,\n",
    "        right_side_left_schmidt_values,\n",
    "        left_side_right_schmidt_values,\n",
    "        block_width,\n",
    "        block_offset,\n",
    "        right_expectations,\n",
    "        left_expectations,\n",
    "        bottom_left_b_tensors=None,\n",
    "        bottom_right_b_tensors=None,\n",
    "        left_unitaries=list(),\n",
    "        right_unitaries=list(),\n",
    "        num_iterations=1,\n",
    "        max_virtual_bond_dim=MAX_VIRTUAL_BOND_DIM\n",
    "    ):\n",
    "\n",
    "    if bottom_left_b_tensors is None:\n",
    "        bottom_left_b_tensors = top_left_b_tensors\n",
    "\n",
    "    if bottom_right_b_tensors is None:\n",
    "        bottom_right_b_tensors = top_right_b_tensors\n",
    "\n",
    "    right_side_left_symmetry_environment = (\n",
    "        get_left_side_right_symmetry_environment(\n",
    "            top_left_b_tensors,\n",
    "            bottom_left_b_tensors,\n",
    "            swap_left_right_indices(symmetry_transfer_matrix)\n",
    "        )\n",
    "    )\n",
    "\n",
    "    right_side_left_symmetry_environment = swap_left_right_indices(\n",
    "        right_side_left_symmetry_environment\n",
    "    )\n",
    "    \n",
    "    new_right_pair = optimise_layer(\n",
    "        right_side_left_symmetry_environment,\n",
    "        top_right_b_tensors,\n",
    "        right_side_left_schmidt_values,\n",
    "        block_width,\n",
    "        block_offset,\n",
    "        right_expectations,\n",
    "        right_unitaries,\n",
    "        bottom_right_b_tensors,\n",
    "        num_iterations,\n",
    "        max_virtual_bond_dim\n",
    "    )\n",
    "\n",
    "    new_top_right_b_tensors = new_right_pair[0]\n",
    "    new_right_side_left_schmidt_values = new_right_pair[1]\n",
    "\n",
    "    left_side_right_symmetry_environment = (\n",
    "        get_left_side_right_symmetry_environment(\n",
    "            new_top_right_b_tensors,\n",
    "            bottom_right_b_tensors,\n",
    "            symmetry_transfer_matrix\n",
    "        )\n",
    "    )\n",
    "\n",
    "    left_side_right_symmetry_environment = swap_left_right_indices(\n",
    "        left_side_right_symmetry_environment\n",
    "    )\n",
    "\n",
    "    new_left_pair = optimise_layer(\n",
    "        left_side_right_symmetry_environment,\n",
    "        top_left_b_tensors,\n",
    "        left_side_right_schmidt_values,\n",
    "        block_width,\n",
    "        block_offset,\n",
    "        left_expectations,\n",
    "        left_unitaries,\n",
    "        bottom_left_b_tensors,\n",
    "        num_iterations,\n",
    "        max_virtual_bond_dim\n",
    "    )\n",
    "\n",
    "    new_top_left_b_tensors = new_left_pair[0]\n",
    "    new_left_side_right_schmidt_values = new_left_pair[1]\n",
    "\n",
    "    return (new_left_pair, new_right_pair)"
   ]
  },
  {
   "cell_type": "code",
   "execution_count": 52,
   "id": "0d59ad34-19c1-46f1-ae19-ff608959e0cd",
   "metadata": {},
   "outputs": [],
   "source": [
    "def initialize_brick_optimisation(symmetry_case, num_sites):\n",
    "    symmetry_transfer_matrix = symmetry_case.npc_symmetry_transfer_matrix\n",
    "\n",
    "    right_site_indices = list(range(\n",
    "        symmetry_case.right_symmetry_index + 1,\n",
    "        symmetry_case.right_symmetry_index + 1 + num_sites\n",
    "    ))\n",
    "\n",
    "    right_mps_tensors = [\n",
    "        symmetry_case.psi.get_B(i)\n",
    "        for k, i in enumerate(right_site_indices)\n",
    "    ]\n",
    "\n",
    "    right_side_left_schmidt_values = [\n",
    "        symmetry_case.psi.get_SL(i)\n",
    "        for i in right_site_indices\n",
    "    ]\n",
    "\n",
    "    left_site_indices = list(range(\n",
    "        symmetry_case.left_symmetry_index - 1,\n",
    "        symmetry_case.left_symmetry_index - 1 - num_sites,\n",
    "        -1\n",
    "    ))\n",
    "\n",
    "    left_mps_tensors = [\n",
    "        symmetry_case.psi.get_B(i, form='A')\n",
    "        for k, i in enumerate(left_site_indices)\n",
    "    ]\n",
    "    \n",
    "    left_mps_tensors = [swap_left_right_indices(b) for b in left_mps_tensors]\n",
    "\n",
    "    left_side_right_schmidt_values = [\n",
    "        symmetry_case.psi.get_SR(i)\n",
    "        for i in left_site_indices\n",
    "    ]\n",
    "\n",
    "    right_expectations=list()\n",
    "    left_expectations=list()\n",
    "    left_unitaries=list()\n",
    "    right_unitaries=list()\n",
    "\n",
    "    return (\n",
    "        symmetry_transfer_matrix,\n",
    "        left_mps_tensors,\n",
    "        right_mps_tensors,\n",
    "        right_side_left_schmidt_values,\n",
    "        left_side_right_schmidt_values,\n",
    "        right_expectations,\n",
    "        left_expectations,\n",
    "        left_unitaries,\n",
    "        right_unitaries\n",
    "    )"
   ]
  },
  {
   "cell_type": "markdown",
   "id": "84b4a7a7-96ac-4c80-979f-030a05d586c7",
   "metadata": {},
   "source": [
    "# Test"
   ]
  },
  {
   "cell_type": "code",
   "execution_count": 53,
   "id": "1a0ea9df-23ae-49bb-8455-6e1348c22446",
   "metadata": {},
   "outputs": [
    {
     "data": {
      "text/plain": [
       "dict_keys([(False, (1, 1), 0, 0), (False, (1, 1), 0, 1), (False, (1, 1), 0, 2), (False, (1, 1), 0, 3), (False, (1, 1), 1, 0), (False, (1, 1), 1, 1), (False, (1, 1), 1, 2), (False, (1, 1), 1, 3), (False, (0, 0), 0, 0), (False, (0, 0), 0, 1), (False, (0, 0), 0, 2), (False, (0, 0), 0, 3), (False, (0, 0), 1, 0), (False, (0, 0), 1, 1), (False, (0, 0), 1, 2), (False, (0, 0), 1, 3), (True, (1, 0), 0, 0), (True, (1, 0), 0, 1), (True, (1, 0), 0, 2), (True, (1, 0), 0, 3), (True, (1, 0), 1, 0), (True, (1, 0), 1, 1), (True, (1, 0), 1, 2), (True, (1, 0), 1, 3), (True, (0, 1), 0, 0), (True, (0, 1), 0, 1), (True, (0, 1), 0, 2), (True, (0, 1), 0, 3), (True, (0, 1), 1, 0), (True, (0, 1), 1, 1), (True, (0, 1), 1, 2), (True, (0, 1), 1, 3), (True, (0, 0), 0, 0), (True, (0, 0), 0, 1), (True, (0, 0), 0, 2), (True, (0, 0), 0, 3), (True, (0, 0), 1, 0), (True, (0, 0), 1, 1), (True, (0, 0), 1, 2), (True, (0, 0), 1, 3), (True, (1, 1), 0, 0), (True, (1, 1), 0, 1), (True, (1, 1), 0, 2), (True, (1, 1), 0, 3), (True, (1, 1), 1, 0), (True, (1, 1), 1, 1), (True, (1, 1), 1, 2), (True, (1, 1), 1, 3), (False, (1, 0), 0, 0), (False, (1, 0), 0, 1), (False, (1, 0), 0, 2), (False, (1, 0), 0, 3), (False, (1, 0), 1, 0), (False, (1, 0), 1, 1), (False, (1, 0), 1, 2), (False, (1, 0), 1, 3), (False, (0, 1), 0, 0), (False, (0, 1), 0, 1), (False, (0, 1), 0, 2), (False, (0, 1), 0, 3), (False, (0, 1), 1, 0), (False, (0, 1), 1, 1), (False, (0, 1), 1, 2), (False, (0, 1), 1, 3)])"
      ]
     },
     "execution_count": 53,
     "metadata": {},
     "output_type": "execute_result"
    }
   ],
   "source": [
    "cases.keys()"
   ]
  },
  {
   "cell_type": "code",
   "execution_count": 54,
   "id": "abd3049f-e8ad-422f-9759-cde3e2f41a96",
   "metadata": {},
   "outputs": [],
   "source": [
    "test_case = cases[(False, (0,0), 0, 0)]"
   ]
  },
  {
   "cell_type": "code",
   "execution_count": 55,
   "id": "2804b1a8-6a91-459c-88d4-4162d12f08b6",
   "metadata": {},
   "outputs": [],
   "source": [
    "(\n",
    "    symmetry_transfer_matrix,\n",
    "    left_mps_tensors,\n",
    "    right_mps_tensors,\n",
    "    right_side_left_schmidt_values,\n",
    "    left_side_right_schmidt_values,\n",
    "    right_expectations,\n",
    "    left_expectations,\n",
    "    left_unitaries,\n",
    "    right_unitaries\n",
    ") = initialize_brick_optimisation(test_case, 2)"
   ]
  },
  {
   "cell_type": "code",
   "execution_count": 56,
   "id": "56575bf7-41d8-4111-8a8c-feeb209642b3",
   "metadata": {},
   "outputs": [],
   "source": [
    "block_width = 2\n",
    "num_iterations = 1\n",
    "num_layers = 1\n",
    "\n",
    "top_right_mpo_tensors = [right_mps_tensors,]\n",
    "top_left_mpo_tensors = [left_mps_tensors,]\n",
    "\n",
    "right_side_left_schmidt_values_list = [right_side_left_schmidt_values,]\n",
    "left_side_right_schmidt_values_list = [left_side_right_schmidt_values,]"
   ]
  },
  {
   "cell_type": "code",
   "execution_count": 57,
   "id": "fd04d5a5-a3f7-4476-9e88-23bf5644804b",
   "metadata": {},
   "outputs": [
    {
     "data": {
      "text/plain": [
       "<npc.Array shape=(1, 1, 1, 1) labels=['vL*', 'vL', 'vR', 'vR*']>"
      ]
     },
     "execution_count": 57,
     "metadata": {},
     "output_type": "execute_result"
    }
   ],
   "source": [
    "symmetry_transfer_matrix"
   ]
  },
  {
   "cell_type": "code",
   "execution_count": 58,
   "id": "959158ac-e27a-496f-958d-00442b7b7d43",
   "metadata": {},
   "outputs": [
    {
     "data": {
      "text/plain": [
       "[<npc.Array shape=(1, 2, 1) labels=['vR', 'p', 'vL']>,\n",
       " <npc.Array shape=(1, 4, 1) labels=['vR', 'p', 'vL']>]"
      ]
     },
     "execution_count": 58,
     "metadata": {},
     "output_type": "execute_result"
    }
   ],
   "source": [
    "left_mps_tensors"
   ]
  },
  {
   "cell_type": "code",
   "execution_count": 59,
   "id": "a1d8223a-dc8e-4261-8e2a-b4cd9fd21754",
   "metadata": {},
   "outputs": [
    {
     "data": {
      "text/plain": [
       "[<npc.Array shape=(1, 4, 1) labels=['vL', 'p', 'vR']>,\n",
       " <npc.Array shape=(1, 2, 1) labels=['vL', 'p', 'vR']>]"
      ]
     },
     "execution_count": 59,
     "metadata": {},
     "output_type": "execute_result"
    }
   ],
   "source": [
    "right_mps_tensors"
   ]
  },
  {
   "cell_type": "code",
   "execution_count": 60,
   "id": "f046b44c-dfbb-4ca9-b063-5f4aa58cfb10",
   "metadata": {},
   "outputs": [
    {
     "data": {
      "text/plain": [
       "[array([1.]), array([1.])]"
      ]
     },
     "execution_count": 60,
     "metadata": {},
     "output_type": "execute_result"
    }
   ],
   "source": [
    "right_side_left_schmidt_values"
   ]
  },
  {
   "cell_type": "code",
   "execution_count": 61,
   "id": "8560b64b-15be-4086-851b-b8df7d06b08d",
   "metadata": {},
   "outputs": [
    {
     "data": {
      "text/plain": [
       "[array([1.]), array([1.])]"
      ]
     },
     "execution_count": 61,
     "metadata": {},
     "output_type": "execute_result"
    }
   ],
   "source": [
    "left_side_right_schmidt_values"
   ]
  },
  {
   "cell_type": "code",
   "execution_count": 62,
   "id": "186e734b-a892-4a23-a5ae-a06a1df0df22",
   "metadata": {},
   "outputs": [
    {
     "data": {
      "text/plain": [
       "[<npc.Array shape=(1, 2, 1) labels=['vR', 'p', 'vL']>,\n",
       " <npc.Array shape=(1, 4, 1) labels=['vR', 'p', 'vL']>]"
      ]
     },
     "execution_count": 62,
     "metadata": {},
     "output_type": "execute_result"
    }
   ],
   "source": [
    "top_left_mpo_tensors[-1]"
   ]
  },
  {
   "cell_type": "code",
   "execution_count": 63,
   "id": "e6c48a73-fb12-4199-8e09-e2234ef1aa40",
   "metadata": {},
   "outputs": [
    {
     "data": {
      "text/plain": [
       "[<npc.Array shape=(1, 2, 1) labels=['vR', 'p', 'vL']>,\n",
       " <npc.Array shape=(1, 4, 1) labels=['vR', 'p', 'vL']>]"
      ]
     },
     "execution_count": 63,
     "metadata": {},
     "output_type": "execute_result"
    }
   ],
   "source": [
    "left_mps_tensors"
   ]
  },
  {
   "cell_type": "code",
   "execution_count": 64,
   "id": "d2f7f513-8ee4-4cba-b417-67021e9ef6a0",
   "metadata": {
    "scrolled": true
   },
   "outputs": [
    {
     "name": "stdout",
     "output_type": "stream",
     "text": [
      "Layer: 0\n"
     ]
    }
   ],
   "source": [
    "for i in range(num_layers):\n",
    "    print(f\"Layer: {i}\")\n",
    "    \n",
    "    block_offset = (block_width//2)*i % block_width\n",
    "\n",
    "    out_quad = two_sided_optimise_layer(\n",
    "        symmetry_transfer_matrix,\n",
    "        top_left_mpo_tensors[-1],\n",
    "        top_right_mpo_tensors[-1],\n",
    "        right_side_left_schmidt_values_list[-1],\n",
    "        left_side_right_schmidt_values_list[-1],\n",
    "        block_width,\n",
    "        block_offset,\n",
    "        right_expectations,\n",
    "        left_expectations,\n",
    "        left_mps_tensors,\n",
    "        right_mps_tensors,\n",
    "        left_unitaries,\n",
    "        right_unitaries,\n",
    "        num_iterations\n",
    "    )\n",
    "\n",
    "    left_pair, right_pair = out_quad\n",
    "\n",
    "    top_right_mpo_tensors.append(right_pair[0])\n",
    "    right_side_left_schmidt_values_list.append(right_pair[1])\n",
    "    \n",
    "    top_left_mpo_tensors.append(left_pair[0])\n",
    "    left_side_right_schmidt_values_list.append(left_pair[1])"
   ]
  },
  {
   "cell_type": "code",
   "execution_count": 65,
   "id": "5ff7e692-22ce-4600-8d0b-128fd8c3ea9f",
   "metadata": {},
   "outputs": [
    {
     "data": {
      "text/plain": [
       "[[[1.0000000000000038]]]"
      ]
     },
     "execution_count": 65,
     "metadata": {},
     "output_type": "execute_result"
    }
   ],
   "source": [
    "left_expectations"
   ]
  },
  {
   "cell_type": "markdown",
   "id": "ddb876fc-2ec8-4992-aa27-fbb42224d455",
   "metadata": {},
   "source": [
    "# Sweep"
   ]
  },
  {
   "cell_type": "code",
   "execution_count": 66,
   "id": "8d079072-83ef-4e03-a8ee-778d3fe64087",
   "metadata": {},
   "outputs": [],
   "source": [
    "block_width = 2\n",
    "num_iterations = 1\n",
    "num_layers = 1\n",
    "num_sites = 2"
   ]
  },
  {
   "cell_type": "code",
   "execution_count": 67,
   "id": "9ca03f52-9951-4b6c-b09e-0788f6ca5d90",
   "metadata": {},
   "outputs": [
    {
     "name": "stdout",
     "output_type": "stream",
     "text": [
      "Case (False, (1, 1), 0, 0)\n",
      "Case (False, (1, 1), 0, 1)\n",
      "Case (False, (1, 1), 0, 2)\n",
      "Case (False, (1, 1), 0, 3)\n",
      "Case (False, (1, 1), 1, 0)\n",
      "Case (False, (1, 1), 1, 1)\n",
      "Case (False, (1, 1), 1, 2)\n",
      "Case (False, (1, 1), 1, 3)\n",
      "Case (False, (0, 0), 0, 0)\n",
      "Case (False, (0, 0), 0, 1)\n",
      "Case (False, (0, 0), 0, 2)\n",
      "Case (False, (0, 0), 0, 3)\n",
      "Case (False, (0, 0), 1, 0)\n",
      "Case (False, (0, 0), 1, 1)\n",
      "Case (False, (0, 0), 1, 2)\n",
      "Case (False, (0, 0), 1, 3)\n",
      "Case (True, (1, 0), 0, 0)\n",
      "Case (True, (1, 0), 0, 1)\n",
      "Case (True, (1, 0), 0, 2)\n",
      "Case (True, (1, 0), 0, 3)\n",
      "Case (True, (1, 0), 1, 0)\n",
      "Case (True, (1, 0), 1, 1)\n",
      "Case (True, (1, 0), 1, 2)\n",
      "Case (True, (1, 0), 1, 3)\n",
      "Case (True, (0, 1), 0, 0)\n",
      "Case (True, (0, 1), 0, 1)\n",
      "Case (True, (0, 1), 0, 2)\n",
      "Case (True, (0, 1), 0, 3)\n",
      "Case (True, (0, 1), 1, 0)\n",
      "Case (True, (0, 1), 1, 1)\n",
      "Case (True, (0, 1), 1, 2)\n",
      "Case (True, (0, 1), 1, 3)\n",
      "Case (True, (0, 0), 0, 0)\n",
      "Case (True, (0, 0), 0, 1)\n",
      "Case (True, (0, 0), 0, 2)\n",
      "Case (True, (0, 0), 0, 3)\n",
      "Case (True, (0, 0), 1, 0)\n",
      "Case (True, (0, 0), 1, 1)\n",
      "Case (True, (0, 0), 1, 2)\n",
      "Case (True, (0, 0), 1, 3)\n",
      "Case (True, (1, 1), 0, 0)\n",
      "Case (True, (1, 1), 0, 1)\n",
      "Case (True, (1, 1), 0, 2)\n",
      "Case (True, (1, 1), 0, 3)\n",
      "Case (True, (1, 1), 1, 0)\n",
      "Case (True, (1, 1), 1, 1)\n",
      "Case (True, (1, 1), 1, 2)\n",
      "Case (True, (1, 1), 1, 3)\n",
      "Case (False, (1, 0), 0, 0)\n",
      "Case (False, (1, 0), 0, 1)\n",
      "Case (False, (1, 0), 0, 2)\n",
      "Case (False, (1, 0), 0, 3)\n",
      "Case (False, (1, 0), 1, 0)\n",
      "Case (False, (1, 0), 1, 1)\n",
      "Case (False, (1, 0), 1, 2)\n",
      "Case (False, (1, 0), 1, 3)\n",
      "Case (False, (0, 1), 0, 0)\n",
      "Case (False, (0, 1), 0, 1)\n",
      "Case (False, (0, 1), 0, 2)\n",
      "Case (False, (0, 1), 0, 3)\n",
      "Case (False, (0, 1), 1, 0)\n",
      "Case (False, (0, 1), 1, 1)\n",
      "Case (False, (0, 1), 1, 2)\n",
      "Case (False, (0, 1), 1, 3)\n"
     ]
    }
   ],
   "source": [
    "left_mps_tensors = dict()\n",
    "right_mps_tensors = dict()\n",
    "right_side_left_schmidt_values = dict()\n",
    "left_side_right_schmidt_values = dict()\n",
    "right_expectations = dict()\n",
    "left_expectations = dict()\n",
    "left_unitaries = dict()\n",
    "right_unitaries = dict()\n",
    "\n",
    "for k, c in cases.items():\n",
    "    print(f'Case {k}')\n",
    "\n",
    "    (\n",
    "        symmetry_transfer_matrix,\n",
    "        current_left_mps_tensors,\n",
    "        current_right_mps_tensors,\n",
    "        current_right_side_left_schmidt_values,\n",
    "        current_left_side_right_schmidt_values,\n",
    "        current_right_expectations,\n",
    "        current_left_expectations,\n",
    "        current_left_unitaries,\n",
    "        current_right_unitaries\n",
    "    ) = initialize_brick_optimisation(c, num_sites)\n",
    "\n",
    "    top_right_mps_tensors = [current_right_mps_tensors,]\n",
    "    top_left_mps_tensors = [current_left_mps_tensors,]\n",
    "    \n",
    "    right_side_left_schmidt_values_list = [current_right_side_left_schmidt_values,]\n",
    "    left_side_right_schmidt_values_list = [current_left_side_right_schmidt_values,]\n",
    "\n",
    "    for i in range(num_layers):\n",
    "        block_offset = (block_width//2)*i % block_width\n",
    "    \n",
    "        out_quad = two_sided_optimise_layer(\n",
    "            symmetry_transfer_matrix,\n",
    "            top_left_mps_tensors[-1],\n",
    "            top_right_mps_tensors[-1],\n",
    "            right_side_left_schmidt_values_list[-1],\n",
    "            left_side_right_schmidt_values_list[-1],\n",
    "            block_width,\n",
    "            block_offset,\n",
    "            current_right_expectations,\n",
    "            current_left_expectations,\n",
    "            current_left_mps_tensors,\n",
    "            current_right_mps_tensors,\n",
    "            current_left_unitaries,\n",
    "            current_right_unitaries,\n",
    "            num_iterations\n",
    "        )\n",
    "    \n",
    "        left_pair, right_pair = out_quad\n",
    "    \n",
    "        top_right_mps_tensors.append(right_pair[0])\n",
    "        right_side_left_schmidt_values_list.append(right_pair[1])\n",
    "        \n",
    "        top_left_mps_tensors.append(left_pair[0])\n",
    "        left_side_right_schmidt_values_list.append(left_pair[1])\n",
    "\n",
    "\n",
    "    left_mps_tensors[k] = top_left_mps_tensors[-1]\n",
    "    right_mps_tensors[k] = top_right_mps_tensors[-1]\n",
    "    right_side_left_schmidt_values[k] = right_side_left_schmidt_values_list[-1]\n",
    "    left_side_right_schmidt_values[k] = left_side_right_schmidt_values_list[-1]\n",
    "    right_expectations[k] = current_right_expectations\n",
    "    left_expectations[k] = current_left_expectations\n",
    "    left_unitaries[k] = current_left_unitaries\n",
    "    right_unitaries[k] = current_right_unitaries"
   ]
  },
  {
   "cell_type": "markdown",
   "id": "fb9e0ec3-933d-4954-876a-401a46f592ae",
   "metadata": {},
   "source": [
    "## JW assumption check"
   ]
  },
  {
   "cell_type": "code",
   "execution_count": 68,
   "id": "9833af06-3c2e-4f00-9226-10eda37d6275",
   "metadata": {},
   "outputs": [],
   "source": [
    "def mod_4_to_bit(x):    \n",
    "    possible_mod_4_values = list(range(4))\n",
    "    assert x in possible_mod_4_values\n",
    "\n",
    "    x0 = x % 2\n",
    "    x1 = ((x - x0) // 2) % 2\n",
    "\n",
    "    return (x0, x1)"
   ]
  },
  {
   "cell_type": "code",
   "execution_count": 69,
   "id": "33c185cd-4025-4045-81f4-acdcc2f3fe5d",
   "metadata": {},
   "outputs": [],
   "source": [
    "def bit_to_mod_4(bit_pair):\n",
    "    x0, x1 = bit_pair\n",
    "\n",
    "    possible_mod_2_values = list(range(2))\n",
    "    assert x0 in possible_mod_2_values\n",
    "    assert x1 in possible_mod_2_values\n",
    "\n",
    "    return x0 + 2*x1"
   ]
  },
  {
   "cell_type": "code",
   "execution_count": 70,
   "id": "2f730c90-d821-448a-a40c-90e04ddceb7f",
   "metadata": {},
   "outputs": [],
   "source": [
    "def mod_4_to_bit_addition(x, y):\n",
    "    (x0, x1) = mod_4_to_bit(x)\n",
    "    (y0, y1) = mod_4_to_bit(y)\n",
    "\n",
    "    out0 = (x0 + y0) % 2\n",
    "    out1 = (x1 + y1) % 2\n",
    "\n",
    "    out = bit_to_mod_4((out0, out1))\n",
    "\n",
    "    return out"
   ]
  },
  {
   "cell_type": "code",
   "execution_count": 71,
   "id": "6fc7782a-5e24-4998-90b9-1dec0783ba13",
   "metadata": {},
   "outputs": [],
   "source": [
    "def get_n1_func(n1_01, n1_10):\n",
    "    l = [0, n1_01, n1_10, (n1_01 + n1_10)%2]\n",
    "    \n",
    "    def f(g1, g2):\n",
    "        i = mod_4_to_bit_addition(g1, g2)\n",
    "        return l[i]\n",
    "\n",
    "    return f"
   ]
  },
  {
   "cell_type": "code",
   "execution_count": 74,
   "id": "2f26081d-b61a-45bb-a4cd-881cc53f9c90",
   "metadata": {},
   "outputs": [],
   "source": [
    "def expect_jw_necessary(n1_pair, symmetry_index):\n",
    "    n1_func = get_n1_func(*n1_pair)\n",
    "\n",
    "    return bool(n1_func(symmetry_index, 0))"
   ]
  },
  {
   "cell_type": "code",
   "execution_count": 81,
   "id": "dbae0f1b-79f1-4dbf-ac21-85aeae4be1af",
   "metadata": {},
   "outputs": [
    {
     "data": {
      "text/plain": [
       "False"
      ]
     },
     "execution_count": 81,
     "metadata": {},
     "output_type": "execute_result"
    }
   ],
   "source": [
    "expect_jw_necessary((1,0), 2)"
   ]
  },
  {
   "cell_type": "code",
   "execution_count": 79,
   "id": "9567ce40-d844-44c4-a352-7d97c29451ba",
   "metadata": {},
   "outputs": [],
   "source": [
    "expected_right_expecations = dict()\n",
    "\n",
    "for k, v in right_expectations.items():\n",
    "    _, n1_pair, jw, symmetry_index = k\n",
    "\n",
    "    b1 = expect_jw_necessary(n1_pair, symmetry_index)\n",
    "    b2 = bool(jw)\n",
    "\n",
    "    exp = 1 if (b1 == b2) else 0\n",
    "\n",
    "    expected_right_expecations[k] = (v[0][0][0], exp, b1, b2)"
   ]
  },
  {
   "cell_type": "code",
   "execution_count": 80,
   "id": "d8e56a57-080a-4336-adb3-dea9ab0a5256",
   "metadata": {},
   "outputs": [
    {
     "data": {
      "text/plain": [
       "{(False, (1, 1), 0, 0): (1.0000000000000036, 1, False, False),\n",
       " (False, (1, 1), 0, 1): (3.018973491504081e-14, 0, True, False),\n",
       " (False, (1, 1), 0, 2): (2.97180508127724e-14, 0, True, False),\n",
       " (False, (1, 1), 0, 3): (1.0000000000000036, 1, False, False),\n",
       " (False, (1, 1), 1, 0): (8.238599460785126e-14, 0, False, True),\n",
       " (False, (1, 1), 1, 1): (1.1198602844520207e-17, 1, True, True),\n",
       " (False, (1, 1), 1, 2): (1.8137496748427192e-17, 1, True, True),\n",
       " (False, (1, 1), 1, 3): (8.245426707812457e-14, 0, False, True),\n",
       " (False, (0, 0), 0, 0): (1.0000000000000038, 1, False, False),\n",
       " (False, (0, 0), 0, 1): (1.000000000000003, 1, False, False),\n",
       " (False, (0, 0), 0, 2): (1.0, 1, False, False),\n",
       " (False, (0, 0), 0, 3): (0.9999999999999998, 1, False, False),\n",
       " (False, (0, 0), 1, 0): (1.0000000000000038, 0, False, True),\n",
       " (False, (0, 0), 1, 1): (1.000000000000003, 0, False, True),\n",
       " (False, (0, 0), 1, 2): (1.0, 0, False, True),\n",
       " (False, (0, 0), 1, 3): (0.9999999999999998, 0, False, True),\n",
       " (True, (1, 0), 0, 0): (1.000000000000007, 1, False, False),\n",
       " (True, (1, 0), 0, 1): (9.125621091613894e-18, 0, True, False),\n",
       " (True, (1, 0), 0, 2): (1.763820428574211e-14, 1, False, False),\n",
       " (True, (1, 0), 0, 3): (2.1195014326180485e-18, 0, True, False),\n",
       " (True, (1, 0), 1, 0): (1.1205708679664186e-14, 0, False, True),\n",
       " (True, (1, 0), 1, 1): (1.712533471003941e-30, 1, True, True),\n",
       " (True, (1, 0), 1, 2): (1.0704529330255132e-13, 0, False, True),\n",
       " (True, (1, 0), 1, 3): (1.3347735741646156e-30, 1, True, True),\n",
       " (True, (0, 1), 0, 0): (1.0000000000000058, 1, False, False),\n",
       " (True, (0, 1), 0, 1): (3.210733514906468e-14, 1, False, False),\n",
       " (True, (0, 1), 0, 2): (2.1065330297606555e-18, 0, True, False),\n",
       " (True, (0, 1), 0, 3): (2.494190909550185e-18, 0, True, False),\n",
       " (True, (0, 1), 1, 0): (2.315292791257071e-13, 0, False, True),\n",
       " (True, (0, 1), 1, 1): (1.0151943096979242e-13, 0, False, True),\n",
       " (True, (0, 1), 1, 2): (4.323401174954968e-31, 1, True, True),\n",
       " (True, (0, 1), 1, 3): (4.5120076752623204e-31, 1, True, True),\n",
       " (True, (0, 0), 0, 0): (1.000000000000007, 1, False, False),\n",
       " (True, (0, 0), 0, 1): (2.5990285794893955e-17, 1, False, False),\n",
       " (True, (0, 0), 0, 2): (1.3993377162314447e-17, 1, False, False),\n",
       " (True, (0, 0), 0, 3): (9.26310917878655e-18, 1, False, False),\n",
       " (True, (0, 0), 1, 0): (1.000000000000007, 0, False, True),\n",
       " (True, (0, 0), 1, 1): (2.5990285794893955e-17, 0, False, True),\n",
       " (True, (0, 0), 1, 2): (1.3993377162314447e-17, 0, False, True),\n",
       " (True, (0, 0), 1, 3): (9.26310917878655e-18, 0, False, True),\n",
       " (True, (1, 1), 0, 0): (1.0000000000000098, 1, False, False),\n",
       " (True, (1, 1), 0, 1): (2.1885524870044342e-18, 0, True, False),\n",
       " (True, (1, 1), 0, 2): (1.1367095568777846e-17, 0, True, False),\n",
       " (True, (1, 1), 0, 3): (6.586278966979898e-14, 1, False, False),\n",
       " (True, (1, 1), 1, 0): (4.563848915785405e-14, 0, False, True),\n",
       " (True, (1, 1), 1, 1): (2.0844879573613935e-31, 1, True, True),\n",
       " (True, (1, 1), 1, 2): (3.091267115893715e-31, 1, True, True),\n",
       " (True, (1, 1), 1, 3): (8.65006906457264e-15, 0, False, True),\n",
       " (False, (1, 0), 0, 0): (1.0000000000000004, 1, False, False),\n",
       " (False, (1, 0), 0, 1): (9.45349975142825e-14, 0, True, False),\n",
       " (False, (1, 0), 0, 2): (1.0000000000000002, 1, False, False),\n",
       " (False, (1, 0), 0, 3): (9.453541830502382e-14, 0, True, False),\n",
       " (False, (1, 0), 1, 0): (5.764829280735966e-14, 0, False, True),\n",
       " (False, (1, 0), 1, 1): (1.733751506836132e-18, 1, True, True),\n",
       " (False, (1, 0), 1, 2): (5.793775746643924e-14, 0, False, True),\n",
       " (False, (1, 0), 1, 3): (1.302014576123628e-18, 1, True, True),\n",
       " (False, (0, 1), 0, 0): (1.0000000000000022, 1, False, False),\n",
       " (False, (0, 1), 0, 1): (1.0000000000000027, 1, False, False),\n",
       " (False, (0, 1), 0, 2): (3.691538079194007e-14, 0, True, False),\n",
       " (False, (0, 1), 0, 3): (3.689556163402845e-14, 0, True, False),\n",
       " (False, (0, 1), 1, 0): (4.154093181978445e-14, 0, False, True),\n",
       " (False, (0, 1), 1, 1): (4.153534886981806e-14, 0, False, True),\n",
       " (False, (0, 1), 1, 2): (1.3827335512262746e-17, 1, True, True),\n",
       " (False, (0, 1), 1, 3): (1.3827335512262737e-17, 1, True, True)}"
      ]
     },
     "execution_count": 80,
     "metadata": {},
     "output_type": "execute_result"
    }
   ],
   "source": [
    "expected_right_expecations"
   ]
  },
  {
   "cell_type": "code",
   "execution_count": 170,
   "id": "1c415f63-8c2a-41bc-bed9-85615f597a37",
   "metadata": {},
   "outputs": [
    {
     "data": {
      "text/plain": [
       "{(False, (1, 1), 0, 0): [[[1.0000000000000036]]],\n",
       " (False, (1, 1), 0, 1): [[[3.018973491504081e-14]]],\n",
       " (False, (1, 1), 0, 2): [[[2.97180508127724e-14]]],\n",
       " (False, (1, 1), 0, 3): [[[1.0000000000000036]]],\n",
       " (False, (1, 1), 1, 0): [[[8.238599460785126e-14]]],\n",
       " (False, (1, 1), 1, 1): [[[1.1198602844520207e-17]]],\n",
       " (False, (1, 1), 1, 2): [[[1.8137496748427192e-17]]],\n",
       " (False, (1, 1), 1, 3): [[[8.245426707812457e-14]]],\n",
       " (False, (0, 0), 0, 0): [[[1.0000000000000038]]],\n",
       " (False, (0, 0), 0, 1): [[[1.000000000000003]]],\n",
       " (False, (0, 0), 0, 2): [[[1.0]]],\n",
       " (False, (0, 0), 0, 3): [[[0.9999999999999998]]],\n",
       " (False, (0, 0), 1, 0): [[[1.0000000000000038]]],\n",
       " (False, (0, 0), 1, 1): [[[1.000000000000003]]],\n",
       " (False, (0, 0), 1, 2): [[[1.0]]],\n",
       " (False, (0, 0), 1, 3): [[[0.9999999999999998]]],\n",
       " (True, (1, 0), 0, 0): [[[1.000000000000007]]],\n",
       " (True, (1, 0), 0, 1): [[[9.125621091613894e-18]]],\n",
       " (True, (1, 0), 0, 2): [[[1.763820428574211e-14]]],\n",
       " (True, (1, 0), 0, 3): [[[2.1195014326180485e-18]]],\n",
       " (True, (1, 0), 1, 0): [[[1.1205708679664186e-14]]],\n",
       " (True, (1, 0), 1, 1): [[[1.712533471003941e-30]]],\n",
       " (True, (1, 0), 1, 2): [[[1.0704529330255132e-13]]],\n",
       " (True, (1, 0), 1, 3): [[[1.3347735741646156e-30]]],\n",
       " (True, (0, 1), 0, 0): [[[1.0000000000000058]]],\n",
       " (True, (0, 1), 0, 1): [[[3.210733514906468e-14]]],\n",
       " (True, (0, 1), 0, 2): [[[2.1065330297606555e-18]]],\n",
       " (True, (0, 1), 0, 3): [[[2.494190909550185e-18]]],\n",
       " (True, (0, 1), 1, 0): [[[2.315292791257071e-13]]],\n",
       " (True, (0, 1), 1, 1): [[[1.0151943096979242e-13]]],\n",
       " (True, (0, 1), 1, 2): [[[4.323401174954968e-31]]],\n",
       " (True, (0, 1), 1, 3): [[[4.5120076752623204e-31]]],\n",
       " (True, (0, 0), 0, 0): [[[1.000000000000007]]],\n",
       " (True, (0, 0), 0, 1): [[[2.5990285794893955e-17]]],\n",
       " (True, (0, 0), 0, 2): [[[1.3993377162314447e-17]]],\n",
       " (True, (0, 0), 0, 3): [[[9.26310917878655e-18]]],\n",
       " (True, (0, 0), 1, 0): [[[1.000000000000007]]],\n",
       " (True, (0, 0), 1, 1): [[[2.5990285794893955e-17]]],\n",
       " (True, (0, 0), 1, 2): [[[1.3993377162314447e-17]]],\n",
       " (True, (0, 0), 1, 3): [[[9.26310917878655e-18]]],\n",
       " (True, (1, 1), 0, 0): [[[1.0000000000000098]]],\n",
       " (True, (1, 1), 0, 1): [[[2.1885524870044342e-18]]],\n",
       " (True, (1, 1), 0, 2): [[[1.1367095568777846e-17]]],\n",
       " (True, (1, 1), 0, 3): [[[6.586278966979898e-14]]],\n",
       " (True, (1, 1), 1, 0): [[[4.563848915785405e-14]]],\n",
       " (True, (1, 1), 1, 1): [[[2.0844879573613935e-31]]],\n",
       " (True, (1, 1), 1, 2): [[[3.091267115893715e-31]]],\n",
       " (True, (1, 1), 1, 3): [[[8.65006906457264e-15]]],\n",
       " (False, (1, 0), 0, 0): [[[1.0000000000000004]]],\n",
       " (False, (1, 0), 0, 1): [[[9.45349975142825e-14]]],\n",
       " (False, (1, 0), 0, 2): [[[1.0000000000000002]]],\n",
       " (False, (1, 0), 0, 3): [[[9.453541830502382e-14]]],\n",
       " (False, (1, 0), 1, 0): [[[5.764829280735966e-14]]],\n",
       " (False, (1, 0), 1, 1): [[[1.733751506836132e-18]]],\n",
       " (False, (1, 0), 1, 2): [[[5.793775746643924e-14]]],\n",
       " (False, (1, 0), 1, 3): [[[1.302014576123628e-18]]],\n",
       " (False, (0, 1), 0, 0): [[[1.0000000000000022]]],\n",
       " (False, (0, 1), 0, 1): [[[1.0000000000000027]]],\n",
       " (False, (0, 1), 0, 2): [[[3.691538079194007e-14]]],\n",
       " (False, (0, 1), 0, 3): [[[3.689556163402845e-14]]],\n",
       " (False, (0, 1), 1, 0): [[[4.154093181978445e-14]]],\n",
       " (False, (0, 1), 1, 1): [[[4.153534886981806e-14]]],\n",
       " (False, (0, 1), 1, 2): [[[1.3827335512262746e-17]]],\n",
       " (False, (0, 1), 1, 3): [[[1.3827335512262737e-17]]]}"
      ]
     },
     "execution_count": 170,
     "metadata": {},
     "output_type": "execute_result"
    }
   ],
   "source": [
    "right_expectations"
   ]
  },
  {
   "cell_type": "markdown",
   "id": "51e57847-4ba5-4480-8b7c-9cc4647a5ad0",
   "metadata": {},
   "source": [
    "## Overlaps check"
   ]
  },
  {
   "cell_type": "code",
   "execution_count": 240,
   "id": "7c69b6b6-9944-4438-b254-a49f64c8473f",
   "metadata": {},
   "outputs": [
    {
     "data": {
      "text/plain": [
       "21"
      ]
     },
     "execution_count": 240,
     "metadata": {},
     "output_type": "execute_result"
    }
   ],
   "source": [
    "len(right_expectations)"
   ]
  },
  {
   "cell_type": "code",
   "execution_count": 241,
   "id": "ab88e967-ecfa-46c6-815e-a2bfe0e0cfa1",
   "metadata": {},
   "outputs": [],
   "source": [
    "def interleave_left_right_expectations(left_list, right_list):\n",
    "    out = list()\n",
    "    for rl, ll in zip(right_list, left_list):\n",
    "        out.extend([e for l in rl for e in l])\n",
    "        out.extend([e for l in ll for e in l])\n",
    "\n",
    "    return out"
   ]
  },
  {
   "cell_type": "code",
   "execution_count": 242,
   "id": "4ddc08a6-672f-4efb-a34e-8e2299ce9251",
   "metadata": {},
   "outputs": [],
   "source": [
    "full_expectations = list()\n",
    "\n",
    "for ll, rl in zip(left_expectations, right_expectations):\n",
    "    full_expectations.append(list())\n",
    "\n",
    "    for ll1, rl1 in zip(ll, rl):\n",
    "\n",
    "        data = interleave_left_right_expectations(ll1, rl1)\n",
    "        full_expectations[-1].append(data)"
   ]
  },
  {
   "cell_type": "code",
   "execution_count": 243,
   "id": "312b1450-6c01-42c7-aebf-703b87dc109f",
   "metadata": {},
   "outputs": [
    {
     "data": {
      "text/plain": [
       "[<matplotlib.lines.Line2D at 0x30bc5c250>]"
      ]
     },
     "execution_count": 243,
     "metadata": {},
     "output_type": "execute_result"
    },
    {
     "data": {
      "image/png": "[encoded data removed]",
      "text/plain": [
       "<Figure size 640x480 with 1 Axes>"
      ]
     },
     "metadata": {},
     "output_type": "display_data"
    }
   ],
   "source": [
    "plt.plot(full_expectations[0][0])"
   ]
  },
  {
   "cell_type": "code",
   "execution_count": 244,
   "id": "11c6c976-2ca3-415f-a71d-b45c8fda4b92",
   "metadata": {},
   "outputs": [
    {
     "data": {
      "text/plain": [
       "[<matplotlib.lines.Line2D at 0x1710cbdd0>]"
      ]
     },
     "execution_count": 244,
     "metadata": {},
     "output_type": "execute_result"
    },
    {
     "data": {
      "image/png": "[encoded data removed]",
      "text/plain": [
       "<Figure size 640x480 with 1 Axes>"
      ]
     },
     "metadata": {},
     "output_type": "display_data"
    }
   ],
   "source": [
    "plt.plot(full_expectations[0][1])"
   ]
  },
  {
   "cell_type": "code",
   "execution_count": 245,
   "id": "5f2b1802-5dca-4cd3-bdd0-067e38be34ea",
   "metadata": {},
   "outputs": [
    {
     "data": {
      "text/plain": [
       "[<matplotlib.lines.Line2D at 0x30bd7dc90>]"
      ]
     },
     "execution_count": 245,
     "metadata": {},
     "output_type": "execute_result"
    },
    {
     "data": {
      "image/png": "[encoded data removed]",
      "text/plain": [
       "<Figure size 640x480 with 1 Axes>"
      ]
     },
     "metadata": {},
     "output_type": "display_data"
    }
   ],
   "source": [
    "plt.plot(full_expectations[0][2])"
   ]
  },
  {
   "cell_type": "code",
   "execution_count": 246,
   "id": "cac1d183-6294-427f-93a1-364c54330770",
   "metadata": {},
   "outputs": [
    {
     "data": {
      "text/plain": [
       "[<matplotlib.lines.Line2D at 0x171338d90>]"
      ]
     },
     "execution_count": 246,
     "metadata": {},
     "output_type": "execute_result"
    },
    {
     "data": {
      "image/png": "[encoded data removed]",
      "text/plain": [
       "<Figure size 640x480 with 1 Axes>"
      ]
     },
     "metadata": {},
     "output_type": "display_data"
    }
   ],
   "source": [
    "plt.plot(full_expectations[1][0])"
   ]
  },
  {
   "cell_type": "code",
   "execution_count": 247,
   "id": "c9ee9e42-16ef-4dc3-ae91-5945f325a91e",
   "metadata": {},
   "outputs": [
    {
     "data": {
      "text/plain": [
       "[<matplotlib.lines.Line2D at 0x30be4fbd0>]"
      ]
     },
     "execution_count": 247,
     "metadata": {},
     "output_type": "execute_result"
    },
    {
     "data": {
      "image/png": "[encoded data removed]",
      "text/plain": [
       "<Figure size 640x480 with 1 Axes>"
      ]
     },
     "metadata": {},
     "output_type": "display_data"
    }
   ],
   "source": [
    "plt.plot(full_expectations[1][1])"
   ]
  },
  {
   "cell_type": "code",
   "execution_count": 248,
   "id": "4def498e-f13e-43e2-8042-5a8bfdefcb59",
   "metadata": {},
   "outputs": [
    {
     "data": {
      "text/plain": [
       "[<matplotlib.lines.Line2D at 0x30bec4850>]"
      ]
     },
     "execution_count": 248,
     "metadata": {},
     "output_type": "execute_result"
    },
    {
     "data": {
      "image/png": "[encoded data removed]",
      "text/plain": [
       "<Figure size 640x480 with 1 Axes>"
      ]
     },
     "metadata": {},
     "output_type": "display_data"
    }
   ],
   "source": [
    "plt.plot(full_expectations[1][2])"
   ]
  },
  {
   "cell_type": "code",
   "execution_count": 249,
   "id": "f7310d5f-a709-448f-9dd6-714b904fc26e",
   "metadata": {},
   "outputs": [
    {
     "data": {
      "text/plain": [
       "[<matplotlib.lines.Line2D at 0x30bf26bd0>]"
      ]
     },
     "execution_count": 249,
     "metadata": {},
     "output_type": "execute_result"
    },
    {
     "data": {
      "image/png": "[encoded data removed]",
      "text/plain": [
       "<Figure size 640x480 with 1 Axes>"
      ]
     },
     "metadata": {},
     "output_type": "display_data"
    }
   ],
   "source": [
    "plt.plot(full_expectations[6][2])"
   ]
  },
  {
   "cell_type": "code",
   "execution_count": 250,
   "id": "af24cd65-8f3e-4416-949c-7d047aa12dcd",
   "metadata": {},
   "outputs": [
    {
     "data": {
      "text/plain": [
       "[<matplotlib.lines.Line2D at 0x30bf8f210>]"
      ]
     },
     "execution_count": 250,
     "metadata": {},
     "output_type": "execute_result"
    },
    {
     "data": {
      "image/png": "[encoded data removed]",
      "text/plain": [
       "<Figure size 640x480 with 1 Axes>"
      ]
     },
     "metadata": {},
     "output_type": "display_data"
    }
   ],
   "source": [
    "plt.plot(full_expectations[8][0])"
   ]
  },
  {
   "cell_type": "code",
   "execution_count": 251,
   "id": "f952b472-88d9-4b91-a8dd-efeb9fff219d",
   "metadata": {},
   "outputs": [
    {
     "data": {
      "text/plain": [
       "[<matplotlib.lines.Line2D at 0x30bf7f690>]"
      ]
     },
     "execution_count": 251,
     "metadata": {},
     "output_type": "execute_result"
    },
    {
     "data": {
      "image/png": "[encoded data removed]",
      "text/plain": [
       "<Figure size 640x480 with 1 Axes>"
      ]
     },
     "metadata": {},
     "output_type": "display_data"
    }
   ],
   "source": [
    "plt.plot(full_expectations[9][0])"
   ]
  },
  {
   "cell_type": "code",
   "execution_count": 252,
   "id": "583d7a8a-aa4b-432f-90fa-7f4086809a08",
   "metadata": {},
   "outputs": [
    {
     "data": {
      "text/plain": [
       "[<matplotlib.lines.Line2D at 0x30c0535d0>]"
      ]
     },
     "execution_count": 252,
     "metadata": {},
     "output_type": "execute_result"
    },
    {
     "data": {
      "image/png": "[encoded data removed]",
      "text/plain": [
       "<Figure size 640x480 with 1 Axes>"
      ]
     },
     "metadata": {},
     "output_type": "display_data"
    }
   ],
   "source": [
    "plt.plot(full_expectations[11][0])"
   ]
  },
  {
   "cell_type": "code",
   "execution_count": 253,
   "id": "4b2328d8-8cc9-44db-9e01-e08129892242",
   "metadata": {},
   "outputs": [
    {
     "data": {
      "text/plain": [
       "[<matplotlib.lines.Line2D at 0x30c0cf210>]"
      ]
     },
     "execution_count": 253,
     "metadata": {},
     "output_type": "execute_result"
    },
    {
     "data": {
      "image/png": "[encoded data removed]",
      "text/plain": [
       "<Figure size 640x480 with 1 Axes>"
      ]
     },
     "metadata": {},
     "output_type": "display_data"
    }
   ],
   "source": [
    "plt.plot(full_expectations[20][0])"
   ]
  },
  {
   "cell_type": "markdown",
   "id": "43bac26a-77d7-48db-856e-f95a85e5ebe3",
   "metadata": {},
   "source": [
    "# Calculate SPT phase"
   ]
  },
  {
   "cell_type": "markdown",
   "id": "fe4bee11-637f-43c6-a188-ec27150bdc54",
   "metadata": {},
   "source": [
    "## Function definitions"
   ]
  },
  {
   "cell_type": "code",
   "execution_count": 332,
   "id": "479b7fcb-0c46-4fa6-95a9-3b07697b4ccd",
   "metadata": {},
   "outputs": [],
   "source": [
    "def get_num_legs(unitary):\n",
    "    ll = unitary.get_leg_labels()[0]\n",
    "\n",
    "    return len(ll[1:-1].split('.'))"
   ]
  },
  {
   "cell_type": "code",
   "execution_count": 333,
   "id": "b6652636-f5c7-4759-9733-15af398cad5d",
   "metadata": {},
   "outputs": [],
   "source": [
    "def group_by_lengths(l, lengths):\n",
    "    out = list()\n",
    "\n",
    "    current_index = 0\n",
    "\n",
    "    for n in lengths:\n",
    "        current_group = l[current_index:current_index+n]\n",
    "        out.append(current_group)\n",
    "\n",
    "        current_index += n\n",
    "\n",
    "    return out"
   ]
  },
  {
   "cell_type": "code",
   "execution_count": 334,
   "id": "b28a9a3b-63a5-4c14-ae90-f74ee7c8a8d7",
   "metadata": {},
   "outputs": [],
   "source": [
    "def multiply_unitaries_against_mps(unitaries, b_tensors, left_schmidt_values,\n",
    "                                  max_virtual_bond_dim=MAX_VIRTUAL_BOND_DIM):\n",
    "    site_group_lens = [get_num_legs(u) for u in unitaries]\n",
    "\n",
    "    grouped_bs = group_by_lengths(b_tensors, site_group_lens)\n",
    "    grouped_schmidt_values = group_by_lengths(\n",
    "        left_schmidt_values,\n",
    "        site_group_lens\n",
    "    )\n",
    "\n",
    "    combined_bs = combine_grouped_b_tensors(grouped_bs)\n",
    "\n",
    "    for i, u in enumerate(unitaries):\n",
    "        b = combined_bs[i]\n",
    "        ll = get_physical_leg_labels(b)[0]\n",
    "        llh = conjugate_leg_label(ll)\n",
    "    \n",
    "        new_b = npc.tensordot(b, u, [[ll,], [llh,]])\n",
    "    \n",
    "        combined_bs[i] = new_b\n",
    "\n",
    "    new_top_bs = list()\n",
    "    new_left_schmidt_values = left_schmidt_values.copy()\n",
    "\n",
    "    for b, s in zip (combined_bs, grouped_schmidt_values):\n",
    "        leg_label = get_physical_leg_labels(b)[0]\n",
    "        if is_single_physical_leg_label(leg_label):\n",
    "            new_top_bs.append(b)\n",
    "            new_left_schmidt_values.extend(s)\n",
    "        elif is_grouped_physical_leg_label(leg_label):\n",
    "            bs, schmidt_vals = split_combined_b(\n",
    "                b,\n",
    "                s[0],\n",
    "                max_virtual_bond_dim\n",
    "            )\n",
    "            new_top_bs.extend(bs)\n",
    "            new_left_schmidt_values.extend(s)\n",
    "\n",
    "    return new_top_bs, new_left_schmidt_values"
   ]
  },
  {
   "cell_type": "code",
   "execution_count": 335,
   "id": "54f9b50d-2d57-4de3-93f6-b401d67120f3",
   "metadata": {},
   "outputs": [],
   "source": [
    "def multiply_stacked_unitaries_against_mps(unitaries, b_tensors,\n",
    "    left_schmidt_values, max_virtual_bond_dim=MAX_VIRTUAL_BOND_DIM):\n",
    "    out_b_tensors = b_tensors.copy()\n",
    "    out_left_schmidt_values = left_schmidt_values.copy()\n",
    "\n",
    "    for l in unitaries:\n",
    "        out_b_tensors, out_left_schmidt_values = multiply_unitaries_against_mps(\n",
    "            l,\n",
    "            out_b_tensors,\n",
    "            out_left_schmidt_values,\n",
    "            max_virtual_bond_dim\n",
    "        )\n",
    "\n",
    "    return out_b_tensors, out_left_schmidt_values"
   ]
  },
  {
   "cell_type": "code",
   "execution_count": 336,
   "id": "e157a092-453c-413c-85c4-9eda06129263",
   "metadata": {},
   "outputs": [],
   "source": [
    "def mps_inner_product(\n",
    "        top_tensors, bottom_tensors, left_environment):\n",
    "\n",
    "    b_top = top_tensors[0]\n",
    "    b_bottom = bottom_tensors[0]\n",
    "\n",
    "    t = npc.tensordot(left_environment, b_bottom.conj(), (['vR*',], ['vL*',]))\n",
    "    t = npc.tensordot(t, b_top, (['vR', 'p*'], ['vL', 'p']))\n",
    "\n",
    "    for b_top, b_bottom in zip(top_tensors[1:], bottom_tensors[1:]):\n",
    "        t = npc.tensordot(t, b_bottom.conj(), (['vR*',], ['vL*',]))\n",
    "        t = npc.tensordot(t, b_top, (['vR', 'p*'], ['vL', 'p']))\n",
    "\n",
    "    e = npc.trace(t, 'vR', 'vR*')\n",
    "\n",
    "    return e"
   ]
  },
  {
   "cell_type": "code",
   "execution_count": 361,
   "id": "08ce0827-cbc3-4e55-8ac1-4eedc638e598",
   "metadata": {},
   "outputs": [],
   "source": [
    "def calculate_proj_rep_phase(state_g, left_schmidt_values_g, unitary_h,\n",
    "                             state_gh,\n",
    "                             left_environment,\n",
    "                             max_virtual_bond_dim=MAX_VIRTUAL_BOND_DIM):\n",
    "    prod_state, _ = multiply_stacked_unitaries_against_mps(\n",
    "        unitary_h,\n",
    "        state_g,\n",
    "        left_schmidt_values_g,\n",
    "        max_virtual_bond_dim\n",
    "    )\n",
    "\n",
    "    exp = mps_inner_product(prod_state, state_gh, left_environment)\n",
    "\n",
    "    return exp/(np.abs(exp))"
   ]
  },
  {
   "cell_type": "markdown",
   "id": "81e760a2-4c8d-43fe-9c78-7f76d21e5b81",
   "metadata": {},
   "source": [
    "## Group data definitions"
   ]
  },
  {
   "cell_type": "code",
   "execution_count": 338,
   "id": "23e62c10-6c32-4ee4-9cde-ac7f05c69d7f",
   "metadata": {},
   "outputs": [],
   "source": [
    "from itertools import combinations"
   ]
  },
  {
   "cell_type": "code",
   "execution_count": 339,
   "id": "10721838-5776-4da8-9618-01dd30494f13",
   "metadata": {},
   "outputs": [],
   "source": [
    "symmetry_labels = [\n",
    "    'II',\n",
    "    'IX',\n",
    "    'XI',\n",
    "    'XX'\n",
    "]"
   ]
  },
  {
   "cell_type": "code",
   "execution_count": 340,
   "id": "d1cd215b-c62c-405e-9adc-9a97db7142e2",
   "metadata": {},
   "outputs": [],
   "source": [
    "symmetry_combination_labels = list(combinations(symmetry_labels, 2))"
   ]
  },
  {
   "cell_type": "code",
   "execution_count": 341,
   "id": "45a081ff-eb82-4ff5-9700-55f11824f366",
   "metadata": {},
   "outputs": [
    {
     "data": {
      "text/plain": [
       "[('II', 'IX'),\n",
       " ('II', 'XI'),\n",
       " ('II', 'XX'),\n",
       " ('IX', 'XI'),\n",
       " ('IX', 'XX'),\n",
       " ('XI', 'XX')]"
      ]
     },
     "execution_count": 341,
     "metadata": {},
     "output_type": "execute_result"
    }
   ],
   "source": [
    "symmetry_combination_labels"
   ]
  },
  {
   "cell_type": "code",
   "execution_count": 342,
   "id": "aab20cf0-ae51-4603-9192-5ba0741b6a6d",
   "metadata": {},
   "outputs": [],
   "source": [
    "e, a, b, c = symmetry_labels"
   ]
  },
  {
   "cell_type": "code",
   "execution_count": 343,
   "id": "955bfb99-9c73-4794-b14e-f62f7872abe5",
   "metadata": {},
   "outputs": [],
   "source": [
    "group_products = [\n",
    "    (a, b, c),\n",
    "    (b, a, c),\n",
    "    (a, c, b),\n",
    "    (c, a, b),\n",
    "    (c, b, a),\n",
    "    (b, c, a)\n",
    "]"
   ]
  },
  {
   "cell_type": "markdown",
   "id": "765148f7-53f2-4fe0-934c-91d31ce781ad",
   "metadata": {},
   "source": [
    "## Get right phases"
   ]
  },
  {
   "cell_type": "code",
   "execution_count": 362,
   "id": "c70d9c69-1835-424f-8c10-cb95ae528bae",
   "metadata": {},
   "outputs": [],
   "source": [
    "def get_proj_rep_phases(mps_tensors, left_schmidt_values, unitaries,\n",
    "                        left_environment):\n",
    "    mps_dict = {\n",
    "        k: v for k, v in zip(symmetry_labels[1:], mps_tensors)\n",
    "    }\n",
    "\n",
    "    schmidt_vals_dict = {\n",
    "        k: v for k, v in zip(symmetry_labels[1:], left_schmidt_values)\n",
    "    }\n",
    "\n",
    "    unitaries_dict = {\n",
    "        k: v for k, v in zip(symmetry_labels[1:], unitaries)\n",
    "    }\n",
    "\n",
    "    out_phases = list()\n",
    "\n",
    "    for a, b, c in group_products:\n",
    "        phase = calculate_proj_rep_phase(\n",
    "            mps_dict[a],\n",
    "            schmidt_vals_dict[a],\n",
    "            unitaries_dict[b],\n",
    "            mps_dict[c],\n",
    "            left_environment,\n",
    "            max_virtual_bond_dim=MAX_VIRTUAL_BOND_DIM\n",
    "        )\n",
    "\n",
    "        out_phases.append(phase)\n",
    "\n",
    "    return out_phases"
   ]
  },
  {
   "cell_type": "code",
   "execution_count": 365,
   "id": "e367f938-f6e9-43e9-be5c-b0d4e3dd1e9c",
   "metadata": {},
   "outputs": [],
   "source": [
    "right_proj_rep_phases = list()\n",
    "\n",
    "iterable = zip(\n",
    "    right_mps_tensors,\n",
    "    right_side_left_schmidt_values,\n",
    "    right_unitaries,\n",
    "    cases\n",
    ")\n",
    "for mps, schmidt, unitaries, case_list in iterable:\n",
    "    phases = get_proj_rep_phases(\n",
    "        mps,\n",
    "        schmidt,\n",
    "        unitaries,\n",
    "        case_list[0].right_projected_symmetry_state\n",
    "    )\n",
    "\n",
    "    right_proj_rep_phases.append(phases)\n",
    "\n",
    "right_proj_rep_phases = np.array(right_proj_rep_phases)"
   ]
  },
  {
   "cell_type": "code",
   "execution_count": 366,
   "id": "a4775f32-e596-464f-b626-f5edff5e7322",
   "metadata": {},
   "outputs": [],
   "source": [
    "right_gauge_invariant_phases = (\n",
    "    right_proj_rep_phases[:,::2]/\n",
    "    right_proj_rep_phases[:,1::2]\n",
    ")"
   ]
  },
  {
   "cell_type": "code",
   "execution_count": 368,
   "id": "e4f634dc-ab07-4e74-b302-b599b7aebcf4",
   "metadata": {},
   "outputs": [
    {
     "data": {
      "text/plain": [
       "array([[-1.+0.j, -1.+0.j, -1.+0.j],\n",
       "       [-1.-0.j, -1.-0.j, -1.-0.j],\n",
       "       [-1.-0.j, -1.-0.j, -1.-0.j],\n",
       "       [-1.+0.j, -1.+0.j, -1.+0.j],\n",
       "       [-1.+0.j, -1.+0.j, -1.+0.j],\n",
       "       [-1.-0.j, -1.-0.j, -1.-0.j],\n",
       "       [-1.+0.j, -1.+0.j, -1.+0.j],\n",
       "       [-1.-0.j, -1.-0.j, -1.-0.j],\n",
       "       [-1.-0.j, -1.-0.j, -1.-0.j],\n",
       "       [-1.-0.j, -1.-0.j, -1.-0.j]])"
      ]
     },
     "execution_count": 368,
     "metadata": {},
     "output_type": "execute_result"
    }
   ],
   "source": [
    "right_gauge_invariant_phases[:10]"
   ]
  },
  {
   "cell_type": "code",
   "execution_count": 369,
   "id": "ccc2a493-f23b-4bbf-bfac-05540f69ad8a",
   "metadata": {},
   "outputs": [
    {
     "data": {
      "text/plain": [
       "array([[1.-0.j, 1.-0.j, 1.-0.j],\n",
       "       [1.-0.j, 1.-0.j, 1.-0.j],\n",
       "       [1.-0.j, 1.-0.j, 1.-0.j],\n",
       "       [1.-0.j, 1.-0.j, 1.-0.j],\n",
       "       [1.-0.j, 1.-0.j, 1.-0.j],\n",
       "       [1.-0.j, 1.-0.j, 1.-0.j],\n",
       "       [1.-0.j, 1.-0.j, 1.-0.j],\n",
       "       [1.-0.j, 1.-0.j, 1.-0.j],\n",
       "       [1.-0.j, 1.-0.j, 1.-0.j],\n",
       "       [1.-0.j, 1.-0.j, 1.-0.j]])"
      ]
     },
     "execution_count": 369,
     "metadata": {},
     "output_type": "execute_result"
    }
   ],
   "source": [
    "right_gauge_invariant_phases[11:]"
   ]
  },
  {
   "cell_type": "code",
   "execution_count": 370,
   "id": "7fb27179-7778-444b-ac13-a040a28b97f7",
   "metadata": {},
   "outputs": [],
   "source": [
    "left_proj_rep_phases = list()\n",
    "\n",
    "iterable = zip(\n",
    "    left_mps_tensors,\n",
    "    left_side_right_schmidt_values,\n",
    "    left_unitaries,\n",
    "    cases\n",
    ")\n",
    "for mps, schmidt, unitaries, case_list in iterable:\n",
    "    phases = get_proj_rep_phases(\n",
    "        mps,\n",
    "        schmidt,\n",
    "        unitaries,\n",
    "        swap_left_right_indices(case_list[0].left_projected_symmetry_state)\n",
    "    )\n",
    "\n",
    "    left_proj_rep_phases.append(phases)\n",
    "\n",
    "left_proj_rep_phases = np.array(left_proj_rep_phases)"
   ]
  },
  {
   "cell_type": "code",
   "execution_count": 371,
   "id": "b37d048c-0b72-4c49-917d-3e6879c31833",
   "metadata": {},
   "outputs": [],
   "source": [
    "left_gauge_invariant_phases = (\n",
    "    left_proj_rep_phases[:,::2]/\n",
    "    left_proj_rep_phases[:,1::2]\n",
    ")"
   ]
  },
  {
   "cell_type": "code",
   "execution_count": 372,
   "id": "f0faa0fc-002a-43fc-8284-f966e16c709c",
   "metadata": {},
   "outputs": [
    {
     "data": {
      "text/plain": [
       "array([[-1.+0.j, -1.+0.j, -1.+0.j],\n",
       "       [-1.-0.j, -1.-0.j, -1.-0.j],\n",
       "       [-1.-0.j, -1.-0.j, -1.-0.j],\n",
       "       [-1.+0.j, -1.+0.j, -1.+0.j],\n",
       "       [-1.+0.j, -1.+0.j, -1.+0.j],\n",
       "       [-1.-0.j, -1.-0.j, -1.-0.j],\n",
       "       [-1.+0.j, -1.+0.j, -1.+0.j],\n",
       "       [-1.-0.j, -1.-0.j, -1.-0.j],\n",
       "       [-1.-0.j, -1.-0.j, -1.-0.j],\n",
       "       [-1.-0.j, -1.-0.j, -1.-0.j]])"
      ]
     },
     "execution_count": 372,
     "metadata": {},
     "output_type": "execute_result"
    }
   ],
   "source": [
    "left_gauge_invariant_phases[:10]"
   ]
  },
  {
   "cell_type": "code",
   "execution_count": 373,
   "id": "003f5308-1aa8-4c10-8c88-7014cece6bbb",
   "metadata": {},
   "outputs": [
    {
     "data": {
      "text/plain": [
       "array([[1.-0.j, 1.-0.j, 1.-0.j],\n",
       "       [1.-0.j, 1.-0.j, 1.-0.j],\n",
       "       [1.-0.j, 1.-0.j, 1.-0.j],\n",
       "       [1.-0.j, 1.-0.j, 1.-0.j],\n",
       "       [1.-0.j, 1.-0.j, 1.-0.j],\n",
       "       [1.-0.j, 1.-0.j, 1.-0.j],\n",
       "       [1.-0.j, 1.-0.j, 1.-0.j],\n",
       "       [1.-0.j, 1.-0.j, 1.-0.j],\n",
       "       [1.-0.j, 1.-0.j, 1.-0.j],\n",
       "       [1.-0.j, 1.-0.j, 1.-0.j]])"
      ]
     },
     "execution_count": 373,
     "metadata": {},
     "output_type": "execute_result"
    }
   ],
   "source": [
    "left_gauge_invariant_phases[11:]"
   ]
  },
  {
   "cell_type": "markdown",
   "id": "fde2128c-da18-44e9-b922-e198f16301b6",
   "metadata": {},
   "source": [
    "# Conclusion\n",
    "Looks good!"
   ]
  },
  {
   "cell_type": "code",
   "execution_count": null,
   "id": "67800e96-f935-469c-ba74-57914fbdcbf6",
   "metadata": {},
   "outputs": [],
   "source": []
  }
 ],
 "metadata": {
  "kernelspec": {
   "display_name": "num_spt_venv_p11",
   "language": "python",
   "name": "num_spt_venv_p11"
  },
  "language_info": {
   "codemirror_mode": {
    "name": "ipython",
    "version": 3
   },
   "file_extension": ".py",
   "mimetype": "text/x-python",
   "name": "python",
   "nbconvert_exporter": "python",
   "pygments_lexer": "ipython3",
   "version": "3.11.11"
  }
 },
 "nbformat": 4,
 "nbformat_minor": 5
}
