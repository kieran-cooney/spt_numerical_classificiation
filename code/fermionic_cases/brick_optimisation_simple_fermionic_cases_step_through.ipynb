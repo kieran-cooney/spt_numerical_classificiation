{
 "cells": [
  {
   "cell_type": "markdown",
   "id": "5f2205a4-2c74-4cf5-9ad1-9d65bd13bed2",
   "metadata": {},
   "source": [
    "# Small svd optimization - debugging\n",
    "\n",
    "Created 19/02/2025\n",
    "\n",
    "Objectives:\n",
    "* Debug svd optimisation in previously found counterexamples."
   ]
  },
  {
   "cell_type": "markdown",
   "id": "9ad0db4d-805c-4403-9d48-c71d523d572f",
   "metadata": {},
   "source": [
    "# Package imports"
   ]
  },
  {
   "cell_type": "code",
   "execution_count": 1,
   "id": "ecb41ea3-927f-4efa-aebe-ce15784aa037",
   "metadata": {},
   "outputs": [],
   "source": [
    "import sys\n",
    "sys.path.append('../')"
   ]
  },
  {
   "cell_type": "code",
   "execution_count": 2,
   "id": "4a525ec6-f0c8-47ee-8b0b-345bf0ef8bd3",
   "metadata": {},
   "outputs": [],
   "source": [
    "import h5py\n",
    "from tenpy.tools import hdf5_io\n",
    "import tenpy\n",
    "import tenpy.linalg.np_conserved as npc\n",
    "\n",
    "import os"
   ]
  },
  {
   "cell_type": "code",
   "execution_count": 3,
   "id": "b22092ac-9191-4a2d-b568-8680c3687185",
   "metadata": {},
   "outputs": [],
   "source": [
    "from functools import reduce\n",
    "from operator import mul"
   ]
  },
  {
   "cell_type": "code",
   "execution_count": 4,
   "id": "214f688a-c657-4810-b4d1-b1247deff62c",
   "metadata": {},
   "outputs": [],
   "source": [
    "import numpy as np\n",
    "import matplotlib.pyplot as plt\n",
    "import pandas as pd"
   ]
  },
  {
   "cell_type": "code",
   "execution_count": 68,
   "id": "b8dec68d-a5b3-4383-ab44-567a9a5981b3",
   "metadata": {},
   "outputs": [],
   "source": [
    "from SPTOptimization.SymmetryActionWithBoundaryUnitaries import SymmetryActionWithBoundaryUnitaries\n",
    "\n",
    "from SPTOptimization.Optimizers.OneSiteSolver import OneSiteSolver\n",
    "\n",
    "from SPTOptimization.utils import (\n",
    "    to_npc_array,\n",
    "    get_right_identity_environment,\n",
    "    get_right_identity_environment_from_tp_tensor,\n",
    "    get_left_identity_environment_from_tp_tensor,\n",
    "    multiply_transfer_matrices\n",
    ")\n",
    "\n",
    "from SPTOptimization.Optimizers.utils import (\n",
    "    one_site_optimization_sweep_right\n",
    ")\n",
    "\n",
    "from SPTOptimization.gradients import (\n",
    "    expectation_gradient_from_environments_and_b_tensor\n",
    ")"
   ]
  },
  {
   "cell_type": "code",
   "execution_count": 6,
   "id": "b7461fe3-41a3-492f-b018-8e32e27a7300",
   "metadata": {},
   "outputs": [],
   "source": [
    "import re"
   ]
  },
  {
   "cell_type": "markdown",
   "id": "c69a8a47-e298-4c4c-97f7-a6157da4e15f",
   "metadata": {},
   "source": [
    "# Load data"
   ]
  },
  {
   "cell_type": "code",
   "execution_count": 7,
   "id": "210d7dcc-b7ae-4f06-8429-84177bec47d3",
   "metadata": {},
   "outputs": [],
   "source": [
    "DATA_DIR = r\"../data/simple_fermionic_cluster_200_site_dmrg/\""
   ]
  },
  {
   "cell_type": "code",
   "execution_count": 8,
   "id": "ae809e74-d444-4db4-88ff-7538f6110d08",
   "metadata": {},
   "outputs": [],
   "source": [
    "def parse_file_name(file_name):\n",
    "    non_trivial_proj_rep = bool(int(file_name[3]))\n",
    "\n",
    "    n1_01 = int(file_name[8])\n",
    "    n1_10 = int(file_name[9])\n",
    "\n",
    "    return (non_trivial_proj_rep, (n1_01, n1_10))"
   ]
  },
  {
   "cell_type": "code",
   "execution_count": 9,
   "id": "e09f07cf-8441-4c7e-90b8-dbc8c61311f2",
   "metadata": {},
   "outputs": [],
   "source": [
    "loaded_data = dict()\n",
    "\n",
    "for local_file_name in os.listdir(DATA_DIR):\n",
    "    f_name = r\"{}/{}\".format(DATA_DIR, local_file_name, ignore_unknown=False)\n",
    "    with h5py.File(f_name, 'r') as f:\n",
    "        data = hdf5_io.load_from_hdf5(f)\n",
    "\n",
    "        data_info = parse_file_name(local_file_name)\n",
    "        loaded_data[data_info]=data['wavefunction']"
   ]
  },
  {
   "cell_type": "code",
   "execution_count": 10,
   "id": "991ad694-d6ed-4b68-9d35-7a4afb4c225b",
   "metadata": {},
   "outputs": [
    {
     "data": {
      "text/plain": [
       "{(False, (1, 1)): <tenpy.networks.mps.MPS at 0x14ed92190>,\n",
       " (True, (1, 1)): <tenpy.networks.mps.MPS at 0x17637eb10>,\n",
       " (True, (0, 1)): <tenpy.networks.mps.MPS at 0x177614910>,\n",
       " (False, (0, 1)): <tenpy.networks.mps.MPS at 0x17764f8d0>,\n",
       " (False, (1, 0)): <tenpy.networks.mps.MPS at 0x1776d3b10>,\n",
       " (True, (1, 0)): <tenpy.networks.mps.MPS at 0x301158810>,\n",
       " (True, (0, 0)): <tenpy.networks.mps.MPS at 0x3011978d0>,\n",
       " (False, (0, 0)): <tenpy.networks.mps.MPS at 0x3011f7390>}"
      ]
     },
     "execution_count": 10,
     "metadata": {},
     "output_type": "execute_result"
    }
   ],
   "source": [
    "loaded_data"
   ]
  },
  {
   "cell_type": "code",
   "execution_count": 11,
   "id": "ec80aaf2-da09-4592-a809-a8314fd83e77",
   "metadata": {},
   "outputs": [
    {
     "data": {
      "text/plain": [
       "array([0.00000000e+00, 4.10310779e-55, 3.20108804e-32, 4.41166527e-30,\n",
       "       4.30652209e-31, 1.28028128e-32, 2.18979328e-32, 9.64766348e-32,\n",
       "       6.39204896e-31, 4.19476267e-32, 7.51835939e-33, 1.56998498e-32,\n",
       "       3.06132263e-29, 6.24832887e-32, 6.64529320e-32, 6.61192056e-33,\n",
       "       3.02331734e-32, 1.97077344e-32, 3.97848871e-32, 1.65936555e-32,\n",
       "       8.12962747e-32, 8.36180681e-32, 1.05455111e-32, 2.30695596e-32,\n",
       "       4.15719467e-32, 3.32855567e-32, 1.02762007e-32, 1.46697913e-32,\n",
       "       3.80115562e-31, 1.63756131e-32, 9.98608231e-33, 1.82981182e-32,\n",
       "       1.73380216e-33, 6.00451123e-32, 1.33036658e-32, 2.79091135e-31,\n",
       "       1.64291033e-32, 3.68006128e-33, 9.95622775e-32, 6.17421509e-32,\n",
       "       2.70280235e-32, 3.01371615e-31, 2.35183074e-32, 1.17896355e-32,\n",
       "       3.93686429e-31, 8.45721273e-32, 1.08863312e-32, 3.77353007e-31,\n",
       "       9.67562785e-33, 1.99656454e-33, 6.40393616e-33, 2.78084102e-32,\n",
       "       1.03150150e-31, 4.37579428e-33, 1.45445289e-32, 3.55938597e-32,\n",
       "       3.97823676e-33, 2.49558765e-32, 5.83674844e-32, 5.65240897e-33,\n",
       "       3.02788937e-32, 1.68137907e-32, 1.92338306e-31, 1.04057512e-32,\n",
       "       3.64920161e-33, 1.95435202e-32, 2.84942450e-32, 8.88276651e-33,\n",
       "       7.75273851e-33, 2.58573886e-32, 5.15046203e-33, 1.16772734e-32,\n",
       "       1.18483428e-33, 3.83447653e-32, 2.56470114e-32, 7.46833249e-33,\n",
       "       8.04890237e-33, 8.23867687e-32, 2.40292353e-31, 5.73993045e-32,\n",
       "       1.99991163e-32, 1.03053885e-31, 4.13348647e-31, 3.49682611e-32,\n",
       "       7.41249798e-31, 2.55014460e-32, 1.68727394e-31, 2.03563625e-32,\n",
       "       1.33614956e-32, 2.14221151e-32, 2.07421165e-31, 4.34597627e-32,\n",
       "       1.88742279e-32, 1.04165570e-32, 5.80629023e-32, 1.78903412e-32,\n",
       "       1.03849028e-32, 9.43016392e-31, 7.40551322e-30, 0.00000000e+00])"
      ]
     },
     "execution_count": 11,
     "metadata": {},
     "output_type": "execute_result"
    }
   ],
   "source": [
    "loaded_data[(True, (0,0))].expectation_value('N', sites=list(range(1, 201, 2)))"
   ]
  },
  {
   "cell_type": "code",
   "execution_count": 12,
   "id": "41d02fac-b668-444d-bde4-949dd6fe9e40",
   "metadata": {},
   "outputs": [
    {
     "data": {
      "text/plain": [
       "array([0.00000000e+00, 3.26915052e-29, 3.33293732e-29, 0.00000000e+00,\n",
       "       3.33293732e-29, 7.79030959e-29, 4.21824880e-29, 4.21824880e-29,\n",
       "       5.96576060e-30, 1.14662165e-29, 3.59424750e-29, 8.18720523e-29,\n",
       "       4.21824880e-29, 8.28796989e-29, 4.21824880e-29, 3.79670126e-29,\n",
       "       4.21824880e-29, 8.18720523e-29, 1.37190923e-28, 0.00000000e+00,\n",
       "       1.37190923e-28, 0.00000000e+00, 3.66111579e-29, 3.66111579e-29,\n",
       "       3.86541844e-29, 3.33293732e-29, 0.00000000e+00, 0.00000000e+00,\n",
       "       3.59424750e-29, 1.56000325e-28, 3.46235982e-29, 0.00000000e+00,\n",
       "       3.59424750e-29, 3.59424750e-29, 3.72860037e-29, 0.00000000e+00,\n",
       "       0.00000000e+00, 9.22258517e-29, 8.33234331e-30, 9.01057880e-29,\n",
       "       3.46235982e-29, 4.43734259e-29, 3.14342582e-29, 3.14342582e-29,\n",
       "       0.00000000e+00, 8.18720523e-29, 1.46709639e-29, 1.46709639e-29,\n",
       "       1.46709639e-29, 8.98561875e-30, 0.00000000e+00, 8.01495006e-30,\n",
       "       4.07526776e-29, 4.00470169e-29, 9.32150093e-30, 7.69262642e-29,\n",
       "       0.00000000e+00, 3.72860037e-29, 9.32150093e-30, 7.79030959e-29,\n",
       "       3.79670126e-29, 9.32150093e-30, 3.86541844e-29, 8.18720523e-29,\n",
       "       1.10933565e-29, 0.00000000e+00, 3.46235982e-29, 7.39865247e-30,\n",
       "       1.34229613e-29, 1.34229613e-29, 7.40327471e-29, 0.00000000e+00,\n",
       "       8.80103762e-29, 1.34602473e-28, 7.98752481e-29, 9.32150093e-30,\n",
       "       0.00000000e+00, 8.38935084e-29, 9.32150093e-30, 8.38935084e-29,\n",
       "       0.00000000e+00, 1.42488001e-29, 9.32150093e-30, 1.42488001e-29,\n",
       "       1.18452395e-29, 0.00000000e+00, 7.21345505e-29, 4.68694311e-30,\n",
       "       4.68694311e-30, 7.39865247e-30, 8.59396164e-29, 3.20598002e-29,\n",
       "       7.70371978e-30, 5.17998118e-30, 7.70371978e-30, 7.79030959e-29,\n",
       "       7.39865247e-30, 7.70371978e-30, 5.83094550e-28, 0.00000000e+00])"
      ]
     },
     "execution_count": 12,
     "metadata": {},
     "output_type": "execute_result"
    }
   ],
   "source": [
    "loaded_data[(False, (0,0))].expectation_value('N', sites=list(range(1, 201, 2)))"
   ]
  },
  {
   "cell_type": "markdown",
   "id": "b4c1e616-c034-404b-b59e-196d1eaac475",
   "metadata": {},
   "source": [
    "# Definitons"
   ]
  },
  {
   "cell_type": "code",
   "execution_count": 13,
   "id": "63506364-f535-4c0f-8c5f-8839c69f7b9d",
   "metadata": {},
   "outputs": [],
   "source": [
    "MAX_VIRTUAL_BOND_DIM = 8\n",
    "MAX_INTERMEDIATE_VIRTUAL_BOND_DIM = 2*MAX_VIRTUAL_BOND_DIM\n",
    "# MPO bond dim?\n",
    "MAX_MPO_BOND_DIM = 50\n",
    "\n",
    "SVD_CUTOFF = 1e-3"
   ]
  },
  {
   "cell_type": "markdown",
   "id": "1efd18d4-328d-43dd-996d-393f18eb02b2",
   "metadata": {},
   "source": [
    "Define bosonic symmetries. Label by the group element added."
   ]
  },
  {
   "cell_type": "code",
   "execution_count": 14,
   "id": "513d7288-c641-4071-a4a3-652787d1f98c",
   "metadata": {},
   "outputs": [],
   "source": [
    "np_00 = np.array([\n",
    "    [1, 0, 0, 0],\n",
    "    [0, 1, 0, 0],\n",
    "    [0, 0, 1, 0],\n",
    "    [0, 0, 0, 1]\n",
    "])\n",
    "\n",
    "np_01 = np.array([\n",
    "    [0, 1, 0, 0],\n",
    "    [1, 0, 0, 0],\n",
    "    [0, 0, 0, 1],\n",
    "    [0, 0, 1, 0]\n",
    "])\n",
    "\n",
    "np_10 = np.array([\n",
    "    [0, 0, 1, 0],\n",
    "    [0, 0, 0, 1],\n",
    "    [1, 0, 0, 0],\n",
    "    [0, 1, 0, 0]\n",
    "])\n",
    "\n",
    "np_11 = np.array([\n",
    "    [0, 0, 0, 1],\n",
    "    [0, 0, 1, 0],\n",
    "    [0, 1, 0, 0],\n",
    "    [1, 0, 0, 0]\n",
    "])"
   ]
  },
  {
   "cell_type": "code",
   "execution_count": 15,
   "id": "c83907c6-e86f-48af-a2a1-11b250f47e84",
   "metadata": {},
   "outputs": [],
   "source": [
    "bosonic_np_symmetries = [\n",
    "    np_00,\n",
    "    np_01,\n",
    "    np_10,\n",
    "    np_11\n",
    "]"
   ]
  },
  {
   "cell_type": "code",
   "execution_count": 16,
   "id": "2a78a62e-37eb-4baf-98ba-d6a94d599bec",
   "metadata": {},
   "outputs": [],
   "source": [
    "npc_00 = to_npc_array(np_00)\n",
    "npc_01 = to_npc_array(np_01)\n",
    "npc_10 = to_npc_array(np_10)\n",
    "npc_11 = to_npc_array(np_11)"
   ]
  },
  {
   "cell_type": "markdown",
   "id": "1ecddc96-798a-416b-b0b4-d9ea9e25cfca",
   "metadata": {},
   "source": [
    "Define \"fermionic symmetries\". Just identity and JW string."
   ]
  },
  {
   "cell_type": "code",
   "execution_count": 17,
   "id": "a1c64bf0-4b2e-4492-b242-3dae6eb527c3",
   "metadata": {},
   "outputs": [],
   "source": [
    "np_I = np.array([\n",
    "    [1, 0],\n",
    "    [0, 1]\n",
    "])\n",
    "\n",
    "np_JW = np.array([\n",
    "    [1, 0],\n",
    "    [0, -1]\n",
    "])"
   ]
  },
  {
   "cell_type": "code",
   "execution_count": 18,
   "id": "e595ca13-740a-41a3-a658-8831c8f54323",
   "metadata": {},
   "outputs": [],
   "source": [
    "fermionic_np_symmetries = [np_I, np_JW]"
   ]
  },
  {
   "cell_type": "code",
   "execution_count": 19,
   "id": "6e5b6ad0-2496-4072-afe9-c41fc62da40e",
   "metadata": {},
   "outputs": [],
   "source": [
    "fermionic_npc_symmetries = [\n",
    "    to_npc_array(X) for X in fermionic_np_symmetries\n",
    "]"
   ]
  },
  {
   "cell_type": "code",
   "execution_count": 20,
   "id": "b9e2f954-c591-4479-ba37-32862c25c660",
   "metadata": {},
   "outputs": [],
   "source": [
    "symmetry_actions = [\n",
    "    [[b, f] for b in bosonic_np_symmetries]\n",
    "    for f in fermionic_np_symmetries\n",
    "]"
   ]
  },
  {
   "cell_type": "code",
   "execution_count": 21,
   "id": "8c945b86-cec1-4b08-930f-1922b7e1bea6",
   "metadata": {},
   "outputs": [],
   "source": [
    "shifted_symmetry_actions = [\n",
    "    [[f, b] for b in bosonic_np_symmetries]\n",
    "    for f in fermionic_np_symmetries\n",
    "]"
   ]
  },
  {
   "cell_type": "code",
   "execution_count": 22,
   "id": "6bac53fa-b629-46fc-a145-f932a0af6f18",
   "metadata": {},
   "outputs": [],
   "source": [
    "left_trivial_leg_charge = tenpy.linalg.charges.LegCharge(\n",
    "    tenpy.linalg.charges.ChargeInfo([], []),\n",
    "    [0,1],\n",
    "    [[]],\n",
    "    qconj=1\n",
    ")"
   ]
  },
  {
   "cell_type": "code",
   "execution_count": 23,
   "id": "44f34cb7-0888-474b-9483-f4956951fc31",
   "metadata": {},
   "outputs": [],
   "source": [
    "right_trivial_leg_charge = tenpy.linalg.charges.LegCharge(\n",
    "    tenpy.linalg.charges.ChargeInfo([], []),\n",
    "    [0,1],\n",
    "    [[]],\n",
    "    qconj=-1\n",
    ")"
   ]
  },
  {
   "cell_type": "markdown",
   "id": "47d3b617-6cc9-4ad6-8263-0e95d105309f",
   "metadata": {},
   "source": [
    "# Test"
   ]
  },
  {
   "cell_type": "markdown",
   "id": "0acc96a2-1d82-486e-89d7-2610b4e92c65",
   "metadata": {},
   "source": [
    "## Quick rdm check"
   ]
  },
  {
   "cell_type": "code",
   "execution_count": 26,
   "id": "05f69877-aa5b-4357-b9b4-bf0a979b48c4",
   "metadata": {},
   "outputs": [],
   "source": [
    "test_psi = loaded_data[(True, (0, 0))]\n",
    "test_symmetries = (npc_01, fermionic_npc_symmetries[0])"
   ]
  },
  {
   "cell_type": "code",
   "execution_count": 27,
   "id": "18a8c4ae-d046-4f92-a497-aded129c83db",
   "metadata": {},
   "outputs": [
    {
     "data": {
      "text/plain": [
       "200"
      ]
     },
     "execution_count": 27,
     "metadata": {},
     "output_type": "execute_result"
    }
   ],
   "source": [
    "test_psi.L"
   ]
  },
  {
   "cell_type": "code",
   "execution_count": 33,
   "id": "47a0034f-5a69-4e4c-873a-3a73a5768933",
   "metadata": {},
   "outputs": [],
   "source": [
    "left_symmetry_index = 50\n",
    "len_symmetry_block = 100\n",
    "right_symmetry_index = (\n",
    "    left_symmetry_index\n",
    "    + len_symmetry_block\n",
    ")"
   ]
  },
  {
   "cell_type": "code",
   "execution_count": 31,
   "id": "957c45a6-bba4-4c37-99a9-04ff91425d89",
   "metadata": {},
   "outputs": [
    {
     "data": {
      "text/plain": [
       "ClockSite(q=4, conserve=None)"
      ]
     },
     "execution_count": 31,
     "metadata": {},
     "output_type": "execute_result"
    }
   ],
   "source": [
    "test_psi.sites[left_symmetry_index]"
   ]
  },
  {
   "cell_type": "code",
   "execution_count": 35,
   "id": "6f14f216-a323-4307-976d-97dc8abe575d",
   "metadata": {},
   "outputs": [],
   "source": [
    "b = test_psi.get_B(left_symmetry_index, form='Th')\n",
    "s =test_symmetries[0]\n",
    "t = npc.tensordot(b, s, [['p',], ['p*',]])\n",
    "t = npc.tensordot(t, b.conj(), [['p',], ['p*',]])\n",
    "\n",
    "for i in range(left_symmetry_index + 1, right_symmetry_index + 1):\n",
    "    b = test_psi.get_B(i)\n",
    "    s = test_symmetries[i%2]\n",
    "\n",
    "    t = npc.tensordot(t, b, [['vR',], ['vL',]])\n",
    "    t = npc.tensordot(t, s, [['p',], ['p*',]])\n",
    "    t = npc.tensordot(t, b.conj(), [['vR*', 'p'], ['vL*', 'p*']])\n",
    "\n",
    "transfer_matrix = t"
   ]
  },
  {
   "cell_type": "code",
   "execution_count": 36,
   "id": "834e9209-da1e-47d9-9cbd-83080dacb280",
   "metadata": {},
   "outputs": [
    {
     "data": {
      "text/plain": [
       "<npc.Array shape=(4, 4, 4, 4) labels=['vL', 'vL*', 'vR', 'vR*']>"
      ]
     },
     "execution_count": 36,
     "metadata": {},
     "output_type": "execute_result"
    }
   ],
   "source": [
    "transfer_matrix"
   ]
  },
  {
   "cell_type": "code",
   "execution_count": 38,
   "id": "97c7f74e-b82e-446e-ae24-440177ea349e",
   "metadata": {},
   "outputs": [],
   "source": [
    "grouped_transfer_matrix = (\n",
    "    transfer_matrix\n",
    "    .combine_legs([['vR', 'vR*'], ['vL', 'vL*']])\n",
    ")"
   ]
  },
  {
   "cell_type": "code",
   "execution_count": 40,
   "id": "a54e887e-c94b-4f32-909d-9bab054f0e33",
   "metadata": {},
   "outputs": [],
   "source": [
    "U, S, V = npc.svd(grouped_transfer_matrix)"
   ]
  },
  {
   "cell_type": "code",
   "execution_count": 41,
   "id": "7e171724-68aa-46c5-b825-b75526b20fec",
   "metadata": {},
   "outputs": [
    {
     "data": {
      "text/plain": [
       "array([2.50000000e-01, 1.98794041e-17, 1.65424047e-17, 1.21590815e-17,\n",
       "       8.27957297e-18, 7.40972187e-18, 6.61087616e-18, 4.73116059e-18,\n",
       "       4.20559138e-18, 3.44242194e-18, 2.19871759e-18, 1.32796468e-18,\n",
       "       1.00075067e-18, 9.19384868e-19, 3.65421991e-19, 1.09514106e-19])"
      ]
     },
     "execution_count": 41,
     "metadata": {},
     "output_type": "execute_result"
    }
   ],
   "source": [
    "S"
   ]
  },
  {
   "cell_type": "code",
   "execution_count": 46,
   "id": "fe2c290e-9a2f-4498-a0b7-b571e6528a7a",
   "metadata": {},
   "outputs": [],
   "source": [
    "left_side_symmetry_env = U[:, 0].split_legs()\n",
    "right_side_symmetry_env = V[0].split_legs()"
   ]
  },
  {
   "cell_type": "code",
   "execution_count": 47,
   "id": "4901c1a5-d0f2-467d-b429-00ea5fb5a5ba",
   "metadata": {},
   "outputs": [
    {
     "data": {
      "text/plain": [
       "<npc.Array shape=(4, 4) labels=['vL', 'vL*']>"
      ]
     },
     "execution_count": 47,
     "metadata": {},
     "output_type": "execute_result"
    }
   ],
   "source": [
    "left_side_symmetry_env"
   ]
  },
  {
   "cell_type": "code",
   "execution_count": 48,
   "id": "5762223d-b510-4473-9b9d-b2d9ac56631f",
   "metadata": {},
   "outputs": [
    {
     "data": {
      "text/plain": [
       "<npc.Array shape=(4, 4) labels=['vR', 'vR*']>"
      ]
     },
     "execution_count": 48,
     "metadata": {},
     "output_type": "execute_result"
    }
   ],
   "source": [
    "right_side_symmetry_env"
   ]
  },
  {
   "cell_type": "markdown",
   "id": "0878f1e3-3d40-4afb-a2ab-98a288a4aa78",
   "metadata": {},
   "source": [
    "Construct right gradient."
   ]
  },
  {
   "cell_type": "code",
   "execution_count": 54,
   "id": "a889aade-6773-49aa-b249-d5ddc5003573",
   "metadata": {},
   "outputs": [],
   "source": [
    "t = right_side_symmetry_env\n",
    "\n",
    "for i in range(4):\n",
    "    site_index = right_symmetry_index + 1 + i\n",
    "    b = (\n",
    "        test_psi\n",
    "        .get_B(site_index)\n",
    "        .replace_label('p', f'p{i}')\n",
    "    )\n",
    "\n",
    "    t = npc.tensordot(t, b, [['vR',], ['vL']])\n",
    "    t = npc.tensordot(t, b.conj(), [['vR*',], ['vL*']])\n",
    "\n",
    "right_env = get_right_identity_environment_from_tp_tensor(b)\n",
    "\n",
    "right_rdm = npc.tensordot(t, right_env, [['vR', 'vR*'], ['vL', 'vL*']])"
   ]
  },
  {
   "cell_type": "code",
   "execution_count": 56,
   "id": "f058973e-3fe3-4aaa-9092-dea465df9ef3",
   "metadata": {},
   "outputs": [
    {
     "data": {
      "text/plain": [
       "<npc.Array shape=(2, 2, 4, 4, 2, 2, 4, 4) labels=['p0', 'p0*', 'p1', 'p1*', 'p2', 'p2*', 'p3', 'p3*']>"
      ]
     },
     "execution_count": 56,
     "metadata": {},
     "output_type": "execute_result"
    }
   ],
   "source": [
    "right_rdm"
   ]
  },
  {
   "cell_type": "code",
   "execution_count": 58,
   "id": "3d67894b-9c5e-4701-87b2-e1e809d699f3",
   "metadata": {},
   "outputs": [],
   "source": [
    "grouped_right_rdm = right_rdm.combine_legs([\n",
    "    ['p0', 'p1', 'p2', 'p3'],\n",
    "    ['p0*', 'p1*', 'p2*', 'p3*']\n",
    "])\n",
    "\n",
    "_, S, _ = npc.svd(grouped_right_rdm)"
   ]
  },
  {
   "cell_type": "code",
   "execution_count": 60,
   "id": "12387aae-ab60-4fa0-8b4f-2749e82053b6",
   "metadata": {},
   "outputs": [
    {
     "data": {
      "text/plain": [
       "1.9999999999999993"
      ]
     },
     "execution_count": 60,
     "metadata": {},
     "output_type": "execute_result"
    }
   ],
   "source": [
    "np.sum(S)"
   ]
  },
  {
   "cell_type": "markdown",
   "id": "c6271a38-df25-4df9-b01d-dfbc9d6031e5",
   "metadata": {},
   "source": [
    "What we expect!"
   ]
  },
  {
   "cell_type": "markdown",
   "id": "431d6020-1c02-4352-8346-897388a98f79",
   "metadata": {},
   "source": [
    "## Step through optimisation function, looking out for environments"
   ]
  },
  {
   "cell_type": "code",
   "execution_count": 62,
   "id": "c29fb565-bb60-4b32-a547-d8c90e38ec6b",
   "metadata": {},
   "outputs": [
    {
     "name": "stdout",
     "output_type": "stream",
     "text": [
      "The history saving thread hit an unexpected error (OperationalError('attempt to write a readonly database')).History will not be written to the database.\n"
     ]
    }
   ],
   "source": [
    "right_bs = [\n",
    "    test_psi.get_B(i) for i in range(right_symmetry_index+1, right_symmetry_index+5)\n",
    "]"
   ]
  },
  {
   "cell_type": "code",
   "execution_count": 64,
   "id": "fd1f3664-feea-4910-8260-ff4525f3d830",
   "metadata": {},
   "outputs": [
    {
     "data": {
      "text/plain": [
       "4"
      ]
     },
     "execution_count": 64,
     "metadata": {},
     "output_type": "execute_result"
    }
   ],
   "source": [
    "len(right_bs)"
   ]
  },
  {
   "cell_type": "code",
   "execution_count": 62,
   "id": "bc3cfc82-afd9-4cc6-8f52-a13b6bab61fe",
   "metadata": {},
   "outputs": [
    {
     "name": "stdout",
     "output_type": "stream",
     "text": [
      "The history saving thread hit an unexpected error (OperationalError('attempt to write a readonly database')).History will not be written to the database.\n"
     ]
    }
   ],
   "source": [
    "left_bs = [\n",
    "    test_psi.get_B(i, form='A') for i in range(right_symmetry_index+1, right_symmetry_index+5)\n",
    "]"
   ]
  },
  {
   "cell_type": "code",
   "execution_count": 65,
   "id": "6c4d9e60-a616-41cf-89c3-b0e02fb2733b",
   "metadata": {},
   "outputs": [],
   "source": [
    "left_bs = [\n",
    "    test_psi.get_B(i, form='A') for i in range(left_symmetry_index-4, left_symmetry_index)\n",
    "]"
   ]
  },
  {
   "cell_type": "code",
   "execution_count": 66,
   "id": "d2b5c24a-859e-43c3-895b-751e513458f8",
   "metadata": {},
   "outputs": [
    {
     "data": {
      "text/plain": [
       "4"
      ]
     },
     "execution_count": 66,
     "metadata": {},
     "output_type": "execute_result"
    }
   ],
   "source": [
    "len(left_bs)"
   ]
  },
  {
   "cell_type": "code",
   "execution_count": 67,
   "id": "0d940d3e-141f-4a7a-8b76-fb95fbf57b61",
   "metadata": {},
   "outputs": [
    {
     "data": {
      "text/plain": [
       "<npc.Array shape=(4, 4, 4, 4) labels=['vL', 'vL*', 'vR', 'vR*']>"
      ]
     },
     "execution_count": 67,
     "metadata": {},
     "output_type": "execute_result"
    }
   ],
   "source": [
    "transfer_matrix"
   ]
  },
  {
   "cell_type": "code",
   "execution_count": 76,
   "id": "be85821d-c470-4f64-9546-f9383f4e862e",
   "metadata": {},
   "outputs": [],
   "source": [
    "left_identity_environment = get_left_identity_environment_from_tp_tensor(left_bs[0])\n",
    "\n",
    "t = left_identity_environment\n",
    "\n",
    "for i, b in enumerate(left_bs):\n",
    "    w = b.copy().replace_label('p', f'p{i}')\n",
    "    t = npc.tensordot(t, w, [['vR',], ['vL',]])\n",
    "    t = npc.tensordot(t, w.conj(), [['vR*',], ['vL*',]])\n",
    "\n",
    "t = t.combine_legs([\n",
    "    ['p0', 'p1', 'p2', 'p3'],\n",
    "    ['p0*', 'p1*', 'p2*', 'p3*']\n",
    "])\n",
    "\n",
    "t = t.replace_labels(\n",
    "    ['(p0.p1.p2.p3)', '(p0*.p1*.p2*.p3*)'],\n",
    "    ['p', 'p*']\n",
    ")\n",
    "\n",
    "left_partial_rdm = t"
   ]
  },
  {
   "cell_type": "code",
   "execution_count": 77,
   "id": "f5d8e054-5b8f-4f9a-94a8-5cab0a513172",
   "metadata": {},
   "outputs": [
    {
     "data": {
      "text/plain": [
       "<npc.Array shape=(64, 64, 4, 4) labels=['p', 'p*', 'vR', 'vR*']>"
      ]
     },
     "execution_count": 77,
     "metadata": {},
     "output_type": "execute_result"
    }
   ],
   "source": [
    "left_partial_rdm"
   ]
  },
  {
   "cell_type": "code",
   "execution_count": 79,
   "id": "882ea144-b538-49f7-8870-0309a731f4ac",
   "metadata": {},
   "outputs": [],
   "source": [
    "right_identity_environment = get_right_identity_environment_from_tp_tensor(right_bs[-1])\n",
    "\n",
    "t = right_identity_environment\n",
    "\n",
    "for i, b in enumerate(right_bs[::-1]):\n",
    "    w = b.copy().replace_label('p', f'p{i}')\n",
    "    t = npc.tensordot(t, w, [['vL',], ['vR',]])\n",
    "    t = npc.tensordot(t, w.conj(), [['vL*',], ['vR*',]])\n",
    "\n",
    "t = t.combine_legs([\n",
    "    ['p0', 'p1', 'p2', 'p3'],\n",
    "    ['p0*', 'p1*', 'p2*', 'p3*']\n",
    "])\n",
    "\n",
    "t = t.replace_labels(\n",
    "    ['(p0.p1.p2.p3)', '(p0*.p1*.p2*.p3*)'],\n",
    "    ['p', 'p*']\n",
    ")\n",
    "\n",
    "right_partial_rdm = t"
   ]
  },
  {
   "cell_type": "code",
   "execution_count": 80,
   "id": "14879ac0-dcba-4845-bacf-20c021c214db",
   "metadata": {},
   "outputs": [
    {
     "data": {
      "text/plain": [
       "<npc.Array shape=(64, 64, 4, 4) labels=['p', 'p*', 'vL', 'vL*']>"
      ]
     },
     "execution_count": 80,
     "metadata": {},
     "output_type": "execute_result"
    }
   ],
   "source": [
    "right_partial_rdm"
   ]
  },
  {
   "cell_type": "code",
   "execution_count": 81,
   "id": "750a9f94-6c7d-4ec2-94ea-151a6334a0be",
   "metadata": {},
   "outputs": [],
   "source": [
    "np_identity = np.identity(64, dtype=np.complex128)"
   ]
  },
  {
   "cell_type": "code",
   "execution_count": 82,
   "id": "93e89628-ab4d-4f07-b10a-a7b9c6c62531",
   "metadata": {},
   "outputs": [],
   "source": [
    "left_u = to_npc_array(np_identity)\n",
    "right_u = to_npc_array(np_identity)"
   ]
  },
  {
   "cell_type": "code",
   "execution_count": 83,
   "id": "9cd35119-9ae7-4029-a05e-1527a1ae78d6",
   "metadata": {},
   "outputs": [],
   "source": [
    "t = left_partial_rdm\n",
    "\n",
    "t = npc.tensordot(t, left_u, [['p', 'p*'], ['p*', 'p']])\n",
    "t = npc.tensordot(t, transfer_matrix, [['vR', 'vR*'], ['vL', 'vL*']])\n",
    "t = npc.tensordot(t, right_partial_rdm, [['vR', 'vR*'], ['vL', 'vL*']])\n",
    "\n",
    "right_rdm = t"
   ]
  },
  {
   "cell_type": "code",
   "execution_count": 84,
   "id": "c31712b5-c77f-4b6b-b50a-e01b00aca8a3",
   "metadata": {},
   "outputs": [
    {
     "data": {
      "text/plain": [
       "<npc.Array shape=(64, 64) labels=['p', 'p*']>"
      ]
     },
     "execution_count": 84,
     "metadata": {},
     "output_type": "execute_result"
    }
   ],
   "source": [
    "t"
   ]
  },
  {
   "cell_type": "code",
   "execution_count": 92,
   "id": "d30fbbd7-b1ba-4463-be9c-293b2081878a",
   "metadata": {},
   "outputs": [],
   "source": [
    "_, S, _ = npc.svd(right_rdm)"
   ]
  },
  {
   "cell_type": "code",
   "execution_count": 93,
   "id": "bd94390e-bb55-4121-a445-877291bfad70",
   "metadata": {},
   "outputs": [
    {
     "data": {
      "text/plain": [
       "3.2738944750195058e-15"
      ]
     },
     "execution_count": 93,
     "metadata": {},
     "output_type": "execute_result"
    }
   ],
   "source": [
    "np.sum(S)"
   ]
  },
  {
   "cell_type": "code",
   "execution_count": 89,
   "id": "224b4a47-652e-4ab2-8bdb-61e0d33214e1",
   "metadata": {},
   "outputs": [],
   "source": [
    "t = right_partial_rdm\n",
    "\n",
    "t = npc.tensordot(t, right_u, [['p', 'p*'], ['p*', 'p']])\n",
    "t = npc.tensordot(t, transfer_matrix, [['vL', 'vL*'], ['vR', 'vR*']])\n",
    "t = npc.tensordot(t, left_partial_rdm, [['vL', 'vL*'], ['vR', 'vR*']])\n",
    "\n",
    "left_rdm = t"
   ]
  },
  {
   "cell_type": "code",
   "execution_count": 90,
   "id": "fb3380f6-6c84-44a0-a6f9-00f8423d6ae1",
   "metadata": {},
   "outputs": [],
   "source": [
    "_, S, _ = npc.svd(left_rdm)"
   ]
  },
  {
   "cell_type": "code",
   "execution_count": 91,
   "id": "b8acab45-22e6-45c7-9d84-7d28c1dfc889",
   "metadata": {},
   "outputs": [
    {
     "data": {
      "text/plain": [
       "1.2655020850241507e-14"
      ]
     },
     "execution_count": 91,
     "metadata": {},
     "output_type": "execute_result"
    }
   ],
   "source": [
    "np.sum(S)"
   ]
  },
  {
   "cell_type": "code",
   "execution_count": 110,
   "id": "c140e1f0-1729-4ca3-8651-63a81ad59eee",
   "metadata": {},
   "outputs": [],
   "source": [
    "U, S, V = npc.svd(left_rdm, inner_labels = ['p*', 'p'])"
   ]
  },
  {
   "cell_type": "code",
   "execution_count": 111,
   "id": "767a136d-2efc-4c8c-b799-929e6d665c0f",
   "metadata": {},
   "outputs": [
    {
     "data": {
      "text/plain": [
       "<npc.Array shape=(64, 64) labels=['p', 'p*']>"
      ]
     },
     "execution_count": 111,
     "metadata": {},
     "output_type": "execute_result"
    }
   ],
   "source": [
    "U"
   ]
  },
  {
   "cell_type": "code",
   "execution_count": 112,
   "id": "49850895-7426-4d6f-a1f8-e7c07005e786",
   "metadata": {},
   "outputs": [
    {
     "data": {
      "text/plain": [
       "<npc.Array shape=(64, 64) labels=['p', 'p*']>"
      ]
     },
     "execution_count": 112,
     "metadata": {},
     "output_type": "execute_result"
    }
   ],
   "source": [
    "V"
   ]
  },
  {
   "cell_type": "code",
   "execution_count": 113,
   "id": "c8fa38f3-ba72-4239-9a69-5a1a4ee4d825",
   "metadata": {},
   "outputs": [],
   "source": [
    "new_left_u = npc.tensordot(U, V, [['p*',], ['p',]])\n",
    "new_left_u = new_left_u.conj()"
   ]
  },
  {
   "cell_type": "code",
   "execution_count": 114,
   "id": "6e47c01c-5bec-4c8e-8bec-8c466a8ce24a",
   "metadata": {},
   "outputs": [
    {
     "data": {
      "text/plain": [
       "<npc.Array shape=(64, 64) labels=['p*', 'p']>"
      ]
     },
     "execution_count": 114,
     "metadata": {},
     "output_type": "execute_result"
    }
   ],
   "source": [
    "new_left_u"
   ]
  },
  {
   "cell_type": "code",
   "execution_count": 115,
   "id": "759cbbf6-f17a-4845-b891-96c7472d80cd",
   "metadata": {},
   "outputs": [
    {
     "data": {
      "text/plain": [
       "(1.2655020850241507e-14+0j)"
      ]
     },
     "execution_count": 115,
     "metadata": {},
     "output_type": "execute_result"
    }
   ],
   "source": [
    "npc.tensordot(left_rdm, new_left_u, [['p', 'p*'], ['p*', 'p']])"
   ]
  },
  {
   "cell_type": "markdown",
   "id": "9515db0c-7690-47c2-a602-214c0eb3f341",
   "metadata": {},
   "source": [
    "Close enough. Now back to the left side."
   ]
  },
  {
   "cell_type": "code",
   "execution_count": 116,
   "id": "783ae168-873a-44e1-aca2-167604e29a99",
   "metadata": {},
   "outputs": [],
   "source": [
    "t = left_partial_rdm\n",
    "\n",
    "t = npc.tensordot(t, new_left_u, [['p', 'p*'], ['p*', 'p']])\n",
    "t = npc.tensordot(t, transfer_matrix, [['vR', 'vR*'], ['vL', 'vL*']])\n",
    "t = npc.tensordot(t, right_partial_rdm, [['vR', 'vR*'], ['vL', 'vL*']])\n",
    "\n",
    "right_rdm = t"
   ]
  },
  {
   "cell_type": "code",
   "execution_count": 117,
   "id": "7eb8003c-0d9b-43af-bc3c-a9ab1c71e75a",
   "metadata": {},
   "outputs": [],
   "source": [
    "_, S, _ = npc.svd(right_rdm)"
   ]
  },
  {
   "cell_type": "code",
   "execution_count": 118,
   "id": "3825e6b1-1774-4b3f-8279-a30045181919",
   "metadata": {},
   "outputs": [
    {
     "data": {
      "text/plain": [
       "0.9999976469864238"
      ]
     },
     "execution_count": 118,
     "metadata": {},
     "output_type": "execute_result"
    }
   ],
   "source": [
    "np.sum(S)"
   ]
  },
  {
   "cell_type": "code",
   "execution_count": 119,
   "id": "266cf1f4-f9e8-4990-92e9-803d202517bb",
   "metadata": {},
   "outputs": [],
   "source": [
    "U, S, V = npc.svd(right_rdm, inner_labels = ['p*', 'p'])"
   ]
  },
  {
   "cell_type": "code",
   "execution_count": 120,
   "id": "6ec71f7f-476b-4c9f-a45d-72dd7f9cc9cc",
   "metadata": {},
   "outputs": [
    {
     "data": {
      "text/plain": [
       "<npc.Array shape=(64, 64) labels=['p', 'p*']>"
      ]
     },
     "execution_count": 120,
     "metadata": {},
     "output_type": "execute_result"
    }
   ],
   "source": [
    "U"
   ]
  },
  {
   "cell_type": "code",
   "execution_count": 121,
   "id": "ca1c9345-9479-41da-a309-a7baa02e4625",
   "metadata": {},
   "outputs": [
    {
     "data": {
      "text/plain": [
       "<npc.Array shape=(64, 64) labels=['p', 'p*']>"
      ]
     },
     "execution_count": 121,
     "metadata": {},
     "output_type": "execute_result"
    }
   ],
   "source": [
    "V"
   ]
  },
  {
   "cell_type": "code",
   "execution_count": 122,
   "id": "76f84739-d6dc-4e39-95b5-2863645d4c97",
   "metadata": {},
   "outputs": [],
   "source": [
    "new_right_u = npc.tensordot(U, V, [['p*',], ['p',]])\n",
    "new_right_u = new_right_u.conj()"
   ]
  },
  {
   "cell_type": "code",
   "execution_count": 123,
   "id": "5ae0ea5a-20b1-428d-889b-b5f02de36d6c",
   "metadata": {},
   "outputs": [
    {
     "data": {
      "text/plain": [
       "<npc.Array shape=(64, 64) labels=['p*', 'p']>"
      ]
     },
     "execution_count": 123,
     "metadata": {},
     "output_type": "execute_result"
    }
   ],
   "source": [
    "new_right_u"
   ]
  },
  {
   "cell_type": "markdown",
   "id": "38c05308-5c2c-4c60-8eb5-7446af7f85d7",
   "metadata": {},
   "source": [
    "## Functions"
   ]
  },
  {
   "cell_type": "markdown",
   "id": "fbf28b75-1454-41f0-a17d-dd1d8891cb81",
   "metadata": {},
   "source": [
    "### Leg and label functions"
   ]
  },
  {
   "cell_type": "code",
   "execution_count": 124,
   "id": "0cc65d77-76f3-4159-b2e6-e0ab8429c271",
   "metadata": {},
   "outputs": [],
   "source": [
    "P_LEG_LABEL_REGEX_STRING = r\"^p\\d*$\"\n",
    "p_leg_pattern = re.compile(P_LEG_LABEL_REGEX_STRING)\n",
    "\n",
    "def is_single_physical_leg_label(label):\n",
    "    return bool(p_leg_pattern.match(label))"
   ]
  },
  {
   "cell_type": "code",
   "execution_count": 125,
   "id": "af651898-f853-4710-bfa7-2928d6bb8d55",
   "metadata": {},
   "outputs": [],
   "source": [
    "def is_grouped_physical_leg_label(leg_label):\n",
    "    head, *body, tail = leg_label\n",
    "    if (head != '(') or (tail != ')'):\n",
    "        return False\n",
    "\n",
    "    body = ''.join(body)\n",
    "    legs = body.split('.')\n",
    "\n",
    "    return all(is_single_physical_leg_label(l) for l in legs)"
   ]
  },
  {
   "cell_type": "code",
   "execution_count": 126,
   "id": "1b14fc57-4f21-432e-b2b9-6dcafc179ef2",
   "metadata": {},
   "outputs": [],
   "source": [
    "def is_physical_leg_label(label):\n",
    "    out = (\n",
    "        is_single_physical_leg_label(label)\n",
    "        or is_grouped_physical_leg_label(label)\n",
    "    )\n",
    "\n",
    "    return out"
   ]
  },
  {
   "cell_type": "code",
   "execution_count": 127,
   "id": "949e51b3-8bd1-409f-bb98-0a57d1c99888",
   "metadata": {},
   "outputs": [],
   "source": [
    "def extract_single_physical_leg_label_from_tensor(b):\n",
    "    out = next(\n",
    "        l for l in b.get_leg_labels()\n",
    "        if is_single_physical_leg_label(l)\n",
    "    )\n",
    "\n",
    "    return out"
   ]
  },
  {
   "cell_type": "code",
   "execution_count": 128,
   "id": "1d03a2c8-1e74-4a87-abec-67ec6857100c",
   "metadata": {},
   "outputs": [],
   "source": [
    "def conjugate_single_physical_leg_label(label):\n",
    "    return label + '*'"
   ]
  },
  {
   "cell_type": "code",
   "execution_count": 129,
   "id": "16f3235f-6efc-4739-8dae-a42093c12370",
   "metadata": {},
   "outputs": [],
   "source": [
    "def conjugate_grouped_physical_leg_label(label):\n",
    "    _, *body, _ = label\n",
    "    single_labels = ''.join(body).split('.')\n",
    "\n",
    "    conjugate_labels = [\n",
    "        conjugate_single_physical_leg_label(l)\n",
    "        for l in single_labels\n",
    "    ]\n",
    "\n",
    "    conjugate_body = '.'.join(conjugate_labels)\n",
    "    out = '(' + conjugate_body + ')'\n",
    "    \n",
    "    return out"
   ]
  },
  {
   "cell_type": "code",
   "execution_count": 130,
   "id": "8dab4c14-1fb5-4933-b68c-204cc96541c4",
   "metadata": {},
   "outputs": [],
   "source": [
    "def conjugate_leg_label(label):\n",
    "    if is_single_physical_leg_label(label):\n",
    "        return conjugate_single_physical_leg_label(label)\n",
    "    elif is_grouped_physical_leg_label(label):\n",
    "        return conjugate_grouped_physical_leg_label(label)\n",
    "    else:\n",
    "        raise ValueError"
   ]
  },
  {
   "cell_type": "code",
   "execution_count": 131,
   "id": "8e00e4ef-bb2b-4229-8e92-5e07ec9931b4",
   "metadata": {},
   "outputs": [],
   "source": [
    "def get_physical_leg_labels(t):\n",
    "    out = [\n",
    "        ll for ll in t.get_leg_labels()\n",
    "        if is_physical_leg_label(ll)\n",
    "    ]\n",
    "\n",
    "    return out"
   ]
  },
  {
   "cell_type": "markdown",
   "id": "818c2f27-1431-42a7-ab63-9d81972ed7e2",
   "metadata": {},
   "source": [
    "### Other"
   ]
  },
  {
   "cell_type": "code",
   "execution_count": 132,
   "id": "d2464abb-fd7e-469a-a7d4-e604e24e14bc",
   "metadata": {},
   "outputs": [],
   "source": [
    "def contract_virtual_legs(tl, tr):\n",
    "    return npc.tensordot(tl, tr, ['vR', 'vL'])"
   ]
  },
  {
   "cell_type": "code",
   "execution_count": 133,
   "id": "ac3f7a01-08a2-4937-8308-f12f637f38b6",
   "metadata": {},
   "outputs": [],
   "source": [
    "def combine_tensors(tensors):\n",
    "    out = reduce(contract_virtual_legs, tensors)\n",
    "\n",
    "    leg_labels = [\n",
    "        extract_single_physical_leg_label_from_tensor(t)\n",
    "        for t in tensors\n",
    "    ]\n",
    "\n",
    "    out = out.combine_legs(leg_labels)\n",
    "\n",
    "    return out"
   ]
  },
  {
   "cell_type": "code",
   "execution_count": 134,
   "id": "6b01c411-0a2a-499d-b220-b99e197ecbd8",
   "metadata": {},
   "outputs": [],
   "source": [
    "def combine_b_tensors(b_tensors):\n",
    "    renamed_tensors = [\n",
    "        b.replace_label('p', f'p{i}')\n",
    "        for i, b in enumerate(b_tensors)\n",
    "    ]\n",
    "\n",
    "    return combine_tensors(renamed_tensors)"
   ]
  },
  {
   "cell_type": "code",
   "execution_count": 135,
   "id": "41848361-7394-4eb5-8006-8ab618c0a274",
   "metadata": {},
   "outputs": [],
   "source": [
    "def get_identity_operator(mps_tensor):\n",
    "    p_leg_label = get_physical_leg_labels(mps_tensor)[0]\n",
    "    p_leg = mps_tensor.get_leg(p_leg_label)\n",
    "    p_leg_label_conj = conjugate_leg_label(p_leg_label)\n",
    "\n",
    "    out = npc.diag(\n",
    "        1,\n",
    "        leg=p_leg,\n",
    "        dtype='complex',\n",
    "        labels=[p_leg_label, p_leg_label_conj]\n",
    "    )\n",
    "\n",
    "    return out"
   ]
  },
  {
   "cell_type": "code",
   "execution_count": 136,
   "id": "0b0386d2-79d0-45ab-98ce-ead4ca433c30",
   "metadata": {},
   "outputs": [],
   "source": [
    "def svd_reduce_split_tensor(t, max_inner_dim=MAX_VIRTUAL_BOND_DIM,\n",
    "                           normalise=True, svd_cutoff=SVD_CUTOFF):\n",
    "    U, S, VH = npc.svd(\n",
    "        t,\n",
    "        compute_uv=True,\n",
    "        inner_labels=['vR', 'vL'],\n",
    "        cutoff=svd_cutoff\n",
    "    )\n",
    "\n",
    "    # Truncate tensors:\n",
    "    U = U[:, :max_inner_dim]\n",
    "    S = S[:max_inner_dim]\n",
    "    VH = VH[:max_inner_dim, :]\n",
    "\n",
    "    if normalise:\n",
    "        new_norm = np.sqrt(np.sum(S**2))\n",
    "        S = S/new_norm\n",
    "\n",
    "    \"\"\"\n",
    "    leg = VH.get_leg('vL')\n",
    "\n",
    "    schmidt_values = npc.diag(S, leg, labels=['vL', 'vR'])\n",
    "    \"\"\"\n",
    "\n",
    "    return U, S, VH"
   ]
  },
  {
   "cell_type": "code",
   "execution_count": 137,
   "id": "d2523496-e338-46ef-a2e2-5a8e8dbcba5f",
   "metadata": {},
   "outputs": [],
   "source": [
    "def split_combined_b(b, leftmost_schmidt_values,\n",
    "                     max_virtual_bond_dim=MAX_INTERMEDIATE_VIRTUAL_BOND_DIM,\n",
    "                     p_leg_labels=None):\n",
    "    t = b.split_legs()\n",
    "\n",
    "    num_sites = t.ndim - 2\n",
    "\n",
    "    if p_leg_labels is None:\n",
    "        p_leg_labels = [f'p{i}' for i in range(num_sites)]\n",
    "\n",
    "    out_bs = list()\n",
    "    out_schmidt_values = list()\n",
    "\n",
    "    current_left_schmidt_values = leftmost_schmidt_values\n",
    "\n",
    "    for i, ll in enumerate(p_leg_labels[:-1]):\n",
    "        # In case the bond dimension has been truncated. May need to add in a\n",
    "        # case if have less schmidt values than the bond dim...\n",
    "        bond_dim = t.get_leg('vL').get_block_sizes()[0]\n",
    "        t.iscale_axis(current_left_schmidt_values[:bond_dim], axis='vL')\n",
    "\n",
    "        tail_legs = p_leg_labels[(i+1):]\n",
    "        \n",
    "        t = t.combine_legs([['vL', ll], ['vR', *tail_legs]])\n",
    "\n",
    "        U, S, VH = svd_reduce_split_tensor(\n",
    "            t,\n",
    "            max_inner_dim=max_virtual_bond_dim,\n",
    "            normalise=True\n",
    "        )\n",
    "\n",
    "        bl = (\n",
    "            U\n",
    "            .split_legs()\n",
    "            .replace_label(ll, 'p')\n",
    "        )\n",
    "        bl.iscale_axis(1/current_left_schmidt_values[:bond_dim], axis='vL')\n",
    "        bl.iscale_axis(S, axis='vR')\n",
    "        bl.itranspose(['vL', 'p', 'vR'])\n",
    "        out_bs.append(bl)\n",
    "\n",
    "        out_schmidt_values.append(S)\n",
    "        current_left_schmidt_values=S\n",
    "\n",
    "        t = VH.split_legs()\n",
    "\n",
    "    bl = t.replace_label(p_leg_labels[-1], 'p')\n",
    "    bl.itranspose(['vL', 'p', 'vR'])\n",
    "    out_bs.append(bl)\n",
    "\n",
    "    return out_bs, out_schmidt_values"
   ]
  },
  {
   "cell_type": "code",
   "execution_count": 138,
   "id": "a02ec1af-d2c1-4766-a688-01946f284490",
   "metadata": {},
   "outputs": [],
   "source": [
    "def split_b(b, max_virtual_bond_dim=MAX_INTERMEDIATE_VIRTUAL_BOND_DIM,\n",
    "                     p_leg_labels=None):\n",
    "    leg_label = get_physical_leg_labels(b)[0]\n",
    "\n",
    "    if is_single_physical_leg_label(leg_label):\n",
    "        return b\n",
    "    elif is_grouped_physical_leg_label(leg_label):\n",
    "        return split_combined_b(b, max_virtual_bond_dim, p_leg_labels)\n",
    "    else:\n",
    "        raise ValueError"
   ]
  },
  {
   "cell_type": "code",
   "execution_count": 139,
   "id": "5dddedee-f5a2-4dc8-90e1-7afac18a0307",
   "metadata": {},
   "outputs": [],
   "source": [
    "def split_combined_u(u, max_virtual_bond_dim=MAX_VIRTUAL_BOND_DIM,\n",
    "                     p_leg_labels=None):\n",
    "    t = u.split_legs()\n",
    "    num_sites = t.ndim //2\n",
    "    \n",
    "    if p_leg_labels is None:\n",
    "        p_leg_labels = [f'p{i}' for i in range(num_sites)]\n",
    "\n",
    "    p_leg_labels_hc = [l+'*' for l in p_leg_labels]\n",
    "    out_ws = list()\n",
    "\n",
    "    for i, (ll, ll_hc) in enumerate(zip(p_leg_labels[:-1], p_leg_labels_hc[:-1])):\n",
    "        tail_legs = p_leg_labels[(i+1):]\n",
    "        tail_legs_hc = p_leg_labels_hc[(i+1):]\n",
    "\n",
    "        left_leg_labels = [ll, ll_hc]\n",
    "        if 'vL' in t.get_leg_labels():\n",
    "            left_leg_labels.append('vL')\n",
    "    \n",
    "        t = t.combine_legs([left_leg_labels, [*tail_legs, *tail_legs_hc]])\n",
    "\n",
    "        U, S, VH = svd_reduce_split_tensor(\n",
    "            t,\n",
    "            max_inner_dim=max_virtual_bond_dim,\n",
    "            normalise=False\n",
    "        )\n",
    "\n",
    "        U.iscale_axis(S, axis='vR')\n",
    "\n",
    "        wl = U.split_legs().replace_labels([ll, ll_hc], ['p', 'p*'])\n",
    "        #wl.itranspose(['p', 'p*'])\n",
    "        out_ws.append(wl)\n",
    "\n",
    "        t = VH.split_legs()\n",
    "\n",
    "    wl = t.replace_labels(\n",
    "        [p_leg_labels[-1], p_leg_labels_hc[-1]],\n",
    "        ['p', 'p*']\n",
    "    )\n",
    "    #wl.itranspose(['p', 'p*'])\n",
    "    out_ws.append(wl)\n",
    "\n",
    "    out_ws[0] = (\n",
    "        out_ws[0]\n",
    "        .add_leg(left_trivial_leg_charge, 0, label='vL')\n",
    "    )\n",
    "    \n",
    "    out_ws[-1] = (\n",
    "        out_ws[-1]\n",
    "        .add_leg(right_trivial_leg_charge, 0, label='vR')\n",
    "    )\n",
    "\n",
    "    return out_ws"
   ]
  },
  {
   "cell_type": "code",
   "execution_count": 140,
   "id": "a28056d8-7950-4661-b4b8-0b73e1f6cf97",
   "metadata": {},
   "outputs": [],
   "source": [
    "def split_u(u, max_virtual_bond_dim=MAX_VIRTUAL_BOND_DIM,\n",
    "            p_leg_labels=None):\n",
    "    leg_label = get_physical_leg_labels(u)[0]\n",
    "\n",
    "    if is_single_physical_leg_label(leg_label):\n",
    "        return [unitary_to_mpo_tensor(u),]\n",
    "    elif is_grouped_physical_leg_label(leg_label):\n",
    "        return split_combined_u(u, max_virtual_bond_dim, p_leg_labels)\n",
    "    else:\n",
    "        raise ValueError"
   ]
  },
  {
   "cell_type": "code",
   "execution_count": 141,
   "id": "bc71056c-f25f-4d68-b694-2a26c0ad5790",
   "metadata": {},
   "outputs": [],
   "source": [
    "def unitary_to_mpo_tensor(u):\n",
    "    out = (\n",
    "        u\n",
    "        .add_leg(left_trivial_leg_charge, 0, label='vL')\n",
    "        .add_leg(right_trivial_leg_charge, 0, label='vR')\n",
    "    )\n",
    "\n",
    "    return out"
   ]
  },
  {
   "cell_type": "code",
   "execution_count": 142,
   "id": "7b9fb468-6328-4ae0-b25a-652cb13032c1",
   "metadata": {},
   "outputs": [],
   "source": [
    "def multiply_individual_mpo_tensors(w1, w2):\n",
    "    w1 = w1.replace_labels(['vR', 'vL'], ['vR1', 'vL1'])\n",
    "    w2 = w2.replace_labels(['vR', 'vL'], ['vR2', 'vL2'])\n",
    "\n",
    "    w = (\n",
    "        npc.tensordot(w1, w2, [['p'], ['p*']])\n",
    "        .combine_legs([['vR1', 'vR2'], ['vL1', 'vL2']])\n",
    "        .replace_labels(['(vR1.vR2)', '(vL1.vL2)'], ['vR', 'vL'])\n",
    "    )\n",
    "\n",
    "    return w"
   ]
  },
  {
   "cell_type": "code",
   "execution_count": 143,
   "id": "f9a3a71f-0d3f-4ecf-8eec-c38f861561ef",
   "metadata": {},
   "outputs": [],
   "source": [
    "def group_elements(l, group_size, offset=0):\n",
    "    first, rest = l[:offset], l[offset:]\n",
    "\n",
    "    num_rest_groups = ((len(rest)-1)//group_size) + 1\n",
    "\n",
    "    groups = [first,] if first else list()\n",
    "\n",
    "    for i in range(num_rest_groups):\n",
    "        first_index = i*group_size\n",
    "        last_index = (i+1)*group_size\n",
    "        groups.append(rest[first_index:last_index])\n",
    "\n",
    "    return groups"
   ]
  },
  {
   "cell_type": "code",
   "execution_count": 144,
   "id": "96791fa9-9917-4440-b847-2bc4a3eb39e5",
   "metadata": {},
   "outputs": [],
   "source": [
    "def combine_grouped_b_tensors(grouped_bs):\n",
    "    out = list()\n",
    "\n",
    "    for group in grouped_bs:\n",
    "        if len(group) == 1:\n",
    "            out.append(group[0])\n",
    "        else:\n",
    "            out.append(combine_b_tensors(group))\n",
    "\n",
    "    return out"
   ]
  },
  {
   "cell_type": "code",
   "execution_count": 145,
   "id": "c78589cc-aa65-4aa1-9d53-0cf61702e92c",
   "metadata": {},
   "outputs": [],
   "source": [
    "def reduce_virtual_mpo_dim(wl, wr, max_virtual_bond_dim=MAX_VIRTUAL_BOND_DIM):\n",
    "    # wl = wl.replace_labels(['p', 'p*'], ['pl', 'pl*'])\n",
    "\n",
    "    wl = wl.combine_legs(['p', 'vL', 'p*'])\n",
    "    wr = wr.combine_legs(['p', 'vR', 'p*'])\n",
    "    w = npc.tensordot(wl, wr, ['vR', 'vL'])\n",
    "\n",
    "    wl, S, wr = svd_reduce_split_tensor(\n",
    "        w,\n",
    "        max_inner_dim=max_virtual_bond_dim\n",
    "    )\n",
    "\n",
    "    wl.iscale_axis(S, axis='vR')\n",
    "\n",
    "    wl = wl.split_legs()\n",
    "    wr = wr.split_legs()\n",
    "\n",
    "    return wl, wr"
   ]
  },
  {
   "cell_type": "code",
   "execution_count": 146,
   "id": "e7470053-b5df-45e0-b302-d7ad19d83f30",
   "metadata": {},
   "outputs": [],
   "source": [
    "def multiply_mpos(top_ws, bottom_ws, max_virtual_bond_dim=MAX_VIRTUAL_BOND_DIM):\n",
    "    ws = list()\n",
    "    \n",
    "    for w1, w2 in zip(top_ws, bottom_ws):\n",
    "        w = multiply_individual_mpo_tensors(w1, w2)\n",
    "        ws.append(w)\n",
    "\n",
    "\n",
    "    for i in range(len(ws)-1):\n",
    "        ws[i], ws[i+1] = reduce_virtual_mpo_dim(\n",
    "            ws[i],\n",
    "            ws[i+1],\n",
    "            max_virtual_bond_dim=max_virtual_bond_dim\n",
    "        )\n",
    "\n",
    "    return ws"
   ]
  },
  {
   "cell_type": "markdown",
   "id": "808162ba-8e2a-40bf-adcb-84aff74b5b95",
   "metadata": {},
   "source": [
    "### Layer function"
   ]
  },
  {
   "cell_type": "code",
   "execution_count": 147,
   "id": "28b4dd32-ad86-4b30-8047-0b8ad440a194",
   "metadata": {},
   "outputs": [],
   "source": [
    "def optimise_layer(\n",
    "        left_environment,\n",
    "        top_b_tensors,\n",
    "        left_schmidt_values,\n",
    "        block_width,\n",
    "        block_offset,\n",
    "        expectations,\n",
    "        unitaries=list(),\n",
    "        bottom_b_tensors=None,\n",
    "        num_iterations=1,\n",
    "        max_virtual_bond_dim=MAX_VIRTUAL_BOND_DIM\n",
    "    ):\n",
    "\n",
    "    if bottom_b_tensors is None:\n",
    "        bottom_b_tensors = top_b_tensors\n",
    "\n",
    "    group = lambda x: group_elements(x, block_width, block_offset)\n",
    "    top_grouped_bs = group(top_b_tensors)\n",
    "    bottom_grouped_bs = group(bottom_b_tensors)\n",
    "    grouped_schmidt_values = group(left_schmidt_values)\n",
    "\n",
    "    top_combined_bs = combine_grouped_b_tensors(top_grouped_bs)\n",
    "    bottom_combined_bs = combine_grouped_b_tensors(bottom_grouped_bs)\n",
    "\n",
    "    new_unitaries = [\n",
    "        get_identity_operator(t) for t in top_combined_bs\n",
    "    ]\n",
    "\n",
    "    expectations.append(list())\n",
    "\n",
    "    for _ in range(num_iterations):\n",
    "        exps, *_ = one_site_optimization_sweep_right(\n",
    "            left_environment,\n",
    "            top_combined_bs,\n",
    "            new_unitaries,\n",
    "            bottom_combined_bs\n",
    "        )\n",
    "\n",
    "        expectations[-1].append(exps)\n",
    "\n",
    "    unitaries.append(new_unitaries)\n",
    "\n",
    "    for i, u in enumerate(new_unitaries):\n",
    "        b = top_combined_bs[i]\n",
    "        ll = get_physical_leg_labels(b)[0]\n",
    "        llh = conjugate_leg_label(ll)\n",
    "    \n",
    "        new_b = npc.tensordot(b, u, [[ll,], [llh,]])\n",
    "    \n",
    "        top_combined_bs[i] = new_b\n",
    "\n",
    "    new_top_bs = list()\n",
    "    #new_left_schmidt_values = left_schmidt_values.copy()\n",
    "    new_left_schmidt_values = list()\n",
    "\n",
    "    for b, s in zip (top_combined_bs, grouped_schmidt_values):\n",
    "        \"\"\"\n",
    "        print(b)\n",
    "        print(s)\n",
    "        print('\\n')\n",
    "        \"\"\"\n",
    "        leg_label = get_physical_leg_labels(b)[0]\n",
    "        if is_single_physical_leg_label(leg_label):\n",
    "            new_top_bs.append(b)\n",
    "            new_left_schmidt_values.extend(s)\n",
    "        elif is_grouped_physical_leg_label(leg_label):\n",
    "            bs, schmidt_vals = split_combined_b(\n",
    "                b,\n",
    "                s[0],\n",
    "                max_virtual_bond_dim\n",
    "            )\n",
    "            new_top_bs.extend(bs)\n",
    "            new_left_schmidt_values.extend(s)\n",
    "\n",
    "    \"\"\"\n",
    "    for i, b in enumerate(new_top_bs):\n",
    "        top_b_tensors[i] = b\n",
    "    \"\"\"\n",
    "\n",
    "    return new_top_bs, new_left_schmidt_values"
   ]
  },
  {
   "cell_type": "code",
   "execution_count": 148,
   "id": "3a51ee7d-cf08-4382-bb53-55cae7533c76",
   "metadata": {},
   "outputs": [],
   "source": [
    "def inner_product_b_tensors(b_tensors, b_bra_tensors=None, left_environment=None,\n",
    "                            right_environment=None):\n",
    "    if b_bra_tensors is None:\n",
    "        b_bra_tensors = b_tensors\n",
    "\n",
    "    b = b_tensors[0]\n",
    "    b_bra = b_bra_tensors[0]\n",
    "\n",
    "    if left_environment is None:\n",
    "        t = npc.tensordot(b, b_bra.conj(), [['vL',], ['vL*',]])\n",
    "    else:\n",
    "        t = npc.tensordot(left_environment, b, [['vR',], ['vL',]])\n",
    "        t = npc.tensordot(t, b_bra.conj(), [['vR*', 'p'], ['vL*', 'p*']])\n",
    "\n",
    "    for b, b_bra in zip(b_tensors[1:], b_bra_tensors[1:]):\n",
    "        t = npc.tensordot(t, b, [['vR',], ['vL',]])\n",
    "        t = npc.tensordot(t, b_bra.conj(), [['vR*', 'p'], ['vL*', 'p*']])\n",
    "\n",
    "    if right_environment is None:\n",
    "        out = npc.trace(t)\n",
    "    else:\n",
    "        out = npc.tensordot(t, right_environment, [['vR', 'vR*'], ['vL', 'vL*']])\n",
    "\n",
    "    return out"
   ]
  },
  {
   "cell_type": "code",
   "execution_count": 149,
   "id": "da01938e-f826-4a2f-874d-2a7ea0576fee",
   "metadata": {},
   "outputs": [],
   "source": [
    "def get_left_side_right_symmetry_environment(\n",
    "    right_top_b_tensors, right_bottom_b_tensors, symmetry_transfer_matrix\n",
    "    ):\n",
    "\n",
    "    if right_bottom_b_tensors is None:\n",
    "        right_bottom_b_tensors = right_top_b_tensors\n",
    "\n",
    "    t = get_right_identity_environment_from_tp_tensor(right_top_b_tensors[-1])\n",
    "\n",
    "    for tb, bb in zip(right_top_b_tensors[::-1], right_bottom_b_tensors[::-1]):\n",
    "        t = npc.tensordot(t, tb, [['vL',], ['vR']])\n",
    "        t = npc.tensordot(t, bb.conj(), [['vL*', 'p'], ['vR*', 'p*']])\n",
    "\n",
    "    t = npc.tensordot(\n",
    "        t,\n",
    "        symmetry_transfer_matrix,\n",
    "        [['vL', 'vL*',], ['vR', 'vR*']]\n",
    "    )\n",
    "\n",
    "    return t"
   ]
  },
  {
   "cell_type": "code",
   "execution_count": 150,
   "id": "e4c0c3f6-9014-41c6-a7b3-745dd0dc9970",
   "metadata": {},
   "outputs": [],
   "source": [
    "def swap_left_right_indices(npc_array):\n",
    "    left_right_pairs = {\n",
    "        'vL': 'vR',\n",
    "        'vR': 'vL',\n",
    "        'vL*': 'vR*',\n",
    "        'vR*': 'vL*'\n",
    "    }\n",
    "\n",
    "    leg_labels = npc_array.get_leg_labels()\n",
    "\n",
    "    old_labels = [l for l in leg_labels if l in left_right_pairs]\n",
    "    new_labels = [left_right_pairs[l] for l in old_labels]\n",
    "\n",
    "    out = npc_array.replace_labels(old_labels, new_labels)\n",
    "\n",
    "    return out"
   ]
  },
  {
   "cell_type": "code",
   "execution_count": 151,
   "id": "ebd32d02-222b-49ff-9df3-d74114ea3ea5",
   "metadata": {},
   "outputs": [],
   "source": [
    "def two_sided_optimise_layer(\n",
    "        symmetry_transfer_matrix,\n",
    "        top_left_b_tensors,\n",
    "        top_right_b_tensors,\n",
    "        right_side_left_schmidt_values,\n",
    "        left_side_right_schmidt_values,\n",
    "        block_width,\n",
    "        block_offset,\n",
    "        right_expectations,\n",
    "        left_expectations,\n",
    "        bottom_left_b_tensors=None,\n",
    "        bottom_right_b_tensors=None,\n",
    "        left_unitaries=list(),\n",
    "        right_unitaries=list(),\n",
    "        num_iterations=1,\n",
    "        max_virtual_bond_dim=MAX_VIRTUAL_BOND_DIM\n",
    "    ):\n",
    "\n",
    "    if bottom_left_b_tensors is None:\n",
    "        bottom_left_b_tensors = top_left_b_tensors\n",
    "\n",
    "    if bottom_right_b_tensors is None:\n",
    "        bottom_right_b_tensors = top_right_b_tensors\n",
    "\n",
    "    right_side_left_symmetry_environment = (\n",
    "        get_left_side_right_symmetry_environment(\n",
    "            top_left_b_tensors,\n",
    "            bottom_left_b_tensors,\n",
    "            swap_left_right_indices(symmetry_transfer_matrix)\n",
    "        )\n",
    "    )\n",
    "\n",
    "    right_side_left_symmetry_environment = swap_left_right_indices(\n",
    "        right_side_left_symmetry_environment\n",
    "    )\n",
    "    \n",
    "    new_right_pair = optimise_layer(\n",
    "        right_side_left_symmetry_environment,\n",
    "        top_right_b_tensors,\n",
    "        right_side_left_schmidt_values,\n",
    "        block_width,\n",
    "        block_offset,\n",
    "        right_expectations,\n",
    "        right_unitaries,\n",
    "        bottom_right_b_tensors,\n",
    "        num_iterations,\n",
    "        max_virtual_bond_dim\n",
    "    )\n",
    "\n",
    "    new_top_right_b_tensors = new_right_pair[0]\n",
    "    new_right_side_left_schmidt_values = new_right_pair[1]\n",
    "\n",
    "    left_side_right_symmetry_environment = (\n",
    "        get_left_side_right_symmetry_environment(\n",
    "            new_top_right_b_tensors,\n",
    "            bottom_right_b_tensors,\n",
    "            symmetry_transfer_matrix\n",
    "        )\n",
    "    )\n",
    "\n",
    "    left_side_right_symmetry_environment = swap_left_right_indices(\n",
    "        left_side_right_symmetry_environment\n",
    "    )\n",
    "\n",
    "    new_left_pair = optimise_layer(\n",
    "        left_side_right_symmetry_environment,\n",
    "        top_left_b_tensors,\n",
    "        left_side_right_schmidt_values,\n",
    "        block_width,\n",
    "        block_offset,\n",
    "        left_expectations,\n",
    "        left_unitaries,\n",
    "        bottom_left_b_tensors,\n",
    "        num_iterations,\n",
    "        max_virtual_bond_dim\n",
    "    )\n",
    "\n",
    "    new_top_left_b_tensors = new_left_pair[0]\n",
    "    new_left_side_right_schmidt_values = new_left_pair[1]\n",
    "\n",
    "    return (new_left_pair, new_right_pair)"
   ]
  },
  {
   "cell_type": "code",
   "execution_count": 152,
   "id": "0d59ad34-19c1-46f1-ae19-ff608959e0cd",
   "metadata": {},
   "outputs": [],
   "source": [
    "def initialize_brick_optimisation(symmetry_case, num_sites):\n",
    "    symmetry_transfer_matrix = symmetry_case.npc_symmetry_transfer_matrix\n",
    "\n",
    "    right_site_indices = list(range(\n",
    "        symmetry_case.right_symmetry_index + 1,\n",
    "        symmetry_case.right_symmetry_index + 1 + num_sites\n",
    "    ))\n",
    "\n",
    "    right_mps_tensors = [\n",
    "        symmetry_case.psi.get_B(i)\n",
    "        for k, i in enumerate(right_site_indices)\n",
    "    ]\n",
    "\n",
    "    right_side_left_schmidt_values = [\n",
    "        symmetry_case.psi.get_SL(i)\n",
    "        for i in right_site_indices\n",
    "    ]\n",
    "\n",
    "    left_site_indices = list(range(\n",
    "        symmetry_case.left_symmetry_index - 1,\n",
    "        symmetry_case.left_symmetry_index - 1 - num_sites,\n",
    "        -1\n",
    "    ))\n",
    "\n",
    "    left_mps_tensors = [\n",
    "        symmetry_case.psi.get_B(i, form='A')\n",
    "        for k, i in enumerate(left_site_indices)\n",
    "    ]\n",
    "    \n",
    "    left_mps_tensors = [swap_left_right_indices(b) for b in left_mps_tensors]\n",
    "\n",
    "    left_side_right_schmidt_values = [\n",
    "        symmetry_case.psi.get_SR(i)\n",
    "        for i in left_site_indices\n",
    "    ]\n",
    "\n",
    "    right_expectations=list()\n",
    "    left_expectations=list()\n",
    "    left_unitaries=list()\n",
    "    right_unitaries=list()\n",
    "\n",
    "    return (\n",
    "        symmetry_transfer_matrix,\n",
    "        left_mps_tensors,\n",
    "        right_mps_tensors,\n",
    "        right_side_left_schmidt_values,\n",
    "        left_side_right_schmidt_values,\n",
    "        right_expectations,\n",
    "        left_expectations,\n",
    "        left_unitaries,\n",
    "        right_unitaries\n",
    "    )"
   ]
  },
  {
   "cell_type": "markdown",
   "id": "d9bd56fa-1fbb-43b2-bdc5-915674215f19",
   "metadata": {},
   "source": [
    "### Output gradient tensor \"one site\" functions"
   ]
  },
  {
   "cell_type": "code",
   "execution_count": 153,
   "id": "4a200d44-f172-4ad6-8274-74552c6950d1",
   "metadata": {},
   "outputs": [],
   "source": [
    "def optimise_layer_with_gradient(\n",
    "        left_environment,\n",
    "        top_b_tensors,\n",
    "        left_schmidt_values,\n",
    "        block_width,\n",
    "        block_offset,\n",
    "        expectations,\n",
    "        unitaries=list(),\n",
    "        bottom_b_tensors=None,\n",
    "        num_iterations=1,\n",
    "        max_virtual_bond_dim=MAX_VIRTUAL_BOND_DIM\n",
    "    ):\n",
    "\n",
    "    if bottom_b_tensors is None:\n",
    "        bottom_b_tensors = top_b_tensors\n",
    "\n",
    "    group = lambda x: group_elements(x, block_width, block_offset)\n",
    "    top_grouped_bs = group(top_b_tensors)\n",
    "    bottom_grouped_bs = group(bottom_b_tensors)\n",
    "    grouped_schmidt_values = group(left_schmidt_values)\n",
    "\n",
    "    top_combined_bs = combine_grouped_b_tensors(top_grouped_bs)\n",
    "    bottom_combined_bs = combine_grouped_b_tensors(bottom_grouped_bs)\n",
    "\n",
    "    new_unitaries = [\n",
    "        get_identity_operator(t) for t in top_combined_bs\n",
    "    ]\n",
    "\n",
    "    expectations.append(list())\n",
    "\n",
    "    # Below code is a hack to add in the gradient, assuming one block.\n",
    "    right_environment = get_right_identity_environment_from_tp_tensor(\n",
    "        top_b_tensors[-1]\n",
    "    )\n",
    "\n",
    "    grad = expectation_gradient_from_environments_and_b_tensor(\n",
    "        top_combined_bs[0],\n",
    "        left_environment,\n",
    "        right_environment,\n",
    "        bottom_combined_bs[0]\n",
    "    )\n",
    "    # Hack ends here.\n",
    "\n",
    "    for _ in range(num_iterations):\n",
    "        exps, *_ = one_site_optimization_sweep_right(\n",
    "            left_environment,\n",
    "            top_combined_bs,\n",
    "            new_unitaries,\n",
    "            bottom_combined_bs\n",
    "        )\n",
    "\n",
    "        expectations[-1].append(exps)\n",
    "\n",
    "    unitaries.append(new_unitaries)\n",
    "\n",
    "    for i, u in enumerate(new_unitaries):\n",
    "        b = top_combined_bs[i]\n",
    "        ll = get_physical_leg_labels(b)[0]\n",
    "        llh = conjugate_leg_label(ll)\n",
    "    \n",
    "        new_b = npc.tensordot(b, u, [[ll,], [llh,]])\n",
    "    \n",
    "        top_combined_bs[i] = new_b\n",
    "\n",
    "    new_top_bs = list()\n",
    "    #new_left_schmidt_values = left_schmidt_values.copy()\n",
    "    new_left_schmidt_values = list()\n",
    "\n",
    "    for b, s in zip (top_combined_bs, grouped_schmidt_values):\n",
    "        \"\"\"\n",
    "        print(b)\n",
    "        print(s)\n",
    "        print('\\n')\n",
    "        \"\"\"\n",
    "        leg_label = get_physical_leg_labels(b)[0]\n",
    "        if is_single_physical_leg_label(leg_label):\n",
    "            new_top_bs.append(b)\n",
    "            new_left_schmidt_values.extend(s)\n",
    "        elif is_grouped_physical_leg_label(leg_label):\n",
    "            bs, schmidt_vals = split_combined_b(\n",
    "                b,\n",
    "                s[0],\n",
    "                max_virtual_bond_dim\n",
    "            )\n",
    "            new_top_bs.extend(bs)\n",
    "            new_left_schmidt_values.extend(s)\n",
    "\n",
    "    \"\"\"\n",
    "    for i, b in enumerate(new_top_bs):\n",
    "        top_b_tensors[i] = b\n",
    "    \"\"\"\n",
    "\n",
    "    return new_top_bs, new_left_schmidt_values, grad"
   ]
  },
  {
   "cell_type": "code",
   "execution_count": 154,
   "id": "9836488e-d760-4986-9181-34f8e5dc3cfa",
   "metadata": {},
   "outputs": [],
   "source": [
    "def two_sided_optimise_layer_with_gradient(\n",
    "        symmetry_transfer_matrix,\n",
    "        top_left_b_tensors,\n",
    "        top_right_b_tensors,\n",
    "        right_side_left_schmidt_values,\n",
    "        left_side_right_schmidt_values,\n",
    "        block_width,\n",
    "        block_offset,\n",
    "        right_expectations,\n",
    "        left_expectations,\n",
    "        bottom_left_b_tensors=None,\n",
    "        bottom_right_b_tensors=None,\n",
    "        left_unitaries=list(),\n",
    "        right_unitaries=list(),\n",
    "        num_iterations=1,\n",
    "        max_virtual_bond_dim=MAX_VIRTUAL_BOND_DIM\n",
    "    ):\n",
    "\n",
    "    if bottom_left_b_tensors is None:\n",
    "        bottom_left_b_tensors = top_left_b_tensors\n",
    "\n",
    "    if bottom_right_b_tensors is None:\n",
    "        bottom_right_b_tensors = top_right_b_tensors\n",
    "\n",
    "    right_side_left_symmetry_environment = (\n",
    "        get_left_side_right_symmetry_environment(\n",
    "            top_left_b_tensors,\n",
    "            bottom_left_b_tensors,\n",
    "            swap_left_right_indices(symmetry_transfer_matrix)\n",
    "        )\n",
    "    )\n",
    "\n",
    "    right_side_left_symmetry_environment = swap_left_right_indices(\n",
    "        right_side_left_symmetry_environment\n",
    "    )\n",
    "    \n",
    "    new_right_triple = optimise_layer_with_gradient(\n",
    "        right_side_left_symmetry_environment,\n",
    "        top_right_b_tensors,\n",
    "        right_side_left_schmidt_values,\n",
    "        block_width,\n",
    "        block_offset,\n",
    "        right_expectations,\n",
    "        right_unitaries,\n",
    "        bottom_right_b_tensors,\n",
    "        num_iterations,\n",
    "        max_virtual_bond_dim\n",
    "    )\n",
    "\n",
    "    new_top_right_b_tensors = new_right_triple[0]\n",
    "    new_right_side_left_schmidt_values = new_right_triple[1]\n",
    "    new_right_grad = new_right_triple[2]\n",
    "\n",
    "    left_side_right_symmetry_environment = (\n",
    "        get_left_side_right_symmetry_environment(\n",
    "            new_top_right_b_tensors,\n",
    "            bottom_right_b_tensors,\n",
    "            symmetry_transfer_matrix\n",
    "        )\n",
    "    )\n",
    "\n",
    "    left_side_right_symmetry_environment = swap_left_right_indices(\n",
    "        left_side_right_symmetry_environment\n",
    "    )\n",
    "\n",
    "    new_left_triple = optimise_layer_with_gradient(\n",
    "        left_side_right_symmetry_environment,\n",
    "        top_left_b_tensors,\n",
    "        left_side_right_schmidt_values,\n",
    "        block_width,\n",
    "        block_offset,\n",
    "        left_expectations,\n",
    "        left_unitaries,\n",
    "        bottom_left_b_tensors,\n",
    "        num_iterations,\n",
    "        max_virtual_bond_dim\n",
    "    )\n",
    "\n",
    "    new_top_left_b_tensors = new_left_triple[0]\n",
    "    new_left_side_right_schmidt_values = new_left_triple[1]\n",
    "    new_left_grad = new_left_triple[2]\n",
    "\n",
    "    return (new_left_triple, new_right_triple)"
   ]
  },
  {
   "cell_type": "markdown",
   "id": "84b4a7a7-96ac-4c80-979f-030a05d586c7",
   "metadata": {},
   "source": [
    "# Step through\n",
    "Step through otpimization to see what's going wrong."
   ]
  },
  {
   "cell_type": "code",
   "execution_count": 156,
   "id": "e1664736-aa19-490c-a3de-a70159e15b4e",
   "metadata": {},
   "outputs": [],
   "source": [
    "cases = dict()\n",
    "\n",
    "for k, psi in loaded_data.items():\n",
    "\n",
    "    for i, l in enumerate(symmetry_actions):\n",
    "\n",
    "        for j, s in enumerate(l):\n",
    "            case = SymmetryActionWithBoundaryUnitaries(\n",
    "                psi,\n",
    "                s*50,\n",
    "                left_symmetry_index=50,\n",
    "                left_boundary_unitaries=[np_I, np_00]*1,\n",
    "                right_boundary_unitaries=[np_00, np_I]*1\n",
    "            )\n",
    "\n",
    "            cases[(*k, i, j)] = case"
   ]
  },
  {
   "cell_type": "code",
   "execution_count": 161,
   "id": "26e443d5-f7e6-4741-8140-56790c1e5edc",
   "metadata": {},
   "outputs": [],
   "source": [
    "for c in cases.values():\n",
    "    c.compute_svd_approximate_expectation()"
   ]
  },
  {
   "cell_type": "code",
   "execution_count": 199,
   "id": "44c0c7be-d52c-4a8a-95e8-743fef8dc4db",
   "metadata": {},
   "outputs": [],
   "source": [
    "test_case = cases[True, (0, 0), 0, 1]"
   ]
  },
  {
   "cell_type": "code",
   "execution_count": 158,
   "id": "257f794e-a540-49c7-8ef6-09f8407e9757",
   "metadata": {},
   "outputs": [
    {
     "data": {
      "text/plain": [
       "<SPTOptimization.SymmetryActionWithBoundaryUnitaries.SymmetryActionWithBoundaryUnitaries at 0x3039e3490>"
      ]
     },
     "execution_count": 158,
     "metadata": {},
     "output_type": "execute_result"
    }
   ],
   "source": [
    "test_case"
   ]
  },
  {
   "cell_type": "markdown",
   "id": "d2f6d9a5-73fc-4873-9ba5-2a3a6b295b4c",
   "metadata": {},
   "source": [
    "## Quick run"
   ]
  },
  {
   "cell_type": "code",
   "execution_count": 200,
   "id": "f8999e7d-7549-445d-8154-c5d9cdfaec2b",
   "metadata": {},
   "outputs": [],
   "source": [
    "block_width = 4\n",
    "num_iterations = 1\n",
    "num_layers = 1\n",
    "num_sites = 4"
   ]
  },
  {
   "cell_type": "code",
   "execution_count": 206,
   "id": "1da4b48f-c5cf-476e-8f26-50882c5c639f",
   "metadata": {},
   "outputs": [],
   "source": [
    "c = test_case\n",
    "\n",
    "(\n",
    "    symmetry_transfer_matrix,\n",
    "    current_left_mps_tensors,\n",
    "    current_right_mps_tensors,\n",
    "    current_right_side_left_schmidt_values,\n",
    "    current_left_side_right_schmidt_values,\n",
    "    current_right_expectations,\n",
    "    current_left_expectations,\n",
    "    current_left_unitaries,\n",
    "    current_right_unitaries\n",
    ") = initialize_brick_optimisation(c, num_sites)\n",
    "\n",
    "top_right_mps_tensors = [current_right_mps_tensors,]\n",
    "top_left_mps_tensors = [current_left_mps_tensors,]\n",
    "\n",
    "right_side_left_schmidt_values_list = [current_right_side_left_schmidt_values,]\n",
    "left_side_right_schmidt_values_list = [current_left_side_right_schmidt_values,]\n",
    "\n",
    "out_quad = two_sided_optimise_layer(\n",
    "    symmetry_transfer_matrix,\n",
    "    top_left_mps_tensors[-1],\n",
    "    top_right_mps_tensors[-1],\n",
    "    right_side_left_schmidt_values_list[-1],\n",
    "    left_side_right_schmidt_values_list[-1],\n",
    "    block_width,\n",
    "    block_offset,\n",
    "    current_right_expectations,\n",
    "    current_left_expectations,\n",
    "    current_left_mps_tensors,\n",
    "    current_right_mps_tensors,\n",
    "    current_left_unitaries,\n",
    "    current_right_unitaries,\n",
    "    num_iterations\n",
    ")\n",
    "\n",
    "left_pair, right_pair = out_quad\n",
    "\n",
    "top_right_mps_tensors.append(right_pair[0])\n",
    "right_side_left_schmidt_values_list.append(right_pair[1])\n",
    "\n",
    "top_left_mps_tensors.append(left_pair[0])\n",
    "left_side_right_schmidt_values_list.append(left_pair[1])\n",
    "\n",
    "\n",
    "out_quad = two_sided_optimise_layer(\n",
    "    symmetry_transfer_matrix,\n",
    "    top_left_mps_tensors[-1],\n",
    "    top_right_mps_tensors[-1],\n",
    "    right_side_left_schmidt_values_list[-1],\n",
    "    left_side_right_schmidt_values_list[-1],\n",
    "    block_width,\n",
    "    block_offset,\n",
    "    current_right_expectations,\n",
    "    current_left_expectations,\n",
    "    current_left_mps_tensors,\n",
    "    current_right_mps_tensors,\n",
    "    current_left_unitaries,\n",
    "    current_right_unitaries,\n",
    "    num_iterations\n",
    ")\n",
    "\n",
    "left_pair, right_pair = out_quad\n",
    "\n",
    "top_right_mps_tensors.append(right_pair[0])\n",
    "right_side_left_schmidt_values_list.append(right_pair[1])\n",
    "\n",
    "top_left_mps_tensors.append(left_pair[0])\n",
    "left_side_right_schmidt_values_list.append(left_pair[1])"
   ]
  },
  {
   "cell_type": "code",
   "execution_count": 207,
   "id": "82385d42-387d-43c8-be45-c87edd5c211f",
   "metadata": {},
   "outputs": [
    {
     "data": {
      "text/plain": [
       "[[[3.211214886573137e-15]], [[0.9999999999999987]]]"
      ]
     },
     "execution_count": 207,
     "metadata": {},
     "output_type": "execute_result"
    }
   ],
   "source": [
    "current_right_expectations"
   ]
  },
  {
   "cell_type": "code",
   "execution_count": 208,
   "id": "8bfd9fe6-0c7b-4c55-a2d6-9d0c4681b2e3",
   "metadata": {},
   "outputs": [
    {
     "data": {
      "text/plain": [
       "[[[0.9999349351458662]], [[0.9999999999999983]]]"
      ]
     },
     "execution_count": 208,
     "metadata": {},
     "output_type": "execute_result"
    }
   ],
   "source": [
    "current_left_expectations"
   ]
  },
  {
   "cell_type": "code",
   "execution_count": 162,
   "id": "20ba6681-c36c-4f47-bea2-b6695171dbfc",
   "metadata": {},
   "outputs": [],
   "source": [
    "(\n",
    "    symmetry_transfer_matrix,\n",
    "    current_left_mps_tensors,\n",
    "    current_right_mps_tensors,\n",
    "    current_right_side_left_schmidt_values,\n",
    "    current_left_side_right_schmidt_values,\n",
    "    current_right_expectations,\n",
    "    current_left_expectations,\n",
    "    current_left_unitaries,\n",
    "    current_right_unitaries\n",
    ") = initialize_brick_optimisation(test_case, num_sites)"
   ]
  },
  {
   "cell_type": "code",
   "execution_count": 163,
   "id": "f3b3d141-6606-47f5-b994-289e65ecab15",
   "metadata": {},
   "outputs": [
    {
     "data": {
      "text/plain": [
       "<npc.Array shape=(4, 4, 4, 4) labels=['vL*', 'vL', 'vR', 'vR*']>"
      ]
     },
     "execution_count": 163,
     "metadata": {},
     "output_type": "execute_result"
    }
   ],
   "source": [
    "symmetry_transfer_matrix"
   ]
  },
  {
   "cell_type": "code",
   "execution_count": 164,
   "id": "95d45c92-4475-41f8-bc37-8e556dc0cb0d",
   "metadata": {},
   "outputs": [
    {
     "data": {
      "text/plain": [
       "[<npc.Array shape=(4, 2, 4) labels=['vR', 'p', 'vL']>,\n",
       " <npc.Array shape=(4, 4, 4) labels=['vR', 'p', 'vL']>,\n",
       " <npc.Array shape=(4, 2, 4) labels=['vR', 'p', 'vL']>,\n",
       " <npc.Array shape=(4, 4, 4) labels=['vR', 'p', 'vL']>]"
      ]
     },
     "execution_count": 164,
     "metadata": {},
     "output_type": "execute_result"
    }
   ],
   "source": [
    "current_left_mps_tensors"
   ]
  },
  {
   "cell_type": "code",
   "execution_count": 165,
   "id": "5cc65c99-0ae7-4eb9-9426-8fb298d16e83",
   "metadata": {},
   "outputs": [
    {
     "data": {
      "text/plain": [
       "[<npc.Array shape=(4, 4, 4) labels=['vL', 'p', 'vR']>,\n",
       " <npc.Array shape=(4, 2, 4) labels=['vL', 'p', 'vR']>,\n",
       " <npc.Array shape=(4, 4, 4) labels=['vL', 'p', 'vR']>,\n",
       " <npc.Array shape=(4, 2, 4) labels=['vL', 'p', 'vR']>]"
      ]
     },
     "execution_count": 165,
     "metadata": {},
     "output_type": "execute_result"
    }
   ],
   "source": [
    "current_right_mps_tensors"
   ]
  },
  {
   "cell_type": "code",
   "execution_count": 166,
   "id": "80497db7-aef0-4e95-84e4-52cc738cb36a",
   "metadata": {},
   "outputs": [
    {
     "data": {
      "text/plain": [
       "[array([0.5, 0.5, 0.5, 0.5]),\n",
       " array([0.5, 0.5, 0.5, 0.5]),\n",
       " array([0.5, 0.5, 0.5, 0.5]),\n",
       " array([0.5, 0.5, 0.5, 0.5])]"
      ]
     },
     "execution_count": 166,
     "metadata": {},
     "output_type": "execute_result"
    }
   ],
   "source": [
    "current_right_side_left_schmidt_values"
   ]
  },
  {
   "cell_type": "code",
   "execution_count": 168,
   "id": "5cfb5893-5f0c-4483-826b-caed367c797d",
   "metadata": {},
   "outputs": [
    {
     "data": {
      "text/plain": [
       "[array([0.5, 0.5, 0.5, 0.5]),\n",
       " array([0.5, 0.5, 0.5, 0.5]),\n",
       " array([0.5, 0.5, 0.5, 0.5]),\n",
       " array([0.5, 0.5, 0.5, 0.5])]"
      ]
     },
     "execution_count": 168,
     "metadata": {},
     "output_type": "execute_result"
    }
   ],
   "source": [
    "current_left_side_right_schmidt_values"
   ]
  },
  {
   "cell_type": "code",
   "execution_count": 169,
   "id": "80937431-66df-4722-b85a-8eef2321e50a",
   "metadata": {},
   "outputs": [
    {
     "data": {
      "text/plain": [
       "[]"
      ]
     },
     "execution_count": 169,
     "metadata": {},
     "output_type": "execute_result"
    }
   ],
   "source": [
    "current_right_expectations"
   ]
  },
  {
   "cell_type": "code",
   "execution_count": 170,
   "id": "40a8c990-5f50-44d3-9a0e-de0d1bf28722",
   "metadata": {},
   "outputs": [
    {
     "data": {
      "text/plain": [
       "[]"
      ]
     },
     "execution_count": 170,
     "metadata": {},
     "output_type": "execute_result"
    }
   ],
   "source": [
    "current_left_expectations"
   ]
  },
  {
   "cell_type": "code",
   "execution_count": 171,
   "id": "794c4dc5-952e-45d0-aaff-4359a79be674",
   "metadata": {},
   "outputs": [
    {
     "data": {
      "text/plain": [
       "[]"
      ]
     },
     "execution_count": 171,
     "metadata": {},
     "output_type": "execute_result"
    }
   ],
   "source": [
    "current_left_unitaries"
   ]
  },
  {
   "cell_type": "code",
   "execution_count": 172,
   "id": "82789639-de9b-4d2f-b0b9-18553e8dd763",
   "metadata": {},
   "outputs": [
    {
     "data": {
      "text/plain": [
       "[]"
      ]
     },
     "execution_count": 172,
     "metadata": {},
     "output_type": "execute_result"
    }
   ],
   "source": [
    "current_right_unitaries"
   ]
  },
  {
   "cell_type": "code",
   "execution_count": 173,
   "id": "bc6a84fb-2ccc-4778-9b8e-2a2aad144ac6",
   "metadata": {},
   "outputs": [],
   "source": [
    "top_right_mps_tensors = [current_right_mps_tensors,]\n",
    "top_left_mps_tensors = [current_left_mps_tensors,]"
   ]
  },
  {
   "cell_type": "code",
   "execution_count": 174,
   "id": "edcc1b92-0a61-49c0-85bf-391dde456414",
   "metadata": {},
   "outputs": [
    {
     "data": {
      "text/plain": [
       "[[<npc.Array shape=(4, 4, 4) labels=['vL', 'p', 'vR']>,\n",
       "  <npc.Array shape=(4, 2, 4) labels=['vL', 'p', 'vR']>,\n",
       "  <npc.Array shape=(4, 4, 4) labels=['vL', 'p', 'vR']>,\n",
       "  <npc.Array shape=(4, 2, 4) labels=['vL', 'p', 'vR']>]]"
      ]
     },
     "execution_count": 174,
     "metadata": {},
     "output_type": "execute_result"
    }
   ],
   "source": [
    "top_right_mps_tensors"
   ]
  },
  {
   "cell_type": "code",
   "execution_count": 175,
   "id": "ebd3d463-9787-4818-9613-4549f29201a3",
   "metadata": {},
   "outputs": [
    {
     "data": {
      "text/plain": [
       "[[<npc.Array shape=(4, 2, 4) labels=['vR', 'p', 'vL']>,\n",
       "  <npc.Array shape=(4, 4, 4) labels=['vR', 'p', 'vL']>,\n",
       "  <npc.Array shape=(4, 2, 4) labels=['vR', 'p', 'vL']>,\n",
       "  <npc.Array shape=(4, 4, 4) labels=['vR', 'p', 'vL']>]]"
      ]
     },
     "execution_count": 175,
     "metadata": {},
     "output_type": "execute_result"
    }
   ],
   "source": [
    "top_left_mps_tensors"
   ]
  },
  {
   "cell_type": "code",
   "execution_count": 176,
   "id": "fc8dad5c-1317-4a2e-8046-06de11014dc2",
   "metadata": {},
   "outputs": [],
   "source": [
    "right_side_left_schmidt_values_list = [current_right_side_left_schmidt_values,]\n",
    "left_side_right_schmidt_values_list = [current_left_side_right_schmidt_values,]"
   ]
  },
  {
   "cell_type": "code",
   "execution_count": 177,
   "id": "8623a009-366c-4978-acf0-d1550f6089ba",
   "metadata": {},
   "outputs": [],
   "source": [
    "block_offset = (block_width//2)*i % block_width"
   ]
  },
  {
   "cell_type": "code",
   "execution_count": 178,
   "id": "c26aba15-71b8-4f71-b48c-b069dd2b8c4b",
   "metadata": {},
   "outputs": [
    {
     "data": {
      "text/plain": [
       "1"
      ]
     },
     "execution_count": 178,
     "metadata": {},
     "output_type": "execute_result"
    }
   ],
   "source": [
    "block_offset"
   ]
  },
  {
   "cell_type": "code",
   "execution_count": 179,
   "id": "58952d25-f009-4499-b238-fd80d78cbada",
   "metadata": {},
   "outputs": [],
   "source": [
    "top_left_b_tensors=top_left_mps_tensors[-1]\n",
    "top_right_b_tensors=top_right_mps_tensors[-1]\n",
    "right_side_left_schmidt_values=right_side_left_schmidt_values_list[-1]\n",
    "left_side_right_schmidt_values=left_side_right_schmidt_values_list[-1]\n",
    "right_expectations=current_right_expectations\n",
    "left_expectations=current_left_expectations\n",
    "bottom_left_b_tensors=current_left_mps_tensors\n",
    "bottom_right_b_tensors=current_right_mps_tensors\n",
    "left_unitaries=current_left_unitaries\n",
    "right_unitaries=current_right_unitaries\n",
    "num_iterations=1\n",
    "max_virtual_bond_dim=8"
   ]
  },
  {
   "cell_type": "code",
   "execution_count": 180,
   "id": "29bb15e5-0933-4f06-bfaf-cc4e10c1678a",
   "metadata": {},
   "outputs": [],
   "source": [
    "right_side_left_symmetry_environment = (\n",
    "    get_left_side_right_symmetry_environment(\n",
    "        top_left_b_tensors,\n",
    "        bottom_left_b_tensors,\n",
    "        swap_left_right_indices(symmetry_transfer_matrix)\n",
    "    )\n",
    ")"
   ]
  },
  {
   "cell_type": "code",
   "execution_count": 182,
   "id": "a7497aa2-412b-4034-9684-7ed54da8fab1",
   "metadata": {},
   "outputs": [
    {
     "data": {
      "text/plain": [
       "array([[ 3.21261973e-15+0.j, -4.55586983e-15+0.j,  1.31746363e-16+0.j,\n",
       "        -6.90977863e-16+0.j],\n",
       "       [-4.56974762e-15+0.j, -2.99808130e-15+0.j, -1.07721990e-16+0.j,\n",
       "        -1.30493035e-15+0.j],\n",
       "       [ 1.29361118e-16+0.j, -1.10107234e-16+0.j, -5.63122964e-15+0.j,\n",
       "         2.72218568e-16+0.j],\n",
       "       [-6.87508416e-16+0.j, -1.30146091e-15+0.j,  2.72218568e-16+0.j,\n",
       "         5.42363011e-15+0.j]])"
      ]
     },
     "execution_count": 182,
     "metadata": {},
     "output_type": "execute_result"
    }
   ],
   "source": [
    "right_side_left_symmetry_environment.to_ndarray()"
   ]
  },
  {
   "cell_type": "code",
   "execution_count": 185,
   "id": "c8628432-aff4-410a-9fe4-7a5048815e60",
   "metadata": {},
   "outputs": [],
   "source": [
    "right_side_left_symmetry_environment = swap_left_right_indices(\n",
    "    right_side_left_symmetry_environment\n",
    ")"
   ]
  },
  {
   "cell_type": "code",
   "execution_count": 183,
   "id": "58421607-8780-4dcf-90c8-f07c1d296c67",
   "metadata": {},
   "outputs": [],
   "source": [
    "left_side_right_symmetry_environment = (\n",
    "    get_left_side_right_symmetry_environment(\n",
    "        top_right_b_tensors,\n",
    "        bottom_right_b_tensors,\n",
    "        symmetry_transfer_matrix\n",
    "    )\n",
    ")"
   ]
  },
  {
   "cell_type": "code",
   "execution_count": 184,
   "id": "29e1c209-8c38-4f51-93bb-fa65841a077b",
   "metadata": {},
   "outputs": [
    {
     "data": {
      "text/plain": [
       "array([[-5.23067003e-16+0.j, -1.81063711e-17+0.j, -1.29914888e-16+0.j,\n",
       "         2.38773232e-18+0.j],\n",
       "       [-1.81063711e-17+0.j,  4.97289423e-16+0.j, -1.93681667e-18+0.j,\n",
       "         1.71532118e-17+0.j],\n",
       "       [-1.29914888e-16+0.j, -1.90971162e-18+0.j,  5.36933521e-16+0.j,\n",
       "        -1.88415266e-17+0.j],\n",
       "       [ 2.38773232e-18+0.j,  1.71532118e-17+0.j, -1.88415266e-17+0.j,\n",
       "        -4.90339259e-16+0.j]])"
      ]
     },
     "execution_count": 184,
     "metadata": {},
     "output_type": "execute_result"
    }
   ],
   "source": [
    "left_side_right_symmetry_environment.to_ndarray()"
   ]
  },
  {
   "cell_type": "code",
   "execution_count": 186,
   "id": "08a06efb-0f1a-41e9-b2df-8b40662558f8",
   "metadata": {},
   "outputs": [],
   "source": [
    "new_right_pair = optimise_layer(\n",
    "    right_side_left_symmetry_environment,\n",
    "    top_right_b_tensors,\n",
    "    right_side_left_schmidt_values,\n",
    "    block_width,\n",
    "    block_offset,\n",
    "    right_expectations,\n",
    "    right_unitaries,\n",
    "    bottom_right_b_tensors,\n",
    "    num_iterations,\n",
    "    max_virtual_bond_dim\n",
    ")\n",
    "\n",
    "new_top_right_b_tensors = new_right_pair[0]\n",
    "new_right_side_left_schmidt_values = new_right_pair[1]"
   ]
  },
  {
   "cell_type": "code",
   "execution_count": 187,
   "id": "9c735a3e-5305-47c7-9951-b490fbc1e5c7",
   "metadata": {},
   "outputs": [
    {
     "data": {
      "text/plain": [
       "[<npc.Array shape=(4, 4, 4) labels=['vL', 'vR', 'p']>,\n",
       " <npc.Array shape=(4, 2, 4) labels=['vL', 'p', 'vR']>,\n",
       " <npc.Array shape=(4, 4, 4) labels=['vL', 'p', 'vR']>,\n",
       " <npc.Array shape=(4, 4, 2) labels=['vL', 'vR', 'p']>]"
      ]
     },
     "execution_count": 187,
     "metadata": {},
     "output_type": "execute_result"
    }
   ],
   "source": [
    "new_top_right_b_tensors"
   ]
  },
  {
   "cell_type": "code",
   "execution_count": 188,
   "id": "f417c12c-9eab-4441-9a20-aba36d0745f1",
   "metadata": {},
   "outputs": [
    {
     "data": {
      "text/plain": [
       "[array([0.5, 0.5, 0.5, 0.5]),\n",
       " array([0.5, 0.5, 0.5, 0.5]),\n",
       " array([0.5, 0.5, 0.5, 0.5]),\n",
       " array([0.5, 0.5, 0.5, 0.5])]"
      ]
     },
     "execution_count": 188,
     "metadata": {},
     "output_type": "execute_result"
    }
   ],
   "source": [
    "new_right_side_left_schmidt_values"
   ]
  },
  {
   "cell_type": "code",
   "execution_count": 189,
   "id": "6b8388a9-3746-4788-b2da-50341f715bca",
   "metadata": {},
   "outputs": [],
   "source": [
    "left_side_right_symmetry_environment = (\n",
    "    get_left_side_right_symmetry_environment(\n",
    "        new_top_right_b_tensors,\n",
    "        bottom_right_b_tensors,\n",
    "        symmetry_transfer_matrix\n",
    "    )\n",
    ")"
   ]
  },
  {
   "cell_type": "code",
   "execution_count": 190,
   "id": "e79c9499-cd9c-4ab3-9166-6f8da788763f",
   "metadata": {},
   "outputs": [
    {
     "data": {
      "text/plain": [
       "array([[ 1.72732703e-14+0.j,  6.11011431e-16+0.j,  4.56727392e-15+0.j,\n",
       "        -8.08078494e-17+0.j],\n",
       "       [ 6.11011431e-16+0.j, -1.77764499e-14+0.j,  6.77732861e-17+0.j,\n",
       "        -5.85008877e-16+0.j],\n",
       "       [ 4.57061988e-15+0.j,  6.78546013e-17+0.j, -1.72129746e-14+0.j,\n",
       "         6.97275977e-16+0.j],\n",
       "       [-8.08078494e-17+0.j, -5.84947136e-16+0.j,  6.97275977e-16+0.j,\n",
       "         1.77927637e-14+0.j]])"
      ]
     },
     "execution_count": 190,
     "metadata": {},
     "output_type": "execute_result"
    }
   ],
   "source": [
    "left_side_right_symmetry_environment.to_ndarray()"
   ]
  },
  {
   "cell_type": "code",
   "execution_count": 191,
   "id": "cffedba3-aaaa-44ef-b459-10bd5a1696f6",
   "metadata": {},
   "outputs": [],
   "source": [
    "left_side_right_symmetry_environment = swap_left_right_indices(\n",
    "    left_side_right_symmetry_environment\n",
    ")"
   ]
  },
  {
   "cell_type": "code",
   "execution_count": 192,
   "id": "480020a0-9c3c-4abf-aa09-02910b1231b6",
   "metadata": {},
   "outputs": [],
   "source": [
    "new_left_pair = optimise_layer(\n",
    "    left_side_right_symmetry_environment,\n",
    "    top_left_b_tensors,\n",
    "    left_side_right_schmidt_values,\n",
    "    block_width,\n",
    "    block_offset,\n",
    "    left_expectations,\n",
    "    left_unitaries,\n",
    "    bottom_left_b_tensors,\n",
    "    num_iterations,\n",
    "    max_virtual_bond_dim\n",
    ")"
   ]
  },
  {
   "cell_type": "code",
   "execution_count": 193,
   "id": "99afe276-8797-48ec-9d66-aa3e7364ed6a",
   "metadata": {},
   "outputs": [
    {
     "data": {
      "text/plain": [
       "[[[7.131365778204419e-14, 7.131365778204419e-14, 7.13136577820442e-14]]]"
      ]
     },
     "execution_count": 193,
     "metadata": {},
     "output_type": "execute_result"
    }
   ],
   "source": [
    "left_expectations"
   ]
  },
  {
   "cell_type": "code",
   "execution_count": null,
   "id": "de5bc732-2557-488d-b686-d55cd1141dfc",
   "metadata": {},
   "outputs": [],
   "source": [
    "out_quad = two_sided_optimise_layer(\n",
    "    symmetry_transfer_matrix,\n",
    "    top_left_mps_tensors[-1],\n",
    "    top_right_mps_tensors[-1],\n",
    "    ,\n",
    "    ,\n",
    "    block_width,\n",
    "    block_offset,\n",
    "    current_right_expectations,\n",
    "    current_left_expectations,\n",
    "    current_left_mps_tensors,\n",
    "    current_right_mps_tensors,\n",
    "    current_left_unitaries,\n",
    "    current_right_unitaries,\n",
    "    num_iterations\n",
    ")\n",
    "\n",
    "left_pair, right_pair = out_quad\n",
    "\n",
    "top_right_mps_tensors.append(right_pair[0])\n",
    "right_side_left_schmidt_values_list.append(right_pair[1])\n",
    "\n",
    "top_left_mps_tensors.append(left_pair[0])\n",
    "left_side_right_schmidt_values_list.append(left_pair[1])"
   ]
  }
 ],
 "metadata": {
  "kernelspec": {
   "display_name": "num_spt_venv_p11",
   "language": "python",
   "name": "num_spt_venv_p11"
  },
  "language_info": {
   "codemirror_mode": {
    "name": "ipython",
    "version": 3
   },
   "file_extension": ".py",
   "mimetype": "text/x-python",
   "name": "python",
   "nbconvert_exporter": "python",
   "pygments_lexer": "ipython3",
   "version": "3.11.9"
  }
 },
 "nbformat": 4,
 "nbformat_minor": 5
}
