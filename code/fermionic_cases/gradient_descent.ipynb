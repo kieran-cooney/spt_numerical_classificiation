{
 "cells": [
  {
   "cell_type": "markdown",
   "id": "5b626275-a344-4050-b6c1-bc9eeac43ae5",
   "metadata": {},
   "source": [
    "# Gradient descent\n",
    "Created 06/05/2024\n",
    "\n",
    "Objectives:\n",
    "* Apply ADAM gradient descent algorithm to an MPO and extract cohomology.\n",
    "* Largely a copy and paste of [this](../optimisation/unitary_cost_function/hyperbolic_unitary_overlap_cost_function_adam_gradient_descent_on_two_sided_mpo_spt_extraction_sweep.ipynb)."
   ]
  },
  {
   "cell_type": "markdown",
   "id": "9ad0db4d-805c-4403-9d48-c71d523d572f",
   "metadata": {},
   "source": [
    "# Package imports"
   ]
  },
  {
   "cell_type": "code",
   "execution_count": 1,
   "id": "ecb41ea3-927f-4efa-aebe-ce15784aa037",
   "metadata": {},
   "outputs": [],
   "source": [
    "import sys"
   ]
  },
  {
   "cell_type": "code",
   "execution_count": 2,
   "id": "0375bd38-12e1-417a-908a-13fb540081f5",
   "metadata": {},
   "outputs": [],
   "source": [
    "sys.path.append(\"../\")"
   ]
  },
  {
   "cell_type": "code",
   "execution_count": 103,
   "id": "24a13885-9dbd-4e5a-abed-9a67af92458e",
   "metadata": {},
   "outputs": [],
   "source": [
    "from functools import reduce\n",
    "from operator import mul\n",
    "\n",
    "import time"
   ]
  },
  {
   "cell_type": "code",
   "execution_count": 4,
   "id": "4a525ec6-f0c8-47ee-8b0b-345bf0ef8bd3",
   "metadata": {},
   "outputs": [],
   "source": [
    "import h5py\n",
    "from tenpy.tools import hdf5_io\n",
    "import tenpy\n",
    "import tenpy.linalg.np_conserved as npc\n",
    "\n",
    "import os"
   ]
  },
  {
   "cell_type": "code",
   "execution_count": 6,
   "id": "214f688a-c657-4810-b4d1-b1247deff62c",
   "metadata": {},
   "outputs": [],
   "source": [
    "import numpy as np\n",
    "import pandas as pd\n",
    "\n",
    "rng = np.random.default_rng()\n",
    "import matplotlib.pyplot as plt"
   ]
  },
  {
   "cell_type": "code",
   "execution_count": 7,
   "id": "b7461fe3-41a3-492f-b018-8e32e27a7300",
   "metadata": {},
   "outputs": [],
   "source": [
    "import re"
   ]
  },
  {
   "cell_type": "code",
   "execution_count": 8,
   "id": "aeb48fbe-9ee7-4f88-9a91-b52643b95a4f",
   "metadata": {},
   "outputs": [],
   "source": [
    "from SPTOptimization.utils import (\n",
    "    get_right_identity_environment_from_tp_tensor,\n",
    "    get_left_identity_environment_from_tp_tensor,\n",
    "    to_npc_array,\n",
    "    get_physical_dim\n",
    ")\n",
    "\n",
    "from SPTOptimization.SymmetryActionWithBoundaryUnitaries import SymmetryActionWithBoundaryUnitaries"
   ]
  },
  {
   "cell_type": "markdown",
   "id": "0dd074eb-4e79-4a83-97a0-8f7b14c0d73a",
   "metadata": {},
   "source": [
    "# Load data"
   ]
  },
  {
   "cell_type": "code",
   "execution_count": 9,
   "id": "a073ec4a-1d8d-4786-af9f-11e750b1e3a9",
   "metadata": {},
   "outputs": [],
   "source": [
    "DATA_DIR_1 = r\"../data/interpolated_trivial_to_nontrivial_fermionic_trivial_proj_rep_200_site_dmrg/\"\n",
    "DATA_DIR_2 = r\"../data/interpolated_nontrivial_fermionic_proj_rep_to_nontrivial_proj_rep_200_site_dmrg/\""
   ]
  },
  {
   "cell_type": "code",
   "execution_count": 10,
   "id": "9fd5bc67-e5e4-4b8f-a5e4-f5120506f1ed",
   "metadata": {},
   "outputs": [],
   "source": [
    "def parse_file_name(file_name):\n",
    "    interpolation = int(file_name.split('_')[0])/100\n",
    "\n",
    "    return interpolation"
   ]
  },
  {
   "cell_type": "code",
   "execution_count": 11,
   "id": "cadba15d-69d8-4f4d-9e7e-16735328866b",
   "metadata": {},
   "outputs": [],
   "source": [
    "loaded_data_triv_proj_rep = dict()\n",
    "energies_triv_proj_rep = dict()\n",
    "\n",
    "for local_file_name in list(os.walk(DATA_DIR_1))[0][2]:\n",
    "    f_name = r\"{}/{}\".format(DATA_DIR_1, local_file_name, ignore_unknown=False)\n",
    "    with h5py.File(f_name, 'r') as f:\n",
    "        data = hdf5_io.load_from_hdf5(f)\n",
    "\n",
    "        data_info = parse_file_name(local_file_name)\n",
    "        loaded_data_triv_proj_rep[data_info]=data['wavefunction']\n",
    "        energies_triv_proj_rep[data_info]=data['energy']"
   ]
  },
  {
   "cell_type": "code",
   "execution_count": 12,
   "id": "d694f0e0-4ab2-4eea-8f21-7177abc2de50",
   "metadata": {},
   "outputs": [],
   "source": [
    "loaded_data_non_triv_proj_rep = dict()\n",
    "energies_non_triv_proj_rep = dict()\n",
    "\n",
    "for local_file_name in list(os.walk(DATA_DIR_2))[0][2]:\n",
    "    f_name = r\"{}/{}\".format(DATA_DIR_2, local_file_name, ignore_unknown=False)\n",
    "\n",
    "    with h5py.File(f_name, 'r') as f:\n",
    "        data = hdf5_io.load_from_hdf5(f)\n",
    "\n",
    "        data_info = parse_file_name(local_file_name)\n",
    "        loaded_data_non_triv_proj_rep[data_info]=data['wavefunction']\n",
    "        energies_non_triv_proj_rep[data_info]=data['energy']"
   ]
  },
  {
   "cell_type": "markdown",
   "id": "914eed85-86ca-41c9-9839-a758b596f631",
   "metadata": {},
   "source": [
    "# Definitons"
   ]
  },
  {
   "cell_type": "code",
   "execution_count": 17,
   "id": "63506364-f535-4c0f-8c5f-8839c69f7b9d",
   "metadata": {},
   "outputs": [],
   "source": [
    "MAX_VIRTUAL_BOND_DIM = 30\n",
    "MAX_INTERMEDIATE_VIRTUAL_BOND_DIM = 2*MAX_VIRTUAL_BOND_DIM\n",
    "# MPO bond dim?\n",
    "MAX_MPO_BOND_DIM = 50\n",
    "\n",
    "SVD_CUTOFF = 1e-3"
   ]
  },
  {
   "cell_type": "markdown",
   "id": "7a2700f1-9c35-422c-9f64-c1ebeae21207",
   "metadata": {},
   "source": [
    "Define bosonic symmetries. Label by the group element added."
   ]
  },
  {
   "cell_type": "code",
   "execution_count": 18,
   "id": "513d7288-c641-4071-a4a3-652787d1f98c",
   "metadata": {},
   "outputs": [],
   "source": [
    "np_00 = np.array([\n",
    "    [1, 0, 0, 0],\n",
    "    [0, 1, 0, 0],\n",
    "    [0, 0, 1, 0],\n",
    "    [0, 0, 0, 1]\n",
    "])\n",
    "\n",
    "np_01 = np.array([\n",
    "    [0, 1, 0, 0],\n",
    "    [1, 0, 0, 0],\n",
    "    [0, 0, 0, 1],\n",
    "    [0, 0, 1, 0]\n",
    "])\n",
    "\n",
    "np_10 = np.array([\n",
    "    [0, 0, 1, 0],\n",
    "    [0, 0, 0, 1],\n",
    "    [1, 0, 0, 0],\n",
    "    [0, 1, 0, 0]\n",
    "])\n",
    "\n",
    "np_11 = np.array([\n",
    "    [0, 0, 0, 1],\n",
    "    [0, 0, 1, 0],\n",
    "    [0, 1, 0, 0],\n",
    "    [1, 0, 0, 0]\n",
    "])"
   ]
  },
  {
   "cell_type": "code",
   "execution_count": 19,
   "id": "c83907c6-e86f-48af-a2a1-11b250f47e84",
   "metadata": {},
   "outputs": [],
   "source": [
    "bosonic_np_symmetries = [\n",
    "    np_00,\n",
    "    np_01,\n",
    "    np_10,\n",
    "    np_11\n",
    "]"
   ]
  },
  {
   "cell_type": "code",
   "execution_count": 20,
   "id": "fd7c7309-10ee-4834-b153-9a4121462fca",
   "metadata": {},
   "outputs": [],
   "source": [
    "bosonic_npc_symmetries = [\n",
    "    to_npc_array(X) for X in bosonic_np_symmetries\n",
    "]"
   ]
  },
  {
   "cell_type": "code",
   "execution_count": 21,
   "id": "2a78a62e-37eb-4baf-98ba-d6a94d599bec",
   "metadata": {},
   "outputs": [],
   "source": [
    "npc_00 = to_npc_array(np_00)\n",
    "npc_01 = to_npc_array(np_01)\n",
    "npc_10 = to_npc_array(np_10)\n",
    "npc_11 = to_npc_array(np_11)"
   ]
  },
  {
   "cell_type": "markdown",
   "id": "5c8a3f80-d770-441f-baad-5ab9ac713e51",
   "metadata": {},
   "source": [
    "Define \"fermionic symmetries\". Just identity and JW string."
   ]
  },
  {
   "cell_type": "code",
   "execution_count": 22,
   "id": "a1c64bf0-4b2e-4492-b242-3dae6eb527c3",
   "metadata": {},
   "outputs": [],
   "source": [
    "np_I = np.array([\n",
    "    [1, 0],\n",
    "    [0, 1]\n",
    "])\n",
    "\n",
    "np_JW = np.array([\n",
    "    [1, 0],\n",
    "    [0, -1]\n",
    "])"
   ]
  },
  {
   "cell_type": "code",
   "execution_count": 23,
   "id": "e595ca13-740a-41a3-a658-8831c8f54323",
   "metadata": {},
   "outputs": [],
   "source": [
    "fermionic_np_symmetries = [np_I, np_JW]"
   ]
  },
  {
   "cell_type": "code",
   "execution_count": 24,
   "id": "6e5b6ad0-2496-4072-afe9-c41fc62da40e",
   "metadata": {},
   "outputs": [],
   "source": [
    "fermionic_npc_symmetries = [\n",
    "    to_npc_array(X) for X in fermionic_np_symmetries\n",
    "]"
   ]
  },
  {
   "cell_type": "code",
   "execution_count": 25,
   "id": "a2b43b48-e438-4702-8287-f5d27fc47f7b",
   "metadata": {},
   "outputs": [],
   "source": [
    "npc_JW = fermionic_npc_symmetries[1]"
   ]
  },
  {
   "cell_type": "code",
   "execution_count": 26,
   "id": "b9e2f954-c591-4479-ba37-32862c25c660",
   "metadata": {},
   "outputs": [],
   "source": [
    "symmetry_actions = [\n",
    "    [[b, f] for b in bosonic_np_symmetries]\n",
    "    for f in fermionic_np_symmetries\n",
    "]"
   ]
  },
  {
   "cell_type": "code",
   "execution_count": 27,
   "id": "8c945b86-cec1-4b08-930f-1922b7e1bea6",
   "metadata": {},
   "outputs": [],
   "source": [
    "shifted_symmetry_actions = [\n",
    "    [[f, b] for b in bosonic_np_symmetries]\n",
    "    for f in fermionic_np_symmetries\n",
    "]"
   ]
  },
  {
   "cell_type": "code",
   "execution_count": 28,
   "id": "ac19b501-4293-4d08-8bb0-35515cd6a093",
   "metadata": {},
   "outputs": [],
   "source": [
    "cases_triv_proj_rep = dict()\n",
    "\n",
    "for k, psi in loaded_data_triv_proj_rep.items():\n",
    "\n",
    "    for i, l in enumerate(symmetry_actions):\n",
    "\n",
    "        for j, s in enumerate(l):\n",
    "            case = SymmetryActionWithBoundaryUnitaries(\n",
    "                psi,\n",
    "                s*40,\n",
    "                left_symmetry_index=60,\n",
    "                left_boundary_unitaries=[np_I, np_00]*1,\n",
    "                right_boundary_unitaries=[np_00, np_I]*1\n",
    "            )\n",
    "\n",
    "            cases_triv_proj_rep[(k, i, j)] = case"
   ]
  },
  {
   "cell_type": "code",
   "execution_count": 29,
   "id": "8e7ff810-32b3-4163-9b1b-ca96a282a7f5",
   "metadata": {},
   "outputs": [],
   "source": [
    "for c in cases_triv_proj_rep.values():\n",
    "    c.compute_svd_approximate_expectation()"
   ]
  },
  {
   "cell_type": "code",
   "execution_count": 30,
   "id": "d5a75573-aebb-4b9c-904f-342f9f57c345",
   "metadata": {},
   "outputs": [],
   "source": [
    "cases_non_triv_proj_rep = dict()\n",
    "\n",
    "for k, psi in loaded_data_non_triv_proj_rep.items():\n",
    "\n",
    "    for i, l in enumerate(symmetry_actions):\n",
    "\n",
    "        for j, s in enumerate(l):\n",
    "            case = SymmetryActionWithBoundaryUnitaries(\n",
    "                psi,\n",
    "                s*40,\n",
    "                left_symmetry_index=60,\n",
    "                left_boundary_unitaries=[np_I, np_00]*1,\n",
    "                right_boundary_unitaries=[np_00, np_I]*1\n",
    "            )\n",
    "\n",
    "            cases_non_triv_proj_rep[(k, i, j)] = case"
   ]
  },
  {
   "cell_type": "code",
   "execution_count": 31,
   "id": "8d8df7a6-3e0c-4e4f-bc02-97d989f2c6e1",
   "metadata": {},
   "outputs": [],
   "source": [
    "for c in cases_non_triv_proj_rep.values():\n",
    "    c.compute_svd_approximate_expectation()"
   ]
  },
  {
   "cell_type": "code",
   "execution_count": 32,
   "id": "6bac53fa-b629-46fc-a145-f932a0af6f18",
   "metadata": {},
   "outputs": [],
   "source": [
    "left_trivial_leg_charge = tenpy.linalg.charges.LegCharge(\n",
    "    tenpy.linalg.charges.ChargeInfo([], []),\n",
    "    [0,1],\n",
    "    [[]],\n",
    "    qconj=1\n",
    ")"
   ]
  },
  {
   "cell_type": "code",
   "execution_count": 33,
   "id": "44f34cb7-0888-474b-9483-f4956951fc31",
   "metadata": {},
   "outputs": [],
   "source": [
    "right_trivial_leg_charge = tenpy.linalg.charges.LegCharge(\n",
    "    tenpy.linalg.charges.ChargeInfo([], []),\n",
    "    [0,1],\n",
    "    [[]],\n",
    "    qconj=-1\n",
    ")"
   ]
  },
  {
   "cell_type": "markdown",
   "id": "5ee06cdc-8577-460b-82cb-2110e47c931a",
   "metadata": {},
   "source": [
    "## Functions"
   ]
  },
  {
   "cell_type": "code",
   "execution_count": 34,
   "id": "f7500fa8-a1c6-45bf-949b-53a7526a5be9",
   "metadata": {},
   "outputs": [],
   "source": [
    "def get_physical_dim(tensor, p_label='p'):\n",
    "    index = tensor.get_leg_index(p_label)\n",
    "    dim = tensor.shape[index]\n",
    "    return dim"
   ]
  },
  {
   "cell_type": "code",
   "execution_count": 35,
   "id": "ba98ff84-8c5c-4f71-aa88-abbe2b839bff",
   "metadata": {},
   "outputs": [],
   "source": [
    "def mpo_frobenius_inner_product(mpo1_tensors, mpo2_tensors=None):\n",
    "    if mpo2_tensors is None:\n",
    "        mpo2_tensors = mpo1_tensors\n",
    "\n",
    "    w1 = mpo1_tensors[0]\n",
    "    dim = get_physical_dim(w1, p_label='p')\n",
    "    w2 = mpo2_tensors[0]\n",
    "\n",
    "    t = npc.tensordot(w1, w2.conj(), [['p', 'p*'], ['p*', 'p']])\n",
    "    #t /= dim\n",
    "\n",
    "    for w1, w2 in zip(mpo1_tensors[1:], mpo2_tensors[1:]):\n",
    "        dim = get_physical_dim(w1, p_label='p')\n",
    "\n",
    "        t = npc.tensordot(t, w1, [['vR', ], ['vL']])\n",
    "        t = npc.tensordot(t, w2.conj(), [['vR*', 'p', 'p*'], ['vL*', 'p*', 'p']])\n",
    "        #t /= dim\n",
    "\n",
    "    return t"
   ]
  },
  {
   "cell_type": "code",
   "execution_count": 36,
   "id": "2e202c02-6390-49eb-9b99-32147572b6fa",
   "metadata": {},
   "outputs": [],
   "source": [
    "def unitary_order_two_right_tensors(w_tensors):\n",
    "    out = list()\n",
    "\n",
    "    w = w_tensors[-1]\n",
    "    t = npc.tensordot(w, w.conj(), [['p', 'p*'], ['p*', 'p']])\n",
    "\n",
    "    out.append(t)\n",
    "\n",
    "    for w in w_tensors[-2:0:-1]:\n",
    "        t = npc.tensordot(t, w, [['vL',], ['vR']])\n",
    "        t = npc.tensordot(t, w.conj(), [['vL*', 'p', 'p*'], ['vR*', 'p*', 'p']])\n",
    "\n",
    "        out.append(t)\n",
    "\n",
    "    return out[::-1]"
   ]
  },
  {
   "cell_type": "code",
   "execution_count": 37,
   "id": "e12a7b85-584a-4b5c-8c12-039cc8752ca8",
   "metadata": {},
   "outputs": [],
   "source": [
    "def unitary_order_four_right_tensors(w_tensors):\n",
    "    out = list()\n",
    "\n",
    "    w = w_tensors[-1]\n",
    "    t = npc.tensordot(w, w.conj(), [['p',], ['p*',]])\n",
    "    t.ireplace_labels(['vL', 'vL*'], ['vL1', 'vL1*'])\n",
    "    t = npc.tensordot(t, w, [['p',], ['p*',]])\n",
    "    t = npc.tensordot(t, w.conj(), [['p', 'p*'], ['p*', 'p']])\n",
    "    \n",
    "    out.append(t)\n",
    "\n",
    "    for w in w_tensors[-2:0:-1]:\n",
    "        t = npc.tensordot(t, w, [['vL',], ['vR',]])\n",
    "        t = npc.tensordot(t, w.conj(), [['vL*', 'p'], ['vR*', 'p*']])\n",
    "\n",
    "        w = w.replace_label('vL', 'vL1')\n",
    "    \n",
    "        t = npc.tensordot(t, w, [['vL1', 'p',], ['vR', 'p*']])\n",
    "        t = npc.tensordot(t, w.conj(), [['vL1*', 'p', 'p*'], ['vR*', 'p*', 'p']])\n",
    "\n",
    "        out.append(t)\n",
    "\n",
    "    return out[::-1]"
   ]
  },
  {
   "cell_type": "code",
   "execution_count": 38,
   "id": "d16af878-4506-4fd0-8e37-92a6d7e1360d",
   "metadata": {},
   "outputs": [],
   "source": [
    "def overlap_right_tensors(w_tensors, b_tensors):\n",
    "    out = list()\n",
    "\n",
    "    t = get_right_identity_environment_from_tp_tensor(b_tensors[-1])\n",
    "\n",
    "    out.append(t)\n",
    "\n",
    "    # First site\n",
    "    b = b_tensors[-1]\n",
    "    w = w_tensors[-1]\n",
    "    \n",
    "    t = npc.tensordot(t, b, [['vL',], ['vR',]])\n",
    "    t = npc.tensordot(\n",
    "        t,\n",
    "        w.replace_label('vL', 'vLm'),\n",
    "        [['p',], ['p*',]]\n",
    "    )\n",
    "    t = npc.tensordot(t, b.conj(), [['p', 'vL*',], ['p*', 'vR*',]])\n",
    "\n",
    "    out.append(t)\n",
    "\n",
    "    # Inner sites\n",
    "    for w, b in zip(w_tensors[-2:0:-1], b_tensors[-2:0:-1]):\n",
    "        t = npc.tensordot(t, b, [['vL',], ['vR',]])\n",
    "        t = npc.tensordot(\n",
    "            t,\n",
    "            w.replace_label('vL', 'vLm'),\n",
    "            [['p', 'vLm'], ['p*', 'vR']]\n",
    "        )\n",
    "        t = npc.tensordot(t, b.conj(), [['p', 'vL*',], ['p*', 'vR*',]])\n",
    "    \n",
    "        out.append(t)\n",
    "\n",
    "    # Last site\n",
    "    b = b_tensors[0]\n",
    "    w = w_tensors[0]\n",
    "\n",
    "    t = npc.tensordot(t, b, [['vL',], ['vR',]])\n",
    "    t = npc.tensordot(\n",
    "        t,\n",
    "        w,\n",
    "        [['p', 'vLm'], ['p*', 'vR']]\n",
    "    )\n",
    "    t = npc.tensordot(t, b.conj(), [['p', 'vL*',], ['p*', 'vR*',]])\n",
    "\n",
    "    out.append(t)\n",
    "\n",
    "    return out[::-1]"
   ]
  },
  {
   "cell_type": "markdown",
   "id": "3b1fda53-6670-4188-b86e-d2809f353b43",
   "metadata": {},
   "source": [
    "### Initialize tensors"
   ]
  },
  {
   "cell_type": "code",
   "execution_count": 39,
   "id": "6663e659-fb23-426d-afc6-70a00d2984d3",
   "metadata": {},
   "outputs": [],
   "source": [
    "def rescale_mpo_tensors(mpo_tensors, new_norm):\n",
    "    num_sites = len(mpo_tensors)\n",
    "\n",
    "    old_norm = mpo_frobenius_inner_product(mpo_tensors).real\n",
    "    \n",
    "    scale_factor = np.power(\n",
    "        new_norm/old_norm,\n",
    "        1/(2*num_sites)\n",
    "    )\n",
    "\n",
    "    for i in range(num_sites):\n",
    "        mpo_tensors[i] = scale_factor*mpo_tensors[i]"
   ]
  },
  {
   "cell_type": "code",
   "execution_count": 40,
   "id": "4c09d507-0f5d-486e-bb5e-22f8d35a9fc3",
   "metadata": {},
   "outputs": [],
   "source": [
    "def generate_random_w_tensor(physical_dim, left_virtual_dim=None,\n",
    "                             right_virtual_dim=None):\n",
    "\n",
    "    if (left_virtual_dim is None) and (right_virtual_dim is None):\n",
    "        dims = (physical_dim, physical_dim)\n",
    "    elif (left_virtual_dim is None):\n",
    "        dims = (physical_dim, physical_dim, right_virtual_dim)\n",
    "    elif (right_virtual_dim is None):\n",
    "        dims = (physical_dim, physical_dim, left_virtual_dim)\n",
    "    else: \n",
    "        dims = (\n",
    "            physical_dim,\n",
    "            physical_dim,\n",
    "            left_virtual_dim,\n",
    "            right_virtual_dim\n",
    "        )\n",
    "    \n",
    "    X1 = rng.normal(size=dims)\n",
    "    X2 = 1j*rng.normal(size=dims)\n",
    "    X = X1 + X2\n",
    "\n",
    "        \n",
    "    if (left_virtual_dim is None) and (right_virtual_dim is None):\n",
    "        out = npc.Array.from_ndarray_trivial(X, labels=['p', 'p*'])\n",
    "    elif right_virtual_dim is None:\n",
    "        out = npc.Array.from_ndarray_trivial(X, labels=['p', 'p*', 'vL'])\n",
    "    elif left_virtual_dim is None:\n",
    "        out = npc.Array.from_ndarray_trivial(X, labels=['p', 'p*', 'vR'])\n",
    "    else:\n",
    "        out = npc.Array.from_ndarray_trivial(\n",
    "            X,\n",
    "            labels=['p', 'p*', 'vL', 'vR']\n",
    "        )\n",
    "\n",
    "    return out"
   ]
  },
  {
   "cell_type": "code",
   "execution_count": 41,
   "id": "e779de84-d12b-4de3-b9d8-004bdf6e47bd",
   "metadata": {},
   "outputs": [],
   "source": [
    "def get_random_mpo_tensors(num_sites, norm=None):\n",
    "    \"\"\"\n",
    "    Needs more arguments\n",
    "    \"\"\"\n",
    "\n",
    "    w = generate_random_w_tensor(edge_dims)\n",
    "    w_tensor = npc.Array.from_ndarray_trivial(\n",
    "        w,\n",
    "        labels=['p', 'p*', 'vR']\n",
    "    )\n",
    "\n",
    "    w_tensors = [w_tensor,]\n",
    "\n",
    "    for _ in range(num_sites-2):\n",
    "        w = generate_random_w_tensor(inner_dims)\n",
    "        w_tensor = npc.Array.from_ndarray_trivial(w, labels=['p', 'p*', 'vL', 'vR'])\n",
    "        \n",
    "        w_tensors.append(w_tensor)\n",
    "\n",
    "    w = generate_random_w_tensor(edge_dims)\n",
    "    w_tensor = npc.Array.from_ndarray_trivial(\n",
    "        w,\n",
    "        labels=['p', 'p*', 'vL']\n",
    "    )\n",
    "    w_tensors.append(w_tensor)\n",
    "\n",
    "    if norm is not None:\n",
    "        rescale_mpo_tensors(w_tensors, norm)\n",
    "\n",
    "    return w_tensors"
   ]
  },
  {
   "cell_type": "code",
   "execution_count": 42,
   "id": "3ffba566-177e-46a4-bb02-953f6a6c8250",
   "metadata": {},
   "outputs": [],
   "source": [
    "def get_identity_w_tensor(physical_dim, left_virtual_dim=None, right_virtual_dim=None):\n",
    "    diagonal = np.ones(physical_dim, dtype='complex')\n",
    "    identity_matrix = np.diag(diagonal)\n",
    "    \n",
    "    if (left_virtual_dim is None) and (right_virtual_dim is None):\n",
    "        w_tensor = npc.Array.from_ndarray_trivial(\n",
    "            identity_matrix,\n",
    "            labels=['p', 'p*']\n",
    "        )\n",
    "    elif right_virtual_dim is None:\n",
    "        X = np.zeros(\n",
    "            (physical_dim, physical_dim, left_virtual_dim),\n",
    "            dtype='complex'\n",
    "        )\n",
    "        X[...,0] = identity_matrix\n",
    "        w_tensor = npc.Array.from_ndarray_trivial(\n",
    "            X,\n",
    "            labels=['p', 'p*', 'vL']\n",
    "        )\n",
    "    elif left_virtual_dim is None:\n",
    "        X = np.zeros(\n",
    "            (physical_dim, physical_dim, right_virtual_dim),\n",
    "            dtype='complex'\n",
    "        )\n",
    "        X[...,0] = identity_matrix\n",
    "        w_tensor = npc.Array.from_ndarray_trivial(\n",
    "            X,\n",
    "            labels=['p', 'p*', 'vR']\n",
    "        )\n",
    "    else:\n",
    "        X = np.zeros(\n",
    "            (physical_dim, physical_dim, left_virtual_dim, right_virtual_dim),\n",
    "            dtype='complex'\n",
    "        )\n",
    "        X[...,0,0] = identity_matrix\n",
    "        w_tensor = npc.Array.from_ndarray_trivial(\n",
    "            X,\n",
    "            labels=['p', 'p*', 'vL', 'vR']\n",
    "        )\n",
    "\n",
    "    return w_tensor"
   ]
  },
  {
   "cell_type": "code",
   "execution_count": 43,
   "id": "0e11bd70-f8d2-4254-870c-75620f9da400",
   "metadata": {},
   "outputs": [],
   "source": [
    "def get_random_mpo_tensors(physical_dims, virtual_dims):\n",
    "    \"\"\"\n",
    "    Could fold in with get_identity_mpo_tensors\n",
    "    \"\"\"\n",
    "\n",
    "    w_tensors = [\n",
    "        generate_random_w_tensor(p_dim, *v_dims)\n",
    "        for p_dim, v_dims in zip(physical_dims, virtual_dims)\n",
    "    ]\n",
    "\n",
    "    return w_tensors"
   ]
  },
  {
   "cell_type": "code",
   "execution_count": 44,
   "id": "416a67d2-bf88-4655-8ffb-c7d7e0afff98",
   "metadata": {},
   "outputs": [],
   "source": [
    "def get_identity_mpo_tensors(physical_dims, virtual_dims):\n",
    "    \"\"\"\n",
    "    Needs more comments, docs!\n",
    "\n",
    "    Often physical dims, virtual dims will be the same, so could add\n",
    "    optional behaviour...\n",
    "    \"\"\"\n",
    "\n",
    "    w_tensors = [\n",
    "        get_identity_w_tensor(p_dim, *v_dims)\n",
    "        for p_dim, v_dims in zip(physical_dims, virtual_dims)\n",
    "    ]\n",
    "\n",
    "    return w_tensors"
   ]
  },
  {
   "cell_type": "markdown",
   "id": "e57bf0ac-6b4d-4988-98e7-fe319d6166c1",
   "metadata": {},
   "source": [
    "### ADAM functions"
   ]
  },
  {
   "cell_type": "code",
   "execution_count": 45,
   "id": "7ebe448b-1c37-4bb0-ba43-72ee28829714",
   "metadata": {},
   "outputs": [],
   "source": [
    "def squared_components(X):\n",
    "    r, i = (X.real, X.imag)\n",
    "    return r**2 + 1j*(i**2)"
   ]
  },
  {
   "cell_type": "code",
   "execution_count": 46,
   "id": "31b74760-623b-4dd4-a319-24e51b4f08f9",
   "metadata": {},
   "outputs": [],
   "source": [
    "def square_root_components(X):\n",
    "    r, i = (X.real, X.imag)\n",
    "    return np.sqrt(r) + 1j*np.sqrt(i)"
   ]
  },
  {
   "cell_type": "code",
   "execution_count": 47,
   "id": "91bff15c-8ecf-44a9-995f-b7f4b8f0615c",
   "metadata": {},
   "outputs": [],
   "source": [
    "class AdamTenpy:\n",
    "    def __init__(self, alpha=0.001, beta_1=0.9, beta_2=0.999, epsilon=1e-8):\n",
    "        self.alpha = alpha\n",
    "        self.beta_1 = beta_1\n",
    "        self.beta_2 = beta_2\n",
    "        self.epsilon = epsilon\n",
    "\n",
    "        self.moment_1 = None\n",
    "        self.moment_2 = None\n",
    "\n",
    "    def update(self, grad):\n",
    "        if self.moment_1 is None:\n",
    "            self.moment_1 = (1-self.beta_1)*grad\n",
    "        else:\n",
    "            self.moment_1 = self.beta_1*self.moment_1 + (1-self.beta_1)*grad\n",
    "\n",
    "        grad_squared = grad.unary_blockwise(squared_components)\n",
    "        if self.moment_2 is None:\n",
    "            self.moment_2 = (1-self.beta_2)*grad_squared\n",
    "        else:\n",
    "            self.moment_2 = self.beta_2*self.moment_2 + (1-self.beta_2)*grad_squared\n",
    "\n",
    "        self.moment_1 /= (1-self.beta_1)\n",
    "        self.moment_2 /= (1-self.beta_2)\n",
    "\n",
    "        out_grad_denom = (\n",
    "            self.moment_2\n",
    "            .unary_blockwise(square_root_components)\n",
    "            .unary_blockwise(lambda x: x + (1+1j)*self.epsilon)\n",
    "        )\n",
    "\n",
    "        out_grad = (\n",
    "            self.moment_1\n",
    "            .binary_blockwise(np.divide, out_grad_denom)\n",
    "        )\n",
    "\n",
    "        return self.alpha*out_grad"
   ]
  },
  {
   "cell_type": "markdown",
   "id": "c2919303-4883-4327-9b56-743be48ebb53",
   "metadata": {},
   "source": [
    "### Sweep function"
   ]
  },
  {
   "cell_type": "code",
   "execution_count": 48,
   "id": "94c08580-6ab0-4501-8e41-1517ea118eb5",
   "metadata": {},
   "outputs": [],
   "source": [
    "def mpo_tensor_raw_to_gradient(raw_mpo_tensor, gradient_target_tensor):\n",
    "    \"\"\"\n",
    "    Update raw_mpo_tensor calculated to be the gradient by changing leg names\n",
    "    as neeeded so can be easily and consistently added to\n",
    "    gradient_target_tensor.\n",
    "    \"\"\"\n",
    "    leg_labels = raw_mpo_tensor.get_leg_labels()\n",
    "\n",
    "    # First update the virtual legs\n",
    "    old_new_leg_label_pairs = [\n",
    "        ('vL*', 'vR'),\n",
    "        ('vR*', 'vL'),\n",
    "        ('vL1*', 'vR'),\n",
    "        ('vR1*', 'vL'),\n",
    "        ('vLm', 'vR'),\n",
    "        ('vRm', 'vL'),\n",
    "    ]\n",
    "\n",
    "    for old, new in old_new_leg_label_pairs:\n",
    "        if old in leg_labels:\n",
    "            raw_mpo_tensor.ireplace_label(old, new)\n",
    "\n",
    "    # Then create new array to get the physical legs correct.\n",
    "    # Is this consistent? Should set order of leg labels on raw_mpo_tensor\n",
    "    # before casting to array?\n",
    "    out = npc.Array.from_ndarray_trivial(\n",
    "        raw_mpo_tensor.to_ndarray(),\n",
    "        labels=raw_mpo_tensor.get_leg_labels()\n",
    "    )\n",
    "\n",
    "    out.itranspose(gradient_target_tensor.get_leg_labels())\n",
    "\n",
    "    return out"
   ]
  },
  {
   "cell_type": "code",
   "execution_count": 49,
   "id": "aa8f1c2b-a2fe-4851-b802-2418f619ce7e",
   "metadata": {},
   "outputs": [],
   "source": [
    "def update_mpo_score(raw_gradient_mpo_tensor, gradient_target_tensor,\n",
    "                     virtual_legs=[['vL*', 'vR*',], ['vR*', 'vL*',]],\n",
    "                     take_abs=False\n",
    "                    ):\n",
    "    # Calculate \"score\" (just the contraction of the two relevant tensors)\n",
    "    raw_legs, target_legs = virtual_legs\n",
    "\n",
    "    score = npc.tensordot(\n",
    "        raw_gradient_mpo_tensor,\n",
    "        gradient_target_tensor.conj(),\n",
    "        [['p', 'p*', *raw_legs], ['p*', 'p', *target_legs]]\n",
    "    )\n",
    "\n",
    "    if take_abs:\n",
    "        real_score = np.abs(score)\n",
    "    else:\n",
    "        real_score = score.real\n",
    "\n",
    "    return score"
   ]
  },
  {
   "cell_type": "code",
   "execution_count": 75,
   "id": "a35f4a5f-aa5f-49e7-a87b-c271d442025f",
   "metadata": {},
   "outputs": [],
   "source": [
    "def mpo_gradient_descent_sweep(mpo_tensors, b_tensors, total_dimension,\n",
    "    right_overlap_tensors, unitarity_learning_rate, overlap_learning_rate,\n",
    "    overlap_target, left_environment, adam_optimizers):\n",
    "    \"\"\"\n",
    "    Really need to tidy this function up...\n",
    "\n",
    "    Also get matrix_dim directly from tensors.\n",
    "    \"\"\"\n",
    "    # Initialise list of gradients to be filled\n",
    "    grads = list()\n",
    "\n",
    "    # Initialise variables\n",
    "    right_unitary_two_tensors = unitary_order_two_right_tensors(mpo_tensors)\n",
    "    right_unitary_four_tensors = unitary_order_four_right_tensors(mpo_tensors)\n",
    "    \n",
    "    left_unitary_two_tensors = list()\n",
    "    left_unitary_four_tensors = list()\n",
    "    left_overlap_tensors = list()\n",
    "\n",
    "    num_sites = len(mpo_tensors)\n",
    "    assert len(mpo_tensors) == len(b_tensors)\n",
    "\n",
    "    # Leftmost site\n",
    "    w = mpo_tensors[0]\n",
    "    b = b_tensors[0]\n",
    "\n",
    "    t = right_unitary_two_tensors[0]\n",
    "\n",
    "    # Second order terms\n",
    "    grad_2 = npc.tensordot(t, w, [['vL'], ['vR',]])\n",
    "\n",
    "    order_2_score = update_mpo_score(\n",
    "        grad_2,\n",
    "        w,\n",
    "        [['vL*',], ['vR*',]]\n",
    "    )\n",
    "\n",
    "    grad_2 = mpo_tensor_raw_to_gradient(grad_2, w)\n",
    "\n",
    "    # Fourth order terms\n",
    "    t = right_unitary_four_tensors[0]\n",
    "\n",
    "    grad_4 = npc.tensordot(t, w, [['vL'], ['vR',]])\n",
    "    grad_4 = npc.tensordot(grad_4, w.conj(), [['vL*', 'p'], ['vR*', 'p*']])\n",
    "    grad_4 = npc.tensordot(grad_4, w, [['vL1', 'p'], ['vR', 'p*']])\n",
    "\n",
    "    order_4_score = update_mpo_score(\n",
    "        grad_4,\n",
    "        w,\n",
    "        [['vL1*',], ['vR*',]]\n",
    "    )\n",
    "\n",
    "    grad_4 = mpo_tensor_raw_to_gradient(grad_4, w)\n",
    "\n",
    "    unitary_score = order_4_score - 2*order_2_score + total_dimension\n",
    "    unitary_grad = (grad_4 - grad_2)/np.sqrt(1+unitary_score)\n",
    "    \n",
    "    # Overlap terms\n",
    "    t = right_overlap_tensors[0].conj().replace_label('vLm*', 'vLm')\n",
    "\n",
    "    grad_o = npc.tensordot(t, b, [['vL'], ['vR',]])\n",
    "    grad_o = npc.tensordot(grad_o, b.conj(), [['vL*',], ['vR*',]])\n",
    "    grad_o = npc.tensordot(grad_o, left_environment, [['vL', 'vL*'], ['vR', 'vR*']])\n",
    "\n",
    "    c_conj = update_mpo_score(\n",
    "        grad_o,\n",
    "        w,\n",
    "        [['vLm',], ['vR*',]],\n",
    "        take_abs=True\n",
    "    )\n",
    "    c = c_conj.conjugate()\n",
    "    c_abs = np.abs(c)\n",
    "    \n",
    "    grad_o_scale = c*(1 - overlap_target/c_abs)\n",
    "    grad_o = grad_o_scale*grad_o\n",
    "    grad_o = mpo_tensor_raw_to_gradient(grad_o, w)\n",
    "\n",
    "    grad = (\n",
    "        unitarity_learning_rate*unitary_grad +\n",
    "        overlap_learning_rate*grad_o\n",
    "    )\n",
    "    adam_grad = adam_optimizers[0].update(grad)\n",
    "    grads.append(adam_grad)\n",
    "\n",
    "    # Create and save left tensors\n",
    "    t = npc.tensordot(w, w.conj(), [['p', 'p*'], ['p*', 'p']])\n",
    "    left_unitary_two_tensors.append(t)\n",
    "    \n",
    "    t = npc.tensordot(w, w.conj(), [['p',], ['p*',]])\n",
    "    t.ireplace_labels(['vR', 'vR*'], ['vR1', 'vR1*'])\n",
    "    t = npc.tensordot(t, w, [['p',], ['p*',]])\n",
    "    t = npc.tensordot(t, w.conj(), [['p', 'p*'], ['p*', 'p']])\n",
    "    \n",
    "    left_unitary_four_tensors.append(t)\n",
    "\n",
    "    t = npc.tensordot(b, w.conj(), [['p',], ['p*',]])\n",
    "    #print(t)\n",
    "    t.ireplace_label('vR*', 'vRm')\n",
    "    #print(t)\n",
    "    t = npc.tensordot(t, left_environment, [['vL',], ['vR',]])\n",
    "    #print(t)\n",
    "    t = npc.tensordot(t, b.conj(), [['vR*', 'p'], ['vL*', 'p*']])\n",
    "\n",
    "    #print(t)\n",
    "\n",
    "    left_overlap_tensors.append(t)\n",
    "\n",
    "    # Inner sites\n",
    "    for i in range(1, num_sites-1):\n",
    "        w = mpo_tensors[i]\n",
    "        b = b_tensors[i]\n",
    "    \n",
    "        right_two_tensor = right_unitary_two_tensors[i]\n",
    "        right_four_tensor = right_unitary_four_tensors[i]\n",
    "        right_overlap_tensor = right_overlap_tensors[i].conj().replace_label('vLm*', 'vLm')\n",
    "\n",
    "        # Order two terms\n",
    "        left_two_tensor = left_unitary_two_tensors[-1]\n",
    "\n",
    "        grad_2 = npc.tensordot(right_two_tensor, w, [['vL'], ['vR',]])\n",
    "        grad_2 = npc.tensordot(grad_2, left_two_tensor, [['vL'], ['vR',]])\n",
    "\n",
    "        grad_2 = mpo_tensor_raw_to_gradient(grad_2, w)\n",
    "\n",
    "        # Order four terms\n",
    "        left_four_tensor = left_unitary_four_tensors[-1]\n",
    "\n",
    "        grad_4 = npc.tensordot(right_four_tensor, w, [['vL'], ['vR',]])\n",
    "        grad_4 = npc.tensordot(grad_4, w.conj(), [['vL*', 'p'], ['vR*', 'p*']])\n",
    "\n",
    "        grad_4 = npc.tensordot(\n",
    "            grad_4,\n",
    "            w.replace_label('vL', 'vL1'),\n",
    "            [['vL1', 'p'], ['vR', 'p*']]\n",
    "        )\n",
    "\n",
    "        grad_4 = npc.tensordot(\n",
    "            grad_4,\n",
    "            left_four_tensor,\n",
    "            [['vL', 'vL*', 'vL1'], ['vR', 'vR*', 'vR1']]\n",
    "        )\n",
    "\n",
    "        grad_4 = mpo_tensor_raw_to_gradient(grad_4, w)\n",
    "\n",
    "        unitary_grad = (grad_4 - grad_2)/np.sqrt(1+unitary_score)\n",
    "    \n",
    "        # Overlap terms\n",
    "        left_overlap_tensor = left_overlap_tensors[-1]\n",
    "\n",
    "        grad_o = npc.tensordot(right_overlap_tensor, b, [['vL',], ['vR',]])\n",
    "        grad_o = npc.tensordot(grad_o, b.conj(), [['vL*',], ['vR*',]])\n",
    "        grad_o = npc.tensordot(\n",
    "            grad_o,\n",
    "            left_overlap_tensor,\n",
    "            [['vL*', 'vL'], ['vR', 'vR*',]]\n",
    "        )\n",
    "\n",
    "        grad_o = grad_o_scale*grad_o\n",
    "        grad_o = mpo_tensor_raw_to_gradient(grad_o, w)\n",
    "\n",
    "        grad = (\n",
    "            unitarity_learning_rate*unitary_grad +\n",
    "            overlap_learning_rate*grad_o\n",
    "        )\n",
    "        adam_grad = adam_optimizers[i].update(grad)\n",
    "        grads.append(adam_grad)\n",
    "\n",
    "        # Update left tensors\n",
    "        t = npc.tensordot(left_two_tensor, w, [['vR',], ['vL']])\n",
    "        t = npc.tensordot(\n",
    "            t,\n",
    "            w.conj(),\n",
    "            [['vR*', 'p', 'p*'], ['vL*', 'p*', 'p']]\n",
    "        )\n",
    "        \n",
    "        left_unitary_two_tensors.append(t)\n",
    "        \n",
    "        t = npc.tensordot(left_four_tensor, w, [['vR',], ['vL']])\n",
    "        t = npc.tensordot(t, w.conj(), [['vR*', 'p'], ['vL*', 'p*']])\n",
    "        t = npc.tensordot(\n",
    "            t,\n",
    "            w.replace_label('vR', 'vR1'),\n",
    "            [['p', 'vR1'], ['p*', 'vL']]\n",
    "        )\n",
    "        t = npc.tensordot(\n",
    "            t,\n",
    "            w.conj().replace_label('vR*', 'vR1*'),\n",
    "            [['p', 'p*', 'vR1*'], ['p*', 'p', 'vL*']]\n",
    "        )\n",
    "        \n",
    "        left_unitary_four_tensors.append(t)\n",
    "\n",
    "        t = left_overlap_tensor.ireplace_label('vR*', 'vR1*')\n",
    "        t = npc.tensordot(\n",
    "            left_overlap_tensor,\n",
    "            w.conj(),\n",
    "            [['vRm',], ['vL*']]\n",
    "        )\n",
    "        t.ireplace_label('vR*', 'vRm')\n",
    "        t = npc.tensordot(t, b, [['vR', 'p*'], ['vL', 'p']])\n",
    "        t = npc.tensordot(t, b.conj(), [['vR1*', 'p'], ['vL*', 'p*']])\n",
    "\n",
    "        left_overlap_tensors.append(t)\n",
    "\n",
    "    # Last site\n",
    "    left_two_tensor = left_unitary_two_tensors[-1]\n",
    "    w = mpo_tensors[-1]\n",
    "    b = b_tensors[-1]\n",
    "    \n",
    "    grad_2 = npc.tensordot(left_two_tensor, w, [['vR'], ['vL',]])\n",
    "    grad_2 = mpo_tensor_raw_to_gradient(grad_2, w)\n",
    "\n",
    "    left_four_tensor = left_unitary_four_tensors[-1]\n",
    "    \n",
    "    grad_4 = npc.tensordot(left_four_tensor, w, [['vR'], ['vL',]])\n",
    "    grad_4 = npc.tensordot(grad_4, w.conj(), [['vR*', 'p'], ['vL*', 'p*']])\n",
    "    grad_4 = npc.tensordot(grad_4, w, [['vR1', 'p'], ['vL', 'p*']])\n",
    "\n",
    "    grad_4 = mpo_tensor_raw_to_gradient(grad_4, w)\n",
    "    \n",
    "    unitary_grad = (grad_4 - grad_2)/np.sqrt(1+unitary_score)\n",
    "\n",
    "    left_overlap_tensor = left_overlap_tensors[-1]\n",
    "    right_overlap_tensor = right_overlap_tensors[-1].conj()\n",
    "\n",
    "    grad_o = npc.tensordot(right_overlap_tensor, b, [['vL',], ['vR',]])\n",
    "    grad_o = npc.tensordot(grad_o, b.conj(), [['vL*',], ['vR*',]])\n",
    "    grad_o = npc.tensordot(\n",
    "        grad_o,\n",
    "        left_overlap_tensor,\n",
    "        [['vL*', 'vL'], ['vR', 'vR*',]]\n",
    "    )\n",
    "\n",
    "    grad_o = grad_o_scale*grad_o\n",
    "    grad_o = mpo_tensor_raw_to_gradient(grad_o, w)\n",
    "\n",
    "\n",
    "    grad = (\n",
    "        unitarity_learning_rate*unitary_grad +\n",
    "        overlap_learning_rate*grad_o\n",
    "    )\n",
    "    adam_grad = adam_optimizers[-1].update(grad)\n",
    "    grads.append(adam_grad)\n",
    "\n",
    "    \"\"\"\n",
    "    for i, g in enumerate(grads):\n",
    "        mpo_tensors[i] = mpo_tensors[i] - g\n",
    "    \"\"\"\n",
    "    \n",
    "    return (grads, unitary_score, c_abs)"
   ]
  },
  {
   "cell_type": "code",
   "execution_count": 76,
   "id": "e4c0c3f6-9014-41c6-a7b3-745dd0dc9970",
   "metadata": {},
   "outputs": [],
   "source": [
    "def swap_left_right_indices(npc_array):\n",
    "    left_right_pairs = {\n",
    "        'vL': 'vR',\n",
    "        'vR': 'vL',\n",
    "        'vL*': 'vR*',\n",
    "        'vR*': 'vL*'\n",
    "    }\n",
    "\n",
    "    leg_labels = npc_array.get_leg_labels()\n",
    "\n",
    "    old_labels = [l for l in leg_labels if l in left_right_pairs]\n",
    "    new_labels = [left_right_pairs[l] for l in old_labels]\n",
    "\n",
    "    out = npc_array.replace_labels(old_labels, new_labels)\n",
    "\n",
    "    return out"
   ]
  },
  {
   "cell_type": "code",
   "execution_count": 77,
   "id": "d66c2c04-401a-4cf8-8f7a-a2745f3c3a57",
   "metadata": {},
   "outputs": [],
   "source": [
    "def two_sided_mpo_gradient_descent_sweep(left_mpo_tensors, right_mpo_tensors,\n",
    "    left_b_tensors, right_b_tensors, left_total_dimension,\n",
    "    right_total_dimension, unitarity_learning_rate, overlap_learning_rate,\n",
    "    symmetry_transfer_matrix, left_adam_optimizers, right_adam_optimizers):\n",
    "\n",
    "    # Compute left and right symmetry environments\n",
    "    # Right symmetry environment for left side first\n",
    "    right_overlap_tensors = overlap_right_tensors(\n",
    "        right_mpo_tensors,\n",
    "        right_b_tensors\n",
    "    )\n",
    "    right_symmetry_environment = npc.tensordot(\n",
    "        symmetry_transfer_matrix,\n",
    "        right_overlap_tensors[0],\n",
    "        [['vR', 'vR*'], ['vL', 'vL*']]\n",
    "    )\n",
    "    right_symmetry_environment = swap_left_right_indices(right_symmetry_environment)\n",
    "\n",
    "    # Left symmetry environment for right side\n",
    "    left_overlap_tensors = overlap_right_tensors(\n",
    "        left_mpo_tensors,\n",
    "        left_b_tensors\n",
    "    )\n",
    "    left_symmetry_environment = npc.tensordot(\n",
    "        symmetry_transfer_matrix,\n",
    "        swap_left_right_indices(left_overlap_tensors[0]),\n",
    "        [['vL', 'vL*'], ['vR', 'vR*']]\n",
    "    )\n",
    "\n",
    "    # Get right gradients\n",
    "    right_grads, unitary_score, c_abs = mpo_gradient_descent_sweep(\n",
    "        right_mpo_tensors,\n",
    "        right_b_tensors,\n",
    "        right_total_dimension,\n",
    "        right_overlap_tensors[1:],\n",
    "        unitarity_learning_rate,\n",
    "        overlap_learning_rate,\n",
    "        1,\n",
    "        left_symmetry_environment,\n",
    "        right_adam_optimizers\n",
    "    )\n",
    "    \n",
    "    for i, g in enumerate(right_grads):\n",
    "        right_mpo_tensors[i] = right_mpo_tensors[i] - g\n",
    "\n",
    "    # Get left gradients\n",
    "    left_grads, *_ = mpo_gradient_descent_sweep(\n",
    "        left_mpo_tensors,\n",
    "        left_b_tensors,\n",
    "        left_total_dimension,\n",
    "        left_overlap_tensors[1:],\n",
    "        unitarity_learning_rate,\n",
    "        overlap_learning_rate,\n",
    "        1,\n",
    "        right_symmetry_environment,\n",
    "        left_adam_optimizers\n",
    "    )\n",
    "\n",
    "    for i, g in enumerate(left_grads):\n",
    "        left_mpo_tensors[i] = left_mpo_tensors[i] - g\n",
    "\n",
    "    return (unitary_score, c_abs)"
   ]
  },
  {
   "cell_type": "code",
   "execution_count": 78,
   "id": "1a8b9251-44db-4ef2-80ad-db74402a94b4",
   "metadata": {},
   "outputs": [],
   "source": [
    "def unitarity_error_from_subscores(order_two_score, order_four_score, dimension):\n",
    "    return order_four_score - 2*order_two_score + dimension"
   ]
  },
  {
   "cell_type": "code",
   "execution_count": 79,
   "id": "b2ddc829-2e4b-4aa9-9711-b76244621c37",
   "metadata": {},
   "outputs": [],
   "source": [
    "def unitarity_errors_from_subscores(order_two_scores, order_four_scores,\n",
    "                                    dimension):\n",
    "    out = [\n",
    "        unitarity_error_from_subscores(o2, o4, dimension)\n",
    "        for o2, o4 in zip(order_two_scores, order_four_scores)\n",
    "    ]\n",
    "    \n",
    "    return out"
   ]
  },
  {
   "cell_type": "code",
   "execution_count": 80,
   "id": "e390f713-9369-4353-b585-07ea44412fb8",
   "metadata": {},
   "outputs": [],
   "source": [
    "def initialize_optimization(num_sites, bond_dimension, symmetry_case,\n",
    "    unitarity_learning_rate, overlap_learning_rate, adam_params):\n",
    "    right_b_tensors = [\n",
    "        symmetry_case.psi.get_B(i)\n",
    "        for i in range(\n",
    "            symmetry_case.right_symmetry_index + 1,\n",
    "            symmetry_case.right_symmetry_index + 1 + num_sites\n",
    "        )\n",
    "    ]\n",
    "\n",
    "    left_b_tensors = [\n",
    "        symmetry_case.psi.get_B(i, form='A')\n",
    "        for i in range(\n",
    "            symmetry_case.left_symmetry_index - 1,\n",
    "            symmetry_case.left_symmetry_index - 1 - num_sites, -1\n",
    "        )\n",
    "    ]\n",
    "\n",
    "    left_b_tensors = [\n",
    "        swap_left_right_indices(b) for b in left_b_tensors\n",
    "    ]\n",
    "\n",
    "    right_physical_dims = [\n",
    "        get_physical_dim(b) for b in right_b_tensors\n",
    "    ]\n",
    "    \n",
    "    right_total_dimension = reduce(mul, right_physical_dims)\n",
    "\n",
    "    left_physical_dims = [\n",
    "        get_physical_dim(b) for b in left_b_tensors\n",
    "    ]\n",
    "\n",
    "    left_total_dimension = reduce(mul, left_physical_dims)\n",
    "\n",
    "    virtual_dims = (\n",
    "        [(None, bond_dimension),] +\n",
    "        [(bond_dimension, bond_dimension)]*(num_sites - 2) +\n",
    "        [(bond_dimension, None),]\n",
    "    )\n",
    "\n",
    "    right_mpo_tensors = get_random_mpo_tensors(\n",
    "        right_physical_dims,\n",
    "        virtual_dims\n",
    "    )\n",
    "    left_mpo_tensors = get_random_mpo_tensors(\n",
    "        left_physical_dims,\n",
    "        virtual_dims\n",
    "    )\n",
    "    rescale_mpo_tensors(right_mpo_tensors, 1)\n",
    "    rescale_mpo_tensors(left_mpo_tensors, 1)\n",
    "\n",
    "    symmetry_transfer_matrix = symmetry_case.npc_symmetry_transfer_matrix\n",
    "\n",
    "    left_adam_optimizers = [\n",
    "        AdamTenpy(*adam_params) for _ in range(num_sites)\n",
    "    ]\n",
    "\n",
    "    right_adam_optimizers = [\n",
    "        AdamTenpy(*adam_params) for _ in range(num_sites)\n",
    "    ]\n",
    "\n",
    "    return (\n",
    "        left_mpo_tensors,\n",
    "        right_mpo_tensors,\n",
    "        left_b_tensors,\n",
    "        right_b_tensors,\n",
    "        left_total_dimension,\n",
    "        right_total_dimension,\n",
    "        unitarity_learning_rate,\n",
    "        overlap_learning_rate,\n",
    "        symmetry_transfer_matrix,\n",
    "        left_adam_optimizers,\n",
    "        right_adam_optimizers\n",
    "    )"
   ]
  },
  {
   "cell_type": "markdown",
   "id": "5a6b77d4-1b5d-455b-9d45-b0dfc2fe378d",
   "metadata": {},
   "source": [
    "### SPT phase extraction"
   ]
  },
  {
   "cell_type": "code",
   "execution_count": 81,
   "id": "19115e31-e566-4904-b863-492184c744e7",
   "metadata": {},
   "outputs": [],
   "source": [
    "def conjugate_single_mpo_tensor(mpo_tensor):\n",
    "    leg_labels = mpo_tensor.get_leg_labels()\n",
    "\n",
    "    if not ('vR' in leg_labels):\n",
    "        return mpo_tensor.conj().replace_labels(['vL*',], ['vL',])\n",
    "    elif not ('vL' in leg_labels):\n",
    "        return mpo_tensor.conj().replace_labels(['vR*'], ['vR'])\n",
    "    else:\n",
    "        return mpo_tensor.conj().replace_labels(['vL*', 'vR*'], ['vL', 'vR'])"
   ]
  },
  {
   "cell_type": "code",
   "execution_count": 82,
   "id": "58405086-22cd-4f65-8eec-0888ff6eb03f",
   "metadata": {},
   "outputs": [],
   "source": [
    "def conjugate_mpo(mpo_tensors):\n",
    "    return [\n",
    "        conjugate_single_mpo_tensor(t) for t in mpo_tensors\n",
    "    ]"
   ]
  },
  {
   "cell_type": "code",
   "execution_count": 83,
   "id": "6a0c4ee6-9a5c-464f-b7ba-68adbd5ad640",
   "metadata": {},
   "outputs": [],
   "source": [
    "def mpo_product_expectation(left_environment, b_tensors, mpos):\n",
    "    \"\"\"\n",
    "    Have an optional b_conj argument? Left and right arguments?\n",
    "\n",
    "    Like a previous function we wrote?\n",
    "    \"\"\"\n",
    "\n",
    "    # First site\n",
    "    t = b_tensors[0]\n",
    "\n",
    "    for i, l in enumerate(mpos):\n",
    "        w = l[0]\n",
    "        t = npc.tensordot(\n",
    "            t,\n",
    "            w.replace_label('vR', f'vR{i}'),\n",
    "            [['p',], ['p*',]]\n",
    "        )\n",
    "\n",
    "    t = npc.tensordot(\n",
    "        t,\n",
    "        b_tensors[0].conj(),\n",
    "        [['p',], ['p*',]]\n",
    "    )\n",
    "\n",
    "    t = npc.tensordot(\n",
    "        t,\n",
    "        left_environment,\n",
    "        [['vL', 'vL*',], ['vR', 'vR*']]\n",
    "    )\n",
    "\n",
    "    # Inner sites\n",
    "    for i in range(1, len(b_tensors)-1):\n",
    "        t = npc.tensordot(\n",
    "            t,\n",
    "            b_tensors[i],\n",
    "            [['vR',], ['vL',]]\n",
    "        )\n",
    "\n",
    "        for j, l in enumerate(mpos):\n",
    "            w = l[i]\n",
    "            t = npc.tensordot(\n",
    "                t,\n",
    "                w.replace_label('vR', f'vR{j}'),\n",
    "                [['p', f'vR{j}'], ['p*', 'vL']]\n",
    "            )\n",
    "    \n",
    "        t = npc.tensordot(\n",
    "            t,\n",
    "            b_tensors[i].conj(),\n",
    "            [['p', 'vR*'], ['p*', 'vL*']]\n",
    "        )\n",
    "\n",
    "    # Last site\n",
    "    t = npc.tensordot(\n",
    "        t,\n",
    "        b_tensors[-1],\n",
    "        [['vR',], ['vL',]]\n",
    "    )\n",
    "\n",
    "    for i, l in enumerate(mpos):\n",
    "        w = l[-1]\n",
    "        t = npc.tensordot(\n",
    "            t,\n",
    "            w,\n",
    "            [['p', f'vR{i}'], ['p*', 'vL']]\n",
    "        )\n",
    "\n",
    "    t = npc.tensordot(\n",
    "        t,\n",
    "        b_tensors[-1].conj(),\n",
    "        [['p', 'vR*', 'vR'], ['p*', 'vL*', 'vR*']]\n",
    "    )\n",
    "\n",
    "    return t"
   ]
  },
  {
   "cell_type": "code",
   "execution_count": 84,
   "id": "86ff850e-a4f7-4b73-9360-03431af04fdb",
   "metadata": {},
   "outputs": [],
   "source": [
    "def proj_rep_phase(left_environment, b_tensors, mpo_1, mpo_2, mpo_3):\n",
    "    num = mpo_product_expectation(\n",
    "        left_environment,\n",
    "        b_tensors,\n",
    "        [\n",
    "            mpo_1,\n",
    "            mpo_2,\n",
    "            conjugate_mpo(mpo_3)\n",
    "        ]\n",
    "    )\n",
    "\n",
    "    den = npc.trace(left_environment)\n",
    "\n",
    "    return num/den"
   ]
  },
  {
   "cell_type": "markdown",
   "id": "6609a3ee-0f68-4216-94ec-1ec4bfe0abb9",
   "metadata": {},
   "source": [
    "# Test"
   ]
  },
  {
   "cell_type": "code",
   "execution_count": 85,
   "id": "e131a223-b1d8-45ad-a676-936f11b22926",
   "metadata": {},
   "outputs": [],
   "source": [
    "test_case = cases_triv_proj_rep[(0.4, 0, 2)]"
   ]
  },
  {
   "cell_type": "code",
   "execution_count": 86,
   "id": "011f9048-a10f-4f5e-b622-0d6409cf7e21",
   "metadata": {},
   "outputs": [],
   "source": [
    "(\n",
    "    left_mpo_tensors,\n",
    "    right_mpo_tensors,\n",
    "    left_b_tensors,\n",
    "    right_b_tensors,\n",
    "    left_total_dimension,\n",
    "    right_total_dimension,\n",
    "    unitarity_learning_rate,\n",
    "    overlap_learning_rate,\n",
    "    symmetry_transfer_matrix,\n",
    "    left_adam_optimizers,\n",
    "    right_adam_optimizers\n",
    ") = initialize_optimization(3, 3, test_case, 1, 3, (1e-3, 0.3, 0.3))"
   ]
  },
  {
   "cell_type": "code",
   "execution_count": 87,
   "id": "c8a611dd-49f2-475c-8f93-faae2d0508fa",
   "metadata": {},
   "outputs": [],
   "source": [
    "right_overlap_tensors = overlap_right_tensors(\n",
    "    right_mpo_tensors,\n",
    "    right_b_tensors\n",
    ")"
   ]
  },
  {
   "cell_type": "code",
   "execution_count": 88,
   "id": "2c74c814-9978-441d-b5df-8ec949fa611d",
   "metadata": {},
   "outputs": [],
   "source": [
    "unitary_scores, overlaps = (list(), list())"
   ]
  },
  {
   "cell_type": "code",
   "execution_count": 89,
   "id": "54b23b78-1795-496d-8199-4e1b734d834f",
   "metadata": {},
   "outputs": [],
   "source": [
    "for _ in range(1000):\n",
    "    unitary_score, overlap = two_sided_mpo_gradient_descent_sweep(\n",
    "        left_mpo_tensors,\n",
    "        right_mpo_tensors,\n",
    "        left_b_tensors,\n",
    "        right_b_tensors,\n",
    "        left_total_dimension,\n",
    "        right_total_dimension,\n",
    "        unitarity_learning_rate,\n",
    "        overlap_learning_rate,\n",
    "        symmetry_transfer_matrix,\n",
    "        left_adam_optimizers,\n",
    "        right_adam_optimizers\n",
    "    )\n",
    "\n",
    "    unitary_scores.append(unitary_score)\n",
    "    overlaps.append(overlap)"
   ]
  },
  {
   "cell_type": "code",
   "execution_count": 90,
   "id": "aa7c8102-fa1b-41b4-bd1c-4887c26c8267",
   "metadata": {},
   "outputs": [
    {
     "data": {
      "text/plain": [
       "[<matplotlib.lines.Line2D at 0x167ecf610>]"
      ]
     },
     "execution_count": 90,
     "metadata": {},
     "output_type": "execute_result"
    },
    {
     "data": {
      "image/png": "[encoded data removed]",
      "text/plain": [
       "<Figure size 640x480 with 1 Axes>"
      ]
     },
     "metadata": {},
     "output_type": "display_data"
    }
   ],
   "source": [
    "plt.plot(np.real(np.array(unitary_scores)))"
   ]
  },
  {
   "cell_type": "code",
   "execution_count": 91,
   "id": "12acb974-9dab-46fc-8271-a57bc3a4be38",
   "metadata": {},
   "outputs": [
    {
     "data": {
      "text/plain": [
       "(0.0018932707629986112-3.3306690738754696e-15j)"
      ]
     },
     "execution_count": 91,
     "metadata": {},
     "output_type": "execute_result"
    }
   ],
   "source": [
    "unitary_scores[-1]"
   ]
  },
  {
   "cell_type": "code",
   "execution_count": 92,
   "id": "0cd85ff7-955b-449e-9e05-796e39f3dea5",
   "metadata": {},
   "outputs": [
    {
     "data": {
      "text/plain": [
       "[<matplotlib.lines.Line2D at 0x168425110>]"
      ]
     },
     "execution_count": 92,
     "metadata": {},
     "output_type": "execute_result"
    },
    {
     "data": {
      "image/png": "[encoded data removed]",
      "text/plain": [
       "<Figure size 640x480 with 1 Axes>"
      ]
     },
     "metadata": {},
     "output_type": "display_data"
    }
   ],
   "source": [
    "plt.plot(overlaps)"
   ]
  },
  {
   "cell_type": "code",
   "execution_count": 93,
   "id": "4236a1eb-85f4-4523-a210-b80214c38143",
   "metadata": {},
   "outputs": [
    {
     "data": {
      "text/plain": [
       "0.95802728405803"
      ]
     },
     "execution_count": 93,
     "metadata": {},
     "output_type": "execute_result"
    }
   ],
   "source": [
    "overlaps[-1]"
   ]
  },
  {
   "cell_type": "markdown",
   "id": "b603ab73-0628-4657-b84e-563a051b6299",
   "metadata": {},
   "source": [
    "# Sweep"
   ]
  },
  {
   "cell_type": "code",
   "execution_count": 94,
   "id": "00969949-e4ad-495b-842a-d91d10f0d265",
   "metadata": {},
   "outputs": [],
   "source": [
    "num_sites = 6"
   ]
  },
  {
   "cell_type": "code",
   "execution_count": 95,
   "id": "b13dc43d-9179-4004-a05a-2c7f754f772f",
   "metadata": {},
   "outputs": [],
   "source": [
    "unitarity_learning_rate = 1\n",
    "overlap_learning_rate = 10\n",
    "\n",
    "adam_params = (1e-3, 0.4, 0.4)"
   ]
  },
  {
   "cell_type": "code",
   "execution_count": 96,
   "id": "0ae39dca-ec8c-4cd5-9bce-a92601ecf8eb",
   "metadata": {},
   "outputs": [],
   "source": [
    "num_iterations = 1000"
   ]
  },
  {
   "cell_type": "code",
   "execution_count": 97,
   "id": "0a9d0c08-3909-422e-bef4-5915fd5a9a02",
   "metadata": {},
   "outputs": [],
   "source": [
    "bond_dimension=5"
   ]
  },
  {
   "cell_type": "code",
   "execution_count": 98,
   "id": "9ac6225e-e8d2-4ca7-9b6b-6de9acd3986c",
   "metadata": {},
   "outputs": [],
   "source": [
    "physical_dims = [2,]*num_sites\n",
    "virtual_dims = (\n",
    "    [(None, bond_dimension),] +\n",
    "    [(bond_dimension, bond_dimension)]*(num_sites - 2) +\n",
    "    [(bond_dimension, None),]\n",
    ")"
   ]
  },
  {
   "cell_type": "code",
   "execution_count": 104,
   "id": "e6a61a68-d56b-4e94-991c-bc13e665147c",
   "metadata": {
    "scrolled": true
   },
   "outputs": [
    {
     "name": "stdout",
     "output_type": "stream",
     "text": [
      "(0.3, 0, 0)\n",
      "0.00013899803161621094\n",
      "(0.3, 0, 1)\n",
      "63.726638078689575\n",
      "(0.3, 0, 2)\n",
      "68.49855303764343\n",
      "(0.3, 0, 3)\n",
      "65.19016003608704\n",
      "(0.3, 1, 0)\n",
      "2.288818359375e-05\n",
      "(0.3, 1, 1)\n",
      "70.03823375701904\n",
      "(0.3, 1, 2)\n",
      "70.62806916236877\n",
      "(0.3, 1, 3)\n",
      "74.16720390319824\n",
      "(0.9, 0, 0)\n",
      "2.5033950805664062e-05\n",
      "(0.9, 0, 1)\n",
      "76.79369187355042\n",
      "(0.9, 0, 2)\n",
      "70.64903974533081\n",
      "(0.9, 0, 3)\n",
      "73.64071607589722\n",
      "(0.9, 1, 0)\n",
      "2.5033950805664062e-05\n",
      "(0.9, 1, 1)\n",
      "69.45375990867615\n",
      "(0.9, 1, 2)\n",
      "74.92028594017029\n",
      "(0.9, 1, 3)\n",
      "70.48761296272278\n",
      "(0.95, 0, 0)\n",
      "2.7179718017578125e-05\n",
      "(0.95, 0, 1)\n",
      "67.89245891571045\n",
      "(0.95, 0, 2)\n",
      "69.92821311950684\n",
      "(0.95, 0, 3)\n",
      "67.46260786056519\n",
      "(0.95, 1, 0)\n",
      "3.790855407714844e-05\n",
      "(0.95, 1, 1)\n",
      "67.95437955856323\n",
      "(0.95, 1, 2)\n",
      "68.58903193473816\n",
      "(0.95, 1, 3)\n",
      "67.54468297958374\n",
      "(0.0, 0, 0)\n",
      "4.100799560546875e-05\n",
      "(0.0, 0, 1)\n",
      "64.64066410064697\n",
      "(0.0, 0, 2)\n",
      "64.97860097885132\n",
      "(0.0, 0, 3)\n",
      "63.81959795951843\n",
      "(0.0, 1, 0)\n",
      "2.6226043701171875e-05\n",
      "(0.0, 1, 1)\n",
      "62.75846028327942\n",
      "(0.0, 1, 2)\n",
      "65.01383090019226\n",
      "(0.0, 1, 3)\n",
      "65.24223113059998\n",
      "(0.75, 0, 0)\n",
      "3.218650817871094e-05\n",
      "(0.75, 0, 1)\n",
      "67.09006690979004\n",
      "(0.75, 0, 2)\n",
      "68.21637606620789\n",
      "(0.75, 0, 3)\n",
      "74.10717701911926\n",
      "(0.75, 1, 0)\n",
      "2.5987625122070312e-05\n",
      "(0.75, 1, 1)\n",
      "67.11271286010742\n",
      "(0.75, 1, 2)\n",
      "67.74685287475586\n",
      "(0.75, 1, 3)\n",
      "65.23759603500366\n",
      "(0.65, 0, 0)\n",
      "2.193450927734375e-05\n",
      "(0.65, 0, 1)\n",
      "69.42911529541016\n",
      "(0.65, 0, 2)\n",
      "64.10205912590027\n",
      "(0.65, 0, 3)\n",
      "65.60339093208313\n",
      "(0.65, 1, 0)\n",
      "1.0967254638671875e-05\n",
      "(0.65, 1, 1)\n",
      "65.58815407752991\n",
      "(0.65, 1, 2)\n",
      "64.8026180267334\n",
      "(0.65, 1, 3)\n",
      "64.3064329624176\n",
      "(0.2, 0, 0)\n",
      "3.600120544433594e-05\n",
      "(0.2, 0, 1)\n",
      "63.98728394508362\n",
      "(0.2, 0, 2)\n",
      "64.4140191078186\n",
      "(0.2, 0, 3)\n",
      "64.32769012451172\n",
      "(0.2, 1, 0)\n",
      "3.62396240234375e-05\n",
      "(0.2, 1, 1)\n",
      "64.80539298057556\n",
      "(0.2, 1, 2)\n",
      "64.51759171485901\n",
      "(0.2, 1, 3)\n",
      "64.91343688964844\n",
      "(0.25, 0, 0)\n",
      "2.9087066650390625e-05\n",
      "(0.25, 0, 1)\n",
      "63.9864661693573\n",
      "(0.25, 0, 2)\n",
      "64.13741278648376\n",
      "(0.25, 0, 3)\n",
      "63.82742667198181\n",
      "(0.25, 1, 0)\n",
      "3.2901763916015625e-05\n",
      "(0.25, 1, 1)\n",
      "64.28239727020264\n",
      "(0.25, 1, 2)\n",
      "63.748035192489624\n",
      "(0.25, 1, 3)\n",
      "63.761285066604614\n",
      "(0.85, 0, 0)\n",
      "3.504753112792969e-05\n",
      "(0.85, 0, 1)\n",
      "63.94178104400635\n",
      "(0.85, 0, 2)\n",
      "64.13658905029297\n",
      "(0.85, 0, 3)\n",
      "64.52638792991638\n",
      "(0.85, 1, 0)\n",
      "3.0040740966796875e-05\n",
      "(0.85, 1, 1)\n",
      "64.56698203086853\n",
      "(0.85, 1, 2)\n",
      "66.8066771030426\n",
      "(0.85, 1, 3)\n",
      "67.49450707435608\n",
      "(0.35, 0, 0)\n",
      "3.3855438232421875e-05\n",
      "(0.35, 0, 1)\n",
      "63.831218004226685\n",
      "(0.35, 0, 2)\n",
      "64.85313200950623\n",
      "(0.35, 0, 3)\n",
      "64.25212001800537\n",
      "(0.35, 1, 0)\n",
      "2.5987625122070312e-05\n",
      "(0.35, 1, 1)\n",
      "160.33847498893738\n",
      "(0.35, 1, 2)\n",
      "366.6828670501709\n",
      "(0.35, 1, 3)\n",
      "150.180517911911\n",
      "(0.6, 0, 0)\n",
      "0.00019788742065429688\n",
      "(0.6, 0, 1)\n",
      "65.24705600738525\n",
      "(0.6, 0, 2)\n",
      "66.39433598518372\n",
      "(0.6, 0, 3)\n",
      "63.912224769592285\n",
      "(0.6, 1, 0)\n",
      "4.6253204345703125e-05\n",
      "(0.6, 1, 1)\n",
      "64.55519485473633\n",
      "(0.6, 1, 2)\n",
      "67.02990889549255\n",
      "(0.6, 1, 3)\n",
      "63.98413896560669\n",
      "(0.7, 0, 0)\n",
      "0.0003218650817871094\n",
      "(0.7, 0, 1)\n",
      "63.85708498954773\n",
      "(0.7, 0, 2)\n",
      "68.11823177337646\n",
      "(0.7, 0, 3)\n",
      "69.62331914901733\n",
      "(0.7, 1, 0)\n",
      "2.9087066650390625e-05\n",
      "(0.7, 1, 1)\n",
      "66.22220706939697\n",
      "(0.7, 1, 2)\n",
      "66.04883003234863\n",
      "(0.7, 1, 3)\n",
      "65.7215371131897\n",
      "(0.8, 0, 0)\n",
      "0.0008149147033691406\n",
      "(0.8, 0, 1)\n",
      "72.60318899154663\n",
      "(0.8, 0, 2)\n",
      "74.53173899650574\n",
      "(0.8, 0, 3)\n",
      "76.45984697341919\n",
      "(0.8, 1, 0)\n",
      "3.314018249511719e-05\n",
      "(0.8, 1, 1)\n",
      "67.48528504371643\n",
      "(0.8, 1, 2)\n",
      "65.65662002563477\n",
      "(0.8, 1, 3)\n",
      "68.44875907897949\n",
      "(0.4, 0, 0)\n",
      "0.0008988380432128906\n",
      "(0.4, 0, 1)\n",
      "68.93953776359558\n",
      "(0.4, 0, 2)\n",
      "76.64722108840942\n",
      "(0.4, 0, 3)\n",
      "69.94239282608032\n",
      "(0.4, 1, 0)\n",
      "3.504753112792969e-05\n",
      "(0.4, 1, 1)\n",
      "64.34216284751892\n",
      "(0.4, 1, 2)\n",
      "703.4379642009735\n",
      "(0.4, 1, 3)\n",
      "65.27200603485107\n",
      "(0.1, 0, 0)\n",
      "0.0002906322479248047\n",
      "(0.1, 0, 1)\n",
      "60.60626482963562\n",
      "(0.1, 0, 2)\n",
      "62.90623998641968\n",
      "(0.1, 0, 3)\n",
      "62.54966902732849\n",
      "(0.1, 1, 0)\n",
      "1.6927719116210938e-05\n",
      "(0.1, 1, 1)\n",
      "66.78888010978699\n",
      "(0.1, 1, 2)\n",
      "64.62090921401978\n",
      "(0.1, 1, 3)\n",
      "64.02428889274597\n",
      "(0.5, 0, 0)\n",
      "0.0008282661437988281\n",
      "(0.5, 0, 1)\n",
      "64.24214100837708\n",
      "(0.5, 0, 2)\n",
      "66.37486004829407\n",
      "(0.5, 0, 3)\n",
      "63.81103205680847\n",
      "(0.5, 1, 0)\n",
      "2.5033950805664062e-05\n",
      "(0.5, 1, 1)\n",
      "66.37071895599365\n",
      "(0.5, 1, 2)\n",
      "64.5449469089508\n",
      "(0.5, 1, 3)\n",
      "142.06542587280273\n",
      "(1.0, 0, 0)\n",
      "0.0014541149139404297\n",
      "(1.0, 0, 1)\n",
      "60.504836082458496\n",
      "(1.0, 0, 2)\n",
      "62.51222014427185\n",
      "(1.0, 0, 3)\n",
      "61.86463904380798\n",
      "(1.0, 1, 0)\n",
      "1.8358230590820312e-05\n",
      "(1.0, 1, 1)\n",
      "62.90293216705322\n",
      "(1.0, 1, 2)\n",
      "62.7508647441864\n",
      "(1.0, 1, 3)\n",
      "64.04446840286255\n",
      "(0.05, 0, 0)\n",
      "3.0994415283203125e-05\n",
      "(0.05, 0, 1)\n",
      "66.56029796600342\n",
      "(0.05, 0, 2)\n",
      "65.03484177589417\n",
      "(0.05, 0, 3)\n",
      "66.38684582710266\n",
      "(0.05, 1, 0)\n",
      "3.0040740966796875e-05\n",
      "(0.05, 1, 1)\n",
      "73.73788595199585\n",
      "(0.05, 1, 2)\n",
      "74.17737197875977\n",
      "(0.05, 1, 3)\n",
      "67.05268812179565\n",
      "(0.45, 0, 0)\n",
      "0.0008242130279541016\n",
      "(0.45, 0, 1)\n",
      "75.69100093841553\n",
      "(0.45, 0, 2)\n",
      "68.33706402778625\n",
      "(0.45, 0, 3)\n",
      "66.61465001106262\n",
      "(0.45, 1, 0)\n",
      "2.5033950805664062e-05\n",
      "(0.45, 1, 1)\n",
      "70.95753693580627\n",
      "(0.45, 1, 2)\n",
      "65.62288784980774\n",
      "(0.45, 1, 3)\n",
      "104.88681602478027\n",
      "(0.15, 0, 0)\n",
      "0.00025081634521484375\n",
      "(0.15, 0, 1)\n",
      "74.17569470405579\n",
      "(0.15, 0, 2)\n",
      "64.89999294281006\n",
      "(0.15, 0, 3)\n",
      "250.287770986557\n",
      "(0.15, 1, 0)\n",
      "1.2159347534179688e-05\n",
      "(0.15, 1, 1)\n",
      "231.58376908302307\n",
      "(0.15, 1, 2)\n",
      "127.80153226852417\n",
      "(0.15, 1, 3)\n",
      "73.81781506538391\n",
      "(0.55, 0, 0)\n",
      "0.00021409988403320312\n",
      "(0.55, 0, 1)\n",
      "72.01777195930481\n",
      "(0.55, 0, 2)\n",
      "67.3370852470398\n",
      "(0.55, 0, 3)\n",
      "111.6543447971344\n",
      "(0.55, 1, 0)\n",
      "4.38690185546875e-05\n",
      "(0.55, 1, 1)\n",
      "87.47842407226562\n",
      "(0.55, 1, 2)\n",
      "96.28282499313354\n",
      "(0.55, 1, 3)\n",
      "76.20900416374207\n"
     ]
    }
   ],
   "source": [
    "triv_proj_rep_solutions = dict()\n",
    "triv_proj_rep_unitarity_scores = dict()\n",
    "triv_proj_rep_overlap_scores = dict()\n",
    "\n",
    "for k, c in cases_triv_proj_rep.items():\n",
    "    start = time.time()\n",
    "    print(k)\n",
    "\n",
    "    if (k[2] != 0):\n",
    "        (\n",
    "            left_mpo_tensors,\n",
    "            right_mpo_tensors,\n",
    "            left_b_tensors,\n",
    "            right_b_tensors,\n",
    "            left_total_dimension,\n",
    "            right_total_dimension,\n",
    "            unitarity_learning_rate,\n",
    "            overlap_learning_rate,\n",
    "            symmetry_transfer_matrix,\n",
    "            left_adam_optimizers,\n",
    "            right_adam_optimizers\n",
    "        ) = initialize_optimization(\n",
    "            num_sites,\n",
    "            bond_dimension,\n",
    "            c,\n",
    "            unitarity_learning_rate,\n",
    "            overlap_learning_rate,\n",
    "            adam_params\n",
    "        )\n",
    "\n",
    "        current_unitarity_scores = list()\n",
    "        current_overlap_scores = list()\n",
    "\n",
    "        for _ in range(num_iterations):\n",
    "            unitarity, overlap = two_sided_mpo_gradient_descent_sweep(\n",
    "                left_mpo_tensors,\n",
    "                right_mpo_tensors,\n",
    "                left_b_tensors,\n",
    "                right_b_tensors,\n",
    "                left_total_dimension,\n",
    "                right_total_dimension,\n",
    "                unitarity_learning_rate,\n",
    "                overlap_learning_rate,\n",
    "                symmetry_transfer_matrix,\n",
    "                left_adam_optimizers,\n",
    "                right_adam_optimizers\n",
    "            )\n",
    "        \n",
    "            current_unitarity_scores.append(unitarity)\n",
    "            current_overlap_scores.append(overlap)\n",
    "\n",
    "        triv_proj_rep_solutions[k] = (left_mpo_tensors, right_mpo_tensors)\n",
    "        triv_proj_rep_unitarity_scores[k] = current_unitarity_scores\n",
    "        triv_proj_rep_overlap_scores[k] = current_overlap_scores\n",
    "\n",
    "\n",
    "    end = time.time()\n",
    "    print(end - start)"
   ]
  },
  {
   "cell_type": "markdown",
   "id": "c6c048bb-6c70-43fd-b330-f02cd550d0ea",
   "metadata": {},
   "source": [
    "Check scores:"
   ]
  },
  {
   "cell_type": "code",
   "execution_count": 108,
   "id": "dbee2d6f-e093-453c-86ad-b2e071d9fc19",
   "metadata": {},
   "outputs": [],
   "source": [
    "triv_proj_rep_unitarity_scores_array = np.array(list(triv_proj_rep_unitarity_scores.values()))"
   ]
  },
  {
   "cell_type": "code",
   "execution_count": 109,
   "id": "8c117eb9-0a78-46b7-b4e0-5dd031d256c0",
   "metadata": {},
   "outputs": [
    {
     "data": {
      "text/plain": [
       "(126, 1000)"
      ]
     },
     "execution_count": 109,
     "metadata": {},
     "output_type": "execute_result"
    }
   ],
   "source": [
    "triv_proj_rep_unitarity_scores_array.shape"
   ]
  },
  {
   "cell_type": "code",
   "execution_count": 110,
   "id": "204ed603-05aa-4792-a9f7-e7ec69d3db70",
   "metadata": {},
   "outputs": [
    {
     "data": {
      "text/plain": [
       "2.913225216616411e-13"
      ]
     },
     "execution_count": 110,
     "metadata": {},
     "output_type": "execute_result"
    }
   ],
   "source": [
    "np.max(np.abs(np.imag(triv_proj_rep_unitarity_scores_array)))"
   ]
  },
  {
   "cell_type": "code",
   "execution_count": 111,
   "id": "5afb746e-6d3a-419a-af73-2aee031d0670",
   "metadata": {},
   "outputs": [],
   "source": [
    "triv_proj_rep_unitarity_scores_array = np.real(triv_proj_rep_unitarity_scores_array)"
   ]
  },
  {
   "cell_type": "code",
   "execution_count": 112,
   "id": "a5d4db51-5aa5-4605-bcd3-29a4c0f13759",
   "metadata": {},
   "outputs": [
    {
     "data": {
      "text/plain": [
       "count    126.000000\n",
       "mean       0.100403\n",
       "std        0.184191\n",
       "min        0.015653\n",
       "25%        0.041918\n",
       "50%        0.068794\n",
       "75%        0.094468\n",
       "max        1.769113\n",
       "dtype: float64"
      ]
     },
     "execution_count": 112,
     "metadata": {},
     "output_type": "execute_result"
    }
   ],
   "source": [
    "pd.Series(triv_proj_rep_unitarity_scores_array[:, -1]).describe()"
   ]
  },
  {
   "cell_type": "code",
   "execution_count": 113,
   "id": "e628c4d3-2d83-4346-889c-b9c67a9f452e",
   "metadata": {},
   "outputs": [
    {
     "data": {
      "text/plain": [
       "123"
      ]
     },
     "execution_count": 113,
     "metadata": {},
     "output_type": "execute_result"
    }
   ],
   "source": [
    "np.argmax(triv_proj_rep_unitarity_scores_array[:, -1])"
   ]
  },
  {
   "cell_type": "code",
   "execution_count": 116,
   "id": "86ed2f42-1d50-40bc-8023-7fb5372f0fe3",
   "metadata": {},
   "outputs": [],
   "source": [
    "worst_unitary_scores_key = list(triv_proj_rep_unitarity_scores.keys())[123]\n",
    "worst_unitary_scores = triv_proj_rep_unitarity_scores[worst_unitary_scores_key]"
   ]
  },
  {
   "cell_type": "code",
   "execution_count": 122,
   "id": "a0e9f667-cf7e-4736-b143-e0e5dac0dce1",
   "metadata": {},
   "outputs": [
    {
     "data": {
      "text/plain": [
       "(0.55, 1, 1)"
      ]
     },
     "execution_count": 122,
     "metadata": {},
     "output_type": "execute_result"
    }
   ],
   "source": [
    "worst_unitary_scores_key"
   ]
  },
  {
   "cell_type": "code",
   "execution_count": 120,
   "id": "932d01c8-b0a9-48f9-9c54-6043ea1947c2",
   "metadata": {},
   "outputs": [
    {
     "data": {
      "text/plain": [
       "[<matplotlib.lines.Line2D at 0x16a7ad610>]"
      ]
     },
     "execution_count": 120,
     "metadata": {},
     "output_type": "execute_result"
    },
    {
     "data": {
      "image/png": "[encoded data removed]",
      "text/plain": [
       "<Figure size 640x480 with 1 Axes>"
      ]
     },
     "metadata": {},
     "output_type": "display_data"
    }
   ],
   "source": [
    "plt.plot(worst_unitary_scores)\n",
    "#plt.semilogy('log')"
   ]
  },
  {
   "cell_type": "code",
   "execution_count": 121,
   "id": "80ca2134-b9c8-4a9c-9d69-605ea4cc50cd",
   "metadata": {},
   "outputs": [
    {
     "data": {
      "text/plain": [
       "[<matplotlib.lines.Line2D at 0x16aa22210>]"
      ]
     },
     "execution_count": 121,
     "metadata": {},
     "output_type": "execute_result"
    },
    {
     "data": {
      "image/png": "[encoded data removed]",
      "text/plain": [
       "<Figure size 640x480 with 1 Axes>"
      ]
     },
     "metadata": {},
     "output_type": "display_data"
    }
   ],
   "source": [
    "plt.plot(triv_proj_rep_overlap_scores[worst_unitary_scores_key])"
   ]
  },
  {
   "cell_type": "markdown",
   "id": "7f030fac-19b6-40dd-bba1-2ada37a01289",
   "metadata": {},
   "source": [
    "Could have been left to run a bit longer..."
   ]
  },
  {
   "cell_type": "code",
   "execution_count": 123,
   "id": "06a6a337-e497-4918-92a2-29d3d61e6068",
   "metadata": {},
   "outputs": [],
   "source": [
    "triv_proj_rep_overlap_scores_array = np.array(list(triv_proj_rep_overlap_scores.values()))"
   ]
  },
  {
   "cell_type": "code",
   "execution_count": 124,
   "id": "e751b7a4-63a1-4ef6-a9d4-17e716587c20",
   "metadata": {},
   "outputs": [
    {
     "data": {
      "text/plain": [
       "(126, 1000)"
      ]
     },
     "execution_count": 124,
     "metadata": {},
     "output_type": "execute_result"
    }
   ],
   "source": [
    "triv_proj_rep_overlap_scores_array.shape"
   ]
  },
  {
   "cell_type": "code",
   "execution_count": 128,
   "id": "6f4f2a35-7932-415c-8f02-479ec10bd794",
   "metadata": {},
   "outputs": [
    {
     "data": {
      "text/plain": [
       "count    1.260000e+02\n",
       "mean     3.090904e-01\n",
       "std      4.476594e-01\n",
       "min      4.548485e-10\n",
       "25%      1.934072e-04\n",
       "50%      1.420285e-03\n",
       "75%      9.509244e-01\n",
       "max      9.949207e-01\n",
       "dtype: float64"
      ]
     },
     "execution_count": 128,
     "metadata": {},
     "output_type": "execute_result"
    }
   ],
   "source": [
    "pd.Series(triv_proj_rep_overlap_scores_array[:, -1]).describe()"
   ]
  },
  {
   "cell_type": "code",
   "execution_count": 129,
   "id": "7af247ba-fd4f-4114-8a23-2b5971b1ea3e",
   "metadata": {},
   "outputs": [
    {
     "data": {
      "text/plain": [
       "92"
      ]
     },
     "execution_count": 129,
     "metadata": {},
     "output_type": "execute_result"
    }
   ],
   "source": [
    "np.argmin(triv_proj_rep_overlap_scores_array[:, -1])"
   ]
  },
  {
   "cell_type": "code",
   "execution_count": 130,
   "id": "cc109725-0ac3-497c-8228-d227c4fd2d29",
   "metadata": {},
   "outputs": [],
   "source": [
    "worst_overlap_scores_key = list(triv_proj_rep_overlap_scores.keys())[92]\n",
    "worst_overlap_scores = triv_proj_rep_overlap_scores[worst_overlap_scores_key]"
   ]
  },
  {
   "cell_type": "code",
   "execution_count": 131,
   "id": "0b6e83ca-84d5-4637-a569-639426515485",
   "metadata": {},
   "outputs": [
    {
     "data": {
      "text/plain": [
       "(0.5, 0, 3)"
      ]
     },
     "execution_count": 131,
     "metadata": {},
     "output_type": "execute_result"
    }
   ],
   "source": [
    "worst_overlap_scores_key"
   ]
  },
  {
   "cell_type": "code",
   "execution_count": 132,
   "id": "a127fba4-e203-40e4-b799-84e630c5c908",
   "metadata": {},
   "outputs": [
    {
     "data": {
      "text/plain": [
       "[<matplotlib.lines.Line2D at 0x16aaa8250>]"
      ]
     },
     "execution_count": 132,
     "metadata": {},
     "output_type": "execute_result"
    },
    {
     "data": {
      "image/png": "[encoded data removed]",
      "text/plain": [
       "<Figure size 640x480 with 1 Axes>"
      ]
     },
     "metadata": {},
     "output_type": "display_data"
    }
   ],
   "source": [
    "plt.plot(worst_overlap_scores)\n",
    "#plt.semilogy('log')"
   ]
  },
  {
   "cell_type": "code",
   "execution_count": 136,
   "id": "b0665a48-d371-4d93-b7f7-ac022f2c8d72",
   "metadata": {},
   "outputs": [
    {
     "name": "stderr",
     "output_type": "stream",
     "text": [
      "/Users/kierancooney/.pyenv/versions/num_spt_venv_p11/lib/python3.11/site-packages/matplotlib/cbook.py:1699: ComplexWarning: Casting complex values to real discards the imaginary part\n",
      "  return math.isfinite(val)\n",
      "/Users/kierancooney/.pyenv/versions/num_spt_venv_p11/lib/python3.11/site-packages/matplotlib/cbook.py:1345: ComplexWarning: Casting complex values to real discards the imaginary part\n",
      "  return np.asarray(x, float)\n"
     ]
    },
    {
     "data": {
      "text/plain": [
       "[<matplotlib.lines.Line2D at 0x16a9fba50>]"
      ]
     },
     "execution_count": 136,
     "metadata": {},
     "output_type": "execute_result"
    },
    {
     "data": {
      "image/png": "[encoded data removed]",
      "text/plain": [
       "<Figure size 640x480 with 1 Axes>"
      ]
     },
     "metadata": {},
     "output_type": "display_data"
    }
   ],
   "source": [
    "plt.plot(triv_proj_rep_unitarity_scores[worst_overlap_scores_key])"
   ]
  },
  {
   "cell_type": "code",
   "execution_count": 140,
   "id": "7792f61f-249f-4c1c-9313-0d4d89d73782",
   "metadata": {},
   "outputs": [
    {
     "data": {
      "image/png": "[encoded data removed]",
      "text/plain": [
       "<Figure size 1200x400 with 2 Axes>"
      ]
     },
     "metadata": {},
     "output_type": "display_data"
    }
   ],
   "source": [
    "fig, [ax1, ax2] = plt.subplots(ncols=2, figsize=(12, 4))\n",
    "\n",
    "t = 0.55\n",
    "\n",
    "for i in range(2):\n",
    "    for j in range(1, 4):\n",
    "        key = (t, i, j)\n",
    "        ax1.plot(triv_proj_rep_unitarity_scores[key])\n",
    "        ax2.plot(triv_proj_rep_overlap_scores[key])"
   ]
  },
  {
   "cell_type": "code",
   "execution_count": 141,
   "id": "3f066d3e-87df-44a7-a196-b1ec1e46ad8c",
   "metadata": {},
   "outputs": [
    {
     "data": {
      "image/png": "[encoded data removed]",
      "text/plain": [
       "<Figure size 1200x400 with 2 Axes>"
      ]
     },
     "metadata": {},
     "output_type": "display_data"
    }
   ],
   "source": [
    "fig, [ax1, ax2] = plt.subplots(ncols=2, figsize=(12, 4))\n",
    "\n",
    "t = 0.6\n",
    "\n",
    "for i in range(2):\n",
    "    for j in range(1, 4):\n",
    "        key = (t, i, j)\n",
    "        ax1.plot(triv_proj_rep_unitarity_scores[key])\n",
    "        ax2.plot(triv_proj_rep_overlap_scores[key])"
   ]
  },
  {
   "cell_type": "code",
   "execution_count": 142,
   "id": "2af43e37-3f60-4443-8eba-32b774e8ea53",
   "metadata": {},
   "outputs": [
    {
     "data": {
      "image/png": "[encoded data removed]",
      "text/plain": [
       "<Figure size 1200x400 with 2 Axes>"
      ]
     },
     "metadata": {},
     "output_type": "display_data"
    }
   ],
   "source": [
    "fig, [ax1, ax2] = plt.subplots(ncols=2, figsize=(12, 4))\n",
    "\n",
    "t = 0.65\n",
    "\n",
    "for i in range(2):\n",
    "    for j in range(1, 4):\n",
    "        key = (t, i, j)\n",
    "        ax1.plot(triv_proj_rep_unitarity_scores[key])\n",
    "        ax2.plot(triv_proj_rep_overlap_scores[key])"
   ]
  },
  {
   "cell_type": "code",
   "execution_count": 143,
   "id": "dc7c6d25-6ba8-4184-a3a2-b1bf0a638d23",
   "metadata": {},
   "outputs": [
    {
     "data": {
      "image/png": "[encoded data removed]",
      "text/plain": [
       "<Figure size 1200x400 with 2 Axes>"
      ]
     },
     "metadata": {},
     "output_type": "display_data"
    }
   ],
   "source": [
    "fig, [ax1, ax2] = plt.subplots(ncols=2, figsize=(12, 4))\n",
    "\n",
    "t = 0.5\n",
    "\n",
    "for i in range(2):\n",
    "    for j in range(1, 4):\n",
    "        key = (t, i, j)\n",
    "        ax1.plot(triv_proj_rep_unitarity_scores[key])\n",
    "        ax2.plot(triv_proj_rep_overlap_scores[key])"
   ]
  },
  {
   "cell_type": "code",
   "execution_count": 144,
   "id": "0a4ddecd-ca22-4d66-91c5-702ed9344d3f",
   "metadata": {},
   "outputs": [
    {
     "data": {
      "image/png": "[encoded data removed]",
      "text/plain": [
       "<Figure size 1200x400 with 2 Axes>"
      ]
     },
     "metadata": {},
     "output_type": "display_data"
    }
   ],
   "source": [
    "fig, [ax1, ax2] = plt.subplots(ncols=2, figsize=(12, 4))\n",
    "\n",
    "t = 0.45\n",
    "\n",
    "for i in range(2):\n",
    "    for j in range(1, 4):\n",
    "        key = (t, i, j)\n",
    "        ax1.plot(triv_proj_rep_unitarity_scores[key])\n",
    "        ax2.plot(triv_proj_rep_overlap_scores[key])"
   ]
  },
  {
   "cell_type": "code",
   "execution_count": 145,
   "id": "35a545d9-c8ac-4779-844a-22c09321d7bf",
   "metadata": {},
   "outputs": [
    {
     "data": {
      "image/png": "[encoded data removed]",
      "text/plain": [
       "<Figure size 1200x400 with 2 Axes>"
      ]
     },
     "metadata": {},
     "output_type": "display_data"
    }
   ],
   "source": [
    "fig, [ax1, ax2] = plt.subplots(ncols=2, figsize=(12, 4))\n",
    "\n",
    "t = 0.4\n",
    "\n",
    "for i in range(2):\n",
    "    for j in range(1, 4):\n",
    "        key = (t, i, j)\n",
    "        ax1.plot(triv_proj_rep_unitarity_scores[key])\n",
    "        ax2.plot(triv_proj_rep_overlap_scores[key])"
   ]
  },
  {
   "cell_type": "code",
   "execution_count": 146,
   "id": "85d468d7-03bf-414d-8d6f-1c419a7309f7",
   "metadata": {},
   "outputs": [
    {
     "data": {
      "image/png": "[encoded data removed]",
      "text/plain": [
       "<Figure size 1200x400 with 2 Axes>"
      ]
     },
     "metadata": {},
     "output_type": "display_data"
    }
   ],
   "source": [
    "fig, [ax1, ax2] = plt.subplots(ncols=2, figsize=(12, 4))\n",
    "\n",
    "t = 0.35\n",
    "\n",
    "for i in range(2):\n",
    "    for j in range(1, 4):\n",
    "        key = (t, i, j)\n",
    "        ax1.plot(triv_proj_rep_unitarity_scores[key])\n",
    "        ax2.plot(triv_proj_rep_overlap_scores[key])"
   ]
  },
  {
   "cell_type": "markdown",
   "id": "0ca3392f-095b-475f-be29-fa6d18dee1ee",
   "metadata": {},
   "source": [
    "Take subcase, find nice hyperparameters."
   ]
  },
  {
   "cell_type": "markdown",
   "id": "974d2237-a11b-4b7a-b81a-75886ad63d8e",
   "metadata": {},
   "source": [
    "## Check hyperparameters"
   ]
  },
  {
   "cell_type": "code",
   "execution_count": 162,
   "id": "142ce743-077e-4ebb-a80d-a32ef7c5613e",
   "metadata": {},
   "outputs": [],
   "source": [
    "sub_case = cases_triv_proj_rep[(0.4, 0, 1)]"
   ]
  },
  {
   "cell_type": "code",
   "execution_count": 163,
   "id": "ccad0b48-a3c7-40b3-9e32-6d67ff48e3c1",
   "metadata": {},
   "outputs": [],
   "source": [
    "num_sites = 6"
   ]
  },
  {
   "cell_type": "code",
   "execution_count": 164,
   "id": "0dc298a9-3306-4fe6-90cf-84f40cc2feea",
   "metadata": {},
   "outputs": [],
   "source": [
    "unitarity_learning_rate = 1\n",
    "overlap_learning_rate = 50\n",
    "\n",
    "adam_params = (1e-3, 0.4, 0.4)"
   ]
  },
  {
   "cell_type": "code",
   "execution_count": 165,
   "id": "b5fda682-3d8c-4415-83d0-890be1c91543",
   "metadata": {},
   "outputs": [],
   "source": [
    "num_iterations = 1000"
   ]
  },
  {
   "cell_type": "code",
   "execution_count": 166,
   "id": "a6a5ebd1-f96b-4ab0-bae3-54b60e8ef828",
   "metadata": {},
   "outputs": [],
   "source": [
    "bond_dimension=5"
   ]
  },
  {
   "cell_type": "code",
   "execution_count": 167,
   "id": "ff101ac7-416d-4574-80e6-bf9fb97ddeea",
   "metadata": {},
   "outputs": [],
   "source": [
    "physical_dims = [2,]*num_sites\n",
    "virtual_dims = (\n",
    "    [(None, bond_dimension),] +\n",
    "    [(bond_dimension, bond_dimension)]*(num_sites - 2) +\n",
    "    [(bond_dimension, None),]\n",
    ")"
   ]
  },
  {
   "cell_type": "code",
   "execution_count": 168,
   "id": "ada4684b-c6a5-4219-b169-c8b00e6fb401",
   "metadata": {
    "scrolled": true
   },
   "outputs": [
    {
     "name": "stdout",
     "output_type": "stream",
     "text": [
      "61.10275983810425\n"
     ]
    }
   ],
   "source": [
    "c = sub_case\n",
    "\n",
    "start = time.time()\n",
    "\n",
    "(\n",
    "    left_mpo_tensors,\n",
    "    right_mpo_tensors,\n",
    "    left_b_tensors,\n",
    "    right_b_tensors,\n",
    "    left_total_dimension,\n",
    "    right_total_dimension,\n",
    "    unitarity_learning_rate,\n",
    "    overlap_learning_rate,\n",
    "    symmetry_transfer_matrix,\n",
    "    left_adam_optimizers,\n",
    "    right_adam_optimizers\n",
    ") = initialize_optimization(\n",
    "    num_sites,\n",
    "    bond_dimension,\n",
    "    c,\n",
    "    unitarity_learning_rate,\n",
    "    overlap_learning_rate,\n",
    "    adam_params\n",
    ")\n",
    "\n",
    "current_unitarity_scores = list()\n",
    "current_overlap_scores = list()\n",
    "\n",
    "for _ in range(num_iterations):\n",
    "    unitarity, overlap = two_sided_mpo_gradient_descent_sweep(\n",
    "        left_mpo_tensors,\n",
    "        right_mpo_tensors,\n",
    "        left_b_tensors,\n",
    "        right_b_tensors,\n",
    "        left_total_dimension,\n",
    "        right_total_dimension,\n",
    "        unitarity_learning_rate,\n",
    "        overlap_learning_rate,\n",
    "        symmetry_transfer_matrix,\n",
    "        left_adam_optimizers,\n",
    "        right_adam_optimizers\n",
    "    )\n",
    "\n",
    "    current_unitarity_scores.append(unitarity)\n",
    "    current_overlap_scores.append(overlap)\n",
    "\n",
    "end = time.time()\n",
    "print(end - start)"
   ]
  },
  {
   "cell_type": "code",
   "execution_count": 169,
   "id": "bcf1be2e-c273-4853-be5e-d0704a5db801",
   "metadata": {},
   "outputs": [
    {
     "data": {
      "text/plain": [
       "[<matplotlib.lines.Line2D at 0x16b8fd490>]"
      ]
     },
     "execution_count": 169,
     "metadata": {},
     "output_type": "execute_result"
    },
    {
     "data": {
      "image/png": "[encoded data removed]",
      "text/plain": [
       "<Figure size 1200x400 with 2 Axes>"
      ]
     },
     "metadata": {},
     "output_type": "display_data"
    }
   ],
   "source": [
    "fig, [ax1, ax2] = plt.subplots(ncols=2, figsize=(12, 4))\n",
    "\n",
    "ax1.plot(current_unitarity_scores)\n",
    "ax2.plot(current_overlap_scores)"
   ]
  },
  {
   "cell_type": "code",
   "execution_count": 170,
   "id": "5e503035-80ed-49b1-8de5-e68c0e2e0f7c",
   "metadata": {},
   "outputs": [
    {
     "data": {
      "text/plain": [
       "0.9502383611958766"
      ]
     },
     "execution_count": 170,
     "metadata": {},
     "output_type": "execute_result"
    }
   ],
   "source": [
    "current_overlap_scores[-1]"
   ]
  },
  {
   "cell_type": "code",
   "execution_count": 151,
   "id": "d65c875d-2b00-4b25-b3a2-54264a829894",
   "metadata": {},
   "outputs": [],
   "source": [
    "right_phases = list()\n",
    "\n",
    "for l_c, l_s in zip(cases, solutions):\n",
    "\n",
    "    solutions.append(list())\n",
    "\n",
    "    solutions_dict = {\n",
    "        v: k[1] for v, k in zip(symmetry_labels[1:], l_s)\n",
    "    }\n",
    "\n",
    "    b_tensors = [\n",
    "        l_c[0].psi.get_B(i)\n",
    "        for i in range(l_c[0].right_symmetry_index + 1, l_c[0].right_symmetry_index + 1 + num_sites)\n",
    "    ]\n",
    "\n",
    "    current_phases = [\n",
    "        proj_rep_phase(\n",
    "            l_c[0].right_projected_symmetry_state,\n",
    "            b_tensors,\n",
    "            solutions_dict[l1],\n",
    "            solutions_dict[l2],\n",
    "            solutions_dict[l3],\n",
    "        )\n",
    "        for l1, l2, l3 in group_products\n",
    "    ]\n",
    "\n",
    "    right_phases.append(current_phases)"
   ]
  },
  {
   "cell_type": "code",
   "execution_count": 152,
   "id": "7a8d1e37-daee-49ef-b161-173ed886aac3",
   "metadata": {},
   "outputs": [],
   "source": [
    "phases_array = np.array(right_phases)"
   ]
  },
  {
   "cell_type": "code",
   "execution_count": 153,
   "id": "3a2bbffb-5cd7-43de-b106-402e20d662df",
   "metadata": {},
   "outputs": [],
   "source": [
    "gauge_invariant_phases = phases_array[:,::2]/phases_array[:,1::2]"
   ]
  },
  {
   "cell_type": "code",
   "execution_count": 154,
   "id": "fd6845f9-15dc-4c33-b036-45fcdc253a8f",
   "metadata": {},
   "outputs": [
    {
     "data": {
      "text/plain": [
       "array([[-0.999-4.000e-03j, -0.999-4.000e-03j, -1.   -3.000e-03j],\n",
       "       [-1.   -0.000e+00j, -1.   +1.000e-03j, -1.   +0.000e+00j],\n",
       "       [-0.997+2.000e-03j, -1.   -0.000e+00j, -0.995+2.000e-03j],\n",
       "       [-1.005-8.000e-03j, -0.998+9.000e-03j, -0.998+3.200e-02j],\n",
       "       [-0.941+8.000e-03j, -0.998+1.000e-03j, -0.946+9.000e-03j],\n",
       "       [-1.027-5.800e-02j, -1.022+5.000e-03j, -0.883+2.100e-02j],\n",
       "       [-0.999-0.000e+00j, -0.999-2.000e-03j, -1.001+0.000e+00j],\n",
       "       [-0.998+7.000e-03j, -1.005+7.000e-03j, -1.001+3.000e-03j],\n",
       "       [-0.995-2.000e-03j, -1.001-2.000e-03j, -1.005+2.000e-03j],\n",
       "       [-0.989-6.000e-03j, -0.993-5.000e-03j, -0.997-5.000e-03j],\n",
       "       [-3.418+1.220e-01j,  0.137-8.840e-01j,  0.061+1.189e+00j],\n",
       "       [ 0.991+1.000e-03j,  0.986+4.000e-03j,  1.007-5.000e-03j],\n",
       "       [ 0.996-5.000e-03j,  0.994+1.300e-02j,  1.004-1.000e-03j],\n",
       "       [ 1.037+3.000e-02j,  0.948+0.000e+00j,  1.024-2.000e-02j],\n",
       "       [ 1.017-8.000e-03j,  0.982-1.000e-03j,  0.997+8.000e-03j],\n",
       "       [ 0.999-1.000e-03j,  0.983-4.000e-03j,  1.   +4.000e-03j],\n",
       "       [ 1.019-1.800e-02j,  1.002+2.000e-03j,  0.991+1.800e-02j],\n",
       "       [ 0.998-2.000e-03j,  0.988-3.000e-03j,  1.   -2.300e-02j],\n",
       "       [ 0.987-1.000e-03j,  0.996-8.000e-03j,  0.987+8.000e-03j],\n",
       "       [ 1.001-1.000e-02j,  1.015+8.000e-03j,  0.999-2.000e-03j],\n",
       "       [ 0.994-0.000e+00j,  0.965-3.500e-02j,  1.035-1.900e-02j]])"
      ]
     },
     "execution_count": 154,
     "metadata": {},
     "output_type": "execute_result"
    }
   ],
   "source": [
    "np.round(gauge_invariant_phases, 3)"
   ]
  },
  {
   "cell_type": "code",
   "execution_count": 155,
   "id": "5cd62572-3936-4895-99a4-2f0e660337c6",
   "metadata": {},
   "outputs": [
    {
     "data": {
      "text/plain": [
       "array([[-0.999-0.004j, -0.999-0.004j, -1.   -0.003j],\n",
       "       [-1.   -0.j   , -1.   +0.001j, -1.   +0.j   ],\n",
       "       [-0.997+0.002j, -1.   -0.j   , -0.995+0.002j],\n",
       "       [-1.005-0.008j, -0.998+0.009j, -0.998+0.032j],\n",
       "       [-0.941+0.008j, -0.998+0.001j, -0.946+0.009j],\n",
       "       [-1.027-0.058j, -1.022+0.005j, -0.883+0.021j],\n",
       "       [-0.999-0.j   , -0.999-0.002j, -1.001+0.j   ],\n",
       "       [-0.998+0.007j, -1.005+0.007j, -1.001+0.003j],\n",
       "       [-0.995-0.002j, -1.001-0.002j, -1.005+0.002j],\n",
       "       [-0.989-0.006j, -0.993-0.005j, -0.997-0.005j]])"
      ]
     },
     "execution_count": 155,
     "metadata": {},
     "output_type": "execute_result"
    }
   ],
   "source": [
    "np.round(gauge_invariant_phases, 3)[:10]"
   ]
  },
  {
   "cell_type": "code",
   "execution_count": 156,
   "id": "bc990ac6-08fc-4a9f-853f-053f591393b8",
   "metadata": {},
   "outputs": [
    {
     "data": {
      "text/plain": [
       "array([[0.991+0.001j, 0.986+0.004j, 1.007-0.005j],\n",
       "       [0.996-0.005j, 0.994+0.013j, 1.004-0.001j],\n",
       "       [1.037+0.03j , 0.948+0.j   , 1.024-0.02j ],\n",
       "       [1.017-0.008j, 0.982-0.001j, 0.997+0.008j],\n",
       "       [0.999-0.001j, 0.983-0.004j, 1.   +0.004j],\n",
       "       [1.019-0.018j, 1.002+0.002j, 0.991+0.018j],\n",
       "       [0.998-0.002j, 0.988-0.003j, 1.   -0.023j],\n",
       "       [0.987-0.001j, 0.996-0.008j, 0.987+0.008j],\n",
       "       [1.001-0.01j , 1.015+0.008j, 0.999-0.002j],\n",
       "       [0.994-0.j   , 0.965-0.035j, 1.035-0.019j]])"
      ]
     },
     "execution_count": 156,
     "metadata": {},
     "output_type": "execute_result"
    }
   ],
   "source": [
    "np.round(gauge_invariant_phases, 3)[11:]"
   ]
  },
  {
   "cell_type": "code",
   "execution_count": 161,
   "id": "4e64194e-38de-45f4-90ce-68ada4ffd3ae",
   "metadata": {},
   "outputs": [],
   "source": [
    "left_phases = list()\n",
    "\n",
    "for l_c, l_s in zip(cases, solutions):\n",
    "\n",
    "    solutions.append(list())\n",
    "\n",
    "    solutions_dict = {\n",
    "        v: k[0] for v, k in zip(symmetry_labels[1:], l_s)\n",
    "    }\n",
    "\n",
    "    b_tensors = [\n",
    "        l_c[0].psi.get_B(i, form='A')\n",
    "        for i in range(l_c[0].left_symmetry_index - 1, l_c[0].left_symmetry_index - 1 - num_sites, -1)\n",
    "    ]\n",
    "\n",
    "    b_tensors = [swap_left_right_indices(b) for b in b_tensors]\n",
    "\n",
    "    current_phases = [\n",
    "        proj_rep_phase(\n",
    "            swap_left_right_indices(l_c[0].left_projected_symmetry_state),\n",
    "            b_tensors,\n",
    "            solutions_dict[l1],\n",
    "            solutions_dict[l2],\n",
    "            solutions_dict[l3],\n",
    "        )\n",
    "        for l1, l2, l3 in group_products\n",
    "    ]\n",
    "\n",
    "    left_phases.append(current_phases)"
   ]
  },
  {
   "cell_type": "code",
   "execution_count": 162,
   "id": "17291aea-7957-4776-9c34-daa113b9f8f3",
   "metadata": {},
   "outputs": [],
   "source": [
    "phases_array = np.array(left_phases)"
   ]
  },
  {
   "cell_type": "code",
   "execution_count": 163,
   "id": "a27d1e25-6e6f-4c20-9a1a-d4da0d01b11d",
   "metadata": {},
   "outputs": [],
   "source": [
    "gauge_invariant_phases = phases_array[:,::2]/phases_array[:,1::2]"
   ]
  },
  {
   "cell_type": "code",
   "execution_count": 164,
   "id": "c30a9976-1afd-490a-8497-f18083af9bf4",
   "metadata": {},
   "outputs": [
    {
     "data": {
      "text/plain": [
       "array([[-0.986-5.000e-03j, -1.02 -4.000e-03j, -0.992-1.400e-02j],\n",
       "       [-1.006+1.000e-03j, -1.006-2.000e-03j, -0.995-2.000e-03j],\n",
       "       [-1.008+6.000e-03j, -1.009-2.100e-02j, -1.004-6.000e-03j],\n",
       "       [-1.   -0.000e+00j, -1.   +2.000e-03j, -0.998+0.000e+00j],\n",
       "       [-1.011+2.000e-03j, -0.997-1.900e-02j, -0.994+1.600e-02j],\n",
       "       [-1.032-4.800e-02j, -1.009+3.600e-02j, -1.034+1.100e-02j],\n",
       "       [-0.999-2.000e-03j, -0.997-3.000e-03j, -0.996-2.000e-03j],\n",
       "       [-1.002+2.000e-03j, -1.001-1.000e-03j, -1.003-1.000e-03j],\n",
       "       [-1.001-2.000e-02j, -1.004-6.000e-03j, -1.005+1.000e-02j],\n",
       "       [-1.   +0.000e+00j, -1.   -0.000e+00j, -1.002-0.000e+00j],\n",
       "       [-0.853+1.544e+00j, -0.952+6.500e-02j,  0.091-6.950e-01j],\n",
       "       [ 1.001+3.000e-03j,  1.002+1.000e-03j,  1.005+3.000e-03j],\n",
       "       [ 1.007-2.600e-02j,  1.007-8.000e-03j,  0.982+1.200e-02j],\n",
       "       [ 1.011+1.000e-03j,  1.007+5.000e-03j,  1.03 +2.000e-03j],\n",
       "       [ 0.975-4.200e-02j,  1.013-2.400e-02j,  0.991+2.200e-02j],\n",
       "       [ 1.001+6.000e-03j,  1.008-1.900e-02j,  1.008+1.000e-03j],\n",
       "       [ 1.003-9.000e-03j,  1.019-2.200e-02j,  1.003-4.000e-03j],\n",
       "       [ 1.007+1.800e-02j,  0.986+1.500e-02j,  1.012+6.000e-03j],\n",
       "       [ 0.991+5.000e-03j,  1.012+5.000e-03j,  1.025+3.000e-03j],\n",
       "       [ 1.009+1.000e-03j,  0.988-6.000e-03j,  1.   -3.000e-03j],\n",
       "       [ 0.997+7.000e-03j,  0.995+1.000e-02j,  0.994+1.200e-02j]])"
      ]
     },
     "execution_count": 164,
     "metadata": {},
     "output_type": "execute_result"
    }
   ],
   "source": [
    "np.round(gauge_invariant_phases, 3)"
   ]
  },
  {
   "cell_type": "code",
   "execution_count": 165,
   "id": "09e5e0ba-d054-4312-b231-054c68cee150",
   "metadata": {},
   "outputs": [
    {
     "data": {
      "text/plain": [
       "array([[-0.986-0.005j, -1.02 -0.004j, -0.992-0.014j],\n",
       "       [-1.006+0.001j, -1.006-0.002j, -0.995-0.002j],\n",
       "       [-1.008+0.006j, -1.009-0.021j, -1.004-0.006j],\n",
       "       [-1.   -0.j   , -1.   +0.002j, -0.998+0.j   ],\n",
       "       [-1.011+0.002j, -0.997-0.019j, -0.994+0.016j],\n",
       "       [-1.032-0.048j, -1.009+0.036j, -1.034+0.011j],\n",
       "       [-0.999-0.002j, -0.997-0.003j, -0.996-0.002j],\n",
       "       [-1.002+0.002j, -1.001-0.001j, -1.003-0.001j],\n",
       "       [-1.001-0.02j , -1.004-0.006j, -1.005+0.01j ],\n",
       "       [-1.   +0.j   , -1.   -0.j   , -1.002-0.j   ]])"
      ]
     },
     "execution_count": 165,
     "metadata": {},
     "output_type": "execute_result"
    }
   ],
   "source": [
    "np.round(gauge_invariant_phases, 3)[:10]"
   ]
  },
  {
   "cell_type": "code",
   "execution_count": 166,
   "id": "8e043d0d-a7fa-471d-b886-4952faea67ad",
   "metadata": {},
   "outputs": [
    {
     "data": {
      "text/plain": [
       "array([[1.001+0.003j, 1.002+0.001j, 1.005+0.003j],\n",
       "       [1.007-0.026j, 1.007-0.008j, 0.982+0.012j],\n",
       "       [1.011+0.001j, 1.007+0.005j, 1.03 +0.002j],\n",
       "       [0.975-0.042j, 1.013-0.024j, 0.991+0.022j],\n",
       "       [1.001+0.006j, 1.008-0.019j, 1.008+0.001j],\n",
       "       [1.003-0.009j, 1.019-0.022j, 1.003-0.004j],\n",
       "       [1.007+0.018j, 0.986+0.015j, 1.012+0.006j],\n",
       "       [0.991+0.005j, 1.012+0.005j, 1.025+0.003j],\n",
       "       [1.009+0.001j, 0.988-0.006j, 1.   -0.003j],\n",
       "       [0.997+0.007j, 0.995+0.01j , 0.994+0.012j]])"
      ]
     },
     "execution_count": 166,
     "metadata": {},
     "output_type": "execute_result"
    }
   ],
   "source": [
    "np.round(gauge_invariant_phases, 3)[11:]"
   ]
  },
  {
   "cell_type": "markdown",
   "id": "ad4604b4-5e93-429a-b450-84582af2fe19",
   "metadata": {},
   "source": [
    "# SPT definitions"
   ]
  },
  {
   "cell_type": "code",
   "execution_count": 131,
   "id": "23e62c10-6c32-4ee4-9cde-ac7f05c69d7f",
   "metadata": {},
   "outputs": [],
   "source": [
    "from itertools import combinations"
   ]
  },
  {
   "cell_type": "code",
   "execution_count": 132,
   "id": "d1cd215b-c62c-405e-9adc-9a97db7142e2",
   "metadata": {},
   "outputs": [],
   "source": [
    "symmetry_combination_labels = list(combinations(symmetry_labels, 2))"
   ]
  },
  {
   "cell_type": "code",
   "execution_count": 133,
   "id": "45a081ff-eb82-4ff5-9700-55f11824f366",
   "metadata": {},
   "outputs": [
    {
     "data": {
      "text/plain": [
       "[('II', 'IX'),\n",
       " ('II', 'XI'),\n",
       " ('II', 'XX'),\n",
       " ('IX', 'XI'),\n",
       " ('IX', 'XX'),\n",
       " ('XI', 'XX')]"
      ]
     },
     "execution_count": 133,
     "metadata": {},
     "output_type": "execute_result"
    }
   ],
   "source": [
    "symmetry_combination_labels"
   ]
  },
  {
   "cell_type": "code",
   "execution_count": 134,
   "id": "aab20cf0-ae51-4603-9192-5ba0741b6a6d",
   "metadata": {},
   "outputs": [],
   "source": [
    "e, a, b, c = symmetry_labels"
   ]
  },
  {
   "cell_type": "code",
   "execution_count": 135,
   "id": "955bfb99-9c73-4794-b14e-f62f7872abe5",
   "metadata": {},
   "outputs": [],
   "source": [
    "group_products = [\n",
    "    (a, b, c),\n",
    "    (b, a, c),\n",
    "    (a, c, b),\n",
    "    (c, a, b),\n",
    "    (c, b, a),\n",
    "    (b, c, a)\n",
    "]"
   ]
  },
  {
   "cell_type": "markdown",
   "id": "aed49dc6-c6b7-40c4-a5b7-e250bdfce9b0",
   "metadata": {},
   "source": [
    "# Conclusions\n",
    "* It works! Could be more precise perhaps with better optimization, but it works!"
   ]
  },
  {
   "cell_type": "code",
   "execution_count": null,
   "id": "a491044e-f888-4b99-99d4-35e76e55f4a6",
   "metadata": {},
   "outputs": [],
   "source": []
  }
 ],
 "metadata": {
  "kernelspec": {
   "display_name": "num_spt_venv_p11",
   "language": "python",
   "name": "num_spt_venv_p11"
  },
  "language_info": {
   "codemirror_mode": {
    "name": "ipython",
    "version": 3
   },
   "file_extension": ".py",
   "mimetype": "text/x-python",
   "name": "python",
   "nbconvert_exporter": "python",
   "pygments_lexer": "ipython3",
   "version": "3.11.9"
  }
 },
 "nbformat": 4,
 "nbformat_minor": 5
}
