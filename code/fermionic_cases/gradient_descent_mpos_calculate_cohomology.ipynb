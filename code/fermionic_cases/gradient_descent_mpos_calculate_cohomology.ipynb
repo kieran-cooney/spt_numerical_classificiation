{
 "cells": [
  {
   "cell_type": "markdown",
   "id": "5b626275-a344-4050-b6c1-bc9eeac43ae5",
   "metadata": {},
   "source": [
    "# Gradient descent - MPOs calcualte cohomology\n",
    "Created 12/05/2024\n",
    "\n",
    "Objectives:\n",
    "* Load previous solutions and check.\n",
    "* Calculate fermionic cohomology.\n",
    "* Then calculate proj rep cohomology."
   ]
  },
  {
   "cell_type": "markdown",
   "id": "9ad0db4d-805c-4403-9d48-c71d523d572f",
   "metadata": {},
   "source": [
    "# Package imports"
   ]
  },
  {
   "cell_type": "code",
   "execution_count": 1,
   "id": "ecb41ea3-927f-4efa-aebe-ce15784aa037",
   "metadata": {},
   "outputs": [],
   "source": [
    "import sys"
   ]
  },
  {
   "cell_type": "code",
   "execution_count": 2,
   "id": "0375bd38-12e1-417a-908a-13fb540081f5",
   "metadata": {},
   "outputs": [],
   "source": [
    "sys.path.append(\"../\")"
   ]
  },
  {
   "cell_type": "code",
   "execution_count": 59,
   "id": "24a13885-9dbd-4e5a-abed-9a67af92458e",
   "metadata": {},
   "outputs": [],
   "source": [
    "from functools import reduce\n",
    "from operator import mul\n",
    "\n",
    "from collections import namedtuple\n",
    "\n",
    "import time\n",
    "import pickle"
   ]
  },
  {
   "cell_type": "code",
   "execution_count": 4,
   "id": "4a525ec6-f0c8-47ee-8b0b-345bf0ef8bd3",
   "metadata": {},
   "outputs": [],
   "source": [
    "import h5py\n",
    "from tenpy.tools import hdf5_io\n",
    "import tenpy\n",
    "import tenpy.linalg.np_conserved as npc\n",
    "\n",
    "import os"
   ]
  },
  {
   "cell_type": "code",
   "execution_count": 5,
   "id": "214f688a-c657-4810-b4d1-b1247deff62c",
   "metadata": {},
   "outputs": [],
   "source": [
    "import numpy as np\n",
    "import pandas as pd\n",
    "\n",
    "rng = np.random.default_rng()\n",
    "import matplotlib.pyplot as plt"
   ]
  },
  {
   "cell_type": "code",
   "execution_count": 6,
   "id": "b7461fe3-41a3-492f-b018-8e32e27a7300",
   "metadata": {},
   "outputs": [],
   "source": [
    "import re"
   ]
  },
  {
   "cell_type": "code",
   "execution_count": 7,
   "id": "aeb48fbe-9ee7-4f88-9a91-b52643b95a4f",
   "metadata": {},
   "outputs": [],
   "source": [
    "from SPTOptimization.utils import (\n",
    "    get_right_identity_environment_from_tp_tensor,\n",
    "    get_left_identity_environment_from_tp_tensor,\n",
    "    to_npc_array,\n",
    "    get_physical_dim\n",
    ")\n",
    "\n",
    "from SPTOptimization.SymmetryActionWithBoundaryUnitaries import SymmetryActionWithBoundaryUnitaries"
   ]
  },
  {
   "cell_type": "markdown",
   "id": "0dd074eb-4e79-4a83-97a0-8f7b14c0d73a",
   "metadata": {},
   "source": [
    "# Load data"
   ]
  },
  {
   "cell_type": "code",
   "execution_count": 8,
   "id": "a073ec4a-1d8d-4786-af9f-11e750b1e3a9",
   "metadata": {},
   "outputs": [],
   "source": [
    "DATA_DIR_1 = r\"../data/interpolated_trivial_to_nontrivial_fermionic_trivial_proj_rep_200_site_dmrg/\"\n",
    "DATA_DIR_2 = r\"../data/interpolated_nontrivial_fermionic_proj_rep_to_nontrivial_proj_rep_200_site_dmrg/\""
   ]
  },
  {
   "cell_type": "code",
   "execution_count": 9,
   "id": "9fd5bc67-e5e4-4b8f-a5e4-f5120506f1ed",
   "metadata": {},
   "outputs": [],
   "source": [
    "def parse_file_name(file_name):\n",
    "    interpolation = int(file_name.split('_')[0])/100\n",
    "\n",
    "    return interpolation"
   ]
  },
  {
   "cell_type": "code",
   "execution_count": 10,
   "id": "cadba15d-69d8-4f4d-9e7e-16735328866b",
   "metadata": {},
   "outputs": [],
   "source": [
    "loaded_data_triv_proj_rep = dict()\n",
    "energies_triv_proj_rep = dict()\n",
    "\n",
    "for local_file_name in list(os.walk(DATA_DIR_1))[0][2]:\n",
    "    f_name = r\"{}/{}\".format(DATA_DIR_1, local_file_name, ignore_unknown=False)\n",
    "    with h5py.File(f_name, 'r') as f:\n",
    "        data = hdf5_io.load_from_hdf5(f)\n",
    "\n",
    "        data_info = parse_file_name(local_file_name)\n",
    "        loaded_data_triv_proj_rep[data_info]=data['wavefunction']\n",
    "        energies_triv_proj_rep[data_info]=data['energy']"
   ]
  },
  {
   "cell_type": "code",
   "execution_count": 11,
   "id": "d694f0e0-4ab2-4eea-8f21-7177abc2de50",
   "metadata": {},
   "outputs": [],
   "source": [
    "loaded_data_non_triv_proj_rep = dict()\n",
    "energies_non_triv_proj_rep = dict()\n",
    "\n",
    "for local_file_name in list(os.walk(DATA_DIR_2))[0][2]:\n",
    "    f_name = r\"{}/{}\".format(DATA_DIR_2, local_file_name, ignore_unknown=False)\n",
    "\n",
    "    with h5py.File(f_name, 'r') as f:\n",
    "        data = hdf5_io.load_from_hdf5(f)\n",
    "\n",
    "        data_info = parse_file_name(local_file_name)\n",
    "        loaded_data_non_triv_proj_rep[data_info]=data['wavefunction']\n",
    "        energies_non_triv_proj_rep[data_info]=data['energy']"
   ]
  },
  {
   "cell_type": "markdown",
   "id": "914eed85-86ca-41c9-9839-a758b596f631",
   "metadata": {},
   "source": [
    "# Definitons"
   ]
  },
  {
   "cell_type": "code",
   "execution_count": 12,
   "id": "63506364-f535-4c0f-8c5f-8839c69f7b9d",
   "metadata": {},
   "outputs": [],
   "source": [
    "MAX_VIRTUAL_BOND_DIM = 30\n",
    "MAX_INTERMEDIATE_VIRTUAL_BOND_DIM = 2*MAX_VIRTUAL_BOND_DIM\n",
    "# MPO bond dim?\n",
    "MAX_MPO_BOND_DIM = 50\n",
    "\n",
    "SVD_CUTOFF = 1e-3"
   ]
  },
  {
   "cell_type": "markdown",
   "id": "7a2700f1-9c35-422c-9f64-c1ebeae21207",
   "metadata": {},
   "source": [
    "Define bosonic symmetries. Label by the group element added."
   ]
  },
  {
   "cell_type": "code",
   "execution_count": 13,
   "id": "513d7288-c641-4071-a4a3-652787d1f98c",
   "metadata": {},
   "outputs": [],
   "source": [
    "np_00 = np.array([\n",
    "    [1, 0, 0, 0],\n",
    "    [0, 1, 0, 0],\n",
    "    [0, 0, 1, 0],\n",
    "    [0, 0, 0, 1]\n",
    "])\n",
    "\n",
    "np_01 = np.array([\n",
    "    [0, 1, 0, 0],\n",
    "    [1, 0, 0, 0],\n",
    "    [0, 0, 0, 1],\n",
    "    [0, 0, 1, 0]\n",
    "])\n",
    "\n",
    "np_10 = np.array([\n",
    "    [0, 0, 1, 0],\n",
    "    [0, 0, 0, 1],\n",
    "    [1, 0, 0, 0],\n",
    "    [0, 1, 0, 0]\n",
    "])\n",
    "\n",
    "np_11 = np.array([\n",
    "    [0, 0, 0, 1],\n",
    "    [0, 0, 1, 0],\n",
    "    [0, 1, 0, 0],\n",
    "    [1, 0, 0, 0]\n",
    "])"
   ]
  },
  {
   "cell_type": "code",
   "execution_count": 14,
   "id": "c83907c6-e86f-48af-a2a1-11b250f47e84",
   "metadata": {},
   "outputs": [],
   "source": [
    "bosonic_np_symmetries = [\n",
    "    np_00,\n",
    "    np_01,\n",
    "    np_10,\n",
    "    np_11\n",
    "]"
   ]
  },
  {
   "cell_type": "code",
   "execution_count": 15,
   "id": "fd7c7309-10ee-4834-b153-9a4121462fca",
   "metadata": {},
   "outputs": [],
   "source": [
    "bosonic_npc_symmetries = [\n",
    "    to_npc_array(X) for X in bosonic_np_symmetries\n",
    "]"
   ]
  },
  {
   "cell_type": "code",
   "execution_count": 16,
   "id": "2a78a62e-37eb-4baf-98ba-d6a94d599bec",
   "metadata": {},
   "outputs": [],
   "source": [
    "npc_00 = to_npc_array(np_00)\n",
    "npc_01 = to_npc_array(np_01)\n",
    "npc_10 = to_npc_array(np_10)\n",
    "npc_11 = to_npc_array(np_11)"
   ]
  },
  {
   "cell_type": "markdown",
   "id": "5c8a3f80-d770-441f-baad-5ab9ac713e51",
   "metadata": {},
   "source": [
    "Define \"fermionic symmetries\". Just identity and JW string."
   ]
  },
  {
   "cell_type": "code",
   "execution_count": 17,
   "id": "a1c64bf0-4b2e-4492-b242-3dae6eb527c3",
   "metadata": {},
   "outputs": [],
   "source": [
    "np_I = np.array([\n",
    "    [1, 0],\n",
    "    [0, 1]\n",
    "])\n",
    "\n",
    "np_JW = np.array([\n",
    "    [1, 0],\n",
    "    [0, -1]\n",
    "])"
   ]
  },
  {
   "cell_type": "code",
   "execution_count": 18,
   "id": "e595ca13-740a-41a3-a658-8831c8f54323",
   "metadata": {},
   "outputs": [],
   "source": [
    "fermionic_np_symmetries = [np_I, np_JW]"
   ]
  },
  {
   "cell_type": "code",
   "execution_count": 19,
   "id": "6e5b6ad0-2496-4072-afe9-c41fc62da40e",
   "metadata": {},
   "outputs": [],
   "source": [
    "fermionic_npc_symmetries = [\n",
    "    to_npc_array(X) for X in fermionic_np_symmetries\n",
    "]"
   ]
  },
  {
   "cell_type": "code",
   "execution_count": 20,
   "id": "a2b43b48-e438-4702-8287-f5d27fc47f7b",
   "metadata": {},
   "outputs": [],
   "source": [
    "npc_JW = fermionic_npc_symmetries[1]"
   ]
  },
  {
   "cell_type": "code",
   "execution_count": 21,
   "id": "b9e2f954-c591-4479-ba37-32862c25c660",
   "metadata": {},
   "outputs": [],
   "source": [
    "symmetry_actions = [\n",
    "    [[b, f] for b in bosonic_np_symmetries]\n",
    "    for f in fermionic_np_symmetries\n",
    "]"
   ]
  },
  {
   "cell_type": "code",
   "execution_count": 22,
   "id": "8c945b86-cec1-4b08-930f-1922b7e1bea6",
   "metadata": {},
   "outputs": [],
   "source": [
    "shifted_symmetry_actions = [\n",
    "    [[f, b] for b in bosonic_np_symmetries]\n",
    "    for f in fermionic_np_symmetries\n",
    "]"
   ]
  },
  {
   "cell_type": "code",
   "execution_count": 23,
   "id": "ac19b501-4293-4d08-8bb0-35515cd6a093",
   "metadata": {},
   "outputs": [],
   "source": [
    "cases_triv_proj_rep = dict()\n",
    "\n",
    "for k, psi in loaded_data_triv_proj_rep.items():\n",
    "\n",
    "    for i, l in enumerate(symmetry_actions):\n",
    "\n",
    "        for j, s in enumerate(l):\n",
    "            case = SymmetryActionWithBoundaryUnitaries(\n",
    "                psi,\n",
    "                s*40,\n",
    "                left_symmetry_index=60,\n",
    "                left_boundary_unitaries=[np_I, np_00]*1,\n",
    "                right_boundary_unitaries=[np_00, np_I]*1\n",
    "            )\n",
    "\n",
    "            cases_triv_proj_rep[(k, i, j)] = case"
   ]
  },
  {
   "cell_type": "code",
   "execution_count": 24,
   "id": "8e7ff810-32b3-4163-9b1b-ca96a282a7f5",
   "metadata": {},
   "outputs": [],
   "source": [
    "for c in cases_triv_proj_rep.values():\n",
    "    c.compute_svd_approximate_expectation()"
   ]
  },
  {
   "cell_type": "code",
   "execution_count": 25,
   "id": "d5a75573-aebb-4b9c-904f-342f9f57c345",
   "metadata": {},
   "outputs": [],
   "source": [
    "cases_non_triv_proj_rep = dict()\n",
    "\n",
    "for k, psi in loaded_data_non_triv_proj_rep.items():\n",
    "\n",
    "    for i, l in enumerate(symmetry_actions):\n",
    "\n",
    "        for j, s in enumerate(l):\n",
    "            case = SymmetryActionWithBoundaryUnitaries(\n",
    "                psi,\n",
    "                s*40,\n",
    "                left_symmetry_index=60,\n",
    "                left_boundary_unitaries=[np_I, np_00]*1,\n",
    "                right_boundary_unitaries=[np_00, np_I]*1\n",
    "            )\n",
    "\n",
    "            cases_non_triv_proj_rep[(k, i, j)] = case"
   ]
  },
  {
   "cell_type": "code",
   "execution_count": 26,
   "id": "8d8df7a6-3e0c-4e4f-bc02-97d989f2c6e1",
   "metadata": {},
   "outputs": [],
   "source": [
    "for c in cases_non_triv_proj_rep.values():\n",
    "    c.compute_svd_approximate_expectation()"
   ]
  },
  {
   "cell_type": "code",
   "execution_count": 27,
   "id": "6bac53fa-b629-46fc-a145-f932a0af6f18",
   "metadata": {},
   "outputs": [],
   "source": [
    "left_trivial_leg_charge = tenpy.linalg.charges.LegCharge(\n",
    "    tenpy.linalg.charges.ChargeInfo([], []),\n",
    "    [0,1],\n",
    "    [[]],\n",
    "    qconj=1\n",
    ")"
   ]
  },
  {
   "cell_type": "code",
   "execution_count": 28,
   "id": "44f34cb7-0888-474b-9483-f4956951fc31",
   "metadata": {},
   "outputs": [],
   "source": [
    "right_trivial_leg_charge = tenpy.linalg.charges.LegCharge(\n",
    "    tenpy.linalg.charges.ChargeInfo([], []),\n",
    "    [0,1],\n",
    "    [[]],\n",
    "    qconj=-1\n",
    ")"
   ]
  },
  {
   "cell_type": "markdown",
   "id": "5ee06cdc-8577-460b-82cb-2110e47c931a",
   "metadata": {},
   "source": [
    "## Functions"
   ]
  },
  {
   "cell_type": "code",
   "execution_count": 29,
   "id": "f7500fa8-a1c6-45bf-949b-53a7526a5be9",
   "metadata": {},
   "outputs": [],
   "source": [
    "def get_physical_dim(tensor, p_label='p'):\n",
    "    index = tensor.get_leg_index(p_label)\n",
    "    dim = tensor.shape[index]\n",
    "    return dim"
   ]
  },
  {
   "cell_type": "code",
   "execution_count": 30,
   "id": "ba98ff84-8c5c-4f71-aa88-abbe2b839bff",
   "metadata": {},
   "outputs": [],
   "source": [
    "def mpo_frobenius_inner_product(mpo1_tensors, mpo2_tensors=None):\n",
    "    if mpo2_tensors is None:\n",
    "        mpo2_tensors = mpo1_tensors\n",
    "\n",
    "    w1 = mpo1_tensors[0]\n",
    "    dim = get_physical_dim(w1, p_label='p')\n",
    "    w2 = mpo2_tensors[0]\n",
    "\n",
    "    t = npc.tensordot(w1, w2.conj(), [['p', 'p*'], ['p*', 'p']])\n",
    "    #t /= dim\n",
    "\n",
    "    for w1, w2 in zip(mpo1_tensors[1:], mpo2_tensors[1:]):\n",
    "        dim = get_physical_dim(w1, p_label='p')\n",
    "\n",
    "        t = npc.tensordot(t, w1, [['vR', ], ['vL']])\n",
    "        t = npc.tensordot(t, w2.conj(), [['vR*', 'p', 'p*'], ['vL*', 'p*', 'p']])\n",
    "        #t /= dim\n",
    "\n",
    "    return t"
   ]
  },
  {
   "cell_type": "code",
   "execution_count": 31,
   "id": "2e202c02-6390-49eb-9b99-32147572b6fa",
   "metadata": {},
   "outputs": [],
   "source": [
    "def unitary_order_two_right_tensors(w_tensors):\n",
    "    out = list()\n",
    "\n",
    "    w = w_tensors[-1]\n",
    "    t = npc.tensordot(w, w.conj(), [['p', 'p*'], ['p*', 'p']])\n",
    "\n",
    "    out.append(t)\n",
    "\n",
    "    for w in w_tensors[-2:0:-1]:\n",
    "        t = npc.tensordot(t, w, [['vL',], ['vR']])\n",
    "        t = npc.tensordot(t, w.conj(), [['vL*', 'p', 'p*'], ['vR*', 'p*', 'p']])\n",
    "\n",
    "        out.append(t)\n",
    "\n",
    "    return out[::-1]"
   ]
  },
  {
   "cell_type": "code",
   "execution_count": 32,
   "id": "e12a7b85-584a-4b5c-8c12-039cc8752ca8",
   "metadata": {},
   "outputs": [],
   "source": [
    "def unitary_order_four_right_tensors(w_tensors):\n",
    "    out = list()\n",
    "\n",
    "    w = w_tensors[-1]\n",
    "    t = npc.tensordot(w, w.conj(), [['p',], ['p*',]])\n",
    "    t.ireplace_labels(['vL', 'vL*'], ['vL1', 'vL1*'])\n",
    "    t = npc.tensordot(t, w, [['p',], ['p*',]])\n",
    "    t = npc.tensordot(t, w.conj(), [['p', 'p*'], ['p*', 'p']])\n",
    "    \n",
    "    out.append(t)\n",
    "\n",
    "    for w in w_tensors[-2:0:-1]:\n",
    "        t = npc.tensordot(t, w, [['vL',], ['vR',]])\n",
    "        t = npc.tensordot(t, w.conj(), [['vL*', 'p'], ['vR*', 'p*']])\n",
    "\n",
    "        w = w.replace_label('vL', 'vL1')\n",
    "    \n",
    "        t = npc.tensordot(t, w, [['vL1', 'p',], ['vR', 'p*']])\n",
    "        t = npc.tensordot(t, w.conj(), [['vL1*', 'p', 'p*'], ['vR*', 'p*', 'p']])\n",
    "\n",
    "        out.append(t)\n",
    "\n",
    "    return out[::-1]"
   ]
  },
  {
   "cell_type": "code",
   "execution_count": 33,
   "id": "d16af878-4506-4fd0-8e37-92a6d7e1360d",
   "metadata": {},
   "outputs": [],
   "source": [
    "def overlap_right_tensors(w_tensors, b_tensors):\n",
    "    out = list()\n",
    "\n",
    "    t = get_right_identity_environment_from_tp_tensor(b_tensors[-1])\n",
    "\n",
    "    out.append(t)\n",
    "\n",
    "    # First site\n",
    "    b = b_tensors[-1]\n",
    "    w = w_tensors[-1]\n",
    "    \n",
    "    t = npc.tensordot(t, b, [['vL',], ['vR',]])\n",
    "    t = npc.tensordot(\n",
    "        t,\n",
    "        w.replace_label('vL', 'vLm'),\n",
    "        [['p',], ['p*',]]\n",
    "    )\n",
    "    t = npc.tensordot(t, b.conj(), [['p', 'vL*',], ['p*', 'vR*',]])\n",
    "\n",
    "    out.append(t)\n",
    "\n",
    "    # Inner sites\n",
    "    for w, b in zip(w_tensors[-2:0:-1], b_tensors[-2:0:-1]):\n",
    "        t = npc.tensordot(t, b, [['vL',], ['vR',]])\n",
    "        t = npc.tensordot(\n",
    "            t,\n",
    "            w.replace_label('vL', 'vLm'),\n",
    "            [['p', 'vLm'], ['p*', 'vR']]\n",
    "        )\n",
    "        t = npc.tensordot(t, b.conj(), [['p', 'vL*',], ['p*', 'vR*',]])\n",
    "    \n",
    "        out.append(t)\n",
    "\n",
    "    # Last site\n",
    "    b = b_tensors[0]\n",
    "    w = w_tensors[0]\n",
    "\n",
    "    t = npc.tensordot(t, b, [['vL',], ['vR',]])\n",
    "    t = npc.tensordot(\n",
    "        t,\n",
    "        w,\n",
    "        [['p', 'vLm'], ['p*', 'vR']]\n",
    "    )\n",
    "    t = npc.tensordot(t, b.conj(), [['p', 'vL*',], ['p*', 'vR*',]])\n",
    "\n",
    "    out.append(t)\n",
    "\n",
    "    return out[::-1]"
   ]
  },
  {
   "cell_type": "markdown",
   "id": "3b1fda53-6670-4188-b86e-d2809f353b43",
   "metadata": {},
   "source": [
    "### Initialize tensors"
   ]
  },
  {
   "cell_type": "code",
   "execution_count": 34,
   "id": "6663e659-fb23-426d-afc6-70a00d2984d3",
   "metadata": {},
   "outputs": [],
   "source": [
    "def rescale_mpo_tensors(mpo_tensors, new_norm):\n",
    "    num_sites = len(mpo_tensors)\n",
    "\n",
    "    old_norm = mpo_frobenius_inner_product(mpo_tensors).real\n",
    "    \n",
    "    scale_factor = np.power(\n",
    "        new_norm/old_norm,\n",
    "        1/(2*num_sites)\n",
    "    )\n",
    "\n",
    "    for i in range(num_sites):\n",
    "        mpo_tensors[i] = scale_factor*mpo_tensors[i]"
   ]
  },
  {
   "cell_type": "code",
   "execution_count": 35,
   "id": "4c09d507-0f5d-486e-bb5e-22f8d35a9fc3",
   "metadata": {},
   "outputs": [],
   "source": [
    "def generate_random_w_tensor(physical_dim, left_virtual_dim=None,\n",
    "                             right_virtual_dim=None):\n",
    "\n",
    "    if (left_virtual_dim is None) and (right_virtual_dim is None):\n",
    "        dims = (physical_dim, physical_dim)\n",
    "    elif (left_virtual_dim is None):\n",
    "        dims = (physical_dim, physical_dim, right_virtual_dim)\n",
    "    elif (right_virtual_dim is None):\n",
    "        dims = (physical_dim, physical_dim, left_virtual_dim)\n",
    "    else: \n",
    "        dims = (\n",
    "            physical_dim,\n",
    "            physical_dim,\n",
    "            left_virtual_dim,\n",
    "            right_virtual_dim\n",
    "        )\n",
    "    \n",
    "    X1 = rng.normal(size=dims)\n",
    "    X2 = 1j*rng.normal(size=dims)\n",
    "    X = X1 + X2\n",
    "\n",
    "        \n",
    "    if (left_virtual_dim is None) and (right_virtual_dim is None):\n",
    "        out = npc.Array.from_ndarray_trivial(X, labels=['p', 'p*'])\n",
    "    elif right_virtual_dim is None:\n",
    "        out = npc.Array.from_ndarray_trivial(X, labels=['p', 'p*', 'vL'])\n",
    "    elif left_virtual_dim is None:\n",
    "        out = npc.Array.from_ndarray_trivial(X, labels=['p', 'p*', 'vR'])\n",
    "    else:\n",
    "        out = npc.Array.from_ndarray_trivial(\n",
    "            X,\n",
    "            labels=['p', 'p*', 'vL', 'vR']\n",
    "        )\n",
    "\n",
    "    return out"
   ]
  },
  {
   "cell_type": "code",
   "execution_count": 36,
   "id": "e779de84-d12b-4de3-b9d8-004bdf6e47bd",
   "metadata": {},
   "outputs": [],
   "source": [
    "def get_random_mpo_tensors(num_sites, norm=None):\n",
    "    \"\"\"\n",
    "    Needs more arguments\n",
    "    \"\"\"\n",
    "\n",
    "    w = generate_random_w_tensor(edge_dims)\n",
    "    w_tensor = npc.Array.from_ndarray_trivial(\n",
    "        w,\n",
    "        labels=['p', 'p*', 'vR']\n",
    "    )\n",
    "\n",
    "    w_tensors = [w_tensor,]\n",
    "\n",
    "    for _ in range(num_sites-2):\n",
    "        w = generate_random_w_tensor(inner_dims)\n",
    "        w_tensor = npc.Array.from_ndarray_trivial(w, labels=['p', 'p*', 'vL', 'vR'])\n",
    "        \n",
    "        w_tensors.append(w_tensor)\n",
    "\n",
    "    w = generate_random_w_tensor(edge_dims)\n",
    "    w_tensor = npc.Array.from_ndarray_trivial(\n",
    "        w,\n",
    "        labels=['p', 'p*', 'vL']\n",
    "    )\n",
    "    w_tensors.append(w_tensor)\n",
    "\n",
    "    if norm is not None:\n",
    "        rescale_mpo_tensors(w_tensors, norm)\n",
    "\n",
    "    return w_tensors"
   ]
  },
  {
   "cell_type": "code",
   "execution_count": 37,
   "id": "3ffba566-177e-46a4-bb02-953f6a6c8250",
   "metadata": {},
   "outputs": [],
   "source": [
    "def get_identity_w_tensor(physical_dim, left_virtual_dim=None, right_virtual_dim=None):\n",
    "    diagonal = np.ones(physical_dim, dtype='complex')\n",
    "    identity_matrix = np.diag(diagonal)\n",
    "    \n",
    "    if (left_virtual_dim is None) and (right_virtual_dim is None):\n",
    "        w_tensor = npc.Array.from_ndarray_trivial(\n",
    "            identity_matrix,\n",
    "            labels=['p', 'p*']\n",
    "        )\n",
    "    elif right_virtual_dim is None:\n",
    "        X = np.zeros(\n",
    "            (physical_dim, physical_dim, left_virtual_dim),\n",
    "            dtype='complex'\n",
    "        )\n",
    "        X[...,0] = identity_matrix\n",
    "        w_tensor = npc.Array.from_ndarray_trivial(\n",
    "            X,\n",
    "            labels=['p', 'p*', 'vL']\n",
    "        )\n",
    "    elif left_virtual_dim is None:\n",
    "        X = np.zeros(\n",
    "            (physical_dim, physical_dim, right_virtual_dim),\n",
    "            dtype='complex'\n",
    "        )\n",
    "        X[...,0] = identity_matrix\n",
    "        w_tensor = npc.Array.from_ndarray_trivial(\n",
    "            X,\n",
    "            labels=['p', 'p*', 'vR']\n",
    "        )\n",
    "    else:\n",
    "        X = np.zeros(\n",
    "            (physical_dim, physical_dim, left_virtual_dim, right_virtual_dim),\n",
    "            dtype='complex'\n",
    "        )\n",
    "        X[...,0,0] = identity_matrix\n",
    "        w_tensor = npc.Array.from_ndarray_trivial(\n",
    "            X,\n",
    "            labels=['p', 'p*', 'vL', 'vR']\n",
    "        )\n",
    "\n",
    "    return w_tensor"
   ]
  },
  {
   "cell_type": "code",
   "execution_count": 38,
   "id": "0e11bd70-f8d2-4254-870c-75620f9da400",
   "metadata": {},
   "outputs": [],
   "source": [
    "def get_random_mpo_tensors(physical_dims, virtual_dims):\n",
    "    \"\"\"\n",
    "    Could fold in with get_identity_mpo_tensors\n",
    "    \"\"\"\n",
    "\n",
    "    w_tensors = [\n",
    "        generate_random_w_tensor(p_dim, *v_dims)\n",
    "        for p_dim, v_dims in zip(physical_dims, virtual_dims)\n",
    "    ]\n",
    "\n",
    "    return w_tensors"
   ]
  },
  {
   "cell_type": "code",
   "execution_count": 39,
   "id": "416a67d2-bf88-4655-8ffb-c7d7e0afff98",
   "metadata": {},
   "outputs": [],
   "source": [
    "def get_identity_mpo_tensors(physical_dims, virtual_dims):\n",
    "    \"\"\"\n",
    "    Needs more comments, docs!\n",
    "\n",
    "    Often physical dims, virtual dims will be the same, so could add\n",
    "    optional behaviour...\n",
    "    \"\"\"\n",
    "\n",
    "    w_tensors = [\n",
    "        get_identity_w_tensor(p_dim, *v_dims)\n",
    "        for p_dim, v_dims in zip(physical_dims, virtual_dims)\n",
    "    ]\n",
    "\n",
    "    return w_tensors"
   ]
  },
  {
   "cell_type": "markdown",
   "id": "e57bf0ac-6b4d-4988-98e7-fe319d6166c1",
   "metadata": {},
   "source": [
    "### ADAM functions"
   ]
  },
  {
   "cell_type": "code",
   "execution_count": 40,
   "id": "7ebe448b-1c37-4bb0-ba43-72ee28829714",
   "metadata": {},
   "outputs": [],
   "source": [
    "def squared_components(X):\n",
    "    r, i = (X.real, X.imag)\n",
    "    return r**2 + 1j*(i**2)"
   ]
  },
  {
   "cell_type": "code",
   "execution_count": 41,
   "id": "31b74760-623b-4dd4-a319-24e51b4f08f9",
   "metadata": {},
   "outputs": [],
   "source": [
    "def square_root_components(X):\n",
    "    r, i = (X.real, X.imag)\n",
    "    return np.sqrt(r) + 1j*np.sqrt(i)"
   ]
  },
  {
   "cell_type": "code",
   "execution_count": 42,
   "id": "91bff15c-8ecf-44a9-995f-b7f4b8f0615c",
   "metadata": {},
   "outputs": [],
   "source": [
    "class AdamTenpy:\n",
    "    def __init__(self, alpha=0.001, beta_1=0.9, beta_2=0.999, epsilon=1e-8):\n",
    "        self.alpha = alpha\n",
    "        self.beta_1 = beta_1\n",
    "        self.beta_2 = beta_2\n",
    "        self.epsilon = epsilon\n",
    "\n",
    "        self.moment_1 = None\n",
    "        self.moment_2 = None\n",
    "\n",
    "    def update(self, grad):\n",
    "        if self.moment_1 is None:\n",
    "            self.moment_1 = (1-self.beta_1)*grad\n",
    "        else:\n",
    "            self.moment_1 = self.beta_1*self.moment_1 + (1-self.beta_1)*grad\n",
    "\n",
    "        grad_squared = grad.unary_blockwise(squared_components)\n",
    "        if self.moment_2 is None:\n",
    "            self.moment_2 = (1-self.beta_2)*grad_squared\n",
    "        else:\n",
    "            self.moment_2 = self.beta_2*self.moment_2 + (1-self.beta_2)*grad_squared\n",
    "\n",
    "        self.moment_1 /= (1-self.beta_1)\n",
    "        self.moment_2 /= (1-self.beta_2)\n",
    "\n",
    "        out_grad_denom = (\n",
    "            self.moment_2\n",
    "            .unary_blockwise(square_root_components)\n",
    "            .unary_blockwise(lambda x: x + (1+1j)*self.epsilon)\n",
    "        )\n",
    "\n",
    "        out_grad = (\n",
    "            self.moment_1\n",
    "            .binary_blockwise(np.divide, out_grad_denom)\n",
    "        )\n",
    "\n",
    "        return self.alpha*out_grad"
   ]
  },
  {
   "cell_type": "markdown",
   "id": "c2919303-4883-4327-9b56-743be48ebb53",
   "metadata": {},
   "source": [
    "### Sweep function"
   ]
  },
  {
   "cell_type": "code",
   "execution_count": 43,
   "id": "94c08580-6ab0-4501-8e41-1517ea118eb5",
   "metadata": {},
   "outputs": [],
   "source": [
    "def mpo_tensor_raw_to_gradient(raw_mpo_tensor, gradient_target_tensor):\n",
    "    \"\"\"\n",
    "    Update raw_mpo_tensor calculated to be the gradient by changing leg names\n",
    "    as neeeded so can be easily and consistently added to\n",
    "    gradient_target_tensor.\n",
    "    \"\"\"\n",
    "    leg_labels = raw_mpo_tensor.get_leg_labels()\n",
    "\n",
    "    # First update the virtual legs\n",
    "    old_new_leg_label_pairs = [\n",
    "        ('vL*', 'vR'),\n",
    "        ('vR*', 'vL'),\n",
    "        ('vL1*', 'vR'),\n",
    "        ('vR1*', 'vL'),\n",
    "        ('vLm', 'vR'),\n",
    "        ('vRm', 'vL'),\n",
    "    ]\n",
    "\n",
    "    for old, new in old_new_leg_label_pairs:\n",
    "        if old in leg_labels:\n",
    "            raw_mpo_tensor.ireplace_label(old, new)\n",
    "\n",
    "    # Then create new array to get the physical legs correct.\n",
    "    # Is this consistent? Should set order of leg labels on raw_mpo_tensor\n",
    "    # before casting to array?\n",
    "    out = npc.Array.from_ndarray_trivial(\n",
    "        raw_mpo_tensor.to_ndarray(),\n",
    "        labels=raw_mpo_tensor.get_leg_labels()\n",
    "    )\n",
    "\n",
    "    out.itranspose(gradient_target_tensor.get_leg_labels())\n",
    "\n",
    "    return out"
   ]
  },
  {
   "cell_type": "code",
   "execution_count": 44,
   "id": "aa8f1c2b-a2fe-4851-b802-2418f619ce7e",
   "metadata": {},
   "outputs": [],
   "source": [
    "def update_mpo_score(raw_gradient_mpo_tensor, gradient_target_tensor,\n",
    "                     virtual_legs=[['vL*', 'vR*',], ['vR*', 'vL*',]],\n",
    "                     take_abs=False\n",
    "                    ):\n",
    "    # Calculate \"score\" (just the contraction of the two relevant tensors)\n",
    "    raw_legs, target_legs = virtual_legs\n",
    "\n",
    "    score = npc.tensordot(\n",
    "        raw_gradient_mpo_tensor,\n",
    "        gradient_target_tensor.conj(),\n",
    "        [['p', 'p*', *raw_legs], ['p*', 'p', *target_legs]]\n",
    "    )\n",
    "\n",
    "    if take_abs:\n",
    "        real_score = np.abs(score)\n",
    "    else:\n",
    "        real_score = score.real\n",
    "\n",
    "    return score"
   ]
  },
  {
   "cell_type": "code",
   "execution_count": 45,
   "id": "a35f4a5f-aa5f-49e7-a87b-c271d442025f",
   "metadata": {},
   "outputs": [],
   "source": [
    "def mpo_gradient_descent_sweep(mpo_tensors, b_tensors, total_dimension,\n",
    "    right_overlap_tensors, unitarity_learning_rate, overlap_learning_rate,\n",
    "    overlap_target, left_environment, adam_optimizers):\n",
    "    \"\"\"\n",
    "    Really need to tidy this function up...\n",
    "\n",
    "    Also get matrix_dim directly from tensors.\n",
    "    \"\"\"\n",
    "    # Initialise list of gradients to be filled\n",
    "    grads = list()\n",
    "\n",
    "    # Initialise variables\n",
    "    right_unitary_two_tensors = unitary_order_two_right_tensors(mpo_tensors)\n",
    "    right_unitary_four_tensors = unitary_order_four_right_tensors(mpo_tensors)\n",
    "    \n",
    "    left_unitary_two_tensors = list()\n",
    "    left_unitary_four_tensors = list()\n",
    "    left_overlap_tensors = list()\n",
    "\n",
    "    num_sites = len(mpo_tensors)\n",
    "    assert len(mpo_tensors) == len(b_tensors)\n",
    "\n",
    "    # Leftmost site\n",
    "    w = mpo_tensors[0]\n",
    "    b = b_tensors[0]\n",
    "\n",
    "    t = right_unitary_two_tensors[0]\n",
    "\n",
    "    # Second order terms\n",
    "    grad_2 = npc.tensordot(t, w, [['vL'], ['vR',]])\n",
    "\n",
    "    order_2_score = update_mpo_score(\n",
    "        grad_2,\n",
    "        w,\n",
    "        [['vL*',], ['vR*',]]\n",
    "    )\n",
    "\n",
    "    grad_2 = mpo_tensor_raw_to_gradient(grad_2, w)\n",
    "\n",
    "    # Fourth order terms\n",
    "    t = right_unitary_four_tensors[0]\n",
    "\n",
    "    grad_4 = npc.tensordot(t, w, [['vL'], ['vR',]])\n",
    "    grad_4 = npc.tensordot(grad_4, w.conj(), [['vL*', 'p'], ['vR*', 'p*']])\n",
    "    grad_4 = npc.tensordot(grad_4, w, [['vL1', 'p'], ['vR', 'p*']])\n",
    "\n",
    "    order_4_score = update_mpo_score(\n",
    "        grad_4,\n",
    "        w,\n",
    "        [['vL1*',], ['vR*',]]\n",
    "    )\n",
    "\n",
    "    grad_4 = mpo_tensor_raw_to_gradient(grad_4, w)\n",
    "\n",
    "    unitary_score = order_4_score - 2*order_2_score + total_dimension\n",
    "    unitary_grad = (grad_4 - grad_2)/np.sqrt(1+unitary_score)\n",
    "    \n",
    "    # Overlap terms\n",
    "    t = right_overlap_tensors[0].conj().replace_label('vLm*', 'vLm')\n",
    "\n",
    "    grad_o = npc.tensordot(t, b, [['vL'], ['vR',]])\n",
    "    grad_o = npc.tensordot(grad_o, b.conj(), [['vL*',], ['vR*',]])\n",
    "    grad_o = npc.tensordot(grad_o, left_environment, [['vL', 'vL*'], ['vR', 'vR*']])\n",
    "\n",
    "    c_conj = update_mpo_score(\n",
    "        grad_o,\n",
    "        w,\n",
    "        [['vLm',], ['vR*',]],\n",
    "        take_abs=True\n",
    "    )\n",
    "    c = c_conj.conjugate()\n",
    "    c_abs = np.abs(c)\n",
    "    \n",
    "    grad_o_scale = c*(1 - overlap_target/c_abs)\n",
    "    grad_o = grad_o_scale*grad_o\n",
    "    grad_o = mpo_tensor_raw_to_gradient(grad_o, w)\n",
    "\n",
    "    grad = (\n",
    "        unitarity_learning_rate*unitary_grad +\n",
    "        overlap_learning_rate*grad_o\n",
    "    )\n",
    "    adam_grad = adam_optimizers[0].update(grad)\n",
    "    grads.append(adam_grad)\n",
    "\n",
    "    # Create and save left tensors\n",
    "    t = npc.tensordot(w, w.conj(), [['p', 'p*'], ['p*', 'p']])\n",
    "    left_unitary_two_tensors.append(t)\n",
    "    \n",
    "    t = npc.tensordot(w, w.conj(), [['p',], ['p*',]])\n",
    "    t.ireplace_labels(['vR', 'vR*'], ['vR1', 'vR1*'])\n",
    "    t = npc.tensordot(t, w, [['p',], ['p*',]])\n",
    "    t = npc.tensordot(t, w.conj(), [['p', 'p*'], ['p*', 'p']])\n",
    "    \n",
    "    left_unitary_four_tensors.append(t)\n",
    "\n",
    "    t = npc.tensordot(b, w.conj(), [['p',], ['p*',]])\n",
    "    #print(t)\n",
    "    t.ireplace_label('vR*', 'vRm')\n",
    "    #print(t)\n",
    "    t = npc.tensordot(t, left_environment, [['vL',], ['vR',]])\n",
    "    #print(t)\n",
    "    t = npc.tensordot(t, b.conj(), [['vR*', 'p'], ['vL*', 'p*']])\n",
    "\n",
    "    #print(t)\n",
    "\n",
    "    left_overlap_tensors.append(t)\n",
    "\n",
    "    # Inner sites\n",
    "    for i in range(1, num_sites-1):\n",
    "        w = mpo_tensors[i]\n",
    "        b = b_tensors[i]\n",
    "    \n",
    "        right_two_tensor = right_unitary_two_tensors[i]\n",
    "        right_four_tensor = right_unitary_four_tensors[i]\n",
    "        right_overlap_tensor = right_overlap_tensors[i].conj().replace_label('vLm*', 'vLm')\n",
    "\n",
    "        # Order two terms\n",
    "        left_two_tensor = left_unitary_two_tensors[-1]\n",
    "\n",
    "        grad_2 = npc.tensordot(right_two_tensor, w, [['vL'], ['vR',]])\n",
    "        grad_2 = npc.tensordot(grad_2, left_two_tensor, [['vL'], ['vR',]])\n",
    "\n",
    "        grad_2 = mpo_tensor_raw_to_gradient(grad_2, w)\n",
    "\n",
    "        # Order four terms\n",
    "        left_four_tensor = left_unitary_four_tensors[-1]\n",
    "\n",
    "        grad_4 = npc.tensordot(right_four_tensor, w, [['vL'], ['vR',]])\n",
    "        grad_4 = npc.tensordot(grad_4, w.conj(), [['vL*', 'p'], ['vR*', 'p*']])\n",
    "\n",
    "        grad_4 = npc.tensordot(\n",
    "            grad_4,\n",
    "            w.replace_label('vL', 'vL1'),\n",
    "            [['vL1', 'p'], ['vR', 'p*']]\n",
    "        )\n",
    "\n",
    "        grad_4 = npc.tensordot(\n",
    "            grad_4,\n",
    "            left_four_tensor,\n",
    "            [['vL', 'vL*', 'vL1'], ['vR', 'vR*', 'vR1']]\n",
    "        )\n",
    "\n",
    "        grad_4 = mpo_tensor_raw_to_gradient(grad_4, w)\n",
    "\n",
    "        unitary_grad = (grad_4 - grad_2)/np.sqrt(1+unitary_score)\n",
    "    \n",
    "        # Overlap terms\n",
    "        left_overlap_tensor = left_overlap_tensors[-1]\n",
    "\n",
    "        grad_o = npc.tensordot(right_overlap_tensor, b, [['vL',], ['vR',]])\n",
    "        grad_o = npc.tensordot(grad_o, b.conj(), [['vL*',], ['vR*',]])\n",
    "        grad_o = npc.tensordot(\n",
    "            grad_o,\n",
    "            left_overlap_tensor,\n",
    "            [['vL*', 'vL'], ['vR', 'vR*',]]\n",
    "        )\n",
    "\n",
    "        grad_o = grad_o_scale*grad_o\n",
    "        grad_o = mpo_tensor_raw_to_gradient(grad_o, w)\n",
    "\n",
    "        grad = (\n",
    "            unitarity_learning_rate*unitary_grad +\n",
    "            overlap_learning_rate*grad_o\n",
    "        )\n",
    "        adam_grad = adam_optimizers[i].update(grad)\n",
    "        grads.append(adam_grad)\n",
    "\n",
    "        # Update left tensors\n",
    "        t = npc.tensordot(left_two_tensor, w, [['vR',], ['vL']])\n",
    "        t = npc.tensordot(\n",
    "            t,\n",
    "            w.conj(),\n",
    "            [['vR*', 'p', 'p*'], ['vL*', 'p*', 'p']]\n",
    "        )\n",
    "        \n",
    "        left_unitary_two_tensors.append(t)\n",
    "        \n",
    "        t = npc.tensordot(left_four_tensor, w, [['vR',], ['vL']])\n",
    "        t = npc.tensordot(t, w.conj(), [['vR*', 'p'], ['vL*', 'p*']])\n",
    "        t = npc.tensordot(\n",
    "            t,\n",
    "            w.replace_label('vR', 'vR1'),\n",
    "            [['p', 'vR1'], ['p*', 'vL']]\n",
    "        )\n",
    "        t = npc.tensordot(\n",
    "            t,\n",
    "            w.conj().replace_label('vR*', 'vR1*'),\n",
    "            [['p', 'p*', 'vR1*'], ['p*', 'p', 'vL*']]\n",
    "        )\n",
    "        \n",
    "        left_unitary_four_tensors.append(t)\n",
    "\n",
    "        t = left_overlap_tensor.ireplace_label('vR*', 'vR1*')\n",
    "        t = npc.tensordot(\n",
    "            left_overlap_tensor,\n",
    "            w.conj(),\n",
    "            [['vRm',], ['vL*']]\n",
    "        )\n",
    "        t.ireplace_label('vR*', 'vRm')\n",
    "        t = npc.tensordot(t, b, [['vR', 'p*'], ['vL', 'p']])\n",
    "        t = npc.tensordot(t, b.conj(), [['vR1*', 'p'], ['vL*', 'p*']])\n",
    "\n",
    "        left_overlap_tensors.append(t)\n",
    "\n",
    "    # Last site\n",
    "    left_two_tensor = left_unitary_two_tensors[-1]\n",
    "    w = mpo_tensors[-1]\n",
    "    b = b_tensors[-1]\n",
    "    \n",
    "    grad_2 = npc.tensordot(left_two_tensor, w, [['vR'], ['vL',]])\n",
    "    grad_2 = mpo_tensor_raw_to_gradient(grad_2, w)\n",
    "\n",
    "    left_four_tensor = left_unitary_four_tensors[-1]\n",
    "    \n",
    "    grad_4 = npc.tensordot(left_four_tensor, w, [['vR'], ['vL',]])\n",
    "    grad_4 = npc.tensordot(grad_4, w.conj(), [['vR*', 'p'], ['vL*', 'p*']])\n",
    "    grad_4 = npc.tensordot(grad_4, w, [['vR1', 'p'], ['vL', 'p*']])\n",
    "\n",
    "    grad_4 = mpo_tensor_raw_to_gradient(grad_4, w)\n",
    "    \n",
    "    unitary_grad = (grad_4 - grad_2)/np.sqrt(1+unitary_score)\n",
    "\n",
    "    left_overlap_tensor = left_overlap_tensors[-1]\n",
    "    right_overlap_tensor = right_overlap_tensors[-1].conj()\n",
    "\n",
    "    grad_o = npc.tensordot(right_overlap_tensor, b, [['vL',], ['vR',]])\n",
    "    grad_o = npc.tensordot(grad_o, b.conj(), [['vL*',], ['vR*',]])\n",
    "    grad_o = npc.tensordot(\n",
    "        grad_o,\n",
    "        left_overlap_tensor,\n",
    "        [['vL*', 'vL'], ['vR', 'vR*',]]\n",
    "    )\n",
    "\n",
    "    grad_o = grad_o_scale*grad_o\n",
    "    grad_o = mpo_tensor_raw_to_gradient(grad_o, w)\n",
    "\n",
    "\n",
    "    grad = (\n",
    "        unitarity_learning_rate*unitary_grad +\n",
    "        overlap_learning_rate*grad_o\n",
    "    )\n",
    "    adam_grad = adam_optimizers[-1].update(grad)\n",
    "    grads.append(adam_grad)\n",
    "\n",
    "    \"\"\"\n",
    "    for i, g in enumerate(grads):\n",
    "        mpo_tensors[i] = mpo_tensors[i] - g\n",
    "    \"\"\"\n",
    "    \n",
    "    return (grads, unitary_score, c_abs)"
   ]
  },
  {
   "cell_type": "code",
   "execution_count": 46,
   "id": "e4c0c3f6-9014-41c6-a7b3-745dd0dc9970",
   "metadata": {},
   "outputs": [],
   "source": [
    "def swap_left_right_indices(npc_array):\n",
    "    left_right_pairs = {\n",
    "        'vL': 'vR',\n",
    "        'vR': 'vL',\n",
    "        'vL*': 'vR*',\n",
    "        'vR*': 'vL*'\n",
    "    }\n",
    "\n",
    "    leg_labels = npc_array.get_leg_labels()\n",
    "\n",
    "    old_labels = [l for l in leg_labels if l in left_right_pairs]\n",
    "    new_labels = [left_right_pairs[l] for l in old_labels]\n",
    "\n",
    "    out = npc_array.replace_labels(old_labels, new_labels)\n",
    "\n",
    "    return out"
   ]
  },
  {
   "cell_type": "code",
   "execution_count": 47,
   "id": "d66c2c04-401a-4cf8-8f7a-a2745f3c3a57",
   "metadata": {},
   "outputs": [],
   "source": [
    "def two_sided_mpo_gradient_descent_sweep(left_mpo_tensors, right_mpo_tensors,\n",
    "    left_b_tensors, right_b_tensors, left_total_dimension,\n",
    "    right_total_dimension, unitarity_learning_rate, overlap_learning_rate,\n",
    "    symmetry_transfer_matrix, left_adam_optimizers, right_adam_optimizers):\n",
    "\n",
    "    # Compute left and right symmetry environments\n",
    "    # Right symmetry environment for left side first\n",
    "    right_overlap_tensors = overlap_right_tensors(\n",
    "        right_mpo_tensors,\n",
    "        right_b_tensors\n",
    "    )\n",
    "    right_symmetry_environment = npc.tensordot(\n",
    "        symmetry_transfer_matrix,\n",
    "        right_overlap_tensors[0],\n",
    "        [['vR', 'vR*'], ['vL', 'vL*']]\n",
    "    )\n",
    "    right_symmetry_environment = swap_left_right_indices(right_symmetry_environment)\n",
    "\n",
    "    # Left symmetry environment for right side\n",
    "    left_overlap_tensors = overlap_right_tensors(\n",
    "        left_mpo_tensors,\n",
    "        left_b_tensors\n",
    "    )\n",
    "    left_symmetry_environment = npc.tensordot(\n",
    "        symmetry_transfer_matrix,\n",
    "        swap_left_right_indices(left_overlap_tensors[0]),\n",
    "        [['vL', 'vL*'], ['vR', 'vR*']]\n",
    "    )\n",
    "\n",
    "    # Get right gradients\n",
    "    right_grads, unitary_score, c_abs = mpo_gradient_descent_sweep(\n",
    "        right_mpo_tensors,\n",
    "        right_b_tensors,\n",
    "        right_total_dimension,\n",
    "        right_overlap_tensors[1:],\n",
    "        unitarity_learning_rate,\n",
    "        overlap_learning_rate,\n",
    "        1,\n",
    "        left_symmetry_environment,\n",
    "        right_adam_optimizers\n",
    "    )\n",
    "    \n",
    "    for i, g in enumerate(right_grads):\n",
    "        right_mpo_tensors[i] = right_mpo_tensors[i] - g\n",
    "\n",
    "    # Get left gradients\n",
    "    left_grads, *_ = mpo_gradient_descent_sweep(\n",
    "        left_mpo_tensors,\n",
    "        left_b_tensors,\n",
    "        left_total_dimension,\n",
    "        left_overlap_tensors[1:],\n",
    "        unitarity_learning_rate,\n",
    "        overlap_learning_rate,\n",
    "        1,\n",
    "        right_symmetry_environment,\n",
    "        left_adam_optimizers\n",
    "    )\n",
    "\n",
    "    for i, g in enumerate(left_grads):\n",
    "        left_mpo_tensors[i] = left_mpo_tensors[i] - g\n",
    "\n",
    "    return (unitary_score, c_abs)"
   ]
  },
  {
   "cell_type": "code",
   "execution_count": 48,
   "id": "1a8b9251-44db-4ef2-80ad-db74402a94b4",
   "metadata": {},
   "outputs": [],
   "source": [
    "def unitarity_error_from_subscores(order_two_score, order_four_score, dimension):\n",
    "    return order_four_score - 2*order_two_score + dimension"
   ]
  },
  {
   "cell_type": "code",
   "execution_count": 49,
   "id": "b2ddc829-2e4b-4aa9-9711-b76244621c37",
   "metadata": {},
   "outputs": [],
   "source": [
    "def unitarity_errors_from_subscores(order_two_scores, order_four_scores,\n",
    "                                    dimension):\n",
    "    out = [\n",
    "        unitarity_error_from_subscores(o2, o4, dimension)\n",
    "        for o2, o4 in zip(order_two_scores, order_four_scores)\n",
    "    ]\n",
    "    \n",
    "    return out"
   ]
  },
  {
   "cell_type": "code",
   "execution_count": 50,
   "id": "e390f713-9369-4353-b585-07ea44412fb8",
   "metadata": {},
   "outputs": [],
   "source": [
    "def initialize_optimization(num_sites, bond_dimension, symmetry_case,\n",
    "    unitarity_learning_rate, overlap_learning_rate, adam_params):\n",
    "    right_b_tensors = [\n",
    "        symmetry_case.psi.get_B(i)\n",
    "        for i in range(\n",
    "            symmetry_case.right_symmetry_index + 1,\n",
    "            symmetry_case.right_symmetry_index + 1 + num_sites\n",
    "        )\n",
    "    ]\n",
    "\n",
    "    left_b_tensors = [\n",
    "        symmetry_case.psi.get_B(i, form='A')\n",
    "        for i in range(\n",
    "            symmetry_case.left_symmetry_index - 1,\n",
    "            symmetry_case.left_symmetry_index - 1 - num_sites, -1\n",
    "        )\n",
    "    ]\n",
    "\n",
    "    left_b_tensors = [\n",
    "        swap_left_right_indices(b) for b in left_b_tensors\n",
    "    ]\n",
    "\n",
    "    right_physical_dims = [\n",
    "        get_physical_dim(b) for b in right_b_tensors\n",
    "    ]\n",
    "    \n",
    "    right_total_dimension = reduce(mul, right_physical_dims)\n",
    "\n",
    "    left_physical_dims = [\n",
    "        get_physical_dim(b) for b in left_b_tensors\n",
    "    ]\n",
    "\n",
    "    left_total_dimension = reduce(mul, left_physical_dims)\n",
    "\n",
    "    virtual_dims = (\n",
    "        [(None, bond_dimension),] +\n",
    "        [(bond_dimension, bond_dimension)]*(num_sites - 2) +\n",
    "        [(bond_dimension, None),]\n",
    "    )\n",
    "\n",
    "    right_mpo_tensors = get_random_mpo_tensors(\n",
    "        right_physical_dims,\n",
    "        virtual_dims\n",
    "    )\n",
    "    left_mpo_tensors = get_random_mpo_tensors(\n",
    "        left_physical_dims,\n",
    "        virtual_dims\n",
    "    )\n",
    "    rescale_mpo_tensors(right_mpo_tensors, 1)\n",
    "    rescale_mpo_tensors(left_mpo_tensors, 1)\n",
    "\n",
    "    symmetry_transfer_matrix = symmetry_case.npc_symmetry_transfer_matrix\n",
    "\n",
    "    left_adam_optimizers = [\n",
    "        AdamTenpy(*adam_params) for _ in range(num_sites)\n",
    "    ]\n",
    "\n",
    "    right_adam_optimizers = [\n",
    "        AdamTenpy(*adam_params) for _ in range(num_sites)\n",
    "    ]\n",
    "\n",
    "    return (\n",
    "        left_mpo_tensors,\n",
    "        right_mpo_tensors,\n",
    "        left_b_tensors,\n",
    "        right_b_tensors,\n",
    "        left_total_dimension,\n",
    "        right_total_dimension,\n",
    "        unitarity_learning_rate,\n",
    "        overlap_learning_rate,\n",
    "        symmetry_transfer_matrix,\n",
    "        left_adam_optimizers,\n",
    "        right_adam_optimizers\n",
    "    )"
   ]
  },
  {
   "cell_type": "markdown",
   "id": "5a6b77d4-1b5d-455b-9d45-b0dfc2fe378d",
   "metadata": {},
   "source": [
    "### SPT phase extraction"
   ]
  },
  {
   "cell_type": "code",
   "execution_count": 51,
   "id": "19115e31-e566-4904-b863-492184c744e7",
   "metadata": {},
   "outputs": [],
   "source": [
    "def conjugate_single_mpo_tensor(mpo_tensor):\n",
    "    leg_labels = mpo_tensor.get_leg_labels()\n",
    "\n",
    "    if not ('vR' in leg_labels):\n",
    "        return mpo_tensor.conj().replace_labels(['vL*',], ['vL',])\n",
    "    elif not ('vL' in leg_labels):\n",
    "        return mpo_tensor.conj().replace_labels(['vR*'], ['vR'])\n",
    "    else:\n",
    "        return mpo_tensor.conj().replace_labels(['vL*', 'vR*'], ['vL', 'vR'])"
   ]
  },
  {
   "cell_type": "code",
   "execution_count": 52,
   "id": "58405086-22cd-4f65-8eec-0888ff6eb03f",
   "metadata": {},
   "outputs": [],
   "source": [
    "def conjugate_mpo(mpo_tensors):\n",
    "    return [\n",
    "        conjugate_single_mpo_tensor(t) for t in mpo_tensors\n",
    "    ]"
   ]
  },
  {
   "cell_type": "code",
   "execution_count": 121,
   "id": "6a0c4ee6-9a5c-464f-b7ba-68adbd5ad640",
   "metadata": {},
   "outputs": [],
   "source": [
    "def mpo_product_expectation(left_environment, b_tensors, mpos):\n",
    "    \"\"\"\n",
    "    Have an optional b_conj argument? Left and right arguments?\n",
    "\n",
    "    Like a previous function we wrote?\n",
    "    \"\"\"\n",
    "\n",
    "    # First site\n",
    "    t = b_tensors[0]\n",
    "\n",
    "    for i, l in enumerate(mpos):\n",
    "        w = l[0]\n",
    "        #print(t)\n",
    "        #print(w)\n",
    "        t = npc.tensordot(\n",
    "            t,\n",
    "            w.replace_label('vR', f'vR{i}'),\n",
    "            [['p',], ['p*',]]\n",
    "        )\n",
    "\n",
    "    t = npc.tensordot(\n",
    "        t,\n",
    "        b_tensors[0].conj(),\n",
    "        [['p',], ['p*',]]\n",
    "    )\n",
    "\n",
    "    t = npc.tensordot(\n",
    "        t,\n",
    "        left_environment,\n",
    "        [['vL', 'vL*',], ['vR', 'vR*']]\n",
    "    )\n",
    "\n",
    "    # Inner sites\n",
    "    for i in range(1, len(b_tensors)-1):\n",
    "        t = npc.tensordot(\n",
    "            t,\n",
    "            b_tensors[i],\n",
    "            [['vR',], ['vL',]]\n",
    "        )\n",
    "\n",
    "        for j, l in enumerate(mpos):\n",
    "            w = l[i]\n",
    "            t = npc.tensordot(\n",
    "                t,\n",
    "                w.replace_label('vR', f'vR{j}'),\n",
    "                [['p', f'vR{j}'], ['p*', 'vL']]\n",
    "            )\n",
    "    \n",
    "        t = npc.tensordot(\n",
    "            t,\n",
    "            b_tensors[i].conj(),\n",
    "            [['p', 'vR*'], ['p*', 'vL*']]\n",
    "        )\n",
    "\n",
    "    # Last site\n",
    "    t = npc.tensordot(\n",
    "        t,\n",
    "        b_tensors[-1],\n",
    "        [['vR',], ['vL',]]\n",
    "    )\n",
    "\n",
    "    for i, l in enumerate(mpos):\n",
    "        w = l[-1]\n",
    "        t = npc.tensordot(\n",
    "            t,\n",
    "            w,\n",
    "            [['p', f'vR{i}'], ['p*', 'vL']]\n",
    "        )\n",
    "\n",
    "    t = npc.tensordot(\n",
    "        t,\n",
    "        b_tensors[-1].conj(),\n",
    "        [['p', 'vR*', 'vR'], ['p*', 'vL*', 'vR*']]\n",
    "    )\n",
    "\n",
    "    return t"
   ]
  },
  {
   "cell_type": "code",
   "execution_count": 54,
   "id": "86ff850e-a4f7-4b73-9360-03431af04fdb",
   "metadata": {},
   "outputs": [],
   "source": [
    "def proj_rep_phase(left_environment, b_tensors, mpo_1, mpo_2, mpo_3):\n",
    "    num = mpo_product_expectation(\n",
    "        left_environment,\n",
    "        b_tensors,\n",
    "        [\n",
    "            mpo_1,\n",
    "            mpo_2,\n",
    "            conjugate_mpo(mpo_3)\n",
    "        ]\n",
    "    )\n",
    "\n",
    "    den = npc.trace(left_environment)\n",
    "\n",
    "    return num/den"
   ]
  },
  {
   "cell_type": "markdown",
   "id": "bc4aa197-f505-408d-ade5-81963120b7e3",
   "metadata": {},
   "source": [
    "# Load MPO solutions\n",
    "## Triv proj rep solutions\n",
    "### Random search solutions"
   ]
  },
  {
   "cell_type": "code",
   "execution_count": 56,
   "id": "3324e014-dfb4-445e-a364-95dda0c27073",
   "metadata": {},
   "outputs": [],
   "source": [
    "MPO_SOLUTIONS_DIR = r'solutions/triv_hyperparameter_search'"
   ]
  },
  {
   "cell_type": "code",
   "execution_count": 60,
   "id": "3f7e8655-4b9a-4ac3-83da-0b8dfd460205",
   "metadata": {},
   "outputs": [],
   "source": [
    "HyperParams = namedtuple(\n",
    "    'HyperParams',\n",
    "    ['alpha', 'beta_1', 'beta_2', 'overlap_learning_rate']\n",
    ")"
   ]
  },
  {
   "cell_type": "code",
   "execution_count": 65,
   "id": "f69e0053-d93c-4434-87b3-f157049c6849",
   "metadata": {},
   "outputs": [],
   "source": [
    "def parse_random_search_dict(d):\n",
    "    for k, v in d.items():\n",
    "        if v['good_sol']:\n",
    "            return (k, v)\n",
    "    return None"
   ]
  },
  {
   "cell_type": "code",
   "execution_count": 72,
   "id": "79642bab-eb7d-46ec-b615-d517783b7c71",
   "metadata": {},
   "outputs": [],
   "source": [
    "random_sols = dict()\n",
    "empty_cases = list()\n",
    "\n",
    "for file_name in os.listdir(MPO_SOLUTIONS_DIR):\n",
    "    with open(rf'{MPO_SOLUTIONS_DIR}/{file_name}', 'rb') as file:\n",
    "        d = pickle.load(file)\n",
    "    out = parse_random_search_dict(d)\n",
    "\n",
    "    if out is None:\n",
    "        empty_cases.append(file_name)\n",
    "    else:\n",
    "        k, v = out\n",
    "\n",
    "        a, b, c = [\n",
    "            int(s)\n",
    "            for s in (file_name.split('.')[0]).split('_')\n",
    "        ]\n",
    "        a/=100\n",
    "        random_sols[(a,b,c)] = {**(k._asdict()), **v}"
   ]
  },
  {
   "cell_type": "code",
   "execution_count": 73,
   "id": "248e96e6-9f98-469b-9096-601068e05a58",
   "metadata": {},
   "outputs": [
    {
     "data": {
      "text/plain": [
       "[]"
      ]
     },
     "execution_count": 73,
     "metadata": {},
     "output_type": "execute_result"
    }
   ],
   "source": [
    "empty_cases"
   ]
  },
  {
   "cell_type": "markdown",
   "id": "933bf532-1a51-4446-8737-05a00c89e2b5",
   "metadata": {},
   "source": [
    "All solutions found!"
   ]
  },
  {
   "cell_type": "code",
   "execution_count": 80,
   "id": "8776c6a1-d1f7-4dc6-b0c8-45943207367e",
   "metadata": {},
   "outputs": [],
   "source": [
    "final_scores_dict = dict()\n",
    "\n",
    "for k, v in random_sols.items():\n",
    "    overlap = np.round(v['overlap_scores'][-1], 3)\n",
    "    unitarity = np.round(np.real(v['unitarity_scores'][-1]), 3)\n",
    "\n",
    "    final_scores_dict[k] = (unitarity, overlap)"
   ]
  },
  {
   "cell_type": "code",
   "execution_count": 81,
   "id": "4f61c919-eafd-4ef4-bb61-43d160368399",
   "metadata": {},
   "outputs": [
    {
     "data": {
      "text/plain": [
       "{(0.15, 1, 2): (4.858, 0.943),\n",
       " (0.15, 1, 3): (4.967, 0.919),\n",
       " (0.15, 1, 1): (4.994, 0.932),\n",
       " (0.2, 0, 3): (4.866, 0.956),\n",
       " (0.05, 0, 1): (2.495, 0.901),\n",
       " (0.4, 1, 3): (4.869, 0.956),\n",
       " (0.5, 1, 3): (2.838, 0.9),\n",
       " (0.5, 1, 1): (4.848, 0.933),\n",
       " (0.2, 1, 3): (4.987, 0.901),\n",
       " (0.05, 1, 2): (4.922, 0.903),\n",
       " (0.2, 1, 1): (4.984, 0.945),\n",
       " (0.5, 0, 1): (4.922, 0.965),\n",
       " (0.5, 0, 3): (4.976, 0.954),\n",
       " (0.25, 1, 1): (4.94, 0.954),\n",
       " (0.0, 1, 2): (4.987, 0.934),\n",
       " (0.1, 0, 2): (4.664, 0.949),\n",
       " (0.35, 1, 2): (4.906, 0.949),\n",
       " (0.0, 1, 1): (4.779, 0.957),\n",
       " (0.35, 1, 3): (4.91, 0.923),\n",
       " (0.45, 1, 3): (4.997, 0.964),\n",
       " (0.35, 0, 1): (4.998, 0.949)}"
      ]
     },
     "execution_count": 81,
     "metadata": {},
     "output_type": "execute_result"
    }
   ],
   "source": [
    "final_scores_dict"
   ]
  },
  {
   "cell_type": "markdown",
   "id": "a41bf8a6-1019-496d-9529-5aa3b32edd74",
   "metadata": {},
   "source": [
    "These all look good. Pull in other solutions."
   ]
  },
  {
   "cell_type": "markdown",
   "id": "6f24800c-b7e4-4169-b45b-630777d04464",
   "metadata": {},
   "source": [
    "### Fixed hyperparameter solutions"
   ]
  },
  {
   "cell_type": "code",
   "execution_count": 82,
   "id": "992a4e59-5984-494d-894f-86abcc4dedfe",
   "metadata": {},
   "outputs": [],
   "source": [
    "with open(r'solutions/non_trivial_models_triv_proj_rep_mpo_sol.pkl', 'rb') as file:\n",
    "    dict_triv = pickle.load(file)"
   ]
  },
  {
   "cell_type": "code",
   "execution_count": 83,
   "id": "35a4e3b6-b68c-49bd-bad8-a82a20164613",
   "metadata": {},
   "outputs": [
    {
     "data": {
      "text/plain": [
       "dict_keys(['solutions', 'unitarity_scores', 'overlaps'])"
      ]
     },
     "execution_count": 83,
     "metadata": {},
     "output_type": "execute_result"
    }
   ],
   "source": [
    "dict_triv.keys()"
   ]
  },
  {
   "cell_type": "code",
   "execution_count": 86,
   "id": "d23bb532-b5e3-435e-8bba-0a6493cb75f2",
   "metadata": {},
   "outputs": [
    {
     "data": {
      "text/plain": [
       "dict_keys(['alpha', 'beta_1', 'beta_2', 'overlap_learning_rate', 'solutions', 'unitarity_scores', 'overlap_scores', 'time', 'good_sol'])"
      ]
     },
     "execution_count": 86,
     "metadata": {},
     "output_type": "execute_result"
    }
   ],
   "source": [
    "random_sols[(0, 1, 1)].keys()"
   ]
  },
  {
   "cell_type": "code",
   "execution_count": 88,
   "id": "b6d1e357-5049-4fe8-85a9-235ece7d5e1f",
   "metadata": {},
   "outputs": [],
   "source": [
    "fixed_sols = dict()\n",
    "\n",
    "for k, sols in dict_triv['solutions'].items():\n",
    "    if k not in random_sols:\n",
    "        fixed_sols[k] = {\n",
    "            'solutions': sols,\n",
    "            'unitarity_scores': dict_triv['unitarity_scores'][k],\n",
    "            'overlap_scores': dict_triv['overlaps'][k]\n",
    "        }"
   ]
  },
  {
   "cell_type": "code",
   "execution_count": 89,
   "id": "2019e7ac-4ceb-43d2-9cdc-03982c044c81",
   "metadata": {},
   "outputs": [],
   "source": [
    "final_scores_dict = dict()\n",
    "\n",
    "for k, v in fixed_sols.items():\n",
    "    overlap = np.round(v['overlap_scores'][-1], 3)\n",
    "    unitarity = np.round(np.real(v['unitarity_scores'][-1]), 3)\n",
    "\n",
    "    final_scores_dict[k] = (unitarity, overlap)"
   ]
  },
  {
   "cell_type": "code",
   "execution_count": 91,
   "id": "af7308f1-622b-41e5-9532-6e9aa3e7abb9",
   "metadata": {
    "scrolled": true
   },
   "outputs": [
    {
     "data": {
      "text/plain": [
       "{(0.65, 0, 1): (0.156, 1.009),\n",
       " (0.65, 0, 2): (0.113, 0.992),\n",
       " (0.65, 0, 3): (0.056, 0.986),\n",
       " (0.65, 1, 1): (0.131, 1.003),\n",
       " (0.65, 1, 2): (0.109, 1.005),\n",
       " (0.65, 1, 3): (0.146, 0.983),\n",
       " (0.45, 0, 1): (0.593, 0.949),\n",
       " (0.45, 0, 2): (0.761, 0.958),\n",
       " (0.45, 0, 3): (0.913, 0.914),\n",
       " (0.45, 1, 1): (2.38, 0.906),\n",
       " (0.45, 1, 2): (0.181, 0.971),\n",
       " (0.55, 0, 1): (0.557, 0.99),\n",
       " (0.55, 0, 2): (0.135, 0.984),\n",
       " (0.55, 0, 3): (0.797, 0.99),\n",
       " (0.55, 1, 1): (0.59, 0.975),\n",
       " (0.55, 1, 2): (0.125, 0.981),\n",
       " (0.55, 1, 3): (0.608, 0.984),\n",
       " (0.95, 0, 1): (0.028, 1.002),\n",
       " (0.95, 0, 2): (0.127, 1.009),\n",
       " (0.95, 0, 3): (0.066, 0.985),\n",
       " (0.95, 1, 1): (0.031, 1.003),\n",
       " (0.95, 1, 2): (0.113, 0.986),\n",
       " (0.95, 1, 3): (0.046, 1.002),\n",
       " (0.3, 0, 1): (0.145, 0.992),\n",
       " (0.3, 0, 2): (0.153, 0.986),\n",
       " (0.3, 0, 3): (0.071, 0.98),\n",
       " (0.3, 1, 1): (0.191, 0.976),\n",
       " (0.3, 1, 2): (0.101, 0.991),\n",
       " (0.3, 1, 3): (0.158, 0.956),\n",
       " (0.7, 0, 1): (0.1, 0.986),\n",
       " (0.7, 0, 2): (0.105, 1.006),\n",
       " (0.7, 0, 3): (0.173, 1.009),\n",
       " (0.7, 1, 1): (0.093, 0.986),\n",
       " (0.7, 1, 2): (0.078, 0.983),\n",
       " (0.7, 1, 3): (0.029, 0.994),\n",
       " (1.0, 0, 1): (0.056, 0.994),\n",
       " (1.0, 0, 2): (0.037, 1.005),\n",
       " (1.0, 0, 3): (0.07, 1.007),\n",
       " (1.0, 1, 1): (0.074, 0.986),\n",
       " (1.0, 1, 2): (0.056, 1.007),\n",
       " (1.0, 1, 3): (0.041, 0.998),\n",
       " (0.25, 0, 1): (0.083, 0.976),\n",
       " (0.25, 0, 2): (0.066, 1.0),\n",
       " (0.25, 0, 3): (0.047, 0.979),\n",
       " (0.25, 1, 2): (0.044, 0.983),\n",
       " (0.25, 1, 3): (0.342, 0.957),\n",
       " (0.2, 0, 1): (0.022, 0.989),\n",
       " (0.2, 0, 2): (0.049, 1.004),\n",
       " (0.2, 1, 2): (0.073, 0.991),\n",
       " (0.75, 0, 1): (0.087, 0.986),\n",
       " (0.75, 0, 2): (0.085, 0.986),\n",
       " (0.75, 0, 3): (0.059, 1.005),\n",
       " (0.75, 1, 1): (0.041, 0.999),\n",
       " (0.75, 1, 2): (0.055, 1.001),\n",
       " (0.75, 1, 3): (0.094, 1.003),\n",
       " (0.1, 0, 1): (0.193, 1.0),\n",
       " (0.1, 0, 3): (0.097, 1.003),\n",
       " (0.1, 1, 1): (0.107, 1.004),\n",
       " (0.1, 1, 2): (0.107, 0.998),\n",
       " (0.1, 1, 3): (0.077, 0.989),\n",
       " (0.9, 0, 1): (0.085, 0.985),\n",
       " (0.9, 0, 2): (0.074, 0.985),\n",
       " (0.9, 0, 3): (0.034, 0.995),\n",
       " (0.9, 1, 1): (0.078, 1.01),\n",
       " (0.9, 1, 2): (0.095, 1.01),\n",
       " (0.9, 1, 3): (0.043, 1.005),\n",
       " (0.05, 0, 2): (0.064, 0.995),\n",
       " (0.05, 0, 3): (0.107, 0.981),\n",
       " (0.05, 1, 1): (0.124, 0.972),\n",
       " (0.05, 1, 3): (0.074, 0.99),\n",
       " (0.15, 0, 1): (0.018, 0.996),\n",
       " (0.15, 0, 2): (0.064, 0.998),\n",
       " (0.15, 0, 3): (0.162, 0.986),\n",
       " (0.8, 0, 1): (0.051, 1.01),\n",
       " (0.8, 0, 2): (0.102, 1.004),\n",
       " (0.8, 0, 3): (0.114, 1.011),\n",
       " (0.8, 1, 1): (0.035, 0.987),\n",
       " (0.8, 1, 2): (0.066, 1.007),\n",
       " (0.8, 1, 3): (0.09, 1.011),\n",
       " (0.4, 0, 1): (0.539, 0.933),\n",
       " (0.4, 0, 2): (0.167, 0.985),\n",
       " (0.4, 0, 3): (0.188, 0.955),\n",
       " (0.4, 1, 1): (0.398, 0.958),\n",
       " (0.4, 1, 2): (0.283, 0.945),\n",
       " (0.0, 0, 1): (0.05, 0.989),\n",
       " (0.0, 0, 2): (0.02, 0.993),\n",
       " (0.0, 0, 3): (0.042, 0.98),\n",
       " (0.0, 1, 3): (0.348, 0.985),\n",
       " (0.6, 0, 1): (0.2, 1.005),\n",
       " (0.6, 0, 2): (0.122, 0.985),\n",
       " (0.6, 0, 3): (0.149, 1.0),\n",
       " (0.6, 1, 1): (0.123, 0.987),\n",
       " (0.6, 1, 2): (0.263, 0.973),\n",
       " (0.6, 1, 3): (0.257, 0.999),\n",
       " (0.85, 0, 1): (0.088, 0.984),\n",
       " (0.85, 0, 2): (0.101, 1.01),\n",
       " (0.85, 0, 3): (0.147, 0.995),\n",
       " (0.85, 1, 1): (0.091, 0.987),\n",
       " (0.85, 1, 2): (0.021, 0.994),\n",
       " (0.85, 1, 3): (0.064, 0.991),\n",
       " (0.35, 0, 2): (0.118, 0.959),\n",
       " (0.35, 0, 3): (0.169, 0.977),\n",
       " (0.35, 1, 1): (0.301, 0.959),\n",
       " (0.5, 0, 2): (0.253, 0.985),\n",
       " (0.5, 1, 2): (0.163, 0.984)}"
      ]
     },
     "execution_count": 91,
     "metadata": {},
     "output_type": "execute_result"
    }
   ],
   "source": [
    "final_scores_dict"
   ]
  },
  {
   "cell_type": "markdown",
   "id": "98684dc1-990a-44fd-8364-b3937e5a2e68",
   "metadata": {},
   "source": [
    "Looks good!"
   ]
  },
  {
   "cell_type": "code",
   "execution_count": 92,
   "id": "1ef1f838-ed81-426e-86db-7409044f0aad",
   "metadata": {},
   "outputs": [
    {
     "data": {
      "text/plain": [
       "(105, 21)"
      ]
     },
     "execution_count": 92,
     "metadata": {},
     "output_type": "execute_result"
    }
   ],
   "source": [
    "(len(fixed_sols), len(random_sols))"
   ]
  },
  {
   "cell_type": "code",
   "execution_count": 93,
   "id": "34f240e2-415f-4230-9f10-f7d88cc6161b",
   "metadata": {},
   "outputs": [],
   "source": [
    "triv_sols_dict = {**fixed_sols, **random_sols}"
   ]
  },
  {
   "cell_type": "code",
   "execution_count": 94,
   "id": "625eaf02-ce7e-442c-bbdc-c44b21011691",
   "metadata": {},
   "outputs": [
    {
     "data": {
      "text/plain": [
       "126"
      ]
     },
     "execution_count": 94,
     "metadata": {},
     "output_type": "execute_result"
    }
   ],
   "source": [
    "len(triv_sols_dict)"
   ]
  },
  {
   "cell_type": "markdown",
   "id": "90b547cb-f0bf-4c74-9b2a-88fa2bea62d7",
   "metadata": {},
   "source": [
    "## Non trivial proj rep solutions"
   ]
  },
  {
   "cell_type": "code",
   "execution_count": 98,
   "id": "41661a11-0dd1-4c75-8c6a-2e2d587bae8f",
   "metadata": {},
   "outputs": [],
   "source": [
    "MPO_SOLUTIONS_DIR = r'solutions/non_triv_hyperparameter_search'"
   ]
  },
  {
   "cell_type": "code",
   "execution_count": 99,
   "id": "960d5c73-82af-42de-a0de-c5368aeabdbb",
   "metadata": {},
   "outputs": [],
   "source": [
    "random_sols = dict()\n",
    "empty_cases = list()\n",
    "\n",
    "for file_name in os.listdir(MPO_SOLUTIONS_DIR):\n",
    "    with open(rf'{MPO_SOLUTIONS_DIR}/{file_name}', 'rb') as file:\n",
    "        d = pickle.load(file)\n",
    "    out = parse_random_search_dict(d)\n",
    "\n",
    "    if out is None:\n",
    "        empty_cases.append(file_name)\n",
    "    else:\n",
    "        k, v = out\n",
    "\n",
    "        a, b, c = [\n",
    "            int(s)\n",
    "            for s in (file_name.split('.')[0]).split('_')\n",
    "        ]\n",
    "        a/=100\n",
    "        random_sols[(a,b,c)] = {**(k._asdict()), **v}"
   ]
  },
  {
   "cell_type": "code",
   "execution_count": 100,
   "id": "65ac0283-1927-4de6-bf38-ccbe2e144ae1",
   "metadata": {},
   "outputs": [
    {
     "data": {
      "text/plain": [
       "[]"
      ]
     },
     "execution_count": 100,
     "metadata": {},
     "output_type": "execute_result"
    }
   ],
   "source": [
    "empty_cases"
   ]
  },
  {
   "cell_type": "code",
   "execution_count": 101,
   "id": "0b57ca13-bb92-471c-b4c7-328484962383",
   "metadata": {},
   "outputs": [],
   "source": [
    "final_scores_dict = dict()\n",
    "\n",
    "for k, v in random_sols.items():\n",
    "    overlap = np.round(v['overlap_scores'][-1], 3)\n",
    "    unitarity = np.round(np.real(v['unitarity_scores'][-1]), 3)\n",
    "\n",
    "    final_scores_dict[k] = (unitarity, overlap)"
   ]
  },
  {
   "cell_type": "code",
   "execution_count": 102,
   "id": "1900c0d1-750c-46c8-8bc1-46807a5489bc",
   "metadata": {},
   "outputs": [
    {
     "data": {
      "text/plain": [
       "{(1.0, 0, 3): (4.955, 0.912),\n",
       " (0.15, 1, 2): (4.891, 0.951),\n",
       " (0.9, 0, 3): (4.866, 0.916),\n",
       " (0.05, 0, 2): (4.976, 0.947),\n",
       " (0.8, 0, 3): (4.95, 0.97),\n",
       " (0.8, 0, 2): (4.947, 0.956),\n",
       " (0.05, 0, 3): (4.969, 0.957),\n",
       " (0.9, 0, 2): (4.933, 0.972),\n",
       " (0.3, 0, 1): (0.992, 0.935),\n",
       " (0.2, 0, 1): (4.992, 0.972),\n",
       " (1.0, 0, 2): (4.986, 0.908),\n",
       " (0.15, 1, 3): (4.828, 0.939),\n",
       " (0.15, 1, 1): (4.935, 0.958),\n",
       " (0.3, 0, 3): (4.866, 0.957),\n",
       " (0.2, 0, 3): (4.859, 0.941),\n",
       " (0.05, 0, 1): (4.895, 0.923),\n",
       " (0.9, 0, 1): (4.988, 0.914),\n",
       " (0.8, 0, 1): (4.981, 0.942),\n",
       " (0.2, 0, 2): (4.955, 0.966),\n",
       " (0.3, 0, 2): (0.989, 0.966),\n",
       " (1.0, 0, 1): (4.979, 0.959),\n",
       " (0.65, 0, 1): (4.638, 0.908),\n",
       " (0.75, 0, 1): (4.938, 0.964),\n",
       " (0.4, 1, 3): (4.933, 0.922),\n",
       " (0.5, 1, 3): (4.965, 0.976),\n",
       " (0.5, 1, 2): (4.914, 0.929),\n",
       " (0.4, 1, 2): (4.937, 0.964),\n",
       " (0.75, 0, 2): (4.801, 0.926),\n",
       " (0.65, 0, 2): (4.98, 0.956),\n",
       " (0.4, 1, 1): (4.967, 0.938),\n",
       " (0.5, 1, 1): (4.901, 0.938),\n",
       " (0.65, 0, 3): (4.952, 0.951),\n",
       " (0.75, 0, 3): (4.985, 0.909),\n",
       " (0.05, 1, 1): (4.853, 0.905),\n",
       " (0.15, 0, 1): (4.981, 0.921),\n",
       " (0.3, 1, 3): (4.898, 0.937),\n",
       " (0.2, 1, 3): (4.999, 0.959),\n",
       " (0.2, 1, 2): (4.993, 0.919),\n",
       " (0.3, 1, 2): (4.905, 0.936),\n",
       " (1.0, 1, 1): (4.985, 0.936),\n",
       " (0.9, 1, 1): (4.978, 0.917),\n",
       " (0.8, 1, 1): (4.967, 0.939),\n",
       " (0.9, 1, 3): (4.947, 0.967),\n",
       " (0.8, 1, 3): (4.589, 0.954),\n",
       " (0.05, 1, 2): (4.979, 0.951),\n",
       " (0.15, 0, 2): (4.924, 0.956),\n",
       " (1.0, 1, 3): (4.98, 0.951),\n",
       " (0.3, 1, 1): (4.981, 0.96),\n",
       " (0.2, 1, 1): (4.876, 0.956),\n",
       " (0.15, 0, 3): (4.839, 0.918),\n",
       " (1.0, 1, 2): (4.778, 0.929),\n",
       " (0.05, 1, 3): (4.965, 0.961),\n",
       " (0.8, 1, 2): (4.982, 0.918),\n",
       " (0.9, 1, 2): (4.885, 0.959),\n",
       " (0.75, 1, 2): (4.716, 0.915),\n",
       " (0.65, 1, 2): (4.916, 0.93),\n",
       " (0.4, 0, 1): (4.981, 0.922),\n",
       " (0.5, 0, 1): (4.859, 0.946),\n",
       " (0.65, 1, 3): (4.953, 0.955),\n",
       " (0.75, 1, 3): (4.807, 0.926),\n",
       " (0.65, 1, 1): (4.968, 0.947),\n",
       " (0.75, 1, 1): (4.936, 0.964),\n",
       " (0.4, 0, 3): (4.891, 0.919),\n",
       " (0.5, 0, 3): (4.962, 0.909),\n",
       " (0.5, 0, 2): (4.955, 0.925),\n",
       " (0.4, 0, 2): (4.94, 0.952),\n",
       " (0.45, 0, 2): (4.98, 0.967),\n",
       " (0.55, 0, 2): (4.992, 0.962),\n",
       " (0.55, 0, 3): (4.977, 0.935),\n",
       " (0.45, 0, 3): (4.906, 0.953),\n",
       " (0.7, 1, 1): (4.97, 0.955),\n",
       " (0.6, 1, 1): (4.996, 0.962),\n",
       " (0.7, 1, 3): (4.978, 0.934),\n",
       " (0.6, 1, 3): (4.971, 0.94),\n",
       " (0.55, 0, 1): (4.886, 0.948),\n",
       " (0.45, 0, 1): (4.963, 0.921),\n",
       " (0.6, 1, 2): (1.903, 0.901),\n",
       " (0.7, 1, 2): (4.959, 0.932),\n",
       " (0.1, 0, 3): (4.867, 0.916),\n",
       " (0.25, 1, 1): (4.926, 0.936),\n",
       " (0.35, 1, 1): (4.958, 0.961),\n",
       " (0.95, 1, 2): (4.745, 0.903),\n",
       " (0.0, 1, 3): (4.972, 0.947),\n",
       " (0.85, 1, 2): (4.982, 0.955),\n",
       " (0.85, 1, 3): (4.858, 0.943),\n",
       " (0.0, 1, 2): (4.994, 0.927),\n",
       " (0.95, 1, 3): (4.989, 0.946),\n",
       " (0.1, 0, 2): (4.989, 0.954),\n",
       " (0.35, 1, 2): (4.962, 0.959),\n",
       " (0.25, 1, 2): (4.931, 0.957),\n",
       " (0.85, 1, 1): (4.923, 0.957),\n",
       " (0.95, 1, 1): (4.98, 0.908),\n",
       " (0.0, 1, 1): (4.983, 0.943),\n",
       " (0.25, 1, 3): (4.96, 0.967),\n",
       " (0.35, 1, 3): (4.951, 0.954),\n",
       " (0.1, 0, 1): (4.872, 0.974),\n",
       " (0.7, 0, 3): (4.936, 0.938),\n",
       " (0.6, 0, 3): (4.944, 0.94),\n",
       " (0.55, 1, 1): (4.975, 0.949),\n",
       " (0.45, 1, 1): (4.966, 0.967),\n",
       " (0.6, 0, 2): (4.989, 0.957),\n",
       " (0.7, 0, 2): (5.0, 0.963),\n",
       " (0.45, 1, 2): (4.768, 0.954),\n",
       " (0.55, 1, 2): (4.915, 0.958),\n",
       " (0.55, 1, 3): (4.966, 0.951),\n",
       " (0.45, 1, 3): (4.975, 0.951),\n",
       " (0.7, 0, 1): (4.971, 0.94),\n",
       " (0.6, 0, 1): (4.805, 0.95),\n",
       " (0.85, 0, 1): (4.966, 0.942),\n",
       " (0.95, 0, 1): (4.965, 0.931),\n",
       " (0.35, 0, 2): (4.942, 0.95),\n",
       " (0.25, 0, 2): (1.992, 0.902),\n",
       " (0.25, 0, 3): (4.804, 0.913),\n",
       " (0.35, 0, 3): (4.909, 0.96),\n",
       " (0.1, 1, 1): (4.935, 0.93),\n",
       " (0.0, 0, 1): (4.944, 0.939),\n",
       " (0.95, 0, 2): (4.854, 0.913),\n",
       " (0.85, 0, 2): (4.825, 0.953),\n",
       " (0.0, 0, 3): (4.91, 0.943),\n",
       " (0.1, 1, 3): (4.919, 0.939),\n",
       " (0.25, 0, 1): (4.992, 0.956),\n",
       " (0.35, 0, 1): (4.894, 0.936),\n",
       " (0.1, 1, 2): (4.911, 0.963),\n",
       " (0.0, 0, 2): (4.957, 0.967),\n",
       " (0.85, 0, 3): (4.982, 0.964),\n",
       " (0.95, 0, 3): (4.912, 0.902)}"
      ]
     },
     "execution_count": 102,
     "metadata": {},
     "output_type": "execute_result"
    }
   ],
   "source": [
    "final_scores_dict"
   ]
  },
  {
   "cell_type": "markdown",
   "id": "dc0cda00-0c56-4973-8c20-0ca58ed02bd4",
   "metadata": {},
   "source": [
    "# Calculate fermionic cohomology"
   ]
  },
  {
   "cell_type": "code",
   "execution_count": 171,
   "id": "3294853c-f2b3-4426-a1a5-295ca4ae9bcb",
   "metadata": {},
   "outputs": [],
   "source": [
    "def right_mpo_fp_charge(left_environment, b_tensors, mpo_tensors):\n",
    "    fp_bs = list()\n",
    "    \n",
    "    for i, b in enumerate(b_tensors):\n",
    "        dim = get_physical_dim(b)\n",
    "        if dim%2:\n",
    "            b_to_add = npc.tensordot(b, npc_JW, [['p',], ['p*',]])\n",
    "        else:\n",
    "            b_to_add = b\n",
    "    \n",
    "        fp_bs.append(b_to_add)\n",
    "\n",
    "    fp_exp = mpo_product_expectation(\n",
    "        left_environment,\n",
    "        fp_bs,\n",
    "        [mpo_tensors,]\n",
    "    )\n",
    "    exp = mpo_product_expectation(\n",
    "        left_environment,\n",
    "        b_tensors,\n",
    "        [mpo_tensors,]\n",
    "    )\n",
    "\n",
    "    relative_phase = fp_exp/exp\n",
    "\n",
    "    return (relative_phase, exp)"
   ]
  },
  {
   "cell_type": "code",
   "execution_count": 213,
   "id": "1e68985d-32ad-4ff9-acb2-91ca55ee71f3",
   "metadata": {},
   "outputs": [],
   "source": [
    "test_key = (0.3, 0, 2)"
   ]
  },
  {
   "cell_type": "code",
   "execution_count": 214,
   "id": "feb0f81e-98fe-4b5c-a01d-95eba9dcd91a",
   "metadata": {},
   "outputs": [],
   "source": [
    "test_case = cases_triv_proj_rep[test_key]"
   ]
  },
  {
   "cell_type": "code",
   "execution_count": 215,
   "id": "60ffe38a-4174-402a-8a9e-b4c11dba8a43",
   "metadata": {
    "scrolled": true
   },
   "outputs": [],
   "source": [
    "test_left_mpo, test_right_mpo = triv_sols_dict[test_key]['solutions']"
   ]
  },
  {
   "cell_type": "code",
   "execution_count": 216,
   "id": "9f29a2d2-1f3b-4ba3-9997-f1337090ba13",
   "metadata": {},
   "outputs": [
    {
     "data": {
      "text/plain": [
       "[<npc.Array shape=(2, 2, 5) labels=['p', 'p*', 'vR']>,\n",
       " <npc.Array shape=(4, 4, 5, 5) labels=['p', 'p*', 'vL', 'vR']>,\n",
       " <npc.Array shape=(2, 2, 5, 5) labels=['p', 'p*', 'vL', 'vR']>,\n",
       " <npc.Array shape=(4, 4, 5, 5) labels=['p', 'p*', 'vL', 'vR']>,\n",
       " <npc.Array shape=(2, 2, 5, 5) labels=['p', 'p*', 'vL', 'vR']>,\n",
       " <npc.Array shape=(4, 4, 5) labels=['p', 'p*', 'vL']>]"
      ]
     },
     "execution_count": 216,
     "metadata": {},
     "output_type": "execute_result"
    }
   ],
   "source": [
    "test_left_mpo"
   ]
  },
  {
   "cell_type": "code",
   "execution_count": 217,
   "id": "1f1d6a9d-9468-4c67-b6ba-b66517757457",
   "metadata": {},
   "outputs": [
    {
     "data": {
      "text/plain": [
       "[<npc.Array shape=(4, 4, 5) labels=['p', 'p*', 'vR']>,\n",
       " <npc.Array shape=(2, 2, 5, 5) labels=['p', 'p*', 'vL', 'vR']>,\n",
       " <npc.Array shape=(4, 4, 5, 5) labels=['p', 'p*', 'vL', 'vR']>,\n",
       " <npc.Array shape=(2, 2, 5, 5) labels=['p', 'p*', 'vL', 'vR']>,\n",
       " <npc.Array shape=(4, 4, 5, 5) labels=['p', 'p*', 'vL', 'vR']>,\n",
       " <npc.Array shape=(2, 2, 5) labels=['p', 'p*', 'vL']>]"
      ]
     },
     "execution_count": 217,
     "metadata": {},
     "output_type": "execute_result"
    }
   ],
   "source": [
    "test_right_mpo"
   ]
  },
  {
   "cell_type": "code",
   "execution_count": 218,
   "id": "fa0d1105-a1dc-4e92-a97c-a46f02b1c05b",
   "metadata": {},
   "outputs": [],
   "source": [
    "num_sites = 6"
   ]
  },
  {
   "cell_type": "code",
   "execution_count": 219,
   "id": "583a20d1-04a5-4d07-a090-134c360c56da",
   "metadata": {},
   "outputs": [],
   "source": [
    "test_b_tensors = [\n",
    "    test_case.psi.get_B(i)\n",
    "    for i in range(\n",
    "        test_case.right_symmetry_index + 1,\n",
    "        test_case.right_symmetry_index + 1 + len(test_right_mpo)\n",
    "    )\n",
    "]"
   ]
  },
  {
   "cell_type": "code",
   "execution_count": 220,
   "id": "8d3cf6f7-7e94-4131-93ed-550c8dfe468a",
   "metadata": {},
   "outputs": [
    {
     "data": {
      "text/plain": [
       "((1-0j), (-1.4164452368361067-0.236791102495156j))"
      ]
     },
     "execution_count": 220,
     "metadata": {},
     "output_type": "execute_result"
    }
   ],
   "source": [
    "right_mpo_fp_charge(\n",
    "    test_case.right_projected_symmetry_state,\n",
    "    test_b_tensors,\n",
    "    test_right_mpo\n",
    ")"
   ]
  },
  {
   "cell_type": "markdown",
   "id": "4878032b-6cb3-4fe3-9bb7-403ec104566a",
   "metadata": {},
   "source": [
    "Just need to compute the left/right environments now, and loop."
   ]
  },
  {
   "cell_type": "code",
   "execution_count": 180,
   "id": "c54d743e-82b0-4579-9a58-bef6a7ff6e88",
   "metadata": {},
   "outputs": [
    {
     "data": {
      "text/plain": [
       "126"
      ]
     },
     "execution_count": 180,
     "metadata": {},
     "output_type": "execute_result"
    }
   ],
   "source": [
    "len(triv_sols_dict)"
   ]
  },
  {
   "cell_type": "code",
   "execution_count": 181,
   "id": "26ce4c9c-cf8f-4b17-b943-0aa86152b5e9",
   "metadata": {},
   "outputs": [
    {
     "data": {
      "text/plain": [
       "SPTOptimization.SymmetryActionWithBoundaryUnitaries.SymmetryActionWithBoundaryUnitaries"
      ]
     },
     "execution_count": 181,
     "metadata": {},
     "output_type": "execute_result"
    }
   ],
   "source": [
    "type(test_case)"
   ]
  },
  {
   "cell_type": "code",
   "execution_count": 182,
   "id": "99494d27-5858-4c1b-8f5e-6eac212edd13",
   "metadata": {},
   "outputs": [],
   "source": [
    "triv_proj_rep_fp_charges = dict()\n",
    "\n",
    "for k, d in triv_sols_dict.items():\n",
    "    left_mpo, right_mpo = d['solutions']\n",
    "    case = cases_triv_proj_rep[k]\n",
    "\n",
    "    right_b_tensors = [\n",
    "        case.psi.get_B(i)\n",
    "        for i in range(\n",
    "            case.right_symmetry_index + 1,\n",
    "            case.right_symmetry_index + 1 + len(right_mpo)\n",
    "        )\n",
    "    ]\n",
    "\n",
    "    left_b_tensors = [\n",
    "        case.psi.get_B(i, form='A')\n",
    "        for i in range(\n",
    "            case.left_symmetry_index - 1,\n",
    "            case.left_symmetry_index - 1 - num_sites, -1\n",
    "        )\n",
    "    ]\n",
    "\n",
    "    left_b_tensors = [\n",
    "        swap_left_right_indices(b)\n",
    "        for b in left_b_tensors\n",
    "    ]\n",
    "\n",
    "    # Compute left and right symmetry environments\n",
    "    # Right symmetry environment for left side first\n",
    "    right_overlap_tensors = overlap_right_tensors(\n",
    "        right_mpo,\n",
    "        right_b_tensors\n",
    "    )\n",
    "    right_symmetry_environment = npc.tensordot(\n",
    "        case.npc_symmetry_transfer_matrix,\n",
    "        right_overlap_tensors[0],\n",
    "        [['vR', 'vR*'], ['vL', 'vL*']]\n",
    "    )\n",
    "    right_symmetry_environment = swap_left_right_indices(right_symmetry_environment)\n",
    "\n",
    "    # Left symmetry environment for right side\n",
    "    left_overlap_tensors = overlap_right_tensors(\n",
    "        left_mpo,\n",
    "        left_b_tensors\n",
    "    )\n",
    "    left_symmetry_environment = npc.tensordot(\n",
    "        case.npc_symmetry_transfer_matrix,\n",
    "        swap_left_right_indices(left_overlap_tensors[0]),\n",
    "        [['vL', 'vL*'], ['vR', 'vR*']]\n",
    "    )\n",
    "\n",
    "    right_fp_charge = right_mpo_fp_charge(\n",
    "        left_symmetry_environment,\n",
    "        right_b_tensors,\n",
    "        right_mpo\n",
    "    )\n",
    "\n",
    "    left_fp_charge = right_mpo_fp_charge(\n",
    "        right_symmetry_environment,\n",
    "        left_b_tensors,\n",
    "        left_mpo\n",
    "    )\n",
    "\n",
    "    triv_proj_rep_fp_charges[k] = (*left_fp_charge, *right_fp_charge)"
   ]
  },
  {
   "cell_type": "code",
   "execution_count": 183,
   "id": "0b256c7b-c534-42fe-8ed8-b0db58e4a004",
   "metadata": {},
   "outputs": [],
   "source": [
    "data = [(*k, *v) for k, v in triv_proj_rep_fp_charges.items()]\n",
    "\n",
    "triv_proj_rep_fp_charges_1_df = pd.DataFrame(\n",
    "    data,\n",
    "    columns=['t', 'jw', 'a', 'fp_l', 'ol', 'fp_r', 'or']\n",
    ")"
   ]
  },
  {
   "cell_type": "code",
   "execution_count": 184,
   "id": "812de98d-7dcd-430f-a048-bf52b8c94768",
   "metadata": {},
   "outputs": [
    {
     "data": {
      "text/plain": [
       "fp_l\n",
       "1.0-0.0j    104\n",
       "1.0+0.0j     14\n",
       "1.0-0.0j      1\n",
       "1.0-0.0j      1\n",
       "1.0+0.0j      1\n",
       "1.0-0.0j      1\n",
       "1.0-0.0j      1\n",
       "1.0-0.0j      1\n",
       "1.0+0.0j      1\n",
       "1.0-0.0j      1\n",
       "Name: count, dtype: int64"
      ]
     },
     "execution_count": 184,
     "metadata": {},
     "output_type": "execute_result"
    }
   ],
   "source": [
    "triv_proj_rep_fp_charges_1_df['fp_l'].value_counts()"
   ]
  },
  {
   "cell_type": "code",
   "execution_count": 185,
   "id": "d448f03f-c5d2-4504-bc03-126526d66572",
   "metadata": {},
   "outputs": [
    {
     "data": {
      "text/plain": [
       "fp_r\n",
       "1.0-0.0j    105\n",
       "1.0+0.0j     13\n",
       "1.0+0.0j      1\n",
       "1.0-0.0j      1\n",
       "1.0+0.0j      1\n",
       "1.0-0.0j      1\n",
       "1.0+0.0j      1\n",
       "1.0+0.0j      1\n",
       "1.0+0.0j      1\n",
       "1.0+0.0j      1\n",
       "Name: count, dtype: int64"
      ]
     },
     "execution_count": 185,
     "metadata": {},
     "output_type": "execute_result"
    }
   ],
   "source": [
    "triv_proj_rep_fp_charges_1_df['fp_r'].value_counts()"
   ]
  },
  {
   "cell_type": "code",
   "execution_count": 222,
   "id": "be583f98-8d5e-4416-a74d-065e4d930c00",
   "metadata": {},
   "outputs": [],
   "source": [
    "triv_proj_rep_fp_charges = dict()\n",
    "\n",
    "for k, d in triv_sols_dict.items():\n",
    "    left_mpo, right_mpo = d['solutions']\n",
    "    case = cases_triv_proj_rep[k]\n",
    "\n",
    "    right_b_tensors = [\n",
    "        case.psi.get_B(i)\n",
    "        for i in range(\n",
    "            case.right_symmetry_index + 1,\n",
    "            case.right_symmetry_index + 1 + len(right_mpo)\n",
    "        )\n",
    "    ]\n",
    "\n",
    "    left_b_tensors = [\n",
    "        case.psi.get_B(i, form='A')\n",
    "        for i in range(\n",
    "            case.left_symmetry_index - 1,\n",
    "            case.left_symmetry_index - 1 - num_sites, -1\n",
    "        )\n",
    "    ]\n",
    "\n",
    "    left_b_tensors = [\n",
    "        swap_left_right_indices(b)\n",
    "        for b in left_b_tensors\n",
    "    ]\n",
    "\n",
    "    right_symmetry_environment = case.left_projected_symmetry_state\n",
    "    right_symmetry_environment = swap_left_right_indices(right_symmetry_environment)\n",
    "\n",
    "    left_symmetry_environment = case.right_projected_symmetry_state\n",
    "\n",
    "    right_fp_charge = right_mpo_fp_charge(\n",
    "        left_symmetry_environment,\n",
    "        right_b_tensors,\n",
    "        right_mpo\n",
    "    )\n",
    "\n",
    "    left_fp_charge = right_mpo_fp_charge(\n",
    "        right_symmetry_environment,\n",
    "        left_b_tensors,\n",
    "        left_mpo\n",
    "    )\n",
    "\n",
    "    triv_proj_rep_fp_charges[k] = (\n",
    "        *left_fp_charge,\n",
    "        *right_fp_charge,\n",
    "        case.symmetry_transfer_matrix_singular_vals[0]\n",
    "    )"
   ]
  },
  {
   "cell_type": "code",
   "execution_count": 223,
   "id": "ca2db48f-6c22-4e38-8495-147f1c31e648",
   "metadata": {},
   "outputs": [],
   "source": [
    "data = [(*k, *v) for k, v in triv_proj_rep_fp_charges.items()]\n",
    "\n",
    "triv_proj_rep_fp_charges_2_df = pd.DataFrame(\n",
    "    data,\n",
    "    columns=['t', 'jw', 'a', 'fp_l', 'ol', 'fp_r', 'or', 'sing_val']\n",
    ")"
   ]
  },
  {
   "cell_type": "code",
   "execution_count": 224,
   "id": "6f447aff-af19-47a7-baa0-90228b9ecee1",
   "metadata": {},
   "outputs": [
    {
     "data": {
      "text/plain": [
       "fp_l\n",
       "1.0-0.0j    109\n",
       "1.0-0.0j      9\n",
       "1.0+0.0j      1\n",
       "1.0-0.0j      1\n",
       "1.0-0.0j      1\n",
       "1.0-0.0j      1\n",
       "1.0+0.0j      1\n",
       "1.0+0.0j      1\n",
       "1.0+0.0j      1\n",
       "1.0-0.0j      1\n",
       "Name: count, dtype: int64"
      ]
     },
     "execution_count": 224,
     "metadata": {},
     "output_type": "execute_result"
    }
   ],
   "source": [
    "triv_proj_rep_fp_charges_2_df['fp_l'].value_counts()"
   ]
  },
  {
   "cell_type": "code",
   "execution_count": 225,
   "id": "ebc4e271-733b-4589-a9e9-5c440735da60",
   "metadata": {},
   "outputs": [
    {
     "data": {
      "text/plain": [
       "fp_r\n",
       "1.0+0.0j    106\n",
       "1.0-0.0j     12\n",
       "1.0+0.0j      1\n",
       "1.0-0.0j      1\n",
       "1.0-0.0j      1\n",
       "1.0+0.0j      1\n",
       "1.0+0.0j      1\n",
       "1.0-0.0j      1\n",
       "1.0-0.0j      1\n",
       "1.0+0.0j      1\n",
       "Name: count, dtype: int64"
      ]
     },
     "execution_count": 225,
     "metadata": {},
     "output_type": "execute_result"
    }
   ],
   "source": [
    "triv_proj_rep_fp_charges_2_df['fp_r'].value_counts()"
   ]
  },
  {
   "cell_type": "code",
   "execution_count": 226,
   "id": "82411016-64c1-4a0e-a188-ab079351d671",
   "metadata": {},
   "outputs": [],
   "source": [
    "triv_proj_rep_fp_charges_2_df['overlap'] = (\n",
    "    np.abs(triv_proj_rep_fp_charges_2_df['ol'])\n",
    "    *np.abs(triv_proj_rep_fp_charges_2_df['or'])\n",
    "    *np.abs(triv_proj_rep_fp_charges_2_df['sing_val'])\n",
    ")"
   ]
  },
  {
   "cell_type": "code",
   "execution_count": 227,
   "id": "32b09026-cf81-4dab-b52a-a618f3064c39",
   "metadata": {},
   "outputs": [
    {
     "data": {
      "text/html": [
       "<div>\n",
       "<style scoped>\n",
       "    .dataframe tbody tr th:only-of-type {\n",
       "        vertical-align: middle;\n",
       "    }\n",
       "\n",
       "    .dataframe tbody tr th {\n",
       "        vertical-align: top;\n",
       "    }\n",
       "\n",
       "    .dataframe thead th {\n",
       "        text-align: right;\n",
       "    }\n",
       "</style>\n",
       "<table border=\"1\" class=\"dataframe\">\n",
       "  <thead>\n",
       "    <tr style=\"text-align: right;\">\n",
       "      <th></th>\n",
       "      <th>t</th>\n",
       "      <th>jw</th>\n",
       "      <th>a</th>\n",
       "      <th>fp_l</th>\n",
       "      <th>ol</th>\n",
       "      <th>fp_r</th>\n",
       "      <th>or</th>\n",
       "      <th>sing_val</th>\n",
       "      <th>overlap</th>\n",
       "    </tr>\n",
       "  </thead>\n",
       "  <tbody>\n",
       "    <tr>\n",
       "      <th>0</th>\n",
       "      <td>0.65</td>\n",
       "      <td>0</td>\n",
       "      <td>1</td>\n",
       "      <td>1.0+0.0j</td>\n",
       "      <td>-0.884291-0.455162j</td>\n",
       "      <td>1.0+0.0j</td>\n",
       "      <td>1.044370+0.048644j</td>\n",
       "      <td>0.959778</td>\n",
       "      <td>0.997987</td>\n",
       "    </tr>\n",
       "    <tr>\n",
       "      <th>1</th>\n",
       "      <td>0.65</td>\n",
       "      <td>0</td>\n",
       "      <td>2</td>\n",
       "      <td>1.0-0.0j</td>\n",
       "      <td>-0.954166-0.355204j</td>\n",
       "      <td>1.0+0.0j</td>\n",
       "      <td>0.807514-0.615764j</td>\n",
       "      <td>0.959778</td>\n",
       "      <td>0.992333</td>\n",
       "    </tr>\n",
       "    <tr>\n",
       "      <th>2</th>\n",
       "      <td>0.65</td>\n",
       "      <td>0</td>\n",
       "      <td>3</td>\n",
       "      <td>1.0+0.0j</td>\n",
       "      <td>0.523254+0.920771j</td>\n",
       "      <td>1.0+0.0j</td>\n",
       "      <td>0.578385+0.788813j</td>\n",
       "      <td>0.959778</td>\n",
       "      <td>0.994244</td>\n",
       "    </tr>\n",
       "    <tr>\n",
       "      <th>3</th>\n",
       "      <td>0.65</td>\n",
       "      <td>1</td>\n",
       "      <td>1</td>\n",
       "      <td>1.0+0.0j</td>\n",
       "      <td>0.896500-0.343312j</td>\n",
       "      <td>1.0-0.0j</td>\n",
       "      <td>-1.001324-0.397012j</td>\n",
       "      <td>0.959778</td>\n",
       "      <td>0.992465</td>\n",
       "    </tr>\n",
       "    <tr>\n",
       "      <th>4</th>\n",
       "      <td>0.65</td>\n",
       "      <td>1</td>\n",
       "      <td>2</td>\n",
       "      <td>1.0+0.0j</td>\n",
       "      <td>1.022346+0.244310j</td>\n",
       "      <td>1.0+0.0j</td>\n",
       "      <td>-0.683846+0.703706j</td>\n",
       "      <td>0.959778</td>\n",
       "      <td>0.989935</td>\n",
       "    </tr>\n",
       "    <tr>\n",
       "      <th>...</th>\n",
       "      <td>...</td>\n",
       "      <td>...</td>\n",
       "      <td>...</td>\n",
       "      <td>...</td>\n",
       "      <td>...</td>\n",
       "      <td>...</td>\n",
       "      <td>...</td>\n",
       "      <td>...</td>\n",
       "      <td>...</td>\n",
       "    </tr>\n",
       "    <tr>\n",
       "      <th>121</th>\n",
       "      <td>0.35</td>\n",
       "      <td>1</td>\n",
       "      <td>2</td>\n",
       "      <td>1.0-0.0j</td>\n",
       "      <td>-0.012559-0.015797j</td>\n",
       "      <td>1.0-0.0j</td>\n",
       "      <td>-0.008040-0.006602j</td>\n",
       "      <td>0.495951</td>\n",
       "      <td>0.000104</td>\n",
       "    </tr>\n",
       "    <tr>\n",
       "      <th>122</th>\n",
       "      <td>0.00</td>\n",
       "      <td>1</td>\n",
       "      <td>1</td>\n",
       "      <td>1.0-0.0j</td>\n",
       "      <td>-0.661205-1.578544j</td>\n",
       "      <td>1.0-0.0j</td>\n",
       "      <td>0.618881-1.458487j</td>\n",
       "      <td>0.500000</td>\n",
       "      <td>1.355761</td>\n",
       "    </tr>\n",
       "    <tr>\n",
       "      <th>123</th>\n",
       "      <td>0.35</td>\n",
       "      <td>1</td>\n",
       "      <td>3</td>\n",
       "      <td>1.0+0.0j</td>\n",
       "      <td>-0.912589+1.276062j</td>\n",
       "      <td>1.0-0.0j</td>\n",
       "      <td>-1.573281-0.015692j</td>\n",
       "      <td>0.495951</td>\n",
       "      <td>1.224153</td>\n",
       "    </tr>\n",
       "    <tr>\n",
       "      <th>124</th>\n",
       "      <td>0.45</td>\n",
       "      <td>1</td>\n",
       "      <td>3</td>\n",
       "      <td>1.0-0.0j</td>\n",
       "      <td>-1.163135-0.764176j</td>\n",
       "      <td>1.0+0.0j</td>\n",
       "      <td>-0.280965+1.236691j</td>\n",
       "      <td>0.467965</td>\n",
       "      <td>0.825944</td>\n",
       "    </tr>\n",
       "    <tr>\n",
       "      <th>125</th>\n",
       "      <td>0.35</td>\n",
       "      <td>0</td>\n",
       "      <td>1</td>\n",
       "      <td>1.0-0.0j</td>\n",
       "      <td>0.000181-0.002496j</td>\n",
       "      <td>1.0+0.0j</td>\n",
       "      <td>0.025384-0.002633j</td>\n",
       "      <td>0.495951</td>\n",
       "      <td>0.000032</td>\n",
       "    </tr>\n",
       "  </tbody>\n",
       "</table>\n",
       "<p>126 rows × 9 columns</p>\n",
       "</div>"
      ],
      "text/plain": [
       "        t  jw  a      fp_l                  ol      fp_r                  or  \\\n",
       "0    0.65   0  1  1.0+0.0j -0.884291-0.455162j  1.0+0.0j  1.044370+0.048644j   \n",
       "1    0.65   0  2  1.0-0.0j -0.954166-0.355204j  1.0+0.0j  0.807514-0.615764j   \n",
       "2    0.65   0  3  1.0+0.0j  0.523254+0.920771j  1.0+0.0j  0.578385+0.788813j   \n",
       "3    0.65   1  1  1.0+0.0j  0.896500-0.343312j  1.0-0.0j -1.001324-0.397012j   \n",
       "4    0.65   1  2  1.0+0.0j  1.022346+0.244310j  1.0+0.0j -0.683846+0.703706j   \n",
       "..    ...  .. ..       ...                 ...       ...                 ...   \n",
       "121  0.35   1  2  1.0-0.0j -0.012559-0.015797j  1.0-0.0j -0.008040-0.006602j   \n",
       "122  0.00   1  1  1.0-0.0j -0.661205-1.578544j  1.0-0.0j  0.618881-1.458487j   \n",
       "123  0.35   1  3  1.0+0.0j -0.912589+1.276062j  1.0-0.0j -1.573281-0.015692j   \n",
       "124  0.45   1  3  1.0-0.0j -1.163135-0.764176j  1.0+0.0j -0.280965+1.236691j   \n",
       "125  0.35   0  1  1.0-0.0j  0.000181-0.002496j  1.0+0.0j  0.025384-0.002633j   \n",
       "\n",
       "     sing_val   overlap  \n",
       "0    0.959778  0.997987  \n",
       "1    0.959778  0.992333  \n",
       "2    0.959778  0.994244  \n",
       "3    0.959778  0.992465  \n",
       "4    0.959778  0.989935  \n",
       "..        ...       ...  \n",
       "121  0.495951  0.000104  \n",
       "122  0.500000  1.355761  \n",
       "123  0.495951  1.224153  \n",
       "124  0.467965  0.825944  \n",
       "125  0.495951  0.000032  \n",
       "\n",
       "[126 rows x 9 columns]"
      ]
     },
     "execution_count": 227,
     "metadata": {},
     "output_type": "execute_result"
    }
   ],
   "source": [
    "triv_proj_rep_fp_charges_2_df"
   ]
  },
  {
   "cell_type": "code",
   "execution_count": 229,
   "id": "be8c5eb2-e216-43fd-a071-0875639c7a2c",
   "metadata": {},
   "outputs": [],
   "source": [
    "triv_proj_rep_fp_charges_2_df.sort_values('overlap').to_csv('mpo_overlaps.csv')"
   ]
  },
  {
   "cell_type": "code",
   "execution_count": 191,
   "id": "65064e1d-71b9-4d82-bb85-e4d26b9b021f",
   "metadata": {},
   "outputs": [
    {
     "data": {
      "text/html": [
       "<div>\n",
       "<style scoped>\n",
       "    .dataframe tbody tr th:only-of-type {\n",
       "        vertical-align: middle;\n",
       "    }\n",
       "\n",
       "    .dataframe tbody tr th {\n",
       "        vertical-align: top;\n",
       "    }\n",
       "\n",
       "    .dataframe thead th {\n",
       "        text-align: right;\n",
       "    }\n",
       "</style>\n",
       "<table border=\"1\" class=\"dataframe\">\n",
       "  <thead>\n",
       "    <tr style=\"text-align: right;\">\n",
       "      <th></th>\n",
       "      <th>t</th>\n",
       "      <th>jw</th>\n",
       "      <th>a</th>\n",
       "      <th>fp_l</th>\n",
       "      <th>ol</th>\n",
       "      <th>fp_r</th>\n",
       "      <th>or</th>\n",
       "    </tr>\n",
       "  </thead>\n",
       "  <tbody>\n",
       "    <tr>\n",
       "      <th>0</th>\n",
       "      <td>0.65</td>\n",
       "      <td>0</td>\n",
       "      <td>1</td>\n",
       "      <td>1.0-0.0j</td>\n",
       "      <td>-0.865130-0.497522j</td>\n",
       "      <td>1.0+0.0j</td>\n",
       "      <td>-0.865130-0.497522j</td>\n",
       "    </tr>\n",
       "    <tr>\n",
       "      <th>1</th>\n",
       "      <td>0.65</td>\n",
       "      <td>0</td>\n",
       "      <td>2</td>\n",
       "      <td>1.0-0.0j</td>\n",
       "      <td>-0.949435+0.288614j</td>\n",
       "      <td>1.0-0.0j</td>\n",
       "      <td>-0.949435+0.288614j</td>\n",
       "    </tr>\n",
       "    <tr>\n",
       "      <th>2</th>\n",
       "      <td>0.65</td>\n",
       "      <td>0</td>\n",
       "      <td>3</td>\n",
       "      <td>1.0+0.0j</td>\n",
       "      <td>-0.406633+0.907288j</td>\n",
       "      <td>1.0+0.0j</td>\n",
       "      <td>-0.406633+0.907288j</td>\n",
       "    </tr>\n",
       "    <tr>\n",
       "      <th>3</th>\n",
       "      <td>0.65</td>\n",
       "      <td>1</td>\n",
       "      <td>1</td>\n",
       "      <td>1.0-0.0j</td>\n",
       "      <td>-0.992397-0.011666j</td>\n",
       "      <td>1.0-0.0j</td>\n",
       "      <td>-0.992397-0.011666j</td>\n",
       "    </tr>\n",
       "    <tr>\n",
       "      <th>4</th>\n",
       "      <td>0.65</td>\n",
       "      <td>1</td>\n",
       "      <td>2</td>\n",
       "      <td>1.0-0.0j</td>\n",
       "      <td>-0.836014+0.530144j</td>\n",
       "      <td>1.0-0.0j</td>\n",
       "      <td>-0.836014+0.530144j</td>\n",
       "    </tr>\n",
       "    <tr>\n",
       "      <th>...</th>\n",
       "      <td>...</td>\n",
       "      <td>...</td>\n",
       "      <td>...</td>\n",
       "      <td>...</td>\n",
       "      <td>...</td>\n",
       "      <td>...</td>\n",
       "      <td>...</td>\n",
       "    </tr>\n",
       "    <tr>\n",
       "      <th>121</th>\n",
       "      <td>0.35</td>\n",
       "      <td>1</td>\n",
       "      <td>2</td>\n",
       "      <td>1.0-0.0j</td>\n",
       "      <td>-0.000002+0.000104j</td>\n",
       "      <td>1.0+0.0j</td>\n",
       "      <td>-0.000002+0.000104j</td>\n",
       "    </tr>\n",
       "    <tr>\n",
       "      <th>122</th>\n",
       "      <td>0.00</td>\n",
       "      <td>1</td>\n",
       "      <td>1</td>\n",
       "      <td>1.0-0.0j</td>\n",
       "      <td>-1.355746-0.006286j</td>\n",
       "      <td>1.0+0.0j</td>\n",
       "      <td>-1.355746-0.006286j</td>\n",
       "    </tr>\n",
       "    <tr>\n",
       "      <th>123</th>\n",
       "      <td>0.35</td>\n",
       "      <td>1</td>\n",
       "      <td>3</td>\n",
       "      <td>1.0-0.0j</td>\n",
       "      <td>0.721996-0.988571j</td>\n",
       "      <td>1.0-0.0j</td>\n",
       "      <td>0.721996-0.988571j</td>\n",
       "    </tr>\n",
       "    <tr>\n",
       "      <th>124</th>\n",
       "      <td>0.45</td>\n",
       "      <td>1</td>\n",
       "      <td>3</td>\n",
       "      <td>1.0+0.0j</td>\n",
       "      <td>0.595181-0.572664j</td>\n",
       "      <td>1.0+0.0j</td>\n",
       "      <td>0.595181-0.572664j</td>\n",
       "    </tr>\n",
       "    <tr>\n",
       "      <th>125</th>\n",
       "      <td>0.35</td>\n",
       "      <td>0</td>\n",
       "      <td>1</td>\n",
       "      <td>1.0-0.0j</td>\n",
       "      <td>-0.000001-0.000032j</td>\n",
       "      <td>1.0-0.0j</td>\n",
       "      <td>-0.000001-0.000032j</td>\n",
       "    </tr>\n",
       "  </tbody>\n",
       "</table>\n",
       "<p>126 rows × 7 columns</p>\n",
       "</div>"
      ],
      "text/plain": [
       "        t  jw  a      fp_l                  ol      fp_r                  or\n",
       "0    0.65   0  1  1.0-0.0j -0.865130-0.497522j  1.0+0.0j -0.865130-0.497522j\n",
       "1    0.65   0  2  1.0-0.0j -0.949435+0.288614j  1.0-0.0j -0.949435+0.288614j\n",
       "2    0.65   0  3  1.0+0.0j -0.406633+0.907288j  1.0+0.0j -0.406633+0.907288j\n",
       "3    0.65   1  1  1.0-0.0j -0.992397-0.011666j  1.0-0.0j -0.992397-0.011666j\n",
       "4    0.65   1  2  1.0-0.0j -0.836014+0.530144j  1.0-0.0j -0.836014+0.530144j\n",
       "..    ...  .. ..       ...                 ...       ...                 ...\n",
       "121  0.35   1  2  1.0-0.0j -0.000002+0.000104j  1.0+0.0j -0.000002+0.000104j\n",
       "122  0.00   1  1  1.0-0.0j -1.355746-0.006286j  1.0+0.0j -1.355746-0.006286j\n",
       "123  0.35   1  3  1.0-0.0j  0.721996-0.988571j  1.0-0.0j  0.721996-0.988571j\n",
       "124  0.45   1  3  1.0+0.0j  0.595181-0.572664j  1.0+0.0j  0.595181-0.572664j\n",
       "125  0.35   0  1  1.0-0.0j -0.000001-0.000032j  1.0-0.0j -0.000001-0.000032j\n",
       "\n",
       "[126 rows x 7 columns]"
      ]
     },
     "execution_count": 191,
     "metadata": {},
     "output_type": "execute_result"
    }
   ],
   "source": [
    "triv_proj_rep_fp_charges_1_df"
   ]
  },
  {
   "cell_type": "code",
   "execution_count": 193,
   "id": "38033459-f17e-4613-9b91-130864b1e49b",
   "metadata": {},
   "outputs": [],
   "source": [
    "triv_proj_rep_fp_charges_1_df['abs_ol'] = np.abs(triv_proj_rep_fp_charges_1_df['ol'])\n",
    "triv_proj_rep_fp_charges_1_df['abs_or'] = np.abs(triv_proj_rep_fp_charges_1_df['or'])\n",
    "triv_proj_rep_fp_charges_2_df['abs_ol'] = np.abs(triv_proj_rep_fp_charges_2_df['ol'])\n",
    "triv_proj_rep_fp_charges_2_df['abs_or'] = np.abs(triv_proj_rep_fp_charges_2_df['or'])"
   ]
  },
  {
   "cell_type": "code",
   "execution_count": 194,
   "id": "5b897cce-9aa0-4899-b307-78907eda0581",
   "metadata": {},
   "outputs": [
    {
     "data": {
      "text/html": [
       "<div>\n",
       "<style scoped>\n",
       "    .dataframe tbody tr th:only-of-type {\n",
       "        vertical-align: middle;\n",
       "    }\n",
       "\n",
       "    .dataframe tbody tr th {\n",
       "        vertical-align: top;\n",
       "    }\n",
       "\n",
       "    .dataframe thead th {\n",
       "        text-align: right;\n",
       "    }\n",
       "</style>\n",
       "<table border=\"1\" class=\"dataframe\">\n",
       "  <thead>\n",
       "    <tr style=\"text-align: right;\">\n",
       "      <th></th>\n",
       "      <th>t</th>\n",
       "      <th>jw</th>\n",
       "      <th>a</th>\n",
       "      <th>fp_l</th>\n",
       "      <th>ol</th>\n",
       "      <th>fp_r</th>\n",
       "      <th>or</th>\n",
       "      <th>abs_ol</th>\n",
       "      <th>abs_or</th>\n",
       "    </tr>\n",
       "  </thead>\n",
       "  <tbody>\n",
       "    <tr>\n",
       "      <th>0</th>\n",
       "      <td>0.65</td>\n",
       "      <td>0</td>\n",
       "      <td>1</td>\n",
       "      <td>1.0-0.0j</td>\n",
       "      <td>-0.865130-0.497522j</td>\n",
       "      <td>1.0+0.0j</td>\n",
       "      <td>-0.865130-0.497522j</td>\n",
       "      <td>0.997987</td>\n",
       "      <td>0.997987</td>\n",
       "    </tr>\n",
       "    <tr>\n",
       "      <th>1</th>\n",
       "      <td>0.65</td>\n",
       "      <td>0</td>\n",
       "      <td>2</td>\n",
       "      <td>1.0-0.0j</td>\n",
       "      <td>-0.949435+0.288614j</td>\n",
       "      <td>1.0-0.0j</td>\n",
       "      <td>-0.949435+0.288614j</td>\n",
       "      <td>0.992333</td>\n",
       "      <td>0.992333</td>\n",
       "    </tr>\n",
       "    <tr>\n",
       "      <th>2</th>\n",
       "      <td>0.65</td>\n",
       "      <td>0</td>\n",
       "      <td>3</td>\n",
       "      <td>1.0+0.0j</td>\n",
       "      <td>-0.406633+0.907288j</td>\n",
       "      <td>1.0+0.0j</td>\n",
       "      <td>-0.406633+0.907288j</td>\n",
       "      <td>0.994244</td>\n",
       "      <td>0.994244</td>\n",
       "    </tr>\n",
       "    <tr>\n",
       "      <th>3</th>\n",
       "      <td>0.65</td>\n",
       "      <td>1</td>\n",
       "      <td>1</td>\n",
       "      <td>1.0-0.0j</td>\n",
       "      <td>-0.992397-0.011666j</td>\n",
       "      <td>1.0-0.0j</td>\n",
       "      <td>-0.992397-0.011666j</td>\n",
       "      <td>0.992465</td>\n",
       "      <td>0.992465</td>\n",
       "    </tr>\n",
       "    <tr>\n",
       "      <th>4</th>\n",
       "      <td>0.65</td>\n",
       "      <td>1</td>\n",
       "      <td>2</td>\n",
       "      <td>1.0-0.0j</td>\n",
       "      <td>-0.836014+0.530144j</td>\n",
       "      <td>1.0-0.0j</td>\n",
       "      <td>-0.836014+0.530144j</td>\n",
       "      <td>0.989935</td>\n",
       "      <td>0.989935</td>\n",
       "    </tr>\n",
       "    <tr>\n",
       "      <th>...</th>\n",
       "      <td>...</td>\n",
       "      <td>...</td>\n",
       "      <td>...</td>\n",
       "      <td>...</td>\n",
       "      <td>...</td>\n",
       "      <td>...</td>\n",
       "      <td>...</td>\n",
       "      <td>...</td>\n",
       "      <td>...</td>\n",
       "    </tr>\n",
       "    <tr>\n",
       "      <th>121</th>\n",
       "      <td>0.35</td>\n",
       "      <td>1</td>\n",
       "      <td>2</td>\n",
       "      <td>1.0-0.0j</td>\n",
       "      <td>-0.000002+0.000104j</td>\n",
       "      <td>1.0+0.0j</td>\n",
       "      <td>-0.000002+0.000104j</td>\n",
       "      <td>0.000104</td>\n",
       "      <td>0.000104</td>\n",
       "    </tr>\n",
       "    <tr>\n",
       "      <th>122</th>\n",
       "      <td>0.00</td>\n",
       "      <td>1</td>\n",
       "      <td>1</td>\n",
       "      <td>1.0-0.0j</td>\n",
       "      <td>-1.355746-0.006286j</td>\n",
       "      <td>1.0+0.0j</td>\n",
       "      <td>-1.355746-0.006286j</td>\n",
       "      <td>1.355761</td>\n",
       "      <td>1.355761</td>\n",
       "    </tr>\n",
       "    <tr>\n",
       "      <th>123</th>\n",
       "      <td>0.35</td>\n",
       "      <td>1</td>\n",
       "      <td>3</td>\n",
       "      <td>1.0-0.0j</td>\n",
       "      <td>0.721996-0.988571j</td>\n",
       "      <td>1.0-0.0j</td>\n",
       "      <td>0.721996-0.988571j</td>\n",
       "      <td>1.224153</td>\n",
       "      <td>1.224153</td>\n",
       "    </tr>\n",
       "    <tr>\n",
       "      <th>124</th>\n",
       "      <td>0.45</td>\n",
       "      <td>1</td>\n",
       "      <td>3</td>\n",
       "      <td>1.0+0.0j</td>\n",
       "      <td>0.595181-0.572664j</td>\n",
       "      <td>1.0+0.0j</td>\n",
       "      <td>0.595181-0.572664j</td>\n",
       "      <td>0.825944</td>\n",
       "      <td>0.825944</td>\n",
       "    </tr>\n",
       "    <tr>\n",
       "      <th>125</th>\n",
       "      <td>0.35</td>\n",
       "      <td>0</td>\n",
       "      <td>1</td>\n",
       "      <td>1.0-0.0j</td>\n",
       "      <td>-0.000001-0.000032j</td>\n",
       "      <td>1.0-0.0j</td>\n",
       "      <td>-0.000001-0.000032j</td>\n",
       "      <td>0.000032</td>\n",
       "      <td>0.000032</td>\n",
       "    </tr>\n",
       "  </tbody>\n",
       "</table>\n",
       "<p>126 rows × 9 columns</p>\n",
       "</div>"
      ],
      "text/plain": [
       "        t  jw  a      fp_l                  ol      fp_r                  or  \\\n",
       "0    0.65   0  1  1.0-0.0j -0.865130-0.497522j  1.0+0.0j -0.865130-0.497522j   \n",
       "1    0.65   0  2  1.0-0.0j -0.949435+0.288614j  1.0-0.0j -0.949435+0.288614j   \n",
       "2    0.65   0  3  1.0+0.0j -0.406633+0.907288j  1.0+0.0j -0.406633+0.907288j   \n",
       "3    0.65   1  1  1.0-0.0j -0.992397-0.011666j  1.0-0.0j -0.992397-0.011666j   \n",
       "4    0.65   1  2  1.0-0.0j -0.836014+0.530144j  1.0-0.0j -0.836014+0.530144j   \n",
       "..    ...  .. ..       ...                 ...       ...                 ...   \n",
       "121  0.35   1  2  1.0-0.0j -0.000002+0.000104j  1.0+0.0j -0.000002+0.000104j   \n",
       "122  0.00   1  1  1.0-0.0j -1.355746-0.006286j  1.0+0.0j -1.355746-0.006286j   \n",
       "123  0.35   1  3  1.0-0.0j  0.721996-0.988571j  1.0-0.0j  0.721996-0.988571j   \n",
       "124  0.45   1  3  1.0+0.0j  0.595181-0.572664j  1.0+0.0j  0.595181-0.572664j   \n",
       "125  0.35   0  1  1.0-0.0j -0.000001-0.000032j  1.0-0.0j -0.000001-0.000032j   \n",
       "\n",
       "       abs_ol    abs_or  \n",
       "0    0.997987  0.997987  \n",
       "1    0.992333  0.992333  \n",
       "2    0.994244  0.994244  \n",
       "3    0.992465  0.992465  \n",
       "4    0.989935  0.989935  \n",
       "..        ...       ...  \n",
       "121  0.000104  0.000104  \n",
       "122  1.355761  1.355761  \n",
       "123  1.224153  1.224153  \n",
       "124  0.825944  0.825944  \n",
       "125  0.000032  0.000032  \n",
       "\n",
       "[126 rows x 9 columns]"
      ]
     },
     "execution_count": 194,
     "metadata": {},
     "output_type": "execute_result"
    }
   ],
   "source": [
    "triv_proj_rep_fp_charges_1_df"
   ]
  },
  {
   "cell_type": "code",
   "execution_count": 231,
   "id": "ef59b814-7c66-4c62-97ba-ff88c2394035",
   "metadata": {},
   "outputs": [
    {
     "data": {
      "text/plain": [
       "1.3322676295501878e-15"
      ]
     },
     "execution_count": 231,
     "metadata": {},
     "output_type": "execute_result"
    }
   ],
   "source": [
    "np.max(np.abs(\n",
    "    np.abs(triv_proj_rep_fp_charges_1_df['ol'])\n",
    "    - np.abs(triv_proj_rep_fp_charges_1_df['or'])\n",
    "))"
   ]
  },
  {
   "cell_type": "code",
   "execution_count": 195,
   "id": "58f8fc29-bfd4-44bc-ba8b-9f329197d90f",
   "metadata": {},
   "outputs": [
    {
     "data": {
      "text/html": [
       "<div>\n",
       "<style scoped>\n",
       "    .dataframe tbody tr th:only-of-type {\n",
       "        vertical-align: middle;\n",
       "    }\n",
       "\n",
       "    .dataframe tbody tr th {\n",
       "        vertical-align: top;\n",
       "    }\n",
       "\n",
       "    .dataframe thead th {\n",
       "        text-align: right;\n",
       "    }\n",
       "</style>\n",
       "<table border=\"1\" class=\"dataframe\">\n",
       "  <thead>\n",
       "    <tr style=\"text-align: right;\">\n",
       "      <th></th>\n",
       "      <th>t</th>\n",
       "      <th>jw</th>\n",
       "      <th>a</th>\n",
       "      <th>fp_l</th>\n",
       "      <th>ol</th>\n",
       "      <th>fp_r</th>\n",
       "      <th>or</th>\n",
       "      <th>abs_ol</th>\n",
       "      <th>abs_or</th>\n",
       "    </tr>\n",
       "  </thead>\n",
       "  <tbody>\n",
       "    <tr>\n",
       "      <th>0</th>\n",
       "      <td>0.65</td>\n",
       "      <td>0</td>\n",
       "      <td>1</td>\n",
       "      <td>1.0+0.0j</td>\n",
       "      <td>-0.884291-0.455162j</td>\n",
       "      <td>1.0+0.0j</td>\n",
       "      <td>1.044370+0.048644j</td>\n",
       "      <td>0.994556</td>\n",
       "      <td>1.045502</td>\n",
       "    </tr>\n",
       "    <tr>\n",
       "      <th>1</th>\n",
       "      <td>0.65</td>\n",
       "      <td>0</td>\n",
       "      <td>2</td>\n",
       "      <td>1.0-0.0j</td>\n",
       "      <td>-0.954166-0.355204j</td>\n",
       "      <td>1.0+0.0j</td>\n",
       "      <td>0.807514-0.615764j</td>\n",
       "      <td>1.018137</td>\n",
       "      <td>1.015502</td>\n",
       "    </tr>\n",
       "    <tr>\n",
       "      <th>2</th>\n",
       "      <td>0.65</td>\n",
       "      <td>0</td>\n",
       "      <td>3</td>\n",
       "      <td>1.0+0.0j</td>\n",
       "      <td>0.523254+0.920771j</td>\n",
       "      <td>1.0+0.0j</td>\n",
       "      <td>0.578385+0.788813j</td>\n",
       "      <td>1.059063</td>\n",
       "      <td>0.978139</td>\n",
       "    </tr>\n",
       "    <tr>\n",
       "      <th>3</th>\n",
       "      <td>0.65</td>\n",
       "      <td>1</td>\n",
       "      <td>1</td>\n",
       "      <td>1.0+0.0j</td>\n",
       "      <td>0.896500-0.343312j</td>\n",
       "      <td>1.0-0.0j</td>\n",
       "      <td>-1.001324-0.397012j</td>\n",
       "      <td>0.959987</td>\n",
       "      <td>1.077158</td>\n",
       "    </tr>\n",
       "    <tr>\n",
       "      <th>4</th>\n",
       "      <td>0.65</td>\n",
       "      <td>1</td>\n",
       "      <td>2</td>\n",
       "      <td>1.0+0.0j</td>\n",
       "      <td>1.022346+0.244310j</td>\n",
       "      <td>1.0+0.0j</td>\n",
       "      <td>-0.683846+0.703706j</td>\n",
       "      <td>1.051132</td>\n",
       "      <td>0.981248</td>\n",
       "    </tr>\n",
       "    <tr>\n",
       "      <th>...</th>\n",
       "      <td>...</td>\n",
       "      <td>...</td>\n",
       "      <td>...</td>\n",
       "      <td>...</td>\n",
       "      <td>...</td>\n",
       "      <td>...</td>\n",
       "      <td>...</td>\n",
       "      <td>...</td>\n",
       "      <td>...</td>\n",
       "    </tr>\n",
       "    <tr>\n",
       "      <th>121</th>\n",
       "      <td>0.35</td>\n",
       "      <td>1</td>\n",
       "      <td>2</td>\n",
       "      <td>1.0-0.0j</td>\n",
       "      <td>-0.012559-0.015797j</td>\n",
       "      <td>1.0-0.0j</td>\n",
       "      <td>-0.008040-0.006602j</td>\n",
       "      <td>0.020181</td>\n",
       "      <td>0.010403</td>\n",
       "    </tr>\n",
       "    <tr>\n",
       "      <th>122</th>\n",
       "      <td>0.00</td>\n",
       "      <td>1</td>\n",
       "      <td>1</td>\n",
       "      <td>1.0-0.0j</td>\n",
       "      <td>-0.661205-1.578544j</td>\n",
       "      <td>1.0-0.0j</td>\n",
       "      <td>0.618881-1.458487j</td>\n",
       "      <td>1.711430</td>\n",
       "      <td>1.584360</td>\n",
       "    </tr>\n",
       "    <tr>\n",
       "      <th>123</th>\n",
       "      <td>0.35</td>\n",
       "      <td>1</td>\n",
       "      <td>3</td>\n",
       "      <td>1.0+0.0j</td>\n",
       "      <td>-0.912589+1.276062j</td>\n",
       "      <td>1.0-0.0j</td>\n",
       "      <td>-1.573281-0.015692j</td>\n",
       "      <td>1.568806</td>\n",
       "      <td>1.573359</td>\n",
       "    </tr>\n",
       "    <tr>\n",
       "      <th>124</th>\n",
       "      <td>0.45</td>\n",
       "      <td>1</td>\n",
       "      <td>3</td>\n",
       "      <td>1.0-0.0j</td>\n",
       "      <td>-1.163135-0.764176j</td>\n",
       "      <td>1.0+0.0j</td>\n",
       "      <td>-0.280965+1.236691j</td>\n",
       "      <td>1.391707</td>\n",
       "      <td>1.268206</td>\n",
       "    </tr>\n",
       "    <tr>\n",
       "      <th>125</th>\n",
       "      <td>0.35</td>\n",
       "      <td>0</td>\n",
       "      <td>1</td>\n",
       "      <td>1.0-0.0j</td>\n",
       "      <td>0.000181-0.002496j</td>\n",
       "      <td>1.0+0.0j</td>\n",
       "      <td>0.025384-0.002633j</td>\n",
       "      <td>0.002502</td>\n",
       "      <td>0.025520</td>\n",
       "    </tr>\n",
       "  </tbody>\n",
       "</table>\n",
       "<p>126 rows × 9 columns</p>\n",
       "</div>"
      ],
      "text/plain": [
       "        t  jw  a      fp_l                  ol      fp_r                  or  \\\n",
       "0    0.65   0  1  1.0+0.0j -0.884291-0.455162j  1.0+0.0j  1.044370+0.048644j   \n",
       "1    0.65   0  2  1.0-0.0j -0.954166-0.355204j  1.0+0.0j  0.807514-0.615764j   \n",
       "2    0.65   0  3  1.0+0.0j  0.523254+0.920771j  1.0+0.0j  0.578385+0.788813j   \n",
       "3    0.65   1  1  1.0+0.0j  0.896500-0.343312j  1.0-0.0j -1.001324-0.397012j   \n",
       "4    0.65   1  2  1.0+0.0j  1.022346+0.244310j  1.0+0.0j -0.683846+0.703706j   \n",
       "..    ...  .. ..       ...                 ...       ...                 ...   \n",
       "121  0.35   1  2  1.0-0.0j -0.012559-0.015797j  1.0-0.0j -0.008040-0.006602j   \n",
       "122  0.00   1  1  1.0-0.0j -0.661205-1.578544j  1.0-0.0j  0.618881-1.458487j   \n",
       "123  0.35   1  3  1.0+0.0j -0.912589+1.276062j  1.0-0.0j -1.573281-0.015692j   \n",
       "124  0.45   1  3  1.0-0.0j -1.163135-0.764176j  1.0+0.0j -0.280965+1.236691j   \n",
       "125  0.35   0  1  1.0-0.0j  0.000181-0.002496j  1.0+0.0j  0.025384-0.002633j   \n",
       "\n",
       "       abs_ol    abs_or  \n",
       "0    0.994556  1.045502  \n",
       "1    1.018137  1.015502  \n",
       "2    1.059063  0.978139  \n",
       "3    0.959987  1.077158  \n",
       "4    1.051132  0.981248  \n",
       "..        ...       ...  \n",
       "121  0.020181  0.010403  \n",
       "122  1.711430  1.584360  \n",
       "123  1.568806  1.573359  \n",
       "124  1.391707  1.268206  \n",
       "125  0.002502  0.025520  \n",
       "\n",
       "[126 rows x 9 columns]"
      ]
     },
     "execution_count": 195,
     "metadata": {},
     "output_type": "execute_result"
    }
   ],
   "source": [
    "triv_proj_rep_fp_charges_2_df"
   ]
  },
  {
   "cell_type": "markdown",
   "id": "bd41d881-c109-4a0b-bdcd-d3797d714bd4",
   "metadata": {},
   "source": [
    "# Debug - recreate overlaps"
   ]
  },
  {
   "cell_type": "code",
   "execution_count": 241,
   "id": "8111464f-f984-47f9-ac5c-c4e96366e334",
   "metadata": {},
   "outputs": [
    {
     "data": {
      "text/plain": [
       "(0.3, 0, 2)"
      ]
     },
     "execution_count": 241,
     "metadata": {},
     "output_type": "execute_result"
    }
   ],
   "source": [
    "test_key"
   ]
  },
  {
   "cell_type": "code",
   "execution_count": 242,
   "id": "b3986719-f470-40b4-a099-6425585d5c0d",
   "metadata": {},
   "outputs": [],
   "source": [
    "file_name = '30_0_2.pkl'"
   ]
  },
  {
   "cell_type": "code",
   "execution_count": 266,
   "id": "07e3f547-da76-4bbb-b34a-9252dc6baf77",
   "metadata": {},
   "outputs": [
    {
     "data": {
      "text/plain": [
       "'30_0_2.pkl'"
      ]
     },
     "execution_count": 266,
     "metadata": {},
     "output_type": "execute_result"
    }
   ],
   "source": [
    "file_name"
   ]
  },
  {
   "cell_type": "code",
   "execution_count": 283,
   "id": "bc1bb9ab-d8c3-4722-8a49-fddaa1591946",
   "metadata": {
    "scrolled": true
   },
   "outputs": [
    {
     "data": {
      "text/plain": [
       "0.9861950174347379"
      ]
     },
     "execution_count": 283,
     "metadata": {},
     "output_type": "execute_result"
    }
   ],
   "source": [
    "triv_sols_dict[test_key]['overlap_scores'][-1]"
   ]
  },
  {
   "cell_type": "code",
   "execution_count": 285,
   "id": "61f65534-1608-44c3-8470-b2dd2db0781c",
   "metadata": {},
   "outputs": [],
   "source": [
    "left_mpo_tensors, right_mpo_tensors = triv_sols_dict[test_key]['solutions']"
   ]
  },
  {
   "cell_type": "code",
   "execution_count": 286,
   "id": "cf029893-d9a8-4231-9bec-ef5f518f07e1",
   "metadata": {},
   "outputs": [
    {
     "data": {
      "text/plain": [
       "[<npc.Array shape=(2, 2, 5) labels=['p', 'p*', 'vR']>,\n",
       " <npc.Array shape=(4, 4, 5, 5) labels=['p', 'p*', 'vL', 'vR']>,\n",
       " <npc.Array shape=(2, 2, 5, 5) labels=['p', 'p*', 'vL', 'vR']>,\n",
       " <npc.Array shape=(4, 4, 5, 5) labels=['p', 'p*', 'vL', 'vR']>,\n",
       " <npc.Array shape=(2, 2, 5, 5) labels=['p', 'p*', 'vL', 'vR']>,\n",
       " <npc.Array shape=(4, 4, 5) labels=['p', 'p*', 'vL']>]"
      ]
     },
     "execution_count": 286,
     "metadata": {},
     "output_type": "execute_result"
    }
   ],
   "source": [
    "left_mpo_tensors"
   ]
  },
  {
   "cell_type": "code",
   "execution_count": 287,
   "id": "1e255385-25e9-4150-946b-4e525cc4a58b",
   "metadata": {},
   "outputs": [
    {
     "data": {
      "text/plain": [
       "[<npc.Array shape=(4, 4, 5) labels=['p', 'p*', 'vR']>,\n",
       " <npc.Array shape=(2, 2, 5, 5) labels=['p', 'p*', 'vL', 'vR']>,\n",
       " <npc.Array shape=(4, 4, 5, 5) labels=['p', 'p*', 'vL', 'vR']>,\n",
       " <npc.Array shape=(2, 2, 5, 5) labels=['p', 'p*', 'vL', 'vR']>,\n",
       " <npc.Array shape=(4, 4, 5, 5) labels=['p', 'p*', 'vL', 'vR']>,\n",
       " <npc.Array shape=(2, 2, 5) labels=['p', 'p*', 'vL']>]"
      ]
     },
     "execution_count": 287,
     "metadata": {},
     "output_type": "execute_result"
    }
   ],
   "source": [
    "right_mpo_tensors"
   ]
  },
  {
   "cell_type": "code",
   "execution_count": 75,
   "id": "8b4fa928-ec0d-4a18-89c2-aaddd3c4bbc7",
   "metadata": {},
   "outputs": [],
   "source": [
    "def two_sided_mpo_expectation(symmetry_case, left_mpo_tensors,\n",
    "    right_mpo_tensors):\n",
    "    case = symmetry_case\n",
    "\n",
    "    left_b_tensors = [\n",
    "        case.psi.get_B(i, form='A')\n",
    "        for i in range(\n",
    "            case.left_symmetry_index - 1,\n",
    "            case.left_symmetry_index - 1 - len(left_mpo_tensors), -1\n",
    "        )\n",
    "    ]\n",
    "\n",
    "    left_b_tensors = [\n",
    "        swap_left_right_indices(b)\n",
    "        for b in left_b_tensors\n",
    "    ]\n",
    "\n",
    "    right_b_tensors = [\n",
    "        case.psi.get_B(i)\n",
    "        for i in range(\n",
    "            case.right_symmetry_index + 1,\n",
    "            case.right_symmetry_index + 1 + len(right_mpo_tensors)\n",
    "        )\n",
    "    ]\n",
    "\n",
    "    t = right_b_tensors[-1]\n",
    "\n",
    "    t = npc.tensordot(\n",
    "        t,\n",
    "        right_mpo_tensors[-1].replace_label('vL', 'vLm'),\n",
    "        [['p',], ['p*']]\n",
    "    )\n",
    "\n",
    "    t = npc.tensordot(\n",
    "        t,\n",
    "        right_b_tensors[-1].conj(),\n",
    "        [['p', 'vR'], ['p*', 'vR*']]\n",
    "    )\n",
    "\n",
    "    for b, w in zip(right_b_tensors[-2:0:-1], right_mpo_tensors[-2:0:-1]):\n",
    "        t = npc.tensordot(t, b, [['vL',], ['vR']])\n",
    "        t = npc.tensordot(\n",
    "            t,\n",
    "            w.replace_label('vL', 'vLm'),\n",
    "            [['p', 'vLm'], ['p*', 'vR']]\n",
    "        )\n",
    "        t = npc.tensordot(t, b.conj(), [['p', 'vL*',], ['p*', 'vR*']])\n",
    "\n",
    "    t = npc.tensordot(t, right_b_tensors[0], [['vL',], ['vR']])\n",
    "    t = npc.tensordot(\n",
    "        t,\n",
    "        right_mpo_tensors[0],\n",
    "        [['p', 'vLm'], ['p*', 'vR']]\n",
    "    )\n",
    "    t = npc.tensordot(t, right_b_tensors[0].conj(), [['p', 'vL*',], ['p*', 'vR*']])\n",
    "    \n",
    "    \n",
    "    t = npc.tensordot(\n",
    "        t,\n",
    "        symmetry_case.npc_symmetry_transfer_matrix,\n",
    "        [['vL', 'vL*'], ['vR', 'vR*']]\n",
    "    )\n",
    "\n",
    "    t = swap_left_right_indices(t)\n",
    "\n",
    "    t = npc.tensordot(\n",
    "        t,\n",
    "        left_b_tensors[0],\n",
    "        [['vR',], ['vL',]]\n",
    "    )\n",
    "\n",
    "    t = npc.tensordot(\n",
    "        t,\n",
    "        left_mpo_tensors[0].replace_label('vR', 'vRm'),\n",
    "        [['p',], ['p*',]]\n",
    "    )\n",
    "\n",
    "    t = npc.tensordot(\n",
    "        t,\n",
    "        left_b_tensors[0].conj(),\n",
    "        [['p', 'vR*'], ['p*', 'vL*']]\n",
    "    )\n",
    "\n",
    "    for b, w in zip(left_b_tensors[1:-1], left_mpo_tensors[1:-1]):\n",
    "        t = npc.tensordot(t, b, [['vR',], ['vL']])\n",
    "        t = npc.tensordot(\n",
    "            t,\n",
    "            w.replace_label('vR', 'vRm'),\n",
    "            [['p', 'vRm'], ['p*', 'vL']]\n",
    "        )\n",
    "        t = npc.tensordot(t, b.conj(), [['p', 'vR*',], ['p*', 'vL*']])\n",
    "\n",
    "    t = npc.tensordot(t, left_b_tensors[-1], [['vR',], ['vL']])\n",
    "    t = npc.tensordot(\n",
    "        t,\n",
    "        left_mpo_tensors[-1],\n",
    "        [['p', 'vRm'], ['p*', 'vL']]\n",
    "    )\n",
    "    t = npc.tensordot(t, left_b_tensors[-1].conj(), [['p', 'vR*',], ['p*', 'vL*']])\n",
    "\n",
    "    out = npc.trace(t)\n",
    "\n",
    "    return out"
   ]
  },
  {
   "cell_type": "code",
   "execution_count": 291,
   "id": "27bfea44-7361-4f93-b5b9-285f1b5b2fb6",
   "metadata": {},
   "outputs": [],
   "source": [
    "out = two_sided_mpo_expectation(\n",
    "    cases_triv_proj_rep[test_key],\n",
    "    left_mpo_tensors,\n",
    "    right_mpo_tensors\n",
    ")"
   ]
  },
  {
   "cell_type": "code",
   "execution_count": 292,
   "id": "3b75ef8a-0a4c-4208-ad76-d7ac8fc326e5",
   "metadata": {},
   "outputs": [
    {
     "data": {
      "text/plain": [
       "0.9784873091677865"
      ]
     },
     "execution_count": 292,
     "metadata": {},
     "output_type": "execute_result"
    }
   ],
   "source": [
    "np.abs(out)"
   ]
  },
  {
   "cell_type": "code",
   "execution_count": 294,
   "id": "048ed0ad-a9e1-449d-97f9-ee0184df4b64",
   "metadata": {},
   "outputs": [],
   "source": [
    "test_triv_overlaps_dict = dict()\n",
    "\n",
    "for k, v in triv_sols_dict.items():\n",
    "    left_mpo_tensors, right_mpo_tensors = v['solutions']\n",
    "\n",
    "    overlap = two_sided_mpo_expectation(\n",
    "        cases_triv_proj_rep[k],\n",
    "        left_mpo_tensors,\n",
    "        right_mpo_tensors\n",
    "    )\n",
    "\n",
    "    test_triv_overlaps_dict[k] = (\n",
    "        v['overlap_scores'][-1],\n",
    "        overlap\n",
    "    )"
   ]
  },
  {
   "cell_type": "code",
   "execution_count": 296,
   "id": "af29221a-f745-42b6-b21a-60452a6fdac7",
   "metadata": {},
   "outputs": [],
   "source": [
    "X = np.array(list(test_triv_overlaps_dict.values()))"
   ]
  },
  {
   "cell_type": "code",
   "execution_count": 299,
   "id": "dfcc7ab0-8b67-4799-8f12-45b48e8e4b2f",
   "metadata": {},
   "outputs": [
    {
     "data": {
      "text/plain": [
       "(0.9646434119411333, 116)"
      ]
     },
     "execution_count": 299,
     "metadata": {},
     "output_type": "execute_result"
    }
   ],
   "source": [
    "aX = np.abs(X)\n",
    "(\n",
    "    np.max(np.abs(aX[:, 1] - aX[:, 0])),\n",
    "    np.argmax(np.abs(aX[:, 1] - aX[:, 0]))\n",
    ")"
   ]
  },
  {
   "cell_type": "code",
   "execution_count": 300,
   "id": "fce7b8c6-ed52-4247-9c04-a3e0c2dbe00a",
   "metadata": {},
   "outputs": [
    {
     "data": {
      "text/plain": [
       "array([9.64643414e-01+0.00000000e+00j, 1.89841814e-09+4.56017427e-10j])"
      ]
     },
     "execution_count": 300,
     "metadata": {},
     "output_type": "execute_result"
    }
   ],
   "source": [
    "X[116]"
   ]
  },
  {
   "cell_type": "code",
   "execution_count": 302,
   "id": "666950de-175e-44ea-b2f4-0b1c2725a1b0",
   "metadata": {},
   "outputs": [
    {
     "data": {
      "text/plain": [
       "(0.5, 0, 1)"
      ]
     },
     "execution_count": 302,
     "metadata": {},
     "output_type": "execute_result"
    }
   ],
   "source": [
    "list(test_triv_overlaps_dict.keys())[116]"
   ]
  },
  {
   "cell_type": "code",
   "execution_count": 304,
   "id": "34e12bc4-42d4-4484-9795-32a55eeac665",
   "metadata": {},
   "outputs": [
    {
     "data": {
      "text/plain": [
       "count    126.000000\n",
       "mean       0.120148\n",
       "std        0.275545\n",
       "min        0.000204\n",
       "25%        0.007387\n",
       "50%        0.016741\n",
       "75%        0.022482\n",
       "max        0.964643\n",
       "dtype: float64"
      ]
     },
     "execution_count": 304,
     "metadata": {},
     "output_type": "execute_result"
    }
   ],
   "source": [
    "pd.Series(np.abs(aX[:, 1] - aX[:, 0])).describe()"
   ]
  },
  {
   "cell_type": "code",
   "execution_count": null,
   "id": "b33bc2a4-c764-4b3b-a481-8a0f002f5949",
   "metadata": {},
   "outputs": [],
   "source": []
  }
 ],
 "metadata": {
  "kernelspec": {
   "display_name": "num_spt_venv_p11",
   "language": "python",
   "name": "num_spt_venv_p11"
  },
  "language_info": {
   "codemirror_mode": {
    "name": "ipython",
    "version": 3
   },
   "file_extension": ".py",
   "mimetype": "text/x-python",
   "name": "python",
   "nbconvert_exporter": "python",
   "pygments_lexer": "ipython3",
   "version": "3.11.9"
  }
 },
 "nbformat": 4,
 "nbformat_minor": 5
}
