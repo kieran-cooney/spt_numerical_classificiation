{
 "cells": [
  {
   "cell_type": "markdown",
   "metadata": {},
   "source": [
    "# First fermionic DMRG\n",
    "\n",
    "Created 03/01/2025\n",
    "\n",
    "Objectives:\n",
    "* Construct the 1D fermionic spt states from the Wang & Gu paper, first pass. Work out the case with trivial projective representation first.\n",
    "* Not sure of anyway to test the states...? Apart from running the SPT classification on them."
   ]
  },
  {
   "cell_type": "markdown",
   "metadata": {},
   "source": [
    "# Imports"
   ]
  },
  {
   "cell_type": "code",
   "execution_count": 1,
   "metadata": {
    "editable": true,
    "slideshow": {
     "slide_type": ""
    },
    "tags": []
   },
   "outputs": [],
   "source": [
    "import numpy as np\n",
    "import scipy\n",
    "import matplotlib.pyplot as plt"
   ]
  },
  {
   "cell_type": "code",
   "execution_count": 2,
   "metadata": {},
   "outputs": [],
   "source": [
    "from itertools import product"
   ]
  },
  {
   "cell_type": "code",
   "execution_count": 3,
   "metadata": {},
   "outputs": [],
   "source": [
    "import tenpy\n",
    "import tenpy.linalg.np_conserved as npc\n",
    "from tenpy.algorithms import dmrg\n",
    "from tenpy.networks.mps import MPS"
   ]
  },
  {
   "cell_type": "code",
   "execution_count": 4,
   "metadata": {},
   "outputs": [],
   "source": [
    "from tenpy.networks.site import ClockSite, FermionSite\n",
    "from tenpy.models.lattice import Chain\n",
    "from tenpy.models.model import CouplingModel, NearestNeighborModel, MPOModel, CouplingMPOModel"
   ]
  },
  {
   "cell_type": "code",
   "execution_count": 5,
   "metadata": {},
   "outputs": [],
   "source": [
    "def mod_4_to_bit(x):    \n",
    "    possible_mod_4_values = list(range(4))\n",
    "    assert x in possible_mod_4_values\n",
    "\n",
    "    x0 = x % 2\n",
    "    x1 = ((x - x0) // 2) % 2\n",
    "\n",
    "    return (x0, x1)"
   ]
  },
  {
   "cell_type": "code",
   "execution_count": 6,
   "metadata": {},
   "outputs": [],
   "source": [
    "def bit_to_mod_4(bit_pair):\n",
    "    x0, x1 = bit_pair\n",
    "\n",
    "    possible_mod_2_values = list(range(2))\n",
    "    assert x0 in possible_mod_2_values\n",
    "    assert x1 in possible_mod_2_values\n",
    "\n",
    "    return x0 + 2*x1"
   ]
  },
  {
   "cell_type": "code",
   "execution_count": 7,
   "metadata": {},
   "outputs": [],
   "source": [
    "def mod_4_to_bit_addition(x, y):\n",
    "    (x0, x1) = mod_4_to_bit(x)\n",
    "    (y0, y1) = mod_4_to_bit(y)\n",
    "\n",
    "    out0 = (x0 + y0) % 2\n",
    "    out1 = (x1 + y1) % 2\n",
    "\n",
    "    out = bit_to_mod_4((out0, out1))\n",
    "\n",
    "    return out"
   ]
  },
  {
   "cell_type": "code",
   "execution_count": 8,
   "metadata": {},
   "outputs": [
    {
     "data": {
      "text/plain": [
       "array([[0, 1, 2, 3],\n",
       "       [1, 0, 3, 2],\n",
       "       [2, 3, 0, 1],\n",
       "       [3, 2, 1, 0]])"
      ]
     },
     "execution_count": 8,
     "metadata": {},
     "output_type": "execute_result"
    }
   ],
   "source": [
    "np.array([\n",
    "    [\n",
    "        mod_4_to_bit_addition(x, y) for x in range(4)\n",
    "    ]\n",
    "    for y in range(4)\n",
    "])"
   ]
  },
  {
   "cell_type": "code",
   "execution_count": 9,
   "metadata": {},
   "outputs": [],
   "source": [
    "def get_n1_func(n1_01, n1_10):\n",
    "    l = [0, n1_01, n1_10, (n1_01 + n1_10)%2]\n",
    "    \n",
    "    def f(g1, g2):\n",
    "        i = mod_4_to_bit_addition(g1, g2)\n",
    "        return l[i]\n",
    "\n",
    "    return f"
   ]
  },
  {
   "cell_type": "code",
   "execution_count": 10,
   "metadata": {},
   "outputs": [],
   "source": [
    "n1_pair_to_fermion_operators_dict = {\n",
    "    (0, 0): \"Id\",\n",
    "    (0, 1): \"C\",\n",
    "    (1, 0): \"Cd\",\n",
    "    (1, 1): \"N\"\n",
    "}"
   ]
  },
  {
   "cell_type": "code",
   "execution_count": 11,
   "metadata": {},
   "outputs": [],
   "source": [
    "def get_op_list(g_quad, n1_func):\n",
    "    out = list()\n",
    "    g_left, g_in, g_out, g_right = g_quad\n",
    "\n",
    "    out.append((f'map_{g_left}_{g_left}', 0, 0))\n",
    "\n",
    "    left_fermion_op_string = n1_pair_to_fermion_operators_dict[\n",
    "        (n1_func(g_left, g_in), n1_func(g_left, g_out))\n",
    "    ]\n",
    "\n",
    "    out.append((left_fermion_op_string, 0, 1))\n",
    "    \n",
    "    out.append((f'map_{g_in}_{g_out}', 1, 0))\n",
    "\n",
    "    right_fermion_op_string = n1_pair_to_fermion_operators_dict[\n",
    "        (n1_func(g_in, g_right), n1_func(g_out, g_right))\n",
    "    ]\n",
    "\n",
    "    out.append((right_fermion_op_string, 1, 1))\n",
    "    \n",
    "    out.append((f'map_{g_right}_{g_right}', 2, 0))\n",
    "\n",
    "    return out"
   ]
  },
  {
   "cell_type": "code",
   "execution_count": 12,
   "metadata": {},
   "outputs": [],
   "source": [
    "class ClusterIsingFermion(CouplingMPOModel):\n",
    "        default_lattice = \"Chain\"\n",
    "        force_default_lattice = True\n",
    "\n",
    "        # Would it be easier to subclass ClockSite?\n",
    "        def init_sites(self, model_params):\n",
    "            spin = ClockSite(4, conserve=None)\n",
    "            for i in range(4):\n",
    "                for j in range(4):\n",
    "                    X = np.zeros((4,4))\n",
    "                    X[j, i] = 1\n",
    "                    op_name = f\"map_{i}_{j}\"\n",
    "                    spin.add_op(op_name, X)\n",
    "            ferm = FermionSite(conserve=None)\n",
    "            sites = [spin, ferm]\n",
    "            return [spin, ferm], ['s', 'f']\n",
    "\n",
    "        def init_terms(self, model_params):\n",
    "            # Read off model parameters\n",
    "            n1_01, n1_10 = model_params.get('n1', (0,0))\n",
    "            n1_func = get_n1_func(n1_01, n1_10)\n",
    "            \n",
    "            group_quads = product(range(4), repeat=4)\n",
    "\n",
    "            for group_quad in group_quads:\n",
    "                op_list = get_op_list(group_quad, n1_func)\n",
    "                self.add_multi_coupling(-1/4, op_list)"
   ]
  },
  {
   "cell_type": "code",
   "execution_count": 13,
   "metadata": {},
   "outputs": [],
   "source": [
    "M = ClusterIsingFermion({'L': 20})"
   ]
  },
  {
   "cell_type": "code",
   "execution_count": 14,
   "metadata": {},
   "outputs": [],
   "source": [
    "n1_pairs = [\n",
    "    (0, 0),\n",
    "    (0, 1),\n",
    "    (1, 0),\n",
    "    (1, 1)\n",
    "]"
   ]
  },
  {
   "cell_type": "code",
   "execution_count": 15,
   "metadata": {},
   "outputs": [],
   "source": [
    "models = [\n",
    "    ClusterIsingFermion({'L': 20, 'n1': p}) for p in n1_pairs\n",
    "]"
   ]
  },
  {
   "cell_type": "code",
   "execution_count": 16,
   "metadata": {},
   "outputs": [
    {
     "data": {
      "text/plain": [
       "__main__.ClusterIsingFermion"
      ]
     },
     "execution_count": 16,
     "metadata": {},
     "output_type": "execute_result"
    }
   ],
   "source": [
    "type(models[0])"
   ]
  },
  {
   "cell_type": "code",
   "execution_count": 17,
   "metadata": {},
   "outputs": [
    {
     "data": {
      "text/plain": [
       "[<__main__.ClusterIsingFermion at 0x737338446690>,\n",
       " <__main__.ClusterIsingFermion at 0x737337829ed0>,\n",
       " <__main__.ClusterIsingFermion at 0x737336614550>,\n",
       " <__main__.ClusterIsingFermion at 0x73733393a7d0>]"
      ]
     },
     "execution_count": 17,
     "metadata": {},
     "output_type": "execute_result"
    }
   ],
   "source": [
    "models"
   ]
  },
  {
   "cell_type": "code",
   "execution_count": 18,
   "metadata": {},
   "outputs": [],
   "source": [
    "mpo = models[0].calc_H_MPO()"
   ]
  },
  {
   "cell_type": "code",
   "execution_count": 19,
   "metadata": {},
   "outputs": [
    {
     "data": {
      "text/plain": [
       "<npc.Array shape=(2, 6, 4, 4) labels=['wL', 'wR', 'p', 'p*']>"
      ]
     },
     "execution_count": 19,
     "metadata": {},
     "output_type": "execute_result"
    }
   ],
   "source": [
    "mpo.get_W(0)"
   ]
  },
  {
   "cell_type": "code",
   "execution_count": 20,
   "metadata": {},
   "outputs": [
    {
     "data": {
      "text/plain": [
       "array([[[[1., 0., 0., 0.],\n",
       "         [0., 1., 0., 0.],\n",
       "         [0., 0., 1., 0.],\n",
       "         [0., 0., 0., 1.]],\n",
       "\n",
       "        [[1., 0., 0., 0.],\n",
       "         [0., 0., 0., 0.],\n",
       "         [0., 0., 0., 0.],\n",
       "         [0., 0., 0., 0.]],\n",
       "\n",
       "        [[0., 0., 0., 0.],\n",
       "         [0., 1., 0., 0.],\n",
       "         [0., 0., 0., 0.],\n",
       "         [0., 0., 0., 0.]],\n",
       "\n",
       "        [[0., 0., 0., 0.],\n",
       "         [0., 0., 0., 0.],\n",
       "         [0., 0., 1., 0.],\n",
       "         [0., 0., 0., 0.]],\n",
       "\n",
       "        [[0., 0., 0., 0.],\n",
       "         [0., 0., 0., 0.],\n",
       "         [0., 0., 0., 0.],\n",
       "         [0., 0., 0., 1.]],\n",
       "\n",
       "        [[0., 0., 0., 0.],\n",
       "         [0., 0., 0., 0.],\n",
       "         [0., 0., 0., 0.],\n",
       "         [0., 0., 0., 0.]]],\n",
       "\n",
       "\n",
       "       [[[0., 0., 0., 0.],\n",
       "         [0., 0., 0., 0.],\n",
       "         [0., 0., 0., 0.],\n",
       "         [0., 0., 0., 0.]],\n",
       "\n",
       "        [[0., 0., 0., 0.],\n",
       "         [0., 0., 0., 0.],\n",
       "         [0., 0., 0., 0.],\n",
       "         [0., 0., 0., 0.]],\n",
       "\n",
       "        [[0., 0., 0., 0.],\n",
       "         [0., 0., 0., 0.],\n",
       "         [0., 0., 0., 0.],\n",
       "         [0., 0., 0., 0.]],\n",
       "\n",
       "        [[0., 0., 0., 0.],\n",
       "         [0., 0., 0., 0.],\n",
       "         [0., 0., 0., 0.],\n",
       "         [0., 0., 0., 0.]],\n",
       "\n",
       "        [[0., 0., 0., 0.],\n",
       "         [0., 0., 0., 0.],\n",
       "         [0., 0., 0., 0.],\n",
       "         [0., 0., 0., 0.]],\n",
       "\n",
       "        [[1., 0., 0., 0.],\n",
       "         [0., 1., 0., 0.],\n",
       "         [0., 0., 1., 0.],\n",
       "         [0., 0., 0., 1.]]]])"
      ]
     },
     "execution_count": 20,
     "metadata": {},
     "output_type": "execute_result"
    }
   ],
   "source": [
    "mpo.get_W(0).to_ndarray()"
   ]
  },
  {
   "cell_type": "code",
   "execution_count": 21,
   "metadata": {},
   "outputs": [
    {
     "data": {
      "text/plain": [
       "<npc.Array shape=(6, 6, 2, 2) labels=['wL', 'wR', 'p', 'p*']>"
      ]
     },
     "execution_count": 21,
     "metadata": {},
     "output_type": "execute_result"
    }
   ],
   "source": [
    "mpo.get_W(1)"
   ]
  },
  {
   "cell_type": "code",
   "execution_count": 22,
   "metadata": {},
   "outputs": [
    {
     "data": {
      "text/plain": [
       "array([[[[1., 0.],\n",
       "         [0., 1.]],\n",
       "\n",
       "        [[0., 0.],\n",
       "         [0., 0.]],\n",
       "\n",
       "        [[0., 0.],\n",
       "         [0., 0.]],\n",
       "\n",
       "        [[0., 0.],\n",
       "         [0., 0.]],\n",
       "\n",
       "        [[0., 0.],\n",
       "         [0., 0.]],\n",
       "\n",
       "        [[0., 0.],\n",
       "         [0., 0.]]],\n",
       "\n",
       "\n",
       "       [[[0., 0.],\n",
       "         [0., 0.]],\n",
       "\n",
       "        [[1., 0.],\n",
       "         [0., 1.]],\n",
       "\n",
       "        [[0., 0.],\n",
       "         [0., 0.]],\n",
       "\n",
       "        [[0., 0.],\n",
       "         [0., 0.]],\n",
       "\n",
       "        [[0., 0.],\n",
       "         [0., 0.]],\n",
       "\n",
       "        [[0., 0.],\n",
       "         [0., 0.]]],\n",
       "\n",
       "\n",
       "       [[[0., 0.],\n",
       "         [0., 0.]],\n",
       "\n",
       "        [[0., 0.],\n",
       "         [0., 0.]],\n",
       "\n",
       "        [[1., 0.],\n",
       "         [0., 1.]],\n",
       "\n",
       "        [[0., 0.],\n",
       "         [0., 0.]],\n",
       "\n",
       "        [[0., 0.],\n",
       "         [0., 0.]],\n",
       "\n",
       "        [[0., 0.],\n",
       "         [0., 0.]]],\n",
       "\n",
       "\n",
       "       [[[0., 0.],\n",
       "         [0., 0.]],\n",
       "\n",
       "        [[0., 0.],\n",
       "         [0., 0.]],\n",
       "\n",
       "        [[0., 0.],\n",
       "         [0., 0.]],\n",
       "\n",
       "        [[1., 0.],\n",
       "         [0., 1.]],\n",
       "\n",
       "        [[0., 0.],\n",
       "         [0., 0.]],\n",
       "\n",
       "        [[0., 0.],\n",
       "         [0., 0.]]],\n",
       "\n",
       "\n",
       "       [[[0., 0.],\n",
       "         [0., 0.]],\n",
       "\n",
       "        [[0., 0.],\n",
       "         [0., 0.]],\n",
       "\n",
       "        [[0., 0.],\n",
       "         [0., 0.]],\n",
       "\n",
       "        [[0., 0.],\n",
       "         [0., 0.]],\n",
       "\n",
       "        [[1., 0.],\n",
       "         [0., 1.]],\n",
       "\n",
       "        [[0., 0.],\n",
       "         [0., 0.]]],\n",
       "\n",
       "\n",
       "       [[[0., 0.],\n",
       "         [0., 0.]],\n",
       "\n",
       "        [[0., 0.],\n",
       "         [0., 0.]],\n",
       "\n",
       "        [[0., 0.],\n",
       "         [0., 0.]],\n",
       "\n",
       "        [[0., 0.],\n",
       "         [0., 0.]],\n",
       "\n",
       "        [[0., 0.],\n",
       "         [0., 0.]],\n",
       "\n",
       "        [[1., 0.],\n",
       "         [0., 1.]]]])"
      ]
     },
     "execution_count": 22,
     "metadata": {},
     "output_type": "execute_result"
    }
   ],
   "source": [
    "mpo.get_W(1).to_ndarray()"
   ]
  },
  {
   "cell_type": "code",
   "execution_count": 23,
   "metadata": {},
   "outputs": [
    {
     "data": {
      "text/plain": [
       "array([[[[ 1.  ,  0.  ,  0.  ,  0.  ],\n",
       "         [ 0.  ,  1.  ,  0.  ,  0.  ],\n",
       "         [ 0.  ,  0.  ,  1.  ,  0.  ],\n",
       "         [ 0.  ,  0.  ,  0.  ,  1.  ]],\n",
       "\n",
       "        [[ 1.  ,  0.  ,  0.  ,  0.  ],\n",
       "         [ 0.  ,  0.  ,  0.  ,  0.  ],\n",
       "         [ 0.  ,  0.  ,  0.  ,  0.  ],\n",
       "         [ 0.  ,  0.  ,  0.  ,  0.  ]],\n",
       "\n",
       "        [[ 0.  ,  0.  ,  0.  ,  0.  ],\n",
       "         [ 0.  ,  1.  ,  0.  ,  0.  ],\n",
       "         [ 0.  ,  0.  ,  0.  ,  0.  ],\n",
       "         [ 0.  ,  0.  ,  0.  ,  0.  ]],\n",
       "\n",
       "        [[ 0.  ,  0.  ,  0.  ,  0.  ],\n",
       "         [ 0.  ,  0.  ,  0.  ,  0.  ],\n",
       "         [ 0.  ,  0.  ,  1.  ,  0.  ],\n",
       "         [ 0.  ,  0.  ,  0.  ,  0.  ]],\n",
       "\n",
       "        [[ 0.  ,  0.  ,  0.  ,  0.  ],\n",
       "         [ 0.  ,  0.  ,  0.  ,  0.  ],\n",
       "         [ 0.  ,  0.  ,  0.  ,  0.  ],\n",
       "         [ 0.  ,  0.  ,  0.  ,  1.  ]],\n",
       "\n",
       "        [[ 0.  ,  0.  ,  0.  ,  0.  ],\n",
       "         [ 0.  ,  0.  ,  0.  ,  0.  ],\n",
       "         [ 0.  ,  0.  ,  0.  ,  0.  ],\n",
       "         [ 0.  ,  0.  ,  0.  ,  0.  ]],\n",
       "\n",
       "        [[ 0.  ,  0.  ,  0.  ,  0.  ],\n",
       "         [ 0.  ,  0.  ,  0.  ,  0.  ],\n",
       "         [ 0.  ,  0.  ,  0.  ,  0.  ],\n",
       "         [ 0.  ,  0.  ,  0.  ,  0.  ]],\n",
       "\n",
       "        [[ 0.  ,  0.  ,  0.  ,  0.  ],\n",
       "         [ 0.  ,  0.  ,  0.  ,  0.  ],\n",
       "         [ 0.  ,  0.  ,  0.  ,  0.  ],\n",
       "         [ 0.  ,  0.  ,  0.  ,  0.  ]],\n",
       "\n",
       "        [[ 0.  ,  0.  ,  0.  ,  0.  ],\n",
       "         [ 0.  ,  0.  ,  0.  ,  0.  ],\n",
       "         [ 0.  ,  0.  ,  0.  ,  0.  ],\n",
       "         [ 0.  ,  0.  ,  0.  ,  0.  ]],\n",
       "\n",
       "        [[ 0.  ,  0.  ,  0.  ,  0.  ],\n",
       "         [ 0.  ,  0.  ,  0.  ,  0.  ],\n",
       "         [ 0.  ,  0.  ,  0.  ,  0.  ],\n",
       "         [ 0.  ,  0.  ,  0.  ,  0.  ]]],\n",
       "\n",
       "\n",
       "       [[[ 0.  ,  0.  ,  0.  ,  0.  ],\n",
       "         [ 0.  ,  0.  ,  0.  ,  0.  ],\n",
       "         [ 0.  ,  0.  ,  0.  ,  0.  ],\n",
       "         [ 0.  ,  0.  ,  0.  ,  0.  ]],\n",
       "\n",
       "        [[ 0.  ,  0.  ,  0.  ,  0.  ],\n",
       "         [ 0.  ,  0.  ,  0.  ,  0.  ],\n",
       "         [ 0.  ,  0.  ,  0.  ,  0.  ],\n",
       "         [ 0.  ,  0.  ,  0.  ,  0.  ]],\n",
       "\n",
       "        [[ 0.  ,  0.  ,  0.  ,  0.  ],\n",
       "         [ 0.  ,  0.  ,  0.  ,  0.  ],\n",
       "         [ 0.  ,  0.  ,  0.  ,  0.  ],\n",
       "         [ 0.  ,  0.  ,  0.  ,  0.  ]],\n",
       "\n",
       "        [[ 0.  ,  0.  ,  0.  ,  0.  ],\n",
       "         [ 0.  ,  0.  ,  0.  ,  0.  ],\n",
       "         [ 0.  ,  0.  ,  0.  ,  0.  ],\n",
       "         [ 0.  ,  0.  ,  0.  ,  0.  ]],\n",
       "\n",
       "        [[ 0.  ,  0.  ,  0.  ,  0.  ],\n",
       "         [ 0.  ,  0.  ,  0.  ,  0.  ],\n",
       "         [ 0.  ,  0.  ,  0.  ,  0.  ],\n",
       "         [ 0.  ,  0.  ,  0.  ,  0.  ]],\n",
       "\n",
       "        [[-0.25, -0.25, -0.25, -0.25],\n",
       "         [-0.25, -0.25, -0.25, -0.25],\n",
       "         [-0.25, -0.25, -0.25, -0.25],\n",
       "         [-0.25, -0.25, -0.25, -0.25]],\n",
       "\n",
       "        [[-0.25, -0.25, -0.25, -0.25],\n",
       "         [-0.25, -0.25, -0.25, -0.25],\n",
       "         [-0.25, -0.25, -0.25, -0.25],\n",
       "         [-0.25, -0.25, -0.25, -0.25]],\n",
       "\n",
       "        [[-0.25, -0.25, -0.25, -0.25],\n",
       "         [-0.25, -0.25, -0.25, -0.25],\n",
       "         [-0.25, -0.25, -0.25, -0.25],\n",
       "         [-0.25, -0.25, -0.25, -0.25]],\n",
       "\n",
       "        [[-0.25, -0.25, -0.25, -0.25],\n",
       "         [-0.25, -0.25, -0.25, -0.25],\n",
       "         [-0.25, -0.25, -0.25, -0.25],\n",
       "         [-0.25, -0.25, -0.25, -0.25]],\n",
       "\n",
       "        [[ 0.  ,  0.  ,  0.  ,  0.  ],\n",
       "         [ 0.  ,  0.  ,  0.  ,  0.  ],\n",
       "         [ 0.  ,  0.  ,  0.  ,  0.  ],\n",
       "         [ 0.  ,  0.  ,  0.  ,  0.  ]]],\n",
       "\n",
       "\n",
       "       [[[ 0.  ,  0.  ,  0.  ,  0.  ],\n",
       "         [ 0.  ,  0.  ,  0.  ,  0.  ],\n",
       "         [ 0.  ,  0.  ,  0.  ,  0.  ],\n",
       "         [ 0.  ,  0.  ,  0.  ,  0.  ]],\n",
       "\n",
       "        [[ 0.  ,  0.  ,  0.  ,  0.  ],\n",
       "         [ 0.  ,  0.  ,  0.  ,  0.  ],\n",
       "         [ 0.  ,  0.  ,  0.  ,  0.  ],\n",
       "         [ 0.  ,  0.  ,  0.  ,  0.  ]],\n",
       "\n",
       "        [[ 0.  ,  0.  ,  0.  ,  0.  ],\n",
       "         [ 0.  ,  0.  ,  0.  ,  0.  ],\n",
       "         [ 0.  ,  0.  ,  0.  ,  0.  ],\n",
       "         [ 0.  ,  0.  ,  0.  ,  0.  ]],\n",
       "\n",
       "        [[ 0.  ,  0.  ,  0.  ,  0.  ],\n",
       "         [ 0.  ,  0.  ,  0.  ,  0.  ],\n",
       "         [ 0.  ,  0.  ,  0.  ,  0.  ],\n",
       "         [ 0.  ,  0.  ,  0.  ,  0.  ]],\n",
       "\n",
       "        [[ 0.  ,  0.  ,  0.  ,  0.  ],\n",
       "         [ 0.  ,  0.  ,  0.  ,  0.  ],\n",
       "         [ 0.  ,  0.  ,  0.  ,  0.  ],\n",
       "         [ 0.  ,  0.  ,  0.  ,  0.  ]],\n",
       "\n",
       "        [[-0.25, -0.25, -0.25, -0.25],\n",
       "         [-0.25, -0.25, -0.25, -0.25],\n",
       "         [-0.25, -0.25, -0.25, -0.25],\n",
       "         [-0.25, -0.25, -0.25, -0.25]],\n",
       "\n",
       "        [[-0.25, -0.25, -0.25, -0.25],\n",
       "         [-0.25, -0.25, -0.25, -0.25],\n",
       "         [-0.25, -0.25, -0.25, -0.25],\n",
       "         [-0.25, -0.25, -0.25, -0.25]],\n",
       "\n",
       "        [[-0.25, -0.25, -0.25, -0.25],\n",
       "         [-0.25, -0.25, -0.25, -0.25],\n",
       "         [-0.25, -0.25, -0.25, -0.25],\n",
       "         [-0.25, -0.25, -0.25, -0.25]],\n",
       "\n",
       "        [[-0.25, -0.25, -0.25, -0.25],\n",
       "         [-0.25, -0.25, -0.25, -0.25],\n",
       "         [-0.25, -0.25, -0.25, -0.25],\n",
       "         [-0.25, -0.25, -0.25, -0.25]],\n",
       "\n",
       "        [[ 0.  ,  0.  ,  0.  ,  0.  ],\n",
       "         [ 0.  ,  0.  ,  0.  ,  0.  ],\n",
       "         [ 0.  ,  0.  ,  0.  ,  0.  ],\n",
       "         [ 0.  ,  0.  ,  0.  ,  0.  ]]],\n",
       "\n",
       "\n",
       "       [[[ 0.  ,  0.  ,  0.  ,  0.  ],\n",
       "         [ 0.  ,  0.  ,  0.  ,  0.  ],\n",
       "         [ 0.  ,  0.  ,  0.  ,  0.  ],\n",
       "         [ 0.  ,  0.  ,  0.  ,  0.  ]],\n",
       "\n",
       "        [[ 0.  ,  0.  ,  0.  ,  0.  ],\n",
       "         [ 0.  ,  0.  ,  0.  ,  0.  ],\n",
       "         [ 0.  ,  0.  ,  0.  ,  0.  ],\n",
       "         [ 0.  ,  0.  ,  0.  ,  0.  ]],\n",
       "\n",
       "        [[ 0.  ,  0.  ,  0.  ,  0.  ],\n",
       "         [ 0.  ,  0.  ,  0.  ,  0.  ],\n",
       "         [ 0.  ,  0.  ,  0.  ,  0.  ],\n",
       "         [ 0.  ,  0.  ,  0.  ,  0.  ]],\n",
       "\n",
       "        [[ 0.  ,  0.  ,  0.  ,  0.  ],\n",
       "         [ 0.  ,  0.  ,  0.  ,  0.  ],\n",
       "         [ 0.  ,  0.  ,  0.  ,  0.  ],\n",
       "         [ 0.  ,  0.  ,  0.  ,  0.  ]],\n",
       "\n",
       "        [[ 0.  ,  0.  ,  0.  ,  0.  ],\n",
       "         [ 0.  ,  0.  ,  0.  ,  0.  ],\n",
       "         [ 0.  ,  0.  ,  0.  ,  0.  ],\n",
       "         [ 0.  ,  0.  ,  0.  ,  0.  ]],\n",
       "\n",
       "        [[-0.25, -0.25, -0.25, -0.25],\n",
       "         [-0.25, -0.25, -0.25, -0.25],\n",
       "         [-0.25, -0.25, -0.25, -0.25],\n",
       "         [-0.25, -0.25, -0.25, -0.25]],\n",
       "\n",
       "        [[-0.25, -0.25, -0.25, -0.25],\n",
       "         [-0.25, -0.25, -0.25, -0.25],\n",
       "         [-0.25, -0.25, -0.25, -0.25],\n",
       "         [-0.25, -0.25, -0.25, -0.25]],\n",
       "\n",
       "        [[-0.25, -0.25, -0.25, -0.25],\n",
       "         [-0.25, -0.25, -0.25, -0.25],\n",
       "         [-0.25, -0.25, -0.25, -0.25],\n",
       "         [-0.25, -0.25, -0.25, -0.25]],\n",
       "\n",
       "        [[-0.25, -0.25, -0.25, -0.25],\n",
       "         [-0.25, -0.25, -0.25, -0.25],\n",
       "         [-0.25, -0.25, -0.25, -0.25],\n",
       "         [-0.25, -0.25, -0.25, -0.25]],\n",
       "\n",
       "        [[ 0.  ,  0.  ,  0.  ,  0.  ],\n",
       "         [ 0.  ,  0.  ,  0.  ,  0.  ],\n",
       "         [ 0.  ,  0.  ,  0.  ,  0.  ],\n",
       "         [ 0.  ,  0.  ,  0.  ,  0.  ]]],\n",
       "\n",
       "\n",
       "       [[[ 0.  ,  0.  ,  0.  ,  0.  ],\n",
       "         [ 0.  ,  0.  ,  0.  ,  0.  ],\n",
       "         [ 0.  ,  0.  ,  0.  ,  0.  ],\n",
       "         [ 0.  ,  0.  ,  0.  ,  0.  ]],\n",
       "\n",
       "        [[ 0.  ,  0.  ,  0.  ,  0.  ],\n",
       "         [ 0.  ,  0.  ,  0.  ,  0.  ],\n",
       "         [ 0.  ,  0.  ,  0.  ,  0.  ],\n",
       "         [ 0.  ,  0.  ,  0.  ,  0.  ]],\n",
       "\n",
       "        [[ 0.  ,  0.  ,  0.  ,  0.  ],\n",
       "         [ 0.  ,  0.  ,  0.  ,  0.  ],\n",
       "         [ 0.  ,  0.  ,  0.  ,  0.  ],\n",
       "         [ 0.  ,  0.  ,  0.  ,  0.  ]],\n",
       "\n",
       "        [[ 0.  ,  0.  ,  0.  ,  0.  ],\n",
       "         [ 0.  ,  0.  ,  0.  ,  0.  ],\n",
       "         [ 0.  ,  0.  ,  0.  ,  0.  ],\n",
       "         [ 0.  ,  0.  ,  0.  ,  0.  ]],\n",
       "\n",
       "        [[ 0.  ,  0.  ,  0.  ,  0.  ],\n",
       "         [ 0.  ,  0.  ,  0.  ,  0.  ],\n",
       "         [ 0.  ,  0.  ,  0.  ,  0.  ],\n",
       "         [ 0.  ,  0.  ,  0.  ,  0.  ]],\n",
       "\n",
       "        [[-0.25, -0.25, -0.25, -0.25],\n",
       "         [-0.25, -0.25, -0.25, -0.25],\n",
       "         [-0.25, -0.25, -0.25, -0.25],\n",
       "         [-0.25, -0.25, -0.25, -0.25]],\n",
       "\n",
       "        [[-0.25, -0.25, -0.25, -0.25],\n",
       "         [-0.25, -0.25, -0.25, -0.25],\n",
       "         [-0.25, -0.25, -0.25, -0.25],\n",
       "         [-0.25, -0.25, -0.25, -0.25]],\n",
       "\n",
       "        [[-0.25, -0.25, -0.25, -0.25],\n",
       "         [-0.25, -0.25, -0.25, -0.25],\n",
       "         [-0.25, -0.25, -0.25, -0.25],\n",
       "         [-0.25, -0.25, -0.25, -0.25]],\n",
       "\n",
       "        [[-0.25, -0.25, -0.25, -0.25],\n",
       "         [-0.25, -0.25, -0.25, -0.25],\n",
       "         [-0.25, -0.25, -0.25, -0.25],\n",
       "         [-0.25, -0.25, -0.25, -0.25]],\n",
       "\n",
       "        [[ 0.  ,  0.  ,  0.  ,  0.  ],\n",
       "         [ 0.  ,  0.  ,  0.  ,  0.  ],\n",
       "         [ 0.  ,  0.  ,  0.  ,  0.  ],\n",
       "         [ 0.  ,  0.  ,  0.  ,  0.  ]]],\n",
       "\n",
       "\n",
       "       [[[ 0.  ,  0.  ,  0.  ,  0.  ],\n",
       "         [ 0.  ,  0.  ,  0.  ,  0.  ],\n",
       "         [ 0.  ,  0.  ,  0.  ,  0.  ],\n",
       "         [ 0.  ,  0.  ,  0.  ,  0.  ]],\n",
       "\n",
       "        [[ 0.  ,  0.  ,  0.  ,  0.  ],\n",
       "         [ 0.  ,  0.  ,  0.  ,  0.  ],\n",
       "         [ 0.  ,  0.  ,  0.  ,  0.  ],\n",
       "         [ 0.  ,  0.  ,  0.  ,  0.  ]],\n",
       "\n",
       "        [[ 0.  ,  0.  ,  0.  ,  0.  ],\n",
       "         [ 0.  ,  0.  ,  0.  ,  0.  ],\n",
       "         [ 0.  ,  0.  ,  0.  ,  0.  ],\n",
       "         [ 0.  ,  0.  ,  0.  ,  0.  ]],\n",
       "\n",
       "        [[ 0.  ,  0.  ,  0.  ,  0.  ],\n",
       "         [ 0.  ,  0.  ,  0.  ,  0.  ],\n",
       "         [ 0.  ,  0.  ,  0.  ,  0.  ],\n",
       "         [ 0.  ,  0.  ,  0.  ,  0.  ]],\n",
       "\n",
       "        [[ 0.  ,  0.  ,  0.  ,  0.  ],\n",
       "         [ 0.  ,  0.  ,  0.  ,  0.  ],\n",
       "         [ 0.  ,  0.  ,  0.  ,  0.  ],\n",
       "         [ 0.  ,  0.  ,  0.  ,  0.  ]],\n",
       "\n",
       "        [[ 0.  ,  0.  ,  0.  ,  0.  ],\n",
       "         [ 0.  ,  0.  ,  0.  ,  0.  ],\n",
       "         [ 0.  ,  0.  ,  0.  ,  0.  ],\n",
       "         [ 0.  ,  0.  ,  0.  ,  0.  ]],\n",
       "\n",
       "        [[ 0.  ,  0.  ,  0.  ,  0.  ],\n",
       "         [ 0.  ,  0.  ,  0.  ,  0.  ],\n",
       "         [ 0.  ,  0.  ,  0.  ,  0.  ],\n",
       "         [ 0.  ,  0.  ,  0.  ,  0.  ]],\n",
       "\n",
       "        [[ 0.  ,  0.  ,  0.  ,  0.  ],\n",
       "         [ 0.  ,  0.  ,  0.  ,  0.  ],\n",
       "         [ 0.  ,  0.  ,  0.  ,  0.  ],\n",
       "         [ 0.  ,  0.  ,  0.  ,  0.  ]],\n",
       "\n",
       "        [[ 0.  ,  0.  ,  0.  ,  0.  ],\n",
       "         [ 0.  ,  0.  ,  0.  ,  0.  ],\n",
       "         [ 0.  ,  0.  ,  0.  ,  0.  ],\n",
       "         [ 0.  ,  0.  ,  0.  ,  0.  ]],\n",
       "\n",
       "        [[ 1.  ,  0.  ,  0.  ,  0.  ],\n",
       "         [ 0.  ,  1.  ,  0.  ,  0.  ],\n",
       "         [ 0.  ,  0.  ,  1.  ,  0.  ],\n",
       "         [ 0.  ,  0.  ,  0.  ,  1.  ]]]])"
      ]
     },
     "execution_count": 23,
     "metadata": {},
     "output_type": "execute_result"
    }
   ],
   "source": [
    "mpo.get_W(2).to_ndarray()"
   ]
  },
  {
   "cell_type": "code",
   "execution_count": 15,
   "metadata": {},
   "outputs": [],
   "source": [
    "psis = [\n",
    "    MPS.from_lat_product_state(m.lat, [['0', 'empty'],]*20)\n",
    "    for m in models\n",
    "]"
   ]
  },
  {
   "cell_type": "code",
   "execution_count": 16,
   "metadata": {},
   "outputs": [],
   "source": [
    "dmrg_params = {\n",
    "    \"trunc_params\": {\"chi_max\": 8, \"chi_min\": 1, \"svd_min\": 1.e-10},\n",
    "    \"min_sweeps\":100,\n",
    "    \"max_sweeps\":200,\n",
    "    \"mixer\": True,\n",
    "    \"combine\":False,\n",
    "    'decay':2,\n",
    "    'amplitude':10e-1,\n",
    "    'disable_after':60,\n",
    "    'update_env':0\n",
    "}"
   ]
  },
  {
   "cell_type": "code",
   "execution_count": 17,
   "metadata": {},
   "outputs": [],
   "source": [
    "for psi in psis:\n",
    "    psi.canonical_form()"
   ]
  },
  {
   "cell_type": "code",
   "execution_count": 18,
   "metadata": {},
   "outputs": [
    {
     "name": "stderr",
     "output_type": "stream",
     "text": [
      "/Users/kierancooney/.pyenv/versions/num_spt_venv_p11/lib/python3.11/site-packages/tenpy/tools/params.py:230: UserWarning: unused options for config TwoSiteDMRGEngine:\n",
      "['amplitude', 'decay', 'disable_after', 'update_env']\n",
      "  warnings.warn(msg.format(keys=sorted(unused), name=self.name))\n",
      "/Users/kierancooney/.pyenv/versions/num_spt_venv_p11/lib/python3.11/site-packages/tenpy/tools/params.py:230: UserWarning: unused options for config TwoSiteDMRGEngine:\n",
      "['amplitude', 'decay', 'disable_after', 'update_env']\n",
      "  warnings.warn(msg.format(keys=sorted(unused), name=self.name))\n",
      "/Users/kierancooney/.pyenv/versions/num_spt_venv_p11/lib/python3.11/site-packages/tenpy/tools/params.py:230: UserWarning: unused options for config TwoSiteDMRGEngine:\n",
      "['amplitude', 'decay', 'disable_after', 'update_env']\n",
      "  warnings.warn(msg.format(keys=sorted(unused), name=self.name))\n"
     ]
    }
   ],
   "source": [
    "outpsis = list()\n",
    "energies = list()\n",
    "\n",
    "for psi, m in zip(psis, models):\n",
    "    eng = dmrg.TwoSiteDMRGEngine(psi, m, dmrg_params)\n",
    "    e, psi_out = eng.run()\n",
    "\n",
    "    outpsis.append(psi_out)\n",
    "    energies.append(e)"
   ]
  },
  {
   "cell_type": "code",
   "execution_count": 19,
   "metadata": {},
   "outputs": [
    {
     "data": {
      "text/plain": [
       "<tenpy.networks.mps.MPS at 0x1534be610>"
      ]
     },
     "execution_count": 19,
     "metadata": {},
     "output_type": "execute_result"
    }
   ],
   "source": [
    "psis[0]"
   ]
  },
  {
   "cell_type": "code",
   "execution_count": 20,
   "metadata": {},
   "outputs": [
    {
     "data": {
      "text/plain": [
       "<npc.Array shape=(1, 4, 1) labels=['vL', 'p', 'vR']>"
      ]
     },
     "execution_count": 20,
     "metadata": {},
     "output_type": "execute_result"
    }
   ],
   "source": [
    "psis[0].get_B(0)"
   ]
  },
  {
   "cell_type": "code",
   "execution_count": 21,
   "metadata": {},
   "outputs": [
    {
     "data": {
      "text/plain": [
       "[0.0, 0.0, 0.0, 0.0]"
      ]
     },
     "execution_count": 21,
     "metadata": {},
     "output_type": "execute_result"
    }
   ],
   "source": [
    "energies"
   ]
  },
  {
   "cell_type": "markdown",
   "metadata": {},
   "source": [
    "## Non-trivial proj rep"
   ]
  },
  {
   "cell_type": "code",
   "execution_count": 24,
   "metadata": {},
   "outputs": [],
   "source": [
    "pauli_proj_rep_phases = np.array([\n",
    "    [1, 1, 1, 1],\n",
    "    [1, 1, -1, -1],\n",
    "    [1, -1, 1, -1],\n",
    "    [1, -1, -1, 1]\n",
    "])"
   ]
  },
  {
   "cell_type": "code",
   "execution_count": 25,
   "metadata": {},
   "outputs": [],
   "source": [
    "def get_proj_rep_term_phase(group_quad):\n",
    "    g_left, g_in, g_out, g_right = group_quad\n",
    "\n",
    "    g1 = mod_4_to_bit_addition(g_left, g_in)\n",
    "    g2 = mod_4_to_bit_addition(g_in, g_right)\n",
    "    g3 = mod_4_to_bit_addition(g_left, g_out)\n",
    "    g4 = mod_4_to_bit_addition(g_out, g_right)\n",
    "\n",
    "    numerator_phase = pauli_proj_rep_phases[g1, g2]\n",
    "    denominator_phase = pauli_proj_rep_phases[g3, g4]\n",
    "\n",
    "    return numerator_phase/denominator_phase"
   ]
  },
  {
   "cell_type": "code",
   "execution_count": 187,
   "metadata": {},
   "outputs": [],
   "source": [
    "class ClusterFermion(CouplingMPOModel):\n",
    "        default_lattice = \"Chain\"\n",
    "        force_default_lattice = True\n",
    "\n",
    "        # Would it be easier to subclass ClockSite?\n",
    "        def init_sites(self, model_params):\n",
    "            spin = ClockSite(4, conserve=None)\n",
    "            for i in range(4):\n",
    "                for j in range(4):\n",
    "                    X = np.zeros((4,4))\n",
    "                    X[j, i] = 1\n",
    "                    op_name = f\"map_{i}_{j}\"\n",
    "                    spin.add_op(op_name, X)\n",
    "            ferm = FermionSite(conserve=None)\n",
    "            sites = [spin, ferm]\n",
    "            return [spin, ferm], ['s', 'f']\n",
    "\n",
    "        def init_terms(self, model_params):\n",
    "            # Read off model parameters\n",
    "            n1_01, n1_10 = model_params.get('n1', (0,0))\n",
    "            n1_func = get_n1_func(n1_01, n1_10)\n",
    "\n",
    "            non_trivial_proj_rep = model_params.get('non_trivial_proj_rep', False)\n",
    "\n",
    "            group_quads = product(range(4), repeat=4)\n",
    "\n",
    "            for group_quad in group_quads:\n",
    "                op_list = get_op_list(group_quad, n1_func)\n",
    "                if non_trivial_proj_rep:\n",
    "                    phase = get_proj_rep_term_phase(group_quad)\n",
    "                else:\n",
    "                    phase = 1\n",
    "                self.add_multi_coupling((-1/4)*phase, op_list)"
   ]
  },
  {
   "cell_type": "code",
   "execution_count": 188,
   "metadata": {},
   "outputs": [],
   "source": [
    "M = ClusterIsingFermion({'L': 20})"
   ]
  },
  {
   "cell_type": "code",
   "execution_count": 189,
   "metadata": {},
   "outputs": [],
   "source": [
    "n1_pairs = [\n",
    "    (0, 0),\n",
    "    (0, 1),\n",
    "    (1, 0),\n",
    "    (1, 1)\n",
    "]"
   ]
  },
  {
   "cell_type": "code",
   "execution_count": 190,
   "metadata": {},
   "outputs": [],
   "source": [
    "models = [\n",
    "    [ClusterFermion({'L': 20, 'n1': p, 'non_trivial_proj_rep': b}) for p in n1_pairs]\n",
    "    for b in [True, False]\n",
    "]"
   ]
  },
  {
   "cell_type": "code",
   "execution_count": 191,
   "metadata": {},
   "outputs": [
    {
     "data": {
      "text/plain": [
       "{(0, 0): 'Id', (0, 1): 'C', (1, 0): 'Cd', (1, 1): 'N'}"
      ]
     },
     "execution_count": 191,
     "metadata": {},
     "output_type": "execute_result"
    }
   ],
   "source": [
    "n1_pair_to_fermion_operators_dict"
   ]
  },
  {
   "cell_type": "code",
   "execution_count": 192,
   "metadata": {},
   "outputs": [
    {
     "data": {
      "text/plain": [
       "[[<__main__.ClusterFermion at 0x177bdb290>,\n",
       "  <__main__.ClusterFermion at 0x1768cecd0>,\n",
       "  <__main__.ClusterFermion at 0x1769c3bd0>,\n",
       "  <__main__.ClusterFermion at 0x308e952d0>],\n",
       " [<__main__.ClusterFermion at 0x309b952d0>,\n",
       "  <__main__.ClusterFermion at 0x30a8e6cd0>,\n",
       "  <__main__.ClusterFermion at 0x3098eaa90>,\n",
       "  <__main__.ClusterFermion at 0x30bffc650>]]"
      ]
     },
     "execution_count": 192,
     "metadata": {},
     "output_type": "execute_result"
    }
   ],
   "source": [
    "models"
   ]
  },
  {
   "cell_type": "code",
   "execution_count": 193,
   "metadata": {},
   "outputs": [],
   "source": [
    "psis = [\n",
    "    [MPS.from_lat_product_state(m.lat, [['0', 'empty'],]*20) for m in l]\n",
    "    for l in models\n",
    "]"
   ]
  },
  {
   "cell_type": "code",
   "execution_count": 194,
   "metadata": {},
   "outputs": [],
   "source": [
    "dmrg_params = {\n",
    "    \"trunc_params\": {\"chi_max\": 8, \"chi_min\": 1, \"svd_min\": 1.e-10},\n",
    "    \"min_sweeps\":100,\n",
    "    \"max_sweeps\":200,\n",
    "    \"mixer\": True,\n",
    "    \"combine\":False,\n",
    "    'decay':2,\n",
    "    'amplitude':10e-1,\n",
    "    'disable_after':60,\n",
    "    'update_env':0\n",
    "}"
   ]
  },
  {
   "cell_type": "code",
   "execution_count": 199,
   "metadata": {},
   "outputs": [
    {
     "name": "stdout",
     "output_type": "stream",
     "text": [
      "True\n",
      "False\n",
      "False\n",
      "False\n",
      "True\n",
      "False\n",
      "False\n",
      "False\n"
     ]
    }
   ],
   "source": [
    "for l in models:\n",
    "    for m in l:\n",
    "        mpo = m.calc_H_MPO()\n",
    "        print(mpo.is_hermitian())"
   ]
  },
  {
   "cell_type": "code",
   "execution_count": 201,
   "metadata": {},
   "outputs": [],
   "source": [
    "out = list()\n",
    "\n",
    "n1_01, n1_10 = 1, 0\n",
    "n1_func = get_n1_func(n1_01, n1_10)\n",
    "\n",
    "non_trivial_proj_rep = False\n",
    "\n",
    "g_l = 0\n",
    "g_r = 0\n",
    "\n",
    "group_pairs = product(range(4), repeat=2)\n",
    "\n",
    "for group_pair in group_pairs:\n",
    "    op_list = get_op_list((g_l, *group_pair, g_r), n1_func)\n",
    "    out.append(op_list)"
   ]
  },
  {
   "cell_type": "code",
   "execution_count": 204,
   "metadata": {},
   "outputs": [
    {
     "data": {
      "text/plain": [
       "[[('map_0_0', 0, 0),\n",
       "  ('Id', 0, 1),\n",
       "  ('map_0_0', 1, 0),\n",
       "  ('Id', 1, 1),\n",
       "  ('map_0_0', 2, 0)],\n",
       " [('map_0_0', 0, 0),\n",
       "  ('C', 0, 1),\n",
       "  ('map_0_1', 1, 0),\n",
       "  ('C', 1, 1),\n",
       "  ('map_0_0', 2, 0)],\n",
       " [('map_0_0', 0, 0),\n",
       "  ('Id', 0, 1),\n",
       "  ('map_0_2', 1, 0),\n",
       "  ('Id', 1, 1),\n",
       "  ('map_0_0', 2, 0)],\n",
       " [('map_0_0', 0, 0),\n",
       "  ('C', 0, 1),\n",
       "  ('map_0_3', 1, 0),\n",
       "  ('C', 1, 1),\n",
       "  ('map_0_0', 2, 0)],\n",
       " [('map_0_0', 0, 0),\n",
       "  ('Cd', 0, 1),\n",
       "  ('map_1_0', 1, 0),\n",
       "  ('Cd', 1, 1),\n",
       "  ('map_0_0', 2, 0)],\n",
       " [('map_0_0', 0, 0),\n",
       "  ('N', 0, 1),\n",
       "  ('map_1_1', 1, 0),\n",
       "  ('N', 1, 1),\n",
       "  ('map_0_0', 2, 0)],\n",
       " [('map_0_0', 0, 0),\n",
       "  ('Cd', 0, 1),\n",
       "  ('map_1_2', 1, 0),\n",
       "  ('Cd', 1, 1),\n",
       "  ('map_0_0', 2, 0)],\n",
       " [('map_0_0', 0, 0),\n",
       "  ('N', 0, 1),\n",
       "  ('map_1_3', 1, 0),\n",
       "  ('N', 1, 1),\n",
       "  ('map_0_0', 2, 0)],\n",
       " [('map_0_0', 0, 0),\n",
       "  ('Id', 0, 1),\n",
       "  ('map_2_0', 1, 0),\n",
       "  ('Id', 1, 1),\n",
       "  ('map_0_0', 2, 0)],\n",
       " [('map_0_0', 0, 0),\n",
       "  ('C', 0, 1),\n",
       "  ('map_2_1', 1, 0),\n",
       "  ('C', 1, 1),\n",
       "  ('map_0_0', 2, 0)],\n",
       " [('map_0_0', 0, 0),\n",
       "  ('Id', 0, 1),\n",
       "  ('map_2_2', 1, 0),\n",
       "  ('Id', 1, 1),\n",
       "  ('map_0_0', 2, 0)],\n",
       " [('map_0_0', 0, 0),\n",
       "  ('C', 0, 1),\n",
       "  ('map_2_3', 1, 0),\n",
       "  ('C', 1, 1),\n",
       "  ('map_0_0', 2, 0)],\n",
       " [('map_0_0', 0, 0),\n",
       "  ('Cd', 0, 1),\n",
       "  ('map_3_0', 1, 0),\n",
       "  ('Cd', 1, 1),\n",
       "  ('map_0_0', 2, 0)],\n",
       " [('map_0_0', 0, 0),\n",
       "  ('N', 0, 1),\n",
       "  ('map_3_1', 1, 0),\n",
       "  ('N', 1, 1),\n",
       "  ('map_0_0', 2, 0)],\n",
       " [('map_0_0', 0, 0),\n",
       "  ('Cd', 0, 1),\n",
       "  ('map_3_2', 1, 0),\n",
       "  ('Cd', 1, 1),\n",
       "  ('map_0_0', 2, 0)],\n",
       " [('map_0_0', 0, 0),\n",
       "  ('N', 0, 1),\n",
       "  ('map_3_3', 1, 0),\n",
       "  ('N', 1, 1),\n",
       "  ('map_0_0', 2, 0)]]"
      ]
     },
     "execution_count": 204,
     "metadata": {},
     "output_type": "execute_result"
    }
   ],
   "source": [
    "out"
   ]
  },
  {
   "cell_type": "code",
   "execution_count": 208,
   "metadata": {},
   "outputs": [],
   "source": [
    "fermion_operators = [l[1][0] for l in out]"
   ]
  },
  {
   "cell_type": "code",
   "execution_count": 210,
   "metadata": {},
   "outputs": [
    {
     "data": {
      "text/plain": [
       "[['Id', 'C', 'Id', 'C'],\n",
       " ['Cd', 'N', 'Cd', 'N'],\n",
       " ['Id', 'C', 'Id', 'C'],\n",
       " ['Cd', 'N', 'Cd', 'N']]"
      ]
     },
     "execution_count": 210,
     "metadata": {},
     "output_type": "execute_result"
    }
   ],
   "source": [
    "[\n",
    "    fermion_operators[:4],\n",
    "    fermion_operators[4:8],\n",
    "    fermion_operators[8:12],\n",
    "    fermion_operators[12:16]\n",
    "]"
   ]
  },
  {
   "cell_type": "code",
   "execution_count": 211,
   "metadata": {},
   "outputs": [],
   "source": [
    "out = list()\n",
    "\n",
    "n1_01, n1_10 = 1, 0\n",
    "n1_func = get_n1_func(n1_01, n1_10)\n",
    "\n",
    "non_trivial_proj_rep = False\n",
    "\n",
    "g_l = 1\n",
    "g_r = 0\n",
    "\n",
    "group_pairs = product(range(4), repeat=2)\n",
    "\n",
    "for group_pair in group_pairs:\n",
    "    op_list = get_op_list((g_l, *group_pair, g_r), n1_func)\n",
    "    out.append(op_list)"
   ]
  },
  {
   "cell_type": "code",
   "execution_count": 224,
   "metadata": {},
   "outputs": [
    {
     "data": {
      "text/plain": [
       "[[('map_1_1', 0, 0),\n",
       "  ('N', 0, 1),\n",
       "  ('map_0_0', 1, 0),\n",
       "  ('Id', 1, 1),\n",
       "  ('map_0_0', 2, 0)],\n",
       " [('map_1_1', 0, 0),\n",
       "  ('Cd', 0, 1),\n",
       "  ('map_0_1', 1, 0),\n",
       "  ('C', 1, 1),\n",
       "  ('map_0_0', 2, 0)],\n",
       " [('map_1_1', 0, 0),\n",
       "  ('N', 0, 1),\n",
       "  ('map_0_2', 1, 0),\n",
       "  ('Id', 1, 1),\n",
       "  ('map_0_0', 2, 0)],\n",
       " [('map_1_1', 0, 0),\n",
       "  ('Cd', 0, 1),\n",
       "  ('map_0_3', 1, 0),\n",
       "  ('C', 1, 1),\n",
       "  ('map_0_0', 2, 0)],\n",
       " [('map_1_1', 0, 0),\n",
       "  ('C', 0, 1),\n",
       "  ('map_1_0', 1, 0),\n",
       "  ('Cd', 1, 1),\n",
       "  ('map_0_0', 2, 0)],\n",
       " [('map_1_1', 0, 0),\n",
       "  ('Id', 0, 1),\n",
       "  ('map_1_1', 1, 0),\n",
       "  ('N', 1, 1),\n",
       "  ('map_0_0', 2, 0)],\n",
       " [('map_1_1', 0, 0),\n",
       "  ('C', 0, 1),\n",
       "  ('map_1_2', 1, 0),\n",
       "  ('Cd', 1, 1),\n",
       "  ('map_0_0', 2, 0)],\n",
       " [('map_1_1', 0, 0),\n",
       "  ('Id', 0, 1),\n",
       "  ('map_1_3', 1, 0),\n",
       "  ('N', 1, 1),\n",
       "  ('map_0_0', 2, 0)],\n",
       " [('map_1_1', 0, 0),\n",
       "  ('N', 0, 1),\n",
       "  ('map_2_0', 1, 0),\n",
       "  ('Id', 1, 1),\n",
       "  ('map_0_0', 2, 0)],\n",
       " [('map_1_1', 0, 0),\n",
       "  ('Cd', 0, 1),\n",
       "  ('map_2_1', 1, 0),\n",
       "  ('C', 1, 1),\n",
       "  ('map_0_0', 2, 0)],\n",
       " [('map_1_1', 0, 0),\n",
       "  ('N', 0, 1),\n",
       "  ('map_2_2', 1, 0),\n",
       "  ('Id', 1, 1),\n",
       "  ('map_0_0', 2, 0)],\n",
       " [('map_1_1', 0, 0),\n",
       "  ('Cd', 0, 1),\n",
       "  ('map_2_3', 1, 0),\n",
       "  ('C', 1, 1),\n",
       "  ('map_0_0', 2, 0)],\n",
       " [('map_1_1', 0, 0),\n",
       "  ('C', 0, 1),\n",
       "  ('map_3_0', 1, 0),\n",
       "  ('Cd', 1, 1),\n",
       "  ('map_0_0', 2, 0)],\n",
       " [('map_1_1', 0, 0),\n",
       "  ('Id', 0, 1),\n",
       "  ('map_3_1', 1, 0),\n",
       "  ('N', 1, 1),\n",
       "  ('map_0_0', 2, 0)],\n",
       " [('map_1_1', 0, 0),\n",
       "  ('C', 0, 1),\n",
       "  ('map_3_2', 1, 0),\n",
       "  ('Cd', 1, 1),\n",
       "  ('map_0_0', 2, 0)],\n",
       " [('map_1_1', 0, 0),\n",
       "  ('Id', 0, 1),\n",
       "  ('map_3_3', 1, 0),\n",
       "  ('N', 1, 1),\n",
       "  ('map_0_0', 2, 0)]]"
      ]
     },
     "execution_count": 224,
     "metadata": {},
     "output_type": "execute_result"
    }
   ],
   "source": [
    "out"
   ]
  },
  {
   "cell_type": "code",
   "execution_count": 226,
   "metadata": {},
   "outputs": [
    {
     "data": {
      "text/plain": [
       "[('N', 'map_0_0', 'Id'),\n",
       " ('Cd', 'map_0_1', 'C'),\n",
       " ('N', 'map_0_2', 'Id'),\n",
       " ('Cd', 'map_0_3', 'C'),\n",
       " ('C', 'map_1_0', 'Cd'),\n",
       " ('Id', 'map_1_1', 'N'),\n",
       " ('C', 'map_1_2', 'Cd'),\n",
       " ('Id', 'map_1_3', 'N'),\n",
       " ('N', 'map_2_0', 'Id'),\n",
       " ('Cd', 'map_2_1', 'C'),\n",
       " ('N', 'map_2_2', 'Id'),\n",
       " ('Cd', 'map_2_3', 'C'),\n",
       " ('C', 'map_3_0', 'Cd'),\n",
       " ('Id', 'map_3_1', 'N'),\n",
       " ('C', 'map_3_2', 'Cd'),\n",
       " ('Id', 'map_3_3', 'N')]"
      ]
     },
     "execution_count": 226,
     "metadata": {},
     "output_type": "execute_result"
    }
   ],
   "source": [
    "[\n",
    "    (l[1][0], l[2][0], l[3][0])\n",
    "    for l in out\n",
    "]"
   ]
  },
  {
   "cell_type": "code",
   "execution_count": 228,
   "metadata": {},
   "outputs": [],
   "source": [
    "left_fermion_operators = [l[1][0] for l in out]\n",
    "right_fermion_operators = [l[3][0] for l in out]"
   ]
  },
  {
   "cell_type": "code",
   "execution_count": 229,
   "metadata": {},
   "outputs": [
    {
     "data": {
      "text/plain": [
       "[['N', 'Cd', 'N', 'Cd'],\n",
       " ['C', 'Id', 'C', 'Id'],\n",
       " ['N', 'Cd', 'N', 'Cd'],\n",
       " ['C', 'Id', 'C', 'Id']]"
      ]
     },
     "execution_count": 229,
     "metadata": {},
     "output_type": "execute_result"
    }
   ],
   "source": [
    "[left_fermion_operators[4*i:4*i+4] for i in range(4)]"
   ]
  },
  {
   "cell_type": "code",
   "execution_count": 230,
   "metadata": {},
   "outputs": [
    {
     "data": {
      "text/plain": [
       "[['Id', 'C', 'Id', 'C'],\n",
       " ['Cd', 'N', 'Cd', 'N'],\n",
       " ['Id', 'C', 'Id', 'C'],\n",
       " ['Cd', 'N', 'Cd', 'N']]"
      ]
     },
     "execution_count": 230,
     "metadata": {},
     "output_type": "execute_result"
    }
   ],
   "source": [
    "[right_fermion_operators[4*i:4*i+4] for i in range(4)]"
   ]
  },
  {
   "cell_type": "markdown",
   "metadata": {},
   "source": [
    "### Check hermiticity"
   ]
  },
  {
   "cell_type": "code",
   "execution_count": 216,
   "metadata": {},
   "outputs": [],
   "source": [
    "class ClusterFermionHermiticityTest(CouplingMPOModel):\n",
    "        default_lattice = \"Chain\"\n",
    "        force_default_lattice = True\n",
    "\n",
    "        # Would it be easier to subclass ClockSite?\n",
    "        def init_sites(self, model_params):\n",
    "            spin = ClockSite(4, conserve=None)\n",
    "            for i in range(4):\n",
    "                for j in range(4):\n",
    "                    X = np.zeros((4,4))\n",
    "                    X[j, i] = 1\n",
    "                    op_name = f\"map_{i}_{j}\"\n",
    "                    spin.add_op(op_name, X)\n",
    "            ferm = FermionSite(conserve=None)\n",
    "            sites = [spin, ferm]\n",
    "            return [spin, ferm], ['s', 'f']\n",
    "\n",
    "        def init_terms(self, model_params):\n",
    "            # Read off model parameters\n",
    "            n1_01, n1_10 = model_params.get('n1', (0,0))\n",
    "            n1_func = get_n1_func(n1_01, n1_10)\n",
    "            \n",
    "            g_l = model_params.get('g_l', 0)\n",
    "            g_r = model_params.get('g_r', 0)\n",
    "\n",
    "            non_trivial_proj_rep = model_params.get('non_trivial_proj_rep', False)\n",
    "\n",
    "            group_pairs = product(range(4), repeat=2)\n",
    "\n",
    "            for group_pair in group_pairs:\n",
    "                op_list = get_op_list((g_l, *group_pair, g_r), n1_func)\n",
    "                if non_trivial_proj_rep:\n",
    "                    phase = get_proj_rep_term_phase(group_quad)\n",
    "                else:\n",
    "                    phase = 1\n",
    "                self.add_multi_coupling((-1/4)*phase, op_list)"
   ]
  },
  {
   "cell_type": "code",
   "execution_count": 217,
   "metadata": {},
   "outputs": [],
   "source": [
    "models = [\n",
    "    [\n",
    "        [ClusterFermionHermiticityTest({'L': 20, 'n1': p, 'g_l': g_l, 'g_r': g_r}) for p in n1_pairs]\n",
    "        for g_l in range(4)\n",
    "    ]\n",
    "    for g_r in range(4)\n",
    "]"
   ]
  },
  {
   "cell_type": "code",
   "execution_count": 220,
   "metadata": {},
   "outputs": [],
   "source": [
    "mpos = [[[m.calc_H_MPO() for m in l1] for l1 in l2] for l2 in models]"
   ]
  },
  {
   "cell_type": "code",
   "execution_count": 221,
   "metadata": {},
   "outputs": [
    {
     "data": {
      "text/plain": [
       "[[[True, False, False, False],\n",
       "  [True, False, False, False],\n",
       "  [True, False, False, False],\n",
       "  [True, False, False, False]],\n",
       " [[True, False, False, False],\n",
       "  [True, False, False, False],\n",
       "  [True, False, False, False],\n",
       "  [True, False, False, False]],\n",
       " [[True, False, False, False],\n",
       "  [True, False, False, False],\n",
       "  [True, False, False, False],\n",
       "  [True, False, False, False]],\n",
       " [[True, False, False, False],\n",
       "  [True, False, False, False],\n",
       "  [True, False, False, False],\n",
       "  [True, False, False, False]]]"
      ]
     },
     "execution_count": 221,
     "metadata": {},
     "output_type": "execute_result"
    }
   ],
   "source": [
    "[[[m.is_hermitian() for m in l1] for l1 in l2] for l2 in mpos]"
   ]
  },
  {
   "cell_type": "code",
   "execution_count": 223,
   "metadata": {},
   "outputs": [
    {
     "data": {
      "text/plain": [
       "{'C', 'Cd', 'JW'}"
      ]
     },
     "execution_count": 223,
     "metadata": {},
     "output_type": "execute_result"
    }
   ],
   "source": [
    "FermionSite().need_JW_string"
   ]
  },
  {
   "cell_type": "code",
   "execution_count": 208,
   "metadata": {},
   "outputs": [],
   "source": [
    "fermion_operators = [l[1][0] for l in out]"
   ]
  },
  {
   "cell_type": "code",
   "execution_count": 210,
   "metadata": {},
   "outputs": [
    {
     "data": {
      "text/plain": [
       "[['Id', 'C', 'Id', 'C'],\n",
       " ['Cd', 'N', 'Cd', 'N'],\n",
       " ['Id', 'C', 'Id', 'C'],\n",
       " ['Cd', 'N', 'Cd', 'N']]"
      ]
     },
     "execution_count": 210,
     "metadata": {},
     "output_type": "execute_result"
    }
   ],
   "source": [
    "[\n",
    "    fermion_operators[:4],\n",
    "    fermion_operators[4:8],\n",
    "    fermion_operators[8:12],\n",
    "    fermion_operators[12:16]\n",
    "]"
   ]
  },
  {
   "cell_type": "markdown",
   "metadata": {},
   "source": [
    "### Break down into further subcases"
   ]
  },
  {
   "cell_type": "code",
   "execution_count": 279,
   "metadata": {},
   "outputs": [],
   "source": [
    "class ClusterFermionHermiticityTest(CouplingMPOModel):\n",
    "    default_lattice = \"Chain\"\n",
    "    force_default_lattice = True\n",
    "\n",
    "    # Would it be easier to subclass ClockSite?\n",
    "    def init_sites(self, model_params):\n",
    "        spin = ClockSite(4, conserve=None)\n",
    "        for i in range(4):\n",
    "            for j in range(4):\n",
    "                X = np.zeros((4,4))\n",
    "                X[j, i] = 1\n",
    "                op_name = f\"map_{i}_{j}\"\n",
    "                spin.add_op(op_name, X)\n",
    "        ferm = FermionSite(conserve=None)\n",
    "        sites = [spin, ferm]\n",
    "        return [spin, ferm], ['s', 'f']\n",
    "\n",
    "    def init_terms(self, model_params):\n",
    "        # Read off model parameters\n",
    "        n1_01, n1_10 = model_params.get('n1', (0,0))\n",
    "        n1_func = get_n1_func(n1_01, n1_10)\n",
    "\n",
    "        g_l = model_params.get('g_l', 0)\n",
    "        g_r = model_params.get('g_r', 0)\n",
    "        g_in = model_params.get('g_in', 0)\n",
    "        g_out = model_params.get('g_out', 0)\n",
    "\n",
    "        op_list_1 = get_op_list((g_l, g_in, g_out, g_r), n1_func)\n",
    "        self.add_multi_coupling((-1/4), op_list_1)\n",
    "        \n",
    "        op_list_2 = get_op_list((g_l, g_out, g_in, g_r), n1_func)\n",
    "        self.add_multi_coupling((-1/4), op_list_2)"
   ]
  },
  {
   "cell_type": "code",
   "execution_count": 280,
   "metadata": {},
   "outputs": [],
   "source": [
    "models = list()\n",
    "\n",
    "for p in n1_pairs:\n",
    "    models.append(list())\n",
    "    for g_l in range(4):\n",
    "        models[-1].append(list())\n",
    "        for g_r in range(4):\n",
    "            models[-1][-1].append(list())\n",
    "            for g_in in range(4):\n",
    "                models[-1][-1][-1].append(list())   \n",
    "                for g_out in range(4):\n",
    "                    m = ClusterFermionHermiticityTest(\n",
    "                        {'L': 20, 'n1': p, 'g_l': g_l, 'g_r': g_r, 'g_in': g_in, 'g_out': g_out}\n",
    "                    )\n",
    "                    \n",
    "                    models[-1][-1][-1][-1].append(m)"
   ]
  },
  {
   "cell_type": "code",
   "execution_count": 281,
   "metadata": {},
   "outputs": [
    {
     "data": {
      "text/plain": [
       "<__main__.ClusterFermionHermiticityTest at 0x31962ad10>"
      ]
     },
     "execution_count": 281,
     "metadata": {},
     "output_type": "execute_result"
    }
   ],
   "source": [
    "models[0][0][0][0][0]"
   ]
  },
  {
   "cell_type": "code",
   "execution_count": 282,
   "metadata": {},
   "outputs": [],
   "source": [
    "mpos = [[[[[m.calc_H_MPO() for m in l1] for l1 in l2] for l2 in l3] for l3 in l4] for l4 in models]"
   ]
  },
  {
   "cell_type": "code",
   "execution_count": 283,
   "metadata": {},
   "outputs": [],
   "source": [
    "is_hermitian = np.array([[[[[m.is_hermitian() for m in l1] for l1 in l2] for l2 in l3] for l3 in l4] for l4 in mpos])"
   ]
  },
  {
   "cell_type": "code",
   "execution_count": 284,
   "metadata": {},
   "outputs": [
    {
     "data": {
      "text/plain": [
       "(4, 4, 4, 4, 4)"
      ]
     },
     "execution_count": 284,
     "metadata": {},
     "output_type": "execute_result"
    }
   ],
   "source": [
    "is_hermitian.shape"
   ]
  },
  {
   "cell_type": "code",
   "execution_count": 302,
   "metadata": {},
   "outputs": [
    {
     "data": {
      "text/plain": [
       "array([[[[ True,  True, False, False],\n",
       "         [ True,  True, False, False],\n",
       "         [False, False,  True,  True],\n",
       "         [False, False,  True,  True]],\n",
       "\n",
       "        [[ True,  True, False, False],\n",
       "         [ True,  True, False, False],\n",
       "         [False, False,  True,  True],\n",
       "         [False, False,  True,  True]],\n",
       "\n",
       "        [[ True,  True, False, False],\n",
       "         [ True,  True, False, False],\n",
       "         [False, False,  True,  True],\n",
       "         [False, False,  True,  True]],\n",
       "\n",
       "        [[ True,  True, False, False],\n",
       "         [ True,  True, False, False],\n",
       "         [False, False,  True,  True],\n",
       "         [False, False,  True,  True]]],\n",
       "\n",
       "\n",
       "       [[[ True,  True, False, False],\n",
       "         [ True,  True, False, False],\n",
       "         [False, False,  True,  True],\n",
       "         [False, False,  True,  True]],\n",
       "\n",
       "        [[ True,  True, False, False],\n",
       "         [ True,  True, False, False],\n",
       "         [False, False,  True,  True],\n",
       "         [False, False,  True,  True]],\n",
       "\n",
       "        [[ True,  True, False, False],\n",
       "         [ True,  True, False, False],\n",
       "         [False, False,  True,  True],\n",
       "         [False, False,  True,  True]],\n",
       "\n",
       "        [[ True,  True, False, False],\n",
       "         [ True,  True, False, False],\n",
       "         [False, False,  True,  True],\n",
       "         [False, False,  True,  True]]],\n",
       "\n",
       "\n",
       "       [[[ True,  True, False, False],\n",
       "         [ True,  True, False, False],\n",
       "         [False, False,  True,  True],\n",
       "         [False, False,  True,  True]],\n",
       "\n",
       "        [[ True,  True, False, False],\n",
       "         [ True,  True, False, False],\n",
       "         [False, False,  True,  True],\n",
       "         [False, False,  True,  True]],\n",
       "\n",
       "        [[ True,  True, False, False],\n",
       "         [ True,  True, False, False],\n",
       "         [False, False,  True,  True],\n",
       "         [False, False,  True,  True]],\n",
       "\n",
       "        [[ True,  True, False, False],\n",
       "         [ True,  True, False, False],\n",
       "         [False, False,  True,  True],\n",
       "         [False, False,  True,  True]]],\n",
       "\n",
       "\n",
       "       [[[ True,  True, False, False],\n",
       "         [ True,  True, False, False],\n",
       "         [False, False,  True,  True],\n",
       "         [False, False,  True,  True]],\n",
       "\n",
       "        [[ True,  True, False, False],\n",
       "         [ True,  True, False, False],\n",
       "         [False, False,  True,  True],\n",
       "         [False, False,  True,  True]],\n",
       "\n",
       "        [[ True,  True, False, False],\n",
       "         [ True,  True, False, False],\n",
       "         [False, False,  True,  True],\n",
       "         [False, False,  True,  True]],\n",
       "\n",
       "        [[ True,  True, False, False],\n",
       "         [ True,  True, False, False],\n",
       "         [False, False,  True,  True],\n",
       "         [False, False,  True,  True]]]])"
      ]
     },
     "execution_count": 302,
     "metadata": {},
     "output_type": "execute_result"
    }
   ],
   "source": [
    "is_hermitian[1]"
   ]
  },
  {
   "cell_type": "markdown",
   "metadata": {},
   "source": [
    "So breakdown in hermiticity is a function of $n_1$, $g_{in}$ and $g_{out}$, independent of $g_l$ and $g_r$."
   ]
  },
  {
   "cell_type": "markdown",
   "metadata": {},
   "source": [
    "So hermitian only if $g_{in}$ and $g_{out}$ are equal... i.e. it's the creation and annihilation terms causing problems."
   ]
  },
  {
   "cell_type": "code",
   "execution_count": 310,
   "metadata": {},
   "outputs": [],
   "source": [
    "n1_func = get_n1_func(0, 1)\n",
    "\n",
    "g_l = 0\n",
    "g_r = 0\n",
    "g_in = 0\n",
    "g_out = 2"
   ]
  },
  {
   "cell_type": "code",
   "execution_count": 321,
   "metadata": {},
   "outputs": [
    {
     "data": {
      "text/plain": [
       "[('map_0_0', 0, 0),\n",
       " ('N', 0, 1),\n",
       " ('map_3_3', 1, 0),\n",
       " ('N', 1, 1),\n",
       " ('map_0_0', 2, 0)]"
      ]
     },
     "execution_count": 321,
     "metadata": {},
     "output_type": "execute_result"
    }
   ],
   "source": [
    "get_op_list((g_l, 3, 3, g_r), n1_func)"
   ]
  },
  {
   "cell_type": "code",
   "execution_count": 322,
   "metadata": {},
   "outputs": [],
   "source": [
    "op_list_1 = get_op_list((g_l, g_in, g_out, g_r), n1_func)"
   ]
  },
  {
   "cell_type": "code",
   "execution_count": 323,
   "metadata": {},
   "outputs": [
    {
     "data": {
      "text/plain": [
       "[('map_0_0', 0, 0),\n",
       " ('C', 0, 1),\n",
       " ('map_0_2', 1, 0),\n",
       " ('C', 1, 1),\n",
       " ('map_0_0', 2, 0)]"
      ]
     },
     "execution_count": 323,
     "metadata": {},
     "output_type": "execute_result"
    }
   ],
   "source": [
    "op_list_1"
   ]
  },
  {
   "cell_type": "code",
   "execution_count": 324,
   "metadata": {},
   "outputs": [],
   "source": [
    "op_list_2 = get_op_list((g_l, g_out, g_in, g_r), n1_func)"
   ]
  },
  {
   "cell_type": "code",
   "execution_count": 325,
   "metadata": {},
   "outputs": [
    {
     "data": {
      "text/plain": [
       "[('map_0_0', 0, 0),\n",
       " ('Cd', 0, 1),\n",
       " ('map_2_0', 1, 0),\n",
       " ('Cd', 1, 1),\n",
       " ('map_0_0', 2, 0)]"
      ]
     },
     "execution_count": 325,
     "metadata": {},
     "output_type": "execute_result"
    }
   ],
   "source": [
    "op_list_2"
   ]
  },
  {
   "cell_type": "markdown",
   "metadata": {},
   "source": [
    "Extract terms?"
   ]
  },
  {
   "cell_type": "code",
   "execution_count": 326,
   "metadata": {},
   "outputs": [],
   "source": [
    "terms = models[1][0][0][2][0].all_coupling_terms()"
   ]
  },
  {
   "cell_type": "code",
   "execution_count": 327,
   "metadata": {},
   "outputs": [
    {
     "data": {
      "text/plain": [
       "<tenpy.networks.terms.MultiCouplingTerms at 0x168ea7290>"
      ]
     },
     "execution_count": 327,
     "metadata": {},
     "output_type": "execute_result"
    }
   ],
   "source": [
    "terms"
   ]
  },
  {
   "cell_type": "code",
   "execution_count": 328,
   "metadata": {},
   "outputs": [],
   "source": [
    "term_list = terms.to_TermList()"
   ]
  },
  {
   "cell_type": "code",
   "execution_count": 330,
   "metadata": {},
   "outputs": [],
   "source": [
    "tl = term_list.terms"
   ]
  },
  {
   "cell_type": "code",
   "execution_count": 331,
   "metadata": {},
   "outputs": [
    {
     "data": {
      "text/plain": [
       "36"
      ]
     },
     "execution_count": 331,
     "metadata": {},
     "output_type": "execute_result"
    }
   ],
   "source": [
    "len(tl)"
   ]
  },
  {
   "cell_type": "code",
   "execution_count": 332,
   "metadata": {},
   "outputs": [
    {
     "data": {
      "text/plain": [
       "([('map_0_0', 0), ('Cd JW', 1), ('map_2_0 JW', 2), ('Cd', 3), ('map_0_0', 4)],\n",
       " [('map_0_0', 0), ('C JW', 1), ('map_0_2 JW', 2), ('C', 3), ('map_0_0', 4)])"
      ]
     },
     "execution_count": 332,
     "metadata": {},
     "output_type": "execute_result"
    }
   ],
   "source": [
    "tl[0], tl[18]"
   ]
  },
  {
   "cell_type": "markdown",
   "metadata": {},
   "source": [
    "### Repeat but add hermitian conjugate terms"
   ]
  },
  {
   "cell_type": "code",
   "execution_count": 333,
   "metadata": {},
   "outputs": [],
   "source": [
    "class ClusterFermionHermiticityTest(CouplingMPOModel):\n",
    "    default_lattice = \"Chain\"\n",
    "    force_default_lattice = True\n",
    "\n",
    "    # Would it be easier to subclass ClockSite?\n",
    "    def init_sites(self, model_params):\n",
    "        spin = ClockSite(4, conserve=None)\n",
    "        for i in range(4):\n",
    "            for j in range(4):\n",
    "                X = np.zeros((4,4))\n",
    "                X[j, i] = 1\n",
    "                op_name = f\"map_{i}_{j}\"\n",
    "                spin.add_op(op_name, X)\n",
    "        ferm = FermionSite(conserve=None)\n",
    "        sites = [spin, ferm]\n",
    "        return [spin, ferm], ['s', 'f']\n",
    "\n",
    "    def init_terms(self, model_params):\n",
    "        # Read off model parameters\n",
    "        n1_01, n1_10 = model_params.get('n1', (0,0))\n",
    "        n1_func = get_n1_func(n1_01, n1_10)\n",
    "\n",
    "        g_l = model_params.get('g_l', 0)\n",
    "        g_r = model_params.get('g_r', 0)\n",
    "        g_in = model_params.get('g_in', 0)\n",
    "        g_out = model_params.get('g_out', 0)\n",
    "\n",
    "        op_list_1 = get_op_list((g_l, g_in, g_out, g_r), n1_func)\n",
    "        self.add_multi_coupling((-1/4), op_list_1, plus_hc=True)\n",
    "        \n",
    "        op_list_2 = get_op_list((g_l, g_out, g_in, g_r), n1_func)\n",
    "        self.add_multi_coupling((-1/4), op_list_2, plus_hc=True)"
   ]
  },
  {
   "cell_type": "code",
   "execution_count": 339,
   "metadata": {},
   "outputs": [],
   "source": [
    "models = list()\n",
    "none_count = 0\n",
    "\n",
    "for p in n1_pairs:\n",
    "    models.append(list())\n",
    "    for g_l in range(4):\n",
    "        models[-1].append(list())\n",
    "        for g_r in range(4):\n",
    "            models[-1][-1].append(list())\n",
    "            for g_in in range(4):\n",
    "                models[-1][-1][-1].append(list())   \n",
    "                for g_out in range(4):\n",
    "                    try:\n",
    "                        m = ClusterFermionHermiticityTest(\n",
    "                            {'L': 20, 'n1': p, 'g_l': g_l, 'g_r': g_r, 'g_in': g_in, 'g_out': g_out}\n",
    "                        )\n",
    "                    except ValueError:\n",
    "                        m = None\n",
    "                        none_count += 1\n",
    "                    \n",
    "                    models[-1][-1][-1][-1].append(m)"
   ]
  },
  {
   "cell_type": "code",
   "execution_count": 340,
   "metadata": {},
   "outputs": [
    {
     "data": {
      "text/plain": [
       "384"
      ]
     },
     "execution_count": 340,
     "metadata": {},
     "output_type": "execute_result"
    }
   ],
   "source": [
    "none_count"
   ]
  },
  {
   "cell_type": "markdown",
   "metadata": {},
   "source": [
    "$384 = 128*3 \\Rightarrow 1024/384 = 8/3$"
   ]
  },
  {
   "cell_type": "markdown",
   "metadata": {},
   "source": [
    "Which ones are breaking..."
   ]
  },
  {
   "cell_type": "code",
   "execution_count": 341,
   "metadata": {},
   "outputs": [
    {
     "data": {
      "text/plain": [
       "<__main__.ClusterFermionHermiticityTest at 0x32a87d1d0>"
      ]
     },
     "execution_count": 341,
     "metadata": {},
     "output_type": "execute_result"
    }
   ],
   "source": [
    "models[0][0][0][0][0]"
   ]
  },
  {
   "cell_type": "code",
   "execution_count": 342,
   "metadata": {},
   "outputs": [],
   "source": [
    "mpos = [[[[[None if m is None else m.calc_H_MPO() for m in l1] for l1 in l2] for l2 in l3] for l3 in l4] for l4 in models]"
   ]
  },
  {
   "cell_type": "code",
   "execution_count": 343,
   "metadata": {},
   "outputs": [],
   "source": [
    "none_array = np.array([[[[[m is None for m in l1] for l1 in l2] for l2 in l3] for l3 in l4] for l4 in models])"
   ]
  },
  {
   "cell_type": "markdown",
   "metadata": {},
   "source": [
    "Looks like the cases I'm interested in are exactly those missing...!"
   ]
  },
  {
   "cell_type": "code",
   "execution_count": 349,
   "metadata": {},
   "outputs": [
    {
     "data": {
      "text/plain": [
       "array([[[[False, False,  True,  True],\n",
       "         [False, False,  True,  True],\n",
       "         [ True,  True, False, False],\n",
       "         [ True,  True, False, False]],\n",
       "\n",
       "        [[False, False,  True,  True],\n",
       "         [False, False,  True,  True],\n",
       "         [ True,  True, False, False],\n",
       "         [ True,  True, False, False]],\n",
       "\n",
       "        [[False, False,  True,  True],\n",
       "         [False, False,  True,  True],\n",
       "         [ True,  True, False, False],\n",
       "         [ True,  True, False, False]],\n",
       "\n",
       "        [[False, False,  True,  True],\n",
       "         [False, False,  True,  True],\n",
       "         [ True,  True, False, False],\n",
       "         [ True,  True, False, False]]],\n",
       "\n",
       "\n",
       "       [[[False, False,  True,  True],\n",
       "         [False, False,  True,  True],\n",
       "         [ True,  True, False, False],\n",
       "         [ True,  True, False, False]],\n",
       "\n",
       "        [[False, False,  True,  True],\n",
       "         [False, False,  True,  True],\n",
       "         [ True,  True, False, False],\n",
       "         [ True,  True, False, False]],\n",
       "\n",
       "        [[False, False,  True,  True],\n",
       "         [False, False,  True,  True],\n",
       "         [ True,  True, False, False],\n",
       "         [ True,  True, False, False]],\n",
       "\n",
       "        [[False, False,  True,  True],\n",
       "         [False, False,  True,  True],\n",
       "         [ True,  True, False, False],\n",
       "         [ True,  True, False, False]]],\n",
       "\n",
       "\n",
       "       [[[False, False,  True,  True],\n",
       "         [False, False,  True,  True],\n",
       "         [ True,  True, False, False],\n",
       "         [ True,  True, False, False]],\n",
       "\n",
       "        [[False, False,  True,  True],\n",
       "         [False, False,  True,  True],\n",
       "         [ True,  True, False, False],\n",
       "         [ True,  True, False, False]],\n",
       "\n",
       "        [[False, False,  True,  True],\n",
       "         [False, False,  True,  True],\n",
       "         [ True,  True, False, False],\n",
       "         [ True,  True, False, False]],\n",
       "\n",
       "        [[False, False,  True,  True],\n",
       "         [False, False,  True,  True],\n",
       "         [ True,  True, False, False],\n",
       "         [ True,  True, False, False]]],\n",
       "\n",
       "\n",
       "       [[[False, False,  True,  True],\n",
       "         [False, False,  True,  True],\n",
       "         [ True,  True, False, False],\n",
       "         [ True,  True, False, False]],\n",
       "\n",
       "        [[False, False,  True,  True],\n",
       "         [False, False,  True,  True],\n",
       "         [ True,  True, False, False],\n",
       "         [ True,  True, False, False]],\n",
       "\n",
       "        [[False, False,  True,  True],\n",
       "         [False, False,  True,  True],\n",
       "         [ True,  True, False, False],\n",
       "         [ True,  True, False, False]],\n",
       "\n",
       "        [[False, False,  True,  True],\n",
       "         [False, False,  True,  True],\n",
       "         [ True,  True, False, False],\n",
       "         [ True,  True, False, False]]]])"
      ]
     },
     "execution_count": 349,
     "metadata": {},
     "output_type": "execute_result"
    }
   ],
   "source": [
    "none_array[1]"
   ]
  },
  {
   "cell_type": "code",
   "execution_count": null,
   "metadata": {},
   "outputs": [],
   "source": []
  },
  {
   "cell_type": "code",
   "execution_count": 223,
   "metadata": {},
   "outputs": [
    {
     "data": {
      "text/plain": [
       "{'C', 'Cd', 'JW'}"
      ]
     },
     "execution_count": 223,
     "metadata": {},
     "output_type": "execute_result"
    }
   ],
   "source": [
    "FermionSite().need_JW_string"
   ]
  },
  {
   "cell_type": "code",
   "execution_count": 208,
   "metadata": {},
   "outputs": [],
   "source": [
    "fermion_operators = [l[1][0] for l in out]"
   ]
  },
  {
   "cell_type": "code",
   "execution_count": 210,
   "metadata": {},
   "outputs": [
    {
     "data": {
      "text/plain": [
       "[['Id', 'C', 'Id', 'C'],\n",
       " ['Cd', 'N', 'Cd', 'N'],\n",
       " ['Id', 'C', 'Id', 'C'],\n",
       " ['Cd', 'N', 'Cd', 'N']]"
      ]
     },
     "execution_count": 210,
     "metadata": {},
     "output_type": "execute_result"
    }
   ],
   "source": [
    "[\n",
    "    fermion_operators[:4],\n",
    "    fermion_operators[4:8],\n",
    "    fermion_operators[8:12],\n",
    "    fermion_operators[12:16]\n",
    "]"
   ]
  },
  {
   "cell_type": "code",
   "execution_count": null,
   "metadata": {},
   "outputs": [],
   "source": [
    "models[0][1].c"
   ]
  },
  {
   "cell_type": "code",
   "execution_count": 195,
   "metadata": {},
   "outputs": [],
   "source": [
    "for l in psis:\n",
    "    for psi in l:\n",
    "        psi.canonical_form()"
   ]
  },
  {
   "cell_type": "code",
   "execution_count": 1,
   "metadata": {},
   "outputs": [
    {
     "ename": "NameError",
     "evalue": "name 'psis' is not defined",
     "output_type": "error",
     "traceback": [
      "\u001b[0;31m---------------------------------------------------------------------------\u001b[0m",
      "\u001b[0;31mNameError\u001b[0m                                 Traceback (most recent call last)",
      "Cell \u001b[0;32mIn[1], line 4\u001b[0m\n\u001b[1;32m      1\u001b[0m outpsis \u001b[38;5;241m=\u001b[39m \u001b[38;5;28mlist\u001b[39m()\n\u001b[1;32m      2\u001b[0m energies \u001b[38;5;241m=\u001b[39m \u001b[38;5;28mlist\u001b[39m()\n\u001b[0;32m----> 4\u001b[0m \u001b[38;5;28;01mfor\u001b[39;00m l1, l2 \u001b[38;5;129;01min\u001b[39;00m \u001b[38;5;28mzip\u001b[39m(\u001b[43mpsis\u001b[49m, models):\n\u001b[1;32m      5\u001b[0m     outpsis\u001b[38;5;241m.\u001b[39mappend(\u001b[38;5;28mlist\u001b[39m())\n\u001b[1;32m      6\u001b[0m     energies\u001b[38;5;241m.\u001b[39mappend(\u001b[38;5;28mlist\u001b[39m())\n",
      "\u001b[0;31mNameError\u001b[0m: name 'psis' is not defined"
     ]
    }
   ],
   "source": [
    "outpsis = list()\n",
    "energies = list()\n",
    "\n",
    "for l1, l2 in zip(psis, models):\n",
    "    outpsis.append(list())\n",
    "    energies.append(list())\n",
    "    \n",
    "    for psi, m in zip(l1, l2):\n",
    "        # Commenting out to supress error message clutter in notebook.\n",
    "        \"\"\"\n",
    "        eng = dmrg.TwoSiteDMRGEngine(psi, m, dmrg_params)\n",
    "        e, psi_out = eng.run()\n",
    "\n",
    "        outpsis[-1].append(psi_out)\n",
    "        energies[-1].append(e)\n",
    "        \"\"\""
   ]
  },
  {
   "cell_type": "code",
   "execution_count": 197,
   "metadata": {},
   "outputs": [
    {
     "data": {
      "text/plain": [
       "[[-18.000000000000036,\n",
       "  -8.196875831824364,\n",
       "  -8.514815527402932,\n",
       "  -8.97384686708272],\n",
       " [-18.00000000000004,\n",
       "  -8.628884646999314,\n",
       "  -8.279348259530973,\n",
       "  -8.999999999999979]]"
      ]
     },
     "execution_count": 197,
     "metadata": {},
     "output_type": "execute_result"
    }
   ],
   "source": [
    "energies"
   ]
  },
  {
   "cell_type": "markdown",
   "metadata": {},
   "source": [
    "## ZXZ case"
   ]
  },
  {
   "cell_type": "code",
   "execution_count": 105,
   "metadata": {},
   "outputs": [],
   "source": [
    "def get_xzx_op_list(g_quad):\n",
    "    out = list()\n",
    "    g_left, g_in, g_out, g_right = g_quad\n",
    "\n",
    "    out.append((f'map_{g_left}_{g_left}', 0, 0))\n",
    "    \n",
    "    out.append((f'map_{g_in}_{g_out}', 1, 0))\n",
    "    \n",
    "    out.append((f'map_{g_right}_{g_right}', 2, 0))\n",
    "\n",
    "    return out"
   ]
  },
  {
   "cell_type": "code",
   "execution_count": 136,
   "metadata": {},
   "outputs": [],
   "source": [
    "class Cluster(CouplingMPOModel):\n",
    "        default_lattice = \"Chain\"\n",
    "        force_default_lattice = True\n",
    "\n",
    "        # Would it be easier to subclass ClockSite?\n",
    "        def init_sites(self, model_params):\n",
    "            spin = ClockSite(4, conserve=None)\n",
    "            for i in range(4):\n",
    "                for j in range(4):\n",
    "                    X = np.zeros((4,4))\n",
    "                    X[j, i] = 1\n",
    "                    op_name = f\"map_{i}_{j}\"\n",
    "                    spin.add_op(op_name, X)\n",
    "            sites = [spin,]\n",
    "            return [spin,], ['s',]\n",
    "\n",
    "        def init_terms(self, model_params):\n",
    "            # Read off model parameters\n",
    "            \n",
    "            non_trivial_proj_rep = model_params.get('non_trivial_proj_rep', False)\n",
    "\n",
    "            group_quads = product(range(4), repeat=4)\n",
    "\n",
    "            for group_quad in group_quads:\n",
    "                op_list = get_xzx_op_list(group_quad)\n",
    "                if non_trivial_proj_rep:\n",
    "                    phase = get_proj_rep_term_phase(group_quad)\n",
    "                else:\n",
    "                    phase = 1\n",
    "                self.add_multi_coupling((-1/4)*phase, op_list)"
   ]
  },
  {
   "cell_type": "code",
   "execution_count": 137,
   "metadata": {},
   "outputs": [],
   "source": [
    "models = [\n",
    "    Cluster({'L': 20, 'non_trivial_proj_rep': b})\n",
    "    for b in [True, False]\n",
    "]"
   ]
  },
  {
   "cell_type": "code",
   "execution_count": 138,
   "metadata": {},
   "outputs": [
    {
     "data": {
      "text/plain": [
       "[<__main__.Cluster at 0x169fe90d0>, <__main__.Cluster at 0x168990690>]"
      ]
     },
     "execution_count": 138,
     "metadata": {},
     "output_type": "execute_result"
    }
   ],
   "source": [
    "models"
   ]
  },
  {
   "cell_type": "code",
   "execution_count": 139,
   "metadata": {},
   "outputs": [],
   "source": [
    "psis = [\n",
    "    MPS.from_lat_product_state(m.lat, [['0',],]*20) for m in models\n",
    "]"
   ]
  },
  {
   "cell_type": "code",
   "execution_count": 140,
   "metadata": {},
   "outputs": [],
   "source": [
    "dmrg_params = {\n",
    "    \"trunc_params\": {\"chi_max\": 8, \"chi_min\": 1, \"svd_min\": 1.e-10},\n",
    "    \"min_sweeps\":100,\n",
    "    \"max_sweeps\":200,\n",
    "    \"mixer\": True,\n",
    "    \"combine\":False,\n",
    "    'decay':2,\n",
    "    'amplitude':10e-1,\n",
    "    'disable_after':60,\n",
    "    'update_env':0\n",
    "}"
   ]
  },
  {
   "cell_type": "code",
   "execution_count": 141,
   "metadata": {},
   "outputs": [],
   "source": [
    "for psi in psis:\n",
    "    psi.canonical_form()"
   ]
  },
  {
   "cell_type": "code",
   "execution_count": 142,
   "metadata": {},
   "outputs": [
    {
     "name": "stderr",
     "output_type": "stream",
     "text": [
      "/Users/kierancooney/.pyenv/versions/num_spt_venv_p11/lib/python3.11/site-packages/tenpy/tools/params.py:230: UserWarning: unused options for config TwoSiteDMRGEngine:\n",
      "['amplitude', 'decay', 'disable_after', 'update_env']\n",
      "  warnings.warn(msg.format(keys=sorted(unused), name=self.name))\n"
     ]
    }
   ],
   "source": [
    "outpsis = list()\n",
    "energies = list()\n",
    "\n",
    "for psi, m in zip(psis, models):\n",
    "    eng = dmrg.TwoSiteDMRGEngine(psi, m, dmrg_params)\n",
    "    e, psi_out = eng.run()\n",
    "\n",
    "    outpsis.append(psi_out)\n",
    "    energies.append(e)"
   ]
  },
  {
   "cell_type": "code",
   "execution_count": 143,
   "metadata": {},
   "outputs": [
    {
     "data": {
      "text/plain": [
       "[-17.999999999999996, -18.000000000000046]"
      ]
     },
     "execution_count": 143,
     "metadata": {},
     "output_type": "execute_result"
    }
   ],
   "source": [
    "energies"
   ]
  },
  {
   "cell_type": "code",
   "execution_count": 144,
   "metadata": {},
   "outputs": [
    {
     "data": {
      "text/plain": [
       "[<__main__.Cluster at 0x169fe90d0>, <__main__.Cluster at 0x168990690>]"
      ]
     },
     "execution_count": 144,
     "metadata": {},
     "output_type": "execute_result"
    }
   ],
   "source": [
    "models"
   ]
  },
  {
   "cell_type": "code",
   "execution_count": 152,
   "metadata": {},
   "outputs": [],
   "source": [
    "m = models[0]"
   ]
  },
  {
   "cell_type": "code",
   "execution_count": 153,
   "metadata": {},
   "outputs": [],
   "source": [
    "m.test_sanity()"
   ]
  },
  {
   "cell_type": "code",
   "execution_count": 154,
   "metadata": {},
   "outputs": [],
   "source": [
    "mpo = m.calc_H_MPO()"
   ]
  },
  {
   "cell_type": "code",
   "execution_count": 155,
   "metadata": {},
   "outputs": [
    {
     "data": {
      "text/plain": [
       "True"
      ]
     },
     "execution_count": 155,
     "metadata": {},
     "output_type": "execute_result"
    }
   ],
   "source": [
    "mpo.is_hermitian()"
   ]
  },
  {
   "cell_type": "code",
   "execution_count": 156,
   "metadata": {},
   "outputs": [],
   "source": [
    "m = models[1]"
   ]
  },
  {
   "cell_type": "code",
   "execution_count": 157,
   "metadata": {},
   "outputs": [],
   "source": [
    "m.test_sanity()"
   ]
  },
  {
   "cell_type": "code",
   "execution_count": 158,
   "metadata": {},
   "outputs": [],
   "source": [
    "mpo = m.calc_H_MPO()"
   ]
  },
  {
   "cell_type": "code",
   "execution_count": 159,
   "metadata": {},
   "outputs": [
    {
     "data": {
      "text/plain": [
       "True"
      ]
     },
     "execution_count": 159,
     "metadata": {},
     "output_type": "execute_result"
    }
   ],
   "source": [
    "mpo.is_hermitian()"
   ]
  },
  {
   "cell_type": "code",
   "execution_count": 160,
   "metadata": {},
   "outputs": [],
   "source": [
    "psi = outpsis[1]"
   ]
  },
  {
   "cell_type": "code",
   "execution_count": 163,
   "metadata": {},
   "outputs": [
    {
     "data": {
      "text/plain": [
       "array([[[1.],\n",
       "        [0.],\n",
       "        [0.],\n",
       "        [0.]]])"
      ]
     },
     "execution_count": 163,
     "metadata": {},
     "output_type": "execute_result"
    }
   ],
   "source": [
    "psi.get_B(0).to_ndarray()"
   ]
  },
  {
   "cell_type": "code",
   "execution_count": 164,
   "metadata": {},
   "outputs": [
    {
     "data": {
      "text/plain": [
       "array([[[-0.5],\n",
       "        [-0.5],\n",
       "        [-0.5],\n",
       "        [-0.5]]])"
      ]
     },
     "execution_count": 164,
     "metadata": {},
     "output_type": "execute_result"
    }
   ],
   "source": [
    "psi.get_B(1).to_ndarray()"
   ]
  },
  {
   "cell_type": "code",
   "execution_count": 165,
   "metadata": {},
   "outputs": [
    {
     "data": {
      "text/plain": [
       "array([[[-0.5],\n",
       "        [-0.5],\n",
       "        [-0.5],\n",
       "        [-0.5]]])"
      ]
     },
     "execution_count": 165,
     "metadata": {},
     "output_type": "execute_result"
    }
   ],
   "source": [
    "psi.get_B(10).to_ndarray()"
   ]
  },
  {
   "cell_type": "markdown",
   "metadata": {},
   "source": [
    "# Update hamiltonian"
   ]
  },
  {
   "cell_type": "code",
   "execution_count": 18,
   "metadata": {},
   "outputs": [],
   "source": [
    "def get_op_list_1(g_quad, n1_func):\n",
    "    out = list()\n",
    "    g_left, g_in, g_out, g_right = g_quad\n",
    "\n",
    "    out.append((f'map_{g_left}_{g_left}', 0, 0))\n",
    "\n",
    "    if n1_func(g_in, g_right):\n",
    "        out.append(('Cd', 1, 1))\n",
    "    if n1_func(g_left, g_in):\n",
    "        out.append(('Cd', 0, 1))\n",
    "    \n",
    "    out.append((f'map_{g_in}_{g_out}', 1, 0))\n",
    "    \n",
    "    if n1_func(g_left, g_out):\n",
    "        out.append(('C', 0, 1))\n",
    "    if n1_func(g_out, g_right):\n",
    "        out.append(('C', 1, 1))\n",
    "\n",
    "    out.append((f'map_{g_right}_{g_right}', 2, 0))\n",
    "\n",
    "    return out"
   ]
  },
  {
   "cell_type": "code",
   "execution_count": 19,
   "metadata": {},
   "outputs": [],
   "source": [
    "class ClusterFermion1(CouplingMPOModel):\n",
    "        default_lattice = \"Chain\"\n",
    "        force_default_lattice = True\n",
    "\n",
    "        # Would it be easier to subclass ClockSite?\n",
    "        def init_sites(self, model_params):\n",
    "            spin = ClockSite(4, conserve=None)\n",
    "            for i in range(4):\n",
    "                for j in range(4):\n",
    "                    X = np.zeros((4,4))\n",
    "                    X[j, i] = 1\n",
    "                    op_name = f\"map_{i}_{j}\"\n",
    "                    spin.add_op(op_name, X)\n",
    "            ferm = FermionSite(conserve=None)\n",
    "            sites = [spin, ferm]\n",
    "            return [spin, ferm], ['s', 'f']\n",
    "\n",
    "        def init_terms(self, model_params):\n",
    "            # Read off model parameters\n",
    "            n1_01, n1_10 = model_params.get('n1', (0,0))\n",
    "            n1_func = get_n1_func(n1_01, n1_10)\n",
    "\n",
    "            non_trivial_proj_rep = model_params.get('non_trivial_proj_rep', False)\n",
    "\n",
    "            group_quads = product(range(4), repeat=4)\n",
    "\n",
    "            for group_quad in group_quads:\n",
    "                op_list = get_op_list_1(group_quad, n1_func)\n",
    "                \n",
    "                if non_trivial_proj_rep:\n",
    "                    phase = get_proj_rep_term_phase(group_quad)\n",
    "                else:\n",
    "                    phase = 1\n",
    "\n",
    "                g_left, *_, g_right = group_quad\n",
    "                if n1_func(g_left, g_right) == 1:\n",
    "                    factor = 2\n",
    "                else:\n",
    "                    factor = 1\n",
    "\n",
    "                self.add_multi_coupling((-1/4)*phase*factor, op_list)"
   ]
  },
  {
   "cell_type": "code",
   "execution_count": 23,
   "metadata": {},
   "outputs": [],
   "source": [
    "models = [\n",
    "    [ClusterFermion1({'L': 20, 'n1': p, 'non_trivial_proj_rep': b}) for p in n1_pairs]\n",
    "    for b in [True, False]\n",
    "]"
   ]
  },
  {
   "cell_type": "code",
   "execution_count": 25,
   "metadata": {},
   "outputs": [
    {
     "data": {
      "text/plain": [
       "[[<__main__.ClusterFermion1 at 0x7855c3d72210>,\n",
       "  <__main__.ClusterFermion1 at 0x7855c5ab6310>,\n",
       "  <__main__.ClusterFermion1 at 0x7855c332cbd0>,\n",
       "  <__main__.ClusterFermion1 at 0x7855c0574bd0>],\n",
       " [<__main__.ClusterFermion1 at 0x7855bf7cc4d0>,\n",
       "  <__main__.ClusterFermion1 at 0x7855bf5a4bd0>,\n",
       "  <__main__.ClusterFermion1 at 0x7855be938d10>,\n",
       "  <__main__.ClusterFermion1 at 0x7855bdfd4bd0>]]"
      ]
     },
     "execution_count": 25,
     "metadata": {},
     "output_type": "execute_result"
    }
   ],
   "source": [
    "models"
   ]
  },
  {
   "cell_type": "code",
   "execution_count": 26,
   "metadata": {},
   "outputs": [],
   "source": [
    "psis = [\n",
    "    [MPS.from_lat_product_state(m.lat, [['0', 'empty'],]*20) for m in l]\n",
    "    for l in models\n",
    "]"
   ]
  },
  {
   "cell_type": "code",
   "execution_count": 27,
   "metadata": {},
   "outputs": [],
   "source": [
    "dmrg_params = {\n",
    "    \"trunc_params\": {\"chi_max\": 8, \"chi_min\": 1, \"svd_min\": 1.e-10},\n",
    "    \"min_sweeps\":100,\n",
    "    \"max_sweeps\":200,\n",
    "    \"mixer\": True,\n",
    "    \"combine\":False,\n",
    "    'decay':2,\n",
    "    'amplitude':10e-1,\n",
    "    'disable_after':60,\n",
    "    'update_env':0\n",
    "}"
   ]
  },
  {
   "cell_type": "code",
   "execution_count": 28,
   "metadata": {},
   "outputs": [
    {
     "name": "stdout",
     "output_type": "stream",
     "text": [
      "True\n",
      "True\n",
      "True\n",
      "True\n",
      "True\n",
      "True\n",
      "True\n",
      "True\n"
     ]
    }
   ],
   "source": [
    "for l in models:\n",
    "    for m in l:\n",
    "        mpo = m.calc_H_MPO()\n",
    "        print(mpo.is_hermitian())"
   ]
  },
  {
   "cell_type": "code",
   "execution_count": 29,
   "metadata": {},
   "outputs": [],
   "source": [
    "for l in psis:\n",
    "    for psi in l:\n",
    "        psi.canonical_form()"
   ]
  },
  {
   "cell_type": "code",
   "execution_count": 30,
   "metadata": {},
   "outputs": [
    {
     "name": "stderr",
     "output_type": "stream",
     "text": [
      "/home/kieranc/Desktop/numerical_spt_classification/code/num_spt_venv_p11/lib/python3.11/site-packages/tenpy/tools/params.py:230: UserWarning: unused options for config TwoSiteDMRGEngine:\n",
      "['amplitude', 'decay', 'disable_after', 'update_env']\n",
      "  warnings.warn(msg.format(keys=sorted(unused), name=self.name))\n",
      "/home/kieranc/Desktop/numerical_spt_classification/code/num_spt_venv_p11/lib/python3.11/site-packages/tenpy/tools/params.py:230: UserWarning: unused options for config TwoSiteDMRGEngine:\n",
      "['amplitude', 'decay', 'disable_after', 'update_env']\n",
      "  warnings.warn(msg.format(keys=sorted(unused), name=self.name))\n",
      "/home/kieranc/Desktop/numerical_spt_classification/code/num_spt_venv_p11/lib/python3.11/site-packages/tenpy/tools/params.py:230: UserWarning: unused options for config TwoSiteDMRGEngine:\n",
      "['amplitude', 'decay', 'disable_after', 'update_env']\n",
      "  warnings.warn(msg.format(keys=sorted(unused), name=self.name))\n",
      "/home/kieranc/Desktop/numerical_spt_classification/code/num_spt_venv_p11/lib/python3.11/site-packages/tenpy/tools/params.py:230: UserWarning: unused options for config TwoSiteDMRGEngine:\n",
      "['amplitude', 'decay', 'disable_after', 'update_env']\n",
      "  warnings.warn(msg.format(keys=sorted(unused), name=self.name))\n",
      "/home/kieranc/Desktop/numerical_spt_classification/code/num_spt_venv_p11/lib/python3.11/site-packages/tenpy/tools/params.py:230: UserWarning: unused options for config TwoSiteDMRGEngine:\n",
      "['amplitude', 'decay', 'disable_after', 'update_env']\n",
      "  warnings.warn(msg.format(keys=sorted(unused), name=self.name))\n",
      "/home/kieranc/Desktop/numerical_spt_classification/code/num_spt_venv_p11/lib/python3.11/site-packages/tenpy/tools/params.py:230: UserWarning: unused options for config TwoSiteDMRGEngine:\n",
      "['amplitude', 'decay', 'disable_after', 'update_env']\n",
      "  warnings.warn(msg.format(keys=sorted(unused), name=self.name))\n",
      "/home/kieranc/Desktop/numerical_spt_classification/code/num_spt_venv_p11/lib/python3.11/site-packages/tenpy/tools/params.py:230: UserWarning: unused options for config TwoSiteDMRGEngine:\n",
      "['amplitude', 'decay', 'disable_after', 'update_env']\n",
      "  warnings.warn(msg.format(keys=sorted(unused), name=self.name))\n"
     ]
    }
   ],
   "source": [
    "outpsis = list()\n",
    "energies = list()\n",
    "\n",
    "for l1, l2 in zip(psis, models):\n",
    "    outpsis.append(list())\n",
    "    energies.append(list())\n",
    "\n",
    "        \n",
    "    for psi, m in zip(l1, l2):\n",
    "        eng = dmrg.TwoSiteDMRGEngine(psi, m, dmrg_params)\n",
    "        e, psi_out = eng.run()\n",
    "    \n",
    "        outpsis[-1].append(psi_out)\n",
    "        energies[-1].append(e)"
   ]
  },
  {
   "cell_type": "code",
   "execution_count": 31,
   "metadata": {},
   "outputs": [
    {
     "data": {
      "text/plain": [
       "[[-17.999999999999982,\n",
       "  -17.999999999999975,\n",
       "  -17.999999999999964,\n",
       "  -17.99999999999994],\n",
       " [-18.000000000000032,\n",
       "  -18.000000000000004,\n",
       "  -17.999999999999975,\n",
       "  -17.99999999999997]]"
      ]
     },
     "execution_count": 31,
     "metadata": {},
     "output_type": "execute_result"
    }
   ],
   "source": [
    "energies"
   ]
  },
  {
   "cell_type": "markdown",
   "metadata": {},
   "source": [
    "Try without \"factor\""
   ]
  },
  {
   "cell_type": "code",
   "execution_count": 32,
   "metadata": {},
   "outputs": [],
   "source": [
    "class ClusterFermion1(CouplingMPOModel):\n",
    "        default_lattice = \"Chain\"\n",
    "        force_default_lattice = True\n",
    "\n",
    "        # Would it be easier to subclass ClockSite?\n",
    "        def init_sites(self, model_params):\n",
    "            spin = ClockSite(4, conserve=None)\n",
    "            for i in range(4):\n",
    "                for j in range(4):\n",
    "                    X = np.zeros((4,4))\n",
    "                    X[j, i] = 1\n",
    "                    op_name = f\"map_{i}_{j}\"\n",
    "                    spin.add_op(op_name, X)\n",
    "            ferm = FermionSite(conserve=None)\n",
    "            sites = [spin, ferm]\n",
    "            return [spin, ferm], ['s', 'f']\n",
    "\n",
    "        def init_terms(self, model_params):\n",
    "            # Read off model parameters\n",
    "            n1_01, n1_10 = model_params.get('n1', (0,0))\n",
    "            n1_func = get_n1_func(n1_01, n1_10)\n",
    "\n",
    "            non_trivial_proj_rep = model_params.get('non_trivial_proj_rep', False)\n",
    "\n",
    "            group_quads = product(range(4), repeat=4)\n",
    "\n",
    "            for group_quad in group_quads:\n",
    "                op_list = get_op_list_1(group_quad, n1_func)\n",
    "                \n",
    "                if non_trivial_proj_rep:\n",
    "                    phase = get_proj_rep_term_phase(group_quad)\n",
    "                else:\n",
    "                    phase = 1\n",
    "\n",
    "                g_left, *_, g_right = group_quad\n",
    "                factor=1\n",
    "\n",
    "                self.add_multi_coupling((-1/4)*phase*factor, op_list)"
   ]
  },
  {
   "cell_type": "code",
   "execution_count": 33,
   "metadata": {},
   "outputs": [],
   "source": [
    "models = [\n",
    "    [ClusterFermion1({'L': 20, 'n1': p, 'non_trivial_proj_rep': b}) for p in n1_pairs]\n",
    "    for b in [True, False]\n",
    "]"
   ]
  },
  {
   "cell_type": "code",
   "execution_count": 34,
   "metadata": {},
   "outputs": [
    {
     "data": {
      "text/plain": [
       "[[<__main__.ClusterFermion1 at 0x7855bd747390>,\n",
       "  <__main__.ClusterFermion1 at 0x7855bd78dcd0>,\n",
       "  <__main__.ClusterFermion1 at 0x7855ba3359d0>,\n",
       "  <__main__.ClusterFermion1 at 0x7855b9780710>],\n",
       " [<__main__.ClusterFermion1 at 0x7855b88c4bd0>,\n",
       "  <__main__.ClusterFermion1 at 0x7855b822cbd0>,\n",
       "  <__main__.ClusterFermion1 at 0x7855b75244d0>,\n",
       "  <__main__.ClusterFermion1 at 0x7855b6e68d10>]]"
      ]
     },
     "execution_count": 34,
     "metadata": {},
     "output_type": "execute_result"
    }
   ],
   "source": [
    "models"
   ]
  },
  {
   "cell_type": "code",
   "execution_count": 35,
   "metadata": {},
   "outputs": [],
   "source": [
    "psis = [\n",
    "    [MPS.from_lat_product_state(m.lat, [['0', 'empty'],]*20) for m in l]\n",
    "    for l in models\n",
    "]"
   ]
  },
  {
   "cell_type": "code",
   "execution_count": 36,
   "metadata": {},
   "outputs": [],
   "source": [
    "dmrg_params = {\n",
    "    \"trunc_params\": {\"chi_max\": 8, \"chi_min\": 1, \"svd_min\": 1.e-10},\n",
    "    \"min_sweeps\":100,\n",
    "    \"max_sweeps\":200,\n",
    "    \"mixer\": True,\n",
    "    \"combine\":False,\n",
    "    'decay':2,\n",
    "    'amplitude':10e-1,\n",
    "    'disable_after':60,\n",
    "    'update_env':0\n",
    "}"
   ]
  },
  {
   "cell_type": "code",
   "execution_count": 37,
   "metadata": {},
   "outputs": [
    {
     "name": "stdout",
     "output_type": "stream",
     "text": [
      "True\n",
      "True\n",
      "True\n",
      "True\n",
      "True\n",
      "True\n",
      "True\n",
      "True\n"
     ]
    }
   ],
   "source": [
    "for l in models:\n",
    "    for m in l:\n",
    "        mpo = m.calc_H_MPO()\n",
    "        print(mpo.is_hermitian())"
   ]
  },
  {
   "cell_type": "code",
   "execution_count": 38,
   "metadata": {},
   "outputs": [],
   "source": [
    "for l in psis:\n",
    "    for psi in l:\n",
    "        psi.canonical_form()"
   ]
  },
  {
   "cell_type": "code",
   "execution_count": 39,
   "metadata": {},
   "outputs": [
    {
     "name": "stderr",
     "output_type": "stream",
     "text": [
      "/home/kieranc/Desktop/numerical_spt_classification/code/num_spt_venv_p11/lib/python3.11/site-packages/tenpy/tools/params.py:230: UserWarning: unused options for config TwoSiteDMRGEngine:\n",
      "['amplitude', 'decay', 'disable_after', 'update_env']\n",
      "  warnings.warn(msg.format(keys=sorted(unused), name=self.name))\n",
      "/home/kieranc/Desktop/numerical_spt_classification/code/num_spt_venv_p11/lib/python3.11/site-packages/tenpy/tools/params.py:230: UserWarning: unused options for config TwoSiteDMRGEngine:\n",
      "['amplitude', 'decay', 'disable_after', 'update_env']\n",
      "  warnings.warn(msg.format(keys=sorted(unused), name=self.name))\n",
      "/home/kieranc/Desktop/numerical_spt_classification/code/num_spt_venv_p11/lib/python3.11/site-packages/tenpy/tools/params.py:230: UserWarning: unused options for config TwoSiteDMRGEngine:\n",
      "['amplitude', 'decay', 'disable_after', 'update_env']\n",
      "  warnings.warn(msg.format(keys=sorted(unused), name=self.name))\n",
      "/home/kieranc/Desktop/numerical_spt_classification/code/num_spt_venv_p11/lib/python3.11/site-packages/tenpy/tools/params.py:230: UserWarning: unused options for config TwoSiteDMRGEngine:\n",
      "['amplitude', 'decay', 'disable_after', 'update_env']\n",
      "  warnings.warn(msg.format(keys=sorted(unused), name=self.name))\n",
      "/home/kieranc/Desktop/numerical_spt_classification/code/num_spt_venv_p11/lib/python3.11/site-packages/tenpy/tools/params.py:230: UserWarning: unused options for config TwoSiteDMRGEngine:\n",
      "['amplitude', 'decay', 'disable_after', 'update_env']\n",
      "  warnings.warn(msg.format(keys=sorted(unused), name=self.name))\n",
      "/home/kieranc/Desktop/numerical_spt_classification/code/num_spt_venv_p11/lib/python3.11/site-packages/tenpy/tools/params.py:230: UserWarning: unused options for config TwoSiteDMRGEngine:\n",
      "['amplitude', 'decay', 'disable_after', 'update_env']\n",
      "  warnings.warn(msg.format(keys=sorted(unused), name=self.name))\n",
      "/home/kieranc/Desktop/numerical_spt_classification/code/num_spt_venv_p11/lib/python3.11/site-packages/tenpy/tools/params.py:230: UserWarning: unused options for config TwoSiteDMRGEngine:\n",
      "['amplitude', 'decay', 'disable_after', 'update_env']\n",
      "  warnings.warn(msg.format(keys=sorted(unused), name=self.name))\n",
      "/home/kieranc/Desktop/numerical_spt_classification/code/num_spt_venv_p11/lib/python3.11/site-packages/tenpy/tools/params.py:230: UserWarning: unused options for config TwoSiteDMRGEngine:\n",
      "['amplitude', 'decay', 'disable_after', 'update_env']\n",
      "  warnings.warn(msg.format(keys=sorted(unused), name=self.name))\n"
     ]
    }
   ],
   "source": [
    "outpsis = list()\n",
    "energies = list()\n",
    "\n",
    "for l1, l2 in zip(psis, models):\n",
    "    outpsis.append(list())\n",
    "    energies.append(list())\n",
    "\n",
    "        \n",
    "    for psi, m in zip(l1, l2):\n",
    "        eng = dmrg.TwoSiteDMRGEngine(psi, m, dmrg_params)\n",
    "        e, psi_out = eng.run()\n",
    "    \n",
    "        outpsis[-1].append(psi_out)\n",
    "        energies[-1].append(e)"
   ]
  },
  {
   "cell_type": "code",
   "execution_count": 40,
   "metadata": {},
   "outputs": [
    {
     "data": {
      "text/plain": [
       "[[-17.999999999999982,\n",
       "  -12.342466171618899,\n",
       "  -12.34246617161892,\n",
       "  -12.3424661716189],\n",
       " [-18.000000000000032,\n",
       "  -12.342052318754007,\n",
       "  -12.342146563149196,\n",
       "  -12.341908845734233]]"
      ]
     },
     "execution_count": 40,
     "metadata": {},
     "output_type": "execute_result"
    }
   ],
   "source": [
    "energies"
   ]
  },
  {
   "cell_type": "markdown",
   "metadata": {},
   "source": [
    "## Check correlation lengths\n",
    "Should be 0."
   ]
  },
  {
   "cell_type": "code",
   "execution_count": 26,
   "metadata": {},
   "outputs": [],
   "source": [
    "def get_op_list_1(g_quad, n1_func):\n",
    "    out = list()\n",
    "    g_left, g_in, g_out, g_right = g_quad\n",
    "\n",
    "    out.append((f'map_{g_left}_{g_left}', 0, 0))\n",
    "\n",
    "    if n1_func(g_in, g_right):\n",
    "        out.append(('Cd', 1, 1))\n",
    "    if n1_func(g_left, g_in):\n",
    "        out.append(('Cd', 0, 1))\n",
    "    \n",
    "    out.append((f'map_{g_in}_{g_out}', 1, 0))\n",
    "    \n",
    "    if n1_func(g_left, g_out):\n",
    "        out.append(('C', 0, 1))\n",
    "    if n1_func(g_out, g_right):\n",
    "        out.append(('C', 1, 1))\n",
    "\n",
    "    out.append((f'map_{g_right}_{g_right}', 2, 0))\n",
    "\n",
    "    return out"
   ]
  },
  {
   "cell_type": "code",
   "execution_count": 27,
   "metadata": {},
   "outputs": [],
   "source": [
    "class ClusterFermion1(CouplingMPOModel):\n",
    "        default_lattice = \"Chain\"\n",
    "        force_default_lattice = True\n",
    "\n",
    "        # Would it be easier to subclass ClockSite?\n",
    "        def init_sites(self, model_params):\n",
    "            spin = ClockSite(4, conserve=None)\n",
    "            for i in range(4):\n",
    "                for j in range(4):\n",
    "                    X = np.zeros((4,4))\n",
    "                    X[j, i] = 1\n",
    "                    op_name = f\"map_{i}_{j}\"\n",
    "                    spin.add_op(op_name, X)\n",
    "            ferm = FermionSite(conserve=None)\n",
    "            sites = [spin, ferm]\n",
    "            return [spin, ferm], ['s', 'f']\n",
    "\n",
    "        def init_terms(self, model_params):\n",
    "            # Read off model parameters\n",
    "            n1_01, n1_10 = model_params.get('n1', (0,0))\n",
    "            n1_func = get_n1_func(n1_01, n1_10)\n",
    "\n",
    "            non_trivial_proj_rep = model_params.get('non_trivial_proj_rep', False)\n",
    "\n",
    "            group_quads = product(range(4), repeat=4)\n",
    "\n",
    "            for group_quad in group_quads:\n",
    "                op_list = get_op_list_1(group_quad, n1_func)\n",
    "                \n",
    "                if non_trivial_proj_rep:\n",
    "                    phase = get_proj_rep_term_phase(group_quad)\n",
    "                else:\n",
    "                    phase = 1\n",
    "\n",
    "                g_left, *_, g_right = group_quad\n",
    "                if n1_func(g_left, g_right) == 1:\n",
    "                    factor = 2\n",
    "                else:\n",
    "                    factor = 1\n",
    "\n",
    "                self.add_multi_coupling((-1/4)*phase*factor, op_list)"
   ]
  },
  {
   "cell_type": "code",
   "execution_count": 60,
   "metadata": {},
   "outputs": [],
   "source": [
    "models = [\n",
    "    [ClusterFermion1({'L': 50, 'n1': p, 'non_trivial_proj_rep': b}) for p in n1_pairs]\n",
    "    for b in [True, False]\n",
    "]"
   ]
  },
  {
   "cell_type": "code",
   "execution_count": 61,
   "metadata": {},
   "outputs": [
    {
     "data": {
      "text/plain": [
       "[[<__main__.ClusterFermion1 at 0x73732f250a50>,\n",
       "  <__main__.ClusterFermion1 at 0x73732ad2ced0>,\n",
       "  <__main__.ClusterFermion1 at 0x737328de4bd0>,\n",
       "  <__main__.ClusterFermion1 at 0x7373278c47d0>],\n",
       " [<__main__.ClusterFermion1 at 0x73732679c550>,\n",
       "  <__main__.ClusterFermion1 at 0x73732415ced0>,\n",
       "  <__main__.ClusterFermion1 at 0x737323b34ed0>,\n",
       "  <__main__.ClusterFermion1 at 0x7373212f4ed0>]]"
      ]
     },
     "execution_count": 61,
     "metadata": {},
     "output_type": "execute_result"
    }
   ],
   "source": [
    "models"
   ]
  },
  {
   "cell_type": "code",
   "execution_count": 63,
   "metadata": {},
   "outputs": [],
   "source": [
    "psis = [\n",
    "    [MPS.from_lat_product_state(m.lat, [['0', 'empty'],]*50) for m in l]\n",
    "    for l in models\n",
    "]"
   ]
  },
  {
   "cell_type": "code",
   "execution_count": 64,
   "metadata": {},
   "outputs": [],
   "source": [
    "dmrg_params = {\n",
    "    \"trunc_params\": {\"chi_max\": 8, \"chi_min\": 1, \"svd_min\": 1.e-10},\n",
    "    \"min_sweeps\":100,\n",
    "    \"max_sweeps\":200,\n",
    "    \"mixer\": True,\n",
    "    \"combine\":False,\n",
    "    'decay':2,\n",
    "    'amplitude':10e-1,\n",
    "    'disable_after':60,\n",
    "    'update_env':0\n",
    "}"
   ]
  },
  {
   "cell_type": "code",
   "execution_count": 65,
   "metadata": {},
   "outputs": [],
   "source": [
    "for l in psis:\n",
    "    for psi in l:\n",
    "        psi.canonical_form()"
   ]
  },
  {
   "cell_type": "code",
   "execution_count": 67,
   "metadata": {},
   "outputs": [
    {
     "name": "stderr",
     "output_type": "stream",
     "text": [
      "/home/kieranc/Desktop/numerical_spt_classification/code/num_spt_venv_p11/lib/python3.11/site-packages/tenpy/tools/params.py:230: UserWarning: unused options for config TwoSiteDMRGEngine:\n",
      "['amplitude', 'decay', 'disable_after', 'update_env']\n",
      "  warnings.warn(msg.format(keys=sorted(unused), name=self.name))\n",
      "/home/kieranc/Desktop/numerical_spt_classification/code/num_spt_venv_p11/lib/python3.11/site-packages/tenpy/tools/params.py:230: UserWarning: unused options for config TwoSiteDMRGEngine:\n",
      "['amplitude', 'decay', 'disable_after', 'update_env']\n",
      "  warnings.warn(msg.format(keys=sorted(unused), name=self.name))\n",
      "/home/kieranc/Desktop/numerical_spt_classification/code/num_spt_venv_p11/lib/python3.11/site-packages/tenpy/tools/params.py:230: UserWarning: unused options for config TwoSiteDMRGEngine:\n",
      "['amplitude', 'decay', 'disable_after', 'update_env']\n",
      "  warnings.warn(msg.format(keys=sorted(unused), name=self.name))\n",
      "/home/kieranc/Desktop/numerical_spt_classification/code/num_spt_venv_p11/lib/python3.11/site-packages/tenpy/tools/params.py:230: UserWarning: unused options for config TwoSiteDMRGEngine:\n",
      "['amplitude', 'decay', 'disable_after', 'max_E_err', 'max_N_for_ED', 'max_S_err', 'max_trunc_err', 'norm_tol', 'norm_tol_final', 'update_env']\n",
      "  warnings.warn(msg.format(keys=sorted(unused), name=self.name))\n",
      "/home/kieranc/Desktop/numerical_spt_classification/code/num_spt_venv_p11/lib/python3.11/site-packages/tenpy/tools/params.py:230: UserWarning: unused options for config TwoSiteDMRGEngine:\n",
      "['amplitude', 'decay', 'disable_after', 'update_env']\n",
      "  warnings.warn(msg.format(keys=sorted(unused), name=self.name))\n",
      "/home/kieranc/Desktop/numerical_spt_classification/code/num_spt_venv_p11/lib/python3.11/site-packages/tenpy/tools/params.py:230: UserWarning: unused options for config TwoSiteDMRGEngine:\n",
      "['amplitude', 'decay', 'disable_after', 'update_env']\n",
      "  warnings.warn(msg.format(keys=sorted(unused), name=self.name))\n",
      "/home/kieranc/Desktop/numerical_spt_classification/code/num_spt_venv_p11/lib/python3.11/site-packages/tenpy/tools/params.py:230: UserWarning: unused options for config TwoSiteDMRGEngine:\n",
      "['amplitude', 'decay', 'disable_after', 'update_env']\n",
      "  warnings.warn(msg.format(keys=sorted(unused), name=self.name))\n"
     ]
    }
   ],
   "source": [
    "outpsis = list()\n",
    "energies = list()\n",
    "\n",
    "for l1, l2 in zip(psis, models):\n",
    "    outpsis.append(list())\n",
    "    energies.append(list())\n",
    "\n",
    "        \n",
    "    for psi, m in zip(l1, l2):\n",
    "        try:\n",
    "            eng = dmrg.TwoSiteDMRGEngine(psi, m, dmrg_params)\n",
    "            e, psi_out = eng.run()\n",
    "        except:\n",
    "            e, psi_out = None, None\n",
    "\n",
    "        outpsis[-1].append(psi_out)\n",
    "        energies[-1].append(e)"
   ]
  },
  {
   "cell_type": "code",
   "execution_count": 68,
   "metadata": {},
   "outputs": [
    {
     "data": {
      "text/plain": [
       "[[-48.00000000000056, -47.99999999999989, -47.999999999999645, None],\n",
       " [-48.000000000000185,\n",
       "  -47.99999999999984,\n",
       "  -47.99999999999985,\n",
       "  -47.999999999999865]]"
      ]
     },
     "execution_count": 68,
     "metadata": {},
     "output_type": "execute_result"
    }
   ],
   "source": [
    "energies"
   ]
  },
  {
   "cell_type": "code",
   "execution_count": 69,
   "metadata": {},
   "outputs": [
    {
     "data": {
      "text/plain": [
       "100"
      ]
     },
     "execution_count": 69,
     "metadata": {},
     "output_type": "execute_result"
    }
   ],
   "source": [
    "len(outpsis[0][0].sites)"
   ]
  },
  {
   "cell_type": "code",
   "execution_count": 70,
   "metadata": {},
   "outputs": [
    {
     "data": {
      "text/plain": [
       "array([0.5, 0.5, 0.5, 0.5])"
      ]
     },
     "execution_count": 70,
     "metadata": {},
     "output_type": "execute_result"
    }
   ],
   "source": [
    "outpsis[0][0].get_SR(10)"
   ]
  },
  {
   "cell_type": "code",
   "execution_count": 71,
   "metadata": {},
   "outputs": [
    {
     "data": {
      "text/plain": [
       "array([0.5, 0.5, 0.5, 0.5])"
      ]
     },
     "execution_count": 71,
     "metadata": {},
     "output_type": "execute_result"
    }
   ],
   "source": [
    "outpsis[0][0].get_SR(9)"
   ]
  },
  {
   "cell_type": "code",
   "execution_count": 72,
   "metadata": {},
   "outputs": [
    {
     "data": {
      "text/plain": [
       "array([0.5, 0.5, 0.5, 0.5])"
      ]
     },
     "execution_count": 72,
     "metadata": {},
     "output_type": "execute_result"
    }
   ],
   "source": [
    "outpsis[0][0].get_SR(11)"
   ]
  },
  {
   "cell_type": "code",
   "execution_count": 76,
   "metadata": {},
   "outputs": [
    {
     "name": "stderr",
     "output_type": "stream",
     "text": [
      "/tmp/ipykernel_12272/3510999881.py:21: ComplexWarning: Casting complex values to real discards the imaginary part\n",
      "  boson_expectations[i,j,k] = data\n"
     ]
    }
   ],
   "source": [
    "boson_expectations = np.zeros((2, 2, 4, 50))\n",
    "\n",
    "indices = product(\n",
    "    enumerate(['X', 'Z']),\n",
    "    range(2),\n",
    "    range(4)\n",
    ")\n",
    "\n",
    "for (i, op), j, k in indices:\n",
    "    try:\n",
    "        psi = outpsis[j][k]\n",
    "        \n",
    "        data = (\n",
    "            psi\n",
    "            .expectation_value(\n",
    "                op,\n",
    "                list(range(0, 100, 2))\n",
    "            )\n",
    "        )\n",
    "\n",
    "        boson_expectations[i,j,k] = data\n",
    "\n",
    "    except:\n",
    "        boson_expectations[i,j,k] = np.nan"
   ]
  },
  {
   "cell_type": "code",
   "execution_count": 77,
   "metadata": {},
   "outputs": [
    {
     "data": {
      "text/plain": [
       "array([[[ 0.00000000e+00,  6.66133815e-16,  1.19695920e-16,\n",
       "          2.01227923e-16,  8.25728375e-16,  1.78329573e-15,\n",
       "         -1.16053001e-15, -6.55725474e-16, -9.43689571e-16,\n",
       "         -6.92154667e-16, -8.36136715e-16, -1.75554016e-15,\n",
       "          5.89805982e-16,  1.02695630e-15,  7.77156117e-16,\n",
       "         -5.74627151e-16,  8.75601674e-16, -4.32293090e-15,\n",
       "          1.24900090e-15, -3.68455266e-15, -1.80931659e-15,\n",
       "          1.21864324e-15,  2.33146835e-15, -1.35308431e-16,\n",
       "          1.28369537e-16, -9.12464548e-16,  2.16840434e-18,\n",
       "          5.58580959e-16,  4.23272528e-16, -6.04334291e-16,\n",
       "         -1.04430353e-15,  2.31759056e-15, -2.77555756e-17,\n",
       "         -1.95503336e-15, -1.41553436e-15,  1.09287579e-16,\n",
       "          1.74860126e-15,  3.09127723e-15, -8.95117314e-16,\n",
       "         -2.17534324e-15, -3.33066907e-16, -9.05525654e-16,\n",
       "         -2.71657696e-15,  1.31665512e-15,  7.28583860e-17,\n",
       "          5.20417043e-17, -1.29757316e-15, -1.47798440e-15,\n",
       "          4.16333634e-15,  0.00000000e+00],\n",
       "        [ 0.00000000e+00, -5.00000000e-01, -5.00000000e-01,\n",
       "         -5.00000000e-01, -5.00000000e-01, -5.00000000e-01,\n",
       "         -5.00000000e-01, -5.00000000e-01, -5.00000000e-01,\n",
       "         -5.00000000e-01, -5.00000000e-01, -5.00000000e-01,\n",
       "         -5.00000000e-01, -5.00000000e-01, -5.00000000e-01,\n",
       "         -5.00000000e-01, -5.00000000e-01, -5.00000000e-01,\n",
       "         -5.00000000e-01, -5.00000000e-01, -5.00000000e-01,\n",
       "         -5.00000000e-01, -5.00000000e-01, -5.00000000e-01,\n",
       "         -5.00000000e-01, -5.00000000e-01, -5.00000000e-01,\n",
       "         -5.00000000e-01, -5.00000000e-01, -5.00000000e-01,\n",
       "         -5.00000000e-01, -5.00000000e-01, -5.00000000e-01,\n",
       "         -5.00000000e-01, -5.00000000e-01, -5.00000000e-01,\n",
       "         -5.00000000e-01, -5.00000000e-01, -5.00000000e-01,\n",
       "         -5.00000000e-01, -5.00000000e-01, -5.00000000e-01,\n",
       "         -5.00000000e-01, -5.00000000e-01, -5.00000000e-01,\n",
       "         -5.00000000e-01, -5.00000000e-01, -5.00000000e-01,\n",
       "         -5.00000000e-01,  0.00000000e+00],\n",
       "        [ 0.00000000e+00,  1.65660790e-29,  0.00000000e+00,\n",
       "          0.00000000e+00,  0.00000000e+00,  0.00000000e+00,\n",
       "          0.00000000e+00,  4.14151975e-30,  0.00000000e+00,\n",
       "          1.65660790e-29,  0.00000000e+00,  0.00000000e+00,\n",
       "          0.00000000e+00,  0.00000000e+00,  0.00000000e+00,\n",
       "         -1.97215226e-31, -1.95243074e-29, -9.21364885e-30,\n",
       "          1.23259516e-32,  4.93038066e-30, -1.57772181e-30,\n",
       "          8.28303950e-30,  0.00000000e+00,  5.52202634e-30,\n",
       "          0.00000000e+00,  0.00000000e+00,  0.00000000e+00,\n",
       "          0.00000000e+00,  0.00000000e+00,  0.00000000e+00,\n",
       "          0.00000000e+00,  6.11367202e-30, -6.11367202e-30,\n",
       "          6.31088724e-30,  0.00000000e+00,  0.00000000e+00,\n",
       "         -2.95822839e-31,  5.66993776e-30,  3.94430453e-30,\n",
       "          5.71924156e-30, -6.62643160e-29,  8.08582428e-30,\n",
       "          6.65601389e-31,  1.32134202e-29,  0.00000000e+00,\n",
       "          0.00000000e+00,  0.00000000e+00,  0.00000000e+00,\n",
       "          0.00000000e+00,  0.00000000e+00],\n",
       "        [            nan,             nan,             nan,\n",
       "                     nan,             nan,             nan,\n",
       "                     nan,             nan,             nan,\n",
       "                     nan,             nan,             nan,\n",
       "                     nan,             nan,             nan,\n",
       "                     nan,             nan,             nan,\n",
       "                     nan,             nan,             nan,\n",
       "                     nan,             nan,             nan,\n",
       "                     nan,             nan,             nan,\n",
       "                     nan,             nan,             nan,\n",
       "                     nan,             nan,             nan,\n",
       "                     nan,             nan,             nan,\n",
       "                     nan,             nan,             nan,\n",
       "                     nan,             nan,             nan,\n",
       "                     nan,             nan,             nan,\n",
       "                     nan,             nan,             nan,\n",
       "                     nan,             nan]],\n",
       "\n",
       "       [[ 0.00000000e+00,  1.00000000e+00,  1.00000000e+00,\n",
       "          1.00000000e+00,  1.00000000e+00,  1.00000000e+00,\n",
       "          1.00000000e+00,  1.00000000e+00,  1.00000000e+00,\n",
       "          1.00000000e+00,  1.00000000e+00,  1.00000000e+00,\n",
       "          1.00000000e+00,  1.00000000e+00,  1.00000000e+00,\n",
       "          1.00000000e+00,  1.00000000e+00,  1.00000000e+00,\n",
       "          1.00000000e+00,  1.00000000e+00,  1.00000000e+00,\n",
       "          1.00000000e+00,  1.00000000e+00,  1.00000000e+00,\n",
       "          1.00000000e+00,  1.00000000e+00,  1.00000000e+00,\n",
       "          1.00000000e+00,  1.00000000e+00,  1.00000000e+00,\n",
       "          1.00000000e+00,  1.00000000e+00,  1.00000000e+00,\n",
       "          1.00000000e+00,  1.00000000e+00,  1.00000000e+00,\n",
       "          1.00000000e+00,  1.00000000e+00,  1.00000000e+00,\n",
       "          1.00000000e+00,  1.00000000e+00,  1.00000000e+00,\n",
       "          1.00000000e+00,  1.00000000e+00,  1.00000000e+00,\n",
       "          1.00000000e+00,  1.00000000e+00,  1.00000000e+00,\n",
       "          1.00000000e+00,  0.00000000e+00],\n",
       "        [ 0.00000000e+00,  5.00000000e-01,  5.00000000e-01,\n",
       "          5.00000000e-01,  5.00000000e-01,  5.00000000e-01,\n",
       "          5.00000000e-01,  5.00000000e-01,  5.00000000e-01,\n",
       "          5.00000000e-01,  5.00000000e-01,  5.00000000e-01,\n",
       "          5.00000000e-01,  5.00000000e-01,  5.00000000e-01,\n",
       "          5.00000000e-01,  5.00000000e-01,  5.00000000e-01,\n",
       "          5.00000000e-01,  5.00000000e-01,  5.00000000e-01,\n",
       "          5.00000000e-01,  5.00000000e-01,  5.00000000e-01,\n",
       "          5.00000000e-01,  5.00000000e-01,  5.00000000e-01,\n",
       "          5.00000000e-01,  5.00000000e-01,  5.00000000e-01,\n",
       "          5.00000000e-01,  5.00000000e-01,  5.00000000e-01,\n",
       "          5.00000000e-01,  5.00000000e-01,  5.00000000e-01,\n",
       "          5.00000000e-01,  5.00000000e-01,  5.00000000e-01,\n",
       "          5.00000000e-01,  5.00000000e-01,  5.00000000e-01,\n",
       "          5.00000000e-01,  5.00000000e-01,  5.00000000e-01,\n",
       "          5.00000000e-01,  5.00000000e-01,  5.00000000e-01,\n",
       "          5.00000000e-01,  0.00000000e+00],\n",
       "        [ 0.00000000e+00,  3.86368322e-15,  0.00000000e+00,\n",
       "         -2.82616643e-15,  0.00000000e+00, -2.82616643e-15,\n",
       "          0.00000000e+00,  0.00000000e+00,  0.00000000e+00,\n",
       "         -2.82616643e-15, -3.68525442e-16,  0.00000000e+00,\n",
       "         -4.40033630e-61,  0.00000000e+00,  3.55271368e-15,\n",
       "          0.00000000e+00,  0.00000000e+00, -3.83817312e-15,\n",
       "         -2.88657986e-15,  0.00000000e+00, -2.82616643e-15,\n",
       "          4.15840656e-15, -2.95137443e-15, -2.82616643e-15,\n",
       "          0.00000000e+00,  0.00000000e+00,  0.00000000e+00,\n",
       "          0.00000000e+00,  0.00000000e+00, -3.85908404e-15,\n",
       "          6.08410828e-16, -2.82616643e-15,  0.00000000e+00,\n",
       "          5.02148104e-15,  3.77124407e-17,  2.82616643e-15,\n",
       "          0.00000000e+00,  0.00000000e+00,  2.88657986e-15,\n",
       "         -2.82616643e-15,  0.00000000e+00,  0.00000000e+00,\n",
       "          2.88657986e-15, -2.82616643e-15,  0.00000000e+00,\n",
       "          3.14018492e-16,  7.58007465e-17,  0.00000000e+00,\n",
       "          4.71027738e-15,  0.00000000e+00],\n",
       "        [ 0.00000000e+00,  5.00000000e-01,  5.00000000e-01,\n",
       "          5.00000000e-01,  5.00000000e-01,  5.00000000e-01,\n",
       "          5.00000000e-01,  5.00000000e-01,  5.00000000e-01,\n",
       "          5.00000000e-01,  5.00000000e-01,  5.00000000e-01,\n",
       "          5.00000000e-01,  5.00000000e-01,  5.00000000e-01,\n",
       "          5.00000000e-01,  5.00000000e-01,  5.00000000e-01,\n",
       "          5.00000000e-01,  5.00000000e-01,  5.00000000e-01,\n",
       "          5.00000000e-01,  5.00000000e-01,  5.00000000e-01,\n",
       "          5.00000000e-01,  5.00000000e-01,  5.00000000e-01,\n",
       "          5.00000000e-01,  5.00000000e-01,  5.00000000e-01,\n",
       "          5.00000000e-01,  5.00000000e-01,  5.00000000e-01,\n",
       "          5.00000000e-01,  5.00000000e-01,  5.00000000e-01,\n",
       "          5.00000000e-01,  5.00000000e-01,  5.00000000e-01,\n",
       "          5.00000000e-01,  5.00000000e-01,  5.00000000e-01,\n",
       "          5.00000000e-01,  5.00000000e-01,  5.00000000e-01,\n",
       "          5.00000000e-01,  5.00000000e-01,  5.00000000e-01,\n",
       "          5.00000000e-01,  0.00000000e+00]]])"
      ]
     },
     "execution_count": 77,
     "metadata": {},
     "output_type": "execute_result"
    }
   ],
   "source": [
    "boson_expectations[0]"
   ]
  },
  {
   "cell_type": "code",
   "execution_count": 78,
   "metadata": {},
   "outputs": [
    {
     "data": {
      "text/plain": [
       "array([[[ 1.00000000e+00, -1.78190795e-14, -1.07136522e-14,\n",
       "         -1.31145095e-15, -6.60582700e-15,  2.13717932e-15,\n",
       "         -2.83106871e-14, -4.45823933e-15, -5.68989300e-15,\n",
       "          2.15799600e-14, -1.61676228e-14,  1.74860126e-14,\n",
       "         -1.91513472e-14, -4.86069518e-15,  1.08246745e-14,\n",
       "         -1.39055434e-14,  3.02813330e-14, -1.17683641e-14,\n",
       "          1.20459198e-14,  1.60149671e-14,  6.80011603e-16,\n",
       "         -2.14828155e-14,  2.27734498e-14, -1.04014020e-14,\n",
       "          2.76167977e-14, -2.17326157e-14,  2.14828155e-14,\n",
       "         -6.85562718e-15, -1.83499049e-14, -2.22773189e-14,\n",
       "          1.31700206e-14, -2.96984659e-14,  1.91235916e-14,\n",
       "          2.14550600e-14,  2.81302759e-14,  2.74225087e-14,\n",
       "         -2.20934382e-14, -8.82627305e-15,  3.41809914e-14,\n",
       "         -1.65562009e-14, -3.27515792e-15,  1.32394096e-14,\n",
       "          2.21767049e-14, -3.55826479e-14,  1.27259314e-14,\n",
       "          2.61735078e-14,  3.34454686e-15,  2.09554596e-15,\n",
       "          3.30638295e-15,  1.00000000e+00],\n",
       "        [-1.00000000e+00, -5.00000000e-01,  5.00000000e-01,\n",
       "          5.00000000e-01, -5.00000000e-01, -5.00000000e-01,\n",
       "          5.00000000e-01,  5.00000000e-01, -5.00000000e-01,\n",
       "         -5.00000000e-01,  5.00000000e-01,  5.00000000e-01,\n",
       "         -5.00000000e-01, -5.00000000e-01,  5.00000000e-01,\n",
       "          5.00000000e-01, -5.00000000e-01, -5.00000000e-01,\n",
       "          5.00000000e-01,  5.00000000e-01, -5.00000000e-01,\n",
       "         -5.00000000e-01,  5.00000000e-01,  5.00000000e-01,\n",
       "         -5.00000000e-01, -5.00000000e-01,  5.00000000e-01,\n",
       "          5.00000000e-01, -5.00000000e-01, -5.00000000e-01,\n",
       "          5.00000000e-01,  5.00000000e-01, -5.00000000e-01,\n",
       "         -5.00000000e-01,  5.00000000e-01,  5.00000000e-01,\n",
       "         -5.00000000e-01, -5.00000000e-01,  5.00000000e-01,\n",
       "          5.00000000e-01, -5.00000000e-01, -5.00000000e-01,\n",
       "          5.00000000e-01,  5.00000000e-01, -5.00000000e-01,\n",
       "         -5.00000000e-01,  5.00000000e-01,  5.00000000e-01,\n",
       "         -5.00000000e-01, -1.00000000e+00],\n",
       "        [ 6.12323400e-17, -6.12323400e-17,  0.00000000e+00,\n",
       "          0.00000000e+00, -6.12323400e-17, -6.12323400e-17,\n",
       "          0.00000000e+00, -3.66373598e-15, -6.12323400e-17,\n",
       "         -6.12323400e-17,  0.00000000e+00,  0.00000000e+00,\n",
       "         -6.12323400e-17, -6.12323400e-17,  0.00000000e+00,\n",
       "          2.49800181e-15, -6.12323400e-17, -6.12323400e-17,\n",
       "         -4.71844785e-15, -4.10782519e-15, -6.12323400e-17,\n",
       "         -6.12323400e-17, -8.60422844e-15, -4.71844785e-15,\n",
       "         -6.12323400e-17, -6.12323400e-17,  0.00000000e+00,\n",
       "          0.00000000e+00, -6.12323400e-17, -6.12323400e-17,\n",
       "          0.00000000e+00, -5.16253706e-15, -6.12323400e-17,\n",
       "         -6.12323400e-17,  0.00000000e+00,  0.00000000e+00,\n",
       "         -6.12323400e-17, -6.12323400e-17, -3.06421555e-14,\n",
       "         -4.82947016e-15, -6.12323400e-17, -6.12323400e-17,\n",
       "         -4.71844785e-15,  1.11577414e-14, -6.12323400e-17,\n",
       "         -6.12323400e-17,  0.00000000e+00,  0.00000000e+00,\n",
       "         -6.12323400e-17,  6.12323400e-17],\n",
       "        [            nan,             nan,             nan,\n",
       "                     nan,             nan,             nan,\n",
       "                     nan,             nan,             nan,\n",
       "                     nan,             nan,             nan,\n",
       "                     nan,             nan,             nan,\n",
       "                     nan,             nan,             nan,\n",
       "                     nan,             nan,             nan,\n",
       "                     nan,             nan,             nan,\n",
       "                     nan,             nan,             nan,\n",
       "                     nan,             nan,             nan,\n",
       "                     nan,             nan,             nan,\n",
       "                     nan,             nan,             nan,\n",
       "                     nan,             nan,             nan,\n",
       "                     nan,             nan,             nan,\n",
       "                     nan,             nan,             nan,\n",
       "                     nan,             nan,             nan,\n",
       "                     nan,             nan]],\n",
       "\n",
       "       [[ 1.00000000e+00,  5.09187257e-16,  4.53676106e-16,\n",
       "         -9.95466475e-15,  6.75720711e-16, -9.73262014e-15,\n",
       "         -9.73262014e-15,  9.72403836e-15,  5.09187257e-16,\n",
       "          5.09187257e-16,  5.09187257e-16, -7.95626331e-15,\n",
       "          6.75720711e-16,  1.06429877e-15,  1.06429877e-15,\n",
       "          1.06429877e-15,  1.06429877e-15,  1.06429877e-15,\n",
       "          6.75720711e-16, -9.78813130e-15,  6.75720711e-16,\n",
       "         -9.78813130e-15,  6.75720711e-16, -9.78813130e-15,\n",
       "          1.06429877e-15,  1.06429877e-15,  1.06429877e-15,\n",
       "          6.75720711e-16, -9.78813130e-15,  6.75720711e-16,\n",
       "         -9.73262014e-15,  5.09187257e-16,  4.53676106e-16,\n",
       "         -1.01211982e-14,  4.53676106e-16, -1.01211982e-14,\n",
       "          4.53676106e-16, -1.01211982e-14,  4.53676106e-16,\n",
       "          4.53676106e-16,  4.53676106e-16, -1.01211982e-14,\n",
       "          4.53676106e-16,  4.53676106e-16,  4.53676106e-16,\n",
       "          4.53676106e-16,  4.53676106e-16,  1.12783506e-14,\n",
       "          3.11821137e-15,  1.00000000e+00],\n",
       "        [-1.00000000e+00, -5.00000000e-01,  5.00000000e-01,\n",
       "          5.00000000e-01, -5.00000000e-01, -5.00000000e-01,\n",
       "          5.00000000e-01,  5.00000000e-01, -5.00000000e-01,\n",
       "         -5.00000000e-01,  5.00000000e-01,  5.00000000e-01,\n",
       "         -5.00000000e-01, -5.00000000e-01,  5.00000000e-01,\n",
       "          5.00000000e-01, -5.00000000e-01, -5.00000000e-01,\n",
       "          5.00000000e-01,  5.00000000e-01, -5.00000000e-01,\n",
       "         -5.00000000e-01,  5.00000000e-01,  5.00000000e-01,\n",
       "         -5.00000000e-01, -5.00000000e-01,  5.00000000e-01,\n",
       "          5.00000000e-01, -5.00000000e-01, -5.00000000e-01,\n",
       "          5.00000000e-01,  5.00000000e-01, -5.00000000e-01,\n",
       "         -5.00000000e-01,  5.00000000e-01,  5.00000000e-01,\n",
       "         -5.00000000e-01, -5.00000000e-01,  5.00000000e-01,\n",
       "          5.00000000e-01, -5.00000000e-01, -5.00000000e-01,\n",
       "          5.00000000e-01,  5.00000000e-01, -5.00000000e-01,\n",
       "         -5.00000000e-01,  5.00000000e-01,  5.00000000e-01,\n",
       "         -5.00000000e-01, -1.00000000e+00],\n",
       "        [ 6.12323400e-17, -6.12323400e-17, -1.66533454e-16,\n",
       "         -1.02140518e-14, -6.12323400e-17, -6.12323400e-17,\n",
       "          0.00000000e+00,  0.00000000e+00, -6.12323400e-17,\n",
       "         -6.12323400e-17, -1.90958360e-14,  0.00000000e+00,\n",
       "         -6.12323400e-17, -6.12323400e-17,  2.55351296e-15,\n",
       "          0.00000000e+00, -6.12323400e-17, -6.12323400e-17,\n",
       "         -9.43689571e-15,  0.00000000e+00, -6.12323400e-17,\n",
       "         -6.12323400e-17,  1.32116540e-14, -8.93729535e-15,\n",
       "         -6.12323400e-17, -6.12323400e-17,  0.00000000e+00,\n",
       "          0.00000000e+00, -6.12323400e-17, -6.12323400e-17,\n",
       "         -8.43769499e-15, -9.15933995e-15, -6.12323400e-17,\n",
       "         -6.12323400e-17,  3.49720253e-15,  9.99200722e-15,\n",
       "         -6.12323400e-17, -6.12323400e-17,  1.00475184e-14,\n",
       "         -8.82627305e-15, -6.12323400e-17, -6.12323400e-17,\n",
       "          7.27196081e-15, -7.93809463e-15, -6.12323400e-17,\n",
       "         -6.12323400e-17,  1.98174810e-14,  0.00000000e+00,\n",
       "         -6.12323400e-17,  6.12323400e-17],\n",
       "        [ 6.12323400e-17, -5.00000000e-01,  5.00000000e-01,\n",
       "          5.00000000e-01, -5.00000000e-01, -5.00000000e-01,\n",
       "          5.00000000e-01,  5.00000000e-01, -5.00000000e-01,\n",
       "         -5.00000000e-01,  5.00000000e-01,  5.00000000e-01,\n",
       "         -5.00000000e-01, -5.00000000e-01,  5.00000000e-01,\n",
       "          5.00000000e-01, -5.00000000e-01, -5.00000000e-01,\n",
       "          5.00000000e-01,  5.00000000e-01, -5.00000000e-01,\n",
       "         -5.00000000e-01,  5.00000000e-01,  5.00000000e-01,\n",
       "         -5.00000000e-01, -5.00000000e-01,  5.00000000e-01,\n",
       "          5.00000000e-01, -5.00000000e-01, -5.00000000e-01,\n",
       "          5.00000000e-01,  5.00000000e-01, -5.00000000e-01,\n",
       "         -5.00000000e-01,  5.00000000e-01,  5.00000000e-01,\n",
       "         -5.00000000e-01, -5.00000000e-01,  5.00000000e-01,\n",
       "          5.00000000e-01, -5.00000000e-01, -5.00000000e-01,\n",
       "          5.00000000e-01,  5.00000000e-01, -5.00000000e-01,\n",
       "         -5.00000000e-01,  5.00000000e-01,  5.00000000e-01,\n",
       "         -5.00000000e-01, -1.00000000e+00]]])"
      ]
     },
     "execution_count": 78,
     "metadata": {},
     "output_type": "execute_result"
    }
   ],
   "source": [
    "boson_expectations[1]"
   ]
  },
  {
   "cell_type": "code",
   "execution_count": 80,
   "metadata": {},
   "outputs": [],
   "source": [
    "fermion_number_expectations = np.zeros((2, 4, 50))\n",
    "\n",
    "indices = product(\n",
    "    range(2),\n",
    "    range(4)\n",
    ")\n",
    "\n",
    "for j, k in indices:\n",
    "    try:\n",
    "        psi = outpsis[j][k]\n",
    "        \n",
    "        data = (\n",
    "            psi\n",
    "            .expectation_value(\n",
    "                'N',\n",
    "                list(range(1, 100, 2))\n",
    "            )\n",
    "        )\n",
    "\n",
    "        fermion_number_expectations[j,k] = data\n",
    "\n",
    "    except:\n",
    "        fermion_number_expectations[j,k] = np.nan"
   ]
  },
  {
   "cell_type": "code",
   "execution_count": 81,
   "metadata": {},
   "outputs": [
    {
     "data": {
      "text/plain": [
       "array([[[0.00000000e+00, 3.01375446e-56, 1.00000000e+00, 1.00000000e+00,\n",
       "         1.00000000e+00, 2.62626836e-31, 1.00000000e+00, 1.00000000e+00,\n",
       "         1.08230361e-31, 4.49142978e-33, 2.89228035e-32, 1.00000000e+00,\n",
       "         5.51992560e-33, 1.00000000e+00, 1.16447982e-31, 3.25843542e-29,\n",
       "         1.00000000e+00, 1.46036760e-33, 8.03581152e-32, 1.00000000e+00,\n",
       "         1.00000000e+00, 3.08243493e-32, 1.00000000e+00, 2.18479170e-32,\n",
       "         1.40895260e-31, 7.83943620e-32, 2.81670154e-33, 1.00000000e+00,\n",
       "         1.19649879e-31, 1.12591474e-32, 3.71022446e-32, 2.64253162e-32,\n",
       "         2.99992830e-32, 1.00000000e+00, 1.00000000e+00, 3.96313786e-31,\n",
       "         1.00000000e+00, 4.94528204e-32, 1.00000000e+00, 6.47982854e-32,\n",
       "         2.15064247e-32, 2.32647044e-32, 5.44654487e-31, 2.27821783e-32,\n",
       "         1.55787800e-32, 3.34399118e-31, 3.72176003e-33, 1.69611837e-32,\n",
       "         1.40833975e-28, 0.00000000e+00],\n",
       "        [0.00000000e+00, 1.00000000e+00, 0.00000000e+00, 1.00000000e+00,\n",
       "         0.00000000e+00, 1.00000000e+00, 0.00000000e+00, 1.00000000e+00,\n",
       "         0.00000000e+00, 1.00000000e+00, 0.00000000e+00, 1.00000000e+00,\n",
       "         0.00000000e+00, 1.00000000e+00, 0.00000000e+00, 1.00000000e+00,\n",
       "         0.00000000e+00, 1.00000000e+00, 0.00000000e+00, 1.00000000e+00,\n",
       "         0.00000000e+00, 1.00000000e+00, 0.00000000e+00, 1.00000000e+00,\n",
       "         0.00000000e+00, 1.00000000e+00, 0.00000000e+00, 1.00000000e+00,\n",
       "         0.00000000e+00, 1.00000000e+00, 0.00000000e+00, 1.00000000e+00,\n",
       "         0.00000000e+00, 1.00000000e+00, 0.00000000e+00, 1.00000000e+00,\n",
       "         0.00000000e+00, 1.00000000e+00, 0.00000000e+00, 1.00000000e+00,\n",
       "         0.00000000e+00, 1.00000000e+00, 0.00000000e+00, 1.00000000e+00,\n",
       "         0.00000000e+00, 1.00000000e+00, 0.00000000e+00, 1.00000000e+00,\n",
       "         0.00000000e+00, 0.00000000e+00],\n",
       "        [0.00000000e+00, 1.00000000e+00, 0.00000000e+00, 1.00000000e+00,\n",
       "         1.00000000e+00, 1.00000000e+00, 0.00000000e+00, 1.00000000e+00,\n",
       "         1.00000000e+00, 1.00000000e+00, 0.00000000e+00, 1.00000000e+00,\n",
       "         1.00000000e+00, 1.00000000e+00, 0.00000000e+00, 1.00000000e+00,\n",
       "         5.06792189e-02, 1.00000000e+00, 1.00000000e+00, 1.00000000e+00,\n",
       "         9.28996730e-01, 1.00000000e+00, 0.00000000e+00, 1.00000000e+00,\n",
       "         1.00000000e+00, 1.00000000e+00, 0.00000000e+00, 1.00000000e+00,\n",
       "         1.00000000e+00, 1.00000000e+00, 0.00000000e+00, 1.00000000e+00,\n",
       "         9.88334077e-01, 1.00000000e+00, 0.00000000e+00, 1.00000000e+00,\n",
       "         6.84779324e-01, 1.00000000e+00, 1.00000000e+00, 1.00000000e+00,\n",
       "         6.29978134e-01, 1.00000000e+00, 0.00000000e+00, 1.00000000e+00,\n",
       "         1.00000000e+00, 1.00000000e+00, 1.00000000e+00, 1.00000000e+00,\n",
       "         1.00000000e+00, 0.00000000e+00],\n",
       "        [           nan,            nan,            nan,            nan,\n",
       "                    nan,            nan,            nan,            nan,\n",
       "                    nan,            nan,            nan,            nan,\n",
       "                    nan,            nan,            nan,            nan,\n",
       "                    nan,            nan,            nan,            nan,\n",
       "                    nan,            nan,            nan,            nan,\n",
       "                    nan,            nan,            nan,            nan,\n",
       "                    nan,            nan,            nan,            nan,\n",
       "                    nan,            nan,            nan,            nan,\n",
       "                    nan,            nan,            nan,            nan,\n",
       "                    nan,            nan,            nan,            nan,\n",
       "                    nan,            nan,            nan,            nan,\n",
       "                    nan,            nan]],\n",
       "\n",
       "       [[0.00000000e+00, 0.00000000e+00, 9.19022249e-01, 9.45547969e-01,\n",
       "         0.00000000e+00, 0.00000000e+00, 0.00000000e+00, 1.00000000e+00,\n",
       "         9.19022249e-01, 0.00000000e+00, 5.00000000e-01, 1.00000000e+00,\n",
       "         1.00000000e+00, 9.45547969e-01, 9.45547969e-01, 9.45547969e-01,\n",
       "         9.45547969e-01, 9.45547969e-01, 0.00000000e+00, 9.45547969e-01,\n",
       "         0.00000000e+00, 9.45547969e-01, 0.00000000e+00, 9.45547969e-01,\n",
       "         9.45547969e-01, 9.45547969e-01, 9.45547969e-01, 0.00000000e+00,\n",
       "         9.45547969e-01, 0.00000000e+00, 0.00000000e+00, 0.00000000e+00,\n",
       "         7.20330290e-01, 0.00000000e+00, 9.19022249e-01, 0.00000000e+00,\n",
       "         9.19022249e-01, 0.00000000e+00, 5.00000000e-01, 5.00000000e-01,\n",
       "         7.20330290e-01, 0.00000000e+00, 7.20330290e-01, 5.00000000e-01,\n",
       "         9.19022249e-01, 5.00000000e-01, 7.20330290e-01, 0.00000000e+00,\n",
       "         2.07199247e-29, 0.00000000e+00],\n",
       "        [0.00000000e+00, 1.00000000e+00, 0.00000000e+00, 1.00000000e+00,\n",
       "         0.00000000e+00, 1.00000000e+00, 0.00000000e+00, 1.00000000e+00,\n",
       "         0.00000000e+00, 1.00000000e+00, 0.00000000e+00, 1.00000000e+00,\n",
       "         0.00000000e+00, 1.00000000e+00, 0.00000000e+00, 1.00000000e+00,\n",
       "         0.00000000e+00, 1.00000000e+00, 0.00000000e+00, 1.00000000e+00,\n",
       "         0.00000000e+00, 1.00000000e+00, 0.00000000e+00, 1.00000000e+00,\n",
       "         0.00000000e+00, 1.00000000e+00, 0.00000000e+00, 1.00000000e+00,\n",
       "         0.00000000e+00, 1.00000000e+00, 0.00000000e+00, 1.00000000e+00,\n",
       "         0.00000000e+00, 1.00000000e+00, 0.00000000e+00, 1.00000000e+00,\n",
       "         0.00000000e+00, 1.00000000e+00, 0.00000000e+00, 1.00000000e+00,\n",
       "         0.00000000e+00, 1.00000000e+00, 0.00000000e+00, 1.00000000e+00,\n",
       "         0.00000000e+00, 1.00000000e+00, 0.00000000e+00, 1.00000000e+00,\n",
       "         0.00000000e+00, 0.00000000e+00],\n",
       "        [5.62113359e-02, 1.00000000e+00, 0.00000000e+00, 1.00000000e+00,\n",
       "         0.00000000e+00, 1.00000000e+00, 0.00000000e+00, 1.00000000e+00,\n",
       "         0.00000000e+00, 1.00000000e+00, 0.00000000e+00, 1.00000000e+00,\n",
       "         1.00000000e+00, 1.00000000e+00, 1.00000000e+00, 1.00000000e+00,\n",
       "         9.94678591e-01, 1.00000000e+00, 0.00000000e+00, 1.00000000e+00,\n",
       "         0.00000000e+00, 1.00000000e+00, 1.00000000e+00, 1.00000000e+00,\n",
       "         1.00000000e+00, 1.00000000e+00, 0.00000000e+00, 1.00000000e+00,\n",
       "         9.48794377e-01, 1.00000000e+00, 1.00000000e+00, 1.00000000e+00,\n",
       "         1.05053064e-03, 1.00000000e+00, 0.00000000e+00, 1.00000000e+00,\n",
       "         1.00000000e+00, 1.00000000e+00, 0.00000000e+00, 1.00000000e+00,\n",
       "         1.00000000e+00, 1.00000000e+00, 0.00000000e+00, 1.00000000e+00,\n",
       "         0.00000000e+00, 1.00000000e+00, 0.00000000e+00, 1.00000000e+00,\n",
       "         0.00000000e+00, 0.00000000e+00],\n",
       "        [0.00000000e+00, 1.00000000e+00, 0.00000000e+00, 1.00000000e+00,\n",
       "         4.16599526e-03, 1.00000000e+00, 0.00000000e+00, 1.00000000e+00,\n",
       "         9.89446845e-01, 1.00000000e+00, 0.00000000e+00, 1.00000000e+00,\n",
       "         9.88688505e-01, 1.00000000e+00, 0.00000000e+00, 1.00000000e+00,\n",
       "         9.98761274e-01, 1.00000000e+00, 0.00000000e+00, 1.00000000e+00,\n",
       "         6.37428229e-02, 1.00000000e+00, 0.00000000e+00, 1.00000000e+00,\n",
       "         1.64810999e-02, 1.00000000e+00, 0.00000000e+00, 1.00000000e+00,\n",
       "         8.15057596e-01, 1.00000000e+00, 0.00000000e+00, 1.00000000e+00,\n",
       "         1.00000000e+00, 1.00000000e+00, 0.00000000e+00, 1.00000000e+00,\n",
       "         1.00000000e+00, 1.00000000e+00, 0.00000000e+00, 1.00000000e+00,\n",
       "         1.00000000e+00, 1.00000000e+00, 0.00000000e+00, 1.00000000e+00,\n",
       "         1.00000000e+00, 1.00000000e+00, 0.00000000e+00, 1.00000000e+00,\n",
       "         1.49507942e-56, 0.00000000e+00]]])"
      ]
     },
     "execution_count": 81,
     "metadata": {},
     "output_type": "execute_result"
    }
   ],
   "source": [
    "fermion_number_expectations"
   ]
  },
  {
   "cell_type": "code",
   "execution_count": 85,
   "metadata": {},
   "outputs": [
    {
     "name": "stderr",
     "output_type": "stream",
     "text": [
      "/tmp/ipykernel_12272/290460682.py:23: ComplexWarning: Casting complex values to real discards the imaginary part\n",
      "  boson_correlations[i,j,k] = data\n"
     ]
    }
   ],
   "source": [
    "boson_correlations = np.zeros((2, 2, 4, 50, 50))\n",
    "\n",
    "indices = product(\n",
    "    enumerate(['X', 'Z']),\n",
    "    range(2),\n",
    "    range(4)\n",
    ")\n",
    "\n",
    "for (i, op), j, k in indices:\n",
    "    try:\n",
    "        psi = outpsis[j][k]\n",
    "        \n",
    "        data = (\n",
    "            psi\n",
    "            .correlation_function(\n",
    "                op,\n",
    "                op,\n",
    "                list(range(0, 100, 2)),\n",
    "                list(range(0, 100, 2)),\n",
    "            )\n",
    "        )\n",
    "    \n",
    "        boson_correlations[i,j,k] = data\n",
    "\n",
    "    except:\n",
    "        boson_correlations[i,j,k] = np.nan"
   ]
  },
  {
   "cell_type": "code",
   "execution_count": 88,
   "metadata": {},
   "outputs": [
    {
     "data": {
      "text/plain": [
       "array([[[ 6.40949485e-31,  2.50000000e-01,  0.00000000e+00,\n",
       "                     nan],\n",
       "        [ 1.00000000e+00,  2.50000000e-01,  1.81990196e-29,\n",
       "          2.50000000e-01]],\n",
       "\n",
       "       [[ 2.30051561e-28,  1.66533454e-16,  0.00000000e+00,\n",
       "                     nan],\n",
       "        [ 2.27413808e-30,  8.32667268e-17, -1.94059783e-28,\n",
       "          2.41473508e-15]]])"
      ]
     },
     "execution_count": 88,
     "metadata": {},
     "output_type": "execute_result"
    }
   ],
   "source": [
    "boson_correlations[..., 1, -2]"
   ]
  },
  {
   "cell_type": "code",
   "execution_count": 91,
   "metadata": {},
   "outputs": [],
   "source": [
    "fermion_correlations = np.zeros((2, 4, 50, 50))\n",
    "\n",
    "indices = product(\n",
    "    range(2),\n",
    "    range(4)\n",
    ")\n",
    "\n",
    "for j, k in indices:\n",
    "    try:\n",
    "        psi = outpsis[j][k]\n",
    "        \n",
    "        data = (\n",
    "            psi\n",
    "            .correlation_function(\n",
    "                'N',\n",
    "                'N',\n",
    "                list(range(1, 101, 2)),\n",
    "                list(range(1, 101, 2)),\n",
    "            )\n",
    "        )\n",
    "    \n",
    "        fermion_correlations[j,k] = data\n",
    "\n",
    "    except:\n",
    "        fermion_correlations[j,k] = np.nan"
   ]
  },
  {
   "cell_type": "code",
   "execution_count": 92,
   "metadata": {},
   "outputs": [
    {
     "data": {
      "text/plain": [
       "array([[4.24439020e-84, 0.00000000e+00, 1.00000000e+00,            nan],\n",
       "       [0.00000000e+00, 0.00000000e+00, 0.00000000e+00, 1.49507942e-56]])"
      ]
     },
     "execution_count": 92,
     "metadata": {},
     "output_type": "execute_result"
    }
   ],
   "source": [
    "fermion_correlations[..., 1, -2]"
   ]
  },
  {
   "cell_type": "code",
   "execution_count": 93,
   "metadata": {},
   "outputs": [],
   "source": [
    "reduced_boson_correlations = (\n",
    "    boson_correlations -\n",
    "    boson_expectations[...,np.newaxis]*boson_expectations[...,np.newaxis,:]\n",
    ")"
   ]
  },
  {
   "cell_type": "code",
   "execution_count": 97,
   "metadata": {},
   "outputs": [
    {
     "data": {
      "text/plain": [
       "array([[[-2.13238963e-30, -5.82867088e-16,  0.00000000e+00,\n",
       "                     nan],\n",
       "        [ 3.77475828e-15, -9.71445147e-16, -8.68805048e-44,\n",
       "         -6.66133815e-16]],\n",
       "\n",
       "       [[ 2.88968262e-28, -2.50000000e-01, -3.74939946e-33,\n",
       "                     nan],\n",
       "        [ 6.86384585e-31, -2.50000000e-01, -1.94063532e-28,\n",
       "         -2.50000000e-01]]])"
      ]
     },
     "execution_count": 97,
     "metadata": {},
     "output_type": "execute_result"
    }
   ],
   "source": [
    "reduced_boson_correlations[...,1,-2]"
   ]
  },
  {
   "cell_type": "code",
   "execution_count": 95,
   "metadata": {},
   "outputs": [],
   "source": [
    "reduced_fermion_correlations = (\n",
    "    fermion_correlations -\n",
    "    fermion_number_expectations[...,np.newaxis]*fermion_number_expectations[...,np.newaxis,:]\n",
    ")"
   ]
  },
  {
   "cell_type": "code",
   "execution_count": 98,
   "metadata": {},
   "outputs": [
    {
     "data": {
      "text/plain": [
       "array([[ 4.93770553e-98,  0.00000000e+00, -6.43929354e-15,\n",
       "                    nan],\n",
       "       [ 0.00000000e+00,  0.00000000e+00,  0.00000000e+00,\n",
       "        -3.62227163e-71]])"
      ]
     },
     "execution_count": 98,
     "metadata": {},
     "output_type": "execute_result"
    }
   ],
   "source": [
    "reduced_fermion_correlations[...,1,-2]"
   ]
  }
 ],
 "metadata": {
  "kernelspec": {
   "display_name": "num_spt_venv_p11",
   "language": "python",
   "name": "num_spt_venv_p11"
  },
  "language_info": {
   "codemirror_mode": {
    "name": "ipython",
    "version": 3
   },
   "file_extension": ".py",
   "mimetype": "text/x-python",
   "name": "python",
   "nbconvert_exporter": "python",
   "pygments_lexer": "ipython3",
   "version": "3.11.11"
  }
 },
 "nbformat": 4,
 "nbformat_minor": 4
}
