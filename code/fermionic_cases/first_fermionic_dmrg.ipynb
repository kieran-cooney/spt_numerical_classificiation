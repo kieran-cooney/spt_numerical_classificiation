{
 "cells": [
  {
   "cell_type": "markdown",
   "metadata": {},
   "source": [
    "# First fermionic DMRG\n",
    "\n",
    "Created 03/01/2025\n",
    "\n",
    "Objectives:\n",
    "* Construct the 1D fermionic spt states from the Wang & Gu paper, first pass. Work out the case with trivial projective representation first.\n",
    "* Not sure of anyway to test the states...? Apart from running the SPT classification on them."
   ]
  },
  {
   "cell_type": "markdown",
   "metadata": {},
   "source": [
    "# Imports"
   ]
  },
  {
   "cell_type": "code",
   "execution_count": 1,
   "metadata": {
    "editable": true,
    "slideshow": {
     "slide_type": ""
    },
    "tags": []
   },
   "outputs": [],
   "source": [
    "import numpy as np\n",
    "import scipy\n",
    "import matplotlib.pyplot as plt"
   ]
  },
  {
   "cell_type": "code",
   "execution_count": 2,
   "metadata": {},
   "outputs": [],
   "source": [
    "from itertools import product"
   ]
  },
  {
   "cell_type": "code",
   "execution_count": 3,
   "metadata": {},
   "outputs": [],
   "source": [
    "import tenpy\n",
    "import tenpy.linalg.np_conserved as npc\n",
    "from tenpy.algorithms import dmrg\n",
    "from tenpy.networks.mps import MPS"
   ]
  },
  {
   "cell_type": "code",
   "execution_count": 4,
   "metadata": {},
   "outputs": [],
   "source": [
    "from tenpy.networks.site import ClockSite, FermionSite\n",
    "from tenpy.models.lattice import Chain\n",
    "from tenpy.models.model import CouplingModel, NearestNeighborModel, MPOModel, CouplingMPOModel"
   ]
  },
  {
   "cell_type": "code",
   "execution_count": 5,
   "metadata": {},
   "outputs": [],
   "source": [
    "def mod_4_to_bit(x):    \n",
    "    possible_mod_4_values = list(range(4))\n",
    "    assert x in possible_mod_4_values\n",
    "\n",
    "    x0 = x % 2\n",
    "    x1 = ((x - x0) // 2) % 2\n",
    "\n",
    "    return (x0, x1)"
   ]
  },
  {
   "cell_type": "code",
   "execution_count": 6,
   "metadata": {},
   "outputs": [],
   "source": [
    "def bit_to_mod_4(bit_pair):\n",
    "    x0, x1 = bit_pair\n",
    "\n",
    "    possible_mod_2_values = list(range(2))\n",
    "    assert x0 in possible_mod_2_values\n",
    "    assert x1 in possible_mod_2_values\n",
    "\n",
    "    return x0 + 2*x1"
   ]
  },
  {
   "cell_type": "code",
   "execution_count": 7,
   "metadata": {},
   "outputs": [],
   "source": [
    "def mod_4_to_bit_addition(x, y):\n",
    "    (x0, x1) = mod_4_to_bit(x)\n",
    "    (y0, y1) = mod_4_to_bit(y)\n",
    "\n",
    "    out0 = (x0 + y0) % 2\n",
    "    out1 = (x1 + y1) % 2\n",
    "\n",
    "    out = bit_to_mod_4((out0, out1))\n",
    "\n",
    "    return out"
   ]
  },
  {
   "cell_type": "code",
   "execution_count": 8,
   "metadata": {},
   "outputs": [
    {
     "data": {
      "text/plain": [
       "array([[0, 1, 2, 3],\n",
       "       [1, 0, 3, 2],\n",
       "       [2, 3, 0, 1],\n",
       "       [3, 2, 1, 0]])"
      ]
     },
     "execution_count": 8,
     "metadata": {},
     "output_type": "execute_result"
    }
   ],
   "source": [
    "np.array([\n",
    "    [\n",
    "        mod_4_to_bit_addition(x, y) for x in range(4)\n",
    "    ]\n",
    "    for y in range(4)\n",
    "])"
   ]
  },
  {
   "cell_type": "code",
   "execution_count": 9,
   "metadata": {},
   "outputs": [],
   "source": [
    "def get_n1_func(n1_01, n1_10):\n",
    "    l = [0, n1_01, n1_10, (n1_01 + n1_10)%2]\n",
    "    \n",
    "    def f(g1, g2):\n",
    "        i = mod_4_to_bit_addition(g1, g2)\n",
    "        return l[i]\n",
    "\n",
    "    return f"
   ]
  },
  {
   "cell_type": "code",
   "execution_count": 10,
   "metadata": {},
   "outputs": [],
   "source": [
    "n1_pair_to_fermion_operators_dict = {\n",
    "    (0, 0): \"Id\",\n",
    "    (0, 1): \"C\",\n",
    "    (1, 0): \"Cd\",\n",
    "    (1, 1): \"N\"\n",
    "}"
   ]
  },
  {
   "cell_type": "code",
   "execution_count": 11,
   "metadata": {},
   "outputs": [],
   "source": [
    "def get_op_list(g_quad, n1_func):\n",
    "    out = list()\n",
    "    g_left, g_in, g_out, g_right = g_quad\n",
    "\n",
    "    out.append((f'map_{g_left}_{g_left}', 0, 0))\n",
    "\n",
    "    left_fermion_op_string = n1_pair_to_fermion_operators_dict[\n",
    "        (n1_func(g_left, g_in), n1_func(g_left, g_out))\n",
    "    ]\n",
    "\n",
    "    out.append((left_fermion_op_string, 0, 1))\n",
    "    \n",
    "    out.append((f'map_{g_in}_{g_out}', 1, 0))\n",
    "\n",
    "    right_fermion_op_string = n1_pair_to_fermion_operators_dict[\n",
    "        (n1_func(g_in, g_right), n1_func(g_out, g_right))\n",
    "    ]\n",
    "\n",
    "    out.append((right_fermion_op_string, 1, 1))\n",
    "    \n",
    "    out.append((f'map_{g_right}_{g_right}', 2, 0))\n",
    "\n",
    "    return out"
   ]
  },
  {
   "cell_type": "code",
   "execution_count": 12,
   "metadata": {},
   "outputs": [],
   "source": [
    "class ClusterIsingFermion(CouplingMPOModel):\n",
    "        default_lattice = \"Chain\"\n",
    "        force_default_lattice = True\n",
    "\n",
    "        # Would it be easier to subclass ClockSite?\n",
    "        def init_sites(self, model_params):\n",
    "            spin = ClockSite(4, conserve=None)\n",
    "            for i in range(4):\n",
    "                for j in range(4):\n",
    "                    X = np.zeros((4,4))\n",
    "                    X[j, i] = 1\n",
    "                    op_name = f\"map_{i}_{j}\"\n",
    "                    spin.add_op(op_name, X)\n",
    "            ferm = FermionSite(conserve=None)\n",
    "            sites = [spin, ferm]\n",
    "            return [spin, ferm], ['s', 'f']\n",
    "\n",
    "        def init_terms(self, model_params):\n",
    "            # Read off model parameters\n",
    "            n1_01, n1_10 = model_params.get('n1', (0,0))\n",
    "            n1_func = get_n1_func(n1_01, n1_10)\n",
    "            \n",
    "            group_quads = product(range(4), repeat=4)\n",
    "\n",
    "            for group_quad in group_quads:\n",
    "                op_list = get_op_list(group_quad, n1_func)\n",
    "                self.add_multi_coupling(-1/4, op_list)"
   ]
  },
  {
   "cell_type": "code",
   "execution_count": 13,
   "metadata": {},
   "outputs": [],
   "source": [
    "M = ClusterIsingFermion({'L': 20})"
   ]
  },
  {
   "cell_type": "code",
   "execution_count": 13,
   "metadata": {},
   "outputs": [],
   "source": [
    "n1_pairs = [\n",
    "    (0, 0),\n",
    "    (0, 1),\n",
    "    (1, 0),\n",
    "    (1, 1)\n",
    "]"
   ]
  },
  {
   "cell_type": "code",
   "execution_count": 15,
   "metadata": {},
   "outputs": [],
   "source": [
    "models = [\n",
    "    ClusterIsingFermion({'L': 20, 'n1': p}) for p in n1_pairs\n",
    "]"
   ]
  },
  {
   "cell_type": "code",
   "execution_count": 16,
   "metadata": {},
   "outputs": [
    {
     "data": {
      "text/plain": [
       "__main__.ClusterIsingFermion"
      ]
     },
     "execution_count": 16,
     "metadata": {},
     "output_type": "execute_result"
    }
   ],
   "source": [
    "type(models[0])"
   ]
  },
  {
   "cell_type": "code",
   "execution_count": 17,
   "metadata": {},
   "outputs": [
    {
     "data": {
      "text/plain": [
       "[<__main__.ClusterIsingFermion at 0x737338446690>,\n",
       " <__main__.ClusterIsingFermion at 0x737337829ed0>,\n",
       " <__main__.ClusterIsingFermion at 0x737336614550>,\n",
       " <__main__.ClusterIsingFermion at 0x73733393a7d0>]"
      ]
     },
     "execution_count": 17,
     "metadata": {},
     "output_type": "execute_result"
    }
   ],
   "source": [
    "models"
   ]
  },
  {
   "cell_type": "code",
   "execution_count": 18,
   "metadata": {},
   "outputs": [],
   "source": [
    "mpo = models[0].calc_H_MPO()"
   ]
  },
  {
   "cell_type": "code",
   "execution_count": 19,
   "metadata": {},
   "outputs": [
    {
     "data": {
      "text/plain": [
       "<npc.Array shape=(2, 6, 4, 4) labels=['wL', 'wR', 'p', 'p*']>"
      ]
     },
     "execution_count": 19,
     "metadata": {},
     "output_type": "execute_result"
    }
   ],
   "source": [
    "mpo.get_W(0)"
   ]
  },
  {
   "cell_type": "code",
   "execution_count": 20,
   "metadata": {},
   "outputs": [
    {
     "data": {
      "text/plain": [
       "array([[[[1., 0., 0., 0.],\n",
       "         [0., 1., 0., 0.],\n",
       "         [0., 0., 1., 0.],\n",
       "         [0., 0., 0., 1.]],\n",
       "\n",
       "        [[1., 0., 0., 0.],\n",
       "         [0., 0., 0., 0.],\n",
       "         [0., 0., 0., 0.],\n",
       "         [0., 0., 0., 0.]],\n",
       "\n",
       "        [[0., 0., 0., 0.],\n",
       "         [0., 1., 0., 0.],\n",
       "         [0., 0., 0., 0.],\n",
       "         [0., 0., 0., 0.]],\n",
       "\n",
       "        [[0., 0., 0., 0.],\n",
       "         [0., 0., 0., 0.],\n",
       "         [0., 0., 1., 0.],\n",
       "         [0., 0., 0., 0.]],\n",
       "\n",
       "        [[0., 0., 0., 0.],\n",
       "         [0., 0., 0., 0.],\n",
       "         [0., 0., 0., 0.],\n",
       "         [0., 0., 0., 1.]],\n",
       "\n",
       "        [[0., 0., 0., 0.],\n",
       "         [0., 0., 0., 0.],\n",
       "         [0., 0., 0., 0.],\n",
       "         [0., 0., 0., 0.]]],\n",
       "\n",
       "\n",
       "       [[[0., 0., 0., 0.],\n",
       "         [0., 0., 0., 0.],\n",
       "         [0., 0., 0., 0.],\n",
       "         [0., 0., 0., 0.]],\n",
       "\n",
       "        [[0., 0., 0., 0.],\n",
       "         [0., 0., 0., 0.],\n",
       "         [0., 0., 0., 0.],\n",
       "         [0., 0., 0., 0.]],\n",
       "\n",
       "        [[0., 0., 0., 0.],\n",
       "         [0., 0., 0., 0.],\n",
       "         [0., 0., 0., 0.],\n",
       "         [0., 0., 0., 0.]],\n",
       "\n",
       "        [[0., 0., 0., 0.],\n",
       "         [0., 0., 0., 0.],\n",
       "         [0., 0., 0., 0.],\n",
       "         [0., 0., 0., 0.]],\n",
       "\n",
       "        [[0., 0., 0., 0.],\n",
       "         [0., 0., 0., 0.],\n",
       "         [0., 0., 0., 0.],\n",
       "         [0., 0., 0., 0.]],\n",
       "\n",
       "        [[1., 0., 0., 0.],\n",
       "         [0., 1., 0., 0.],\n",
       "         [0., 0., 1., 0.],\n",
       "         [0., 0., 0., 1.]]]])"
      ]
     },
     "execution_count": 20,
     "metadata": {},
     "output_type": "execute_result"
    }
   ],
   "source": [
    "mpo.get_W(0).to_ndarray()"
   ]
  },
  {
   "cell_type": "code",
   "execution_count": 21,
   "metadata": {},
   "outputs": [
    {
     "data": {
      "text/plain": [
       "<npc.Array shape=(6, 6, 2, 2) labels=['wL', 'wR', 'p', 'p*']>"
      ]
     },
     "execution_count": 21,
     "metadata": {},
     "output_type": "execute_result"
    }
   ],
   "source": [
    "mpo.get_W(1)"
   ]
  },
  {
   "cell_type": "code",
   "execution_count": 22,
   "metadata": {},
   "outputs": [
    {
     "data": {
      "text/plain": [
       "array([[[[1., 0.],\n",
       "         [0., 1.]],\n",
       "\n",
       "        [[0., 0.],\n",
       "         [0., 0.]],\n",
       "\n",
       "        [[0., 0.],\n",
       "         [0., 0.]],\n",
       "\n",
       "        [[0., 0.],\n",
       "         [0., 0.]],\n",
       "\n",
       "        [[0., 0.],\n",
       "         [0., 0.]],\n",
       "\n",
       "        [[0., 0.],\n",
       "         [0., 0.]]],\n",
       "\n",
       "\n",
       "       [[[0., 0.],\n",
       "         [0., 0.]],\n",
       "\n",
       "        [[1., 0.],\n",
       "         [0., 1.]],\n",
       "\n",
       "        [[0., 0.],\n",
       "         [0., 0.]],\n",
       "\n",
       "        [[0., 0.],\n",
       "         [0., 0.]],\n",
       "\n",
       "        [[0., 0.],\n",
       "         [0., 0.]],\n",
       "\n",
       "        [[0., 0.],\n",
       "         [0., 0.]]],\n",
       "\n",
       "\n",
       "       [[[0., 0.],\n",
       "         [0., 0.]],\n",
       "\n",
       "        [[0., 0.],\n",
       "         [0., 0.]],\n",
       "\n",
       "        [[1., 0.],\n",
       "         [0., 1.]],\n",
       "\n",
       "        [[0., 0.],\n",
       "         [0., 0.]],\n",
       "\n",
       "        [[0., 0.],\n",
       "         [0., 0.]],\n",
       "\n",
       "        [[0., 0.],\n",
       "         [0., 0.]]],\n",
       "\n",
       "\n",
       "       [[[0., 0.],\n",
       "         [0., 0.]],\n",
       "\n",
       "        [[0., 0.],\n",
       "         [0., 0.]],\n",
       "\n",
       "        [[0., 0.],\n",
       "         [0., 0.]],\n",
       "\n",
       "        [[1., 0.],\n",
       "         [0., 1.]],\n",
       "\n",
       "        [[0., 0.],\n",
       "         [0., 0.]],\n",
       "\n",
       "        [[0., 0.],\n",
       "         [0., 0.]]],\n",
       "\n",
       "\n",
       "       [[[0., 0.],\n",
       "         [0., 0.]],\n",
       "\n",
       "        [[0., 0.],\n",
       "         [0., 0.]],\n",
       "\n",
       "        [[0., 0.],\n",
       "         [0., 0.]],\n",
       "\n",
       "        [[0., 0.],\n",
       "         [0., 0.]],\n",
       "\n",
       "        [[1., 0.],\n",
       "         [0., 1.]],\n",
       "\n",
       "        [[0., 0.],\n",
       "         [0., 0.]]],\n",
       "\n",
       "\n",
       "       [[[0., 0.],\n",
       "         [0., 0.]],\n",
       "\n",
       "        [[0., 0.],\n",
       "         [0., 0.]],\n",
       "\n",
       "        [[0., 0.],\n",
       "         [0., 0.]],\n",
       "\n",
       "        [[0., 0.],\n",
       "         [0., 0.]],\n",
       "\n",
       "        [[0., 0.],\n",
       "         [0., 0.]],\n",
       "\n",
       "        [[1., 0.],\n",
       "         [0., 1.]]]])"
      ]
     },
     "execution_count": 22,
     "metadata": {},
     "output_type": "execute_result"
    }
   ],
   "source": [
    "mpo.get_W(1).to_ndarray()"
   ]
  },
  {
   "cell_type": "code",
   "execution_count": 23,
   "metadata": {},
   "outputs": [
    {
     "data": {
      "text/plain": [
       "array([[[[ 1.  ,  0.  ,  0.  ,  0.  ],\n",
       "         [ 0.  ,  1.  ,  0.  ,  0.  ],\n",
       "         [ 0.  ,  0.  ,  1.  ,  0.  ],\n",
       "         [ 0.  ,  0.  ,  0.  ,  1.  ]],\n",
       "\n",
       "        [[ 1.  ,  0.  ,  0.  ,  0.  ],\n",
       "         [ 0.  ,  0.  ,  0.  ,  0.  ],\n",
       "         [ 0.  ,  0.  ,  0.  ,  0.  ],\n",
       "         [ 0.  ,  0.  ,  0.  ,  0.  ]],\n",
       "\n",
       "        [[ 0.  ,  0.  ,  0.  ,  0.  ],\n",
       "         [ 0.  ,  1.  ,  0.  ,  0.  ],\n",
       "         [ 0.  ,  0.  ,  0.  ,  0.  ],\n",
       "         [ 0.  ,  0.  ,  0.  ,  0.  ]],\n",
       "\n",
       "        [[ 0.  ,  0.  ,  0.  ,  0.  ],\n",
       "         [ 0.  ,  0.  ,  0.  ,  0.  ],\n",
       "         [ 0.  ,  0.  ,  1.  ,  0.  ],\n",
       "         [ 0.  ,  0.  ,  0.  ,  0.  ]],\n",
       "\n",
       "        [[ 0.  ,  0.  ,  0.  ,  0.  ],\n",
       "         [ 0.  ,  0.  ,  0.  ,  0.  ],\n",
       "         [ 0.  ,  0.  ,  0.  ,  0.  ],\n",
       "         [ 0.  ,  0.  ,  0.  ,  1.  ]],\n",
       "\n",
       "        [[ 0.  ,  0.  ,  0.  ,  0.  ],\n",
       "         [ 0.  ,  0.  ,  0.  ,  0.  ],\n",
       "         [ 0.  ,  0.  ,  0.  ,  0.  ],\n",
       "         [ 0.  ,  0.  ,  0.  ,  0.  ]],\n",
       "\n",
       "        [[ 0.  ,  0.  ,  0.  ,  0.  ],\n",
       "         [ 0.  ,  0.  ,  0.  ,  0.  ],\n",
       "         [ 0.  ,  0.  ,  0.  ,  0.  ],\n",
       "         [ 0.  ,  0.  ,  0.  ,  0.  ]],\n",
       "\n",
       "        [[ 0.  ,  0.  ,  0.  ,  0.  ],\n",
       "         [ 0.  ,  0.  ,  0.  ,  0.  ],\n",
       "         [ 0.  ,  0.  ,  0.  ,  0.  ],\n",
       "         [ 0.  ,  0.  ,  0.  ,  0.  ]],\n",
       "\n",
       "        [[ 0.  ,  0.  ,  0.  ,  0.  ],\n",
       "         [ 0.  ,  0.  ,  0.  ,  0.  ],\n",
       "         [ 0.  ,  0.  ,  0.  ,  0.  ],\n",
       "         [ 0.  ,  0.  ,  0.  ,  0.  ]],\n",
       "\n",
       "        [[ 0.  ,  0.  ,  0.  ,  0.  ],\n",
       "         [ 0.  ,  0.  ,  0.  ,  0.  ],\n",
       "         [ 0.  ,  0.  ,  0.  ,  0.  ],\n",
       "         [ 0.  ,  0.  ,  0.  ,  0.  ]]],\n",
       "\n",
       "\n",
       "       [[[ 0.  ,  0.  ,  0.  ,  0.  ],\n",
       "         [ 0.  ,  0.  ,  0.  ,  0.  ],\n",
       "         [ 0.  ,  0.  ,  0.  ,  0.  ],\n",
       "         [ 0.  ,  0.  ,  0.  ,  0.  ]],\n",
       "\n",
       "        [[ 0.  ,  0.  ,  0.  ,  0.  ],\n",
       "         [ 0.  ,  0.  ,  0.  ,  0.  ],\n",
       "         [ 0.  ,  0.  ,  0.  ,  0.  ],\n",
       "         [ 0.  ,  0.  ,  0.  ,  0.  ]],\n",
       "\n",
       "        [[ 0.  ,  0.  ,  0.  ,  0.  ],\n",
       "         [ 0.  ,  0.  ,  0.  ,  0.  ],\n",
       "         [ 0.  ,  0.  ,  0.  ,  0.  ],\n",
       "         [ 0.  ,  0.  ,  0.  ,  0.  ]],\n",
       "\n",
       "        [[ 0.  ,  0.  ,  0.  ,  0.  ],\n",
       "         [ 0.  ,  0.  ,  0.  ,  0.  ],\n",
       "         [ 0.  ,  0.  ,  0.  ,  0.  ],\n",
       "         [ 0.  ,  0.  ,  0.  ,  0.  ]],\n",
       "\n",
       "        [[ 0.  ,  0.  ,  0.  ,  0.  ],\n",
       "         [ 0.  ,  0.  ,  0.  ,  0.  ],\n",
       "         [ 0.  ,  0.  ,  0.  ,  0.  ],\n",
       "         [ 0.  ,  0.  ,  0.  ,  0.  ]],\n",
       "\n",
       "        [[-0.25, -0.25, -0.25, -0.25],\n",
       "         [-0.25, -0.25, -0.25, -0.25],\n",
       "         [-0.25, -0.25, -0.25, -0.25],\n",
       "         [-0.25, -0.25, -0.25, -0.25]],\n",
       "\n",
       "        [[-0.25, -0.25, -0.25, -0.25],\n",
       "         [-0.25, -0.25, -0.25, -0.25],\n",
       "         [-0.25, -0.25, -0.25, -0.25],\n",
       "         [-0.25, -0.25, -0.25, -0.25]],\n",
       "\n",
       "        [[-0.25, -0.25, -0.25, -0.25],\n",
       "         [-0.25, -0.25, -0.25, -0.25],\n",
       "         [-0.25, -0.25, -0.25, -0.25],\n",
       "         [-0.25, -0.25, -0.25, -0.25]],\n",
       "\n",
       "        [[-0.25, -0.25, -0.25, -0.25],\n",
       "         [-0.25, -0.25, -0.25, -0.25],\n",
       "         [-0.25, -0.25, -0.25, -0.25],\n",
       "         [-0.25, -0.25, -0.25, -0.25]],\n",
       "\n",
       "        [[ 0.  ,  0.  ,  0.  ,  0.  ],\n",
       "         [ 0.  ,  0.  ,  0.  ,  0.  ],\n",
       "         [ 0.  ,  0.  ,  0.  ,  0.  ],\n",
       "         [ 0.  ,  0.  ,  0.  ,  0.  ]]],\n",
       "\n",
       "\n",
       "       [[[ 0.  ,  0.  ,  0.  ,  0.  ],\n",
       "         [ 0.  ,  0.  ,  0.  ,  0.  ],\n",
       "         [ 0.  ,  0.  ,  0.  ,  0.  ],\n",
       "         [ 0.  ,  0.  ,  0.  ,  0.  ]],\n",
       "\n",
       "        [[ 0.  ,  0.  ,  0.  ,  0.  ],\n",
       "         [ 0.  ,  0.  ,  0.  ,  0.  ],\n",
       "         [ 0.  ,  0.  ,  0.  ,  0.  ],\n",
       "         [ 0.  ,  0.  ,  0.  ,  0.  ]],\n",
       "\n",
       "        [[ 0.  ,  0.  ,  0.  ,  0.  ],\n",
       "         [ 0.  ,  0.  ,  0.  ,  0.  ],\n",
       "         [ 0.  ,  0.  ,  0.  ,  0.  ],\n",
       "         [ 0.  ,  0.  ,  0.  ,  0.  ]],\n",
       "\n",
       "        [[ 0.  ,  0.  ,  0.  ,  0.  ],\n",
       "         [ 0.  ,  0.  ,  0.  ,  0.  ],\n",
       "         [ 0.  ,  0.  ,  0.  ,  0.  ],\n",
       "         [ 0.  ,  0.  ,  0.  ,  0.  ]],\n",
       "\n",
       "        [[ 0.  ,  0.  ,  0.  ,  0.  ],\n",
       "         [ 0.  ,  0.  ,  0.  ,  0.  ],\n",
       "         [ 0.  ,  0.  ,  0.  ,  0.  ],\n",
       "         [ 0.  ,  0.  ,  0.  ,  0.  ]],\n",
       "\n",
       "        [[-0.25, -0.25, -0.25, -0.25],\n",
       "         [-0.25, -0.25, -0.25, -0.25],\n",
       "         [-0.25, -0.25, -0.25, -0.25],\n",
       "         [-0.25, -0.25, -0.25, -0.25]],\n",
       "\n",
       "        [[-0.25, -0.25, -0.25, -0.25],\n",
       "         [-0.25, -0.25, -0.25, -0.25],\n",
       "         [-0.25, -0.25, -0.25, -0.25],\n",
       "         [-0.25, -0.25, -0.25, -0.25]],\n",
       "\n",
       "        [[-0.25, -0.25, -0.25, -0.25],\n",
       "         [-0.25, -0.25, -0.25, -0.25],\n",
       "         [-0.25, -0.25, -0.25, -0.25],\n",
       "         [-0.25, -0.25, -0.25, -0.25]],\n",
       "\n",
       "        [[-0.25, -0.25, -0.25, -0.25],\n",
       "         [-0.25, -0.25, -0.25, -0.25],\n",
       "         [-0.25, -0.25, -0.25, -0.25],\n",
       "         [-0.25, -0.25, -0.25, -0.25]],\n",
       "\n",
       "        [[ 0.  ,  0.  ,  0.  ,  0.  ],\n",
       "         [ 0.  ,  0.  ,  0.  ,  0.  ],\n",
       "         [ 0.  ,  0.  ,  0.  ,  0.  ],\n",
       "         [ 0.  ,  0.  ,  0.  ,  0.  ]]],\n",
       "\n",
       "\n",
       "       [[[ 0.  ,  0.  ,  0.  ,  0.  ],\n",
       "         [ 0.  ,  0.  ,  0.  ,  0.  ],\n",
       "         [ 0.  ,  0.  ,  0.  ,  0.  ],\n",
       "         [ 0.  ,  0.  ,  0.  ,  0.  ]],\n",
       "\n",
       "        [[ 0.  ,  0.  ,  0.  ,  0.  ],\n",
       "         [ 0.  ,  0.  ,  0.  ,  0.  ],\n",
       "         [ 0.  ,  0.  ,  0.  ,  0.  ],\n",
       "         [ 0.  ,  0.  ,  0.  ,  0.  ]],\n",
       "\n",
       "        [[ 0.  ,  0.  ,  0.  ,  0.  ],\n",
       "         [ 0.  ,  0.  ,  0.  ,  0.  ],\n",
       "         [ 0.  ,  0.  ,  0.  ,  0.  ],\n",
       "         [ 0.  ,  0.  ,  0.  ,  0.  ]],\n",
       "\n",
       "        [[ 0.  ,  0.  ,  0.  ,  0.  ],\n",
       "         [ 0.  ,  0.  ,  0.  ,  0.  ],\n",
       "         [ 0.  ,  0.  ,  0.  ,  0.  ],\n",
       "         [ 0.  ,  0.  ,  0.  ,  0.  ]],\n",
       "\n",
       "        [[ 0.  ,  0.  ,  0.  ,  0.  ],\n",
       "         [ 0.  ,  0.  ,  0.  ,  0.  ],\n",
       "         [ 0.  ,  0.  ,  0.  ,  0.  ],\n",
       "         [ 0.  ,  0.  ,  0.  ,  0.  ]],\n",
       "\n",
       "        [[-0.25, -0.25, -0.25, -0.25],\n",
       "         [-0.25, -0.25, -0.25, -0.25],\n",
       "         [-0.25, -0.25, -0.25, -0.25],\n",
       "         [-0.25, -0.25, -0.25, -0.25]],\n",
       "\n",
       "        [[-0.25, -0.25, -0.25, -0.25],\n",
       "         [-0.25, -0.25, -0.25, -0.25],\n",
       "         [-0.25, -0.25, -0.25, -0.25],\n",
       "         [-0.25, -0.25, -0.25, -0.25]],\n",
       "\n",
       "        [[-0.25, -0.25, -0.25, -0.25],\n",
       "         [-0.25, -0.25, -0.25, -0.25],\n",
       "         [-0.25, -0.25, -0.25, -0.25],\n",
       "         [-0.25, -0.25, -0.25, -0.25]],\n",
       "\n",
       "        [[-0.25, -0.25, -0.25, -0.25],\n",
       "         [-0.25, -0.25, -0.25, -0.25],\n",
       "         [-0.25, -0.25, -0.25, -0.25],\n",
       "         [-0.25, -0.25, -0.25, -0.25]],\n",
       "\n",
       "        [[ 0.  ,  0.  ,  0.  ,  0.  ],\n",
       "         [ 0.  ,  0.  ,  0.  ,  0.  ],\n",
       "         [ 0.  ,  0.  ,  0.  ,  0.  ],\n",
       "         [ 0.  ,  0.  ,  0.  ,  0.  ]]],\n",
       "\n",
       "\n",
       "       [[[ 0.  ,  0.  ,  0.  ,  0.  ],\n",
       "         [ 0.  ,  0.  ,  0.  ,  0.  ],\n",
       "         [ 0.  ,  0.  ,  0.  ,  0.  ],\n",
       "         [ 0.  ,  0.  ,  0.  ,  0.  ]],\n",
       "\n",
       "        [[ 0.  ,  0.  ,  0.  ,  0.  ],\n",
       "         [ 0.  ,  0.  ,  0.  ,  0.  ],\n",
       "         [ 0.  ,  0.  ,  0.  ,  0.  ],\n",
       "         [ 0.  ,  0.  ,  0.  ,  0.  ]],\n",
       "\n",
       "        [[ 0.  ,  0.  ,  0.  ,  0.  ],\n",
       "         [ 0.  ,  0.  ,  0.  ,  0.  ],\n",
       "         [ 0.  ,  0.  ,  0.  ,  0.  ],\n",
       "         [ 0.  ,  0.  ,  0.  ,  0.  ]],\n",
       "\n",
       "        [[ 0.  ,  0.  ,  0.  ,  0.  ],\n",
       "         [ 0.  ,  0.  ,  0.  ,  0.  ],\n",
       "         [ 0.  ,  0.  ,  0.  ,  0.  ],\n",
       "         [ 0.  ,  0.  ,  0.  ,  0.  ]],\n",
       "\n",
       "        [[ 0.  ,  0.  ,  0.  ,  0.  ],\n",
       "         [ 0.  ,  0.  ,  0.  ,  0.  ],\n",
       "         [ 0.  ,  0.  ,  0.  ,  0.  ],\n",
       "         [ 0.  ,  0.  ,  0.  ,  0.  ]],\n",
       "\n",
       "        [[-0.25, -0.25, -0.25, -0.25],\n",
       "         [-0.25, -0.25, -0.25, -0.25],\n",
       "         [-0.25, -0.25, -0.25, -0.25],\n",
       "         [-0.25, -0.25, -0.25, -0.25]],\n",
       "\n",
       "        [[-0.25, -0.25, -0.25, -0.25],\n",
       "         [-0.25, -0.25, -0.25, -0.25],\n",
       "         [-0.25, -0.25, -0.25, -0.25],\n",
       "         [-0.25, -0.25, -0.25, -0.25]],\n",
       "\n",
       "        [[-0.25, -0.25, -0.25, -0.25],\n",
       "         [-0.25, -0.25, -0.25, -0.25],\n",
       "         [-0.25, -0.25, -0.25, -0.25],\n",
       "         [-0.25, -0.25, -0.25, -0.25]],\n",
       "\n",
       "        [[-0.25, -0.25, -0.25, -0.25],\n",
       "         [-0.25, -0.25, -0.25, -0.25],\n",
       "         [-0.25, -0.25, -0.25, -0.25],\n",
       "         [-0.25, -0.25, -0.25, -0.25]],\n",
       "\n",
       "        [[ 0.  ,  0.  ,  0.  ,  0.  ],\n",
       "         [ 0.  ,  0.  ,  0.  ,  0.  ],\n",
       "         [ 0.  ,  0.  ,  0.  ,  0.  ],\n",
       "         [ 0.  ,  0.  ,  0.  ,  0.  ]]],\n",
       "\n",
       "\n",
       "       [[[ 0.  ,  0.  ,  0.  ,  0.  ],\n",
       "         [ 0.  ,  0.  ,  0.  ,  0.  ],\n",
       "         [ 0.  ,  0.  ,  0.  ,  0.  ],\n",
       "         [ 0.  ,  0.  ,  0.  ,  0.  ]],\n",
       "\n",
       "        [[ 0.  ,  0.  ,  0.  ,  0.  ],\n",
       "         [ 0.  ,  0.  ,  0.  ,  0.  ],\n",
       "         [ 0.  ,  0.  ,  0.  ,  0.  ],\n",
       "         [ 0.  ,  0.  ,  0.  ,  0.  ]],\n",
       "\n",
       "        [[ 0.  ,  0.  ,  0.  ,  0.  ],\n",
       "         [ 0.  ,  0.  ,  0.  ,  0.  ],\n",
       "         [ 0.  ,  0.  ,  0.  ,  0.  ],\n",
       "         [ 0.  ,  0.  ,  0.  ,  0.  ]],\n",
       "\n",
       "        [[ 0.  ,  0.  ,  0.  ,  0.  ],\n",
       "         [ 0.  ,  0.  ,  0.  ,  0.  ],\n",
       "         [ 0.  ,  0.  ,  0.  ,  0.  ],\n",
       "         [ 0.  ,  0.  ,  0.  ,  0.  ]],\n",
       "\n",
       "        [[ 0.  ,  0.  ,  0.  ,  0.  ],\n",
       "         [ 0.  ,  0.  ,  0.  ,  0.  ],\n",
       "         [ 0.  ,  0.  ,  0.  ,  0.  ],\n",
       "         [ 0.  ,  0.  ,  0.  ,  0.  ]],\n",
       "\n",
       "        [[ 0.  ,  0.  ,  0.  ,  0.  ],\n",
       "         [ 0.  ,  0.  ,  0.  ,  0.  ],\n",
       "         [ 0.  ,  0.  ,  0.  ,  0.  ],\n",
       "         [ 0.  ,  0.  ,  0.  ,  0.  ]],\n",
       "\n",
       "        [[ 0.  ,  0.  ,  0.  ,  0.  ],\n",
       "         [ 0.  ,  0.  ,  0.  ,  0.  ],\n",
       "         [ 0.  ,  0.  ,  0.  ,  0.  ],\n",
       "         [ 0.  ,  0.  ,  0.  ,  0.  ]],\n",
       "\n",
       "        [[ 0.  ,  0.  ,  0.  ,  0.  ],\n",
       "         [ 0.  ,  0.  ,  0.  ,  0.  ],\n",
       "         [ 0.  ,  0.  ,  0.  ,  0.  ],\n",
       "         [ 0.  ,  0.  ,  0.  ,  0.  ]],\n",
       "\n",
       "        [[ 0.  ,  0.  ,  0.  ,  0.  ],\n",
       "         [ 0.  ,  0.  ,  0.  ,  0.  ],\n",
       "         [ 0.  ,  0.  ,  0.  ,  0.  ],\n",
       "         [ 0.  ,  0.  ,  0.  ,  0.  ]],\n",
       "\n",
       "        [[ 1.  ,  0.  ,  0.  ,  0.  ],\n",
       "         [ 0.  ,  1.  ,  0.  ,  0.  ],\n",
       "         [ 0.  ,  0.  ,  1.  ,  0.  ],\n",
       "         [ 0.  ,  0.  ,  0.  ,  1.  ]]]])"
      ]
     },
     "execution_count": 23,
     "metadata": {},
     "output_type": "execute_result"
    }
   ],
   "source": [
    "mpo.get_W(2).to_ndarray()"
   ]
  },
  {
   "cell_type": "code",
   "execution_count": 15,
   "metadata": {},
   "outputs": [],
   "source": [
    "psis = [\n",
    "    MPS.from_lat_product_state(m.lat, [['0', 'empty'],]*20)\n",
    "    for m in models\n",
    "]"
   ]
  },
  {
   "cell_type": "code",
   "execution_count": 16,
   "metadata": {},
   "outputs": [],
   "source": [
    "dmrg_params = {\n",
    "    \"trunc_params\": {\"chi_max\": 8, \"chi_min\": 1, \"svd_min\": 1.e-10},\n",
    "    \"min_sweeps\":100,\n",
    "    \"max_sweeps\":200,\n",
    "    \"mixer\": True,\n",
    "    \"combine\":False,\n",
    "    'decay':2,\n",
    "    'amplitude':10e-1,\n",
    "    'disable_after':60,\n",
    "    'update_env':0\n",
    "}"
   ]
  },
  {
   "cell_type": "code",
   "execution_count": 17,
   "metadata": {},
   "outputs": [],
   "source": [
    "for psi in psis:\n",
    "    psi.canonical_form()"
   ]
  },
  {
   "cell_type": "code",
   "execution_count": 18,
   "metadata": {},
   "outputs": [
    {
     "name": "stderr",
     "output_type": "stream",
     "text": [
      "/Users/kierancooney/.pyenv/versions/num_spt_venv_p11/lib/python3.11/site-packages/tenpy/tools/params.py:230: UserWarning: unused options for config TwoSiteDMRGEngine:\n",
      "['amplitude', 'decay', 'disable_after', 'update_env']\n",
      "  warnings.warn(msg.format(keys=sorted(unused), name=self.name))\n",
      "/Users/kierancooney/.pyenv/versions/num_spt_venv_p11/lib/python3.11/site-packages/tenpy/tools/params.py:230: UserWarning: unused options for config TwoSiteDMRGEngine:\n",
      "['amplitude', 'decay', 'disable_after', 'update_env']\n",
      "  warnings.warn(msg.format(keys=sorted(unused), name=self.name))\n",
      "/Users/kierancooney/.pyenv/versions/num_spt_venv_p11/lib/python3.11/site-packages/tenpy/tools/params.py:230: UserWarning: unused options for config TwoSiteDMRGEngine:\n",
      "['amplitude', 'decay', 'disable_after', 'update_env']\n",
      "  warnings.warn(msg.format(keys=sorted(unused), name=self.name))\n"
     ]
    }
   ],
   "source": [
    "outpsis = list()\n",
    "energies = list()\n",
    "\n",
    "for psi, m in zip(psis, models):\n",
    "    eng = dmrg.TwoSiteDMRGEngine(psi, m, dmrg_params)\n",
    "    e, psi_out = eng.run()\n",
    "\n",
    "    outpsis.append(psi_out)\n",
    "    energies.append(e)"
   ]
  },
  {
   "cell_type": "code",
   "execution_count": 19,
   "metadata": {},
   "outputs": [
    {
     "data": {
      "text/plain": [
       "<tenpy.networks.mps.MPS at 0x1534be610>"
      ]
     },
     "execution_count": 19,
     "metadata": {},
     "output_type": "execute_result"
    }
   ],
   "source": [
    "psis[0]"
   ]
  },
  {
   "cell_type": "code",
   "execution_count": 20,
   "metadata": {},
   "outputs": [
    {
     "data": {
      "text/plain": [
       "<npc.Array shape=(1, 4, 1) labels=['vL', 'p', 'vR']>"
      ]
     },
     "execution_count": 20,
     "metadata": {},
     "output_type": "execute_result"
    }
   ],
   "source": [
    "psis[0].get_B(0)"
   ]
  },
  {
   "cell_type": "code",
   "execution_count": 21,
   "metadata": {},
   "outputs": [
    {
     "data": {
      "text/plain": [
       "[0.0, 0.0, 0.0, 0.0]"
      ]
     },
     "execution_count": 21,
     "metadata": {},
     "output_type": "execute_result"
    }
   ],
   "source": [
    "energies"
   ]
  },
  {
   "cell_type": "markdown",
   "metadata": {},
   "source": [
    "## Non-trivial proj rep"
   ]
  },
  {
   "cell_type": "code",
   "execution_count": 14,
   "metadata": {},
   "outputs": [],
   "source": [
    "pauli_proj_rep_phases = np.array([\n",
    "    [1, 1, 1, 1],\n",
    "    [1, 1, -1, -1],\n",
    "    [1, -1, 1, -1],\n",
    "    [1, -1, -1, 1]\n",
    "])"
   ]
  },
  {
   "cell_type": "code",
   "execution_count": 15,
   "metadata": {},
   "outputs": [],
   "source": [
    "def get_proj_rep_term_phase(group_quad):\n",
    "    g_left, g_in, g_out, g_right = group_quad\n",
    "\n",
    "    g1 = mod_4_to_bit_addition(g_left, g_in)\n",
    "    g2 = mod_4_to_bit_addition(g_in, g_right)\n",
    "    g3 = mod_4_to_bit_addition(g_left, g_out)\n",
    "    g4 = mod_4_to_bit_addition(g_out, g_right)\n",
    "\n",
    "    numerator_phase = pauli_proj_rep_phases[g1, g2]\n",
    "    denominator_phase = pauli_proj_rep_phases[g3, g4]\n",
    "\n",
    "    return numerator_phase/denominator_phase"
   ]
  },
  {
   "cell_type": "code",
   "execution_count": 16,
   "metadata": {},
   "outputs": [],
   "source": [
    "class ClusterFermion(CouplingMPOModel):\n",
    "        default_lattice = \"Chain\"\n",
    "        force_default_lattice = True\n",
    "\n",
    "        # Would it be easier to subclass ClockSite?\n",
    "        def init_sites(self, model_params):\n",
    "            spin = ClockSite(4, conserve=None)\n",
    "            for i in range(4):\n",
    "                for j in range(4):\n",
    "                    X = np.zeros((4,4))\n",
    "                    X[j, i] = 1\n",
    "                    op_name = f\"map_{i}_{j}\"\n",
    "                    spin.add_op(op_name, X)\n",
    "            ferm = FermionSite(conserve=None)\n",
    "            sites = [spin, ferm]\n",
    "            return [spin, ferm], ['s', 'f']\n",
    "\n",
    "        def init_terms(self, model_params):\n",
    "            # Read off model parameters\n",
    "            n1_01, n1_10 = model_params.get('n1', (0,0))\n",
    "            n1_func = get_n1_func(n1_01, n1_10)\n",
    "\n",
    "            non_trivial_proj_rep = model_params.get('non_trivial_proj_rep', False)\n",
    "\n",
    "            group_quads = product(range(4), repeat=4)\n",
    "\n",
    "            for group_quad in group_quads:\n",
    "                op_list = get_op_list(group_quad, n1_func)\n",
    "                if non_trivial_proj_rep:\n",
    "                    phase = get_proj_rep_term_phase(group_quad)\n",
    "                else:\n",
    "                    phase = 1\n",
    "                self.add_multi_coupling((-1/4)*phase, op_list)"
   ]
  },
  {
   "cell_type": "code",
   "execution_count": 17,
   "metadata": {},
   "outputs": [],
   "source": [
    "M = ClusterIsingFermion({'L': 20})"
   ]
  },
  {
   "cell_type": "code",
   "execution_count": 18,
   "metadata": {},
   "outputs": [],
   "source": [
    "n1_pairs = [\n",
    "    (0, 0),\n",
    "    (0, 1),\n",
    "    (1, 0),\n",
    "    (1, 1)\n",
    "]"
   ]
  },
  {
   "cell_type": "code",
   "execution_count": 190,
   "metadata": {},
   "outputs": [],
   "source": [
    "models = [\n",
    "    [ClusterFermion({'L': 20, 'n1': p, 'non_trivial_proj_rep': b}) for p in n1_pairs]\n",
    "    for b in [True, False]\n",
    "]"
   ]
  },
  {
   "cell_type": "code",
   "execution_count": 191,
   "metadata": {},
   "outputs": [
    {
     "data": {
      "text/plain": [
       "{(0, 0): 'Id', (0, 1): 'C', (1, 0): 'Cd', (1, 1): 'N'}"
      ]
     },
     "execution_count": 191,
     "metadata": {},
     "output_type": "execute_result"
    }
   ],
   "source": [
    "n1_pair_to_fermion_operators_dict"
   ]
  },
  {
   "cell_type": "code",
   "execution_count": 192,
   "metadata": {},
   "outputs": [
    {
     "data": {
      "text/plain": [
       "[[<__main__.ClusterFermion at 0x177bdb290>,\n",
       "  <__main__.ClusterFermion at 0x1768cecd0>,\n",
       "  <__main__.ClusterFermion at 0x1769c3bd0>,\n",
       "  <__main__.ClusterFermion at 0x308e952d0>],\n",
       " [<__main__.ClusterFermion at 0x309b952d0>,\n",
       "  <__main__.ClusterFermion at 0x30a8e6cd0>,\n",
       "  <__main__.ClusterFermion at 0x3098eaa90>,\n",
       "  <__main__.ClusterFermion at 0x30bffc650>]]"
      ]
     },
     "execution_count": 192,
     "metadata": {},
     "output_type": "execute_result"
    }
   ],
   "source": [
    "models"
   ]
  },
  {
   "cell_type": "code",
   "execution_count": 193,
   "metadata": {},
   "outputs": [],
   "source": [
    "psis = [\n",
    "    [MPS.from_lat_product_state(m.lat, [['0', 'empty'],]*20) for m in l]\n",
    "    for l in models\n",
    "]"
   ]
  },
  {
   "cell_type": "code",
   "execution_count": 194,
   "metadata": {},
   "outputs": [],
   "source": [
    "dmrg_params = {\n",
    "    \"trunc_params\": {\"chi_max\": 8, \"chi_min\": 1, \"svd_min\": 1.e-10},\n",
    "    \"min_sweeps\":100,\n",
    "    \"max_sweeps\":200,\n",
    "    \"mixer\": True,\n",
    "    \"combine\":False,\n",
    "    'decay':2,\n",
    "    'amplitude':10e-1,\n",
    "    'disable_after':60,\n",
    "    'update_env':0\n",
    "}"
   ]
  },
  {
   "cell_type": "code",
   "execution_count": 199,
   "metadata": {},
   "outputs": [
    {
     "name": "stdout",
     "output_type": "stream",
     "text": [
      "True\n",
      "False\n",
      "False\n",
      "False\n",
      "True\n",
      "False\n",
      "False\n",
      "False\n"
     ]
    }
   ],
   "source": [
    "for l in models:\n",
    "    for m in l:\n",
    "        mpo = m.calc_H_MPO()\n",
    "        print(mpo.is_hermitian())"
   ]
  },
  {
   "cell_type": "code",
   "execution_count": 201,
   "metadata": {},
   "outputs": [],
   "source": [
    "out = list()\n",
    "\n",
    "n1_01, n1_10 = 1, 0\n",
    "n1_func = get_n1_func(n1_01, n1_10)\n",
    "\n",
    "non_trivial_proj_rep = False\n",
    "\n",
    "g_l = 0\n",
    "g_r = 0\n",
    "\n",
    "group_pairs = product(range(4), repeat=2)\n",
    "\n",
    "for group_pair in group_pairs:\n",
    "    op_list = get_op_list((g_l, *group_pair, g_r), n1_func)\n",
    "    out.append(op_list)"
   ]
  },
  {
   "cell_type": "code",
   "execution_count": 204,
   "metadata": {},
   "outputs": [
    {
     "data": {
      "text/plain": [
       "[[('map_0_0', 0, 0),\n",
       "  ('Id', 0, 1),\n",
       "  ('map_0_0', 1, 0),\n",
       "  ('Id', 1, 1),\n",
       "  ('map_0_0', 2, 0)],\n",
       " [('map_0_0', 0, 0),\n",
       "  ('C', 0, 1),\n",
       "  ('map_0_1', 1, 0),\n",
       "  ('C', 1, 1),\n",
       "  ('map_0_0', 2, 0)],\n",
       " [('map_0_0', 0, 0),\n",
       "  ('Id', 0, 1),\n",
       "  ('map_0_2', 1, 0),\n",
       "  ('Id', 1, 1),\n",
       "  ('map_0_0', 2, 0)],\n",
       " [('map_0_0', 0, 0),\n",
       "  ('C', 0, 1),\n",
       "  ('map_0_3', 1, 0),\n",
       "  ('C', 1, 1),\n",
       "  ('map_0_0', 2, 0)],\n",
       " [('map_0_0', 0, 0),\n",
       "  ('Cd', 0, 1),\n",
       "  ('map_1_0', 1, 0),\n",
       "  ('Cd', 1, 1),\n",
       "  ('map_0_0', 2, 0)],\n",
       " [('map_0_0', 0, 0),\n",
       "  ('N', 0, 1),\n",
       "  ('map_1_1', 1, 0),\n",
       "  ('N', 1, 1),\n",
       "  ('map_0_0', 2, 0)],\n",
       " [('map_0_0', 0, 0),\n",
       "  ('Cd', 0, 1),\n",
       "  ('map_1_2', 1, 0),\n",
       "  ('Cd', 1, 1),\n",
       "  ('map_0_0', 2, 0)],\n",
       " [('map_0_0', 0, 0),\n",
       "  ('N', 0, 1),\n",
       "  ('map_1_3', 1, 0),\n",
       "  ('N', 1, 1),\n",
       "  ('map_0_0', 2, 0)],\n",
       " [('map_0_0', 0, 0),\n",
       "  ('Id', 0, 1),\n",
       "  ('map_2_0', 1, 0),\n",
       "  ('Id', 1, 1),\n",
       "  ('map_0_0', 2, 0)],\n",
       " [('map_0_0', 0, 0),\n",
       "  ('C', 0, 1),\n",
       "  ('map_2_1', 1, 0),\n",
       "  ('C', 1, 1),\n",
       "  ('map_0_0', 2, 0)],\n",
       " [('map_0_0', 0, 0),\n",
       "  ('Id', 0, 1),\n",
       "  ('map_2_2', 1, 0),\n",
       "  ('Id', 1, 1),\n",
       "  ('map_0_0', 2, 0)],\n",
       " [('map_0_0', 0, 0),\n",
       "  ('C', 0, 1),\n",
       "  ('map_2_3', 1, 0),\n",
       "  ('C', 1, 1),\n",
       "  ('map_0_0', 2, 0)],\n",
       " [('map_0_0', 0, 0),\n",
       "  ('Cd', 0, 1),\n",
       "  ('map_3_0', 1, 0),\n",
       "  ('Cd', 1, 1),\n",
       "  ('map_0_0', 2, 0)],\n",
       " [('map_0_0', 0, 0),\n",
       "  ('N', 0, 1),\n",
       "  ('map_3_1', 1, 0),\n",
       "  ('N', 1, 1),\n",
       "  ('map_0_0', 2, 0)],\n",
       " [('map_0_0', 0, 0),\n",
       "  ('Cd', 0, 1),\n",
       "  ('map_3_2', 1, 0),\n",
       "  ('Cd', 1, 1),\n",
       "  ('map_0_0', 2, 0)],\n",
       " [('map_0_0', 0, 0),\n",
       "  ('N', 0, 1),\n",
       "  ('map_3_3', 1, 0),\n",
       "  ('N', 1, 1),\n",
       "  ('map_0_0', 2, 0)]]"
      ]
     },
     "execution_count": 204,
     "metadata": {},
     "output_type": "execute_result"
    }
   ],
   "source": [
    "out"
   ]
  },
  {
   "cell_type": "code",
   "execution_count": 208,
   "metadata": {},
   "outputs": [],
   "source": [
    "fermion_operators = [l[1][0] for l in out]"
   ]
  },
  {
   "cell_type": "code",
   "execution_count": 210,
   "metadata": {},
   "outputs": [
    {
     "data": {
      "text/plain": [
       "[['Id', 'C', 'Id', 'C'],\n",
       " ['Cd', 'N', 'Cd', 'N'],\n",
       " ['Id', 'C', 'Id', 'C'],\n",
       " ['Cd', 'N', 'Cd', 'N']]"
      ]
     },
     "execution_count": 210,
     "metadata": {},
     "output_type": "execute_result"
    }
   ],
   "source": [
    "[\n",
    "    fermion_operators[:4],\n",
    "    fermion_operators[4:8],\n",
    "    fermion_operators[8:12],\n",
    "    fermion_operators[12:16]\n",
    "]"
   ]
  },
  {
   "cell_type": "code",
   "execution_count": 211,
   "metadata": {},
   "outputs": [],
   "source": [
    "out = list()\n",
    "\n",
    "n1_01, n1_10 = 1, 0\n",
    "n1_func = get_n1_func(n1_01, n1_10)\n",
    "\n",
    "non_trivial_proj_rep = False\n",
    "\n",
    "g_l = 1\n",
    "g_r = 0\n",
    "\n",
    "group_pairs = product(range(4), repeat=2)\n",
    "\n",
    "for group_pair in group_pairs:\n",
    "    op_list = get_op_list((g_l, *group_pair, g_r), n1_func)\n",
    "    out.append(op_list)"
   ]
  },
  {
   "cell_type": "code",
   "execution_count": 224,
   "metadata": {},
   "outputs": [
    {
     "data": {
      "text/plain": [
       "[[('map_1_1', 0, 0),\n",
       "  ('N', 0, 1),\n",
       "  ('map_0_0', 1, 0),\n",
       "  ('Id', 1, 1),\n",
       "  ('map_0_0', 2, 0)],\n",
       " [('map_1_1', 0, 0),\n",
       "  ('Cd', 0, 1),\n",
       "  ('map_0_1', 1, 0),\n",
       "  ('C', 1, 1),\n",
       "  ('map_0_0', 2, 0)],\n",
       " [('map_1_1', 0, 0),\n",
       "  ('N', 0, 1),\n",
       "  ('map_0_2', 1, 0),\n",
       "  ('Id', 1, 1),\n",
       "  ('map_0_0', 2, 0)],\n",
       " [('map_1_1', 0, 0),\n",
       "  ('Cd', 0, 1),\n",
       "  ('map_0_3', 1, 0),\n",
       "  ('C', 1, 1),\n",
       "  ('map_0_0', 2, 0)],\n",
       " [('map_1_1', 0, 0),\n",
       "  ('C', 0, 1),\n",
       "  ('map_1_0', 1, 0),\n",
       "  ('Cd', 1, 1),\n",
       "  ('map_0_0', 2, 0)],\n",
       " [('map_1_1', 0, 0),\n",
       "  ('Id', 0, 1),\n",
       "  ('map_1_1', 1, 0),\n",
       "  ('N', 1, 1),\n",
       "  ('map_0_0', 2, 0)],\n",
       " [('map_1_1', 0, 0),\n",
       "  ('C', 0, 1),\n",
       "  ('map_1_2', 1, 0),\n",
       "  ('Cd', 1, 1),\n",
       "  ('map_0_0', 2, 0)],\n",
       " [('map_1_1', 0, 0),\n",
       "  ('Id', 0, 1),\n",
       "  ('map_1_3', 1, 0),\n",
       "  ('N', 1, 1),\n",
       "  ('map_0_0', 2, 0)],\n",
       " [('map_1_1', 0, 0),\n",
       "  ('N', 0, 1),\n",
       "  ('map_2_0', 1, 0),\n",
       "  ('Id', 1, 1),\n",
       "  ('map_0_0', 2, 0)],\n",
       " [('map_1_1', 0, 0),\n",
       "  ('Cd', 0, 1),\n",
       "  ('map_2_1', 1, 0),\n",
       "  ('C', 1, 1),\n",
       "  ('map_0_0', 2, 0)],\n",
       " [('map_1_1', 0, 0),\n",
       "  ('N', 0, 1),\n",
       "  ('map_2_2', 1, 0),\n",
       "  ('Id', 1, 1),\n",
       "  ('map_0_0', 2, 0)],\n",
       " [('map_1_1', 0, 0),\n",
       "  ('Cd', 0, 1),\n",
       "  ('map_2_3', 1, 0),\n",
       "  ('C', 1, 1),\n",
       "  ('map_0_0', 2, 0)],\n",
       " [('map_1_1', 0, 0),\n",
       "  ('C', 0, 1),\n",
       "  ('map_3_0', 1, 0),\n",
       "  ('Cd', 1, 1),\n",
       "  ('map_0_0', 2, 0)],\n",
       " [('map_1_1', 0, 0),\n",
       "  ('Id', 0, 1),\n",
       "  ('map_3_1', 1, 0),\n",
       "  ('N', 1, 1),\n",
       "  ('map_0_0', 2, 0)],\n",
       " [('map_1_1', 0, 0),\n",
       "  ('C', 0, 1),\n",
       "  ('map_3_2', 1, 0),\n",
       "  ('Cd', 1, 1),\n",
       "  ('map_0_0', 2, 0)],\n",
       " [('map_1_1', 0, 0),\n",
       "  ('Id', 0, 1),\n",
       "  ('map_3_3', 1, 0),\n",
       "  ('N', 1, 1),\n",
       "  ('map_0_0', 2, 0)]]"
      ]
     },
     "execution_count": 224,
     "metadata": {},
     "output_type": "execute_result"
    }
   ],
   "source": [
    "out"
   ]
  },
  {
   "cell_type": "code",
   "execution_count": 226,
   "metadata": {},
   "outputs": [
    {
     "data": {
      "text/plain": [
       "[('N', 'map_0_0', 'Id'),\n",
       " ('Cd', 'map_0_1', 'C'),\n",
       " ('N', 'map_0_2', 'Id'),\n",
       " ('Cd', 'map_0_3', 'C'),\n",
       " ('C', 'map_1_0', 'Cd'),\n",
       " ('Id', 'map_1_1', 'N'),\n",
       " ('C', 'map_1_2', 'Cd'),\n",
       " ('Id', 'map_1_3', 'N'),\n",
       " ('N', 'map_2_0', 'Id'),\n",
       " ('Cd', 'map_2_1', 'C'),\n",
       " ('N', 'map_2_2', 'Id'),\n",
       " ('Cd', 'map_2_3', 'C'),\n",
       " ('C', 'map_3_0', 'Cd'),\n",
       " ('Id', 'map_3_1', 'N'),\n",
       " ('C', 'map_3_2', 'Cd'),\n",
       " ('Id', 'map_3_3', 'N')]"
      ]
     },
     "execution_count": 226,
     "metadata": {},
     "output_type": "execute_result"
    }
   ],
   "source": [
    "[\n",
    "    (l[1][0], l[2][0], l[3][0])\n",
    "    for l in out\n",
    "]"
   ]
  },
  {
   "cell_type": "code",
   "execution_count": 228,
   "metadata": {},
   "outputs": [],
   "source": [
    "left_fermion_operators = [l[1][0] for l in out]\n",
    "right_fermion_operators = [l[3][0] for l in out]"
   ]
  },
  {
   "cell_type": "code",
   "execution_count": 229,
   "metadata": {},
   "outputs": [
    {
     "data": {
      "text/plain": [
       "[['N', 'Cd', 'N', 'Cd'],\n",
       " ['C', 'Id', 'C', 'Id'],\n",
       " ['N', 'Cd', 'N', 'Cd'],\n",
       " ['C', 'Id', 'C', 'Id']]"
      ]
     },
     "execution_count": 229,
     "metadata": {},
     "output_type": "execute_result"
    }
   ],
   "source": [
    "[left_fermion_operators[4*i:4*i+4] for i in range(4)]"
   ]
  },
  {
   "cell_type": "code",
   "execution_count": 230,
   "metadata": {},
   "outputs": [
    {
     "data": {
      "text/plain": [
       "[['Id', 'C', 'Id', 'C'],\n",
       " ['Cd', 'N', 'Cd', 'N'],\n",
       " ['Id', 'C', 'Id', 'C'],\n",
       " ['Cd', 'N', 'Cd', 'N']]"
      ]
     },
     "execution_count": 230,
     "metadata": {},
     "output_type": "execute_result"
    }
   ],
   "source": [
    "[right_fermion_operators[4*i:4*i+4] for i in range(4)]"
   ]
  },
  {
   "cell_type": "markdown",
   "metadata": {},
   "source": [
    "### Check hermiticity"
   ]
  },
  {
   "cell_type": "code",
   "execution_count": 216,
   "metadata": {},
   "outputs": [],
   "source": [
    "class ClusterFermionHermiticityTest(CouplingMPOModel):\n",
    "        default_lattice = \"Chain\"\n",
    "        force_default_lattice = True\n",
    "\n",
    "        # Would it be easier to subclass ClockSite?\n",
    "        def init_sites(self, model_params):\n",
    "            spin = ClockSite(4, conserve=None)\n",
    "            for i in range(4):\n",
    "                for j in range(4):\n",
    "                    X = np.zeros((4,4))\n",
    "                    X[j, i] = 1\n",
    "                    op_name = f\"map_{i}_{j}\"\n",
    "                    spin.add_op(op_name, X)\n",
    "            ferm = FermionSite(conserve=None)\n",
    "            sites = [spin, ferm]\n",
    "            return [spin, ferm], ['s', 'f']\n",
    "\n",
    "        def init_terms(self, model_params):\n",
    "            # Read off model parameters\n",
    "            n1_01, n1_10 = model_params.get('n1', (0,0))\n",
    "            n1_func = get_n1_func(n1_01, n1_10)\n",
    "            \n",
    "            g_l = model_params.get('g_l', 0)\n",
    "            g_r = model_params.get('g_r', 0)\n",
    "\n",
    "            non_trivial_proj_rep = model_params.get('non_trivial_proj_rep', False)\n",
    "\n",
    "            group_pairs = product(range(4), repeat=2)\n",
    "\n",
    "            for group_pair in group_pairs:\n",
    "                op_list = get_op_list((g_l, *group_pair, g_r), n1_func)\n",
    "                if non_trivial_proj_rep:\n",
    "                    phase = get_proj_rep_term_phase(group_quad)\n",
    "                else:\n",
    "                    phase = 1\n",
    "                self.add_multi_coupling((-1/4)*phase, op_list)"
   ]
  },
  {
   "cell_type": "code",
   "execution_count": 217,
   "metadata": {},
   "outputs": [],
   "source": [
    "models = [\n",
    "    [\n",
    "        [ClusterFermionHermiticityTest({'L': 20, 'n1': p, 'g_l': g_l, 'g_r': g_r}) for p in n1_pairs]\n",
    "        for g_l in range(4)\n",
    "    ]\n",
    "    for g_r in range(4)\n",
    "]"
   ]
  },
  {
   "cell_type": "code",
   "execution_count": 220,
   "metadata": {},
   "outputs": [],
   "source": [
    "mpos = [[[m.calc_H_MPO() for m in l1] for l1 in l2] for l2 in models]"
   ]
  },
  {
   "cell_type": "code",
   "execution_count": 221,
   "metadata": {},
   "outputs": [
    {
     "data": {
      "text/plain": [
       "[[[True, False, False, False],\n",
       "  [True, False, False, False],\n",
       "  [True, False, False, False],\n",
       "  [True, False, False, False]],\n",
       " [[True, False, False, False],\n",
       "  [True, False, False, False],\n",
       "  [True, False, False, False],\n",
       "  [True, False, False, False]],\n",
       " [[True, False, False, False],\n",
       "  [True, False, False, False],\n",
       "  [True, False, False, False],\n",
       "  [True, False, False, False]],\n",
       " [[True, False, False, False],\n",
       "  [True, False, False, False],\n",
       "  [True, False, False, False],\n",
       "  [True, False, False, False]]]"
      ]
     },
     "execution_count": 221,
     "metadata": {},
     "output_type": "execute_result"
    }
   ],
   "source": [
    "[[[m.is_hermitian() for m in l1] for l1 in l2] for l2 in mpos]"
   ]
  },
  {
   "cell_type": "code",
   "execution_count": 223,
   "metadata": {},
   "outputs": [
    {
     "data": {
      "text/plain": [
       "{'C', 'Cd', 'JW'}"
      ]
     },
     "execution_count": 223,
     "metadata": {},
     "output_type": "execute_result"
    }
   ],
   "source": [
    "FermionSite().need_JW_string"
   ]
  },
  {
   "cell_type": "code",
   "execution_count": 208,
   "metadata": {},
   "outputs": [],
   "source": [
    "fermion_operators = [l[1][0] for l in out]"
   ]
  },
  {
   "cell_type": "code",
   "execution_count": 210,
   "metadata": {},
   "outputs": [
    {
     "data": {
      "text/plain": [
       "[['Id', 'C', 'Id', 'C'],\n",
       " ['Cd', 'N', 'Cd', 'N'],\n",
       " ['Id', 'C', 'Id', 'C'],\n",
       " ['Cd', 'N', 'Cd', 'N']]"
      ]
     },
     "execution_count": 210,
     "metadata": {},
     "output_type": "execute_result"
    }
   ],
   "source": [
    "[\n",
    "    fermion_operators[:4],\n",
    "    fermion_operators[4:8],\n",
    "    fermion_operators[8:12],\n",
    "    fermion_operators[12:16]\n",
    "]"
   ]
  },
  {
   "cell_type": "markdown",
   "metadata": {},
   "source": [
    "### Break down into further subcases"
   ]
  },
  {
   "cell_type": "code",
   "execution_count": 279,
   "metadata": {},
   "outputs": [],
   "source": [
    "class ClusterFermionHermiticityTest(CouplingMPOModel):\n",
    "    default_lattice = \"Chain\"\n",
    "    force_default_lattice = True\n",
    "\n",
    "    # Would it be easier to subclass ClockSite?\n",
    "    def init_sites(self, model_params):\n",
    "        spin = ClockSite(4, conserve=None)\n",
    "        for i in range(4):\n",
    "            for j in range(4):\n",
    "                X = np.zeros((4,4))\n",
    "                X[j, i] = 1\n",
    "                op_name = f\"map_{i}_{j}\"\n",
    "                spin.add_op(op_name, X)\n",
    "        ferm = FermionSite(conserve=None)\n",
    "        sites = [spin, ferm]\n",
    "        return [spin, ferm], ['s', 'f']\n",
    "\n",
    "    def init_terms(self, model_params):\n",
    "        # Read off model parameters\n",
    "        n1_01, n1_10 = model_params.get('n1', (0,0))\n",
    "        n1_func = get_n1_func(n1_01, n1_10)\n",
    "\n",
    "        g_l = model_params.get('g_l', 0)\n",
    "        g_r = model_params.get('g_r', 0)\n",
    "        g_in = model_params.get('g_in', 0)\n",
    "        g_out = model_params.get('g_out', 0)\n",
    "\n",
    "        op_list_1 = get_op_list((g_l, g_in, g_out, g_r), n1_func)\n",
    "        self.add_multi_coupling((-1/4), op_list_1)\n",
    "        \n",
    "        op_list_2 = get_op_list((g_l, g_out, g_in, g_r), n1_func)\n",
    "        self.add_multi_coupling((-1/4), op_list_2)"
   ]
  },
  {
   "cell_type": "code",
   "execution_count": 280,
   "metadata": {},
   "outputs": [],
   "source": [
    "models = list()\n",
    "\n",
    "for p in n1_pairs:\n",
    "    models.append(list())\n",
    "    for g_l in range(4):\n",
    "        models[-1].append(list())\n",
    "        for g_r in range(4):\n",
    "            models[-1][-1].append(list())\n",
    "            for g_in in range(4):\n",
    "                models[-1][-1][-1].append(list())   \n",
    "                for g_out in range(4):\n",
    "                    m = ClusterFermionHermiticityTest(\n",
    "                        {'L': 20, 'n1': p, 'g_l': g_l, 'g_r': g_r, 'g_in': g_in, 'g_out': g_out}\n",
    "                    )\n",
    "                    \n",
    "                    models[-1][-1][-1][-1].append(m)"
   ]
  },
  {
   "cell_type": "code",
   "execution_count": 281,
   "metadata": {},
   "outputs": [
    {
     "data": {
      "text/plain": [
       "<__main__.ClusterFermionHermiticityTest at 0x31962ad10>"
      ]
     },
     "execution_count": 281,
     "metadata": {},
     "output_type": "execute_result"
    }
   ],
   "source": [
    "models[0][0][0][0][0]"
   ]
  },
  {
   "cell_type": "code",
   "execution_count": 282,
   "metadata": {},
   "outputs": [],
   "source": [
    "mpos = [[[[[m.calc_H_MPO() for m in l1] for l1 in l2] for l2 in l3] for l3 in l4] for l4 in models]"
   ]
  },
  {
   "cell_type": "code",
   "execution_count": 283,
   "metadata": {},
   "outputs": [],
   "source": [
    "is_hermitian = np.array([[[[[m.is_hermitian() for m in l1] for l1 in l2] for l2 in l3] for l3 in l4] for l4 in mpos])"
   ]
  },
  {
   "cell_type": "code",
   "execution_count": 284,
   "metadata": {},
   "outputs": [
    {
     "data": {
      "text/plain": [
       "(4, 4, 4, 4, 4)"
      ]
     },
     "execution_count": 284,
     "metadata": {},
     "output_type": "execute_result"
    }
   ],
   "source": [
    "is_hermitian.shape"
   ]
  },
  {
   "cell_type": "code",
   "execution_count": 302,
   "metadata": {},
   "outputs": [
    {
     "data": {
      "text/plain": [
       "array([[[[ True,  True, False, False],\n",
       "         [ True,  True, False, False],\n",
       "         [False, False,  True,  True],\n",
       "         [False, False,  True,  True]],\n",
       "\n",
       "        [[ True,  True, False, False],\n",
       "         [ True,  True, False, False],\n",
       "         [False, False,  True,  True],\n",
       "         [False, False,  True,  True]],\n",
       "\n",
       "        [[ True,  True, False, False],\n",
       "         [ True,  True, False, False],\n",
       "         [False, False,  True,  True],\n",
       "         [False, False,  True,  True]],\n",
       "\n",
       "        [[ True,  True, False, False],\n",
       "         [ True,  True, False, False],\n",
       "         [False, False,  True,  True],\n",
       "         [False, False,  True,  True]]],\n",
       "\n",
       "\n",
       "       [[[ True,  True, False, False],\n",
       "         [ True,  True, False, False],\n",
       "         [False, False,  True,  True],\n",
       "         [False, False,  True,  True]],\n",
       "\n",
       "        [[ True,  True, False, False],\n",
       "         [ True,  True, False, False],\n",
       "         [False, False,  True,  True],\n",
       "         [False, False,  True,  True]],\n",
       "\n",
       "        [[ True,  True, False, False],\n",
       "         [ True,  True, False, False],\n",
       "         [False, False,  True,  True],\n",
       "         [False, False,  True,  True]],\n",
       "\n",
       "        [[ True,  True, False, False],\n",
       "         [ True,  True, False, False],\n",
       "         [False, False,  True,  True],\n",
       "         [False, False,  True,  True]]],\n",
       "\n",
       "\n",
       "       [[[ True,  True, False, False],\n",
       "         [ True,  True, False, False],\n",
       "         [False, False,  True,  True],\n",
       "         [False, False,  True,  True]],\n",
       "\n",
       "        [[ True,  True, False, False],\n",
       "         [ True,  True, False, False],\n",
       "         [False, False,  True,  True],\n",
       "         [False, False,  True,  True]],\n",
       "\n",
       "        [[ True,  True, False, False],\n",
       "         [ True,  True, False, False],\n",
       "         [False, False,  True,  True],\n",
       "         [False, False,  True,  True]],\n",
       "\n",
       "        [[ True,  True, False, False],\n",
       "         [ True,  True, False, False],\n",
       "         [False, False,  True,  True],\n",
       "         [False, False,  True,  True]]],\n",
       "\n",
       "\n",
       "       [[[ True,  True, False, False],\n",
       "         [ True,  True, False, False],\n",
       "         [False, False,  True,  True],\n",
       "         [False, False,  True,  True]],\n",
       "\n",
       "        [[ True,  True, False, False],\n",
       "         [ True,  True, False, False],\n",
       "         [False, False,  True,  True],\n",
       "         [False, False,  True,  True]],\n",
       "\n",
       "        [[ True,  True, False, False],\n",
       "         [ True,  True, False, False],\n",
       "         [False, False,  True,  True],\n",
       "         [False, False,  True,  True]],\n",
       "\n",
       "        [[ True,  True, False, False],\n",
       "         [ True,  True, False, False],\n",
       "         [False, False,  True,  True],\n",
       "         [False, False,  True,  True]]]])"
      ]
     },
     "execution_count": 302,
     "metadata": {},
     "output_type": "execute_result"
    }
   ],
   "source": [
    "is_hermitian[1]"
   ]
  },
  {
   "cell_type": "markdown",
   "metadata": {},
   "source": [
    "So breakdown in hermiticity is a function of $n_1$, $g_{in}$ and $g_{out}$, independent of $g_l$ and $g_r$."
   ]
  },
  {
   "cell_type": "markdown",
   "metadata": {},
   "source": [
    "So hermitian only if $g_{in}$ and $g_{out}$ are equal... i.e. it's the creation and annihilation terms causing problems."
   ]
  },
  {
   "cell_type": "code",
   "execution_count": 310,
   "metadata": {},
   "outputs": [],
   "source": [
    "n1_func = get_n1_func(0, 1)\n",
    "\n",
    "g_l = 0\n",
    "g_r = 0\n",
    "g_in = 0\n",
    "g_out = 2"
   ]
  },
  {
   "cell_type": "code",
   "execution_count": 321,
   "metadata": {},
   "outputs": [
    {
     "data": {
      "text/plain": [
       "[('map_0_0', 0, 0),\n",
       " ('N', 0, 1),\n",
       " ('map_3_3', 1, 0),\n",
       " ('N', 1, 1),\n",
       " ('map_0_0', 2, 0)]"
      ]
     },
     "execution_count": 321,
     "metadata": {},
     "output_type": "execute_result"
    }
   ],
   "source": [
    "get_op_list((g_l, 3, 3, g_r), n1_func)"
   ]
  },
  {
   "cell_type": "code",
   "execution_count": 322,
   "metadata": {},
   "outputs": [],
   "source": [
    "op_list_1 = get_op_list((g_l, g_in, g_out, g_r), n1_func)"
   ]
  },
  {
   "cell_type": "code",
   "execution_count": 323,
   "metadata": {},
   "outputs": [
    {
     "data": {
      "text/plain": [
       "[('map_0_0', 0, 0),\n",
       " ('C', 0, 1),\n",
       " ('map_0_2', 1, 0),\n",
       " ('C', 1, 1),\n",
       " ('map_0_0', 2, 0)]"
      ]
     },
     "execution_count": 323,
     "metadata": {},
     "output_type": "execute_result"
    }
   ],
   "source": [
    "op_list_1"
   ]
  },
  {
   "cell_type": "code",
   "execution_count": 324,
   "metadata": {},
   "outputs": [],
   "source": [
    "op_list_2 = get_op_list((g_l, g_out, g_in, g_r), n1_func)"
   ]
  },
  {
   "cell_type": "code",
   "execution_count": 325,
   "metadata": {},
   "outputs": [
    {
     "data": {
      "text/plain": [
       "[('map_0_0', 0, 0),\n",
       " ('Cd', 0, 1),\n",
       " ('map_2_0', 1, 0),\n",
       " ('Cd', 1, 1),\n",
       " ('map_0_0', 2, 0)]"
      ]
     },
     "execution_count": 325,
     "metadata": {},
     "output_type": "execute_result"
    }
   ],
   "source": [
    "op_list_2"
   ]
  },
  {
   "cell_type": "markdown",
   "metadata": {},
   "source": [
    "Extract terms?"
   ]
  },
  {
   "cell_type": "code",
   "execution_count": 326,
   "metadata": {},
   "outputs": [],
   "source": [
    "terms = models[1][0][0][2][0].all_coupling_terms()"
   ]
  },
  {
   "cell_type": "code",
   "execution_count": 327,
   "metadata": {},
   "outputs": [
    {
     "data": {
      "text/plain": [
       "<tenpy.networks.terms.MultiCouplingTerms at 0x168ea7290>"
      ]
     },
     "execution_count": 327,
     "metadata": {},
     "output_type": "execute_result"
    }
   ],
   "source": [
    "terms"
   ]
  },
  {
   "cell_type": "code",
   "execution_count": 328,
   "metadata": {},
   "outputs": [],
   "source": [
    "term_list = terms.to_TermList()"
   ]
  },
  {
   "cell_type": "code",
   "execution_count": 330,
   "metadata": {},
   "outputs": [],
   "source": [
    "tl = term_list.terms"
   ]
  },
  {
   "cell_type": "code",
   "execution_count": 331,
   "metadata": {},
   "outputs": [
    {
     "data": {
      "text/plain": [
       "36"
      ]
     },
     "execution_count": 331,
     "metadata": {},
     "output_type": "execute_result"
    }
   ],
   "source": [
    "len(tl)"
   ]
  },
  {
   "cell_type": "code",
   "execution_count": 332,
   "metadata": {},
   "outputs": [
    {
     "data": {
      "text/plain": [
       "([('map_0_0', 0), ('Cd JW', 1), ('map_2_0 JW', 2), ('Cd', 3), ('map_0_0', 4)],\n",
       " [('map_0_0', 0), ('C JW', 1), ('map_0_2 JW', 2), ('C', 3), ('map_0_0', 4)])"
      ]
     },
     "execution_count": 332,
     "metadata": {},
     "output_type": "execute_result"
    }
   ],
   "source": [
    "tl[0], tl[18]"
   ]
  },
  {
   "cell_type": "markdown",
   "metadata": {},
   "source": [
    "### Repeat but add hermitian conjugate terms"
   ]
  },
  {
   "cell_type": "code",
   "execution_count": 333,
   "metadata": {},
   "outputs": [],
   "source": [
    "class ClusterFermionHermiticityTest(CouplingMPOModel):\n",
    "    default_lattice = \"Chain\"\n",
    "    force_default_lattice = True\n",
    "\n",
    "    # Would it be easier to subclass ClockSite?\n",
    "    def init_sites(self, model_params):\n",
    "        spin = ClockSite(4, conserve=None)\n",
    "        for i in range(4):\n",
    "            for j in range(4):\n",
    "                X = np.zeros((4,4))\n",
    "                X[j, i] = 1\n",
    "                op_name = f\"map_{i}_{j}\"\n",
    "                spin.add_op(op_name, X)\n",
    "        ferm = FermionSite(conserve=None)\n",
    "        sites = [spin, ferm]\n",
    "        return [spin, ferm], ['s', 'f']\n",
    "\n",
    "    def init_terms(self, model_params):\n",
    "        # Read off model parameters\n",
    "        n1_01, n1_10 = model_params.get('n1', (0,0))\n",
    "        n1_func = get_n1_func(n1_01, n1_10)\n",
    "\n",
    "        g_l = model_params.get('g_l', 0)\n",
    "        g_r = model_params.get('g_r', 0)\n",
    "        g_in = model_params.get('g_in', 0)\n",
    "        g_out = model_params.get('g_out', 0)\n",
    "\n",
    "        op_list_1 = get_op_list((g_l, g_in, g_out, g_r), n1_func)\n",
    "        self.add_multi_coupling((-1/4), op_list_1, plus_hc=True)\n",
    "        \n",
    "        op_list_2 = get_op_list((g_l, g_out, g_in, g_r), n1_func)\n",
    "        self.add_multi_coupling((-1/4), op_list_2, plus_hc=True)"
   ]
  },
  {
   "cell_type": "code",
   "execution_count": 339,
   "metadata": {},
   "outputs": [],
   "source": [
    "models = list()\n",
    "none_count = 0\n",
    "\n",
    "for p in n1_pairs:\n",
    "    models.append(list())\n",
    "    for g_l in range(4):\n",
    "        models[-1].append(list())\n",
    "        for g_r in range(4):\n",
    "            models[-1][-1].append(list())\n",
    "            for g_in in range(4):\n",
    "                models[-1][-1][-1].append(list())   \n",
    "                for g_out in range(4):\n",
    "                    try:\n",
    "                        m = ClusterFermionHermiticityTest(\n",
    "                            {'L': 20, 'n1': p, 'g_l': g_l, 'g_r': g_r, 'g_in': g_in, 'g_out': g_out}\n",
    "                        )\n",
    "                    except ValueError:\n",
    "                        m = None\n",
    "                        none_count += 1\n",
    "                    \n",
    "                    models[-1][-1][-1][-1].append(m)"
   ]
  },
  {
   "cell_type": "code",
   "execution_count": 340,
   "metadata": {},
   "outputs": [
    {
     "data": {
      "text/plain": [
       "384"
      ]
     },
     "execution_count": 340,
     "metadata": {},
     "output_type": "execute_result"
    }
   ],
   "source": [
    "none_count"
   ]
  },
  {
   "cell_type": "markdown",
   "metadata": {},
   "source": [
    "$384 = 128*3 \\Rightarrow 1024/384 = 8/3$"
   ]
  },
  {
   "cell_type": "markdown",
   "metadata": {},
   "source": [
    "Which ones are breaking..."
   ]
  },
  {
   "cell_type": "code",
   "execution_count": 341,
   "metadata": {},
   "outputs": [
    {
     "data": {
      "text/plain": [
       "<__main__.ClusterFermionHermiticityTest at 0x32a87d1d0>"
      ]
     },
     "execution_count": 341,
     "metadata": {},
     "output_type": "execute_result"
    }
   ],
   "source": [
    "models[0][0][0][0][0]"
   ]
  },
  {
   "cell_type": "code",
   "execution_count": 342,
   "metadata": {},
   "outputs": [],
   "source": [
    "mpos = [[[[[None if m is None else m.calc_H_MPO() for m in l1] for l1 in l2] for l2 in l3] for l3 in l4] for l4 in models]"
   ]
  },
  {
   "cell_type": "code",
   "execution_count": 343,
   "metadata": {},
   "outputs": [],
   "source": [
    "none_array = np.array([[[[[m is None for m in l1] for l1 in l2] for l2 in l3] for l3 in l4] for l4 in models])"
   ]
  },
  {
   "cell_type": "markdown",
   "metadata": {},
   "source": [
    "Looks like the cases I'm interested in are exactly those missing...!"
   ]
  },
  {
   "cell_type": "code",
   "execution_count": 349,
   "metadata": {},
   "outputs": [
    {
     "data": {
      "text/plain": [
       "array([[[[False, False,  True,  True],\n",
       "         [False, False,  True,  True],\n",
       "         [ True,  True, False, False],\n",
       "         [ True,  True, False, False]],\n",
       "\n",
       "        [[False, False,  True,  True],\n",
       "         [False, False,  True,  True],\n",
       "         [ True,  True, False, False],\n",
       "         [ True,  True, False, False]],\n",
       "\n",
       "        [[False, False,  True,  True],\n",
       "         [False, False,  True,  True],\n",
       "         [ True,  True, False, False],\n",
       "         [ True,  True, False, False]],\n",
       "\n",
       "        [[False, False,  True,  True],\n",
       "         [False, False,  True,  True],\n",
       "         [ True,  True, False, False],\n",
       "         [ True,  True, False, False]]],\n",
       "\n",
       "\n",
       "       [[[False, False,  True,  True],\n",
       "         [False, False,  True,  True],\n",
       "         [ True,  True, False, False],\n",
       "         [ True,  True, False, False]],\n",
       "\n",
       "        [[False, False,  True,  True],\n",
       "         [False, False,  True,  True],\n",
       "         [ True,  True, False, False],\n",
       "         [ True,  True, False, False]],\n",
       "\n",
       "        [[False, False,  True,  True],\n",
       "         [False, False,  True,  True],\n",
       "         [ True,  True, False, False],\n",
       "         [ True,  True, False, False]],\n",
       "\n",
       "        [[False, False,  True,  True],\n",
       "         [False, False,  True,  True],\n",
       "         [ True,  True, False, False],\n",
       "         [ True,  True, False, False]]],\n",
       "\n",
       "\n",
       "       [[[False, False,  True,  True],\n",
       "         [False, False,  True,  True],\n",
       "         [ True,  True, False, False],\n",
       "         [ True,  True, False, False]],\n",
       "\n",
       "        [[False, False,  True,  True],\n",
       "         [False, False,  True,  True],\n",
       "         [ True,  True, False, False],\n",
       "         [ True,  True, False, False]],\n",
       "\n",
       "        [[False, False,  True,  True],\n",
       "         [False, False,  True,  True],\n",
       "         [ True,  True, False, False],\n",
       "         [ True,  True, False, False]],\n",
       "\n",
       "        [[False, False,  True,  True],\n",
       "         [False, False,  True,  True],\n",
       "         [ True,  True, False, False],\n",
       "         [ True,  True, False, False]]],\n",
       "\n",
       "\n",
       "       [[[False, False,  True,  True],\n",
       "         [False, False,  True,  True],\n",
       "         [ True,  True, False, False],\n",
       "         [ True,  True, False, False]],\n",
       "\n",
       "        [[False, False,  True,  True],\n",
       "         [False, False,  True,  True],\n",
       "         [ True,  True, False, False],\n",
       "         [ True,  True, False, False]],\n",
       "\n",
       "        [[False, False,  True,  True],\n",
       "         [False, False,  True,  True],\n",
       "         [ True,  True, False, False],\n",
       "         [ True,  True, False, False]],\n",
       "\n",
       "        [[False, False,  True,  True],\n",
       "         [False, False,  True,  True],\n",
       "         [ True,  True, False, False],\n",
       "         [ True,  True, False, False]]]])"
      ]
     },
     "execution_count": 349,
     "metadata": {},
     "output_type": "execute_result"
    }
   ],
   "source": [
    "none_array[1]"
   ]
  },
  {
   "cell_type": "code",
   "execution_count": null,
   "metadata": {},
   "outputs": [],
   "source": []
  },
  {
   "cell_type": "code",
   "execution_count": 223,
   "metadata": {},
   "outputs": [
    {
     "data": {
      "text/plain": [
       "{'C', 'Cd', 'JW'}"
      ]
     },
     "execution_count": 223,
     "metadata": {},
     "output_type": "execute_result"
    }
   ],
   "source": [
    "FermionSite().need_JW_string"
   ]
  },
  {
   "cell_type": "code",
   "execution_count": 208,
   "metadata": {},
   "outputs": [],
   "source": [
    "fermion_operators = [l[1][0] for l in out]"
   ]
  },
  {
   "cell_type": "code",
   "execution_count": 210,
   "metadata": {},
   "outputs": [
    {
     "data": {
      "text/plain": [
       "[['Id', 'C', 'Id', 'C'],\n",
       " ['Cd', 'N', 'Cd', 'N'],\n",
       " ['Id', 'C', 'Id', 'C'],\n",
       " ['Cd', 'N', 'Cd', 'N']]"
      ]
     },
     "execution_count": 210,
     "metadata": {},
     "output_type": "execute_result"
    }
   ],
   "source": [
    "[\n",
    "    fermion_operators[:4],\n",
    "    fermion_operators[4:8],\n",
    "    fermion_operators[8:12],\n",
    "    fermion_operators[12:16]\n",
    "]"
   ]
  },
  {
   "cell_type": "code",
   "execution_count": null,
   "metadata": {},
   "outputs": [],
   "source": [
    "models[0][1].c"
   ]
  },
  {
   "cell_type": "code",
   "execution_count": 195,
   "metadata": {},
   "outputs": [],
   "source": [
    "for l in psis:\n",
    "    for psi in l:\n",
    "        psi.canonical_form()"
   ]
  },
  {
   "cell_type": "code",
   "execution_count": 1,
   "metadata": {},
   "outputs": [
    {
     "ename": "NameError",
     "evalue": "name 'psis' is not defined",
     "output_type": "error",
     "traceback": [
      "\u001b[0;31m---------------------------------------------------------------------------\u001b[0m",
      "\u001b[0;31mNameError\u001b[0m                                 Traceback (most recent call last)",
      "Cell \u001b[0;32mIn[1], line 4\u001b[0m\n\u001b[1;32m      1\u001b[0m outpsis \u001b[38;5;241m=\u001b[39m \u001b[38;5;28mlist\u001b[39m()\n\u001b[1;32m      2\u001b[0m energies \u001b[38;5;241m=\u001b[39m \u001b[38;5;28mlist\u001b[39m()\n\u001b[0;32m----> 4\u001b[0m \u001b[38;5;28;01mfor\u001b[39;00m l1, l2 \u001b[38;5;129;01min\u001b[39;00m \u001b[38;5;28mzip\u001b[39m(\u001b[43mpsis\u001b[49m, models):\n\u001b[1;32m      5\u001b[0m     outpsis\u001b[38;5;241m.\u001b[39mappend(\u001b[38;5;28mlist\u001b[39m())\n\u001b[1;32m      6\u001b[0m     energies\u001b[38;5;241m.\u001b[39mappend(\u001b[38;5;28mlist\u001b[39m())\n",
      "\u001b[0;31mNameError\u001b[0m: name 'psis' is not defined"
     ]
    }
   ],
   "source": [
    "outpsis = list()\n",
    "energies = list()\n",
    "\n",
    "for l1, l2 in zip(psis, models):\n",
    "    outpsis.append(list())\n",
    "    energies.append(list())\n",
    "    \n",
    "    for psi, m in zip(l1, l2):\n",
    "        # Commenting out to supress error message clutter in notebook.\n",
    "        \"\"\"\n",
    "        eng = dmrg.TwoSiteDMRGEngine(psi, m, dmrg_params)\n",
    "        e, psi_out = eng.run()\n",
    "\n",
    "        outpsis[-1].append(psi_out)\n",
    "        energies[-1].append(e)\n",
    "        \"\"\""
   ]
  },
  {
   "cell_type": "code",
   "execution_count": 197,
   "metadata": {},
   "outputs": [
    {
     "data": {
      "text/plain": [
       "[[-18.000000000000036,\n",
       "  -8.196875831824364,\n",
       "  -8.514815527402932,\n",
       "  -8.97384686708272],\n",
       " [-18.00000000000004,\n",
       "  -8.628884646999314,\n",
       "  -8.279348259530973,\n",
       "  -8.999999999999979]]"
      ]
     },
     "execution_count": 197,
     "metadata": {},
     "output_type": "execute_result"
    }
   ],
   "source": [
    "energies"
   ]
  },
  {
   "cell_type": "markdown",
   "metadata": {},
   "source": [
    "## ZXZ case"
   ]
  },
  {
   "cell_type": "code",
   "execution_count": 105,
   "metadata": {},
   "outputs": [],
   "source": [
    "def get_xzx_op_list(g_quad):\n",
    "    out = list()\n",
    "    g_left, g_in, g_out, g_right = g_quad\n",
    "\n",
    "    out.append((f'map_{g_left}_{g_left}', 0, 0))\n",
    "    \n",
    "    out.append((f'map_{g_in}_{g_out}', 1, 0))\n",
    "    \n",
    "    out.append((f'map_{g_right}_{g_right}', 2, 0))\n",
    "\n",
    "    return out"
   ]
  },
  {
   "cell_type": "code",
   "execution_count": 136,
   "metadata": {},
   "outputs": [],
   "source": [
    "class Cluster(CouplingMPOModel):\n",
    "        default_lattice = \"Chain\"\n",
    "        force_default_lattice = True\n",
    "\n",
    "        # Would it be easier to subclass ClockSite?\n",
    "        def init_sites(self, model_params):\n",
    "            spin = ClockSite(4, conserve=None)\n",
    "            for i in range(4):\n",
    "                for j in range(4):\n",
    "                    X = np.zeros((4,4))\n",
    "                    X[j, i] = 1\n",
    "                    op_name = f\"map_{i}_{j}\"\n",
    "                    spin.add_op(op_name, X)\n",
    "            sites = [spin,]\n",
    "            return [spin,], ['s',]\n",
    "\n",
    "        def init_terms(self, model_params):\n",
    "            # Read off model parameters\n",
    "            \n",
    "            non_trivial_proj_rep = model_params.get('non_trivial_proj_rep', False)\n",
    "\n",
    "            group_quads = product(range(4), repeat=4)\n",
    "\n",
    "            for group_quad in group_quads:\n",
    "                op_list = get_xzx_op_list(group_quad)\n",
    "                if non_trivial_proj_rep:\n",
    "                    phase = get_proj_rep_term_phase(group_quad)\n",
    "                else:\n",
    "                    phase = 1\n",
    "                self.add_multi_coupling((-1/4)*phase, op_list)"
   ]
  },
  {
   "cell_type": "code",
   "execution_count": 137,
   "metadata": {},
   "outputs": [],
   "source": [
    "models = [\n",
    "    Cluster({'L': 20, 'non_trivial_proj_rep': b})\n",
    "    for b in [True, False]\n",
    "]"
   ]
  },
  {
   "cell_type": "code",
   "execution_count": 138,
   "metadata": {},
   "outputs": [
    {
     "data": {
      "text/plain": [
       "[<__main__.Cluster at 0x169fe90d0>, <__main__.Cluster at 0x168990690>]"
      ]
     },
     "execution_count": 138,
     "metadata": {},
     "output_type": "execute_result"
    }
   ],
   "source": [
    "models"
   ]
  },
  {
   "cell_type": "code",
   "execution_count": 139,
   "metadata": {},
   "outputs": [],
   "source": [
    "psis = [\n",
    "    MPS.from_lat_product_state(m.lat, [['0',],]*20) for m in models\n",
    "]"
   ]
  },
  {
   "cell_type": "code",
   "execution_count": 140,
   "metadata": {},
   "outputs": [],
   "source": [
    "dmrg_params = {\n",
    "    \"trunc_params\": {\"chi_max\": 8, \"chi_min\": 1, \"svd_min\": 1.e-10},\n",
    "    \"min_sweeps\":100,\n",
    "    \"max_sweeps\":200,\n",
    "    \"mixer\": True,\n",
    "    \"combine\":False,\n",
    "    'decay':2,\n",
    "    'amplitude':10e-1,\n",
    "    'disable_after':60,\n",
    "    'update_env':0\n",
    "}"
   ]
  },
  {
   "cell_type": "code",
   "execution_count": 141,
   "metadata": {},
   "outputs": [],
   "source": [
    "for psi in psis:\n",
    "    psi.canonical_form()"
   ]
  },
  {
   "cell_type": "code",
   "execution_count": 142,
   "metadata": {},
   "outputs": [
    {
     "name": "stderr",
     "output_type": "stream",
     "text": [
      "/Users/kierancooney/.pyenv/versions/num_spt_venv_p11/lib/python3.11/site-packages/tenpy/tools/params.py:230: UserWarning: unused options for config TwoSiteDMRGEngine:\n",
      "['amplitude', 'decay', 'disable_after', 'update_env']\n",
      "  warnings.warn(msg.format(keys=sorted(unused), name=self.name))\n"
     ]
    }
   ],
   "source": [
    "outpsis = list()\n",
    "energies = list()\n",
    "\n",
    "for psi, m in zip(psis, models):\n",
    "    eng = dmrg.TwoSiteDMRGEngine(psi, m, dmrg_params)\n",
    "    e, psi_out = eng.run()\n",
    "\n",
    "    outpsis.append(psi_out)\n",
    "    energies.append(e)"
   ]
  },
  {
   "cell_type": "code",
   "execution_count": 143,
   "metadata": {},
   "outputs": [
    {
     "data": {
      "text/plain": [
       "[-17.999999999999996, -18.000000000000046]"
      ]
     },
     "execution_count": 143,
     "metadata": {},
     "output_type": "execute_result"
    }
   ],
   "source": [
    "energies"
   ]
  },
  {
   "cell_type": "code",
   "execution_count": 144,
   "metadata": {},
   "outputs": [
    {
     "data": {
      "text/plain": [
       "[<__main__.Cluster at 0x169fe90d0>, <__main__.Cluster at 0x168990690>]"
      ]
     },
     "execution_count": 144,
     "metadata": {},
     "output_type": "execute_result"
    }
   ],
   "source": [
    "models"
   ]
  },
  {
   "cell_type": "code",
   "execution_count": 152,
   "metadata": {},
   "outputs": [],
   "source": [
    "m = models[0]"
   ]
  },
  {
   "cell_type": "code",
   "execution_count": 153,
   "metadata": {},
   "outputs": [],
   "source": [
    "m.test_sanity()"
   ]
  },
  {
   "cell_type": "code",
   "execution_count": 154,
   "metadata": {},
   "outputs": [],
   "source": [
    "mpo = m.calc_H_MPO()"
   ]
  },
  {
   "cell_type": "code",
   "execution_count": 155,
   "metadata": {},
   "outputs": [
    {
     "data": {
      "text/plain": [
       "True"
      ]
     },
     "execution_count": 155,
     "metadata": {},
     "output_type": "execute_result"
    }
   ],
   "source": [
    "mpo.is_hermitian()"
   ]
  },
  {
   "cell_type": "code",
   "execution_count": 156,
   "metadata": {},
   "outputs": [],
   "source": [
    "m = models[1]"
   ]
  },
  {
   "cell_type": "code",
   "execution_count": 157,
   "metadata": {},
   "outputs": [],
   "source": [
    "m.test_sanity()"
   ]
  },
  {
   "cell_type": "code",
   "execution_count": 158,
   "metadata": {},
   "outputs": [],
   "source": [
    "mpo = m.calc_H_MPO()"
   ]
  },
  {
   "cell_type": "code",
   "execution_count": 159,
   "metadata": {},
   "outputs": [
    {
     "data": {
      "text/plain": [
       "True"
      ]
     },
     "execution_count": 159,
     "metadata": {},
     "output_type": "execute_result"
    }
   ],
   "source": [
    "mpo.is_hermitian()"
   ]
  },
  {
   "cell_type": "code",
   "execution_count": 160,
   "metadata": {},
   "outputs": [],
   "source": [
    "psi = outpsis[1]"
   ]
  },
  {
   "cell_type": "code",
   "execution_count": 163,
   "metadata": {},
   "outputs": [
    {
     "data": {
      "text/plain": [
       "array([[[1.],\n",
       "        [0.],\n",
       "        [0.],\n",
       "        [0.]]])"
      ]
     },
     "execution_count": 163,
     "metadata": {},
     "output_type": "execute_result"
    }
   ],
   "source": [
    "psi.get_B(0).to_ndarray()"
   ]
  },
  {
   "cell_type": "code",
   "execution_count": 164,
   "metadata": {},
   "outputs": [
    {
     "data": {
      "text/plain": [
       "array([[[-0.5],\n",
       "        [-0.5],\n",
       "        [-0.5],\n",
       "        [-0.5]]])"
      ]
     },
     "execution_count": 164,
     "metadata": {},
     "output_type": "execute_result"
    }
   ],
   "source": [
    "psi.get_B(1).to_ndarray()"
   ]
  },
  {
   "cell_type": "code",
   "execution_count": 165,
   "metadata": {},
   "outputs": [
    {
     "data": {
      "text/plain": [
       "array([[[-0.5],\n",
       "        [-0.5],\n",
       "        [-0.5],\n",
       "        [-0.5]]])"
      ]
     },
     "execution_count": 165,
     "metadata": {},
     "output_type": "execute_result"
    }
   ],
   "source": [
    "psi.get_B(10).to_ndarray()"
   ]
  },
  {
   "cell_type": "markdown",
   "metadata": {},
   "source": [
    "# Update hamiltonian"
   ]
  },
  {
   "cell_type": "code",
   "execution_count": 18,
   "metadata": {},
   "outputs": [],
   "source": [
    "def get_op_list_1(g_quad, n1_func):\n",
    "    out = list()\n",
    "    g_left, g_in, g_out, g_right = g_quad\n",
    "\n",
    "    out.append((f'map_{g_left}_{g_left}', 0, 0))\n",
    "\n",
    "    if n1_func(g_in, g_right):\n",
    "        out.append(('Cd', 1, 1))\n",
    "    if n1_func(g_left, g_in):\n",
    "        out.append(('Cd', 0, 1))\n",
    "    \n",
    "    out.append((f'map_{g_in}_{g_out}', 1, 0))\n",
    "    \n",
    "    if n1_func(g_left, g_out):\n",
    "        out.append(('C', 0, 1))\n",
    "    if n1_func(g_out, g_right):\n",
    "        out.append(('C', 1, 1))\n",
    "\n",
    "    out.append((f'map_{g_right}_{g_right}', 2, 0))\n",
    "\n",
    "    return out"
   ]
  },
  {
   "cell_type": "code",
   "execution_count": 19,
   "metadata": {},
   "outputs": [],
   "source": [
    "class ClusterFermion1(CouplingMPOModel):\n",
    "        default_lattice = \"Chain\"\n",
    "        force_default_lattice = True\n",
    "\n",
    "        # Would it be easier to subclass ClockSite?\n",
    "        def init_sites(self, model_params):\n",
    "            spin = ClockSite(4, conserve=None)\n",
    "            for i in range(4):\n",
    "                for j in range(4):\n",
    "                    X = np.zeros((4,4))\n",
    "                    X[j, i] = 1\n",
    "                    op_name = f\"map_{i}_{j}\"\n",
    "                    spin.add_op(op_name, X)\n",
    "            ferm = FermionSite(conserve=None)\n",
    "            sites = [spin, ferm]\n",
    "            return [spin, ferm], ['s', 'f']\n",
    "\n",
    "        def init_terms(self, model_params):\n",
    "            # Read off model parameters\n",
    "            n1_01, n1_10 = model_params.get('n1', (0,0))\n",
    "            n1_func = get_n1_func(n1_01, n1_10)\n",
    "\n",
    "            non_trivial_proj_rep = model_params.get('non_trivial_proj_rep', False)\n",
    "\n",
    "            group_quads = product(range(4), repeat=4)\n",
    "\n",
    "            for group_quad in group_quads:\n",
    "                op_list = get_op_list_1(group_quad, n1_func)\n",
    "                \n",
    "                if non_trivial_proj_rep:\n",
    "                    phase = get_proj_rep_term_phase(group_quad)\n",
    "                else:\n",
    "                    phase = 1\n",
    "\n",
    "                g_left, *_, g_right = group_quad\n",
    "                if n1_func(g_left, g_right) == 1:\n",
    "                    factor = 2\n",
    "                else:\n",
    "                    factor = 1\n",
    "\n",
    "                self.add_multi_coupling((-1/4)*phase*factor, op_list)"
   ]
  },
  {
   "cell_type": "code",
   "execution_count": 23,
   "metadata": {},
   "outputs": [],
   "source": [
    "models = [\n",
    "    [ClusterFermion1({'L': 20, 'n1': p, 'non_trivial_proj_rep': b}) for p in n1_pairs]\n",
    "    for b in [True, False]\n",
    "]"
   ]
  },
  {
   "cell_type": "code",
   "execution_count": 25,
   "metadata": {},
   "outputs": [
    {
     "data": {
      "text/plain": [
       "[[<__main__.ClusterFermion1 at 0x7855c3d72210>,\n",
       "  <__main__.ClusterFermion1 at 0x7855c5ab6310>,\n",
       "  <__main__.ClusterFermion1 at 0x7855c332cbd0>,\n",
       "  <__main__.ClusterFermion1 at 0x7855c0574bd0>],\n",
       " [<__main__.ClusterFermion1 at 0x7855bf7cc4d0>,\n",
       "  <__main__.ClusterFermion1 at 0x7855bf5a4bd0>,\n",
       "  <__main__.ClusterFermion1 at 0x7855be938d10>,\n",
       "  <__main__.ClusterFermion1 at 0x7855bdfd4bd0>]]"
      ]
     },
     "execution_count": 25,
     "metadata": {},
     "output_type": "execute_result"
    }
   ],
   "source": [
    "models"
   ]
  },
  {
   "cell_type": "code",
   "execution_count": 26,
   "metadata": {},
   "outputs": [],
   "source": [
    "psis = [\n",
    "    [MPS.from_lat_product_state(m.lat, [['0', 'empty'],]*20) for m in l]\n",
    "    for l in models\n",
    "]"
   ]
  },
  {
   "cell_type": "code",
   "execution_count": 27,
   "metadata": {},
   "outputs": [],
   "source": [
    "dmrg_params = {\n",
    "    \"trunc_params\": {\"chi_max\": 8, \"chi_min\": 1, \"svd_min\": 1.e-10},\n",
    "    \"min_sweeps\":100,\n",
    "    \"max_sweeps\":200,\n",
    "    \"mixer\": True,\n",
    "    \"combine\":False,\n",
    "    'decay':2,\n",
    "    'amplitude':10e-1,\n",
    "    'disable_after':60,\n",
    "    'update_env':0\n",
    "}"
   ]
  },
  {
   "cell_type": "code",
   "execution_count": 28,
   "metadata": {},
   "outputs": [
    {
     "name": "stdout",
     "output_type": "stream",
     "text": [
      "True\n",
      "True\n",
      "True\n",
      "True\n",
      "True\n",
      "True\n",
      "True\n",
      "True\n"
     ]
    }
   ],
   "source": [
    "for l in models:\n",
    "    for m in l:\n",
    "        mpo = m.calc_H_MPO()\n",
    "        print(mpo.is_hermitian())"
   ]
  },
  {
   "cell_type": "code",
   "execution_count": 29,
   "metadata": {},
   "outputs": [],
   "source": [
    "for l in psis:\n",
    "    for psi in l:\n",
    "        psi.canonical_form()"
   ]
  },
  {
   "cell_type": "code",
   "execution_count": 30,
   "metadata": {},
   "outputs": [
    {
     "name": "stderr",
     "output_type": "stream",
     "text": [
      "/home/kieranc/Desktop/numerical_spt_classification/code/num_spt_venv_p11/lib/python3.11/site-packages/tenpy/tools/params.py:230: UserWarning: unused options for config TwoSiteDMRGEngine:\n",
      "['amplitude', 'decay', 'disable_after', 'update_env']\n",
      "  warnings.warn(msg.format(keys=sorted(unused), name=self.name))\n",
      "/home/kieranc/Desktop/numerical_spt_classification/code/num_spt_venv_p11/lib/python3.11/site-packages/tenpy/tools/params.py:230: UserWarning: unused options for config TwoSiteDMRGEngine:\n",
      "['amplitude', 'decay', 'disable_after', 'update_env']\n",
      "  warnings.warn(msg.format(keys=sorted(unused), name=self.name))\n",
      "/home/kieranc/Desktop/numerical_spt_classification/code/num_spt_venv_p11/lib/python3.11/site-packages/tenpy/tools/params.py:230: UserWarning: unused options for config TwoSiteDMRGEngine:\n",
      "['amplitude', 'decay', 'disable_after', 'update_env']\n",
      "  warnings.warn(msg.format(keys=sorted(unused), name=self.name))\n",
      "/home/kieranc/Desktop/numerical_spt_classification/code/num_spt_venv_p11/lib/python3.11/site-packages/tenpy/tools/params.py:230: UserWarning: unused options for config TwoSiteDMRGEngine:\n",
      "['amplitude', 'decay', 'disable_after', 'update_env']\n",
      "  warnings.warn(msg.format(keys=sorted(unused), name=self.name))\n",
      "/home/kieranc/Desktop/numerical_spt_classification/code/num_spt_venv_p11/lib/python3.11/site-packages/tenpy/tools/params.py:230: UserWarning: unused options for config TwoSiteDMRGEngine:\n",
      "['amplitude', 'decay', 'disable_after', 'update_env']\n",
      "  warnings.warn(msg.format(keys=sorted(unused), name=self.name))\n",
      "/home/kieranc/Desktop/numerical_spt_classification/code/num_spt_venv_p11/lib/python3.11/site-packages/tenpy/tools/params.py:230: UserWarning: unused options for config TwoSiteDMRGEngine:\n",
      "['amplitude', 'decay', 'disable_after', 'update_env']\n",
      "  warnings.warn(msg.format(keys=sorted(unused), name=self.name))\n",
      "/home/kieranc/Desktop/numerical_spt_classification/code/num_spt_venv_p11/lib/python3.11/site-packages/tenpy/tools/params.py:230: UserWarning: unused options for config TwoSiteDMRGEngine:\n",
      "['amplitude', 'decay', 'disable_after', 'update_env']\n",
      "  warnings.warn(msg.format(keys=sorted(unused), name=self.name))\n"
     ]
    }
   ],
   "source": [
    "outpsis = list()\n",
    "energies = list()\n",
    "\n",
    "for l1, l2 in zip(psis, models):\n",
    "    outpsis.append(list())\n",
    "    energies.append(list())\n",
    "\n",
    "        \n",
    "    for psi, m in zip(l1, l2):\n",
    "        eng = dmrg.TwoSiteDMRGEngine(psi, m, dmrg_params)\n",
    "        e, psi_out = eng.run()\n",
    "    \n",
    "        outpsis[-1].append(psi_out)\n",
    "        energies[-1].append(e)"
   ]
  },
  {
   "cell_type": "code",
   "execution_count": 31,
   "metadata": {},
   "outputs": [
    {
     "data": {
      "text/plain": [
       "[[-17.999999999999982,\n",
       "  -17.999999999999975,\n",
       "  -17.999999999999964,\n",
       "  -17.99999999999994],\n",
       " [-18.000000000000032,\n",
       "  -18.000000000000004,\n",
       "  -17.999999999999975,\n",
       "  -17.99999999999997]]"
      ]
     },
     "execution_count": 31,
     "metadata": {},
     "output_type": "execute_result"
    }
   ],
   "source": [
    "energies"
   ]
  },
  {
   "cell_type": "markdown",
   "metadata": {},
   "source": [
    "Try without \"factor\""
   ]
  },
  {
   "cell_type": "code",
   "execution_count": 32,
   "metadata": {},
   "outputs": [],
   "source": [
    "class ClusterFermion1(CouplingMPOModel):\n",
    "        default_lattice = \"Chain\"\n",
    "        force_default_lattice = True\n",
    "\n",
    "        # Would it be easier to subclass ClockSite?\n",
    "        def init_sites(self, model_params):\n",
    "            spin = ClockSite(4, conserve=None)\n",
    "            for i in range(4):\n",
    "                for j in range(4):\n",
    "                    X = np.zeros((4,4))\n",
    "                    X[j, i] = 1\n",
    "                    op_name = f\"map_{i}_{j}\"\n",
    "                    spin.add_op(op_name, X)\n",
    "            ferm = FermionSite(conserve=None)\n",
    "            sites = [spin, ferm]\n",
    "            return [spin, ferm], ['s', 'f']\n",
    "\n",
    "        def init_terms(self, model_params):\n",
    "            # Read off model parameters\n",
    "            n1_01, n1_10 = model_params.get('n1', (0,0))\n",
    "            n1_func = get_n1_func(n1_01, n1_10)\n",
    "\n",
    "            non_trivial_proj_rep = model_params.get('non_trivial_proj_rep', False)\n",
    "\n",
    "            group_quads = product(range(4), repeat=4)\n",
    "\n",
    "            for group_quad in group_quads:\n",
    "                op_list = get_op_list_1(group_quad, n1_func)\n",
    "                \n",
    "                if non_trivial_proj_rep:\n",
    "                    phase = get_proj_rep_term_phase(group_quad)\n",
    "                else:\n",
    "                    phase = 1\n",
    "\n",
    "                g_left, *_, g_right = group_quad\n",
    "                factor=1\n",
    "\n",
    "                self.add_multi_coupling((-1/4)*phase*factor, op_list)"
   ]
  },
  {
   "cell_type": "code",
   "execution_count": 33,
   "metadata": {},
   "outputs": [],
   "source": [
    "models = [\n",
    "    [ClusterFermion1({'L': 20, 'n1': p, 'non_trivial_proj_rep': b}) for p in n1_pairs]\n",
    "    for b in [True, False]\n",
    "]"
   ]
  },
  {
   "cell_type": "code",
   "execution_count": 34,
   "metadata": {},
   "outputs": [
    {
     "data": {
      "text/plain": [
       "[[<__main__.ClusterFermion1 at 0x7855bd747390>,\n",
       "  <__main__.ClusterFermion1 at 0x7855bd78dcd0>,\n",
       "  <__main__.ClusterFermion1 at 0x7855ba3359d0>,\n",
       "  <__main__.ClusterFermion1 at 0x7855b9780710>],\n",
       " [<__main__.ClusterFermion1 at 0x7855b88c4bd0>,\n",
       "  <__main__.ClusterFermion1 at 0x7855b822cbd0>,\n",
       "  <__main__.ClusterFermion1 at 0x7855b75244d0>,\n",
       "  <__main__.ClusterFermion1 at 0x7855b6e68d10>]]"
      ]
     },
     "execution_count": 34,
     "metadata": {},
     "output_type": "execute_result"
    }
   ],
   "source": [
    "models"
   ]
  },
  {
   "cell_type": "code",
   "execution_count": 35,
   "metadata": {},
   "outputs": [],
   "source": [
    "psis = [\n",
    "    [MPS.from_lat_product_state(m.lat, [['0', 'empty'],]*20) for m in l]\n",
    "    for l in models\n",
    "]"
   ]
  },
  {
   "cell_type": "code",
   "execution_count": 36,
   "metadata": {},
   "outputs": [],
   "source": [
    "dmrg_params = {\n",
    "    \"trunc_params\": {\"chi_max\": 8, \"chi_min\": 1, \"svd_min\": 1.e-10},\n",
    "    \"min_sweeps\":100,\n",
    "    \"max_sweeps\":200,\n",
    "    \"mixer\": True,\n",
    "    \"combine\":False,\n",
    "    'decay':2,\n",
    "    'amplitude':10e-1,\n",
    "    'disable_after':60,\n",
    "    'update_env':0\n",
    "}"
   ]
  },
  {
   "cell_type": "code",
   "execution_count": 37,
   "metadata": {},
   "outputs": [
    {
     "name": "stdout",
     "output_type": "stream",
     "text": [
      "True\n",
      "True\n",
      "True\n",
      "True\n",
      "True\n",
      "True\n",
      "True\n",
      "True\n"
     ]
    }
   ],
   "source": [
    "for l in models:\n",
    "    for m in l:\n",
    "        mpo = m.calc_H_MPO()\n",
    "        print(mpo.is_hermitian())"
   ]
  },
  {
   "cell_type": "code",
   "execution_count": 38,
   "metadata": {},
   "outputs": [],
   "source": [
    "for l in psis:\n",
    "    for psi in l:\n",
    "        psi.canonical_form()"
   ]
  },
  {
   "cell_type": "code",
   "execution_count": 39,
   "metadata": {},
   "outputs": [
    {
     "name": "stderr",
     "output_type": "stream",
     "text": [
      "/home/kieranc/Desktop/numerical_spt_classification/code/num_spt_venv_p11/lib/python3.11/site-packages/tenpy/tools/params.py:230: UserWarning: unused options for config TwoSiteDMRGEngine:\n",
      "['amplitude', 'decay', 'disable_after', 'update_env']\n",
      "  warnings.warn(msg.format(keys=sorted(unused), name=self.name))\n",
      "/home/kieranc/Desktop/numerical_spt_classification/code/num_spt_venv_p11/lib/python3.11/site-packages/tenpy/tools/params.py:230: UserWarning: unused options for config TwoSiteDMRGEngine:\n",
      "['amplitude', 'decay', 'disable_after', 'update_env']\n",
      "  warnings.warn(msg.format(keys=sorted(unused), name=self.name))\n",
      "/home/kieranc/Desktop/numerical_spt_classification/code/num_spt_venv_p11/lib/python3.11/site-packages/tenpy/tools/params.py:230: UserWarning: unused options for config TwoSiteDMRGEngine:\n",
      "['amplitude', 'decay', 'disable_after', 'update_env']\n",
      "  warnings.warn(msg.format(keys=sorted(unused), name=self.name))\n",
      "/home/kieranc/Desktop/numerical_spt_classification/code/num_spt_venv_p11/lib/python3.11/site-packages/tenpy/tools/params.py:230: UserWarning: unused options for config TwoSiteDMRGEngine:\n",
      "['amplitude', 'decay', 'disable_after', 'update_env']\n",
      "  warnings.warn(msg.format(keys=sorted(unused), name=self.name))\n",
      "/home/kieranc/Desktop/numerical_spt_classification/code/num_spt_venv_p11/lib/python3.11/site-packages/tenpy/tools/params.py:230: UserWarning: unused options for config TwoSiteDMRGEngine:\n",
      "['amplitude', 'decay', 'disable_after', 'update_env']\n",
      "  warnings.warn(msg.format(keys=sorted(unused), name=self.name))\n",
      "/home/kieranc/Desktop/numerical_spt_classification/code/num_spt_venv_p11/lib/python3.11/site-packages/tenpy/tools/params.py:230: UserWarning: unused options for config TwoSiteDMRGEngine:\n",
      "['amplitude', 'decay', 'disable_after', 'update_env']\n",
      "  warnings.warn(msg.format(keys=sorted(unused), name=self.name))\n",
      "/home/kieranc/Desktop/numerical_spt_classification/code/num_spt_venv_p11/lib/python3.11/site-packages/tenpy/tools/params.py:230: UserWarning: unused options for config TwoSiteDMRGEngine:\n",
      "['amplitude', 'decay', 'disable_after', 'update_env']\n",
      "  warnings.warn(msg.format(keys=sorted(unused), name=self.name))\n",
      "/home/kieranc/Desktop/numerical_spt_classification/code/num_spt_venv_p11/lib/python3.11/site-packages/tenpy/tools/params.py:230: UserWarning: unused options for config TwoSiteDMRGEngine:\n",
      "['amplitude', 'decay', 'disable_after', 'update_env']\n",
      "  warnings.warn(msg.format(keys=sorted(unused), name=self.name))\n"
     ]
    }
   ],
   "source": [
    "outpsis = list()\n",
    "energies = list()\n",
    "\n",
    "for l1, l2 in zip(psis, models):\n",
    "    outpsis.append(list())\n",
    "    energies.append(list())\n",
    "\n",
    "        \n",
    "    for psi, m in zip(l1, l2):\n",
    "        eng = dmrg.TwoSiteDMRGEngine(psi, m, dmrg_params)\n",
    "        e, psi_out = eng.run()\n",
    "    \n",
    "        outpsis[-1].append(psi_out)\n",
    "        energies[-1].append(e)"
   ]
  },
  {
   "cell_type": "code",
   "execution_count": 40,
   "metadata": {},
   "outputs": [
    {
     "data": {
      "text/plain": [
       "[[-17.999999999999982,\n",
       "  -12.342466171618899,\n",
       "  -12.34246617161892,\n",
       "  -12.3424661716189],\n",
       " [-18.000000000000032,\n",
       "  -12.342052318754007,\n",
       "  -12.342146563149196,\n",
       "  -12.341908845734233]]"
      ]
     },
     "execution_count": 40,
     "metadata": {},
     "output_type": "execute_result"
    }
   ],
   "source": [
    "energies"
   ]
  },
  {
   "cell_type": "markdown",
   "metadata": {},
   "source": [
    "## Check correlation lengths\n",
    "Should be 0."
   ]
  },
  {
   "cell_type": "code",
   "execution_count": 19,
   "metadata": {},
   "outputs": [],
   "source": [
    "def get_op_list_1(g_quad, n1_func):\n",
    "    out = list()\n",
    "    g_left, g_in, g_out, g_right = g_quad\n",
    "\n",
    "    out.append((f'map_{g_left}_{g_left}', 0, 0))\n",
    "\n",
    "    if n1_func(g_in, g_right):\n",
    "        out.append(('Cd', 1, 1))\n",
    "    if n1_func(g_left, g_in):\n",
    "        out.append(('Cd', 0, 1))\n",
    "    \n",
    "    out.append((f'map_{g_in}_{g_out}', 1, 0))\n",
    "    \n",
    "    if n1_func(g_left, g_out):\n",
    "        out.append(('C', 0, 1))\n",
    "    if n1_func(g_out, g_right):\n",
    "        out.append(('C', 1, 1))\n",
    "\n",
    "    out.append((f'map_{g_right}_{g_right}', 2, 0))\n",
    "\n",
    "    return out"
   ]
  },
  {
   "cell_type": "code",
   "execution_count": 20,
   "metadata": {},
   "outputs": [],
   "source": [
    "class ClusterFermion1(CouplingMPOModel):\n",
    "        default_lattice = \"Chain\"\n",
    "        force_default_lattice = True\n",
    "\n",
    "        # Would it be easier to subclass ClockSite?\n",
    "        def init_sites(self, model_params):\n",
    "            spin = ClockSite(4, conserve=None)\n",
    "            for i in range(4):\n",
    "                for j in range(4):\n",
    "                    X = np.zeros((4,4))\n",
    "                    X[j, i] = 1\n",
    "                    op_name = f\"map_{i}_{j}\"\n",
    "                    spin.add_op(op_name, X)\n",
    "            ferm = FermionSite(conserve=None)\n",
    "            sites = [spin, ferm]\n",
    "            return [spin, ferm], ['s', 'f']\n",
    "\n",
    "        def init_terms(self, model_params):\n",
    "            # Read off model parameters\n",
    "            n1_01, n1_10 = model_params.get('n1', (0,0))\n",
    "            n1_func = get_n1_func(n1_01, n1_10)\n",
    "\n",
    "            non_trivial_proj_rep = model_params.get('non_trivial_proj_rep', False)\n",
    "\n",
    "            group_quads = product(range(4), repeat=4)\n",
    "\n",
    "            for group_quad in group_quads:\n",
    "                op_list = get_op_list_1(group_quad, n1_func)\n",
    "                \n",
    "                if non_trivial_proj_rep:\n",
    "                    phase = get_proj_rep_term_phase(group_quad)\n",
    "                else:\n",
    "                    phase = 1\n",
    "\n",
    "                g_left, *_, g_right = group_quad\n",
    "                if n1_func(g_left, g_right) == 1:\n",
    "                    factor = 2\n",
    "                else:\n",
    "                    factor = 1\n",
    "\n",
    "                self.add_multi_coupling((-1/4)*phase*factor, op_list)"
   ]
  },
  {
   "cell_type": "code",
   "execution_count": 21,
   "metadata": {},
   "outputs": [],
   "source": [
    "models = [\n",
    "    [ClusterFermion1({'L': 50, 'n1': p, 'non_trivial_proj_rep': b}) for p in n1_pairs]\n",
    "    for b in [True, False]\n",
    "]"
   ]
  },
  {
   "cell_type": "code",
   "execution_count": 22,
   "metadata": {},
   "outputs": [
    {
     "data": {
      "text/plain": [
       "[[<__main__.ClusterFermion1 at 0x152e44350>,\n",
       "  <__main__.ClusterFermion1 at 0x163702b50>,\n",
       "  <__main__.ClusterFermion1 at 0x164dcab50>,\n",
       "  <__main__.ClusterFermion1 at 0x167d32b50>],\n",
       " [<__main__.ClusterFermion1 at 0x169ac2b50>,\n",
       "  <__main__.ClusterFermion1 at 0x16abbab50>,\n",
       "  <__main__.ClusterFermion1 at 0x16bd4ab50>,\n",
       "  <__main__.ClusterFermion1 at 0x175922b50>]]"
      ]
     },
     "execution_count": 22,
     "metadata": {},
     "output_type": "execute_result"
    }
   ],
   "source": [
    "models"
   ]
  },
  {
   "cell_type": "code",
   "execution_count": 23,
   "metadata": {},
   "outputs": [],
   "source": [
    "psis = [\n",
    "    [MPS.from_lat_product_state(m.lat, [['0', 'empty'],]*50) for m in l]\n",
    "    for l in models\n",
    "]"
   ]
  },
  {
   "cell_type": "code",
   "execution_count": 24,
   "metadata": {},
   "outputs": [],
   "source": [
    "dmrg_params = {\n",
    "    \"trunc_params\": {\"chi_max\": 8, \"chi_min\": 1, \"svd_min\": 1.e-10},\n",
    "    \"min_sweeps\":100,\n",
    "    \"max_sweeps\":200,\n",
    "    \"mixer\": True,\n",
    "    \"combine\":False,\n",
    "    'decay':2,\n",
    "    'amplitude':10e-1,\n",
    "    'disable_after':60,\n",
    "    'update_env':0\n",
    "}"
   ]
  },
  {
   "cell_type": "code",
   "execution_count": 25,
   "metadata": {},
   "outputs": [],
   "source": [
    "for l in psis:\n",
    "    for psi in l:\n",
    "        psi.canonical_form()"
   ]
  },
  {
   "cell_type": "code",
   "execution_count": 26,
   "metadata": {},
   "outputs": [
    {
     "name": "stderr",
     "output_type": "stream",
     "text": [
      "/Users/kierancooney/.pyenv/versions/num_spt_venv_p11/lib/python3.11/site-packages/tenpy/tools/params.py:230: UserWarning: unused options for config TwoSiteDMRGEngine:\n",
      "['amplitude', 'decay', 'disable_after', 'update_env']\n",
      "  warnings.warn(msg.format(keys=sorted(unused), name=self.name))\n",
      "/Users/kierancooney/.pyenv/versions/num_spt_venv_p11/lib/python3.11/site-packages/tenpy/tools/params.py:230: UserWarning: unused options for config TwoSiteDMRGEngine:\n",
      "['amplitude', 'decay', 'disable_after', 'update_env']\n",
      "  warnings.warn(msg.format(keys=sorted(unused), name=self.name))\n",
      "/Users/kierancooney/.pyenv/versions/num_spt_venv_p11/lib/python3.11/site-packages/tenpy/tools/params.py:230: UserWarning: unused options for config TwoSiteDMRGEngine:\n",
      "['amplitude', 'decay', 'disable_after', 'update_env']\n",
      "  warnings.warn(msg.format(keys=sorted(unused), name=self.name))\n",
      "/Users/kierancooney/.pyenv/versions/num_spt_venv_p11/lib/python3.11/site-packages/tenpy/tools/params.py:230: UserWarning: unused options for config TwoSiteDMRGEngine:\n",
      "['amplitude', 'decay', 'disable_after', 'update_env']\n",
      "  warnings.warn(msg.format(keys=sorted(unused), name=self.name))\n",
      "/Users/kierancooney/.pyenv/versions/num_spt_venv_p11/lib/python3.11/site-packages/tenpy/tools/params.py:230: UserWarning: unused options for config TwoSiteDMRGEngine:\n",
      "['amplitude', 'decay', 'disable_after', 'update_env']\n",
      "  warnings.warn(msg.format(keys=sorted(unused), name=self.name))\n",
      "/Users/kierancooney/.pyenv/versions/num_spt_venv_p11/lib/python3.11/site-packages/tenpy/tools/params.py:230: UserWarning: unused options for config TwoSiteDMRGEngine:\n",
      "['amplitude', 'decay', 'disable_after', 'update_env']\n",
      "  warnings.warn(msg.format(keys=sorted(unused), name=self.name))\n",
      "/Users/kierancooney/.pyenv/versions/num_spt_venv_p11/lib/python3.11/site-packages/tenpy/tools/params.py:230: UserWarning: unused options for config TwoSiteDMRGEngine:\n",
      "['amplitude', 'decay', 'disable_after', 'update_env']\n",
      "  warnings.warn(msg.format(keys=sorted(unused), name=self.name))\n"
     ]
    }
   ],
   "source": [
    "outpsis = list()\n",
    "energies = list()\n",
    "\n",
    "for l1, l2 in zip(psis, models):\n",
    "    outpsis.append(list())\n",
    "    energies.append(list())\n",
    "\n",
    "        \n",
    "    for psi, m in zip(l1, l2):\n",
    "        try:\n",
    "            eng = dmrg.TwoSiteDMRGEngine(psi, m, dmrg_params)\n",
    "            e, psi_out = eng.run()\n",
    "        except:\n",
    "            e, psi_out = None, None\n",
    "\n",
    "        outpsis[-1].append(psi_out)\n",
    "        energies[-1].append(e)"
   ]
  },
  {
   "cell_type": "code",
   "execution_count": 54,
   "metadata": {},
   "outputs": [
    {
     "data": {
      "text/plain": [
       "[[-96.0000000000011,\n",
       "  -61.932424627532924,\n",
       "  -61.93242462752965,\n",
       "  -61.9324246248189],\n",
       " [-96.00000000000038,\n",
       "  -61.93197511895478,\n",
       "  -61.93197511895475,\n",
       "  -61.93197511895518]]"
      ]
     },
     "execution_count": 54,
     "metadata": {},
     "output_type": "execute_result"
    }
   ],
   "source": [
    "energies"
   ]
  },
  {
   "cell_type": "code",
   "execution_count": 28,
   "metadata": {},
   "outputs": [
    {
     "data": {
      "text/plain": [
       "100"
      ]
     },
     "execution_count": 28,
     "metadata": {},
     "output_type": "execute_result"
    }
   ],
   "source": [
    "len(outpsis[0][0].sites)"
   ]
  },
  {
   "cell_type": "code",
   "execution_count": 29,
   "metadata": {},
   "outputs": [
    {
     "data": {
      "text/plain": [
       "array([0.5, 0.5, 0.5, 0.5])"
      ]
     },
     "execution_count": 29,
     "metadata": {},
     "output_type": "execute_result"
    }
   ],
   "source": [
    "outpsis[0][0].get_SR(10)"
   ]
  },
  {
   "cell_type": "code",
   "execution_count": 30,
   "metadata": {},
   "outputs": [
    {
     "data": {
      "text/plain": [
       "array([0.5, 0.5, 0.5, 0.5])"
      ]
     },
     "execution_count": 30,
     "metadata": {},
     "output_type": "execute_result"
    }
   ],
   "source": [
    "outpsis[0][0].get_SR(9)"
   ]
  },
  {
   "cell_type": "code",
   "execution_count": 31,
   "metadata": {},
   "outputs": [
    {
     "data": {
      "text/plain": [
       "array([0.5, 0.5, 0.5, 0.5])"
      ]
     },
     "execution_count": 31,
     "metadata": {},
     "output_type": "execute_result"
    }
   ],
   "source": [
    "outpsis[0][0].get_SR(11)"
   ]
  },
  {
   "cell_type": "code",
   "execution_count": 32,
   "metadata": {},
   "outputs": [
    {
     "name": "stderr",
     "output_type": "stream",
     "text": [
      "/var/folders/r3/xn8xq5c17932m2g1b4r3dss80000gn/T/ipykernel_79511/3510999881.py:21: ComplexWarning: Casting complex values to real discards the imaginary part\n",
      "  boson_expectations[i,j,k] = data\n"
     ]
    }
   ],
   "source": [
    "boson_expectations = np.zeros((2, 2, 4, 50))\n",
    "\n",
    "indices = product(\n",
    "    enumerate(['X', 'Z']),\n",
    "    range(2),\n",
    "    range(4)\n",
    ")\n",
    "\n",
    "for (i, op), j, k in indices:\n",
    "    try:\n",
    "        psi = outpsis[j][k]\n",
    "        \n",
    "        data = (\n",
    "            psi\n",
    "            .expectation_value(\n",
    "                op,\n",
    "                list(range(0, 100, 2))\n",
    "            )\n",
    "        )\n",
    "\n",
    "        boson_expectations[i,j,k] = data\n",
    "\n",
    "    except:\n",
    "        boson_expectations[i,j,k] = np.nan"
   ]
  },
  {
   "cell_type": "code",
   "execution_count": 33,
   "metadata": {},
   "outputs": [
    {
     "data": {
      "text/plain": [
       "array([[[ 0.00000000e+00, -7.79567137e-15, -9.85322934e-16,\n",
       "         -1.41119755e-15, -5.18422111e-15, -2.42514342e-15,\n",
       "         -2.40953091e-15,  2.10248485e-15, -8.39606162e-16,\n",
       "         -8.63892291e-16,  6.50521303e-16,  1.45716772e-16,\n",
       "          6.31439345e-16, -4.37150316e-16,  6.01949046e-16,\n",
       "         -2.15626128e-15,  5.10008702e-16,  2.01227923e-15,\n",
       "         -6.89986263e-16,  1.56125113e-15, -1.28543010e-15,\n",
       "         -2.28983499e-15,  8.74300632e-16, -4.08006962e-15,\n",
       "          6.66133815e-16,  3.46944695e-18,  5.69683190e-15,\n",
       "          5.16947596e-16, -3.98986399e-15,  2.30718222e-16,\n",
       "          1.58900670e-15,  1.19695920e-15, -6.93889390e-18,\n",
       "         -8.84708973e-16,  1.87350135e-15,  5.55111512e-17,\n",
       "          2.57172755e-15, -2.41473508e-15, -1.18655086e-15,\n",
       "          1.28716482e-15, -2.77555756e-16, -6.24500451e-17,\n",
       "         -5.55111512e-16,  7.18175519e-16, -9.88792381e-16,\n",
       "         -1.08246745e-15, -9.43689571e-16, -5.20417043e-16,\n",
       "          3.03541030e-14,  0.00000000e+00],\n",
       "        [ 0.00000000e+00, -5.00000000e-01, -5.00000000e-01,\n",
       "         -5.00000000e-01, -5.00000000e-01, -5.00000000e-01,\n",
       "         -5.00000000e-01, -5.00000000e-01, -5.00000000e-01,\n",
       "         -5.00000000e-01, -5.00000000e-01, -5.00000000e-01,\n",
       "         -5.00000000e-01, -5.00000000e-01, -5.00000000e-01,\n",
       "         -5.00000000e-01, -5.00000000e-01, -5.00000000e-01,\n",
       "         -5.00000000e-01, -5.00000000e-01, -5.00000000e-01,\n",
       "         -5.00000000e-01, -5.00000000e-01, -5.00000000e-01,\n",
       "         -5.00000000e-01, -5.00000000e-01, -5.00000000e-01,\n",
       "         -5.00000000e-01, -5.00000000e-01, -5.00000000e-01,\n",
       "         -5.00000000e-01, -5.00000000e-01, -5.00000000e-01,\n",
       "         -5.00000000e-01, -5.00000000e-01, -5.00000000e-01,\n",
       "         -5.00000000e-01, -5.00000000e-01, -5.00000000e-01,\n",
       "         -5.00000000e-01, -5.00000000e-01, -5.00000000e-01,\n",
       "         -5.00000000e-01, -5.00000000e-01, -5.00000000e-01,\n",
       "         -5.00000000e-01, -5.00000000e-01, -5.00000000e-01,\n",
       "         -5.00000000e-01,  0.00000000e+00],\n",
       "        [ 0.00000000e+00,  6.35896465e-47, -1.80408858e-31,\n",
       "          1.47826828e-29,  0.00000000e+00,  0.00000000e+00,\n",
       "          5.84964211e-30,  1.51531870e-29,  1.37973323e-29,\n",
       "         -6.71305121e-30,  0.00000000e+00,  0.00000000e+00,\n",
       "          5.54682340e-32,  6.61492230e-30, -4.65061935e-31,\n",
       "          5.75694510e-30, -1.52357183e-75, -1.43597337e-29,\n",
       "          0.00000000e+00,  5.84964211e-30,  1.44752597e-29,\n",
       "          0.00000000e+00,  0.00000000e+00,  0.00000000e+00,\n",
       "         -9.77620390e-30, -4.29071658e-30, -1.11191445e-30,\n",
       "          0.00000000e+00, -4.20834313e-32, -1.94675294e-30,\n",
       "          1.92799660e-31,  7.04271083e-30,  1.97307075e-29,\n",
       "          2.91042932e-30,  3.30113163e-31,  0.00000000e+00,\n",
       "         -1.29577162e-29,  2.79452970e-30, -9.23118997e-16,\n",
       "          2.74593066e-31,  2.46041721e-29,  1.57690566e-30,\n",
       "          0.00000000e+00, -4.10527364e-30,  1.26586790e-31,\n",
       "          1.62883984e-29,  4.22852710e-30,  0.00000000e+00,\n",
       "          0.00000000e+00,  0.00000000e+00],\n",
       "        [ 0.00000000e+00, -5.00000000e-01, -5.00000000e-01,\n",
       "         -5.00000000e-01, -5.00000000e-01, -5.00000000e-01,\n",
       "         -5.00000000e-01, -5.00000000e-01, -5.00000000e-01,\n",
       "         -5.00000000e-01, -5.00000000e-01, -5.00000000e-01,\n",
       "         -5.00000000e-01, -5.00000000e-01, -5.00000000e-01,\n",
       "         -5.00000000e-01, -5.00000000e-01, -5.00000000e-01,\n",
       "         -5.00000000e-01, -5.00000000e-01, -5.00000000e-01,\n",
       "         -5.00000000e-01, -5.00000000e-01, -5.00000000e-01,\n",
       "         -5.00000000e-01, -5.00000000e-01, -5.00000000e-01,\n",
       "         -5.00000000e-01, -5.00000000e-01, -5.00000000e-01,\n",
       "         -5.00000000e-01, -5.00000000e-01, -5.00000000e-01,\n",
       "         -5.00000000e-01, -5.00000000e-01, -5.00000000e-01,\n",
       "         -5.00000000e-01, -5.00000000e-01, -5.00000000e-01,\n",
       "         -5.00000000e-01, -5.00000000e-01, -5.00000000e-01,\n",
       "         -5.00000000e-01, -5.00000000e-01, -5.00000000e-01,\n",
       "         -5.00000000e-01, -5.00000000e-01, -5.00000000e-01,\n",
       "         -5.00000000e-01,  0.00000000e+00]],\n",
       "\n",
       "       [[ 0.00000000e+00,  1.00000000e+00,  1.00000000e+00,\n",
       "          1.00000000e+00,  1.00000000e+00,  1.00000000e+00,\n",
       "          1.00000000e+00,  1.00000000e+00,  1.00000000e+00,\n",
       "          1.00000000e+00,  1.00000000e+00,  1.00000000e+00,\n",
       "          1.00000000e+00,  1.00000000e+00,  1.00000000e+00,\n",
       "          1.00000000e+00,  1.00000000e+00,  1.00000000e+00,\n",
       "          1.00000000e+00,  1.00000000e+00,  1.00000000e+00,\n",
       "          1.00000000e+00,  1.00000000e+00,  1.00000000e+00,\n",
       "          1.00000000e+00,  1.00000000e+00,  1.00000000e+00,\n",
       "          1.00000000e+00,  1.00000000e+00,  1.00000000e+00,\n",
       "          1.00000000e+00,  1.00000000e+00,  1.00000000e+00,\n",
       "          1.00000000e+00,  1.00000000e+00,  1.00000000e+00,\n",
       "          1.00000000e+00,  1.00000000e+00,  1.00000000e+00,\n",
       "          1.00000000e+00,  1.00000000e+00,  1.00000000e+00,\n",
       "          1.00000000e+00,  1.00000000e+00,  1.00000000e+00,\n",
       "          1.00000000e+00,  1.00000000e+00,  1.00000000e+00,\n",
       "          1.00000000e+00,  0.00000000e+00],\n",
       "        [ 0.00000000e+00,  5.00000000e-01,  5.00000000e-01,\n",
       "          5.00000000e-01,  5.00000000e-01,  5.00000000e-01,\n",
       "          5.00000000e-01,  5.00000000e-01,  5.00000000e-01,\n",
       "          5.00000000e-01,  5.00000000e-01,  5.00000000e-01,\n",
       "          5.00000000e-01,  5.00000000e-01,  5.00000000e-01,\n",
       "          5.00000000e-01,  5.00000000e-01,  5.00000000e-01,\n",
       "          5.00000000e-01,  5.00000000e-01,  5.00000000e-01,\n",
       "          5.00000000e-01,  5.00000000e-01,  5.00000000e-01,\n",
       "          5.00000000e-01,  5.00000000e-01,  5.00000000e-01,\n",
       "          5.00000000e-01,  5.00000000e-01,  5.00000000e-01,\n",
       "          5.00000000e-01,  5.00000000e-01,  5.00000000e-01,\n",
       "          5.00000000e-01,  5.00000000e-01,  5.00000000e-01,\n",
       "          5.00000000e-01,  5.00000000e-01,  5.00000000e-01,\n",
       "          5.00000000e-01,  5.00000000e-01,  5.00000000e-01,\n",
       "          5.00000000e-01,  5.00000000e-01,  5.00000000e-01,\n",
       "          5.00000000e-01,  5.00000000e-01,  5.00000000e-01,\n",
       "          5.00000000e-01,  0.00000000e+00],\n",
       "        [ 0.00000000e+00, -1.60149431e-14,  0.00000000e+00,\n",
       "          2.82616643e-15,  0.00000000e+00, -4.92734239e-15,\n",
       "          0.00000000e+00, -2.82616643e-15,  4.45530037e-16,\n",
       "         -7.28959881e-15, -1.41374217e-17,  0.00000000e+00,\n",
       "         -1.21155347e-17, -8.74706699e-15, -2.82991358e-16,\n",
       "          0.00000000e+00,  4.27187520e-17, -1.23060400e-15,\n",
       "          9.81535017e-17,  2.82616643e-15, -1.52387325e-16,\n",
       "          0.00000000e+00, -3.55271368e-15,  0.00000000e+00,\n",
       "          3.25176795e-17,  2.82616643e-15,  3.25341656e-17,\n",
       "          2.82616643e-15,  0.00000000e+00, -5.89329099e-15,\n",
       "          0.00000000e+00,  0.00000000e+00,  0.00000000e+00,\n",
       "          1.81181774e-17,  4.02852819e-16,  0.00000000e+00,\n",
       "         -3.47983158e-17,  1.56658760e-14, -2.88657986e-15,\n",
       "         -1.89641457e-16, -4.62192066e-18, -2.84803255e-15,\n",
       "          0.00000000e+00,  0.00000000e+00, -4.48923217e-16,\n",
       "         -4.49309528e-15, -7.39793442e-17,  2.82616643e-15,\n",
       "          0.00000000e+00,  0.00000000e+00],\n",
       "        [ 0.00000000e+00,  5.00000000e-01,  5.00000000e-01,\n",
       "          5.00000000e-01,  5.00000000e-01,  5.00000000e-01,\n",
       "          5.00000000e-01,  5.00000000e-01,  5.00000000e-01,\n",
       "          5.00000000e-01,  5.00000000e-01,  5.00000000e-01,\n",
       "          5.00000000e-01,  5.00000000e-01,  5.00000000e-01,\n",
       "          5.00000000e-01,  5.00000000e-01,  5.00000000e-01,\n",
       "          5.00000000e-01,  5.00000000e-01,  5.00000000e-01,\n",
       "          5.00000000e-01,  5.00000000e-01,  5.00000000e-01,\n",
       "          5.00000000e-01,  5.00000000e-01,  5.00000000e-01,\n",
       "          5.00000000e-01,  5.00000000e-01,  5.00000000e-01,\n",
       "          5.00000000e-01,  5.00000000e-01,  5.00000000e-01,\n",
       "          5.00000000e-01,  5.00000000e-01,  5.00000000e-01,\n",
       "          5.00000000e-01,  5.00000000e-01,  5.00000000e-01,\n",
       "          5.00000000e-01,  5.00000000e-01,  5.00000000e-01,\n",
       "          5.00000000e-01,  5.00000000e-01,  5.00000000e-01,\n",
       "          5.00000000e-01,  5.00000000e-01,  5.00000000e-01,\n",
       "          5.00000000e-01,  0.00000000e+00]]])"
      ]
     },
     "execution_count": 33,
     "metadata": {},
     "output_type": "execute_result"
    }
   ],
   "source": [
    "boson_expectations[0]"
   ]
  },
  {
   "cell_type": "code",
   "execution_count": 34,
   "metadata": {},
   "outputs": [
    {
     "data": {
      "text/plain": [
       "array([[[ 1.00000000e+00, -9.21485110e-15, -2.15938378e-14,\n",
       "         -2.40224507e-14, -1.50157664e-14, -9.60342916e-15,\n",
       "          2.00256478e-14,  3.32234240e-14,  1.82631688e-14,\n",
       "         -1.74027459e-14,  1.10744747e-14, -7.75768338e-15,\n",
       "         -5.38458167e-14, -6.22418783e-15,  2.35922393e-14,\n",
       "         -2.37032616e-14,  6.68909372e-15, -7.83401122e-15,\n",
       "         -4.28129754e-14, -2.85882429e-14, -3.16968674e-14,\n",
       "         -2.16215934e-14, -1.14561138e-14, -2.34881559e-14,\n",
       "         -2.47024623e-15,  2.24473218e-14, -2.91433544e-15,\n",
       "         -6.06459327e-15,  1.51476054e-14,  1.38777878e-16,\n",
       "          4.65599781e-14, -6.58501031e-15, -1.79023463e-14,\n",
       "         -2.52853294e-14, -2.05668815e-14, -5.14518983e-15,\n",
       "         -1.88321581e-14,  2.85882429e-15, -2.75890422e-14,\n",
       "          7.27196081e-15,  1.70974346e-14,  2.03101425e-14,\n",
       "         -2.74780199e-15, -4.05231404e-15, -2.43832732e-14,\n",
       "         -1.29063427e-15,  1.27675648e-15, -1.68268177e-15,\n",
       "         -2.06779038e-14,  1.00000000e+00],\n",
       "        [-1.00000000e+00, -5.00000000e-01,  5.00000000e-01,\n",
       "          5.00000000e-01, -5.00000000e-01, -5.00000000e-01,\n",
       "          5.00000000e-01,  5.00000000e-01, -5.00000000e-01,\n",
       "         -5.00000000e-01,  5.00000000e-01,  5.00000000e-01,\n",
       "         -5.00000000e-01, -5.00000000e-01,  5.00000000e-01,\n",
       "          5.00000000e-01, -5.00000000e-01, -5.00000000e-01,\n",
       "          5.00000000e-01,  5.00000000e-01, -5.00000000e-01,\n",
       "         -5.00000000e-01,  5.00000000e-01,  5.00000000e-01,\n",
       "         -5.00000000e-01, -5.00000000e-01,  5.00000000e-01,\n",
       "          5.00000000e-01, -5.00000000e-01, -5.00000000e-01,\n",
       "          5.00000000e-01,  5.00000000e-01, -5.00000000e-01,\n",
       "         -5.00000000e-01,  5.00000000e-01,  5.00000000e-01,\n",
       "         -5.00000000e-01, -5.00000000e-01,  5.00000000e-01,\n",
       "          5.00000000e-01, -5.00000000e-01, -5.00000000e-01,\n",
       "          5.00000000e-01,  5.00000000e-01, -5.00000000e-01,\n",
       "         -5.00000000e-01,  5.00000000e-01,  5.00000000e-01,\n",
       "         -5.00000000e-01, -1.00000000e+00],\n",
       "        [ 6.12323400e-17, -6.12323400e-17,  8.59273523e-15,\n",
       "          1.25862699e-14, -6.12323400e-17, -6.12323400e-17,\n",
       "         -4.86598743e-15,  1.29193368e-14, -6.12323400e-17,\n",
       "         -6.12323400e-17, -2.23711432e-17, -2.23711432e-17,\n",
       "         -6.12323400e-17, -6.12323400e-17, -2.01913849e-15,\n",
       "         -4.87551164e-15, -6.12323400e-17, -6.12323400e-17,\n",
       "         -2.23711432e-17, -4.69945398e-15, -6.12323400e-17,\n",
       "         -6.12323400e-17, -2.23711432e-17, -2.23711432e-17,\n",
       "         -6.12323400e-17, -6.12323400e-17, -4.86598743e-15,\n",
       "         -2.23711432e-17, -6.12323400e-17, -6.12323400e-17,\n",
       "         -1.91383289e-14, -5.95716204e-15, -6.12323400e-17,\n",
       "         -6.12323400e-17,  3.75355205e-14, -2.23711432e-17,\n",
       "         -6.12323400e-17, -6.12323400e-17, -2.18281686e-14,\n",
       "         -6.12323400e-17, -6.12323400e-17,  1.65338177e-14,\n",
       "         -2.23711432e-17, -6.12323400e-17, -6.12323400e-17,\n",
       "          1.33443776e-14, -3.63685199e-15, -6.12323400e-17,\n",
       "         -6.12323400e-17,  1.00000000e+00],\n",
       "        [ 6.12323400e-17, -5.00000000e-01,  5.00000000e-01,\n",
       "          5.00000000e-01, -5.00000000e-01, -5.00000000e-01,\n",
       "          5.00000000e-01,  5.00000000e-01, -5.00000000e-01,\n",
       "         -5.00000000e-01,  5.00000000e-01,  5.00000000e-01,\n",
       "         -5.00000000e-01, -5.00000000e-01,  5.00000000e-01,\n",
       "          5.00000000e-01, -5.00000000e-01, -5.00000000e-01,\n",
       "          5.00000000e-01,  5.00000000e-01, -5.00000000e-01,\n",
       "         -5.00000000e-01,  5.00000000e-01,  5.00000000e-01,\n",
       "         -5.00000000e-01, -5.00000000e-01,  5.00000000e-01,\n",
       "          5.00000000e-01, -5.00000000e-01, -5.00000000e-01,\n",
       "          5.00000000e-01,  5.00000000e-01, -5.00000000e-01,\n",
       "         -5.00000000e-01,  5.00000000e-01,  5.00000000e-01,\n",
       "         -5.00000000e-01, -5.00000000e-01,  5.00000000e-01,\n",
       "          5.00000000e-01, -5.00000000e-01, -5.00000000e-01,\n",
       "          5.00000000e-01,  5.00000000e-01, -5.00000000e-01,\n",
       "         -5.00000000e-01,  5.00000000e-01,  5.00000000e-01,\n",
       "         -5.00000000e-01,  6.12323400e-17]],\n",
       "\n",
       "       [[ 1.00000000e+00, -7.29012949e-15, -3.62639351e-15,\n",
       "          3.98164955e-16,  1.05011945e-14,  4.28394554e-15,\n",
       "         -5.51377265e-15,  3.45127827e-15,  1.43314639e-14,\n",
       "          1.37208413e-14,  3.95087863e-15,  3.95087863e-15,\n",
       "          5.67172432e-15,  6.44888044e-15,  3.95087863e-15,\n",
       "          3.95087863e-15,  4.78354590e-15,  4.11741209e-15,\n",
       "          4.50599015e-15,  1.06429877e-15,  1.53306646e-14,\n",
       "          1.31102186e-14,  4.06190094e-15, -3.84843811e-15,\n",
       "          1.29991963e-14,  1.29991963e-14,  5.89376893e-15,\n",
       "          1.37208413e-14,  3.22923367e-15,  1.38318636e-14,\n",
       "          3.22923367e-15,  6.06030238e-15,  1.06429877e-15,\n",
       "          6.06030238e-15,  1.17532107e-15,  1.37208413e-14,\n",
       "          3.22923367e-15,  1.31102186e-14, -6.56848452e-15,\n",
       "          1.23083222e-15,  6.55990274e-15,  4.11741209e-15,\n",
       "          1.47200420e-14, -6.84604028e-15,  1.53306646e-14,\n",
       "          1.45535085e-14,  3.39576712e-15,  1.54971981e-14,\n",
       "          4.06190094e-15,  1.00000000e+00],\n",
       "        [-1.00000000e+00, -5.00000000e-01,  5.00000000e-01,\n",
       "          5.00000000e-01, -5.00000000e-01, -5.00000000e-01,\n",
       "          5.00000000e-01,  5.00000000e-01, -5.00000000e-01,\n",
       "         -5.00000000e-01,  5.00000000e-01,  5.00000000e-01,\n",
       "         -5.00000000e-01, -5.00000000e-01,  5.00000000e-01,\n",
       "          5.00000000e-01, -5.00000000e-01, -5.00000000e-01,\n",
       "          5.00000000e-01,  5.00000000e-01, -5.00000000e-01,\n",
       "         -5.00000000e-01,  5.00000000e-01,  5.00000000e-01,\n",
       "         -5.00000000e-01, -5.00000000e-01,  5.00000000e-01,\n",
       "          5.00000000e-01, -5.00000000e-01, -5.00000000e-01,\n",
       "          5.00000000e-01,  5.00000000e-01, -5.00000000e-01,\n",
       "         -5.00000000e-01,  5.00000000e-01,  5.00000000e-01,\n",
       "         -5.00000000e-01, -5.00000000e-01,  5.00000000e-01,\n",
       "          5.00000000e-01, -5.00000000e-01, -5.00000000e-01,\n",
       "          5.00000000e-01,  5.00000000e-01, -5.00000000e-01,\n",
       "         -5.00000000e-01,  5.00000000e-01,  5.00000000e-01,\n",
       "         -5.00000000e-01, -1.00000000e+00],\n",
       "        [ 6.12323400e-17, -6.12323400e-17, -2.23711432e-17,\n",
       "          9.68390984e-15, -6.12323400e-17, -6.12323400e-17,\n",
       "          6.93855900e-15, -8.96102022e-15, -6.12323400e-17,\n",
       "         -6.12323400e-17, -1.00426706e-14, -2.23711432e-17,\n",
       "         -6.12323400e-17, -6.12323400e-17, -1.44421977e-14,\n",
       "         -2.23711432e-17, -6.12323400e-17, -6.12323400e-17,\n",
       "         -1.42756642e-14,  8.81477984e-15, -6.12323400e-17,\n",
       "         -6.12323400e-17, -2.33315698e-15, -2.23711432e-17,\n",
       "         -6.12323400e-17, -6.12323400e-17, -1.85467547e-14,\n",
       "          9.14784675e-15, -6.12323400e-17, -6.12323400e-17,\n",
       "          2.51998351e-15, -2.23711432e-17, -6.12323400e-17,\n",
       "         -6.12323400e-17,  8.92745804e-16, -2.23711432e-17,\n",
       "         -6.12323400e-17, -6.12323400e-17, -1.00331464e-14,\n",
       "         -2.44815456e-14, -6.12323400e-17, -6.12323400e-17,\n",
       "          2.36158002e-17, -2.23711432e-17, -6.12323400e-17,\n",
       "         -6.12323400e-17, -9.70960371e-15,  9.14784675e-15,\n",
       "         -6.12323400e-17,  6.12323400e-17],\n",
       "        [ 6.12323400e-17, -5.00000000e-01,  5.00000000e-01,\n",
       "          5.00000000e-01, -5.00000000e-01, -5.00000000e-01,\n",
       "          5.00000000e-01,  5.00000000e-01, -5.00000000e-01,\n",
       "         -5.00000000e-01,  5.00000000e-01,  5.00000000e-01,\n",
       "         -5.00000000e-01, -5.00000000e-01,  5.00000000e-01,\n",
       "          5.00000000e-01, -5.00000000e-01, -5.00000000e-01,\n",
       "          5.00000000e-01,  5.00000000e-01, -5.00000000e-01,\n",
       "         -5.00000000e-01,  5.00000000e-01,  5.00000000e-01,\n",
       "         -5.00000000e-01, -5.00000000e-01,  5.00000000e-01,\n",
       "          5.00000000e-01, -5.00000000e-01, -5.00000000e-01,\n",
       "          5.00000000e-01,  5.00000000e-01, -5.00000000e-01,\n",
       "         -5.00000000e-01,  5.00000000e-01,  5.00000000e-01,\n",
       "         -5.00000000e-01, -5.00000000e-01,  5.00000000e-01,\n",
       "          5.00000000e-01, -5.00000000e-01, -5.00000000e-01,\n",
       "          5.00000000e-01,  5.00000000e-01, -5.00000000e-01,\n",
       "         -5.00000000e-01,  5.00000000e-01,  5.00000000e-01,\n",
       "         -5.00000000e-01,  6.12323400e-17]]])"
      ]
     },
     "execution_count": 34,
     "metadata": {},
     "output_type": "execute_result"
    }
   ],
   "source": [
    "boson_expectations[1]"
   ]
  },
  {
   "cell_type": "code",
   "execution_count": 35,
   "metadata": {},
   "outputs": [],
   "source": [
    "fermion_number_expectations = np.zeros((2, 4, 50))\n",
    "\n",
    "indices = product(\n",
    "    range(2),\n",
    "    range(4)\n",
    ")\n",
    "\n",
    "for j, k in indices:\n",
    "    try:\n",
    "        psi = outpsis[j][k]\n",
    "        \n",
    "        data = (\n",
    "            psi\n",
    "            .expectation_value(\n",
    "                'N',\n",
    "                list(range(1, 100, 2))\n",
    "            )\n",
    "        )\n",
    "\n",
    "        fermion_number_expectations[j,k] = data\n",
    "\n",
    "    except:\n",
    "        fermion_number_expectations[j,k] = np.nan"
   ]
  },
  {
   "cell_type": "code",
   "execution_count": 36,
   "metadata": {},
   "outputs": [
    {
     "data": {
      "text/plain": [
       "array([[[1.00000000e+00, 1.00000000e+00, 1.00000000e+00, 2.27256093e-29,\n",
       "         3.36704143e-31, 5.30820785e-32, 6.21023021e-32, 1.00000000e+00,\n",
       "         1.00000000e+00, 2.67174290e-28, 1.00000000e+00, 1.00000000e+00,\n",
       "         1.00000000e+00, 4.73666330e-31, 1.88013136e-31, 2.67383690e-29,\n",
       "         1.00000000e+00, 1.00000000e+00, 3.66745346e-32, 8.79119808e-32,\n",
       "         8.07381653e-32, 7.10372603e-32, 1.00000000e+00, 1.00000000e+00,\n",
       "         2.09629089e-32, 1.57050773e-31, 1.55143935e-31, 1.28249743e-31,\n",
       "         1.00000000e+00, 1.00000000e+00, 2.02159253e-31, 1.00000000e+00,\n",
       "         7.46080879e-32, 1.86407726e-27, 1.00000000e+00, 3.40935908e-32,\n",
       "         1.00000000e+00, 1.00000000e+00, 2.74415578e-32, 2.31492548e-32,\n",
       "         1.00000000e+00, 8.05597885e-32, 1.19821484e-31, 7.85590297e-32,\n",
       "         1.00000000e+00, 3.16869088e-31, 1.00000000e+00, 4.09195291e-32,\n",
       "         1.00000000e+00, 0.00000000e+00],\n",
       "        [0.00000000e+00, 1.00000000e+00, 0.00000000e+00, 1.00000000e+00,\n",
       "         0.00000000e+00, 1.00000000e+00, 0.00000000e+00, 1.00000000e+00,\n",
       "         0.00000000e+00, 1.00000000e+00, 0.00000000e+00, 1.00000000e+00,\n",
       "         0.00000000e+00, 1.00000000e+00, 0.00000000e+00, 1.00000000e+00,\n",
       "         0.00000000e+00, 1.00000000e+00, 0.00000000e+00, 1.00000000e+00,\n",
       "         0.00000000e+00, 1.00000000e+00, 0.00000000e+00, 1.00000000e+00,\n",
       "         0.00000000e+00, 1.00000000e+00, 0.00000000e+00, 1.00000000e+00,\n",
       "         0.00000000e+00, 1.00000000e+00, 0.00000000e+00, 1.00000000e+00,\n",
       "         0.00000000e+00, 1.00000000e+00, 0.00000000e+00, 1.00000000e+00,\n",
       "         0.00000000e+00, 1.00000000e+00, 0.00000000e+00, 1.00000000e+00,\n",
       "         0.00000000e+00, 1.00000000e+00, 0.00000000e+00, 1.00000000e+00,\n",
       "         0.00000000e+00, 1.00000000e+00, 0.00000000e+00, 1.00000000e+00,\n",
       "         0.00000000e+00, 0.00000000e+00],\n",
       "        [1.00000000e+00, 1.00000000e+00, 0.00000000e+00, 1.00000000e+00,\n",
       "         1.00000000e+00, 1.00000000e+00, 1.00000000e+00, 1.00000000e+00,\n",
       "         9.53665054e-02, 1.00000000e+00, 0.00000000e+00, 1.00000000e+00,\n",
       "         9.81116105e-01, 1.00000000e+00, 1.00000000e+00, 1.00000000e+00,\n",
       "         0.00000000e+00, 1.00000000e+00, 0.00000000e+00, 1.00000000e+00,\n",
       "         2.66042841e-01, 1.00000000e+00, 1.00000000e+00, 1.00000000e+00,\n",
       "         1.72156560e-02, 1.00000000e+00, 0.00000000e+00, 1.00000000e+00,\n",
       "         1.84625865e-01, 1.00000000e+00, 1.00000000e+00, 1.00000000e+00,\n",
       "         9.87330142e-01, 1.00000000e+00, 0.00000000e+00, 1.00000000e+00,\n",
       "         8.76562847e-01, 1.00000000e+00, 1.00000000e+00, 1.53902508e-01,\n",
       "         1.00000000e+00, 0.00000000e+00, 1.00000000e+00, 2.55744440e-01,\n",
       "         1.00000000e+00, 0.00000000e+00, 1.00000000e+00, 1.00000000e+00,\n",
       "         1.00000000e+00, 0.00000000e+00],\n",
       "        [0.00000000e+00, 1.00000000e+00, 0.00000000e+00, 1.00000000e+00,\n",
       "         1.00000000e+00, 1.00000000e+00, 0.00000000e+00, 1.00000000e+00,\n",
       "         1.00000000e+00, 1.00000000e+00, 0.00000000e+00, 1.00000000e+00,\n",
       "         2.89185110e-29, 1.00000000e+00, 0.00000000e+00, 1.00000000e+00,\n",
       "         0.00000000e+00, 1.00000000e+00, 0.00000000e+00, 1.00000000e+00,\n",
       "         1.00000000e+00, 1.00000000e+00, 0.00000000e+00, 1.00000000e+00,\n",
       "         1.00000000e+00, 1.00000000e+00, 0.00000000e+00, 1.00000000e+00,\n",
       "         1.00000000e+00, 1.00000000e+00, 0.00000000e+00, 1.00000000e+00,\n",
       "         1.93740598e-01, 1.00000000e+00, 0.00000000e+00, 1.00000000e+00,\n",
       "         0.00000000e+00, 1.00000000e+00, 0.00000000e+00, 1.00000000e+00,\n",
       "         1.00000000e+00, 1.00000000e+00, 1.00000000e+00, 1.00000000e+00,\n",
       "         0.00000000e+00, 1.00000000e+00, 0.00000000e+00, 1.00000000e+00,\n",
       "         9.11583605e-01, 0.00000000e+00]],\n",
       "\n",
       "       [[0.00000000e+00, 1.32808208e-01, 8.63809015e-01, 3.61338662e-01,\n",
       "         4.04836168e-02, 2.48212341e-01, 2.78104284e-29, 7.44480944e-01,\n",
       "         2.86133242e-02, 2.86133242e-02, 7.64487342e-01, 0.00000000e+00,\n",
       "         1.00000000e+00, 9.39956889e-01, 0.00000000e+00, 7.43161615e-02,\n",
       "         1.00000000e+00, 1.35303377e-01, 3.00735770e-02, 0.00000000e+00,\n",
       "         8.93749943e-01, 2.55722579e-01, 8.73128221e-01, 2.61644864e-02,\n",
       "         1.90602232e-02, 1.90602232e-02, 8.82439181e-01, 0.00000000e+00,\n",
       "         0.00000000e+00, 5.00000000e-01, 0.00000000e+00, 6.90070756e-01,\n",
       "         7.42659479e-01, 1.00000000e+00, 0.00000000e+00, 0.00000000e+00,\n",
       "         0.00000000e+00, 2.55722579e-01, 7.48193704e-01, 7.65650924e-01,\n",
       "         2.47783831e-01, 2.49490642e-01, 6.90176384e-02, 1.34413901e-01,\n",
       "         1.00000000e+00, 2.55722579e-01, 8.90954401e-01, 8.64163832e-01,\n",
       "         8.73128221e-01, 0.00000000e+00],\n",
       "        [1.00000000e+00, 1.00000000e+00, 0.00000000e+00, 1.00000000e+00,\n",
       "         0.00000000e+00, 1.00000000e+00, 0.00000000e+00, 1.00000000e+00,\n",
       "         0.00000000e+00, 1.00000000e+00, 0.00000000e+00, 1.00000000e+00,\n",
       "         0.00000000e+00, 1.00000000e+00, 0.00000000e+00, 1.00000000e+00,\n",
       "         0.00000000e+00, 1.00000000e+00, 0.00000000e+00, 1.00000000e+00,\n",
       "         0.00000000e+00, 1.00000000e+00, 0.00000000e+00, 1.00000000e+00,\n",
       "         0.00000000e+00, 1.00000000e+00, 0.00000000e+00, 1.00000000e+00,\n",
       "         0.00000000e+00, 1.00000000e+00, 0.00000000e+00, 1.00000000e+00,\n",
       "         0.00000000e+00, 1.00000000e+00, 0.00000000e+00, 1.00000000e+00,\n",
       "         0.00000000e+00, 1.00000000e+00, 0.00000000e+00, 1.00000000e+00,\n",
       "         0.00000000e+00, 1.00000000e+00, 0.00000000e+00, 1.00000000e+00,\n",
       "         0.00000000e+00, 1.00000000e+00, 0.00000000e+00, 1.00000000e+00,\n",
       "         0.00000000e+00, 0.00000000e+00],\n",
       "        [5.89047366e-30, 1.00000000e+00, 0.00000000e+00, 1.00000000e+00,\n",
       "         1.00000000e+00, 1.00000000e+00, 0.00000000e+00, 1.00000000e+00,\n",
       "         3.21398613e-29, 1.00000000e+00, 0.00000000e+00, 1.00000000e+00,\n",
       "         9.56276626e-01, 1.00000000e+00, 0.00000000e+00, 1.00000000e+00,\n",
       "         7.85880606e-03, 1.00000000e+00, 0.00000000e+00, 1.00000000e+00,\n",
       "         1.25605517e-29, 1.00000000e+00, 1.00000000e+00, 1.00000000e+00,\n",
       "         1.34934872e-31, 1.00000000e+00, 1.00000000e+00, 1.00000000e+00,\n",
       "         3.24789041e-01, 1.00000000e+00, 0.00000000e+00, 1.00000000e+00,\n",
       "         8.66695129e-01, 1.00000000e+00, 0.00000000e+00, 1.00000000e+00,\n",
       "         1.77272468e-30, 1.00000000e+00, 0.00000000e+00, 1.00000000e+00,\n",
       "         4.32758893e-01, 1.00000000e+00, 0.00000000e+00, 1.00000000e+00,\n",
       "         1.44877974e-03, 1.00000000e+00, 0.00000000e+00, 1.00000000e+00,\n",
       "         1.00000000e+00, 0.00000000e+00],\n",
       "        [0.00000000e+00, 1.00000000e+00, 0.00000000e+00, 1.00000000e+00,\n",
       "         7.00264097e-30, 1.00000000e+00, 0.00000000e+00, 1.00000000e+00,\n",
       "         1.00000000e+00, 1.00000000e+00, 0.00000000e+00, 1.00000000e+00,\n",
       "         3.76410239e-02, 1.00000000e+00, 0.00000000e+00, 1.00000000e+00,\n",
       "         2.55688208e-29, 1.00000000e+00, 0.00000000e+00, 1.00000000e+00,\n",
       "         3.13769204e-03, 1.00000000e+00, 0.00000000e+00, 1.00000000e+00,\n",
       "         0.00000000e+00, 1.00000000e+00, 0.00000000e+00, 1.00000000e+00,\n",
       "         1.00000000e+00, 1.00000000e+00, 0.00000000e+00, 1.00000000e+00,\n",
       "         9.51563257e-01, 1.00000000e+00, 0.00000000e+00, 1.00000000e+00,\n",
       "         3.40709854e-03, 1.00000000e+00, 0.00000000e+00, 1.00000000e+00,\n",
       "         1.00000000e+00, 1.00000000e+00, 0.00000000e+00, 1.00000000e+00,\n",
       "         9.99998791e-01, 1.00000000e+00, 0.00000000e+00, 1.00000000e+00,\n",
       "         1.00000000e+00, 0.00000000e+00]]])"
      ]
     },
     "execution_count": 36,
     "metadata": {},
     "output_type": "execute_result"
    }
   ],
   "source": [
    "fermion_number_expectations"
   ]
  },
  {
   "cell_type": "code",
   "execution_count": 37,
   "metadata": {},
   "outputs": [
    {
     "name": "stderr",
     "output_type": "stream",
     "text": [
      "/var/folders/r3/xn8xq5c17932m2g1b4r3dss80000gn/T/ipykernel_79511/290460682.py:23: ComplexWarning: Casting complex values to real discards the imaginary part\n",
      "  boson_correlations[i,j,k] = data\n"
     ]
    }
   ],
   "source": [
    "boson_correlations = np.zeros((2, 2, 4, 50, 50))\n",
    "\n",
    "indices = product(\n",
    "    enumerate(['X', 'Z']),\n",
    "    range(2),\n",
    "    range(4)\n",
    ")\n",
    "\n",
    "for (i, op), j, k in indices:\n",
    "    try:\n",
    "        psi = outpsis[j][k]\n",
    "        \n",
    "        data = (\n",
    "            psi\n",
    "            .correlation_function(\n",
    "                op,\n",
    "                op,\n",
    "                list(range(0, 100, 2)),\n",
    "                list(range(0, 100, 2)),\n",
    "            )\n",
    "        )\n",
    "    \n",
    "        boson_correlations[i,j,k] = data\n",
    "\n",
    "    except:\n",
    "        boson_correlations[i,j,k] = np.nan"
   ]
  },
  {
   "cell_type": "code",
   "execution_count": 38,
   "metadata": {},
   "outputs": [
    {
     "data": {
      "text/plain": [
       "array([[[ 1.20751113e-28,  2.50000000e-01,  0.00000000e+00,\n",
       "          2.50000000e-01],\n",
       "        [ 1.00000000e+00,  2.50000000e-01,  0.00000000e+00,\n",
       "          2.50000000e-01]],\n",
       "\n",
       "       [[ 3.68792473e-29,  2.26977690e-16, -1.14863880e-32,\n",
       "         -2.07590842e-16],\n",
       "        [-2.01883663e-28,  8.98339075e-17, -6.12236204e-31,\n",
       "         -4.07189559e-17]]])"
      ]
     },
     "execution_count": 38,
     "metadata": {},
     "output_type": "execute_result"
    }
   ],
   "source": [
    "boson_correlations[..., 1, -2]"
   ]
  },
  {
   "cell_type": "code",
   "execution_count": 39,
   "metadata": {},
   "outputs": [],
   "source": [
    "fermion_correlations = np.zeros((2, 4, 50, 50))\n",
    "\n",
    "indices = product(\n",
    "    range(2),\n",
    "    range(4)\n",
    ")\n",
    "\n",
    "for j, k in indices:\n",
    "    try:\n",
    "        psi = outpsis[j][k]\n",
    "        \n",
    "        data = (\n",
    "            psi\n",
    "            .correlation_function(\n",
    "                'N',\n",
    "                'N',\n",
    "                list(range(1, 101, 2)),\n",
    "                list(range(1, 101, 2)),\n",
    "            )\n",
    "        )\n",
    "    \n",
    "        fermion_correlations[j,k] = data\n",
    "\n",
    "    except:\n",
    "        fermion_correlations[j,k] = np.nan"
   ]
  },
  {
   "cell_type": "code",
   "execution_count": 40,
   "metadata": {},
   "outputs": [
    {
     "data": {
      "text/plain": [
       "array([[1.        , 0.        , 1.        , 0.91158361],\n",
       "       [0.11595859, 0.        , 1.        , 1.        ]])"
      ]
     },
     "execution_count": 40,
     "metadata": {},
     "output_type": "execute_result"
    }
   ],
   "source": [
    "fermion_correlations[..., 1, -2]"
   ]
  },
  {
   "cell_type": "code",
   "execution_count": 41,
   "metadata": {},
   "outputs": [],
   "source": [
    "reduced_boson_correlations = (\n",
    "    boson_correlations -\n",
    "    boson_expectations[...,np.newaxis]*boson_expectations[...,np.newaxis,:]\n",
    ")"
   ]
  },
  {
   "cell_type": "code",
   "execution_count": 42,
   "metadata": {},
   "outputs": [
    {
     "data": {
      "text/plain": [
       "array([[[ 3.57381724e-28, -2.44249065e-15,  0.00000000e+00,\n",
       "         -1.72084569e-15],\n",
       "        [ 1.33226763e-15, -1.66533454e-15,  0.00000000e+00,\n",
       "         -6.38378239e-16]],\n",
       "\n",
       "       [[-1.53664558e-28, -2.50000000e-01, -1.52357875e-32,\n",
       "         -2.50000000e-01],\n",
       "        [-1.72271880e-28, -2.50000000e-01, -6.15985603e-31,\n",
       "         -2.50000000e-01]]])"
      ]
     },
     "execution_count": 42,
     "metadata": {},
     "output_type": "execute_result"
    }
   ],
   "source": [
    "reduced_boson_correlations[...,1,-2]"
   ]
  },
  {
   "cell_type": "code",
   "execution_count": 43,
   "metadata": {},
   "outputs": [],
   "source": [
    "reduced_fermion_correlations = (\n",
    "    fermion_correlations -\n",
    "    fermion_number_expectations[...,np.newaxis]*fermion_number_expectations[...,np.newaxis,:]\n",
    ")"
   ]
  },
  {
   "cell_type": "code",
   "execution_count": 44,
   "metadata": {},
   "outputs": [
    {
     "data": {
      "text/plain": [
       "array([[ 9.76996262e-15,  0.00000000e+00, -4.55191440e-15,\n",
       "        -6.43929354e-15],\n",
       "       [-2.77555756e-17,  0.00000000e+00, -3.33066907e-15,\n",
       "        -2.99760217e-15]])"
      ]
     },
     "execution_count": 44,
     "metadata": {},
     "output_type": "execute_result"
    }
   ],
   "source": [
    "reduced_fermion_correlations[...,1,-2]"
   ]
  },
  {
   "cell_type": "markdown",
   "metadata": {},
   "source": [
    "## Correct possible factor issue.\n",
    "Think I may have made a mistake... again."
   ]
  },
  {
   "cell_type": "code",
   "execution_count": 45,
   "metadata": {},
   "outputs": [],
   "source": [
    "def get_op_list_1(g_quad, n1_func):\n",
    "    out = list()\n",
    "    g_left, g_in, g_out, g_right = g_quad\n",
    "\n",
    "    out.append((f'map_{g_left}_{g_left}', 0, 0))\n",
    "\n",
    "    if n1_func(g_in, g_right):\n",
    "        out.append(('Cd', 1, 1))\n",
    "    if n1_func(g_left, g_in):\n",
    "        out.append(('Cd', 0, 1))\n",
    "    \n",
    "    out.append((f'map_{g_in}_{g_out}', 1, 0))\n",
    "    \n",
    "    if n1_func(g_left, g_out):\n",
    "        out.append(('C', 0, 1))\n",
    "    if n1_func(g_out, g_right):\n",
    "        out.append(('C', 1, 1))\n",
    "\n",
    "    out.append((f'map_{g_right}_{g_right}', 2, 0))\n",
    "\n",
    "    return out"
   ]
  },
  {
   "cell_type": "code",
   "execution_count": 46,
   "metadata": {},
   "outputs": [],
   "source": [
    "class ClusterFermion1(CouplingMPOModel):\n",
    "        default_lattice = \"Chain\"\n",
    "        force_default_lattice = True\n",
    "\n",
    "        # Would it be easier to subclass ClockSite?\n",
    "        def init_sites(self, model_params):\n",
    "            spin = ClockSite(4, conserve=None)\n",
    "            for i in range(4):\n",
    "                for j in range(4):\n",
    "                    X = np.zeros((4,4))\n",
    "                    X[j, i] = 1\n",
    "                    op_name = f\"map_{i}_{j}\"\n",
    "                    spin.add_op(op_name, X)\n",
    "            ferm = FermionSite(conserve=None)\n",
    "            sites = [spin, ferm]\n",
    "            return [spin, ferm], ['s', 'f']\n",
    "\n",
    "        def init_terms(self, model_params):\n",
    "            # Read off model parameters\n",
    "            n1_01, n1_10 = model_params.get('n1', (0,0))\n",
    "            n1_func = get_n1_func(n1_01, n1_10)\n",
    "\n",
    "            non_trivial_proj_rep = model_params.get('non_trivial_proj_rep', False)\n",
    "\n",
    "            group_quads = product(range(4), repeat=4)\n",
    "\n",
    "            for group_quad in group_quads:\n",
    "                op_list = get_op_list_1(group_quad, n1_func)\n",
    "                \n",
    "                if non_trivial_proj_rep:\n",
    "                    phase = get_proj_rep_term_phase(group_quad)\n",
    "                else:\n",
    "                    phase = 1\n",
    "\n",
    "                g_left, *_, g_right = group_quad\n",
    "                if n1_func(g_left, g_right) == 1:\n",
    "                    factor = 1\n",
    "                else:\n",
    "                    factor = 2\n",
    "\n",
    "                self.add_multi_coupling((-1/4)*phase*factor, op_list)"
   ]
  },
  {
   "cell_type": "code",
   "execution_count": 47,
   "metadata": {},
   "outputs": [],
   "source": [
    "models = [\n",
    "    [ClusterFermion1({'L': 50, 'n1': p, 'non_trivial_proj_rep': b}) for p in n1_pairs]\n",
    "    for b in [True, False]\n",
    "]"
   ]
  },
  {
   "cell_type": "code",
   "execution_count": 48,
   "metadata": {},
   "outputs": [
    {
     "data": {
      "text/plain": [
       "[[<__main__.ClusterFermion1 at 0x17732e210>,\n",
       "  <__main__.ClusterFermion1 at 0x3092e6d90>,\n",
       "  <__main__.ClusterFermion1 at 0x3093d0e10>,\n",
       "  <__main__.ClusterFermion1 at 0x30eeefbd0>],\n",
       " [<__main__.ClusterFermion1 at 0x310bb2f50>,\n",
       "  <__main__.ClusterFermion1 at 0x311abaf50>,\n",
       "  <__main__.ClusterFermion1 at 0x3124d08d0>,\n",
       "  <__main__.ClusterFermion1 at 0x31402c050>]]"
      ]
     },
     "execution_count": 48,
     "metadata": {},
     "output_type": "execute_result"
    }
   ],
   "source": [
    "models"
   ]
  },
  {
   "cell_type": "code",
   "execution_count": 49,
   "metadata": {},
   "outputs": [],
   "source": [
    "psis = [\n",
    "    [MPS.from_lat_product_state(m.lat, [['0', 'empty'],]*50) for m in l]\n",
    "    for l in models\n",
    "]"
   ]
  },
  {
   "cell_type": "code",
   "execution_count": 50,
   "metadata": {},
   "outputs": [],
   "source": [
    "dmrg_params = {\n",
    "    \"trunc_params\": {\"chi_max\": 8, \"chi_min\": 1, \"svd_min\": 1.e-10},\n",
    "    \"min_sweeps\":100,\n",
    "    \"max_sweeps\":200,\n",
    "    \"mixer\": True,\n",
    "    \"combine\":False,\n",
    "    'decay':2,\n",
    "    'amplitude':10e-1,\n",
    "    'disable_after':60,\n",
    "    'update_env':0\n",
    "}"
   ]
  },
  {
   "cell_type": "code",
   "execution_count": 51,
   "metadata": {},
   "outputs": [],
   "source": [
    "for l in psis:\n",
    "    for psi in l:\n",
    "        psi.canonical_form()"
   ]
  },
  {
   "cell_type": "code",
   "execution_count": 52,
   "metadata": {},
   "outputs": [
    {
     "name": "stderr",
     "output_type": "stream",
     "text": [
      "/Users/kierancooney/.pyenv/versions/num_spt_venv_p11/lib/python3.11/site-packages/tenpy/tools/params.py:230: UserWarning: unused options for config TwoSiteDMRGEngine:\n",
      "['amplitude', 'decay', 'disable_after', 'update_env']\n",
      "  warnings.warn(msg.format(keys=sorted(unused), name=self.name))\n",
      "/Users/kierancooney/.pyenv/versions/num_spt_venv_p11/lib/python3.11/site-packages/tenpy/tools/params.py:230: UserWarning: unused options for config TwoSiteDMRGEngine:\n",
      "['amplitude', 'decay', 'disable_after', 'update_env']\n",
      "  warnings.warn(msg.format(keys=sorted(unused), name=self.name))\n",
      "/Users/kierancooney/.pyenv/versions/num_spt_venv_p11/lib/python3.11/site-packages/tenpy/tools/params.py:230: UserWarning: unused options for config TwoSiteDMRGEngine:\n",
      "['amplitude', 'decay', 'disable_after', 'update_env']\n",
      "  warnings.warn(msg.format(keys=sorted(unused), name=self.name))\n",
      "/Users/kierancooney/.pyenv/versions/num_spt_venv_p11/lib/python3.11/site-packages/tenpy/tools/params.py:230: UserWarning: unused options for config TwoSiteDMRGEngine:\n",
      "['amplitude', 'decay', 'disable_after', 'update_env']\n",
      "  warnings.warn(msg.format(keys=sorted(unused), name=self.name))\n",
      "/Users/kierancooney/.pyenv/versions/num_spt_venv_p11/lib/python3.11/site-packages/tenpy/tools/params.py:230: UserWarning: unused options for config TwoSiteDMRGEngine:\n",
      "['amplitude', 'decay', 'disable_after', 'update_env']\n",
      "  warnings.warn(msg.format(keys=sorted(unused), name=self.name))\n",
      "/Users/kierancooney/.pyenv/versions/num_spt_venv_p11/lib/python3.11/site-packages/tenpy/tools/params.py:230: UserWarning: unused options for config TwoSiteDMRGEngine:\n",
      "['amplitude', 'decay', 'disable_after', 'update_env']\n",
      "  warnings.warn(msg.format(keys=sorted(unused), name=self.name))\n",
      "/Users/kierancooney/.pyenv/versions/num_spt_venv_p11/lib/python3.11/site-packages/tenpy/tools/params.py:230: UserWarning: unused options for config TwoSiteDMRGEngine:\n",
      "['amplitude', 'decay', 'disable_after', 'update_env']\n",
      "  warnings.warn(msg.format(keys=sorted(unused), name=self.name))\n",
      "/Users/kierancooney/.pyenv/versions/num_spt_venv_p11/lib/python3.11/site-packages/tenpy/tools/params.py:230: UserWarning: unused options for config TwoSiteDMRGEngine:\n",
      "['amplitude', 'decay', 'disable_after', 'update_env']\n",
      "  warnings.warn(msg.format(keys=sorted(unused), name=self.name))\n"
     ]
    }
   ],
   "source": [
    "outpsis = list()\n",
    "energies = list()\n",
    "\n",
    "for l1, l2 in zip(psis, models):\n",
    "    outpsis.append(list())\n",
    "    energies.append(list())\n",
    "\n",
    "        \n",
    "    for psi, m in zip(l1, l2):\n",
    "        try:\n",
    "            eng = dmrg.TwoSiteDMRGEngine(psi, m, dmrg_params)\n",
    "            e, psi_out = eng.run()\n",
    "        except:\n",
    "            e, psi_out = None, None\n",
    "\n",
    "        outpsis[-1].append(psi_out)\n",
    "        energies[-1].append(e)"
   ]
  },
  {
   "cell_type": "code",
   "execution_count": 55,
   "metadata": {},
   "outputs": [
    {
     "data": {
      "text/plain": [
       "[[-96.0000000000011,\n",
       "  -61.932424627532924,\n",
       "  -61.93242462752965,\n",
       "  -61.9324246248189],\n",
       " [-96.00000000000038,\n",
       "  -61.93197511895478,\n",
       "  -61.93197511895475,\n",
       "  -61.93197511895518]]"
      ]
     },
     "execution_count": 55,
     "metadata": {},
     "output_type": "execute_result"
    }
   ],
   "source": [
    "energies"
   ]
  },
  {
   "cell_type": "code",
   "execution_count": 56,
   "metadata": {},
   "outputs": [
    {
     "data": {
      "text/plain": [
       "100"
      ]
     },
     "execution_count": 56,
     "metadata": {},
     "output_type": "execute_result"
    }
   ],
   "source": [
    "len(outpsis[0][0].sites)"
   ]
  },
  {
   "cell_type": "code",
   "execution_count": 57,
   "metadata": {},
   "outputs": [
    {
     "data": {
      "text/plain": [
       "array([0.5, 0.5, 0.5, 0.5])"
      ]
     },
     "execution_count": 57,
     "metadata": {},
     "output_type": "execute_result"
    }
   ],
   "source": [
    "outpsis[0][0].get_SR(10)"
   ]
  },
  {
   "cell_type": "code",
   "execution_count": 58,
   "metadata": {},
   "outputs": [
    {
     "data": {
      "text/plain": [
       "array([0.5, 0.5, 0.5, 0.5])"
      ]
     },
     "execution_count": 58,
     "metadata": {},
     "output_type": "execute_result"
    }
   ],
   "source": [
    "outpsis[0][0].get_SR(9)"
   ]
  },
  {
   "cell_type": "code",
   "execution_count": 59,
   "metadata": {},
   "outputs": [
    {
     "data": {
      "text/plain": [
       "array([0.5, 0.5, 0.5, 0.5])"
      ]
     },
     "execution_count": 59,
     "metadata": {},
     "output_type": "execute_result"
    }
   ],
   "source": [
    "outpsis[0][0].get_SR(11)"
   ]
  },
  {
   "cell_type": "code",
   "execution_count": 60,
   "metadata": {},
   "outputs": [
    {
     "name": "stderr",
     "output_type": "stream",
     "text": [
      "/var/folders/r3/xn8xq5c17932m2g1b4r3dss80000gn/T/ipykernel_79511/3510999881.py:21: ComplexWarning: Casting complex values to real discards the imaginary part\n",
      "  boson_expectations[i,j,k] = data\n"
     ]
    }
   ],
   "source": [
    "boson_expectations = np.zeros((2, 2, 4, 50))\n",
    "\n",
    "indices = product(\n",
    "    enumerate(['X', 'Z']),\n",
    "    range(2),\n",
    "    range(4)\n",
    ")\n",
    "\n",
    "for (i, op), j, k in indices:\n",
    "    try:\n",
    "        psi = outpsis[j][k]\n",
    "        \n",
    "        data = (\n",
    "            psi\n",
    "            .expectation_value(\n",
    "                op,\n",
    "                list(range(0, 100, 2))\n",
    "            )\n",
    "        )\n",
    "\n",
    "        boson_expectations[i,j,k] = data\n",
    "\n",
    "    except:\n",
    "        boson_expectations[i,j,k] = np.nan"
   ]
  },
  {
   "cell_type": "code",
   "execution_count": 61,
   "metadata": {},
   "outputs": [
    {
     "data": {
      "text/plain": [
       "array([[[ 0.00000000e+00,  3.27423003e-14, -3.82333054e-15,\n",
       "          9.67975700e-16,  3.52495810e-15, -2.99760217e-15,\n",
       "         -4.64905892e-16,  1.27328703e-15,  5.23886490e-16,\n",
       "         -1.38777878e-16, -3.27342320e-15, -1.81452076e-15,\n",
       "          6.01949046e-16,  4.71324368e-15,  3.05658276e-15,\n",
       "          2.49106291e-15,  4.37150316e-16, -8.32667268e-17,\n",
       "          3.92047506e-16, -2.27248775e-16, -2.87964097e-16,\n",
       "         -7.91033905e-16, -4.87804241e-15,  1.96370697e-15,\n",
       "          1.40339129e-15,  9.32587341e-15, -1.82839854e-15,\n",
       "          4.82253126e-16, -4.33680869e-17,  1.17614252e-15,\n",
       "         -3.50414142e-16,  3.46944695e-17, -2.42861287e-16,\n",
       "         -2.64111649e-16,  2.39391840e-16,  1.68268177e-16,\n",
       "          8.43075609e-16, -4.93875774e-15, -6.34908792e-16,\n",
       "         -1.90125693e-15,  6.52256027e-16,  1.31492039e-15,\n",
       "         -7.73686670e-16, -2.01227923e-16,  4.54497551e-16,\n",
       "         -3.70536934e-15,  3.13074219e-15, -4.59701721e-16,\n",
       "         -9.80456427e-14,  0.00000000e+00],\n",
       "        [ 0.00000000e+00,  4.27575987e-01,  3.07756654e-01,\n",
       "          3.66729221e-01,  3.54773819e-01,  3.60682233e-01,\n",
       "          3.59625425e-01,  3.60267874e-01,  3.60220865e-01,\n",
       "          3.60281692e-01,  3.60308401e-01,  3.60295925e-01,\n",
       "          3.60323484e-01,  3.60300162e-01,  3.60326372e-01,\n",
       "          3.60301194e-01,  3.60326958e-01,  3.60301428e-01,\n",
       "          3.60327081e-01,  3.60301480e-01,  3.60327107e-01,\n",
       "          3.60301490e-01,  3.60327110e-01,  3.60301488e-01,\n",
       "          3.60327102e-01,  3.60301468e-01,  3.60327061e-01,\n",
       "          3.60301371e-01,  3.60326883e-01,  3.60300891e-01,\n",
       "          3.60326233e-01,  3.60298554e-01,  3.60325163e-01,\n",
       "          3.60290134e-01,  3.60329819e-01,  3.60306727e-01,\n",
       "          3.60306146e-01,  3.60326481e-01,  3.60284725e-01,\n",
       "          3.60306516e-01,  3.60278783e-01,  3.60219996e-01,\n",
       "          3.60267275e-01,  3.59625194e-01,  3.60682109e-01,\n",
       "          3.54773765e-01,  3.66729193e-01,  3.07756643e-01,\n",
       "          4.27575978e-01, -6.26269994e-15],\n",
       "        [ 0.00000000e+00, -1.22092295e-15,  1.19687925e-16,\n",
       "          1.87599332e-16, -1.87534613e-16,  6.86907251e-17,\n",
       "         -5.84869155e-17, -1.25257064e-16,  2.00985294e-18,\n",
       "         -2.06853653e-17, -2.48135967e-17,  6.12844342e-17,\n",
       "          1.27360880e-16,  1.33568806e-16,  2.47834447e-18,\n",
       "         -1.64712680e-16,  2.03564261e-17,  2.12753074e-17,\n",
       "          7.15595270e-18, -1.85883005e-16,  6.46249854e-17,\n",
       "          6.08350245e-17, -4.01357934e-16,  8.76926105e-17,\n",
       "          5.96385307e-17,  1.47299091e-16,  6.71578224e-18,\n",
       "          5.60832585e-18, -3.61197154e-17,  1.06428607e-16,\n",
       "          7.33228883e-17, -3.97999627e-17,  4.14173782e-17,\n",
       "         -1.67637103e-16, -2.78816865e-17,  4.93085589e-17,\n",
       "         -4.25189613e-17, -1.15369070e-16,  5.34786286e-17,\n",
       "          6.04040050e-17,  3.65667973e-17,  1.56424095e-17,\n",
       "          1.77725153e-16,  6.47909440e-17,  8.43429037e-17,\n",
       "         -2.55493169e-16,  7.73277927e-17,  2.72073128e-19,\n",
       "          6.47640125e-18, -8.89441233e-16],\n",
       "        [ 0.00000000e+00,  4.27575987e-01,  3.07756654e-01,\n",
       "          3.66729220e-01,  3.54773817e-01,  3.60682228e-01,\n",
       "          3.59625413e-01,  3.60267848e-01,  3.60220812e-01,\n",
       "          3.60281571e-01,  3.60308173e-01,  3.60295328e-01,\n",
       "          3.60322618e-01,  3.60297255e-01,  3.60324488e-01,\n",
       "          3.60289995e-01,  3.60329957e-01,  3.60307409e-01,\n",
       "          3.60307441e-01,  3.60330099e-01,  3.60290288e-01,\n",
       "          3.60325227e-01,  3.60298586e-01,  3.60326248e-01,\n",
       "          3.60300898e-01,  3.60326885e-01,  3.60301372e-01,\n",
       "          3.60327060e-01,  3.60301466e-01,  3.60327095e-01,\n",
       "          3.60301474e-01,  3.60327079e-01,  3.60301427e-01,\n",
       "          3.60326958e-01,  3.60301194e-01,  3.60326372e-01,\n",
       "          3.60300162e-01,  3.60323484e-01,  3.60295925e-01,\n",
       "          3.60308401e-01,  3.60281692e-01,  3.60220865e-01,\n",
       "          3.60267874e-01,  3.59625425e-01,  3.60682233e-01,\n",
       "          3.54773819e-01,  3.66729221e-01,  3.07756654e-01,\n",
       "          4.27575987e-01, -5.73153968e-15]],\n",
       "\n",
       "       [[ 0.00000000e+00,  1.00000000e+00,  1.00000000e+00,\n",
       "          1.00000000e+00,  1.00000000e+00,  1.00000000e+00,\n",
       "          1.00000000e+00,  1.00000000e+00,  1.00000000e+00,\n",
       "          1.00000000e+00,  1.00000000e+00,  1.00000000e+00,\n",
       "          1.00000000e+00,  1.00000000e+00,  1.00000000e+00,\n",
       "          1.00000000e+00,  1.00000000e+00,  1.00000000e+00,\n",
       "          1.00000000e+00,  1.00000000e+00,  1.00000000e+00,\n",
       "          1.00000000e+00,  1.00000000e+00,  1.00000000e+00,\n",
       "          1.00000000e+00,  1.00000000e+00,  1.00000000e+00,\n",
       "          1.00000000e+00,  1.00000000e+00,  1.00000000e+00,\n",
       "          1.00000000e+00,  1.00000000e+00,  1.00000000e+00,\n",
       "          1.00000000e+00,  1.00000000e+00,  1.00000000e+00,\n",
       "          1.00000000e+00,  1.00000000e+00,  1.00000000e+00,\n",
       "          1.00000000e+00,  1.00000000e+00,  1.00000000e+00,\n",
       "          1.00000000e+00,  1.00000000e+00,  1.00000000e+00,\n",
       "          1.00000000e+00,  1.00000000e+00,  1.00000000e+00,\n",
       "          1.00000000e+00,  0.00000000e+00],\n",
       "        [ 0.00000000e+00,  5.00000000e-01,  5.00000000e-01,\n",
       "          5.00000000e-01,  5.00000000e-01,  5.00000000e-01,\n",
       "          5.00000000e-01,  5.00000000e-01,  5.00000000e-01,\n",
       "          5.00000000e-01,  5.00000000e-01,  5.00000000e-01,\n",
       "          5.00000000e-01,  5.00000000e-01,  5.00000000e-01,\n",
       "          5.00000000e-01,  5.00000000e-01,  5.00000000e-01,\n",
       "          5.00000000e-01,  5.00000000e-01,  5.00000000e-01,\n",
       "          5.00000000e-01,  5.00000000e-01,  5.00000000e-01,\n",
       "          5.00000000e-01,  5.00000000e-01,  5.00000000e-01,\n",
       "          5.00000000e-01,  5.00000000e-01,  5.00000000e-01,\n",
       "          5.00000000e-01,  5.00000000e-01,  5.00000000e-01,\n",
       "          5.00000000e-01,  5.00000000e-01,  5.00000000e-01,\n",
       "          5.00000000e-01,  5.00000000e-01,  5.00000000e-01,\n",
       "          5.00000000e-01,  5.00000000e-01,  5.00000000e-01,\n",
       "          5.00000000e-01,  5.00000000e-01,  5.00000000e-01,\n",
       "          5.00000000e-01,  5.00000000e-01,  5.00000000e-01,\n",
       "          5.00000000e-01,  0.00000000e+00],\n",
       "        [ 0.00000000e+00, -2.52566947e-15, -3.96180292e-16,\n",
       "         -2.95659759e-15, -5.96038767e-16, -1.57900335e-15,\n",
       "         -1.05339633e-14,  3.61138667e-15, -1.30529286e-15,\n",
       "         -3.68290316e-15,  7.44287860e-15,  4.07270245e-16,\n",
       "         -1.31575893e-14,  3.85975172e-15,  5.44911480e-15,\n",
       "          9.35826878e-16,  3.86798227e-15, -1.80367757e-15,\n",
       "          2.20761265e-15,  5.50112676e-16,  1.58533605e-15,\n",
       "          4.47957655e-15,  2.04945946e-14,  6.24532148e-15,\n",
       "          7.41747883e-15, -5.13450081e-16, -5.30382676e-15,\n",
       "         -1.86354685e-15, -1.15835701e-15, -1.77737613e-15,\n",
       "          2.26495469e-15,  7.61904023e-15, -3.28220073e-15,\n",
       "          2.64501823e-15,  1.19167558e-15,  3.42138695e-15,\n",
       "         -1.43580487e-15,  1.26071864e-14,  8.83893148e-16,\n",
       "          1.69036760e-14, -3.92027292e-15,  2.70752654e-15,\n",
       "          2.67791926e-15,  1.64464098e-15,  2.36497263e-15,\n",
       "          1.99006313e-15,  1.57673576e-14, -8.74906099e-15,\n",
       "          7.64980776e-15,  1.30005318e-14],\n",
       "        [ 0.00000000e+00,  5.00000000e-01,  5.00000000e-01,\n",
       "          5.00000000e-01,  5.00000000e-01,  5.00000000e-01,\n",
       "          5.00000000e-01,  5.00000000e-01,  5.00000000e-01,\n",
       "          5.00000000e-01,  5.00000000e-01,  5.00000000e-01,\n",
       "          5.00000000e-01,  5.00000000e-01,  5.00000000e-01,\n",
       "          5.00000000e-01,  5.00000000e-01,  5.00000000e-01,\n",
       "          5.00000000e-01,  5.00000000e-01,  5.00000000e-01,\n",
       "          5.00000000e-01,  5.00000000e-01,  5.00000000e-01,\n",
       "          5.00000000e-01,  5.00000000e-01,  5.00000000e-01,\n",
       "          5.00000000e-01,  5.00000000e-01,  5.00000000e-01,\n",
       "          5.00000000e-01,  5.00000000e-01,  5.00000000e-01,\n",
       "          5.00000000e-01,  5.00000000e-01,  5.00000000e-01,\n",
       "          5.00000000e-01,  5.00000000e-01,  5.00000000e-01,\n",
       "          5.00000000e-01,  5.00000000e-01,  5.00000000e-01,\n",
       "          5.00000000e-01,  5.00000000e-01,  5.00000000e-01,\n",
       "          5.00000000e-01,  5.00000000e-01,  5.00000000e-01,\n",
       "          5.00000000e-01,  5.06850337e-15]]])"
      ]
     },
     "execution_count": 61,
     "metadata": {},
     "output_type": "execute_result"
    }
   ],
   "source": [
    "boson_expectations[0]"
   ]
  },
  {
   "cell_type": "code",
   "execution_count": 62,
   "metadata": {},
   "outputs": [
    {
     "data": {
      "text/plain": [
       "array([[[ 1.00000000e+00, -1.58276170e-14,  3.45209972e-15,\n",
       "          7.49400542e-15, -1.21248497e-14,  5.05151476e-15,\n",
       "          2.67147415e-14,  1.16295862e-14,  1.29618538e-14,\n",
       "         -2.99760217e-15, -2.56461519e-14, -2.51187959e-14,\n",
       "         -1.98400324e-14, -2.00395256e-14, -1.15879528e-14,\n",
       "          2.13162821e-14,  4.13558077e-15,  1.01862963e-14,\n",
       "          1.19348975e-14, -2.40085729e-14, -1.90125693e-14,\n",
       "         -5.06539255e-15,  3.28209682e-15, -6.35602682e-15,\n",
       "          2.60902411e-15,  8.50708393e-15, -1.30347122e-14,\n",
       "          8.18789481e-16, -1.86586857e-14, -2.50077736e-14,\n",
       "         -2.41473508e-14,  1.47104551e-14, -3.10446113e-14,\n",
       "          9.10382880e-15, -4.44089210e-15, -1.66602843e-14,\n",
       "          2.64371858e-15,  2.87547763e-14, -3.11417558e-14,\n",
       "         -1.54147528e-14, -5.34294831e-15, -6.20337115e-15,\n",
       "          4.39370762e-14,  3.55826479e-14, -1.60635394e-14,\n",
       "         -1.75554016e-14, -2.12295459e-14, -2.06050454e-14,\n",
       "          9.85322934e-16,  1.00000000e+00],\n",
       "        [ 1.00000000e+00,  3.54226110e-01,  4.27575987e-01,\n",
       "          4.12861817e-01,  4.20341891e-01,  4.19010882e-01,\n",
       "          4.19890568e-01,  4.19784407e-01,  4.19921220e-01,\n",
       "          4.19901068e-01,  4.19941715e-01,  4.19921551e-01,\n",
       "          4.19947575e-01,  4.19925517e-01,  4.19948984e-01,\n",
       "          4.19926327e-01,  4.19949302e-01,  4.19926497e-01,\n",
       "          4.19949372e-01,  4.19926533e-01,  4.19949387e-01,\n",
       "          4.19926540e-01,  4.19949389e-01,  4.19926539e-01,\n",
       "          4.19949384e-01,  4.19926526e-01,  4.19949357e-01,\n",
       "          4.19926468e-01,  4.19949226e-01,  4.19926216e-01,\n",
       "          4.19948582e-01,  4.19925266e-01,  4.19945429e-01,\n",
       "          4.19923300e-01,  4.19933044e-01,  4.19929118e-01,\n",
       "          4.19928501e-01,  4.19931439e-01,  4.19918398e-01,\n",
       "          4.19937791e-01,  4.19899806e-01,  4.19920413e-01,\n",
       "          4.19784079e-01,  4.19890398e-01,  4.19010802e-01,\n",
       "          4.20341852e-01,  4.12861794e-01,  4.27575978e-01,\n",
       "          3.54226101e-01,  6.12323400e-17],\n",
       "        [ 1.00000000e+00,  7.87406966e-16, -3.16576331e-14,\n",
       "          1.59059253e-16, -1.97939360e-14, -3.35873559e-14,\n",
       "          1.60323232e-14,  3.29537309e-14, -1.98708770e-14,\n",
       "         -1.31862974e-14,  3.88341125e-15,  7.41797559e-15,\n",
       "          1.87940621e-15,  3.17974127e-15,  2.23137865e-14,\n",
       "         -6.88530558e-15, -6.49265985e-15, -1.08954167e-14,\n",
       "          7.62678764e-15,  1.02289138e-15, -9.86582230e-15,\n",
       "         -3.73656647e-14, -5.03797169e-15, -1.01967185e-14,\n",
       "          9.52496433e-15,  2.35955962e-14,  3.88589488e-15,\n",
       "          3.36770964e-15,  1.10695646e-14, -8.97917606e-15,\n",
       "         -2.09312367e-14, -3.65353048e-14, -2.13544504e-15,\n",
       "          1.03249861e-14, -8.00254781e-15, -8.13878243e-15,\n",
       "         -2.41273588e-14,  9.78607927e-15, -1.24746663e-14,\n",
       "          9.71838711e-15, -4.24266662e-15,  1.24305227e-14,\n",
       "         -1.77847431e-14, -1.53895392e-14, -1.39496487e-14,\n",
       "         -1.05884079e-17,  1.98256421e-14,  3.72749953e-15,\n",
       "          1.17488814e-15, -1.00000000e+00],\n",
       "        [ 1.00000000e+00,  3.54226110e-01,  4.27575987e-01,\n",
       "          4.12861816e-01,  4.20341889e-01,  4.19010878e-01,\n",
       "          4.19890560e-01,  4.19784391e-01,  4.19921186e-01,\n",
       "          4.19900994e-01,  4.19941550e-01,  4.19921229e-01,\n",
       "          4.19946774e-01,  4.19924261e-01,  4.19945066e-01,\n",
       "          4.19923178e-01,  4.19933172e-01,  4.19929484e-01,\n",
       "          4.19929511e-01,  4.19933252e-01,  4.19923390e-01,\n",
       "          4.19945472e-01,  4.19925286e-01,  4.19948591e-01,\n",
       "          4.19926221e-01,  4.19949228e-01,  4.19926469e-01,\n",
       "          4.19949357e-01,  4.19926525e-01,  4.19949380e-01,\n",
       "          4.19926530e-01,  4.19949371e-01,  4.19926496e-01,\n",
       "          4.19949302e-01,  4.19926327e-01,  4.19948984e-01,\n",
       "          4.19925517e-01,  4.19947575e-01,  4.19921551e-01,\n",
       "          4.19941715e-01,  4.19901068e-01,  4.19921220e-01,\n",
       "          4.19784407e-01,  4.19890568e-01,  4.19010882e-01,\n",
       "          4.20341891e-01,  4.12861817e-01,  4.27575987e-01,\n",
       "          3.54226110e-01, -1.83697020e-16]],\n",
       "\n",
       "       [[ 1.00000000e+00,  4.83905705e-15,  1.32767520e-14,\n",
       "         -5.56928380e-15,  4.28394554e-15,  1.03901722e-14,\n",
       "         -6.67950683e-15,  4.56150130e-15, -5.73581726e-15,\n",
       "         -6.73501798e-15, -7.56768525e-15, -5.90235071e-15,\n",
       "          9.83506066e-15, -1.23941401e-15,  1.52751535e-14,\n",
       "          4.50599015e-15,  4.06190094e-15,  5.28314626e-15,\n",
       "          4.06190094e-15,  3.89536748e-15,  1.32767520e-14,\n",
       "          1.16114175e-14,  4.83905705e-15,  4.78354590e-15,\n",
       "          5.78274662e-15,  4.50599015e-15,  1.29991963e-14,\n",
       "         -2.90474854e-15,  1.17532107e-15,  1.31102186e-14,\n",
       "         -5.90235071e-15,  1.34432855e-14, -5.90235071e-15,\n",
       "          1.52751535e-14,  1.29991963e-14,  4.83905705e-15,\n",
       "          1.21110179e-14,  1.16114175e-14, -7.45666294e-15,\n",
       "          1.13893729e-14, -5.90235071e-15,  1.34432855e-14,\n",
       "         -7.45666294e-15, -6.73501798e-15,  5.00559051e-15,\n",
       "          3.17372252e-15,  4.78354590e-15,  4.78354590e-15,\n",
       "         -6.73501798e-15,  1.00000000e+00],\n",
       "        [ 1.00000000e+00,  3.54278673e-01,  4.27617575e-01,\n",
       "          4.12935932e-01,  4.20402224e-01,  4.19106915e-01,\n",
       "          4.19948775e-01,  4.19866453e-01,  4.19971306e-01,\n",
       "          4.19972602e-01,  4.19987152e-01,  4.19989103e-01,\n",
       "          4.19991341e-01,  4.19991882e-01,  4.19992256e-01,\n",
       "          4.19992376e-01,  4.19992442e-01,  4.19992466e-01,\n",
       "          4.19992478e-01,  4.19992483e-01,  4.19992485e-01,\n",
       "          4.19992486e-01,  4.19992487e-01,  4.19992487e-01,\n",
       "          4.19992487e-01,  4.19992487e-01,  4.19992487e-01,\n",
       "          4.19992487e-01,  4.19992486e-01,  4.19992485e-01,\n",
       "          4.19992483e-01,  4.19992478e-01,  4.19992466e-01,\n",
       "          4.19992442e-01,  4.19992376e-01,  4.19992256e-01,\n",
       "          4.19991882e-01,  4.19991341e-01,  4.19989103e-01,\n",
       "          4.19987152e-01,  4.19972602e-01,  4.19971306e-01,\n",
       "          4.19866453e-01,  4.19948775e-01,  4.19106915e-01,\n",
       "          4.20402224e-01,  4.12935932e-01,  4.27617575e-01,\n",
       "          3.54278673e-01,  1.00000000e+00],\n",
       "        [ 1.00000000e+00, -4.77147236e-18, -2.13848505e-15,\n",
       "          4.61001101e-15, -2.63876764e-14, -7.23822299e-15,\n",
       "         -2.47010727e-14,  7.66898424e-15,  3.41877956e-14,\n",
       "          3.30764261e-14, -1.80755992e-14,  1.26415751e-14,\n",
       "         -1.32377900e-14, -1.23308641e-14, -5.12258050e-14,\n",
       "          3.61438799e-15, -3.20819767e-14,  1.15807744e-14,\n",
       "         -4.78385640e-15,  8.84459087e-15,  1.50343214e-14,\n",
       "         -2.16607835e-14, -3.34257068e-14,  2.13797119e-14,\n",
       "          8.01241500e-15, -2.01704850e-14,  2.79882403e-14,\n",
       "          1.20425448e-14,  1.08668330e-14, -2.21553366e-14,\n",
       "          1.50373033e-15,  1.95370599e-15, -1.08709505e-14,\n",
       "          1.26616735e-14, -4.05427487e-14,  4.15149560e-14,\n",
       "          3.44779682e-15, -4.18716803e-14,  1.53475189e-14,\n",
       "          5.11176740e-15,  1.31951468e-15,  7.41653802e-15,\n",
       "         -6.06102688e-15,  2.42149829e-14, -1.94340513e-14,\n",
       "          3.87130806e-15,  1.69487558e-14, -1.88780620e-14,\n",
       "         -1.35176888e-14, -1.00000000e+00],\n",
       "        [ 1.00000000e+00,  3.54278673e-01,  4.27617575e-01,\n",
       "          4.12935932e-01,  4.20402224e-01,  4.19106915e-01,\n",
       "          4.19948775e-01,  4.19866453e-01,  4.19971306e-01,\n",
       "          4.19972602e-01,  4.19987152e-01,  4.19989103e-01,\n",
       "          4.19991341e-01,  4.19991882e-01,  4.19992256e-01,\n",
       "          4.19992376e-01,  4.19992442e-01,  4.19992466e-01,\n",
       "          4.19992478e-01,  4.19992483e-01,  4.19992485e-01,\n",
       "          4.19992486e-01,  4.19992487e-01,  4.19992487e-01,\n",
       "          4.19992487e-01,  4.19992487e-01,  4.19992487e-01,\n",
       "          4.19992487e-01,  4.19992486e-01,  4.19992485e-01,\n",
       "          4.19992483e-01,  4.19992478e-01,  4.19992466e-01,\n",
       "          4.19992442e-01,  4.19992376e-01,  4.19992256e-01,\n",
       "          4.19991882e-01,  4.19991341e-01,  4.19989103e-01,\n",
       "          4.19987152e-01,  4.19972602e-01,  4.19971306e-01,\n",
       "          4.19866453e-01,  4.19948775e-01,  4.19106915e-01,\n",
       "          4.20402224e-01,  4.12935932e-01,  4.27617575e-01,\n",
       "          3.54278673e-01, -1.83697020e-16]]])"
      ]
     },
     "execution_count": 62,
     "metadata": {},
     "output_type": "execute_result"
    }
   ],
   "source": [
    "boson_expectations[1]"
   ]
  },
  {
   "cell_type": "code",
   "execution_count": 63,
   "metadata": {},
   "outputs": [],
   "source": [
    "fermion_number_expectations = np.zeros((2, 4, 50))\n",
    "\n",
    "indices = product(\n",
    "    range(2),\n",
    "    range(4)\n",
    ")\n",
    "\n",
    "for j, k in indices:\n",
    "    try:\n",
    "        psi = outpsis[j][k]\n",
    "        \n",
    "        data = (\n",
    "            psi\n",
    "            .expectation_value(\n",
    "                'N',\n",
    "                list(range(1, 100, 2))\n",
    "            )\n",
    "        )\n",
    "\n",
    "        fermion_number_expectations[j,k] = data\n",
    "\n",
    "    except:\n",
    "        fermion_number_expectations[j,k] = np.nan"
   ]
  },
  {
   "cell_type": "code",
   "execution_count": 64,
   "metadata": {},
   "outputs": [
    {
     "data": {
      "text/plain": [
       "array([[[0.00000000e+00, 3.60894352e-58, 1.00000000e+00, 1.78097057e-32,\n",
       "         2.36245007e-32, 1.61270528e-31, 1.00000000e+00, 1.97320846e-30,\n",
       "         5.95719063e-32, 1.00000000e+00, 1.19128999e-31, 3.31206610e-32,\n",
       "         1.00000000e+00, 1.86305473e-31, 6.34328111e-32, 1.00000000e+00,\n",
       "         1.00000000e+00, 5.12253294e-31, 4.32462808e-31, 1.00000000e+00,\n",
       "         6.44220246e-32, 1.00000000e+00, 1.08519276e-31, 7.68449018e-32,\n",
       "         8.95483246e-32, 1.00000000e+00, 1.00000000e+00, 1.42298896e-32,\n",
       "         2.57643569e-31, 1.00000000e+00, 7.16436652e-32, 2.61000402e-31,\n",
       "         1.00000000e+00, 1.00000000e+00, 1.00000000e+00, 2.75726001e-31,\n",
       "         1.73381339e-31, 4.17542795e-32, 1.00000000e+00, 1.00000000e+00,\n",
       "         6.01670806e-31, 4.40795498e-32, 1.00000000e+00, 9.37748994e-32,\n",
       "         1.00000000e+00, 1.00000000e+00, 1.00000000e+00, 1.00000000e+00,\n",
       "         1.00000000e+00, 0.00000000e+00],\n",
       "        [8.54226110e-01, 8.02790632e-01, 8.55135412e-01, 8.47515568e-01,\n",
       "         8.52593252e-01, 8.51909451e-01, 8.52491878e-01, 8.52457802e-01,\n",
       "         8.52536926e-01, 8.52541973e-01, 8.52554704e-01, 8.52557091e-01,\n",
       "         8.52559420e-01, 8.52560068e-01, 8.52560529e-01, 8.52560682e-01,\n",
       "         8.52560777e-01, 8.52560811e-01, 8.52560831e-01, 8.52560838e-01,\n",
       "         8.52560842e-01, 8.52560843e-01, 8.52560843e-01, 8.52560840e-01,\n",
       "         8.52560833e-01, 8.52560820e-01, 8.52560789e-01, 8.52560720e-01,\n",
       "         8.52560594e-01, 8.52560245e-01, 8.52559865e-01, 8.52558120e-01,\n",
       "         8.52558681e-01, 8.52552750e-01, 8.52569201e-01, 8.52549349e-01,\n",
       "         8.52568094e-01, 8.52549159e-01, 8.52552610e-01, 8.52539279e-01,\n",
       "         8.52535958e-01, 8.52457206e-01, 8.52491627e-01, 8.51909324e-01,\n",
       "         8.52593193e-01, 8.47515540e-01, 8.55135396e-01, 8.02790625e-01,\n",
       "         8.54226101e-01, 0.00000000e+00],\n",
       "        [8.54226110e-01, 8.02790632e-01, 8.55135412e-01, 8.47515568e-01,\n",
       "         8.52593252e-01, 8.51909451e-01, 8.52491878e-01, 8.52457802e-01,\n",
       "         8.52536926e-01, 8.52541973e-01, 8.52554704e-01, 8.52557091e-01,\n",
       "         8.52559420e-01, 8.52560068e-01, 8.52560529e-01, 8.52560682e-01,\n",
       "         8.52560777e-01, 8.52560811e-01, 8.52560831e-01, 8.52560838e-01,\n",
       "         8.52560842e-01, 8.52560843e-01, 8.52560843e-01, 8.52560840e-01,\n",
       "         8.52560833e-01, 8.52560820e-01, 8.52560789e-01, 8.52560720e-01,\n",
       "         8.52560594e-01, 8.52560245e-01, 8.52559865e-01, 8.52558120e-01,\n",
       "         8.52558681e-01, 8.52552750e-01, 8.52569201e-01, 8.52549349e-01,\n",
       "         8.52568094e-01, 8.52549159e-01, 8.52552610e-01, 8.52539279e-01,\n",
       "         8.52535958e-01, 8.52457206e-01, 8.52491627e-01, 8.51909324e-01,\n",
       "         8.52593193e-01, 8.47515540e-01, 8.55135396e-01, 8.02790625e-01,\n",
       "         8.54226101e-01, 0.00000000e+00],\n",
       "        [8.54226110e-01, 8.02790632e-01, 8.55135411e-01, 8.47515567e-01,\n",
       "         8.52593249e-01, 8.51909445e-01, 8.52491866e-01, 8.52457776e-01,\n",
       "         8.52536869e-01, 8.52541848e-01, 8.52554455e-01, 8.52556497e-01,\n",
       "         8.52558455e-01, 8.52557376e-01, 8.52558436e-01, 8.52552750e-01,\n",
       "         8.52569453e-01, 8.52550094e-01, 8.52569508e-01, 8.52552907e-01,\n",
       "         8.52558750e-01, 8.52558153e-01, 8.52559880e-01, 8.52560252e-01,\n",
       "         8.52560597e-01, 8.52560721e-01, 8.52560789e-01, 8.52560818e-01,\n",
       "         8.52560830e-01, 8.52560833e-01, 8.52560829e-01, 8.52560810e-01,\n",
       "         8.52560776e-01, 8.52560681e-01, 8.52560529e-01, 8.52560068e-01,\n",
       "         8.52559420e-01, 8.52557091e-01, 8.52554704e-01, 8.52541973e-01,\n",
       "         8.52536926e-01, 8.52457802e-01, 8.52491878e-01, 8.51909451e-01,\n",
       "         8.52593252e-01, 8.47515568e-01, 8.55135412e-01, 8.02790632e-01,\n",
       "         8.54226110e-01, 0.00000000e+00]],\n",
       "\n",
       "       [[0.00000000e+00, 9.63043444e-01, 3.07242927e-02, 1.00000000e+00,\n",
       "         4.51936318e-02, 2.59931284e-01, 0.00000000e+00, 8.70600606e-01,\n",
       "         9.77852096e-01, 2.69837089e-01, 9.77852096e-01, 7.09832983e-02,\n",
       "         9.28031140e-01, 1.00000000e+00, 1.31913622e-01, 3.00735770e-02,\n",
       "         2.55722579e-01, 7.59689093e-01, 8.73128221e-01, 8.73128221e-01,\n",
       "         5.00000000e-01, 1.00000000e+00, 7.65884628e-01, 0.00000000e+00,\n",
       "         0.00000000e+00, 2.61644864e-02, 1.90602232e-02, 7.59689093e-01,\n",
       "         0.00000000e+00, 1.39194582e-01, 5.00000000e-01, 6.63280153e-02,\n",
       "         5.00000000e-01, 6.63280153e-02, 6.63280153e-02, 7.65884628e-01,\n",
       "         5.83712823e-02, 1.00000000e+00, 0.00000000e+00, 1.00000000e+00,\n",
       "         5.00000000e-01, 6.63280153e-02, 1.25965928e-01, 8.83544215e-01,\n",
       "         7.35216856e-01, 7.65884628e-01, 4.79860034e-02, 0.00000000e+00,\n",
       "         2.69837089e-01, 0.00000000e+00],\n",
       "        [8.54278673e-01, 8.02813067e-01, 8.55179000e-01, 8.47551722e-01,\n",
       "         8.52637407e-01, 8.51963078e-01, 8.52539790e-01, 8.52508582e-01,\n",
       "         8.52582773e-01, 8.52587292e-01, 8.52598009e-01, 8.52599933e-01,\n",
       "         8.52601641e-01, 8.52602113e-01, 8.52602406e-01, 8.52602506e-01,\n",
       "         8.52602559e-01, 8.52602579e-01, 8.52602589e-01, 8.52602593e-01,\n",
       "         8.52602595e-01, 8.52602595e-01, 8.52602596e-01, 8.52602596e-01,\n",
       "         8.52602596e-01, 8.52602596e-01, 8.52602596e-01, 8.52602595e-01,\n",
       "         8.52602595e-01, 8.52602593e-01, 8.52602589e-01, 8.52602579e-01,\n",
       "         8.52602559e-01, 8.52602506e-01, 8.52602406e-01, 8.52602113e-01,\n",
       "         8.52601641e-01, 8.52599933e-01, 8.52598009e-01, 8.52587292e-01,\n",
       "         8.52582773e-01, 8.52508582e-01, 8.52539790e-01, 8.51963078e-01,\n",
       "         8.52637407e-01, 8.47551722e-01, 8.55179000e-01, 8.02813067e-01,\n",
       "         8.54278673e-01, 0.00000000e+00],\n",
       "        [8.54278673e-01, 8.02813067e-01, 8.55179000e-01, 8.47551722e-01,\n",
       "         8.52637407e-01, 8.51963078e-01, 8.52539790e-01, 8.52508582e-01,\n",
       "         8.52582773e-01, 8.52587292e-01, 8.52598009e-01, 8.52599933e-01,\n",
       "         8.52601641e-01, 8.52602113e-01, 8.52602406e-01, 8.52602506e-01,\n",
       "         8.52602559e-01, 8.52602579e-01, 8.52602589e-01, 8.52602593e-01,\n",
       "         8.52602595e-01, 8.52602595e-01, 8.52602596e-01, 8.52602596e-01,\n",
       "         8.52602596e-01, 8.52602596e-01, 8.52602596e-01, 8.52602595e-01,\n",
       "         8.52602595e-01, 8.52602593e-01, 8.52602589e-01, 8.52602579e-01,\n",
       "         8.52602559e-01, 8.52602506e-01, 8.52602406e-01, 8.52602113e-01,\n",
       "         8.52601641e-01, 8.52599933e-01, 8.52598009e-01, 8.52587292e-01,\n",
       "         8.52582773e-01, 8.52508582e-01, 8.52539790e-01, 8.51963078e-01,\n",
       "         8.52637407e-01, 8.47551722e-01, 8.55179000e-01, 8.02813067e-01,\n",
       "         8.54278673e-01, 0.00000000e+00],\n",
       "        [8.54278673e-01, 8.02813067e-01, 8.55179000e-01, 8.47551722e-01,\n",
       "         8.52637407e-01, 8.51963078e-01, 8.52539790e-01, 8.52508582e-01,\n",
       "         8.52582773e-01, 8.52587292e-01, 8.52598009e-01, 8.52599933e-01,\n",
       "         8.52601641e-01, 8.52602113e-01, 8.52602406e-01, 8.52602506e-01,\n",
       "         8.52602559e-01, 8.52602579e-01, 8.52602589e-01, 8.52602593e-01,\n",
       "         8.52602595e-01, 8.52602595e-01, 8.52602596e-01, 8.52602596e-01,\n",
       "         8.52602596e-01, 8.52602596e-01, 8.52602596e-01, 8.52602595e-01,\n",
       "         8.52602595e-01, 8.52602593e-01, 8.52602589e-01, 8.52602579e-01,\n",
       "         8.52602559e-01, 8.52602506e-01, 8.52602406e-01, 8.52602113e-01,\n",
       "         8.52601641e-01, 8.52599933e-01, 8.52598009e-01, 8.52587292e-01,\n",
       "         8.52582773e-01, 8.52508582e-01, 8.52539790e-01, 8.51963078e-01,\n",
       "         8.52637407e-01, 8.47551722e-01, 8.55179000e-01, 8.02813067e-01,\n",
       "         8.54278673e-01, 0.00000000e+00]]])"
      ]
     },
     "execution_count": 64,
     "metadata": {},
     "output_type": "execute_result"
    }
   ],
   "source": [
    "fermion_number_expectations"
   ]
  },
  {
   "cell_type": "code",
   "execution_count": 65,
   "metadata": {},
   "outputs": [
    {
     "name": "stderr",
     "output_type": "stream",
     "text": [
      "/var/folders/r3/xn8xq5c17932m2g1b4r3dss80000gn/T/ipykernel_79511/290460682.py:23: ComplexWarning: Casting complex values to real discards the imaginary part\n",
      "  boson_correlations[i,j,k] = data\n"
     ]
    }
   ],
   "source": [
    "boson_correlations = np.zeros((2, 2, 4, 50, 50))\n",
    "\n",
    "indices = product(\n",
    "    enumerate(['X', 'Z']),\n",
    "    range(2),\n",
    "    range(4)\n",
    ")\n",
    "\n",
    "for (i, op), j, k in indices:\n",
    "    try:\n",
    "        psi = outpsis[j][k]\n",
    "        \n",
    "        data = (\n",
    "            psi\n",
    "            .correlation_function(\n",
    "                op,\n",
    "                op,\n",
    "                list(range(0, 100, 2)),\n",
    "                list(range(0, 100, 2)),\n",
    "            )\n",
    "        )\n",
    "    \n",
    "        boson_correlations[i,j,k] = data\n",
    "\n",
    "    except:\n",
    "        boson_correlations[i,j,k] = np.nan"
   ]
  },
  {
   "cell_type": "code",
   "execution_count": 66,
   "metadata": {},
   "outputs": [
    {
     "data": {
      "text/plain": [
       "array([[[-3.29346245e-29,  1.82821221e-01, -7.90718694e-33,\n",
       "          1.82821225e-01],\n",
       "        [ 1.00000000e+00,  2.50000000e-01, -1.93208859e-29,\n",
       "          2.50000000e-01]],\n",
       "\n",
       "       [[-1.37582272e-28, -5.30020610e-15,  9.97884813e-31,\n",
       "          7.40397560e-16],\n",
       "        [-1.44267170e-28,  1.82519582e-15, -1.84405897e-30,\n",
       "          6.81491031e-15]]])"
      ]
     },
     "execution_count": 66,
     "metadata": {},
     "output_type": "execute_result"
    }
   ],
   "source": [
    "boson_correlations[..., 1, -2]"
   ]
  },
  {
   "cell_type": "code",
   "execution_count": 67,
   "metadata": {},
   "outputs": [],
   "source": [
    "fermion_correlations = np.zeros((2, 4, 50, 50))\n",
    "\n",
    "indices = product(\n",
    "    range(2),\n",
    "    range(4)\n",
    ")\n",
    "\n",
    "for j, k in indices:\n",
    "    try:\n",
    "        psi = outpsis[j][k]\n",
    "        \n",
    "        data = (\n",
    "            psi\n",
    "            .correlation_function(\n",
    "                'N',\n",
    "                'N',\n",
    "                list(range(1, 101, 2)),\n",
    "                list(range(1, 101, 2)),\n",
    "            )\n",
    "        )\n",
    "    \n",
    "        fermion_correlations[j,k] = data\n",
    "\n",
    "    except:\n",
    "        fermion_correlations[j,k] = np.nan"
   ]
  },
  {
   "cell_type": "code",
   "execution_count": 68,
   "metadata": {},
   "outputs": [
    {
     "data": {
      "text/plain": [
       "array([[3.60894352e-58, 6.85764712e-01, 6.85764712e-01, 6.85764718e-01],\n",
       "       [2.59864839e-01, 6.85826082e-01, 6.85826082e-01, 6.85826082e-01]])"
      ]
     },
     "execution_count": 68,
     "metadata": {},
     "output_type": "execute_result"
    }
   ],
   "source": [
    "fermion_correlations[..., 1, -2]"
   ]
  },
  {
   "cell_type": "code",
   "execution_count": 69,
   "metadata": {},
   "outputs": [],
   "source": [
    "reduced_boson_correlations = (\n",
    "    boson_correlations -\n",
    "    boson_expectations[...,np.newaxis]*boson_expectations[...,np.newaxis,:]\n",
    ")"
   ]
  },
  {
   "cell_type": "code",
   "execution_count": 71,
   "metadata": {},
   "outputs": [
    {
     "data": {
      "text/plain": [
       "(2, 2, 4, 50, 50)"
      ]
     },
     "execution_count": 71,
     "metadata": {},
     "output_type": "execute_result"
    }
   ],
   "source": [
    "reduced_boson_correlations.shape"
   ]
  },
  {
   "cell_type": "code",
   "execution_count": 72,
   "metadata": {},
   "outputs": [
    {
     "data": {
      "text/plain": [
       "array([[[ 3.39695524e-28, -3.09943994e-03,  6.44528116e-31,\n",
       "         -3.09941313e-03],\n",
       "        [ 1.11022302e-16,  2.77555756e-17, -3.47778551e-30,\n",
       "         -5.55111512e-17]],\n",
       "\n",
       "       [[-1.30847495e-14, -1.76347875e-01,  4.97104305e-18,\n",
       "         -1.76347796e-01],\n",
       "        [ 3.76361326e-29, -1.76393689e-01, -5.98757088e-30,\n",
       "         -1.76393689e-01]]])"
      ]
     },
     "execution_count": 72,
     "metadata": {},
     "output_type": "execute_result"
    }
   ],
   "source": [
    "reduced_boson_correlations[..., 25, 26]"
   ]
  },
  {
   "cell_type": "code",
   "execution_count": 73,
   "metadata": {},
   "outputs": [],
   "source": [
    "reduced_fermion_correlations = (\n",
    "    fermion_correlations -\n",
    "    fermion_number_expectations[...,np.newaxis]*fermion_number_expectations[...,np.newaxis,:]\n",
    ")"
   ]
  },
  {
   "cell_type": "code",
   "execution_count": 74,
   "metadata": {},
   "outputs": [
    {
     "data": {
      "text/plain": [
       "array([[ 0.00000000e+00,  5.58644098e-02,  5.58644098e-02,\n",
       "         5.58516000e-02],\n",
       "       [-1.08420217e-19,  5.58383349e-02,  5.58383349e-02,\n",
       "         5.58383349e-02]])"
      ]
     },
     "execution_count": 74,
     "metadata": {},
     "output_type": "execute_result"
    }
   ],
   "source": [
    "reduced_fermion_correlations[..., 25, 26]"
   ]
  },
  {
   "cell_type": "markdown",
   "metadata": {},
   "source": [
    "## Correct possible factor issue... again."
   ]
  },
  {
   "cell_type": "code",
   "execution_count": 75,
   "metadata": {},
   "outputs": [],
   "source": [
    "def get_op_list_1(g_quad, n1_func):\n",
    "    out = list()\n",
    "    g_left, g_in, g_out, g_right = g_quad\n",
    "\n",
    "    out.append((f'map_{g_left}_{g_left}', 0, 0))\n",
    "\n",
    "    if n1_func(g_in, g_right):\n",
    "        out.append(('Cd', 1, 1))\n",
    "    if n1_func(g_left, g_in):\n",
    "        out.append(('Cd', 0, 1))\n",
    "    \n",
    "    out.append((f'map_{g_in}_{g_out}', 1, 0))\n",
    "    \n",
    "    if n1_func(g_left, g_out):\n",
    "        out.append(('C', 0, 1))\n",
    "    if n1_func(g_out, g_right):\n",
    "        out.append(('C', 1, 1))\n",
    "\n",
    "    out.append((f'map_{g_right}_{g_right}', 2, 0))\n",
    "\n",
    "    return out"
   ]
  },
  {
   "cell_type": "code",
   "execution_count": 76,
   "metadata": {},
   "outputs": [],
   "source": [
    "class ClusterFermion1(CouplingMPOModel):\n",
    "        default_lattice = \"Chain\"\n",
    "        force_default_lattice = True\n",
    "\n",
    "        # Would it be easier to subclass ClockSite?\n",
    "        def init_sites(self, model_params):\n",
    "            spin = ClockSite(4, conserve=None)\n",
    "            for i in range(4):\n",
    "                for j in range(4):\n",
    "                    X = np.zeros((4,4))\n",
    "                    X[j, i] = 1\n",
    "                    op_name = f\"map_{i}_{j}\"\n",
    "                    spin.add_op(op_name, X)\n",
    "            ferm = FermionSite(conserve=None)\n",
    "            sites = [spin, ferm]\n",
    "            return [spin, ferm], ['s', 'f']\n",
    "\n",
    "        def init_terms(self, model_params):\n",
    "            # Read off model parameters\n",
    "            n1_01, n1_10 = model_params.get('n1', (0,0))\n",
    "            n1_func = get_n1_func(n1_01, n1_10)\n",
    "\n",
    "            non_trivial_proj_rep = model_params.get('non_trivial_proj_rep', False)\n",
    "\n",
    "            group_quads = product(range(4), repeat=4)\n",
    "\n",
    "            for group_quad in group_quads:\n",
    "                op_list = get_op_list_1(group_quad, n1_func)\n",
    "                \n",
    "                if non_trivial_proj_rep:\n",
    "                    phase = get_proj_rep_term_phase(group_quad)\n",
    "                else:\n",
    "                    phase = 1\n",
    "\n",
    "                g_left, *_, g_right = group_quad\n",
    "                factor=1\n",
    "\n",
    "                self.add_multi_coupling((-1/4)*phase*factor, op_list)"
   ]
  },
  {
   "cell_type": "code",
   "execution_count": 77,
   "metadata": {},
   "outputs": [],
   "source": [
    "models = [\n",
    "    [ClusterFermion1({'L': 50, 'n1': p, 'non_trivial_proj_rep': b}) for p in n1_pairs]\n",
    "    for b in [True, False]\n",
    "]"
   ]
  },
  {
   "cell_type": "code",
   "execution_count": 78,
   "metadata": {},
   "outputs": [
    {
     "data": {
      "text/plain": [
       "[[<__main__.ClusterFermion1 at 0x317996cd0>,\n",
       "  <__main__.ClusterFermion1 at 0x17517af50>,\n",
       "  <__main__.ClusterFermion1 at 0x31a0ff590>,\n",
       "  <__main__.ClusterFermion1 at 0x309792c10>],\n",
       " [<__main__.ClusterFermion1 at 0x31de14510>,\n",
       "  <__main__.ClusterFermion1 at 0x31fae4f90>,\n",
       "  <__main__.ClusterFermion1 at 0x320ffd350>,\n",
       "  <__main__.ClusterFermion1 at 0x323474550>]]"
      ]
     },
     "execution_count": 78,
     "metadata": {},
     "output_type": "execute_result"
    }
   ],
   "source": [
    "models"
   ]
  },
  {
   "cell_type": "code",
   "execution_count": 79,
   "metadata": {},
   "outputs": [],
   "source": [
    "psis = [\n",
    "    [MPS.from_lat_product_state(m.lat, [['0', 'empty'],]*50) for m in l]\n",
    "    for l in models\n",
    "]"
   ]
  },
  {
   "cell_type": "code",
   "execution_count": 80,
   "metadata": {},
   "outputs": [],
   "source": [
    "dmrg_params = {\n",
    "    \"trunc_params\": {\"chi_max\": 8, \"chi_min\": 1, \"svd_min\": 1.e-10},\n",
    "    \"min_sweeps\":100,\n",
    "    \"max_sweeps\":200,\n",
    "    \"mixer\": True,\n",
    "    \"combine\":False,\n",
    "    'decay':2,\n",
    "    'amplitude':10e-1,\n",
    "    'disable_after':60,\n",
    "    'update_env':0\n",
    "}"
   ]
  },
  {
   "cell_type": "code",
   "execution_count": 81,
   "metadata": {},
   "outputs": [],
   "source": [
    "for l in psis:\n",
    "    for psi in l:\n",
    "        psi.canonical_form()"
   ]
  },
  {
   "cell_type": "code",
   "execution_count": 82,
   "metadata": {},
   "outputs": [
    {
     "name": "stderr",
     "output_type": "stream",
     "text": [
      "/Users/kierancooney/.pyenv/versions/num_spt_venv_p11/lib/python3.11/site-packages/tenpy/tools/params.py:230: UserWarning: unused options for config TwoSiteDMRGEngine:\n",
      "['amplitude', 'decay', 'disable_after', 'update_env']\n",
      "  warnings.warn(msg.format(keys=sorted(unused), name=self.name))\n",
      "/Users/kierancooney/.pyenv/versions/num_spt_venv_p11/lib/python3.11/site-packages/tenpy/tools/params.py:230: UserWarning: unused options for config TwoSiteDMRGEngine:\n",
      "['amplitude', 'decay', 'disable_after', 'update_env']\n",
      "  warnings.warn(msg.format(keys=sorted(unused), name=self.name))\n",
      "/Users/kierancooney/.pyenv/versions/num_spt_venv_p11/lib/python3.11/site-packages/tenpy/tools/params.py:230: UserWarning: unused options for config TwoSiteDMRGEngine:\n",
      "['amplitude', 'decay', 'disable_after', 'update_env']\n",
      "  warnings.warn(msg.format(keys=sorted(unused), name=self.name))\n",
      "/Users/kierancooney/.pyenv/versions/num_spt_venv_p11/lib/python3.11/site-packages/tenpy/tools/params.py:230: UserWarning: unused options for config TwoSiteDMRGEngine:\n",
      "['amplitude', 'decay', 'disable_after', 'update_env']\n",
      "  warnings.warn(msg.format(keys=sorted(unused), name=self.name))\n",
      "/Users/kierancooney/.pyenv/versions/num_spt_venv_p11/lib/python3.11/site-packages/tenpy/tools/params.py:230: UserWarning: unused options for config TwoSiteDMRGEngine:\n",
      "['amplitude', 'decay', 'disable_after', 'update_env']\n",
      "  warnings.warn(msg.format(keys=sorted(unused), name=self.name))\n",
      "/Users/kierancooney/.pyenv/versions/num_spt_venv_p11/lib/python3.11/site-packages/tenpy/tools/params.py:230: UserWarning: unused options for config TwoSiteDMRGEngine:\n",
      "['amplitude', 'decay', 'disable_after', 'update_env']\n",
      "  warnings.warn(msg.format(keys=sorted(unused), name=self.name))\n",
      "/Users/kierancooney/.pyenv/versions/num_spt_venv_p11/lib/python3.11/site-packages/tenpy/tools/params.py:230: UserWarning: unused options for config TwoSiteDMRGEngine:\n",
      "['amplitude', 'decay', 'disable_after', 'update_env']\n",
      "  warnings.warn(msg.format(keys=sorted(unused), name=self.name))\n",
      "/Users/kierancooney/.pyenv/versions/num_spt_venv_p11/lib/python3.11/site-packages/tenpy/tools/params.py:230: UserWarning: unused options for config TwoSiteDMRGEngine:\n",
      "['amplitude', 'decay', 'disable_after', 'update_env']\n",
      "  warnings.warn(msg.format(keys=sorted(unused), name=self.name))\n"
     ]
    }
   ],
   "source": [
    "outpsis = list()\n",
    "energies = list()\n",
    "\n",
    "for l1, l2 in zip(psis, models):\n",
    "    outpsis.append(list())\n",
    "    energies.append(list())\n",
    "\n",
    "        \n",
    "    for psi, m in zip(l1, l2):\n",
    "        try:\n",
    "            eng = dmrg.TwoSiteDMRGEngine(psi, m, dmrg_params)\n",
    "            e, psi_out = eng.run()\n",
    "        except:\n",
    "            e, psi_out = None, None\n",
    "\n",
    "        outpsis[-1].append(psi_out)\n",
    "        energies[-1].append(e)"
   ]
  },
  {
   "cell_type": "code",
   "execution_count": 83,
   "metadata": {},
   "outputs": [
    {
     "data": {
      "text/plain": [
       "[[-48.0000000000005,\n",
       "  -32.81197648970377,\n",
       "  -32.81197648970407,\n",
       "  -32.81197648970407],\n",
       " [-48.000000000000085,\n",
       "  -32.81137784106575,\n",
       "  -32.81102779003888,\n",
       "  -32.81120103606945]]"
      ]
     },
     "execution_count": 83,
     "metadata": {},
     "output_type": "execute_result"
    }
   ],
   "source": [
    "energies"
   ]
  },
  {
   "cell_type": "code",
   "execution_count": 84,
   "metadata": {},
   "outputs": [
    {
     "data": {
      "text/plain": [
       "100"
      ]
     },
     "execution_count": 84,
     "metadata": {},
     "output_type": "execute_result"
    }
   ],
   "source": [
    "len(outpsis[0][0].sites)"
   ]
  },
  {
   "cell_type": "code",
   "execution_count": 85,
   "metadata": {},
   "outputs": [
    {
     "data": {
      "text/plain": [
       "array([0.5, 0.5, 0.5, 0.5])"
      ]
     },
     "execution_count": 85,
     "metadata": {},
     "output_type": "execute_result"
    }
   ],
   "source": [
    "outpsis[0][0].get_SR(10)"
   ]
  },
  {
   "cell_type": "code",
   "execution_count": 86,
   "metadata": {},
   "outputs": [
    {
     "data": {
      "text/plain": [
       "array([0.5, 0.5, 0.5, 0.5])"
      ]
     },
     "execution_count": 86,
     "metadata": {},
     "output_type": "execute_result"
    }
   ],
   "source": [
    "outpsis[0][0].get_SR(9)"
   ]
  },
  {
   "cell_type": "code",
   "execution_count": 87,
   "metadata": {},
   "outputs": [
    {
     "data": {
      "text/plain": [
       "array([0.5, 0.5, 0.5, 0.5])"
      ]
     },
     "execution_count": 87,
     "metadata": {},
     "output_type": "execute_result"
    }
   ],
   "source": [
    "outpsis[0][0].get_SR(11)"
   ]
  },
  {
   "cell_type": "code",
   "execution_count": 88,
   "metadata": {},
   "outputs": [
    {
     "name": "stderr",
     "output_type": "stream",
     "text": [
      "/var/folders/r3/xn8xq5c17932m2g1b4r3dss80000gn/T/ipykernel_79511/3510999881.py:21: ComplexWarning: Casting complex values to real discards the imaginary part\n",
      "  boson_expectations[i,j,k] = data\n"
     ]
    }
   ],
   "source": [
    "boson_expectations = np.zeros((2, 2, 4, 50))\n",
    "\n",
    "indices = product(\n",
    "    enumerate(['X', 'Z']),\n",
    "    range(2),\n",
    "    range(4)\n",
    ")\n",
    "\n",
    "for (i, op), j, k in indices:\n",
    "    try:\n",
    "        psi = outpsis[j][k]\n",
    "        \n",
    "        data = (\n",
    "            psi\n",
    "            .expectation_value(\n",
    "                op,\n",
    "                list(range(0, 100, 2))\n",
    "            )\n",
    "        )\n",
    "\n",
    "        boson_expectations[i,j,k] = data\n",
    "\n",
    "    except:\n",
    "        boson_expectations[i,j,k] = np.nan"
   ]
  },
  {
   "cell_type": "code",
   "execution_count": 89,
   "metadata": {},
   "outputs": [
    {
     "data": {
      "text/plain": [
       "array([[[ 0.00000000e+00, -7.79567137e-15, -9.85322934e-16,\n",
       "         -1.41119755e-15, -5.18422111e-15, -2.42514342e-15,\n",
       "         -2.40953091e-15,  2.10248485e-15, -8.39606162e-16,\n",
       "         -8.63892291e-16,  6.50521303e-16,  1.45716772e-16,\n",
       "          6.31439345e-16, -4.37150316e-16,  6.01949046e-16,\n",
       "         -2.15626128e-15,  5.10008702e-16,  2.01227923e-15,\n",
       "         -6.89986263e-16,  1.56125113e-15, -1.28543010e-15,\n",
       "         -2.28983499e-15,  8.74300632e-16, -4.08006962e-15,\n",
       "          6.66133815e-16,  3.46944695e-18,  5.69683190e-15,\n",
       "          5.16947596e-16, -3.98986399e-15,  2.30718222e-16,\n",
       "          1.58900670e-15,  1.19695920e-15, -6.93889390e-18,\n",
       "         -8.84708973e-16,  1.87350135e-15,  5.55111512e-17,\n",
       "          2.57172755e-15, -2.41473508e-15, -1.18655086e-15,\n",
       "          1.28716482e-15, -2.77555756e-16, -6.24500451e-17,\n",
       "         -5.55111512e-16,  7.18175519e-16, -9.88792381e-16,\n",
       "         -1.08246745e-15, -9.43689571e-16, -5.20417043e-16,\n",
       "          3.03541030e-14,  0.00000000e+00],\n",
       "        [ 0.00000000e+00,  2.69606398e-01,  1.83015608e-01,\n",
       "          1.95286864e-01,  1.86996335e-01,  1.83723817e-01,\n",
       "          1.80560199e-01,  1.78311850e-01,  1.76581382e-01,\n",
       "          1.75271133e-01,  1.74266662e-01,  1.73493488e-01,\n",
       "          1.72894979e-01,  1.72429726e-01,  1.72066793e-01,\n",
       "          1.71782999e-01,  1.71560851e-01,  1.71387090e-01,\n",
       "          1.71251643e-01,  1.71146855e-01,  1.71066938e-01,\n",
       "          1.71007562e-01,  1.70965559e-01,  1.70938717e-01,\n",
       "          1.70925635e-01,  1.70925635e-01,  1.70938717e-01,\n",
       "          1.70965559e-01,  1.71007562e-01,  1.71066938e-01,\n",
       "          1.71146855e-01,  1.71251643e-01,  1.71387090e-01,\n",
       "          1.71560851e-01,  1.71782999e-01,  1.72066793e-01,\n",
       "          1.72429726e-01,  1.72894979e-01,  1.73493488e-01,\n",
       "          1.74266662e-01,  1.75271133e-01,  1.76581382e-01,\n",
       "          1.78311850e-01,  1.80560199e-01,  1.83723817e-01,\n",
       "          1.86996335e-01,  1.95286864e-01,  1.83015608e-01,\n",
       "          2.69606398e-01,  0.00000000e+00],\n",
       "        [ 0.00000000e+00,  1.20470222e-16, -2.80982051e-17,\n",
       "          9.31622301e-17,  5.70584086e-18, -1.14157038e-16,\n",
       "          5.02303354e-17,  1.00153911e-17, -4.21205608e-17,\n",
       "          2.30902857e-18,  2.07554504e-17, -6.61035805e-18,\n",
       "          4.84144485e-17,  2.64401883e-17, -4.65212359e-17,\n",
       "         -6.46302792e-18,  3.97990889e-17,  2.26197541e-17,\n",
       "         -6.21135924e-17,  2.04864492e-17, -1.06220253e-17,\n",
       "          1.43353049e-17, -3.17371698e-17,  2.44152943e-17,\n",
       "          3.79925565e-17, -2.70805823e-17,  7.96799511e-17,\n",
       "         -4.66452901e-17, -7.21965584e-17,  2.02015806e-19,\n",
       "          6.70674070e-17, -1.95300272e-17, -4.25728282e-17,\n",
       "         -3.47979204e-17,  5.29349163e-17,  3.08896299e-17,\n",
       "          5.31186071e-17, -6.34120156e-17, -3.33671028e-17,\n",
       "          3.47738023e-17,  8.57131715e-17,  5.14596522e-17,\n",
       "          3.65301646e-18,  4.13547402e-17,  1.49523341e-16,\n",
       "         -1.88795643e-17, -2.89650596e-17,  2.99529084e-20,\n",
       "          3.01734464e-17, -2.23760508e-15],\n",
       "        [ 0.00000000e+00,  2.69606398e-01,  1.83015608e-01,\n",
       "          1.95286864e-01,  1.86996335e-01,  1.83723817e-01,\n",
       "          1.80560199e-01,  1.78311850e-01,  1.76581382e-01,\n",
       "          1.75271133e-01,  1.74266662e-01,  1.73493488e-01,\n",
       "          1.72894979e-01,  1.72429726e-01,  1.72066793e-01,\n",
       "          1.71782999e-01,  1.71560851e-01,  1.71387090e-01,\n",
       "          1.71251643e-01,  1.71146855e-01,  1.71066938e-01,\n",
       "          1.71007562e-01,  1.70965559e-01,  1.70938717e-01,\n",
       "          1.70925635e-01,  1.70925635e-01,  1.70938717e-01,\n",
       "          1.70965559e-01,  1.71007562e-01,  1.71066938e-01,\n",
       "          1.71146855e-01,  1.71251643e-01,  1.71387090e-01,\n",
       "          1.71560851e-01,  1.71782999e-01,  1.72066793e-01,\n",
       "          1.72429726e-01,  1.72894979e-01,  1.73493488e-01,\n",
       "          1.74266662e-01,  1.75271133e-01,  1.76581382e-01,\n",
       "          1.78311850e-01,  1.80560199e-01,  1.83723817e-01,\n",
       "          1.86996335e-01,  1.95286864e-01,  1.83015608e-01,\n",
       "          2.69606398e-01,  1.83765463e-15]],\n",
       "\n",
       "       [[ 0.00000000e+00,  1.00000000e+00,  1.00000000e+00,\n",
       "          1.00000000e+00,  1.00000000e+00,  1.00000000e+00,\n",
       "          1.00000000e+00,  1.00000000e+00,  1.00000000e+00,\n",
       "          1.00000000e+00,  1.00000000e+00,  1.00000000e+00,\n",
       "          1.00000000e+00,  1.00000000e+00,  1.00000000e+00,\n",
       "          1.00000000e+00,  1.00000000e+00,  1.00000000e+00,\n",
       "          1.00000000e+00,  1.00000000e+00,  1.00000000e+00,\n",
       "          1.00000000e+00,  1.00000000e+00,  1.00000000e+00,\n",
       "          1.00000000e+00,  1.00000000e+00,  1.00000000e+00,\n",
       "          1.00000000e+00,  1.00000000e+00,  1.00000000e+00,\n",
       "          1.00000000e+00,  1.00000000e+00,  1.00000000e+00,\n",
       "          1.00000000e+00,  1.00000000e+00,  1.00000000e+00,\n",
       "          1.00000000e+00,  1.00000000e+00,  1.00000000e+00,\n",
       "          1.00000000e+00,  1.00000000e+00,  1.00000000e+00,\n",
       "          1.00000000e+00,  1.00000000e+00,  1.00000000e+00,\n",
       "          1.00000000e+00,  1.00000000e+00,  1.00000000e+00,\n",
       "          1.00000000e+00,  0.00000000e+00],\n",
       "        [ 0.00000000e+00,  5.00000000e-01,  5.00000000e-01,\n",
       "          5.00000000e-01,  5.00000000e-01,  5.00000000e-01,\n",
       "          5.00000000e-01,  5.00000000e-01,  5.00000000e-01,\n",
       "          5.00000000e-01,  5.00000000e-01,  5.00000000e-01,\n",
       "          5.00000000e-01,  5.00000000e-01,  5.00000000e-01,\n",
       "          5.00000000e-01,  5.00000000e-01,  5.00000000e-01,\n",
       "          5.00000000e-01,  5.00000000e-01,  5.00000000e-01,\n",
       "          5.00000000e-01,  5.00000000e-01,  5.00000000e-01,\n",
       "          5.00000000e-01,  5.00000000e-01,  5.00000000e-01,\n",
       "          5.00000000e-01,  5.00000000e-01,  5.00000000e-01,\n",
       "          5.00000000e-01,  5.00000000e-01,  5.00000000e-01,\n",
       "          5.00000000e-01,  5.00000000e-01,  5.00000000e-01,\n",
       "          5.00000000e-01,  5.00000000e-01,  5.00000000e-01,\n",
       "          5.00000000e-01,  5.00000000e-01,  5.00000000e-01,\n",
       "          5.00000000e-01,  5.00000000e-01,  5.00000000e-01,\n",
       "          5.00000000e-01,  5.00000000e-01,  5.00000000e-01,\n",
       "          5.00000000e-01,  0.00000000e+00],\n",
       "        [ 0.00000000e+00,  6.63897712e-15,  7.93181217e-16,\n",
       "         -1.27856143e-14, -3.25625062e-15,  9.66604737e-17,\n",
       "          1.96453398e-16,  4.87395707e-16,  3.36074269e-15,\n",
       "          1.08258864e-15,  9.08426965e-15,  9.84473774e-16,\n",
       "          4.51740826e-15,  3.18755330e-15,  1.73819824e-15,\n",
       "          1.19028781e-16,  1.04380800e-15,  4.22588344e-16,\n",
       "          8.22736389e-15, -5.81810034e-16, -4.39831074e-16,\n",
       "          1.08910403e-15,  3.98532965e-15,  1.48949531e-15,\n",
       "         -1.05833561e-15, -4.34181256e-16,  1.23356578e-16,\n",
       "         -5.52205759e-18, -6.95130919e-15, -5.27949925e-16,\n",
       "         -1.84308522e-15, -1.31972890e-15, -3.22077596e-16,\n",
       "         -1.72273000e-15,  4.55035744e-15,  1.45655625e-15,\n",
       "         -2.48091974e-16,  1.95232018e-16,  9.72164392e-15,\n",
       "          1.31910294e-15, -2.30405644e-15, -8.94198990e-16,\n",
       "          7.03199769e-15,  3.81355598e-15,  6.86967386e-18,\n",
       "         -1.04507691e-14, -4.11987687e-16,  1.04403449e-14,\n",
       "         -7.68696079e-15,  0.00000000e+00],\n",
       "        [ 0.00000000e+00,  5.00000000e-01,  5.00000000e-01,\n",
       "          5.00000000e-01,  5.00000000e-01,  5.00000000e-01,\n",
       "          5.00000000e-01,  5.00000000e-01,  5.00000000e-01,\n",
       "          5.00000000e-01,  5.00000000e-01,  5.00000000e-01,\n",
       "          5.00000000e-01,  5.00000000e-01,  5.00000000e-01,\n",
       "          5.00000000e-01,  5.00000000e-01,  5.00000000e-01,\n",
       "          5.00000000e-01,  5.00000000e-01,  5.00000000e-01,\n",
       "          5.00000000e-01,  5.00000000e-01,  5.00000000e-01,\n",
       "          5.00000000e-01,  5.00000000e-01,  5.00000000e-01,\n",
       "          5.00000000e-01,  5.00000000e-01,  5.00000000e-01,\n",
       "          5.00000000e-01,  5.00000000e-01,  5.00000000e-01,\n",
       "          5.00000000e-01,  5.00000000e-01,  5.00000000e-01,\n",
       "          5.00000000e-01,  5.00000000e-01,  5.00000000e-01,\n",
       "          5.00000000e-01,  5.00000000e-01,  5.00000000e-01,\n",
       "          5.00000000e-01,  5.00000000e-01,  5.00000000e-01,\n",
       "          5.00000000e-01,  5.00000000e-01,  5.00000000e-01,\n",
       "          5.00000000e-01,  0.00000000e+00]]])"
      ]
     },
     "execution_count": 89,
     "metadata": {},
     "output_type": "execute_result"
    }
   ],
   "source": [
    "boson_expectations[0]"
   ]
  },
  {
   "cell_type": "code",
   "execution_count": 90,
   "metadata": {},
   "outputs": [
    {
     "data": {
      "text/plain": [
       "array([[[ 1.00000000e+00, -9.21485110e-15, -2.15938378e-14,\n",
       "         -2.40224507e-14, -1.50157664e-14, -9.60342916e-15,\n",
       "          2.00256478e-14,  3.32234240e-14,  1.82631688e-14,\n",
       "         -1.74027459e-14,  1.10744747e-14, -7.75768338e-15,\n",
       "         -5.38458167e-14, -6.22418783e-15,  2.35922393e-14,\n",
       "         -2.37032616e-14,  6.68909372e-15, -7.83401122e-15,\n",
       "         -4.28129754e-14, -2.85882429e-14, -3.16968674e-14,\n",
       "         -2.16215934e-14, -1.14561138e-14, -2.34881559e-14,\n",
       "         -2.47024623e-15,  2.24473218e-14, -2.91433544e-15,\n",
       "         -6.06459327e-15,  1.51476054e-14,  1.38777878e-16,\n",
       "          4.65599781e-14, -6.58501031e-15, -1.79023463e-14,\n",
       "         -2.52853294e-14, -2.05668815e-14, -5.14518983e-15,\n",
       "         -1.88321581e-14,  2.85882429e-15, -2.75890422e-14,\n",
       "          7.27196081e-15,  1.70974346e-14,  2.03101425e-14,\n",
       "         -2.74780199e-15, -4.05231404e-15, -2.43832732e-14,\n",
       "         -1.29063427e-15,  1.27675648e-15, -1.68268177e-15,\n",
       "         -2.06779038e-14,  1.00000000e+00],\n",
       "        [ 1.00000000e+00,  2.42737034e-01,  2.69606398e-01,\n",
       "          2.30019803e-01,  2.09971691e-01,  1.88445041e-01,\n",
       "          1.70203294e-01,  1.53726080e-01,  1.39091266e-01,\n",
       "          1.26031225e-01,  1.14401159e-01,  1.04055787e-01,\n",
       "          9.48741573e-02,  8.67495286e-02,  7.95889506e-02,\n",
       "          7.33111678e-02,  6.78454300e-02,  6.31304296e-02,\n",
       "          5.91134669e-02,  5.57497599e-02,  5.30018805e-02,\n",
       "          5.08392957e-02,  4.92380001e-02,  4.81802315e-02,\n",
       "          4.76542622e-02,  4.76542622e-02,  4.81802315e-02,\n",
       "          4.92380001e-02,  5.08392957e-02,  5.30018805e-02,\n",
       "          5.57497599e-02,  5.91134669e-02,  6.31304296e-02,\n",
       "          6.78454300e-02,  7.33111678e-02,  7.95889506e-02,\n",
       "          8.67495286e-02,  9.48741573e-02,  1.04055787e-01,\n",
       "          1.14401159e-01,  1.26031225e-01,  1.39091266e-01,\n",
       "          1.53726080e-01,  1.70203294e-01,  1.88445041e-01,\n",
       "          2.09971691e-01,  2.30019803e-01,  2.69606398e-01,\n",
       "          2.42737034e-01,  1.00000000e+00],\n",
       "        [ 1.00000000e+00, -4.50520614e-15,  2.39472527e-14,\n",
       "         -1.81462332e-14, -2.37802249e-15,  1.59763517e-14,\n",
       "          3.16093508e-15, -6.00573195e-15, -4.90464077e-15,\n",
       "          5.04472507e-15, -7.20326371e-15, -1.63235412e-14,\n",
       "          6.17193514e-15, -3.12395487e-15, -1.14721158e-15,\n",
       "         -6.20940391e-15, -1.03729185e-15, -1.22331255e-14,\n",
       "          2.70534760e-16,  3.51015987e-16,  1.67076112e-15,\n",
       "         -5.36088046e-15, -4.10063416e-15, -1.22838787e-15,\n",
       "          2.60237481e-15,  2.29132658e-15, -2.44019801e-15,\n",
       "          8.28927977e-15, -3.12211577e-15,  7.80818635e-15,\n",
       "         -5.25722077e-15, -5.20877557e-16,  7.44010967e-16,\n",
       "          3.61599570e-15,  2.70448978e-15,  6.30903385e-15,\n",
       "          4.39609745e-15, -2.21799530e-15, -6.22336116e-15,\n",
       "         -1.21769743e-14,  7.40497998e-15,  2.11462602e-15,\n",
       "          9.48601354e-15,  1.98352158e-14,  1.29949622e-14,\n",
       "          1.65806159e-14, -1.52547374e-14,  6.82954847e-15,\n",
       "         -7.91175588e-16, -1.00000000e+00],\n",
       "        [ 1.00000000e+00,  2.42737034e-01,  2.69606398e-01,\n",
       "          2.30019803e-01,  2.09971691e-01,  1.88445041e-01,\n",
       "          1.70203294e-01,  1.53726080e-01,  1.39091266e-01,\n",
       "          1.26031225e-01,  1.14401159e-01,  1.04055787e-01,\n",
       "          9.48741573e-02,  8.67495286e-02,  7.95889506e-02,\n",
       "          7.33111678e-02,  6.78454300e-02,  6.31304296e-02,\n",
       "          5.91134669e-02,  5.57497599e-02,  5.30018805e-02,\n",
       "          5.08392957e-02,  4.92380001e-02,  4.81802315e-02,\n",
       "          4.76542622e-02,  4.76542622e-02,  4.81802315e-02,\n",
       "          4.92380001e-02,  5.08392957e-02,  5.30018805e-02,\n",
       "          5.57497599e-02,  5.91134669e-02,  6.31304296e-02,\n",
       "          6.78454300e-02,  7.33111678e-02,  7.95889506e-02,\n",
       "          8.67495286e-02,  9.48741573e-02,  1.04055787e-01,\n",
       "          1.14401159e-01,  1.26031225e-01,  1.39091266e-01,\n",
       "          1.53726080e-01,  1.70203294e-01,  1.88445041e-01,\n",
       "          2.09971691e-01,  2.30019803e-01,  2.69606398e-01,\n",
       "          2.42737034e-01, -1.83697020e-16]],\n",
       "\n",
       "       [[ 1.00000000e+00, -7.29012949e-15, -3.62639351e-15,\n",
       "          3.98164955e-16,  1.05011945e-14,  4.28394554e-15,\n",
       "         -5.51377265e-15,  3.45127827e-15,  1.43314639e-14,\n",
       "          1.37208413e-14,  3.95087863e-15,  3.95087863e-15,\n",
       "          5.67172432e-15,  6.44888044e-15,  3.95087863e-15,\n",
       "          3.95087863e-15,  4.78354590e-15,  4.11741209e-15,\n",
       "          4.50599015e-15,  1.06429877e-15,  1.53306646e-14,\n",
       "          1.31102186e-14,  4.06190094e-15, -3.84843811e-15,\n",
       "          1.29991963e-14,  1.29991963e-14,  5.89376893e-15,\n",
       "          1.37208413e-14,  3.22923367e-15,  1.38318636e-14,\n",
       "          3.22923367e-15,  6.06030238e-15,  1.06429877e-15,\n",
       "          6.06030238e-15,  1.17532107e-15,  1.37208413e-14,\n",
       "          3.22923367e-15,  1.31102186e-14, -6.56848452e-15,\n",
       "          1.23083222e-15,  6.55990274e-15,  4.11741209e-15,\n",
       "          1.47200420e-14, -6.84604028e-15,  1.53306646e-14,\n",
       "          1.45535085e-14,  3.39576712e-15,  1.54971981e-14,\n",
       "          4.06190094e-15,  1.00000000e+00],\n",
       "        [ 1.00000000e+00,  2.42858752e-01,  2.69792038e-01,\n",
       "          2.30296047e-01,  2.10326060e-01,  1.88877561e-01,\n",
       "          1.70693366e-01,  1.54258275e-01,  1.39650565e-01,\n",
       "          1.26536647e-01,  1.14969258e-01,  1.04599311e-01,\n",
       "          9.54096096e-02,  8.71891317e-02,  8.00931220e-02,\n",
       "          7.37943085e-02,  6.83163801e-02,  6.35973411e-02,\n",
       "          5.95638648e-02,  5.61966190e-02,  5.34390520e-02,\n",
       "          5.12708907e-02,  4.96692116e-02,  4.86058082e-02,\n",
       "          4.80853179e-02,  4.80847341e-02,  4.86128140e-02,\n",
       "          4.96800400e-02,  5.12837509e-02,  5.34604198e-02,\n",
       "          5.62156791e-02,  5.95907706e-02,  6.36207604e-02,\n",
       "          6.83716974e-02,  7.38402867e-02,  8.01434326e-02,\n",
       "          8.72985202e-02,  9.54203774e-02,  1.04602415e-01,\n",
       "          1.14919805e-01,  1.26521066e-01,  1.39538063e-01,\n",
       "          1.54128237e-01,  1.70558466e-01,  1.88746488e-01,\n",
       "          2.10220462e-01,  2.30226589e-01,  2.69749762e-01,\n",
       "          2.42847209e-01,  1.00000000e+00],\n",
       "        [ 1.00000000e+00,  1.17847371e-16, -6.75515771e-16,\n",
       "         -1.37906764e-14,  1.35504755e-14, -2.74891434e-15,\n",
       "          1.36762085e-15, -2.01276610e-14,  4.48049257e-15,\n",
       "         -6.33483720e-16, -1.68606220e-15, -2.45248139e-15,\n",
       "         -9.20074102e-15, -1.94538297e-15,  4.55685892e-16,\n",
       "         -4.51453542e-15, -5.53684312e-15, -1.25167275e-14,\n",
       "          1.04289679e-14,  2.44931647e-15,  7.76707655e-15,\n",
       "          8.22527402e-16,  3.62133946e-15, -9.90861429e-15,\n",
       "         -7.02847803e-15, -5.21561068e-15,  2.95929721e-16,\n",
       "         -2.80177544e-16, -5.63408939e-15,  5.91236298e-15,\n",
       "         -3.24561601e-15, -5.75766314e-15, -6.90161233e-15,\n",
       "         -2.64198322e-17, -3.67756434e-15, -4.74777374e-15,\n",
       "          1.15451706e-14, -3.46644641e-15,  1.92966136e-15,\n",
       "         -7.31895745e-16,  1.06353011e-14,  3.66533493e-16,\n",
       "          3.47821103e-14, -3.86028885e-15,  4.31084089e-15,\n",
       "         -1.15237890e-14, -4.22049683e-14, -1.39017514e-14,\n",
       "          1.46393339e-15,  1.00000000e+00],\n",
       "        [ 1.00000000e+00,  2.42913860e-01,  2.69868073e-01,\n",
       "          2.30328192e-01,  2.10292336e-01,  1.88790708e-01,\n",
       "          1.70505065e-01,  1.54076367e-01,  1.39428310e-01,\n",
       "          1.26378986e-01,  1.14746656e-01,  1.04417071e-01,\n",
       "          9.52373804e-02,  8.71338427e-02,  7.99868960e-02,\n",
       "          7.37327835e-02,  6.82872095e-02,  6.35941895e-02,\n",
       "          5.95941496e-02,  5.62514219e-02,  5.35163976e-02,\n",
       "          5.13625424e-02,  4.97764804e-02,  4.86420295e-02,\n",
       "          4.82256272e-02,  4.82342813e-02,  4.87842177e-02,\n",
       "          4.97723486e-02,  5.14833291e-02,  5.36635383e-02,\n",
       "          5.64306466e-02,  5.98095909e-02,  6.38322485e-02,\n",
       "          6.85503166e-02,  7.40125624e-02,  8.03028084e-02,\n",
       "          8.73821984e-02,  9.55928037e-02,  1.04775092e-01,\n",
       "          1.15116134e-01,  1.26738799e-01,  1.39785125e-01,\n",
       "          1.54337555e-01,  1.70826255e-01,  1.89021381e-01,\n",
       "          2.10482691e-01,  2.30455831e-01,  2.69916769e-01,\n",
       "          2.42958527e-01,  1.00000000e+00]]])"
      ]
     },
     "execution_count": 90,
     "metadata": {},
     "output_type": "execute_result"
    }
   ],
   "source": [
    "boson_expectations[1]"
   ]
  },
  {
   "cell_type": "code",
   "execution_count": 91,
   "metadata": {},
   "outputs": [],
   "source": [
    "fermion_number_expectations = np.zeros((2, 4, 50))\n",
    "\n",
    "indices = product(\n",
    "    range(2),\n",
    "    range(4)\n",
    ")\n",
    "\n",
    "for j, k in indices:\n",
    "    try:\n",
    "        psi = outpsis[j][k]\n",
    "        \n",
    "        data = (\n",
    "            psi\n",
    "            .expectation_value(\n",
    "                'N',\n",
    "                list(range(1, 100, 2))\n",
    "            )\n",
    "        )\n",
    "\n",
    "        fermion_number_expectations[j,k] = data\n",
    "\n",
    "    except:\n",
    "        fermion_number_expectations[j,k] = np.nan"
   ]
  },
  {
   "cell_type": "code",
   "execution_count": 92,
   "metadata": {},
   "outputs": [
    {
     "data": {
      "text/plain": [
       "array([[[1.00000000e+00, 1.00000000e+00, 1.00000000e+00, 2.27256093e-29,\n",
       "         3.36704143e-31, 5.30820785e-32, 6.21023021e-32, 1.00000000e+00,\n",
       "         1.00000000e+00, 2.67174290e-28, 1.00000000e+00, 1.00000000e+00,\n",
       "         1.00000000e+00, 4.73666330e-31, 1.88013136e-31, 2.67383690e-29,\n",
       "         1.00000000e+00, 1.00000000e+00, 3.66745346e-32, 8.79119808e-32,\n",
       "         8.07381653e-32, 7.10372603e-32, 1.00000000e+00, 1.00000000e+00,\n",
       "         2.09629089e-32, 1.57050773e-31, 1.55143935e-31, 1.28249743e-31,\n",
       "         1.00000000e+00, 1.00000000e+00, 2.02159253e-31, 1.00000000e+00,\n",
       "         7.46080879e-32, 1.86407726e-27, 1.00000000e+00, 3.40935908e-32,\n",
       "         1.00000000e+00, 1.00000000e+00, 2.74415578e-32, 2.31492548e-32,\n",
       "         1.00000000e+00, 8.05597885e-32, 1.19821484e-31, 7.85590297e-32,\n",
       "         1.00000000e+00, 3.16869088e-31, 1.00000000e+00, 4.09195291e-32,\n",
       "         1.00000000e+00, 0.00000000e+00],\n",
       "        [7.42737034e-01, 7.17357746e-01, 7.29685479e-01, 7.23643618e-01,\n",
       "         7.20800809e-01, 7.18102529e-01, 7.16159186e-01, 7.14671138e-01,\n",
       "         7.13547061e-01, 7.12688379e-01, 7.12029408e-01, 7.11520697e-01,\n",
       "         7.11126156e-01, 7.10818947e-01, 7.10579030e-01, 7.10391329e-01,\n",
       "         7.10244443e-01, 7.10129720e-01, 7.10040586e-01, 7.09972054e-01,\n",
       "         7.09920370e-01, 7.09882754e-01, 7.09857209e-01, 7.09842396e-01,\n",
       "         7.09837542e-01, 7.09842396e-01, 7.09857209e-01, 7.09882754e-01,\n",
       "         7.09920370e-01, 7.09972054e-01, 7.10040586e-01, 7.10129720e-01,\n",
       "         7.10244443e-01, 7.10391329e-01, 7.10579030e-01, 7.10818947e-01,\n",
       "         7.11126156e-01, 7.11520697e-01, 7.12029408e-01, 7.12688379e-01,\n",
       "         7.13547061e-01, 7.14671138e-01, 7.16159186e-01, 7.18102529e-01,\n",
       "         7.20800809e-01, 7.23643618e-01, 7.29685479e-01, 7.17357746e-01,\n",
       "         7.42737034e-01, 0.00000000e+00],\n",
       "        [7.42737034e-01, 7.17357746e-01, 7.29685479e-01, 7.23643618e-01,\n",
       "         7.20800809e-01, 7.18102529e-01, 7.16159186e-01, 7.14671138e-01,\n",
       "         7.13547061e-01, 7.12688379e-01, 7.12029408e-01, 7.11520697e-01,\n",
       "         7.11126156e-01, 7.10818947e-01, 7.10579030e-01, 7.10391329e-01,\n",
       "         7.10244443e-01, 7.10129720e-01, 7.10040586e-01, 7.09972054e-01,\n",
       "         7.09920370e-01, 7.09882754e-01, 7.09857209e-01, 7.09842396e-01,\n",
       "         7.09837542e-01, 7.09842396e-01, 7.09857209e-01, 7.09882754e-01,\n",
       "         7.09920370e-01, 7.09972054e-01, 7.10040586e-01, 7.10129720e-01,\n",
       "         7.10244443e-01, 7.10391329e-01, 7.10579030e-01, 7.10818947e-01,\n",
       "         7.11126156e-01, 7.11520697e-01, 7.12029408e-01, 7.12688379e-01,\n",
       "         7.13547061e-01, 7.14671138e-01, 7.16159186e-01, 7.18102529e-01,\n",
       "         7.20800809e-01, 7.23643618e-01, 7.29685479e-01, 7.17357746e-01,\n",
       "         7.42737034e-01, 0.00000000e+00],\n",
       "        [7.42737034e-01, 7.17357746e-01, 7.29685479e-01, 7.23643618e-01,\n",
       "         7.20800809e-01, 7.18102529e-01, 7.16159186e-01, 7.14671138e-01,\n",
       "         7.13547061e-01, 7.12688379e-01, 7.12029408e-01, 7.11520697e-01,\n",
       "         7.11126156e-01, 7.10818947e-01, 7.10579030e-01, 7.10391329e-01,\n",
       "         7.10244443e-01, 7.10129720e-01, 7.10040586e-01, 7.09972054e-01,\n",
       "         7.09920370e-01, 7.09882754e-01, 7.09857209e-01, 7.09842396e-01,\n",
       "         7.09837542e-01, 7.09842396e-01, 7.09857209e-01, 7.09882754e-01,\n",
       "         7.09920370e-01, 7.09972054e-01, 7.10040586e-01, 7.10129720e-01,\n",
       "         7.10244443e-01, 7.10391329e-01, 7.10579030e-01, 7.10818947e-01,\n",
       "         7.11126156e-01, 7.11520697e-01, 7.12029408e-01, 7.12688379e-01,\n",
       "         7.13547061e-01, 7.14671138e-01, 7.16159186e-01, 7.18102529e-01,\n",
       "         7.20800809e-01, 7.23643618e-01, 7.29685479e-01, 7.17357746e-01,\n",
       "         7.42737034e-01, 0.00000000e+00]],\n",
       "\n",
       "       [[0.00000000e+00, 1.32808208e-01, 8.63809015e-01, 3.61338662e-01,\n",
       "         4.04836168e-02, 2.48212341e-01, 2.78104284e-29, 7.44480944e-01,\n",
       "         2.86133242e-02, 2.86133242e-02, 7.64487342e-01, 0.00000000e+00,\n",
       "         1.00000000e+00, 9.39956889e-01, 0.00000000e+00, 7.43161615e-02,\n",
       "         1.00000000e+00, 1.35303377e-01, 3.00735770e-02, 0.00000000e+00,\n",
       "         8.93749943e-01, 2.55722579e-01, 8.73128221e-01, 2.61644864e-02,\n",
       "         1.90602232e-02, 1.90602232e-02, 8.82439181e-01, 0.00000000e+00,\n",
       "         0.00000000e+00, 5.00000000e-01, 0.00000000e+00, 6.90070756e-01,\n",
       "         7.42659479e-01, 1.00000000e+00, 0.00000000e+00, 0.00000000e+00,\n",
       "         0.00000000e+00, 2.55722579e-01, 7.48193704e-01, 7.65650924e-01,\n",
       "         2.47783831e-01, 2.49490642e-01, 6.90176384e-02, 1.34413901e-01,\n",
       "         1.00000000e+00, 2.55722579e-01, 8.90954401e-01, 8.64163832e-01,\n",
       "         8.73128221e-01, 0.00000000e+00],\n",
       "        [7.42858752e-01, 7.17418134e-01, 7.29766779e-01, 7.23705459e-01,\n",
       "         7.20831804e-01, 7.18083934e-01, 7.16083948e-01, 7.14633476e-01,\n",
       "         7.13502531e-01, 7.12604698e-01, 7.11880654e-01, 7.11389756e-01,\n",
       "         7.11046435e-01, 7.10763857e-01, 7.10517882e-01, 7.10249077e-01,\n",
       "         7.10136022e-01, 7.10059603e-01, 7.10003471e-01, 7.09952432e-01,\n",
       "         7.09935358e-01, 7.09889088e-01, 7.09872140e-01, 7.09869401e-01,\n",
       "         7.09839121e-01, 7.09845947e-01, 7.09837162e-01, 7.09836073e-01,\n",
       "         7.09837456e-01, 7.09833441e-01, 7.09869686e-01, 7.09904236e-01,\n",
       "         7.10190737e-01, 7.10378796e-01, 7.10563396e-01, 7.10755043e-01,\n",
       "         7.10897535e-01, 7.11341035e-01, 7.11909603e-01, 7.12631605e-01,\n",
       "         7.13523226e-01, 7.14683249e-01, 7.16189606e-01, 7.18138857e-01,\n",
       "         7.20860688e-01, 7.23711121e-01, 7.29759551e-01, 7.17384626e-01,\n",
       "         7.42847209e-01, 0.00000000e+00],\n",
       "        [7.42944555e-01, 7.17437360e-01, 7.29767919e-01, 7.23653283e-01,\n",
       "         7.20804667e-01, 7.18095601e-01, 7.16096545e-01, 7.14646720e-01,\n",
       "         7.13495237e-01, 7.12639409e-01, 7.11945247e-01, 7.11346751e-01,\n",
       "         7.10944777e-01, 7.10630930e-01, 7.10388978e-01, 7.10333107e-01,\n",
       "         7.10227459e-01, 7.10123243e-01, 7.10015016e-01, 7.09838195e-01,\n",
       "         7.09810453e-01, 7.09803091e-01, 7.09822079e-01, 7.09810126e-01,\n",
       "         7.09821520e-01, 7.09829685e-01, 7.09828201e-01, 7.09827647e-01,\n",
       "         7.09830046e-01, 7.09834591e-01, 7.09867705e-01, 7.10042115e-01,\n",
       "         7.10132802e-01, 7.10258764e-01, 7.10376229e-01, 7.10587385e-01,\n",
       "         7.10932363e-01, 7.11340387e-01, 7.11829850e-01, 7.12484765e-01,\n",
       "         7.13420174e-01, 7.14580241e-01, 7.16115357e-01, 7.18056579e-01,\n",
       "         7.20842049e-01, 7.23710421e-01, 7.29800478e-01, 7.17447206e-01,\n",
       "         7.43054882e-01, 0.00000000e+00],\n",
       "        [7.42913860e-01, 7.17382502e-01, 7.29697710e-01, 7.23630252e-01,\n",
       "         7.20811272e-01, 7.18134895e-01, 7.16166380e-01, 7.14674828e-01,\n",
       "         7.13504952e-01, 7.12677488e-01, 7.12039271e-01, 7.11551406e-01,\n",
       "         7.11168510e-01, 7.10861904e-01, 7.10629332e-01, 7.10425388e-01,\n",
       "         7.10258714e-01, 7.10119783e-01, 7.09976165e-01, 7.09856595e-01,\n",
       "         7.09769087e-01, 7.09808068e-01, 7.09754750e-01, 7.09705814e-01,\n",
       "         7.09645537e-01, 7.09634648e-01, 7.09682293e-01, 7.09738051e-01,\n",
       "         7.09765032e-01, 7.09712559e-01, 7.09810218e-01, 7.09901465e-01,\n",
       "         7.10044280e-01, 7.10196940e-01, 7.10506222e-01, 7.10782096e-01,\n",
       "         7.11092915e-01, 7.11448524e-01, 7.11845241e-01, 7.12521600e-01,\n",
       "         7.13477102e-01, 7.14666581e-01, 7.16177075e-01, 7.18100027e-01,\n",
       "         7.20790551e-01, 7.23691890e-01, 7.29789866e-01, 7.17422729e-01,\n",
       "         7.42958527e-01, 0.00000000e+00]]])"
      ]
     },
     "execution_count": 92,
     "metadata": {},
     "output_type": "execute_result"
    }
   ],
   "source": [
    "fermion_number_expectations"
   ]
  },
  {
   "cell_type": "code",
   "execution_count": 93,
   "metadata": {},
   "outputs": [
    {
     "name": "stderr",
     "output_type": "stream",
     "text": [
      "/var/folders/r3/xn8xq5c17932m2g1b4r3dss80000gn/T/ipykernel_79511/290460682.py:23: ComplexWarning: Casting complex values to real discards the imaginary part\n",
      "  boson_correlations[i,j,k] = data\n"
     ]
    }
   ],
   "source": [
    "boson_correlations = np.zeros((2, 2, 4, 50, 50))\n",
    "\n",
    "indices = product(\n",
    "    enumerate(['X', 'Z']),\n",
    "    range(2),\n",
    "    range(4)\n",
    ")\n",
    "\n",
    "for (i, op), j, k in indices:\n",
    "    try:\n",
    "        psi = outpsis[j][k]\n",
    "        \n",
    "        data = (\n",
    "            psi\n",
    "            .correlation_function(\n",
    "                op,\n",
    "                op,\n",
    "                list(range(0, 100, 2)),\n",
    "                list(range(0, 100, 2)),\n",
    "            )\n",
    "        )\n",
    "    \n",
    "        boson_correlations[i,j,k] = data\n",
    "\n",
    "    except:\n",
    "        boson_correlations[i,j,k] = np.nan"
   ]
  },
  {
   "cell_type": "code",
   "execution_count": 94,
   "metadata": {},
   "outputs": [
    {
     "data": {
      "text/plain": [
       "array([[[ 1.20751113e-28,  7.26908302e-02,  3.63500168e-33,\n",
       "          7.26908302e-02],\n",
       "        [ 1.00000000e+00,  2.50000000e-01, -5.10342414e-29,\n",
       "          2.50000000e-01]],\n",
       "\n",
       "       [[ 3.68792473e-29,  2.93898779e-15,  4.14791678e-31,\n",
       "         -1.66605902e-15],\n",
       "        [-2.01883663e-28,  1.67571169e-15,  5.01851505e-30,\n",
       "         -3.66658800e-15]]])"
      ]
     },
     "execution_count": 94,
     "metadata": {},
     "output_type": "execute_result"
    }
   ],
   "source": [
    "boson_correlations[..., 1, -2]"
   ]
  },
  {
   "cell_type": "code",
   "execution_count": 95,
   "metadata": {},
   "outputs": [],
   "source": [
    "fermion_correlations = np.zeros((2, 4, 50, 50))\n",
    "\n",
    "indices = product(\n",
    "    range(2),\n",
    "    range(4)\n",
    ")\n",
    "\n",
    "for j, k in indices:\n",
    "    try:\n",
    "        psi = outpsis[j][k]\n",
    "        \n",
    "        data = (\n",
    "            psi\n",
    "            .correlation_function(\n",
    "                'N',\n",
    "                'N',\n",
    "                list(range(1, 101, 2)),\n",
    "                list(range(1, 101, 2)),\n",
    "            )\n",
    "        )\n",
    "    \n",
    "        fermion_correlations[j,k] = data\n",
    "\n",
    "    except:\n",
    "        fermion_correlations[j,k] = np.nan"
   ]
  },
  {
   "cell_type": "code",
   "execution_count": 96,
   "metadata": {},
   "outputs": [
    {
     "data": {
      "text/plain": [
       "array([[1.        , 0.53280886, 0.53280886, 0.53280886],\n",
       "       [0.11595859, 0.53293279, 0.53309587, 0.53298606]])"
      ]
     },
     "execution_count": 96,
     "metadata": {},
     "output_type": "execute_result"
    }
   ],
   "source": [
    "fermion_correlations[..., 1, -2]"
   ]
  },
  {
   "cell_type": "code",
   "execution_count": 97,
   "metadata": {},
   "outputs": [],
   "source": [
    "reduced_boson_correlations = (\n",
    "    boson_correlations -\n",
    "    boson_expectations[...,np.newaxis]*boson_expectations[...,np.newaxis,:]\n",
    ")"
   ]
  },
  {
   "cell_type": "code",
   "execution_count": 98,
   "metadata": {},
   "outputs": [
    {
     "data": {
      "text/plain": [
       "(2, 2, 4, 50, 50)"
      ]
     },
     "execution_count": 98,
     "metadata": {},
     "output_type": "execute_result"
    }
   ],
   "source": [
    "reduced_boson_correlations.shape"
   ]
  },
  {
   "cell_type": "code",
   "execution_count": 99,
   "metadata": {},
   "outputs": [
    {
     "data": {
      "text/plain": [
       "array([[[ 1.82719474e-29,  2.26480709e-02, -3.97821174e-29,\n",
       "          2.26480709e-02],\n",
       "        [ 0.00000000e+00, -1.11022302e-16, -6.09617871e-28,\n",
       "          1.11022302e-16]],\n",
       "\n",
       "       [[-5.93590187e-17, -2.29599338e-03,  1.33477864e-18,\n",
       "         -2.29599338e-03],\n",
       "        [ 5.62799112e-29, -2.33753424e-03, -9.01436657e-30,\n",
       "         -2.35307168e-03]]])"
      ]
     },
     "execution_count": 99,
     "metadata": {},
     "output_type": "execute_result"
    }
   ],
   "source": [
    "reduced_boson_correlations[..., 25, 26]"
   ]
  },
  {
   "cell_type": "code",
   "execution_count": 100,
   "metadata": {},
   "outputs": [],
   "source": [
    "reduced_fermion_correlations = (\n",
    "    fermion_correlations -\n",
    "    fermion_number_expectations[...,np.newaxis]*fermion_number_expectations[...,np.newaxis,:]\n",
    ")"
   ]
  },
  {
   "cell_type": "code",
   "execution_count": 101,
   "metadata": {},
   "outputs": [
    {
     "data": {
      "text/plain": [
       "array([[-3.46007299e-63,  4.14324189e-02,  4.14324189e-02,\n",
       "         4.14324189e-02],\n",
       "       [-3.46944695e-18,  4.13937360e-02,  4.14197007e-02,\n",
       "         4.12223635e-02]])"
      ]
     },
     "execution_count": 101,
     "metadata": {},
     "output_type": "execute_result"
    }
   ],
   "source": [
    "reduced_fermion_correlations[..., 25, 26]"
   ]
  }
 ],
 "metadata": {
  "kernelspec": {
   "display_name": "num_spt_venv_p11",
   "language": "python",
   "name": "num_spt_venv_p11"
  },
  "language_info": {
   "codemirror_mode": {
    "name": "ipython",
    "version": 3
   },
   "file_extension": ".py",
   "mimetype": "text/x-python",
   "name": "python",
   "nbconvert_exporter": "python",
   "pygments_lexer": "ipython3",
   "version": "3.11.9"
  }
 },
 "nbformat": 4,
 "nbformat_minor": 4
}
