{
 "cells": [
  {
   "cell_type": "markdown",
   "id": "a5b8ba5f-65b4-4919-9803-07d603edf076",
   "metadata": {},
   "source": [
    "# Simple Boundary Operators Fermion Parity Check\n",
    "\n",
    "Created 07/03/2025\n",
    "\n",
    "Objectives:\n",
    "* Pick a simple SPT case, investigate numerically found boundary operators, and compute fermion parity. Compare with exact results if needed."
   ]
  },
  {
   "cell_type": "markdown",
   "id": "22dd2e7d-ee6f-4503-90bd-fbac58b4ae42",
   "metadata": {},
   "source": [
    "# Package imports"
   ]
  },
  {
   "cell_type": "code",
   "execution_count": 1,
   "id": "07561496-326a-425c-b64a-ca005bcfb6b0",
   "metadata": {},
   "outputs": [],
   "source": [
    "import sys\n",
    "sys.path.append('../')"
   ]
  },
  {
   "cell_type": "code",
   "execution_count": 2,
   "id": "1fc036da-4b7d-4909-9e1c-9379ddc41896",
   "metadata": {},
   "outputs": [],
   "source": [
    "import h5py\n",
    "from tenpy.tools import hdf5_io\n",
    "import tenpy\n",
    "import tenpy.linalg.np_conserved as npc\n",
    "\n",
    "import os"
   ]
  },
  {
   "cell_type": "code",
   "execution_count": 89,
   "id": "224e3e68-afae-43a6-8892-ae7fd933ff0e",
   "metadata": {},
   "outputs": [],
   "source": [
    "from functools import reduce\n",
    "from operator import mul\n",
    "\n",
    "from collections import defaultdict"
   ]
  },
  {
   "cell_type": "code",
   "execution_count": 4,
   "id": "7a272567-835d-4863-9dd6-1ade7362f7e1",
   "metadata": {},
   "outputs": [],
   "source": [
    "import numpy as np\n",
    "import matplotlib.pyplot as plt\n",
    "import pandas as pd"
   ]
  },
  {
   "cell_type": "code",
   "execution_count": 5,
   "id": "ed76ec31-b9c7-4a21-ac90-475b0f540fa2",
   "metadata": {},
   "outputs": [],
   "source": [
    "from SPTOptimization.SymmetryActionWithBoundaryUnitaries import SymmetryActionWithBoundaryUnitaries\n",
    "\n",
    "from SPTOptimization.Optimizers.OneSiteSolver import OneSiteSolver\n",
    "\n",
    "from SPTOptimization.utils import (\n",
    "    to_npc_array,\n",
    "    get_right_identity_environment,\n",
    "    get_right_identity_environment_from_tp_tensor,\n",
    "    multiply_transfer_matrices\n",
    ")\n",
    "\n",
    "from SPTOptimization.Optimizers.utils import (\n",
    "    one_site_optimization_sweep_right\n",
    ")\n",
    "\n",
    "from SPTOptimization.gradients import (\n",
    "    expectation_gradient_from_environments_and_b_tensor\n",
    ")"
   ]
  },
  {
   "cell_type": "code",
   "execution_count": 6,
   "id": "ff5278e1-faa3-4f9e-aa1a-2d0655fb8806",
   "metadata": {},
   "outputs": [],
   "source": [
    "import re"
   ]
  },
  {
   "cell_type": "markdown",
   "id": "405dcda7-7dba-4389-b8e5-770c7a0a87f5",
   "metadata": {},
   "source": [
    "# Load data"
   ]
  },
  {
   "cell_type": "code",
   "execution_count": 7,
   "id": "210d7dcc-b7ae-4f06-8429-84177bec47d3",
   "metadata": {},
   "outputs": [],
   "source": [
    "DATA_DIR = r\"../data/simple_fermionic_cluster_200_site_dmrg/\""
   ]
  },
  {
   "cell_type": "code",
   "execution_count": 8,
   "id": "ae809e74-d444-4db4-88ff-7538f6110d08",
   "metadata": {},
   "outputs": [],
   "source": [
    "def parse_file_name(file_name):\n",
    "    non_trivial_proj_rep = bool(int(file_name[3]))\n",
    "\n",
    "    n1_01 = int(file_name[8])\n",
    "    n1_10 = int(file_name[9])\n",
    "\n",
    "    return (non_trivial_proj_rep, (n1_01, n1_10))"
   ]
  },
  {
   "cell_type": "code",
   "execution_count": 9,
   "id": "e09f07cf-8441-4c7e-90b8-dbc8c61311f2",
   "metadata": {},
   "outputs": [],
   "source": [
    "loaded_data = dict()\n",
    "\n",
    "for local_file_name in os.listdir(DATA_DIR):\n",
    "    f_name = r\"{}/{}\".format(DATA_DIR, local_file_name, ignore_unknown=False)\n",
    "    with h5py.File(f_name, 'r') as f:\n",
    "        data = hdf5_io.load_from_hdf5(f)\n",
    "\n",
    "        data_info = parse_file_name(local_file_name)\n",
    "        loaded_data[data_info]=data['wavefunction']"
   ]
  },
  {
   "cell_type": "code",
   "execution_count": 10,
   "id": "991ad694-d6ed-4b68-9d35-7a4afb4c225b",
   "metadata": {},
   "outputs": [
    {
     "data": {
      "text/plain": [
       "{(False, (1, 1)): <tenpy.networks.mps.MPS at 0x137ae6b90>,\n",
       " (True, (1, 1)): <tenpy.networks.mps.MPS at 0x17c092d10>,\n",
       " (True, (0, 1)): <tenpy.networks.mps.MPS at 0x17c0f3710>,\n",
       " (False, (0, 1)): <tenpy.networks.mps.MPS at 0x17d37d110>,\n",
       " (False, (1, 0)): <tenpy.networks.mps.MPS at 0x17c0666d0>,\n",
       " (True, (1, 0)): <tenpy.networks.mps.MPS at 0x17d3a6f50>,\n",
       " (True, (0, 0)): <tenpy.networks.mps.MPS at 0x17aed8d90>,\n",
       " (False, (0, 0)): <tenpy.networks.mps.MPS at 0x17d62d590>}"
      ]
     },
     "execution_count": 10,
     "metadata": {},
     "output_type": "execute_result"
    }
   ],
   "source": [
    "loaded_data"
   ]
  },
  {
   "cell_type": "markdown",
   "id": "4b548e40-3cea-43ab-8849-60c76ae5b9d6",
   "metadata": {},
   "source": [
    "# Definitons"
   ]
  },
  {
   "cell_type": "code",
   "execution_count": 11,
   "id": "63506364-f535-4c0f-8c5f-8839c69f7b9d",
   "metadata": {},
   "outputs": [],
   "source": [
    "MAX_VIRTUAL_BOND_DIM = 8\n",
    "MAX_INTERMEDIATE_VIRTUAL_BOND_DIM = 2*MAX_VIRTUAL_BOND_DIM\n",
    "# MPO bond dim?\n",
    "MAX_MPO_BOND_DIM = 50\n",
    "\n",
    "SVD_CUTOFF = 1e-3"
   ]
  },
  {
   "cell_type": "markdown",
   "id": "e2beddfb-2b25-42ba-993d-185c38743739",
   "metadata": {},
   "source": [
    "Define bosonic symmetries. Label by the group element added."
   ]
  },
  {
   "cell_type": "code",
   "execution_count": 12,
   "id": "513d7288-c641-4071-a4a3-652787d1f98c",
   "metadata": {},
   "outputs": [],
   "source": [
    "np_00 = np.array([\n",
    "    [1, 0, 0, 0],\n",
    "    [0, 1, 0, 0],\n",
    "    [0, 0, 1, 0],\n",
    "    [0, 0, 0, 1]\n",
    "])\n",
    "\n",
    "np_01 = np.array([\n",
    "    [0, 1, 0, 0],\n",
    "    [1, 0, 0, 0],\n",
    "    [0, 0, 0, 1],\n",
    "    [0, 0, 1, 0]\n",
    "])\n",
    "\n",
    "np_10 = np.array([\n",
    "    [0, 0, 1, 0],\n",
    "    [0, 0, 0, 1],\n",
    "    [1, 0, 0, 0],\n",
    "    [0, 1, 0, 0]\n",
    "])\n",
    "\n",
    "np_11 = np.array([\n",
    "    [0, 0, 0, 1],\n",
    "    [0, 0, 1, 0],\n",
    "    [0, 1, 0, 0],\n",
    "    [1, 0, 0, 0]\n",
    "])"
   ]
  },
  {
   "cell_type": "code",
   "execution_count": 13,
   "id": "c83907c6-e86f-48af-a2a1-11b250f47e84",
   "metadata": {},
   "outputs": [],
   "source": [
    "bosonic_np_symmetries = [\n",
    "    np_00,\n",
    "    np_01,\n",
    "    np_10,\n",
    "    np_11\n",
    "]"
   ]
  },
  {
   "cell_type": "code",
   "execution_count": 14,
   "id": "2a78a62e-37eb-4baf-98ba-d6a94d599bec",
   "metadata": {},
   "outputs": [],
   "source": [
    "npc_00 = to_npc_array(np_00)\n",
    "npc_01 = to_npc_array(np_01)\n",
    "npc_10 = to_npc_array(np_10)\n",
    "npc_11 = to_npc_array(np_11)"
   ]
  },
  {
   "cell_type": "markdown",
   "id": "c7d41bf3-59f3-45a7-8b92-1b32d06fb6f9",
   "metadata": {},
   "source": [
    "Define \"fermionic symmetries\". Just identity and JW string."
   ]
  },
  {
   "cell_type": "code",
   "execution_count": 15,
   "id": "a1c64bf0-4b2e-4492-b242-3dae6eb527c3",
   "metadata": {},
   "outputs": [],
   "source": [
    "np_I = np.array([\n",
    "    [1, 0],\n",
    "    [0, 1]\n",
    "])\n",
    "\n",
    "np_JW = np.array([\n",
    "    [1, 0],\n",
    "    [0, -1]\n",
    "])"
   ]
  },
  {
   "cell_type": "code",
   "execution_count": 16,
   "id": "e595ca13-740a-41a3-a658-8831c8f54323",
   "metadata": {},
   "outputs": [],
   "source": [
    "fermionic_np_symmetries = [np_I, np_JW]"
   ]
  },
  {
   "cell_type": "code",
   "execution_count": 17,
   "id": "6e5b6ad0-2496-4072-afe9-c41fc62da40e",
   "metadata": {},
   "outputs": [],
   "source": [
    "fermionic_npc_symmetries = [\n",
    "    to_npc_array(X) for X in fermionic_np_symmetries\n",
    "]"
   ]
  },
  {
   "cell_type": "code",
   "execution_count": 18,
   "id": "b9e2f954-c591-4479-ba37-32862c25c660",
   "metadata": {},
   "outputs": [],
   "source": [
    "symmetry_actions = [\n",
    "    [[b, f] for b in bosonic_np_symmetries]\n",
    "    for f in fermionic_np_symmetries\n",
    "]"
   ]
  },
  {
   "cell_type": "code",
   "execution_count": 19,
   "id": "8c945b86-cec1-4b08-930f-1922b7e1bea6",
   "metadata": {},
   "outputs": [],
   "source": [
    "shifted_symmetry_actions = [\n",
    "    [[f, b] for b in bosonic_np_symmetries]\n",
    "    for f in fermionic_np_symmetries\n",
    "]"
   ]
  },
  {
   "cell_type": "code",
   "execution_count": 20,
   "id": "ac19b501-4293-4d08-8bb0-35515cd6a093",
   "metadata": {},
   "outputs": [],
   "source": [
    "cases = dict()\n",
    "\n",
    "for k, psi in loaded_data.items():\n",
    "\n",
    "    for i, l in enumerate(symmetry_actions):\n",
    "\n",
    "        for j, s in enumerate(l):\n",
    "            case = SymmetryActionWithBoundaryUnitaries(\n",
    "                psi,\n",
    "                [s[1],] + s*49,\n",
    "                left_symmetry_index=51,\n",
    "                left_boundary_unitaries=[np_00, np_I, np_00],\n",
    "                right_boundary_unitaries=[np_00, np_I, np_00]\n",
    "            )\n",
    "\n",
    "            cases[(*k, i, j)] = case"
   ]
  },
  {
   "cell_type": "code",
   "execution_count": 21,
   "id": "8e7ff810-32b3-4163-9b1b-ca96a282a7f5",
   "metadata": {},
   "outputs": [],
   "source": [
    "for c in cases.values():\n",
    "    c.compute_svd_approximate_expectation()"
   ]
  },
  {
   "cell_type": "code",
   "execution_count": 22,
   "id": "6bac53fa-b629-46fc-a145-f932a0af6f18",
   "metadata": {},
   "outputs": [],
   "source": [
    "left_trivial_leg_charge = tenpy.linalg.charges.LegCharge(\n",
    "    tenpy.linalg.charges.ChargeInfo([], []),\n",
    "    [0,1],\n",
    "    [[]],\n",
    "    qconj=1\n",
    ")"
   ]
  },
  {
   "cell_type": "code",
   "execution_count": 23,
   "id": "44f34cb7-0888-474b-9483-f4956951fc31",
   "metadata": {},
   "outputs": [],
   "source": [
    "right_trivial_leg_charge = tenpy.linalg.charges.LegCharge(\n",
    "    tenpy.linalg.charges.ChargeInfo([], []),\n",
    "    [0,1],\n",
    "    [[]],\n",
    "    qconj=-1\n",
    ")"
   ]
  },
  {
   "cell_type": "markdown",
   "id": "ce473a9f-76cf-46c8-b305-42d9fcf07f34",
   "metadata": {},
   "source": [
    "## Functions below"
   ]
  },
  {
   "cell_type": "code",
   "execution_count": 24,
   "id": "0cc65d77-76f3-4159-b2e6-e0ab8429c271",
   "metadata": {},
   "outputs": [],
   "source": [
    "P_LEG_LABEL_REGEX_STRING = r\"^p\\d*$\"\n",
    "p_leg_pattern = re.compile(P_LEG_LABEL_REGEX_STRING)\n",
    "\n",
    "def is_single_physical_leg_label(label):\n",
    "    return bool(p_leg_pattern.match(label))"
   ]
  },
  {
   "cell_type": "code",
   "execution_count": 25,
   "id": "af651898-f853-4710-bfa7-2928d6bb8d55",
   "metadata": {},
   "outputs": [],
   "source": [
    "def is_grouped_physical_leg_label(leg_label):\n",
    "    head, *body, tail = leg_label\n",
    "    if (head != '(') or (tail != ')'):\n",
    "        return False\n",
    "\n",
    "    body = ''.join(body)\n",
    "    legs = body.split('.')\n",
    "\n",
    "    return all(is_single_physical_leg_label(l) for l in legs)"
   ]
  },
  {
   "cell_type": "code",
   "execution_count": 26,
   "id": "1b14fc57-4f21-432e-b2b9-6dcafc179ef2",
   "metadata": {},
   "outputs": [],
   "source": [
    "def is_physical_leg_label(label):\n",
    "    out = (\n",
    "        is_single_physical_leg_label(label)\n",
    "        or is_grouped_physical_leg_label(label)\n",
    "    )\n",
    "\n",
    "    return out"
   ]
  },
  {
   "cell_type": "code",
   "execution_count": 27,
   "id": "949e51b3-8bd1-409f-bb98-0a57d1c99888",
   "metadata": {},
   "outputs": [],
   "source": [
    "def extract_single_physical_leg_label_from_tensor(b):\n",
    "    out = next(\n",
    "        l for l in b.get_leg_labels()\n",
    "        if is_single_physical_leg_label(l)\n",
    "    )\n",
    "\n",
    "    return out"
   ]
  },
  {
   "cell_type": "code",
   "execution_count": 28,
   "id": "1d03a2c8-1e74-4a87-abec-67ec6857100c",
   "metadata": {},
   "outputs": [],
   "source": [
    "def conjugate_single_physical_leg_label(label):\n",
    "    return label + '*'"
   ]
  },
  {
   "cell_type": "code",
   "execution_count": 29,
   "id": "16f3235f-6efc-4739-8dae-a42093c12370",
   "metadata": {},
   "outputs": [],
   "source": [
    "def conjugate_grouped_physical_leg_label(label):\n",
    "    _, *body, _ = label\n",
    "    single_labels = ''.join(body).split('.')\n",
    "\n",
    "    conjugate_labels = [\n",
    "        conjugate_single_physical_leg_label(l)\n",
    "        for l in single_labels\n",
    "    ]\n",
    "\n",
    "    conjugate_body = '.'.join(conjugate_labels)\n",
    "    out = '(' + conjugate_body + ')'\n",
    "    \n",
    "    return out"
   ]
  },
  {
   "cell_type": "code",
   "execution_count": 30,
   "id": "8dab4c14-1fb5-4933-b68c-204cc96541c4",
   "metadata": {},
   "outputs": [],
   "source": [
    "def conjugate_leg_label(label):\n",
    "    if is_single_physical_leg_label(label):\n",
    "        return conjugate_single_physical_leg_label(label)\n",
    "    elif is_grouped_physical_leg_label(label):\n",
    "        return conjugate_grouped_physical_leg_label(label)\n",
    "    else:\n",
    "        raise ValueError"
   ]
  },
  {
   "cell_type": "code",
   "execution_count": 31,
   "id": "8e00e4ef-bb2b-4229-8e92-5e07ec9931b4",
   "metadata": {},
   "outputs": [],
   "source": [
    "def get_physical_leg_labels(t):\n",
    "    out = [\n",
    "        ll for ll in t.get_leg_labels()\n",
    "        if is_physical_leg_label(ll)\n",
    "    ]\n",
    "\n",
    "    return out"
   ]
  },
  {
   "cell_type": "markdown",
   "id": "38bef60c-5137-4768-815b-791a1933b9cc",
   "metadata": {},
   "source": [
    "### Other"
   ]
  },
  {
   "cell_type": "code",
   "execution_count": 32,
   "id": "d2464abb-fd7e-469a-a7d4-e604e24e14bc",
   "metadata": {},
   "outputs": [],
   "source": [
    "def contract_virtual_legs(tl, tr):\n",
    "    return npc.tensordot(tl, tr, ['vR', 'vL'])"
   ]
  },
  {
   "cell_type": "code",
   "execution_count": 33,
   "id": "ac3f7a01-08a2-4937-8308-f12f637f38b6",
   "metadata": {},
   "outputs": [],
   "source": [
    "def combine_tensors(tensors):\n",
    "    out = reduce(contract_virtual_legs, tensors)\n",
    "\n",
    "    leg_labels = [\n",
    "        extract_single_physical_leg_label_from_tensor(t)\n",
    "        for t in tensors\n",
    "    ]\n",
    "\n",
    "    out = out.combine_legs(leg_labels)\n",
    "\n",
    "    return out"
   ]
  },
  {
   "cell_type": "code",
   "execution_count": 34,
   "id": "6b01c411-0a2a-499d-b220-b99e197ecbd8",
   "metadata": {},
   "outputs": [],
   "source": [
    "def combine_b_tensors(b_tensors):\n",
    "    renamed_tensors = [\n",
    "        b.replace_label('p', f'p{i}')\n",
    "        for i, b in enumerate(b_tensors)\n",
    "    ]\n",
    "\n",
    "    return combine_tensors(renamed_tensors)"
   ]
  },
  {
   "cell_type": "code",
   "execution_count": 35,
   "id": "41848361-7394-4eb5-8006-8ab618c0a274",
   "metadata": {},
   "outputs": [],
   "source": [
    "def get_identity_operator(mps_tensor):\n",
    "    p_leg_label = get_physical_leg_labels(mps_tensor)[0]\n",
    "    p_leg = mps_tensor.get_leg(p_leg_label)\n",
    "    p_leg_label_conj = conjugate_leg_label(p_leg_label)\n",
    "\n",
    "    out = npc.diag(\n",
    "        1,\n",
    "        leg=p_leg,\n",
    "        dtype='complex',\n",
    "        labels=[p_leg_label, p_leg_label_conj]\n",
    "    )\n",
    "\n",
    "    return out"
   ]
  },
  {
   "cell_type": "code",
   "execution_count": 36,
   "id": "0b0386d2-79d0-45ab-98ce-ead4ca433c30",
   "metadata": {},
   "outputs": [],
   "source": [
    "def svd_reduce_split_tensor(t, max_inner_dim=MAX_VIRTUAL_BOND_DIM,\n",
    "                           normalise=True, svd_cutoff=SVD_CUTOFF):\n",
    "    U, S, VH = npc.svd(\n",
    "        t,\n",
    "        compute_uv=True,\n",
    "        inner_labels=['vR', 'vL'],\n",
    "        cutoff=svd_cutoff\n",
    "    )\n",
    "\n",
    "    # Truncate tensors:\n",
    "    U = U[:, :max_inner_dim]\n",
    "    S = S[:max_inner_dim]\n",
    "    VH = VH[:max_inner_dim, :]\n",
    "\n",
    "    if normalise:\n",
    "        new_norm = np.sqrt(np.sum(S**2))\n",
    "        S = S/new_norm\n",
    "\n",
    "    \"\"\"\n",
    "    leg = VH.get_leg('vL')\n",
    "\n",
    "    schmidt_values = npc.diag(S, leg, labels=['vL', 'vR'])\n",
    "    \"\"\"\n",
    "\n",
    "    return U, S, VH"
   ]
  },
  {
   "cell_type": "code",
   "execution_count": 37,
   "id": "d2523496-e338-46ef-a2e2-5a8e8dbcba5f",
   "metadata": {},
   "outputs": [],
   "source": [
    "def split_combined_b(b, leftmost_schmidt_values,\n",
    "                     max_virtual_bond_dim=MAX_INTERMEDIATE_VIRTUAL_BOND_DIM,\n",
    "                     p_leg_labels=None):\n",
    "    t = b.split_legs()\n",
    "\n",
    "    num_sites = t.ndim - 2\n",
    "\n",
    "    if p_leg_labels is None:\n",
    "        p_leg_labels = [f'p{i}' for i in range(num_sites)]\n",
    "\n",
    "    out_bs = list()\n",
    "    out_schmidt_values = list()\n",
    "\n",
    "    current_left_schmidt_values = leftmost_schmidt_values\n",
    "\n",
    "    for i, ll in enumerate(p_leg_labels[:-1]):\n",
    "        # In case the bond dimension has been truncated. May need to add in a\n",
    "        # case if have less schmidt values than the bond dim...\n",
    "        bond_dim = t.get_leg('vL').get_block_sizes()[0]\n",
    "        t.iscale_axis(current_left_schmidt_values[:bond_dim], axis='vL')\n",
    "\n",
    "        tail_legs = p_leg_labels[(i+1):]\n",
    "        \n",
    "        t = t.combine_legs([['vL', ll], ['vR', *tail_legs]])\n",
    "\n",
    "        U, S, VH = svd_reduce_split_tensor(\n",
    "            t,\n",
    "            max_inner_dim=max_virtual_bond_dim,\n",
    "            normalise=True\n",
    "        )\n",
    "\n",
    "        bl = (\n",
    "            U\n",
    "            .split_legs()\n",
    "            .replace_label(ll, 'p')\n",
    "        )\n",
    "        bl.iscale_axis(1/current_left_schmidt_values[:bond_dim], axis='vL')\n",
    "        bl.iscale_axis(S, axis='vR')\n",
    "        bl.itranspose(['vL', 'p', 'vR'])\n",
    "        out_bs.append(bl)\n",
    "\n",
    "        out_schmidt_values.append(S)\n",
    "        current_left_schmidt_values=S\n",
    "\n",
    "        t = VH.split_legs()\n",
    "\n",
    "    bl = t.replace_label(p_leg_labels[-1], 'p')\n",
    "    bl.itranspose(['vL', 'p', 'vR'])\n",
    "    out_bs.append(bl)\n",
    "\n",
    "    return out_bs, out_schmidt_values"
   ]
  },
  {
   "cell_type": "code",
   "execution_count": 38,
   "id": "a02ec1af-d2c1-4766-a688-01946f284490",
   "metadata": {},
   "outputs": [],
   "source": [
    "def split_b(b, max_virtual_bond_dim=MAX_INTERMEDIATE_VIRTUAL_BOND_DIM,\n",
    "                     p_leg_labels=None):\n",
    "    leg_label = get_physical_leg_labels(b)[0]\n",
    "\n",
    "    if is_single_physical_leg_label(leg_label):\n",
    "        return b\n",
    "    elif is_grouped_physical_leg_label(leg_label):\n",
    "        return split_combined_b(b, max_virtual_bond_dim, p_leg_labels)\n",
    "    else:\n",
    "        raise ValueError"
   ]
  },
  {
   "cell_type": "code",
   "execution_count": 39,
   "id": "5dddedee-f5a2-4dc8-90e1-7afac18a0307",
   "metadata": {},
   "outputs": [],
   "source": [
    "def split_combined_u(u, max_virtual_bond_dim=MAX_VIRTUAL_BOND_DIM,\n",
    "                     p_leg_labels=None):\n",
    "    t = u.split_legs()\n",
    "    num_sites = t.ndim //2\n",
    "    \n",
    "    if p_leg_labels is None:\n",
    "        p_leg_labels = [f'p{i}' for i in range(num_sites)]\n",
    "\n",
    "    p_leg_labels_hc = [l+'*' for l in p_leg_labels]\n",
    "    out_ws = list()\n",
    "\n",
    "    for i, (ll, ll_hc) in enumerate(zip(p_leg_labels[:-1], p_leg_labels_hc[:-1])):\n",
    "        tail_legs = p_leg_labels[(i+1):]\n",
    "        tail_legs_hc = p_leg_labels_hc[(i+1):]\n",
    "\n",
    "        left_leg_labels = [ll, ll_hc]\n",
    "        if 'vL' in t.get_leg_labels():\n",
    "            left_leg_labels.append('vL')\n",
    "    \n",
    "        t = t.combine_legs([left_leg_labels, [*tail_legs, *tail_legs_hc]])\n",
    "\n",
    "        U, S, VH = svd_reduce_split_tensor(\n",
    "            t,\n",
    "            max_inner_dim=max_virtual_bond_dim,\n",
    "            normalise=False\n",
    "        )\n",
    "\n",
    "        U.iscale_axis(S, axis='vR')\n",
    "\n",
    "        wl = U.split_legs().replace_labels([ll, ll_hc], ['p', 'p*'])\n",
    "        #wl.itranspose(['p', 'p*'])\n",
    "        out_ws.append(wl)\n",
    "\n",
    "        t = VH.split_legs()\n",
    "\n",
    "    wl = t.replace_labels(\n",
    "        [p_leg_labels[-1], p_leg_labels_hc[-1]],\n",
    "        ['p', 'p*']\n",
    "    )\n",
    "    #wl.itranspose(['p', 'p*'])\n",
    "    out_ws.append(wl)\n",
    "\n",
    "    out_ws[0] = (\n",
    "        out_ws[0]\n",
    "        .add_leg(left_trivial_leg_charge, 0, label='vL')\n",
    "    )\n",
    "    \n",
    "    out_ws[-1] = (\n",
    "        out_ws[-1]\n",
    "        .add_leg(right_trivial_leg_charge, 0, label='vR')\n",
    "    )\n",
    "\n",
    "    return out_ws"
   ]
  },
  {
   "cell_type": "code",
   "execution_count": 40,
   "id": "a28056d8-7950-4661-b4b8-0b73e1f6cf97",
   "metadata": {},
   "outputs": [],
   "source": [
    "def split_u(u, max_virtual_bond_dim=MAX_VIRTUAL_BOND_DIM,\n",
    "            p_leg_labels=None):\n",
    "    leg_label = get_physical_leg_labels(u)[0]\n",
    "\n",
    "    if is_single_physical_leg_label(leg_label):\n",
    "        return [unitary_to_mpo_tensor(u),]\n",
    "    elif is_grouped_physical_leg_label(leg_label):\n",
    "        return split_combined_u(u, max_virtual_bond_dim, p_leg_labels)\n",
    "    else:\n",
    "        raise ValueError"
   ]
  },
  {
   "cell_type": "code",
   "execution_count": 41,
   "id": "bc71056c-f25f-4d68-b694-2a26c0ad5790",
   "metadata": {},
   "outputs": [],
   "source": [
    "def unitary_to_mpo_tensor(u):\n",
    "    out = (\n",
    "        u\n",
    "        .add_leg(left_trivial_leg_charge, 0, label='vL')\n",
    "        .add_leg(right_trivial_leg_charge, 0, label='vR')\n",
    "    )\n",
    "\n",
    "    return out"
   ]
  },
  {
   "cell_type": "code",
   "execution_count": 42,
   "id": "7b9fb468-6328-4ae0-b25a-652cb13032c1",
   "metadata": {},
   "outputs": [],
   "source": [
    "def multiply_individual_mpo_tensors(w1, w2):\n",
    "    w1 = w1.replace_labels(['vR', 'vL'], ['vR1', 'vL1'])\n",
    "    w2 = w2.replace_labels(['vR', 'vL'], ['vR2', 'vL2'])\n",
    "\n",
    "    w = (\n",
    "        npc.tensordot(w1, w2, [['p'], ['p*']])\n",
    "        .combine_legs([['vR1', 'vR2'], ['vL1', 'vL2']])\n",
    "        .replace_labels(['(vR1.vR2)', '(vL1.vL2)'], ['vR', 'vL'])\n",
    "    )\n",
    "\n",
    "    return w"
   ]
  },
  {
   "cell_type": "code",
   "execution_count": 43,
   "id": "f9a3a71f-0d3f-4ecf-8eec-c38f861561ef",
   "metadata": {},
   "outputs": [],
   "source": [
    "def group_elements(l, group_size, offset=0):\n",
    "    first, rest = l[:offset], l[offset:]\n",
    "\n",
    "    num_rest_groups = ((len(rest)-1)//group_size) + 1\n",
    "\n",
    "    groups = [first,] if first else list()\n",
    "\n",
    "    for i in range(num_rest_groups):\n",
    "        first_index = i*group_size\n",
    "        last_index = (i+1)*group_size\n",
    "        groups.append(rest[first_index:last_index])\n",
    "\n",
    "    return groups"
   ]
  },
  {
   "cell_type": "code",
   "execution_count": 44,
   "id": "96791fa9-9917-4440-b847-2bc4a3eb39e5",
   "metadata": {},
   "outputs": [],
   "source": [
    "def combine_grouped_b_tensors(grouped_bs):\n",
    "    out = list()\n",
    "\n",
    "    for group in grouped_bs:\n",
    "        if len(group) == 1:\n",
    "            out.append(group[0])\n",
    "        else:\n",
    "            out.append(combine_b_tensors(group))\n",
    "\n",
    "    return out"
   ]
  },
  {
   "cell_type": "code",
   "execution_count": 45,
   "id": "c78589cc-aa65-4aa1-9d53-0cf61702e92c",
   "metadata": {},
   "outputs": [],
   "source": [
    "def reduce_virtual_mpo_dim(wl, wr, max_virtual_bond_dim=MAX_VIRTUAL_BOND_DIM):\n",
    "    # wl = wl.replace_labels(['p', 'p*'], ['pl', 'pl*'])\n",
    "\n",
    "    wl = wl.combine_legs(['p', 'vL', 'p*'])\n",
    "    wr = wr.combine_legs(['p', 'vR', 'p*'])\n",
    "    w = npc.tensordot(wl, wr, ['vR', 'vL'])\n",
    "\n",
    "    wl, S, wr = svd_reduce_split_tensor(\n",
    "        w,\n",
    "        max_inner_dim=max_virtual_bond_dim\n",
    "    )\n",
    "\n",
    "    wl.iscale_axis(S, axis='vR')\n",
    "\n",
    "    wl = wl.split_legs()\n",
    "    wr = wr.split_legs()\n",
    "\n",
    "    return wl, wr"
   ]
  },
  {
   "cell_type": "code",
   "execution_count": 46,
   "id": "e7470053-b5df-45e0-b302-d7ad19d83f30",
   "metadata": {},
   "outputs": [],
   "source": [
    "def multiply_mpos(top_ws, bottom_ws, max_virtual_bond_dim=MAX_VIRTUAL_BOND_DIM):\n",
    "    ws = list()\n",
    "    \n",
    "    for w1, w2 in zip(top_ws, bottom_ws):\n",
    "        w = multiply_individual_mpo_tensors(w1, w2)\n",
    "        ws.append(w)\n",
    "\n",
    "\n",
    "    for i in range(len(ws)-1):\n",
    "        ws[i], ws[i+1] = reduce_virtual_mpo_dim(\n",
    "            ws[i],\n",
    "            ws[i+1],\n",
    "            max_virtual_bond_dim=max_virtual_bond_dim\n",
    "        )\n",
    "\n",
    "    return ws"
   ]
  },
  {
   "cell_type": "markdown",
   "id": "61c38ae1-b2e1-4bb5-bab3-ebcbcb898ef6",
   "metadata": {},
   "source": [
    "### Layer function"
   ]
  },
  {
   "cell_type": "code",
   "execution_count": 47,
   "id": "28b4dd32-ad86-4b30-8047-0b8ad440a194",
   "metadata": {},
   "outputs": [],
   "source": [
    "def optimise_layer(\n",
    "        left_environment,\n",
    "        top_b_tensors,\n",
    "        left_schmidt_values,\n",
    "        block_width,\n",
    "        block_offset,\n",
    "        expectations,\n",
    "        unitaries=list(),\n",
    "        bottom_b_tensors=None,\n",
    "        num_iterations=1,\n",
    "        max_virtual_bond_dim=MAX_VIRTUAL_BOND_DIM\n",
    "    ):\n",
    "\n",
    "    if bottom_b_tensors is None:\n",
    "        bottom_b_tensors = top_b_tensors\n",
    "\n",
    "    group = lambda x: group_elements(x, block_width, block_offset)\n",
    "    top_grouped_bs = group(top_b_tensors)\n",
    "    bottom_grouped_bs = group(bottom_b_tensors)\n",
    "    grouped_schmidt_values = group(left_schmidt_values)\n",
    "\n",
    "    top_combined_bs = combine_grouped_b_tensors(top_grouped_bs)\n",
    "    bottom_combined_bs = combine_grouped_b_tensors(bottom_grouped_bs)\n",
    "\n",
    "    new_unitaries = [\n",
    "        get_identity_operator(t) for t in top_combined_bs\n",
    "    ]\n",
    "\n",
    "    expectations.append(list())\n",
    "\n",
    "    for _ in range(num_iterations):\n",
    "        exps, *_ = one_site_optimization_sweep_right(\n",
    "            left_environment,\n",
    "            top_combined_bs,\n",
    "            new_unitaries,\n",
    "            bottom_combined_bs\n",
    "        )\n",
    "\n",
    "        expectations[-1].append(exps)\n",
    "\n",
    "    unitaries.append(new_unitaries)\n",
    "\n",
    "    for i, u in enumerate(new_unitaries):\n",
    "        b = top_combined_bs[i]\n",
    "        ll = get_physical_leg_labels(b)[0]\n",
    "        llh = conjugate_leg_label(ll)\n",
    "    \n",
    "        new_b = npc.tensordot(b, u, [[ll,], [llh,]])\n",
    "    \n",
    "        top_combined_bs[i] = new_b\n",
    "\n",
    "    new_top_bs = list()\n",
    "    #new_left_schmidt_values = left_schmidt_values.copy()\n",
    "    new_left_schmidt_values = list()\n",
    "\n",
    "    for b, s in zip (top_combined_bs, grouped_schmidt_values):\n",
    "        \"\"\"\n",
    "        print(b)\n",
    "        print(s)\n",
    "        print('\\n')\n",
    "        \"\"\"\n",
    "        leg_label = get_physical_leg_labels(b)[0]\n",
    "        if is_single_physical_leg_label(leg_label):\n",
    "            new_top_bs.append(b)\n",
    "            new_left_schmidt_values.extend(s)\n",
    "        elif is_grouped_physical_leg_label(leg_label):\n",
    "            bs, schmidt_vals = split_combined_b(\n",
    "                b,\n",
    "                s[0],\n",
    "                max_virtual_bond_dim\n",
    "            )\n",
    "            new_top_bs.extend(bs)\n",
    "            new_left_schmidt_values.extend(s)\n",
    "\n",
    "    \"\"\"\n",
    "    for i, b in enumerate(new_top_bs):\n",
    "        top_b_tensors[i] = b\n",
    "    \"\"\"\n",
    "\n",
    "    return new_top_bs, new_left_schmidt_values"
   ]
  },
  {
   "cell_type": "code",
   "execution_count": 48,
   "id": "3a51ee7d-cf08-4382-bb53-55cae7533c76",
   "metadata": {},
   "outputs": [],
   "source": [
    "def inner_product_b_tensors(b_tensors, b_bra_tensors=None, left_environment=None,\n",
    "                            right_environment=None):\n",
    "    if b_bra_tensors is None:\n",
    "        b_bra_tensors = b_tensors\n",
    "\n",
    "    b = b_tensors[0]\n",
    "    b_bra = b_bra_tensors[0]\n",
    "\n",
    "    if left_environment is None:\n",
    "        t = npc.tensordot(b, b_bra.conj(), [['vL',], ['vL*',]])\n",
    "    else:\n",
    "        t = npc.tensordot(left_environment, b, [['vR',], ['vL',]])\n",
    "        t = npc.tensordot(t, b_bra.conj(), [['vR*', 'p'], ['vL*', 'p*']])\n",
    "\n",
    "    for b, b_bra in zip(b_tensors[1:], b_bra_tensors[1:]):\n",
    "        t = npc.tensordot(t, b, [['vR',], ['vL',]])\n",
    "        t = npc.tensordot(t, b_bra.conj(), [['vR*', 'p'], ['vL*', 'p*']])\n",
    "\n",
    "    if right_environment is None:\n",
    "        out = npc.trace(t)\n",
    "    else:\n",
    "        out = npc.tensordot(t, right_environment, [['vR', 'vR*'], ['vL', 'vL*']])\n",
    "\n",
    "    return out"
   ]
  },
  {
   "cell_type": "code",
   "execution_count": 49,
   "id": "da01938e-f826-4a2f-874d-2a7ea0576fee",
   "metadata": {},
   "outputs": [],
   "source": [
    "def get_left_side_right_symmetry_environment(\n",
    "    right_top_b_tensors, right_bottom_b_tensors, symmetry_transfer_matrix\n",
    "    ):\n",
    "\n",
    "    if right_bottom_b_tensors is None:\n",
    "        right_bottom_b_tensors = right_top_b_tensors\n",
    "\n",
    "    t = get_right_identity_environment_from_tp_tensor(right_top_b_tensors[-1])\n",
    "\n",
    "    for tb, bb in zip(right_top_b_tensors[::-1], right_bottom_b_tensors[::-1]):\n",
    "        t = npc.tensordot(t, tb, [['vL',], ['vR']])\n",
    "        t = npc.tensordot(t, bb.conj(), [['vL*', 'p'], ['vR*', 'p*']])\n",
    "\n",
    "    t = npc.tensordot(\n",
    "        t,\n",
    "        symmetry_transfer_matrix,\n",
    "        [['vL', 'vL*',], ['vR', 'vR*']]\n",
    "    )\n",
    "\n",
    "    return t"
   ]
  },
  {
   "cell_type": "code",
   "execution_count": 50,
   "id": "e4c0c3f6-9014-41c6-a7b3-745dd0dc9970",
   "metadata": {},
   "outputs": [],
   "source": [
    "def swap_left_right_indices(npc_array):\n",
    "    left_right_pairs = {\n",
    "        'vL': 'vR',\n",
    "        'vR': 'vL',\n",
    "        'vL*': 'vR*',\n",
    "        'vR*': 'vL*'\n",
    "    }\n",
    "\n",
    "    leg_labels = npc_array.get_leg_labels()\n",
    "\n",
    "    old_labels = [l for l in leg_labels if l in left_right_pairs]\n",
    "    new_labels = [left_right_pairs[l] for l in old_labels]\n",
    "\n",
    "    out = npc_array.replace_labels(old_labels, new_labels)\n",
    "\n",
    "    return out"
   ]
  },
  {
   "cell_type": "code",
   "execution_count": 51,
   "id": "ebd32d02-222b-49ff-9df3-d74114ea3ea5",
   "metadata": {},
   "outputs": [],
   "source": [
    "def two_sided_optimise_layer(\n",
    "        symmetry_transfer_matrix,\n",
    "        top_left_b_tensors,\n",
    "        top_right_b_tensors,\n",
    "        right_side_left_schmidt_values,\n",
    "        left_side_right_schmidt_values,\n",
    "        block_width,\n",
    "        block_offset,\n",
    "        right_expectations,\n",
    "        left_expectations,\n",
    "        bottom_left_b_tensors=None,\n",
    "        bottom_right_b_tensors=None,\n",
    "        left_unitaries=list(),\n",
    "        right_unitaries=list(),\n",
    "        num_iterations=1,\n",
    "        max_virtual_bond_dim=MAX_VIRTUAL_BOND_DIM\n",
    "    ):\n",
    "\n",
    "    if bottom_left_b_tensors is None:\n",
    "        bottom_left_b_tensors = top_left_b_tensors\n",
    "\n",
    "    if bottom_right_b_tensors is None:\n",
    "        bottom_right_b_tensors = top_right_b_tensors\n",
    "\n",
    "    right_side_left_symmetry_environment = (\n",
    "        get_left_side_right_symmetry_environment(\n",
    "            top_left_b_tensors,\n",
    "            bottom_left_b_tensors,\n",
    "            swap_left_right_indices(symmetry_transfer_matrix)\n",
    "        )\n",
    "    )\n",
    "\n",
    "    right_side_left_symmetry_environment = swap_left_right_indices(\n",
    "        right_side_left_symmetry_environment\n",
    "    )\n",
    "    \n",
    "    new_right_pair = optimise_layer(\n",
    "        right_side_left_symmetry_environment,\n",
    "        top_right_b_tensors,\n",
    "        right_side_left_schmidt_values,\n",
    "        block_width,\n",
    "        block_offset,\n",
    "        right_expectations,\n",
    "        right_unitaries,\n",
    "        bottom_right_b_tensors,\n",
    "        num_iterations,\n",
    "        max_virtual_bond_dim\n",
    "    )\n",
    "\n",
    "    new_top_right_b_tensors = new_right_pair[0]\n",
    "    new_right_side_left_schmidt_values = new_right_pair[1]\n",
    "\n",
    "    left_side_right_symmetry_environment = (\n",
    "        get_left_side_right_symmetry_environment(\n",
    "            new_top_right_b_tensors,\n",
    "            bottom_right_b_tensors,\n",
    "            symmetry_transfer_matrix\n",
    "        )\n",
    "    )\n",
    "\n",
    "    left_side_right_symmetry_environment = swap_left_right_indices(\n",
    "        left_side_right_symmetry_environment\n",
    "    )\n",
    "\n",
    "    new_left_pair = optimise_layer(\n",
    "        left_side_right_symmetry_environment,\n",
    "        top_left_b_tensors,\n",
    "        left_side_right_schmidt_values,\n",
    "        block_width,\n",
    "        block_offset,\n",
    "        left_expectations,\n",
    "        left_unitaries,\n",
    "        bottom_left_b_tensors,\n",
    "        num_iterations,\n",
    "        max_virtual_bond_dim\n",
    "    )\n",
    "\n",
    "    new_top_left_b_tensors = new_left_pair[0]\n",
    "    new_left_side_right_schmidt_values = new_left_pair[1]\n",
    "\n",
    "    return (new_left_pair, new_right_pair)"
   ]
  },
  {
   "cell_type": "code",
   "execution_count": 52,
   "id": "0d59ad34-19c1-46f1-ae19-ff608959e0cd",
   "metadata": {},
   "outputs": [],
   "source": [
    "def initialize_brick_optimisation(symmetry_case, num_sites):\n",
    "    symmetry_transfer_matrix = symmetry_case.npc_symmetry_transfer_matrix\n",
    "\n",
    "    right_site_indices = list(range(\n",
    "        symmetry_case.right_symmetry_index + 1,\n",
    "        symmetry_case.right_symmetry_index + 1 + num_sites\n",
    "    ))\n",
    "\n",
    "    right_mps_tensors = [\n",
    "        symmetry_case.psi.get_B(i)\n",
    "        for k, i in enumerate(right_site_indices)\n",
    "    ]\n",
    "\n",
    "    right_side_left_schmidt_values = [\n",
    "        symmetry_case.psi.get_SL(i)\n",
    "        for i in right_site_indices\n",
    "    ]\n",
    "\n",
    "    left_site_indices = list(range(\n",
    "        symmetry_case.left_symmetry_index - 1,\n",
    "        symmetry_case.left_symmetry_index - 1 - num_sites,\n",
    "        -1\n",
    "    ))\n",
    "\n",
    "    left_mps_tensors = [\n",
    "        symmetry_case.psi.get_B(i, form='A')\n",
    "        for k, i in enumerate(left_site_indices)\n",
    "    ]\n",
    "    \n",
    "    left_mps_tensors = [swap_left_right_indices(b) for b in left_mps_tensors]\n",
    "\n",
    "    left_side_right_schmidt_values = [\n",
    "        symmetry_case.psi.get_SR(i)\n",
    "        for i in left_site_indices\n",
    "    ]\n",
    "\n",
    "    right_expectations=list()\n",
    "    left_expectations=list()\n",
    "    left_unitaries=list()\n",
    "    right_unitaries=list()\n",
    "\n",
    "    return (\n",
    "        symmetry_transfer_matrix,\n",
    "        left_mps_tensors,\n",
    "        right_mps_tensors,\n",
    "        right_side_left_schmidt_values,\n",
    "        left_side_right_schmidt_values,\n",
    "        right_expectations,\n",
    "        left_expectations,\n",
    "        left_unitaries,\n",
    "        right_unitaries\n",
    "    )"
   ]
  },
  {
   "cell_type": "markdown",
   "id": "2fd289b9-311a-45b1-8ee5-e0ef0acb2a6f",
   "metadata": {},
   "source": [
    "### Output gradient tensor \"one site\" functions"
   ]
  },
  {
   "cell_type": "code",
   "execution_count": 53,
   "id": "4a200d44-f172-4ad6-8274-74552c6950d1",
   "metadata": {},
   "outputs": [],
   "source": [
    "def optimise_layer_with_gradient(\n",
    "        left_environment,\n",
    "        top_b_tensors,\n",
    "        left_schmidt_values,\n",
    "        block_width,\n",
    "        block_offset,\n",
    "        expectations,\n",
    "        unitaries=list(),\n",
    "        bottom_b_tensors=None,\n",
    "        num_iterations=1,\n",
    "        max_virtual_bond_dim=MAX_VIRTUAL_BOND_DIM\n",
    "    ):\n",
    "\n",
    "    if bottom_b_tensors is None:\n",
    "        bottom_b_tensors = top_b_tensors\n",
    "\n",
    "    group = lambda x: group_elements(x, block_width, block_offset)\n",
    "    top_grouped_bs = group(top_b_tensors)\n",
    "    bottom_grouped_bs = group(bottom_b_tensors)\n",
    "    grouped_schmidt_values = group(left_schmidt_values)\n",
    "\n",
    "    top_combined_bs = combine_grouped_b_tensors(top_grouped_bs)\n",
    "    bottom_combined_bs = combine_grouped_b_tensors(bottom_grouped_bs)\n",
    "\n",
    "    new_unitaries = [\n",
    "        get_identity_operator(t) for t in top_combined_bs\n",
    "    ]\n",
    "\n",
    "    expectations.append(list())\n",
    "\n",
    "    # Below code is a hack to add in the gradient, assuming one block.\n",
    "    right_environment = get_right_identity_environment_from_tp_tensor(\n",
    "        top_b_tensors[-1]\n",
    "    )\n",
    "\n",
    "    grad = expectation_gradient_from_environments_and_b_tensor(\n",
    "        top_combined_bs[0],\n",
    "        left_environment,\n",
    "        right_environment,\n",
    "        bottom_combined_bs[0]\n",
    "    )\n",
    "    # Hack ends here.\n",
    "\n",
    "    for _ in range(num_iterations):\n",
    "        exps, *_ = one_site_optimization_sweep_right(\n",
    "            left_environment,\n",
    "            top_combined_bs,\n",
    "            new_unitaries,\n",
    "            bottom_combined_bs\n",
    "        )\n",
    "\n",
    "        expectations[-1].append(exps)\n",
    "\n",
    "    unitaries.append(new_unitaries)\n",
    "\n",
    "    for i, u in enumerate(new_unitaries):\n",
    "        b = top_combined_bs[i]\n",
    "        ll = get_physical_leg_labels(b)[0]\n",
    "        llh = conjugate_leg_label(ll)\n",
    "    \n",
    "        new_b = npc.tensordot(b, u, [[ll,], [llh,]])\n",
    "    \n",
    "        top_combined_bs[i] = new_b\n",
    "\n",
    "    new_top_bs = list()\n",
    "    #new_left_schmidt_values = left_schmidt_values.copy()\n",
    "    new_left_schmidt_values = list()\n",
    "\n",
    "    for b, s in zip (top_combined_bs, grouped_schmidt_values):\n",
    "        \"\"\"\n",
    "        print(b)\n",
    "        print(s)\n",
    "        print('\\n')\n",
    "        \"\"\"\n",
    "        leg_label = get_physical_leg_labels(b)[0]\n",
    "        if is_single_physical_leg_label(leg_label):\n",
    "            new_top_bs.append(b)\n",
    "            new_left_schmidt_values.extend(s)\n",
    "        elif is_grouped_physical_leg_label(leg_label):\n",
    "            bs, schmidt_vals = split_combined_b(\n",
    "                b,\n",
    "                s[0],\n",
    "                max_virtual_bond_dim\n",
    "            )\n",
    "            new_top_bs.extend(bs)\n",
    "            new_left_schmidt_values.extend(s)\n",
    "\n",
    "    \"\"\"\n",
    "    for i, b in enumerate(new_top_bs):\n",
    "        top_b_tensors[i] = b\n",
    "    \"\"\"\n",
    "\n",
    "    return new_top_bs, new_left_schmidt_values, grad"
   ]
  },
  {
   "cell_type": "code",
   "execution_count": 54,
   "id": "9836488e-d760-4986-9181-34f8e5dc3cfa",
   "metadata": {},
   "outputs": [],
   "source": [
    "def two_sided_optimise_layer_with_gradient(\n",
    "        symmetry_transfer_matrix,\n",
    "        top_left_b_tensors,\n",
    "        top_right_b_tensors,\n",
    "        right_side_left_schmidt_values,\n",
    "        left_side_right_schmidt_values,\n",
    "        block_width,\n",
    "        block_offset,\n",
    "        right_expectations,\n",
    "        left_expectations,\n",
    "        bottom_left_b_tensors=None,\n",
    "        bottom_right_b_tensors=None,\n",
    "        left_unitaries=list(),\n",
    "        right_unitaries=list(),\n",
    "        num_iterations=1,\n",
    "        max_virtual_bond_dim=MAX_VIRTUAL_BOND_DIM\n",
    "    ):\n",
    "\n",
    "    if bottom_left_b_tensors is None:\n",
    "        bottom_left_b_tensors = top_left_b_tensors\n",
    "\n",
    "    if bottom_right_b_tensors is None:\n",
    "        bottom_right_b_tensors = top_right_b_tensors\n",
    "\n",
    "    right_side_left_symmetry_environment = (\n",
    "        get_left_side_right_symmetry_environment(\n",
    "            top_left_b_tensors,\n",
    "            bottom_left_b_tensors,\n",
    "            swap_left_right_indices(symmetry_transfer_matrix)\n",
    "        )\n",
    "    )\n",
    "\n",
    "    right_side_left_symmetry_environment = swap_left_right_indices(\n",
    "        right_side_left_symmetry_environment\n",
    "    )\n",
    "    \n",
    "    new_right_triple = optimise_layer_with_gradient(\n",
    "        right_side_left_symmetry_environment,\n",
    "        top_right_b_tensors,\n",
    "        right_side_left_schmidt_values,\n",
    "        block_width,\n",
    "        block_offset,\n",
    "        right_expectations,\n",
    "        right_unitaries,\n",
    "        bottom_right_b_tensors,\n",
    "        num_iterations,\n",
    "        max_virtual_bond_dim\n",
    "    )\n",
    "\n",
    "    new_top_right_b_tensors = new_right_triple[0]\n",
    "    new_right_side_left_schmidt_values = new_right_triple[1]\n",
    "    new_right_grad = new_right_triple[2]\n",
    "\n",
    "    left_side_right_symmetry_environment = (\n",
    "        get_left_side_right_symmetry_environment(\n",
    "            new_top_right_b_tensors,\n",
    "            bottom_right_b_tensors,\n",
    "            symmetry_transfer_matrix\n",
    "        )\n",
    "    )\n",
    "\n",
    "    left_side_right_symmetry_environment = swap_left_right_indices(\n",
    "        left_side_right_symmetry_environment\n",
    "    )\n",
    "\n",
    "    new_left_triple = optimise_layer_with_gradient(\n",
    "        left_side_right_symmetry_environment,\n",
    "        top_left_b_tensors,\n",
    "        left_side_right_schmidt_values,\n",
    "        block_width,\n",
    "        block_offset,\n",
    "        left_expectations,\n",
    "        left_unitaries,\n",
    "        bottom_left_b_tensors,\n",
    "        num_iterations,\n",
    "        max_virtual_bond_dim\n",
    "    )\n",
    "\n",
    "    new_top_left_b_tensors = new_left_triple[0]\n",
    "    new_left_side_right_schmidt_values = new_left_triple[1]\n",
    "    new_left_grad = new_left_triple[2]\n",
    "\n",
    "    return (new_left_triple, new_right_triple)"
   ]
  },
  {
   "cell_type": "markdown",
   "id": "2e1d9a07-80d2-45ae-ae74-2a2c4bc251e2",
   "metadata": {},
   "source": [
    "### Output calculated symmetry environments"
   ]
  },
  {
   "cell_type": "code",
   "execution_count": 55,
   "id": "ec9256c0-277a-4f27-b460-2b2981148a5e",
   "metadata": {},
   "outputs": [],
   "source": [
    "def two_sided_optimise_layer_with_environments(\n",
    "        symmetry_transfer_matrix,\n",
    "        top_left_b_tensors,\n",
    "        top_right_b_tensors,\n",
    "        right_side_left_schmidt_values,\n",
    "        left_side_right_schmidt_values,\n",
    "        block_width,\n",
    "        block_offset,\n",
    "        right_expectations,\n",
    "        left_expectations,\n",
    "        bottom_left_b_tensors=None,\n",
    "        bottom_right_b_tensors=None,\n",
    "        left_unitaries=list(),\n",
    "        right_unitaries=list(),\n",
    "        num_iterations=1,\n",
    "        max_virtual_bond_dim=MAX_VIRTUAL_BOND_DIM\n",
    "    ):\n",
    "\n",
    "    if bottom_left_b_tensors is None:\n",
    "        bottom_left_b_tensors = top_left_b_tensors\n",
    "\n",
    "    if bottom_right_b_tensors is None:\n",
    "        bottom_right_b_tensors = top_right_b_tensors\n",
    "\n",
    "    right_side_left_symmetry_environment = (\n",
    "        get_left_side_right_symmetry_environment(\n",
    "            top_left_b_tensors,\n",
    "            bottom_left_b_tensors,\n",
    "            swap_left_right_indices(symmetry_transfer_matrix)\n",
    "        )\n",
    "    )\n",
    "\n",
    "    right_side_left_symmetry_environment = swap_left_right_indices(\n",
    "        right_side_left_symmetry_environment\n",
    "    )\n",
    "    \n",
    "    new_right_triple = optimise_layer_with_gradient(\n",
    "        right_side_left_symmetry_environment,\n",
    "        top_right_b_tensors,\n",
    "        right_side_left_schmidt_values,\n",
    "        block_width,\n",
    "        block_offset,\n",
    "        right_expectations,\n",
    "        right_unitaries,\n",
    "        bottom_right_b_tensors,\n",
    "        num_iterations,\n",
    "        max_virtual_bond_dim\n",
    "    )\n",
    "\n",
    "    new_top_right_b_tensors = new_right_triple[0]\n",
    "    new_right_side_left_schmidt_values = new_right_triple[1]\n",
    "    new_right_grad = new_right_triple[2]\n",
    "\n",
    "    left_side_right_symmetry_environment = (\n",
    "        get_left_side_right_symmetry_environment(\n",
    "            new_top_right_b_tensors,\n",
    "            bottom_right_b_tensors,\n",
    "            symmetry_transfer_matrix\n",
    "        )\n",
    "    )\n",
    "\n",
    "    left_side_right_symmetry_environment = swap_left_right_indices(\n",
    "        left_side_right_symmetry_environment\n",
    "    )\n",
    "\n",
    "    new_left_triple = optimise_layer_with_gradient(\n",
    "        left_side_right_symmetry_environment,\n",
    "        top_left_b_tensors,\n",
    "        left_side_right_schmidt_values,\n",
    "        block_width,\n",
    "        block_offset,\n",
    "        left_expectations,\n",
    "        left_unitaries,\n",
    "        bottom_left_b_tensors,\n",
    "        num_iterations,\n",
    "        max_virtual_bond_dim\n",
    "    )\n",
    "\n",
    "    new_top_left_b_tensors = new_left_triple[0]\n",
    "    new_left_side_right_schmidt_values = new_left_triple[1]\n",
    "    new_left_grad = new_left_triple[2]\n",
    "\n",
    "    return (\n",
    "        (*new_left_triple, left_side_right_symmetry_environment),\n",
    "        (*new_right_triple, right_side_left_symmetry_environment)\n",
    "    )"
   ]
  },
  {
   "cell_type": "markdown",
   "id": "8ca81e77-2ed0-447e-a753-f4f03badb767",
   "metadata": {},
   "source": [
    "# Analysis"
   ]
  },
  {
   "cell_type": "markdown",
   "id": "dfa38b6a-907d-46ee-b377-6b8e862555ba",
   "metadata": {},
   "source": [
    "## Test case"
   ]
  },
  {
   "cell_type": "code",
   "execution_count": 60,
   "id": "32b9a229-f0d6-4a66-ae5a-100194f68ee9",
   "metadata": {},
   "outputs": [],
   "source": [
    "sub_cases = dict()\n",
    "\n",
    "for k, case in cases.items():\n",
    "    pr, n1, *k1 = k\n",
    "    if (pr, n1) == (False, (1, 0)):\n",
    "        sub_cases[tuple(k1)] = case"
   ]
  },
  {
   "cell_type": "code",
   "execution_count": 61,
   "id": "ee3fa09b-c6fb-4abb-a269-9ad7ca54ff7f",
   "metadata": {},
   "outputs": [
    {
     "data": {
      "text/plain": [
       "{(0,\n",
       "  0): <SPTOptimization.SymmetryActionWithBoundaryUnitaries.SymmetryActionWithBoundaryUnitaries at 0x17d3942d0>,\n",
       " (0,\n",
       "  1): <SPTOptimization.SymmetryActionWithBoundaryUnitaries.SymmetryActionWithBoundaryUnitaries at 0x17d3943d0>,\n",
       " (0,\n",
       "  2): <SPTOptimization.SymmetryActionWithBoundaryUnitaries.SymmetryActionWithBoundaryUnitaries at 0x17d3944d0>,\n",
       " (0,\n",
       "  3): <SPTOptimization.SymmetryActionWithBoundaryUnitaries.SymmetryActionWithBoundaryUnitaries at 0x17d3945d0>,\n",
       " (1,\n",
       "  0): <SPTOptimization.SymmetryActionWithBoundaryUnitaries.SymmetryActionWithBoundaryUnitaries at 0x17d3946d0>,\n",
       " (1,\n",
       "  1): <SPTOptimization.SymmetryActionWithBoundaryUnitaries.SymmetryActionWithBoundaryUnitaries at 0x17d3947d0>,\n",
       " (1,\n",
       "  2): <SPTOptimization.SymmetryActionWithBoundaryUnitaries.SymmetryActionWithBoundaryUnitaries at 0x17d3948d0>,\n",
       " (1,\n",
       "  3): <SPTOptimization.SymmetryActionWithBoundaryUnitaries.SymmetryActionWithBoundaryUnitaries at 0x17d3949d0>}"
      ]
     },
     "execution_count": 61,
     "metadata": {},
     "output_type": "execute_result"
    }
   ],
   "source": [
    "sub_cases"
   ]
  },
  {
   "cell_type": "code",
   "execution_count": 62,
   "id": "3798583a-bef7-40bf-97af-67e5f52acab3",
   "metadata": {},
   "outputs": [],
   "source": [
    "test_case_1 = sub_cases[(1, 1)]\n",
    "test_case_2 = sub_cases[(1, 2)]"
   ]
  },
  {
   "cell_type": "markdown",
   "id": "a54a0de4-aaaa-456c-97d8-4708f64854dc",
   "metadata": {},
   "source": [
    "Compute boundary operators."
   ]
  },
  {
   "cell_type": "code",
   "execution_count": 63,
   "id": "1bcd1b6e-0882-47fe-85c2-f8b60c404ceb",
   "metadata": {},
   "outputs": [],
   "source": [
    "block_width = 3\n",
    "num_one_sided_iterations = 2\n",
    "num_two_sided_iterations = 2\n",
    "num_layers = 1\n",
    "num_sites = 3"
   ]
  },
  {
   "cell_type": "code",
   "execution_count": 68,
   "id": "222a3a84-f2da-4365-83df-3cf3bc5b36d1",
   "metadata": {},
   "outputs": [],
   "source": [
    "c = test_case_1\n",
    "\n",
    "(\n",
    "    symmetry_transfer_matrix,\n",
    "    current_left_mps_tensors,\n",
    "    current_right_mps_tensors,\n",
    "    current_right_side_left_schmidt_values,\n",
    "    current_left_side_right_schmidt_values,\n",
    "    current_right_expectations,\n",
    "    current_left_expectations,\n",
    "    current_left_unitaries,\n",
    "    current_right_unitaries\n",
    ") = initialize_brick_optimisation(c, num_sites)\n",
    "\n",
    "top_right_mps_tensors = [current_right_mps_tensors,]\n",
    "top_left_mps_tensors = [current_left_mps_tensors,]\n",
    "\n",
    "right_side_left_schmidt_values_list = [current_right_side_left_schmidt_values,]\n",
    "left_side_right_schmidt_values_list = [current_left_side_right_schmidt_values,]\n",
    "\n",
    "for i in range(num_layers):\n",
    "    block_offset = (block_width//2)*i % block_width\n",
    "\n",
    "    for _ in range(num_two_sided_iterations):\n",
    "        out = two_sided_optimise_layer_with_gradient(\n",
    "            symmetry_transfer_matrix,\n",
    "            top_left_mps_tensors[-1],\n",
    "            top_right_mps_tensors[-1],\n",
    "            right_side_left_schmidt_values_list[-1],\n",
    "            left_side_right_schmidt_values_list[-1],\n",
    "            block_width,\n",
    "            block_offset,\n",
    "            current_right_expectations,\n",
    "            current_left_expectations,\n",
    "            current_left_mps_tensors,\n",
    "            current_right_mps_tensors,\n",
    "            current_left_unitaries,\n",
    "            current_right_unitaries,\n",
    "            num_one_sided_iterations\n",
    "        )\n",
    "\n",
    "        left_triple, right_triple = out\n",
    "    \n",
    "        top_right_mps_tensors.append(right_triple[0])\n",
    "        right_side_left_schmidt_values_list.append(right_triple[1])\n",
    "        \n",
    "        top_left_mps_tensors.append(left_triple[0])\n",
    "        left_side_right_schmidt_values_list.append(left_triple[1])\n",
    "\n",
    "right_expectations_1 = current_right_expectations\n",
    "left_expectations_1 = current_left_expectations\n",
    "left_unitaries_1 = current_left_unitaries\n",
    "right_unitaries_1 = current_right_unitaries"
   ]
  },
  {
   "cell_type": "code",
   "execution_count": 69,
   "id": "f1026624-7522-4bed-85b3-24e032d4bcfe",
   "metadata": {},
   "outputs": [],
   "source": [
    "c = test_case_2\n",
    "\n",
    "(\n",
    "    symmetry_transfer_matrix,\n",
    "    current_left_mps_tensors,\n",
    "    current_right_mps_tensors,\n",
    "    current_right_side_left_schmidt_values,\n",
    "    current_left_side_right_schmidt_values,\n",
    "    current_right_expectations,\n",
    "    current_left_expectations,\n",
    "    current_left_unitaries,\n",
    "    current_right_unitaries\n",
    ") = initialize_brick_optimisation(c, num_sites)\n",
    "\n",
    "top_right_mps_tensors = [current_right_mps_tensors,]\n",
    "top_left_mps_tensors = [current_left_mps_tensors,]\n",
    "\n",
    "right_side_left_schmidt_values_list = [current_right_side_left_schmidt_values,]\n",
    "left_side_right_schmidt_values_list = [current_left_side_right_schmidt_values,]\n",
    "\n",
    "for i in range(num_layers):\n",
    "    block_offset = (block_width//2)*i % block_width\n",
    "\n",
    "    for _ in range(num_two_sided_iterations):\n",
    "        out = two_sided_optimise_layer_with_gradient(\n",
    "            symmetry_transfer_matrix,\n",
    "            top_left_mps_tensors[-1],\n",
    "            top_right_mps_tensors[-1],\n",
    "            right_side_left_schmidt_values_list[-1],\n",
    "            left_side_right_schmidt_values_list[-1],\n",
    "            block_width,\n",
    "            block_offset,\n",
    "            current_right_expectations,\n",
    "            current_left_expectations,\n",
    "            current_left_mps_tensors,\n",
    "            current_right_mps_tensors,\n",
    "            current_left_unitaries,\n",
    "            current_right_unitaries,\n",
    "            num_one_sided_iterations\n",
    "        )\n",
    "\n",
    "        left_triple, right_triple = out\n",
    "    \n",
    "        top_right_mps_tensors.append(right_triple[0])\n",
    "        right_side_left_schmidt_values_list.append(right_triple[1])\n",
    "        \n",
    "        top_left_mps_tensors.append(left_triple[0])\n",
    "        left_side_right_schmidt_values_list.append(left_triple[1])\n",
    "\n",
    "right_expectations_2 = current_right_expectations\n",
    "left_expectations_2 = current_left_expectations\n",
    "left_unitaries_2 = current_left_unitaries\n",
    "right_unitaries_2 = current_right_unitaries"
   ]
  },
  {
   "cell_type": "markdown",
   "id": "ecb4c825-7de1-46f7-8057-efb61b91686c",
   "metadata": {},
   "source": [
    "### Expectations"
   ]
  },
  {
   "cell_type": "code",
   "execution_count": 70,
   "id": "768c0a19-0c92-493e-9241-d21aac9e2dd9",
   "metadata": {},
   "outputs": [
    {
     "data": {
      "text/plain": [
       "[[[1.414146333677409e-14], [1.414146333677409e-14]],\n",
       " [[1.0000000000000033], [1.0000000000000033]]]"
      ]
     },
     "execution_count": 70,
     "metadata": {},
     "output_type": "execute_result"
    }
   ],
   "source": [
    "right_expectations_2"
   ]
  },
  {
   "cell_type": "code",
   "execution_count": 71,
   "id": "29d4a8e1-a30b-4418-ad13-c8adedacce9e",
   "metadata": {},
   "outputs": [
    {
     "data": {
      "text/plain": [
       "[[[1.2996392673343004e-17], [1.2996392673343004e-17]],\n",
       " [[1.0000000000000022], [1.0000000000000022]]]"
      ]
     },
     "execution_count": 71,
     "metadata": {},
     "output_type": "execute_result"
    }
   ],
   "source": [
    "right_expectations_1"
   ]
  },
  {
   "cell_type": "code",
   "execution_count": 72,
   "id": "4616c084-f89e-430d-a957-db5646595b1c",
   "metadata": {},
   "outputs": [
    {
     "data": {
      "text/plain": [
       "[[[1.0000000000000033], [1.0000000000000033]],\n",
       " [[1.000000000000003], [1.000000000000003]]]"
      ]
     },
     "execution_count": 72,
     "metadata": {},
     "output_type": "execute_result"
    }
   ],
   "source": [
    "left_expectations_1"
   ]
  },
  {
   "cell_type": "code",
   "execution_count": 73,
   "id": "628b0ef4-902b-4d92-b4d0-f2b34509cd88",
   "metadata": {},
   "outputs": [
    {
     "data": {
      "text/plain": [
       "[[[0.9999999678482164], [0.9999999678482164]],\n",
       " [[1.0000000000000036], [1.0000000000000036]]]"
      ]
     },
     "execution_count": 73,
     "metadata": {},
     "output_type": "execute_result"
    }
   ],
   "source": [
    "left_expectations_2"
   ]
  },
  {
   "cell_type": "markdown",
   "id": "3a996371-1312-4598-9bf3-6edeef0d0aeb",
   "metadata": {},
   "source": [
    "### Unitary check."
   ]
  },
  {
   "cell_type": "code",
   "execution_count": 75,
   "id": "91f0545d-a507-426a-9fae-a4a0d3270107",
   "metadata": {},
   "outputs": [],
   "source": [
    "right_unitary_2 = right_unitaries_2[-1][-1]"
   ]
  },
  {
   "cell_type": "code",
   "execution_count": 85,
   "id": "f4e20414-c487-4f3b-baa5-f2ca3499e53a",
   "metadata": {},
   "outputs": [
    {
     "data": {
      "text/plain": [
       "array([[ 0.85+0.j, -0.08+0.j, -0.07+0.j, ..., -0.  +0.j,  0.15+0.j,\n",
       "         0.  +0.j],\n",
       "       [-0.  +0.j, -0.05+0.j, -0.11+0.j, ..., -0.  +0.j, -0.06+0.j,\n",
       "        -0.  +0.j],\n",
       "       [-0.3 +0.j,  0.25+0.j,  0.43+0.j, ..., -0.  +0.j,  0.23+0.j,\n",
       "         0.  +0.j],\n",
       "       ...,\n",
       "       [-0.  +0.j, -0.  +0.j, -0.  +0.j, ...,  0.55+0.j, -0.  +0.j,\n",
       "        -0.19+0.j],\n",
       "       [-0.02+0.j,  0.06+0.j,  0.12+0.j, ..., -0.  +0.j, -0.26+0.j,\n",
       "        -0.  +0.j],\n",
       "       [ 0.  +0.j, -0.  +0.j,  0.  +0.j, ...,  0.22+0.j, -0.  +0.j,\n",
       "        -0.06+0.j]])"
      ]
     },
     "execution_count": 85,
     "metadata": {},
     "output_type": "execute_result"
    }
   ],
   "source": [
    "np.round(right_unitary_2.to_ndarray(), 2)"
   ]
  },
  {
   "cell_type": "markdown",
   "id": "2e76f51c-4903-406c-84c8-529b99ce4562",
   "metadata": {},
   "source": [
    "Not as clean a form as expected..."
   ]
  },
  {
   "cell_type": "code",
   "execution_count": 80,
   "id": "8af3287f",
   "metadata": {},
   "outputs": [],
   "source": [
    "leg_labels = ['p0', 'p0*', 'p1', 'p1*', 'p2', 'p2*']"
   ]
  },
  {
   "cell_type": "code",
   "execution_count": 81,
   "id": "77932ac8-1e93-42c4-ad4c-4869ef6ee8e8",
   "metadata": {},
   "outputs": [],
   "source": [
    "split_right_unitary_2 = (\n",
    "    right_unitary_2\n",
    "    .split_legs()\n",
    "    .transpose(leg_labels)\n",
    ")"
   ]
  },
  {
   "cell_type": "code",
   "execution_count": 82,
   "id": "d2e1c00a-d966-4882-9ca6-3d1f455d9156",
   "metadata": {},
   "outputs": [
    {
     "data": {
      "text/plain": [
       "<npc.Array shape=(4, 4, 2, 2, 4, 4) labels=['p0', 'p0*', 'p1', 'p1*', 'p2', 'p2*']>"
      ]
     },
     "execution_count": 82,
     "metadata": {},
     "output_type": "execute_result"
    }
   ],
   "source": [
    "split_right_unitary_2"
   ]
  },
  {
   "cell_type": "code",
   "execution_count": 87,
   "id": "896e1154-475b-41b2-87fc-cb0f53590545",
   "metadata": {},
   "outputs": [],
   "source": [
    "np_split_right_unitary_2 = np.round(\n",
    "    split_right_unitary_2\n",
    "    .to_ndarray()\n",
    "    ,2\n",
    ")"
   ]
  },
  {
   "cell_type": "code",
   "execution_count": 88,
   "id": "d9ee56d3-842b-4c7b-b87c-03eeb48dddb6",
   "metadata": {},
   "outputs": [],
   "source": [
    "non_zero_indcies = np.nonzero(np_split_right_unitary_2)"
   ]
  },
  {
   "cell_type": "code",
   "execution_count": 91,
   "id": "a278a136-af15-446b-b8a5-eb6684df8332",
   "metadata": {},
   "outputs": [],
   "source": [
    "indices_dict = defaultdict(list)\n",
    "\n",
    "for gul, gdl, gum, gdm, gur, gdr in zip(*non_zero_indcies):\n",
    "    indices_dict[(gul, gdl, gur, gdr)].append((gum, gdm))"
   ]
  },
  {
   "cell_type": "code",
   "execution_count": 93,
   "id": "5c2696be-f53b-4d8b-8f6a-ba64f9f948ce",
   "metadata": {},
   "outputs": [
    {
     "data": {
      "text/plain": [
       "array([[ 0.85+0.j, -0.09+0.j],\n",
       "       [ 0.  +0.j,  0.36+0.j]])"
      ]
     },
     "execution_count": 93,
     "metadata": {},
     "output_type": "execute_result"
    }
   ],
   "source": [
    "np_split_right_unitary_2[0, 0, ..., 0, 0]"
   ]
  },
  {
   "cell_type": "code",
   "execution_count": 94,
   "id": "fcb92b5e-43d9-4d8d-8af8-d45673e16fbd",
   "metadata": {},
   "outputs": [
    {
     "data": {
      "text/plain": [
       "array([[-0.08+0.j,  0.01+0.j],\n",
       "       [-0.08+0.j,  0.15+0.j]])"
      ]
     },
     "execution_count": 94,
     "metadata": {},
     "output_type": "execute_result"
    }
   ],
   "source": [
    "np_split_right_unitary_2[0, 0, ..., 0, 1]"
   ]
  },
  {
   "cell_type": "code",
   "execution_count": 95,
   "id": "92006eea-55d7-4862-bd4f-3cc5ce82c417",
   "metadata": {},
   "outputs": [
    {
     "data": {
      "text/plain": [
       "array([[-0.07+0.j,  0.  +0.j],\n",
       "       [-0.08+0.j, -0.  +0.j]])"
      ]
     },
     "execution_count": 95,
     "metadata": {},
     "output_type": "execute_result"
    }
   ],
   "source": [
    "np_split_right_unitary_2[0, 0, ..., 0, 2]"
   ]
  },
  {
   "cell_type": "code",
   "execution_count": 92,
   "id": "b056bf4c-0dcf-4bbf-9483-72c7ace72a97",
   "metadata": {},
   "outputs": [
    {
     "data": {
      "text/plain": [
       "defaultdict(list,\n",
       "            {(0, 0, 0, 0): [(0, 0), (0, 1), (1, 1)],\n",
       "             (0, 0, 0, 1): [(0, 0), (0, 1), (1, 0), (1, 1)],\n",
       "             (0, 0, 0, 2): [(0, 0), (1, 0)],\n",
       "             (0, 0, 0, 3): [(0, 0), (0, 1), (1, 0), (1, 1)],\n",
       "             (0, 0, 1, 1): [(0, 0), (0, 1), (1, 0), (1, 1)],\n",
       "             (0, 0, 1, 2): [(0, 0), (1, 0)],\n",
       "             (0, 0, 1, 3): [(0, 0), (0, 1), (1, 0), (1, 1)],\n",
       "             (0, 0, 2, 0): [(0, 0), (0, 1)],\n",
       "             (0, 0, 2, 1): [(0, 0), (0, 1)],\n",
       "             (0, 0, 2, 2): [(0, 0), (1, 1)],\n",
       "             (0, 0, 2, 3): [(0, 0), (0, 1)],\n",
       "             (0, 0, 3, 0): [(0, 0), (0, 1), (1, 0), (1, 1)],\n",
       "             (0, 0, 3, 1): [(0, 0), (0, 1), (1, 0), (1, 1)],\n",
       "             (0, 0, 3, 2): [(0, 0), (1, 0)],\n",
       "             (0, 0, 3, 3): [(0, 0), (0, 1), (1, 0), (1, 1)],\n",
       "             (0, 0, 1, 0): [(0, 1), (1, 0), (1, 1)],\n",
       "             (0, 1, 0, 1): [(0, 0), (1, 0)],\n",
       "             (0, 1, 0, 3): [(0, 0), (1, 0)],\n",
       "             (0, 1, 1, 1): [(0, 0), (1, 0)],\n",
       "             (0, 1, 1, 3): [(0, 0), (1, 0)],\n",
       "             (0, 1, 2, 1): [(0, 0), (1, 1)],\n",
       "             (0, 1, 3, 1): [(0, 0), (1, 0)],\n",
       "             (0, 1, 3, 3): [(0, 0), (1, 0)],\n",
       "             (0, 1, 0, 0): [(0, 1), (1, 1)],\n",
       "             (0, 1, 0, 2): [(0, 1), (1, 1)],\n",
       "             (0, 1, 1, 0): [(0, 1), (1, 1)],\n",
       "             (0, 1, 1, 2): [(0, 1), (1, 1)],\n",
       "             (0, 1, 2, 0): [(0, 1), (1, 0)],\n",
       "             (0, 1, 2, 2): [(0, 1), (1, 0)],\n",
       "             (0, 1, 3, 0): [(0, 1), (1, 1)],\n",
       "             (0, 1, 3, 2): [(0, 1), (1, 1)],\n",
       "             (0, 1, 2, 3): [(1, 1)],\n",
       "             (0, 2, 0, 0): [(0, 0), (1, 0)],\n",
       "             (0, 2, 0, 2): [(0, 0), (1, 0)],\n",
       "             (0, 2, 1, 0): [(0, 0), (1, 0)],\n",
       "             (0, 2, 1, 2): [(0, 0), (1, 0)],\n",
       "             (0, 2, 2, 0): [(0, 0), (1, 1)],\n",
       "             (0, 2, 2, 2): [(0, 0)],\n",
       "             (0, 2, 3, 0): [(0, 0), (1, 0)],\n",
       "             (0, 2, 3, 2): [(0, 0), (1, 0)],\n",
       "             (0, 2, 0, 1): [(0, 1), (1, 1)],\n",
       "             (0, 2, 0, 3): [(0, 1), (1, 1)],\n",
       "             (0, 2, 1, 1): [(0, 1), (1, 1)],\n",
       "             (0, 2, 1, 3): [(0, 1), (1, 1)],\n",
       "             (0, 2, 2, 1): [(0, 1), (1, 0)],\n",
       "             (0, 2, 2, 3): [(0, 1), (1, 0)],\n",
       "             (0, 2, 3, 1): [(0, 1), (1, 1)],\n",
       "             (0, 2, 3, 3): [(0, 1), (1, 1)],\n",
       "             (0, 3, 0, 1): [(0, 0), (1, 0)],\n",
       "             (0, 3, 1, 1): [(0, 0), (1, 0)],\n",
       "             (0, 3, 1, 3): [(0, 0), (1, 0)],\n",
       "             (0, 3, 2, 1): [(0, 0), (1, 1)],\n",
       "             (0, 3, 2, 3): [(0, 0), (1, 1)],\n",
       "             (0, 3, 3, 1): [(0, 0)],\n",
       "             (0, 3, 3, 3): [(0, 0), (1, 0)],\n",
       "             (0, 3, 0, 0): [(0, 1), (1, 1)],\n",
       "             (0, 3, 0, 2): [(0, 1), (1, 1)],\n",
       "             (0, 3, 1, 0): [(0, 1), (1, 1)],\n",
       "             (0, 3, 1, 2): [(0, 1), (1, 1)],\n",
       "             (0, 3, 2, 0): [(0, 1)],\n",
       "             (0, 3, 2, 2): [(0, 1), (1, 0)],\n",
       "             (0, 3, 3, 0): [(0, 1), (1, 1)],\n",
       "             (0, 3, 3, 2): [(0, 1), (1, 1)],\n",
       "             (0, 3, 0, 3): [(1, 0)],\n",
       "             (1, 0, 1, 0): [(0, 0), (0, 1)],\n",
       "             (1, 0, 1, 1): [(0, 0), (0, 1)],\n",
       "             (1, 0, 1, 2): [(0, 0), (1, 1)],\n",
       "             (1, 0, 1, 3): [(0, 0), (0, 1)],\n",
       "             (1, 0, 3, 1): [(0, 0), (0, 1)],\n",
       "             (1, 0, 3, 2): [(0, 0), (1, 1)],\n",
       "             (1, 0, 3, 3): [(0, 0), (0, 1)],\n",
       "             (1, 0, 0, 2): [(0, 1), (1, 0)],\n",
       "             (1, 0, 2, 2): [(0, 1), (1, 0)],\n",
       "             (1, 0, 3, 0): [(0, 1)],\n",
       "             (1, 0, 0, 0): [(1, 0), (1, 1)],\n",
       "             (1, 0, 0, 1): [(1, 0), (1, 1)],\n",
       "             (1, 0, 0, 3): [(1, 0), (1, 1)],\n",
       "             (1, 0, 2, 0): [(1, 0), (1, 1)],\n",
       "             (1, 0, 2, 1): [(1, 0)],\n",
       "             (1, 0, 2, 3): [(1, 0), (1, 1)],\n",
       "             (1, 1, 0, 0): [(0, 0), (1, 1)],\n",
       "             (1, 1, 0, 2): [(0, 0), (1, 1)],\n",
       "             (1, 1, 1, 1): [(0, 0), (1, 1)],\n",
       "             (1, 1, 1, 3): [(0, 0), (1, 1)],\n",
       "             (1, 1, 2, 0): [(0, 0), (1, 1)],\n",
       "             (1, 1, 2, 2): [(0, 0), (1, 1)],\n",
       "             (1, 1, 3, 1): [(0, 0), (1, 1)],\n",
       "             (1, 1, 3, 3): [(0, 0), (1, 1)],\n",
       "             (1, 1, 0, 1): [(0, 1), (1, 0)],\n",
       "             (1, 1, 0, 3): [(0, 1), (1, 0)],\n",
       "             (1, 1, 1, 0): [(0, 1), (1, 0)],\n",
       "             (1, 1, 1, 2): [(0, 1), (1, 0)],\n",
       "             (1, 1, 2, 1): [(0, 1), (1, 0)],\n",
       "             (1, 1, 2, 3): [(0, 1), (1, 0)],\n",
       "             (1, 1, 3, 0): [(0, 1), (1, 0)],\n",
       "             (1, 1, 3, 2): [(0, 1), (1, 0)],\n",
       "             (1, 2, 0, 1): [(0, 0), (1, 1)],\n",
       "             (1, 2, 0, 3): [(0, 0), (1, 1)],\n",
       "             (1, 2, 1, 0): [(0, 0), (1, 1)],\n",
       "             (1, 2, 1, 2): [(0, 0)],\n",
       "             (1, 2, 2, 1): [(0, 0), (1, 1)],\n",
       "             (1, 2, 2, 3): [(0, 0), (1, 1)],\n",
       "             (1, 2, 3, 0): [(0, 0), (1, 1)],\n",
       "             (1, 2, 3, 2): [(0, 0)],\n",
       "             (1, 2, 0, 0): [(0, 1), (1, 0)],\n",
       "             (1, 2, 1, 1): [(0, 1), (1, 0)],\n",
       "             (1, 2, 1, 3): [(0, 1), (1, 0)],\n",
       "             (1, 2, 2, 0): [(0, 1), (1, 0)],\n",
       "             (1, 2, 3, 1): [(0, 1), (1, 0)],\n",
       "             (1, 2, 3, 3): [(0, 1), (1, 0)],\n",
       "             (1, 2, 0, 2): [(1, 0)],\n",
       "             (1, 3, 0, 2): [(0, 0), (1, 1)],\n",
       "             (1, 3, 1, 1): [(0, 0), (1, 1)],\n",
       "             (1, 3, 1, 3): [(0, 0), (1, 1)],\n",
       "             (1, 3, 2, 0): [(0, 0), (1, 1)],\n",
       "             (1, 3, 2, 2): [(0, 0), (1, 1)],\n",
       "             (1, 3, 3, 1): [(0, 0), (1, 1)],\n",
       "             (1, 3, 3, 3): [(0, 0), (1, 1)],\n",
       "             (1, 3, 0, 1): [(0, 1), (1, 0)],\n",
       "             (1, 3, 0, 3): [(0, 1), (1, 0)],\n",
       "             (1, 3, 1, 0): [(0, 1), (1, 0)],\n",
       "             (1, 3, 1, 2): [(0, 1), (1, 0)],\n",
       "             (1, 3, 2, 1): [(0, 1), (1, 0)],\n",
       "             (1, 3, 2, 3): [(0, 1), (1, 0)],\n",
       "             (1, 3, 3, 0): [(0, 1)],\n",
       "             (1, 3, 3, 2): [(0, 1), (1, 0)],\n",
       "             (1, 3, 0, 0): [(1, 1)],\n",
       "             (2, 0, 0, 0): [(0, 0), (0, 1)],\n",
       "             (2, 0, 0, 1): [(0, 0), (0, 1)],\n",
       "             (2, 0, 0, 2): [(0, 0)],\n",
       "             (2, 0, 0, 3): [(0, 0), (0, 1)],\n",
       "             (2, 0, 2, 0): [(0, 0), (0, 1)],\n",
       "             (2, 0, 2, 1): [(0, 0), (0, 1)],\n",
       "             (2, 0, 2, 2): [(0, 0)],\n",
       "             (2, 0, 2, 3): [(0, 0), (0, 1)],\n",
       "             (2, 0, 1, 2): [(0, 1), (1, 0)],\n",
       "             (2, 0, 3, 2): [(0, 1), (1, 0)],\n",
       "             (2, 0, 1, 1): [(1, 0), (1, 1)],\n",
       "             (2, 0, 1, 3): [(1, 0), (1, 1)],\n",
       "             (2, 0, 3, 1): [(1, 0)],\n",
       "             (2, 0, 3, 3): [(1, 0), (1, 1)],\n",
       "             (2, 0, 1, 0): [(1, 1)],\n",
       "             (2, 0, 3, 0): [(1, 1)],\n",
       "             (2, 1, 0, 1): [(0, 0)],\n",
       "             (2, 1, 0, 3): [(0, 0)],\n",
       "             (2, 1, 1, 0): [(0, 0), (1, 1)],\n",
       "             (2, 1, 1, 2): [(0, 0), (1, 1)],\n",
       "             (2, 1, 2, 1): [(0, 0)],\n",
       "             (2, 1, 2, 3): [(0, 0)],\n",
       "             (2, 1, 3, 2): [(0, 0), (1, 1)],\n",
       "             (2, 1, 0, 0): [(0, 1)],\n",
       "             (2, 1, 0, 2): [(0, 1)],\n",
       "             (2, 1, 1, 1): [(0, 1), (1, 0)],\n",
       "             (2, 1, 1, 3): [(0, 1), (1, 0)],\n",
       "             (2, 1, 2, 0): [(0, 1)],\n",
       "             (2, 1, 2, 2): [(0, 1)],\n",
       "             (2, 1, 3, 1): [(0, 1), (1, 0)],\n",
       "             (2, 1, 3, 3): [(0, 1), (1, 0)],\n",
       "             (2, 1, 3, 0): [(1, 1)],\n",
       "             (2, 2, 0, 0): [(0, 0), (1, 1)],\n",
       "             (2, 2, 0, 2): [(0, 0), (1, 1)],\n",
       "             (2, 2, 1, 1): [(0, 0), (1, 1)],\n",
       "             (2, 2, 1, 3): [(0, 0), (1, 1)],\n",
       "             (2, 2, 2, 0): [(0, 0), (1, 1)],\n",
       "             (2, 2, 2, 2): [(0, 0), (1, 1)],\n",
       "             (2, 2, 3, 1): [(0, 0), (1, 1)],\n",
       "             (2, 2, 3, 3): [(0, 0), (1, 1)],\n",
       "             (2, 2, 0, 1): [(0, 1), (1, 0)],\n",
       "             (2, 2, 0, 3): [(0, 1), (1, 0)],\n",
       "             (2, 2, 1, 0): [(0, 1), (1, 0)],\n",
       "             (2, 2, 2, 1): [(0, 1), (1, 0)],\n",
       "             (2, 2, 2, 3): [(0, 1), (1, 0)],\n",
       "             (2, 2, 3, 0): [(0, 1), (1, 0)],\n",
       "             (2, 2, 3, 2): [(0, 1), (1, 0)],\n",
       "             (2, 2, 1, 2): [(1, 0)],\n",
       "             (2, 3, 0, 1): [(0, 0), (1, 1)],\n",
       "             (2, 3, 0, 3): [(0, 0), (1, 1)],\n",
       "             (2, 3, 1, 2): [(0, 0), (1, 1)],\n",
       "             (2, 3, 2, 1): [(0, 0), (1, 1)],\n",
       "             (2, 3, 2, 3): [(0, 0), (1, 1)],\n",
       "             (2, 3, 3, 0): [(0, 0), (1, 1)],\n",
       "             (2, 3, 3, 2): [(0, 0), (1, 1)],\n",
       "             (2, 3, 0, 0): [(0, 1), (1, 0)],\n",
       "             (2, 3, 0, 2): [(0, 1), (1, 0)],\n",
       "             (2, 3, 1, 1): [(0, 1), (1, 0)],\n",
       "             (2, 3, 1, 3): [(0, 1), (1, 0)],\n",
       "             (2, 3, 2, 0): [(0, 1), (1, 0)],\n",
       "             (2, 3, 2, 2): [(0, 1), (1, 0)],\n",
       "             (2, 3, 3, 1): [(0, 1)],\n",
       "             (2, 3, 3, 3): [(0, 1), (1, 0)],\n",
       "             (2, 3, 1, 0): [(1, 1)],\n",
       "             (3, 0, 1, 0): [(0, 0), (0, 1)],\n",
       "             (3, 0, 1, 1): [(0, 0), (0, 1)],\n",
       "             (3, 0, 1, 2): [(0, 0)],\n",
       "             (3, 0, 1, 3): [(0, 0), (0, 1)],\n",
       "             (3, 0, 3, 1): [(0, 0), (0, 1)],\n",
       "             (3, 0, 3, 2): [(0, 0), (1, 1)],\n",
       "             (3, 0, 3, 3): [(0, 0), (0, 1)],\n",
       "             (3, 0, 3, 0): [(0, 1)],\n",
       "             (3, 0, 0, 0): [(1, 0), (1, 1)],\n",
       "             (3, 0, 0, 1): [(1, 0), (1, 1)],\n",
       "             (3, 0, 0, 2): [(1, 0)],\n",
       "             (3, 0, 0, 3): [(1, 0), (1, 1)],\n",
       "             (3, 0, 2, 0): [(1, 0), (1, 1)],\n",
       "             (3, 0, 2, 1): [(1, 0), (1, 1)],\n",
       "             (3, 0, 2, 2): [(1, 0)],\n",
       "             (3, 0, 2, 3): [(1, 0), (1, 1)],\n",
       "             (3, 1, 1, 1): [(0, 0), (1, 1)],\n",
       "             (3, 1, 1, 3): [(0, 0), (1, 1)],\n",
       "             (3, 1, 3, 1): [(0, 0), (1, 1)],\n",
       "             (3, 1, 3, 3): [(0, 0), (1, 1)],\n",
       "             (3, 1, 1, 0): [(0, 1)],\n",
       "             (3, 1, 1, 2): [(0, 1)],\n",
       "             (3, 1, 3, 0): [(0, 1)],\n",
       "             (3, 1, 3, 2): [(0, 1), (1, 0)],\n",
       "             (3, 1, 0, 1): [(1, 0)],\n",
       "             (3, 1, 0, 3): [(1, 0)],\n",
       "             (3, 1, 2, 1): [(1, 0)],\n",
       "             (3, 1, 2, 3): [(1, 0)],\n",
       "             (3, 1, 0, 0): [(1, 1)],\n",
       "             (3, 1, 0, 2): [(1, 1)],\n",
       "             (3, 1, 2, 0): [(1, 1)],\n",
       "             (3, 1, 2, 2): [(1, 1)],\n",
       "             (3, 2, 0, 1): [(0, 0), (1, 1)],\n",
       "             (3, 2, 0, 3): [(0, 0), (1, 1)],\n",
       "             (3, 2, 1, 0): [(0, 0), (1, 1)],\n",
       "             (3, 2, 1, 2): [(0, 0), (1, 1)],\n",
       "             (3, 2, 2, 1): [(0, 0), (1, 1)],\n",
       "             (3, 2, 2, 3): [(0, 0), (1, 1)],\n",
       "             (3, 2, 3, 0): [(0, 0), (1, 1)],\n",
       "             (3, 2, 3, 2): [(0, 0), (1, 1)],\n",
       "             (3, 2, 0, 0): [(0, 1), (1, 0)],\n",
       "             (3, 2, 0, 2): [(0, 1), (1, 0)],\n",
       "             (3, 2, 1, 1): [(0, 1), (1, 0)],\n",
       "             (3, 2, 1, 3): [(0, 1), (1, 0)],\n",
       "             (3, 2, 2, 0): [(0, 1), (1, 0)],\n",
       "             (3, 2, 2, 2): [(0, 1), (1, 0)],\n",
       "             (3, 2, 3, 1): [(0, 1), (1, 0)],\n",
       "             (3, 2, 3, 3): [(0, 1), (1, 0)],\n",
       "             (3, 3, 0, 0): [(0, 0), (1, 1)],\n",
       "             (3, 3, 0, 2): [(0, 0), (1, 1)],\n",
       "             (3, 3, 1, 1): [(0, 0), (1, 1)],\n",
       "             (3, 3, 1, 3): [(0, 0), (1, 1)],\n",
       "             (3, 3, 2, 0): [(0, 0), (1, 1)],\n",
       "             (3, 3, 2, 2): [(0, 0), (1, 1)],\n",
       "             (3, 3, 3, 1): [(0, 0), (1, 1)],\n",
       "             (3, 3, 3, 3): [(0, 0), (1, 1)],\n",
       "             (3, 3, 0, 1): [(0, 1), (1, 0)],\n",
       "             (3, 3, 0, 3): [(0, 1), (1, 0)],\n",
       "             (3, 3, 1, 0): [(0, 1), (1, 0)],\n",
       "             (3, 3, 1, 2): [(0, 1), (1, 0)],\n",
       "             (3, 3, 2, 1): [(0, 1), (1, 0)],\n",
       "             (3, 3, 2, 3): [(0, 1), (1, 0)],\n",
       "             (3, 3, 3, 0): [(0, 1), (1, 0)],\n",
       "             (3, 3, 3, 2): [(0, 1), (1, 0)]})"
      ]
     },
     "execution_count": 92,
     "metadata": {},
     "output_type": "execute_result"
    }
   ],
   "source": [
    "indices_dict"
   ]
  },
  {
   "cell_type": "code",
   "execution_count": 96,
   "id": "5cc27f37-b5e7-40e7-a490-6bf971c1f08f",
   "metadata": {},
   "outputs": [
    {
     "data": {
      "text/plain": [
       "41.120000000000005"
      ]
     },
     "execution_count": 96,
     "metadata": {},
     "output_type": "execute_result"
    }
   ],
   "source": [
    "np.sum(np.abs(\n",
    "    np_split_right_unitary_2[:, :, 1, 1, :, :]\n",
    "    + np_split_right_unitary_2[:, :, 0, 0, :, :]\n",
    "))"
   ]
  },
  {
   "cell_type": "code",
   "execution_count": 97,
   "id": "aef71718-b93d-48ff-9e45-6a12eea53ecf",
   "metadata": {},
   "outputs": [
    {
     "data": {
      "text/plain": [
       "35.83"
      ]
     },
     "execution_count": 97,
     "metadata": {},
     "output_type": "execute_result"
    }
   ],
   "source": [
    "np.sum(np.abs(\n",
    "    np_split_right_unitary_2[:, :, 0, 1, :, :]\n",
    "    + np_split_right_unitary_2[:, :, 1, 0, :, :]\n",
    "))"
   ]
  },
  {
   "cell_type": "markdown",
   "id": "b69541b0-5fb6-45c2-99ba-964ee01afe98",
   "metadata": {},
   "source": [
    "These are comparable, and they really shouldn't be..."
   ]
  },
  {
   "cell_type": "code",
   "execution_count": 66,
   "id": "f5b71ef3",
   "metadata": {},
   "outputs": [],
   "source": [
    "X = np_00[(...,)  + (np.newaxis,)*2]*np_JW[(np.newaxis,)*2 + (...,)]\n",
    "X = X[(...,)  + (np.newaxis,)*2]*np_00[(np.newaxis,)*4 + (...,)]"
   ]
  },
  {
   "cell_type": "code",
   "execution_count": 67,
   "id": "49f0f8a3",
   "metadata": {},
   "outputs": [
    {
     "ename": "NameError",
     "evalue": "name 'legs_charges' is not defined",
     "output_type": "error",
     "traceback": [
      "\u001b[0;31m---------------------------------------------------------------------------\u001b[0m",
      "\u001b[0;31mNameError\u001b[0m                                 Traceback (most recent call last)",
      "Cell \u001b[0;32mIn[67], line 3\u001b[0m\n\u001b[1;32m      1\u001b[0m boundary_jw \u001b[38;5;241m=\u001b[39m npc\u001b[38;5;241m.\u001b[39mArray\u001b[38;5;241m.\u001b[39mfrom_ndarray(\n\u001b[1;32m      2\u001b[0m     X,\n\u001b[0;32m----> 3\u001b[0m     \u001b[43mlegs_charges\u001b[49m[:\u001b[38;5;241m-\u001b[39m\u001b[38;5;241m2\u001b[39m],\n\u001b[1;32m      4\u001b[0m     dtype\u001b[38;5;241m=\u001b[39mnp\u001b[38;5;241m.\u001b[39mcomplex128,\n\u001b[1;32m      5\u001b[0m     labels\u001b[38;5;241m=\u001b[39mleg_labels\n\u001b[1;32m      6\u001b[0m )\n\u001b[1;32m      8\u001b[0m right_boundary_jw_3 \u001b[38;5;241m=\u001b[39m right_boundary_jw_3\u001b[38;5;241m.\u001b[39mcombine_legs(\n\u001b[1;32m      9\u001b[0m     [[\u001b[38;5;124m'\u001b[39m\u001b[38;5;124mp0\u001b[39m\u001b[38;5;124m'\u001b[39m, \u001b[38;5;124m'\u001b[39m\u001b[38;5;124mp1\u001b[39m\u001b[38;5;124m'\u001b[39m, \u001b[38;5;124m'\u001b[39m\u001b[38;5;124mp2\u001b[39m\u001b[38;5;124m'\u001b[39m], [\u001b[38;5;124m'\u001b[39m\u001b[38;5;124mp0*\u001b[39m\u001b[38;5;124m'\u001b[39m, \u001b[38;5;124m'\u001b[39m\u001b[38;5;124mp1*\u001b[39m\u001b[38;5;124m'\u001b[39m, \u001b[38;5;124m'\u001b[39m\u001b[38;5;124mp2*\u001b[39m\u001b[38;5;124m'\u001b[39m]]\n\u001b[1;32m     10\u001b[0m )\n",
      "\u001b[0;31mNameError\u001b[0m: name 'legs_charges' is not defined"
     ]
    }
   ],
   "source": [
    "boundary_jw = npc.Array.from_ndarray(\n",
    "    X,\n",
    "    legs_charges[:-2],\n",
    "    dtype=np.complex128,\n",
    "    labels=leg_labels\n",
    ")\n",
    "\n",
    "right_boundary_jw_3 = right_boundary_jw_3.combine_legs(\n",
    "    [['p0', 'p1', 'p2'], ['p0*', 'p1*', 'p2*']]\n",
    ")"
   ]
  },
  {
   "cell_type": "code",
   "execution_count": 420,
   "id": "69611570",
   "metadata": {},
   "outputs": [],
   "source": [
    "def fermion_parity_operator_check_3(operator):\n",
    "    op = (\n",
    "        operator\n",
    "        .transpose(['(p0.p1.p2)', '(p0*.p1*.p2*)'])\n",
    "        .to_ndarray()\n",
    "    )\n",
    "    fp = right_boundary_jw_3.to_ndarray()\n",
    "\n",
    "    transformed_op = fp @ op @ fp\n",
    "\n",
    "    x = np.trace(transformed_op @ (op.T.conj()))\n",
    "    phase = x/np.abs(x)\n",
    "\n",
    "    assert np.isreal(phase)\n",
    "    phase = np.real(phase)\n",
    "\n",
    "    error = np.linalg.norm(\n",
    "        phase*transformed_op - op,\n",
    "        ord='fro'\n",
    "    )\n",
    "\n",
    "    return (phase, error)"
   ]
  },
  {
   "cell_type": "code",
   "execution_count": null,
   "id": "f75bd53d-3893-4c66-9492-89d376e61d5a",
   "metadata": {},
   "outputs": [],
   "source": [
    "# Only works for one layer, one block unitaries...\n",
    "left_phase_error_pair_1 = fermion_parity_operator_check_3(\n",
    "    current_left_unitaries[-1][-1],\n",
    ")\n",
    "right_phase_error_pair_1 = fermion_parity_operator_check_3(\n",
    "    current_right_unitaries[-1][-1]\n",
    ")"
   ]
  }
 ],
 "metadata": {
  "kernelspec": {
   "display_name": "Python 3 (ipykernel)",
   "language": "python",
   "name": "python3"
  },
  "language_info": {
   "codemirror_mode": {
    "name": "ipython",
    "version": 3
   },
   "file_extension": ".py",
   "mimetype": "text/x-python",
   "name": "python",
   "nbconvert_exporter": "python",
   "pygments_lexer": "ipython3",
   "version": "3.11.9"
  }
 },
 "nbformat": 4,
 "nbformat_minor": 5
}
