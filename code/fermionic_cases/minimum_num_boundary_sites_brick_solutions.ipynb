{
 "cells": [
  {
   "cell_type": "markdown",
   "id": "5f2205a4-2c74-4cf5-9ad1-9d65bd13bed2",
   "metadata": {},
   "source": [
    "# Minimum num boundary sites - brick solutions\n",
    "\n",
    "Created 15/09/2025\n",
    "\n",
    "Objectives:\n",
    "* For the fermionic models, find the smallest number of sites required for the boundary operators to succesfully read out the SPT phase.\n",
    "Based off [this notebook](non_trivial_models_boundary_operators.ipynb)."
   ]
  },
  {
   "cell_type": "markdown",
   "id": "9ad0db4d-805c-4403-9d48-c71d523d572f",
   "metadata": {},
   "source": [
    "# Package imports"
   ]
  },
  {
   "cell_type": "code",
   "execution_count": 1,
   "id": "ecb41ea3-927f-4efa-aebe-ce15784aa037",
   "metadata": {},
   "outputs": [],
   "source": [
    "import sys\n",
    "sys.path.append('../')"
   ]
  },
  {
   "cell_type": "code",
   "execution_count": 2,
   "id": "4a525ec6-f0c8-47ee-8b0b-345bf0ef8bd3",
   "metadata": {},
   "outputs": [],
   "source": [
    "import h5py\n",
    "from tenpy.tools import hdf5_io\n",
    "import tenpy\n",
    "import tenpy.linalg.np_conserved as npc\n",
    "\n",
    "import os\n",
    "import pickle"
   ]
  },
  {
   "cell_type": "code",
   "execution_count": 3,
   "id": "214f688a-c657-4810-b4d1-b1247deff62c",
   "metadata": {},
   "outputs": [],
   "source": [
    "import numpy as np\n",
    "import pandas as pd\n",
    "\n",
    "import matplotlib.pyplot as plt\n",
    "import matplotlib\n",
    "from matplotlib.ticker import AutoMinorLocator, MultipleLocator"
   ]
  },
  {
   "cell_type": "code",
   "execution_count": 4,
   "id": "11d5f5ee-50dc-4446-aa69-0706b5eda5ba",
   "metadata": {},
   "outputs": [],
   "source": [
    "from tqdm import tqdm"
   ]
  },
  {
   "cell_type": "code",
   "execution_count": 5,
   "id": "b8dec68d-a5b3-4383-ab44-567a9a5981b3",
   "metadata": {},
   "outputs": [],
   "source": [
    "from SPTOptimization.SymmetryActionWithBoundaryUnitaries import SymmetryActionWithBoundaryUnitaries\n",
    "\n",
    "from SPTOptimization.utils import (\n",
    "    to_npc_array,\n",
    "    get_right_identity_environment,\n",
    "    get_right_identity_environment_from_tp_tensor,\n",
    "    multiply_stacked_unitaries_against_mps,\n",
    "    inner_product_b_tensors,\n",
    "    get_npc_identity_operator\n",
    ")\n",
    "\n",
    "from SPTOptimization.Optimizers.MPSBrickSolver import(\n",
    "    MPSBrickSolver\n",
    ")"
   ]
  },
  {
   "cell_type": "markdown",
   "id": "c69a8a47-e298-4c4c-97f7-a6157da4e15f",
   "metadata": {},
   "source": [
    "# Load data"
   ]
  },
  {
   "cell_type": "code",
   "execution_count": 6,
   "id": "210d7dcc-b7ae-4f06-8429-84177bec47d3",
   "metadata": {},
   "outputs": [],
   "source": [
    "DATA_DIR_1 = r\"../data/interpolated_trivial_to_nontrivial_fermionic_trivial_proj_rep_200_site_dmrg/\"\n",
    "DATA_DIR_2 = r\"../data/interpolated_nontrivial_fermionic_proj_rep_to_nontrivial_proj_rep_200_site_dmrg/\""
   ]
  },
  {
   "cell_type": "code",
   "execution_count": 7,
   "id": "ae809e74-d444-4db4-88ff-7538f6110d08",
   "metadata": {},
   "outputs": [],
   "source": [
    "def parse_file_name(file_name):\n",
    "    interpolation = int(file_name.split('_')[0])/100\n",
    "\n",
    "    return interpolation"
   ]
  },
  {
   "cell_type": "code",
   "execution_count": 8,
   "id": "e09f07cf-8441-4c7e-90b8-dbc8c61311f2",
   "metadata": {},
   "outputs": [],
   "source": [
    "loaded_data_triv_proj_rep = dict()\n",
    "energies_triv_proj_rep = dict()\n",
    "\n",
    "for local_file_name in list(os.walk(DATA_DIR_1))[0][2]:\n",
    "    f_name = r\"{}/{}\".format(DATA_DIR_1, local_file_name, ignore_unknown=False)\n",
    "    with h5py.File(f_name, 'r') as f:\n",
    "        data = hdf5_io.load_from_hdf5(f)\n",
    "\n",
    "        data_info = parse_file_name(local_file_name)\n",
    "        loaded_data_triv_proj_rep[data_info]=data['wavefunction']\n",
    "        energies_triv_proj_rep[data_info]=data['energy']"
   ]
  },
  {
   "cell_type": "code",
   "execution_count": 9,
   "id": "38dd3540-a84f-4ca7-b7a8-68ed1b0be4e2",
   "metadata": {},
   "outputs": [],
   "source": [
    "loaded_data_non_triv_proj_rep = dict()\n",
    "energies_non_triv_proj_rep = dict()\n",
    "\n",
    "for local_file_name in list(os.walk(DATA_DIR_2))[0][2]:\n",
    "    f_name = r\"{}/{}\".format(DATA_DIR_2, local_file_name, ignore_unknown=False)\n",
    "\n",
    "    with h5py.File(f_name, 'r') as f:\n",
    "        data = hdf5_io.load_from_hdf5(f)\n",
    "\n",
    "        data_info = parse_file_name(local_file_name)\n",
    "        loaded_data_non_triv_proj_rep[data_info]=data['wavefunction']\n",
    "        energies_non_triv_proj_rep[data_info]=data['energy']"
   ]
  },
  {
   "cell_type": "markdown",
   "id": "b4c1e616-c034-404b-b59e-196d1eaac475",
   "metadata": {},
   "source": [
    "# Definitons"
   ]
  },
  {
   "cell_type": "code",
   "execution_count": 10,
   "id": "63506364-f535-4c0f-8c5f-8839c69f7b9d",
   "metadata": {},
   "outputs": [],
   "source": [
    "MAX_VIRTUAL_BOND_DIM = 30\n",
    "MAX_INTERMEDIATE_VIRTUAL_BOND_DIM = 2*MAX_VIRTUAL_BOND_DIM\n",
    "# MPO bond dim?\n",
    "MAX_MPO_BOND_DIM = 50\n",
    "\n",
    "SVD_CUTOFF = 1e-3"
   ]
  },
  {
   "cell_type": "markdown",
   "id": "1efd18d4-328d-43dd-996d-393f18eb02b2",
   "metadata": {},
   "source": [
    "Define bosonic symmetries. Label by the group element added."
   ]
  },
  {
   "cell_type": "code",
   "execution_count": 11,
   "id": "513d7288-c641-4071-a4a3-652787d1f98c",
   "metadata": {},
   "outputs": [],
   "source": [
    "np_00 = np.array([\n",
    "    [1, 0, 0, 0],\n",
    "    [0, 1, 0, 0],\n",
    "    [0, 0, 1, 0],\n",
    "    [0, 0, 0, 1]\n",
    "])\n",
    "\n",
    "np_01 = np.array([\n",
    "    [0, 1, 0, 0],\n",
    "    [1, 0, 0, 0],\n",
    "    [0, 0, 0, 1],\n",
    "    [0, 0, 1, 0]\n",
    "])\n",
    "\n",
    "np_10 = np.array([\n",
    "    [0, 0, 1, 0],\n",
    "    [0, 0, 0, 1],\n",
    "    [1, 0, 0, 0],\n",
    "    [0, 1, 0, 0]\n",
    "])\n",
    "\n",
    "np_11 = np.array([\n",
    "    [0, 0, 0, 1],\n",
    "    [0, 0, 1, 0],\n",
    "    [0, 1, 0, 0],\n",
    "    [1, 0, 0, 0]\n",
    "])"
   ]
  },
  {
   "cell_type": "code",
   "execution_count": 12,
   "id": "c83907c6-e86f-48af-a2a1-11b250f47e84",
   "metadata": {},
   "outputs": [],
   "source": [
    "bosonic_np_symmetries = [\n",
    "    np_00,\n",
    "    np_01,\n",
    "    np_10,\n",
    "    np_11\n",
    "]"
   ]
  },
  {
   "cell_type": "code",
   "execution_count": 13,
   "id": "fd7c7309-10ee-4834-b153-9a4121462fca",
   "metadata": {},
   "outputs": [],
   "source": [
    "bosonic_npc_symmetries = [\n",
    "    to_npc_array(X) for X in bosonic_np_symmetries\n",
    "]"
   ]
  },
  {
   "cell_type": "code",
   "execution_count": 14,
   "id": "2a78a62e-37eb-4baf-98ba-d6a94d599bec",
   "metadata": {},
   "outputs": [],
   "source": [
    "npc_00 = to_npc_array(np_00)\n",
    "npc_01 = to_npc_array(np_01)\n",
    "npc_10 = to_npc_array(np_10)\n",
    "npc_11 = to_npc_array(np_11)"
   ]
  },
  {
   "cell_type": "markdown",
   "id": "1ecddc96-798a-416b-b0b4-d9ea9e25cfca",
   "metadata": {},
   "source": [
    "Define \"fermionic symmetries\". Just identity and JW string."
   ]
  },
  {
   "cell_type": "code",
   "execution_count": 15,
   "id": "a1c64bf0-4b2e-4492-b242-3dae6eb527c3",
   "metadata": {},
   "outputs": [],
   "source": [
    "np_I = np.array([\n",
    "    [1, 0],\n",
    "    [0, 1]\n",
    "])\n",
    "\n",
    "np_JW = np.array([\n",
    "    [1, 0],\n",
    "    [0, -1]\n",
    "])"
   ]
  },
  {
   "cell_type": "code",
   "execution_count": 16,
   "id": "e595ca13-740a-41a3-a658-8831c8f54323",
   "metadata": {},
   "outputs": [],
   "source": [
    "fermionic_np_symmetries = [np_I, np_JW]"
   ]
  },
  {
   "cell_type": "code",
   "execution_count": 17,
   "id": "6e5b6ad0-2496-4072-afe9-c41fc62da40e",
   "metadata": {},
   "outputs": [],
   "source": [
    "fermionic_npc_symmetries = [\n",
    "    to_npc_array(X) for X in fermionic_np_symmetries\n",
    "]"
   ]
  },
  {
   "cell_type": "code",
   "execution_count": 18,
   "id": "a2b43b48-e438-4702-8287-f5d27fc47f7b",
   "metadata": {},
   "outputs": [],
   "source": [
    "npc_JW = fermionic_npc_symmetries[1]"
   ]
  },
  {
   "cell_type": "code",
   "execution_count": 19,
   "id": "b9e2f954-c591-4479-ba37-32862c25c660",
   "metadata": {},
   "outputs": [],
   "source": [
    "symmetry_actions = [\n",
    "    [[b, f] for b in bosonic_np_symmetries]\n",
    "    for f in fermionic_np_symmetries\n",
    "]"
   ]
  },
  {
   "cell_type": "code",
   "execution_count": 20,
   "id": "8c945b86-cec1-4b08-930f-1922b7e1bea6",
   "metadata": {},
   "outputs": [],
   "source": [
    "shifted_symmetry_actions = [\n",
    "    [[f, b] for b in bosonic_np_symmetries]\n",
    "    for f in fermionic_np_symmetries\n",
    "]"
   ]
  },
  {
   "cell_type": "code",
   "execution_count": 21,
   "id": "ac19b501-4293-4d08-8bb0-35515cd6a093",
   "metadata": {},
   "outputs": [],
   "source": [
    "cases_triv_proj_rep = dict()\n",
    "\n",
    "for k, psi in loaded_data_triv_proj_rep.items():\n",
    "\n",
    "    for i, l in enumerate(symmetry_actions):\n",
    "\n",
    "        for j, s in enumerate(l):\n",
    "            case = SymmetryActionWithBoundaryUnitaries(\n",
    "                psi,\n",
    "                s*40,\n",
    "                left_symmetry_index=60,\n",
    "                left_boundary_unitaries=[np_I, np_00]*1,\n",
    "                right_boundary_unitaries=[np_00, np_I]*1\n",
    "            )\n",
    "\n",
    "            cases_triv_proj_rep[(k, i, j)] = case"
   ]
  },
  {
   "cell_type": "code",
   "execution_count": 22,
   "id": "8e7ff810-32b3-4163-9b1b-ca96a282a7f5",
   "metadata": {},
   "outputs": [],
   "source": [
    "for c in cases_triv_proj_rep.values():\n",
    "    c.compute_svd_approximate_expectation()"
   ]
  },
  {
   "cell_type": "code",
   "execution_count": 23,
   "id": "d5a75573-aebb-4b9c-904f-342f9f57c345",
   "metadata": {},
   "outputs": [],
   "source": [
    "cases_non_triv_proj_rep = dict()\n",
    "\n",
    "for k, psi in loaded_data_non_triv_proj_rep.items():\n",
    "\n",
    "    for i, l in enumerate(symmetry_actions):\n",
    "\n",
    "        for j, s in enumerate(l):\n",
    "            case = SymmetryActionWithBoundaryUnitaries(\n",
    "                psi,\n",
    "                s*40,\n",
    "                left_symmetry_index=60,\n",
    "                left_boundary_unitaries=[np_I, np_00]*1,\n",
    "                right_boundary_unitaries=[np_00, np_I]*1\n",
    "            )\n",
    "\n",
    "            cases_non_triv_proj_rep[(k, i, j)] = case"
   ]
  },
  {
   "cell_type": "code",
   "execution_count": 24,
   "id": "8d8df7a6-3e0c-4e4f-bc02-97d989f2c6e1",
   "metadata": {},
   "outputs": [],
   "source": [
    "for c in cases_non_triv_proj_rep.values():\n",
    "    c.compute_svd_approximate_expectation()"
   ]
  },
  {
   "cell_type": "code",
   "execution_count": 25,
   "id": "6bac53fa-b629-46fc-a145-f932a0af6f18",
   "metadata": {},
   "outputs": [],
   "source": [
    "left_trivial_leg_charge = tenpy.linalg.charges.LegCharge(\n",
    "    tenpy.linalg.charges.ChargeInfo([], []),\n",
    "    [0,1],\n",
    "    [[]],\n",
    "    qconj=1\n",
    ")"
   ]
  },
  {
   "cell_type": "code",
   "execution_count": 26,
   "id": "44f34cb7-0888-474b-9483-f4956951fc31",
   "metadata": {},
   "outputs": [],
   "source": [
    "right_trivial_leg_charge = tenpy.linalg.charges.LegCharge(\n",
    "    tenpy.linalg.charges.ChargeInfo([], []),\n",
    "    [0,1],\n",
    "    [[]],\n",
    "    qconj=-1\n",
    ")"
   ]
  },
  {
   "cell_type": "markdown",
   "id": "e54c2e74-e029-4b2c-93b6-f82af0bf42d9",
   "metadata": {},
   "source": [
    "## SPT functions"
   ]
  },
  {
   "cell_type": "code",
   "execution_count": 27,
   "id": "08ce0827-cbc3-4e55-8ac1-4eedc638e598",
   "metadata": {},
   "outputs": [],
   "source": [
    "def calculate_proj_rep_phase(state_g, left_schmidt_values_g, unitary_h,\n",
    "                             state_gh,\n",
    "                             left_environment,\n",
    "                             max_virtual_bond_dim=MAX_VIRTUAL_BOND_DIM):\n",
    "    prod_state, _ = multiply_stacked_unitaries_against_mps(\n",
    "        unitary_h,\n",
    "        state_g,\n",
    "        left_schmidt_values_g,\n",
    "        max_virtual_bond_dim\n",
    "    )\n",
    "\n",
    "    exp = inner_product_b_tensors(prod_state, state_gh, left_environment)\n",
    "\n",
    "    return exp/(np.abs(exp))"
   ]
  },
  {
   "cell_type": "code",
   "execution_count": 28,
   "id": "c70d9c69-1835-424f-8c10-cb95ae528bae",
   "metadata": {},
   "outputs": [],
   "source": [
    "def get_proj_rep_phases(mps_tensors, left_schmidt_values, unitaries,\n",
    "                        left_environment):\n",
    "    mps_dict = {\n",
    "        k: v for k, v in zip(symmetry_labels[1:], mps_tensors)\n",
    "    }\n",
    "\n",
    "    schmidt_vals_dict = {\n",
    "        k: v for k, v in zip(symmetry_labels[1:], left_schmidt_values)\n",
    "    }\n",
    "\n",
    "    unitaries_dict = {\n",
    "        k: v for k, v in zip(symmetry_labels[1:], unitaries)\n",
    "    }\n",
    "\n",
    "    out_phases = list()\n",
    "\n",
    "    for a, b, c in group_products:\n",
    "        phase = calculate_proj_rep_phase(\n",
    "            mps_dict[a],\n",
    "            schmidt_vals_dict[a],\n",
    "            unitaries_dict[b],\n",
    "            mps_dict[c],\n",
    "            left_environment,\n",
    "            max_virtual_bond_dim=MAX_VIRTUAL_BOND_DIM\n",
    "        )\n",
    "\n",
    "        out_phases.append(phase)\n",
    "\n",
    "    return out_phases"
   ]
  },
  {
   "cell_type": "code",
   "execution_count": 29,
   "id": "b40284a8-1f34-4211-a005-eb880a846972",
   "metadata": {},
   "outputs": [],
   "source": [
    "def get_right_proj_rep_phases_from_optimizers(optimizers):\n",
    "    mps_tensors = [\n",
    "        o.top_right_mps_tensors\n",
    "        for o in optimizers[1:]\n",
    "    ]\n",
    "\n",
    "    left_schmidt_values = [\n",
    "        o.current_right_side_left_schmidt_values\n",
    "        for o in optimizers[1:]\n",
    "    ]\n",
    "\n",
    "    unitaries = [\n",
    "        o.right_unitaries for o in optimizers[1:]\n",
    "    ]\n",
    "\n",
    "    left_environment = optimizers[0].right_side_left_symmetry_environment\n",
    "\n",
    "    out = get_proj_rep_phases(\n",
    "        mps_tensors,\n",
    "        left_schmidt_values,\n",
    "        unitaries,\n",
    "        left_environment\n",
    "    )\n",
    "\n",
    "    return out"
   ]
  },
  {
   "cell_type": "code",
   "execution_count": 30,
   "id": "1d8841a9-e8fd-441e-a997-cc5c3433de4c",
   "metadata": {},
   "outputs": [],
   "source": [
    "def get_left_proj_rep_phases_from_optimizers(optimizers):\n",
    "    mps_tensors = [\n",
    "        o.top_left_mps_tensors\n",
    "        for o in optimizers[1:]\n",
    "    ]\n",
    "\n",
    "    left_schmidt_values = [\n",
    "        o.current_left_side_right_schmidt_values\n",
    "        for o in optimizers[1:]\n",
    "    ]\n",
    "\n",
    "    unitaries = [\n",
    "        o.left_unitaries for o in optimizers[1:]\n",
    "    ]\n",
    "\n",
    "    left_environment = optimizers[0].left_side_right_symmetry_environment\n",
    "\n",
    "    out = get_proj_rep_phases(\n",
    "        mps_tensors,\n",
    "        left_schmidt_values,\n",
    "        unitaries,\n",
    "        left_environment\n",
    "    )\n",
    "\n",
    "    return out"
   ]
  },
  {
   "cell_type": "markdown",
   "id": "f6407652-a916-40ec-8e56-650ef3c4cd5d",
   "metadata": {},
   "source": [
    "## Group data definitions"
   ]
  },
  {
   "cell_type": "code",
   "execution_count": 31,
   "id": "23e62c10-6c32-4ee4-9cde-ac7f05c69d7f",
   "metadata": {},
   "outputs": [],
   "source": [
    "from itertools import combinations"
   ]
  },
  {
   "cell_type": "code",
   "execution_count": 32,
   "id": "10721838-5776-4da8-9618-01dd30494f13",
   "metadata": {},
   "outputs": [],
   "source": [
    "symmetry_labels = [\n",
    "    'II',\n",
    "    'IX',\n",
    "    'XI',\n",
    "    'XX'\n",
    "]"
   ]
  },
  {
   "cell_type": "code",
   "execution_count": 33,
   "id": "d1cd215b-c62c-405e-9adc-9a97db7142e2",
   "metadata": {},
   "outputs": [],
   "source": [
    "symmetry_combination_labels = list(combinations(symmetry_labels, 2))"
   ]
  },
  {
   "cell_type": "code",
   "execution_count": 34,
   "id": "45a081ff-eb82-4ff5-9700-55f11824f366",
   "metadata": {},
   "outputs": [
    {
     "data": {
      "text/plain": [
       "[('II', 'IX'),\n",
       " ('II', 'XI'),\n",
       " ('II', 'XX'),\n",
       " ('IX', 'XI'),\n",
       " ('IX', 'XX'),\n",
       " ('XI', 'XX')]"
      ]
     },
     "execution_count": 34,
     "metadata": {},
     "output_type": "execute_result"
    }
   ],
   "source": [
    "symmetry_combination_labels"
   ]
  },
  {
   "cell_type": "code",
   "execution_count": 35,
   "id": "aab20cf0-ae51-4603-9192-5ba0741b6a6d",
   "metadata": {},
   "outputs": [],
   "source": [
    "e, a, b, c = symmetry_labels"
   ]
  },
  {
   "cell_type": "code",
   "execution_count": 36,
   "id": "955bfb99-9c73-4794-b14e-f62f7872abe5",
   "metadata": {},
   "outputs": [],
   "source": [
    "group_products = [\n",
    "    (a, b, c),\n",
    "    (b, a, c),\n",
    "    (a, c, b),\n",
    "    (c, a, b),\n",
    "    (c, b, a),\n",
    "    (b, c, a)\n",
    "]"
   ]
  },
  {
   "cell_type": "code",
   "execution_count": 37,
   "id": "d1e764db-d3cd-4216-9d5e-c5ddad7893f3",
   "metadata": {},
   "outputs": [],
   "source": [
    "symmetry_pair_labels = [\n",
    "    a + ',' + b,\n",
    "    a + ',' + c,\n",
    "    c + ',' + b\n",
    "]"
   ]
  },
  {
   "cell_type": "markdown",
   "id": "a8d73e19-9829-45b4-9469-c38cd95df93e",
   "metadata": {},
   "source": [
    "# Calculate boundary operators"
   ]
  },
  {
   "cell_type": "code",
   "execution_count": 40,
   "id": "34aeac0a-eb4b-4df2-98a0-5c43a7af7b18",
   "metadata": {},
   "outputs": [],
   "source": [
    "sub_cases_triv_proj_rep = {\n",
    "    k: v for k, v in cases_triv_proj_rep.items()\n",
    "    if (k[0] in [0.45, 0.55])\n",
    "}\n",
    "\n",
    "sub_cases_non_triv_proj_rep = {\n",
    "    k: v for k, v in cases_non_triv_proj_rep.items()\n",
    "    if (k[0] in [0.45, 0.55])\n",
    "}"
   ]
  },
  {
   "cell_type": "code",
   "execution_count": 63,
   "id": "a8c16338-cc25-4baa-8aee-23a4c23f7e5a",
   "metadata": {},
   "outputs": [],
   "source": [
    "block_width = 3\n",
    "num_one_sided_iterations = 3\n",
    "num_two_sided_iterations = 3\n",
    "num_layers = 4\n",
    "num_sites_array = list(range(1, 7))\n",
    "max_virtual_bond_dim = 30"
   ]
  },
  {
   "cell_type": "code",
   "execution_count": 64,
   "id": "7473af0e-2191-47d7-84a1-40c3e2a787cb",
   "metadata": {},
   "outputs": [],
   "source": [
    "optimizer_dict_triv_proj_rep = dict()\n",
    "\n",
    "for num_sites in num_sites_array:\n",
    "    for k, v in sub_cases_triv_proj_rep.items():\n",
    "        opt = MPSBrickSolver(\n",
    "            v,\n",
    "            num_sites,\n",
    "            block_width,\n",
    "            num_layers,\n",
    "            num_one_sided_iterations,\n",
    "            num_two_sided_iterations,\n",
    "            max_virtual_bond_dim=max_virtual_bond_dim\n",
    "        )\n",
    "\n",
    "        opt.optimise()\n",
    "    \n",
    "        optimizer_dict_triv_proj_rep[(num_sites, *k)] = opt"
   ]
  },
  {
   "cell_type": "code",
   "execution_count": 65,
   "id": "8a390d78-505c-49b2-a2ca-0559ed65dca5",
   "metadata": {},
   "outputs": [],
   "source": [
    "optimizer_dict_non_triv_proj_rep = dict()\n",
    "\n",
    "for num_sites in num_sites_array:\n",
    "    for k, v in sub_cases_non_triv_proj_rep.items():\n",
    "        opt = MPSBrickSolver(\n",
    "            v,\n",
    "            num_sites,\n",
    "            block_width,\n",
    "            num_layers,\n",
    "            num_one_sided_iterations,\n",
    "            num_two_sided_iterations,\n",
    "            max_virtual_bond_dim=max_virtual_bond_dim\n",
    "        )\n",
    "\n",
    "        opt.optimise()\n",
    "    \n",
    "        optimizer_dict_non_triv_proj_rep[(num_sites, *k)] = opt"
   ]
  },
  {
   "cell_type": "markdown",
   "id": "3ca04f85-a118-4783-aefe-6938320a265d",
   "metadata": {},
   "source": [
    "## Expectations"
   ]
  },
  {
   "cell_type": "code",
   "execution_count": 66,
   "id": "5ad411c2-46ce-47f5-a667-8d595d0d22d3",
   "metadata": {},
   "outputs": [],
   "source": [
    "final_exps_triv_proj_rep = dict()\n",
    "\n",
    "for k, v in optimizer_dict_triv_proj_rep.items():\n",
    "    final_exp = v.flatten_exps()[-1]\n",
    "    final_exps_triv_proj_rep[k] = final_exp"
   ]
  },
  {
   "cell_type": "code",
   "execution_count": 70,
   "id": "51193ad9-a068-440f-b082-49c0a5c8341c",
   "metadata": {},
   "outputs": [],
   "source": [
    "final_exps_non_triv_proj_rep = dict()\n",
    "\n",
    "for k, v in optimizer_dict_non_triv_proj_rep.items():\n",
    "    final_exp = v.flatten_exps()[-1]\n",
    "    final_exps_non_triv_proj_rep[k] = final_exp"
   ]
  },
  {
   "cell_type": "code",
   "execution_count": 67,
   "id": "46ab9b83-d7e4-4bec-8f58-9b9826696f92",
   "metadata": {},
   "outputs": [
    {
     "data": {
      "text/plain": [
       "<matplotlib.legend.Legend at 0x349ab6dd0>"
      ]
     },
     "execution_count": 67,
     "metadata": {},
     "output_type": "execute_result"
    },
    {
     "data": {
      "image/png": "[encoded data removed]",
      "text/plain": [
       "<Figure size 600x400 with 1 Axes>"
      ]
     },
     "metadata": {},
     "output_type": "display_data"
    }
   ],
   "source": [
    "fig, ax = plt.subplots(figsize=(6, 4))\n",
    "\n",
    "for i in range(4):\n",
    "    l = [final_exps_triv_proj_rep[(n, 0.45, 0, i)] for n in num_sites_array]\n",
    "    ax.plot(num_sites_array, l, label=i)\n",
    "\n",
    "ax.legend()"
   ]
  },
  {
   "cell_type": "code",
   "execution_count": 68,
   "id": "1581bed0-b74f-4e44-b29b-e1f6dc4355e7",
   "metadata": {},
   "outputs": [
    {
     "data": {
      "text/plain": [
       "<matplotlib.legend.Legend at 0x349b51a50>"
      ]
     },
     "execution_count": 68,
     "metadata": {},
     "output_type": "execute_result"
    },
    {
     "data": {
      "image/png": "[encoded data removed]",
      "text/plain": [
       "<Figure size 600x400 with 1 Axes>"
      ]
     },
     "metadata": {},
     "output_type": "display_data"
    }
   ],
   "source": [
    "fig, ax = plt.subplots(figsize=(6, 4))\n",
    "\n",
    "for i in range(4):\n",
    "    l = [final_exps_triv_proj_rep[(n, 0.55, 0, i)] for n in num_sites_array]\n",
    "    ax.plot(num_sites_array, l, label=i)\n",
    "\n",
    "ax.legend()"
   ]
  },
  {
   "cell_type": "code",
   "execution_count": 71,
   "id": "7f1f66df-9fad-41a9-bcb1-927edb7f970e",
   "metadata": {},
   "outputs": [
    {
     "data": {
      "text/plain": [
       "<matplotlib.legend.Legend at 0x349c5eb90>"
      ]
     },
     "execution_count": 71,
     "metadata": {},
     "output_type": "execute_result"
    },
    {
     "data": {
      "image/png": "[encoded data removed]",
      "text/plain": [
       "<Figure size 600x400 with 1 Axes>"
      ]
     },
     "metadata": {},
     "output_type": "display_data"
    }
   ],
   "source": [
    "fig, ax = plt.subplots(figsize=(6, 4))\n",
    "\n",
    "for i in range(4):\n",
    "    l = [final_exps_non_triv_proj_rep[(n, 0.45, 0, i)] for n in num_sites_array]\n",
    "    ax.plot(num_sites_array, l, label=i)\n",
    "\n",
    "ax.legend()"
   ]
  },
  {
   "cell_type": "code",
   "execution_count": 73,
   "id": "713d83ca-87da-44ea-b79c-3cc33541443f",
   "metadata": {},
   "outputs": [
    {
     "data": {
      "text/plain": [
       "<matplotlib.legend.Legend at 0x349d69a50>"
      ]
     },
     "execution_count": 73,
     "metadata": {},
     "output_type": "execute_result"
    },
    {
     "data": {
      "image/png": "[encoded data removed]",
      "text/plain": [
       "<Figure size 600x400 with 1 Axes>"
      ]
     },
     "metadata": {},
     "output_type": "display_data"
    }
   ],
   "source": [
    "fig, ax = plt.subplots(figsize=(6, 4))\n",
    "\n",
    "for i in range(4):\n",
    "    l = [final_exps_non_triv_proj_rep[(n, 0.55, 0, i)] for n in num_sites_array]\n",
    "    ax.plot(num_sites_array, l, label=i)\n",
    "\n",
    "ax.legend()"
   ]
  },
  {
   "cell_type": "markdown",
   "id": "e595cdfd-d37a-4f04-861d-96c31e2f9a70",
   "metadata": {},
   "source": [
    "## 2 site boundary operators"
   ]
  },
  {
   "cell_type": "markdown",
   "id": "ae6a6ef2-3d9d-4f12-8460-8c57492bbb3d",
   "metadata": {},
   "source": [
    "Try with just two sites."
   ]
  },
  {
   "cell_type": "code",
   "execution_count": 74,
   "id": "9eed4269-9b27-441c-ac08-afd4bc6033b4",
   "metadata": {},
   "outputs": [],
   "source": [
    "block_width = 2\n",
    "num_one_sided_iterations = 3\n",
    "num_two_sided_iterations = 3\n",
    "num_layers = 1\n",
    "num_sites = 2\n",
    "max_virtual_bond_dim = 30"
   ]
  },
  {
   "cell_type": "code",
   "execution_count": 86,
   "id": "923855ec-1f73-4e41-9829-6aead66ef2a6",
   "metadata": {},
   "outputs": [],
   "source": [
    "optimizer_dict_triv_proj_rep = dict()\n",
    "\n",
    "for k, v in sub_cases_triv_proj_rep.items():\n",
    "    opt = MPSBrickSolver(\n",
    "        v,\n",
    "        num_sites,\n",
    "        block_width,\n",
    "        num_layers,\n",
    "        num_one_sided_iterations,\n",
    "        num_two_sided_iterations,\n",
    "        max_virtual_bond_dim=max_virtual_bond_dim\n",
    "    )\n",
    "\n",
    "    opt.optimise()\n",
    "\n",
    "    optimizer_dict_triv_proj_rep[k] = opt"
   ]
  },
  {
   "cell_type": "code",
   "execution_count": 87,
   "id": "8a32e480-5099-4d4e-9707-242b7182a47b",
   "metadata": {},
   "outputs": [],
   "source": [
    "optimizer_dict_non_triv_proj_rep = dict()\n",
    "\n",
    "for k, v in sub_cases_non_triv_proj_rep.items():\n",
    "    opt = MPSBrickSolver(\n",
    "        v,\n",
    "        num_sites,\n",
    "        block_width,\n",
    "        num_layers,\n",
    "        num_one_sided_iterations,\n",
    "        num_two_sided_iterations,\n",
    "        max_virtual_bond_dim=max_virtual_bond_dim\n",
    "    )\n",
    "\n",
    "    opt.optimise()\n",
    "\n",
    "    optimizer_dict_non_triv_proj_rep[k] = opt"
   ]
  },
  {
   "cell_type": "code",
   "execution_count": 88,
   "id": "729982e7-b9a9-4b63-94d3-0b7e2d7eab19",
   "metadata": {},
   "outputs": [],
   "source": [
    "final_exps_triv_proj_rep = dict()\n",
    "\n",
    "for k, v in optimizer_dict_triv_proj_rep.items():\n",
    "    final_exp = v.flatten_exps()[-1]\n",
    "    final_exps_triv_proj_rep[k] = final_exp"
   ]
  },
  {
   "cell_type": "code",
   "execution_count": 89,
   "id": "76976f82-ccff-49e7-887b-c7c258c84853",
   "metadata": {},
   "outputs": [],
   "source": [
    "final_exps_non_triv_proj_rep = dict()\n",
    "\n",
    "for k, v in optimizer_dict_non_triv_proj_rep.items():\n",
    "    final_exp = v.flatten_exps()[-1]\n",
    "    final_exps_non_triv_proj_rep[k] = final_exp"
   ]
  },
  {
   "cell_type": "code",
   "execution_count": 90,
   "id": "1afc15f1-5f62-42ea-b1da-7f531ab82497",
   "metadata": {},
   "outputs": [
    {
     "data": {
      "text/plain": [
       "{(0.45, 0, 0): 1.0000000000000044,\n",
       " (0.45, 0, 1): 0.6301252448133341,\n",
       " (0.45, 0, 2): 1.000000000000005,\n",
       " (0.45, 0, 3): 0.6301252448133339,\n",
       " (0.45, 1, 0): 0.9200936211243678,\n",
       " (0.45, 1, 1): 0.0003693383392180253,\n",
       " (0.45, 1, 2): 0.9200936211243681,\n",
       " (0.45, 1, 3): 0.00036933833924156993,\n",
       " (0.55, 0, 0): 0.9999999999999989,\n",
       " (0.55, 0, 1): 0.6526209790918024,\n",
       " (0.55, 0, 2): 0.9999999999999984,\n",
       " (0.55, 0, 3): 0.6526209790918024,\n",
       " (0.55, 1, 0): 0.9319586119448048,\n",
       " (0.55, 1, 1): 0.6526209257988926,\n",
       " (0.55, 1, 2): 0.9319586119448043,\n",
       " (0.55, 1, 3): 0.6526209257988931}"
      ]
     },
     "execution_count": 90,
     "metadata": {},
     "output_type": "execute_result"
    }
   ],
   "source": [
    "final_exps_triv_proj_rep"
   ]
  },
  {
   "cell_type": "code",
   "execution_count": 91,
   "id": "69cb96d2-85aa-469a-a765-37c0ed7d6ded",
   "metadata": {},
   "outputs": [
    {
     "data": {
      "text/plain": [
       "{(0.45, 0, 0): 1.0000000000000075,\n",
       " (0.45, 0, 1): 0.40228303022128165,\n",
       " (0.45, 0, 2): 0.4299970080305304,\n",
       " (0.45, 0, 3): 0.5016710265072056,\n",
       " (0.45, 1, 0): 0.9095837712229543,\n",
       " (0.45, 1, 1): 0.38783058912207274,\n",
       " (0.45, 1, 2): 0.42137338739862906,\n",
       " (0.45, 1, 3): 0.5573607955708464,\n",
       " (0.55, 0, 0): 0.9999999999999973,\n",
       " (0.55, 0, 1): 0.838493454909399,\n",
       " (0.55, 0, 2): 0.8420927039614663,\n",
       " (0.55, 0, 3): 0.9154672312823906,\n",
       " (0.55, 1, 0): 0.9205726581087368,\n",
       " (0.55, 1, 1): 0.8132880312443168,\n",
       " (0.55, 1, 2): 0.8344147875246843,\n",
       " (0.55, 1, 3): 0.9125891352227052}"
      ]
     },
     "execution_count": 91,
     "metadata": {},
     "output_type": "execute_result"
    }
   ],
   "source": [
    "final_exps_non_triv_proj_rep"
   ]
  },
  {
   "cell_type": "markdown",
   "id": "f1c8d3eb-71da-44ed-991f-992267105cd0",
   "metadata": {},
   "source": [
    "## Fermionic cohomology"
   ]
  },
  {
   "cell_type": "code",
   "execution_count": 92,
   "id": "3294853c-f2b3-4426-a1a5-295ca4ae9bcb",
   "metadata": {},
   "outputs": [],
   "source": [
    "def right_fp_charge(optimizer):\n",
    "    opt = optimizer\n",
    "\n",
    "    base_bs = opt.bottom_right_mps_tensors\n",
    "\n",
    "    fp_bs = list()\n",
    "    \n",
    "    for i, b in enumerate(base_bs):\n",
    "        # Need to update this logic\n",
    "        if i%2:\n",
    "            b_to_add = npc.tensordot(b, npc_JW, [['p',], ['p*',]])\n",
    "        else:\n",
    "            b_to_add = b\n",
    "    \n",
    "        fp_bs.append(b_to_add)\n",
    "\n",
    "    fp_o_bs, _ = multiply_stacked_unitaries_against_mps(\n",
    "        opt.right_unitaries,\n",
    "        fp_bs,\n",
    "        opt.original_right_side_left_schmidt_values,\n",
    "        opt.max_virtual_bond_dim\n",
    "    )\n",
    "\n",
    "    out = inner_product_b_tensors(\n",
    "        fp_o_bs,\n",
    "        fp_bs,\n",
    "        left_environment=opt.right_side_left_symmetry_environment\n",
    "    )\n",
    "\n",
    "    return out"
   ]
  },
  {
   "cell_type": "code",
   "execution_count": 93,
   "id": "44549e56-a4a9-4e50-b582-f20e95cc73a3",
   "metadata": {},
   "outputs": [
    {
     "name": "stderr",
     "output_type": "stream",
     "text": [
      "100%|█████████████████████████████████████████████████████████████████████████████████████████████████████████| 16/16 [00:00<00:00, 355.39it/s]\n"
     ]
    }
   ],
   "source": [
    "right_fp_triv_proj_rep_charges = dict()\n",
    "\n",
    "for k, v in tqdm(optimizer_dict_triv_proj_rep.items()):\n",
    "    right_fp_triv_proj_rep_charges[k] = right_fp_charge(v)"
   ]
  },
  {
   "cell_type": "code",
   "execution_count": 94,
   "id": "eafef484-0fb7-497d-9081-b1dc4af27de3",
   "metadata": {},
   "outputs": [
    {
     "name": "stderr",
     "output_type": "stream",
     "text": [
      "100%|█████████████████████████████████████████████████████████████████████████████████████████████████████████| 16/16 [00:00<00:00, 320.16it/s]\n"
     ]
    }
   ],
   "source": [
    "right_fp_non_triv_proj_rep_charges = dict()\n",
    "\n",
    "for k, v in tqdm(optimizer_dict_non_triv_proj_rep.items()):\n",
    "    right_fp_non_triv_proj_rep_charges[k] = right_fp_charge(v)"
   ]
  },
  {
   "cell_type": "code",
   "execution_count": 96,
   "id": "9c994865-2d9e-4ff2-8903-b9d89f4667f4",
   "metadata": {},
   "outputs": [],
   "source": [
    "interpolation_values = [0.45, 0.55]"
   ]
  },
  {
   "cell_type": "code",
   "execution_count": 97,
   "id": "44c45c60-eb93-4e3f-a6ea-bccae7b704bf",
   "metadata": {},
   "outputs": [],
   "source": [
    "right_fp_triv_proj_rep_charges_list = list()\n",
    "\n",
    "for t in interpolation_values:\n",
    "    l0 = [right_fp_triv_proj_rep_charges[(t,0,i)] for i in range(4)]\n",
    "    l1 = [right_fp_triv_proj_rep_charges[(t,1,i)] for i in range(4)]\n",
    "    \n",
    "    right_fp_triv_proj_rep_charges_list.append([l0, l1])\n",
    "\n",
    "right_fp_triv_proj_rep_charges_array = np.array(right_fp_triv_proj_rep_charges_list)"
   ]
  },
  {
   "cell_type": "code",
   "execution_count": 102,
   "id": "95c4ea68-cd84-414f-8c3a-f4d931111926",
   "metadata": {},
   "outputs": [
    {
     "data": {
      "text/plain": [
       "array([[[ 1.00000000e+00+0.j, -6.30125245e-01+0.j,  1.00000000e+00+0.j,\n",
       "         -6.30125245e-01+0.j],\n",
       "        [ 9.20093773e-01+0.j, -3.69338339e-04+0.j,  9.20093773e-01+0.j,\n",
       "         -3.69338339e-04+0.j]],\n",
       "\n",
       "       [[ 1.00000000e+00+0.j,  6.52621056e-01+0.j,  1.00000000e+00+0.j,\n",
       "          6.52621056e-01+0.j],\n",
       "        [ 9.31959125e-01+0.j,  6.52621002e-01+0.j,  9.31959125e-01+0.j,\n",
       "          6.52621002e-01+0.j]]])"
      ]
     },
     "execution_count": 102,
     "metadata": {},
     "output_type": "execute_result"
    }
   ],
   "source": [
    "right_fp_triv_proj_rep_charges_array"
   ]
  },
  {
   "cell_type": "code",
   "execution_count": 99,
   "id": "ecf58797-4074-4776-841d-4e5e27c64bfd",
   "metadata": {},
   "outputs": [],
   "source": [
    "right_fp_non_triv_proj_rep_charges_list = list()\n",
    "\n",
    "for t in interpolation_values:\n",
    "    l0 = [right_fp_non_triv_proj_rep_charges[(t,0,i)] for i in range(4)]\n",
    "    l1 = [right_fp_non_triv_proj_rep_charges[(t,1,i)] for i in range(4)]\n",
    "    \n",
    "    right_fp_non_triv_proj_rep_charges_list.append([l0, l1])\n",
    "\n",
    "right_fp_non_triv_proj_rep_charges_array = np.array(right_fp_non_triv_proj_rep_charges_list)"
   ]
  },
  {
   "cell_type": "code",
   "execution_count": 100,
   "id": "b4f4b66c-6c1a-46fe-914d-a5c363042b98",
   "metadata": {},
   "outputs": [
    {
     "data": {
      "text/plain": [
       "array([[[ 1.  ,  0.4 , -0.43, -0.5 ],\n",
       "        [ 0.91,  0.39, -0.42, -0.56]],\n",
       "\n",
       "       [[ 1.  , -0.84,  0.84, -0.92],\n",
       "        [ 0.92, -0.81,  0.83, -0.91]]])"
      ]
     },
     "execution_count": 100,
     "metadata": {},
     "output_type": "execute_result"
    }
   ],
   "source": [
    "np.real(np.round(right_fp_non_triv_proj_rep_charges_array, 2))"
   ]
  },
  {
   "cell_type": "markdown",
   "id": "e0fec070-802f-4a09-bad5-7a565cc67400",
   "metadata": {},
   "source": [
    "## Extract phases"
   ]
  },
  {
   "cell_type": "code",
   "execution_count": 103,
   "id": "7ada020f-cec3-48c7-be6c-0c0f59830abc",
   "metadata": {},
   "outputs": [],
   "source": [
    "right_fp_triv_proj_rep_charges_dict = dict()\n",
    "\n",
    "for i, t in enumerate(interpolation_values):\n",
    "    for j in range(4):\n",
    "        charge = right_fp_triv_proj_rep_charges_array[i, 0, j]\n",
    "        sign_charge = 1 if charge > 0 else -1\n",
    "    \n",
    "        right_fp_triv_proj_rep_charges_dict[(t, j)] = sign_charge"
   ]
  },
  {
   "cell_type": "code",
   "execution_count": 104,
   "id": "e3cba160-5a5e-49c2-a342-9b3bef10b3a2",
   "metadata": {},
   "outputs": [],
   "source": [
    "right_fp_non_triv_proj_rep_charges_dict = dict()\n",
    "\n",
    "for i, t in enumerate(interpolation_values):\n",
    "    for j in range(4):\n",
    "        charge = right_fp_non_triv_proj_rep_charges_array[i, 0, j]\n",
    "        sign_charge = 1 if charge > 0 else -1\n",
    "    \n",
    "        right_fp_non_triv_proj_rep_charges_dict[(t, j)] = sign_charge"
   ]
  },
  {
   "cell_type": "markdown",
   "id": "c2f90cde-04b0-4c86-98c7-2867f18a2dfc",
   "metadata": {},
   "source": [
    "## Left side"
   ]
  },
  {
   "cell_type": "code",
   "execution_count": 105,
   "id": "60d2ea7d-bbf1-4b14-abdc-298553839a2b",
   "metadata": {},
   "outputs": [],
   "source": [
    "def left_fp_charge(optimizer):\n",
    "    opt = optimizer\n",
    "\n",
    "    base_bs = opt.bottom_left_mps_tensors\n",
    "\n",
    "    fp_bs = list()\n",
    "    \n",
    "    for i, b in enumerate(base_bs):\n",
    "        # Need to update this logic\n",
    "        if (i%2 == 0):\n",
    "            b_to_add = npc.tensordot(b, npc_JW, [['p',], ['p*',]])\n",
    "        else:\n",
    "            b_to_add = b\n",
    "    \n",
    "        fp_bs.append(b_to_add)\n",
    "\n",
    "    fp_o_bs, _ = multiply_stacked_unitaries_against_mps(\n",
    "        opt.left_unitaries,\n",
    "        fp_bs,\n",
    "        opt.original_left_side_right_schmidt_values,\n",
    "        opt.max_virtual_bond_dim\n",
    "    )\n",
    "\n",
    "    out = inner_product_b_tensors(\n",
    "        fp_o_bs,\n",
    "        fp_bs,\n",
    "        left_environment=opt.left_side_right_symmetry_environment\n",
    "    )\n",
    "\n",
    "    return out"
   ]
  },
  {
   "cell_type": "code",
   "execution_count": 106,
   "id": "d81ddb6d-6b94-462e-8384-64d77a0d7bc2",
   "metadata": {},
   "outputs": [
    {
     "name": "stderr",
     "output_type": "stream",
     "text": [
      "100%|█████████████████████████████████████████████████████████████████████████████████████████████████████████| 16/16 [00:00<00:00, 228.56it/s]\n"
     ]
    }
   ],
   "source": [
    "left_fp_triv_proj_rep_charges = dict()\n",
    "\n",
    "for k, v in tqdm(optimizer_dict_triv_proj_rep.items()):\n",
    "    left_fp_triv_proj_rep_charges[k] = left_fp_charge(v)"
   ]
  },
  {
   "cell_type": "code",
   "execution_count": 107,
   "id": "e4470248-ce0a-4089-8620-352fe06d947b",
   "metadata": {},
   "outputs": [
    {
     "name": "stderr",
     "output_type": "stream",
     "text": [
      "100%|█████████████████████████████████████████████████████████████████████████████████████████████████████████| 16/16 [00:00<00:00, 288.38it/s]\n"
     ]
    }
   ],
   "source": [
    "left_fp_non_triv_proj_rep_charges = dict()\n",
    "\n",
    "for k, v in tqdm(optimizer_dict_non_triv_proj_rep.items()):\n",
    "    left_fp_non_triv_proj_rep_charges[k] = left_fp_charge(v)"
   ]
  },
  {
   "cell_type": "code",
   "execution_count": 108,
   "id": "9aee878e-47f2-4e4e-90ac-f5a4a0072cfc",
   "metadata": {},
   "outputs": [],
   "source": [
    "left_fp_triv_proj_rep_charges_list = list()\n",
    "\n",
    "for t in interpolation_values:\n",
    "    l0 = [left_fp_triv_proj_rep_charges[(t,0,i)] for i in range(4)]\n",
    "    l1 = [left_fp_triv_proj_rep_charges[(t,1,i)] for i in range(4)]\n",
    "    \n",
    "    left_fp_triv_proj_rep_charges_list.append([l0, l1])\n",
    "\n",
    "left_fp_triv_proj_rep_charges_array = np.array(left_fp_triv_proj_rep_charges_list)"
   ]
  },
  {
   "cell_type": "code",
   "execution_count": 109,
   "id": "8dc54f7d-d219-4659-a216-eedc3e5b68c0",
   "metadata": {},
   "outputs": [],
   "source": [
    "left_fp_non_triv_proj_rep_charges_list = list()\n",
    "\n",
    "for t in interpolation_values:\n",
    "    l0 = [left_fp_non_triv_proj_rep_charges[(t,0,i)] for i in range(4)]\n",
    "    l1 = [left_fp_non_triv_proj_rep_charges[(t,1,i)] for i in range(4)]\n",
    "    \n",
    "    left_fp_non_triv_proj_rep_charges_list.append([l0, l1])\n",
    "\n",
    "left_fp_non_triv_proj_rep_charges_array = np.array(left_fp_non_triv_proj_rep_charges_list)"
   ]
  },
  {
   "cell_type": "code",
   "execution_count": 110,
   "id": "7e7ff6ab-ce4a-43b3-9ac3-501c4df229c4",
   "metadata": {},
   "outputs": [],
   "source": [
    "left_fp_triv_proj_rep_charges_dict = dict()\n",
    "\n",
    "for i, t in enumerate(interpolation_values):\n",
    "    for j in range(4):\n",
    "        charge = left_fp_triv_proj_rep_charges_array[i, 0, j]\n",
    "        sign_charge = 1 if charge > 0 else -1\n",
    "    \n",
    "        left_fp_triv_proj_rep_charges_dict[(t, j)] = sign_charge"
   ]
  },
  {
   "cell_type": "code",
   "execution_count": 111,
   "id": "f4b6b42e-350e-4959-8dae-1731ea61755d",
   "metadata": {},
   "outputs": [],
   "source": [
    "left_fp_non_triv_proj_rep_charges_dict = dict()\n",
    "\n",
    "for i, t in enumerate(interpolation_values):\n",
    "    for j in range(4):\n",
    "        charge = left_fp_non_triv_proj_rep_charges_array[i, 0, j]\n",
    "        sign_charge = 1 if charge > 0 else -1\n",
    "    \n",
    "        left_fp_non_triv_proj_rep_charges_dict[(t, j)] = sign_charge"
   ]
  },
  {
   "cell_type": "code",
   "execution_count": 112,
   "id": "a610d50e-1462-4879-82f2-0b96c040122b",
   "metadata": {},
   "outputs": [
    {
     "data": {
      "text/plain": [
       "(True, True)"
      ]
     },
     "execution_count": 112,
     "metadata": {},
     "output_type": "execute_result"
    }
   ],
   "source": [
    "(\n",
    "    left_fp_triv_proj_rep_charges_dict == right_fp_triv_proj_rep_charges_dict,\n",
    "    left_fp_non_triv_proj_rep_charges_dict == right_fp_non_triv_proj_rep_charges_dict\n",
    ")"
   ]
  },
  {
   "cell_type": "markdown",
   "id": "60a0f11a-a05b-4fe0-985d-994bf6295b34",
   "metadata": {},
   "source": [
    "Great, they agree so we only need one going forward."
   ]
  },
  {
   "cell_type": "markdown",
   "id": "4ba1a571-b982-4ee4-b291-3642f2730f82",
   "metadata": {},
   "source": [
    "Combine into single array."
   ]
  },
  {
   "cell_type": "code",
   "execution_count": 113,
   "id": "0b087a98-40c5-489b-9020-e3b75b6791d0",
   "metadata": {},
   "outputs": [],
   "source": [
    "fp_triv_proj_rep_charges_array = np.stack(\n",
    "    [left_fp_triv_proj_rep_charges_array, right_fp_triv_proj_rep_charges_array],\n",
    "    axis=-1\n",
    ")\n",
    "\n",
    "fp_non_triv_proj_rep_charges_array = np.stack(\n",
    "    [left_fp_non_triv_proj_rep_charges_array, right_fp_non_triv_proj_rep_charges_array],\n",
    "    axis=-1\n",
    ")\n",
    "\n",
    "fp_charges_array = np.stack(\n",
    "    [fp_triv_proj_rep_charges_array, fp_non_triv_proj_rep_charges_array],\n",
    "    axis=0\n",
    ")"
   ]
  },
  {
   "cell_type": "code",
   "execution_count": 116,
   "id": "dba911b0-990d-4e6d-995c-99eec852e941",
   "metadata": {},
   "outputs": [
    {
     "data": {
      "text/plain": [
       "(2, 2, 2, 4, 2)"
      ]
     },
     "execution_count": 116,
     "metadata": {},
     "output_type": "execute_result"
    }
   ],
   "source": [
    "fp_charges_array.shape"
   ]
  },
  {
   "cell_type": "code",
   "execution_count": 117,
   "id": "99a5ca7d-ec0a-4739-95a1-af6e4636813d",
   "metadata": {},
   "outputs": [
    {
     "data": {
      "text/plain": [
       "4.379772788887237e-08"
      ]
     },
     "execution_count": 117,
     "metadata": {},
     "output_type": "execute_result"
    }
   ],
   "source": [
    "np.max(np.abs(fp_charges_array[..., 0] - fp_charges_array[..., 1]))"
   ]
  },
  {
   "cell_type": "code",
   "execution_count": 118,
   "id": "c6b536ad-196b-42af-9c8d-6bde1899afac",
   "metadata": {},
   "outputs": [],
   "source": [
    "fp_charges_array = fp_charges_array[..., 0]"
   ]
  },
  {
   "cell_type": "code",
   "execution_count": 119,
   "id": "cc71192d-3034-4f3b-9def-d741f5ff3ea8",
   "metadata": {},
   "outputs": [
    {
     "data": {
      "text/plain": [
       "0.6297559509676743"
      ]
     },
     "execution_count": 119,
     "metadata": {},
     "output_type": "execute_result"
    }
   ],
   "source": [
    "np.max(np.abs(fp_charges_array[..., 0, :] - fp_charges_array[..., 1, :]))"
   ]
  },
  {
   "cell_type": "code",
   "execution_count": 120,
   "id": "159c4475-7edd-434c-a6cc-ece186ab8d1b",
   "metadata": {},
   "outputs": [
    {
     "data": {
      "text/plain": [
       "1.6532535742558982e-05"
      ]
     },
     "execution_count": 120,
     "metadata": {},
     "output_type": "execute_result"
    }
   ],
   "source": [
    "np.max(np.abs(np.imag(fp_charges_array)))"
   ]
  },
  {
   "cell_type": "code",
   "execution_count": 121,
   "id": "44bbe129-baaf-4d37-8d43-0810a5ca3461",
   "metadata": {},
   "outputs": [],
   "source": [
    "fp_charges_array = np.real(fp_charges_array)"
   ]
  },
  {
   "cell_type": "code",
   "execution_count": 122,
   "id": "a9c9fe57-1c79-43d4-a0cb-af9f56719b27",
   "metadata": {},
   "outputs": [
    {
     "data": {
      "text/plain": [
       "0.00036933764338752974"
      ]
     },
     "execution_count": 122,
     "metadata": {},
     "output_type": "execute_result"
    }
   ],
   "source": [
    "np.min(np.abs(fp_charges_array))"
   ]
  },
  {
   "cell_type": "code",
   "execution_count": 123,
   "id": "4d07db3a-89f8-469f-a4c7-9a1f84ea2cf1",
   "metadata": {},
   "outputs": [
    {
     "data": {
      "text/plain": [
       "(2, 2, 2, 4)"
      ]
     },
     "execution_count": 123,
     "metadata": {},
     "output_type": "execute_result"
    }
   ],
   "source": [
    "fp_charges_array.shape"
   ]
  },
  {
   "cell_type": "code",
   "execution_count": 124,
   "id": "dfd938b9-d09c-4bd3-825c-102fad7d7041",
   "metadata": {},
   "outputs": [
    {
     "data": {
      "text/plain": [
       "array([[[[ 1.00000000e+00, -6.30125289e-01,  1.00000000e+00,\n",
       "          -6.30125289e-01],\n",
       "         [ 9.20093779e-01, -3.69337643e-04,  9.20093779e-01,\n",
       "          -3.69337643e-04]],\n",
       "\n",
       "        [[ 1.00000000e+00,  6.52621062e-01,  1.00000000e+00,\n",
       "           6.52621062e-01],\n",
       "         [ 9.31959146e-01,  6.52621005e-01,  9.31959146e-01,\n",
       "           6.52621005e-01]]],\n",
       "\n",
       "\n",
       "       [[[ 1.00000000e+00,  4.02283030e-01, -4.29994107e-01,\n",
       "          -5.01671027e-01],\n",
       "         [ 9.09584109e-01,  3.87830589e-01, -4.21374080e-01,\n",
       "          -5.57361203e-01]],\n",
       "\n",
       "        [[ 1.00000000e+00, -8.38493455e-01,  8.42092704e-01,\n",
       "          -9.15467231e-01],\n",
       "         [ 9.20573352e-01, -8.13288031e-01,  8.34414788e-01,\n",
       "          -9.12589011e-01]]]])"
      ]
     },
     "execution_count": 124,
     "metadata": {},
     "output_type": "execute_result"
    }
   ],
   "source": [
    "fp_charges_array"
   ]
  },
  {
   "cell_type": "markdown",
   "id": "4cd0b672-56e5-4d1c-9161-ba5fa4e17ae7",
   "metadata": {},
   "source": [
    "# Calculate proj reps"
   ]
  },
  {
   "cell_type": "markdown",
   "id": "5229edb6-7ad8-4c83-b47e-3d90a035a191",
   "metadata": {},
   "source": [
    "## Right side"
   ]
  },
  {
   "cell_type": "code",
   "execution_count": 125,
   "id": "ad73bb12-985d-4669-8161-a0c782ad7d52",
   "metadata": {},
   "outputs": [],
   "source": [
    "right_triv_proj_rep_phases = list()\n",
    "\n",
    "for t in interpolation_values:\n",
    "    optimizers = list()\n",
    "    for j in range(4):\n",
    "        jw_phase = right_fp_triv_proj_rep_charges_dict[(t, j)]\n",
    "        jw = 1 if jw_phase < 0 else 0\n",
    "\n",
    "        opt = optimizer_dict_triv_proj_rep[(t, jw, j)]\n",
    "\n",
    "        optimizers.append(opt)\n",
    "\n",
    "    phases = get_right_proj_rep_phases_from_optimizers(optimizers)\n",
    "\n",
    "    right_triv_proj_rep_phases.append(phases)\n",
    "\n",
    "right_triv_proj_rep_phases = np.array(right_triv_proj_rep_phases)"
   ]
  },
  {
   "cell_type": "code",
   "execution_count": 126,
   "id": "a9b80ab4-ac85-4eb7-ab11-3f46e4fce49d",
   "metadata": {},
   "outputs": [
    {
     "data": {
      "text/plain": [
       "(2, 6)"
      ]
     },
     "execution_count": 126,
     "metadata": {},
     "output_type": "execute_result"
    }
   ],
   "source": [
    "right_triv_proj_rep_phases.shape"
   ]
  },
  {
   "cell_type": "code",
   "execution_count": 127,
   "id": "218e6e4f-4771-415e-8e0c-e87e013d3583",
   "metadata": {},
   "outputs": [
    {
     "data": {
      "text/plain": [
       "array([[1.+0.j, 1.+0.j, 1.+0.j, 1.+0.j, 1.+0.j, 1.+0.j],\n",
       "       [1.+0.j, 1.+0.j, 1.+0.j, 1.+0.j, 1.+0.j, 1.+0.j]])"
      ]
     },
     "execution_count": 127,
     "metadata": {},
     "output_type": "execute_result"
    }
   ],
   "source": [
    "right_triv_proj_rep_phases"
   ]
  },
  {
   "cell_type": "code",
   "execution_count": 128,
   "id": "00eebb42-5507-413c-b57a-3f6117932bc5",
   "metadata": {},
   "outputs": [
    {
     "data": {
      "text/plain": [
       "array([[1.+0.j, 1.+0.j, 1.+0.j],\n",
       "       [1.+0.j, 1.+0.j, 1.+0.j]])"
      ]
     },
     "execution_count": 128,
     "metadata": {},
     "output_type": "execute_result"
    }
   ],
   "source": [
    "right_triv_proj_rep_phases[:, ::2]/right_triv_proj_rep_phases[:, 1::2]"
   ]
  },
  {
   "cell_type": "code",
   "execution_count": 129,
   "id": "a929ceee-239a-436a-93ba-24dffce162ca",
   "metadata": {},
   "outputs": [],
   "source": [
    "right_non_triv_proj_rep_phases = list()\n",
    "\n",
    "for t in interpolation_values:\n",
    "    optimizers = list()\n",
    "    for j in range(4):\n",
    "        jw_phase = right_fp_non_triv_proj_rep_charges_dict[(t, j)]\n",
    "        jw = 1 if jw_phase < 0 else 0\n",
    "\n",
    "        opt = optimizer_dict_non_triv_proj_rep[(t, jw, j)]\n",
    "\n",
    "        optimizers.append(opt)\n",
    "\n",
    "    phases = get_right_proj_rep_phases_from_optimizers(optimizers)\n",
    "\n",
    "    right_non_triv_proj_rep_phases.append(phases)\n",
    "\n",
    "right_non_triv_proj_rep_phases = np.array(right_non_triv_proj_rep_phases)"
   ]
  },
  {
   "cell_type": "code",
   "execution_count": 130,
   "id": "15fcb52b-811e-4570-aaad-0b866b7e65db",
   "metadata": {},
   "outputs": [
    {
     "data": {
      "text/plain": [
       "(2, 6)"
      ]
     },
     "execution_count": 130,
     "metadata": {},
     "output_type": "execute_result"
    }
   ],
   "source": [
    "right_non_triv_proj_rep_phases.shape"
   ]
  },
  {
   "cell_type": "code",
   "execution_count": 131,
   "id": "bd972c5d-7d45-458b-b249-85a881e1c1bc",
   "metadata": {},
   "outputs": [
    {
     "data": {
      "text/plain": [
       "array([[0.56-0.83j, 0.41+0.91j, 0.56+0.83j, 0.42-0.91j, 0.56+0.83j,\n",
       "        0.56-0.83j],\n",
       "       [1.  -0.05j, 1.  +0.05j, 1.  +0.05j, 1.  -0.05j, 1.  +0.05j,\n",
       "        1.  -0.05j]])"
      ]
     },
     "execution_count": 131,
     "metadata": {},
     "output_type": "execute_result"
    }
   ],
   "source": [
    "np.round(right_non_triv_proj_rep_phases, 2)"
   ]
  },
  {
   "cell_type": "markdown",
   "id": "a2866204-7623-43b2-8b17-b6bada0b26aa",
   "metadata": {},
   "source": [
    "Why are these phases so clean..."
   ]
  },
  {
   "cell_type": "code",
   "execution_count": 132,
   "id": "c3f7c256-fd11-4ad8-9f72-ddd507d6f363",
   "metadata": {},
   "outputs": [
    {
     "data": {
      "text/plain": [
       "array([[-0.52-0.85j, -0.52+0.85j, -0.36+0.93j],\n",
       "       [ 0.99-0.1j ,  0.99+0.1j ,  0.99+0.1j ]])"
      ]
     },
     "execution_count": 132,
     "metadata": {},
     "output_type": "execute_result"
    }
   ],
   "source": [
    "np.round(\n",
    "    right_non_triv_proj_rep_phases[:, ::2]/right_non_triv_proj_rep_phases[:, 1::2],\n",
    "    2\n",
    ")"
   ]
  },
  {
   "cell_type": "markdown",
   "id": "31ac5ef6-e8e6-4841-ba26-0084c5539425",
   "metadata": {},
   "source": [
    "## Left side"
   ]
  },
  {
   "cell_type": "code",
   "execution_count": 133,
   "id": "e29df1df-f229-4d93-b844-f5bc03a858e1",
   "metadata": {},
   "outputs": [],
   "source": [
    "left_triv_proj_rep_phases = list()\n",
    "\n",
    "for t in interpolation_values:\n",
    "    optimizers = list()\n",
    "    for j in range(4):\n",
    "        jw_phase = left_fp_triv_proj_rep_charges_dict[(t, j)]\n",
    "        jw = 1 if jw_phase < 0 else 0\n",
    "\n",
    "        opt = optimizer_dict_triv_proj_rep[(t, jw, j)]\n",
    "\n",
    "        optimizers.append(opt)\n",
    "\n",
    "    phases = get_left_proj_rep_phases_from_optimizers(optimizers)\n",
    "\n",
    "    left_triv_proj_rep_phases.append(phases)\n",
    "\n",
    "left_triv_proj_rep_phases = np.array(left_triv_proj_rep_phases)"
   ]
  },
  {
   "cell_type": "code",
   "execution_count": 134,
   "id": "78fb6b0f-03a4-4a5f-b626-d82e5483a5f6",
   "metadata": {},
   "outputs": [
    {
     "data": {
      "text/plain": [
       "(2, 6)"
      ]
     },
     "execution_count": 134,
     "metadata": {},
     "output_type": "execute_result"
    }
   ],
   "source": [
    "left_triv_proj_rep_phases.shape"
   ]
  },
  {
   "cell_type": "code",
   "execution_count": 135,
   "id": "70b52ac4-f41d-4ae2-b8e0-aa140688f343",
   "metadata": {},
   "outputs": [
    {
     "data": {
      "text/plain": [
       "array([[1.+0.j, 1.+0.j, 1.+0.j, 1.+0.j, 1.+0.j, 1.+0.j],\n",
       "       [1.+0.j, 1.+0.j, 1.+0.j, 1.+0.j, 1.+0.j, 1.+0.j]])"
      ]
     },
     "execution_count": 135,
     "metadata": {},
     "output_type": "execute_result"
    }
   ],
   "source": [
    "left_triv_proj_rep_phases"
   ]
  },
  {
   "cell_type": "code",
   "execution_count": 136,
   "id": "beb370cb-98c7-4da2-9fd1-4b7167433172",
   "metadata": {},
   "outputs": [
    {
     "data": {
      "text/plain": [
       "array([[1.+0.j, 1.+0.j, 1.+0.j],\n",
       "       [1.+0.j, 1.+0.j, 1.+0.j]])"
      ]
     },
     "execution_count": 136,
     "metadata": {},
     "output_type": "execute_result"
    }
   ],
   "source": [
    "left_triv_proj_rep_phases[:, ::2]/left_triv_proj_rep_phases[:, 1::2]"
   ]
  },
  {
   "cell_type": "code",
   "execution_count": 137,
   "id": "da4180c0-d8b7-4364-a307-b31678cf3c5e",
   "metadata": {},
   "outputs": [],
   "source": [
    "left_non_triv_proj_rep_phases = list()\n",
    "\n",
    "for t in interpolation_values:\n",
    "    optimizers = list()\n",
    "    for j in range(4):\n",
    "        jw_phase = left_fp_non_triv_proj_rep_charges_dict[(t, j)]\n",
    "        jw = 1 if jw_phase < 0 else 0\n",
    "\n",
    "        opt = optimizer_dict_non_triv_proj_rep[(t, jw, j)]\n",
    "\n",
    "        optimizers.append(opt)\n",
    "\n",
    "    phases = get_left_proj_rep_phases_from_optimizers(optimizers)\n",
    "\n",
    "    left_non_triv_proj_rep_phases.append(phases)\n",
    "\n",
    "left_non_triv_proj_rep_phases = np.array(left_non_triv_proj_rep_phases)"
   ]
  },
  {
   "cell_type": "code",
   "execution_count": 138,
   "id": "2e4e1398-6894-4de9-8686-fb9aabd783e0",
   "metadata": {},
   "outputs": [
    {
     "data": {
      "text/plain": [
       "(2, 6)"
      ]
     },
     "execution_count": 138,
     "metadata": {},
     "output_type": "execute_result"
    }
   ],
   "source": [
    "left_non_triv_proj_rep_phases.shape"
   ]
  },
  {
   "cell_type": "code",
   "execution_count": 139,
   "id": "7e05ba2f-c069-403c-8526-1d56b6741612",
   "metadata": {},
   "outputs": [
    {
     "data": {
      "text/plain": [
       "array([[-0.56+0.83j, -0.41-0.91j, -0.57-0.82j, -0.41+0.91j, -0.56-0.83j,\n",
       "        -0.56+0.83j],\n",
       "       [ 1.  -0.05j,  1.  +0.05j,  1.  +0.05j,  1.  -0.05j,  1.  +0.05j,\n",
       "         1.  -0.05j]])"
      ]
     },
     "execution_count": 139,
     "metadata": {},
     "output_type": "execute_result"
    }
   ],
   "source": [
    "np.round(left_non_triv_proj_rep_phases, 2)"
   ]
  },
  {
   "cell_type": "code",
   "execution_count": 140,
   "id": "0cfc853c-eb59-4b63-87b1-740ae7345cf6",
   "metadata": {},
   "outputs": [
    {
     "data": {
      "text/plain": [
       "array([[-0.52-0.85j, -0.52+0.85j, -0.36+0.93j],\n",
       "       [ 0.99-0.1j ,  0.99+0.1j ,  0.99+0.1j ]])"
      ]
     },
     "execution_count": 140,
     "metadata": {},
     "output_type": "execute_result"
    }
   ],
   "source": [
    "np.round(\n",
    "    left_non_triv_proj_rep_phases[:, ::2]/left_non_triv_proj_rep_phases[:, 1::2],\n",
    "    2\n",
    ")"
   ]
  },
  {
   "cell_type": "markdown",
   "id": "d2a461fc-fc5c-4149-9be9-7e988a2605ad",
   "metadata": {},
   "source": [
    "# 4 site boundary operators"
   ]
  },
  {
   "cell_type": "code",
   "execution_count": 220,
   "id": "71905e77-4072-45de-bc40-19243fd194b1",
   "metadata": {},
   "outputs": [],
   "source": [
    "block_width = 4\n",
    "num_one_sided_iterations = 3\n",
    "num_two_sided_iterations = 3\n",
    "num_layers = 1\n",
    "num_sites = 4\n",
    "max_virtual_bond_dim = 30"
   ]
  },
  {
   "cell_type": "code",
   "execution_count": 221,
   "id": "b405ac27-df5d-4d14-916d-fe5eb59828de",
   "metadata": {},
   "outputs": [],
   "source": [
    "optimizer_dict_triv_proj_rep = dict()\n",
    "\n",
    "for k, v in sub_cases_triv_proj_rep.items():\n",
    "    opt = MPSBrickSolver(\n",
    "        v,\n",
    "        num_sites,\n",
    "        block_width,\n",
    "        num_layers,\n",
    "        num_one_sided_iterations,\n",
    "        num_two_sided_iterations,\n",
    "        max_virtual_bond_dim=max_virtual_bond_dim\n",
    "    )\n",
    "\n",
    "    opt.optimise()\n",
    "\n",
    "    optimizer_dict_triv_proj_rep[k] = opt"
   ]
  },
  {
   "cell_type": "code",
   "execution_count": 222,
   "id": "7efb29f4-8041-4fa2-a1b9-38fe7a4f6e66",
   "metadata": {},
   "outputs": [],
   "source": [
    "optimizer_dict_non_triv_proj_rep = dict()\n",
    "\n",
    "for k, v in sub_cases_non_triv_proj_rep.items():\n",
    "    opt = MPSBrickSolver(\n",
    "        v,\n",
    "        num_sites,\n",
    "        block_width,\n",
    "        num_layers,\n",
    "        num_one_sided_iterations,\n",
    "        num_two_sided_iterations,\n",
    "        max_virtual_bond_dim=max_virtual_bond_dim\n",
    "    )\n",
    "\n",
    "    opt.optimise()\n",
    "\n",
    "    optimizer_dict_non_triv_proj_rep[k] = opt"
   ]
  },
  {
   "cell_type": "code",
   "execution_count": 223,
   "id": "4cf9dae5-8667-487a-bc8c-3094b3fcb0f1",
   "metadata": {},
   "outputs": [],
   "source": [
    "final_exps_triv_proj_rep = dict()\n",
    "\n",
    "for k, v in optimizer_dict_triv_proj_rep.items():\n",
    "    final_exp = v.flatten_exps()[-1]\n",
    "    final_exps_triv_proj_rep[k] = final_exp"
   ]
  },
  {
   "cell_type": "code",
   "execution_count": 224,
   "id": "752c42e1-ccd8-434f-b52c-0303e553654e",
   "metadata": {},
   "outputs": [],
   "source": [
    "final_exps_non_triv_proj_rep = dict()\n",
    "\n",
    "for k, v in optimizer_dict_non_triv_proj_rep.items():\n",
    "    final_exp = v.flatten_exps()[-1]\n",
    "    final_exps_non_triv_proj_rep[k] = final_exp"
   ]
  },
  {
   "cell_type": "code",
   "execution_count": 225,
   "id": "cb3bae1a-29a4-4b97-beba-bac409b7b138",
   "metadata": {},
   "outputs": [
    {
     "data": {
      "text/plain": [
       "{(0.45, 0, 0): 1.0000000000000053,\n",
       " (0.45, 0, 1): 0.7409787485936199,\n",
       " (0.45, 0, 2): 1.0000000000000062,\n",
       " (0.45, 0, 3): 0.7409787485936201,\n",
       " (0.45, 1, 0): 0.9860698499078594,\n",
       " (0.45, 1, 1): 0.0006923286547485839,\n",
       " (0.45, 1, 2): 0.9860698499078601,\n",
       " (0.45, 1, 3): 0.0007113197349499938,\n",
       " (0.55, 0, 0): 1.0000000000000027,\n",
       " (0.55, 0, 1): 0.7505592909184029,\n",
       " (0.55, 0, 2): 1.0000000000000024,\n",
       " (0.55, 0, 3): 0.7505592909184031,\n",
       " (0.55, 1, 0): 0.9874118002201444,\n",
       " (0.55, 1, 1): 0.7505545224746991,\n",
       " (0.55, 1, 2): 0.9874118002201445,\n",
       " (0.55, 1, 3): 0.7505545224746994}"
      ]
     },
     "execution_count": 225,
     "metadata": {},
     "output_type": "execute_result"
    }
   ],
   "source": [
    "final_exps_triv_proj_rep"
   ]
  },
  {
   "cell_type": "code",
   "execution_count": 226,
   "id": "afb748e0-6d91-48da-b6ae-7a818b59f21a",
   "metadata": {},
   "outputs": [
    {
     "data": {
      "text/plain": [
       "{(0.45, 0, 0): 1.0000000000000078,\n",
       " (0.45, 0, 1): 0.9210164523876798,\n",
       " (0.45, 0, 2): 0.9223184157785974,\n",
       " (0.45, 0, 3): 0.9836139264399386,\n",
       " (0.45, 1, 0): 0.9859244374124845,\n",
       " (0.45, 1, 1): 0.9222355627631857,\n",
       " (0.45, 1, 2): 0.921104528953456,\n",
       " (0.45, 1, 3): 0.9974724775088682,\n",
       " (0.55, 0, 0): 0.9999999999999973,\n",
       " (0.55, 0, 1): 0.9481672262828876,\n",
       " (0.55, 0, 2): 0.94170778189595,\n",
       " (0.55, 0, 3): 0.9829959023633228,\n",
       " (0.55, 1, 0): 0.9831962199993598,\n",
       " (0.55, 1, 1): 0.9417863726224306,\n",
       " (0.55, 1, 2): 0.9483714649964785,\n",
       " (0.55, 1, 3): 0.9991938656794085}"
      ]
     },
     "execution_count": 226,
     "metadata": {},
     "output_type": "execute_result"
    }
   ],
   "source": [
    "final_exps_non_triv_proj_rep"
   ]
  },
  {
   "cell_type": "markdown",
   "id": "b9402204-5d0d-404b-b564-af62e1b03ad4",
   "metadata": {},
   "source": [
    "## Fermionic cohomology"
   ]
  },
  {
   "cell_type": "code",
   "execution_count": 227,
   "id": "b914b836-1334-4fdc-bae3-201d93ab845f",
   "metadata": {},
   "outputs": [],
   "source": [
    "def right_fp_charge(optimizer):\n",
    "    opt = optimizer\n",
    "\n",
    "    base_bs = opt.bottom_right_mps_tensors\n",
    "\n",
    "    fp_bs = list()\n",
    "    \n",
    "    for i, b in enumerate(base_bs):\n",
    "        # Need to update this logic\n",
    "        if i%2:\n",
    "            b_to_add = npc.tensordot(b, npc_JW, [['p',], ['p*',]])\n",
    "        else:\n",
    "            b_to_add = b\n",
    "    \n",
    "        fp_bs.append(b_to_add)\n",
    "\n",
    "    fp_o_bs, _ = multiply_stacked_unitaries_against_mps(\n",
    "        opt.right_unitaries,\n",
    "        fp_bs,\n",
    "        opt.original_right_side_left_schmidt_values,\n",
    "        opt.max_virtual_bond_dim\n",
    "    )\n",
    "\n",
    "    out = inner_product_b_tensors(\n",
    "        fp_o_bs,\n",
    "        fp_bs,\n",
    "        left_environment=opt.right_side_left_symmetry_environment\n",
    "    )\n",
    "\n",
    "    return out"
   ]
  },
  {
   "cell_type": "code",
   "execution_count": 228,
   "id": "14137f10-806e-4a9a-adc1-27a6e1e1c5b0",
   "metadata": {},
   "outputs": [
    {
     "name": "stderr",
     "output_type": "stream",
     "text": [
      "100%|██████████████████████████████████████████████████████████████████████████████████████████████████████████| 16/16 [00:01<00:00, 10.33it/s]\n"
     ]
    }
   ],
   "source": [
    "right_fp_triv_proj_rep_charges = dict()\n",
    "\n",
    "for k, v in tqdm(optimizer_dict_triv_proj_rep.items()):\n",
    "    right_fp_triv_proj_rep_charges[k] = right_fp_charge(v)"
   ]
  },
  {
   "cell_type": "code",
   "execution_count": 229,
   "id": "6c41af28-6c04-4b08-a7b4-dd016ce5b4be",
   "metadata": {},
   "outputs": [
    {
     "name": "stderr",
     "output_type": "stream",
     "text": [
      "100%|██████████████████████████████████████████████████████████████████████████████████████████████████████████| 16/16 [00:01<00:00, 10.84it/s]\n"
     ]
    }
   ],
   "source": [
    "right_fp_non_triv_proj_rep_charges = dict()\n",
    "\n",
    "for k, v in tqdm(optimizer_dict_non_triv_proj_rep.items()):\n",
    "    right_fp_non_triv_proj_rep_charges[k] = right_fp_charge(v)"
   ]
  },
  {
   "cell_type": "code",
   "execution_count": 230,
   "id": "53459149-98ad-4785-9e29-d0127c70f1ec",
   "metadata": {},
   "outputs": [],
   "source": [
    "interpolation_values = [0.45, 0.55]"
   ]
  },
  {
   "cell_type": "code",
   "execution_count": 231,
   "id": "34a6310f-c83f-4e70-80c2-572e24870302",
   "metadata": {},
   "outputs": [],
   "source": [
    "right_fp_triv_proj_rep_charges_list = list()\n",
    "\n",
    "for t in interpolation_values:\n",
    "    l0 = [right_fp_triv_proj_rep_charges[(t,0,i)] for i in range(4)]\n",
    "    l1 = [right_fp_triv_proj_rep_charges[(t,1,i)] for i in range(4)]\n",
    "    \n",
    "    right_fp_triv_proj_rep_charges_list.append([l0, l1])\n",
    "\n",
    "right_fp_triv_proj_rep_charges_array = np.array(right_fp_triv_proj_rep_charges_list)"
   ]
  },
  {
   "cell_type": "code",
   "execution_count": 232,
   "id": "e258182e-4dbe-4ec3-bd4a-1f73431dcf5a",
   "metadata": {},
   "outputs": [
    {
     "data": {
      "text/plain": [
       "array([[[ 1.00000000e+00+0.j, -7.40979427e-01+0.j,  1.00000000e+00+0.j,\n",
       "         -7.40979427e-01+0.j],\n",
       "        [ 9.86071576e-01+0.j, -6.92329677e-04+0.j,  9.86071576e-01+0.j,\n",
       "         -7.11317976e-04+0.j]],\n",
       "\n",
       "       [[ 1.00000000e+00+0.j,  7.50560635e-01+0.j,  1.00000000e+00+0.j,\n",
       "          7.50560635e-01+0.j],\n",
       "        [ 9.87412978e-01+0.j,  7.50555425e-01+0.j,  9.87412978e-01+0.j,\n",
       "          7.50555425e-01+0.j]]])"
      ]
     },
     "execution_count": 232,
     "metadata": {},
     "output_type": "execute_result"
    }
   ],
   "source": [
    "right_fp_triv_proj_rep_charges_array"
   ]
  },
  {
   "cell_type": "code",
   "execution_count": 233,
   "id": "77015f9e-c9e4-473b-8fd3-5f61a779a1d3",
   "metadata": {},
   "outputs": [],
   "source": [
    "right_fp_non_triv_proj_rep_charges_list = list()\n",
    "\n",
    "for t in interpolation_values:\n",
    "    l0 = [right_fp_non_triv_proj_rep_charges[(t,0,i)] for i in range(4)]\n",
    "    l1 = [right_fp_non_triv_proj_rep_charges[(t,1,i)] for i in range(4)]\n",
    "    \n",
    "    right_fp_non_triv_proj_rep_charges_list.append([l0, l1])\n",
    "\n",
    "right_fp_non_triv_proj_rep_charges_array = np.array(right_fp_non_triv_proj_rep_charges_list)"
   ]
  },
  {
   "cell_type": "code",
   "execution_count": 234,
   "id": "c66d1b03-ef75-41c0-b9d3-c2d2a5484080",
   "metadata": {},
   "outputs": [
    {
     "data": {
      "text/plain": [
       "array([[[ 1.  ,  0.92, -0.92, -0.98],\n",
       "        [ 0.99,  0.92, -0.92, -1.  ]],\n",
       "\n",
       "       [[ 1.  , -0.95,  0.94, -0.98],\n",
       "        [ 0.98, -0.94,  0.95, -1.  ]]])"
      ]
     },
     "execution_count": 234,
     "metadata": {},
     "output_type": "execute_result"
    }
   ],
   "source": [
    "np.real(np.round(right_fp_non_triv_proj_rep_charges_array, 2))"
   ]
  },
  {
   "cell_type": "markdown",
   "id": "62fbb0c1-1595-4f75-8205-60f0bcea4b84",
   "metadata": {},
   "source": [
    "## Extract phases"
   ]
  },
  {
   "cell_type": "code",
   "execution_count": 235,
   "id": "aee98a07-49b6-4bdc-848b-185097ad1613",
   "metadata": {},
   "outputs": [],
   "source": [
    "right_fp_triv_proj_rep_charges_dict = dict()\n",
    "\n",
    "for i, t in enumerate(interpolation_values):\n",
    "    for j in range(4):\n",
    "        charge = right_fp_triv_proj_rep_charges_array[i, 0, j]\n",
    "        sign_charge = 1 if charge > 0 else -1\n",
    "    \n",
    "        right_fp_triv_proj_rep_charges_dict[(t, j)] = sign_charge"
   ]
  },
  {
   "cell_type": "code",
   "execution_count": 236,
   "id": "d85d3c4e-e8dd-4ada-ac5f-0a824c9a68e9",
   "metadata": {},
   "outputs": [],
   "source": [
    "right_fp_non_triv_proj_rep_charges_dict = dict()\n",
    "\n",
    "for i, t in enumerate(interpolation_values):\n",
    "    for j in range(4):\n",
    "        charge = right_fp_non_triv_proj_rep_charges_array[i, 0, j]\n",
    "        sign_charge = 1 if charge > 0 else -1\n",
    "    \n",
    "        right_fp_non_triv_proj_rep_charges_dict[(t, j)] = sign_charge"
   ]
  },
  {
   "cell_type": "markdown",
   "id": "86a6bfcb-0901-4d77-9b83-55d4fd773af1",
   "metadata": {},
   "source": [
    "## Left side"
   ]
  },
  {
   "cell_type": "code",
   "execution_count": 237,
   "id": "e82433fb-8f5b-4ede-ab5d-ddac99ae629a",
   "metadata": {},
   "outputs": [],
   "source": [
    "def left_fp_charge(optimizer):\n",
    "    opt = optimizer\n",
    "\n",
    "    base_bs = opt.bottom_left_mps_tensors\n",
    "\n",
    "    fp_bs = list()\n",
    "    \n",
    "    for i, b in enumerate(base_bs):\n",
    "        # Need to update this logic\n",
    "        if (i%2 == 0):\n",
    "            b_to_add = npc.tensordot(b, npc_JW, [['p',], ['p*',]])\n",
    "        else:\n",
    "            b_to_add = b\n",
    "    \n",
    "        fp_bs.append(b_to_add)\n",
    "\n",
    "    fp_o_bs, _ = multiply_stacked_unitaries_against_mps(\n",
    "        opt.left_unitaries,\n",
    "        fp_bs,\n",
    "        opt.original_left_side_right_schmidt_values,\n",
    "        opt.max_virtual_bond_dim\n",
    "    )\n",
    "\n",
    "    out = inner_product_b_tensors(\n",
    "        fp_o_bs,\n",
    "        fp_bs,\n",
    "        left_environment=opt.left_side_right_symmetry_environment\n",
    "    )\n",
    "\n",
    "    return out"
   ]
  },
  {
   "cell_type": "code",
   "execution_count": 238,
   "id": "f81e0783-ebf3-4a59-acd3-6fb458d2d2e1",
   "metadata": {},
   "outputs": [
    {
     "name": "stderr",
     "output_type": "stream",
     "text": [
      "100%|██████████████████████████████████████████████████████████████████████████████████████████████████████████| 16/16 [00:01<00:00, 11.99it/s]\n"
     ]
    }
   ],
   "source": [
    "left_fp_triv_proj_rep_charges = dict()\n",
    "\n",
    "for k, v in tqdm(optimizer_dict_triv_proj_rep.items()):\n",
    "    left_fp_triv_proj_rep_charges[k] = left_fp_charge(v)"
   ]
  },
  {
   "cell_type": "code",
   "execution_count": 239,
   "id": "5b0e1fd1-c568-4939-b8b0-055839e40a75",
   "metadata": {},
   "outputs": [
    {
     "name": "stderr",
     "output_type": "stream",
     "text": [
      "100%|██████████████████████████████████████████████████████████████████████████████████████████████████████████| 16/16 [00:01<00:00, 11.37it/s]\n"
     ]
    }
   ],
   "source": [
    "left_fp_non_triv_proj_rep_charges = dict()\n",
    "\n",
    "for k, v in tqdm(optimizer_dict_non_triv_proj_rep.items()):\n",
    "    left_fp_non_triv_proj_rep_charges[k] = left_fp_charge(v)"
   ]
  },
  {
   "cell_type": "code",
   "execution_count": 240,
   "id": "0001254d-8f25-4bbc-803d-1fe902452e0c",
   "metadata": {},
   "outputs": [],
   "source": [
    "left_fp_triv_proj_rep_charges_list = list()\n",
    "\n",
    "for t in interpolation_values:\n",
    "    l0 = [left_fp_triv_proj_rep_charges[(t,0,i)] for i in range(4)]\n",
    "    l1 = [left_fp_triv_proj_rep_charges[(t,1,i)] for i in range(4)]\n",
    "    \n",
    "    left_fp_triv_proj_rep_charges_list.append([l0, l1])\n",
    "\n",
    "left_fp_triv_proj_rep_charges_array = np.array(left_fp_triv_proj_rep_charges_list)"
   ]
  },
  {
   "cell_type": "code",
   "execution_count": 241,
   "id": "a0ad65d5-914c-4a8b-b647-4c1cf63e9d1e",
   "metadata": {},
   "outputs": [],
   "source": [
    "left_fp_non_triv_proj_rep_charges_list = list()\n",
    "\n",
    "for t in interpolation_values:\n",
    "    l0 = [left_fp_non_triv_proj_rep_charges[(t,0,i)] for i in range(4)]\n",
    "    l1 = [left_fp_non_triv_proj_rep_charges[(t,1,i)] for i in range(4)]\n",
    "    \n",
    "    left_fp_non_triv_proj_rep_charges_list.append([l0, l1])\n",
    "\n",
    "left_fp_non_triv_proj_rep_charges_array = np.array(left_fp_non_triv_proj_rep_charges_list)"
   ]
  },
  {
   "cell_type": "code",
   "execution_count": 242,
   "id": "3b1c23da-3d42-41ed-a11a-1f6078d4bba1",
   "metadata": {},
   "outputs": [],
   "source": [
    "left_fp_triv_proj_rep_charges_dict = dict()\n",
    "\n",
    "for i, t in enumerate(interpolation_values):\n",
    "    for j in range(4):\n",
    "        charge = left_fp_triv_proj_rep_charges_array[i, 0, j]\n",
    "        sign_charge = 1 if charge > 0 else -1\n",
    "    \n",
    "        left_fp_triv_proj_rep_charges_dict[(t, j)] = sign_charge"
   ]
  },
  {
   "cell_type": "code",
   "execution_count": 243,
   "id": "b4b8550c-8167-427e-8ac0-89c2057d566b",
   "metadata": {},
   "outputs": [],
   "source": [
    "left_fp_non_triv_proj_rep_charges_dict = dict()\n",
    "\n",
    "for i, t in enumerate(interpolation_values):\n",
    "    for j in range(4):\n",
    "        charge = left_fp_non_triv_proj_rep_charges_array[i, 0, j]\n",
    "        sign_charge = 1 if charge > 0 else -1\n",
    "    \n",
    "        left_fp_non_triv_proj_rep_charges_dict[(t, j)] = sign_charge"
   ]
  },
  {
   "cell_type": "code",
   "execution_count": 244,
   "id": "3fd23e6c-2bc8-4f01-9e60-508cc01c6f1d",
   "metadata": {},
   "outputs": [
    {
     "data": {
      "text/plain": [
       "(True, True)"
      ]
     },
     "execution_count": 244,
     "metadata": {},
     "output_type": "execute_result"
    }
   ],
   "source": [
    "(\n",
    "    left_fp_triv_proj_rep_charges_dict == right_fp_triv_proj_rep_charges_dict,\n",
    "    left_fp_non_triv_proj_rep_charges_dict == right_fp_non_triv_proj_rep_charges_dict\n",
    ")"
   ]
  },
  {
   "cell_type": "markdown",
   "id": "057c7719-9c9b-4c20-a30d-365adaa8050e",
   "metadata": {},
   "source": [
    "Great, they agree so we only need one going forward."
   ]
  },
  {
   "cell_type": "markdown",
   "id": "1d880b81-ab4e-4a07-87fc-384ee8c1c65e",
   "metadata": {},
   "source": [
    "Combine into single array."
   ]
  },
  {
   "cell_type": "code",
   "execution_count": 245,
   "id": "1beb89b7-bf2d-4d0a-ada7-a1ac31938d82",
   "metadata": {},
   "outputs": [],
   "source": [
    "fp_triv_proj_rep_charges_array = np.stack(\n",
    "    [left_fp_triv_proj_rep_charges_array, right_fp_triv_proj_rep_charges_array],\n",
    "    axis=-1\n",
    ")\n",
    "\n",
    "fp_non_triv_proj_rep_charges_array = np.stack(\n",
    "    [left_fp_non_triv_proj_rep_charges_array, right_fp_non_triv_proj_rep_charges_array],\n",
    "    axis=-1\n",
    ")\n",
    "\n",
    "fp_charges_array = np.stack(\n",
    "    [fp_triv_proj_rep_charges_array, fp_non_triv_proj_rep_charges_array],\n",
    "    axis=0\n",
    ")"
   ]
  },
  {
   "cell_type": "code",
   "execution_count": 246,
   "id": "d4f0bc10-632b-447c-b452-b08dac45afa9",
   "metadata": {},
   "outputs": [
    {
     "data": {
      "text/plain": [
       "(2, 2, 2, 4, 2)"
      ]
     },
     "execution_count": 246,
     "metadata": {},
     "output_type": "execute_result"
    }
   ],
   "source": [
    "fp_charges_array.shape"
   ]
  },
  {
   "cell_type": "code",
   "execution_count": 247,
   "id": "e5dac34b-8e6e-4723-9b8d-95a795abd2cf",
   "metadata": {},
   "outputs": [
    {
     "data": {
      "text/plain": [
       "4.887445307240312e-06"
      ]
     },
     "execution_count": 247,
     "metadata": {},
     "output_type": "execute_result"
    }
   ],
   "source": [
    "np.max(np.abs(fp_charges_array[..., 0] - fp_charges_array[..., 1]))"
   ]
  },
  {
   "cell_type": "code",
   "execution_count": 248,
   "id": "42e46da4-bcbe-4da5-b9c8-739e868028b4",
   "metadata": {},
   "outputs": [],
   "source": [
    "fp_charges_array = fp_charges_array[..., 0]"
   ]
  },
  {
   "cell_type": "code",
   "execution_count": 249,
   "id": "64e98e01-da91-4935-a3fa-412714efdab0",
   "metadata": {},
   "outputs": [
    {
     "data": {
      "text/plain": [
       "0.7402872655293593"
      ]
     },
     "execution_count": 249,
     "metadata": {},
     "output_type": "execute_result"
    }
   ],
   "source": [
    "np.max(np.abs(fp_charges_array[..., 0, :] - fp_charges_array[..., 1, :]))"
   ]
  },
  {
   "cell_type": "code",
   "execution_count": 250,
   "id": "7fb94a70-d8a9-472c-85a8-70e989d86025",
   "metadata": {},
   "outputs": [
    {
     "data": {
      "text/plain": [
       "8.318972503619264e-06"
      ]
     },
     "execution_count": 250,
     "metadata": {},
     "output_type": "execute_result"
    }
   ],
   "source": [
    "np.max(np.abs(np.imag(fp_charges_array)))"
   ]
  },
  {
   "cell_type": "code",
   "execution_count": 251,
   "id": "75e22501-dd15-4202-bae3-a01082ca88a0",
   "metadata": {},
   "outputs": [],
   "source": [
    "fp_charges_array = np.real(fp_charges_array)"
   ]
  },
  {
   "cell_type": "code",
   "execution_count": 252,
   "id": "9a3b8b57-9619-40c3-9157-c3af5272e1f4",
   "metadata": {},
   "outputs": [
    {
     "data": {
      "text/plain": [
       "0.0006923218426385571"
      ]
     },
     "execution_count": 252,
     "metadata": {},
     "output_type": "execute_result"
    }
   ],
   "source": [
    "np.min(np.abs(fp_charges_array))"
   ]
  },
  {
   "cell_type": "code",
   "execution_count": 253,
   "id": "bc112a76-3424-4530-be64-19c497fe9137",
   "metadata": {},
   "outputs": [
    {
     "data": {
      "text/plain": [
       "(2, 2, 2, 4)"
      ]
     },
     "execution_count": 253,
     "metadata": {},
     "output_type": "execute_result"
    }
   ],
   "source": [
    "fp_charges_array.shape"
   ]
  },
  {
   "cell_type": "code",
   "execution_count": 254,
   "id": "35113ff3-288c-45e2-bab3-81dff261c555",
   "metadata": {},
   "outputs": [
    {
     "data": {
      "text/plain": [
       "array([[[[ 1.00000000e+00, -7.40979587e-01,  1.00000000e+00,\n",
       "          -7.40979587e-01],\n",
       "         [ 9.86070857e-01, -6.92321843e-04,  9.86070857e-01,\n",
       "          -7.11273566e-04]],\n",
       "\n",
       "        [[ 1.00000000e+00,  7.50559685e-01,  1.00000000e+00,\n",
       "           7.50559685e-01],\n",
       "         [ 9.87412877e-01,  7.50554867e-01,  9.87412877e-01,\n",
       "           7.50554867e-01]]],\n",
       "\n",
       "\n",
       "       [[[ 1.00000000e+00,  9.21050385e-01, -9.22350824e-01,\n",
       "          -9.83629346e-01],\n",
       "         [ 9.85929128e-01,  9.22278918e-01, -9.21140960e-01,\n",
       "          -9.97477546e-01]],\n",
       "\n",
       "        [[ 1.00000000e+00, -9.48209658e-01,  9.41764266e-01,\n",
       "          -9.83042410e-01],\n",
       "         [ 9.83228503e-01, -9.41842676e-01,  9.48410994e-01,\n",
       "          -9.99199270e-01]]]])"
      ]
     },
     "execution_count": 254,
     "metadata": {},
     "output_type": "execute_result"
    }
   ],
   "source": [
    "fp_charges_array"
   ]
  },
  {
   "cell_type": "markdown",
   "id": "8f348145-6f45-4bb6-9d19-8c7ad595b056",
   "metadata": {},
   "source": [
    "# Calculate proj reps"
   ]
  },
  {
   "cell_type": "markdown",
   "id": "8f36d79d-72e7-4a1a-9787-a65f2d7dbb7a",
   "metadata": {},
   "source": [
    "## Right side"
   ]
  },
  {
   "cell_type": "code",
   "execution_count": 255,
   "id": "c938b85c-8070-452f-8295-16395667b5ab",
   "metadata": {},
   "outputs": [],
   "source": [
    "right_triv_proj_rep_phases = list()\n",
    "\n",
    "for t in interpolation_values:\n",
    "    optimizers = list()\n",
    "    for j in range(4):\n",
    "        jw_phase = right_fp_triv_proj_rep_charges_dict[(t, j)]\n",
    "        jw = 1 if jw_phase < 0 else 0\n",
    "\n",
    "        opt = optimizer_dict_triv_proj_rep[(t, jw, j)]\n",
    "\n",
    "        optimizers.append(opt)\n",
    "\n",
    "    phases = get_right_proj_rep_phases_from_optimizers(optimizers)\n",
    "\n",
    "    right_triv_proj_rep_phases.append(phases)\n",
    "\n",
    "right_triv_proj_rep_phases = np.array(right_triv_proj_rep_phases)"
   ]
  },
  {
   "cell_type": "code",
   "execution_count": 256,
   "id": "589f4a6f-f6d2-49d8-9be8-c5b20cf2cbbe",
   "metadata": {},
   "outputs": [
    {
     "data": {
      "text/plain": [
       "(2, 6)"
      ]
     },
     "execution_count": 256,
     "metadata": {},
     "output_type": "execute_result"
    }
   ],
   "source": [
    "right_triv_proj_rep_phases.shape"
   ]
  },
  {
   "cell_type": "code",
   "execution_count": 257,
   "id": "9243bdaa-4a7a-4358-a7c1-5888889b3433",
   "metadata": {},
   "outputs": [
    {
     "data": {
      "text/plain": [
       "array([[1.+0.j, 1.+0.j, 1.+0.j, 1.+0.j, 1.+0.j, 1.+0.j],\n",
       "       [1.+0.j, 1.+0.j, 1.+0.j, 1.+0.j, 1.+0.j, 1.+0.j]])"
      ]
     },
     "execution_count": 257,
     "metadata": {},
     "output_type": "execute_result"
    }
   ],
   "source": [
    "right_triv_proj_rep_phases"
   ]
  },
  {
   "cell_type": "code",
   "execution_count": 258,
   "id": "a379c50a-a213-4c91-b260-91b076fb4b21",
   "metadata": {},
   "outputs": [
    {
     "data": {
      "text/plain": [
       "array([[1.+0.j, 1.+0.j, 1.+0.j],\n",
       "       [1.+0.j, 1.+0.j, 1.+0.j]])"
      ]
     },
     "execution_count": 258,
     "metadata": {},
     "output_type": "execute_result"
    }
   ],
   "source": [
    "right_triv_proj_rep_phases[:, ::2]/right_triv_proj_rep_phases[:, 1::2]"
   ]
  },
  {
   "cell_type": "code",
   "execution_count": 259,
   "id": "4c8b7ba9-3dd3-444e-a0e7-67a3854e3fa8",
   "metadata": {},
   "outputs": [],
   "source": [
    "right_non_triv_proj_rep_phases = list()\n",
    "\n",
    "for t in interpolation_values:\n",
    "    optimizers = list()\n",
    "    for j in range(4):\n",
    "        jw_phase = right_fp_non_triv_proj_rep_charges_dict[(t, j)]\n",
    "        jw = 1 if jw_phase < 0 else 0\n",
    "\n",
    "        opt = optimizer_dict_non_triv_proj_rep[(t, jw, j)]\n",
    "\n",
    "        optimizers.append(opt)\n",
    "\n",
    "    phases = get_right_proj_rep_phases_from_optimizers(optimizers)\n",
    "\n",
    "    right_non_triv_proj_rep_phases.append(phases)\n",
    "\n",
    "right_non_triv_proj_rep_phases = np.array(right_non_triv_proj_rep_phases)"
   ]
  },
  {
   "cell_type": "code",
   "execution_count": 260,
   "id": "30f320e2-6fba-477d-8db6-337dd7af65e0",
   "metadata": {},
   "outputs": [
    {
     "data": {
      "text/plain": [
       "(2, 6)"
      ]
     },
     "execution_count": 260,
     "metadata": {},
     "output_type": "execute_result"
    }
   ],
   "source": [
    "right_non_triv_proj_rep_phases.shape"
   ]
  },
  {
   "cell_type": "code",
   "execution_count": 261,
   "id": "ac049049-2bb2-4907-a87a-b5bc92fde616",
   "metadata": {},
   "outputs": [
    {
     "data": {
      "text/plain": [
       "array([[-0.-1.j,  0.+1.j, -0.+1.j,  0.-1.j, -0.+1.j, -0.-1.j],\n",
       "       [ 1.-0.j,  1.-0.j,  1.+0.j,  1.+0.j,  1.+0.j,  1.+0.j]])"
      ]
     },
     "execution_count": 261,
     "metadata": {},
     "output_type": "execute_result"
    }
   ],
   "source": [
    "np.round(right_non_triv_proj_rep_phases, 2)"
   ]
  },
  {
   "cell_type": "markdown",
   "id": "c480d8e3-d1a3-45ed-b19e-58cd9b1a6dea",
   "metadata": {},
   "source": [
    "Why are these phases so clean..."
   ]
  },
  {
   "cell_type": "code",
   "execution_count": 262,
   "id": "baae82ae-7c8c-457d-82a9-69ffa5519157",
   "metadata": {},
   "outputs": [
    {
     "data": {
      "text/plain": [
       "array([[-1.+0.j, -1.-0.j, -1.-0.j],\n",
       "       [ 1.+0.j,  1.+0.j,  1.+0.j]])"
      ]
     },
     "execution_count": 262,
     "metadata": {},
     "output_type": "execute_result"
    }
   ],
   "source": [
    "np.round(\n",
    "    right_non_triv_proj_rep_phases[:, ::2]/right_non_triv_proj_rep_phases[:, 1::2],\n",
    "    2\n",
    ")"
   ]
  },
  {
   "cell_type": "markdown",
   "id": "d805539f-a635-4d3b-b177-e9e41156f09e",
   "metadata": {},
   "source": [
    "## Left side"
   ]
  },
  {
   "cell_type": "code",
   "execution_count": 263,
   "id": "f3839d21-21dd-4dbe-bf68-713a903ae062",
   "metadata": {},
   "outputs": [],
   "source": [
    "left_triv_proj_rep_phases = list()\n",
    "\n",
    "for t in interpolation_values:\n",
    "    optimizers = list()\n",
    "    for j in range(4):\n",
    "        jw_phase = left_fp_triv_proj_rep_charges_dict[(t, j)]\n",
    "        jw = 1 if jw_phase < 0 else 0\n",
    "\n",
    "        opt = optimizer_dict_triv_proj_rep[(t, jw, j)]\n",
    "\n",
    "        optimizers.append(opt)\n",
    "\n",
    "    phases = get_left_proj_rep_phases_from_optimizers(optimizers)\n",
    "\n",
    "    left_triv_proj_rep_phases.append(phases)\n",
    "\n",
    "left_triv_proj_rep_phases = np.array(left_triv_proj_rep_phases)"
   ]
  },
  {
   "cell_type": "code",
   "execution_count": 264,
   "id": "38487788-54de-497a-a183-b8f802d470ea",
   "metadata": {},
   "outputs": [
    {
     "data": {
      "text/plain": [
       "(2, 6)"
      ]
     },
     "execution_count": 264,
     "metadata": {},
     "output_type": "execute_result"
    }
   ],
   "source": [
    "left_triv_proj_rep_phases.shape"
   ]
  },
  {
   "cell_type": "code",
   "execution_count": 265,
   "id": "409a2ff1-c5ed-47b8-83c8-3f05890701a8",
   "metadata": {},
   "outputs": [
    {
     "data": {
      "text/plain": [
       "array([[1.+0.j, 1.+0.j, 1.+0.j, 1.+0.j, 1.+0.j, 1.+0.j],\n",
       "       [1.+0.j, 1.+0.j, 1.+0.j, 1.+0.j, 1.+0.j, 1.+0.j]])"
      ]
     },
     "execution_count": 265,
     "metadata": {},
     "output_type": "execute_result"
    }
   ],
   "source": [
    "left_triv_proj_rep_phases"
   ]
  },
  {
   "cell_type": "code",
   "execution_count": 266,
   "id": "8ccae9f7-0085-4998-9a87-5eb9419cd4eb",
   "metadata": {},
   "outputs": [
    {
     "data": {
      "text/plain": [
       "array([[1.+0.j, 1.+0.j, 1.+0.j],\n",
       "       [1.+0.j, 1.+0.j, 1.+0.j]])"
      ]
     },
     "execution_count": 266,
     "metadata": {},
     "output_type": "execute_result"
    }
   ],
   "source": [
    "left_triv_proj_rep_phases[:, ::2]/left_triv_proj_rep_phases[:, 1::2]"
   ]
  },
  {
   "cell_type": "code",
   "execution_count": 267,
   "id": "2a1875f2-935d-44ea-bdc1-f797486a8f6d",
   "metadata": {},
   "outputs": [],
   "source": [
    "left_non_triv_proj_rep_phases = list()\n",
    "\n",
    "for t in interpolation_values:\n",
    "    optimizers = list()\n",
    "    for j in range(4):\n",
    "        jw_phase = left_fp_non_triv_proj_rep_charges_dict[(t, j)]\n",
    "        jw = 1 if jw_phase < 0 else 0\n",
    "\n",
    "        opt = optimizer_dict_non_triv_proj_rep[(t, jw, j)]\n",
    "\n",
    "        optimizers.append(opt)\n",
    "\n",
    "    phases = get_left_proj_rep_phases_from_optimizers(optimizers)\n",
    "\n",
    "    left_non_triv_proj_rep_phases.append(phases)\n",
    "\n",
    "left_non_triv_proj_rep_phases = np.array(left_non_triv_proj_rep_phases)"
   ]
  },
  {
   "cell_type": "code",
   "execution_count": 268,
   "id": "259b1c1d-46de-45c6-a073-5884a18a94c2",
   "metadata": {},
   "outputs": [
    {
     "data": {
      "text/plain": [
       "(2, 6)"
      ]
     },
     "execution_count": 268,
     "metadata": {},
     "output_type": "execute_result"
    }
   ],
   "source": [
    "left_non_triv_proj_rep_phases.shape"
   ]
  },
  {
   "cell_type": "code",
   "execution_count": 269,
   "id": "dc29b630-8b5e-4059-ac48-db92df179683",
   "metadata": {},
   "outputs": [
    {
     "data": {
      "text/plain": [
       "array([[-0.+1.j,  0.-1.j, -0.-1.j,  0.+1.j,  0.-1.j,  0.+1.j],\n",
       "       [ 1.+0.j,  1.+0.j,  1.-0.j,  1.-0.j,  1.-0.j,  1.-0.j]])"
      ]
     },
     "execution_count": 269,
     "metadata": {},
     "output_type": "execute_result"
    }
   ],
   "source": [
    "np.round(left_non_triv_proj_rep_phases, 2)"
   ]
  },
  {
   "cell_type": "code",
   "execution_count": 270,
   "id": "7fdae8c9-9068-482c-8340-f4a6cbf3faae",
   "metadata": {},
   "outputs": [
    {
     "data": {
      "text/plain": [
       "array([[-1.+0.j, -1.-0.j, -1.-0.j],\n",
       "       [ 1.+0.j,  1.+0.j,  1.+0.j]])"
      ]
     },
     "execution_count": 270,
     "metadata": {},
     "output_type": "execute_result"
    }
   ],
   "source": [
    "np.round(\n",
    "    left_non_triv_proj_rep_phases[:, ::2]/left_non_triv_proj_rep_phases[:, 1::2],\n",
    "    2\n",
    ")"
   ]
  },
  {
   "cell_type": "markdown",
   "id": "2608f6cb-70ba-4751-9a53-a70498b3417f",
   "metadata": {},
   "source": [
    "# 6 site boundary operators"
   ]
  },
  {
   "cell_type": "code",
   "execution_count": 168,
   "id": "7212edb2-febf-4d42-aa30-038c74ad324f",
   "metadata": {},
   "outputs": [],
   "source": [
    "block_width = 6\n",
    "num_one_sided_iterations = 3\n",
    "num_two_sided_iterations = 3\n",
    "num_layers = 3\n",
    "num_sites = 4\n",
    "max_virtual_bond_dim = 30"
   ]
  },
  {
   "cell_type": "code",
   "execution_count": 169,
   "id": "3aaafe9d-0e21-422c-9f3c-213d4f000ff7",
   "metadata": {},
   "outputs": [],
   "source": [
    "optimizer_dict_triv_proj_rep = dict()\n",
    "\n",
    "for k, v in sub_cases_triv_proj_rep.items():\n",
    "    opt = MPSBrickSolver(\n",
    "        v,\n",
    "        num_sites,\n",
    "        block_width,\n",
    "        num_layers,\n",
    "        num_one_sided_iterations,\n",
    "        num_two_sided_iterations,\n",
    "        max_virtual_bond_dim=max_virtual_bond_dim\n",
    "    )\n",
    "\n",
    "    opt.optimise()\n",
    "\n",
    "    optimizer_dict_triv_proj_rep[k] = opt"
   ]
  },
  {
   "cell_type": "code",
   "execution_count": 170,
   "id": "66e9ffb2-5333-4b77-a583-197fe40746bb",
   "metadata": {},
   "outputs": [],
   "source": [
    "optimizer_dict_non_triv_proj_rep = dict()\n",
    "\n",
    "for k, v in sub_cases_non_triv_proj_rep.items():\n",
    "    opt = MPSBrickSolver(\n",
    "        v,\n",
    "        num_sites,\n",
    "        block_width,\n",
    "        num_layers,\n",
    "        num_one_sided_iterations,\n",
    "        num_two_sided_iterations,\n",
    "        max_virtual_bond_dim=max_virtual_bond_dim\n",
    "    )\n",
    "\n",
    "    opt.optimise()\n",
    "\n",
    "    optimizer_dict_non_triv_proj_rep[k] = opt"
   ]
  },
  {
   "cell_type": "code",
   "execution_count": 171,
   "id": "0fbd2c41-9a15-48fd-abdc-8a9e25789ef0",
   "metadata": {},
   "outputs": [],
   "source": [
    "final_exps_triv_proj_rep = dict()\n",
    "\n",
    "for k, v in optimizer_dict_triv_proj_rep.items():\n",
    "    final_exp = v.flatten_exps()[-1]\n",
    "    final_exps_triv_proj_rep[k] = final_exp"
   ]
  },
  {
   "cell_type": "code",
   "execution_count": 172,
   "id": "19640844-1b2a-4bee-818f-c2022269cc67",
   "metadata": {},
   "outputs": [],
   "source": [
    "final_exps_non_triv_proj_rep = dict()\n",
    "\n",
    "for k, v in optimizer_dict_non_triv_proj_rep.items():\n",
    "    final_exp = v.flatten_exps()[-1]\n",
    "    final_exps_non_triv_proj_rep[k] = final_exp"
   ]
  },
  {
   "cell_type": "code",
   "execution_count": 173,
   "id": "cb928551-06c2-4448-b8fd-1b0df6acbf69",
   "metadata": {},
   "outputs": [
    {
     "data": {
      "text/plain": [
       "{(0.45, 0, 0): 1.0000000000000056,\n",
       " (0.45, 0, 1): 0.7409803043779463,\n",
       " (0.45, 0, 2): 1.0000000000000069,\n",
       " (0.45, 0, 3): 0.7409803043779463,\n",
       " (0.45, 1, 0): 0.9860733345298961,\n",
       " (0.45, 1, 1): 0.740974600267953,\n",
       " (0.45, 1, 2): 0.9860733345298968,\n",
       " (0.45, 1, 3): 0.7409765207325233,\n",
       " (0.55, 0, 0): 1.0000000000000027,\n",
       " (0.55, 0, 1): 0.7505609766222925,\n",
       " (0.55, 0, 2): 1.0000000000000038,\n",
       " (0.55, 0, 3): 0.7505609766222936,\n",
       " (0.55, 1, 0): 0.9874161420869685,\n",
       " (0.55, 1, 1): 0.7505559031467769,\n",
       " (0.55, 1, 2): 0.9874161420869693,\n",
       " (0.55, 1, 3): 0.7505559031467776}"
      ]
     },
     "execution_count": 173,
     "metadata": {},
     "output_type": "execute_result"
    }
   ],
   "source": [
    "final_exps_triv_proj_rep"
   ]
  },
  {
   "cell_type": "code",
   "execution_count": 174,
   "id": "aa0ccbff-7c55-4d48-bc75-c5e61a80f178",
   "metadata": {},
   "outputs": [
    {
     "data": {
      "text/plain": [
       "{(0.45, 0, 0): 1.0000000000000075,\n",
       " (0.45, 0, 1): 0.9211680882585329,\n",
       " (0.45, 0, 2): 0.922484547144665,\n",
       " (0.45, 0, 3): 0.983673692780792,\n",
       " (0.45, 1, 0): 0.9859422136013858,\n",
       " (0.45, 1, 1): 0.9224246299978058,\n",
       " (0.45, 1, 2): 0.9212600414659521,\n",
       " (0.45, 1, 3): 0.997491547345575,\n",
       " (0.55, 0, 0): 0.9999999999999982,\n",
       " (0.55, 0, 1): 0.9483351090110759,\n",
       " (0.55, 0, 2): 0.9419091824869232,\n",
       " (0.55, 0, 3): 0.9831836903799889,\n",
       " (0.55, 1, 0): 0.9833273098924056,\n",
       " (0.55, 1, 1): 0.942000804860004,\n",
       " (0.55, 1, 2): 0.9485393506253499,\n",
       " (0.55, 1, 3): 0.999215501547628}"
      ]
     },
     "execution_count": 174,
     "metadata": {},
     "output_type": "execute_result"
    }
   ],
   "source": [
    "final_exps_non_triv_proj_rep"
   ]
  },
  {
   "cell_type": "markdown",
   "id": "c89665f9-1540-463e-863e-c7b3d2f2b8b8",
   "metadata": {},
   "source": [
    "## Fermionic cohomology"
   ]
  },
  {
   "cell_type": "code",
   "execution_count": 175,
   "id": "88d6d54b-3724-4861-a5dd-1bbd233a01ba",
   "metadata": {},
   "outputs": [],
   "source": [
    "def right_fp_charge(optimizer):\n",
    "    opt = optimizer\n",
    "\n",
    "    base_bs = opt.bottom_right_mps_tensors\n",
    "\n",
    "    fp_bs = list()\n",
    "    \n",
    "    for i, b in enumerate(base_bs):\n",
    "        # Need to update this logic\n",
    "        if i%2:\n",
    "            b_to_add = npc.tensordot(b, npc_JW, [['p',], ['p*',]])\n",
    "        else:\n",
    "            b_to_add = b\n",
    "    \n",
    "        fp_bs.append(b_to_add)\n",
    "\n",
    "    fp_o_bs, _ = multiply_stacked_unitaries_against_mps(\n",
    "        opt.right_unitaries,\n",
    "        fp_bs,\n",
    "        opt.original_right_side_left_schmidt_values,\n",
    "        opt.max_virtual_bond_dim\n",
    "    )\n",
    "\n",
    "    out = inner_product_b_tensors(\n",
    "        fp_o_bs,\n",
    "        fp_bs,\n",
    "        left_environment=opt.right_side_left_symmetry_environment\n",
    "    )\n",
    "\n",
    "    return out"
   ]
  },
  {
   "cell_type": "code",
   "execution_count": 176,
   "id": "d5346828-527d-4d70-9041-aff766c082d4",
   "metadata": {},
   "outputs": [
    {
     "name": "stderr",
     "output_type": "stream",
     "text": [
      "100%|██████████████████████████████████████████████████████████████████████████████████████████████████████████| 16/16 [00:06<00:00,  2.45it/s]\n"
     ]
    }
   ],
   "source": [
    "right_fp_triv_proj_rep_charges = dict()\n",
    "\n",
    "for k, v in tqdm(optimizer_dict_triv_proj_rep.items()):\n",
    "    right_fp_triv_proj_rep_charges[k] = right_fp_charge(v)"
   ]
  },
  {
   "cell_type": "code",
   "execution_count": 177,
   "id": "216ad9c8-2d92-4086-9907-edf42c8e99cb",
   "metadata": {},
   "outputs": [
    {
     "name": "stderr",
     "output_type": "stream",
     "text": [
      "100%|██████████████████████████████████████████████████████████████████████████████████████████████████████████| 16/16 [00:08<00:00,  1.99it/s]\n"
     ]
    }
   ],
   "source": [
    "right_fp_non_triv_proj_rep_charges = dict()\n",
    "\n",
    "for k, v in tqdm(optimizer_dict_non_triv_proj_rep.items()):\n",
    "    right_fp_non_triv_proj_rep_charges[k] = right_fp_charge(v)"
   ]
  },
  {
   "cell_type": "code",
   "execution_count": 178,
   "id": "8fe01e73-0d5a-4708-b081-e65a149df74e",
   "metadata": {},
   "outputs": [],
   "source": [
    "interpolation_values = [0.45, 0.55]"
   ]
  },
  {
   "cell_type": "code",
   "execution_count": 179,
   "id": "6aedbd45-42c3-49c7-b24f-5586327237f2",
   "metadata": {},
   "outputs": [],
   "source": [
    "right_fp_triv_proj_rep_charges_list = list()\n",
    "\n",
    "for t in interpolation_values:\n",
    "    l0 = [right_fp_triv_proj_rep_charges[(t,0,i)] for i in range(4)]\n",
    "    l1 = [right_fp_triv_proj_rep_charges[(t,1,i)] for i in range(4)]\n",
    "    \n",
    "    right_fp_triv_proj_rep_charges_list.append([l0, l1])\n",
    "\n",
    "right_fp_triv_proj_rep_charges_array = np.array(right_fp_triv_proj_rep_charges_list)"
   ]
  },
  {
   "cell_type": "code",
   "execution_count": 180,
   "id": "6c0ee827-28c4-4d43-a192-231d1f81610f",
   "metadata": {},
   "outputs": [
    {
     "data": {
      "text/plain": [
       "array([[[ 1.        +0.j, -0.7409803 +0.j,  1.        +0.j,\n",
       "         -0.7409803 +0.j],\n",
       "        [ 0.98607334+0.j, -0.7409746 +0.j,  0.98607334+0.j,\n",
       "         -0.74097653+0.j]],\n",
       "\n",
       "       [[ 1.        +0.j,  0.75056111+0.j,  1.        +0.j,\n",
       "          0.75056111+0.j],\n",
       "        [ 0.98741614+0.j,  0.75055604+0.j,  0.98741614+0.j,\n",
       "          0.75055604+0.j]]])"
      ]
     },
     "execution_count": 180,
     "metadata": {},
     "output_type": "execute_result"
    }
   ],
   "source": [
    "right_fp_triv_proj_rep_charges_array"
   ]
  },
  {
   "cell_type": "code",
   "execution_count": 181,
   "id": "6b9d992a-99bc-48fb-99d3-c28fff9659ed",
   "metadata": {},
   "outputs": [],
   "source": [
    "right_fp_non_triv_proj_rep_charges_list = list()\n",
    "\n",
    "for t in interpolation_values:\n",
    "    l0 = [right_fp_non_triv_proj_rep_charges[(t,0,i)] for i in range(4)]\n",
    "    l1 = [right_fp_non_triv_proj_rep_charges[(t,1,i)] for i in range(4)]\n",
    "    \n",
    "    right_fp_non_triv_proj_rep_charges_list.append([l0, l1])\n",
    "\n",
    "right_fp_non_triv_proj_rep_charges_array = np.array(right_fp_non_triv_proj_rep_charges_list)"
   ]
  },
  {
   "cell_type": "code",
   "execution_count": 182,
   "id": "05e88cb2-6589-443a-bd29-d963d74b8a0e",
   "metadata": {},
   "outputs": [
    {
     "data": {
      "text/plain": [
       "array([[[ 1.  ,  0.92, -0.92, -0.98],\n",
       "        [ 0.99,  0.92, -0.92, -1.  ]],\n",
       "\n",
       "       [[ 1.  , -0.95,  0.94, -0.98],\n",
       "        [ 0.98, -0.94,  0.95, -1.  ]]])"
      ]
     },
     "execution_count": 182,
     "metadata": {},
     "output_type": "execute_result"
    }
   ],
   "source": [
    "np.real(np.round(right_fp_non_triv_proj_rep_charges_array, 2))"
   ]
  },
  {
   "cell_type": "markdown",
   "id": "c32870ab-10d7-4b93-ab71-1d1a4f3746c0",
   "metadata": {},
   "source": [
    "## Extract phases"
   ]
  },
  {
   "cell_type": "code",
   "execution_count": 184,
   "id": "85cae662-fed8-43ad-8667-894e0a87d044",
   "metadata": {},
   "outputs": [],
   "source": [
    "right_fp_triv_proj_rep_charges_dict = dict()\n",
    "\n",
    "for i, t in enumerate(interpolation_values):\n",
    "    for j in range(4):\n",
    "        charge = right_fp_triv_proj_rep_charges_array[i, 0, j]\n",
    "        sign_charge = 1 if charge > 0 else -1\n",
    "    \n",
    "        right_fp_triv_proj_rep_charges_dict[(t, j)] = sign_charge"
   ]
  },
  {
   "cell_type": "code",
   "execution_count": 185,
   "id": "84811a4a-a858-4f28-8b4f-ddb85ff11b67",
   "metadata": {},
   "outputs": [],
   "source": [
    "right_fp_non_triv_proj_rep_charges_dict = dict()\n",
    "\n",
    "for i, t in enumerate(interpolation_values):\n",
    "    for j in range(4):\n",
    "        charge = right_fp_non_triv_proj_rep_charges_array[i, 0, j]\n",
    "        sign_charge = 1 if charge > 0 else -1\n",
    "    \n",
    "        right_fp_non_triv_proj_rep_charges_dict[(t, j)] = sign_charge"
   ]
  },
  {
   "cell_type": "markdown",
   "id": "bcc22b6f-a236-4635-96c9-ecea2dd0d47a",
   "metadata": {},
   "source": [
    "## Left side"
   ]
  },
  {
   "cell_type": "code",
   "execution_count": 186,
   "id": "6f31fa0e-2124-4272-a76e-00bccebb1179",
   "metadata": {},
   "outputs": [],
   "source": [
    "def left_fp_charge(optimizer):\n",
    "    opt = optimizer\n",
    "\n",
    "    base_bs = opt.bottom_left_mps_tensors\n",
    "\n",
    "    fp_bs = list()\n",
    "    \n",
    "    for i, b in enumerate(base_bs):\n",
    "        # Need to update this logic\n",
    "        if (i%2 == 0):\n",
    "            b_to_add = npc.tensordot(b, npc_JW, [['p',], ['p*',]])\n",
    "        else:\n",
    "            b_to_add = b\n",
    "    \n",
    "        fp_bs.append(b_to_add)\n",
    "\n",
    "    fp_o_bs, _ = multiply_stacked_unitaries_against_mps(\n",
    "        opt.left_unitaries,\n",
    "        fp_bs,\n",
    "        opt.original_left_side_right_schmidt_values,\n",
    "        opt.max_virtual_bond_dim\n",
    "    )\n",
    "\n",
    "    out = inner_product_b_tensors(\n",
    "        fp_o_bs,\n",
    "        fp_bs,\n",
    "        left_environment=opt.left_side_right_symmetry_environment\n",
    "    )\n",
    "\n",
    "    return out"
   ]
  },
  {
   "cell_type": "code",
   "execution_count": 187,
   "id": "c772fc58-e1fe-4ea6-a75e-267b05fddf30",
   "metadata": {},
   "outputs": [
    {
     "name": "stderr",
     "output_type": "stream",
     "text": [
      "100%|██████████████████████████████████████████████████████████████████████████████████████████████████████████| 16/16 [00:06<00:00,  2.55it/s]\n"
     ]
    }
   ],
   "source": [
    "left_fp_triv_proj_rep_charges = dict()\n",
    "\n",
    "for k, v in tqdm(optimizer_dict_triv_proj_rep.items()):\n",
    "    left_fp_triv_proj_rep_charges[k] = left_fp_charge(v)"
   ]
  },
  {
   "cell_type": "code",
   "execution_count": 188,
   "id": "9690f98e-122d-41a7-bbd4-bbb5352d3993",
   "metadata": {},
   "outputs": [
    {
     "name": "stderr",
     "output_type": "stream",
     "text": [
      "100%|██████████████████████████████████████████████████████████████████████████████████████████████████████████| 16/16 [00:08<00:00,  1.97it/s]\n"
     ]
    }
   ],
   "source": [
    "left_fp_non_triv_proj_rep_charges = dict()\n",
    "\n",
    "for k, v in tqdm(optimizer_dict_non_triv_proj_rep.items()):\n",
    "    left_fp_non_triv_proj_rep_charges[k] = left_fp_charge(v)"
   ]
  },
  {
   "cell_type": "code",
   "execution_count": 189,
   "id": "7eefb0a6-f6d9-46ae-99b2-a0cd28c7c56e",
   "metadata": {},
   "outputs": [],
   "source": [
    "left_fp_triv_proj_rep_charges_list = list()\n",
    "\n",
    "for t in interpolation_values:\n",
    "    l0 = [left_fp_triv_proj_rep_charges[(t,0,i)] for i in range(4)]\n",
    "    l1 = [left_fp_triv_proj_rep_charges[(t,1,i)] for i in range(4)]\n",
    "    \n",
    "    left_fp_triv_proj_rep_charges_list.append([l0, l1])\n",
    "\n",
    "left_fp_triv_proj_rep_charges_array = np.array(left_fp_triv_proj_rep_charges_list)"
   ]
  },
  {
   "cell_type": "code",
   "execution_count": 190,
   "id": "39bac7b4-6db2-4fe3-b237-ac7a820c7c67",
   "metadata": {},
   "outputs": [],
   "source": [
    "left_fp_non_triv_proj_rep_charges_list = list()\n",
    "\n",
    "for t in interpolation_values:\n",
    "    l0 = [left_fp_non_triv_proj_rep_charges[(t,0,i)] for i in range(4)]\n",
    "    l1 = [left_fp_non_triv_proj_rep_charges[(t,1,i)] for i in range(4)]\n",
    "    \n",
    "    left_fp_non_triv_proj_rep_charges_list.append([l0, l1])\n",
    "\n",
    "left_fp_non_triv_proj_rep_charges_array = np.array(left_fp_non_triv_proj_rep_charges_list)"
   ]
  },
  {
   "cell_type": "code",
   "execution_count": 191,
   "id": "10290934-5529-4caf-b258-f70633b90f51",
   "metadata": {},
   "outputs": [],
   "source": [
    "left_fp_triv_proj_rep_charges_dict = dict()\n",
    "\n",
    "for i, t in enumerate(interpolation_values):\n",
    "    for j in range(4):\n",
    "        charge = left_fp_triv_proj_rep_charges_array[i, 0, j]\n",
    "        sign_charge = 1 if charge > 0 else -1\n",
    "    \n",
    "        left_fp_triv_proj_rep_charges_dict[(t, j)] = sign_charge"
   ]
  },
  {
   "cell_type": "code",
   "execution_count": 192,
   "id": "f7135071-2125-47e6-a518-4a2d343f40a2",
   "metadata": {},
   "outputs": [],
   "source": [
    "left_fp_non_triv_proj_rep_charges_dict = dict()\n",
    "\n",
    "for i, t in enumerate(interpolation_values):\n",
    "    for j in range(4):\n",
    "        charge = left_fp_non_triv_proj_rep_charges_array[i, 0, j]\n",
    "        sign_charge = 1 if charge > 0 else -1\n",
    "    \n",
    "        left_fp_non_triv_proj_rep_charges_dict[(t, j)] = sign_charge"
   ]
  },
  {
   "cell_type": "code",
   "execution_count": 193,
   "id": "24e49730-c40a-49bb-87f3-b6d328f7a48b",
   "metadata": {},
   "outputs": [
    {
     "data": {
      "text/plain": [
       "(True, True)"
      ]
     },
     "execution_count": 193,
     "metadata": {},
     "output_type": "execute_result"
    }
   ],
   "source": [
    "(\n",
    "    left_fp_triv_proj_rep_charges_dict == right_fp_triv_proj_rep_charges_dict,\n",
    "    left_fp_non_triv_proj_rep_charges_dict == right_fp_non_triv_proj_rep_charges_dict\n",
    ")"
   ]
  },
  {
   "cell_type": "markdown",
   "id": "9c8afa1f-98e1-467d-bc17-eb5adce3e325",
   "metadata": {},
   "source": [
    "Great, they agree so we only need one going forward."
   ]
  },
  {
   "cell_type": "markdown",
   "id": "81aec7c5-1567-4263-8224-17d1021f4657",
   "metadata": {},
   "source": [
    "Combine into single array."
   ]
  },
  {
   "cell_type": "code",
   "execution_count": 194,
   "id": "d88b62f8-0259-4525-9af7-179892a7d853",
   "metadata": {},
   "outputs": [],
   "source": [
    "fp_triv_proj_rep_charges_array = np.stack(\n",
    "    [left_fp_triv_proj_rep_charges_array, right_fp_triv_proj_rep_charges_array],\n",
    "    axis=-1\n",
    ")\n",
    "\n",
    "fp_non_triv_proj_rep_charges_array = np.stack(\n",
    "    [left_fp_non_triv_proj_rep_charges_array, right_fp_non_triv_proj_rep_charges_array],\n",
    "    axis=-1\n",
    ")\n",
    "\n",
    "fp_charges_array = np.stack(\n",
    "    [fp_triv_proj_rep_charges_array, fp_non_triv_proj_rep_charges_array],\n",
    "    axis=0\n",
    ")"
   ]
  },
  {
   "cell_type": "code",
   "execution_count": 195,
   "id": "a709f7c2-7daf-4010-a03f-209edb7e50ad",
   "metadata": {},
   "outputs": [
    {
     "data": {
      "text/plain": [
       "(2, 2, 2, 4, 2)"
      ]
     },
     "execution_count": 195,
     "metadata": {},
     "output_type": "execute_result"
    }
   ],
   "source": [
    "fp_charges_array.shape"
   ]
  },
  {
   "cell_type": "code",
   "execution_count": 196,
   "id": "38be5659-a5d1-44d5-bc20-4ab9a4b254f1",
   "metadata": {},
   "outputs": [
    {
     "data": {
      "text/plain": [
       "8.998403709008246e-07"
      ]
     },
     "execution_count": 196,
     "metadata": {},
     "output_type": "execute_result"
    }
   ],
   "source": [
    "np.max(np.abs(fp_charges_array[..., 0] - fp_charges_array[..., 1]))"
   ]
  },
  {
   "cell_type": "code",
   "execution_count": 197,
   "id": "f50cfe4a-812c-448d-84b3-b4c5dd496d22",
   "metadata": {},
   "outputs": [],
   "source": [
    "fp_charges_array = fp_charges_array[..., 0]"
   ]
  },
  {
   "cell_type": "code",
   "execution_count": 198,
   "id": "0c331321-d1b0-4585-82bc-17f67fdb2a94",
   "metadata": {},
   "outputs": [
    {
     "data": {
      "text/plain": [
       "0.016667516522387057"
      ]
     },
     "execution_count": 198,
     "metadata": {},
     "output_type": "execute_result"
    }
   ],
   "source": [
    "np.max(np.abs(fp_charges_array[..., 0, :] - fp_charges_array[..., 1, :]))"
   ]
  },
  {
   "cell_type": "code",
   "execution_count": 199,
   "id": "efab12fb-4bb4-4c73-a18d-144be7049308",
   "metadata": {},
   "outputs": [
    {
     "data": {
      "text/plain": [
       "4.390268806157464e-06"
      ]
     },
     "execution_count": 199,
     "metadata": {},
     "output_type": "execute_result"
    }
   ],
   "source": [
    "np.max(np.abs(np.imag(fp_charges_array)))"
   ]
  },
  {
   "cell_type": "code",
   "execution_count": 200,
   "id": "64b209fe-968a-473a-a5fd-089d8e3f6e9f",
   "metadata": {},
   "outputs": [],
   "source": [
    "fp_charges_array = np.real(fp_charges_array)"
   ]
  },
  {
   "cell_type": "code",
   "execution_count": 201,
   "id": "e8db88be-2d90-4990-8f0f-d2eb96858e74",
   "metadata": {},
   "outputs": [
    {
     "data": {
      "text/plain": [
       "0.7409745942592117"
      ]
     },
     "execution_count": 201,
     "metadata": {},
     "output_type": "execute_result"
    }
   ],
   "source": [
    "np.min(np.abs(fp_charges_array))"
   ]
  },
  {
   "cell_type": "code",
   "execution_count": 202,
   "id": "98257c38-1a94-43ca-9906-9c9279305c07",
   "metadata": {},
   "outputs": [
    {
     "data": {
      "text/plain": [
       "(2, 2, 2, 4)"
      ]
     },
     "execution_count": 202,
     "metadata": {},
     "output_type": "execute_result"
    }
   ],
   "source": [
    "fp_charges_array.shape"
   ]
  },
  {
   "cell_type": "code",
   "execution_count": 203,
   "id": "10024656-ef08-428a-9dc6-e1163a73ed1a",
   "metadata": {},
   "outputs": [
    {
     "data": {
      "text/plain": [
       "array([[[[ 1.        , -0.7409803 ,  1.        , -0.7409803 ],\n",
       "         [ 0.98607334, -0.74097459,  0.98607334, -0.74097651]],\n",
       "\n",
       "        [[ 1.        ,  0.75056097,  1.        ,  0.75056097],\n",
       "         [ 0.98741614,  0.75055589,  0.98741614,  0.75055589]]],\n",
       "\n",
       "\n",
       "       [[[ 1.        ,  0.92117287, -0.92249311, -0.98367592],\n",
       "         [ 0.98594308,  0.92243233, -0.92126613, -0.99749243]],\n",
       "\n",
       "        [[ 1.        , -0.94834263,  0.94191685, -0.98318997],\n",
       "         [ 0.98333248, -0.94201041,  0.94854924, -0.99921652]]]])"
      ]
     },
     "execution_count": 203,
     "metadata": {},
     "output_type": "execute_result"
    }
   ],
   "source": [
    "fp_charges_array"
   ]
  },
  {
   "cell_type": "markdown",
   "id": "064e813a-3286-48d9-a9c2-186f0072e8ff",
   "metadata": {},
   "source": [
    "# Calculate proj reps"
   ]
  },
  {
   "cell_type": "markdown",
   "id": "4d17bda4-86c0-4a5a-b342-7bb5b155ce74",
   "metadata": {},
   "source": [
    "## Right side"
   ]
  },
  {
   "cell_type": "code",
   "execution_count": 204,
   "id": "4b6a13ad-0357-4b3b-a331-0ffdd5f66c46",
   "metadata": {},
   "outputs": [],
   "source": [
    "right_triv_proj_rep_phases = list()\n",
    "\n",
    "for t in interpolation_values:\n",
    "    optimizers = list()\n",
    "    for j in range(4):\n",
    "        jw_phase = right_fp_triv_proj_rep_charges_dict[(t, j)]\n",
    "        jw = 1 if jw_phase < 0 else 0\n",
    "\n",
    "        opt = optimizer_dict_triv_proj_rep[(t, jw, j)]\n",
    "\n",
    "        optimizers.append(opt)\n",
    "\n",
    "    phases = get_right_proj_rep_phases_from_optimizers(optimizers)\n",
    "\n",
    "    right_triv_proj_rep_phases.append(phases)\n",
    "\n",
    "right_triv_proj_rep_phases = np.array(right_triv_proj_rep_phases)"
   ]
  },
  {
   "cell_type": "code",
   "execution_count": 205,
   "id": "b8a53f89-57ff-4b13-87f2-acc61e756b9d",
   "metadata": {},
   "outputs": [
    {
     "data": {
      "text/plain": [
       "(2, 6)"
      ]
     },
     "execution_count": 205,
     "metadata": {},
     "output_type": "execute_result"
    }
   ],
   "source": [
    "right_triv_proj_rep_phases.shape"
   ]
  },
  {
   "cell_type": "code",
   "execution_count": 206,
   "id": "c4219e09-e030-4399-8a24-db7c29fba92c",
   "metadata": {},
   "outputs": [
    {
     "data": {
      "text/plain": [
       "array([[-1.+0.j, -1.+0.j,  1.+0.j,  1.+0.j, -1.+0.j, -1.+0.j],\n",
       "       [ 1.+0.j,  1.+0.j,  1.+0.j,  1.+0.j,  1.+0.j,  1.+0.j]])"
      ]
     },
     "execution_count": 206,
     "metadata": {},
     "output_type": "execute_result"
    }
   ],
   "source": [
    "right_triv_proj_rep_phases"
   ]
  },
  {
   "cell_type": "code",
   "execution_count": 207,
   "id": "130ec497-cc88-4084-a384-690ef98ca805",
   "metadata": {},
   "outputs": [
    {
     "data": {
      "text/plain": [
       "array([[1.-0.j, 1.+0.j, 1.-0.j],\n",
       "       [1.+0.j, 1.+0.j, 1.+0.j]])"
      ]
     },
     "execution_count": 207,
     "metadata": {},
     "output_type": "execute_result"
    }
   ],
   "source": [
    "right_triv_proj_rep_phases[:, ::2]/right_triv_proj_rep_phases[:, 1::2]"
   ]
  },
  {
   "cell_type": "code",
   "execution_count": 208,
   "id": "25314f03-1c20-409d-a9a1-448c33a39654",
   "metadata": {},
   "outputs": [],
   "source": [
    "right_non_triv_proj_rep_phases = list()\n",
    "\n",
    "for t in interpolation_values:\n",
    "    optimizers = list()\n",
    "    for j in range(4):\n",
    "        jw_phase = right_fp_non_triv_proj_rep_charges_dict[(t, j)]\n",
    "        jw = 1 if jw_phase < 0 else 0\n",
    "\n",
    "        opt = optimizer_dict_non_triv_proj_rep[(t, jw, j)]\n",
    "\n",
    "        optimizers.append(opt)\n",
    "\n",
    "    phases = get_right_proj_rep_phases_from_optimizers(optimizers)\n",
    "\n",
    "    right_non_triv_proj_rep_phases.append(phases)\n",
    "\n",
    "right_non_triv_proj_rep_phases = np.array(right_non_triv_proj_rep_phases)"
   ]
  },
  {
   "cell_type": "code",
   "execution_count": 209,
   "id": "98548d5f-6c31-449e-a6e8-b99aa1c07935",
   "metadata": {},
   "outputs": [
    {
     "data": {
      "text/plain": [
       "(2, 6)"
      ]
     },
     "execution_count": 209,
     "metadata": {},
     "output_type": "execute_result"
    }
   ],
   "source": [
    "right_non_triv_proj_rep_phases.shape"
   ]
  },
  {
   "cell_type": "code",
   "execution_count": 210,
   "id": "7634eb91-5267-48ac-bad4-d9aeb0608ae5",
   "metadata": {},
   "outputs": [
    {
     "data": {
      "text/plain": [
       "array([[-0.-1.j,  0.+1.j, -0.+1.j,  0.-1.j, -0.+1.j, -0.-1.j],\n",
       "       [ 1.-0.j,  1.-0.j,  1.+0.j,  1.+0.j,  1.+0.j,  1.+0.j]])"
      ]
     },
     "execution_count": 210,
     "metadata": {},
     "output_type": "execute_result"
    }
   ],
   "source": [
    "np.round(right_non_triv_proj_rep_phases, 2)"
   ]
  },
  {
   "cell_type": "markdown",
   "id": "38018c34-b5cc-4dfe-a4c0-a950a692ef4c",
   "metadata": {},
   "source": [
    "Why are these phases so clean..."
   ]
  },
  {
   "cell_type": "code",
   "execution_count": 211,
   "id": "28a8cfef-49a6-4bbc-97ca-000d0b0816c8",
   "metadata": {},
   "outputs": [
    {
     "data": {
      "text/plain": [
       "array([[-1.+0.j, -1.-0.j, -1.-0.j],\n",
       "       [ 1.-0.j,  1.+0.j,  1.+0.j]])"
      ]
     },
     "execution_count": 211,
     "metadata": {},
     "output_type": "execute_result"
    }
   ],
   "source": [
    "np.round(\n",
    "    right_non_triv_proj_rep_phases[:, ::2]/right_non_triv_proj_rep_phases[:, 1::2],\n",
    "    2\n",
    ")"
   ]
  },
  {
   "cell_type": "markdown",
   "id": "fd8b186b-98bc-4038-a20b-5181ec4101d3",
   "metadata": {},
   "source": [
    "## Left side"
   ]
  },
  {
   "cell_type": "code",
   "execution_count": 212,
   "id": "f8b63c2c-f024-46fa-a6de-11ddc05cfa31",
   "metadata": {},
   "outputs": [],
   "source": [
    "left_triv_proj_rep_phases = list()\n",
    "\n",
    "for t in interpolation_values:\n",
    "    optimizers = list()\n",
    "    for j in range(4):\n",
    "        jw_phase = left_fp_triv_proj_rep_charges_dict[(t, j)]\n",
    "        jw = 1 if jw_phase < 0 else 0\n",
    "\n",
    "        opt = optimizer_dict_triv_proj_rep[(t, jw, j)]\n",
    "\n",
    "        optimizers.append(opt)\n",
    "\n",
    "    phases = get_left_proj_rep_phases_from_optimizers(optimizers)\n",
    "\n",
    "    left_triv_proj_rep_phases.append(phases)\n",
    "\n",
    "left_triv_proj_rep_phases = np.array(left_triv_proj_rep_phases)"
   ]
  },
  {
   "cell_type": "code",
   "execution_count": 213,
   "id": "a5a0ae45-7170-4eab-87f6-b7fcfb9a132d",
   "metadata": {},
   "outputs": [
    {
     "data": {
      "text/plain": [
       "(2, 6)"
      ]
     },
     "execution_count": 213,
     "metadata": {},
     "output_type": "execute_result"
    }
   ],
   "source": [
    "left_triv_proj_rep_phases.shape"
   ]
  },
  {
   "cell_type": "code",
   "execution_count": 214,
   "id": "79ad0d6f-777b-4af1-aafd-5020b1462f83",
   "metadata": {},
   "outputs": [
    {
     "data": {
      "text/plain": [
       "array([[-1.+0.j, -1.+0.j,  1.+0.j,  1.+0.j, -1.+0.j, -1.+0.j],\n",
       "       [ 1.+0.j,  1.+0.j,  1.+0.j,  1.+0.j,  1.+0.j,  1.+0.j]])"
      ]
     },
     "execution_count": 214,
     "metadata": {},
     "output_type": "execute_result"
    }
   ],
   "source": [
    "left_triv_proj_rep_phases"
   ]
  },
  {
   "cell_type": "code",
   "execution_count": 215,
   "id": "c303efeb-bc13-4593-afdc-7d557e482fea",
   "metadata": {},
   "outputs": [
    {
     "data": {
      "text/plain": [
       "array([[1.-0.j, 1.+0.j, 1.-0.j],\n",
       "       [1.+0.j, 1.+0.j, 1.+0.j]])"
      ]
     },
     "execution_count": 215,
     "metadata": {},
     "output_type": "execute_result"
    }
   ],
   "source": [
    "left_triv_proj_rep_phases[:, ::2]/left_triv_proj_rep_phases[:, 1::2]"
   ]
  },
  {
   "cell_type": "code",
   "execution_count": 216,
   "id": "76fbf818-fb5c-47e9-9382-80d23b9857d0",
   "metadata": {},
   "outputs": [],
   "source": [
    "left_non_triv_proj_rep_phases = list()\n",
    "\n",
    "for t in interpolation_values:\n",
    "    optimizers = list()\n",
    "    for j in range(4):\n",
    "        jw_phase = left_fp_non_triv_proj_rep_charges_dict[(t, j)]\n",
    "        jw = 1 if jw_phase < 0 else 0\n",
    "\n",
    "        opt = optimizer_dict_non_triv_proj_rep[(t, jw, j)]\n",
    "\n",
    "        optimizers.append(opt)\n",
    "\n",
    "    phases = get_left_proj_rep_phases_from_optimizers(optimizers)\n",
    "\n",
    "    left_non_triv_proj_rep_phases.append(phases)\n",
    "\n",
    "left_non_triv_proj_rep_phases = np.array(left_non_triv_proj_rep_phases)"
   ]
  },
  {
   "cell_type": "code",
   "execution_count": 217,
   "id": "21772853-8489-422d-8ce2-40f90c98de6b",
   "metadata": {},
   "outputs": [
    {
     "data": {
      "text/plain": [
       "(2, 6)"
      ]
     },
     "execution_count": 217,
     "metadata": {},
     "output_type": "execute_result"
    }
   ],
   "source": [
    "left_non_triv_proj_rep_phases.shape"
   ]
  },
  {
   "cell_type": "code",
   "execution_count": 218,
   "id": "36ea8b74-b60a-45e9-89a3-7a74983b186a",
   "metadata": {},
   "outputs": [
    {
     "data": {
      "text/plain": [
       "array([[-0.+1.j,  0.-1.j, -0.-1.j,  0.+1.j,  0.-1.j,  0.+1.j],\n",
       "       [ 1.+0.j,  1.+0.j,  1.-0.j,  1.-0.j,  1.-0.j,  1.-0.j]])"
      ]
     },
     "execution_count": 218,
     "metadata": {},
     "output_type": "execute_result"
    }
   ],
   "source": [
    "np.round(left_non_triv_proj_rep_phases, 2)"
   ]
  },
  {
   "cell_type": "code",
   "execution_count": 219,
   "id": "5a944f24-f202-4b14-9c95-2ab4d20ba6af",
   "metadata": {},
   "outputs": [
    {
     "data": {
      "text/plain": [
       "array([[-1.+0.j, -1.-0.j, -1.-0.j],\n",
       "       [ 1.-0.j,  1.-0.j,  1.+0.j]])"
      ]
     },
     "execution_count": 219,
     "metadata": {},
     "output_type": "execute_result"
    }
   ],
   "source": [
    "np.round(\n",
    "    left_non_triv_proj_rep_phases[:, ::2]/left_non_triv_proj_rep_phases[:, 1::2],\n",
    "    2\n",
    ")"
   ]
  },
  {
   "cell_type": "markdown",
   "id": "8e9ae742-6b59-4166-96a6-985e49978c36",
   "metadata": {},
   "source": [
    "# Conclusion\n",
    "4 sites technically works, but it looks very fragile in one particular case, i.e. the resulting expectation is essentially 0. Therefore use 6 sites generically.\n",
    "\n",
    "However these results seem inconsistent, so should try 4 sites with the variational appraoch too."
   ]
  },
  {
   "cell_type": "code",
   "execution_count": null,
   "id": "f2109a6c-ae3f-4114-bd47-f81fd7d6999e",
   "metadata": {},
   "outputs": [],
   "source": []
  }
 ],
 "metadata": {
  "kernelspec": {
   "display_name": "num_spt_venv_p11",
   "language": "python",
   "name": "num_spt_venv_p11"
  },
  "language_info": {
   "codemirror_mode": {
    "name": "ipython",
    "version": 3
   },
   "file_extension": ".py",
   "mimetype": "text/x-python",
   "name": "python",
   "nbconvert_exporter": "python",
   "pygments_lexer": "ipython3",
   "version": "3.11.9"
  }
 },
 "nbformat": 4,
 "nbformat_minor": 5
}
