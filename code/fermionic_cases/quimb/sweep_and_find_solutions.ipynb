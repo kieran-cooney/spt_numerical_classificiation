{
 "cells": [
  {
   "cell_type": "markdown",
   "id": "78094a57-64b8-45bc-ba70-495ea6f81d71",
   "metadata": {},
   "source": [
    "# Sweep and find solutions\n",
    "Created 31/05/2024\n",
    "\n",
    "Objectives:\n",
    "* Sweep over and find all fermionic boundary operators."
   ]
  },
  {
   "cell_type": "markdown",
   "id": "5e618d3a-fdaf-441f-bc73-3649e01a7b3c",
   "metadata": {},
   "source": [
    "# Package imports"
   ]
  },
  {
   "cell_type": "code",
   "execution_count": 5,
   "id": "ecb41ea3-927f-4efa-aebe-ce15784aa037",
   "metadata": {},
   "outputs": [],
   "source": [
    "import sys"
   ]
  },
  {
   "cell_type": "code",
   "execution_count": 6,
   "id": "0375bd38-12e1-417a-908a-13fb540081f5",
   "metadata": {},
   "outputs": [],
   "source": [
    "sys.path.append(\"../../\")"
   ]
  },
  {
   "cell_type": "code",
   "execution_count": 7,
   "id": "0cf49837-01b6-431a-b570-d7ed25903239",
   "metadata": {},
   "outputs": [],
   "source": [
    "from itertools import chain\n",
    "import re\n",
    "\n",
    "from collections import Counter, namedtuple"
   ]
  },
  {
   "cell_type": "code",
   "execution_count": 8,
   "id": "f59344b7-d34e-47e4-99be-f5a2687f8176",
   "metadata": {},
   "outputs": [],
   "source": [
    "import h5py\n",
    "from tenpy.tools import hdf5_io\n",
    "import tenpy\n",
    "import tenpy.linalg.np_conserved as npc\n",
    "\n",
    "import os\n",
    "import pickle"
   ]
  },
  {
   "cell_type": "code",
   "execution_count": 9,
   "id": "19404619-d778-4cc3-8ee1-1db6f14b2043",
   "metadata": {},
   "outputs": [],
   "source": [
    "import numpy as np\n",
    "from jax import numpy as jnp\n",
    "\n",
    "import matplotlib.pyplot as plt\n",
    "\n",
    "import scipy"
   ]
  },
  {
   "cell_type": "code",
   "execution_count": 10,
   "id": "92eeb066-5463-4237-ad07-3c5a0d934f4f",
   "metadata": {},
   "outputs": [
    {
     "name": "stderr",
     "output_type": "stream",
     "text": [
      "/home/kieranc/Desktop/numerical_spt_classification/code/num_spt_venv_p11/lib/python3.11/site-packages/cotengra/hyperoptimizers/hyper.py:54: UserWarning: Couldn't find `optuna`, `cmaes`, or `nevergrad` so will use completely random sampling in place of hyper-optimization.\n",
      "  warnings.warn(\n",
      "/home/kieranc/Desktop/numerical_spt_classification/code/num_spt_venv_p11/lib/python3.11/site-packages/cotengra/hyperoptimizers/hyper.py:36: UserWarning: Couldn't import `kahypar` - skipping from default hyper optimizer and using basic `labels` method instead.\n",
      "  warnings.warn(\n",
      "/home/kieranc/Desktop/numerical_spt_classification/code/num_spt_venv_p11/lib/python3.11/site-packages/cotengra/hyperoptimizers/hyper.py:73: UserWarning: Couldn't find `optuna`, `cmaes`, or `nevergrad` so will use completely random sampling in place of hyper-optimization.\n",
      "  warnings.warn(\n"
     ]
    }
   ],
   "source": [
    "import quimb as qu\n",
    "import quimb.tensor as qtn\n",
    "from quimb.tensor.optimize import TNOptimizer"
   ]
  },
  {
   "cell_type": "markdown",
   "id": "1e7fa07a-a850-4148-bb15-43b2582429cb",
   "metadata": {},
   "source": [
    "# Load data"
   ]
  },
  {
   "cell_type": "code",
   "execution_count": 11,
   "id": "a073ec4a-1d8d-4786-af9f-11e750b1e3a9",
   "metadata": {},
   "outputs": [],
   "source": [
    "DATA_DIR_1 = r\"../../data/interpolated_trivial_to_nontrivial_fermionic_trivial_proj_rep_200_site_dmrg/\"\n",
    "DATA_DIR_2 = r\"../../data/interpolated_nontrivial_fermionic_proj_rep_to_nontrivial_proj_rep_200_site_dmrg/\""
   ]
  },
  {
   "cell_type": "code",
   "execution_count": 12,
   "id": "9fd5bc67-e5e4-4b8f-a5e4-f5120506f1ed",
   "metadata": {},
   "outputs": [],
   "source": [
    "def parse_file_name(file_name):\n",
    "    interpolation = int(file_name.split('_')[0])/100\n",
    "\n",
    "    return interpolation"
   ]
  },
  {
   "cell_type": "code",
   "execution_count": 13,
   "id": "cbe1e575-7fb0-4951-9fc8-dce918ef2e54",
   "metadata": {},
   "outputs": [],
   "source": [
    "loaded_data_triv_proj_rep = dict()\n",
    "energies_triv_proj_rep = dict()\n",
    "\n",
    "for local_file_name in list(os.walk(DATA_DIR_1))[0][2]:\n",
    "    f_name = r\"{}/{}\".format(DATA_DIR_1, local_file_name, ignore_unknown=False)\n",
    "\n",
    "    with h5py.File(f_name, 'r') as f:\n",
    "        data = hdf5_io.load_from_hdf5(f)\n",
    "\n",
    "        data_info = parse_file_name(local_file_name)\n",
    "        loaded_data_triv_proj_rep[data_info]=data['wavefunction']\n",
    "        energies_triv_proj_rep[data_info]=data['energy']"
   ]
  },
  {
   "cell_type": "code",
   "execution_count": 14,
   "id": "d694f0e0-4ab2-4eea-8f21-7177abc2de50",
   "metadata": {},
   "outputs": [],
   "source": [
    "loaded_data_non_triv_proj_rep = dict()\n",
    "energies_non_triv_proj_rep = dict()\n",
    "\n",
    "for local_file_name in list(os.walk(DATA_DIR_2))[0][2]:\n",
    "    f_name = r\"{}/{}\".format(DATA_DIR_2, local_file_name, ignore_unknown=False)\n",
    "\n",
    "    with h5py.File(f_name, 'r') as f:\n",
    "        data = hdf5_io.load_from_hdf5(f)\n",
    "\n",
    "        data_info = parse_file_name(local_file_name)\n",
    "        loaded_data_non_triv_proj_rep[data_info]=data['wavefunction']\n",
    "        energies_non_triv_proj_rep[data_info]=data['energy']"
   ]
  },
  {
   "cell_type": "code",
   "execution_count": 15,
   "id": "c6f844ce-e988-4b14-8427-413eff20782e",
   "metadata": {},
   "outputs": [
    {
     "data": {
      "text/plain": [
       "Counter({('vL', 'p', 'vR'): 4200})"
      ]
     },
     "execution_count": 15,
     "metadata": {},
     "output_type": "execute_result"
    }
   ],
   "source": [
    "Counter(\n",
    "    tuple(psi.get_B(i).get_leg_labels())\n",
    "    for psi in loaded_data_triv_proj_rep.values()\n",
    "    for i in range(psi.L)\n",
    ")"
   ]
  },
  {
   "cell_type": "code",
   "execution_count": 16,
   "id": "f1e92883-f7cb-4870-91d2-85c3745b928b",
   "metadata": {},
   "outputs": [
    {
     "data": {
      "text/plain": [
       "Counter({('vL', 'p', 'vR'): 4200})"
      ]
     },
     "execution_count": 16,
     "metadata": {},
     "output_type": "execute_result"
    }
   ],
   "source": [
    "Counter(\n",
    "    tuple(psi.get_B(i).get_leg_labels())\n",
    "    for psi in loaded_data_non_triv_proj_rep.values()\n",
    "    for i in range(psi.L)\n",
    ")"
   ]
  },
  {
   "cell_type": "markdown",
   "id": "3269e554-4543-4e55-8a03-68083f819521",
   "metadata": {},
   "source": [
    "# Definitions"
   ]
  },
  {
   "cell_type": "code",
   "execution_count": 17,
   "id": "550e5a48-302e-4588-8b17-978e37ee1a95",
   "metadata": {},
   "outputs": [],
   "source": [
    "np_00 = np.array([\n",
    "    [1, 0, 0, 0],\n",
    "    [0, 1, 0, 0],\n",
    "    [0, 0, 1, 0],\n",
    "    [0, 0, 0, 1]\n",
    "])\n",
    "\n",
    "np_01 = np.array([\n",
    "    [0, 1, 0, 0],\n",
    "    [1, 0, 0, 0],\n",
    "    [0, 0, 0, 1],\n",
    "    [0, 0, 1, 0]\n",
    "])\n",
    "\n",
    "np_10 = np.array([\n",
    "    [0, 0, 1, 0],\n",
    "    [0, 0, 0, 1],\n",
    "    [1, 0, 0, 0],\n",
    "    [0, 1, 0, 0]\n",
    "])\n",
    "\n",
    "np_11 = np.array([\n",
    "    [0, 0, 0, 1],\n",
    "    [0, 0, 1, 0],\n",
    "    [0, 1, 0, 0],\n",
    "    [1, 0, 0, 0]\n",
    "])"
   ]
  },
  {
   "cell_type": "code",
   "execution_count": 18,
   "id": "7be888f1-58f3-472a-920e-7920a8974192",
   "metadata": {},
   "outputs": [],
   "source": [
    "bosonic_np_symmetries = [\n",
    "    np_00,\n",
    "    np_01,\n",
    "    np_10,\n",
    "    np_11\n",
    "]"
   ]
  },
  {
   "cell_type": "code",
   "execution_count": 19,
   "id": "7eab7fb2-331f-41b7-8278-84642df9cb17",
   "metadata": {},
   "outputs": [],
   "source": [
    "np_I = np.array([\n",
    "    [1, 0],\n",
    "    [0, 1]\n",
    "])\n",
    "\n",
    "np_JW = np.array([\n",
    "    [1, 0],\n",
    "    [0, -1]\n",
    "])"
   ]
  },
  {
   "cell_type": "code",
   "execution_count": 20,
   "id": "34029aa6-57e2-44a5-85ac-91517d851411",
   "metadata": {},
   "outputs": [],
   "source": [
    "fermionic_np_symmetries = [np_I, np_JW]"
   ]
  },
  {
   "cell_type": "code",
   "execution_count": 21,
   "id": "dd7d4af7-0809-4736-927f-b79047df62fe",
   "metadata": {},
   "outputs": [],
   "source": [
    "def generate_problem_rdm(quimb_psi, symmetry_site_pairs, leftmost_symmetry_site,\n",
    "                         num_symmetry_sites, num_boundary_sites):\n",
    "    q_top = quimb_psi.copy(deep=True)\n",
    "    for i, s in symmetry_site_pairs:\n",
    "        q_top.gate(\n",
    "            s,\n",
    "            where=i,\n",
    "            contract=False,\n",
    "            inplace=True\n",
    "        )\n",
    "\n",
    "    \n",
    "    indices_to_map = list(chain(\n",
    "        range(leftmost_symmetry_site-num_boundary_sites, leftmost_symmetry_site),\n",
    "        range(leftmost_symmetry_site+num_symmetry_sites, leftmost_symmetry_site+num_symmetry_sites+num_boundary_sites)\n",
    "    ))\n",
    "\n",
    "    index_mapping = {f'k{i}': f'b{i}' for i in indices_to_map}\n",
    "\n",
    "    q_bottom = (\n",
    "        quimb_psi\n",
    "        .copy()\n",
    "        .reindex(index_mapping, inplace=True)\n",
    "        .conj()\n",
    "    )\n",
    "\n",
    "    sites_to_contract = {\n",
    "        'left': list(range(leftmost_symmetry_site-num_boundary_sites)),\n",
    "        'middle': list(range(leftmost_symmetry_site, leftmost_symmetry_site+num_symmetry_sites)),\n",
    "        'right': list(range(leftmost_symmetry_site+num_symmetry_sites+num_boundary_sites, quimb_psi.L))\n",
    "    }\n",
    "\n",
    "    tags_to_contract = {\n",
    "        k: [f'I{i}' for i in v]\n",
    "        for k, v in sites_to_contract.items()\n",
    "    }\n",
    "\n",
    "    tn = (q_top & q_bottom)\n",
    "\n",
    "    tnc = (\n",
    "        tn\n",
    "        .contract(tags_to_contract['left'])\n",
    "        .contract(tags_to_contract['middle'])\n",
    "        .contract(tags_to_contract['right'])\n",
    "    )\n",
    "\n",
    "    return tnc"
   ]
  },
  {
   "cell_type": "code",
   "execution_count": 22,
   "id": "247da004-3bb3-461f-9e60-9768b025e061",
   "metadata": {},
   "outputs": [],
   "source": [
    "def initialize_mpo(left_most_symmetry_site, num_symmetry_sites,\n",
    "                   num_boundary_sites, bond_dimension, phys_dim=[4,2]):\n",
    "    # Kind of hard coding the physical dimensions.\n",
    "    ml = qtn.MPO_rand(\n",
    "        num_boundary_sites,\n",
    "        bond_dimension,\n",
    "        phys_dim=phys_dim,\n",
    "        normalize=True,\n",
    "        sites=list(range(left_most_symmetry_site-num_boundary_sites, left_most_symmetry_site)),\n",
    "        dtype=np.complex128,\n",
    "        tags='left_mpo'\n",
    "    )\n",
    "\n",
    "    mr = qtn.MPO_rand(\n",
    "        num_boundary_sites,\n",
    "        bond_dimension,\n",
    "        phys_dim=phys_dim,\n",
    "        normalize=True,\n",
    "        sites=list(range(\n",
    "            left_most_symmetry_site + num_symmetry_sites,\n",
    "            left_most_symmetry_site + num_symmetry_sites + num_boundary_sites\n",
    "        )),\n",
    "        dtype=np.complex128,\n",
    "        tags='right_mpo'\n",
    "    )\n",
    "\n",
    "    mpo = (ml & mr)\n",
    "\n",
    "    return mpo"
   ]
  },
  {
   "cell_type": "markdown",
   "id": "5fc06a38-7a0c-4740-8759-b5e34c4b0a37",
   "metadata": {},
   "source": [
    "## Optimisation functions"
   ]
  },
  {
   "cell_type": "code",
   "execution_count": 23,
   "id": "07094b29-e8ee-49eb-af8b-bb3a13833ef0",
   "metadata": {},
   "outputs": [],
   "source": [
    "def split_mpo_pair(mpo_pair):\n",
    "    ml = qtn.TensorNetwork(\n",
    "        list(map(mpo_pair.tensor_map.__getitem__, mpo.tag_map['left_mpo']))\n",
    "    )\n",
    "\n",
    "    mr = qtn.TensorNetwork(\n",
    "        list(map(mpo_pair.tensor_map.__getitem__, mpo.tag_map['right_mpo']))\n",
    "    )\n",
    "\n",
    "    return (ml, mr)"
   ]
  },
  {
   "cell_type": "code",
   "execution_count": 24,
   "id": "f9c78157-b1e7-4766-93f9-0b9101909c8e",
   "metadata": {},
   "outputs": [],
   "source": [
    "def overlap_loss_function(ml, mr, rdm_tn, epsilon=0):\n",
    "    c = (rdm_tn & ml & mr) ^ ...\n",
    "\n",
    "    c_abs_squared = (\n",
    "        c\n",
    "        *jnp.conjugate(c)\n",
    "    )\n",
    "    #c_abs_squared = c_abs_squared.astype('float32')\n",
    "    c_abs = (jnp.sqrt(c_abs_squared+epsilon))\n",
    "\n",
    "    target = jnp.sqrt(1+epsilon)\n",
    "    loss = (c_abs - target)**2\n",
    "\n",
    "    return loss"
   ]
  },
  {
   "cell_type": "code",
   "execution_count": 25,
   "id": "dc2acced-42d4-495a-8fa4-c6540a9c6ca0",
   "metadata": {},
   "outputs": [],
   "source": [
    "def overlap_loss_function_mpo_pair(mpo_pair, rdm_tn):\n",
    "    ml, mr = split_mpo_pair(mpo_pair)\n",
    "\n",
    "    return overlap_loss_function(ml, mr, rdm_tn)"
   ]
  },
  {
   "cell_type": "code",
   "execution_count": 26,
   "id": "b621cd9e-bf58-44b8-b924-55584bc55e0f",
   "metadata": {},
   "outputs": [],
   "source": [
    "regex_s = r\"^I\\d+$\"\n",
    "regex_p = re.compile(regex_s)"
   ]
  },
  {
   "cell_type": "code",
   "execution_count": 27,
   "id": "c11190c9-133d-47bb-9887-bcbb44c2ae05",
   "metadata": {},
   "outputs": [],
   "source": [
    "def relabel_mpo(mpo, k_label, b_label):\n",
    "    site_locs = [\n",
    "        int(k[1:]) for k in mpo.tag_map\n",
    "        if bool(re.search(regex_p, k))\n",
    "    ]\n",
    "\n",
    "    k_in_indices = [f'k{i}' for i in site_locs]\n",
    "    j_in_indices = [f'b{i}' for i in site_locs]\n",
    "\n",
    "    k_out_indices = [f'{k_label}{i}' for i in site_locs]\n",
    "    j_out_indices = [f'{b_label}{i}' for i in site_locs]\n",
    "\n",
    "    mapping = dict(\n",
    "        chain(\n",
    "            zip(k_in_indices, k_out_indices),\n",
    "            zip(j_in_indices, j_out_indices)\n",
    "        )\n",
    "    )\n",
    "\n",
    "    mpo.reindex(mapping, inplace=True)"
   ]
  },
  {
   "cell_type": "code",
   "execution_count": 28,
   "id": "bf90d0ad-8ea6-490a-94fd-22049fbc0daa",
   "metadata": {},
   "outputs": [],
   "source": [
    "def unitarity_tn(tn, total_physical_dim):\n",
    "    ms = [tn.copy(), tn.copy(), tn.copy()]\n",
    "\n",
    "    relabel_mpo(ms[0], 'k', 'l')\n",
    "    relabel_mpo(ms[1], 'm', 'l')\n",
    "    relabel_mpo(ms[2], 'm', 'b')\n",
    "\n",
    "    ms[0] = ms[0].conj()\n",
    "    ms[2] = ms[2].conj()\n",
    "\n",
    "    n2tn = (tn & tn.conj())\n",
    "    n2 = n2tn.contract(n2tn.tag_map)\n",
    "    n4tn = (tn & ms[0] & ms[1] & ms[2])\n",
    "    n4 = n4tn.contract(n4tn.tag_map)\n",
    "\n",
    "    out = jnp.real(n4 - 2*n2 + total_physical_dim)\n",
    "\n",
    "    return out"
   ]
  },
  {
   "cell_type": "code",
   "execution_count": 29,
   "id": "c4c6f486-6f28-4429-b385-f8a346fd1916",
   "metadata": {},
   "outputs": [],
   "source": [
    "def overall_loss_function(mpo_pair, rdm_tn, total_physical_dimension,\n",
    "    unitary_cost_coefficient=1, overlap_cost_coefficient=1, losses=None):\n",
    "    ml, mr = split_mpo_pair(mpo_pair)\n",
    "\n",
    "    o_loss = overlap_loss_function(ml, mr, rdm_tn)\n",
    "    ul_loss = unitarity_tn(ml, total_physical_dimension)\n",
    "    ur_loss = unitarity_tn(mr, total_physical_dimension)\n",
    "\n",
    "    out = (\n",
    "        unitary_cost_coefficient*(ul_loss+ur_loss)\n",
    "        + overlap_cost_coefficient*o_loss\n",
    "    )\n",
    "\n",
    "    out = jnp.real(out)\n",
    "\n",
    "    if losses is not None:\n",
    "        losses.append((o_loss, ul_loss, ur_loss))\n",
    "    return out"
   ]
  },
  {
   "cell_type": "markdown",
   "id": "73cc1438-7c30-49bd-baa5-6ca268b9b961",
   "metadata": {},
   "source": [
    "# Loop"
   ]
  },
  {
   "cell_type": "code",
   "execution_count": 30,
   "id": "dc679447-24be-4f3c-9a11-2fac1073acc6",
   "metadata": {},
   "outputs": [],
   "source": [
    "tenpy_mps_data = {\n",
    "    'triv': loaded_data_triv_proj_rep,\n",
    "    'non_triv': loaded_data_non_triv_proj_rep\n",
    "}"
   ]
  },
  {
   "cell_type": "code",
   "execution_count": 31,
   "id": "88afc57c-5227-4220-94e3-717a2e8db407",
   "metadata": {},
   "outputs": [],
   "source": [
    "num_boundary_sites=6\n",
    "left_most_symmetry_site=60\n",
    "num_symmetry_sites=80\n",
    "bond_dimension=6\n",
    "\n",
    "total_physical_dim = 2**9"
   ]
  },
  {
   "cell_type": "code",
   "execution_count": 32,
   "id": "33ee56db-2db8-4937-9397-e2bf4de6863b",
   "metadata": {},
   "outputs": [],
   "source": [
    "num_iterations = int(1e4) \n",
    "num_seeds = 5\n",
    "nhop=5\n",
    "\n",
    "alpha=1e-4\n",
    "beta_1 = 0.3\n",
    "beta_2 = 0.3\n",
    "overlap_learning_rate=50\n",
    "\n",
    "score_target=0.1"
   ]
  },
  {
   "cell_type": "code",
   "execution_count": 29,
   "id": "e670e7b4-8eba-4a26-9a0e-96af433360df",
   "metadata": {},
   "outputs": [
    {
     "name": "stderr",
     "output_type": "stream",
     "text": [
      "  0%|                                                                                                   | 0/50000 [00:00<?, ?it/s]/home/kieranc/Desktop/numerical_spt_classification/code/num_spt_venv_p11/lib/python3.11/site-packages/quimb/tensor/optimize.py:135: UserWarning: dtype mismatch between input parameter and updated values. This can occur e.g. with jax and double precision arrays (in which case consider setting `jax.config.update(\"jax_enable_x64\", True)` at startup or using single precision parameters directly). For now casting from complex64 to complex128.\n",
      "  warnings.warn(\n",
      "+0.126451015472 [best: +0.070920400321] : : 60006it [05:14, 190.88it/s]                                                           \n"
     ]
    },
    {
     "name": "stdout",
     "output_type": "stream",
     "text": [
      "Saving: solutions/triv_0.65_1_0_1.pickle\n"
     ]
    },
    {
     "name": "stderr",
     "output_type": "stream",
     "text": [
      "+0.217400550842 [best: +0.064896956086] : : 60006it [05:15, 190.43it/s]                                                           \n"
     ]
    },
    {
     "name": "stdout",
     "output_type": "stream",
     "text": [
      "Saving: solutions/triv_0.65_1_1_1.pickle\n"
     ]
    },
    {
     "name": "stderr",
     "output_type": "stream",
     "text": [
      "+0.189543977380 [best: +0.076619632542] : : 60006it [05:14, 190.61it/s]                                                           \n"
     ]
    },
    {
     "name": "stdout",
     "output_type": "stream",
     "text": [
      "Saving: solutions/triv_0.65_2_0_1.pickle\n"
     ]
    },
    {
     "name": "stderr",
     "output_type": "stream",
     "text": [
      "+0.174847438931 [best: +0.062234293669] : : 60006it [05:00, 199.44it/s]                                                                                     \n"
     ]
    },
    {
     "name": "stdout",
     "output_type": "stream",
     "text": [
      "Saving: solutions/triv_0.65_2_1_1.pickle\n"
     ]
    },
    {
     "name": "stderr",
     "output_type": "stream",
     "text": [
      "+0.161990970373 [best: +0.071819901466] : : 60006it [05:02, 198.40it/s]                                                                                     \n"
     ]
    },
    {
     "name": "stdout",
     "output_type": "stream",
     "text": [
      "Saving: solutions/triv_0.65_3_0_1.pickle\n"
     ]
    },
    {
     "name": "stderr",
     "output_type": "stream",
     "text": [
      "+0.168586537242 [best: +0.051050275564] : : 60006it [05:03, 197.73it/s]                                                                                     \n"
     ]
    },
    {
     "name": "stdout",
     "output_type": "stream",
     "text": [
      "Saving: solutions/triv_0.65_3_1_1.pickle\n"
     ]
    },
    {
     "name": "stderr",
     "output_type": "stream",
     "text": [
      "+2.404953241348 [best: +1.392619848251] : : 60006it [05:04, 196.96it/s]                                                                                     \n"
     ]
    },
    {
     "name": "stdout",
     "output_type": "stream",
     "text": [
      "Saving: solutions/triv_0.45_1_0_1.pickle\n"
     ]
    },
    {
     "name": "stderr",
     "output_type": "stream",
     "text": [
      "+2.895549774170 [best: +1.330608844757] : : 60006it [05:03, 197.88it/s]                                                                                     \n"
     ]
    },
    {
     "name": "stdout",
     "output_type": "stream",
     "text": [
      "Saving: solutions/triv_0.45_1_1_1.pickle\n"
     ]
    },
    {
     "name": "stderr",
     "output_type": "stream",
     "text": [
      "+0.066140681505 [best: +0.024802975357] : : 60006it [05:06, 196.03it/s]                                                                                     \n"
     ]
    },
    {
     "name": "stdout",
     "output_type": "stream",
     "text": [
      "Saving: solutions/triv_0.45_2_0_1.pickle\n"
     ]
    },
    {
     "name": "stderr",
     "output_type": "stream",
     "text": [
      "+0.998401343822 [best: +0.290273189545] : : 60006it [05:06, 196.08it/s]                                                                                     \n"
     ]
    },
    {
     "name": "stdout",
     "output_type": "stream",
     "text": [
      "Saving: solutions/triv_0.45_2_1_1.pickle\n"
     ]
    },
    {
     "name": "stderr",
     "output_type": "stream",
     "text": [
      "+2.821210384369 [best: +2.285187721252] : : 60006it [05:03, 197.59it/s]                                                                                     \n"
     ]
    },
    {
     "name": "stdout",
     "output_type": "stream",
     "text": [
      "Saving: solutions/triv_0.45_3_0_1.pickle\n"
     ]
    },
    {
     "name": "stderr",
     "output_type": "stream",
     "text": [
      "+5.635633945465 [best: +1.683738708496] : : 60006it [05:06, 196.09it/s]                                                                                     \n"
     ]
    },
    {
     "name": "stdout",
     "output_type": "stream",
     "text": [
      "Saving: solutions/triv_0.45_3_1_1.pickle\n"
     ]
    },
    {
     "name": "stderr",
     "output_type": "stream",
     "text": [
      "+1.036933660507 [best: +0.843742251396] : : 60006it [05:02, 198.04it/s]                                                                                     \n"
     ]
    },
    {
     "name": "stdout",
     "output_type": "stream",
     "text": [
      "Saving: solutions/triv_0.55_1_0_1.pickle\n"
     ]
    },
    {
     "name": "stderr",
     "output_type": "stream",
     "text": [
      "+1.448054909706 [best: +0.730483353138] : : 60006it [05:15, 190.32it/s]                                                                                     \n"
     ]
    },
    {
     "name": "stdout",
     "output_type": "stream",
     "text": [
      "Saving: solutions/triv_0.55_1_1_1.pickle\n"
     ]
    },
    {
     "name": "stderr",
     "output_type": "stream",
     "text": [
      "+0.257812500000 [best: +0.132787689567] : : 60006it [05:11, 192.76it/s]                                                           \n"
     ]
    },
    {
     "name": "stdout",
     "output_type": "stream",
     "text": [
      "Saving: solutions/triv_0.55_2_0_1.pickle\n"
     ]
    },
    {
     "name": "stderr",
     "output_type": "stream",
     "text": [
      "+0.330177128315 [best: +0.157872825861] : : 60006it [05:04, 197.26it/s]                                                           \n"
     ]
    },
    {
     "name": "stdout",
     "output_type": "stream",
     "text": [
      "Saving: solutions/triv_0.55_2_1_1.pickle\n"
     ]
    },
    {
     "name": "stderr",
     "output_type": "stream",
     "text": [
      "+1.105435371399 [best: +0.758607387543] : : 60006it [04:56, 202.44it/s]                                                                                     \n"
     ]
    },
    {
     "name": "stdout",
     "output_type": "stream",
     "text": [
      "Saving: solutions/triv_0.55_3_0_1.pickle\n"
     ]
    },
    {
     "name": "stderr",
     "output_type": "stream",
     "text": [
      "+1.406657814980 [best: +0.887543320656] : : 60006it [04:55, 202.90it/s]                                                                                     \n"
     ]
    },
    {
     "name": "stdout",
     "output_type": "stream",
     "text": [
      "Saving: solutions/triv_0.55_3_1_1.pickle\n"
     ]
    },
    {
     "name": "stderr",
     "output_type": "stream",
     "text": [
      "+0.053973138332 [best: +0.014326506294] : : 60006it [04:55, 203.18it/s]                                                                                     \n"
     ]
    },
    {
     "name": "stdout",
     "output_type": "stream",
     "text": [
      "Saving: solutions/triv_0.95_1_0_1.pickle\n"
     ]
    },
    {
     "name": "stderr",
     "output_type": "stream",
     "text": [
      "+0.124525167048 [best: +0.014112569392] : : 60006it [04:59, 200.37it/s]                                                                                     \n"
     ]
    },
    {
     "name": "stdout",
     "output_type": "stream",
     "text": [
      "Saving: solutions/triv_0.95_1_1_1.pickle\n"
     ]
    },
    {
     "name": "stderr",
     "output_type": "stream",
     "text": [
      "+0.113603532314 [best: +0.013258588500] : : 60006it [04:56, 202.37it/s]                                                                                     \n"
     ]
    },
    {
     "name": "stdout",
     "output_type": "stream",
     "text": [
      "Saving: solutions/triv_0.95_2_0_1.pickle\n"
     ]
    },
    {
     "name": "stderr",
     "output_type": "stream",
     "text": [
      "+0.070566728711 [best: +0.009766973555] : : 60006it [04:52, 205.32it/s]                                                                                     \n"
     ]
    },
    {
     "name": "stdout",
     "output_type": "stream",
     "text": [
      "Saving: solutions/triv_0.95_2_1_1.pickle\n"
     ]
    },
    {
     "name": "stderr",
     "output_type": "stream",
     "text": [
      "+0.058271255344 [best: +0.013263220899] : : 60006it [04:51, 205.97it/s]                                                                                     \n"
     ]
    },
    {
     "name": "stdout",
     "output_type": "stream",
     "text": [
      "Saving: solutions/triv_0.95_3_0_1.pickle\n"
     ]
    },
    {
     "name": "stderr",
     "output_type": "stream",
     "text": [
      "+0.222827449441 [best: +0.008775071241] : : 60006it [04:53, 204.60it/s]                                                                                     \n"
     ]
    },
    {
     "name": "stdout",
     "output_type": "stream",
     "text": [
      "Saving: solutions/triv_0.95_3_1_1.pickle\n"
     ]
    },
    {
     "name": "stderr",
     "output_type": "stream",
     "text": [
      "+0.118925213814 [best: +0.072287052870] : : 60006it [04:53, 204.71it/s]                                                                                     \n"
     ]
    },
    {
     "name": "stdout",
     "output_type": "stream",
     "text": [
      "Saving: solutions/triv_0.3_1_0_1.pickle\n"
     ]
    },
    {
     "name": "stderr",
     "output_type": "stream",
     "text": [
      "+0.189837813377 [best: +0.062548331916] : : 60006it [04:00, 249.49it/s]                                                                                     \n"
     ]
    },
    {
     "name": "stdout",
     "output_type": "stream",
     "text": [
      "Saving: solutions/triv_0.3_1_1_1.pickle\n"
     ]
    },
    {
     "name": "stderr",
     "output_type": "stream",
     "text": [
      "+0.291733652353 [best: +0.037046231329] : : 60006it [04:00, 249.89it/s]                                                                                     \n"
     ]
    },
    {
     "name": "stdout",
     "output_type": "stream",
     "text": [
      "Saving: solutions/triv_0.3_2_0_1.pickle\n"
     ]
    },
    {
     "name": "stderr",
     "output_type": "stream",
     "text": [
      "+0.362948626280 [best: +0.055404290557] : : 60006it [04:00, 249.38it/s]                                                                                     \n"
     ]
    },
    {
     "name": "stdout",
     "output_type": "stream",
     "text": [
      "Saving: solutions/triv_0.3_2_1_1.pickle\n"
     ]
    },
    {
     "name": "stderr",
     "output_type": "stream",
     "text": [
      "+0.140028178692 [best: +0.067013710737] : : 60006it [04:00, 249.66it/s]                                                                                     \n"
     ]
    },
    {
     "name": "stdout",
     "output_type": "stream",
     "text": [
      "Saving: solutions/triv_0.3_3_0_1.pickle\n"
     ]
    },
    {
     "name": "stderr",
     "output_type": "stream",
     "text": [
      "+0.260006844997 [best: +0.061586998403] : : 60006it [04:00, 249.47it/s]                                                                                     \n"
     ]
    },
    {
     "name": "stdout",
     "output_type": "stream",
     "text": [
      "Saving: solutions/triv_0.3_3_1_1.pickle\n"
     ]
    },
    {
     "name": "stderr",
     "output_type": "stream",
     "text": [
      "+0.134218961000 [best: +0.031400021166] : : 60006it [04:03, 246.82it/s]                                                                                     \n"
     ]
    },
    {
     "name": "stdout",
     "output_type": "stream",
     "text": [
      "Saving: solutions/triv_0.7_1_0_1.pickle\n"
     ]
    },
    {
     "name": "stderr",
     "output_type": "stream",
     "text": [
      "+0.193871974945 [best: +0.033264011145] : : 60006it [04:01, 248.75it/s]                                                                                     \n"
     ]
    },
    {
     "name": "stdout",
     "output_type": "stream",
     "text": [
      "Saving: solutions/triv_0.7_1_1_1.pickle\n"
     ]
    },
    {
     "name": "stderr",
     "output_type": "stream",
     "text": [
      "+0.229184776545 [best: +0.035966254771] : : 60006it [04:01, 248.15it/s]                                                                                     \n"
     ]
    },
    {
     "name": "stdout",
     "output_type": "stream",
     "text": [
      "Saving: solutions/triv_0.7_2_0_1.pickle\n"
     ]
    },
    {
     "name": "stderr",
     "output_type": "stream",
     "text": [
      "+0.084023505449 [best: +0.033062227070] : : 60006it [04:02, 247.56it/s]                                                                                     \n"
     ]
    },
    {
     "name": "stdout",
     "output_type": "stream",
     "text": [
      "Saving: solutions/triv_0.7_2_1_1.pickle\n"
     ]
    },
    {
     "name": "stderr",
     "output_type": "stream",
     "text": [
      "+0.186964675784 [best: +0.022889696062] : : 60006it [04:02, 247.87it/s]                                                                                     \n"
     ]
    },
    {
     "name": "stdout",
     "output_type": "stream",
     "text": [
      "Saving: solutions/triv_0.7_3_0_1.pickle\n"
     ]
    },
    {
     "name": "stderr",
     "output_type": "stream",
     "text": [
      "+0.131453633308 [best: +0.032870482653] : : 60006it [04:01, 248.02it/s]                                                                                     \n"
     ]
    },
    {
     "name": "stdout",
     "output_type": "stream",
     "text": [
      "Saving: solutions/triv_0.7_3_1_1.pickle\n"
     ]
    },
    {
     "name": "stderr",
     "output_type": "stream",
     "text": [
      "+0.167102634907 [best: +0.018264403567] : : 60006it [03:52, 258.58it/s]                                                                                     \n"
     ]
    },
    {
     "name": "stdout",
     "output_type": "stream",
     "text": [
      "Saving: solutions/triv_1.0_1_0_1.pickle\n"
     ]
    },
    {
     "name": "stderr",
     "output_type": "stream",
     "text": [
      "+0.056494079530 [best: +0.017060803249] : : 60006it [03:51, 259.06it/s]                                                                                     \n"
     ]
    },
    {
     "name": "stdout",
     "output_type": "stream",
     "text": [
      "Saving: solutions/triv_1.0_1_1_1.pickle\n"
     ]
    },
    {
     "name": "stderr",
     "output_type": "stream",
     "text": [
      "+0.056885078549 [best: +0.023543171585] : : 60006it [03:51, 259.48it/s]                                                                                     \n"
     ]
    },
    {
     "name": "stdout",
     "output_type": "stream",
     "text": [
      "Saving: solutions/triv_1.0_2_0_1.pickle\n"
     ]
    },
    {
     "name": "stderr",
     "output_type": "stream",
     "text": [
      "+0.055249009281 [best: +0.021481512114] : : 60006it [03:52, 258.32it/s]                                                                                     \n"
     ]
    },
    {
     "name": "stdout",
     "output_type": "stream",
     "text": [
      "Saving: solutions/triv_1.0_2_1_1.pickle\n"
     ]
    },
    {
     "name": "stderr",
     "output_type": "stream",
     "text": [
      "+0.107779197395 [best: +0.012489591725] : : 60006it [03:51, 259.15it/s]                                                                                     \n"
     ]
    },
    {
     "name": "stdout",
     "output_type": "stream",
     "text": [
      "Saving: solutions/triv_1.0_3_0_1.pickle\n"
     ]
    },
    {
     "name": "stderr",
     "output_type": "stream",
     "text": [
      "+0.059506028891 [best: +0.010614307597] : : 60006it [03:51, 259.25it/s]                                                                                     \n"
     ]
    },
    {
     "name": "stdout",
     "output_type": "stream",
     "text": [
      "Saving: solutions/triv_1.0_3_1_1.pickle\n"
     ]
    },
    {
     "name": "stderr",
     "output_type": "stream",
     "text": [
      "+0.100630030036 [best: +0.040083728731] : : 60006it [04:00, 249.37it/s]                                                                                     \n"
     ]
    },
    {
     "name": "stdout",
     "output_type": "stream",
     "text": [
      "Saving: solutions/triv_0.25_1_0_1.pickle\n"
     ]
    },
    {
     "name": "stderr",
     "output_type": "stream",
     "text": [
      "+0.457279801369 [best: +0.053954474628] : : 60006it [04:00, 249.04it/s]                                                                                     \n"
     ]
    },
    {
     "name": "stdout",
     "output_type": "stream",
     "text": [
      "Saving: solutions/triv_0.25_1_1_1.pickle\n"
     ]
    },
    {
     "name": "stderr",
     "output_type": "stream",
     "text": [
      "+0.058658778667 [best: +0.055059418082] : : 60006it [03:59, 250.05it/s]                                                                                     \n"
     ]
    },
    {
     "name": "stdout",
     "output_type": "stream",
     "text": [
      "Saving: solutions/triv_0.25_2_0_1.pickle\n"
     ]
    },
    {
     "name": "stderr",
     "output_type": "stream",
     "text": [
      "+0.118132755160 [best: +0.019247174263] : : 60006it [04:00, 249.07it/s]                                                                                     \n"
     ]
    },
    {
     "name": "stdout",
     "output_type": "stream",
     "text": [
      "Saving: solutions/triv_0.25_2_1_1.pickle\n"
     ]
    },
    {
     "name": "stderr",
     "output_type": "stream",
     "text": [
      "+0.141908496618 [best: +0.039243679494] : : 60006it [04:01, 248.93it/s]                                                                                     \n"
     ]
    },
    {
     "name": "stdout",
     "output_type": "stream",
     "text": [
      "Saving: solutions/triv_0.25_3_0_1.pickle\n"
     ]
    },
    {
     "name": "stderr",
     "output_type": "stream",
     "text": [
      "+0.260154813528 [best: +0.034872304648] : : 60006it [03:59, 250.11it/s]                                                                                     \n"
     ]
    },
    {
     "name": "stdout",
     "output_type": "stream",
     "text": [
      "Saving: solutions/triv_0.25_3_1_1.pickle\n"
     ]
    },
    {
     "name": "stderr",
     "output_type": "stream",
     "text": [
      "+0.135532766581 [best: +0.015235794708] : : 60006it [04:01, 248.54it/s]                                                                                     \n"
     ]
    },
    {
     "name": "stdout",
     "output_type": "stream",
     "text": [
      "Saving: solutions/triv_0.2_1_0_1.pickle\n"
     ]
    },
    {
     "name": "stderr",
     "output_type": "stream",
     "text": [
      "+0.087411954999 [best: +0.023978590965] : : 60006it [04:01, 248.93it/s]                                                                                     \n"
     ]
    },
    {
     "name": "stdout",
     "output_type": "stream",
     "text": [
      "Saving: solutions/triv_0.2_1_1_1.pickle\n"
     ]
    },
    {
     "name": "stderr",
     "output_type": "stream",
     "text": [
      "+0.215914800763 [best: +0.025369286537] : : 60006it [04:00, 249.60it/s]                                                                                     \n"
     ]
    },
    {
     "name": "stdout",
     "output_type": "stream",
     "text": [
      "Saving: solutions/triv_0.2_2_0_1.pickle\n"
     ]
    },
    {
     "name": "stderr",
     "output_type": "stream",
     "text": [
      "+0.152340218425 [best: +0.033693566918] : : 60006it [04:01, 248.98it/s]                                                                                     \n"
     ]
    },
    {
     "name": "stdout",
     "output_type": "stream",
     "text": [
      "Saving: solutions/triv_0.2_2_1_1.pickle\n"
     ]
    },
    {
     "name": "stderr",
     "output_type": "stream",
     "text": [
      "+0.114287421107 [best: +0.025289397687] : : 60006it [04:00, 249.71it/s]                                                                                     \n"
     ]
    },
    {
     "name": "stdout",
     "output_type": "stream",
     "text": [
      "Saving: solutions/triv_0.2_3_0_1.pickle\n"
     ]
    },
    {
     "name": "stderr",
     "output_type": "stream",
     "text": [
      "+0.057584699243 [best: +0.018251424655] : : 60006it [04:00, 249.15it/s]                                                                                     \n"
     ]
    },
    {
     "name": "stdout",
     "output_type": "stream",
     "text": [
      "Saving: solutions/triv_0.2_3_1_1.pickle\n"
     ]
    },
    {
     "name": "stderr",
     "output_type": "stream",
     "text": [
      "+0.116008296609 [best: +0.022854361683] : : 60006it [04:00, 249.06it/s]                                                                                     \n"
     ]
    },
    {
     "name": "stdout",
     "output_type": "stream",
     "text": [
      "Saving: solutions/triv_0.75_1_0_1.pickle\n"
     ]
    },
    {
     "name": "stderr",
     "output_type": "stream",
     "text": [
      "+0.280896097422 [best: +0.021803271025] : : 60006it [04:00, 249.14it/s]                                                                                     \n"
     ]
    },
    {
     "name": "stdout",
     "output_type": "stream",
     "text": [
      "Saving: solutions/triv_0.75_1_1_1.pickle\n"
     ]
    },
    {
     "name": "stderr",
     "output_type": "stream",
     "text": [
      "+0.090812154114 [best: +0.019465517253] : : 60006it [04:00, 249.59it/s]                                                                                     \n"
     ]
    },
    {
     "name": "stdout",
     "output_type": "stream",
     "text": [
      "Saving: solutions/triv_0.75_2_0_1.pickle\n"
     ]
    },
    {
     "name": "stderr",
     "output_type": "stream",
     "text": [
      "+0.123464792967 [best: +0.026000106707] : : 60006it [04:00, 249.16it/s]                                                                                     \n"
     ]
    },
    {
     "name": "stdout",
     "output_type": "stream",
     "text": [
      "Saving: solutions/triv_0.75_2_1_1.pickle\n"
     ]
    },
    {
     "name": "stderr",
     "output_type": "stream",
     "text": [
      "+0.128194689751 [best: +0.037273555994] : : 60006it [04:00, 249.13it/s]                                                                                     \n"
     ]
    },
    {
     "name": "stdout",
     "output_type": "stream",
     "text": [
      "Saving: solutions/triv_0.75_3_0_1.pickle\n"
     ]
    },
    {
     "name": "stderr",
     "output_type": "stream",
     "text": [
      "+0.137180060148 [best: +0.016597511247] : : 60006it [04:00, 249.68it/s]                                                                                     \n"
     ]
    },
    {
     "name": "stdout",
     "output_type": "stream",
     "text": [
      "Saving: solutions/triv_0.75_3_1_1.pickle\n"
     ]
    },
    {
     "name": "stderr",
     "output_type": "stream",
     "text": [
      "+0.071858420968 [best: +0.015550962649] : : 60006it [04:00, 249.12it/s]                                                                                     \n"
     ]
    },
    {
     "name": "stdout",
     "output_type": "stream",
     "text": [
      "Saving: solutions/triv_0.1_1_0_1.pickle\n"
     ]
    },
    {
     "name": "stderr",
     "output_type": "stream",
     "text": [
      "+0.201251953840 [best: +0.029087189585] : : 60006it [04:00, 249.37it/s]                                                                                     \n"
     ]
    },
    {
     "name": "stdout",
     "output_type": "stream",
     "text": [
      "Saving: solutions/triv_0.1_1_1_1.pickle\n"
     ]
    },
    {
     "name": "stderr",
     "output_type": "stream",
     "text": [
      "+2.538687229156 [best: +0.017484465614] : : 60006it [04:00, 249.66it/s]                                                                                     \n"
     ]
    },
    {
     "name": "stdout",
     "output_type": "stream",
     "text": [
      "Saving: solutions/triv_0.1_2_0_1.pickle\n"
     ]
    },
    {
     "name": "stderr",
     "output_type": "stream",
     "text": [
      "+0.128593847156 [best: +0.028599087149] : : 60006it [04:00, 249.60it/s]                                                                                     \n"
     ]
    },
    {
     "name": "stdout",
     "output_type": "stream",
     "text": [
      "Saving: solutions/triv_0.1_2_1_1.pickle\n"
     ]
    },
    {
     "name": "stderr",
     "output_type": "stream",
     "text": [
      "+0.132249385118 [best: +0.011381667107] : : 60006it [04:00, 249.45it/s]                                                                                     \n"
     ]
    },
    {
     "name": "stdout",
     "output_type": "stream",
     "text": [
      "Saving: solutions/triv_0.1_3_0_1.pickle\n"
     ]
    },
    {
     "name": "stderr",
     "output_type": "stream",
     "text": [
      "+0.082821413875 [best: +0.013094801456] : : 60006it [04:00, 249.61it/s]                                                                                     \n"
     ]
    },
    {
     "name": "stdout",
     "output_type": "stream",
     "text": [
      "Saving: solutions/triv_0.1_3_1_1.pickle\n"
     ]
    },
    {
     "name": "stderr",
     "output_type": "stream",
     "text": [
      "+0.106557808816 [best: +0.006657570135] : : 60006it [04:01, 248.79it/s]                                                                                     \n"
     ]
    },
    {
     "name": "stdout",
     "output_type": "stream",
     "text": [
      "Saving: solutions/triv_0.9_1_0_1.pickle\n"
     ]
    },
    {
     "name": "stderr",
     "output_type": "stream",
     "text": [
      "+0.069832220674 [best: +0.020638259128] : : 60006it [04:00, 249.16it/s]                                                                                     \n"
     ]
    },
    {
     "name": "stdout",
     "output_type": "stream",
     "text": [
      "Saving: solutions/triv_0.9_1_1_1.pickle\n"
     ]
    },
    {
     "name": "stderr",
     "output_type": "stream",
     "text": [
      "+0.079636663198 [best: +0.009899939410] : : 60006it [04:00, 249.36it/s]                                                                                     \n"
     ]
    },
    {
     "name": "stdout",
     "output_type": "stream",
     "text": [
      "Saving: solutions/triv_0.9_2_0_1.pickle\n"
     ]
    },
    {
     "name": "stderr",
     "output_type": "stream",
     "text": [
      "+0.086311586201 [best: +0.011825731024] : : 60006it [04:00, 249.50it/s]                                                                                     \n"
     ]
    },
    {
     "name": "stdout",
     "output_type": "stream",
     "text": [
      "Saving: solutions/triv_0.9_2_1_1.pickle\n"
     ]
    },
    {
     "name": "stderr",
     "output_type": "stream",
     "text": [
      "+0.218508958817 [best: +0.017779642716] : : 60006it [04:00, 249.11it/s]                                                                                     \n"
     ]
    },
    {
     "name": "stdout",
     "output_type": "stream",
     "text": [
      "Saving: solutions/triv_0.9_3_0_1.pickle\n"
     ]
    },
    {
     "name": "stderr",
     "output_type": "stream",
     "text": [
      "+0.086087800562 [best: +0.018129261211] : : 60006it [04:00, 249.03it/s]                                                                                     \n"
     ]
    },
    {
     "name": "stdout",
     "output_type": "stream",
     "text": [
      "Saving: solutions/triv_0.9_3_1_1.pickle\n"
     ]
    },
    {
     "name": "stderr",
     "output_type": "stream",
     "text": [
      "+0.119559377432 [best: +0.013677382842] : : 60006it [04:00, 249.57it/s]                                                                                     \n"
     ]
    },
    {
     "name": "stdout",
     "output_type": "stream",
     "text": [
      "Saving: solutions/triv_0.05_1_0_1.pickle\n"
     ]
    },
    {
     "name": "stderr",
     "output_type": "stream",
     "text": [
      "+0.072914890945 [best: +0.010231935419] : : 60006it [04:00, 249.43it/s]                                                                                     \n"
     ]
    },
    {
     "name": "stdout",
     "output_type": "stream",
     "text": [
      "Saving: solutions/triv_0.05_1_1_1.pickle\n"
     ]
    },
    {
     "name": "stderr",
     "output_type": "stream",
     "text": [
      "+0.129252940416 [best: +0.028305299580] : : 60006it [04:00, 249.30it/s]                                                                                     \n"
     ]
    },
    {
     "name": "stdout",
     "output_type": "stream",
     "text": [
      "Saving: solutions/triv_0.05_2_0_1.pickle\n"
     ]
    },
    {
     "name": "stderr",
     "output_type": "stream",
     "text": [
      "+0.148838698864 [best: +0.021248629317] : : 60006it [04:00, 249.80it/s]                                                                                     \n"
     ]
    },
    {
     "name": "stdout",
     "output_type": "stream",
     "text": [
      "Saving: solutions/triv_0.05_2_1_1.pickle\n"
     ]
    },
    {
     "name": "stderr",
     "output_type": "stream",
     "text": [
      "+0.075512841344 [best: +0.011927345768] : : 60006it [04:00, 249.14it/s]                                                                                     \n"
     ]
    },
    {
     "name": "stdout",
     "output_type": "stream",
     "text": [
      "Saving: solutions/triv_0.05_3_0_1.pickle\n"
     ]
    },
    {
     "name": "stderr",
     "output_type": "stream",
     "text": [
      "+0.104817524552 [best: +0.020024349913] : : 60006it [04:00, 249.39it/s]                                                                                     \n"
     ]
    },
    {
     "name": "stdout",
     "output_type": "stream",
     "text": [
      "Saving: solutions/triv_0.05_3_1_1.pickle\n"
     ]
    },
    {
     "name": "stderr",
     "output_type": "stream",
     "text": [
      "+0.073080539703 [best: +0.012943849899] : : 60006it [04:01, 248.66it/s]                                                                                     \n"
     ]
    },
    {
     "name": "stdout",
     "output_type": "stream",
     "text": [
      "Saving: solutions/triv_0.15_1_0_1.pickle\n"
     ]
    },
    {
     "name": "stderr",
     "output_type": "stream",
     "text": [
      "+0.051747746766 [best: +0.017882781103] : : 60006it [04:00, 249.25it/s]                                                                                     \n"
     ]
    },
    {
     "name": "stdout",
     "output_type": "stream",
     "text": [
      "Saving: solutions/triv_0.15_1_1_1.pickle\n"
     ]
    },
    {
     "name": "stderr",
     "output_type": "stream",
     "text": [
      "+0.186550974846 [best: +0.015088393353] : : 60006it [04:00, 249.40it/s]                                                                                     \n"
     ]
    },
    {
     "name": "stdout",
     "output_type": "stream",
     "text": [
      "Saving: solutions/triv_0.15_2_0_1.pickle\n"
     ]
    },
    {
     "name": "stderr",
     "output_type": "stream",
     "text": [
      "+0.140408486128 [best: +0.018434528261] : : 60006it [04:00, 249.15it/s]                                                                                     \n"
     ]
    },
    {
     "name": "stdout",
     "output_type": "stream",
     "text": [
      "Saving: solutions/triv_0.15_2_1_1.pickle\n"
     ]
    },
    {
     "name": "stderr",
     "output_type": "stream",
     "text": [
      "+0.315765500069 [best: +0.024291915819] : : 60006it [04:00, 249.21it/s]                                                                                     \n"
     ]
    },
    {
     "name": "stdout",
     "output_type": "stream",
     "text": [
      "Saving: solutions/triv_0.15_3_0_1.pickle\n"
     ]
    },
    {
     "name": "stderr",
     "output_type": "stream",
     "text": [
      "+0.104822963476 [best: +0.033784925938] : : 60006it [04:00, 249.12it/s]                                                                                     \n"
     ]
    },
    {
     "name": "stdout",
     "output_type": "stream",
     "text": [
      "Saving: solutions/triv_0.15_3_1_1.pickle\n"
     ]
    },
    {
     "name": "stderr",
     "output_type": "stream",
     "text": [
      "+0.108985990286 [best: +0.012149089016] : : 60006it [04:00, 249.17it/s]                                                                                     \n"
     ]
    },
    {
     "name": "stdout",
     "output_type": "stream",
     "text": [
      "Saving: solutions/triv_0.8_1_0_1.pickle\n"
     ]
    },
    {
     "name": "stderr",
     "output_type": "stream",
     "text": [
      "+0.055487297475 [best: +0.015180950984] : : 60006it [04:00, 249.17it/s]                                                                                     \n"
     ]
    },
    {
     "name": "stdout",
     "output_type": "stream",
     "text": [
      "Saving: solutions/triv_0.8_1_1_1.pickle\n"
     ]
    },
    {
     "name": "stderr",
     "output_type": "stream",
     "text": [
      "+0.129519224167 [best: +0.015248839743] : : 60006it [04:00, 249.20it/s]                                                                                     \n"
     ]
    },
    {
     "name": "stdout",
     "output_type": "stream",
     "text": [
      "Saving: solutions/triv_0.8_2_0_1.pickle\n"
     ]
    },
    {
     "name": "stderr",
     "output_type": "stream",
     "text": [
      "+0.059366989881 [best: +0.016230493784] : : 60006it [04:04, 245.16it/s]                                                                                     \n"
     ]
    },
    {
     "name": "stdout",
     "output_type": "stream",
     "text": [
      "Saving: solutions/triv_0.8_2_1_1.pickle\n"
     ]
    },
    {
     "name": "stderr",
     "output_type": "stream",
     "text": [
      "+0.060979925096 [best: +0.020012538880] : : 60006it [04:02, 247.45it/s]                                                                                     \n"
     ]
    },
    {
     "name": "stdout",
     "output_type": "stream",
     "text": [
      "Saving: solutions/triv_0.8_3_0_1.pickle\n"
     ]
    },
    {
     "name": "stderr",
     "output_type": "stream",
     "text": [
      "+0.076270312071 [best: +0.016023060307] : : 60006it [04:01, 248.34it/s]                                                                                     \n"
     ]
    },
    {
     "name": "stdout",
     "output_type": "stream",
     "text": [
      "Saving: solutions/triv_0.8_3_1_1.pickle\n"
     ]
    },
    {
     "name": "stderr",
     "output_type": "stream",
     "text": [
      "+0.835469126701 [best: +0.412043720484] : : 60006it [04:04, 245.33it/s]                                                                                     \n"
     ]
    },
    {
     "name": "stdout",
     "output_type": "stream",
     "text": [
      "Saving: solutions/triv_0.4_1_0_1.pickle\n"
     ]
    },
    {
     "name": "stderr",
     "output_type": "stream",
     "text": [
      "+0.992894589901 [best: +0.479990839958] : : 60006it [04:02, 247.75it/s]                                                                                     \n"
     ]
    },
    {
     "name": "stdout",
     "output_type": "stream",
     "text": [
      "Saving: solutions/triv_0.4_1_1_1.pickle\n"
     ]
    },
    {
     "name": "stderr",
     "output_type": "stream",
     "text": [
      "+0.926930546761 [best: +0.382289648056] : : 60006it [04:01, 248.29it/s]                                                                                     \n"
     ]
    },
    {
     "name": "stdout",
     "output_type": "stream",
     "text": [
      "Saving: solutions/triv_0.4_2_0_1.pickle\n"
     ]
    },
    {
     "name": "stderr",
     "output_type": "stream",
     "text": [
      "+0.219574525952 [best: +0.060941204429] : : 60006it [04:02, 246.98it/s]                                                                                     \n"
     ]
    },
    {
     "name": "stdout",
     "output_type": "stream",
     "text": [
      "Saving: solutions/triv_0.4_2_1_1.pickle\n"
     ]
    },
    {
     "name": "stderr",
     "output_type": "stream",
     "text": [
      "+0.699974715710 [best: +0.436646044254] : : 60006it [04:02, 247.21it/s]                                                                                     \n"
     ]
    },
    {
     "name": "stdout",
     "output_type": "stream",
     "text": [
      "Saving: solutions/triv_0.4_3_0_1.pickle\n"
     ]
    },
    {
     "name": "stderr",
     "output_type": "stream",
     "text": [
      "+0.960561454296 [best: +0.436987429857] : : 60006it [04:02, 246.99it/s]                                                                                     \n"
     ]
    },
    {
     "name": "stdout",
     "output_type": "stream",
     "text": [
      "Saving: solutions/triv_0.4_3_1_1.pickle\n"
     ]
    },
    {
     "name": "stderr",
     "output_type": "stream",
     "text": [
      "+0.067343555391 [best: +0.017019841820] : : 60006it [04:04, 245.55it/s]                                                                                     \n"
     ]
    },
    {
     "name": "stdout",
     "output_type": "stream",
     "text": [
      "Saving: solutions/triv_0.0_1_0_1.pickle\n"
     ]
    },
    {
     "name": "stderr",
     "output_type": "stream",
     "text": [
      "+0.168821454048 [best: +0.016057159752] : : 60006it [04:04, 245.84it/s]                                                                                     \n"
     ]
    },
    {
     "name": "stdout",
     "output_type": "stream",
     "text": [
      "Saving: solutions/triv_0.0_1_1_1.pickle\n"
     ]
    },
    {
     "name": "stderr",
     "output_type": "stream",
     "text": [
      "+0.076288402081 [best: +0.008865330368] : : 60006it [04:04, 245.79it/s]                                                                                     \n"
     ]
    },
    {
     "name": "stdout",
     "output_type": "stream",
     "text": [
      "Saving: solutions/triv_0.0_2_0_1.pickle\n"
     ]
    },
    {
     "name": "stderr",
     "output_type": "stream",
     "text": [
      "+0.129255846143 [best: +0.015093668364] : : 60006it [04:03, 246.16it/s]                                                                                     \n"
     ]
    },
    {
     "name": "stdout",
     "output_type": "stream",
     "text": [
      "Saving: solutions/triv_0.0_2_1_1.pickle\n"
     ]
    },
    {
     "name": "stderr",
     "output_type": "stream",
     "text": [
      "+0.292049705982 [best: +0.011229291558] : : 60006it [04:04, 245.62it/s]                                                                                     \n"
     ]
    },
    {
     "name": "stdout",
     "output_type": "stream",
     "text": [
      "Saving: solutions/triv_0.0_3_0_1.pickle\n"
     ]
    },
    {
     "name": "stderr",
     "output_type": "stream",
     "text": [
      "+0.046802066267 [best: +0.018283177167] : : 60006it [04:04, 245.75it/s]                                                                                     \n"
     ]
    },
    {
     "name": "stdout",
     "output_type": "stream",
     "text": [
      "Saving: solutions/triv_0.0_3_1_1.pickle\n"
     ]
    },
    {
     "name": "stderr",
     "output_type": "stream",
     "text": [
      "+0.410636067390 [best: +0.148072004318] : : 60006it [04:00, 249.61it/s]                                                                                     \n"
     ]
    },
    {
     "name": "stdout",
     "output_type": "stream",
     "text": [
      "Saving: solutions/triv_0.6_1_0_1.pickle\n"
     ]
    },
    {
     "name": "stderr",
     "output_type": "stream",
     "text": [
      "+0.380939245224 [best: +0.147798344493] : : 60006it [04:00, 249.51it/s]                                                                                     \n"
     ]
    },
    {
     "name": "stdout",
     "output_type": "stream",
     "text": [
      "Saving: solutions/triv_0.6_1_1_1.pickle\n"
     ]
    },
    {
     "name": "stderr",
     "output_type": "stream",
     "text": [
      "+0.199193388224 [best: +0.129690527916] : : 60006it [04:00, 249.39it/s]                                                                                     \n"
     ]
    },
    {
     "name": "stdout",
     "output_type": "stream",
     "text": [
      "Saving: solutions/triv_0.6_2_0_1.pickle\n"
     ]
    },
    {
     "name": "stderr",
     "output_type": "stream",
     "text": [
      "+0.312720924616 [best: +0.162978634238] : : 60006it [04:00, 249.55it/s]                                                                                     \n"
     ]
    },
    {
     "name": "stdout",
     "output_type": "stream",
     "text": [
      "Saving: solutions/triv_0.6_2_1_1.pickle\n"
     ]
    },
    {
     "name": "stderr",
     "output_type": "stream",
     "text": [
      "+0.372311085463 [best: +0.160863101482] : : 60006it [04:00, 249.82it/s]                                                                                     \n"
     ]
    },
    {
     "name": "stdout",
     "output_type": "stream",
     "text": [
      "Saving: solutions/triv_0.6_3_0_1.pickle\n"
     ]
    },
    {
     "name": "stderr",
     "output_type": "stream",
     "text": [
      "+0.341487556696 [best: +0.150286659598] : : 60006it [04:00, 249.33it/s]                                                                                     \n"
     ]
    },
    {
     "name": "stdout",
     "output_type": "stream",
     "text": [
      "Saving: solutions/triv_0.6_3_1_1.pickle\n"
     ]
    },
    {
     "name": "stderr",
     "output_type": "stream",
     "text": [
      "+0.220542579889 [best: +0.011688606814] : : 60006it [04:00, 249.21it/s]                                                                                     \n"
     ]
    },
    {
     "name": "stdout",
     "output_type": "stream",
     "text": [
      "Saving: solutions/triv_0.85_1_0_1.pickle\n"
     ]
    },
    {
     "name": "stderr",
     "output_type": "stream",
     "text": [
      "+0.097228728235 [best: +0.015488015488] : : 60006it [04:00, 249.02it/s]                                                                                     \n"
     ]
    },
    {
     "name": "stdout",
     "output_type": "stream",
     "text": [
      "Saving: solutions/triv_0.85_1_1_1.pickle\n"
     ]
    },
    {
     "name": "stderr",
     "output_type": "stream",
     "text": [
      "+0.060770045966 [best: +0.013185114600] : : 60006it [04:00, 249.63it/s]                                                                                     \n"
     ]
    },
    {
     "name": "stdout",
     "output_type": "stream",
     "text": [
      "Saving: solutions/triv_0.85_2_0_1.pickle\n"
     ]
    },
    {
     "name": "stderr",
     "output_type": "stream",
     "text": [
      "+0.075168468058 [best: +0.011334765702] : : 60006it [04:00, 249.37it/s]                                                                                     \n"
     ]
    },
    {
     "name": "stdout",
     "output_type": "stream",
     "text": [
      "Saving: solutions/triv_0.85_2_1_1.pickle\n"
     ]
    },
    {
     "name": "stderr",
     "output_type": "stream",
     "text": [
      "+0.056040726602 [best: +0.013396236114] : : 60006it [04:01, 248.94it/s]                                                                                     \n"
     ]
    },
    {
     "name": "stdout",
     "output_type": "stream",
     "text": [
      "Saving: solutions/triv_0.85_3_0_1.pickle\n"
     ]
    },
    {
     "name": "stderr",
     "output_type": "stream",
     "text": [
      "+0.212796971202 [best: +0.012888848782] : : 60006it [04:00, 249.22it/s]                                                                                     \n"
     ]
    },
    {
     "name": "stdout",
     "output_type": "stream",
     "text": [
      "Saving: solutions/triv_0.85_3_1_1.pickle\n"
     ]
    },
    {
     "name": "stderr",
     "output_type": "stream",
     "text": [
      "+0.654321908951 [best: +0.199957698584] : : 60006it [04:00, 249.34it/s]                                                                                     \n"
     ]
    },
    {
     "name": "stdout",
     "output_type": "stream",
     "text": [
      "Saving: solutions/triv_0.35_1_0_1.pickle\n"
     ]
    },
    {
     "name": "stderr",
     "output_type": "stream",
     "text": [
      "+0.380339562893 [best: +0.115559674799] : : 60006it [03:59, 250.06it/s]                                                                                     \n"
     ]
    },
    {
     "name": "stdout",
     "output_type": "stream",
     "text": [
      "Saving: solutions/triv_0.35_1_1_1.pickle\n"
     ]
    },
    {
     "name": "stderr",
     "output_type": "stream",
     "text": [
      "+0.309582471848 [best: +0.109969139099] : : 60006it [04:00, 249.29it/s]                                                                                     \n"
     ]
    },
    {
     "name": "stdout",
     "output_type": "stream",
     "text": [
      "Saving: solutions/triv_0.35_2_0_1.pickle\n"
     ]
    },
    {
     "name": "stderr",
     "output_type": "stream",
     "text": [
      "+0.818328022957 [best: +0.099800094962] : : 60006it [04:01, 248.73it/s]                                                                                     \n"
     ]
    },
    {
     "name": "stdout",
     "output_type": "stream",
     "text": [
      "Saving: solutions/triv_0.35_2_1_1.pickle\n"
     ]
    },
    {
     "name": "stderr",
     "output_type": "stream",
     "text": [
      "+0.482489466667 [best: +0.150652438402] : : 60006it [04:00, 249.95it/s]                                                                                     \n"
     ]
    },
    {
     "name": "stdout",
     "output_type": "stream",
     "text": [
      "Saving: solutions/triv_0.35_3_0_1.pickle\n"
     ]
    },
    {
     "name": "stderr",
     "output_type": "stream",
     "text": [
      "+0.296246856451 [best: +0.147130876780] : : 60006it [04:01, 248.79it/s]                                                                                     \n"
     ]
    },
    {
     "name": "stdout",
     "output_type": "stream",
     "text": [
      "Saving: solutions/triv_0.35_3_1_1.pickle\n"
     ]
    },
    {
     "name": "stderr",
     "output_type": "stream",
     "text": [
      "+50.060791015625 [best: +50.005615234375] : : 60006it [04:00, 249.08it/s]                                                                                   \n"
     ]
    },
    {
     "name": "stdout",
     "output_type": "stream",
     "text": [
      "Saving: solutions/triv_0.5_1_0_1.pickle\n"
     ]
    },
    {
     "name": "stderr",
     "output_type": "stream",
     "text": [
      "+50.115478515625 [best: +50.002746582031] : : 60006it [04:00, 249.26it/s]                                                                                   \n"
     ]
    },
    {
     "name": "stdout",
     "output_type": "stream",
     "text": [
      "Saving: solutions/triv_0.5_1_1_1.pickle\n"
     ]
    },
    {
     "name": "stderr",
     "output_type": "stream",
     "text": [
      "+0.171565890312 [best: +0.167472809553] : : 60006it [04:00, 249.36it/s]                                                                                     \n"
     ]
    },
    {
     "name": "stdout",
     "output_type": "stream",
     "text": [
      "Saving: solutions/triv_0.5_2_0_1.pickle\n"
     ]
    },
    {
     "name": "stderr",
     "output_type": "stream",
     "text": [
      "+0.464203685522 [best: +0.240772664547] : : 60006it [04:00, 249.59it/s]                                                                                     \n"
     ]
    },
    {
     "name": "stdout",
     "output_type": "stream",
     "text": [
      "Saving: solutions/triv_0.5_2_1_1.pickle\n"
     ]
    },
    {
     "name": "stderr",
     "output_type": "stream",
     "text": [
      "+50.048614501953 [best: +50.004272460938] : : 60006it [04:00, 249.82it/s]                                                                                   \n"
     ]
    },
    {
     "name": "stdout",
     "output_type": "stream",
     "text": [
      "Saving: solutions/triv_0.5_3_0_1.pickle\n"
     ]
    },
    {
     "name": "stderr",
     "output_type": "stream",
     "text": [
      "+50.020812988281 [best: +50.005432128906] : : 60006it [04:00, 249.32it/s]                                                                                   \n"
     ]
    },
    {
     "name": "stdout",
     "output_type": "stream",
     "text": [
      "Saving: solutions/triv_0.5_3_1_1.pickle\n"
     ]
    },
    {
     "name": "stderr",
     "output_type": "stream",
     "text": [
      "+3.889071702957 [best: +0.277744770050] : : 60006it [04:00, 249.53it/s]                                                                                     \n"
     ]
    },
    {
     "name": "stdout",
     "output_type": "stream",
     "text": [
      "Saving: solutions/non_triv_0.65_1_0_1.pickle\n"
     ]
    },
    {
     "name": "stderr",
     "output_type": "stream",
     "text": [
      "+1.129799365997 [best: +0.251648664474] : : 60006it [04:00, 249.04it/s]                                                                                     \n"
     ]
    },
    {
     "name": "stdout",
     "output_type": "stream",
     "text": [
      "Saving: solutions/non_triv_0.65_1_1_1.pickle\n"
     ]
    },
    {
     "name": "stderr",
     "output_type": "stream",
     "text": [
      "+0.504963397980 [best: +0.206833630800] : : 60006it [04:00, 249.08it/s]                                                                                     \n"
     ]
    },
    {
     "name": "stdout",
     "output_type": "stream",
     "text": [
      "Saving: solutions/non_triv_0.65_2_0_1.pickle\n"
     ]
    },
    {
     "name": "stderr",
     "output_type": "stream",
     "text": [
      "+0.709144890308 [best: +0.268294721842] : : 60006it [04:01, 248.98it/s]                                                                                     \n"
     ]
    },
    {
     "name": "stdout",
     "output_type": "stream",
     "text": [
      "Saving: solutions/non_triv_0.65_2_1_1.pickle\n"
     ]
    },
    {
     "name": "stderr",
     "output_type": "stream",
     "text": [
      "+0.472003459930 [best: +0.243249982595] : : 60006it [04:01, 248.91it/s]                                                                                     \n"
     ]
    },
    {
     "name": "stdout",
     "output_type": "stream",
     "text": [
      "Saving: solutions/non_triv_0.65_3_0_1.pickle\n"
     ]
    },
    {
     "name": "stderr",
     "output_type": "stream",
     "text": [
      "+0.448306888342 [best: +0.253342092037] : : 60006it [04:01, 248.97it/s]                                                                                     \n"
     ]
    },
    {
     "name": "stdout",
     "output_type": "stream",
     "text": [
      "Saving: solutions/non_triv_0.65_3_1_1.pickle\n"
     ]
    },
    {
     "name": "stderr",
     "output_type": "stream",
     "text": [
      "+49.994136810303 [best: +48.928241729736] : : 60006it [04:00, 249.62it/s]                                                                                   \n"
     ]
    },
    {
     "name": "stdout",
     "output_type": "stream",
     "text": [
      "Saving: solutions/non_triv_0.45_1_0_1.pickle\n"
     ]
    },
    {
     "name": "stderr",
     "output_type": "stream",
     "text": [
      "+47.423187255859 [best: +18.732625961304] : : 60006it [04:01, 248.83it/s]                                                                                   \n"
     ]
    },
    {
     "name": "stdout",
     "output_type": "stream",
     "text": [
      "Saving: solutions/non_triv_0.45_1_1_1.pickle\n"
     ]
    },
    {
     "name": "stderr",
     "output_type": "stream",
     "text": [
      "+3.711833000183 [best: +2.808506727219] : : 60006it [04:01, 248.57it/s]                                                                                     \n"
     ]
    },
    {
     "name": "stdout",
     "output_type": "stream",
     "text": [
      "Saving: solutions/non_triv_0.45_2_0_1.pickle\n"
     ]
    },
    {
     "name": "stderr",
     "output_type": "stream",
     "text": [
      "+6.944609642029 [best: +4.544826507568] : : 60006it [04:00, 249.07it/s]                                                                                     \n"
     ]
    },
    {
     "name": "stdout",
     "output_type": "stream",
     "text": [
      "Saving: solutions/non_triv_0.45_2_1_1.pickle\n"
     ]
    },
    {
     "name": "stderr",
     "output_type": "stream",
     "text": [
      "+13.148876190186 [best: +13.148876190186] : : 60006it [04:00, 249.15it/s]                                                                                   \n"
     ]
    },
    {
     "name": "stdout",
     "output_type": "stream",
     "text": [
      "Saving: solutions/non_triv_0.45_3_0_1.pickle\n"
     ]
    },
    {
     "name": "stderr",
     "output_type": "stream",
     "text": [
      "+46.735095977783 [best: +46.735095977783] : : 60006it [04:01, 248.28it/s]                                                                                   \n"
     ]
    },
    {
     "name": "stdout",
     "output_type": "stream",
     "text": [
      "Saving: solutions/non_triv_0.45_3_1_1.pickle\n"
     ]
    },
    {
     "name": "stderr",
     "output_type": "stream",
     "text": [
      "+2.159882783890 [best: +2.115063905716] : : 60006it [04:01, 248.92it/s]                                                                                     \n"
     ]
    },
    {
     "name": "stdout",
     "output_type": "stream",
     "text": [
      "Saving: solutions/non_triv_0.55_1_0_1.pickle\n"
     ]
    },
    {
     "name": "stderr",
     "output_type": "stream",
     "text": [
      "+1.890892744064 [best: +0.779777169228] : : 60006it [04:01, 248.95it/s]                                                                                     \n"
     ]
    },
    {
     "name": "stdout",
     "output_type": "stream",
     "text": [
      "Saving: solutions/non_triv_0.55_1_1_1.pickle\n"
     ]
    },
    {
     "name": "stderr",
     "output_type": "stream",
     "text": [
      "+2.192165136337 [best: +1.045667529106] : : 60006it [04:01, 248.15it/s]                                                                                     \n"
     ]
    },
    {
     "name": "stdout",
     "output_type": "stream",
     "text": [
      "Saving: solutions/non_triv_0.55_2_0_1.pickle\n"
     ]
    },
    {
     "name": "stderr",
     "output_type": "stream",
     "text": [
      "+2.136120796204 [best: +1.266029119492] : : 60006it [04:00, 249.27it/s]                                                                                     \n"
     ]
    },
    {
     "name": "stdout",
     "output_type": "stream",
     "text": [
      "Saving: solutions/non_triv_0.55_2_1_1.pickle\n"
     ]
    },
    {
     "name": "stderr",
     "output_type": "stream",
     "text": [
      "+0.971302568913 [best: +0.734740495682] : : 60006it [04:01, 248.95it/s]                                                                                     \n"
     ]
    },
    {
     "name": "stdout",
     "output_type": "stream",
     "text": [
      "Saving: solutions/non_triv_0.55_3_0_1.pickle\n"
     ]
    },
    {
     "name": "stderr",
     "output_type": "stream",
     "text": [
      "+1.060300588608 [best: +0.992289125919] : : 60006it [04:23, 227.96it/s]                                                                                     \n"
     ]
    },
    {
     "name": "stdout",
     "output_type": "stream",
     "text": [
      "Saving: solutions/non_triv_0.55_3_1_1.pickle\n"
     ]
    },
    {
     "name": "stderr",
     "output_type": "stream",
     "text": [
      "+0.261925756931 [best: +0.010168679059] : : 60006it [04:44, 210.86it/s]                                                                                     \n"
     ]
    },
    {
     "name": "stdout",
     "output_type": "stream",
     "text": [
      "Saving: solutions/non_triv_0.95_1_0_1.pickle\n"
     ]
    },
    {
     "name": "stderr",
     "output_type": "stream",
     "text": [
      "+0.064826980233 [best: +0.012695574202] : : 60006it [04:43, 211.67it/s]                                                                                     \n"
     ]
    },
    {
     "name": "stdout",
     "output_type": "stream",
     "text": [
      "Saving: solutions/non_triv_0.95_1_1_1.pickle\n"
     ]
    },
    {
     "name": "stderr",
     "output_type": "stream",
     "text": [
      "+0.215147748590 [best: +0.012802377343] : : 60006it [04:43, 211.38it/s]                                                                                     \n"
     ]
    },
    {
     "name": "stdout",
     "output_type": "stream",
     "text": [
      "Saving: solutions/non_triv_0.95_2_0_1.pickle\n"
     ]
    },
    {
     "name": "stderr",
     "output_type": "stream",
     "text": [
      "+0.093751758337 [best: +0.007526525296] : : 60006it [04:43, 211.80it/s]                                                                                     \n"
     ]
    },
    {
     "name": "stdout",
     "output_type": "stream",
     "text": [
      "Saving: solutions/non_triv_0.95_2_1_1.pickle\n"
     ]
    },
    {
     "name": "stderr",
     "output_type": "stream",
     "text": [
      "+0.080928713083 [best: +0.020108936355] : : 60006it [04:23, 227.34it/s]                                                                                     \n"
     ]
    },
    {
     "name": "stdout",
     "output_type": "stream",
     "text": [
      "Saving: solutions/non_triv_0.95_3_0_1.pickle\n"
     ]
    },
    {
     "name": "stderr",
     "output_type": "stream",
     "text": [
      "+0.070155665278 [best: +0.015362544917] : : 60006it [04:01, 248.79it/s]                                                                                     \n"
     ]
    },
    {
     "name": "stdout",
     "output_type": "stream",
     "text": [
      "Saving: solutions/non_triv_0.95_3_1_1.pickle\n"
     ]
    },
    {
     "name": "stderr",
     "output_type": "stream",
     "text": [
      "+50.023544311523 [best: +49.137062072754] : : 60006it [04:00, 249.09it/s]                                                                                   \n"
     ]
    },
    {
     "name": "stdout",
     "output_type": "stream",
     "text": [
      "Saving: solutions/non_triv_0.3_1_0_1.pickle\n"
     ]
    },
    {
     "name": "stderr",
     "output_type": "stream",
     "text": [
      "+0.400732159615 [best: +0.400732159615] : : 60006it [04:00, 249.39it/s]                                                                                     \n"
     ]
    },
    {
     "name": "stdout",
     "output_type": "stream",
     "text": [
      "Saving: solutions/non_triv_0.3_1_1_1.pickle\n"
     ]
    },
    {
     "name": "stderr",
     "output_type": "stream",
     "text": [
      "+45.629924774170 [best: +0.085399255157] : : 60006it [04:00, 249.00it/s]                                                                                    \n"
     ]
    },
    {
     "name": "stdout",
     "output_type": "stream",
     "text": [
      "Saving: solutions/non_triv_0.3_2_0_1.pickle\n"
     ]
    },
    {
     "name": "stderr",
     "output_type": "stream",
     "text": [
      "+49.716434478760 [best: +49.649257659912] : : 60006it [04:00, 249.63it/s]                                                                                   \n"
     ]
    },
    {
     "name": "stdout",
     "output_type": "stream",
     "text": [
      "Saving: solutions/non_triv_0.3_2_1_1.pickle\n"
     ]
    },
    {
     "name": "stderr",
     "output_type": "stream",
     "text": [
      "+18.273784637451 [best: +7.384514808655] : : 60006it [04:01, 248.83it/s]                                                                                    \n"
     ]
    },
    {
     "name": "stdout",
     "output_type": "stream",
     "text": [
      "Saving: solutions/non_triv_0.3_3_0_1.pickle\n"
     ]
    },
    {
     "name": "stderr",
     "output_type": "stream",
     "text": [
      "+1.622412443161 [best: +1.622052669525] : : 60006it [04:00, 249.28it/s]                                                                                     \n"
     ]
    },
    {
     "name": "stdout",
     "output_type": "stream",
     "text": [
      "Saving: solutions/non_triv_0.3_3_1_1.pickle\n"
     ]
    },
    {
     "name": "stderr",
     "output_type": "stream",
     "text": [
      "+0.260418057442 [best: +0.106459364295] : : 60006it [04:01, 248.60it/s]                                                                                     \n"
     ]
    },
    {
     "name": "stdout",
     "output_type": "stream",
     "text": [
      "Saving: solutions/non_triv_0.7_1_0_1.pickle\n"
     ]
    },
    {
     "name": "stderr",
     "output_type": "stream",
     "text": [
      "+0.192058816552 [best: +0.098300740123] : : 60006it [04:01, 248.63it/s]                                                                                     \n"
     ]
    },
    {
     "name": "stdout",
     "output_type": "stream",
     "text": [
      "Saving: solutions/non_triv_0.7_1_1_1.pickle\n"
     ]
    },
    {
     "name": "stderr",
     "output_type": "stream",
     "text": [
      "+0.372331053019 [best: +0.103572994471] : : 60006it [04:00, 249.16it/s]                                                                                     \n"
     ]
    },
    {
     "name": "stdout",
     "output_type": "stream",
     "text": [
      "Saving: solutions/non_triv_0.7_2_0_1.pickle\n"
     ]
    },
    {
     "name": "stderr",
     "output_type": "stream",
     "text": [
      "+0.287933528423 [best: +0.104760341346] : : 60006it [04:00, 249.19it/s]                                                                                     \n"
     ]
    },
    {
     "name": "stdout",
     "output_type": "stream",
     "text": [
      "Saving: solutions/non_triv_0.7_2_1_1.pickle\n"
     ]
    },
    {
     "name": "stderr",
     "output_type": "stream",
     "text": [
      "+0.193076834083 [best: +0.072405189276] : : 60006it [04:01, 248.75it/s]                                                                                     \n"
     ]
    },
    {
     "name": "stdout",
     "output_type": "stream",
     "text": [
      "Saving: solutions/non_triv_0.7_3_0_1.pickle\n"
     ]
    },
    {
     "name": "stderr",
     "output_type": "stream",
     "text": [
      "+0.183591321111 [best: +0.088678978384] : : 60006it [04:00, 249.20it/s]                                                                                     \n"
     ]
    },
    {
     "name": "stdout",
     "output_type": "stream",
     "text": [
      "Saving: solutions/non_triv_0.7_3_1_1.pickle\n"
     ]
    },
    {
     "name": "stderr",
     "output_type": "stream",
     "text": [
      "+0.184442490339 [best: +0.011152124032] : : 60006it [04:03, 246.09it/s]                                                                                     \n"
     ]
    },
    {
     "name": "stdout",
     "output_type": "stream",
     "text": [
      "Saving: solutions/non_triv_1.0_1_0_1.pickle\n"
     ]
    },
    {
     "name": "stderr",
     "output_type": "stream",
     "text": [
      "+0.076086297631 [best: +0.021278677508] : : 60006it [04:04, 245.46it/s]                                                                                     \n"
     ]
    },
    {
     "name": "stdout",
     "output_type": "stream",
     "text": [
      "Saving: solutions/non_triv_1.0_1_1_1.pickle\n"
     ]
    },
    {
     "name": "stderr",
     "output_type": "stream",
     "text": [
      "+0.197084844112 [best: +0.010783896782] : : 60006it [04:04, 245.61it/s]                                                                                     \n"
     ]
    },
    {
     "name": "stdout",
     "output_type": "stream",
     "text": [
      "Saving: solutions/non_triv_1.0_2_0_1.pickle\n"
     ]
    },
    {
     "name": "stderr",
     "output_type": "stream",
     "text": [
      "+0.140984848142 [best: +0.020322266966] : : 60006it [04:04, 245.73it/s]                                                                                     \n"
     ]
    },
    {
     "name": "stdout",
     "output_type": "stream",
     "text": [
      "Saving: solutions/non_triv_1.0_2_1_1.pickle\n"
     ]
    },
    {
     "name": "stderr",
     "output_type": "stream",
     "text": [
      "+0.246151342988 [best: +0.016546009108] : : 60006it [04:04, 245.61it/s]                                                                                     \n"
     ]
    },
    {
     "name": "stdout",
     "output_type": "stream",
     "text": [
      "Saving: solutions/non_triv_1.0_3_0_1.pickle\n"
     ]
    },
    {
     "name": "stderr",
     "output_type": "stream",
     "text": [
      "+0.080943576992 [best: +0.013013763353] : : 60006it [04:03, 246.24it/s]                                                                                     \n"
     ]
    },
    {
     "name": "stdout",
     "output_type": "stream",
     "text": [
      "Saving: solutions/non_triv_1.0_3_1_1.pickle\n"
     ]
    },
    {
     "name": "stderr",
     "output_type": "stream",
     "text": [
      "+15.285287857056 [best: +1.148835778236] : : 60006it [04:01, 248.50it/s]                                                                                    \n"
     ]
    },
    {
     "name": "stdout",
     "output_type": "stream",
     "text": [
      "Saving: solutions/non_triv_0.25_1_0_1.pickle\n"
     ]
    },
    {
     "name": "stderr",
     "output_type": "stream",
     "text": [
      "+1.145299434662 [best: +0.092726007104] : : 60006it [04:00, 249.63it/s]                                                                                     \n"
     ]
    },
    {
     "name": "stdout",
     "output_type": "stream",
     "text": [
      "Saving: solutions/non_triv_0.25_1_1_1.pickle\n"
     ]
    },
    {
     "name": "stderr",
     "output_type": "stream",
     "text": [
      "+49.179088592529 [best: +46.890720367432] : : 60006it [04:00, 249.82it/s]                                                                                   \n"
     ]
    },
    {
     "name": "stdout",
     "output_type": "stream",
     "text": [
      "Saving: solutions/non_triv_0.25_2_0_1.pickle\n"
     ]
    },
    {
     "name": "stderr",
     "output_type": "stream",
     "text": [
      "+30.832866668701 [best: +4.749995231628] : : 60006it [04:00, 249.33it/s]                                                                                    \n"
     ]
    },
    {
     "name": "stdout",
     "output_type": "stream",
     "text": [
      "Saving: solutions/non_triv_0.25_2_1_1.pickle\n"
     ]
    },
    {
     "name": "stderr",
     "output_type": "stream",
     "text": [
      "+21.928543090820 [best: +0.060699015856] : : 60006it [04:00, 249.11it/s]                                                                                    \n"
     ]
    },
    {
     "name": "stdout",
     "output_type": "stream",
     "text": [
      "Saving: solutions/non_triv_0.25_3_0_1.pickle\n"
     ]
    },
    {
     "name": "stderr",
     "output_type": "stream",
     "text": [
      "+2.069462537766 [best: +2.065738677979] : : 60006it [04:00, 249.71it/s]                                                                                     \n"
     ]
    },
    {
     "name": "stdout",
     "output_type": "stream",
     "text": [
      "Saving: solutions/non_triv_0.25_3_1_1.pickle\n"
     ]
    },
    {
     "name": "stderr",
     "output_type": "stream",
     "text": [
      "+49.418762207031 [best: +45.689445495605] : : 60006it [04:00, 249.06it/s]                                                                                   \n"
     ]
    },
    {
     "name": "stdout",
     "output_type": "stream",
     "text": [
      "Saving: solutions/non_triv_0.2_1_0_1.pickle\n"
     ]
    },
    {
     "name": "stderr",
     "output_type": "stream",
     "text": [
      "+1.840707659721 [best: +0.474088937044] : : 60006it [04:00, 249.17it/s]                                                                                     \n"
     ]
    },
    {
     "name": "stdout",
     "output_type": "stream",
     "text": [
      "Saving: solutions/non_triv_0.2_1_1_1.pickle\n"
     ]
    },
    {
     "name": "stderr",
     "output_type": "stream",
     "text": [
      "+1.868974328041 [best: +1.865231037140] : : 60006it [04:00, 249.26it/s]                                                                                     \n"
     ]
    },
    {
     "name": "stdout",
     "output_type": "stream",
     "text": [
      "Saving: solutions/non_triv_0.2_2_0_1.pickle\n"
     ]
    },
    {
     "name": "stderr",
     "output_type": "stream",
     "text": [
      "+4.162821769714 [best: +3.042761564255] : : 60006it [04:00, 249.40it/s]                                                                                     \n"
     ]
    },
    {
     "name": "stdout",
     "output_type": "stream",
     "text": [
      "Saving: solutions/non_triv_0.2_2_1_1.pickle\n"
     ]
    },
    {
     "name": "stderr",
     "output_type": "stream",
     "text": [
      "+49.948104858398 [best: +49.523822784424] : : 60006it [04:00, 249.09it/s]                                                                                   \n"
     ]
    },
    {
     "name": "stdout",
     "output_type": "stream",
     "text": [
      "Saving: solutions/non_triv_0.2_3_0_1.pickle\n"
     ]
    },
    {
     "name": "stderr",
     "output_type": "stream",
     "text": [
      "+0.417190492153 [best: +0.040174767375] : : 60006it [04:00, 249.69it/s]                                                                                     \n"
     ]
    },
    {
     "name": "stdout",
     "output_type": "stream",
     "text": [
      "Saving: solutions/non_triv_0.2_3_1_1.pickle\n"
     ]
    },
    {
     "name": "stderr",
     "output_type": "stream",
     "text": [
      "+0.186021387577 [best: +0.054025847465] : : 60006it [04:00, 249.55it/s]                                                                                     \n"
     ]
    },
    {
     "name": "stdout",
     "output_type": "stream",
     "text": [
      "Saving: solutions/non_triv_0.75_1_0_1.pickle\n"
     ]
    },
    {
     "name": "stderr",
     "output_type": "stream",
     "text": [
      "+0.220260351896 [best: +0.060635279864] : : 60006it [04:00, 249.49it/s]                                                                                     \n"
     ]
    },
    {
     "name": "stdout",
     "output_type": "stream",
     "text": [
      "Saving: solutions/non_triv_0.75_1_1_1.pickle\n"
     ]
    },
    {
     "name": "stderr",
     "output_type": "stream",
     "text": [
      "+0.420889556408 [best: +0.054570786655] : : 60006it [04:00, 249.23it/s]                                                                                     \n"
     ]
    },
    {
     "name": "stdout",
     "output_type": "stream",
     "text": [
      "Saving: solutions/non_triv_0.75_2_0_1.pickle\n"
     ]
    },
    {
     "name": "stderr",
     "output_type": "stream",
     "text": [
      "+0.164752215147 [best: +0.053736113012] : : 60006it [04:01, 248.69it/s]                                                                                     \n"
     ]
    },
    {
     "name": "stdout",
     "output_type": "stream",
     "text": [
      "Saving: solutions/non_triv_0.75_2_1_1.pickle\n"
     ]
    },
    {
     "name": "stderr",
     "output_type": "stream",
     "text": [
      "+0.325498461723 [best: +0.073636345565] : : 60006it [04:01, 248.74it/s]                                                                                     \n"
     ]
    },
    {
     "name": "stdout",
     "output_type": "stream",
     "text": [
      "Saving: solutions/non_triv_0.75_3_0_1.pickle\n"
     ]
    },
    {
     "name": "stderr",
     "output_type": "stream",
     "text": [
      "+0.207607746124 [best: +0.053910516202] : : 60006it [04:00, 249.86it/s]                                                                                     \n"
     ]
    },
    {
     "name": "stdout",
     "output_type": "stream",
     "text": [
      "Saving: solutions/non_triv_0.75_3_1_1.pickle\n"
     ]
    },
    {
     "name": "stderr",
     "output_type": "stream",
     "text": [
      "+1.354707241058 [best: +0.102284386754] : : 60006it [04:00, 248.99it/s]                                                                                     \n"
     ]
    },
    {
     "name": "stdout",
     "output_type": "stream",
     "text": [
      "Saving: solutions/non_triv_0.1_1_0_1.pickle\n"
     ]
    },
    {
     "name": "stderr",
     "output_type": "stream",
     "text": [
      "+0.161841645837 [best: +0.059689197689] : : 60006it [04:00, 249.50it/s]                                                                                     \n"
     ]
    },
    {
     "name": "stdout",
     "output_type": "stream",
     "text": [
      "Saving: solutions/non_triv_0.1_1_1_1.pickle\n"
     ]
    },
    {
     "name": "stderr",
     "output_type": "stream",
     "text": [
      "+5.580609321594 [best: +5.580609321594] : : 60006it [04:00, 249.87it/s]                                                                                     \n"
     ]
    },
    {
     "name": "stdout",
     "output_type": "stream",
     "text": [
      "Saving: solutions/non_triv_0.1_2_0_1.pickle\n"
     ]
    },
    {
     "name": "stderr",
     "output_type": "stream",
     "text": [
      "+50.030570983887 [best: +49.578605651855] : : 60006it [04:00, 249.25it/s]                                                                                   \n"
     ]
    },
    {
     "name": "stdout",
     "output_type": "stream",
     "text": [
      "Saving: solutions/non_triv_0.1_2_1_1.pickle\n"
     ]
    },
    {
     "name": "stderr",
     "output_type": "stream",
     "text": [
      "+2.366849422455 [best: +2.363196849823] : : 60006it [04:01, 248.83it/s]                                                                                     \n"
     ]
    },
    {
     "name": "stdout",
     "output_type": "stream",
     "text": [
      "Saving: solutions/non_triv_0.1_3_0_1.pickle\n"
     ]
    },
    {
     "name": "stderr",
     "output_type": "stream",
     "text": [
      "+2.262032747269 [best: +0.057323079556] : : 60006it [04:00, 249.56it/s]                                                                                     \n"
     ]
    },
    {
     "name": "stdout",
     "output_type": "stream",
     "text": [
      "Saving: solutions/non_triv_0.1_3_1_1.pickle\n"
     ]
    },
    {
     "name": "stderr",
     "output_type": "stream",
     "text": [
      "+0.051743108779 [best: +0.017154509202] : : 60006it [04:01, 248.43it/s]                                                                                     \n"
     ]
    },
    {
     "name": "stdout",
     "output_type": "stream",
     "text": [
      "Saving: solutions/non_triv_0.9_1_0_1.pickle\n"
     ]
    },
    {
     "name": "stderr",
     "output_type": "stream",
     "text": [
      "+0.228073328733 [best: +0.020231096074] : : 60006it [04:02, 247.42it/s]                                                                                     \n"
     ]
    },
    {
     "name": "stdout",
     "output_type": "stream",
     "text": [
      "Saving: solutions/non_triv_0.9_1_1_1.pickle\n"
     ]
    },
    {
     "name": "stderr",
     "output_type": "stream",
     "text": [
      "+0.100306063890 [best: +0.017450351268] : : 60006it [04:00, 249.71it/s]                                                                                     \n"
     ]
    },
    {
     "name": "stdout",
     "output_type": "stream",
     "text": [
      "Saving: solutions/non_triv_0.9_2_0_1.pickle\n"
     ]
    },
    {
     "name": "stderr",
     "output_type": "stream",
     "text": [
      "+0.076233595610 [best: +0.013505192474] : : 60006it [04:00, 249.57it/s]                                                                                     \n"
     ]
    },
    {
     "name": "stdout",
     "output_type": "stream",
     "text": [
      "Saving: solutions/non_triv_0.9_2_1_1.pickle\n"
     ]
    },
    {
     "name": "stderr",
     "output_type": "stream",
     "text": [
      "+0.087115272880 [best: +0.019953723997] : : 60006it [04:01, 248.79it/s]                                                                                     \n"
     ]
    },
    {
     "name": "stdout",
     "output_type": "stream",
     "text": [
      "Saving: solutions/non_triv_0.9_3_0_1.pickle\n"
     ]
    },
    {
     "name": "stderr",
     "output_type": "stream",
     "text": [
      "+0.110129773617 [best: +0.016946479678] : : 60006it [04:00, 249.66it/s]                                                                                     \n"
     ]
    },
    {
     "name": "stdout",
     "output_type": "stream",
     "text": [
      "Saving: solutions/non_triv_0.9_3_1_1.pickle\n"
     ]
    },
    {
     "name": "stderr",
     "output_type": "stream",
     "text": [
      "+0.657363295555 [best: +0.099304758012] : : 60006it [04:01, 248.85it/s]                                                                                     \n"
     ]
    },
    {
     "name": "stdout",
     "output_type": "stream",
     "text": [
      "Saving: solutions/non_triv_0.05_1_0_1.pickle\n"
     ]
    },
    {
     "name": "stderr",
     "output_type": "stream",
     "text": [
      "+1.106774806976 [best: +0.050640761852] : : 60006it [04:00, 249.44it/s]                                                                                     \n"
     ]
    },
    {
     "name": "stdout",
     "output_type": "stream",
     "text": [
      "Saving: solutions/non_triv_0.05_1_1_1.pickle\n"
     ]
    },
    {
     "name": "stderr",
     "output_type": "stream",
     "text": [
      "+2.864505529404 [best: +0.029535591602] : : 60006it [04:00, 249.34it/s]                                                                                     \n"
     ]
    },
    {
     "name": "stdout",
     "output_type": "stream",
     "text": [
      "Saving: solutions/non_triv_0.05_2_0_1.pickle\n"
     ]
    },
    {
     "name": "stderr",
     "output_type": "stream",
     "text": [
      "+11.721747398376 [best: +2.286075115204] : : 60006it [04:01, 248.88it/s]                                                                                    \n"
     ]
    },
    {
     "name": "stdout",
     "output_type": "stream",
     "text": [
      "Saving: solutions/non_triv_0.05_2_1_1.pickle\n"
     ]
    },
    {
     "name": "stderr",
     "output_type": "stream",
     "text": [
      "+50.022666931152 [best: +48.986106872559] : : 60006it [04:01, 248.95it/s]                                                                                   \n"
     ]
    },
    {
     "name": "stdout",
     "output_type": "stream",
     "text": [
      "Saving: solutions/non_triv_0.05_3_0_1.pickle\n"
     ]
    },
    {
     "name": "stderr",
     "output_type": "stream",
     "text": [
      "+7.462500572205 [best: +7.462500572205] : : 60006it [04:00, 249.17it/s]                                                                                     \n"
     ]
    },
    {
     "name": "stdout",
     "output_type": "stream",
     "text": [
      "Saving: solutions/non_triv_0.05_3_1_1.pickle\n"
     ]
    },
    {
     "name": "stderr",
     "output_type": "stream",
     "text": [
      "+49.501476287842 [best: +47.468750000000] : : 60006it [04:01, 248.65it/s]                                                                                   \n"
     ]
    },
    {
     "name": "stdout",
     "output_type": "stream",
     "text": [
      "Saving: solutions/non_triv_0.15_1_0_1.pickle\n"
     ]
    },
    {
     "name": "stderr",
     "output_type": "stream",
     "text": [
      "+5.860932350159 [best: +5.018890380859] : : 60006it [04:00, 249.27it/s]                                                                                     \n"
     ]
    },
    {
     "name": "stdout",
     "output_type": "stream",
     "text": [
      "Saving: solutions/non_triv_0.15_1_1_1.pickle\n"
     ]
    },
    {
     "name": "stderr",
     "output_type": "stream",
     "text": [
      "+49.946525573730 [best: +0.056890815496] : : 60006it [04:00, 249.08it/s]                                                                                    \n"
     ]
    },
    {
     "name": "stdout",
     "output_type": "stream",
     "text": [
      "Saving: solutions/non_triv_0.15_2_0_1.pickle\n"
     ]
    },
    {
     "name": "stderr",
     "output_type": "stream",
     "text": [
      "+43.173610687256 [best: +5.606648445129] : : 60006it [04:00, 249.49it/s]                                                                                    \n"
     ]
    },
    {
     "name": "stdout",
     "output_type": "stream",
     "text": [
      "Saving: solutions/non_triv_0.15_2_1_1.pickle\n"
     ]
    },
    {
     "name": "stderr",
     "output_type": "stream",
     "text": [
      "+0.095350116491 [best: +0.042254541069] : : 60006it [04:00, 249.31it/s]                                                                                     \n"
     ]
    },
    {
     "name": "stdout",
     "output_type": "stream",
     "text": [
      "Saving: solutions/non_triv_0.15_3_0_1.pickle\n"
     ]
    },
    {
     "name": "stderr",
     "output_type": "stream",
     "text": [
      "+0.276412189007 [best: +0.150541573763] : : 60006it [04:00, 249.61it/s]                                                                                     \n"
     ]
    },
    {
     "name": "stdout",
     "output_type": "stream",
     "text": [
      "Saving: solutions/non_triv_0.15_3_1_1.pickle\n"
     ]
    },
    {
     "name": "stderr",
     "output_type": "stream",
     "text": [
      "+0.170762836933 [best: +0.029835214838] : : 60006it [04:00, 249.47it/s]                                                                                     \n"
     ]
    },
    {
     "name": "stdout",
     "output_type": "stream",
     "text": [
      "Saving: solutions/non_triv_0.8_1_0_1.pickle\n"
     ]
    },
    {
     "name": "stderr",
     "output_type": "stream",
     "text": [
      "+0.067284360528 [best: +0.023620663211] : : 60006it [04:01, 248.95it/s]                                                                                     \n"
     ]
    },
    {
     "name": "stdout",
     "output_type": "stream",
     "text": [
      "Saving: solutions/non_triv_0.8_1_1_1.pickle\n"
     ]
    },
    {
     "name": "stderr",
     "output_type": "stream",
     "text": [
      "+0.170015484095 [best: +0.052926957607] : : 60006it [04:00, 249.52it/s]                                                                                     \n"
     ]
    },
    {
     "name": "stdout",
     "output_type": "stream",
     "text": [
      "Saving: solutions/non_triv_0.8_2_0_1.pickle\n"
     ]
    },
    {
     "name": "stderr",
     "output_type": "stream",
     "text": [
      "+0.111503250897 [best: +0.046399984509] : : 60006it [04:00, 249.01it/s]                                                                                     \n"
     ]
    },
    {
     "name": "stdout",
     "output_type": "stream",
     "text": [
      "Saving: solutions/non_triv_0.8_2_1_1.pickle\n"
     ]
    },
    {
     "name": "stderr",
     "output_type": "stream",
     "text": [
      "+0.222408592701 [best: +0.032738078386] : : 60006it [04:01, 248.97it/s]                                                                                     \n"
     ]
    },
    {
     "name": "stdout",
     "output_type": "stream",
     "text": [
      "Saving: solutions/non_triv_0.8_3_0_1.pickle\n"
     ]
    },
    {
     "name": "stderr",
     "output_type": "stream",
     "text": [
      "+0.174304202199 [best: +0.025926385075] : : 60006it [04:00, 249.32it/s]                                                                                     \n"
     ]
    },
    {
     "name": "stdout",
     "output_type": "stream",
     "text": [
      "Saving: solutions/non_triv_0.8_3_1_1.pickle\n"
     ]
    },
    {
     "name": "stderr",
     "output_type": "stream",
     "text": [
      "+49.988189697266 [best: +49.516712188721] : : 60006it [04:00, 249.17it/s]                                                                                   \n"
     ]
    },
    {
     "name": "stdout",
     "output_type": "stream",
     "text": [
      "Saving: solutions/non_triv_0.4_1_0_1.pickle\n"
     ]
    },
    {
     "name": "stderr",
     "output_type": "stream",
     "text": [
      "+38.262390136719 [best: +2.559019088745] : : 60006it [04:00, 249.45it/s]                                                                                    \n"
     ]
    },
    {
     "name": "stdout",
     "output_type": "stream",
     "text": [
      "Saving: solutions/non_triv_0.4_1_1_1.pickle\n"
     ]
    },
    {
     "name": "stderr",
     "output_type": "stream",
     "text": [
      "+13.341251373291 [best: +9.628934860229] : : 60006it [04:00, 249.37it/s]                                                                                    \n"
     ]
    },
    {
     "name": "stdout",
     "output_type": "stream",
     "text": [
      "Saving: solutions/non_triv_0.4_2_0_1.pickle\n"
     ]
    },
    {
     "name": "stderr",
     "output_type": "stream",
     "text": [
      "+3.663030147552 [best: +2.998092889786] : : 60006it [04:01, 248.86it/s]                                                                                     \n"
     ]
    },
    {
     "name": "stdout",
     "output_type": "stream",
     "text": [
      "Saving: solutions/non_triv_0.4_2_1_1.pickle\n"
     ]
    },
    {
     "name": "stderr",
     "output_type": "stream",
     "text": [
      "+1.761468052864 [best: +0.308191984892] : : 60006it [04:00, 249.17it/s]                                                                                     \n"
     ]
    },
    {
     "name": "stdout",
     "output_type": "stream",
     "text": [
      "Saving: solutions/non_triv_0.4_3_0_1.pickle\n"
     ]
    },
    {
     "name": "stderr",
     "output_type": "stream",
     "text": [
      "+31.468370437622 [best: +31.468370437622] : : 60006it [04:00, 249.36it/s]                                                                                   \n"
     ]
    },
    {
     "name": "stdout",
     "output_type": "stream",
     "text": [
      "Saving: solutions/non_triv_0.4_3_1_1.pickle\n"
     ]
    },
    {
     "name": "stderr",
     "output_type": "stream",
     "text": [
      "+42.441001892090 [best: +21.590126037598] : : 60006it [03:58, 251.26it/s]                                                                                   \n"
     ]
    },
    {
     "name": "stdout",
     "output_type": "stream",
     "text": [
      "Saving: solutions/non_triv_0.0_1_0_1.pickle\n"
     ]
    },
    {
     "name": "stderr",
     "output_type": "stream",
     "text": [
      "+49.975997924805 [best: +49.568134307861] : : 60006it [03:58, 251.72it/s]                                                                                   \n"
     ]
    },
    {
     "name": "stdout",
     "output_type": "stream",
     "text": [
      "Saving: solutions/non_triv_0.0_1_1_1.pickle\n"
     ]
    },
    {
     "name": "stderr",
     "output_type": "stream",
     "text": [
      "+1.034628033638 [best: +1.032023668289] : : 60006it [03:57, 252.36it/s]                                                                                     \n"
     ]
    },
    {
     "name": "stdout",
     "output_type": "stream",
     "text": [
      "Saving: solutions/non_triv_0.0_2_0_1.pickle\n"
     ]
    },
    {
     "name": "stderr",
     "output_type": "stream",
     "text": [
      "+2.193922042847 [best: +1.577671170235] : : 60006it [03:58, 252.06it/s]                                                                                     \n"
     ]
    },
    {
     "name": "stdout",
     "output_type": "stream",
     "text": [
      "Saving: solutions/non_triv_0.0_2_1_1.pickle\n"
     ]
    },
    {
     "name": "stderr",
     "output_type": "stream",
     "text": [
      "+7.673961639404 [best: +4.909841537476] : : 60006it [03:58, 251.55it/s]                                                                                     \n"
     ]
    },
    {
     "name": "stdout",
     "output_type": "stream",
     "text": [
      "Saving: solutions/non_triv_0.0_3_0_1.pickle\n"
     ]
    },
    {
     "name": "stderr",
     "output_type": "stream",
     "text": [
      "+6.881017208099 [best: +6.881017208099] : : 60006it [03:58, 251.80it/s]                                                                                     \n"
     ]
    },
    {
     "name": "stdout",
     "output_type": "stream",
     "text": [
      "Saving: solutions/non_triv_0.0_3_1_1.pickle\n"
     ]
    },
    {
     "name": "stderr",
     "output_type": "stream",
     "text": [
      "+1.112568020821 [best: +0.578794360161] : : 60006it [04:01, 248.92it/s]                                                                                     \n"
     ]
    },
    {
     "name": "stdout",
     "output_type": "stream",
     "text": [
      "Saving: solutions/non_triv_0.6_1_0_1.pickle\n"
     ]
    },
    {
     "name": "stderr",
     "output_type": "stream",
     "text": [
      "+0.688997685909 [best: +0.407775878906] : : 60006it [04:01, 248.98it/s]                                                                                     \n"
     ]
    },
    {
     "name": "stdout",
     "output_type": "stream",
     "text": [
      "Saving: solutions/non_triv_0.6_1_1_1.pickle\n"
     ]
    },
    {
     "name": "stderr",
     "output_type": "stream",
     "text": [
      "+0.969456315041 [best: +0.590302705765] : : 60006it [04:00, 249.69it/s]                                                                                     \n"
     ]
    },
    {
     "name": "stdout",
     "output_type": "stream",
     "text": [
      "Saving: solutions/non_triv_0.6_2_0_1.pickle\n"
     ]
    },
    {
     "name": "stderr",
     "output_type": "stream",
     "text": [
      "+1.254772186279 [best: +0.435047745705] : : 60006it [04:00, 249.23it/s]                                                                                     \n"
     ]
    },
    {
     "name": "stdout",
     "output_type": "stream",
     "text": [
      "Saving: solutions/non_triv_0.6_2_1_1.pickle\n"
     ]
    },
    {
     "name": "stderr",
     "output_type": "stream",
     "text": [
      "+0.949352443218 [best: +0.481597393751] : : 60006it [04:01, 248.35it/s]                                                                                     \n"
     ]
    },
    {
     "name": "stdout",
     "output_type": "stream",
     "text": [
      "Saving: solutions/non_triv_0.6_3_0_1.pickle\n"
     ]
    },
    {
     "name": "stderr",
     "output_type": "stream",
     "text": [
      "+0.888097763062 [best: +0.570565342903] : : 60006it [04:00, 249.84it/s]                                                                                     \n"
     ]
    },
    {
     "name": "stdout",
     "output_type": "stream",
     "text": [
      "Saving: solutions/non_triv_0.6_3_1_1.pickle\n"
     ]
    },
    {
     "name": "stderr",
     "output_type": "stream",
     "text": [
      "+0.185708701611 [best: +0.021191081032] : : 60006it [04:01, 248.78it/s]                                                                                     \n"
     ]
    },
    {
     "name": "stdout",
     "output_type": "stream",
     "text": [
      "Saving: solutions/non_triv_0.85_1_0_1.pickle\n"
     ]
    },
    {
     "name": "stderr",
     "output_type": "stream",
     "text": [
      "+0.751125514507 [best: +0.018693679944] : : 60006it [04:00, 249.06it/s]                                                                                     \n"
     ]
    },
    {
     "name": "stdout",
     "output_type": "stream",
     "text": [
      "Saving: solutions/non_triv_0.85_1_1_1.pickle\n"
     ]
    },
    {
     "name": "stderr",
     "output_type": "stream",
     "text": [
      "+0.155610740185 [best: +0.014988401905] : : 60006it [04:00, 248.99it/s]                                                                                     \n"
     ]
    },
    {
     "name": "stdout",
     "output_type": "stream",
     "text": [
      "Saving: solutions/non_triv_0.85_2_0_1.pickle\n"
     ]
    },
    {
     "name": "stderr",
     "output_type": "stream",
     "text": [
      "+0.073566816747 [best: +0.021382465959] : : 60006it [04:01, 248.47it/s]                                                                                     \n"
     ]
    },
    {
     "name": "stdout",
     "output_type": "stream",
     "text": [
      "Saving: solutions/non_triv_0.85_2_1_1.pickle\n"
     ]
    },
    {
     "name": "stderr",
     "output_type": "stream",
     "text": [
      "+0.323341369629 [best: +0.017830401659] : : 60006it [04:01, 248.71it/s]                                                                                     \n"
     ]
    },
    {
     "name": "stdout",
     "output_type": "stream",
     "text": [
      "Saving: solutions/non_triv_0.85_3_0_1.pickle\n"
     ]
    },
    {
     "name": "stderr",
     "output_type": "stream",
     "text": [
      "+0.198606282473 [best: +0.021907631308] : : 60006it [04:00, 249.69it/s]                                                                                     \n"
     ]
    },
    {
     "name": "stdout",
     "output_type": "stream",
     "text": [
      "Saving: solutions/non_triv_0.85_3_1_1.pickle\n"
     ]
    },
    {
     "name": "stderr",
     "output_type": "stream",
     "text": [
      "+50.035758972168 [best: +49.592670440674] : : 60006it [04:01, 248.59it/s]                                                                                   \n"
     ]
    },
    {
     "name": "stdout",
     "output_type": "stream",
     "text": [
      "Saving: solutions/non_triv_0.35_1_0_1.pickle\n"
     ]
    },
    {
     "name": "stderr",
     "output_type": "stream",
     "text": [
      "+2.057981967926 [best: +0.653591394424] : : 60006it [04:00, 249.26it/s]                                                                                     \n"
     ]
    },
    {
     "name": "stdout",
     "output_type": "stream",
     "text": [
      "Saving: solutions/non_triv_0.35_1_1_1.pickle\n"
     ]
    },
    {
     "name": "stderr",
     "output_type": "stream",
     "text": [
      "+1.657717943192 [best: +1.641437053680] : : 60006it [04:00, 249.38it/s]                                                                                     \n"
     ]
    },
    {
     "name": "stdout",
     "output_type": "stream",
     "text": [
      "Saving: solutions/non_triv_0.35_2_0_1.pickle\n"
     ]
    },
    {
     "name": "stderr",
     "output_type": "stream",
     "text": [
      "+50.000995635986 [best: +49.056701660156] : : 60006it [04:01, 248.35it/s]                                                                                   \n"
     ]
    },
    {
     "name": "stdout",
     "output_type": "stream",
     "text": [
      "Saving: solutions/non_triv_0.35_2_1_1.pickle\n"
     ]
    },
    {
     "name": "stderr",
     "output_type": "stream",
     "text": [
      "+50.006694793701 [best: +49.935520172119] : : 60006it [04:01, 248.60it/s]                                                                                   \n"
     ]
    },
    {
     "name": "stdout",
     "output_type": "stream",
     "text": [
      "Saving: solutions/non_triv_0.35_3_0_1.pickle\n"
     ]
    },
    {
     "name": "stderr",
     "output_type": "stream",
     "text": [
      "+50.020984649658 [best: +49.256198883057] : : 60006it [04:01, 248.72it/s]                                                                                   \n"
     ]
    },
    {
     "name": "stdout",
     "output_type": "stream",
     "text": [
      "Saving: solutions/non_triv_0.35_3_1_1.pickle\n"
     ]
    },
    {
     "name": "stderr",
     "output_type": "stream",
     "text": [
      "+50.043933868408 [best: +50.004333496094] : : 60006it [04:01, 247.97it/s]                                                                                   \n"
     ]
    },
    {
     "name": "stdout",
     "output_type": "stream",
     "text": [
      "Saving: solutions/non_triv_0.5_1_0_1.pickle\n"
     ]
    },
    {
     "name": "stderr",
     "output_type": "stream",
     "text": [
      "+50.034423828125 [best: +50.002502441406] : : 60006it [04:01, 248.57it/s]                                                                                   \n"
     ]
    },
    {
     "name": "stdout",
     "output_type": "stream",
     "text": [
      "Saving: solutions/non_triv_0.5_1_1_1.pickle\n"
     ]
    },
    {
     "name": "stderr",
     "output_type": "stream",
     "text": [
      "+50.062133789062 [best: +50.004241943359] : : 60006it [04:01, 248.03it/s]                                                                                   \n"
     ]
    },
    {
     "name": "stdout",
     "output_type": "stream",
     "text": [
      "Saving: solutions/non_triv_0.5_2_0_1.pickle\n"
     ]
    },
    {
     "name": "stderr",
     "output_type": "stream",
     "text": [
      "+50.035697937012 [best: +50.003837585449] : : 60006it [04:01, 248.18it/s]                                                                                   \n"
     ]
    },
    {
     "name": "stdout",
     "output_type": "stream",
     "text": [
      "Saving: solutions/non_triv_0.5_2_1_1.pickle\n"
     ]
    },
    {
     "name": "stderr",
     "output_type": "stream",
     "text": [
      "+2.782383918762 [best: +2.675715446472] : : 60006it [04:02, 247.91it/s]                                                                                     \n"
     ]
    },
    {
     "name": "stdout",
     "output_type": "stream",
     "text": [
      "Saving: solutions/non_triv_0.5_3_0_1.pickle\n"
     ]
    },
    {
     "name": "stderr",
     "output_type": "stream",
     "text": [
      "+2.886706352234 [best: +1.947829723358] : : 60006it [04:01, 248.76it/s]                                                                                     \n"
     ]
    },
    {
     "name": "stdout",
     "output_type": "stream",
     "text": [
      "Saving: solutions/non_triv_0.5_3_1_1.pickle\n"
     ]
    }
   ],
   "source": [
    "for k1, mps_psi_dict in tenpy_mps_data.items():\n",
    "    for k2, mps_psi in mps_psi_dict.items():\n",
    "\n",
    "        psi_arrays = list()\n",
    "        psi_arrays.append(mps_psi.get_B(0, 'Th')[0, ...].to_ndarray())\n",
    "        for i in range(1, mps_psi.L-1):\n",
    "            psi_arrays.append(mps_psi.get_B(i).to_ndarray())\n",
    "        psi_arrays.append(mps_psi.get_B(mps_psi.L-1)[..., 0].to_ndarray())\n",
    "\n",
    "        q1 = (\n",
    "            qtn\n",
    "            .tensor_1d\n",
    "            .MatrixProductState(psi_arrays, shape='lpr')\n",
    "        )\n",
    "\n",
    "        for k3, bs in enumerate(bosonic_np_symmetries[1:], start=1):\n",
    "            for k4, fs in enumerate(fermionic_np_symmetries):\n",
    "\n",
    "                symmetry_site_pairs = (\n",
    "                    [(i, bs) for i in range(left_most_symmetry_site, left_most_symmetry_site+num_symmetry_sites, 2)]\n",
    "                    + [(i, fs) for i in range(left_most_symmetry_site+1, left_most_symmetry_site+num_symmetry_sites+1, 2)]\n",
    "                )\n",
    "\n",
    "                problem_rdm = generate_problem_rdm(\n",
    "                    q1,\n",
    "                    symmetry_site_pairs,\n",
    "                    left_most_symmetry_site,\n",
    "                    num_symmetry_sites,\n",
    "                    num_boundary_sites\n",
    "                )\n",
    "\n",
    "                seed_number = 0\n",
    "                new_seed_needed=True\n",
    "                while new_seed_needed:\n",
    "                    mpo = initialize_mpo(\n",
    "                        left_most_symmetry_site,\n",
    "                        num_symmetry_sites,\n",
    "                        num_boundary_sites,\n",
    "                        bond_dimension\n",
    "                    )\n",
    "                \n",
    "                    optmzr = qtn.optimize.TNOptimizer(\n",
    "                        mpo,                                \n",
    "                        loss_fn=overall_loss_function,\n",
    "                        loss_kwargs={\n",
    "                            'rdm_tn': problem_rdm,\n",
    "                            'total_physical_dimension': total_physical_dim,\n",
    "                            'unitary_cost_coefficient': 1,\n",
    "                            'overlap_cost_coefficient': overlap_learning_rate\n",
    "                        },\n",
    "                        autodiff_backend='jax',\n",
    "                        optimizer='cadam',\n",
    "                    )\n",
    "    \n",
    "                    optmzr.optimize_basinhopping(\n",
    "                        num_iterations,\n",
    "                        nhop,\n",
    "                        learning_rate=alpha,\n",
    "                        beta1=beta_1,\n",
    "                        beta2=beta_2,\n",
    "                        tol=score_target\n",
    "                    )\n",
    "\n",
    "                    final_score = jnp.min(np.array(optmzr.losses))\n",
    "\n",
    "                    if (seed_number == new_seed_needed - 1) or (final_score < score_target):\n",
    "                        new_seed_needed = False\n",
    "\n",
    "                    seed_number += 1\n",
    "\n",
    "                    file_name = rf'solutions/{k1}_{k2}_{k3}_{k4}_{seed_number}.pickle'\n",
    "                    print('Saving: ' + file_name)\n",
    "\n",
    "                    with open(file_name, 'wb') as file:\n",
    "                        pickle.dump([final_score, optmzr.get_tn_opt()], file)"
   ]
  },
  {
   "cell_type": "markdown",
   "id": "1b0cc3da-b322-45d5-9e84-a8f26268d3e7",
   "metadata": {},
   "source": [
    "## Second pass\n",
    "Some of the solutions weren't good."
   ]
  },
  {
   "cell_type": "code",
   "execution_count": 33,
   "id": "66822191-25d8-4498-a30c-a07cb4a004ad",
   "metadata": {},
   "outputs": [],
   "source": [
    "SOL_DIR = r\"solutions/\""
   ]
  },
  {
   "cell_type": "code",
   "execution_count": 34,
   "id": "c4c5c6b5-a22c-4cdb-bd53-d0642577d8ca",
   "metadata": {},
   "outputs": [],
   "source": [
    "def parse_file_name(file_name):\n",
    "    if file_name[0] == 'n':\n",
    "        proj_rep=1\n",
    "        b, bs, fs = file_name.split('_')[2:-1]\n",
    "        b = float(b)\n",
    "        bs = int(bs)\n",
    "        fs = int(fs)\n",
    "    elif file_name[0] == 't':\n",
    "        proj_rep=0\n",
    "        b, bs, fs = file_name.split('_')[1:-1]\n",
    "\n",
    "    b = float(b)\n",
    "    bs = int(bs)\n",
    "    fs = int(fs)\n",
    "    \n",
    "    return (proj_rep, b, bs, fs)"
   ]
  },
  {
   "cell_type": "code",
   "execution_count": 35,
   "id": "c5fd6001-aa9c-4ef9-a055-514e151ee70e",
   "metadata": {},
   "outputs": [],
   "source": [
    "boundary_operator_solutions = dict()\n",
    "\n",
    "for local_file_name in list(os.walk(SOL_DIR))[0][2]:\n",
    "    f_name = r\"{}/{}\".format(SOL_DIR, local_file_name, ignore_unknown=False)\n",
    "\n",
    "    key = parse_file_name(local_file_name)\n",
    "\n",
    "    with open(f_name, 'rb') as f:\n",
    "        out = pickle.load(f)\n",
    "\n",
    "        boundary_operator_solutions[key] = out"
   ]
  },
  {
   "cell_type": "code",
   "execution_count": 36,
   "id": "63ad7102-5a43-4e95-a96e-da0fcdcc89d1",
   "metadata": {},
   "outputs": [],
   "source": [
    "score_pairs = [\n",
    "    (k, float(v[0]._value)) for k, v in boundary_operator_solutions.items()\n",
    "]"
   ]
  },
  {
   "cell_type": "code",
   "execution_count": 37,
   "id": "5cad8747-66b2-41f0-8802-2cddb00fdf41",
   "metadata": {},
   "outputs": [],
   "source": [
    "bad_pairs = [\n",
    "    p for p in score_pairs if p[1] > 1\n",
    "]"
   ]
  },
  {
   "cell_type": "code",
   "execution_count": 38,
   "id": "a9fcdc46-c07a-4f46-9364-ae2c851699ca",
   "metadata": {},
   "outputs": [
    {
     "data": {
      "text/plain": [
       "[((1, 0.25, 2, 0), 46.89072036743164),\n",
       " ((1, 0.55, 1, 0), 2.1150639057159424),\n",
       " ((1, 0.2, 2, 0), 1.8652310371398926),\n",
       " ((1, 0.5, 2, 1), 50.00383758544922),\n",
       " ((1, 0.4, 1, 1), 2.559019088745117),\n",
       " ((1, 0.5, 1, 1), 50.00250244140625),\n",
       " ((1, 0.45, 1, 1), 18.73262596130371),\n",
       " ((1, 0.05, 2, 1), 2.2860751152038574),\n",
       " ((1, 0.3, 3, 0), 7.384514808654785),\n",
       " ((1, 0.45, 3, 0), 13.148876190185547),\n",
       " ((1, 0.35, 3, 1), 49.25619888305664),\n",
       " ((1, 0.3, 3, 1), 1.6220526695251465),\n",
       " ((1, 0.1, 2, 0), 5.580609321594238),\n",
       " ((1, 0.45, 3, 1), 46.7350959777832),\n",
       " ((0, 0.5, 3, 1), 50.00543212890625),\n",
       " ((0, 0.5, 3, 0), 50.0042724609375),\n",
       " ((1, 0.55, 2, 0), 1.0456675291061401),\n",
       " ((1, 0.0, 2, 0), 1.0320236682891846),\n",
       " ((1, 0.35, 2, 0), 1.64143705368042),\n",
       " ((1, 0.5, 3, 1), 1.9478297233581543),\n",
       " ((1, 0.2, 2, 1), 3.0427615642547607),\n",
       " ((1, 0.05, 3, 1), 7.46250057220459),\n",
       " ((1, 0.35, 1, 0), 49.59267044067383),\n",
       " ((1, 0.55, 2, 1), 1.2660291194915771),\n",
       " ((1, 0.25, 2, 1), 4.749995231628418),\n",
       " ((0, 0.45, 1, 1), 1.33060884475708),\n",
       " ((1, 0.0, 1, 0), 21.590126037597656),\n",
       " ((1, 0.35, 2, 1), 49.05670166015625),\n",
       " ((1, 0.5, 2, 0), 50.004241943359375),\n",
       " ((0, 0.45, 3, 1), 1.6837387084960938),\n",
       " ((1, 0.25, 1, 0), 1.1488357782363892),\n",
       " ((0, 0.5, 1, 1), 50.00274658203125),\n",
       " ((1, 0.25, 3, 1), 2.0657386779785156),\n",
       " ((1, 0.4, 1, 0), 49.5167121887207),\n",
       " ((1, 0.15, 2, 1), 5.6066484451293945),\n",
       " ((1, 0.4, 3, 1), 31.46837043762207),\n",
       " ((1, 0.0, 3, 1), 6.881017208099365),\n",
       " ((1, 0.1, 2, 1), 49.57860565185547),\n",
       " ((1, 0.05, 3, 0), 48.986106872558594),\n",
       " ((0, 0.5, 1, 0), 50.005615234375),\n",
       " ((0, 0.45, 3, 0), 2.2851877212524414),\n",
       " ((1, 0.45, 2, 0), 2.808506727218628),\n",
       " ((1, 0.45, 1, 0), 48.92824172973633),\n",
       " ((1, 0.3, 2, 1), 49.64925765991211),\n",
       " ((1, 0.0, 1, 1), 49.56813430786133),\n",
       " ((1, 0.5, 1, 0), 50.00433349609375),\n",
       " ((1, 0.5, 3, 0), 2.675715446472168),\n",
       " ((1, 0.4, 2, 0), 9.628934860229492),\n",
       " ((1, 0.45, 2, 1), 4.544826507568359),\n",
       " ((1, 0.1, 3, 0), 2.363196849822998),\n",
       " ((1, 0.2, 1, 0), 45.68944549560547),\n",
       " ((1, 0.3, 1, 0), 49.137062072753906),\n",
       " ((1, 0.15, 1, 1), 5.018890380859375),\n",
       " ((1, 0.15, 1, 0), 47.46875),\n",
       " ((0, 0.45, 1, 0), 1.3926198482513428),\n",
       " ((1, 0.2, 3, 0), 49.52382278442383),\n",
       " ((1, 0.0, 2, 1), 1.5776711702346802),\n",
       " ((1, 0.0, 3, 0), 4.909841537475586),\n",
       " ((1, 0.4, 2, 1), 2.9980928897857666),\n",
       " ((1, 0.35, 3, 0), 49.93552017211914)]"
      ]
     },
     "execution_count": 38,
     "metadata": {},
     "output_type": "execute_result"
    }
   ],
   "source": [
    "bad_pairs"
   ]
  },
  {
   "cell_type": "code",
   "execution_count": 39,
   "id": "8232bfed-14cb-48a2-929e-efd4ed916af6",
   "metadata": {},
   "outputs": [
    {
     "data": {
      "text/plain": [
       "60"
      ]
     },
     "execution_count": 39,
     "metadata": {},
     "output_type": "execute_result"
    }
   ],
   "source": [
    "len(bad_pairs)"
   ]
  },
  {
   "cell_type": "code",
   "execution_count": 41,
   "id": "665102ad-5bc5-4eb6-976b-f3bf2349869d",
   "metadata": {},
   "outputs": [
    {
     "data": {
      "text/plain": [
       "{'triv': {0.65: <tenpy.networks.mps.MPS at 0x785f4e6e1010>,\n",
       "  0.45: <tenpy.networks.mps.MPS at 0x785f4e551190>,\n",
       "  0.55: <tenpy.networks.mps.MPS at 0x785f4e51f6d0>,\n",
       "  0.95: <tenpy.networks.mps.MPS at 0x785f4e4b0490>,\n",
       "  0.3: <tenpy.networks.mps.MPS at 0x785f4e303610>,\n",
       "  0.7: <tenpy.networks.mps.MPS at 0x785f4e4b2890>,\n",
       "  1.0: <tenpy.networks.mps.MPS at 0x785f4e3ec650>,\n",
       "  0.25: <tenpy.networks.mps.MPS at 0x785f4e356650>,\n",
       "  0.2: <tenpy.networks.mps.MPS at 0x785f4e2b23d0>,\n",
       "  0.75: <tenpy.networks.mps.MPS at 0x785f4e128350>,\n",
       "  0.1: <tenpy.networks.mps.MPS at 0x785f4e15ec10>,\n",
       "  0.9: <tenpy.networks.mps.MPS at 0x785f4e13b610>,\n",
       "  0.05: <tenpy.networks.mps.MPS at 0x785f4e02b1d0>,\n",
       "  0.15: <tenpy.networks.mps.MPS at 0x785f4e3ac8d0>,\n",
       "  0.8: <tenpy.networks.mps.MPS at 0x785f4df282d0>,\n",
       "  0.4: <tenpy.networks.mps.MPS at 0x785f4df62550>,\n",
       "  0.0: <tenpy.networks.mps.MPS at 0x785f4dfda610>,\n",
       "  0.6: <tenpy.networks.mps.MPS at 0x785f4de74e90>,\n",
       "  0.85: <tenpy.networks.mps.MPS at 0x785f4deb8dd0>,\n",
       "  0.35: <tenpy.networks.mps.MPS at 0x785f4dd1a310>,\n",
       "  0.5: <tenpy.networks.mps.MPS at 0x785f4dd769d0>},\n",
       " 'non_triv': {0.65: <tenpy.networks.mps.MPS at 0x785f4de50050>,\n",
       "  0.45: <tenpy.networks.mps.MPS at 0x785f4dd42090>,\n",
       "  0.55: <tenpy.networks.mps.MPS at 0x785f4dcd2f10>,\n",
       "  0.95: <tenpy.networks.mps.MPS at 0x785f4db60090>,\n",
       "  0.3: <tenpy.networks.mps.MPS at 0x785f4dbcc710>,\n",
       "  0.7: <tenpy.networks.mps.MPS at 0x785f4de501d0>,\n",
       "  1.0: <tenpy.networks.mps.MPS at 0x785f4daac850>,\n",
       "  0.25: <tenpy.networks.mps.MPS at 0x785f4da5b4d0>,\n",
       "  0.2: <tenpy.networks.mps.MPS at 0x785f4d972e10>,\n",
       "  0.75: <tenpy.networks.mps.MPS at 0x785f4d9e2ed0>,\n",
       "  0.1: <tenpy.networks.mps.MPS at 0x785f4d852d50>,\n",
       "  0.9: <tenpy.networks.mps.MPS at 0x785f4d8bf290>,\n",
       "  0.05: <tenpy.networks.mps.MPS at 0x785f4d72b390>,\n",
       "  0.15: <tenpy.networks.mps.MPS at 0x785f4d84ac50>,\n",
       "  0.8: <tenpy.networks.mps.MPS at 0x785f4d628ad0>,\n",
       "  0.4: <tenpy.networks.mps.MPS at 0x785f4d8d4f90>,\n",
       "  0.0: <tenpy.networks.mps.MPS at 0x785f4d6eded0>,\n",
       "  0.6: <tenpy.networks.mps.MPS at 0x785f4db3fad0>,\n",
       "  0.85: <tenpy.networks.mps.MPS at 0x785f4d5bc450>,\n",
       "  0.35: <tenpy.networks.mps.MPS at 0x785f4d682f90>,\n",
       "  0.5: <tenpy.networks.mps.MPS at 0x785f4d472f90>}}"
      ]
     },
     "execution_count": 41,
     "metadata": {},
     "output_type": "execute_result"
    }
   ],
   "source": [
    "tenpy_mps_data"
   ]
  },
  {
   "cell_type": "code",
   "execution_count": null,
   "id": "6bff6771-5de8-43d8-8352-01bb809bf6ed",
   "metadata": {},
   "outputs": [
    {
     "name": "stderr",
     "output_type": "stream",
     "text": [
      "+49.917625427246 [best: +49.526523590088] : : 60006it [04:46, 209.56it/s]                                                    \n"
     ]
    },
    {
     "name": "stdout",
     "output_type": "stream",
     "text": [
      "Saving: solutions/non_triv_0.25_2_0_2.pickle\n"
     ]
    },
    {
     "name": "stderr",
     "output_type": "stream",
     "text": [
      "+50.013694763184 [best: +48.802795410156] : : 60006it [04:53, 204.40it/s]                                                    \n"
     ]
    },
    {
     "name": "stdout",
     "output_type": "stream",
     "text": [
      "Saving: solutions/non_triv_0.25_2_0_3.pickle\n"
     ]
    },
    {
     "name": "stderr",
     "output_type": "stream",
     "text": [
      "+0.090379081666 [best: +0.085775628686] : : 60006it [04:57, 201.59it/s]                                                      \n"
     ]
    },
    {
     "name": "stdout",
     "output_type": "stream",
     "text": [
      "Saving: solutions/non_triv_0.25_2_0_4.pickle\n"
     ]
    },
    {
     "name": "stderr",
     "output_type": "stream",
     "text": [
      "+1.866305828094 [best: +1.654330968857] : : 60006it [04:44, 210.67it/s]                                                      \n"
     ]
    },
    {
     "name": "stdout",
     "output_type": "stream",
     "text": [
      "Saving: solutions/non_triv_0.55_1_0_2.pickle\n"
     ]
    },
    {
     "name": "stderr",
     "output_type": "stream",
     "text": [
      "+1.449791431427 [best: +1.215216159821] : : 60006it [04:54, 203.80it/s]                                                      \n"
     ]
    },
    {
     "name": "stdout",
     "output_type": "stream",
     "text": [
      "Saving: solutions/non_triv_0.55_1_0_3.pickle\n"
     ]
    },
    {
     "name": "stderr",
     "output_type": "stream",
     "text": [
      "+1.870531439781 [best: +1.413732051849] : : 60006it [04:57, 201.91it/s]                                                      \n"
     ]
    },
    {
     "name": "stdout",
     "output_type": "stream",
     "text": [
      "Saving: solutions/non_triv_0.55_1_0_4.pickle\n"
     ]
    },
    {
     "name": "stderr",
     "output_type": "stream",
     "text": [
      "+0.072310425341 [best: +0.035635501146] : : 60006it [04:57, 201.37it/s]                                                      \n"
     ]
    },
    {
     "name": "stdout",
     "output_type": "stream",
     "text": [
      "Saving: solutions/non_triv_0.2_2_0_2.pickle\n"
     ]
    },
    {
     "name": "stderr",
     "output_type": "stream",
     "text": [
      "+50.053031921387 [best: +50.003654479980] : : 60006it [05:13, 191.34it/s]                                                    \n"
     ]
    },
    {
     "name": "stdout",
     "output_type": "stream",
     "text": [
      "Saving: solutions/non_triv_0.5_2_1_2.pickle\n"
     ]
    },
    {
     "name": "stderr",
     "output_type": "stream",
     "text": [
      "+50.070312500000 [best: +50.004486083984] : : 60006it [05:08, 194.23it/s]                                                    \n"
     ]
    },
    {
     "name": "stdout",
     "output_type": "stream",
     "text": [
      "Saving: solutions/non_triv_0.5_2_1_3.pickle\n"
     ]
    },
    {
     "name": "stderr",
     "output_type": "stream",
     "text": [
      "+50.057067871094 [best: +50.006614685059] : : 60006it [05:11, 192.66it/s]                                                    \n"
     ]
    },
    {
     "name": "stdout",
     "output_type": "stream",
     "text": [
      "Saving: solutions/non_triv_0.5_2_1_4.pickle\n"
     ]
    },
    {
     "name": "stderr",
     "output_type": "stream",
     "text": [
      "+50.052078247070 [best: +49.895881652832] : : 60006it [05:15, 189.95it/s]                                                    \n"
     ]
    },
    {
     "name": "stdout",
     "output_type": "stream",
     "text": [
      "Saving: solutions/non_triv_0.4_1_1_2.pickle\n"
     ]
    },
    {
     "name": "stderr",
     "output_type": "stream",
     "text": [
      "+37.634525299072 [best: +17.771738052368] : : 60006it [04:54, 203.79it/s]                                                    \n"
     ]
    },
    {
     "name": "stdout",
     "output_type": "stream",
     "text": [
      "Saving: solutions/non_triv_0.4_1_1_3.pickle\n"
     ]
    },
    {
     "name": "stderr",
     "output_type": "stream",
     "text": [
      "+1.761169195175 [best: +0.634214103222] : : 60006it [04:53, 204.47it/s]                                                      \n"
     ]
    },
    {
     "name": "stdout",
     "output_type": "stream",
     "text": [
      "Saving: solutions/non_triv_0.4_1_1_4.pickle\n"
     ]
    },
    {
     "name": "stderr",
     "output_type": "stream",
     "text": [
      "+50.014831542969 [best: +50.003479003906] : : 60006it [05:01, 199.12it/s]                                                    \n"
     ]
    },
    {
     "name": "stdout",
     "output_type": "stream",
     "text": [
      "Saving: solutions/non_triv_0.5_1_1_2.pickle\n"
     ]
    },
    {
     "name": "stderr",
     "output_type": "stream",
     "text": [
      "+50.052368164062 [best: +50.005180358887] : : 60006it [05:12, 191.76it/s]                                                    \n"
     ]
    },
    {
     "name": "stdout",
     "output_type": "stream",
     "text": [
      "Saving: solutions/non_triv_0.5_1_1_3.pickle\n"
     ]
    },
    {
     "name": "stderr",
     "output_type": "stream",
     "text": [
      "+50.022674560547 [best: +50.006011962891] : : 60006it [05:13, 191.24it/s]                                                    \n"
     ]
    },
    {
     "name": "stdout",
     "output_type": "stream",
     "text": [
      "Saving: solutions/non_triv_0.5_1_1_4.pickle\n"
     ]
    },
    {
     "name": "stderr",
     "output_type": "stream",
     "text": [
      "+50.012908935547 [best: +49.805343627930] : : 60006it [05:00, 199.77it/s]                                                    \n"
     ]
    },
    {
     "name": "stdout",
     "output_type": "stream",
     "text": [
      "Saving: solutions/non_triv_0.45_1_1_2.pickle\n"
     ]
    },
    {
     "name": "stderr",
     "output_type": "stream",
     "text": [
      "+49.880306243896 [best: +49.307708740234] : : 60006it [04:54, 203.69it/s]                                                    \n"
     ]
    },
    {
     "name": "stdout",
     "output_type": "stream",
     "text": [
      "Saving: solutions/non_triv_0.45_1_1_3.pickle\n"
     ]
    },
    {
     "name": "stderr",
     "output_type": "stream",
     "text": [
      "+28.279554367065 [best: +5.331501483917] : : 60006it [05:08, 194.37it/s]                                                     \n"
     ]
    },
    {
     "name": "stdout",
     "output_type": "stream",
     "text": [
      "Saving: solutions/non_triv_0.45_1_1_4.pickle\n"
     ]
    },
    {
     "name": "stderr",
     "output_type": "stream",
     "text": [
      "+49.938697814941 [best: +45.921737670898] : : 60006it [05:09, 193.86it/s]                                                    \n"
     ]
    },
    {
     "name": "stdout",
     "output_type": "stream",
     "text": [
      "Saving: solutions/non_triv_0.05_2_1_2.pickle\n"
     ]
    },
    {
     "name": "stderr",
     "output_type": "stream",
     "text": [
      "+0.065439216793 [best: +0.063568904996] : : 60006it [05:07, 195.46it/s]                                                      \n"
     ]
    },
    {
     "name": "stdout",
     "output_type": "stream",
     "text": [
      "Saving: solutions/non_triv_0.05_2_1_3.pickle\n"
     ]
    },
    {
     "name": "stderr",
     "output_type": "stream",
     "text": [
      "+13.803673744202 [best: +2.238547086716] : : 60006it [04:56, 202.19it/s]                                                     \n"
     ]
    },
    {
     "name": "stdout",
     "output_type": "stream",
     "text": [
      "Saving: solutions/non_triv_0.3_3_0_2.pickle\n"
     ]
    },
    {
     "name": "stderr",
     "output_type": "stream",
     "text": [
      "+6.439072608948 [best: +6.439072608948] : : 60006it [05:02, 198.29it/s]                                                      \n"
     ]
    },
    {
     "name": "stdout",
     "output_type": "stream",
     "text": [
      "Saving: solutions/non_triv_0.3_3_0_3.pickle\n"
     ]
    },
    {
     "name": "stderr",
     "output_type": "stream",
     "text": [
      "+37.411834716797 [best: +2.077889919281] : : 60006it [04:55, 203.22it/s]                                                     \n"
     ]
    },
    {
     "name": "stdout",
     "output_type": "stream",
     "text": [
      "Saving: solutions/non_triv_0.3_3_0_4.pickle\n"
     ]
    },
    {
     "name": "stderr",
     "output_type": "stream",
     "text": [
      "+49.502017974854 [best: +3.807422399521] : : 60006it [04:56, 202.27it/s]                                                     \n"
     ]
    },
    {
     "name": "stdout",
     "output_type": "stream",
     "text": [
      "Saving: solutions/non_triv_0.45_3_0_2.pickle\n"
     ]
    },
    {
     "name": "stderr",
     "output_type": "stream",
     "text": [
      "+10.511434555054 [best: +10.510497093201] : : 60006it [04:00, 249.51it/s]                                                    \n"
     ]
    },
    {
     "name": "stdout",
     "output_type": "stream",
     "text": [
      "Saving: solutions/non_triv_0.45_3_0_3.pickle\n"
     ]
    },
    {
     "name": "stderr",
     "output_type": "stream",
     "text": [
      "+3.211242675781 [best: +1.930200934410] : : 60006it [04:00, 249.99it/s]                                                      \n"
     ]
    },
    {
     "name": "stdout",
     "output_type": "stream",
     "text": [
      "Saving: solutions/non_triv_0.45_3_0_4.pickle\n"
     ]
    },
    {
     "name": "stderr",
     "output_type": "stream",
     "text": [
      "+7.386625766754 [best: +3.491200208664] : : 60006it [03:59, 250.05it/s]                                                      \n"
     ]
    },
    {
     "name": "stdout",
     "output_type": "stream",
     "text": [
      "Saving: solutions/non_triv_0.35_3_1_2.pickle\n"
     ]
    },
    {
     "name": "stderr",
     "output_type": "stream",
     "text": [
      "+49.997440338135 [best: +49.828498840332] : : 60006it [03:59, 250.12it/s]                                                    \n"
     ]
    },
    {
     "name": "stdout",
     "output_type": "stream",
     "text": [
      "Saving: solutions/non_triv_0.35_3_1_3.pickle\n"
     ]
    },
    {
     "name": "stderr",
     "output_type": "stream",
     "text": [
      "+50.031513214111 [best: +49.746372222900] : : 60006it [04:00, 249.93it/s]                                                    \n"
     ]
    },
    {
     "name": "stdout",
     "output_type": "stream",
     "text": [
      "Saving: solutions/non_triv_0.35_3_1_4.pickle\n"
     ]
    },
    {
     "name": "stderr",
     "output_type": "stream",
     "text": [
      "+0.291211813688 [best: +0.042035080492] : : 60006it [04:00, 249.68it/s]                                                      \n"
     ]
    },
    {
     "name": "stdout",
     "output_type": "stream",
     "text": [
      "Saving: solutions/non_triv_0.3_3_1_2.pickle\n"
     ]
    },
    {
     "name": "stderr",
     "output_type": "stream",
     "text": [
      "+49.950469970703 [best: +49.057796478271] : : 60006it [04:00, 249.79it/s]                                                    \n"
     ]
    },
    {
     "name": "stdout",
     "output_type": "stream",
     "text": [
      "Saving: solutions/non_triv_0.1_2_0_2.pickle\n"
     ]
    },
    {
     "name": "stderr",
     "output_type": "stream",
     "text": [
      "+3.858119487762 [best: +0.049707613885] : : 60006it [04:00, 249.82it/s]                                                      \n"
     ]
    },
    {
     "name": "stdout",
     "output_type": "stream",
     "text": [
      "Saving: solutions/non_triv_0.1_2_0_3.pickle\n"
     ]
    },
    {
     "name": "stderr",
     "output_type": "stream",
     "text": [
      "+5.960878849030 [best: +4.717787265778] : : 60006it [04:00, 249.27it/s]                                                      \n"
     ]
    },
    {
     "name": "stdout",
     "output_type": "stream",
     "text": [
      "Saving: solutions/non_triv_0.45_3_1_2.pickle\n"
     ]
    },
    {
     "name": "stderr",
     "output_type": "stream",
     "text": [
      "+2.144253253937 [best: +2.139767646790] : : 60006it [03:59, 250.12it/s]                                                      \n"
     ]
    },
    {
     "name": "stdout",
     "output_type": "stream",
     "text": [
      "Saving: solutions/non_triv_0.45_3_1_3.pickle\n"
     ]
    },
    {
     "name": "stderr",
     "output_type": "stream",
     "text": [
      "+49.956268310547 [best: +49.589027404785] : : 60006it [03:59, 250.19it/s]                                                    \n"
     ]
    },
    {
     "name": "stdout",
     "output_type": "stream",
     "text": [
      "Saving: solutions/non_triv_0.45_3_1_4.pickle\n"
     ]
    },
    {
     "name": "stderr",
     "output_type": "stream",
     "text": [
      "+50.064086914062 [best: +50.005859375000] : : 60006it [04:00, 249.87it/s]                                                    \n"
     ]
    },
    {
     "name": "stdout",
     "output_type": "stream",
     "text": [
      "Saving: solutions/triv_0.5_3_1_2.pickle\n"
     ]
    },
    {
     "name": "stderr",
     "output_type": "stream",
     "text": [
      "+50.035156250000 [best: +50.004364013672] : : 60006it [03:59, 250.58it/s]                                                    \n"
     ]
    },
    {
     "name": "stdout",
     "output_type": "stream",
     "text": [
      "Saving: solutions/triv_0.5_3_1_3.pickle\n"
     ]
    },
    {
     "name": "stderr",
     "output_type": "stream",
     "text": [
      "+50.057342529297 [best: +50.005859375000] : : 60006it [04:00, 249.60it/s]                                                    \n"
     ]
    },
    {
     "name": "stdout",
     "output_type": "stream",
     "text": [
      "Saving: solutions/triv_0.5_3_1_4.pickle\n"
     ]
    },
    {
     "name": "stderr",
     "output_type": "stream",
     "text": [
      "+50.067863464355 [best: +50.005126953125] : : 60006it [04:00, 249.67it/s]                                                    \n"
     ]
    },
    {
     "name": "stdout",
     "output_type": "stream",
     "text": [
      "Saving: solutions/triv_0.5_3_0_2.pickle\n"
     ]
    },
    {
     "name": "stderr",
     "output_type": "stream",
     "text": [
      "+50.048675537109 [best: +50.003417968750] : : 60006it [03:59, 250.41it/s]                                                    \n"
     ]
    },
    {
     "name": "stdout",
     "output_type": "stream",
     "text": [
      "Saving: solutions/triv_0.5_3_0_3.pickle\n"
     ]
    },
    {
     "name": "stderr",
     "output_type": "stream",
     "text": [
      "+50.021331787109 [best: +50.002777099609] : : 60006it [04:00, 249.12it/s]                                                    \n"
     ]
    },
    {
     "name": "stdout",
     "output_type": "stream",
     "text": [
      "Saving: solutions/triv_0.5_3_0_4.pickle\n"
     ]
    },
    {
     "name": "stderr",
     "output_type": "stream",
     "text": [
      "+2.670405864716 [best: +1.482524037361] : : 60006it [03:59, 250.64it/s]                                                      \n"
     ]
    },
    {
     "name": "stdout",
     "output_type": "stream",
     "text": [
      "Saving: solutions/non_triv_0.55_2_0_2.pickle\n"
     ]
    },
    {
     "name": "stderr",
     "output_type": "stream",
     "text": [
      "+1.932209014893 [best: +1.651640772820] : : 60006it [03:59, 250.93it/s]                                                      \n"
     ]
    },
    {
     "name": "stdout",
     "output_type": "stream",
     "text": [
      "Saving: solutions/non_triv_0.55_2_0_3.pickle\n"
     ]
    },
    {
     "name": "stderr",
     "output_type": "stream",
     "text": [
      "+1.863856315613 [best: +1.200824856758] : : 60006it [03:59, 250.47it/s]                                                      \n"
     ]
    },
    {
     "name": "stdout",
     "output_type": "stream",
     "text": [
      "Saving: solutions/non_triv_0.55_2_0_4.pickle\n"
     ]
    },
    {
     "name": "stderr",
     "output_type": "stream",
     "text": [
      "+8.633833885193 [best: +8.633833885193] : : 60006it [03:56, 253.95it/s]                                                      \n"
     ]
    },
    {
     "name": "stdout",
     "output_type": "stream",
     "text": [
      "Saving: solutions/non_triv_0.0_2_0_2.pickle\n"
     ]
    },
    {
     "name": "stderr",
     "output_type": "stream",
     "text": [
      "+14.615829467773 [best: +0.423164635897] : : 60006it [03:58, 252.04it/s]                                                     \n"
     ]
    },
    {
     "name": "stdout",
     "output_type": "stream",
     "text": [
      "Saving: solutions/non_triv_0.0_2_0_3.pickle\n"
     ]
    },
    {
     "name": "stderr",
     "output_type": "stream",
     "text": [
      "+0.035695996135 [best: +0.035695996135] : : 60006it [03:57, 252.26it/s]                                                      \n"
     ]
    },
    {
     "name": "stdout",
     "output_type": "stream",
     "text": [
      "Saving: solutions/non_triv_0.0_2_0_4.pickle\n"
     ]
    },
    {
     "name": "stderr",
     "output_type": "stream",
     "text": [
      "+32.240882873535 [best: +32.240882873535] : : 60006it [04:00, 249.25it/s]                                                    \n"
     ]
    },
    {
     "name": "stdout",
     "output_type": "stream",
     "text": [
      "Saving: solutions/non_triv_0.35_2_0_2.pickle\n"
     ]
    },
    {
     "name": "stderr",
     "output_type": "stream",
     "text": [
      "+6.252967834473 [best: +6.252967834473] : : 60006it [04:00, 249.22it/s]                                                      \n"
     ]
    },
    {
     "name": "stdout",
     "output_type": "stream",
     "text": [
      "Saving: solutions/non_triv_0.35_2_0_3.pickle\n"
     ]
    },
    {
     "name": "stderr",
     "output_type": "stream",
     "text": [
      "+3.804963588715 [best: +3.804963588715] : : 60006it [04:00, 249.44it/s]                                                      \n"
     ]
    },
    {
     "name": "stdout",
     "output_type": "stream",
     "text": [
      "Saving: solutions/non_triv_0.35_2_0_4.pickle\n"
     ]
    },
    {
     "name": "stderr",
     "output_type": "stream",
     "text": [
      "+1.708398222923 [best: +1.304692745209] : : 60006it [04:00, 249.16it/s]                                                      \n"
     ]
    },
    {
     "name": "stdout",
     "output_type": "stream",
     "text": [
      "Saving: solutions/non_triv_0.5_3_1_2.pickle\n"
     ]
    },
    {
     "name": "stderr",
     "output_type": "stream",
     "text": [
      "+4.391161918640 [best: +2.362668514252] : : 60006it [03:59, 250.18it/s]                                                      \n"
     ]
    },
    {
     "name": "stdout",
     "output_type": "stream",
     "text": [
      "Saving: solutions/non_triv_0.5_3_1_3.pickle\n"
     ]
    },
    {
     "name": "stderr",
     "output_type": "stream",
     "text": [
      "+2.869978666306 [best: +1.726176500320] : : 60006it [04:00, 249.91it/s]                                                      \n"
     ]
    },
    {
     "name": "stdout",
     "output_type": "stream",
     "text": [
      "Saving: solutions/non_triv_0.5_3_1_4.pickle\n"
     ]
    },
    {
     "name": "stderr",
     "output_type": "stream",
     "text": [
      "+49.402927398682 [best: +48.518020629883] : : 60006it [03:59, 250.09it/s]                                                    \n"
     ]
    },
    {
     "name": "stdout",
     "output_type": "stream",
     "text": [
      "Saving: solutions/non_triv_0.2_2_1_2.pickle\n"
     ]
    },
    {
     "name": "stderr",
     "output_type": "stream",
     "text": [
      "+10.677895545959 [best: +1.151772499084] : : 60006it [04:00, 249.44it/s]                                                     \n"
     ]
    },
    {
     "name": "stdout",
     "output_type": "stream",
     "text": [
      "Saving: solutions/non_triv_0.2_2_1_3.pickle\n"
     ]
    },
    {
     "name": "stderr",
     "output_type": "stream",
     "text": [
      "+0.459649443626 [best: +0.457810699940] : : 60006it [04:00, 249.82it/s]                                                      \n"
     ]
    },
    {
     "name": "stdout",
     "output_type": "stream",
     "text": [
      "Saving: solutions/non_triv_0.2_2_1_4.pickle\n"
     ]
    },
    {
     "name": "stderr",
     "output_type": "stream",
     "text": [
      "+0.061724357307 [best: +0.054790217429] : : 60006it [04:00, 249.59it/s]                                                      \n"
     ]
    },
    {
     "name": "stdout",
     "output_type": "stream",
     "text": [
      "Saving: solutions/non_triv_0.05_3_1_2.pickle\n"
     ]
    },
    {
     "name": "stderr",
     "output_type": "stream",
     "text": [
      "+50.019866943359 [best: +49.816356658936] : : 60006it [04:00, 249.60it/s]                                                    \n"
     ]
    },
    {
     "name": "stdout",
     "output_type": "stream",
     "text": [
      "Saving: solutions/non_triv_0.35_1_0_2.pickle\n"
     ]
    },
    {
     "name": "stderr",
     "output_type": "stream",
     "text": [
      "+0.221054702997 [best: +0.192889466882] : : 60006it [04:00, 249.81it/s]                                                      \n"
     ]
    },
    {
     "name": "stdout",
     "output_type": "stream",
     "text": [
      "Saving: solutions/non_triv_0.35_1_0_3.pickle\n"
     ]
    },
    {
     "name": "stderr",
     "output_type": "stream",
     "text": [
      "+2.580965757370 [best: +0.227328002453] : : 60006it [04:00, 250.01it/s]                                                      \n"
     ]
    },
    {
     "name": "stdout",
     "output_type": "stream",
     "text": [
      "Saving: solutions/non_triv_0.35_1_0_4.pickle\n"
     ]
    },
    {
     "name": "stderr",
     "output_type": "stream",
     "text": [
      "+2.590410232544 [best: +1.989182829857] : : 60006it [04:00, 249.35it/s]                                                      \n"
     ]
    },
    {
     "name": "stdout",
     "output_type": "stream",
     "text": [
      "Saving: solutions/non_triv_0.55_2_1_2.pickle\n"
     ]
    },
    {
     "name": "stderr",
     "output_type": "stream",
     "text": [
      "+2.322751045227 [best: +1.167279958725] : : 60006it [04:00, 249.28it/s]                                                      \n"
     ]
    },
    {
     "name": "stdout",
     "output_type": "stream",
     "text": [
      "Saving: solutions/non_triv_0.55_2_1_3.pickle\n"
     ]
    },
    {
     "name": "stderr",
     "output_type": "stream",
     "text": [
      "+2.274500846863 [best: +1.101022481918] : : 60006it [03:59, 250.64it/s]                                                      \n"
     ]
    },
    {
     "name": "stdout",
     "output_type": "stream",
     "text": [
      "Saving: solutions/non_triv_0.55_2_1_4.pickle\n"
     ]
    },
    {
     "name": "stderr",
     "output_type": "stream",
     "text": [
      "+49.941219329834 [best: +49.510215759277] : : 60006it [04:00, 249.47it/s]                                                    \n"
     ]
    },
    {
     "name": "stdout",
     "output_type": "stream",
     "text": [
      "Saving: solutions/non_triv_0.25_2_1_2.pickle\n"
     ]
    },
    {
     "name": "stderr",
     "output_type": "stream",
     "text": [
      "+5.375942230225 [best: +0.778043031693] : : 60006it [04:00, 249.38it/s]                                                      \n"
     ]
    },
    {
     "name": "stdout",
     "output_type": "stream",
     "text": [
      "Saving: solutions/non_triv_0.25_2_1_3.pickle\n"
     ]
    },
    {
     "name": "stderr",
     "output_type": "stream",
     "text": [
      "+5.210597991943 [best: +1.884564757347] : : 60006it [04:00, 249.43it/s]                                                      \n"
     ]
    },
    {
     "name": "stdout",
     "output_type": "stream",
     "text": [
      "Saving: solutions/non_triv_0.25_2_1_4.pickle\n"
     ]
    },
    {
     "name": "stderr",
     "output_type": "stream",
     "text": [
      "+4.103828430176 [best: +2.820625305176] : : 60006it [04:00, 249.92it/s]                                                      \n"
     ]
    },
    {
     "name": "stdout",
     "output_type": "stream",
     "text": [
      "Saving: solutions/triv_0.45_1_1_2.pickle\n"
     ]
    },
    {
     "name": "stderr",
     "output_type": "stream",
     "text": [
      "+3.413041591644 [best: +1.331025600433] : : 60006it [04:00, 249.57it/s]                                                      \n"
     ]
    },
    {
     "name": "stdout",
     "output_type": "stream",
     "text": [
      "Saving: solutions/triv_0.45_1_1_3.pickle\n"
     ]
    },
    {
     "name": "stderr",
     "output_type": "stream",
     "text": [
      "+3.507328033447 [best: +1.455131649971] : : 60006it [03:59, 250.23it/s]                                                      \n"
     ]
    },
    {
     "name": "stdout",
     "output_type": "stream",
     "text": [
      "Saving: solutions/triv_0.45_1_1_4.pickle\n"
     ]
    },
    {
     "name": "stderr",
     "output_type": "stream",
     "text": [
      "+49.876960754395 [best: +47.754444122314] : : 60006it [03:57, 252.60it/s]                                                    \n"
     ]
    },
    {
     "name": "stdout",
     "output_type": "stream",
     "text": [
      "Saving: solutions/non_triv_0.0_1_0_2.pickle\n"
     ]
    },
    {
     "name": "stderr",
     "output_type": "stream",
     "text": [
      "+5.362793922424 [best: +0.424957662821] : : 60006it [03:57, 253.02it/s]                                                      \n"
     ]
    },
    {
     "name": "stdout",
     "output_type": "stream",
     "text": [
      "Saving: solutions/non_triv_0.0_1_0_3.pickle\n"
     ]
    },
    {
     "name": "stderr",
     "output_type": "stream",
     "text": [
      "+15.642720222473 [best: +7.862461566925] : : 60006it [03:57, 252.72it/s]                                                     \n"
     ]
    },
    {
     "name": "stdout",
     "output_type": "stream",
     "text": [
      "Saving: solutions/non_triv_0.0_1_0_4.pickle\n"
     ]
    },
    {
     "name": "stderr",
     "output_type": "stream",
     "text": [
      "+49.740749359131 [best: +49.249977111816] : : 60006it [04:00, 249.69it/s]                                                    \n"
     ]
    },
    {
     "name": "stdout",
     "output_type": "stream",
     "text": [
      "Saving: solutions/non_triv_0.35_2_1_2.pickle\n"
     ]
    },
    {
     "name": "stderr",
     "output_type": "stream",
     "text": [
      "+2.648598670959 [best: +2.171365261078] : : 60006it [04:00, 249.67it/s]                                                      \n"
     ]
    },
    {
     "name": "stdout",
     "output_type": "stream",
     "text": [
      "Saving: solutions/non_triv_0.35_2_1_3.pickle\n"
     ]
    },
    {
     "name": "stderr",
     "output_type": "stream",
     "text": [
      "+49.997898101807 [best: +46.118759155273] : : 60006it [03:59, 250.64it/s]                                                    \n"
     ]
    },
    {
     "name": "stdout",
     "output_type": "stream",
     "text": [
      "Saving: solutions/non_triv_0.35_2_1_4.pickle\n"
     ]
    },
    {
     "name": "stderr",
     "output_type": "stream",
     "text": [
      "+50.032989501953 [best: +50.005004882812] : : 60006it [04:00, 249.60it/s]                                                    \n"
     ]
    },
    {
     "name": "stdout",
     "output_type": "stream",
     "text": [
      "Saving: solutions/non_triv_0.5_2_0_2.pickle\n"
     ]
    },
    {
     "name": "stderr",
     "output_type": "stream",
     "text": [
      "+50.022796630859 [best: +50.003784179688] : : 60006it [03:59, 250.42it/s]                                                    \n"
     ]
    },
    {
     "name": "stdout",
     "output_type": "stream",
     "text": [
      "Saving: solutions/non_triv_0.5_2_0_3.pickle\n"
     ]
    },
    {
     "name": "stderr",
     "output_type": "stream",
     "text": [
      "+50.040527343750 [best: +50.003906250000] : : 60006it [04:00, 249.80it/s]                                                    \n"
     ]
    },
    {
     "name": "stdout",
     "output_type": "stream",
     "text": [
      "Saving: solutions/non_triv_0.5_2_0_4.pickle\n"
     ]
    },
    {
     "name": "stderr",
     "output_type": "stream",
     "text": [
      "+2.138020515442 [best: +1.356268644333] : : 60006it [03:59, 250.42it/s]                                                      \n"
     ]
    },
    {
     "name": "stdout",
     "output_type": "stream",
     "text": [
      "Saving: solutions/triv_0.45_3_1_2.pickle\n"
     ]
    },
    {
     "name": "stderr",
     "output_type": "stream",
     "text": [
      "+2.317106723785 [best: +1.260133028030] : : 60006it [03:59, 250.12it/s]                                                      \n"
     ]
    },
    {
     "name": "stdout",
     "output_type": "stream",
     "text": [
      "Saving: solutions/triv_0.45_3_1_3.pickle\n"
     ]
    },
    {
     "name": "stderr",
     "output_type": "stream",
     "text": [
      "+4.137686252594 [best: +3.045864105225] : : 60006it [04:00, 250.02it/s]                                                      \n"
     ]
    },
    {
     "name": "stdout",
     "output_type": "stream",
     "text": [
      "Saving: solutions/triv_0.45_3_1_4.pickle\n"
     ]
    },
    {
     "name": "stderr",
     "output_type": "stream",
     "text": [
      "+0.086643129587 [best: +0.026292502880] : : 60006it [04:00, 249.50it/s]                                                      \n"
     ]
    },
    {
     "name": "stdout",
     "output_type": "stream",
     "text": [
      "Saving: solutions/non_triv_0.25_1_0_2.pickle\n"
     ]
    },
    {
     "name": "stderr",
     "output_type": "stream",
     "text": [
      "+50.026367187500 [best: +50.005187988281] : : 60006it [04:00, 249.89it/s]                                                    \n"
     ]
    },
    {
     "name": "stdout",
     "output_type": "stream",
     "text": [
      "Saving: solutions/triv_0.5_1_1_2.pickle\n"
     ]
    },
    {
     "name": "stderr",
     "output_type": "stream",
     "text": [
      "+50.018646240234 [best: +50.002807617188] : : 60006it [04:00, 249.44it/s]                                                    \n"
     ]
    },
    {
     "name": "stdout",
     "output_type": "stream",
     "text": [
      "Saving: solutions/triv_0.5_1_1_3.pickle\n"
     ]
    },
    {
     "name": "stderr",
     "output_type": "stream",
     "text": [
      "+50.043090820312 [best: +50.005004882812] : : 60006it [04:00, 249.93it/s]                                                    \n"
     ]
    },
    {
     "name": "stdout",
     "output_type": "stream",
     "text": [
      "Saving: solutions/triv_0.5_1_1_4.pickle\n"
     ]
    },
    {
     "name": "stderr",
     "output_type": "stream",
     "text": [
      "+6.064235210419 [best: +0.158575892448] : : 60006it [03:59, 250.84it/s]                                                      \n"
     ]
    },
    {
     "name": "stdout",
     "output_type": "stream",
     "text": [
      "Saving: solutions/non_triv_0.25_3_1_2.pickle\n"
     ]
    },
    {
     "name": "stderr",
     "output_type": "stream",
     "text": [
      "+49.952526092529 [best: +49.587985992432] : : 60006it [04:00, 249.84it/s]                                                    \n"
     ]
    },
    {
     "name": "stdout",
     "output_type": "stream",
     "text": [
      "Saving: solutions/non_triv_0.25_3_1_3.pickle\n"
     ]
    },
    {
     "name": "stderr",
     "output_type": "stream",
     "text": [
      "+1.274212360382 [best: +1.272366762161] : : 60006it [03:59, 250.40it/s]                                                      \n"
     ]
    },
    {
     "name": "stdout",
     "output_type": "stream",
     "text": [
      "Saving: solutions/non_triv_0.25_3_1_4.pickle\n"
     ]
    },
    {
     "name": "stderr",
     "output_type": "stream",
     "text": [
      "+46.025367736816 [best: +45.125629425049] : : 60006it [03:59, 250.07it/s]                                                    \n"
     ]
    },
    {
     "name": "stdout",
     "output_type": "stream",
     "text": [
      "Saving: solutions/non_triv_0.4_1_0_2.pickle\n"
     ]
    },
    {
     "name": "stderr",
     "output_type": "stream",
     "text": [
      "+50.007614135742 [best: +49.040134429932] : : 60006it [04:00, 249.47it/s]                                                    \n"
     ]
    },
    {
     "name": "stdout",
     "output_type": "stream",
     "text": [
      "Saving: solutions/non_triv_0.4_1_0_3.pickle\n"
     ]
    },
    {
     "name": "stderr",
     "output_type": "stream",
     "text": [
      "+49.035243988037 [best: +49.022907257080] : : 60006it [04:00, 249.88it/s]                                                    \n"
     ]
    },
    {
     "name": "stdout",
     "output_type": "stream",
     "text": [
      "Saving: solutions/non_triv_0.4_1_0_4.pickle\n"
     ]
    },
    {
     "name": "stderr",
     "output_type": "stream",
     "text": [
      "+49.411872863770 [best: +48.304412841797] : : 60006it [04:00, 249.78it/s]                                                    \n"
     ]
    },
    {
     "name": "stdout",
     "output_type": "stream",
     "text": [
      "Saving: solutions/non_triv_0.15_2_1_2.pickle\n"
     ]
    },
    {
     "name": "stderr",
     "output_type": "stream",
     "text": [
      "+50.008808135986 [best: +49.751461029053] : : 60006it [03:59, 250.27it/s]                                                    \n"
     ]
    },
    {
     "name": "stdout",
     "output_type": "stream",
     "text": [
      "Saving: solutions/non_triv_0.15_2_1_3.pickle\n"
     ]
    },
    {
     "name": "stderr",
     "output_type": "stream",
     "text": [
      "+49.695957183838 [best: +0.065218389034] : : 60006it [04:00, 249.37it/s]                                                     \n"
     ]
    },
    {
     "name": "stdout",
     "output_type": "stream",
     "text": [
      "Saving: solutions/non_triv_0.15_2_1_4.pickle\n"
     ]
    },
    {
     "name": "stderr",
     "output_type": "stream",
     "text": [
      "+3.943050146103 [best: +1.207957148552] : : 60006it [04:00, 249.60it/s]                                                      \n"
     ]
    },
    {
     "name": "stdout",
     "output_type": "stream",
     "text": [
      "Saving: solutions/non_triv_0.4_3_1_2.pickle\n"
     ]
    },
    {
     "name": "stderr",
     "output_type": "stream",
     "text": [
      "+1.872557640076 [best: +1.809074163437] : : 60006it [04:00, 249.56it/s]                                                      \n"
     ]
    },
    {
     "name": "stdout",
     "output_type": "stream",
     "text": [
      "Saving: solutions/non_triv_0.4_3_1_3.pickle\n"
     ]
    },
    {
     "name": "stderr",
     "output_type": "stream",
     "text": [
      "+49.988811492920 [best: +49.929126739502] : : 60006it [04:00, 249.59it/s]                                                    \n"
     ]
    },
    {
     "name": "stdout",
     "output_type": "stream",
     "text": [
      "Saving: solutions/non_triv_0.4_3_1_4.pickle\n"
     ]
    },
    {
     "name": "stderr",
     "output_type": "stream",
     "text": [
      "+43.326606750488 [best: +7.598247528076] : : 60006it [03:57, 252.86it/s]                                                     \n"
     ]
    },
    {
     "name": "stdout",
     "output_type": "stream",
     "text": [
      "Saving: solutions/non_triv_0.0_3_1_2.pickle\n"
     ]
    },
    {
     "name": "stderr",
     "output_type": "stream",
     "text": [
      "+7.936528205872 [best: +2.208896398544] : : 60006it [03:57, 252.45it/s]                                                      \n"
     ]
    },
    {
     "name": "stdout",
     "output_type": "stream",
     "text": [
      "Saving: solutions/non_triv_0.0_3_1_3.pickle\n"
     ]
    },
    {
     "name": "stderr",
     "output_type": "stream",
     "text": [
      "+0.043789900839 [best: +0.027823327109] : : 60006it [03:57, 252.88it/s]                                                      \n"
     ]
    },
    {
     "name": "stdout",
     "output_type": "stream",
     "text": [
      "Saving: solutions/non_triv_0.0_3_1_4.pickle\n"
     ]
    },
    {
     "name": "stderr",
     "output_type": "stream",
     "text": [
      "+3.826037406921 [best: +3.614341259003] : : 60006it [03:59, 250.95it/s]                                                      \n"
     ]
    },
    {
     "name": "stdout",
     "output_type": "stream",
     "text": [
      "Saving: solutions/non_triv_0.1_2_1_2.pickle\n"
     ]
    },
    {
     "name": "stderr",
     "output_type": "stream",
     "text": [
      "+27.967239379883 [best: +27.967010498047] : : 60006it [03:59, 250.19it/s]                                                    \n"
     ]
    },
    {
     "name": "stdout",
     "output_type": "stream",
     "text": [
      "Saving: solutions/non_triv_0.1_2_1_3.pickle\n"
     ]
    },
    {
     "name": "stderr",
     "output_type": "stream",
     "text": [
      "+21.815971374512 [best: +2.690789699554] : : 60006it [04:00, 249.83it/s]                                                     \n"
     ]
    },
    {
     "name": "stdout",
     "output_type": "stream",
     "text": [
      "Saving: solutions/non_triv_0.1_2_1_4.pickle\n"
     ]
    },
    {
     "name": "stderr",
     "output_type": "stream",
     "text": [
      "+8.049009323120 [best: +3.850484132767] : : 60006it [04:00, 249.35it/s]                                                      \n"
     ]
    },
    {
     "name": "stdout",
     "output_type": "stream",
     "text": [
      "Saving: solutions/non_triv_0.05_3_0_2.pickle\n"
     ]
    },
    {
     "name": "stderr",
     "output_type": "stream",
     "text": [
      "+3.666360378265 [best: +0.233352050185] : : 60006it [04:00, 249.62it/s]                                                      \n"
     ]
    },
    {
     "name": "stdout",
     "output_type": "stream",
     "text": [
      "Saving: solutions/non_triv_0.05_3_0_3.pickle\n"
     ]
    },
    {
     "name": "stderr",
     "output_type": "stream",
     "text": [
      "+0.121910244226 [best: +0.120359376073] : : 60006it [04:00, 249.75it/s]                                                      \n"
     ]
    },
    {
     "name": "stdout",
     "output_type": "stream",
     "text": [
      "Saving: solutions/non_triv_0.05_3_0_4.pickle\n"
     ]
    },
    {
     "name": "stderr",
     "output_type": "stream",
     "text": [
      "+50.021606445312 [best: +50.003753662109] : : 60006it [04:00, 249.73it/s]                                                    \n"
     ]
    },
    {
     "name": "stdout",
     "output_type": "stream",
     "text": [
      "Saving: solutions/triv_0.5_1_0_2.pickle\n"
     ]
    },
    {
     "name": "stderr",
     "output_type": "stream",
     "text": [
      "+50.035583496094 [best: +50.003417968750] : : 60006it [04:00, 249.19it/s]                                                    \n"
     ]
    },
    {
     "name": "stdout",
     "output_type": "stream",
     "text": [
      "Saving: solutions/triv_0.5_1_0_3.pickle\n"
     ]
    },
    {
     "name": "stderr",
     "output_type": "stream",
     "text": [
      "+50.056335449219 [best: +50.005126953125] : : 60006it [04:00, 249.45it/s]                                                    \n"
     ]
    },
    {
     "name": "stdout",
     "output_type": "stream",
     "text": [
      "Saving: solutions/triv_0.5_1_0_4.pickle\n"
     ]
    },
    {
     "name": "stderr",
     "output_type": "stream",
     "text": [
      "+4.210011005402 [best: +1.666683673859] : : 60006it [04:00, 249.81it/s]                                                      \n"
     ]
    },
    {
     "name": "stdout",
     "output_type": "stream",
     "text": [
      "Saving: solutions/triv_0.45_3_0_2.pickle\n"
     ]
    },
    {
     "name": "stderr",
     "output_type": "stream",
     "text": [
      "+3.452423095703 [best: +1.184973716736] : : 60006it [03:59, 250.50it/s]                                                      \n"
     ]
    },
    {
     "name": "stdout",
     "output_type": "stream",
     "text": [
      "Saving: solutions/triv_0.45_3_0_3.pickle\n"
     ]
    },
    {
     "name": "stderr",
     "output_type": "stream",
     "text": [
      "+2.797662258148 [best: +1.342242121696] : : 60006it [04:00, 249.49it/s]                                                      \n"
     ]
    },
    {
     "name": "stdout",
     "output_type": "stream",
     "text": [
      "Saving: solutions/triv_0.45_3_0_4.pickle\n"
     ]
    },
    {
     "name": "stderr",
     "output_type": "stream",
     "text": [
      "+2.352557897568 [best: +2.121437072754] : : 60006it [03:59, 250.10it/s]                                                      \n"
     ]
    },
    {
     "name": "stdout",
     "output_type": "stream",
     "text": [
      "Saving: solutions/non_triv_0.45_2_0_2.pickle\n"
     ]
    },
    {
     "name": "stderr",
     "output_type": "stream",
     "text": [
      "+44.853336334229 [best: +44.853336334229] : : 60006it [04:00, 249.29it/s]                                                    \n"
     ]
    },
    {
     "name": "stdout",
     "output_type": "stream",
     "text": [
      "Saving: solutions/non_triv_0.45_2_0_3.pickle\n"
     ]
    },
    {
     "name": "stderr",
     "output_type": "stream",
     "text": [
      "+48.683761596680 [best: +41.354320526123] : : 60006it [04:00, 249.67it/s]                                                    \n"
     ]
    },
    {
     "name": "stdout",
     "output_type": "stream",
     "text": [
      "Saving: solutions/non_triv_0.45_2_0_4.pickle\n"
     ]
    },
    {
     "name": "stderr",
     "output_type": "stream",
     "text": [
      "+4.776045322418 [best: +4.773020267487] : : 60006it [03:59, 250.98it/s]                                                      \n"
     ]
    },
    {
     "name": "stdout",
     "output_type": "stream",
     "text": [
      "Saving: solutions/non_triv_0.45_1_0_2.pickle\n"
     ]
    },
    {
     "name": "stderr",
     "output_type": "stream",
     "text": [
      "+2.815470218658 [best: +1.723238229752] : : 60006it [04:00, 249.58it/s]                                                      \n"
     ]
    },
    {
     "name": "stdout",
     "output_type": "stream",
     "text": [
      "Saving: solutions/non_triv_0.45_1_0_3.pickle\n"
     ]
    },
    {
     "name": "stderr",
     "output_type": "stream",
     "text": [
      "+50.025485992432 [best: +49.035469055176] : : 60006it [04:00, 249.52it/s]                                                    \n"
     ]
    },
    {
     "name": "stdout",
     "output_type": "stream",
     "text": [
      "Saving: solutions/non_triv_0.45_1_0_4.pickle\n"
     ]
    },
    {
     "name": "stderr",
     "output_type": "stream",
     "text": [
      "+26.042913436890 [best: +5.221990108490] : : 60006it [04:00, 249.14it/s]                                                     \n"
     ]
    },
    {
     "name": "stdout",
     "output_type": "stream",
     "text": [
      "Saving: solutions/non_triv_0.3_2_1_2.pickle\n"
     ]
    },
    {
     "name": "stderr",
     "output_type": "stream",
     "text": [
      "+6.818926811218 [best: +0.170824378729] : : 60006it [04:00, 249.55it/s]                                                      \n"
     ]
    },
    {
     "name": "stdout",
     "output_type": "stream",
     "text": [
      "Saving: solutions/non_triv_0.3_2_1_3.pickle\n"
     ]
    },
    {
     "name": "stderr",
     "output_type": "stream",
     "text": [
      "+1.977103114128 [best: +1.715764999390] : : 60006it [03:58, 251.13it/s]                                                      \n"
     ]
    },
    {
     "name": "stdout",
     "output_type": "stream",
     "text": [
      "Saving: solutions/non_triv_0.3_2_1_4.pickle\n"
     ]
    },
    {
     "name": "stderr",
     "output_type": "stream",
     "text": [
      "+2.917863368988 [best: +2.917863368988] : : 60006it [03:57, 252.55it/s]                                                      \n"
     ]
    },
    {
     "name": "stdout",
     "output_type": "stream",
     "text": [
      "Saving: solutions/non_triv_0.0_1_1_2.pickle\n"
     ]
    },
    {
     "name": "stderr",
     "output_type": "stream",
     "text": [
      "+0.909949898720 [best: +0.014250095934] : : 60006it [03:57, 252.59it/s]                                                      \n"
     ]
    },
    {
     "name": "stdout",
     "output_type": "stream",
     "text": [
      "Saving: solutions/non_triv_0.0_1_1_3.pickle\n"
     ]
    },
    {
     "name": "stderr",
     "output_type": "stream",
     "text": [
      "+50.066223144531 [best: +50.005432128906] : : 60006it [03:59, 250.31it/s]                                                    \n"
     ]
    },
    {
     "name": "stdout",
     "output_type": "stream",
     "text": [
      "Saving: solutions/non_triv_0.5_1_0_2.pickle\n"
     ]
    },
    {
     "name": "stderr",
     "output_type": "stream",
     "text": [
      "+50.021667480469 [best: +50.005310058594] : : 60006it [04:00, 249.53it/s]                                                    \n"
     ]
    },
    {
     "name": "stdout",
     "output_type": "stream",
     "text": [
      "Saving: solutions/non_triv_0.5_1_0_3.pickle\n"
     ]
    },
    {
     "name": "stderr",
     "output_type": "stream",
     "text": [
      "+50.032287597656 [best: +50.003723144531] : : 60006it [04:00, 249.63it/s]                                                    \n"
     ]
    },
    {
     "name": "stdout",
     "output_type": "stream",
     "text": [
      "Saving: solutions/non_triv_0.5_1_0_4.pickle\n"
     ]
    },
    {
     "name": "stderr",
     "output_type": "stream",
     "text": [
      "+1.741634726524 [best: +1.143443465233] : : 60006it [03:59, 250.64it/s]                                                      \n"
     ]
    },
    {
     "name": "stdout",
     "output_type": "stream",
     "text": [
      "Saving: solutions/non_triv_0.5_3_0_2.pickle\n"
     ]
    },
    {
     "name": "stderr",
     "output_type": "stream",
     "text": [
      "+4.907660961151 [best: +2.263505458832] : : 60006it [04:00, 249.46it/s]                                                      \n"
     ]
    },
    {
     "name": "stdout",
     "output_type": "stream",
     "text": [
      "Saving: solutions/non_triv_0.5_3_0_3.pickle\n"
     ]
    },
    {
     "name": "stderr",
     "output_type": "stream",
     "text": [
      "+4.632046699524 [best: +2.733620405197] : : 60006it [03:59, 250.14it/s]                                                      \n"
     ]
    },
    {
     "name": "stdout",
     "output_type": "stream",
     "text": [
      "Saving: solutions/non_triv_0.5_3_0_4.pickle\n"
     ]
    },
    {
     "name": "stderr",
     "output_type": "stream",
     "text": [
      "+3.181330442429 [best: +2.680752992630] : : 60006it [04:00, 249.61it/s]                                                      \n"
     ]
    },
    {
     "name": "stdout",
     "output_type": "stream",
     "text": [
      "Saving: solutions/non_triv_0.4_2_0_2.pickle\n"
     ]
    },
    {
     "name": "stderr",
     "output_type": "stream",
     "text": [
      "+6.721672058105 [best: +0.688818037510] : : 60006it [04:00, 249.57it/s]                                                      \n"
     ]
    },
    {
     "name": "stdout",
     "output_type": "stream",
     "text": [
      "Saving: solutions/non_triv_0.4_2_0_3.pickle\n"
     ]
    },
    {
     "name": "stderr",
     "output_type": "stream",
     "text": [
      "+2.331247091293 [best: +2.153116226196] : : 60006it [04:00, 249.54it/s]                                                      \n"
     ]
    },
    {
     "name": "stdout",
     "output_type": "stream",
     "text": [
      "Saving: solutions/non_triv_0.4_2_0_4.pickle\n"
     ]
    },
    {
     "name": "stderr",
     "output_type": "stream",
     "text": [
      "+50.034938812256 [best: +49.896495819092] : : 60006it [04:00, 249.47it/s]                                                    \n"
     ]
    },
    {
     "name": "stdout",
     "output_type": "stream",
     "text": [
      "Saving: solutions/non_triv_0.45_2_1_2.pickle\n"
     ]
    },
    {
     "name": "stderr",
     "output_type": "stream",
     "text": [
      "+50.021301269531 [best: +47.673606872559] : : 60006it [04:00, 249.45it/s]                                                    \n"
     ]
    },
    {
     "name": "stdout",
     "output_type": "stream",
     "text": [
      "Saving: solutions/non_triv_0.45_2_1_3.pickle\n"
     ]
    },
    {
     "name": "stderr",
     "output_type": "stream",
     "text": [
      "+47.543178558350 [best: +6.097303390503] : : 60006it [04:00, 249.80it/s]                                                     \n"
     ]
    },
    {
     "name": "stdout",
     "output_type": "stream",
     "text": [
      "Saving: solutions/non_triv_0.45_2_1_4.pickle\n"
     ]
    },
    {
     "name": "stderr",
     "output_type": "stream",
     "text": [
      "+49.215896606445 [best: +48.720100402832] : : 60006it [04:00, 249.41it/s]                                                    \n"
     ]
    },
    {
     "name": "stdout",
     "output_type": "stream",
     "text": [
      "Saving: solutions/non_triv_0.1_3_0_2.pickle\n"
     ]
    },
    {
     "name": "stderr",
     "output_type": "stream",
     "text": [
      "+49.982212066650 [best: +41.629428863525] : : 60006it [04:00, 249.64it/s]                                                    \n"
     ]
    },
    {
     "name": "stdout",
     "output_type": "stream",
     "text": [
      "Saving: solutions/non_triv_0.1_3_0_3.pickle\n"
     ]
    },
    {
     "name": "stderr",
     "output_type": "stream",
     "text": [
      "+13.561713218689 [best: +0.026880629361] : : 60006it [04:00, 249.78it/s]                                                     \n"
     ]
    },
    {
     "name": "stdout",
     "output_type": "stream",
     "text": [
      "Saving: solutions/non_triv_0.1_3_0_4.pickle\n"
     ]
    },
    {
     "name": "stderr",
     "output_type": "stream",
     "text": [
      "+0.206712573767 [best: +0.202816963196] : : 60006it [04:08, 241.50it/s]                                                      \n"
     ]
    },
    {
     "name": "stdout",
     "output_type": "stream",
     "text": [
      "Saving: solutions/non_triv_0.2_1_0_2.pickle\n"
     ]
    },
    {
     "name": "stderr",
     "output_type": "stream",
     "text": [
      "+49.933811187744 [best: +49.492385864258] : : 60006it [04:45, 210.48it/s]                                                    \n"
     ]
    },
    {
     "name": "stdout",
     "output_type": "stream",
     "text": [
      "Saving: solutions/non_triv_0.2_1_0_3.pickle\n"
     ]
    },
    {
     "name": "stderr",
     "output_type": "stream",
     "text": [
      "+50.033748626709 [best: +49.683094024658] : : 60006it [04:47, 208.72it/s]                                                    \n"
     ]
    },
    {
     "name": "stdout",
     "output_type": "stream",
     "text": [
      "Saving: solutions/non_triv_0.2_1_0_4.pickle\n"
     ]
    },
    {
     "name": "stderr",
     "output_type": "stream",
     "text": [
      "+7.827742099762 [best: +0.277085423470] : : 60006it [05:01, 199.34it/s]                                                      \n"
     ]
    },
    {
     "name": "stdout",
     "output_type": "stream",
     "text": [
      "Saving: solutions/non_triv_0.3_1_0_2.pickle\n"
     ]
    },
    {
     "name": "stderr",
     "output_type": "stream",
     "text": [
      "+4.444295883179 [best: +4.443715572357] : : 60006it [04:48, 207.81it/s]                                                      \n"
     ]
    },
    {
     "name": "stdout",
     "output_type": "stream",
     "text": [
      "Saving: solutions/non_triv_0.3_1_0_3.pickle\n"
     ]
    },
    {
     "name": "stderr",
     "output_type": "stream",
     "text": [
      "+4.653525352478 [best: +1.078086853027] : : 60006it [04:38, 215.40it/s]                                                      \n"
     ]
    },
    {
     "name": "stdout",
     "output_type": "stream",
     "text": [
      "Saving: solutions/non_triv_0.3_1_0_4.pickle\n"
     ]
    },
    {
     "name": "stderr",
     "output_type": "stream",
     "text": [
      "+0.279988467693 [best: +0.279467284679] : : 60006it [04:41, 213.23it/s]                                                      \n"
     ]
    },
    {
     "name": "stdout",
     "output_type": "stream",
     "text": [
      "Saving: solutions/non_triv_0.15_1_1_2.pickle\n"
     ]
    },
    {
     "name": "stderr",
     "output_type": "stream",
     "text": [
      "+49.165931701660 [best: +37.493705749512] : : 60006it [04:42, 212.70it/s]                                                    \n"
     ]
    },
    {
     "name": "stdout",
     "output_type": "stream",
     "text": [
      "Saving: solutions/non_triv_0.15_1_1_3.pickle\n"
     ]
    },
    {
     "name": "stderr",
     "output_type": "stream",
     "text": [
      "+11.885178565979 [best: +0.059500839561] : : 60006it [04:45, 209.94it/s]                                                     \n"
     ]
    },
    {
     "name": "stdout",
     "output_type": "stream",
     "text": [
      "Saving: solutions/non_triv_0.15_1_1_4.pickle\n"
     ]
    },
    {
     "name": "stderr",
     "output_type": "stream",
     "text": [
      "+45.746288299561 [best: +15.032782554626] : : 60006it [04:44, 211.17it/s]                                                    \n"
     ]
    },
    {
     "name": "stdout",
     "output_type": "stream",
     "text": [
      "Saving: solutions/non_triv_0.15_1_0_2.pickle\n"
     ]
    },
    {
     "name": "stderr",
     "output_type": "stream",
     "text": [
      "+47.948539733887 [best: +9.159541130066] : : 60006it [04:47, 209.01it/s]                                                     \n"
     ]
    },
    {
     "name": "stdout",
     "output_type": "stream",
     "text": [
      "Saving: solutions/non_triv_0.15_1_0_3.pickle\n"
     ]
    },
    {
     "name": "stderr",
     "output_type": "stream",
     "text": [
      "+10.192325592041 [best: +10.192325592041] : : 60006it [04:48, 208.24it/s]                                                    \n"
     ]
    },
    {
     "name": "stdout",
     "output_type": "stream",
     "text": [
      "Saving: solutions/non_triv_0.15_1_0_4.pickle\n"
     ]
    },
    {
     "name": "stderr",
     "output_type": "stream",
     "text": [
      "+4.139751434326 [best: +2.838873863220] :  78%|██████████████████████████████▎        | 38796/50000 [03:04<00:56, 197.11it/s]"
     ]
    }
   ],
   "source": [
    "for k, _ in bad_pairs:\n",
    "    k1, k2, k3, k4 = k\n",
    "    k1 = 'non_triv' if k1 == 1 else 'triv'\n",
    "    mps_psi = tenpy_mps_data[k1][k2]\n",
    "    bs = bosonic_np_symmetries[k3]\n",
    "    fs = fermionic_np_symmetries[k4]\n",
    "\n",
    "    psi_arrays = list()\n",
    "    psi_arrays.append(mps_psi.get_B(0, 'Th')[0, ...].to_ndarray())\n",
    "    for i in range(1, mps_psi.L-1):\n",
    "        psi_arrays.append(mps_psi.get_B(i).to_ndarray())\n",
    "    psi_arrays.append(mps_psi.get_B(mps_psi.L-1)[..., 0].to_ndarray())\n",
    "\n",
    "    q1 = (\n",
    "        qtn\n",
    "        .tensor_1d\n",
    "        .MatrixProductState(psi_arrays, shape='lpr')\n",
    "    )\n",
    "\n",
    "    symmetry_site_pairs = (\n",
    "        [(i, bs) for i in range(left_most_symmetry_site, left_most_symmetry_site+num_symmetry_sites, 2)]\n",
    "        + [(i, fs) for i in range(left_most_symmetry_site+1, left_most_symmetry_site+num_symmetry_sites+1, 2)]\n",
    "    )\n",
    "\n",
    "    problem_rdm = generate_problem_rdm(\n",
    "        q1,\n",
    "        symmetry_site_pairs,\n",
    "        left_most_symmetry_site,\n",
    "        num_symmetry_sites,\n",
    "        num_boundary_sites\n",
    "    )\n",
    "\n",
    "    seed_number = 2\n",
    "    new_seed_needed=True\n",
    "    while new_seed_needed:\n",
    "        mpo = initialize_mpo(\n",
    "            left_most_symmetry_site,\n",
    "            num_symmetry_sites,\n",
    "            num_boundary_sites,\n",
    "            bond_dimension\n",
    "        )\n",
    "    \n",
    "        optmzr = qtn.optimize.TNOptimizer(\n",
    "            mpo,                                \n",
    "            loss_fn=overall_loss_function,\n",
    "            loss_kwargs={\n",
    "                'rdm_tn': problem_rdm,\n",
    "                'total_physical_dimension': total_physical_dim,\n",
    "                'unitary_cost_coefficient': 1,\n",
    "                'overlap_cost_coefficient': overlap_learning_rate\n",
    "            },\n",
    "            autodiff_backend='jax',\n",
    "            optimizer='cadam',\n",
    "        )\n",
    "\n",
    "        optmzr.optimize_basinhopping(\n",
    "            num_iterations,\n",
    "            nhop,\n",
    "            learning_rate=alpha,\n",
    "            beta1=beta_1,\n",
    "            beta2=beta_2,\n",
    "            tol=score_target\n",
    "        )\n",
    "\n",
    "        final_score = jnp.min(np.array(optmzr.losses))\n",
    "\n",
    "        if (seed_number == num_seeds - 1) or (final_score < score_target):\n",
    "            new_seed_needed = False\n",
    "\n",
    "        file_name = rf'solutions/{k1}_{k2}_{k3}_{k4}_{seed_number}.pickle'\n",
    "        print('Saving: ' + file_name)\n",
    "\n",
    "        with open(file_name, 'wb') as file:\n",
    "            pickle.dump([final_score, optmzr.get_tn_opt()], file)\n",
    "\n",
    "        seed_number += 1"
   ]
  },
  {
   "cell_type": "code",
   "execution_count": null,
   "id": "7e299487-7584-4284-a307-3684b38a17a7",
   "metadata": {},
   "outputs": [],
   "source": []
  }
 ],
 "metadata": {
  "kernelspec": {
   "display_name": "num_spt_venv_p11",
   "language": "python",
   "name": "num_spt_venv_p11"
  },
  "language_info": {
   "codemirror_mode": {
    "name": "ipython",
    "version": 3
   },
   "file_extension": ".py",
   "mimetype": "text/x-python",
   "name": "python",
   "nbconvert_exporter": "python",
   "pygments_lexer": "ipython3",
   "version": "3.11.12"
  }
 },
 "nbformat": 4,
 "nbformat_minor": 5
}
