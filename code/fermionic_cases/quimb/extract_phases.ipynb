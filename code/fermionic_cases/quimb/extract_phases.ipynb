{
 "cells": [
  {
   "cell_type": "markdown",
   "id": "8a5ff3d7-110e-408b-b148-b585fc98d23f",
   "metadata": {},
   "source": [
    "# Extract phases\n",
    "Created 02/06/2024\n",
    "\n",
    "Objectives:\n",
    "* Extract the fermionic and proj rep group cohomologies from the solutions calculated [here](sweep_and_find_solutions.ipynb)"
   ]
  },
  {
   "cell_type": "markdown",
   "id": "5e618d3a-fdaf-441f-bc73-3649e01a7b3c",
   "metadata": {},
   "source": [
    "# Package imports"
   ]
  },
  {
   "cell_type": "code",
   "execution_count": 1,
   "id": "ecb41ea3-927f-4efa-aebe-ce15784aa037",
   "metadata": {},
   "outputs": [],
   "source": [
    "import sys"
   ]
  },
  {
   "cell_type": "code",
   "execution_count": 2,
   "id": "0375bd38-12e1-417a-908a-13fb540081f5",
   "metadata": {},
   "outputs": [],
   "source": [
    "sys.path.append(\"../../\")"
   ]
  },
  {
   "cell_type": "code",
   "execution_count": 136,
   "id": "0cf49837-01b6-431a-b570-d7ed25903239",
   "metadata": {},
   "outputs": [],
   "source": [
    "from itertools import chain, groupby, combinations\n",
    "import re\n",
    "\n",
    "from collections import Counter, namedtuple, defaultdict"
   ]
  },
  {
   "cell_type": "code",
   "execution_count": 4,
   "id": "f59344b7-d34e-47e4-99be-f5a2687f8176",
   "metadata": {},
   "outputs": [],
   "source": [
    "import h5py\n",
    "from tenpy.tools import hdf5_io\n",
    "import tenpy\n",
    "import tenpy.linalg.np_conserved as npc\n",
    "\n",
    "import os\n",
    "import pickle"
   ]
  },
  {
   "cell_type": "code",
   "execution_count": 5,
   "id": "19404619-d778-4cc3-8ee1-1db6f14b2043",
   "metadata": {},
   "outputs": [],
   "source": [
    "import numpy as np\n",
    "from jax import numpy as jnp\n",
    "import pandas as pd\n",
    "\n",
    "import matplotlib.pyplot as plt\n",
    "\n",
    "import scipy"
   ]
  },
  {
   "cell_type": "code",
   "execution_count": 6,
   "id": "92eeb066-5463-4237-ad07-3c5a0d934f4f",
   "metadata": {},
   "outputs": [
    {
     "name": "stderr",
     "output_type": "stream",
     "text": [
      "/Users/kierancooney/.pyenv/versions/num_spt_venv_p11/lib/python3.11/site-packages/cotengra/hyperoptimizers/hyper.py:54: UserWarning: Couldn't find `optuna`, `cmaes`, or `nevergrad` so will use completely random sampling in place of hyper-optimization.\n",
      "  warnings.warn(\n",
      "/Users/kierancooney/.pyenv/versions/num_spt_venv_p11/lib/python3.11/site-packages/cotengra/hyperoptimizers/hyper.py:36: UserWarning: Couldn't import `kahypar` - skipping from default hyper optimizer and using basic `labels` method instead.\n",
      "  warnings.warn(\n",
      "/Users/kierancooney/.pyenv/versions/num_spt_venv_p11/lib/python3.11/site-packages/cotengra/hyperoptimizers/hyper.py:73: UserWarning: Couldn't find `optuna`, `cmaes`, or `nevergrad` so will use completely random sampling in place of hyper-optimization.\n",
      "  warnings.warn(\n"
     ]
    }
   ],
   "source": [
    "import quimb as qu\n",
    "import quimb.tensor as qtn\n",
    "from quimb.tensor.optimize import TNOptimizer"
   ]
  },
  {
   "cell_type": "markdown",
   "id": "1e7fa07a-a850-4148-bb15-43b2582429cb",
   "metadata": {},
   "source": [
    "# Load data"
   ]
  },
  {
   "cell_type": "markdown",
   "id": "2619393b-854f-4f6b-827f-a4c49284fac2",
   "metadata": {},
   "source": [
    "## Wavefunctions"
   ]
  },
  {
   "cell_type": "code",
   "execution_count": 7,
   "id": "a073ec4a-1d8d-4786-af9f-11e750b1e3a9",
   "metadata": {},
   "outputs": [],
   "source": [
    "DATA_DIR_1 = r\"../../data/interpolated_trivial_to_nontrivial_fermionic_trivial_proj_rep_200_site_dmrg/\"\n",
    "DATA_DIR_2 = r\"../../data/interpolated_nontrivial_fermionic_proj_rep_to_nontrivial_proj_rep_200_site_dmrg/\""
   ]
  },
  {
   "cell_type": "code",
   "execution_count": 8,
   "id": "9fd5bc67-e5e4-4b8f-a5e4-f5120506f1ed",
   "metadata": {},
   "outputs": [],
   "source": [
    "def parse_file_name(file_name):\n",
    "    interpolation = int(file_name.split('_')[0])/100\n",
    "\n",
    "    return interpolation"
   ]
  },
  {
   "cell_type": "code",
   "execution_count": 9,
   "id": "cbe1e575-7fb0-4951-9fc8-dce918ef2e54",
   "metadata": {},
   "outputs": [],
   "source": [
    "loaded_data_triv_proj_rep = dict()\n",
    "energies_triv_proj_rep = dict()\n",
    "\n",
    "for local_file_name in list(os.walk(DATA_DIR_1))[0][2]:\n",
    "    f_name = r\"{}/{}\".format(DATA_DIR_1, local_file_name, ignore_unknown=False)\n",
    "\n",
    "    with h5py.File(f_name, 'r') as f:\n",
    "        data = hdf5_io.load_from_hdf5(f)\n",
    "\n",
    "        data_info = parse_file_name(local_file_name)\n",
    "        loaded_data_triv_proj_rep[data_info]=data['wavefunction']\n",
    "        energies_triv_proj_rep[data_info]=data['energy']"
   ]
  },
  {
   "cell_type": "code",
   "execution_count": 10,
   "id": "d694f0e0-4ab2-4eea-8f21-7177abc2de50",
   "metadata": {},
   "outputs": [],
   "source": [
    "loaded_data_non_triv_proj_rep = dict()\n",
    "energies_non_triv_proj_rep = dict()\n",
    "\n",
    "for local_file_name in list(os.walk(DATA_DIR_2))[0][2]:\n",
    "    f_name = r\"{}/{}\".format(DATA_DIR_2, local_file_name, ignore_unknown=False)\n",
    "\n",
    "    with h5py.File(f_name, 'r') as f:\n",
    "        data = hdf5_io.load_from_hdf5(f)\n",
    "\n",
    "        data_info = parse_file_name(local_file_name)\n",
    "        loaded_data_non_triv_proj_rep[data_info]=data['wavefunction']\n",
    "        energies_non_triv_proj_rep[data_info]=data['energy']"
   ]
  },
  {
   "cell_type": "code",
   "execution_count": 11,
   "id": "c6f844ce-e988-4b14-8427-413eff20782e",
   "metadata": {},
   "outputs": [
    {
     "data": {
      "text/plain": [
       "Counter({('vL', 'p', 'vR'): 4200})"
      ]
     },
     "execution_count": 11,
     "metadata": {},
     "output_type": "execute_result"
    }
   ],
   "source": [
    "Counter(\n",
    "    tuple(psi.get_B(i).get_leg_labels())\n",
    "    for psi in loaded_data_triv_proj_rep.values()\n",
    "    for i in range(psi.L)\n",
    ")"
   ]
  },
  {
   "cell_type": "code",
   "execution_count": 12,
   "id": "f1e92883-f7cb-4870-91d2-85c3745b928b",
   "metadata": {},
   "outputs": [
    {
     "data": {
      "text/plain": [
       "Counter({('vL', 'p', 'vR'): 4200})"
      ]
     },
     "execution_count": 12,
     "metadata": {},
     "output_type": "execute_result"
    }
   ],
   "source": [
    "Counter(\n",
    "    tuple(psi.get_B(i).get_leg_labels())\n",
    "    for psi in loaded_data_non_triv_proj_rep.values()\n",
    "    for i in range(psi.L)\n",
    ")"
   ]
  },
  {
   "cell_type": "markdown",
   "id": "a1a65e01-1679-4f4d-8a76-ab9878761d3e",
   "metadata": {},
   "source": [
    "## Boundary operator solutions"
   ]
  },
  {
   "cell_type": "code",
   "execution_count": 13,
   "id": "e37adb2a-d2dd-41ae-be5f-510cd40d18ac",
   "metadata": {},
   "outputs": [],
   "source": [
    "SOL_DIR = r\"solutions/\""
   ]
  },
  {
   "cell_type": "code",
   "execution_count": 14,
   "id": "c2e39164-e8b3-4305-b1db-c8bfc52c0cfb",
   "metadata": {},
   "outputs": [],
   "source": [
    "file_name_pattern = re.compile(r'^(?:non_)?triv_\\d\\.\\d+_\\d_\\d_\\d+\\.pickle$')"
   ]
  },
  {
   "cell_type": "code",
   "execution_count": 15,
   "id": "42ac9167-550d-428b-ad09-28dcc6d4e3cc",
   "metadata": {},
   "outputs": [],
   "source": [
    "def parse_file_name(file_name):\n",
    "    if not bool(file_name_pattern.match(file_name)):\n",
    "        print(file_name)\n",
    "        return None\n",
    "\n",
    "    file_name = '.'.join((file_name.split('.'))[:-1])\n",
    "\n",
    "    if file_name[0] == 'n':\n",
    "        proj_rep=1\n",
    "        b, bs, fs, i = file_name.split('_')[2:]\n",
    "    elif file_name[0] == 't':\n",
    "        proj_rep=0\n",
    "        b, bs, fs, i = file_name.split('_')[1:]\n",
    "    else:\n",
    "        return None\n",
    "\n",
    "    b = float(b)\n",
    "    bs = int(bs)\n",
    "    fs = int(fs)\n",
    "    i = int(i)\n",
    "    \n",
    "    return (proj_rep, b, bs, fs, i)"
   ]
  },
  {
   "cell_type": "code",
   "execution_count": 16,
   "id": "686fa22d-79df-4e80-8728-9a7737a66762",
   "metadata": {},
   "outputs": [
    {
     "name": "stdout",
     "output_type": "stream",
     "text": [
      ".DS_Store\n"
     ]
    }
   ],
   "source": [
    "boundary_operator_solutions = dict()\n",
    "\n",
    "for local_file_name in list(os.walk(SOL_DIR))[0][2]:\n",
    "    f_name = r\"{}/{}\".format(SOL_DIR, local_file_name, ignore_unknown=False)\n",
    "\n",
    "    key = parse_file_name(local_file_name)\n",
    "\n",
    "    if key is not None:\n",
    "        with open(f_name, 'rb') as f:\n",
    "            out = pickle.load(f)\n",
    "    \n",
    "            boundary_operator_solutions[key] = out"
   ]
  },
  {
   "cell_type": "markdown",
   "id": "c789feb2-12ac-4860-a654-e40fa070325a",
   "metadata": {},
   "source": [
    "### Check values"
   ]
  },
  {
   "cell_type": "code",
   "execution_count": 17,
   "id": "1b1a1eaa-265f-4def-a3d3-0ad318930b4b",
   "metadata": {},
   "outputs": [],
   "source": [
    "scores = [float(v[0]._value) for v in boundary_operator_solutions.values()]"
   ]
  },
  {
   "cell_type": "code",
   "execution_count": 18,
   "id": "18b031de-4cf0-4576-b236-089341aca078",
   "metadata": {},
   "outputs": [
    {
     "data": {
      "text/plain": [
       "count    573.000000\n",
       "mean      14.665053\n",
       "std       22.783958\n",
       "min        0.001833\n",
       "25%        0.065218\n",
       "50%        1.537037\n",
       "75%       45.585068\n",
       "max      216.741516\n",
       "dtype: float64"
      ]
     },
     "execution_count": 18,
     "metadata": {},
     "output_type": "execute_result"
    }
   ],
   "source": [
    "pd.Series(scores).describe()"
   ]
  },
  {
   "cell_type": "code",
   "execution_count": 19,
   "id": "7896fa9b-0290-4742-93a8-503497597318",
   "metadata": {},
   "outputs": [],
   "source": [
    "score_pairs = defaultdict(list)\n",
    "\n",
    "for k, v in boundary_operator_solutions.items():\n",
    "    score_pairs[k[:-1]].append((k[-1], float(v[0]._value)))"
   ]
  },
  {
   "cell_type": "code",
   "execution_count": 20,
   "id": "233eec99-8e2e-4483-bdf9-33819d13ee4d",
   "metadata": {},
   "outputs": [
    {
     "name": "stdout",
     "output_type": "stream",
     "text": [
      "Help on built-in function min in module builtins:\n",
      "\n",
      "min(...)\n",
      "    min(iterable, *[, default=obj, key=func]) -> value\n",
      "    min(arg1, arg2, *args, *[, key=func]) -> value\n",
      "    \n",
      "    With a single iterable argument, return its smallest item. The\n",
      "    default keyword-only argument specifies an object to return if\n",
      "    the provided iterable is empty.\n",
      "    With two or more arguments, return the smallest argument.\n",
      "\n"
     ]
    }
   ],
   "source": [
    "help(min)"
   ]
  },
  {
   "cell_type": "code",
   "execution_count": 21,
   "id": "8cf00e47-3dd9-47f1-9c7c-c3b6ecd76ba1",
   "metadata": {},
   "outputs": [],
   "source": [
    "best_score_pairs = {\n",
    "    k: min(v, key=lambda x: x[1]) for k, v in score_pairs.items()\n",
    "}"
   ]
  },
  {
   "cell_type": "code",
   "execution_count": 22,
   "id": "b07ea0b5-9c25-4969-ad77-44605f544778",
   "metadata": {},
   "outputs": [],
   "source": [
    "best_scores = [v[1] for v in best_score_pairs.values()]"
   ]
  },
  {
   "cell_type": "code",
   "execution_count": 23,
   "id": "20a71c05-b888-450a-9353-7f26970ebd57",
   "metadata": {},
   "outputs": [
    {
     "data": {
      "text/plain": [
       "252"
      ]
     },
     "execution_count": 23,
     "metadata": {},
     "output_type": "execute_result"
    }
   ],
   "source": [
    "len(best_score_pairs)"
   ]
  },
  {
   "cell_type": "code",
   "execution_count": 24,
   "id": "3b02c07c-fe40-4acb-8632-893fe8b48254",
   "metadata": {},
   "outputs": [
    {
     "data": {
      "text/plain": [
       "count    252.000000\n",
       "mean       1.737905\n",
       "std        8.759257\n",
       "min        0.001833\n",
       "25%        0.018629\n",
       "50%        0.053990\n",
       "75%        0.203661\n",
       "max       50.003654\n",
       "dtype: float64"
      ]
     },
     "execution_count": 24,
     "metadata": {},
     "output_type": "execute_result"
    }
   ],
   "source": [
    "pd.Series(best_scores).describe()"
   ]
  },
  {
   "cell_type": "code",
   "execution_count": 25,
   "id": "0a4b978d-378e-46e7-9565-cd897ddbdd31",
   "metadata": {},
   "outputs": [
    {
     "data": {
      "text/plain": [
       "[(0, 0.5, 3, 1),\n",
       " (0, 0.5, 3, 0),\n",
       " (1, 0.5, 1, 1),\n",
       " (1, 0.5, 1, 0),\n",
       " (1, 0.5, 3, 0),\n",
       " (1, 0.5, 3, 1),\n",
       " (0, 0.5, 1, 0),\n",
       " (0, 0.5, 1, 1),\n",
       " (1, 0.5, 2, 0),\n",
       " (1, 0.5, 2, 1)]"
      ]
     },
     "execution_count": 25,
     "metadata": {},
     "output_type": "execute_result"
    }
   ],
   "source": [
    "[k for k, v in best_score_pairs.items() if v[1]>1]"
   ]
  },
  {
   "cell_type": "code",
   "execution_count": 26,
   "id": "983aa545-a557-404d-ae3b-1e4aaa402670",
   "metadata": {},
   "outputs": [
    {
     "data": {
      "text/plain": [
       "(1, 0.017019841820001602)"
      ]
     },
     "execution_count": 26,
     "metadata": {},
     "output_type": "execute_result"
    }
   ],
   "source": [
    "best_score_pairs[(0, 0, 1, 0)]"
   ]
  },
  {
   "cell_type": "code",
   "execution_count": 27,
   "id": "231f533b-5075-402a-821d-dab6eaf23098",
   "metadata": {},
   "outputs": [],
   "source": [
    "best_boundary_operators = {\n",
    "    k: boundary_operator_solutions[(*k, v[0])]\n",
    "    for k, v in best_score_pairs.items()\n",
    "    if k[1] != 0.5\n",
    "}"
   ]
  },
  {
   "cell_type": "code",
   "execution_count": 28,
   "id": "8ed66855-7274-4da7-a010-9dc586e82131",
   "metadata": {},
   "outputs": [
    {
     "data": {
      "text/plain": [
       "240"
      ]
     },
     "execution_count": 28,
     "metadata": {},
     "output_type": "execute_result"
    }
   ],
   "source": [
    "len(best_boundary_operators)"
   ]
  },
  {
   "cell_type": "markdown",
   "id": "3269e554-4543-4e55-8a03-68083f819521",
   "metadata": {},
   "source": [
    "# Definitions"
   ]
  },
  {
   "cell_type": "code",
   "execution_count": 29,
   "id": "550e5a48-302e-4588-8b17-978e37ee1a95",
   "metadata": {},
   "outputs": [],
   "source": [
    "np_00 = np.array([\n",
    "    [1, 0, 0, 0],\n",
    "    [0, 1, 0, 0],\n",
    "    [0, 0, 1, 0],\n",
    "    [0, 0, 0, 1]\n",
    "])\n",
    "\n",
    "np_01 = np.array([\n",
    "    [0, 1, 0, 0],\n",
    "    [1, 0, 0, 0],\n",
    "    [0, 0, 0, 1],\n",
    "    [0, 0, 1, 0]\n",
    "])\n",
    "\n",
    "np_10 = np.array([\n",
    "    [0, 0, 1, 0],\n",
    "    [0, 0, 0, 1],\n",
    "    [1, 0, 0, 0],\n",
    "    [0, 1, 0, 0]\n",
    "])\n",
    "\n",
    "np_11 = np.array([\n",
    "    [0, 0, 0, 1],\n",
    "    [0, 0, 1, 0],\n",
    "    [0, 1, 0, 0],\n",
    "    [1, 0, 0, 0]\n",
    "])"
   ]
  },
  {
   "cell_type": "code",
   "execution_count": 30,
   "id": "7be888f1-58f3-472a-920e-7920a8974192",
   "metadata": {},
   "outputs": [],
   "source": [
    "bosonic_np_symmetries = [\n",
    "    np_00,\n",
    "    np_01,\n",
    "    np_10,\n",
    "    np_11\n",
    "]"
   ]
  },
  {
   "cell_type": "code",
   "execution_count": 31,
   "id": "7eab7fb2-331f-41b7-8278-84642df9cb17",
   "metadata": {},
   "outputs": [],
   "source": [
    "np_I = np.array([\n",
    "    [1, 0],\n",
    "    [0, 1]\n",
    "])\n",
    "\n",
    "np_JW = np.array([\n",
    "    [1, 0],\n",
    "    [0, -1]\n",
    "])"
   ]
  },
  {
   "cell_type": "code",
   "execution_count": 32,
   "id": "34029aa6-57e2-44a5-85ac-91517d851411",
   "metadata": {},
   "outputs": [],
   "source": [
    "fermionic_np_symmetries = [np_I, np_JW]"
   ]
  },
  {
   "cell_type": "code",
   "execution_count": 33,
   "id": "dd7d4af7-0809-4736-927f-b79047df62fe",
   "metadata": {},
   "outputs": [],
   "source": [
    "def generate_problem_rdm(quimb_psi, symmetry_site_pairs, leftmost_symmetry_site,\n",
    "                         num_symmetry_sites, num_boundary_sites):\n",
    "    q_top = quimb_psi.copy(deep=True)\n",
    "    for i, s in symmetry_site_pairs:\n",
    "        q_top.gate(\n",
    "            s,\n",
    "            where=i,\n",
    "            contract=False,\n",
    "            inplace=True\n",
    "        )\n",
    "\n",
    "    \n",
    "    indices_to_map = list(chain(\n",
    "        range(leftmost_symmetry_site-num_boundary_sites, leftmost_symmetry_site),\n",
    "        range(leftmost_symmetry_site+num_symmetry_sites, leftmost_symmetry_site+num_symmetry_sites+num_boundary_sites)\n",
    "    ))\n",
    "\n",
    "    index_mapping = {f'k{i}': f'b{i}' for i in indices_to_map}\n",
    "\n",
    "    q_bottom = (\n",
    "        quimb_psi\n",
    "        .copy()\n",
    "        .reindex(index_mapping, inplace=True)\n",
    "        .conj()\n",
    "    )\n",
    "\n",
    "    sites_to_contract = {\n",
    "        'left': list(range(leftmost_symmetry_site-num_boundary_sites)),\n",
    "        'middle': list(range(leftmost_symmetry_site, leftmost_symmetry_site+num_symmetry_sites)),\n",
    "        'right': list(range(leftmost_symmetry_site+num_symmetry_sites+num_boundary_sites, quimb_psi.L))\n",
    "    }\n",
    "\n",
    "    tags_to_contract = {\n",
    "        k: [f'I{i}' for i in v]\n",
    "        for k, v in sites_to_contract.items()\n",
    "    }\n",
    "\n",
    "    tn = (q_top & q_bottom)\n",
    "\n",
    "    tnc = (\n",
    "        tn\n",
    "        .contract(tags_to_contract['left'])\n",
    "        .contract(tags_to_contract['middle'])\n",
    "        .contract(tags_to_contract['right'])\n",
    "    )\n",
    "\n",
    "    return tnc"
   ]
  },
  {
   "cell_type": "code",
   "execution_count": 55,
   "id": "198f4294-8a52-4ee8-be8c-640d8c8927f2",
   "metadata": {},
   "outputs": [],
   "source": [
    "def generate_rdm_from_tenpy_psi(mps_psi, symmetry_site_pairs,\n",
    "    leftmost_symmetry_site, num_symmetry_sites, num_boundary_sites):\n",
    "    \n",
    "    psi_arrays = list()\n",
    "    psi_arrays.append(mps_psi.get_B(0, 'Th')[0, ...].to_ndarray())\n",
    "    for i in range(1, mps_psi.L-1):\n",
    "        psi_arrays.append(mps_psi.get_B(i).to_ndarray())\n",
    "    psi_arrays.append(mps_psi.get_B(mps_psi.L-1)[..., 0].to_ndarray())\n",
    "    \n",
    "    q1 = (\n",
    "        qtn\n",
    "        .tensor_1d\n",
    "        .MatrixProductState(psi_arrays, shape='lpr')\n",
    "    )\n",
    "    \n",
    "    problem_rdm = generate_problem_rdm(\n",
    "        q1,\n",
    "        symmetry_site_pairs,\n",
    "        left_most_symmetry_site,\n",
    "        num_symmetry_sites,\n",
    "        num_boundary_sites\n",
    "    )\n",
    "\n",
    "    return problem_rdm"
   ]
  },
  {
   "cell_type": "markdown",
   "id": "5fc06a38-7a0c-4740-8759-b5e34c4b0a37",
   "metadata": {},
   "source": [
    "## Optimisation functions"
   ]
  },
  {
   "cell_type": "code",
   "execution_count": 35,
   "id": "07094b29-e8ee-49eb-af8b-bb3a13833ef0",
   "metadata": {},
   "outputs": [],
   "source": [
    "def split_mpo_pair(mpo_pair):\n",
    "    ml = qtn.TensorNetwork(\n",
    "        list(map(mpo_pair.tensor_map.__getitem__, mpo_pair.tag_map['left_mpo']))\n",
    "    )\n",
    "\n",
    "    mr = qtn.TensorNetwork(\n",
    "        list(map(mpo_pair.tensor_map.__getitem__, mpo_pair.tag_map['right_mpo']))\n",
    "    )\n",
    "\n",
    "    return (ml, mr)"
   ]
  },
  {
   "cell_type": "code",
   "execution_count": 36,
   "id": "f9c78157-b1e7-4766-93f9-0b9101909c8e",
   "metadata": {},
   "outputs": [],
   "source": [
    "def overlap_loss_function(ml, mr, rdm_tn, epsilon=0):\n",
    "    c = (rdm_tn & ml & mr) ^ ...\n",
    "\n",
    "    c_abs_squared = (\n",
    "        c\n",
    "        *jnp.conjugate(c)\n",
    "    )\n",
    "    #c_abs_squared = c_abs_squared.astype('float32')\n",
    "    c_abs = (jnp.sqrt(c_abs_squared+epsilon))\n",
    "\n",
    "    target = jnp.sqrt(1+epsilon)\n",
    "    loss = (c_abs - target)**2\n",
    "\n",
    "    return loss"
   ]
  },
  {
   "cell_type": "code",
   "execution_count": 37,
   "id": "dc2acced-42d4-495a-8fa4-c6540a9c6ca0",
   "metadata": {},
   "outputs": [],
   "source": [
    "def overlap_loss_function_mpo_pair(mpo_pair, rdm_tn):\n",
    "    ml, mr = split_mpo_pair(mpo_pair)\n",
    "\n",
    "    return overlap_loss_function(ml, mr, rdm_tn)"
   ]
  },
  {
   "cell_type": "code",
   "execution_count": 38,
   "id": "b621cd9e-bf58-44b8-b924-55584bc55e0f",
   "metadata": {},
   "outputs": [],
   "source": [
    "regex_s = r\"^I\\d+$\"\n",
    "regex_p = re.compile(regex_s)"
   ]
  },
  {
   "cell_type": "code",
   "execution_count": 39,
   "id": "c11190c9-133d-47bb-9887-bcbb44c2ae05",
   "metadata": {},
   "outputs": [],
   "source": [
    "def relabel_mpo(mpo, k_label, b_label):\n",
    "    site_locs = [\n",
    "        int(k[1:]) for k in mpo.tag_map\n",
    "        if bool(re.search(regex_p, k))\n",
    "    ]\n",
    "\n",
    "    k_in_indices = [f'k{i}' for i in site_locs]\n",
    "    j_in_indices = [f'b{i}' for i in site_locs]\n",
    "\n",
    "    k_out_indices = [f'{k_label}{i}' for i in site_locs]\n",
    "    j_out_indices = [f'{b_label}{i}' for i in site_locs]\n",
    "\n",
    "    mapping = dict(\n",
    "        chain(\n",
    "            zip(k_in_indices, k_out_indices),\n",
    "            zip(j_in_indices, j_out_indices)\n",
    "        )\n",
    "    )\n",
    "\n",
    "    mpo.reindex(mapping, inplace=True)"
   ]
  },
  {
   "cell_type": "code",
   "execution_count": 40,
   "id": "bf90d0ad-8ea6-490a-94fd-22049fbc0daa",
   "metadata": {},
   "outputs": [],
   "source": [
    "def unitarity_tn(tn, total_physical_dim):\n",
    "    ms = [tn.copy(), tn.copy(), tn.copy()]\n",
    "\n",
    "    relabel_mpo(ms[0], 'k', 'l')\n",
    "    relabel_mpo(ms[1], 'm', 'l')\n",
    "    relabel_mpo(ms[2], 'm', 'b')\n",
    "\n",
    "    ms[0] = ms[0].conj()\n",
    "    ms[2] = ms[2].conj()\n",
    "\n",
    "    n2tn = (tn & tn.conj())\n",
    "    n2 = n2tn.contract(n2tn.tag_map)\n",
    "    n4tn = (tn & ms[0] & ms[1] & ms[2])\n",
    "    n4 = n4tn.contract(n4tn.tag_map)\n",
    "\n",
    "    out = jnp.real(n4 - 2*n2 + total_physical_dim)\n",
    "\n",
    "    return out"
   ]
  },
  {
   "cell_type": "code",
   "execution_count": 41,
   "id": "c4c6f486-6f28-4429-b385-f8a346fd1916",
   "metadata": {},
   "outputs": [],
   "source": [
    "def overall_loss_function(mpo_pair, rdm_tn, total_physical_dimension,\n",
    "    unitary_cost_coefficient=1, overlap_cost_coefficient=1, losses=None):\n",
    "    ml, mr = split_mpo_pair(mpo_pair)\n",
    "\n",
    "    o_loss = overlap_loss_function(ml, mr, rdm_tn)\n",
    "    ul_loss = unitarity_tn(ml, total_physical_dimension)\n",
    "    ur_loss = unitarity_tn(mr, total_physical_dimension)\n",
    "\n",
    "    out = (\n",
    "        unitary_cost_coefficient*(ul_loss+ur_loss)\n",
    "        + overlap_cost_coefficient*o_loss\n",
    "    )\n",
    "\n",
    "    out = jnp.real(out)\n",
    "\n",
    "    if losses is not None:\n",
    "        losses.append((o_loss, ul_loss, ur_loss))\n",
    "    return out"
   ]
  },
  {
   "cell_type": "markdown",
   "id": "182f6d16-dfff-4cef-9dda-d3920db7c0bf",
   "metadata": {},
   "source": [
    "## Extract SPT phase functions"
   ]
  },
  {
   "cell_type": "code",
   "execution_count": 42,
   "id": "b797f208-56a6-4f64-b2bc-dda2358314e2",
   "metadata": {},
   "outputs": [],
   "source": [
    "def get_right_fp_overlap(rdm, mpo_l, mpo_r, leftmost_symmetry_site,\n",
    "                     num_symmetry_sites, num_boundary_sites):\n",
    "\n",
    "    tn = rdm.copy(deep=True)\n",
    "\n",
    "    fermionic_site_indices = [\n",
    "        i\n",
    "        for i in range(\n",
    "            leftmost_symmetry_site+num_symmetry_sites,\n",
    "            leftmost_symmetry_site+num_symmetry_sites+num_boundary_sites\n",
    "        )\n",
    "        if i % 2 == 1\n",
    "    ]\n",
    "\n",
    "    top_fermionic_tensors = [\n",
    "        (f'k{i}', next(map(tn.tensor_map.__getitem__, tn.ind_map[f'k{i}'])))\n",
    "        for i in fermionic_site_indices\n",
    "    ]\n",
    "\n",
    "    bottom_fermionic_tensors = [\n",
    "        (f'b{i}', next(map(tn.tensor_map.__getitem__, tn.ind_map[f'b{i}'])))\n",
    "        for i in fermionic_site_indices\n",
    "    ]\n",
    "\n",
    "    for ind, t in top_fermionic_tensors:\n",
    "        t.gate(\n",
    "            np_JW,\n",
    "            ind=ind,\n",
    "            inplace=True\n",
    "        )\n",
    "\n",
    "    for ind, t in bottom_fermionic_tensors:\n",
    "        t.gate(\n",
    "            np_JW,\n",
    "            ind=ind,\n",
    "            transposed=True,\n",
    "            inplace=True\n",
    "        )\n",
    "\n",
    "    out = (tn & mpo_l & mpo_r) ^ ...\n",
    "\n",
    "    return out"
   ]
  },
  {
   "cell_type": "code",
   "execution_count": 43,
   "id": "0b3a7976-d218-4eb9-b38c-e0cfd56337e0",
   "metadata": {},
   "outputs": [],
   "source": [
    "def get_left_fp_overlap(rdm, mpo_l, mpo_r, leftmost_symmetry_site,\n",
    "                     num_symmetry_sites, num_boundary_sites):\n",
    "\n",
    "    tn = rdm.copy(deep=True)\n",
    "\n",
    "    fermionic_site_indices = [\n",
    "        i\n",
    "        for i in range(\n",
    "            leftmost_symmetry_site-num_boundary_sites,\n",
    "            leftmost_symmetry_site\n",
    "        )\n",
    "        if i % 2 == 1\n",
    "    ]\n",
    "\n",
    "    top_fermionic_tensors = [\n",
    "        (f'k{i}', next(map(tn.tensor_map.__getitem__, tn.ind_map[f'k{i}'])))\n",
    "        for i in fermionic_site_indices\n",
    "    ]\n",
    "\n",
    "    bottom_fermionic_tensors = [\n",
    "        (f'b{i}', next(map(tn.tensor_map.__getitem__, tn.ind_map[f'b{i}'])))\n",
    "        for i in fermionic_site_indices\n",
    "    ]\n",
    "\n",
    "    for ind, t in top_fermionic_tensors:\n",
    "        t.gate(\n",
    "            np_JW,\n",
    "            ind=ind,\n",
    "            inplace=True\n",
    "        )\n",
    "\n",
    "    for ind, t in bottom_fermionic_tensors:\n",
    "        t.gate(\n",
    "            np_JW,\n",
    "            ind=ind,\n",
    "            transposed=True,\n",
    "            inplace=True\n",
    "        )\n",
    "\n",
    "    out = (tn & mpo_l & mpo_r) ^ ...\n",
    "\n",
    "    return out"
   ]
  },
  {
   "cell_type": "code",
   "execution_count": 50,
   "id": "3bca38f5-b5f0-4e72-9136-9388eb46445b",
   "metadata": {},
   "outputs": [],
   "source": [
    "def get_fp_charges(rdm, ml, mr, left_most_symmetry_site, num_symmetry_sites,\n",
    "               num_boundary_sites):\n",
    "    base_overlap = (rdm & ml & mr) ^ ...\n",
    "\n",
    "    right_fp_overlap = get_right_fp_overlap(\n",
    "        rdm,\n",
    "        ml,\n",
    "        mr,\n",
    "        left_most_symmetry_site,\n",
    "        num_symmetry_sites,\n",
    "        num_boundary_sites\n",
    "    )\n",
    "\n",
    "    left_fp_overlap = get_left_fp_overlap(\n",
    "        rdm,\n",
    "        ml,\n",
    "        mr,\n",
    "        left_most_symmetry_site,\n",
    "        num_symmetry_sites,\n",
    "        num_boundary_sites\n",
    "    )\n",
    "\n",
    "    right_fp_charge = right_fp_overlap/base_overlap\n",
    "    left_fp_charge = left_fp_overlap/base_overlap\n",
    "\n",
    "    return (left_fp_charge, right_fp_charge, base_overlap)"
   ]
  },
  {
   "cell_type": "markdown",
   "id": "4c5e699e-abda-42f5-b57e-238517eb3fe1",
   "metadata": {},
   "source": [
    "# Extract SPT phase\n",
    "## Fermionic group cohomology"
   ]
  },
  {
   "cell_type": "code",
   "execution_count": 51,
   "id": "88afc57c-5227-4220-94e3-717a2e8db407",
   "metadata": {},
   "outputs": [],
   "source": [
    "num_boundary_sites=6\n",
    "left_most_symmetry_site=60\n",
    "num_symmetry_sites=80\n",
    "bond_dimension=6\n",
    "\n",
    "total_physical_dim = 2**9"
   ]
  },
  {
   "cell_type": "code",
   "execution_count": 56,
   "id": "7dc8cbbc-53f2-46fd-a8f0-60b0ad3e63bf",
   "metadata": {},
   "outputs": [],
   "source": [
    "fp_charges = dict()\n",
    "\n",
    "for k, ops in best_boundary_operators.items():\n",
    "    ml, mr = split_mpo_pair(ops[1])\n",
    "\n",
    "    if k[0] == 0:\n",
    "        tenpy_psi = loaded_data_triv_proj_rep[k[1]]\n",
    "    elif k[0] == 1:\n",
    "        tenpy_psi = loaded_data_non_triv_proj_rep[k[1]]\n",
    "\n",
    "    bs = bosonic_np_symmetries[k[2]]\n",
    "    fs = fermionic_np_symmetries[k[3]]\n",
    "\n",
    "    symmetry_site_pairs = (\n",
    "        [(i, bs) for i in range(left_most_symmetry_site, left_most_symmetry_site+num_symmetry_sites, 2)]\n",
    "        + [(i, fs) for i in range(left_most_symmetry_site+1, left_most_symmetry_site+num_symmetry_sites+1, 2)]\n",
    "    )\n",
    "\n",
    "    rdm = generate_rdm_from_tenpy_psi(\n",
    "        tenpy_psi,\n",
    "        symmetry_site_pairs,\n",
    "        left_most_symmetry_site,\n",
    "        num_symmetry_sites,\n",
    "        num_boundary_sites\n",
    "    )\n",
    "\n",
    "    out = get_fp_charges(\n",
    "        rdm,\n",
    "        ml,\n",
    "        mr,\n",
    "        left_most_symmetry_site,\n",
    "        num_symmetry_sites,\n",
    "        num_boundary_sites\n",
    "    )\n",
    "\n",
    "    fp_charges[k] = out"
   ]
  },
  {
   "cell_type": "code",
   "execution_count": 57,
   "id": "c98c929a-6858-4f9b-9a45-7fe06504d3b7",
   "metadata": {
    "scrolled": true
   },
   "outputs": [],
   "source": [
    "X = np.array(list(fp_charges.values()))"
   ]
  },
  {
   "cell_type": "code",
   "execution_count": 58,
   "id": "49fe50f1-4767-419a-9503-35ee51bb0c58",
   "metadata": {},
   "outputs": [
    {
     "data": {
      "text/plain": [
       "Counter({1.0: 120, -1.0: 120})"
      ]
     },
     "execution_count": 58,
     "metadata": {},
     "output_type": "execute_result"
    }
   ],
   "source": [
    "Counter(np.real(np.round(X[:, 1], 2)))"
   ]
  },
  {
   "cell_type": "code",
   "execution_count": 59,
   "id": "b794a28d-306a-4893-915f-b984d8e02886",
   "metadata": {},
   "outputs": [
    {
     "data": {
      "text/plain": [
       "Counter({1.0: 120, -1.0: 120})"
      ]
     },
     "execution_count": 59,
     "metadata": {},
     "output_type": "execute_result"
    }
   ],
   "source": [
    "Counter(np.real(np.round(X[:, 0], 2)))"
   ]
  },
  {
   "cell_type": "code",
   "execution_count": 62,
   "id": "20fe2b4f-6fbc-4a9c-b811-28a6459d677c",
   "metadata": {},
   "outputs": [
    {
     "data": {
      "text/plain": [
       "count    240.000000\n",
       "mean       0.972830\n",
       "std        0.025664\n",
       "min        0.885239\n",
       "25%        0.960699\n",
       "50%        0.982164\n",
       "75%        0.991530\n",
       "max        1.002534\n",
       "dtype: float64"
      ]
     },
     "execution_count": 62,
     "metadata": {},
     "output_type": "execute_result"
    }
   ],
   "source": [
    "pd.Series(np.abs(X[:, 2])).describe()"
   ]
  },
  {
   "cell_type": "code",
   "execution_count": 65,
   "id": "66f89036-1c32-4bf4-a01d-0ea7a3dcb91f",
   "metadata": {},
   "outputs": [
    {
     "data": {
      "text/plain": [
       "True"
      ]
     },
     "execution_count": 65,
     "metadata": {},
     "output_type": "execute_result"
    }
   ],
   "source": [
    "np.all(np.real(np.round(X[:, 1], 2)==np.real(np.round(X[:, 0], 2))))"
   ]
  },
  {
   "cell_type": "code",
   "execution_count": 71,
   "id": "a327278a-8135-484c-85a3-c142ad334f13",
   "metadata": {
    "scrolled": true
   },
   "outputs": [],
   "source": [
    "single_fp_charges = {k: np.real(np.round(v[0], 2)) for k, v in fp_charges.items()}"
   ]
  },
  {
   "cell_type": "code",
   "execution_count": 86,
   "id": "f6fe4b71-f58d-498c-bbd4-363483fec042",
   "metadata": {},
   "outputs": [],
   "source": [
    "g = groupby(single_fp_charges.items(), key=lambda x: x[0][:-1])\n",
    "single_fp_charges_deduplicated = dict()\n",
    "\n",
    "for k, v in g:\n",
    "    values = [v1[1] for v1 in v]\n",
    "    assert len(Counter(values)) == 1\n",
    "    single_fp_charges_deduplicated[k] = values[0]"
   ]
  },
  {
   "cell_type": "code",
   "execution_count": 88,
   "id": "c938c884-de69-4ead-ac7e-00ed4619102c",
   "metadata": {
    "scrolled": true
   },
   "outputs": [
    {
     "data": {
      "text/plain": [
       "{(0, 0.9, 3): 1.0,\n",
       " (1, 0.35, 2): -1.0,\n",
       " (0, 0.45, 1): -1.0,\n",
       " (1, 0.25, 1): 1.0,\n",
       " (1, 0.4, 3): -1.0,\n",
       " (1, 0.05, 2): -1.0,\n",
       " (0, 0.45, 3): -1.0,\n",
       " (1, 0.15, 1): 1.0,\n",
       " (1, 0.3, 3): -1.0,\n",
       " (1, 0.35, 3): -1.0,\n",
       " (1, 0.65, 1): -1.0,\n",
       " (1, 0.75, 2): 1.0,\n",
       " (1, 0.4, 2): -1.0,\n",
       " (1, 0.55, 1): -1.0,\n",
       " (1, 0.45, 2): -1.0,\n",
       " (1, 0.3, 2): -1.0,\n",
       " (0, 0.7, 2): 1.0,\n",
       " (0, 0.0, 2): 1.0,\n",
       " (0, 0.25, 3): -1.0,\n",
       " (1, 0.45, 1): 1.0,\n",
       " (1, 0.1, 3): -1.0,\n",
       " (1, 0.55, 2): 1.0,\n",
       " (1, 0.4, 1): 1.0,\n",
       " (0, 0.65, 3): 1.0,\n",
       " (1, 0.25, 2): -1.0,\n",
       " (0, 0.2, 1): -1.0,\n",
       " (1, 0.2, 3): -1.0,\n",
       " (1, 0.35, 1): 1.0,\n",
       " (1, 0.8, 1): -1.0,\n",
       " (0, 0.85, 1): 1.0,\n",
       " (0, 0.15, 3): -1.0,\n",
       " (0, 0.95, 2): 1.0,\n",
       " (1, 0.2, 2): -1.0,\n",
       " (1, 0.1, 2): -1.0,\n",
       " (0, 1.0, 2): 1.0,\n",
       " (0, 0.8, 3): 1.0,\n",
       " (1, 0.15, 2): -1.0,\n",
       " (0, 0.55, 3): 1.0,\n",
       " (1, 0.0, 1): 1.0,\n",
       " (1, 0.45, 3): -1.0,\n",
       " (1, 0.85, 3): -1.0,\n",
       " (0, 0.4, 1): -1.0,\n",
       " (0, 0.3, 1): -1.0,\n",
       " (1, 0.9, 1): -1.0,\n",
       " (0, 0.1, 2): 1.0,\n",
       " (0, 0.6, 2): 1.0,\n",
       " (1, 0.05, 3): -1.0,\n",
       " (1, 0.0, 3): -1.0,\n",
       " (1, 0.65, 3): -1.0,\n",
       " (1, 0.6, 2): 1.0,\n",
       " (0, 0.9, 1): 1.0,\n",
       " (1, 0.25, 3): -1.0,\n",
       " (1, 0.3, 1): 1.0,\n",
       " (0, 0.65, 1): 1.0,\n",
       " (0, 0.2, 3): -1.0,\n",
       " (0, 0.75, 2): 1.0,\n",
       " (1, 0.2, 1): 1.0,\n",
       " (1, 1.0, 2): 1.0,\n",
       " (1, 0.8, 3): -1.0,\n",
       " (1, 0.0, 2): -1.0,\n",
       " (0, 0.35, 2): 1.0,\n",
       " (0, 0.25, 1): -1.0,\n",
       " (0, 0.45, 2): 1.0,\n",
       " (0, 0.8, 1): 1.0,\n",
       " (0, 0.55, 1): 1.0,\n",
       " (0, 0.15, 1): -1.0,\n",
       " (0, 0.85, 3): 1.0,\n",
       " (0, 0.05, 2): 1.0,\n",
       " (1, 0.7, 2): 1.0,\n",
       " (1, 0.55, 3): -1.0,\n",
       " (0, 0.4, 3): -1.0,\n",
       " (1, 0.85, 1): -1.0,\n",
       " (1, 0.15, 3): -1.0,\n",
       " (0, 0.3, 3): -1.0,\n",
       " (1, 0.95, 2): 1.0,\n",
       " (1, 0.9, 3): -1.0,\n",
       " (1, 0.7, 1): -1.0,\n",
       " (0, 0.15, 2): 1.0,\n",
       " (0, 0.95, 3): 1.0,\n",
       " (0, 0.05, 1): -1.0,\n",
       " (0, 1.0, 3): 1.0,\n",
       " (0, 0.8, 2): 1.0,\n",
       " (0, 0.55, 2): 1.0,\n",
       " (1, 0.85, 2): 1.0,\n",
       " (1, 0.95, 1): -1.0,\n",
       " (0, 0.1, 3): -1.0,\n",
       " (0, 0.6, 3): 1.0,\n",
       " (0, 0.9, 2): 1.0,\n",
       " (1, 0.1, 1): 1.0,\n",
       " (1, 0.6, 1): -1.0,\n",
       " (1, 0.75, 3): -1.0,\n",
       " (0, 0.7, 3): 1.0,\n",
       " (0, 0.35, 1): -1.0,\n",
       " (0, 0.0, 3): -1.0,\n",
       " (0, 0.25, 2): 1.0,\n",
       " (1, 1.0, 1): -1.0,\n",
       " (0, 0.65, 2): 1.0,\n",
       " (0, 0.75, 1): 1.0,\n",
       " (0, 1.0, 1): 1.0,\n",
       " (1, 0.7, 3): -1.0,\n",
       " (0, 0.85, 2): 1.0,\n",
       " (0, 0.05, 3): -1.0,\n",
       " (0, 0.95, 1): 1.0,\n",
       " (0, 0.1, 1): -1.0,\n",
       " (0, 0.6, 1): 1.0,\n",
       " (1, 0.9, 2): 1.0,\n",
       " (0, 0.4, 2): 1.0,\n",
       " (0, 0.3, 2): 1.0,\n",
       " (1, 0.95, 3): -1.0,\n",
       " (1, 0.05, 1): 1.0,\n",
       " (1, 0.6, 3): -1.0,\n",
       " (1, 0.65, 2): 1.0,\n",
       " (1, 0.75, 1): -1.0,\n",
       " (1, 1.0, 3): -1.0,\n",
       " (1, 0.8, 2): 1.0,\n",
       " (0, 0.2, 2): 1.0,\n",
       " (0, 0.75, 3): 1.0,\n",
       " (0, 0.7, 1): 1.0,\n",
       " (0, 0.35, 3): -1.0,\n",
       " (0, 0.0, 1): -1.0}"
      ]
     },
     "execution_count": 88,
     "metadata": {},
     "output_type": "execute_result"
    }
   ],
   "source": [
    "single_fp_charges_deduplicated"
   ]
  },
  {
   "cell_type": "markdown",
   "id": "e066fca1-f052-4627-984f-924e2aada875",
   "metadata": {},
   "source": [
    "Pull out correct cases."
   ]
  },
  {
   "cell_type": "code",
   "execution_count": 89,
   "id": "2a60563e-8991-4473-8f36-af6940576d2f",
   "metadata": {},
   "outputs": [],
   "source": [
    "signs_to_01 = {1.0: 0, -1.0: 1}"
   ]
  },
  {
   "cell_type": "code",
   "execution_count": 93,
   "id": "87d87203-98fc-46c7-94e6-313191d2337c",
   "metadata": {},
   "outputs": [],
   "source": [
    "correct_boundary_operators = {\n",
    "    k: best_boundary_operators[(*k, signs_to_01[v])][1]\n",
    "    for k, v in single_fp_charges_deduplicated.items()\n",
    "}"
   ]
  },
  {
   "cell_type": "code",
   "execution_count": 94,
   "id": "1437ff63-8d3e-41da-b046-8b7d21916895",
   "metadata": {},
   "outputs": [
    {
     "data": {
      "text/plain": [
       "120"
      ]
     },
     "execution_count": 94,
     "metadata": {},
     "output_type": "execute_result"
    }
   ],
   "source": [
    "len(correct_boundary_operators)"
   ]
  },
  {
   "cell_type": "code",
   "execution_count": 95,
   "id": "dd207f6d-6b51-416b-a728-2f9d09696ef2",
   "metadata": {
    "scrolled": true
   },
   "outputs": [
    {
     "data": {
      "text/plain": [
       "{(0, 0.9, 3): TensorNetwork1D(tensors=12, indices=34, L=6, max_bond=6),\n",
       " (1, 0.35, 2): TensorNetwork1D(tensors=12, indices=34, L=6, max_bond=6),\n",
       " (0, 0.45, 1): TensorNetwork1D(tensors=12, indices=34, L=6, max_bond=6),\n",
       " (1, 0.25, 1): TensorNetwork1D(tensors=12, indices=34, L=6, max_bond=6),\n",
       " (1, 0.4, 3): TensorNetwork1D(tensors=12, indices=34, L=6, max_bond=6),\n",
       " (1, 0.05, 2): TensorNetwork1D(tensors=12, indices=34, L=6, max_bond=6),\n",
       " (0, 0.45, 3): TensorNetwork1D(tensors=12, indices=34, L=6, max_bond=6),\n",
       " (1, 0.15, 1): TensorNetwork1D(tensors=12, indices=34, L=6, max_bond=6),\n",
       " (1, 0.3, 3): TensorNetwork1D(tensors=12, indices=34, L=6, max_bond=6),\n",
       " (1, 0.35, 3): TensorNetwork1D(tensors=12, indices=34, L=6, max_bond=6),\n",
       " (1, 0.65, 1): TensorNetwork1D(tensors=12, indices=34, L=6, max_bond=6),\n",
       " (1, 0.75, 2): TensorNetwork1D(tensors=12, indices=34, L=6, max_bond=6),\n",
       " (1, 0.4, 2): TensorNetwork1D(tensors=12, indices=34, L=6, max_bond=6),\n",
       " (1, 0.55, 1): TensorNetwork1D(tensors=12, indices=34, L=6, max_bond=6),\n",
       " (1, 0.45, 2): TensorNetwork1D(tensors=12, indices=34, L=6, max_bond=6),\n",
       " (1, 0.3, 2): TensorNetwork1D(tensors=12, indices=34, L=6, max_bond=6),\n",
       " (0, 0.7, 2): TensorNetwork1D(tensors=12, indices=34, L=6, max_bond=6),\n",
       " (0, 0.0, 2): TensorNetwork1D(tensors=12, indices=34, L=6, max_bond=6),\n",
       " (0, 0.25, 3): TensorNetwork1D(tensors=12, indices=34, L=6, max_bond=6),\n",
       " (1, 0.45, 1): TensorNetwork1D(tensors=12, indices=34, L=6, max_bond=6),\n",
       " (1, 0.1, 3): TensorNetwork1D(tensors=12, indices=34, L=6, max_bond=6),\n",
       " (1, 0.55, 2): TensorNetwork1D(tensors=12, indices=34, L=6, max_bond=6),\n",
       " (1, 0.4, 1): TensorNetwork1D(tensors=12, indices=34, L=6, max_bond=6),\n",
       " (0, 0.65, 3): TensorNetwork1D(tensors=12, indices=34, L=6, max_bond=6),\n",
       " (1, 0.25, 2): TensorNetwork1D(tensors=12, indices=34, L=6, max_bond=6),\n",
       " (0, 0.2, 1): TensorNetwork1D(tensors=12, indices=34, L=6, max_bond=6),\n",
       " (1, 0.2, 3): TensorNetwork1D(tensors=12, indices=34, L=6, max_bond=6),\n",
       " (1, 0.35, 1): TensorNetwork1D(tensors=12, indices=34, L=6, max_bond=6),\n",
       " (1, 0.8, 1): TensorNetwork1D(tensors=12, indices=34, L=6, max_bond=6),\n",
       " (0, 0.85, 1): TensorNetwork1D(tensors=12, indices=34, L=6, max_bond=6),\n",
       " (0, 0.15, 3): TensorNetwork1D(tensors=12, indices=34, L=6, max_bond=6),\n",
       " (0, 0.95, 2): TensorNetwork1D(tensors=12, indices=34, L=6, max_bond=6),\n",
       " (1, 0.2, 2): TensorNetwork1D(tensors=12, indices=34, L=6, max_bond=6),\n",
       " (1, 0.1, 2): TensorNetwork1D(tensors=12, indices=34, L=6, max_bond=6),\n",
       " (0, 1.0, 2): TensorNetwork1D(tensors=12, indices=34, L=6, max_bond=6),\n",
       " (0, 0.8, 3): TensorNetwork1D(tensors=12, indices=34, L=6, max_bond=6),\n",
       " (1, 0.15, 2): TensorNetwork1D(tensors=12, indices=34, L=6, max_bond=6),\n",
       " (0, 0.55, 3): TensorNetwork1D(tensors=12, indices=34, L=6, max_bond=6),\n",
       " (1, 0.0, 1): TensorNetwork1D(tensors=12, indices=34, L=6, max_bond=6),\n",
       " (1, 0.45, 3): TensorNetwork1D(tensors=12, indices=34, L=6, max_bond=6),\n",
       " (1, 0.85, 3): TensorNetwork1D(tensors=12, indices=34, L=6, max_bond=6),\n",
       " (0, 0.4, 1): TensorNetwork1D(tensors=12, indices=34, L=6, max_bond=6),\n",
       " (0, 0.3, 1): TensorNetwork1D(tensors=12, indices=34, L=6, max_bond=6),\n",
       " (1, 0.9, 1): TensorNetwork1D(tensors=12, indices=34, L=6, max_bond=6),\n",
       " (0, 0.1, 2): TensorNetwork1D(tensors=12, indices=34, L=6, max_bond=6),\n",
       " (0, 0.6, 2): TensorNetwork1D(tensors=12, indices=34, L=6, max_bond=6),\n",
       " (1, 0.05, 3): TensorNetwork1D(tensors=12, indices=34, L=6, max_bond=6),\n",
       " (1, 0.0, 3): TensorNetwork1D(tensors=12, indices=34, L=6, max_bond=6),\n",
       " (1, 0.65, 3): TensorNetwork1D(tensors=12, indices=34, L=6, max_bond=6),\n",
       " (1, 0.6, 2): TensorNetwork1D(tensors=12, indices=34, L=6, max_bond=6),\n",
       " (0, 0.9, 1): TensorNetwork1D(tensors=12, indices=34, L=6, max_bond=6),\n",
       " (1, 0.25, 3): TensorNetwork1D(tensors=12, indices=34, L=6, max_bond=6),\n",
       " (1, 0.3, 1): TensorNetwork1D(tensors=12, indices=34, L=6, max_bond=6),\n",
       " (0, 0.65, 1): TensorNetwork1D(tensors=12, indices=34, L=6, max_bond=6),\n",
       " (0, 0.2, 3): TensorNetwork1D(tensors=12, indices=34, L=6, max_bond=6),\n",
       " (0, 0.75, 2): TensorNetwork1D(tensors=12, indices=34, L=6, max_bond=6),\n",
       " (1, 0.2, 1): TensorNetwork1D(tensors=12, indices=34, L=6, max_bond=6),\n",
       " (1, 1.0, 2): TensorNetwork1D(tensors=12, indices=34, L=6, max_bond=6),\n",
       " (1, 0.8, 3): TensorNetwork1D(tensors=12, indices=34, L=6, max_bond=6),\n",
       " (1, 0.0, 2): TensorNetwork1D(tensors=12, indices=34, L=6, max_bond=6),\n",
       " (0, 0.35, 2): TensorNetwork1D(tensors=12, indices=34, L=6, max_bond=6),\n",
       " (0, 0.25, 1): TensorNetwork1D(tensors=12, indices=34, L=6, max_bond=6),\n",
       " (0, 0.45, 2): TensorNetwork1D(tensors=12, indices=34, L=6, max_bond=6),\n",
       " (0, 0.8, 1): TensorNetwork1D(tensors=12, indices=34, L=6, max_bond=6),\n",
       " (0, 0.55, 1): TensorNetwork1D(tensors=12, indices=34, L=6, max_bond=6),\n",
       " (0, 0.15, 1): TensorNetwork1D(tensors=12, indices=34, L=6, max_bond=6),\n",
       " (0, 0.85, 3): TensorNetwork1D(tensors=12, indices=34, L=6, max_bond=6),\n",
       " (0, 0.05, 2): TensorNetwork1D(tensors=12, indices=34, L=6, max_bond=6),\n",
       " (1, 0.7, 2): TensorNetwork1D(tensors=12, indices=34, L=6, max_bond=6),\n",
       " (1, 0.55, 3): TensorNetwork1D(tensors=12, indices=34, L=6, max_bond=6),\n",
       " (0, 0.4, 3): TensorNetwork1D(tensors=12, indices=34, L=6, max_bond=6),\n",
       " (1, 0.85, 1): TensorNetwork1D(tensors=12, indices=34, L=6, max_bond=6),\n",
       " (1, 0.15, 3): TensorNetwork1D(tensors=12, indices=34, L=6, max_bond=6),\n",
       " (0, 0.3, 3): TensorNetwork1D(tensors=12, indices=34, L=6, max_bond=6),\n",
       " (1, 0.95, 2): TensorNetwork1D(tensors=12, indices=34, L=6, max_bond=6),\n",
       " (1, 0.9, 3): TensorNetwork1D(tensors=12, indices=34, L=6, max_bond=6),\n",
       " (1, 0.7, 1): TensorNetwork1D(tensors=12, indices=34, L=6, max_bond=6),\n",
       " (0, 0.15, 2): TensorNetwork1D(tensors=12, indices=34, L=6, max_bond=6),\n",
       " (0, 0.95, 3): TensorNetwork1D(tensors=12, indices=34, L=6, max_bond=6),\n",
       " (0, 0.05, 1): TensorNetwork1D(tensors=12, indices=34, L=6, max_bond=6),\n",
       " (0, 1.0, 3): TensorNetwork1D(tensors=12, indices=34, L=6, max_bond=6),\n",
       " (0, 0.8, 2): TensorNetwork1D(tensors=12, indices=34, L=6, max_bond=6),\n",
       " (0, 0.55, 2): TensorNetwork1D(tensors=12, indices=34, L=6, max_bond=6),\n",
       " (1, 0.85, 2): TensorNetwork1D(tensors=12, indices=34, L=6, max_bond=6),\n",
       " (1, 0.95, 1): TensorNetwork1D(tensors=12, indices=34, L=6, max_bond=6),\n",
       " (0, 0.1, 3): TensorNetwork1D(tensors=12, indices=34, L=6, max_bond=6),\n",
       " (0, 0.6, 3): TensorNetwork1D(tensors=12, indices=34, L=6, max_bond=6),\n",
       " (0, 0.9, 2): TensorNetwork1D(tensors=12, indices=34, L=6, max_bond=6),\n",
       " (1, 0.1, 1): TensorNetwork1D(tensors=12, indices=34, L=6, max_bond=6),\n",
       " (1, 0.6, 1): TensorNetwork1D(tensors=12, indices=34, L=6, max_bond=6),\n",
       " (1, 0.75, 3): TensorNetwork1D(tensors=12, indices=34, L=6, max_bond=6),\n",
       " (0, 0.7, 3): TensorNetwork1D(tensors=12, indices=34, L=6, max_bond=6),\n",
       " (0, 0.35, 1): TensorNetwork1D(tensors=12, indices=34, L=6, max_bond=6),\n",
       " (0, 0.0, 3): TensorNetwork1D(tensors=12, indices=34, L=6, max_bond=6),\n",
       " (0, 0.25, 2): TensorNetwork1D(tensors=12, indices=34, L=6, max_bond=6),\n",
       " (1, 1.0, 1): TensorNetwork1D(tensors=12, indices=34, L=6, max_bond=6),\n",
       " (0, 0.65, 2): TensorNetwork1D(tensors=12, indices=34, L=6, max_bond=6),\n",
       " (0, 0.75, 1): TensorNetwork1D(tensors=12, indices=34, L=6, max_bond=6),\n",
       " (0, 1.0, 1): TensorNetwork1D(tensors=12, indices=34, L=6, max_bond=6),\n",
       " (1, 0.7, 3): TensorNetwork1D(tensors=12, indices=34, L=6, max_bond=6),\n",
       " (0, 0.85, 2): TensorNetwork1D(tensors=12, indices=34, L=6, max_bond=6),\n",
       " (0, 0.05, 3): TensorNetwork1D(tensors=12, indices=34, L=6, max_bond=6),\n",
       " (0, 0.95, 1): TensorNetwork1D(tensors=12, indices=34, L=6, max_bond=6),\n",
       " (0, 0.1, 1): TensorNetwork1D(tensors=12, indices=34, L=6, max_bond=6),\n",
       " (0, 0.6, 1): TensorNetwork1D(tensors=12, indices=34, L=6, max_bond=6),\n",
       " (1, 0.9, 2): TensorNetwork1D(tensors=12, indices=34, L=6, max_bond=6),\n",
       " (0, 0.4, 2): TensorNetwork1D(tensors=12, indices=34, L=6, max_bond=6),\n",
       " (0, 0.3, 2): TensorNetwork1D(tensors=12, indices=34, L=6, max_bond=6),\n",
       " (1, 0.95, 3): TensorNetwork1D(tensors=12, indices=34, L=6, max_bond=6),\n",
       " (1, 0.05, 1): TensorNetwork1D(tensors=12, indices=34, L=6, max_bond=6),\n",
       " (1, 0.6, 3): TensorNetwork1D(tensors=12, indices=34, L=6, max_bond=6),\n",
       " (1, 0.65, 2): TensorNetwork1D(tensors=12, indices=34, L=6, max_bond=6),\n",
       " (1, 0.75, 1): TensorNetwork1D(tensors=12, indices=34, L=6, max_bond=6),\n",
       " (1, 1.0, 3): TensorNetwork1D(tensors=12, indices=34, L=6, max_bond=6),\n",
       " (1, 0.8, 2): TensorNetwork1D(tensors=12, indices=34, L=6, max_bond=6),\n",
       " (0, 0.2, 2): TensorNetwork1D(tensors=12, indices=34, L=6, max_bond=6),\n",
       " (0, 0.75, 3): TensorNetwork1D(tensors=12, indices=34, L=6, max_bond=6),\n",
       " (0, 0.7, 1): TensorNetwork1D(tensors=12, indices=34, L=6, max_bond=6),\n",
       " (0, 0.35, 3): TensorNetwork1D(tensors=12, indices=34, L=6, max_bond=6),\n",
       " (0, 0.0, 1): TensorNetwork1D(tensors=12, indices=34, L=6, max_bond=6)}"
      ]
     },
     "execution_count": 95,
     "metadata": {},
     "output_type": "execute_result"
    }
   ],
   "source": [
    "correct_boundary_operators"
   ]
  },
  {
   "cell_type": "markdown",
   "id": "37e63b05-2d2f-4ae3-8bf4-7754d5a5b38b",
   "metadata": {},
   "source": [
    "## Proj rep group cohomology\n"
   ]
  },
  {
   "cell_type": "markdown",
   "id": "d3482ae3-18bf-4b3e-83d9-66ce61dffe7f",
   "metadata": {},
   "source": [
    "### Group data definitions"
   ]
  },
  {
   "cell_type": "code",
   "execution_count": 137,
   "id": "10721838-5776-4da8-9618-01dd30494f13",
   "metadata": {},
   "outputs": [],
   "source": [
    "symmetry_labels = [\n",
    "    'II',\n",
    "    'IX',\n",
    "    'XI',\n",
    "    'XX'\n",
    "]"
   ]
  },
  {
   "cell_type": "code",
   "execution_count": 138,
   "id": "d1cd215b-c62c-405e-9adc-9a97db7142e2",
   "metadata": {},
   "outputs": [],
   "source": [
    "symmetry_combination_labels = list(combinations(symmetry_labels, 2))"
   ]
  },
  {
   "cell_type": "code",
   "execution_count": 139,
   "id": "45a081ff-eb82-4ff5-9700-55f11824f366",
   "metadata": {},
   "outputs": [
    {
     "data": {
      "text/plain": [
       "[('II', 'IX'),\n",
       " ('II', 'XI'),\n",
       " ('II', 'XX'),\n",
       " ('IX', 'XI'),\n",
       " ('IX', 'XX'),\n",
       " ('XI', 'XX')]"
      ]
     },
     "execution_count": 139,
     "metadata": {},
     "output_type": "execute_result"
    }
   ],
   "source": [
    "symmetry_combination_labels"
   ]
  },
  {
   "cell_type": "code",
   "execution_count": 140,
   "id": "aab20cf0-ae51-4603-9192-5ba0741b6a6d",
   "metadata": {},
   "outputs": [],
   "source": [
    "e, a, b, c = symmetry_labels"
   ]
  },
  {
   "cell_type": "code",
   "execution_count": 141,
   "id": "955bfb99-9c73-4794-b14e-f62f7872abe5",
   "metadata": {},
   "outputs": [],
   "source": [
    "group_products = [\n",
    "    (a, b, c),\n",
    "    (b, a, c),\n",
    "    (a, c, b),\n",
    "    (c, a, b),\n",
    "    (c, b, a),\n",
    "    (b, c, a)\n",
    "]"
   ]
  },
  {
   "cell_type": "markdown",
   "id": "86b3d120-3883-4796-9ca0-a0d79f569c2b",
   "metadata": {},
   "source": [
    "### Evaluate"
   ]
  },
  {
   "cell_type": "code",
   "execution_count": 142,
   "id": "28098611-5f3f-4c68-8d8d-5d9897d4163c",
   "metadata": {},
   "outputs": [],
   "source": [
    "def tensor_network_to_mpo(tn):\n",
    "    mpo = qtn.MatrixProductOperator(\n",
    "        [t.data for t in ml.tensors],\n",
    "        sites=sites\n",
    "    )\n",
    "\n",
    "    return mpo"
   ]
  },
  {
   "cell_type": "code",
   "execution_count": 149,
   "id": "ea794053-4be3-47a8-b1be-d16336c929c5",
   "metadata": {},
   "outputs": [],
   "source": [
    "def get_proj_rep_phase(rho, u_g, u_h, u_gh):\n",
    "    t = (\n",
    "        rho\n",
    "        ._apply_mpo(qu.dag(u_g), compress=False, contract=False)\n",
    "        ._apply_mpo(qu.dag(u_h), compress=False, contract=False)\n",
    "        ._apply_mpo(u_gh, compress=False, contract=False)\n",
    "    )\n",
    "\n",
    "    out = t.trace()\n",
    "\n",
    "    return out/(np.abs(out))"
   ]
  },
  {
   "cell_type": "code",
   "execution_count": 150,
   "id": "a95c9ed1-bd73-4ee5-b175-a97dbbdd2b77",
   "metadata": {},
   "outputs": [],
   "source": [
    "def get_quimb_mps_from_tenpy_mps(tenpy_mps):\n",
    "    psi_arrays = list()\n",
    "    psi_arrays.append(tenpy_mps.get_B(0, 'Th')[0, ...].to_ndarray())\n",
    "    for i in range(1, tenpy_mps.L-1):\n",
    "        psi_arrays.append(tenpy_mps.get_B(i).to_ndarray())\n",
    "    psi_arrays.append(tenpy_mps.get_B(tenpy_mps.L-1)[..., 0].to_ndarray())\n",
    "    \n",
    "    quimb_mps = (\n",
    "        qtn\n",
    "        .tensor_1d\n",
    "        .MatrixProductState(psi_arrays, shape='lpr')\n",
    "    )\n",
    "\n",
    "    return quimb_mps"
   ]
  },
  {
   "cell_type": "code",
   "execution_count": null,
   "id": "a3ccc815-8ea8-4fb4-a8d4-90f08769edc7",
   "metadata": {},
   "outputs": [],
   "source": [
    "def get_proj_rep_phases(tenpy_mps, unitaries):\n",
    "    quimb_mps = get_quimb_mps_from_tenpy_mps(tenpy_mps)\n",
    "\n",
    "    \n",
    "    out = list()\n",
    "\n",
    "    for a, b, c in group_products:\n",
    "        get_proj_rep_phase(\n",
    "            rho,\n",
    "            u_g,\n",
    "            u_h,\n",
    "            u_gh\n",
    "        )"
   ]
  },
  {
   "cell_type": "code",
   "execution_count": 97,
   "id": "c4193051-77dc-49d2-8486-7d5d3de8c62a",
   "metadata": {},
   "outputs": [],
   "source": [
    "ml, mr = split_mpo_pair(correct_boundary_operators[(0, 0, 1)])"
   ]
  },
  {
   "cell_type": "code",
   "execution_count": 98,
   "id": "49b333b9-3972-40db-9ca8-4cd57fccb83f",
   "metadata": {},
   "outputs": [
    {
     "data": {
      "text/html": [
       "<samp style='font-size: 12px;'><details><summary><b style=\"color: #3645cd;\">TensorNetwork</b>(tensors=6, indices=17)</summary><samp style='font-size: 12px;'><details><summary><b style=\"color: #e55471;\">Tensor</b>(shape=(<b style=\"color: #a4de79;\">6</b>, <b style=\"color: #80d749;\">4</b>, <b style=\"color: #80d749;\">4</b>), inds=[<b style=\"color: #8681d1;\">_280a62AANet</b>, <b style=\"color: #8ce1b5;\">k54</b>, <b style=\"color: #4bd8ba;\">b54</b>], tags={<b style=\"color: #bf7fcf;\">left_mpo</b>, <b style=\"color: #ddca3e;\">I54</b>}),</summary>backend=<b style=\"color: #7fdd73;\">numpy</b>, dtype=<b style=\"color: #df4573;\">complex64</b>, data=array([[[-0.34130841-0.15417299j, -0.18853189-0.12135055j,\n",
       "         -0.06515123-0.15357304j,  0.04660599+0.10051818j],\n",
       "        [ 0.00734749-0.2621603j , -0.07225996+0.3438417j ,\n",
       "         -0.03359551-0.08454569j, -0.02395569+0.2271011j ],\n",
       "        [-0.10040773-0.00640603j,  0.20176607-0.0348755j ,\n",
       "         -0.34475008-0.36733624j, -0.15208368+0.1998163j ],\n",
       "        [-0.17598596+0.2777107j ,  0.14469427-0.34007442j,\n",
       "          0.08856647-0.03805454j, -0.05824345+0.3964488j ]],\n",
       "\n",
       "       [[ 0.02359664-0.40509063j, -0.17914714+0.10900667j,\n",
       "         -0.06064732-0.1713871j ,  0.1406104 -0.07605691j],\n",
       "        [ 0.05425786+0.08783466j, -0.08085056+0.3256266j ,\n",
       "         -0.37600207-0.00292596j,  0.35426208+0.2717585j ],\n",
       "        [-0.14167339+0.00409224j, -0.01298795+0.06873664j,\n",
       "         -0.1762688 -0.14029284j,  0.14560637+0.09276488j],\n",
       "        [ 0.07436892+0.03640603j, -0.25401846-0.1389342j ,\n",
       "          0.14349991-0.04116145j, -0.07455748+0.39854056j]],\n",
       "\n",
       "       [[-0.17493671+0.01440503j,  0.3123052 +0.11885796j,\n",
       "         -0.02322802+0.1326593j , -0.29597467+0.05537337j],\n",
       "        [-0.07388777-0.07222173j,  0.29934925-0.11354671j,\n",
       "          0.39492473+0.17370148j,  0.24868153-0.28350472j],\n",
       "        [-0.2548974 +0.33006266j, -0.11859459+0.06949349j,\n",
       "         -0.02526858+0.13721399j, -0.06731912-0.24273598j],\n",
       "        [ 0.0724185 +0.16147664j,  0.38844442+0.1669023j ,\n",
       "         -0.2433653 -0.25286523j,  0.2751587 -0.19306979j]],\n",
       "\n",
       "       [[ 0.16544797+0.29655692j, -0.0255622 +0.22198358j,\n",
       "          0.32503384+0.01054828j, -0.03272221-0.08768223j],\n",
       "        [-0.10234852+0.27135128j,  0.15117513-0.30798504j,\n",
       "          0.13760078-0.18291476j,  0.2849006 +0.02199911j],\n",
       "        [ 0.31632486+0.08314236j, -0.04046004-0.17087394j,\n",
       "          0.19398741+0.4609097j ,  0.05791562+0.05212039j],\n",
       "        [ 0.2086745 -0.1972171j , -0.07077035+0.136281j  ,\n",
       "         -0.12750287+0.18594076j,  0.18836305-0.36167493j]],\n",
       "\n",
       "       [[-0.02395555+0.01273992j, -0.31166622+0.05780432j,\n",
       "          0.05069634+0.00949522j,  0.12522057+0.08865139j],\n",
       "        [-0.05179473-0.03987288j,  0.437402  +0.07988869j,\n",
       "          0.03720242-0.20385349j,  0.35644314+0.03292871j],\n",
       "        [ 0.07640447-0.19398272j,  0.11264838-0.28854015j,\n",
       "         -0.24632761-0.17800717j, -0.16602947+0.16648735j],\n",
       "        [-0.16040507+0.10383281j,  0.3808195 -0.24326369j,\n",
       "          0.2696249 -0.01355456j,  0.44972217-0.05146115j]],\n",
       "\n",
       "       [[ 0.13471225-0.2856946j , -0.45198068-0.06292115j,\n",
       "          0.2067556 +0.31487352j,  0.37627423-0.03386873j],\n",
       "        [-0.00175766+0.30721644j,  0.37087888+0.05939977j,\n",
       "         -0.0865972 -0.0387154j ,  0.50358063+0.13911875j],\n",
       "        [ 0.20517933+0.19666713j,  0.3029267 +0.22878613j,\n",
       "         -0.0285389 -0.06221762j, -0.26020694-0.14117783j],\n",
       "        [ 0.19392505-0.2748679j ,  0.04295176+0.02969501j,\n",
       "         -0.00316161+0.11057175j,  0.38259262+0.1143657j ]]],\n",
       "      dtype=complex64)</details></samp><samp style='font-size: 12px;'><details><summary><b style=\"color: #e55471;\">Tensor</b>(shape=(<b style=\"color: #a4de79;\">6</b>, <b style=\"color: #a4de79;\">6</b>, <b style=\"color: #828fdd;\">2</b>, <b style=\"color: #828fdd;\">2</b>), inds=[<b style=\"color: #8681d1;\">_280a62AANet</b>, <b style=\"color: #9d87ce;\">_280a62AANeu</b>, <b style=\"color: #2dcadd;\">k55</b>, <b style=\"color: #d1b53f;\">b55</b>], tags={<b style=\"color: #bf7fcf;\">left_mpo</b>, <b style=\"color: #a6d86a;\">I55</b>}),</summary>backend=<b style=\"color: #7fdd73;\">numpy</b>, dtype=<b style=\"color: #df4573;\">complex64</b>, data=...</details></samp><samp style='font-size: 12px;'><details><summary><b style=\"color: #e55471;\">Tensor</b>(shape=(<b style=\"color: #a4de79;\">6</b>, <b style=\"color: #a4de79;\">6</b>, <b style=\"color: #80d749;\">4</b>, <b style=\"color: #80d749;\">4</b>), inds=[<b style=\"color: #9d87ce;\">_280a62AANeu</b>, <b style=\"color: #584dd8;\">_280a62AANev</b>, <b style=\"color: #cacf6a;\">k56</b>, <b style=\"color: #d89bde;\">b56</b>], tags={<b style=\"color: #bf7fcf;\">left_mpo</b>, <b style=\"color: #e236e1;\">I56</b>}),</summary>backend=<b style=\"color: #7fdd73;\">numpy</b>, dtype=<b style=\"color: #df4573;\">complex64</b>, data=...</details></samp><samp style='font-size: 12px;'><details><summary><b style=\"color: #e55471;\">Tensor</b>(shape=(<b style=\"color: #a4de79;\">6</b>, <b style=\"color: #a4de79;\">6</b>, <b style=\"color: #828fdd;\">2</b>, <b style=\"color: #828fdd;\">2</b>), inds=[<b style=\"color: #584dd8;\">_280a62AANev</b>, <b style=\"color: #9dd7e4;\">_280a62AANew</b>, <b style=\"color: #cda663;\">k57</b>, <b style=\"color: #a3d57a;\">b57</b>], tags={<b style=\"color: #bf7fcf;\">left_mpo</b>, <b style=\"color: #e37956;\">I57</b>}),</summary>backend=<b style=\"color: #7fdd73;\">numpy</b>, dtype=<b style=\"color: #df4573;\">complex64</b>, data=...</details></samp><samp style='font-size: 12px;'><details><summary><b style=\"color: #e55471;\">Tensor</b>(shape=(<b style=\"color: #a4de79;\">6</b>, <b style=\"color: #a4de79;\">6</b>, <b style=\"color: #80d749;\">4</b>, <b style=\"color: #80d749;\">4</b>), inds=[<b style=\"color: #9dd7e4;\">_280a62AANew</b>, <b style=\"color: #b132da;\">_280a62AANex</b>, <b style=\"color: #75bbcd;\">k58</b>, <b style=\"color: #bc3fd5;\">b58</b>], tags={<b style=\"color: #bf7fcf;\">left_mpo</b>, <b style=\"color: #dc85c6;\">I58</b>}),</summary>backend=<b style=\"color: #7fdd73;\">numpy</b>, dtype=<b style=\"color: #df4573;\">complex64</b>, data=...</details></samp><samp style='font-size: 12px;'><details><summary><b style=\"color: #e55471;\">Tensor</b>(shape=(<b style=\"color: #a4de79;\">6</b>, <b style=\"color: #828fdd;\">2</b>, <b style=\"color: #828fdd;\">2</b>), inds=[<b style=\"color: #b132da;\">_280a62AANex</b>, <b style=\"color: #93e0a6;\">k59</b>, <b style=\"color: #49e1a6;\">b59</b>], tags={<b style=\"color: #bf7fcf;\">left_mpo</b>, <b style=\"color: #8be043;\">I59</b>}),</summary>backend=<b style=\"color: #7fdd73;\">numpy</b>, dtype=<b style=\"color: #df4573;\">complex64</b>, data=array([[[ 0.2342439 -0.20413142j, -0.06081147+0.18627584j],\n",
       "        [-0.19488518-0.51967496j,  0.24661995-0.18866472j]],\n",
       "\n",
       "       [[-0.18694   +0.0240442j , -0.22207625+0.07879357j],\n",
       "        [ 0.24456614+0.18853344j, -0.18796565+0.01188645j]],\n",
       "\n",
       "       [[ 0.09917755+0.16460806j, -0.14533383-0.33001247j],\n",
       "        [ 0.36483538+0.21120848j,  0.08863431+0.1705435j ]],\n",
       "\n",
       "       [[ 0.04763822+0.3410803j ,  0.00894422+0.01272977j],\n",
       "        [ 0.46299902-0.05386299j,  0.02565056+0.34331745j]],\n",
       "\n",
       "       [[ 0.07222621-0.11883402j, -0.16684142-0.30056387j],\n",
       "        [-0.00338976+0.19931248j,  0.07979791-0.11393555j]],\n",
       "\n",
       "       [[ 0.1291445 -0.06552991j, -0.38231048-0.20365076j],\n",
       "        [ 0.29290983+0.03709648j,  0.13309607-0.05730874j]]],\n",
       "      dtype=complex64)</details></samp></details></samp>"
      ],
      "text/plain": [
       "TensorNetwork(tensors=6, indices=17)"
      ]
     },
     "execution_count": 98,
     "metadata": {},
     "output_type": "execute_result"
    }
   ],
   "source": [
    "ml"
   ]
  },
  {
   "cell_type": "code",
   "execution_count": 99,
   "id": "dea02b3c-44b6-4489-ab49-c0bb0dc28fce",
   "metadata": {},
   "outputs": [
    {
     "data": {
      "text/html": [
       "<samp style='font-size: 12px;'><details><summary><b style=\"color: #3645cd;\">TensorNetwork</b>(tensors=6, indices=17)</summary><samp style='font-size: 12px;'><details><summary><b style=\"color: #e55471;\">Tensor</b>(shape=(<b style=\"color: #a4de79;\">6</b>, <b style=\"color: #80d749;\">4</b>, <b style=\"color: #80d749;\">4</b>), inds=[<b style=\"color: #30d0ce;\">_280a62AANfE</b>, <b style=\"color: #d38653;\">k140</b>, <b style=\"color: #e3b67e;\">b140</b>], tags={<b style=\"color: #df2d78;\">right_mpo</b>, <b style=\"color: #66d449;\">I140</b>}),</summary>backend=<b style=\"color: #7fdd73;\">numpy</b>, dtype=<b style=\"color: #df4573;\">complex64</b>, data=array([[[-0.04209999+0.02812525j, -0.13634236+0.16837497j,\n",
       "          0.224234  -0.08807196j, -0.15386115+0.4396198j ],\n",
       "        [-0.04499539-0.36708933j, -0.21800655+0.20174308j,\n",
       "         -0.00145384-0.29840988j,  0.19303508-0.05733153j],\n",
       "        [-0.16568156-0.04817499j, -0.07964661+0.27203733j,\n",
       "          0.24015982+0.17193495j, -0.29605946+0.17975707j],\n",
       "        [-0.22144102-0.3664647j , -0.07379068+0.02793343j,\n",
       "         -0.38985333+0.00807328j, -0.26334143+0.10864593j]],\n",
       "\n",
       "       [[ 0.11952459+0.02217404j, -0.09287481-0.16772848j,\n",
       "          0.14484386-0.23973262j,  0.14311776+0.18514447j],\n",
       "        [ 0.22361806-0.07058171j,  0.0871665 -0.01159028j,\n",
       "          0.33578888-0.11582449j,  0.25948554-0.0160723j ],\n",
       "        [ 0.01510375+0.04858425j, -0.18319683+0.06057144j,\n",
       "          0.19121027-0.01422462j, -0.0430443 +0.11587741j],\n",
       "        [ 0.51815027-0.21757142j, -0.13493064-0.01593896j,\n",
       "          0.07333738-0.16684377j, -0.20340998+0.2160373j ]],\n",
       "\n",
       "       [[-0.03886271+0.13302384j, -0.16510984+0.02568999j,\n",
       "          0.302383  -0.29870242j,  0.4588497 +0.42136234j],\n",
       "        [-0.00761103+0.19545056j,  0.18853398-0.18221787j,\n",
       "         -0.36083773+0.08764039j,  0.26752952+0.31476322j],\n",
       "        [ 0.09295501+0.00947697j,  0.09033421+0.23261945j,\n",
       "          0.11909741+0.11290437j, -0.22298996+0.26174137j],\n",
       "        [-0.00869126-0.03459381j, -0.07250989+0.03424646j,\n",
       "          0.05362615+0.01516256j, -0.22268933-0.07639424j]],\n",
       "\n",
       "       [[ 0.27597266+0.03550928j,  0.04960543+0.20550464j,\n",
       "         -0.02360498+0.07228214j,  0.11560421-0.2165531j ],\n",
       "        [ 0.15948236-0.3902034j , -0.13279496+0.0511741j ,\n",
       "         -0.17136301-0.01562241j,  0.061959  +0.19652756j],\n",
       "        [-0.24492721-0.10753468j,  0.3395881 -0.41212088j,\n",
       "          0.36598018+0.26336706j,  0.12487412+0.18936975j],\n",
       "        [-0.37157205-0.10559972j, -0.1258735 +0.04968532j,\n",
       "         -0.10986633-0.37055305j, -0.22926944-0.10599206j]],\n",
       "\n",
       "       [[ 0.01152888-0.26120335j,  0.16488226-0.1587218j ,\n",
       "          0.13716494-0.04543645j,  0.21436098-0.37927994j],\n",
       "        [-0.15013239-0.18134904j,  0.01162211-0.02813938j,\n",
       "         -0.3393194 +0.4188741j ,  0.28134462-0.09889225j],\n",
       "        [-0.09839439+0.25702584j, -0.14430916-0.4636513j ,\n",
       "          0.19178316-0.27839595j,  0.05624821-0.03620262j],\n",
       "        [-0.28835413+0.33666092j, -0.09499003+0.08714518j,\n",
       "         -0.44869903-0.03990396j, -0.12437059+0.21130455j]],\n",
       "\n",
       "       [[-0.20986772+0.0921524j , -0.27145228+0.15559953j,\n",
       "         -0.11231294-0.18271755j,  0.10887235-0.17927529j],\n",
       "        [ 0.08429544-0.15417565j, -0.06299116-0.08423939j,\n",
       "          0.02393525-0.14702183j, -0.26854387-0.25930783j],\n",
       "        [ 0.22523779-0.04163427j,  0.12876804+0.27890015j,\n",
       "         -0.31549197-0.04167248j, -0.11264091+0.3112912j ],\n",
       "        [-0.03966938-0.3102473j , -0.02790711+0.19525594j,\n",
       "          0.12495946+0.22019163j,  0.30537   +0.03659807j]]],\n",
       "      dtype=complex64)</details></samp><samp style='font-size: 12px;'><details><summary><b style=\"color: #e55471;\">Tensor</b>(shape=(<b style=\"color: #a4de79;\">6</b>, <b style=\"color: #a4de79;\">6</b>, <b style=\"color: #828fdd;\">2</b>, <b style=\"color: #828fdd;\">2</b>), inds=[<b style=\"color: #30d0ce;\">_280a62AANfE</b>, <b style=\"color: #89dd87;\">_280a62AANfF</b>, <b style=\"color: #30d244;\">k141</b>, <b style=\"color: #74e4df;\">b141</b>], tags={<b style=\"color: #df2d78;\">right_mpo</b>, <b style=\"color: #81d771;\">I141</b>}),</summary>backend=<b style=\"color: #7fdd73;\">numpy</b>, dtype=<b style=\"color: #df4573;\">complex64</b>, data=...</details></samp><samp style='font-size: 12px;'><details><summary><b style=\"color: #e55471;\">Tensor</b>(shape=(<b style=\"color: #a4de79;\">6</b>, <b style=\"color: #a4de79;\">6</b>, <b style=\"color: #80d749;\">4</b>, <b style=\"color: #80d749;\">4</b>), inds=[<b style=\"color: #89dd87;\">_280a62AANfF</b>, <b style=\"color: #b087cf;\">_280a62AANfG</b>, <b style=\"color: #df86e1;\">k142</b>, <b style=\"color: #4bd3c3;\">b142</b>], tags={<b style=\"color: #df2d78;\">right_mpo</b>, <b style=\"color: #e47491;\">I142</b>}),</summary>backend=<b style=\"color: #7fdd73;\">numpy</b>, dtype=<b style=\"color: #df4573;\">complex64</b>, data=...</details></samp><samp style='font-size: 12px;'><details><summary><b style=\"color: #e55471;\">Tensor</b>(shape=(<b style=\"color: #a4de79;\">6</b>, <b style=\"color: #a4de79;\">6</b>, <b style=\"color: #828fdd;\">2</b>, <b style=\"color: #828fdd;\">2</b>), inds=[<b style=\"color: #b087cf;\">_280a62AANfG</b>, <b style=\"color: #54d562;\">_280a62AANfH</b>, <b style=\"color: #6ad83b;\">k143</b>, <b style=\"color: #d8c96a;\">b143</b>], tags={<b style=\"color: #df2d78;\">right_mpo</b>, <b style=\"color: #b03ae3;\">I143</b>}),</summary>backend=<b style=\"color: #7fdd73;\">numpy</b>, dtype=<b style=\"color: #df4573;\">complex64</b>, data=...</details></samp><samp style='font-size: 12px;'><details><summary><b style=\"color: #e55471;\">Tensor</b>(shape=(<b style=\"color: #a4de79;\">6</b>, <b style=\"color: #a4de79;\">6</b>, <b style=\"color: #80d749;\">4</b>, <b style=\"color: #80d749;\">4</b>), inds=[<b style=\"color: #54d562;\">_280a62AANfH</b>, <b style=\"color: #d29c91;\">_280a62AANfI</b>, <b style=\"color: #6681d6;\">k144</b>, <b style=\"color: #4dc5e1;\">b144</b>], tags={<b style=\"color: #df2d78;\">right_mpo</b>, <b style=\"color: #5840d3;\">I144</b>}),</summary>backend=<b style=\"color: #7fdd73;\">numpy</b>, dtype=<b style=\"color: #df4573;\">complex64</b>, data=...</details></samp><samp style='font-size: 12px;'><details><summary><b style=\"color: #e55471;\">Tensor</b>(shape=(<b style=\"color: #a4de79;\">6</b>, <b style=\"color: #828fdd;\">2</b>, <b style=\"color: #828fdd;\">2</b>), inds=[<b style=\"color: #d29c91;\">_280a62AANfI</b>, <b style=\"color: #dd9d71;\">k145</b>, <b style=\"color: #ce2dc2;\">b145</b>], tags={<b style=\"color: #df2d78;\">right_mpo</b>, <b style=\"color: #67d573;\">I145</b>}),</summary>backend=<b style=\"color: #7fdd73;\">numpy</b>, dtype=<b style=\"color: #df4573;\">complex64</b>, data=array([[[ 0.01812674-0.12440629j, -0.48509032-0.02254573j],\n",
       "        [-0.5054546 +0.04984315j,  0.00386056-0.12800968j]],\n",
       "\n",
       "       [[ 0.08697573+0.11456183j,  0.16302337-0.3022109j ],\n",
       "        [ 0.10143621-0.43685952j,  0.11138144+0.10252502j]],\n",
       "\n",
       "       [[ 0.10394342+0.00333412j, -0.1460865 -0.5144033j ],\n",
       "        [-0.17985176-0.5537928j ,  0.11050861-0.00418502j]],\n",
       "\n",
       "       [[-0.06777372-0.10525628j, -0.39654478+0.20688783j],\n",
       "        [-0.34157136+0.27006832j, -0.0800126 -0.09476805j]],\n",
       "\n",
       "       [[-0.05819001+0.03413382j,  0.18200448+0.07038128j],\n",
       "        [ 0.2536642 +0.06146686j, -0.05599966+0.04710294j]],\n",
       "\n",
       "       [[-0.06533183+0.05195908j, -0.22041394+0.21641754j],\n",
       "        [-0.17452165+0.0813532j , -0.04174761+0.06057073j]]],\n",
       "      dtype=complex64)</details></samp></details></samp>"
      ],
      "text/plain": [
       "TensorNetwork(tensors=6, indices=17)"
      ]
     },
     "execution_count": 99,
     "metadata": {},
     "output_type": "execute_result"
    }
   ],
   "source": [
    "mr"
   ]
  },
  {
   "cell_type": "code",
   "execution_count": 114,
   "id": "a38e1f0f-9146-4f07-968d-1e44279a0e1d",
   "metadata": {},
   "outputs": [
    {
     "data": {
      "text/html": [
       "<samp style='font-size: 12px;'><details><summary><b style=\"color: #b4d24a;\">MatrixProductOperator</b>(tensors=6, indices=17, L=60, max_bond=6)</summary><samp style='font-size: 12px;'><details><summary><b style=\"color: #e55471;\">Tensor</b>(shape=(<b style=\"color: #a4de79;\">6</b>, <b style=\"color: #80d749;\">4</b>, <b style=\"color: #80d749;\">4</b>), inds=[<b style=\"color: #c238d6;\">_c46f2eAArLt</b>, <b style=\"color: #8ce1b5;\">k54</b>, <b style=\"color: #4bd8ba;\">b54</b>], tags={<b style=\"color: #ddca3e;\">I54</b>}),</summary>backend=<b style=\"color: #7fdd73;\">numpy</b>, dtype=<b style=\"color: #df4573;\">complex64</b>, data=array([[[-0.34130841-0.15417299j, -0.18853189-0.12135055j,\n",
       "         -0.06515123-0.15357304j,  0.04660599+0.10051818j],\n",
       "        [ 0.00734749-0.2621603j , -0.07225996+0.3438417j ,\n",
       "         -0.03359551-0.08454569j, -0.02395569+0.2271011j ],\n",
       "        [-0.10040773-0.00640603j,  0.20176607-0.0348755j ,\n",
       "         -0.34475008-0.36733624j, -0.15208368+0.1998163j ],\n",
       "        [-0.17598596+0.2777107j ,  0.14469427-0.34007442j,\n",
       "          0.08856647-0.03805454j, -0.05824345+0.3964488j ]],\n",
       "\n",
       "       [[ 0.02359664-0.40509063j, -0.17914714+0.10900667j,\n",
       "         -0.06064732-0.1713871j ,  0.1406104 -0.07605691j],\n",
       "        [ 0.05425786+0.08783466j, -0.08085056+0.3256266j ,\n",
       "         -0.37600207-0.00292596j,  0.35426208+0.2717585j ],\n",
       "        [-0.14167339+0.00409224j, -0.01298795+0.06873664j,\n",
       "         -0.1762688 -0.14029284j,  0.14560637+0.09276488j],\n",
       "        [ 0.07436892+0.03640603j, -0.25401846-0.1389342j ,\n",
       "          0.14349991-0.04116145j, -0.07455748+0.39854056j]],\n",
       "\n",
       "       [[-0.17493671+0.01440503j,  0.3123052 +0.11885796j,\n",
       "         -0.02322802+0.1326593j , -0.29597467+0.05537337j],\n",
       "        [-0.07388777-0.07222173j,  0.29934925-0.11354671j,\n",
       "          0.39492473+0.17370148j,  0.24868153-0.28350472j],\n",
       "        [-0.2548974 +0.33006266j, -0.11859459+0.06949349j,\n",
       "         -0.02526858+0.13721399j, -0.06731912-0.24273598j],\n",
       "        [ 0.0724185 +0.16147664j,  0.38844442+0.1669023j ,\n",
       "         -0.2433653 -0.25286523j,  0.2751587 -0.19306979j]],\n",
       "\n",
       "       [[ 0.16544797+0.29655692j, -0.0255622 +0.22198358j,\n",
       "          0.32503384+0.01054828j, -0.03272221-0.08768223j],\n",
       "        [-0.10234852+0.27135128j,  0.15117513-0.30798504j,\n",
       "          0.13760078-0.18291476j,  0.2849006 +0.02199911j],\n",
       "        [ 0.31632486+0.08314236j, -0.04046004-0.17087394j,\n",
       "          0.19398741+0.4609097j ,  0.05791562+0.05212039j],\n",
       "        [ 0.2086745 -0.1972171j , -0.07077035+0.136281j  ,\n",
       "         -0.12750287+0.18594076j,  0.18836305-0.36167493j]],\n",
       "\n",
       "       [[-0.02395555+0.01273992j, -0.31166622+0.05780432j,\n",
       "          0.05069634+0.00949522j,  0.12522057+0.08865139j],\n",
       "        [-0.05179473-0.03987288j,  0.437402  +0.07988869j,\n",
       "          0.03720242-0.20385349j,  0.35644314+0.03292871j],\n",
       "        [ 0.07640447-0.19398272j,  0.11264838-0.28854015j,\n",
       "         -0.24632761-0.17800717j, -0.16602947+0.16648735j],\n",
       "        [-0.16040507+0.10383281j,  0.3808195 -0.24326369j,\n",
       "          0.2696249 -0.01355456j,  0.44972217-0.05146115j]],\n",
       "\n",
       "       [[ 0.13471225-0.2856946j , -0.45198068-0.06292115j,\n",
       "          0.2067556 +0.31487352j,  0.37627423-0.03386873j],\n",
       "        [-0.00175766+0.30721644j,  0.37087888+0.05939977j,\n",
       "         -0.0865972 -0.0387154j ,  0.50358063+0.13911875j],\n",
       "        [ 0.20517933+0.19666713j,  0.3029267 +0.22878613j,\n",
       "         -0.0285389 -0.06221762j, -0.26020694-0.14117783j],\n",
       "        [ 0.19392505-0.2748679j ,  0.04295176+0.02969501j,\n",
       "         -0.00316161+0.11057175j,  0.38259262+0.1143657j ]]],\n",
       "      dtype=complex64)</details></samp><samp style='font-size: 12px;'><details><summary><b style=\"color: #e55471;\">Tensor</b>(shape=(<b style=\"color: #a4de79;\">6</b>, <b style=\"color: #a4de79;\">6</b>, <b style=\"color: #828fdd;\">2</b>, <b style=\"color: #828fdd;\">2</b>), inds=[<b style=\"color: #c238d6;\">_c46f2eAArLt</b>, <b style=\"color: #7acfb5;\">_c46f2eAArLu</b>, <b style=\"color: #2dcadd;\">k55</b>, <b style=\"color: #d1b53f;\">b55</b>], tags={<b style=\"color: #a6d86a;\">I55</b>}),</summary>backend=<b style=\"color: #7fdd73;\">numpy</b>, dtype=<b style=\"color: #df4573;\">complex64</b>, data=...</details></samp><samp style='font-size: 12px;'><details><summary><b style=\"color: #e55471;\">Tensor</b>(shape=(<b style=\"color: #a4de79;\">6</b>, <b style=\"color: #a4de79;\">6</b>, <b style=\"color: #80d749;\">4</b>, <b style=\"color: #80d749;\">4</b>), inds=[<b style=\"color: #7acfb5;\">_c46f2eAArLu</b>, <b style=\"color: #75bed5;\">_c46f2eAArLv</b>, <b style=\"color: #cacf6a;\">k56</b>, <b style=\"color: #d89bde;\">b56</b>], tags={<b style=\"color: #e236e1;\">I56</b>}),</summary>backend=<b style=\"color: #7fdd73;\">numpy</b>, dtype=<b style=\"color: #df4573;\">complex64</b>, data=...</details></samp><samp style='font-size: 12px;'><details><summary><b style=\"color: #e55471;\">Tensor</b>(shape=(<b style=\"color: #a4de79;\">6</b>, <b style=\"color: #a4de79;\">6</b>, <b style=\"color: #828fdd;\">2</b>, <b style=\"color: #828fdd;\">2</b>), inds=[<b style=\"color: #75bed5;\">_c46f2eAArLv</b>, <b style=\"color: #3fd9a0;\">_c46f2eAArLw</b>, <b style=\"color: #cda663;\">k57</b>, <b style=\"color: #a3d57a;\">b57</b>], tags={<b style=\"color: #e37956;\">I57</b>}),</summary>backend=<b style=\"color: #7fdd73;\">numpy</b>, dtype=<b style=\"color: #df4573;\">complex64</b>, data=...</details></samp><samp style='font-size: 12px;'><details><summary><b style=\"color: #e55471;\">Tensor</b>(shape=(<b style=\"color: #a4de79;\">6</b>, <b style=\"color: #a4de79;\">6</b>, <b style=\"color: #80d749;\">4</b>, <b style=\"color: #80d749;\">4</b>), inds=[<b style=\"color: #3fd9a0;\">_c46f2eAArLw</b>, <b style=\"color: #e04ce4;\">_c46f2eAArLx</b>, <b style=\"color: #75bbcd;\">k58</b>, <b style=\"color: #bc3fd5;\">b58</b>], tags={<b style=\"color: #dc85c6;\">I58</b>}),</summary>backend=<b style=\"color: #7fdd73;\">numpy</b>, dtype=<b style=\"color: #df4573;\">complex64</b>, data=...</details></samp><samp style='font-size: 12px;'><details><summary><b style=\"color: #e55471;\">Tensor</b>(shape=(<b style=\"color: #a4de79;\">6</b>, <b style=\"color: #828fdd;\">2</b>, <b style=\"color: #828fdd;\">2</b>), inds=[<b style=\"color: #e04ce4;\">_c46f2eAArLx</b>, <b style=\"color: #93e0a6;\">k59</b>, <b style=\"color: #49e1a6;\">b59</b>], tags={<b style=\"color: #8be043;\">I59</b>}),</summary>backend=<b style=\"color: #7fdd73;\">numpy</b>, dtype=<b style=\"color: #df4573;\">complex64</b>, data=array([[[ 0.2342439 -0.20413142j, -0.06081147+0.18627584j],\n",
       "        [-0.19488518-0.51967496j,  0.24661995-0.18866472j]],\n",
       "\n",
       "       [[-0.18694   +0.0240442j , -0.22207625+0.07879357j],\n",
       "        [ 0.24456614+0.18853344j, -0.18796565+0.01188645j]],\n",
       "\n",
       "       [[ 0.09917755+0.16460806j, -0.14533383-0.33001247j],\n",
       "        [ 0.36483538+0.21120848j,  0.08863431+0.1705435j ]],\n",
       "\n",
       "       [[ 0.04763822+0.3410803j ,  0.00894422+0.01272977j],\n",
       "        [ 0.46299902-0.05386299j,  0.02565056+0.34331745j]],\n",
       "\n",
       "       [[ 0.07222621-0.11883402j, -0.16684142-0.30056387j],\n",
       "        [-0.00338976+0.19931248j,  0.07979791-0.11393555j]],\n",
       "\n",
       "       [[ 0.1291445 -0.06552991j, -0.38231048-0.20365076j],\n",
       "        [ 0.29290983+0.03709648j,  0.13309607-0.05730874j]]],\n",
       "      dtype=complex64)</details></samp></details></samp>"
      ],
      "text/plain": [
       "MatrixProductOperator(tensors=6, indices=17, L=60, max_bond=6)"
      ]
     },
     "execution_count": 114,
     "metadata": {},
     "output_type": "execute_result"
    }
   ],
   "source": [
    "mpo"
   ]
  },
  {
   "cell_type": "code",
   "execution_count": 115,
   "id": "1eef6fee-7509-4fc1-addc-1e1ba1ce15c4",
   "metadata": {},
   "outputs": [],
   "source": [
    "mps_psi = loaded_data_triv_proj_rep[0]"
   ]
  },
  {
   "cell_type": "code",
   "execution_count": 116,
   "id": "9f776509-d2df-4d5c-bf6d-fc63b184b26d",
   "metadata": {},
   "outputs": [],
   "source": [
    "psi_arrays = list()\n",
    "psi_arrays.append(mps_psi.get_B(0, 'Th')[0, ...].to_ndarray())\n",
    "for i in range(1, mps_psi.L-1):\n",
    "    psi_arrays.append(mps_psi.get_B(i).to_ndarray())\n",
    "psi_arrays.append(mps_psi.get_B(mps_psi.L-1)[..., 0].to_ndarray())\n",
    "\n",
    "q1 = (\n",
    "    qtn\n",
    "    .tensor_1d\n",
    "    .MatrixProductState(psi_arrays, shape='lpr')\n",
    ")"
   ]
  },
  {
   "cell_type": "code",
   "execution_count": 127,
   "id": "b001c68a-81b7-4b8e-b9dd-ef1c5e57a97c",
   "metadata": {},
   "outputs": [],
   "source": [
    "rho = q1.partial_trace_to_mpo(sites, rescale_sites=False)"
   ]
  },
  {
   "cell_type": "code",
   "execution_count": 128,
   "id": "9bfea66d-18a9-45f0-93eb-a2356ed8abc6",
   "metadata": {},
   "outputs": [
    {
     "data": {
      "text/html": [
       "<samp style='font-size: 12px;'><details><summary><b style=\"color: #b4d24a;\">MatrixProductOperator</b>(tensors=6, indices=17, L=200, max_bond=4)</summary><samp style='font-size: 12px;'><details><summary><b style=\"color: #e55471;\">Tensor</b>(shape=(<b style=\"color: #80d749;\">4</b>, <b style=\"color: #80d749;\">4</b>, <b style=\"color: #80d749;\">4</b>), inds=[<b style=\"color: #a6e49b;\">_c46f2eAArNB</b>, <b style=\"color: #8ce1b5;\">k54</b>, <b style=\"color: #4bd8ba;\">b54</b>], tags={<b style=\"color: #ddca3e;\">I54</b>}),</summary>backend=<b style=\"color: #7fdd73;\">numpy</b>, dtype=<b style=\"color: #75d2c6;\">float64</b>, data=array([[[ 9.51708005e-05, -3.61350978e-16,  9.51708005e-05,\n",
       "         -3.48507851e-16],\n",
       "        [-3.61520245e-16,  2.49904829e-01,  1.51234160e-15,\n",
       "          2.49904829e-01],\n",
       "        [ 9.51708005e-05,  1.51251087e-15,  9.51708005e-05,\n",
       "          1.52535399e-15],\n",
       "        [-3.48785539e-16,  2.49904829e-01,  1.52507631e-15,\n",
       "          2.49904829e-01]],\n",
       "\n",
       "       [[ 4.87684761e-03,  1.25065246e-17,  4.87684761e-03,\n",
       "          1.02156005e-17],\n",
       "        [ 3.78841222e-15, -4.87684761e-03,  6.15100552e-15,\n",
       "         -4.87684761e-03],\n",
       "        [ 4.87684761e-03, -2.40601668e-17,  4.87684761e-03,\n",
       "         -2.63510910e-17],\n",
       "        [ 4.44515083e-15, -4.87684761e-03,  6.80774413e-15,\n",
       "         -4.87684761e-03]],\n",
       "\n",
       "       [[ 4.87684761e-03,  3.78214440e-15,  4.87684761e-03,\n",
       "          4.43888301e-15],\n",
       "        [ 1.25097523e-17, -4.87684761e-03, -2.40569391e-17,\n",
       "         -4.87684761e-03],\n",
       "        [ 4.87684761e-03,  6.14473770e-15,  4.87684761e-03,\n",
       "          6.80147631e-15],\n",
       "        [ 1.02188282e-17, -4.87684761e-03, -2.63478633e-17,\n",
       "         -4.87684761e-03]],\n",
       "\n",
       "       [[ 2.49904829e-01,  2.05795651e-16,  2.49904829e-01,\n",
       "          8.83384330e-17],\n",
       "        [ 2.05680178e-16,  9.51708005e-05,  1.59538739e-16,\n",
       "          9.51708005e-05],\n",
       "        [ 2.49904829e-01,  1.59654211e-16,  2.49904829e-01,\n",
       "          4.21969936e-17],\n",
       "        [ 8.82229605e-17,  9.51708005e-05,  4.21899413e-17,\n",
       "          9.51708005e-05]]])</details></samp><samp style='font-size: 12px;'><details><summary><b style=\"color: #e55471;\">Tensor</b>(shape=(<b style=\"color: #80d749;\">4</b>, <b style=\"color: #80d749;\">4</b>, <b style=\"color: #828fdd;\">2</b>, <b style=\"color: #828fdd;\">2</b>), inds=[<b style=\"color: #a6e49b;\">_c46f2eAArNB</b>, <b style=\"color: #90d1af;\">_c46f2eAArNC</b>, <b style=\"color: #2dcadd;\">k55</b>, <b style=\"color: #d1b53f;\">b55</b>], tags={<b style=\"color: #a6d86a;\">I55</b>}),</summary>backend=<b style=\"color: #7fdd73;\">numpy</b>, dtype=<b style=\"color: #75d2c6;\">float64</b>, data=array([[[[ 5.00000000e-01, -1.95073905e-02],\n",
       "         [-1.95073905e-02,  7.61076565e-04]],\n",
       "\n",
       "        [[-1.09906472e-15,  4.99619317e-01],\n",
       "         [ 4.28797693e-17, -1.94925382e-02]],\n",
       "\n",
       "        [[-1.09906472e-15,  4.28797693e-17],\n",
       "         [ 4.99619317e-01, -1.94925382e-02]],\n",
       "\n",
       "        [[ 2.41588652e-30, -1.09822793e-15],\n",
       "         [-1.09822793e-15,  4.99238923e-01]]],\n",
       "\n",
       "\n",
       "       [[[ 4.16333634e-15, -4.99619317e-01],\n",
       "         [-1.62431655e-16,  1.94925382e-02]],\n",
       "\n",
       "        [[-5.00000000e-01, -1.95073905e-02],\n",
       "         [ 1.95073905e-02,  7.61076565e-04]],\n",
       "\n",
       "        [[-9.15155219e-30,  1.09822793e-15],\n",
       "         [ 4.16016652e-15, -4.99238923e-01]],\n",
       "\n",
       "        [[ 1.09906472e-15,  4.28797693e-17],\n",
       "         [-4.99619317e-01, -1.94925382e-02]]],\n",
       "\n",
       "\n",
       "       [[[ 4.16333634e-15, -1.62431655e-16],\n",
       "         [-4.99619317e-01,  1.94925382e-02]],\n",
       "\n",
       "        [[-9.15155219e-30,  4.16016652e-15],\n",
       "         [ 1.09822793e-15, -4.99238923e-01]],\n",
       "\n",
       "        [[-5.00000000e-01,  1.95073905e-02],\n",
       "         [-1.95073905e-02,  7.61076565e-04]],\n",
       "\n",
       "        [[ 1.09906472e-15, -4.99619317e-01],\n",
       "         [ 4.28797693e-17, -1.94925382e-02]]],\n",
       "\n",
       "\n",
       "       [[[ 3.46667390e-29, -4.16016652e-15],\n",
       "         [-4.16016652e-15,  4.99238923e-01]],\n",
       "\n",
       "        [[-4.16333634e-15, -1.62431655e-16],\n",
       "         [ 4.99619317e-01,  1.94925382e-02]],\n",
       "\n",
       "        [[-4.16333634e-15,  4.99619317e-01],\n",
       "         [-1.62431655e-16,  1.94925382e-02]],\n",
       "\n",
       "        [[ 5.00000000e-01,  1.95073905e-02],\n",
       "         [ 1.95073905e-02,  7.61076565e-04]]]])</details></samp><samp style='font-size: 12px;'><details><summary><b style=\"color: #e55471;\">Tensor</b>(shape=(<b style=\"color: #80d749;\">4</b>, <b style=\"color: #80d749;\">4</b>, <b style=\"color: #80d749;\">4</b>, <b style=\"color: #80d749;\">4</b>), inds=[<b style=\"color: #90d1af;\">_c46f2eAArNC</b>, <b style=\"color: #e59841;\">_c46f2eAArND</b>, <b style=\"color: #cacf6a;\">k56</b>, <b style=\"color: #d89bde;\">b56</b>], tags={<b style=\"color: #e236e1;\">I56</b>}),</summary>backend=<b style=\"color: #7fdd73;\">numpy</b>, dtype=<b style=\"color: #75d2c6;\">float64</b>, data=...</details></samp><samp style='font-size: 12px;'><details><summary><b style=\"color: #e55471;\">Tensor</b>(shape=(<b style=\"color: #80d749;\">4</b>, <b style=\"color: #80d749;\">4</b>, <b style=\"color: #828fdd;\">2</b>, <b style=\"color: #828fdd;\">2</b>), inds=[<b style=\"color: #e59841;\">_c46f2eAArND</b>, <b style=\"color: #e46eb5;\">_c46f2eAArNE</b>, <b style=\"color: #cda663;\">k57</b>, <b style=\"color: #a3d57a;\">b57</b>], tags={<b style=\"color: #e37956;\">I57</b>}),</summary>backend=<b style=\"color: #7fdd73;\">numpy</b>, dtype=<b style=\"color: #75d2c6;\">float64</b>, data=array([[[[ 5.00000000e-01, -3.15035202e-02],\n",
       "         [-3.15035202e-02,  1.98494358e-03]],\n",
       "\n",
       "        [[ 8.39999465e-15,  4.99006541e-01],\n",
       "         [-5.29258803e-16, -3.14409253e-02]],\n",
       "\n",
       "        [[ 8.39999465e-15, -5.29258803e-16],\n",
       "         [ 4.99006541e-01, -3.14409253e-02]],\n",
       "\n",
       "        [[ 1.41119820e-28,  8.38330456e-15],\n",
       "         [ 8.38330456e-15,  4.98015056e-01]]],\n",
       "\n",
       "\n",
       "       [[[ 2.13717932e-15,  4.99006541e-01],\n",
       "         [-1.34657344e-16, -3.14409253e-02]],\n",
       "\n",
       "        [[ 5.00000000e-01,  3.15035202e-02],\n",
       "         [-3.15035202e-02, -1.98494358e-03]],\n",
       "\n",
       "        [[ 3.59045898e-29,  8.38330456e-15],\n",
       "         [ 2.13293292e-15,  4.98015056e-01]],\n",
       "\n",
       "        [[ 8.39999465e-15,  5.29258803e-16],\n",
       "         [ 4.99006541e-01,  3.14409253e-02]]],\n",
       "\n",
       "\n",
       "       [[[ 2.13717932e-15, -1.34657344e-16],\n",
       "         [ 4.99006541e-01, -3.14409253e-02]],\n",
       "\n",
       "        [[ 3.59045898e-29,  2.13293292e-15],\n",
       "         [ 8.38330456e-15,  4.98015056e-01]],\n",
       "\n",
       "        [[ 5.00000000e-01, -3.15035202e-02],\n",
       "         [ 3.15035202e-02, -1.98494358e-03]],\n",
       "\n",
       "        [[ 8.39999465e-15,  4.99006541e-01],\n",
       "         [ 5.29258803e-16,  3.14409253e-02]]],\n",
       "\n",
       "\n",
       "       [[[ 9.13507091e-30,  2.13293292e-15],\n",
       "         [ 2.13293292e-15,  4.98015056e-01]],\n",
       "\n",
       "        [[ 2.13717932e-15,  1.34657344e-16],\n",
       "         [ 4.99006541e-01,  3.14409253e-02]],\n",
       "\n",
       "        [[ 2.13717932e-15,  4.99006541e-01],\n",
       "         [ 1.34657344e-16,  3.14409253e-02]],\n",
       "\n",
       "        [[ 5.00000000e-01,  3.15035202e-02],\n",
       "         [ 3.15035202e-02,  1.98494358e-03]]]])</details></samp><samp style='font-size: 12px;'><details><summary><b style=\"color: #e55471;\">Tensor</b>(shape=(<b style=\"color: #80d749;\">4</b>, <b style=\"color: #80d749;\">4</b>, <b style=\"color: #80d749;\">4</b>, <b style=\"color: #80d749;\">4</b>), inds=[<b style=\"color: #e46eb5;\">_c46f2eAArNE</b>, <b style=\"color: #89debd;\">_c46f2eAArNF</b>, <b style=\"color: #75bbcd;\">k58</b>, <b style=\"color: #bc3fd5;\">b58</b>], tags={<b style=\"color: #dc85c6;\">I58</b>}),</summary>backend=<b style=\"color: #7fdd73;\">numpy</b>, dtype=<b style=\"color: #75d2c6;\">float64</b>, data=...</details></samp><samp style='font-size: 12px;'><details><summary><b style=\"color: #e55471;\">Tensor</b>(shape=(<b style=\"color: #80d749;\">4</b>, <b style=\"color: #828fdd;\">2</b>, <b style=\"color: #828fdd;\">2</b>), inds=[<b style=\"color: #89debd;\">_c46f2eAArNF</b>, <b style=\"color: #93e0a6;\">k59</b>, <b style=\"color: #49e1a6;\">b59</b>], tags={<b style=\"color: #8be043;\">I59</b>}),</summary>backend=<b style=\"color: #7fdd73;\">numpy</b>, dtype=<b style=\"color: #75d2c6;\">float64</b>, data=array([[[ 5.00000000e-01, -1.62927417e-01],\n",
       "        [-1.62927417e-01,  5.00000000e-01]],\n",
       "\n",
       "       [[-9.13158438e-15,  4.72709908e-01],\n",
       "        [ 4.72709908e-01,  9.27036226e-15]],\n",
       "\n",
       "       [[-9.10382880e-15,  4.72709908e-01],\n",
       "        [ 4.72709908e-01,  9.27036226e-15]],\n",
       "\n",
       "       [[ 5.00000000e-01,  1.62927417e-01],\n",
       "        [ 1.62927417e-01,  5.00000000e-01]]])</details></samp></details></samp>"
      ],
      "text/plain": [
       "MatrixProductOperator(tensors=6, indices=17, L=200, max_bond=4)"
      ]
     },
     "execution_count": 128,
     "metadata": {},
     "output_type": "execute_result"
    }
   ],
   "source": [
    "rho"
   ]
  },
  {
   "cell_type": "code",
   "execution_count": 129,
   "id": "8f3d7376-b447-4b27-adbe-e2bf6754e582",
   "metadata": {},
   "outputs": [
    {
     "data": {
      "text/html": [
       "<samp style='font-size: 12px;'><details><summary><b style=\"color: #b4d24a;\">MatrixProductOperator</b>(tensors=6, indices=17, L=60, max_bond=6)</summary><samp style='font-size: 12px;'><details><summary><b style=\"color: #e55471;\">Tensor</b>(shape=(<b style=\"color: #a4de79;\">6</b>, <b style=\"color: #80d749;\">4</b>, <b style=\"color: #80d749;\">4</b>), inds=[<b style=\"color: #c238d6;\">_c46f2eAArLt</b>, <b style=\"color: #8ce1b5;\">k54</b>, <b style=\"color: #4bd8ba;\">b54</b>], tags={<b style=\"color: #ddca3e;\">I54</b>}),</summary>backend=<b style=\"color: #7fdd73;\">numpy</b>, dtype=<b style=\"color: #df4573;\">complex64</b>, data=array([[[-0.34130841-0.15417299j, -0.18853189-0.12135055j,\n",
       "         -0.06515123-0.15357304j,  0.04660599+0.10051818j],\n",
       "        [ 0.00734749-0.2621603j , -0.07225996+0.3438417j ,\n",
       "         -0.03359551-0.08454569j, -0.02395569+0.2271011j ],\n",
       "        [-0.10040773-0.00640603j,  0.20176607-0.0348755j ,\n",
       "         -0.34475008-0.36733624j, -0.15208368+0.1998163j ],\n",
       "        [-0.17598596+0.2777107j ,  0.14469427-0.34007442j,\n",
       "          0.08856647-0.03805454j, -0.05824345+0.3964488j ]],\n",
       "\n",
       "       [[ 0.02359664-0.40509063j, -0.17914714+0.10900667j,\n",
       "         -0.06064732-0.1713871j ,  0.1406104 -0.07605691j],\n",
       "        [ 0.05425786+0.08783466j, -0.08085056+0.3256266j ,\n",
       "         -0.37600207-0.00292596j,  0.35426208+0.2717585j ],\n",
       "        [-0.14167339+0.00409224j, -0.01298795+0.06873664j,\n",
       "         -0.1762688 -0.14029284j,  0.14560637+0.09276488j],\n",
       "        [ 0.07436892+0.03640603j, -0.25401846-0.1389342j ,\n",
       "          0.14349991-0.04116145j, -0.07455748+0.39854056j]],\n",
       "\n",
       "       [[-0.17493671+0.01440503j,  0.3123052 +0.11885796j,\n",
       "         -0.02322802+0.1326593j , -0.29597467+0.05537337j],\n",
       "        [-0.07388777-0.07222173j,  0.29934925-0.11354671j,\n",
       "          0.39492473+0.17370148j,  0.24868153-0.28350472j],\n",
       "        [-0.2548974 +0.33006266j, -0.11859459+0.06949349j,\n",
       "         -0.02526858+0.13721399j, -0.06731912-0.24273598j],\n",
       "        [ 0.0724185 +0.16147664j,  0.38844442+0.1669023j ,\n",
       "         -0.2433653 -0.25286523j,  0.2751587 -0.19306979j]],\n",
       "\n",
       "       [[ 0.16544797+0.29655692j, -0.0255622 +0.22198358j,\n",
       "          0.32503384+0.01054828j, -0.03272221-0.08768223j],\n",
       "        [-0.10234852+0.27135128j,  0.15117513-0.30798504j,\n",
       "          0.13760078-0.18291476j,  0.2849006 +0.02199911j],\n",
       "        [ 0.31632486+0.08314236j, -0.04046004-0.17087394j,\n",
       "          0.19398741+0.4609097j ,  0.05791562+0.05212039j],\n",
       "        [ 0.2086745 -0.1972171j , -0.07077035+0.136281j  ,\n",
       "         -0.12750287+0.18594076j,  0.18836305-0.36167493j]],\n",
       "\n",
       "       [[-0.02395555+0.01273992j, -0.31166622+0.05780432j,\n",
       "          0.05069634+0.00949522j,  0.12522057+0.08865139j],\n",
       "        [-0.05179473-0.03987288j,  0.437402  +0.07988869j,\n",
       "          0.03720242-0.20385349j,  0.35644314+0.03292871j],\n",
       "        [ 0.07640447-0.19398272j,  0.11264838-0.28854015j,\n",
       "         -0.24632761-0.17800717j, -0.16602947+0.16648735j],\n",
       "        [-0.16040507+0.10383281j,  0.3808195 -0.24326369j,\n",
       "          0.2696249 -0.01355456j,  0.44972217-0.05146115j]],\n",
       "\n",
       "       [[ 0.13471225-0.2856946j , -0.45198068-0.06292115j,\n",
       "          0.2067556 +0.31487352j,  0.37627423-0.03386873j],\n",
       "        [-0.00175766+0.30721644j,  0.37087888+0.05939977j,\n",
       "         -0.0865972 -0.0387154j ,  0.50358063+0.13911875j],\n",
       "        [ 0.20517933+0.19666713j,  0.3029267 +0.22878613j,\n",
       "         -0.0285389 -0.06221762j, -0.26020694-0.14117783j],\n",
       "        [ 0.19392505-0.2748679j ,  0.04295176+0.02969501j,\n",
       "         -0.00316161+0.11057175j,  0.38259262+0.1143657j ]]],\n",
       "      dtype=complex64)</details></samp><samp style='font-size: 12px;'><details><summary><b style=\"color: #e55471;\">Tensor</b>(shape=(<b style=\"color: #a4de79;\">6</b>, <b style=\"color: #a4de79;\">6</b>, <b style=\"color: #828fdd;\">2</b>, <b style=\"color: #828fdd;\">2</b>), inds=[<b style=\"color: #c238d6;\">_c46f2eAArLt</b>, <b style=\"color: #7acfb5;\">_c46f2eAArLu</b>, <b style=\"color: #2dcadd;\">k55</b>, <b style=\"color: #d1b53f;\">b55</b>], tags={<b style=\"color: #a6d86a;\">I55</b>}),</summary>backend=<b style=\"color: #7fdd73;\">numpy</b>, dtype=<b style=\"color: #df4573;\">complex64</b>, data=...</details></samp><samp style='font-size: 12px;'><details><summary><b style=\"color: #e55471;\">Tensor</b>(shape=(<b style=\"color: #a4de79;\">6</b>, <b style=\"color: #a4de79;\">6</b>, <b style=\"color: #80d749;\">4</b>, <b style=\"color: #80d749;\">4</b>), inds=[<b style=\"color: #7acfb5;\">_c46f2eAArLu</b>, <b style=\"color: #75bed5;\">_c46f2eAArLv</b>, <b style=\"color: #cacf6a;\">k56</b>, <b style=\"color: #d89bde;\">b56</b>], tags={<b style=\"color: #e236e1;\">I56</b>}),</summary>backend=<b style=\"color: #7fdd73;\">numpy</b>, dtype=<b style=\"color: #df4573;\">complex64</b>, data=...</details></samp><samp style='font-size: 12px;'><details><summary><b style=\"color: #e55471;\">Tensor</b>(shape=(<b style=\"color: #a4de79;\">6</b>, <b style=\"color: #a4de79;\">6</b>, <b style=\"color: #828fdd;\">2</b>, <b style=\"color: #828fdd;\">2</b>), inds=[<b style=\"color: #75bed5;\">_c46f2eAArLv</b>, <b style=\"color: #3fd9a0;\">_c46f2eAArLw</b>, <b style=\"color: #cda663;\">k57</b>, <b style=\"color: #a3d57a;\">b57</b>], tags={<b style=\"color: #e37956;\">I57</b>}),</summary>backend=<b style=\"color: #7fdd73;\">numpy</b>, dtype=<b style=\"color: #df4573;\">complex64</b>, data=...</details></samp><samp style='font-size: 12px;'><details><summary><b style=\"color: #e55471;\">Tensor</b>(shape=(<b style=\"color: #a4de79;\">6</b>, <b style=\"color: #a4de79;\">6</b>, <b style=\"color: #80d749;\">4</b>, <b style=\"color: #80d749;\">4</b>), inds=[<b style=\"color: #3fd9a0;\">_c46f2eAArLw</b>, <b style=\"color: #e04ce4;\">_c46f2eAArLx</b>, <b style=\"color: #75bbcd;\">k58</b>, <b style=\"color: #bc3fd5;\">b58</b>], tags={<b style=\"color: #dc85c6;\">I58</b>}),</summary>backend=<b style=\"color: #7fdd73;\">numpy</b>, dtype=<b style=\"color: #df4573;\">complex64</b>, data=...</details></samp><samp style='font-size: 12px;'><details><summary><b style=\"color: #e55471;\">Tensor</b>(shape=(<b style=\"color: #a4de79;\">6</b>, <b style=\"color: #828fdd;\">2</b>, <b style=\"color: #828fdd;\">2</b>), inds=[<b style=\"color: #e04ce4;\">_c46f2eAArLx</b>, <b style=\"color: #93e0a6;\">k59</b>, <b style=\"color: #49e1a6;\">b59</b>], tags={<b style=\"color: #8be043;\">I59</b>}),</summary>backend=<b style=\"color: #7fdd73;\">numpy</b>, dtype=<b style=\"color: #df4573;\">complex64</b>, data=array([[[ 0.2342439 -0.20413142j, -0.06081147+0.18627584j],\n",
       "        [-0.19488518-0.51967496j,  0.24661995-0.18866472j]],\n",
       "\n",
       "       [[-0.18694   +0.0240442j , -0.22207625+0.07879357j],\n",
       "        [ 0.24456614+0.18853344j, -0.18796565+0.01188645j]],\n",
       "\n",
       "       [[ 0.09917755+0.16460806j, -0.14533383-0.33001247j],\n",
       "        [ 0.36483538+0.21120848j,  0.08863431+0.1705435j ]],\n",
       "\n",
       "       [[ 0.04763822+0.3410803j ,  0.00894422+0.01272977j],\n",
       "        [ 0.46299902-0.05386299j,  0.02565056+0.34331745j]],\n",
       "\n",
       "       [[ 0.07222621-0.11883402j, -0.16684142-0.30056387j],\n",
       "        [-0.00338976+0.19931248j,  0.07979791-0.11393555j]],\n",
       "\n",
       "       [[ 0.1291445 -0.06552991j, -0.38231048-0.20365076j],\n",
       "        [ 0.29290983+0.03709648j,  0.13309607-0.05730874j]]],\n",
       "      dtype=complex64)</details></samp></details></samp>"
      ],
      "text/plain": [
       "MatrixProductOperator(tensors=6, indices=17, L=60, max_bond=6)"
      ]
     },
     "execution_count": 129,
     "metadata": {},
     "output_type": "execute_result"
    }
   ],
   "source": [
    "mpo"
   ]
  },
  {
   "cell_type": "code",
   "execution_count": 134,
   "id": "55cebcb7-ee61-47ad-8a00-e2e9c08855e4",
   "metadata": {},
   "outputs": [],
   "source": [
    "t = rho._apply_mpo(mpo, compress=False, contract=False)"
   ]
  },
  {
   "cell_type": "code",
   "execution_count": 135,
   "id": "d1d6594f-e05d-458d-8aa7-790de32e0813",
   "metadata": {},
   "outputs": [
    {
     "data": {
      "image/png": "[encoded data removed]",
      "text/plain": [
       "<Figure size 600x600 with 1 Axes>"
      ]
     },
     "metadata": {
      "needs_background": "light"
     },
     "output_type": "display_data"
    }
   ],
   "source": [
    "t.draw()"
   ]
  },
  {
   "cell_type": "code",
   "execution_count": 103,
   "id": "14f98755-65ed-4384-87f9-0ec802c1ee85",
   "metadata": {},
   "outputs": [],
   "source": [
    "sites = [\n",
    "    int(s[1:]) for s in ml.tag_map\n",
    "    if s[0]=='I'\n",
    "]"
   ]
  },
  {
   "cell_type": "code",
   "execution_count": 104,
   "id": "6acacf5b-a02f-4620-9c05-de8e98ac9e0e",
   "metadata": {},
   "outputs": [
    {
     "data": {
      "text/plain": [
       "[54, 55, 56, 57, 58, 59]"
      ]
     },
     "execution_count": 104,
     "metadata": {},
     "output_type": "execute_result"
    }
   ],
   "source": [
    "sites"
   ]
  },
  {
   "cell_type": "code",
   "execution_count": null,
   "id": "cf169f35-4719-44de-bf83-95dc791d2d1f",
   "metadata": {},
   "outputs": [],
   "source": []
  }
 ],
 "metadata": {
  "kernelspec": {
   "display_name": "num_spt_venv_p11",
   "language": "python",
   "name": "num_spt_venv_p11"
  },
  "language_info": {
   "codemirror_mode": {
    "name": "ipython",
    "version": 3
   },
   "file_extension": ".py",
   "mimetype": "text/x-python",
   "name": "python",
   "nbconvert_exporter": "python",
   "pygments_lexer": "ipython3",
   "version": "3.11.9"
  }
 },
 "nbformat": 4,
 "nbformat_minor": 5
}
