{
 "cells": [
  {
   "cell_type": "markdown",
   "id": "8a5ff3d7-110e-408b-b148-b585fc98d23f",
   "metadata": {},
   "source": [
    "# Extract phases\n",
    "Created 02/06/2024\n",
    "\n",
    "Objectives:\n",
    "* Extract the fermionic and proj rep group cohomologies from the solutions calculated [here](sweep_and_find_solutions.ipynb)"
   ]
  },
  {
   "cell_type": "markdown",
   "id": "5e618d3a-fdaf-441f-bc73-3649e01a7b3c",
   "metadata": {},
   "source": [
    "# Package imports"
   ]
  },
  {
   "cell_type": "code",
   "execution_count": 1,
   "id": "ecb41ea3-927f-4efa-aebe-ce15784aa037",
   "metadata": {},
   "outputs": [],
   "source": [
    "import sys"
   ]
  },
  {
   "cell_type": "code",
   "execution_count": 2,
   "id": "0375bd38-12e1-417a-908a-13fb540081f5",
   "metadata": {},
   "outputs": [],
   "source": [
    "sys.path.append(\"../../\")"
   ]
  },
  {
   "cell_type": "code",
   "execution_count": 3,
   "id": "0cf49837-01b6-431a-b570-d7ed25903239",
   "metadata": {},
   "outputs": [],
   "source": [
    "from itertools import chain, groupby, combinations\n",
    "import re\n",
    "\n",
    "from collections import Counter, namedtuple, defaultdict"
   ]
  },
  {
   "cell_type": "code",
   "execution_count": 4,
   "id": "f59344b7-d34e-47e4-99be-f5a2687f8176",
   "metadata": {},
   "outputs": [],
   "source": [
    "import h5py\n",
    "from tenpy.tools import hdf5_io\n",
    "import tenpy\n",
    "import tenpy.linalg.np_conserved as npc\n",
    "\n",
    "import os\n",
    "import pickle"
   ]
  },
  {
   "cell_type": "code",
   "execution_count": 5,
   "id": "19404619-d778-4cc3-8ee1-1db6f14b2043",
   "metadata": {},
   "outputs": [],
   "source": [
    "import numpy as np\n",
    "from jax import numpy as jnp\n",
    "import pandas as pd\n",
    "\n",
    "import matplotlib.pyplot as plt\n",
    "\n",
    "import scipy"
   ]
  },
  {
   "cell_type": "code",
   "execution_count": 6,
   "id": "92eeb066-5463-4237-ad07-3c5a0d934f4f",
   "metadata": {},
   "outputs": [
    {
     "name": "stderr",
     "output_type": "stream",
     "text": [
      "/Users/kierancooney/.pyenv/versions/num_spt_venv_p11/lib/python3.11/site-packages/cotengra/hyperoptimizers/hyper.py:54: UserWarning: Couldn't find `optuna`, `cmaes`, or `nevergrad` so will use completely random sampling in place of hyper-optimization.\n",
      "  warnings.warn(\n",
      "/Users/kierancooney/.pyenv/versions/num_spt_venv_p11/lib/python3.11/site-packages/cotengra/hyperoptimizers/hyper.py:36: UserWarning: Couldn't import `kahypar` - skipping from default hyper optimizer and using basic `labels` method instead.\n",
      "  warnings.warn(\n",
      "/Users/kierancooney/.pyenv/versions/num_spt_venv_p11/lib/python3.11/site-packages/cotengra/hyperoptimizers/hyper.py:73: UserWarning: Couldn't find `optuna`, `cmaes`, or `nevergrad` so will use completely random sampling in place of hyper-optimization.\n",
      "  warnings.warn(\n"
     ]
    }
   ],
   "source": [
    "import quimb as qu\n",
    "import quimb.tensor as qtn\n",
    "from quimb.tensor.optimize import TNOptimizer"
   ]
  },
  {
   "cell_type": "markdown",
   "id": "1e7fa07a-a850-4148-bb15-43b2582429cb",
   "metadata": {},
   "source": [
    "# Load data"
   ]
  },
  {
   "cell_type": "markdown",
   "id": "2619393b-854f-4f6b-827f-a4c49284fac2",
   "metadata": {},
   "source": [
    "## Wavefunctions"
   ]
  },
  {
   "cell_type": "code",
   "execution_count": 7,
   "id": "a073ec4a-1d8d-4786-af9f-11e750b1e3a9",
   "metadata": {},
   "outputs": [],
   "source": [
    "DATA_DIR_1 = r\"../../data/interpolated_trivial_to_nontrivial_fermionic_trivial_proj_rep_200_site_dmrg/\"\n",
    "DATA_DIR_2 = r\"../../data/interpolated_nontrivial_fermionic_proj_rep_to_nontrivial_proj_rep_200_site_dmrg/\""
   ]
  },
  {
   "cell_type": "code",
   "execution_count": 8,
   "id": "9fd5bc67-e5e4-4b8f-a5e4-f5120506f1ed",
   "metadata": {},
   "outputs": [],
   "source": [
    "def parse_file_name(file_name):\n",
    "    interpolation = int(file_name.split('_')[0])/100\n",
    "\n",
    "    return interpolation"
   ]
  },
  {
   "cell_type": "code",
   "execution_count": 9,
   "id": "cbe1e575-7fb0-4951-9fc8-dce918ef2e54",
   "metadata": {},
   "outputs": [],
   "source": [
    "loaded_data_triv_proj_rep = dict()\n",
    "energies_triv_proj_rep = dict()\n",
    "\n",
    "for local_file_name in list(os.walk(DATA_DIR_1))[0][2]:\n",
    "    f_name = r\"{}/{}\".format(DATA_DIR_1, local_file_name, ignore_unknown=False)\n",
    "\n",
    "    with h5py.File(f_name, 'r') as f:\n",
    "        data = hdf5_io.load_from_hdf5(f)\n",
    "\n",
    "        data_info = parse_file_name(local_file_name)\n",
    "        loaded_data_triv_proj_rep[data_info]=data['wavefunction']\n",
    "        energies_triv_proj_rep[data_info]=data['energy']"
   ]
  },
  {
   "cell_type": "code",
   "execution_count": 10,
   "id": "d694f0e0-4ab2-4eea-8f21-7177abc2de50",
   "metadata": {},
   "outputs": [],
   "source": [
    "loaded_data_non_triv_proj_rep = dict()\n",
    "energies_non_triv_proj_rep = dict()\n",
    "\n",
    "for local_file_name in list(os.walk(DATA_DIR_2))[0][2]:\n",
    "    f_name = r\"{}/{}\".format(DATA_DIR_2, local_file_name, ignore_unknown=False)\n",
    "\n",
    "    with h5py.File(f_name, 'r') as f:\n",
    "        data = hdf5_io.load_from_hdf5(f)\n",
    "\n",
    "        data_info = parse_file_name(local_file_name)\n",
    "        loaded_data_non_triv_proj_rep[data_info]=data['wavefunction']\n",
    "        energies_non_triv_proj_rep[data_info]=data['energy']"
   ]
  },
  {
   "cell_type": "code",
   "execution_count": 11,
   "id": "c6f844ce-e988-4b14-8427-413eff20782e",
   "metadata": {},
   "outputs": [
    {
     "data": {
      "text/plain": [
       "Counter({('vL', 'p', 'vR'): 4200})"
      ]
     },
     "execution_count": 11,
     "metadata": {},
     "output_type": "execute_result"
    }
   ],
   "source": [
    "Counter(\n",
    "    tuple(psi.get_B(i).get_leg_labels())\n",
    "    for psi in loaded_data_triv_proj_rep.values()\n",
    "    for i in range(psi.L)\n",
    ")"
   ]
  },
  {
   "cell_type": "code",
   "execution_count": 12,
   "id": "f1e92883-f7cb-4870-91d2-85c3745b928b",
   "metadata": {},
   "outputs": [
    {
     "data": {
      "text/plain": [
       "Counter({('vL', 'p', 'vR'): 4200})"
      ]
     },
     "execution_count": 12,
     "metadata": {},
     "output_type": "execute_result"
    }
   ],
   "source": [
    "Counter(\n",
    "    tuple(psi.get_B(i).get_leg_labels())\n",
    "    for psi in loaded_data_non_triv_proj_rep.values()\n",
    "    for i in range(psi.L)\n",
    ")"
   ]
  },
  {
   "cell_type": "markdown",
   "id": "a1a65e01-1679-4f4d-8a76-ab9878761d3e",
   "metadata": {},
   "source": [
    "## Boundary operator solutions"
   ]
  },
  {
   "cell_type": "code",
   "execution_count": 13,
   "id": "e37adb2a-d2dd-41ae-be5f-510cd40d18ac",
   "metadata": {},
   "outputs": [],
   "source": [
    "SOL_DIR = r\"solutions/\""
   ]
  },
  {
   "cell_type": "code",
   "execution_count": 14,
   "id": "c2e39164-e8b3-4305-b1db-c8bfc52c0cfb",
   "metadata": {},
   "outputs": [],
   "source": [
    "file_name_pattern = re.compile(r'^(?:non_)?triv_\\d\\.\\d+_\\d_\\d_\\d+\\.pickle$')"
   ]
  },
  {
   "cell_type": "code",
   "execution_count": 15,
   "id": "42ac9167-550d-428b-ad09-28dcc6d4e3cc",
   "metadata": {},
   "outputs": [],
   "source": [
    "def parse_file_name(file_name):\n",
    "    if not bool(file_name_pattern.match(file_name)):\n",
    "        print(file_name)\n",
    "        return None\n",
    "\n",
    "    file_name = '.'.join((file_name.split('.'))[:-1])\n",
    "\n",
    "    if file_name[0] == 'n':\n",
    "        proj_rep=1\n",
    "        b, bs, fs, i = file_name.split('_')[2:]\n",
    "    elif file_name[0] == 't':\n",
    "        proj_rep=0\n",
    "        b, bs, fs, i = file_name.split('_')[1:]\n",
    "    else:\n",
    "        return None\n",
    "\n",
    "    b = float(b)\n",
    "    bs = int(bs)\n",
    "    fs = int(fs)\n",
    "    i = int(i)\n",
    "    \n",
    "    return (proj_rep, b, bs, fs, i)"
   ]
  },
  {
   "cell_type": "code",
   "execution_count": 16,
   "id": "686fa22d-79df-4e80-8728-9a7737a66762",
   "metadata": {},
   "outputs": [
    {
     "name": "stdout",
     "output_type": "stream",
     "text": [
      ".DS_Store\n"
     ]
    }
   ],
   "source": [
    "boundary_operator_solutions = dict()\n",
    "\n",
    "for local_file_name in list(os.walk(SOL_DIR))[0][2]:\n",
    "    f_name = r\"{}/{}\".format(SOL_DIR, local_file_name, ignore_unknown=False)\n",
    "\n",
    "    key = parse_file_name(local_file_name)\n",
    "\n",
    "    if key is not None:\n",
    "        with open(f_name, 'rb') as f:\n",
    "            out = pickle.load(f)\n",
    "    \n",
    "            boundary_operator_solutions[key] = out"
   ]
  },
  {
   "cell_type": "markdown",
   "id": "c789feb2-12ac-4860-a654-e40fa070325a",
   "metadata": {},
   "source": [
    "### Check values"
   ]
  },
  {
   "cell_type": "code",
   "execution_count": 17,
   "id": "1b1a1eaa-265f-4def-a3d3-0ad318930b4b",
   "metadata": {},
   "outputs": [],
   "source": [
    "scores = [float(v[0]._value) for v in boundary_operator_solutions.values()]"
   ]
  },
  {
   "cell_type": "code",
   "execution_count": 18,
   "id": "18b031de-4cf0-4576-b236-089341aca078",
   "metadata": {},
   "outputs": [
    {
     "data": {
      "text/plain": [
       "count    573.000000\n",
       "mean      14.665053\n",
       "std       22.783958\n",
       "min        0.001833\n",
       "25%        0.065218\n",
       "50%        1.537037\n",
       "75%       45.585068\n",
       "max      216.741516\n",
       "dtype: float64"
      ]
     },
     "execution_count": 18,
     "metadata": {},
     "output_type": "execute_result"
    }
   ],
   "source": [
    "pd.Series(scores).describe()"
   ]
  },
  {
   "cell_type": "code",
   "execution_count": 19,
   "id": "7896fa9b-0290-4742-93a8-503497597318",
   "metadata": {},
   "outputs": [],
   "source": [
    "score_pairs = defaultdict(list)\n",
    "\n",
    "for k, v in boundary_operator_solutions.items():\n",
    "    score_pairs[k[:-1]].append((k[-1], float(v[0]._value)))"
   ]
  },
  {
   "cell_type": "code",
   "execution_count": 20,
   "id": "233eec99-8e2e-4483-bdf9-33819d13ee4d",
   "metadata": {},
   "outputs": [
    {
     "name": "stdout",
     "output_type": "stream",
     "text": [
      "Help on built-in function min in module builtins:\n",
      "\n",
      "min(...)\n",
      "    min(iterable, *[, default=obj, key=func]) -> value\n",
      "    min(arg1, arg2, *args, *[, key=func]) -> value\n",
      "    \n",
      "    With a single iterable argument, return its smallest item. The\n",
      "    default keyword-only argument specifies an object to return if\n",
      "    the provided iterable is empty.\n",
      "    With two or more arguments, return the smallest argument.\n",
      "\n"
     ]
    }
   ],
   "source": [
    "help(min)"
   ]
  },
  {
   "cell_type": "code",
   "execution_count": 21,
   "id": "8cf00e47-3dd9-47f1-9c7c-c3b6ecd76ba1",
   "metadata": {},
   "outputs": [],
   "source": [
    "best_score_pairs = {\n",
    "    k: min(v, key=lambda x: x[1]) for k, v in score_pairs.items()\n",
    "}"
   ]
  },
  {
   "cell_type": "code",
   "execution_count": 22,
   "id": "b07ea0b5-9c25-4969-ad77-44605f544778",
   "metadata": {},
   "outputs": [],
   "source": [
    "best_scores = [v[1] for v in best_score_pairs.values()]"
   ]
  },
  {
   "cell_type": "code",
   "execution_count": 23,
   "id": "20a71c05-b888-450a-9353-7f26970ebd57",
   "metadata": {},
   "outputs": [
    {
     "data": {
      "text/plain": [
       "252"
      ]
     },
     "execution_count": 23,
     "metadata": {},
     "output_type": "execute_result"
    }
   ],
   "source": [
    "len(best_score_pairs)"
   ]
  },
  {
   "cell_type": "code",
   "execution_count": 24,
   "id": "3b02c07c-fe40-4acb-8632-893fe8b48254",
   "metadata": {},
   "outputs": [
    {
     "data": {
      "text/plain": [
       "count    252.000000\n",
       "mean       1.737905\n",
       "std        8.759257\n",
       "min        0.001833\n",
       "25%        0.018629\n",
       "50%        0.053990\n",
       "75%        0.203661\n",
       "max       50.003654\n",
       "dtype: float64"
      ]
     },
     "execution_count": 24,
     "metadata": {},
     "output_type": "execute_result"
    }
   ],
   "source": [
    "pd.Series(best_scores).describe()"
   ]
  },
  {
   "cell_type": "code",
   "execution_count": 25,
   "id": "0a4b978d-378e-46e7-9565-cd897ddbdd31",
   "metadata": {},
   "outputs": [
    {
     "data": {
      "text/plain": [
       "[(0, 0.5, 3, 1),\n",
       " (0, 0.5, 3, 0),\n",
       " (1, 0.5, 1, 1),\n",
       " (1, 0.5, 1, 0),\n",
       " (1, 0.5, 3, 0),\n",
       " (1, 0.5, 3, 1),\n",
       " (0, 0.5, 1, 0),\n",
       " (0, 0.5, 1, 1),\n",
       " (1, 0.5, 2, 0),\n",
       " (1, 0.5, 2, 1)]"
      ]
     },
     "execution_count": 25,
     "metadata": {},
     "output_type": "execute_result"
    }
   ],
   "source": [
    "[k for k, v in best_score_pairs.items() if v[1]>1]"
   ]
  },
  {
   "cell_type": "code",
   "execution_count": 26,
   "id": "983aa545-a557-404d-ae3b-1e4aaa402670",
   "metadata": {},
   "outputs": [
    {
     "data": {
      "text/plain": [
       "(1, 0.017019841820001602)"
      ]
     },
     "execution_count": 26,
     "metadata": {},
     "output_type": "execute_result"
    }
   ],
   "source": [
    "best_score_pairs[(0, 0, 1, 0)]"
   ]
  },
  {
   "cell_type": "code",
   "execution_count": 27,
   "id": "231f533b-5075-402a-821d-dab6eaf23098",
   "metadata": {},
   "outputs": [],
   "source": [
    "best_boundary_operators = {\n",
    "    k: boundary_operator_solutions[(*k, v[0])]\n",
    "    for k, v in best_score_pairs.items()\n",
    "    if k[1] != 0.5\n",
    "}"
   ]
  },
  {
   "cell_type": "code",
   "execution_count": 28,
   "id": "8ed66855-7274-4da7-a010-9dc586e82131",
   "metadata": {},
   "outputs": [
    {
     "data": {
      "text/plain": [
       "240"
      ]
     },
     "execution_count": 28,
     "metadata": {},
     "output_type": "execute_result"
    }
   ],
   "source": [
    "len(best_boundary_operators)"
   ]
  },
  {
   "cell_type": "markdown",
   "id": "3269e554-4543-4e55-8a03-68083f819521",
   "metadata": {},
   "source": [
    "# Definitions"
   ]
  },
  {
   "cell_type": "code",
   "execution_count": 29,
   "id": "550e5a48-302e-4588-8b17-978e37ee1a95",
   "metadata": {},
   "outputs": [],
   "source": [
    "np_00 = np.array([\n",
    "    [1, 0, 0, 0],\n",
    "    [0, 1, 0, 0],\n",
    "    [0, 0, 1, 0],\n",
    "    [0, 0, 0, 1]\n",
    "])\n",
    "\n",
    "np_01 = np.array([\n",
    "    [0, 1, 0, 0],\n",
    "    [1, 0, 0, 0],\n",
    "    [0, 0, 0, 1],\n",
    "    [0, 0, 1, 0]\n",
    "])\n",
    "\n",
    "np_10 = np.array([\n",
    "    [0, 0, 1, 0],\n",
    "    [0, 0, 0, 1],\n",
    "    [1, 0, 0, 0],\n",
    "    [0, 1, 0, 0]\n",
    "])\n",
    "\n",
    "np_11 = np.array([\n",
    "    [0, 0, 0, 1],\n",
    "    [0, 0, 1, 0],\n",
    "    [0, 1, 0, 0],\n",
    "    [1, 0, 0, 0]\n",
    "])"
   ]
  },
  {
   "cell_type": "code",
   "execution_count": 30,
   "id": "7be888f1-58f3-472a-920e-7920a8974192",
   "metadata": {},
   "outputs": [],
   "source": [
    "bosonic_np_symmetries = [\n",
    "    np_00,\n",
    "    np_01,\n",
    "    np_10,\n",
    "    np_11\n",
    "]"
   ]
  },
  {
   "cell_type": "code",
   "execution_count": 31,
   "id": "7eab7fb2-331f-41b7-8278-84642df9cb17",
   "metadata": {},
   "outputs": [],
   "source": [
    "np_I = np.array([\n",
    "    [1, 0],\n",
    "    [0, 1]\n",
    "])\n",
    "\n",
    "np_JW = np.array([\n",
    "    [1, 0],\n",
    "    [0, -1]\n",
    "])"
   ]
  },
  {
   "cell_type": "code",
   "execution_count": 32,
   "id": "34029aa6-57e2-44a5-85ac-91517d851411",
   "metadata": {},
   "outputs": [],
   "source": [
    "fermionic_np_symmetries = [np_I, np_JW]"
   ]
  },
  {
   "cell_type": "code",
   "execution_count": 33,
   "id": "dd7d4af7-0809-4736-927f-b79047df62fe",
   "metadata": {},
   "outputs": [],
   "source": [
    "def generate_problem_rdm(quimb_psi, symmetry_site_pairs, leftmost_symmetry_site,\n",
    "                         num_symmetry_sites, num_boundary_sites):\n",
    "    q_top = quimb_psi.copy(deep=True)\n",
    "    for i, s in symmetry_site_pairs:\n",
    "        q_top.gate(\n",
    "            s,\n",
    "            where=i,\n",
    "            contract=False,\n",
    "            inplace=True\n",
    "        )\n",
    "\n",
    "    \n",
    "    indices_to_map = list(chain(\n",
    "        range(leftmost_symmetry_site-num_boundary_sites, leftmost_symmetry_site),\n",
    "        range(leftmost_symmetry_site+num_symmetry_sites, leftmost_symmetry_site+num_symmetry_sites+num_boundary_sites)\n",
    "    ))\n",
    "\n",
    "    index_mapping = {f'k{i}': f'b{i}' for i in indices_to_map}\n",
    "\n",
    "    q_bottom = (\n",
    "        quimb_psi\n",
    "        .copy()\n",
    "        .reindex(index_mapping, inplace=True)\n",
    "        .conj()\n",
    "    )\n",
    "\n",
    "    sites_to_contract = {\n",
    "        'left': list(range(leftmost_symmetry_site-num_boundary_sites)),\n",
    "        'middle': list(range(leftmost_symmetry_site, leftmost_symmetry_site+num_symmetry_sites)),\n",
    "        'right': list(range(leftmost_symmetry_site+num_symmetry_sites+num_boundary_sites, quimb_psi.L))\n",
    "    }\n",
    "\n",
    "    tags_to_contract = {\n",
    "        k: [f'I{i}' for i in v]\n",
    "        for k, v in sites_to_contract.items()\n",
    "    }\n",
    "\n",
    "    tn = (q_top & q_bottom)\n",
    "\n",
    "    tnc = (\n",
    "        tn\n",
    "        .contract(tags_to_contract['left'])\n",
    "        .contract(tags_to_contract['middle'])\n",
    "        .contract(tags_to_contract['right'])\n",
    "    )\n",
    "\n",
    "    return tnc"
   ]
  },
  {
   "cell_type": "code",
   "execution_count": 34,
   "id": "198f4294-8a52-4ee8-be8c-640d8c8927f2",
   "metadata": {},
   "outputs": [],
   "source": [
    "def generate_rdm_from_tenpy_psi(mps_psi, symmetry_site_pairs,\n",
    "    leftmost_symmetry_site, num_symmetry_sites, num_boundary_sites):\n",
    "    \n",
    "    psi_arrays = list()\n",
    "    psi_arrays.append(mps_psi.get_B(0, 'Th')[0, ...].to_ndarray())\n",
    "    for i in range(1, mps_psi.L-1):\n",
    "        psi_arrays.append(mps_psi.get_B(i).to_ndarray())\n",
    "    psi_arrays.append(mps_psi.get_B(mps_psi.L-1)[..., 0].to_ndarray())\n",
    "    \n",
    "    q1 = (\n",
    "        qtn\n",
    "        .tensor_1d\n",
    "        .MatrixProductState(psi_arrays, shape='lpr')\n",
    "    )\n",
    "    \n",
    "    problem_rdm = generate_problem_rdm(\n",
    "        q1,\n",
    "        symmetry_site_pairs,\n",
    "        left_most_symmetry_site,\n",
    "        num_symmetry_sites,\n",
    "        num_boundary_sites\n",
    "    )\n",
    "\n",
    "    return problem_rdm"
   ]
  },
  {
   "cell_type": "markdown",
   "id": "5fc06a38-7a0c-4740-8759-b5e34c4b0a37",
   "metadata": {},
   "source": [
    "## Optimisation functions"
   ]
  },
  {
   "cell_type": "code",
   "execution_count": 35,
   "id": "07094b29-e8ee-49eb-af8b-bb3a13833ef0",
   "metadata": {},
   "outputs": [],
   "source": [
    "def split_mpo_pair(mpo_pair):\n",
    "    ml = qtn.TensorNetwork(\n",
    "        list(map(mpo_pair.tensor_map.__getitem__, mpo_pair.tag_map['left_mpo']))\n",
    "    )\n",
    "\n",
    "    mr = qtn.TensorNetwork(\n",
    "        list(map(mpo_pair.tensor_map.__getitem__, mpo_pair.tag_map['right_mpo']))\n",
    "    )\n",
    "\n",
    "    return (ml, mr)"
   ]
  },
  {
   "cell_type": "code",
   "execution_count": 36,
   "id": "f9c78157-b1e7-4766-93f9-0b9101909c8e",
   "metadata": {},
   "outputs": [],
   "source": [
    "def overlap_loss_function(ml, mr, rdm_tn, epsilon=0):\n",
    "    c = (rdm_tn & ml & mr) ^ ...\n",
    "\n",
    "    c_abs_squared = (\n",
    "        c\n",
    "        *jnp.conjugate(c)\n",
    "    )\n",
    "    #c_abs_squared = c_abs_squared.astype('float32')\n",
    "    c_abs = (jnp.sqrt(c_abs_squared+epsilon))\n",
    "\n",
    "    target = jnp.sqrt(1+epsilon)\n",
    "    loss = (c_abs - target)**2\n",
    "\n",
    "    return loss"
   ]
  },
  {
   "cell_type": "code",
   "execution_count": 37,
   "id": "dc2acced-42d4-495a-8fa4-c6540a9c6ca0",
   "metadata": {},
   "outputs": [],
   "source": [
    "def overlap_loss_function_mpo_pair(mpo_pair, rdm_tn):\n",
    "    ml, mr = split_mpo_pair(mpo_pair)\n",
    "\n",
    "    return overlap_loss_function(ml, mr, rdm_tn)"
   ]
  },
  {
   "cell_type": "code",
   "execution_count": 38,
   "id": "b621cd9e-bf58-44b8-b924-55584bc55e0f",
   "metadata": {},
   "outputs": [],
   "source": [
    "regex_s = r\"^I\\d+$\"\n",
    "regex_p = re.compile(regex_s)"
   ]
  },
  {
   "cell_type": "code",
   "execution_count": 39,
   "id": "c11190c9-133d-47bb-9887-bcbb44c2ae05",
   "metadata": {},
   "outputs": [],
   "source": [
    "def relabel_mpo(mpo, k_label, b_label):\n",
    "    site_locs = [\n",
    "        int(k[1:]) for k in mpo.tag_map\n",
    "        if bool(re.search(regex_p, k))\n",
    "    ]\n",
    "\n",
    "    k_in_indices = [f'k{i}' for i in site_locs]\n",
    "    j_in_indices = [f'b{i}' for i in site_locs]\n",
    "\n",
    "    k_out_indices = [f'{k_label}{i}' for i in site_locs]\n",
    "    j_out_indices = [f'{b_label}{i}' for i in site_locs]\n",
    "\n",
    "    mapping = dict(\n",
    "        chain(\n",
    "            zip(k_in_indices, k_out_indices),\n",
    "            zip(j_in_indices, j_out_indices)\n",
    "        )\n",
    "    )\n",
    "\n",
    "    mpo.reindex(mapping, inplace=True)"
   ]
  },
  {
   "cell_type": "code",
   "execution_count": 40,
   "id": "bf90d0ad-8ea6-490a-94fd-22049fbc0daa",
   "metadata": {},
   "outputs": [],
   "source": [
    "def unitarity_tn(tn, total_physical_dim):\n",
    "    ms = [tn.copy(), tn.copy(), tn.copy()]\n",
    "\n",
    "    relabel_mpo(ms[0], 'k', 'l')\n",
    "    relabel_mpo(ms[1], 'm', 'l')\n",
    "    relabel_mpo(ms[2], 'm', 'b')\n",
    "\n",
    "    ms[0] = ms[0].conj()\n",
    "    ms[2] = ms[2].conj()\n",
    "\n",
    "    n2tn = (tn & tn.conj())\n",
    "    n2 = n2tn.contract(n2tn.tag_map)\n",
    "    n4tn = (tn & ms[0] & ms[1] & ms[2])\n",
    "    n4 = n4tn.contract(n4tn.tag_map)\n",
    "\n",
    "    out = jnp.real(n4 - 2*n2 + total_physical_dim)\n",
    "\n",
    "    return out"
   ]
  },
  {
   "cell_type": "code",
   "execution_count": 41,
   "id": "c4c6f486-6f28-4429-b385-f8a346fd1916",
   "metadata": {},
   "outputs": [],
   "source": [
    "def overall_loss_function(mpo_pair, rdm_tn, total_physical_dimension,\n",
    "    unitary_cost_coefficient=1, overlap_cost_coefficient=1, losses=None):\n",
    "    ml, mr = split_mpo_pair(mpo_pair)\n",
    "\n",
    "    o_loss = overlap_loss_function(ml, mr, rdm_tn)\n",
    "    ul_loss = unitarity_tn(ml, total_physical_dimension)\n",
    "    ur_loss = unitarity_tn(mr, total_physical_dimension)\n",
    "\n",
    "    out = (\n",
    "        unitary_cost_coefficient*(ul_loss+ur_loss)\n",
    "        + overlap_cost_coefficient*o_loss\n",
    "    )\n",
    "\n",
    "    out = jnp.real(out)\n",
    "\n",
    "    if losses is not None:\n",
    "        losses.append((o_loss, ul_loss, ur_loss))\n",
    "    return out"
   ]
  },
  {
   "cell_type": "markdown",
   "id": "182f6d16-dfff-4cef-9dda-d3920db7c0bf",
   "metadata": {},
   "source": [
    "## Extract SPT phase functions"
   ]
  },
  {
   "cell_type": "code",
   "execution_count": 42,
   "id": "b797f208-56a6-4f64-b2bc-dda2358314e2",
   "metadata": {},
   "outputs": [],
   "source": [
    "def get_right_fp_overlap(rdm, mpo_l, mpo_r, leftmost_symmetry_site,\n",
    "                     num_symmetry_sites, num_boundary_sites):\n",
    "\n",
    "    tn = rdm.copy(deep=True)\n",
    "\n",
    "    fermionic_site_indices = [\n",
    "        i\n",
    "        for i in range(\n",
    "            leftmost_symmetry_site+num_symmetry_sites,\n",
    "            leftmost_symmetry_site+num_symmetry_sites+num_boundary_sites\n",
    "        )\n",
    "        if i % 2 == 1\n",
    "    ]\n",
    "\n",
    "    top_fermionic_tensors = [\n",
    "        (f'k{i}', next(map(tn.tensor_map.__getitem__, tn.ind_map[f'k{i}'])))\n",
    "        for i in fermionic_site_indices\n",
    "    ]\n",
    "\n",
    "    bottom_fermionic_tensors = [\n",
    "        (f'b{i}', next(map(tn.tensor_map.__getitem__, tn.ind_map[f'b{i}'])))\n",
    "        for i in fermionic_site_indices\n",
    "    ]\n",
    "\n",
    "    for ind, t in top_fermionic_tensors:\n",
    "        t.gate(\n",
    "            np_JW,\n",
    "            ind=ind,\n",
    "            inplace=True\n",
    "        )\n",
    "\n",
    "    for ind, t in bottom_fermionic_tensors:\n",
    "        t.gate(\n",
    "            np_JW,\n",
    "            ind=ind,\n",
    "            transposed=True,\n",
    "            inplace=True\n",
    "        )\n",
    "\n",
    "    out = (tn & mpo_l & mpo_r) ^ ...\n",
    "\n",
    "    return out"
   ]
  },
  {
   "cell_type": "code",
   "execution_count": 43,
   "id": "0b3a7976-d218-4eb9-b38c-e0cfd56337e0",
   "metadata": {},
   "outputs": [],
   "source": [
    "def get_left_fp_overlap(rdm, mpo_l, mpo_r, leftmost_symmetry_site,\n",
    "                     num_symmetry_sites, num_boundary_sites):\n",
    "\n",
    "    tn = rdm.copy(deep=True)\n",
    "\n",
    "    fermionic_site_indices = [\n",
    "        i\n",
    "        for i in range(\n",
    "            leftmost_symmetry_site-num_boundary_sites,\n",
    "            leftmost_symmetry_site\n",
    "        )\n",
    "        if i % 2 == 1\n",
    "    ]\n",
    "\n",
    "    top_fermionic_tensors = [\n",
    "        (f'k{i}', next(map(tn.tensor_map.__getitem__, tn.ind_map[f'k{i}'])))\n",
    "        for i in fermionic_site_indices\n",
    "    ]\n",
    "\n",
    "    bottom_fermionic_tensors = [\n",
    "        (f'b{i}', next(map(tn.tensor_map.__getitem__, tn.ind_map[f'b{i}'])))\n",
    "        for i in fermionic_site_indices\n",
    "    ]\n",
    "\n",
    "    for ind, t in top_fermionic_tensors:\n",
    "        t.gate(\n",
    "            np_JW,\n",
    "            ind=ind,\n",
    "            inplace=True\n",
    "        )\n",
    "\n",
    "    for ind, t in bottom_fermionic_tensors:\n",
    "        t.gate(\n",
    "            np_JW,\n",
    "            ind=ind,\n",
    "            transposed=True,\n",
    "            inplace=True\n",
    "        )\n",
    "\n",
    "    out = (tn & mpo_l & mpo_r) ^ ...\n",
    "\n",
    "    return out"
   ]
  },
  {
   "cell_type": "code",
   "execution_count": 44,
   "id": "3bca38f5-b5f0-4e72-9136-9388eb46445b",
   "metadata": {},
   "outputs": [],
   "source": [
    "def get_fp_charges(rdm, ml, mr, left_most_symmetry_site, num_symmetry_sites,\n",
    "               num_boundary_sites):\n",
    "    base_overlap = (rdm & ml & mr) ^ ...\n",
    "\n",
    "    right_fp_overlap = get_right_fp_overlap(\n",
    "        rdm,\n",
    "        ml,\n",
    "        mr,\n",
    "        left_most_symmetry_site,\n",
    "        num_symmetry_sites,\n",
    "        num_boundary_sites\n",
    "    )\n",
    "\n",
    "    left_fp_overlap = get_left_fp_overlap(\n",
    "        rdm,\n",
    "        ml,\n",
    "        mr,\n",
    "        left_most_symmetry_site,\n",
    "        num_symmetry_sites,\n",
    "        num_boundary_sites\n",
    "    )\n",
    "\n",
    "    right_fp_charge = right_fp_overlap/base_overlap\n",
    "    left_fp_charge = left_fp_overlap/base_overlap\n",
    "\n",
    "    return (left_fp_charge, right_fp_charge, base_overlap)"
   ]
  },
  {
   "cell_type": "markdown",
   "id": "4c5e699e-abda-42f5-b57e-238517eb3fe1",
   "metadata": {},
   "source": [
    "# Extract SPT phase\n",
    "## Fermionic group cohomology"
   ]
  },
  {
   "cell_type": "code",
   "execution_count": 45,
   "id": "88afc57c-5227-4220-94e3-717a2e8db407",
   "metadata": {},
   "outputs": [],
   "source": [
    "num_boundary_sites=6\n",
    "left_most_symmetry_site=60\n",
    "num_symmetry_sites=80\n",
    "bond_dimension=6\n",
    "\n",
    "total_physical_dim = 2**9"
   ]
  },
  {
   "cell_type": "code",
   "execution_count": 46,
   "id": "7dc8cbbc-53f2-46fd-a8f0-60b0ad3e63bf",
   "metadata": {},
   "outputs": [],
   "source": [
    "fp_charges = dict()\n",
    "\n",
    "for k, ops in best_boundary_operators.items():\n",
    "    ml, mr = split_mpo_pair(ops[1])\n",
    "\n",
    "    if k[0] == 0:\n",
    "        tenpy_psi = loaded_data_triv_proj_rep[k[1]]\n",
    "    elif k[0] == 1:\n",
    "        tenpy_psi = loaded_data_non_triv_proj_rep[k[1]]\n",
    "\n",
    "    bs = bosonic_np_symmetries[k[2]]\n",
    "    fs = fermionic_np_symmetries[k[3]]\n",
    "\n",
    "    symmetry_site_pairs = (\n",
    "        [(i, bs) for i in range(left_most_symmetry_site, left_most_symmetry_site+num_symmetry_sites, 2)]\n",
    "        + [(i, fs) for i in range(left_most_symmetry_site+1, left_most_symmetry_site+num_symmetry_sites+1, 2)]\n",
    "    )\n",
    "\n",
    "    rdm = generate_rdm_from_tenpy_psi(\n",
    "        tenpy_psi,\n",
    "        symmetry_site_pairs,\n",
    "        left_most_symmetry_site,\n",
    "        num_symmetry_sites,\n",
    "        num_boundary_sites\n",
    "    )\n",
    "\n",
    "    out = get_fp_charges(\n",
    "        rdm,\n",
    "        ml,\n",
    "        mr,\n",
    "        left_most_symmetry_site,\n",
    "        num_symmetry_sites,\n",
    "        num_boundary_sites\n",
    "    )\n",
    "\n",
    "    fp_charges[k] = out"
   ]
  },
  {
   "cell_type": "code",
   "execution_count": 47,
   "id": "c98c929a-6858-4f9b-9a45-7fe06504d3b7",
   "metadata": {
    "scrolled": true
   },
   "outputs": [],
   "source": [
    "X = np.array(list(fp_charges.values()))"
   ]
  },
  {
   "cell_type": "code",
   "execution_count": 48,
   "id": "49fe50f1-4767-419a-9503-35ee51bb0c58",
   "metadata": {},
   "outputs": [
    {
     "data": {
      "text/plain": [
       "Counter({1.0: 120, -1.0: 120})"
      ]
     },
     "execution_count": 48,
     "metadata": {},
     "output_type": "execute_result"
    }
   ],
   "source": [
    "Counter(np.real(np.round(X[:, 1], 2)))"
   ]
  },
  {
   "cell_type": "code",
   "execution_count": 49,
   "id": "b794a28d-306a-4893-915f-b984d8e02886",
   "metadata": {},
   "outputs": [
    {
     "data": {
      "text/plain": [
       "Counter({1.0: 120, -1.0: 120})"
      ]
     },
     "execution_count": 49,
     "metadata": {},
     "output_type": "execute_result"
    }
   ],
   "source": [
    "Counter(np.real(np.round(X[:, 0], 2)))"
   ]
  },
  {
   "cell_type": "code",
   "execution_count": 50,
   "id": "20fe2b4f-6fbc-4a9c-b811-28a6459d677c",
   "metadata": {},
   "outputs": [
    {
     "data": {
      "text/plain": [
       "count    240.000000\n",
       "mean       0.972830\n",
       "std        0.025664\n",
       "min        0.885239\n",
       "25%        0.960699\n",
       "50%        0.982164\n",
       "75%        0.991530\n",
       "max        1.002534\n",
       "dtype: float64"
      ]
     },
     "execution_count": 50,
     "metadata": {},
     "output_type": "execute_result"
    }
   ],
   "source": [
    "pd.Series(np.abs(X[:, 2])).describe()"
   ]
  },
  {
   "cell_type": "code",
   "execution_count": 51,
   "id": "66f89036-1c32-4bf4-a01d-0ea7a3dcb91f",
   "metadata": {},
   "outputs": [
    {
     "data": {
      "text/plain": [
       "True"
      ]
     },
     "execution_count": 51,
     "metadata": {},
     "output_type": "execute_result"
    }
   ],
   "source": [
    "np.all(np.real(np.round(X[:, 1], 2)==np.real(np.round(X[:, 0], 2))))"
   ]
  },
  {
   "cell_type": "code",
   "execution_count": 52,
   "id": "a327278a-8135-484c-85a3-c142ad334f13",
   "metadata": {
    "scrolled": true
   },
   "outputs": [],
   "source": [
    "single_fp_charges = {k: np.real(np.round(v[0], 2)) for k, v in fp_charges.items()}"
   ]
  },
  {
   "cell_type": "code",
   "execution_count": 53,
   "id": "f6fe4b71-f58d-498c-bbd4-363483fec042",
   "metadata": {},
   "outputs": [],
   "source": [
    "g = groupby(single_fp_charges.items(), key=lambda x: x[0][:-1])\n",
    "single_fp_charges_deduplicated = dict()\n",
    "\n",
    "for k, v in g:\n",
    "    values = [v1[1] for v1 in v]\n",
    "    assert len(Counter(values)) == 1\n",
    "    single_fp_charges_deduplicated[k] = values[0]"
   ]
  },
  {
   "cell_type": "code",
   "execution_count": 54,
   "id": "c938c884-de69-4ead-ac7e-00ed4619102c",
   "metadata": {
    "scrolled": true
   },
   "outputs": [
    {
     "data": {
      "text/plain": [
       "{(0, 0.9, 3): 1.0,\n",
       " (1, 0.35, 2): -1.0,\n",
       " (0, 0.45, 1): -1.0,\n",
       " (1, 0.25, 1): 1.0,\n",
       " (1, 0.4, 3): -1.0,\n",
       " (1, 0.05, 2): -1.0,\n",
       " (0, 0.45, 3): -1.0,\n",
       " (1, 0.15, 1): 1.0,\n",
       " (1, 0.3, 3): -1.0,\n",
       " (1, 0.35, 3): -1.0,\n",
       " (1, 0.65, 1): -1.0,\n",
       " (1, 0.75, 2): 1.0,\n",
       " (1, 0.4, 2): -1.0,\n",
       " (1, 0.55, 1): -1.0,\n",
       " (1, 0.45, 2): -1.0,\n",
       " (1, 0.3, 2): -1.0,\n",
       " (0, 0.7, 2): 1.0,\n",
       " (0, 0.0, 2): 1.0,\n",
       " (0, 0.25, 3): -1.0,\n",
       " (1, 0.45, 1): 1.0,\n",
       " (1, 0.1, 3): -1.0,\n",
       " (1, 0.55, 2): 1.0,\n",
       " (1, 0.4, 1): 1.0,\n",
       " (0, 0.65, 3): 1.0,\n",
       " (1, 0.25, 2): -1.0,\n",
       " (0, 0.2, 1): -1.0,\n",
       " (1, 0.2, 3): -1.0,\n",
       " (1, 0.35, 1): 1.0,\n",
       " (1, 0.8, 1): -1.0,\n",
       " (0, 0.85, 1): 1.0,\n",
       " (0, 0.15, 3): -1.0,\n",
       " (0, 0.95, 2): 1.0,\n",
       " (1, 0.2, 2): -1.0,\n",
       " (1, 0.1, 2): -1.0,\n",
       " (0, 1.0, 2): 1.0,\n",
       " (0, 0.8, 3): 1.0,\n",
       " (1, 0.15, 2): -1.0,\n",
       " (0, 0.55, 3): 1.0,\n",
       " (1, 0.0, 1): 1.0,\n",
       " (1, 0.45, 3): -1.0,\n",
       " (1, 0.85, 3): -1.0,\n",
       " (0, 0.4, 1): -1.0,\n",
       " (0, 0.3, 1): -1.0,\n",
       " (1, 0.9, 1): -1.0,\n",
       " (0, 0.1, 2): 1.0,\n",
       " (0, 0.6, 2): 1.0,\n",
       " (1, 0.05, 3): -1.0,\n",
       " (1, 0.0, 3): -1.0,\n",
       " (1, 0.65, 3): -1.0,\n",
       " (1, 0.6, 2): 1.0,\n",
       " (0, 0.9, 1): 1.0,\n",
       " (1, 0.25, 3): -1.0,\n",
       " (1, 0.3, 1): 1.0,\n",
       " (0, 0.65, 1): 1.0,\n",
       " (0, 0.2, 3): -1.0,\n",
       " (0, 0.75, 2): 1.0,\n",
       " (1, 0.2, 1): 1.0,\n",
       " (1, 1.0, 2): 1.0,\n",
       " (1, 0.8, 3): -1.0,\n",
       " (1, 0.0, 2): -1.0,\n",
       " (0, 0.35, 2): 1.0,\n",
       " (0, 0.25, 1): -1.0,\n",
       " (0, 0.45, 2): 1.0,\n",
       " (0, 0.8, 1): 1.0,\n",
       " (0, 0.55, 1): 1.0,\n",
       " (0, 0.15, 1): -1.0,\n",
       " (0, 0.85, 3): 1.0,\n",
       " (0, 0.05, 2): 1.0,\n",
       " (1, 0.7, 2): 1.0,\n",
       " (1, 0.55, 3): -1.0,\n",
       " (0, 0.4, 3): -1.0,\n",
       " (1, 0.85, 1): -1.0,\n",
       " (1, 0.15, 3): -1.0,\n",
       " (0, 0.3, 3): -1.0,\n",
       " (1, 0.95, 2): 1.0,\n",
       " (1, 0.9, 3): -1.0,\n",
       " (1, 0.7, 1): -1.0,\n",
       " (0, 0.15, 2): 1.0,\n",
       " (0, 0.95, 3): 1.0,\n",
       " (0, 0.05, 1): -1.0,\n",
       " (0, 1.0, 3): 1.0,\n",
       " (0, 0.8, 2): 1.0,\n",
       " (0, 0.55, 2): 1.0,\n",
       " (1, 0.85, 2): 1.0,\n",
       " (1, 0.95, 1): -1.0,\n",
       " (0, 0.1, 3): -1.0,\n",
       " (0, 0.6, 3): 1.0,\n",
       " (0, 0.9, 2): 1.0,\n",
       " (1, 0.1, 1): 1.0,\n",
       " (1, 0.6, 1): -1.0,\n",
       " (1, 0.75, 3): -1.0,\n",
       " (0, 0.7, 3): 1.0,\n",
       " (0, 0.35, 1): -1.0,\n",
       " (0, 0.0, 3): -1.0,\n",
       " (0, 0.25, 2): 1.0,\n",
       " (1, 1.0, 1): -1.0,\n",
       " (0, 0.65, 2): 1.0,\n",
       " (0, 0.75, 1): 1.0,\n",
       " (0, 1.0, 1): 1.0,\n",
       " (1, 0.7, 3): -1.0,\n",
       " (0, 0.85, 2): 1.0,\n",
       " (0, 0.05, 3): -1.0,\n",
       " (0, 0.95, 1): 1.0,\n",
       " (0, 0.1, 1): -1.0,\n",
       " (0, 0.6, 1): 1.0,\n",
       " (1, 0.9, 2): 1.0,\n",
       " (0, 0.4, 2): 1.0,\n",
       " (0, 0.3, 2): 1.0,\n",
       " (1, 0.95, 3): -1.0,\n",
       " (1, 0.05, 1): 1.0,\n",
       " (1, 0.6, 3): -1.0,\n",
       " (1, 0.65, 2): 1.0,\n",
       " (1, 0.75, 1): -1.0,\n",
       " (1, 1.0, 3): -1.0,\n",
       " (1, 0.8, 2): 1.0,\n",
       " (0, 0.2, 2): 1.0,\n",
       " (0, 0.75, 3): 1.0,\n",
       " (0, 0.7, 1): 1.0,\n",
       " (0, 0.35, 3): -1.0,\n",
       " (0, 0.0, 1): -1.0}"
      ]
     },
     "execution_count": 54,
     "metadata": {},
     "output_type": "execute_result"
    }
   ],
   "source": [
    "single_fp_charges_deduplicated"
   ]
  },
  {
   "cell_type": "markdown",
   "id": "e066fca1-f052-4627-984f-924e2aada875",
   "metadata": {},
   "source": [
    "Pull out correct cases."
   ]
  },
  {
   "cell_type": "code",
   "execution_count": 55,
   "id": "2a60563e-8991-4473-8f36-af6940576d2f",
   "metadata": {},
   "outputs": [],
   "source": [
    "signs_to_01 = {1.0: 0, -1.0: 1}"
   ]
  },
  {
   "cell_type": "code",
   "execution_count": 56,
   "id": "87d87203-98fc-46c7-94e6-313191d2337c",
   "metadata": {},
   "outputs": [],
   "source": [
    "correct_boundary_operators = {\n",
    "    k: best_boundary_operators[(*k, signs_to_01[v])][1]\n",
    "    for k, v in single_fp_charges_deduplicated.items()\n",
    "}"
   ]
  },
  {
   "cell_type": "code",
   "execution_count": 57,
   "id": "1437ff63-8d3e-41da-b046-8b7d21916895",
   "metadata": {},
   "outputs": [
    {
     "data": {
      "text/plain": [
       "120"
      ]
     },
     "execution_count": 57,
     "metadata": {},
     "output_type": "execute_result"
    }
   ],
   "source": [
    "len(correct_boundary_operators)"
   ]
  },
  {
   "cell_type": "code",
   "execution_count": 58,
   "id": "dd207f6d-6b51-416b-a728-2f9d09696ef2",
   "metadata": {
    "scrolled": true
   },
   "outputs": [
    {
     "data": {
      "text/plain": [
       "{(0, 0.9, 3): TensorNetwork1D(tensors=12, indices=34, L=6, max_bond=6),\n",
       " (1, 0.35, 2): TensorNetwork1D(tensors=12, indices=34, L=6, max_bond=6),\n",
       " (0, 0.45, 1): TensorNetwork1D(tensors=12, indices=34, L=6, max_bond=6),\n",
       " (1, 0.25, 1): TensorNetwork1D(tensors=12, indices=34, L=6, max_bond=6),\n",
       " (1, 0.4, 3): TensorNetwork1D(tensors=12, indices=34, L=6, max_bond=6),\n",
       " (1, 0.05, 2): TensorNetwork1D(tensors=12, indices=34, L=6, max_bond=6),\n",
       " (0, 0.45, 3): TensorNetwork1D(tensors=12, indices=34, L=6, max_bond=6),\n",
       " (1, 0.15, 1): TensorNetwork1D(tensors=12, indices=34, L=6, max_bond=6),\n",
       " (1, 0.3, 3): TensorNetwork1D(tensors=12, indices=34, L=6, max_bond=6),\n",
       " (1, 0.35, 3): TensorNetwork1D(tensors=12, indices=34, L=6, max_bond=6),\n",
       " (1, 0.65, 1): TensorNetwork1D(tensors=12, indices=34, L=6, max_bond=6),\n",
       " (1, 0.75, 2): TensorNetwork1D(tensors=12, indices=34, L=6, max_bond=6),\n",
       " (1, 0.4, 2): TensorNetwork1D(tensors=12, indices=34, L=6, max_bond=6),\n",
       " (1, 0.55, 1): TensorNetwork1D(tensors=12, indices=34, L=6, max_bond=6),\n",
       " (1, 0.45, 2): TensorNetwork1D(tensors=12, indices=34, L=6, max_bond=6),\n",
       " (1, 0.3, 2): TensorNetwork1D(tensors=12, indices=34, L=6, max_bond=6),\n",
       " (0, 0.7, 2): TensorNetwork1D(tensors=12, indices=34, L=6, max_bond=6),\n",
       " (0, 0.0, 2): TensorNetwork1D(tensors=12, indices=34, L=6, max_bond=6),\n",
       " (0, 0.25, 3): TensorNetwork1D(tensors=12, indices=34, L=6, max_bond=6),\n",
       " (1, 0.45, 1): TensorNetwork1D(tensors=12, indices=34, L=6, max_bond=6),\n",
       " (1, 0.1, 3): TensorNetwork1D(tensors=12, indices=34, L=6, max_bond=6),\n",
       " (1, 0.55, 2): TensorNetwork1D(tensors=12, indices=34, L=6, max_bond=6),\n",
       " (1, 0.4, 1): TensorNetwork1D(tensors=12, indices=34, L=6, max_bond=6),\n",
       " (0, 0.65, 3): TensorNetwork1D(tensors=12, indices=34, L=6, max_bond=6),\n",
       " (1, 0.25, 2): TensorNetwork1D(tensors=12, indices=34, L=6, max_bond=6),\n",
       " (0, 0.2, 1): TensorNetwork1D(tensors=12, indices=34, L=6, max_bond=6),\n",
       " (1, 0.2, 3): TensorNetwork1D(tensors=12, indices=34, L=6, max_bond=6),\n",
       " (1, 0.35, 1): TensorNetwork1D(tensors=12, indices=34, L=6, max_bond=6),\n",
       " (1, 0.8, 1): TensorNetwork1D(tensors=12, indices=34, L=6, max_bond=6),\n",
       " (0, 0.85, 1): TensorNetwork1D(tensors=12, indices=34, L=6, max_bond=6),\n",
       " (0, 0.15, 3): TensorNetwork1D(tensors=12, indices=34, L=6, max_bond=6),\n",
       " (0, 0.95, 2): TensorNetwork1D(tensors=12, indices=34, L=6, max_bond=6),\n",
       " (1, 0.2, 2): TensorNetwork1D(tensors=12, indices=34, L=6, max_bond=6),\n",
       " (1, 0.1, 2): TensorNetwork1D(tensors=12, indices=34, L=6, max_bond=6),\n",
       " (0, 1.0, 2): TensorNetwork1D(tensors=12, indices=34, L=6, max_bond=6),\n",
       " (0, 0.8, 3): TensorNetwork1D(tensors=12, indices=34, L=6, max_bond=6),\n",
       " (1, 0.15, 2): TensorNetwork1D(tensors=12, indices=34, L=6, max_bond=6),\n",
       " (0, 0.55, 3): TensorNetwork1D(tensors=12, indices=34, L=6, max_bond=6),\n",
       " (1, 0.0, 1): TensorNetwork1D(tensors=12, indices=34, L=6, max_bond=6),\n",
       " (1, 0.45, 3): TensorNetwork1D(tensors=12, indices=34, L=6, max_bond=6),\n",
       " (1, 0.85, 3): TensorNetwork1D(tensors=12, indices=34, L=6, max_bond=6),\n",
       " (0, 0.4, 1): TensorNetwork1D(tensors=12, indices=34, L=6, max_bond=6),\n",
       " (0, 0.3, 1): TensorNetwork1D(tensors=12, indices=34, L=6, max_bond=6),\n",
       " (1, 0.9, 1): TensorNetwork1D(tensors=12, indices=34, L=6, max_bond=6),\n",
       " (0, 0.1, 2): TensorNetwork1D(tensors=12, indices=34, L=6, max_bond=6),\n",
       " (0, 0.6, 2): TensorNetwork1D(tensors=12, indices=34, L=6, max_bond=6),\n",
       " (1, 0.05, 3): TensorNetwork1D(tensors=12, indices=34, L=6, max_bond=6),\n",
       " (1, 0.0, 3): TensorNetwork1D(tensors=12, indices=34, L=6, max_bond=6),\n",
       " (1, 0.65, 3): TensorNetwork1D(tensors=12, indices=34, L=6, max_bond=6),\n",
       " (1, 0.6, 2): TensorNetwork1D(tensors=12, indices=34, L=6, max_bond=6),\n",
       " (0, 0.9, 1): TensorNetwork1D(tensors=12, indices=34, L=6, max_bond=6),\n",
       " (1, 0.25, 3): TensorNetwork1D(tensors=12, indices=34, L=6, max_bond=6),\n",
       " (1, 0.3, 1): TensorNetwork1D(tensors=12, indices=34, L=6, max_bond=6),\n",
       " (0, 0.65, 1): TensorNetwork1D(tensors=12, indices=34, L=6, max_bond=6),\n",
       " (0, 0.2, 3): TensorNetwork1D(tensors=12, indices=34, L=6, max_bond=6),\n",
       " (0, 0.75, 2): TensorNetwork1D(tensors=12, indices=34, L=6, max_bond=6),\n",
       " (1, 0.2, 1): TensorNetwork1D(tensors=12, indices=34, L=6, max_bond=6),\n",
       " (1, 1.0, 2): TensorNetwork1D(tensors=12, indices=34, L=6, max_bond=6),\n",
       " (1, 0.8, 3): TensorNetwork1D(tensors=12, indices=34, L=6, max_bond=6),\n",
       " (1, 0.0, 2): TensorNetwork1D(tensors=12, indices=34, L=6, max_bond=6),\n",
       " (0, 0.35, 2): TensorNetwork1D(tensors=12, indices=34, L=6, max_bond=6),\n",
       " (0, 0.25, 1): TensorNetwork1D(tensors=12, indices=34, L=6, max_bond=6),\n",
       " (0, 0.45, 2): TensorNetwork1D(tensors=12, indices=34, L=6, max_bond=6),\n",
       " (0, 0.8, 1): TensorNetwork1D(tensors=12, indices=34, L=6, max_bond=6),\n",
       " (0, 0.55, 1): TensorNetwork1D(tensors=12, indices=34, L=6, max_bond=6),\n",
       " (0, 0.15, 1): TensorNetwork1D(tensors=12, indices=34, L=6, max_bond=6),\n",
       " (0, 0.85, 3): TensorNetwork1D(tensors=12, indices=34, L=6, max_bond=6),\n",
       " (0, 0.05, 2): TensorNetwork1D(tensors=12, indices=34, L=6, max_bond=6),\n",
       " (1, 0.7, 2): TensorNetwork1D(tensors=12, indices=34, L=6, max_bond=6),\n",
       " (1, 0.55, 3): TensorNetwork1D(tensors=12, indices=34, L=6, max_bond=6),\n",
       " (0, 0.4, 3): TensorNetwork1D(tensors=12, indices=34, L=6, max_bond=6),\n",
       " (1, 0.85, 1): TensorNetwork1D(tensors=12, indices=34, L=6, max_bond=6),\n",
       " (1, 0.15, 3): TensorNetwork1D(tensors=12, indices=34, L=6, max_bond=6),\n",
       " (0, 0.3, 3): TensorNetwork1D(tensors=12, indices=34, L=6, max_bond=6),\n",
       " (1, 0.95, 2): TensorNetwork1D(tensors=12, indices=34, L=6, max_bond=6),\n",
       " (1, 0.9, 3): TensorNetwork1D(tensors=12, indices=34, L=6, max_bond=6),\n",
       " (1, 0.7, 1): TensorNetwork1D(tensors=12, indices=34, L=6, max_bond=6),\n",
       " (0, 0.15, 2): TensorNetwork1D(tensors=12, indices=34, L=6, max_bond=6),\n",
       " (0, 0.95, 3): TensorNetwork1D(tensors=12, indices=34, L=6, max_bond=6),\n",
       " (0, 0.05, 1): TensorNetwork1D(tensors=12, indices=34, L=6, max_bond=6),\n",
       " (0, 1.0, 3): TensorNetwork1D(tensors=12, indices=34, L=6, max_bond=6),\n",
       " (0, 0.8, 2): TensorNetwork1D(tensors=12, indices=34, L=6, max_bond=6),\n",
       " (0, 0.55, 2): TensorNetwork1D(tensors=12, indices=34, L=6, max_bond=6),\n",
       " (1, 0.85, 2): TensorNetwork1D(tensors=12, indices=34, L=6, max_bond=6),\n",
       " (1, 0.95, 1): TensorNetwork1D(tensors=12, indices=34, L=6, max_bond=6),\n",
       " (0, 0.1, 3): TensorNetwork1D(tensors=12, indices=34, L=6, max_bond=6),\n",
       " (0, 0.6, 3): TensorNetwork1D(tensors=12, indices=34, L=6, max_bond=6),\n",
       " (0, 0.9, 2): TensorNetwork1D(tensors=12, indices=34, L=6, max_bond=6),\n",
       " (1, 0.1, 1): TensorNetwork1D(tensors=12, indices=34, L=6, max_bond=6),\n",
       " (1, 0.6, 1): TensorNetwork1D(tensors=12, indices=34, L=6, max_bond=6),\n",
       " (1, 0.75, 3): TensorNetwork1D(tensors=12, indices=34, L=6, max_bond=6),\n",
       " (0, 0.7, 3): TensorNetwork1D(tensors=12, indices=34, L=6, max_bond=6),\n",
       " (0, 0.35, 1): TensorNetwork1D(tensors=12, indices=34, L=6, max_bond=6),\n",
       " (0, 0.0, 3): TensorNetwork1D(tensors=12, indices=34, L=6, max_bond=6),\n",
       " (0, 0.25, 2): TensorNetwork1D(tensors=12, indices=34, L=6, max_bond=6),\n",
       " (1, 1.0, 1): TensorNetwork1D(tensors=12, indices=34, L=6, max_bond=6),\n",
       " (0, 0.65, 2): TensorNetwork1D(tensors=12, indices=34, L=6, max_bond=6),\n",
       " (0, 0.75, 1): TensorNetwork1D(tensors=12, indices=34, L=6, max_bond=6),\n",
       " (0, 1.0, 1): TensorNetwork1D(tensors=12, indices=34, L=6, max_bond=6),\n",
       " (1, 0.7, 3): TensorNetwork1D(tensors=12, indices=34, L=6, max_bond=6),\n",
       " (0, 0.85, 2): TensorNetwork1D(tensors=12, indices=34, L=6, max_bond=6),\n",
       " (0, 0.05, 3): TensorNetwork1D(tensors=12, indices=34, L=6, max_bond=6),\n",
       " (0, 0.95, 1): TensorNetwork1D(tensors=12, indices=34, L=6, max_bond=6),\n",
       " (0, 0.1, 1): TensorNetwork1D(tensors=12, indices=34, L=6, max_bond=6),\n",
       " (0, 0.6, 1): TensorNetwork1D(tensors=12, indices=34, L=6, max_bond=6),\n",
       " (1, 0.9, 2): TensorNetwork1D(tensors=12, indices=34, L=6, max_bond=6),\n",
       " (0, 0.4, 2): TensorNetwork1D(tensors=12, indices=34, L=6, max_bond=6),\n",
       " (0, 0.3, 2): TensorNetwork1D(tensors=12, indices=34, L=6, max_bond=6),\n",
       " (1, 0.95, 3): TensorNetwork1D(tensors=12, indices=34, L=6, max_bond=6),\n",
       " (1, 0.05, 1): TensorNetwork1D(tensors=12, indices=34, L=6, max_bond=6),\n",
       " (1, 0.6, 3): TensorNetwork1D(tensors=12, indices=34, L=6, max_bond=6),\n",
       " (1, 0.65, 2): TensorNetwork1D(tensors=12, indices=34, L=6, max_bond=6),\n",
       " (1, 0.75, 1): TensorNetwork1D(tensors=12, indices=34, L=6, max_bond=6),\n",
       " (1, 1.0, 3): TensorNetwork1D(tensors=12, indices=34, L=6, max_bond=6),\n",
       " (1, 0.8, 2): TensorNetwork1D(tensors=12, indices=34, L=6, max_bond=6),\n",
       " (0, 0.2, 2): TensorNetwork1D(tensors=12, indices=34, L=6, max_bond=6),\n",
       " (0, 0.75, 3): TensorNetwork1D(tensors=12, indices=34, L=6, max_bond=6),\n",
       " (0, 0.7, 1): TensorNetwork1D(tensors=12, indices=34, L=6, max_bond=6),\n",
       " (0, 0.35, 3): TensorNetwork1D(tensors=12, indices=34, L=6, max_bond=6),\n",
       " (0, 0.0, 1): TensorNetwork1D(tensors=12, indices=34, L=6, max_bond=6)}"
      ]
     },
     "execution_count": 58,
     "metadata": {},
     "output_type": "execute_result"
    }
   ],
   "source": [
    "correct_boundary_operators"
   ]
  },
  {
   "cell_type": "markdown",
   "id": "aa7a7dbb-5c32-4a13-99a3-a19b63a02eb0",
   "metadata": {},
   "source": [
    "## Check scores of untaries"
   ]
  },
  {
   "cell_type": "code",
   "execution_count": 93,
   "id": "e22ee457-44b2-41a4-94c8-c77893ca39e2",
   "metadata": {},
   "outputs": [],
   "source": [
    "test_tn = list(correct_boundary_operators.values())[0]"
   ]
  },
  {
   "cell_type": "code",
   "execution_count": 95,
   "id": "7a0601f2-363b-4cf6-b550-c7e152885c0c",
   "metadata": {},
   "outputs": [],
   "source": [
    "total_physical_dim = 2**9"
   ]
  },
  {
   "cell_type": "code",
   "execution_count": 97,
   "id": "5f666914-ed25-4a31-8c14-8089fe382d3e",
   "metadata": {},
   "outputs": [],
   "source": [
    "ml, mr = split_mpo_pair(test_tn)"
   ]
  },
  {
   "cell_type": "code",
   "execution_count": 98,
   "id": "97c54aad-ec49-42d9-b248-efae7fe77c7b",
   "metadata": {},
   "outputs": [
    {
     "data": {
      "text/plain": [
       "Array(0.01184082, dtype=float32, weak_type=True)"
      ]
     },
     "execution_count": 98,
     "metadata": {},
     "output_type": "execute_result"
    }
   ],
   "source": [
    "unitarity_tn(ml, total_physical_dim)"
   ]
  },
  {
   "cell_type": "code",
   "execution_count": 99,
   "id": "a0b4b2b4-1c51-4cf6-b0a9-dddced9bf387",
   "metadata": {},
   "outputs": [
    {
     "data": {
      "text/plain": [
       "Array(0.00653076, dtype=float32, weak_type=True)"
      ]
     },
     "execution_count": 99,
     "metadata": {},
     "output_type": "execute_result"
    }
   ],
   "source": [
    "unitarity_tn(mr, total_physical_dim)"
   ]
  },
  {
   "cell_type": "markdown",
   "id": "f5b60152-8aef-4468-88db-244928af4b92",
   "metadata": {},
   "source": [
    "Compute overlap."
   ]
  },
  {
   "cell_type": "code",
   "execution_count": 100,
   "id": "8ef0d3fc-8096-44e7-a977-3a78df32d6c1",
   "metadata": {},
   "outputs": [],
   "source": [
    "correct_boundary_operators_scores = dict()\n",
    "\n",
    "for k, tn in correct_boundary_operators.items():\n",
    "    ml, mr = split_mpo_pair(tn)\n",
    "\n",
    "    if k[0] == 0:\n",
    "        tenpy_psi = loaded_data_triv_proj_rep[k[1]]\n",
    "    elif k[0] == 1:\n",
    "        tenpy_psi = loaded_data_non_triv_proj_rep[k[1]]\n",
    "\n",
    "    bs = bosonic_np_symmetries[k[2]]\n",
    "    fs_key = signs_to_01[single_fp_charges_deduplicated[k]]\n",
    "    fs = fermionic_np_symmetries[fs_key]\n",
    "\n",
    "    symmetry_site_pairs = (\n",
    "        [(i, bs) for i in range(left_most_symmetry_site, left_most_symmetry_site+num_symmetry_sites, 2)]\n",
    "        + [(i, fs) for i in range(left_most_symmetry_site+1, left_most_symmetry_site+num_symmetry_sites+1, 2)]\n",
    "    )\n",
    "\n",
    "    rdm = generate_rdm_from_tenpy_psi(\n",
    "        tenpy_psi,\n",
    "        symmetry_site_pairs,\n",
    "        left_most_symmetry_site,\n",
    "        num_symmetry_sites,\n",
    "        num_boundary_sites\n",
    "    )\n",
    "\n",
    "    left_unitarity_score = unitarity_tn(ml, total_physical_dim)\n",
    "    right_unitarity_score = unitarity_tn(mr, total_physical_dim)\n",
    "    overlap = np.abs((rdm & ml & mr) ^ ...)\n",
    "\n",
    "    correct_boundary_operators_scores[k] = (\n",
    "        left_unitarity_score,\n",
    "        right_unitarity_score,\n",
    "        overlap\n",
    "    )"
   ]
  },
  {
   "cell_type": "code",
   "execution_count": 101,
   "id": "7dc8485e-0bf3-479b-bb94-a76ca401431e",
   "metadata": {},
   "outputs": [
    {
     "data": {
      "text/plain": [
       "(Array(0.04418945, dtype=float32, weak_type=True),\n",
       " Array(0.03625488, dtype=float32, weak_type=True),\n",
       " 0.9168725847831561)"
      ]
     },
     "execution_count": 101,
     "metadata": {},
     "output_type": "execute_result"
    }
   ],
   "source": [
    "correct_boundary_operators_scores[(1, 0, 1)]"
   ]
  },
  {
   "cell_type": "code",
   "execution_count": 102,
   "id": "87901183-9da8-402a-a34c-27716b582877",
   "metadata": {},
   "outputs": [
    {
     "data": {
      "text/plain": [
       "(Array(0.00320435, dtype=float32, weak_type=True),\n",
       " Array(0.01879883, dtype=float32, weak_type=True),\n",
       " 0.9834314141085325)"
      ]
     },
     "execution_count": 102,
     "metadata": {},
     "output_type": "execute_result"
    }
   ],
   "source": [
    "correct_boundary_operators_scores[(1, 0, 2)]"
   ]
  },
  {
   "cell_type": "code",
   "execution_count": 103,
   "id": "e0c98f1c-fa4b-40d7-9265-2e17e5c3c584",
   "metadata": {},
   "outputs": [
    {
     "data": {
      "text/plain": [
       "(Array(0.00866699, dtype=float32, weak_type=True),\n",
       " Array(0.00805664, dtype=float32, weak_type=True),\n",
       " 0.9845429562477903)"
      ]
     },
     "execution_count": 103,
     "metadata": {},
     "output_type": "execute_result"
    }
   ],
   "source": [
    "correct_boundary_operators_scores[(1, 0, 3)]"
   ]
  },
  {
   "cell_type": "code",
   "execution_count": 104,
   "id": "b9ab064c-11fe-4075-bb5e-95225e76f5f9",
   "metadata": {},
   "outputs": [
    {
     "data": {
      "text/plain": [
       "(Array(0.01873779, dtype=float32, weak_type=True),\n",
       " Array(0.01538086, dtype=float32, weak_type=True),\n",
       " 0.9634160489625682)"
      ]
     },
     "execution_count": 104,
     "metadata": {},
     "output_type": "execute_result"
    }
   ],
   "source": [
    "correct_boundary_operators_scores[(1, 0.05, 1)]"
   ]
  },
  {
   "cell_type": "code",
   "execution_count": 105,
   "id": "8c5f296d-65e1-4e52-b2b5-92d17ce14ec6",
   "metadata": {},
   "outputs": [
    {
     "data": {
      "text/plain": [
       "(Array(0.01452637, dtype=float32, weak_type=True),\n",
       " Array(0.00708008, dtype=float32, weak_type=True),\n",
       " 0.9700430399144698)"
      ]
     },
     "execution_count": 105,
     "metadata": {},
     "output_type": "execute_result"
    }
   ],
   "source": [
    "correct_boundary_operators_scores[(1, 0.05, 2)]"
   ]
  },
  {
   "cell_type": "code",
   "execution_count": 106,
   "id": "fc1c8787-c530-4ecc-995c-163e3fa0bb86",
   "metadata": {},
   "outputs": [
    {
     "data": {
      "text/plain": [
       "(Array(0.01501465, dtype=float32, weak_type=True),\n",
       " Array(0.01123047, dtype=float32, weak_type=True),\n",
       " 0.9735226181196421)"
      ]
     },
     "execution_count": 106,
     "metadata": {},
     "output_type": "execute_result"
    }
   ],
   "source": [
    "correct_boundary_operators_scores[(1, 0.05, 3)]"
   ]
  },
  {
   "cell_type": "markdown",
   "id": "37e63b05-2d2f-4ae3-8bf4-7754d5a5b38b",
   "metadata": {},
   "source": [
    "## Proj rep group cohomology"
   ]
  },
  {
   "cell_type": "markdown",
   "id": "d3482ae3-18bf-4b3e-83d9-66ce61dffe7f",
   "metadata": {},
   "source": [
    "### Group data definitions"
   ]
  },
  {
   "cell_type": "code",
   "execution_count": 59,
   "id": "10721838-5776-4da8-9618-01dd30494f13",
   "metadata": {},
   "outputs": [],
   "source": [
    "symmetry_labels = [\n",
    "    'II',\n",
    "    'IX',\n",
    "    'XI',\n",
    "    'XX'\n",
    "]"
   ]
  },
  {
   "cell_type": "code",
   "execution_count": 60,
   "id": "d1cd215b-c62c-405e-9adc-9a97db7142e2",
   "metadata": {},
   "outputs": [],
   "source": [
    "symmetry_combination_labels = list(combinations(symmetry_labels, 2))"
   ]
  },
  {
   "cell_type": "code",
   "execution_count": 61,
   "id": "45a081ff-eb82-4ff5-9700-55f11824f366",
   "metadata": {},
   "outputs": [
    {
     "data": {
      "text/plain": [
       "[('II', 'IX'),\n",
       " ('II', 'XI'),\n",
       " ('II', 'XX'),\n",
       " ('IX', 'XI'),\n",
       " ('IX', 'XX'),\n",
       " ('XI', 'XX')]"
      ]
     },
     "execution_count": 61,
     "metadata": {},
     "output_type": "execute_result"
    }
   ],
   "source": [
    "symmetry_combination_labels"
   ]
  },
  {
   "cell_type": "code",
   "execution_count": 62,
   "id": "aab20cf0-ae51-4603-9192-5ba0741b6a6d",
   "metadata": {},
   "outputs": [],
   "source": [
    "e, a, b, c = symmetry_labels"
   ]
  },
  {
   "cell_type": "code",
   "execution_count": 63,
   "id": "955bfb99-9c73-4794-b14e-f62f7872abe5",
   "metadata": {},
   "outputs": [],
   "source": [
    "group_products = [\n",
    "    (a, b, c),\n",
    "    (b, a, c),\n",
    "    (a, c, b),\n",
    "    (c, a, b),\n",
    "    (c, b, a),\n",
    "    (b, c, a)\n",
    "]"
   ]
  },
  {
   "cell_type": "markdown",
   "id": "86b3d120-3883-4796-9ca0-a0d79f569c2b",
   "metadata": {},
   "source": [
    "### Evaluate"
   ]
  },
  {
   "cell_type": "code",
   "execution_count": 64,
   "id": "28098611-5f3f-4c68-8d8d-5d9897d4163c",
   "metadata": {},
   "outputs": [],
   "source": [
    "def tensor_network_to_mpo(tn):\n",
    "    sites = [\n",
    "        int(s[1:]) for s in tn.tag_map\n",
    "        if s[0]=='I'\n",
    "    ]\n",
    "    \n",
    "    rho = qtn.MatrixProductOperator(\n",
    "        [t.data for t in tn.tensors],\n",
    "        sites=sites\n",
    "    )\n",
    "\n",
    "    return rho"
   ]
  },
  {
   "cell_type": "code",
   "execution_count": 151,
   "id": "fc3cad5c-1fc2-4d50-b450-1ff5a45c00c3",
   "metadata": {},
   "outputs": [],
   "source": [
    "def mpo_hermitian_conjugate(quimb_mpo):\n",
    "    t = quimb_mpo.copy().conj()\n",
    "    relabel_mpo(t, 'b', 'k')\n",
    "\n",
    "    return t"
   ]
  },
  {
   "cell_type": "code",
   "execution_count": 152,
   "id": "ea794053-4be3-47a8-b1be-d16336c929c5",
   "metadata": {},
   "outputs": [],
   "source": [
    "def get_proj_rep_phase(rho, u_g, u_h, u_gh):\n",
    "    t = (\n",
    "        rho\n",
    "        ._apply_mpo(u_h, compress=False, contract=False)\n",
    "        ._apply_mpo(u_g, compress=False, contract=False)\n",
    "        ._apply_mpo(mpo_hermitian_conjugate(u_gh), compress=False, contract=False)\n",
    "    )\n",
    "\n",
    "    out = t.trace()\n",
    "\n",
    "    return (out/(np.abs(out)), np.abs(out))"
   ]
  },
  {
   "cell_type": "code",
   "execution_count": 153,
   "id": "a95c9ed1-bd73-4ee5-b175-a97dbbdd2b77",
   "metadata": {},
   "outputs": [],
   "source": [
    "def get_quimb_mps_from_tenpy_mps(tenpy_mps):\n",
    "    psi_arrays = list()\n",
    "    psi_arrays.append(tenpy_mps.get_B(0, 'Th')[0, ...].to_ndarray())\n",
    "    for i in range(1, tenpy_mps.L-1):\n",
    "        psi_arrays.append(tenpy_mps.get_B(i).to_ndarray())\n",
    "    psi_arrays.append(tenpy_mps.get_B(tenpy_mps.L-1)[..., 0].to_ndarray())\n",
    "    \n",
    "    quimb_mps = (\n",
    "        qtn\n",
    "        .tensor_1d\n",
    "        .MatrixProductState(psi_arrays, shape='lpr')\n",
    "    )\n",
    "\n",
    "    return quimb_mps"
   ]
  },
  {
   "cell_type": "code",
   "execution_count": 154,
   "id": "a3ccc815-8ea8-4fb4-a8d4-90f08769edc7",
   "metadata": {},
   "outputs": [],
   "source": [
    "def get_proj_rep_phases(tenpy_mps, unitaries):\n",
    "    quimb_mps = get_quimb_mps_from_tenpy_mps(tenpy_mps)\n",
    "    sites = [\n",
    "        int(s[1:]) for s in unitaries[0].tag_map\n",
    "        if s[0]=='I'\n",
    "    ]\n",
    "    rho = quimb_mps.partial_trace_to_mpo(sites, rescale_sites=False)\n",
    "    out = list()\n",
    "\n",
    "    unitaries_dict = {\n",
    "        k: v for k, v in zip(symmetry_labels[1:], unitaries)\n",
    "    }\n",
    "\n",
    "    out_phases = list()\n",
    "    for a, b, c in group_products:\n",
    "        phase = get_proj_rep_phase(\n",
    "            rho,\n",
    "            unitaries_dict[a],\n",
    "            unitaries_dict[b],\n",
    "            unitaries_dict[c]\n",
    "        )\n",
    "\n",
    "        out_phases.append(phase)\n",
    "\n",
    "    return out_phases"
   ]
  },
  {
   "cell_type": "code",
   "execution_count": 155,
   "id": "33bad854-b537-4ba4-808b-21eb8a21f9e5",
   "metadata": {},
   "outputs": [],
   "source": [
    "interpolation_values = np.delete(np.round(np.linspace(0, 1, 21), 3), 10)"
   ]
  },
  {
   "cell_type": "code",
   "execution_count": 156,
   "id": "17caeb80-7d62-47c2-8f36-99e691c053f6",
   "metadata": {},
   "outputs": [
    {
     "data": {
      "text/plain": [
       "array([0.  , 0.05, 0.1 , 0.15, 0.2 , 0.25, 0.3 , 0.35, 0.4 , 0.45, 0.55,\n",
       "       0.6 , 0.65, 0.7 , 0.75, 0.8 , 0.85, 0.9 , 0.95, 1.  ])"
      ]
     },
     "execution_count": 156,
     "metadata": {},
     "output_type": "execute_result"
    }
   ],
   "source": [
    "interpolation_values"
   ]
  },
  {
   "cell_type": "code",
   "execution_count": 157,
   "id": "df8e2304-70ca-449d-9b88-11f4d39f4ce2",
   "metadata": {},
   "outputs": [],
   "source": [
    "triv_proj_rep_phases = list()\n",
    "\n",
    "for t in interpolation_values:\n",
    "    tenpy_mps = loaded_data_triv_proj_rep[t]\n",
    "\n",
    "    unitaries = [correct_boundary_operators[(0, t, i)] for i in [1,2,3]]\n",
    "\n",
    "    unitary_pairs = [split_mpo_pair(p) for p in unitaries]\n",
    "    mpo_pairs = [(tensor_network_to_mpo(x), tensor_network_to_mpo(y)) for x,y in unitary_pairs]\n",
    "    left_unitaries, right_unitaries = zip(*mpo_pairs)\n",
    "\n",
    "    left_phases = get_proj_rep_phases(tenpy_mps, left_unitaries)\n",
    "    right_phases = get_proj_rep_phases(tenpy_mps, right_unitaries)\n",
    "\n",
    "    triv_proj_rep_phases.append([left_phases, right_phases])"
   ]
  },
  {
   "cell_type": "code",
   "execution_count": 158,
   "id": "f0203bb7-10b8-4da2-8c47-d2ef421a50b2",
   "metadata": {},
   "outputs": [],
   "source": [
    "triv_proj_rep_phases = np.array(triv_proj_rep_phases)"
   ]
  },
  {
   "cell_type": "code",
   "execution_count": 159,
   "id": "edc348c1-ddf8-4e32-ac28-d572a17f8967",
   "metadata": {},
   "outputs": [
    {
     "data": {
      "text/plain": [
       "(20, 2, 6, 2)"
      ]
     },
     "execution_count": 159,
     "metadata": {},
     "output_type": "execute_result"
    }
   ],
   "source": [
    "triv_proj_rep_phases.shape"
   ]
  },
  {
   "cell_type": "code",
   "execution_count": 160,
   "id": "46097abd-4afa-4427-8f3f-3db4222890b5",
   "metadata": {},
   "outputs": [
    {
     "data": {
      "text/plain": [
       "array([[[1.-0.j  , 1.+0.j  , 1.+0.j  ],\n",
       "        [1.+0.j  , 1.+0.j  , 1.-0.j  ]],\n",
       "\n",
       "       [[1.+0.j  , 1.-0.j  , 1.+0.j  ],\n",
       "        [1.-0.j  , 1.-0.j  , 1.-0.j  ]],\n",
       "\n",
       "       [[1.+0.j  , 1.+0.j  , 1.-0.j  ],\n",
       "        [1.+0.j  , 1.-0.j  , 1.-0.j  ]],\n",
       "\n",
       "       [[1.-0.j  , 1.+0.j  , 1.+0.j  ],\n",
       "        [1.+0.01j, 1.+0.01j, 1.+0.j  ]],\n",
       "\n",
       "       [[1.-0.j  , 1.-0.j  , 1.-0.j  ],\n",
       "        [1.+0.j  , 1.-0.j  , 1.+0.j  ]],\n",
       "\n",
       "       [[1.+0.j  , 1.-0.j  , 1.+0.j  ],\n",
       "        [1.+0.j  , 1.-0.j  , 1.+0.j  ]],\n",
       "\n",
       "       [[1.-0.j  , 1.-0.j  , 1.+0.j  ],\n",
       "        [1.-0.j  , 1.+0.j  , 1.+0.j  ]],\n",
       "\n",
       "       [[1.+0.j  , 1.+0.j  , 1.-0.j  ],\n",
       "        [1.-0.j  , 1.+0.02j, 1.+0.j  ]],\n",
       "\n",
       "       [[1.+0.01j, 1.-0.j  , 1.+0.01j],\n",
       "        [1.-0.01j, 1.+0.j  , 1.+0.j  ]],\n",
       "\n",
       "       [[1.+0.j  , 1.+0.j  , 1.+0.j  ],\n",
       "        [1.-0.j  , 1.-0.j  , 1.-0.j  ]],\n",
       "\n",
       "       [[1.+0.01j, 1.-0.03j, 1.+0.04j],\n",
       "        [1.+0.j  , 1.+0.04j, 1.+0.01j]],\n",
       "\n",
       "       [[1.-0.j  , 1.+0.j  , 1.-0.01j],\n",
       "        [1.-0.02j, 1.-0.03j, 1.-0.01j]],\n",
       "\n",
       "       [[1.-0.j  , 1.+0.01j, 1.-0.01j],\n",
       "        [1.+0.j  , 1.+0.j  , 1.+0.j  ]],\n",
       "\n",
       "       [[1.-0.j  , 1.-0.01j, 1.+0.01j],\n",
       "        [1.+0.j  , 1.-0.j  , 1.-0.j  ]],\n",
       "\n",
       "       [[1.+0.j  , 1.-0.j  , 1.+0.01j],\n",
       "        [1.+0.j  , 1.+0.j  , 1.+0.01j]],\n",
       "\n",
       "       [[1.-0.j  , 1.-0.j  , 1.+0.01j],\n",
       "        [1.+0.02j, 1.-0.01j, 1.-0.j  ]],\n",
       "\n",
       "       [[1.+0.j  , 1.-0.j  , 1.+0.02j],\n",
       "        [1.-0.j  , 1.+0.j  , 1.+0.j  ]],\n",
       "\n",
       "       [[1.-0.01j, 1.+0.j  , 1.-0.01j],\n",
       "        [1.-0.j  , 1.+0.01j, 1.-0.01j]],\n",
       "\n",
       "       [[1.+0.j  , 1.+0.01j, 1.-0.01j],\n",
       "        [1.-0.01j, 1.-0.01j, 1.+0.02j]],\n",
       "\n",
       "       [[1.-0.02j, 1.-0.01j, 1.-0.j  ],\n",
       "        [1.-0.j  , 1.+0.03j, 1.+0.j  ]]])"
      ]
     },
     "execution_count": 160,
     "metadata": {},
     "output_type": "execute_result"
    }
   ],
   "source": [
    "np.round(\n",
    "    triv_proj_rep_phases[..., ::2, 0]/triv_proj_rep_phases[..., 1::2, 0],\n",
    "    2\n",
    ")"
   ]
  },
  {
   "cell_type": "code",
   "execution_count": 161,
   "id": "18a5dfe8-3758-4c1f-8703-364da414becf",
   "metadata": {},
   "outputs": [
    {
     "data": {
      "text/plain": [
       "count    240.000000\n",
       "mean       1.040263\n",
       "std        0.087972\n",
       "min        0.968265\n",
       "25%        0.988298\n",
       "50%        1.004493\n",
       "75%        1.036039\n",
       "max        1.398406\n",
       "dtype: float64"
      ]
     },
     "execution_count": 161,
     "metadata": {},
     "output_type": "execute_result"
    }
   ],
   "source": [
    "pd.Series(np.real(triv_proj_rep_phases[..., 1].flatten())).describe()"
   ]
  },
  {
   "cell_type": "code",
   "execution_count": 162,
   "id": "713378db-71f8-44ea-8078-3f97937aad46",
   "metadata": {},
   "outputs": [],
   "source": [
    "non_triv_proj_rep_phases = list()\n",
    "\n",
    "for t in interpolation_values:\n",
    "    tenpy_mps = loaded_data_non_triv_proj_rep[t]\n",
    "\n",
    "    unitaries = [correct_boundary_operators[(1, t, i)] for i in [1,2,3]]\n",
    "\n",
    "    unitary_pairs = [split_mpo_pair(p) for p in unitaries]\n",
    "    mpo_pairs = [(tensor_network_to_mpo(x), tensor_network_to_mpo(y)) for x,y in unitary_pairs]\n",
    "    left_unitaries, right_unitaries = zip(*mpo_pairs)\n",
    "\n",
    "    left_phases = get_proj_rep_phases(tenpy_mps, left_unitaries)\n",
    "    right_phases = get_proj_rep_phases(tenpy_mps, right_unitaries)\n",
    "\n",
    "    non_triv_proj_rep_phases.append([left_phases, right_phases])"
   ]
  },
  {
   "cell_type": "code",
   "execution_count": 163,
   "id": "236f07e9-b8cb-4354-af5a-626b799e5575",
   "metadata": {},
   "outputs": [],
   "source": [
    "non_triv_proj_rep_phases = np.array(non_triv_proj_rep_phases)"
   ]
  },
  {
   "cell_type": "code",
   "execution_count": 164,
   "id": "dc0d866b-262a-473a-91ad-0f515de11370",
   "metadata": {},
   "outputs": [
    {
     "data": {
      "text/plain": [
       "(20, 2, 6, 2)"
      ]
     },
     "execution_count": 164,
     "metadata": {},
     "output_type": "execute_result"
    }
   ],
   "source": [
    "non_triv_proj_rep_phases.shape"
   ]
  },
  {
   "cell_type": "code",
   "execution_count": 165,
   "id": "e7128213-bbd3-401c-a580-550285cf236a",
   "metadata": {},
   "outputs": [
    {
     "data": {
      "text/plain": [
       "array([[[-1.+0.j  , -1.-0.j  , -1.-0.j  ],\n",
       "        [-1.-0.j  , -1.+0.j  , -1.-0.j  ]],\n",
       "\n",
       "       [[-1.+0.j  , -1.+0.j  , -1.+0.j  ],\n",
       "        [-1.+0.j  , -1.-0.j  , -1.-0.j  ]],\n",
       "\n",
       "       [[-1.-0.j  , -1.-0.j  , -1.+0.j  ],\n",
       "        [-1.-0.j  , -1.+0.j  , -1.+0.j  ]],\n",
       "\n",
       "       [[-1.+0.01j, -1.-0.j  , -1.-0.01j],\n",
       "        [-1.+0.j  , -1.-0.j  , -1.+0.j  ]],\n",
       "\n",
       "       [[-1.-0.j  , -1.+0.j  , -1.+0.j  ],\n",
       "        [-1.-0.03j, -1.+0.01j, -1.-0.j  ]],\n",
       "\n",
       "       [[-1.-0.01j, -1.+0.01j, -1.-0.01j],\n",
       "        [-1.-0.j  , -1.-0.j  , -1.-0.j  ]],\n",
       "\n",
       "       [[-1.+0.j  , -1.-0.j  , -1.-0.j  ],\n",
       "        [-1.-0.j  , -1.+0.j  , -1.-0.j  ]],\n",
       "\n",
       "       [[-1.+0.02j, -1.-0.01j, -1.-0.j  ],\n",
       "        [-1.+0.j  , -1.-0.j  , -1.-0.j  ]],\n",
       "\n",
       "       [[-1.-0.01j, -1.-0.02j, -1.+0.02j],\n",
       "        [-1.+0.01j, -1.-0.01j, -1.+0.j  ]],\n",
       "\n",
       "       [[-1.-0.03j, -1.-0.01j, -1.-0.j  ],\n",
       "        [-1.+0.02j, -1.-0.j  , -1.-0.j  ]],\n",
       "\n",
       "       [[ 1.+0.01j,  1.-0.j  ,  1.+0.01j],\n",
       "        [ 1.+0.j  ,  1.+0.01j,  1.+0.j  ]],\n",
       "\n",
       "       [[ 1.-0.01j,  1.-0.01j,  1.-0.01j],\n",
       "        [ 1.-0.01j,  1.+0.j  ,  1.+0.j  ]],\n",
       "\n",
       "       [[ 1.-0.j  ,  1.-0.j  ,  1.-0.j  ],\n",
       "        [ 1.-0.01j,  1.+0.j  ,  1.-0.j  ]],\n",
       "\n",
       "       [[ 1.+0.j  ,  1.-0.j  ,  1.+0.j  ],\n",
       "        [ 1.+0.j  ,  1.+0.j  ,  1.+0.j  ]],\n",
       "\n",
       "       [[ 1.+0.j  ,  1.+0.j  ,  1.-0.j  ],\n",
       "        [ 1.-0.j  ,  1.+0.j  ,  1.+0.j  ]],\n",
       "\n",
       "       [[ 1.+0.j  ,  1.+0.j  ,  1.-0.j  ],\n",
       "        [ 1.+0.j  ,  1.+0.j  ,  1.-0.j  ]],\n",
       "\n",
       "       [[ 1.-0.j  ,  1.+0.j  ,  1.-0.j  ],\n",
       "        [ 1.+0.j  ,  1.-0.j  ,  1.-0.j  ]],\n",
       "\n",
       "       [[ 1.-0.j  ,  1.-0.j  ,  1.-0.j  ],\n",
       "        [ 1.+0.j  ,  1.-0.j  ,  1.-0.j  ]],\n",
       "\n",
       "       [[ 1.+0.j  ,  1.-0.j  ,  1.-0.j  ],\n",
       "        [ 1.-0.j  ,  1.+0.j  ,  1.+0.j  ]],\n",
       "\n",
       "       [[ 1.+0.j  ,  1.-0.j  ,  1.-0.j  ],\n",
       "        [ 1.-0.j  ,  1.-0.j  ,  1.+0.j  ]]])"
      ]
     },
     "execution_count": 165,
     "metadata": {},
     "output_type": "execute_result"
    }
   ],
   "source": [
    "np.round(\n",
    "    non_triv_proj_rep_phases[..., ::2, 0]/non_triv_proj_rep_phases[..., 1::2, 0],\n",
    "    2\n",
    ")"
   ]
  },
  {
   "cell_type": "code",
   "execution_count": 166,
   "id": "1d937e00-ba6b-4888-9244-e49a1a1912ee",
   "metadata": {},
   "outputs": [
    {
     "data": {
      "text/plain": [
       "count    240.000000\n",
       "mean       0.976494\n",
       "std        0.039418\n",
       "min        0.861186\n",
       "25%        0.952764\n",
       "50%        0.983803\n",
       "75%        0.996145\n",
       "max        1.059975\n",
       "dtype: float64"
      ]
     },
     "execution_count": 166,
     "metadata": {},
     "output_type": "execute_result"
    }
   ],
   "source": [
    "pd.Series(np.real(non_triv_proj_rep_phases[..., 1].flatten())).describe()"
   ]
  },
  {
   "cell_type": "markdown",
   "id": "8cc21715-2e0d-46b2-ac7d-8dc3f99f1f48",
   "metadata": {},
   "source": [
    "# Conclusion\n",
    "It's working!"
   ]
  },
  {
   "cell_type": "code",
   "execution_count": null,
   "id": "b5da07ef-07ed-4f33-9ec4-4abdfce4fc40",
   "metadata": {},
   "outputs": [],
   "source": []
  }
 ],
 "metadata": {
  "kernelspec": {
   "display_name": "num_spt_venv_p11",
   "language": "python",
   "name": "num_spt_venv_p11"
  },
  "language_info": {
   "codemirror_mode": {
    "name": "ipython",
    "version": 3
   },
   "file_extension": ".py",
   "mimetype": "text/x-python",
   "name": "python",
   "nbconvert_exporter": "python",
   "pygments_lexer": "ipython3",
   "version": "3.11.9"
  }
 },
 "nbformat": 4,
 "nbformat_minor": 5
}
