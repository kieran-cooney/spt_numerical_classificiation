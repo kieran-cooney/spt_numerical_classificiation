{
 "cells": [
  {
   "cell_type": "markdown",
   "id": "8a5ff3d7-110e-408b-b148-b585fc98d23f",
   "metadata": {},
   "source": [
    "# Extract phases\n",
    "Created 02/06/2024\n",
    "\n",
    "Objectives:\n",
    "* Extract the fermionic and proj rep group cohomologies from the solutions calculated [here](sweep_and_find_solutions.ipynb)"
   ]
  },
  {
   "cell_type": "markdown",
   "id": "5e618d3a-fdaf-441f-bc73-3649e01a7b3c",
   "metadata": {},
   "source": [
    "# Package imports"
   ]
  },
  {
   "cell_type": "code",
   "execution_count": 1,
   "id": "ecb41ea3-927f-4efa-aebe-ce15784aa037",
   "metadata": {},
   "outputs": [],
   "source": [
    "import sys"
   ]
  },
  {
   "cell_type": "code",
   "execution_count": 2,
   "id": "0375bd38-12e1-417a-908a-13fb540081f5",
   "metadata": {},
   "outputs": [],
   "source": [
    "sys.path.append(\"../../\")"
   ]
  },
  {
   "cell_type": "code",
   "execution_count": 3,
   "id": "0cf49837-01b6-431a-b570-d7ed25903239",
   "metadata": {},
   "outputs": [],
   "source": [
    "from itertools import chain, groupby, combinations\n",
    "import re\n",
    "\n",
    "from collections import Counter, namedtuple, defaultdict"
   ]
  },
  {
   "cell_type": "code",
   "execution_count": 4,
   "id": "f59344b7-d34e-47e4-99be-f5a2687f8176",
   "metadata": {},
   "outputs": [],
   "source": [
    "import h5py\n",
    "from tenpy.tools import hdf5_io\n",
    "import tenpy\n",
    "import tenpy.linalg.np_conserved as npc\n",
    "\n",
    "import os\n",
    "import pickle"
   ]
  },
  {
   "cell_type": "code",
   "execution_count": 5,
   "id": "19404619-d778-4cc3-8ee1-1db6f14b2043",
   "metadata": {},
   "outputs": [],
   "source": [
    "import numpy as np\n",
    "from jax import numpy as jnp\n",
    "import pandas as pd\n",
    "\n",
    "import matplotlib\n",
    "import matplotlib.pyplot as plt\n",
    "\n",
    "import scipy"
   ]
  },
  {
   "cell_type": "code",
   "execution_count": 6,
   "id": "92eeb066-5463-4237-ad07-3c5a0d934f4f",
   "metadata": {},
   "outputs": [
    {
     "name": "stderr",
     "output_type": "stream",
     "text": [
      "/Users/kierancooney/.pyenv/versions/num_spt_venv_p11/lib/python3.11/site-packages/cotengra/hyperoptimizers/hyper.py:54: UserWarning: Couldn't find `optuna`, `cmaes`, or `nevergrad` so will use completely random sampling in place of hyper-optimization.\n",
      "  warnings.warn(\n",
      "/Users/kierancooney/.pyenv/versions/num_spt_venv_p11/lib/python3.11/site-packages/cotengra/hyperoptimizers/hyper.py:36: UserWarning: Couldn't import `kahypar` - skipping from default hyper optimizer and using basic `labels` method instead.\n",
      "  warnings.warn(\n",
      "/Users/kierancooney/.pyenv/versions/num_spt_venv_p11/lib/python3.11/site-packages/cotengra/hyperoptimizers/hyper.py:73: UserWarning: Couldn't find `optuna`, `cmaes`, or `nevergrad` so will use completely random sampling in place of hyper-optimization.\n",
      "  warnings.warn(\n"
     ]
    }
   ],
   "source": [
    "import quimb as qu\n",
    "import quimb.tensor as qtn\n",
    "from quimb.tensor.optimize import TNOptimizer"
   ]
  },
  {
   "cell_type": "markdown",
   "id": "1e7fa07a-a850-4148-bb15-43b2582429cb",
   "metadata": {},
   "source": [
    "# Load data"
   ]
  },
  {
   "cell_type": "markdown",
   "id": "2619393b-854f-4f6b-827f-a4c49284fac2",
   "metadata": {},
   "source": [
    "## Wavefunctions"
   ]
  },
  {
   "cell_type": "code",
   "execution_count": 7,
   "id": "a073ec4a-1d8d-4786-af9f-11e750b1e3a9",
   "metadata": {},
   "outputs": [],
   "source": [
    "DATA_DIR_1 = r\"../../data/interpolated_trivial_to_nontrivial_fermionic_trivial_proj_rep_200_site_dmrg/\"\n",
    "DATA_DIR_2 = r\"../../data/interpolated_nontrivial_fermionic_proj_rep_to_nontrivial_proj_rep_200_site_dmrg/\""
   ]
  },
  {
   "cell_type": "code",
   "execution_count": 8,
   "id": "9fd5bc67-e5e4-4b8f-a5e4-f5120506f1ed",
   "metadata": {},
   "outputs": [],
   "source": [
    "def parse_file_name(file_name):\n",
    "    interpolation = int(file_name.split('_')[0])/100\n",
    "\n",
    "    return interpolation"
   ]
  },
  {
   "cell_type": "code",
   "execution_count": 9,
   "id": "cbe1e575-7fb0-4951-9fc8-dce918ef2e54",
   "metadata": {},
   "outputs": [],
   "source": [
    "loaded_data_triv_proj_rep = dict()\n",
    "energies_triv_proj_rep = dict()\n",
    "\n",
    "for local_file_name in list(os.walk(DATA_DIR_1))[0][2]:\n",
    "    f_name = r\"{}/{}\".format(DATA_DIR_1, local_file_name, ignore_unknown=False)\n",
    "\n",
    "    with h5py.File(f_name, 'r') as f:\n",
    "        data = hdf5_io.load_from_hdf5(f)\n",
    "\n",
    "        data_info = parse_file_name(local_file_name)\n",
    "        loaded_data_triv_proj_rep[data_info]=data['wavefunction']\n",
    "        energies_triv_proj_rep[data_info]=data['energy']"
   ]
  },
  {
   "cell_type": "code",
   "execution_count": 10,
   "id": "d694f0e0-4ab2-4eea-8f21-7177abc2de50",
   "metadata": {},
   "outputs": [],
   "source": [
    "loaded_data_non_triv_proj_rep = dict()\n",
    "energies_non_triv_proj_rep = dict()\n",
    "\n",
    "for local_file_name in list(os.walk(DATA_DIR_2))[0][2]:\n",
    "    f_name = r\"{}/{}\".format(DATA_DIR_2, local_file_name, ignore_unknown=False)\n",
    "\n",
    "    with h5py.File(f_name, 'r') as f:\n",
    "        data = hdf5_io.load_from_hdf5(f)\n",
    "\n",
    "        data_info = parse_file_name(local_file_name)\n",
    "        loaded_data_non_triv_proj_rep[data_info]=data['wavefunction']\n",
    "        energies_non_triv_proj_rep[data_info]=data['energy']"
   ]
  },
  {
   "cell_type": "code",
   "execution_count": 11,
   "id": "c6f844ce-e988-4b14-8427-413eff20782e",
   "metadata": {},
   "outputs": [
    {
     "data": {
      "text/plain": [
       "Counter({('vL', 'p', 'vR'): 4200})"
      ]
     },
     "execution_count": 11,
     "metadata": {},
     "output_type": "execute_result"
    }
   ],
   "source": [
    "Counter(\n",
    "    tuple(psi.get_B(i).get_leg_labels())\n",
    "    for psi in loaded_data_triv_proj_rep.values()\n",
    "    for i in range(psi.L)\n",
    ")"
   ]
  },
  {
   "cell_type": "code",
   "execution_count": 12,
   "id": "f1e92883-f7cb-4870-91d2-85c3745b928b",
   "metadata": {},
   "outputs": [
    {
     "data": {
      "text/plain": [
       "Counter({('vL', 'p', 'vR'): 4200})"
      ]
     },
     "execution_count": 12,
     "metadata": {},
     "output_type": "execute_result"
    }
   ],
   "source": [
    "Counter(\n",
    "    tuple(psi.get_B(i).get_leg_labels())\n",
    "    for psi in loaded_data_non_triv_proj_rep.values()\n",
    "    for i in range(psi.L)\n",
    ")"
   ]
  },
  {
   "cell_type": "markdown",
   "id": "a1a65e01-1679-4f4d-8a76-ab9878761d3e",
   "metadata": {},
   "source": [
    "## Boundary operator solutions"
   ]
  },
  {
   "cell_type": "code",
   "execution_count": 13,
   "id": "e37adb2a-d2dd-41ae-be5f-510cd40d18ac",
   "metadata": {},
   "outputs": [],
   "source": [
    "SOL_DIR = r\"solutions/\""
   ]
  },
  {
   "cell_type": "code",
   "execution_count": 14,
   "id": "c2e39164-e8b3-4305-b1db-c8bfc52c0cfb",
   "metadata": {},
   "outputs": [],
   "source": [
    "file_name_pattern = re.compile(r'^(?:non_)?triv_\\d\\.\\d+_\\d_\\d_\\d+\\.pickle$')"
   ]
  },
  {
   "cell_type": "code",
   "execution_count": 15,
   "id": "42ac9167-550d-428b-ad09-28dcc6d4e3cc",
   "metadata": {},
   "outputs": [],
   "source": [
    "def parse_file_name(file_name):\n",
    "    if not bool(file_name_pattern.match(file_name)):\n",
    "        print(file_name)\n",
    "        return None\n",
    "\n",
    "    file_name = '.'.join((file_name.split('.'))[:-1])\n",
    "\n",
    "    if file_name[0] == 'n':\n",
    "        proj_rep=1\n",
    "        b, bs, fs, i = file_name.split('_')[2:]\n",
    "    elif file_name[0] == 't':\n",
    "        proj_rep=0\n",
    "        b, bs, fs, i = file_name.split('_')[1:]\n",
    "    else:\n",
    "        return None\n",
    "\n",
    "    b = float(b)\n",
    "    bs = int(bs)\n",
    "    fs = int(fs)\n",
    "    i = int(i)\n",
    "    \n",
    "    return (proj_rep, b, bs, fs, i)"
   ]
  },
  {
   "cell_type": "code",
   "execution_count": 16,
   "id": "686fa22d-79df-4e80-8728-9a7737a66762",
   "metadata": {},
   "outputs": [
    {
     "name": "stdout",
     "output_type": "stream",
     "text": [
      ".DS_Store\n"
     ]
    }
   ],
   "source": [
    "boundary_operator_solutions = dict()\n",
    "\n",
    "for local_file_name in list(os.walk(SOL_DIR))[0][2]:\n",
    "    f_name = r\"{}/{}\".format(SOL_DIR, local_file_name, ignore_unknown=False)\n",
    "\n",
    "    key = parse_file_name(local_file_name)\n",
    "\n",
    "    if key is not None:\n",
    "        with open(f_name, 'rb') as f:\n",
    "            out = pickle.load(f)\n",
    "    \n",
    "            boundary_operator_solutions[key] = out"
   ]
  },
  {
   "cell_type": "markdown",
   "id": "c789feb2-12ac-4860-a654-e40fa070325a",
   "metadata": {},
   "source": [
    "### Check values"
   ]
  },
  {
   "cell_type": "code",
   "execution_count": 17,
   "id": "1b1a1eaa-265f-4def-a3d3-0ad318930b4b",
   "metadata": {},
   "outputs": [],
   "source": [
    "scores = [float(v[0]._value) for v in boundary_operator_solutions.values()]"
   ]
  },
  {
   "cell_type": "code",
   "execution_count": 18,
   "id": "18b031de-4cf0-4576-b236-089341aca078",
   "metadata": {},
   "outputs": [
    {
     "data": {
      "text/plain": [
       "count    573.000000\n",
       "mean      14.665053\n",
       "std       22.783958\n",
       "min        0.001833\n",
       "25%        0.065218\n",
       "50%        1.537037\n",
       "75%       45.585068\n",
       "max      216.741516\n",
       "dtype: float64"
      ]
     },
     "execution_count": 18,
     "metadata": {},
     "output_type": "execute_result"
    }
   ],
   "source": [
    "pd.Series(scores).describe()"
   ]
  },
  {
   "cell_type": "code",
   "execution_count": 19,
   "id": "7896fa9b-0290-4742-93a8-503497597318",
   "metadata": {},
   "outputs": [],
   "source": [
    "score_pairs = defaultdict(list)\n",
    "\n",
    "for k, v in boundary_operator_solutions.items():\n",
    "    score_pairs[k[:-1]].append((k[-1], float(v[0]._value)))"
   ]
  },
  {
   "cell_type": "code",
   "execution_count": 21,
   "id": "8cf00e47-3dd9-47f1-9c7c-c3b6ecd76ba1",
   "metadata": {},
   "outputs": [],
   "source": [
    "best_score_pairs = {\n",
    "    k: min(v, key=lambda x: x[1]) for k, v in score_pairs.items()\n",
    "}"
   ]
  },
  {
   "cell_type": "code",
   "execution_count": 22,
   "id": "b07ea0b5-9c25-4969-ad77-44605f544778",
   "metadata": {},
   "outputs": [],
   "source": [
    "best_scores = [v[1] for v in best_score_pairs.values()]"
   ]
  },
  {
   "cell_type": "code",
   "execution_count": 23,
   "id": "20a71c05-b888-450a-9353-7f26970ebd57",
   "metadata": {},
   "outputs": [
    {
     "data": {
      "text/plain": [
       "252"
      ]
     },
     "execution_count": 23,
     "metadata": {},
     "output_type": "execute_result"
    }
   ],
   "source": [
    "len(best_score_pairs)"
   ]
  },
  {
   "cell_type": "code",
   "execution_count": 24,
   "id": "3b02c07c-fe40-4acb-8632-893fe8b48254",
   "metadata": {},
   "outputs": [
    {
     "data": {
      "text/plain": [
       "count    252.000000\n",
       "mean       1.737905\n",
       "std        8.759257\n",
       "min        0.001833\n",
       "25%        0.018629\n",
       "50%        0.053990\n",
       "75%        0.203661\n",
       "max       50.003654\n",
       "dtype: float64"
      ]
     },
     "execution_count": 24,
     "metadata": {},
     "output_type": "execute_result"
    }
   ],
   "source": [
    "pd.Series(best_scores).describe()"
   ]
  },
  {
   "cell_type": "code",
   "execution_count": 25,
   "id": "0a4b978d-378e-46e7-9565-cd897ddbdd31",
   "metadata": {},
   "outputs": [
    {
     "data": {
      "text/plain": [
       "[(0, 0.5, 3, 1),\n",
       " (0, 0.5, 3, 0),\n",
       " (1, 0.5, 1, 1),\n",
       " (1, 0.5, 1, 0),\n",
       " (1, 0.5, 3, 0),\n",
       " (1, 0.5, 3, 1),\n",
       " (0, 0.5, 1, 0),\n",
       " (0, 0.5, 1, 1),\n",
       " (1, 0.5, 2, 0),\n",
       " (1, 0.5, 2, 1)]"
      ]
     },
     "execution_count": 25,
     "metadata": {},
     "output_type": "execute_result"
    }
   ],
   "source": [
    "[k for k, v in best_score_pairs.items() if v[1]>1]"
   ]
  },
  {
   "cell_type": "code",
   "execution_count": 26,
   "id": "983aa545-a557-404d-ae3b-1e4aaa402670",
   "metadata": {},
   "outputs": [
    {
     "data": {
      "text/plain": [
       "(1, 0.017019841820001602)"
      ]
     },
     "execution_count": 26,
     "metadata": {},
     "output_type": "execute_result"
    }
   ],
   "source": [
    "best_score_pairs[(0, 0, 1, 0)]"
   ]
  },
  {
   "cell_type": "code",
   "execution_count": 27,
   "id": "231f533b-5075-402a-821d-dab6eaf23098",
   "metadata": {},
   "outputs": [],
   "source": [
    "best_boundary_operators = {\n",
    "    k: boundary_operator_solutions[(*k, v[0])]\n",
    "    for k, v in best_score_pairs.items()\n",
    "    #if k[1] != 0.5\n",
    "}"
   ]
  },
  {
   "cell_type": "code",
   "execution_count": 28,
   "id": "8ed66855-7274-4da7-a010-9dc586e82131",
   "metadata": {},
   "outputs": [
    {
     "data": {
      "text/plain": [
       "252"
      ]
     },
     "execution_count": 28,
     "metadata": {},
     "output_type": "execute_result"
    }
   ],
   "source": [
    "len(best_boundary_operators)"
   ]
  },
  {
   "cell_type": "markdown",
   "id": "3269e554-4543-4e55-8a03-68083f819521",
   "metadata": {},
   "source": [
    "# Definitions"
   ]
  },
  {
   "cell_type": "code",
   "execution_count": 29,
   "id": "550e5a48-302e-4588-8b17-978e37ee1a95",
   "metadata": {},
   "outputs": [],
   "source": [
    "np_00 = np.array([\n",
    "    [1, 0, 0, 0],\n",
    "    [0, 1, 0, 0],\n",
    "    [0, 0, 1, 0],\n",
    "    [0, 0, 0, 1]\n",
    "])\n",
    "\n",
    "np_01 = np.array([\n",
    "    [0, 1, 0, 0],\n",
    "    [1, 0, 0, 0],\n",
    "    [0, 0, 0, 1],\n",
    "    [0, 0, 1, 0]\n",
    "])\n",
    "\n",
    "np_10 = np.array([\n",
    "    [0, 0, 1, 0],\n",
    "    [0, 0, 0, 1],\n",
    "    [1, 0, 0, 0],\n",
    "    [0, 1, 0, 0]\n",
    "])\n",
    "\n",
    "np_11 = np.array([\n",
    "    [0, 0, 0, 1],\n",
    "    [0, 0, 1, 0],\n",
    "    [0, 1, 0, 0],\n",
    "    [1, 0, 0, 0]\n",
    "])"
   ]
  },
  {
   "cell_type": "code",
   "execution_count": 30,
   "id": "7be888f1-58f3-472a-920e-7920a8974192",
   "metadata": {},
   "outputs": [],
   "source": [
    "bosonic_np_symmetries = [\n",
    "    np_00,\n",
    "    np_01,\n",
    "    np_10,\n",
    "    np_11\n",
    "]"
   ]
  },
  {
   "cell_type": "code",
   "execution_count": 31,
   "id": "7eab7fb2-331f-41b7-8278-84642df9cb17",
   "metadata": {},
   "outputs": [],
   "source": [
    "np_I = np.array([\n",
    "    [1, 0],\n",
    "    [0, 1]\n",
    "])\n",
    "\n",
    "np_JW = np.array([\n",
    "    [1, 0],\n",
    "    [0, -1]\n",
    "])"
   ]
  },
  {
   "cell_type": "code",
   "execution_count": 32,
   "id": "34029aa6-57e2-44a5-85ac-91517d851411",
   "metadata": {},
   "outputs": [],
   "source": [
    "fermionic_np_symmetries = [np_I, np_JW]"
   ]
  },
  {
   "cell_type": "code",
   "execution_count": 33,
   "id": "dd7d4af7-0809-4736-927f-b79047df62fe",
   "metadata": {},
   "outputs": [],
   "source": [
    "def generate_problem_rdm(quimb_psi, symmetry_site_pairs, leftmost_symmetry_site,\n",
    "                         num_symmetry_sites, num_boundary_sites):\n",
    "    q_top = quimb_psi.copy(deep=True)\n",
    "    for i, s in symmetry_site_pairs:\n",
    "        q_top.gate(\n",
    "            s,\n",
    "            where=i,\n",
    "            contract=False,\n",
    "            inplace=True\n",
    "        )\n",
    "\n",
    "    \n",
    "    indices_to_map = list(chain(\n",
    "        range(leftmost_symmetry_site-num_boundary_sites, leftmost_symmetry_site),\n",
    "        range(leftmost_symmetry_site+num_symmetry_sites, leftmost_symmetry_site+num_symmetry_sites+num_boundary_sites)\n",
    "    ))\n",
    "\n",
    "    index_mapping = {f'k{i}': f'b{i}' for i in indices_to_map}\n",
    "\n",
    "    q_bottom = (\n",
    "        quimb_psi\n",
    "        .copy()\n",
    "        .reindex(index_mapping, inplace=True)\n",
    "        .conj()\n",
    "    )\n",
    "\n",
    "    sites_to_contract = {\n",
    "        'left': list(range(leftmost_symmetry_site-num_boundary_sites)),\n",
    "        'middle': list(range(leftmost_symmetry_site, leftmost_symmetry_site+num_symmetry_sites)),\n",
    "        'right': list(range(leftmost_symmetry_site+num_symmetry_sites+num_boundary_sites, quimb_psi.L))\n",
    "    }\n",
    "\n",
    "    tags_to_contract = {\n",
    "        k: [f'I{i}' for i in v]\n",
    "        for k, v in sites_to_contract.items()\n",
    "    }\n",
    "\n",
    "    tn = (q_top & q_bottom)\n",
    "\n",
    "    tnc = (\n",
    "        tn\n",
    "        .contract(tags_to_contract['left'])\n",
    "        .contract(tags_to_contract['middle'])\n",
    "        .contract(tags_to_contract['right'])\n",
    "    )\n",
    "\n",
    "    return tnc"
   ]
  },
  {
   "cell_type": "code",
   "execution_count": 34,
   "id": "198f4294-8a52-4ee8-be8c-640d8c8927f2",
   "metadata": {},
   "outputs": [],
   "source": [
    "def generate_rdm_from_tenpy_psi(mps_psi, symmetry_site_pairs,\n",
    "    leftmost_symmetry_site, num_symmetry_sites, num_boundary_sites):\n",
    "    \n",
    "    psi_arrays = list()\n",
    "    psi_arrays.append(mps_psi.get_B(0, 'Th')[0, ...].to_ndarray())\n",
    "    for i in range(1, mps_psi.L-1):\n",
    "        psi_arrays.append(mps_psi.get_B(i).to_ndarray())\n",
    "    psi_arrays.append(mps_psi.get_B(mps_psi.L-1)[..., 0].to_ndarray())\n",
    "    \n",
    "    q1 = (\n",
    "        qtn\n",
    "        .tensor_1d\n",
    "        .MatrixProductState(psi_arrays, shape='lpr')\n",
    "    )\n",
    "    \n",
    "    problem_rdm = generate_problem_rdm(\n",
    "        q1,\n",
    "        symmetry_site_pairs,\n",
    "        left_most_symmetry_site,\n",
    "        num_symmetry_sites,\n",
    "        num_boundary_sites\n",
    "    )\n",
    "\n",
    "    return problem_rdm"
   ]
  },
  {
   "cell_type": "markdown",
   "id": "5fc06a38-7a0c-4740-8759-b5e34c4b0a37",
   "metadata": {},
   "source": [
    "## Optimisation functions"
   ]
  },
  {
   "cell_type": "code",
   "execution_count": 35,
   "id": "07094b29-e8ee-49eb-af8b-bb3a13833ef0",
   "metadata": {},
   "outputs": [],
   "source": [
    "def split_mpo_pair(mpo_pair):\n",
    "    ml = qtn.TensorNetwork(\n",
    "        list(map(mpo_pair.tensor_map.__getitem__, mpo_pair.tag_map['left_mpo']))\n",
    "    )\n",
    "\n",
    "    mr = qtn.TensorNetwork(\n",
    "        list(map(mpo_pair.tensor_map.__getitem__, mpo_pair.tag_map['right_mpo']))\n",
    "    )\n",
    "\n",
    "    return (ml, mr)"
   ]
  },
  {
   "cell_type": "code",
   "execution_count": 36,
   "id": "f9c78157-b1e7-4766-93f9-0b9101909c8e",
   "metadata": {},
   "outputs": [],
   "source": [
    "def overlap_loss_function(ml, mr, rdm_tn, epsilon=0):\n",
    "    c = (rdm_tn & ml & mr) ^ ...\n",
    "\n",
    "    c_abs_squared = (\n",
    "        c\n",
    "        *jnp.conjugate(c)\n",
    "    )\n",
    "    #c_abs_squared = c_abs_squared.astype('float32')\n",
    "    c_abs = (jnp.sqrt(c_abs_squared+epsilon))\n",
    "\n",
    "    target = jnp.sqrt(1+epsilon)\n",
    "    loss = (c_abs - target)**2\n",
    "\n",
    "    return loss"
   ]
  },
  {
   "cell_type": "code",
   "execution_count": 37,
   "id": "dc2acced-42d4-495a-8fa4-c6540a9c6ca0",
   "metadata": {},
   "outputs": [],
   "source": [
    "def overlap_loss_function_mpo_pair(mpo_pair, rdm_tn):\n",
    "    ml, mr = split_mpo_pair(mpo_pair)\n",
    "\n",
    "    return overlap_loss_function(ml, mr, rdm_tn)"
   ]
  },
  {
   "cell_type": "code",
   "execution_count": 38,
   "id": "b621cd9e-bf58-44b8-b924-55584bc55e0f",
   "metadata": {},
   "outputs": [],
   "source": [
    "regex_s = r\"^I\\d+$\"\n",
    "regex_p = re.compile(regex_s)"
   ]
  },
  {
   "cell_type": "code",
   "execution_count": 39,
   "id": "c11190c9-133d-47bb-9887-bcbb44c2ae05",
   "metadata": {},
   "outputs": [],
   "source": [
    "def relabel_mpo(mpo, k_label, b_label):\n",
    "    site_locs = [\n",
    "        int(k[1:]) for k in mpo.tag_map\n",
    "        if bool(re.search(regex_p, k))\n",
    "    ]\n",
    "\n",
    "    k_in_indices = [f'k{i}' for i in site_locs]\n",
    "    j_in_indices = [f'b{i}' for i in site_locs]\n",
    "\n",
    "    k_out_indices = [f'{k_label}{i}' for i in site_locs]\n",
    "    j_out_indices = [f'{b_label}{i}' for i in site_locs]\n",
    "\n",
    "    mapping = dict(\n",
    "        chain(\n",
    "            zip(k_in_indices, k_out_indices),\n",
    "            zip(j_in_indices, j_out_indices)\n",
    "        )\n",
    "    )\n",
    "\n",
    "    mpo.reindex(mapping, inplace=True)"
   ]
  },
  {
   "cell_type": "code",
   "execution_count": 40,
   "id": "bf90d0ad-8ea6-490a-94fd-22049fbc0daa",
   "metadata": {},
   "outputs": [],
   "source": [
    "def unitarity_tn(tn, total_physical_dim):\n",
    "    ms = [tn.copy(), tn.copy(), tn.copy()]\n",
    "\n",
    "    relabel_mpo(ms[0], 'k', 'l')\n",
    "    relabel_mpo(ms[1], 'm', 'l')\n",
    "    relabel_mpo(ms[2], 'm', 'b')\n",
    "\n",
    "    ms[0] = ms[0].conj()\n",
    "    ms[2] = ms[2].conj()\n",
    "\n",
    "    n2tn = (tn & tn.conj())\n",
    "    n2 = n2tn.contract(n2tn.tag_map)\n",
    "    n4tn = (tn & ms[0] & ms[1] & ms[2])\n",
    "    n4 = n4tn.contract(n4tn.tag_map)\n",
    "\n",
    "    out = jnp.real(n4 - 2*n2 + total_physical_dim)\n",
    "\n",
    "    return out"
   ]
  },
  {
   "cell_type": "code",
   "execution_count": 41,
   "id": "c4c6f486-6f28-4429-b385-f8a346fd1916",
   "metadata": {},
   "outputs": [],
   "source": [
    "def overall_loss_function(mpo_pair, rdm_tn, total_physical_dimension,\n",
    "    unitary_cost_coefficient=1, overlap_cost_coefficient=1, losses=None):\n",
    "    ml, mr = split_mpo_pair(mpo_pair)\n",
    "\n",
    "    o_loss = overlap_loss_function(ml, mr, rdm_tn)\n",
    "    ul_loss = unitarity_tn(ml, total_physical_dimension)\n",
    "    ur_loss = unitarity_tn(mr, total_physical_dimension)\n",
    "\n",
    "    out = (\n",
    "        unitary_cost_coefficient*(ul_loss+ur_loss)\n",
    "        + overlap_cost_coefficient*o_loss\n",
    "    )\n",
    "\n",
    "    out = jnp.real(out)\n",
    "\n",
    "    if losses is not None:\n",
    "        losses.append((o_loss, ul_loss, ur_loss))\n",
    "    return out"
   ]
  },
  {
   "cell_type": "markdown",
   "id": "182f6d16-dfff-4cef-9dda-d3920db7c0bf",
   "metadata": {},
   "source": [
    "## Extract SPT phase functions"
   ]
  },
  {
   "cell_type": "code",
   "execution_count": 42,
   "id": "b797f208-56a6-4f64-b2bc-dda2358314e2",
   "metadata": {},
   "outputs": [],
   "source": [
    "def get_right_fp_overlap(rdm, mpo_l, mpo_r, leftmost_symmetry_site,\n",
    "                     num_symmetry_sites, num_boundary_sites):\n",
    "\n",
    "    tn = rdm.copy(deep=True)\n",
    "\n",
    "    fermionic_site_indices = [\n",
    "        i\n",
    "        for i in range(\n",
    "            leftmost_symmetry_site+num_symmetry_sites,\n",
    "            leftmost_symmetry_site+num_symmetry_sites+num_boundary_sites\n",
    "        )\n",
    "        if i % 2 == 1\n",
    "    ]\n",
    "\n",
    "    top_fermionic_tensors = [\n",
    "        (f'k{i}', next(map(tn.tensor_map.__getitem__, tn.ind_map[f'k{i}'])))\n",
    "        for i in fermionic_site_indices\n",
    "    ]\n",
    "\n",
    "    bottom_fermionic_tensors = [\n",
    "        (f'b{i}', next(map(tn.tensor_map.__getitem__, tn.ind_map[f'b{i}'])))\n",
    "        for i in fermionic_site_indices\n",
    "    ]\n",
    "\n",
    "    for ind, t in top_fermionic_tensors:\n",
    "        t.gate(\n",
    "            np_JW,\n",
    "            ind=ind,\n",
    "            inplace=True\n",
    "        )\n",
    "\n",
    "    for ind, t in bottom_fermionic_tensors:\n",
    "        t.gate(\n",
    "            np_JW,\n",
    "            ind=ind,\n",
    "            transposed=True,\n",
    "            inplace=True\n",
    "        )\n",
    "\n",
    "    out = (tn & mpo_l & mpo_r) ^ ...\n",
    "\n",
    "    return out"
   ]
  },
  {
   "cell_type": "code",
   "execution_count": 43,
   "id": "0b3a7976-d218-4eb9-b38c-e0cfd56337e0",
   "metadata": {},
   "outputs": [],
   "source": [
    "def get_left_fp_overlap(rdm, mpo_l, mpo_r, leftmost_symmetry_site,\n",
    "                     num_symmetry_sites, num_boundary_sites):\n",
    "\n",
    "    tn = rdm.copy(deep=True)\n",
    "\n",
    "    fermionic_site_indices = [\n",
    "        i\n",
    "        for i in range(\n",
    "            leftmost_symmetry_site-num_boundary_sites,\n",
    "            leftmost_symmetry_site\n",
    "        )\n",
    "        if i % 2 == 1\n",
    "    ]\n",
    "\n",
    "    top_fermionic_tensors = [\n",
    "        (f'k{i}', next(map(tn.tensor_map.__getitem__, tn.ind_map[f'k{i}'])))\n",
    "        for i in fermionic_site_indices\n",
    "    ]\n",
    "\n",
    "    bottom_fermionic_tensors = [\n",
    "        (f'b{i}', next(map(tn.tensor_map.__getitem__, tn.ind_map[f'b{i}'])))\n",
    "        for i in fermionic_site_indices\n",
    "    ]\n",
    "\n",
    "    for ind, t in top_fermionic_tensors:\n",
    "        t.gate(\n",
    "            np_JW,\n",
    "            ind=ind,\n",
    "            inplace=True\n",
    "        )\n",
    "\n",
    "    for ind, t in bottom_fermionic_tensors:\n",
    "        t.gate(\n",
    "            np_JW,\n",
    "            ind=ind,\n",
    "            transposed=True,\n",
    "            inplace=True\n",
    "        )\n",
    "\n",
    "    out = (tn & mpo_l & mpo_r) ^ ...\n",
    "\n",
    "    return out"
   ]
  },
  {
   "cell_type": "code",
   "execution_count": 44,
   "id": "3bca38f5-b5f0-4e72-9136-9388eb46445b",
   "metadata": {},
   "outputs": [],
   "source": [
    "def get_fp_charges(rdm, ml, mr, left_most_symmetry_site, num_symmetry_sites,\n",
    "               num_boundary_sites):\n",
    "    base_overlap = (rdm & ml & mr) ^ ...\n",
    "\n",
    "    right_fp_overlap = get_right_fp_overlap(\n",
    "        rdm,\n",
    "        ml,\n",
    "        mr,\n",
    "        left_most_symmetry_site,\n",
    "        num_symmetry_sites,\n",
    "        num_boundary_sites\n",
    "    )\n",
    "\n",
    "    left_fp_overlap = get_left_fp_overlap(\n",
    "        rdm,\n",
    "        ml,\n",
    "        mr,\n",
    "        left_most_symmetry_site,\n",
    "        num_symmetry_sites,\n",
    "        num_boundary_sites\n",
    "    )\n",
    "\n",
    "    right_fp_charge = right_fp_overlap/base_overlap\n",
    "    left_fp_charge = left_fp_overlap/base_overlap\n",
    "\n",
    "    return (left_fp_charge, right_fp_charge, base_overlap)"
   ]
  },
  {
   "cell_type": "markdown",
   "id": "4c5e699e-abda-42f5-b57e-238517eb3fe1",
   "metadata": {},
   "source": [
    "# Extract SPT phase\n",
    "## Fermionic group cohomology"
   ]
  },
  {
   "cell_type": "code",
   "execution_count": 45,
   "id": "88afc57c-5227-4220-94e3-717a2e8db407",
   "metadata": {},
   "outputs": [],
   "source": [
    "num_boundary_sites=6\n",
    "left_most_symmetry_site=60\n",
    "num_symmetry_sites=80\n",
    "bond_dimension=6\n",
    "\n",
    "total_physical_dim = 2**9"
   ]
  },
  {
   "cell_type": "code",
   "execution_count": 46,
   "id": "7dc8cbbc-53f2-46fd-a8f0-60b0ad3e63bf",
   "metadata": {},
   "outputs": [],
   "source": [
    "fp_charges = dict()\n",
    "\n",
    "for k, ops in best_boundary_operators.items():\n",
    "    ml, mr = split_mpo_pair(ops[1])\n",
    "\n",
    "    if k[0] == 0:\n",
    "        tenpy_psi = loaded_data_triv_proj_rep[k[1]]\n",
    "    elif k[0] == 1:\n",
    "        tenpy_psi = loaded_data_non_triv_proj_rep[k[1]]\n",
    "\n",
    "    bs = bosonic_np_symmetries[k[2]]\n",
    "    fs = fermionic_np_symmetries[k[3]]\n",
    "\n",
    "    symmetry_site_pairs = (\n",
    "        [(i, bs) for i in range(left_most_symmetry_site, left_most_symmetry_site+num_symmetry_sites, 2)]\n",
    "        + [(i, fs) for i in range(left_most_symmetry_site+1, left_most_symmetry_site+num_symmetry_sites+1, 2)]\n",
    "    )\n",
    "\n",
    "    rdm = generate_rdm_from_tenpy_psi(\n",
    "        tenpy_psi,\n",
    "        symmetry_site_pairs,\n",
    "        left_most_symmetry_site,\n",
    "        num_symmetry_sites,\n",
    "        num_boundary_sites\n",
    "    )\n",
    "\n",
    "    out = get_fp_charges(\n",
    "        rdm,\n",
    "        ml,\n",
    "        mr,\n",
    "        left_most_symmetry_site,\n",
    "        num_symmetry_sites,\n",
    "        num_boundary_sites\n",
    "    )\n",
    "\n",
    "    fp_charges[k] = out"
   ]
  },
  {
   "cell_type": "code",
   "execution_count": 47,
   "id": "4b48f2bf-32fa-4e65-b129-443dbe262805",
   "metadata": {},
   "outputs": [],
   "source": [
    "interpolation_values = np.round(np.linspace(0,1,21), 2)"
   ]
  },
  {
   "cell_type": "code",
   "execution_count": 186,
   "id": "399f3af7-d38e-446f-ae6b-71e98e9e8e5d",
   "metadata": {},
   "outputs": [],
   "source": [
    "fp_charges_array = np.zeros((2, len(interpolation_values), 3, 2, 2), dtype='complex')\n",
    "\n",
    "for t_nt in range(2):\n",
    "    for i, t in enumerate(interpolation_values):\n",
    "        for b in range(1, 4):\n",
    "            for jw in range(2):\n",
    "                for side in range(2):\n",
    "                    charge = fp_charges[(t_nt, t, b, jw)][side]\n",
    "                    fp_charges_array[t_nt, i, b-1, jw, side] = charge"
   ]
  },
  {
   "cell_type": "code",
   "execution_count": 187,
   "id": "c61b8158-9d93-484a-9edd-3d1c1d74787d",
   "metadata": {},
   "outputs": [
    {
     "data": {
      "text/plain": [
       "(2, 20, 3, 2, 2)"
      ]
     },
     "execution_count": 187,
     "metadata": {},
     "output_type": "execute_result"
    }
   ],
   "source": [
    "fp_charges_array.shape"
   ]
  },
  {
   "cell_type": "code",
   "execution_count": 188,
   "id": "3b98f1de-68c2-4f36-a200-23e21024d901",
   "metadata": {},
   "outputs": [
    {
     "data": {
      "text/plain": [
       "array([[[[ 1.-3.11395212e-16j,  1.-1.03798404e-16j],\n",
       "         [ 1.-3.15862817e-16j,  1.-2.63219014e-16j]],\n",
       "\n",
       "        [[ 1.+6.17769576e-17j,  1.-3.75956914e-16j],\n",
       "         [ 1.-2.46666354e-16j,  1.+8.22221179e-17j]],\n",
       "\n",
       "        [[ 1.+3.45787800e-16j,  1.+2.96389543e-16j],\n",
       "         [ 1.-1.07979800e-16j,  1.-2.69949501e-16j]]],\n",
       "\n",
       "\n",
       "       [[[-1.+3.00619659e-17j, -1.+1.59328419e-15j],\n",
       "         [-1.-3.24734704e-16j, -1.+2.95213367e-17j]],\n",
       "\n",
       "        [[ 1.+7.01963132e-16j,  1.-1.15121954e-15j],\n",
       "         [ 1.+1.48381363e-16j,  1.+8.60611904e-16j]],\n",
       "\n",
       "        [[-1.+7.56189318e-18j, -1.+3.02475727e-16j],\n",
       "         [-1.-3.59629682e-16j, -1.+1.95227542e-15j]]]])"
      ]
     },
     "execution_count": 188,
     "metadata": {},
     "output_type": "execute_result"
    }
   ],
   "source": [
    "fp_charges_array[:, 10, ...]"
   ]
  },
  {
   "cell_type": "markdown",
   "id": "e399b070-cd5c-48f7-a91f-8f26e08ee447",
   "metadata": {},
   "source": [
    "Clean up data."
   ]
  },
  {
   "cell_type": "code",
   "execution_count": 189,
   "id": "3e004732-4a03-4eac-9e29-a9f0b6e85181",
   "metadata": {},
   "outputs": [
    {
     "data": {
      "text/plain": [
       "4.55463836952108e-15"
      ]
     },
     "execution_count": 189,
     "metadata": {},
     "output_type": "execute_result"
    }
   ],
   "source": [
    "np.max(np.imag(fp_charges_array))"
   ]
  },
  {
   "cell_type": "code",
   "execution_count": 190,
   "id": "921aff54-4ec3-4143-a789-427001126937",
   "metadata": {},
   "outputs": [
    {
     "data": {
      "text/plain": [
       "False"
      ]
     },
     "execution_count": 190,
     "metadata": {},
     "output_type": "execute_result"
    }
   ],
   "source": [
    "np.all(np.abs(np.real(fp_charges_array)) == 1)"
   ]
  },
  {
   "cell_type": "code",
   "execution_count": 191,
   "id": "01bcdedf-9df3-4a2c-922a-07a79bda9171",
   "metadata": {},
   "outputs": [
    {
     "data": {
      "text/plain": [
       "4.884981308350689e-15"
      ]
     },
     "execution_count": 191,
     "metadata": {},
     "output_type": "execute_result"
    }
   ],
   "source": [
    "np.max(np.abs(np.abs(np.real(fp_charges_array)) - 1))"
   ]
  },
  {
   "cell_type": "code",
   "execution_count": 192,
   "id": "e31cdf6b-f24d-45e5-a5f4-b568e617ba77",
   "metadata": {},
   "outputs": [
    {
     "data": {
      "text/plain": [
       "4.884981308350689e-15"
      ]
     },
     "execution_count": 192,
     "metadata": {},
     "output_type": "execute_result"
    }
   ],
   "source": [
    "np.max(np.abs(np.abs(fp_charges_array) - 1))"
   ]
  },
  {
   "cell_type": "code",
   "execution_count": 193,
   "id": "c6e113bd-a301-481b-965d-e52017c5a682",
   "metadata": {},
   "outputs": [],
   "source": [
    "fp_charges_array = np.real(fp_charges_array)"
   ]
  },
  {
   "cell_type": "code",
   "execution_count": 194,
   "id": "39b6ef7a-efac-4679-8bba-9d4d093ad71e",
   "metadata": {},
   "outputs": [
    {
     "data": {
      "text/plain": [
       "array([-1., -1., -1., -1., -1., -1., -1., -1., -1., -1., -1., -1., -1.,\n",
       "       -1., -1., -1., -1., -1., -1., -1., -1., -1., -1., -1., -1., -1.,\n",
       "       -1., -1., -1., -1., -1., -1., -1., -1., -1., -1., -1., -1.,  1.,\n",
       "        1.,  1.,  1.,  1.,  1.,  1.,  1.,  1.,  1.,  1.,  1.,  1.,  1.,\n",
       "        1.,  1.,  1.,  1.,  1.,  1.,  1.,  1.,  1.,  1.,  1.,  1.,  1.,\n",
       "        1.,  1.,  1.])"
      ]
     },
     "execution_count": 194,
     "metadata": {},
     "output_type": "execute_result"
    }
   ],
   "source": [
    "np.unique(fp_charges_array)"
   ]
  },
  {
   "cell_type": "code",
   "execution_count": 195,
   "id": "28764c60-f1c0-4e71-933a-7a09cb80f1df",
   "metadata": {},
   "outputs": [
    {
     "data": {
      "text/plain": [
       "False"
      ]
     },
     "execution_count": 195,
     "metadata": {},
     "output_type": "execute_result"
    }
   ],
   "source": [
    "np.all(np.abs(fp_charges_array) == 1)"
   ]
  },
  {
   "cell_type": "code",
   "execution_count": 196,
   "id": "207e89ba-0eae-4afb-b498-4f4718aa7fcd",
   "metadata": {},
   "outputs": [],
   "source": [
    "fp_n1_array = (-1j/np.pi)*(np.emath.log(fp_charges_array + 0*j))"
   ]
  },
  {
   "cell_type": "code",
   "execution_count": 198,
   "id": "84e920b4-a867-4244-bfeb-4c7875a4b22e",
   "metadata": {},
   "outputs": [
    {
     "data": {
      "text/plain": [
       "(2, 20, 3, 2, 2)"
      ]
     },
     "execution_count": 198,
     "metadata": {},
     "output_type": "execute_result"
    }
   ],
   "source": [
    "fp_n1_array.shape"
   ]
  },
  {
   "cell_type": "code",
   "execution_count": 200,
   "id": "82ad4d1f-273a-47c4-9169-e357792e610f",
   "metadata": {
    "scrolled": true
   },
   "outputs": [
    {
     "data": {
      "text/plain": [
       "4.884981308350689e-15"
      ]
     },
     "execution_count": 200,
     "metadata": {},
     "output_type": "execute_result"
    }
   ],
   "source": [
    "np.max(np.abs(np.abs(fp_charges_array)-1))"
   ]
  },
  {
   "cell_type": "code",
   "execution_count": 201,
   "id": "d126ed97-4a27-4966-9a5e-daf83b92f152",
   "metadata": {},
   "outputs": [],
   "source": [
    "fp_charges_array = np.round(fp_charges_array, 0).astype('int')"
   ]
  },
  {
   "cell_type": "code",
   "execution_count": 202,
   "id": "0828594a-6550-4665-8fce-f6152437185d",
   "metadata": {},
   "outputs": [
    {
     "data": {
      "text/plain": [
       "array([-1,  1])"
      ]
     },
     "execution_count": 202,
     "metadata": {},
     "output_type": "execute_result"
    }
   ],
   "source": [
    "np.unique(fp_charges_array)"
   ]
  },
  {
   "cell_type": "code",
   "execution_count": 203,
   "id": "1c82b5ba-78a3-4b12-95e5-7db334af9ddd",
   "metadata": {},
   "outputs": [
    {
     "data": {
      "text/plain": [
       "True"
      ]
     },
     "execution_count": 203,
     "metadata": {},
     "output_type": "execute_result"
    }
   ],
   "source": [
    "np.all(fp_charges_array[...,0] == fp_charges_array[...,1])"
   ]
  },
  {
   "cell_type": "code",
   "execution_count": 204,
   "id": "152f7061-0012-41ab-acac-21fad73ec3aa",
   "metadata": {},
   "outputs": [],
   "source": [
    "fp_charges_array = fp_charges_array[...,0]"
   ]
  },
  {
   "cell_type": "code",
   "execution_count": 205,
   "id": "d50558a9-8722-4ab7-81fe-4ec88e64817a",
   "metadata": {},
   "outputs": [
    {
     "data": {
      "text/plain": [
       "True"
      ]
     },
     "execution_count": 205,
     "metadata": {},
     "output_type": "execute_result"
    }
   ],
   "source": [
    "np.all(fp_charges_array[...,0] == fp_charges_array[...,1])"
   ]
  },
  {
   "cell_type": "code",
   "execution_count": 206,
   "id": "57f73f26-9eae-4d0c-8d26-4d7d415004d0",
   "metadata": {},
   "outputs": [],
   "source": [
    "fp_charges_array = fp_charges_array[...,0]"
   ]
  },
  {
   "cell_type": "code",
   "execution_count": 207,
   "id": "1528ef33-64a4-4179-93cd-d28c9f991bf4",
   "metadata": {},
   "outputs": [
    {
     "data": {
      "text/plain": [
       "(2, 20, 3)"
      ]
     },
     "execution_count": 207,
     "metadata": {},
     "output_type": "execute_result"
    }
   ],
   "source": [
    "fp_charges_array.shape"
   ]
  },
  {
   "cell_type": "code",
   "execution_count": 208,
   "id": "953b1711-3087-481f-b333-13a1b5abacdd",
   "metadata": {},
   "outputs": [
    {
     "data": {
      "text/plain": [
       "array([[-1,  1, -1],\n",
       "       [-1,  1, -1],\n",
       "       [-1,  1, -1],\n",
       "       [-1,  1, -1],\n",
       "       [-1,  1, -1],\n",
       "       [-1,  1, -1],\n",
       "       [-1,  1, -1],\n",
       "       [-1,  1, -1],\n",
       "       [-1,  1, -1],\n",
       "       [-1,  1, -1],\n",
       "       [ 1,  1,  1],\n",
       "       [ 1,  1,  1],\n",
       "       [ 1,  1,  1],\n",
       "       [ 1,  1,  1],\n",
       "       [ 1,  1,  1],\n",
       "       [ 1,  1,  1],\n",
       "       [ 1,  1,  1],\n",
       "       [ 1,  1,  1],\n",
       "       [ 1,  1,  1],\n",
       "       [ 1,  1,  1]])"
      ]
     },
     "execution_count": 208,
     "metadata": {},
     "output_type": "execute_result"
    }
   ],
   "source": [
    "fp_charges_array[0]"
   ]
  },
  {
   "cell_type": "code",
   "execution_count": 209,
   "id": "efabbe19-3a4f-46d8-8430-6804d7afd0d4",
   "metadata": {},
   "outputs": [
    {
     "data": {
      "text/plain": [
       "array([[ 1, -1, -1],\n",
       "       [ 1, -1, -1],\n",
       "       [ 1, -1, -1],\n",
       "       [ 1, -1, -1],\n",
       "       [ 1, -1, -1],\n",
       "       [ 1, -1, -1],\n",
       "       [ 1, -1, -1],\n",
       "       [ 1, -1, -1],\n",
       "       [ 1, -1, -1],\n",
       "       [ 1, -1, -1],\n",
       "       [-1,  1, -1],\n",
       "       [-1,  1, -1],\n",
       "       [-1,  1, -1],\n",
       "       [-1,  1, -1],\n",
       "       [-1,  1, -1],\n",
       "       [-1,  1, -1],\n",
       "       [-1,  1, -1],\n",
       "       [-1,  1, -1],\n",
       "       [-1,  1, -1],\n",
       "       [-1,  1, -1]])"
      ]
     },
     "execution_count": 209,
     "metadata": {},
     "output_type": "execute_result"
    }
   ],
   "source": [
    "fp_charges_array[1, :]"
   ]
  },
  {
   "cell_type": "code",
   "execution_count": 210,
   "id": "83cf3836-9c38-4137-8443-0fe5eb9789ed",
   "metadata": {},
   "outputs": [
    {
     "data": {
      "text/plain": [
       "(20,)"
      ]
     },
     "execution_count": 210,
     "metadata": {},
     "output_type": "execute_result"
    }
   ],
   "source": [
    "interpolation_values.shape"
   ]
  },
  {
   "cell_type": "code",
   "execution_count": 211,
   "id": "6907573c-9d95-48b1-9ca6-490b26278e4b",
   "metadata": {},
   "outputs": [
    {
     "data": {
      "text/plain": [
       "array([[[-1,  1, -1],\n",
       "        [-1,  1, -1],\n",
       "        [-1,  1, -1],\n",
       "        [-1,  1, -1],\n",
       "        [-1,  1, -1],\n",
       "        [-1,  1, -1],\n",
       "        [-1,  1, -1],\n",
       "        [-1,  1, -1],\n",
       "        [-1,  1, -1],\n",
       "        [-1,  1, -1],\n",
       "        [ 1,  1,  1],\n",
       "        [ 1,  1,  1],\n",
       "        [ 1,  1,  1],\n",
       "        [ 1,  1,  1],\n",
       "        [ 1,  1,  1],\n",
       "        [ 1,  1,  1],\n",
       "        [ 1,  1,  1],\n",
       "        [ 1,  1,  1],\n",
       "        [ 1,  1,  1],\n",
       "        [ 1,  1,  1]],\n",
       "\n",
       "       [[ 1, -1, -1],\n",
       "        [ 1, -1, -1],\n",
       "        [ 1, -1, -1],\n",
       "        [ 1, -1, -1],\n",
       "        [ 1, -1, -1],\n",
       "        [ 1, -1, -1],\n",
       "        [ 1, -1, -1],\n",
       "        [ 1, -1, -1],\n",
       "        [ 1, -1, -1],\n",
       "        [ 1, -1, -1],\n",
       "        [-1,  1, -1],\n",
       "        [-1,  1, -1],\n",
       "        [-1,  1, -1],\n",
       "        [-1,  1, -1],\n",
       "        [-1,  1, -1],\n",
       "        [-1,  1, -1],\n",
       "        [-1,  1, -1],\n",
       "        [-1,  1, -1],\n",
       "        [-1,  1, -1],\n",
       "        [-1,  1, -1]]])"
      ]
     },
     "execution_count": 211,
     "metadata": {},
     "output_type": "execute_result"
    }
   ],
   "source": [
    "fp_charges_array"
   ]
  },
  {
   "cell_type": "code",
   "execution_count": 236,
   "id": "19c8893a-c31e-403d-980a-c068faaaf217",
   "metadata": {},
   "outputs": [
    {
     "data": {
      "image/png": "[encoded data removed]",
      "text/plain": [
       "<Figure size 1200x400 with 2 Axes>"
      ]
     },
     "metadata": {},
     "output_type": "display_data"
    }
   ],
   "source": [
    "fig, (ax1, ax2) = plt.subplots(figsize=(12,4), ncols=2)\n",
    "\n",
    "for j, (col, label) in enumerate(zip(colors, symmetry_labels[1:])):\n",
    "    ax1.plot(\n",
    "        interpolation_values[::-1],\n",
    "        fp_charges_array[0, :, j],\n",
    "        color=col,\n",
    "        label = label,\n",
    "        marker='D'\n",
    "    )\n",
    "\n",
    "    ax2.plot(\n",
    "        interpolation_values[::-1],\n",
    "        fp_charges_array[1, :, j],\n",
    "        color=col,\n",
    "        label = label,\n",
    "        marker='D'\n",
    "    )\n",
    "\n",
    "for ax in [ax1, ax2]:\n",
    "    ax.xaxis.set_major_locator(\n",
    "        matplotlib.ticker.MultipleLocator(0.1)\n",
    "    )\n",
    "    ax.xaxis.set_minor_locator(\n",
    "        matplotlib.ticker.MultipleLocator(0.05)\n",
    "    )\n",
    "    \n",
    "    \n",
    "    ax.tick_params(\n",
    "        axis='both',\n",
    "        which='major',\n",
    "        labelsize=11\n",
    "    )\n",
    "    \n",
    "    ax.grid()\n",
    "    ax.grid(\n",
    "        which='minor',\n",
    "        axis='y',\n",
    "        linestyle='--',\n",
    "        zorder=-1e10\n",
    "    )\n",
    "    ax.set_axisbelow(True)\n",
    "\n",
    "    ax.set_ylabel(r'$(-1)^{n_1(g)}$', fontsize=11)\n",
    "    ax.set_xlabel('$t$', fontsize=11)\n",
    "\n",
    "    ax.title.set_text(rf'$H_{{f,{k+1}}}(t)$')\n",
    "    ax.title.set_fontsize(12)\n",
    "\n",
    "ax1.legend(loc='lower left', title='$g$')\n",
    "ax2.legend(loc='center right', title='$g$')\n",
    "\n",
    "ax2.set_ylabel('')\n",
    "ax2.set_yticklabels([])\n",
    "\n",
    "fig.subplots_adjust(wspace=0.1)\n",
    "\n",
    "fig.savefig(r'plots/n1_phase_fermionic_mpo.png', dpi=200)"
   ]
  },
  {
   "cell_type": "code",
   "execution_count": 66,
   "id": "a55c3a51-e66c-448d-8207-a973ee642b6d",
   "metadata": {},
   "outputs": [],
   "source": [
    "scores_array = np.zeros((2, len(interpolation_values), 3, 2), dtype='complex')\n",
    "\n",
    "for t_nt in range(2):\n",
    "    for i, t in enumerate(interpolation_values):\n",
    "        for b in range(1, 4):\n",
    "            for jw in range(2):\n",
    "                score = fp_charges[(t_nt, t, b, jw)][2]\n",
    "                scores_array[t_nt, i, b-1, jw] = score"
   ]
  },
  {
   "cell_type": "code",
   "execution_count": 228,
   "id": "20fe2b4f-6fbc-4a9c-b811-28a6459d677c",
   "metadata": {},
   "outputs": [
    {
     "data": {
      "text/plain": [
       "count    2.520000e+02\n",
       "mean     9.414950e-01\n",
       "std      1.727435e-01\n",
       "min      4.989135e-10\n",
       "25%      9.531972e-01\n",
       "50%      9.816003e-01\n",
       "75%      9.914326e-01\n",
       "max      1.002534e+00\n",
       "dtype: float64"
      ]
     },
     "execution_count": 228,
     "metadata": {},
     "output_type": "execute_result"
    }
   ],
   "source": [
    "pd.Series(np.abs(scores_array.flatten())).describe()"
   ]
  },
  {
   "cell_type": "code",
   "execution_count": 224,
   "id": "e2f3822e-befb-433c-80dc-2f423325cbf3",
   "metadata": {},
   "outputs": [
    {
     "data": {
      "text/plain": [
       "(2, 21, 3, 2)"
      ]
     },
     "execution_count": 224,
     "metadata": {},
     "output_type": "execute_result"
    }
   ],
   "source": [
    "scores_array.shape"
   ]
  },
  {
   "cell_type": "code",
   "execution_count": 229,
   "id": "6a99ed4e-6101-4db6-bf62-e2f64a475343",
   "metadata": {},
   "outputs": [
    {
     "data": {
      "text/plain": [
       "(0.9972302804970552+0.04317248120250161j)"
      ]
     },
     "execution_count": 229,
     "metadata": {},
     "output_type": "execute_result"
    }
   ],
   "source": [
    "np.max(scores_array)"
   ]
  },
  {
   "cell_type": "code",
   "execution_count": 231,
   "id": "9ea5136a-43f9-45cb-be44-699619f2e399",
   "metadata": {},
   "outputs": [
    {
     "data": {
      "text/plain": [
       "0.0832278968530411"
      ]
     },
     "execution_count": 231,
     "metadata": {},
     "output_type": "execute_result"
    }
   ],
   "source": [
    "np.max(\n",
    "    np.delete(\n",
    "        np.abs(\n",
    "            np.abs(scores_array[...,0])\n",
    "            - np.abs(scores_array[...,1])\n",
    "        )\n",
    "        ,\n",
    "        10,\n",
    "        axis=1\n",
    "    )\n",
    ")"
   ]
  },
  {
   "cell_type": "code",
   "execution_count": 68,
   "id": "a327278a-8135-484c-85a3-c142ad334f13",
   "metadata": {
    "scrolled": true
   },
   "outputs": [],
   "source": [
    "single_fp_charges = {k: np.real(np.round(v[0], 2)) for k, v in fp_charges.items()}"
   ]
  },
  {
   "cell_type": "code",
   "execution_count": 74,
   "id": "f6fe4b71-f58d-498c-bbd4-363483fec042",
   "metadata": {},
   "outputs": [],
   "source": [
    "g = groupby(single_fp_charges.items(), key=lambda x: x[0][:-1])\n",
    "single_fp_charges_deduplicated = dict()\n",
    "\n",
    "for k, v in g:\n",
    "    if k[1] != 0.5:\n",
    "        values = [v1[1] for v1 in v]\n",
    "        assert len(Counter(values)) == 1\n",
    "        single_fp_charges_deduplicated[k] = values[0]"
   ]
  },
  {
   "cell_type": "code",
   "execution_count": 75,
   "id": "c938c884-de69-4ead-ac7e-00ed4619102c",
   "metadata": {
    "scrolled": true
   },
   "outputs": [
    {
     "data": {
      "text/plain": [
       "{(0, 0.9, 3): 1.0,\n",
       " (1, 0.35, 2): -1.0,\n",
       " (0, 0.45, 1): -1.0,\n",
       " (1, 0.25, 1): 1.0,\n",
       " (1, 0.4, 3): -1.0,\n",
       " (1, 0.05, 2): -1.0,\n",
       " (0, 0.45, 3): -1.0,\n",
       " (1, 0.15, 1): 1.0,\n",
       " (1, 0.3, 3): -1.0,\n",
       " (1, 0.35, 3): -1.0,\n",
       " (1, 0.65, 1): -1.0,\n",
       " (1, 0.75, 2): 1.0,\n",
       " (1, 0.4, 2): -1.0,\n",
       " (1, 0.55, 1): -1.0,\n",
       " (1, 0.45, 2): -1.0,\n",
       " (1, 0.3, 2): -1.0,\n",
       " (0, 0.7, 2): 1.0,\n",
       " (0, 0.0, 2): 1.0,\n",
       " (0, 0.25, 3): -1.0,\n",
       " (1, 0.45, 1): 1.0,\n",
       " (1, 0.1, 3): -1.0,\n",
       " (1, 0.55, 2): 1.0,\n",
       " (1, 0.4, 1): 1.0,\n",
       " (0, 0.65, 3): 1.0,\n",
       " (1, 0.25, 2): -1.0,\n",
       " (0, 0.2, 1): -1.0,\n",
       " (1, 0.2, 3): -1.0,\n",
       " (1, 0.35, 1): 1.0,\n",
       " (1, 0.8, 1): -1.0,\n",
       " (0, 0.85, 1): 1.0,\n",
       " (0, 0.15, 3): -1.0,\n",
       " (0, 0.95, 2): 1.0,\n",
       " (1, 0.2, 2): -1.0,\n",
       " (1, 0.1, 2): -1.0,\n",
       " (0, 1.0, 2): 1.0,\n",
       " (0, 0.8, 3): 1.0,\n",
       " (1, 0.15, 2): -1.0,\n",
       " (0, 0.55, 3): 1.0,\n",
       " (1, 0.0, 1): 1.0,\n",
       " (1, 0.45, 3): -1.0,\n",
       " (1, 0.85, 3): -1.0,\n",
       " (0, 0.4, 1): -1.0,\n",
       " (0, 0.3, 1): -1.0,\n",
       " (1, 0.9, 1): -1.0,\n",
       " (0, 0.1, 2): 1.0,\n",
       " (0, 0.6, 2): 1.0,\n",
       " (1, 0.05, 3): -1.0,\n",
       " (1, 0.0, 3): -1.0,\n",
       " (1, 0.65, 3): -1.0,\n",
       " (1, 0.6, 2): 1.0,\n",
       " (0, 0.9, 1): 1.0,\n",
       " (1, 0.25, 3): -1.0,\n",
       " (1, 0.3, 1): 1.0,\n",
       " (0, 0.65, 1): 1.0,\n",
       " (0, 0.2, 3): -1.0,\n",
       " (0, 0.75, 2): 1.0,\n",
       " (1, 0.2, 1): 1.0,\n",
       " (1, 1.0, 2): 1.0,\n",
       " (1, 0.8, 3): -1.0,\n",
       " (1, 0.0, 2): -1.0,\n",
       " (0, 0.35, 2): 1.0,\n",
       " (0, 0.25, 1): -1.0,\n",
       " (0, 0.45, 2): 1.0,\n",
       " (0, 0.8, 1): 1.0,\n",
       " (0, 0.55, 1): 1.0,\n",
       " (0, 0.15, 1): -1.0,\n",
       " (0, 0.85, 3): 1.0,\n",
       " (0, 0.05, 2): 1.0,\n",
       " (1, 0.7, 2): 1.0,\n",
       " (1, 0.55, 3): -1.0,\n",
       " (0, 0.4, 3): -1.0,\n",
       " (1, 0.85, 1): -1.0,\n",
       " (1, 0.15, 3): -1.0,\n",
       " (0, 0.3, 3): -1.0,\n",
       " (1, 0.95, 2): 1.0,\n",
       " (1, 0.9, 3): -1.0,\n",
       " (1, 0.7, 1): -1.0,\n",
       " (0, 0.15, 2): 1.0,\n",
       " (0, 0.95, 3): 1.0,\n",
       " (0, 0.05, 1): -1.0,\n",
       " (0, 1.0, 3): 1.0,\n",
       " (0, 0.8, 2): 1.0,\n",
       " (0, 0.55, 2): 1.0,\n",
       " (1, 0.85, 2): 1.0,\n",
       " (1, 0.95, 1): -1.0,\n",
       " (0, 0.1, 3): -1.0,\n",
       " (0, 0.6, 3): 1.0,\n",
       " (0, 0.9, 2): 1.0,\n",
       " (1, 0.1, 1): 1.0,\n",
       " (1, 0.6, 1): -1.0,\n",
       " (1, 0.75, 3): -1.0,\n",
       " (0, 0.7, 3): 1.0,\n",
       " (0, 0.35, 1): -1.0,\n",
       " (0, 0.0, 3): -1.0,\n",
       " (0, 0.25, 2): 1.0,\n",
       " (1, 1.0, 1): -1.0,\n",
       " (0, 0.65, 2): 1.0,\n",
       " (0, 0.75, 1): 1.0,\n",
       " (0, 1.0, 1): 1.0,\n",
       " (1, 0.7, 3): -1.0,\n",
       " (0, 0.85, 2): 1.0,\n",
       " (0, 0.05, 3): -1.0,\n",
       " (0, 0.95, 1): 1.0,\n",
       " (0, 0.1, 1): -1.0,\n",
       " (0, 0.6, 1): 1.0,\n",
       " (1, 0.9, 2): 1.0,\n",
       " (0, 0.4, 2): 1.0,\n",
       " (0, 0.3, 2): 1.0,\n",
       " (1, 0.95, 3): -1.0,\n",
       " (1, 0.05, 1): 1.0,\n",
       " (1, 0.6, 3): -1.0,\n",
       " (1, 0.65, 2): 1.0,\n",
       " (1, 0.75, 1): -1.0,\n",
       " (1, 1.0, 3): -1.0,\n",
       " (1, 0.8, 2): 1.0,\n",
       " (0, 0.2, 2): 1.0,\n",
       " (0, 0.75, 3): 1.0,\n",
       " (0, 0.7, 1): 1.0,\n",
       " (0, 0.35, 3): -1.0,\n",
       " (0, 0.0, 1): -1.0}"
      ]
     },
     "execution_count": 75,
     "metadata": {},
     "output_type": "execute_result"
    }
   ],
   "source": [
    "single_fp_charges_deduplicated"
   ]
  },
  {
   "cell_type": "markdown",
   "id": "e066fca1-f052-4627-984f-924e2aada875",
   "metadata": {},
   "source": [
    "Pull out correct cases."
   ]
  },
  {
   "cell_type": "code",
   "execution_count": 76,
   "id": "2a60563e-8991-4473-8f36-af6940576d2f",
   "metadata": {},
   "outputs": [],
   "source": [
    "signs_to_01 = {1.0: 0, -1.0: 1}"
   ]
  },
  {
   "cell_type": "code",
   "execution_count": 77,
   "id": "87d87203-98fc-46c7-94e6-313191d2337c",
   "metadata": {},
   "outputs": [],
   "source": [
    "correct_boundary_operators = {\n",
    "    k: best_boundary_operators[(*k, signs_to_01[v])][1]\n",
    "    for k, v in single_fp_charges_deduplicated.items()\n",
    "}"
   ]
  },
  {
   "cell_type": "code",
   "execution_count": 78,
   "id": "1437ff63-8d3e-41da-b046-8b7d21916895",
   "metadata": {},
   "outputs": [
    {
     "data": {
      "text/plain": [
       "120"
      ]
     },
     "execution_count": 78,
     "metadata": {},
     "output_type": "execute_result"
    }
   ],
   "source": [
    "len(correct_boundary_operators)"
   ]
  },
  {
   "cell_type": "code",
   "execution_count": 79,
   "id": "dd207f6d-6b51-416b-a728-2f9d09696ef2",
   "metadata": {
    "scrolled": true
   },
   "outputs": [
    {
     "data": {
      "text/plain": [
       "{(0, 0.9, 3): TensorNetwork1D(tensors=12, indices=34, L=6, max_bond=6),\n",
       " (1, 0.35, 2): TensorNetwork1D(tensors=12, indices=34, L=6, max_bond=6),\n",
       " (0, 0.45, 1): TensorNetwork1D(tensors=12, indices=34, L=6, max_bond=6),\n",
       " (1, 0.25, 1): TensorNetwork1D(tensors=12, indices=34, L=6, max_bond=6),\n",
       " (1, 0.4, 3): TensorNetwork1D(tensors=12, indices=34, L=6, max_bond=6),\n",
       " (1, 0.05, 2): TensorNetwork1D(tensors=12, indices=34, L=6, max_bond=6),\n",
       " (0, 0.45, 3): TensorNetwork1D(tensors=12, indices=34, L=6, max_bond=6),\n",
       " (1, 0.15, 1): TensorNetwork1D(tensors=12, indices=34, L=6, max_bond=6),\n",
       " (1, 0.3, 3): TensorNetwork1D(tensors=12, indices=34, L=6, max_bond=6),\n",
       " (1, 0.35, 3): TensorNetwork1D(tensors=12, indices=34, L=6, max_bond=6),\n",
       " (1, 0.65, 1): TensorNetwork1D(tensors=12, indices=34, L=6, max_bond=6),\n",
       " (1, 0.75, 2): TensorNetwork1D(tensors=12, indices=34, L=6, max_bond=6),\n",
       " (1, 0.4, 2): TensorNetwork1D(tensors=12, indices=34, L=6, max_bond=6),\n",
       " (1, 0.55, 1): TensorNetwork1D(tensors=12, indices=34, L=6, max_bond=6),\n",
       " (1, 0.45, 2): TensorNetwork1D(tensors=12, indices=34, L=6, max_bond=6),\n",
       " (1, 0.3, 2): TensorNetwork1D(tensors=12, indices=34, L=6, max_bond=6),\n",
       " (0, 0.7, 2): TensorNetwork1D(tensors=12, indices=34, L=6, max_bond=6),\n",
       " (0, 0.0, 2): TensorNetwork1D(tensors=12, indices=34, L=6, max_bond=6),\n",
       " (0, 0.25, 3): TensorNetwork1D(tensors=12, indices=34, L=6, max_bond=6),\n",
       " (1, 0.45, 1): TensorNetwork1D(tensors=12, indices=34, L=6, max_bond=6),\n",
       " (1, 0.1, 3): TensorNetwork1D(tensors=12, indices=34, L=6, max_bond=6),\n",
       " (1, 0.55, 2): TensorNetwork1D(tensors=12, indices=34, L=6, max_bond=6),\n",
       " (1, 0.4, 1): TensorNetwork1D(tensors=12, indices=34, L=6, max_bond=6),\n",
       " (0, 0.65, 3): TensorNetwork1D(tensors=12, indices=34, L=6, max_bond=6),\n",
       " (1, 0.25, 2): TensorNetwork1D(tensors=12, indices=34, L=6, max_bond=6),\n",
       " (0, 0.2, 1): TensorNetwork1D(tensors=12, indices=34, L=6, max_bond=6),\n",
       " (1, 0.2, 3): TensorNetwork1D(tensors=12, indices=34, L=6, max_bond=6),\n",
       " (1, 0.35, 1): TensorNetwork1D(tensors=12, indices=34, L=6, max_bond=6),\n",
       " (1, 0.8, 1): TensorNetwork1D(tensors=12, indices=34, L=6, max_bond=6),\n",
       " (0, 0.85, 1): TensorNetwork1D(tensors=12, indices=34, L=6, max_bond=6),\n",
       " (0, 0.15, 3): TensorNetwork1D(tensors=12, indices=34, L=6, max_bond=6),\n",
       " (0, 0.95, 2): TensorNetwork1D(tensors=12, indices=34, L=6, max_bond=6),\n",
       " (1, 0.2, 2): TensorNetwork1D(tensors=12, indices=34, L=6, max_bond=6),\n",
       " (1, 0.1, 2): TensorNetwork1D(tensors=12, indices=34, L=6, max_bond=6),\n",
       " (0, 1.0, 2): TensorNetwork1D(tensors=12, indices=34, L=6, max_bond=6),\n",
       " (0, 0.8, 3): TensorNetwork1D(tensors=12, indices=34, L=6, max_bond=6),\n",
       " (1, 0.15, 2): TensorNetwork1D(tensors=12, indices=34, L=6, max_bond=6),\n",
       " (0, 0.55, 3): TensorNetwork1D(tensors=12, indices=34, L=6, max_bond=6),\n",
       " (1, 0.0, 1): TensorNetwork1D(tensors=12, indices=34, L=6, max_bond=6),\n",
       " (1, 0.45, 3): TensorNetwork1D(tensors=12, indices=34, L=6, max_bond=6),\n",
       " (1, 0.85, 3): TensorNetwork1D(tensors=12, indices=34, L=6, max_bond=6),\n",
       " (0, 0.4, 1): TensorNetwork1D(tensors=12, indices=34, L=6, max_bond=6),\n",
       " (0, 0.3, 1): TensorNetwork1D(tensors=12, indices=34, L=6, max_bond=6),\n",
       " (1, 0.9, 1): TensorNetwork1D(tensors=12, indices=34, L=6, max_bond=6),\n",
       " (0, 0.1, 2): TensorNetwork1D(tensors=12, indices=34, L=6, max_bond=6),\n",
       " (0, 0.6, 2): TensorNetwork1D(tensors=12, indices=34, L=6, max_bond=6),\n",
       " (1, 0.05, 3): TensorNetwork1D(tensors=12, indices=34, L=6, max_bond=6),\n",
       " (1, 0.0, 3): TensorNetwork1D(tensors=12, indices=34, L=6, max_bond=6),\n",
       " (1, 0.65, 3): TensorNetwork1D(tensors=12, indices=34, L=6, max_bond=6),\n",
       " (1, 0.6, 2): TensorNetwork1D(tensors=12, indices=34, L=6, max_bond=6),\n",
       " (0, 0.9, 1): TensorNetwork1D(tensors=12, indices=34, L=6, max_bond=6),\n",
       " (1, 0.25, 3): TensorNetwork1D(tensors=12, indices=34, L=6, max_bond=6),\n",
       " (1, 0.3, 1): TensorNetwork1D(tensors=12, indices=34, L=6, max_bond=6),\n",
       " (0, 0.65, 1): TensorNetwork1D(tensors=12, indices=34, L=6, max_bond=6),\n",
       " (0, 0.2, 3): TensorNetwork1D(tensors=12, indices=34, L=6, max_bond=6),\n",
       " (0, 0.75, 2): TensorNetwork1D(tensors=12, indices=34, L=6, max_bond=6),\n",
       " (1, 0.2, 1): TensorNetwork1D(tensors=12, indices=34, L=6, max_bond=6),\n",
       " (1, 1.0, 2): TensorNetwork1D(tensors=12, indices=34, L=6, max_bond=6),\n",
       " (1, 0.8, 3): TensorNetwork1D(tensors=12, indices=34, L=6, max_bond=6),\n",
       " (1, 0.0, 2): TensorNetwork1D(tensors=12, indices=34, L=6, max_bond=6),\n",
       " (0, 0.35, 2): TensorNetwork1D(tensors=12, indices=34, L=6, max_bond=6),\n",
       " (0, 0.25, 1): TensorNetwork1D(tensors=12, indices=34, L=6, max_bond=6),\n",
       " (0, 0.45, 2): TensorNetwork1D(tensors=12, indices=34, L=6, max_bond=6),\n",
       " (0, 0.8, 1): TensorNetwork1D(tensors=12, indices=34, L=6, max_bond=6),\n",
       " (0, 0.55, 1): TensorNetwork1D(tensors=12, indices=34, L=6, max_bond=6),\n",
       " (0, 0.15, 1): TensorNetwork1D(tensors=12, indices=34, L=6, max_bond=6),\n",
       " (0, 0.85, 3): TensorNetwork1D(tensors=12, indices=34, L=6, max_bond=6),\n",
       " (0, 0.05, 2): TensorNetwork1D(tensors=12, indices=34, L=6, max_bond=6),\n",
       " (1, 0.7, 2): TensorNetwork1D(tensors=12, indices=34, L=6, max_bond=6),\n",
       " (1, 0.55, 3): TensorNetwork1D(tensors=12, indices=34, L=6, max_bond=6),\n",
       " (0, 0.4, 3): TensorNetwork1D(tensors=12, indices=34, L=6, max_bond=6),\n",
       " (1, 0.85, 1): TensorNetwork1D(tensors=12, indices=34, L=6, max_bond=6),\n",
       " (1, 0.15, 3): TensorNetwork1D(tensors=12, indices=34, L=6, max_bond=6),\n",
       " (0, 0.3, 3): TensorNetwork1D(tensors=12, indices=34, L=6, max_bond=6),\n",
       " (1, 0.95, 2): TensorNetwork1D(tensors=12, indices=34, L=6, max_bond=6),\n",
       " (1, 0.9, 3): TensorNetwork1D(tensors=12, indices=34, L=6, max_bond=6),\n",
       " (1, 0.7, 1): TensorNetwork1D(tensors=12, indices=34, L=6, max_bond=6),\n",
       " (0, 0.15, 2): TensorNetwork1D(tensors=12, indices=34, L=6, max_bond=6),\n",
       " (0, 0.95, 3): TensorNetwork1D(tensors=12, indices=34, L=6, max_bond=6),\n",
       " (0, 0.05, 1): TensorNetwork1D(tensors=12, indices=34, L=6, max_bond=6),\n",
       " (0, 1.0, 3): TensorNetwork1D(tensors=12, indices=34, L=6, max_bond=6),\n",
       " (0, 0.8, 2): TensorNetwork1D(tensors=12, indices=34, L=6, max_bond=6),\n",
       " (0, 0.55, 2): TensorNetwork1D(tensors=12, indices=34, L=6, max_bond=6),\n",
       " (1, 0.85, 2): TensorNetwork1D(tensors=12, indices=34, L=6, max_bond=6),\n",
       " (1, 0.95, 1): TensorNetwork1D(tensors=12, indices=34, L=6, max_bond=6),\n",
       " (0, 0.1, 3): TensorNetwork1D(tensors=12, indices=34, L=6, max_bond=6),\n",
       " (0, 0.6, 3): TensorNetwork1D(tensors=12, indices=34, L=6, max_bond=6),\n",
       " (0, 0.9, 2): TensorNetwork1D(tensors=12, indices=34, L=6, max_bond=6),\n",
       " (1, 0.1, 1): TensorNetwork1D(tensors=12, indices=34, L=6, max_bond=6),\n",
       " (1, 0.6, 1): TensorNetwork1D(tensors=12, indices=34, L=6, max_bond=6),\n",
       " (1, 0.75, 3): TensorNetwork1D(tensors=12, indices=34, L=6, max_bond=6),\n",
       " (0, 0.7, 3): TensorNetwork1D(tensors=12, indices=34, L=6, max_bond=6),\n",
       " (0, 0.35, 1): TensorNetwork1D(tensors=12, indices=34, L=6, max_bond=6),\n",
       " (0, 0.0, 3): TensorNetwork1D(tensors=12, indices=34, L=6, max_bond=6),\n",
       " (0, 0.25, 2): TensorNetwork1D(tensors=12, indices=34, L=6, max_bond=6),\n",
       " (1, 1.0, 1): TensorNetwork1D(tensors=12, indices=34, L=6, max_bond=6),\n",
       " (0, 0.65, 2): TensorNetwork1D(tensors=12, indices=34, L=6, max_bond=6),\n",
       " (0, 0.75, 1): TensorNetwork1D(tensors=12, indices=34, L=6, max_bond=6),\n",
       " (0, 1.0, 1): TensorNetwork1D(tensors=12, indices=34, L=6, max_bond=6),\n",
       " (1, 0.7, 3): TensorNetwork1D(tensors=12, indices=34, L=6, max_bond=6),\n",
       " (0, 0.85, 2): TensorNetwork1D(tensors=12, indices=34, L=6, max_bond=6),\n",
       " (0, 0.05, 3): TensorNetwork1D(tensors=12, indices=34, L=6, max_bond=6),\n",
       " (0, 0.95, 1): TensorNetwork1D(tensors=12, indices=34, L=6, max_bond=6),\n",
       " (0, 0.1, 1): TensorNetwork1D(tensors=12, indices=34, L=6, max_bond=6),\n",
       " (0, 0.6, 1): TensorNetwork1D(tensors=12, indices=34, L=6, max_bond=6),\n",
       " (1, 0.9, 2): TensorNetwork1D(tensors=12, indices=34, L=6, max_bond=6),\n",
       " (0, 0.4, 2): TensorNetwork1D(tensors=12, indices=34, L=6, max_bond=6),\n",
       " (0, 0.3, 2): TensorNetwork1D(tensors=12, indices=34, L=6, max_bond=6),\n",
       " (1, 0.95, 3): TensorNetwork1D(tensors=12, indices=34, L=6, max_bond=6),\n",
       " (1, 0.05, 1): TensorNetwork1D(tensors=12, indices=34, L=6, max_bond=6),\n",
       " (1, 0.6, 3): TensorNetwork1D(tensors=12, indices=34, L=6, max_bond=6),\n",
       " (1, 0.65, 2): TensorNetwork1D(tensors=12, indices=34, L=6, max_bond=6),\n",
       " (1, 0.75, 1): TensorNetwork1D(tensors=12, indices=34, L=6, max_bond=6),\n",
       " (1, 1.0, 3): TensorNetwork1D(tensors=12, indices=34, L=6, max_bond=6),\n",
       " (1, 0.8, 2): TensorNetwork1D(tensors=12, indices=34, L=6, max_bond=6),\n",
       " (0, 0.2, 2): TensorNetwork1D(tensors=12, indices=34, L=6, max_bond=6),\n",
       " (0, 0.75, 3): TensorNetwork1D(tensors=12, indices=34, L=6, max_bond=6),\n",
       " (0, 0.7, 1): TensorNetwork1D(tensors=12, indices=34, L=6, max_bond=6),\n",
       " (0, 0.35, 3): TensorNetwork1D(tensors=12, indices=34, L=6, max_bond=6),\n",
       " (0, 0.0, 1): TensorNetwork1D(tensors=12, indices=34, L=6, max_bond=6)}"
      ]
     },
     "execution_count": 79,
     "metadata": {},
     "output_type": "execute_result"
    }
   ],
   "source": [
    "correct_boundary_operators"
   ]
  },
  {
   "cell_type": "markdown",
   "id": "aa7a7dbb-5c32-4a13-99a3-a19b63a02eb0",
   "metadata": {},
   "source": [
    "## Check scores of untaries"
   ]
  },
  {
   "cell_type": "code",
   "execution_count": 80,
   "id": "e22ee457-44b2-41a4-94c8-c77893ca39e2",
   "metadata": {},
   "outputs": [],
   "source": [
    "test_tn = list(correct_boundary_operators.values())[0]"
   ]
  },
  {
   "cell_type": "code",
   "execution_count": 81,
   "id": "7a0601f2-363b-4cf6-b550-c7e152885c0c",
   "metadata": {},
   "outputs": [],
   "source": [
    "total_physical_dim = 2**9"
   ]
  },
  {
   "cell_type": "code",
   "execution_count": 82,
   "id": "5f666914-ed25-4a31-8c14-8089fe382d3e",
   "metadata": {},
   "outputs": [],
   "source": [
    "ml, mr = split_mpo_pair(test_tn)"
   ]
  },
  {
   "cell_type": "code",
   "execution_count": 83,
   "id": "97c54aad-ec49-42d9-b248-efae7fe77c7b",
   "metadata": {},
   "outputs": [
    {
     "data": {
      "text/plain": [
       "Array(0.01184082, dtype=float32, weak_type=True)"
      ]
     },
     "execution_count": 83,
     "metadata": {},
     "output_type": "execute_result"
    }
   ],
   "source": [
    "unitarity_tn(ml, total_physical_dim)"
   ]
  },
  {
   "cell_type": "code",
   "execution_count": 84,
   "id": "a0b4b2b4-1c51-4cf6-b0a9-dddced9bf387",
   "metadata": {},
   "outputs": [
    {
     "data": {
      "text/plain": [
       "Array(0.00653076, dtype=float32, weak_type=True)"
      ]
     },
     "execution_count": 84,
     "metadata": {},
     "output_type": "execute_result"
    }
   ],
   "source": [
    "unitarity_tn(mr, total_physical_dim)"
   ]
  },
  {
   "cell_type": "markdown",
   "id": "f5b60152-8aef-4468-88db-244928af4b92",
   "metadata": {},
   "source": [
    "Compute overlap."
   ]
  },
  {
   "cell_type": "code",
   "execution_count": 85,
   "id": "8ef0d3fc-8096-44e7-a977-3a78df32d6c1",
   "metadata": {},
   "outputs": [],
   "source": [
    "correct_boundary_operators_scores = dict()\n",
    "\n",
    "for k, tn in correct_boundary_operators.items():\n",
    "    ml, mr = split_mpo_pair(tn)\n",
    "\n",
    "    if k[0] == 0:\n",
    "        tenpy_psi = loaded_data_triv_proj_rep[k[1]]\n",
    "    elif k[0] == 1:\n",
    "        tenpy_psi = loaded_data_non_triv_proj_rep[k[1]]\n",
    "\n",
    "    bs = bosonic_np_symmetries[k[2]]\n",
    "    fs_key = signs_to_01[single_fp_charges_deduplicated[k]]\n",
    "    fs = fermionic_np_symmetries[fs_key]\n",
    "\n",
    "    symmetry_site_pairs = (\n",
    "        [(i, bs) for i in range(left_most_symmetry_site, left_most_symmetry_site+num_symmetry_sites, 2)]\n",
    "        + [(i, fs) for i in range(left_most_symmetry_site+1, left_most_symmetry_site+num_symmetry_sites+1, 2)]\n",
    "    )\n",
    "\n",
    "    rdm = generate_rdm_from_tenpy_psi(\n",
    "        tenpy_psi,\n",
    "        symmetry_site_pairs,\n",
    "        left_most_symmetry_site,\n",
    "        num_symmetry_sites,\n",
    "        num_boundary_sites\n",
    "    )\n",
    "\n",
    "    left_unitarity_score = unitarity_tn(ml, total_physical_dim)\n",
    "    right_unitarity_score = unitarity_tn(mr, total_physical_dim)\n",
    "    overlap = np.abs((rdm & ml & mr) ^ ...)\n",
    "\n",
    "    correct_boundary_operators_scores[k] = (\n",
    "        left_unitarity_score,\n",
    "        right_unitarity_score,\n",
    "        overlap\n",
    "    )"
   ]
  },
  {
   "cell_type": "code",
   "execution_count": 86,
   "id": "7dc8485e-0bf3-479b-bb94-a76ca401431e",
   "metadata": {},
   "outputs": [
    {
     "data": {
      "text/plain": [
       "(Array(0.04418945, dtype=float32, weak_type=True),\n",
       " Array(0.03625488, dtype=float32, weak_type=True),\n",
       " 0.9168725847831561)"
      ]
     },
     "execution_count": 86,
     "metadata": {},
     "output_type": "execute_result"
    }
   ],
   "source": [
    "correct_boundary_operators_scores[(1, 0, 1)]"
   ]
  },
  {
   "cell_type": "code",
   "execution_count": 87,
   "id": "87901183-9da8-402a-a34c-27716b582877",
   "metadata": {},
   "outputs": [
    {
     "data": {
      "text/plain": [
       "(Array(0.00320435, dtype=float32, weak_type=True),\n",
       " Array(0.01879883, dtype=float32, weak_type=True),\n",
       " 0.9834314141085325)"
      ]
     },
     "execution_count": 87,
     "metadata": {},
     "output_type": "execute_result"
    }
   ],
   "source": [
    "correct_boundary_operators_scores[(1, 0, 2)]"
   ]
  },
  {
   "cell_type": "code",
   "execution_count": 88,
   "id": "e0c98f1c-fa4b-40d7-9265-2e17e5c3c584",
   "metadata": {},
   "outputs": [
    {
     "data": {
      "text/plain": [
       "(Array(0.00866699, dtype=float32, weak_type=True),\n",
       " Array(0.00805664, dtype=float32, weak_type=True),\n",
       " 0.9845429562477903)"
      ]
     },
     "execution_count": 88,
     "metadata": {},
     "output_type": "execute_result"
    }
   ],
   "source": [
    "correct_boundary_operators_scores[(1, 0, 3)]"
   ]
  },
  {
   "cell_type": "code",
   "execution_count": 89,
   "id": "b9ab064c-11fe-4075-bb5e-95225e76f5f9",
   "metadata": {},
   "outputs": [
    {
     "data": {
      "text/plain": [
       "(Array(0.01873779, dtype=float32, weak_type=True),\n",
       " Array(0.01538086, dtype=float32, weak_type=True),\n",
       " 0.9634160489625682)"
      ]
     },
     "execution_count": 89,
     "metadata": {},
     "output_type": "execute_result"
    }
   ],
   "source": [
    "correct_boundary_operators_scores[(1, 0.05, 1)]"
   ]
  },
  {
   "cell_type": "code",
   "execution_count": 90,
   "id": "8c5f296d-65e1-4e52-b2b5-92d17ce14ec6",
   "metadata": {},
   "outputs": [
    {
     "data": {
      "text/plain": [
       "(Array(0.01452637, dtype=float32, weak_type=True),\n",
       " Array(0.00708008, dtype=float32, weak_type=True),\n",
       " 0.9700430399144698)"
      ]
     },
     "execution_count": 90,
     "metadata": {},
     "output_type": "execute_result"
    }
   ],
   "source": [
    "correct_boundary_operators_scores[(1, 0.05, 2)]"
   ]
  },
  {
   "cell_type": "code",
   "execution_count": 91,
   "id": "fc1c8787-c530-4ecc-995c-163e3fa0bb86",
   "metadata": {},
   "outputs": [
    {
     "data": {
      "text/plain": [
       "(Array(0.01501465, dtype=float32, weak_type=True),\n",
       " Array(0.01123047, dtype=float32, weak_type=True),\n",
       " 0.9735226181196421)"
      ]
     },
     "execution_count": 91,
     "metadata": {},
     "output_type": "execute_result"
    }
   ],
   "source": [
    "correct_boundary_operators_scores[(1, 0.05, 3)]"
   ]
  },
  {
   "cell_type": "code",
   "execution_count": 92,
   "id": "98635981-7d47-40c7-9280-2010081de6a5",
   "metadata": {},
   "outputs": [],
   "source": [
    "correct_scores = {\n",
    "    k: best_score_pairs[(*k, signs_to_01[v])][1]\n",
    "    for k, v in single_fp_charges_deduplicated.items()\n",
    "}"
   ]
  },
  {
   "cell_type": "code",
   "execution_count": 93,
   "id": "fbadaed3-d2d8-4f3e-8fad-79b0a300bbd1",
   "metadata": {},
   "outputs": [],
   "source": [
    "interpolation_values = np.round(np.linspace(0, 1, 21), 2)\n",
    "interpolation_values = np.delete(interpolation_values, 10, axis=0)"
   ]
  },
  {
   "cell_type": "code",
   "execution_count": 299,
   "id": "7254d0bb-25f7-40b9-8d40-a23d08656a6d",
   "metadata": {},
   "outputs": [],
   "source": [
    "correct_scores_array = np.zeros((2, len(interpolation_values), 3))\n",
    "\n",
    "for i in range(2):\n",
    "    for j, t in enumerate(interpolation_values):\n",
    "        for b in range(1, 4):\n",
    "            correct_scores_array[i, j, b-1] = correct_scores[(i, t, b)]"
   ]
  },
  {
   "cell_type": "code",
   "execution_count": 300,
   "id": "9fe50ec7-2fd4-438d-9065-780d09fde9f0",
   "metadata": {},
   "outputs": [],
   "source": [
    "colors = [\n",
    "    'tab:blue',\n",
    "    'tab:orange',\n",
    "    'tab:green'\n",
    "]   "
   ]
  },
  {
   "cell_type": "code",
   "execution_count": 301,
   "id": "12b45781-0110-40e4-9a25-577e5e99e48a",
   "metadata": {},
   "outputs": [],
   "source": [
    "symmetry_labels = [\n",
    "    'II',\n",
    "    'IX',\n",
    "    'XI',\n",
    "    'XX'\n",
    "]"
   ]
  },
  {
   "cell_type": "code",
   "execution_count": 302,
   "id": "279624b9-c293-4020-8b0f-bff0167f77a8",
   "metadata": {},
   "outputs": [],
   "source": [
    "e, a, b, c = symmetry_labels"
   ]
  },
  {
   "cell_type": "code",
   "execution_count": 303,
   "id": "e674071d-3677-4a5b-8a03-06aab53e31e6",
   "metadata": {},
   "outputs": [
    {
     "data": {
      "image/png": "[encoded data removed]",
      "text/plain": [
       "<Figure size 1200x400 with 2 Axes>"
      ]
     },
     "metadata": {},
     "output_type": "display_data"
    }
   ],
   "source": [
    "fig, [ax1, ax2] = plt.subplots(figsize=(12,4), ncols=2)\n",
    "\n",
    "for k, ax in enumerate([ax1, ax2]):\n",
    "    for j, (col, label) in enumerate(zip(colors, symmetry_labels[1:])):\n",
    "        ax.plot(\n",
    "            1-interpolation_values, # I ordered this wrong at definition\n",
    "            correct_scores_array[k, :, j],\n",
    "            color=col,\n",
    "            label=label,\n",
    "            marker='D'\n",
    "        )\n",
    "\n",
    "    ax.set_ylim(5e-3, 1.2)\n",
    "    ax.xaxis.set_major_locator(\n",
    "        matplotlib.ticker.MultipleLocator(0.1)\n",
    "    )\n",
    "    ax.xaxis.set_minor_locator(\n",
    "        matplotlib.ticker.MultipleLocator(0.05)\n",
    "    )\n",
    "    \n",
    "    ax.set_yscale('log')\n",
    "\n",
    "    ax.tick_params(\n",
    "        axis='both',\n",
    "        which='major',\n",
    "        labelsize=11\n",
    "    )\n",
    "    \n",
    "    ax.grid()\n",
    "    ax.grid(\n",
    "        which='minor',\n",
    "        axis='y',\n",
    "        linestyle='--',\n",
    "        zorder=-1e10\n",
    "    )\n",
    "    ax.set_axisbelow(True)\n",
    "\n",
    "    if k == 0:\n",
    "        ax.set_ylabel(r'$L$', fontsize=11)\n",
    "    ax.set_xlabel('$t$', fontsize=11)\n",
    "\n",
    "    if k == 1:\n",
    "        ax.legend(loc='lower center', title='$g$')\n",
    "\n",
    "    ax.title.set_text(rf'$H_{{f,{k+1}}}(t)$')\n",
    "    ax.title.set_fontsize(12)\n",
    "\n",
    "ax2.set_ylabel('')\n",
    "ax2.set_yticklabels([])\n",
    "\n",
    "fig.subplots_adjust(wspace=0.1)\n",
    "    \n",
    "fig.savefig(r'plots/cost_function_from_mpo_fermionic.png', dpi=200)"
   ]
  },
  {
   "cell_type": "markdown",
   "id": "37e63b05-2d2f-4ae3-8bf4-7754d5a5b38b",
   "metadata": {},
   "source": [
    "## Proj rep group cohomology"
   ]
  },
  {
   "cell_type": "markdown",
   "id": "d3482ae3-18bf-4b3e-83d9-66ce61dffe7f",
   "metadata": {},
   "source": [
    "### Group data definitions"
   ]
  },
  {
   "cell_type": "code",
   "execution_count": 100,
   "id": "10721838-5776-4da8-9618-01dd30494f13",
   "metadata": {},
   "outputs": [],
   "source": [
    "symmetry_labels = [\n",
    "    'II',\n",
    "    'IX',\n",
    "    'XI',\n",
    "    'XX'\n",
    "]"
   ]
  },
  {
   "cell_type": "code",
   "execution_count": 101,
   "id": "d1cd215b-c62c-405e-9adc-9a97db7142e2",
   "metadata": {},
   "outputs": [],
   "source": [
    "symmetry_combination_labels = list(combinations(symmetry_labels, 2))"
   ]
  },
  {
   "cell_type": "code",
   "execution_count": 102,
   "id": "45a081ff-eb82-4ff5-9700-55f11824f366",
   "metadata": {},
   "outputs": [
    {
     "data": {
      "text/plain": [
       "[('II', 'IX'),\n",
       " ('II', 'XI'),\n",
       " ('II', 'XX'),\n",
       " ('IX', 'XI'),\n",
       " ('IX', 'XX'),\n",
       " ('XI', 'XX')]"
      ]
     },
     "execution_count": 102,
     "metadata": {},
     "output_type": "execute_result"
    }
   ],
   "source": [
    "symmetry_combination_labels"
   ]
  },
  {
   "cell_type": "code",
   "execution_count": 103,
   "id": "aab20cf0-ae51-4603-9192-5ba0741b6a6d",
   "metadata": {},
   "outputs": [],
   "source": [
    "e, a, b, c = symmetry_labels"
   ]
  },
  {
   "cell_type": "code",
   "execution_count": 104,
   "id": "955bfb99-9c73-4794-b14e-f62f7872abe5",
   "metadata": {},
   "outputs": [],
   "source": [
    "group_products = [\n",
    "    (a, b, c),\n",
    "    (b, a, c),\n",
    "    (a, c, b),\n",
    "    (c, a, b),\n",
    "    (c, b, a),\n",
    "    (b, c, a)\n",
    "]"
   ]
  },
  {
   "cell_type": "markdown",
   "id": "86b3d120-3883-4796-9ca0-a0d79f569c2b",
   "metadata": {},
   "source": [
    "### Evaluate"
   ]
  },
  {
   "cell_type": "code",
   "execution_count": 105,
   "id": "28098611-5f3f-4c68-8d8d-5d9897d4163c",
   "metadata": {},
   "outputs": [],
   "source": [
    "def tensor_network_to_mpo(tn):\n",
    "    sites = [\n",
    "        int(s[1:]) for s in tn.tag_map\n",
    "        if s[0]=='I'\n",
    "    ]\n",
    "    \n",
    "    rho = qtn.MatrixProductOperator(\n",
    "        [t.data for t in tn.tensors],\n",
    "        sites=sites\n",
    "    )\n",
    "\n",
    "    return rho"
   ]
  },
  {
   "cell_type": "code",
   "execution_count": 106,
   "id": "fc3cad5c-1fc2-4d50-b450-1ff5a45c00c3",
   "metadata": {},
   "outputs": [],
   "source": [
    "def mpo_hermitian_conjugate(quimb_mpo):\n",
    "    t = quimb_mpo.copy().conj()\n",
    "    relabel_mpo(t, 'b', 'k')\n",
    "\n",
    "    return t"
   ]
  },
  {
   "cell_type": "code",
   "execution_count": 107,
   "id": "ea794053-4be3-47a8-b1be-d16336c929c5",
   "metadata": {},
   "outputs": [],
   "source": [
    "def get_proj_rep_phase(rho, u_g, u_h, u_gh):\n",
    "    t = (\n",
    "        rho\n",
    "        ._apply_mpo(u_h, compress=False, contract=False)\n",
    "        ._apply_mpo(u_g, compress=False, contract=False)\n",
    "        ._apply_mpo(mpo_hermitian_conjugate(u_gh), compress=False, contract=False)\n",
    "    )\n",
    "\n",
    "    out = t.trace()\n",
    "\n",
    "    return (out/(np.abs(out)), np.abs(out))"
   ]
  },
  {
   "cell_type": "code",
   "execution_count": 108,
   "id": "a95c9ed1-bd73-4ee5-b175-a97dbbdd2b77",
   "metadata": {},
   "outputs": [],
   "source": [
    "def get_quimb_mps_from_tenpy_mps(tenpy_mps):\n",
    "    psi_arrays = list()\n",
    "    psi_arrays.append(tenpy_mps.get_B(0, 'Th')[0, ...].to_ndarray())\n",
    "    for i in range(1, tenpy_mps.L-1):\n",
    "        psi_arrays.append(tenpy_mps.get_B(i).to_ndarray())\n",
    "    psi_arrays.append(tenpy_mps.get_B(tenpy_mps.L-1)[..., 0].to_ndarray())\n",
    "    \n",
    "    quimb_mps = (\n",
    "        qtn\n",
    "        .tensor_1d\n",
    "        .MatrixProductState(psi_arrays, shape='lpr')\n",
    "    )\n",
    "\n",
    "    return quimb_mps"
   ]
  },
  {
   "cell_type": "code",
   "execution_count": 109,
   "id": "a3ccc815-8ea8-4fb4-a8d4-90f08769edc7",
   "metadata": {},
   "outputs": [],
   "source": [
    "def get_proj_rep_phases(tenpy_mps, unitaries):\n",
    "    quimb_mps = get_quimb_mps_from_tenpy_mps(tenpy_mps)\n",
    "    sites = [\n",
    "        int(s[1:]) for s in unitaries[0].tag_map\n",
    "        if s[0]=='I'\n",
    "    ]\n",
    "    rho = quimb_mps.partial_trace_to_mpo(sites, rescale_sites=False)\n",
    "    out = list()\n",
    "\n",
    "    unitaries_dict = {\n",
    "        k: v for k, v in zip(symmetry_labels[1:], unitaries)\n",
    "    }\n",
    "\n",
    "    out_phases = list()\n",
    "    for a, b, c in group_products:\n",
    "        phase = get_proj_rep_phase(\n",
    "            rho,\n",
    "            unitaries_dict[a],\n",
    "            unitaries_dict[b],\n",
    "            unitaries_dict[c]\n",
    "        )\n",
    "\n",
    "        out_phases.append(phase)\n",
    "\n",
    "    return out_phases"
   ]
  },
  {
   "cell_type": "code",
   "execution_count": 110,
   "id": "33bad854-b537-4ba4-808b-21eb8a21f9e5",
   "metadata": {},
   "outputs": [],
   "source": [
    "interpolation_values = np.delete(np.round(np.linspace(0, 1, 21), 3), 10)"
   ]
  },
  {
   "cell_type": "code",
   "execution_count": 111,
   "id": "17caeb80-7d62-47c2-8f36-99e691c053f6",
   "metadata": {},
   "outputs": [
    {
     "data": {
      "text/plain": [
       "array([0.  , 0.05, 0.1 , 0.15, 0.2 , 0.25, 0.3 , 0.35, 0.4 , 0.45, 0.55,\n",
       "       0.6 , 0.65, 0.7 , 0.75, 0.8 , 0.85, 0.9 , 0.95, 1.  ])"
      ]
     },
     "execution_count": 111,
     "metadata": {},
     "output_type": "execute_result"
    }
   ],
   "source": [
    "interpolation_values"
   ]
  },
  {
   "cell_type": "code",
   "execution_count": 112,
   "id": "df8e2304-70ca-449d-9b88-11f4d39f4ce2",
   "metadata": {},
   "outputs": [],
   "source": [
    "triv_proj_rep_phases = list()\n",
    "\n",
    "for t in interpolation_values:\n",
    "    tenpy_mps = loaded_data_triv_proj_rep[t]\n",
    "\n",
    "    unitaries = [correct_boundary_operators[(0, t, i)] for i in [1,2,3]]\n",
    "\n",
    "    unitary_pairs = [split_mpo_pair(p) for p in unitaries]\n",
    "    mpo_pairs = [(tensor_network_to_mpo(x), tensor_network_to_mpo(y)) for x,y in unitary_pairs]\n",
    "    left_unitaries, right_unitaries = zip(*mpo_pairs)\n",
    "\n",
    "    left_phases = get_proj_rep_phases(tenpy_mps, left_unitaries)\n",
    "    right_phases = get_proj_rep_phases(tenpy_mps, right_unitaries)\n",
    "\n",
    "    triv_proj_rep_phases.append([left_phases, right_phases])"
   ]
  },
  {
   "cell_type": "code",
   "execution_count": 113,
   "id": "f0203bb7-10b8-4da2-8c47-d2ef421a50b2",
   "metadata": {},
   "outputs": [],
   "source": [
    "triv_proj_rep_phases = np.array(triv_proj_rep_phases)"
   ]
  },
  {
   "cell_type": "code",
   "execution_count": 114,
   "id": "edc348c1-ddf8-4e32-ac28-d572a17f8967",
   "metadata": {},
   "outputs": [
    {
     "data": {
      "text/plain": [
       "(20, 2, 6, 2)"
      ]
     },
     "execution_count": 114,
     "metadata": {},
     "output_type": "execute_result"
    }
   ],
   "source": [
    "triv_proj_rep_phases.shape"
   ]
  },
  {
   "cell_type": "code",
   "execution_count": 115,
   "id": "46097abd-4afa-4427-8f3f-3db4222890b5",
   "metadata": {},
   "outputs": [
    {
     "data": {
      "text/plain": [
       "array([[[1.-0.j  , 1.+0.j  , 1.+0.j  ],\n",
       "        [1.+0.j  , 1.+0.j  , 1.-0.j  ]],\n",
       "\n",
       "       [[1.+0.j  , 1.-0.j  , 1.+0.j  ],\n",
       "        [1.-0.j  , 1.-0.j  , 1.-0.j  ]],\n",
       "\n",
       "       [[1.+0.j  , 1.+0.j  , 1.-0.j  ],\n",
       "        [1.+0.j  , 1.-0.j  , 1.-0.j  ]],\n",
       "\n",
       "       [[1.-0.j  , 1.+0.j  , 1.+0.j  ],\n",
       "        [1.+0.01j, 1.+0.01j, 1.+0.j  ]],\n",
       "\n",
       "       [[1.-0.j  , 1.-0.j  , 1.-0.j  ],\n",
       "        [1.+0.j  , 1.-0.j  , 1.+0.j  ]],\n",
       "\n",
       "       [[1.+0.j  , 1.-0.j  , 1.+0.j  ],\n",
       "        [1.+0.j  , 1.-0.j  , 1.+0.j  ]],\n",
       "\n",
       "       [[1.-0.j  , 1.-0.j  , 1.+0.j  ],\n",
       "        [1.-0.j  , 1.+0.j  , 1.+0.j  ]],\n",
       "\n",
       "       [[1.+0.j  , 1.+0.j  , 1.-0.j  ],\n",
       "        [1.-0.j  , 1.+0.02j, 1.+0.j  ]],\n",
       "\n",
       "       [[1.+0.01j, 1.-0.j  , 1.+0.01j],\n",
       "        [1.-0.01j, 1.+0.j  , 1.+0.j  ]],\n",
       "\n",
       "       [[1.+0.j  , 1.+0.j  , 1.+0.j  ],\n",
       "        [1.-0.j  , 1.-0.j  , 1.-0.j  ]],\n",
       "\n",
       "       [[1.+0.01j, 1.-0.03j, 1.+0.04j],\n",
       "        [1.+0.j  , 1.+0.04j, 1.+0.01j]],\n",
       "\n",
       "       [[1.-0.j  , 1.+0.j  , 1.-0.01j],\n",
       "        [1.-0.02j, 1.-0.03j, 1.-0.01j]],\n",
       "\n",
       "       [[1.-0.j  , 1.+0.01j, 1.-0.01j],\n",
       "        [1.+0.j  , 1.+0.j  , 1.+0.j  ]],\n",
       "\n",
       "       [[1.-0.j  , 1.-0.01j, 1.+0.01j],\n",
       "        [1.+0.j  , 1.-0.j  , 1.-0.j  ]],\n",
       "\n",
       "       [[1.+0.j  , 1.-0.j  , 1.+0.01j],\n",
       "        [1.+0.j  , 1.+0.j  , 1.+0.01j]],\n",
       "\n",
       "       [[1.-0.j  , 1.-0.j  , 1.+0.01j],\n",
       "        [1.+0.02j, 1.-0.01j, 1.-0.j  ]],\n",
       "\n",
       "       [[1.+0.j  , 1.-0.j  , 1.+0.02j],\n",
       "        [1.-0.j  , 1.+0.j  , 1.+0.j  ]],\n",
       "\n",
       "       [[1.-0.01j, 1.+0.j  , 1.-0.01j],\n",
       "        [1.-0.j  , 1.+0.01j, 1.-0.01j]],\n",
       "\n",
       "       [[1.+0.j  , 1.+0.01j, 1.-0.01j],\n",
       "        [1.-0.01j, 1.-0.01j, 1.+0.02j]],\n",
       "\n",
       "       [[1.-0.02j, 1.-0.01j, 1.-0.j  ],\n",
       "        [1.-0.j  , 1.+0.03j, 1.+0.j  ]]])"
      ]
     },
     "execution_count": 115,
     "metadata": {},
     "output_type": "execute_result"
    }
   ],
   "source": [
    "np.round(\n",
    "    triv_proj_rep_phases[..., ::2, 0]/triv_proj_rep_phases[..., 1::2, 0],\n",
    "    2\n",
    ")"
   ]
  },
  {
   "cell_type": "code",
   "execution_count": 116,
   "id": "eab6d72f-b056-414f-b3ab-3a39d21281bb",
   "metadata": {},
   "outputs": [],
   "source": [
    "triv_gauge_invariant_proj_rep_phase = triv_proj_rep_phases[..., ::2, 0]/triv_proj_rep_phases[..., 1::2, 0]"
   ]
  },
  {
   "cell_type": "code",
   "execution_count": 117,
   "id": "e3220a0d-cd8f-406d-abd5-34325f153f1b",
   "metadata": {},
   "outputs": [],
   "source": [
    "triv_delta_gauge_invariant_proj_rep_phase = triv_gauge_invariant_proj_rep_phase.copy()\n",
    "#triv_delta_gauge_invariant_proj_rep_phase[:10]*=-1"
   ]
  },
  {
   "cell_type": "code",
   "execution_count": 118,
   "id": "524288bd-7646-4858-8188-1e8189fc7091",
   "metadata": {},
   "outputs": [],
   "source": [
    "triv_delta_gauge_invariant_proj_rep_angle = np.imag(np.log(triv_delta_gauge_invariant_proj_rep_phase))"
   ]
  },
  {
   "cell_type": "code",
   "execution_count": 119,
   "id": "9538d135-3d74-484f-8bc2-99eee0bc5ca3",
   "metadata": {},
   "outputs": [
    {
     "data": {
      "text/plain": [
       "(20, 2, 3)"
      ]
     },
     "execution_count": 119,
     "metadata": {},
     "output_type": "execute_result"
    }
   ],
   "source": [
    "triv_delta_gauge_invariant_proj_rep_angle.shape"
   ]
  },
  {
   "cell_type": "code",
   "execution_count": 120,
   "id": "713378db-71f8-44ea-8078-3f97937aad46",
   "metadata": {},
   "outputs": [],
   "source": [
    "non_triv_proj_rep_phases = list()\n",
    "\n",
    "for t in interpolation_values:\n",
    "    tenpy_mps = loaded_data_non_triv_proj_rep[t]\n",
    "\n",
    "    unitaries = [correct_boundary_operators[(1, t, i)] for i in [1,2,3]]\n",
    "\n",
    "    unitary_pairs = [split_mpo_pair(p) for p in unitaries]\n",
    "    mpo_pairs = [(tensor_network_to_mpo(x), tensor_network_to_mpo(y)) for x,y in unitary_pairs]\n",
    "    left_unitaries, right_unitaries = zip(*mpo_pairs)\n",
    "\n",
    "    left_phases = get_proj_rep_phases(tenpy_mps, left_unitaries)\n",
    "    right_phases = get_proj_rep_phases(tenpy_mps, right_unitaries)\n",
    "\n",
    "    non_triv_proj_rep_phases.append([left_phases, right_phases])"
   ]
  },
  {
   "cell_type": "code",
   "execution_count": 121,
   "id": "236f07e9-b8cb-4354-af5a-626b799e5575",
   "metadata": {},
   "outputs": [],
   "source": [
    "non_triv_proj_rep_phases = np.array(non_triv_proj_rep_phases)"
   ]
  },
  {
   "cell_type": "code",
   "execution_count": 122,
   "id": "dc0d866b-262a-473a-91ad-0f515de11370",
   "metadata": {},
   "outputs": [
    {
     "data": {
      "text/plain": [
       "(20, 2, 6, 2)"
      ]
     },
     "execution_count": 122,
     "metadata": {},
     "output_type": "execute_result"
    }
   ],
   "source": [
    "non_triv_proj_rep_phases.shape"
   ]
  },
  {
   "cell_type": "code",
   "execution_count": 123,
   "id": "e7128213-bbd3-401c-a580-550285cf236a",
   "metadata": {},
   "outputs": [
    {
     "data": {
      "text/plain": [
       "array([[[-1.+0.j  , -1.-0.j  , -1.-0.j  ],\n",
       "        [-1.-0.j  , -1.+0.j  , -1.-0.j  ]],\n",
       "\n",
       "       [[-1.+0.j  , -1.+0.j  , -1.+0.j  ],\n",
       "        [-1.+0.j  , -1.-0.j  , -1.-0.j  ]],\n",
       "\n",
       "       [[-1.-0.j  , -1.-0.j  , -1.+0.j  ],\n",
       "        [-1.-0.j  , -1.+0.j  , -1.+0.j  ]],\n",
       "\n",
       "       [[-1.+0.01j, -1.-0.j  , -1.-0.01j],\n",
       "        [-1.+0.j  , -1.-0.j  , -1.+0.j  ]],\n",
       "\n",
       "       [[-1.-0.j  , -1.+0.j  , -1.+0.j  ],\n",
       "        [-1.-0.03j, -1.+0.01j, -1.-0.j  ]],\n",
       "\n",
       "       [[-1.-0.01j, -1.+0.01j, -1.-0.01j],\n",
       "        [-1.-0.j  , -1.-0.j  , -1.-0.j  ]],\n",
       "\n",
       "       [[-1.+0.j  , -1.-0.j  , -1.-0.j  ],\n",
       "        [-1.-0.j  , -1.+0.j  , -1.-0.j  ]],\n",
       "\n",
       "       [[-1.+0.02j, -1.-0.01j, -1.-0.j  ],\n",
       "        [-1.+0.j  , -1.-0.j  , -1.-0.j  ]],\n",
       "\n",
       "       [[-1.-0.01j, -1.-0.02j, -1.+0.02j],\n",
       "        [-1.+0.01j, -1.-0.01j, -1.+0.j  ]],\n",
       "\n",
       "       [[-1.-0.03j, -1.-0.01j, -1.-0.j  ],\n",
       "        [-1.+0.02j, -1.-0.j  , -1.-0.j  ]],\n",
       "\n",
       "       [[ 1.+0.01j,  1.-0.j  ,  1.+0.01j],\n",
       "        [ 1.+0.j  ,  1.+0.01j,  1.+0.j  ]],\n",
       "\n",
       "       [[ 1.-0.01j,  1.-0.01j,  1.-0.01j],\n",
       "        [ 1.-0.01j,  1.+0.j  ,  1.+0.j  ]],\n",
       "\n",
       "       [[ 1.-0.j  ,  1.-0.j  ,  1.-0.j  ],\n",
       "        [ 1.-0.01j,  1.+0.j  ,  1.-0.j  ]],\n",
       "\n",
       "       [[ 1.+0.j  ,  1.-0.j  ,  1.+0.j  ],\n",
       "        [ 1.+0.j  ,  1.+0.j  ,  1.+0.j  ]],\n",
       "\n",
       "       [[ 1.+0.j  ,  1.+0.j  ,  1.-0.j  ],\n",
       "        [ 1.-0.j  ,  1.+0.j  ,  1.+0.j  ]],\n",
       "\n",
       "       [[ 1.+0.j  ,  1.+0.j  ,  1.-0.j  ],\n",
       "        [ 1.+0.j  ,  1.+0.j  ,  1.-0.j  ]],\n",
       "\n",
       "       [[ 1.-0.j  ,  1.+0.j  ,  1.-0.j  ],\n",
       "        [ 1.+0.j  ,  1.-0.j  ,  1.-0.j  ]],\n",
       "\n",
       "       [[ 1.-0.j  ,  1.-0.j  ,  1.-0.j  ],\n",
       "        [ 1.+0.j  ,  1.-0.j  ,  1.-0.j  ]],\n",
       "\n",
       "       [[ 1.+0.j  ,  1.-0.j  ,  1.-0.j  ],\n",
       "        [ 1.-0.j  ,  1.+0.j  ,  1.+0.j  ]],\n",
       "\n",
       "       [[ 1.+0.j  ,  1.-0.j  ,  1.-0.j  ],\n",
       "        [ 1.-0.j  ,  1.-0.j  ,  1.+0.j  ]]])"
      ]
     },
     "execution_count": 123,
     "metadata": {},
     "output_type": "execute_result"
    }
   ],
   "source": [
    "np.round(\n",
    "    non_triv_proj_rep_phases[..., ::2, 0]/non_triv_proj_rep_phases[..., 1::2, 0],\n",
    "    2\n",
    ")"
   ]
  },
  {
   "cell_type": "code",
   "execution_count": 124,
   "id": "7759950e-c4fb-4efc-a09e-b8be69a1f30c",
   "metadata": {},
   "outputs": [],
   "source": [
    "non_triv_gauge_invariant_proj_rep_phase = non_triv_proj_rep_phases[..., ::2, 0]/non_triv_proj_rep_phases[..., 1::2, 0]"
   ]
  },
  {
   "cell_type": "code",
   "execution_count": 125,
   "id": "0d82ae24-bb76-4705-b42f-4cffa7cc7ba9",
   "metadata": {},
   "outputs": [],
   "source": [
    "non_triv_delta_gauge_invariant_proj_rep_phase = non_triv_gauge_invariant_proj_rep_phase.copy()\n",
    "non_triv_delta_gauge_invariant_proj_rep_phase[:10]*=-1"
   ]
  },
  {
   "cell_type": "code",
   "execution_count": 126,
   "id": "c5d1bb98-9b63-4e48-8d0c-f7a00a05f505",
   "metadata": {},
   "outputs": [],
   "source": [
    "non_triv_delta_gauge_invariant_proj_rep_angle = np.imag(np.log(non_triv_delta_gauge_invariant_proj_rep_phase))"
   ]
  },
  {
   "cell_type": "code",
   "execution_count": 127,
   "id": "2ebea569-3b1e-47a0-8c5c-a05ff55ccd16",
   "metadata": {},
   "outputs": [
    {
     "data": {
      "text/plain": [
       "(20, 2, 3)"
      ]
     },
     "execution_count": 127,
     "metadata": {},
     "output_type": "execute_result"
    }
   ],
   "source": [
    "non_triv_delta_gauge_invariant_proj_rep_angle.shape"
   ]
  },
  {
   "cell_type": "code",
   "execution_count": 128,
   "id": "e15bb665-0a5d-4a31-839a-12eca65e7f53",
   "metadata": {},
   "outputs": [],
   "source": [
    "delta_gauge_invariant_proj_rep_angle = np.stack(\n",
    "    [triv_delta_gauge_invariant_proj_rep_angle, non_triv_delta_gauge_invariant_proj_rep_angle],\n",
    "    axis=0\n",
    ")"
   ]
  },
  {
   "cell_type": "code",
   "execution_count": 129,
   "id": "ac37af32-5e58-4bb4-a25d-d31fbf69db38",
   "metadata": {},
   "outputs": [],
   "source": [
    "markers = ['<', '>']"
   ]
  },
  {
   "cell_type": "code",
   "execution_count": 130,
   "id": "0ea2d388",
   "metadata": {},
   "outputs": [],
   "source": [
    "colors = [\n",
    "    'tab:blue',\n",
    "    'tab:orange',\n",
    "    'tab:green'\n",
    "]   "
   ]
  },
  {
   "cell_type": "code",
   "execution_count": 131,
   "id": "ea45ea6a",
   "metadata": {},
   "outputs": [],
   "source": [
    "e, a, b, c = symmetry_labels"
   ]
  },
  {
   "cell_type": "code",
   "execution_count": 132,
   "id": "d1e764db-d3cd-4216-9d5e-c5ddad7893f3",
   "metadata": {},
   "outputs": [],
   "source": [
    "symmetry_pair_labels = [\n",
    "    a + ',' + b,\n",
    "    a + ',' + c,\n",
    "    c + ',' + b\n",
    "]"
   ]
  },
  {
   "cell_type": "code",
   "execution_count": 133,
   "id": "715be721-dd85-4327-8b7f-7420cababb49",
   "metadata": {},
   "outputs": [],
   "source": [
    "side_labels = ['Left', 'Right']"
   ]
  },
  {
   "cell_type": "code",
   "execution_count": 134,
   "id": "e11cbe4a-00b8-4732-8c5b-6d567dbaa591",
   "metadata": {},
   "outputs": [
    {
     "data": {
      "image/png": "[encoded data removed]",
      "text/plain": [
       "<Figure size 1200x400 with 2 Axes>"
      ]
     },
     "metadata": {},
     "output_type": "display_data"
    }
   ],
   "source": [
    "fig, [ax1, ax2] = plt.subplots(figsize=(12,4), ncols=2)\n",
    "\n",
    "for k, ax in enumerate([ax1, ax2]):\n",
    "    for i, (marker, side_label) in enumerate(zip(markers, side_labels)):\n",
    "        for j, (col, label) in enumerate(zip(colors, symmetry_pair_labels)):\n",
    "            ax.scatter(\n",
    "                interpolation_values,\n",
    "                delta_gauge_invariant_proj_rep_angle[k, :, i, j],\n",
    "                marker=marker,\n",
    "                color=col,\n",
    "                label = f'({label}), {side_label}'\n",
    "            )\n",
    "    \n",
    "    ax.xaxis.set_major_locator(\n",
    "        matplotlib.ticker.MultipleLocator(0.1)\n",
    "    )\n",
    "    \n",
    "    ax.grid()\n",
    "    if k == 0:\n",
    "        ax.set_ylabel(r'$\\Delta \\Theta$', fontsize=13)\n",
    "    ax.set_xlabel('$t$', fontsize=13)\n",
    "\n",
    "    if k == 1:\n",
    "        ax.legend(loc='upper right', title='$(g,h)$, Side')\n",
    "\n",
    "    ax.title.set_text(rf'$H_{{f,{k+1}}}(t)$')\n",
    "\n",
    "fig.suptitle(r'$\\Delta \\Theta(g,h)$ as a function of $B$')\n",
    "\n",
    "fig.savefig(r'plots/delta_proj_rep_angle_from_mpo_fermionc.png', dpi=200)"
   ]
  },
  {
   "cell_type": "code",
   "execution_count": 241,
   "id": "2778902d-94cc-41e4-94a4-8061237d0eb9",
   "metadata": {},
   "outputs": [],
   "source": [
    "gauge_invariant_proj_rep_phase = np.stack(\n",
    "    [triv_gauge_invariant_proj_rep_phase, non_triv_gauge_invariant_proj_rep_phase],\n",
    "    axis=0\n",
    ")"
   ]
  },
  {
   "cell_type": "code",
   "execution_count": 243,
   "id": "2c9b88a4-6559-4fff-8a58-ab78f8cad0f9",
   "metadata": {},
   "outputs": [
    {
     "data": {
      "text/plain": [
       "(2, 20, 2, 3)"
      ]
     },
     "execution_count": 243,
     "metadata": {},
     "output_type": "execute_result"
    }
   ],
   "source": [
    "gauge_invariant_proj_rep_phase.shape"
   ]
  },
  {
   "cell_type": "code",
   "execution_count": 245,
   "id": "58fd268a-a210-46e9-b346-f38e70d6d073",
   "metadata": {},
   "outputs": [],
   "source": [
    "gauge_invariant_proj_rep_angle = np.imag(np.log(gauge_invariant_proj_rep_phase))\n",
    "gauge_invariant_proj_rep_angle[gauge_invariant_proj_rep_angle<=-np.pi/2] += 2*np.pi"
   ]
  },
  {
   "cell_type": "code",
   "execution_count": 249,
   "id": "bd168fd0-e020-4626-8545-40e7ac65bb65",
   "metadata": {},
   "outputs": [
    {
     "data": {
      "text/plain": [
       "(2, 20, 2, 3)"
      ]
     },
     "execution_count": 249,
     "metadata": {},
     "output_type": "execute_result"
    }
   ],
   "source": [
    "gauge_invariant_proj_rep_angle.shape"
   ]
  },
  {
   "cell_type": "code",
   "execution_count": 250,
   "id": "86b9db5a-f84d-4a21-9034-2ee0a01f6ddd",
   "metadata": {},
   "outputs": [],
   "source": [
    "mean_gauge_invariant_proj_rep_angle = np.mean(gauge_invariant_proj_rep_angle, axis=(2,3))\n",
    "max_gauge_invariant_proj_rep_angle = np.max(gauge_invariant_proj_rep_angle, axis=(2,3))\n",
    "min_gauge_invariant_proj_rep_angle = np.min(gauge_invariant_proj_rep_angle, axis=(2,3))\n",
    "\n",
    "min_max_gauge_invariant_proj_rep_angle = np.stack(\n",
    "    [\n",
    "        min_gauge_invariant_proj_rep_angle,\n",
    "        max_gauge_invariant_proj_rep_angle\n",
    "    ],\n",
    "    axis=0\n",
    ")\n",
    "\n",
    "error_gauge_invariant_proj_rep_angle = (\n",
    "    min_max_gauge_invariant_proj_rep_angle\n",
    "    - mean_gauge_invariant_proj_rep_angle[np.newaxis, :]\n",
    ")\n",
    "error_gauge_invariant_proj_rep_angle = np.abs(error_gauge_invariant_proj_rep_angle)"
   ]
  },
  {
   "cell_type": "code",
   "execution_count": 252,
   "id": "0316350e-67a6-4f69-91d0-4b3ab8270cf4",
   "metadata": {},
   "outputs": [
    {
     "data": {
      "image/png": "[encoded data removed]",
      "text/plain": [
       "<Figure size 1200x400 with 2 Axes>"
      ]
     },
     "metadata": {},
     "output_type": "display_data"
    }
   ],
   "source": [
    "fig, [ax1, ax2] = plt.subplots(figsize=(12,4), ncols=2)\n",
    "\n",
    "for k, ax in enumerate([ax1, ax2]):\n",
    "    ax.errorbar(\n",
    "        interpolation_values[::-1],\n",
    "        mean_gauge_invariant_proj_rep_angle[k],\n",
    "        yerr=error_gauge_invariant_proj_rep_angle[k],\n",
    "        color='tab:blue',\n",
    "        fmt='-',\n",
    "        capsize=2\n",
    "    )\n",
    "\n",
    "    ax.xaxis.set_major_locator(\n",
    "        matplotlib.ticker.MultipleLocator(0.1)\n",
    "    )\n",
    "    ax.xaxis.set_minor_locator(\n",
    "        matplotlib.ticker.MultipleLocator(0.05)\n",
    "    )\n",
    "\n",
    "    ax.tick_params(\n",
    "        axis='both',\n",
    "        which='major',\n",
    "        labelsize=11\n",
    "    )\n",
    "\n",
    "    ax.grid(\n",
    "        axis='y',\n",
    "        which='both'\n",
    "    )\n",
    "    ax.grid(\n",
    "        axis='x',\n",
    "        which='major'\n",
    "    )\n",
    "\n",
    "    ax.set_xlabel('$t$', fontsize=11)\n",
    "\n",
    "    ax.title.set_text(rf'$H_{{f,{k+1}}}(t)$')\n",
    "    ax.title.set_fontsize(12)\n",
    "\n",
    "ax1.set_yticks(\n",
    "    np.linspace(0, np.pi, 3),\n",
    "    labels=['$0$', '$\\pi/2$', '$\\pi$']\n",
    ")\n",
    "\n",
    "ax1.set_yticks(\n",
    "    [np.pi/6, np.pi/3, 2*np.pi/3, 5*np.pi/6],\n",
    "    minor=True\n",
    ")\n",
    "\n",
    "ax1.set_ylabel(r'$\\theta$', fontsize=11)\n",
    "\n",
    "ax2.set_ylabel('')\n",
    "ax2.set_yticklabels([])\n",
    "\n",
    "fig.subplots_adjust(wspace=0.1)\n",
    "\n",
    "fig.savefig(r'plots/proj_rep_angle_from_mpo_fermionic.png', dpi=200)"
   ]
  },
  {
   "cell_type": "markdown",
   "id": "f3621de9-7c3d-49e0-9439-8df3a8c5d463",
   "metadata": {},
   "source": [
    "# Plot overlaps"
   ]
  },
  {
   "cell_type": "code",
   "execution_count": 275,
   "id": "46260065-131e-40ea-839b-a2a4014a8d3e",
   "metadata": {},
   "outputs": [
    {
     "data": {
      "text/plain": [
       "0.041232172"
      ]
     },
     "execution_count": 275,
     "metadata": {},
     "output_type": "execute_result"
    }
   ],
   "source": [
    "np.mean(np.array([\n",
    "    l\n",
    "    for t in correct_boundary_operators_scores.values()\n",
    "    for l in t[:2]\n",
    "]))"
   ]
  },
  {
   "cell_type": "code",
   "execution_count": 276,
   "id": "6593fa71-226c-4edf-ab6a-1d04a2e2667b",
   "metadata": {},
   "outputs": [
    {
     "data": {
      "text/plain": [
       "0.37902832"
      ]
     },
     "execution_count": 276,
     "metadata": {},
     "output_type": "execute_result"
    }
   ],
   "source": [
    "np.max(np.array([\n",
    "    l\n",
    "    for t in correct_boundary_operators_scores.values()\n",
    "    for l in t[:2]\n",
    "]))"
   ]
  },
  {
   "cell_type": "code",
   "execution_count": 282,
   "id": "4b735a97",
   "metadata": {},
   "outputs": [],
   "source": [
    "correct_overlaps_array = np.zeros((2, len(interpolation_values), 3))\n",
    "\n",
    "for i in range(2):\n",
    "    for j, t in enumerate(interpolation_values):\n",
    "        for b in range(1, 4):\n",
    "            correct_overlaps_array[i, j, b-1] = correct_boundary_operators_scores[(i, t, b)][2]"
   ]
  },
  {
   "cell_type": "code",
   "execution_count": 292,
   "id": "753a8d12",
   "metadata": {},
   "outputs": [
    {
     "data": {
      "image/png": "[encoded data removed]",
      "text/plain": [
       "<Figure size 1200x400 with 2 Axes>"
      ]
     },
     "metadata": {},
     "output_type": "display_data"
    }
   ],
   "source": [
    "fig, [ax1, ax2] = plt.subplots(figsize=(12,4), ncols=2)\n",
    "\n",
    "for k, ax in enumerate([ax1, ax2]):\n",
    "    for j, (col, label) in enumerate(zip(colors, symmetry_labels[1:])):\n",
    "        ax.plot(\n",
    "            1-interpolation_values, # I ordered this wrong at definition\n",
    "            correct_overlaps_array[k, :, j],\n",
    "            color=col,\n",
    "            label=label,\n",
    "            marker='D'\n",
    "        )\n",
    "\n",
    "    ax.set_ylim(0, 1.1)\n",
    "    ax.xaxis.set_major_locator(\n",
    "        matplotlib.ticker.MultipleLocator(0.1)\n",
    "    )\n",
    "    ax.xaxis.set_minor_locator(\n",
    "        matplotlib.ticker.MultipleLocator(0.05)\n",
    "    )\n",
    "    ax.yaxis.set_minor_locator(\n",
    "        matplotlib.ticker.MultipleLocator(0.1)\n",
    "    )\n",
    "\n",
    "    ax.tick_params(\n",
    "        axis='both',\n",
    "        which='major',\n",
    "        labelsize=11\n",
    "    )\n",
    "    \n",
    "    ax.grid()\n",
    "    ax.grid(\n",
    "        which='minor',\n",
    "        axis='y',\n",
    "        linestyle='--',\n",
    "        zorder=-1e10\n",
    "    )\n",
    "    ax.set_axisbelow(True)\n",
    "\n",
    "    if k == 0:\n",
    "        ax.set_ylabel(r'$\\vert c \\vert$', fontsize=11)\n",
    "    ax.set_xlabel('$t$', fontsize=11)\n",
    "\n",
    "    if k == 1:\n",
    "        ax.legend(loc='lower right', title='$g$')\n",
    "\n",
    "    ax.title.set_text(rf'$H_{{f,{k+1}}}(t)$')\n",
    "    ax.title.set_fontsize(12)\n",
    "\n",
    "ax2.set_ylabel('')\n",
    "ax2.set_yticklabels([])\n",
    "\n",
    "fig.subplots_adjust(wspace=0.1)\n",
    "    \n",
    "fig.savefig(r'plots/overlap_from_mpo_fermionic.png', dpi=200)"
   ]
  },
  {
   "cell_type": "markdown",
   "id": "416ef66b-cfb9-4f2c-b22b-ba3e5b5c5c55",
   "metadata": {},
   "source": [
    "# Combine plots"
   ]
  },
  {
   "cell_type": "code",
   "execution_count": 350,
   "id": "9336847d-7a42-4d76-91ac-ee0f32b7f353",
   "metadata": {},
   "outputs": [
    {
     "data": {
      "image/png": "[encoded data removed]",
      "text/plain": [
       "<Figure size 1400x2000 with 8 Axes>"
      ]
     },
     "metadata": {},
     "output_type": "display_data"
    }
   ],
   "source": [
    "fig, ax_grid = plt.subplots(figsize=(14, 20), ncols=2, nrows=4)\n",
    "\n",
    "top_three_data = [\n",
    "    fp_charges_array,\n",
    "    correct_scores_array,\n",
    "    correct_overlaps_array\n",
    "]\n",
    "\n",
    "for ax_row, data in zip(ax_grid[:3], top_three_data):\n",
    "    for k, ax in enumerate(ax_row):\n",
    "        for j, (col, label) in enumerate(zip(colors, symmetry_labels[1:])):\n",
    "            ax.plot(\n",
    "                1-interpolation_values, # I ordered this wrong at definition\n",
    "                data[k, :, j],\n",
    "                color=col,\n",
    "                label=label,\n",
    "                marker='D'\n",
    "            )\n",
    "\n",
    "for k, ax in enumerate(ax_grid[-1]):\n",
    "    ax.errorbar(\n",
    "        interpolation_values[::-1],\n",
    "        mean_gauge_invariant_proj_rep_angle[k],\n",
    "        yerr=error_gauge_invariant_proj_rep_angle[k],\n",
    "        color='tab:blue',\n",
    "        fmt='-',\n",
    "        capsize=2\n",
    "    )\n",
    "\n",
    "ax_grid[0][0].set_ylim(-1.1, 1.1)\n",
    "ax_grid[0][1].set_ylim(-1.1, 1.1)\n",
    "ax_grid[1][0].set_ylim(5e-3, 1.2)\n",
    "ax_grid[1][1].set_ylim(5e-3, 1.2)\n",
    "\n",
    "ax_grid[1][0].set_yscale('log')\n",
    "ax_grid[1][1].set_yscale('log')\n",
    "\n",
    "ax_grid[2][0].set_ylim(-0.1, 1.1)\n",
    "ax_grid[2][1].set_ylim(-0.1, 1.1)\n",
    "ax_grid[3][0].set_ylim((-0.1)*np.pi, np.pi*(1.1))\n",
    "ax_grid[3][1].set_ylim((-0.1)*np.pi, np.pi*(1.1))\n",
    "\n",
    "for i, row in enumerate(ax_grid):\n",
    "    for j, ax in enumerate(row):\n",
    "        ax.xaxis.set_major_locator(\n",
    "            matplotlib.ticker.MultipleLocator(0.1)\n",
    "        )\n",
    "        ax.xaxis.set_minor_locator(\n",
    "            matplotlib.ticker.MultipleLocator(0.05)\n",
    "        )\n",
    "        ax.grid()\n",
    "\n",
    "        ax.grid(\n",
    "            which='minor',\n",
    "            axis='y',\n",
    "            linestyle='--',\n",
    "            zorder=-1e10\n",
    "        )\n",
    "\n",
    "        if i == 3:\n",
    "            ax.set_yticks(\n",
    "                np.linspace(0, np.pi, 3),\n",
    "                labels=['$0$', '$\\pi/2$', '$\\pi$']\n",
    "            )\n",
    "            \n",
    "            ax.set_yticks(\n",
    "                [np.pi/6, np.pi/3, 2*np.pi/3, 5*np.pi/6],\n",
    "                minor=True\n",
    "            )\n",
    "\n",
    "            ax.set_xlabel('$t$', fontsize=15)\n",
    "\n",
    "            ax.tick_params(\n",
    "                axis='x',\n",
    "                which='major',\n",
    "                labelsize=11\n",
    "            )\n",
    "\n",
    "        if i == 0:\n",
    "            ax.title.set_text(rf'$H_{{f,{j+1}}}(t)$')\n",
    "            ax.title.set_fontsize(15)\n",
    "\n",
    "        if j == 0:\n",
    "            ax.tick_params(\n",
    "                axis='y',\n",
    "                which='major',\n",
    "                labelsize=11\n",
    "            )\n",
    "        if j == 1:\n",
    "            ax.set_yticklabels([])\n",
    "            ax.yaxis.set_label_position(\"right\")\n",
    "        if i!= 3:\n",
    "            ax.set_xticklabels([])                \n",
    "\n",
    "ylabel_fontsize=15\n",
    "\n",
    "ax_grid[0][0].set_ylabel(r'$(-1)^{n_1(g)}$', fontsize=ylabel_fontsize)\n",
    "ax_grid[1][0].set_ylabel(r'Cost functon $L$', fontsize=ylabel_fontsize)\n",
    "ax_grid[2][0].set_ylabel(r'Overlap $\\vert c \\vert$', fontsize=ylabel_fontsize)\n",
    "ax_grid[3][0].set_ylabel(r'$\\theta=-i\\ \\log(\\Omega)$', fontsize=ylabel_fontsize)\n",
    "\n",
    "for i, l in enumerate('abcd'):\n",
    "    ax_grid[i][1].set_ylabel(\n",
    "        f'({l})',\n",
    "        fontsize=ylabel_fontsize,\n",
    "        rotation='horizontal',\n",
    "        ha='left',\n",
    "        labelpad=15\n",
    "    )\n",
    "\n",
    "ax_grid[0][0].legend(\n",
    "    loc='lower left',\n",
    "    title='Applied symmetry $g$',\n",
    "    fontsize='x-large',\n",
    "    title_fontsize='x-large'\n",
    ")\n",
    "\n",
    "fig.subplots_adjust(wspace=0.1, hspace=0.1)\n",
    "\n",
    "fig.savefig(\n",
    "    r'plots/mpo_fermionic_results.png',\n",
    "    dpi=200,\n",
    "    bbox_inches='tight'\n",
    ")"
   ]
  },
  {
   "cell_type": "markdown",
   "id": "8cc21715-2e0d-46b2-ac7d-8dc3f99f1f48",
   "metadata": {},
   "source": [
    "# Conclusion\n",
    "It's working!"
   ]
  },
  {
   "cell_type": "code",
   "execution_count": null,
   "id": "b5da07ef-07ed-4f33-9ec4-4abdfce4fc40",
   "metadata": {},
   "outputs": [],
   "source": []
  }
 ],
 "metadata": {
  "kernelspec": {
   "display_name": "num_spt_venv_p11",
   "language": "python",
   "name": "num_spt_venv_p11"
  },
  "language_info": {
   "codemirror_mode": {
    "name": "ipython",
    "version": 3
   },
   "file_extension": ".py",
   "mimetype": "text/x-python",
   "name": "python",
   "nbconvert_exporter": "python",
   "pygments_lexer": "ipython3",
   "version": "3.11.9"
  }
 },
 "nbformat": 4,
 "nbformat_minor": 5
}
