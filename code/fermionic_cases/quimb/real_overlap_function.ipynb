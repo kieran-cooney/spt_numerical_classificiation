{
 "cells": [
  {
   "cell_type": "markdown",
   "id": "78094a57-64b8-45bc-ba70-495ea6f81d71",
   "metadata": {},
   "source": [
    "# Real overlap function\n",
    "Created 26/05/2024\n",
    "\n",
    "Objectives:\n",
    "* Try different overlap functions to circumvent complex -> real issue."
   ]
  },
  {
   "cell_type": "markdown",
   "id": "5e618d3a-fdaf-441f-bc73-3649e01a7b3c",
   "metadata": {},
   "source": [
    "# Package imports"
   ]
  },
  {
   "cell_type": "code",
   "execution_count": 1,
   "id": "ecb41ea3-927f-4efa-aebe-ce15784aa037",
   "metadata": {},
   "outputs": [],
   "source": [
    "import sys"
   ]
  },
  {
   "cell_type": "code",
   "execution_count": 2,
   "id": "0375bd38-12e1-417a-908a-13fb540081f5",
   "metadata": {},
   "outputs": [],
   "source": [
    "sys.path.append(\"../../\")"
   ]
  },
  {
   "cell_type": "code",
   "execution_count": 3,
   "id": "0cf49837-01b6-431a-b570-d7ed25903239",
   "metadata": {},
   "outputs": [],
   "source": [
    "from itertools import chain\n",
    "import re"
   ]
  },
  {
   "cell_type": "code",
   "execution_count": 4,
   "id": "f59344b7-d34e-47e4-99be-f5a2687f8176",
   "metadata": {},
   "outputs": [],
   "source": [
    "import h5py\n",
    "from tenpy.tools import hdf5_io\n",
    "import tenpy\n",
    "import tenpy.linalg.np_conserved as npc\n",
    "\n",
    "import os"
   ]
  },
  {
   "cell_type": "code",
   "execution_count": 5,
   "id": "19404619-d778-4cc3-8ee1-1db6f14b2043",
   "metadata": {},
   "outputs": [],
   "source": [
    "import numpy as np\n",
    "\n",
    "import matplotlib.pyplot as plt"
   ]
  },
  {
   "cell_type": "code",
   "execution_count": 6,
   "id": "92eeb066-5463-4237-ad07-3c5a0d934f4f",
   "metadata": {},
   "outputs": [
    {
     "name": "stderr",
     "output_type": "stream",
     "text": [
      "/Users/kierancooney/.pyenv/versions/num_spt_venv_p11/lib/python3.11/site-packages/cotengra/hyperoptimizers/hyper.py:54: UserWarning: Couldn't find `optuna`, `cmaes`, or `nevergrad` so will use completely random sampling in place of hyper-optimization.\n",
      "  warnings.warn(\n",
      "/Users/kierancooney/.pyenv/versions/num_spt_venv_p11/lib/python3.11/site-packages/cotengra/hyperoptimizers/hyper.py:36: UserWarning: Couldn't import `kahypar` - skipping from default hyper optimizer and using basic `labels` method instead.\n",
      "  warnings.warn(\n",
      "/Users/kierancooney/.pyenv/versions/num_spt_venv_p11/lib/python3.11/site-packages/cotengra/hyperoptimizers/hyper.py:73: UserWarning: Couldn't find `optuna`, `cmaes`, or `nevergrad` so will use completely random sampling in place of hyper-optimization.\n",
      "  warnings.warn(\n"
     ]
    }
   ],
   "source": [
    "import quimb as qu\n",
    "import quimb.tensor as qtn\n",
    "from quimb.tensor.optimize import TNOptimizer"
   ]
  },
  {
   "cell_type": "markdown",
   "id": "1e7fa07a-a850-4148-bb15-43b2582429cb",
   "metadata": {},
   "source": [
    "# Load data"
   ]
  },
  {
   "cell_type": "code",
   "execution_count": 7,
   "id": "a073ec4a-1d8d-4786-af9f-11e750b1e3a9",
   "metadata": {},
   "outputs": [],
   "source": [
    "DATA_DIR_1 = r\"../../data/interpolated_trivial_to_nontrivial_fermionic_trivial_proj_rep_200_site_dmrg/\"\n",
    "DATA_DIR_2 = r\"../../data/interpolated_nontrivial_fermionic_proj_rep_to_nontrivial_proj_rep_200_site_dmrg/\""
   ]
  },
  {
   "cell_type": "code",
   "execution_count": 8,
   "id": "9fd5bc67-e5e4-4b8f-a5e4-f5120506f1ed",
   "metadata": {},
   "outputs": [],
   "source": [
    "def parse_file_name(file_name):\n",
    "    interpolation = int(file_name.split('_')[0])/100\n",
    "\n",
    "    return interpolation"
   ]
  },
  {
   "cell_type": "code",
   "execution_count": 9,
   "id": "d694f0e0-4ab2-4eea-8f21-7177abc2de50",
   "metadata": {},
   "outputs": [],
   "source": [
    "loaded_data_non_triv_proj_rep = dict()\n",
    "energies_non_triv_proj_rep = dict()\n",
    "\n",
    "for local_file_name in list(os.walk(DATA_DIR_2))[0][2]:\n",
    "    f_name = r\"{}/{}\".format(DATA_DIR_2, local_file_name, ignore_unknown=False)\n",
    "\n",
    "    with h5py.File(f_name, 'r') as f:\n",
    "        data = hdf5_io.load_from_hdf5(f)\n",
    "\n",
    "        data_info = parse_file_name(local_file_name)\n",
    "        loaded_data_non_triv_proj_rep[data_info]=data['wavefunction']\n",
    "        energies_non_triv_proj_rep[data_info]=data['energy']"
   ]
  },
  {
   "cell_type": "code",
   "execution_count": 10,
   "id": "ba498dc9-2751-4168-98fe-4d64f9933c0b",
   "metadata": {},
   "outputs": [],
   "source": [
    "psi = loaded_data_non_triv_proj_rep[0]"
   ]
  },
  {
   "cell_type": "code",
   "execution_count": 11,
   "id": "1e1a9d07-7c90-4bff-b15c-26b40a4daa33",
   "metadata": {},
   "outputs": [],
   "source": [
    "from collections import Counter"
   ]
  },
  {
   "cell_type": "code",
   "execution_count": 12,
   "id": "c6f844ce-e988-4b14-8427-413eff20782e",
   "metadata": {},
   "outputs": [
    {
     "data": {
      "text/plain": [
       "Counter({('vL', 'p', 'vR'): 200})"
      ]
     },
     "execution_count": 12,
     "metadata": {},
     "output_type": "execute_result"
    }
   ],
   "source": [
    "Counter(\n",
    "    tuple(psi.get_B(i).get_leg_labels())\n",
    "    for i in range(psi.L)\n",
    ")"
   ]
  },
  {
   "cell_type": "code",
   "execution_count": 13,
   "id": "58108129-d506-4791-8b0e-8e13e795170f",
   "metadata": {},
   "outputs": [],
   "source": [
    "psi_arrays = list()\n",
    "psi_arrays.append(psi.get_B(0, 'Th')[0, ...].to_ndarray())\n",
    "for i in range(1, psi.L-1):\n",
    "    psi_arrays.append(psi.get_B(i).to_ndarray())\n",
    "psi_arrays.append(psi.get_B(psi.L-1)[..., 0].to_ndarray())"
   ]
  },
  {
   "cell_type": "code",
   "execution_count": 14,
   "id": "b56eb9f6-49bc-496d-b833-6eea17110e16",
   "metadata": {},
   "outputs": [],
   "source": [
    "q1 = (\n",
    "    qtn\n",
    "    .tensor_1d\n",
    "    .MatrixProductState(\n",
    "        psi_arrays,\n",
    "        shape='lpr'\n",
    "    )\n",
    ")"
   ]
  },
  {
   "cell_type": "markdown",
   "id": "3269e554-4543-4e55-8a03-68083f819521",
   "metadata": {},
   "source": [
    "# Definitions"
   ]
  },
  {
   "cell_type": "markdown",
   "id": "906a7920-67da-4c96-aba0-4cd6b49e1815",
   "metadata": {},
   "source": [
    "## Define tensor network to contract against"
   ]
  },
  {
   "cell_type": "code",
   "execution_count": 15,
   "id": "528c5820-09ec-4fc0-81cf-deedb9ad3a00",
   "metadata": {},
   "outputs": [],
   "source": [
    "np_10 = np.array([\n",
    "    [0, 0, 1, 0],\n",
    "    [0, 0, 0, 1],\n",
    "    [1, 0, 0, 0],\n",
    "    [0, 1, 0, 0]\n",
    "])"
   ]
  },
  {
   "cell_type": "code",
   "execution_count": 16,
   "id": "56791c81-2163-42bc-bb13-df25663f0bca",
   "metadata": {},
   "outputs": [],
   "source": [
    "q2 = q1.copy(deep=True)\n",
    "\n",
    "symmetry_sites = list(range(60, 60+80, 2))\n",
    "for i in symmetry_sites:\n",
    "\n",
    "    q2.gate(\n",
    "        np_10,\n",
    "        where=i,\n",
    "        contract=False,\n",
    "        inplace=True\n",
    "    )"
   ]
  },
  {
   "cell_type": "code",
   "execution_count": 17,
   "id": "dd7d4af7-0809-4736-927f-b79047df62fe",
   "metadata": {},
   "outputs": [],
   "source": [
    "def generate_problem_rdm(quimb_psi, symmetry_site_pairs, leftmost_symmetry_site,\n",
    "                         num_symmetry_sites, num_boundary_sites):\n",
    "    q_top = quimb_psi.copy(deep=True)\n",
    "    for i, s in symmetry_site_pairs:\n",
    "        q_top.gate(\n",
    "            s,\n",
    "            where=i,\n",
    "            contract=False,\n",
    "            inplace=True\n",
    "        )\n",
    "\n",
    "    \n",
    "    indices_to_map = list(chain(\n",
    "        range(leftmost_symmetry_site-num_boundary_sites, leftmost_symmetry_site),\n",
    "        range(leftmost_symmetry_site+num_symmetry_sites, leftmost_symmetry_site+num_symmetry_sites+num_boundary_sites)\n",
    "    ))\n",
    "\n",
    "    index_mapping = {f'k{i}': f'b{i}' for i in indices_to_map}\n",
    "\n",
    "    q_bottom = quimb_psi.copy()\n",
    "    q_bottom.reindex(index_mapping, inplace=True)\n",
    "\n",
    "    sites_to_contract = {\n",
    "        'left': list(range(leftmost_symmetry_site-num_boundary_sites)),\n",
    "        'middle': list(range(leftmost_symmetry_site, leftmost_symmetry_site+num_symmetry_sites)),\n",
    "        'right': list(range(leftmost_symmetry_site+num_symmetry_sites+num_boundary_sites, quimb_psi.L))\n",
    "    }\n",
    "\n",
    "    tags_to_contract = {\n",
    "        k: [f'I{i}' for i in v]\n",
    "        for k, v in sites_to_contract.items()\n",
    "    }\n",
    "\n",
    "    tn = (q_top & q_bottom)\n",
    "\n",
    "    tnc = (\n",
    "        tn\n",
    "        .contract(tags_to_contract['left'])\n",
    "        .contract(tags_to_contract['middle'])\n",
    "        .contract(tags_to_contract['right'])\n",
    "    )\n",
    "\n",
    "    return tnc"
   ]
  },
  {
   "cell_type": "code",
   "execution_count": 18,
   "id": "3e16538d-e007-4040-a9c0-9848e18070c3",
   "metadata": {},
   "outputs": [],
   "source": [
    "symmetry_site_pairs = [\n",
    "    (i, np_10) for i in range(60, 60+80, 2)\n",
    "]\n",
    "\n",
    "problem_rdm = generate_problem_rdm(\n",
    "    q1,\n",
    "    symmetry_site_pairs,\n",
    "    60,\n",
    "    80,\n",
    "    6\n",
    ")"
   ]
  },
  {
   "cell_type": "code",
   "execution_count": 19,
   "id": "a823f0ad-1a30-44a0-86cd-847662f32a05",
   "metadata": {},
   "outputs": [
    {
     "data": {
      "image/png": "[encoded data removed]",
      "text/plain": [
       "<Figure size 600x600 with 1 Axes>"
      ]
     },
     "metadata": {
      "needs_background": "light"
     },
     "output_type": "display_data"
    }
   ],
   "source": [
    "problem_rdm.draw()"
   ]
  },
  {
   "cell_type": "markdown",
   "id": "892fe32c-35e1-4e45-af39-49155a061a43",
   "metadata": {},
   "source": [
    "## Initial mpos"
   ]
  },
  {
   "cell_type": "code",
   "execution_count": 20,
   "id": "424eb697-9c38-4555-b8dd-31eb60661150",
   "metadata": {},
   "outputs": [],
   "source": [
    "num_boundary_sites=6\n",
    "left_most_symmetry_site=60\n",
    "num_symmetry_sites=80"
   ]
  },
  {
   "cell_type": "code",
   "execution_count": 116,
   "id": "477cc4f3-762c-46a9-b57f-fed5d0aaf659",
   "metadata": {},
   "outputs": [],
   "source": [
    "ml = qtn.MPO_rand(\n",
    "    num_boundary_sites,\n",
    "    5,\n",
    "    phys_dim=[4,2],\n",
    "    normalize=True,\n",
    "    sites=list(range(left_most_symmetry_site-num_boundary_sites, left_most_symmetry_site)),\n",
    "    dtype='complex',\n",
    "    tags='left_mpo'\n",
    ")"
   ]
  },
  {
   "cell_type": "code",
   "execution_count": 117,
   "id": "41dbfe5f-8eab-4865-9bfc-63ae6a71e868",
   "metadata": {},
   "outputs": [],
   "source": [
    "mr = qtn.MPO_rand(\n",
    "    num_boundary_sites,\n",
    "    3,\n",
    "    phys_dim=[4,2],\n",
    "    normalize=True,\n",
    "    sites=list(range(\n",
    "        left_most_symmetry_site + num_symmetry_sites,\n",
    "        left_most_symmetry_site + num_symmetry_sites + num_boundary_sites\n",
    "    )),\n",
    "    dtype='complex',\n",
    "    tags='right_mpo'\n",
    ")"
   ]
  },
  {
   "cell_type": "code",
   "execution_count": 118,
   "id": "fccd2103-0daa-4691-933a-cf9519d4f0cd",
   "metadata": {},
   "outputs": [],
   "source": [
    "mpo = (ml & mr)"
   ]
  },
  {
   "cell_type": "markdown",
   "id": "65b5e95a-a350-4d69-84a5-5ff22669bdac",
   "metadata": {},
   "source": [
    "## Optimisation functions"
   ]
  },
  {
   "cell_type": "code",
   "execution_count": 119,
   "id": "c5ca716e-66ef-481e-a225-d15053d39617",
   "metadata": {},
   "outputs": [],
   "source": [
    "def split_mpo_pair(mpo_pair):\n",
    "    ml = qtn.TensorNetwork(\n",
    "        list(map(mpo_pair.tensor_map.__getitem__, mpo.tag_map['left_mpo']))\n",
    "    )\n",
    "\n",
    "    mr = qtn.TensorNetwork(\n",
    "        list(map(mpo_pair.tensor_map.__getitem__, mpo.tag_map['right_mpo']))\n",
    "    )\n",
    "\n",
    "    return (ml, mr)"
   ]
  },
  {
   "cell_type": "code",
   "execution_count": 120,
   "id": "9768171f-deb6-4622-9476-4bd5293f3aeb",
   "metadata": {},
   "outputs": [
    {
     "data": {
      "text/plain": [
       "1.4142135623730951"
      ]
     },
     "execution_count": 120,
     "metadata": {},
     "output_type": "execute_result"
    }
   ],
   "source": [
    "abs(1+1j)"
   ]
  },
  {
   "cell_type": "code",
   "execution_count": 121,
   "id": "144dc2fc-4bbe-4ed0-bc33-15378457f45e",
   "metadata": {},
   "outputs": [],
   "source": [
    "from jax import numpy as jnp"
   ]
  },
  {
   "cell_type": "code",
   "execution_count": 122,
   "id": "78e8c11a-c207-44a9-8bdf-7b53dcf4d752",
   "metadata": {},
   "outputs": [],
   "source": [
    "z = 1 + 1j"
   ]
  },
  {
   "cell_type": "code",
   "execution_count": 123,
   "id": "ad8fc1fb-ab76-4db6-aff2-799cf0cc51b5",
   "metadata": {},
   "outputs": [
    {
     "data": {
      "text/plain": [
       "Array(1., dtype=float32)"
      ]
     },
     "execution_count": 123,
     "metadata": {},
     "output_type": "execute_result"
    }
   ],
   "source": [
    "jnp.sum(jnp.conjugate(z)).astype('float32')"
   ]
  },
  {
   "cell_type": "code",
   "execution_count": 124,
   "id": "233427eb-ae8c-4eb9-a4bf-b34c34c73cc7",
   "metadata": {},
   "outputs": [
    {
     "data": {
      "text/plain": [
       "array(1., dtype=float32)"
      ]
     },
     "execution_count": 124,
     "metadata": {},
     "output_type": "execute_result"
    }
   ],
   "source": [
    "jnp.sum(jnp.conjugate(z)).astype('float32')._value"
   ]
  },
  {
   "cell_type": "code",
   "execution_count": 125,
   "id": "ae654583-f7c7-4f53-b50a-f389e97d948b",
   "metadata": {},
   "outputs": [
    {
     "data": {
      "text/plain": [
       "Array(1., dtype=float32)"
      ]
     },
     "execution_count": 125,
     "metadata": {},
     "output_type": "execute_result"
    }
   ],
   "source": [
    "jnp.sum(jnp.conjugate(z)).astype('float32')"
   ]
  },
  {
   "cell_type": "code",
   "execution_count": 126,
   "id": "e74f130b-761d-4627-a8d5-f2f6d5bcf05a",
   "metadata": {},
   "outputs": [],
   "source": [
    "def overlap_loss_function(ml, mr, rdm_tn):\n",
    "    c = (rdm_tn & ml & mr) ^ ...\n",
    "\n",
    "    c_abs_squared = (\n",
    "        c\n",
    "        *jnp.conjugate(c)\n",
    "    )\n",
    "    #c_abs_squared = c_abs_squared.astype('float32')\n",
    "    c_abs = (jnp.sqrt(c_abs_squared))\n",
    "\n",
    "    loss = (c_abs - 1)**2\n",
    "\n",
    "    return loss"
   ]
  },
  {
   "cell_type": "code",
   "execution_count": 127,
   "id": "96744cd0-b93d-4d5c-8c7d-8bbda8e26529",
   "metadata": {},
   "outputs": [],
   "source": [
    "def overlap_loss_function_mpo_pair(mpo_pair, rdm_tn):\n",
    "    ml, mr = split_mpo_pair(mpo_pair)\n",
    "\n",
    "    return overlap_loss_function(ml, mr, rdm_tn)"
   ]
  },
  {
   "cell_type": "code",
   "execution_count": 128,
   "id": "83d3af9b-1864-4cb4-87a7-2a8a3cdbd19b",
   "metadata": {},
   "outputs": [],
   "source": [
    "total_physical_dim = 2**9"
   ]
  },
  {
   "cell_type": "code",
   "execution_count": 129,
   "id": "7d1fdb46-b68c-468f-824e-53f17adcb3af",
   "metadata": {},
   "outputs": [],
   "source": [
    "regex_s = r\"^I\\d+$\"\n",
    "regex_p = re.compile(regex_s)"
   ]
  },
  {
   "cell_type": "code",
   "execution_count": 130,
   "id": "e037d3d4-f377-4c7c-ba24-9d9453b5ff20",
   "metadata": {},
   "outputs": [],
   "source": [
    "def relabel_mpo(mpo, k_label, b_label):\n",
    "    site_locs = [\n",
    "        int(k[1:]) for k in mpo.tag_map\n",
    "        if bool(re.search(regex_p, k))\n",
    "    ]\n",
    "\n",
    "    k_in_indices = [f'k{i}' for i in site_locs]\n",
    "    j_in_indices = [f'b{i}' for i in site_locs]\n",
    "\n",
    "    k_out_indices = [f'{k_label}{i}' for i in site_locs]\n",
    "    j_out_indices = [f'{b_label}{i}' for i in site_locs]\n",
    "\n",
    "    mapping = dict(\n",
    "        chain(\n",
    "            zip(k_in_indices, k_out_indices),\n",
    "            zip(j_in_indices, j_out_indices)\n",
    "        )\n",
    "    )\n",
    "\n",
    "    mpo.reindex(mapping, inplace=True)"
   ]
  },
  {
   "cell_type": "code",
   "execution_count": 202,
   "id": "7f90938e-4acf-475d-8c65-0ffcdbae3248",
   "metadata": {},
   "outputs": [],
   "source": [
    "def unitarity_tn(tn, total_physical_dim):\n",
    "    ms = [tn.copy(), tn.copy(), tn.copy()]\n",
    "\n",
    "    relabel_mpo(ms[0], 'k', 'l')\n",
    "    relabel_mpo(ms[1], 'm', 'l')\n",
    "    relabel_mpo(ms[2], 'm', 'b')\n",
    "\n",
    "    ms[0] = ms[0].conj()\n",
    "    ms[2] = ms[2].conj()\n",
    "\n",
    "    n2tn = (tn & tn.conj())\n",
    "    n2 = n2tn.contract(n2tn.tag_map)\n",
    "    n4tn = (tn & ms[0] & ms[1] & ms[2])\n",
    "    n4 = n4tn.contract(n4tn.tag_map)\n",
    "\n",
    "    out = jnp.real(n4 - 2*n2 + total_physical_dim)\n",
    "\n",
    "    return out"
   ]
  },
  {
   "cell_type": "code",
   "execution_count": 132,
   "id": "7ad55e50-2deb-41a6-85f4-c8cbe14a9981",
   "metadata": {},
   "outputs": [
    {
     "data": {
      "text/plain": [
       "510.0106833089041"
      ]
     },
     "execution_count": 132,
     "metadata": {},
     "output_type": "execute_result"
    }
   ],
   "source": [
    "unitarity_tn(ml, total_physical_dim)"
   ]
  },
  {
   "cell_type": "code",
   "execution_count": 139,
   "id": "4d6f9ee2-5028-436b-8353-6aa19f216548",
   "metadata": {},
   "outputs": [],
   "source": [
    "def overall_loss_function(mpo_pair, rdm_tn, total_physical_dimension,\n",
    "    unitary_cost_coefficient=1, overlap_cost_coefficient=1, losses=None):\n",
    "    ml, mr = split_mpo_pair(mpo_pair)\n",
    "\n",
    "    o_loss = overlap_loss_function(ml, mr, rdm_tn)\n",
    "    ul_loss = unitarity_tn(ml, total_physical_dimension)\n",
    "    ur_loss = unitarity_tn(mr, total_physical_dimension)\n",
    "\n",
    "    out = (\n",
    "        unitary_cost_coefficient*(ul_loss+ur_loss)\n",
    "        + overlap_cost_coefficient*o_loss\n",
    "    )\n",
    "\n",
    "    out = jnp.real(out)\n",
    "\n",
    "    if losses is not None:\n",
    "        losses.append((o_loss, ul_loss, ur_loss))\n",
    "    return out"
   ]
  },
  {
   "cell_type": "code",
   "execution_count": 134,
   "id": "0851af03-675f-4a56-8d35-c6a9443668da",
   "metadata": {},
   "outputs": [
    {
     "data": {
      "text/plain": [
       "Array(1021.0219, dtype=float32)"
      ]
     },
     "execution_count": 134,
     "metadata": {},
     "output_type": "execute_result"
    }
   ],
   "source": [
    "overall_loss_function(\n",
    "    mpo,\n",
    "    problem_rdm,\n",
    "    total_physical_dim\n",
    ")"
   ]
  },
  {
   "cell_type": "markdown",
   "id": "227e0a85-a24b-448b-91f1-753e13b6a6bc",
   "metadata": {},
   "source": [
    "# Runs\n",
    "## 1"
   ]
  },
  {
   "cell_type": "code",
   "execution_count": 140,
   "id": "bcf7fed2-6af3-4624-9322-a7de10c8db19",
   "metadata": {},
   "outputs": [],
   "source": [
    "loss_data=list()"
   ]
  },
  {
   "cell_type": "code",
   "execution_count": 141,
   "id": "38a1a949-66a8-4a0b-9fbc-bcf713d8ce0d",
   "metadata": {},
   "outputs": [],
   "source": [
    "total_physical_dim = 2**9"
   ]
  },
  {
   "cell_type": "code",
   "execution_count": 142,
   "id": "fad2b52a-fb8f-42c0-b593-d4f82db1e596",
   "metadata": {},
   "outputs": [],
   "source": [
    "optmzr = qtn.optimize.TNOptimizer(\n",
    "    mpo,                                # our initial input, the tensors of which to optimize\n",
    "    loss_fn=overall_loss_function,\n",
    "    loss_kwargs={\n",
    "        'rdm_tn': problem_rdm,\n",
    "        'total_physical_dimension': total_physical_dim,\n",
    "        'unitary_cost_coefficient': 1,\n",
    "        'overlap_cost_coefficient': 1,\n",
    "        'losses': loss_data\n",
    "    },\n",
    "    autodiff_backend='jax',      # {'jax', 'tensorflow', 'autograd'}\n",
    "    optimizer='adam',               # supplied to scipy.minimize\n",
    ")"
   ]
  },
  {
   "cell_type": "code",
   "execution_count": 143,
   "id": "d208631f-dc20-4f10-a4b4-28959a98e1e2",
   "metadata": {
    "scrolled": true
   },
   "outputs": [
    {
     "name": "stderr",
     "output_type": "stream",
     "text": [
      "  0%|                                                                                                                                                                              | 0/1000 [00:00<?, ?it/s]/Users/kierancooney/.pyenv/versions/num_spt_venv_p11/lib/python3.11/site-packages/quimb/tensor/optimize.py:135: UserWarning: dtype mismatch between input parameter and updated values. This can occur e.g. with jax and double precision arrays (in which case consider setting `jax.config.update(\"jax_enable_x64\", True)` at startup or using single precision parameters directly). For now casting from complex64 to complex128.\n",
      "  warnings.warn(\n",
      "+nan [best: +1021.021911621094] : : 1001it [00:03, 288.93it/s]                                                                                                                                              \n"
     ]
    }
   ],
   "source": [
    "mpo_opt = optmzr.optimize(1000)"
   ]
  },
  {
   "cell_type": "code",
   "execution_count": 144,
   "id": "ae77991b-31ad-4aaa-a864-6c2261b8c8f8",
   "metadata": {
    "scrolled": true
   },
   "outputs": [
    {
     "data": {
      "text/plain": [
       "1"
      ]
     },
     "execution_count": 144,
     "metadata": {},
     "output_type": "execute_result"
    }
   ],
   "source": [
    "len(loss_data)"
   ]
  },
  {
   "cell_type": "markdown",
   "id": "91a37864-77af-47b2-a216-cb7be3a16c4f",
   "metadata": {},
   "source": [
    "But lose loss data for some reason...?"
   ]
  },
  {
   "cell_type": "code",
   "execution_count": 145,
   "id": "8fa83f18-227c-4a29-9da5-966c47a590d4",
   "metadata": {},
   "outputs": [
    {
     "data": {
      "image/png": "[encoded data removed]",
      "text/plain": [
       "<Figure size 800x348.22 with 4 Axes>"
      ]
     },
     "metadata": {
      "needs_background": "light"
     },
     "output_type": "display_data"
    },
    {
     "data": {
      "text/plain": [
       "(<Figure size 800x348.22 with 4 Axes>,\n",
       " array([[<Axes: >, <Axes: >],\n",
       "        [<Axes: xlabel='Iteration (full)'>,\n",
       "         <Axes: xlabel='Iteration (zoom)'>]], dtype=object))"
      ]
     },
     "execution_count": 145,
     "metadata": {},
     "output_type": "execute_result"
    }
   ],
   "source": [
    "optmzr.plot()"
   ]
  },
  {
   "cell_type": "code",
   "execution_count": 146,
   "id": "e70ea0da-22e8-4150-b99b-a9efb555b54a",
   "metadata": {},
   "outputs": [],
   "source": [
    "ml, mr = split_mpo_pair(mpo_opt)"
   ]
  },
  {
   "cell_type": "code",
   "execution_count": 147,
   "id": "8976ea9f-b848-433d-b4f7-7509a0b1dc9f",
   "metadata": {},
   "outputs": [
    {
     "data": {
      "text/plain": [
       "(Array(nan, dtype=float32), (nan+nanj), (nan+nanj))"
      ]
     },
     "execution_count": 147,
     "metadata": {},
     "output_type": "execute_result"
    }
   ],
   "source": [
    "(\n",
    "    overlap_loss_function(ml, mr, problem_rdm),\n",
    "    unitarity_tn(ml, total_physical_dim),\n",
    "    unitarity_tn(mr, total_physical_dim),\n",
    ")"
   ]
  },
  {
   "cell_type": "markdown",
   "id": "676d6488-dfec-4a81-b4e7-0e0943555a7f",
   "metadata": {},
   "source": [
    "## 2"
   ]
  },
  {
   "cell_type": "code",
   "execution_count": 148,
   "id": "f43f67d5-cff8-47f2-b224-8c674e48ff61",
   "metadata": {},
   "outputs": [],
   "source": [
    "def overlap_loss_function(ml, mr, rdm_tn):\n",
    "    c = (rdm_tn & ml & mr) ^ ...\n",
    "\n",
    "    c_abs_squared = (\n",
    "        c\n",
    "        *jnp.conjugate(c)\n",
    "    )\n",
    "    c_abs_squared = c_abs_squared.astype('float32')\n",
    "    #c_abs = (jnp.sqrt(c_abs_squared))\n",
    "\n",
    "    loss = (c_abs_squared - 1)**2\n",
    "\n",
    "    return loss"
   ]
  },
  {
   "cell_type": "code",
   "execution_count": 149,
   "id": "cff40807-652b-4e96-9b1f-cad9b62e572b",
   "metadata": {},
   "outputs": [],
   "source": [
    "loss_data=list()"
   ]
  },
  {
   "cell_type": "code",
   "execution_count": 150,
   "id": "091c8181-7d82-408f-8c74-27e7952c4f66",
   "metadata": {},
   "outputs": [],
   "source": [
    "total_physical_dim = 2**9"
   ]
  },
  {
   "cell_type": "code",
   "execution_count": 151,
   "id": "61cd0bc8-c5d8-42bf-b29e-a69943b8ab7d",
   "metadata": {},
   "outputs": [],
   "source": [
    "optmzr = qtn.optimize.TNOptimizer(\n",
    "    mpo,                                # our initial input, the tensors of which to optimize\n",
    "    loss_fn=overall_loss_function,\n",
    "    loss_kwargs={\n",
    "        'rdm_tn': problem_rdm,\n",
    "        'total_physical_dimension': total_physical_dim,\n",
    "        'unitary_cost_coefficient': 1,\n",
    "        'overlap_cost_coefficient': 1,\n",
    "        'losses': loss_data\n",
    "    },\n",
    "    autodiff_backend='jax',      # {'jax', 'tensorflow', 'autograd'}\n",
    "    optimizer='adam',               # supplied to scipy.minimize\n",
    ")"
   ]
  },
  {
   "cell_type": "code",
   "execution_count": 152,
   "id": "f8ebc7ec-5fa6-44a2-a2cf-d238bffee592",
   "metadata": {
    "scrolled": true
   },
   "outputs": [
    {
     "name": "stderr",
     "output_type": "stream",
     "text": [
      "  0%|                                                                                                                                                                              | 0/1000 [00:00<?, ?it/s]/Users/kierancooney/.pyenv/versions/num_spt_venv_p11/lib/python3.11/site-packages/quimb/tensor/optimize.py:135: UserWarning: dtype mismatch between input parameter and updated values. This can occur e.g. with jax and double precision arrays (in which case consider setting `jax.config.update(\"jax_enable_x64\", True)` at startup or using single precision parameters directly). For now casting from complex64 to complex128.\n",
      "  warnings.warn(\n",
      "+1.172424316406 [best: +1.172424316406] : : 1001it [00:03, 333.63it/s]                                                                                                                                      \n"
     ]
    }
   ],
   "source": [
    "mpo_opt = optmzr.optimize(1000)"
   ]
  },
  {
   "cell_type": "code",
   "execution_count": 153,
   "id": "04f0846d-3d35-4685-b9c6-ea6f8cd2f062",
   "metadata": {
    "scrolled": true
   },
   "outputs": [
    {
     "data": {
      "text/plain": [
       "1"
      ]
     },
     "execution_count": 153,
     "metadata": {},
     "output_type": "execute_result"
    }
   ],
   "source": [
    "len(loss_data)"
   ]
  },
  {
   "cell_type": "markdown",
   "id": "06941903-4e78-4a86-868b-b7e5a3665fad",
   "metadata": {},
   "source": [
    "But lose loss data for some reason...?"
   ]
  },
  {
   "cell_type": "code",
   "execution_count": 154,
   "id": "f11ebbe7-dff1-4814-963a-bfe4f0273e59",
   "metadata": {},
   "outputs": [
    {
     "data": {
      "image/png": "[encoded data removed]",
      "text/plain": [
       "<Figure size 800x348.22 with 4 Axes>"
      ]
     },
     "metadata": {
      "needs_background": "light"
     },
     "output_type": "display_data"
    },
    {
     "data": {
      "text/plain": [
       "(<Figure size 800x348.22 with 4 Axes>,\n",
       " array([[<Axes: >, <Axes: >],\n",
       "        [<Axes: xlabel='Iteration (full)'>,\n",
       "         <Axes: xlabel='Iteration (zoom)'>]], dtype=object))"
      ]
     },
     "execution_count": 154,
     "metadata": {},
     "output_type": "execute_result"
    }
   ],
   "source": [
    "optmzr.plot()"
   ]
  },
  {
   "cell_type": "code",
   "execution_count": 155,
   "id": "cd0e0265-b2d1-47bd-b109-593a33e4ba87",
   "metadata": {},
   "outputs": [],
   "source": [
    "ml, mr = split_mpo_pair(mpo_opt)"
   ]
  },
  {
   "cell_type": "code",
   "execution_count": 156,
   "id": "193e360d-0504-4bad-80dd-0fc2925bec6a",
   "metadata": {},
   "outputs": [
    {
     "data": {
      "text/plain": [
       "(Array(1., dtype=float32),\n",
       " (0.080169677734375-2.407258330094919e-05j),\n",
       " (0.091949462890625-1.8711394659476355e-05j))"
      ]
     },
     "execution_count": 156,
     "metadata": {},
     "output_type": "execute_result"
    }
   ],
   "source": [
    "(\n",
    "    overlap_loss_function(ml, mr, problem_rdm),\n",
    "    unitarity_tn(ml, total_physical_dim),\n",
    "    unitarity_tn(mr, total_physical_dim),\n",
    ")"
   ]
  },
  {
   "cell_type": "markdown",
   "id": "de5a4ea3-8e26-44eb-a877-253c3a62b2be",
   "metadata": {},
   "source": [
    "## 3"
   ]
  },
  {
   "cell_type": "code",
   "execution_count": 157,
   "id": "77354783-479c-4fe4-949b-746e0dd4318d",
   "metadata": {},
   "outputs": [],
   "source": [
    "def overlap_loss_function(ml, mr, rdm_tn):\n",
    "    c = (rdm_tn & ml & mr) ^ ...\n",
    "\n",
    "    c_abs = jnp.abs(c)\n",
    "\n",
    "    return -c_abs"
   ]
  },
  {
   "cell_type": "code",
   "execution_count": 158,
   "id": "a4cf3059-67ff-4f13-a4c1-d9a8df3e51ec",
   "metadata": {},
   "outputs": [],
   "source": [
    "loss_data=list()"
   ]
  },
  {
   "cell_type": "code",
   "execution_count": 159,
   "id": "d5709d31-3b19-497d-bc06-cc996e2e0287",
   "metadata": {},
   "outputs": [],
   "source": [
    "total_physical_dim = 2**9"
   ]
  },
  {
   "cell_type": "code",
   "execution_count": 160,
   "id": "a0b3eeea-cf23-4ed2-a520-7c5956583231",
   "metadata": {},
   "outputs": [],
   "source": [
    "optmzr = qtn.optimize.TNOptimizer(\n",
    "    mpo,                                # our initial input, the tensors of which to optimize\n",
    "    loss_fn=overall_loss_function,\n",
    "    loss_kwargs={\n",
    "        'rdm_tn': problem_rdm,\n",
    "        'total_physical_dimension': total_physical_dim,\n",
    "        'unitary_cost_coefficient': 1,\n",
    "        'overlap_cost_coefficient': 1,\n",
    "        'losses': loss_data\n",
    "    },\n",
    "    autodiff_backend='jax',      # {'jax', 'tensorflow', 'autograd'}\n",
    "    optimizer='adam',               # supplied to scipy.minimize\n",
    ")"
   ]
  },
  {
   "cell_type": "code",
   "execution_count": 161,
   "id": "1fc1ad82-8b36-4fba-834d-568c26fc5bfe",
   "metadata": {
    "scrolled": true
   },
   "outputs": [
    {
     "name": "stderr",
     "output_type": "stream",
     "text": [
      "  0%|                                                                                                                                                                              | 0/1000 [00:00<?, ?it/s]/Users/kierancooney/.pyenv/versions/num_spt_venv_p11/lib/python3.11/site-packages/quimb/tensor/optimize.py:135: UserWarning: dtype mismatch between input parameter and updated values. This can occur e.g. with jax and double precision arrays (in which case consider setting `jax.config.update(\"jax_enable_x64\", True)` at startup or using single precision parameters directly). For now casting from complex64 to complex128.\n",
      "  warnings.warn(\n",
      "+0.172424316406 [best: +0.172424316406] : : 1001it [00:02, 338.50it/s]                                                                                                                                      \n"
     ]
    }
   ],
   "source": [
    "mpo_opt = optmzr.optimize(1000)"
   ]
  },
  {
   "cell_type": "code",
   "execution_count": 162,
   "id": "cec9fc06-5e2c-47d4-9a34-d31a4c08001c",
   "metadata": {
    "scrolled": true
   },
   "outputs": [
    {
     "data": {
      "text/plain": [
       "1"
      ]
     },
     "execution_count": 162,
     "metadata": {},
     "output_type": "execute_result"
    }
   ],
   "source": [
    "len(loss_data)"
   ]
  },
  {
   "cell_type": "markdown",
   "id": "e14cccaa-be75-48ff-aef9-9e697495d6dc",
   "metadata": {},
   "source": [
    "But lose loss data for some reason...?"
   ]
  },
  {
   "cell_type": "code",
   "execution_count": 163,
   "id": "86e570c4-1df6-4e07-bbb5-a09de78beb18",
   "metadata": {},
   "outputs": [
    {
     "data": {
      "image/png": "[encoded data removed]",
      "text/plain": [
       "<Figure size 800x348.22 with 4 Axes>"
      ]
     },
     "metadata": {
      "needs_background": "light"
     },
     "output_type": "display_data"
    },
    {
     "data": {
      "text/plain": [
       "(<Figure size 800x348.22 with 4 Axes>,\n",
       " array([[<Axes: >, <Axes: >],\n",
       "        [<Axes: xlabel='Iteration (full)'>,\n",
       "         <Axes: xlabel='Iteration (zoom)'>]], dtype=object))"
      ]
     },
     "execution_count": 163,
     "metadata": {},
     "output_type": "execute_result"
    }
   ],
   "source": [
    "optmzr.plot()"
   ]
  },
  {
   "cell_type": "code",
   "execution_count": 164,
   "id": "b6f30ab1-6dcd-4256-a006-109f9801efb5",
   "metadata": {},
   "outputs": [],
   "source": [
    "ml, mr = split_mpo_pair(mpo_opt)"
   ]
  },
  {
   "cell_type": "code",
   "execution_count": 165,
   "id": "2e5e7ec8-9c04-45b5-9fbf-632089158277",
   "metadata": {},
   "outputs": [
    {
     "data": {
      "text/plain": [
       "(Array(-1.1233511e-31, dtype=float32),\n",
       " (0.080169677734375-2.407258330094919e-05j),\n",
       " (0.091949462890625-1.8711394659476355e-05j))"
      ]
     },
     "execution_count": 165,
     "metadata": {},
     "output_type": "execute_result"
    }
   ],
   "source": [
    "(\n",
    "    overlap_loss_function(ml, mr, problem_rdm),\n",
    "    unitarity_tn(ml, total_physical_dim),\n",
    "    unitarity_tn(mr, total_physical_dim),\n",
    ")"
   ]
  },
  {
   "cell_type": "markdown",
   "id": "d757316a-748f-43eb-9fdd-bc47c6e9f862",
   "metadata": {},
   "source": [
    "## 4"
   ]
  },
  {
   "cell_type": "code",
   "execution_count": 166,
   "id": "9c2c2bfd-a9ab-466f-bbcb-61b121ee490f",
   "metadata": {},
   "outputs": [],
   "source": [
    "def overlap_loss_function(ml, mr, rdm_tn):\n",
    "    c = (rdm_tn & ml & mr) ^ ...\n",
    "\n",
    "    c_abs = jnp.abs(c)\n",
    "\n",
    "    return -c_abs"
   ]
  },
  {
   "cell_type": "code",
   "execution_count": 167,
   "id": "f137513e-57e5-4407-bbf2-faa059faaf93",
   "metadata": {},
   "outputs": [],
   "source": [
    "loss_data=list()"
   ]
  },
  {
   "cell_type": "code",
   "execution_count": 168,
   "id": "14cac91d-0c57-4cdd-9b78-4303e2197b72",
   "metadata": {},
   "outputs": [],
   "source": [
    "total_physical_dim = 2**9"
   ]
  },
  {
   "cell_type": "code",
   "execution_count": 169,
   "id": "90964c7d-dd87-40e5-90fe-56107105d268",
   "metadata": {},
   "outputs": [],
   "source": [
    "optmzr = qtn.optimize.TNOptimizer(\n",
    "    mpo,                                # our initial input, the tensors of which to optimize\n",
    "    loss_fn=overall_loss_function,\n",
    "    loss_kwargs={\n",
    "        'rdm_tn': problem_rdm,\n",
    "        'total_physical_dimension': total_physical_dim,\n",
    "        'unitary_cost_coefficient': 1,\n",
    "        'overlap_cost_coefficient': 1000,\n",
    "        'losses': loss_data\n",
    "    },\n",
    "    autodiff_backend='jax',      # {'jax', 'tensorflow', 'autograd'}\n",
    "    optimizer='adam',               # supplied to scipy.minimize\n",
    ")"
   ]
  },
  {
   "cell_type": "code",
   "execution_count": 170,
   "id": "31e9823c-6a71-4592-93d0-633178a170e4",
   "metadata": {
    "scrolled": true
   },
   "outputs": [
    {
     "name": "stderr",
     "output_type": "stream",
     "text": [
      "  0%|                                                                                                                                                                              | 0/1000 [00:00<?, ?it/s]/Users/kierancooney/.pyenv/versions/num_spt_venv_p11/lib/python3.11/site-packages/quimb/tensor/optimize.py:135: UserWarning: dtype mismatch between input parameter and updated values. This can occur e.g. with jax and double precision arrays (in which case consider setting `jax.config.update(\"jax_enable_x64\", True)` at startup or using single precision parameters directly). For now casting from complex64 to complex128.\n",
      "  warnings.warn(\n",
      "+0.172424316406 [best: +0.172424316406] : : 1001it [00:03, 307.52it/s]                                                                                                                                      \n"
     ]
    }
   ],
   "source": [
    "mpo_opt = optmzr.optimize(1000)"
   ]
  },
  {
   "cell_type": "code",
   "execution_count": 171,
   "id": "c33a0c7a-a9af-41e1-8a9c-3429e3e05cdf",
   "metadata": {
    "scrolled": true
   },
   "outputs": [
    {
     "data": {
      "text/plain": [
       "1"
      ]
     },
     "execution_count": 171,
     "metadata": {},
     "output_type": "execute_result"
    }
   ],
   "source": [
    "len(loss_data)"
   ]
  },
  {
   "cell_type": "markdown",
   "id": "88e1b25a-8195-4a84-b0c2-1ab5aeff0f56",
   "metadata": {},
   "source": [
    "But lose loss data for some reason...?"
   ]
  },
  {
   "cell_type": "code",
   "execution_count": 172,
   "id": "c4e01be2-b2e3-4520-99a9-b573ce7d0999",
   "metadata": {},
   "outputs": [
    {
     "data": {
      "image/png": "[encoded data removed]",
      "text/plain": [
       "<Figure size 800x348.22 with 4 Axes>"
      ]
     },
     "metadata": {
      "needs_background": "light"
     },
     "output_type": "display_data"
    },
    {
     "data": {
      "text/plain": [
       "(<Figure size 800x348.22 with 4 Axes>,\n",
       " array([[<Axes: >, <Axes: >],\n",
       "        [<Axes: xlabel='Iteration (full)'>,\n",
       "         <Axes: xlabel='Iteration (zoom)'>]], dtype=object))"
      ]
     },
     "execution_count": 172,
     "metadata": {},
     "output_type": "execute_result"
    }
   ],
   "source": [
    "optmzr.plot()"
   ]
  },
  {
   "cell_type": "code",
   "execution_count": 173,
   "id": "c025c159-9a31-4731-b61e-cbf25559b809",
   "metadata": {},
   "outputs": [],
   "source": [
    "ml, mr = split_mpo_pair(mpo_opt)"
   ]
  },
  {
   "cell_type": "code",
   "execution_count": 174,
   "id": "71498093-3cc6-4da1-85cf-7005704fcf1d",
   "metadata": {},
   "outputs": [
    {
     "data": {
      "text/plain": [
       "(Array(-1.1233511e-31, dtype=float32),\n",
       " (0.080169677734375-2.407258330094919e-05j),\n",
       " (0.091949462890625-1.8711394659476355e-05j))"
      ]
     },
     "execution_count": 174,
     "metadata": {},
     "output_type": "execute_result"
    }
   ],
   "source": [
    "(\n",
    "    overlap_loss_function(ml, mr, problem_rdm),\n",
    "    unitarity_tn(ml, total_physical_dim),\n",
    "    unitarity_tn(mr, total_physical_dim),\n",
    ")"
   ]
  },
  {
   "cell_type": "markdown",
   "id": "764dfd05-4acc-410a-9110-dde6e81a9cc2",
   "metadata": {},
   "source": [
    "## 5"
   ]
  },
  {
   "cell_type": "code",
   "execution_count": 175,
   "id": "8a9e478e-304f-415b-95b2-260fda923ecd",
   "metadata": {},
   "outputs": [],
   "source": [
    "def overlap_loss_function(ml, mr, rdm_tn):\n",
    "    c = (rdm_tn & ml & mr) ^ ...\n",
    "\n",
    "    c_abs_squared = (\n",
    "        c\n",
    "        *jnp.conjugate(c)\n",
    "    )\n",
    "    #c_abs_squared = c_abs_squared.astype('float32')\n",
    "    c_abs = (jnp.sqrt(c_abs_squared))\n",
    "\n",
    "    loss = (c_abs - 1)**2\n",
    "\n",
    "    return loss"
   ]
  },
  {
   "cell_type": "code",
   "execution_count": 176,
   "id": "ee592fd0-622d-467a-952d-90f4620f77f6",
   "metadata": {},
   "outputs": [],
   "source": [
    "loss_data=list()"
   ]
  },
  {
   "cell_type": "code",
   "execution_count": 177,
   "id": "d8b02acb-f857-4195-8366-c6cab4255ded",
   "metadata": {},
   "outputs": [],
   "source": [
    "total_physical_dim = 2**9"
   ]
  },
  {
   "cell_type": "code",
   "execution_count": 178,
   "id": "89230001-3adf-4472-95bb-7e7440b2f250",
   "metadata": {},
   "outputs": [],
   "source": [
    "optmzr = qtn.optimize.TNOptimizer(\n",
    "    mpo,                                # our initial input, the tensors of which to optimize\n",
    "    loss_fn=overall_loss_function,\n",
    "    loss_kwargs={\n",
    "        'rdm_tn': problem_rdm,\n",
    "        'total_physical_dimension': total_physical_dim,\n",
    "        'unitary_cost_coefficient': 1,\n",
    "        'overlap_cost_coefficient': 1,\n",
    "        'losses': loss_data\n",
    "    },\n",
    "    autodiff_backend='jax',      # {'jax', 'tensorflow', 'autograd'}\n",
    "    optimizer='adam',               # supplied to scipy.minimize\n",
    ")"
   ]
  },
  {
   "cell_type": "code",
   "execution_count": 179,
   "id": "9bf425db-4ad3-4db5-9ce7-b8b2a4e183cf",
   "metadata": {
    "scrolled": true
   },
   "outputs": [
    {
     "name": "stderr",
     "output_type": "stream",
     "text": [
      "  0%|                                                                                                                                                                              | 0/1000 [00:00<?, ?it/s]/Users/kierancooney/.pyenv/versions/num_spt_venv_p11/lib/python3.11/site-packages/quimb/tensor/optimize.py:135: UserWarning: dtype mismatch between input parameter and updated values. This can occur e.g. with jax and double precision arrays (in which case consider setting `jax.config.update(\"jax_enable_x64\", True)` at startup or using single precision parameters directly). For now casting from complex64 to complex128.\n",
      "  warnings.warn(\n",
      "+nan [best: +1021.021911621094] : : 1001it [00:03, 304.05it/s]                                                                                                                                              \n"
     ]
    }
   ],
   "source": [
    "mpo_opt = optmzr.optimize(\n",
    "    1000,\n",
    "    learning_rate=0.0001,\n",
    "    beta1=0.3,\n",
    "    beta2=0.3,\n",
    ")"
   ]
  },
  {
   "cell_type": "code",
   "execution_count": 180,
   "id": "ee3e3c1c-49ff-4570-aaaa-98840dce3a0d",
   "metadata": {
    "scrolled": true
   },
   "outputs": [
    {
     "data": {
      "text/plain": [
       "1"
      ]
     },
     "execution_count": 180,
     "metadata": {},
     "output_type": "execute_result"
    }
   ],
   "source": [
    "len(loss_data)"
   ]
  },
  {
   "cell_type": "markdown",
   "id": "af41b913-6510-42b7-9b8a-382d714c72a5",
   "metadata": {},
   "source": [
    "But lose loss data for some reason...?"
   ]
  },
  {
   "cell_type": "code",
   "execution_count": 181,
   "id": "0bd1c6f9-63b5-49de-a2c6-b0c5b13dbf92",
   "metadata": {},
   "outputs": [
    {
     "data": {
      "image/png": "[encoded data removed]",
      "text/plain": [
       "<Figure size 800x348.22 with 4 Axes>"
      ]
     },
     "metadata": {
      "needs_background": "light"
     },
     "output_type": "display_data"
    },
    {
     "data": {
      "text/plain": [
       "(<Figure size 800x348.22 with 4 Axes>,\n",
       " array([[<Axes: >, <Axes: >],\n",
       "        [<Axes: xlabel='Iteration (full)'>,\n",
       "         <Axes: xlabel='Iteration (zoom)'>]], dtype=object))"
      ]
     },
     "execution_count": 181,
     "metadata": {},
     "output_type": "execute_result"
    }
   ],
   "source": [
    "optmzr.plot()"
   ]
  },
  {
   "cell_type": "code",
   "execution_count": 182,
   "id": "f9ca661c-61c4-41a9-ad6f-ccf710fa2d4a",
   "metadata": {},
   "outputs": [],
   "source": [
    "ml, mr = split_mpo_pair(mpo_opt)"
   ]
  },
  {
   "cell_type": "code",
   "execution_count": 183,
   "id": "e2c781bb-c1dd-4495-9181-778a70bcde9b",
   "metadata": {},
   "outputs": [
    {
     "data": {
      "text/plain": [
       "(Array(nan+nanj, dtype=complex64), (nan+nanj), (nan+nanj))"
      ]
     },
     "execution_count": 183,
     "metadata": {},
     "output_type": "execute_result"
    }
   ],
   "source": [
    "(\n",
    "    overlap_loss_function(ml, mr, problem_rdm),\n",
    "    unitarity_tn(ml, total_physical_dim),\n",
    "    unitarity_tn(mr, total_physical_dim),\n",
    ")"
   ]
  },
  {
   "cell_type": "markdown",
   "id": "4c73ec8c-21fe-4dec-8130-01f7c5d1206c",
   "metadata": {},
   "source": [
    "## 6"
   ]
  },
  {
   "cell_type": "code",
   "execution_count": 184,
   "id": "19d7a0ff-916d-4ee3-a0f3-5ef280b97c6c",
   "metadata": {},
   "outputs": [],
   "source": [
    "def overlap_loss_function(ml, mr, rdm_tn):\n",
    "    c = (rdm_tn & ml & mr) ^ ...\n",
    "\n",
    "    c_abs_squared = (\n",
    "        c\n",
    "        *jnp.conjugate(c)\n",
    "    )\n",
    "    #c_abs_squared = c_abs_squared.astype('float32')\n",
    "    c_abs = (jnp.sqrt(c_abs_squared))\n",
    "\n",
    "    loss = (c_abs - 1)**2\n",
    "\n",
    "    return loss"
   ]
  },
  {
   "cell_type": "code",
   "execution_count": 185,
   "id": "e4b44c74-ba41-4c19-9794-e141be7156a8",
   "metadata": {},
   "outputs": [],
   "source": [
    "loss_data=list()"
   ]
  },
  {
   "cell_type": "code",
   "execution_count": 186,
   "id": "c03adf66-c241-436b-9d22-3809fb27f25c",
   "metadata": {},
   "outputs": [],
   "source": [
    "total_physical_dim = 2**9"
   ]
  },
  {
   "cell_type": "code",
   "execution_count": 187,
   "id": "0223a14a-2579-47ac-9b3c-471ba3932961",
   "metadata": {},
   "outputs": [],
   "source": [
    "optmzr = qtn.optimize.TNOptimizer(\n",
    "    mpo,                                # our initial input, the tensors of which to optimize\n",
    "    loss_fn=overall_loss_function,\n",
    "    loss_kwargs={\n",
    "        'rdm_tn': problem_rdm,\n",
    "        'total_physical_dimension': total_physical_dim,\n",
    "        'unitary_cost_coefficient': 1,\n",
    "        'overlap_cost_coefficient': 1,\n",
    "        'losses': loss_data\n",
    "    },\n",
    "    autodiff_backend='jax',      # {'jax', 'tensorflow', 'autograd'}\n",
    "    optimizer='adam',               # supplied to scipy.minimize\n",
    ")"
   ]
  },
  {
   "cell_type": "code",
   "execution_count": 188,
   "id": "7fc013ae-b546-49f6-8857-6b970edd346a",
   "metadata": {
    "scrolled": true
   },
   "outputs": [
    {
     "name": "stderr",
     "output_type": "stream",
     "text": [
      "  0%|                                                                                                                                                                              | 0/1000 [00:00<?, ?it/s]/Users/kierancooney/.pyenv/versions/num_spt_venv_p11/lib/python3.11/site-packages/quimb/tensor/optimize.py:135: UserWarning: dtype mismatch between input parameter and updated values. This can occur e.g. with jax and double precision arrays (in which case consider setting `jax.config.update(\"jax_enable_x64\", True)` at startup or using single precision parameters directly). For now casting from complex64 to complex128.\n",
      "  warnings.warn(\n",
      "+nan [best: +1021.021911621094] : : 1001it [00:03, 301.86it/s]                                                                                                                                              \n"
     ]
    }
   ],
   "source": [
    "mpo_opt = optmzr.optimize(\n",
    "    1000,\n",
    "    learning_rate=0.000001,\n",
    "    beta1=0.05,\n",
    "    beta2=0.05,\n",
    ")"
   ]
  },
  {
   "cell_type": "code",
   "execution_count": 189,
   "id": "b4419309-cd13-47e0-a9fa-49dd841c08cd",
   "metadata": {
    "scrolled": true
   },
   "outputs": [
    {
     "data": {
      "text/plain": [
       "1"
      ]
     },
     "execution_count": 189,
     "metadata": {},
     "output_type": "execute_result"
    }
   ],
   "source": [
    "len(loss_data)"
   ]
  },
  {
   "cell_type": "markdown",
   "id": "8acead69-f419-4aab-aa4c-10e03abb76bf",
   "metadata": {},
   "source": [
    "But lose loss data for some reason...?"
   ]
  },
  {
   "cell_type": "code",
   "execution_count": 190,
   "id": "7c3de117-1060-4f74-81e7-dde958cd5ded",
   "metadata": {},
   "outputs": [
    {
     "data": {
      "image/png": "[encoded data removed]",
      "text/plain": [
       "<Figure size 800x348.22 with 4 Axes>"
      ]
     },
     "metadata": {
      "needs_background": "light"
     },
     "output_type": "display_data"
    },
    {
     "data": {
      "text/plain": [
       "(<Figure size 800x348.22 with 4 Axes>,\n",
       " array([[<Axes: >, <Axes: >],\n",
       "        [<Axes: xlabel='Iteration (full)'>,\n",
       "         <Axes: xlabel='Iteration (zoom)'>]], dtype=object))"
      ]
     },
     "execution_count": 190,
     "metadata": {},
     "output_type": "execute_result"
    }
   ],
   "source": [
    "optmzr.plot()"
   ]
  },
  {
   "cell_type": "code",
   "execution_count": 191,
   "id": "3cca5a0e-c96e-4509-9002-33d220ec1a84",
   "metadata": {},
   "outputs": [],
   "source": [
    "ml, mr = split_mpo_pair(mpo_opt)"
   ]
  },
  {
   "cell_type": "code",
   "execution_count": 192,
   "id": "e33cb23c-0dc7-4b69-a93b-9c852ab619e6",
   "metadata": {},
   "outputs": [
    {
     "data": {
      "text/plain": [
       "(Array(nan+nanj, dtype=complex64), (nan+nanj), (nan+nanj))"
      ]
     },
     "execution_count": 192,
     "metadata": {},
     "output_type": "execute_result"
    }
   ],
   "source": [
    "(\n",
    "    overlap_loss_function(ml, mr, problem_rdm),\n",
    "    unitarity_tn(ml, total_physical_dim),\n",
    "    unitarity_tn(mr, total_physical_dim),\n",
    ")"
   ]
  },
  {
   "cell_type": "markdown",
   "id": "ceabc976-e60d-44ea-be6b-f383ff89f7a3",
   "metadata": {},
   "source": [
    "## 7"
   ]
  },
  {
   "cell_type": "code",
   "execution_count": 193,
   "id": "4aacf7de-6224-4d8b-b29c-49832890eef2",
   "metadata": {},
   "outputs": [],
   "source": [
    "def overlap_loss_function(ml, mr, rdm_tn, epsilon=0.001):\n",
    "    c = (rdm_tn & ml & mr) ^ ...\n",
    "\n",
    "    c_abs_squared = (\n",
    "        c\n",
    "        *jnp.conjugate(c)\n",
    "    )\n",
    "    #c_abs_squared = c_abs_squared.astype('float32')\n",
    "    c_abs = (jnp.sqrt(c_abs_squared+epsilon))\n",
    "\n",
    "    target = jnp.sqrt(1+epsilon)\n",
    "    loss = (c_abs - target)**2\n",
    "\n",
    "    return loss"
   ]
  },
  {
   "cell_type": "code",
   "execution_count": 194,
   "id": "d5e3e524-607d-471b-a7e0-901a26942403",
   "metadata": {},
   "outputs": [],
   "source": [
    "loss_data=list()"
   ]
  },
  {
   "cell_type": "code",
   "execution_count": 195,
   "id": "15da58c5-71b7-48dd-b119-f74037eebbfb",
   "metadata": {},
   "outputs": [],
   "source": [
    "total_physical_dim = 2**9"
   ]
  },
  {
   "cell_type": "code",
   "execution_count": 196,
   "id": "62581590-8b92-4d67-ac31-f0e148973e18",
   "metadata": {},
   "outputs": [],
   "source": [
    "optmzr = qtn.optimize.TNOptimizer(\n",
    "    mpo,                                # our initial input, the tensors of which to optimize\n",
    "    loss_fn=overall_loss_function,\n",
    "    loss_kwargs={\n",
    "        'rdm_tn': problem_rdm,\n",
    "        'total_physical_dimension': total_physical_dim,\n",
    "        'unitary_cost_coefficient': 1,\n",
    "        'overlap_cost_coefficient': 1,\n",
    "        'losses': loss_data\n",
    "    },\n",
    "    autodiff_backend='jax',      # {'jax', 'tensorflow', 'autograd'}\n",
    "    optimizer='adam',               # supplied to scipy.minimize\n",
    ")"
   ]
  },
  {
   "cell_type": "code",
   "execution_count": 197,
   "id": "f1455d74-e047-4188-9fb5-06e750da7890",
   "metadata": {
    "scrolled": true
   },
   "outputs": [
    {
     "name": "stderr",
     "output_type": "stream",
     "text": [
      "  0%|                                                                                                                                                                              | 0/1000 [00:00<?, ?it/s]/Users/kierancooney/.pyenv/versions/num_spt_venv_p11/lib/python3.11/site-packages/quimb/tensor/optimize.py:135: UserWarning: dtype mismatch between input parameter and updated values. This can occur e.g. with jax and double precision arrays (in which case consider setting `jax.config.update(\"jax_enable_x64\", True)` at startup or using single precision parameters directly). For now casting from complex64 to complex128.\n",
      "  warnings.warn(\n",
      "+3.333772897720 [best: +3.202516794205] : : 1001it [00:03, 303.22it/s]                                                                                                                                      \n"
     ]
    }
   ],
   "source": [
    "mpo_opt = optmzr.optimize(\n",
    "    1000,\n",
    "    learning_rate=0.001,\n",
    "    beta1=0.05,\n",
    "    beta2=0.05,\n",
    ")"
   ]
  },
  {
   "cell_type": "code",
   "execution_count": 198,
   "id": "881f0577-44f5-412e-bb97-049ee5160f73",
   "metadata": {
    "scrolled": true
   },
   "outputs": [
    {
     "data": {
      "text/plain": [
       "1"
      ]
     },
     "execution_count": 198,
     "metadata": {},
     "output_type": "execute_result"
    }
   ],
   "source": [
    "len(loss_data)"
   ]
  },
  {
   "cell_type": "markdown",
   "id": "6b1d4734-798c-490c-a057-acd85554c2f3",
   "metadata": {},
   "source": [
    "But lose loss data for some reason...?"
   ]
  },
  {
   "cell_type": "code",
   "execution_count": 199,
   "id": "63431f5f-5945-4bf8-9d9c-2765555152cc",
   "metadata": {},
   "outputs": [
    {
     "data": {
      "image/png": "[encoded data removed]",
      "text/plain": [
       "<Figure size 800x348.22 with 4 Axes>"
      ]
     },
     "metadata": {
      "needs_background": "light"
     },
     "output_type": "display_data"
    },
    {
     "data": {
      "text/plain": [
       "(<Figure size 800x348.22 with 4 Axes>,\n",
       " array([[<Axes: >, <Axes: >],\n",
       "        [<Axes: xlabel='Iteration (full)'>,\n",
       "         <Axes: xlabel='Iteration (zoom)'>]], dtype=object))"
      ]
     },
     "execution_count": 199,
     "metadata": {},
     "output_type": "execute_result"
    }
   ],
   "source": [
    "optmzr.plot()"
   ]
  },
  {
   "cell_type": "code",
   "execution_count": 200,
   "id": "e64b7b1c-541f-4d22-a118-9aae94fca3a9",
   "metadata": {},
   "outputs": [],
   "source": [
    "ml, mr = split_mpo_pair(mpo_opt)"
   ]
  },
  {
   "cell_type": "code",
   "execution_count": 201,
   "id": "8372b26b-3b5f-40ab-ad6e-e4eda614b203",
   "metadata": {},
   "outputs": [
    {
     "data": {
      "text/plain": [
       "(Array(0.9387228-0.j, dtype=complex64),\n",
       " (1.63775634765625+1.6431302356068045e-05j),\n",
       " (0.757232666015625-1.2501361652539345e-05j))"
      ]
     },
     "execution_count": 201,
     "metadata": {},
     "output_type": "execute_result"
    }
   ],
   "source": [
    "(\n",
    "    overlap_loss_function(ml, mr, problem_rdm),\n",
    "    unitarity_tn(ml, total_physical_dim),\n",
    "    unitarity_tn(mr, total_physical_dim),\n",
    ")"
   ]
  },
  {
   "cell_type": "markdown",
   "id": "34ec1e5d-1b0c-4c1e-a302-bd39a93172df",
   "metadata": {},
   "source": [
    "## 8"
   ]
  },
  {
   "cell_type": "code",
   "execution_count": 203,
   "id": "3fa8f9d5-1546-4b86-86a9-64b06d55c488",
   "metadata": {},
   "outputs": [],
   "source": [
    "def overall_loss_function(mpo_pair, rdm_tn, total_physical_dimension,\n",
    "    unitary_cost_coefficient=1, overlap_cost_coefficient=1, losses=None):\n",
    "    ml, mr = split_mpo_pair(mpo_pair)\n",
    "\n",
    "    o_loss = overlap_loss_function(ml, mr, rdm_tn)\n",
    "    ul_loss = jnp.sqrt(1 + unitarity_tn(ml, total_physical_dimension)) - 1\n",
    "    ur_loss = jnp.sqrt(1 + unitarity_tn(mr, total_physical_dimension)) - 1\n",
    "\n",
    "    out = (\n",
    "        unitary_cost_coefficient*(ul_loss+ur_loss)\n",
    "        + overlap_cost_coefficient*o_loss\n",
    "    )\n",
    "\n",
    "    out = jnp.real(out)\n",
    "\n",
    "    if losses is not None:\n",
    "        losses.append((o_loss, ul_loss, ur_loss))\n",
    "    return out"
   ]
  },
  {
   "cell_type": "code",
   "execution_count": 204,
   "id": "4456247a-7e72-4037-96ca-15c8f7e3ccfb",
   "metadata": {},
   "outputs": [],
   "source": [
    "loss_data=list()"
   ]
  },
  {
   "cell_type": "code",
   "execution_count": 205,
   "id": "7c5c62f1-3cb9-484e-b517-2b0577c22cc8",
   "metadata": {},
   "outputs": [],
   "source": [
    "total_physical_dim = 2**9"
   ]
  },
  {
   "cell_type": "code",
   "execution_count": 206,
   "id": "b27e0f00-3fff-402c-b6c5-a1dc2b47bfcf",
   "metadata": {},
   "outputs": [],
   "source": [
    "optmzr = qtn.optimize.TNOptimizer(\n",
    "    mpo,                                # our initial input, the tensors of which to optimize\n",
    "    loss_fn=overall_loss_function,\n",
    "    loss_kwargs={\n",
    "        'rdm_tn': problem_rdm,\n",
    "        'total_physical_dimension': total_physical_dim,\n",
    "        'unitary_cost_coefficient': 1,\n",
    "        'overlap_cost_coefficient': 10,\n",
    "        'losses': loss_data\n",
    "    },\n",
    "    autodiff_backend='jax',      # {'jax', 'tensorflow', 'autograd'}\n",
    "    optimizer='adam',               # supplied to scipy.minimize\n",
    ")"
   ]
  },
  {
   "cell_type": "code",
   "execution_count": 207,
   "id": "83a9ffdd-226d-4bdb-97c7-43639ce1d862",
   "metadata": {
    "scrolled": true
   },
   "outputs": [
    {
     "name": "stderr",
     "output_type": "stream",
     "text": [
      "  0%|                                                                                                                                                                             | 0/10000 [00:00<?, ?it/s]/Users/kierancooney/.pyenv/versions/num_spt_venv_p11/lib/python3.11/site-packages/quimb/tensor/optimize.py:135: UserWarning: dtype mismatch between input parameter and updated values. This can occur e.g. with jax and double precision arrays (in which case consider setting `jax.config.update(\"jax_enable_x64\", True)` at startup or using single precision parameters directly). For now casting from complex64 to complex128.\n",
      "  warnings.warn(\n",
      "+9.426206588745 [best: +9.426100730896] : : 10001it [00:23, 417.96it/s]                                                                                                                                     \n"
     ]
    }
   ],
   "source": [
    "mpo_opt = optmzr.optimize(\n",
    "    10000,\n",
    "    learning_rate=0.0001,\n",
    "    beta1=0.05,\n",
    "    beta2=0.05,\n",
    ")"
   ]
  },
  {
   "cell_type": "code",
   "execution_count": 208,
   "id": "03db5300-43b7-48f1-aa81-17d059c4f489",
   "metadata": {
    "scrolled": true
   },
   "outputs": [
    {
     "data": {
      "text/plain": [
       "1"
      ]
     },
     "execution_count": 208,
     "metadata": {},
     "output_type": "execute_result"
    }
   ],
   "source": [
    "len(loss_data)"
   ]
  },
  {
   "cell_type": "markdown",
   "id": "ed020e71-eac7-4f84-99ca-5f7f2679fa94",
   "metadata": {},
   "source": [
    "But lose loss data for some reason...?"
   ]
  },
  {
   "cell_type": "code",
   "execution_count": 209,
   "id": "999659da-4885-4f2b-a500-1822a07a325e",
   "metadata": {},
   "outputs": [
    {
     "data": {
      "image/png": "[encoded data removed]",
      "text/plain": [
       "<Figure size 800x348.22 with 4 Axes>"
      ]
     },
     "metadata": {
      "needs_background": "light"
     },
     "output_type": "display_data"
    },
    {
     "data": {
      "text/plain": [
       "(<Figure size 800x348.22 with 4 Axes>,\n",
       " array([[<Axes: >, <Axes: >],\n",
       "        [<Axes: xlabel='Iteration (full)'>,\n",
       "         <Axes: xlabel='Iteration (zoom)'>]], dtype=object))"
      ]
     },
     "execution_count": 209,
     "metadata": {},
     "output_type": "execute_result"
    }
   ],
   "source": [
    "optmzr.plot()"
   ]
  },
  {
   "cell_type": "code",
   "execution_count": 210,
   "id": "a7d0bf2a-e1a4-4b55-a54c-f6acc78802fb",
   "metadata": {},
   "outputs": [],
   "source": [
    "ml, mr = split_mpo_pair(mpo_opt)"
   ]
  },
  {
   "cell_type": "code",
   "execution_count": 211,
   "id": "0f457bd9-58cd-4e65-882a-60e1646761bb",
   "metadata": {},
   "outputs": [
    {
     "data": {
      "text/plain": [
       "(Array(0.9387228-0.j, dtype=complex64),\n",
       " Array(0.05471802, dtype=float32, weak_type=True),\n",
       " Array(0.02435303, dtype=float32, weak_type=True))"
      ]
     },
     "execution_count": 211,
     "metadata": {},
     "output_type": "execute_result"
    }
   ],
   "source": [
    "(\n",
    "    overlap_loss_function(ml, mr, problem_rdm),\n",
    "    unitarity_tn(ml, total_physical_dim),\n",
    "    unitarity_tn(mr, total_physical_dim),\n",
    ")"
   ]
  },
  {
   "cell_type": "markdown",
   "id": "08387319-3ab7-4a18-9b13-83f88ded2943",
   "metadata": {},
   "source": [
    "## 9"
   ]
  },
  {
   "cell_type": "code",
   "execution_count": 212,
   "id": "91a518e5-ad56-45b7-aacd-c9d085788095",
   "metadata": {},
   "outputs": [],
   "source": [
    "loss_data=list()"
   ]
  },
  {
   "cell_type": "code",
   "execution_count": 213,
   "id": "fad32626-7432-408d-a695-52dbbcf7230b",
   "metadata": {},
   "outputs": [],
   "source": [
    "total_physical_dim = 2**9"
   ]
  },
  {
   "cell_type": "code",
   "execution_count": 214,
   "id": "a4bde5e5-ab12-46db-8578-70fcdc781d46",
   "metadata": {},
   "outputs": [],
   "source": [
    "optmzr = qtn.optimize.TNOptimizer(\n",
    "    mpo,                                # our initial input, the tensors of which to optimize\n",
    "    loss_fn=overall_loss_function,\n",
    "    loss_kwargs={\n",
    "        'rdm_tn': problem_rdm,\n",
    "        'total_physical_dimension': total_physical_dim,\n",
    "        'unitary_cost_coefficient': 1,\n",
    "        'overlap_cost_coefficient': 100,\n",
    "        'losses': loss_data\n",
    "    },\n",
    "    autodiff_backend='jax',      # {'jax', 'tensorflow', 'autograd'}\n",
    "    optimizer='adam',               # supplied to scipy.minimize\n",
    ")"
   ]
  },
  {
   "cell_type": "code",
   "execution_count": 215,
   "id": "4dcc4bbc-6a37-44ce-9ff8-a3b25e146315",
   "metadata": {
    "scrolled": true
   },
   "outputs": [
    {
     "name": "stderr",
     "output_type": "stream",
     "text": [
      "  0%|                                                                                                                                                                             | 0/10000 [00:00<?, ?it/s]/Users/kierancooney/.pyenv/versions/num_spt_venv_p11/lib/python3.11/site-packages/quimb/tensor/optimize.py:135: UserWarning: dtype mismatch between input parameter and updated values. This can occur e.g. with jax and double precision arrays (in which case consider setting `jax.config.update(\"jax_enable_x64\", True)` at startup or using single precision parameters directly). For now casting from complex64 to complex128.\n",
      "  warnings.warn(\n",
      "+93.874626159668 [best: +93.873588562012] : : 10001it [00:24, 413.19it/s]                                                                                                                                   \n"
     ]
    }
   ],
   "source": [
    "mpo_opt = optmzr.optimize(\n",
    "    10000,\n",
    "    learning_rate=0.0001,\n",
    "    beta1=0.5,\n",
    "    beta2=0.5,\n",
    ")"
   ]
  },
  {
   "cell_type": "code",
   "execution_count": 216,
   "id": "3b825091-0d74-40a9-82a7-68152391772a",
   "metadata": {
    "scrolled": true
   },
   "outputs": [
    {
     "data": {
      "text/plain": [
       "1"
      ]
     },
     "execution_count": 216,
     "metadata": {},
     "output_type": "execute_result"
    }
   ],
   "source": [
    "len(loss_data)"
   ]
  },
  {
   "cell_type": "markdown",
   "id": "32f189f6-9815-4f46-80c1-f2e66cf342b4",
   "metadata": {},
   "source": [
    "But lose loss data for some reason...?"
   ]
  },
  {
   "cell_type": "code",
   "execution_count": 217,
   "id": "3662cc8c-bbd8-49a7-aedd-973a893ce355",
   "metadata": {},
   "outputs": [
    {
     "data": {
      "image/png": "[encoded data removed]",
      "text/plain": [
       "<Figure size 800x348.22 with 4 Axes>"
      ]
     },
     "metadata": {
      "needs_background": "light"
     },
     "output_type": "display_data"
    },
    {
     "data": {
      "text/plain": [
       "(<Figure size 800x348.22 with 4 Axes>,\n",
       " array([[<Axes: >, <Axes: >],\n",
       "        [<Axes: xlabel='Iteration (full)'>,\n",
       "         <Axes: xlabel='Iteration (zoom)'>]], dtype=object))"
      ]
     },
     "execution_count": 217,
     "metadata": {},
     "output_type": "execute_result"
    }
   ],
   "source": [
    "optmzr.plot()"
   ]
  },
  {
   "cell_type": "code",
   "execution_count": 218,
   "id": "04c522f5-44a0-4568-89da-196b9cd7fb8c",
   "metadata": {},
   "outputs": [],
   "source": [
    "ml, mr = split_mpo_pair(mpo_opt)"
   ]
  },
  {
   "cell_type": "code",
   "execution_count": 219,
   "id": "d80be83f-42b3-45a6-b6db-2f1a53c8754c",
   "metadata": {},
   "outputs": [
    {
     "data": {
      "text/plain": [
       "(Array(0.9387228-0.j, dtype=complex64),\n",
       " Array(0.00216675, dtype=float32, weak_type=True),\n",
       " Array(0.00219727, dtype=float32, weak_type=True))"
      ]
     },
     "execution_count": 219,
     "metadata": {},
     "output_type": "execute_result"
    }
   ],
   "source": [
    "(\n",
    "    overlap_loss_function(ml, mr, problem_rdm),\n",
    "    unitarity_tn(ml, total_physical_dim),\n",
    "    unitarity_tn(mr, total_physical_dim),\n",
    ")"
   ]
  },
  {
   "cell_type": "markdown",
   "id": "afa08962-fd99-4da1-92c6-8e97698d1c44",
   "metadata": {},
   "source": [
    "Convering to the same solution everytime, so need random initialization. It's definitely better though."
   ]
  },
  {
   "cell_type": "markdown",
   "id": "f0469479-dfb1-4160-91bd-f141e8248ac1",
   "metadata": {},
   "source": [
    "# Conclusion\n",
    "\n",
    "It's working! Need to implement random hyperparameters and initialization."
   ]
  },
  {
   "cell_type": "code",
   "execution_count": null,
   "id": "bda4362f-15a3-4324-b396-ac649ca6a10d",
   "metadata": {},
   "outputs": [],
   "source": []
  }
 ],
 "metadata": {
  "kernelspec": {
   "display_name": "num_spt_venv_p11",
   "language": "python",
   "name": "num_spt_venv_p11"
  },
  "language_info": {
   "codemirror_mode": {
    "name": "ipython",
    "version": 3
   },
   "file_extension": ".py",
   "mimetype": "text/x-python",
   "name": "python",
   "nbconvert_exporter": "python",
   "pygments_lexer": "ipython3",
   "version": "3.11.9"
  }
 },
 "nbformat": 4,
 "nbformat_minor": 5
}
