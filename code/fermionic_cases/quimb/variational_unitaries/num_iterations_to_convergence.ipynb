{
 "cells": [
  {
   "cell_type": "markdown",
   "id": "6a2dac7f-2bbc-4993-8a37-4dc5bd7c4f33",
   "metadata": {},
   "source": [
    "# Num iterations to convergence\n",
    "Created 02/10/2025\n",
    "\n",
    "Objectives:\n",
    "* Just run the algorithms a number of times to characterise how many iterations it takes until convergence."
   ]
  },
  {
   "cell_type": "markdown",
   "id": "725eaa22-d2a4-40d8-9a97-ad5bd49becb7",
   "metadata": {},
   "source": [
    "# Package imports"
   ]
  },
  {
   "cell_type": "code",
   "execution_count": 1,
   "id": "ecb41ea3-927f-4efa-aebe-ce15784aa037",
   "metadata": {},
   "outputs": [],
   "source": [
    "import sys"
   ]
  },
  {
   "cell_type": "code",
   "execution_count": 2,
   "id": "0375bd38-12e1-417a-908a-13fb540081f5",
   "metadata": {},
   "outputs": [],
   "source": [
    "sys.path.append(\"../../../\")"
   ]
  },
  {
   "cell_type": "code",
   "execution_count": 54,
   "id": "0cf49837-01b6-431a-b570-d7ed25903239",
   "metadata": {},
   "outputs": [],
   "source": [
    "import time\n",
    "from itertools import chain\n",
    "import re\n",
    "\n",
    "from collections import (\n",
    "    Counter,\n",
    "    namedtuple,\n",
    "    defaultdict\n",
    ")"
   ]
  },
  {
   "cell_type": "code",
   "execution_count": 4,
   "id": "f59344b7-d34e-47e4-99be-f5a2687f8176",
   "metadata": {},
   "outputs": [],
   "source": [
    "import h5py\n",
    "from tenpy.tools import hdf5_io\n",
    "import tenpy\n",
    "import tenpy.linalg.np_conserved as npc\n",
    "\n",
    "import os\n",
    "import pickle"
   ]
  },
  {
   "cell_type": "code",
   "execution_count": 50,
   "id": "19404619-d778-4cc3-8ee1-1db6f14b2043",
   "metadata": {},
   "outputs": [
    {
     "name": "stdout",
     "output_type": "stream",
     "text": [
      "The history saving thread hit an unexpected error (OperationalError('attempt to write a readonly database')).History will not be written to the database.\n"
     ]
    }
   ],
   "source": [
    "import pandas as pd\n",
    "import numpy as np\n",
    "import jax.numpy as jnp\n",
    "\n",
    "import matplotlib.pyplot as plt"
   ]
  },
  {
   "cell_type": "code",
   "execution_count": 6,
   "id": "92eeb066-5463-4237-ad07-3c5a0d934f4f",
   "metadata": {},
   "outputs": [
    {
     "name": "stderr",
     "output_type": "stream",
     "text": [
      "/Users/kierancooney/.pyenv/versions/num_spt_venv_p11/lib/python3.11/site-packages/cotengra/hyperoptimizers/hyper.py:54: UserWarning: Couldn't find `optuna`, `cmaes`, or `nevergrad` so will use completely random sampling in place of hyper-optimization.\n",
      "  warnings.warn(\n",
      "/Users/kierancooney/.pyenv/versions/num_spt_venv_p11/lib/python3.11/site-packages/cotengra/hyperoptimizers/hyper.py:36: UserWarning: Couldn't import `kahypar` - skipping from default hyper optimizer and using basic `labels` method instead.\n",
      "  warnings.warn(\n",
      "/Users/kierancooney/.pyenv/versions/num_spt_venv_p11/lib/python3.11/site-packages/cotengra/hyperoptimizers/hyper.py:73: UserWarning: Couldn't find `optuna`, `cmaes`, or `nevergrad` so will use completely random sampling in place of hyper-optimization.\n",
      "  warnings.warn(\n"
     ]
    }
   ],
   "source": [
    "import quimb as qu\n",
    "import quimb.tensor as qtn\n",
    "from quimb.tensor.optimize import TNOptimizer"
   ]
  },
  {
   "cell_type": "code",
   "execution_count": 7,
   "id": "aab2ee8d-69f2-4df5-a614-446f140b5adb",
   "metadata": {},
   "outputs": [],
   "source": [
    "from SPTOptimization.SymmetryActionWithBoundaryUnitaries import SymmetryActionWithBoundaryUnitaries\n",
    "\n",
    "from SPTOptimization.utils import (\n",
    "    to_npc_array,\n",
    "    get_right_identity_environment,\n",
    "    get_right_identity_environment_from_tp_tensor,\n",
    "    multiply_stacked_unitaries_against_mps,\n",
    "    inner_product_b_tensors,\n",
    "    get_npc_identity_operator\n",
    ")\n",
    "\n",
    "from SPTOptimization.Optimizers.MPSBrickSolver import(\n",
    "    MPSBrickSolver\n",
    ")"
   ]
  },
  {
   "cell_type": "markdown",
   "id": "71c44d61-9279-4312-9ba8-6f07fe68bf65",
   "metadata": {},
   "source": [
    "# Load data"
   ]
  },
  {
   "cell_type": "code",
   "execution_count": 11,
   "id": "33930d4e-7b40-4501-80f9-4561ae4cfc18",
   "metadata": {},
   "outputs": [],
   "source": [
    "DATA_DIR_1 = r\"../../../data/interpolated_trivial_to_nontrivial_fermionic_trivial_proj_rep_200_site_dmrg/\"\n",
    "DATA_DIR_2 = r\"../../../data/interpolated_nontrivial_fermionic_proj_rep_to_nontrivial_proj_rep_200_site_dmrg/\""
   ]
  },
  {
   "cell_type": "code",
   "execution_count": 12,
   "id": "548b4b7e-29d5-42e9-b85a-daf88e0e31fa",
   "metadata": {},
   "outputs": [],
   "source": [
    "def parse_file_name(file_name):\n",
    "    interpolation = int(file_name.split('_')[0])/100\n",
    "\n",
    "    return interpolation"
   ]
  },
  {
   "cell_type": "code",
   "execution_count": 13,
   "id": "cbae0561-94d0-45e2-a6f6-d476a1a9f37d",
   "metadata": {},
   "outputs": [],
   "source": [
    "loaded_data_triv_proj_rep = dict()\n",
    "energies_triv_proj_rep = dict()\n",
    "\n",
    "for local_file_name in list(os.walk(DATA_DIR_1))[0][2]:\n",
    "    f_name = r\"{}/{}\".format(DATA_DIR_1, local_file_name, ignore_unknown=False)\n",
    "\n",
    "    with h5py.File(f_name, 'r') as f:\n",
    "        data = hdf5_io.load_from_hdf5(f)\n",
    "\n",
    "        data_info = parse_file_name(local_file_name)\n",
    "        loaded_data_triv_proj_rep[data_info]=data['wavefunction']\n",
    "        energies_triv_proj_rep[data_info]=data['energy']"
   ]
  },
  {
   "cell_type": "code",
   "execution_count": 14,
   "id": "9f2377ea-9516-4aed-8b28-deb093aa4dc2",
   "metadata": {},
   "outputs": [],
   "source": [
    "loaded_data_non_triv_proj_rep = dict()\n",
    "energies_non_triv_proj_rep = dict()\n",
    "\n",
    "for local_file_name in list(os.walk(DATA_DIR_2))[0][2]:\n",
    "    f_name = r\"{}/{}\".format(DATA_DIR_2, local_file_name, ignore_unknown=False)\n",
    "\n",
    "    with h5py.File(f_name, 'r') as f:\n",
    "        data = hdf5_io.load_from_hdf5(f)\n",
    "\n",
    "        data_info = parse_file_name(local_file_name)\n",
    "        loaded_data_non_triv_proj_rep[data_info]=data['wavefunction']\n",
    "        energies_non_triv_proj_rep[data_info]=data['energy']"
   ]
  },
  {
   "cell_type": "code",
   "execution_count": 17,
   "id": "84048b83-5055-4b1d-a6fb-499ce7689a8e",
   "metadata": {},
   "outputs": [
    {
     "data": {
      "text/plain": [
       "Counter({('vL', 'p', 'vR'): 4200})"
      ]
     },
     "execution_count": 17,
     "metadata": {},
     "output_type": "execute_result"
    }
   ],
   "source": [
    "Counter(\n",
    "    tuple(psi.get_B(i).get_leg_labels())\n",
    "    for psi in loaded_data_triv_proj_rep.values()\n",
    "    for i in range(psi.L)\n",
    ")"
   ]
  },
  {
   "cell_type": "code",
   "execution_count": 18,
   "id": "1c2e5127-c2b9-4a51-bfe2-3443a0ef1fc1",
   "metadata": {},
   "outputs": [
    {
     "data": {
      "text/plain": [
       "Counter({('vL', 'p', 'vR'): 4200})"
      ]
     },
     "execution_count": 18,
     "metadata": {},
     "output_type": "execute_result"
    }
   ],
   "source": [
    "Counter(\n",
    "    tuple(psi.get_B(i).get_leg_labels())\n",
    "    for psi in loaded_data_non_triv_proj_rep.values()\n",
    "    for i in range(psi.L)\n",
    ")"
   ]
  },
  {
   "cell_type": "markdown",
   "id": "c63383d4-bbde-443a-92a9-97b613c0d54b",
   "metadata": {},
   "source": [
    "# Definitions"
   ]
  },
  {
   "cell_type": "code",
   "execution_count": 19,
   "id": "63506364-f535-4c0f-8c5f-8839c69f7b9d",
   "metadata": {},
   "outputs": [],
   "source": [
    "MAX_VIRTUAL_BOND_DIM = 30\n",
    "MAX_INTERMEDIATE_VIRTUAL_BOND_DIM = 2*MAX_VIRTUAL_BOND_DIM\n",
    "# MPO bond dim?\n",
    "MAX_MPO_BOND_DIM = 50\n",
    "\n",
    "SVD_CUTOFF = 1e-3"
   ]
  },
  {
   "cell_type": "markdown",
   "id": "c9679d2e-f62b-49d4-b673-5605cae8d790",
   "metadata": {},
   "source": [
    "Define bosonic symmetries. Label by the group element added."
   ]
  },
  {
   "cell_type": "code",
   "execution_count": 20,
   "id": "513d7288-c641-4071-a4a3-652787d1f98c",
   "metadata": {},
   "outputs": [],
   "source": [
    "np_00 = np.array([\n",
    "    [1, 0, 0, 0],\n",
    "    [0, 1, 0, 0],\n",
    "    [0, 0, 1, 0],\n",
    "    [0, 0, 0, 1]\n",
    "])\n",
    "\n",
    "np_01 = np.array([\n",
    "    [0, 1, 0, 0],\n",
    "    [1, 0, 0, 0],\n",
    "    [0, 0, 0, 1],\n",
    "    [0, 0, 1, 0]\n",
    "])\n",
    "\n",
    "np_10 = np.array([\n",
    "    [0, 0, 1, 0],\n",
    "    [0, 0, 0, 1],\n",
    "    [1, 0, 0, 0],\n",
    "    [0, 1, 0, 0]\n",
    "])\n",
    "\n",
    "np_11 = np.array([\n",
    "    [0, 0, 0, 1],\n",
    "    [0, 0, 1, 0],\n",
    "    [0, 1, 0, 0],\n",
    "    [1, 0, 0, 0]\n",
    "])"
   ]
  },
  {
   "cell_type": "code",
   "execution_count": 21,
   "id": "c83907c6-e86f-48af-a2a1-11b250f47e84",
   "metadata": {},
   "outputs": [],
   "source": [
    "bosonic_np_symmetries = [\n",
    "    np_00,\n",
    "    np_01,\n",
    "    np_10,\n",
    "    np_11\n",
    "]"
   ]
  },
  {
   "cell_type": "code",
   "execution_count": 22,
   "id": "fd7c7309-10ee-4834-b153-9a4121462fca",
   "metadata": {},
   "outputs": [],
   "source": [
    "bosonic_npc_symmetries = [\n",
    "    to_npc_array(X) for X in bosonic_np_symmetries\n",
    "]"
   ]
  },
  {
   "cell_type": "code",
   "execution_count": 23,
   "id": "2a78a62e-37eb-4baf-98ba-d6a94d599bec",
   "metadata": {},
   "outputs": [],
   "source": [
    "npc_00 = to_npc_array(np_00)\n",
    "npc_01 = to_npc_array(np_01)\n",
    "npc_10 = to_npc_array(np_10)\n",
    "npc_11 = to_npc_array(np_11)"
   ]
  },
  {
   "cell_type": "markdown",
   "id": "bb68729b-fad7-49ba-9d63-6598a3fce312",
   "metadata": {},
   "source": [
    "Define \"fermionic symmetries\". Just identity and JW string."
   ]
  },
  {
   "cell_type": "code",
   "execution_count": 24,
   "id": "a1c64bf0-4b2e-4492-b242-3dae6eb527c3",
   "metadata": {},
   "outputs": [],
   "source": [
    "np_I = np.array([\n",
    "    [1, 0],\n",
    "    [0, 1]\n",
    "])\n",
    "\n",
    "np_JW = np.array([\n",
    "    [1, 0],\n",
    "    [0, -1]\n",
    "])"
   ]
  },
  {
   "cell_type": "code",
   "execution_count": 25,
   "id": "e595ca13-740a-41a3-a658-8831c8f54323",
   "metadata": {},
   "outputs": [],
   "source": [
    "fermionic_np_symmetries = [np_I, np_JW]"
   ]
  },
  {
   "cell_type": "code",
   "execution_count": 26,
   "id": "6e5b6ad0-2496-4072-afe9-c41fc62da40e",
   "metadata": {},
   "outputs": [],
   "source": [
    "fermionic_npc_symmetries = [\n",
    "    to_npc_array(X) for X in fermionic_np_symmetries\n",
    "]"
   ]
  },
  {
   "cell_type": "code",
   "execution_count": 27,
   "id": "a2b43b48-e438-4702-8287-f5d27fc47f7b",
   "metadata": {},
   "outputs": [],
   "source": [
    "npc_JW = fermionic_npc_symmetries[1]"
   ]
  },
  {
   "cell_type": "code",
   "execution_count": 28,
   "id": "b9e2f954-c591-4479-ba37-32862c25c660",
   "metadata": {},
   "outputs": [],
   "source": [
    "symmetry_actions = [\n",
    "    [[b, f] for b in bosonic_np_symmetries]\n",
    "    for f in fermionic_np_symmetries\n",
    "]"
   ]
  },
  {
   "cell_type": "code",
   "execution_count": 29,
   "id": "8c945b86-cec1-4b08-930f-1922b7e1bea6",
   "metadata": {},
   "outputs": [],
   "source": [
    "shifted_symmetry_actions = [\n",
    "    [[f, b] for b in bosonic_np_symmetries]\n",
    "    for f in fermionic_np_symmetries\n",
    "]"
   ]
  },
  {
   "cell_type": "code",
   "execution_count": 31,
   "id": "608e2be7-7003-4d86-8bdc-bb7519c6c30c",
   "metadata": {},
   "outputs": [],
   "source": [
    "def generate_problem_rdm(quimb_psi, symmetry_site_pairs, leftmost_symmetry_site,\n",
    "                         num_symmetry_sites, num_boundary_sites):\n",
    "    q_top = quimb_psi.copy(deep=True)\n",
    "    for i, s in symmetry_site_pairs:\n",
    "        q_top.gate(\n",
    "            s,\n",
    "            where=i,\n",
    "            contract=False,\n",
    "            inplace=True\n",
    "        )\n",
    "    \n",
    "    indices_to_map = list(chain(\n",
    "        range(leftmost_symmetry_site-num_boundary_sites, leftmost_symmetry_site),\n",
    "        range(leftmost_symmetry_site+num_symmetry_sites, leftmost_symmetry_site+num_symmetry_sites+num_boundary_sites)\n",
    "    ))\n",
    "\n",
    "    index_mapping = {f'k{i}': f'b{i}' for i in indices_to_map}\n",
    "\n",
    "    q_bottom = (\n",
    "        quimb_psi\n",
    "        .copy()\n",
    "        .reindex(index_mapping, inplace=True)\n",
    "        .conj()\n",
    "    )\n",
    "\n",
    "    sites_to_contract = {\n",
    "        'left': list(range(leftmost_symmetry_site-num_boundary_sites)),\n",
    "        'middle': list(range(leftmost_symmetry_site, leftmost_symmetry_site+num_symmetry_sites)),\n",
    "        'right': list(range(leftmost_symmetry_site+num_symmetry_sites+num_boundary_sites, quimb_psi.L))\n",
    "    }\n",
    "\n",
    "    tags_to_contract = {\n",
    "        k: [f'I{i}' for i in v]\n",
    "        for k, v in sites_to_contract.items()\n",
    "    }\n",
    "\n",
    "    tn = (q_top & q_bottom)\n",
    "\n",
    "    tnc = (\n",
    "        tn\n",
    "        .contract(tags_to_contract['left'])\n",
    "        .contract(tags_to_contract['middle'])\n",
    "        .contract(tags_to_contract['right'])\n",
    "    )\n",
    "\n",
    "    # Expand the d=4 qudit sites into 2 qubits.\n",
    "    even_left_sites = [\n",
    "        i for i in range(leftmost_symmetry_site - num_boundary_sites, leftmost_symmetry_site)\n",
    "        if (i % 2 == 0)\n",
    "    ]\n",
    "\n",
    "    even_right_sites = [\n",
    "        i for i in range(\n",
    "            leftmost_symmetry_site + num_symmetry_sites,\n",
    "            leftmost_symmetry_site+num_symmetry_sites+num_boundary_sites\n",
    "        )\n",
    "        if (i % 2 == 0)\n",
    "    ]\n",
    "\n",
    "    for s in ['k', 'b']:\n",
    "        left_sites = [even_left_sites[0], even_right_sites[0]]\n",
    "        for i in left_sites:\n",
    "\n",
    "            t = tnc.tensor_map[list(tnc.ind_map[f'{s}{i}'])[0]]\n",
    "            tr = tnc.tensor_map[list(tnc.ind_map[f'{s}{i+1}'])[0]]\n",
    "            vr = [\n",
    "                ind for ind in t.inds if ind in tr.inds\n",
    "            ][0]\n",
    "            vl = [\n",
    "                ind for ind in t.inds\n",
    "                if ind not in [vr, f'{s}{i}']\n",
    "            ]\n",
    "        \n",
    "            t.unfuse(\n",
    "                {f'{s}{i}': [f'{s}{i}-0', f'{s}{i}-1']},\n",
    "                {f'{s}{i}': [2, 2]},\n",
    "                inplace=True\n",
    "            )\n",
    "\n",
    "            #t.split([f'{s}{i}-0', vl])\n",
    "\n",
    "        right_sites = [even_left_sites[-1], even_right_sites[-1]]\n",
    "        for i in right_sites:\n",
    "\n",
    "            t = tnc.tensor_map[list(tnc.ind_map[f'{s}{i}'])[0]]\n",
    "            tl = tnc.tensor_map[list(tnc.ind_map[f'{s}{i-1}'])[0]]\n",
    "            vl = [\n",
    "                ind for ind in t.inds if ind in tl.inds\n",
    "            ][0]\n",
    "        \n",
    "            t.unfuse(\n",
    "                {f'{s}{i}': [f'{s}{i}-0', f'{s}{i}-1']},\n",
    "                {f'{s}{i}': [2, 2]},\n",
    "                inplace=True\n",
    "            )\n",
    "\n",
    "            #t.split([f'{s}{i}-0', vl])\n",
    "\n",
    "        inner_sites = [\n",
    "            *even_left_sites[1:-1],\n",
    "            *even_right_sites[1:-1]\n",
    "        ]\n",
    "\n",
    "        for i in inner_sites:\n",
    "\n",
    "            t = tnc.tensor_map[list(tnc.ind_map[f'{s}{i}'])[0]]\n",
    "            tl = tnc.tensor_map[list(tnc.ind_map[f'{s}{i-1}'])[0]]\n",
    "            vl = [\n",
    "                ind for ind in t.inds\n",
    "                if ind not in [vr, f'{s}{i}']\n",
    "            ]\n",
    "        \n",
    "            t.unfuse(\n",
    "                {f'{s}{i}': [f'{s}{i}-0', f'{s}{i}-1']},\n",
    "                {f'{s}{i}': [2, 2]},\n",
    "                inplace=True\n",
    "            )\n",
    "\n",
    "            #t.split([f'{s}{i}-0', vl])\n",
    "        \n",
    "    return tnc"
   ]
  },
  {
   "cell_type": "markdown",
   "id": "56525c31-f37b-4245-b2ec-82185feed908",
   "metadata": {},
   "source": [
    "## Optimisation functions"
   ]
  },
  {
   "cell_type": "code",
   "execution_count": 32,
   "id": "636e19bb-bf5a-4222-b655-736dcf37a4e8",
   "metadata": {},
   "outputs": [],
   "source": [
    "def loss(circ_pair, problem_rdm):\n",
    "    c = (problem_rdm & circ_pair)^...\n",
    "\n",
    "    c_abs_squared = (\n",
    "        c\n",
    "        *jnp.conjugate(c)\n",
    "    )\n",
    "    c_abs_squared = jnp.real(c_abs_squared)\n",
    "\n",
    "    out = 1-c_abs_squared\n",
    "\n",
    "    return out"
   ]
  },
  {
   "cell_type": "markdown",
   "id": "3cd09702-7733-4316-bde1-746c6866a509",
   "metadata": {},
   "source": [
    "## Gate functions"
   ]
  },
  {
   "cell_type": "code",
   "execution_count": 33,
   "id": "8698c005-aed2-47bb-9822-53c8a1147b90",
   "metadata": {},
   "outputs": [],
   "source": [
    "def single_qubit_layer(circ, gate_round=None):\n",
    "    \"\"\"Apply a parametrizable layer of single qubit ``U3`` gates.\n",
    "    \"\"\"\n",
    "    for i in range(circ.N):\n",
    "        # initialize with random parameters\n",
    "        params = qu.randn(3, dist='uniform')\n",
    "        circ.apply_gate(\n",
    "            'U3',\n",
    "            *params,\n",
    "            i,\n",
    "            gate_round=gate_round,\n",
    "            parametrize=True\n",
    "        )"
   ]
  },
  {
   "cell_type": "code",
   "execution_count": 34,
   "id": "ff171d0e-3098-4c9a-92ae-004bb2ded616",
   "metadata": {},
   "outputs": [],
   "source": [
    "def two_qubit_layer(circ, gate2='CZ', start=0, gate_round=None):\n",
    "    \"\"\"Apply a layer of constant entangling gates.\n",
    "    \"\"\"\n",
    "    num_sites = circ.N # Assuming this is even\n",
    "    sites = [\n",
    "        i % num_sites\n",
    "        for i in range(start, start + num_sites)\n",
    "    ]\n",
    "    \n",
    "    site_pairs = list(zip(sites[::2], sites[1::2]))\n",
    "\n",
    "    for i, j in site_pairs:\n",
    "        circ.apply_gate(\n",
    "            gate2,\n",
    "            i,\n",
    "            j,\n",
    "            gate_round=gate_round\n",
    "        )\n",
    "\n",
    "    if (num_sites % 2) == 1:\n",
    "        circ.apply_gate(\n",
    "            gate2,\n",
    "            sites[0],\n",
    "            sites[-1],\n",
    "            gate_round=gate_round\n",
    "        )"
   ]
  },
  {
   "cell_type": "code",
   "execution_count": 35,
   "id": "1f7f3dad-adf6-43cf-b57f-51c38330401e",
   "metadata": {},
   "outputs": [],
   "source": [
    "def ansatz_circuit(n, depth, first_site=0, gate2='CZ', gate_tag=None,\n",
    "                   **kwargs):\n",
    "    \"\"\"Construct a circuit of single qubit and entangling layers.\n",
    "    \"\"\"\n",
    "    circ = qtn.Circuit(n, **kwargs)\n",
    "\n",
    "    for r in range(depth):\n",
    "        # single qubit gate layer\n",
    "        single_qubit_layer(circ, gate_round=r)\n",
    "\n",
    "        # alternate between forward and backward CZ layers\n",
    "        two_qubit_layer(\n",
    "            circ, gate2=gate2, gate_round=r, start=r % 2)\n",
    "\n",
    "    # add a final single qubit layer\n",
    "    single_qubit_layer(circ, gate_round=r + 1)\n",
    "\n",
    "    circ = circ.uni\n",
    "\n",
    "    no_labels_index_map = dict()\n",
    "\n",
    "    old_site = 0\n",
    "    new_site = first_site\n",
    "\n",
    "    while old_site < n:\n",
    "        if (new_site % 2) == 0:\n",
    "            no_labels_index_map[f'{old_site}'] = f'{new_site}-0'\n",
    "            no_labels_index_map[f'{old_site+1}'] = f'{new_site}-1'\n",
    "            old_site += 2\n",
    "        else:\n",
    "            no_labels_index_map[f'{old_site}'] = f'{new_site}'\n",
    "            old_site += 1\n",
    "        new_site += 1\n",
    "\n",
    "    assert old_site == n\n",
    "    \n",
    "    if gate_tag is not None:\n",
    "        for t in circ.tensors:\n",
    "            t.add_tag(gate_tag)\n",
    "\n",
    "    index_labels = ['k', 'b']\n",
    "\n",
    "    # Include labels in map\n",
    "    index_map = {\n",
    "        f'{l}{k}': f'{l}{v}'\n",
    "        for k, v in no_labels_index_map.items()\n",
    "        for l in index_labels\n",
    "    }\n",
    "\n",
    "    circ.reindex(index_map, inplace=True)\n",
    "\n",
    "    return circ"
   ]
  },
  {
   "cell_type": "code",
   "execution_count": 36,
   "id": "84687474-a561-4d60-b4ad-62c2bd89dbb3",
   "metadata": {},
   "outputs": [],
   "source": [
    "def ansatz_circuit_pair(leftmost_symmetry_site,\n",
    "    num_symmetry_sites, num_boundary_sites, depth,\n",
    "    gate2='CZ', **kwargs):\n",
    "    \"\"\"Construct a circuit of single qubit and entangling layers.\n",
    "    \"\"\"\n",
    "    left_start_site = leftmost_symmetry_site-num_boundary_sites\n",
    "    right_start_site = leftmost_symmetry_site+num_symmetry_sites\n",
    "\n",
    "    left_num_expanded_boundary_sites = sum(\n",
    "        2 if (i % 2 == 0) else 1\n",
    "        for i in range(left_start_site, left_start_site + num_boundary_sites)\n",
    "    )\n",
    "\n",
    "    left_circuit = ansatz_circuit(\n",
    "        left_num_expanded_boundary_sites,\n",
    "        depth,\n",
    "        first_site=left_start_site,\n",
    "        gate2=gate2,\n",
    "        gate_tag='left',\n",
    "        **kwargs\n",
    "    )\n",
    "\n",
    "    right_num_expanded_boundary_sites = sum(\n",
    "        2 if (i % 2 == 0) else 1\n",
    "        for i in range(right_start_site, right_start_site + num_boundary_sites)\n",
    "    )\n",
    "\n",
    "    right_circuit = ansatz_circuit(\n",
    "        right_num_expanded_boundary_sites,\n",
    "        depth,\n",
    "        first_site=right_start_site,\n",
    "        gate2=gate2,\n",
    "        gate_tag='right',\n",
    "        **kwargs\n",
    "    )\n",
    "\n",
    "    circ_pair = (left_circuit & right_circuit)\n",
    "\n",
    "    return circ_pair"
   ]
  },
  {
   "cell_type": "code",
   "execution_count": 37,
   "id": "ae681198-501d-4ae3-b97c-9a9ab053a2d9",
   "metadata": {},
   "outputs": [],
   "source": [
    "def split_circ_pair(circ_pair):\n",
    "    left_circuit = qtn.TensorNetwork(\n",
    "        list(map(circ_pair.tensor_map.__getitem__, circ_pair.tag_map['left']))\n",
    "    )\n",
    "\n",
    "    right_circuit = qtn.TensorNetwork(\n",
    "        list(map(circ_pair.tensor_map.__getitem__, circ_pair.tag_map['right']))\n",
    "    )\n",
    "\n",
    "    return (left_circuit, right_circuit)"
   ]
  },
  {
   "cell_type": "markdown",
   "id": "9e2c2ae4-d684-4e44-82da-ee7e76217521",
   "metadata": {},
   "source": [
    "# Single case"
   ]
  },
  {
   "cell_type": "code",
   "execution_count": 39,
   "id": "5f786e8f-296d-4b98-9873-459dc1341f51",
   "metadata": {},
   "outputs": [],
   "source": [
    "num_boundary_sites=4\n",
    "depth=6\n",
    "left_most_symmetry_site=60\n",
    "num_symmetry_sites=80\n",
    "bond_dimension=6\n",
    "\n",
    "total_physical_dim = 2**6"
   ]
  },
  {
   "cell_type": "code",
   "execution_count": 38,
   "id": "97647b69-7b68-47b7-b859-4fd88659234c",
   "metadata": {},
   "outputs": [],
   "source": [
    "psi = loaded_data_non_triv_proj_rep[0.45]"
   ]
  },
  {
   "cell_type": "code",
   "execution_count": 40,
   "id": "816f2085-8d0e-41ab-b534-e6432e63db8f",
   "metadata": {},
   "outputs": [],
   "source": [
    "mps_psi = psi"
   ]
  },
  {
   "cell_type": "code",
   "execution_count": 41,
   "id": "1598a583-885c-4268-bdea-ba4ba1774b88",
   "metadata": {},
   "outputs": [],
   "source": [
    "psi_arrays = list()\n",
    "psi_arrays.append(mps_psi.get_B(0, 'Th')[0, ...].to_ndarray())\n",
    "for i in range(1, mps_psi.L-1):\n",
    "    psi_arrays.append(mps_psi.get_B(i).to_ndarray())\n",
    "psi_arrays.append(mps_psi.get_B(mps_psi.L-1)[..., 0].to_ndarray())\n",
    "\n",
    "q1 = (\n",
    "    qtn\n",
    "    .tensor_1d\n",
    "    .MatrixProductState(psi_arrays, shape='lpr')\n",
    ")"
   ]
  },
  {
   "cell_type": "code",
   "execution_count": 43,
   "id": "53f70cec-d5d9-4312-ad09-fd3eab0321cc",
   "metadata": {},
   "outputs": [],
   "source": [
    "symms = symmetry_actions[1][1]\n",
    "\n",
    "symmetry_site_pairs = (\n",
    "    [(i, symms[0]) for i in range(left_most_symmetry_site, left_most_symmetry_site+num_symmetry_sites, 2)]\n",
    "    + [(i, symms[1]) for i in range(left_most_symmetry_site+1, left_most_symmetry_site+num_symmetry_sites+1, 2)]\n",
    ")\n",
    "\n",
    "problem_rdm = generate_problem_rdm(\n",
    "    q1,\n",
    "    symmetry_site_pairs,\n",
    "    left_most_symmetry_site,\n",
    "    num_symmetry_sites,\n",
    "    num_boundary_sites\n",
    ")"
   ]
  },
  {
   "cell_type": "code",
   "execution_count": 45,
   "id": "c4d9bc9c-a487-4633-b7f8-08a6394ffd96",
   "metadata": {},
   "outputs": [
    {
     "name": "stdout",
     "output_type": "stream",
     "text": [
      "0\n"
     ]
    },
    {
     "name": "stderr",
     "output_type": "stream",
     "text": [
      "/Users/kierancooney/.pyenv/versions/num_spt_venv_p11/lib/python3.11/site-packages/quimb/tensor/circuit.py:2587: FutureWarning: In future the tensor network returned by ``circ.uni`` will not be transposed as it is currently, to match the expectation from ``U = circ.uni.to_dense()`` behaving like ``U @ psi``. You can retain this behaviour with ``circ.get_uni(transposed=True)``.\n",
      "  warnings.warn(\n"
     ]
    },
    {
     "name": "stdout",
     "output_type": "stream",
     "text": [
      "5\n",
      "10\n",
      "15\n",
      "20\n",
      "25\n"
     ]
    }
   ],
   "source": [
    "num_initializations = 30\n",
    "num_iterations = int(1e4)\n",
    "\n",
    "scores = np.zeros((num_initializations, num_iterations))\n",
    "\n",
    "for i in range(num_initializations):\n",
    "    if (i % 5) == 0:\n",
    "        print(i)\n",
    "\n",
    "    circ_pair = ansatz_circuit_pair(\n",
    "        left_most_symmetry_site,\n",
    "        num_symmetry_sites,\n",
    "        num_boundary_sites,\n",
    "        depth\n",
    "    )\n",
    "\n",
    "    tnopt = qtn.TNOptimizer(\n",
    "        circ_pair,                        # the tensor network we want to optimize\n",
    "        loss,                     # the function we want to minimize\n",
    "        loss_constants={'problem_rdm': problem_rdm},  # supply U to the loss function as a constant TN\n",
    "        tags=['U3'],              # only optimize U3 tensors\n",
    "        #autodiff_backend='jax',   # use 'autograd' for non-compiled optimization\n",
    "        optimizer='COBYLA',     # the optimization algorithm\n",
    "        progbar=False\n",
    "    )\n",
    "    \n",
    "    circ_opt = tnopt.optimize(\n",
    "        n=num_iterations,\n",
    "        jac=False,\n",
    "        hessp=False\n",
    "    )\n",
    "\n",
    "    scores[i] = tnopt.losses"
   ]
  },
  {
   "cell_type": "markdown",
   "id": "ac4aaa65-50b5-477f-901d-964dd3d1c7e1",
   "metadata": {},
   "source": [
    "# Analyse"
   ]
  },
  {
   "cell_type": "code",
   "execution_count": 46,
   "id": "27da6810-3a30-4175-a4bd-7fa1f5b3eac7",
   "metadata": {},
   "outputs": [
    {
     "data": {
      "text/plain": [
       "(30, 10000)"
      ]
     },
     "execution_count": 46,
     "metadata": {},
     "output_type": "execute_result"
    }
   ],
   "source": [
    "scores.shape"
   ]
  },
  {
   "cell_type": "code",
   "execution_count": 47,
   "id": "a05c766d-39c3-40ed-a85c-f1a9b3128d8c",
   "metadata": {},
   "outputs": [
    {
     "data": {
      "image/png": "[encoded data removed]",
      "text/plain": [
       "<Figure size 640x480 with 1 Axes>"
      ]
     },
     "metadata": {},
     "output_type": "display_data"
    }
   ],
   "source": [
    "for l in scores:\n",
    "    plt.plot(l)"
   ]
  },
  {
   "cell_type": "code",
   "execution_count": 48,
   "id": "2714fd42-ba64-47bf-ac64-ea83db3f05fc",
   "metadata": {},
   "outputs": [],
   "source": [
    "best_scores = np.min(scores, axis=1)"
   ]
  },
  {
   "cell_type": "code",
   "execution_count": 51,
   "id": "bfe2641a-a53e-43a5-b0f9-7313bde216b3",
   "metadata": {},
   "outputs": [
    {
     "data": {
      "text/plain": [
       "count    30.000000\n",
       "mean      0.562130\n",
       "std       0.156787\n",
       "min       0.326723\n",
       "25%       0.348864\n",
       "50%       0.640275\n",
       "75%       0.664774\n",
       "max       0.787383\n",
       "dtype: float64"
      ]
     },
     "execution_count": 51,
     "metadata": {},
     "output_type": "execute_result"
    }
   ],
   "source": [
    "pd.Series(best_scores).describe()"
   ]
  },
  {
   "cell_type": "code",
   "execution_count": 52,
   "id": "f38b26a0-33ae-42d6-8242-5ca1db28dac5",
   "metadata": {},
   "outputs": [
    {
     "data": {
      "text/plain": [
       "(array([9., 0., 0., 1., 1., 2., 4., 9., 1., 3.]),\n",
       " array([0.32672292, 0.37278889, 0.41885487, 0.46492084, 0.51098682,\n",
       "        0.55705279, 0.60311877, 0.64918474, 0.69525071, 0.74131669,\n",
       "        0.78738266]),\n",
       " <BarContainer object of 10 artists>)"
      ]
     },
     "execution_count": 52,
     "metadata": {},
     "output_type": "execute_result"
    },
    {
     "data": {
      "image/png": "[encoded data removed]",
      "text/plain": [
       "<Figure size 640x480 with 1 Axes>"
      ]
     },
     "metadata": {},
     "output_type": "display_data"
    }
   ],
   "source": [
    "plt.hist(best_scores)"
   ]
  },
  {
   "cell_type": "code",
   "execution_count": 53,
   "id": "c1a1515f-077a-49f9-8b2f-75dcce62c7e8",
   "metadata": {},
   "outputs": [
    {
     "data": {
      "text/plain": [
       "9"
      ]
     },
     "execution_count": 53,
     "metadata": {},
     "output_type": "execute_result"
    }
   ],
   "source": [
    "np.sum(best_scores < 0.4)"
   ]
  },
  {
   "cell_type": "markdown",
   "id": "1b3bec28-e517-421a-9d12-2d2454e532d0",
   "metadata": {},
   "source": [
    "# How long does a single run take?"
   ]
  },
  {
   "cell_type": "code",
   "execution_count": 56,
   "id": "db49c780-51d6-47fa-9b34-327a4a19d048",
   "metadata": {},
   "outputs": [
    {
     "name": "stderr",
     "output_type": "stream",
     "text": [
      "/Users/kierancooney/.pyenv/versions/num_spt_venv_p11/lib/python3.11/site-packages/quimb/tensor/circuit.py:2587: FutureWarning: In future the tensor network returned by ``circ.uni`` will not be transposed as it is currently, to match the expectation from ``U = circ.uni.to_dense()`` behaving like ``U @ psi``. You can retain this behaviour with ``circ.get_uni(transposed=True)``.\n",
      "  warnings.warn(\n"
     ]
    }
   ],
   "source": [
    "t0 = time.time()\n",
    "\n",
    "circ_pair = ansatz_circuit_pair(\n",
    "    left_most_symmetry_site,\n",
    "    num_symmetry_sites,\n",
    "    num_boundary_sites,\n",
    "    depth\n",
    ")\n",
    "\n",
    "tnopt = qtn.TNOptimizer(\n",
    "    circ_pair,                        # the tensor network we want to optimize\n",
    "    loss,                     # the function we want to minimize\n",
    "    loss_constants={'problem_rdm': problem_rdm},  # supply U to the loss function as a constant TN\n",
    "    tags=['U3'],              # only optimize U3 tensors\n",
    "    #autodiff_backend='jax',   # use 'autograd' for non-compiled optimization\n",
    "    optimizer='COBYLA',     # the optimization algorithm\n",
    "    progbar=False\n",
    ")\n",
    "\n",
    "circ_opt = tnopt.optimize(\n",
    "    n=num_iterations,\n",
    "    jac=False,\n",
    "    hessp=False\n",
    ")\n",
    "\n",
    "t1 = time.time()"
   ]
  },
  {
   "cell_type": "code",
   "execution_count": 57,
   "id": "8ce09c97-9368-4991-aa43-d01e97622be6",
   "metadata": {},
   "outputs": [
    {
     "data": {
      "text/plain": [
       "184.69225907325745"
      ]
     },
     "execution_count": 57,
     "metadata": {},
     "output_type": "execute_result"
    }
   ],
   "source": [
    "t1-t0"
   ]
  },
  {
   "cell_type": "markdown",
   "id": "9de3d1aa-dbd8-48ac-a2fd-08eee48471c1",
   "metadata": {},
   "source": [
    "# Conclusions"
   ]
  },
  {
   "cell_type": "markdown",
   "id": "37e4abb1-0deb-41fc-a2d0-33273ba0500d",
   "metadata": {},
   "source": [
    "It takes about 3 mins per run, and multiple runs are needed. Typically about 8k iterations to convergence."
   ]
  },
  {
   "cell_type": "code",
   "execution_count": null,
   "id": "600e7296-df14-450b-b532-87041623d237",
   "metadata": {},
   "outputs": [],
   "source": []
  }
 ],
 "metadata": {
  "kernelspec": {
   "display_name": "num_spt_venv_p11",
   "language": "python",
   "name": "num_spt_venv_p11"
  },
  "language_info": {
   "codemirror_mode": {
    "name": "ipython",
    "version": 3
   },
   "file_extension": ".py",
   "mimetype": "text/x-python",
   "name": "python",
   "nbconvert_exporter": "python",
   "pygments_lexer": "ipython3",
   "version": "3.11.9"
  }
 },
 "nbformat": 4,
 "nbformat_minor": 5
}
