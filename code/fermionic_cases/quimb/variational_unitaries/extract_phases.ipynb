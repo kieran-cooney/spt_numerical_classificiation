{
 "cells": [
  {
   "cell_type": "markdown",
   "id": "8a5ff3d7-110e-408b-b148-b585fc98d23f",
   "metadata": {},
   "source": [
    "# Extract phases\n",
    "Created 06/10/2025\n",
    "\n",
    "Objectives:\n",
    "* Extract the fermionic and proj rep group cohomologies from the solutions calculated [here](save_solutions.ipynb)"
   ]
  },
  {
   "cell_type": "markdown",
   "id": "5e618d3a-fdaf-441f-bc73-3649e01a7b3c",
   "metadata": {},
   "source": [
    "# Package imports"
   ]
  },
  {
   "cell_type": "code",
   "execution_count": 1,
   "id": "ecb41ea3-927f-4efa-aebe-ce15784aa037",
   "metadata": {},
   "outputs": [],
   "source": [
    "import sys"
   ]
  },
  {
   "cell_type": "code",
   "execution_count": 2,
   "id": "0375bd38-12e1-417a-908a-13fb540081f5",
   "metadata": {},
   "outputs": [],
   "source": [
    "sys.path.append(\"../../../\")"
   ]
  },
  {
   "cell_type": "code",
   "execution_count": 3,
   "id": "0cf49837-01b6-431a-b570-d7ed25903239",
   "metadata": {},
   "outputs": [],
   "source": [
    "from itertools import chain, groupby, combinations\n",
    "import re\n",
    "\n",
    "from collections import Counter, namedtuple, defaultdict"
   ]
  },
  {
   "cell_type": "code",
   "execution_count": 4,
   "id": "f59344b7-d34e-47e4-99be-f5a2687f8176",
   "metadata": {},
   "outputs": [],
   "source": [
    "import h5py\n",
    "from tenpy.tools import hdf5_io\n",
    "import tenpy\n",
    "import tenpy.linalg.np_conserved as npc\n",
    "\n",
    "import os\n",
    "import pickle"
   ]
  },
  {
   "cell_type": "code",
   "execution_count": 5,
   "id": "19404619-d778-4cc3-8ee1-1db6f14b2043",
   "metadata": {},
   "outputs": [],
   "source": [
    "import numpy as np\n",
    "from jax import numpy as jnp\n",
    "import pandas as pd\n",
    "\n",
    "import matplotlib\n",
    "import matplotlib.pyplot as plt\n",
    "\n",
    "import scipy"
   ]
  },
  {
   "cell_type": "code",
   "execution_count": 6,
   "id": "92eeb066-5463-4237-ad07-3c5a0d934f4f",
   "metadata": {},
   "outputs": [
    {
     "name": "stderr",
     "output_type": "stream",
     "text": [
      "/Users/kierancooney/.pyenv/versions/num_spt_venv_p11/lib/python3.11/site-packages/cotengra/hyperoptimizers/hyper.py:54: UserWarning: Couldn't find `optuna`, `cmaes`, or `nevergrad` so will use completely random sampling in place of hyper-optimization.\n",
      "  warnings.warn(\n",
      "/Users/kierancooney/.pyenv/versions/num_spt_venv_p11/lib/python3.11/site-packages/cotengra/hyperoptimizers/hyper.py:36: UserWarning: Couldn't import `kahypar` - skipping from default hyper optimizer and using basic `labels` method instead.\n",
      "  warnings.warn(\n",
      "/Users/kierancooney/.pyenv/versions/num_spt_venv_p11/lib/python3.11/site-packages/cotengra/hyperoptimizers/hyper.py:73: UserWarning: Couldn't find `optuna`, `cmaes`, or `nevergrad` so will use completely random sampling in place of hyper-optimization.\n",
      "  warnings.warn(\n"
     ]
    }
   ],
   "source": [
    "import quimb as qu\n",
    "import quimb.tensor as qtn\n",
    "from quimb.tensor.optimize import TNOptimizer"
   ]
  },
  {
   "cell_type": "markdown",
   "id": "1e7fa07a-a850-4148-bb15-43b2582429cb",
   "metadata": {},
   "source": [
    "# Load data"
   ]
  },
  {
   "cell_type": "markdown",
   "id": "2619393b-854f-4f6b-827f-a4c49284fac2",
   "metadata": {},
   "source": [
    "## Wavefunctions"
   ]
  },
  {
   "cell_type": "code",
   "execution_count": 7,
   "id": "a073ec4a-1d8d-4786-af9f-11e750b1e3a9",
   "metadata": {},
   "outputs": [],
   "source": [
    "DATA_DIR_1 = r\"../../../data/interpolated_trivial_to_nontrivial_fermionic_trivial_proj_rep_200_site_dmrg/\"\n",
    "DATA_DIR_2 = r\"../../../data/interpolated_nontrivial_fermionic_proj_rep_to_nontrivial_proj_rep_200_site_dmrg/\""
   ]
  },
  {
   "cell_type": "code",
   "execution_count": 8,
   "id": "9fd5bc67-e5e4-4b8f-a5e4-f5120506f1ed",
   "metadata": {},
   "outputs": [],
   "source": [
    "def parse_file_name(file_name):\n",
    "    interpolation = int(file_name.split('_')[0])/100\n",
    "\n",
    "    return interpolation"
   ]
  },
  {
   "cell_type": "code",
   "execution_count": 9,
   "id": "cbe1e575-7fb0-4951-9fc8-dce918ef2e54",
   "metadata": {},
   "outputs": [],
   "source": [
    "loaded_data_triv_proj_rep = dict()\n",
    "energies_triv_proj_rep = dict()\n",
    "\n",
    "for local_file_name in list(os.walk(DATA_DIR_1))[0][2]:\n",
    "    f_name = r\"{}/{}\".format(DATA_DIR_1, local_file_name, ignore_unknown=False)\n",
    "\n",
    "    with h5py.File(f_name, 'r') as f:\n",
    "        data = hdf5_io.load_from_hdf5(f)\n",
    "\n",
    "        data_info = parse_file_name(local_file_name)\n",
    "        loaded_data_triv_proj_rep[data_info]=data['wavefunction']\n",
    "        energies_triv_proj_rep[data_info]=data['energy']"
   ]
  },
  {
   "cell_type": "code",
   "execution_count": 10,
   "id": "d694f0e0-4ab2-4eea-8f21-7177abc2de50",
   "metadata": {},
   "outputs": [],
   "source": [
    "loaded_data_non_triv_proj_rep = dict()\n",
    "energies_non_triv_proj_rep = dict()\n",
    "\n",
    "for local_file_name in list(os.walk(DATA_DIR_2))[0][2]:\n",
    "    f_name = r\"{}/{}\".format(DATA_DIR_2, local_file_name, ignore_unknown=False)\n",
    "\n",
    "    with h5py.File(f_name, 'r') as f:\n",
    "        data = hdf5_io.load_from_hdf5(f)\n",
    "\n",
    "        data_info = parse_file_name(local_file_name)\n",
    "        loaded_data_non_triv_proj_rep[data_info]=data['wavefunction']\n",
    "        energies_non_triv_proj_rep[data_info]=data['energy']"
   ]
  },
  {
   "cell_type": "code",
   "execution_count": 11,
   "id": "c6f844ce-e988-4b14-8427-413eff20782e",
   "metadata": {},
   "outputs": [
    {
     "data": {
      "text/plain": [
       "Counter({('vL', 'p', 'vR'): 4200})"
      ]
     },
     "execution_count": 11,
     "metadata": {},
     "output_type": "execute_result"
    }
   ],
   "source": [
    "Counter(\n",
    "    tuple(psi.get_B(i).get_leg_labels())\n",
    "    for psi in loaded_data_triv_proj_rep.values()\n",
    "    for i in range(psi.L)\n",
    ")"
   ]
  },
  {
   "cell_type": "code",
   "execution_count": 12,
   "id": "f1e92883-f7cb-4870-91d2-85c3745b928b",
   "metadata": {},
   "outputs": [
    {
     "data": {
      "text/plain": [
       "Counter({('vL', 'p', 'vR'): 4200})"
      ]
     },
     "execution_count": 12,
     "metadata": {},
     "output_type": "execute_result"
    }
   ],
   "source": [
    "Counter(\n",
    "    tuple(psi.get_B(i).get_leg_labels())\n",
    "    for psi in loaded_data_non_triv_proj_rep.values()\n",
    "    for i in range(psi.L)\n",
    ")"
   ]
  },
  {
   "cell_type": "markdown",
   "id": "eacf8f80-fd5d-4f80-9ead-f29dd73300a3",
   "metadata": {},
   "source": [
    "## Gate & circuit functions"
   ]
  },
  {
   "cell_type": "code",
   "execution_count": 13,
   "id": "5db864f9-2b1e-40bd-ae0f-0b78d90d98eb",
   "metadata": {},
   "outputs": [],
   "source": [
    "def single_qubit_layer(circ, gate_round=None):\n",
    "    \"\"\"Apply a parametrizable layer of single qubit ``U3`` gates.\n",
    "    \"\"\"\n",
    "    for i in range(circ.N):\n",
    "        # initialize with random parameters\n",
    "        params = qu.randn(3, dist='uniform')\n",
    "        circ.apply_gate(\n",
    "            'U3',\n",
    "            *params,\n",
    "            i,\n",
    "            gate_round=gate_round,\n",
    "            parametrize=True\n",
    "        )"
   ]
  },
  {
   "cell_type": "code",
   "execution_count": 14,
   "id": "3e43cca6-ea35-42d9-b1b6-5ad98768f23a",
   "metadata": {},
   "outputs": [],
   "source": [
    "def two_qubit_layer(circ, gate2='CZ', start=0, gate_round=None):\n",
    "    \"\"\"Apply a layer of constant entangling gates.\n",
    "    \"\"\"\n",
    "    num_sites = circ.N # Assuming this is even\n",
    "    sites = [\n",
    "        i % num_sites\n",
    "        for i in range(start, start + num_sites)\n",
    "    ]\n",
    "    \n",
    "    site_pairs = list(zip(sites[::2], sites[1::2]))\n",
    "\n",
    "    for i, j in site_pairs:\n",
    "        circ.apply_gate(\n",
    "            gate2,\n",
    "            i,\n",
    "            j,\n",
    "            gate_round=gate_round\n",
    "        )"
   ]
  },
  {
   "cell_type": "code",
   "execution_count": 15,
   "id": "bf9ff2c4-3fda-40c8-9ee4-d53cd71e9975",
   "metadata": {},
   "outputs": [],
   "source": [
    "def ansatz_circuit(n, depth, first_site=0, gate2='CZ',\n",
    "                   gate_tag=None, **kwargs):\n",
    "    \"\"\"Construct a circuit of single qubit and entangling layers.\n",
    "    \"\"\"\n",
    "    circ = qtn.Circuit(n, **kwargs)\n",
    "\n",
    "    for r in range(depth):\n",
    "        # single qubit gate layer\n",
    "        single_qubit_layer(circ, gate_round=r)\n",
    "\n",
    "        # alternate between forward and backward CZ layers\n",
    "        two_qubit_layer(\n",
    "            circ, gate2=gate2, gate_round=r, start=r % 2)\n",
    "\n",
    "    # add a final single qubit layer\n",
    "    single_qubit_layer(circ, gate_round=r + 1)\n",
    "\n",
    "    circ = circ.get_uni(transposed=True)\n",
    "\n",
    "    if gate_tag is not None:\n",
    "        for t in circ.tensors:\n",
    "            t.add_tag(gate_tag)\n",
    "\n",
    "    if first_site != 0:\n",
    "        index_labels = ['k', 'b']\n",
    "\n",
    "        index_map = {\n",
    "            f'{l}{i}': f'{l}{i+first_site}'\n",
    "            for i in range(n)\n",
    "            for l in index_labels\n",
    "        }\n",
    "\n",
    "        circ.reindex(index_map, inplace=True)\n",
    "\n",
    "    return circ"
   ]
  },
  {
   "cell_type": "code",
   "execution_count": 16,
   "id": "8165b7db-3bd7-4b43-aa5e-fbe9faa2fb84",
   "metadata": {},
   "outputs": [],
   "source": [
    "def ansatz_circuit_pair(leftmost_symmetry_site,\n",
    "    num_symmetry_sites, num_boundary_sites, depth,\n",
    "    gate2='CZ', **kwargs):\n",
    "    \"\"\"Construct a circuit of single qubit and entangling layers.\n",
    "    \"\"\"\n",
    "    left_start_site = leftmost_symmetry_site-num_boundary_sites\n",
    "    right_start_site = leftmost_symmetry_site+num_symmetry_sites\n",
    "\n",
    "    left_circuit = ansatz_circuit(\n",
    "        num_boundary_sites,\n",
    "        depth,\n",
    "        first_site=left_start_site,\n",
    "        gate2=gate2,\n",
    "        gate_tag='left',\n",
    "        **kwargs\n",
    "    )\n",
    "\n",
    "    right_circuit = ansatz_circuit(\n",
    "        num_boundary_sites,\n",
    "        depth,\n",
    "        first_site=right_start_site,\n",
    "        gate2=gate2,\n",
    "        gate_tag='right',\n",
    "        **kwargs\n",
    "    )\n",
    "\n",
    "    circ_pair = left_circuit & right_circuit\n",
    "\n",
    "    return circ_pair"
   ]
  },
  {
   "cell_type": "code",
   "execution_count": 17,
   "id": "d41ae1e4-c924-4c12-8980-25e66fca4833",
   "metadata": {},
   "outputs": [],
   "source": [
    "def split_circ_pair(circ_pair):\n",
    "    left_circuit = qtn.TensorNetwork(\n",
    "        list(map(circ_pair.tensor_map.__getitem__, circ_pair.tag_map['left']))\n",
    "    )\n",
    "\n",
    "    right_circuit = qtn.TensorNetwork(\n",
    "        list(map(circ_pair.tensor_map.__getitem__, circ_pair.tag_map['right']))\n",
    "    )\n",
    "\n",
    "    return (left_circuit, right_circuit)"
   ]
  },
  {
   "cell_type": "code",
   "execution_count": 18,
   "id": "a702324b-55f2-47cd-8832-04a4c5972b35",
   "metadata": {},
   "outputs": [],
   "source": [
    "def single_qubit_layer(circ, gate_round=None):\n",
    "    \"\"\"Apply a parametrizable layer of single qubit ``U3`` gates.\n",
    "    \"\"\"\n",
    "    for i in range(circ.N):\n",
    "        # initialize with random parameters\n",
    "        params = qu.randn(3, dist='uniform')\n",
    "        circ.apply_gate(\n",
    "            'U3',\n",
    "            *params,\n",
    "            i,\n",
    "            gate_round=gate_round,\n",
    "            parametrize=True\n",
    "        )"
   ]
  },
  {
   "cell_type": "code",
   "execution_count": 19,
   "id": "d75daab1-ade9-4de7-9b35-71a7fb36fecb",
   "metadata": {},
   "outputs": [],
   "source": [
    "def two_qubit_layer(circ, gate2='CZ', start=0, gate_round=None):\n",
    "    \"\"\"Apply a layer of constant entangling gates.\n",
    "    \"\"\"\n",
    "    num_sites = circ.N # Assuming this is even\n",
    "    sites = [\n",
    "        i % num_sites\n",
    "        for i in range(start, start + num_sites)\n",
    "    ]\n",
    "    \n",
    "    site_pairs = list(zip(sites[::2], sites[1::2]))\n",
    "\n",
    "    for i, j in site_pairs:\n",
    "        circ.apply_gate(\n",
    "            gate2,\n",
    "            i,\n",
    "            j,\n",
    "            gate_round=gate_round\n",
    "        )\n",
    "\n",
    "    if (num_sites % 2) == 1:\n",
    "        circ.apply_gate(\n",
    "            gate2,\n",
    "            sites[0],\n",
    "            sites[-1],\n",
    "            gate_round=gate_round\n",
    "        )"
   ]
  },
  {
   "cell_type": "code",
   "execution_count": 20,
   "id": "b5768836-373b-47bc-92e5-26409cce5cda",
   "metadata": {},
   "outputs": [],
   "source": [
    "def ansatz_circuit(n, depth, first_site=0, gate2='CZ', gate_tag=None,\n",
    "                   **kwargs):\n",
    "    \"\"\"Construct a circuit of single qubit and entangling layers.\n",
    "    \"\"\"\n",
    "    circ = qtn.Circuit(n, **kwargs)\n",
    "\n",
    "    for r in range(depth):\n",
    "        # single qubit gate layer\n",
    "        single_qubit_layer(circ, gate_round=r)\n",
    "\n",
    "        # alternate between forward and backward CZ layers\n",
    "        two_qubit_layer(\n",
    "            circ, gate2=gate2, gate_round=r, start=r % 2)\n",
    "\n",
    "    # add a final single qubit layer\n",
    "    single_qubit_layer(circ, gate_round=r + 1)\n",
    "\n",
    "    circ = circ.uni\n",
    "\n",
    "    no_labels_index_map = dict()\n",
    "\n",
    "    old_site = 0\n",
    "    new_site = first_site\n",
    "\n",
    "    while old_site < n:\n",
    "        if (new_site % 2) == 0:\n",
    "            no_labels_index_map[f'{old_site}'] = f'{new_site}-0'\n",
    "            no_labels_index_map[f'{old_site+1}'] = f'{new_site}-1'\n",
    "            old_site += 2\n",
    "        else:\n",
    "            no_labels_index_map[f'{old_site}'] = f'{new_site}'\n",
    "            old_site += 1\n",
    "        new_site += 1\n",
    "\n",
    "    assert old_site == n\n",
    "    \n",
    "    if gate_tag is not None:\n",
    "        for t in circ.tensors:\n",
    "            t.add_tag(gate_tag)\n",
    "\n",
    "    index_labels = ['k', 'b']\n",
    "\n",
    "    # Include labels in map\n",
    "    index_map = {\n",
    "        f'{l}{k}': f'{l}{v}'\n",
    "        for k, v in no_labels_index_map.items()\n",
    "        for l in index_labels\n",
    "    }\n",
    "\n",
    "    circ.reindex(index_map, inplace=True)\n",
    "\n",
    "    return circ"
   ]
  },
  {
   "cell_type": "code",
   "execution_count": 21,
   "id": "51a141f4-9f7b-476d-a728-44945d65a4e1",
   "metadata": {},
   "outputs": [],
   "source": [
    "def ansatz_circuit_pair(leftmost_symmetry_site,\n",
    "    num_symmetry_sites, num_boundary_sites, depth,\n",
    "    gate2='CZ', **kwargs):\n",
    "    \"\"\"Construct a circuit of single qubit and entangling layers.\n",
    "    \"\"\"\n",
    "    left_start_site = leftmost_symmetry_site-num_boundary_sites\n",
    "    right_start_site = leftmost_symmetry_site+num_symmetry_sites\n",
    "\n",
    "    left_num_expanded_boundary_sites = sum(\n",
    "        2 if (i % 2 == 0) else 1\n",
    "        for i in range(left_start_site, left_start_site + num_boundary_sites)\n",
    "    )\n",
    "\n",
    "    left_circuit = ansatz_circuit(\n",
    "        left_num_expanded_boundary_sites,\n",
    "        depth,\n",
    "        first_site=left_start_site,\n",
    "        gate2=gate2,\n",
    "        gate_tag='left',\n",
    "        **kwargs\n",
    "    )\n",
    "\n",
    "    right_num_expanded_boundary_sites = sum(\n",
    "        2 if (i % 2 == 0) else 1\n",
    "        for i in range(right_start_site, right_start_site + num_boundary_sites)\n",
    "    )\n",
    "\n",
    "    right_circuit = ansatz_circuit(\n",
    "        right_num_expanded_boundary_sites,\n",
    "        depth,\n",
    "        first_site=right_start_site,\n",
    "        gate2=gate2,\n",
    "        gate_tag='right',\n",
    "        **kwargs\n",
    "    )\n",
    "\n",
    "    circ_pair = (left_circuit & right_circuit)\n",
    "\n",
    "    return circ_pair"
   ]
  },
  {
   "cell_type": "code",
   "execution_count": 22,
   "id": "f6657550-0e8e-427a-a777-8f8a88edf44a",
   "metadata": {},
   "outputs": [],
   "source": [
    "def split_circ_pair(circ_pair):\n",
    "    left_circuit = qtn.TensorNetwork(\n",
    "        list(map(circ_pair.tensor_map.__getitem__, circ_pair.tag_map['left']))\n",
    "    )\n",
    "\n",
    "    right_circuit = qtn.TensorNetwork(\n",
    "        list(map(circ_pair.tensor_map.__getitem__, circ_pair.tag_map['right']))\n",
    "    )\n",
    "\n",
    "    return (left_circuit, right_circuit)"
   ]
  },
  {
   "cell_type": "markdown",
   "id": "a1a65e01-1679-4f4d-8a76-ab9878761d3e",
   "metadata": {},
   "source": [
    "## Boundary operator solutions"
   ]
  },
  {
   "cell_type": "code",
   "execution_count": 23,
   "id": "e37adb2a-d2dd-41ae-be5f-510cd40d18ac",
   "metadata": {},
   "outputs": [],
   "source": [
    "SOL_DIR = r\"solutions/\""
   ]
  },
  {
   "cell_type": "code",
   "execution_count": 24,
   "id": "c2e39164-e8b3-4305-b1db-c8bfc52c0cfb",
   "metadata": {},
   "outputs": [],
   "source": [
    "file_name_pattern = re.compile(r'^(?:non_)?triv_\\d\\.\\d+_\\d_\\d_\\d+\\.pickle$')"
   ]
  },
  {
   "cell_type": "code",
   "execution_count": 25,
   "id": "42ac9167-550d-428b-ad09-28dcc6d4e3cc",
   "metadata": {},
   "outputs": [],
   "source": [
    "def parse_file_name(file_name):\n",
    "    if not bool(file_name_pattern.match(file_name)):\n",
    "        print(file_name)\n",
    "        return None\n",
    "\n",
    "    file_name = '.'.join((file_name.split('.'))[:-1])\n",
    "\n",
    "    if file_name[0] == 'n':\n",
    "        proj_rep=1\n",
    "        b, bs, fs, i = file_name.split('_')[2:]\n",
    "    elif file_name[0] == 't':\n",
    "        proj_rep=0\n",
    "        b, bs, fs, i = file_name.split('_')[1:]\n",
    "    else:\n",
    "        return None\n",
    "\n",
    "    b = float(b)\n",
    "    bs = int(bs)\n",
    "    fs = int(fs)\n",
    "    i = int(i)\n",
    "    \n",
    "    return (proj_rep, b, bs, fs, i)"
   ]
  },
  {
   "cell_type": "code",
   "execution_count": 26,
   "id": "b38c89dd-2ed0-4d11-8782-4f7a35f656d8",
   "metadata": {},
   "outputs": [],
   "source": [
    "def generate_circuit_from_params(params, leftmost_symmetry_site,\n",
    "    num_symmetry_sites, num_boundary_sites, depth):\n",
    "    circ_pair = ansatz_circuit_pair(\n",
    "        leftmost_symmetry_site,\n",
    "        num_symmetry_sites,\n",
    "        num_boundary_sites,\n",
    "        depth\n",
    "    )\n",
    "\n",
    "    left_circuit, right_circuit = split_circ_pair(circ_pair)\n",
    "    left_params, right_params = params\n",
    "\n",
    "    left_circuit.set_params(left_params)\n",
    "    right_circuit.set_params(right_params)\n",
    "\n",
    "    return (left_circuit, right_circuit)"
   ]
  },
  {
   "cell_type": "code",
   "execution_count": 27,
   "id": "dc156038-097f-4140-9143-3fbdfbf38862",
   "metadata": {},
   "outputs": [],
   "source": [
    "num_boundary_sites=4\n",
    "depth=6\n",
    "left_most_symmetry_site=60\n",
    "num_symmetry_sites=80\n",
    "bond_dimension=6\n",
    "\n",
    "total_physical_dim = 2**6"
   ]
  },
  {
   "cell_type": "code",
   "execution_count": 28,
   "id": "686fa22d-79df-4e80-8728-9a7737a66762",
   "metadata": {},
   "outputs": [
    {
     "name": "stderr",
     "output_type": "stream",
     "text": [
      "/Users/kierancooney/.pyenv/versions/num_spt_venv_p11/lib/python3.11/site-packages/quimb/tensor/circuit.py:2587: FutureWarning: In future the tensor network returned by ``circ.uni`` will not be transposed as it is currently, to match the expectation from ``U = circ.uni.to_dense()`` behaving like ``U @ psi``. You can retain this behaviour with ``circ.get_uni(transposed=True)``.\n",
      "  warnings.warn(\n"
     ]
    }
   ],
   "source": [
    "boundary_operator_solutions = dict()\n",
    "boundary_operator_scores = dict()\n",
    "\n",
    "for local_file_name in list(os.walk(SOL_DIR))[0][2]:\n",
    "    f_name = r\"{}/{}\".format(SOL_DIR, local_file_name, ignore_unknown=False)\n",
    "\n",
    "    key = parse_file_name(local_file_name)\n",
    "\n",
    "    if key is not None:\n",
    "        with open(f_name, 'rb') as f:\n",
    "            final_score, params = pickle.load(f)\n",
    "\n",
    "            circ_pair = generate_circuit_from_params(\n",
    "                params,\n",
    "                left_most_symmetry_site,\n",
    "                num_symmetry_sites,\n",
    "                num_boundary_sites,\n",
    "                depth\n",
    "            )\n",
    "            \n",
    "            boundary_operator_scores[key] = final_score\n",
    "            boundary_operator_solutions[key] = circ_pair"
   ]
  },
  {
   "cell_type": "code",
   "execution_count": 29,
   "id": "1870de39-0e84-4a26-a3c1-bc1cee7f9ce0",
   "metadata": {},
   "outputs": [
    {
     "data": {
      "text/plain": [
       "(1485, 1485)"
      ]
     },
     "execution_count": 29,
     "metadata": {},
     "output_type": "execute_result"
    }
   ],
   "source": [
    "(\n",
    "    len(boundary_operator_solutions),\n",
    "    len(boundary_operator_scores)\n",
    ")"
   ]
  },
  {
   "cell_type": "code",
   "execution_count": 18,
   "id": "2eaeaeb6-7fc1-4f0c-b008-501f639b4eb5",
   "metadata": {},
   "outputs": [
    {
     "data": {
      "text/plain": [
       "1260"
      ]
     },
     "execution_count": 18,
     "metadata": {},
     "output_type": "execute_result"
    }
   ],
   "source": [
    "21*2*6*5"
   ]
  },
  {
   "cell_type": "markdown",
   "id": "c789feb2-12ac-4860-a654-e40fa070325a",
   "metadata": {},
   "source": [
    "### Check values"
   ]
  },
  {
   "cell_type": "code",
   "execution_count": 30,
   "id": "1b1a1eaa-265f-4def-a3d3-0ad318930b4b",
   "metadata": {},
   "outputs": [],
   "source": [
    "scores = list(boundary_operator_scores.values())"
   ]
  },
  {
   "cell_type": "code",
   "execution_count": 31,
   "id": "18b031de-4cf0-4576-b236-089341aca078",
   "metadata": {},
   "outputs": [
    {
     "data": {
      "text/plain": [
       "count    1485.000000\n",
       "mean        0.315419\n",
       "std         0.320517\n",
       "min         0.000272\n",
       "25%         0.017077\n",
       "50%         0.147979\n",
       "75%         0.638438\n",
       "max         1.000000\n",
       "dtype: float64"
      ]
     },
     "execution_count": 31,
     "metadata": {},
     "output_type": "execute_result"
    }
   ],
   "source": [
    "pd.Series(scores).describe()"
   ]
  },
  {
   "cell_type": "code",
   "execution_count": 21,
   "id": "a86a2560-8743-44d3-b762-1e3e152b3b2f",
   "metadata": {},
   "outputs": [
    {
     "data": {
      "text/plain": [
       "(0, 0.75, 3, 1, 4)"
      ]
     },
     "execution_count": 21,
     "metadata": {},
     "output_type": "execute_result"
    }
   ],
   "source": [
    "next(iter(boundary_operator_solutions.keys()))"
   ]
  },
  {
   "cell_type": "code",
   "execution_count": 42,
   "id": "7896fa9b-0290-4742-93a8-503497597318",
   "metadata": {},
   "outputs": [],
   "source": [
    "score_pairs = defaultdict(list)\n",
    "\n",
    "for k, v in boundary_operator_scores.items():\n",
    "    score_pairs[k[:-1]].append((k[-1], v))"
   ]
  },
  {
   "cell_type": "code",
   "execution_count": 43,
   "id": "8cf00e47-3dd9-47f1-9c7c-c3b6ecd76ba1",
   "metadata": {},
   "outputs": [],
   "source": [
    "best_score_pairs = {\n",
    "    k: min(v, key=lambda x: x[1]) for k, v in score_pairs.items()\n",
    "}"
   ]
  },
  {
   "cell_type": "code",
   "execution_count": 44,
   "id": "b07ea0b5-9c25-4969-ad77-44605f544778",
   "metadata": {},
   "outputs": [],
   "source": [
    "best_scores = [v[1] for v in best_score_pairs.values()]"
   ]
  },
  {
   "cell_type": "code",
   "execution_count": 45,
   "id": "20a71c05-b888-450a-9353-7f26970ebd57",
   "metadata": {},
   "outputs": [
    {
     "data": {
      "text/plain": [
       "252"
      ]
     },
     "execution_count": 45,
     "metadata": {},
     "output_type": "execute_result"
    }
   ],
   "source": [
    "len(best_score_pairs)"
   ]
  },
  {
   "cell_type": "code",
   "execution_count": 46,
   "id": "3b02c07c-fe40-4acb-8632-893fe8b48254",
   "metadata": {},
   "outputs": [
    {
     "data": {
      "text/plain": [
       "count    252.000000\n",
       "mean       0.183822\n",
       "std        0.250979\n",
       "min        0.000272\n",
       "25%        0.008419\n",
       "50%        0.047943\n",
       "75%        0.282332\n",
       "max        1.000000\n",
       "dtype: float64"
      ]
     },
     "execution_count": 46,
     "metadata": {},
     "output_type": "execute_result"
    }
   ],
   "source": [
    "pd.Series(best_scores).describe()"
   ]
  },
  {
   "cell_type": "code",
   "execution_count": 50,
   "id": "231f533b-5075-402a-821d-dab6eaf23098",
   "metadata": {},
   "outputs": [],
   "source": [
    "best_boundary_operators = {\n",
    "    k: boundary_operator_solutions[(*k, v[0])]\n",
    "    for k, v in best_score_pairs.items()\n",
    "    #if k[1] != 0.5\n",
    "}"
   ]
  },
  {
   "cell_type": "code",
   "execution_count": 51,
   "id": "8ed66855-7274-4da7-a010-9dc586e82131",
   "metadata": {},
   "outputs": [
    {
     "data": {
      "text/plain": [
       "252"
      ]
     },
     "execution_count": 51,
     "metadata": {},
     "output_type": "execute_result"
    }
   ],
   "source": [
    "len(best_boundary_operators)"
   ]
  },
  {
   "cell_type": "markdown",
   "id": "3269e554-4543-4e55-8a03-68083f819521",
   "metadata": {},
   "source": [
    "# Definitions"
   ]
  },
  {
   "cell_type": "code",
   "execution_count": 52,
   "id": "550e5a48-302e-4588-8b17-978e37ee1a95",
   "metadata": {},
   "outputs": [],
   "source": [
    "np_00 = np.array([\n",
    "    [1, 0, 0, 0],\n",
    "    [0, 1, 0, 0],\n",
    "    [0, 0, 1, 0],\n",
    "    [0, 0, 0, 1]\n",
    "])\n",
    "\n",
    "np_01 = np.array([\n",
    "    [0, 1, 0, 0],\n",
    "    [1, 0, 0, 0],\n",
    "    [0, 0, 0, 1],\n",
    "    [0, 0, 1, 0]\n",
    "])\n",
    "\n",
    "np_10 = np.array([\n",
    "    [0, 0, 1, 0],\n",
    "    [0, 0, 0, 1],\n",
    "    [1, 0, 0, 0],\n",
    "    [0, 1, 0, 0]\n",
    "])\n",
    "\n",
    "np_11 = np.array([\n",
    "    [0, 0, 0, 1],\n",
    "    [0, 0, 1, 0],\n",
    "    [0, 1, 0, 0],\n",
    "    [1, 0, 0, 0]\n",
    "])"
   ]
  },
  {
   "cell_type": "code",
   "execution_count": 53,
   "id": "7be888f1-58f3-472a-920e-7920a8974192",
   "metadata": {},
   "outputs": [],
   "source": [
    "bosonic_np_symmetries = [\n",
    "    np_00,\n",
    "    np_01,\n",
    "    np_10,\n",
    "    np_11\n",
    "]"
   ]
  },
  {
   "cell_type": "code",
   "execution_count": 54,
   "id": "7eab7fb2-331f-41b7-8278-84642df9cb17",
   "metadata": {},
   "outputs": [],
   "source": [
    "np_I = np.array([\n",
    "    [1, 0],\n",
    "    [0, 1]\n",
    "])\n",
    "\n",
    "np_JW = np.array([\n",
    "    [1, 0],\n",
    "    [0, -1]\n",
    "])"
   ]
  },
  {
   "cell_type": "code",
   "execution_count": 55,
   "id": "34029aa6-57e2-44a5-85ac-91517d851411",
   "metadata": {},
   "outputs": [],
   "source": [
    "fermionic_np_symmetries = [np_I, np_JW]"
   ]
  },
  {
   "cell_type": "code",
   "execution_count": 56,
   "id": "b9e2f954-c591-4479-ba37-32862c25c660",
   "metadata": {},
   "outputs": [],
   "source": [
    "symmetry_actions = [\n",
    "    [[b, f] for b in bosonic_np_symmetries]\n",
    "    for f in fermionic_np_symmetries\n",
    "]"
   ]
  },
  {
   "cell_type": "code",
   "execution_count": 57,
   "id": "8c945b86-cec1-4b08-930f-1922b7e1bea6",
   "metadata": {},
   "outputs": [],
   "source": [
    "shifted_symmetry_actions = [\n",
    "    [[f, b] for b in bosonic_np_symmetries]\n",
    "    for f in fermionic_np_symmetries\n",
    "]"
   ]
  },
  {
   "cell_type": "code",
   "execution_count": 58,
   "id": "608e2be7-7003-4d86-8bdc-bb7519c6c30c",
   "metadata": {},
   "outputs": [],
   "source": [
    "def generate_problem_rdm(quimb_psi, symmetry_site_pairs, leftmost_symmetry_site,\n",
    "                         num_symmetry_sites, num_boundary_sites):\n",
    "    q_top = quimb_psi.copy(deep=True)\n",
    "    for i, s in symmetry_site_pairs:\n",
    "        q_top.gate(\n",
    "            s,\n",
    "            where=i,\n",
    "            contract=False,\n",
    "            inplace=True\n",
    "        )\n",
    "    \n",
    "    indices_to_map = list(chain(\n",
    "        range(leftmost_symmetry_site-num_boundary_sites, leftmost_symmetry_site),\n",
    "        range(leftmost_symmetry_site+num_symmetry_sites, leftmost_symmetry_site+num_symmetry_sites+num_boundary_sites)\n",
    "    ))\n",
    "\n",
    "    index_mapping = {f'k{i}': f'b{i}' for i in indices_to_map}\n",
    "\n",
    "    q_bottom = (\n",
    "        quimb_psi\n",
    "        .copy()\n",
    "        .reindex(index_mapping, inplace=True)\n",
    "        .conj()\n",
    "    )\n",
    "\n",
    "    sites_to_contract = {\n",
    "        'left': list(range(leftmost_symmetry_site-num_boundary_sites)),\n",
    "        'middle': list(range(leftmost_symmetry_site, leftmost_symmetry_site+num_symmetry_sites)),\n",
    "        'right': list(range(leftmost_symmetry_site+num_symmetry_sites+num_boundary_sites, quimb_psi.L))\n",
    "    }\n",
    "\n",
    "    tags_to_contract = {\n",
    "        k: [f'I{i}' for i in v]\n",
    "        for k, v in sites_to_contract.items()\n",
    "    }\n",
    "\n",
    "    tn = (q_top & q_bottom)\n",
    "\n",
    "    tnc = (\n",
    "        tn\n",
    "        .contract(tags_to_contract['left'])\n",
    "        .contract(tags_to_contract['middle'])\n",
    "        .contract(tags_to_contract['right'])\n",
    "    )\n",
    "\n",
    "    # Expand the d=4 qudit sites into 2 qubits.\n",
    "    even_left_sites = [\n",
    "        i for i in range(leftmost_symmetry_site - num_boundary_sites, leftmost_symmetry_site)\n",
    "        if (i % 2 == 0)\n",
    "    ]\n",
    "\n",
    "    even_right_sites = [\n",
    "        i for i in range(\n",
    "            leftmost_symmetry_site + num_symmetry_sites,\n",
    "            leftmost_symmetry_site+num_symmetry_sites+num_boundary_sites\n",
    "        )\n",
    "        if (i % 2 == 0)\n",
    "    ]\n",
    "\n",
    "    for s in ['k', 'b']:\n",
    "        left_sites = [even_left_sites[0], even_right_sites[0]]\n",
    "        for i in left_sites:\n",
    "\n",
    "            t = tnc.tensor_map[list(tnc.ind_map[f'{s}{i}'])[0]]\n",
    "            tr = tnc.tensor_map[list(tnc.ind_map[f'{s}{i+1}'])[0]]\n",
    "            vr = [\n",
    "                ind for ind in t.inds if ind in tr.inds\n",
    "            ][0]\n",
    "            vl = [\n",
    "                ind for ind in t.inds\n",
    "                if ind not in [vr, f'{s}{i}']\n",
    "            ]\n",
    "        \n",
    "            t.unfuse(\n",
    "                {f'{s}{i}': [f'{s}{i}-0', f'{s}{i}-1']},\n",
    "                {f'{s}{i}': [2, 2]},\n",
    "                inplace=True\n",
    "            )\n",
    "\n",
    "            #t.split([f'{s}{i}-0', vl])\n",
    "\n",
    "        right_sites = [even_left_sites[-1], even_right_sites[-1]]\n",
    "        for i in right_sites:\n",
    "\n",
    "            t = tnc.tensor_map[list(tnc.ind_map[f'{s}{i}'])[0]]\n",
    "            tl = tnc.tensor_map[list(tnc.ind_map[f'{s}{i-1}'])[0]]\n",
    "            vl = [\n",
    "                ind for ind in t.inds if ind in tl.inds\n",
    "            ][0]\n",
    "        \n",
    "            t.unfuse(\n",
    "                {f'{s}{i}': [f'{s}{i}-0', f'{s}{i}-1']},\n",
    "                {f'{s}{i}': [2, 2]},\n",
    "                inplace=True\n",
    "            )\n",
    "\n",
    "            #t.split([f'{s}{i}-0', vl])\n",
    "\n",
    "        inner_sites = [\n",
    "            *even_left_sites[1:-1],\n",
    "            *even_right_sites[1:-1]\n",
    "        ]\n",
    "\n",
    "        for i in inner_sites:\n",
    "\n",
    "            t = tnc.tensor_map[list(tnc.ind_map[f'{s}{i}'])[0]]\n",
    "            tl = tnc.tensor_map[list(tnc.ind_map[f'{s}{i-1}'])[0]]\n",
    "            vl = [\n",
    "                ind for ind in t.inds\n",
    "                if ind not in [vr, f'{s}{i}']\n",
    "            ]\n",
    "        \n",
    "            t.unfuse(\n",
    "                {f'{s}{i}': [f'{s}{i}-0', f'{s}{i}-1']},\n",
    "                {f'{s}{i}': [2, 2]},\n",
    "                inplace=True\n",
    "            )\n",
    "\n",
    "            #t.split([f'{s}{i}-0', vl])\n",
    "        \n",
    "    return tnc"
   ]
  },
  {
   "cell_type": "code",
   "execution_count": 59,
   "id": "198f4294-8a52-4ee8-be8c-640d8c8927f2",
   "metadata": {},
   "outputs": [],
   "source": [
    "def generate_rdm_from_tenpy_psi(mps_psi, symmetry_site_pairs,\n",
    "    leftmost_symmetry_site, num_symmetry_sites, num_boundary_sites):\n",
    "    \n",
    "    psi_arrays = list()\n",
    "    psi_arrays.append(mps_psi.get_B(0, 'Th')[0, ...].to_ndarray())\n",
    "    for i in range(1, mps_psi.L-1):\n",
    "        psi_arrays.append(mps_psi.get_B(i).to_ndarray())\n",
    "    psi_arrays.append(mps_psi.get_B(mps_psi.L-1)[..., 0].to_ndarray())\n",
    "    \n",
    "    q1 = (\n",
    "        qtn\n",
    "        .tensor_1d\n",
    "        .MatrixProductState(psi_arrays, shape='lpr')\n",
    "    )\n",
    "    \n",
    "    problem_rdm = generate_problem_rdm(\n",
    "        q1,\n",
    "        symmetry_site_pairs,\n",
    "        left_most_symmetry_site,\n",
    "        num_symmetry_sites,\n",
    "        num_boundary_sites\n",
    "    )\n",
    "\n",
    "    return problem_rdm"
   ]
  },
  {
   "cell_type": "markdown",
   "id": "5fc06a38-7a0c-4740-8759-b5e34c4b0a37",
   "metadata": {},
   "source": [
    "## Optimisation functions"
   ]
  },
  {
   "cell_type": "code",
   "execution_count": 60,
   "id": "636e19bb-bf5a-4222-b655-736dcf37a4e8",
   "metadata": {},
   "outputs": [],
   "source": [
    "def loss(circ_pair, problem_rdm):\n",
    "    c = (problem_rdm & circ_pair)^...\n",
    "\n",
    "    c_abs_squared = (\n",
    "        c\n",
    "        *jnp.conjugate(c)\n",
    "    )\n",
    "    c_abs_squared = jnp.real(c_abs_squared)\n",
    "\n",
    "    out = 1-c_abs_squared\n",
    "\n",
    "    return out"
   ]
  },
  {
   "cell_type": "markdown",
   "id": "182f6d16-dfff-4cef-9dda-d3920db7c0bf",
   "metadata": {},
   "source": [
    "## Extract SPT phase functions"
   ]
  },
  {
   "cell_type": "code",
   "execution_count": 61,
   "id": "d99a7376-f83a-432a-a571-5d299ac661d0",
   "metadata": {},
   "outputs": [],
   "source": [
    "def relabel_index(index, old_label, new_label):\n",
    "    index_tail = index[len(old_label):]\n",
    "    return new_label + index_tail"
   ]
  },
  {
   "cell_type": "code",
   "execution_count": 198,
   "id": "eba6539e-096a-4fde-bc46-77b5e5ac319a",
   "metadata": {},
   "outputs": [],
   "source": [
    "def relabel_circuit(circuit_tn, new_k_label, new_b_label, old_k_label='k',\n",
    "                   old_b_label='b'):\n",
    "    k_regex = re.compile(rf\"^{old_k_label}\\d+-?\\d+$\")\n",
    "    b_regex = re.compile(rf\"^{old_b_label}\\d+-?\\d+$\")\n",
    "\n",
    "    old_k_indices = [\n",
    "        k for k in circuit_tn.ind_map\n",
    "        if bool(re.search(k_regex, k))\n",
    "    ]\n",
    "    \n",
    "    old_b_indices = [\n",
    "        k for k in circuit_tn.ind_map\n",
    "        if bool(re.search(b_regex, k))\n",
    "    ]\n",
    "    \n",
    "    k_out_indices = [\n",
    "        relabel_index(i, old_k_label, new_k_label)\n",
    "        for i in old_k_indices\n",
    "    ]\n",
    "        \n",
    "    b_out_indices = [\n",
    "        relabel_index(i, old_b_label, new_b_label)\n",
    "        for i in old_b_indices\n",
    "    ]\n",
    "\n",
    "    mapping = dict(\n",
    "        chain(\n",
    "            zip(old_k_indices, k_out_indices),\n",
    "            zip(old_b_indices, b_out_indices)\n",
    "        )\n",
    "    )\n",
    "\n",
    "    circuit_tn.reindex(mapping, inplace=True)"
   ]
  },
  {
   "cell_type": "code",
   "execution_count": 65,
   "id": "b797f208-56a6-4f64-b2bc-dda2358314e2",
   "metadata": {},
   "outputs": [],
   "source": [
    "def get_right_fp_overlap(rdm, u_l, u_r, leftmost_symmetry_site,\n",
    "                     num_symmetry_sites, num_boundary_sites):\n",
    "\n",
    "    tn = rdm.copy(deep=True)\n",
    "\n",
    "    fermionic_site_indices = [\n",
    "        i\n",
    "        for i in range(\n",
    "            leftmost_symmetry_site+num_symmetry_sites,\n",
    "            leftmost_symmetry_site+num_symmetry_sites+num_boundary_sites\n",
    "        )\n",
    "        if i % 2 == 1\n",
    "    ]\n",
    "\n",
    "    top_fermionic_tensors = [\n",
    "        (f'k{i}', next(map(tn.tensor_map.__getitem__, tn.ind_map[f'k{i}'])))\n",
    "        for i in fermionic_site_indices\n",
    "    ]\n",
    "\n",
    "    bottom_fermionic_tensors = [\n",
    "        (f'b{i}', next(map(tn.tensor_map.__getitem__, tn.ind_map[f'b{i}'])))\n",
    "        for i in fermionic_site_indices\n",
    "    ]\n",
    "\n",
    "    for ind, t in top_fermionic_tensors:\n",
    "        t.gate(\n",
    "            np_JW,\n",
    "            ind=ind,\n",
    "            inplace=True\n",
    "        )\n",
    "\n",
    "    for ind, t in bottom_fermionic_tensors:\n",
    "        t.gate(\n",
    "            np_JW,\n",
    "            ind=ind,\n",
    "            transposed=True,\n",
    "            inplace=True\n",
    "        )\n",
    "\n",
    "    out = (tn & u_l & u_r) ^ ...\n",
    "\n",
    "    return out"
   ]
  },
  {
   "cell_type": "code",
   "execution_count": 66,
   "id": "0b3a7976-d218-4eb9-b38c-e0cfd56337e0",
   "metadata": {},
   "outputs": [],
   "source": [
    "def get_left_fp_overlap(rdm, u_l, u_r, leftmost_symmetry_site,\n",
    "                     num_symmetry_sites, num_boundary_sites):\n",
    "\n",
    "    tn = rdm.copy(deep=True)\n",
    "\n",
    "    fermionic_site_indices = [\n",
    "        i\n",
    "        for i in range(\n",
    "            leftmost_symmetry_site-num_boundary_sites,\n",
    "            leftmost_symmetry_site\n",
    "        )\n",
    "        if i % 2 == 1\n",
    "    ]\n",
    "\n",
    "    top_fermionic_tensors = [\n",
    "        (f'k{i}', next(map(tn.tensor_map.__getitem__, tn.ind_map[f'k{i}'])))\n",
    "        for i in fermionic_site_indices\n",
    "    ]\n",
    "\n",
    "    bottom_fermionic_tensors = [\n",
    "        (f'b{i}', next(map(tn.tensor_map.__getitem__, tn.ind_map[f'b{i}'])))\n",
    "        for i in fermionic_site_indices\n",
    "    ]\n",
    "\n",
    "    for ind, t in top_fermionic_tensors:\n",
    "        t.gate(\n",
    "            np_JW,\n",
    "            ind=ind,\n",
    "            inplace=True\n",
    "        )\n",
    "\n",
    "    for ind, t in bottom_fermionic_tensors:\n",
    "        t.gate(\n",
    "            np_JW,\n",
    "            ind=ind,\n",
    "            transposed=True,\n",
    "            inplace=True\n",
    "        )\n",
    "\n",
    "    out = (tn & u_l & u_r) ^ ...\n",
    "\n",
    "    return out"
   ]
  },
  {
   "cell_type": "code",
   "execution_count": 67,
   "id": "3bca38f5-b5f0-4e72-9136-9388eb46445b",
   "metadata": {},
   "outputs": [],
   "source": [
    "def get_fp_charges(rdm, u_l, u_r, left_most_symmetry_site, num_symmetry_sites,\n",
    "               num_boundary_sites):\n",
    "    base_overlap = (rdm & u_l & u_r) ^ ...\n",
    "\n",
    "    right_fp_overlap = get_right_fp_overlap(\n",
    "        rdm,\n",
    "        u_l,\n",
    "        u_r,\n",
    "        left_most_symmetry_site,\n",
    "        num_symmetry_sites,\n",
    "        num_boundary_sites\n",
    "    )\n",
    "\n",
    "    left_fp_overlap = get_left_fp_overlap(\n",
    "        rdm,\n",
    "        u_l,\n",
    "        u_r,\n",
    "        left_most_symmetry_site,\n",
    "        num_symmetry_sites,\n",
    "        num_boundary_sites\n",
    "    )\n",
    "\n",
    "    right_fp_charge = right_fp_overlap/base_overlap\n",
    "    left_fp_charge = left_fp_overlap/base_overlap\n",
    "\n",
    "    return (left_fp_charge, right_fp_charge, base_overlap)"
   ]
  },
  {
   "cell_type": "markdown",
   "id": "4c5e699e-abda-42f5-b57e-238517eb3fe1",
   "metadata": {},
   "source": [
    "# Extract SPT phase\n",
    "## Fermionic group cohomology"
   ]
  },
  {
   "cell_type": "code",
   "execution_count": 68,
   "id": "88afc57c-5227-4220-94e3-717a2e8db407",
   "metadata": {},
   "outputs": [],
   "source": [
    "num_boundary_sites=4\n",
    "left_most_symmetry_site=60\n",
    "num_symmetry_sites=80\n",
    "bond_dimension=6\n",
    "\n",
    "total_physical_dim = 2**6"
   ]
  },
  {
   "cell_type": "code",
   "execution_count": 71,
   "id": "7dc8cbbc-53f2-46fd-a8f0-60b0ad3e63bf",
   "metadata": {},
   "outputs": [],
   "source": [
    "fp_charges = dict()\n",
    "\n",
    "for k, ops in best_boundary_operators.items():\n",
    "    u_l, u_r = ops\n",
    "\n",
    "    if k[0] == 0:\n",
    "        tenpy_psi = loaded_data_triv_proj_rep[k[1]]\n",
    "    elif k[0] == 1:\n",
    "        tenpy_psi = loaded_data_non_triv_proj_rep[k[1]]\n",
    "\n",
    "    bs = bosonic_np_symmetries[k[2]]\n",
    "    fs = fermionic_np_symmetries[k[3]]\n",
    "\n",
    "    symmetry_site_pairs = (\n",
    "        [(i, bs) for i in range(left_most_symmetry_site, left_most_symmetry_site+num_symmetry_sites, 2)]\n",
    "        + [(i, fs) for i in range(left_most_symmetry_site+1, left_most_symmetry_site+num_symmetry_sites+1, 2)]\n",
    "    )\n",
    "\n",
    "    rdm = generate_rdm_from_tenpy_psi(\n",
    "        tenpy_psi,\n",
    "        symmetry_site_pairs,\n",
    "        left_most_symmetry_site,\n",
    "        num_symmetry_sites,\n",
    "        num_boundary_sites\n",
    "    )\n",
    "\n",
    "    out = get_fp_charges(\n",
    "        rdm,\n",
    "        u_l,\n",
    "        u_r,\n",
    "        left_most_symmetry_site,\n",
    "        num_symmetry_sites,\n",
    "        num_boundary_sites\n",
    "    )\n",
    "\n",
    "    fp_charges[k] = out"
   ]
  },
  {
   "cell_type": "code",
   "execution_count": 72,
   "id": "4b48f2bf-32fa-4e65-b129-443dbe262805",
   "metadata": {},
   "outputs": [],
   "source": [
    "interpolation_values = np.round(np.linspace(0,1,21), 2)"
   ]
  },
  {
   "cell_type": "code",
   "execution_count": 73,
   "id": "399f3af7-d38e-446f-ae6b-71e98e9e8e5d",
   "metadata": {},
   "outputs": [],
   "source": [
    "fp_charges_array = np.zeros((2, len(interpolation_values), 3, 2, 2), dtype='complex')\n",
    "\n",
    "for t_nt in range(2):\n",
    "    for i, t in enumerate(interpolation_values):\n",
    "        for b in range(1, 4):\n",
    "            for jw in range(2):\n",
    "                for side in range(2):\n",
    "                    charge = fp_charges[(t_nt, t, b, jw)][side]\n",
    "                    fp_charges_array[t_nt, i, b-1, jw, side] = charge"
   ]
  },
  {
   "cell_type": "code",
   "execution_count": 74,
   "id": "c61b8158-9d93-484a-9edd-3d1c1d74787d",
   "metadata": {},
   "outputs": [
    {
     "data": {
      "text/plain": [
       "(2, 21, 3, 2, 2)"
      ]
     },
     "execution_count": 74,
     "metadata": {},
     "output_type": "execute_result"
    }
   ],
   "source": [
    "fp_charges_array.shape"
   ]
  },
  {
   "cell_type": "code",
   "execution_count": 75,
   "id": "3b98f1de-68c2-4f36-a200-23e21024d901",
   "metadata": {},
   "outputs": [
    {
     "data": {
      "text/plain": [
       "array([[[[ 0.99461387-1.05237833e-01j,  0.99461387-1.05237833e-01j],\n",
       "         [ 1.23968771-8.97830927e-01j,  1.23968771-8.97830927e-01j]],\n",
       "\n",
       "        [[ 1.        -4.41984119e-16j,  1.        +3.86736104e-16j],\n",
       "         [ 1.        -2.57046060e-16j,  1.        +3.42728080e-16j]],\n",
       "\n",
       "        [[ 1.01033998+4.71160820e-02j,  1.01033998+4.71160820e-02j],\n",
       "         [-3.10329868-2.86488356e+00j, -3.10329868-2.86488356e+00j]]],\n",
       "\n",
       "\n",
       "       [[[ 0.991953  -6.21275654e-03j,  0.991953  -6.21275654e-03j],\n",
       "         [ 1.0253804 -3.69191874e-03j,  1.0253804 -3.69191874e-03j]],\n",
       "\n",
       "        [[-0.76813977+7.51531941e-02j, -0.76813977+7.51531941e-02j],\n",
       "         [-1.00317003-1.06728567e-02j, -1.00317003-1.06728567e-02j]],\n",
       "\n",
       "        [[-1.        +7.71345190e-16j, -1.        +1.41413285e-15j],\n",
       "         [-1.        +7.07502590e-15j, -1.        -2.50697696e-15j]]]])"
      ]
     },
     "execution_count": 75,
     "metadata": {},
     "output_type": "execute_result"
    }
   ],
   "source": [
    "fp_charges_array[:, 10, ...]"
   ]
  },
  {
   "cell_type": "markdown",
   "id": "e399b070-cd5c-48f7-a91f-8f26e08ee447",
   "metadata": {},
   "source": [
    "Clean up data."
   ]
  },
  {
   "cell_type": "code",
   "execution_count": 80,
   "id": "3e004732-4a03-4eac-9e29-a9f0b6e85181",
   "metadata": {},
   "outputs": [
    {
     "data": {
      "text/plain": [
       "2.8648835570859643"
      ]
     },
     "execution_count": 80,
     "metadata": {},
     "output_type": "execute_result"
    }
   ],
   "source": [
    "np.max(np.abs(np.imag(fp_charges_array)))"
   ]
  },
  {
   "cell_type": "code",
   "execution_count": 81,
   "id": "d7d2d28b-f7ed-4347-a6ad-7c064e6e8a89",
   "metadata": {},
   "outputs": [
    {
     "data": {
      "text/plain": [
       "2.8648835570859643"
      ]
     },
     "execution_count": 81,
     "metadata": {},
     "output_type": "execute_result"
    }
   ],
   "source": [
    "np.max(np.abs(np.imag(fp_charges_array[:, 10, ...])))"
   ]
  },
  {
   "cell_type": "code",
   "execution_count": 82,
   "id": "42c6a61a-d78d-42f7-82a5-90ec6173fc2f",
   "metadata": {},
   "outputs": [
    {
     "data": {
      "text/plain": [
       "1.5521036817097275e-14"
      ]
     },
     "execution_count": 82,
     "metadata": {},
     "output_type": "execute_result"
    }
   ],
   "source": [
    "np.max(np.abs(np.imag(fp_charges_array[:, :10, ...])))"
   ]
  },
  {
   "cell_type": "code",
   "execution_count": 83,
   "id": "02119a78-bbd0-436a-b4d1-e8d57f86853f",
   "metadata": {},
   "outputs": [
    {
     "data": {
      "text/plain": [
       "3.573100458247197e-15"
      ]
     },
     "execution_count": 83,
     "metadata": {},
     "output_type": "execute_result"
    }
   ],
   "source": [
    "np.max(np.abs(np.imag(fp_charges_array[:, 11:, ...])))"
   ]
  },
  {
   "cell_type": "markdown",
   "id": "7415e819-41d4-4b18-96ff-8c08e2283894",
   "metadata": {},
   "source": [
    "So ignore imaginary part and throw away critical points."
   ]
  },
  {
   "cell_type": "code",
   "execution_count": 84,
   "id": "6427a931-c40b-4fef-9da6-d6971eb76dd6",
   "metadata": {},
   "outputs": [],
   "source": [
    "fp_charges_array = np.real(fp_charges_array)\n",
    "fp_charges_array = np.delete(fp_charges_array, 10, axis=1)"
   ]
  },
  {
   "cell_type": "code",
   "execution_count": 86,
   "id": "921aff54-4ec3-4143-a789-427001126937",
   "metadata": {},
   "outputs": [
    {
     "data": {
      "text/plain": [
       "False"
      ]
     },
     "execution_count": 86,
     "metadata": {},
     "output_type": "execute_result"
    }
   ],
   "source": [
    "np.all(np.abs(np.real(fp_charges_array)) == 1)"
   ]
  },
  {
   "cell_type": "code",
   "execution_count": 87,
   "id": "01bcdedf-9df3-4a2c-922a-07a79bda9171",
   "metadata": {},
   "outputs": [
    {
     "data": {
      "text/plain": [
       "7.771561172376096e-15"
      ]
     },
     "execution_count": 87,
     "metadata": {},
     "output_type": "execute_result"
    }
   ],
   "source": [
    "np.max(np.abs(np.abs(np.real(fp_charges_array)) - 1))"
   ]
  },
  {
   "cell_type": "markdown",
   "id": "a8cf2fed-703e-423a-a01b-78d87ebea104",
   "metadata": {},
   "source": [
    "Ok, so all close to $\\pm 1$."
   ]
  },
  {
   "cell_type": "code",
   "execution_count": 88,
   "id": "e31cdf6b-f24d-45e5-a5f4-b568e617ba77",
   "metadata": {},
   "outputs": [
    {
     "data": {
      "text/plain": [
       "7.771561172376096e-15"
      ]
     },
     "execution_count": 88,
     "metadata": {},
     "output_type": "execute_result"
    }
   ],
   "source": [
    "np.max(np.abs(np.abs(fp_charges_array) - 1))"
   ]
  },
  {
   "cell_type": "code",
   "execution_count": 89,
   "id": "39b6ef7a-efac-4679-8bba-9d4d093ad71e",
   "metadata": {},
   "outputs": [
    {
     "data": {
      "text/plain": [
       "array([-1., -1., -1., -1., -1., -1., -1., -1., -1., -1., -1., -1., -1.,\n",
       "       -1., -1., -1., -1., -1., -1., -1., -1., -1., -1., -1., -1., -1.,\n",
       "       -1., -1., -1., -1., -1., -1., -1., -1., -1., -1., -1., -1., -1.,\n",
       "        1.,  1.,  1.,  1.,  1.,  1.,  1.,  1.,  1.,  1.,  1.,  1.,  1.,\n",
       "        1.,  1.,  1.,  1.,  1.,  1.,  1.,  1.,  1.,  1.,  1.,  1.])"
      ]
     },
     "execution_count": 89,
     "metadata": {},
     "output_type": "execute_result"
    }
   ],
   "source": [
    "np.unique(fp_charges_array)"
   ]
  },
  {
   "cell_type": "code",
   "execution_count": 90,
   "id": "28764c60-f1c0-4e71-933a-7a09cb80f1df",
   "metadata": {},
   "outputs": [
    {
     "data": {
      "text/plain": [
       "False"
      ]
     },
     "execution_count": 90,
     "metadata": {},
     "output_type": "execute_result"
    }
   ],
   "source": [
    "np.all(np.abs(fp_charges_array) == 1)"
   ]
  },
  {
   "cell_type": "code",
   "execution_count": 93,
   "id": "d126ed97-4a27-4966-9a5e-daf83b92f152",
   "metadata": {},
   "outputs": [],
   "source": [
    "fp_charges_array = np.round(fp_charges_array, 0).astype('int')"
   ]
  },
  {
   "cell_type": "code",
   "execution_count": 94,
   "id": "0828594a-6550-4665-8fce-f6152437185d",
   "metadata": {},
   "outputs": [
    {
     "data": {
      "text/plain": [
       "array([-1,  1])"
      ]
     },
     "execution_count": 94,
     "metadata": {},
     "output_type": "execute_result"
    }
   ],
   "source": [
    "np.unique(fp_charges_array)"
   ]
  },
  {
   "cell_type": "code",
   "execution_count": 95,
   "id": "1c82b5ba-78a3-4b12-95e5-7db334af9ddd",
   "metadata": {},
   "outputs": [
    {
     "data": {
      "text/plain": [
       "True"
      ]
     },
     "execution_count": 95,
     "metadata": {},
     "output_type": "execute_result"
    }
   ],
   "source": [
    "np.all(fp_charges_array[...,0] == fp_charges_array[...,1])"
   ]
  },
  {
   "cell_type": "code",
   "execution_count": 96,
   "id": "152f7061-0012-41ab-acac-21fad73ec3aa",
   "metadata": {},
   "outputs": [],
   "source": [
    "fp_charges_array = fp_charges_array[...,0]"
   ]
  },
  {
   "cell_type": "code",
   "execution_count": 97,
   "id": "d50558a9-8722-4ab7-81fe-4ec88e64817a",
   "metadata": {},
   "outputs": [
    {
     "data": {
      "text/plain": [
       "True"
      ]
     },
     "execution_count": 97,
     "metadata": {},
     "output_type": "execute_result"
    }
   ],
   "source": [
    "np.all(fp_charges_array[...,0] == fp_charges_array[...,1])"
   ]
  },
  {
   "cell_type": "code",
   "execution_count": 98,
   "id": "57f73f26-9eae-4d0c-8d26-4d7d415004d0",
   "metadata": {},
   "outputs": [],
   "source": [
    "fp_charges_array = fp_charges_array[...,0]"
   ]
  },
  {
   "cell_type": "code",
   "execution_count": 99,
   "id": "1528ef33-64a4-4179-93cd-d28c9f991bf4",
   "metadata": {},
   "outputs": [
    {
     "data": {
      "text/plain": [
       "(2, 20, 3)"
      ]
     },
     "execution_count": 99,
     "metadata": {},
     "output_type": "execute_result"
    }
   ],
   "source": [
    "fp_charges_array.shape"
   ]
  },
  {
   "cell_type": "code",
   "execution_count": 100,
   "id": "953b1711-3087-481f-b333-13a1b5abacdd",
   "metadata": {},
   "outputs": [
    {
     "data": {
      "text/plain": [
       "array([[-1,  1, -1],\n",
       "       [-1,  1, -1],\n",
       "       [-1,  1, -1],\n",
       "       [-1,  1, -1],\n",
       "       [-1,  1, -1],\n",
       "       [-1,  1, -1],\n",
       "       [-1,  1, -1],\n",
       "       [-1,  1, -1],\n",
       "       [-1,  1, -1],\n",
       "       [-1,  1, -1],\n",
       "       [ 1,  1,  1],\n",
       "       [ 1,  1,  1],\n",
       "       [ 1,  1,  1],\n",
       "       [ 1,  1,  1],\n",
       "       [ 1,  1,  1],\n",
       "       [ 1,  1,  1],\n",
       "       [ 1,  1,  1],\n",
       "       [ 1,  1,  1],\n",
       "       [ 1,  1,  1],\n",
       "       [ 1,  1,  1]])"
      ]
     },
     "execution_count": 100,
     "metadata": {},
     "output_type": "execute_result"
    }
   ],
   "source": [
    "fp_charges_array[0]"
   ]
  },
  {
   "cell_type": "code",
   "execution_count": 101,
   "id": "efabbe19-3a4f-46d8-8430-6804d7afd0d4",
   "metadata": {},
   "outputs": [
    {
     "data": {
      "text/plain": [
       "array([[ 1, -1, -1],\n",
       "       [ 1, -1, -1],\n",
       "       [ 1, -1, -1],\n",
       "       [ 1, -1, -1],\n",
       "       [ 1, -1, -1],\n",
       "       [ 1, -1, -1],\n",
       "       [ 1, -1, -1],\n",
       "       [ 1, -1, -1],\n",
       "       [ 1, -1, -1],\n",
       "       [ 1, -1, -1],\n",
       "       [-1,  1, -1],\n",
       "       [-1,  1, -1],\n",
       "       [-1,  1, -1],\n",
       "       [-1,  1, -1],\n",
       "       [-1,  1, -1],\n",
       "       [-1,  1, -1],\n",
       "       [-1,  1, -1],\n",
       "       [-1,  1, -1],\n",
       "       [-1,  1, -1],\n",
       "       [-1,  1, -1]])"
      ]
     },
     "execution_count": 101,
     "metadata": {},
     "output_type": "execute_result"
    }
   ],
   "source": [
    "fp_charges_array[1, :]"
   ]
  },
  {
   "cell_type": "markdown",
   "id": "6603cfc4-6cb5-4c9e-b137-b6b28aee0655",
   "metadata": {},
   "source": [
    "All agree with previous results! Consistent."
   ]
  },
  {
   "cell_type": "code",
   "execution_count": 102,
   "id": "83cf3836-9c38-4137-8443-0fe5eb9789ed",
   "metadata": {},
   "outputs": [
    {
     "data": {
      "text/plain": [
       "(21,)"
      ]
     },
     "execution_count": 102,
     "metadata": {},
     "output_type": "execute_result"
    }
   ],
   "source": [
    "interpolation_values.shape"
   ]
  },
  {
   "cell_type": "code",
   "execution_count": 103,
   "id": "08f132fd-8005-4c10-bbff-d7d3010b20be",
   "metadata": {},
   "outputs": [],
   "source": [
    "sub_interpolation_values = np.delete(interpolation_values, 10)"
   ]
  },
  {
   "cell_type": "code",
   "execution_count": 104,
   "id": "cae2863b-9fa0-44f3-963d-ecd2afe3640e",
   "metadata": {},
   "outputs": [
    {
     "data": {
      "text/plain": [
       "(20,)"
      ]
     },
     "execution_count": 104,
     "metadata": {},
     "output_type": "execute_result"
    }
   ],
   "source": [
    "sub_interpolation_values.shape"
   ]
  },
  {
   "cell_type": "code",
   "execution_count": 105,
   "id": "6907573c-9d95-48b1-9ca6-490b26278e4b",
   "metadata": {},
   "outputs": [
    {
     "data": {
      "text/plain": [
       "array([[[-1,  1, -1],\n",
       "        [-1,  1, -1],\n",
       "        [-1,  1, -1],\n",
       "        [-1,  1, -1],\n",
       "        [-1,  1, -1],\n",
       "        [-1,  1, -1],\n",
       "        [-1,  1, -1],\n",
       "        [-1,  1, -1],\n",
       "        [-1,  1, -1],\n",
       "        [-1,  1, -1],\n",
       "        [ 1,  1,  1],\n",
       "        [ 1,  1,  1],\n",
       "        [ 1,  1,  1],\n",
       "        [ 1,  1,  1],\n",
       "        [ 1,  1,  1],\n",
       "        [ 1,  1,  1],\n",
       "        [ 1,  1,  1],\n",
       "        [ 1,  1,  1],\n",
       "        [ 1,  1,  1],\n",
       "        [ 1,  1,  1]],\n",
       "\n",
       "       [[ 1, -1, -1],\n",
       "        [ 1, -1, -1],\n",
       "        [ 1, -1, -1],\n",
       "        [ 1, -1, -1],\n",
       "        [ 1, -1, -1],\n",
       "        [ 1, -1, -1],\n",
       "        [ 1, -1, -1],\n",
       "        [ 1, -1, -1],\n",
       "        [ 1, -1, -1],\n",
       "        [ 1, -1, -1],\n",
       "        [-1,  1, -1],\n",
       "        [-1,  1, -1],\n",
       "        [-1,  1, -1],\n",
       "        [-1,  1, -1],\n",
       "        [-1,  1, -1],\n",
       "        [-1,  1, -1],\n",
       "        [-1,  1, -1],\n",
       "        [-1,  1, -1],\n",
       "        [-1,  1, -1],\n",
       "        [-1,  1, -1]]])"
      ]
     },
     "execution_count": 105,
     "metadata": {},
     "output_type": "execute_result"
    }
   ],
   "source": [
    "fp_charges_array"
   ]
  },
  {
   "cell_type": "code",
   "execution_count": 106,
   "id": "8ffc3bc8-cf7a-4f45-b164-f93a0e6f2ed8",
   "metadata": {},
   "outputs": [],
   "source": [
    "colors = [\n",
    "    'tab:blue',\n",
    "    'tab:orange',\n",
    "    'tab:green'\n",
    "]   "
   ]
  },
  {
   "cell_type": "code",
   "execution_count": 107,
   "id": "2f312f4e-d2d0-42d0-885f-85c8fdefbd5c",
   "metadata": {},
   "outputs": [],
   "source": [
    "symmetry_labels = [\n",
    "    'II',\n",
    "    'IX',\n",
    "    'XI',\n",
    "    'XX'\n",
    "]"
   ]
  },
  {
   "cell_type": "code",
   "execution_count": 110,
   "id": "19c8893a-c31e-403d-980a-c068faaaf217",
   "metadata": {},
   "outputs": [
    {
     "data": {
      "image/png": "[encoded data removed]",
      "text/plain": [
       "<Figure size 1200x400 with 2 Axes>"
      ]
     },
     "metadata": {},
     "output_type": "display_data"
    }
   ],
   "source": [
    "fig, (ax1, ax2) = plt.subplots(figsize=(12,4), ncols=2)\n",
    "\n",
    "for j, (col, label) in enumerate(zip(colors, symmetry_labels[1:])):\n",
    "    ax1.plot(\n",
    "        sub_interpolation_values[::-1],\n",
    "        fp_charges_array[0, :, j],\n",
    "        color=col,\n",
    "        label = label,\n",
    "        marker='D'\n",
    "    )\n",
    "\n",
    "    ax2.plot(\n",
    "        sub_interpolation_values[::-1],\n",
    "        fp_charges_array[1, :, j],\n",
    "        color=col,\n",
    "        label = label,\n",
    "        marker='D'\n",
    "    )\n",
    "\n",
    "for k, ax in enumerate([ax1, ax2]):\n",
    "    ax.xaxis.set_major_locator(\n",
    "        matplotlib.ticker.MultipleLocator(0.1)\n",
    "    )\n",
    "    ax.xaxis.set_minor_locator(\n",
    "        matplotlib.ticker.MultipleLocator(0.05)\n",
    "    )\n",
    "    \n",
    "    \n",
    "    ax.tick_params(\n",
    "        axis='both',\n",
    "        which='major',\n",
    "        labelsize=11\n",
    "    )\n",
    "    \n",
    "    ax.grid()\n",
    "    ax.grid(\n",
    "        which='minor',\n",
    "        axis='y',\n",
    "        linestyle='--',\n",
    "        zorder=-1e10\n",
    "    )\n",
    "    ax.set_axisbelow(True)\n",
    "\n",
    "    ax.set_ylabel(r'$(-1)^{n_1(g)}$', fontsize=11)\n",
    "    ax.set_xlabel('$t$', fontsize=11)\n",
    "\n",
    "    ax.title.set_text(rf'$H_{{f,{k+1}}}(t)$')\n",
    "    ax.title.set_fontsize(12)\n",
    "\n",
    "ax1.legend(loc='lower left', title='$g$')\n",
    "ax2.legend(loc='center right', title='$g$')\n",
    "\n",
    "ax2.set_ylabel('')\n",
    "ax2.set_yticklabels([])\n",
    "\n",
    "fig.subplots_adjust(wspace=0.1)\n",
    "\n",
    "fig.savefig(r'plots/n1_phase_fermionic_variational_unitary.png', dpi=200)"
   ]
  },
  {
   "cell_type": "code",
   "execution_count": 116,
   "id": "a55c3a51-e66c-448d-8207-a973ee642b6d",
   "metadata": {},
   "outputs": [],
   "source": [
    "scores_array = np.zeros((2, len(interpolation_values), 3, 2), dtype='complex')\n",
    "\n",
    "for t_nt in range(2):\n",
    "    for i, t in enumerate(interpolation_values):\n",
    "        for b in range(1, 4):\n",
    "            for jw in range(2):\n",
    "                score = fp_charges[(t_nt, t, b, jw)][2]\n",
    "                scores_array[t_nt, i, b-1, jw] = score"
   ]
  },
  {
   "cell_type": "code",
   "execution_count": 117,
   "id": "20fe2b4f-6fbc-4a9c-b811-28a6459d677c",
   "metadata": {},
   "outputs": [
    {
     "data": {
      "text/plain": [
       "count    2.520000e+02\n",
       "mean     8.807342e-01\n",
       "std      2.016100e-01\n",
       "min      1.440913e-08\n",
       "25%      8.471535e-01\n",
       "50%      9.757341e-01\n",
       "75%      9.957813e-01\n",
       "max      9.998641e-01\n",
       "dtype: float64"
      ]
     },
     "execution_count": 117,
     "metadata": {},
     "output_type": "execute_result"
    }
   ],
   "source": [
    "pd.Series(np.abs(scores_array.flatten())).describe()"
   ]
  },
  {
   "cell_type": "code",
   "execution_count": 118,
   "id": "e2f3822e-befb-433c-80dc-2f423325cbf3",
   "metadata": {},
   "outputs": [
    {
     "data": {
      "text/plain": [
       "(2, 21, 3, 2)"
      ]
     },
     "execution_count": 118,
     "metadata": {},
     "output_type": "execute_result"
    }
   ],
   "source": [
    "scores_array.shape"
   ]
  },
  {
   "cell_type": "code",
   "execution_count": 119,
   "id": "6a99ed4e-6101-4db6-bf62-e2f64a475343",
   "metadata": {},
   "outputs": [
    {
     "data": {
      "text/plain": [
       "(0.9950574778523473-0.07055447740541015j)"
      ]
     },
     "execution_count": 119,
     "metadata": {},
     "output_type": "execute_result"
    }
   ],
   "source": [
    "np.max(scores_array)"
   ]
  },
  {
   "cell_type": "code",
   "execution_count": 121,
   "id": "9ea5136a-43f9-45cb-be44-699619f2e399",
   "metadata": {},
   "outputs": [
    {
     "data": {
      "text/plain": [
       "0.3486470789800916"
      ]
     },
     "execution_count": 121,
     "metadata": {},
     "output_type": "execute_result"
    }
   ],
   "source": [
    "np.max(\n",
    "    np.delete(\n",
    "        np.abs(\n",
    "            np.abs(scores_array[...,0])\n",
    "            - np.abs(scores_array[...,1])\n",
    "        )\n",
    "        ,\n",
    "        10,\n",
    "        axis=1\n",
    "    )\n",
    ")"
   ]
  },
  {
   "cell_type": "code",
   "execution_count": 122,
   "id": "a327278a-8135-484c-85a3-c142ad334f13",
   "metadata": {
    "scrolled": true
   },
   "outputs": [],
   "source": [
    "single_fp_charges = {k: np.real(np.round(v[0], 2)) for k, v in fp_charges.items()}"
   ]
  },
  {
   "cell_type": "code",
   "execution_count": 123,
   "id": "f6fe4b71-f58d-498c-bbd4-363483fec042",
   "metadata": {},
   "outputs": [],
   "source": [
    "g = groupby(single_fp_charges.items(), key=lambda x: x[0][:-1])\n",
    "single_fp_charges_deduplicated = dict()\n",
    "\n",
    "for k, v in g:\n",
    "    if k[1] != 0.5:\n",
    "        values = [v1[1] for v1 in v]\n",
    "        assert len(Counter(values)) == 1\n",
    "        single_fp_charges_deduplicated[k] = values[0]"
   ]
  },
  {
   "cell_type": "code",
   "execution_count": 124,
   "id": "c938c884-de69-4ead-ac7e-00ed4619102c",
   "metadata": {
    "scrolled": true
   },
   "outputs": [
    {
     "data": {
      "text/plain": [
       "{(0, 0.75, 3): 1.0,\n",
       " (0, 0.9, 3): 1.0,\n",
       " (1, 0.35, 2): -1.0,\n",
       " (1, 0.9, 1): -1.0,\n",
       " (0, 0.2, 2): 1.0,\n",
       " (1, 0.75, 3): -1.0,\n",
       " (1, 0.0, 2): -1.0,\n",
       " (1, 0.25, 1): 1.0,\n",
       " (1, 0.8, 2): 1.0,\n",
       " (0, 0.3, 1): -1.0,\n",
       " (0, 0.6, 3): 1.0,\n",
       " (1, 0.4, 3): -1.0,\n",
       " (1, 0.05, 2): -1.0,\n",
       " (1, 0.1, 1): 1.0,\n",
       " (0, 0.45, 3): -1.0,\n",
       " (0, 0.1, 3): -1.0,\n",
       " (1, 0.85, 3): -1.0,\n",
       " (0, 0.4, 1): -1.0,\n",
       " (1, 0.15, 1): 1.0,\n",
       " (1, 0.6, 1): -1.0,\n",
       " (1, 0.3, 3): -1.0,\n",
       " (1, 0.45, 3): -1.0,\n",
       " (1, 1.0, 3): -1.0,\n",
       " (1, 0.35, 3): -1.0,\n",
       " (0, 0.9, 2): 1.0,\n",
       " (1, 0.65, 1): -1.0,\n",
       " (0, 0.55, 1): 1.0,\n",
       " (0, 0.0, 1): -1.0,\n",
       " (1, 0.0, 3): -1.0,\n",
       " (1, 0.75, 2): 1.0,\n",
       " (0, 0.7, 1): 1.0,\n",
       " (0, 0.35, 3): -1.0,\n",
       " (1, 0.55, 1): -1.0,\n",
       " (1, 0.05, 3): -1.0,\n",
       " (1, 0.4, 2): -1.0,\n",
       " (0, 0.6, 2): 1.0,\n",
       " (1, 0.95, 1): -1.0,\n",
       " (1, 0.45, 2): -1.0,\n",
       " (1, 0.3, 2): -1.0,\n",
       " (1, 0.85, 2): 1.0,\n",
       " (0, 0.1, 2): 1.0,\n",
       " (0, 0.7, 2): 1.0,\n",
       " (1, 0.25, 3): -1.0,\n",
       " (1, 0.75, 1): -1.0,\n",
       " (0, 0.65, 2): 1.0,\n",
       " (1, 0.1, 3): -1.0,\n",
       " (0, 0.0, 2): 1.0,\n",
       " (1, 0.65, 2): 1.0,\n",
       " (1, 0.2, 2): -1.0,\n",
       " (0, 0.75, 1): 1.0,\n",
       " (0, 0.25, 3): -1.0,\n",
       " (1, 0.15, 3): -1.0,\n",
       " (1, 1.0, 1): -1.0,\n",
       " (0, 0.55, 2): 1.0,\n",
       " (0, 0.95, 2): 1.0,\n",
       " (0, 0.8, 2): 1.0,\n",
       " (1, 0.6, 3): -1.0,\n",
       " (0, 0.15, 3): -1.0,\n",
       " (0, 0.45, 1): -1.0,\n",
       " (0, 1.0, 3): 1.0,\n",
       " (0, 0.85, 1): 1.0,\n",
       " (0, 0.35, 1): -1.0,\n",
       " (0, 0.65, 3): 1.0,\n",
       " (1, 0.0, 1): 1.0,\n",
       " (1, 0.25, 2): -1.0,\n",
       " (0, 0.7, 3): 1.0,\n",
       " (0, 0.2, 1): -1.0,\n",
       " (0, 0.25, 2): 1.0,\n",
       " (1, 0.2, 3): -1.0,\n",
       " (1, 0.35, 1): 1.0,\n",
       " (1, 0.7, 1): -1.0,\n",
       " (0, 0.0, 3): -1.0,\n",
       " (1, 0.15, 2): -1.0,\n",
       " (0, 0.8, 3): 1.0,\n",
       " (0, 0.95, 3): 1.0,\n",
       " (0, 0.55, 3): 1.0,\n",
       " (0, 0.05, 1): -1.0,\n",
       " (1, 0.1, 2): -1.0,\n",
       " (1, 0.8, 1): -1.0,\n",
       " (0, 1.0, 2): 1.0,\n",
       " (0, 0.15, 2): 1.0,\n",
       " (1, 0.55, 2): 1.0,\n",
       " (1, 0.4, 1): 1.0,\n",
       " (0, 0.6, 1): 1.0,\n",
       " (1, 0.45, 1): 1.0,\n",
       " (0, 0.1, 1): -1.0,\n",
       " (1, 0.95, 3): -1.0,\n",
       " (0, 0.3, 2): 1.0,\n",
       " (1, 0.05, 1): 1.0,\n",
       " (0, 0.4, 2): 1.0,\n",
       " (1, 0.9, 2): 1.0,\n",
       " (0, 1.0, 1): 1.0,\n",
       " (0, 0.05, 3): -1.0,\n",
       " (0, 0.95, 1): 1.0,\n",
       " (0, 0.85, 2): 1.0,\n",
       " (1, 0.7, 3): -1.0,\n",
       " (1, 0.65, 3): -1.0,\n",
       " (1, 0.55, 3): -1.0,\n",
       " (1, 0.6, 2): 1.0,\n",
       " (0, 0.9, 1): 1.0,\n",
       " (1, 0.9, 3): -1.0,\n",
       " (0, 0.3, 3): -1.0,\n",
       " (1, 0.95, 2): 1.0,\n",
       " (1, 0.3, 1): 1.0,\n",
       " (0, 0.4, 3): -1.0,\n",
       " (1, 0.85, 1): -1.0,\n",
       " (0, 0.65, 1): 1.0,\n",
       " (0, 0.2, 3): -1.0,\n",
       " (0, 0.75, 2): 1.0,\n",
       " (1, 0.2, 1): 1.0,\n",
       " (0, 0.8, 1): 1.0,\n",
       " (1, 1.0, 2): 1.0,\n",
       " (1, 0.8, 3): -1.0,\n",
       " (0, 0.45, 2): 1.0,\n",
       " (0, 0.35, 2): 1.0,\n",
       " (1, 0.7, 2): 1.0,\n",
       " (0, 0.25, 1): -1.0,\n",
       " (0, 0.05, 2): 1.0,\n",
       " (0, 0.85, 3): 1.0,\n",
       " (0, 0.15, 1): -1.0}"
      ]
     },
     "execution_count": 124,
     "metadata": {},
     "output_type": "execute_result"
    }
   ],
   "source": [
    "single_fp_charges_deduplicated"
   ]
  },
  {
   "cell_type": "markdown",
   "id": "e066fca1-f052-4627-984f-924e2aada875",
   "metadata": {},
   "source": [
    "Pull out correct cases."
   ]
  },
  {
   "cell_type": "code",
   "execution_count": 125,
   "id": "2a60563e-8991-4473-8f36-af6940576d2f",
   "metadata": {},
   "outputs": [],
   "source": [
    "signs_to_01 = {1.0: 0, -1.0: 1}"
   ]
  },
  {
   "cell_type": "code",
   "execution_count": 174,
   "id": "87d87203-98fc-46c7-94e6-313191d2337c",
   "metadata": {},
   "outputs": [],
   "source": [
    "correct_boundary_operators = {\n",
    "    k: best_boundary_operators[(*k, signs_to_01[v])]\n",
    "    for k, v in single_fp_charges_deduplicated.items()\n",
    "}"
   ]
  },
  {
   "cell_type": "code",
   "execution_count": 127,
   "id": "1437ff63-8d3e-41da-b046-8b7d21916895",
   "metadata": {},
   "outputs": [
    {
     "data": {
      "text/plain": [
       "120"
      ]
     },
     "execution_count": 127,
     "metadata": {},
     "output_type": "execute_result"
    }
   ],
   "source": [
    "len(correct_boundary_operators)"
   ]
  },
  {
   "cell_type": "code",
   "execution_count": 131,
   "id": "7dff7671-f7d4-4bf7-b512-7e71b05b97ba",
   "metadata": {},
   "outputs": [],
   "source": [
    "correct_boundary_scores = {\n",
    "    k: best_score_pairs[(*k, signs_to_01[v])][1]\n",
    "    for k, v in single_fp_charges_deduplicated.items()\n",
    "}"
   ]
  },
  {
   "cell_type": "code",
   "execution_count": 133,
   "id": "073a09a6-2eee-4dc6-9ce7-bba8dbc463cc",
   "metadata": {},
   "outputs": [
    {
     "data": {
      "text/plain": [
       "120"
      ]
     },
     "execution_count": 133,
     "metadata": {},
     "output_type": "execute_result"
    }
   ],
   "source": [
    "len(correct_boundary_scores.keys())"
   ]
  },
  {
   "cell_type": "markdown",
   "id": "aa7a7dbb-5c32-4a13-99a3-a19b63a02eb0",
   "metadata": {},
   "source": [
    "## Check scores of untaries"
   ]
  },
  {
   "cell_type": "markdown",
   "id": "f5b60152-8aef-4468-88db-244928af4b92",
   "metadata": {},
   "source": [
    "Compute overlap."
   ]
  },
  {
   "cell_type": "code",
   "execution_count": 136,
   "id": "7254d0bb-25f7-40b9-8d40-a23d08656a6d",
   "metadata": {},
   "outputs": [],
   "source": [
    "correct_scores_array = np.zeros((2, len(sub_interpolation_values), 3))\n",
    "\n",
    "for i in range(2):\n",
    "    for j, t in enumerate(sub_interpolation_values):\n",
    "        for b in range(1, 4):\n",
    "            correct_scores_array[i, j, b-1] = correct_boundary_scores[(i, t, b)]"
   ]
  },
  {
   "cell_type": "code",
   "execution_count": 137,
   "id": "9fe50ec7-2fd4-438d-9065-780d09fde9f0",
   "metadata": {},
   "outputs": [],
   "source": [
    "colors = [\n",
    "    'tab:blue',\n",
    "    'tab:orange',\n",
    "    'tab:green'\n",
    "]   "
   ]
  },
  {
   "cell_type": "code",
   "execution_count": 138,
   "id": "12b45781-0110-40e4-9a25-577e5e99e48a",
   "metadata": {},
   "outputs": [],
   "source": [
    "symmetry_labels = [\n",
    "    'II',\n",
    "    'IX',\n",
    "    'XI',\n",
    "    'XX'\n",
    "]"
   ]
  },
  {
   "cell_type": "code",
   "execution_count": 139,
   "id": "279624b9-c293-4020-8b0f-bff0167f77a8",
   "metadata": {},
   "outputs": [],
   "source": [
    "e, a, b, c = symmetry_labels"
   ]
  },
  {
   "cell_type": "code",
   "execution_count": 145,
   "id": "e674071d-3677-4a5b-8a03-06aab53e31e6",
   "metadata": {},
   "outputs": [
    {
     "data": {
      "image/png": "[encoded data removed]",
      "text/plain": [
       "<Figure size 1200x400 with 2 Axes>"
      ]
     },
     "metadata": {},
     "output_type": "display_data"
    }
   ],
   "source": [
    "fig, [ax1, ax2] = plt.subplots(figsize=(12,4), ncols=2)\n",
    "\n",
    "for k, ax in enumerate([ax1, ax2]):\n",
    "    for j, (col, label) in enumerate(zip(colors, symmetry_labels[1:])):\n",
    "        ax.plot(\n",
    "            1-sub_interpolation_values, # I ordered this wrong at definition\n",
    "            np.sqrt(1-correct_scores_array[k, :, j]),\n",
    "            color=col,\n",
    "            label=label,\n",
    "            marker='D'\n",
    "        )\n",
    "\n",
    "    ax.set_ylim(0, 1.1)\n",
    "    ax.xaxis.set_major_locator(\n",
    "        matplotlib.ticker.MultipleLocator(0.1)\n",
    "    )\n",
    "    ax.xaxis.set_minor_locator(\n",
    "        matplotlib.ticker.MultipleLocator(0.05)\n",
    "    )\n",
    "    \n",
    "    #ax.set_yscale('log')\n",
    "\n",
    "    ax.tick_params(\n",
    "        axis='both',\n",
    "        which='major',\n",
    "        labelsize=11\n",
    "    )\n",
    "    \n",
    "    ax.grid()\n",
    "    ax.grid(\n",
    "        which='minor',\n",
    "        axis='y',\n",
    "        linestyle='--',\n",
    "        zorder=-1e10\n",
    "    )\n",
    "    ax.set_axisbelow(True)\n",
    "\n",
    "    if k == 0:\n",
    "        ax.set_ylabel(r'$\\vert c \\vert$', fontsize=11)\n",
    "    ax.set_xlabel('$t$', fontsize=11)\n",
    "\n",
    "    if k == 1:\n",
    "        ax.legend(loc='lower center', title='$g$')\n",
    "\n",
    "    ax.title.set_text(rf'$H_{{f,{k+1}}}(t)$')\n",
    "    ax.title.set_fontsize(12)\n",
    "\n",
    "ax2.set_ylabel('')\n",
    "ax2.set_yticklabels([])\n",
    "\n",
    "fig.subplots_adjust(wspace=0.1)\n",
    "    \n",
    "#fig.savefig(r'plots/cost_function_from_mpo_fermionic.png', dpi=200)"
   ]
  },
  {
   "cell_type": "markdown",
   "id": "f0a452c9-0b33-422a-8395-bde67c2cc56c",
   "metadata": {},
   "source": [
    "Plot variances over all scores."
   ]
  },
  {
   "cell_type": "code",
   "execution_count": 155,
   "id": "183ae7d6-1cb4-4db7-b37a-aa177eaa4bd6",
   "metadata": {},
   "outputs": [],
   "source": [
    "mean_overlaps_array = np.zeros((2, len(sub_interpolation_values), 3))\n",
    "min_overlaps_array = np.zeros((2, len(sub_interpolation_values), 3))\n",
    "max_overlaps_array = np.zeros((2, len(sub_interpolation_values), 3))\n",
    "\n",
    "for i in range(2):\n",
    "    for j, t in enumerate(sub_interpolation_values):\n",
    "        for b in range(1, 4):\n",
    "            sub_scores = {\n",
    "                k: v for k, v in boundary_operator_scores.items()\n",
    "                if (k[:3] == (i, t, b)) and (k[-1] < 5)\n",
    "            }\n",
    "            sub_scores_array = np.array(list(sub_scores.values()))\n",
    "            overlaps_array = np.sqrt(1-sub_scores_array)\n",
    "\n",
    "            mean_overlaps_array[i, j, b-1] = np.mean(overlaps_array)\n",
    "            min_overlaps_array[i, j, b-1] = np.min(overlaps_array)\n",
    "            max_overlaps_array[i, j, b-1] = np.max(overlaps_array)"
   ]
  },
  {
   "cell_type": "code",
   "execution_count": 156,
   "id": "5f45468b-4eb3-4c09-9f58-db96e90aa06b",
   "metadata": {},
   "outputs": [
    {
     "data": {
      "image/png": "[encoded data removed]",
      "text/plain": [
       "<Figure size 1200x400 with 2 Axes>"
      ]
     },
     "metadata": {},
     "output_type": "display_data"
    }
   ],
   "source": [
    "figure_label_fontsize=25\n",
    "y_tick_label_fontsize=20\n",
    "y_label_fontsize=25\n",
    "x_tick_label_fontsize=20\n",
    "x_label_fontsize=25\n",
    "row_label_fontsize=25\n",
    "\n",
    "axis_spine_linewidth = 1.5\n",
    "\n",
    "major_tick_length = 8\n",
    "major_tick_width = 1.8\n",
    "minor_tick_length = 6\n",
    "minor_tick_width = 1.2\n",
    "\n",
    "phase_linewidth = 2.5\n",
    "\n",
    "fig, [ax1, ax2] = plt.subplots(figsize=(12,4), ncols=2)\n",
    "\n",
    "for k, ax in enumerate([ax1, ax2]):\n",
    "    for j, (col, label) in enumerate(zip(colors, symmetry_labels[1:])):\n",
    "        x_shift = 0.01*(i-1)\n",
    "        ax.errorbar(\n",
    "            1-sub_interpolation_values + x_shift, # I ordered this wrong at definition\n",
    "            mean_overlaps_array[k, :, j],\n",
    "            yerr=[\n",
    "                (mean_overlaps_array-min_overlaps_array)[k, :, j],\n",
    "                (max_overlaps_array-mean_overlaps_array)[k, :, j],\n",
    "            ],\n",
    "            color=col,\n",
    "            label=label,\n",
    "            fmt='-',\n",
    "            capsize=2,\n",
    "            linewidth=phase_linewidth,\n",
    "        )\n",
    "\n",
    "    ax.set_ylim(0, 1.1)\n",
    "    ax.xaxis.set_major_locator(\n",
    "        matplotlib.ticker.MultipleLocator(0.1)\n",
    "    )\n",
    "    ax.xaxis.set_minor_locator(\n",
    "        matplotlib.ticker.MultipleLocator(0.05)\n",
    "    )\n",
    "    \n",
    "    #ax.set_yscale('log')\n",
    "\n",
    "    ax.tick_params(\n",
    "        axis='both',\n",
    "        which='major',\n",
    "        labelsize=11\n",
    "    )\n",
    "    \n",
    "    ax.grid()\n",
    "    ax.grid(\n",
    "        which='minor',\n",
    "        axis='y',\n",
    "        linestyle='--',\n",
    "        zorder=-1e10\n",
    "    )\n",
    "    ax.set_axisbelow(True)\n",
    "\n",
    "    if k == 0:\n",
    "        ax.set_ylabel(r'$\\vert c \\vert$', fontsize=11)\n",
    "    ax.set_xlabel('$t$', fontsize=11)\n",
    "\n",
    "    if k == 1:\n",
    "        ax.legend(loc='lower center', title='$g$')\n",
    "\n",
    "    ax.title.set_text(rf'$H_{{f,{k+1}}}(t)$')\n",
    "    ax.title.set_fontsize(12)\n",
    "\n",
    "ax2.set_ylabel('')\n",
    "ax2.set_yticklabels([])\n",
    "\n",
    "fig.subplots_adjust(wspace=0.1)\n",
    "    \n",
    "#fig.savefig(r'plots/cost_function_from_mpo_fermionic.png', dpi=200)"
   ]
  },
  {
   "cell_type": "markdown",
   "id": "37e63b05-2d2f-4ae3-8bf4-7754d5a5b38b",
   "metadata": {},
   "source": [
    "## Proj rep group cohomology"
   ]
  },
  {
   "cell_type": "markdown",
   "id": "d3482ae3-18bf-4b3e-83d9-66ce61dffe7f",
   "metadata": {},
   "source": [
    "### Group data definitions"
   ]
  },
  {
   "cell_type": "code",
   "execution_count": 157,
   "id": "10721838-5776-4da8-9618-01dd30494f13",
   "metadata": {},
   "outputs": [],
   "source": [
    "symmetry_labels = [\n",
    "    'II',\n",
    "    'IX',\n",
    "    'XI',\n",
    "    'XX'\n",
    "]"
   ]
  },
  {
   "cell_type": "code",
   "execution_count": 158,
   "id": "d1cd215b-c62c-405e-9adc-9a97db7142e2",
   "metadata": {},
   "outputs": [],
   "source": [
    "symmetry_combination_labels = list(combinations(symmetry_labels, 2))"
   ]
  },
  {
   "cell_type": "code",
   "execution_count": 159,
   "id": "45a081ff-eb82-4ff5-9700-55f11824f366",
   "metadata": {},
   "outputs": [
    {
     "data": {
      "text/plain": [
       "[('II', 'IX'),\n",
       " ('II', 'XI'),\n",
       " ('II', 'XX'),\n",
       " ('IX', 'XI'),\n",
       " ('IX', 'XX'),\n",
       " ('XI', 'XX')]"
      ]
     },
     "execution_count": 159,
     "metadata": {},
     "output_type": "execute_result"
    }
   ],
   "source": [
    "symmetry_combination_labels"
   ]
  },
  {
   "cell_type": "code",
   "execution_count": 160,
   "id": "aab20cf0-ae51-4603-9192-5ba0741b6a6d",
   "metadata": {},
   "outputs": [],
   "source": [
    "e, a, b, c = symmetry_labels"
   ]
  },
  {
   "cell_type": "code",
   "execution_count": 161,
   "id": "955bfb99-9c73-4794-b14e-f62f7872abe5",
   "metadata": {},
   "outputs": [],
   "source": [
    "group_products = [\n",
    "    (a, b, c),\n",
    "    (b, a, c),\n",
    "    (a, c, b),\n",
    "    (c, a, b),\n",
    "    (c, b, a),\n",
    "    (b, c, a)\n",
    "]"
   ]
  },
  {
   "cell_type": "markdown",
   "id": "86b3d120-3883-4796-9ca0-a0d79f569c2b",
   "metadata": {},
   "source": [
    "### Evaluate"
   ]
  },
  {
   "cell_type": "code",
   "execution_count": 221,
   "id": "11496e64-23d9-4281-88dc-8d6625465b92",
   "metadata": {},
   "outputs": [],
   "source": [
    "def rdm_trace(rdm):\n",
    "    outer_inds = rdm.inds\n",
    "\n",
    "    k_inds = sorted([\n",
    "        i for i in outer_inds if i[0] == 'k'\n",
    "    ])\n",
    "\n",
    "\n",
    "    b_inds = sorted([\n",
    "        i for i in outer_inds if i[0] == 'b'\n",
    "    ])\n",
    "\n",
    "    return rdm.trace(k_inds, b_inds)"
   ]
  },
  {
   "cell_type": "code",
   "execution_count": 219,
   "id": "f8a8ee33-6ba6-4366-9840-800bd212af1d",
   "metadata": {},
   "outputs": [],
   "source": [
    "def get_proj_rep_phase(rho, u_g, u_h, u_gh):\n",
    "    us = [u_g.copy(), u_h.copy(), u_gh.copy()]\n",
    "\n",
    "    relabel_circuit(us[0], 'k', 'l')\n",
    "    relabel_circuit(us[1], 'l', 'm')\n",
    "    relabel_circuit(us[2], 'b', 'm')\n",
    "\n",
    "    us[2] = us[2].conj()\n",
    "\n",
    "    out = (rho & us[0] & us[1] & us[2]) ^ ...\n",
    "    out = rdm_trace(out)\n",
    "\n",
    "    return (out/(np.abs(out)), np.abs(out))"
   ]
  },
  {
   "cell_type": "code",
   "execution_count": 163,
   "id": "8b500fd2-c687-4f66-acad-eff4d648badb",
   "metadata": {},
   "outputs": [],
   "source": [
    "def get_quimb_mps_from_tenpy_mps(tenpy_mps):\n",
    "    psi_arrays = list()\n",
    "    psi_arrays.append(tenpy_mps.get_B(0, 'Th')[0, ...].to_ndarray())\n",
    "    for i in range(1, tenpy_mps.L-1):\n",
    "        psi_arrays.append(tenpy_mps.get_B(i).to_ndarray())\n",
    "    psi_arrays.append(tenpy_mps.get_B(tenpy_mps.L-1)[..., 0].to_ndarray())\n",
    "    \n",
    "    quimb_mps = (\n",
    "        qtn\n",
    "        .tensor_1d\n",
    "        .MatrixProductState(psi_arrays, shape='lpr')\n",
    "    )\n",
    "\n",
    "    return quimb_mps"
   ]
  },
  {
   "cell_type": "code",
   "execution_count": 177,
   "id": "dcb4078a-9db2-44cc-89e1-4ec295806d87",
   "metadata": {},
   "outputs": [],
   "source": [
    "def get_proj_rep_phases(rho, unitaries):\n",
    "    \"\"\"\n",
    "    quimb_mps = get_quimb_mps_from_tenpy_mps(tenpy_mps)\n",
    "    sites = [\n",
    "        int(s[1:]) for s in unitaries[0].ind_map\n",
    "        if s[0]=='k'\n",
    "    ]\n",
    "    rho = quimb_mps.partial_trace_to_mpo(sites, rescale_sites=False)\n",
    "    \"\"\"\n",
    "    out = list()\n",
    "\n",
    "    unitaries_dict = {\n",
    "        k: v for k, v in zip(symmetry_labels[1:], unitaries)\n",
    "    }\n",
    "\n",
    "    out_phases = list()\n",
    "    for a, b, c in group_products:\n",
    "        phase = get_proj_rep_phase(\n",
    "            rho,\n",
    "            unitaries_dict[a],\n",
    "            unitaries_dict[b],\n",
    "            unitaries_dict[c]\n",
    "        )\n",
    "\n",
    "        out_phases.append(phase)\n",
    "\n",
    "    return out_phases"
   ]
  },
  {
   "cell_type": "code",
   "execution_count": 178,
   "id": "2aed8f1d-6510-492d-aac6-517d604a4abb",
   "metadata": {},
   "outputs": [],
   "source": [
    "bs = bosonic_np_symmetries[0]\n",
    "fs = fermionic_np_symmetries[0]\n",
    "\n",
    "symmetry_site_pairs = (\n",
    "    [(i, bs) for i in range(left_most_symmetry_site, left_most_symmetry_site+num_symmetry_sites, 2)]\n",
    "    + [(i, fs) for i in range(left_most_symmetry_site+1, left_most_symmetry_site+num_symmetry_sites+1, 2)]\n",
    ")"
   ]
  },
  {
   "cell_type": "markdown",
   "id": "a57de576-2173-4182-8136-02f7c8cd02d8",
   "metadata": {},
   "source": [
    "Step through:"
   ]
  },
  {
   "cell_type": "code",
   "execution_count": 180,
   "id": "1599fa7c-beda-419d-812d-bbbd8e38d049",
   "metadata": {},
   "outputs": [
    {
     "data": {
      "image/png": "[encoded data removed]",
      "text/plain": [
       "<Figure size 600x600 with 1 Axes>"
      ]
     },
     "metadata": {
      "needs_background": "light"
     },
     "output_type": "display_data"
    }
   ],
   "source": [
    "rdm.draw()"
   ]
  },
  {
   "cell_type": "code",
   "execution_count": 181,
   "id": "0fd8e3d4-0e49-472b-bedf-d79fb5fbdcc3",
   "metadata": {},
   "outputs": [
    {
     "data": {
      "text/html": [
       "<samp style='font-size: 12px;'><details><summary><b style=\"color: #e259a5;\">TensorNetwork1D</b>(tensors=19, indices=44, L=200, max_bond=8)</summary><samp style='font-size: 12px;'><details><summary><b style=\"color: #e55471;\">Tensor</b>(shape=(<b style=\"color: #39acd6;\">8</b>, <b style=\"color: #39acd6;\">8</b>, <b style=\"color: #828fdd;\">2</b>, <b style=\"color: #828fdd;\">2</b>), inds=[<b style=\"color: #b54ae1;\">_585ff2ACtgn</b>, <b style=\"color: #58d854;\">_585ff2ACtgo</b>, <b style=\"color: #d1523d;\">k56-0</b>, <b style=\"color: #e2b787;\">k56-1</b>], tags={<b style=\"color: #e236e1;\">I56</b>}),</summary>backend=<b style=\"color: #7fdd73;\">numpy</b>, dtype=<b style=\"color: #75d2c6;\">float64</b>, data=...</details></samp><samp style='font-size: 12px;'><details><summary><b style=\"color: #e55471;\">Tensor</b>(shape=(<b style=\"color: #39acd6;\">8</b>, <b style=\"color: #39acd6;\">8</b>, <b style=\"color: #828fdd;\">2</b>), inds=[<b style=\"color: #58d854;\">_585ff2ACtgo</b>, <b style=\"color: #dd77b7;\">_585ff2ACtgp</b>, <b style=\"color: #cda663;\">k57</b>], tags={<b style=\"color: #e37956;\">I57</b>}),</summary>backend=<b style=\"color: #7fdd73;\">numpy</b>, dtype=<b style=\"color: #75d2c6;\">float64</b>, data=...</details></samp><samp style='font-size: 12px;'><details><summary><b style=\"color: #e55471;\">Tensor</b>(shape=(<b style=\"color: #39acd6;\">8</b>, <b style=\"color: #39acd6;\">8</b>, <b style=\"color: #828fdd;\">2</b>, <b style=\"color: #828fdd;\">2</b>), inds=[<b style=\"color: #dd77b7;\">_585ff2ACtgp</b>, <b style=\"color: #4d8bdc;\">_585ff2ACtgq</b>, <b style=\"color: #b0dd5c;\">k58-0</b>, <b style=\"color: #463dcf;\">k58-1</b>], tags={<b style=\"color: #dc85c6;\">I58</b>}),</summary>backend=<b style=\"color: #7fdd73;\">numpy</b>, dtype=<b style=\"color: #75d2c6;\">float64</b>, data=...</details></samp><samp style='font-size: 12px;'><details><summary><b style=\"color: #e55471;\">Tensor</b>(shape=(<b style=\"color: #39acd6;\">8</b>, <b style=\"color: #39acd6;\">8</b>, <b style=\"color: #828fdd;\">2</b>), inds=[<b style=\"color: #4d8bdc;\">_585ff2ACtgq</b>, <b style=\"color: #42cf98;\">_585ff2ACtgr</b>, <b style=\"color: #93e0a6;\">k59</b>], tags={<b style=\"color: #8be043;\">I59</b>}),</summary>backend=<b style=\"color: #7fdd73;\">numpy</b>, dtype=<b style=\"color: #75d2c6;\">float64</b>, data=...</details></samp><samp style='font-size: 12px;'><details><summary><b style=\"color: #e55471;\">Tensor</b>(shape=(<b style=\"color: #39acd6;\">8</b>, <b style=\"color: #39acd6;\">8</b>, <b style=\"color: #828fdd;\">2</b>, <b style=\"color: #828fdd;\">2</b>), inds=[<b style=\"color: #cbcc83;\">_585ff2ACtiT</b>, <b style=\"color: #d98e2f;\">_585ff2ACtiU</b>, <b style=\"color: #da71a8;\">k140-0</b>, <b style=\"color: #43d4b0;\">k140-1</b>], tags={<b style=\"color: #66d449;\">I140</b>}),</summary>backend=<b style=\"color: #7fdd73;\">numpy</b>, dtype=<b style=\"color: #75d2c6;\">float64</b>, data=...</details></samp><samp style='font-size: 12px;'><details><summary><b style=\"color: #e55471;\">Tensor</b>(shape=(<b style=\"color: #39acd6;\">8</b>, <b style=\"color: #39acd6;\">8</b>, <b style=\"color: #828fdd;\">2</b>), inds=[<b style=\"color: #d98e2f;\">_585ff2ACtiU</b>, <b style=\"color: #8a6bd6;\">_585ff2ACtiV</b>, <b style=\"color: #30d244;\">k141</b>], tags={<b style=\"color: #81d771;\">I141</b>}),</summary>backend=<b style=\"color: #7fdd73;\">numpy</b>, dtype=<b style=\"color: #75d2c6;\">float64</b>, data=...</details></samp><samp style='font-size: 12px;'><details><summary><b style=\"color: #e55471;\">Tensor</b>(shape=(<b style=\"color: #39acd6;\">8</b>, <b style=\"color: #39acd6;\">8</b>, <b style=\"color: #828fdd;\">2</b>, <b style=\"color: #828fdd;\">2</b>), inds=[<b style=\"color: #8a6bd6;\">_585ff2ACtiV</b>, <b style=\"color: #d5e281;\">_585ff2ACtiW</b>, <b style=\"color: #bf93e3;\">k142-0</b>, <b style=\"color: #d3772f;\">k142-1</b>], tags={<b style=\"color: #e47491;\">I142</b>}),</summary>backend=<b style=\"color: #7fdd73;\">numpy</b>, dtype=<b style=\"color: #75d2c6;\">float64</b>, data=...</details></samp><samp style='font-size: 12px;'><details><summary><b style=\"color: #e55471;\">Tensor</b>(shape=(<b style=\"color: #39acd6;\">8</b>, <b style=\"color: #39acd6;\">8</b>, <b style=\"color: #828fdd;\">2</b>), inds=[<b style=\"color: #d5e281;\">_585ff2ACtiW</b>, <b style=\"color: #335dcc;\">_585ff2ACtiX</b>, <b style=\"color: #6ad83b;\">k143</b>], tags={<b style=\"color: #b03ae3;\">I143</b>}),</summary>backend=<b style=\"color: #7fdd73;\">numpy</b>, dtype=<b style=\"color: #75d2c6;\">float64</b>, data=...</details></samp><samp style='font-size: 12px;'><details><summary><b style=\"color: #e55471;\">Tensor</b>(shape=(<b style=\"color: #39acd6;\">8</b>, <b style=\"color: #39acd6;\">8</b>, <b style=\"color: #828fdd;\">2</b>, <b style=\"color: #828fdd;\">2</b>), inds=[<b style=\"color: #db3e86;\">_585ff2ACtmG</b>, <b style=\"color: #dd9293;\">_585ff2ACtmH</b>, <b style=\"color: #929ce4;\">b56-0</b>, <b style=\"color: #68e16d;\">b56-1</b>], tags={<b style=\"color: #e236e1;\">I56</b>}),</summary>backend=<b style=\"color: #7fdd73;\">numpy</b>, dtype=<b style=\"color: #75d2c6;\">float64</b>, data=...</details></samp><samp style='font-size: 12px;'><details><summary><b style=\"color: #e55471;\">Tensor</b>(shape=(<b style=\"color: #39acd6;\">8</b>, <b style=\"color: #39acd6;\">8</b>, <b style=\"color: #828fdd;\">2</b>), inds=[<b style=\"color: #dd9293;\">_585ff2ACtmH</b>, <b style=\"color: #cd89e2;\">_585ff2ACtmI</b>, <b style=\"color: #a3d57a;\">b57</b>], tags={<b style=\"color: #e37956;\">I57</b>}),</summary>backend=<b style=\"color: #7fdd73;\">numpy</b>, dtype=<b style=\"color: #75d2c6;\">float64</b>, data=...</details></samp><samp style='font-size: 12px;'><details><summary><b style=\"color: #e55471;\">Tensor</b>(shape=(<b style=\"color: #39acd6;\">8</b>, <b style=\"color: #39acd6;\">8</b>, <b style=\"color: #828fdd;\">2</b>, <b style=\"color: #828fdd;\">2</b>), inds=[<b style=\"color: #cd89e2;\">_585ff2ACtmI</b>, <b style=\"color: #30e150;\">_585ff2ACtmJ</b>, <b style=\"color: #e16fc9;\">b58-0</b>, <b style=\"color: #6886ce;\">b58-1</b>], tags={<b style=\"color: #dc85c6;\">I58</b>}),</summary>backend=<b style=\"color: #7fdd73;\">numpy</b>, dtype=<b style=\"color: #75d2c6;\">float64</b>, data=...</details></samp><samp style='font-size: 12px;'><details><summary><b style=\"color: #e55471;\">Tensor</b>(shape=(<b style=\"color: #39acd6;\">8</b>, <b style=\"color: #39acd6;\">8</b>, <b style=\"color: #828fdd;\">2</b>), inds=[<b style=\"color: #30e150;\">_585ff2ACtmJ</b>, <b style=\"color: #a7d26a;\">_585ff2ACtmK</b>, <b style=\"color: #49e1a6;\">b59</b>], tags={<b style=\"color: #8be043;\">I59</b>}),</summary>backend=<b style=\"color: #7fdd73;\">numpy</b>, dtype=<b style=\"color: #75d2c6;\">float64</b>, data=...</details></samp><samp style='font-size: 12px;'><details><summary><b style=\"color: #e55471;\">Tensor</b>(shape=(<b style=\"color: #39acd6;\">8</b>, <b style=\"color: #39acd6;\">8</b>, <b style=\"color: #828fdd;\">2</b>, <b style=\"color: #828fdd;\">2</b>), inds=[<b style=\"color: #d545a9;\">_585ff2ACtnm</b>, <b style=\"color: #4046df;\">_585ff2ACtnn</b>, <b style=\"color: #c683cd;\">b140-0</b>, <b style=\"color: #e29d34;\">b140-1</b>], tags={<b style=\"color: #66d449;\">I140</b>}),</summary>backend=<b style=\"color: #7fdd73;\">numpy</b>, dtype=<b style=\"color: #75d2c6;\">float64</b>, data=...</details></samp><samp style='font-size: 12px;'><details><summary><b style=\"color: #e55471;\">Tensor</b>(shape=(<b style=\"color: #39acd6;\">8</b>, <b style=\"color: #39acd6;\">8</b>, <b style=\"color: #828fdd;\">2</b>), inds=[<b style=\"color: #4046df;\">_585ff2ACtnn</b>, <b style=\"color: #b583db;\">_585ff2ACtno</b>, <b style=\"color: #74e4df;\">b141</b>], tags={<b style=\"color: #81d771;\">I141</b>}),</summary>backend=<b style=\"color: #7fdd73;\">numpy</b>, dtype=<b style=\"color: #75d2c6;\">float64</b>, data=...</details></samp><samp style='font-size: 12px;'><details><summary><b style=\"color: #e55471;\">Tensor</b>(shape=(<b style=\"color: #39acd6;\">8</b>, <b style=\"color: #39acd6;\">8</b>, <b style=\"color: #828fdd;\">2</b>, <b style=\"color: #828fdd;\">2</b>), inds=[<b style=\"color: #b583db;\">_585ff2ACtno</b>, <b style=\"color: #6be346;\">_585ff2ACtnp</b>, <b style=\"color: #a9d96f;\">b142-0</b>, <b style=\"color: #a585de;\">b142-1</b>], tags={<b style=\"color: #e47491;\">I142</b>}),</summary>backend=<b style=\"color: #7fdd73;\">numpy</b>, dtype=<b style=\"color: #75d2c6;\">float64</b>, data=...</details></samp><samp style='font-size: 12px;'><details><summary><b style=\"color: #e55471;\">Tensor</b>(shape=(<b style=\"color: #39acd6;\">8</b>, <b style=\"color: #39acd6;\">8</b>, <b style=\"color: #828fdd;\">2</b>), inds=[<b style=\"color: #6be346;\">_585ff2ACtnp</b>, <b style=\"color: #c887e5;\">_585ff2ACtnq</b>, <b style=\"color: #d8c96a;\">b143</b>], tags={<b style=\"color: #b03ae3;\">I143</b>}),</summary>backend=<b style=\"color: #7fdd73;\">numpy</b>, dtype=<b style=\"color: #75d2c6;\">float64</b>, data=...</details></samp><samp style='font-size: 12px;'><details><summary><b style=\"color: #e55471;\">Tensor</b>(shape=(<b style=\"color: #39acd6;\">8</b>, <b style=\"color: #39acd6;\">8</b>), inds=[<b style=\"color: #b54ae1;\">_585ff2ACtgn</b>, <b style=\"color: #db3e86;\">_585ff2ACtmG</b>], tags={<b style=\"color: #d2b137;\">I0</b>, <b style=\"color: #d19b78;\">I1</b>, <b style=\"color: #dd5dd7;\">I2</b>, <b style=\"color: #dd65d9;\">I3</b>, <b style=\"color: #998ad1;\">I4</b>, <b style=\"color: #97dddc;\">I5</b>, <b style=\"color: #b2de5f;\">I6</b>, <b style=\"color: #5582d6;\">I7</b>, <b style=\"color: #8a3dd8;\">I8</b>, <b style=\"color: #d74979;\">I9</b>, <b style=\"color: #4e2bd3;\">I10</b>, <b style=\"color: #cc3988;\">I11</b>, <b style=\"color: #30a0d2;\">I12</b>, <b style=\"color: #59aad4;\">I13</b>, <b style=\"color: #e4d13e;\">I14</b>, <b style=\"color: #d54955;\">I15</b>, <b style=\"color: #d8af59;\">I16</b>, <b style=\"color: #84a0d7;\">I17</b>, <b style=\"color: #d360b6;\">I18</b>, <b style=\"color: #90e14b;\">I19</b>, <b style=\"color: #86cd64;\">I20</b>, <b style=\"color: #d769c1;\">I21</b>, <b style=\"color: #58cd8e;\">I22</b>, <b style=\"color: #3ed5df;\">I23</b>, <b style=\"color: #84a6d5;\">I24</b>, <b style=\"color: #e270b0;\">I25</b>, <b style=\"color: #e4ce85;\">I26</b>, <b style=\"color: #2fe42e;\">I27</b>, <b style=\"color: #77ce63;\">I28</b>, <b style=\"color: #d29e8c;\">I29</b>, <b style=\"color: #cecf73;\">I30</b>, <b style=\"color: #4ae341;\">I31</b>, <b style=\"color: #73d949;\">I32</b>, <b style=\"color: #54cf6a;\">I33</b>, <b style=\"color: #d6c363;\">I34</b>, <b style=\"color: #73ddd4;\">I35</b>, <b style=\"color: #73de36;\">I36</b>, <b style=\"color: #98ce58;\">I37</b>, <b style=\"color: #86b8d8;\">I38</b>, <b style=\"color: #5dde82;\">I39</b>, <b style=\"color: #d79954;\">I40</b>, <b style=\"color: #db7fb4;\">I41</b>, <b style=\"color: #3ad9cb;\">I42</b>, <b style=\"color: #82d291;\">I43</b>, <b style=\"color: #5adfc6;\">I44</b>, <b style=\"color: #5cdf8f;\">I45</b>, <b style=\"color: #c5e396;\">I46</b>, <b style=\"color: #4152d9;\">I47</b>, <b style=\"color: #a95fdc;\">I48</b>, <b style=\"color: #a5da82;\">I49</b>, <b style=\"color: #d94432;\">I50</b>, <b style=\"color: #709de5;\">I51</b>, <b style=\"color: #3adb88;\">I52</b>, <b style=\"color: #55a9dd;\">I53</b>, <b style=\"color: #ddca3e;\">I54</b>, <b style=\"color: #a6d86a;\">I55</b>}),</summary>backend=<b style=\"color: #7fdd73;\">numpy</b>, dtype=<b style=\"color: #75d2c6;\">float64</b>, data=array([[ 4.99865476e-01,  3.62426666e-15, -5.35323764e-17,\n",
       "         7.34770036e-18, -2.27880160e-18,  6.21233567e-18,\n",
       "        -4.17204333e-18, -2.22265930e-18],\n",
       "       [ 3.62179527e-15,  4.99865476e-01,  1.74636068e-17,\n",
       "         4.26281140e-17,  6.35175964e-18,  2.61193219e-18,\n",
       "        -5.06801923e-19, -6.28043633e-19],\n",
       "       [-5.43955120e-17,  1.70391107e-17,  1.34449134e-04,\n",
       "        -2.11118548e-19,  1.69160552e-20,  3.79220442e-20,\n",
       "         2.32924602e-20,  3.17549025e-20],\n",
       "       [ 6.91149619e-18,  4.25584787e-17, -2.26072204e-19,\n",
       "         1.34449134e-04,  3.56323665e-20, -2.30123838e-20,\n",
       "        -5.30925259e-20, -4.19071456e-20],\n",
       "       [-2.27368030e-18,  6.33430968e-18,  1.69711003e-20,\n",
       "         3.56230268e-20,  7.16208382e-08, -3.33086419e-22,\n",
       "        -1.03084673e-21,  1.25398185e-21],\n",
       "       [ 6.19175726e-18,  2.60112463e-18,  3.78200135e-20,\n",
       "        -2.28526815e-20, -3.33040725e-22,  7.16208382e-08,\n",
       "        -3.35836802e-22,  5.26264621e-22],\n",
       "       [-4.17156705e-18, -5.07918541e-19,  2.33239551e-20,\n",
       "        -5.30760972e-20, -1.03164169e-21, -3.37482917e-22,\n",
       "         3.73284564e-09, -3.00105853e-23],\n",
       "       [-2.22166731e-18, -6.28573698e-19,  3.17390823e-20,\n",
       "        -4.18776011e-20,  1.25330025e-21,  5.26143161e-22,\n",
       "        -3.00283681e-23,  3.73284564e-09]])</details></samp><samp style='font-size: 12px;'><details><summary><b style=\"color: #e55471;\">Tensor</b>(shape=(<b style=\"color: #39acd6;\">8</b>, <b style=\"color: #39acd6;\">8</b>, <b style=\"color: #39acd6;\">8</b>, <b style=\"color: #39acd6;\">8</b>), inds=[<b style=\"color: #42cf98;\">_585ff2ACtgr</b>, <b style=\"color: #cbcc83;\">_585ff2ACtiT</b>, <b style=\"color: #a7d26a;\">_585ff2ACtmK</b>, <b style=\"color: #d545a9;\">_585ff2ACtnm</b>], tags={<b style=\"color: #d9c267;\">I60</b>, <b style=\"color: #94d9c9;\">I61</b>, <b style=\"color: #40d786;\">I62</b>, <b style=\"color: #b157cf;\">I63</b>, <b style=\"color: #d2a48d;\">I64</b>, <b style=\"color: #dca369;\">I65</b>, <b style=\"color: #6b8adc;\">I66</b>, <b style=\"color: #3cce9a;\">I67</b>, <b style=\"color: #9ade47;\">I68</b>, <b style=\"color: #a2d134;\">I69</b>, <b style=\"color: #e4656c;\">I70</b>, <b style=\"color: #d3827b;\">I71</b>, <b style=\"color: #7754da;\">I72</b>, <b style=\"color: #d5789a;\">I73</b>, <b style=\"color: #7ed399;\">I74</b>, <b style=\"color: #37e337;\">I75</b>, <b style=\"color: #7bd092;\">I76</b>, <b style=\"color: #d48a81;\">I77</b>, <b style=\"color: #de5b94;\">I78</b>, <b style=\"color: #dabd85;\">I79</b>, <b style=\"color: #64d171;\">I80</b>, <b style=\"color: #93a7de;\">I81</b>, <b style=\"color: #d7388e;\">I82</b>, <b style=\"color: #34d4a0;\">I83</b>, <b style=\"color: #da2e87;\">I84</b>, <b style=\"color: #d968cf;\">I85</b>, <b style=\"color: #db99ce;\">I86</b>, <b style=\"color: #e561b4;\">I87</b>, <b style=\"color: #307de0;\">I88</b>, <b style=\"color: #8dd2a1;\">I89</b>, <b style=\"color: #9be1bb;\">I90</b>, <b style=\"color: #854cd5;\">I91</b>, <b style=\"color: #39ccd8;\">I92</b>, <b style=\"color: #a07fd3;\">I93</b>, <b style=\"color: #db7ed3;\">I94</b>, <b style=\"color: #869cd7;\">I95</b>, <b style=\"color: #5cc9e5;\">I96</b>, <b style=\"color: #d59cde;\">I97</b>, <b style=\"color: #64d478;\">I98</b>, <b style=\"color: #97a4de;\">I99</b>, <b style=\"color: #e2a07f;\">I100</b>, <b style=\"color: #ceaf82;\">I101</b>, <b style=\"color: #d2d363;\">I102</b>, <b style=\"color: #37cda2;\">I103</b>, <b style=\"color: #405cd9;\">I104</b>, <b style=\"color: #dae096;\">I105</b>, <b style=\"color: #6684d0;\">I106</b>, <b style=\"color: #54dc84;\">I107</b>, <b style=\"color: #54a8e2;\">I108</b>, <b style=\"color: #5d57d0;\">I109</b>, <b style=\"color: #9e35db;\">I110</b>, <b style=\"color: #db89e3;\">I111</b>, <b style=\"color: #4fdd34;\">I112</b>, <b style=\"color: #e18d6c;\">I113</b>, <b style=\"color: #3733d8;\">I114</b>, <b style=\"color: #9663dd;\">I115</b>, <b style=\"color: #d370dd;\">I116</b>, <b style=\"color: #d67e8b;\">I117</b>, <b style=\"color: #dae56a;\">I118</b>, <b style=\"color: #d78d72;\">I119</b>, <b style=\"color: #9bce35;\">I120</b>, <b style=\"color: #5ca8d1;\">I121</b>, <b style=\"color: #4673d2;\">I122</b>, <b style=\"color: #6cd3aa;\">I123</b>, <b style=\"color: #78cc46;\">I124</b>, <b style=\"color: #64d757;\">I125</b>, <b style=\"color: #accf61;\">I126</b>, <b style=\"color: #cf7662;\">I127</b>, <b style=\"color: #8c92d0;\">I128</b>, <b style=\"color: #e490af;\">I129</b>, <b style=\"color: #df7786;\">I130</b>, <b style=\"color: #6a7ecd;\">I131</b>, <b style=\"color: #dce25a;\">I132</b>, <b style=\"color: #deb867;\">I133</b>, <b style=\"color: #4562d4;\">I134</b>, <b style=\"color: #cc8a4c;\">I135</b>, <b style=\"color: #777fe3;\">I136</b>, <b style=\"color: #ce8fc1;\">I137</b>, <b style=\"color: #cd35b2;\">I138</b>, <b style=\"color: #df8fc9;\">I139</b>}),</summary>backend=<b style=\"color: #7fdd73;\">numpy</b>, dtype=<b style=\"color: #75d2c6;\">float64</b>, data=...</details></samp><samp style='font-size: 12px;'><details><summary><b style=\"color: #e55471;\">Tensor</b>(shape=(<b style=\"color: #39acd6;\">8</b>, <b style=\"color: #39acd6;\">8</b>), inds=[<b style=\"color: #335dcc;\">_585ff2ACtiX</b>, <b style=\"color: #c887e5;\">_585ff2ACtnq</b>], tags={<b style=\"color: #5840d3;\">I144</b>, <b style=\"color: #67d573;\">I145</b>, <b style=\"color: #de537d;\">I146</b>, <b style=\"color: #d98770;\">I147</b>, <b style=\"color: #a95fde;\">I148</b>, <b style=\"color: #2d7adb;\">I149</b>, <b style=\"color: #d0b066;\">I150</b>, <b style=\"color: #8784d0;\">I151</b>, <b style=\"color: #7c62d9;\">I152</b>, <b style=\"color: #6dce6d;\">I153</b>, <b style=\"color: #cb51cd;\">I154</b>, <b style=\"color: #792ccd;\">I155</b>, <b style=\"color: #d49270;\">I156</b>, <b style=\"color: #e5ba75;\">I157</b>, <b style=\"color: #e081c3;\">I158</b>, <b style=\"color: #7dcd84;\">I159</b>, <b style=\"color: #c3dd90;\">I160</b>, <b style=\"color: #d6d03f;\">I161</b>, <b style=\"color: #8dd245;\">I162</b>, <b style=\"color: #cc9d8a;\">I163</b>, <b style=\"color: #d5978f;\">I164</b>, <b style=\"color: #ce706a;\">I165</b>, <b style=\"color: #86a6d0;\">I166</b>, <b style=\"color: #42d084;\">I167</b>, <b style=\"color: #79d5a1;\">I168</b>, <b style=\"color: #e38d91;\">I169</b>, <b style=\"color: #6b54ce;\">I170</b>, <b style=\"color: #9ae5d9;\">I171</b>, <b style=\"color: #3d4fdb;\">I172</b>, <b style=\"color: #9c70d6;\">I173</b>, <b style=\"color: #a0d24f;\">I174</b>, <b style=\"color: #a499df;\">I175</b>, <b style=\"color: #d29154;\">I176</b>, <b style=\"color: #d8c481;\">I177</b>, <b style=\"color: #d84ad3;\">I178</b>, <b style=\"color: #6cd373;\">I179</b>, <b style=\"color: #d84e8a;\">I180</b>, <b style=\"color: #4e3ed2;\">I181</b>, <b style=\"color: #cddc8a;\">I182</b>, <b style=\"color: #d2cc8d;\">I183</b>, <b style=\"color: #c63ad8;\">I184</b>, <b style=\"color: #31da3d;\">I185</b>, <b style=\"color: #92dc7b;\">I186</b>, <b style=\"color: #b982d6;\">I187</b>, <b style=\"color: #e4ba59;\">I188</b>, <b style=\"color: #d58074;\">I189</b>, <b style=\"color: #e4369e;\">I190</b>, <b style=\"color: #7ae2ae;\">I191</b>, <b style=\"color: #b1dd4d;\">I192</b>, <b style=\"color: #59cd8c;\">I193</b>, <b style=\"color: #6add5a;\">I194</b>, <b style=\"color: #d082c4;\">I195</b>, <b style=\"color: #77d04e;\">I196</b>, <b style=\"color: #db4cc3;\">I197</b>, <b style=\"color: #ca64d3;\">I198</b>, <b style=\"color: #db7332;\">I199</b>}),</summary>backend=<b style=\"color: #7fdd73;\">numpy</b>, dtype=<b style=\"color: #75d2c6;\">float64</b>, data=array([[ 1.00000000e+00,  6.83356684e-17,  9.43987239e-17,\n",
       "         1.88105459e-17, -1.46573767e-16, -2.14403804e-16,\n",
       "        -6.78907806e-17,  5.72725882e-17],\n",
       "       [ 6.84040286e-17,  1.00000000e+00, -5.89432372e-17,\n",
       "        -1.29312733e-16, -2.02582933e-17, -1.77703401e-16,\n",
       "         7.55797584e-18,  7.94052778e-18],\n",
       "       [ 1.45924027e-16, -5.31532120e-17,  1.00000000e+00,\n",
       "         1.83627463e-16,  1.19263898e-16,  7.14255347e-17,\n",
       "         4.12527243e-16, -2.47438005e-16],\n",
       "       [ 1.82437190e-17, -1.39306169e-16,  2.06418503e-16,\n",
       "         1.00000000e+00,  1.96167063e-16,  4.38483547e-16,\n",
       "         1.06554384e-16,  1.27489209e-16],\n",
       "       [-9.69331150e-17, -3.22479793e-17,  7.65968795e-17,\n",
       "         1.61216143e-16,  1.00000000e+00, -4.20281972e-16,\n",
       "        -5.16592563e-16,  8.42820717e-17],\n",
       "       [-2.27933792e-16, -1.71143684e-16,  3.75682510e-17,\n",
       "         4.48992680e-16, -3.90465020e-16,  1.00000000e+00,\n",
       "        -3.77689839e-17,  6.05736095e-16],\n",
       "       [-8.32799042e-17, -8.66126575e-18,  4.44301572e-16,\n",
       "         1.55913175e-17, -4.97395293e-16, -1.37118735e-17,\n",
       "         1.00000000e+00,  3.35936193e-16],\n",
       "       [ 7.39809704e-17,  3.10408465e-17, -2.45739333e-16,\n",
       "         1.43843911e-16,  7.13656309e-17,  5.76037473e-16,\n",
       "         3.60630376e-16,  1.00000000e+00]])</details></samp></details></samp>"
      ],
      "text/plain": [
       "TensorNetwork1D(tensors=19, indices=44, L=200, max_bond=8)"
      ]
     },
     "execution_count": 181,
     "metadata": {},
     "output_type": "execute_result"
    }
   ],
   "source": [
    "rdm"
   ]
  },
  {
   "cell_type": "code",
   "execution_count": 200,
   "id": "b71c5dfd-e8cb-44ad-8cd0-102a166e961e",
   "metadata": {},
   "outputs": [],
   "source": [
    "us = [u.copy() for u in left_unitaries]"
   ]
  },
  {
   "cell_type": "code",
   "execution_count": 201,
   "id": "9babf970-00f3-4f17-96b0-0bc061df4cf7",
   "metadata": {},
   "outputs": [],
   "source": [
    "relabel_circuit(us[0], 'k', 'l')\n",
    "relabel_circuit(us[1], 'l', 'm')\n",
    "relabel_circuit(us[2], 'b', 'm')"
   ]
  },
  {
   "cell_type": "code",
   "execution_count": 202,
   "id": "5c44d1a8-1449-47f9-9c0d-952cb688dc3c",
   "metadata": {},
   "outputs": [
    {
     "data": {
      "image/png": "[encoded data removed]",
      "text/plain": [
       "<Figure size 600x600 with 1 Axes>"
      ]
     },
     "metadata": {
      "needs_background": "light"
     },
     "output_type": "display_data"
    }
   ],
   "source": [
    "us[1].draw()"
   ]
  },
  {
   "cell_type": "code",
   "execution_count": 203,
   "id": "72d63325-0b48-40c1-9694-7046e19c80f8",
   "metadata": {},
   "outputs": [
    {
     "data": {
      "image/png": "[encoded data removed]",
      "text/plain": [
       "<Figure size 600x600 with 1 Axes>"
      ]
     },
     "metadata": {
      "needs_background": "light"
     },
     "output_type": "display_data"
    }
   ],
   "source": [
    "rdm.draw()"
   ]
  },
  {
   "cell_type": "code",
   "execution_count": 205,
   "id": "a826e175-e657-4eb5-87d6-f71819033b9b",
   "metadata": {},
   "outputs": [],
   "source": [
    "us[2] = us[2].conj()\n",
    "\n",
    "out = (rdm & us[0] & us[1] & us[2]) ^ ..."
   ]
  },
  {
   "cell_type": "code",
   "execution_count": 206,
   "id": "7fc530e2-abb8-4bf1-8db0-ef919695bb9d",
   "metadata": {},
   "outputs": [
    {
     "data": {
      "image/png": "[encoded data removed]",
      "text/plain": [
       "<Figure size 600x600 with 1 Axes>"
      ]
     },
     "metadata": {
      "needs_background": "light"
     },
     "output_type": "display_data"
    }
   ],
   "source": [
    "out.draw()"
   ]
  },
  {
   "cell_type": "code",
   "execution_count": 207,
   "id": "52238775-ce39-483f-8d11-6a8bec298016",
   "metadata": {},
   "outputs": [],
   "source": [
    "us[2] = us[2].conj()\n",
    "\n",
    "out = (rdm & us[0] & us[1] & us[2])"
   ]
  },
  {
   "cell_type": "code",
   "execution_count": 208,
   "id": "18c0d411-53bf-4af2-91ee-65b2f4c7c9dd",
   "metadata": {},
   "outputs": [
    {
     "data": {
      "image/png": "[encoded data removed]",
      "text/plain": [
       "<Figure size 600x600 with 1 Axes>"
      ]
     },
     "metadata": {
      "needs_background": "light"
     },
     "output_type": "display_data"
    }
   ],
   "source": [
    "out.draw()"
   ]
  },
  {
   "cell_type": "code",
   "execution_count": 211,
   "id": "2528c935-94fb-4378-afba-9f3d0345c18d",
   "metadata": {},
   "outputs": [
    {
     "name": "stdout",
     "output_type": "stream",
     "text": [
      "Help on method trace in module quimb.tensor.tensor_core:\n",
      "\n",
      "trace(left_inds, right_inds, **contract_opts) method of quimb.tensor.tensor_core.TensorNetwork instance\n",
      "    Trace over ``left_inds`` joined with ``right_inds``\n",
      "\n"
     ]
    }
   ],
   "source": [
    "help(out.trace)"
   ]
  },
  {
   "cell_type": "code",
   "execution_count": 210,
   "id": "f6f0b2fa-841e-4c8d-98e6-4f9c911d7c1c",
   "metadata": {},
   "outputs": [
    {
     "ename": "TypeError",
     "evalue": "TensorNetwork.trace() missing 2 required positional arguments: 'left_inds' and 'right_inds'",
     "output_type": "error",
     "traceback": [
      "\u001b[0;31m---------------------------------------------------------------------------\u001b[0m",
      "\u001b[0;31mTypeError\u001b[0m                                 Traceback (most recent call last)",
      "Cell \u001b[0;32mIn[210], line 1\u001b[0m\n\u001b[0;32m----> 1\u001b[0m \u001b[43mout\u001b[49m\u001b[38;5;241;43m.\u001b[39;49m\u001b[43mtrace\u001b[49m\u001b[43m(\u001b[49m\u001b[43m)\u001b[49m\n",
      "\u001b[0;31mTypeError\u001b[0m: TensorNetwork.trace() missing 2 required positional arguments: 'left_inds' and 'right_inds'"
     ]
    }
   ],
   "source": [
    "out.trace()"
   ]
  },
  {
   "cell_type": "code",
   "execution_count": 212,
   "id": "efd17ec4-30a3-450a-bfc0-1f5726772c09",
   "metadata": {},
   "outputs": [
    {
     "data": {
      "image/png": "[encoded data removed]",
      "text/plain": [
       "<Figure size 600x600 with 1 Axes>"
      ]
     },
     "metadata": {
      "needs_background": "light"
     },
     "output_type": "display_data"
    }
   ],
   "source": [
    "rdm.draw()"
   ]
  },
  {
   "cell_type": "code",
   "execution_count": 215,
   "id": "59c84abd-ba85-4d13-a3db-82697687d287",
   "metadata": {},
   "outputs": [
    {
     "name": "stdout",
     "output_type": "stream",
     "text": [
      "Help on method trace in module quimb.tensor.tensor_core:\n",
      "\n",
      "trace(left_inds, right_inds, **contract_opts) method of quimb.tensor.tensor_1d.TensorNetwork1D instance\n",
      "    Trace over ``left_inds`` joined with ``right_inds``\n",
      "\n"
     ]
    }
   ],
   "source": [
    "help(rdm.trace)"
   ]
  },
  {
   "cell_type": "code",
   "execution_count": 222,
   "id": "df8e2304-70ca-449d-9b88-11f4d39f4ce2",
   "metadata": {},
   "outputs": [],
   "source": [
    "triv_proj_rep_phases = list()\n",
    "\n",
    "for t in sub_interpolation_values:\n",
    "    tenpy_mps = loaded_data_triv_proj_rep[t]\n",
    "    \n",
    "    rdm = generate_rdm_from_tenpy_psi(\n",
    "        tenpy_psi,\n",
    "        symmetry_site_pairs,\n",
    "        left_most_symmetry_site,\n",
    "        num_symmetry_sites,\n",
    "        num_boundary_sites\n",
    "    )\n",
    "\n",
    "    unitaries = [\n",
    "        correct_boundary_operators[(0, t, i)]\n",
    "        for i in [1,2,3]\n",
    "    ]\n",
    "\n",
    "    left_unitaries, right_unitaries = zip(*unitaries)\n",
    "\n",
    "    left_phases = get_proj_rep_phases(rdm, left_unitaries)\n",
    "    right_phases = get_proj_rep_phases(rdm, right_unitaries)\n",
    "\n",
    "    triv_proj_rep_phases.append([left_phases, right_phases])"
   ]
  },
  {
   "cell_type": "code",
   "execution_count": 223,
   "id": "f0203bb7-10b8-4da2-8c47-d2ef421a50b2",
   "metadata": {},
   "outputs": [],
   "source": [
    "triv_proj_rep_phases = np.array(triv_proj_rep_phases)"
   ]
  },
  {
   "cell_type": "code",
   "execution_count": 224,
   "id": "edc348c1-ddf8-4e32-ac28-d572a17f8967",
   "metadata": {},
   "outputs": [
    {
     "data": {
      "text/plain": [
       "(20, 2, 6, 2)"
      ]
     },
     "execution_count": 224,
     "metadata": {},
     "output_type": "execute_result"
    }
   ],
   "source": [
    "triv_proj_rep_phases.shape"
   ]
  },
  {
   "cell_type": "code",
   "execution_count": 225,
   "id": "46097abd-4afa-4427-8f3f-3db4222890b5",
   "metadata": {},
   "outputs": [
    {
     "data": {
      "text/plain": [
       "array([[[ 1.  -0.j  ,  1.  +0.j  ,  1.  +0.j  ],\n",
       "        [ 1.  -0.j  ,  1.  -0.j  ,  1.  -0.j  ]],\n",
       "\n",
       "       [[ 1.  -0.j  ,  1.  +0.j  ,  1.  +0.j  ],\n",
       "        [ 1.  -0.j  ,  1.  -0.j  ,  1.  -0.j  ]],\n",
       "\n",
       "       [[ 1.  -0.j  ,  1.  -0.j  ,  1.  +0.j  ],\n",
       "        [ 1.  +0.j  ,  1.  +0.j  ,  1.  +0.j  ]],\n",
       "\n",
       "       [[ 1.  +0.j  ,  1.  +0.j  ,  1.  +0.j  ],\n",
       "        [ 1.  +0.j  ,  1.  +0.j  ,  1.  -0.j  ]],\n",
       "\n",
       "       [[ 1.  +0.j  ,  1.  +0.j  ,  1.  +0.j  ],\n",
       "        [ 1.  +0.j  ,  1.  +0.j  ,  1.  +0.j  ]],\n",
       "\n",
       "       [[ 1.  -0.j  ,  1.  -0.j  ,  1.  +0.j  ],\n",
       "        [ 1.  +0.j  ,  1.  -0.j  ,  1.  +0.j  ]],\n",
       "\n",
       "       [[ 1.  +0.j  ,  1.  +0.j  ,  1.  +0.j  ],\n",
       "        [ 1.  -0.j  ,  1.  -0.j  ,  1.  -0.j  ]],\n",
       "\n",
       "       [[ 1.  -0.j  ,  1.  +0.j  ,  1.  +0.j  ],\n",
       "        [ 1.  +0.j  ,  1.  -0.j  ,  1.  -0.j  ]],\n",
       "\n",
       "       [[ 1.  +0.j  ,  1.  -0.j  ,  1.  +0.j  ],\n",
       "        [ 1.  +0.j  ,  1.  +0.j  ,  1.  -0.j  ]],\n",
       "\n",
       "       [[ 1.  +0.j  ,  1.  -0.j  ,  1.  +0.j  ],\n",
       "        [ 1.  -0.j  ,  1.  +0.j  ,  1.  +0.j  ]],\n",
       "\n",
       "       [[ 0.75+0.66j,  0.91-0.42j,  0.97-0.24j],\n",
       "        [ 0.96-0.28j,  0.99-0.17j,  1.  +0.02j]],\n",
       "\n",
       "       [[ 0.97+0.25j,  0.96-0.28j,  0.93-0.37j],\n",
       "        [ 0.82-0.57j,  0.96+0.27j,  0.97+0.26j]],\n",
       "\n",
       "       [[ 0.97+0.24j,  0.94-0.34j,  0.77-0.64j],\n",
       "        [ 0.91-0.41j,  0.81-0.58j,  1.  -0.j  ]],\n",
       "\n",
       "       [[ 0.89+0.46j,  1.  +0.02j,  0.19+0.98j],\n",
       "        [ 0.97+0.25j,  0.65+0.76j,  0.97-0.23j]],\n",
       "\n",
       "       [[ 0.99+0.15j,  0.82+0.57j,  0.73+0.68j],\n",
       "        [ 0.53-0.85j,  0.84+0.54j,  0.58+0.81j]],\n",
       "\n",
       "       [[ 0.29-0.96j,  0.92+0.4j ,  0.98+0.21j],\n",
       "        [ 0.29-0.96j,  0.99-0.16j, -0.08-1.j  ]],\n",
       "\n",
       "       [[ 1.  -0.01j,  1.  +0.j  ,  0.18+0.98j],\n",
       "        [ 0.65-0.76j,  0.99+0.12j,  0.88-0.48j]],\n",
       "\n",
       "       [[ 1.  +0.03j,  0.96-0.27j, -0.16+0.99j],\n",
       "        [ 0.99-0.14j,  0.98-0.19j,  0.97+0.24j]],\n",
       "\n",
       "       [[ 0.82+0.57j,  0.98+0.19j,  0.84-0.55j],\n",
       "        [ 0.65+0.76j,  0.93-0.37j,  0.98-0.17j]],\n",
       "\n",
       "       [[ 0.87-0.49j,  0.99+0.14j,  1.  -0.j  ],\n",
       "        [ 0.68+0.73j,  1.  -0.09j,  0.52-0.86j]]])"
      ]
     },
     "execution_count": 225,
     "metadata": {},
     "output_type": "execute_result"
    }
   ],
   "source": [
    "np.round(\n",
    "    triv_proj_rep_phases[..., ::2, 0]/triv_proj_rep_phases[..., 1::2, 0],\n",
    "    2\n",
    ")"
   ]
  },
  {
   "cell_type": "code",
   "execution_count": 226,
   "id": "eab6d72f-b056-414f-b3ab-3a39d21281bb",
   "metadata": {},
   "outputs": [],
   "source": [
    "triv_gauge_invariant_proj_rep_phase = triv_proj_rep_phases[..., ::2, 0]/triv_proj_rep_phases[..., 1::2, 0]"
   ]
  },
  {
   "cell_type": "code",
   "execution_count": 233,
   "id": "713378db-71f8-44ea-8078-3f97937aad46",
   "metadata": {},
   "outputs": [],
   "source": [
    "non_triv_proj_rep_phases = list()\n",
    "\n",
    "for t in sub_interpolation_values:\n",
    "    tenpy_mps = loaded_data_non_triv_proj_rep[t]\n",
    "\n",
    "    rdm = generate_rdm_from_tenpy_psi(\n",
    "        tenpy_psi,\n",
    "        symmetry_site_pairs,\n",
    "        left_most_symmetry_site,\n",
    "        num_symmetry_sites,\n",
    "        num_boundary_sites\n",
    "    )\n",
    "\n",
    "    unitaries = [\n",
    "        correct_boundary_operators[(1, t, i)]\n",
    "        for i in [1,2,3]\n",
    "    ]\n",
    "\n",
    "    left_unitaries, right_unitaries = zip(*unitaries)\n",
    "\n",
    "    left_phases = get_proj_rep_phases(rdm, left_unitaries)\n",
    "    right_phases = get_proj_rep_phases(rdm, right_unitaries)\n",
    "\n",
    "    non_triv_proj_rep_phases.append([left_phases, right_phases])"
   ]
  },
  {
   "cell_type": "code",
   "execution_count": 234,
   "id": "236f07e9-b8cb-4354-af5a-626b799e5575",
   "metadata": {},
   "outputs": [],
   "source": [
    "non_triv_proj_rep_phases = np.array(non_triv_proj_rep_phases)"
   ]
  },
  {
   "cell_type": "code",
   "execution_count": 235,
   "id": "dc0d866b-262a-473a-91ad-0f515de11370",
   "metadata": {},
   "outputs": [
    {
     "data": {
      "text/plain": [
       "(20, 2, 6, 2)"
      ]
     },
     "execution_count": 235,
     "metadata": {},
     "output_type": "execute_result"
    }
   ],
   "source": [
    "non_triv_proj_rep_phases.shape"
   ]
  },
  {
   "cell_type": "code",
   "execution_count": 236,
   "id": "e7128213-bbd3-401c-a580-550285cf236a",
   "metadata": {},
   "outputs": [
    {
     "data": {
      "text/plain": [
       "array([[[-0.85-0.53j, -0.89-0.46j, -0.29+0.96j],\n",
       "        [-0.06+1.j  , -1.  -0.01j, -1.  -0.01j]],\n",
       "\n",
       "       [[-0.98+0.19j, -1.  -0.1j , -1.  -0.02j],\n",
       "        [-1.  +0.j  , -1.  -0.j  , -1.  -0.06j]],\n",
       "\n",
       "       [[-0.93+0.36j, -0.93-0.37j, -1.  +0.09j],\n",
       "        [-0.04-1.j  , -1.  +0.03j, -1.  -0.01j]],\n",
       "\n",
       "       [[-1.  +0.02j, -0.96-0.27j, -0.99-0.12j],\n",
       "        [-1.  -0.07j, -0.99-0.14j, -1.  +0.04j]],\n",
       "\n",
       "       [[-0.99-0.16j, -0.99+0.14j, -1.  +0.04j],\n",
       "        [-1.  +0.01j, -0.91-0.41j, -0.78+0.63j]],\n",
       "\n",
       "       [[-1.  -0.01j, -1.  -0.03j, -1.  -0.03j],\n",
       "        [-1.  +0.j  , -0.99+0.14j, -0.99-0.15j]],\n",
       "\n",
       "       [[-0.86-0.51j, -0.9 +0.44j, -0.67-0.74j],\n",
       "        [-1.  -0.01j, -1.  -0.j  , -0.67-0.74j]],\n",
       "\n",
       "       [[-1.  -0.04j, -0.15+0.99j, -0.16-0.99j],\n",
       "        [-1.  -0.j  , -1.  -0.j  , -1.  -0.j  ]],\n",
       "\n",
       "       [[-1.  -0.08j, -1.  -0.01j, -1.  -0.08j],\n",
       "        [-0.54+0.84j, -1.  +0.08j, -1.  -0.06j]],\n",
       "\n",
       "       [[-0.94+0.35j, -1.  -0.04j, -0.87-0.5j ],\n",
       "        [-0.91-0.42j, -0.52+0.86j, -0.83+0.56j]],\n",
       "\n",
       "       [[ 1.  -0.j  ,  1.  +0.j  ,  1.  +0.j  ],\n",
       "        [ 1.  -0.j  ,  1.  +0.j  ,  1.  -0.j  ]],\n",
       "\n",
       "       [[ 1.  +0.j  ,  1.  +0.j  ,  1.  -0.j  ],\n",
       "        [ 1.  -0.j  ,  1.  -0.j  ,  1.  +0.j  ]],\n",
       "\n",
       "       [[ 1.  -0.j  ,  1.  +0.j  ,  1.  +0.j  ],\n",
       "        [ 1.  -0.j  ,  1.  +0.j  ,  1.  -0.j  ]],\n",
       "\n",
       "       [[ 1.  -0.j  ,  1.  -0.j  ,  1.  +0.j  ],\n",
       "        [ 1.  +0.j  ,  1.  +0.j  ,  1.  -0.j  ]],\n",
       "\n",
       "       [[ 1.  -0.j  ,  1.  +0.j  ,  1.  +0.j  ],\n",
       "        [ 1.  +0.j  ,  1.  -0.j  ,  1.  +0.j  ]],\n",
       "\n",
       "       [[ 1.  -0.j  ,  1.  -0.j  ,  1.  -0.j  ],\n",
       "        [ 1.  -0.j  ,  1.  -0.j  ,  1.  -0.j  ]],\n",
       "\n",
       "       [[ 1.  -0.j  ,  1.  +0.j  ,  1.  -0.j  ],\n",
       "        [ 1.  +0.j  ,  1.  +0.j  ,  1.  -0.j  ]],\n",
       "\n",
       "       [[ 1.  +0.j  ,  1.  +0.j  ,  1.  -0.j  ],\n",
       "        [ 1.  +0.j  ,  1.  +0.j  ,  1.  -0.j  ]],\n",
       "\n",
       "       [[ 1.  +0.j  ,  1.  +0.j  ,  1.  -0.j  ],\n",
       "        [ 1.  -0.j  ,  1.  +0.j  ,  1.  +0.j  ]],\n",
       "\n",
       "       [[ 1.  +0.j  ,  1.  +0.j  ,  1.  -0.j  ],\n",
       "        [ 1.  +0.j  ,  1.  -0.j  ,  1.  -0.j  ]]])"
      ]
     },
     "execution_count": 236,
     "metadata": {},
     "output_type": "execute_result"
    }
   ],
   "source": [
    "np.round(\n",
    "    non_triv_proj_rep_phases[..., ::2, 0]/non_triv_proj_rep_phases[..., 1::2, 0],\n",
    "    2\n",
    ")"
   ]
  },
  {
   "cell_type": "code",
   "execution_count": 238,
   "id": "7759950e-c4fb-4efc-a09e-b8be69a1f30c",
   "metadata": {},
   "outputs": [],
   "source": [
    "non_triv_gauge_invariant_proj_rep_phase = non_triv_proj_rep_phases[..., ::2, 0]/non_triv_proj_rep_phases[..., 1::2, 0]"
   ]
  },
  {
   "cell_type": "code",
   "execution_count": 239,
   "id": "e15bb665-0a5d-4a31-839a-12eca65e7f53",
   "metadata": {},
   "outputs": [],
   "source": [
    "gauge_invariant_proj_rep_phase = np.stack(\n",
    "    [\n",
    "        triv_gauge_invariant_proj_rep_phase,\n",
    "        non_triv_gauge_invariant_proj_rep_phase\n",
    "    ],\n",
    "    axis=0\n",
    ")"
   ]
  },
  {
   "cell_type": "code",
   "execution_count": 241,
   "id": "340790a1-a918-47ac-a207-2337b9feabc4",
   "metadata": {},
   "outputs": [],
   "source": [
    "gauge_invariant_proj_rep_real_phase = np.real(gauge_invariant_proj_rep_phase)\n",
    "mean_gauge_invariant_proj_rep_real_phase = np.mean(gauge_invariant_proj_rep_real_phase, axis=(2,3))\n",
    "max_gauge_invariant_proj_rep_real_phase = np.max(gauge_invariant_proj_rep_real_phase, axis=(2,3))\n",
    "min_gauge_invariant_proj_rep_real_phase = np.min(gauge_invariant_proj_rep_real_phase, axis=(2,3))\n",
    "\n",
    "min_max_gauge_invariant_proj_rep_real_phase = np.stack(\n",
    "    [\n",
    "        min_gauge_invariant_proj_rep_real_phase,\n",
    "        max_gauge_invariant_proj_rep_real_phase\n",
    "    ],\n",
    "    axis=0\n",
    ")\n",
    "\n",
    "error_gauge_invariant_proj_rep_real_phase = (\n",
    "    min_max_gauge_invariant_proj_rep_real_phase\n",
    "    - mean_gauge_invariant_proj_rep_real_phase[np.newaxis, ...]\n",
    ")\n",
    "error_gauge_invariant_proj_rep_real_phase = np.abs(error_gauge_invariant_proj_rep_real_phase)"
   ]
  },
  {
   "cell_type": "code",
   "execution_count": 259,
   "id": "30f16326-867e-4986-b17e-e603bd3efca7",
   "metadata": {},
   "outputs": [
    {
     "data": {
      "text/plain": [
       "array([[[1.22782109e-07, 1.94576600e-08, 1.11095096e-08, 4.51783602e-08,\n",
       "         9.37095700e-08, 3.56076166e-07, 9.14830086e-07, 5.59534615e-07,\n",
       "         3.32539190e-06, 5.68204393e-06, 1.75940835e-01, 1.11965374e-01,\n",
       "         1.29832157e-01, 5.85778210e-01, 2.20675480e-01, 6.46408573e-01,\n",
       "         6.01186369e-01, 9.48628485e-01, 2.20834547e-01, 3.26198788e-01],\n",
       "        [3.19614538e-01, 4.15009254e-03, 1.83783694e-01, 9.54676308e-03,\n",
       "         5.58079062e-02, 3.74601978e-03, 1.50247904e-01, 2.81950310e-01,\n",
       "         7.84073255e-02, 1.56806340e-01, 1.31890658e-06, 1.28249116e-06,\n",
       "         5.56975759e-08, 7.27306711e-07, 2.14501651e-07, 5.71764121e-07,\n",
       "         1.23392900e-07, 1.57857172e-08, 2.54487643e-08, 7.26955340e-09]],\n",
       "\n",
       "       [[2.85576318e-08, 2.51596279e-08, 7.10935177e-09, 2.42501994e-08,\n",
       "         1.11868385e-07, 1.86725215e-07, 3.76409916e-07, 2.71463667e-07,\n",
       "         7.29810927e-07, 3.00716331e-06, 7.03299506e-02, 3.41022908e-02,\n",
       "         9.81392877e-02, 2.20210271e-01, 2.40589200e-01, 4.23231539e-01,\n",
       "         2.15756990e-01, 2.08183970e-01, 1.17576955e-01, 1.56795571e-01],\n",
       "        [6.17648905e-01, 1.40812924e-02, 7.76964905e-01, 2.80466137e-02,\n",
       "         1.67034302e-01, 8.31075033e-03, 1.78187999e-01, 5.71172120e-01,\n",
       "         3.80491139e-01, 3.25262665e-01, 3.94404543e-07, 5.92554381e-07,\n",
       "         1.36572513e-08, 1.97208921e-07, 7.02436260e-08, 2.49713100e-07,\n",
       "         4.13880521e-08, 1.53426183e-08, 2.61773729e-08, 4.13008083e-09]]])"
      ]
     },
     "execution_count": 259,
     "metadata": {},
     "output_type": "execute_result"
    }
   ],
   "source": [
    "error_gauge_invariant_proj_rep_real_phase"
   ]
  },
  {
   "cell_type": "code",
   "execution_count": 260,
   "id": "4e7675bc-037c-4b62-8d2f-3a0ba711bf68",
   "metadata": {},
   "outputs": [
    {
     "data": {
      "text/plain": [
       "array([[[ 0.99999985,  0.99999995,  0.99999998,  0.99999993,\n",
       "          0.99999979,  0.99999946,  0.9999987 ,  0.99999917,\n",
       "          0.99999594,  0.9999911 ,  0.75359258,  0.82314846,\n",
       "          0.77201713,  0.19388057,  0.52760594, -0.08231744,\n",
       "          0.18305632, -0.15735623,  0.64629673,  0.51700333],\n",
       "        [-0.99995191, -0.99999942, -0.99990893, -0.99978364,\n",
       "         -0.99998735, -0.99999889, -0.99999388, -0.99999419,\n",
       "         -0.99996928, -0.99933597,  0.99999828,  0.9999981 ,\n",
       "          0.99999993,  0.99999907,  0.99999971,  0.99999918,\n",
       "          0.99999983,  0.99999997,  0.99999994,  0.99999999]],\n",
       "\n",
       "       [[ 1.        ,  1.        ,  1.        ,  1.        ,\n",
       "          1.        ,  1.        ,  1.        ,  1.        ,\n",
       "          1.        ,  0.99999979,  0.99986337,  0.96921613,\n",
       "          0.99998858,  0.99986905,  0.98887062,  0.98732267,\n",
       "          0.99999968,  0.99945623,  0.98470823,  0.99999769],\n",
       "        [-0.06268847, -0.98176804, -0.03916033, -0.96219026,\n",
       "         -0.77714514, -0.98794212, -0.67155797, -0.14687176,\n",
       "         -0.54107082, -0.51726696,  0.99999999,  0.99999997,\n",
       "          1.        ,  1.        ,  1.        ,  1.        ,\n",
       "          1.        ,  1.        ,  0.99999999,  1.        ]]])"
      ]
     },
     "execution_count": 260,
     "metadata": {},
     "output_type": "execute_result"
    }
   ],
   "source": [
    "min_max_gauge_invariant_proj_rep_real_phase"
   ]
  },
  {
   "cell_type": "code",
   "execution_count": 261,
   "id": "3e353273-1e9f-48f0-a8ad-440127167549",
   "metadata": {},
   "outputs": [
    {
     "data": {
      "text/plain": [
       "array([[ 0.99999997,  0.99999997,  0.99999999,  0.99999997,  0.99999988,\n",
       "         0.99999981,  0.99999962,  0.99999973,  0.99999927,  0.99999679,\n",
       "         0.92953342,  0.93511384,  0.90184929,  0.77965878,  0.74828142,\n",
       "         0.56409113,  0.78424269,  0.79127226,  0.86713127,  0.84320212],\n",
       "       [-0.68033737, -0.99584933, -0.81612523, -0.99023688, -0.94417944,\n",
       "        -0.99625287, -0.84974597, -0.71804388, -0.92156195, -0.84252963,\n",
       "         0.9999996 ,  0.99999938,  0.99999999,  0.9999998 ,  0.99999993,\n",
       "         0.99999975,  0.99999996,  0.99999998,  0.99999997,  1.        ]])"
      ]
     },
     "execution_count": 261,
     "metadata": {},
     "output_type": "execute_result"
    }
   ],
   "source": [
    "mean_gauge_invariant_proj_rep_real_phase"
   ]
  },
  {
   "cell_type": "code",
   "execution_count": 242,
   "id": "ac37af32-5e58-4bb4-a25d-d31fbf69db38",
   "metadata": {},
   "outputs": [],
   "source": [
    "markers = ['<', '>']"
   ]
  },
  {
   "cell_type": "code",
   "execution_count": 243,
   "id": "0ea2d388",
   "metadata": {},
   "outputs": [],
   "source": [
    "colors = [\n",
    "    'tab:blue',\n",
    "    'tab:orange',\n",
    "    'tab:green'\n",
    "]   "
   ]
  },
  {
   "cell_type": "code",
   "execution_count": 244,
   "id": "ea45ea6a",
   "metadata": {},
   "outputs": [],
   "source": [
    "e, a, b, c = symmetry_labels"
   ]
  },
  {
   "cell_type": "code",
   "execution_count": 245,
   "id": "d1e764db-d3cd-4216-9d5e-c5ddad7893f3",
   "metadata": {},
   "outputs": [],
   "source": [
    "symmetry_pair_labels = [\n",
    "    a + ',' + b,\n",
    "    a + ',' + c,\n",
    "    c + ',' + b\n",
    "]"
   ]
  },
  {
   "cell_type": "code",
   "execution_count": 246,
   "id": "715be721-dd85-4327-8b7f-7420cababb49",
   "metadata": {},
   "outputs": [],
   "source": [
    "side_labels = ['Left', 'Right']"
   ]
  },
  {
   "cell_type": "code",
   "execution_count": 248,
   "id": "da43269d-5628-45b2-be1a-b5038267f81b",
   "metadata": {},
   "outputs": [
    {
     "data": {
      "text/plain": [
       "(2, 20)"
      ]
     },
     "execution_count": 248,
     "metadata": {},
     "output_type": "execute_result"
    }
   ],
   "source": [
    "mean_gauge_invariant_proj_rep_real_phase.shape"
   ]
  },
  {
   "cell_type": "code",
   "execution_count": 257,
   "id": "5a84c649-e22d-474e-924b-fa572f1714e2",
   "metadata": {},
   "outputs": [
    {
     "data": {
      "text/plain": [
       "(2, 2, 20)"
      ]
     },
     "execution_count": 257,
     "metadata": {},
     "output_type": "execute_result"
    }
   ],
   "source": [
    "error_gauge_invariant_proj_rep_real_phase.shape"
   ]
  },
  {
   "cell_type": "code",
   "execution_count": 262,
   "id": "e11cbe4a-00b8-4732-8c5b-6d567dbaa591",
   "metadata": {},
   "outputs": [
    {
     "data": {
      "image/png": "[encoded data removed]",
      "text/plain": [
       "<Figure size 1200x400 with 2 Axes>"
      ]
     },
     "metadata": {},
     "output_type": "display_data"
    }
   ],
   "source": [
    "fig, [ax1, ax2] = plt.subplots(figsize=(12,4), ncols=2)\n",
    "\n",
    "for k, ax in enumerate([ax1, ax2]):\n",
    "    ax.errorbar(\n",
    "        1-sub_interpolation_values,\n",
    "        mean_gauge_invariant_proj_rep_real_phase[k],\n",
    "        yerr=error_gauge_invariant_proj_rep_real_phase[:, k],\n",
    "    color='tab:blue',\n",
    "    fmt='-',\n",
    "    capsize=2\n",
    "    )\n",
    "    \n",
    "    ax.xaxis.set_major_locator(\n",
    "        matplotlib.ticker.MultipleLocator(0.1)\n",
    "    )\n",
    "    \n",
    "    ax.grid()\n",
    "    if k == 0:\n",
    "        ax.set_ylabel(r'Re$(\\Omega)$', fontsize=12)\n",
    "    ax.set_xlabel('$t$', fontsize=13)\n",
    "\n",
    "    \"\"\"\n",
    "    if k == 1:\n",
    "        ax.legend(loc='upper right', title='$(g,h)$, Side')\n",
    "    \"\"\"\n",
    "\n",
    "    ax.title.set_text(rf'$H_{{f,{k+1}}}(t)$')\n",
    "    ax.set_ylim(-1.4, 1.4)\n",
    "\n",
    "#fig.suptitle(r'$\\Delta \\Theta(g,h)$ as a function of $B$')\n",
    "\n",
    "#fig.savefig(r'plots/delta_proj_rep_angle_from_mpo_fermionc.png', dpi=200)"
   ]
  },
  {
   "cell_type": "markdown",
   "id": "8cc21715-2e0d-46b2-ac7d-8dc3f99f1f48",
   "metadata": {},
   "source": [
    "# Conclusion\n",
    "It's ok, but solutions do not look properly converged."
   ]
  }
 ],
 "metadata": {
  "kernelspec": {
   "display_name": "num_spt_venv_p11",
   "language": "python",
   "name": "num_spt_venv_p11"
  },
  "language_info": {
   "codemirror_mode": {
    "name": "ipython",
    "version": 3
   },
   "file_extension": ".py",
   "mimetype": "text/x-python",
   "name": "python",
   "nbconvert_exporter": "python",
   "pygments_lexer": "ipython3",
   "version": "3.11.9"
  }
 },
 "nbformat": 4,
 "nbformat_minor": 5
}
