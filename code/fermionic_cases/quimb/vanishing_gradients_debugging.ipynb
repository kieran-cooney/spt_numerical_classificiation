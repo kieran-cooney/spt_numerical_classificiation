{
 "cells": [
  {
   "cell_type": "markdown",
   "id": "78094a57-64b8-45bc-ba70-495ea6f81d71",
   "metadata": {},
   "source": [
    "# Vanishing gradients debugging\n",
    "Created 29/05/2024\n",
    "\n",
    "Objectives:\n",
    "* The overlap cost function is producing vanishing gradients for the fermionic SPTs and the optimisation is finishing early as a result. Need to figure out cause of vanishing gradients."
   ]
  },
  {
   "cell_type": "markdown",
   "id": "5e618d3a-fdaf-441f-bc73-3649e01a7b3c",
   "metadata": {},
   "source": [
    "# Package imports"
   ]
  },
  {
   "cell_type": "code",
   "execution_count": 1,
   "id": "ecb41ea3-927f-4efa-aebe-ce15784aa037",
   "metadata": {},
   "outputs": [],
   "source": [
    "import sys"
   ]
  },
  {
   "cell_type": "code",
   "execution_count": 2,
   "id": "0375bd38-12e1-417a-908a-13fb540081f5",
   "metadata": {},
   "outputs": [],
   "source": [
    "sys.path.append(\"../../\")"
   ]
  },
  {
   "cell_type": "code",
   "execution_count": 3,
   "id": "0cf49837-01b6-431a-b570-d7ed25903239",
   "metadata": {},
   "outputs": [],
   "source": [
    "from itertools import chain\n",
    "import re\n",
    "\n",
    "from collections import Counter, namedtuple"
   ]
  },
  {
   "cell_type": "code",
   "execution_count": 4,
   "id": "f59344b7-d34e-47e4-99be-f5a2687f8176",
   "metadata": {},
   "outputs": [],
   "source": [
    "import h5py\n",
    "from tenpy.tools import hdf5_io\n",
    "import tenpy\n",
    "import tenpy.linalg.np_conserved as npc\n",
    "\n",
    "import os"
   ]
  },
  {
   "cell_type": "code",
   "execution_count": 5,
   "id": "19404619-d778-4cc3-8ee1-1db6f14b2043",
   "metadata": {},
   "outputs": [],
   "source": [
    "import numpy as np\n",
    "from jax import numpy as jnp\n",
    "\n",
    "import matplotlib.pyplot as plt\n",
    "\n",
    "import scipy"
   ]
  },
  {
   "cell_type": "code",
   "execution_count": 6,
   "id": "92eeb066-5463-4237-ad07-3c5a0d934f4f",
   "metadata": {},
   "outputs": [
    {
     "name": "stderr",
     "output_type": "stream",
     "text": [
      "/Users/kierancooney/.pyenv/versions/num_spt_venv_p11/lib/python3.11/site-packages/cotengra/hyperoptimizers/hyper.py:54: UserWarning: Couldn't find `optuna`, `cmaes`, or `nevergrad` so will use completely random sampling in place of hyper-optimization.\n",
      "  warnings.warn(\n",
      "/Users/kierancooney/.pyenv/versions/num_spt_venv_p11/lib/python3.11/site-packages/cotengra/hyperoptimizers/hyper.py:36: UserWarning: Couldn't import `kahypar` - skipping from default hyper optimizer and using basic `labels` method instead.\n",
      "  warnings.warn(\n",
      "/Users/kierancooney/.pyenv/versions/num_spt_venv_p11/lib/python3.11/site-packages/cotengra/hyperoptimizers/hyper.py:73: UserWarning: Couldn't find `optuna`, `cmaes`, or `nevergrad` so will use completely random sampling in place of hyper-optimization.\n",
      "  warnings.warn(\n"
     ]
    }
   ],
   "source": [
    "import quimb as qu\n",
    "import quimb.tensor as qtn\n",
    "from quimb.tensor.optimize import TNOptimizer"
   ]
  },
  {
   "cell_type": "markdown",
   "id": "1e7fa07a-a850-4148-bb15-43b2582429cb",
   "metadata": {},
   "source": [
    "# Load data"
   ]
  },
  {
   "cell_type": "code",
   "execution_count": 7,
   "id": "a073ec4a-1d8d-4786-af9f-11e750b1e3a9",
   "metadata": {},
   "outputs": [],
   "source": [
    "DATA_DIR_1 = r\"../../data/interpolated_trivial_to_nontrivial_fermionic_trivial_proj_rep_200_site_dmrg/\"\n",
    "DATA_DIR_2 = r\"../../data/interpolated_nontrivial_fermionic_proj_rep_to_nontrivial_proj_rep_200_site_dmrg/\""
   ]
  },
  {
   "cell_type": "code",
   "execution_count": 8,
   "id": "9fd5bc67-e5e4-4b8f-a5e4-f5120506f1ed",
   "metadata": {},
   "outputs": [],
   "source": [
    "def parse_file_name(file_name):\n",
    "    interpolation = int(file_name.split('_')[0])/100\n",
    "\n",
    "    return interpolation"
   ]
  },
  {
   "cell_type": "code",
   "execution_count": 9,
   "id": "d694f0e0-4ab2-4eea-8f21-7177abc2de50",
   "metadata": {},
   "outputs": [],
   "source": [
    "loaded_data_non_triv_proj_rep = dict()\n",
    "energies_non_triv_proj_rep = dict()\n",
    "\n",
    "for local_file_name in list(os.walk(DATA_DIR_2))[0][2]:\n",
    "    f_name = r\"{}/{}\".format(DATA_DIR_2, local_file_name, ignore_unknown=False)\n",
    "\n",
    "    with h5py.File(f_name, 'r') as f:\n",
    "        data = hdf5_io.load_from_hdf5(f)\n",
    "\n",
    "        data_info = parse_file_name(local_file_name)\n",
    "        loaded_data_non_triv_proj_rep[data_info]=data['wavefunction']\n",
    "        energies_non_triv_proj_rep[data_info]=data['energy']"
   ]
  },
  {
   "cell_type": "code",
   "execution_count": 10,
   "id": "ba498dc9-2751-4168-98fe-4d64f9933c0b",
   "metadata": {},
   "outputs": [],
   "source": [
    "psi = loaded_data_non_triv_proj_rep[0]"
   ]
  },
  {
   "cell_type": "code",
   "execution_count": 11,
   "id": "c6f844ce-e988-4b14-8427-413eff20782e",
   "metadata": {},
   "outputs": [
    {
     "data": {
      "text/plain": [
       "Counter({('vL', 'p', 'vR'): 200})"
      ]
     },
     "execution_count": 11,
     "metadata": {},
     "output_type": "execute_result"
    }
   ],
   "source": [
    "Counter(\n",
    "    tuple(psi.get_B(i).get_leg_labels())\n",
    "    for i in range(psi.L)\n",
    ")"
   ]
  },
  {
   "cell_type": "code",
   "execution_count": 12,
   "id": "58108129-d506-4791-8b0e-8e13e795170f",
   "metadata": {},
   "outputs": [],
   "source": [
    "psi_arrays = list()\n",
    "psi_arrays.append(psi.get_B(0, 'Th')[0, ...].to_ndarray())\n",
    "for i in range(1, psi.L-1):\n",
    "    psi_arrays.append(psi.get_B(i).to_ndarray())\n",
    "psi_arrays.append(psi.get_B(psi.L-1)[..., 0].to_ndarray())"
   ]
  },
  {
   "cell_type": "code",
   "execution_count": 13,
   "id": "b56eb9f6-49bc-496d-b833-6eea17110e16",
   "metadata": {},
   "outputs": [],
   "source": [
    "q1 = (\n",
    "    qtn\n",
    "    .tensor_1d\n",
    "    .MatrixProductState(\n",
    "        psi_arrays,\n",
    "        shape='lpr'\n",
    "    )\n",
    ")"
   ]
  },
  {
   "cell_type": "markdown",
   "id": "3269e554-4543-4e55-8a03-68083f819521",
   "metadata": {},
   "source": [
    "# Definitions"
   ]
  },
  {
   "cell_type": "markdown",
   "id": "906a7920-67da-4c96-aba0-4cd6b49e1815",
   "metadata": {},
   "source": [
    "## Define tensor network to contract against"
   ]
  },
  {
   "cell_type": "code",
   "execution_count": 14,
   "id": "528c5820-09ec-4fc0-81cf-deedb9ad3a00",
   "metadata": {},
   "outputs": [],
   "source": [
    "np_10 = np.array([\n",
    "    [0, 0, 1, 0],\n",
    "    [0, 0, 0, 1],\n",
    "    [1, 0, 0, 0],\n",
    "    [0, 1, 0, 0]\n",
    "])"
   ]
  },
  {
   "cell_type": "code",
   "execution_count": 99,
   "id": "dd7d4af7-0809-4736-927f-b79047df62fe",
   "metadata": {},
   "outputs": [],
   "source": [
    "def generate_problem_rdm(quimb_psi, symmetry_site_pairs, leftmost_symmetry_site,\n",
    "                         num_symmetry_sites, num_boundary_sites):\n",
    "    q_top = quimb_psi.copy(deep=True)\n",
    "    for i, s in symmetry_site_pairs:\n",
    "        q_top.gate(\n",
    "            s,\n",
    "            where=i,\n",
    "            contract=False,\n",
    "            inplace=True\n",
    "        )\n",
    "\n",
    "    \n",
    "    indices_to_map = list(chain(\n",
    "        range(leftmost_symmetry_site-num_boundary_sites, leftmost_symmetry_site),\n",
    "        range(leftmost_symmetry_site+num_symmetry_sites, leftmost_symmetry_site+num_symmetry_sites+num_boundary_sites)\n",
    "    ))\n",
    "\n",
    "    index_mapping = {f'k{i}': f'b{i}' for i in indices_to_map}\n",
    "\n",
    "    q_bottom = (\n",
    "        quimb_psi\n",
    "        .copy()\n",
    "        .reindex(index_mapping, inplace=True)\n",
    "        .conj()\n",
    "    )\n",
    "\n",
    "    sites_to_contract = {\n",
    "        'left': list(range(leftmost_symmetry_site-num_boundary_sites)),\n",
    "        'middle': list(range(leftmost_symmetry_site, leftmost_symmetry_site+num_symmetry_sites)),\n",
    "        'right': list(range(leftmost_symmetry_site+num_symmetry_sites+num_boundary_sites, quimb_psi.L))\n",
    "    }\n",
    "\n",
    "    tags_to_contract = {\n",
    "        k: [f'I{i}' for i in v]\n",
    "        for k, v in sites_to_contract.items()\n",
    "    }\n",
    "\n",
    "    tn = (q_top & q_bottom)\n",
    "\n",
    "    tnc = (\n",
    "        tn\n",
    "        .contract(tags_to_contract['left'])\n",
    "        .contract(tags_to_contract['middle'])\n",
    "        .contract(tags_to_contract['right'])\n",
    "    )\n",
    "\n",
    "    return tnc"
   ]
  },
  {
   "cell_type": "markdown",
   "id": "892fe32c-35e1-4e45-af39-49155a061a43",
   "metadata": {},
   "source": [
    "## Initialize mpo functions"
   ]
  },
  {
   "cell_type": "code",
   "execution_count": 16,
   "id": "424eb697-9c38-4555-b8dd-31eb60661150",
   "metadata": {},
   "outputs": [],
   "source": [
    "num_boundary_sites=6\n",
    "left_most_symmetry_site=60\n",
    "num_symmetry_sites=80\n",
    "bond_dimension=6"
   ]
  },
  {
   "cell_type": "code",
   "execution_count": 17,
   "id": "a3cf6f9f-d63e-4e7b-9da7-121acd75777d",
   "metadata": {},
   "outputs": [],
   "source": [
    "def initialize_mpo(left_most_symmetry_site, num_symmetry_sites,\n",
    "                   num_boundary_sites, bond_dimension, phys_dim=[4,2]):\n",
    "    # Kind of hard coding the physical dimensions.\n",
    "    ml = qtn.MPO_rand(\n",
    "        num_boundary_sites,\n",
    "        bond_dimension,\n",
    "        phys_dim=phys_dim,\n",
    "        normalize=True,\n",
    "        sites=list(range(left_most_symmetry_site-num_boundary_sites, left_most_symmetry_site)),\n",
    "        dtype=np.complex128,\n",
    "        tags='left_mpo'\n",
    "    )\n",
    "\n",
    "    mr = qtn.MPO_rand(\n",
    "        num_boundary_sites,\n",
    "        bond_dimension,\n",
    "        phys_dim=phys_dim,\n",
    "        normalize=True,\n",
    "        sites=list(range(\n",
    "            left_most_symmetry_site + num_symmetry_sites,\n",
    "            left_most_symmetry_site + num_symmetry_sites + num_boundary_sites\n",
    "        )),\n",
    "        dtype=np.complex128,\n",
    "        tags='right_mpo'\n",
    "    )\n",
    "\n",
    "    mpo = (ml & mr)\n",
    "\n",
    "    return mpo"
   ]
  },
  {
   "cell_type": "code",
   "execution_count": 72,
   "id": "9a5210c1-bb45-4711-8d97-9020bd28a8ff",
   "metadata": {},
   "outputs": [],
   "source": [
    "def initialize_identity_mpo(left_most_symmetry_site, num_symmetry_sites,\n",
    "                   num_boundary_sites, phys_dim=[4,2]):\n",
    "    # Kind of hard coding the physical dimensions.\n",
    "    ml = qtn.MPO_identity(\n",
    "        num_boundary_sites,\n",
    "        phys_dim=phys_dim,\n",
    "        sites=list(range(left_most_symmetry_site-num_boundary_sites, left_most_symmetry_site)),\n",
    "        dtype=np.complex128,\n",
    "        tags='left_mpo'\n",
    "    )\n",
    "\n",
    "    mr = qtn.MPO_rand(\n",
    "        num_boundary_sites,\n",
    "        phys_dim=phys_dim,\n",
    "        sites=list(range(\n",
    "            left_most_symmetry_site + num_symmetry_sites,\n",
    "            left_most_symmetry_site + num_symmetry_sites + num_boundary_sites\n",
    "        )),\n",
    "        dtype=np.complex128,\n",
    "        tags='right_mpo'\n",
    "    )\n",
    "\n",
    "    mpo = (ml & mr)\n",
    "\n",
    "    return mpo"
   ]
  },
  {
   "cell_type": "code",
   "execution_count": 79,
   "id": "79a7603a-da5d-4fa9-a631-25674594f757",
   "metadata": {},
   "outputs": [],
   "source": [
    "def initialize_one_site_identity_mpo(left_most_symmetry_site, num_symmetry_sites,\n",
    "                                     phys_dim=2):\n",
    "    X = np.identity(phys_dim, dtype=np.complex128)\n",
    "    left_site=left_most_symmetry_site-1\n",
    "\n",
    "    # Kind of hard coding the physical dimensions.\n",
    "    ml = qtn.Tensor(\n",
    "        X,\n",
    "        inds = [f'k{left_site}', f'b{left_site}'],\n",
    "        tags='left_mpo'\n",
    "    )\n",
    "\n",
    "    right_site = left_most_symmetry_site + num_symmetry_sites\n",
    "    mr = qtn.Tensor(\n",
    "        X,\n",
    "        inds = [f'k{right_site}', f'b{right_site}'],\n",
    "        tags='right_mpo'\n",
    "    )\n",
    "\n",
    "    mpo = (ml & mr)\n",
    "\n",
    "    return mpo"
   ]
  },
  {
   "cell_type": "markdown",
   "id": "65b5e95a-a350-4d69-84a5-5ff22669bdac",
   "metadata": {},
   "source": [
    "## Optimisation functions"
   ]
  },
  {
   "cell_type": "code",
   "execution_count": 18,
   "id": "c5ca716e-66ef-481e-a225-d15053d39617",
   "metadata": {},
   "outputs": [],
   "source": [
    "def split_mpo_pair(mpo_pair):\n",
    "    ml = qtn.TensorNetwork(\n",
    "        list(map(mpo_pair.tensor_map.__getitem__, mpo.tag_map['left_mpo']))\n",
    "    )\n",
    "\n",
    "    mr = qtn.TensorNetwork(\n",
    "        list(map(mpo_pair.tensor_map.__getitem__, mpo.tag_map['right_mpo']))\n",
    "    )\n",
    "\n",
    "    return (ml, mr)"
   ]
  },
  {
   "cell_type": "code",
   "execution_count": 19,
   "id": "f269522f-a6b8-429b-b16f-f15aedcf8207",
   "metadata": {},
   "outputs": [],
   "source": [
    "def overlap_loss_function(ml, mr, rdm_tn, epsilon=1e-8):\n",
    "    c = (rdm_tn & ml & mr) ^ ...\n",
    "\n",
    "    c_abs_squared = (\n",
    "        (c+epsilon)\n",
    "        *jnp.conjugate(c+epsilon)\n",
    "    )\n",
    "    #c_abs_squared = c_abs_squared.astype('float32')\n",
    "    c_abs = (jnp.sqrt(jnp.real(c_abs_squared)))\n",
    "\n",
    "    loss = (c_abs - 1)**2\n",
    "\n",
    "    return loss"
   ]
  },
  {
   "cell_type": "code",
   "execution_count": 20,
   "id": "96744cd0-b93d-4d5c-8c7d-8bbda8e26529",
   "metadata": {},
   "outputs": [],
   "source": [
    "def overlap_loss_function_mpo_pair(mpo_pair, rdm_tn):\n",
    "    ml, mr = split_mpo_pair(mpo_pair)\n",
    "\n",
    "    return overlap_loss_function(ml, mr, rdm_tn)"
   ]
  },
  {
   "cell_type": "code",
   "execution_count": 21,
   "id": "7d1fdb46-b68c-468f-824e-53f17adcb3af",
   "metadata": {},
   "outputs": [],
   "source": [
    "regex_s = r\"^I\\d+$\"\n",
    "regex_p = re.compile(regex_s)"
   ]
  },
  {
   "cell_type": "code",
   "execution_count": 22,
   "id": "e037d3d4-f377-4c7c-ba24-9d9453b5ff20",
   "metadata": {},
   "outputs": [],
   "source": [
    "def relabel_mpo(mpo, k_label, b_label):\n",
    "    site_locs = [\n",
    "        int(k[1:]) for k in mpo.tag_map\n",
    "        if bool(re.search(regex_p, k))\n",
    "    ]\n",
    "\n",
    "    k_in_indices = [f'k{i}' for i in site_locs]\n",
    "    j_in_indices = [f'b{i}' for i in site_locs]\n",
    "\n",
    "    k_out_indices = [f'{k_label}{i}' for i in site_locs]\n",
    "    j_out_indices = [f'{b_label}{i}' for i in site_locs]\n",
    "\n",
    "    mapping = dict(\n",
    "        chain(\n",
    "            zip(k_in_indices, k_out_indices),\n",
    "            zip(j_in_indices, j_out_indices)\n",
    "        )\n",
    "    )\n",
    "\n",
    "    mpo.reindex(mapping, inplace=True)"
   ]
  },
  {
   "cell_type": "code",
   "execution_count": 23,
   "id": "7f90938e-4acf-475d-8c65-0ffcdbae3248",
   "metadata": {},
   "outputs": [],
   "source": [
    "def unitarity_tn(tn, total_physical_dim):\n",
    "    ms = [tn.copy(), tn.copy(), tn.copy()]\n",
    "\n",
    "    relabel_mpo(ms[0], 'k', 'l')\n",
    "    relabel_mpo(ms[1], 'm', 'l')\n",
    "    relabel_mpo(ms[2], 'm', 'b')\n",
    "\n",
    "    ms[0] = ms[0].conj()\n",
    "    ms[2] = ms[2].conj()\n",
    "\n",
    "    n2tn = (tn & tn.conj())\n",
    "    n2 = n2tn.contract(n2tn.tag_map)\n",
    "    n4tn = (tn & ms[0] & ms[1] & ms[2])\n",
    "    n4 = n4tn.contract(n4tn.tag_map)\n",
    "\n",
    "    out = jnp.real(n4 - 2*n2 + total_physical_dim)\n",
    "\n",
    "    return out"
   ]
  },
  {
   "cell_type": "code",
   "execution_count": 24,
   "id": "1d43c151-36f6-42cc-8597-515e506821cd",
   "metadata": {},
   "outputs": [],
   "source": [
    "def overall_loss_function(mpo_pair, rdm_tn, total_physical_dimension,\n",
    "    unitary_cost_coefficient=1, overlap_cost_coefficient=1, losses=None):\n",
    "    ml, mr = split_mpo_pair(mpo_pair)\n",
    "\n",
    "    o_loss = overlap_loss_function(ml, mr, rdm_tn)\n",
    "    ul_loss = jnp.sqrt(1 + unitarity_tn(ml, total_physical_dimension)) - 1\n",
    "    ur_loss = jnp.sqrt(1 + unitarity_tn(mr, total_physical_dimension)) - 1\n",
    "\n",
    "    out = (\n",
    "        unitary_cost_coefficient*(ul_loss+ur_loss)\n",
    "        + overlap_cost_coefficient*o_loss\n",
    "    )\n",
    "\n",
    "    out = jnp.real(out)\n",
    "\n",
    "    if losses is not None:\n",
    "        losses.append((o_loss, ul_loss, ur_loss))\n",
    "    return out"
   ]
  },
  {
   "cell_type": "markdown",
   "id": "227e0a85-a24b-448b-91f1-753e13b6a6bc",
   "metadata": {},
   "source": [
    "# Runs\n",
    "## 1"
   ]
  },
  {
   "cell_type": "code",
   "execution_count": 53,
   "id": "5fb86973-2e01-4626-8190-d1d67d4a8cd8",
   "metadata": {},
   "outputs": [],
   "source": [
    "symmetry_site_pairs = []\n",
    "num_boundary_sites=1\n",
    "\n",
    "problem_rdm = generate_problem_rdm(\n",
    "    q1,\n",
    "    symmetry_site_pairs,\n",
    "    60,\n",
    "    81,\n",
    "    num_boundary_sites\n",
    ")"
   ]
  },
  {
   "cell_type": "code",
   "execution_count": 54,
   "id": "2ef41aa0-7fba-4de0-a87c-862384056b41",
   "metadata": {},
   "outputs": [
    {
     "data": {
      "image/png": "[encoded data removed]",
      "text/plain": [
       "<Figure size 600x600 with 1 Axes>"
      ]
     },
     "metadata": {
      "needs_background": "light"
     },
     "output_type": "display_data"
    }
   ],
   "source": [
    "problem_rdm.draw()"
   ]
  },
  {
   "cell_type": "code",
   "execution_count": 55,
   "id": "ac12ed83-3b0e-40d9-90d3-62798681d342",
   "metadata": {},
   "outputs": [
    {
     "data": {
      "text/html": [
       "<samp style='font-size: 12px;'><details><summary><b style=\"color: #e259a5;\">TensorNetwork1D</b>(tensors=7, indices=12, L=200, max_bond=4)</summary><samp style='font-size: 12px;'><details><summary><b style=\"color: #e55471;\">Tensor</b>(shape=(<b style=\"color: #80d749;\">4</b>, <b style=\"color: #80d749;\">4</b>, <b style=\"color: #828fdd;\">2</b>), inds=[<b style=\"color: #69d585;\">_1aff2eAAABH</b>, <b style=\"color: #70cc59;\">_1aff2eAAABI</b>, <b style=\"color: #93e0a6;\">k59</b>], tags={<b style=\"color: #8be043;\">I59</b>}),</summary>backend=<b style=\"color: #7fdd73;\">numpy</b>, dtype=<b style=\"color: #443ce1;\">complex128</b>, data=array([[[-1.00886567e-01+0.00000000e+00j,\n",
       "          6.22368463e-14-6.68915443e-14j],\n",
       "        [ 8.05248527e-01-8.97963129e-02j,\n",
       "          3.42639101e-14-5.42441843e-16j],\n",
       "        [-9.36124100e-15-6.80718730e-15j,\n",
       "          5.33018904e-01+2.20247556e-01j],\n",
       "        [ 5.28877050e-15-7.15650540e-15j,\n",
       "          2.45137098e-02-1.06898838e-02j]],\n",
       "\n",
       "       [[ 8.10239821e-01+0.00000000e+00j,\n",
       "         -2.02424396e-14-1.78302010e-14j],\n",
       "        [ 1.00265079e-01-1.11809387e-02j,\n",
       "          3.90003399e-14+7.50418133e-16j],\n",
       "        [ 3.57485434e-15-2.13929997e-14j,\n",
       "         -9.92656819e-04-2.67247117e-02j],\n",
       "        [-2.87852050e-14-1.70937507e-15j,\n",
       "          4.29528908e-01+3.84867581e-01j]],\n",
       "\n",
       "       [[ 3.25293845e-14+0.00000000e+00j,\n",
       "          9.00375460e-01+4.29939926e-01j],\n",
       "        [-3.03487508e-14-5.49703771e-14j,\n",
       "         -6.06579810e-02-2.82188020e-02j],\n",
       "        [-2.44459417e-15-1.50850012e-16j,\n",
       "          2.19823583e-14-6.42326920e-14j],\n",
       "        [-6.17401141e-15-1.83773240e-16j,\n",
       "          4.71990265e-15+1.68546058e-15j]],\n",
       "\n",
       "       [[-3.28985110e-14+0.00000000e+00j,\n",
       "          6.58944462e-02+1.15591263e-02j],\n",
       "        [-3.28928374e-14+1.23812097e-15j,\n",
       "          9.84438856e-01+1.62494454e-01j],\n",
       "        [ 1.29371859e-14-2.36935998e-15j,\n",
       "         -1.63337108e-14-2.32848013e-14j],\n",
       "        [ 3.35211768e-14-7.32787565e-15j,\n",
       "         -3.07829802e-15-1.64461573e-14j]]])</details></samp><samp style='font-size: 12px;'><details><summary><b style=\"color: #e55471;\">Tensor</b>(shape=(<b style=\"color: #80d749;\">4</b>, <b style=\"color: #80d749;\">4</b>, <b style=\"color: #828fdd;\">2</b>), inds=[<b style=\"color: #d6e178;\">_1aff2eAAACl</b>, <b style=\"color: #9432d8;\">_1aff2eAAACm</b>, <b style=\"color: #30d244;\">k141</b>], tags={<b style=\"color: #81d771;\">I141</b>}),</summary>backend=<b style=\"color: #7fdd73;\">numpy</b>, dtype=<b style=\"color: #443ce1;\">complex128</b>, data=array([[[ 1.55687939e-01+0.00000000e+00j,\n",
       "         -5.48558346e-14-1.57430185e-14j],\n",
       "        [ 7.99980477e-01+4.95899980e-02j,\n",
       "         -2.42258305e-14-4.62174165e-15j],\n",
       "        [ 2.74547290e-14+1.37286463e-14j,\n",
       "          4.97288027e-02+1.96672011e-02j],\n",
       "        [-2.14343875e-15+3.11493963e-15j,\n",
       "         -3.89834363e-01-4.22495858e-01j]],\n",
       "\n",
       "       [[-8.01516021e-01+0.00000000e+00j,\n",
       "          1.08641241e-14+1.88900685e-15j],\n",
       "        [ 1.55389672e-01+9.63245199e-03j,\n",
       "          9.47054912e-14+5.67770273e-14j],\n",
       "        [-6.09571062e-15+4.68889330e-15j,\n",
       "         -5.28799062e-01-2.25488653e-01j],\n",
       "        [-3.51088465e-14-4.08104677e-14j,\n",
       "         -3.52115838e-02-4.02479438e-02j]],\n",
       "\n",
       "       [[-7.90037644e-14+0.00000000e+00j,\n",
       "          4.05969033e-02+3.23367152e-02j],\n",
       "        [ 7.19684133e-15-4.15949035e-15j,\n",
       "         -8.06518253e-01-5.88926596e-01j],\n",
       "        [-7.20279822e-15-2.04622352e-15j,\n",
       "         -6.57928992e-14-4.85420134e-14j],\n",
       "        [-2.34003593e-15-1.01207062e-15j,\n",
       "          4.11561780e-15+1.62214865e-14j]],\n",
       "\n",
       "       [[-2.10075148e-14+0.00000000e+00j,\n",
       "         -9.82354095e-01-1.79684894e-01j],\n",
       "        [-7.23143428e-14-8.55567699e-15j,\n",
       "         -5.14009407e-02-7.19131486e-03j],\n",
       "        [-1.44550250e-15+2.93301324e-16j,\n",
       "         -1.81384222e-14-3.36575313e-15j],\n",
       "        [-4.32289638e-16+6.18734187e-18j,\n",
       "          5.88105614e-15-1.60795823e-14j]]])</details></samp><samp style='font-size: 12px;'><details><summary><b style=\"color: #e55471;\">Tensor</b>(shape=(<b style=\"color: #80d749;\">4</b>, <b style=\"color: #80d749;\">4</b>, <b style=\"color: #828fdd;\">2</b>), inds=[<b style=\"color: #7bdab5;\">_1aff2eAAAQx</b>, <b style=\"color: #8a8ed8;\">_1aff2eAAAQy</b>, <b style=\"color: #49e1a6;\">b59</b>], tags={<b style=\"color: #8be043;\">I59</b>}),</summary>backend=<b style=\"color: #7fdd73;\">numpy</b>, dtype=<b style=\"color: #443ce1;\">complex128</b>, data=array([[[-1.00886567e-01+0.00000000e+00j,\n",
       "          6.22368463e-14-6.68915443e-14j],\n",
       "        [ 8.05248527e-01-8.97963129e-02j,\n",
       "          3.42639101e-14-5.42441843e-16j],\n",
       "        [-9.36124100e-15-6.80718730e-15j,\n",
       "          5.33018904e-01+2.20247556e-01j],\n",
       "        [ 5.28877050e-15-7.15650540e-15j,\n",
       "          2.45137098e-02-1.06898838e-02j]],\n",
       "\n",
       "       [[ 8.10239821e-01+0.00000000e+00j,\n",
       "         -2.02424396e-14-1.78302010e-14j],\n",
       "        [ 1.00265079e-01-1.11809387e-02j,\n",
       "          3.90003399e-14+7.50418133e-16j],\n",
       "        [ 3.57485434e-15-2.13929997e-14j,\n",
       "         -9.92656819e-04-2.67247117e-02j],\n",
       "        [-2.87852050e-14-1.70937507e-15j,\n",
       "          4.29528908e-01+3.84867581e-01j]],\n",
       "\n",
       "       [[ 3.25293845e-14+0.00000000e+00j,\n",
       "          9.00375460e-01+4.29939926e-01j],\n",
       "        [-3.03487508e-14-5.49703771e-14j,\n",
       "         -6.06579810e-02-2.82188020e-02j],\n",
       "        [-2.44459417e-15-1.50850012e-16j,\n",
       "          2.19823583e-14-6.42326920e-14j],\n",
       "        [-6.17401141e-15-1.83773240e-16j,\n",
       "          4.71990265e-15+1.68546058e-15j]],\n",
       "\n",
       "       [[-3.28985110e-14+0.00000000e+00j,\n",
       "          6.58944462e-02+1.15591263e-02j],\n",
       "        [-3.28928374e-14+1.23812097e-15j,\n",
       "          9.84438856e-01+1.62494454e-01j],\n",
       "        [ 1.29371859e-14-2.36935998e-15j,\n",
       "         -1.63337108e-14-2.32848013e-14j],\n",
       "        [ 3.35211768e-14-7.32787565e-15j,\n",
       "         -3.07829802e-15-1.64461573e-14j]]])</details></samp><samp style='font-size: 12px;'><details><summary><b style=\"color: #e55471;\">Tensor</b>(shape=(<b style=\"color: #80d749;\">4</b>, <b style=\"color: #80d749;\">4</b>, <b style=\"color: #828fdd;\">2</b>), inds=[<b style=\"color: #b742d6;\">_1aff2eAAASb</b>, <b style=\"color: #96dcd7;\">_1aff2eAAASc</b>, <b style=\"color: #74e4df;\">b141</b>], tags={<b style=\"color: #81d771;\">I141</b>}),</summary>backend=<b style=\"color: #7fdd73;\">numpy</b>, dtype=<b style=\"color: #443ce1;\">complex128</b>, data=array([[[ 1.55687939e-01+0.00000000e+00j,\n",
       "         -5.48558346e-14-1.57430185e-14j],\n",
       "        [ 7.99980477e-01+4.95899980e-02j,\n",
       "         -2.42258305e-14-4.62174165e-15j],\n",
       "        [ 2.74547290e-14+1.37286463e-14j,\n",
       "          4.97288027e-02+1.96672011e-02j],\n",
       "        [-2.14343875e-15+3.11493963e-15j,\n",
       "         -3.89834363e-01-4.22495858e-01j]],\n",
       "\n",
       "       [[-8.01516021e-01+0.00000000e+00j,\n",
       "          1.08641241e-14+1.88900685e-15j],\n",
       "        [ 1.55389672e-01+9.63245199e-03j,\n",
       "          9.47054912e-14+5.67770273e-14j],\n",
       "        [-6.09571062e-15+4.68889330e-15j,\n",
       "         -5.28799062e-01-2.25488653e-01j],\n",
       "        [-3.51088465e-14-4.08104677e-14j,\n",
       "         -3.52115838e-02-4.02479438e-02j]],\n",
       "\n",
       "       [[-7.90037644e-14+0.00000000e+00j,\n",
       "          4.05969033e-02+3.23367152e-02j],\n",
       "        [ 7.19684133e-15-4.15949035e-15j,\n",
       "         -8.06518253e-01-5.88926596e-01j],\n",
       "        [-7.20279822e-15-2.04622352e-15j,\n",
       "         -6.57928992e-14-4.85420134e-14j],\n",
       "        [-2.34003593e-15-1.01207062e-15j,\n",
       "          4.11561780e-15+1.62214865e-14j]],\n",
       "\n",
       "       [[-2.10075148e-14+0.00000000e+00j,\n",
       "         -9.82354095e-01-1.79684894e-01j],\n",
       "        [-7.23143428e-14-8.55567699e-15j,\n",
       "         -5.14009407e-02-7.19131486e-03j],\n",
       "        [-1.44550250e-15+2.93301324e-16j,\n",
       "         -1.81384222e-14-3.36575313e-15j],\n",
       "        [-4.32289638e-16+6.18734187e-18j,\n",
       "          5.88105614e-15-1.60795823e-14j]]])</details></samp><samp style='font-size: 12px;'><details><summary><b style=\"color: #e55471;\">Tensor</b>(shape=(<b style=\"color: #80d749;\">4</b>, <b style=\"color: #80d749;\">4</b>), inds=[<b style=\"color: #69d585;\">_1aff2eAAABH</b>, <b style=\"color: #7bdab5;\">_1aff2eAAAQx</b>], tags={<b style=\"color: #d2b137;\">I0</b>, <b style=\"color: #d19b78;\">I1</b>, <b style=\"color: #dd5dd7;\">I2</b>, <b style=\"color: #dd65d9;\">I3</b>, <b style=\"color: #998ad1;\">I4</b>, <b style=\"color: #97dddc;\">I5</b>, <b style=\"color: #b2de5f;\">I6</b>, <b style=\"color: #5582d6;\">I7</b>, <b style=\"color: #8a3dd8;\">I8</b>, <b style=\"color: #d74979;\">I9</b>, <b style=\"color: #4e2bd3;\">I10</b>, <b style=\"color: #cc3988;\">I11</b>, <b style=\"color: #30a0d2;\">I12</b>, <b style=\"color: #59aad4;\">I13</b>, <b style=\"color: #e4d13e;\">I14</b>, <b style=\"color: #d54955;\">I15</b>, <b style=\"color: #d8af59;\">I16</b>, <b style=\"color: #84a0d7;\">I17</b>, <b style=\"color: #d360b6;\">I18</b>, <b style=\"color: #90e14b;\">I19</b>, <b style=\"color: #86cd64;\">I20</b>, <b style=\"color: #d769c1;\">I21</b>, <b style=\"color: #58cd8e;\">I22</b>, <b style=\"color: #3ed5df;\">I23</b>, <b style=\"color: #84a6d5;\">I24</b>, <b style=\"color: #e270b0;\">I25</b>, <b style=\"color: #e4ce85;\">I26</b>, <b style=\"color: #2fe42e;\">I27</b>, <b style=\"color: #77ce63;\">I28</b>, <b style=\"color: #d29e8c;\">I29</b>, <b style=\"color: #cecf73;\">I30</b>, <b style=\"color: #4ae341;\">I31</b>, <b style=\"color: #73d949;\">I32</b>, <b style=\"color: #54cf6a;\">I33</b>, <b style=\"color: #d6c363;\">I34</b>, <b style=\"color: #73ddd4;\">I35</b>, <b style=\"color: #73de36;\">I36</b>, <b style=\"color: #98ce58;\">I37</b>, <b style=\"color: #86b8d8;\">I38</b>, <b style=\"color: #5dde82;\">I39</b>, <b style=\"color: #d79954;\">I40</b>, <b style=\"color: #db7fb4;\">I41</b>, <b style=\"color: #3ad9cb;\">I42</b>, <b style=\"color: #82d291;\">I43</b>, <b style=\"color: #5adfc6;\">I44</b>, <b style=\"color: #5cdf8f;\">I45</b>, <b style=\"color: #c5e396;\">I46</b>, <b style=\"color: #4152d9;\">I47</b>, <b style=\"color: #a95fdc;\">I48</b>, <b style=\"color: #a5da82;\">I49</b>, <b style=\"color: #d94432;\">I50</b>, <b style=\"color: #709de5;\">I51</b>, <b style=\"color: #3adb88;\">I52</b>, <b style=\"color: #55a9dd;\">I53</b>, <b style=\"color: #ddca3e;\">I54</b>, <b style=\"color: #a6d86a;\">I55</b>, <b style=\"color: #e236e1;\">I56</b>, <b style=\"color: #e37956;\">I57</b>, <b style=\"color: #dc85c6;\">I58</b>}),</summary>backend=<b style=\"color: #7fdd73;\">numpy</b>, dtype=<b style=\"color: #443ce1;\">complex128</b>, data=array([[ 1.71375171e-13+1.47141726e-13j, -6.25062848e-12-1.66260120e-11j,\n",
       "        -1.56599319e-10+7.77877072e-10j, -6.15648611e-11+1.30421636e-10j],\n",
       "       [-6.25062848e-12-1.66260120e-11j, -1.97838399e-10+1.38267597e-09j,\n",
       "        -6.50346883e-12+7.71512179e-12j, -1.48406810e-12+1.07759662e-12j],\n",
       "       [-1.56599319e-10+7.77877072e-10j, -6.50346883e-12+7.71512179e-12j,\n",
       "        -1.69077834e-12+1.47953573e-11j,  2.85673687e-11-7.67893901e-11j],\n",
       "       [-6.15648611e-11+1.30421636e-10j, -1.48406810e-12+1.07759662e-12j,\n",
       "         2.85673687e-11-7.67893901e-11j, -2.53976927e-10+3.72409699e-10j]])</details></samp><samp style='font-size: 12px;'><details><summary><b style=\"color: #e55471;\">Tensor</b>(shape=(<b style=\"color: #80d749;\">4</b>, <b style=\"color: #80d749;\">4</b>, <b style=\"color: #80d749;\">4</b>, <b style=\"color: #80d749;\">4</b>), inds=[<b style=\"color: #70cc59;\">_1aff2eAAABI</b>, <b style=\"color: #d6e178;\">_1aff2eAAACl</b>, <b style=\"color: #8a8ed8;\">_1aff2eAAAQy</b>, <b style=\"color: #b742d6;\">_1aff2eAAASb</b>], tags={<b style=\"color: #d9c267;\">I60</b>, <b style=\"color: #94d9c9;\">I61</b>, <b style=\"color: #40d786;\">I62</b>, <b style=\"color: #b157cf;\">I63</b>, <b style=\"color: #d2a48d;\">I64</b>, <b style=\"color: #dca369;\">I65</b>, <b style=\"color: #6b8adc;\">I66</b>, <b style=\"color: #3cce9a;\">I67</b>, <b style=\"color: #9ade47;\">I68</b>, <b style=\"color: #a2d134;\">I69</b>, <b style=\"color: #e4656c;\">I70</b>, <b style=\"color: #d3827b;\">I71</b>, <b style=\"color: #7754da;\">I72</b>, <b style=\"color: #d5789a;\">I73</b>, <b style=\"color: #7ed399;\">I74</b>, <b style=\"color: #37e337;\">I75</b>, <b style=\"color: #7bd092;\">I76</b>, <b style=\"color: #d48a81;\">I77</b>, <b style=\"color: #de5b94;\">I78</b>, <b style=\"color: #dabd85;\">I79</b>, <b style=\"color: #64d171;\">I80</b>, <b style=\"color: #93a7de;\">I81</b>, <b style=\"color: #d7388e;\">I82</b>, <b style=\"color: #34d4a0;\">I83</b>, <b style=\"color: #da2e87;\">I84</b>, <b style=\"color: #d968cf;\">I85</b>, <b style=\"color: #db99ce;\">I86</b>, <b style=\"color: #e561b4;\">I87</b>, <b style=\"color: #307de0;\">I88</b>, <b style=\"color: #8dd2a1;\">I89</b>, <b style=\"color: #9be1bb;\">I90</b>, <b style=\"color: #854cd5;\">I91</b>, <b style=\"color: #39ccd8;\">I92</b>, <b style=\"color: #a07fd3;\">I93</b>, <b style=\"color: #db7ed3;\">I94</b>, <b style=\"color: #869cd7;\">I95</b>, <b style=\"color: #5cc9e5;\">I96</b>, <b style=\"color: #d59cde;\">I97</b>, <b style=\"color: #64d478;\">I98</b>, <b style=\"color: #97a4de;\">I99</b>, <b style=\"color: #e2a07f;\">I100</b>, <b style=\"color: #ceaf82;\">I101</b>, <b style=\"color: #d2d363;\">I102</b>, <b style=\"color: #37cda2;\">I103</b>, <b style=\"color: #405cd9;\">I104</b>, <b style=\"color: #dae096;\">I105</b>, <b style=\"color: #6684d0;\">I106</b>, <b style=\"color: #54dc84;\">I107</b>, <b style=\"color: #54a8e2;\">I108</b>, <b style=\"color: #5d57d0;\">I109</b>, <b style=\"color: #9e35db;\">I110</b>, <b style=\"color: #db89e3;\">I111</b>, <b style=\"color: #4fdd34;\">I112</b>, <b style=\"color: #e18d6c;\">I113</b>, <b style=\"color: #3733d8;\">I114</b>, <b style=\"color: #9663dd;\">I115</b>, <b style=\"color: #d370dd;\">I116</b>, <b style=\"color: #d67e8b;\">I117</b>, <b style=\"color: #dae56a;\">I118</b>, <b style=\"color: #d78d72;\">I119</b>, <b style=\"color: #9bce35;\">I120</b>, <b style=\"color: #5ca8d1;\">I121</b>, <b style=\"color: #4673d2;\">I122</b>, <b style=\"color: #6cd3aa;\">I123</b>, <b style=\"color: #78cc46;\">I124</b>, <b style=\"color: #64d757;\">I125</b>, <b style=\"color: #accf61;\">I126</b>, <b style=\"color: #cf7662;\">I127</b>, <b style=\"color: #8c92d0;\">I128</b>, <b style=\"color: #e490af;\">I129</b>, <b style=\"color: #df7786;\">I130</b>, <b style=\"color: #6a7ecd;\">I131</b>, <b style=\"color: #dce25a;\">I132</b>, <b style=\"color: #deb867;\">I133</b>, <b style=\"color: #4562d4;\">I134</b>, <b style=\"color: #cc8a4c;\">I135</b>, <b style=\"color: #777fe3;\">I136</b>, <b style=\"color: #ce8fc1;\">I137</b>, <b style=\"color: #cd35b2;\">I138</b>, <b style=\"color: #df8fc9;\">I139</b>, <b style=\"color: #66d449;\">I140</b>}),</summary>backend=<b style=\"color: #7fdd73;\">numpy</b>, dtype=<b style=\"color: #443ce1;\">complex128</b>, data=...</details></samp><samp style='font-size: 12px;'><details><summary><b style=\"color: #e55471;\">Tensor</b>(shape=(<b style=\"color: #80d749;\">4</b>, <b style=\"color: #80d749;\">4</b>), inds=[<b style=\"color: #9432d8;\">_1aff2eAAACm</b>, <b style=\"color: #96dcd7;\">_1aff2eAAASc</b>], tags={<b style=\"color: #e47491;\">I142</b>, <b style=\"color: #b03ae3;\">I143</b>, <b style=\"color: #5840d3;\">I144</b>, <b style=\"color: #67d573;\">I145</b>, <b style=\"color: #de537d;\">I146</b>, <b style=\"color: #d98770;\">I147</b>, <b style=\"color: #a95fde;\">I148</b>, <b style=\"color: #2d7adb;\">I149</b>, <b style=\"color: #d0b066;\">I150</b>, <b style=\"color: #8784d0;\">I151</b>, <b style=\"color: #7c62d9;\">I152</b>, <b style=\"color: #6dce6d;\">I153</b>, <b style=\"color: #cb51cd;\">I154</b>, <b style=\"color: #792ccd;\">I155</b>, <b style=\"color: #d49270;\">I156</b>, <b style=\"color: #e5ba75;\">I157</b>, <b style=\"color: #e081c3;\">I158</b>, <b style=\"color: #7dcd84;\">I159</b>, <b style=\"color: #c3dd90;\">I160</b>, <b style=\"color: #d6d03f;\">I161</b>, <b style=\"color: #8dd245;\">I162</b>, <b style=\"color: #cc9d8a;\">I163</b>, <b style=\"color: #d5978f;\">I164</b>, <b style=\"color: #ce706a;\">I165</b>, <b style=\"color: #86a6d0;\">I166</b>, <b style=\"color: #42d084;\">I167</b>, <b style=\"color: #79d5a1;\">I168</b>, <b style=\"color: #e38d91;\">I169</b>, <b style=\"color: #6b54ce;\">I170</b>, <b style=\"color: #9ae5d9;\">I171</b>, <b style=\"color: #3d4fdb;\">I172</b>, <b style=\"color: #9c70d6;\">I173</b>, <b style=\"color: #a0d24f;\">I174</b>, <b style=\"color: #a499df;\">I175</b>, <b style=\"color: #d29154;\">I176</b>, <b style=\"color: #d8c481;\">I177</b>, <b style=\"color: #d84ad3;\">I178</b>, <b style=\"color: #6cd373;\">I179</b>, <b style=\"color: #d84e8a;\">I180</b>, <b style=\"color: #4e3ed2;\">I181</b>, <b style=\"color: #cddc8a;\">I182</b>, <b style=\"color: #d2cc8d;\">I183</b>, <b style=\"color: #c63ad8;\">I184</b>, <b style=\"color: #31da3d;\">I185</b>, <b style=\"color: #92dc7b;\">I186</b>, <b style=\"color: #b982d6;\">I187</b>, <b style=\"color: #e4ba59;\">I188</b>, <b style=\"color: #d58074;\">I189</b>, <b style=\"color: #e4369e;\">I190</b>, <b style=\"color: #7ae2ae;\">I191</b>, <b style=\"color: #b1dd4d;\">I192</b>, <b style=\"color: #59cd8c;\">I193</b>, <b style=\"color: #6add5a;\">I194</b>, <b style=\"color: #d082c4;\">I195</b>, <b style=\"color: #77d04e;\">I196</b>, <b style=\"color: #db4cc3;\">I197</b>, <b style=\"color: #ca64d3;\">I198</b>, <b style=\"color: #db7332;\">I199</b>}),</summary>backend=<b style=\"color: #7fdd73;\">numpy</b>, dtype=<b style=\"color: #443ce1;\">complex128</b>, data=array([[-1.04453964e-10+6.63151214e-11j, -7.76857861e-10+5.50472688e-10j,\n",
       "         6.04400831e-10+7.45453516e-10j,  2.62373491e-11+1.21216817e-11j],\n",
       "       [-7.76857861e-10+5.50472688e-10j, -5.75536656e-09+4.53415284e-09j,\n",
       "         4.93634092e-09+5.49293966e-09j,  2.06380887e-10+8.29078458e-11j],\n",
       "       [ 6.04400831e-10+7.45453516e-10j,  4.93634092e-09+5.49293966e-09j,\n",
       "         5.20272517e-09-5.32374336e-09j,  6.99182260e-11-2.12997593e-10j],\n",
       "       [ 2.62373491e-11+1.21216817e-11j,  2.06380887e-10+8.29078458e-11j,\n",
       "         6.99182260e-11-2.12997593e-10j, -9.39107438e-13-6.68580285e-12j]])</details></samp></details></samp>"
      ],
      "text/plain": [
       "TensorNetwork1D(tensors=7, indices=12, L=200, max_bond=4)"
      ]
     },
     "execution_count": 55,
     "metadata": {},
     "output_type": "execute_result"
    }
   ],
   "source": [
    "problem_rdm"
   ]
  },
  {
   "cell_type": "code",
   "execution_count": 57,
   "id": "38a1a949-66a8-4a0b-9fbc-bcf713d8ce0d",
   "metadata": {},
   "outputs": [],
   "source": [
    "total_physical_dim = 2"
   ]
  },
  {
   "cell_type": "code",
   "execution_count": 58,
   "id": "482fae29-dbbe-4399-ae38-a73329966aaa",
   "metadata": {},
   "outputs": [],
   "source": [
    "num_iterations = int(1e4) \n",
    "num_seeds = 10\n",
    "\n",
    "hyperparameter_dists_dict = {\n",
    "    'alpha': scipy.stats.loguniform(1e-4, 1e-2),\n",
    "    'beta_1': scipy.stats.uniform(0.1, 0.5),\n",
    "    'beta_2': scipy.stats.uniform(0.1, 0.5),\n",
    "    'bond_dimension': scipy.stats.randint(4, 9),\n",
    "    'overlap_learning_rate': scipy.stats.randint(1, 500)\n",
    "}"
   ]
  },
  {
   "cell_type": "code",
   "execution_count": 59,
   "id": "c11a9f99-94f9-40f8-bf0d-d827c025ec89",
   "metadata": {},
   "outputs": [],
   "source": [
    "HyperParams = namedtuple('HyperParams', hyperparameter_dists_dict)"
   ]
  },
  {
   "cell_type": "code",
   "execution_count": 61,
   "id": "1a26751c-7d58-4ca7-a41a-179027812fdd",
   "metadata": {},
   "outputs": [
    {
     "name": "stderr",
     "output_type": "stream",
     "text": [
      "  0%|                                                                                                                                                                             | 0/10000 [00:00<?, ?it/s]/Users/kierancooney/.pyenv/versions/num_spt_venv_p11/lib/python3.11/site-packages/quimb/tensor/optimize.py:135: UserWarning: dtype mismatch between input parameter and updated values. This can occur e.g. with jax and double precision arrays (in which case consider setting `jax.config.update(\"jax_enable_x64\", True)` at startup or using single precision parameters directly). For now casting from complex64 to complex128.\n",
      "  warnings.warn(\n",
      "+237.000015258789 [best: +237.000015258789] :  30%|█████████████████████████████████▉                                                                                | 2982/10000 [00:02<00:04, 1673.13it/s]IOPub message rate exceeded.\n",
      "The Jupyter server will temporarily stop sending output\n",
      "to the client in order to avoid crashing it.\n",
      "To change this limit, set the config variable\n",
      "`--ServerApp.iopub_msg_rate_limit`.\n",
      "\n",
      "Current values:\n",
      "ServerApp.iopub_msg_rate_limit=1000.0 (msgs/sec)\n",
      "ServerApp.rate_limit_window=3.0 (secs)\n",
      "\n",
      "+237.000015258789 [best: +237.000015258789] :  89%|█████████████████████████████████████████████████████████████████████████████████████████████████████▋            | 8919/10000 [00:05<00:00, 1832.68it/s]IOPub message rate exceeded.\n",
      "The Jupyter server will temporarily stop sending output\n",
      "to the client in order to avoid crashing it.\n",
      "To change this limit, set the config variable\n",
      "`--ServerApp.iopub_msg_rate_limit`.\n",
      "\n",
      "Current values:\n",
      "ServerApp.iopub_msg_rate_limit=1000.0 (msgs/sec)\n",
      "ServerApp.rate_limit_window=3.0 (secs)\n",
      "\n",
      "+18.000000000000 [best: +18.000000000000] :  49%|█████████████████████████████████████████████████████████                                                           | 4923/10000 [00:02<00:02, 1896.72it/s]IOPub message rate exceeded.\n",
      "The Jupyter server will temporarily stop sending output\n",
      "to the client in order to avoid crashing it.\n",
      "To change this limit, set the config variable\n",
      "`--ServerApp.iopub_msg_rate_limit`.\n",
      "\n",
      "Current values:\n",
      "ServerApp.iopub_msg_rate_limit=1000.0 (msgs/sec)\n",
      "ServerApp.rate_limit_window=3.0 (secs)\n",
      "\n",
      "+18.000000000000 [best: +18.000000000000] : : 10001it [00:05, 1893.38it/s]                                                                                                                                  \n",
      "+25.139200210571 [best: +25.139200210571] :  14%|████████████████                                                                                                    | 1381/10000 [00:00<00:04, 1841.92it/s]IOPub message rate exceeded.\n",
      "The Jupyter server will temporarily stop sending output\n",
      "to the client in order to avoid crashing it.\n",
      "To change this limit, set the config variable\n",
      "`--ServerApp.iopub_msg_rate_limit`.\n",
      "\n",
      "Current values:\n",
      "ServerApp.iopub_msg_rate_limit=1000.0 (msgs/sec)\n",
      "ServerApp.rate_limit_window=3.0 (secs)\n",
      "\n",
      "+25.000000000000 [best: +25.000000000000] :  76%|████████████████████████████████████████████████████████████████████████████████████████▏                           | 7604/10000 [00:04<00:01, 1925.85it/s]IOPub message rate exceeded.\n",
      "The Jupyter server will temporarily stop sending output\n",
      "to the client in order to avoid crashing it.\n",
      "To change this limit, set the config variable\n",
      "`--ServerApp.iopub_msg_rate_limit`.\n",
      "\n",
      "Current values:\n",
      "ServerApp.iopub_msg_rate_limit=1000.0 (msgs/sec)\n",
      "ServerApp.rate_limit_window=3.0 (secs)\n",
      "\n",
      "+47.000003814697 [best: +47.000000000000] :  39%|█████████████████████████████████████████████▌                                                                      | 3933/10000 [00:02<00:03, 1966.95it/s]IOPub message rate exceeded.\n",
      "The Jupyter server will temporarily stop sending output\n",
      "to the client in order to avoid crashing it.\n",
      "To change this limit, set the config variable\n",
      "`--ServerApp.iopub_msg_rate_limit`.\n",
      "\n",
      "Current values:\n",
      "ServerApp.iopub_msg_rate_limit=1000.0 (msgs/sec)\n",
      "ServerApp.rate_limit_window=3.0 (secs)\n",
      "\n",
      "+47.000003814697 [best: +47.000000000000] : : 10001it [00:05, 1951.80it/s]                                                                                                                                  \n",
      "+73.000000000000 [best: +73.000000000000] :   5%|██████▏                                                                                                              | 532/10000 [00:00<00:06, 1425.38it/s]IOPub message rate exceeded.\n",
      "The Jupyter server will temporarily stop sending output\n",
      "to the client in order to avoid crashing it.\n",
      "To change this limit, set the config variable\n",
      "`--ServerApp.iopub_msg_rate_limit`.\n",
      "\n",
      "Current values:\n",
      "ServerApp.iopub_msg_rate_limit=1000.0 (msgs/sec)\n",
      "ServerApp.rate_limit_window=3.0 (secs)\n",
      "\n",
      "+73.000000000000 [best: +73.000000000000] :  69%|███████████████████████████████████████████████████████████████████████████████▌                                    | 6857/10000 [00:03<00:01, 1950.04it/s]IOPub message rate exceeded.\n",
      "The Jupyter server will temporarily stop sending output\n",
      "to the client in order to avoid crashing it.\n",
      "To change this limit, set the config variable\n",
      "`--ServerApp.iopub_msg_rate_limit`.\n",
      "\n",
      "Current values:\n",
      "ServerApp.iopub_msg_rate_limit=1000.0 (msgs/sec)\n",
      "ServerApp.rate_limit_window=3.0 (secs)\n",
      "\n",
      "+314.000000000000 [best: +314.000000000000] :  33%|█████████████████████████████████████▍                                                                            | 3289/10000 [00:01<00:03, 1951.12it/s]IOPub message rate exceeded.\n",
      "The Jupyter server will temporarily stop sending output\n",
      "to the client in order to avoid crashing it.\n",
      "To change this limit, set the config variable\n",
      "`--ServerApp.iopub_msg_rate_limit`.\n",
      "\n",
      "Current values:\n",
      "ServerApp.iopub_msg_rate_limit=1000.0 (msgs/sec)\n",
      "ServerApp.rate_limit_window=3.0 (secs)\n",
      "\n",
      "+314.000000000000 [best: +314.000000000000] :  99%|█████████████████████████████████████████████████████████████████████████████████████████████████████████████████ | 9915/10000 [00:05<00:00, 1878.68it/s]IOPub message rate exceeded.\n",
      "The Jupyter server will temporarily stop sending output\n",
      "to the client in order to avoid crashing it.\n",
      "To change this limit, set the config variable\n",
      "`--ServerApp.iopub_msg_rate_limit`.\n",
      "\n",
      "Current values:\n",
      "ServerApp.iopub_msg_rate_limit=1000.0 (msgs/sec)\n",
      "ServerApp.rate_limit_window=3.0 (secs)\n",
      "\n",
      "+194.000000000000 [best: +194.000000000000] :  61%|█████████████████████████████████████████████████████████████████████▎                                            | 6079/10000 [00:03<00:02, 1922.92it/s]IOPub message rate exceeded.\n",
      "The Jupyter server will temporarily stop sending output\n",
      "to the client in order to avoid crashing it.\n",
      "To change this limit, set the config variable\n",
      "`--ServerApp.iopub_msg_rate_limit`.\n",
      "\n",
      "Current values:\n",
      "ServerApp.iopub_msg_rate_limit=1000.0 (msgs/sec)\n",
      "ServerApp.rate_limit_window=3.0 (secs)\n",
      "\n",
      "+194.000000000000 [best: +194.000000000000] : : 10001it [00:05, 1949.42it/s]                                                                                                                                \n",
      "+445.000000000000 [best: +445.000000000000] :  27%|███████████████████████████████                                                                                   | 2721/10000 [00:01<00:03, 1948.29it/s]IOPub message rate exceeded.\n",
      "The Jupyter server will temporarily stop sending output\n",
      "to the client in order to avoid crashing it.\n",
      "To change this limit, set the config variable\n",
      "`--ServerApp.iopub_msg_rate_limit`.\n",
      "\n",
      "Current values:\n",
      "ServerApp.iopub_msg_rate_limit=1000.0 (msgs/sec)\n",
      "ServerApp.rate_limit_window=3.0 (secs)\n",
      "\n",
      "+445.000000000000 [best: +445.000000000000] :  93%|█████████████████████████████████████████████████████████████████████████████████████████████████████████▋        | 9275/10000 [00:04<00:00, 1977.95it/s]IOPub message rate exceeded.\n",
      "The Jupyter server will temporarily stop sending output\n",
      "to the client in order to avoid crashing it.\n",
      "To change this limit, set the config variable\n",
      "`--ServerApp.iopub_msg_rate_limit`.\n",
      "\n",
      "Current values:\n",
      "ServerApp.iopub_msg_rate_limit=1000.0 (msgs/sec)\n",
      "ServerApp.rate_limit_window=3.0 (secs)\n",
      "\n",
      "+107.000000000000 [best: +107.000000000000] :  57%|█████████████████████████████████████████████████████████████████▍                                                | 5735/10000 [00:02<00:02, 1986.89it/s]IOPub message rate exceeded.\n",
      "The Jupyter server will temporarily stop sending output\n",
      "to the client in order to avoid crashing it.\n",
      "To change this limit, set the config variable\n",
      "`--ServerApp.iopub_msg_rate_limit`.\n",
      "\n",
      "Current values:\n",
      "ServerApp.iopub_msg_rate_limit=1000.0 (msgs/sec)\n",
      "ServerApp.rate_limit_window=3.0 (secs)\n",
      "\n",
      "+107.000007629395 [best: +107.000000000000] : : 10001it [00:05, 1978.73it/s]                                                                                                                                \n",
      "+131.000122070312 [best: +131.000030517578] :  24%|███████████████████████████▏                                                                                      | 2382/10000 [00:01<00:03, 1969.63it/s]IOPub message rate exceeded.\n",
      "The Jupyter server will temporarily stop sending output\n",
      "to the client in order to avoid crashing it.\n",
      "To change this limit, set the config variable\n",
      "`--ServerApp.iopub_msg_rate_limit`.\n",
      "\n",
      "Current values:\n",
      "ServerApp.iopub_msg_rate_limit=1000.0 (msgs/sec)\n",
      "ServerApp.rate_limit_window=3.0 (secs)\n",
      "\n",
      "+131.000091552734 [best: +131.000030517578] :  87%|███████████████████████████████████████████████████████████████████████████████████████████████████▌              | 8731/10000 [00:04<00:00, 1958.67it/s]IOPub message rate exceeded.\n",
      "The Jupyter server will temporarily stop sending output\n",
      "to the client in order to avoid crashing it.\n",
      "To change this limit, set the config variable\n",
      "`--ServerApp.iopub_msg_rate_limit`.\n",
      "\n",
      "Current values:\n",
      "ServerApp.iopub_msg_rate_limit=1000.0 (msgs/sec)\n",
      "ServerApp.rate_limit_window=3.0 (secs)\n",
      "\n"
     ]
    }
   ],
   "source": [
    "optimizers = dict()\n",
    "\n",
    "for _ in range(num_seeds):\n",
    "    hyperparams ={k: v.rvs() for k, v in hyperparameter_dists_dict.items()}\n",
    "\n",
    "    mpo = initialize_mpo(\n",
    "        60,\n",
    "        81,\n",
    "        1,\n",
    "        hyperparams['bond_dimension'],\n",
    "        2\n",
    "    )\n",
    "\n",
    "    optmzr = qtn.optimize.TNOptimizer(\n",
    "        mpo,                                # our initial input, the tensors of which to optimize\n",
    "        loss_fn=overall_loss_function,\n",
    "        loss_kwargs={\n",
    "            'rdm_tn': problem_rdm,\n",
    "            'total_physical_dimension': total_physical_dim,\n",
    "            'unitary_cost_coefficient': 1,\n",
    "            'overlap_cost_coefficient': hyperparams['overlap_learning_rate']\n",
    "        },\n",
    "        autodiff_backend='jax',      # {'jax', 'tensorflow', 'autograd'}\n",
    "        optimizer='adam',               # supplied to scipy.minimize\n",
    "    )\n",
    "\n",
    "    optmzr.optimize(\n",
    "        num_iterations,\n",
    "        learning_rate=hyperparams['alpha'],\n",
    "        beta1=hyperparams['beta_1'],\n",
    "        beta2=hyperparams['beta_2']\n",
    "    )\n",
    "\n",
    "    optimizers[HyperParams(**hyperparams)] = optmzr"
   ]
  },
  {
   "cell_type": "code",
   "execution_count": 62,
   "id": "8fa83f18-227c-4a29-9da5-966c47a590d4",
   "metadata": {},
   "outputs": [],
   "source": [
    "optimizer_list = [\n",
    "    (k, v) for k, v in optimizers.items()\n",
    "]"
   ]
  },
  {
   "cell_type": "code",
   "execution_count": 63,
   "id": "f400fa02-7df1-47ca-b639-8c8be433aa13",
   "metadata": {},
   "outputs": [
    {
     "data": {
      "image/png": "[encoded data removed]",
      "text/plain": [
       "<Figure size 800x348.22 with 4 Axes>"
      ]
     },
     "metadata": {
      "needs_background": "light"
     },
     "output_type": "display_data"
    },
    {
     "data": {
      "text/plain": [
       "(<Figure size 800x348.22 with 4 Axes>,\n",
       " array([[<Axes: >, <Axes: >],\n",
       "        [<Axes: xlabel='Iteration (full)'>,\n",
       "         <Axes: xlabel='Iteration (zoom)'>]], dtype=object))"
      ]
     },
     "execution_count": 63,
     "metadata": {},
     "output_type": "execute_result"
    }
   ],
   "source": [
    "optimizer_list[0][1].plot()"
   ]
  },
  {
   "cell_type": "code",
   "execution_count": 64,
   "id": "613a8c55-8d63-4d1b-8d45-6c1be73f49e1",
   "metadata": {},
   "outputs": [
    {
     "data": {
      "text/plain": [
       "HyperParams(alpha=0.0022943557542547026, beta_1=0.1676488607647019, beta_2=0.3705412273640394, bond_dimension=8, overlap_learning_rate=237)"
      ]
     },
     "execution_count": 64,
     "metadata": {},
     "output_type": "execute_result"
    }
   ],
   "source": [
    "optimizer_list[0][0]"
   ]
  },
  {
   "cell_type": "code",
   "execution_count": 65,
   "id": "df50364b-eb74-452a-897d-7ec7545cb6c4",
   "metadata": {},
   "outputs": [],
   "source": [
    "mpo_opt = optimizer_list[0][1].get_tn_opt()\n",
    "ml, mr = split_mpo_pair(mpo_opt)"
   ]
  },
  {
   "cell_type": "code",
   "execution_count": 66,
   "id": "8976ea9f-b848-433d-b4f7-7509a0b1dc9f",
   "metadata": {},
   "outputs": [
    {
     "data": {
      "text/plain": [
       "(Array(1., dtype=float32),\n",
       " Array(2.2888184e-05, dtype=float32, weak_type=True),\n",
       " Array(2.0980835e-05, dtype=float32, weak_type=True))"
      ]
     },
     "execution_count": 66,
     "metadata": {},
     "output_type": "execute_result"
    }
   ],
   "source": [
    "(\n",
    "    overlap_loss_function(ml, mr, problem_rdm),\n",
    "    unitarity_tn(ml, total_physical_dim),\n",
    "    unitarity_tn(mr, total_physical_dim),\n",
    ")"
   ]
  },
  {
   "cell_type": "markdown",
   "id": "2e21a050-34cc-4b5c-82fb-7e4d8aec034b",
   "metadata": {},
   "source": [
    "Calculate for each:"
   ]
  },
  {
   "cell_type": "code",
   "execution_count": 67,
   "id": "94cdba9d-a77e-4d4c-b5e2-e619a3436b32",
   "metadata": {},
   "outputs": [],
   "source": [
    "final_scores = list()\n",
    "\n",
    "for h, o in optimizer_list:\n",
    "    mpo_opt = o.get_tn_opt()\n",
    "    ml, mr = split_mpo_pair(mpo_opt)\n",
    "\n",
    "    out = (\n",
    "        overlap_loss_function(ml, mr, problem_rdm),\n",
    "        unitarity_tn(ml, total_physical_dim),\n",
    "        unitarity_tn(mr, total_physical_dim),\n",
    "    )\n",
    "\n",
    "    final_scores.append(out)"
   ]
  },
  {
   "cell_type": "code",
   "execution_count": 68,
   "id": "62696a90-018b-401f-8fbb-bf8c9c31c0ed",
   "metadata": {},
   "outputs": [
    {
     "data": {
      "text/plain": [
       "[(Array(1., dtype=float32),\n",
       "  Array(2.2888184e-05, dtype=float32, weak_type=True),\n",
       "  Array(2.0980835e-05, dtype=float32, weak_type=True)),\n",
       " (Array(1., dtype=float32),\n",
       "  Array(0., dtype=float32, weak_type=True),\n",
       "  Array(2.3841858e-07, dtype=float32, weak_type=True)),\n",
       " (Array(1., dtype=float32),\n",
       "  Array(0., dtype=float32, weak_type=True),\n",
       "  Array(2.3841858e-07, dtype=float32, weak_type=True)),\n",
       " (Array(1., dtype=float32),\n",
       "  Array(5.722046e-06, dtype=float32, weak_type=True),\n",
       "  Array(1.9073486e-06, dtype=float32, weak_type=True)),\n",
       " (Array(1., dtype=float32),\n",
       "  Array(2.3841858e-06, dtype=float32, weak_type=True),\n",
       "  Array(1.9073486e-06, dtype=float32, weak_type=True)),\n",
       " (Array(1., dtype=float32),\n",
       "  Array(9.536743e-07, dtype=float32, weak_type=True),\n",
       "  Array(1.1920929e-06, dtype=float32, weak_type=True)),\n",
       " (Array(1., dtype=float32),\n",
       "  Array(1.9073486e-06, dtype=float32, weak_type=True),\n",
       "  Array(4.053116e-06, dtype=float32, weak_type=True)),\n",
       " (Array(1., dtype=float32),\n",
       "  Array(4.7683716e-07, dtype=float32, weak_type=True),\n",
       "  Array(0., dtype=float32, weak_type=True)),\n",
       " (Array(1., dtype=float32),\n",
       "  Array(3.33786e-06, dtype=float32, weak_type=True),\n",
       "  Array(6.198883e-06, dtype=float32, weak_type=True)),\n",
       " (Array(1., dtype=float32),\n",
       "  Array(0.0001018, dtype=float32, weak_type=True),\n",
       "  Array(8.225441e-05, dtype=float32, weak_type=True))]"
      ]
     },
     "execution_count": 68,
     "metadata": {},
     "output_type": "execute_result"
    }
   ],
   "source": [
    "final_scores"
   ]
  },
  {
   "cell_type": "code",
   "execution_count": 69,
   "id": "84a9d1b8-894d-4c1b-8249-c530933109dd",
   "metadata": {},
   "outputs": [
    {
     "data": {
      "text/plain": [
       "[Array(1., dtype=float32),\n",
       " Array(1., dtype=float32),\n",
       " Array(1., dtype=float32),\n",
       " Array(1., dtype=float32),\n",
       " Array(1., dtype=float32),\n",
       " Array(1., dtype=float32),\n",
       " Array(1., dtype=float32),\n",
       " Array(1., dtype=float32),\n",
       " Array(1., dtype=float32),\n",
       " Array(1., dtype=float32)]"
      ]
     },
     "execution_count": 69,
     "metadata": {},
     "output_type": "execute_result"
    }
   ],
   "source": [
    "[x[0] for x in final_scores]"
   ]
  },
  {
   "cell_type": "markdown",
   "id": "89a4c49c-9035-4b32-9240-e780ad67be2e",
   "metadata": {},
   "source": [
    "## 2"
   ]
  },
  {
   "cell_type": "code",
   "execution_count": 100,
   "id": "8e4adb89-34ab-48d9-babc-f35b5b8b7550",
   "metadata": {},
   "outputs": [],
   "source": [
    "symmetry_site_pairs = []\n",
    "num_boundary_sites=1\n",
    "\n",
    "problem_rdm = generate_problem_rdm(\n",
    "    q1,\n",
    "    symmetry_site_pairs,\n",
    "    60,\n",
    "    81,\n",
    "    num_boundary_sites\n",
    ")"
   ]
  },
  {
   "cell_type": "code",
   "execution_count": 101,
   "id": "182f438d-1b49-4f7f-94b4-9b5622ac6cc4",
   "metadata": {},
   "outputs": [],
   "source": [
    "num_iterations = int(1e4) \n",
    "num_seeds = 10\n",
    "\n",
    "hyperparameter_dists_dict = {\n",
    "    'alpha': scipy.stats.loguniform(1e-4, 1e-2),\n",
    "    'beta_1': scipy.stats.uniform(0.1, 0.5),\n",
    "    'beta_2': scipy.stats.uniform(0.1, 0.5),\n",
    "    'bond_dimension': scipy.stats.randint(4, 9),\n",
    "    'overlap_learning_rate': scipy.stats.randint(1, 500)\n",
    "}"
   ]
  },
  {
   "cell_type": "code",
   "execution_count": 102,
   "id": "3de54e16-0988-4c32-9d94-f48503dd61c6",
   "metadata": {},
   "outputs": [],
   "source": [
    "HyperParams = namedtuple('HyperParams', hyperparameter_dists_dict)"
   ]
  },
  {
   "cell_type": "code",
   "execution_count": 103,
   "id": "1bed6fce-9e53-4263-b391-169327aaa10c",
   "metadata": {},
   "outputs": [
    {
     "data": {
      "image/png": "[encoded data removed]",
      "text/plain": [
       "<Figure size 600x600 with 1 Axes>"
      ]
     },
     "metadata": {
      "needs_background": "light"
     },
     "output_type": "display_data"
    }
   ],
   "source": [
    "problem_rdm.draw()"
   ]
  },
  {
   "cell_type": "code",
   "execution_count": 104,
   "id": "cdace372-2e4b-4240-b5a7-5748a657b071",
   "metadata": {},
   "outputs": [],
   "source": [
    "mpo = initialize_one_site_identity_mpo(\n",
    "    60,\n",
    "    81,\n",
    "    2\n",
    ")"
   ]
  },
  {
   "cell_type": "code",
   "execution_count": 105,
   "id": "17cf5114-bb44-4267-8a35-4af5b05c65bc",
   "metadata": {},
   "outputs": [
    {
     "data": {
      "image/png": "[encoded data removed]",
      "text/plain": [
       "<Figure size 600x600 with 1 Axes>"
      ]
     },
     "metadata": {
      "needs_background": "light"
     },
     "output_type": "display_data"
    }
   ],
   "source": [
    "mpo.draw()"
   ]
  },
  {
   "cell_type": "code",
   "execution_count": 106,
   "id": "999e40de-0772-4433-a1ac-fc2b1771aba5",
   "metadata": {},
   "outputs": [
    {
     "data": {
      "image/png": "[encoded data removed]",
      "text/plain": [
       "<Figure size 600x600 with 1 Axes>"
      ]
     },
     "metadata": {
      "needs_background": "light"
     },
     "output_type": "display_data"
    }
   ],
   "source": [
    "(problem_rdm & mpo).draw()"
   ]
  },
  {
   "cell_type": "code",
   "execution_count": 107,
   "id": "455c62c1-a339-45b0-b818-81f2a2f8184d",
   "metadata": {},
   "outputs": [
    {
     "data": {
      "text/plain": [
       "(0.9999999999999902+1.5289742701892655e-18j)"
      ]
     },
     "execution_count": 107,
     "metadata": {},
     "output_type": "execute_result"
    }
   ],
   "source": [
    "(problem_rdm & mpo) ^ ..."
   ]
  },
  {
   "cell_type": "code",
   "execution_count": 108,
   "id": "338c5e8c-1365-4417-8a79-12e997b8d9f8",
   "metadata": {},
   "outputs": [
    {
     "name": "stdout",
     "output_type": "stream",
     "text": [
      "Help on function overlap_loss_function in module __main__:\n",
      "\n",
      "overlap_loss_function(ml, mr, rdm_tn, epsilon=1e-08)\n",
      "\n"
     ]
    }
   ],
   "source": [
    "help(overlap_loss_function)"
   ]
  },
  {
   "cell_type": "code",
   "execution_count": 109,
   "id": "f8d8608f-460e-4dda-aa2c-f015de880270",
   "metadata": {},
   "outputs": [
    {
     "name": "stdout",
     "output_type": "stream",
     "text": [
      "Help on function overlap_loss_function_mpo_pair in module __main__:\n",
      "\n",
      "overlap_loss_function_mpo_pair(mpo_pair, rdm_tn)\n",
      "\n"
     ]
    }
   ],
   "source": [
    "help(overlap_loss_function_mpo_pair)"
   ]
  },
  {
   "cell_type": "code",
   "execution_count": 110,
   "id": "be524396-19d4-412e-b4d9-c698e574d5fa",
   "metadata": {},
   "outputs": [
    {
     "name": "stderr",
     "output_type": "stream",
     "text": [
      "  0%|                                                                                                                                                                             | 0/10000 [00:00<?, ?it/s]/Users/kierancooney/.pyenv/versions/num_spt_venv_p11/lib/python3.11/site-packages/quimb/tensor/optimize.py:135: UserWarning: dtype mismatch between input parameter and updated values. This can occur e.g. with jax and double precision arrays (in which case consider setting `jax.config.update(\"jax_enable_x64\", True)` at startup or using single precision parameters directly). For now casting from complex64 to complex128.\n",
      "  warnings.warn(\n",
      "+0.000000000000 [best: +0.000000000000] :   0%|                                                                                                                         | 1/10000 [00:00<1:11:14,  2.34it/s]\n",
      "+0.000000000000 [best: +0.000000000000] :   0%|                                                                                                                           | 1/10000 [00:00<23:37,  7.05it/s]\n",
      "+0.000000000000 [best: +0.000000000000] :   0%|                                                                                                                           | 1/10000 [00:00<23:32,  7.08it/s]\n",
      "+0.000000000000 [best: +0.000000000000] :   0%|                                                                                                                           | 1/10000 [00:00<23:00,  7.24it/s]\n",
      "+0.000000000000 [best: +0.000000000000] :   0%|                                                                                                                           | 1/10000 [00:00<23:25,  7.11it/s]\n",
      "+0.000000000000 [best: +0.000000000000] :   0%|                                                                                                                           | 1/10000 [00:00<22:42,  7.34it/s]\n",
      "+0.000000000000 [best: +0.000000000000] :   0%|                                                                                                                           | 1/10000 [00:00<22:55,  7.27it/s]\n",
      "+0.000000000000 [best: +0.000000000000] :   0%|                                                                                                                           | 1/10000 [00:00<23:03,  7.22it/s]\n",
      "+0.000000000000 [best: +0.000000000000] :   0%|                                                                                                                           | 1/10000 [00:00<23:22,  7.13it/s]\n",
      "+0.000000000000 [best: +0.000000000000] :   0%|                                                                                                                           | 1/10000 [00:00<23:21,  7.14it/s]\n"
     ]
    }
   ],
   "source": [
    "optimizers = dict()\n",
    "\n",
    "for _ in range(num_seeds):\n",
    "    hyperparams ={k: v.rvs() for k, v in hyperparameter_dists_dict.items()}\n",
    "\n",
    "    mpo = initialize_one_site_identity_mpo(\n",
    "        60,\n",
    "        81,\n",
    "        2\n",
    "    )\n",
    "\n",
    "    optmzr = qtn.optimize.TNOptimizer(\n",
    "        mpo,                                # our initial input, the tensors of which to optimize\n",
    "        loss_fn=overlap_loss_function_mpo_pair,\n",
    "        loss_kwargs={\n",
    "            'rdm_tn': problem_rdm,\n",
    "            #'total_physical_dimension': total_physical_dim,\n",
    "            #'unitary_cost_coefficient': 0,\n",
    "            #'overlap_cost_coefficient': 1\n",
    "        },\n",
    "        autodiff_backend='jax',      # {'jax', 'tensorflow', 'autograd'}\n",
    "        optimizer='adam',               # supplied to scipy.minimize\n",
    "    )\n",
    "\n",
    "    optmzr.optimize(\n",
    "        num_iterations,\n",
    "        learning_rate=hyperparams['alpha'],\n",
    "        beta1=hyperparams['beta_1'],\n",
    "        beta2=hyperparams['beta_2']\n",
    "    )\n",
    "\n",
    "    optimizers[HyperParams(**hyperparams)] = optmzr"
   ]
  },
  {
   "cell_type": "markdown",
   "id": "0e8aa7bd-b9ba-4d6c-8674-ca5d3243da05",
   "metadata": {},
   "source": [
    "# Conclusion\n",
    "Was missing a conjugate!"
   ]
  },
  {
   "cell_type": "code",
   "execution_count": null,
   "id": "b659b101-bb54-46fe-a8f1-7e1f5dc10d81",
   "metadata": {},
   "outputs": [],
   "source": []
  }
 ],
 "metadata": {
  "kernelspec": {
   "display_name": "num_spt_venv_p11",
   "language": "python",
   "name": "num_spt_venv_p11"
  },
  "language_info": {
   "codemirror_mode": {
    "name": "ipython",
    "version": 3
   },
   "file_extension": ".py",
   "mimetype": "text/x-python",
   "name": "python",
   "nbconvert_exporter": "python",
   "pygments_lexer": "ipython3",
   "version": "3.11.9"
  }
 },
 "nbformat": 4,
 "nbformat_minor": 5
}
