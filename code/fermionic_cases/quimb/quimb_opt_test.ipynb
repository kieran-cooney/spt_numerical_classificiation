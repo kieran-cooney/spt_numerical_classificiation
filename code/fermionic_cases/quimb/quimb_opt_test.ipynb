{
 "cells": [
  {
   "cell_type": "markdown",
   "id": "78094a57-64b8-45bc-ba70-495ea6f81d71",
   "metadata": {},
   "source": [
    "# QUIMB opt test\n",
    "Created 23/05/2024\n",
    "\n",
    "Objectives:\n",
    "* Got QUIMB working in [this notebook](first_quimb.ipynb), now vary hyperaparameters to check performance."
   ]
  },
  {
   "cell_type": "markdown",
   "id": "5e618d3a-fdaf-441f-bc73-3649e01a7b3c",
   "metadata": {},
   "source": [
    "# Package imports"
   ]
  },
  {
   "cell_type": "code",
   "execution_count": null,
   "id": "ecb41ea3-927f-4efa-aebe-ce15784aa037",
   "metadata": {},
   "outputs": [],
   "source": [
    "import sys"
   ]
  },
  {
   "cell_type": "code",
   "execution_count": null,
   "id": "0375bd38-12e1-417a-908a-13fb540081f5",
   "metadata": {},
   "outputs": [],
   "source": [
    "sys.path.append(\"../../\")"
   ]
  },
  {
   "cell_type": "code",
   "execution_count": null,
   "id": "0cf49837-01b6-431a-b570-d7ed25903239",
   "metadata": {},
   "outputs": [],
   "source": [
    "from itertools import chain\n",
    "import re"
   ]
  },
  {
   "cell_type": "code",
   "execution_count": null,
   "id": "f59344b7-d34e-47e4-99be-f5a2687f8176",
   "metadata": {},
   "outputs": [],
   "source": [
    "import h5py\n",
    "from tenpy.tools import hdf5_io\n",
    "import tenpy\n",
    "import tenpy.linalg.np_conserved as npc\n",
    "\n",
    "import os"
   ]
  },
  {
   "cell_type": "code",
   "execution_count": null,
   "id": "19404619-d778-4cc3-8ee1-1db6f14b2043",
   "metadata": {},
   "outputs": [],
   "source": [
    "import numpy as np\n",
    "\n",
    "import matplotlib.pyplot as plt"
   ]
  },
  {
   "cell_type": "code",
   "execution_count": null,
   "id": "92eeb066-5463-4237-ad07-3c5a0d934f4f",
   "metadata": {},
   "outputs": [],
   "source": [
    "import quimb as qu\n",
    "import quimb.tensor as qtn\n",
    "from quimb.tensor.optimize import TNOptimizer"
   ]
  },
  {
   "cell_type": "markdown",
   "id": "1e7fa07a-a850-4148-bb15-43b2582429cb",
   "metadata": {},
   "source": [
    "# Load data"
   ]
  },
  {
   "cell_type": "code",
   "execution_count": null,
   "id": "a073ec4a-1d8d-4786-af9f-11e750b1e3a9",
   "metadata": {},
   "outputs": [],
   "source": [
    "DATA_DIR_1 = r\"../../data/interpolated_trivial_to_nontrivial_fermionic_trivial_proj_rep_200_site_dmrg/\"\n",
    "DATA_DIR_2 = r\"../../data/interpolated_nontrivial_fermionic_proj_rep_to_nontrivial_proj_rep_200_site_dmrg/\""
   ]
  },
  {
   "cell_type": "code",
   "execution_count": null,
   "id": "9fd5bc67-e5e4-4b8f-a5e4-f5120506f1ed",
   "metadata": {},
   "outputs": [],
   "source": [
    "def parse_file_name(file_name):\n",
    "    interpolation = int(file_name.split('_')[0])/100\n",
    "\n",
    "    return interpolation"
   ]
  },
  {
   "cell_type": "code",
   "execution_count": null,
   "id": "d694f0e0-4ab2-4eea-8f21-7177abc2de50",
   "metadata": {},
   "outputs": [],
   "source": [
    "loaded_data_non_triv_proj_rep = dict()\n",
    "energies_non_triv_proj_rep = dict()\n",
    "\n",
    "for local_file_name in list(os.walk(DATA_DIR_2))[0][2]:\n",
    "    f_name = r\"{}/{}\".format(DATA_DIR_2, local_file_name, ignore_unknown=False)\n",
    "\n",
    "    with h5py.File(f_name, 'r') as f:\n",
    "        data = hdf5_io.load_from_hdf5(f)\n",
    "\n",
    "        data_info = parse_file_name(local_file_name)\n",
    "        loaded_data_non_triv_proj_rep[data_info]=data['wavefunction']\n",
    "        energies_non_triv_proj_rep[data_info]=data['energy']"
   ]
  },
  {
   "cell_type": "code",
   "execution_count": null,
   "id": "ba498dc9-2751-4168-98fe-4d64f9933c0b",
   "metadata": {},
   "outputs": [],
   "source": [
    "psi = loaded_data_non_triv_proj_rep[0.1]"
   ]
  },
  {
   "cell_type": "code",
   "execution_count": null,
   "id": "1e1a9d07-7c90-4bff-b15c-26b40a4daa33",
   "metadata": {},
   "outputs": [],
   "source": [
    "from collections import Counter"
   ]
  },
  {
   "cell_type": "code",
   "execution_count": null,
   "id": "c6f844ce-e988-4b14-8427-413eff20782e",
   "metadata": {},
   "outputs": [],
   "source": [
    "Counter(\n",
    "    tuple(psi.get_B(i).get_leg_labels())\n",
    "    for i in range(psi.L)\n",
    ")"
   ]
  },
  {
   "cell_type": "code",
   "execution_count": null,
   "id": "58108129-d506-4791-8b0e-8e13e795170f",
   "metadata": {},
   "outputs": [],
   "source": [
    "psi_arrays = list()\n",
    "psi_arrays.append(psi.get_B(0, 'Th')[0, ...].to_ndarray())\n",
    "for i in range(1, psi.L-1):\n",
    "    psi_arrays.append(psi.get_B(i).to_ndarray())\n",
    "psi_arrays.append(psi.get_B(psi.L-1)[..., 0].to_ndarray())"
   ]
  },
  {
   "cell_type": "code",
   "execution_count": null,
   "id": "b56eb9f6-49bc-496d-b833-6eea17110e16",
   "metadata": {},
   "outputs": [],
   "source": [
    "q1 = (\n",
    "    qtn\n",
    "    .tensor_1d\n",
    "    .MatrixProductState(\n",
    "        psi_arrays,\n",
    "        shape='lpr'\n",
    "    )\n",
    ")"
   ]
  },
  {
   "cell_type": "markdown",
   "id": "3269e554-4543-4e55-8a03-68083f819521",
   "metadata": {},
   "source": [
    "# Definitions"
   ]
  },
  {
   "cell_type": "markdown",
   "id": "906a7920-67da-4c96-aba0-4cd6b49e1815",
   "metadata": {},
   "source": [
    "## Define tensor network to contract against"
   ]
  },
  {
   "cell_type": "code",
   "execution_count": null,
   "id": "528c5820-09ec-4fc0-81cf-deedb9ad3a00",
   "metadata": {},
   "outputs": [],
   "source": [
    "np_10 = np.array([\n",
    "    [0, 0, 1, 0],\n",
    "    [0, 0, 0, 1],\n",
    "    [1, 0, 0, 0],\n",
    "    [0, 1, 0, 0]\n",
    "])"
   ]
  },
  {
   "cell_type": "code",
   "execution_count": null,
   "id": "56791c81-2163-42bc-bb13-df25663f0bca",
   "metadata": {},
   "outputs": [],
   "source": [
    "q2 = q1.copy(deep=True)\n",
    "\n",
    "symmetry_sites = list(range(60, 60+80, 2))\n",
    "for i in symmetry_sites:\n",
    "\n",
    "    q2.gate(\n",
    "        np_10,\n",
    "        where=i,\n",
    "        contract=False,\n",
    "        inplace=True\n",
    "    )"
   ]
  },
  {
   "cell_type": "code",
   "execution_count": null,
   "id": "c7441104-caeb-4970-a856-d35786f74396",
   "metadata": {},
   "outputs": [],
   "source": [
    "qb = q1.copy()"
   ]
  },
  {
   "cell_type": "code",
   "execution_count": null,
   "id": "41f412d4-bf37-4ad4-b750-81b3dc29b91f",
   "metadata": {},
   "outputs": [],
   "source": [
    "indices_to_map = list(chain(range(60-6,60), range(140, 140+6)))"
   ]
  },
  {
   "cell_type": "code",
   "execution_count": null,
   "id": "9a92423f-89bf-4725-8b65-0aeea1de693b",
   "metadata": {},
   "outputs": [],
   "source": [
    "indices_to_map"
   ]
  },
  {
   "cell_type": "code",
   "execution_count": null,
   "id": "e9e3701c-dd63-4cda-b18b-9fcea21a9335",
   "metadata": {},
   "outputs": [],
   "source": [
    "index_mapping = {f'k{i}': f'b{i}' for i in indices_to_map}"
   ]
  },
  {
   "cell_type": "code",
   "execution_count": null,
   "id": "76191599-c499-4f59-a695-7834731bf7e9",
   "metadata": {},
   "outputs": [],
   "source": [
    "qb.reindex(index_mapping, inplace=True)"
   ]
  },
  {
   "cell_type": "code",
   "execution_count": null,
   "id": "f9290bd1-ada6-4c08-aeee-ef65add14095",
   "metadata": {},
   "outputs": [],
   "source": [
    "num_sites = 6\n",
    "num_symmetry_sites = 80\n",
    "num_psi_sites = psi.L\n",
    "left_most_symmetry_site=60\n",
    "\n",
    "sites_to_contract = {\n",
    "    'left': list(range(left_most_symmetry_site-num_sites)),\n",
    "    'middle': list(range(left_most_symmetry_site, left_most_symmetry_site+num_symmetry_sites)),\n",
    "    'right': list(range(left_most_symmetry_site+num_symmetry_sites+num_sites, num_psi_sites))\n",
    "}\n",
    "\n",
    "tags_to_contract = {\n",
    "    k: [f'I{i}' for i in v]\n",
    "    for k, v in sites_to_contract.items()\n",
    "}"
   ]
  },
  {
   "cell_type": "code",
   "execution_count": null,
   "id": "ccfce540-4b70-4bbc-93a7-0f5c958311a6",
   "metadata": {},
   "outputs": [],
   "source": [
    "tnc = (\n",
    "    tn\n",
    "    .contract(tags_to_contract['left'])\n",
    "    .contract(tags_to_contract['middle'])\n",
    "    .contract(tags_to_contract['right'])\n",
    ")"
   ]
  },
  {
   "cell_type": "markdown",
   "id": "892fe32c-35e1-4e45-af39-49155a061a43",
   "metadata": {},
   "source": [
    "## Initial mpos"
   ]
  },
  {
   "cell_type": "code",
   "execution_count": null,
   "id": "477cc4f3-762c-46a9-b57f-fed5d0aaf659",
   "metadata": {},
   "outputs": [],
   "source": [
    "ml = qtn.MPO_rand(\n",
    "    6,\n",
    "    6,\n",
    "    phys_dim=[4,2],\n",
    "    normalize=True,\n",
    "    sites=list(range(54, 60)),\n",
    "    tags='left_mpo'\n",
    ")"
   ]
  },
  {
   "cell_type": "code",
   "execution_count": null,
   "id": "41dbfe5f-8eab-4865-9bfc-63ae6a71e868",
   "metadata": {},
   "outputs": [],
   "source": [
    "mr = qtn.MPO_rand(\n",
    "    6,\n",
    "    6,\n",
    "    phys_dim=[4,2],\n",
    "    normalize=True,\n",
    "    sites=list(range(140,146)),\n",
    "    tags='right_mpo'\n",
    ")"
   ]
  },
  {
   "cell_type": "code",
   "execution_count": null,
   "id": "fccd2103-0daa-4691-933a-cf9519d4f0cd",
   "metadata": {},
   "outputs": [],
   "source": [
    "mpo = (ml & mr)"
   ]
  },
  {
   "cell_type": "markdown",
   "id": "65b5e95a-a350-4d69-84a5-5ff22669bdac",
   "metadata": {},
   "source": [
    "## Optimisation functions"
   ]
  },
  {
   "cell_type": "code",
   "execution_count": null,
   "id": "e74f130b-761d-4627-a8d5-f2f6d5bcf05a",
   "metadata": {},
   "outputs": [],
   "source": [
    "def overlap_loss_function(ml, mr, rdm_tn):\n",
    "    c = (rdm_tn & ml & mr) ^ ...\n",
    "\n",
    "    c_abs = abs(c)\n",
    "\n",
    "    loss = (c_abs - 1)**2\n",
    "\n",
    "    return loss"
   ]
  },
  {
   "cell_type": "code",
   "execution_count": null,
   "id": "83d3af9b-1864-4cb4-87a7-2a8a3cdbd19b",
   "metadata": {},
   "outputs": [],
   "source": [
    "total_physical_dim = 2**9"
   ]
  },
  {
   "cell_type": "code",
   "execution_count": null,
   "id": "7d1fdb46-b68c-468f-824e-53f17adcb3af",
   "metadata": {},
   "outputs": [],
   "source": [
    "regex_s = r\"^I\\d+$\"\n",
    "regex_p = re.compile(regex_s)"
   ]
  },
  {
   "cell_type": "code",
   "execution_count": null,
   "id": "e037d3d4-f377-4c7c-ba24-9d9453b5ff20",
   "metadata": {},
   "outputs": [],
   "source": [
    "def relabel_mpo(mpo, k_label, b_label):\n",
    "    site_locs = [\n",
    "        int(k[1:]) for k in mpo.tag_map\n",
    "        if bool(re.search(regex_p, k))\n",
    "    ]\n",
    "\n",
    "    k_in_indices = [f'k{i}' for i in site_locs]\n",
    "    j_in_indices = [f'b{i}' for i in site_locs]\n",
    "\n",
    "    k_out_indices = [f'{k_label}{i}' for i in site_locs]\n",
    "    j_out_indices = [f'{b_label}{i}' for i in site_locs]\n",
    "\n",
    "    mapping = dict(\n",
    "        chain(\n",
    "            zip(k_in_indices, k_out_indices),\n",
    "            zip(j_in_indices, j_out_indices)\n",
    "        )\n",
    "    )\n",
    "\n",
    "    mpo.reindex(mapping, inplace=True)"
   ]
  },
  {
   "cell_type": "code",
   "execution_count": null,
   "id": "7f90938e-4acf-475d-8c65-0ffcdbae3248",
   "metadata": {},
   "outputs": [],
   "source": [
    "def unitarity_tn(tn, total_physical_dim):\n",
    "    ms = [tn.copy(), tn.copy(), tn.copy()]\n",
    "\n",
    "    relabel_mpo(ms[0], 'k', 'l')\n",
    "    relabel_mpo(ms[1], 'm', 'l')\n",
    "    relabel_mpo(ms[2], 'm', 'b')\n",
    "\n",
    "    ms[0] = ms[0].conj()\n",
    "    ms[2] = ms[2].conj()\n",
    "\n",
    "    n2tn = (tn & tn.conj())\n",
    "    n2 = n2tn.contract(n2tn.tag_map)\n",
    "    n4tn = (tn & ms[0] & ms[1] & ms[2])\n",
    "    n4 = n4tn.contract(n4tn.tag_map)\n",
    "\n",
    "    return n4 - 2*n2 + total_physical_dim"
   ]
  },
  {
   "cell_type": "code",
   "execution_count": null,
   "id": "7ad55e50-2deb-41a6-85f4-c8cbe14a9981",
   "metadata": {},
   "outputs": [],
   "source": [
    "unitarity_tn(ml, total_physical_dim)"
   ]
  },
  {
   "cell_type": "code",
   "execution_count": null,
   "id": "4d6f9ee2-5028-436b-8353-6aa19f216548",
   "metadata": {},
   "outputs": [],
   "source": [
    "def overall_loss_function(mpo, rdm_tn, total_physical_dimension,\n",
    "    unitary_cost_coefficient=1, overlap_cost_coefficient=1, losses=None):\n",
    "    ml = qtn.TensorNetwork(\n",
    "        list(map(mpo.tensor_map.__getitem__, mpo.tag_map['left_mpo']))\n",
    "    )\n",
    "    mr = qtn.TensorNetwork(\n",
    "        list(map(mpo.tensor_map.__getitem__, mpo.tag_map['right_mpo']))\n",
    "    )\n",
    "    o_loss = overlap_loss_function(ml, mr, rdm_tn)\n",
    "    ul_loss = unitarity_tn(ml, total_physical_dimension)\n",
    "    ur_loss = unitarity_tn(mr, total_physical_dimension)\n",
    "\n",
    "    out = (\n",
    "        unitary_cost_coefficient*(ul_loss+ur_loss)\n",
    "        + overlap_cost_coefficient*o_loss\n",
    "    )\n",
    "\n",
    "    if losses is not None:\n",
    "        losses.append((o_loss, ul_loss, ur_loss))\n",
    "    return out"
   ]
  },
  {
   "cell_type": "markdown",
   "id": "227e0a85-a24b-448b-91f1-753e13b6a6bc",
   "metadata": {},
   "source": [
    "# Optimization runs"
   ]
  },
  {
   "cell_type": "markdown",
   "id": "628c2274-6ef4-4726-a0fa-294a6dedf155",
   "metadata": {},
   "source": [
    "## 1"
   ]
  },
  {
   "cell_type": "code",
   "execution_count": null,
   "id": "23564038-b9cb-4e74-8020-6a439a7be966",
   "metadata": {},
   "outputs": [],
   "source": [
    "loss_data=list()"
   ]
  },
  {
   "cell_type": "code",
   "execution_count": null,
   "id": "e015e74a-cdc2-4cec-8b3b-6b1fe22f5a09",
   "metadata": {},
   "outputs": [],
   "source": [
    "optmzr = qtn.optimize.TNOptimizer(\n",
    "    mpo,                                # our initial input, the tensors of which to optimize\n",
    "    loss_fn=overall_loss_function,\n",
    "    loss_kwargs={\n",
    "        'rdm_tn': tnc,\n",
    "        'total_physical_dimension': total_physical_dim,\n",
    "        'unitary_cost_coefficient': 1,\n",
    "        'overlap_cost_coefficient': 50,\n",
    "        'losses': loss_data\n",
    "    },\n",
    "    autodiff_backend='tensorflow',      # {'jax', 'tensorflow', 'autograd'}\n",
    "    optimizer='L-BFGS-B',               # supplied to scipy.minimize\n",
    ")"
   ]
  },
  {
   "cell_type": "code",
   "execution_count": null,
   "id": "69b38113-f85b-4ee9-8a2b-542c5a3f1fe7",
   "metadata": {
    "scrolled": true
   },
   "outputs": [],
   "source": [
    "mpo_opt = optmzr.optimize(1000)"
   ]
  },
  {
   "cell_type": "code",
   "execution_count": null,
   "id": "3ca04389-299c-4878-8a69-ba676aa431df",
   "metadata": {
    "scrolled": true
   },
   "outputs": [],
   "source": [
    "len(loss_data)"
   ]
  },
  {
   "cell_type": "code",
   "execution_count": null,
   "id": "c697261e-2685-4d57-9c47-754e1257fb29",
   "metadata": {},
   "outputs": [],
   "source": [
    "optmzr.plot()"
   ]
  },
  {
   "cell_type": "code",
   "execution_count": null,
   "id": "9e9b9508-90f9-47d6-a657-02992b15c182",
   "metadata": {},
   "outputs": [],
   "source": [
    "X = np.array(loss_data)\n",
    "\n",
    "fig, [ax1, ax2] = plt.subplots(nrows=2, figsize=(10, 6))\n",
    "\n",
    "ax1.plot(X[:,1])\n",
    "ax1.plot(X[:,2])\n",
    "ax2.plot(X[:,0])"
   ]
  },
  {
   "cell_type": "code",
   "execution_count": null,
   "id": "0031d81d-b10e-4db9-8f9a-ad39b25dd51f",
   "metadata": {},
   "outputs": [],
   "source": [
    "X = np.array(loss_data)[100:]\n",
    "\n",
    "fig, [ax1, ax2] = plt.subplots(nrows=2, figsize=(10, 6))\n",
    "\n",
    "ax1.plot(X[:,1])\n",
    "ax1.plot(X[:,2])\n",
    "ax2.plot(X[:,0])"
   ]
  },
  {
   "cell_type": "markdown",
   "id": "9cddc2e0-f8df-4651-98a9-4e4433a7a74d",
   "metadata": {},
   "source": [
    "## 2"
   ]
  },
  {
   "cell_type": "code",
   "execution_count": null,
   "id": "c73a01d9-fddb-4226-9644-64e7399c4fe4",
   "metadata": {},
   "outputs": [],
   "source": [
    "loss_data=list()"
   ]
  },
  {
   "cell_type": "code",
   "execution_count": null,
   "id": "60520d8a-06c5-49b5-9c7c-f5e1163aba54",
   "metadata": {},
   "outputs": [],
   "source": [
    "optmzr = qtn.optimize.TNOptimizer(\n",
    "    mpo,                                # our initial input, the tensors of which to optimize\n",
    "    loss_fn=overall_loss_function,\n",
    "    loss_kwargs={\n",
    "        'rdm_tn': tnc,\n",
    "        'total_physical_dimension': total_physical_dim,\n",
    "        'unitary_cost_coefficient': 1,\n",
    "        'overlap_cost_coefficient': 200,\n",
    "        'losses': loss_data\n",
    "    },\n",
    "    autodiff_backend='tensorflow',      # {'jax', 'tensorflow', 'autograd'}\n",
    "    optimizer='L-BFGS-B',               # supplied to scipy.minimize\n",
    ")"
   ]
  },
  {
   "cell_type": "code",
   "execution_count": null,
   "id": "c7b022f8-dfe1-4f28-a5dd-8de8a6677ea6",
   "metadata": {
    "scrolled": true
   },
   "outputs": [],
   "source": [
    "mpo_opt = optmzr.optimize(1000)"
   ]
  },
  {
   "cell_type": "code",
   "execution_count": null,
   "id": "04c17449-3fb9-4a4e-a137-efdb1c6092ea",
   "metadata": {
    "scrolled": true
   },
   "outputs": [],
   "source": [
    "len(loss_data)"
   ]
  },
  {
   "cell_type": "code",
   "execution_count": null,
   "id": "1097b3bf-9b86-4c32-a4ff-05614c73e449",
   "metadata": {},
   "outputs": [],
   "source": [
    "optmzr.plot()"
   ]
  },
  {
   "cell_type": "code",
   "execution_count": null,
   "id": "667bcc7b-29cc-474a-93bd-722e8f3eaa19",
   "metadata": {},
   "outputs": [],
   "source": [
    "X = np.array(loss_data)\n",
    "\n",
    "fig, [ax1, ax2] = plt.subplots(nrows=2, figsize=(10, 6))\n",
    "\n",
    "ax1.plot(X[:,1])\n",
    "ax1.plot(X[:,2])\n",
    "ax2.plot(X[:,0])"
   ]
  },
  {
   "cell_type": "code",
   "execution_count": null,
   "id": "bf32a3a2-bb76-487a-94fa-6fd54121c3d5",
   "metadata": {},
   "outputs": [],
   "source": [
    "X = np.array(loss_data)[100:]\n",
    "\n",
    "fig, [ax1, ax2] = plt.subplots(nrows=2, figsize=(10, 6))\n",
    "\n",
    "ax1.plot(X[:,1])\n",
    "ax1.plot(X[:,2])\n",
    "ax2.plot(X[:,0])"
   ]
  },
  {
   "cell_type": "markdown",
   "id": "36b4ec37-0f5a-4fde-862e-f9907bf2083a",
   "metadata": {},
   "source": [
    "## 3"
   ]
  },
  {
   "cell_type": "code",
   "execution_count": null,
   "id": "da567b5a-b44e-4a7a-abc2-b93a9ffce9f3",
   "metadata": {},
   "outputs": [],
   "source": [
    "loss_data=list()"
   ]
  },
  {
   "cell_type": "code",
   "execution_count": null,
   "id": "2feeaa94-50fe-4969-ad25-72b251c6cc21",
   "metadata": {},
   "outputs": [],
   "source": [
    "optmzr = qtn.optimize.TNOptimizer(\n",
    "    mpo,                                # our initial input, the tensors of which to optimize\n",
    "    loss_fn=overall_loss_function,\n",
    "    loss_kwargs={\n",
    "        'rdm_tn': tnc,\n",
    "        'total_physical_dimension': total_physical_dim,\n",
    "        'unitary_cost_coefficient': 1,\n",
    "        'overlap_cost_coefficient': 500,\n",
    "        'losses': loss_data\n",
    "    },\n",
    "    autodiff_backend='tensorflow',      # {'jax', 'tensorflow', 'autograd'}\n",
    "    optimizer='L-BFGS-B',               # supplied to scipy.minimize\n",
    ")"
   ]
  },
  {
   "cell_type": "code",
   "execution_count": null,
   "id": "4b6e6f8f-972a-4138-b1ff-1e22afc5c190",
   "metadata": {
    "scrolled": true
   },
   "outputs": [],
   "source": [
    "mpo_opt = optmzr.optimize(1000)"
   ]
  },
  {
   "cell_type": "code",
   "execution_count": null,
   "id": "85ec359d-358a-4a8e-965e-762faab0cb2b",
   "metadata": {
    "scrolled": true
   },
   "outputs": [],
   "source": [
    "len(loss_data)"
   ]
  },
  {
   "cell_type": "code",
   "execution_count": null,
   "id": "1bc78c6f-0d85-498a-a632-9af2ec5baa29",
   "metadata": {},
   "outputs": [],
   "source": [
    "optmzr.plot()"
   ]
  },
  {
   "cell_type": "code",
   "execution_count": null,
   "id": "b63b09ae-6822-41da-8e78-67f5815482d1",
   "metadata": {},
   "outputs": [],
   "source": [
    "X = np.array(loss_data)\n",
    "\n",
    "fig, [ax1, ax2] = plt.subplots(nrows=2, figsize=(10, 6))\n",
    "\n",
    "ax1.plot(X[:,1])\n",
    "ax1.plot(X[:,2])\n",
    "ax2.plot(X[:,0])"
   ]
  },
  {
   "cell_type": "code",
   "execution_count": null,
   "id": "890b8aa3-86a1-4a35-8879-f6ad6644ba1f",
   "metadata": {},
   "outputs": [],
   "source": [
    "X = np.array(loss_data)[100:]\n",
    "\n",
    "fig, [ax1, ax2] = plt.subplots(nrows=2, figsize=(10, 6))\n",
    "\n",
    "ax1.plot(X[:,1])\n",
    "ax1.plot(X[:,2])\n",
    "ax2.plot(X[:,0])"
   ]
  },
  {
   "cell_type": "markdown",
   "id": "092b7aee-3ed9-4974-bcd3-072a89f40cf7",
   "metadata": {},
   "source": [
    "## 4"
   ]
  },
  {
   "cell_type": "code",
   "execution_count": null,
   "id": "099050ea-d6ff-45e7-baac-e0937d8dbbe5",
   "metadata": {},
   "outputs": [],
   "source": [
    "loss_data=list()"
   ]
  },
  {
   "cell_type": "code",
   "execution_count": null,
   "id": "e826a79c-028c-4392-8fe9-eb1e3682190e",
   "metadata": {},
   "outputs": [],
   "source": [
    "optmzr = qtn.optimize.TNOptimizer(\n",
    "    mpo,                                # our initial input, the tensors of which to optimize\n",
    "    loss_fn=overall_loss_function,\n",
    "    loss_kwargs={\n",
    "        'rdm_tn': tnc,\n",
    "        'total_physical_dimension': total_physical_dim,\n",
    "        'unitary_cost_coefficient': 1,\n",
    "        'overlap_cost_coefficient': 5000,\n",
    "        'losses': loss_data\n",
    "    },\n",
    "    autodiff_backend='tensorflow',      # {'jax', 'tensorflow', 'autograd'}\n",
    "    optimizer='L-BFGS-B',               # supplied to scipy.minimize\n",
    ")"
   ]
  },
  {
   "cell_type": "code",
   "execution_count": null,
   "id": "f555414e-700c-4a2a-9b61-58c072c2096e",
   "metadata": {
    "scrolled": true
   },
   "outputs": [],
   "source": [
    "mpo_opt = optmzr.optimize(1000)"
   ]
  },
  {
   "cell_type": "code",
   "execution_count": null,
   "id": "609f9ea1-05f8-4d8d-9d09-7d1362bbadc4",
   "metadata": {
    "scrolled": true
   },
   "outputs": [],
   "source": [
    "len(loss_data)"
   ]
  },
  {
   "cell_type": "code",
   "execution_count": null,
   "id": "6826fbdb-9b88-4cfd-92c6-10faa2ffd6c8",
   "metadata": {},
   "outputs": [],
   "source": [
    "optmzr.plot()"
   ]
  },
  {
   "cell_type": "code",
   "execution_count": null,
   "id": "8a3e65ee-dcd9-4289-bed4-afb76640adf7",
   "metadata": {},
   "outputs": [],
   "source": [
    "X = np.array(loss_data)\n",
    "\n",
    "fig, [ax1, ax2] = plt.subplots(nrows=2, figsize=(10, 6))\n",
    "\n",
    "ax1.plot(X[:,1])\n",
    "ax1.plot(X[:,2])\n",
    "ax2.plot(X[:,0])"
   ]
  },
  {
   "cell_type": "code",
   "execution_count": null,
   "id": "2f44399c-d4f6-44da-9718-62f7e961df3f",
   "metadata": {},
   "outputs": [],
   "source": [
    "X = np.array(loss_data)[100:]\n",
    "\n",
    "fig, [ax1, ax2] = plt.subplots(nrows=2, figsize=(10, 6))\n",
    "\n",
    "ax1.plot(X[:,1])\n",
    "ax1.plot(X[:,2])\n",
    "ax2.plot(X[:,0])"
   ]
  },
  {
   "cell_type": "markdown",
   "id": "0489964a-3252-42c3-8417-a131f29b0964",
   "metadata": {},
   "source": [
    "## 5"
   ]
  },
  {
   "cell_type": "code",
   "execution_count": null,
   "id": "d7910389-534c-4e43-9683-a6d1a7b4b472",
   "metadata": {},
   "outputs": [],
   "source": [
    "loss_data=list()"
   ]
  },
  {
   "cell_type": "code",
   "execution_count": null,
   "id": "a6fabe50-78ff-4300-ab95-ea98c2330d7d",
   "metadata": {},
   "outputs": [],
   "source": [
    "optmzr = qtn.optimize.TNOptimizer(\n",
    "    mpo,                                # our initial input, the tensors of which to optimize\n",
    "    loss_fn=overall_loss_function,\n",
    "    loss_kwargs={\n",
    "        'rdm_tn': tnc,\n",
    "        'total_physical_dimension': total_physical_dim,\n",
    "        'unitary_cost_coefficient': 1,\n",
    "        'overlap_cost_coefficient': 5000,\n",
    "        'losses': loss_data\n",
    "    },\n",
    "    autodiff_backend='tensorflow',      # {'jax', 'tensorflow', 'autograd'}\n",
    "    optimizer='adam',               # supplied to scipy.minimize\n",
    ")"
   ]
  },
  {
   "cell_type": "code",
   "execution_count": null,
   "id": "9eddac64-6eab-4785-9fbb-c6f5ff948ebd",
   "metadata": {
    "scrolled": true
   },
   "outputs": [],
   "source": [
    "mpo_opt = optmzr.optimize(10000)"
   ]
  },
  {
   "cell_type": "code",
   "execution_count": null,
   "id": "6e8da054-45fb-4253-ab57-73ed232098fa",
   "metadata": {
    "scrolled": true
   },
   "outputs": [],
   "source": [
    "len(loss_data)"
   ]
  },
  {
   "cell_type": "code",
   "execution_count": null,
   "id": "d996eec1-ad8e-4264-bea9-a519e4a32e41",
   "metadata": {},
   "outputs": [],
   "source": [
    "optmzr.plot()"
   ]
  },
  {
   "cell_type": "code",
   "execution_count": null,
   "id": "023509ff-ce62-47cb-a3bf-d13125cbaec7",
   "metadata": {},
   "outputs": [],
   "source": [
    "X = np.array(loss_data)\n",
    "\n",
    "fig, [ax1, ax2] = plt.subplots(nrows=2, figsize=(10, 6))\n",
    "\n",
    "ax1.plot(X[:,1])\n",
    "ax1.plot(X[:,2])\n",
    "ax2.plot(X[:,0])"
   ]
  },
  {
   "cell_type": "code",
   "execution_count": null,
   "id": "e6d4cb63-9379-4fe1-ac25-3119d6e867d5",
   "metadata": {},
   "outputs": [],
   "source": [
    "X = np.array(loss_data)[2000:]\n",
    "\n",
    "fig, [ax1, ax2] = plt.subplots(nrows=2, figsize=(10, 6))\n",
    "\n",
    "ax1.plot(X[:,1])\n",
    "ax1.plot(X[:,2])\n",
    "ax2.plot(X[:,0])"
   ]
  },
  {
   "cell_type": "code",
   "execution_count": null,
   "id": "cd571d87-982c-4f7b-8b15-e7880d93cc22",
   "metadata": {},
   "outputs": [],
   "source": [
    "X[:,0]"
   ]
  },
  {
   "cell_type": "markdown",
   "id": "1d00e2f2-97ea-4252-ab3e-7faa03ed6e66",
   "metadata": {},
   "source": [
    "## 6"
   ]
  },
  {
   "cell_type": "code",
   "execution_count": null,
   "id": "7b8ec27d-9fbe-4285-914c-d20533b6c100",
   "metadata": {},
   "outputs": [],
   "source": [
    "loss_data=list()"
   ]
  },
  {
   "cell_type": "code",
   "execution_count": null,
   "id": "f2b7c913-cf69-4d95-ace2-43fa8220bad6",
   "metadata": {},
   "outputs": [],
   "source": [
    "optmzr = qtn.optimize.TNOptimizer(\n",
    "    mpo,                                # our initial input, the tensors of which to optimize\n",
    "    loss_fn=overall_loss_function,\n",
    "    loss_kwargs={\n",
    "        'rdm_tn': tnc,\n",
    "        'total_physical_dimension': total_physical_dim,\n",
    "        'unitary_cost_coefficient': 0,\n",
    "        'overlap_cost_coefficient': 1,\n",
    "        'losses': loss_data\n",
    "    },\n",
    "    autodiff_backend='tensorflow',      # {'jax', 'tensorflow', 'autograd'}\n",
    "    optimizer='L-BFGS-B',               # supplied to scipy.minimize\n",
    ")"
   ]
  },
  {
   "cell_type": "code",
   "execution_count": null,
   "id": "31b32622-b9c0-4fbc-8a4b-8c30b9028e29",
   "metadata": {
    "scrolled": true
   },
   "outputs": [],
   "source": [
    "mpo_opt = optmzr.optimize(1000)"
   ]
  },
  {
   "cell_type": "markdown",
   "id": "4af86ecd-dc5d-4069-9ca5-c4de9b2e48cc",
   "metadata": {},
   "source": [
    "# Conclusion\n",
    "It looks like the overlap gradient isn't working...!"
   ]
  },
  {
   "cell_type": "code",
   "execution_count": null,
   "id": "584455dc-fdc1-4be4-a374-e4b9a117df18",
   "metadata": {},
   "outputs": [],
   "source": []
  }
 ],
 "metadata": {
  "kernelspec": {
   "display_name": "num_spt_venv_p11",
   "language": "python",
   "name": "num_spt_venv_p11"
  },
  "language_info": {
   "codemirror_mode": {
    "name": "ipython",
    "version": 3
   },
   "file_extension": ".py",
   "mimetype": "text/x-python",
   "name": "python",
   "nbconvert_exporter": "python",
   "pygments_lexer": "ipython3",
   "version": "3.11.9"
  }
 },
 "nbformat": 4,
 "nbformat_minor": 5
}
