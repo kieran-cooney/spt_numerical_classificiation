{
 "cells": [
  {
   "cell_type": "markdown",
   "id": "78094a57-64b8-45bc-ba70-495ea6f81d71",
   "metadata": {},
   "source": [
    "# Random initialization\n",
    "Created 27/05/2024\n",
    "\n",
    "Objectives:\n",
    "* Try random initialization of MPOs and hyperparameters to improve convergence."
   ]
  },
  {
   "cell_type": "markdown",
   "id": "5e618d3a-fdaf-441f-bc73-3649e01a7b3c",
   "metadata": {},
   "source": [
    "# Package imports"
   ]
  },
  {
   "cell_type": "code",
   "execution_count": 1,
   "id": "ecb41ea3-927f-4efa-aebe-ce15784aa037",
   "metadata": {},
   "outputs": [],
   "source": [
    "import sys"
   ]
  },
  {
   "cell_type": "code",
   "execution_count": 2,
   "id": "0375bd38-12e1-417a-908a-13fb540081f5",
   "metadata": {},
   "outputs": [],
   "source": [
    "sys.path.append(\"../../\")"
   ]
  },
  {
   "cell_type": "code",
   "execution_count": 3,
   "id": "0cf49837-01b6-431a-b570-d7ed25903239",
   "metadata": {},
   "outputs": [],
   "source": [
    "from itertools import chain\n",
    "import re\n",
    "\n",
    "from collections import Counter, namedtuple"
   ]
  },
  {
   "cell_type": "code",
   "execution_count": 4,
   "id": "f59344b7-d34e-47e4-99be-f5a2687f8176",
   "metadata": {},
   "outputs": [],
   "source": [
    "import h5py\n",
    "from tenpy.tools import hdf5_io\n",
    "import tenpy\n",
    "import tenpy.linalg.np_conserved as npc\n",
    "\n",
    "import os"
   ]
  },
  {
   "cell_type": "code",
   "execution_count": 5,
   "id": "19404619-d778-4cc3-8ee1-1db6f14b2043",
   "metadata": {},
   "outputs": [],
   "source": [
    "import numpy as np\n",
    "from jax import numpy as jnp\n",
    "\n",
    "import matplotlib.pyplot as plt\n",
    "\n",
    "import scipy"
   ]
  },
  {
   "cell_type": "code",
   "execution_count": 6,
   "id": "92eeb066-5463-4237-ad07-3c5a0d934f4f",
   "metadata": {},
   "outputs": [
    {
     "name": "stderr",
     "output_type": "stream",
     "text": [
      "/Users/kierancooney/.pyenv/versions/num_spt_venv_p11/lib/python3.11/site-packages/cotengra/hyperoptimizers/hyper.py:54: UserWarning: Couldn't find `optuna`, `cmaes`, or `nevergrad` so will use completely random sampling in place of hyper-optimization.\n",
      "  warnings.warn(\n",
      "/Users/kierancooney/.pyenv/versions/num_spt_venv_p11/lib/python3.11/site-packages/cotengra/hyperoptimizers/hyper.py:36: UserWarning: Couldn't import `kahypar` - skipping from default hyper optimizer and using basic `labels` method instead.\n",
      "  warnings.warn(\n",
      "/Users/kierancooney/.pyenv/versions/num_spt_venv_p11/lib/python3.11/site-packages/cotengra/hyperoptimizers/hyper.py:73: UserWarning: Couldn't find `optuna`, `cmaes`, or `nevergrad` so will use completely random sampling in place of hyper-optimization.\n",
      "  warnings.warn(\n"
     ]
    }
   ],
   "source": [
    "import quimb as qu\n",
    "import quimb.tensor as qtn\n",
    "from quimb.tensor.optimize import TNOptimizer"
   ]
  },
  {
   "cell_type": "markdown",
   "id": "1e7fa07a-a850-4148-bb15-43b2582429cb",
   "metadata": {},
   "source": [
    "# Load data"
   ]
  },
  {
   "cell_type": "code",
   "execution_count": 7,
   "id": "a073ec4a-1d8d-4786-af9f-11e750b1e3a9",
   "metadata": {},
   "outputs": [],
   "source": [
    "DATA_DIR_1 = r\"../../data/interpolated_trivial_to_nontrivial_fermionic_trivial_proj_rep_200_site_dmrg/\"\n",
    "DATA_DIR_2 = r\"../../data/interpolated_nontrivial_fermionic_proj_rep_to_nontrivial_proj_rep_200_site_dmrg/\""
   ]
  },
  {
   "cell_type": "code",
   "execution_count": 8,
   "id": "9fd5bc67-e5e4-4b8f-a5e4-f5120506f1ed",
   "metadata": {},
   "outputs": [],
   "source": [
    "def parse_file_name(file_name):\n",
    "    interpolation = int(file_name.split('_')[0])/100\n",
    "\n",
    "    return interpolation"
   ]
  },
  {
   "cell_type": "code",
   "execution_count": 9,
   "id": "d694f0e0-4ab2-4eea-8f21-7177abc2de50",
   "metadata": {},
   "outputs": [],
   "source": [
    "loaded_data_non_triv_proj_rep = dict()\n",
    "energies_non_triv_proj_rep = dict()\n",
    "\n",
    "for local_file_name in list(os.walk(DATA_DIR_2))[0][2]:\n",
    "    f_name = r\"{}/{}\".format(DATA_DIR_2, local_file_name, ignore_unknown=False)\n",
    "\n",
    "    with h5py.File(f_name, 'r') as f:\n",
    "        data = hdf5_io.load_from_hdf5(f)\n",
    "\n",
    "        data_info = parse_file_name(local_file_name)\n",
    "        loaded_data_non_triv_proj_rep[data_info]=data['wavefunction']\n",
    "        energies_non_triv_proj_rep[data_info]=data['energy']"
   ]
  },
  {
   "cell_type": "code",
   "execution_count": 10,
   "id": "ba498dc9-2751-4168-98fe-4d64f9933c0b",
   "metadata": {},
   "outputs": [],
   "source": [
    "psi = loaded_data_non_triv_proj_rep[0]"
   ]
  },
  {
   "cell_type": "code",
   "execution_count": 11,
   "id": "c6f844ce-e988-4b14-8427-413eff20782e",
   "metadata": {},
   "outputs": [
    {
     "data": {
      "text/plain": [
       "Counter({('vL', 'p', 'vR'): 200})"
      ]
     },
     "execution_count": 11,
     "metadata": {},
     "output_type": "execute_result"
    }
   ],
   "source": [
    "Counter(\n",
    "    tuple(psi.get_B(i).get_leg_labels())\n",
    "    for i in range(psi.L)\n",
    ")"
   ]
  },
  {
   "cell_type": "code",
   "execution_count": 12,
   "id": "58108129-d506-4791-8b0e-8e13e795170f",
   "metadata": {},
   "outputs": [],
   "source": [
    "psi_arrays = list()\n",
    "psi_arrays.append(psi.get_B(0, 'Th')[0, ...].to_ndarray())\n",
    "for i in range(1, psi.L-1):\n",
    "    psi_arrays.append(psi.get_B(i).to_ndarray())\n",
    "psi_arrays.append(psi.get_B(psi.L-1)[..., 0].to_ndarray())"
   ]
  },
  {
   "cell_type": "code",
   "execution_count": 13,
   "id": "b56eb9f6-49bc-496d-b833-6eea17110e16",
   "metadata": {},
   "outputs": [],
   "source": [
    "q1 = (\n",
    "    qtn\n",
    "    .tensor_1d\n",
    "    .MatrixProductState(\n",
    "        psi_arrays,\n",
    "        shape='lpr'\n",
    "    )\n",
    ")"
   ]
  },
  {
   "cell_type": "markdown",
   "id": "3269e554-4543-4e55-8a03-68083f819521",
   "metadata": {},
   "source": [
    "# Definitions"
   ]
  },
  {
   "cell_type": "markdown",
   "id": "906a7920-67da-4c96-aba0-4cd6b49e1815",
   "metadata": {},
   "source": [
    "## Define tensor network to contract against"
   ]
  },
  {
   "cell_type": "code",
   "execution_count": 14,
   "id": "528c5820-09ec-4fc0-81cf-deedb9ad3a00",
   "metadata": {},
   "outputs": [],
   "source": [
    "np_10 = np.array([\n",
    "    [0, 0, 1, 0],\n",
    "    [0, 0, 0, 1],\n",
    "    [1, 0, 0, 0],\n",
    "    [0, 1, 0, 0]\n",
    "])"
   ]
  },
  {
   "cell_type": "code",
   "execution_count": 15,
   "id": "56791c81-2163-42bc-bb13-df25663f0bca",
   "metadata": {},
   "outputs": [],
   "source": [
    "q2 = q1.copy(deep=True)\n",
    "\n",
    "symmetry_sites = list(range(60, 60+80, 2))\n",
    "for i in symmetry_sites:\n",
    "\n",
    "    q2.gate(\n",
    "        np_10,\n",
    "        where=i,\n",
    "        contract=False,\n",
    "        inplace=True\n",
    "    )"
   ]
  },
  {
   "cell_type": "code",
   "execution_count": 16,
   "id": "dd7d4af7-0809-4736-927f-b79047df62fe",
   "metadata": {},
   "outputs": [],
   "source": [
    "def generate_problem_rdm(quimb_psi, symmetry_site_pairs, leftmost_symmetry_site,\n",
    "                         num_symmetry_sites, num_boundary_sites):\n",
    "    q_top = quimb_psi.copy(deep=True)\n",
    "    for i, s in symmetry_site_pairs:\n",
    "        q_top.gate(\n",
    "            s,\n",
    "            where=i,\n",
    "            contract=False,\n",
    "            inplace=True\n",
    "        )\n",
    "\n",
    "    \n",
    "    indices_to_map = list(chain(\n",
    "        range(leftmost_symmetry_site-num_boundary_sites, leftmost_symmetry_site),\n",
    "        range(leftmost_symmetry_site+num_symmetry_sites, leftmost_symmetry_site+num_symmetry_sites+num_boundary_sites)\n",
    "    ))\n",
    "\n",
    "    index_mapping = {f'k{i}': f'b{i}' for i in indices_to_map}\n",
    "\n",
    "    q_bottom = quimb_psi.copy()\n",
    "    q_bottom.reindex(index_mapping, inplace=True)\n",
    "\n",
    "    sites_to_contract = {\n",
    "        'left': list(range(leftmost_symmetry_site-num_boundary_sites)),\n",
    "        'middle': list(range(leftmost_symmetry_site, leftmost_symmetry_site+num_symmetry_sites)),\n",
    "        'right': list(range(leftmost_symmetry_site+num_symmetry_sites+num_boundary_sites, quimb_psi.L))\n",
    "    }\n",
    "\n",
    "    tags_to_contract = {\n",
    "        k: [f'I{i}' for i in v]\n",
    "        for k, v in sites_to_contract.items()\n",
    "    }\n",
    "\n",
    "    tn = (q_top & q_bottom)\n",
    "\n",
    "    tnc = (\n",
    "        tn\n",
    "        .contract(tags_to_contract['left'])\n",
    "        .contract(tags_to_contract['middle'])\n",
    "        .contract(tags_to_contract['right'])\n",
    "    )\n",
    "\n",
    "    return tnc"
   ]
  },
  {
   "cell_type": "code",
   "execution_count": 17,
   "id": "3e16538d-e007-4040-a9c0-9848e18070c3",
   "metadata": {},
   "outputs": [],
   "source": [
    "symmetry_site_pairs = [\n",
    "    (i, np_10) for i in range(60, 60+80, 2)\n",
    "]\n",
    "\n",
    "problem_rdm = generate_problem_rdm(\n",
    "    q1,\n",
    "    symmetry_site_pairs,\n",
    "    60,\n",
    "    80,\n",
    "    6\n",
    ")"
   ]
  },
  {
   "cell_type": "code",
   "execution_count": 18,
   "id": "a823f0ad-1a30-44a0-86cd-847662f32a05",
   "metadata": {},
   "outputs": [
    {
     "data": {
      "image/png": "[encoded data removed]",
      "text/plain": [
       "<Figure size 600x600 with 1 Axes>"
      ]
     },
     "metadata": {
      "needs_background": "light"
     },
     "output_type": "display_data"
    }
   ],
   "source": [
    "problem_rdm.draw()"
   ]
  },
  {
   "cell_type": "markdown",
   "id": "892fe32c-35e1-4e45-af39-49155a061a43",
   "metadata": {},
   "source": [
    "## Initialize mpo functions"
   ]
  },
  {
   "cell_type": "code",
   "execution_count": 19,
   "id": "424eb697-9c38-4555-b8dd-31eb60661150",
   "metadata": {},
   "outputs": [],
   "source": [
    "num_boundary_sites=6\n",
    "left_most_symmetry_site=60\n",
    "num_symmetry_sites=80\n",
    "bond_dimension=6"
   ]
  },
  {
   "cell_type": "code",
   "execution_count": 183,
   "id": "a3cf6f9f-d63e-4e7b-9da7-121acd75777d",
   "metadata": {},
   "outputs": [],
   "source": [
    "def initialize_mpo(left_most_symmetry_site, num_symmetry_sites,\n",
    "                   num_boundary_sites, bond_dimension, phys_dim=[4,2]):\n",
    "    # Kind of hard coding the physical dimensions.\n",
    "    ml = qtn.MPO_rand(\n",
    "        num_boundary_sites,\n",
    "        bond_dimension,\n",
    "        phys_dim=phys_dim,\n",
    "        normalize=True,\n",
    "        sites=list(range(left_most_symmetry_site-num_boundary_sites, left_most_symmetry_site)),\n",
    "        dtype=np.complex128,\n",
    "        tags='left_mpo'\n",
    "    )\n",
    "\n",
    "    mr = qtn.MPO_rand(\n",
    "        num_boundary_sites,\n",
    "        bond_dimension,\n",
    "        phys_dim=phys_dim,\n",
    "        normalize=True,\n",
    "        sites=list(range(\n",
    "            left_most_symmetry_site + num_symmetry_sites,\n",
    "            left_most_symmetry_site + num_symmetry_sites + num_boundary_sites\n",
    "        )),\n",
    "        dtype=np.complex128,\n",
    "        tags='right_mpo'\n",
    "    )\n",
    "\n",
    "    mpo = (ml & mr)\n",
    "\n",
    "    return mpo"
   ]
  },
  {
   "cell_type": "markdown",
   "id": "65b5e95a-a350-4d69-84a5-5ff22669bdac",
   "metadata": {},
   "source": [
    "## Optimisation functions"
   ]
  },
  {
   "cell_type": "code",
   "execution_count": 21,
   "id": "c5ca716e-66ef-481e-a225-d15053d39617",
   "metadata": {},
   "outputs": [],
   "source": [
    "def split_mpo_pair(mpo_pair):\n",
    "    ml = qtn.TensorNetwork(\n",
    "        list(map(mpo_pair.tensor_map.__getitem__, mpo.tag_map['left_mpo']))\n",
    "    )\n",
    "\n",
    "    mr = qtn.TensorNetwork(\n",
    "        list(map(mpo_pair.tensor_map.__getitem__, mpo.tag_map['right_mpo']))\n",
    "    )\n",
    "\n",
    "    return (ml, mr)"
   ]
  },
  {
   "cell_type": "code",
   "execution_count": 22,
   "id": "f269522f-a6b8-429b-b16f-f15aedcf8207",
   "metadata": {},
   "outputs": [],
   "source": [
    "def overlap_loss_function(ml, mr, rdm_tn, epsilon=1e-8):\n",
    "    c = (rdm_tn & ml & mr) ^ ...\n",
    "\n",
    "    c_abs_squared = (\n",
    "        c\n",
    "        *jnp.conjugate(c)\n",
    "    )\n",
    "    #c_abs_squared = c_abs_squared.astype('float32')\n",
    "    c_abs = (jnp.sqrt(c_abs_squared+epsilon))\n",
    "\n",
    "    target = jnp.sqrt(1+epsilon)\n",
    "    loss = (c_abs - target)**2\n",
    "\n",
    "    return loss"
   ]
  },
  {
   "cell_type": "code",
   "execution_count": 23,
   "id": "96744cd0-b93d-4d5c-8c7d-8bbda8e26529",
   "metadata": {},
   "outputs": [],
   "source": [
    "def overlap_loss_function_mpo_pair(mpo_pair, rdm_tn):\n",
    "    ml, mr = split_mpo_pair(mpo_pair)\n",
    "\n",
    "    return overlap_loss_function(ml, mr, rdm_tn)"
   ]
  },
  {
   "cell_type": "code",
   "execution_count": 24,
   "id": "83d3af9b-1864-4cb4-87a7-2a8a3cdbd19b",
   "metadata": {},
   "outputs": [],
   "source": [
    "total_physical_dim = 2**9"
   ]
  },
  {
   "cell_type": "code",
   "execution_count": 25,
   "id": "7d1fdb46-b68c-468f-824e-53f17adcb3af",
   "metadata": {},
   "outputs": [],
   "source": [
    "regex_s = r\"^I\\d+$\"\n",
    "regex_p = re.compile(regex_s)"
   ]
  },
  {
   "cell_type": "code",
   "execution_count": 26,
   "id": "e037d3d4-f377-4c7c-ba24-9d9453b5ff20",
   "metadata": {},
   "outputs": [],
   "source": [
    "def relabel_mpo(mpo, k_label, b_label):\n",
    "    site_locs = [\n",
    "        int(k[1:]) for k in mpo.tag_map\n",
    "        if bool(re.search(regex_p, k))\n",
    "    ]\n",
    "\n",
    "    k_in_indices = [f'k{i}' for i in site_locs]\n",
    "    j_in_indices = [f'b{i}' for i in site_locs]\n",
    "\n",
    "    k_out_indices = [f'{k_label}{i}' for i in site_locs]\n",
    "    j_out_indices = [f'{b_label}{i}' for i in site_locs]\n",
    "\n",
    "    mapping = dict(\n",
    "        chain(\n",
    "            zip(k_in_indices, k_out_indices),\n",
    "            zip(j_in_indices, j_out_indices)\n",
    "        )\n",
    "    )\n",
    "\n",
    "    mpo.reindex(mapping, inplace=True)"
   ]
  },
  {
   "cell_type": "code",
   "execution_count": 27,
   "id": "7f90938e-4acf-475d-8c65-0ffcdbae3248",
   "metadata": {},
   "outputs": [],
   "source": [
    "def unitarity_tn(tn, total_physical_dim):\n",
    "    ms = [tn.copy(), tn.copy(), tn.copy()]\n",
    "\n",
    "    relabel_mpo(ms[0], 'k', 'l')\n",
    "    relabel_mpo(ms[1], 'm', 'l')\n",
    "    relabel_mpo(ms[2], 'm', 'b')\n",
    "\n",
    "    ms[0] = ms[0].conj()\n",
    "    ms[2] = ms[2].conj()\n",
    "\n",
    "    n2tn = (tn & tn.conj())\n",
    "    n2 = n2tn.contract(n2tn.tag_map)\n",
    "    n4tn = (tn & ms[0] & ms[1] & ms[2])\n",
    "    n4 = n4tn.contract(n4tn.tag_map)\n",
    "\n",
    "    out = jnp.real(n4 - 2*n2 + total_physical_dim)\n",
    "\n",
    "    return out"
   ]
  },
  {
   "cell_type": "code",
   "execution_count": 28,
   "id": "1d43c151-36f6-42cc-8597-515e506821cd",
   "metadata": {},
   "outputs": [],
   "source": [
    "def overall_loss_function(mpo_pair, rdm_tn, total_physical_dimension,\n",
    "    unitary_cost_coefficient=1, overlap_cost_coefficient=1, losses=None):\n",
    "    ml, mr = split_mpo_pair(mpo_pair)\n",
    "\n",
    "    o_loss = overlap_loss_function(ml, mr, rdm_tn)\n",
    "    ul_loss = jnp.sqrt(1 + unitarity_tn(ml, total_physical_dimension)) - 1\n",
    "    ur_loss = jnp.sqrt(1 + unitarity_tn(mr, total_physical_dimension)) - 1\n",
    "\n",
    "    out = (\n",
    "        unitary_cost_coefficient*(ul_loss+ur_loss)\n",
    "        + overlap_cost_coefficient*o_loss\n",
    "    )\n",
    "\n",
    "    out = jnp.real(out)\n",
    "\n",
    "    if losses is not None:\n",
    "        losses.append((o_loss, ul_loss, ur_loss))\n",
    "    return out"
   ]
  },
  {
   "cell_type": "markdown",
   "id": "227e0a85-a24b-448b-91f1-753e13b6a6bc",
   "metadata": {},
   "source": [
    "# Runs\n",
    "## 1"
   ]
  },
  {
   "cell_type": "code",
   "execution_count": 38,
   "id": "38a1a949-66a8-4a0b-9fbc-bcf713d8ce0d",
   "metadata": {},
   "outputs": [],
   "source": [
    "total_physical_dim = 2**9"
   ]
  },
  {
   "cell_type": "code",
   "execution_count": 48,
   "id": "482fae29-dbbe-4399-ae38-a73329966aaa",
   "metadata": {},
   "outputs": [],
   "source": [
    "num_iterations = int(1e4) \n",
    "num_seeds = 10\n",
    "\n",
    "hyperparameter_dists_dict = {\n",
    "    'alpha': scipy.stats.loguniform(1e-4, 1e-2),\n",
    "    'beta_1': scipy.stats.uniform(0.1, 0.5),\n",
    "    'beta_2': scipy.stats.uniform(0.1, 0.5),\n",
    "    'bond_dimension': scipy.stats.randint(4, 9),\n",
    "    'overlap_learning_rate': scipy.stats.randint(1, 500)\n",
    "}"
   ]
  },
  {
   "cell_type": "code",
   "execution_count": 49,
   "id": "c11a9f99-94f9-40f8-bf0d-d827c025ec89",
   "metadata": {},
   "outputs": [],
   "source": [
    "HyperParams = namedtuple('HyperParams', hyperparameter_dists_dict)"
   ]
  },
  {
   "cell_type": "code",
   "execution_count": 61,
   "id": "1a26751c-7d58-4ca7-a41a-179027812fdd",
   "metadata": {},
   "outputs": [
    {
     "name": "stderr",
     "output_type": "stream",
     "text": [
      "  0%|                                                                                                                                                                             | 0/10000 [00:00<?, ?it/s]/Users/kierancooney/.pyenv/versions/num_spt_venv_p11/lib/python3.11/site-packages/quimb/tensor/optimize.py:135: UserWarning: dtype mismatch between input parameter and updated values. This can occur e.g. with jax and double precision arrays (in which case consider setting `jax.config.update(\"jax_enable_x64\", True)` at startup or using single precision parameters directly). For now casting from complex64 to complex128.\n",
      "  warnings.warn(\n",
      "+23.943763732910 [best: +23.593446731567] : : 10001it [00:31, 320.68it/s]                                                                                                                                   \n",
      "+103.656440734863 [best: +103.065574645996] : : 10001it [00:45, 221.60it/s]                                                                                                                                 \n",
      "+128.991943359375 [best: +128.976974487305] : : 10001it [00:32, 311.61it/s]                                                                                                                                 \n",
      "+134.978866577148 [best: +134.975463867188] : : 10001it [00:57, 172.81it/s]                                                                                                                                 \n",
      "+455.981231689453 [best: +455.914611816406] : : 10001it [00:25, 392.32it/s]                                                                                                                                 \n",
      "+378.275970458984 [best: +378.243927001953] : : 10001it [00:20, 481.93it/s]                                                                                                                                 \n",
      "+437.246398925781 [best: +436.823028564453] : : 10001it [00:46, 217.21it/s]                                                                                                                                 \n",
      "+182.996597290039 [best: +181.750686645508] : : 10001it [01:02, 160.21it/s]                                                                                                                                 \n",
      "+177.978729248047 [best: +177.978408813477] : : 10001it [00:25, 398.51it/s]                                                                                                                                 \n",
      "+270.051544189453 [best: +269.956481933594] : : 10001it [00:44, 226.30it/s]                                                                                                                                 \n"
     ]
    }
   ],
   "source": [
    "optimizers = dict()\n",
    "\n",
    "for _ in range(num_seeds):\n",
    "    hyperparams ={k: v.rvs() for k, v in hyperparameter_dists_dict.items()}\n",
    "\n",
    "    mpo = initialize_mpo(\n",
    "        left_most_symmetry_site,\n",
    "        num_symmetry_sites,\n",
    "        num_boundary_sites,\n",
    "        hyperparams['bond_dimension']\n",
    "    )\n",
    "\n",
    "    optmzr = qtn.optimize.TNOptimizer(\n",
    "        mpo,                                # our initial input, the tensors of which to optimize\n",
    "        loss_fn=overall_loss_function,\n",
    "        loss_kwargs={\n",
    "            'rdm_tn': problem_rdm,\n",
    "            'total_physical_dimension': total_physical_dim,\n",
    "            'unitary_cost_coefficient': 1,\n",
    "            'overlap_cost_coefficient': hyperparams['overlap_learning_rate']\n",
    "        },\n",
    "        autodiff_backend='jax',      # {'jax', 'tensorflow', 'autograd'}\n",
    "        optimizer='adam',               # supplied to scipy.minimize\n",
    "    )\n",
    "\n",
    "    optmzr.optimize(\n",
    "        num_iterations,\n",
    "        learning_rate=hyperparams['alpha'],\n",
    "        beta1=hyperparams['beta_1'],\n",
    "        beta2=hyperparams['beta_2']\n",
    "    )\n",
    "\n",
    "    optimizers[HyperParams(**hyperparams)] = optmzr"
   ]
  },
  {
   "cell_type": "code",
   "execution_count": 63,
   "id": "10e82f3a-77dc-4913-b955-c49543dd51dc",
   "metadata": {},
   "outputs": [
    {
     "data": {
      "text/plain": [
       "{HyperParams(alpha=0.004409390845252186, beta_1=0.1299432168101656, beta_2=0.3860962851491586, bond_dimension=5, overlap_learning_rate=19): <TNOptimizer(d=4400, backend=jax)>,\n",
       " HyperParams(alpha=0.001776906098655119, beta_1=0.4512421805424689, beta_2=0.19152908871261606, bond_dimension=6, overlap_learning_rate=103): <TNOptimizer(d=6240, backend=jax)>,\n",
       " HyperParams(alpha=0.00028439677703003674, beta_1=0.29818465227395774, beta_2=0.352768355590086, bond_dimension=5, overlap_learning_rate=129): <TNOptimizer(d=4400, backend=jax)>,\n",
       " HyperParams(alpha=0.00023957358195357174, beta_1=0.49861498918785074, beta_2=0.40535083030013885, bond_dimension=7, overlap_learning_rate=135): <TNOptimizer(d=8400, backend=jax)>,\n",
       " HyperParams(alpha=0.0013529195769182913, beta_1=0.36217845276271987, beta_2=0.2040280893751997, bond_dimension=4, overlap_learning_rate=456): <TNOptimizer(d=2880, backend=jax)>,\n",
       " HyperParams(alpha=0.0009214300425262437, beta_1=0.4559158179775161, beta_2=0.11089258696431539, bond_dimension=4, overlap_learning_rate=378): <TNOptimizer(d=2880, backend=jax)>,\n",
       " HyperParams(alpha=0.001733096645606284, beta_1=0.3406641230432542, beta_2=0.16213433351868187, bond_dimension=7, overlap_learning_rate=436): <TNOptimizer(d=8400, backend=jax)>,\n",
       " HyperParams(alpha=0.0034973100078833376, beta_1=0.3771477457937057, beta_2=0.5258291421319875, bond_dimension=8, overlap_learning_rate=181): <TNOptimizer(d=10880, backend=jax)>,\n",
       " HyperParams(alpha=0.00012795339546628514, beta_1=0.13425493365243477, beta_2=0.21914759469608305, bond_dimension=4, overlap_learning_rate=178): <TNOptimizer(d=2880, backend=jax)>,\n",
       " HyperParams(alpha=0.0006472373349469024, beta_1=0.584395512341602, beta_2=0.23006382042765103, bond_dimension=6, overlap_learning_rate=270): <TNOptimizer(d=6240, backend=jax)>}"
      ]
     },
     "execution_count": 63,
     "metadata": {},
     "output_type": "execute_result"
    }
   ],
   "source": [
    "optimizers"
   ]
  },
  {
   "cell_type": "code",
   "execution_count": 64,
   "id": "8fa83f18-227c-4a29-9da5-966c47a590d4",
   "metadata": {},
   "outputs": [],
   "source": [
    "optimizer_list = [\n",
    "    (k, v) for k, v in optimizers.items()\n",
    "]"
   ]
  },
  {
   "cell_type": "code",
   "execution_count": 65,
   "id": "f400fa02-7df1-47ca-b639-8c8be433aa13",
   "metadata": {},
   "outputs": [
    {
     "data": {
      "image/png": "[encoded data removed]",
      "text/plain": [
       "<Figure size 800x348.22 with 4 Axes>"
      ]
     },
     "metadata": {
      "needs_background": "light"
     },
     "output_type": "display_data"
    },
    {
     "data": {
      "text/plain": [
       "(<Figure size 800x348.22 with 4 Axes>,\n",
       " array([[<Axes: >, <Axes: >],\n",
       "        [<Axes: xlabel='Iteration (full)'>,\n",
       "         <Axes: xlabel='Iteration (zoom)'>]], dtype=object))"
      ]
     },
     "execution_count": 65,
     "metadata": {},
     "output_type": "execute_result"
    }
   ],
   "source": [
    "optimizer_list[0][1].plot()"
   ]
  },
  {
   "cell_type": "code",
   "execution_count": 66,
   "id": "613a8c55-8d63-4d1b-8d45-6c1be73f49e1",
   "metadata": {},
   "outputs": [
    {
     "data": {
      "text/plain": [
       "HyperParams(alpha=0.004409390845252186, beta_1=0.1299432168101656, beta_2=0.3860962851491586, bond_dimension=5, overlap_learning_rate=19)"
      ]
     },
     "execution_count": 66,
     "metadata": {},
     "output_type": "execute_result"
    }
   ],
   "source": [
    "optimizer_list[0][0]"
   ]
  },
  {
   "cell_type": "code",
   "execution_count": 69,
   "id": "df50364b-eb74-452a-897d-7ec7545cb6c4",
   "metadata": {},
   "outputs": [],
   "source": [
    "mpo_opt = optimizer_list[0][1].get_tn_opt()\n",
    "ml, mr = split_mpo_pair(mpo_opt)"
   ]
  },
  {
   "cell_type": "code",
   "execution_count": 70,
   "id": "8976ea9f-b848-433d-b4f7-7509a0b1dc9f",
   "metadata": {},
   "outputs": [
    {
     "data": {
      "text/plain": [
       "(Array(0.99979997-0.j, dtype=complex64),\n",
       " Array(16.952332, dtype=float32, weak_type=True),\n",
       " Array(6.3425293, dtype=float32, weak_type=True))"
      ]
     },
     "execution_count": 70,
     "metadata": {},
     "output_type": "execute_result"
    }
   ],
   "source": [
    "(\n",
    "    overlap_loss_function(ml, mr, problem_rdm),\n",
    "    unitarity_tn(ml, total_physical_dim),\n",
    "    unitarity_tn(mr, total_physical_dim),\n",
    ")"
   ]
  },
  {
   "cell_type": "markdown",
   "id": "2e21a050-34cc-4b5c-82fb-7e4d8aec034b",
   "metadata": {},
   "source": [
    "Calculate for each:"
   ]
  },
  {
   "cell_type": "code",
   "execution_count": 71,
   "id": "94cdba9d-a77e-4d4c-b5e2-e619a3436b32",
   "metadata": {},
   "outputs": [],
   "source": [
    "final_scores = list()\n",
    "\n",
    "for h, o in optimizer_list:\n",
    "    mpo_opt = o.get_tn_opt()\n",
    "    ml, mr = split_mpo_pair(mpo_opt)\n",
    "\n",
    "    out = (\n",
    "        overlap_loss_function(ml, mr, problem_rdm),\n",
    "        unitarity_tn(ml, total_physical_dim),\n",
    "        unitarity_tn(mr, total_physical_dim),\n",
    "    )\n",
    "\n",
    "    final_scores.append(out)"
   ]
  },
  {
   "cell_type": "code",
   "execution_count": 72,
   "id": "62696a90-018b-401f-8fbb-bf8c9c31c0ed",
   "metadata": {},
   "outputs": [
    {
     "data": {
      "text/plain": [
       "[(Array(0.99979997-0.j, dtype=complex64),\n",
       "  Array(16.952332, dtype=float32, weak_type=True),\n",
       "  Array(6.3425293, dtype=float32, weak_type=True)),\n",
       " (Array(0.99979997-0.j, dtype=complex64),\n",
       "  Array(0.85601807, dtype=float32, weak_type=True),\n",
       "  Array(0.72869873, dtype=float32, weak_type=True)),\n",
       " (Array(0.99979997-0.j, dtype=complex64),\n",
       "  Array(0.03210449, dtype=float32, weak_type=True),\n",
       "  Array(0.00311279, dtype=float32, weak_type=True)),\n",
       " (Array(0.99979997-0.j, dtype=complex64),\n",
       "  Array(0.00604248, dtype=float32, weak_type=True),\n",
       "  Array(0.00543213, dtype=float32, weak_type=True)),\n",
       " (Array(0.99979997-0.j, dtype=complex64),\n",
       "  Array(0.08416748, dtype=float32, weak_type=True),\n",
       "  Array(0.06332397, dtype=float32, weak_type=True)),\n",
       " (Array(0.99979997-0.j, dtype=complex64),\n",
       "  Array(0.70202637, dtype=float32, weak_type=True),\n",
       "  Array(0.09597778, dtype=float32, weak_type=True)),\n",
       " (Array(0.99979997-0.j, dtype=complex64),\n",
       "  Array(1.6287842, dtype=float32, weak_type=True),\n",
       "  Array(1.9307861, dtype=float32, weak_type=True)),\n",
       " (Array(0.99979997-0.j, dtype=complex64),\n",
       "  Array(4.597473, dtype=float32, weak_type=True),\n",
       "  Array(1.7788086, dtype=float32, weak_type=True)),\n",
       " (Array(0.99979997-0.j, dtype=complex64),\n",
       "  Array(0.01403809, dtype=float32, weak_type=True),\n",
       "  Array(0.01446533, dtype=float32, weak_type=True)),\n",
       " (Array(0.99979997-0.j, dtype=complex64),\n",
       "  Array(0.07434082, dtype=float32, weak_type=True),\n",
       "  Array(0.14260864, dtype=float32, weak_type=True))]"
      ]
     },
     "execution_count": 72,
     "metadata": {},
     "output_type": "execute_result"
    }
   ],
   "source": [
    "final_scores"
   ]
  },
  {
   "cell_type": "code",
   "execution_count": 73,
   "id": "c9d92bb8-8dee-4e57-b1b4-1f20c465a7b0",
   "metadata": {},
   "outputs": [
    {
     "data": {
      "text/plain": [
       "Array(0.99979997, dtype=float32, weak_type=True)"
      ]
     },
     "execution_count": 73,
     "metadata": {},
     "output_type": "execute_result"
    }
   ],
   "source": [
    "x = 1e-8\n",
    "(jnp.sqrt(1+x)-jnp.sqrt(x))**2"
   ]
  },
  {
   "cell_type": "markdown",
   "id": "36f8051f-995d-42e1-b726-92832eccd0a6",
   "metadata": {},
   "source": [
    "So overlaps are all vanishing..."
   ]
  },
  {
   "cell_type": "markdown",
   "id": "280fdcea-1270-4cec-bd32-5bea10337f90",
   "metadata": {},
   "source": [
    "## 2"
   ]
  },
  {
   "cell_type": "code",
   "execution_count": 75,
   "id": "ed186fd3-9443-4aed-9fe9-1ca6633d840b",
   "metadata": {},
   "outputs": [],
   "source": [
    "def overlap_loss_function(ml, mr, rdm_tn, epsilon=1e-12):\n",
    "    c = (rdm_tn & ml & mr) ^ ...\n",
    "\n",
    "    c_abs_squared = (\n",
    "        c\n",
    "        *jnp.conjugate(c)\n",
    "    )\n",
    "    #c_abs_squared = c_abs_squared.astype('float32')\n",
    "    c_abs = (jnp.sqrt(c_abs_squared+epsilon))\n",
    "\n",
    "    target = jnp.sqrt(1+epsilon)\n",
    "    loss = (c_abs - target)**2\n",
    "\n",
    "    return loss"
   ]
  },
  {
   "cell_type": "code",
   "execution_count": 77,
   "id": "9c0709e2-db35-4a83-9dcf-82208e14fca1",
   "metadata": {},
   "outputs": [],
   "source": [
    "num_iterations = int(1e4) \n",
    "num_seeds = 5\n",
    "\n",
    "hyperparameter_dists_dict = {\n",
    "    'alpha': scipy.stats.loguniform(1e-4, 1e-2),\n",
    "    'beta_1': scipy.stats.uniform(0.1, 0.5),\n",
    "    'beta_2': scipy.stats.uniform(0.1, 0.5),\n",
    "    'bond_dimension': scipy.stats.randint(4, 8),\n",
    "    'overlap_learning_rate': scipy.stats.randint(100, 500)\n",
    "}"
   ]
  },
  {
   "cell_type": "code",
   "execution_count": 78,
   "id": "713a8fc7-6ce6-4de5-8e3c-654f7e2b40c4",
   "metadata": {},
   "outputs": [],
   "source": [
    "HyperParams = namedtuple('HyperParams', hyperparameter_dists_dict)"
   ]
  },
  {
   "cell_type": "code",
   "execution_count": 79,
   "id": "48d02760-ebe0-4153-9453-77f8eef408f4",
   "metadata": {},
   "outputs": [
    {
     "name": "stderr",
     "output_type": "stream",
     "text": [
      "  0%|                                                                                                                                                                             | 0/10000 [00:00<?, ?it/s]/Users/kierancooney/.pyenv/versions/num_spt_venv_p11/lib/python3.11/site-packages/quimb/tensor/optimize.py:135: UserWarning: dtype mismatch between input parameter and updated values. This can occur e.g. with jax and double precision arrays (in which case consider setting `jax.config.update(\"jax_enable_x64\", True)` at startup or using single precision parameters directly). For now casting from complex64 to complex128.\n",
      "  warnings.warn(\n",
      "+344.432891845703 [best: +341.532470703125] : : 10001it [00:51, 192.91it/s]                                                                                                                                 \n",
      "+496.426635742188 [best: +496.003692626953] : : 10001it [00:24, 408.90it/s]                                                                                                                                 \n",
      "+401.013061523438 [best: +401.010620117188] : : 10001it [00:29, 340.93it/s]                                                                                                                                 \n",
      "+429.002075195312 [best: +429.001251220703] : : 10001it [00:24, 404.18it/s]                                                                                                                                 \n",
      "+340.028045654297 [best: +340.002441406250] : : 10001it [00:25, 399.85it/s]                                                                                                                                 \n"
     ]
    }
   ],
   "source": [
    "optimizers = dict()\n",
    "\n",
    "for _ in range(num_seeds):\n",
    "    hyperparams ={k: v.rvs() for k, v in hyperparameter_dists_dict.items()}\n",
    "\n",
    "    mpo = initialize_mpo(\n",
    "        left_most_symmetry_site,\n",
    "        num_symmetry_sites,\n",
    "        num_boundary_sites,\n",
    "        hyperparams['bond_dimension']\n",
    "    )\n",
    "\n",
    "    optmzr = qtn.optimize.TNOptimizer(\n",
    "        mpo,                                # our initial input, the tensors of which to optimize\n",
    "        loss_fn=overall_loss_function,\n",
    "        loss_kwargs={\n",
    "            'rdm_tn': problem_rdm,\n",
    "            'total_physical_dimension': total_physical_dim,\n",
    "            'unitary_cost_coefficient': 1,\n",
    "            'overlap_cost_coefficient': hyperparams['overlap_learning_rate']\n",
    "        },\n",
    "        autodiff_backend='jax',      # {'jax', 'tensorflow', 'autograd'}\n",
    "        optimizer='adam',               # supplied to scipy.minimize\n",
    "    )\n",
    "\n",
    "    optmzr.optimize(\n",
    "        num_iterations,\n",
    "        learning_rate=hyperparams['alpha'],\n",
    "        beta1=hyperparams['beta_1'],\n",
    "        beta2=hyperparams['beta_2']\n",
    "    )\n",
    "\n",
    "    optimizers[HyperParams(**hyperparams)] = optmzr"
   ]
  },
  {
   "cell_type": "code",
   "execution_count": 80,
   "id": "f1ce0750-e610-4870-a747-6cc86faae36c",
   "metadata": {},
   "outputs": [
    {
     "data": {
      "text/plain": [
       "{HyperParams(alpha=0.004403897437446899, beta_1=0.4782895704421597, beta_2=0.16211894338523639, bond_dimension=7, overlap_learning_rate=341): <TNOptimizer(d=8400, backend=jax)>,\n",
       " HyperParams(alpha=0.0011919668254443798, beta_1=0.3952625979596015, beta_2=0.5076223044498013, bond_dimension=4, overlap_learning_rate=496): <TNOptimizer(d=2880, backend=jax)>,\n",
       " HyperParams(alpha=0.0010191903626257275, beta_1=0.453477846217464, beta_2=0.3025259116748835, bond_dimension=5, overlap_learning_rate=401): <TNOptimizer(d=4400, backend=jax)>,\n",
       " HyperParams(alpha=0.00012615093940193003, beta_1=0.32067092080766857, beta_2=0.5858304377702416, bond_dimension=4, overlap_learning_rate=429): <TNOptimizer(d=2880, backend=jax)>,\n",
       " HyperParams(alpha=0.0002823601255244988, beta_1=0.27049137476345664, beta_2=0.4280331904076281, bond_dimension=4, overlap_learning_rate=340): <TNOptimizer(d=2880, backend=jax)>}"
      ]
     },
     "execution_count": 80,
     "metadata": {},
     "output_type": "execute_result"
    }
   ],
   "source": [
    "optimizers"
   ]
  },
  {
   "cell_type": "code",
   "execution_count": 81,
   "id": "8dafb383-b77e-4fd7-8543-6ca60d85a0c7",
   "metadata": {},
   "outputs": [],
   "source": [
    "optimizer_list = [\n",
    "    (k, v) for k, v in optimizers.items()\n",
    "]"
   ]
  },
  {
   "cell_type": "code",
   "execution_count": 82,
   "id": "20bdec1b-eafd-43ff-9bb3-c3d5554d5fa9",
   "metadata": {},
   "outputs": [
    {
     "data": {
      "image/png": "[encoded data removed]",
      "text/plain": [
       "<Figure size 800x348.22 with 4 Axes>"
      ]
     },
     "metadata": {
      "needs_background": "light"
     },
     "output_type": "display_data"
    },
    {
     "data": {
      "text/plain": [
       "(<Figure size 800x348.22 with 4 Axes>,\n",
       " array([[<Axes: >, <Axes: >],\n",
       "        [<Axes: xlabel='Iteration (full)'>,\n",
       "         <Axes: xlabel='Iteration (zoom)'>]], dtype=object))"
      ]
     },
     "execution_count": 82,
     "metadata": {},
     "output_type": "execute_result"
    }
   ],
   "source": [
    "optimizer_list[0][1].plot()"
   ]
  },
  {
   "cell_type": "code",
   "execution_count": 83,
   "id": "7b532bff-33e6-446b-89ab-1ead7f52875f",
   "metadata": {},
   "outputs": [
    {
     "data": {
      "text/plain": [
       "HyperParams(alpha=0.004403897437446899, beta_1=0.4782895704421597, beta_2=0.16211894338523639, bond_dimension=7, overlap_learning_rate=341)"
      ]
     },
     "execution_count": 83,
     "metadata": {},
     "output_type": "execute_result"
    }
   ],
   "source": [
    "optimizer_list[0][0]"
   ]
  },
  {
   "cell_type": "code",
   "execution_count": 84,
   "id": "0796c355-4d4b-47f0-a67a-9783d3575e04",
   "metadata": {},
   "outputs": [],
   "source": [
    "final_scores = list()\n",
    "\n",
    "for h, o in optimizer_list:\n",
    "    mpo_opt = o.get_tn_opt()\n",
    "    ml, mr = split_mpo_pair(mpo_opt)\n",
    "\n",
    "    out = (\n",
    "        overlap_loss_function(ml, mr, problem_rdm),\n",
    "        unitarity_tn(ml, total_physical_dim),\n",
    "        unitarity_tn(mr, total_physical_dim),\n",
    "    )\n",
    "\n",
    "    final_scores.append(out)"
   ]
  },
  {
   "cell_type": "code",
   "execution_count": 85,
   "id": "526f6eff-d8b5-4f99-b0fb-4c400779f323",
   "metadata": {},
   "outputs": [
    {
     "data": {
      "text/plain": [
       "[(Array(0.999998-0.j, dtype=complex64),\n",
       "  Array(13.617737, dtype=float32, weak_type=True),\n",
       "  Array(1.5941162, dtype=float32, weak_type=True)),\n",
       " (Array(0.999998-0.j, dtype=complex64),\n",
       "  Array(0.22296143, dtype=float32, weak_type=True),\n",
       "  Array(0.7467041, dtype=float32, weak_type=True)),\n",
       " (Array(0.999998-0.j, dtype=complex64),\n",
       "  Array(0.01312256, dtype=float32, weak_type=True),\n",
       "  Array(0.0145874, dtype=float32, weak_type=True)),\n",
       " (Array(0.999998-0.j, dtype=complex64),\n",
       "  Array(0.00372314, dtype=float32, weak_type=True),\n",
       "  Array(0.00195312, dtype=float32, weak_type=True)),\n",
       " (Array(0.999998-0.j, dtype=complex64),\n",
       "  Array(0.04589844, dtype=float32, weak_type=True),\n",
       "  Array(0.01245117, dtype=float32, weak_type=True))]"
      ]
     },
     "execution_count": 85,
     "metadata": {},
     "output_type": "execute_result"
    }
   ],
   "source": [
    "final_scores"
   ]
  },
  {
   "cell_type": "markdown",
   "id": "d0303b2e-06f9-46c6-a283-b19584a25f36",
   "metadata": {},
   "source": [
    "## 3\n",
    "Try with just overlaps, there's something weird happening..."
   ]
  },
  {
   "cell_type": "code",
   "execution_count": 86,
   "id": "3cb94bd1-d766-4b74-a39c-9153cc95e769",
   "metadata": {},
   "outputs": [],
   "source": [
    "def overlap_loss_function(ml, mr, rdm_tn, epsilon=1e-12):\n",
    "    c = (rdm_tn & ml & mr) ^ ...\n",
    "\n",
    "    c_abs_squared = (\n",
    "        c\n",
    "        *jnp.conjugate(c)\n",
    "    )\n",
    "    #c_abs_squared = c_abs_squared.astype('float32')\n",
    "    c_abs = (jnp.sqrt(c_abs_squared+epsilon))\n",
    "\n",
    "    target = jnp.sqrt(1+epsilon)\n",
    "    loss = (c_abs - target)**2\n",
    "\n",
    "    return loss"
   ]
  },
  {
   "cell_type": "code",
   "execution_count": 87,
   "id": "b6a5198e-8d15-41ae-ad23-634f8e66704f",
   "metadata": {},
   "outputs": [],
   "source": [
    "num_iterations = int(1e4) \n",
    "num_seeds = 5\n",
    "\n",
    "hyperparameter_dists_dict = {\n",
    "    'alpha': scipy.stats.loguniform(1e-4, 1e-2),\n",
    "    'beta_1': scipy.stats.uniform(0.1, 0.5),\n",
    "    'beta_2': scipy.stats.uniform(0.1, 0.5),\n",
    "    'bond_dimension': scipy.stats.randint(4, 8),\n",
    "    'overlap_learning_rate': scipy.stats.randint(100, 500)\n",
    "}"
   ]
  },
  {
   "cell_type": "code",
   "execution_count": 88,
   "id": "7c4a9743-51d0-4146-9fcb-0e90b1e42744",
   "metadata": {},
   "outputs": [],
   "source": [
    "HyperParams = namedtuple('HyperParams', hyperparameter_dists_dict)"
   ]
  },
  {
   "cell_type": "code",
   "execution_count": 89,
   "id": "d2a1a384-cbdb-4244-940c-3a7eba7040d8",
   "metadata": {},
   "outputs": [
    {
     "name": "stderr",
     "output_type": "stream",
     "text": [
      "  0%|                                                                                                                                                                             | 0/10000 [00:00<?, ?it/s]/Users/kierancooney/.pyenv/versions/num_spt_venv_p11/lib/python3.11/site-packages/quimb/tensor/optimize.py:135: UserWarning: dtype mismatch between input parameter and updated values. This can occur e.g. with jax and double precision arrays (in which case consider setting `jax.config.update(\"jax_enable_x64\", True)` at startup or using single precision parameters directly). For now casting from complex64 to complex128.\n",
      "  warnings.warn(\n",
      "+349.999298095703 [best: +349.999298095703] :   0%|                                                                                                                     | 1/10000 [00:01<4:32:34,  1.64s/it]\n",
      "+228.999542236328 [best: +228.999542236328] :   0%|                                                                                                                     | 1/10000 [00:01<3:15:42,  1.17s/it]\n",
      "+116.999763488770 [best: +116.999763488770] :   0%|                                                                                                                     | 1/10000 [00:01<2:51:23,  1.03s/it]\n",
      "+254.999481201172 [best: +254.999481201172] :   0%|                                                                                                                     | 1/10000 [00:02<5:35:14,  2.01s/it]\n",
      "+224.999542236328 [best: +224.999542236328] :   0%|                                                                                                                     | 1/10000 [00:01<3:26:55,  1.24s/it]\n"
     ]
    }
   ],
   "source": [
    "optimizers = dict()\n",
    "\n",
    "for _ in range(num_seeds):\n",
    "    hyperparams ={k: v.rvs() for k, v in hyperparameter_dists_dict.items()}\n",
    "\n",
    "    mpo = initialize_mpo(\n",
    "        left_most_symmetry_site,\n",
    "        num_symmetry_sites,\n",
    "        num_boundary_sites,\n",
    "        hyperparams['bond_dimension']\n",
    "    )\n",
    "\n",
    "    optmzr = qtn.optimize.TNOptimizer(\n",
    "        mpo,                                # our initial input, the tensors of which to optimize\n",
    "        loss_fn=overall_loss_function,\n",
    "        loss_kwargs={\n",
    "            'rdm_tn': problem_rdm,\n",
    "            'total_physical_dimension': total_physical_dim,\n",
    "            'unitary_cost_coefficient': 0,\n",
    "            'overlap_cost_coefficient': hyperparams['overlap_learning_rate']\n",
    "        },\n",
    "        autodiff_backend='jax',      # {'jax', 'tensorflow', 'autograd'}\n",
    "        optimizer='adam',               # supplied to scipy.minimize\n",
    "    )\n",
    "\n",
    "    optmzr.optimize(\n",
    "        num_iterations,\n",
    "        learning_rate=hyperparams['alpha'],\n",
    "        beta1=hyperparams['beta_1'],\n",
    "        beta2=hyperparams['beta_2']\n",
    "    )\n",
    "\n",
    "    optimizers[HyperParams(**hyperparams)] = optmzr"
   ]
  },
  {
   "cell_type": "code",
   "execution_count": 90,
   "id": "8857f707-c6a5-4b43-a8ea-cb12ced10934",
   "metadata": {},
   "outputs": [
    {
     "data": {
      "text/plain": [
       "{HyperParams(alpha=0.00011070820209401891, beta_1=0.33391562586083523, beta_2=0.5137357793053281, bond_dimension=6, overlap_learning_rate=350): <TNOptimizer(d=6240, backend=jax)>,\n",
       " HyperParams(alpha=0.000442102982090293, beta_1=0.31718853690311755, beta_2=0.35911074680668253, bond_dimension=7, overlap_learning_rate=229): <TNOptimizer(d=8400, backend=jax)>,\n",
       " HyperParams(alpha=0.00047057030919815933, beta_1=0.1642098250909185, beta_2=0.34854868823306917, bond_dimension=5, overlap_learning_rate=117): <TNOptimizer(d=4400, backend=jax)>,\n",
       " HyperParams(alpha=0.0019026598377458852, beta_1=0.1177822767156462, beta_2=0.4161044004697708, bond_dimension=6, overlap_learning_rate=255): <TNOptimizer(d=6240, backend=jax)>,\n",
       " HyperParams(alpha=0.00012385261782772792, beta_1=0.3019353054769133, beta_2=0.12818859875487468, bond_dimension=7, overlap_learning_rate=225): <TNOptimizer(d=8400, backend=jax)>}"
      ]
     },
     "execution_count": 90,
     "metadata": {},
     "output_type": "execute_result"
    }
   ],
   "source": [
    "optimizers"
   ]
  },
  {
   "cell_type": "code",
   "execution_count": 91,
   "id": "c4a03054-ee40-4fb2-8c77-d2335ac6d6f7",
   "metadata": {},
   "outputs": [],
   "source": [
    "optimizer_list = [\n",
    "    (k, v) for k, v in optimizers.items()\n",
    "]"
   ]
  },
  {
   "cell_type": "code",
   "execution_count": 93,
   "id": "3d9c4e3f-3fc8-4cae-85f3-3a5ff7fe2056",
   "metadata": {},
   "outputs": [
    {
     "data": {
      "text/plain": [
       "HyperParams(alpha=0.00011070820209401891, beta_1=0.33391562586083523, beta_2=0.5137357793053281, bond_dimension=6, overlap_learning_rate=350)"
      ]
     },
     "execution_count": 93,
     "metadata": {},
     "output_type": "execute_result"
    }
   ],
   "source": [
    "optimizer_list[0][0]"
   ]
  },
  {
   "cell_type": "code",
   "execution_count": 94,
   "id": "121488bb-73d0-4579-a753-ef1d812506a2",
   "metadata": {},
   "outputs": [],
   "source": [
    "final_scores = list()\n",
    "\n",
    "for h, o in optimizer_list:\n",
    "    mpo_opt = o.get_tn_opt()\n",
    "    ml, mr = split_mpo_pair(mpo_opt)\n",
    "\n",
    "    out = (\n",
    "        overlap_loss_function(ml, mr, problem_rdm),\n",
    "        unitarity_tn(ml, total_physical_dim),\n",
    "        unitarity_tn(mr, total_physical_dim),\n",
    "    )\n",
    "\n",
    "    final_scores.append(out)"
   ]
  },
  {
   "cell_type": "code",
   "execution_count": 95,
   "id": "4bd959ed-1d58-439b-ade2-02252281b649",
   "metadata": {},
   "outputs": [
    {
     "data": {
      "text/plain": [
       "[(Array(0.999998-0.j, dtype=complex64),\n",
       "  Array(510.00674, dtype=float32, weak_type=True),\n",
       "  Array(510.0076, dtype=float32, weak_type=True)),\n",
       " (Array(0.999998-0.j, dtype=complex64),\n",
       "  Array(510.0067, dtype=float32, weak_type=True),\n",
       "  Array(510.00742, dtype=float32, weak_type=True)),\n",
       " (Array(0.999998-0.j, dtype=complex64),\n",
       "  Array(510.01022, dtype=float32, weak_type=True),\n",
       "  Array(510.0098, dtype=float32, weak_type=True)),\n",
       " (Array(0.999998-0.j, dtype=complex64),\n",
       "  Array(510.00766, dtype=float32, weak_type=True),\n",
       "  Array(510.00763, dtype=float32, weak_type=True)),\n",
       " (Array(0.999998-0.j, dtype=complex64),\n",
       "  Array(510.0066, dtype=float32, weak_type=True),\n",
       "  Array(510.00708, dtype=float32, weak_type=True))]"
      ]
     },
     "execution_count": 95,
     "metadata": {},
     "output_type": "execute_result"
    }
   ],
   "source": [
    "final_scores"
   ]
  },
  {
   "cell_type": "markdown",
   "id": "8fd1aeac-bbe9-4403-8194-77a304990a0b",
   "metadata": {},
   "source": [
    "## 4 - rms prop"
   ]
  },
  {
   "cell_type": "code",
   "execution_count": 97,
   "id": "c68651f3-d458-4c42-b6cb-ca4ce8251579",
   "metadata": {},
   "outputs": [],
   "source": [
    "def overlap_loss_function(ml, mr, rdm_tn, epsilon=1e-12):\n",
    "    c = (rdm_tn & ml & mr) ^ ...\n",
    "\n",
    "    c_abs_squared = (\n",
    "        c\n",
    "        *jnp.conjugate(c)\n",
    "    )\n",
    "    #c_abs_squared = c_abs_squared.astype('float32')\n",
    "    c_abs = (jnp.sqrt(c_abs_squared+epsilon))\n",
    "\n",
    "    target = jnp.sqrt(1+epsilon)\n",
    "    loss = (c_abs - target)**2\n",
    "\n",
    "    return loss"
   ]
  },
  {
   "cell_type": "code",
   "execution_count": 99,
   "id": "391e3288-c1b7-46c4-8d41-1378d807b515",
   "metadata": {},
   "outputs": [],
   "source": [
    "num_iterations = int(1e4) \n",
    "num_seeds = 5\n",
    "bond_dimension=5"
   ]
  },
  {
   "cell_type": "code",
   "execution_count": 100,
   "id": "738028d5-a7ec-4218-91e8-accd5a2ba97e",
   "metadata": {},
   "outputs": [
    {
     "name": "stderr",
     "output_type": "stream",
     "text": [
      "  0%|                                                                                                                                                                             | 0/10000 [00:00<?, ?it/s]/Users/kierancooney/.pyenv/versions/num_spt_venv_p11/lib/python3.11/site-packages/quimb/tensor/optimize.py:135: UserWarning: dtype mismatch between input parameter and updated values. This can occur e.g. with jax and double precision arrays (in which case consider setting `jax.config.update(\"jax_enable_x64\", True)` at startup or using single precision parameters directly). For now casting from complex64 to complex128.\n",
      "  warnings.warn(\n",
      "+0.999997973442 [best: +0.999997973442] :   0%|                                                                                                                         | 1/10000 [00:01<3:34:07,  1.28s/it]\n",
      "+0.999997973442 [best: +0.999997973442] :   0%|                                                                                                                         | 1/10000 [00:01<3:22:15,  1.21s/it]\n",
      "+0.999997973442 [best: +0.999997973442] :   0%|                                                                                                                         | 1/10000 [00:01<3:27:12,  1.24s/it]\n",
      "+0.999997973442 [best: +0.999997973442] :   0%|                                                                                                                         | 1/10000 [00:01<3:35:43,  1.29s/it]\n",
      "+0.999997973442 [best: +0.999997973442] :   0%|                                                                                                                         | 1/10000 [00:01<2:47:35,  1.01s/it]\n"
     ]
    }
   ],
   "source": [
    "optimizers = list()\n",
    "\n",
    "for _ in range(num_seeds):\n",
    "\n",
    "    mpo = initialize_mpo(\n",
    "        left_most_symmetry_site,\n",
    "        num_symmetry_sites,\n",
    "        num_boundary_sites,\n",
    "        bond_dimension\n",
    "    )\n",
    "\n",
    "    optmzr = qtn.optimize.TNOptimizer(\n",
    "        mpo,                                # our initial input, the tensors of which to optimize\n",
    "        loss_fn=overall_loss_function,\n",
    "        loss_kwargs={\n",
    "            'rdm_tn': problem_rdm,\n",
    "            'total_physical_dimension': total_physical_dim,\n",
    "            'unitary_cost_coefficient': 0,\n",
    "            'overlap_cost_coefficient': 1\n",
    "        },\n",
    "        autodiff_backend='jax',      # {'jax', 'tensorflow', 'autograd'}\n",
    "        optimizer='rmsprop',               # supplied to scipy.minimize\n",
    "    )\n",
    "\n",
    "    optmzr.optimize(\n",
    "        num_iterations,\n",
    "        #learning_rate=hyperparams['alpha'],\n",
    "        #beta1=hyperparams['beta_1'],\n",
    "        #beta2=hyperparams['beta_2']\n",
    "    )\n",
    "\n",
    "    optimizers.append(optmzr)"
   ]
  },
  {
   "cell_type": "code",
   "execution_count": 101,
   "id": "a3700ec5-30a3-4503-8228-60346c2f0daf",
   "metadata": {},
   "outputs": [
    {
     "data": {
      "text/plain": [
       "[<TNOptimizer(d=4400, backend=jax)>,\n",
       " <TNOptimizer(d=4400, backend=jax)>,\n",
       " <TNOptimizer(d=4400, backend=jax)>,\n",
       " <TNOptimizer(d=4400, backend=jax)>,\n",
       " <TNOptimizer(d=4400, backend=jax)>]"
      ]
     },
     "execution_count": 101,
     "metadata": {},
     "output_type": "execute_result"
    }
   ],
   "source": [
    "optimizers"
   ]
  },
  {
   "cell_type": "code",
   "execution_count": 103,
   "id": "f53994ce-8596-4729-9ad5-413d8fce19eb",
   "metadata": {},
   "outputs": [],
   "source": [
    "final_scores = list()\n",
    "\n",
    "for o in optimizers:\n",
    "    mpo_opt = o.get_tn_opt()\n",
    "    ml, mr = split_mpo_pair(mpo_opt)\n",
    "\n",
    "    out = (\n",
    "        overlap_loss_function(ml, mr, problem_rdm),\n",
    "        unitarity_tn(ml, total_physical_dim),\n",
    "        unitarity_tn(mr, total_physical_dim),\n",
    "    )\n",
    "\n",
    "    final_scores.append(out)"
   ]
  },
  {
   "cell_type": "code",
   "execution_count": 104,
   "id": "3bbbdb43-f6b6-4b16-83c5-b63d9c7b09a9",
   "metadata": {},
   "outputs": [
    {
     "data": {
      "text/plain": [
       "[(Array(0.999998-0.j, dtype=complex64),\n",
       "  Array(510.00925, dtype=float32, weak_type=True),\n",
       "  Array(510.00864, dtype=float32, weak_type=True)),\n",
       " (Array(0.999998-0.j, dtype=complex64),\n",
       "  Array(510.00885, dtype=float32, weak_type=True),\n",
       "  Array(510.0087, dtype=float32, weak_type=True)),\n",
       " (Array(0.999998-0.j, dtype=complex64),\n",
       "  Array(510.00803, dtype=float32, weak_type=True),\n",
       "  Array(510.00854, dtype=float32, weak_type=True)),\n",
       " (Array(0.999998-0.j, dtype=complex64),\n",
       "  Array(510.0079, dtype=float32, weak_type=True),\n",
       "  Array(510.0076, dtype=float32, weak_type=True)),\n",
       " (Array(0.999998-0.j, dtype=complex64),\n",
       "  Array(510.01215, dtype=float32, weak_type=True),\n",
       "  Array(510.00854, dtype=float32, weak_type=True))]"
      ]
     },
     "execution_count": 104,
     "metadata": {},
     "output_type": "execute_result"
    }
   ],
   "source": [
    "final_scores"
   ]
  },
  {
   "cell_type": "markdown",
   "id": "66311a91-e0cd-431d-b417-1499b7a93553",
   "metadata": {},
   "source": [
    "## 5 - bosonic case"
   ]
  },
  {
   "cell_type": "code",
   "execution_count": 60,
   "id": "ae7069a0-0346-4fa4-b847-2b7f2b9143e8",
   "metadata": {},
   "outputs": [],
   "source": [
    "DATA_DIR_B = r\"../../data/transverse_cluster_200_site_dmrg\""
   ]
  },
  {
   "cell_type": "code",
   "execution_count": 61,
   "id": "1c472b73-d978-4db6-909b-740d7f6a9fe4",
   "metadata": {},
   "outputs": [],
   "source": [
    "loaded_data_b = list()\n",
    "\n",
    "for local_file_name in os.listdir(DATA_DIR_B):\n",
    "    f_name = r\"{}/{}\".format(DATA_DIR_B, local_file_name, ignore_unknown=False)\n",
    "    with h5py.File(f_name, 'r') as f:\n",
    "        data = hdf5_io.load_from_hdf5(f)\n",
    "        loaded_data_b.append(data)"
   ]
  },
  {
   "cell_type": "code",
   "execution_count": 62,
   "id": "8b4b4671-99f2-4e68-8a39-3dacdfcb1702",
   "metadata": {},
   "outputs": [],
   "source": [
    "b_parameters = sorted(list(d['paramters']['B'] for d in loaded_data_b))"
   ]
  },
  {
   "cell_type": "code",
   "execution_count": 63,
   "id": "4f37f5b8-a72b-43ba-b6d9-d181b0be5bde",
   "metadata": {},
   "outputs": [],
   "source": [
    "psi_dict_b = dict()"
   ]
  },
  {
   "cell_type": "code",
   "execution_count": 64,
   "id": "d24fabbe-732c-4c0f-b601-24ef5e3c8ba7",
   "metadata": {},
   "outputs": [],
   "source": [
    "for b in b_parameters:\n",
    "    psi = next(\n",
    "        d['wavefunction']\n",
    "        for d in loaded_data_b\n",
    "        if d['paramters']['B'] == b\n",
    "    )\n",
    "\n",
    "    rounded_b = round(b, 1)\n",
    "    psi_dict_b[rounded_b] = psi"
   ]
  },
  {
   "cell_type": "code",
   "execution_count": 65,
   "id": "c155ec49-105c-47ab-ad37-efa2d4e8b021",
   "metadata": {},
   "outputs": [],
   "source": [
    "psi_b = psi_dict_b[0]"
   ]
  },
  {
   "cell_type": "code",
   "execution_count": 66,
   "id": "cc79873c-3802-4bd3-96c9-493c39c09f28",
   "metadata": {},
   "outputs": [
    {
     "data": {
      "text/plain": [
       "Counter({('vL', 'p', 'vR'): 200})"
      ]
     },
     "execution_count": 66,
     "metadata": {},
     "output_type": "execute_result"
    }
   ],
   "source": [
    "Counter(\n",
    "    tuple(psi.get_B(i).get_leg_labels())\n",
    "    for i in range(psi.L)\n",
    ")"
   ]
  },
  {
   "cell_type": "code",
   "execution_count": 67,
   "id": "75144161-7fb7-46ad-94f1-21088ba0c8e0",
   "metadata": {},
   "outputs": [],
   "source": [
    "psi_arrays_b = list()\n",
    "psi_arrays_b.append(psi_b.get_B(0, 'Th')[0, ...].to_ndarray())\n",
    "for i in range(1, psi_b.L-1):\n",
    "    psi_arrays_b.append(psi_b.get_B(i).to_ndarray())\n",
    "psi_arrays_b.append(psi_b.get_B(psi.L-1)[..., 0].to_ndarray())"
   ]
  },
  {
   "cell_type": "code",
   "execution_count": 68,
   "id": "3fcd2456-85e0-478c-acbb-51c21fba6061",
   "metadata": {},
   "outputs": [],
   "source": [
    "np_X = np.array([[0,1],[1,0]])"
   ]
  },
  {
   "cell_type": "code",
   "execution_count": 69,
   "id": "5fd21b22-cf1c-42c3-9d41-3d4bcec0eb3d",
   "metadata": {},
   "outputs": [],
   "source": [
    "q_b = (\n",
    "    qtn\n",
    "    .tensor_1d\n",
    "    .MatrixProductState(\n",
    "        psi_arrays_b,\n",
    "        shape='lpr'\n",
    "    )\n",
    ")"
   ]
  },
  {
   "cell_type": "code",
   "execution_count": 70,
   "id": "41344d9a-5482-495c-9f24-91d25aed7a4d",
   "metadata": {
    "scrolled": true
   },
   "outputs": [
    {
     "data": {
      "text/html": [
       "<samp style='font-size: 12px;'><details><summary><b style=\"color: #d75692;\">MatrixProductState</b>(tensors=200, indices=399, L=200, max_bond=2)</summary><samp style='font-size: 12px;'><details><summary><b style=\"color: #e55471;\">Tensor</b>(shape=(<b style=\"color: #45ce3d;\">1</b>, <b style=\"color: #828fdd;\">2</b>), inds=[<b style=\"color: #7ed06a;\">_6eb2c2AAAak</b>, <b style=\"color: #b1dc61;\">k0</b>], tags={<b style=\"color: #d2b137;\">I0</b>}),</summary>backend=<b style=\"color: #7fdd73;\">numpy</b>, dtype=<b style=\"color: #75d2c6;\">float64</b>, data=array([[1., 0.]])</details></samp><samp style='font-size: 12px;'><details><summary><b style=\"color: #e55471;\">Tensor</b>(shape=(<b style=\"color: #45ce3d;\">1</b>, <b style=\"color: #828fdd;\">2</b>, <b style=\"color: #828fdd;\">2</b>), inds=[<b style=\"color: #7ed06a;\">_6eb2c2AAAak</b>, <b style=\"color: #39d96a;\">_6eb2c2AAAal</b>, <b style=\"color: #8aa5db;\">k1</b>], tags={<b style=\"color: #d19b78;\">I1</b>}),</summary>backend=<b style=\"color: #7fdd73;\">numpy</b>, dtype=<b style=\"color: #75d2c6;\">float64</b>, data=array([[[-0.41963887,  0.56912496],\n",
       "        [ 0.56912496,  0.41963887]]])</details></samp><samp style='font-size: 12px;'><details><summary><b style=\"color: #e55471;\">Tensor</b>(shape=(<b style=\"color: #828fdd;\">2</b>, <b style=\"color: #828fdd;\">2</b>, <b style=\"color: #828fdd;\">2</b>), inds=[<b style=\"color: #39d96a;\">_6eb2c2AAAal</b>, <b style=\"color: #9d90dd;\">_6eb2c2AAAam</b>, <b style=\"color: #df546d;\">k2</b>], tags={<b style=\"color: #dd5dd7;\">I2</b>}),</summary>backend=<b style=\"color: #7fdd73;\">numpy</b>, dtype=<b style=\"color: #75d2c6;\">float64</b>, data=array([[[ 0.02979097,  0.96892993],\n",
       "        [ 0.14648751, -0.19704999]],\n",
       "\n",
       "       [[ 0.19704999, -0.14648751],\n",
       "        [ 0.96892993,  0.02979097]]])</details></samp><samp style='font-size: 12px;'><details><summary><b style=\"color: #e55471;\">Tensor</b>(shape=(<b style=\"color: #828fdd;\">2</b>, <b style=\"color: #828fdd;\">2</b>, <b style=\"color: #828fdd;\">2</b>), inds=[<b style=\"color: #9d90dd;\">_6eb2c2AAAam</b>, <b style=\"color: #cea12a;\">_6eb2c2AAAan</b>, <b style=\"color: #4c7be1;\">k3</b>], tags={<b style=\"color: #dd65d9;\">I3</b>}),</summary>backend=<b style=\"color: #7fdd73;\">numpy</b>, dtype=<b style=\"color: #75d2c6;\">float64</b>, data=array([[[-0.02684149, -0.83285512],\n",
       "        [-0.55135098,  0.040546  ]],\n",
       "\n",
       "       [[ 0.040546  , -0.55135098],\n",
       "        [ 0.83285512,  0.02684149]]])</details></samp><samp style='font-size: 12px;'><details><summary><b style=\"color: #e55471;\">Tensor</b>(shape=(<b style=\"color: #828fdd;\">2</b>, <b style=\"color: #828fdd;\">2</b>, <b style=\"color: #828fdd;\">2</b>), inds=[<b style=\"color: #cea12a;\">_6eb2c2AAAan</b>, <b style=\"color: #8998d5;\">_6eb2c2AAAao</b>, <b style=\"color: #462edc;\">k4</b>], tags={<b style=\"color: #998ad1;\">I4</b>}),</summary>backend=<b style=\"color: #7fdd73;\">numpy</b>, dtype=<b style=\"color: #75d2c6;\">float64</b>, data=array([[[ 0.47509577, -0.52372131],\n",
       "        [-0.47509577, -0.52372131]],\n",
       "\n",
       "       [[-0.52372131, -0.47509577],\n",
       "        [ 0.52372131, -0.47509577]]])</details></samp><samp style='font-size: 12px;'><details><summary><b style=\"color: #e55471;\">Tensor</b>(shape=(<b style=\"color: #828fdd;\">2</b>, <b style=\"color: #828fdd;\">2</b>, <b style=\"color: #828fdd;\">2</b>), inds=[<b style=\"color: #8998d5;\">_6eb2c2AAAao</b>, <b style=\"color: #cf82a1;\">_6eb2c2AAAap</b>, <b style=\"color: #85dfdf;\">k5</b>], tags={<b style=\"color: #97dddc;\">I5</b>}),</summary>backend=<b style=\"color: #7fdd73;\">numpy</b>, dtype=<b style=\"color: #75d2c6;\">float64</b>, data=array([[[-1.71325629e-01,  4.67887553e-14],\n",
       "        [ 9.85214458e-01,  9.06728395e-15]],\n",
       "\n",
       "       [[ 8.75229261e-16, -9.85214458e-01],\n",
       "        [ 4.85177264e-14, -1.71325629e-01]]])</details></samp><samp style='font-size: 12px;'><details><summary><b style=\"color: #e55471;\">Tensor</b>(shape=(<b style=\"color: #828fdd;\">2</b>, <b style=\"color: #828fdd;\">2</b>, <b style=\"color: #828fdd;\">2</b>), inds=[<b style=\"color: #cf82a1;\">_6eb2c2AAAap</b>, <b style=\"color: #54d988;\">_6eb2c2AAAaq</b>, <b style=\"color: #2cb7d3;\">k6</b>], tags={<b style=\"color: #b2de5f;\">I6</b>}),</summary>backend=<b style=\"color: #7fdd73;\">numpy</b>, dtype=<b style=\"color: #75d2c6;\">float64</b>, data=array([[[ 0.11329914,  0.80179294],\n",
       "        [-0.56424358,  0.16099865]],\n",
       "\n",
       "       [[ 0.16099865, -0.56424358],\n",
       "        [-0.80179294, -0.11329914]]])</details></samp><samp style='font-size: 12px;'><details><summary><b style=\"color: #e55471;\">Tensor</b>(shape=(<b style=\"color: #828fdd;\">2</b>, <b style=\"color: #828fdd;\">2</b>, <b style=\"color: #828fdd;\">2</b>), inds=[<b style=\"color: #54d988;\">_6eb2c2AAAaq</b>, <b style=\"color: #92df43;\">_6eb2c2AAAar</b>, <b style=\"color: #53e08f;\">k7</b>], tags={<b style=\"color: #5582d6;\">I7</b>}),</summary>backend=<b style=\"color: #7fdd73;\">numpy</b>, dtype=<b style=\"color: #75d2c6;\">float64</b>, data=array([[[-0.5496976 ,  0.10427642],\n",
       "        [-0.06940208, -0.82591908]],\n",
       "\n",
       "       [[-0.82591908, -0.06940208],\n",
       "        [-0.10427642,  0.5496976 ]]])</details></samp><samp style='font-size: 12px;'><details><summary><b style=\"color: #e55471;\">Tensor</b>(shape=(<b style=\"color: #828fdd;\">2</b>, <b style=\"color: #828fdd;\">2</b>, <b style=\"color: #828fdd;\">2</b>), inds=[<b style=\"color: #92df43;\">_6eb2c2AAAar</b>, <b style=\"color: #7dd7bc;\">_6eb2c2AAAas</b>, <b style=\"color: #7bcd9f;\">k8</b>], tags={<b style=\"color: #8a3dd8;\">I8</b>}),</summary>backend=<b style=\"color: #7fdd73;\">numpy</b>, dtype=<b style=\"color: #75d2c6;\">float64</b>, data=array([[[ 0.55869224,  0.43343163],\n",
       "        [ 0.55869224, -0.43343163]],\n",
       "\n",
       "       [[-0.43343163,  0.55869224],\n",
       "        [-0.43343163, -0.55869224]]])</details></samp><samp style='font-size: 12px;'><details><summary><b style=\"color: #e55471;\">Tensor</b>(shape=(<b style=\"color: #828fdd;\">2</b>, <b style=\"color: #828fdd;\">2</b>, <b style=\"color: #828fdd;\">2</b>), inds=[<b style=\"color: #7dd7bc;\">_6eb2c2AAAas</b>, <b style=\"color: #8757e3;\">_6eb2c2AAAat</b>, <b style=\"color: #cc70c1;\">k9</b>], tags={<b style=\"color: #d74979;\">I9</b>}),</summary>backend=<b style=\"color: #7fdd73;\">numpy</b>, dtype=<b style=\"color: #75d2c6;\">float64</b>, data=array([[[-6.74967584e-02,  2.95255887e-13],\n",
       "        [ 9.97719493e-01,  1.60394758e-14]],\n",
       "\n",
       "       [[-5.59639926e-16,  9.97719493e-01],\n",
       "        [-2.96378834e-13,  6.74967584e-02]]])</details></samp><samp style='font-size: 12px;'><details><summary><b style=\"color: #e55471;\">Tensor</b>(shape=(<b style=\"color: #828fdd;\">2</b>, <b style=\"color: #828fdd;\">2</b>, <b style=\"color: #828fdd;\">2</b>), inds=[<b style=\"color: #8757e3;\">_6eb2c2AAAat</b>, <b style=\"color: #6abecd;\">_6eb2c2AAAau</b>, <b style=\"color: #3fcf58;\">k10</b>], tags={<b style=\"color: #4e2bd3;\">I10</b>}),</summary>backend=<b style=\"color: #7fdd73;\">numpy</b>, dtype=<b style=\"color: #75d2c6;\">float64</b>, data=array([[[-0.61513427,  0.2667588 ],\n",
       "        [ 0.23295279,  0.70440228]],\n",
       "\n",
       "       [[-0.70440228, -0.23295279],\n",
       "        [ 0.2667588 , -0.61513427]]])</details></samp><samp style='font-size: 12px;'><details><summary><b style=\"color: #e55471;\">Tensor</b>(shape=(<b style=\"color: #828fdd;\">2</b>, <b style=\"color: #828fdd;\">2</b>, <b style=\"color: #828fdd;\">2</b>), inds=[<b style=\"color: #6abecd;\">_6eb2c2AAAau</b>, <b style=\"color: #d07e84;\">_6eb2c2AAAav</b>, <b style=\"color: #6d6fcf;\">k11</b>], tags={<b style=\"color: #cc3988;\">I11</b>}),</summary>backend=<b style=\"color: #7fdd73;\">numpy</b>, dtype=<b style=\"color: #75d2c6;\">float64</b>, data=array([[[ 0.01756734,  0.41077314],\n",
       "        [-0.91153395,  0.00791654]],\n",
       "\n",
       "       [[ 0.00791654, -0.91153395],\n",
       "        [-0.41077314, -0.01756734]]])</details></samp><samp style='font-size: 12px;'><details><summary><b style=\"color: #e55471;\">Tensor</b>(shape=(<b style=\"color: #828fdd;\">2</b>, <b style=\"color: #828fdd;\">2</b>, <b style=\"color: #828fdd;\">2</b>), inds=[<b style=\"color: #d07e84;\">_6eb2c2AAAav</b>, <b style=\"color: #b153d5;\">_6eb2c2AAAaw</b>, <b style=\"color: #70c0d6;\">k12</b>], tags={<b style=\"color: #30a0d2;\">I12</b>}),</summary>backend=<b style=\"color: #7fdd73;\">numpy</b>, dtype=<b style=\"color: #75d2c6;\">float64</b>, data=array([[[ 0.50954152, -0.49027282],\n",
       "        [ 0.50954152,  0.49027282]],\n",
       "\n",
       "       [[-0.49027282, -0.50954152],\n",
       "        [-0.49027282,  0.50954152]]])</details></samp><samp style='font-size: 12px;'><details><summary><b style=\"color: #e55471;\">Tensor</b>(shape=(<b style=\"color: #828fdd;\">2</b>, <b style=\"color: #828fdd;\">2</b>, <b style=\"color: #828fdd;\">2</b>), inds=[<b style=\"color: #b153d5;\">_6eb2c2AAAaw</b>, <b style=\"color: #d1693a;\">_6eb2c2AAAax</b>, <b style=\"color: #67b9df;\">k13</b>], tags={<b style=\"color: #59aad4;\">I13</b>}),</summary>backend=<b style=\"color: #7fdd73;\">numpy</b>, dtype=<b style=\"color: #75d2c6;\">float64</b>, data=array([[[-9.99963981e-01,  1.43565329e-14],\n",
       "        [ 8.48738825e-03, -3.92523115e-16]],\n",
       "\n",
       "       [[-3.02995342e-16,  8.48738825e-03],\n",
       "        [-3.80858281e-15,  9.99963981e-01]]])</details></samp><samp style='font-size: 12px;'><details><summary><b style=\"color: #e55471;\">Tensor</b>(shape=(<b style=\"color: #828fdd;\">2</b>, <b style=\"color: #828fdd;\">2</b>, <b style=\"color: #828fdd;\">2</b>), inds=[<b style=\"color: #d1693a;\">_6eb2c2AAAax</b>, <b style=\"color: #db4dba;\">_6eb2c2AAAay</b>, <b style=\"color: #d58d74;\">k14</b>], tags={<b style=\"color: #e4d13e;\">I14</b>}),</summary>backend=<b style=\"color: #7fdd73;\">numpy</b>, dtype=<b style=\"color: #75d2c6;\">float64</b>, data=array([[[ 0.65249254, -0.2608402 ],\n",
       "        [ 0.2564496 ,  0.66366368]],\n",
       "\n",
       "       [[-0.66366368, -0.2564496 ],\n",
       "        [-0.2608402 ,  0.65249254]]])</details></samp><samp style='font-size: 12px;'><details><summary><b style=\"color: #e55471;\">Tensor</b>(shape=(<b style=\"color: #828fdd;\">2</b>, <b style=\"color: #828fdd;\">2</b>, <b style=\"color: #828fdd;\">2</b>), inds=[<b style=\"color: #db4dba;\">_6eb2c2AAAay</b>, <b style=\"color: #ddb599;\">_6eb2c2AAAaz</b>, <b style=\"color: #ce6937;\">k15</b>], tags={<b style=\"color: #d54955;\">I15</b>}),</summary>backend=<b style=\"color: #7fdd73;\">numpy</b>, dtype=<b style=\"color: #75d2c6;\">float64</b>, data=array([[[-0.00499414, -0.91668437],\n",
       "        [ 0.39941638, -0.01146185]],\n",
       "\n",
       "       [[-0.01146185,  0.39941638],\n",
       "        [ 0.91668437,  0.00499414]]])</details></samp><samp style='font-size: 12px;'><details><summary><b style=\"color: #e55471;\">Tensor</b>(shape=(<b style=\"color: #828fdd;\">2</b>, <b style=\"color: #828fdd;\">2</b>, <b style=\"color: #828fdd;\">2</b>), inds=[<b style=\"color: #ddb599;\">_6eb2c2AAAaz</b>, <b style=\"color: #5dd89d;\">_6eb2c2AAAbA</b>, <b style=\"color: #dc53a2;\">k16</b>], tags={<b style=\"color: #d8af59;\">I16</b>}),</summary>backend=<b style=\"color: #7fdd73;\">numpy</b>, dtype=<b style=\"color: #75d2c6;\">float64</b>, data=array([[[ 0.67933591,  0.22026354],\n",
       "        [-0.22584146,  0.66255742]],\n",
       "\n",
       "       [[-0.66255742,  0.22584146],\n",
       "        [ 0.22026354,  0.67933591]]])</details></samp><samp style='font-size: 12px;'><details><summary><b style=\"color: #e55471;\">Tensor</b>(shape=(<b style=\"color: #828fdd;\">2</b>, <b style=\"color: #828fdd;\">2</b>, <b style=\"color: #828fdd;\">2</b>), inds=[<b style=\"color: #5dd89d;\">_6eb2c2AAAbA</b>, <b style=\"color: #8dbccd;\">_6eb2c2AAAbB</b>, <b style=\"color: #d0b441;\">k17</b>], tags={<b style=\"color: #84a0d7;\">I17</b>}),</summary>backend=<b style=\"color: #7fdd73;\">numpy</b>, dtype=<b style=\"color: #75d2c6;\">float64</b>, data=array([[[-0.43026637, -0.248592  ],\n",
       "        [ 0.12454476, -0.85881399]],\n",
       "\n",
       "       [[ 0.85881399, -0.12454476],\n",
       "        [-0.248592  , -0.43026637]]])</details></samp><samp style='font-size: 12px;'><details><summary><b style=\"color: #e55471;\">Tensor</b>(shape=(<b style=\"color: #828fdd;\">2</b>, <b style=\"color: #828fdd;\">2</b>, <b style=\"color: #828fdd;\">2</b>), inds=[<b style=\"color: #8dbccd;\">_6eb2c2AAAbB</b>, <b style=\"color: #4666ce;\">_6eb2c2AAAbC</b>, <b style=\"color: #da44a5;\">k18</b>], tags={<b style=\"color: #d360b6;\">I18</b>}),</summary>backend=<b style=\"color: #7fdd73;\">numpy</b>, dtype=<b style=\"color: #75d2c6;\">float64</b>, data=array([[[ 0.75674702, -0.24296662],\n",
       "        [ 0.44092592,  0.41699582]],\n",
       "\n",
       "       [[ 0.41699582,  0.44092592],\n",
       "        [ 0.24296662, -0.75674702]]])</details></samp><samp style='font-size: 12px;'><details><summary><b style=\"color: #e55471;\">Tensor</b>(shape=(<b style=\"color: #828fdd;\">2</b>, <b style=\"color: #828fdd;\">2</b>, <b style=\"color: #828fdd;\">2</b>), inds=[<b style=\"color: #4666ce;\">_6eb2c2AAAbC</b>, <b style=\"color: #c385db;\">_6eb2c2AAAbD</b>, <b style=\"color: #48d040;\">k19</b>], tags={<b style=\"color: #90e14b;\">I19</b>}),</summary>backend=<b style=\"color: #7fdd73;\">numpy</b>, dtype=<b style=\"color: #75d2c6;\">float64</b>, data=array([[[-0.06869407, -0.93119412],\n",
       "        [-0.2455518 ,  0.26050519]],\n",
       "\n",
       "       [[-0.26050519,  0.2455518 ],\n",
       "        [-0.93119412, -0.06869407]]])</details></samp><samp style='font-size: 12px;'><details><summary><b style=\"color: #e55471;\">Tensor</b>(shape=(<b style=\"color: #828fdd;\">2</b>, <b style=\"color: #828fdd;\">2</b>, <b style=\"color: #828fdd;\">2</b>), inds=[<b style=\"color: #c385db;\">_6eb2c2AAAbD</b>, <b style=\"color: #8fe2c1;\">_6eb2c2AAAbE</b>, <b style=\"color: #62ccba;\">k20</b>], tags={<b style=\"color: #86cd64;\">I20</b>}),</summary>backend=<b style=\"color: #7fdd73;\">numpy</b>, dtype=<b style=\"color: #75d2c6;\">float64</b>, data=array([[[-0.2313454 ,  0.47286232],\n",
       "        [-0.84019531, -0.1302013 ]],\n",
       "\n",
       "       [[-0.1302013 , -0.84019531],\n",
       "        [-0.47286232,  0.2313454 ]]])</details></samp><samp style='font-size: 12px;'><details><summary><b style=\"color: #e55471;\">Tensor</b>(shape=(<b style=\"color: #828fdd;\">2</b>, <b style=\"color: #828fdd;\">2</b>, <b style=\"color: #828fdd;\">2</b>), inds=[<b style=\"color: #8fe2c1;\">_6eb2c2AAAbE</b>, <b style=\"color: #c8d567;\">_6eb2c2AAAbF</b>, <b style=\"color: #65d8a6;\">k21</b>], tags={<b style=\"color: #d769c1;\">I21</b>}),</summary>backend=<b style=\"color: #7fdd73;\">numpy</b>, dtype=<b style=\"color: #75d2c6;\">float64</b>, data=array([[[-0.01610462, -0.4939369 ],\n",
       "        [-0.86930044,  0.00915065]],\n",
       "\n",
       "       [[-0.00915065,  0.86930044],\n",
       "        [-0.4939369 , -0.01610462]]])</details></samp><samp style='font-size: 12px;'><details><summary><b style=\"color: #e55471;\">Tensor</b>(shape=(<b style=\"color: #828fdd;\">2</b>, <b style=\"color: #828fdd;\">2</b>, <b style=\"color: #828fdd;\">2</b>), inds=[<b style=\"color: #c8d567;\">_6eb2c2AAAbF</b>, <b style=\"color: #73e57b;\">_6eb2c2AAAbG</b>, <b style=\"color: #d73fb7;\">k22</b>], tags={<b style=\"color: #58cd8e;\">I22</b>}),</summary>backend=<b style=\"color: #7fdd73;\">numpy</b>, dtype=<b style=\"color: #75d2c6;\">float64</b>, data=array([[[-0.6934953 , -0.02421939],\n",
       "        [ 0.02333834, -0.71967563]],\n",
       "\n",
       "       [[ 0.71967563, -0.02333834],\n",
       "        [-0.02421939, -0.6934953 ]]])</details></samp><samp style='font-size: 12px;'><details><summary><b style=\"color: #e55471;\">Tensor</b>(shape=(<b style=\"color: #828fdd;\">2</b>, <b style=\"color: #828fdd;\">2</b>, <b style=\"color: #828fdd;\">2</b>), inds=[<b style=\"color: #73e57b;\">_6eb2c2AAAbG</b>, <b style=\"color: #da9392;\">_6eb2c2AAAbH</b>, <b style=\"color: #d3513f;\">k23</b>], tags={<b style=\"color: #3ed5df;\">I23</b>}),</summary>backend=<b style=\"color: #7fdd73;\">numpy</b>, dtype=<b style=\"color: #75d2c6;\">float64</b>, data=array([[[ 0.48290002, -0.51653419],\n",
       "        [-0.48290002, -0.51653419]],\n",
       "\n",
       "       [[-0.51653419, -0.48290002],\n",
       "        [ 0.51653419, -0.48290002]]])</details></samp><samp style='font-size: 12px;'><details><summary><b style=\"color: #e55471;\">Tensor</b>(shape=(<b style=\"color: #828fdd;\">2</b>, <b style=\"color: #828fdd;\">2</b>, <b style=\"color: #828fdd;\">2</b>), inds=[<b style=\"color: #da9392;\">_6eb2c2AAAbH</b>, <b style=\"color: #d4e272;\">_6eb2c2AAAbI</b>, <b style=\"color: #d48f61;\">k24</b>], tags={<b style=\"color: #84a6d5;\">I24</b>}),</summary>backend=<b style=\"color: #7fdd73;\">numpy</b>, dtype=<b style=\"color: #75d2c6;\">float64</b>, data=array([[[ 3.05538183e-16,  9.95918032e-01],\n",
       "        [-1.29994442e-13, -9.02622468e-02]],\n",
       "\n",
       "       [[-9.02622468e-02, -1.28983095e-13],\n",
       "        [-9.95918032e-01,  1.08532641e-14]]])</details></samp><samp style='font-size: 12px;'><details><summary><b style=\"color: #e55471;\">Tensor</b>(shape=(<b style=\"color: #828fdd;\">2</b>, <b style=\"color: #828fdd;\">2</b>, <b style=\"color: #828fdd;\">2</b>), inds=[<b style=\"color: #d4e272;\">_6eb2c2AAAbI</b>, <b style=\"color: #d48e9b;\">_6eb2c2AAAbJ</b>, <b style=\"color: #2e48da;\">k25</b>], tags={<b style=\"color: #e270b0;\">I25</b>}),</summary>backend=<b style=\"color: #7fdd73;\">numpy</b>, dtype=<b style=\"color: #75d2c6;\">float64</b>, data=array([[[ 0.11933468,  0.63261815],\n",
       "        [-0.75871802,  0.09950111]],\n",
       "\n",
       "       [[ 0.09950111, -0.75871802],\n",
       "        [-0.63261815, -0.11933468]]])</details></samp><samp style='font-size: 12px;'><details><summary><b style=\"color: #e55471;\">Tensor</b>(shape=(<b style=\"color: #828fdd;\">2</b>, <b style=\"color: #828fdd;\">2</b>, <b style=\"color: #828fdd;\">2</b>), inds=[<b style=\"color: #d48e9b;\">_6eb2c2AAAbJ</b>, <b style=\"color: #b2dd7a;\">_6eb2c2AAAbK</b>, <b style=\"color: #d177ac;\">k26</b>], tags={<b style=\"color: #e4ce85;\">I26</b>}),</summary>backend=<b style=\"color: #7fdd73;\">numpy</b>, dtype=<b style=\"color: #75d2c6;\">float64</b>, data=array([[[-0.41624057,  0.57161507],\n",
       "        [-0.41624057, -0.57161507]],\n",
       "\n",
       "       [[-0.57161507, -0.41624057],\n",
       "        [-0.57161507,  0.41624057]]])</details></samp><samp style='font-size: 12px;'><details><summary><b style=\"color: #e55471;\">Tensor</b>(shape=(<b style=\"color: #828fdd;\">2</b>, <b style=\"color: #828fdd;\">2</b>, <b style=\"color: #828fdd;\">2</b>), inds=[<b style=\"color: #b2dd7a;\">_6eb2c2AAAbK</b>, <b style=\"color: #99c7dc;\">_6eb2c2AAAbL</b>, <b style=\"color: #9771d5;\">k27</b>], tags={<b style=\"color: #2fe42e;\">I27</b>}),</summary>backend=<b style=\"color: #7fdd73;\">numpy</b>, dtype=<b style=\"color: #75d2c6;\">float64</b>, data=array([[[ 9.99548598e-01,  1.44006918e-15],\n",
       "        [-3.00432947e-02, -7.85046229e-16]],\n",
       "\n",
       "       [[-9.16577281e-16, -3.00432947e-02],\n",
       "        [-5.81614310e-15, -9.99548598e-01]]])</details></samp><samp style='font-size: 12px;'><details><summary><b style=\"color: #e55471;\">Tensor</b>(shape=(<b style=\"color: #828fdd;\">2</b>, <b style=\"color: #828fdd;\">2</b>, <b style=\"color: #828fdd;\">2</b>), inds=[<b style=\"color: #99c7dc;\">_6eb2c2AAAbL</b>, <b style=\"color: #8ecce0;\">_6eb2c2AAAbM</b>, <b style=\"color: #4fcbce;\">k28</b>], tags={<b style=\"color: #77ce63;\">I28</b>}),</summary>backend=<b style=\"color: #7fdd73;\">numpy</b>, dtype=<b style=\"color: #75d2c6;\">float64</b>, data=array([[[ 0.68315356, -0.06074178],\n",
       "        [ 0.05719691,  0.72549305]],\n",
       "\n",
       "       [[-0.72549305, -0.05719691],\n",
       "        [-0.06074178,  0.68315356]]])</details></samp><samp style='font-size: 12px;'><details><summary><b style=\"color: #e55471;\">Tensor</b>(shape=(<b style=\"color: #828fdd;\">2</b>, <b style=\"color: #828fdd;\">2</b>, <b style=\"color: #828fdd;\">2</b>), inds=[<b style=\"color: #8ecce0;\">_6eb2c2AAAbM</b>, <b style=\"color: #30abdd;\">_6eb2c2AAAbN</b>, <b style=\"color: #6e59d4;\">k29</b>], tags={<b style=\"color: #d29e8c;\">I29</b>}),</summary>backend=<b style=\"color: #7fdd73;\">numpy</b>, dtype=<b style=\"color: #75d2c6;\">float64</b>, data=array([[[-0.64180745, -0.08313965],\n",
       "        [ 0.07029349, -0.75909803]],\n",
       "\n",
       "       [[-0.75909803,  0.07029349],\n",
       "        [ 0.08313965,  0.64180745]]])</details></samp><samp style='font-size: 12px;'><details><summary><b style=\"color: #e55471;\">Tensor</b>(shape=(<b style=\"color: #828fdd;\">2</b>, <b style=\"color: #828fdd;\">2</b>, <b style=\"color: #828fdd;\">2</b>), inds=[<b style=\"color: #30abdd;\">_6eb2c2AAAbN</b>, <b style=\"color: #d54bbc;\">_6eb2c2AAAbO</b>, <b style=\"color: #2fce30;\">k30</b>], tags={<b style=\"color: #cecf73;\">I30</b>}),</summary>backend=<b style=\"color: #7fdd73;\">numpy</b>, dtype=<b style=\"color: #75d2c6;\">float64</b>, data=array([[[-0.35151111,  0.55873587],\n",
       "        [-0.69617956, -0.2821138 ]],\n",
       "\n",
       "       [[-0.2821138 , -0.69617956],\n",
       "        [-0.55873587,  0.35151111]]])</details></samp><samp style='font-size: 12px;'><details><summary><b style=\"color: #e55471;\">Tensor</b>(shape=(<b style=\"color: #828fdd;\">2</b>, <b style=\"color: #828fdd;\">2</b>, <b style=\"color: #828fdd;\">2</b>), inds=[<b style=\"color: #d54bbc;\">_6eb2c2AAAbO</b>, <b style=\"color: #48b5e5;\">_6eb2c2AAAbP</b>, <b style=\"color: #92ce66;\">k31</b>], tags={<b style=\"color: #4ae341;\">I31</b>}),</summary>backend=<b style=\"color: #7fdd73;\">numpy</b>, dtype=<b style=\"color: #75d2c6;\">float64</b>, data=array([[[ 0.30979795, -0.12471247],\n",
       "        [-0.04102781, -0.94169461]],\n",
       "\n",
       "       [[-0.94169461, -0.04102781],\n",
       "        [ 0.12471247, -0.30979795]]])</details></samp><samp style='font-size: 12px;'><details><summary><b style=\"color: #e55471;\">Tensor</b>(shape=(<b style=\"color: #828fdd;\">2</b>, <b style=\"color: #828fdd;\">2</b>, <b style=\"color: #828fdd;\">2</b>), inds=[<b style=\"color: #48b5e5;\">_6eb2c2AAAbP</b>, <b style=\"color: #d9619a;\">_6eb2c2AAAbQ</b>, <b style=\"color: #63df5a;\">k32</b>], tags={<b style=\"color: #73d949;\">I32</b>}),</summary>backend=<b style=\"color: #7fdd73;\">numpy</b>, dtype=<b style=\"color: #75d2c6;\">float64</b>, data=array([[[ 0.76773367,  0.15462542],\n",
       "        [-0.20183262,  0.58816629]],\n",
       "\n",
       "       [[ 0.58816629, -0.20183262],\n",
       "        [-0.15462542, -0.76773367]]])</details></samp><samp style='font-size: 12px;'><details><summary><b style=\"color: #e55471;\">Tensor</b>(shape=(<b style=\"color: #828fdd;\">2</b>, <b style=\"color: #828fdd;\">2</b>, <b style=\"color: #828fdd;\">2</b>), inds=[<b style=\"color: #d9619a;\">_6eb2c2AAAbQ</b>, <b style=\"color: #6b85ce;\">_6eb2c2AAAbR</b>, <b style=\"color: #3861d4;\">k33</b>], tags={<b style=\"color: #54cf6a;\">I33</b>}),</summary>backend=<b style=\"color: #7fdd73;\">numpy</b>, dtype=<b style=\"color: #75d2c6;\">float64</b>, data=array([[[-0.27941593,  0.4769739 ],\n",
       "        [-0.81720616, -0.16308505]],\n",
       "\n",
       "       [[-0.16308505, -0.81720616],\n",
       "        [-0.4769739 ,  0.27941593]]])</details></samp><samp style='font-size: 12px;'><details><summary><b style=\"color: #e55471;\">Tensor</b>(shape=(<b style=\"color: #828fdd;\">2</b>, <b style=\"color: #828fdd;\">2</b>, <b style=\"color: #828fdd;\">2</b>), inds=[<b style=\"color: #6b85ce;\">_6eb2c2AAAbR</b>, <b style=\"color: #a3d378;\">_6eb2c2AAAbS</b>, <b style=\"color: #9bafe4;\">k34</b>], tags={<b style=\"color: #d6c363;\">I34</b>}),</summary>backend=<b style=\"color: #7fdd73;\">numpy</b>, dtype=<b style=\"color: #75d2c6;\">float64</b>, data=array([[[-0.1133042 ,  0.86761024],\n",
       "        [-0.42548141, -0.23104155]],\n",
       "\n",
       "       [[ 0.23104155,  0.42548141],\n",
       "        [ 0.86761024, -0.1133042 ]]])</details></samp><samp style='font-size: 12px;'><details><summary><b style=\"color: #e55471;\">Tensor</b>(shape=(<b style=\"color: #828fdd;\">2</b>, <b style=\"color: #828fdd;\">2</b>, <b style=\"color: #828fdd;\">2</b>), inds=[<b style=\"color: #a3d378;\">_6eb2c2AAAbS</b>, <b style=\"color: #dfdc90;\">_6eb2c2AAAbT</b>, <b style=\"color: #dc42bd;\">k35</b>], tags={<b style=\"color: #73ddd4;\">I35</b>}),</summary>backend=<b style=\"color: #7fdd73;\">numpy</b>, dtype=<b style=\"color: #75d2c6;\">float64</b>, data=array([[[ 0.74350132,  0.2564293 ],\n",
       "        [-0.44257048,  0.43079133]],\n",
       "\n",
       "       [[ 0.43079133, -0.44257048],\n",
       "        [-0.2564293 , -0.74350132]]])</details></samp><samp style='font-size: 12px;'><details><summary><b style=\"color: #e55471;\">Tensor</b>(shape=(<b style=\"color: #828fdd;\">2</b>, <b style=\"color: #828fdd;\">2</b>, <b style=\"color: #828fdd;\">2</b>), inds=[<b style=\"color: #dfdc90;\">_6eb2c2AAAbT</b>, <b style=\"color: #e46dc5;\">_6eb2c2AAAbU</b>, <b style=\"color: #d6dc56;\">k36</b>], tags={<b style=\"color: #73de36;\">I36</b>}),</summary>backend=<b style=\"color: #7fdd73;\">numpy</b>, dtype=<b style=\"color: #75d2c6;\">float64</b>, data=array([[[ 0.06661964,  0.93304651],\n",
       "        [-0.23673311,  0.26257089]],\n",
       "\n",
       "       [[-0.26257089,  0.23673311],\n",
       "        [ 0.93304651,  0.06661964]]])</details></samp><samp style='font-size: 12px;'><details><summary><b style=\"color: #e55471;\">Tensor</b>(shape=(<b style=\"color: #828fdd;\">2</b>, <b style=\"color: #828fdd;\">2</b>, <b style=\"color: #828fdd;\">2</b>), inds=[<b style=\"color: #e46dc5;\">_6eb2c2AAAbU</b>, <b style=\"color: #a557db;\">_6eb2c2AAAbV</b>, <b style=\"color: #7fd946;\">k37</b>], tags={<b style=\"color: #98ce58;\">I37</b>}),</summary>backend=<b style=\"color: #7fdd73;\">numpy</b>, dtype=<b style=\"color: #75d2c6;\">float64</b>, data=array([[[ 0.81949661,  0.16747196],\n",
       "        [-0.29864232,  0.45955545]],\n",
       "\n",
       "       [[-0.45955545,  0.29864232],\n",
       "        [ 0.16747196,  0.81949661]]])</details></samp><samp style='font-size: 12px;'><details><summary><b style=\"color: #e55471;\">Tensor</b>(shape=(<b style=\"color: #828fdd;\">2</b>, <b style=\"color: #828fdd;\">2</b>, <b style=\"color: #828fdd;\">2</b>), inds=[<b style=\"color: #a557db;\">_6eb2c2AAAbV</b>, <b style=\"color: #87e167;\">_6eb2c2AAAbW</b>, <b style=\"color: #a4d96c;\">k38</b>], tags={<b style=\"color: #86b8d8;\">I38</b>}),</summary>backend=<b style=\"color: #7fdd73;\">numpy</b>, dtype=<b style=\"color: #75d2c6;\">float64</b>, data=array([[[ 0.05988015,  0.89731525],\n",
       "        [-0.41798965,  0.12854714]],\n",
       "\n",
       "       [[-0.12854714,  0.41798965],\n",
       "        [ 0.89731525,  0.05988015]]])</details></samp><samp style='font-size: 12px;'><details><summary><b style=\"color: #e55471;\">Tensor</b>(shape=(<b style=\"color: #828fdd;\">2</b>, <b style=\"color: #828fdd;\">2</b>, <b style=\"color: #828fdd;\">2</b>), inds=[<b style=\"color: #87e167;\">_6eb2c2AAAbW</b>, <b style=\"color: #81d36f;\">_6eb2c2AAAbX</b>, <b style=\"color: #da8d91;\">k39</b>], tags={<b style=\"color: #5dde82;\">I39</b>}),</summary>backend=<b style=\"color: #7fdd73;\">numpy</b>, dtype=<b style=\"color: #75d2c6;\">float64</b>, data=array([[[ 0.7975769 , -0.04884075],\n",
       "        [ 0.06517426,  0.5976939 ]],\n",
       "\n",
       "       [[-0.5976939 , -0.06517426],\n",
       "        [-0.04884075,  0.7975769 ]]])</details></samp><samp style='font-size: 12px;'><details><summary><b style=\"color: #e55471;\">Tensor</b>(shape=(<b style=\"color: #828fdd;\">2</b>, <b style=\"color: #828fdd;\">2</b>, <b style=\"color: #828fdd;\">2</b>), inds=[<b style=\"color: #81d36f;\">_6eb2c2AAAbX</b>, <b style=\"color: #ce7966;\">_6eb2c2AAAbY</b>, <b style=\"color: #3acf3d;\">k40</b>], tags={<b style=\"color: #d79954;\">I40</b>}),</summary>backend=<b style=\"color: #7fdd73;\">numpy</b>, dtype=<b style=\"color: #75d2c6;\">float64</b>, data=array([[[-0.04803652, -0.64588217],\n",
       "        [ 0.76083231, -0.04077893]],\n",
       "\n",
       "       [[ 0.04077893, -0.76083231],\n",
       "        [-0.64588217, -0.04803652]]])</details></samp><samp style='font-size: 12px;'><details><summary><b style=\"color: #e55471;\">Tensor</b>(shape=(<b style=\"color: #828fdd;\">2</b>, <b style=\"color: #828fdd;\">2</b>, <b style=\"color: #828fdd;\">2</b>), inds=[<b style=\"color: #ce7966;\">_6eb2c2AAAbY</b>, <b style=\"color: #7fe059;\">_6eb2c2AAAbZ</b>, <b style=\"color: #9b45e0;\">k41</b>], tags={<b style=\"color: #db7fb4;\">I41</b>}),</summary>backend=<b style=\"color: #7fdd73;\">numpy</b>, dtype=<b style=\"color: #75d2c6;\">float64</b>, data=array([[[-0.59553906,  0.4021125 ],\n",
       "        [-0.45631058, -0.52480417]],\n",
       "\n",
       "       [[ 0.52480417,  0.45631058],\n",
       "        [ 0.4021125 , -0.59553906]]])</details></samp><samp style='font-size: 12px;'><details><summary><b style=\"color: #e55471;\">Tensor</b>(shape=(<b style=\"color: #828fdd;\">2</b>, <b style=\"color: #828fdd;\">2</b>, <b style=\"color: #828fdd;\">2</b>), inds=[<b style=\"color: #7fe059;\">_6eb2c2AAAbZ</b>, <b style=\"color: #cc398f;\">_6eb2c2AAAba</b>, <b style=\"color: #91d0ae;\">k42</b>], tags={<b style=\"color: #3ad9cb;\">I42</b>}),</summary>backend=<b style=\"color: #7fdd73;\">numpy</b>, dtype=<b style=\"color: #75d2c6;\">float64</b>, data=array([[[ 0.10445929, -0.13049034],\n",
       "        [ 0.98583434,  0.01382679]],\n",
       "\n",
       "       [[-0.01382679, -0.98583434],\n",
       "        [-0.13049034,  0.10445929]]])</details></samp><samp style='font-size: 12px;'><details><summary><b style=\"color: #e55471;\">Tensor</b>(shape=(<b style=\"color: #828fdd;\">2</b>, <b style=\"color: #828fdd;\">2</b>, <b style=\"color: #828fdd;\">2</b>), inds=[<b style=\"color: #cc398f;\">_6eb2c2AAAba</b>, <b style=\"color: #d590dc;\">_6eb2c2AAAbb</b>, <b style=\"color: #7dcd72;\">k43</b>], tags={<b style=\"color: #82d291;\">I43</b>}),</summary>backend=<b style=\"color: #7fdd73;\">numpy</b>, dtype=<b style=\"color: #75d2c6;\">float64</b>, data=array([[[ 0.62640772, -0.06580239],\n",
       "        [ 0.05319354,  0.77488958]],\n",
       "\n",
       "       [[-0.77488958, -0.05319354],\n",
       "        [-0.06580239,  0.62640772]]])</details></samp><samp style='font-size: 12px;'><details><summary><b style=\"color: #e55471;\">Tensor</b>(shape=(<b style=\"color: #828fdd;\">2</b>, <b style=\"color: #828fdd;\">2</b>, <b style=\"color: #828fdd;\">2</b>), inds=[<b style=\"color: #d590dc;\">_6eb2c2AAAbb</b>, <b style=\"color: #accd73;\">_6eb2c2AAAbc</b>, <b style=\"color: #bed37e;\">k44</b>], tags={<b style=\"color: #5adfc6;\">I44</b>}),</summary>backend=<b style=\"color: #7fdd73;\">numpy</b>, dtype=<b style=\"color: #75d2c6;\">float64</b>, data=array([[[ 0.67626995, -0.30054689],\n",
       "        [ 0.35632763,  0.57040436]],\n",
       "\n",
       "       [[-0.57040436, -0.35632763],\n",
       "        [-0.30054689,  0.67626995]]])</details></samp><samp style='font-size: 12px;'><details><summary><b style=\"color: #e55471;\">Tensor</b>(shape=(<b style=\"color: #828fdd;\">2</b>, <b style=\"color: #828fdd;\">2</b>, <b style=\"color: #828fdd;\">2</b>), inds=[<b style=\"color: #accd73;\">_6eb2c2AAAbc</b>, <b style=\"color: #7fb8db;\">_6eb2c2AAAbd</b>, <b style=\"color: #cebb8f;\">k45</b>], tags={<b style=\"color: #5cdf8f;\">I45</b>}),</summary>backend=<b style=\"color: #7fdd73;\">numpy</b>, dtype=<b style=\"color: #75d2c6;\">float64</b>, data=array([[[ 0.04477424, -0.9442059 ],\n",
       "        [-0.29255485, -0.14450659]],\n",
       "\n",
       "       [[ 0.14450659,  0.29255485],\n",
       "        [-0.9442059 ,  0.04477424]]])</details></samp><samp style='font-size: 12px;'><details><summary><b style=\"color: #e55471;\">Tensor</b>(shape=(<b style=\"color: #828fdd;\">2</b>, <b style=\"color: #828fdd;\">2</b>, <b style=\"color: #828fdd;\">2</b>), inds=[<b style=\"color: #7fb8db;\">_6eb2c2AAAbd</b>, <b style=\"color: #8571da;\">_6eb2c2AAAbe</b>, <b style=\"color: #e1d385;\">k46</b>], tags={<b style=\"color: #c5e396;\">I46</b>}),</summary>backend=<b style=\"color: #7fdd73;\">numpy</b>, dtype=<b style=\"color: #75d2c6;\">float64</b>, data=array([[[-0.18748852,  0.76445517],\n",
       "        [-0.5615204 , -0.2552473 ]],\n",
       "\n",
       "       [[-0.2552473 , -0.5615204 ],\n",
       "        [-0.76445517,  0.18748852]]])</details></samp><samp style='font-size: 12px;'><details><summary><b style=\"color: #e55471;\">Tensor</b>(shape=(<b style=\"color: #828fdd;\">2</b>, <b style=\"color: #828fdd;\">2</b>, <b style=\"color: #828fdd;\">2</b>), inds=[<b style=\"color: #8571da;\">_6eb2c2AAAbe</b>, <b style=\"color: #d46195;\">_6eb2c2AAAbf</b>, <b style=\"color: #8c63e5;\">k47</b>], tags={<b style=\"color: #4152d9;\">I47</b>}),</summary>backend=<b style=\"color: #7fdd73;\">numpy</b>, dtype=<b style=\"color: #75d2c6;\">float64</b>, data=array([[[ 0.86524124,  0.11361206],\n",
       "        [-0.22751121,  0.43207471]],\n",
       "\n",
       "       [[ 0.43207471, -0.22751121],\n",
       "        [-0.11361206, -0.86524124]]])</details></samp><samp style='font-size: 12px;'><details><summary><b style=\"color: #e55471;\">Tensor</b>(shape=(<b style=\"color: #828fdd;\">2</b>, <b style=\"color: #828fdd;\">2</b>, <b style=\"color: #828fdd;\">2</b>), inds=[<b style=\"color: #d46195;\">_6eb2c2AAAbf</b>, <b style=\"color: #d4a257;\">_6eb2c2AAAbg</b>, <b style=\"color: #cd6e86;\">k48</b>], tags={<b style=\"color: #a95fdc;\">I48</b>}),</summary>backend=<b style=\"color: #7fdd73;\">numpy</b>, dtype=<b style=\"color: #75d2c6;\">float64</b>, data=array([[[ 0.50193112, -0.07897327],\n",
       "        [ 0.04608878,  0.86006058]],\n",
       "\n",
       "       [[-0.86006058, -0.04608878],\n",
       "        [-0.07897327,  0.50193112]]])</details></samp><samp style='font-size: 12px;'><details><summary><b style=\"color: #e55471;\">Tensor</b>(shape=(<b style=\"color: #828fdd;\">2</b>, <b style=\"color: #828fdd;\">2</b>, <b style=\"color: #828fdd;\">2</b>), inds=[<b style=\"color: #d4a257;\">_6eb2c2AAAbg</b>, <b style=\"color: #ace467;\">_6eb2c2AAAbh</b>, <b style=\"color: #45da7e;\">k49</b>], tags={<b style=\"color: #a5da82;\">I49</b>}),</summary>backend=<b style=\"color: #7fdd73;\">numpy</b>, dtype=<b style=\"color: #75d2c6;\">float64</b>, data=array([[[ 0.27717391,  0.69283339],\n",
       "        [ 0.57629804, -0.33322227]],\n",
       "\n",
       "       [[ 0.33322227, -0.57629804],\n",
       "        [ 0.69283339,  0.27717391]]])</details></samp><samp style='font-size: 12px;'><details><summary><b style=\"color: #e55471;\">Tensor</b>(shape=(<b style=\"color: #828fdd;\">2</b>, <b style=\"color: #828fdd;\">2</b>, <b style=\"color: #828fdd;\">2</b>), inds=[<b style=\"color: #ace467;\">_6eb2c2AAAbh</b>, <b style=\"color: #9adc92;\">_6eb2c2AAAbi</b>, <b style=\"color: #809ae2;\">k50</b>], tags={<b style=\"color: #d94432;\">I50</b>}),</summary>backend=<b style=\"color: #7fdd73;\">numpy</b>, dtype=<b style=\"color: #75d2c6;\">float64</b>, data=array([[[-0.91866458, -0.07570487],\n",
       "        [ 0.21600393, -0.32197278]],\n",
       "\n",
       "       [[-0.32197278,  0.21600393],\n",
       "        [ 0.07570487,  0.91866458]]])</details></samp><samp style='font-size: 12px;'><details><summary><b style=\"color: #e55471;\">Tensor</b>(shape=(<b style=\"color: #828fdd;\">2</b>, <b style=\"color: #828fdd;\">2</b>, <b style=\"color: #828fdd;\">2</b>), inds=[<b style=\"color: #9adc92;\">_6eb2c2AAAbi</b>, <b style=\"color: #5c61e0;\">_6eb2c2AAAbj</b>, <b style=\"color: #8c47db;\">k51</b>], tags={<b style=\"color: #709de5;\">I51</b>}),</summary>backend=<b style=\"color: #7fdd73;\">numpy</b>, dtype=<b style=\"color: #75d2c6;\">float64</b>, data=array([[[-0.37228345, -0.60116972],\n",
       "        [-0.37228345,  0.60116972]],\n",
       "\n",
       "       [[ 0.60116972, -0.37228345],\n",
       "        [ 0.60116972,  0.37228345]]])</details></samp><samp style='font-size: 12px;'><details><summary><b style=\"color: #e55471;\">Tensor</b>(shape=(<b style=\"color: #828fdd;\">2</b>, <b style=\"color: #828fdd;\">2</b>, <b style=\"color: #828fdd;\">2</b>), inds=[<b style=\"color: #5c61e0;\">_6eb2c2AAAbj</b>, <b style=\"color: #dc8039;\">_6eb2c2AAAbk</b>, <b style=\"color: #40b6d3;\">k52</b>], tags={<b style=\"color: #3adb88;\">I52</b>}),</summary>backend=<b style=\"color: #7fdd73;\">numpy</b>, dtype=<b style=\"color: #75d2c6;\">float64</b>, data=array([[[-2.86259012e-02, -4.17173566e-13],\n",
       "        [ 9.99590195e-01,  1.33874915e-14]],\n",
       "\n",
       "       [[-1.16676884e-16,  9.99590195e-01],\n",
       "        [ 4.16786839e-13,  2.86259012e-02]]])</details></samp><samp style='font-size: 12px;'><details><summary><b style=\"color: #e55471;\">Tensor</b>(shape=(<b style=\"color: #828fdd;\">2</b>, <b style=\"color: #828fdd;\">2</b>, <b style=\"color: #828fdd;\">2</b>), inds=[<b style=\"color: #dc8039;\">_6eb2c2AAAbk</b>, <b style=\"color: #e04e38;\">_6eb2c2AAAbl</b>, <b style=\"color: #64cd6b;\">k53</b>], tags={<b style=\"color: #55a9dd;\">I53</b>}),</summary>backend=<b style=\"color: #7fdd73;\">numpy</b>, dtype=<b style=\"color: #75d2c6;\">float64</b>, data=array([[[-0.07571565,  0.72262391],\n",
       "        [-0.6823877 , -0.08018014]],\n",
       "\n",
       "       [[-0.08018014, -0.6823877 ],\n",
       "        [-0.72262391,  0.07571565]]])</details></samp><samp style='font-size: 12px;'><details><summary><b style=\"color: #e55471;\">Tensor</b>(shape=(<b style=\"color: #828fdd;\">2</b>, <b style=\"color: #828fdd;\">2</b>, <b style=\"color: #828fdd;\">2</b>), inds=[<b style=\"color: #e04e38;\">_6eb2c2AAAbl</b>, <b style=\"color: #e490c7;\">_6eb2c2AAAbm</b>, <b style=\"color: #8ce1b5;\">k54</b>], tags={<b style=\"color: #ddca3e;\">I54</b>}),</summary>backend=<b style=\"color: #7fdd73;\">numpy</b>, dtype=<b style=\"color: #75d2c6;\">float64</b>, data=array([[[ 0.55209035,  0.44181019],\n",
       "        [ 0.55209035, -0.44181019]],\n",
       "\n",
       "       [[ 0.44181019, -0.55209035],\n",
       "        [ 0.44181019,  0.55209035]]])</details></samp><samp style='font-size: 12px;'><details><summary><b style=\"color: #e55471;\">Tensor</b>(shape=(<b style=\"color: #828fdd;\">2</b>, <b style=\"color: #828fdd;\">2</b>, <b style=\"color: #828fdd;\">2</b>), inds=[<b style=\"color: #e490c7;\">_6eb2c2AAAbm</b>, <b style=\"color: #7dd67a;\">_6eb2c2AAAbn</b>, <b style=\"color: #2dcadd;\">k55</b>], tags={<b style=\"color: #a6d86a;\">I55</b>}),</summary>backend=<b style=\"color: #7fdd73;\">numpy</b>, dtype=<b style=\"color: #75d2c6;\">float64</b>, data=array([[[-4.80165188e-15, -8.58937074e-02],\n",
       "        [-4.90618726e-15,  9.96304306e-01]],\n",
       "\n",
       "       [[ 9.96304306e-01, -1.41308321e-15],\n",
       "        [ 8.58937074e-02,  5.10280049e-15]]])</details></samp><samp style='font-size: 12px;'><details><summary><b style=\"color: #e55471;\">Tensor</b>(shape=(<b style=\"color: #828fdd;\">2</b>, <b style=\"color: #828fdd;\">2</b>, <b style=\"color: #828fdd;\">2</b>), inds=[<b style=\"color: #7dd67a;\">_6eb2c2AAAbn</b>, <b style=\"color: #be83d0;\">_6eb2c2AAAbo</b>, <b style=\"color: #cacf6a;\">k56</b>], tags={<b style=\"color: #e236e1;\">I56</b>}),</summary>backend=<b style=\"color: #7fdd73;\">numpy</b>, dtype=<b style=\"color: #75d2c6;\">float64</b>, data=array([[[ 0.64188595, -0.05830846],\n",
       "        [ 0.04905261,  0.76300485]],\n",
       "\n",
       "       [[ 0.76300485,  0.04905261],\n",
       "        [ 0.05830846, -0.64188595]]])</details></samp><samp style='font-size: 12px;'><details><summary><b style=\"color: #e55471;\">Tensor</b>(shape=(<b style=\"color: #828fdd;\">2</b>, <b style=\"color: #828fdd;\">2</b>, <b style=\"color: #828fdd;\">2</b>), inds=[<b style=\"color: #be83d0;\">_6eb2c2AAAbo</b>, <b style=\"color: #65da5a;\">_6eb2c2AAAbp</b>, <b style=\"color: #cda663;\">k57</b>], tags={<b style=\"color: #e37956;\">I57</b>}),</summary>backend=<b style=\"color: #7fdd73;\">numpy</b>, dtype=<b style=\"color: #75d2c6;\">float64</b>, data=array([[[-0.59634375, -0.30481022],\n",
       "        [ 0.26153072, -0.69502989]],\n",
       "\n",
       "       [[-0.69502989,  0.26153072],\n",
       "        [ 0.30481022,  0.59634375]]])</details></samp><samp style='font-size: 12px;'><details><summary><b style=\"color: #e55471;\">Tensor</b>(shape=(<b style=\"color: #828fdd;\">2</b>, <b style=\"color: #828fdd;\">2</b>, <b style=\"color: #828fdd;\">2</b>), inds=[<b style=\"color: #65da5a;\">_6eb2c2AAAbp</b>, <b style=\"color: #90dce4;\">_6eb2c2AAAbq</b>, <b style=\"color: #75bbcd;\">k58</b>], tags={<b style=\"color: #dc85c6;\">I58</b>}),</summary>backend=<b style=\"color: #7fdd73;\">numpy</b>, dtype=<b style=\"color: #75d2c6;\">float64</b>, data=array([[[ 0.9161851 , -0.06579383],\n",
       "        [ 0.1685802 ,  0.35757062]],\n",
       "\n",
       "       [[ 0.35757062,  0.1685802 ],\n",
       "        [ 0.06579383, -0.9161851 ]]])</details></samp><samp style='font-size: 12px;'><details><summary><b style=\"color: #e55471;\">Tensor</b>(shape=(<b style=\"color: #828fdd;\">2</b>, <b style=\"color: #828fdd;\">2</b>, <b style=\"color: #828fdd;\">2</b>), inds=[<b style=\"color: #90dce4;\">_6eb2c2AAAbq</b>, <b style=\"color: #5c90e2;\">_6eb2c2AAAbr</b>, <b style=\"color: #93e0a6;\">k59</b>], tags={<b style=\"color: #8be043;\">I59</b>}),</summary>backend=<b style=\"color: #7fdd73;\">numpy</b>, dtype=<b style=\"color: #75d2c6;\">float64</b>, data=array([[[-0.01498532, -0.82310621],\n",
       "        [ 0.56727315, -0.0217435 ]],\n",
       "\n",
       "       [[-0.0217435 ,  0.56727315],\n",
       "        [ 0.82310621,  0.01498532]]])</details></samp><samp style='font-size: 12px;'><details><summary><b style=\"color: #e55471;\">Tensor</b>(shape=(<b style=\"color: #828fdd;\">2</b>, <b style=\"color: #828fdd;\">2</b>, <b style=\"color: #828fdd;\">2</b>), inds=[<b style=\"color: #5c90e2;\">_6eb2c2AAAbr</b>, <b style=\"color: #594fde;\">_6eb2c2AAAbs</b>, <b style=\"color: #3952e0;\">k60</b>], tags={<b style=\"color: #d9c267;\">I60</b>}),</summary>backend=<b style=\"color: #7fdd73;\">numpy</b>, dtype=<b style=\"color: #75d2c6;\">float64</b>, data=array([[[ 0.69542466, -0.1961927 ],\n",
       "        [ 0.20683935,  0.65962902]],\n",
       "\n",
       "       [[-0.65962902, -0.20683935],\n",
       "        [-0.1961927 ,  0.69542466]]])</details></samp><samp style='font-size: 12px;'><details><summary><b style=\"color: #e55471;\">Tensor</b>(shape=(<b style=\"color: #828fdd;\">2</b>, <b style=\"color: #828fdd;\">2</b>, <b style=\"color: #828fdd;\">2</b>), inds=[<b style=\"color: #594fde;\">_6eb2c2AAAbs</b>, <b style=\"color: #ae96e2;\">_6eb2c2AAAbt</b>, <b style=\"color: #cf2a9d;\">k61</b>], tags={<b style=\"color: #94d9c9;\">I61</b>}),</summary>backend=<b style=\"color: #7fdd73;\">numpy</b>, dtype=<b style=\"color: #75d2c6;\">float64</b>, data=array([[[ 0.83537838,  0.14869223],\n",
       "        [-0.27458797,  0.45236604]],\n",
       "\n",
       "       [[-0.45236604,  0.27458797],\n",
       "        [ 0.14869223,  0.83537838]]])</details></samp><samp style='font-size: 12px;'><details><summary><b style=\"color: #e55471;\">Tensor</b>(shape=(<b style=\"color: #828fdd;\">2</b>, <b style=\"color: #828fdd;\">2</b>, <b style=\"color: #828fdd;\">2</b>), inds=[<b style=\"color: #ae96e2;\">_6eb2c2AAAbt</b>, <b style=\"color: #5ea5cc;\">_6eb2c2AAAbu</b>, <b style=\"color: #54e3b7;\">k62</b>], tags={<b style=\"color: #40d786;\">I62</b>}),</summary>backend=<b style=\"color: #7fdd73;\">numpy</b>, dtype=<b style=\"color: #75d2c6;\">float64</b>, data=array([[[ 0.16370121, -0.44329603],\n",
       "        [ 0.87741101,  0.08270708]],\n",
       "\n",
       "       [[ 0.08270708,  0.87741101],\n",
       "        [ 0.44329603, -0.16370121]]])</details></samp><samp style='font-size: 12px;'><details><summary><b style=\"color: #e55471;\">Tensor</b>(shape=(<b style=\"color: #828fdd;\">2</b>, <b style=\"color: #828fdd;\">2</b>, <b style=\"color: #828fdd;\">2</b>), inds=[<b style=\"color: #5ea5cc;\">_6eb2c2AAAbu</b>, <b style=\"color: #d770d4;\">_6eb2c2AAAbv</b>, <b style=\"color: #5fcebc;\">k63</b>], tags={<b style=\"color: #b157cf;\">I63</b>}),</summary>backend=<b style=\"color: #7fdd73;\">numpy</b>, dtype=<b style=\"color: #75d2c6;\">float64</b>, data=array([[[-0.16916068, -0.7870237 ],\n",
       "        [-0.53952544,  0.24676032]],\n",
       "\n",
       "       [[ 0.24676032, -0.53952544],\n",
       "        [ 0.7870237 ,  0.16916068]]])</details></samp><samp style='font-size: 12px;'><details><summary><b style=\"color: #e55471;\">Tensor</b>(shape=(<b style=\"color: #828fdd;\">2</b>, <b style=\"color: #828fdd;\">2</b>, <b style=\"color: #828fdd;\">2</b>), inds=[<b style=\"color: #d770d4;\">_6eb2c2AAAbv</b>, <b style=\"color: #9170d9;\">_6eb2c2AAAbw</b>, <b style=\"color: #8dd4b6;\">k64</b>], tags={<b style=\"color: #d2a48d;\">I64</b>}),</summary>backend=<b style=\"color: #7fdd73;\">numpy</b>, dtype=<b style=\"color: #75d2c6;\">float64</b>, data=array([[[ 0.44552684,  0.24228878],\n",
       "        [ 0.12662196, -0.8525074 ]],\n",
       "\n",
       "       [[-0.8525074 ,  0.12662196],\n",
       "        [-0.24228878, -0.44552684]]])</details></samp><samp style='font-size: 12px;'><details><summary><b style=\"color: #e55471;\">Tensor</b>(shape=(<b style=\"color: #828fdd;\">2</b>, <b style=\"color: #828fdd;\">2</b>, <b style=\"color: #828fdd;\">2</b>), inds=[<b style=\"color: #9170d9;\">_6eb2c2AAAbw</b>, <b style=\"color: #cf695e;\">_6eb2c2AAAbx</b>, <b style=\"color: #4ddad5;\">k65</b>], tags={<b style=\"color: #dca369;\">I65</b>}),</summary>backend=<b style=\"color: #7fdd73;\">numpy</b>, dtype=<b style=\"color: #75d2c6;\">float64</b>, data=array([[[ 0.05036157,  0.86879377],\n",
       "        [-0.48424917,  0.09035393]],\n",
       "\n",
       "       [[ 0.09035393, -0.48424917],\n",
       "        [-0.86879377, -0.05036157]]])</details></samp><samp style='font-size: 12px;'><details><summary><b style=\"color: #e55471;\">Tensor</b>(shape=(<b style=\"color: #828fdd;\">2</b>, <b style=\"color: #828fdd;\">2</b>, <b style=\"color: #828fdd;\">2</b>), inds=[<b style=\"color: #cf695e;\">_6eb2c2AAAbx</b>, <b style=\"color: #89dba7;\">_6eb2c2AAAby</b>, <b style=\"color: #d5b57e;\">k66</b>], tags={<b style=\"color: #6b8adc;\">I66</b>}),</summary>backend=<b style=\"color: #7fdd73;\">numpy</b>, dtype=<b style=\"color: #75d2c6;\">float64</b>, data=array([[[ 0.72402098, -0.22765229],\n",
       "        [ 0.28049974,  0.58761208]],\n",
       "\n",
       "       [[-0.58761208, -0.28049974],\n",
       "        [-0.22765229,  0.72402098]]])</details></samp><samp style='font-size: 12px;'><details><summary><b style=\"color: #e55471;\">Tensor</b>(shape=(<b style=\"color: #828fdd;\">2</b>, <b style=\"color: #828fdd;\">2</b>, <b style=\"color: #828fdd;\">2</b>), inds=[<b style=\"color: #89dba7;\">_6eb2c2AAAby</b>, <b style=\"color: #d293ad;\">_6eb2c2AAAbz</b>, <b style=\"color: #d2902e;\">k67</b>], tags={<b style=\"color: #3cce9a;\">I67</b>}),</summary>backend=<b style=\"color: #7fdd73;\">numpy</b>, dtype=<b style=\"color: #75d2c6;\">float64</b>, data=array([[[ 0.23078943, -0.39084215],\n",
       "        [-0.88520911, -0.10189935]],\n",
       "\n",
       "       [[-0.10189935, -0.88520911],\n",
       "        [ 0.39084215, -0.23078943]]])</details></samp><samp style='font-size: 12px;'><details><summary><b style=\"color: #e55471;\">Tensor</b>(shape=(<b style=\"color: #828fdd;\">2</b>, <b style=\"color: #828fdd;\">2</b>, <b style=\"color: #828fdd;\">2</b>), inds=[<b style=\"color: #d293ad;\">_6eb2c2AAAbz</b>, <b style=\"color: #d66a5f;\">_6eb2c2AAAcA</b>, <b style=\"color: #dbc05f;\">k68</b>], tags={<b style=\"color: #9ade47;\">I68</b>}),</summary>backend=<b style=\"color: #7fdd73;\">numpy</b>, dtype=<b style=\"color: #75d2c6;\">float64</b>, data=array([[[-0.02724898,  0.86137341],\n",
       "        [-0.50510793, -0.04646838]],\n",
       "\n",
       "       [[-0.04646838, -0.50510793],\n",
       "        [-0.86137341,  0.02724898]]])</details></samp><samp style='font-size: 12px;'><details><summary><b style=\"color: #e55471;\">Tensor</b>(shape=(<b style=\"color: #828fdd;\">2</b>, <b style=\"color: #828fdd;\">2</b>, <b style=\"color: #828fdd;\">2</b>), inds=[<b style=\"color: #d66a5f;\">_6eb2c2AAAcA</b>, <b style=\"color: #d33f76;\">_6eb2c2AAAcB</b>, <b style=\"color: #74d240;\">k69</b>], tags={<b style=\"color: #a2d134;\">I69</b>}),</summary>backend=<b style=\"color: #7fdd73;\">numpy</b>, dtype=<b style=\"color: #75d2c6;\">float64</b>, data=array([[[ 0.52620828,  0.47233976],\n",
       "        [ 0.52620828, -0.47233976]],\n",
       "\n",
       "       [[ 0.47233976, -0.52620828],\n",
       "        [ 0.47233976,  0.52620828]]])</details></samp><samp style='font-size: 12px;'><details><summary><b style=\"color: #e55471;\">Tensor</b>(shape=(<b style=\"color: #828fdd;\">2</b>, <b style=\"color: #828fdd;\">2</b>, <b style=\"color: #828fdd;\">2</b>), inds=[<b style=\"color: #d33f76;\">_6eb2c2AAAcB</b>, <b style=\"color: #6cd344;\">_6eb2c2AAAcC</b>, <b style=\"color: #ce8247;\">k70</b>], tags={<b style=\"color: #e4656c;\">I70</b>}),</summary>backend=<b style=\"color: #7fdd73;\">numpy</b>, dtype=<b style=\"color: #75d2c6;\">float64</b>, data=array([[[ 5.11659944e-15,  7.07106781e-01],\n",
       "        [ 9.43435370e-15,  7.07106781e-01]],\n",
       "\n",
       "       [[ 7.07106781e-01,  1.17756934e-15],\n",
       "        [-7.07106781e-01,  3.14018492e-15]]])</details></samp><samp style='font-size: 12px;'><details><summary><b style=\"color: #e55471;\">Tensor</b>(shape=(<b style=\"color: #828fdd;\">2</b>, <b style=\"color: #828fdd;\">2</b>, <b style=\"color: #828fdd;\">2</b>), inds=[<b style=\"color: #6cd344;\">_6eb2c2AAAcC</b>, <b style=\"color: #51ce91;\">_6eb2c2AAAcD</b>, <b style=\"color: #63c5e0;\">k71</b>], tags={<b style=\"color: #d3827b;\">I71</b>}),</summary>backend=<b style=\"color: #7fdd73;\">numpy</b>, dtype=<b style=\"color: #75d2c6;\">float64</b>, data=array([[[ 3.61699170e-01,  2.70840949e-15],\n",
       "        [ 9.32294862e-01,  4.74952969e-15]],\n",
       "\n",
       "       [[ 8.49971876e-15,  9.32294862e-01],\n",
       "        [-4.16335720e-15, -3.61699170e-01]]])</details></samp><samp style='font-size: 12px;'><details><summary><b style=\"color: #e55471;\">Tensor</b>(shape=(<b style=\"color: #828fdd;\">2</b>, <b style=\"color: #828fdd;\">2</b>, <b style=\"color: #828fdd;\">2</b>), inds=[<b style=\"color: #51ce91;\">_6eb2c2AAAcD</b>, <b style=\"color: #dc4d81;\">_6eb2c2AAAcE</b>, <b style=\"color: #de84dd;\">k72</b>], tags={<b style=\"color: #7754da;\">I72</b>}),</summary>backend=<b style=\"color: #7fdd73;\">numpy</b>, dtype=<b style=\"color: #75d2c6;\">float64</b>, data=array([[[-0.09507455,  0.88922595],\n",
       "        [-0.39211038, -0.21560959]],\n",
       "\n",
       "       [[ 0.21560959,  0.39211038],\n",
       "        [ 0.88922595, -0.09507455]]])</details></samp><samp style='font-size: 12px;'><details><summary><b style=\"color: #e55471;\">Tensor</b>(shape=(<b style=\"color: #828fdd;\">2</b>, <b style=\"color: #828fdd;\">2</b>, <b style=\"color: #828fdd;\">2</b>), inds=[<b style=\"color: #dc4d81;\">_6eb2c2AAAcE</b>, <b style=\"color: #b9cd5f;\">_6eb2c2AAAcF</b>, <b style=\"color: #db8379;\">k73</b>], tags={<b style=\"color: #d5789a;\">I73</b>}),</summary>backend=<b style=\"color: #7fdd73;\">numpy</b>, dtype=<b style=\"color: #75d2c6;\">float64</b>, data=array([[[-0.60374057, -0.36809961],\n",
       "        [-0.60374057,  0.36809961]],\n",
       "\n",
       "       [[-0.36809961,  0.60374057],\n",
       "        [-0.36809961, -0.60374057]]])</details></samp><samp style='font-size: 12px;'><details><summary><b style=\"color: #e55471;\">Tensor</b>(shape=(<b style=\"color: #828fdd;\">2</b>, <b style=\"color: #828fdd;\">2</b>, <b style=\"color: #828fdd;\">2</b>), inds=[<b style=\"color: #b9cd5f;\">_6eb2c2AAAcF</b>, <b style=\"color: #81de5f;\">_6eb2c2AAAcG</b>, <b style=\"color: #c6d967;\">k74</b>], tags={<b style=\"color: #7ed399;\">I74</b>}),</summary>backend=<b style=\"color: #7fdd73;\">numpy</b>, dtype=<b style=\"color: #75d2c6;\">float64</b>, data=array([[[ 8.67850372e-15, -5.53064957e-01],\n",
       "        [ 7.85743940e-15,  8.33138136e-01]],\n",
       "\n",
       "       [[ 8.33138136e-01,  1.41308321e-14],\n",
       "        [ 5.53064957e-01, -4.51401582e-15]]])</details></samp><samp style='font-size: 12px;'><details><summary><b style=\"color: #e55471;\">Tensor</b>(shape=(<b style=\"color: #828fdd;\">2</b>, <b style=\"color: #828fdd;\">2</b>, <b style=\"color: #828fdd;\">2</b>), inds=[<b style=\"color: #81de5f;\">_6eb2c2AAAcG</b>, <b style=\"color: #d86781;\">_6eb2c2AAAcH</b>, <b style=\"color: #d36a5b;\">k75</b>], tags={<b style=\"color: #37e337;\">I75</b>}),</summary>backend=<b style=\"color: #7fdd73;\">numpy</b>, dtype=<b style=\"color: #75d2c6;\">float64</b>, data=array([[[-0.19382374, -0.20122042],\n",
       "        [-0.04065526,  0.95931739]],\n",
       "\n",
       "       [[-0.95931739,  0.04065526],\n",
       "        [-0.20122042, -0.19382374]]])</details></samp><samp style='font-size: 12px;'><details><summary><b style=\"color: #e55471;\">Tensor</b>(shape=(<b style=\"color: #828fdd;\">2</b>, <b style=\"color: #828fdd;\">2</b>, <b style=\"color: #828fdd;\">2</b>), inds=[<b style=\"color: #d86781;\">_6eb2c2AAAcH</b>, <b style=\"color: #d29c61;\">_6eb2c2AAAcI</b>, <b style=\"color: #d46b98;\">k76</b>], tags={<b style=\"color: #7bd092;\">I76</b>}),</summary>backend=<b style=\"color: #7fdd73;\">numpy</b>, dtype=<b style=\"color: #75d2c6;\">float64</b>, data=array([[[ 0.51067241,  0.43336608],\n",
       "        [-0.66342136,  0.33358603]],\n",
       "\n",
       "       [[-0.33358603,  0.66342136],\n",
       "        [ 0.43336608,  0.51067241]]])</details></samp><samp style='font-size: 12px;'><details><summary><b style=\"color: #e55471;\">Tensor</b>(shape=(<b style=\"color: #828fdd;\">2</b>, <b style=\"color: #828fdd;\">2</b>, <b style=\"color: #828fdd;\">2</b>), inds=[<b style=\"color: #d29c61;\">_6eb2c2AAAcI</b>, <b style=\"color: #534ce5;\">_6eb2c2AAAcJ</b>, <b style=\"color: #d5755a;\">k77</b>], tags={<b style=\"color: #d48a81;\">I77</b>}),</summary>backend=<b style=\"color: #7fdd73;\">numpy</b>, dtype=<b style=\"color: #75d2c6;\">float64</b>, data=array([[[ 0.03554159, -0.12892932],\n",
       "        [-0.99100588, -0.00462394]],\n",
       "\n",
       "       [[-0.00462394, -0.99100588],\n",
       "        [ 0.12892932, -0.03554159]]])</details></samp><samp style='font-size: 12px;'><details><summary><b style=\"color: #e55471;\">Tensor</b>(shape=(<b style=\"color: #828fdd;\">2</b>, <b style=\"color: #828fdd;\">2</b>, <b style=\"color: #828fdd;\">2</b>), inds=[<b style=\"color: #534ce5;\">_6eb2c2AAAcJ</b>, <b style=\"color: #38c8d0;\">_6eb2c2AAAcK</b>, <b style=\"color: #d8d96c;\">k78</b>], tags={<b style=\"color: #de5b94;\">I78</b>}),</summary>backend=<b style=\"color: #7fdd73;\">numpy</b>, dtype=<b style=\"color: #75d2c6;\">float64</b>, data=array([[[-0.7212015 ,  0.11657307],\n",
       "        [-0.1252457 , -0.67126197]],\n",
       "\n",
       "       [[ 0.67126197,  0.1252457 ],\n",
       "        [ 0.11657307, -0.7212015 ]]])</details></samp><samp style='font-size: 12px;'><details><summary><b style=\"color: #e55471;\">Tensor</b>(shape=(<b style=\"color: #828fdd;\">2</b>, <b style=\"color: #828fdd;\">2</b>, <b style=\"color: #828fdd;\">2</b>), inds=[<b style=\"color: #38c8d0;\">_6eb2c2AAAcK</b>, <b style=\"color: #d775b1;\">_6eb2c2AAAcL</b>, <b style=\"color: #e1a08f;\">k79</b>], tags={<b style=\"color: #dabd85;\">I79</b>}),</summary>backend=<b style=\"color: #7fdd73;\">numpy</b>, dtype=<b style=\"color: #75d2c6;\">float64</b>, data=array([[[-0.57817751,  0.40707588],\n",
       "        [ 0.57817751,  0.40707588]],\n",
       "\n",
       "       [[ 0.40707588,  0.57817751],\n",
       "        [-0.40707588,  0.57817751]]])</details></samp><samp style='font-size: 12px;'><details><summary><b style=\"color: #e55471;\">Tensor</b>(shape=(<b style=\"color: #828fdd;\">2</b>, <b style=\"color: #828fdd;\">2</b>, <b style=\"color: #828fdd;\">2</b>), inds=[<b style=\"color: #d775b1;\">_6eb2c2AAAcL</b>, <b style=\"color: #878ad7;\">_6eb2c2AAAcM</b>, <b style=\"color: #95d8bd;\">k80</b>], tags={<b style=\"color: #64d171;\">I80</b>}),</summary>backend=<b style=\"color: #7fdd73;\">numpy</b>, dtype=<b style=\"color: #75d2c6;\">float64</b>, data=array([[[-3.53270803e-16, -7.07106781e-01],\n",
       "        [ 1.08728903e-14,  7.07106781e-01]],\n",
       "\n",
       "       [[ 7.07106781e-01,  4.94579124e-15],\n",
       "        [ 7.07106781e-01, -5.57382823e-15]]])</details></samp><samp style='font-size: 12px;'><details><summary><b style=\"color: #e55471;\">Tensor</b>(shape=(<b style=\"color: #828fdd;\">2</b>, <b style=\"color: #828fdd;\">2</b>, <b style=\"color: #828fdd;\">2</b>), inds=[<b style=\"color: #878ad7;\">_6eb2c2AAAcM</b>, <b style=\"color: #da6ea9;\">_6eb2c2AAAcN</b>, <b style=\"color: #76d144;\">k81</b>], tags={<b style=\"color: #93a7de;\">I81</b>}),</summary>backend=<b style=\"color: #7fdd73;\">numpy</b>, dtype=<b style=\"color: #75d2c6;\">float64</b>, data=array([[[ 7.07106781e-01, -3.76822190e-15],\n",
       "        [ 7.07106781e-01,  3.37569879e-15]],\n",
       "\n",
       "       [[ 6.25819442e-15,  7.07106781e-01],\n",
       "        [ 8.85726269e-16, -7.07106781e-01]]])</details></samp><samp style='font-size: 12px;'><details><summary><b style=\"color: #e55471;\">Tensor</b>(shape=(<b style=\"color: #828fdd;\">2</b>, <b style=\"color: #828fdd;\">2</b>, <b style=\"color: #828fdd;\">2</b>), inds=[<b style=\"color: #da6ea9;\">_6eb2c2AAAcN</b>, <b style=\"color: #73ced4;\">_6eb2c2AAAcO</b>, <b style=\"color: #33db97;\">k82</b>], tags={<b style=\"color: #d7388e;\">I82</b>}),</summary>backend=<b style=\"color: #7fdd73;\">numpy</b>, dtype=<b style=\"color: #75d2c6;\">float64</b>, data=array([[[ 9.94113282e-01, -2.58574602e-15],\n",
       "        [ 1.08345660e-01,  7.14392069e-15]],\n",
       "\n",
       "       [[-7.60665702e-15, -1.08345660e-01],\n",
       "        [ 1.66003854e-15,  9.94113282e-01]]])</details></samp><samp style='font-size: 12px;'><details><summary><b style=\"color: #e55471;\">Tensor</b>(shape=(<b style=\"color: #828fdd;\">2</b>, <b style=\"color: #828fdd;\">2</b>, <b style=\"color: #828fdd;\">2</b>), inds=[<b style=\"color: #73ced4;\">_6eb2c2AAAcO</b>, <b style=\"color: #955fdf;\">_6eb2c2AAAcP</b>, <b style=\"color: #7cd59e;\">k83</b>], tags={<b style=\"color: #34d4a0;\">I83</b>}),</summary>backend=<b style=\"color: #7fdd73;\">numpy</b>, dtype=<b style=\"color: #75d2c6;\">float64</b>, data=array([[[-0.61949973,  0.11483236],\n",
       "        [-0.09226175, -0.77105213]],\n",
       "\n",
       "       [[-0.77105213, -0.09226175],\n",
       "        [-0.11483236,  0.61949973]]])</details></samp><samp style='font-size: 12px;'><details><summary><b style=\"color: #e55471;\">Tensor</b>(shape=(<b style=\"color: #828fdd;\">2</b>, <b style=\"color: #828fdd;\">2</b>, <b style=\"color: #828fdd;\">2</b>), inds=[<b style=\"color: #955fdf;\">_6eb2c2AAAcP</b>, <b style=\"color: #d569d8;\">_6eb2c2AAAcQ</b>, <b style=\"color: #98e1b7;\">k84</b>], tags={<b style=\"color: #da2e87;\">I84</b>}),</summary>backend=<b style=\"color: #7fdd73;\">numpy</b>, dtype=<b style=\"color: #75d2c6;\">float64</b>, data=array([[[-0.58156477,  0.17121127],\n",
       "        [-0.12682491, -0.78510163]],\n",
       "\n",
       "       [[-0.78510163, -0.12682491],\n",
       "        [-0.17121127,  0.58156477]]])</details></samp><samp style='font-size: 12px;'><details><summary><b style=\"color: #e55471;\">Tensor</b>(shape=(<b style=\"color: #828fdd;\">2</b>, <b style=\"color: #828fdd;\">2</b>, <b style=\"color: #828fdd;\">2</b>), inds=[<b style=\"color: #d569d8;\">_6eb2c2AAAcQ</b>, <b style=\"color: #4bd880;\">_6eb2c2AAAcR</b>, <b style=\"color: #93e59d;\">k85</b>], tags={<b style=\"color: #d968cf;\">I85</b>}),</summary>backend=<b style=\"color: #7fdd73;\">numpy</b>, dtype=<b style=\"color: #75d2c6;\">float64</b>, data=array([[[-0.34061272,  0.65317312],\n",
       "        [-0.41929444, -0.53060344]],\n",
       "\n",
       "       [[-0.53060344, -0.41929444],\n",
       "        [-0.65317312,  0.34061272]]])</details></samp><samp style='font-size: 12px;'><details><summary><b style=\"color: #e55471;\">Tensor</b>(shape=(<b style=\"color: #828fdd;\">2</b>, <b style=\"color: #828fdd;\">2</b>, <b style=\"color: #828fdd;\">2</b>), inds=[<b style=\"color: #4bd880;\">_6eb2c2AAAcR</b>, <b style=\"color: #c9df43;\">_6eb2c2AAAcS</b>, <b style=\"color: #bcd791;\">k86</b>], tags={<b style=\"color: #db99ce;\">I86</b>}),</summary>backend=<b style=\"color: #7fdd73;\">numpy</b>, dtype=<b style=\"color: #75d2c6;\">float64</b>, data=array([[[ 0.10275003, -0.06795046],\n",
       "        [-0.00703567, -0.99235864]],\n",
       "\n",
       "       [[-0.99235864, -0.00703567],\n",
       "        [ 0.06795046, -0.10275003]]])</details></samp><samp style='font-size: 12px;'><details><summary><b style=\"color: #e55471;\">Tensor</b>(shape=(<b style=\"color: #828fdd;\">2</b>, <b style=\"color: #828fdd;\">2</b>, <b style=\"color: #828fdd;\">2</b>), inds=[<b style=\"color: #c9df43;\">_6eb2c2AAAcS</b>, <b style=\"color: #6093e5;\">_6eb2c2AAAcT</b>, <b style=\"color: #4935da;\">k87</b>], tags={<b style=\"color: #e561b4;\">I87</b>}),</summary>backend=<b style=\"color: #7fdd73;\">numpy</b>, dtype=<b style=\"color: #75d2c6;\">float64</b>, data=array([[[-0.21749924,  0.62919735],\n",
       "        [-0.72169815, -0.18962214]],\n",
       "\n",
       "       [[-0.18962214, -0.72169815],\n",
       "        [-0.62919735,  0.21749924]]])</details></samp><samp style='font-size: 12px;'><details><summary><b style=\"color: #e55471;\">Tensor</b>(shape=(<b style=\"color: #828fdd;\">2</b>, <b style=\"color: #828fdd;\">2</b>, <b style=\"color: #828fdd;\">2</b>), inds=[<b style=\"color: #6093e5;\">_6eb2c2AAAcT</b>, <b style=\"color: #6977e1;\">_6eb2c2AAAcU</b>, <b style=\"color: #d088a6;\">k88</b>], tags={<b style=\"color: #307de0;\">I88</b>}),</summary>backend=<b style=\"color: #7fdd73;\">numpy</b>, dtype=<b style=\"color: #75d2c6;\">float64</b>, data=array([[[ 0.47087883,  0.08319183],\n",
       "        [-0.04466072,  0.87713036]],\n",
       "\n",
       "       [[-0.87713036,  0.04466072],\n",
       "        [ 0.08319183,  0.47087883]]])</details></samp><samp style='font-size: 12px;'><details><summary><b style=\"color: #e55471;\">Tensor</b>(shape=(<b style=\"color: #828fdd;\">2</b>, <b style=\"color: #828fdd;\">2</b>, <b style=\"color: #828fdd;\">2</b>), inds=[<b style=\"color: #6977e1;\">_6eb2c2AAAcU</b>, <b style=\"color: #abd150;\">_6eb2c2AAAcV</b>, <b style=\"color: #dd8d36;\">k89</b>], tags={<b style=\"color: #8dd2a1;\">I89</b>}),</summary>backend=<b style=\"color: #7fdd73;\">numpy</b>, dtype=<b style=\"color: #75d2c6;\">float64</b>, data=array([[[ 0.24375039, -0.71209103],\n",
       "        [ 0.58871545,  0.29483254]],\n",
       "\n",
       "       [[-0.29483254, -0.58871545],\n",
       "        [-0.71209103,  0.24375039]]])</details></samp><samp style='font-size: 12px;'><details><summary><b style=\"color: #e55471;\">Tensor</b>(shape=(<b style=\"color: #828fdd;\">2</b>, <b style=\"color: #828fdd;\">2</b>, <b style=\"color: #828fdd;\">2</b>), inds=[<b style=\"color: #abd150;\">_6eb2c2AAAcV</b>, <b style=\"color: #3fdf3f;\">_6eb2c2AAAcW</b>, <b style=\"color: #3fe0c0;\">k90</b>], tags={<b style=\"color: #9be1bb;\">I90</b>}),</summary>backend=<b style=\"color: #7fdd73;\">numpy</b>, dtype=<b style=\"color: #75d2c6;\">float64</b>, data=array([[[ 0.38263801,  0.0286472 ],\n",
       "        [-0.0118711 ,  0.9233778 ]],\n",
       "\n",
       "       [[-0.9233778 ,  0.0118711 ],\n",
       "        [ 0.0286472 ,  0.38263801]]])</details></samp><samp style='font-size: 12px;'><details><summary><b style=\"color: #e55471;\">Tensor</b>(shape=(<b style=\"color: #828fdd;\">2</b>, <b style=\"color: #828fdd;\">2</b>, <b style=\"color: #828fdd;\">2</b>), inds=[<b style=\"color: #3fdf3f;\">_6eb2c2AAAcW</b>, <b style=\"color: #71b2d0;\">_6eb2c2AAAcX</b>, <b style=\"color: #70e091;\">k91</b>], tags={<b style=\"color: #854cd5;\">I91</b>}),</summary>backend=<b style=\"color: #7fdd73;\">numpy</b>, dtype=<b style=\"color: #75d2c6;\">float64</b>, data=array([[[ 0.48425483,  0.51526426],\n",
       "        [-0.48425483,  0.51526426]],\n",
       "\n",
       "       [[-0.51526426,  0.48425483],\n",
       "        [ 0.51526426,  0.48425483]]])</details></samp><samp style='font-size: 12px;'><details><summary><b style=\"color: #e55471;\">Tensor</b>(shape=(<b style=\"color: #828fdd;\">2</b>, <b style=\"color: #828fdd;\">2</b>, <b style=\"color: #828fdd;\">2</b>), inds=[<b style=\"color: #71b2d0;\">_6eb2c2AAAcX</b>, <b style=\"color: #cfe060;\">_6eb2c2AAAcY</b>, <b style=\"color: #9d63d1;\">k92</b>], tags={<b style=\"color: #39ccd8;\">I92</b>}),</summary>backend=<b style=\"color: #7fdd73;\">numpy</b>, dtype=<b style=\"color: #75d2c6;\">float64</b>, data=array([[[ 9.87075320e-01,  1.02154141e-14],\n",
       "        [ 1.60257023e-01, -2.59065256e-15]],\n",
       "\n",
       "       [[ 6.36356910e-15, -1.60257023e-01],\n",
       "        [-1.30232106e-14,  9.87075320e-01]]])</details></samp><samp style='font-size: 12px;'><details><summary><b style=\"color: #e55471;\">Tensor</b>(shape=(<b style=\"color: #828fdd;\">2</b>, <b style=\"color: #828fdd;\">2</b>, <b style=\"color: #828fdd;\">2</b>), inds=[<b style=\"color: #cfe060;\">_6eb2c2AAAcY</b>, <b style=\"color: #a95acd;\">_6eb2c2AAAcZ</b>, <b style=\"color: #c8db48;\">k93</b>], tags={<b style=\"color: #a07fd3;\">I93</b>}),</summary>backend=<b style=\"color: #7fdd73;\">numpy</b>, dtype=<b style=\"color: #75d2c6;\">float64</b>, data=array([[[ 0.18522131, -0.56920796],\n",
       "        [-0.78986   , -0.13347864]],\n",
       "\n",
       "       [[-0.13347864, -0.78986   ],\n",
       "        [ 0.56920796, -0.18522131]]])</details></samp><samp style='font-size: 12px;'><details><summary><b style=\"color: #e55471;\">Tensor</b>(shape=(<b style=\"color: #828fdd;\">2</b>, <b style=\"color: #828fdd;\">2</b>, <b style=\"color: #828fdd;\">2</b>), inds=[<b style=\"color: #a95acd;\">_6eb2c2AAAcZ</b>, <b style=\"color: #8dafda;\">_6eb2c2AAAca</b>, <b style=\"color: #9d4cd3;\">k94</b>], tags={<b style=\"color: #db7ed3;\">I94</b>}),</summary>backend=<b style=\"color: #7fdd73;\">numpy</b>, dtype=<b style=\"color: #75d2c6;\">float64</b>, data=array([[[ 0.02663462, -0.84878211],\n",
       "        [-0.52632175, -0.04295279]],\n",
       "\n",
       "       [[ 0.04295279,  0.52632175],\n",
       "        [-0.84878211,  0.02663462]]])</details></samp><samp style='font-size: 12px;'><details><summary><b style=\"color: #e55471;\">Tensor</b>(shape=(<b style=\"color: #828fdd;\">2</b>, <b style=\"color: #828fdd;\">2</b>, <b style=\"color: #828fdd;\">2</b>), inds=[<b style=\"color: #8dafda;\">_6eb2c2AAAca</b>, <b style=\"color: #8cafda;\">_6eb2c2AAAcb</b>, <b style=\"color: #b197e0;\">k95</b>], tags={<b style=\"color: #869cd7;\">I95</b>}),</summary>backend=<b style=\"color: #7fdd73;\">numpy</b>, dtype=<b style=\"color: #75d2c6;\">float64</b>, data=array([[[ 0.10568046, -0.66362931],\n",
       "        [-0.73437564, -0.0954997 ]],\n",
       "\n",
       "       [[-0.0954997 , -0.73437564],\n",
       "        [ 0.66362931, -0.10568046]]])</details></samp><samp style='font-size: 12px;'><details><summary><b style=\"color: #e55471;\">Tensor</b>(shape=(<b style=\"color: #828fdd;\">2</b>, <b style=\"color: #828fdd;\">2</b>, <b style=\"color: #828fdd;\">2</b>), inds=[<b style=\"color: #8cafda;\">_6eb2c2AAAcb</b>, <b style=\"color: #7a50d9;\">_6eb2c2AAAcc</b>, <b style=\"color: #b359e0;\">k96</b>], tags={<b style=\"color: #5cc9e5;\">I96</b>}),</summary>backend=<b style=\"color: #7fdd73;\">numpy</b>, dtype=<b style=\"color: #75d2c6;\">float64</b>, data=array([[[-0.67706399, -0.31977642],\n",
       "        [ 0.42728201, -0.50671242]],\n",
       "\n",
       "       [[ 0.50671242, -0.42728201],\n",
       "        [-0.31977642, -0.67706399]]])</details></samp><samp style='font-size: 12px;'><details><summary><b style=\"color: #e55471;\">Tensor</b>(shape=(<b style=\"color: #828fdd;\">2</b>, <b style=\"color: #828fdd;\">2</b>, <b style=\"color: #828fdd;\">2</b>), inds=[<b style=\"color: #7a50d9;\">_6eb2c2AAAcc</b>, <b style=\"color: #92d19f;\">_6eb2c2AAAcd</b>, <b style=\"color: #675ece;\">k97</b>], tags={<b style=\"color: #d59cde;\">I97</b>}),</summary>backend=<b style=\"color: #7fdd73;\">numpy</b>, dtype=<b style=\"color: #75d2c6;\">float64</b>, data=array([[[ 0.15599367, -0.68968542],\n",
       "        [ 0.15599367,  0.68968542]],\n",
       "\n",
       "       [[-0.68968542, -0.15599367],\n",
       "        [-0.68968542,  0.15599367]]])</details></samp><samp style='font-size: 12px;'><details><summary><b style=\"color: #e55471;\">Tensor</b>(shape=(<b style=\"color: #828fdd;\">2</b>, <b style=\"color: #828fdd;\">2</b>, <b style=\"color: #828fdd;\">2</b>), inds=[<b style=\"color: #92d19f;\">_6eb2c2AAAcd</b>, <b style=\"color: #cf8787;\">_6eb2c2AAAce</b>, <b style=\"color: #d79764;\">k98</b>], tags={<b style=\"color: #64d478;\">I98</b>}),</summary>backend=<b style=\"color: #7fdd73;\">numpy</b>, dtype=<b style=\"color: #75d2c6;\">float64</b>, data=array([[[-2.14092609e-16, -4.27273275e-01],\n",
       "        [ 7.57829729e-15, -9.04122529e-01]],\n",
       "\n",
       "       [[ 9.04122529e-01, -9.02803164e-15],\n",
       "        [-4.27273275e-01,  4.71027738e-16]]])</details></samp><samp style='font-size: 12px;'><details><summary><b style=\"color: #e55471;\">Tensor</b>(shape=(<b style=\"color: #828fdd;\">2</b>, <b style=\"color: #828fdd;\">2</b>, <b style=\"color: #828fdd;\">2</b>), inds=[<b style=\"color: #cf8787;\">_6eb2c2AAAce</b>, <b style=\"color: #5958d6;\">_6eb2c2AAAcf</b>, <b style=\"color: #e247a5;\">k99</b>], tags={<b style=\"color: #97a4de;\">I99</b>}),</summary>backend=<b style=\"color: #7fdd73;\">numpy</b>, dtype=<b style=\"color: #75d2c6;\">float64</b>, data=array([[[-0.11165766,  0.88832184],\n",
       "        [-0.31815904, -0.31175584]],\n",
       "\n",
       "       [[ 0.31175584,  0.31815904],\n",
       "        [ 0.88832184, -0.11165766]]])</details></samp><p>...</p></details></samp>"
      ],
      "text/plain": [
       "MatrixProductState(tensors=200, indices=399, L=200, max_bond=2)"
      ]
     },
     "execution_count": 70,
     "metadata": {},
     "output_type": "execute_result"
    }
   ],
   "source": [
    "q_b"
   ]
  },
  {
   "cell_type": "code",
   "execution_count": 71,
   "id": "82213018-5333-48da-9507-75e8c6d2933a",
   "metadata": {},
   "outputs": [],
   "source": [
    "symmetry_site_pairs = [\n",
    "    (i, np_X) for i in range(50, 50+100, 2)\n",
    "]\n",
    "\n",
    "problem_rdm_b = generate_problem_rdm(\n",
    "    q_b,\n",
    "    symmetry_site_pairs,\n",
    "    50,\n",
    "    100,\n",
    "    3\n",
    ")"
   ]
  },
  {
   "cell_type": "code",
   "execution_count": 72,
   "id": "12504467-b363-4474-9912-4c8e0fe7aea3",
   "metadata": {},
   "outputs": [
    {
     "data": {
      "image/png": "[encoded data removed]",
      "text/plain": [
       "<Figure size 600x600 with 1 Axes>"
      ]
     },
     "metadata": {
      "needs_background": "light"
     },
     "output_type": "display_data"
    }
   ],
   "source": [
    "problem_rdm_b.draw()"
   ]
  },
  {
   "cell_type": "code",
   "execution_count": 73,
   "id": "c7da6fc3-bbc9-4321-a60c-f6cbd4f020a5",
   "metadata": {},
   "outputs": [],
   "source": [
    "total_physical_dim=8"
   ]
  },
  {
   "cell_type": "code",
   "execution_count": 74,
   "id": "ce624c60-b004-4af8-b2e2-af4ee9448bfb",
   "metadata": {},
   "outputs": [],
   "source": [
    "num_boundary_sites=3\n",
    "left_most_symmetry_site=50\n",
    "num_symmetry_sites=100"
   ]
  },
  {
   "cell_type": "code",
   "execution_count": 75,
   "id": "08339e2c-f6f8-4e86-84fd-891250ac5b34",
   "metadata": {},
   "outputs": [],
   "source": [
    "num_iterations = int(1e4) \n",
    "num_seeds = 5\n",
    "bond_dimension=5"
   ]
  },
  {
   "cell_type": "code",
   "execution_count": 76,
   "id": "2eb3c68e-f143-4271-b292-0661094f87a8",
   "metadata": {},
   "outputs": [
    {
     "name": "stderr",
     "output_type": "stream",
     "text": [
      "  0%|                                                                                                                                                                             | 0/10000 [00:00<?, ?it/s]/Users/kierancooney/.pyenv/versions/num_spt_venv_p11/lib/python3.11/site-packages/quimb/tensor/optimize.py:135: UserWarning: dtype mismatch between input parameter and updated values. This can occur e.g. with jax and double precision arrays (in which case consider setting `jax.config.update(\"jax_enable_x64\", True)` at startup or using single precision parameters directly). For now casting from complex64 to complex128.\n",
      "  warnings.warn(\n",
      "+0.000061764957 [best: +0.000059939692] :  30%|███████████████████████████████████▏                                                                                  | 2977/10000 [00:02<00:04, 1439.52it/s]IOPub message rate exceeded.\n",
      "The Jupyter server will temporarily stop sending output\n",
      "to the client in order to avoid crashing it.\n",
      "To change this limit, set the config variable\n",
      "`--ServerApp.iopub_msg_rate_limit`.\n",
      "\n",
      "Current values:\n",
      "ServerApp.iopub_msg_rate_limit=1000.0 (msgs/sec)\n",
      "ServerApp.rate_limit_window=3.0 (secs)\n",
      "\n",
      "+0.000004685733 [best: +0.000000229469] :  80%|██████████████████████████████████████████████████████████████████████████████████████████████                        | 7970/10000 [00:06<00:01, 1448.73it/s]IOPub message rate exceeded.\n",
      "The Jupyter server will temporarily stop sending output\n",
      "to the client in order to avoid crashing it.\n",
      "To change this limit, set the config variable\n",
      "`--ServerApp.iopub_msg_rate_limit`.\n",
      "\n",
      "Current values:\n",
      "ServerApp.iopub_msg_rate_limit=1000.0 (msgs/sec)\n",
      "ServerApp.rate_limit_window=3.0 (secs)\n",
      "\n",
      "+0.000087242261 [best: +0.000087242261] :  30%|███████████████████████████████████▏                                                                                  | 2978/10000 [00:02<00:04, 1429.50it/s]IOPub message rate exceeded.\n",
      "The Jupyter server will temporarily stop sending output\n",
      "to the client in order to avoid crashing it.\n",
      "To change this limit, set the config variable\n",
      "`--ServerApp.iopub_msg_rate_limit`.\n",
      "\n",
      "Current values:\n",
      "ServerApp.iopub_msg_rate_limit=1000.0 (msgs/sec)\n",
      "ServerApp.rate_limit_window=3.0 (secs)\n",
      "\n",
      "+0.000003675308 [best: +0.000000533611] :  79%|█████████████████████████████████████████████████████████████████████████████████████████████▏                        | 7898/10000 [00:06<00:01, 1408.50it/s]IOPub message rate exceeded.\n",
      "The Jupyter server will temporarily stop sending output\n",
      "to the client in order to avoid crashing it.\n",
      "To change this limit, set the config variable\n",
      "`--ServerApp.iopub_msg_rate_limit`.\n",
      "\n",
      "Current values:\n",
      "ServerApp.iopub_msg_rate_limit=1000.0 (msgs/sec)\n",
      "ServerApp.rate_limit_window=3.0 (secs)\n",
      "\n",
      "+0.000002689115 [best: -0.000001334128] : : 10001it [00:07, 1332.61it/s]                                                                                                                                    \n",
      "+0.000118102354 [best: +0.000115481584] :  27%|███████████████████████████████▋                                                                                      | 2684/10000 [00:02<00:05, 1435.90it/s]IOPub message rate exceeded.\n",
      "The Jupyter server will temporarily stop sending output\n",
      "to the client in order to avoid crashing it.\n",
      "To change this limit, set the config variable\n",
      "`--ServerApp.iopub_msg_rate_limit`.\n",
      "\n",
      "Current values:\n",
      "ServerApp.iopub_msg_rate_limit=1000.0 (msgs/sec)\n",
      "ServerApp.rate_limit_window=3.0 (secs)\n",
      "\n",
      "+0.000002402606 [best: -0.000000317822] :  77%|███████████████████████████████████████████████████████████████████████████████████████████                           | 7713/10000 [00:05<00:01, 1454.17it/s]IOPub message rate exceeded.\n",
      "The Jupyter server will temporarily stop sending output\n",
      "to the client in order to avoid crashing it.\n",
      "To change this limit, set the config variable\n",
      "`--ServerApp.iopub_msg_rate_limit`.\n",
      "\n",
      "Current values:\n",
      "ServerApp.iopub_msg_rate_limit=1000.0 (msgs/sec)\n",
      "ServerApp.rate_limit_window=3.0 (secs)\n",
      "\n",
      "+0.000001131630 [best: -0.000001494590] : : 10001it [00:07, 1393.85it/s]                                                                                                                                    \n",
      "+0.000083460254 [best: +0.000083460254] :  28%|████████████████████████████████▊                                                                                     | 2778/10000 [00:02<00:05, 1407.62it/s]IOPub message rate exceeded.\n",
      "The Jupyter server will temporarily stop sending output\n",
      "to the client in order to avoid crashing it.\n",
      "To change this limit, set the config variable\n",
      "`--ServerApp.iopub_msg_rate_limit`.\n",
      "\n",
      "Current values:\n",
      "ServerApp.iopub_msg_rate_limit=1000.0 (msgs/sec)\n",
      "ServerApp.rate_limit_window=3.0 (secs)\n",
      "\n",
      "+0.000001590622 [best: -0.000000994668] :  78%|███████████████████████████████████████████████████████████████████████████████████████████▊                          | 7780/10000 [00:05<00:01, 1449.23it/s]IOPub message rate exceeded.\n",
      "The Jupyter server will temporarily stop sending output\n",
      "to the client in order to avoid crashing it.\n",
      "To change this limit, set the config variable\n",
      "`--ServerApp.iopub_msg_rate_limit`.\n",
      "\n",
      "Current values:\n",
      "ServerApp.iopub_msg_rate_limit=1000.0 (msgs/sec)\n",
      "ServerApp.rate_limit_window=3.0 (secs)\n",
      "\n",
      "+0.000014048322 [best: -0.000001566912] : : 10001it [00:10, 961.68it/s]                                                                                                                                     \n",
      "+0.000164821016 [best: +0.000162446609] :  25%|█████████████████████████████▉                                                                                        | 2542/10000 [00:02<00:05, 1358.71it/s]IOPub message rate exceeded.\n",
      "The Jupyter server will temporarily stop sending output\n",
      "to the client in order to avoid crashing it.\n",
      "To change this limit, set the config variable\n",
      "`--ServerApp.iopub_msg_rate_limit`.\n",
      "\n",
      "Current values:\n",
      "ServerApp.iopub_msg_rate_limit=1000.0 (msgs/sec)\n",
      "ServerApp.rate_limit_window=3.0 (secs)\n",
      "\n",
      "+0.000001586614 [best: +0.000001236140] :  74%|██████████████████████████████████████████████████████████████████████████████████████▊                               | 7354/10000 [00:05<00:01, 1422.87it/s]IOPub message rate exceeded.\n",
      "The Jupyter server will temporarily stop sending output\n",
      "to the client in order to avoid crashing it.\n",
      "To change this limit, set the config variable\n",
      "`--ServerApp.iopub_msg_rate_limit`.\n",
      "\n",
      "Current values:\n",
      "ServerApp.iopub_msg_rate_limit=1000.0 (msgs/sec)\n",
      "ServerApp.rate_limit_window=3.0 (secs)\n",
      "\n",
      "-0.000000389377 [best: -0.000001365080] : : 10001it [00:07, 1326.86it/s]                                                                                                                                    \n"
     ]
    }
   ],
   "source": [
    "optimizers = list()\n",
    "\n",
    "for _ in range(num_seeds):\n",
    "\n",
    "    mpo = initialize_mpo(\n",
    "        left_most_symmetry_site,\n",
    "        num_symmetry_sites,\n",
    "        num_boundary_sites,\n",
    "        bond_dimension,\n",
    "        phys_dim=2\n",
    "    )\n",
    "\n",
    "    optmzr = qtn.optimize.TNOptimizer(\n",
    "        mpo,                                # our initial input, the tensors of which to optimize\n",
    "        loss_fn=overall_loss_function,\n",
    "        loss_kwargs={\n",
    "            'rdm_tn': problem_rdm_b,\n",
    "            'total_physical_dimension': total_physical_dim,\n",
    "            'unitary_cost_coefficient': 1,\n",
    "            'overlap_cost_coefficient': 1\n",
    "        },\n",
    "        autodiff_backend='jax',      # {'jax', 'tensorflow', 'autograd'}\n",
    "        optimizer='adam',               # supplied to scipy.minimize\n",
    "    )\n",
    "\n",
    "    optmzr.optimize(\n",
    "        num_iterations,\n",
    "        #learning_rate=hyperparams['alpha'],\n",
    "        #beta1=hyperparams['beta_1'],\n",
    "        #beta2=hyperparams['beta_2']\n",
    "    )\n",
    "\n",
    "    optimizers.append(optmzr)"
   ]
  },
  {
   "cell_type": "code",
   "execution_count": 77,
   "id": "0ce8f14d-8825-4f1e-a243-b91131e39621",
   "metadata": {},
   "outputs": [
    {
     "data": {
      "text/plain": [
       "[<TNOptimizer(d=560, backend=jax)>,\n",
       " <TNOptimizer(d=560, backend=jax)>,\n",
       " <TNOptimizer(d=560, backend=jax)>,\n",
       " <TNOptimizer(d=560, backend=jax)>,\n",
       " <TNOptimizer(d=560, backend=jax)>]"
      ]
     },
     "execution_count": 77,
     "metadata": {},
     "output_type": "execute_result"
    }
   ],
   "source": [
    "optimizers"
   ]
  },
  {
   "cell_type": "code",
   "execution_count": 78,
   "id": "fa84ae85-80dc-4ff8-be17-26d643f6b861",
   "metadata": {},
   "outputs": [],
   "source": [
    "final_scores = list()\n",
    "\n",
    "for o in optimizers:\n",
    "    mpo_opt = o.get_tn_opt()\n",
    "    ml, mr = split_mpo_pair(mpo_opt)\n",
    "\n",
    "    out = (\n",
    "        overlap_loss_function(ml, mr, problem_rdm_b),\n",
    "        unitarity_tn(ml, total_physical_dim),\n",
    "        unitarity_tn(mr, total_physical_dim),\n",
    "    )\n",
    "\n",
    "    final_scores.append(out)"
   ]
  },
  {
   "cell_type": "code",
   "execution_count": 79,
   "id": "cabbd941-7fe3-4d35-b45d-4b596d1d6792",
   "metadata": {},
   "outputs": [
    {
     "data": {
      "text/plain": [
       "[(Array(1.6160711e-06+1.4970505e-13j, dtype=complex64),\n",
       "  Array(0., dtype=float32, weak_type=True),\n",
       "  Array(0., dtype=float32, weak_type=True)),\n",
       " (Array(7.8176595e-07+6.492005e-12j, dtype=complex64),\n",
       "  Array(1.9073486e-06, dtype=float32, weak_type=True),\n",
       "  Array(0., dtype=float32, weak_type=True)),\n",
       " (Array(6.5459983e-07-1.0333688e-12j, dtype=complex64),\n",
       "  Array(0., dtype=float32, weak_type=True),\n",
       "  Array(9.536743e-07, dtype=float32, weak_type=True)),\n",
       " (Array(2.2004407e-07-3.949774e-13j, dtype=complex64),\n",
       "  Array(1.5258789e-05, dtype=float32, weak_type=True),\n",
       "  Array(1.335144e-05, dtype=float32, weak_type=True)),\n",
       " (Array(5.642079e-07-9.538035e-12j, dtype=complex64),\n",
       "  Array(0., dtype=float32, weak_type=True),\n",
       "  Array(-9.536743e-07, dtype=float32, weak_type=True))]"
      ]
     },
     "execution_count": 79,
     "metadata": {},
     "output_type": "execute_result"
    }
   ],
   "source": [
    "final_scores"
   ]
  },
  {
   "cell_type": "markdown",
   "id": "1fd1fa05-b4bd-49ff-a72e-dae3cf6226ee",
   "metadata": {},
   "source": [
    "All working."
   ]
  },
  {
   "cell_type": "markdown",
   "id": "32ef639f-cafa-40f4-b42c-526564aa7743",
   "metadata": {},
   "source": [
    "## 6 - Autograd autodiff_backend"
   ]
  },
  {
   "cell_type": "code",
   "execution_count": 53,
   "id": "30aa4371-2537-43eb-8026-796452ae3fb0",
   "metadata": {},
   "outputs": [],
   "source": [
    "from autograd import numpy as anp"
   ]
  },
  {
   "cell_type": "code",
   "execution_count": 62,
   "id": "4878737e-01f9-4f18-95f2-9fe525f956a1",
   "metadata": {},
   "outputs": [],
   "source": [
    "def overlap_loss_function(ml, mr, rdm_tn, epsilon=1e-12):\n",
    "    c = (rdm_tn & ml & mr) ^ ...\n",
    "\n",
    "    c_abs_squared = (\n",
    "        c\n",
    "        *anp.conjugate(c)\n",
    "    )\n",
    "    #c_abs_squared = c_abs_squared.astype('float32')\n",
    "    c_abs = (anp.sqrt(c_abs_squared+epsilon))\n",
    "\n",
    "    target = anp.sqrt(1+epsilon)\n",
    "    loss = (c_abs - target)**2\n",
    "\n",
    "    return loss"
   ]
  },
  {
   "cell_type": "code",
   "execution_count": 63,
   "id": "4d03190a-384c-44bb-a3b0-eddfd1852c1d",
   "metadata": {},
   "outputs": [],
   "source": [
    "total_physical_dim = 2**9"
   ]
  },
  {
   "cell_type": "code",
   "execution_count": 64,
   "id": "50327f4a-5168-45ff-919b-d1ce1490b5cd",
   "metadata": {},
   "outputs": [],
   "source": [
    "def unitarity_tn(tn, total_physical_dim):\n",
    "    ms = [tn.copy(), tn.copy(), tn.copy()]\n",
    "\n",
    "    relabel_mpo(ms[0], 'k', 'l')\n",
    "    relabel_mpo(ms[1], 'm', 'l')\n",
    "    relabel_mpo(ms[2], 'm', 'b')\n",
    "\n",
    "    ms[0] = ms[0].conj()\n",
    "    ms[2] = ms[2].conj()\n",
    "\n",
    "    n2tn = (tn & tn.conj())\n",
    "    n2 = n2tn.contract(n2tn.tag_map)\n",
    "    n4tn = (tn & ms[0] & ms[1] & ms[2])\n",
    "    n4 = n4tn.contract(n4tn.tag_map)\n",
    "\n",
    "    out = np.real(n4 - 2*n2 + total_physical_dim)\n",
    "\n",
    "    return out"
   ]
  },
  {
   "cell_type": "code",
   "execution_count": 65,
   "id": "388fcd04-5821-4d31-af20-8a88b766c89c",
   "metadata": {},
   "outputs": [],
   "source": [
    "def overall_loss_function(mpo_pair, rdm_tn, total_physical_dimension,\n",
    "    unitary_cost_coefficient=1, overlap_cost_coefficient=1, losses=None):\n",
    "    ml, mr = split_mpo_pair(mpo_pair)\n",
    "\n",
    "    o_loss = overlap_loss_function(ml, mr, rdm_tn)\n",
    "    ul_loss = anp.sqrt(1 + unitarity_tn(ml, total_physical_dimension)) - 1\n",
    "    ur_loss = anp.sqrt(1 + unitarity_tn(mr, total_physical_dimension)) - 1\n",
    "\n",
    "    out = (\n",
    "        unitary_cost_coefficient*(ul_loss+ur_loss)\n",
    "        + overlap_cost_coefficient*o_loss\n",
    "    )\n",
    "\n",
    "    out = anp.real(out)\n",
    "\n",
    "    if losses is not None:\n",
    "        losses.append((o_loss, ul_loss, ur_loss))\n",
    "    return out"
   ]
  },
  {
   "cell_type": "code",
   "execution_count": 66,
   "id": "44146770-9cfd-4e21-8f11-52d76d8aa36c",
   "metadata": {},
   "outputs": [],
   "source": [
    "num_iterations = int(1e4) \n",
    "num_seeds = 5\n",
    "\n",
    "hyperparameter_dists_dict = {\n",
    "    'alpha': scipy.stats.loguniform(1e-4, 1e-2),\n",
    "    'beta_1': scipy.stats.uniform(0.1, 0.5),\n",
    "    'beta_2': scipy.stats.uniform(0.1, 0.5),\n",
    "    'bond_dimension': scipy.stats.randint(4, 8),\n",
    "    'overlap_learning_rate': scipy.stats.randint(100, 500)\n",
    "}"
   ]
  },
  {
   "cell_type": "code",
   "execution_count": 67,
   "id": "1e5664e9-d39a-4db9-bb33-1c6c9619ec18",
   "metadata": {},
   "outputs": [],
   "source": [
    "HyperParams = namedtuple('HyperParams', hyperparameter_dists_dict)"
   ]
  },
  {
   "cell_type": "code",
   "execution_count": 68,
   "id": "0ebc02f7-e0b8-4fe1-947d-0ab212af32ac",
   "metadata": {},
   "outputs": [],
   "source": [
    "left_most_symmetry_site=60\n",
    "num_symmetry_sites=80\n",
    "num_boundary_sites=6"
   ]
  },
  {
   "cell_type": "code",
   "execution_count": 69,
   "id": "ae3e3bc2-2a11-4e20-b538-36c390ddd496",
   "metadata": {},
   "outputs": [
    {
     "name": "stderr",
     "output_type": "stream",
     "text": [
      "+421.999156000844 [best: +421.999156000844] :   0%|                                                                                                                     | 1/10000 [00:01<3:16:42,  1.18s/it]\n",
      "+173.999652000348 [best: +173.999652000348] :   0%|                                                                                                                     | 1/10000 [00:00<2:14:50,  1.24it/s]\n",
      "+285.999428000572 [best: +285.999428000572] :   0%|                                                                                                                       | 1/10000 [00:00<58:40,  2.84it/s]\n",
      "+163.999672000328 [best: +163.999672000328] :   0%|                                                                                                                     | 1/10000 [00:00<2:36:13,  1.07it/s]\n",
      "+131.999736000264 [best: +131.999736000264] :   0%|                                                                                                                     | 1/10000 [00:00<1:00:21,  2.76it/s]\n"
     ]
    }
   ],
   "source": [
    "optimizers = dict()\n",
    "\n",
    "for _ in range(num_seeds):\n",
    "    hyperparams ={k: v.rvs() for k, v in hyperparameter_dists_dict.items()}\n",
    "\n",
    "    mpo = initialize_mpo(\n",
    "        left_most_symmetry_site,\n",
    "        num_symmetry_sites,\n",
    "        num_boundary_sites,\n",
    "        hyperparams['bond_dimension']\n",
    "    )\n",
    "\n",
    "    optmzr = qtn.optimize.TNOptimizer(\n",
    "        mpo,                                # our initial input, the tensors of which to optimize\n",
    "        loss_fn=overall_loss_function,\n",
    "        loss_kwargs={\n",
    "            'rdm_tn': problem_rdm,\n",
    "            'total_physical_dimension': total_physical_dim,\n",
    "            'unitary_cost_coefficient': 0,\n",
    "            'overlap_cost_coefficient': hyperparams['overlap_learning_rate']\n",
    "        },\n",
    "        autodiff_backend='autograd',      # {'jax', 'tensorflow', 'autograd'}\n",
    "        optimizer='adam',               # supplied to scipy.minimize\n",
    "    )\n",
    "\n",
    "    optmzr.optimize(\n",
    "        num_iterations,\n",
    "        learning_rate=hyperparams['alpha'],\n",
    "        beta1=hyperparams['beta_1'],\n",
    "        beta2=hyperparams['beta_2']\n",
    "    )\n",
    "\n",
    "    optimizers[HyperParams(**hyperparams)] = optmzr"
   ]
  },
  {
   "cell_type": "code",
   "execution_count": 70,
   "id": "4be3b9d8-522c-453a-9864-264aac4567d4",
   "metadata": {},
   "outputs": [
    {
     "data": {
      "text/plain": [
       "{HyperParams(alpha=0.0017060412521306275, beta_1=0.22031868015247133, beta_2=0.5901063532634286, bond_dimension=5, overlap_learning_rate=422): <TNOptimizer(d=4400, backend=autograd)>,\n",
       " HyperParams(alpha=0.00023638644478081813, beta_1=0.13859299113623705, beta_2=0.11737805327128806, bond_dimension=5, overlap_learning_rate=174): <TNOptimizer(d=4400, backend=autograd)>,\n",
       " HyperParams(alpha=0.00022630121020948, beta_1=0.49212233246782466, beta_2=0.14764035842355075, bond_dimension=4, overlap_learning_rate=286): <TNOptimizer(d=2880, backend=autograd)>,\n",
       " HyperParams(alpha=0.0012005437017943146, beta_1=0.2833748967804979, beta_2=0.5152836508115556, bond_dimension=7, overlap_learning_rate=164): <TNOptimizer(d=8400, backend=autograd)>,\n",
       " HyperParams(alpha=0.0009105695990958645, beta_1=0.46273982360671795, beta_2=0.4211699052961636, bond_dimension=4, overlap_learning_rate=132): <TNOptimizer(d=2880, backend=autograd)>}"
      ]
     },
     "execution_count": 70,
     "metadata": {},
     "output_type": "execute_result"
    }
   ],
   "source": [
    "optimizers"
   ]
  },
  {
   "cell_type": "code",
   "execution_count": 71,
   "id": "c466d2cc-1348-4a77-84b4-a193ae0720ee",
   "metadata": {},
   "outputs": [],
   "source": [
    "optimizer_list = [\n",
    "    (k, v) for k, v in optimizers.items()\n",
    "]"
   ]
  },
  {
   "cell_type": "code",
   "execution_count": 72,
   "id": "5cb2a6de-2240-490f-aad5-12e5f0ada9ab",
   "metadata": {},
   "outputs": [
    {
     "data": {
      "text/plain": [
       "HyperParams(alpha=0.0017060412521306275, beta_1=0.22031868015247133, beta_2=0.5901063532634286, bond_dimension=5, overlap_learning_rate=422)"
      ]
     },
     "execution_count": 72,
     "metadata": {},
     "output_type": "execute_result"
    }
   ],
   "source": [
    "optimizer_list[0][0]"
   ]
  },
  {
   "cell_type": "code",
   "execution_count": 73,
   "id": "70dd380b-341c-4b56-a63c-1a1b6ca39644",
   "metadata": {},
   "outputs": [],
   "source": [
    "final_scores = list()\n",
    "\n",
    "for h, o in optimizer_list:\n",
    "    mpo_opt = o.get_tn_opt()\n",
    "    ml, mr = split_mpo_pair(mpo_opt)\n",
    "\n",
    "    out = (\n",
    "        overlap_loss_function(ml, mr, problem_rdm),\n",
    "        unitarity_tn(ml, total_physical_dim),\n",
    "        unitarity_tn(mr, total_physical_dim),\n",
    "    )\n",
    "\n",
    "    final_scores.append(out)"
   ]
  },
  {
   "cell_type": "code",
   "execution_count": 74,
   "id": "6d1ab6df-b8b1-4bcc-8d7f-6b4fde77f011",
   "metadata": {},
   "outputs": [
    {
     "data": {
      "text/plain": [
       "[((0.999998000002-0j), 510.0071531650075, 510.0090933623008),\n",
       " ((0.999998000002-0j), 510.00832602054186, 510.0101030820422),\n",
       " ((0.999998000002-0j), 510.01029073624017, 510.0098027884357),\n",
       " ((0.999998000002-0j), 510.00818112155855, 510.007877011304),\n",
       " ((0.999998000002-0j), 510.01140132816886, 510.0089316395967)]"
      ]
     },
     "execution_count": 74,
     "metadata": {},
     "output_type": "execute_result"
    }
   ],
   "source": [
    "final_scores"
   ]
  },
  {
   "cell_type": "markdown",
   "id": "e8a68b35-a2f8-4398-8312-4f6b16089dab",
   "metadata": {},
   "source": [
    "No change."
   ]
  },
  {
   "cell_type": "markdown",
   "id": "6814c4f4-0cea-486b-8068-7e35a0b1ebd2",
   "metadata": {},
   "source": [
    "## 7 - Autograd tensorflow backend"
   ]
  },
  {
   "cell_type": "code",
   "execution_count": 75,
   "id": "cd25275d-991d-44cf-8795-37a7716d03cf",
   "metadata": {},
   "outputs": [],
   "source": [
    "def overlap_loss_function(ml, mr, rdm_tn, epsilon=1e-12):\n",
    "    c = (rdm_tn & ml & mr) ^ ...\n",
    "\n",
    "    c_abs_squared = (\n",
    "        c\n",
    "        *np.conjugate(c)\n",
    "    )\n",
    "    #c_abs_squared = c_abs_squared.astype('float32')\n",
    "    c_abs = (np.sqrt(c_abs_squared+epsilon))\n",
    "\n",
    "    target = np.sqrt(1+epsilon)\n",
    "    loss = (c_abs - target)**2\n",
    "\n",
    "    return loss"
   ]
  },
  {
   "cell_type": "code",
   "execution_count": 76,
   "id": "b7422350-5637-4a6a-8fdc-d4c3734ec7fe",
   "metadata": {},
   "outputs": [],
   "source": [
    "total_physical_dim = 2**9"
   ]
  },
  {
   "cell_type": "code",
   "execution_count": 77,
   "id": "adaa2823-c58d-43e2-af1d-d51b20a317e1",
   "metadata": {},
   "outputs": [],
   "source": [
    "def unitarity_tn(tn, total_physical_dim):\n",
    "    ms = [tn.copy(), tn.copy(), tn.copy()]\n",
    "\n",
    "    relabel_mpo(ms[0], 'k', 'l')\n",
    "    relabel_mpo(ms[1], 'm', 'l')\n",
    "    relabel_mpo(ms[2], 'm', 'b')\n",
    "\n",
    "    ms[0] = ms[0].conj()\n",
    "    ms[2] = ms[2].conj()\n",
    "\n",
    "    n2tn = (tn & tn.conj())\n",
    "    n2 = n2tn.contract(n2tn.tag_map)\n",
    "    n4tn = (tn & ms[0] & ms[1] & ms[2])\n",
    "    n4 = n4tn.contract(n4tn.tag_map)\n",
    "\n",
    "    out = np.real(n4 - 2*n2 + total_physical_dim)\n",
    "\n",
    "    return out"
   ]
  },
  {
   "cell_type": "code",
   "execution_count": 78,
   "id": "04960236-69a3-42a6-aa33-6558a580772e",
   "metadata": {},
   "outputs": [],
   "source": [
    "def overall_loss_function(mpo_pair, rdm_tn, total_physical_dimension,\n",
    "    unitary_cost_coefficient=1, overlap_cost_coefficient=1, losses=None):\n",
    "    ml, mr = split_mpo_pair(mpo_pair)\n",
    "\n",
    "    o_loss = overlap_loss_function(ml, mr, rdm_tn)\n",
    "    ul_loss = np.sqrt(1 + unitarity_tn(ml, total_physical_dimension)) - 1\n",
    "    ur_loss = np.sqrt(1 + unitarity_tn(mr, total_physical_dimension)) - 1\n",
    "\n",
    "    out = (\n",
    "        unitary_cost_coefficient*(ul_loss+ur_loss)\n",
    "        + overlap_cost_coefficient*o_loss\n",
    "    )\n",
    "\n",
    "    out = np.real(out)\n",
    "\n",
    "    if losses is not None:\n",
    "        losses.append((o_loss, ul_loss, ur_loss))\n",
    "    return out"
   ]
  },
  {
   "cell_type": "code",
   "execution_count": 79,
   "id": "34d27857-334a-4770-888f-6b687b03bef4",
   "metadata": {},
   "outputs": [],
   "source": [
    "num_iterations = int(1e4) \n",
    "num_seeds = 5\n",
    "\n",
    "hyperparameter_dists_dict = {\n",
    "    'alpha': scipy.stats.loguniform(1e-4, 1e-2),\n",
    "    'beta_1': scipy.stats.uniform(0.1, 0.5),\n",
    "    'beta_2': scipy.stats.uniform(0.1, 0.5),\n",
    "    'bond_dimension': scipy.stats.randint(4, 8),\n",
    "    'overlap_learning_rate': scipy.stats.randint(100, 500)\n",
    "}"
   ]
  },
  {
   "cell_type": "code",
   "execution_count": 80,
   "id": "f80cc6ca-e525-4a60-bcde-3325d3ce2848",
   "metadata": {},
   "outputs": [],
   "source": [
    "HyperParams = namedtuple('HyperParams', hyperparameter_dists_dict)"
   ]
  },
  {
   "cell_type": "code",
   "execution_count": 81,
   "id": "023f24c2-e253-44fe-96aa-804b7466ebdb",
   "metadata": {},
   "outputs": [],
   "source": [
    "left_most_symmetry_site=60\n",
    "num_symmetry_sites=80\n",
    "num_boundary_sites=6"
   ]
  },
  {
   "cell_type": "code",
   "execution_count": 83,
   "id": "9b3b315c-57e2-4f95-bbb6-4a7a386cfc56",
   "metadata": {},
   "outputs": [
    {
     "name": "stderr",
     "output_type": "stream",
     "text": [
      "  0%|                                                                                                                                                                             | 0/10000 [00:00<?, ?it/s]\n"
     ]
    },
    {
     "ename": "AttributeError",
     "evalue": "'numpy.float64' object has no attribute '_id'",
     "output_type": "error",
     "traceback": [
      "\u001b[0;31m---------------------------------------------------------------------------\u001b[0m",
      "\u001b[0;31mAttributeError\u001b[0m                            Traceback (most recent call last)",
      "Cell \u001b[0;32mIn[83], line 26\u001b[0m\n\u001b[1;32m      6\u001b[0m mpo \u001b[38;5;241m=\u001b[39m initialize_mpo(\n\u001b[1;32m      7\u001b[0m     left_most_symmetry_site,\n\u001b[1;32m      8\u001b[0m     num_symmetry_sites,\n\u001b[1;32m      9\u001b[0m     num_boundary_sites,\n\u001b[1;32m     10\u001b[0m     hyperparams[\u001b[38;5;124m'\u001b[39m\u001b[38;5;124mbond_dimension\u001b[39m\u001b[38;5;124m'\u001b[39m]\n\u001b[1;32m     11\u001b[0m )\n\u001b[1;32m     13\u001b[0m optmzr \u001b[38;5;241m=\u001b[39m qtn\u001b[38;5;241m.\u001b[39moptimize\u001b[38;5;241m.\u001b[39mTNOptimizer(\n\u001b[1;32m     14\u001b[0m     mpo,                                \u001b[38;5;66;03m# our initial input, the tensors of which to optimize\u001b[39;00m\n\u001b[1;32m     15\u001b[0m     loss_fn\u001b[38;5;241m=\u001b[39moverall_loss_function,\n\u001b[0;32m   (...)\u001b[0m\n\u001b[1;32m     23\u001b[0m     optimizer\u001b[38;5;241m=\u001b[39m\u001b[38;5;124m'\u001b[39m\u001b[38;5;124madam\u001b[39m\u001b[38;5;124m'\u001b[39m,               \u001b[38;5;66;03m# supplied to scipy.minimize\u001b[39;00m\n\u001b[1;32m     24\u001b[0m )\n\u001b[0;32m---> 26\u001b[0m \u001b[43moptmzr\u001b[49m\u001b[38;5;241;43m.\u001b[39;49m\u001b[43moptimize\u001b[49m\u001b[43m(\u001b[49m\n\u001b[1;32m     27\u001b[0m \u001b[43m    \u001b[49m\u001b[43mnum_iterations\u001b[49m\u001b[43m,\u001b[49m\n\u001b[1;32m     28\u001b[0m \u001b[43m    \u001b[49m\u001b[43mlearning_rate\u001b[49m\u001b[38;5;241;43m=\u001b[39;49m\u001b[43mhyperparams\u001b[49m\u001b[43m[\u001b[49m\u001b[38;5;124;43m'\u001b[39;49m\u001b[38;5;124;43malpha\u001b[39;49m\u001b[38;5;124;43m'\u001b[39;49m\u001b[43m]\u001b[49m\u001b[43m,\u001b[49m\n\u001b[1;32m     29\u001b[0m \u001b[43m    \u001b[49m\u001b[43mbeta1\u001b[49m\u001b[38;5;241;43m=\u001b[39;49m\u001b[43mhyperparams\u001b[49m\u001b[43m[\u001b[49m\u001b[38;5;124;43m'\u001b[39;49m\u001b[38;5;124;43mbeta_1\u001b[39;49m\u001b[38;5;124;43m'\u001b[39;49m\u001b[43m]\u001b[49m\u001b[43m,\u001b[49m\n\u001b[1;32m     30\u001b[0m \u001b[43m    \u001b[49m\u001b[43mbeta2\u001b[49m\u001b[38;5;241;43m=\u001b[39;49m\u001b[43mhyperparams\u001b[49m\u001b[43m[\u001b[49m\u001b[38;5;124;43m'\u001b[39;49m\u001b[38;5;124;43mbeta_2\u001b[39;49m\u001b[38;5;124;43m'\u001b[39;49m\u001b[43m]\u001b[49m\n\u001b[1;32m     31\u001b[0m \u001b[43m\u001b[49m\u001b[43m)\u001b[49m\n\u001b[1;32m     33\u001b[0m optimizers[HyperParams(\u001b[38;5;241m*\u001b[39m\u001b[38;5;241m*\u001b[39mhyperparams)] \u001b[38;5;241m=\u001b[39m optmzr\n",
      "File \u001b[0;32m~/.pyenv/versions/num_spt_venv_p11/lib/python3.11/site-packages/quimb/tensor/optimize.py:1502\u001b[0m, in \u001b[0;36mTNOptimizer.optimize\u001b[0;34m(self, n, tol, jac, hessp, optlib, **options)\u001b[0m\n\u001b[1;32m   1469\u001b[0m \u001b[38;5;28;01mdef\u001b[39;00m \u001b[38;5;21moptimize\u001b[39m(\n\u001b[1;32m   1470\u001b[0m     \u001b[38;5;28mself\u001b[39m, n, tol\u001b[38;5;241m=\u001b[39m\u001b[38;5;28;01mNone\u001b[39;00m, jac\u001b[38;5;241m=\u001b[39m\u001b[38;5;28;01mTrue\u001b[39;00m, hessp\u001b[38;5;241m=\u001b[39m\u001b[38;5;28;01mFalse\u001b[39;00m, optlib\u001b[38;5;241m=\u001b[39m\u001b[38;5;124m\"\u001b[39m\u001b[38;5;124mscipy\u001b[39m\u001b[38;5;124m\"\u001b[39m, \u001b[38;5;241m*\u001b[39m\u001b[38;5;241m*\u001b[39moptions\n\u001b[1;32m   1471\u001b[0m ):\n\u001b[1;32m   1472\u001b[0m \u001b[38;5;250m    \u001b[39m\u001b[38;5;124;03m\"\"\"Run the optimizer for ``n`` function evaluations, using by default\u001b[39;00m\n\u001b[1;32m   1473\u001b[0m \u001b[38;5;124;03m    :func:`scipy.optimize.minimize` as the driver for the vectorized\u001b[39;00m\n\u001b[1;32m   1474\u001b[0m \u001b[38;5;124;03m    computation. Supplying the gradient and hessian vector product is\u001b[39;00m\n\u001b[0;32m   (...)\u001b[0m\n\u001b[1;32m   1500\u001b[0m \u001b[38;5;124;03m    tn_opt : TensorNetwork\u001b[39;00m\n\u001b[1;32m   1501\u001b[0m \u001b[38;5;124;03m    \"\"\"\u001b[39;00m\n\u001b[0;32m-> 1502\u001b[0m     \u001b[38;5;28;01mreturn\u001b[39;00m \u001b[43m{\u001b[49m\n\u001b[1;32m   1503\u001b[0m \u001b[43m        \u001b[49m\u001b[38;5;124;43m\"\u001b[39;49m\u001b[38;5;124;43mscipy\u001b[39;49m\u001b[38;5;124;43m\"\u001b[39;49m\u001b[43m:\u001b[49m\u001b[43m \u001b[49m\u001b[38;5;28;43mself\u001b[39;49m\u001b[38;5;241;43m.\u001b[39;49m\u001b[43moptimize_scipy\u001b[49m\u001b[43m,\u001b[49m\n\u001b[1;32m   1504\u001b[0m \u001b[43m        \u001b[49m\u001b[38;5;124;43m\"\u001b[39;49m\u001b[38;5;124;43mnlopt\u001b[39;49m\u001b[38;5;124;43m\"\u001b[39;49m\u001b[43m:\u001b[49m\u001b[43m \u001b[49m\u001b[38;5;28;43mself\u001b[39;49m\u001b[38;5;241;43m.\u001b[39;49m\u001b[43moptimize_nlopt\u001b[49m\u001b[43m,\u001b[49m\n\u001b[1;32m   1505\u001b[0m \u001b[43m    \u001b[49m\u001b[43m}\u001b[49m\u001b[43m[\u001b[49m\u001b[43moptlib\u001b[49m\u001b[43m]\u001b[49m\u001b[43m(\u001b[49m\u001b[43mn\u001b[49m\u001b[38;5;241;43m=\u001b[39;49m\u001b[43mn\u001b[49m\u001b[43m,\u001b[49m\u001b[43m \u001b[49m\u001b[43mtol\u001b[49m\u001b[38;5;241;43m=\u001b[39;49m\u001b[43mtol\u001b[49m\u001b[43m,\u001b[49m\u001b[43m \u001b[49m\u001b[43mjac\u001b[49m\u001b[38;5;241;43m=\u001b[39;49m\u001b[43mjac\u001b[49m\u001b[43m,\u001b[49m\u001b[43m \u001b[49m\u001b[43mhessp\u001b[49m\u001b[38;5;241;43m=\u001b[39;49m\u001b[43mhessp\u001b[49m\u001b[43m,\u001b[49m\u001b[43m \u001b[49m\u001b[38;5;241;43m*\u001b[39;49m\u001b[38;5;241;43m*\u001b[39;49m\u001b[43moptions\u001b[49m\u001b[43m)\u001b[49m\n",
      "File \u001b[0;32m~/.pyenv/versions/num_spt_venv_p11/lib/python3.11/site-packages/quimb/tensor/optimize.py:1523\u001b[0m, in \u001b[0;36mTNOptimizer.optimize_scipy\u001b[0;34m(self, n, tol, jac, hessp, **options)\u001b[0m\n\u001b[1;32m   1521\u001b[0m \u001b[38;5;28;01mtry\u001b[39;00m:\n\u001b[1;32m   1522\u001b[0m     \u001b[38;5;28mself\u001b[39m\u001b[38;5;241m.\u001b[39m_maybe_init_pbar(n)\n\u001b[0;32m-> 1523\u001b[0m     \u001b[38;5;28mself\u001b[39m\u001b[38;5;241m.\u001b[39mres \u001b[38;5;241m=\u001b[39m \u001b[43mminimize\u001b[49m\u001b[43m(\u001b[49m\n\u001b[1;32m   1524\u001b[0m \u001b[43m        \u001b[49m\u001b[43mfun\u001b[49m\u001b[38;5;241;43m=\u001b[39;49m\u001b[43mfun\u001b[49m\u001b[43m,\u001b[49m\n\u001b[1;32m   1525\u001b[0m \u001b[43m        \u001b[49m\u001b[43mjac\u001b[49m\u001b[38;5;241;43m=\u001b[39;49m\u001b[43mjac\u001b[49m\u001b[43m,\u001b[49m\n\u001b[1;32m   1526\u001b[0m \u001b[43m        \u001b[49m\u001b[43mhessp\u001b[49m\u001b[38;5;241;43m=\u001b[39;49m\u001b[38;5;28;43mself\u001b[39;49m\u001b[38;5;241;43m.\u001b[39;49m\u001b[43mvectorized_hessp\u001b[49m\u001b[43m \u001b[49m\u001b[38;5;28;43;01mif\u001b[39;49;00m\u001b[43m \u001b[49m\u001b[43mhessp\u001b[49m\u001b[43m \u001b[49m\u001b[38;5;28;43;01melse\u001b[39;49;00m\u001b[43m \u001b[49m\u001b[38;5;28;43;01mNone\u001b[39;49;00m\u001b[43m,\u001b[49m\n\u001b[1;32m   1527\u001b[0m \u001b[43m        \u001b[49m\u001b[43mx0\u001b[49m\u001b[38;5;241;43m=\u001b[39;49m\u001b[38;5;28;43mself\u001b[39;49m\u001b[38;5;241;43m.\u001b[39;49m\u001b[43mvectorizer\u001b[49m\u001b[38;5;241;43m.\u001b[39;49m\u001b[43mvector\u001b[49m\u001b[43m,\u001b[49m\n\u001b[1;32m   1528\u001b[0m \u001b[43m        \u001b[49m\u001b[43mtol\u001b[49m\u001b[38;5;241;43m=\u001b[39;49m\u001b[43mtol\u001b[49m\u001b[43m,\u001b[49m\n\u001b[1;32m   1529\u001b[0m \u001b[43m        \u001b[49m\u001b[43mbounds\u001b[49m\u001b[38;5;241;43m=\u001b[39;49m\u001b[38;5;28;43mself\u001b[39;49m\u001b[38;5;241;43m.\u001b[39;49m\u001b[43mbounds\u001b[49m\u001b[43m,\u001b[49m\n\u001b[1;32m   1530\u001b[0m \u001b[43m        \u001b[49m\u001b[43mmethod\u001b[49m\u001b[38;5;241;43m=\u001b[39;49m\u001b[38;5;28;43mself\u001b[39;49m\u001b[38;5;241;43m.\u001b[39;49m\u001b[43m_method\u001b[49m\u001b[43m,\u001b[49m\n\u001b[1;32m   1531\u001b[0m \u001b[43m        \u001b[49m\u001b[43moptions\u001b[49m\u001b[38;5;241;43m=\u001b[39;49m\u001b[38;5;28;43mdict\u001b[39;49m\u001b[43m(\u001b[49m\u001b[43mmaxiter\u001b[49m\u001b[38;5;241;43m=\u001b[39;49m\u001b[43mn\u001b[49m\u001b[43m,\u001b[49m\u001b[43m \u001b[49m\u001b[38;5;241;43m*\u001b[39;49m\u001b[38;5;241;43m*\u001b[39;49m\u001b[43moptions\u001b[49m\u001b[43m)\u001b[49m\u001b[43m,\u001b[49m\n\u001b[1;32m   1532\u001b[0m \u001b[43m    \u001b[49m\u001b[43m)\u001b[49m\n\u001b[1;32m   1533\u001b[0m     \u001b[38;5;28mself\u001b[39m\u001b[38;5;241m.\u001b[39mvectorizer\u001b[38;5;241m.\u001b[39mvector[:] \u001b[38;5;241m=\u001b[39m \u001b[38;5;28mself\u001b[39m\u001b[38;5;241m.\u001b[39mres\u001b[38;5;241m.\u001b[39mx\n\u001b[1;32m   1534\u001b[0m \u001b[38;5;28;01mexcept\u001b[39;00m \u001b[38;5;167;01mKeyboardInterrupt\u001b[39;00m:\n",
      "File \u001b[0;32m~/.pyenv/versions/num_spt_venv_p11/lib/python3.11/site-packages/scipy/optimize/_minimize.py:636\u001b[0m, in \u001b[0;36mminimize\u001b[0;34m(fun, x0, args, method, jac, hess, hessp, bounds, constraints, tol, callback, options)\u001b[0m\n\u001b[1;32m    630\u001b[0m         options\u001b[38;5;241m.\u001b[39msetdefault(\u001b[38;5;124m'\u001b[39m\u001b[38;5;124mbarrier_tol\u001b[39m\u001b[38;5;124m'\u001b[39m, tol)\n\u001b[1;32m    632\u001b[0m \u001b[38;5;28;01mif\u001b[39;00m meth \u001b[38;5;241m==\u001b[39m \u001b[38;5;124m'\u001b[39m\u001b[38;5;124m_custom\u001b[39m\u001b[38;5;124m'\u001b[39m:\n\u001b[1;32m    633\u001b[0m     \u001b[38;5;66;03m# custom method called before bounds and constraints are 'standardised'\u001b[39;00m\n\u001b[1;32m    634\u001b[0m     \u001b[38;5;66;03m# custom method should be able to accept whatever bounds/constraints\u001b[39;00m\n\u001b[1;32m    635\u001b[0m     \u001b[38;5;66;03m# are provided to it.\u001b[39;00m\n\u001b[0;32m--> 636\u001b[0m     \u001b[38;5;28;01mreturn\u001b[39;00m \u001b[43mmethod\u001b[49m\u001b[43m(\u001b[49m\u001b[43mfun\u001b[49m\u001b[43m,\u001b[49m\u001b[43m \u001b[49m\u001b[43mx0\u001b[49m\u001b[43m,\u001b[49m\u001b[43m \u001b[49m\u001b[43margs\u001b[49m\u001b[38;5;241;43m=\u001b[39;49m\u001b[43margs\u001b[49m\u001b[43m,\u001b[49m\u001b[43m \u001b[49m\u001b[43mjac\u001b[49m\u001b[38;5;241;43m=\u001b[39;49m\u001b[43mjac\u001b[49m\u001b[43m,\u001b[49m\u001b[43m \u001b[49m\u001b[43mhess\u001b[49m\u001b[38;5;241;43m=\u001b[39;49m\u001b[43mhess\u001b[49m\u001b[43m,\u001b[49m\u001b[43m \u001b[49m\u001b[43mhessp\u001b[49m\u001b[38;5;241;43m=\u001b[39;49m\u001b[43mhessp\u001b[49m\u001b[43m,\u001b[49m\n\u001b[1;32m    637\u001b[0m \u001b[43m                  \u001b[49m\u001b[43mbounds\u001b[49m\u001b[38;5;241;43m=\u001b[39;49m\u001b[43mbounds\u001b[49m\u001b[43m,\u001b[49m\u001b[43m \u001b[49m\u001b[43mconstraints\u001b[49m\u001b[38;5;241;43m=\u001b[39;49m\u001b[43mconstraints\u001b[49m\u001b[43m,\u001b[49m\n\u001b[1;32m    638\u001b[0m \u001b[43m                  \u001b[49m\u001b[43mcallback\u001b[49m\u001b[38;5;241;43m=\u001b[39;49m\u001b[43mcallback\u001b[49m\u001b[43m,\u001b[49m\u001b[43m \u001b[49m\u001b[38;5;241;43m*\u001b[39;49m\u001b[38;5;241;43m*\u001b[39;49m\u001b[43moptions\u001b[49m\u001b[43m)\u001b[49m\n\u001b[1;32m    640\u001b[0m constraints \u001b[38;5;241m=\u001b[39m standardize_constraints(constraints, x0, meth)\n\u001b[1;32m    642\u001b[0m remove_vars \u001b[38;5;241m=\u001b[39m \u001b[38;5;28;01mFalse\u001b[39;00m\n",
      "File \u001b[0;32m~/.pyenv/versions/num_spt_venv_p11/lib/python3.11/site-packages/quimb/tensor/optimize.py:921\u001b[0m, in \u001b[0;36mADAM.__call__\u001b[0;34m(self, fun, x0, jac, args, learning_rate, beta1, beta2, eps, maxiter, callback, bounds, **kwargs)\u001b[0m\n\u001b[1;32m    918\u001b[0m \u001b[38;5;28;01mfor\u001b[39;00m _ \u001b[38;5;129;01min\u001b[39;00m \u001b[38;5;28mrange\u001b[39m(maxiter):\n\u001b[1;32m    919\u001b[0m     \u001b[38;5;28mself\u001b[39m\u001b[38;5;241m.\u001b[39m_i \u001b[38;5;241m+\u001b[39m\u001b[38;5;241m=\u001b[39m \u001b[38;5;241m1\u001b[39m\n\u001b[0;32m--> 921\u001b[0m     g \u001b[38;5;241m=\u001b[39m \u001b[43mjac\u001b[49m\u001b[43m(\u001b[49m\u001b[43mx\u001b[49m\u001b[43m)\u001b[49m\n\u001b[1;32m    923\u001b[0m     \u001b[38;5;28;01mif\u001b[39;00m callback \u001b[38;5;129;01mand\u001b[39;00m callback(x):\n\u001b[1;32m    924\u001b[0m         \u001b[38;5;28;01mbreak\u001b[39;00m\n",
      "File \u001b[0;32m~/.pyenv/versions/num_spt_venv_p11/lib/python3.11/site-packages/scipy/optimize/_optimize.py:83\u001b[0m, in \u001b[0;36mMemoizeJac.derivative\u001b[0;34m(self, x, *args)\u001b[0m\n\u001b[1;32m     82\u001b[0m \u001b[38;5;28;01mdef\u001b[39;00m \u001b[38;5;21mderivative\u001b[39m(\u001b[38;5;28mself\u001b[39m, x, \u001b[38;5;241m*\u001b[39margs):\n\u001b[0;32m---> 83\u001b[0m     \u001b[38;5;28;43mself\u001b[39;49m\u001b[38;5;241;43m.\u001b[39;49m\u001b[43m_compute_if_needed\u001b[49m\u001b[43m(\u001b[49m\u001b[43mx\u001b[49m\u001b[43m,\u001b[49m\u001b[43m \u001b[49m\u001b[38;5;241;43m*\u001b[39;49m\u001b[43margs\u001b[49m\u001b[43m)\u001b[49m\n\u001b[1;32m     84\u001b[0m     \u001b[38;5;28;01mreturn\u001b[39;00m \u001b[38;5;28mself\u001b[39m\u001b[38;5;241m.\u001b[39mjac\n",
      "File \u001b[0;32m~/.pyenv/versions/num_spt_venv_p11/lib/python3.11/site-packages/scipy/optimize/_optimize.py:73\u001b[0m, in \u001b[0;36mMemoizeJac._compute_if_needed\u001b[0;34m(self, x, *args)\u001b[0m\n\u001b[1;32m     71\u001b[0m \u001b[38;5;28;01mif\u001b[39;00m \u001b[38;5;129;01mnot\u001b[39;00m np\u001b[38;5;241m.\u001b[39mall(x \u001b[38;5;241m==\u001b[39m \u001b[38;5;28mself\u001b[39m\u001b[38;5;241m.\u001b[39mx) \u001b[38;5;129;01mor\u001b[39;00m \u001b[38;5;28mself\u001b[39m\u001b[38;5;241m.\u001b[39m_value \u001b[38;5;129;01mis\u001b[39;00m \u001b[38;5;28;01mNone\u001b[39;00m \u001b[38;5;129;01mor\u001b[39;00m \u001b[38;5;28mself\u001b[39m\u001b[38;5;241m.\u001b[39mjac \u001b[38;5;129;01mis\u001b[39;00m \u001b[38;5;28;01mNone\u001b[39;00m:\n\u001b[1;32m     72\u001b[0m     \u001b[38;5;28mself\u001b[39m\u001b[38;5;241m.\u001b[39mx \u001b[38;5;241m=\u001b[39m np\u001b[38;5;241m.\u001b[39masarray(x)\u001b[38;5;241m.\u001b[39mcopy()\n\u001b[0;32m---> 73\u001b[0m     fg \u001b[38;5;241m=\u001b[39m \u001b[38;5;28;43mself\u001b[39;49m\u001b[38;5;241;43m.\u001b[39;49m\u001b[43mfun\u001b[49m\u001b[43m(\u001b[49m\u001b[43mx\u001b[49m\u001b[43m,\u001b[49m\u001b[43m \u001b[49m\u001b[38;5;241;43m*\u001b[39;49m\u001b[43margs\u001b[49m\u001b[43m)\u001b[49m\n\u001b[1;32m     74\u001b[0m     \u001b[38;5;28mself\u001b[39m\u001b[38;5;241m.\u001b[39mjac \u001b[38;5;241m=\u001b[39m fg[\u001b[38;5;241m1\u001b[39m]\n\u001b[1;32m     75\u001b[0m     \u001b[38;5;28mself\u001b[39m\u001b[38;5;241m.\u001b[39m_value \u001b[38;5;241m=\u001b[39m fg[\u001b[38;5;241m0\u001b[39m]\n",
      "File \u001b[0;32m~/.pyenv/versions/num_spt_venv_p11/lib/python3.11/site-packages/quimb/tensor/optimize.py:1385\u001b[0m, in \u001b[0;36mTNOptimizer.vectorized_value_and_grad\u001b[0;34m(self, x)\u001b[0m\n\u001b[1;32m   1383\u001b[0m \u001b[38;5;28mself\u001b[39m\u001b[38;5;241m.\u001b[39mvectorizer\u001b[38;5;241m.\u001b[39mvector[:] \u001b[38;5;241m=\u001b[39m x\n\u001b[1;32m   1384\u001b[0m arrays \u001b[38;5;241m=\u001b[39m \u001b[38;5;28mself\u001b[39m\u001b[38;5;241m.\u001b[39mvectorizer\u001b[38;5;241m.\u001b[39munpack()\n\u001b[0;32m-> 1385\u001b[0m result, grads \u001b[38;5;241m=\u001b[39m \u001b[38;5;28;43mself\u001b[39;49m\u001b[38;5;241;43m.\u001b[39;49m\u001b[43mhandler\u001b[49m\u001b[38;5;241;43m.\u001b[39;49m\u001b[43mvalue_and_grad\u001b[49m\u001b[43m(\u001b[49m\u001b[43marrays\u001b[49m\u001b[43m)\u001b[49m\n\u001b[1;32m   1386\u001b[0m \u001b[38;5;28mself\u001b[39m\u001b[38;5;241m.\u001b[39m_n \u001b[38;5;241m+\u001b[39m\u001b[38;5;241m=\u001b[39m \u001b[38;5;241m1\u001b[39m\n\u001b[1;32m   1387\u001b[0m \u001b[38;5;28mself\u001b[39m\u001b[38;5;241m.\u001b[39mloss \u001b[38;5;241m=\u001b[39m result\u001b[38;5;241m.\u001b[39mitem()\n",
      "File \u001b[0;32m~/.pyenv/versions/num_spt_venv_p11/lib/python3.11/site-packages/quimb/tensor/optimize.py:599\u001b[0m, in \u001b[0;36mTensorFlowHandler.value_and_grad\u001b[0;34m(self, arrays)\u001b[0m\n\u001b[1;32m    596\u001b[0m \u001b[38;5;28;01mwith\u001b[39;00m tf\u001b[38;5;241m.\u001b[39mGradientTape() \u001b[38;5;28;01mas\u001b[39;00m t:\n\u001b[1;32m    597\u001b[0m     result \u001b[38;5;241m=\u001b[39m \u001b[38;5;28mself\u001b[39m\u001b[38;5;241m.\u001b[39m_backend_fn(variables)\n\u001b[0;32m--> 599\u001b[0m tf_grads \u001b[38;5;241m=\u001b[39m \u001b[43mt\u001b[49m\u001b[38;5;241;43m.\u001b[39;49m\u001b[43mgradient\u001b[49m\u001b[43m(\u001b[49m\n\u001b[1;32m    600\u001b[0m \u001b[43m    \u001b[49m\u001b[43mresult\u001b[49m\u001b[43m,\u001b[49m\n\u001b[1;32m    601\u001b[0m \u001b[43m    \u001b[49m\u001b[43mvariables\u001b[49m\u001b[43m,\u001b[49m\n\u001b[1;32m    602\u001b[0m \u001b[43m    \u001b[49m\u001b[38;5;66;43;03m# want to return zeros for unconnected gradients\u001b[39;49;00m\n\u001b[1;32m    603\u001b[0m \u001b[43m    \u001b[49m\u001b[43munconnected_gradients\u001b[49m\u001b[38;5;241;43m=\u001b[39;49m\u001b[43mtf\u001b[49m\u001b[38;5;241;43m.\u001b[39;49m\u001b[43mUnconnectedGradients\u001b[49m\u001b[38;5;241;43m.\u001b[39;49m\u001b[43mZERO\u001b[49m\u001b[43m,\u001b[49m\n\u001b[1;32m    604\u001b[0m \u001b[43m\u001b[49m\u001b[43m)\u001b[49m\n\u001b[1;32m    606\u001b[0m grads \u001b[38;5;241m=\u001b[39m tree_map(to_numpy, tf_grads)\n\u001b[1;32m    607\u001b[0m loss \u001b[38;5;241m=\u001b[39m to_numpy(result)\n",
      "File \u001b[0;32m~/.pyenv/versions/num_spt_venv_p11/lib/python3.11/site-packages/tensorflow/python/eager/backprop.py:1066\u001b[0m, in \u001b[0;36mGradientTape.gradient\u001b[0;34m(self, target, sources, output_gradients, unconnected_gradients)\u001b[0m\n\u001b[1;32m   1060\u001b[0m   output_gradients \u001b[38;5;241m=\u001b[39m (\n\u001b[1;32m   1061\u001b[0m       composite_tensor_gradient\u001b[38;5;241m.\u001b[39mget_flat_tensors_for_gradients(\n\u001b[1;32m   1062\u001b[0m           output_gradients))\n\u001b[1;32m   1063\u001b[0m   output_gradients \u001b[38;5;241m=\u001b[39m [\u001b[38;5;28;01mNone\u001b[39;00m \u001b[38;5;28;01mif\u001b[39;00m x \u001b[38;5;129;01mis\u001b[39;00m \u001b[38;5;28;01mNone\u001b[39;00m \u001b[38;5;28;01melse\u001b[39;00m ops\u001b[38;5;241m.\u001b[39mconvert_to_tensor(x)\n\u001b[1;32m   1064\u001b[0m                       \u001b[38;5;28;01mfor\u001b[39;00m x \u001b[38;5;129;01min\u001b[39;00m output_gradients]\n\u001b[0;32m-> 1066\u001b[0m flat_grad \u001b[38;5;241m=\u001b[39m \u001b[43mimperative_grad\u001b[49m\u001b[38;5;241;43m.\u001b[39;49m\u001b[43mimperative_grad\u001b[49m\u001b[43m(\u001b[49m\n\u001b[1;32m   1067\u001b[0m \u001b[43m    \u001b[49m\u001b[38;5;28;43mself\u001b[39;49m\u001b[38;5;241;43m.\u001b[39;49m\u001b[43m_tape\u001b[49m\u001b[43m,\u001b[49m\n\u001b[1;32m   1068\u001b[0m \u001b[43m    \u001b[49m\u001b[43mflat_targets\u001b[49m\u001b[43m,\u001b[49m\n\u001b[1;32m   1069\u001b[0m \u001b[43m    \u001b[49m\u001b[43mflat_sources\u001b[49m\u001b[43m,\u001b[49m\n\u001b[1;32m   1070\u001b[0m \u001b[43m    \u001b[49m\u001b[43moutput_gradients\u001b[49m\u001b[38;5;241;43m=\u001b[39;49m\u001b[43moutput_gradients\u001b[49m\u001b[43m,\u001b[49m\n\u001b[1;32m   1071\u001b[0m \u001b[43m    \u001b[49m\u001b[43msources_raw\u001b[49m\u001b[38;5;241;43m=\u001b[39;49m\u001b[43mflat_sources_raw\u001b[49m\u001b[43m,\u001b[49m\n\u001b[1;32m   1072\u001b[0m \u001b[43m    \u001b[49m\u001b[43munconnected_gradients\u001b[49m\u001b[38;5;241;43m=\u001b[39;49m\u001b[43munconnected_gradients\u001b[49m\u001b[43m)\u001b[49m\n\u001b[1;32m   1074\u001b[0m \u001b[38;5;28;01mif\u001b[39;00m \u001b[38;5;129;01mnot\u001b[39;00m \u001b[38;5;28mself\u001b[39m\u001b[38;5;241m.\u001b[39m_persistent:\n\u001b[1;32m   1075\u001b[0m   \u001b[38;5;66;03m# Keep track of watched variables before setting tape to None\u001b[39;00m\n\u001b[1;32m   1076\u001b[0m   \u001b[38;5;28mself\u001b[39m\u001b[38;5;241m.\u001b[39m_watched_variables \u001b[38;5;241m=\u001b[39m \u001b[38;5;28mself\u001b[39m\u001b[38;5;241m.\u001b[39m_tape\u001b[38;5;241m.\u001b[39mwatched_variables()\n",
      "File \u001b[0;32m~/.pyenv/versions/num_spt_venv_p11/lib/python3.11/site-packages/tensorflow/python/eager/imperative_grad.py:67\u001b[0m, in \u001b[0;36mimperative_grad\u001b[0;34m(tape, target, sources, output_gradients, sources_raw, unconnected_gradients)\u001b[0m\n\u001b[1;32m     63\u001b[0m \u001b[38;5;28;01mexcept\u001b[39;00m \u001b[38;5;167;01mValueError\u001b[39;00m:\n\u001b[1;32m     64\u001b[0m   \u001b[38;5;28;01mraise\u001b[39;00m \u001b[38;5;167;01mValueError\u001b[39;00m(\n\u001b[1;32m     65\u001b[0m       \u001b[38;5;124m\"\u001b[39m\u001b[38;5;124mUnknown value for unconnected_gradients: \u001b[39m\u001b[38;5;132;01m%r\u001b[39;00m\u001b[38;5;124m\"\u001b[39m \u001b[38;5;241m%\u001b[39m unconnected_gradients)\n\u001b[0;32m---> 67\u001b[0m \u001b[38;5;28;01mreturn\u001b[39;00m \u001b[43mpywrap_tfe\u001b[49m\u001b[38;5;241;43m.\u001b[39;49m\u001b[43mTFE_Py_TapeGradient\u001b[49m\u001b[43m(\u001b[49m\n\u001b[1;32m     68\u001b[0m \u001b[43m    \u001b[49m\u001b[43mtape\u001b[49m\u001b[38;5;241;43m.\u001b[39;49m\u001b[43m_tape\u001b[49m\u001b[43m,\u001b[49m\u001b[43m  \u001b[49m\u001b[38;5;66;43;03m# pylint: disable=protected-access\u001b[39;49;00m\n\u001b[1;32m     69\u001b[0m \u001b[43m    \u001b[49m\u001b[43mtarget\u001b[49m\u001b[43m,\u001b[49m\n\u001b[1;32m     70\u001b[0m \u001b[43m    \u001b[49m\u001b[43msources\u001b[49m\u001b[43m,\u001b[49m\n\u001b[1;32m     71\u001b[0m \u001b[43m    \u001b[49m\u001b[43moutput_gradients\u001b[49m\u001b[43m,\u001b[49m\n\u001b[1;32m     72\u001b[0m \u001b[43m    \u001b[49m\u001b[43msources_raw\u001b[49m\u001b[43m,\u001b[49m\n\u001b[1;32m     73\u001b[0m \u001b[43m    \u001b[49m\u001b[43mcompat\u001b[49m\u001b[38;5;241;43m.\u001b[39;49m\u001b[43mas_str\u001b[49m\u001b[43m(\u001b[49m\u001b[43munconnected_gradients\u001b[49m\u001b[38;5;241;43m.\u001b[39;49m\u001b[43mvalue\u001b[49m\u001b[43m)\u001b[49m\u001b[43m)\u001b[49m\n",
      "\u001b[0;31mAttributeError\u001b[0m: 'numpy.float64' object has no attribute '_id'"
     ]
    }
   ],
   "source": [
    "optimizers = dict()\n",
    "\n",
    "for _ in range(num_seeds):\n",
    "    hyperparams ={k: v.rvs() for k, v in hyperparameter_dists_dict.items()}\n",
    "\n",
    "    mpo = initialize_mpo(\n",
    "        left_most_symmetry_site,\n",
    "        num_symmetry_sites,\n",
    "        num_boundary_sites,\n",
    "        hyperparams['bond_dimension']\n",
    "    )\n",
    "\n",
    "    optmzr = qtn.optimize.TNOptimizer(\n",
    "        mpo,                                # our initial input, the tensors of which to optimize\n",
    "        loss_fn=overall_loss_function,\n",
    "        loss_kwargs={\n",
    "            'rdm_tn': problem_rdm,\n",
    "            'total_physical_dimension': total_physical_dim,\n",
    "            'unitary_cost_coefficient': 0,\n",
    "            'overlap_cost_coefficient': hyperparams['overlap_learning_rate']\n",
    "        },\n",
    "        autodiff_backend='tensorflow',      # {'jax', 'tensorflow', 'autograd'}\n",
    "        optimizer='adam',               # supplied to scipy.minimize\n",
    "    )\n",
    "\n",
    "    optmzr.optimize(\n",
    "        num_iterations,\n",
    "        learning_rate=hyperparams['alpha'],\n",
    "        beta1=hyperparams['beta_1'],\n",
    "        beta2=hyperparams['beta_2']\n",
    "    )\n",
    "\n",
    "    optimizers[HyperParams(**hyperparams)] = optmzr"
   ]
  },
  {
   "cell_type": "markdown",
   "id": "5abe3e86-4bd5-440b-8378-7b2e4fb314f9",
   "metadata": {},
   "source": [
    "Can't get to work."
   ]
  },
  {
   "cell_type": "markdown",
   "id": "b41f35aa-3f1f-4549-ad6d-094fc5f5b861",
   "metadata": {},
   "source": [
    "## 8 - Autograd torch backend"
   ]
  },
  {
   "cell_type": "code",
   "execution_count": 94,
   "id": "6ba01e91-22cd-4ac0-a8ce-ab4fb3e99d7e",
   "metadata": {},
   "outputs": [],
   "source": [
    "import math"
   ]
  },
  {
   "cell_type": "code",
   "execution_count": 97,
   "id": "25e2a308-110a-49fb-8186-52874b3d2765",
   "metadata": {},
   "outputs": [
    {
     "data": {
      "text/plain": [
       "1.0"
      ]
     },
     "execution_count": 97,
     "metadata": {},
     "output_type": "execute_result"
    }
   ],
   "source": [
    "z.real"
   ]
  },
  {
   "cell_type": "code",
   "execution_count": 106,
   "id": "61024097-e3dc-471d-835d-19d11b8c8527",
   "metadata": {},
   "outputs": [],
   "source": [
    "def overlap_loss_function(ml, mr, rdm_tn, epsilon=1e-12):\n",
    "    c = (rdm_tn & ml & mr) ^ ...\n",
    "\n",
    "    c_abs_squared = (\n",
    "        c\n",
    "        *c.conjugate()\n",
    "    )\n",
    "    c_abs_squared=c_abs_squared.real\n",
    "    #c_abs_squared = c_abs_squared.astype('float32')\n",
    "    c_abs = (math.sqrt(c_abs_squared+epsilon))\n",
    "\n",
    "    target = math.sqrt(1+epsilon)\n",
    "    loss = (c_abs - target)**2\n",
    "\n",
    "    return loss"
   ]
  },
  {
   "cell_type": "code",
   "execution_count": 107,
   "id": "2967664d-4012-460a-ab0f-7a59840134fa",
   "metadata": {},
   "outputs": [],
   "source": [
    "total_physical_dim = 2**9"
   ]
  },
  {
   "cell_type": "code",
   "execution_count": 108,
   "id": "690baab1-b27f-4326-95b6-bbba6140d358",
   "metadata": {},
   "outputs": [],
   "source": [
    "def unitarity_tn(tn, total_physical_dim):\n",
    "    ms = [tn.copy(), tn.copy(), tn.copy()]\n",
    "\n",
    "    relabel_mpo(ms[0], 'k', 'l')\n",
    "    relabel_mpo(ms[1], 'm', 'l')\n",
    "    relabel_mpo(ms[2], 'm', 'b')\n",
    "\n",
    "    ms[0] = ms[0].conj()\n",
    "    ms[2] = ms[2].conj()\n",
    "\n",
    "    n2tn = (tn & tn.conj())\n",
    "    n2 = n2tn.contract(n2tn.tag_map)\n",
    "    n4tn = (tn & ms[0] & ms[1] & ms[2])\n",
    "    n4 = n4tn.contract(n4tn.tag_map)\n",
    "\n",
    "    out = (n4 - 2*n2 + total_physical_dim).real\n",
    "\n",
    "    return out"
   ]
  },
  {
   "cell_type": "code",
   "execution_count": 109,
   "id": "3eea823e-b279-42ad-a965-e75f0eb01183",
   "metadata": {},
   "outputs": [],
   "source": [
    "def overall_loss_function(mpo_pair, rdm_tn, total_physical_dimension,\n",
    "    unitary_cost_coefficient=1, overlap_cost_coefficient=1, losses=None):\n",
    "    ml, mr = split_mpo_pair(mpo_pair)\n",
    "\n",
    "    o_loss = overlap_loss_function(ml, mr, rdm_tn)\n",
    "    ul_loss = math.sqrt(1 + unitarity_tn(ml, total_physical_dimension)) - 1\n",
    "    ur_loss = math.sqrt(1 + unitarity_tn(mr, total_physical_dimension)) - 1\n",
    "\n",
    "    out = (\n",
    "        unitary_cost_coefficient*(ul_loss+ur_loss)\n",
    "        + overlap_cost_coefficient*o_loss\n",
    "    )\n",
    "\n",
    "    out = out.real\n",
    "\n",
    "    if losses is not None:\n",
    "        losses.append((o_loss, ul_loss, ur_loss))\n",
    "    return out"
   ]
  },
  {
   "cell_type": "code",
   "execution_count": 110,
   "id": "b37a1171-aacf-497b-bb64-d55ef14b0afb",
   "metadata": {},
   "outputs": [],
   "source": [
    "num_iterations = int(1e4) \n",
    "num_seeds = 5\n",
    "\n",
    "hyperparameter_dists_dict = {\n",
    "    'alpha': scipy.stats.loguniform(1e-4, 1e-2),\n",
    "    'beta_1': scipy.stats.uniform(0.1, 0.5),\n",
    "    'beta_2': scipy.stats.uniform(0.1, 0.5),\n",
    "    'bond_dimension': scipy.stats.randint(4, 8),\n",
    "    'overlap_learning_rate': scipy.stats.randint(100, 500)\n",
    "}"
   ]
  },
  {
   "cell_type": "code",
   "execution_count": 111,
   "id": "cab994d1-1704-4c73-9362-04d3962fe8bf",
   "metadata": {},
   "outputs": [],
   "source": [
    "HyperParams = namedtuple('HyperParams', hyperparameter_dists_dict)"
   ]
  },
  {
   "cell_type": "code",
   "execution_count": 112,
   "id": "15d47b16-e7b0-4105-8b09-f8d1be579a7b",
   "metadata": {},
   "outputs": [],
   "source": [
    "left_most_symmetry_site=60\n",
    "num_symmetry_sites=80\n",
    "num_boundary_sites=6"
   ]
  },
  {
   "cell_type": "code",
   "execution_count": 113,
   "id": "dba4e575-9bd0-489d-ab34-66c0c3af4c6e",
   "metadata": {},
   "outputs": [],
   "source": [
    "mpo = initialize_mpo(\n",
    "    left_most_symmetry_site,\n",
    "    num_symmetry_sites,\n",
    "    num_boundary_sites,\n",
    "    hyperparams['bond_dimension']\n",
    ")"
   ]
  },
  {
   "cell_type": "code",
   "execution_count": 114,
   "id": "49e6c26e-31be-4dfd-90d7-943fb8679b22",
   "metadata": {},
   "outputs": [
    {
     "data": {
      "text/plain": [
       "44.210920795940616"
      ]
     },
     "execution_count": 114,
     "metadata": {},
     "output_type": "execute_result"
    }
   ],
   "source": [
    "overall_loss_function(\n",
    "    mpo,\n",
    "    problem_rdm,\n",
    "    total_physical_dim\n",
    ")"
   ]
  },
  {
   "cell_type": "code",
   "execution_count": 115,
   "id": "856ed023-7148-4277-811c-8cead6bbeb3d",
   "metadata": {},
   "outputs": [
    {
     "name": "stderr",
     "output_type": "stream",
     "text": [
      "  0%|                                                                                                                                                                             | 0/10000 [00:00<?, ?it/s]\n"
     ]
    },
    {
     "ename": "TypeError",
     "evalue": "tensordot(): argument 'input' (position 1) must be Tensor, not numpy.ndarray",
     "output_type": "error",
     "traceback": [
      "\u001b[0;31m---------------------------------------------------------------------------\u001b[0m",
      "\u001b[0;31mTypeError\u001b[0m                                 Traceback (most recent call last)",
      "Cell \u001b[0;32mIn[115], line 26\u001b[0m\n\u001b[1;32m      6\u001b[0m mpo \u001b[38;5;241m=\u001b[39m initialize_mpo(\n\u001b[1;32m      7\u001b[0m     left_most_symmetry_site,\n\u001b[1;32m      8\u001b[0m     num_symmetry_sites,\n\u001b[1;32m      9\u001b[0m     num_boundary_sites,\n\u001b[1;32m     10\u001b[0m     hyperparams[\u001b[38;5;124m'\u001b[39m\u001b[38;5;124mbond_dimension\u001b[39m\u001b[38;5;124m'\u001b[39m]\n\u001b[1;32m     11\u001b[0m )\n\u001b[1;32m     13\u001b[0m optmzr \u001b[38;5;241m=\u001b[39m qtn\u001b[38;5;241m.\u001b[39moptimize\u001b[38;5;241m.\u001b[39mTNOptimizer(\n\u001b[1;32m     14\u001b[0m     mpo,                                \u001b[38;5;66;03m# our initial input, the tensors of which to optimize\u001b[39;00m\n\u001b[1;32m     15\u001b[0m     loss_fn\u001b[38;5;241m=\u001b[39moverall_loss_function,\n\u001b[0;32m   (...)\u001b[0m\n\u001b[1;32m     23\u001b[0m     optimizer\u001b[38;5;241m=\u001b[39m\u001b[38;5;124m'\u001b[39m\u001b[38;5;124madam\u001b[39m\u001b[38;5;124m'\u001b[39m,               \u001b[38;5;66;03m# supplied to scipy.minimize\u001b[39;00m\n\u001b[1;32m     24\u001b[0m )\n\u001b[0;32m---> 26\u001b[0m \u001b[43moptmzr\u001b[49m\u001b[38;5;241;43m.\u001b[39;49m\u001b[43moptimize\u001b[49m\u001b[43m(\u001b[49m\n\u001b[1;32m     27\u001b[0m \u001b[43m    \u001b[49m\u001b[43mnum_iterations\u001b[49m\u001b[43m,\u001b[49m\n\u001b[1;32m     28\u001b[0m \u001b[43m    \u001b[49m\u001b[43mlearning_rate\u001b[49m\u001b[38;5;241;43m=\u001b[39;49m\u001b[43mhyperparams\u001b[49m\u001b[43m[\u001b[49m\u001b[38;5;124;43m'\u001b[39;49m\u001b[38;5;124;43malpha\u001b[39;49m\u001b[38;5;124;43m'\u001b[39;49m\u001b[43m]\u001b[49m\u001b[43m,\u001b[49m\n\u001b[1;32m     29\u001b[0m \u001b[43m    \u001b[49m\u001b[43mbeta1\u001b[49m\u001b[38;5;241;43m=\u001b[39;49m\u001b[43mhyperparams\u001b[49m\u001b[43m[\u001b[49m\u001b[38;5;124;43m'\u001b[39;49m\u001b[38;5;124;43mbeta_1\u001b[39;49m\u001b[38;5;124;43m'\u001b[39;49m\u001b[43m]\u001b[49m\u001b[43m,\u001b[49m\n\u001b[1;32m     30\u001b[0m \u001b[43m    \u001b[49m\u001b[43mbeta2\u001b[49m\u001b[38;5;241;43m=\u001b[39;49m\u001b[43mhyperparams\u001b[49m\u001b[43m[\u001b[49m\u001b[38;5;124;43m'\u001b[39;49m\u001b[38;5;124;43mbeta_2\u001b[39;49m\u001b[38;5;124;43m'\u001b[39;49m\u001b[43m]\u001b[49m\n\u001b[1;32m     31\u001b[0m \u001b[43m\u001b[49m\u001b[43m)\u001b[49m\n\u001b[1;32m     33\u001b[0m optimizers[HyperParams(\u001b[38;5;241m*\u001b[39m\u001b[38;5;241m*\u001b[39mhyperparams)] \u001b[38;5;241m=\u001b[39m optmzr\n",
      "File \u001b[0;32m~/.pyenv/versions/num_spt_venv_p11/lib/python3.11/site-packages/quimb/tensor/optimize.py:1502\u001b[0m, in \u001b[0;36mTNOptimizer.optimize\u001b[0;34m(self, n, tol, jac, hessp, optlib, **options)\u001b[0m\n\u001b[1;32m   1469\u001b[0m \u001b[38;5;28;01mdef\u001b[39;00m \u001b[38;5;21moptimize\u001b[39m(\n\u001b[1;32m   1470\u001b[0m     \u001b[38;5;28mself\u001b[39m, n, tol\u001b[38;5;241m=\u001b[39m\u001b[38;5;28;01mNone\u001b[39;00m, jac\u001b[38;5;241m=\u001b[39m\u001b[38;5;28;01mTrue\u001b[39;00m, hessp\u001b[38;5;241m=\u001b[39m\u001b[38;5;28;01mFalse\u001b[39;00m, optlib\u001b[38;5;241m=\u001b[39m\u001b[38;5;124m\"\u001b[39m\u001b[38;5;124mscipy\u001b[39m\u001b[38;5;124m\"\u001b[39m, \u001b[38;5;241m*\u001b[39m\u001b[38;5;241m*\u001b[39moptions\n\u001b[1;32m   1471\u001b[0m ):\n\u001b[1;32m   1472\u001b[0m \u001b[38;5;250m    \u001b[39m\u001b[38;5;124;03m\"\"\"Run the optimizer for ``n`` function evaluations, using by default\u001b[39;00m\n\u001b[1;32m   1473\u001b[0m \u001b[38;5;124;03m    :func:`scipy.optimize.minimize` as the driver for the vectorized\u001b[39;00m\n\u001b[1;32m   1474\u001b[0m \u001b[38;5;124;03m    computation. Supplying the gradient and hessian vector product is\u001b[39;00m\n\u001b[0;32m   (...)\u001b[0m\n\u001b[1;32m   1500\u001b[0m \u001b[38;5;124;03m    tn_opt : TensorNetwork\u001b[39;00m\n\u001b[1;32m   1501\u001b[0m \u001b[38;5;124;03m    \"\"\"\u001b[39;00m\n\u001b[0;32m-> 1502\u001b[0m     \u001b[38;5;28;01mreturn\u001b[39;00m \u001b[43m{\u001b[49m\n\u001b[1;32m   1503\u001b[0m \u001b[43m        \u001b[49m\u001b[38;5;124;43m\"\u001b[39;49m\u001b[38;5;124;43mscipy\u001b[39;49m\u001b[38;5;124;43m\"\u001b[39;49m\u001b[43m:\u001b[49m\u001b[43m \u001b[49m\u001b[38;5;28;43mself\u001b[39;49m\u001b[38;5;241;43m.\u001b[39;49m\u001b[43moptimize_scipy\u001b[49m\u001b[43m,\u001b[49m\n\u001b[1;32m   1504\u001b[0m \u001b[43m        \u001b[49m\u001b[38;5;124;43m\"\u001b[39;49m\u001b[38;5;124;43mnlopt\u001b[39;49m\u001b[38;5;124;43m\"\u001b[39;49m\u001b[43m:\u001b[49m\u001b[43m \u001b[49m\u001b[38;5;28;43mself\u001b[39;49m\u001b[38;5;241;43m.\u001b[39;49m\u001b[43moptimize_nlopt\u001b[49m\u001b[43m,\u001b[49m\n\u001b[1;32m   1505\u001b[0m \u001b[43m    \u001b[49m\u001b[43m}\u001b[49m\u001b[43m[\u001b[49m\u001b[43moptlib\u001b[49m\u001b[43m]\u001b[49m\u001b[43m(\u001b[49m\u001b[43mn\u001b[49m\u001b[38;5;241;43m=\u001b[39;49m\u001b[43mn\u001b[49m\u001b[43m,\u001b[49m\u001b[43m \u001b[49m\u001b[43mtol\u001b[49m\u001b[38;5;241;43m=\u001b[39;49m\u001b[43mtol\u001b[49m\u001b[43m,\u001b[49m\u001b[43m \u001b[49m\u001b[43mjac\u001b[49m\u001b[38;5;241;43m=\u001b[39;49m\u001b[43mjac\u001b[49m\u001b[43m,\u001b[49m\u001b[43m \u001b[49m\u001b[43mhessp\u001b[49m\u001b[38;5;241;43m=\u001b[39;49m\u001b[43mhessp\u001b[49m\u001b[43m,\u001b[49m\u001b[43m \u001b[49m\u001b[38;5;241;43m*\u001b[39;49m\u001b[38;5;241;43m*\u001b[39;49m\u001b[43moptions\u001b[49m\u001b[43m)\u001b[49m\n",
      "File \u001b[0;32m~/.pyenv/versions/num_spt_venv_p11/lib/python3.11/site-packages/quimb/tensor/optimize.py:1523\u001b[0m, in \u001b[0;36mTNOptimizer.optimize_scipy\u001b[0;34m(self, n, tol, jac, hessp, **options)\u001b[0m\n\u001b[1;32m   1521\u001b[0m \u001b[38;5;28;01mtry\u001b[39;00m:\n\u001b[1;32m   1522\u001b[0m     \u001b[38;5;28mself\u001b[39m\u001b[38;5;241m.\u001b[39m_maybe_init_pbar(n)\n\u001b[0;32m-> 1523\u001b[0m     \u001b[38;5;28mself\u001b[39m\u001b[38;5;241m.\u001b[39mres \u001b[38;5;241m=\u001b[39m \u001b[43mminimize\u001b[49m\u001b[43m(\u001b[49m\n\u001b[1;32m   1524\u001b[0m \u001b[43m        \u001b[49m\u001b[43mfun\u001b[49m\u001b[38;5;241;43m=\u001b[39;49m\u001b[43mfun\u001b[49m\u001b[43m,\u001b[49m\n\u001b[1;32m   1525\u001b[0m \u001b[43m        \u001b[49m\u001b[43mjac\u001b[49m\u001b[38;5;241;43m=\u001b[39;49m\u001b[43mjac\u001b[49m\u001b[43m,\u001b[49m\n\u001b[1;32m   1526\u001b[0m \u001b[43m        \u001b[49m\u001b[43mhessp\u001b[49m\u001b[38;5;241;43m=\u001b[39;49m\u001b[38;5;28;43mself\u001b[39;49m\u001b[38;5;241;43m.\u001b[39;49m\u001b[43mvectorized_hessp\u001b[49m\u001b[43m \u001b[49m\u001b[38;5;28;43;01mif\u001b[39;49;00m\u001b[43m \u001b[49m\u001b[43mhessp\u001b[49m\u001b[43m \u001b[49m\u001b[38;5;28;43;01melse\u001b[39;49;00m\u001b[43m \u001b[49m\u001b[38;5;28;43;01mNone\u001b[39;49;00m\u001b[43m,\u001b[49m\n\u001b[1;32m   1527\u001b[0m \u001b[43m        \u001b[49m\u001b[43mx0\u001b[49m\u001b[38;5;241;43m=\u001b[39;49m\u001b[38;5;28;43mself\u001b[39;49m\u001b[38;5;241;43m.\u001b[39;49m\u001b[43mvectorizer\u001b[49m\u001b[38;5;241;43m.\u001b[39;49m\u001b[43mvector\u001b[49m\u001b[43m,\u001b[49m\n\u001b[1;32m   1528\u001b[0m \u001b[43m        \u001b[49m\u001b[43mtol\u001b[49m\u001b[38;5;241;43m=\u001b[39;49m\u001b[43mtol\u001b[49m\u001b[43m,\u001b[49m\n\u001b[1;32m   1529\u001b[0m \u001b[43m        \u001b[49m\u001b[43mbounds\u001b[49m\u001b[38;5;241;43m=\u001b[39;49m\u001b[38;5;28;43mself\u001b[39;49m\u001b[38;5;241;43m.\u001b[39;49m\u001b[43mbounds\u001b[49m\u001b[43m,\u001b[49m\n\u001b[1;32m   1530\u001b[0m \u001b[43m        \u001b[49m\u001b[43mmethod\u001b[49m\u001b[38;5;241;43m=\u001b[39;49m\u001b[38;5;28;43mself\u001b[39;49m\u001b[38;5;241;43m.\u001b[39;49m\u001b[43m_method\u001b[49m\u001b[43m,\u001b[49m\n\u001b[1;32m   1531\u001b[0m \u001b[43m        \u001b[49m\u001b[43moptions\u001b[49m\u001b[38;5;241;43m=\u001b[39;49m\u001b[38;5;28;43mdict\u001b[39;49m\u001b[43m(\u001b[49m\u001b[43mmaxiter\u001b[49m\u001b[38;5;241;43m=\u001b[39;49m\u001b[43mn\u001b[49m\u001b[43m,\u001b[49m\u001b[43m \u001b[49m\u001b[38;5;241;43m*\u001b[39;49m\u001b[38;5;241;43m*\u001b[39;49m\u001b[43moptions\u001b[49m\u001b[43m)\u001b[49m\u001b[43m,\u001b[49m\n\u001b[1;32m   1532\u001b[0m \u001b[43m    \u001b[49m\u001b[43m)\u001b[49m\n\u001b[1;32m   1533\u001b[0m     \u001b[38;5;28mself\u001b[39m\u001b[38;5;241m.\u001b[39mvectorizer\u001b[38;5;241m.\u001b[39mvector[:] \u001b[38;5;241m=\u001b[39m \u001b[38;5;28mself\u001b[39m\u001b[38;5;241m.\u001b[39mres\u001b[38;5;241m.\u001b[39mx\n\u001b[1;32m   1534\u001b[0m \u001b[38;5;28;01mexcept\u001b[39;00m \u001b[38;5;167;01mKeyboardInterrupt\u001b[39;00m:\n",
      "File \u001b[0;32m~/.pyenv/versions/num_spt_venv_p11/lib/python3.11/site-packages/scipy/optimize/_minimize.py:636\u001b[0m, in \u001b[0;36mminimize\u001b[0;34m(fun, x0, args, method, jac, hess, hessp, bounds, constraints, tol, callback, options)\u001b[0m\n\u001b[1;32m    630\u001b[0m         options\u001b[38;5;241m.\u001b[39msetdefault(\u001b[38;5;124m'\u001b[39m\u001b[38;5;124mbarrier_tol\u001b[39m\u001b[38;5;124m'\u001b[39m, tol)\n\u001b[1;32m    632\u001b[0m \u001b[38;5;28;01mif\u001b[39;00m meth \u001b[38;5;241m==\u001b[39m \u001b[38;5;124m'\u001b[39m\u001b[38;5;124m_custom\u001b[39m\u001b[38;5;124m'\u001b[39m:\n\u001b[1;32m    633\u001b[0m     \u001b[38;5;66;03m# custom method called before bounds and constraints are 'standardised'\u001b[39;00m\n\u001b[1;32m    634\u001b[0m     \u001b[38;5;66;03m# custom method should be able to accept whatever bounds/constraints\u001b[39;00m\n\u001b[1;32m    635\u001b[0m     \u001b[38;5;66;03m# are provided to it.\u001b[39;00m\n\u001b[0;32m--> 636\u001b[0m     \u001b[38;5;28;01mreturn\u001b[39;00m \u001b[43mmethod\u001b[49m\u001b[43m(\u001b[49m\u001b[43mfun\u001b[49m\u001b[43m,\u001b[49m\u001b[43m \u001b[49m\u001b[43mx0\u001b[49m\u001b[43m,\u001b[49m\u001b[43m \u001b[49m\u001b[43margs\u001b[49m\u001b[38;5;241;43m=\u001b[39;49m\u001b[43margs\u001b[49m\u001b[43m,\u001b[49m\u001b[43m \u001b[49m\u001b[43mjac\u001b[49m\u001b[38;5;241;43m=\u001b[39;49m\u001b[43mjac\u001b[49m\u001b[43m,\u001b[49m\u001b[43m \u001b[49m\u001b[43mhess\u001b[49m\u001b[38;5;241;43m=\u001b[39;49m\u001b[43mhess\u001b[49m\u001b[43m,\u001b[49m\u001b[43m \u001b[49m\u001b[43mhessp\u001b[49m\u001b[38;5;241;43m=\u001b[39;49m\u001b[43mhessp\u001b[49m\u001b[43m,\u001b[49m\n\u001b[1;32m    637\u001b[0m \u001b[43m                  \u001b[49m\u001b[43mbounds\u001b[49m\u001b[38;5;241;43m=\u001b[39;49m\u001b[43mbounds\u001b[49m\u001b[43m,\u001b[49m\u001b[43m \u001b[49m\u001b[43mconstraints\u001b[49m\u001b[38;5;241;43m=\u001b[39;49m\u001b[43mconstraints\u001b[49m\u001b[43m,\u001b[49m\n\u001b[1;32m    638\u001b[0m \u001b[43m                  \u001b[49m\u001b[43mcallback\u001b[49m\u001b[38;5;241;43m=\u001b[39;49m\u001b[43mcallback\u001b[49m\u001b[43m,\u001b[49m\u001b[43m \u001b[49m\u001b[38;5;241;43m*\u001b[39;49m\u001b[38;5;241;43m*\u001b[39;49m\u001b[43moptions\u001b[49m\u001b[43m)\u001b[49m\n\u001b[1;32m    640\u001b[0m constraints \u001b[38;5;241m=\u001b[39m standardize_constraints(constraints, x0, meth)\n\u001b[1;32m    642\u001b[0m remove_vars \u001b[38;5;241m=\u001b[39m \u001b[38;5;28;01mFalse\u001b[39;00m\n",
      "File \u001b[0;32m~/.pyenv/versions/num_spt_venv_p11/lib/python3.11/site-packages/quimb/tensor/optimize.py:921\u001b[0m, in \u001b[0;36mADAM.__call__\u001b[0;34m(self, fun, x0, jac, args, learning_rate, beta1, beta2, eps, maxiter, callback, bounds, **kwargs)\u001b[0m\n\u001b[1;32m    918\u001b[0m \u001b[38;5;28;01mfor\u001b[39;00m _ \u001b[38;5;129;01min\u001b[39;00m \u001b[38;5;28mrange\u001b[39m(maxiter):\n\u001b[1;32m    919\u001b[0m     \u001b[38;5;28mself\u001b[39m\u001b[38;5;241m.\u001b[39m_i \u001b[38;5;241m+\u001b[39m\u001b[38;5;241m=\u001b[39m \u001b[38;5;241m1\u001b[39m\n\u001b[0;32m--> 921\u001b[0m     g \u001b[38;5;241m=\u001b[39m \u001b[43mjac\u001b[49m\u001b[43m(\u001b[49m\u001b[43mx\u001b[49m\u001b[43m)\u001b[49m\n\u001b[1;32m    923\u001b[0m     \u001b[38;5;28;01mif\u001b[39;00m callback \u001b[38;5;129;01mand\u001b[39;00m callback(x):\n\u001b[1;32m    924\u001b[0m         \u001b[38;5;28;01mbreak\u001b[39;00m\n",
      "File \u001b[0;32m~/.pyenv/versions/num_spt_venv_p11/lib/python3.11/site-packages/scipy/optimize/_optimize.py:83\u001b[0m, in \u001b[0;36mMemoizeJac.derivative\u001b[0;34m(self, x, *args)\u001b[0m\n\u001b[1;32m     82\u001b[0m \u001b[38;5;28;01mdef\u001b[39;00m \u001b[38;5;21mderivative\u001b[39m(\u001b[38;5;28mself\u001b[39m, x, \u001b[38;5;241m*\u001b[39margs):\n\u001b[0;32m---> 83\u001b[0m     \u001b[38;5;28;43mself\u001b[39;49m\u001b[38;5;241;43m.\u001b[39;49m\u001b[43m_compute_if_needed\u001b[49m\u001b[43m(\u001b[49m\u001b[43mx\u001b[49m\u001b[43m,\u001b[49m\u001b[43m \u001b[49m\u001b[38;5;241;43m*\u001b[39;49m\u001b[43margs\u001b[49m\u001b[43m)\u001b[49m\n\u001b[1;32m     84\u001b[0m     \u001b[38;5;28;01mreturn\u001b[39;00m \u001b[38;5;28mself\u001b[39m\u001b[38;5;241m.\u001b[39mjac\n",
      "File \u001b[0;32m~/.pyenv/versions/num_spt_venv_p11/lib/python3.11/site-packages/scipy/optimize/_optimize.py:73\u001b[0m, in \u001b[0;36mMemoizeJac._compute_if_needed\u001b[0;34m(self, x, *args)\u001b[0m\n\u001b[1;32m     71\u001b[0m \u001b[38;5;28;01mif\u001b[39;00m \u001b[38;5;129;01mnot\u001b[39;00m np\u001b[38;5;241m.\u001b[39mall(x \u001b[38;5;241m==\u001b[39m \u001b[38;5;28mself\u001b[39m\u001b[38;5;241m.\u001b[39mx) \u001b[38;5;129;01mor\u001b[39;00m \u001b[38;5;28mself\u001b[39m\u001b[38;5;241m.\u001b[39m_value \u001b[38;5;129;01mis\u001b[39;00m \u001b[38;5;28;01mNone\u001b[39;00m \u001b[38;5;129;01mor\u001b[39;00m \u001b[38;5;28mself\u001b[39m\u001b[38;5;241m.\u001b[39mjac \u001b[38;5;129;01mis\u001b[39;00m \u001b[38;5;28;01mNone\u001b[39;00m:\n\u001b[1;32m     72\u001b[0m     \u001b[38;5;28mself\u001b[39m\u001b[38;5;241m.\u001b[39mx \u001b[38;5;241m=\u001b[39m np\u001b[38;5;241m.\u001b[39masarray(x)\u001b[38;5;241m.\u001b[39mcopy()\n\u001b[0;32m---> 73\u001b[0m     fg \u001b[38;5;241m=\u001b[39m \u001b[38;5;28;43mself\u001b[39;49m\u001b[38;5;241;43m.\u001b[39;49m\u001b[43mfun\u001b[49m\u001b[43m(\u001b[49m\u001b[43mx\u001b[49m\u001b[43m,\u001b[49m\u001b[43m \u001b[49m\u001b[38;5;241;43m*\u001b[39;49m\u001b[43margs\u001b[49m\u001b[43m)\u001b[49m\n\u001b[1;32m     74\u001b[0m     \u001b[38;5;28mself\u001b[39m\u001b[38;5;241m.\u001b[39mjac \u001b[38;5;241m=\u001b[39m fg[\u001b[38;5;241m1\u001b[39m]\n\u001b[1;32m     75\u001b[0m     \u001b[38;5;28mself\u001b[39m\u001b[38;5;241m.\u001b[39m_value \u001b[38;5;241m=\u001b[39m fg[\u001b[38;5;241m0\u001b[39m]\n",
      "File \u001b[0;32m~/.pyenv/versions/num_spt_venv_p11/lib/python3.11/site-packages/quimb/tensor/optimize.py:1385\u001b[0m, in \u001b[0;36mTNOptimizer.vectorized_value_and_grad\u001b[0;34m(self, x)\u001b[0m\n\u001b[1;32m   1383\u001b[0m \u001b[38;5;28mself\u001b[39m\u001b[38;5;241m.\u001b[39mvectorizer\u001b[38;5;241m.\u001b[39mvector[:] \u001b[38;5;241m=\u001b[39m x\n\u001b[1;32m   1384\u001b[0m arrays \u001b[38;5;241m=\u001b[39m \u001b[38;5;28mself\u001b[39m\u001b[38;5;241m.\u001b[39mvectorizer\u001b[38;5;241m.\u001b[39munpack()\n\u001b[0;32m-> 1385\u001b[0m result, grads \u001b[38;5;241m=\u001b[39m \u001b[38;5;28;43mself\u001b[39;49m\u001b[38;5;241;43m.\u001b[39;49m\u001b[43mhandler\u001b[49m\u001b[38;5;241;43m.\u001b[39;49m\u001b[43mvalue_and_grad\u001b[49m\u001b[43m(\u001b[49m\u001b[43marrays\u001b[49m\u001b[43m)\u001b[49m\n\u001b[1;32m   1386\u001b[0m \u001b[38;5;28mself\u001b[39m\u001b[38;5;241m.\u001b[39m_n \u001b[38;5;241m+\u001b[39m\u001b[38;5;241m=\u001b[39m \u001b[38;5;241m1\u001b[39m\n\u001b[1;32m   1387\u001b[0m \u001b[38;5;28mself\u001b[39m\u001b[38;5;241m.\u001b[39mloss \u001b[38;5;241m=\u001b[39m result\u001b[38;5;241m.\u001b[39mitem()\n",
      "File \u001b[0;32m~/.pyenv/versions/num_spt_venv_p11/lib/python3.11/site-packages/quimb/tensor/optimize.py:664\u001b[0m, in \u001b[0;36mTorchHandler.value_and_grad\u001b[0;34m(self, arrays)\u001b[0m\n\u001b[1;32m    661\u001b[0m     \u001b[38;5;28mself\u001b[39m\u001b[38;5;241m.\u001b[39m_setup_backend_fn(arrays)\n\u001b[1;32m    663\u001b[0m variables \u001b[38;5;241m=\u001b[39m tree_map(\u001b[38;5;28mself\u001b[39m\u001b[38;5;241m.\u001b[39mto_variable, arrays)\n\u001b[0;32m--> 664\u001b[0m result \u001b[38;5;241m=\u001b[39m \u001b[38;5;28;43mself\u001b[39;49m\u001b[38;5;241;43m.\u001b[39;49m\u001b[43m_backend_fn\u001b[49m\u001b[43m(\u001b[49m\u001b[43mvariables\u001b[49m\u001b[43m)\u001b[49m\n\u001b[1;32m    666\u001b[0m \u001b[38;5;28;01mdef\u001b[39;00m \u001b[38;5;21mget_gradient_from_torch\u001b[39m(t):\n\u001b[1;32m    667\u001b[0m     \u001b[38;5;28;01mif\u001b[39;00m t\u001b[38;5;241m.\u001b[39mgrad \u001b[38;5;129;01mis\u001b[39;00m \u001b[38;5;28;01mNone\u001b[39;00m:\n",
      "File \u001b[0;32m~/.pyenv/versions/num_spt_venv_p11/lib/python3.11/site-packages/quimb/tensor/optimize.py:1145\u001b[0m, in \u001b[0;36mMakeArrayFn.__call__\u001b[0;34m(self, arrays)\u001b[0m\n\u001b[1;32m   1143\u001b[0m \u001b[38;5;28;01mdef\u001b[39;00m \u001b[38;5;21m__call__\u001b[39m(\u001b[38;5;28mself\u001b[39m, arrays):\n\u001b[1;32m   1144\u001b[0m     tn_compute \u001b[38;5;241m=\u001b[39m inject_variables(arrays, \u001b[38;5;28mself\u001b[39m\u001b[38;5;241m.\u001b[39mtn_opt)\n\u001b[0;32m-> 1145\u001b[0m     \u001b[38;5;28;01mreturn\u001b[39;00m \u001b[38;5;28;43mself\u001b[39;49m\u001b[38;5;241;43m.\u001b[39;49m\u001b[43mloss_fn\u001b[49m\u001b[43m(\u001b[49m\u001b[38;5;28;43mself\u001b[39;49m\u001b[38;5;241;43m.\u001b[39;49m\u001b[43mnorm_fn\u001b[49m\u001b[43m(\u001b[49m\u001b[43mtn_compute\u001b[49m\u001b[43m)\u001b[49m\u001b[43m)\u001b[49m\n",
      "Cell \u001b[0;32mIn[109], line 5\u001b[0m, in \u001b[0;36moverall_loss_function\u001b[0;34m(mpo_pair, rdm_tn, total_physical_dimension, unitary_cost_coefficient, overlap_cost_coefficient, losses)\u001b[0m\n\u001b[1;32m      1\u001b[0m \u001b[38;5;28;01mdef\u001b[39;00m \u001b[38;5;21moverall_loss_function\u001b[39m(mpo_pair, rdm_tn, total_physical_dimension,\n\u001b[1;32m      2\u001b[0m     unitary_cost_coefficient\u001b[38;5;241m=\u001b[39m\u001b[38;5;241m1\u001b[39m, overlap_cost_coefficient\u001b[38;5;241m=\u001b[39m\u001b[38;5;241m1\u001b[39m, losses\u001b[38;5;241m=\u001b[39m\u001b[38;5;28;01mNone\u001b[39;00m):\n\u001b[1;32m      3\u001b[0m     ml, mr \u001b[38;5;241m=\u001b[39m split_mpo_pair(mpo_pair)\n\u001b[0;32m----> 5\u001b[0m     o_loss \u001b[38;5;241m=\u001b[39m \u001b[43moverlap_loss_function\u001b[49m\u001b[43m(\u001b[49m\u001b[43mml\u001b[49m\u001b[43m,\u001b[49m\u001b[43m \u001b[49m\u001b[43mmr\u001b[49m\u001b[43m,\u001b[49m\u001b[43m \u001b[49m\u001b[43mrdm_tn\u001b[49m\u001b[43m)\u001b[49m\n\u001b[1;32m      6\u001b[0m     ul_loss \u001b[38;5;241m=\u001b[39m math\u001b[38;5;241m.\u001b[39msqrt(\u001b[38;5;241m1\u001b[39m \u001b[38;5;241m+\u001b[39m unitarity_tn(ml, total_physical_dimension)) \u001b[38;5;241m-\u001b[39m \u001b[38;5;241m1\u001b[39m\n\u001b[1;32m      7\u001b[0m     ur_loss \u001b[38;5;241m=\u001b[39m math\u001b[38;5;241m.\u001b[39msqrt(\u001b[38;5;241m1\u001b[39m \u001b[38;5;241m+\u001b[39m unitarity_tn(mr, total_physical_dimension)) \u001b[38;5;241m-\u001b[39m \u001b[38;5;241m1\u001b[39m\n",
      "Cell \u001b[0;32mIn[106], line 2\u001b[0m, in \u001b[0;36moverlap_loss_function\u001b[0;34m(ml, mr, rdm_tn, epsilon)\u001b[0m\n\u001b[1;32m      1\u001b[0m \u001b[38;5;28;01mdef\u001b[39;00m \u001b[38;5;21moverlap_loss_function\u001b[39m(ml, mr, rdm_tn, epsilon\u001b[38;5;241m=\u001b[39m\u001b[38;5;241m1e-12\u001b[39m):\n\u001b[0;32m----> 2\u001b[0m     c \u001b[38;5;241m=\u001b[39m \u001b[43m(\u001b[49m\u001b[43mrdm_tn\u001b[49m\u001b[43m \u001b[49m\u001b[38;5;241;43m&\u001b[39;49m\u001b[43m \u001b[49m\u001b[43mml\u001b[49m\u001b[43m \u001b[49m\u001b[38;5;241;43m&\u001b[39;49m\u001b[43m \u001b[49m\u001b[43mmr\u001b[49m\u001b[43m)\u001b[49m\u001b[43m \u001b[49m\u001b[38;5;241;43m^\u001b[39;49m\u001b[43m \u001b[49m\u001b[38;5;241;43m.\u001b[39;49m\u001b[38;5;241;43m.\u001b[39;49m\u001b[38;5;241;43m.\u001b[39;49m\n\u001b[1;32m      4\u001b[0m     c_abs_squared \u001b[38;5;241m=\u001b[39m (\n\u001b[1;32m      5\u001b[0m         c\n\u001b[1;32m      6\u001b[0m         \u001b[38;5;241m*\u001b[39mc\u001b[38;5;241m.\u001b[39mconjugate()\n\u001b[1;32m      7\u001b[0m     )\n\u001b[1;32m      8\u001b[0m     c_abs_squared\u001b[38;5;241m=\u001b[39mc_abs_squared\u001b[38;5;241m.\u001b[39mreal\n",
      "File \u001b[0;32m~/.pyenv/versions/num_spt_venv_p11/lib/python3.11/site-packages/quimb/tensor/tensor_core.py:9413\u001b[0m, in \u001b[0;36mTensorNetwork.__xor__\u001b[0;34m(self, tags)\u001b[0m\n\u001b[1;32m   9411\u001b[0m \u001b[38;5;28;01mdef\u001b[39;00m \u001b[38;5;21m__xor__\u001b[39m(\u001b[38;5;28mself\u001b[39m, tags):\n\u001b[1;32m   9412\u001b[0m \u001b[38;5;250m    \u001b[39m\u001b[38;5;124;03m\"\"\"Overload of '^' for TensorNetwork.contract.\"\"\"\u001b[39;00m\n\u001b[0;32m-> 9413\u001b[0m     \u001b[38;5;28;01mreturn\u001b[39;00m \u001b[38;5;28;43mself\u001b[39;49m\u001b[38;5;241;43m.\u001b[39;49m\u001b[43mcontract\u001b[49m\u001b[43m(\u001b[49m\u001b[43mtags\u001b[49m\u001b[43m)\u001b[49m\n",
      "File \u001b[0;32m~/.pyenv/versions/num_spt_venv_p11/lib/python3.11/site-packages/quimb/tensor/tensor_core.py:9159\u001b[0m, in \u001b[0;36mTensorNetwork.contract\u001b[0;34m(self, tags, output_inds, optimize, get, max_bond, strip_exponent, preserve_tensor, backend, inplace, **kwargs)\u001b[0m\n\u001b[1;32m   9157\u001b[0m \u001b[38;5;66;03m# contracting everything to single output\u001b[39;00m\n\u001b[1;32m   9158\u001b[0m \u001b[38;5;28;01mif\u001b[39;00m all_tags \u001b[38;5;129;01mand\u001b[39;00m \u001b[38;5;129;01mnot\u001b[39;00m inplace:\n\u001b[0;32m-> 9159\u001b[0m     \u001b[38;5;28;01mreturn\u001b[39;00m \u001b[43mtensor_contract\u001b[49m\u001b[43m(\u001b[49m\n\u001b[1;32m   9160\u001b[0m \u001b[43m        \u001b[49m\u001b[38;5;241;43m*\u001b[39;49m\u001b[38;5;28;43mself\u001b[39;49m\u001b[38;5;241;43m.\u001b[39;49m\u001b[43mtensor_map\u001b[49m\u001b[38;5;241;43m.\u001b[39;49m\u001b[43mvalues\u001b[49m\u001b[43m(\u001b[49m\u001b[43m)\u001b[49m\u001b[43m,\u001b[49m\n\u001b[1;32m   9161\u001b[0m \u001b[43m        \u001b[49m\u001b[43mstrip_exponent\u001b[49m\u001b[38;5;241;43m=\u001b[39;49m\u001b[43mstrip_exponent\u001b[49m\u001b[43m,\u001b[49m\n\u001b[1;32m   9162\u001b[0m \u001b[43m        \u001b[49m\u001b[43mexponent\u001b[49m\u001b[38;5;241;43m=\u001b[39;49m\u001b[38;5;28;43mself\u001b[39;49m\u001b[38;5;241;43m.\u001b[39;49m\u001b[43mexponent\u001b[49m\u001b[43m,\u001b[49m\n\u001b[1;32m   9163\u001b[0m \u001b[43m        \u001b[49m\u001b[38;5;241;43m*\u001b[39;49m\u001b[38;5;241;43m*\u001b[39;49m\u001b[43mkwargs\u001b[49m\u001b[43m,\u001b[49m\n\u001b[1;32m   9164\u001b[0m \u001b[43m    \u001b[49m\u001b[43m)\u001b[49m\n\u001b[1;32m   9166\u001b[0m \u001b[38;5;66;03m# contract some or all tensors, but keeping tensor network\u001b[39;00m\n\u001b[1;32m   9167\u001b[0m \u001b[38;5;28;01mreturn\u001b[39;00m \u001b[38;5;28mself\u001b[39m\u001b[38;5;241m.\u001b[39mcontract_tags(\n\u001b[1;32m   9168\u001b[0m     tags, strip_exponent\u001b[38;5;241m=\u001b[39mstrip_exponent, inplace\u001b[38;5;241m=\u001b[39minplace, \u001b[38;5;241m*\u001b[39m\u001b[38;5;241m*\u001b[39mkwargs\n\u001b[1;32m   9169\u001b[0m )\n",
      "File \u001b[0;32m~/.pyenv/versions/3.11.9/lib/python3.11/functools.py:909\u001b[0m, in \u001b[0;36msingledispatch.<locals>.wrapper\u001b[0;34m(*args, **kw)\u001b[0m\n\u001b[1;32m    905\u001b[0m \u001b[38;5;28;01mif\u001b[39;00m \u001b[38;5;129;01mnot\u001b[39;00m args:\n\u001b[1;32m    906\u001b[0m     \u001b[38;5;28;01mraise\u001b[39;00m \u001b[38;5;167;01mTypeError\u001b[39;00m(\u001b[38;5;124mf\u001b[39m\u001b[38;5;124m'\u001b[39m\u001b[38;5;132;01m{\u001b[39;00mfuncname\u001b[38;5;132;01m}\u001b[39;00m\u001b[38;5;124m requires at least \u001b[39m\u001b[38;5;124m'\u001b[39m\n\u001b[1;32m    907\u001b[0m                     \u001b[38;5;124m'\u001b[39m\u001b[38;5;124m1 positional argument\u001b[39m\u001b[38;5;124m'\u001b[39m)\n\u001b[0;32m--> 909\u001b[0m \u001b[38;5;28;01mreturn\u001b[39;00m \u001b[43mdispatch\u001b[49m\u001b[43m(\u001b[49m\u001b[43margs\u001b[49m\u001b[43m[\u001b[49m\u001b[38;5;241;43m0\u001b[39;49m\u001b[43m]\u001b[49m\u001b[38;5;241;43m.\u001b[39;49m\u001b[38;5;18;43m__class__\u001b[39;49m\u001b[43m)\u001b[49m\u001b[43m(\u001b[49m\u001b[38;5;241;43m*\u001b[39;49m\u001b[43margs\u001b[49m\u001b[43m,\u001b[49m\u001b[43m \u001b[49m\u001b[38;5;241;43m*\u001b[39;49m\u001b[38;5;241;43m*\u001b[39;49m\u001b[43mkw\u001b[49m\u001b[43m)\u001b[49m\n",
      "File \u001b[0;32m~/.pyenv/versions/num_spt_venv_p11/lib/python3.11/site-packages/quimb/tensor/tensor_core.py:309\u001b[0m, in \u001b[0;36mtensor_contract\u001b[0;34m(output_inds, optimize, get, backend, preserve_tensor, drop_tags, strip_exponent, exponent, *tensors, **contract_opts)\u001b[0m\n\u001b[1;32m    298\u001b[0m     \u001b[38;5;28;01mreturn\u001b[39;00m _tensor_contract_get_other(\n\u001b[1;32m    299\u001b[0m         arrays\u001b[38;5;241m=\u001b[39marrays,\n\u001b[1;32m    300\u001b[0m         inds\u001b[38;5;241m=\u001b[39minds,\n\u001b[0;32m   (...)\u001b[0m\n\u001b[1;32m    305\u001b[0m         \u001b[38;5;241m*\u001b[39m\u001b[38;5;241m*\u001b[39mcontract_opts,\n\u001b[1;32m    306\u001b[0m     )\n\u001b[1;32m    308\u001b[0m \u001b[38;5;66;03m# perform the contraction!\u001b[39;00m\n\u001b[0;32m--> 309\u001b[0m data_out \u001b[38;5;241m=\u001b[39m \u001b[43marray_contract\u001b[49m\u001b[43m(\u001b[49m\n\u001b[1;32m    310\u001b[0m \u001b[43m    \u001b[49m\u001b[43marrays\u001b[49m\u001b[43m,\u001b[49m\n\u001b[1;32m    311\u001b[0m \u001b[43m    \u001b[49m\u001b[43minds\u001b[49m\u001b[43m,\u001b[49m\n\u001b[1;32m    312\u001b[0m \u001b[43m    \u001b[49m\u001b[43minds_out\u001b[49m\u001b[43m,\u001b[49m\n\u001b[1;32m    313\u001b[0m \u001b[43m    \u001b[49m\u001b[43moptimize\u001b[49m\u001b[38;5;241;43m=\u001b[39;49m\u001b[43moptimize\u001b[49m\u001b[43m,\u001b[49m\n\u001b[1;32m    314\u001b[0m \u001b[43m    \u001b[49m\u001b[43mstrip_exponent\u001b[49m\u001b[38;5;241;43m=\u001b[39;49m\u001b[43mstrip_exponent\u001b[49m\u001b[43m,\u001b[49m\n\u001b[1;32m    315\u001b[0m \u001b[43m    \u001b[49m\u001b[43mbackend\u001b[49m\u001b[38;5;241;43m=\u001b[39;49m\u001b[43mbackend\u001b[49m\u001b[43m,\u001b[49m\n\u001b[1;32m    316\u001b[0m \u001b[43m    \u001b[49m\u001b[38;5;241;43m*\u001b[39;49m\u001b[38;5;241;43m*\u001b[39;49m\u001b[43mcontract_opts\u001b[49m\u001b[43m,\u001b[49m\n\u001b[1;32m    317\u001b[0m \u001b[43m\u001b[49m\u001b[43m)\u001b[49m\n\u001b[1;32m    319\u001b[0m \u001b[38;5;28;01mif\u001b[39;00m strip_exponent:\n\u001b[1;32m    320\u001b[0m     \u001b[38;5;66;03m# mantissa and exponent returned separately\u001b[39;00m\n\u001b[1;32m    321\u001b[0m     data_out, result_exponent \u001b[38;5;241m=\u001b[39m data_out\n",
      "File \u001b[0;32m~/.pyenv/versions/num_spt_venv_p11/lib/python3.11/site-packages/quimb/tensor/contraction.py:285\u001b[0m, in \u001b[0;36marray_contract\u001b[0;34m(arrays, inputs, output, optimize, backend, **kwargs)\u001b[0m\n\u001b[1;32m    283\u001b[0m \u001b[38;5;28;01mif\u001b[39;00m backend \u001b[38;5;129;01mis\u001b[39;00m \u001b[38;5;28;01mNone\u001b[39;00m:\n\u001b[1;32m    284\u001b[0m     backend \u001b[38;5;241m=\u001b[39m get_contract_backend()\n\u001b[0;32m--> 285\u001b[0m \u001b[38;5;28;01mreturn\u001b[39;00m \u001b[43mctg\u001b[49m\u001b[38;5;241;43m.\u001b[39;49m\u001b[43marray_contract\u001b[49m\u001b[43m(\u001b[49m\n\u001b[1;32m    286\u001b[0m \u001b[43m    \u001b[49m\u001b[43marrays\u001b[49m\u001b[43m,\u001b[49m\n\u001b[1;32m    287\u001b[0m \u001b[43m    \u001b[49m\u001b[43minputs\u001b[49m\u001b[43m,\u001b[49m\n\u001b[1;32m    288\u001b[0m \u001b[43m    \u001b[49m\u001b[43moutput\u001b[49m\u001b[43m,\u001b[49m\n\u001b[1;32m    289\u001b[0m \u001b[43m    \u001b[49m\u001b[43moptimize\u001b[49m\u001b[38;5;241;43m=\u001b[39;49m\u001b[43moptimize\u001b[49m\u001b[43m,\u001b[49m\n\u001b[1;32m    290\u001b[0m \u001b[43m    \u001b[49m\u001b[43mbackend\u001b[49m\u001b[38;5;241;43m=\u001b[39;49m\u001b[43mbackend\u001b[49m\u001b[43m,\u001b[49m\n\u001b[1;32m    291\u001b[0m \u001b[43m    \u001b[49m\u001b[38;5;241;43m*\u001b[39;49m\u001b[38;5;241;43m*\u001b[39;49m\u001b[43mkwargs\u001b[49m\u001b[43m,\u001b[49m\n\u001b[1;32m    292\u001b[0m \u001b[43m\u001b[49m\u001b[43m)\u001b[49m\n",
      "File \u001b[0;32m~/.pyenv/versions/num_spt_venv_p11/lib/python3.11/site-packages/cotengra/interface.py:864\u001b[0m, in \u001b[0;36marray_contract\u001b[0;34m(arrays, inputs, output, optimize, strip_exponent, cache_expression, backend, **kwargs)\u001b[0m\n\u001b[1;32m    854\u001b[0m shapes \u001b[38;5;241m=\u001b[39m \u001b[38;5;28mtuple\u001b[39m(\u001b[38;5;28mmap\u001b[39m(ar\u001b[38;5;241m.\u001b[39mshape, arrays))\n\u001b[1;32m    855\u001b[0m expr \u001b[38;5;241m=\u001b[39m array_contract_expression(\n\u001b[1;32m    856\u001b[0m     inputs,\n\u001b[1;32m    857\u001b[0m     output,\n\u001b[0;32m   (...)\u001b[0m\n\u001b[1;32m    862\u001b[0m     \u001b[38;5;241m*\u001b[39m\u001b[38;5;241m*\u001b[39mkwargs,\n\u001b[1;32m    863\u001b[0m )\n\u001b[0;32m--> 864\u001b[0m \u001b[38;5;28;01mreturn\u001b[39;00m \u001b[43mexpr\u001b[49m\u001b[43m(\u001b[49m\u001b[38;5;241;43m*\u001b[39;49m\u001b[43marrays\u001b[49m\u001b[43m,\u001b[49m\u001b[43m \u001b[49m\u001b[43mbackend\u001b[49m\u001b[38;5;241;43m=\u001b[39;49m\u001b[43mbackend\u001b[49m\u001b[43m)\u001b[49m\n",
      "File \u001b[0;32m~/.pyenv/versions/num_spt_venv_p11/lib/python3.11/site-packages/cotengra/contract.py:784\u001b[0m, in \u001b[0;36mContractor.__call__\u001b[0;34m(self, *arrays, **kwargs)\u001b[0m\n\u001b[1;32m    781\u001b[0m r_array \u001b[38;5;241m=\u001b[39m temps\u001b[38;5;241m.\u001b[39mpop(r)\n\u001b[1;32m    783\u001b[0m \u001b[38;5;28;01mif\u001b[39;00m tdot:\n\u001b[0;32m--> 784\u001b[0m     p_array \u001b[38;5;241m=\u001b[39m \u001b[43m_tensordot\u001b[49m\u001b[43m(\u001b[49m\u001b[43ml_array\u001b[49m\u001b[43m,\u001b[49m\u001b[43m \u001b[49m\u001b[43mr_array\u001b[49m\u001b[43m,\u001b[49m\u001b[43m \u001b[49m\u001b[43marg\u001b[49m\u001b[43m)\u001b[49m\n\u001b[1;32m    785\u001b[0m     \u001b[38;5;28;01mif\u001b[39;00m perm:\n\u001b[1;32m    786\u001b[0m         p_array \u001b[38;5;241m=\u001b[39m do(\u001b[38;5;124m\"\u001b[39m\u001b[38;5;124mtranspose\u001b[39m\u001b[38;5;124m\"\u001b[39m, p_array, perm, like\u001b[38;5;241m=\u001b[39mbackend)\n",
      "File \u001b[0;32m~/.pyenv/versions/num_spt_venv_p11/lib/python3.11/site-packages/autoray/autoray.py:1980\u001b[0m, in \u001b[0;36mtorch_tensordot_wrap.<locals>.numpy_like\u001b[0;34m(a, b, axes)\u001b[0m\n\u001b[1;32m   1978\u001b[0m \u001b[38;5;129m@functools\u001b[39m\u001b[38;5;241m.\u001b[39mwraps(fn)\n\u001b[1;32m   1979\u001b[0m \u001b[38;5;28;01mdef\u001b[39;00m \u001b[38;5;21mnumpy_like\u001b[39m(a, b, axes\u001b[38;5;241m=\u001b[39m\u001b[38;5;241m2\u001b[39m):\n\u001b[0;32m-> 1980\u001b[0m     \u001b[38;5;28;01mreturn\u001b[39;00m \u001b[43mfn\u001b[49m\u001b[43m(\u001b[49m\u001b[43ma\u001b[49m\u001b[43m,\u001b[49m\u001b[43m \u001b[49m\u001b[43mb\u001b[49m\u001b[43m,\u001b[49m\u001b[43m \u001b[49m\u001b[43mdims\u001b[49m\u001b[38;5;241;43m=\u001b[39;49m\u001b[43maxes\u001b[49m\u001b[43m)\u001b[49m\n",
      "File \u001b[0;32m~/.pyenv/versions/num_spt_venv_p11/lib/python3.11/site-packages/torch/functional.py:1382\u001b[0m, in \u001b[0;36mtensordot\u001b[0;34m(a, b, dims, out)\u001b[0m\n\u001b[1;32m   1379\u001b[0m     dims_b \u001b[38;5;241m=\u001b[39m \u001b[38;5;28mlist\u001b[39m(\u001b[38;5;28mrange\u001b[39m(dims))\n\u001b[1;32m   1381\u001b[0m \u001b[38;5;28;01mif\u001b[39;00m out \u001b[38;5;129;01mis\u001b[39;00m \u001b[38;5;28;01mNone\u001b[39;00m:\n\u001b[0;32m-> 1382\u001b[0m     \u001b[38;5;28;01mreturn\u001b[39;00m \u001b[43m_VF\u001b[49m\u001b[38;5;241;43m.\u001b[39;49m\u001b[43mtensordot\u001b[49m\u001b[43m(\u001b[49m\u001b[43ma\u001b[49m\u001b[43m,\u001b[49m\u001b[43m \u001b[49m\u001b[43mb\u001b[49m\u001b[43m,\u001b[49m\u001b[43m \u001b[49m\u001b[43mdims_a\u001b[49m\u001b[43m,\u001b[49m\u001b[43m \u001b[49m\u001b[43mdims_b\u001b[49m\u001b[43m)\u001b[49m  \u001b[38;5;66;03m# type: ignore[attr-defined]\u001b[39;00m\n\u001b[1;32m   1383\u001b[0m \u001b[38;5;28;01melse\u001b[39;00m:\n\u001b[1;32m   1384\u001b[0m     \u001b[38;5;28;01mreturn\u001b[39;00m _VF\u001b[38;5;241m.\u001b[39mtensordot(a, b, dims_a, dims_b, out\u001b[38;5;241m=\u001b[39mout)\n",
      "\u001b[0;31mTypeError\u001b[0m: tensordot(): argument 'input' (position 1) must be Tensor, not numpy.ndarray"
     ]
    }
   ],
   "source": [
    "optimizers = dict()\n",
    "\n",
    "for _ in range(num_seeds):\n",
    "    hyperparams ={k: v.rvs() for k, v in hyperparameter_dists_dict.items()}\n",
    "\n",
    "    mpo = initialize_mpo(\n",
    "        left_most_symmetry_site,\n",
    "        num_symmetry_sites,\n",
    "        num_boundary_sites,\n",
    "        hyperparams['bond_dimension']\n",
    "    )\n",
    "\n",
    "    optmzr = qtn.optimize.TNOptimizer(\n",
    "        mpo,                                # our initial input, the tensors of which to optimize\n",
    "        loss_fn=overall_loss_function,\n",
    "        loss_kwargs={\n",
    "            'rdm_tn': problem_rdm,\n",
    "            'total_physical_dimension': total_physical_dim,\n",
    "            'unitary_cost_coefficient': 0,\n",
    "            'overlap_cost_coefficient': hyperparams['overlap_learning_rate']\n",
    "        },\n",
    "        autodiff_backend='torch',      # {'jax', 'tensorflow', 'autograd'}\n",
    "        optimizer='adam',               # supplied to scipy.minimize\n",
    "    )\n",
    "\n",
    "    optmzr.optimize(\n",
    "        num_iterations,\n",
    "        learning_rate=hyperparams['alpha'],\n",
    "        beta1=hyperparams['beta_1'],\n",
    "        beta2=hyperparams['beta_2']\n",
    "    )\n",
    "\n",
    "    optimizers[HyperParams(**hyperparams)] = optmzr"
   ]
  },
  {
   "cell_type": "markdown",
   "id": "e7610894-1363-4101-aa06-ac6220f41a59",
   "metadata": {},
   "source": [
    "Can't get to work."
   ]
  },
  {
   "cell_type": "markdown",
   "id": "b9540d49-59fd-41d3-84f6-5ca69aa6cc47",
   "metadata": {},
   "source": [
    "## 9 - L-BFGS-B"
   ]
  },
  {
   "cell_type": "code",
   "execution_count": 117,
   "id": "181a02fe-8061-4eb0-aa20-e67391f698b9",
   "metadata": {},
   "outputs": [],
   "source": [
    "def overlap_loss_function(ml, mr, rdm_tn, epsilon=1e-8):\n",
    "    c = (rdm_tn & ml & mr) ^ ...\n",
    "\n",
    "    c_abs_squared = (\n",
    "        c\n",
    "        *jnp.conjugate(c)\n",
    "    )\n",
    "    c_abs_squared = c_abs_squared.astype('float32')\n",
    "    c_abs = (jnp.sqrt(c_abs_squared+epsilon))\n",
    "\n",
    "    target = jnp.sqrt(1+epsilon)\n",
    "    loss = (c_abs - target)**2\n",
    "\n",
    "    return loss"
   ]
  },
  {
   "cell_type": "code",
   "execution_count": 118,
   "id": "48594c6d-44cd-400f-8881-8fa8c0659a1e",
   "metadata": {},
   "outputs": [],
   "source": [
    "total_physical_dim = 2**9"
   ]
  },
  {
   "cell_type": "code",
   "execution_count": 119,
   "id": "2cabe60e-0004-4b83-9ffb-9f2bf95ad408",
   "metadata": {},
   "outputs": [],
   "source": [
    "def unitarity_tn(tn, total_physical_dim):\n",
    "    ms = [tn.copy(), tn.copy(), tn.copy()]\n",
    "\n",
    "    relabel_mpo(ms[0], 'k', 'l')\n",
    "    relabel_mpo(ms[1], 'm', 'l')\n",
    "    relabel_mpo(ms[2], 'm', 'b')\n",
    "\n",
    "    ms[0] = ms[0].conj()\n",
    "    ms[2] = ms[2].conj()\n",
    "\n",
    "    n2tn = (tn & tn.conj())\n",
    "    n2 = n2tn.contract(n2tn.tag_map)\n",
    "    n4tn = (tn & ms[0] & ms[1] & ms[2])\n",
    "    n4 = n4tn.contract(n4tn.tag_map)\n",
    "\n",
    "    out = jnp.real(n4 - 2*n2 + total_physical_dim)\n",
    "\n",
    "    return out"
   ]
  },
  {
   "cell_type": "code",
   "execution_count": 120,
   "id": "95de1344-f9f7-455d-9f78-95b17d601d01",
   "metadata": {},
   "outputs": [],
   "source": [
    "def overall_loss_function(mpo_pair, rdm_tn, total_physical_dimension,\n",
    "    unitary_cost_coefficient=1, overlap_cost_coefficient=1, losses=None):\n",
    "    ml, mr = split_mpo_pair(mpo_pair)\n",
    "\n",
    "    o_loss = overlap_loss_function(ml, mr, rdm_tn)\n",
    "    ul_loss = jnp.sqrt(1 + unitarity_tn(ml, total_physical_dimension)) - 1\n",
    "    ur_loss = jnp.sqrt(1 + unitarity_tn(mr, total_physical_dimension)) - 1\n",
    "\n",
    "    out = (\n",
    "        unitary_cost_coefficient*(ul_loss+ur_loss)\n",
    "        + overlap_cost_coefficient*o_loss\n",
    "    )\n",
    "\n",
    "    out = jnp.real(out)\n",
    "\n",
    "    if losses is not None:\n",
    "        losses.append((o_loss, ul_loss, ur_loss))\n",
    "    return out"
   ]
  },
  {
   "cell_type": "code",
   "execution_count": 121,
   "id": "1b3f3474-9d35-40e1-aa07-ce76bb0c545f",
   "metadata": {},
   "outputs": [],
   "source": [
    "num_iterations = int(1e4) \n",
    "num_seeds = 5\n",
    "\n",
    "hyperparameter_dists_dict = {\n",
    "    'alpha': scipy.stats.loguniform(1e-4, 1e-2),\n",
    "    'beta_1': scipy.stats.uniform(0.1, 0.5),\n",
    "    'beta_2': scipy.stats.uniform(0.1, 0.5),\n",
    "    'bond_dimension': scipy.stats.randint(4, 8),\n",
    "    'overlap_learning_rate': scipy.stats.randint(100, 500)\n",
    "}"
   ]
  },
  {
   "cell_type": "code",
   "execution_count": 122,
   "id": "51135e5f-ccd6-41b4-8566-a94352d85262",
   "metadata": {},
   "outputs": [],
   "source": [
    "HyperParams = namedtuple('HyperParams', hyperparameter_dists_dict)"
   ]
  },
  {
   "cell_type": "code",
   "execution_count": 124,
   "id": "2966de62-b309-4e7a-8253-b96da9494e44",
   "metadata": {},
   "outputs": [
    {
     "name": "stderr",
     "output_type": "stream",
     "text": [
      "+266.946594238281 [best: +266.946594238281] :   0%|                                                                                                                     | 1/10000 [00:00<2:41:16,  1.03it/s]\n",
      "+261.947601318359 [best: +261.947601318359] :   0%|                                                                                                                     | 1/10000 [00:00<2:18:51,  1.20it/s]\n",
      "+480.903778076172 [best: +480.903778076172] :   0%|                                                                                                                     | 1/10000 [00:00<1:52:00,  1.49it/s]\n",
      "+277.944396972656 [best: +277.944396972656] :   0%|                                                                                                                     | 1/10000 [00:00<1:48:14,  1.54it/s]\n",
      "+394.920989990234 [best: +394.920989990234] :   0%|                                                                                                                     | 1/10000 [00:00<1:49:32,  1.52it/s]\n"
     ]
    }
   ],
   "source": [
    "optimizers = dict()\n",
    "\n",
    "for _ in range(num_seeds):\n",
    "    hyperparams ={k: v.rvs() for k, v in hyperparameter_dists_dict.items()}\n",
    "\n",
    "    mpo = initialize_mpo(\n",
    "        left_most_symmetry_site,\n",
    "        num_symmetry_sites,\n",
    "        num_boundary_sites,\n",
    "        hyperparams['bond_dimension']\n",
    "    )\n",
    "\n",
    "    optmzr = qtn.optimize.TNOptimizer(\n",
    "        mpo,                                # our initial input, the tensors of which to optimize\n",
    "        loss_fn=overall_loss_function,\n",
    "        loss_kwargs={\n",
    "            'rdm_tn': problem_rdm,\n",
    "            'total_physical_dimension': total_physical_dim,\n",
    "            'unitary_cost_coefficient': 0,\n",
    "            'overlap_cost_coefficient': hyperparams['overlap_learning_rate']\n",
    "        },\n",
    "        autodiff_backend='jax',      # {'jax', 'tensorflow', 'autograd'}\n",
    "        optimizer='L-BFGS-B',               # supplied to scipy.minimize\n",
    "    )\n",
    "\n",
    "    optmzr.optimize(\n",
    "        num_iterations\n",
    "    )\n",
    "\n",
    "    optimizers[HyperParams(**hyperparams)] = optmzr"
   ]
  },
  {
   "cell_type": "code",
   "execution_count": 125,
   "id": "03ea126c-f327-463f-895c-3fd16322ea3a",
   "metadata": {},
   "outputs": [
    {
     "data": {
      "text/plain": [
       "{HyperParams(alpha=0.00017618796030585912, beta_1=0.3756658744680327, beta_2=0.11393847609467803, bond_dimension=7, overlap_learning_rate=267): <TNOptimizer(d=8400, backend=jax)>,\n",
       " HyperParams(alpha=0.00036282502473841926, beta_1=0.1562756491896002, beta_2=0.24994966946759292, bond_dimension=7, overlap_learning_rate=262): <TNOptimizer(d=8400, backend=jax)>,\n",
       " HyperParams(alpha=0.0013263859168604088, beta_1=0.11871258416811217, beta_2=0.5273279112077588, bond_dimension=4, overlap_learning_rate=481): <TNOptimizer(d=2880, backend=jax)>,\n",
       " HyperParams(alpha=0.006823306182935286, beta_1=0.511695450728241, beta_2=0.22141678288455005, bond_dimension=4, overlap_learning_rate=278): <TNOptimizer(d=2880, backend=jax)>,\n",
       " HyperParams(alpha=0.007248401236919934, beta_1=0.44875916529665716, beta_2=0.36368886328778294, bond_dimension=6, overlap_learning_rate=395): <TNOptimizer(d=6240, backend=jax)>}"
      ]
     },
     "execution_count": 125,
     "metadata": {},
     "output_type": "execute_result"
    }
   ],
   "source": [
    "optimizers"
   ]
  },
  {
   "cell_type": "code",
   "execution_count": 126,
   "id": "4e33d04d-0640-4bb6-95ce-5053c70e459b",
   "metadata": {},
   "outputs": [],
   "source": [
    "optimizer_list = [\n",
    "    (k, v) for k, v in optimizers.items()\n",
    "]"
   ]
  },
  {
   "cell_type": "code",
   "execution_count": 127,
   "id": "93f9a3e7-dacc-4041-9ca1-cdb1c8c83813",
   "metadata": {},
   "outputs": [
    {
     "data": {
      "text/plain": [
       "HyperParams(alpha=0.00017618796030585912, beta_1=0.3756658744680327, beta_2=0.11393847609467803, bond_dimension=7, overlap_learning_rate=267)"
      ]
     },
     "execution_count": 127,
     "metadata": {},
     "output_type": "execute_result"
    }
   ],
   "source": [
    "optimizer_list[0][0]"
   ]
  },
  {
   "cell_type": "code",
   "execution_count": 128,
   "id": "96f40b63-05a3-4c6f-ac18-3efed6e0c61a",
   "metadata": {},
   "outputs": [],
   "source": [
    "final_scores = list()\n",
    "\n",
    "for h, o in optimizer_list:\n",
    "    mpo_opt = o.get_tn_opt()\n",
    "    ml, mr = split_mpo_pair(mpo_opt)\n",
    "\n",
    "    out = (\n",
    "        overlap_loss_function(ml, mr, problem_rdm),\n",
    "        unitarity_tn(ml, total_physical_dim),\n",
    "        unitarity_tn(mr, total_physical_dim),\n",
    "    )\n",
    "\n",
    "    final_scores.append(out)"
   ]
  },
  {
   "cell_type": "code",
   "execution_count": 129,
   "id": "fa728b6c-dc11-4c0c-9796-39adbcbbdb35",
   "metadata": {},
   "outputs": [
    {
     "data": {
      "text/plain": [
       "[(Array(0.99979997, dtype=float32),\n",
       "  Array(510.00705, dtype=float32, weak_type=True),\n",
       "  Array(510.00687, dtype=float32, weak_type=True)),\n",
       " (Array(0.99979997, dtype=float32),\n",
       "  Array(510.0068, dtype=float32, weak_type=True),\n",
       "  Array(510.00723, dtype=float32, weak_type=True)),\n",
       " (Array(0.99979997, dtype=float32),\n",
       "  Array(510.01245, dtype=float32, weak_type=True),\n",
       "  Array(510.01108, dtype=float32, weak_type=True)),\n",
       " (Array(0.99979997, dtype=float32),\n",
       "  Array(510.01218, dtype=float32, weak_type=True),\n",
       "  Array(510.0098, dtype=float32, weak_type=True)),\n",
       " (Array(0.99979997, dtype=float32),\n",
       "  Array(510.00735, dtype=float32, weak_type=True),\n",
       "  Array(510.0081, dtype=float32, weak_type=True))]"
      ]
     },
     "execution_count": 129,
     "metadata": {},
     "output_type": "execute_result"
    }
   ],
   "source": [
    "final_scores"
   ]
  },
  {
   "cell_type": "markdown",
   "id": "324be6f4-0441-43c0-a219-bc0984e14cde",
   "metadata": {},
   "source": [
    "## 10 - zero tolerance"
   ]
  },
  {
   "cell_type": "code",
   "execution_count": 144,
   "id": "548744af-ed28-4ee2-a90c-bddbec5960f0",
   "metadata": {},
   "outputs": [
    {
     "name": "stderr",
     "output_type": "stream",
     "text": [
      "+456.908599853516 [best: +456.908599853516] :   0%|                                                                                                                     | 1/10000 [00:00<2:15:02,  1.23it/s]\n",
      "+371.925598144531 [best: +371.925598144531] :   0%|                                                                                                                     | 1/10000 [00:00<1:54:42,  1.45it/s]\n",
      "+295.940795898438 [best: +295.940795898438] :   0%|                                                                                                                     | 1/10000 [00:00<1:48:43,  1.53it/s]\n",
      "+400.919799804688 [best: +400.919799804688] :   0%|                                                                                                                     | 1/10000 [00:02<6:22:00,  2.29s/it]\n",
      "+490.901794433594 [best: +490.901794433594] :   0%|                                                                                                                     | 1/10000 [00:00<1:52:45,  1.48it/s]\n"
     ]
    }
   ],
   "source": [
    "optimizers = dict()\n",
    "\n",
    "for _ in range(num_seeds):\n",
    "    hyperparams ={k: v.rvs() for k, v in hyperparameter_dists_dict.items()}\n",
    "\n",
    "    mpo = initialize_mpo(\n",
    "        left_most_symmetry_site,\n",
    "        num_symmetry_sites,\n",
    "        num_boundary_sites,\n",
    "        hyperparams['bond_dimension']\n",
    "    )\n",
    "\n",
    "    optmzr = qtn.optimize.TNOptimizer(\n",
    "        mpo,                                # our initial input, the tensors of which to optimize\n",
    "        loss_fn=overall_loss_function,\n",
    "        loss_kwargs={\n",
    "            'rdm_tn': problem_rdm,\n",
    "            'total_physical_dimension': total_physical_dim,\n",
    "            'unitary_cost_coefficient': 0,\n",
    "            'overlap_cost_coefficient': hyperparams['overlap_learning_rate']\n",
    "        },\n",
    "        autodiff_backend='jax',      # {'jax', 'tensorflow', 'autograd'}\n",
    "        optimizer='L-BFGS-B',               # supplied to scipy.minimize\n",
    "    )\n",
    "\n",
    "    optmzr.optimize(\n",
    "        num_iterations,\n",
    "        gtol=0,\n",
    "        ftol=0\n",
    "    )\n",
    "\n",
    "    optimizers[HyperParams(**hyperparams)] = optmzr"
   ]
  },
  {
   "cell_type": "markdown",
   "id": "0d19558d-ea31-4b2f-9769-fd88f56575dd",
   "metadata": {},
   "source": [
    "## 11 - Vary overlap epsilon"
   ]
  },
  {
   "cell_type": "code",
   "execution_count": 146,
   "id": "26505cd1-6979-46a0-986d-516196052745",
   "metadata": {},
   "outputs": [],
   "source": [
    "def overall_loss_function(mpo_pair, rdm_tn, total_physical_dimension,\n",
    "    unitary_cost_coefficient=1, overlap_cost_coefficient=1, epsilon=1e-8,\n",
    "                          losses=None):\n",
    "    ml, mr = split_mpo_pair(mpo_pair)\n",
    "\n",
    "    o_loss = overlap_loss_function(ml, mr, rdm_tn, epsilon=epsilon)\n",
    "    ul_loss = jnp.sqrt(1 + unitarity_tn(ml, total_physical_dimension)) - 1\n",
    "    ur_loss = jnp.sqrt(1 + unitarity_tn(mr, total_physical_dimension)) - 1\n",
    "\n",
    "    out = (\n",
    "        unitary_cost_coefficient*(ul_loss+ur_loss)\n",
    "        + overlap_cost_coefficient*o_loss\n",
    "    )\n",
    "\n",
    "    out = jnp.real(out)\n",
    "\n",
    "    if losses is not None:\n",
    "        losses.append((o_loss, ul_loss, ur_loss))\n",
    "    return out"
   ]
  },
  {
   "cell_type": "code",
   "execution_count": 147,
   "id": "851a165d-8293-4716-9de0-c2f13b0a14e5",
   "metadata": {},
   "outputs": [
    {
     "name": "stderr",
     "output_type": "stream",
     "text": [
      "+nan [best: +470.000000000000] :   0%|▌                                                                                                                                  | 41/10000 [00:01<04:22, 37.95it/s]\n",
      "+nan [best: +344.000000000000] :   0%|▌                                                                                                                                  | 41/10000 [00:00<03:58, 41.76it/s]\n",
      "+nan [best: +232.000000000000] :   0%|▌                                                                                                                                  | 41/10000 [00:00<03:20, 49.65it/s]\n",
      "+nan [best: +405.000000000000] :   0%|▌                                                                                                                                  | 41/10000 [00:00<03:24, 48.82it/s]\n",
      "+nan [best: +424.000000000000] :   0%|▌                                                                                                                                  | 41/10000 [00:00<02:55, 56.61it/s]\n"
     ]
    }
   ],
   "source": [
    "optimizers = dict()\n",
    "\n",
    "for _ in range(num_seeds):\n",
    "    hyperparams ={k: v.rvs() for k, v in hyperparameter_dists_dict.items()}\n",
    "\n",
    "    mpo = initialize_mpo(\n",
    "        left_most_symmetry_site,\n",
    "        num_symmetry_sites,\n",
    "        num_boundary_sites,\n",
    "        hyperparams['bond_dimension']\n",
    "    )\n",
    "\n",
    "    optmzr = qtn.optimize.TNOptimizer(\n",
    "        mpo,                                # our initial input, the tensors of which to optimize\n",
    "        loss_fn=overall_loss_function,\n",
    "        loss_kwargs={\n",
    "            'rdm_tn': problem_rdm,\n",
    "            'total_physical_dimension': total_physical_dim,\n",
    "            'unitary_cost_coefficient': 0,\n",
    "            'overlap_cost_coefficient': hyperparams['overlap_learning_rate'],\n",
    "            'epsilon': 0\n",
    "        },\n",
    "        autodiff_backend='jax',      # {'jax', 'tensorflow', 'autograd'}\n",
    "        optimizer='L-BFGS-B',               # supplied to scipy.minimize\n",
    "    )\n",
    "\n",
    "    optmzr.optimize(\n",
    "        num_iterations,\n",
    "        gtol=0,\n",
    "        ftol=0\n",
    "    )\n",
    "\n",
    "    optimizers[HyperParams(**hyperparams)] = optmzr"
   ]
  },
  {
   "cell_type": "code",
   "execution_count": 148,
   "id": "5e2c6fcb-0324-49be-8935-b39d46487eb7",
   "metadata": {},
   "outputs": [
    {
     "name": "stderr",
     "output_type": "stream",
     "text": [
      "+402.000000000000 [best: +402.000000000000] :   0%|                                                                                                                     | 1/10000 [00:00<2:27:46,  1.13it/s]\n",
      "+210.000000000000 [best: +210.000000000000] :   0%|                                                                                                                     | 1/10000 [00:00<1:51:16,  1.50it/s]\n",
      "+284.000000000000 [best: +284.000000000000] :   0%|                                                                                                                     | 1/10000 [00:00<1:56:29,  1.43it/s]\n",
      "+223.000000000000 [best: +223.000000000000] :   0%|                                                                                                                     | 1/10000 [00:00<1:54:17,  1.46it/s]\n",
      "+227.000000000000 [best: +227.000000000000] :   0%|                                                                                                                     | 1/10000 [00:00<1:53:51,  1.46it/s]\n"
     ]
    }
   ],
   "source": [
    "optimizers = dict()\n",
    "\n",
    "for _ in range(num_seeds):\n",
    "    hyperparams ={k: v.rvs() for k, v in hyperparameter_dists_dict.items()}\n",
    "\n",
    "    mpo = initialize_mpo(\n",
    "        left_most_symmetry_site,\n",
    "        num_symmetry_sites,\n",
    "        num_boundary_sites,\n",
    "        hyperparams['bond_dimension']\n",
    "    )\n",
    "\n",
    "    optmzr = qtn.optimize.TNOptimizer(\n",
    "        mpo,                                # our initial input, the tensors of which to optimize\n",
    "        loss_fn=overall_loss_function,\n",
    "        loss_kwargs={\n",
    "            'rdm_tn': problem_rdm,\n",
    "            'total_physical_dimension': total_physical_dim,\n",
    "            'unitary_cost_coefficient': 0,\n",
    "            'overlap_cost_coefficient': hyperparams['overlap_learning_rate'],\n",
    "            'epsilon': 1e-30\n",
    "        },\n",
    "        autodiff_backend='jax',      # {'jax', 'tensorflow', 'autograd'}\n",
    "        optimizer='L-BFGS-B',               # supplied to scipy.minimize\n",
    "    )\n",
    "\n",
    "    optmzr.optimize(\n",
    "        num_iterations,\n",
    "        gtol=0,\n",
    "        ftol=0\n",
    "    )\n",
    "\n",
    "    optimizers[HyperParams(**hyperparams)] = optmzr"
   ]
  },
  {
   "cell_type": "code",
   "execution_count": 149,
   "id": "b6adc63b-66a4-46a1-9d50-79cedc1eb6fe",
   "metadata": {},
   "outputs": [
    {
     "name": "stderr",
     "output_type": "stream",
     "text": [
      "+nan [best: +174.000000000000] :   0%|▌                                                                                                                                  | 41/10000 [00:00<03:45, 44.22it/s]\n",
      "+nan [best: +134.000000000000] :   0%|▌                                                                                                                                  | 41/10000 [00:00<03:07, 52.99it/s]\n",
      "+nan [best: +294.000000000000] :   0%|▌                                                                                                                                  | 41/10000 [00:00<03:02, 54.46it/s]\n",
      "+nan [best: +191.000000000000] :   0%|▌                                                                                                                                  | 41/10000 [00:00<03:11, 51.92it/s]\n",
      "+nan [best: +452.000000000000] :   0%|▌                                                                                                                                  | 41/10000 [00:00<03:13, 51.35it/s]\n"
     ]
    }
   ],
   "source": [
    "optimizers = dict()\n",
    "\n",
    "for _ in range(num_seeds):\n",
    "    hyperparams ={k: v.rvs() for k, v in hyperparameter_dists_dict.items()}\n",
    "\n",
    "    mpo = initialize_mpo(\n",
    "        left_most_symmetry_site,\n",
    "        num_symmetry_sites,\n",
    "        num_boundary_sites,\n",
    "        hyperparams['bond_dimension']\n",
    "    )\n",
    "\n",
    "    optmzr = qtn.optimize.TNOptimizer(\n",
    "        mpo,                                # our initial input, the tensors of which to optimize\n",
    "        loss_fn=overall_loss_function,\n",
    "        loss_kwargs={\n",
    "            'rdm_tn': problem_rdm,\n",
    "            'total_physical_dimension': total_physical_dim,\n",
    "            'unitary_cost_coefficient': 0,\n",
    "            'overlap_cost_coefficient': hyperparams['overlap_learning_rate'],\n",
    "            'epsilon': 1e-60\n",
    "        },\n",
    "        autodiff_backend='jax',      # {'jax', 'tensorflow', 'autograd'}\n",
    "        optimizer='L-BFGS-B',               # supplied to scipy.minimize\n",
    "    )\n",
    "\n",
    "    optmzr.optimize(\n",
    "        num_iterations,\n",
    "        gtol=0,\n",
    "        ftol=0\n",
    "    )\n",
    "\n",
    "    optimizers[HyperParams(**hyperparams)] = optmzr"
   ]
  },
  {
   "cell_type": "code",
   "execution_count": 150,
   "id": "12a46657-7fb6-49da-9272-e46df61089f0",
   "metadata": {},
   "outputs": [
    {
     "name": "stderr",
     "output_type": "stream",
     "text": [
      "+nan [best: +274.000000000000] :   0%|▌                                                                                                                                  | 41/10000 [00:00<03:50, 43.12it/s]\n",
      "+nan [best: +477.000000000000] :   0%|▌                                                                                                                                  | 41/10000 [00:00<03:28, 47.84it/s]\n",
      "+nan [best: +381.000000000000] :   0%|▌                                                                                                                                  | 41/10000 [00:00<03:27, 47.97it/s]\n",
      "+nan [best: +212.000000000000] :   0%|▌                                                                                                                                  | 41/10000 [00:00<03:26, 48.11it/s]\n",
      "+nan [best: +355.000000000000] :   0%|▌                                                                                                                                  | 41/10000 [00:00<03:31, 47.11it/s]\n"
     ]
    }
   ],
   "source": [
    "optimizers = dict()\n",
    "\n",
    "for _ in range(num_seeds):\n",
    "    hyperparams ={k: v.rvs() for k, v in hyperparameter_dists_dict.items()}\n",
    "\n",
    "    mpo = initialize_mpo(\n",
    "        left_most_symmetry_site,\n",
    "        num_symmetry_sites,\n",
    "        num_boundary_sites,\n",
    "        hyperparams['bond_dimension']\n",
    "    )\n",
    "\n",
    "    optmzr = qtn.optimize.TNOptimizer(\n",
    "        mpo,                                # our initial input, the tensors of which to optimize\n",
    "        loss_fn=overall_loss_function,\n",
    "        loss_kwargs={\n",
    "            'rdm_tn': problem_rdm,\n",
    "            'total_physical_dimension': total_physical_dim,\n",
    "            'unitary_cost_coefficient': 0,\n",
    "            'overlap_cost_coefficient': hyperparams['overlap_learning_rate'],\n",
    "            'epsilon': 1e-45\n",
    "        },\n",
    "        autodiff_backend='jax',      # {'jax', 'tensorflow', 'autograd'}\n",
    "        optimizer='L-BFGS-B',               # supplied to scipy.minimize\n",
    "    )\n",
    "\n",
    "    optmzr.optimize(\n",
    "        num_iterations,\n",
    "        gtol=0,\n",
    "        ftol=0\n",
    "    )\n",
    "\n",
    "    optimizers[HyperParams(**hyperparams)] = optmzr"
   ]
  },
  {
   "cell_type": "code",
   "execution_count": 157,
   "id": "303813cb-5792-450f-bf9e-c2090931ad1b",
   "metadata": {},
   "outputs": [
    {
     "name": "stderr",
     "output_type": "stream",
     "text": [
      "+377.000000000000 [best: +377.000000000000] :   0%|                                                                                                                     | 1/10000 [00:00<2:13:47,  1.25it/s]\n",
      "+462.000000000000 [best: +462.000000000000] :   0%|                                                                                                                     | 1/10000 [00:00<1:45:33,  1.58it/s]\n",
      "+459.000000000000 [best: +459.000000000000] :   0%|                                                                                                                     | 1/10000 [00:00<2:05:48,  1.32it/s]\n",
      "+281.000000000000 [best: +281.000000000000] :   0%|                                                                                                                     | 1/10000 [00:00<1:58:52,  1.40it/s]\n",
      "+271.000000000000 [best: +271.000000000000] :   0%|                                                                                                                     | 1/10000 [00:00<1:52:04,  1.49it/s]\n"
     ]
    }
   ],
   "source": [
    "optimizers = dict()\n",
    "\n",
    "for _ in range(num_seeds):\n",
    "    hyperparams ={k: v.rvs() for k, v in hyperparameter_dists_dict.items()}\n",
    "\n",
    "    mpo = initialize_mpo(\n",
    "        left_most_symmetry_site,\n",
    "        num_symmetry_sites,\n",
    "        num_boundary_sites,\n",
    "        hyperparams['bond_dimension']\n",
    "    )\n",
    "\n",
    "    optmzr = qtn.optimize.TNOptimizer(\n",
    "        mpo,                                # our initial input, the tensors of which to optimize\n",
    "        loss_fn=overall_loss_function,\n",
    "        loss_kwargs={\n",
    "            'rdm_tn': problem_rdm,\n",
    "            'total_physical_dimension': total_physical_dim,\n",
    "            'unitary_cost_coefficient': 0,\n",
    "            'overlap_cost_coefficient': hyperparams['overlap_learning_rate'],\n",
    "            'epsilon': 1e-30\n",
    "        },\n",
    "        autodiff_backend='jax',      # {'jax', 'tensorflow', 'autograd'}\n",
    "        optimizer='L-BFGS-B',               # supplied to scipy.minimize\n",
    "    )\n",
    "\n",
    "    optmzr.optimize(\n",
    "        num_iterations,\n",
    "        gtol=0,\n",
    "        ftol=0\n",
    "    )\n",
    "\n",
    "    optimizers[HyperParams(**hyperparams)] = optmzr"
   ]
  },
  {
   "cell_type": "code",
   "execution_count": 158,
   "id": "00753eff-979a-4b3d-be36-60cd2b472a32",
   "metadata": {},
   "outputs": [
    {
     "name": "stderr",
     "output_type": "stream",
     "text": [
      "+325.000000000000 [best: +325.000000000000] :   0%|                                                                                                                     | 1/10000 [00:00<2:20:46,  1.18it/s]\n",
      "+158.000000000000 [best: +158.000000000000] :   0%|                                                                                                                     | 1/10000 [00:00<1:57:50,  1.41it/s]\n",
      "+277.000000000000 [best: +277.000000000000] :   0%|                                                                                                                     | 1/10000 [00:00<1:55:40,  1.44it/s]\n",
      "+178.000000000000 [best: +178.000000000000] :   0%|                                                                                                                     | 1/10000 [00:00<1:52:39,  1.48it/s]\n",
      "+168.000000000000 [best: +168.000000000000] :   0%|                                                                                                                     | 1/10000 [00:00<1:49:57,  1.52it/s]\n"
     ]
    }
   ],
   "source": [
    "optimizers = dict()\n",
    "\n",
    "for _ in range(num_seeds):\n",
    "    hyperparams ={k: v.rvs() for k, v in hyperparameter_dists_dict.items()}\n",
    "\n",
    "    mpo = initialize_mpo(\n",
    "        left_most_symmetry_site,\n",
    "        num_symmetry_sites,\n",
    "        num_boundary_sites,\n",
    "        hyperparams['bond_dimension']\n",
    "    )\n",
    "\n",
    "    optmzr = qtn.optimize.TNOptimizer(\n",
    "        mpo,                                # our initial input, the tensors of which to optimize\n",
    "        loss_fn=overall_loss_function,\n",
    "        loss_kwargs={\n",
    "            'rdm_tn': problem_rdm,\n",
    "            'total_physical_dimension': total_physical_dim,\n",
    "            'unitary_cost_coefficient': 0,\n",
    "            'overlap_cost_coefficient': hyperparams['overlap_learning_rate'],\n",
    "            'epsilon': 1e-31\n",
    "        },\n",
    "        autodiff_backend='jax',      # {'jax', 'tensorflow', 'autograd'}\n",
    "        optimizer='L-BFGS-B',               # supplied to scipy.minimize\n",
    "    )\n",
    "\n",
    "    optmzr.optimize(\n",
    "        num_iterations,\n",
    "        gtol=0,\n",
    "        ftol=0\n",
    "    )\n",
    "\n",
    "    optimizers[HyperParams(**hyperparams)] = optmzr"
   ]
  },
  {
   "cell_type": "code",
   "execution_count": 159,
   "id": "d4c7e13d-df36-4fa6-b462-938f9fb5bb44",
   "metadata": {},
   "outputs": [
    {
     "name": "stderr",
     "output_type": "stream",
     "text": [
      "+174.000000000000 [best: +174.000000000000] :   0%|                                                                                                                     | 1/10000 [00:00<2:18:11,  1.21it/s]\n",
      "+354.000000000000 [best: +354.000000000000] :   0%|                                                                                                                     | 1/10000 [00:00<1:43:57,  1.60it/s]\n",
      "+495.000000000000 [best: +495.000000000000] :   0%|                                                                                                                     | 1/10000 [00:00<1:46:54,  1.56it/s]\n",
      "+162.000000000000 [best: +162.000000000000] :   0%|                                                                                                                     | 1/10000 [00:00<1:56:21,  1.43it/s]\n",
      "+395.000000000000 [best: +395.000000000000] :   0%|                                                                                                                     | 1/10000 [00:00<1:47:04,  1.56it/s]\n"
     ]
    }
   ],
   "source": [
    "optimizers = dict()\n",
    "\n",
    "for _ in range(num_seeds):\n",
    "    hyperparams ={k: v.rvs() for k, v in hyperparameter_dists_dict.items()}\n",
    "\n",
    "    mpo = initialize_mpo(\n",
    "        left_most_symmetry_site,\n",
    "        num_symmetry_sites,\n",
    "        num_boundary_sites,\n",
    "        hyperparams['bond_dimension']\n",
    "    )\n",
    "\n",
    "    optmzr = qtn.optimize.TNOptimizer(\n",
    "        mpo,                                # our initial input, the tensors of which to optimize\n",
    "        loss_fn=overall_loss_function,\n",
    "        loss_kwargs={\n",
    "            'rdm_tn': problem_rdm,\n",
    "            'total_physical_dimension': total_physical_dim,\n",
    "            'unitary_cost_coefficient': 0,\n",
    "            'overlap_cost_coefficient': hyperparams['overlap_learning_rate'],\n",
    "            'epsilon': 1e-32\n",
    "        },\n",
    "        autodiff_backend='jax',      # {'jax', 'tensorflow', 'autograd'}\n",
    "        optimizer='L-BFGS-B',               # supplied to scipy.minimize\n",
    "    )\n",
    "\n",
    "    optmzr.optimize(\n",
    "        num_iterations,\n",
    "        gtol=0,\n",
    "        ftol=0\n",
    "    )\n",
    "\n",
    "    optimizers[HyperParams(**hyperparams)] = optmzr"
   ]
  },
  {
   "cell_type": "code",
   "execution_count": 160,
   "id": "bc91ca18-2163-4129-be14-195e3ee783fa",
   "metadata": {},
   "outputs": [
    {
     "name": "stderr",
     "output_type": "stream",
     "text": [
      "+213.000000000000 [best: +213.000000000000] :   0%|                                                                                                                     | 1/10000 [00:01<3:15:57,  1.18s/it]\n",
      "+279.000000000000 [best: +279.000000000000] :   0%|                                                                                                                     | 1/10000 [00:00<2:10:37,  1.28it/s]\n",
      "+447.000000000000 [best: +447.000000000000] :   0%|                                                                                                                     | 1/10000 [00:00<1:46:32,  1.56it/s]\n",
      "+338.000000000000 [best: +338.000000000000] :   0%|                                                                                                                     | 1/10000 [00:00<1:47:52,  1.54it/s]\n",
      "+104.000000000000 [best: +104.000000000000] :   0%|                                                                                                                     | 1/10000 [00:01<3:50:50,  1.39s/it]\n"
     ]
    }
   ],
   "source": [
    "\n",
    "optimizers = dict()\n",
    "\n",
    "for _ in range(num_seeds):\n",
    "    hyperparams ={k: v.rvs() for k, v in hyperparameter_dists_dict.items()}\n",
    "\n",
    "    mpo = initialize_mpo(\n",
    "        left_most_symmetry_site,\n",
    "        num_symmetry_sites,\n",
    "        num_boundary_sites,\n",
    "        hyperparams['bond_dimension']\n",
    "    )\n",
    "\n",
    "    optmzr = qtn.optimize.TNOptimizer(\n",
    "        mpo,                                # our initial input, the tensors of which to optimize\n",
    "        loss_fn=overall_loss_function,\n",
    "        loss_kwargs={\n",
    "            'rdm_tn': problem_rdm,\n",
    "            'total_physical_dimension': total_physical_dim,\n",
    "            'unitary_cost_coefficient': 0,\n",
    "            'overlap_cost_coefficient': hyperparams['overlap_learning_rate'],\n",
    "            'epsilon': 1e-33\n",
    "        },\n",
    "        autodiff_backend='jax',      # {'jax', 'tensorflow', 'autograd'}\n",
    "        optimizer='L-BFGS-B',               # supplied to scipy.minimize\n",
    "    )\n",
    "\n",
    "    optmzr.optimize(\n",
    "        num_iterations,\n",
    "        gtol=0,\n",
    "        ftol=0\n",
    "    )\n",
    "\n",
    "    optimizers[HyperParams(**hyperparams)] = optmzr"
   ]
  },
  {
   "cell_type": "code",
   "execution_count": 161,
   "id": "ec02cb64-f890-438b-94e5-bc5fed1cfa2a",
   "metadata": {},
   "outputs": [
    {
     "name": "stderr",
     "output_type": "stream",
     "text": [
      "+420.000000000000 [best: +420.000000000000] :   0%|                                                                                                                     | 1/10000 [00:00<2:05:42,  1.33it/s]\n",
      "+122.000000000000 [best: +122.000000000000] :   0%|                                                                                                                     | 1/10000 [00:00<1:59:29,  1.39it/s]\n",
      "+212.000000000000 [best: +212.000000000000] :   0%|                                                                                                                     | 1/10000 [00:00<2:08:29,  1.30it/s]\n",
      "+439.000000000000 [best: +439.000000000000] :   0%|                                                                                                                     | 1/10000 [00:00<1:44:41,  1.59it/s]\n",
      "+409.000000000000 [best: +409.000000000000] :   0%|                                                                                                                     | 1/10000 [00:00<1:51:10,  1.50it/s]\n"
     ]
    }
   ],
   "source": [
    "\n",
    "optimizers = dict()\n",
    "\n",
    "for _ in range(num_seeds):\n",
    "    hyperparams ={k: v.rvs() for k, v in hyperparameter_dists_dict.items()}\n",
    "\n",
    "    mpo = initialize_mpo(\n",
    "        left_most_symmetry_site,\n",
    "        num_symmetry_sites,\n",
    "        num_boundary_sites,\n",
    "        hyperparams['bond_dimension']\n",
    "    )\n",
    "\n",
    "    optmzr = qtn.optimize.TNOptimizer(\n",
    "        mpo,                                # our initial input, the tensors of which to optimize\n",
    "        loss_fn=overall_loss_function,\n",
    "        loss_kwargs={\n",
    "            'rdm_tn': problem_rdm,\n",
    "            'total_physical_dimension': total_physical_dim,\n",
    "            'unitary_cost_coefficient': 0,\n",
    "            'overlap_cost_coefficient': hyperparams['overlap_learning_rate'],\n",
    "            'epsilon': 1e-34\n",
    "        },\n",
    "        autodiff_backend='jax',      # {'jax', 'tensorflow', 'autograd'}\n",
    "        optimizer='L-BFGS-B',               # supplied to scipy.minimize\n",
    "    )\n",
    "\n",
    "    optmzr.optimize(\n",
    "        num_iterations,\n",
    "        gtol=0,\n",
    "        ftol=0\n",
    "    )\n",
    "\n",
    "    optimizers[HyperParams(**hyperparams)] = optmzr"
   ]
  },
  {
   "cell_type": "code",
   "execution_count": 162,
   "id": "02ce76dc-d95f-4230-9a6a-7f7a29874d3f",
   "metadata": {},
   "outputs": [
    {
     "name": "stderr",
     "output_type": "stream",
     "text": [
      "+375.000000000000 [best: +375.000000000000] :   0%|                                                                                                                     | 1/10000 [00:00<2:13:27,  1.25it/s]\n",
      "+258.000000000000 [best: +258.000000000000] :   0%|                                                                                                                     | 1/10000 [00:00<1:41:49,  1.64it/s]\n",
      "+127.000000000000 [best: +127.000000000000] :   0%|                                                                                                                     | 1/10000 [00:00<1:49:42,  1.52it/s]\n",
      "+321.000000000000 [best: +321.000000000000] :   0%|                                                                                                                     | 1/10000 [00:00<1:55:06,  1.45it/s]\n",
      "+185.000000000000 [best: +185.000000000000] :   0%|                                                                                                                     | 1/10000 [00:00<2:11:48,  1.26it/s]\n"
     ]
    }
   ],
   "source": [
    "\n",
    "optimizers = dict()\n",
    "\n",
    "for _ in range(num_seeds):\n",
    "    hyperparams ={k: v.rvs() for k, v in hyperparameter_dists_dict.items()}\n",
    "\n",
    "    mpo = initialize_mpo(\n",
    "        left_most_symmetry_site,\n",
    "        num_symmetry_sites,\n",
    "        num_boundary_sites,\n",
    "        hyperparams['bond_dimension']\n",
    "    )\n",
    "\n",
    "    optmzr = qtn.optimize.TNOptimizer(\n",
    "        mpo,                                # our initial input, the tensors of which to optimize\n",
    "        loss_fn=overall_loss_function,\n",
    "        loss_kwargs={\n",
    "            'rdm_tn': problem_rdm,\n",
    "            'total_physical_dimension': total_physical_dim,\n",
    "            'unitary_cost_coefficient': 0,\n",
    "            'overlap_cost_coefficient': hyperparams['overlap_learning_rate'],\n",
    "            'epsilon': 1e-35\n",
    "        },\n",
    "        autodiff_backend='jax',      # {'jax', 'tensorflow', 'autograd'}\n",
    "        optimizer='L-BFGS-B',               # supplied to scipy.minimize\n",
    "    )\n",
    "\n",
    "    optmzr.optimize(\n",
    "        num_iterations,\n",
    "        gtol=0,\n",
    "        ftol=0\n",
    "    )\n",
    "\n",
    "    optimizers[HyperParams(**hyperparams)] = optmzr"
   ]
  },
  {
   "cell_type": "code",
   "execution_count": 163,
   "id": "598edf7d-db21-475f-8765-c850162a840d",
   "metadata": {},
   "outputs": [
    {
     "name": "stderr",
     "output_type": "stream",
     "text": [
      "+477.000000000000 [best: +477.000000000000] :   0%|                                                                                                                     | 1/10000 [00:00<2:14:10,  1.24it/s]\n",
      "+318.000000000000 [best: +318.000000000000] :   0%|                                                                                                                     | 1/10000 [00:00<1:52:41,  1.48it/s]\n",
      "+496.000000000000 [best: +496.000000000000] :   0%|                                                                                                                     | 1/10000 [00:00<1:43:37,  1.61it/s]\n",
      "+243.000000000000 [best: +243.000000000000] :   0%|                                                                                                                     | 1/10000 [00:00<2:21:05,  1.18it/s]\n",
      "+405.000000000000 [best: +405.000000000000] :   0%|                                                                                                                     | 1/10000 [00:00<1:58:50,  1.40it/s]\n"
     ]
    }
   ],
   "source": [
    "\n",
    "optimizers = dict()\n",
    "\n",
    "for _ in range(num_seeds):\n",
    "    hyperparams ={k: v.rvs() for k, v in hyperparameter_dists_dict.items()}\n",
    "\n",
    "    mpo = initialize_mpo(\n",
    "        left_most_symmetry_site,\n",
    "        num_symmetry_sites,\n",
    "        num_boundary_sites,\n",
    "        hyperparams['bond_dimension']\n",
    "    )\n",
    "\n",
    "    optmzr = qtn.optimize.TNOptimizer(\n",
    "        mpo,                                # our initial input, the tensors of which to optimize\n",
    "        loss_fn=overall_loss_function,\n",
    "        loss_kwargs={\n",
    "            'rdm_tn': problem_rdm,\n",
    "            'total_physical_dimension': total_physical_dim,\n",
    "            'unitary_cost_coefficient': 0,\n",
    "            'overlap_cost_coefficient': hyperparams['overlap_learning_rate'],\n",
    "            'epsilon': 1e-36\n",
    "        },\n",
    "        autodiff_backend='jax',      # {'jax', 'tensorflow', 'autograd'}\n",
    "        optimizer='L-BFGS-B',               # supplied to scipy.minimize\n",
    "    )\n",
    "\n",
    "    optmzr.optimize(\n",
    "        num_iterations,\n",
    "        gtol=0,\n",
    "        ftol=0\n",
    "    )\n",
    "\n",
    "    optimizers[HyperParams(**hyperparams)] = optmzr"
   ]
  },
  {
   "cell_type": "code",
   "execution_count": 164,
   "id": "c0ecd8c1-a58f-41bb-8c6d-2d57c09b4de3",
   "metadata": {},
   "outputs": [
    {
     "name": "stderr",
     "output_type": "stream",
     "text": [
      "+444.000000000000 [best: +444.000000000000] :   0%|                                                                                                                     | 1/10000 [00:00<2:43:21,  1.02it/s]\n",
      "+214.000000000000 [best: +214.000000000000] :   0%|                                                                                                                     | 1/10000 [00:00<2:11:12,  1.27it/s]\n",
      "+290.000000000000 [best: +290.000000000000] :   0%|                                                                                                                     | 1/10000 [00:00<2:04:16,  1.34it/s]\n",
      "+427.000000000000 [best: +427.000000000000] :   0%|                                                                                                                     | 1/10000 [00:00<1:43:37,  1.61it/s]\n",
      "+379.000000000000 [best: +379.000000000000] :   0%|                                                                                                                     | 1/10000 [00:00<1:51:11,  1.50it/s]\n"
     ]
    }
   ],
   "source": [
    "\n",
    "optimizers = dict()\n",
    "\n",
    "for _ in range(num_seeds):\n",
    "    hyperparams ={k: v.rvs() for k, v in hyperparameter_dists_dict.items()}\n",
    "\n",
    "    mpo = initialize_mpo(\n",
    "        left_most_symmetry_site,\n",
    "        num_symmetry_sites,\n",
    "        num_boundary_sites,\n",
    "        hyperparams['bond_dimension']\n",
    "    )\n",
    "\n",
    "    optmzr = qtn.optimize.TNOptimizer(\n",
    "        mpo,                                # our initial input, the tensors of which to optimize\n",
    "        loss_fn=overall_loss_function,\n",
    "        loss_kwargs={\n",
    "            'rdm_tn': problem_rdm,\n",
    "            'total_physical_dimension': total_physical_dim,\n",
    "            'unitary_cost_coefficient': 0,\n",
    "            'overlap_cost_coefficient': hyperparams['overlap_learning_rate'],\n",
    "            'epsilon': 1e-37\n",
    "        },\n",
    "        autodiff_backend='jax',      # {'jax', 'tensorflow', 'autograd'}\n",
    "        optimizer='L-BFGS-B',               # supplied to scipy.minimize\n",
    "    )\n",
    "\n",
    "    optmzr.optimize(\n",
    "        num_iterations,\n",
    "        gtol=0,\n",
    "        ftol=0\n",
    "    )\n",
    "\n",
    "    optimizers[HyperParams(**hyperparams)] = optmzr"
   ]
  },
  {
   "cell_type": "code",
   "execution_count": 165,
   "id": "7a0e080f-6514-4cb8-98cd-c2ed632fa9ea",
   "metadata": {},
   "outputs": [
    {
     "name": "stderr",
     "output_type": "stream",
     "text": [
      "+nan [best: +230.000000000000] :   0%|▌                                                                                                                                  | 41/10000 [00:01<04:28, 37.09it/s]\n",
      "+nan [best: +489.000000000000] :   0%|▌                                                                                                                                  | 41/10000 [00:00<03:30, 47.39it/s]\n",
      "+nan [best: +313.000000000000] :   0%|▌                                                                                                                                  | 41/10000 [00:00<03:23, 48.85it/s]\n",
      "+nan [best: +481.000000000000] :   0%|▌                                                                                                                                  | 41/10000 [00:00<03:14, 51.20it/s]\n",
      "+nan [best: +478.000000000000] :   0%|▌                                                                                                                                  | 41/10000 [00:00<03:26, 48.29it/s]\n"
     ]
    }
   ],
   "source": [
    "\n",
    "optimizers = dict()\n",
    "\n",
    "for _ in range(num_seeds):\n",
    "    hyperparams ={k: v.rvs() for k, v in hyperparameter_dists_dict.items()}\n",
    "\n",
    "    mpo = initialize_mpo(\n",
    "        left_most_symmetry_site,\n",
    "        num_symmetry_sites,\n",
    "        num_boundary_sites,\n",
    "        hyperparams['bond_dimension']\n",
    "    )\n",
    "\n",
    "    optmzr = qtn.optimize.TNOptimizer(\n",
    "        mpo,                                # our initial input, the tensors of which to optimize\n",
    "        loss_fn=overall_loss_function,\n",
    "        loss_kwargs={\n",
    "            'rdm_tn': problem_rdm,\n",
    "            'total_physical_dimension': total_physical_dim,\n",
    "            'unitary_cost_coefficient': 0,\n",
    "            'overlap_cost_coefficient': hyperparams['overlap_learning_rate'],\n",
    "            'epsilon': 1e-38\n",
    "        },\n",
    "        autodiff_backend='jax',      # {'jax', 'tensorflow', 'autograd'}\n",
    "        optimizer='L-BFGS-B',               # supplied to scipy.minimize\n",
    "    )\n",
    "\n",
    "    optmzr.optimize(\n",
    "        num_iterations,\n",
    "        gtol=0,\n",
    "        ftol=0\n",
    "    )\n",
    "\n",
    "    optimizers[HyperParams(**hyperparams)] = optmzr"
   ]
  },
  {
   "cell_type": "code",
   "execution_count": 166,
   "id": "d1514f66-e31c-497f-b4ef-e550472ec10c",
   "metadata": {},
   "outputs": [
    {
     "name": "stderr",
     "output_type": "stream",
     "text": [
      "+208.000000000000 [best: +208.000000000000] :   0%|                                                                                                                     | 1/10000 [00:00<2:13:08,  1.25it/s]\n",
      "+172.000000000000 [best: +172.000000000000] :   0%|                                                                                                                     | 1/10000 [00:01<4:28:11,  1.61s/it]\n",
      "+456.000000000000 [best: +456.000000000000] :   0%|                                                                                                                     | 1/10000 [00:00<1:41:28,  1.64it/s]\n",
      "+486.000000000000 [best: +486.000000000000] :   0%|                                                                                                                     | 1/10000 [00:00<1:54:17,  1.46it/s]\n",
      "+368.000000000000 [best: +368.000000000000] :   0%|                                                                                                                     | 1/10000 [00:00<1:40:40,  1.66it/s]\n"
     ]
    }
   ],
   "source": [
    "\n",
    "optimizers = dict()\n",
    "\n",
    "for _ in range(num_seeds):\n",
    "    hyperparams ={k: v.rvs() for k, v in hyperparameter_dists_dict.items()}\n",
    "\n",
    "    mpo = initialize_mpo(\n",
    "        left_most_symmetry_site,\n",
    "        num_symmetry_sites,\n",
    "        num_boundary_sites,\n",
    "        hyperparams['bond_dimension']\n",
    "    )\n",
    "\n",
    "    optmzr = qtn.optimize.TNOptimizer(\n",
    "        mpo,                                # our initial input, the tensors of which to optimize\n",
    "        loss_fn=overall_loss_function,\n",
    "        loss_kwargs={\n",
    "            'rdm_tn': problem_rdm,\n",
    "            'total_physical_dimension': total_physical_dim,\n",
    "            'unitary_cost_coefficient': 0,\n",
    "            'overlap_cost_coefficient': hyperparams['overlap_learning_rate'],\n",
    "            'epsilon': 1e-37\n",
    "        },\n",
    "        autodiff_backend='jax',      # {'jax', 'tensorflow', 'autograd'}\n",
    "        optimizer='L-BFGS-B',               # supplied to scipy.minimize\n",
    "    )\n",
    "\n",
    "    optmzr.optimize(\n",
    "        num_iterations,\n",
    "        gtol=0,\n",
    "        ftol=0\n",
    "    )\n",
    "\n",
    "    optimizers[HyperParams(**hyperparams)] = optmzr"
   ]
  },
  {
   "cell_type": "markdown",
   "id": "95a93578-1504-4aaf-a90b-291c62d68337",
   "metadata": {},
   "source": [
    "## 12 - Two boundary sites"
   ]
  },
  {
   "cell_type": "code",
   "execution_count": 184,
   "id": "3ebe1505-ace9-4d9c-890d-b755984c81c4",
   "metadata": {},
   "outputs": [],
   "source": [
    "num_iterations = int(1e4) \n",
    "num_seeds = 5\n",
    "\n",
    "hyperparameter_dists_dict = {\n",
    "    'alpha': scipy.stats.loguniform(1e-4, 1e-2),\n",
    "    'beta_1': scipy.stats.uniform(0.1, 0.5),\n",
    "    'beta_2': scipy.stats.uniform(0.1, 0.5),\n",
    "    'bond_dimension': scipy.stats.randint(4, 8),\n",
    "    'overlap_learning_rate': scipy.stats.randint(100, 500)\n",
    "}"
   ]
  },
  {
   "cell_type": "code",
   "execution_count": 185,
   "id": "3f6d1626-bf8d-4a13-9aca-0072365d12da",
   "metadata": {},
   "outputs": [],
   "source": [
    "HyperParams = namedtuple('HyperParams', hyperparameter_dists_dict)"
   ]
  },
  {
   "cell_type": "code",
   "execution_count": 186,
   "id": "7dc1e91b-a845-4934-b160-396e67f7ed40",
   "metadata": {},
   "outputs": [],
   "source": [
    "num_boundary_sites=2"
   ]
  },
  {
   "cell_type": "code",
   "execution_count": 187,
   "id": "9d336cc6-83ec-4b65-b53e-7d9a97b70269",
   "metadata": {},
   "outputs": [],
   "source": [
    "symmetry_site_pairs = [\n",
    "    (i, np_10) for i in range(60, 60+80, 2)\n",
    "]\n",
    "\n",
    "problem_rdm = generate_problem_rdm(\n",
    "    q1,\n",
    "    symmetry_site_pairs,\n",
    "    60,\n",
    "    80,\n",
    "    2\n",
    ")"
   ]
  },
  {
   "cell_type": "code",
   "execution_count": 188,
   "id": "d8522c99-8b83-4a17-aaa3-1ded7ffe23d3",
   "metadata": {},
   "outputs": [],
   "source": [
    "total_physical_dim = 2**3"
   ]
  },
  {
   "cell_type": "code",
   "execution_count": 189,
   "id": "3b7a00ef-b5e7-4109-b22f-3dc8e790f7d9",
   "metadata": {},
   "outputs": [
    {
     "name": "stderr",
     "output_type": "stream",
     "text": [
      "  0%|                                                                                                                                                                             | 0/10000 [00:00<?, ?it/s]/Users/kierancooney/.pyenv/versions/num_spt_venv_p11/lib/python3.11/site-packages/quimb/tensor/optimize.py:135: UserWarning: dtype mismatch between input parameter and updated values. This can occur e.g. with jax and double precision arrays (in which case consider setting `jax.config.update(\"jax_enable_x64\", True)` at startup or using single precision parameters directly). For now casting from complex64 to complex128.\n",
      "  warnings.warn(\n",
      "+263.947204589844 [best: +263.947204589844] :   0%|                                                                                                                     | 1/10000 [00:00<1:14:16,  2.24it/s]\n",
      "+442.911376953125 [best: +442.911376953125] :   0%|                                                                                                                     | 1/10000 [00:00<1:00:04,  2.77it/s]\n",
      "+352.929382324219 [best: +352.929382324219] :   0%|                                                                                                                       | 1/10000 [00:00<57:59,  2.87it/s]\n",
      "+423.915191650391 [best: +423.915191650391] :   0%|                                                                                                                       | 1/10000 [00:00<52:44,  3.16it/s]\n",
      "+143.971191406250 [best: +143.971191406250] :   0%|                                                                                                                     | 1/10000 [00:00<1:04:43,  2.57it/s]\n"
     ]
    }
   ],
   "source": [
    "optimizers = dict()\n",
    "\n",
    "for _ in range(num_seeds):\n",
    "    hyperparams ={k: v.rvs() for k, v in hyperparameter_dists_dict.items()}\n",
    "\n",
    "    mpo = initialize_mpo(\n",
    "        left_most_symmetry_site,\n",
    "        num_symmetry_sites,\n",
    "        num_boundary_sites,\n",
    "        hyperparams['bond_dimension']\n",
    "    )\n",
    "\n",
    "    optmzr = qtn.optimize.TNOptimizer(\n",
    "        mpo,                                # our initial input, the tensors of which to optimize\n",
    "        loss_fn=overall_loss_function,\n",
    "        loss_kwargs={\n",
    "            'rdm_tn': problem_rdm,\n",
    "            'total_physical_dimension': total_physical_dim,\n",
    "            'unitary_cost_coefficient': 0,\n",
    "            'overlap_cost_coefficient': hyperparams['overlap_learning_rate']\n",
    "        },\n",
    "        autodiff_backend='jax',      # {'jax', 'tensorflow', 'autograd'}\n",
    "        optimizer='adam',               # supplied to scipy.minimize\n",
    "    )\n",
    "\n",
    "    optmzr.optimize(\n",
    "        num_iterations,\n",
    "        learning_rate=hyperparams['alpha'],\n",
    "        beta1=hyperparams['beta_1'],\n",
    "        beta2=hyperparams['beta_2']\n",
    "    )\n",
    "\n",
    "    optimizers[HyperParams(**hyperparams)] = optmzr"
   ]
  },
  {
   "cell_type": "code",
   "execution_count": 190,
   "id": "7b3483d3-9f09-4ac5-876a-5baf7d6683e3",
   "metadata": {},
   "outputs": [
    {
     "data": {
      "text/plain": [
       "{HyperParams(alpha=0.00030018990929708085, beta_1=0.16478435075303696, beta_2=0.17195435759839886, bond_dimension=5, overlap_learning_rate=264): <TNOptimizer(d=400, backend=jax)>,\n",
       " HyperParams(alpha=0.0024305415644666453, beta_1=0.5737181193790005, beta_2=0.14728441669287654, bond_dimension=4, overlap_learning_rate=443): <TNOptimizer(d=320, backend=jax)>,\n",
       " HyperParams(alpha=0.005955741181367942, beta_1=0.46514941275422317, beta_2=0.22160148417090356, bond_dimension=5, overlap_learning_rate=353): <TNOptimizer(d=400, backend=jax)>,\n",
       " HyperParams(alpha=0.0052502260310572845, beta_1=0.4375632260827663, beta_2=0.13311149706478229, bond_dimension=7, overlap_learning_rate=424): <TNOptimizer(d=560, backend=jax)>,\n",
       " HyperParams(alpha=0.00435967129079147, beta_1=0.5542835625201721, beta_2=0.3064196940367412, bond_dimension=6, overlap_learning_rate=144): <TNOptimizer(d=480, backend=jax)>}"
      ]
     },
     "execution_count": 190,
     "metadata": {},
     "output_type": "execute_result"
    }
   ],
   "source": [
    "optimizers"
   ]
  },
  {
   "cell_type": "code",
   "execution_count": 191,
   "id": "612341c0-2839-48a4-89c1-949a960e58c5",
   "metadata": {},
   "outputs": [],
   "source": [
    "optimizer_list = [\n",
    "    (k, v) for k, v in optimizers.items()\n",
    "]"
   ]
  },
  {
   "cell_type": "code",
   "execution_count": 192,
   "id": "26f1bdf4-2961-4000-be6e-c1d159155688",
   "metadata": {},
   "outputs": [
    {
     "data": {
      "text/plain": [
       "HyperParams(alpha=0.00030018990929708085, beta_1=0.16478435075303696, beta_2=0.17195435759839886, bond_dimension=5, overlap_learning_rate=264)"
      ]
     },
     "execution_count": 192,
     "metadata": {},
     "output_type": "execute_result"
    }
   ],
   "source": [
    "optimizer_list[0][0]"
   ]
  },
  {
   "cell_type": "code",
   "execution_count": 193,
   "id": "72cb394d-1231-418d-acd5-f2158c943aee",
   "metadata": {},
   "outputs": [],
   "source": [
    "def overlap(ml, mr, rdm_tn):\n",
    "    c = (rdm_tn & ml & mr) ^ ...\n",
    "\n",
    "    c_abs_squared = (\n",
    "        c\n",
    "        *jnp.conjugate(c)\n",
    "    )\n",
    "    #c_abs_squared = c_abs_squared.astype('float32')\n",
    "    c_abs = (jnp.sqrt(c_abs_squared))\n",
    "\n",
    "    return c_abs"
   ]
  },
  {
   "cell_type": "code",
   "execution_count": 194,
   "id": "af636c17-8dc2-4b3e-a065-bdaf5fea8c66",
   "metadata": {},
   "outputs": [],
   "source": [
    "final_scores = list()\n",
    "\n",
    "for h, o in optimizer_list:\n",
    "    mpo_opt = o.get_tn_opt()\n",
    "    ml, mr = split_mpo_pair(mpo_opt)\n",
    "\n",
    "    out = (\n",
    "        overlap(ml, mr, problem_rdm),\n",
    "        overlap_loss_function(ml, mr, problem_rdm),\n",
    "        unitarity_tn(ml, total_physical_dim),\n",
    "        unitarity_tn(mr, total_physical_dim),\n",
    "    )\n",
    "\n",
    "    final_scores.append(out)"
   ]
  },
  {
   "cell_type": "code",
   "execution_count": 198,
   "id": "ca201a81-ef60-4a33-b43d-a0b7daf0d43f",
   "metadata": {},
   "outputs": [
    {
     "data": {
      "text/plain": [
       "jaxlib._jax.ArrayImpl"
      ]
     },
     "execution_count": 198,
     "metadata": {},
     "output_type": "execute_result"
    }
   ],
   "source": [
    "type(final_scores[0][0])"
   ]
  },
  {
   "cell_type": "code",
   "execution_count": 195,
   "id": "8a912475-39d6-4a01-b013-95fe93e997ea",
   "metadata": {},
   "outputs": [
    {
     "data": {
      "text/plain": [
       "[(Array(0.+0.j, dtype=complex64),\n",
       "  Array(0.99979997, dtype=float32),\n",
       "  Array(6.2632885, dtype=float32, weak_type=True),\n",
       "  Array(6.322463, dtype=float32, weak_type=True)),\n",
       " (Array(0.+0.j, dtype=complex64),\n",
       "  Array(0.99979997, dtype=float32),\n",
       "  Array(6.2620754, dtype=float32, weak_type=True),\n",
       "  Array(6.307451, dtype=float32, weak_type=True)),\n",
       " (Array(0.+0.j, dtype=complex64),\n",
       "  Array(0.99979997, dtype=float32),\n",
       "  Array(6.2887177, dtype=float32, weak_type=True),\n",
       "  Array(6.2552533, dtype=float32, weak_type=True)),\n",
       " (Array(0.+0.j, dtype=complex64),\n",
       "  Array(0.99979997, dtype=float32),\n",
       "  Array(6.253701, dtype=float32, weak_type=True),\n",
       "  Array(6.2316794, dtype=float32, weak_type=True)),\n",
       " (Array(0.+0.j, dtype=complex64),\n",
       "  Array(0.99979997, dtype=float32),\n",
       "  Array(6.2467966, dtype=float32, weak_type=True),\n",
       "  Array(6.228338, dtype=float32, weak_type=True))]"
      ]
     },
     "execution_count": 195,
     "metadata": {},
     "output_type": "execute_result"
    }
   ],
   "source": [
    "final_scores"
   ]
  },
  {
   "cell_type": "markdown",
   "id": "c537172b-63fd-4d68-95e3-48b9e6e4b8cd",
   "metadata": {},
   "source": [
    "## 13 - Adjusted overlap function"
   ]
  },
  {
   "cell_type": "code",
   "execution_count": 199,
   "id": "c9e880a1-0a54-4bc6-a68f-35fa6ab53b53",
   "metadata": {},
   "outputs": [],
   "source": [
    "def overlap_loss_function(ml, mr, rdm_tn, epsilon=1e-8):\n",
    "    c = (rdm_tn & ml & mr) ^ ...\n",
    "\n",
    "    c_abs_squared = (\n",
    "        (c+epsilon)\n",
    "        *jnp.conjugate(c+epsilon)\n",
    "    )\n",
    "    #c_abs_squared = c_abs_squared.astype('float32')\n",
    "    c_abs = (jnp.sqrt(jnp.real(c_abs_squared)))\n",
    "\n",
    "    loss = (c_abs - 1)**2\n",
    "\n",
    "    return loss"
   ]
  },
  {
   "cell_type": "code",
   "execution_count": 200,
   "id": "24b7d95a-eab7-4446-9c4b-7ef2379aec8f",
   "metadata": {},
   "outputs": [],
   "source": [
    "num_iterations = int(1e4) \n",
    "num_seeds = 5\n",
    "\n",
    "hyperparameter_dists_dict = {\n",
    "    'alpha': scipy.stats.loguniform(1e-4, 1e-2),\n",
    "    'beta_1': scipy.stats.uniform(0.1, 0.5),\n",
    "    'beta_2': scipy.stats.uniform(0.1, 0.5),\n",
    "    'bond_dimension': scipy.stats.randint(4, 8),\n",
    "    'overlap_learning_rate': scipy.stats.randint(100, 500)\n",
    "}"
   ]
  },
  {
   "cell_type": "code",
   "execution_count": 201,
   "id": "559aa903-1a16-434f-8ed9-978b8a7ac041",
   "metadata": {},
   "outputs": [],
   "source": [
    "HyperParams = namedtuple('HyperParams', hyperparameter_dists_dict)"
   ]
  },
  {
   "cell_type": "code",
   "execution_count": 210,
   "id": "088b2f28-ddc2-4d2e-b49e-8706637495ca",
   "metadata": {},
   "outputs": [],
   "source": [
    "num_boundary_sites=6"
   ]
  },
  {
   "cell_type": "code",
   "execution_count": 211,
   "id": "249feb45-eff4-4d7d-8553-6d56328fa801",
   "metadata": {},
   "outputs": [],
   "source": [
    "symmetry_site_pairs = [\n",
    "    (i, np_10) for i in range(60, 60+80, 2)\n",
    "]\n",
    "\n",
    "problem_rdm = generate_problem_rdm(\n",
    "    q1,\n",
    "    symmetry_site_pairs,\n",
    "    60,\n",
    "    80,\n",
    "    num_boundary_sites\n",
    ")"
   ]
  },
  {
   "cell_type": "code",
   "execution_count": 213,
   "id": "381db791-f3f1-4c08-8e0b-c8239d54b602",
   "metadata": {},
   "outputs": [],
   "source": [
    "total_physical_dim = 2**9"
   ]
  },
  {
   "cell_type": "code",
   "execution_count": 215,
   "id": "8a1b2863-e2d5-48fc-88bf-315769d285cd",
   "metadata": {},
   "outputs": [
    {
     "data": {
      "text/plain": [
       "512"
      ]
     },
     "execution_count": 215,
     "metadata": {},
     "output_type": "execute_result"
    }
   ],
   "source": [
    "total_physical_dim"
   ]
  },
  {
   "cell_type": "code",
   "execution_count": 225,
   "id": "d79567ef-6d59-4d77-a039-233dc93c01e7",
   "metadata": {},
   "outputs": [
    {
     "name": "stderr",
     "output_type": "stream",
     "text": [
      "+273.779968261719 [best: +273.779968261719] :   0%|                                                                                                                     | 1/10000 [00:01<2:51:59,  1.03s/it]\n",
      "+115.019989013672 [best: +115.019989013672] :   0%|                                                                                                                     | 1/10000 [00:00<2:29:27,  1.12it/s]\n",
      "+394.469970703125 [best: +394.469970703125] :   0%|                                                                                                                     | 1/10000 [00:00<2:21:00,  1.18it/s]\n",
      "+298.079986572266 [best: +298.079986572266] :   0%|                                                                                                                     | 1/10000 [00:00<2:21:30,  1.18it/s]\n",
      "+392.039978027344 [best: +392.039978027344] :   0%|                                                                                                                     | 1/10000 [00:01<2:59:24,  1.08s/it]\n"
     ]
    }
   ],
   "source": [
    "optimizers = dict()\n",
    "\n",
    "for _ in range(num_seeds):\n",
    "    hyperparams ={k: v.rvs() for k, v in hyperparameter_dists_dict.items()}\n",
    "\n",
    "    mpo = initialize_mpo(\n",
    "        left_most_symmetry_site,\n",
    "        num_symmetry_sites,\n",
    "        num_boundary_sites,\n",
    "        hyperparams['bond_dimension']\n",
    "    )\n",
    "\n",
    "    optmzr = qtn.optimize.TNOptimizer(\n",
    "        mpo,                                # our initial input, the tensors of which to optimize\n",
    "        loss_fn=overall_loss_function,\n",
    "        loss_kwargs={\n",
    "            'rdm_tn': problem_rdm,\n",
    "            'total_physical_dimension': total_physical_dim,\n",
    "            'unitary_cost_coefficient': 0,\n",
    "            'overlap_cost_coefficient': hyperparams['overlap_learning_rate'],\n",
    "            'epsilon': 0.1,\n",
    "        },\n",
    "        autodiff_backend='jax',      # {'jax', 'tensorflow', 'autograd'}\n",
    "        optimizer='adam',               # supplied to scipy.minimize\n",
    "    )\n",
    "\n",
    "    optmzr.optimize(\n",
    "        num_iterations,\n",
    "        learning_rate=hyperparams['alpha'],\n",
    "        beta1=hyperparams['beta_1'],\n",
    "        beta2=hyperparams['beta_2']\n",
    "    )\n",
    "\n",
    "    optimizers[HyperParams(**hyperparams)] = optmzr"
   ]
  },
  {
   "cell_type": "code",
   "execution_count": 226,
   "id": "b7506bf2-60ee-42fa-8fb0-b13345009d1d",
   "metadata": {},
   "outputs": [
    {
     "data": {
      "text/plain": [
       "{HyperParams(alpha=0.0011762460382185882, beta_1=0.10877018853725737, beta_2=0.46454351046543263, bond_dimension=4, overlap_learning_rate=338): <TNOptimizer(d=2880, backend=jax)>,\n",
       " HyperParams(alpha=0.0004227819155715689, beta_1=0.5932637719442143, beta_2=0.5883258062338554, bond_dimension=4, overlap_learning_rate=142): <TNOptimizer(d=2880, backend=jax)>,\n",
       " HyperParams(alpha=0.0001649955097031031, beta_1=0.10993769016629315, beta_2=0.4890935295827161, bond_dimension=4, overlap_learning_rate=487): <TNOptimizer(d=2880, backend=jax)>,\n",
       " HyperParams(alpha=0.000975066604663884, beta_1=0.41331850005743787, beta_2=0.31317806638702195, bond_dimension=4, overlap_learning_rate=368): <TNOptimizer(d=2880, backend=jax)>,\n",
       " HyperParams(alpha=0.0006719386965100495, beta_1=0.2306811263867579, beta_2=0.3206162564389441, bond_dimension=4, overlap_learning_rate=484): <TNOptimizer(d=2880, backend=jax)>}"
      ]
     },
     "execution_count": 226,
     "metadata": {},
     "output_type": "execute_result"
    }
   ],
   "source": [
    "optimizers"
   ]
  },
  {
   "cell_type": "code",
   "execution_count": 227,
   "id": "2851234f-0a9f-47d2-bab1-80ceb756ae7a",
   "metadata": {},
   "outputs": [],
   "source": [
    "optimizer_list = [\n",
    "    (k, v) for k, v in optimizers.items()\n",
    "]"
   ]
  },
  {
   "cell_type": "code",
   "execution_count": 228,
   "id": "ed85364f-f549-4f88-b71a-9cc400718bd9",
   "metadata": {},
   "outputs": [
    {
     "data": {
      "text/plain": [
       "HyperParams(alpha=0.0011762460382185882, beta_1=0.10877018853725737, beta_2=0.46454351046543263, bond_dimension=4, overlap_learning_rate=338)"
      ]
     },
     "execution_count": 228,
     "metadata": {},
     "output_type": "execute_result"
    }
   ],
   "source": [
    "optimizer_list[0][0]"
   ]
  },
  {
   "cell_type": "code",
   "execution_count": 229,
   "id": "5b48439b-bea6-48eb-b085-9d0d0503c387",
   "metadata": {},
   "outputs": [],
   "source": [
    "def overlap(ml, mr, rdm_tn):\n",
    "    c = (rdm_tn & ml & mr) ^ ...\n",
    "\n",
    "    c_abs_squared = (\n",
    "        c\n",
    "        *jnp.conjugate(c)\n",
    "    )\n",
    "    #c_abs_squared = c_abs_squared.astype('float32')\n",
    "    c_abs = (jnp.sqrt(c_abs_squared))\n",
    "\n",
    "    return c_abs"
   ]
  },
  {
   "cell_type": "code",
   "execution_count": 233,
   "id": "0372ec6d-38fe-4001-96ac-f9bddba0c820",
   "metadata": {},
   "outputs": [],
   "source": [
    "final_scores = list()\n",
    "\n",
    "for h, o in optimizer_list:\n",
    "    mpo_opt = o.get_tn_opt()\n",
    "    ml, mr = split_mpo_pair(mpo_opt)\n",
    "\n",
    "    out = (\n",
    "        overlap(ml, mr, problem_rdm),\n",
    "        overlap_loss_function(ml, mr, problem_rdm, epsilon=0.1),\n",
    "        unitarity_tn(ml, total_physical_dim),\n",
    "        unitarity_tn(mr, total_physical_dim),\n",
    "    )\n",
    "\n",
    "    final_scores.append(out)"
   ]
  },
  {
   "cell_type": "code",
   "execution_count": 234,
   "id": "cfe80d20-b8ac-41ce-bbb8-5caeb0ff0508",
   "metadata": {},
   "outputs": [
    {
     "data": {
      "text/plain": [
       "jaxlib._jax.ArrayImpl"
      ]
     },
     "execution_count": 234,
     "metadata": {},
     "output_type": "execute_result"
    }
   ],
   "source": [
    "type(final_scores[0][0])"
   ]
  },
  {
   "cell_type": "code",
   "execution_count": 235,
   "id": "92888591-c28c-4e17-bcc6-7acf082179e0",
   "metadata": {},
   "outputs": [
    {
     "data": {
      "text/plain": [
       "[(Array(0.+0.j, dtype=complex64),\n",
       "  Array(0.80999994, dtype=float32),\n",
       "  Array(510.01074, dtype=float32, weak_type=True),\n",
       "  Array(510.00952, dtype=float32, weak_type=True)),\n",
       " (Array(0.+0.j, dtype=complex64),\n",
       "  Array(0.80999994, dtype=float32),\n",
       "  Array(510.01108, dtype=float32, weak_type=True),\n",
       "  Array(510.01236, dtype=float32, weak_type=True)),\n",
       " (Array(0.+0.j, dtype=complex64),\n",
       "  Array(0.80999994, dtype=float32),\n",
       "  Array(510.01108, dtype=float32, weak_type=True),\n",
       "  Array(510.01056, dtype=float32, weak_type=True)),\n",
       " (Array(0.+0.j, dtype=complex64),\n",
       "  Array(0.80999994, dtype=float32),\n",
       "  Array(510.01172, dtype=float32, weak_type=True),\n",
       "  Array(510.00995, dtype=float32, weak_type=True)),\n",
       " (Array(0.+0.j, dtype=complex64),\n",
       "  Array(0.80999994, dtype=float32),\n",
       "  Array(510.01038, dtype=float32, weak_type=True),\n",
       "  Array(510.01193, dtype=float32, weak_type=True))]"
      ]
     },
     "execution_count": 235,
     "metadata": {},
     "output_type": "execute_result"
    }
   ],
   "source": [
    "final_scores"
   ]
  },
  {
   "cell_type": "markdown",
   "id": "5e8074e4-dd29-458b-86ae-3a64aa36c5f8",
   "metadata": {},
   "source": [
    "# Conclusion\n",
    "Still not clear what's going on, more work to do."
   ]
  },
  {
   "cell_type": "code",
   "execution_count": null,
   "id": "6a68e48b-d196-4f10-a05a-4950d92e7018",
   "metadata": {},
   "outputs": [],
   "source": []
  }
 ],
 "metadata": {
  "kernelspec": {
   "display_name": "num_spt_venv_p11",
   "language": "python",
   "name": "num_spt_venv_p11"
  },
  "language_info": {
   "codemirror_mode": {
    "name": "ipython",
    "version": 3
   },
   "file_extension": ".py",
   "mimetype": "text/x-python",
   "name": "python",
   "nbconvert_exporter": "python",
   "pygments_lexer": "ipython3",
   "version": "3.11.9"
  }
 },
 "nbformat": 4,
 "nbformat_minor": 5
}
