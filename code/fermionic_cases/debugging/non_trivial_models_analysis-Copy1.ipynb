{
 "cells": [
  {
   "cell_type": "markdown",
   "id": "5f2205a4-2c74-4cf5-9ad1-9d65bd13bed2",
   "metadata": {},
   "source": [
    "# Non-trivial models analysis - debugging\n",
    "\n",
    "Created 28/04/2025\n",
    "\n",
    "Objectives:\n",
    "* Debug optimisation scheme, something wrong."
   ]
  },
  {
   "cell_type": "markdown",
   "id": "9ad0db4d-805c-4403-9d48-c71d523d572f",
   "metadata": {},
   "source": [
    "# Package imports"
   ]
  },
  {
   "cell_type": "code",
   "execution_count": 1,
   "id": "ecb41ea3-927f-4efa-aebe-ce15784aa037",
   "metadata": {},
   "outputs": [],
   "source": [
    "import sys\n",
    "sys.path.append('../../')"
   ]
  },
  {
   "cell_type": "code",
   "execution_count": 2,
   "id": "4a525ec6-f0c8-47ee-8b0b-345bf0ef8bd3",
   "metadata": {},
   "outputs": [],
   "source": [
    "import h5py\n",
    "from tenpy.tools import hdf5_io\n",
    "import tenpy\n",
    "import tenpy.linalg.np_conserved as npc\n",
    "\n",
    "import os\n",
    "import pickle"
   ]
  },
  {
   "cell_type": "code",
   "execution_count": 3,
   "id": "214f688a-c657-4810-b4d1-b1247deff62c",
   "metadata": {},
   "outputs": [],
   "source": [
    "import numpy as np\n",
    "import matplotlib.pyplot as plt\n",
    "import pandas as pd"
   ]
  },
  {
   "cell_type": "code",
   "execution_count": 129,
   "id": "2a52ebb9-a8d8-450a-afe6-3f608545639e",
   "metadata": {},
   "outputs": [],
   "source": [
    "from scipy.linalg import expm as matrix_exponential"
   ]
  },
  {
   "cell_type": "code",
   "execution_count": 253,
   "id": "b8dec68d-a5b3-4383-ab44-567a9a5981b3",
   "metadata": {},
   "outputs": [],
   "source": [
    "from SPTOptimization.SymmetryActionWithBoundaryUnitaries import SymmetryActionWithBoundaryUnitaries\n",
    "\n",
    "from SPTOptimization.utils import (\n",
    "    to_npc_array,\n",
    "    get_right_identity_environment,\n",
    "    get_right_identity_environment_from_tp_tensor,\n",
    "    multiply_stacked_unitaries_against_mps,\n",
    "    inner_product_b_tensors,\n",
    "    get_npc_identity_operator,\n",
    "    get_left_side_right_symmetry_environment\n",
    ")\n",
    "\n",
    "from SPTOptimization.tenpy_leg_label_utils import (\n",
    "    swap_left_right_indices\n",
    ")\n",
    "\n",
    "from SPTOptimization.Optimizers.MPSBrickSolver import(\n",
    "    MPSBrickSolver\n",
    ")"
   ]
  },
  {
   "cell_type": "markdown",
   "id": "c69a8a47-e298-4c4c-97f7-a6157da4e15f",
   "metadata": {},
   "source": [
    "# Load data"
   ]
  },
  {
   "cell_type": "code",
   "execution_count": 5,
   "id": "210d7dcc-b7ae-4f06-8429-84177bec47d3",
   "metadata": {},
   "outputs": [],
   "source": [
    "DATA_DIR_1 = r\"../../data/interpolated_trivial_to_nontrivial_fermionic_trivial_proj_rep_200_site_dmrg/\"\n",
    "DATA_DIR_2 = r\"../../data/interpolated_nontrivial_fermionic_proj_rep_to_nontrivial_proj_rep_200_site_dmrg/\""
   ]
  },
  {
   "cell_type": "code",
   "execution_count": 6,
   "id": "ae809e74-d444-4db4-88ff-7538f6110d08",
   "metadata": {},
   "outputs": [],
   "source": [
    "def parse_file_name(file_name):\n",
    "    interpolation = int(file_name.split('_')[0])/100\n",
    "\n",
    "    return interpolation"
   ]
  },
  {
   "cell_type": "code",
   "execution_count": 7,
   "id": "e09f07cf-8441-4c7e-90b8-dbc8c61311f2",
   "metadata": {},
   "outputs": [],
   "source": [
    "loaded_data_triv_proj_rep = dict()\n",
    "energies_triv_proj_rep = dict()\n",
    "\n",
    "for local_file_name in list(os.walk(DATA_DIR_1))[0][2]:\n",
    "    f_name = r\"{}/{}\".format(DATA_DIR_1, local_file_name, ignore_unknown=False)\n",
    "    with h5py.File(f_name, 'r') as f:\n",
    "        data = hdf5_io.load_from_hdf5(f)\n",
    "\n",
    "        data_info = parse_file_name(local_file_name)\n",
    "        loaded_data_triv_proj_rep[data_info]=data['wavefunction']\n",
    "        energies_triv_proj_rep[data_info]=data['energy']"
   ]
  },
  {
   "cell_type": "code",
   "execution_count": 8,
   "id": "38dd3540-a84f-4ca7-b7a8-68ed1b0be4e2",
   "metadata": {},
   "outputs": [],
   "source": [
    "loaded_data_non_triv_proj_rep = dict()\n",
    "energies_non_triv_proj_rep = dict()\n",
    "\n",
    "for local_file_name in list(os.walk(DATA_DIR_2))[0][2]:\n",
    "    f_name = r\"{}/{}\".format(DATA_DIR_2, local_file_name, ignore_unknown=False)\n",
    "\n",
    "    with h5py.File(f_name, 'r') as f:\n",
    "        data = hdf5_io.load_from_hdf5(f)\n",
    "\n",
    "        data_info = parse_file_name(local_file_name)\n",
    "        loaded_data_non_triv_proj_rep[data_info]=data['wavefunction']\n",
    "        energies_non_triv_proj_rep[data_info]=data['energy']"
   ]
  },
  {
   "cell_type": "markdown",
   "id": "b4c1e616-c034-404b-b59e-196d1eaac475",
   "metadata": {},
   "source": [
    "# Definitons"
   ]
  },
  {
   "cell_type": "code",
   "execution_count": 9,
   "id": "63506364-f535-4c0f-8c5f-8839c69f7b9d",
   "metadata": {},
   "outputs": [],
   "source": [
    "MAX_VIRTUAL_BOND_DIM = 8\n",
    "MAX_INTERMEDIATE_VIRTUAL_BOND_DIM = 2*MAX_VIRTUAL_BOND_DIM\n",
    "# MPO bond dim?\n",
    "MAX_MPO_BOND_DIM = 50\n",
    "\n",
    "SVD_CUTOFF = 1e-3"
   ]
  },
  {
   "cell_type": "markdown",
   "id": "1efd18d4-328d-43dd-996d-393f18eb02b2",
   "metadata": {},
   "source": [
    "Define bosonic symmetries. Label by the group element added."
   ]
  },
  {
   "cell_type": "code",
   "execution_count": 10,
   "id": "513d7288-c641-4071-a4a3-652787d1f98c",
   "metadata": {},
   "outputs": [],
   "source": [
    "np_00 = np.array([\n",
    "    [1, 0, 0, 0],\n",
    "    [0, 1, 0, 0],\n",
    "    [0, 0, 1, 0],\n",
    "    [0, 0, 0, 1]\n",
    "])\n",
    "\n",
    "np_01 = np.array([\n",
    "    [0, 1, 0, 0],\n",
    "    [1, 0, 0, 0],\n",
    "    [0, 0, 0, 1],\n",
    "    [0, 0, 1, 0]\n",
    "])\n",
    "\n",
    "np_10 = np.array([\n",
    "    [0, 0, 1, 0],\n",
    "    [0, 0, 0, 1],\n",
    "    [1, 0, 0, 0],\n",
    "    [0, 1, 0, 0]\n",
    "])\n",
    "\n",
    "np_11 = np.array([\n",
    "    [0, 0, 0, 1],\n",
    "    [0, 0, 1, 0],\n",
    "    [0, 1, 0, 0],\n",
    "    [1, 0, 0, 0]\n",
    "])"
   ]
  },
  {
   "cell_type": "code",
   "execution_count": 11,
   "id": "c83907c6-e86f-48af-a2a1-11b250f47e84",
   "metadata": {},
   "outputs": [],
   "source": [
    "bosonic_np_symmetries = [\n",
    "    np_00,\n",
    "    np_01,\n",
    "    np_10,\n",
    "    np_11\n",
    "]"
   ]
  },
  {
   "cell_type": "code",
   "execution_count": 12,
   "id": "fd7c7309-10ee-4834-b153-9a4121462fca",
   "metadata": {},
   "outputs": [],
   "source": [
    "bosonic_npc_symmetries = [\n",
    "    to_npc_array(X) for X in bosonic_np_symmetries\n",
    "]"
   ]
  },
  {
   "cell_type": "code",
   "execution_count": 13,
   "id": "2a78a62e-37eb-4baf-98ba-d6a94d599bec",
   "metadata": {},
   "outputs": [],
   "source": [
    "npc_00 = to_npc_array(np_00)\n",
    "npc_01 = to_npc_array(np_01)\n",
    "npc_10 = to_npc_array(np_10)\n",
    "npc_11 = to_npc_array(np_11)"
   ]
  },
  {
   "cell_type": "markdown",
   "id": "1ecddc96-798a-416b-b0b4-d9ea9e25cfca",
   "metadata": {},
   "source": [
    "Define \"fermionic symmetries\". Just identity and JW string."
   ]
  },
  {
   "cell_type": "code",
   "execution_count": 14,
   "id": "a1c64bf0-4b2e-4492-b242-3dae6eb527c3",
   "metadata": {},
   "outputs": [],
   "source": [
    "np_I = np.array([\n",
    "    [1, 0],\n",
    "    [0, 1]\n",
    "])\n",
    "\n",
    "np_JW = np.array([\n",
    "    [1, 0],\n",
    "    [0, -1]\n",
    "])"
   ]
  },
  {
   "cell_type": "code",
   "execution_count": 15,
   "id": "e595ca13-740a-41a3-a658-8831c8f54323",
   "metadata": {},
   "outputs": [],
   "source": [
    "fermionic_np_symmetries = [np_I, np_JW]"
   ]
  },
  {
   "cell_type": "code",
   "execution_count": 16,
   "id": "6e5b6ad0-2496-4072-afe9-c41fc62da40e",
   "metadata": {},
   "outputs": [],
   "source": [
    "fermionic_npc_symmetries = [\n",
    "    to_npc_array(X) for X in fermionic_np_symmetries\n",
    "]"
   ]
  },
  {
   "cell_type": "code",
   "execution_count": 17,
   "id": "a2b43b48-e438-4702-8287-f5d27fc47f7b",
   "metadata": {},
   "outputs": [],
   "source": [
    "npc_JW = fermionic_npc_symmetries[1]"
   ]
  },
  {
   "cell_type": "code",
   "execution_count": 18,
   "id": "b9e2f954-c591-4479-ba37-32862c25c660",
   "metadata": {},
   "outputs": [],
   "source": [
    "symmetry_actions = [\n",
    "    [[b, f] for b in bosonic_np_symmetries]\n",
    "    for f in fermionic_np_symmetries\n",
    "]"
   ]
  },
  {
   "cell_type": "code",
   "execution_count": 19,
   "id": "8c945b86-cec1-4b08-930f-1922b7e1bea6",
   "metadata": {},
   "outputs": [],
   "source": [
    "shifted_symmetry_actions = [\n",
    "    [[f, b] for b in bosonic_np_symmetries]\n",
    "    for f in fermionic_np_symmetries\n",
    "]"
   ]
  },
  {
   "cell_type": "code",
   "execution_count": 20,
   "id": "ac19b501-4293-4d08-8bb0-35515cd6a093",
   "metadata": {},
   "outputs": [],
   "source": [
    "cases_triv_proj_rep = dict()\n",
    "\n",
    "for k, psi in loaded_data_triv_proj_rep.items():\n",
    "\n",
    "    for i, l in enumerate(symmetry_actions):\n",
    "\n",
    "        for j, s in enumerate(l):\n",
    "            case = SymmetryActionWithBoundaryUnitaries(\n",
    "                psi,\n",
    "                s*40,\n",
    "                left_symmetry_index=60,\n",
    "                left_boundary_unitaries=[np_I, np_00]*1,\n",
    "                right_boundary_unitaries=[np_00, np_I]*1\n",
    "            )\n",
    "\n",
    "            cases_triv_proj_rep[(k, i, j)] = case"
   ]
  },
  {
   "cell_type": "code",
   "execution_count": 21,
   "id": "8e7ff810-32b3-4163-9b1b-ca96a282a7f5",
   "metadata": {},
   "outputs": [],
   "source": [
    "for c in cases_triv_proj_rep.values():\n",
    "    c.compute_svd_approximate_expectation()"
   ]
  },
  {
   "cell_type": "code",
   "execution_count": 22,
   "id": "d5a75573-aebb-4b9c-904f-342f9f57c345",
   "metadata": {},
   "outputs": [],
   "source": [
    "cases_non_triv_proj_rep = dict()\n",
    "\n",
    "for k, psi in loaded_data_non_triv_proj_rep.items():\n",
    "\n",
    "    for i, l in enumerate(symmetry_actions):\n",
    "\n",
    "        for j, s in enumerate(l):\n",
    "            case = SymmetryActionWithBoundaryUnitaries(\n",
    "                psi,\n",
    "                s*40,\n",
    "                left_symmetry_index=60,\n",
    "                left_boundary_unitaries=[np_I, np_00]*1,\n",
    "                right_boundary_unitaries=[np_00, np_I]*1\n",
    "            )\n",
    "\n",
    "            cases_non_triv_proj_rep[(k, i, j)] = case"
   ]
  },
  {
   "cell_type": "code",
   "execution_count": 23,
   "id": "8d8df7a6-3e0c-4e4f-bc02-97d989f2c6e1",
   "metadata": {},
   "outputs": [],
   "source": [
    "for c in cases_non_triv_proj_rep.values():\n",
    "    c.compute_svd_approximate_expectation()"
   ]
  },
  {
   "cell_type": "code",
   "execution_count": 24,
   "id": "6bac53fa-b629-46fc-a145-f932a0af6f18",
   "metadata": {},
   "outputs": [],
   "source": [
    "left_trivial_leg_charge = tenpy.linalg.charges.LegCharge(\n",
    "    tenpy.linalg.charges.ChargeInfo([], []),\n",
    "    [0,1],\n",
    "    [[]],\n",
    "    qconj=1\n",
    ")"
   ]
  },
  {
   "cell_type": "code",
   "execution_count": 25,
   "id": "44f34cb7-0888-474b-9483-f4956951fc31",
   "metadata": {},
   "outputs": [],
   "source": [
    "right_trivial_leg_charge = tenpy.linalg.charges.LegCharge(\n",
    "    tenpy.linalg.charges.ChargeInfo([], []),\n",
    "    [0,1],\n",
    "    [[]],\n",
    "    qconj=-1\n",
    ")"
   ]
  },
  {
   "cell_type": "markdown",
   "id": "c97e7b32-1d95-498c-82a4-76a895f1530a",
   "metadata": {},
   "source": [
    "# Debug"
   ]
  },
  {
   "cell_type": "markdown",
   "id": "ee392107-6f7f-4c81-ac05-7131a1326f66",
   "metadata": {},
   "source": [
    "## Test case"
   ]
  },
  {
   "cell_type": "code",
   "execution_count": 26,
   "id": "fe364cd0-7708-4617-bb2f-6e025e537a98",
   "metadata": {},
   "outputs": [],
   "source": [
    "block_width = 3\n",
    "num_one_sided_iterations = 1\n",
    "num_two_sided_iterations = 30\n",
    "num_layers = 1\n",
    "num_sites = 3"
   ]
  },
  {
   "cell_type": "code",
   "execution_count": 27,
   "id": "374d5bb5-7de1-44f5-8de5-c748e8d8e9bb",
   "metadata": {},
   "outputs": [],
   "source": [
    "debug_opt = MPSBrickSolver(\n",
    "    cases_non_triv_proj_rep[(0.55, 1, 1)],\n",
    "    num_sites,\n",
    "    block_width,\n",
    "    num_layers,\n",
    "    num_one_sided_iterations,\n",
    "    num_two_sided_iterations,\n",
    "    max_virtual_bond_dim=MAX_VIRTUAL_BOND_DIM\n",
    ")"
   ]
  },
  {
   "cell_type": "code",
   "execution_count": 28,
   "id": "bf9fe1f1-6d5d-475f-92c1-3b4740031b39",
   "metadata": {},
   "outputs": [],
   "source": [
    "debug_opt.optimise()"
   ]
  },
  {
   "cell_type": "code",
   "execution_count": 29,
   "id": "834f7e13-4934-4226-a868-a14c5ba8d8d3",
   "metadata": {},
   "outputs": [
    {
     "data": {
      "text/plain": [
       "[<matplotlib.lines.Line2D at 0x169fe2f10>]"
      ]
     },
     "execution_count": 29,
     "metadata": {},
     "output_type": "execute_result"
    },
    {
     "data": {
      "image/png": "[encoded data removed]",
      "text/plain": [
       "<Figure size 640x480 with 1 Axes>"
      ]
     },
     "metadata": {},
     "output_type": "display_data"
    }
   ],
   "source": [
    "plt.plot(debug_opt.flatten_exps())"
   ]
  },
  {
   "cell_type": "code",
   "execution_count": 30,
   "id": "b8b3bf01-ca0e-47d9-9e97-1e8128fe9353",
   "metadata": {},
   "outputs": [
    {
     "data": {
      "text/plain": [
       "[<matplotlib.lines.Line2D at 0x30519b5d0>]"
      ]
     },
     "execution_count": 30,
     "metadata": {},
     "output_type": "execute_result"
    },
    {
     "data": {
      "image/png": "[encoded data removed]",
      "text/plain": [
       "<Figure size 640x480 with 1 Axes>"
      ]
     },
     "metadata": {},
     "output_type": "display_data"
    }
   ],
   "source": [
    "plt.plot(debug_opt.flatten_exps()[2:])"
   ]
  },
  {
   "cell_type": "markdown",
   "id": "dcdf451b-990e-4abc-a3d2-debff3ca5af3",
   "metadata": {},
   "source": [
    "Flip flopping.\n",
    "\n",
    "Code up manually, see what happens."
   ]
  },
  {
   "cell_type": "code",
   "execution_count": 31,
   "id": "47cc4d09-dad0-4af0-80e8-9650f75ce46d",
   "metadata": {},
   "outputs": [],
   "source": [
    "debug_case = cases_non_triv_proj_rep[(0.55, 1, 1)]"
   ]
  },
  {
   "cell_type": "code",
   "execution_count": 32,
   "id": "91f20876-0799-47b4-8326-6775cb456b2b",
   "metadata": {},
   "outputs": [],
   "source": [
    "transfer_matrix = debug_case.npc_symmetry_transfer_matrix"
   ]
  },
  {
   "cell_type": "code",
   "execution_count": 33,
   "id": "faaabd9b-5994-4399-8f7e-0a3585048e0e",
   "metadata": {},
   "outputs": [
    {
     "data": {
      "text/plain": [
       "139"
      ]
     },
     "execution_count": 33,
     "metadata": {},
     "output_type": "execute_result"
    }
   ],
   "source": [
    "debug_case.right_symmetry_index"
   ]
  },
  {
   "cell_type": "code",
   "execution_count": 34,
   "id": "9334ad06-d0bc-4675-a4a1-b4786c289dd6",
   "metadata": {},
   "outputs": [
    {
     "data": {
      "text/plain": [
       "[10, 9, 8]"
      ]
     },
     "execution_count": 34,
     "metadata": {},
     "output_type": "execute_result"
    }
   ],
   "source": [
    "list(range(10, 7, -1))"
   ]
  },
  {
   "cell_type": "code",
   "execution_count": 35,
   "id": "f585beae-bfe5-4912-a06a-9e6d53a35e42",
   "metadata": {},
   "outputs": [],
   "source": [
    "t = transfer_matrix\n",
    "\n",
    "right_bs = [\n",
    "    debug_case.psi.get_B(i)\n",
    "    for i in range(debug_case.right_symmetry_index+1, debug_case.right_symmetry_index+4)\n",
    "]\n",
    "\n",
    "for i, b in enumerate(right_bs):\n",
    "    t = npc.tensordot(t, b, [['vR',], ['vL']]).replace_label('p', f'p{i}')\n",
    "    t = npc.tensordot(t, b.conj(), [['vR*',], ['vL*']]).replace_label('p*', f'p{i}*')\n",
    "\n",
    "t = npc.trace(t, 'vR', 'vR*')\n",
    "\n",
    "t = (\n",
    "    t\n",
    "    .combine_legs([['p0', 'p1', 'p2'], ['p0*', 'p1*', 'p2*']])\n",
    "    .replace_label('(p0.p1.p2)', 'rp')\n",
    "    .replace_label('(p0*.p1*.p2*)', 'rp*')\n",
    ")\n",
    "\n",
    "left_bs = [\n",
    "    debug_case.psi.get_B(i, form='A')\n",
    "    for i in range(debug_case.left_symmetry_index-1, debug_case.left_symmetry_index-4, -1)\n",
    "]\n",
    "\n",
    "for i, b in enumerate(left_bs):\n",
    "    t = npc.tensordot(t, b, [['vL',], ['vR']]).replace_label('p', f'p{i}')\n",
    "    t = npc.tensordot(t, b.conj(), [['vL*',], ['vR*']]).replace_label('p*', f'p{i}*')\n",
    "\n",
    "t = npc.trace(t, 'vL', 'vL*')\n",
    "\n",
    "t = (\n",
    "    t\n",
    "    .combine_legs([['p0', 'p1', 'p2'], ['p0*', 'p1*', 'p2*']])\n",
    "    .replace_label('(p0.p1.p2)', 'lp')\n",
    "    .replace_label('(p0*.p1*.p2*)', 'lp*')\n",
    ")"
   ]
  },
  {
   "cell_type": "code",
   "execution_count": 36,
   "id": "783b0139-3062-4abb-8be9-c1756105ce06",
   "metadata": {},
   "outputs": [],
   "source": [
    "left_right_rdm = t"
   ]
  },
  {
   "cell_type": "code",
   "execution_count": 37,
   "id": "dba7d1f2-94cd-4a69-8db7-3937e3bbe339",
   "metadata": {},
   "outputs": [
    {
     "data": {
      "text/plain": [
       "<npc.Array shape=(32, 32, 16, 16) labels=['rp', 'rp*', 'lp', 'lp*']>"
      ]
     },
     "execution_count": 37,
     "metadata": {},
     "output_type": "execute_result"
    }
   ],
   "source": [
    "left_right_rdm"
   ]
  },
  {
   "cell_type": "code",
   "execution_count": 38,
   "id": "056c4af1-2d5f-45af-884a-517cb4c3634e",
   "metadata": {},
   "outputs": [],
   "source": [
    "def get_npc_identity_operator(mps_tensor):\n",
    "    p_leg_label = get_physical_leg_labels(mps_tensor)[0]\n",
    "    p_leg = mps_tensor.get_leg(p_leg_label)\n",
    "    p_leg_label_conj = conjugate_leg_label(p_leg_label)\n",
    "\n",
    "    out = npc.diag(\n",
    "        1,\n",
    "        leg=p_leg,\n",
    "        dtype='complex',\n",
    "        labels=[p_leg_label, p_leg_label_conj]\n",
    "    )\n",
    "\n",
    "    return out"
   ]
  },
  {
   "cell_type": "code",
   "execution_count": 39,
   "id": "4ea06c85-6ec8-4a05-af7f-1f274309c35d",
   "metadata": {},
   "outputs": [],
   "source": [
    "left_unitary = npc.diag(\n",
    "    1,\n",
    "    leg=left_right_rdm.get_leg('lp'),\n",
    "    dtype='complex',\n",
    "    labels=['lp', 'lp*']\n",
    ")"
   ]
  },
  {
   "cell_type": "code",
   "execution_count": 40,
   "id": "ed7686b8-a08e-4cfc-97d8-c73fe89c37ed",
   "metadata": {},
   "outputs": [],
   "source": [
    "right_unitary = npc.diag(\n",
    "    1,\n",
    "    leg=left_right_rdm.get_leg('rp'),\n",
    "    dtype='complex',\n",
    "    labels=['rp', 'rp*']\n",
    ")"
   ]
  },
  {
   "cell_type": "code",
   "execution_count": 187,
   "id": "49aa77ff-020d-4e44-af6d-16341f4aa726",
   "metadata": {},
   "outputs": [],
   "source": [
    "def iteration_step(rdm, left_unitary, right_unitary):\n",
    "    left_rdm = npc.tensordot(rdm, right_unitary, [['rp', 'rp*'], ['rp*', 'rp']])\n",
    "\n",
    "    U, S, VH = npc.svd(\n",
    "        left_rdm.conj(),\n",
    "        compute_uv=True,\n",
    "        inner_labels=['i', 'i*']\n",
    "    )\n",
    "\n",
    "    out_left_unitary = npc.tensordot(U, VH, [['i',], ['i*',]])\n",
    "    left_exp = np.sum(S)\n",
    "\n",
    "    right_rdm = npc.tensordot(rdm, out_left_unitary, [['lp', 'lp*'], ['lp*', 'lp']])\n",
    "\n",
    "    U, S, VH = npc.svd(\n",
    "        right_rdm.conj(),\n",
    "        compute_uv=True,\n",
    "        inner_labels=['i', 'i*']\n",
    "    )\n",
    "\n",
    "    out_right_unitary = npc.tensordot(U, VH, [['i',], ['i*',]])\n",
    "    right_exp = np.sum(S)\n",
    "\n",
    "    return (right_exp, left_exp), out_right_unitary, out_left_unitary"
   ]
  },
  {
   "cell_type": "code",
   "execution_count": 42,
   "id": "fa735ae5-3bb5-4897-b222-ad9ff2fff254",
   "metadata": {},
   "outputs": [],
   "source": [
    "exps = list()\n",
    "\n",
    "for _ in range(10):\n",
    "    out = iteration_step(left_right_rdm, left_unitary, right_unitary)\n",
    "\n",
    "    exps.extend(out[0])\n",
    "\n",
    "    right_unitary, left_unitary = out[1:]"
   ]
  },
  {
   "cell_type": "code",
   "execution_count": 43,
   "id": "e2d2444b-aacd-4d6f-b627-907943b7c944",
   "metadata": {},
   "outputs": [
    {
     "data": {
      "text/plain": [
       "[4.768210584463934e-17,\n",
       " 0.7857672824010177,\n",
       " 0.8607407754736202,\n",
       " 0.8607407754736199,\n",
       " 0.8607407754736198,\n",
       " 0.8607407754736199,\n",
       " 0.8607407754736192,\n",
       " 0.8607407754736199,\n",
       " 0.8607407754736195,\n",
       " 0.8607407754736196,\n",
       " 0.86074077547362,\n",
       " 0.8607407754736195,\n",
       " 0.8607407754736196,\n",
       " 0.8607407754736199,\n",
       " 0.8607407754736196,\n",
       " 0.8607407754736197,\n",
       " 0.8607407754736197,\n",
       " 0.8607407754736195,\n",
       " 0.8607407754736198,\n",
       " 0.8607407754736198]"
      ]
     },
     "execution_count": 43,
     "metadata": {},
     "output_type": "execute_result"
    }
   ],
   "source": [
    "exps"
   ]
  },
  {
   "cell_type": "code",
   "execution_count": 44,
   "id": "aa5d45ed-5382-48ae-8be8-a12117e09f7f",
   "metadata": {},
   "outputs": [
    {
     "data": {
      "text/plain": [
       "[<matplotlib.lines.Line2D at 0x30521b5d0>]"
      ]
     },
     "execution_count": 44,
     "metadata": {},
     "output_type": "execute_result"
    },
    {
     "data": {
      "image/png": "[encoded data removed]",
      "text/plain": [
       "<Figure size 640x480 with 1 Axes>"
      ]
     },
     "metadata": {},
     "output_type": "display_data"
    }
   ],
   "source": [
    "plt.plot(exps)"
   ]
  },
  {
   "cell_type": "code",
   "execution_count": 45,
   "id": "c4048076-d34f-4efe-a6ee-358c36b3063d",
   "metadata": {},
   "outputs": [
    {
     "data": {
      "text/plain": [
       "[<matplotlib.lines.Line2D at 0x3052ae690>]"
      ]
     },
     "execution_count": 45,
     "metadata": {},
     "output_type": "execute_result"
    },
    {
     "data": {
      "image/png": "[encoded data removed]",
      "text/plain": [
       "<Figure size 640x480 with 1 Axes>"
      ]
     },
     "metadata": {},
     "output_type": "display_data"
    }
   ],
   "source": [
    "plt.plot(exps[2:])"
   ]
  },
  {
   "cell_type": "markdown",
   "id": "c8326093-9c28-455e-8761-2419ee1d4d84",
   "metadata": {},
   "source": [
    "That looks much better!"
   ]
  },
  {
   "cell_type": "markdown",
   "id": "936b5195-0bb2-4d46-b15d-b956e623d431",
   "metadata": {},
   "source": [
    "## Step through and compare"
   ]
  },
  {
   "cell_type": "code",
   "execution_count": 46,
   "id": "a00f1ee4-ca7f-4da4-a4fb-db2d9c7cbb40",
   "metadata": {},
   "outputs": [],
   "source": [
    "block_width = 3\n",
    "num_one_sided_iterations = 1\n",
    "num_two_sided_iterations = 30\n",
    "num_layers = 1\n",
    "num_sites = 3"
   ]
  },
  {
   "cell_type": "code",
   "execution_count": 47,
   "id": "d8874134-aa82-460d-b887-502e303e2c5a",
   "metadata": {},
   "outputs": [],
   "source": [
    "debug_opt = MPSBrickSolver(\n",
    "    cases_non_triv_proj_rep[(0.55, 1, 1)],\n",
    "    num_sites,\n",
    "    block_width,\n",
    "    num_layers,\n",
    "    num_one_sided_iterations,\n",
    "    num_two_sided_iterations,\n",
    "    max_virtual_bond_dim=MAX_VIRTUAL_BOND_DIM\n",
    ")"
   ]
  },
  {
   "cell_type": "code",
   "execution_count": 48,
   "id": "e8de7a36-85b8-4f4f-a066-7304c65c556d",
   "metadata": {},
   "outputs": [],
   "source": [
    "debug_opt.add_new_layer()"
   ]
  },
  {
   "cell_type": "code",
   "execution_count": 49,
   "id": "09fdc15d-8232-4c51-8b29-4252fd6b5959",
   "metadata": {},
   "outputs": [],
   "source": [
    "debug_opt.optimise_left_layer()"
   ]
  },
  {
   "cell_type": "code",
   "execution_count": 62,
   "id": "25d9adfe-6afb-452e-9167-f4d7369399f6",
   "metadata": {},
   "outputs": [
    {
     "data": {
      "text/plain": [
       "[]"
      ]
     },
     "execution_count": 62,
     "metadata": {},
     "output_type": "execute_result"
    }
   ],
   "source": [
    "debug_opt.flatten_exps()"
   ]
  },
  {
   "cell_type": "code",
   "execution_count": 63,
   "id": "88e4eabc-dc1c-450e-9122-4738cbd7fd6e",
   "metadata": {},
   "outputs": [
    {
     "data": {
      "text/plain": [
       "[[[[2.286419450530964e-17]]]]"
      ]
     },
     "execution_count": 63,
     "metadata": {},
     "output_type": "execute_result"
    }
   ],
   "source": [
    "debug_opt.left_expectations"
   ]
  },
  {
   "cell_type": "code",
   "execution_count": 50,
   "id": "3daf673e-7ea9-4279-ab67-9f00a1ee0bab",
   "metadata": {},
   "outputs": [],
   "source": [
    "debug_case = cases_non_triv_proj_rep[(0.55, 1, 1)]"
   ]
  },
  {
   "cell_type": "code",
   "execution_count": 51,
   "id": "3f0ec7bb-ad29-41e2-9e96-f330f195e9f1",
   "metadata": {},
   "outputs": [],
   "source": [
    "transfer_matrix = debug_case.npc_symmetry_transfer_matrix"
   ]
  },
  {
   "cell_type": "code",
   "execution_count": 54,
   "id": "72725b66-ef1d-47f8-bc29-9db54c18c1ca",
   "metadata": {},
   "outputs": [],
   "source": [
    "t = transfer_matrix\n",
    "\n",
    "right_bs = [\n",
    "    debug_case.psi.get_B(i)\n",
    "    for i in range(debug_case.right_symmetry_index+1, debug_case.right_symmetry_index+4)\n",
    "]\n",
    "\n",
    "for i, b in enumerate(right_bs):\n",
    "    t = npc.tensordot(t, b, [['vR',], ['vL']]).replace_label('p', f'p{i}')\n",
    "    t = npc.tensordot(t, b.conj(), [['vR*',], ['vL*']]).replace_label('p*', f'p{i}*')\n",
    "\n",
    "t = npc.trace(t, 'vR', 'vR*')\n",
    "\n",
    "t = (\n",
    "    t\n",
    "    .combine_legs([['p0', 'p1', 'p2'], ['p0*', 'p1*', 'p2*']])\n",
    "    .replace_label('(p0.p1.p2)', 'rp')\n",
    "    .replace_label('(p0*.p1*.p2*)', 'rp*')\n",
    ")\n",
    "\n",
    "left_bs = [\n",
    "    debug_case.psi.get_B(i, form='A')\n",
    "    for i in range(debug_case.left_symmetry_index-1, debug_case.left_symmetry_index-4, -1)\n",
    "]\n",
    "\n",
    "for i, b in enumerate(left_bs):\n",
    "    t = npc.tensordot(t, b, [['vL',], ['vR']]).replace_label('p', f'p{i}')\n",
    "    t = npc.tensordot(t, b.conj(), [['vL*',], ['vR*']]).replace_label('p*', f'p{i}*')\n",
    "\n",
    "t = npc.trace(t, 'vL', 'vL*')\n",
    "\n",
    "t = (\n",
    "    t\n",
    "    .combine_legs([['p0', 'p1', 'p2'], ['p0*', 'p1*', 'p2*']])\n",
    "    .replace_label('(p0.p1.p2)', 'lp')\n",
    "    .replace_label('(p0*.p1*.p2*)', 'lp*')\n",
    ")"
   ]
  },
  {
   "cell_type": "code",
   "execution_count": 55,
   "id": "ab17c786-cb16-4a94-87aa-fd83597d1c0d",
   "metadata": {},
   "outputs": [],
   "source": [
    "left_right_rdm = t"
   ]
  },
  {
   "cell_type": "code",
   "execution_count": 56,
   "id": "b247141f-1985-4106-bd20-5ffa744cc478",
   "metadata": {},
   "outputs": [
    {
     "data": {
      "text/plain": [
       "<npc.Array shape=(32, 32, 16, 16) labels=['rp', 'rp*', 'lp', 'lp*']>"
      ]
     },
     "execution_count": 56,
     "metadata": {},
     "output_type": "execute_result"
    }
   ],
   "source": [
    "left_right_rdm"
   ]
  },
  {
   "cell_type": "code",
   "execution_count": 57,
   "id": "ffa2b116-7335-4523-aae5-7ebba3e58eb6",
   "metadata": {},
   "outputs": [],
   "source": [
    "left_unitary = npc.diag(\n",
    "    1,\n",
    "    leg=left_right_rdm.get_leg('lp'),\n",
    "    dtype='complex',\n",
    "    labels=['lp', 'lp*']\n",
    ")"
   ]
  },
  {
   "cell_type": "code",
   "execution_count": 58,
   "id": "43f0e456-7377-43ea-bfc4-ddecdf033900",
   "metadata": {},
   "outputs": [],
   "source": [
    "right_unitary = npc.diag(\n",
    "    1,\n",
    "    leg=left_right_rdm.get_leg('rp'),\n",
    "    dtype='complex',\n",
    "    labels=['rp', 'rp*']\n",
    ")"
   ]
  },
  {
   "cell_type": "code",
   "execution_count": 59,
   "id": "01d018db-8b80-4cd5-a6ba-aaea5e39ac14",
   "metadata": {},
   "outputs": [],
   "source": [
    "def left_iteration_step(rdm, right_unitary):\n",
    "    left_rdm = npc.tensordot(rdm, right_unitary, [['rp', 'rp*'], ['rp*', 'rp']])\n",
    "\n",
    "    U, S, VH = npc.svd(\n",
    "        left_rdm.conj(),\n",
    "        compute_uv=True,\n",
    "        inner_labels=['i', 'i*']\n",
    "    )\n",
    "\n",
    "    out_left_unitary = npc.tensordot(U, VH, [['i',], ['i*',]])\n",
    "    left_exp = np.sum(S)\n",
    "\n",
    "    return out_left_unitary, left_exp"
   ]
  },
  {
   "cell_type": "code",
   "execution_count": 66,
   "id": "dd4446f1-c1cd-4486-8500-2f6bfd1339bd",
   "metadata": {},
   "outputs": [],
   "source": [
    "def right_iteration_step(rdm, left_unitary):\n",
    "    right_rdm = npc.tensordot(rdm, left_unitary, [['lp', 'lp*'], ['lp*', 'lp']])\n",
    "\n",
    "    U, S, VH = npc.svd(\n",
    "        right_rdm.conj(),\n",
    "        compute_uv=True,\n",
    "        inner_labels=['i', 'i*']\n",
    "    )\n",
    "\n",
    "    out_right_unitary = npc.tensordot(U, VH, [['i',], ['i*',]])\n",
    "    right_exp = np.sum(S)\n",
    "\n",
    "    return out_right_unitary, right_exp"
   ]
  },
  {
   "cell_type": "code",
   "execution_count": 67,
   "id": "e13e592d-c868-45e1-85c9-fe349ec9a412",
   "metadata": {},
   "outputs": [],
   "source": [
    "current_left_unitary, current_left_exp = left_iteration_step(t, right_unitary)"
   ]
  },
  {
   "cell_type": "code",
   "execution_count": 68,
   "id": "3c3e6cf9-a59a-4d6a-87da-18b478121db8",
   "metadata": {},
   "outputs": [
    {
     "data": {
      "text/plain": [
       "1.5203088597106105e-17"
      ]
     },
     "execution_count": 68,
     "metadata": {},
     "output_type": "execute_result"
    }
   ],
   "source": [
    "current_left_exp"
   ]
  },
  {
   "cell_type": "code",
   "execution_count": 64,
   "id": "aaffd1e8-5ff3-4024-a335-efa2735d3e10",
   "metadata": {},
   "outputs": [],
   "source": [
    "debug_opt.optimise_right_layer()"
   ]
  },
  {
   "cell_type": "code",
   "execution_count": 65,
   "id": "5d3df7a4-1318-441c-b27a-91269ee5e28d",
   "metadata": {},
   "outputs": [
    {
     "data": {
      "text/plain": [
       "[[[[0.8625002455430719]]]]"
      ]
     },
     "execution_count": 65,
     "metadata": {},
     "output_type": "execute_result"
    }
   ],
   "source": [
    "debug_opt.right_expectations"
   ]
  },
  {
   "cell_type": "code",
   "execution_count": 71,
   "id": "dabb9517-d5a6-45b4-8558-8e48ad8e1b57",
   "metadata": {},
   "outputs": [],
   "source": [
    "current_right_unitary, current_right_exp = right_iteration_step(t, current_left_unitary)"
   ]
  },
  {
   "cell_type": "code",
   "execution_count": 77,
   "id": "e1ba5154-3125-4e73-8710-f43a053199fc",
   "metadata": {},
   "outputs": [
    {
     "data": {
      "text/plain": [
       "0.8518627216071814"
      ]
     },
     "execution_count": 77,
     "metadata": {},
     "output_type": "execute_result"
    }
   ],
   "source": [
    "current_right_exp"
   ]
  },
  {
   "cell_type": "markdown",
   "id": "924a08ad-7108-4d63-a639-4dc10e1157fd",
   "metadata": {},
   "source": [
    "Close... but not the same."
   ]
  },
  {
   "cell_type": "code",
   "execution_count": 72,
   "id": "da0c70ef-d735-4625-8695-c905670a5932",
   "metadata": {},
   "outputs": [],
   "source": [
    "debug_opt.optimise_left_layer()"
   ]
  },
  {
   "cell_type": "code",
   "execution_count": 73,
   "id": "739e77a6-062f-4fa4-93fd-7e1ae0628636",
   "metadata": {},
   "outputs": [
    {
     "data": {
      "text/plain": [
       "[2.286419450530964e-17, 0.8625002455430719]"
      ]
     },
     "execution_count": 73,
     "metadata": {},
     "output_type": "execute_result"
    }
   ],
   "source": [
    "debug_opt.flatten_exps()"
   ]
  },
  {
   "cell_type": "code",
   "execution_count": 74,
   "id": "5db30a4b-9b8f-4e34-b7c0-102e0f9b5010",
   "metadata": {},
   "outputs": [
    {
     "data": {
      "text/plain": [
       "[[[[2.286419450530964e-17]], [[0.8629213427020077]]]]"
      ]
     },
     "execution_count": 74,
     "metadata": {},
     "output_type": "execute_result"
    }
   ],
   "source": [
    "debug_opt.left_expectations"
   ]
  },
  {
   "cell_type": "code",
   "execution_count": 75,
   "id": "0384cefd-af54-4a78-b697-7c9ecb176d34",
   "metadata": {},
   "outputs": [],
   "source": [
    "current_left_unitary, current_left_exp = left_iteration_step(t, current_right_unitary)"
   ]
  },
  {
   "cell_type": "code",
   "execution_count": 76,
   "id": "96532d5d-823b-486a-a8eb-450e1cf0b0d5",
   "metadata": {},
   "outputs": [
    {
     "data": {
      "text/plain": [
       "0.8607407754736193"
      ]
     },
     "execution_count": 76,
     "metadata": {},
     "output_type": "execute_result"
    }
   ],
   "source": [
    "current_left_exp"
   ]
  },
  {
   "cell_type": "code",
   "execution_count": 78,
   "id": "ae9c46fe-3c25-4c12-ac76-5834da97b5e4",
   "metadata": {},
   "outputs": [],
   "source": [
    "debug_opt.optimise_right_layer()"
   ]
  },
  {
   "cell_type": "code",
   "execution_count": 79,
   "id": "b514f922-740c-4a88-96a3-5c870a4ad1b6",
   "metadata": {},
   "outputs": [
    {
     "data": {
      "text/plain": [
       "[[[[0.8625002455430719]], [[0.8634647572157061]]]]"
      ]
     },
     "execution_count": 79,
     "metadata": {},
     "output_type": "execute_result"
    }
   ],
   "source": [
    "debug_opt.right_expectations"
   ]
  },
  {
   "cell_type": "code",
   "execution_count": 80,
   "id": "927765bf-efca-4376-b267-83735dc6ad9c",
   "metadata": {},
   "outputs": [],
   "source": [
    "current_right_unitary, current_right_exp = right_iteration_step(t, current_left_unitary)"
   ]
  },
  {
   "cell_type": "code",
   "execution_count": 81,
   "id": "5eea51c8-394c-4a49-a74a-405dc05a4375",
   "metadata": {},
   "outputs": [
    {
     "data": {
      "text/plain": [
       "0.8607407754736196"
      ]
     },
     "execution_count": 81,
     "metadata": {},
     "output_type": "execute_result"
    }
   ],
   "source": [
    "current_right_exp"
   ]
  },
  {
   "cell_type": "markdown",
   "id": "a8f30eaf-cde6-412f-950d-0b8c1420bac6",
   "metadata": {},
   "source": [
    "Marginal improvement..."
   ]
  },
  {
   "cell_type": "code",
   "execution_count": 82,
   "id": "d50e6045-e4ad-4dd1-89f3-ab52e28bb044",
   "metadata": {},
   "outputs": [],
   "source": [
    "debug_opt.optimise_left_layer()"
   ]
  },
  {
   "cell_type": "code",
   "execution_count": 83,
   "id": "42e622bd-5c94-4608-a258-b7584df9f673",
   "metadata": {},
   "outputs": [
    {
     "data": {
      "text/plain": [
       "[2.286419450530964e-17,\n",
       " 0.8625002455430719,\n",
       " 0.8629213427020077,\n",
       " 0.8634647572157061]"
      ]
     },
     "execution_count": 83,
     "metadata": {},
     "output_type": "execute_result"
    }
   ],
   "source": [
    "debug_opt.flatten_exps()"
   ]
  },
  {
   "cell_type": "code",
   "execution_count": 84,
   "id": "270ff850-26a7-4a4b-9bf9-0dead4220f4d",
   "metadata": {},
   "outputs": [
    {
     "data": {
      "text/plain": [
       "[[[[2.286419450530964e-17]], [[0.8629213427020077]], [[0.8629213427011407]]]]"
      ]
     },
     "execution_count": 84,
     "metadata": {},
     "output_type": "execute_result"
    }
   ],
   "source": [
    "debug_opt.left_expectations"
   ]
  },
  {
   "cell_type": "markdown",
   "id": "3194a0a8-1b87-4524-8e67-acddba1786be",
   "metadata": {},
   "source": [
    "And there is the problem."
   ]
  },
  {
   "cell_type": "code",
   "execution_count": 85,
   "id": "1ab556be-200b-4720-bfe4-4f77d904ec88",
   "metadata": {},
   "outputs": [],
   "source": [
    "current_left_unitary, current_left_exp = left_iteration_step(t, current_right_unitary)"
   ]
  },
  {
   "cell_type": "code",
   "execution_count": 86,
   "id": "0295931d-bea5-4230-b73b-1cac5fd617f6",
   "metadata": {},
   "outputs": [
    {
     "data": {
      "text/plain": [
       "0.8607407754736199"
      ]
     },
     "execution_count": 86,
     "metadata": {},
     "output_type": "execute_result"
    }
   ],
   "source": [
    "current_left_exp"
   ]
  },
  {
   "cell_type": "markdown",
   "id": "fab7f33d-7aae-4af5-b183-43b2f13ef0b4",
   "metadata": {},
   "source": [
    "Plug in \"true\" solutions and see what happens."
   ]
  },
  {
   "cell_type": "code",
   "execution_count": 92,
   "id": "b0ec2848-8abe-44a6-b001-2fae5f2ea003",
   "metadata": {},
   "outputs": [],
   "source": [
    "block_width = 3\n",
    "num_one_sided_iterations = 1\n",
    "num_two_sided_iterations = 30\n",
    "num_layers = 1\n",
    "num_sites = 3"
   ]
  },
  {
   "cell_type": "code",
   "execution_count": 98,
   "id": "5ba93580-6f77-4265-9cbe-2310014bd1cd",
   "metadata": {},
   "outputs": [],
   "source": [
    "debug_opt = MPSBrickSolver(\n",
    "    cases_non_triv_proj_rep[(0.55, 1, 1)],\n",
    "    num_sites,\n",
    "    block_width,\n",
    "    num_layers,\n",
    "    num_one_sided_iterations,\n",
    "    num_two_sided_iterations,\n",
    "    max_virtual_bond_dim=MAX_VIRTUAL_BOND_DIM\n",
    ")"
   ]
  },
  {
   "cell_type": "code",
   "execution_count": 99,
   "id": "ee27f41e-413c-48bc-8311-4e81c78a17b1",
   "metadata": {},
   "outputs": [],
   "source": [
    "debug_opt.add_new_layer()"
   ]
  },
  {
   "cell_type": "code",
   "execution_count": 103,
   "id": "a4b8afb7-9a5f-40b3-831c-6cd46f9f1899",
   "metadata": {},
   "outputs": [],
   "source": [
    "debug_opt.right_current_layer_unitaries = [\n",
    "    current_right_unitary.replace_labels(['rp', 'rp*'], ['(p0.p1.p2)', '(p0*.p1*.p2*)']),\n",
    "]\n",
    "debug_opt.left_current_layer_unitaries = [\n",
    "    current_left_unitary.replace_labels(['lp', 'lp*'], ['(p0.p1.p2)', '(p0*.p1*.p2*)']),\n",
    "]"
   ]
  },
  {
   "cell_type": "code",
   "execution_count": 104,
   "id": "2b4b9ae6-a630-4635-b5ec-fbce45c0ebfa",
   "metadata": {},
   "outputs": [],
   "source": [
    "debug_opt.optimise_left_layer()"
   ]
  },
  {
   "cell_type": "code",
   "execution_count": 105,
   "id": "1a5f0ae8-b26d-4d52-b378-f01d5f44e6f3",
   "metadata": {},
   "outputs": [
    {
     "data": {
      "text/plain": [
       "[[[[2.286419450530964e-17]]]]"
      ]
     },
     "execution_count": 105,
     "metadata": {},
     "output_type": "execute_result"
    }
   ],
   "source": [
    "debug_opt.left_expectations"
   ]
  },
  {
   "cell_type": "code",
   "execution_count": 106,
   "id": "7dc48bf4-7d18-4a38-99e8-1c0d64d59686",
   "metadata": {},
   "outputs": [
    {
     "data": {
      "text/plain": [
       "[[]]"
      ]
     },
     "execution_count": 106,
     "metadata": {},
     "output_type": "execute_result"
    }
   ],
   "source": [
    "debug_opt.right_expectations"
   ]
  },
  {
   "cell_type": "code",
   "execution_count": 107,
   "id": "7fdc25ae-e412-42fd-84e2-21847260866e",
   "metadata": {},
   "outputs": [],
   "source": [
    "debug_opt.optimise_right_layer()"
   ]
  },
  {
   "cell_type": "code",
   "execution_count": 108,
   "id": "22bbae18-d52b-4c33-b7c5-1010f2ffda21",
   "metadata": {},
   "outputs": [
    {
     "data": {
      "text/plain": [
       "[[[[0.8625002455430719]]]]"
      ]
     },
     "execution_count": 108,
     "metadata": {},
     "output_type": "execute_result"
    }
   ],
   "source": [
    "debug_opt.right_expectations"
   ]
  },
  {
   "cell_type": "code",
   "execution_count": 118,
   "id": "cc2d5c80-c735-492a-899e-06a53429382d",
   "metadata": {},
   "outputs": [],
   "source": [
    "block_width = 3\n",
    "num_one_sided_iterations = 1\n",
    "num_two_sided_iterations = 30\n",
    "num_layers = 1\n",
    "num_sites = 3"
   ]
  },
  {
   "cell_type": "code",
   "execution_count": 119,
   "id": "6acee3c8-f3cf-4275-b0ca-9c5370cdbd89",
   "metadata": {},
   "outputs": [],
   "source": [
    "debug_opt = MPSBrickSolver(\n",
    "    cases_non_triv_proj_rep[(0.55, 1, 1)],\n",
    "    num_sites,\n",
    "    block_width,\n",
    "    num_layers,\n",
    "    num_one_sided_iterations,\n",
    "    num_two_sided_iterations,\n",
    "    max_virtual_bond_dim=MAX_VIRTUAL_BOND_DIM\n",
    ")"
   ]
  },
  {
   "cell_type": "code",
   "execution_count": 120,
   "id": "fcef194b-eb40-44b4-8155-128821073676",
   "metadata": {},
   "outputs": [],
   "source": [
    "debug_opt.add_new_layer()"
   ]
  },
  {
   "cell_type": "code",
   "execution_count": 121,
   "id": "5999a296-f6a7-4e0a-b086-6655581d5513",
   "metadata": {},
   "outputs": [
    {
     "data": {
      "text/plain": [
       "[]"
      ]
     },
     "execution_count": 121,
     "metadata": {},
     "output_type": "execute_result"
    }
   ],
   "source": [
    "debug_opt.left_unitaries"
   ]
  },
  {
   "cell_type": "code",
   "execution_count": 122,
   "id": "be49308c-f911-4c2b-88d6-ab5e52901cbd",
   "metadata": {},
   "outputs": [],
   "source": [
    "debug_opt.right_current_layer_unitaries = [\n",
    "    current_right_unitary.replace_labels(['rp', 'rp*'], ['(p0.p1.p2)', '(p0*.p1*.p2*)']),\n",
    "]\n",
    "debug_opt.left_current_layer_unitaries = [\n",
    "    current_left_unitary.replace_labels(['lp', 'lp*'], ['(p0.p1.p2)', '(p0*.p1*.p2*)']),\n",
    "]"
   ]
  },
  {
   "cell_type": "code",
   "execution_count": 125,
   "id": "9167f18b-9ab3-48fe-99bd-e4c2efd6d938",
   "metadata": {},
   "outputs": [],
   "source": [
    "debug_opt.left_unitaries.append(debug_opt.left_current_layer_unitaries)\n",
    "debug_opt.right_unitaries.append(debug_opt.right_current_layer_unitaries)"
   ]
  },
  {
   "cell_type": "code",
   "execution_count": 124,
   "id": "aa4c2b30-4949-4593-8385-00f28db1f054",
   "metadata": {},
   "outputs": [
    {
     "data": {
      "text/plain": [
       "[<npc.Array shape=(16, 16) labels=['(p0*.p1*.p2*)', '(p0.p1.p2)']>]"
      ]
     },
     "execution_count": 124,
     "metadata": {},
     "output_type": "execute_result"
    }
   ],
   "source": [
    "debug_opt.left_current_layer_unitaries"
   ]
  },
  {
   "cell_type": "code",
   "execution_count": 126,
   "id": "72bf978a-7724-429c-add9-1edd91db00cb",
   "metadata": {},
   "outputs": [
    {
     "data": {
      "text/plain": [
       "[[<npc.Array shape=(16, 16) labels=['(p0*.p1*.p2*)', '(p0.p1.p2)']>]]"
      ]
     },
     "execution_count": 126,
     "metadata": {},
     "output_type": "execute_result"
    }
   ],
   "source": [
    "debug_opt.left_unitaries"
   ]
  },
  {
   "cell_type": "code",
   "execution_count": 127,
   "id": "e75ca362-fe2e-4445-bd27-e352f1582f28",
   "metadata": {},
   "outputs": [
    {
     "data": {
      "text/plain": [
       "[[<npc.Array shape=(32, 32) labels=['(p0*.p1*.p2*)', '(p0.p1.p2)']>]]"
      ]
     },
     "execution_count": 127,
     "metadata": {},
     "output_type": "execute_result"
    }
   ],
   "source": [
    "debug_opt.right_unitaries"
   ]
  },
  {
   "cell_type": "code",
   "execution_count": 128,
   "id": "eae119d5-9efa-4924-9019-675bf4146322",
   "metadata": {},
   "outputs": [
    {
     "data": {
      "text/plain": [
       "(0.8656522252710772+0j)"
      ]
     },
     "execution_count": 128,
     "metadata": {},
     "output_type": "execute_result"
    }
   ],
   "source": [
    "debug_opt.manual_expectation_value()"
   ]
  },
  {
   "cell_type": "code",
   "execution_count": 104,
   "id": "37531f6b-aa2a-4abe-a57f-0b15f9547865",
   "metadata": {},
   "outputs": [],
   "source": [
    "debug_opt.optimise_left_layer()"
   ]
  },
  {
   "cell_type": "code",
   "execution_count": 105,
   "id": "e29b0b40-40ab-4511-bffb-245091643e99",
   "metadata": {},
   "outputs": [
    {
     "data": {
      "text/plain": [
       "[[[[2.286419450530964e-17]]]]"
      ]
     },
     "execution_count": 105,
     "metadata": {},
     "output_type": "execute_result"
    }
   ],
   "source": [
    "debug_opt.left_expectations"
   ]
  },
  {
   "cell_type": "code",
   "execution_count": 106,
   "id": "05bedad6-6fec-4ed3-a144-88f254bff343",
   "metadata": {},
   "outputs": [
    {
     "data": {
      "text/plain": [
       "[[]]"
      ]
     },
     "execution_count": 106,
     "metadata": {},
     "output_type": "execute_result"
    }
   ],
   "source": [
    "debug_opt.right_expectations"
   ]
  },
  {
   "cell_type": "code",
   "execution_count": 107,
   "id": "e1bc6e3c-66bc-418e-a037-490ff7cb9cc0",
   "metadata": {},
   "outputs": [],
   "source": [
    "debug_opt.optimise_right_layer()"
   ]
  },
  {
   "cell_type": "code",
   "execution_count": 108,
   "id": "2ccdc2a6-96b4-4790-9d3a-fb727313e841",
   "metadata": {},
   "outputs": [
    {
     "data": {
      "text/plain": [
       "[[[[0.8625002455430719]]]]"
      ]
     },
     "execution_count": 108,
     "metadata": {},
     "output_type": "execute_result"
    }
   ],
   "source": [
    "debug_opt.right_expectations"
   ]
  },
  {
   "cell_type": "markdown",
   "id": "7a6ba386-ff51-4e6f-ac8b-c10d3cbe9249",
   "metadata": {},
   "source": [
    "## Generate solution and perturb"
   ]
  },
  {
   "cell_type": "code",
   "execution_count": 130,
   "id": "04d1b5d2-f605-4c66-9d21-28d7503f7c90",
   "metadata": {},
   "outputs": [
    {
     "data": {
      "text/plain": [
       "<npc.Array shape=(32, 32) labels=['rp*', 'rp']>"
      ]
     },
     "execution_count": 130,
     "metadata": {},
     "output_type": "execute_result"
    }
   ],
   "source": [
    "current_right_unitary"
   ]
  },
  {
   "cell_type": "code",
   "execution_count": 131,
   "id": "dfdc9fdc-443d-49f3-a245-6e97242383af",
   "metadata": {},
   "outputs": [
    {
     "data": {
      "text/plain": [
       "<npc.Array shape=(16, 16) labels=['lp*', 'lp']>"
      ]
     },
     "execution_count": 131,
     "metadata": {},
     "output_type": "execute_result"
    }
   ],
   "source": [
    "current_left_unitary"
   ]
  },
  {
   "cell_type": "code",
   "execution_count": 164,
   "id": "b46b2461-6d60-4c0a-8025-909f5d0a58c0",
   "metadata": {},
   "outputs": [],
   "source": [
    "hermitian = np.zeros((16, 16))\n",
    "\n",
    "for i in range(15):\n",
    "    hermitian[i, i+1] = 1\n",
    "    hermitian[i+1, i] = 1\n",
    "\n",
    "unitary1 = matrix_exponential(1j*0.4*hermitian)\n",
    "\n",
    "npc_unitary_l = npc.Array.from_ndarray_trivial(unitary1, labels=['lp', 'lp*'])"
   ]
  },
  {
   "cell_type": "code",
   "execution_count": 165,
   "id": "0c221aef-388d-46e9-8d37-020fd8350439",
   "metadata": {},
   "outputs": [
    {
     "data": {
      "text/plain": [
       "True"
      ]
     },
     "execution_count": 165,
     "metadata": {},
     "output_type": "execute_result"
    }
   ],
   "source": [
    "np.all(hermitian == hermitian.T)"
   ]
  },
  {
   "cell_type": "code",
   "execution_count": 166,
   "id": "f1da6622-1814-4285-962b-320050976cbd",
   "metadata": {},
   "outputs": [],
   "source": [
    "hermitian = np.zeros((32, 32))\n",
    "\n",
    "for i in range(31):\n",
    "    hermitian[i, i+1] = 1\n",
    "    hermitian[i+1, i] = 1\n",
    "\n",
    "unitary2 = matrix_exponential(1j*0.4*hermitian)\n",
    "\n",
    "npc_unitary_r = npc.Array.from_ndarray_trivial(unitary2, labels=['rp', 'rp*'])"
   ]
  },
  {
   "cell_type": "code",
   "execution_count": 167,
   "id": "3de51c43-d540-48f4-bc3c-2955144a131d",
   "metadata": {},
   "outputs": [
    {
     "data": {
      "text/plain": [
       "True"
      ]
     },
     "execution_count": 167,
     "metadata": {},
     "output_type": "execute_result"
    }
   ],
   "source": [
    "np.all(hermitian == hermitian.T)"
   ]
  },
  {
   "cell_type": "markdown",
   "id": "f2c9bbdb-c026-404f-84f8-bb8dc35fe952",
   "metadata": {},
   "source": [
    "Get solution."
   ]
  },
  {
   "cell_type": "code",
   "execution_count": 168,
   "id": "530db76a-eb45-4708-92c3-c38e2b639485",
   "metadata": {},
   "outputs": [],
   "source": [
    "left_unitary = npc.diag(\n",
    "    1,\n",
    "    leg=left_right_rdm.get_leg('lp'),\n",
    "    dtype='complex',\n",
    "    labels=['lp', 'lp*']\n",
    ")"
   ]
  },
  {
   "cell_type": "code",
   "execution_count": 169,
   "id": "e2b1ddc0-bd09-401a-8181-e08a31804b19",
   "metadata": {},
   "outputs": [],
   "source": [
    "right_unitary = npc.diag(\n",
    "    1,\n",
    "    leg=left_right_rdm.get_leg('rp'),\n",
    "    dtype='complex',\n",
    "    labels=['rp', 'rp*']\n",
    ")"
   ]
  },
  {
   "cell_type": "code",
   "execution_count": 170,
   "id": "7ac18592-9fc2-483d-a784-5b798e21d1dc",
   "metadata": {},
   "outputs": [],
   "source": [
    "exps = list()\n",
    "\n",
    "for _ in range(10):\n",
    "    out = iteration_step(left_right_rdm, left_unitary, right_unitary)\n",
    "\n",
    "    exps.extend(out[0])\n",
    "\n",
    "    right_unitary, left_unitary = out[1:]"
   ]
  },
  {
   "cell_type": "code",
   "execution_count": 171,
   "id": "1a74cbf0-4b14-46e3-a2eb-22378bda8d78",
   "metadata": {},
   "outputs": [
    {
     "data": {
      "text/plain": [
       "0.8607407754736198"
      ]
     },
     "execution_count": 171,
     "metadata": {},
     "output_type": "execute_result"
    }
   ],
   "source": [
    "exps[-1]"
   ]
  },
  {
   "cell_type": "code",
   "execution_count": 172,
   "id": "31926951-e9d9-4bea-b4c9-b78fe19bb45f",
   "metadata": {},
   "outputs": [],
   "source": [
    "perturbed_right_unitary = npc.tensordot(right_unitary, npc_unitary_r, [['rp',], ['rp*']])"
   ]
  },
  {
   "cell_type": "code",
   "execution_count": 173,
   "id": "c3b37956-e297-471f-9b1a-ac0145efd959",
   "metadata": {},
   "outputs": [],
   "source": [
    "perturbed_left_unitary = npc.tensordot(left_unitary, npc_unitary_l, [['lp',], ['lp*']])"
   ]
  },
  {
   "cell_type": "code",
   "execution_count": 174,
   "id": "d7426c45-a64e-47a4-8090-8e0a0606257c",
   "metadata": {},
   "outputs": [
    {
     "data": {
      "text/plain": [
       "(0.5740888191425121+0.11428655442735176j)"
      ]
     },
     "execution_count": 174,
     "metadata": {},
     "output_type": "execute_result"
    }
   ],
   "source": [
    "t = npc.tensordot(left_right_rdm, perturbed_left_unitary, [['lp', 'lp*'], ['lp*', 'lp']])\n",
    "npc.tensordot(t, perturbed_right_unitary, [['rp', 'rp*'], ['rp*', 'rp']])"
   ]
  },
  {
   "cell_type": "code",
   "execution_count": 175,
   "id": "a1bac4ec-e967-459a-b9a5-58ee3e5f7d0d",
   "metadata": {},
   "outputs": [],
   "source": [
    "perturbed_right_unitary_base = perturbed_right_unitary.copy(deep=True)\n",
    "perturbed_left_unitary_base = perturbed_left_unitary.copy(deep=True)"
   ]
  },
  {
   "cell_type": "code",
   "execution_count": 177,
   "id": "6a028129-33b9-42cb-84cd-18fd5d328a1e",
   "metadata": {},
   "outputs": [],
   "source": [
    "exps = list()\n",
    "\n",
    "for _ in range(10):\n",
    "    out = iteration_step(left_right_rdm, perturbed_left_unitary, perturbed_right_unitary)\n",
    "\n",
    "    exps.extend(out[0])\n",
    "\n",
    "    perturbed_right_unitary, perturbed_left_unitary = out[1:]"
   ]
  },
  {
   "cell_type": "code",
   "execution_count": 178,
   "id": "06f97428-a552-4357-b768-2d9cb4ab31c9",
   "metadata": {},
   "outputs": [
    {
     "data": {
      "text/plain": [
       "[0.7382916942898466,\n",
       " 0.86074077547362,\n",
       " 0.8607407754736197,\n",
       " 0.8607407754736198,\n",
       " 0.8607407754736197,\n",
       " 0.8607407754736196,\n",
       " 0.8607407754736196,\n",
       " 0.8607407754736197,\n",
       " 0.8607407754736197,\n",
       " 0.8607407754736199,\n",
       " 0.8607407754736196,\n",
       " 0.8607407754736199,\n",
       " 0.8607407754736194,\n",
       " 0.86074077547362,\n",
       " 0.8607407754736203,\n",
       " 0.8607407754736197,\n",
       " 0.8607407754736198,\n",
       " 0.86074077547362,\n",
       " 0.8607407754736202,\n",
       " 0.8607407754736197]"
      ]
     },
     "execution_count": 178,
     "metadata": {},
     "output_type": "execute_result"
    }
   ],
   "source": [
    "exps"
   ]
  },
  {
   "cell_type": "markdown",
   "id": "d68bad59-74d8-4f80-8969-7ca1f8e7f4a2",
   "metadata": {},
   "source": [
    "Rather fast convergence.\n",
    "\n",
    "Feed into optimizer."
   ]
  },
  {
   "cell_type": "code",
   "execution_count": 193,
   "id": "01815f8b-002b-4c65-a660-1d27d67c81e1",
   "metadata": {},
   "outputs": [],
   "source": [
    "block_width = 3\n",
    "num_one_sided_iterations = 1\n",
    "num_two_sided_iterations = 30\n",
    "num_layers = 1\n",
    "num_sites = 3"
   ]
  },
  {
   "cell_type": "code",
   "execution_count": 194,
   "id": "a8cd892a-6db7-43cc-85ad-ffcbded2551f",
   "metadata": {},
   "outputs": [],
   "source": [
    "debug_opt = MPSBrickSolver(\n",
    "    cases_non_triv_proj_rep[(0.55, 1, 1)],\n",
    "    num_sites,\n",
    "    block_width,\n",
    "    num_layers,\n",
    "    num_one_sided_iterations,\n",
    "    num_two_sided_iterations,\n",
    "    max_virtual_bond_dim=MAX_VIRTUAL_BOND_DIM\n",
    ")"
   ]
  },
  {
   "cell_type": "code",
   "execution_count": 195,
   "id": "3259fc14-58cf-43e6-b737-3b1faa2e2f72",
   "metadata": {},
   "outputs": [],
   "source": [
    "debug_opt.add_new_layer()"
   ]
  },
  {
   "cell_type": "code",
   "execution_count": 196,
   "id": "6676c041-a43f-4621-82e2-03ed8a749f6c",
   "metadata": {},
   "outputs": [],
   "source": [
    "debug_opt.right_current_layer_unitaries = [\n",
    "    perturbed_right_unitary_base.replace_labels(['rp', 'rp*'], ['(p0.p1.p2)', '(p0*.p1*.p2*)']),\n",
    "]\n",
    "debug_opt.left_current_layer_unitaries = [\n",
    "    perturbed_left_unitary_base.replace_labels(['lp', 'lp*'], ['(p0.p1.p2)', '(p0*.p1*.p2*)']),\n",
    "]"
   ]
  },
  {
   "cell_type": "code",
   "execution_count": 197,
   "id": "86641df7-09a0-40b9-b341-4d921d312520",
   "metadata": {},
   "outputs": [],
   "source": [
    "debug_opt.left_unitaries.append(debug_opt.left_current_layer_unitaries)\n",
    "debug_opt.right_unitaries.append(debug_opt.right_current_layer_unitaries)"
   ]
  },
  {
   "cell_type": "code",
   "execution_count": 198,
   "id": "182da34c-3ccc-4223-9caa-665c8c6dad54",
   "metadata": {},
   "outputs": [
    {
     "data": {
      "text/plain": [
       "([[<npc.Array shape=(16, 16) labels=['(p0*.p1*.p2*)', '(p0.p1.p2)']>]],\n",
       " [[<npc.Array shape=(32, 32) labels=['(p0*.p1*.p2*)', '(p0.p1.p2)']>]])"
      ]
     },
     "execution_count": 198,
     "metadata": {},
     "output_type": "execute_result"
    }
   ],
   "source": [
    "(debug_opt.left_unitaries, debug_opt.right_unitaries)"
   ]
  },
  {
   "cell_type": "code",
   "execution_count": 200,
   "id": "c3ba1302-c05e-450c-8435-a12a277f0bd1",
   "metadata": {},
   "outputs": [],
   "source": [
    "#debug_opt.manual_expectation_value()"
   ]
  },
  {
   "cell_type": "code",
   "execution_count": 201,
   "id": "f54ae6b5-299d-40e6-82b0-aadb5355d43e",
   "metadata": {},
   "outputs": [],
   "source": [
    "debug_opt.optimise()"
   ]
  },
  {
   "cell_type": "code",
   "execution_count": 202,
   "id": "e2e75fa8-9dd9-4794-b725-27ab7334a4c2",
   "metadata": {},
   "outputs": [
    {
     "data": {
      "text/plain": [
       "[2.286419450530964e-17,\n",
       " 0.8625002455430719,\n",
       " 0.8629213427020077,\n",
       " 0.8634647572157061,\n",
       " 0.8629213427011407,\n",
       " 0.8634647572157075,\n",
       " 0.8629213426997433,\n",
       " 0.8634647572157091,\n",
       " 0.8629213426991856,\n",
       " 0.8634647572157118,\n",
       " 0.8629213426936395,\n",
       " 0.8634647572157081,\n",
       " 0.8629213426943253,\n",
       " 0.8634647572157056,\n",
       " 0.8629213426991409,\n",
       " 0.8634647572157067,\n",
       " 0.8629213426916145,\n",
       " 0.8634647572157028,\n",
       " 0.8629213426930843,\n",
       " 0.8634647572157084,\n",
       " 0.8629213426949512,\n",
       " 0.8634647572157084,\n",
       " 0.8629213427073661,\n",
       " 0.8634647572157024,\n",
       " 0.8629213426963758,\n",
       " 0.8634647572157058,\n",
       " 0.8629213426957126,\n",
       " 0.8634647572157077,\n",
       " 0.8629213427005122,\n",
       " 0.8634647572157058,\n",
       " 0.8629213426983835,\n",
       " 0.8634647572157055,\n",
       " 0.8629213426982921,\n",
       " 0.863464757215704,\n",
       " 0.862921342689567,\n",
       " 0.8634647572157125,\n",
       " 0.8629213427001502,\n",
       " 0.8634647572156997,\n",
       " 0.8629213426948709,\n",
       " 0.8634647572157026,\n",
       " 0.8629213426944883,\n",
       " 0.8634647572157078,\n",
       " 0.862921342698836,\n",
       " 0.8634647572157073,\n",
       " 0.8629213426943401,\n",
       " 0.8634647572157058,\n",
       " 0.8629213426961845,\n",
       " 0.8634647572157049,\n",
       " 0.8629213426968956,\n",
       " 0.8634647572156997,\n",
       " 0.8629213426922134,\n",
       " 0.863464757215706,\n",
       " 0.8629213426987113,\n",
       " 0.8634647572157051,\n",
       " 0.8629213426996875,\n",
       " 0.863464757215708,\n",
       " 0.8629213426944977,\n",
       " 0.8634647572157064,\n",
       " 0.8629213426969693,\n",
       " 0.8634647572157057]"
      ]
     },
     "execution_count": 202,
     "metadata": {},
     "output_type": "execute_result"
    }
   ],
   "source": [
    "debug_opt.flatten_exps()"
   ]
  },
  {
   "cell_type": "markdown",
   "id": "78a8dfd5-47fe-466b-9338-6d15e55590ec",
   "metadata": {},
   "source": [
    "wtf..."
   ]
  },
  {
   "cell_type": "markdown",
   "id": "ba7a6fa1-9730-483d-8df7-7cf18b0a36e0",
   "metadata": {},
   "source": [
    "## Steady state"
   ]
  },
  {
   "cell_type": "code",
   "execution_count": 203,
   "id": "b3f626a8-c612-4436-9513-6145ff3071c7",
   "metadata": {},
   "outputs": [],
   "source": [
    "block_width = 3\n",
    "num_one_sided_iterations = 1\n",
    "num_two_sided_iterations = 30\n",
    "num_layers = 1\n",
    "num_sites = 3"
   ]
  },
  {
   "cell_type": "code",
   "execution_count": 204,
   "id": "66a3f7cc-0150-4f4b-9641-22f0948a7d72",
   "metadata": {},
   "outputs": [],
   "source": [
    "debug_opt = MPSBrickSolver(\n",
    "    cases_non_triv_proj_rep[(0.55, 1, 1)],\n",
    "    num_sites,\n",
    "    block_width,\n",
    "    num_layers,\n",
    "    num_one_sided_iterations,\n",
    "    num_two_sided_iterations,\n",
    "    max_virtual_bond_dim=MAX_VIRTUAL_BOND_DIM\n",
    ")"
   ]
  },
  {
   "cell_type": "code",
   "execution_count": 205,
   "id": "181f7312-4d3d-461e-ad7e-375368571d92",
   "metadata": {},
   "outputs": [],
   "source": [
    "debug_opt.add_new_layer()"
   ]
  },
  {
   "cell_type": "code",
   "execution_count": 206,
   "id": "021d89bb-e702-47fc-a062-433dd04343c5",
   "metadata": {},
   "outputs": [],
   "source": [
    "debug_opt.optimise()"
   ]
  },
  {
   "cell_type": "code",
   "execution_count": 207,
   "id": "477c98e9-32dc-47bc-b8e9-496b2b710d4c",
   "metadata": {},
   "outputs": [
    {
     "data": {
      "text/plain": [
       "[2.286419450530964e-17,\n",
       " 0.8625002455430719,\n",
       " 0.8629213427020077,\n",
       " 0.8634647572157061,\n",
       " 0.8629213427011407,\n",
       " 0.8634647572157075,\n",
       " 0.8629213426997433,\n",
       " 0.8634647572157091,\n",
       " 0.8629213426991856,\n",
       " 0.8634647572157118,\n",
       " 0.8629213426936395,\n",
       " 0.8634647572157081,\n",
       " 0.8629213426943253,\n",
       " 0.8634647572157056,\n",
       " 0.8629213426991409,\n",
       " 0.8634647572157067,\n",
       " 0.8629213426916145,\n",
       " 0.8634647572157028,\n",
       " 0.8629213426930843,\n",
       " 0.8634647572157084,\n",
       " 0.8629213426949512,\n",
       " 0.8634647572157084,\n",
       " 0.8629213427073661,\n",
       " 0.8634647572157024,\n",
       " 0.8629213426963758,\n",
       " 0.8634647572157058,\n",
       " 0.8629213426957126,\n",
       " 0.8634647572157077,\n",
       " 0.8629213427005122,\n",
       " 0.8634647572157058,\n",
       " 0.8629213426983835,\n",
       " 0.8634647572157055,\n",
       " 0.8629213426982921,\n",
       " 0.863464757215704,\n",
       " 0.862921342689567,\n",
       " 0.8634647572157125,\n",
       " 0.8629213427001502,\n",
       " 0.8634647572156997,\n",
       " 0.8629213426948709,\n",
       " 0.8634647572157026,\n",
       " 0.8629213426944883,\n",
       " 0.8634647572157078,\n",
       " 0.862921342698836,\n",
       " 0.8634647572157073,\n",
       " 0.8629213426943401,\n",
       " 0.8634647572157058,\n",
       " 0.8629213426961845,\n",
       " 0.8634647572157049,\n",
       " 0.8629213426968956,\n",
       " 0.8634647572156997,\n",
       " 0.8629213426922134,\n",
       " 0.863464757215706,\n",
       " 0.8629213426987113,\n",
       " 0.8634647572157051,\n",
       " 0.8629213426996875,\n",
       " 0.863464757215708,\n",
       " 0.8629213426944977,\n",
       " 0.8634647572157064,\n",
       " 0.8629213426969693,\n",
       " 0.8634647572157057]"
      ]
     },
     "execution_count": 207,
     "metadata": {},
     "output_type": "execute_result"
    }
   ],
   "source": [
    "debug_opt.flatten_exps()"
   ]
  },
  {
   "cell_type": "code",
   "execution_count": 208,
   "id": "0739c6ac-53d5-4b17-b339-0cfbf613dcfc",
   "metadata": {},
   "outputs": [
    {
     "data": {
      "text/plain": [
       "(0.8656522252714837+0j)"
      ]
     },
     "execution_count": 208,
     "metadata": {},
     "output_type": "execute_result"
    }
   ],
   "source": [
    "debug_opt.manual_expectation_value()"
   ]
  },
  {
   "cell_type": "markdown",
   "id": "83de8b9f-aff2-49f0-b346-af0528b76d50",
   "metadata": {},
   "source": [
    "Different..."
   ]
  },
  {
   "cell_type": "code",
   "execution_count": 209,
   "id": "2b1b414d-9cdd-435a-9c2a-87a804b906bc",
   "metadata": {},
   "outputs": [],
   "source": [
    "block_width = 3\n",
    "num_one_sided_iterations = 1\n",
    "num_two_sided_iterations = 30\n",
    "num_layers = 1\n",
    "num_sites = 3"
   ]
  },
  {
   "cell_type": "code",
   "execution_count": 210,
   "id": "48714673-99c2-49cc-99a3-b501f762e4af",
   "metadata": {},
   "outputs": [],
   "source": [
    "debug_opt = MPSBrickSolver(\n",
    "    cases_non_triv_proj_rep[(0.55, 1, 1)],\n",
    "    num_sites,\n",
    "    block_width,\n",
    "    num_layers,\n",
    "    num_one_sided_iterations,\n",
    "    num_two_sided_iterations,\n",
    "    max_virtual_bond_dim=MAX_VIRTUAL_BOND_DIM\n",
    ")"
   ]
  },
  {
   "cell_type": "code",
   "execution_count": 211,
   "id": "6e80daea-4ed1-48fa-99e2-67f395d97130",
   "metadata": {},
   "outputs": [],
   "source": [
    "debug_opt.add_new_layer()"
   ]
  },
  {
   "cell_type": "code",
   "execution_count": 212,
   "id": "e92a8d99-7f34-4c5c-bc78-a2e69956f296",
   "metadata": {},
   "outputs": [],
   "source": [
    "for _ in range(20):\n",
    "    debug_opt.two_sided_optimise_layer_one_iteration()"
   ]
  },
  {
   "cell_type": "code",
   "execution_count": 213,
   "id": "368ea2b5-9847-488b-b968-97c64829f5d6",
   "metadata": {},
   "outputs": [],
   "source": [
    "debug_opt.optimise_left_layer()"
   ]
  },
  {
   "cell_type": "code",
   "execution_count": 214,
   "id": "372be366-d288-47c5-b1c3-e26e2c5e60a4",
   "metadata": {},
   "outputs": [],
   "source": [
    "debug_opt.finish_current_layer()"
   ]
  },
  {
   "cell_type": "code",
   "execution_count": 215,
   "id": "2fecf2b1-3368-4937-ad3d-5f091149fb8c",
   "metadata": {},
   "outputs": [
    {
     "data": {
      "text/plain": [
       "[2.286419450530964e-17,\n",
       " 0.8625002455430719,\n",
       " 0.8629213427020077,\n",
       " 0.8634647572157061,\n",
       " 0.8629213427011407,\n",
       " 0.8634647572157075,\n",
       " 0.8629213426997433,\n",
       " 0.8634647572157091,\n",
       " 0.8629213426991856,\n",
       " 0.8634647572157118,\n",
       " 0.8629213426936395,\n",
       " 0.8634647572157081,\n",
       " 0.8629213426943253,\n",
       " 0.8634647572157056,\n",
       " 0.8629213426991409,\n",
       " 0.8634647572157067,\n",
       " 0.8629213426916145,\n",
       " 0.8634647572157028,\n",
       " 0.8629213426930843,\n",
       " 0.8634647572157084,\n",
       " 0.8629213426949512,\n",
       " 0.8634647572157084,\n",
       " 0.8629213427073661,\n",
       " 0.8634647572157024,\n",
       " 0.8629213426963758,\n",
       " 0.8634647572157058,\n",
       " 0.8629213426957126,\n",
       " 0.8634647572157077,\n",
       " 0.8629213427005122,\n",
       " 0.8634647572157058,\n",
       " 0.8629213426983835,\n",
       " 0.8634647572157055,\n",
       " 0.8629213426982921,\n",
       " 0.863464757215704,\n",
       " 0.862921342689567,\n",
       " 0.8634647572157125,\n",
       " 0.8629213427001502,\n",
       " 0.8634647572156997,\n",
       " 0.8629213426948709,\n",
       " 0.8634647572157026]"
      ]
     },
     "execution_count": 215,
     "metadata": {},
     "output_type": "execute_result"
    }
   ],
   "source": [
    "debug_opt.flatten_exps()"
   ]
  },
  {
   "cell_type": "code",
   "execution_count": 216,
   "id": "0e23a534-f65d-4935-982d-d34e8154b419",
   "metadata": {},
   "outputs": [
    {
     "data": {
      "text/plain": [
       "(0.8656522252660316+0j)"
      ]
     },
     "execution_count": 216,
     "metadata": {},
     "output_type": "execute_result"
    }
   ],
   "source": [
    "debug_opt.manual_expectation_value()"
   ]
  },
  {
   "cell_type": "code",
   "execution_count": 226,
   "id": "395d471c-6472-444a-921e-48ccc8f07433",
   "metadata": {},
   "outputs": [],
   "source": [
    "def manual_expectation_value_left_to_right(self):\n",
    "    top_left_bs, _ = multiply_stacked_unitaries_against_mps(\n",
    "        self.left_unitaries,\n",
    "        self.bottom_left_mps_tensors,\n",
    "        self.original_left_side_right_schmidt_values,\n",
    "        self.max_virtual_bond_dim\n",
    "    )\n",
    "\n",
    "    left_t = npc.tensordot(\n",
    "        top_left_bs[-1],\n",
    "        self.bottom_left_mps_tensors[-1].conj(),\n",
    "        [['vR', 'p'], ['vR*', 'p*']]\n",
    "    )\n",
    "\n",
    "    b_pairs = zip(top_left_bs[-2::-1], self.bottom_left_mps_tensors[-2::-1])\n",
    "\n",
    "    for bt, bb in b_pairs:\n",
    "        left_t = npc.tensordot(\n",
    "            left_t,\n",
    "            bt,\n",
    "            [['vL',], ['vR',]]\n",
    "        )\n",
    "\n",
    "        left_t = npc.tensordot(\n",
    "            left_t,\n",
    "            bb.conj(),\n",
    "            [['vL*', 'p'], ['vR*', 'p*']]\n",
    "        )\n",
    "\n",
    "    left_t = npc.tensordot(\n",
    "        left_t,\n",
    "        swap_left_right_indices(self.symmetry_case.npc_symmetry_transfer_matrix),\n",
    "        [['vL', 'vL*'], ['vR', 'vR*']]\n",
    "    )\n",
    "\n",
    "    top_right_bs, _ = multiply_stacked_unitaries_against_mps(\n",
    "        self.right_unitaries,\n",
    "        self.bottom_right_mps_tensors,\n",
    "        self.original_right_side_left_schmidt_values,\n",
    "        self.max_virtual_bond_dim\n",
    "    )\n",
    "\n",
    "    b_pairs = zip(top_right_bs, self.bottom_right_mps_tensors)\n",
    "\n",
    "    for bt, bb in b_pairs:\n",
    "        left_t = npc.tensordot(\n",
    "            left_t,\n",
    "            swap_left_right_indices(bt),\n",
    "            [['vL',], ['vR']]\n",
    "        )\n",
    "\n",
    "        left_t = npc.tensordot(\n",
    "            left_t,\n",
    "            swap_left_right_indices(bb).conj(),\n",
    "            [['vL*', 'p'], ['vR*', 'p*']]\n",
    "        )\n",
    "\n",
    "    out = npc.trace(left_t, 'vL', 'vL*')\n",
    "    return out"
   ]
  },
  {
   "cell_type": "code",
   "execution_count": 227,
   "id": "b2a742b5-98e0-49a8-942c-b7761e78fa93",
   "metadata": {},
   "outputs": [
    {
     "data": {
      "text/plain": [
       "(0.8656522252660312+0j)"
      ]
     },
     "execution_count": 227,
     "metadata": {},
     "output_type": "execute_result"
    }
   ],
   "source": [
    "manual_expectation_value_left_to_right(debug_opt)"
   ]
  },
  {
   "cell_type": "code",
   "execution_count": 230,
   "id": "cfe34f81-336f-469f-b542-6f44c6f9ee70",
   "metadata": {},
   "outputs": [],
   "source": [
    "lu = debug_opt.left_current_layer_unitaries[0]\n",
    "ru = debug_opt.right_current_layer_unitaries[0]"
   ]
  },
  {
   "cell_type": "code",
   "execution_count": 231,
   "id": "d7970bbf-18ee-4653-98e6-d7625adddb66",
   "metadata": {},
   "outputs": [
    {
     "data": {
      "text/plain": [
       "<npc.Array shape=(32, 32, 16, 16) labels=['rp', 'rp*', 'lp', 'lp*']>"
      ]
     },
     "execution_count": 231,
     "metadata": {},
     "output_type": "execute_result"
    }
   ],
   "source": [
    "left_right_rdm"
   ]
  },
  {
   "cell_type": "code",
   "execution_count": 232,
   "id": "23f75afd-f041-47c5-8c55-33ff8ba4bf47",
   "metadata": {},
   "outputs": [],
   "source": [
    "left_rdm = npc.tensordot(left_right_rdm, ru, [['rp', 'rp*'], ['(p0*.p1*.p2*)', '(p0.p1.p2)']])"
   ]
  },
  {
   "cell_type": "code",
   "execution_count": 234,
   "id": "18f4c917-e8ac-42a7-ac53-d71e68ba091d",
   "metadata": {},
   "outputs": [],
   "source": [
    "S = npc.svd(\n",
    "        left_rdm.conj(),\n",
    "        compute_uv=False\n",
    "    )"
   ]
  },
  {
   "cell_type": "code",
   "execution_count": 235,
   "id": "e1c3ae3e-9702-43ab-b06a-000a994b70d3",
   "metadata": {},
   "outputs": [
    {
     "data": {
      "text/plain": [
       "0.8607407754736199"
      ]
     },
     "execution_count": 235,
     "metadata": {},
     "output_type": "execute_result"
    }
   ],
   "source": [
    "np.sum(S)"
   ]
  },
  {
   "cell_type": "code",
   "execution_count": 236,
   "id": "65e84316-08e0-43da-8637-0f948ecc8fd2",
   "metadata": {},
   "outputs": [],
   "source": [
    "right_rdm = npc.tensordot(left_right_rdm, lu, [['lp', 'lp*'], ['(p0*.p1*.p2*)', '(p0.p1.p2)']])"
   ]
  },
  {
   "cell_type": "code",
   "execution_count": 237,
   "id": "4e32601c-d69b-4bfe-a9ac-2d3a0d26fd7f",
   "metadata": {},
   "outputs": [],
   "source": [
    "S = npc.svd(\n",
    "        left_rdm.conj(),\n",
    "        compute_uv=False\n",
    "    )"
   ]
  },
  {
   "cell_type": "code",
   "execution_count": 238,
   "id": "8d691268-9745-4b2e-ba06-1d1428bedb08",
   "metadata": {},
   "outputs": [
    {
     "data": {
      "text/plain": [
       "0.8607407754736199"
      ]
     },
     "execution_count": 238,
     "metadata": {},
     "output_type": "execute_result"
    }
   ],
   "source": [
    "np.sum(S)"
   ]
  },
  {
   "cell_type": "code",
   "execution_count": 239,
   "id": "491127a2-16d5-41a8-a33e-90fd7b160a23",
   "metadata": {},
   "outputs": [
    {
     "data": {
      "text/plain": [
       "(0.8607407754736204+0j)"
      ]
     },
     "execution_count": 239,
     "metadata": {},
     "output_type": "execute_result"
    }
   ],
   "source": [
    "npc.tensordot(right_rdm, ru, [['rp', 'rp*'], ['(p0*.p1*.p2*)', '(p0.p1.p2)']])"
   ]
  },
  {
   "cell_type": "code",
   "execution_count": 240,
   "id": "fd8fc794-f00a-488d-8f19-da32ed7cb3a9",
   "metadata": {},
   "outputs": [
    {
     "data": {
      "text/plain": [
       "<npc.Array shape=(8, 8) labels=['vR', 'vR*']>"
      ]
     },
     "execution_count": 240,
     "metadata": {},
     "output_type": "execute_result"
    }
   ],
   "source": [
    "debug_opt.right_side_left_symmetry_environment"
   ]
  },
  {
   "cell_type": "code",
   "execution_count": 241,
   "id": "0b58cf17-a79e-46ae-b5a0-02a11b114564",
   "metadata": {},
   "outputs": [
    {
     "data": {
      "text/plain": [
       "<npc.Array shape=(8, 8) labels=['vR*', 'vR']>"
      ]
     },
     "execution_count": 241,
     "metadata": {},
     "output_type": "execute_result"
    }
   ],
   "source": [
    "debug_opt.left_side_right_symmetry_environment"
   ]
  },
  {
   "cell_type": "markdown",
   "id": "23bde245-f2fc-463c-b762-247e740beed0",
   "metadata": {},
   "source": [
    "## Check environments"
   ]
  },
  {
   "cell_type": "code",
   "execution_count": 243,
   "id": "99b3c266-fcc0-4cf6-b8cc-14c0eb34e110",
   "metadata": {},
   "outputs": [
    {
     "data": {
      "text/plain": [
       "<npc.Array shape=(32, 32) labels=['(p0.p1.p2)', '(p0*.p1*.p2*)']>"
      ]
     },
     "execution_count": 243,
     "metadata": {},
     "output_type": "execute_result"
    }
   ],
   "source": [
    "ru"
   ]
  },
  {
   "cell_type": "code",
   "execution_count": 245,
   "id": "81d8accd-2eb1-4104-bcc8-c56bef52b708",
   "metadata": {},
   "outputs": [],
   "source": [
    "t = transfer_matrix\n",
    "\n",
    "right_bs = [\n",
    "    debug_case.psi.get_B(i)\n",
    "    for i in range(debug_case.right_symmetry_index+1, debug_case.right_symmetry_index+4)\n",
    "]\n",
    "\n",
    "for i, b in enumerate(right_bs):\n",
    "    t = npc.tensordot(t, b, [['vR',], ['vL']]).replace_label('p', f'p{i}')\n",
    "    t = npc.tensordot(t, b.conj(), [['vR*',], ['vL*']]).replace_label('p*', f'p{i}*')\n",
    "\n",
    "t = npc.trace(t, 'vR', 'vR*')\n",
    "\n",
    "t = (\n",
    "    t\n",
    "    .combine_legs([['p0', 'p1', 'p2'], ['p0*', 'p1*', 'p2*']])\n",
    ")\n",
    "\n",
    "t = npc.tensordot(t, ru, [['(p0.p1.p2)', '(p0*.p1*.p2*)'], ['(p0*.p1*.p2*)', '(p0.p1.p2)']])\n",
    "\n",
    "test_left_side_right_symmetry_environment = t"
   ]
  },
  {
   "cell_type": "code",
   "execution_count": 247,
   "id": "8ebb20a1-4d5d-4845-9fff-c786e9dc669f",
   "metadata": {},
   "outputs": [],
   "source": [
    "test_t = swap_left_right_indices(test_left_side_right_symmetry_environment)"
   ]
  },
  {
   "cell_type": "code",
   "execution_count": 248,
   "id": "bbb44158-e8bd-45f3-af0f-19b570e532b1",
   "metadata": {},
   "outputs": [
    {
     "data": {
      "text/plain": [
       "<npc.Array shape=(8, 8) labels=['vR*', 'vR']>"
      ]
     },
     "execution_count": 248,
     "metadata": {},
     "output_type": "execute_result"
    }
   ],
   "source": [
    "test_t"
   ]
  },
  {
   "cell_type": "code",
   "execution_count": 252,
   "id": "c64de718-6dbe-48d9-b0cc-de423ed835e9",
   "metadata": {},
   "outputs": [
    {
     "data": {
      "text/plain": [
       "array([[0.99747618+0.j, 0.99747304+0.j, 0.99747304-0.j, 0.99747304-0.j,\n",
       "        0.99747304+0.j, 0.99747304+0.j, 0.99747304-0.j, 0.99747304-0.j],\n",
       "       [0.99747304-0.j, 0.9974728 +0.j, 0.99747304-0.j, 0.99747304+0.j,\n",
       "        0.99747304+0.j, 0.99747304-0.j, 0.99747304-0.j, 0.99747304+0.j],\n",
       "       [0.99747304+0.j, 0.99747304+0.j, 0.99747238+0.j, 0.99747304+0.j,\n",
       "        0.99747304+0.j, 0.99747304-0.j, 0.99747304-0.j, 0.99747304+0.j],\n",
       "       [0.99747304+0.j, 0.99747304-0.j, 0.99747304-0.j, 0.99747229-0.j,\n",
       "        0.99747304+0.j, 0.99747304+0.j, 0.99747304-0.j, 0.99747304-0.j],\n",
       "       [0.99747304-0.j, 0.99747304-0.j, 0.99747304-0.j, 0.99747304-0.j,\n",
       "        0.99747296-0.j, 0.99747304-0.j, 0.99747304+0.j, 0.99747304+0.j],\n",
       "       [0.99747304-0.j, 0.99747304+0.j, 0.99747304+0.j, 0.99747304-0.j,\n",
       "        0.99747304+0.j, 0.99747324-0.j, 0.99747304-0.j, 0.99747304+0.j],\n",
       "       [0.99747304+0.j, 0.99747304+0.j, 0.99747304+0.j, 0.99747304+0.j,\n",
       "        0.99747304-0.j, 0.99747304+0.j, 0.997473  -0.j, 0.99747304+0.j],\n",
       "       [0.99747304+0.j, 0.99747304-0.j, 0.99747304-0.j, 0.99747304+0.j,\n",
       "        0.99747304-0.j, 0.99747304-0.j, 0.99747304-0.j, 0.99747307-0.j]])"
      ]
     },
     "execution_count": 252,
     "metadata": {},
     "output_type": "execute_result"
    }
   ],
   "source": [
    "test_t.to_ndarray()/debug_opt.left_side_right_symmetry_environment.to_ndarray()"
   ]
  },
  {
   "cell_type": "code",
   "execution_count": 254,
   "id": "c894d6e3-a01c-40be-859f-0da2017bb856",
   "metadata": {},
   "outputs": [
    {
     "name": "stdout",
     "output_type": "stream",
     "text": [
      "Help on function get_left_side_right_symmetry_environment in module SPTOptimization.utils:\n",
      "\n",
      "get_left_side_right_symmetry_environment(right_top_b_tensors, right_bottom_b_tensors, symmetry_transfer_matrix, left_side_environment=False)\n",
      "    Given symmetry_transfer_matrix and two sets of MPS tensors immediately to\n",
      "    the right, contract the tensors to evalute the resulting symmetry\n",
      "    environment from symmetry_transfer_matrix on it's left side. \n",
      "    \n",
      "    (On the left side of said transfer matrix, the environment will be on the\n",
      "    right of any relevant tensors, hence the name.)\n",
      "\n"
     ]
    }
   ],
   "source": [
    "help(get_left_side_right_symmetry_environment)"
   ]
  },
  {
   "cell_type": "code",
   "execution_count": 262,
   "id": "4d34bd0e-960a-42b2-8626-687ff5d3de74",
   "metadata": {},
   "outputs": [],
   "source": [
    "func_sym_environment, func_pre_sym_envrionment = get_left_side_right_symmetry_environment(\n",
    "    debug_opt.current_top_right_mps_tensors,\n",
    "    debug_opt.bottom_right_mps_tensors,\n",
    "    debug_opt.symmetry_case.npc_symmetry_transfer_matrix,\n",
    "    left_side_environment=True\n",
    ")"
   ]
  },
  {
   "cell_type": "code",
   "execution_count": 263,
   "id": "9e5df57f-b215-4a47-9931-1dcc4a434edb",
   "metadata": {},
   "outputs": [
    {
     "data": {
      "text/plain": [
       "array([[1.+0.j, 1.+0.j, 1.-0.j, 1.-0.j, 1.+0.j, 1.+0.j, 1.-0.j, 1.-0.j],\n",
       "       [1.-0.j, 1.+0.j, 1.-0.j, 1.+0.j, 1.+0.j, 1.-0.j, 1.-0.j, 1.+0.j],\n",
       "       [1.+0.j, 1.+0.j, 1.+0.j, 1.+0.j, 1.+0.j, 1.-0.j, 1.-0.j, 1.+0.j],\n",
       "       [1.+0.j, 1.-0.j, 1.-0.j, 1.-0.j, 1.+0.j, 1.+0.j, 1.-0.j, 1.-0.j],\n",
       "       [1.-0.j, 1.-0.j, 1.-0.j, 1.-0.j, 1.-0.j, 1.-0.j, 1.+0.j, 1.+0.j],\n",
       "       [1.-0.j, 1.+0.j, 1.+0.j, 1.-0.j, 1.+0.j, 1.-0.j, 1.-0.j, 1.+0.j],\n",
       "       [1.+0.j, 1.+0.j, 1.+0.j, 1.+0.j, 1.-0.j, 1.+0.j, 1.-0.j, 1.+0.j],\n",
       "       [1.+0.j, 1.-0.j, 1.-0.j, 1.+0.j, 1.-0.j, 1.-0.j, 1.-0.j, 1.-0.j]])"
      ]
     },
     "execution_count": 263,
     "metadata": {},
     "output_type": "execute_result"
    }
   ],
   "source": [
    "(\n",
    "    swap_left_right_indices(func_sym_environment).to_ndarray()\n",
    "    /debug_opt.left_side_right_symmetry_environment.to_ndarray()\n",
    ")"
   ]
  },
  {
   "cell_type": "markdown",
   "id": "cf4f4b25-3cf5-44a1-97ea-f96705fe4b59",
   "metadata": {},
   "source": [
    "Check symmetry vector before multiplying with transfer matrix"
   ]
  },
  {
   "cell_type": "code",
   "execution_count": 264,
   "id": "fb9c628f-4b08-4409-9389-03b84199a930",
   "metadata": {},
   "outputs": [
    {
     "data": {
      "text/plain": [
       "<npc.Array shape=(8, 8) labels=['vL', 'vL*']>"
      ]
     },
     "execution_count": 264,
     "metadata": {},
     "output_type": "execute_result"
    }
   ],
   "source": [
    "func_pre_sym_envrionment"
   ]
  },
  {
   "cell_type": "code",
   "execution_count": 270,
   "id": "a774f062-2f04-47be-862e-6096dea7dd42",
   "metadata": {},
   "outputs": [
    {
     "name": "stdout",
     "output_type": "stream",
     "text": [
      "Help on class range in module builtins:\n",
      "\n",
      "class range(object)\n",
      " |  range(stop) -> range object\n",
      " |  range(start, stop[, step]) -> range object\n",
      " |  \n",
      " |  Return an object that produces a sequence of integers from start (inclusive)\n",
      " |  to stop (exclusive) by step.  range(i, j) produces i, i+1, i+2, ..., j-1.\n",
      " |  start defaults to 0, and stop is omitted!  range(4) produces 0, 1, 2, 3.\n",
      " |  These are exactly the valid indices for a list of 4 elements.\n",
      " |  When step is given, it specifies the increment (or decrement).\n",
      " |  \n",
      " |  Methods defined here:\n",
      " |  \n",
      " |  __bool__(self, /)\n",
      " |      True if self else False\n",
      " |  \n",
      " |  __contains__(self, key, /)\n",
      " |      Return key in self.\n",
      " |  \n",
      " |  __eq__(self, value, /)\n",
      " |      Return self==value.\n",
      " |  \n",
      " |  __ge__(self, value, /)\n",
      " |      Return self>=value.\n",
      " |  \n",
      " |  __getattribute__(self, name, /)\n",
      " |      Return getattr(self, name).\n",
      " |  \n",
      " |  __getitem__(self, key, /)\n",
      " |      Return self[key].\n",
      " |  \n",
      " |  __gt__(self, value, /)\n",
      " |      Return self>value.\n",
      " |  \n",
      " |  __hash__(self, /)\n",
      " |      Return hash(self).\n",
      " |  \n",
      " |  __iter__(self, /)\n",
      " |      Implement iter(self).\n",
      " |  \n",
      " |  __le__(self, value, /)\n",
      " |      Return self<=value.\n",
      " |  \n",
      " |  __len__(self, /)\n",
      " |      Return len(self).\n",
      " |  \n",
      " |  __lt__(self, value, /)\n",
      " |      Return self<value.\n",
      " |  \n",
      " |  __ne__(self, value, /)\n",
      " |      Return self!=value.\n",
      " |  \n",
      " |  __reduce__(...)\n",
      " |      Helper for pickle.\n",
      " |  \n",
      " |  __repr__(self, /)\n",
      " |      Return repr(self).\n",
      " |  \n",
      " |  __reversed__(...)\n",
      " |      Return a reverse iterator.\n",
      " |  \n",
      " |  count(...)\n",
      " |      rangeobject.count(value) -> integer -- return number of occurrences of value\n",
      " |  \n",
      " |  index(...)\n",
      " |      rangeobject.index(value) -> integer -- return index of value.\n",
      " |      Raise ValueError if the value is not present.\n",
      " |  \n",
      " |  ----------------------------------------------------------------------\n",
      " |  Static methods defined here:\n",
      " |  \n",
      " |  __new__(*args, **kwargs)\n",
      " |      Create and return a new object.  See help(type) for accurate signature.\n",
      " |  \n",
      " |  ----------------------------------------------------------------------\n",
      " |  Data descriptors defined here:\n",
      " |  \n",
      " |  start\n",
      " |  \n",
      " |  step\n",
      " |  \n",
      " |  stop\n",
      "\n"
     ]
    }
   ],
   "source": [
    "help(range)"
   ]
  },
  {
   "cell_type": "code",
   "execution_count": 274,
   "id": "866ebd1f-9705-42f6-a69b-c43e47521c5b",
   "metadata": {},
   "outputs": [
    {
     "data": {
      "text/plain": [
       "[1, 0]"
      ]
     },
     "execution_count": 274,
     "metadata": {},
     "output_type": "execute_result"
    }
   ],
   "source": [
    "list(range(len(right_bs)-2, -1, -1))"
   ]
  },
  {
   "cell_type": "code",
   "execution_count": 275,
   "id": "13080255-00f8-485a-92ba-b6eb83b98a60",
   "metadata": {},
   "outputs": [
    {
     "name": "stdout",
     "output_type": "stream",
     "text": [
      "1\n"
     ]
    },
    {
     "ename": "KeyError",
     "evalue": "\"Label not found: 'vR', current labels: ['vL*', 'vL']\"",
     "output_type": "error",
     "traceback": [
      "\u001b[0;31m---------------------------------------------------------------------------\u001b[0m",
      "\u001b[0;31mKeyError\u001b[0m                                  Traceback (most recent call last)",
      "Cell \u001b[0;32mIn[275], line 10\u001b[0m\n\u001b[1;32m      8\u001b[0m \u001b[38;5;28;01mfor\u001b[39;00m i, b \u001b[38;5;129;01min\u001b[39;00m \u001b[38;5;28menumerate\u001b[39m(right_bs[\u001b[38;5;241m1\u001b[39m:], start\u001b[38;5;241m=\u001b[39m\u001b[38;5;241m1\u001b[39m):\n\u001b[1;32m      9\u001b[0m     \u001b[38;5;28mprint\u001b[39m(i)\n\u001b[0;32m---> 10\u001b[0m     t \u001b[38;5;241m=\u001b[39m \u001b[43mnpc\u001b[49m\u001b[38;5;241;43m.\u001b[39;49m\u001b[43mtensordot\u001b[49m\u001b[43m(\u001b[49m\u001b[43mt\u001b[49m\u001b[43m,\u001b[49m\u001b[43m \u001b[49m\u001b[43mb\u001b[49m\u001b[43m,\u001b[49m\u001b[43m \u001b[49m\u001b[43m[\u001b[49m\u001b[43m[\u001b[49m\u001b[38;5;124;43m'\u001b[39;49m\u001b[38;5;124;43mvR\u001b[39;49m\u001b[38;5;124;43m'\u001b[39;49m\u001b[43m,\u001b[49m\u001b[43m]\u001b[49m\u001b[43m,\u001b[49m\u001b[43m \u001b[49m\u001b[43m[\u001b[49m\u001b[38;5;124;43m'\u001b[39;49m\u001b[38;5;124;43mvL\u001b[39;49m\u001b[38;5;124;43m'\u001b[39;49m\u001b[43m]\u001b[49m\u001b[43m]\u001b[49m\u001b[43m)\u001b[49m\u001b[38;5;241m.\u001b[39mreplace_label(\u001b[38;5;124m'\u001b[39m\u001b[38;5;124mp\u001b[39m\u001b[38;5;124m'\u001b[39m, \u001b[38;5;124mf\u001b[39m\u001b[38;5;124m'\u001b[39m\u001b[38;5;124mp\u001b[39m\u001b[38;5;132;01m{\u001b[39;00mi\u001b[38;5;132;01m}\u001b[39;00m\u001b[38;5;124m'\u001b[39m)\n\u001b[1;32m     12\u001b[0m i \u001b[38;5;241m=\u001b[39m \u001b[38;5;28mlen\u001b[39m(right_bs) \u001b[38;5;241m-\u001b[39m \u001b[38;5;241m1\u001b[39m\n\u001b[1;32m     13\u001b[0m b \u001b[38;5;241m=\u001b[39m right_bs[\u001b[38;5;241m-\u001b[39m\u001b[38;5;241m1\u001b[39m]\n",
      "File \u001b[0;32m~/.pyenv/versions/num_spt_venv_p11/lib/python3.11/site-packages/tenpy/linalg/np_conserved.py:3476\u001b[0m, in \u001b[0;36mtensordot\u001b[0;34m(a, b, axes)\u001b[0m\n\u001b[1;32m   3448\u001b[0m \u001b[38;5;250m\u001b[39m\u001b[38;5;124;03m\"\"\"Similar as ``np.tensordot`` but for :class:`Array`.\u001b[39;00m\n\u001b[1;32m   3449\u001b[0m \n\u001b[1;32m   3450\u001b[0m \u001b[38;5;124;03mBuilds the tensor product of `a` and `b` and sums over the specified axes.\u001b[39;00m\n\u001b[0;32m   (...)\u001b[0m\n\u001b[1;32m   3473\u001b[0m \u001b[38;5;124;03m    Returns a scalar in case of a full contraction.\u001b[39;00m\n\u001b[1;32m   3474\u001b[0m \u001b[38;5;124;03m\"\"\"\u001b[39;00m\n\u001b[1;32m   3475\u001b[0m \u001b[38;5;66;03m# for details on the implementation, see _tensordot_worker.\u001b[39;00m\n\u001b[0;32m-> 3476\u001b[0m a, b, axes \u001b[38;5;241m=\u001b[39m \u001b[43m_tensordot_transpose_axes\u001b[49m\u001b[43m(\u001b[49m\u001b[43ma\u001b[49m\u001b[43m,\u001b[49m\u001b[43m \u001b[49m\u001b[43mb\u001b[49m\u001b[43m,\u001b[49m\u001b[43m \u001b[49m\u001b[43maxes\u001b[49m\u001b[43m)\u001b[49m\n\u001b[1;32m   3478\u001b[0m \u001b[38;5;66;03m# optimize/check for special cases\u001b[39;00m\n\u001b[1;32m   3479\u001b[0m no_block \u001b[38;5;241m=\u001b[39m (a\u001b[38;5;241m.\u001b[39mstored_blocks \u001b[38;5;241m==\u001b[39m \u001b[38;5;241m0\u001b[39m \u001b[38;5;129;01mor\u001b[39;00m b\u001b[38;5;241m.\u001b[39mstored_blocks \u001b[38;5;241m==\u001b[39m \u001b[38;5;241m0\u001b[39m)  \u001b[38;5;66;03m# result is zero\u001b[39;00m\n",
      "File \u001b[0;32m~/.pyenv/versions/num_spt_venv_p11/lib/python3.11/site-packages/tenpy/linalg/_npc_helper.pyx:1275\u001b[0m, in \u001b[0;36mtenpy.linalg._npc_helper._tensordot_transpose_axes\u001b[0;34m()\u001b[0m\n",
      "File \u001b[0;32m~/.pyenv/versions/num_spt_venv_p11/lib/python3.11/site-packages/tenpy/linalg/np_conserved.py:694\u001b[0m, in \u001b[0;36mArray.get_leg_indices\u001b[0;34m(self, labels)\u001b[0m\n\u001b[1;32m    676\u001b[0m \u001b[38;5;28;01mdef\u001b[39;00m \u001b[38;5;21mget_leg_indices\u001b[39m(\u001b[38;5;28mself\u001b[39m, labels):\n\u001b[1;32m    677\u001b[0m \u001b[38;5;250m    \u001b[39m\u001b[38;5;124;03m\"\"\"Translate a list of leg-indices or leg-labels to leg indices.\u001b[39;00m\n\u001b[1;32m    678\u001b[0m \n\u001b[1;32m    679\u001b[0m \u001b[38;5;124;03m    Parameters\u001b[39;00m\n\u001b[0;32m   (...)\u001b[0m\n\u001b[1;32m    692\u001b[0m \u001b[38;5;124;03m    iset_leg_labels : set the labels of different legs.\u001b[39;00m\n\u001b[1;32m    693\u001b[0m \u001b[38;5;124;03m    \"\"\"\u001b[39;00m\n\u001b[0;32m--> 694\u001b[0m     \u001b[38;5;28;01mreturn\u001b[39;00m \u001b[43m[\u001b[49m\u001b[38;5;28;43mself\u001b[39;49m\u001b[38;5;241;43m.\u001b[39;49m\u001b[43mget_leg_index\u001b[49m\u001b[43m(\u001b[49m\u001b[43ml\u001b[49m\u001b[43m)\u001b[49m\u001b[43m \u001b[49m\u001b[38;5;28;43;01mfor\u001b[39;49;00m\u001b[43m \u001b[49m\u001b[43ml\u001b[49m\u001b[43m \u001b[49m\u001b[38;5;129;43;01min\u001b[39;49;00m\u001b[43m \u001b[49m\u001b[43mlabels\u001b[49m\u001b[43m]\u001b[49m\n",
      "File \u001b[0;32m~/.pyenv/versions/num_spt_venv_p11/lib/python3.11/site-packages/tenpy/linalg/np_conserved.py:694\u001b[0m, in \u001b[0;36m<listcomp>\u001b[0;34m(.0)\u001b[0m\n\u001b[1;32m    676\u001b[0m \u001b[38;5;28;01mdef\u001b[39;00m \u001b[38;5;21mget_leg_indices\u001b[39m(\u001b[38;5;28mself\u001b[39m, labels):\n\u001b[1;32m    677\u001b[0m \u001b[38;5;250m    \u001b[39m\u001b[38;5;124;03m\"\"\"Translate a list of leg-indices or leg-labels to leg indices.\u001b[39;00m\n\u001b[1;32m    678\u001b[0m \n\u001b[1;32m    679\u001b[0m \u001b[38;5;124;03m    Parameters\u001b[39;00m\n\u001b[0;32m   (...)\u001b[0m\n\u001b[1;32m    692\u001b[0m \u001b[38;5;124;03m    iset_leg_labels : set the labels of different legs.\u001b[39;00m\n\u001b[1;32m    693\u001b[0m \u001b[38;5;124;03m    \"\"\"\u001b[39;00m\n\u001b[0;32m--> 694\u001b[0m     \u001b[38;5;28;01mreturn\u001b[39;00m [\u001b[38;5;28;43mself\u001b[39;49m\u001b[38;5;241;43m.\u001b[39;49m\u001b[43mget_leg_index\u001b[49m\u001b[43m(\u001b[49m\u001b[43ml\u001b[49m\u001b[43m)\u001b[49m \u001b[38;5;28;01mfor\u001b[39;00m l \u001b[38;5;129;01min\u001b[39;00m labels]\n",
      "File \u001b[0;32m~/.pyenv/versions/num_spt_venv_p11/lib/python3.11/site-packages/tenpy/linalg/np_conserved.py:668\u001b[0m, in \u001b[0;36mArray.get_leg_index\u001b[0;34m(self, label)\u001b[0m\n\u001b[1;32m    666\u001b[0m     \u001b[38;5;28;01mexcept\u001b[39;00m \u001b[38;5;167;01mValueError\u001b[39;00m:  \u001b[38;5;66;03m# not in List\u001b[39;00m\n\u001b[1;32m    667\u001b[0m         msg \u001b[38;5;241m=\u001b[39m \u001b[38;5;124m\"\u001b[39m\u001b[38;5;124mLabel not found: \u001b[39m\u001b[38;5;132;01m{0!r}\u001b[39;00m\u001b[38;5;124m, current labels: \u001b[39m\u001b[38;5;132;01m{1!r}\u001b[39;00m\u001b[38;5;124m\"\u001b[39m\u001b[38;5;241m.\u001b[39mformat(label, \u001b[38;5;28mself\u001b[39m\u001b[38;5;241m.\u001b[39m_labels)\n\u001b[0;32m--> 668\u001b[0m         \u001b[38;5;28;01mraise\u001b[39;00m \u001b[38;5;167;01mKeyError\u001b[39;00m(msg) \u001b[38;5;28;01mfrom\u001b[39;00m \u001b[38;5;28;01mNone\u001b[39;00m\n\u001b[1;32m    669\u001b[0m \u001b[38;5;28;01melse\u001b[39;00m:\n\u001b[1;32m    670\u001b[0m     \u001b[38;5;28;01mif\u001b[39;00m label \u001b[38;5;241m<\u001b[39m \u001b[38;5;241m0\u001b[39m:\n",
      "\u001b[0;31mKeyError\u001b[0m: \"Label not found: 'vR', current labels: ['vL*', 'vL']\""
     ]
    }
   ],
   "source": [
    "right_bs = [\n",
    "    debug_case.psi.get_B(i)\n",
    "    for i in range(debug_case.right_symmetry_index+1, debug_case.right_symmetry_index+4)\n",
    "]\n",
    "\n",
    "b = right_bs[0].replace_label('p', 'p0')\n",
    "\n",
    "for i, b in enumerate(right_bs[1:], start=1):\n",
    "    print(i)\n",
    "    t = npc.tensordot(t, b, [['vR',], ['vL']]).replace_label('p', f'p{i}')\n",
    "\n",
    "i = len(right_bs) - 1\n",
    "b = right_bs[-1]\n",
    "\n",
    "t = npc.tensordot(t, b.conj(), [['vR',], ['vR*']]).replace_label('p*', f'p{i}*')\n",
    "\n",
    "counter = range(len(right_bs)-2, -1, -1)\n",
    "\n",
    "for i, b in zip(counter, (right_bs[-2::-1])):\n",
    "    t = npc.tensordot(t, b.conj(), [['vL*',], ['vR*']]).replace_label('p*', f'p{i}*')\n",
    "\n",
    "t = (\n",
    "    t\n",
    "    .combine_legs([['p0', 'p1', 'p2'], ['p0*', 'p1*', 'p2*']])\n",
    ")\n",
    "\n",
    "t = npc.tensordot(t, ru, [['(p0.p1.p2)', '(p0*.p1*.p2*)'], ['(p0*.p1*.p2*)', '(p0.p1.p2)']])\n",
    "\n",
    "test_left_side_environment = t"
   ]
  },
  {
   "cell_type": "markdown",
   "id": "f47f6f12-7a50-413b-ad0b-53df573e67d0",
   "metadata": {},
   "source": [
    "## Quick max_virtual_bond_dim_check"
   ]
  },
  {
   "cell_type": "code",
   "execution_count": 276,
   "id": "dc513123-9fa5-44fd-9d4c-a1d5bcd662b2",
   "metadata": {},
   "outputs": [],
   "source": [
    "block_width = 3\n",
    "num_one_sided_iterations = 1\n",
    "num_two_sided_iterations = 30\n",
    "num_layers = 1\n",
    "num_sites = 3"
   ]
  },
  {
   "cell_type": "code",
   "execution_count": 277,
   "id": "8afe1a9b-1e6e-4055-b385-fcfa4d4a4e0c",
   "metadata": {},
   "outputs": [],
   "source": [
    "debug_opt = MPSBrickSolver(\n",
    "    cases_non_triv_proj_rep[(0.55, 1, 1)],\n",
    "    num_sites,\n",
    "    block_width,\n",
    "    num_layers,\n",
    "    num_one_sided_iterations,\n",
    "    num_two_sided_iterations,\n",
    "    max_virtual_bond_dim=30\n",
    ")"
   ]
  },
  {
   "cell_type": "code",
   "execution_count": 278,
   "id": "3ed0074c-04ac-405b-8247-83835086603b",
   "metadata": {},
   "outputs": [],
   "source": [
    "debug_opt.optimise()"
   ]
  },
  {
   "cell_type": "code",
   "execution_count": 279,
   "id": "6dab3627-64f6-4941-9fdb-463d76190e5f",
   "metadata": {},
   "outputs": [
    {
     "data": {
      "text/plain": [
       "[<matplotlib.lines.Line2D at 0x352087690>]"
      ]
     },
     "execution_count": 279,
     "metadata": {},
     "output_type": "execute_result"
    },
    {
     "data": {
      "image/png": "[encoded data removed]",
      "text/plain": [
       "<Figure size 640x480 with 1 Axes>"
      ]
     },
     "metadata": {},
     "output_type": "display_data"
    }
   ],
   "source": [
    "plt.plot(debug_opt.flatten_exps())"
   ]
  },
  {
   "cell_type": "code",
   "execution_count": 280,
   "id": "4215cda0-639d-4ef2-8f1f-e2b7905f1677",
   "metadata": {},
   "outputs": [
    {
     "data": {
      "text/plain": [
       "[<matplotlib.lines.Line2D at 0x3495263d0>]"
      ]
     },
     "execution_count": 280,
     "metadata": {},
     "output_type": "execute_result"
    },
    {
     "data": {
      "image/png": "[encoded data removed]",
      "text/plain": [
       "<Figure size 640x480 with 1 Axes>"
      ]
     },
     "metadata": {},
     "output_type": "display_data"
    }
   ],
   "source": [
    "plt.plot(debug_opt.flatten_exps()[2:])"
   ]
  },
  {
   "cell_type": "code",
   "execution_count": 282,
   "id": "e8ae1a6f-1d5c-41fd-a331-b8bb172c5404",
   "metadata": {},
   "outputs": [
    {
     "data": {
      "text/plain": [
       "[0.8607420908523915,\n",
       " 0.8607407754736195,\n",
       " 0.8607420908523847,\n",
       " 0.8607407754736195,\n",
       " 0.8607420908523673,\n",
       " 0.8607407754736189,\n",
       " 0.860742090852411,\n",
       " 0.8607407754736196,\n",
       " 0.8607420908523816,\n",
       " 0.8607407754736192,\n",
       " 0.8607420908523854,\n",
       " 0.860740775473619,\n",
       " 0.8607420908523788,\n",
       " 0.8607407754736194,\n",
       " 0.8607420908523634,\n",
       " 0.8607407754736196,\n",
       " 0.8607420908523902,\n",
       " 0.8607407754736193,\n",
       " 0.8607420908523964,\n",
       " 0.8607407754736203,\n",
       " 0.8607420908524049,\n",
       " 0.8607407754736194,\n",
       " 0.8607420908524104,\n",
       " 0.8607407754736195,\n",
       " 0.8607420908523705,\n",
       " 0.8607407754736194,\n",
       " 0.8607420908523707,\n",
       " 0.8607407754736198,\n",
       " 0.860742090852389,\n",
       " 0.8607407754736203,\n",
       " 0.8607420908523933,\n",
       " 0.8607407754736193,\n",
       " 0.860742090852391,\n",
       " 0.8607407754736185,\n",
       " 0.8607420908523956,\n",
       " 0.86074077547362,\n",
       " 0.8607420908523635,\n",
       " 0.8607407754736196,\n",
       " 0.860742090852378,\n",
       " 0.8607407754736196,\n",
       " 0.860742090852368,\n",
       " 0.8607407754736187,\n",
       " 0.8607420908523759,\n",
       " 0.8607407754736202,\n",
       " 0.86074209085239,\n",
       " 0.8607407754736196,\n",
       " 0.8607420908523663,\n",
       " 0.8607407754736203,\n",
       " 0.8607420908523808,\n",
       " 0.8607407754736195,\n",
       " 0.8607420908523826,\n",
       " 0.86074077547362,\n",
       " 0.8607420908523878,\n",
       " 0.8607407754736195,\n",
       " 0.8607420908523845,\n",
       " 0.8607407754736195,\n",
       " 0.8607420908524133,\n",
       " 0.8607407754736193]"
      ]
     },
     "execution_count": 282,
     "metadata": {},
     "output_type": "execute_result"
    }
   ],
   "source": [
    "debug_opt.flatten_exps()[2:]"
   ]
  },
  {
   "cell_type": "markdown",
   "id": "fa93e2bc-446e-4522-8256-a58eab36093f",
   "metadata": {},
   "source": [
    "That's it!"
   ]
  },
  {
   "cell_type": "markdown",
   "id": "b19770e8-bbd5-4bcf-bff0-b52a79c20d27",
   "metadata": {},
   "source": [
    "# Conclusion\n",
    "Need to increase virtual bond dimension."
   ]
  },
  {
   "cell_type": "code",
   "execution_count": null,
   "id": "99d6d50a-a856-4a9a-928f-7fdf32a79abb",
   "metadata": {},
   "outputs": [],
   "source": []
  }
 ],
 "metadata": {
  "kernelspec": {
   "display_name": "num_spt_venv_p11",
   "language": "python",
   "name": "num_spt_venv_p11"
  },
  "language_info": {
   "codemirror_mode": {
    "name": "ipython",
    "version": 3
   },
   "file_extension": ".py",
   "mimetype": "text/x-python",
   "name": "python",
   "nbconvert_exporter": "python",
   "pygments_lexer": "ipython3",
   "version": "3.11.9"
  }
 },
 "nbformat": 4,
 "nbformat_minor": 5
}
