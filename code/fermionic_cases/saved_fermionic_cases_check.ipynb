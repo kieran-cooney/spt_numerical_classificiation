{
 "cells": [
  {
   "cell_type": "markdown",
   "id": "5f2205a4-2c74-4cf5-9ad1-9d65bd13bed2",
   "metadata": {},
   "source": [
    "# Small svd optimization - debugging\n",
    "\n",
    "Created 26/02/2025\n",
    "\n",
    "Objectives:\n",
    "* Perform simple checks on calculated spt states."
   ]
  },
  {
   "cell_type": "markdown",
   "id": "9ad0db4d-805c-4403-9d48-c71d523d572f",
   "metadata": {},
   "source": [
    "# Package imports"
   ]
  },
  {
   "cell_type": "code",
   "execution_count": 1,
   "id": "ecb41ea3-927f-4efa-aebe-ce15784aa037",
   "metadata": {},
   "outputs": [],
   "source": [
    "import sys\n",
    "sys.path.append('../')"
   ]
  },
  {
   "cell_type": "code",
   "execution_count": 2,
   "id": "4a525ec6-f0c8-47ee-8b0b-345bf0ef8bd3",
   "metadata": {},
   "outputs": [],
   "source": [
    "import h5py\n",
    "from tenpy.tools import hdf5_io\n",
    "import tenpy\n",
    "import tenpy.linalg.np_conserved as npc\n",
    "\n",
    "from tenpy.models.model import CouplingMPOModel\n",
    "from tenpy.networks.site import ClockSite, FermionSite\n",
    "\n",
    "import os"
   ]
  },
  {
   "cell_type": "code",
   "execution_count": 3,
   "id": "b22092ac-9191-4a2d-b568-8680c3687185",
   "metadata": {},
   "outputs": [],
   "source": [
    "from functools import reduce\n",
    "from operator import mul\n",
    "from itertools import product"
   ]
  },
  {
   "cell_type": "code",
   "execution_count": 4,
   "id": "214f688a-c657-4810-b4d1-b1247deff62c",
   "metadata": {},
   "outputs": [],
   "source": [
    "import numpy as np\n",
    "import matplotlib.pyplot as plt\n",
    "import pandas as pd"
   ]
  },
  {
   "cell_type": "code",
   "execution_count": 5,
   "id": "b8dec68d-a5b3-4383-ab44-567a9a5981b3",
   "metadata": {},
   "outputs": [],
   "source": [
    "from SPTOptimization.SymmetryActionWithBoundaryUnitaries import SymmetryActionWithBoundaryUnitaries\n",
    "\n",
    "from SPTOptimization.Optimizers.OneSiteSolver import OneSiteSolver\n",
    "\n",
    "from SPTOptimization.utils import (\n",
    "    to_npc_array,\n",
    "    get_right_identity_environment,\n",
    "    get_right_identity_environment_from_tp_tensor,\n",
    "    get_left_identity_environment_from_tp_tensor,\n",
    "    multiply_transfer_matrices\n",
    ")\n",
    "\n",
    "from SPTOptimization.Optimizers.utils import (\n",
    "    one_site_optimization_sweep_right\n",
    ")\n",
    "\n",
    "from SPTOptimization.gradients import (\n",
    "    expectation_gradient_from_environments_and_b_tensor\n",
    ")"
   ]
  },
  {
   "cell_type": "code",
   "execution_count": 6,
   "id": "b7461fe3-41a3-492f-b018-8e32e27a7300",
   "metadata": {},
   "outputs": [],
   "source": [
    "import re"
   ]
  },
  {
   "cell_type": "markdown",
   "id": "c69a8a47-e298-4c4c-97f7-a6157da4e15f",
   "metadata": {},
   "source": [
    "# Load data"
   ]
  },
  {
   "cell_type": "code",
   "execution_count": 7,
   "id": "210d7dcc-b7ae-4f06-8429-84177bec47d3",
   "metadata": {},
   "outputs": [],
   "source": [
    "DATA_DIR = r\"../data/simple_fermionic_cluster_200_site_dmrg/\""
   ]
  },
  {
   "cell_type": "code",
   "execution_count": 8,
   "id": "ae809e74-d444-4db4-88ff-7538f6110d08",
   "metadata": {},
   "outputs": [],
   "source": [
    "def parse_file_name(file_name):\n",
    "    non_trivial_proj_rep = bool(int(file_name[3]))\n",
    "\n",
    "    n1_01 = int(file_name[8])\n",
    "    n1_10 = int(file_name[9])\n",
    "\n",
    "    return (non_trivial_proj_rep, (n1_01, n1_10))"
   ]
  },
  {
   "cell_type": "code",
   "execution_count": 9,
   "id": "e09f07cf-8441-4c7e-90b8-dbc8c61311f2",
   "metadata": {},
   "outputs": [],
   "source": [
    "loaded_data = dict()\n",
    "\n",
    "for local_file_name in os.listdir(DATA_DIR):\n",
    "    f_name = r\"{}/{}\".format(DATA_DIR, local_file_name, ignore_unknown=False)\n",
    "    with h5py.File(f_name, 'r') as f:\n",
    "        data = hdf5_io.load_from_hdf5(f)\n",
    "\n",
    "        data_info = parse_file_name(local_file_name)\n",
    "        loaded_data[data_info]=data['wavefunction']"
   ]
  },
  {
   "cell_type": "code",
   "execution_count": 10,
   "id": "991ad694-d6ed-4b68-9d35-7a4afb4c225b",
   "metadata": {},
   "outputs": [
    {
     "data": {
      "text/plain": [
       "{(False, (1, 1)): <tenpy.networks.mps.MPS at 0x13870aa90>,\n",
       " (True, (1, 1)): <tenpy.networks.mps.MPS at 0x16826eb50>,\n",
       " (True, (0, 1)): <tenpy.networks.mps.MPS at 0x1682f7690>,\n",
       " (False, (0, 1)): <tenpy.networks.mps.MPS at 0x168d81f90>,\n",
       " (False, (1, 0)): <tenpy.networks.mps.MPS at 0x168ddf6d0>,\n",
       " (True, (1, 0)): <tenpy.networks.mps.MPS at 0x1672cabd0>,\n",
       " (True, (0, 0)): <tenpy.networks.mps.MPS at 0x1698c9110>,\n",
       " (False, (0, 0)): <tenpy.networks.mps.MPS at 0x168de7ed0>}"
      ]
     },
     "execution_count": 10,
     "metadata": {},
     "output_type": "execute_result"
    }
   ],
   "source": [
    "loaded_data"
   ]
  },
  {
   "cell_type": "code",
   "execution_count": 11,
   "id": "ec80aaf2-da09-4592-a809-a8314fd83e77",
   "metadata": {},
   "outputs": [
    {
     "data": {
      "text/plain": [
       "array([0.00000000e+00, 4.10310779e-55, 3.20108804e-32, 4.41166527e-30,\n",
       "       4.30652209e-31, 1.28028128e-32, 2.18979328e-32, 9.64766348e-32,\n",
       "       6.39204896e-31, 4.19476267e-32, 7.51835939e-33, 1.56998498e-32,\n",
       "       3.06132263e-29, 6.24832887e-32, 6.64529320e-32, 6.61192056e-33,\n",
       "       3.02331734e-32, 1.97077344e-32, 3.97848871e-32, 1.65936555e-32,\n",
       "       8.12962747e-32, 8.36180681e-32, 1.05455111e-32, 2.30695596e-32,\n",
       "       4.15719467e-32, 3.32855567e-32, 1.02762007e-32, 1.46697913e-32,\n",
       "       3.80115562e-31, 1.63756131e-32, 9.98608231e-33, 1.82981182e-32,\n",
       "       1.73380216e-33, 6.00451123e-32, 1.33036658e-32, 2.79091135e-31,\n",
       "       1.64291033e-32, 3.68006128e-33, 9.95622775e-32, 6.17421509e-32,\n",
       "       2.70280235e-32, 3.01371615e-31, 2.35183074e-32, 1.17896355e-32,\n",
       "       3.93686429e-31, 8.45721273e-32, 1.08863312e-32, 3.77353007e-31,\n",
       "       9.67562785e-33, 1.99656454e-33, 6.40393616e-33, 2.78084102e-32,\n",
       "       1.03150150e-31, 4.37579428e-33, 1.45445289e-32, 3.55938597e-32,\n",
       "       3.97823676e-33, 2.49558765e-32, 5.83674844e-32, 5.65240897e-33,\n",
       "       3.02788937e-32, 1.68137907e-32, 1.92338306e-31, 1.04057512e-32,\n",
       "       3.64920161e-33, 1.95435202e-32, 2.84942450e-32, 8.88276651e-33,\n",
       "       7.75273851e-33, 2.58573886e-32, 5.15046203e-33, 1.16772734e-32,\n",
       "       1.18483428e-33, 3.83447653e-32, 2.56470114e-32, 7.46833249e-33,\n",
       "       8.04890237e-33, 8.23867687e-32, 2.40292353e-31, 5.73993045e-32,\n",
       "       1.99991163e-32, 1.03053885e-31, 4.13348647e-31, 3.49682611e-32,\n",
       "       7.41249798e-31, 2.55014460e-32, 1.68727394e-31, 2.03563625e-32,\n",
       "       1.33614956e-32, 2.14221151e-32, 2.07421165e-31, 4.34597627e-32,\n",
       "       1.88742279e-32, 1.04165570e-32, 5.80629023e-32, 1.78903412e-32,\n",
       "       1.03849028e-32, 9.43016392e-31, 7.40551322e-30, 0.00000000e+00])"
      ]
     },
     "execution_count": 11,
     "metadata": {},
     "output_type": "execute_result"
    }
   ],
   "source": [
    "loaded_data[(True, (0,0))].expectation_value('N', sites=list(range(1, 201, 2)))"
   ]
  },
  {
   "cell_type": "code",
   "execution_count": 12,
   "id": "41d02fac-b668-444d-bde4-949dd6fe9e40",
   "metadata": {},
   "outputs": [
    {
     "data": {
      "text/plain": [
       "array([0.00000000e+00, 3.26915052e-29, 3.33293732e-29, 0.00000000e+00,\n",
       "       3.33293732e-29, 7.79030959e-29, 4.21824880e-29, 4.21824880e-29,\n",
       "       5.96576060e-30, 1.14662165e-29, 3.59424750e-29, 8.18720523e-29,\n",
       "       4.21824880e-29, 8.28796989e-29, 4.21824880e-29, 3.79670126e-29,\n",
       "       4.21824880e-29, 8.18720523e-29, 1.37190923e-28, 0.00000000e+00,\n",
       "       1.37190923e-28, 0.00000000e+00, 3.66111579e-29, 3.66111579e-29,\n",
       "       3.86541844e-29, 3.33293732e-29, 0.00000000e+00, 0.00000000e+00,\n",
       "       3.59424750e-29, 1.56000325e-28, 3.46235982e-29, 0.00000000e+00,\n",
       "       3.59424750e-29, 3.59424750e-29, 3.72860037e-29, 0.00000000e+00,\n",
       "       0.00000000e+00, 9.22258517e-29, 8.33234331e-30, 9.01057880e-29,\n",
       "       3.46235982e-29, 4.43734259e-29, 3.14342582e-29, 3.14342582e-29,\n",
       "       0.00000000e+00, 8.18720523e-29, 1.46709639e-29, 1.46709639e-29,\n",
       "       1.46709639e-29, 8.98561875e-30, 0.00000000e+00, 8.01495006e-30,\n",
       "       4.07526776e-29, 4.00470169e-29, 9.32150093e-30, 7.69262642e-29,\n",
       "       0.00000000e+00, 3.72860037e-29, 9.32150093e-30, 7.79030959e-29,\n",
       "       3.79670126e-29, 9.32150093e-30, 3.86541844e-29, 8.18720523e-29,\n",
       "       1.10933565e-29, 0.00000000e+00, 3.46235982e-29, 7.39865247e-30,\n",
       "       1.34229613e-29, 1.34229613e-29, 7.40327471e-29, 0.00000000e+00,\n",
       "       8.80103762e-29, 1.34602473e-28, 7.98752481e-29, 9.32150093e-30,\n",
       "       0.00000000e+00, 8.38935084e-29, 9.32150093e-30, 8.38935084e-29,\n",
       "       0.00000000e+00, 1.42488001e-29, 9.32150093e-30, 1.42488001e-29,\n",
       "       1.18452395e-29, 0.00000000e+00, 7.21345505e-29, 4.68694311e-30,\n",
       "       4.68694311e-30, 7.39865247e-30, 8.59396164e-29, 3.20598002e-29,\n",
       "       7.70371978e-30, 5.17998118e-30, 7.70371978e-30, 7.79030959e-29,\n",
       "       7.39865247e-30, 7.70371978e-30, 5.83094550e-28, 0.00000000e+00])"
      ]
     },
     "execution_count": 12,
     "metadata": {},
     "output_type": "execute_result"
    }
   ],
   "source": [
    "loaded_data[(False, (0,0))].expectation_value('N', sites=list(range(1, 201, 2)))"
   ]
  },
  {
   "cell_type": "markdown",
   "id": "b4c1e616-c034-404b-b59e-196d1eaac475",
   "metadata": {},
   "source": [
    "# Definitons"
   ]
  },
  {
   "cell_type": "code",
   "execution_count": 13,
   "id": "63506364-f535-4c0f-8c5f-8839c69f7b9d",
   "metadata": {},
   "outputs": [],
   "source": [
    "MAX_VIRTUAL_BOND_DIM = 8\n",
    "MAX_INTERMEDIATE_VIRTUAL_BOND_DIM = 2*MAX_VIRTUAL_BOND_DIM\n",
    "# MPO bond dim?\n",
    "MAX_MPO_BOND_DIM = 50\n",
    "\n",
    "SVD_CUTOFF = 1e-3"
   ]
  },
  {
   "cell_type": "markdown",
   "id": "1efd18d4-328d-43dd-996d-393f18eb02b2",
   "metadata": {},
   "source": [
    "Define bosonic symmetries. Label by the group element added."
   ]
  },
  {
   "cell_type": "code",
   "execution_count": 14,
   "id": "513d7288-c641-4071-a4a3-652787d1f98c",
   "metadata": {},
   "outputs": [],
   "source": [
    "np_00 = np.array([\n",
    "    [1, 0, 0, 0],\n",
    "    [0, 1, 0, 0],\n",
    "    [0, 0, 1, 0],\n",
    "    [0, 0, 0, 1]\n",
    "])\n",
    "\n",
    "np_01 = np.array([\n",
    "    [0, 1, 0, 0],\n",
    "    [1, 0, 0, 0],\n",
    "    [0, 0, 0, 1],\n",
    "    [0, 0, 1, 0]\n",
    "])\n",
    "\n",
    "np_10 = np.array([\n",
    "    [0, 0, 1, 0],\n",
    "    [0, 0, 0, 1],\n",
    "    [1, 0, 0, 0],\n",
    "    [0, 1, 0, 0]\n",
    "])\n",
    "\n",
    "np_11 = np.array([\n",
    "    [0, 0, 0, 1],\n",
    "    [0, 0, 1, 0],\n",
    "    [0, 1, 0, 0],\n",
    "    [1, 0, 0, 0]\n",
    "])"
   ]
  },
  {
   "cell_type": "code",
   "execution_count": 15,
   "id": "c83907c6-e86f-48af-a2a1-11b250f47e84",
   "metadata": {},
   "outputs": [],
   "source": [
    "bosonic_np_symmetries = [\n",
    "    np_00,\n",
    "    np_01,\n",
    "    np_10,\n",
    "    np_11\n",
    "]"
   ]
  },
  {
   "cell_type": "code",
   "execution_count": 16,
   "id": "2a78a62e-37eb-4baf-98ba-d6a94d599bec",
   "metadata": {},
   "outputs": [],
   "source": [
    "npc_00 = to_npc_array(np_00)\n",
    "npc_01 = to_npc_array(np_01)\n",
    "npc_10 = to_npc_array(np_10)\n",
    "npc_11 = to_npc_array(np_11)"
   ]
  },
  {
   "cell_type": "markdown",
   "id": "1ecddc96-798a-416b-b0b4-d9ea9e25cfca",
   "metadata": {},
   "source": [
    "Define \"fermionic symmetries\". Just identity and JW string."
   ]
  },
  {
   "cell_type": "code",
   "execution_count": 17,
   "id": "a1c64bf0-4b2e-4492-b242-3dae6eb527c3",
   "metadata": {},
   "outputs": [],
   "source": [
    "np_I = np.array([\n",
    "    [1, 0],\n",
    "    [0, 1]\n",
    "])\n",
    "\n",
    "np_JW = np.array([\n",
    "    [1, 0],\n",
    "    [0, -1]\n",
    "])"
   ]
  },
  {
   "cell_type": "code",
   "execution_count": 110,
   "id": "9ec0389b-16c7-4284-b470-a5feaceb4843",
   "metadata": {},
   "outputs": [],
   "source": [
    "np_c_plus = np.array([\n",
    "    [0, 1],\n",
    "    [0, 0]\n",
    "])\n",
    "\n",
    "np_c_minus = np.array([\n",
    "    [0, 0],\n",
    "    [1, 0]\n",
    "])"
   ]
  },
  {
   "cell_type": "code",
   "execution_count": 18,
   "id": "e595ca13-740a-41a3-a658-8831c8f54323",
   "metadata": {},
   "outputs": [],
   "source": [
    "fermionic_np_symmetries = [np_I, np_JW]"
   ]
  },
  {
   "cell_type": "code",
   "execution_count": 19,
   "id": "6e5b6ad0-2496-4072-afe9-c41fc62da40e",
   "metadata": {},
   "outputs": [],
   "source": [
    "fermionic_npc_symmetries = [\n",
    "    to_npc_array(X) for X in fermionic_np_symmetries\n",
    "]"
   ]
  },
  {
   "cell_type": "code",
   "execution_count": 20,
   "id": "b9e2f954-c591-4479-ba37-32862c25c660",
   "metadata": {},
   "outputs": [],
   "source": [
    "symmetry_actions = [\n",
    "    [[b, f] for b in bosonic_np_symmetries]\n",
    "    for f in fermionic_np_symmetries\n",
    "]"
   ]
  },
  {
   "cell_type": "code",
   "execution_count": 21,
   "id": "8c945b86-cec1-4b08-930f-1922b7e1bea6",
   "metadata": {},
   "outputs": [],
   "source": [
    "shifted_symmetry_actions = [\n",
    "    [[f, b] for b in bosonic_np_symmetries]\n",
    "    for f in fermionic_np_symmetries\n",
    "]"
   ]
  },
  {
   "cell_type": "code",
   "execution_count": 22,
   "id": "6bac53fa-b629-46fc-a145-f932a0af6f18",
   "metadata": {},
   "outputs": [],
   "source": [
    "left_trivial_leg_charge = tenpy.linalg.charges.LegCharge(\n",
    "    tenpy.linalg.charges.ChargeInfo([], []),\n",
    "    [0,1],\n",
    "    [[]],\n",
    "    qconj=1\n",
    ")"
   ]
  },
  {
   "cell_type": "code",
   "execution_count": 23,
   "id": "44f34cb7-0888-474b-9483-f4956951fc31",
   "metadata": {},
   "outputs": [],
   "source": [
    "right_trivial_leg_charge = tenpy.linalg.charges.LegCharge(\n",
    "    tenpy.linalg.charges.ChargeInfo([], []),\n",
    "    [0,1],\n",
    "    [[]],\n",
    "    qconj=-1\n",
    ")"
   ]
  },
  {
   "cell_type": "markdown",
   "id": "9a189461-f90d-4e95-9c8f-2335afa7bb32",
   "metadata": {},
   "source": [
    "## Projectors"
   ]
  },
  {
   "cell_type": "code",
   "execution_count": 24,
   "id": "d75e6bf8-9edd-460a-8145-7bd785ecf70b",
   "metadata": {},
   "outputs": [],
   "source": [
    "def mod_4_to_bit(x):    \n",
    "    possible_mod_4_values = list(range(4))\n",
    "    assert x in possible_mod_4_values\n",
    "\n",
    "    x0 = x % 2\n",
    "    x1 = ((x - x0) // 2) % 2\n",
    "\n",
    "    return (x0, x1)"
   ]
  },
  {
   "cell_type": "code",
   "execution_count": 25,
   "id": "bad9c56a-7874-4f05-a97b-5acde4e8112f",
   "metadata": {},
   "outputs": [],
   "source": [
    "def bit_to_mod_4(bit_pair):\n",
    "    x0, x1 = bit_pair\n",
    "\n",
    "    possible_mod_2_values = list(range(2))\n",
    "    assert x0 in possible_mod_2_values\n",
    "    assert x1 in possible_mod_2_values\n",
    "\n",
    "    return x0 + 2*x1"
   ]
  },
  {
   "cell_type": "code",
   "execution_count": 26,
   "id": "4206ede3-c7c6-4e41-ac32-1f25676a3a87",
   "metadata": {},
   "outputs": [],
   "source": [
    "def mod_4_to_bit_addition(x, y):\n",
    "    (x0, x1) = mod_4_to_bit(x)\n",
    "    (y0, y1) = mod_4_to_bit(y)\n",
    "\n",
    "    out0 = (x0 + y0) % 2\n",
    "    out1 = (x1 + y1) % 2\n",
    "\n",
    "    out = bit_to_mod_4((out0, out1))\n",
    "\n",
    "    return out"
   ]
  },
  {
   "cell_type": "code",
   "execution_count": 27,
   "id": "cd1af4a8-88ec-4095-9cc0-0f5c12b4dee0",
   "metadata": {},
   "outputs": [],
   "source": [
    "def get_n1_func(n1_01, n1_10):\n",
    "    l = [0, n1_01, n1_10, (n1_01 + n1_10)%2]\n",
    "    \n",
    "    def f(g1, g2):\n",
    "        i = mod_4_to_bit_addition(g1, g2)\n",
    "        return l[i]\n",
    "\n",
    "    return f"
   ]
  },
  {
   "cell_type": "code",
   "execution_count": 28,
   "id": "af10fe92-e475-435b-b5e6-e7ebd7a2a86c",
   "metadata": {},
   "outputs": [],
   "source": [
    "n1_pair_to_fermion_operators_dict = {\n",
    "    (0, 0): \"Id\",\n",
    "    (0, 1): \"C\",\n",
    "    (1, 0): \"Cd\",\n",
    "    (1, 1): \"N\"\n",
    "}"
   ]
  },
  {
   "cell_type": "code",
   "execution_count": 29,
   "id": "28dbfe69-4bdc-4870-9155-cb55d2d7156d",
   "metadata": {},
   "outputs": [],
   "source": [
    "n1_pairs = [\n",
    "    (0, 0),\n",
    "    (0, 1),\n",
    "    (1, 0),\n",
    "    (1, 1)\n",
    "]"
   ]
  },
  {
   "cell_type": "code",
   "execution_count": 30,
   "id": "a23a6c40-02a6-4959-8911-d1f7ea883edb",
   "metadata": {},
   "outputs": [],
   "source": [
    "pauli_proj_rep_phases = np.array([\n",
    "    [1, 1, 1, 1],\n",
    "    [1, 1, -1, -1],\n",
    "    [1, -1, 1, -1],\n",
    "    [1, -1, -1, 1]\n",
    "])"
   ]
  },
  {
   "cell_type": "code",
   "execution_count": 31,
   "id": "c8c6e21e-5203-4b99-b1e7-07200be33de4",
   "metadata": {},
   "outputs": [],
   "source": [
    "def get_proj_rep_term_phase(group_quad):\n",
    "    g_left, g_in, g_out, g_right = group_quad\n",
    "\n",
    "    g1 = mod_4_to_bit_addition(g_left, g_in)\n",
    "    g2 = mod_4_to_bit_addition(g_in, g_right)\n",
    "    g3 = mod_4_to_bit_addition(g_left, g_out)\n",
    "    g4 = mod_4_to_bit_addition(g_out, g_right)\n",
    "\n",
    "    numerator_phase = pauli_proj_rep_phases[g1, g2]\n",
    "    denominator_phase = pauli_proj_rep_phases[g3, g4]\n",
    "\n",
    "    return numerator_phase/denominator_phase"
   ]
  },
  {
   "cell_type": "code",
   "execution_count": 32,
   "id": "6473b892-c381-4401-af3f-81fc07bc6356",
   "metadata": {},
   "outputs": [],
   "source": [
    "def get_op_list(g_quad, n1_func):\n",
    "    out = list()\n",
    "    g_left, g_in, g_out, g_right = g_quad\n",
    "\n",
    "    out.append((f'map_{g_left}_{g_left}', 0, 0))\n",
    "    \n",
    "    out.append((f'map_{g_in}_{g_out}', 1, 0))\n",
    "\n",
    "    out.append((f'map_{g_right}_{g_right}', 2, 0))\n",
    "\n",
    "    if n1_func(g_left, g_out):\n",
    "        out.append(('Cd', 0, 1))\n",
    "    if n1_func(g_out, g_right):\n",
    "        out.append(('Cd', 1, 1))\n",
    "\n",
    "    if n1_func(g_in, g_right):\n",
    "        out.append(('C', 1, 1))\n",
    "    if n1_func(g_left, g_in):\n",
    "        out.append(('C', 0, 1))\n",
    "\n",
    "    return out"
   ]
  },
  {
   "cell_type": "code",
   "execution_count": 33,
   "id": "bca14e98-54ab-49fd-847f-70d1f933d075",
   "metadata": {},
   "outputs": [],
   "source": [
    "def get_op_list_trivial(g_quad):\n",
    "    out = list()\n",
    "    g_left, g_in, g_out, g_right = g_quad\n",
    "\n",
    "    out.append((f'map_{g_left}_{g_left}', 0, 0))\n",
    "    \n",
    "    out.append((f'map_{g_in}_{g_out}', 1, 0))\n",
    "\n",
    "    out.append((f'map_{g_right}_{g_right}', 2, 0))\n",
    "\n",
    "    out.append(('C', 1, 1))\n",
    "    out.append(('C', 0, 1))\n",
    "\n",
    "    out.append(('Cd', 0, 1))\n",
    "    out.append(('Cd', 1, 1))\n",
    "\n",
    "    return out"
   ]
  },
  {
   "cell_type": "code",
   "execution_count": 34,
   "id": "257e1b7a-f94a-4ea0-9f1e-1a6e915308e7",
   "metadata": {},
   "outputs": [],
   "source": [
    "class ClusterFermion(CouplingMPOModel):\n",
    "    default_lattice = \"Chain\"\n",
    "    force_default_lattice = True\n",
    "\n",
    "    # Would it be easier to subclass ClockSite?\n",
    "    def init_sites(self, model_params):\n",
    "        spin = ClockSite(4, conserve=None)\n",
    "        for i in range(4):\n",
    "            for j in range(4):\n",
    "                X = np.zeros((4,4))\n",
    "                X[j, i] = 1\n",
    "                op_name = f\"map_{i}_{j}\"\n",
    "                spin.add_op(op_name, X)\n",
    "        ferm = FermionSite(conserve=None)\n",
    "        sites = [spin, ferm]\n",
    "        return [spin, ferm], ['s', 'f']\n",
    "\n",
    "    def init_terms(self, model_params):\n",
    "        # Read off model parameters\n",
    "        n1_01, n1_10 = model_params.get('n1', (0,0))\n",
    "        n1_func = get_n1_func(n1_01, n1_10)\n",
    "\n",
    "        non_trivial_proj_rep = model_params.get('non_trivial_proj_rep', False)\n",
    "\n",
    "        group_quads = product(range(4), repeat=4)\n",
    "\n",
    "        for group_quad in group_quads:\n",
    "            if (n1_01, n1_10) == (0, 0):\n",
    "                op_list = get_op_list_trivial(group_quad)\n",
    "            else:\n",
    "                op_list = get_op_list(group_quad, n1_func)\n",
    "\n",
    "            if non_trivial_proj_rep:\n",
    "                phase = get_proj_rep_term_phase(group_quad)\n",
    "            else:\n",
    "                phase = 1\n",
    "\n",
    "            self.add_multi_coupling((-1/4)*phase, op_list)"
   ]
  },
  {
   "cell_type": "code",
   "execution_count": 35,
   "id": "662354e3-2789-4ed4-aa35-1f7cfab045a0",
   "metadata": {},
   "outputs": [],
   "source": [
    "models = {\n",
    "    (b, p): ClusterFermion({'L': 3, 'n1': p, 'non_trivial_proj_rep': b})\n",
    "    for p in n1_pairs\n",
    "    for b in [True, False]\n",
    "}"
   ]
  },
  {
   "cell_type": "code",
   "execution_count": 36,
   "id": "657068ea-9a73-42d5-a943-2de655c5c3eb",
   "metadata": {},
   "outputs": [],
   "source": [
    "mpos = {k: m.calc_H_MPO() for k, m in models.items()}"
   ]
  },
  {
   "cell_type": "code",
   "execution_count": 37,
   "id": "515d229f-0489-4ac8-8f85-53c4fe0d8d12",
   "metadata": {},
   "outputs": [],
   "source": [
    "test_mpo = mpos[(False, (0,0))]"
   ]
  },
  {
   "cell_type": "code",
   "execution_count": 38,
   "id": "fe4eeafd-748e-44e2-86b1-655bac8622ac",
   "metadata": {},
   "outputs": [
    {
     "data": {
      "text/plain": [
       "6"
      ]
     },
     "execution_count": 38,
     "metadata": {},
     "output_type": "execute_result"
    }
   ],
   "source": [
    "test_mpo.L"
   ]
  },
  {
   "cell_type": "code",
   "execution_count": 39,
   "id": "5df3de28-c90b-47ec-b588-d627609cc7d5",
   "metadata": {},
   "outputs": [
    {
     "data": {
      "text/plain": [
       "<npc.Array shape=(2, 6, 4, 4) labels=['wL', 'wR', 'p', 'p*']>"
      ]
     },
     "execution_count": 39,
     "metadata": {},
     "output_type": "execute_result"
    }
   ],
   "source": [
    "test_mpo.get_W(0)"
   ]
  },
  {
   "cell_type": "code",
   "execution_count": 40,
   "id": "3f98039e-424f-4dce-b238-0ff8b79cfd4b",
   "metadata": {},
   "outputs": [
    {
     "data": {
      "text/plain": [
       "<npc.Array shape=(2, 2, 2, 2) labels=['wL', 'wR', 'p', 'p*']>"
      ]
     },
     "execution_count": 40,
     "metadata": {},
     "output_type": "execute_result"
    }
   ],
   "source": [
    "test_mpo.get_W(5)"
   ]
  },
  {
   "cell_type": "markdown",
   "id": "5cf93aa9-9744-4a79-aef4-1f77da229ce4",
   "metadata": {},
   "source": [
    "# Tests\n",
    "## Projector test"
   ]
  },
  {
   "cell_type": "markdown",
   "id": "f0e4dbb2-c538-4102-88c4-0c2f5afd42fe",
   "metadata": {},
   "source": [
    "Define rdms."
   ]
  },
  {
   "cell_type": "code",
   "execution_count": 45,
   "id": "716ce5b7-62fb-4ff9-80d7-af5bd339e9e6",
   "metadata": {},
   "outputs": [],
   "source": [
    "def get_left_environment(psi, index):\n",
    "    left_leg = psi.get_B(index).legs[0]\n",
    "    SL = npc.diag(psi.get_SL(index), left_leg, labels = ['vL', 'vR'])\n",
    "\n",
    "    # Schmidt values should all be real, so conjugate not really necessary here\n",
    "    left_environment = (\n",
    "        npc.tensordot(SL, SL.conj(), (['vL',], ['vL*',]))\n",
    "    )\n",
    "\n",
    "    return left_environment"
   ]
  },
  {
   "cell_type": "code",
   "execution_count": 49,
   "id": "65286afe-ba51-4319-8468-61ecb8b69c36",
   "metadata": {},
   "outputs": [],
   "source": [
    "def extract_rdm(psi, left_site_index, num_sites):\n",
    "    t = get_left_environment(psi, left_site_index)\n",
    "\n",
    "    sites = range(left_site_index, left_site_index + num_sites)\n",
    "    for i, site_index in enumerate(sites):\n",
    "        b = psi.get_B(site_index)\n",
    "        b = b.replace_label('p', f'p{i}')\n",
    "        \n",
    "        t = npc.tensordot(t, b, [['vR',], ['vL',]])\n",
    "        t = npc.tensordot(t, b.conj(), [['vR*',], ['vL*',]])\n",
    "    \n",
    "    t = npc.trace(t, 'vR', 'vR*')\n",
    "\n",
    "    return t"
   ]
  },
  {
   "cell_type": "code",
   "execution_count": 64,
   "id": "7dc924d3-f94a-4ecb-81ca-371d8cd20f7b",
   "metadata": {},
   "outputs": [],
   "source": [
    "def contract_mpo_rdm(rdm, mpo):\n",
    "    num_sites = mpo.L\n",
    "    \n",
    "    w = mpo.get_W(0).take_slice([mpo.get_IdL(0)], ['wL'])\n",
    "    t = npc.tensordot(rdm, w, [['p0*', 'p0'], ['p', 'p*']])\n",
    "\n",
    "    for i in range(1, num_sites):\n",
    "        w = mpo.get_W(i)\n",
    "        t = npc.tensordot(t, w, [[f'p{i}', f'p{i}*', 'wR'], ['p*', 'p', 'wL']])\n",
    "    \n",
    "    t = t[mpo.get_IdR(num_sites-1)]\n",
    "\n",
    "    return t"
   ]
  },
  {
   "cell_type": "code",
   "execution_count": 65,
   "id": "37fbf769-b125-4b1b-b000-4b4df200a03b",
   "metadata": {},
   "outputs": [],
   "source": [
    "left_site_index = 98\n",
    "num_sites = 6\n",
    "\n",
    "exps = dict()\n",
    "\n",
    "iter_quads = zip(\n",
    "    [True, False],\n",
    "    n1_pairs,\n",
    "    [True, False],\n",
    "    n1_pairs\n",
    ")\n",
    "    \n",
    "\n",
    "for data_pr, data_n1 in product([True, False], n1_pairs):\n",
    "    psi = loaded_data[(data_pr, data_n1)]\n",
    "    rdm = extract_rdm(psi, left_site_index, num_sites)\n",
    "    \n",
    "    \n",
    "    for model_pr, model_n1 in product([True, False], n1_pairs):\n",
    "        mpo = mpos[(model_pr, model_n1)]\n",
    "\n",
    "        exp = contract_mpo_rdm(rdm, mpo)\n",
    "        \n",
    "        exps[(data_pr, data_n1, model_pr, model_n1)] = exp"
   ]
  },
  {
   "cell_type": "code",
   "execution_count": 66,
   "id": "3827f9ed-31a0-4a9f-a676-ef19d365224a",
   "metadata": {},
   "outputs": [
    {
     "data": {
      "text/plain": [
       "{(True, (0, 0), True, (0, 0)): -1.0000000000000002,\n",
       " (True, (0, 0), True, (0, 1)): -0.1249999999999977,\n",
       " (True, (0, 0), True, (1, 0)): -0.12500000000000255,\n",
       " (True, (0, 0), True, (1, 1)): -0.12499999999999759,\n",
       " (True, (0, 0), False, (0, 0)): -0.25,\n",
       " (True, (0, 0), False, (0, 1)): -0.1249999999999977,\n",
       " (True, (0, 0), False, (1, 0)): -0.12500000000000255,\n",
       " (True, (0, 0), False, (1, 1)): -0.12499999999999759,\n",
       " (True, (0, 1), True, (0, 0)): -0.1250000000000015,\n",
       " (True, (0, 1), True, (0, 1)): -1.0000000000000007,\n",
       " (True, (0, 1), True, (1, 0)): -0.2031250000000001,\n",
       " (True, (0, 1), True, (1, 1)): -0.2031249999999999,\n",
       " (True, (0, 1), False, (0, 0)): -0.12500000000000133,\n",
       " (True, (0, 1), False, (0, 1)): -0.24999999999999992,\n",
       " (True, (0, 1), False, (1, 0)): -0.20312500000000014,\n",
       " (True, (0, 1), False, (1, 1)): -0.20312499999999986,\n",
       " (True, (1, 0), True, (0, 0)): -0.12499999999999638,\n",
       " (True, (1, 0), True, (0, 1)): -0.20312500000000172,\n",
       " (True, (1, 0), True, (1, 0)): -0.9999999999999989,\n",
       " (True, (1, 0), True, (1, 1)): -0.20312500000000183,\n",
       " (True, (1, 0), False, (0, 0)): -0.12499999999999654,\n",
       " (True, (1, 0), False, (0, 1)): -0.20312500000000147,\n",
       " (True, (1, 0), False, (1, 0)): -0.24999999999999978,\n",
       " (True, (1, 0), False, (1, 1)): -0.20312500000000214,\n",
       " (True, (1, 1), True, (0, 0)): -0.1250000000000129,\n",
       " (True, (1, 1), True, (0, 1)): -0.20312499999999384,\n",
       " (True, (1, 1), True, (1, 0)): -0.20312499999999395,\n",
       " (True, (1, 1), True, (1, 1)): -0.9999999999999992,\n",
       " (True, (1, 1), False, (0, 0)): -0.12500000000001296,\n",
       " (True, (1, 1), False, (0, 1)): -0.2031249999999939,\n",
       " (True, (1, 1), False, (1, 0)): -0.2031249999999939,\n",
       " (True, (1, 1), False, (1, 1)): -0.24999999999999872,\n",
       " (False, (0, 0), True, (0, 0)): -0.25,\n",
       " (False, (0, 0), True, (0, 1)): -0.12500000000000003,\n",
       " (False, (0, 0), True, (1, 0)): -0.12500000000000006,\n",
       " (False, (0, 0), True, (1, 1)): -0.12500000000000006,\n",
       " (False, (0, 0), False, (0, 0)): -1.0000000000000002,\n",
       " (False, (0, 0), False, (0, 1)): -0.12500000000000003,\n",
       " (False, (0, 0), False, (1, 0)): -0.12500000000000006,\n",
       " (False, (0, 0), False, (1, 1)): -0.12500000000000006,\n",
       " (False, (0, 1), True, (0, 0)): -0.125000000000001,\n",
       " (False, (0, 1), True, (0, 1)): -0.2499999999999999,\n",
       " (False, (0, 1), True, (1, 0)): -0.20312499999999944,\n",
       " (False, (0, 1), True, (1, 1)): -0.20312499999999944,\n",
       " (False, (0, 1), False, (0, 0)): -0.12500000000000017,\n",
       " (False, (0, 1), False, (0, 1)): -0.9999999999999998,\n",
       " (False, (0, 1), False, (1, 0)): -0.20312499999999817,\n",
       " (False, (0, 1), False, (1, 1)): -0.20312499999999822,\n",
       " (False, (1, 0), True, (0, 0)): -0.1250000000000045,\n",
       " (False, (1, 0), True, (0, 1)): -0.20312499999999856,\n",
       " (False, (1, 0), True, (1, 0)): -0.25,\n",
       " (False, (1, 0), True, (1, 1)): -0.20312499999999856,\n",
       " (False, (1, 0), False, (0, 0)): -0.12500000000000666,\n",
       " (False, (1, 0), False, (0, 1)): -0.20312500000000172,\n",
       " (False, (1, 0), False, (1, 0)): -0.9999999999999999,\n",
       " (False, (1, 0), False, (1, 1)): -0.20312500000000172,\n",
       " (False, (1, 1), True, (0, 0)): -0.12499999999999861,\n",
       " (False, (1, 1), True, (0, 1)): -0.20312500000000033,\n",
       " (False, (1, 1), True, (1, 0)): -0.20312500000000033,\n",
       " (False, (1, 1), True, (1, 1)): -0.24999999999999997,\n",
       " (False, (1, 1), False, (0, 0)): -0.12499999999999722,\n",
       " (False, (1, 1), False, (0, 1)): -0.20312499999999822,\n",
       " (False, (1, 1), False, (1, 0)): -0.20312499999999822,\n",
       " (False, (1, 1), False, (1, 1)): -0.9999999999999998}"
      ]
     },
     "execution_count": 66,
     "metadata": {},
     "output_type": "execute_result"
    }
   ],
   "source": [
    "exps"
   ]
  },
  {
   "cell_type": "markdown",
   "id": "9a6b1c52-5d87-4e4a-9a0d-24e7957afe16",
   "metadata": {},
   "source": [
    "Passes the test."
   ]
  },
  {
   "cell_type": "markdown",
   "id": "072d12b3-3bcc-4a34-85dc-3b799f4f2db5",
   "metadata": {},
   "source": [
    "## Fermion Expectation values"
   ]
  },
  {
   "cell_type": "code",
   "execution_count": 82,
   "id": "e102165b-dc85-404a-bf5c-b9c3094bb959",
   "metadata": {},
   "outputs": [],
   "source": [
    "test_psi = loaded_data[(False, (0, 1))]"
   ]
  },
  {
   "cell_type": "code",
   "execution_count": 84,
   "id": "1d774d40-f046-4ec1-92f8-44989b82af3c",
   "metadata": {},
   "outputs": [
    {
     "data": {
      "text/plain": [
       "array(3.14109075e-18)"
      ]
     },
     "execution_count": 84,
     "metadata": {},
     "output_type": "execute_result"
    }
   ],
   "source": [
    "test_psi.expectation_value_multi_sites([\"map_0_0\", 'N', \"map_0_0\"], 100)"
   ]
  },
  {
   "cell_type": "code",
   "execution_count": 103,
   "id": "d01f93cd-d310-43a4-81ec-9bbc9f9e8cf9",
   "metadata": {},
   "outputs": [],
   "source": [
    "fermion_exps = dict()\n",
    "\n",
    "for data_pr, data_n1 in product([True, False], n1_pairs):\n",
    "    for i_left in range(4): \n",
    "        for i_right in range(4):\n",
    "            psi = loaded_data[(data_pr, data_n1)]\n",
    "            exp = psi.expectation_value_multi_sites(\n",
    "                [f\"map_{i_left}_{i_left}\", 'N', f\"map_{i_right}_{i_right}\"], 100\n",
    "            )\n",
    "            \n",
    "            fermion_exps[(data_pr, data_n1, i_left, i_right)] = exp[()]"
   ]
  },
  {
   "cell_type": "code",
   "execution_count": 104,
   "id": "3a433a0d-9766-4aed-b244-791f75a5098a",
   "metadata": {},
   "outputs": [
    {
     "data": {
      "text/plain": [
       "0.0625"
      ]
     },
     "execution_count": 104,
     "metadata": {},
     "output_type": "execute_result"
    }
   ],
   "source": [
    "1/16"
   ]
  },
  {
   "cell_type": "code",
   "execution_count": 105,
   "id": "5f283cd4-4a38-42e3-acea-486e9c48e16d",
   "metadata": {},
   "outputs": [
    {
     "data": {
      "text/plain": [
       "{(True, (0, 0), 0, 0): 5.447454590821024e-35,\n",
       " (True, (0, 0), 0, 1): 7.107522494590287e-34,\n",
       " (True, (0, 0), 0, 2): 1.8743101355994978e-35,\n",
       " (True, (0, 0), 0, 3): 4.922238057817101e-34,\n",
       " (True, (0, 0), 1, 0): 2.434766822599829e-36,\n",
       " (True, (0, 0), 1, 1): 2.91162669233076e-35,\n",
       " (True, (0, 0), 1, 2): 8.95438819601565e-36,\n",
       " (True, (0, 0), 1, 3): 6.964574111267624e-35,\n",
       " (True, (0, 0), 2, 0): 2.00715168843113e-34,\n",
       " (True, (0, 0), 2, 1): 2.1945365270782734e-33,\n",
       " (True, (0, 0), 2, 2): 7.291112748429983e-34,\n",
       " (True, (0, 0), 2, 3): 8.293618197159041e-35,\n",
       " (True, (0, 0), 3, 0): 6.448251497763532e-35,\n",
       " (True, (0, 0), 3, 1): 9.827481496135187e-34,\n",
       " (True, (0, 0), 3, 2): 1.3011328614695881e-34,\n",
       " (True, (0, 0), 3, 3): 6.329481910407371e-34,\n",
       " (True, (0, 1), 0, 0): -1.6182250114375938e-18,\n",
       " (True, (0, 1), 0, 1): 2.821131991091816e-18,\n",
       " (True, (0, 1), 0, 2): 0.06250000000000211,\n",
       " (True, (0, 1), 0, 3): 0.06250000000000305,\n",
       " (True, (0, 1), 1, 0): 2.94993632129426e-18,\n",
       " (True, (0, 1), 1, 1): 8.447595814589442e-19,\n",
       " (True, (0, 1), 1, 2): 0.06250000000000623,\n",
       " (True, (0, 1), 1, 3): 0.06250000000000577,\n",
       " (True, (0, 1), 2, 0): 0.06249999999999793,\n",
       " (True, (0, 1), 2, 1): 0.062499999999996406,\n",
       " (True, (0, 1), 2, 2): -2.4052043370019947e-20,\n",
       " (True, (0, 1), 2, 3): 4.650663438032513e-19,\n",
       " (True, (0, 1), 3, 0): 0.062499999999995746,\n",
       " (True, (0, 1), 3, 1): 0.06249999999999445,\n",
       " (True, (0, 1), 3, 2): -1.3879706135638e-18,\n",
       " (True, (0, 1), 3, 3): -1.1209547040044921e-18,\n",
       " (True, (1, 0), 0, 0): 1.661309826315381e-19,\n",
       " (True, (1, 0), 0, 1): 0.06249999999999688,\n",
       " (True, (1, 0), 0, 2): 1.6708491189492933e-19,\n",
       " (True, (1, 0), 0, 3): 0.06250000000000001,\n",
       " (True, (1, 0), 1, 0): 0.06250000000000845,\n",
       " (True, (1, 0), 1, 1): -2.252153600384411e-19,\n",
       " (True, (1, 0), 1, 2): 0.062499999999999264,\n",
       " (True, (1, 0), 1, 3): -5.068372419412244e-20,\n",
       " (True, (1, 0), 2, 0): 7.825453350052311e-20,\n",
       " (True, (1, 0), 2, 1): 0.06249999999998945,\n",
       " (True, (1, 0), 2, 2): 1.2767214934171123e-20,\n",
       " (True, (1, 0), 2, 3): 0.06249999999999283,\n",
       " (True, (1, 0), 3, 0): 0.06250000000000633,\n",
       " (True, (1, 0), 3, 1): -2.553564970769961e-20,\n",
       " (True, (1, 0), 3, 2): 0.06249999999999714,\n",
       " (True, (1, 0), 3, 3): -2.983208764613449e-20,\n",
       " (True, (1, 1), 0, 0): -5.494541941705305e-21,\n",
       " (True, (1, 1), 0, 1): 0.06249999999999945,\n",
       " (True, (1, 1), 0, 2): 0.062499999999986816,\n",
       " (True, (1, 1), 0, 3): -1.5094461783845666e-21,\n",
       " (True, (1, 1), 1, 0): 0.06250000000000132,\n",
       " (True, (1, 1), 1, 1): -6.40282004293325e-22,\n",
       " (True, (1, 1), 1, 2): 1.7053780494594673e-20,\n",
       " (True, (1, 1), 1, 3): 0.06250000000000268,\n",
       " (True, (1, 1), 2, 0): 0.06250000000000133,\n",
       " (True, (1, 1), 2, 1): -1.894825815581144e-20,\n",
       " (True, (1, 1), 2, 2): -5.188309638587187e-20,\n",
       " (True, (1, 1), 2, 3): 0.06250000000000186,\n",
       " (True, (1, 1), 3, 0): -1.401338496039407e-20,\n",
       " (True, (1, 1), 3, 1): 0.062499999999988745,\n",
       " (True, (1, 1), 3, 2): 0.062499999999976234,\n",
       " (True, (1, 1), 3, 3): -8.751705615935268e-20,\n",
       " (False, (0, 0), 0, 0): 0.0,\n",
       " (False, (0, 0), 0, 1): 0.0,\n",
       " (False, (0, 0), 0, 2): 0.0,\n",
       " (False, (0, 0), 0, 3): 0.0,\n",
       " (False, (0, 0), 1, 0): 0.0,\n",
       " (False, (0, 0), 1, 1): 0.0,\n",
       " (False, (0, 0), 1, 2): 0.0,\n",
       " (False, (0, 0), 1, 3): 0.0,\n",
       " (False, (0, 0), 2, 0): 0.0,\n",
       " (False, (0, 0), 2, 1): 0.0,\n",
       " (False, (0, 0), 2, 2): 0.0,\n",
       " (False, (0, 0), 2, 3): 0.0,\n",
       " (False, (0, 0), 3, 0): 0.0,\n",
       " (False, (0, 0), 3, 1): 0.0,\n",
       " (False, (0, 0), 3, 2): 0.0,\n",
       " (False, (0, 0), 3, 3): 0.0,\n",
       " (False, (0, 1), 0, 0): 3.1410907520771425e-18,\n",
       " (False, (0, 1), 0, 1): 3.438406872109409e-18,\n",
       " (False, (0, 1), 0, 2): 0.06250000000000797,\n",
       " (False, (0, 1), 0, 3): 0.06250000000000734,\n",
       " (False, (0, 1), 1, 0): 2.338381150486217e-18,\n",
       " (False, (0, 1), 1, 1): 9.477361987264538e-19,\n",
       " (False, (0, 1), 1, 2): 0.06250000000000586,\n",
       " (False, (0, 1), 1, 3): 0.06250000000000522,\n",
       " (False, (0, 1), 2, 0): 0.06249999999998972,\n",
       " (False, (0, 1), 2, 1): 0.06249999999999418,\n",
       " (False, (0, 1), 2, 2): 4.507807025616038e-18,\n",
       " (False, (0, 1), 2, 3): 3.9244346104443884e-18,\n",
       " (False, (0, 1), 3, 0): 0.06249999999998998,\n",
       " (False, (0, 1), 3, 1): 0.06249999999999444,\n",
       " (False, (0, 1), 3, 2): -5.7014343474026645e-19,\n",
       " (False, (0, 1), 3, 3): -1.1535158499120063e-18,\n",
       " (False, (1, 0), 0, 0): -8.06456060458277e-19,\n",
       " (False, (1, 0), 0, 1): 0.06249999999999719,\n",
       " (False, (1, 0), 0, 2): -4.0489834655466552e-19,\n",
       " (False, (1, 0), 0, 3): 0.06249999999999707,\n",
       " (False, (1, 0), 1, 0): 0.06249999999999756,\n",
       " (False, (1, 0), 1, 1): 4.831779195249087e-19,\n",
       " (False, (1, 0), 1, 2): 0.06250000000000813,\n",
       " (False, (1, 0), 1, 3): 4.962053136573305e-19,\n",
       " (False, (1, 0), 2, 0): 4.154306272261662e-19,\n",
       " (False, (1, 0), 2, 1): 0.06249999999998738,\n",
       " (False, (1, 0), 2, 2): 8.122780544482235e-19,\n",
       " (False, (1, 0), 2, 3): 0.06249999999998725,\n",
       " (False, (1, 0), 3, 0): 0.0625000000000009,\n",
       " (False, (1, 0), 3, 1): -6.436323354574664e-19,\n",
       " (False, (1, 0), 3, 2): 0.06250000000001146,\n",
       " (False, (1, 0), 3, 3): -4.968338324924365e-19,\n",
       " (False, (1, 1), 0, 0): -5.558297300505018e-19,\n",
       " (False, (1, 1), 0, 1): 0.0624999999999997,\n",
       " (False, (1, 1), 0, 2): 0.06249999999999843,\n",
       " (False, (1, 1), 0, 3): -5.762672167053104e-19,\n",
       " (False, (1, 1), 1, 0): 0.06249999999999651,\n",
       " (False, (1, 1), 1, 1): 2.13355743483601e-18,\n",
       " (False, (1, 1), 1, 2): 2.1279050295403402e-18,\n",
       " (False, (1, 1), 1, 3): 0.062499999999999806,\n",
       " (False, (1, 1), 2, 0): 0.062499999999998286,\n",
       " (False, (1, 1), 2, 1): 4.376177549880898e-19,\n",
       " (False, (1, 1), 2, 2): 4.236471238848177e-19,\n",
       " (False, (1, 1), 2, 3): 0.06250000000000158,\n",
       " (False, (1, 1), 3, 0): 1.2325093667658936e-18,\n",
       " (False, (1, 1), 3, 1): 0.06250000000000282,\n",
       " (False, (1, 1), 3, 2): 0.06250000000000155,\n",
       " (False, (1, 1), 3, 3): 1.220390105884857e-18}"
      ]
     },
     "execution_count": 105,
     "metadata": {},
     "output_type": "execute_result"
    }
   ],
   "source": [
    "fermion_exps"
   ]
  },
  {
   "cell_type": "code",
   "execution_count": 107,
   "id": "b1a2ec88-0e67-4d22-ab2e-1362ee4e4e8f",
   "metadata": {},
   "outputs": [
    {
     "data": {
      "text/plain": [
       "[0.06250000000000211,\n",
       " 0.06250000000000305,\n",
       " 0.06250000000000623,\n",
       " 0.06250000000000577,\n",
       " 0.06249999999999793,\n",
       " 0.062499999999996406,\n",
       " 0.062499999999995746,\n",
       " 0.06249999999999445,\n",
       " 0.06249999999999688,\n",
       " 0.06250000000000001,\n",
       " 0.06250000000000845,\n",
       " 0.062499999999999264,\n",
       " 0.06249999999998945,\n",
       " 0.06249999999999283,\n",
       " 0.06250000000000633,\n",
       " 0.06249999999999714,\n",
       " 0.06249999999999945,\n",
       " 0.062499999999986816,\n",
       " 0.06250000000000132,\n",
       " 0.06250000000000268,\n",
       " 0.06250000000000133,\n",
       " 0.06250000000000186,\n",
       " 0.062499999999988745,\n",
       " 0.062499999999976234,\n",
       " 0.06250000000000797,\n",
       " 0.06250000000000734,\n",
       " 0.06250000000000586,\n",
       " 0.06250000000000522,\n",
       " 0.06249999999998972,\n",
       " 0.06249999999999418,\n",
       " 0.06249999999998998,\n",
       " 0.06249999999999444,\n",
       " 0.06249999999999719,\n",
       " 0.06249999999999707,\n",
       " 0.06249999999999756,\n",
       " 0.06250000000000813,\n",
       " 0.06249999999998738,\n",
       " 0.06249999999998725,\n",
       " 0.0625000000000009,\n",
       " 0.06250000000001146,\n",
       " 0.0624999999999997,\n",
       " 0.06249999999999843,\n",
       " 0.06249999999999651,\n",
       " 0.062499999999999806,\n",
       " 0.062499999999998286,\n",
       " 0.06250000000000158,\n",
       " 0.06250000000000282,\n",
       " 0.06250000000000155]"
      ]
     },
     "execution_count": 107,
     "metadata": {},
     "output_type": "execute_result"
    }
   ],
   "source": [
    "[\n",
    "    v\n",
    "    for k, v in fermion_exps.items()\n",
    "    if v > 0.01\n",
    "]"
   ]
  },
  {
   "cell_type": "code",
   "execution_count": 106,
   "id": "dd5dde39-3d69-4f88-a498-7e3f9181c211",
   "metadata": {},
   "outputs": [
    {
     "data": {
      "text/plain": [
       "[(True, (0, 1), 0, 2),\n",
       " (True, (0, 1), 0, 3),\n",
       " (True, (0, 1), 1, 2),\n",
       " (True, (0, 1), 1, 3),\n",
       " (True, (0, 1), 2, 0),\n",
       " (True, (0, 1), 2, 1),\n",
       " (True, (0, 1), 3, 0),\n",
       " (True, (0, 1), 3, 1),\n",
       " (True, (1, 0), 0, 1),\n",
       " (True, (1, 0), 0, 3),\n",
       " (True, (1, 0), 1, 0),\n",
       " (True, (1, 0), 1, 2),\n",
       " (True, (1, 0), 2, 1),\n",
       " (True, (1, 0), 2, 3),\n",
       " (True, (1, 0), 3, 0),\n",
       " (True, (1, 0), 3, 2),\n",
       " (True, (1, 1), 0, 1),\n",
       " (True, (1, 1), 0, 2),\n",
       " (True, (1, 1), 1, 0),\n",
       " (True, (1, 1), 1, 3),\n",
       " (True, (1, 1), 2, 0),\n",
       " (True, (1, 1), 2, 3),\n",
       " (True, (1, 1), 3, 1),\n",
       " (True, (1, 1), 3, 2),\n",
       " (False, (0, 1), 0, 2),\n",
       " (False, (0, 1), 0, 3),\n",
       " (False, (0, 1), 1, 2),\n",
       " (False, (0, 1), 1, 3),\n",
       " (False, (0, 1), 2, 0),\n",
       " (False, (0, 1), 2, 1),\n",
       " (False, (0, 1), 3, 0),\n",
       " (False, (0, 1), 3, 1),\n",
       " (False, (1, 0), 0, 1),\n",
       " (False, (1, 0), 0, 3),\n",
       " (False, (1, 0), 1, 0),\n",
       " (False, (1, 0), 1, 2),\n",
       " (False, (1, 0), 2, 1),\n",
       " (False, (1, 0), 2, 3),\n",
       " (False, (1, 0), 3, 0),\n",
       " (False, (1, 0), 3, 2),\n",
       " (False, (1, 1), 0, 1),\n",
       " (False, (1, 1), 0, 2),\n",
       " (False, (1, 1), 1, 0),\n",
       " (False, (1, 1), 1, 3),\n",
       " (False, (1, 1), 2, 0),\n",
       " (False, (1, 1), 2, 3),\n",
       " (False, (1, 1), 3, 1),\n",
       " (False, (1, 1), 3, 2)]"
      ]
     },
     "execution_count": 106,
     "metadata": {},
     "output_type": "execute_result"
    }
   ],
   "source": [
    "[\n",
    "    k\n",
    "    for k, v in fermion_exps.items()\n",
    "    if v > 0.01\n",
    "]"
   ]
  },
  {
   "cell_type": "markdown",
   "id": "c4c44b51-3aa9-43fe-979a-574781d909bd",
   "metadata": {},
   "source": [
    "Looks good."
   ]
  },
  {
   "cell_type": "markdown",
   "id": "f0d29ecd-6344-4224-98f4-c2c9739cf441",
   "metadata": {},
   "source": [
    "## Identity Boundary operators"
   ]
  },
  {
   "cell_type": "code",
   "execution_count": 69,
   "id": "ac19b501-4293-4d08-8bb0-35515cd6a093",
   "metadata": {},
   "outputs": [],
   "source": [
    "cases = dict()\n",
    "\n",
    "for k, psi in loaded_data.items():\n",
    "\n",
    "    for i, l in enumerate(symmetry_actions):\n",
    "\n",
    "        for j, s in enumerate(l):\n",
    "            case = SymmetryActionWithBoundaryUnitaries(\n",
    "                psi,\n",
    "                s*50,\n",
    "                left_symmetry_index=50,\n",
    "                left_boundary_unitaries=[np_I, np_00]*1,\n",
    "                right_boundary_unitaries=[np_00, np_I, np_00]*1\n",
    "            )\n",
    "\n",
    "            cases[(*k, i, j)] = case"
   ]
  },
  {
   "cell_type": "code",
   "execution_count": 72,
   "id": "8e7ff810-32b3-4163-9b1b-ca96a282a7f5",
   "metadata": {},
   "outputs": [],
   "source": [
    "for c in cases.values():\n",
    "    c.compute_svd_approximate_expectation()"
   ]
  },
  {
   "cell_type": "code",
   "execution_count": 78,
   "id": "6023d4de-1220-437e-b33d-d0332da0e5db",
   "metadata": {},
   "outputs": [],
   "source": [
    "right_exps = {\n",
    "    k: round(np.abs(v.right_expectation), 1)\n",
    "    for k, v in cases.items()\n",
    "}"
   ]
  },
  {
   "cell_type": "code",
   "execution_count": 81,
   "id": "69f4950f-a591-4c46-b247-b3904c1d56c2",
   "metadata": {},
   "outputs": [
    {
     "data": {
      "text/plain": [
       "{(False, (1, 1), 0, 0): 1.4,\n",
       " (False, (1, 1), 0, 1): 0.0,\n",
       " (False, (1, 1), 0, 2): 0.0,\n",
       " (False, (1, 1), 0, 3): 1.4,\n",
       " (False, (1, 1), 1, 0): 0.0,\n",
       " (False, (1, 1), 1, 1): 0.0,\n",
       " (False, (1, 1), 1, 2): 0.0,\n",
       " (False, (1, 1), 1, 3): 0.0,\n",
       " (False, (0, 1), 0, 0): 1.4,\n",
       " (False, (0, 1), 0, 1): 1.4,\n",
       " (False, (0, 1), 0, 2): 0.0,\n",
       " (False, (0, 1), 0, 3): 0.0,\n",
       " (False, (0, 1), 1, 0): 0.0,\n",
       " (False, (0, 1), 1, 1): 0.0,\n",
       " (False, (0, 1), 1, 2): 0.0,\n",
       " (False, (0, 1), 1, 3): 0.0,\n",
       " (False, (1, 0), 0, 0): 1.4,\n",
       " (False, (1, 0), 0, 1): 0.0,\n",
       " (False, (1, 0), 0, 2): 1.4,\n",
       " (False, (1, 0), 0, 3): 0.0,\n",
       " (False, (1, 0), 1, 0): 0.0,\n",
       " (False, (1, 0), 1, 1): 0.0,\n",
       " (False, (1, 0), 1, 2): 0.0,\n",
       " (False, (1, 0), 1, 3): 0.0,\n",
       " (False, (0, 0), 0, 0): 1.0,\n",
       " (False, (0, 0), 0, 1): 1.0,\n",
       " (False, (0, 0), 0, 2): 1.0,\n",
       " (False, (0, 0), 0, 3): 1.0,\n",
       " (False, (0, 0), 1, 0): 1.0,\n",
       " (False, (0, 0), 1, 1): 1.0,\n",
       " (False, (0, 0), 1, 2): 1.0,\n",
       " (False, (0, 0), 1, 3): 1.0}"
      ]
     },
     "execution_count": 81,
     "metadata": {},
     "output_type": "execute_result"
    }
   ],
   "source": [
    "{\n",
    "    k: v for k, v in right_exps.items()\n",
    "    if not k[0]\n",
    "}"
   ]
  },
  {
   "cell_type": "markdown",
   "id": "cf5ecbd1-439f-45dd-a866-3b796a8ba1f0",
   "metadata": {},
   "source": [
    "## Theoretical solution boundary operators"
   ]
  },
  {
   "cell_type": "code",
   "execution_count": 109,
   "id": "0c1d8aa9-70b8-4c95-a973-c9ea0970290c",
   "metadata": {},
   "outputs": [
    {
     "data": {
      "text/plain": [
       "<npc.Array shape=(4, 4, 2, 2, 4, 4, 2, 2, 4, 4, 2, 2) labels=['p0', 'p0*', 'p1', 'p1*', 'p2', 'p2*', 'p3', 'p3*', 'p4', 'p4*', 'p5', 'p5*']>"
      ]
     },
     "execution_count": 109,
     "metadata": {},
     "output_type": "execute_result"
    }
   ],
   "source": [
    "rdm"
   ]
  },
  {
   "cell_type": "code",
   "execution_count": 111,
   "id": "7b8babcd-4942-4168-ba35-f51595dfe294",
   "metadata": {},
   "outputs": [],
   "source": [
    "fermion_operators = {\n",
    "    (0, 0): np_I,\n",
    "    (1, 0): np_c_minus,\n",
    "    (0, 1): np_c_plus,\n",
    "    (1, 1): np_I\n",
    "}"
   ]
  },
  {
   "cell_type": "code",
   "execution_count": 112,
   "id": "6a1b3264-f578-4b67-9f58-465525f46246",
   "metadata": {},
   "outputs": [],
   "source": [
    "def boundary_operator_fermion_component(n1_func, g_left, g_right, g_sym):\n",
    "    before_n = n1_func(g_left, g_right)\n",
    "    after_n = n1_func(mod_4_to_bit_addition(g_left, g_sym), g_right)\n",
    "    \n",
    "    out = fermion_operators[(before_n, after_n)]\n",
    "\n",
    "    return out"
   ]
  },
  {
   "cell_type": "code",
   "execution_count": 113,
   "id": "c1d51e25-8035-4d97-8c5e-a4c7a45eb619",
   "metadata": {},
   "outputs": [],
   "source": [
    "def np_tensor_product(X, Y):\n",
    "    out = (\n",
    "        X[(...,) + (np.newaxis,)*len(Y.shape)]\n",
    "        *Y[(np.newaxis,)*len(X.shape) + (...,)]\n",
    "    )\n",
    "\n",
    "    return out"
   ]
  },
  {
   "cell_type": "code",
   "execution_count": 119,
   "id": "cf3bfcf9-ff01-47c2-889b-62832ff3940c",
   "metadata": {},
   "outputs": [],
   "source": [
    "test_rdm = extract_rdm(loaded_data[(False, (0, 0))], 100, 3)"
   ]
  },
  {
   "cell_type": "code",
   "execution_count": 120,
   "id": "790c007e-1924-4cd5-bfdd-d5d738a77dd9",
   "metadata": {},
   "outputs": [
    {
     "data": {
      "text/plain": [
       "<npc.Array shape=(4, 4, 2, 2, 4, 4) labels=['p0', 'p0*', 'p1', 'p1*', 'p2', 'p2*']>"
      ]
     },
     "execution_count": 120,
     "metadata": {},
     "output_type": "execute_result"
    }
   ],
   "source": [
    "test_rdm"
   ]
  },
  {
   "cell_type": "code",
   "execution_count": 126,
   "id": "3e0b4dd5-994b-4c51-883f-20693b231152",
   "metadata": {},
   "outputs": [],
   "source": [
    "leg_labels = ['p0', 'p0*', 'p1', 'p1*', 'p2', 'p2*']\n",
    "leg_charges = [\n",
    "    test_rdm.split_legs().get_leg(l)\n",
    "    for l in leg_labels\n",
    "]"
   ]
  },
  {
   "cell_type": "code",
   "execution_count": 127,
   "id": "9baf8d51-e417-4080-8057-600dfe8b6c05",
   "metadata": {},
   "outputs": [],
   "source": [
    "def predicted_boundary_operator(n1_func, g_sym):\n",
    "    np_arrays = list()\n",
    "\n",
    "    for g_left, g_right in product(range(4), repeat=2):\n",
    "        X_left = np.zeros((4,4))\n",
    "        X_left[g_left, g_left] = 1\n",
    "        \n",
    "        X_right = np.zeros((4,4))\n",
    "        X_right[g_right, g_right] = 1\n",
    "    \n",
    "        X_fermion = boundary_operator_fermion_component(\n",
    "            n1_func, g_left, g_right, g_sym\n",
    "        )\n",
    "\n",
    "        X = np_tensor_product(X_left, X_fermion)\n",
    "        X = np_tensor_product(X, X_right)\n",
    "    \n",
    "        np_arrays.append(X)\n",
    "\n",
    "    X = sum(np_arrays)\n",
    "    X = X.astype(np.complex128)\n",
    "\n",
    "    npc_X = npc.Array.from_ndarray(\n",
    "        X,\n",
    "        leg_charges,\n",
    "        dtype=np.complex128,\n",
    "        labels=leg_labels\n",
    "    )\n",
    "\n",
    "    return npc_X"
   ]
  },
  {
   "cell_type": "code",
   "execution_count": 128,
   "id": "ada349e5-f031-4592-8275-118fa86cc7fc",
   "metadata": {},
   "outputs": [],
   "source": [
    "predicted_boundary_operators = dict()\n",
    "\n",
    "for n1_pair in n1_pairs:\n",
    "    for g_sym in range(4):\n",
    "        n1_func = get_n1_func(*n1_pair)\n",
    "        op = predicted_boundary_operator(n1_func, g_sym)\n",
    "        predicted_boundary_operators[(n1_pair, g_sym)] = op"
   ]
  },
  {
   "cell_type": "code",
   "execution_count": 130,
   "id": "df886c37-f5ce-4cf0-9d5b-1676c3460114",
   "metadata": {},
   "outputs": [
    {
     "data": {
      "text/plain": [
       "<npc.Array shape=(4, 4, 2, 2, 4, 4) labels=['p0', 'p0*', 'p1', 'p1*', 'p2', 'p2*']>"
      ]
     },
     "execution_count": 130,
     "metadata": {},
     "output_type": "execute_result"
    }
   ],
   "source": [
    "predicted_boundary_operators[((0, 0), 1)]"
   ]
  },
  {
   "cell_type": "code",
   "execution_count": 136,
   "id": "ea12ec63-7d82-481c-b248-dedba2fb1383",
   "metadata": {},
   "outputs": [],
   "source": [
    "test_case = list(cases.values())[0]"
   ]
  },
  {
   "cell_type": "code",
   "execution_count": 138,
   "id": "81d848ec-9200-42aa-8eb1-44f3b28b14a7",
   "metadata": {},
   "outputs": [
    {
     "data": {
      "text/plain": [
       "<npc.Array shape=(2, 2) labels=['vR', 'vR*']>"
      ]
     },
     "execution_count": 138,
     "metadata": {},
     "output_type": "execute_result"
    }
   ],
   "source": [
    "test_case.right_symmetry_index"
   ]
  },
  {
   "cell_type": "code",
   "execution_count": 148,
   "id": "fc7dc59e-8e48-4e44-8777-c73d33807d38",
   "metadata": {},
   "outputs": [],
   "source": [
    "def extract_right_rdm(case, num_sites):\n",
    "    t = case.right_projected_symmetry_state\n",
    "    psi = case.psi\n",
    "\n",
    "    right_symmetry_index = test_case.right_symmetry_index + 1\n",
    "    sites = range(right_symmetry_index, right_symmetry_index + num_sites)\n",
    "    for i, site_index in enumerate(sites):\n",
    "        b = psi.get_B(site_index)\n",
    "        b = b.replace_label('p', f'p{i}')\n",
    "        \n",
    "        t = npc.tensordot(t, b, [['vR',], ['vL',]])\n",
    "        t = npc.tensordot(t, b.conj(), [['vR*',], ['vL*',]])\n",
    "    \n",
    "    t = npc.trace(t, 'vR', 'vR*')\n",
    "\n",
    "    return t"
   ]
  },
  {
   "cell_type": "code",
   "execution_count": 149,
   "id": "721783c0-ef3d-4766-8433-cb852033d993",
   "metadata": {},
   "outputs": [],
   "source": [
    "num_sites = 3\n",
    "\n",
    "predicted_exps = dict()\n",
    "\n",
    "for k, v in cases.items():\n",
    "    pr, n1_pair, jw, g_sym = k\n",
    "\n",
    "    rdm = extract_right_rdm(case, num_sites)\n",
    "    op = predicted_boundary_operators[(n1_pair, g_sym)]\n",
    "\n",
    "    exp = npc.tensordot(\n",
    "        rdm,\n",
    "        op,\n",
    "        [\n",
    "            ['p0', 'p0*', 'p1', 'p1*', 'p2', 'p2*'],\n",
    "            ['p0*', 'p0', 'p1*', 'p1', 'p2*', 'p2'],\n",
    "        ]\n",
    "    )\n",
    "    \n",
    "    predicted_exps[k] = exp"
   ]
  },
  {
   "cell_type": "code",
   "execution_count": 151,
   "id": "9d50f8f6-591f-4bd4-850f-cf315de8f0df",
   "metadata": {},
   "outputs": [
    {
     "data": {
      "text/plain": [
       "{(False, (1, 1), 0, 0): (0.9999999999999998+0j),\n",
       " (False, (1, 1), 0, 1): (-3.053113317719145e-15+0j),\n",
       " (False, (1, 1), 0, 2): (-3.053113317719145e-15+0j),\n",
       " (False, (1, 1), 0, 3): (0.9999999999999998+0j),\n",
       " (False, (1, 1), 1, 0): (0.9999999999999998+0j),\n",
       " (False, (1, 1), 1, 1): (-3.053113317719145e-15+0j),\n",
       " (False, (1, 1), 1, 2): (-3.053113317719145e-15+0j),\n",
       " (False, (1, 1), 1, 3): (0.9999999999999998+0j),\n",
       " (False, (0, 1), 0, 0): (0.9999999999999998+0j),\n",
       " (False, (0, 1), 0, 1): (0.9999999999999998+0j),\n",
       " (False, (0, 1), 0, 2): (-3.053113317719145e-15+0j),\n",
       " (False, (0, 1), 0, 3): (-3.053113317719145e-15+0j),\n",
       " (False, (0, 1), 1, 0): (0.9999999999999998+0j),\n",
       " (False, (0, 1), 1, 1): (0.9999999999999998+0j),\n",
       " (False, (0, 1), 1, 2): (-3.053113317719145e-15+0j),\n",
       " (False, (0, 1), 1, 3): (-3.053113317719145e-15+0j),\n",
       " (False, (1, 0), 0, 0): (0.9999999999999998+0j),\n",
       " (False, (1, 0), 0, 1): (-3.053113317719145e-15+0j),\n",
       " (False, (1, 0), 0, 2): (0.9999999999999998+0j),\n",
       " (False, (1, 0), 0, 3): (-3.053113317719145e-15+0j),\n",
       " (False, (1, 0), 1, 0): (0.9999999999999998+0j),\n",
       " (False, (1, 0), 1, 1): (-3.053113317719145e-15+0j),\n",
       " (False, (1, 0), 1, 2): (0.9999999999999998+0j),\n",
       " (False, (1, 0), 1, 3): (-3.053113317719145e-15+0j),\n",
       " (False, (0, 0), 0, 0): (0.9999999999999998+0j),\n",
       " (False, (0, 0), 0, 1): (0.9999999999999998+0j),\n",
       " (False, (0, 0), 0, 2): (0.9999999999999998+0j),\n",
       " (False, (0, 0), 0, 3): (0.9999999999999998+0j),\n",
       " (False, (0, 0), 1, 0): (0.9999999999999998+0j),\n",
       " (False, (0, 0), 1, 1): (0.9999999999999998+0j),\n",
       " (False, (0, 0), 1, 2): (0.9999999999999998+0j),\n",
       " (False, (0, 0), 1, 3): (0.9999999999999998+0j)}"
      ]
     },
     "execution_count": 151,
     "metadata": {},
     "output_type": "execute_result"
    }
   ],
   "source": [
    "{\n",
    "    k: v\n",
    "    for k, v in predicted_exps.items()\n",
    "    if not k[0]\n",
    "}"
   ]
  },
  {
   "cell_type": "code",
   "execution_count": null,
   "id": "a6ee2c07-60ec-4192-994a-da8aa85b81d5",
   "metadata": {},
   "outputs": [],
   "source": []
  }
 ],
 "metadata": {
  "kernelspec": {
   "display_name": "num_spt_venv_p11",
   "language": "python",
   "name": "num_spt_venv_p11"
  },
  "language_info": {
   "codemirror_mode": {
    "name": "ipython",
    "version": 3
   },
   "file_extension": ".py",
   "mimetype": "text/x-python",
   "name": "python",
   "nbconvert_exporter": "python",
   "pygments_lexer": "ipython3",
   "version": "3.11.9"
  }
 },
 "nbformat": 4,
 "nbformat_minor": 5
}
