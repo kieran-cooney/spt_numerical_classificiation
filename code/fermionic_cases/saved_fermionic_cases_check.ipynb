{
 "cells": [
  {
   "cell_type": "markdown",
   "id": "5f2205a4-2c74-4cf5-9ad1-9d65bd13bed2",
   "metadata": {},
   "source": [
    "# Saved fermioinic cases - check\n",
    "\n",
    "Created 26/02/2025\n",
    "\n",
    "Objectives:\n",
    "* Perform simple checks on calculated spt states."
   ]
  },
  {
   "cell_type": "markdown",
   "id": "9ad0db4d-805c-4403-9d48-c71d523d572f",
   "metadata": {},
   "source": [
    "# Package imports"
   ]
  },
  {
   "cell_type": "code",
   "execution_count": 1,
   "id": "ecb41ea3-927f-4efa-aebe-ce15784aa037",
   "metadata": {},
   "outputs": [],
   "source": [
    "import sys\n",
    "sys.path.append('../')"
   ]
  },
  {
   "cell_type": "code",
   "execution_count": 2,
   "id": "4a525ec6-f0c8-47ee-8b0b-345bf0ef8bd3",
   "metadata": {},
   "outputs": [],
   "source": [
    "import h5py\n",
    "from tenpy.tools import hdf5_io\n",
    "import tenpy\n",
    "import tenpy.linalg.np_conserved as npc\n",
    "\n",
    "from tenpy.models.model import CouplingMPOModel\n",
    "from tenpy.networks.site import ClockSite, FermionSite\n",
    "\n",
    "import os"
   ]
  },
  {
   "cell_type": "code",
   "execution_count": 182,
   "id": "b22092ac-9191-4a2d-b568-8680c3687185",
   "metadata": {},
   "outputs": [],
   "source": [
    "from functools import reduce\n",
    "from operator import mul\n",
    "from itertools import product\n",
    "from collections import defaultdict"
   ]
  },
  {
   "cell_type": "code",
   "execution_count": 4,
   "id": "214f688a-c657-4810-b4d1-b1247deff62c",
   "metadata": {},
   "outputs": [],
   "source": [
    "import numpy as np\n",
    "import matplotlib.pyplot as plt\n",
    "import pandas as pd"
   ]
  },
  {
   "cell_type": "code",
   "execution_count": 5,
   "id": "b8dec68d-a5b3-4383-ab44-567a9a5981b3",
   "metadata": {},
   "outputs": [],
   "source": [
    "from SPTOptimization.SymmetryActionWithBoundaryUnitaries import SymmetryActionWithBoundaryUnitaries\n",
    "\n",
    "from SPTOptimization.Optimizers.OneSiteSolver import OneSiteSolver\n",
    "\n",
    "from SPTOptimization.utils import (\n",
    "    to_npc_array,\n",
    "    get_right_identity_environment,\n",
    "    get_right_identity_environment_from_tp_tensor,\n",
    "    get_left_identity_environment_from_tp_tensor,\n",
    "    multiply_transfer_matrices\n",
    ")\n",
    "\n",
    "from SPTOptimization.Optimizers.utils import (\n",
    "    one_site_optimization_sweep_right\n",
    ")\n",
    "\n",
    "from SPTOptimization.gradients import (\n",
    "    expectation_gradient_from_environments_and_b_tensor\n",
    ")"
   ]
  },
  {
   "cell_type": "code",
   "execution_count": 6,
   "id": "b7461fe3-41a3-492f-b018-8e32e27a7300",
   "metadata": {},
   "outputs": [],
   "source": [
    "import re"
   ]
  },
  {
   "cell_type": "markdown",
   "id": "c69a8a47-e298-4c4c-97f7-a6157da4e15f",
   "metadata": {},
   "source": [
    "# Load data"
   ]
  },
  {
   "cell_type": "code",
   "execution_count": 7,
   "id": "210d7dcc-b7ae-4f06-8429-84177bec47d3",
   "metadata": {},
   "outputs": [],
   "source": [
    "DATA_DIR = r\"../data/simple_fermionic_cluster_200_site_dmrg/\""
   ]
  },
  {
   "cell_type": "code",
   "execution_count": 8,
   "id": "ae809e74-d444-4db4-88ff-7538f6110d08",
   "metadata": {},
   "outputs": [],
   "source": [
    "def parse_file_name(file_name):\n",
    "    non_trivial_proj_rep = bool(int(file_name[3]))\n",
    "\n",
    "    n1_01 = int(file_name[8])\n",
    "    n1_10 = int(file_name[9])\n",
    "\n",
    "    return (non_trivial_proj_rep, (n1_01, n1_10))"
   ]
  },
  {
   "cell_type": "code",
   "execution_count": 9,
   "id": "e09f07cf-8441-4c7e-90b8-dbc8c61311f2",
   "metadata": {},
   "outputs": [],
   "source": [
    "loaded_data = dict()\n",
    "\n",
    "for local_file_name in os.listdir(DATA_DIR):\n",
    "    f_name = r\"{}/{}\".format(DATA_DIR, local_file_name, ignore_unknown=False)\n",
    "    with h5py.File(f_name, 'r') as f:\n",
    "        data = hdf5_io.load_from_hdf5(f)\n",
    "\n",
    "        data_info = parse_file_name(local_file_name)\n",
    "        loaded_data[data_info]=data['wavefunction']"
   ]
  },
  {
   "cell_type": "code",
   "execution_count": 10,
   "id": "991ad694-d6ed-4b68-9d35-7a4afb4c225b",
   "metadata": {},
   "outputs": [
    {
     "data": {
      "text/plain": [
       "{(False, (1, 1)): <tenpy.networks.mps.MPS at 0x160b1e310>,\n",
       " (True, (1, 1)): <tenpy.networks.mps.MPS at 0x163d4e4d0>,\n",
       " (True, (0, 1)): <tenpy.networks.mps.MPS at 0x16581d390>,\n",
       " (False, (0, 1)): <tenpy.networks.mps.MPS at 0x165857250>,\n",
       " (False, (1, 0)): <tenpy.networks.mps.MPS at 0x1658e3d50>,\n",
       " (True, (1, 0)): <tenpy.networks.mps.MPS at 0x165a64a10>,\n",
       " (True, (0, 0)): <tenpy.networks.mps.MPS at 0x165aa32d0>,\n",
       " (False, (0, 0)): <tenpy.networks.mps.MPS at 0x165b03b10>}"
      ]
     },
     "execution_count": 10,
     "metadata": {},
     "output_type": "execute_result"
    }
   ],
   "source": [
    "loaded_data"
   ]
  },
  {
   "cell_type": "code",
   "execution_count": 11,
   "id": "ec80aaf2-da09-4592-a809-a8314fd83e77",
   "metadata": {},
   "outputs": [
    {
     "data": {
      "text/plain": [
       "array([0.00000000e+00, 4.10310779e-55, 3.20108804e-32, 4.41166527e-30,\n",
       "       4.30652209e-31, 1.28028128e-32, 2.18979328e-32, 9.64766348e-32,\n",
       "       6.39204896e-31, 4.19476267e-32, 7.51835939e-33, 1.56998498e-32,\n",
       "       3.06132263e-29, 6.24832887e-32, 6.64529320e-32, 6.61192056e-33,\n",
       "       3.02331734e-32, 1.97077344e-32, 3.97848871e-32, 1.65936555e-32,\n",
       "       8.12962747e-32, 8.36180681e-32, 1.05455111e-32, 2.30695596e-32,\n",
       "       4.15719467e-32, 3.32855567e-32, 1.02762007e-32, 1.46697913e-32,\n",
       "       3.80115562e-31, 1.63756131e-32, 9.98608231e-33, 1.82981182e-32,\n",
       "       1.73380216e-33, 6.00451123e-32, 1.33036658e-32, 2.79091135e-31,\n",
       "       1.64291033e-32, 3.68006128e-33, 9.95622775e-32, 6.17421509e-32,\n",
       "       2.70280235e-32, 3.01371615e-31, 2.35183074e-32, 1.17896355e-32,\n",
       "       3.93686429e-31, 8.45721273e-32, 1.08863312e-32, 3.77353007e-31,\n",
       "       9.67562785e-33, 1.99656454e-33, 6.40393616e-33, 2.78084102e-32,\n",
       "       1.03150150e-31, 4.37579428e-33, 1.45445289e-32, 3.55938597e-32,\n",
       "       3.97823676e-33, 2.49558765e-32, 5.83674844e-32, 5.65240897e-33,\n",
       "       3.02788937e-32, 1.68137907e-32, 1.92338306e-31, 1.04057512e-32,\n",
       "       3.64920161e-33, 1.95435202e-32, 2.84942450e-32, 8.88276651e-33,\n",
       "       7.75273851e-33, 2.58573886e-32, 5.15046203e-33, 1.16772734e-32,\n",
       "       1.18483428e-33, 3.83447653e-32, 2.56470114e-32, 7.46833249e-33,\n",
       "       8.04890237e-33, 8.23867687e-32, 2.40292353e-31, 5.73993045e-32,\n",
       "       1.99991163e-32, 1.03053885e-31, 4.13348647e-31, 3.49682611e-32,\n",
       "       7.41249798e-31, 2.55014460e-32, 1.68727394e-31, 2.03563625e-32,\n",
       "       1.33614956e-32, 2.14221151e-32, 2.07421165e-31, 4.34597627e-32,\n",
       "       1.88742279e-32, 1.04165570e-32, 5.80629023e-32, 1.78903412e-32,\n",
       "       1.03849028e-32, 9.43016392e-31, 7.40551322e-30, 0.00000000e+00])"
      ]
     },
     "execution_count": 11,
     "metadata": {},
     "output_type": "execute_result"
    }
   ],
   "source": [
    "loaded_data[(True, (0,0))].expectation_value('N', sites=list(range(1, 201, 2)))"
   ]
  },
  {
   "cell_type": "code",
   "execution_count": 12,
   "id": "41d02fac-b668-444d-bde4-949dd6fe9e40",
   "metadata": {},
   "outputs": [
    {
     "data": {
      "text/plain": [
       "array([0.00000000e+00, 3.26915052e-29, 3.33293732e-29, 0.00000000e+00,\n",
       "       3.33293732e-29, 7.79030959e-29, 4.21824880e-29, 4.21824880e-29,\n",
       "       5.96576060e-30, 1.14662165e-29, 3.59424750e-29, 8.18720523e-29,\n",
       "       4.21824880e-29, 8.28796989e-29, 4.21824880e-29, 3.79670126e-29,\n",
       "       4.21824880e-29, 8.18720523e-29, 1.37190923e-28, 0.00000000e+00,\n",
       "       1.37190923e-28, 0.00000000e+00, 3.66111579e-29, 3.66111579e-29,\n",
       "       3.86541844e-29, 3.33293732e-29, 0.00000000e+00, 0.00000000e+00,\n",
       "       3.59424750e-29, 1.56000325e-28, 3.46235982e-29, 0.00000000e+00,\n",
       "       3.59424750e-29, 3.59424750e-29, 3.72860037e-29, 0.00000000e+00,\n",
       "       0.00000000e+00, 9.22258517e-29, 8.33234331e-30, 9.01057880e-29,\n",
       "       3.46235982e-29, 4.43734259e-29, 3.14342582e-29, 3.14342582e-29,\n",
       "       0.00000000e+00, 8.18720523e-29, 1.46709639e-29, 1.46709639e-29,\n",
       "       1.46709639e-29, 8.98561875e-30, 0.00000000e+00, 8.01495006e-30,\n",
       "       4.07526776e-29, 4.00470169e-29, 9.32150093e-30, 7.69262642e-29,\n",
       "       0.00000000e+00, 3.72860037e-29, 9.32150093e-30, 7.79030959e-29,\n",
       "       3.79670126e-29, 9.32150093e-30, 3.86541844e-29, 8.18720523e-29,\n",
       "       1.10933565e-29, 0.00000000e+00, 3.46235982e-29, 7.39865247e-30,\n",
       "       1.34229613e-29, 1.34229613e-29, 7.40327471e-29, 0.00000000e+00,\n",
       "       8.80103762e-29, 1.34602473e-28, 7.98752481e-29, 9.32150093e-30,\n",
       "       0.00000000e+00, 8.38935084e-29, 9.32150093e-30, 8.38935084e-29,\n",
       "       0.00000000e+00, 1.42488001e-29, 9.32150093e-30, 1.42488001e-29,\n",
       "       1.18452395e-29, 0.00000000e+00, 7.21345505e-29, 4.68694311e-30,\n",
       "       4.68694311e-30, 7.39865247e-30, 8.59396164e-29, 3.20598002e-29,\n",
       "       7.70371978e-30, 5.17998118e-30, 7.70371978e-30, 7.79030959e-29,\n",
       "       7.39865247e-30, 7.70371978e-30, 5.83094550e-28, 0.00000000e+00])"
      ]
     },
     "execution_count": 12,
     "metadata": {},
     "output_type": "execute_result"
    }
   ],
   "source": [
    "loaded_data[(False, (0,0))].expectation_value('N', sites=list(range(1, 201, 2)))"
   ]
  },
  {
   "cell_type": "markdown",
   "id": "b4c1e616-c034-404b-b59e-196d1eaac475",
   "metadata": {},
   "source": [
    "# Definitons"
   ]
  },
  {
   "cell_type": "code",
   "execution_count": 13,
   "id": "63506364-f535-4c0f-8c5f-8839c69f7b9d",
   "metadata": {},
   "outputs": [],
   "source": [
    "MAX_VIRTUAL_BOND_DIM = 8\n",
    "MAX_INTERMEDIATE_VIRTUAL_BOND_DIM = 2*MAX_VIRTUAL_BOND_DIM\n",
    "# MPO bond dim?\n",
    "MAX_MPO_BOND_DIM = 50\n",
    "\n",
    "SVD_CUTOFF = 1e-3"
   ]
  },
  {
   "cell_type": "markdown",
   "id": "1efd18d4-328d-43dd-996d-393f18eb02b2",
   "metadata": {},
   "source": [
    "Define bosonic symmetries. Label by the group element added."
   ]
  },
  {
   "cell_type": "code",
   "execution_count": 14,
   "id": "513d7288-c641-4071-a4a3-652787d1f98c",
   "metadata": {},
   "outputs": [],
   "source": [
    "np_00 = np.array([\n",
    "    [1, 0, 0, 0],\n",
    "    [0, 1, 0, 0],\n",
    "    [0, 0, 1, 0],\n",
    "    [0, 0, 0, 1]\n",
    "])\n",
    "\n",
    "np_01 = np.array([\n",
    "    [0, 1, 0, 0],\n",
    "    [1, 0, 0, 0],\n",
    "    [0, 0, 0, 1],\n",
    "    [0, 0, 1, 0]\n",
    "])\n",
    "\n",
    "np_10 = np.array([\n",
    "    [0, 0, 1, 0],\n",
    "    [0, 0, 0, 1],\n",
    "    [1, 0, 0, 0],\n",
    "    [0, 1, 0, 0]\n",
    "])\n",
    "\n",
    "np_11 = np.array([\n",
    "    [0, 0, 0, 1],\n",
    "    [0, 0, 1, 0],\n",
    "    [0, 1, 0, 0],\n",
    "    [1, 0, 0, 0]\n",
    "])"
   ]
  },
  {
   "cell_type": "code",
   "execution_count": 15,
   "id": "c83907c6-e86f-48af-a2a1-11b250f47e84",
   "metadata": {},
   "outputs": [],
   "source": [
    "bosonic_np_symmetries = [\n",
    "    np_00,\n",
    "    np_01,\n",
    "    np_10,\n",
    "    np_11\n",
    "]"
   ]
  },
  {
   "cell_type": "code",
   "execution_count": 16,
   "id": "2a78a62e-37eb-4baf-98ba-d6a94d599bec",
   "metadata": {},
   "outputs": [],
   "source": [
    "npc_00 = to_npc_array(np_00)\n",
    "npc_01 = to_npc_array(np_01)\n",
    "npc_10 = to_npc_array(np_10)\n",
    "npc_11 = to_npc_array(np_11)"
   ]
  },
  {
   "cell_type": "markdown",
   "id": "1ecddc96-798a-416b-b0b4-d9ea9e25cfca",
   "metadata": {},
   "source": [
    "Define \"fermionic symmetries\". Just identity and JW string."
   ]
  },
  {
   "cell_type": "code",
   "execution_count": 17,
   "id": "a1c64bf0-4b2e-4492-b242-3dae6eb527c3",
   "metadata": {},
   "outputs": [],
   "source": [
    "np_I = np.array([\n",
    "    [1, 0],\n",
    "    [0, 1]\n",
    "])\n",
    "\n",
    "np_JW = np.array([\n",
    "    [1, 0],\n",
    "    [0, -1]\n",
    "])"
   ]
  },
  {
   "cell_type": "code",
   "execution_count": 18,
   "id": "9ec0389b-16c7-4284-b470-a5feaceb4843",
   "metadata": {},
   "outputs": [],
   "source": [
    "np_c_plus = np.array([\n",
    "    [0, 1],\n",
    "    [0, 0]\n",
    "])\n",
    "\n",
    "np_c_minus = np.array([\n",
    "    [0, 0],\n",
    "    [1, 0]\n",
    "])"
   ]
  },
  {
   "cell_type": "code",
   "execution_count": 19,
   "id": "e595ca13-740a-41a3-a658-8831c8f54323",
   "metadata": {},
   "outputs": [],
   "source": [
    "fermionic_np_symmetries = [np_I, np_JW]"
   ]
  },
  {
   "cell_type": "code",
   "execution_count": 20,
   "id": "6e5b6ad0-2496-4072-afe9-c41fc62da40e",
   "metadata": {},
   "outputs": [],
   "source": [
    "fermionic_npc_symmetries = [\n",
    "    to_npc_array(X) for X in fermionic_np_symmetries\n",
    "]"
   ]
  },
  {
   "cell_type": "code",
   "execution_count": 21,
   "id": "b9e2f954-c591-4479-ba37-32862c25c660",
   "metadata": {},
   "outputs": [],
   "source": [
    "symmetry_actions = [\n",
    "    [[b, f] for b in bosonic_np_symmetries]\n",
    "    for f in fermionic_np_symmetries\n",
    "]"
   ]
  },
  {
   "cell_type": "code",
   "execution_count": 22,
   "id": "8c945b86-cec1-4b08-930f-1922b7e1bea6",
   "metadata": {},
   "outputs": [],
   "source": [
    "shifted_symmetry_actions = [\n",
    "    [[f, b] for b in bosonic_np_symmetries]\n",
    "    for f in fermionic_np_symmetries\n",
    "]"
   ]
  },
  {
   "cell_type": "code",
   "execution_count": 23,
   "id": "6bac53fa-b629-46fc-a145-f932a0af6f18",
   "metadata": {},
   "outputs": [],
   "source": [
    "left_trivial_leg_charge = tenpy.linalg.charges.LegCharge(\n",
    "    tenpy.linalg.charges.ChargeInfo([], []),\n",
    "    [0,1],\n",
    "    [[]],\n",
    "    qconj=1\n",
    ")"
   ]
  },
  {
   "cell_type": "code",
   "execution_count": 24,
   "id": "44f34cb7-0888-474b-9483-f4956951fc31",
   "metadata": {},
   "outputs": [],
   "source": [
    "right_trivial_leg_charge = tenpy.linalg.charges.LegCharge(\n",
    "    tenpy.linalg.charges.ChargeInfo([], []),\n",
    "    [0,1],\n",
    "    [[]],\n",
    "    qconj=-1\n",
    ")"
   ]
  },
  {
   "cell_type": "markdown",
   "id": "9a189461-f90d-4e95-9c8f-2335afa7bb32",
   "metadata": {},
   "source": [
    "## Projectors"
   ]
  },
  {
   "cell_type": "code",
   "execution_count": 25,
   "id": "d75e6bf8-9edd-460a-8145-7bd785ecf70b",
   "metadata": {},
   "outputs": [],
   "source": [
    "def mod_4_to_bit(x):    \n",
    "    possible_mod_4_values = list(range(4))\n",
    "    assert x in possible_mod_4_values\n",
    "\n",
    "    x0 = x % 2\n",
    "    x1 = ((x - x0) // 2) % 2\n",
    "\n",
    "    return (x0, x1)"
   ]
  },
  {
   "cell_type": "code",
   "execution_count": 26,
   "id": "bad9c56a-7874-4f05-a97b-5acde4e8112f",
   "metadata": {},
   "outputs": [],
   "source": [
    "def bit_to_mod_4(bit_pair):\n",
    "    x0, x1 = bit_pair\n",
    "\n",
    "    possible_mod_2_values = list(range(2))\n",
    "    assert x0 in possible_mod_2_values\n",
    "    assert x1 in possible_mod_2_values\n",
    "\n",
    "    return x0 + 2*x1"
   ]
  },
  {
   "cell_type": "code",
   "execution_count": 27,
   "id": "4206ede3-c7c6-4e41-ac32-1f25676a3a87",
   "metadata": {},
   "outputs": [],
   "source": [
    "def mod_4_to_bit_addition(x, y):\n",
    "    (x0, x1) = mod_4_to_bit(x)\n",
    "    (y0, y1) = mod_4_to_bit(y)\n",
    "\n",
    "    out0 = (x0 + y0) % 2\n",
    "    out1 = (x1 + y1) % 2\n",
    "\n",
    "    out = bit_to_mod_4((out0, out1))\n",
    "\n",
    "    return out"
   ]
  },
  {
   "cell_type": "code",
   "execution_count": 28,
   "id": "cd1af4a8-88ec-4095-9cc0-0f5c12b4dee0",
   "metadata": {},
   "outputs": [],
   "source": [
    "def get_n1_func(n1_01, n1_10):\n",
    "    l = [0, n1_01, n1_10, (n1_01 + n1_10)%2]\n",
    "    \n",
    "    def f(g1, g2):\n",
    "        i = mod_4_to_bit_addition(g1, g2)\n",
    "        return l[i]\n",
    "\n",
    "    return f"
   ]
  },
  {
   "cell_type": "code",
   "execution_count": 29,
   "id": "af10fe92-e475-435b-b5e6-e7ebd7a2a86c",
   "metadata": {},
   "outputs": [],
   "source": [
    "n1_pair_to_fermion_operators_dict = {\n",
    "    (0, 0): \"Id\",\n",
    "    (0, 1): \"C\",\n",
    "    (1, 0): \"Cd\",\n",
    "    (1, 1): \"N\"\n",
    "}"
   ]
  },
  {
   "cell_type": "code",
   "execution_count": 30,
   "id": "28dbfe69-4bdc-4870-9155-cb55d2d7156d",
   "metadata": {},
   "outputs": [],
   "source": [
    "n1_pairs = [\n",
    "    (0, 0),\n",
    "    (0, 1),\n",
    "    (1, 0),\n",
    "    (1, 1)\n",
    "]"
   ]
  },
  {
   "cell_type": "code",
   "execution_count": 31,
   "id": "a23a6c40-02a6-4959-8911-d1f7ea883edb",
   "metadata": {},
   "outputs": [],
   "source": [
    "pauli_proj_rep_phases = np.array([\n",
    "    [1, 1, 1, 1],\n",
    "    [1, 1, -1, -1],\n",
    "    [1, -1, 1, -1],\n",
    "    [1, -1, -1, 1]\n",
    "])"
   ]
  },
  {
   "cell_type": "code",
   "execution_count": 32,
   "id": "c8c6e21e-5203-4b99-b1e7-07200be33de4",
   "metadata": {},
   "outputs": [],
   "source": [
    "def get_proj_rep_term_phase(group_quad):\n",
    "    g_left, g_in, g_out, g_right = group_quad\n",
    "\n",
    "    g1 = mod_4_to_bit_addition(g_left, g_in)\n",
    "    g2 = mod_4_to_bit_addition(g_in, g_right)\n",
    "    g3 = mod_4_to_bit_addition(g_left, g_out)\n",
    "    g4 = mod_4_to_bit_addition(g_out, g_right)\n",
    "\n",
    "    numerator_phase = pauli_proj_rep_phases[g1, g2]\n",
    "    denominator_phase = pauli_proj_rep_phases[g3, g4]\n",
    "\n",
    "    return numerator_phase/denominator_phase"
   ]
  },
  {
   "cell_type": "code",
   "execution_count": 33,
   "id": "6473b892-c381-4401-af3f-81fc07bc6356",
   "metadata": {},
   "outputs": [],
   "source": [
    "def get_op_list(g_quad, n1_func):\n",
    "    out = list()\n",
    "    g_left, g_in, g_out, g_right = g_quad\n",
    "\n",
    "    out.append((f'map_{g_left}_{g_left}', 0, 0))\n",
    "    \n",
    "    out.append((f'map_{g_in}_{g_out}', 1, 0))\n",
    "\n",
    "    out.append((f'map_{g_right}_{g_right}', 2, 0))\n",
    "\n",
    "    if n1_func(g_left, g_out):\n",
    "        out.append(('Cd', 0, 1))\n",
    "    if n1_func(g_out, g_right):\n",
    "        out.append(('Cd', 1, 1))\n",
    "\n",
    "    if n1_func(g_in, g_right):\n",
    "        out.append(('C', 1, 1))\n",
    "    if n1_func(g_left, g_in):\n",
    "        out.append(('C', 0, 1))\n",
    "\n",
    "    return out"
   ]
  },
  {
   "cell_type": "code",
   "execution_count": 34,
   "id": "bca14e98-54ab-49fd-847f-70d1f933d075",
   "metadata": {},
   "outputs": [],
   "source": [
    "def get_op_list_trivial(g_quad):\n",
    "    out = list()\n",
    "    g_left, g_in, g_out, g_right = g_quad\n",
    "\n",
    "    out.append((f'map_{g_left}_{g_left}', 0, 0))\n",
    "    \n",
    "    out.append((f'map_{g_in}_{g_out}', 1, 0))\n",
    "\n",
    "    out.append((f'map_{g_right}_{g_right}', 2, 0))\n",
    "\n",
    "    out.append(('C', 1, 1))\n",
    "    out.append(('C', 0, 1))\n",
    "\n",
    "    out.append(('Cd', 0, 1))\n",
    "    out.append(('Cd', 1, 1))\n",
    "\n",
    "    return out"
   ]
  },
  {
   "cell_type": "code",
   "execution_count": 35,
   "id": "257e1b7a-f94a-4ea0-9f1e-1a6e915308e7",
   "metadata": {},
   "outputs": [],
   "source": [
    "class ClusterFermion(CouplingMPOModel):\n",
    "    default_lattice = \"Chain\"\n",
    "    force_default_lattice = True\n",
    "\n",
    "    # Would it be easier to subclass ClockSite?\n",
    "    def init_sites(self, model_params):\n",
    "        spin = ClockSite(4, conserve=None)\n",
    "        for i in range(4):\n",
    "            for j in range(4):\n",
    "                X = np.zeros((4,4))\n",
    "                X[j, i] = 1\n",
    "                op_name = f\"map_{i}_{j}\"\n",
    "                spin.add_op(op_name, X)\n",
    "        ferm = FermionSite(conserve=None)\n",
    "        sites = [spin, ferm]\n",
    "        return [spin, ferm], ['s', 'f']\n",
    "\n",
    "    def init_terms(self, model_params):\n",
    "        # Read off model parameters\n",
    "        n1_01, n1_10 = model_params.get('n1', (0,0))\n",
    "        n1_func = get_n1_func(n1_01, n1_10)\n",
    "\n",
    "        non_trivial_proj_rep = model_params.get('non_trivial_proj_rep', False)\n",
    "\n",
    "        group_quads = product(range(4), repeat=4)\n",
    "\n",
    "        for group_quad in group_quads:\n",
    "            if (n1_01, n1_10) == (0, 0):\n",
    "                op_list = get_op_list_trivial(group_quad)\n",
    "            else:\n",
    "                op_list = get_op_list(group_quad, n1_func)\n",
    "\n",
    "            if non_trivial_proj_rep:\n",
    "                phase = get_proj_rep_term_phase(group_quad)\n",
    "            else:\n",
    "                phase = 1\n",
    "\n",
    "            self.add_multi_coupling((-1/4)*phase, op_list)"
   ]
  },
  {
   "cell_type": "code",
   "execution_count": 36,
   "id": "662354e3-2789-4ed4-aa35-1f7cfab045a0",
   "metadata": {},
   "outputs": [],
   "source": [
    "models = {\n",
    "    (b, p): ClusterFermion({'L': 3, 'n1': p, 'non_trivial_proj_rep': b})\n",
    "    for p in n1_pairs\n",
    "    for b in [True, False]\n",
    "}"
   ]
  },
  {
   "cell_type": "code",
   "execution_count": 37,
   "id": "657068ea-9a73-42d5-a943-2de655c5c3eb",
   "metadata": {},
   "outputs": [],
   "source": [
    "mpos = {k: m.calc_H_MPO() for k, m in models.items()}"
   ]
  },
  {
   "cell_type": "code",
   "execution_count": 38,
   "id": "515d229f-0489-4ac8-8f85-53c4fe0d8d12",
   "metadata": {},
   "outputs": [],
   "source": [
    "test_mpo = mpos[(False, (0,0))]"
   ]
  },
  {
   "cell_type": "code",
   "execution_count": 39,
   "id": "fe4eeafd-748e-44e2-86b1-655bac8622ac",
   "metadata": {},
   "outputs": [
    {
     "data": {
      "text/plain": [
       "6"
      ]
     },
     "execution_count": 39,
     "metadata": {},
     "output_type": "execute_result"
    }
   ],
   "source": [
    "test_mpo.L"
   ]
  },
  {
   "cell_type": "code",
   "execution_count": 40,
   "id": "5df3de28-c90b-47ec-b588-d627609cc7d5",
   "metadata": {},
   "outputs": [
    {
     "data": {
      "text/plain": [
       "<npc.Array shape=(2, 6, 4, 4) labels=['wL', 'wR', 'p', 'p*']>"
      ]
     },
     "execution_count": 40,
     "metadata": {},
     "output_type": "execute_result"
    }
   ],
   "source": [
    "test_mpo.get_W(0)"
   ]
  },
  {
   "cell_type": "code",
   "execution_count": 41,
   "id": "3f98039e-424f-4dce-b238-0ff8b79cfd4b",
   "metadata": {},
   "outputs": [
    {
     "data": {
      "text/plain": [
       "<npc.Array shape=(2, 2, 2, 2) labels=['wL', 'wR', 'p', 'p*']>"
      ]
     },
     "execution_count": 41,
     "metadata": {},
     "output_type": "execute_result"
    }
   ],
   "source": [
    "test_mpo.get_W(5)"
   ]
  },
  {
   "cell_type": "markdown",
   "id": "5cf93aa9-9744-4a79-aef4-1f77da229ce4",
   "metadata": {},
   "source": [
    "# Tests\n",
    "## Projector test"
   ]
  },
  {
   "cell_type": "markdown",
   "id": "f0e4dbb2-c538-4102-88c4-0c2f5afd42fe",
   "metadata": {},
   "source": [
    "Define rdms."
   ]
  },
  {
   "cell_type": "code",
   "execution_count": 42,
   "id": "716ce5b7-62fb-4ff9-80d7-af5bd339e9e6",
   "metadata": {},
   "outputs": [],
   "source": [
    "def get_left_environment(psi, index):\n",
    "    left_leg = psi.get_B(index).legs[0]\n",
    "    SL = npc.diag(psi.get_SL(index), left_leg, labels = ['vL', 'vR'])\n",
    "\n",
    "    # Schmidt values should all be real, so conjugate not really necessary here\n",
    "    left_environment = (\n",
    "        npc.tensordot(SL, SL.conj(), (['vL',], ['vL*',]))\n",
    "    )\n",
    "\n",
    "    return left_environment"
   ]
  },
  {
   "cell_type": "code",
   "execution_count": 43,
   "id": "65286afe-ba51-4319-8468-61ecb8b69c36",
   "metadata": {},
   "outputs": [],
   "source": [
    "def extract_rdm(psi, left_site_index, num_sites):\n",
    "    t = get_left_environment(psi, left_site_index)\n",
    "\n",
    "    sites = range(left_site_index, left_site_index + num_sites)\n",
    "    for i, site_index in enumerate(sites):\n",
    "        b = psi.get_B(site_index)\n",
    "        b = b.replace_label('p', f'p{i}')\n",
    "        \n",
    "        t = npc.tensordot(t, b, [['vR',], ['vL',]])\n",
    "        t = npc.tensordot(t, b.conj(), [['vR*',], ['vL*',]])\n",
    "    \n",
    "    t = npc.trace(t, 'vR', 'vR*')\n",
    "\n",
    "    return t"
   ]
  },
  {
   "cell_type": "code",
   "execution_count": 44,
   "id": "7dc924d3-f94a-4ecb-81ca-371d8cd20f7b",
   "metadata": {},
   "outputs": [],
   "source": [
    "def contract_mpo_rdm(rdm, mpo):\n",
    "    num_sites = mpo.L\n",
    "    \n",
    "    w = mpo.get_W(0).take_slice([mpo.get_IdL(0)], ['wL'])\n",
    "    t = npc.tensordot(rdm, w, [['p0*', 'p0'], ['p', 'p*']])\n",
    "\n",
    "    for i in range(1, num_sites):\n",
    "        w = mpo.get_W(i)\n",
    "        t = npc.tensordot(t, w, [[f'p{i}', f'p{i}*', 'wR'], ['p*', 'p', 'wL']])\n",
    "    \n",
    "    t = t[mpo.get_IdR(num_sites-1)]\n",
    "\n",
    "    return t"
   ]
  },
  {
   "cell_type": "code",
   "execution_count": 45,
   "id": "37fbf769-b125-4b1b-b000-4b4df200a03b",
   "metadata": {},
   "outputs": [],
   "source": [
    "left_site_index = 98\n",
    "num_sites = 6\n",
    "\n",
    "exps = dict()\n",
    "\n",
    "iter_quads = zip(\n",
    "    [True, False],\n",
    "    n1_pairs,\n",
    "    [True, False],\n",
    "    n1_pairs\n",
    ")\n",
    "    \n",
    "\n",
    "for data_pr, data_n1 in product([True, False], n1_pairs):\n",
    "    psi = loaded_data[(data_pr, data_n1)]\n",
    "    rdm = extract_rdm(psi, left_site_index, num_sites)\n",
    "    \n",
    "    \n",
    "    for model_pr, model_n1 in product([True, False], n1_pairs):\n",
    "        mpo = mpos[(model_pr, model_n1)]\n",
    "\n",
    "        exp = contract_mpo_rdm(rdm, mpo)\n",
    "        \n",
    "        exps[(data_pr, data_n1, model_pr, model_n1)] = exp"
   ]
  },
  {
   "cell_type": "code",
   "execution_count": 46,
   "id": "3827f9ed-31a0-4a9f-a676-ef19d365224a",
   "metadata": {},
   "outputs": [
    {
     "data": {
      "text/plain": [
       "{(True, (0, 0), True, (0, 0)): -1.0000000000000002,\n",
       " (True, (0, 0), True, (0, 1)): -0.1249999999999977,\n",
       " (True, (0, 0), True, (1, 0)): -0.12500000000000255,\n",
       " (True, (0, 0), True, (1, 1)): -0.12499999999999759,\n",
       " (True, (0, 0), False, (0, 0)): -0.25,\n",
       " (True, (0, 0), False, (0, 1)): -0.1249999999999977,\n",
       " (True, (0, 0), False, (1, 0)): -0.12500000000000255,\n",
       " (True, (0, 0), False, (1, 1)): -0.12499999999999759,\n",
       " (True, (0, 1), True, (0, 0)): -0.1250000000000015,\n",
       " (True, (0, 1), True, (0, 1)): -1.0000000000000007,\n",
       " (True, (0, 1), True, (1, 0)): -0.2031250000000001,\n",
       " (True, (0, 1), True, (1, 1)): -0.2031249999999999,\n",
       " (True, (0, 1), False, (0, 0)): -0.12500000000000133,\n",
       " (True, (0, 1), False, (0, 1)): -0.24999999999999992,\n",
       " (True, (0, 1), False, (1, 0)): -0.20312500000000014,\n",
       " (True, (0, 1), False, (1, 1)): -0.20312499999999986,\n",
       " (True, (1, 0), True, (0, 0)): -0.12499999999999638,\n",
       " (True, (1, 0), True, (0, 1)): -0.20312500000000172,\n",
       " (True, (1, 0), True, (1, 0)): -0.9999999999999989,\n",
       " (True, (1, 0), True, (1, 1)): -0.20312500000000183,\n",
       " (True, (1, 0), False, (0, 0)): -0.12499999999999654,\n",
       " (True, (1, 0), False, (0, 1)): -0.20312500000000147,\n",
       " (True, (1, 0), False, (1, 0)): -0.24999999999999978,\n",
       " (True, (1, 0), False, (1, 1)): -0.20312500000000214,\n",
       " (True, (1, 1), True, (0, 0)): -0.1250000000000129,\n",
       " (True, (1, 1), True, (0, 1)): -0.20312499999999384,\n",
       " (True, (1, 1), True, (1, 0)): -0.20312499999999395,\n",
       " (True, (1, 1), True, (1, 1)): -0.9999999999999992,\n",
       " (True, (1, 1), False, (0, 0)): -0.12500000000001296,\n",
       " (True, (1, 1), False, (0, 1)): -0.2031249999999939,\n",
       " (True, (1, 1), False, (1, 0)): -0.2031249999999939,\n",
       " (True, (1, 1), False, (1, 1)): -0.24999999999999872,\n",
       " (False, (0, 0), True, (0, 0)): -0.25,\n",
       " (False, (0, 0), True, (0, 1)): -0.12500000000000003,\n",
       " (False, (0, 0), True, (1, 0)): -0.12500000000000006,\n",
       " (False, (0, 0), True, (1, 1)): -0.12500000000000006,\n",
       " (False, (0, 0), False, (0, 0)): -1.0000000000000002,\n",
       " (False, (0, 0), False, (0, 1)): -0.12500000000000003,\n",
       " (False, (0, 0), False, (1, 0)): -0.12500000000000006,\n",
       " (False, (0, 0), False, (1, 1)): -0.12500000000000006,\n",
       " (False, (0, 1), True, (0, 0)): -0.125000000000001,\n",
       " (False, (0, 1), True, (0, 1)): -0.2499999999999999,\n",
       " (False, (0, 1), True, (1, 0)): -0.20312499999999944,\n",
       " (False, (0, 1), True, (1, 1)): -0.20312499999999944,\n",
       " (False, (0, 1), False, (0, 0)): -0.12500000000000017,\n",
       " (False, (0, 1), False, (0, 1)): -0.9999999999999998,\n",
       " (False, (0, 1), False, (1, 0)): -0.20312499999999817,\n",
       " (False, (0, 1), False, (1, 1)): -0.20312499999999822,\n",
       " (False, (1, 0), True, (0, 0)): -0.1250000000000045,\n",
       " (False, (1, 0), True, (0, 1)): -0.20312499999999856,\n",
       " (False, (1, 0), True, (1, 0)): -0.25,\n",
       " (False, (1, 0), True, (1, 1)): -0.20312499999999856,\n",
       " (False, (1, 0), False, (0, 0)): -0.12500000000000666,\n",
       " (False, (1, 0), False, (0, 1)): -0.20312500000000172,\n",
       " (False, (1, 0), False, (1, 0)): -0.9999999999999999,\n",
       " (False, (1, 0), False, (1, 1)): -0.20312500000000172,\n",
       " (False, (1, 1), True, (0, 0)): -0.12499999999999861,\n",
       " (False, (1, 1), True, (0, 1)): -0.20312500000000033,\n",
       " (False, (1, 1), True, (1, 0)): -0.20312500000000033,\n",
       " (False, (1, 1), True, (1, 1)): -0.24999999999999997,\n",
       " (False, (1, 1), False, (0, 0)): -0.12499999999999722,\n",
       " (False, (1, 1), False, (0, 1)): -0.20312499999999822,\n",
       " (False, (1, 1), False, (1, 0)): -0.20312499999999822,\n",
       " (False, (1, 1), False, (1, 1)): -0.9999999999999998}"
      ]
     },
     "execution_count": 46,
     "metadata": {},
     "output_type": "execute_result"
    }
   ],
   "source": [
    "exps"
   ]
  },
  {
   "cell_type": "markdown",
   "id": "9a6b1c52-5d87-4e4a-9a0d-24e7957afe16",
   "metadata": {},
   "source": [
    "Passes the test."
   ]
  },
  {
   "cell_type": "markdown",
   "id": "072d12b3-3bcc-4a34-85dc-3b799f4f2db5",
   "metadata": {},
   "source": [
    "## Fermion Expectation values"
   ]
  },
  {
   "cell_type": "code",
   "execution_count": 47,
   "id": "e102165b-dc85-404a-bf5c-b9c3094bb959",
   "metadata": {},
   "outputs": [],
   "source": [
    "test_psi = loaded_data[(False, (0, 1))]"
   ]
  },
  {
   "cell_type": "code",
   "execution_count": 48,
   "id": "1d774d40-f046-4ec1-92f8-44989b82af3c",
   "metadata": {},
   "outputs": [
    {
     "data": {
      "text/plain": [
       "array(3.14109075e-18)"
      ]
     },
     "execution_count": 48,
     "metadata": {},
     "output_type": "execute_result"
    }
   ],
   "source": [
    "test_psi.expectation_value_multi_sites([\"map_0_0\", 'N', \"map_0_0\"], 100)"
   ]
  },
  {
   "cell_type": "code",
   "execution_count": 49,
   "id": "d01f93cd-d310-43a4-81ec-9bbc9f9e8cf9",
   "metadata": {},
   "outputs": [],
   "source": [
    "fermion_exps = dict()\n",
    "\n",
    "for data_pr, data_n1 in product([True, False], n1_pairs):\n",
    "    for i_left in range(4): \n",
    "        for i_right in range(4):\n",
    "            psi = loaded_data[(data_pr, data_n1)]\n",
    "            exp = psi.expectation_value_multi_sites(\n",
    "                [f\"map_{i_left}_{i_left}\", 'N', f\"map_{i_right}_{i_right}\"], 100\n",
    "            )\n",
    "            \n",
    "            fermion_exps[(data_pr, data_n1, i_left, i_right)] = exp[()]"
   ]
  },
  {
   "cell_type": "code",
   "execution_count": 50,
   "id": "3a433a0d-9766-4aed-b244-791f75a5098a",
   "metadata": {},
   "outputs": [
    {
     "data": {
      "text/plain": [
       "0.0625"
      ]
     },
     "execution_count": 50,
     "metadata": {},
     "output_type": "execute_result"
    }
   ],
   "source": [
    "1/16"
   ]
  },
  {
   "cell_type": "code",
   "execution_count": 51,
   "id": "5f283cd4-4a38-42e3-acea-486e9c48e16d",
   "metadata": {},
   "outputs": [
    {
     "data": {
      "text/plain": [
       "{(True, (0, 0), 0, 0): 5.447454590821024e-35,\n",
       " (True, (0, 0), 0, 1): 7.107522494590287e-34,\n",
       " (True, (0, 0), 0, 2): 1.8743101355994978e-35,\n",
       " (True, (0, 0), 0, 3): 4.922238057817101e-34,\n",
       " (True, (0, 0), 1, 0): 2.434766822599829e-36,\n",
       " (True, (0, 0), 1, 1): 2.91162669233076e-35,\n",
       " (True, (0, 0), 1, 2): 8.95438819601565e-36,\n",
       " (True, (0, 0), 1, 3): 6.964574111267624e-35,\n",
       " (True, (0, 0), 2, 0): 2.00715168843113e-34,\n",
       " (True, (0, 0), 2, 1): 2.1945365270782734e-33,\n",
       " (True, (0, 0), 2, 2): 7.291112748429983e-34,\n",
       " (True, (0, 0), 2, 3): 8.293618197159041e-35,\n",
       " (True, (0, 0), 3, 0): 6.448251497763532e-35,\n",
       " (True, (0, 0), 3, 1): 9.827481496135187e-34,\n",
       " (True, (0, 0), 3, 2): 1.3011328614695881e-34,\n",
       " (True, (0, 0), 3, 3): 6.329481910407371e-34,\n",
       " (True, (0, 1), 0, 0): -1.6182250114375938e-18,\n",
       " (True, (0, 1), 0, 1): 2.821131991091816e-18,\n",
       " (True, (0, 1), 0, 2): 0.06250000000000211,\n",
       " (True, (0, 1), 0, 3): 0.06250000000000305,\n",
       " (True, (0, 1), 1, 0): 2.94993632129426e-18,\n",
       " (True, (0, 1), 1, 1): 8.447595814589442e-19,\n",
       " (True, (0, 1), 1, 2): 0.06250000000000623,\n",
       " (True, (0, 1), 1, 3): 0.06250000000000577,\n",
       " (True, (0, 1), 2, 0): 0.06249999999999793,\n",
       " (True, (0, 1), 2, 1): 0.062499999999996406,\n",
       " (True, (0, 1), 2, 2): -2.4052043370019947e-20,\n",
       " (True, (0, 1), 2, 3): 4.650663438032513e-19,\n",
       " (True, (0, 1), 3, 0): 0.062499999999995746,\n",
       " (True, (0, 1), 3, 1): 0.06249999999999445,\n",
       " (True, (0, 1), 3, 2): -1.3879706135638e-18,\n",
       " (True, (0, 1), 3, 3): -1.1209547040044921e-18,\n",
       " (True, (1, 0), 0, 0): 1.661309826315381e-19,\n",
       " (True, (1, 0), 0, 1): 0.06249999999999688,\n",
       " (True, (1, 0), 0, 2): 1.6708491189492933e-19,\n",
       " (True, (1, 0), 0, 3): 0.06250000000000001,\n",
       " (True, (1, 0), 1, 0): 0.06250000000000845,\n",
       " (True, (1, 0), 1, 1): -2.252153600384411e-19,\n",
       " (True, (1, 0), 1, 2): 0.062499999999999264,\n",
       " (True, (1, 0), 1, 3): -5.068372419412244e-20,\n",
       " (True, (1, 0), 2, 0): 7.825453350052311e-20,\n",
       " (True, (1, 0), 2, 1): 0.06249999999998945,\n",
       " (True, (1, 0), 2, 2): 1.2767214934171123e-20,\n",
       " (True, (1, 0), 2, 3): 0.06249999999999283,\n",
       " (True, (1, 0), 3, 0): 0.06250000000000633,\n",
       " (True, (1, 0), 3, 1): -2.553564970769961e-20,\n",
       " (True, (1, 0), 3, 2): 0.06249999999999714,\n",
       " (True, (1, 0), 3, 3): -2.983208764613449e-20,\n",
       " (True, (1, 1), 0, 0): -5.494541941705305e-21,\n",
       " (True, (1, 1), 0, 1): 0.06249999999999945,\n",
       " (True, (1, 1), 0, 2): 0.062499999999986816,\n",
       " (True, (1, 1), 0, 3): -1.5094461783845666e-21,\n",
       " (True, (1, 1), 1, 0): 0.06250000000000132,\n",
       " (True, (1, 1), 1, 1): -6.40282004293325e-22,\n",
       " (True, (1, 1), 1, 2): 1.7053780494594673e-20,\n",
       " (True, (1, 1), 1, 3): 0.06250000000000268,\n",
       " (True, (1, 1), 2, 0): 0.06250000000000133,\n",
       " (True, (1, 1), 2, 1): -1.894825815581144e-20,\n",
       " (True, (1, 1), 2, 2): -5.188309638587187e-20,\n",
       " (True, (1, 1), 2, 3): 0.06250000000000186,\n",
       " (True, (1, 1), 3, 0): -1.401338496039407e-20,\n",
       " (True, (1, 1), 3, 1): 0.062499999999988745,\n",
       " (True, (1, 1), 3, 2): 0.062499999999976234,\n",
       " (True, (1, 1), 3, 3): -8.751705615935268e-20,\n",
       " (False, (0, 0), 0, 0): 0.0,\n",
       " (False, (0, 0), 0, 1): 0.0,\n",
       " (False, (0, 0), 0, 2): 0.0,\n",
       " (False, (0, 0), 0, 3): 0.0,\n",
       " (False, (0, 0), 1, 0): 0.0,\n",
       " (False, (0, 0), 1, 1): 0.0,\n",
       " (False, (0, 0), 1, 2): 0.0,\n",
       " (False, (0, 0), 1, 3): 0.0,\n",
       " (False, (0, 0), 2, 0): 0.0,\n",
       " (False, (0, 0), 2, 1): 0.0,\n",
       " (False, (0, 0), 2, 2): 0.0,\n",
       " (False, (0, 0), 2, 3): 0.0,\n",
       " (False, (0, 0), 3, 0): 0.0,\n",
       " (False, (0, 0), 3, 1): 0.0,\n",
       " (False, (0, 0), 3, 2): 0.0,\n",
       " (False, (0, 0), 3, 3): 0.0,\n",
       " (False, (0, 1), 0, 0): 3.1410907520771425e-18,\n",
       " (False, (0, 1), 0, 1): 3.438406872109409e-18,\n",
       " (False, (0, 1), 0, 2): 0.06250000000000797,\n",
       " (False, (0, 1), 0, 3): 0.06250000000000734,\n",
       " (False, (0, 1), 1, 0): 2.338381150486217e-18,\n",
       " (False, (0, 1), 1, 1): 9.477361987264538e-19,\n",
       " (False, (0, 1), 1, 2): 0.06250000000000586,\n",
       " (False, (0, 1), 1, 3): 0.06250000000000522,\n",
       " (False, (0, 1), 2, 0): 0.06249999999998972,\n",
       " (False, (0, 1), 2, 1): 0.06249999999999418,\n",
       " (False, (0, 1), 2, 2): 4.507807025616038e-18,\n",
       " (False, (0, 1), 2, 3): 3.9244346104443884e-18,\n",
       " (False, (0, 1), 3, 0): 0.06249999999998998,\n",
       " (False, (0, 1), 3, 1): 0.06249999999999444,\n",
       " (False, (0, 1), 3, 2): -5.7014343474026645e-19,\n",
       " (False, (0, 1), 3, 3): -1.1535158499120063e-18,\n",
       " (False, (1, 0), 0, 0): -8.06456060458277e-19,\n",
       " (False, (1, 0), 0, 1): 0.06249999999999719,\n",
       " (False, (1, 0), 0, 2): -4.0489834655466552e-19,\n",
       " (False, (1, 0), 0, 3): 0.06249999999999707,\n",
       " (False, (1, 0), 1, 0): 0.06249999999999756,\n",
       " (False, (1, 0), 1, 1): 4.831779195249087e-19,\n",
       " (False, (1, 0), 1, 2): 0.06250000000000813,\n",
       " (False, (1, 0), 1, 3): 4.962053136573305e-19,\n",
       " (False, (1, 0), 2, 0): 4.154306272261662e-19,\n",
       " (False, (1, 0), 2, 1): 0.06249999999998738,\n",
       " (False, (1, 0), 2, 2): 8.122780544482235e-19,\n",
       " (False, (1, 0), 2, 3): 0.06249999999998725,\n",
       " (False, (1, 0), 3, 0): 0.0625000000000009,\n",
       " (False, (1, 0), 3, 1): -6.436323354574664e-19,\n",
       " (False, (1, 0), 3, 2): 0.06250000000001146,\n",
       " (False, (1, 0), 3, 3): -4.968338324924365e-19,\n",
       " (False, (1, 1), 0, 0): -5.558297300505018e-19,\n",
       " (False, (1, 1), 0, 1): 0.0624999999999997,\n",
       " (False, (1, 1), 0, 2): 0.06249999999999843,\n",
       " (False, (1, 1), 0, 3): -5.762672167053104e-19,\n",
       " (False, (1, 1), 1, 0): 0.06249999999999651,\n",
       " (False, (1, 1), 1, 1): 2.13355743483601e-18,\n",
       " (False, (1, 1), 1, 2): 2.1279050295403402e-18,\n",
       " (False, (1, 1), 1, 3): 0.062499999999999806,\n",
       " (False, (1, 1), 2, 0): 0.062499999999998286,\n",
       " (False, (1, 1), 2, 1): 4.376177549880898e-19,\n",
       " (False, (1, 1), 2, 2): 4.236471238848177e-19,\n",
       " (False, (1, 1), 2, 3): 0.06250000000000158,\n",
       " (False, (1, 1), 3, 0): 1.2325093667658936e-18,\n",
       " (False, (1, 1), 3, 1): 0.06250000000000282,\n",
       " (False, (1, 1), 3, 2): 0.06250000000000155,\n",
       " (False, (1, 1), 3, 3): 1.220390105884857e-18}"
      ]
     },
     "execution_count": 51,
     "metadata": {},
     "output_type": "execute_result"
    }
   ],
   "source": [
    "fermion_exps"
   ]
  },
  {
   "cell_type": "code",
   "execution_count": 52,
   "id": "b1a2ec88-0e67-4d22-ab2e-1362ee4e4e8f",
   "metadata": {},
   "outputs": [
    {
     "data": {
      "text/plain": [
       "[0.06250000000000211,\n",
       " 0.06250000000000305,\n",
       " 0.06250000000000623,\n",
       " 0.06250000000000577,\n",
       " 0.06249999999999793,\n",
       " 0.062499999999996406,\n",
       " 0.062499999999995746,\n",
       " 0.06249999999999445,\n",
       " 0.06249999999999688,\n",
       " 0.06250000000000001,\n",
       " 0.06250000000000845,\n",
       " 0.062499999999999264,\n",
       " 0.06249999999998945,\n",
       " 0.06249999999999283,\n",
       " 0.06250000000000633,\n",
       " 0.06249999999999714,\n",
       " 0.06249999999999945,\n",
       " 0.062499999999986816,\n",
       " 0.06250000000000132,\n",
       " 0.06250000000000268,\n",
       " 0.06250000000000133,\n",
       " 0.06250000000000186,\n",
       " 0.062499999999988745,\n",
       " 0.062499999999976234,\n",
       " 0.06250000000000797,\n",
       " 0.06250000000000734,\n",
       " 0.06250000000000586,\n",
       " 0.06250000000000522,\n",
       " 0.06249999999998972,\n",
       " 0.06249999999999418,\n",
       " 0.06249999999998998,\n",
       " 0.06249999999999444,\n",
       " 0.06249999999999719,\n",
       " 0.06249999999999707,\n",
       " 0.06249999999999756,\n",
       " 0.06250000000000813,\n",
       " 0.06249999999998738,\n",
       " 0.06249999999998725,\n",
       " 0.0625000000000009,\n",
       " 0.06250000000001146,\n",
       " 0.0624999999999997,\n",
       " 0.06249999999999843,\n",
       " 0.06249999999999651,\n",
       " 0.062499999999999806,\n",
       " 0.062499999999998286,\n",
       " 0.06250000000000158,\n",
       " 0.06250000000000282,\n",
       " 0.06250000000000155]"
      ]
     },
     "execution_count": 52,
     "metadata": {},
     "output_type": "execute_result"
    }
   ],
   "source": [
    "[\n",
    "    v\n",
    "    for k, v in fermion_exps.items()\n",
    "    if v > 0.01\n",
    "]"
   ]
  },
  {
   "cell_type": "code",
   "execution_count": 53,
   "id": "dd5dde39-3d69-4f88-a498-7e3f9181c211",
   "metadata": {},
   "outputs": [
    {
     "data": {
      "text/plain": [
       "[(True, (0, 1), 0, 2),\n",
       " (True, (0, 1), 0, 3),\n",
       " (True, (0, 1), 1, 2),\n",
       " (True, (0, 1), 1, 3),\n",
       " (True, (0, 1), 2, 0),\n",
       " (True, (0, 1), 2, 1),\n",
       " (True, (0, 1), 3, 0),\n",
       " (True, (0, 1), 3, 1),\n",
       " (True, (1, 0), 0, 1),\n",
       " (True, (1, 0), 0, 3),\n",
       " (True, (1, 0), 1, 0),\n",
       " (True, (1, 0), 1, 2),\n",
       " (True, (1, 0), 2, 1),\n",
       " (True, (1, 0), 2, 3),\n",
       " (True, (1, 0), 3, 0),\n",
       " (True, (1, 0), 3, 2),\n",
       " (True, (1, 1), 0, 1),\n",
       " (True, (1, 1), 0, 2),\n",
       " (True, (1, 1), 1, 0),\n",
       " (True, (1, 1), 1, 3),\n",
       " (True, (1, 1), 2, 0),\n",
       " (True, (1, 1), 2, 3),\n",
       " (True, (1, 1), 3, 1),\n",
       " (True, (1, 1), 3, 2),\n",
       " (False, (0, 1), 0, 2),\n",
       " (False, (0, 1), 0, 3),\n",
       " (False, (0, 1), 1, 2),\n",
       " (False, (0, 1), 1, 3),\n",
       " (False, (0, 1), 2, 0),\n",
       " (False, (0, 1), 2, 1),\n",
       " (False, (0, 1), 3, 0),\n",
       " (False, (0, 1), 3, 1),\n",
       " (False, (1, 0), 0, 1),\n",
       " (False, (1, 0), 0, 3),\n",
       " (False, (1, 0), 1, 0),\n",
       " (False, (1, 0), 1, 2),\n",
       " (False, (1, 0), 2, 1),\n",
       " (False, (1, 0), 2, 3),\n",
       " (False, (1, 0), 3, 0),\n",
       " (False, (1, 0), 3, 2),\n",
       " (False, (1, 1), 0, 1),\n",
       " (False, (1, 1), 0, 2),\n",
       " (False, (1, 1), 1, 0),\n",
       " (False, (1, 1), 1, 3),\n",
       " (False, (1, 1), 2, 0),\n",
       " (False, (1, 1), 2, 3),\n",
       " (False, (1, 1), 3, 1),\n",
       " (False, (1, 1), 3, 2)]"
      ]
     },
     "execution_count": 53,
     "metadata": {},
     "output_type": "execute_result"
    }
   ],
   "source": [
    "[\n",
    "    k\n",
    "    for k, v in fermion_exps.items()\n",
    "    if v > 0.01\n",
    "]"
   ]
  },
  {
   "cell_type": "markdown",
   "id": "c4c44b51-3aa9-43fe-979a-574781d909bd",
   "metadata": {},
   "source": [
    "Looks good."
   ]
  },
  {
   "cell_type": "markdown",
   "id": "f0d29ecd-6344-4224-98f4-c2c9739cf441",
   "metadata": {},
   "source": [
    "## Identity Boundary operators"
   ]
  },
  {
   "cell_type": "code",
   "execution_count": 54,
   "id": "ac19b501-4293-4d08-8bb0-35515cd6a093",
   "metadata": {},
   "outputs": [],
   "source": [
    "cases = dict()\n",
    "\n",
    "for k, psi in loaded_data.items():\n",
    "\n",
    "    for i, l in enumerate(symmetry_actions):\n",
    "\n",
    "        for j, s in enumerate(l):\n",
    "            case = SymmetryActionWithBoundaryUnitaries(\n",
    "                psi,\n",
    "                s*50,\n",
    "                left_symmetry_index=50,\n",
    "                left_boundary_unitaries=[np_I, np_00]*1,\n",
    "                right_boundary_unitaries=[np_00, np_I, np_00]*1\n",
    "            )\n",
    "\n",
    "            cases[(*k, i, j)] = case"
   ]
  },
  {
   "cell_type": "code",
   "execution_count": 55,
   "id": "8e7ff810-32b3-4163-9b1b-ca96a282a7f5",
   "metadata": {},
   "outputs": [],
   "source": [
    "for c in cases.values():\n",
    "    c.compute_svd_approximate_expectation()"
   ]
  },
  {
   "cell_type": "code",
   "execution_count": 56,
   "id": "6023d4de-1220-437e-b33d-d0332da0e5db",
   "metadata": {},
   "outputs": [],
   "source": [
    "right_exps = {\n",
    "    k: round(np.abs(v.right_expectation), 1)\n",
    "    for k, v in cases.items()\n",
    "}"
   ]
  },
  {
   "cell_type": "code",
   "execution_count": 57,
   "id": "69f4950f-a591-4c46-b247-b3904c1d56c2",
   "metadata": {},
   "outputs": [
    {
     "data": {
      "text/plain": [
       "{(False, (1, 1), 0, 0): 1.4,\n",
       " (False, (1, 1), 0, 1): 0.0,\n",
       " (False, (1, 1), 0, 2): 0.0,\n",
       " (False, (1, 1), 0, 3): 1.4,\n",
       " (False, (1, 1), 1, 0): 0.0,\n",
       " (False, (1, 1), 1, 1): 0.0,\n",
       " (False, (1, 1), 1, 2): 0.0,\n",
       " (False, (1, 1), 1, 3): 0.0,\n",
       " (False, (0, 1), 0, 0): 1.4,\n",
       " (False, (0, 1), 0, 1): 1.4,\n",
       " (False, (0, 1), 0, 2): 0.0,\n",
       " (False, (0, 1), 0, 3): 0.0,\n",
       " (False, (0, 1), 1, 0): 0.0,\n",
       " (False, (0, 1), 1, 1): 0.0,\n",
       " (False, (0, 1), 1, 2): 0.0,\n",
       " (False, (0, 1), 1, 3): 0.0,\n",
       " (False, (1, 0), 0, 0): 1.4,\n",
       " (False, (1, 0), 0, 1): 0.0,\n",
       " (False, (1, 0), 0, 2): 1.4,\n",
       " (False, (1, 0), 0, 3): 0.0,\n",
       " (False, (1, 0), 1, 0): 0.0,\n",
       " (False, (1, 0), 1, 1): 0.0,\n",
       " (False, (1, 0), 1, 2): 0.0,\n",
       " (False, (1, 0), 1, 3): 0.0,\n",
       " (False, (0, 0), 0, 0): 1.0,\n",
       " (False, (0, 0), 0, 1): 1.0,\n",
       " (False, (0, 0), 0, 2): 1.0,\n",
       " (False, (0, 0), 0, 3): 1.0,\n",
       " (False, (0, 0), 1, 0): 1.0,\n",
       " (False, (0, 0), 1, 1): 1.0,\n",
       " (False, (0, 0), 1, 2): 1.0,\n",
       " (False, (0, 0), 1, 3): 1.0}"
      ]
     },
     "execution_count": 57,
     "metadata": {},
     "output_type": "execute_result"
    }
   ],
   "source": [
    "{\n",
    "    k: v for k, v in right_exps.items()\n",
    "    if not k[0]\n",
    "}"
   ]
  },
  {
   "cell_type": "markdown",
   "id": "cf5ecbd1-439f-45dd-a866-3b796a8ba1f0",
   "metadata": {},
   "source": [
    "## Theoretical solution boundary operators"
   ]
  },
  {
   "cell_type": "code",
   "execution_count": 58,
   "id": "0c1d8aa9-70b8-4c95-a973-c9ea0970290c",
   "metadata": {},
   "outputs": [
    {
     "data": {
      "text/plain": [
       "<npc.Array shape=(4, 4, 2, 2, 4, 4, 2, 2, 4, 4, 2, 2) labels=['p0', 'p0*', 'p1', 'p1*', 'p2', 'p2*', 'p3', 'p3*', 'p4', 'p4*', 'p5', 'p5*']>"
      ]
     },
     "execution_count": 58,
     "metadata": {},
     "output_type": "execute_result"
    }
   ],
   "source": [
    "rdm"
   ]
  },
  {
   "cell_type": "code",
   "execution_count": 59,
   "id": "7b8babcd-4942-4168-ba35-f51595dfe294",
   "metadata": {},
   "outputs": [],
   "source": [
    "fermion_operators = {\n",
    "    (0, 0): np_I,\n",
    "    (1, 0): np_c_minus,\n",
    "    (0, 1): np_c_plus,\n",
    "    (1, 1): np_I\n",
    "}"
   ]
  },
  {
   "cell_type": "code",
   "execution_count": 60,
   "id": "6a1b3264-f578-4b67-9f58-465525f46246",
   "metadata": {},
   "outputs": [],
   "source": [
    "def boundary_operator_fermion_component(n1_func, g_left, g_right, g_sym):\n",
    "    before_n = n1_func(g_left, g_right)\n",
    "    after_n = n1_func(mod_4_to_bit_addition(g_left, g_sym), g_right)\n",
    "    \n",
    "    out = fermion_operators[(before_n, after_n)]\n",
    "\n",
    "    return out"
   ]
  },
  {
   "cell_type": "code",
   "execution_count": 61,
   "id": "c1d51e25-8035-4d97-8c5e-a4c7a45eb619",
   "metadata": {},
   "outputs": [],
   "source": [
    "def np_tensor_product(X, Y):\n",
    "    out = (\n",
    "        X[(...,) + (np.newaxis,)*len(Y.shape)]\n",
    "        *Y[(np.newaxis,)*len(X.shape) + (...,)]\n",
    "    )\n",
    "\n",
    "    return out"
   ]
  },
  {
   "cell_type": "code",
   "execution_count": 62,
   "id": "cf3bfcf9-ff01-47c2-889b-62832ff3940c",
   "metadata": {},
   "outputs": [],
   "source": [
    "test_rdm = extract_rdm(loaded_data[(False, (0, 0))], 100, 3)"
   ]
  },
  {
   "cell_type": "code",
   "execution_count": 63,
   "id": "790c007e-1924-4cd5-bfdd-d5d738a77dd9",
   "metadata": {},
   "outputs": [
    {
     "data": {
      "text/plain": [
       "<npc.Array shape=(4, 4, 2, 2, 4, 4) labels=['p0', 'p0*', 'p1', 'p1*', 'p2', 'p2*']>"
      ]
     },
     "execution_count": 63,
     "metadata": {},
     "output_type": "execute_result"
    }
   ],
   "source": [
    "test_rdm"
   ]
  },
  {
   "cell_type": "code",
   "execution_count": 64,
   "id": "3e0b4dd5-994b-4c51-883f-20693b231152",
   "metadata": {},
   "outputs": [],
   "source": [
    "leg_labels = ['p0', 'p0*', 'p1', 'p1*', 'p2', 'p2*']\n",
    "leg_charges = [\n",
    "    test_rdm.split_legs().get_leg(l)\n",
    "    for l in leg_labels\n",
    "]"
   ]
  },
  {
   "cell_type": "code",
   "execution_count": 65,
   "id": "9baf8d51-e417-4080-8057-600dfe8b6c05",
   "metadata": {},
   "outputs": [],
   "source": [
    "def predicted_boundary_operator(n1_func, g_sym):\n",
    "    np_arrays = list()\n",
    "\n",
    "    for g_left, g_right in product(range(4), repeat=2):\n",
    "        X_left = np.zeros((4,4))\n",
    "        X_left[g_left, g_left] = 1\n",
    "        \n",
    "        X_right = np.zeros((4,4))\n",
    "        X_right[g_right, g_right] = 1\n",
    "    \n",
    "        X_fermion = boundary_operator_fermion_component(\n",
    "            n1_func, g_left, g_right, g_sym\n",
    "        )\n",
    "\n",
    "        X = np_tensor_product(X_left, X_fermion)\n",
    "        X = np_tensor_product(X, X_right)\n",
    "    \n",
    "        np_arrays.append(X)\n",
    "\n",
    "    X = sum(np_arrays)\n",
    "    X = X.astype(np.complex128)\n",
    "\n",
    "    npc_X = npc.Array.from_ndarray(\n",
    "        X,\n",
    "        leg_charges,\n",
    "        dtype=np.complex128,\n",
    "        labels=leg_labels\n",
    "    )\n",
    "\n",
    "    return npc_X"
   ]
  },
  {
   "cell_type": "code",
   "execution_count": 66,
   "id": "ada349e5-f031-4592-8275-118fa86cc7fc",
   "metadata": {},
   "outputs": [],
   "source": [
    "predicted_boundary_operators = dict()\n",
    "\n",
    "for n1_pair in n1_pairs:\n",
    "    for g_sym in range(4):\n",
    "        n1_func = get_n1_func(*n1_pair)\n",
    "        op = predicted_boundary_operator(n1_func, g_sym)\n",
    "        predicted_boundary_operators[(n1_pair, g_sym)] = op"
   ]
  },
  {
   "cell_type": "code",
   "execution_count": 67,
   "id": "df886c37-f5ce-4cf0-9d5b-1676c3460114",
   "metadata": {},
   "outputs": [
    {
     "data": {
      "text/plain": [
       "<npc.Array shape=(4, 4, 2, 2, 4, 4) labels=['p0', 'p0*', 'p1', 'p1*', 'p2', 'p2*']>"
      ]
     },
     "execution_count": 67,
     "metadata": {},
     "output_type": "execute_result"
    }
   ],
   "source": [
    "predicted_boundary_operators[((0, 0), 1)]"
   ]
  },
  {
   "cell_type": "code",
   "execution_count": 68,
   "id": "ea12ec63-7d82-481c-b248-dedba2fb1383",
   "metadata": {},
   "outputs": [],
   "source": [
    "test_case = list(cases.values())[0]"
   ]
  },
  {
   "cell_type": "code",
   "execution_count": 69,
   "id": "81d848ec-9200-42aa-8eb1-44f3b28b14a7",
   "metadata": {},
   "outputs": [
    {
     "data": {
      "text/plain": [
       "149"
      ]
     },
     "execution_count": 69,
     "metadata": {},
     "output_type": "execute_result"
    }
   ],
   "source": [
    "test_case.right_symmetry_index"
   ]
  },
  {
   "cell_type": "code",
   "execution_count": 70,
   "id": "fc7dc59e-8e48-4e44-8777-c73d33807d38",
   "metadata": {},
   "outputs": [],
   "source": [
    "def extract_right_rdm(case, num_sites):\n",
    "    t = case.right_projected_symmetry_state\n",
    "    psi = case.psi\n",
    "\n",
    "    right_symmetry_index = test_case.right_symmetry_index + 1\n",
    "    sites = range(right_symmetry_index, right_symmetry_index + num_sites)\n",
    "    for i, site_index in enumerate(sites):\n",
    "        b = psi.get_B(site_index)\n",
    "        b = b.replace_label('p', f'p{i}')\n",
    "        \n",
    "        t = npc.tensordot(t, b, [['vR',], ['vL',]])\n",
    "        t = npc.tensordot(t, b.conj(), [['vR*',], ['vL*',]])\n",
    "    \n",
    "    t = npc.trace(t, 'vR', 'vR*')\n",
    "\n",
    "    sing_val = case.symmetry_transfer_matrix_singular_vals[0]\n",
    "    t*= np.sqrt(sing_val)\n",
    "\n",
    "    return t"
   ]
  },
  {
   "cell_type": "markdown",
   "id": "43f9ad2c-eb58-4982-961a-ed07454ad563",
   "metadata": {},
   "source": [
    "Check to see expectation of predicted boundary operator for each case."
   ]
  },
  {
   "cell_type": "code",
   "execution_count": 71,
   "id": "721783c0-ef3d-4766-8433-cb852033d993",
   "metadata": {},
   "outputs": [],
   "source": [
    "num_sites = 3\n",
    "\n",
    "predicted_exps = dict()\n",
    "\n",
    "for k, v in cases.items():\n",
    "    pr, n1_pair, jw, g_sym = k\n",
    "\n",
    "    rdm = extract_right_rdm(case, num_sites)\n",
    "    op = predicted_boundary_operators[(n1_pair, g_sym)]\n",
    "\n",
    "    exp = npc.tensordot(\n",
    "        rdm,\n",
    "        op,\n",
    "        [\n",
    "            ['p0', 'p0*', 'p1', 'p1*', 'p2', 'p2*'],\n",
    "            ['p0*', 'p0', 'p1*', 'p1', 'p2*', 'p2'],\n",
    "        ]\n",
    "    )\n",
    "    \n",
    "    predicted_exps[k] = exp"
   ]
  },
  {
   "cell_type": "code",
   "execution_count": 72,
   "id": "9d50f8f6-591f-4bd4-850f-cf315de8f0df",
   "metadata": {},
   "outputs": [
    {
     "data": {
      "text/plain": [
       "{(False, (1, 1), 0, 0): (0.9999999999999978+0j),\n",
       " (False, (1, 1), 0, 1): (-3.0531133177191395e-15+0j),\n",
       " (False, (1, 1), 0, 2): (-3.0531133177191395e-15+0j),\n",
       " (False, (1, 1), 0, 3): (0.9999999999999978+0j),\n",
       " (False, (1, 1), 1, 0): (0.9999999999999978+0j),\n",
       " (False, (1, 1), 1, 1): (-3.0531133177191395e-15+0j),\n",
       " (False, (1, 1), 1, 2): (-3.0531133177191395e-15+0j),\n",
       " (False, (1, 1), 1, 3): (0.9999999999999978+0j),\n",
       " (False, (0, 1), 0, 0): (0.9999999999999978+0j),\n",
       " (False, (0, 1), 0, 1): (0.9999999999999978+0j),\n",
       " (False, (0, 1), 0, 2): (-3.0531133177191395e-15+0j),\n",
       " (False, (0, 1), 0, 3): (-3.0531133177191395e-15+0j),\n",
       " (False, (0, 1), 1, 0): (0.9999999999999978+0j),\n",
       " (False, (0, 1), 1, 1): (0.9999999999999978+0j),\n",
       " (False, (0, 1), 1, 2): (-3.0531133177191395e-15+0j),\n",
       " (False, (0, 1), 1, 3): (-3.0531133177191395e-15+0j),\n",
       " (False, (1, 0), 0, 0): (0.9999999999999978+0j),\n",
       " (False, (1, 0), 0, 1): (-3.0531133177191395e-15+0j),\n",
       " (False, (1, 0), 0, 2): (0.9999999999999978+0j),\n",
       " (False, (1, 0), 0, 3): (-3.0531133177191395e-15+0j),\n",
       " (False, (1, 0), 1, 0): (0.9999999999999978+0j),\n",
       " (False, (1, 0), 1, 1): (-3.0531133177191395e-15+0j),\n",
       " (False, (1, 0), 1, 2): (0.9999999999999978+0j),\n",
       " (False, (1, 0), 1, 3): (-3.0531133177191395e-15+0j),\n",
       " (False, (0, 0), 0, 0): (0.9999999999999978+0j),\n",
       " (False, (0, 0), 0, 1): (0.9999999999999978+0j),\n",
       " (False, (0, 0), 0, 2): (0.9999999999999978+0j),\n",
       " (False, (0, 0), 0, 3): (0.9999999999999978+0j),\n",
       " (False, (0, 0), 1, 0): (0.9999999999999978+0j),\n",
       " (False, (0, 0), 1, 1): (0.9999999999999978+0j),\n",
       " (False, (0, 0), 1, 2): (0.9999999999999978+0j),\n",
       " (False, (0, 0), 1, 3): (0.9999999999999978+0j)}"
      ]
     },
     "execution_count": 72,
     "metadata": {},
     "output_type": "execute_result"
    }
   ],
   "source": [
    "{\n",
    "    k: v\n",
    "    for k, v in predicted_exps.items()\n",
    "    if not k[0]\n",
    "}"
   ]
  },
  {
   "cell_type": "markdown",
   "id": "820be336-231b-4b79-a948-c623adbad00c",
   "metadata": {},
   "source": [
    "Check to see expectation of all possible boundary operators for each case."
   ]
  },
  {
   "cell_type": "code",
   "execution_count": 73,
   "id": "410b7b24-0821-45c2-8d9a-a5f0987c524d",
   "metadata": {},
   "outputs": [],
   "source": [
    "num_sites = 3\n",
    "\n",
    "predicted_exps = dict()\n",
    "\n",
    "for k_case, case in cases.items():\n",
    "    for k_b_op, b_op in predicted_boundary_operators.items():\n",
    "        pr, n1_pair_case, jw, g_sym_case = k_case\n",
    "        n1_pair_b_op, g_sym_b_op = k_b_op\n",
    "\n",
    "        rdm = extract_right_rdm(case, num_sites)\n",
    "    \n",
    "        exp = npc.tensordot(\n",
    "            rdm,\n",
    "            b_op,\n",
    "            [\n",
    "                ['p0', 'p0*', 'p1', 'p1*', 'p2', 'p2*'],\n",
    "                ['p0*', 'p0', 'p1*', 'p1', 'p2*', 'p2'],\n",
    "            ]\n",
    "        )\n",
    "        key = (\n",
    "            pr,\n",
    "            *n1_pair_case,\n",
    "            jw,\n",
    "            g_sym_case,\n",
    "            *n1_pair_b_op,\n",
    "            g_sym_b_op\n",
    "        )\n",
    "\n",
    "        predicted_exps[key] = exp"
   ]
  },
  {
   "cell_type": "code",
   "execution_count": 74,
   "id": "d2cc1dc0-9318-4ab0-853a-dd73b5f1b2a1",
   "metadata": {},
   "outputs": [
    {
     "data": {
      "text/plain": [
       "1024"
      ]
     },
     "execution_count": 74,
     "metadata": {},
     "output_type": "execute_result"
    }
   ],
   "source": [
    "len(predicted_exps)"
   ]
  },
  {
   "cell_type": "code",
   "execution_count": 75,
   "id": "63667e66-49a4-496d-a16a-de9ee3ddce9b",
   "metadata": {},
   "outputs": [],
   "source": [
    "predicted_exps_data = [\n",
    "    [*k, v]\n",
    "    for k, v in predicted_exps.items()\n",
    "]"
   ]
  },
  {
   "cell_type": "code",
   "execution_count": 76,
   "id": "5a3008f5-3538-4984-8d96-deddb43a76cf",
   "metadata": {},
   "outputs": [],
   "source": [
    "pred_exps_df = pd.DataFrame(\n",
    "    predicted_exps_data,\n",
    "    columns = [\n",
    "        'non_trivial_proj_rep',\n",
    "        'n1_01_applied',\n",
    "        'n1_10_applied',\n",
    "        'jw_string_applied',\n",
    "        'boson_sym_applied',\n",
    "        'n1_01_boundary',\n",
    "        'n1_10_boundary',\n",
    "        'boson_sym_boundary',\n",
    "        'exp'\n",
    "    ]\n",
    ")   "
   ]
  },
  {
   "cell_type": "code",
   "execution_count": 77,
   "id": "7ba07641-5523-47fe-b130-27bcc1d1ed5c",
   "metadata": {},
   "outputs": [
    {
     "data": {
      "text/html": [
       "<div>\n",
       "<style scoped>\n",
       "    .dataframe tbody tr th:only-of-type {\n",
       "        vertical-align: middle;\n",
       "    }\n",
       "\n",
       "    .dataframe tbody tr th {\n",
       "        vertical-align: top;\n",
       "    }\n",
       "\n",
       "    .dataframe thead th {\n",
       "        text-align: right;\n",
       "    }\n",
       "</style>\n",
       "<table border=\"1\" class=\"dataframe\">\n",
       "  <thead>\n",
       "    <tr style=\"text-align: right;\">\n",
       "      <th></th>\n",
       "      <th>non_trivial_proj_rep</th>\n",
       "      <th>n1_01_applied</th>\n",
       "      <th>n1_10_applied</th>\n",
       "      <th>jw_string_applied</th>\n",
       "      <th>boson_sym_applied</th>\n",
       "      <th>n1_01_boundary</th>\n",
       "      <th>n1_10_boundary</th>\n",
       "      <th>boson_sym_boundary</th>\n",
       "      <th>exp</th>\n",
       "    </tr>\n",
       "  </thead>\n",
       "  <tbody>\n",
       "    <tr>\n",
       "      <th>0</th>\n",
       "      <td>False</td>\n",
       "      <td>1</td>\n",
       "      <td>1</td>\n",
       "      <td>0</td>\n",
       "      <td>0</td>\n",
       "      <td>0</td>\n",
       "      <td>0</td>\n",
       "      <td>0</td>\n",
       "      <td>-1.000000e+00+0.000000e+                    00j</td>\n",
       "    </tr>\n",
       "    <tr>\n",
       "      <th>1</th>\n",
       "      <td>False</td>\n",
       "      <td>1</td>\n",
       "      <td>1</td>\n",
       "      <td>0</td>\n",
       "      <td>0</td>\n",
       "      <td>0</td>\n",
       "      <td>0</td>\n",
       "      <td>1</td>\n",
       "      <td>-1.000000e+00+0.000000e+                    00j</td>\n",
       "    </tr>\n",
       "    <tr>\n",
       "      <th>2</th>\n",
       "      <td>False</td>\n",
       "      <td>1</td>\n",
       "      <td>1</td>\n",
       "      <td>0</td>\n",
       "      <td>0</td>\n",
       "      <td>0</td>\n",
       "      <td>0</td>\n",
       "      <td>2</td>\n",
       "      <td>-1.000000e+00+0.000000e+                    00j</td>\n",
       "    </tr>\n",
       "    <tr>\n",
       "      <th>3</th>\n",
       "      <td>False</td>\n",
       "      <td>1</td>\n",
       "      <td>1</td>\n",
       "      <td>0</td>\n",
       "      <td>0</td>\n",
       "      <td>0</td>\n",
       "      <td>0</td>\n",
       "      <td>3</td>\n",
       "      <td>-1.000000e+00+0.000000e+                    00j</td>\n",
       "    </tr>\n",
       "    <tr>\n",
       "      <th>4</th>\n",
       "      <td>False</td>\n",
       "      <td>1</td>\n",
       "      <td>1</td>\n",
       "      <td>0</td>\n",
       "      <td>0</td>\n",
       "      <td>0</td>\n",
       "      <td>1</td>\n",
       "      <td>0</td>\n",
       "      <td>-1.000000e+00+0.000000e+                    00j</td>\n",
       "    </tr>\n",
       "    <tr>\n",
       "      <th>...</th>\n",
       "      <td>...</td>\n",
       "      <td>...</td>\n",
       "      <td>...</td>\n",
       "      <td>...</td>\n",
       "      <td>...</td>\n",
       "      <td>...</td>\n",
       "      <td>...</td>\n",
       "      <td>...</td>\n",
       "      <td>...</td>\n",
       "    </tr>\n",
       "    <tr>\n",
       "      <th>1019</th>\n",
       "      <td>False</td>\n",
       "      <td>0</td>\n",
       "      <td>0</td>\n",
       "      <td>1</td>\n",
       "      <td>3</td>\n",
       "      <td>1</td>\n",
       "      <td>0</td>\n",
       "      <td>3</td>\n",
       "      <td>-3.053113e-15+0.000000e+                    00j</td>\n",
       "    </tr>\n",
       "    <tr>\n",
       "      <th>1020</th>\n",
       "      <td>False</td>\n",
       "      <td>0</td>\n",
       "      <td>0</td>\n",
       "      <td>1</td>\n",
       "      <td>3</td>\n",
       "      <td>1</td>\n",
       "      <td>1</td>\n",
       "      <td>0</td>\n",
       "      <td>1.000000e+00+0.000000e+                    00j</td>\n",
       "    </tr>\n",
       "    <tr>\n",
       "      <th>1021</th>\n",
       "      <td>False</td>\n",
       "      <td>0</td>\n",
       "      <td>0</td>\n",
       "      <td>1</td>\n",
       "      <td>3</td>\n",
       "      <td>1</td>\n",
       "      <td>1</td>\n",
       "      <td>1</td>\n",
       "      <td>-3.053113e-15+0.000000e+                    00j</td>\n",
       "    </tr>\n",
       "    <tr>\n",
       "      <th>1022</th>\n",
       "      <td>False</td>\n",
       "      <td>0</td>\n",
       "      <td>0</td>\n",
       "      <td>1</td>\n",
       "      <td>3</td>\n",
       "      <td>1</td>\n",
       "      <td>1</td>\n",
       "      <td>2</td>\n",
       "      <td>-3.053113e-15+0.000000e+                    00j</td>\n",
       "    </tr>\n",
       "    <tr>\n",
       "      <th>1023</th>\n",
       "      <td>False</td>\n",
       "      <td>0</td>\n",
       "      <td>0</td>\n",
       "      <td>1</td>\n",
       "      <td>3</td>\n",
       "      <td>1</td>\n",
       "      <td>1</td>\n",
       "      <td>3</td>\n",
       "      <td>1.000000e+00+0.000000e+                    00j</td>\n",
       "    </tr>\n",
       "  </tbody>\n",
       "</table>\n",
       "<p>1024 rows × 9 columns</p>\n",
       "</div>"
      ],
      "text/plain": [
       "      non_trivial_proj_rep  n1_01_applied  n1_10_applied  jw_string_applied  \\\n",
       "0                    False              1              1                  0   \n",
       "1                    False              1              1                  0   \n",
       "2                    False              1              1                  0   \n",
       "3                    False              1              1                  0   \n",
       "4                    False              1              1                  0   \n",
       "...                    ...            ...            ...                ...   \n",
       "1019                 False              0              0                  1   \n",
       "1020                 False              0              0                  1   \n",
       "1021                 False              0              0                  1   \n",
       "1022                 False              0              0                  1   \n",
       "1023                 False              0              0                  1   \n",
       "\n",
       "      boson_sym_applied  n1_01_boundary  n1_10_boundary  boson_sym_boundary  \\\n",
       "0                     0               0               0                   0   \n",
       "1                     0               0               0                   1   \n",
       "2                     0               0               0                   2   \n",
       "3                     0               0               0                   3   \n",
       "4                     0               0               1                   0   \n",
       "...                 ...             ...             ...                 ...   \n",
       "1019                  3               1               0                   3   \n",
       "1020                  3               1               1                   0   \n",
       "1021                  3               1               1                   1   \n",
       "1022                  3               1               1                   2   \n",
       "1023                  3               1               1                   3   \n",
       "\n",
       "                                                 exp  \n",
       "0    -1.000000e+00+0.000000e+                    00j  \n",
       "1    -1.000000e+00+0.000000e+                    00j  \n",
       "2    -1.000000e+00+0.000000e+                    00j  \n",
       "3    -1.000000e+00+0.000000e+                    00j  \n",
       "4    -1.000000e+00+0.000000e+                    00j  \n",
       "...                                              ...  \n",
       "1019 -3.053113e-15+0.000000e+                    00j  \n",
       "1020  1.000000e+00+0.000000e+                    00j  \n",
       "1021 -3.053113e-15+0.000000e+                    00j  \n",
       "1022 -3.053113e-15+0.000000e+                    00j  \n",
       "1023  1.000000e+00+0.000000e+                    00j  \n",
       "\n",
       "[1024 rows x 9 columns]"
      ]
     },
     "execution_count": 77,
     "metadata": {},
     "output_type": "execute_result"
    }
   ],
   "source": [
    "pred_exps_df"
   ]
  },
  {
   "cell_type": "code",
   "execution_count": 78,
   "id": "cc03900f-4e0a-4358-b60b-4399076c287b",
   "metadata": {},
   "outputs": [
    {
     "data": {
      "text/plain": [
       "count    1.024000e+03\n",
       "mean     1.855469e-01\n",
       "std      3.889305e-01\n",
       "min      1.333406e-31\n",
       "25%      3.282420e-17\n",
       "50%      9.982285e-15\n",
       "75%      3.372548e-14\n",
       "max      1.000000e+00\n",
       "Name: exp, dtype: float64"
      ]
     },
     "execution_count": 78,
     "metadata": {},
     "output_type": "execute_result"
    }
   ],
   "source": [
    "pred_exps_df['exp'].abs().describe()"
   ]
  },
  {
   "cell_type": "code",
   "execution_count": 79,
   "id": "1b476e82-15c4-4e40-8db7-fa310b44c50a",
   "metadata": {},
   "outputs": [],
   "source": [
    "pred_exps_df['rounded_exp'] = pred_exps_df['exp'].abs().round(2)"
   ]
  },
  {
   "cell_type": "code",
   "execution_count": 80,
   "id": "f3b0ed4d-af9a-4241-a3ac-a5cf2b8e1c72",
   "metadata": {},
   "outputs": [
    {
     "data": {
      "text/plain": [
       "rounded_exp\n",
       "0.0    834\n",
       "1.0    190\n",
       "Name: count, dtype: int64"
      ]
     },
     "execution_count": 80,
     "metadata": {},
     "output_type": "execute_result"
    }
   ],
   "source": [
    "pred_exps_df['rounded_exp'].value_counts()"
   ]
  },
  {
   "cell_type": "code",
   "execution_count": 81,
   "id": "69156d48-aca4-4e10-bd2e-e83a65b9e394",
   "metadata": {},
   "outputs": [
    {
     "data": {
      "text/plain": [
       "non_trivial_proj_rep\n",
       "False    512\n",
       "True     512\n",
       "Name: count, dtype: int64"
      ]
     },
     "execution_count": 81,
     "metadata": {},
     "output_type": "execute_result"
    }
   ],
   "source": [
    "pred_exps_df['non_trivial_proj_rep'].value_counts()"
   ]
  },
  {
   "cell_type": "code",
   "execution_count": 82,
   "id": "c9384726-072e-4c06-8c8d-761cded0673e",
   "metadata": {},
   "outputs": [],
   "source": [
    "triv_pr_pred_exps_df = pred_exps_df[~pred_exps_df['non_trivial_proj_rep']]"
   ]
  },
  {
   "cell_type": "code",
   "execution_count": 83,
   "id": "0c2912a3-6942-42de-89c0-d414c9cdb64b",
   "metadata": {},
   "outputs": [
    {
     "data": {
      "text/plain": [
       "512"
      ]
     },
     "execution_count": 83,
     "metadata": {},
     "output_type": "execute_result"
    }
   ],
   "source": [
    "len(triv_pr_pred_exps_df)"
   ]
  },
  {
   "cell_type": "code",
   "execution_count": 84,
   "id": "5ba23525-4340-4591-8e25-a7fdc9879cef",
   "metadata": {},
   "outputs": [
    {
     "data": {
      "text/plain": [
       "rounded_exp\n",
       "0.0    372\n",
       "1.0    140\n",
       "Name: count, dtype: int64"
      ]
     },
     "execution_count": 84,
     "metadata": {},
     "output_type": "execute_result"
    }
   ],
   "source": [
    "triv_pr_pred_exps_df['rounded_exp'].value_counts()"
   ]
  },
  {
   "cell_type": "code",
   "execution_count": 85,
   "id": "314cdac2-6eb8-4d5f-8d01-2599c6d4750b",
   "metadata": {},
   "outputs": [
    {
     "data": {
      "text/plain": [
       "rounded_exp\n",
       "1.0    80\n",
       "0.0    48\n",
       "Name: count, dtype: int64"
      ]
     },
     "execution_count": 85,
     "metadata": {},
     "output_type": "execute_result"
    }
   ],
   "source": [
    "(\n",
    "    triv_pr_pred_exps_df[\n",
    "        (triv_pr_pred_exps_df['n1_01_applied'] == 0)\n",
    "        & (triv_pr_pred_exps_df['n1_10_applied'] == 0)\n",
    "    ]\n",
    "    ['rounded_exp']\n",
    "    .value_counts()\n",
    ")"
   ]
  },
  {
   "cell_type": "code",
   "execution_count": 86,
   "id": "37b9f066-c134-4e60-b279-4bedbe74a202",
   "metadata": {},
   "outputs": [
    {
     "data": {
      "text/plain": [
       "rounded_exp\n",
       "1.0    32\n",
       "Name: count, dtype: int64"
      ]
     },
     "execution_count": 86,
     "metadata": {},
     "output_type": "execute_result"
    }
   ],
   "source": [
    "df = triv_pr_pred_exps_df\n",
    "\n",
    "(\n",
    "    df[\n",
    "        (df['n1_01_applied'] == 0)\n",
    "        & (df['n1_10_applied'] == 0)\n",
    "        & (df['n1_01_boundary'] == 0)\n",
    "        & (df['n1_10_boundary'] == 0)\n",
    "    ]\n",
    "    ['rounded_exp']\n",
    "    .value_counts()\n",
    ")"
   ]
  },
  {
   "cell_type": "code",
   "execution_count": 95,
   "id": "3cc96230-e62c-4966-a497-31341a8cabca",
   "metadata": {},
   "outputs": [
    {
     "data": {
      "text/plain": [
       "48"
      ]
     },
     "execution_count": 95,
     "metadata": {},
     "output_type": "execute_result"
    }
   ],
   "source": [
    "df = triv_pr_pred_exps_df\n",
    "\n",
    "sub_df = df[\n",
    "    ((df['n1_01_applied'] == 0) & (df['n1_10_applied'] == 0))\n",
    "    & ~((df['n1_01_boundary'] == 0) & (df['n1_10_boundary'] == 0))\n",
    "    & (df['rounded_exp'] == 0)\n",
    "]\n",
    "\n",
    "len(sub_df)"
   ]
  },
  {
   "cell_type": "code",
   "execution_count": 96,
   "id": "e1109be3-a69e-45bd-90e6-1ad492ba673c",
   "metadata": {},
   "outputs": [],
   "source": [
    "df = triv_pr_pred_exps_df\n",
    "\n",
    "triv_pr_non_triv_pred_exps_df = (\n",
    "    df[\n",
    "        (df['n1_01_applied'] == 1)\n",
    "        | (df['n1_10_applied'] == 1)\n",
    "    ]\n",
    ")"
   ]
  },
  {
   "cell_type": "code",
   "execution_count": 97,
   "id": "f7d6fdc8-87e4-4971-a6d6-5aebb893b020",
   "metadata": {},
   "outputs": [
    {
     "data": {
      "text/plain": [
       "384"
      ]
     },
     "execution_count": 97,
     "metadata": {},
     "output_type": "execute_result"
    }
   ],
   "source": [
    "len(triv_pr_non_triv_pred_exps_df)"
   ]
  },
  {
   "cell_type": "code",
   "execution_count": 98,
   "id": "e6c70379-76b5-4bb7-a915-1c065c05e470",
   "metadata": {},
   "outputs": [
    {
     "data": {
      "text/plain": [
       "rounded_exp\n",
       "0.0    324\n",
       "1.0     60\n",
       "Name: count, dtype: int64"
      ]
     },
     "execution_count": 98,
     "metadata": {},
     "output_type": "execute_result"
    }
   ],
   "source": [
    "triv_pr_non_triv_pred_exps_df['rounded_exp'].value_counts()"
   ]
  },
  {
   "cell_type": "code",
   "execution_count": 99,
   "id": "d2fb8296-6990-49eb-826f-6719504d1f50",
   "metadata": {},
   "outputs": [
    {
     "data": {
      "text/html": [
       "<div>\n",
       "<style scoped>\n",
       "    .dataframe tbody tr th:only-of-type {\n",
       "        vertical-align: middle;\n",
       "    }\n",
       "\n",
       "    .dataframe tbody tr th {\n",
       "        vertical-align: top;\n",
       "    }\n",
       "\n",
       "    .dataframe thead th {\n",
       "        text-align: right;\n",
       "    }\n",
       "</style>\n",
       "<table border=\"1\" class=\"dataframe\">\n",
       "  <thead>\n",
       "    <tr style=\"text-align: right;\">\n",
       "      <th></th>\n",
       "      <th>non_trivial_proj_rep</th>\n",
       "      <th>n1_01_applied</th>\n",
       "      <th>n1_10_applied</th>\n",
       "      <th>jw_string_applied</th>\n",
       "      <th>boson_sym_applied</th>\n",
       "      <th>n1_01_boundary</th>\n",
       "      <th>n1_10_boundary</th>\n",
       "      <th>boson_sym_boundary</th>\n",
       "      <th>exp</th>\n",
       "      <th>rounded_exp</th>\n",
       "    </tr>\n",
       "  </thead>\n",
       "  <tbody>\n",
       "    <tr>\n",
       "      <th>0</th>\n",
       "      <td>False</td>\n",
       "      <td>1</td>\n",
       "      <td>1</td>\n",
       "      <td>0</td>\n",
       "      <td>0</td>\n",
       "      <td>0</td>\n",
       "      <td>0</td>\n",
       "      <td>0</td>\n",
       "      <td>-1.0+0.0j</td>\n",
       "      <td>1.0</td>\n",
       "    </tr>\n",
       "    <tr>\n",
       "      <th>1</th>\n",
       "      <td>False</td>\n",
       "      <td>1</td>\n",
       "      <td>1</td>\n",
       "      <td>0</td>\n",
       "      <td>0</td>\n",
       "      <td>0</td>\n",
       "      <td>0</td>\n",
       "      <td>1</td>\n",
       "      <td>-1.0+0.0j</td>\n",
       "      <td>1.0</td>\n",
       "    </tr>\n",
       "    <tr>\n",
       "      <th>2</th>\n",
       "      <td>False</td>\n",
       "      <td>1</td>\n",
       "      <td>1</td>\n",
       "      <td>0</td>\n",
       "      <td>0</td>\n",
       "      <td>0</td>\n",
       "      <td>0</td>\n",
       "      <td>2</td>\n",
       "      <td>-1.0+0.0j</td>\n",
       "      <td>1.0</td>\n",
       "    </tr>\n",
       "    <tr>\n",
       "      <th>3</th>\n",
       "      <td>False</td>\n",
       "      <td>1</td>\n",
       "      <td>1</td>\n",
       "      <td>0</td>\n",
       "      <td>0</td>\n",
       "      <td>0</td>\n",
       "      <td>0</td>\n",
       "      <td>3</td>\n",
       "      <td>-1.0+0.0j</td>\n",
       "      <td>1.0</td>\n",
       "    </tr>\n",
       "    <tr>\n",
       "      <th>4</th>\n",
       "      <td>False</td>\n",
       "      <td>1</td>\n",
       "      <td>1</td>\n",
       "      <td>0</td>\n",
       "      <td>0</td>\n",
       "      <td>0</td>\n",
       "      <td>1</td>\n",
       "      <td>0</td>\n",
       "      <td>-1.0+0.0j</td>\n",
       "      <td>1.0</td>\n",
       "    </tr>\n",
       "    <tr>\n",
       "      <th>5</th>\n",
       "      <td>False</td>\n",
       "      <td>1</td>\n",
       "      <td>1</td>\n",
       "      <td>0</td>\n",
       "      <td>0</td>\n",
       "      <td>0</td>\n",
       "      <td>1</td>\n",
       "      <td>1</td>\n",
       "      <td>-1.0+0.0j</td>\n",
       "      <td>1.0</td>\n",
       "    </tr>\n",
       "    <tr>\n",
       "      <th>8</th>\n",
       "      <td>False</td>\n",
       "      <td>1</td>\n",
       "      <td>1</td>\n",
       "      <td>0</td>\n",
       "      <td>0</td>\n",
       "      <td>1</td>\n",
       "      <td>0</td>\n",
       "      <td>0</td>\n",
       "      <td>-1.0+0.0j</td>\n",
       "      <td>1.0</td>\n",
       "    </tr>\n",
       "    <tr>\n",
       "      <th>10</th>\n",
       "      <td>False</td>\n",
       "      <td>1</td>\n",
       "      <td>1</td>\n",
       "      <td>0</td>\n",
       "      <td>0</td>\n",
       "      <td>1</td>\n",
       "      <td>0</td>\n",
       "      <td>2</td>\n",
       "      <td>-1.0+0.0j</td>\n",
       "      <td>1.0</td>\n",
       "    </tr>\n",
       "    <tr>\n",
       "      <th>12</th>\n",
       "      <td>False</td>\n",
       "      <td>1</td>\n",
       "      <td>1</td>\n",
       "      <td>0</td>\n",
       "      <td>0</td>\n",
       "      <td>1</td>\n",
       "      <td>1</td>\n",
       "      <td>0</td>\n",
       "      <td>-1.0+0.0j</td>\n",
       "      <td>1.0</td>\n",
       "    </tr>\n",
       "    <tr>\n",
       "      <th>15</th>\n",
       "      <td>False</td>\n",
       "      <td>1</td>\n",
       "      <td>1</td>\n",
       "      <td>0</td>\n",
       "      <td>0</td>\n",
       "      <td>1</td>\n",
       "      <td>1</td>\n",
       "      <td>3</td>\n",
       "      <td>-1.0+0.0j</td>\n",
       "      <td>1.0</td>\n",
       "    </tr>\n",
       "    <tr>\n",
       "      <th>48</th>\n",
       "      <td>False</td>\n",
       "      <td>1</td>\n",
       "      <td>1</td>\n",
       "      <td>0</td>\n",
       "      <td>3</td>\n",
       "      <td>0</td>\n",
       "      <td>0</td>\n",
       "      <td>0</td>\n",
       "      <td>-1.0+0.0j</td>\n",
       "      <td>1.0</td>\n",
       "    </tr>\n",
       "    <tr>\n",
       "      <th>49</th>\n",
       "      <td>False</td>\n",
       "      <td>1</td>\n",
       "      <td>1</td>\n",
       "      <td>0</td>\n",
       "      <td>3</td>\n",
       "      <td>0</td>\n",
       "      <td>0</td>\n",
       "      <td>1</td>\n",
       "      <td>-1.0+0.0j</td>\n",
       "      <td>1.0</td>\n",
       "    </tr>\n",
       "    <tr>\n",
       "      <th>50</th>\n",
       "      <td>False</td>\n",
       "      <td>1</td>\n",
       "      <td>1</td>\n",
       "      <td>0</td>\n",
       "      <td>3</td>\n",
       "      <td>0</td>\n",
       "      <td>0</td>\n",
       "      <td>2</td>\n",
       "      <td>-1.0+0.0j</td>\n",
       "      <td>1.0</td>\n",
       "    </tr>\n",
       "    <tr>\n",
       "      <th>51</th>\n",
       "      <td>False</td>\n",
       "      <td>1</td>\n",
       "      <td>1</td>\n",
       "      <td>0</td>\n",
       "      <td>3</td>\n",
       "      <td>0</td>\n",
       "      <td>0</td>\n",
       "      <td>3</td>\n",
       "      <td>-1.0+0.0j</td>\n",
       "      <td>1.0</td>\n",
       "    </tr>\n",
       "    <tr>\n",
       "      <th>52</th>\n",
       "      <td>False</td>\n",
       "      <td>1</td>\n",
       "      <td>1</td>\n",
       "      <td>0</td>\n",
       "      <td>3</td>\n",
       "      <td>0</td>\n",
       "      <td>1</td>\n",
       "      <td>0</td>\n",
       "      <td>-1.0+0.0j</td>\n",
       "      <td>1.0</td>\n",
       "    </tr>\n",
       "    <tr>\n",
       "      <th>53</th>\n",
       "      <td>False</td>\n",
       "      <td>1</td>\n",
       "      <td>1</td>\n",
       "      <td>0</td>\n",
       "      <td>3</td>\n",
       "      <td>0</td>\n",
       "      <td>1</td>\n",
       "      <td>1</td>\n",
       "      <td>-1.0+0.0j</td>\n",
       "      <td>1.0</td>\n",
       "    </tr>\n",
       "    <tr>\n",
       "      <th>56</th>\n",
       "      <td>False</td>\n",
       "      <td>1</td>\n",
       "      <td>1</td>\n",
       "      <td>0</td>\n",
       "      <td>3</td>\n",
       "      <td>1</td>\n",
       "      <td>0</td>\n",
       "      <td>0</td>\n",
       "      <td>-1.0+0.0j</td>\n",
       "      <td>1.0</td>\n",
       "    </tr>\n",
       "    <tr>\n",
       "      <th>58</th>\n",
       "      <td>False</td>\n",
       "      <td>1</td>\n",
       "      <td>1</td>\n",
       "      <td>0</td>\n",
       "      <td>3</td>\n",
       "      <td>1</td>\n",
       "      <td>0</td>\n",
       "      <td>2</td>\n",
       "      <td>-1.0+0.0j</td>\n",
       "      <td>1.0</td>\n",
       "    </tr>\n",
       "    <tr>\n",
       "      <th>60</th>\n",
       "      <td>False</td>\n",
       "      <td>1</td>\n",
       "      <td>1</td>\n",
       "      <td>0</td>\n",
       "      <td>3</td>\n",
       "      <td>1</td>\n",
       "      <td>1</td>\n",
       "      <td>0</td>\n",
       "      <td>-1.0+0.0j</td>\n",
       "      <td>1.0</td>\n",
       "    </tr>\n",
       "    <tr>\n",
       "      <th>63</th>\n",
       "      <td>False</td>\n",
       "      <td>1</td>\n",
       "      <td>1</td>\n",
       "      <td>0</td>\n",
       "      <td>3</td>\n",
       "      <td>1</td>\n",
       "      <td>1</td>\n",
       "      <td>3</td>\n",
       "      <td>-1.0+0.0j</td>\n",
       "      <td>1.0</td>\n",
       "    </tr>\n",
       "    <tr>\n",
       "      <th>384</th>\n",
       "      <td>False</td>\n",
       "      <td>0</td>\n",
       "      <td>1</td>\n",
       "      <td>0</td>\n",
       "      <td>0</td>\n",
       "      <td>0</td>\n",
       "      <td>0</td>\n",
       "      <td>0</td>\n",
       "      <td>-1.0+0.0j</td>\n",
       "      <td>1.0</td>\n",
       "    </tr>\n",
       "    <tr>\n",
       "      <th>385</th>\n",
       "      <td>False</td>\n",
       "      <td>0</td>\n",
       "      <td>1</td>\n",
       "      <td>0</td>\n",
       "      <td>0</td>\n",
       "      <td>0</td>\n",
       "      <td>0</td>\n",
       "      <td>1</td>\n",
       "      <td>-1.0+0.0j</td>\n",
       "      <td>1.0</td>\n",
       "    </tr>\n",
       "    <tr>\n",
       "      <th>386</th>\n",
       "      <td>False</td>\n",
       "      <td>0</td>\n",
       "      <td>1</td>\n",
       "      <td>0</td>\n",
       "      <td>0</td>\n",
       "      <td>0</td>\n",
       "      <td>0</td>\n",
       "      <td>2</td>\n",
       "      <td>-1.0+0.0j</td>\n",
       "      <td>1.0</td>\n",
       "    </tr>\n",
       "    <tr>\n",
       "      <th>387</th>\n",
       "      <td>False</td>\n",
       "      <td>0</td>\n",
       "      <td>1</td>\n",
       "      <td>0</td>\n",
       "      <td>0</td>\n",
       "      <td>0</td>\n",
       "      <td>0</td>\n",
       "      <td>3</td>\n",
       "      <td>-1.0+0.0j</td>\n",
       "      <td>1.0</td>\n",
       "    </tr>\n",
       "    <tr>\n",
       "      <th>388</th>\n",
       "      <td>False</td>\n",
       "      <td>0</td>\n",
       "      <td>1</td>\n",
       "      <td>0</td>\n",
       "      <td>0</td>\n",
       "      <td>0</td>\n",
       "      <td>1</td>\n",
       "      <td>0</td>\n",
       "      <td>-1.0+0.0j</td>\n",
       "      <td>1.0</td>\n",
       "    </tr>\n",
       "    <tr>\n",
       "      <th>389</th>\n",
       "      <td>False</td>\n",
       "      <td>0</td>\n",
       "      <td>1</td>\n",
       "      <td>0</td>\n",
       "      <td>0</td>\n",
       "      <td>0</td>\n",
       "      <td>1</td>\n",
       "      <td>1</td>\n",
       "      <td>-1.0+0.0j</td>\n",
       "      <td>1.0</td>\n",
       "    </tr>\n",
       "    <tr>\n",
       "      <th>392</th>\n",
       "      <td>False</td>\n",
       "      <td>0</td>\n",
       "      <td>1</td>\n",
       "      <td>0</td>\n",
       "      <td>0</td>\n",
       "      <td>1</td>\n",
       "      <td>0</td>\n",
       "      <td>0</td>\n",
       "      <td>-1.0+0.0j</td>\n",
       "      <td>1.0</td>\n",
       "    </tr>\n",
       "    <tr>\n",
       "      <th>394</th>\n",
       "      <td>False</td>\n",
       "      <td>0</td>\n",
       "      <td>1</td>\n",
       "      <td>0</td>\n",
       "      <td>0</td>\n",
       "      <td>1</td>\n",
       "      <td>0</td>\n",
       "      <td>2</td>\n",
       "      <td>-1.0+0.0j</td>\n",
       "      <td>1.0</td>\n",
       "    </tr>\n",
       "    <tr>\n",
       "      <th>396</th>\n",
       "      <td>False</td>\n",
       "      <td>0</td>\n",
       "      <td>1</td>\n",
       "      <td>0</td>\n",
       "      <td>0</td>\n",
       "      <td>1</td>\n",
       "      <td>1</td>\n",
       "      <td>0</td>\n",
       "      <td>-1.0+0.0j</td>\n",
       "      <td>1.0</td>\n",
       "    </tr>\n",
       "    <tr>\n",
       "      <th>399</th>\n",
       "      <td>False</td>\n",
       "      <td>0</td>\n",
       "      <td>1</td>\n",
       "      <td>0</td>\n",
       "      <td>0</td>\n",
       "      <td>1</td>\n",
       "      <td>1</td>\n",
       "      <td>3</td>\n",
       "      <td>-1.0+0.0j</td>\n",
       "      <td>1.0</td>\n",
       "    </tr>\n",
       "    <tr>\n",
       "      <th>400</th>\n",
       "      <td>False</td>\n",
       "      <td>0</td>\n",
       "      <td>1</td>\n",
       "      <td>0</td>\n",
       "      <td>1</td>\n",
       "      <td>0</td>\n",
       "      <td>0</td>\n",
       "      <td>0</td>\n",
       "      <td>-1.0+0.0j</td>\n",
       "      <td>1.0</td>\n",
       "    </tr>\n",
       "    <tr>\n",
       "      <th>401</th>\n",
       "      <td>False</td>\n",
       "      <td>0</td>\n",
       "      <td>1</td>\n",
       "      <td>0</td>\n",
       "      <td>1</td>\n",
       "      <td>0</td>\n",
       "      <td>0</td>\n",
       "      <td>1</td>\n",
       "      <td>-1.0+0.0j</td>\n",
       "      <td>1.0</td>\n",
       "    </tr>\n",
       "    <tr>\n",
       "      <th>402</th>\n",
       "      <td>False</td>\n",
       "      <td>0</td>\n",
       "      <td>1</td>\n",
       "      <td>0</td>\n",
       "      <td>1</td>\n",
       "      <td>0</td>\n",
       "      <td>0</td>\n",
       "      <td>2</td>\n",
       "      <td>-1.0+0.0j</td>\n",
       "      <td>1.0</td>\n",
       "    </tr>\n",
       "    <tr>\n",
       "      <th>403</th>\n",
       "      <td>False</td>\n",
       "      <td>0</td>\n",
       "      <td>1</td>\n",
       "      <td>0</td>\n",
       "      <td>1</td>\n",
       "      <td>0</td>\n",
       "      <td>0</td>\n",
       "      <td>3</td>\n",
       "      <td>-1.0+0.0j</td>\n",
       "      <td>1.0</td>\n",
       "    </tr>\n",
       "    <tr>\n",
       "      <th>404</th>\n",
       "      <td>False</td>\n",
       "      <td>0</td>\n",
       "      <td>1</td>\n",
       "      <td>0</td>\n",
       "      <td>1</td>\n",
       "      <td>0</td>\n",
       "      <td>1</td>\n",
       "      <td>0</td>\n",
       "      <td>-1.0+0.0j</td>\n",
       "      <td>1.0</td>\n",
       "    </tr>\n",
       "    <tr>\n",
       "      <th>405</th>\n",
       "      <td>False</td>\n",
       "      <td>0</td>\n",
       "      <td>1</td>\n",
       "      <td>0</td>\n",
       "      <td>1</td>\n",
       "      <td>0</td>\n",
       "      <td>1</td>\n",
       "      <td>1</td>\n",
       "      <td>-1.0+0.0j</td>\n",
       "      <td>1.0</td>\n",
       "    </tr>\n",
       "    <tr>\n",
       "      <th>408</th>\n",
       "      <td>False</td>\n",
       "      <td>0</td>\n",
       "      <td>1</td>\n",
       "      <td>0</td>\n",
       "      <td>1</td>\n",
       "      <td>1</td>\n",
       "      <td>0</td>\n",
       "      <td>0</td>\n",
       "      <td>-1.0+0.0j</td>\n",
       "      <td>1.0</td>\n",
       "    </tr>\n",
       "    <tr>\n",
       "      <th>410</th>\n",
       "      <td>False</td>\n",
       "      <td>0</td>\n",
       "      <td>1</td>\n",
       "      <td>0</td>\n",
       "      <td>1</td>\n",
       "      <td>1</td>\n",
       "      <td>0</td>\n",
       "      <td>2</td>\n",
       "      <td>-1.0+0.0j</td>\n",
       "      <td>1.0</td>\n",
       "    </tr>\n",
       "    <tr>\n",
       "      <th>412</th>\n",
       "      <td>False</td>\n",
       "      <td>0</td>\n",
       "      <td>1</td>\n",
       "      <td>0</td>\n",
       "      <td>1</td>\n",
       "      <td>1</td>\n",
       "      <td>1</td>\n",
       "      <td>0</td>\n",
       "      <td>-1.0+0.0j</td>\n",
       "      <td>1.0</td>\n",
       "    </tr>\n",
       "    <tr>\n",
       "      <th>415</th>\n",
       "      <td>False</td>\n",
       "      <td>0</td>\n",
       "      <td>1</td>\n",
       "      <td>0</td>\n",
       "      <td>1</td>\n",
       "      <td>1</td>\n",
       "      <td>1</td>\n",
       "      <td>3</td>\n",
       "      <td>-1.0+0.0j</td>\n",
       "      <td>1.0</td>\n",
       "    </tr>\n",
       "    <tr>\n",
       "      <th>512</th>\n",
       "      <td>False</td>\n",
       "      <td>1</td>\n",
       "      <td>0</td>\n",
       "      <td>0</td>\n",
       "      <td>0</td>\n",
       "      <td>0</td>\n",
       "      <td>0</td>\n",
       "      <td>0</td>\n",
       "      <td>-1.0+0.0j</td>\n",
       "      <td>1.0</td>\n",
       "    </tr>\n",
       "    <tr>\n",
       "      <th>513</th>\n",
       "      <td>False</td>\n",
       "      <td>1</td>\n",
       "      <td>0</td>\n",
       "      <td>0</td>\n",
       "      <td>0</td>\n",
       "      <td>0</td>\n",
       "      <td>0</td>\n",
       "      <td>1</td>\n",
       "      <td>-1.0+0.0j</td>\n",
       "      <td>1.0</td>\n",
       "    </tr>\n",
       "    <tr>\n",
       "      <th>514</th>\n",
       "      <td>False</td>\n",
       "      <td>1</td>\n",
       "      <td>0</td>\n",
       "      <td>0</td>\n",
       "      <td>0</td>\n",
       "      <td>0</td>\n",
       "      <td>0</td>\n",
       "      <td>2</td>\n",
       "      <td>-1.0+0.0j</td>\n",
       "      <td>1.0</td>\n",
       "    </tr>\n",
       "    <tr>\n",
       "      <th>515</th>\n",
       "      <td>False</td>\n",
       "      <td>1</td>\n",
       "      <td>0</td>\n",
       "      <td>0</td>\n",
       "      <td>0</td>\n",
       "      <td>0</td>\n",
       "      <td>0</td>\n",
       "      <td>3</td>\n",
       "      <td>-1.0+0.0j</td>\n",
       "      <td>1.0</td>\n",
       "    </tr>\n",
       "    <tr>\n",
       "      <th>516</th>\n",
       "      <td>False</td>\n",
       "      <td>1</td>\n",
       "      <td>0</td>\n",
       "      <td>0</td>\n",
       "      <td>0</td>\n",
       "      <td>0</td>\n",
       "      <td>1</td>\n",
       "      <td>0</td>\n",
       "      <td>-1.0+0.0j</td>\n",
       "      <td>1.0</td>\n",
       "    </tr>\n",
       "    <tr>\n",
       "      <th>517</th>\n",
       "      <td>False</td>\n",
       "      <td>1</td>\n",
       "      <td>0</td>\n",
       "      <td>0</td>\n",
       "      <td>0</td>\n",
       "      <td>0</td>\n",
       "      <td>1</td>\n",
       "      <td>1</td>\n",
       "      <td>-1.0+0.0j</td>\n",
       "      <td>1.0</td>\n",
       "    </tr>\n",
       "    <tr>\n",
       "      <th>520</th>\n",
       "      <td>False</td>\n",
       "      <td>1</td>\n",
       "      <td>0</td>\n",
       "      <td>0</td>\n",
       "      <td>0</td>\n",
       "      <td>1</td>\n",
       "      <td>0</td>\n",
       "      <td>0</td>\n",
       "      <td>-1.0+0.0j</td>\n",
       "      <td>1.0</td>\n",
       "    </tr>\n",
       "    <tr>\n",
       "      <th>522</th>\n",
       "      <td>False</td>\n",
       "      <td>1</td>\n",
       "      <td>0</td>\n",
       "      <td>0</td>\n",
       "      <td>0</td>\n",
       "      <td>1</td>\n",
       "      <td>0</td>\n",
       "      <td>2</td>\n",
       "      <td>-1.0+0.0j</td>\n",
       "      <td>1.0</td>\n",
       "    </tr>\n",
       "    <tr>\n",
       "      <th>524</th>\n",
       "      <td>False</td>\n",
       "      <td>1</td>\n",
       "      <td>0</td>\n",
       "      <td>0</td>\n",
       "      <td>0</td>\n",
       "      <td>1</td>\n",
       "      <td>1</td>\n",
       "      <td>0</td>\n",
       "      <td>-1.0+0.0j</td>\n",
       "      <td>1.0</td>\n",
       "    </tr>\n",
       "    <tr>\n",
       "      <th>527</th>\n",
       "      <td>False</td>\n",
       "      <td>1</td>\n",
       "      <td>0</td>\n",
       "      <td>0</td>\n",
       "      <td>0</td>\n",
       "      <td>1</td>\n",
       "      <td>1</td>\n",
       "      <td>3</td>\n",
       "      <td>-1.0+0.0j</td>\n",
       "      <td>1.0</td>\n",
       "    </tr>\n",
       "    <tr>\n",
       "      <th>544</th>\n",
       "      <td>False</td>\n",
       "      <td>1</td>\n",
       "      <td>0</td>\n",
       "      <td>0</td>\n",
       "      <td>2</td>\n",
       "      <td>0</td>\n",
       "      <td>0</td>\n",
       "      <td>0</td>\n",
       "      <td>-1.0+0.0j</td>\n",
       "      <td>1.0</td>\n",
       "    </tr>\n",
       "    <tr>\n",
       "      <th>545</th>\n",
       "      <td>False</td>\n",
       "      <td>1</td>\n",
       "      <td>0</td>\n",
       "      <td>0</td>\n",
       "      <td>2</td>\n",
       "      <td>0</td>\n",
       "      <td>0</td>\n",
       "      <td>1</td>\n",
       "      <td>-1.0+0.0j</td>\n",
       "      <td>1.0</td>\n",
       "    </tr>\n",
       "    <tr>\n",
       "      <th>546</th>\n",
       "      <td>False</td>\n",
       "      <td>1</td>\n",
       "      <td>0</td>\n",
       "      <td>0</td>\n",
       "      <td>2</td>\n",
       "      <td>0</td>\n",
       "      <td>0</td>\n",
       "      <td>2</td>\n",
       "      <td>-1.0+0.0j</td>\n",
       "      <td>1.0</td>\n",
       "    </tr>\n",
       "    <tr>\n",
       "      <th>547</th>\n",
       "      <td>False</td>\n",
       "      <td>1</td>\n",
       "      <td>0</td>\n",
       "      <td>0</td>\n",
       "      <td>2</td>\n",
       "      <td>0</td>\n",
       "      <td>0</td>\n",
       "      <td>3</td>\n",
       "      <td>-1.0+0.0j</td>\n",
       "      <td>1.0</td>\n",
       "    </tr>\n",
       "    <tr>\n",
       "      <th>548</th>\n",
       "      <td>False</td>\n",
       "      <td>1</td>\n",
       "      <td>0</td>\n",
       "      <td>0</td>\n",
       "      <td>2</td>\n",
       "      <td>0</td>\n",
       "      <td>1</td>\n",
       "      <td>0</td>\n",
       "      <td>-1.0+0.0j</td>\n",
       "      <td>1.0</td>\n",
       "    </tr>\n",
       "    <tr>\n",
       "      <th>549</th>\n",
       "      <td>False</td>\n",
       "      <td>1</td>\n",
       "      <td>0</td>\n",
       "      <td>0</td>\n",
       "      <td>2</td>\n",
       "      <td>0</td>\n",
       "      <td>1</td>\n",
       "      <td>1</td>\n",
       "      <td>-1.0+0.0j</td>\n",
       "      <td>1.0</td>\n",
       "    </tr>\n",
       "    <tr>\n",
       "      <th>552</th>\n",
       "      <td>False</td>\n",
       "      <td>1</td>\n",
       "      <td>0</td>\n",
       "      <td>0</td>\n",
       "      <td>2</td>\n",
       "      <td>1</td>\n",
       "      <td>0</td>\n",
       "      <td>0</td>\n",
       "      <td>-1.0+0.0j</td>\n",
       "      <td>1.0</td>\n",
       "    </tr>\n",
       "    <tr>\n",
       "      <th>554</th>\n",
       "      <td>False</td>\n",
       "      <td>1</td>\n",
       "      <td>0</td>\n",
       "      <td>0</td>\n",
       "      <td>2</td>\n",
       "      <td>1</td>\n",
       "      <td>0</td>\n",
       "      <td>2</td>\n",
       "      <td>-1.0+0.0j</td>\n",
       "      <td>1.0</td>\n",
       "    </tr>\n",
       "    <tr>\n",
       "      <th>556</th>\n",
       "      <td>False</td>\n",
       "      <td>1</td>\n",
       "      <td>0</td>\n",
       "      <td>0</td>\n",
       "      <td>2</td>\n",
       "      <td>1</td>\n",
       "      <td>1</td>\n",
       "      <td>0</td>\n",
       "      <td>-1.0+0.0j</td>\n",
       "      <td>1.0</td>\n",
       "    </tr>\n",
       "    <tr>\n",
       "      <th>559</th>\n",
       "      <td>False</td>\n",
       "      <td>1</td>\n",
       "      <td>0</td>\n",
       "      <td>0</td>\n",
       "      <td>2</td>\n",
       "      <td>1</td>\n",
       "      <td>1</td>\n",
       "      <td>3</td>\n",
       "      <td>-1.0+0.0j</td>\n",
       "      <td>1.0</td>\n",
       "    </tr>\n",
       "  </tbody>\n",
       "</table>\n",
       "</div>"
      ],
      "text/plain": [
       "     non_trivial_proj_rep  n1_01_applied  n1_10_applied  jw_string_applied  \\\n",
       "0                   False              1              1                  0   \n",
       "1                   False              1              1                  0   \n",
       "2                   False              1              1                  0   \n",
       "3                   False              1              1                  0   \n",
       "4                   False              1              1                  0   \n",
       "5                   False              1              1                  0   \n",
       "8                   False              1              1                  0   \n",
       "10                  False              1              1                  0   \n",
       "12                  False              1              1                  0   \n",
       "15                  False              1              1                  0   \n",
       "48                  False              1              1                  0   \n",
       "49                  False              1              1                  0   \n",
       "50                  False              1              1                  0   \n",
       "51                  False              1              1                  0   \n",
       "52                  False              1              1                  0   \n",
       "53                  False              1              1                  0   \n",
       "56                  False              1              1                  0   \n",
       "58                  False              1              1                  0   \n",
       "60                  False              1              1                  0   \n",
       "63                  False              1              1                  0   \n",
       "384                 False              0              1                  0   \n",
       "385                 False              0              1                  0   \n",
       "386                 False              0              1                  0   \n",
       "387                 False              0              1                  0   \n",
       "388                 False              0              1                  0   \n",
       "389                 False              0              1                  0   \n",
       "392                 False              0              1                  0   \n",
       "394                 False              0              1                  0   \n",
       "396                 False              0              1                  0   \n",
       "399                 False              0              1                  0   \n",
       "400                 False              0              1                  0   \n",
       "401                 False              0              1                  0   \n",
       "402                 False              0              1                  0   \n",
       "403                 False              0              1                  0   \n",
       "404                 False              0              1                  0   \n",
       "405                 False              0              1                  0   \n",
       "408                 False              0              1                  0   \n",
       "410                 False              0              1                  0   \n",
       "412                 False              0              1                  0   \n",
       "415                 False              0              1                  0   \n",
       "512                 False              1              0                  0   \n",
       "513                 False              1              0                  0   \n",
       "514                 False              1              0                  0   \n",
       "515                 False              1              0                  0   \n",
       "516                 False              1              0                  0   \n",
       "517                 False              1              0                  0   \n",
       "520                 False              1              0                  0   \n",
       "522                 False              1              0                  0   \n",
       "524                 False              1              0                  0   \n",
       "527                 False              1              0                  0   \n",
       "544                 False              1              0                  0   \n",
       "545                 False              1              0                  0   \n",
       "546                 False              1              0                  0   \n",
       "547                 False              1              0                  0   \n",
       "548                 False              1              0                  0   \n",
       "549                 False              1              0                  0   \n",
       "552                 False              1              0                  0   \n",
       "554                 False              1              0                  0   \n",
       "556                 False              1              0                  0   \n",
       "559                 False              1              0                  0   \n",
       "\n",
       "     boson_sym_applied  n1_01_boundary  n1_10_boundary  boson_sym_boundary  \\\n",
       "0                    0               0               0                   0   \n",
       "1                    0               0               0                   1   \n",
       "2                    0               0               0                   2   \n",
       "3                    0               0               0                   3   \n",
       "4                    0               0               1                   0   \n",
       "5                    0               0               1                   1   \n",
       "8                    0               1               0                   0   \n",
       "10                   0               1               0                   2   \n",
       "12                   0               1               1                   0   \n",
       "15                   0               1               1                   3   \n",
       "48                   3               0               0                   0   \n",
       "49                   3               0               0                   1   \n",
       "50                   3               0               0                   2   \n",
       "51                   3               0               0                   3   \n",
       "52                   3               0               1                   0   \n",
       "53                   3               0               1                   1   \n",
       "56                   3               1               0                   0   \n",
       "58                   3               1               0                   2   \n",
       "60                   3               1               1                   0   \n",
       "63                   3               1               1                   3   \n",
       "384                  0               0               0                   0   \n",
       "385                  0               0               0                   1   \n",
       "386                  0               0               0                   2   \n",
       "387                  0               0               0                   3   \n",
       "388                  0               0               1                   0   \n",
       "389                  0               0               1                   1   \n",
       "392                  0               1               0                   0   \n",
       "394                  0               1               0                   2   \n",
       "396                  0               1               1                   0   \n",
       "399                  0               1               1                   3   \n",
       "400                  1               0               0                   0   \n",
       "401                  1               0               0                   1   \n",
       "402                  1               0               0                   2   \n",
       "403                  1               0               0                   3   \n",
       "404                  1               0               1                   0   \n",
       "405                  1               0               1                   1   \n",
       "408                  1               1               0                   0   \n",
       "410                  1               1               0                   2   \n",
       "412                  1               1               1                   0   \n",
       "415                  1               1               1                   3   \n",
       "512                  0               0               0                   0   \n",
       "513                  0               0               0                   1   \n",
       "514                  0               0               0                   2   \n",
       "515                  0               0               0                   3   \n",
       "516                  0               0               1                   0   \n",
       "517                  0               0               1                   1   \n",
       "520                  0               1               0                   0   \n",
       "522                  0               1               0                   2   \n",
       "524                  0               1               1                   0   \n",
       "527                  0               1               1                   3   \n",
       "544                  2               0               0                   0   \n",
       "545                  2               0               0                   1   \n",
       "546                  2               0               0                   2   \n",
       "547                  2               0               0                   3   \n",
       "548                  2               0               1                   0   \n",
       "549                  2               0               1                   1   \n",
       "552                  2               1               0                   0   \n",
       "554                  2               1               0                   2   \n",
       "556                  2               1               1                   0   \n",
       "559                  2               1               1                   3   \n",
       "\n",
       "          exp  rounded_exp  \n",
       "0   -1.0+0.0j          1.0  \n",
       "1   -1.0+0.0j          1.0  \n",
       "2   -1.0+0.0j          1.0  \n",
       "3   -1.0+0.0j          1.0  \n",
       "4   -1.0+0.0j          1.0  \n",
       "5   -1.0+0.0j          1.0  \n",
       "8   -1.0+0.0j          1.0  \n",
       "10  -1.0+0.0j          1.0  \n",
       "12  -1.0+0.0j          1.0  \n",
       "15  -1.0+0.0j          1.0  \n",
       "48  -1.0+0.0j          1.0  \n",
       "49  -1.0+0.0j          1.0  \n",
       "50  -1.0+0.0j          1.0  \n",
       "51  -1.0+0.0j          1.0  \n",
       "52  -1.0+0.0j          1.0  \n",
       "53  -1.0+0.0j          1.0  \n",
       "56  -1.0+0.0j          1.0  \n",
       "58  -1.0+0.0j          1.0  \n",
       "60  -1.0+0.0j          1.0  \n",
       "63  -1.0+0.0j          1.0  \n",
       "384 -1.0+0.0j          1.0  \n",
       "385 -1.0+0.0j          1.0  \n",
       "386 -1.0+0.0j          1.0  \n",
       "387 -1.0+0.0j          1.0  \n",
       "388 -1.0+0.0j          1.0  \n",
       "389 -1.0+0.0j          1.0  \n",
       "392 -1.0+0.0j          1.0  \n",
       "394 -1.0+0.0j          1.0  \n",
       "396 -1.0+0.0j          1.0  \n",
       "399 -1.0+0.0j          1.0  \n",
       "400 -1.0+0.0j          1.0  \n",
       "401 -1.0+0.0j          1.0  \n",
       "402 -1.0+0.0j          1.0  \n",
       "403 -1.0+0.0j          1.0  \n",
       "404 -1.0+0.0j          1.0  \n",
       "405 -1.0+0.0j          1.0  \n",
       "408 -1.0+0.0j          1.0  \n",
       "410 -1.0+0.0j          1.0  \n",
       "412 -1.0+0.0j          1.0  \n",
       "415 -1.0+0.0j          1.0  \n",
       "512 -1.0+0.0j          1.0  \n",
       "513 -1.0+0.0j          1.0  \n",
       "514 -1.0+0.0j          1.0  \n",
       "515 -1.0+0.0j          1.0  \n",
       "516 -1.0+0.0j          1.0  \n",
       "517 -1.0+0.0j          1.0  \n",
       "520 -1.0+0.0j          1.0  \n",
       "522 -1.0+0.0j          1.0  \n",
       "524 -1.0+0.0j          1.0  \n",
       "527 -1.0+0.0j          1.0  \n",
       "544 -1.0+0.0j          1.0  \n",
       "545 -1.0+0.0j          1.0  \n",
       "546 -1.0+0.0j          1.0  \n",
       "547 -1.0+0.0j          1.0  \n",
       "548 -1.0+0.0j          1.0  \n",
       "549 -1.0+0.0j          1.0  \n",
       "552 -1.0+0.0j          1.0  \n",
       "554 -1.0+0.0j          1.0  \n",
       "556 -1.0+0.0j          1.0  \n",
       "559 -1.0+0.0j          1.0  "
      ]
     },
     "execution_count": 99,
     "metadata": {},
     "output_type": "execute_result"
    }
   ],
   "source": [
    "df = triv_pr_non_triv_pred_exps_df\n",
    "\n",
    "df[df['rounded_exp'] == 1]"
   ]
  },
  {
   "cell_type": "markdown",
   "id": "f52d6555-c667-4efb-9821-5594695b4391",
   "metadata": {},
   "source": [
    "Take one case."
   ]
  },
  {
   "cell_type": "code",
   "execution_count": 100,
   "id": "36b01d45-b294-4f4c-8aa5-51933f01e797",
   "metadata": {},
   "outputs": [
    {
     "data": {
      "text/plain": [
       "Index(['non_trivial_proj_rep', 'n1_01_applied', 'n1_10_applied',\n",
       "       'jw_string_applied', 'boson_sym_applied', 'n1_01_boundary',\n",
       "       'n1_10_boundary', 'boson_sym_boundary', 'exp', 'rounded_exp'],\n",
       "      dtype='object')"
      ]
     },
     "execution_count": 100,
     "metadata": {},
     "output_type": "execute_result"
    }
   ],
   "source": [
    "df.columns"
   ]
  },
  {
   "cell_type": "code",
   "execution_count": 101,
   "id": "269979e3-320a-4608-835d-d339c05221b6",
   "metadata": {},
   "outputs": [
    {
     "data": {
      "text/html": [
       "<div>\n",
       "<style scoped>\n",
       "    .dataframe tbody tr th:only-of-type {\n",
       "        vertical-align: middle;\n",
       "    }\n",
       "\n",
       "    .dataframe tbody tr th {\n",
       "        vertical-align: top;\n",
       "    }\n",
       "\n",
       "    .dataframe thead th {\n",
       "        text-align: right;\n",
       "    }\n",
       "</style>\n",
       "<table border=\"1\" class=\"dataframe\">\n",
       "  <thead>\n",
       "    <tr style=\"text-align: right;\">\n",
       "      <th></th>\n",
       "      <th>jw_string_applied</th>\n",
       "      <th>n1_01_boundary</th>\n",
       "      <th>n1_10_boundary</th>\n",
       "      <th>boson_sym_boundary</th>\n",
       "      <th>rounded_exp</th>\n",
       "    </tr>\n",
       "  </thead>\n",
       "  <tbody>\n",
       "    <tr>\n",
       "      <th>512</th>\n",
       "      <td>0</td>\n",
       "      <td>0</td>\n",
       "      <td>0</td>\n",
       "      <td>0</td>\n",
       "      <td>1.0</td>\n",
       "    </tr>\n",
       "    <tr>\n",
       "      <th>513</th>\n",
       "      <td>0</td>\n",
       "      <td>0</td>\n",
       "      <td>0</td>\n",
       "      <td>1</td>\n",
       "      <td>1.0</td>\n",
       "    </tr>\n",
       "    <tr>\n",
       "      <th>514</th>\n",
       "      <td>0</td>\n",
       "      <td>0</td>\n",
       "      <td>0</td>\n",
       "      <td>2</td>\n",
       "      <td>1.0</td>\n",
       "    </tr>\n",
       "    <tr>\n",
       "      <th>515</th>\n",
       "      <td>0</td>\n",
       "      <td>0</td>\n",
       "      <td>0</td>\n",
       "      <td>3</td>\n",
       "      <td>1.0</td>\n",
       "    </tr>\n",
       "    <tr>\n",
       "      <th>516</th>\n",
       "      <td>0</td>\n",
       "      <td>0</td>\n",
       "      <td>1</td>\n",
       "      <td>0</td>\n",
       "      <td>1.0</td>\n",
       "    </tr>\n",
       "    <tr>\n",
       "      <th>517</th>\n",
       "      <td>0</td>\n",
       "      <td>0</td>\n",
       "      <td>1</td>\n",
       "      <td>1</td>\n",
       "      <td>1.0</td>\n",
       "    </tr>\n",
       "    <tr>\n",
       "      <th>518</th>\n",
       "      <td>0</td>\n",
       "      <td>0</td>\n",
       "      <td>1</td>\n",
       "      <td>2</td>\n",
       "      <td>0.0</td>\n",
       "    </tr>\n",
       "    <tr>\n",
       "      <th>519</th>\n",
       "      <td>0</td>\n",
       "      <td>0</td>\n",
       "      <td>1</td>\n",
       "      <td>3</td>\n",
       "      <td>0.0</td>\n",
       "    </tr>\n",
       "    <tr>\n",
       "      <th>520</th>\n",
       "      <td>0</td>\n",
       "      <td>1</td>\n",
       "      <td>0</td>\n",
       "      <td>0</td>\n",
       "      <td>1.0</td>\n",
       "    </tr>\n",
       "    <tr>\n",
       "      <th>521</th>\n",
       "      <td>0</td>\n",
       "      <td>1</td>\n",
       "      <td>0</td>\n",
       "      <td>1</td>\n",
       "      <td>0.0</td>\n",
       "    </tr>\n",
       "    <tr>\n",
       "      <th>522</th>\n",
       "      <td>0</td>\n",
       "      <td>1</td>\n",
       "      <td>0</td>\n",
       "      <td>2</td>\n",
       "      <td>1.0</td>\n",
       "    </tr>\n",
       "    <tr>\n",
       "      <th>523</th>\n",
       "      <td>0</td>\n",
       "      <td>1</td>\n",
       "      <td>0</td>\n",
       "      <td>3</td>\n",
       "      <td>0.0</td>\n",
       "    </tr>\n",
       "    <tr>\n",
       "      <th>524</th>\n",
       "      <td>0</td>\n",
       "      <td>1</td>\n",
       "      <td>1</td>\n",
       "      <td>0</td>\n",
       "      <td>1.0</td>\n",
       "    </tr>\n",
       "    <tr>\n",
       "      <th>525</th>\n",
       "      <td>0</td>\n",
       "      <td>1</td>\n",
       "      <td>1</td>\n",
       "      <td>1</td>\n",
       "      <td>0.0</td>\n",
       "    </tr>\n",
       "    <tr>\n",
       "      <th>526</th>\n",
       "      <td>0</td>\n",
       "      <td>1</td>\n",
       "      <td>1</td>\n",
       "      <td>2</td>\n",
       "      <td>0.0</td>\n",
       "    </tr>\n",
       "    <tr>\n",
       "      <th>527</th>\n",
       "      <td>0</td>\n",
       "      <td>1</td>\n",
       "      <td>1</td>\n",
       "      <td>3</td>\n",
       "      <td>1.0</td>\n",
       "    </tr>\n",
       "    <tr>\n",
       "      <th>576</th>\n",
       "      <td>1</td>\n",
       "      <td>0</td>\n",
       "      <td>0</td>\n",
       "      <td>0</td>\n",
       "      <td>0.0</td>\n",
       "    </tr>\n",
       "    <tr>\n",
       "      <th>577</th>\n",
       "      <td>1</td>\n",
       "      <td>0</td>\n",
       "      <td>0</td>\n",
       "      <td>1</td>\n",
       "      <td>0.0</td>\n",
       "    </tr>\n",
       "    <tr>\n",
       "      <th>578</th>\n",
       "      <td>1</td>\n",
       "      <td>0</td>\n",
       "      <td>0</td>\n",
       "      <td>2</td>\n",
       "      <td>0.0</td>\n",
       "    </tr>\n",
       "    <tr>\n",
       "      <th>579</th>\n",
       "      <td>1</td>\n",
       "      <td>0</td>\n",
       "      <td>0</td>\n",
       "      <td>3</td>\n",
       "      <td>0.0</td>\n",
       "    </tr>\n",
       "    <tr>\n",
       "      <th>580</th>\n",
       "      <td>1</td>\n",
       "      <td>0</td>\n",
       "      <td>1</td>\n",
       "      <td>0</td>\n",
       "      <td>0.0</td>\n",
       "    </tr>\n",
       "    <tr>\n",
       "      <th>581</th>\n",
       "      <td>1</td>\n",
       "      <td>0</td>\n",
       "      <td>1</td>\n",
       "      <td>1</td>\n",
       "      <td>0.0</td>\n",
       "    </tr>\n",
       "    <tr>\n",
       "      <th>582</th>\n",
       "      <td>1</td>\n",
       "      <td>0</td>\n",
       "      <td>1</td>\n",
       "      <td>2</td>\n",
       "      <td>0.0</td>\n",
       "    </tr>\n",
       "    <tr>\n",
       "      <th>583</th>\n",
       "      <td>1</td>\n",
       "      <td>0</td>\n",
       "      <td>1</td>\n",
       "      <td>3</td>\n",
       "      <td>0.0</td>\n",
       "    </tr>\n",
       "    <tr>\n",
       "      <th>584</th>\n",
       "      <td>1</td>\n",
       "      <td>1</td>\n",
       "      <td>0</td>\n",
       "      <td>0</td>\n",
       "      <td>0.0</td>\n",
       "    </tr>\n",
       "    <tr>\n",
       "      <th>585</th>\n",
       "      <td>1</td>\n",
       "      <td>1</td>\n",
       "      <td>0</td>\n",
       "      <td>1</td>\n",
       "      <td>0.0</td>\n",
       "    </tr>\n",
       "    <tr>\n",
       "      <th>586</th>\n",
       "      <td>1</td>\n",
       "      <td>1</td>\n",
       "      <td>0</td>\n",
       "      <td>2</td>\n",
       "      <td>0.0</td>\n",
       "    </tr>\n",
       "    <tr>\n",
       "      <th>587</th>\n",
       "      <td>1</td>\n",
       "      <td>1</td>\n",
       "      <td>0</td>\n",
       "      <td>3</td>\n",
       "      <td>0.0</td>\n",
       "    </tr>\n",
       "    <tr>\n",
       "      <th>588</th>\n",
       "      <td>1</td>\n",
       "      <td>1</td>\n",
       "      <td>1</td>\n",
       "      <td>0</td>\n",
       "      <td>0.0</td>\n",
       "    </tr>\n",
       "    <tr>\n",
       "      <th>589</th>\n",
       "      <td>1</td>\n",
       "      <td>1</td>\n",
       "      <td>1</td>\n",
       "      <td>1</td>\n",
       "      <td>0.0</td>\n",
       "    </tr>\n",
       "    <tr>\n",
       "      <th>590</th>\n",
       "      <td>1</td>\n",
       "      <td>1</td>\n",
       "      <td>1</td>\n",
       "      <td>2</td>\n",
       "      <td>0.0</td>\n",
       "    </tr>\n",
       "    <tr>\n",
       "      <th>591</th>\n",
       "      <td>1</td>\n",
       "      <td>1</td>\n",
       "      <td>1</td>\n",
       "      <td>3</td>\n",
       "      <td>0.0</td>\n",
       "    </tr>\n",
       "  </tbody>\n",
       "</table>\n",
       "</div>"
      ],
      "text/plain": [
       "     jw_string_applied  n1_01_boundary  n1_10_boundary  boson_sym_boundary  \\\n",
       "512                  0               0               0                   0   \n",
       "513                  0               0               0                   1   \n",
       "514                  0               0               0                   2   \n",
       "515                  0               0               0                   3   \n",
       "516                  0               0               1                   0   \n",
       "517                  0               0               1                   1   \n",
       "518                  0               0               1                   2   \n",
       "519                  0               0               1                   3   \n",
       "520                  0               1               0                   0   \n",
       "521                  0               1               0                   1   \n",
       "522                  0               1               0                   2   \n",
       "523                  0               1               0                   3   \n",
       "524                  0               1               1                   0   \n",
       "525                  0               1               1                   1   \n",
       "526                  0               1               1                   2   \n",
       "527                  0               1               1                   3   \n",
       "576                  1               0               0                   0   \n",
       "577                  1               0               0                   1   \n",
       "578                  1               0               0                   2   \n",
       "579                  1               0               0                   3   \n",
       "580                  1               0               1                   0   \n",
       "581                  1               0               1                   1   \n",
       "582                  1               0               1                   2   \n",
       "583                  1               0               1                   3   \n",
       "584                  1               1               0                   0   \n",
       "585                  1               1               0                   1   \n",
       "586                  1               1               0                   2   \n",
       "587                  1               1               0                   3   \n",
       "588                  1               1               1                   0   \n",
       "589                  1               1               1                   1   \n",
       "590                  1               1               1                   2   \n",
       "591                  1               1               1                   3   \n",
       "\n",
       "     rounded_exp  \n",
       "512          1.0  \n",
       "513          1.0  \n",
       "514          1.0  \n",
       "515          1.0  \n",
       "516          1.0  \n",
       "517          1.0  \n",
       "518          0.0  \n",
       "519          0.0  \n",
       "520          1.0  \n",
       "521          0.0  \n",
       "522          1.0  \n",
       "523          0.0  \n",
       "524          1.0  \n",
       "525          0.0  \n",
       "526          0.0  \n",
       "527          1.0  \n",
       "576          0.0  \n",
       "577          0.0  \n",
       "578          0.0  \n",
       "579          0.0  \n",
       "580          0.0  \n",
       "581          0.0  \n",
       "582          0.0  \n",
       "583          0.0  \n",
       "584          0.0  \n",
       "585          0.0  \n",
       "586          0.0  \n",
       "587          0.0  \n",
       "588          0.0  \n",
       "589          0.0  \n",
       "590          0.0  \n",
       "591          0.0  "
      ]
     },
     "execution_count": 101,
     "metadata": {},
     "output_type": "execute_result"
    }
   ],
   "source": [
    "df = triv_pr_non_triv_pred_exps_df\n",
    "\n",
    "sub_df = df[(\n",
    "    (df['n1_01_applied'] == 1)\n",
    "    & (df['n1_10_applied'] == 0)\n",
    "    & (df['n1_10_applied'] == 0)\n",
    "    & (df['boson_sym_applied'] == 0)\n",
    ")]\n",
    "\n",
    "sub_df[[\n",
    "    'jw_string_applied',\n",
    "    'n1_01_boundary',\n",
    "    'n1_10_boundary',\n",
    "    'boson_sym_boundary',\n",
    "    'rounded_exp'\n",
    "]]"
   ]
  },
  {
   "cell_type": "markdown",
   "id": "cfc21e90-8825-4655-8181-6e6954b94ffa",
   "metadata": {},
   "source": [
    "## Identity reduced density matrices"
   ]
  },
  {
   "cell_type": "markdown",
   "id": "6c9da291-4118-4acd-aba9-8db74939e03c",
   "metadata": {},
   "source": [
    "Calculate and compare with expected values."
   ]
  },
  {
   "cell_type": "markdown",
   "id": "bc314741-44e2-4b56-b7ff-b0b29559431e",
   "metadata": {},
   "source": [
    "### Right side"
   ]
  },
  {
   "cell_type": "code",
   "execution_count": 272,
   "id": "d278ebbb-2707-4f66-bba0-57ed921288cc",
   "metadata": {},
   "outputs": [],
   "source": [
    "num_sites = 3\n",
    "\n",
    "right_rdms = {\n",
    "    k: extract_right_rdm(v, num_sites)\n",
    "    for k, v in cases.items()\n",
    "}"
   ]
  },
  {
   "cell_type": "code",
   "execution_count": 273,
   "id": "a4b66e50-704c-43e5-ad8d-16dcfe741146",
   "metadata": {},
   "outputs": [],
   "source": [
    "test_rdm = right_rdms[(False, (1, 0), 0, 0)]"
   ]
  },
  {
   "cell_type": "code",
   "execution_count": 274,
   "id": "bfc3c27c-597e-42bf-ad4a-259137ee8086",
   "metadata": {},
   "outputs": [
    {
     "data": {
      "text/plain": [
       "<npc.Array shape=(4, 4, 2, 2, 4, 4) labels=['p0', 'p0*', 'p1', 'p1*', 'p2', 'p2*']>"
      ]
     },
     "execution_count": 274,
     "metadata": {},
     "output_type": "execute_result"
    }
   ],
   "source": [
    "test_rdm"
   ]
  },
  {
   "cell_type": "code",
   "execution_count": 275,
   "id": "51bfc35b-c9d5-4fa1-a365-0488199bf294",
   "metadata": {},
   "outputs": [],
   "source": [
    "def trace_rdm(rdm):\n",
    "    t = rdm.copy()\n",
    "\n",
    "    i = 0\n",
    "    while t.ndim > 0:\n",
    "        t = npc.trace(t, f'p{i}', f'p{i}*')\n",
    "        i+=1\n",
    "\n",
    "    return t"
   ]
  },
  {
   "cell_type": "code",
   "execution_count": 276,
   "id": "01ae9bde-1521-418a-b294-66fd7af12fdb",
   "metadata": {},
   "outputs": [
    {
     "data": {
      "text/plain": [
       "(-1.0000000000000007+0j)"
      ]
     },
     "execution_count": 276,
     "metadata": {},
     "output_type": "execute_result"
    }
   ],
   "source": [
    "trace_rdm(test_rdm)"
   ]
  },
  {
   "cell_type": "markdown",
   "id": "0dc9758d-093e-4d08-bdc4-7ee61d6d05f0",
   "metadata": {},
   "source": [
    "The sign of the rdm is wrong... does this matter?"
   ]
  },
  {
   "cell_type": "code",
   "execution_count": 277,
   "id": "d0f94ab6-b5dc-4c00-a48a-686affecaaaa",
   "metadata": {
    "scrolled": true
   },
   "outputs": [],
   "source": [
    "X = np.round(test_rdm.to_ndarray(), 3)"
   ]
  },
  {
   "cell_type": "code",
   "execution_count": 278,
   "id": "42b48089-52d7-427c-b290-98b0497404cd",
   "metadata": {},
   "outputs": [
    {
     "data": {
      "text/plain": [
       "0.0625"
      ]
     },
     "execution_count": 278,
     "metadata": {},
     "output_type": "execute_result"
    }
   ],
   "source": [
    "1/16"
   ]
  },
  {
   "cell_type": "code",
   "execution_count": 279,
   "id": "950d37cb-2b47-401c-930f-82b30c24dcdf",
   "metadata": {},
   "outputs": [],
   "source": [
    "non_zero_indcies = np.nonzero(X)"
   ]
  },
  {
   "cell_type": "code",
   "execution_count": 280,
   "id": "1f15b78b-e2ee-4086-8fc6-263b9e87fbf2",
   "metadata": {},
   "outputs": [
    {
     "data": {
      "text/plain": [
       "True"
      ]
     },
     "execution_count": 280,
     "metadata": {},
     "output_type": "execute_result"
    }
   ],
   "source": [
    "np.all(X <= 0)"
   ]
  },
  {
   "cell_type": "code",
   "execution_count": 281,
   "id": "e8ea9636-7a9f-474c-adf4-d1e9aebbe371",
   "metadata": {},
   "outputs": [
    {
     "data": {
      "text/plain": [
       "(array([0, 0, 0, 0, 0, 0, 0, 0, 0, 0, 0, 0, 0, 0, 0, 0, 1, 1, 1, 1, 1, 1,\n",
       "        1, 1, 1, 1, 1, 1, 1, 1, 1, 1, 2, 2, 2, 2, 2, 2, 2, 2, 2, 2, 2, 2,\n",
       "        2, 2, 2, 2, 3, 3, 3, 3, 3, 3, 3, 3, 3, 3, 3, 3, 3, 3, 3, 3]),\n",
       " array([0, 0, 0, 0, 0, 0, 0, 0, 2, 2, 2, 2, 2, 2, 2, 2, 1, 1, 1, 1, 1, 1,\n",
       "        1, 1, 3, 3, 3, 3, 3, 3, 3, 3, 0, 0, 0, 0, 0, 0, 0, 0, 2, 2, 2, 2,\n",
       "        2, 2, 2, 2, 1, 1, 1, 1, 1, 1, 1, 1, 3, 3, 3, 3, 3, 3, 3, 3]),\n",
       " array([0, 0, 0, 0, 1, 1, 1, 1, 0, 0, 0, 0, 1, 1, 1, 1, 0, 0, 0, 0, 1, 1,\n",
       "        1, 1, 0, 0, 0, 0, 1, 1, 1, 1, 0, 0, 0, 0, 1, 1, 1, 1, 0, 0, 0, 0,\n",
       "        1, 1, 1, 1, 0, 0, 0, 0, 1, 1, 1, 1, 0, 0, 0, 0, 1, 1, 1, 1]),\n",
       " array([0, 0, 0, 0, 1, 1, 1, 1, 0, 0, 0, 0, 1, 1, 1, 1, 0, 0, 0, 0, 1, 1,\n",
       "        1, 1, 0, 0, 0, 0, 1, 1, 1, 1, 0, 0, 0, 0, 1, 1, 1, 1, 0, 0, 0, 0,\n",
       "        1, 1, 1, 1, 0, 0, 0, 0, 1, 1, 1, 1, 0, 0, 0, 0, 1, 1, 1, 1]),\n",
       " array([0, 0, 2, 2, 1, 1, 3, 3, 0, 0, 2, 2, 1, 1, 3, 3, 1, 1, 3, 3, 0, 0,\n",
       "        2, 2, 1, 1, 3, 3, 0, 0, 2, 2, 0, 0, 2, 2, 1, 1, 3, 3, 0, 0, 2, 2,\n",
       "        1, 1, 3, 3, 1, 1, 3, 3, 0, 0, 2, 2, 1, 1, 3, 3, 0, 0, 2, 2]),\n",
       " array([0, 2, 0, 2, 1, 3, 1, 3, 0, 2, 0, 2, 1, 3, 1, 3, 1, 3, 1, 3, 0, 2,\n",
       "        0, 2, 1, 3, 1, 3, 0, 2, 0, 2, 0, 2, 0, 2, 1, 3, 1, 3, 0, 2, 0, 2,\n",
       "        1, 3, 1, 3, 1, 3, 1, 3, 0, 2, 0, 2, 1, 3, 1, 3, 0, 2, 0, 2]))"
      ]
     },
     "execution_count": 281,
     "metadata": {},
     "output_type": "execute_result"
    }
   ],
   "source": [
    "non_zero_indcies"
   ]
  },
  {
   "cell_type": "code",
   "execution_count": 282,
   "id": "89256bae-6228-4894-ae29-2810a57e70c2",
   "metadata": {},
   "outputs": [
    {
     "data": {
      "text/plain": [
       "64"
      ]
     },
     "execution_count": 282,
     "metadata": {},
     "output_type": "execute_result"
    }
   ],
   "source": [
    "len(non_zero_indcies[0])"
   ]
  },
  {
   "cell_type": "code",
   "execution_count": 283,
   "id": "ed8e4757-0a5d-4f10-ac1a-312be3e7c7c6",
   "metadata": {},
   "outputs": [],
   "source": [
    "indices_dict = defaultdict(list)\n",
    "\n",
    "for gul, gdl, gum, gdm, gur, gdr in zip(*non_zero_indcies):\n",
    "    indices_dict[(gul, gdl, gur, gdr)].append((gum, gdm))"
   ]
  },
  {
   "cell_type": "code",
   "execution_count": 284,
   "id": "39328517-f84b-4c7f-8fb6-31ab0a8036c6",
   "metadata": {},
   "outputs": [],
   "source": [
    "indices_dict_keys = list(indices_dict.keys())"
   ]
  },
  {
   "cell_type": "code",
   "execution_count": 285,
   "id": "21db4ce1-fc43-4261-95e9-8c9132b290f3",
   "metadata": {},
   "outputs": [
    {
     "data": {
      "text/plain": [
       "64"
      ]
     },
     "execution_count": 285,
     "metadata": {},
     "output_type": "execute_result"
    }
   ],
   "source": [
    "len(indices_dict_keys)"
   ]
  },
  {
   "cell_type": "code",
   "execution_count": 297,
   "id": "255dad52-cc57-40f9-83c7-0e97d5592759",
   "metadata": {},
   "outputs": [],
   "source": [
    "predicted_indices = list()\n",
    "\n",
    "n1_func = get_n1_func(1, 0)\n",
    "\n",
    "for gul, gdl, gur, gdr in product(range(4), repeat=4):\n",
    "    if (n1_func(gul, gdl) == 0) and (n1_func(gur, gdr) == 0):\n",
    "        fermion_present = n1_func(gul, gur)\n",
    "        predicted_indices.append((\n",
    "            gul,\n",
    "            gdl,\n",
    "            fermion_present,\n",
    "            fermion_present,\n",
    "            gur,\n",
    "            gdr\n",
    "        ))"
   ]
  },
  {
   "cell_type": "code",
   "execution_count": 299,
   "id": "bbfdb6a5-d6da-4fac-beae-b5deafab3289",
   "metadata": {},
   "outputs": [
    {
     "data": {
      "text/plain": [
       "True"
      ]
     },
     "execution_count": 299,
     "metadata": {},
     "output_type": "execute_result"
    }
   ],
   "source": [
    "# Check predicted and actual indices:\n",
    "\n",
    "X1 = np.array(sorted(list(zip(*non_zero_indcies))))\n",
    "X2 = np.array(sorted(predicted_indices))\n",
    "\n",
    "np.all(X1 == X2)"
   ]
  },
  {
   "cell_type": "markdown",
   "id": "8fc1301a-441e-4bf0-9afc-988c5d3ebcdf",
   "metadata": {},
   "source": [
    "Looks good!"
   ]
  },
  {
   "cell_type": "markdown",
   "id": "fb180e2a-0b0e-44de-a175-a6645e8f0251",
   "metadata": {},
   "source": [
    "### Left side"
   ]
  },
  {
   "cell_type": "code",
   "execution_count": 310,
   "id": "167824d2-43c5-4e28-b630-41acefd5e5fe",
   "metadata": {},
   "outputs": [],
   "source": [
    "def extract_left_rdm(case, num_sites):\n",
    "    t = case.left_projected_symmetry_state\n",
    "    psi = case.psi\n",
    "\n",
    "    left_symmetry_index = test_case.left_symmetry_index - 1\n",
    "\n",
    "    # Need to do this first as the current site is a fermion site, but want\n",
    "    # to start the rdm with a bosonic site.\n",
    "    b = psi.get_B(left_symmetry_index)\n",
    "    t = npc.tensordot(t, b, [['vL',], ['vR',]])\n",
    "    t = npc.tensordot(t, b.conj(), [['vL*', 'p'], ['vR*', 'p*']])\n",
    "\n",
    "    sites = range(\n",
    "        left_symmetry_index-1,\n",
    "        left_symmetry_index - num_sites-1,\n",
    "        -1\n",
    "    )\n",
    "\n",
    "    for i, site_index in enumerate(sites):\n",
    "        b = psi.get_B(site_index)\n",
    "        b = b.replace_label('p', f'p{i}')\n",
    "        \n",
    "        t = npc.tensordot(t, b, [['vL',], ['vR',]])\n",
    "        t = npc.tensordot(t, b.conj(), [['vL*',], ['vR*',]])\n",
    "    \n",
    "    t = npc.trace(t, 'vL', 'vL*')\n",
    "\n",
    "    sing_val = case.symmetry_transfer_matrix_singular_vals[0]\n",
    "    t*= np.sqrt(sing_val)\n",
    "\n",
    "    return t"
   ]
  },
  {
   "cell_type": "code",
   "execution_count": 311,
   "id": "92343186-ae0c-4a92-b24c-1ef330add96e",
   "metadata": {},
   "outputs": [],
   "source": [
    "num_sites = 3\n",
    "\n",
    "left_rdms = {\n",
    "    k: extract_left_rdm(v, num_sites)\n",
    "    for k, v in cases.items()\n",
    "}"
   ]
  },
  {
   "cell_type": "code",
   "execution_count": 312,
   "id": "80d95764-0e88-4571-a560-151d66b96fc5",
   "metadata": {},
   "outputs": [],
   "source": [
    "test_rdm = left_rdms[(False, (1, 0), 0, 0)]"
   ]
  },
  {
   "cell_type": "code",
   "execution_count": 313,
   "id": "38dd983e-2217-4f09-b756-7fa63b353cb8",
   "metadata": {},
   "outputs": [
    {
     "data": {
      "text/plain": [
       "<npc.Array shape=(4, 4, 2, 2, 4, 4) labels=['p0', 'p0*', 'p1', 'p1*', 'p2', 'p2*']>"
      ]
     },
     "execution_count": 313,
     "metadata": {},
     "output_type": "execute_result"
    }
   ],
   "source": [
    "test_rdm"
   ]
  },
  {
   "cell_type": "code",
   "execution_count": 314,
   "id": "567d0464-9fe1-4e94-b8d1-b175208f13ac",
   "metadata": {},
   "outputs": [
    {
     "data": {
      "text/plain": [
       "(-1.000000000000001+0j)"
      ]
     },
     "execution_count": 314,
     "metadata": {},
     "output_type": "execute_result"
    }
   ],
   "source": [
    "trace_rdm(test_rdm)"
   ]
  },
  {
   "cell_type": "code",
   "execution_count": 320,
   "id": "8161cc9d-93aa-463f-8c3a-3ab4450f2161",
   "metadata": {
    "scrolled": true
   },
   "outputs": [],
   "source": [
    "X = np.round(test_rdm.to_ndarray(), 3)"
   ]
  },
  {
   "cell_type": "code",
   "execution_count": 321,
   "id": "1438fa15-2156-44c3-b973-cc2561fe84c5",
   "metadata": {},
   "outputs": [
    {
     "data": {
      "text/plain": [
       "0.0625"
      ]
     },
     "execution_count": 321,
     "metadata": {},
     "output_type": "execute_result"
    }
   ],
   "source": [
    "1/16"
   ]
  },
  {
   "cell_type": "code",
   "execution_count": 322,
   "id": "23a316d8-141b-46f2-8058-be826ab38ec6",
   "metadata": {},
   "outputs": [],
   "source": [
    "non_zero_indcies = np.nonzero(X)"
   ]
  },
  {
   "cell_type": "code",
   "execution_count": 323,
   "id": "5b558771-0cac-4a0e-815a-990c262bf010",
   "metadata": {},
   "outputs": [
    {
     "data": {
      "text/plain": [
       "True"
      ]
     },
     "execution_count": 323,
     "metadata": {},
     "output_type": "execute_result"
    }
   ],
   "source": [
    "np.all(X <= 0)"
   ]
  },
  {
   "cell_type": "code",
   "execution_count": 324,
   "id": "88f16f7b-e222-493c-beea-048919ea8d5a",
   "metadata": {},
   "outputs": [],
   "source": [
    "indices_dict = defaultdict(list)\n",
    "\n",
    "for gul, gdl, gum, gdm, gur, gdr in zip(*non_zero_indcies):\n",
    "    indices_dict[(gul, gdl, gur, gdr)].append((gum, gdm))"
   ]
  },
  {
   "cell_type": "code",
   "execution_count": 325,
   "id": "9bde22a4-e226-48ab-b558-6154dc25c2b5",
   "metadata": {},
   "outputs": [],
   "source": [
    "predicted_indices = list()\n",
    "\n",
    "n1_func = get_n1_func(1, 0)\n",
    "\n",
    "for gul, gdl, gur, gdr in product(range(4), repeat=4):\n",
    "    if (n1_func(gul, gdl) == 0) and (n1_func(gur, gdr) == 0):\n",
    "        fermion_present = n1_func(gul, gur)\n",
    "        predicted_indices.append((\n",
    "            gul,\n",
    "            gdl,\n",
    "            fermion_present,\n",
    "            fermion_present,\n",
    "            gur,\n",
    "            gdr\n",
    "        ))"
   ]
  },
  {
   "cell_type": "code",
   "execution_count": 326,
   "id": "8efed63e-72c0-46ff-ac58-7a43681d5939",
   "metadata": {},
   "outputs": [
    {
     "data": {
      "text/plain": [
       "True"
      ]
     },
     "execution_count": 326,
     "metadata": {},
     "output_type": "execute_result"
    }
   ],
   "source": [
    "# Check predicted and actual indices:\n",
    "\n",
    "X1 = np.array(sorted(list(zip(*non_zero_indcies))))\n",
    "X2 = np.array(sorted(predicted_indices))\n",
    "\n",
    "np.all(X1 == X2)"
   ]
  },
  {
   "cell_type": "markdown",
   "id": "9d135b1f-42db-4542-bf41-355c9bc64cb3",
   "metadata": {},
   "source": [
    "Two for two!"
   ]
  },
  {
   "cell_type": "markdown",
   "id": "a81125d5-6d40-4252-8563-ecacaba3005d",
   "metadata": {},
   "source": [
    "## Reduced density matrices with symmetry action."
   ]
  },
  {
   "cell_type": "markdown",
   "id": "fdba7ce6-1443-48bc-9bd4-b5f740407804",
   "metadata": {},
   "source": [
    "Calculate and compare with expected values.\n",
    "\n",
    "Investigate difference with/without JW string."
   ]
  },
  {
   "cell_type": "markdown",
   "id": "f420c440-4163-4252-b370-cab2595ecb36",
   "metadata": {},
   "source": [
    "### Right side"
   ]
  },
  {
   "cell_type": "code",
   "execution_count": 330,
   "id": "0405109c-0f88-4402-abe1-fa335e288558",
   "metadata": {},
   "outputs": [],
   "source": [
    "no_jw_rdm = right_rdms[(False, (1, 0), 0, 1)]\n",
    "jw_rdm = right_rdms[(False, (1, 0), 1, 1)]"
   ]
  },
  {
   "cell_type": "code",
   "execution_count": 328,
   "id": "9221ca6c-b8be-493a-b3dc-310c6867d6f3",
   "metadata": {},
   "outputs": [
    {
     "data": {
      "text/plain": [
       "<npc.Array shape=(4, 4, 2, 2, 4, 4) labels=['p0', 'p0*', 'p1', 'p1*', 'p2', 'p2*']>"
      ]
     },
     "execution_count": 328,
     "metadata": {},
     "output_type": "execute_result"
    }
   ],
   "source": [
    "no_jw_rdm"
   ]
  },
  {
   "cell_type": "code",
   "execution_count": 331,
   "id": "6efce34d-514f-4449-b1f0-ceeee31ae035",
   "metadata": {},
   "outputs": [
    {
     "data": {
      "text/plain": [
       "<npc.Array shape=(4, 4, 2, 2, 4, 4) labels=['p0', 'p0*', 'p1', 'p1*', 'p2', 'p2*']>"
      ]
     },
     "execution_count": 331,
     "metadata": {},
     "output_type": "execute_result"
    }
   ],
   "source": [
    "jw_rdm"
   ]
  },
  {
   "cell_type": "code",
   "execution_count": 332,
   "id": "9503f562-4aeb-46f0-a7dd-b27dd0c44afb",
   "metadata": {},
   "outputs": [
    {
     "data": {
      "text/plain": [
       "((3.208041687281122e-14+0j), (5.89910577272183e-18+0j))"
      ]
     },
     "execution_count": 332,
     "metadata": {},
     "output_type": "execute_result"
    }
   ],
   "source": [
    "(\n",
    "    trace_rdm(no_jw_rdm),\n",
    "    trace_rdm(jw_rdm)\n",
    ")"
   ]
  },
  {
   "cell_type": "markdown",
   "id": "d28d307a-e3eb-4fa3-baf6-555be9f1cf63",
   "metadata": {},
   "source": [
    "Note, these are not reduced density matrices in the usual sense due to the symmetry action, so we don't require them to have trace 1."
   ]
  },
  {
   "cell_type": "code",
   "execution_count": 333,
   "id": "5932fcea-3a2e-4882-8f77-6b211b900791",
   "metadata": {
    "scrolled": true
   },
   "outputs": [],
   "source": [
    "no_jw_X = np.round(no_jw_rdm.to_ndarray(), 3)\n",
    "jw_X = np.round(jw_rdm.to_ndarray(), 3)"
   ]
  },
  {
   "cell_type": "code",
   "execution_count": 334,
   "id": "b6d8dfec-9b20-4aa1-8e0a-2f36c78db568",
   "metadata": {},
   "outputs": [],
   "source": [
    "no_jw_non_zero_indcies = np.nonzero(no_jw_X)\n",
    "jw_non_zero_indcies = np.nonzero(jw_X)"
   ]
  },
  {
   "cell_type": "code",
   "execution_count": 336,
   "id": "6c5e119c-530f-4046-8a99-df8b2159dc3b",
   "metadata": {},
   "outputs": [
    {
     "data": {
      "text/plain": [
       "True"
      ]
     },
     "execution_count": 336,
     "metadata": {},
     "output_type": "execute_result"
    }
   ],
   "source": [
    "np.all(no_jw_X <= 0)"
   ]
  },
  {
   "cell_type": "markdown",
   "id": "5d746a36-a1c0-4d14-a86f-1c59c8d48531",
   "metadata": {},
   "source": [
    "jw_X has mixed entries."
   ]
  },
  {
   "cell_type": "code",
   "execution_count": 339,
   "id": "5e41f849-cb1f-46d8-a8b8-85ad786e9955",
   "metadata": {},
   "outputs": [
    {
     "data": {
      "text/plain": [
       "(False, False)"
      ]
     },
     "execution_count": 339,
     "metadata": {},
     "output_type": "execute_result"
    }
   ],
   "source": [
    "(\n",
    "    np.all(jw_X <= 0),\n",
    "    np.all(jw_X >= 0)\n",
    ")"
   ]
  },
  {
   "cell_type": "code",
   "execution_count": 340,
   "id": "4d65a5a9-ce67-47fc-b318-b7661004ee0f",
   "metadata": {},
   "outputs": [
    {
     "data": {
      "text/plain": [
       "True"
      ]
     },
     "execution_count": 340,
     "metadata": {},
     "output_type": "execute_result"
    }
   ],
   "source": [
    "np.all(\n",
    "    np.abs(np.array(no_jw_non_zero_indcies))\n",
    "    == np.abs(np.array(jw_non_zero_indcies))\n",
    ")"
   ]
  },
  {
   "cell_type": "code",
   "execution_count": 342,
   "id": "f9e98ace-3380-4b7a-aea5-bba84222d808",
   "metadata": {},
   "outputs": [
    {
     "data": {
      "text/plain": [
       "True"
      ]
     },
     "execution_count": 342,
     "metadata": {},
     "output_type": "execute_result"
    }
   ],
   "source": [
    "np.all(-no_jw_X == np.abs(jw_X))"
   ]
  },
  {
   "cell_type": "markdown",
   "id": "9ca16721-9cea-400b-abf8-9daf3dda2c6c",
   "metadata": {},
   "source": [
    "So arrays are the same up to some sign changes."
   ]
  },
  {
   "cell_type": "code",
   "execution_count": 345,
   "id": "215f4bac-f4e1-4d09-a4b2-75ffa50b52ef",
   "metadata": {},
   "outputs": [
    {
     "data": {
      "text/plain": [
       "64"
      ]
     },
     "execution_count": 345,
     "metadata": {},
     "output_type": "execute_result"
    }
   ],
   "source": [
    "len(jw_non_zero_indcies[0])"
   ]
  },
  {
   "cell_type": "code",
   "execution_count": 346,
   "id": "86deec79-621e-457f-96e8-df22c6418e8f",
   "metadata": {},
   "outputs": [],
   "source": [
    "indices_dict = defaultdict(list)\n",
    "\n",
    "for gul, gdl, gum, gdm, gur, gdr in zip(*no_jw_non_zero_indcies):\n",
    "    indices_dict[(gul, gdl, gur, gdr)].append((gum, gdm))"
   ]
  },
  {
   "cell_type": "code",
   "execution_count": 356,
   "id": "e13aff22-2b41-484b-9b83-63cce4aa00df",
   "metadata": {},
   "outputs": [],
   "source": [
    "predicted_indices = list()\n",
    "\n",
    "n1_func = get_n1_func(1, 0)\n",
    "\n",
    "for gul, gdl, gur, gdr in product(range(4), repeat=4):\n",
    "    if (n1_func(mod_4_to_bit_addition(1, gul), gdl) == 0) and (n1_func(gur, gdr) == 0):\n",
    "        top_fermion_present = n1_func(gul, gur)\n",
    "        bottom_fermion_present = n1_func(gdl, gdr)\n",
    "\n",
    "        predicted_indices.append((\n",
    "            gul,\n",
    "            gdl,\n",
    "            top_fermion_present,\n",
    "            bottom_fermion_present,\n",
    "            gur,\n",
    "            gdr\n",
    "        ))"
   ]
  },
  {
   "cell_type": "code",
   "execution_count": 357,
   "id": "2e3fa751-cb46-46da-a97a-b2e13f1324c6",
   "metadata": {},
   "outputs": [
    {
     "data": {
      "text/plain": [
       "True"
      ]
     },
     "execution_count": 357,
     "metadata": {},
     "output_type": "execute_result"
    }
   ],
   "source": [
    "# Check predicted and actual indices:\n",
    "\n",
    "X1 = np.array(sorted(list(zip(*no_jw_non_zero_indcies))))\n",
    "X2 = np.array(sorted(predicted_indices))\n",
    "\n",
    "np.all(X1 == X2)"
   ]
  },
  {
   "cell_type": "code",
   "execution_count": 358,
   "id": "5cf192fa-4d10-4b2c-9f57-b09d6acf82bb",
   "metadata": {},
   "outputs": [
    {
     "data": {
      "text/plain": [
       "array([[0, 1, 0, 1, 0, 0],\n",
       "       [0, 1, 0, 1, 0, 2],\n",
       "       [0, 1, 0, 1, 2, 0],\n",
       "       [0, 1, 0, 1, 2, 2],\n",
       "       [0, 1, 1, 0, 1, 1]])"
      ]
     },
     "execution_count": 358,
     "metadata": {},
     "output_type": "execute_result"
    }
   ],
   "source": [
    "X1[:5]"
   ]
  },
  {
   "cell_type": "code",
   "execution_count": 359,
   "id": "b5ac68c3-c2cb-4814-9c43-52e254aa38a6",
   "metadata": {},
   "outputs": [
    {
     "data": {
      "text/plain": [
       "array([[0, 1, 0, 1, 0, 0],\n",
       "       [0, 1, 0, 1, 0, 2],\n",
       "       [0, 1, 0, 1, 2, 0],\n",
       "       [0, 1, 0, 1, 2, 2],\n",
       "       [0, 1, 1, 0, 1, 1]])"
      ]
     },
     "execution_count": 359,
     "metadata": {},
     "output_type": "execute_result"
    }
   ],
   "source": [
    "X2[:5]"
   ]
  },
  {
   "cell_type": "markdown",
   "id": "89fe6a02-3b1a-4e02-adc9-ab0a59733237",
   "metadata": {},
   "source": [
    "Looks good!"
   ]
  },
  {
   "cell_type": "markdown",
   "id": "c339f6ee-4322-4b6f-8fee-1ef3e948d585",
   "metadata": {},
   "source": [
    "Where do the sign changes occur between jw and no jw?"
   ]
  },
  {
   "cell_type": "code",
   "execution_count": 360,
   "id": "5e756dc5-29ae-434a-ab0a-f7744fc4ed50",
   "metadata": {},
   "outputs": [],
   "source": [
    "sign_flip_indcies = np.nonzero((jw_X > 0.005))"
   ]
  },
  {
   "cell_type": "code",
   "execution_count": 361,
   "id": "31b7a983-dde2-41d4-b9e3-713c87639ece",
   "metadata": {},
   "outputs": [
    {
     "data": {
      "text/plain": [
       "32"
      ]
     },
     "execution_count": 361,
     "metadata": {},
     "output_type": "execute_result"
    }
   ],
   "source": [
    "len(sign_flip_indcies[0])"
   ]
  },
  {
   "cell_type": "code",
   "execution_count": 363,
   "id": "0630121a-526b-4641-9689-189b65e5e097",
   "metadata": {},
   "outputs": [
    {
     "data": {
      "text/plain": [
       "array([[1, 0, 0, 1, 1, 1],\n",
       "       [1, 0, 0, 1, 1, 3],\n",
       "       [1, 0, 0, 1, 3, 1],\n",
       "       [1, 0, 0, 1, 3, 3],\n",
       "       [1, 0, 1, 0, 0, 0],\n",
       "       [1, 0, 1, 0, 0, 2],\n",
       "       [1, 0, 1, 0, 2, 0],\n",
       "       [1, 0, 1, 0, 2, 2],\n",
       "       [1, 2, 0, 1, 1, 1],\n",
       "       [1, 2, 0, 1, 1, 3],\n",
       "       [1, 2, 0, 1, 3, 1],\n",
       "       [1, 2, 0, 1, 3, 3],\n",
       "       [1, 2, 1, 0, 0, 0],\n",
       "       [1, 2, 1, 0, 0, 2],\n",
       "       [1, 2, 1, 0, 2, 0],\n",
       "       [1, 2, 1, 0, 2, 2],\n",
       "       [3, 0, 0, 1, 1, 1],\n",
       "       [3, 0, 0, 1, 1, 3],\n",
       "       [3, 0, 0, 1, 3, 1],\n",
       "       [3, 0, 0, 1, 3, 3],\n",
       "       [3, 0, 1, 0, 0, 0],\n",
       "       [3, 0, 1, 0, 0, 2],\n",
       "       [3, 0, 1, 0, 2, 0],\n",
       "       [3, 0, 1, 0, 2, 2],\n",
       "       [3, 2, 0, 1, 1, 1],\n",
       "       [3, 2, 0, 1, 1, 3],\n",
       "       [3, 2, 0, 1, 3, 1],\n",
       "       [3, 2, 0, 1, 3, 3],\n",
       "       [3, 2, 1, 0, 0, 0],\n",
       "       [3, 2, 1, 0, 0, 2],\n",
       "       [3, 2, 1, 0, 2, 0],\n",
       "       [3, 2, 1, 0, 2, 2]])"
      ]
     },
     "execution_count": 363,
     "metadata": {},
     "output_type": "execute_result"
    }
   ],
   "source": [
    "np.array(sign_flip_indcies).T"
   ]
  },
  {
   "cell_type": "code",
   "execution_count": 364,
   "id": "2dfcfab8-c641-45f5-8068-5a871dec5479",
   "metadata": {},
   "outputs": [],
   "source": [
    "no_sign_flip_indcies = np.nonzero((jw_X < - 0.005))"
   ]
  },
  {
   "cell_type": "code",
   "execution_count": 365,
   "id": "84abf2d2-c987-4359-bf7b-8f246919bdf0",
   "metadata": {},
   "outputs": [
    {
     "data": {
      "text/plain": [
       "32"
      ]
     },
     "execution_count": 365,
     "metadata": {},
     "output_type": "execute_result"
    }
   ],
   "source": [
    "len(no_sign_flip_indcies[0])"
   ]
  },
  {
   "cell_type": "code",
   "execution_count": 366,
   "id": "e0810a48-3b6c-49eb-816a-b7658f7d87a2",
   "metadata": {},
   "outputs": [
    {
     "data": {
      "text/plain": [
       "array([[0, 1, 0, 1, 0, 0],\n",
       "       [0, 1, 0, 1, 0, 2],\n",
       "       [0, 1, 0, 1, 2, 0],\n",
       "       [0, 1, 0, 1, 2, 2],\n",
       "       [0, 1, 1, 0, 1, 1],\n",
       "       [0, 1, 1, 0, 1, 3],\n",
       "       [0, 1, 1, 0, 3, 1],\n",
       "       [0, 1, 1, 0, 3, 3],\n",
       "       [0, 3, 0, 1, 0, 0],\n",
       "       [0, 3, 0, 1, 0, 2],\n",
       "       [0, 3, 0, 1, 2, 0],\n",
       "       [0, 3, 0, 1, 2, 2],\n",
       "       [0, 3, 1, 0, 1, 1],\n",
       "       [0, 3, 1, 0, 1, 3],\n",
       "       [0, 3, 1, 0, 3, 1],\n",
       "       [0, 3, 1, 0, 3, 3],\n",
       "       [2, 1, 0, 1, 0, 0],\n",
       "       [2, 1, 0, 1, 0, 2],\n",
       "       [2, 1, 0, 1, 2, 0],\n",
       "       [2, 1, 0, 1, 2, 2],\n",
       "       [2, 1, 1, 0, 1, 1],\n",
       "       [2, 1, 1, 0, 1, 3],\n",
       "       [2, 1, 1, 0, 3, 1],\n",
       "       [2, 1, 1, 0, 3, 3],\n",
       "       [2, 3, 0, 1, 0, 0],\n",
       "       [2, 3, 0, 1, 0, 2],\n",
       "       [2, 3, 0, 1, 2, 0],\n",
       "       [2, 3, 0, 1, 2, 2],\n",
       "       [2, 3, 1, 0, 1, 1],\n",
       "       [2, 3, 1, 0, 1, 3],\n",
       "       [2, 3, 1, 0, 3, 1],\n",
       "       [2, 3, 1, 0, 3, 3]])"
      ]
     },
     "execution_count": 366,
     "metadata": {},
     "output_type": "execute_result"
    }
   ],
   "source": [
    "np.array(no_sign_flip_indcies).T"
   ]
  },
  {
   "cell_type": "markdown",
   "id": "41b34411-deeb-47f0-bf0b-930d994c7110",
   "metadata": {},
   "source": [
    "### Check rdm svd of with/without jw"
   ]
  },
  {
   "cell_type": "code",
   "execution_count": 373,
   "id": "e59b5314-8c76-4a4d-b27b-5e37104b6594",
   "metadata": {},
   "outputs": [],
   "source": [
    "rdm = no_jw_rdm\n",
    "\n",
    "t = rdm.combine_legs([['p0', 'p1', 'p2'], ['p0*', 'p1*', 'p2*']])\n",
    "_, S, _ = npc.svd(t)"
   ]
  },
  {
   "cell_type": "code",
   "execution_count": 374,
   "id": "27a959ac-4511-4cac-b5b6-1afdebb23f79",
   "metadata": {},
   "outputs": [
    {
     "data": {
      "text/plain": [
       "1.000000000000002"
      ]
     },
     "execution_count": 374,
     "metadata": {},
     "output_type": "execute_result"
    }
   ],
   "source": [
    "np.sum(S)"
   ]
  },
  {
   "cell_type": "code",
   "execution_count": 375,
   "id": "956c7bf2-f94c-425c-be92-f25e18d4956f",
   "metadata": {},
   "outputs": [],
   "source": [
    "rdm = jw_rdm\n",
    "\n",
    "t = rdm.combine_legs([['p0', 'p1', 'p2'], ['p0*', 'p1*', 'p2*']])\n",
    "_, S, _ = npc.svd(t)"
   ]
  },
  {
   "cell_type": "code",
   "execution_count": 376,
   "id": "d9b68ff7-f09d-4f94-b642-98758e72e6b7",
   "metadata": {},
   "outputs": [
    {
     "data": {
      "text/plain": [
       "1.0000000000000018"
      ]
     },
     "execution_count": 376,
     "metadata": {},
     "output_type": "execute_result"
    }
   ],
   "source": [
    "np.sum(S)"
   ]
  },
  {
   "cell_type": "markdown",
   "id": "e9f524d9-2340-4298-bd74-f56890709392",
   "metadata": {},
   "source": [
    "# Conclusions"
   ]
  },
  {
   "cell_type": "markdown",
   "id": "3939661e-1e4b-47eb-9a07-40466b1a7967",
   "metadata": {},
   "source": [
    "Appears to be passing the tests! Indicator that the code to find the boundary operators is likely wrong."
   ]
  },
  {
   "cell_type": "markdown",
   "id": "35d17621-6c78-4cfa-941c-ea0550876d48",
   "metadata": {},
   "source": [
    "# Old code"
   ]
  },
  {
   "cell_type": "markdown",
   "id": "cbf03a28-664b-408a-8584-26821bec7534",
   "metadata": {},
   "source": [
    "### Compare with \"side agnostic\" rdms"
   ]
  },
  {
   "cell_type": "code",
   "execution_count": 241,
   "id": "12432336-3249-4f4d-bcef-935a328b33a1",
   "metadata": {},
   "outputs": [],
   "source": [
    "identity_rdms = dict()\n",
    "\n",
    "for k, v in loaded_data.items():\n",
    "    rdm = extract_rdm(v, 150, 3)\n",
    "    identity_rdms[k] = rdm"
   ]
  },
  {
   "cell_type": "code",
   "execution_count": 242,
   "id": "5bc2064c-8570-418a-bae8-dc8da9740683",
   "metadata": {},
   "outputs": [],
   "source": [
    "test_rdm = identity_rdms[(False, (1, 0))]"
   ]
  },
  {
   "cell_type": "code",
   "execution_count": 243,
   "id": "ef5aa2ad-f7fe-4e8e-a31d-ce5d4c306972",
   "metadata": {},
   "outputs": [
    {
     "data": {
      "text/plain": [
       "<npc.Array shape=(4, 4, 2, 2, 4, 4) labels=['p0', 'p0*', 'p1', 'p1*', 'p2', 'p2*']>"
      ]
     },
     "execution_count": 243,
     "metadata": {},
     "output_type": "execute_result"
    }
   ],
   "source": [
    "test_rdm"
   ]
  },
  {
   "cell_type": "code",
   "execution_count": 245,
   "id": "23e45ddc-1f19-4b70-b98a-80f0e28320c9",
   "metadata": {},
   "outputs": [
    {
     "data": {
      "text/plain": [
       "1.0000000000000002"
      ]
     },
     "execution_count": 245,
     "metadata": {},
     "output_type": "execute_result"
    }
   ],
   "source": [
    "trace_rdm(test_rdm)"
   ]
  },
  {
   "cell_type": "code",
   "execution_count": 246,
   "id": "0596f1c9-f397-4368-96a7-bd9f76e69cd6",
   "metadata": {
    "scrolled": true
   },
   "outputs": [],
   "source": [
    "X = np.round(test_rdm.to_ndarray(), 3)"
   ]
  },
  {
   "cell_type": "code",
   "execution_count": 247,
   "id": "a0ab19f7-1f66-4607-82ba-8a07218af8a0",
   "metadata": {},
   "outputs": [
    {
     "data": {
      "text/plain": [
       "0.0625"
      ]
     },
     "execution_count": 247,
     "metadata": {},
     "output_type": "execute_result"
    }
   ],
   "source": [
    "1/16"
   ]
  },
  {
   "cell_type": "code",
   "execution_count": 248,
   "id": "d8e8f629-9c8c-4e7b-b2fd-1b83dbf4148d",
   "metadata": {},
   "outputs": [
    {
     "data": {
      "text/plain": [
       "array([[[[[[ 0.062, -0.   ,  0.062,  0.   ],\n",
       "           [-0.   ,  0.   , -0.   ,  0.   ],\n",
       "           [ 0.062, -0.   ,  0.063,  0.   ],\n",
       "           [ 0.   ,  0.   ,  0.   ,  0.   ]],\n",
       "\n",
       "          [[ 0.   ,  0.   ,  0.   , -0.   ],\n",
       "           [ 0.   ,  0.   ,  0.   ,  0.   ],\n",
       "           [ 0.   ,  0.   ,  0.   , -0.   ],\n",
       "           [ 0.   ,  0.   ,  0.   ,  0.   ]]],\n",
       "\n",
       "\n",
       "         [[[ 0.   , -0.   ,  0.   , -0.   ],\n",
       "           [ 0.   ,  0.   ,  0.   ,  0.   ],\n",
       "           [ 0.   ,  0.   ,  0.   ,  0.   ],\n",
       "           [-0.   ,  0.   , -0.   ,  0.   ]],\n",
       "\n",
       "          [[-0.   ,  0.   , -0.   ,  0.   ],\n",
       "           [ 0.   ,  0.062, -0.   ,  0.063],\n",
       "           [-0.   , -0.   , -0.   , -0.   ],\n",
       "           [ 0.   ,  0.063, -0.   ,  0.063]]]],\n",
       "\n",
       "\n",
       "\n",
       "        [[[[ 0.   , -0.   ,  0.   , -0.   ],\n",
       "           [-0.   ,  0.   , -0.   ,  0.   ],\n",
       "           [ 0.   ,  0.   ,  0.   , -0.   ],\n",
       "           [ 0.   ,  0.   , -0.   ,  0.   ]],\n",
       "\n",
       "          [[ 0.   , -0.   ,  0.   , -0.   ],\n",
       "           [-0.   ,  0.   , -0.   ,  0.   ],\n",
       "           [ 0.   , -0.   ,  0.   , -0.   ],\n",
       "           [-0.   ,  0.   , -0.   ,  0.   ]]],\n",
       "\n",
       "\n",
       "         [[[ 0.   ,  0.   ,  0.   , -0.   ],\n",
       "           [ 0.   ,  0.   ,  0.   ,  0.   ],\n",
       "           [ 0.   ,  0.   ,  0.   , -0.   ],\n",
       "           [ 0.   ,  0.   , -0.   ,  0.   ]],\n",
       "\n",
       "          [[ 0.   , -0.   ,  0.   ,  0.   ],\n",
       "           [-0.   ,  0.   ,  0.   ,  0.   ],\n",
       "           [ 0.   , -0.   ,  0.   , -0.   ],\n",
       "           [-0.   ,  0.   , -0.   ,  0.   ]]]],\n",
       "\n",
       "\n",
       "\n",
       "        [[[[ 0.062, -0.   ,  0.062,  0.   ],\n",
       "           [-0.   , -0.   , -0.   , -0.   ],\n",
       "           [ 0.062, -0.   ,  0.063,  0.   ],\n",
       "           [ 0.   ,  0.   ,  0.   ,  0.   ]],\n",
       "\n",
       "          [[-0.   ,  0.   , -0.   , -0.   ],\n",
       "           [ 0.   ,  0.   ,  0.   ,  0.   ],\n",
       "           [-0.   ,  0.   , -0.   , -0.   ],\n",
       "           [-0.   ,  0.   , -0.   ,  0.   ]]],\n",
       "\n",
       "\n",
       "         [[[ 0.   ,  0.   ,  0.   ,  0.   ],\n",
       "           [ 0.   ,  0.   ,  0.   ,  0.   ],\n",
       "           [ 0.   , -0.   ,  0.   , -0.   ],\n",
       "           [-0.   ,  0.   , -0.   ,  0.   ]],\n",
       "\n",
       "          [[-0.   ,  0.   , -0.   ,  0.   ],\n",
       "           [ 0.   ,  0.063, -0.   ,  0.063],\n",
       "           [-0.   , -0.   , -0.   , -0.   ],\n",
       "           [ 0.   ,  0.063, -0.   ,  0.063]]]],\n",
       "\n",
       "\n",
       "\n",
       "        [[[[-0.   ,  0.   , -0.   , -0.   ],\n",
       "           [ 0.   ,  0.   ,  0.   ,  0.   ],\n",
       "           [-0.   ,  0.   , -0.   , -0.   ],\n",
       "           [ 0.   ,  0.   , -0.   ,  0.   ]],\n",
       "\n",
       "          [[ 0.   , -0.   ,  0.   ,  0.   ],\n",
       "           [-0.   , -0.   , -0.   , -0.   ],\n",
       "           [ 0.   , -0.   ,  0.   ,  0.   ],\n",
       "           [-0.   , -0.   , -0.   , -0.   ]]],\n",
       "\n",
       "\n",
       "         [[[-0.   ,  0.   , -0.   , -0.   ],\n",
       "           [ 0.   ,  0.   , -0.   ,  0.   ],\n",
       "           [-0.   ,  0.   , -0.   , -0.   ],\n",
       "           [ 0.   ,  0.   , -0.   ,  0.   ]],\n",
       "\n",
       "          [[ 0.   , -0.   ,  0.   , -0.   ],\n",
       "           [-0.   , -0.   ,  0.   , -0.   ],\n",
       "           [ 0.   , -0.   ,  0.   ,  0.   ],\n",
       "           [-0.   , -0.   , -0.   , -0.   ]]]]],\n",
       "\n",
       "\n",
       "\n",
       "\n",
       "       [[[[[ 0.   , -0.   ,  0.   ,  0.   ],\n",
       "           [-0.   ,  0.   ,  0.   ,  0.   ],\n",
       "           [ 0.   , -0.   ,  0.   , -0.   ],\n",
       "           [-0.   ,  0.   , -0.   ,  0.   ]],\n",
       "\n",
       "          [[ 0.   ,  0.   ,  0.   ,  0.   ],\n",
       "           [ 0.   ,  0.   ,  0.   ,  0.   ],\n",
       "           [ 0.   ,  0.   ,  0.   , -0.   ],\n",
       "           [-0.   ,  0.   , -0.   ,  0.   ]]],\n",
       "\n",
       "\n",
       "         [[[ 0.   , -0.   ,  0.   , -0.   ],\n",
       "           [-0.   ,  0.   , -0.   ,  0.   ],\n",
       "           [ 0.   , -0.   ,  0.   , -0.   ],\n",
       "           [-0.   ,  0.   , -0.   ,  0.   ]],\n",
       "\n",
       "          [[ 0.   , -0.   ,  0.   , -0.   ],\n",
       "           [-0.   ,  0.   , -0.   ,  0.   ],\n",
       "           [ 0.   ,  0.   ,  0.   , -0.   ],\n",
       "           [ 0.   ,  0.   , -0.   ,  0.   ]]]],\n",
       "\n",
       "\n",
       "\n",
       "        [[[[-0.   ,  0.   , -0.   ,  0.   ],\n",
       "           [ 0.   ,  0.062, -0.   ,  0.062],\n",
       "           [ 0.   , -0.   ,  0.   , -0.   ],\n",
       "           [ 0.   ,  0.062, -0.   ,  0.062]],\n",
       "\n",
       "          [[ 0.   , -0.   ,  0.   , -0.   ],\n",
       "           [ 0.   ,  0.   ,  0.   ,  0.   ],\n",
       "           [ 0.   ,  0.   ,  0.   ,  0.   ],\n",
       "           [-0.   ,  0.   , -0.   ,  0.   ]]],\n",
       "\n",
       "\n",
       "         [[[ 0.   ,  0.   ,  0.   , -0.   ],\n",
       "           [-0.   ,  0.   , -0.   ,  0.   ],\n",
       "           [ 0.   ,  0.   ,  0.   , -0.   ],\n",
       "           [ 0.   ,  0.   ,  0.   ,  0.   ]],\n",
       "\n",
       "          [[ 0.062, -0.   ,  0.063,  0.   ],\n",
       "           [-0.   , -0.   , -0.   , -0.   ],\n",
       "           [ 0.063, -0.   ,  0.063,  0.   ],\n",
       "           [ 0.   ,  0.   ,  0.   ,  0.   ]]]],\n",
       "\n",
       "\n",
       "\n",
       "        [[[[ 0.   , -0.   ,  0.   ,  0.   ],\n",
       "           [-0.   ,  0.   ,  0.   ,  0.   ],\n",
       "           [ 0.   , -0.   ,  0.   ,  0.   ],\n",
       "           [-0.   ,  0.   , -0.   ,  0.   ]],\n",
       "\n",
       "          [[ 0.   ,  0.   ,  0.   , -0.   ],\n",
       "           [ 0.   ,  0.   ,  0.   ,  0.   ],\n",
       "           [ 0.   ,  0.   ,  0.   , -0.   ],\n",
       "           [ 0.   ,  0.   , -0.   ,  0.   ]]],\n",
       "\n",
       "\n",
       "         [[[ 0.   , -0.   ,  0.   , -0.   ],\n",
       "           [-0.   ,  0.   , -0.   ,  0.   ],\n",
       "           [ 0.   , -0.   ,  0.   , -0.   ],\n",
       "           [-0.   ,  0.   , -0.   ,  0.   ]],\n",
       "\n",
       "          [[ 0.   ,  0.   ,  0.   , -0.   ],\n",
       "           [-0.   ,  0.   , -0.   ,  0.   ],\n",
       "           [ 0.   ,  0.   ,  0.   , -0.   ],\n",
       "           [ 0.   ,  0.   , -0.   ,  0.   ]]]],\n",
       "\n",
       "\n",
       "\n",
       "        [[[[ 0.   ,  0.   ,  0.   ,  0.   ],\n",
       "           [ 0.   ,  0.062, -0.   ,  0.062],\n",
       "           [ 0.   , -0.   ,  0.   , -0.   ],\n",
       "           [ 0.   ,  0.062, -0.   ,  0.062]],\n",
       "\n",
       "          [[ 0.   , -0.   ,  0.   , -0.   ],\n",
       "           [ 0.   ,  0.   ,  0.   ,  0.   ],\n",
       "           [ 0.   ,  0.   ,  0.   ,  0.   ],\n",
       "           [-0.   ,  0.   , -0.   ,  0.   ]]],\n",
       "\n",
       "\n",
       "         [[[ 0.   ,  0.   ,  0.   , -0.   ],\n",
       "           [ 0.   ,  0.   ,  0.   ,  0.   ],\n",
       "           [ 0.   ,  0.   ,  0.   , -0.   ],\n",
       "           [ 0.   ,  0.   ,  0.   ,  0.   ]],\n",
       "\n",
       "          [[ 0.062, -0.   ,  0.063,  0.   ],\n",
       "           [-0.   , -0.   , -0.   , -0.   ],\n",
       "           [ 0.063, -0.   ,  0.063,  0.   ],\n",
       "           [ 0.   ,  0.   ,  0.   ,  0.   ]]]]],\n",
       "\n",
       "\n",
       "\n",
       "\n",
       "       [[[[[ 0.062, -0.   ,  0.062,  0.   ],\n",
       "           [-0.   , -0.   , -0.   , -0.   ],\n",
       "           [ 0.062, -0.   ,  0.063,  0.   ],\n",
       "           [ 0.   , -0.   ,  0.   , -0.   ]],\n",
       "\n",
       "          [[ 0.   ,  0.   ,  0.   , -0.   ],\n",
       "           [ 0.   ,  0.   ,  0.   ,  0.   ],\n",
       "           [ 0.   ,  0.   ,  0.   , -0.   ],\n",
       "           [ 0.   ,  0.   ,  0.   ,  0.   ]]],\n",
       "\n",
       "\n",
       "         [[[-0.   ,  0.   , -0.   ,  0.   ],\n",
       "           [ 0.   ,  0.   ,  0.   ,  0.   ],\n",
       "           [-0.   ,  0.   , -0.   ,  0.   ],\n",
       "           [-0.   ,  0.   , -0.   ,  0.   ]],\n",
       "\n",
       "          [[-0.   ,  0.   , -0.   ,  0.   ],\n",
       "           [ 0.   ,  0.063, -0.   ,  0.063],\n",
       "           [-0.   , -0.   , -0.   , -0.   ],\n",
       "           [ 0.   ,  0.063, -0.   ,  0.063]]]],\n",
       "\n",
       "\n",
       "\n",
       "        [[[[ 0.   , -0.   ,  0.   , -0.   ],\n",
       "           [-0.   ,  0.   , -0.   ,  0.   ],\n",
       "           [ 0.   ,  0.   ,  0.   , -0.   ],\n",
       "           [ 0.   ,  0.   ,  0.   ,  0.   ]],\n",
       "\n",
       "          [[ 0.   , -0.   ,  0.   , -0.   ],\n",
       "           [-0.   ,  0.   , -0.   ,  0.   ],\n",
       "           [ 0.   , -0.   ,  0.   , -0.   ],\n",
       "           [-0.   ,  0.   , -0.   ,  0.   ]]],\n",
       "\n",
       "\n",
       "         [[[ 0.   ,  0.   ,  0.   ,  0.   ],\n",
       "           [ 0.   ,  0.   ,  0.   ,  0.   ],\n",
       "           [ 0.   ,  0.   ,  0.   , -0.   ],\n",
       "           [-0.   ,  0.   , -0.   ,  0.   ]],\n",
       "\n",
       "          [[ 0.   , -0.   ,  0.   ,  0.   ],\n",
       "           [ 0.   ,  0.   ,  0.   ,  0.   ],\n",
       "           [ 0.   , -0.   ,  0.   , -0.   ],\n",
       "           [-0.   ,  0.   , -0.   ,  0.   ]]]],\n",
       "\n",
       "\n",
       "\n",
       "        [[[[ 0.062, -0.   ,  0.063,  0.   ],\n",
       "           [-0.   , -0.   , -0.   , -0.   ],\n",
       "           [ 0.063, -0.   ,  0.063,  0.   ],\n",
       "           [ 0.   , -0.   ,  0.   , -0.   ]],\n",
       "\n",
       "          [[-0.   ,  0.   , -0.   , -0.   ],\n",
       "           [ 0.   ,  0.   ,  0.   ,  0.   ],\n",
       "           [-0.   ,  0.   , -0.   , -0.   ],\n",
       "           [ 0.   ,  0.   ,  0.   ,  0.   ]]],\n",
       "\n",
       "\n",
       "         [[[-0.   , -0.   , -0.   , -0.   ],\n",
       "           [ 0.   ,  0.   ,  0.   ,  0.   ],\n",
       "           [-0.   ,  0.   , -0.   ,  0.   ],\n",
       "           [-0.   ,  0.   , -0.   ,  0.   ]],\n",
       "\n",
       "          [[-0.   ,  0.   , -0.   ,  0.   ],\n",
       "           [ 0.   ,  0.063, -0.   ,  0.063],\n",
       "           [-0.   , -0.   , -0.   , -0.   ],\n",
       "           [ 0.   ,  0.063, -0.   ,  0.063]]]],\n",
       "\n",
       "\n",
       "\n",
       "        [[[[-0.   ,  0.   , -0.   , -0.   ],\n",
       "           [ 0.   ,  0.   ,  0.   ,  0.   ],\n",
       "           [-0.   ,  0.   , -0.   , -0.   ],\n",
       "           [ 0.   ,  0.   , -0.   ,  0.   ]],\n",
       "\n",
       "          [[ 0.   , -0.   ,  0.   ,  0.   ],\n",
       "           [-0.   ,  0.   , -0.   ,  0.   ],\n",
       "           [ 0.   , -0.   ,  0.   ,  0.   ],\n",
       "           [-0.   ,  0.   , -0.   ,  0.   ]]],\n",
       "\n",
       "\n",
       "         [[[ 0.   ,  0.   ,  0.   ,  0.   ],\n",
       "           [ 0.   ,  0.   , -0.   ,  0.   ],\n",
       "           [ 0.   ,  0.   ,  0.   , -0.   ],\n",
       "           [ 0.   ,  0.   , -0.   ,  0.   ]],\n",
       "\n",
       "          [[ 0.   , -0.   ,  0.   , -0.   ],\n",
       "           [ 0.   , -0.   ,  0.   , -0.   ],\n",
       "           [ 0.   , -0.   ,  0.   ,  0.   ],\n",
       "           [-0.   , -0.   , -0.   , -0.   ]]]]],\n",
       "\n",
       "\n",
       "\n",
       "\n",
       "       [[[[[-0.   ,  0.   , -0.   ,  0.   ],\n",
       "           [ 0.   ,  0.   ,  0.   ,  0.   ],\n",
       "           [-0.   ,  0.   , -0.   , -0.   ],\n",
       "           [-0.   ,  0.   , -0.   ,  0.   ]],\n",
       "\n",
       "          [[-0.   ,  0.   , -0.   ,  0.   ],\n",
       "           [ 0.   ,  0.   ,  0.   ,  0.   ],\n",
       "           [-0.   , -0.   , -0.   , -0.   ],\n",
       "           [-0.   ,  0.   , -0.   ,  0.   ]]],\n",
       "\n",
       "\n",
       "         [[[ 0.   , -0.   ,  0.   , -0.   ],\n",
       "           [-0.   , -0.   , -0.   , -0.   ],\n",
       "           [ 0.   , -0.   ,  0.   , -0.   ],\n",
       "           [ 0.   , -0.   ,  0.   , -0.   ]],\n",
       "\n",
       "          [[ 0.   , -0.   ,  0.   , -0.   ],\n",
       "           [-0.   , -0.   , -0.   , -0.   ],\n",
       "           [ 0.   ,  0.   ,  0.   , -0.   ],\n",
       "           [-0.   , -0.   ,  0.   , -0.   ]]]],\n",
       "\n",
       "\n",
       "\n",
       "        [[[[ 0.   ,  0.   ,  0.   ,  0.   ],\n",
       "           [ 0.   ,  0.062, -0.   ,  0.062],\n",
       "           [ 0.   , -0.   ,  0.   , -0.   ],\n",
       "           [ 0.   ,  0.062, -0.   ,  0.062]],\n",
       "\n",
       "          [[ 0.   , -0.   ,  0.   , -0.   ],\n",
       "           [ 0.   ,  0.   ,  0.   ,  0.   ],\n",
       "           [ 0.   ,  0.   ,  0.   ,  0.   ],\n",
       "           [-0.   ,  0.   , -0.   ,  0.   ]]],\n",
       "\n",
       "\n",
       "         [[[ 0.   ,  0.   ,  0.   , -0.   ],\n",
       "           [ 0.   ,  0.   ,  0.   ,  0.   ],\n",
       "           [ 0.   ,  0.   ,  0.   , -0.   ],\n",
       "           [ 0.   ,  0.   ,  0.   ,  0.   ]],\n",
       "\n",
       "          [[ 0.062, -0.   ,  0.063,  0.   ],\n",
       "           [-0.   , -0.   , -0.   , -0.   ],\n",
       "           [ 0.063, -0.   ,  0.063,  0.   ],\n",
       "           [ 0.   , -0.   ,  0.   , -0.   ]]]],\n",
       "\n",
       "\n",
       "\n",
       "        [[[[-0.   ,  0.   , -0.   ,  0.   ],\n",
       "           [ 0.   ,  0.   ,  0.   ,  0.   ],\n",
       "           [-0.   ,  0.   , -0.   , -0.   ],\n",
       "           [-0.   ,  0.   , -0.   ,  0.   ]],\n",
       "\n",
       "          [[ 0.   ,  0.   ,  0.   ,  0.   ],\n",
       "           [ 0.   ,  0.   ,  0.   ,  0.   ],\n",
       "           [ 0.   , -0.   ,  0.   , -0.   ],\n",
       "           [ 0.   ,  0.   , -0.   ,  0.   ]]],\n",
       "\n",
       "\n",
       "         [[[ 0.   , -0.   ,  0.   , -0.   ],\n",
       "           [-0.   ,  0.   , -0.   ,  0.   ],\n",
       "           [ 0.   , -0.   ,  0.   , -0.   ],\n",
       "           [ 0.   ,  0.   ,  0.   ,  0.   ]],\n",
       "\n",
       "          [[ 0.   ,  0.   ,  0.   , -0.   ],\n",
       "           [-0.   , -0.   , -0.   , -0.   ],\n",
       "           [ 0.   ,  0.   ,  0.   , -0.   ],\n",
       "           [-0.   , -0.   ,  0.   , -0.   ]]]],\n",
       "\n",
       "\n",
       "\n",
       "        [[[[ 0.   ,  0.   ,  0.   ,  0.   ],\n",
       "           [ 0.   ,  0.062, -0.   ,  0.062],\n",
       "           [-0.   , -0.   , -0.   , -0.   ],\n",
       "           [ 0.   ,  0.062, -0.   ,  0.062]],\n",
       "\n",
       "          [[ 0.   , -0.   ,  0.   , -0.   ],\n",
       "           [ 0.   ,  0.   ,  0.   ,  0.   ],\n",
       "           [ 0.   , -0.   ,  0.   , -0.   ],\n",
       "           [-0.   ,  0.   , -0.   ,  0.   ]]],\n",
       "\n",
       "\n",
       "         [[[ 0.   ,  0.   ,  0.   , -0.   ],\n",
       "           [ 0.   ,  0.   ,  0.   ,  0.   ],\n",
       "           [ 0.   ,  0.   ,  0.   , -0.   ],\n",
       "           [-0.   ,  0.   , -0.   ,  0.   ]],\n",
       "\n",
       "          [[ 0.062, -0.   ,  0.063,  0.   ],\n",
       "           [-0.   ,  0.   , -0.   ,  0.   ],\n",
       "           [ 0.063, -0.   ,  0.063,  0.   ],\n",
       "           [ 0.   , -0.   ,  0.   , -0.   ]]]]]])"
      ]
     },
     "execution_count": 248,
     "metadata": {},
     "output_type": "execute_result"
    }
   ],
   "source": [
    "X"
   ]
  },
  {
   "cell_type": "code",
   "execution_count": 172,
   "id": "c5e56912-aa3f-4722-a86c-d729a1880e44",
   "metadata": {},
   "outputs": [],
   "source": [
    "non_zero_indcies = np.nonzero(X)"
   ]
  },
  {
   "cell_type": "code",
   "execution_count": 249,
   "id": "d127443d-d3c2-4872-8f2b-0bee109daed9",
   "metadata": {},
   "outputs": [
    {
     "data": {
      "text/plain": [
       "False"
      ]
     },
     "execution_count": 249,
     "metadata": {},
     "output_type": "execute_result"
    }
   ],
   "source": [
    "np.all(X > 0)"
   ]
  },
  {
   "cell_type": "code",
   "execution_count": 251,
   "id": "714da6d8-36af-4e4f-a053-32c3d918fc05",
   "metadata": {},
   "outputs": [
    {
     "data": {
      "text/plain": [
       "64"
      ]
     },
     "execution_count": 251,
     "metadata": {},
     "output_type": "execute_result"
    }
   ],
   "source": [
    "len(non_zero_indcies[0])"
   ]
  },
  {
   "cell_type": "code",
   "execution_count": 250,
   "id": "68e0ce22-a537-49e4-8b8a-e07b70c3c564",
   "metadata": {},
   "outputs": [
    {
     "data": {
      "text/plain": [
       "array([[0, 0, 0, 0, 0, 0],\n",
       "       [0, 0, 0, 0, 0, 2],\n",
       "       [0, 0, 0, 0, 2, 0],\n",
       "       [0, 0, 0, 0, 2, 2],\n",
       "       [0, 0, 1, 1, 1, 1],\n",
       "       [0, 0, 1, 1, 1, 3],\n",
       "       [0, 0, 1, 1, 3, 1],\n",
       "       [0, 0, 1, 1, 3, 3],\n",
       "       [0, 2, 0, 0, 0, 0],\n",
       "       [0, 2, 0, 0, 0, 2],\n",
       "       [0, 2, 0, 0, 2, 0],\n",
       "       [0, 2, 0, 0, 2, 2],\n",
       "       [0, 2, 1, 1, 1, 1],\n",
       "       [0, 2, 1, 1, 1, 3],\n",
       "       [0, 2, 1, 1, 3, 1],\n",
       "       [0, 2, 1, 1, 3, 3],\n",
       "       [1, 1, 0, 0, 1, 1],\n",
       "       [1, 1, 0, 0, 1, 3],\n",
       "       [1, 1, 0, 0, 3, 1],\n",
       "       [1, 1, 0, 0, 3, 3],\n",
       "       [1, 1, 1, 1, 0, 0],\n",
       "       [1, 1, 1, 1, 0, 2],\n",
       "       [1, 1, 1, 1, 2, 0],\n",
       "       [1, 1, 1, 1, 2, 2],\n",
       "       [1, 3, 0, 0, 1, 1],\n",
       "       [1, 3, 0, 0, 1, 3],\n",
       "       [1, 3, 0, 0, 3, 1],\n",
       "       [1, 3, 0, 0, 3, 3],\n",
       "       [1, 3, 1, 1, 0, 0],\n",
       "       [1, 3, 1, 1, 0, 2],\n",
       "       [1, 3, 1, 1, 2, 0],\n",
       "       [1, 3, 1, 1, 2, 2],\n",
       "       [2, 0, 0, 0, 0, 0],\n",
       "       [2, 0, 0, 0, 0, 2],\n",
       "       [2, 0, 0, 0, 2, 0],\n",
       "       [2, 0, 0, 0, 2, 2],\n",
       "       [2, 0, 1, 1, 1, 1],\n",
       "       [2, 0, 1, 1, 1, 3],\n",
       "       [2, 0, 1, 1, 3, 1],\n",
       "       [2, 0, 1, 1, 3, 3],\n",
       "       [2, 2, 0, 0, 0, 0],\n",
       "       [2, 2, 0, 0, 0, 2],\n",
       "       [2, 2, 0, 0, 2, 0],\n",
       "       [2, 2, 0, 0, 2, 2],\n",
       "       [2, 2, 1, 1, 1, 1],\n",
       "       [2, 2, 1, 1, 1, 3],\n",
       "       [2, 2, 1, 1, 3, 1],\n",
       "       [2, 2, 1, 1, 3, 3],\n",
       "       [3, 1, 0, 0, 1, 1],\n",
       "       [3, 1, 0, 0, 1, 3],\n",
       "       [3, 1, 0, 0, 3, 1],\n",
       "       [3, 1, 0, 0, 3, 3],\n",
       "       [3, 1, 1, 1, 0, 0],\n",
       "       [3, 1, 1, 1, 0, 2],\n",
       "       [3, 1, 1, 1, 2, 0],\n",
       "       [3, 1, 1, 1, 2, 2],\n",
       "       [3, 3, 0, 0, 1, 1],\n",
       "       [3, 3, 0, 0, 1, 3],\n",
       "       [3, 3, 0, 0, 3, 1],\n",
       "       [3, 3, 0, 0, 3, 3],\n",
       "       [3, 3, 1, 1, 0, 0],\n",
       "       [3, 3, 1, 1, 0, 2],\n",
       "       [3, 3, 1, 1, 2, 0],\n",
       "       [3, 3, 1, 1, 2, 2]])"
      ]
     },
     "execution_count": 250,
     "metadata": {},
     "output_type": "execute_result"
    }
   ],
   "source": [
    "np.array(non_zero_indcies).T"
   ]
  },
  {
   "cell_type": "code",
   "execution_count": 252,
   "id": "c2b8980b-109c-4622-ae44-db3fcfb4de77",
   "metadata": {},
   "outputs": [],
   "source": [
    "indices_dict = defaultdict(list)\n",
    "\n",
    "for gul, gdl, gum, gdm, gur, gdr in zip(*non_zero_indcies):\n",
    "    indices_dict[(gul, gdl, gur, gdr)].append((gum, gdm))"
   ]
  },
  {
   "cell_type": "code",
   "execution_count": 253,
   "id": "bcc6be1c-d56c-4f69-a26e-26353bec879a",
   "metadata": {},
   "outputs": [],
   "source": [
    "indices_dict_keys = list(indices_dict.keys())"
   ]
  },
  {
   "cell_type": "code",
   "execution_count": 254,
   "id": "c58fc341-1039-40b8-829b-9df094769ad3",
   "metadata": {},
   "outputs": [
    {
     "data": {
      "text/plain": [
       "64"
      ]
     },
     "execution_count": 254,
     "metadata": {},
     "output_type": "execute_result"
    }
   ],
   "source": [
    "len(indices_dict_keys)"
   ]
  },
  {
   "cell_type": "code",
   "execution_count": 255,
   "id": "1166f9d1-00ed-4b18-90bb-fa24c9953081",
   "metadata": {},
   "outputs": [
    {
     "data": {
      "text/plain": [
       "[(0, 0, 0, 0),\n",
       " (0, 0, 0, 2),\n",
       " (0, 0, 2, 0),\n",
       " (0, 0, 2, 2),\n",
       " (0, 0, 1, 1),\n",
       " (0, 0, 1, 3),\n",
       " (0, 0, 3, 1),\n",
       " (0, 0, 3, 3),\n",
       " (0, 2, 0, 0),\n",
       " (0, 2, 0, 2),\n",
       " (0, 2, 2, 0),\n",
       " (0, 2, 2, 2),\n",
       " (0, 2, 1, 1),\n",
       " (0, 2, 1, 3),\n",
       " (0, 2, 3, 1),\n",
       " (0, 2, 3, 3),\n",
       " (1, 1, 1, 1),\n",
       " (1, 1, 1, 3),\n",
       " (1, 1, 3, 1),\n",
       " (1, 1, 3, 3),\n",
       " (1, 1, 0, 0),\n",
       " (1, 1, 0, 2),\n",
       " (1, 1, 2, 0),\n",
       " (1, 1, 2, 2),\n",
       " (1, 3, 1, 1),\n",
       " (1, 3, 1, 3),\n",
       " (1, 3, 3, 1),\n",
       " (1, 3, 3, 3),\n",
       " (1, 3, 0, 0),\n",
       " (1, 3, 0, 2),\n",
       " (1, 3, 2, 0),\n",
       " (1, 3, 2, 2),\n",
       " (2, 0, 0, 0),\n",
       " (2, 0, 0, 2),\n",
       " (2, 0, 2, 0),\n",
       " (2, 0, 2, 2),\n",
       " (2, 0, 1, 1),\n",
       " (2, 0, 1, 3),\n",
       " (2, 0, 3, 1),\n",
       " (2, 0, 3, 3),\n",
       " (2, 2, 0, 0),\n",
       " (2, 2, 0, 2),\n",
       " (2, 2, 2, 0),\n",
       " (2, 2, 2, 2),\n",
       " (2, 2, 1, 1),\n",
       " (2, 2, 1, 3),\n",
       " (2, 2, 3, 1),\n",
       " (2, 2, 3, 3),\n",
       " (3, 1, 1, 1),\n",
       " (3, 1, 1, 3),\n",
       " (3, 1, 3, 1),\n",
       " (3, 1, 3, 3),\n",
       " (3, 1, 0, 0),\n",
       " (3, 1, 0, 2),\n",
       " (3, 1, 2, 0),\n",
       " (3, 1, 2, 2),\n",
       " (3, 3, 1, 1),\n",
       " (3, 3, 1, 3),\n",
       " (3, 3, 3, 1),\n",
       " (3, 3, 3, 3),\n",
       " (3, 3, 0, 0),\n",
       " (3, 3, 0, 2),\n",
       " (3, 3, 2, 0),\n",
       " (3, 3, 2, 2)]"
      ]
     },
     "execution_count": 255,
     "metadata": {},
     "output_type": "execute_result"
    }
   ],
   "source": [
    "list(indices_dict.keys())"
   ]
  },
  {
   "cell_type": "code",
   "execution_count": 256,
   "id": "c788b270-c78c-46eb-8edc-ba5cd9d60cf1",
   "metadata": {},
   "outputs": [
    {
     "data": {
      "text/plain": [
       "[[(0, 0)],\n",
       " [(0, 0)],\n",
       " [(0, 0)],\n",
       " [(0, 0)],\n",
       " [(1, 1)],\n",
       " [(1, 1)],\n",
       " [(1, 1)],\n",
       " [(1, 1)],\n",
       " [(0, 0)],\n",
       " [(0, 0)],\n",
       " [(0, 0)],\n",
       " [(0, 0)],\n",
       " [(1, 1)],\n",
       " [(1, 1)],\n",
       " [(1, 1)],\n",
       " [(1, 1)],\n",
       " [(0, 0)],\n",
       " [(0, 0)],\n",
       " [(0, 0)],\n",
       " [(0, 0)],\n",
       " [(1, 1)],\n",
       " [(1, 1)],\n",
       " [(1, 1)],\n",
       " [(1, 1)],\n",
       " [(0, 0)],\n",
       " [(0, 0)],\n",
       " [(0, 0)],\n",
       " [(0, 0)],\n",
       " [(1, 1)],\n",
       " [(1, 1)],\n",
       " [(1, 1)],\n",
       " [(1, 1)],\n",
       " [(0, 0)],\n",
       " [(0, 0)],\n",
       " [(0, 0)],\n",
       " [(0, 0)],\n",
       " [(1, 1)],\n",
       " [(1, 1)],\n",
       " [(1, 1)],\n",
       " [(1, 1)],\n",
       " [(0, 0)],\n",
       " [(0, 0)],\n",
       " [(0, 0)],\n",
       " [(0, 0)],\n",
       " [(1, 1)],\n",
       " [(1, 1)],\n",
       " [(1, 1)],\n",
       " [(1, 1)],\n",
       " [(0, 0)],\n",
       " [(0, 0)],\n",
       " [(0, 0)],\n",
       " [(0, 0)],\n",
       " [(1, 1)],\n",
       " [(1, 1)],\n",
       " [(1, 1)],\n",
       " [(1, 1)],\n",
       " [(0, 0)],\n",
       " [(0, 0)],\n",
       " [(0, 0)],\n",
       " [(0, 0)],\n",
       " [(1, 1)],\n",
       " [(1, 1)],\n",
       " [(1, 1)],\n",
       " [(1, 1)]]"
      ]
     },
     "execution_count": 256,
     "metadata": {},
     "output_type": "execute_result"
    }
   ],
   "source": [
    "list(indices_dict.values())"
   ]
  },
  {
   "cell_type": "markdown",
   "id": "02d12adb-23d5-4d2e-b336-9466da946266",
   "metadata": {},
   "source": [
    "So the right one is \"more correct\"... Still looks wrong though."
   ]
  },
  {
   "cell_type": "markdown",
   "id": "fc5ba0b3-d4cd-4441-9d4c-b244c2b0bc46",
   "metadata": {},
   "source": [
    "## Expectation values"
   ]
  },
  {
   "cell_type": "markdown",
   "id": "be75ba6f-95f0-46bb-aa15-054146b14546",
   "metadata": {},
   "source": [
    "Construct operators and check expectation values."
   ]
  },
  {
   "cell_type": "code",
   "execution_count": 260,
   "id": "6e3d017e-79bb-4ad8-9319-74d9b8c8e1b3",
   "metadata": {},
   "outputs": [
    {
     "data": {
      "text/plain": [
       "array(1.08203377e-16)"
      ]
     },
     "execution_count": 260,
     "metadata": {},
     "output_type": "execute_result"
    }
   ],
   "source": [
    "loaded_data[(False, (1, 0))].expectation_value_multi_sites(\n",
    "    ['map_0_0', 'Cd', 'map_0_1'], 150\n",
    ")"
   ]
  },
  {
   "cell_type": "code",
   "execution_count": 261,
   "id": "dc6601c7-9428-47c9-b9c1-5905c53f0c7e",
   "metadata": {},
   "outputs": [
    {
     "data": {
      "text/plain": [
       "array(-2.53152049e-20)"
      ]
     },
     "execution_count": 261,
     "metadata": {},
     "output_type": "execute_result"
    }
   ],
   "source": [
    "loaded_data[(False, (1, 0))].expectation_value_multi_sites(\n",
    "    ['map_0_0', 'C', 'map_0_1'], 150\n",
    ")"
   ]
  },
  {
   "cell_type": "code",
   "execution_count": 263,
   "id": "1cfcf414-646c-41d2-839c-e2cdac8b05ad",
   "metadata": {},
   "outputs": [
    {
     "data": {
      "text/plain": [
       "array(1.08203377e-16)"
      ]
     },
     "execution_count": 263,
     "metadata": {},
     "output_type": "execute_result"
    }
   ],
   "source": [
    "loaded_data[(False, (1, 0))].expectation_value_multi_sites(\n",
    "    ['map_0_0', 'C', 'map_1_0'], 150\n",
    ")"
   ]
  },
  {
   "cell_type": "code",
   "execution_count": 264,
   "id": "43128799-7cc9-4ab5-b158-d07160830b16",
   "metadata": {},
   "outputs": [],
   "source": [
    "psi = loaded_data[(False, (1, 0))]"
   ]
  },
  {
   "cell_type": "code",
   "execution_count": 268,
   "id": "ca2ed1a0-cc30-4390-bb17-5040d2004663",
   "metadata": {},
   "outputs": [],
   "source": [
    "exps = dict()\n",
    "\n",
    "keys = product(\n",
    "    range(4),\n",
    "    range(4),\n",
    "    ['C', 'Cd'],\n",
    "    range(4),\n",
    "    range(4)\n",
    ")\n",
    "\n",
    "for k in keys:\n",
    "    ul, dl, tf, ur, dr = k\n",
    "    ops = [f'map_{dl}_{ul}', tf, f'map_{dr}_{ur}']\n",
    "    exp = psi.expectation_value_multi_sites(ops, 150)\n",
    "\n",
    "    exps[k] = exp"
   ]
  },
  {
   "cell_type": "code",
   "execution_count": 269,
   "id": "fdfd2b8c-08a0-45a4-af13-fdaebf642590",
   "metadata": {},
   "outputs": [
    {
     "data": {
      "text/plain": [
       "{(0, 0, 'C', 0, 0): array(6.75093268e-16),\n",
       " (0, 0, 'C', 0, 1): array(1.08203377e-16),\n",
       " (0, 0, 'C', 0, 2): array(9.63105648e-16),\n",
       " (0, 0, 'C', 0, 3): array(-1.11954716e-15),\n",
       " (0, 0, 'C', 1, 0): array(-2.53152049e-20),\n",
       " (0, 0, 'C', 1, 1): array(2.33198014e-15),\n",
       " (0, 0, 'C', 1, 2): array(9.67991031e-21),\n",
       " (0, 0, 'C', 1, 3): array(2.32900581e-15),\n",
       " (0, 0, 'C', 2, 0): array(6.75093268e-16),\n",
       " (0, 0, 'C', 2, 1): array(7.09718742e-16),\n",
       " (0, 0, 'C', 2, 2): array(9.63105648e-16),\n",
       " (0, 0, 'C', 2, 3): array(-5.18031798e-16),\n",
       " (0, 0, 'C', 3, 0): array(-2.53152048e-20),\n",
       " (0, 0, 'C', 3, 1): array(2.37809278e-15),\n",
       " (0, 0, 'C', 3, 2): array(9.67991034e-21),\n",
       " (0, 0, 'C', 3, 3): array(2.37511846e-15),\n",
       " (0, 0, 'Cd', 0, 0): array(6.73300683e-16),\n",
       " (0, 0, 'Cd', 0, 1): array(1.60958307e-20),\n",
       " (0, 0, 'Cd', 0, 2): array(6.75378442e-16),\n",
       " (0, 0, 'Cd', 0, 3): array(1.77117361e-21),\n",
       " (0, 0, 'Cd', 1, 0): array(1.08203377e-16),\n",
       " (0, 0, 'Cd', 1, 1): array(2.32823392e-15),\n",
       " (0, 0, 'Cd', 1, 2): array(7.09935583e-16),\n",
       " (0, 0, 'Cd', 1, 3): array(2.37580705e-15),\n",
       " (0, 0, 'Cd', 2, 0): array(9.57947553e-16),\n",
       " (0, 0, 'Cd', 2, 1): array(1.60958307e-20),\n",
       " (0, 0, 'Cd', 2, 2): array(9.60025311e-16),\n",
       " (0, 0, 'Cd', 2, 3): array(1.77117361e-21),\n",
       " (0, 0, 'Cd', 3, 0): array(-1.11933032e-15),\n",
       " (0, 0, 'Cd', 3, 1): array(2.32823392e-15),\n",
       " (0, 0, 'Cd', 3, 2): array(-5.18031798e-16),\n",
       " (0, 0, 'Cd', 3, 3): array(2.37580705e-15),\n",
       " (0, 1, 'C', 0, 0): array(1.66836128e-15),\n",
       " (0, 1, 'C', 0, 1): array(-4.12642046e-29),\n",
       " (0, 1, 'C', 0, 2): array(1.66836128e-15),\n",
       " (0, 1, 'C', 0, 3): array(-2.59769431e-30),\n",
       " (0, 1, 'C', 1, 0): array(-4.08374185e-29),\n",
       " (0, 1, 'C', 1, 1): array(2.16993145e-20),\n",
       " (0, 1, 'C', 1, 2): array(-3.70117513e-29),\n",
       " (0, 1, 'C', 1, 3): array(2.16993145e-20),\n",
       " (0, 1, 'C', 2, 0): array(1.66836128e-15),\n",
       " (0, 1, 'C', 2, 1): array(-3.98270757e-29),\n",
       " (0, 1, 'C', 2, 2): array(1.66836128e-15),\n",
       " (0, 1, 'C', 2, 3): array(-1.1601802e-30),\n",
       " (0, 1, 'C', 3, 0): array(-7.03811839e-30),\n",
       " (0, 1, 'C', 3, 1): array(2.16993145e-20),\n",
       " (0, 1, 'C', 3, 2): array(-3.21553264e-30),\n",
       " (0, 1, 'C', 3, 3): array(2.16993145e-20),\n",
       " (0, 1, 'Cd', 0, 0): array(2.16993145e-20),\n",
       " (0, 1, 'Cd', 0, 1): array(4.09529743e-30),\n",
       " (0, 1, 'Cd', 0, 2): array(2.16993145e-20),\n",
       " (0, 1, 'Cd', 0, 3): array(-3.70702996e-30),\n",
       " (0, 1, 'Cd', 1, 0): array(3.66427431e-30),\n",
       " (0, 1, 'Cd', 1, 1): array(1.66836128e-15),\n",
       " (0, 1, 'Cd', 1, 2): array(1.40092144e-30),\n",
       " (0, 1, 'Cd', 1, 3): array(1.66836128e-15),\n",
       " (0, 1, 'Cd', 2, 0): array(2.16993145e-20),\n",
       " (0, 1, 'Cd', 2, 1): array(4.21547546e-30),\n",
       " (0, 1, 'Cd', 2, 2): array(2.16993145e-20),\n",
       " (0, 1, 'Cd', 2, 3): array(-3.58531118e-30),\n",
       " (0, 1, 'Cd', 3, 0): array(7.31853379e-31),\n",
       " (0, 1, 'Cd', 3, 1): array(1.66836128e-15),\n",
       " (0, 1, 'Cd', 3, 2): array(-1.53188468e-30),\n",
       " (0, 1, 'Cd', 3, 3): array(1.66836128e-15),\n",
       " (0, 2, 'C', 0, 0): array(-2.88659706e-16),\n",
       " (0, 2, 'C', 0, 1): array(1.08420217e-16),\n",
       " (0, 2, 'C', 0, 2): array(-6.11555076e-18),\n",
       " (0, 2, 'C', 0, 3): array(-1.11933032e-15),\n",
       " (0, 2, 'C', 1, 0): array(3.09165134e-20),\n",
       " (0, 2, 'C', 1, 1): array(2.32949088e-15),\n",
       " (0, 2, 'C', 1, 2): array(1.79677089e-20),\n",
       " (0, 2, 'C', 1, 3): array(2.32149496e-15),\n",
       " (0, 2, 'C', 2, 0): array(-2.88659706e-16),\n",
       " (0, 2, 'C', 2, 1): array(7.09718742e-16),\n",
       " (0, 2, 'C', 2, 2): array(-6.11555076e-18),\n",
       " (0, 2, 'C', 2, 3): array(-5.17814958e-16),\n",
       " (0, 2, 'C', 3, 0): array(3.09165134e-20),\n",
       " (0, 2, 'C', 3, 1): array(2.37907297e-15),\n",
       " (0, 2, 'C', 3, 2): array(1.79677089e-20),\n",
       " (0, 2, 'C', 3, 3): array(2.3676093e-15),\n",
       " (0, 2, 'Cd', 0, 0): array(6.72543883e-16),\n",
       " (0, 2, 'Cd', 0, 1): array(2.44403657e-20),\n",
       " (0, 2, 'Cd', 0, 2): array(6.74621642e-16),\n",
       " (0, 2, 'Cd', 0, 3): array(3.45191912e-21),\n",
       " (0, 2, 'Cd', 1, 0): array(1.08420217e-16),\n",
       " (0, 2, 'Cd', 1, 1): array(1.3689706e-15),\n",
       " (0, 2, 'Cd', 1, 2): array(7.09718742e-16),\n",
       " (0, 2, 'Cd', 1, 3): array(1.41779684e-15),\n",
       " (0, 2, 'Cd', 2, 0): array(9.57190753e-16),\n",
       " (0, 2, 'Cd', 2, 1): array(2.44403657e-20),\n",
       " (0, 2, 'Cd', 2, 2): array(9.59268512e-16),\n",
       " (0, 2, 'Cd', 2, 3): array(3.45191911e-21),\n",
       " (0, 2, 'Cd', 3, 0): array(-1.11933032e-15),\n",
       " (0, 2, 'Cd', 3, 1): array(1.3689706e-15),\n",
       " (0, 2, 'Cd', 3, 2): array(-5.17814958e-16),\n",
       " (0, 2, 'Cd', 3, 3): array(1.41779684e-15),\n",
       " (0, 3, 'C', 0, 0): array(1.6676333e-15),\n",
       " (0, 3, 'C', 0, 1): array(-4.15307052e-29),\n",
       " (0, 3, 'C', 0, 2): array(1.6676333e-15),\n",
       " (0, 3, 'C', 0, 3): array(3.2658957e-31),\n",
       " (0, 3, 'C', 1, 0): array(-4.08189296e-29),\n",
       " (0, 3, 'C', 1, 1): array(-5.59693132e-22),\n",
       " (0, 3, 'C', 1, 2): array(-3.69948031e-29),\n",
       " (0, 3, 'C', 1, 3): array(-5.59693132e-22),\n",
       " (0, 3, 'C', 2, 0): array(1.6676333e-15),\n",
       " (0, 3, 'C', 2, 1): array(-4.16656166e-29),\n",
       " (0, 3, 'C', 2, 2): array(1.6676333e-15),\n",
       " (0, 3, 'C', 2, 3): array(1.91630029e-31),\n",
       " (0, 3, 'C', 3, 0): array(-7.03811839e-30),\n",
       " (0, 3, 'C', 3, 1): array(-5.59693132e-22),\n",
       " (0, 3, 'C', 3, 2): array(-3.21399189e-30),\n",
       " (0, 3, 'C', 3, 3): array(-5.59693132e-22),\n",
       " (0, 3, 'Cd', 0, 0): array(-5.59693139e-22),\n",
       " (0, 3, 'Cd', 0, 1): array(4.09221595e-30),\n",
       " (0, 3, 'Cd', 0, 2): array(-5.59693137e-22),\n",
       " (0, 3, 'Cd', 0, 3): array(-3.71165219e-30),\n",
       " (0, 3, 'Cd', 1, 0): array(3.38077742e-30),\n",
       " (0, 3, 'Cd', 1, 1): array(1.6676333e-15),\n",
       " (0, 3, 'Cd', 1, 2): array(-4.5442317e-31),\n",
       " (0, 3, 'Cd', 1, 3): array(1.6676333e-15),\n",
       " (0, 3, 'Cd', 2, 0): array(-5.59693139e-22),\n",
       " (0, 3, 'Cd', 2, 1): array(4.21547546e-30),\n",
       " (0, 3, 'Cd', 2, 2): array(-5.59693137e-22),\n",
       " (0, 3, 'Cd', 2, 3): array(-3.58839267e-30),\n",
       " (0, 3, 'Cd', 3, 0): array(3.65613726e-30),\n",
       " (0, 3, 'Cd', 3, 1): array(1.6676333e-15),\n",
       " (0, 3, 'Cd', 3, 2): array(-1.79063337e-31),\n",
       " (0, 3, 'Cd', 3, 3): array(1.6676333e-15),\n",
       " (1, 0, 'C', 0, 0): array(2.16993145e-20),\n",
       " (1, 0, 'C', 0, 1): array(3.66581506e-30),\n",
       " (1, 0, 'C', 0, 2): array(2.16993145e-20),\n",
       " (1, 0, 'C', 0, 3): array(7.31468193e-31),\n",
       " (1, 0, 'C', 1, 0): array(4.09375669e-30),\n",
       " (1, 0, 'C', 1, 1): array(1.66836128e-15),\n",
       " (1, 0, 'C', 1, 2): array(4.21547546e-30),\n",
       " (1, 0, 'C', 1, 3): array(1.66836128e-15),\n",
       " (1, 0, 'C', 2, 0): array(2.16993145e-20),\n",
       " (1, 0, 'C', 2, 1): array(1.40169181e-30),\n",
       " (1, 0, 'C', 2, 2): array(2.16993145e-20),\n",
       " (1, 0, 'C', 2, 3): array(-1.52995875e-30),\n",
       " (1, 0, 'C', 3, 0): array(-3.7085707e-30),\n",
       " (1, 0, 'C', 3, 1): array(1.66836128e-15),\n",
       " (1, 0, 'C', 3, 2): array(-3.58685193e-30),\n",
       " (1, 0, 'C', 3, 3): array(1.66836128e-15),\n",
       " (1, 0, 'Cd', 0, 0): array(1.66836128e-15),\n",
       " (1, 0, 'Cd', 0, 1): array(-4.08358778e-29),\n",
       " (1, 0, 'Cd', 0, 2): array(1.66836128e-15),\n",
       " (1, 0, 'Cd', 0, 3): array(-7.03657764e-30),\n",
       " (1, 0, 'Cd', 1, 0): array(-4.12653602e-29),\n",
       " (1, 0, 'Cd', 1, 1): array(2.16993145e-20),\n",
       " (1, 0, 'Cd', 1, 2): array(-3.98278461e-29),\n",
       " (1, 0, 'Cd', 1, 3): array(2.16993145e-20),\n",
       " (1, 0, 'Cd', 2, 0): array(1.66836128e-15),\n",
       " (1, 0, 'Cd', 2, 1): array(-3.70117513e-29),\n",
       " (1, 0, 'Cd', 2, 2): array(1.66836128e-15),\n",
       " (1, 0, 'Cd', 2, 3): array(-3.21553264e-30),\n",
       " (1, 0, 'Cd', 3, 0): array(-2.59576838e-30),\n",
       " (1, 0, 'Cd', 3, 1): array(2.16993145e-20),\n",
       " (1, 0, 'Cd', 3, 2): array(-1.1601802e-30),\n",
       " (1, 0, 'Cd', 3, 3): array(2.16993145e-20),\n",
       " (1, 1, 'C', 0, 0): array(4.54849869e-16),\n",
       " (1, 1, 'C', 0, 1): array(-3.21681024e-20),\n",
       " (1, 1, 'C', 0, 2): array(4.4998704e-16),\n",
       " (1, 1, 'C', 0, 3): array(2.56424808e-20),\n",
       " (1, 1, 'C', 1, 0): array(1.08203377e-16),\n",
       " (1, 1, 'C', 1, 1): array(1.49134658e-15),\n",
       " (1, 1, 'C', 1, 2): array(7.09718742e-16),\n",
       " (1, 1, 'C', 1, 3): array(1.5389187e-15),\n",
       " (1, 1, 'C', 2, 0): array(7.39496739e-16),\n",
       " (1, 1, 'C', 2, 1): array(-3.21681024e-20),\n",
       " (1, 1, 'C', 2, 2): array(7.3463391e-16),\n",
       " (1, 1, 'C', 2, 3): array(2.56424808e-20),\n",
       " (1, 1, 'C', 3, 0): array(-1.11954716e-15),\n",
       " (1, 1, 'C', 3, 1): array(1.49134658e-15),\n",
       " (1, 1, 'C', 3, 2): array(-5.17814958e-16),\n",
       " (1, 1, 'C', 3, 3): array(1.5389187e-15),\n",
       " (1, 1, 'Cd', 0, 0): array(4.47060197e-16),\n",
       " (1, 1, 'Cd', 0, 1): array(1.08420217e-16),\n",
       " (1, 1, 'Cd', 0, 2): array(7.35074438e-16),\n",
       " (1, 1, 'Cd', 0, 3): array(-1.11933032e-15),\n",
       " (1, 1, 'Cd', 1, 0): array(-2.40819042e-20),\n",
       " (1, 1, 'Cd', 1, 1): array(1.49030477e-15),\n",
       " (1, 1, 'Cd', 1, 2): array(4.63903698e-21),\n",
       " (1, 1, 'Cd', 1, 3): array(1.49080158e-15),\n",
       " (1, 1, 'Cd', 2, 0): array(4.47060197e-16),\n",
       " (1, 1, 'Cd', 2, 1): array(7.09935583e-16),\n",
       " (1, 1, 'Cd', 2, 2): array(7.35074438e-16),\n",
       " (1, 1, 'Cd', 2, 3): array(-5.18031798e-16),\n",
       " (1, 1, 'Cd', 3, 0): array(-2.40819042e-20),\n",
       " (1, 1, 'Cd', 3, 1): array(1.53641911e-15),\n",
       " (1, 1, 'Cd', 3, 2): array(4.639037e-21),\n",
       " (1, 1, 'Cd', 3, 3): array(1.53691423e-15),\n",
       " (1, 2, 'C', 0, 0): array(2.1703566e-20),\n",
       " (1, 2, 'C', 0, 1): array(2.38738276e-30),\n",
       " (1, 2, 'C', 0, 2): array(2.1703566e-20),\n",
       " (1, 2, 'C', 0, 3): array(-5.41956686e-31),\n",
       " (1, 2, 'C', 1, 0): array(2.18333048e-30),\n",
       " (1, 2, 'C', 1, 1): array(1.04320004e-15),\n",
       " (1, 2, 'C', 1, 2): array(1.69000353e-31),\n",
       " (1, 2, 'C', 1, 3): array(1.04320004e-15),\n",
       " (1, 2, 'C', 2, 0): array(2.1703566e-20),\n",
       " (1, 2, 'C', 2, 1): array(1.50954389e-30),\n",
       " (1, 2, 'C', 2, 2): array(2.1703566e-20),\n",
       " (1, 2, 'C', 2, 3): array(-1.41979556e-30),\n",
       " (1, 2, 'C', 3, 0): array(1.5725218e-30),\n",
       " (1, 2, 'C', 3, 1): array(1.04320004e-15),\n",
       " (1, 2, 'C', 3, 2): array(-4.42000922e-31),\n",
       " (1, 2, 'C', 3, 3): array(1.04320004e-15),\n",
       " (1, 2, 'Cd', 0, 0): array(1.04320004e-15),\n",
       " (1, 2, 'Cd', 0, 1): array(-2.59094392e-29),\n",
       " (1, 2, 'Cd', 0, 2): array(1.04320004e-15),\n",
       " (1, 2, 'Cd', 0, 3): array(-5.09215877e-31),\n",
       " (1, 2, 'Cd', 1, 0): array(-2.57046166e-29),\n",
       " (1, 2, 'Cd', 1, 1): array(2.1703566e-20),\n",
       " (1, 2, 'Cd', 1, 2): array(-2.42709543e-29),\n",
       " (1, 2, 'Cd', 1, 3): array(2.1703566e-20),\n",
       " (1, 2, 'Cd', 2, 0): array(1.04320004e-15),\n",
       " (1, 2, 'Cd', 2, 1): array(-2.56098608e-29),\n",
       " (1, 2, 'Cd', 2, 2): array(1.04320004e-15),\n",
       " (1, 2, 'Cd', 2, 3): array(-2.09830067e-31),\n",
       " (1, 2, 'Cd', 3, 0): array(-2.62388696e-30),\n",
       " (1, 2, 'Cd', 3, 1): array(2.1703566e-20),\n",
       " (1, 2, 'Cd', 3, 2): array(-1.18906915e-30),\n",
       " (1, 2, 'Cd', 3, 3): array(2.1703566e-20),\n",
       " (1, 3, 'C', 0, 0): array(4.48625329e-16),\n",
       " (1, 3, 'C', 0, 1): array(2.8428765e-20),\n",
       " (1, 3, 'C', 0, 2): array(4.50703088e-16),\n",
       " (1, 3, 'C', 0, 3): array(5.3308815e-20),\n",
       " (1, 3, 'C', 1, 0): array(1.08420217e-16),\n",
       " (1, 3, 'C', 1, 1): array(1.32760781e-15),\n",
       " (1, 3, 'C', 1, 2): array(7.09718742e-16),\n",
       " (1, 3, 'C', 1, 3): array(1.37517951e-15),\n",
       " (1, 3, 'C', 2, 0): array(7.33272199e-16),\n",
       " (1, 3, 'C', 2, 1): array(2.8428765e-20),\n",
       " (1, 3, 'C', 2, 2): array(7.35349958e-16),\n",
       " (1, 3, 'C', 2, 3): array(5.3308815e-20),\n",
       " (1, 3, 'C', 3, 0): array(-1.11933032e-15),\n",
       " (1, 3, 'C', 3, 1): array(1.32760781e-15),\n",
       " (1, 3, 'C', 3, 2): array(-5.18031798e-16),\n",
       " (1, 3, 'C', 3, 3): array(1.37517951e-15),\n",
       " (1, 3, 'Cd', 0, 0): array(2.89643152e-16),\n",
       " (1, 3, 'Cd', 0, 1): array(1.08420217e-16),\n",
       " (1, 3, 'Cd', 0, 2): array(5.73442284e-16),\n",
       " (1, 3, 'Cd', 0, 3): array(-1.11933032e-15),\n",
       " (1, 3, 'Cd', 1, 0): array(-2.29609625e-20),\n",
       " (1, 3, 'Cd', 1, 1): array(1.49408494e-15),\n",
       " (1, 3, 'Cd', 1, 2): array(-4.88477305e-20),\n",
       " (1, 3, 'Cd', 1, 3): array(1.48956186e-15),\n",
       " (1, 3, 'Cd', 2, 0): array(2.89643152e-16),\n",
       " (1, 3, 'Cd', 2, 1): array(7.09935583e-16),\n",
       " (1, 3, 'Cd', 2, 2): array(5.73442284e-16),\n",
       " (1, 3, 'Cd', 2, 3): array(-5.17814958e-16),\n",
       " (1, 3, 'Cd', 3, 0): array(-2.29609625e-20),\n",
       " (1, 3, 'Cd', 3, 1): array(1.54019758e-15),\n",
       " (1, 3, 'Cd', 3, 2): array(-4.88477305e-20),\n",
       " (1, 3, 'Cd', 3, 3): array(1.5356745e-15),\n",
       " (2, 0, 'C', 0, 0): array(6.746869e-16),\n",
       " (2, 0, 'C', 0, 1): array(1.08420217e-16),\n",
       " (2, 0, 'C', 0, 2): array(9.57231055e-16),\n",
       " (2, 0, 'C', 0, 3): array(-1.11954716e-15),\n",
       " (2, 0, 'C', 1, 0): array(1.19547714e-20),\n",
       " (2, 0, 'C', 1, 1): array(1.3653422e-15),\n",
       " (2, 0, 'C', 1, 2): array(-9.94033145e-22),\n",
       " (2, 0, 'C', 1, 3): array(1.36583561e-15),\n",
       " (2, 0, 'C', 2, 0): array(6.746869e-16),\n",
       " (2, 0, 'C', 2, 1): array(7.09935583e-16),\n",
       " (2, 0, 'C', 2, 2): array(9.57231055e-16),\n",
       " (2, 0, 'C', 2, 3): array(-5.17814958e-16),\n",
       " (2, 0, 'C', 3, 0): array(1.19547714e-20),\n",
       " (2, 0, 'C', 3, 1): array(1.41492429e-15),\n",
       " (2, 0, 'C', 3, 2): array(-9.94033121e-22),\n",
       " (2, 0, 'C', 3, 3): array(1.41194995e-15),\n",
       " (2, 0, 'Cd', 0, 0): array(-2.90066455e-16),\n",
       " (2, 0, 'Cd', 0, 1): array(-1.42292217e-20),\n",
       " (2, 0, 'Cd', 0, 2): array(-2.87987524e-16),\n",
       " (2, 0, 'Cd', 0, 3): array(4.35813615e-20),\n",
       " (2, 0, 'Cd', 1, 0): array(1.08203377e-16),\n",
       " (2, 0, 'Cd', 1, 1): array(2.33046537e-15),\n",
       " (2, 0, 'Cd', 1, 2): array(7.09718742e-16),\n",
       " (2, 0, 'Cd', 1, 3): array(2.37803749e-15),\n",
       " (2, 0, 'Cd', 2, 0): array(-5.41958534e-18),\n",
       " (2, 0, 'Cd', 2, 1): array(-1.42292217e-20),\n",
       " (2, 0, 'Cd', 2, 2): array(-3.3406539e-18),\n",
       " (2, 0, 'Cd', 2, 3): array(4.35813615e-20),\n",
       " (2, 0, 'Cd', 3, 0): array(-1.11954716e-15),\n",
       " (2, 0, 'Cd', 3, 1): array(2.33046537e-15),\n",
       " (2, 0, 'Cd', 3, 2): array(-5.18031798e-16),\n",
       " (2, 0, 'Cd', 3, 3): array(2.37803749e-15),\n",
       " (2, 1, 'C', 0, 0): array(1.04320004e-15),\n",
       " (2, 1, 'C', 0, 1): array(-2.57050018e-29),\n",
       " (2, 1, 'C', 0, 2): array(1.04320004e-15),\n",
       " (2, 1, 'C', 0, 3): array(-2.62465733e-30),\n",
       " (2, 1, 'C', 1, 0): array(-2.5910017e-29),\n",
       " (2, 1, 'C', 1, 1): array(2.1703566e-20),\n",
       " (2, 1, 'C', 1, 2): array(-2.56101497e-29),\n",
       " (2, 1, 'C', 1, 3): array(2.1703566e-20),\n",
       " (2, 1, 'C', 2, 0): array(1.04320004e-15),\n",
       " (2, 1, 'C', 2, 1): array(-2.42686432e-29),\n",
       " (2, 1, 'C', 2, 2): array(1.04320004e-15),\n",
       " (2, 1, 'C', 2, 3): array(-1.18829878e-30),\n",
       " (2, 1, 'C', 3, 0): array(-5.09601063e-31),\n",
       " (2, 1, 'C', 3, 1): array(2.1703566e-20),\n",
       " (2, 1, 'C', 3, 2): array(-2.0809673e-31),\n",
       " (2, 1, 'C', 3, 3): array(2.1703566e-20),\n",
       " (2, 1, 'Cd', 0, 0): array(2.1703566e-20),\n",
       " (2, 1, 'Cd', 0, 1): array(2.18438974e-30),\n",
       " (2, 1, 'Cd', 0, 2): array(2.1703566e-20),\n",
       " (2, 1, 'Cd', 0, 3): array(1.57396625e-30),\n",
       " (2, 1, 'Cd', 1, 0): array(2.38815313e-30),\n",
       " (2, 1, 'Cd', 1, 1): array(1.04320004e-15),\n",
       " (2, 1, 'Cd', 1, 2): array(1.51031426e-30),\n",
       " (2, 1, 'Cd', 1, 3): array(1.04320004e-15),\n",
       " (2, 1, 'Cd', 2, 0): array(2.1703566e-20),\n",
       " (2, 1, 'Cd', 2, 1): array(1.67652202e-31),\n",
       " (2, 1, 'Cd', 2, 2): array(2.1703566e-20),\n",
       " (2, 1, 'Cd', 2, 3): array(-4.41134254e-31),\n",
       " (2, 1, 'Cd', 3, 0): array(-5.43112244e-31),\n",
       " (2, 1, 'Cd', 3, 1): array(1.04320004e-15),\n",
       " (2, 1, 'Cd', 3, 2): array(-1.42056593e-30),\n",
       " (2, 1, 'Cd', 3, 3): array(1.04320004e-15),\n",
       " (2, 2, 'C', 0, 0): array(-2.83453533e-16),\n",
       " (2, 2, 'C', 0, 1): array(1.08203377e-16),\n",
       " (2, 2, 'C', 0, 2): array(-9.08951323e-19),\n",
       " (2, 2, 'C', 0, 3): array(-1.11933032e-15),\n",
       " (2, 2, 'C', 1, 0): array(-3.94875065e-21),\n",
       " (2, 2, 'C', 1, 1): array(1.3644e-15),\n",
       " (2, 2, 'C', 1, 2): array(1.6032978e-20),\n",
       " (2, 2, 'C', 1, 3): array(1.35987692e-15),\n",
       " (2, 2, 'C', 2, 0): array(-2.83453533e-16),\n",
       " (2, 2, 'C', 2, 1): array(7.09718742e-16),\n",
       " (2, 2, 'C', 2, 2): array(-9.08951323e-19),\n",
       " (2, 2, 'C', 2, 3): array(-5.17814958e-16),\n",
       " (2, 2, 'C', 3, 0): array(-3.94875065e-21),\n",
       " (2, 2, 'C', 3, 1): array(1.41398209e-15),\n",
       " (2, 2, 'C', 3, 2): array(1.6032978e-20),\n",
       " (2, 2, 'C', 3, 3): array(1.40945901e-15),\n",
       " (2, 2, 'Cd', 0, 0): array(-2.846295e-16),\n",
       " (2, 2, 'Cd', 0, 1): array(-5.88468677e-21),\n",
       " (2, 2, 'Cd', 0, 2): array(-2.89486075e-16),\n",
       " (2, 2, 'Cd', 0, 3): array(-3.31473073e-20),\n",
       " (2, 2, 'Cd', 1, 0): array(1.08203377e-16),\n",
       " (2, 2, 'Cd', 1, 1): array(1.363287e-15),\n",
       " (2, 2, 'Cd', 1, 2): array(7.09935583e-16),\n",
       " (2, 2, 'Cd', 1, 3): array(1.4121151e-15),\n",
       " (2, 2, 'Cd', 2, 0): array(1.73692281e-20),\n",
       " (2, 2, 'Cd', 2, 1): array(-5.88468678e-21),\n",
       " (2, 2, 'Cd', 2, 2): array(-4.83920511e-18),\n",
       " (2, 2, 'Cd', 2, 3): array(-3.31473073e-20),\n",
       " (2, 2, 'Cd', 3, 0): array(-1.11933032e-15),\n",
       " (2, 2, 'Cd', 3, 1): array(1.363287e-15),\n",
       " (2, 2, 'Cd', 3, 2): array(-5.17814958e-16),\n",
       " (2, 2, 'Cd', 3, 3): array(1.4121151e-15),\n",
       " (2, 3, 'C', 0, 0): array(1.04591995e-15),\n",
       " (2, 3, 'C', 0, 1): array(-2.60561951e-29),\n",
       " (2, 3, 'C', 0, 2): array(1.04591995e-15),\n",
       " (2, 3, 'C', 0, 3): array(2.98374697e-31),\n",
       " (2, 3, 'C', 1, 0): array(-2.59761727e-29),\n",
       " (2, 3, 'C', 1, 1): array(-2.20992236e-20),\n",
       " (2, 3, 'C', 1, 2): array(-2.56727425e-29),\n",
       " (2, 3, 'C', 1, 3): array(-2.20992236e-20),\n",
       " (2, 3, 'C', 2, 0): array(1.04591995e-15),\n",
       " (2, 3, 'C', 2, 1): array(-2.61903361e-29),\n",
       " (2, 3, 'C', 2, 2): array(1.04591995e-15),\n",
       " (2, 3, 'C', 2, 3): array(1.6413738e-31),\n",
       " (2, 3, 'C', 3, 0): array(-5.19423306e-31),\n",
       " (2, 3, 'C', 3, 1): array(-2.20992236e-20),\n",
       " (2, 3, 'C', 3, 2): array(-2.15993043e-31),\n",
       " (2, 3, 'C', 3, 3): array(-2.20992236e-20),\n",
       " (2, 3, 'Cd', 0, 0): array(-2.20992236e-20),\n",
       " (2, 3, 'Cd', 0, 1): array(2.19007124e-30),\n",
       " (2, 3, 'Cd', 0, 2): array(-2.20992236e-20),\n",
       " (2, 3, 'Cd', 0, 3): array(1.56838105e-30),\n",
       " (2, 3, 'Cd', 1, 0): array(2.11245626e-30),\n",
       " (2, 3, 'Cd', 1, 1): array(1.04591995e-15),\n",
       " (2, 3, 'Cd', 1, 2): array(-3.42237751e-31),\n",
       " (2, 3, 'Cd', 1, 3): array(1.04591995e-15),\n",
       " (2, 3, 'Cd', 2, 0): array(-2.20992236e-20),\n",
       " (2, 3, 'Cd', 2, 1): array(1.74585549e-31),\n",
       " (2, 3, 'Cd', 2, 2): array(-2.20992236e-20),\n",
       " (2, 3, 'Cd', 2, 3): array(-4.46912044e-31),\n",
       " (2, 3, 'Cd', 3, 0): array(2.38593831e-30),\n",
       " (2, 3, 'Cd', 3, 1): array(1.04591995e-15),\n",
       " (2, 3, 'Cd', 3, 2): array(-6.8755699e-32),\n",
       " (2, 3, 'Cd', 3, 3): array(1.04591995e-15),\n",
       " (3, 0, 'C', 0, 0): array(-5.59693139e-22),\n",
       " (3, 0, 'C', 0, 1): array(3.38029594e-30),\n",
       " (3, 0, 'C', 0, 2): array(-5.59693139e-22),\n",
       " (3, 0, 'C', 0, 3): array(3.65310392e-30),\n",
       " (3, 0, 'C', 1, 0): array(4.09375669e-30),\n",
       " (3, 0, 'C', 1, 1): array(1.6676333e-15),\n",
       " (3, 0, 'C', 1, 2): array(4.21701621e-30),\n",
       " (3, 0, 'C', 1, 3): array(1.6676333e-15),\n",
       " (3, 0, 'C', 2, 0): array(-5.59693137e-22),\n",
       " (3, 0, 'C', 2, 1): array(-4.55145394e-31),\n",
       " (3, 0, 'C', 2, 2): array(-5.59693137e-22),\n",
       " (3, 0, 'C', 2, 3): array(-1.82337417e-31),\n",
       " (3, 0, 'C', 3, 0): array(-3.7085707e-30),\n",
       " (3, 0, 'C', 3, 1): array(1.6676333e-15),\n",
       " (3, 0, 'C', 3, 2): array(-3.58531118e-30),\n",
       " (3, 0, 'C', 3, 3): array(1.6676333e-15),\n",
       " (3, 0, 'Cd', 0, 0): array(1.6676333e-15),\n",
       " (3, 0, 'Cd', 0, 1): array(-4.08173889e-29),\n",
       " (3, 0, 'Cd', 0, 2): array(1.6676333e-15),\n",
       " (3, 0, 'Cd', 0, 3): array(-7.03657764e-30),\n",
       " (3, 0, 'Cd', 1, 0): array(-4.1533257e-29),\n",
       " (3, 0, 'Cd', 1, 1): array(-5.59693132e-22),\n",
       " (3, 0, 'Cd', 1, 2): array(-4.16684573e-29),\n",
       " (3, 0, 'Cd', 1, 3): array(-5.59693132e-22),\n",
       " (3, 0, 'Cd', 2, 0): array(1.6676333e-15),\n",
       " (3, 0, 'Cd', 2, 1): array(-3.69948031e-29),\n",
       " (3, 0, 'Cd', 2, 2): array(1.6676333e-15),\n",
       " (3, 0, 'Cd', 2, 3): array(-3.21399189e-30),\n",
       " (3, 0, 'Cd', 3, 0): array(3.25674754e-31),\n",
       " (3, 0, 'Cd', 3, 1): array(-5.59693132e-22),\n",
       " (3, 0, 'Cd', 3, 2): array(1.9052262e-31),\n",
       " (3, 0, 'Cd', 3, 3): array(-5.59693132e-22),\n",
       " (3, 1, 'C', 0, 0): array(2.85421824e-16),\n",
       " (3, 1, 'C', 0, 1): array(2.68292157e-20),\n",
       " (3, 1, 'C', 0, 2): array(2.91715863e-16),\n",
       " (3, 1, 'C', 0, 3): array(1.25045586e-20),\n",
       " (3, 1, 'C', 1, 0): array(1.08203377e-16),\n",
       " (3, 1, 'C', 1, 1): array(1.49438736e-15),\n",
       " (3, 1, 'C', 1, 2): array(7.09718742e-16),\n",
       " (3, 1, 'C', 1, 3): array(1.54196049e-15),\n",
       " (3, 1, 'C', 2, 0): array(5.70068693e-16),\n",
       " (3, 1, 'C', 2, 1): array(2.68292157e-20),\n",
       " (3, 1, 'C', 2, 2): array(5.76362733e-16),\n",
       " (3, 1, 'C', 2, 3): array(1.25045586e-20),\n",
       " (3, 1, 'C', 3, 0): array(-1.11933032e-15),\n",
       " (3, 1, 'C', 3, 1): array(1.49438736e-15),\n",
       " (3, 1, 'C', 3, 2): array(-5.17814958e-16),\n",
       " (3, 1, 'C', 3, 3): array(1.54196049e-15),\n",
       " (3, 1, 'Cd', 0, 0): array(4.51694859e-16),\n",
       " (3, 1, 'Cd', 0, 1): array(1.08203377e-16),\n",
       " (3, 1, 'Cd', 0, 2): array(7.34239441e-16),\n",
       " (3, 1, 'Cd', 0, 3): array(-1.11933032e-15),\n",
       " (3, 1, 'Cd', 1, 0): array(-1.14457861e-20),\n",
       " (3, 1, 'Cd', 1, 1): array(1.3324323e-15),\n",
       " (3, 1, 'Cd', 1, 2): array(8.53594254e-21),\n",
       " (3, 1, 'Cd', 1, 3): array(1.32790752e-15),\n",
       " (3, 1, 'Cd', 2, 0): array(4.51694859e-16),\n",
       " (3, 1, 'Cd', 2, 1): array(7.09935583e-16),\n",
       " (3, 1, 'Cd', 2, 2): array(7.34239441e-16),\n",
       " (3, 1, 'Cd', 2, 3): array(-5.17814958e-16),\n",
       " (3, 1, 'Cd', 3, 0): array(-1.14457861e-20),\n",
       " (3, 1, 'Cd', 3, 1): array(1.37854495e-15),\n",
       " (3, 1, 'Cd', 3, 2): array(8.53594256e-21),\n",
       " (3, 1, 'Cd', 3, 3): array(1.37402016e-15),\n",
       " (3, 2, 'C', 0, 0): array(-2.20992236e-20),\n",
       " (3, 2, 'C', 0, 1): array(2.11375626e-30),\n",
       " (3, 2, 'C', 0, 2): array(-2.20992236e-20),\n",
       " (3, 2, 'C', 0, 3): array(2.38877906e-30),\n",
       " (3, 2, 'C', 1, 0): array(2.19084161e-30),\n",
       " (3, 2, 'C', 1, 1): array(1.04591995e-15),\n",
       " (3, 2, 'C', 1, 2): array(1.76511479e-31),\n",
       " (3, 2, 'C', 1, 3): array(1.04591995e-15),\n",
       " (3, 2, 'C', 2, 0): array(-2.20992236e-20),\n",
       " (3, 2, 'C', 2, 1): array(-3.41900713e-31),\n",
       " (3, 2, 'C', 2, 2): array(-2.20992236e-20),\n",
       " (3, 2, 'C', 2, 3): array(-6.68779173e-32),\n",
       " (3, 2, 'C', 3, 0): array(1.5670329e-30),\n",
       " (3, 2, 'C', 3, 1): array(1.04591995e-15),\n",
       " (3, 2, 'C', 3, 2): array(-4.47393526e-31),\n",
       " (3, 2, 'C', 3, 3): array(1.04591995e-15),\n",
       " (3, 2, 'Cd', 0, 0): array(1.04591995e-15),\n",
       " (3, 2, 'Cd', 0, 1): array(-2.5976269e-29),\n",
       " (3, 2, 'Cd', 0, 2): array(1.04591995e-15),\n",
       " (3, 2, 'Cd', 0, 3): array(-5.20386271e-31),\n",
       " (3, 2, 'Cd', 1, 0): array(-2.60546062e-29),\n",
       " (3, 2, 'Cd', 1, 1): array(-2.20992236e-20),\n",
       " (3, 2, 'Cd', 1, 2): array(-2.61886991e-29),\n",
       " (3, 2, 'Cd', 1, 3): array(-2.20992236e-20),\n",
       " (3, 2, 'Cd', 2, 0): array(1.04591995e-15),\n",
       " (3, 2, 'Cd', 2, 1): array(-2.56707202e-29),\n",
       " (3, 2, 'Cd', 2, 2): array(1.04591995e-15),\n",
       " (3, 2, 'Cd', 2, 3): array(-2.14837485e-31),\n",
       " (3, 2, 'Cd', 3, 0): array(2.99578403e-31),\n",
       " (3, 2, 'Cd', 3, 1): array(-2.20992236e-20),\n",
       " (3, 2, 'Cd', 3, 2): array(1.6548553e-31),\n",
       " (3, 2, 'Cd', 3, 3): array(-2.20992236e-20),\n",
       " (3, 3, 'C', 0, 0): array(2.88861657e-16),\n",
       " (3, 3, 'C', 0, 1): array(1.77558813e-20),\n",
       " (3, 3, 'C', 0, 2): array(2.91686771e-16),\n",
       " (3, 3, 'C', 0, 3): array(4.26359314e-20),\n",
       " (3, 3, 'C', 1, 0): array(1.08203377e-16),\n",
       " (3, 3, 'C', 1, 1): array(1.32911379e-15),\n",
       " (3, 3, 'C', 1, 2): array(7.09935583e-16),\n",
       " (3, 3, 'C', 1, 3): array(1.37668548e-15),\n",
       " (3, 3, 'C', 2, 0): array(5.73508527e-16),\n",
       " (3, 3, 'C', 2, 1): array(1.77558813e-20),\n",
       " (3, 3, 'C', 2, 2): array(5.76333641e-16),\n",
       " (3, 3, 'C', 2, 3): array(4.26359314e-20),\n",
       " (3, 3, 'C', 3, 0): array(-1.11954716e-15),\n",
       " (3, 3, 'C', 3, 1): array(1.32911379e-15),\n",
       " (3, 3, 'C', 3, 2): array(-5.17598117e-16),\n",
       " (3, 3, 'C', 3, 3): array(1.37668548e-15),\n",
       " (3, 3, 'Cd', 0, 0): array(2.90063132e-16),\n",
       " (3, 3, 'Cd', 0, 1): array(1.08420217e-16),\n",
       " (3, 3, 'Cd', 0, 2): array(5.78077373e-16),\n",
       " (3, 3, 'Cd', 0, 3): array(-1.11933032e-15),\n",
       " (3, 3, 'Cd', 1, 0): array(-3.20020204e-20),\n",
       " (3, 3, 'Cd', 1, 1): array(1.33119426e-15),\n",
       " (3, 3, 'Cd', 1, 2): array(-3.28107923e-21),\n",
       " (3, 3, 'Cd', 1, 3): array(1.3316877e-15),\n",
       " (3, 3, 'Cd', 2, 0): array(2.90063132e-16),\n",
       " (3, 3, 'Cd', 2, 1): array(7.09935583e-16),\n",
       " (3, 3, 'Cd', 2, 2): array(5.78077373e-16),\n",
       " (3, 3, 'Cd', 2, 3): array(-5.17814958e-16),\n",
       " (3, 3, 'Cd', 3, 0): array(-3.20020204e-20),\n",
       " (3, 3, 'Cd', 3, 1): array(1.37730691e-15),\n",
       " (3, 3, 'Cd', 3, 2): array(-3.28107921e-21),\n",
       " (3, 3, 'Cd', 3, 3): array(1.37780204e-15)}"
      ]
     },
     "execution_count": 269,
     "metadata": {},
     "output_type": "execute_result"
    }
   ],
   "source": [
    "exps"
   ]
  },
  {
   "cell_type": "code",
   "execution_count": 262,
   "id": "982dba16-f09f-45c8-bb3b-991fd379a054",
   "metadata": {},
   "outputs": [
    {
     "data": {
      "text/plain": [
       "array(-1.53088319e-29)"
      ]
     },
     "execution_count": 262,
     "metadata": {},
     "output_type": "execute_result"
    }
   ],
   "source": [
    "loaded_data[(False, (1, 0))].expectation_value_multi_sites(\n",
    "    ['map_1_0', 'C', 'map_0_0', 'Cd', 'map_0_1'], 150\n",
    ")"
   ]
  },
  {
   "cell_type": "code",
   "execution_count": null,
   "id": "098985e3-b17d-49b8-9592-cef9fcaa0fc5",
   "metadata": {},
   "outputs": [],
   "source": []
  },
  {
   "cell_type": "code",
   "execution_count": 264,
   "id": "1bce5584-271c-4f00-9f8d-643bb8628414",
   "metadata": {},
   "outputs": [],
   "source": [
    "psi = loaded_data[(False, (1, 0))]"
   ]
  },
  {
   "cell_type": "code",
   "execution_count": 268,
   "id": "b83a5e0d-8f15-4db6-b8bd-1d02d48ea069",
   "metadata": {},
   "outputs": [],
   "source": [
    "exps = dict()\n",
    "\n",
    "keys = product(\n",
    "    range(4),\n",
    "    range(4),\n",
    "    ['C', 'Cd'],\n",
    "    range(4),\n",
    "    range(4)\n",
    ")\n",
    "\n",
    "for k in keys:\n",
    "    ul, dl, tf, ur, dr = k\n",
    "    ops = [f'map_{dl}_{ul}', tf, f'map_{dr}_{ur}']\n",
    "    exp = psi.expectation_value_multi_sites(ops, 150)\n",
    "\n",
    "    exps[k] = exp"
   ]
  },
  {
   "cell_type": "code",
   "execution_count": 271,
   "id": "ce038c4d-a88b-4ac3-9808-032a7a771e65",
   "metadata": {},
   "outputs": [
    {
     "ename": "ValueError",
     "evalue": "Expectation value of operator that needs JW string can't work",
     "output_type": "error",
     "traceback": [
      "\u001b[0;31m---------------------------------------------------------------------------\u001b[0m",
      "\u001b[0;31mValueError\u001b[0m                                Traceback (most recent call last)",
      "Cell \u001b[0;32mIn[271], line 5\u001b[0m\n\u001b[1;32m      1\u001b[0m fermion_parity_exps \u001b[38;5;241m=\u001b[39m \u001b[38;5;28mdict\u001b[39m()\n\u001b[1;32m      3\u001b[0m ferion_parity_ops \u001b[38;5;241m=\u001b[39m [\u001b[38;5;124m'\u001b[39m\u001b[38;5;124mId\u001b[39m\u001b[38;5;124m'\u001b[39m, \u001b[38;5;124m'\u001b[39m\u001b[38;5;124mJW\u001b[39m\u001b[38;5;124m'\u001b[39m]\u001b[38;5;241m*\u001b[39m\u001b[38;5;241m100\u001b[39m\n\u001b[0;32m----> 5\u001b[0m \u001b[43mpsi\u001b[49m\u001b[38;5;241;43m.\u001b[39;49m\u001b[43mexpectation_value\u001b[49m\u001b[43m(\u001b[49m\u001b[43mferion_parity_ops\u001b[49m\u001b[43m)\u001b[49m\n",
      "File \u001b[0;32m~/.pyenv/versions/num_spt_venv_p11/lib/python3.11/site-packages/tenpy/networks/mps.py:309\u001b[0m, in \u001b[0;36mBaseMPSExpectationValue.expectation_value\u001b[0;34m(self, ops, sites, axes)\u001b[0m\n\u001b[1;32m    307\u001b[0m     \u001b[38;5;28;01melse\u001b[39;00m:\n\u001b[1;32m    308\u001b[0m         msg \u001b[38;5;241m=\u001b[39m \u001b[38;5;124m\"\u001b[39m\u001b[38;5;124mExpectation value of operator that needs JW string can\u001b[39m\u001b[38;5;124m'\u001b[39m\u001b[38;5;124mt work\u001b[39m\u001b[38;5;124m\"\u001b[39m\n\u001b[0;32m--> 309\u001b[0m         \u001b[38;5;28;01mraise\u001b[39;00m \u001b[38;5;167;01mValueError\u001b[39;00m(msg)\n\u001b[1;32m    310\u001b[0m C \u001b[38;5;241m=\u001b[39m npc\u001b[38;5;241m.\u001b[39mtensordot(op, theta_ket, axes\u001b[38;5;241m=\u001b[39m[ax_pstar, ax_p])  \u001b[38;5;66;03m# C has same labels as theta\u001b[39;00m\n\u001b[1;32m    311\u001b[0m C \u001b[38;5;241m=\u001b[39m \u001b[38;5;28mself\u001b[39m\u001b[38;5;241m.\u001b[39m_contract_with_LP(C, i)  \u001b[38;5;66;03m# axes_p + (vR*, vR)\u001b[39;00m\n",
      "\u001b[0;31mValueError\u001b[0m: Expectation value of operator that needs JW string can't work"
     ]
    }
   ],
   "source": [
    "fermion_parity_exps = dict()\n",
    "\n",
    "ferion_parity_ops = ['Id', 'JW']*100\n",
    "\n",
    "psi.expectation_value(ferion_parity_ops)"
   ]
  }
 ],
 "metadata": {
  "kernelspec": {
   "display_name": "num_spt_venv_p11",
   "language": "python",
   "name": "num_spt_venv_p11"
  },
  "language_info": {
   "codemirror_mode": {
    "name": "ipython",
    "version": 3
   },
   "file_extension": ".py",
   "mimetype": "text/x-python",
   "name": "python",
   "nbconvert_exporter": "python",
   "pygments_lexer": "ipython3",
   "version": "3.11.9"
  }
 },
 "nbformat": 4,
 "nbformat_minor": 5
}
