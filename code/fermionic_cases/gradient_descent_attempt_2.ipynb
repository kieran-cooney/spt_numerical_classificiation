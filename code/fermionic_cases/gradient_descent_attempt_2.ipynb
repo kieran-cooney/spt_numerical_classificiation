{
 "cells": [
  {
   "cell_type": "markdown",
   "id": "5b626275-a344-4050-b6c1-bc9eeac43ae5",
   "metadata": {},
   "source": [
    "# Gradient descent attempt 2\n",
    "Created 09/05/2024\n",
    "\n",
    "Objectives:\n",
    "* Try different hyperparemeters from attempt 1"
   ]
  },
  {
   "cell_type": "markdown",
   "id": "9ad0db4d-805c-4403-9d48-c71d523d572f",
   "metadata": {},
   "source": [
    "# Package imports"
   ]
  },
  {
   "cell_type": "code",
   "execution_count": 2,
   "id": "ecb41ea3-927f-4efa-aebe-ce15784aa037",
   "metadata": {},
   "outputs": [],
   "source": [
    "import sys"
   ]
  },
  {
   "cell_type": "code",
   "execution_count": 3,
   "id": "0375bd38-12e1-417a-908a-13fb540081f5",
   "metadata": {},
   "outputs": [],
   "source": [
    "sys.path.append(\"../\")"
   ]
  },
  {
   "cell_type": "code",
   "execution_count": 4,
   "id": "24a13885-9dbd-4e5a-abed-9a67af92458e",
   "metadata": {},
   "outputs": [],
   "source": [
    "from functools import reduce\n",
    "from operator import mul\n",
    "\n",
    "from collections import namedtuple\n",
    "\n",
    "import time\n",
    "import pickle"
   ]
  },
  {
   "cell_type": "code",
   "execution_count": 5,
   "id": "4a525ec6-f0c8-47ee-8b0b-345bf0ef8bd3",
   "metadata": {},
   "outputs": [],
   "source": [
    "import h5py\n",
    "from tenpy.tools import hdf5_io\n",
    "import tenpy\n",
    "import tenpy.linalg.np_conserved as npc\n",
    "\n",
    "import os"
   ]
  },
  {
   "cell_type": "code",
   "execution_count": 6,
   "id": "214f688a-c657-4810-b4d1-b1247deff62c",
   "metadata": {},
   "outputs": [],
   "source": [
    "import numpy as np\n",
    "import pandas as pd\n",
    "import scipy\n",
    "\n",
    "rng = np.random.default_rng()\n",
    "import matplotlib.pyplot as plt"
   ]
  },
  {
   "cell_type": "code",
   "execution_count": 7,
   "id": "b7461fe3-41a3-492f-b018-8e32e27a7300",
   "metadata": {},
   "outputs": [],
   "source": [
    "import re"
   ]
  },
  {
   "cell_type": "code",
   "execution_count": 8,
   "id": "aeb48fbe-9ee7-4f88-9a91-b52643b95a4f",
   "metadata": {},
   "outputs": [],
   "source": [
    "from SPTOptimization.utils import (\n",
    "    get_right_identity_environment_from_tp_tensor,\n",
    "    get_left_identity_environment_from_tp_tensor,\n",
    "    to_npc_array,\n",
    "    get_physical_dim\n",
    ")\n",
    "\n",
    "from SPTOptimization.SymmetryActionWithBoundaryUnitaries import SymmetryActionWithBoundaryUnitaries"
   ]
  },
  {
   "cell_type": "markdown",
   "id": "0dd074eb-4e79-4a83-97a0-8f7b14c0d73a",
   "metadata": {},
   "source": [
    "# Load data"
   ]
  },
  {
   "cell_type": "code",
   "execution_count": 9,
   "id": "a073ec4a-1d8d-4786-af9f-11e750b1e3a9",
   "metadata": {},
   "outputs": [],
   "source": [
    "DATA_DIR_1 = r\"../data/interpolated_trivial_to_nontrivial_fermionic_trivial_proj_rep_200_site_dmrg/\"\n",
    "DATA_DIR_2 = r\"../data/interpolated_nontrivial_fermionic_proj_rep_to_nontrivial_proj_rep_200_site_dmrg/\""
   ]
  },
  {
   "cell_type": "code",
   "execution_count": 10,
   "id": "9fd5bc67-e5e4-4b8f-a5e4-f5120506f1ed",
   "metadata": {},
   "outputs": [],
   "source": [
    "def parse_file_name(file_name):\n",
    "    interpolation = int(file_name.split('_')[0])/100\n",
    "\n",
    "    return interpolation"
   ]
  },
  {
   "cell_type": "code",
   "execution_count": 11,
   "id": "cadba15d-69d8-4f4d-9e7e-16735328866b",
   "metadata": {},
   "outputs": [],
   "source": [
    "loaded_data_triv_proj_rep = dict()\n",
    "energies_triv_proj_rep = dict()\n",
    "\n",
    "for local_file_name in list(os.walk(DATA_DIR_1))[0][2]:\n",
    "    f_name = r\"{}/{}\".format(DATA_DIR_1, local_file_name, ignore_unknown=False)\n",
    "    with h5py.File(f_name, 'r') as f:\n",
    "        data = hdf5_io.load_from_hdf5(f)\n",
    "\n",
    "        data_info = parse_file_name(local_file_name)\n",
    "        loaded_data_triv_proj_rep[data_info]=data['wavefunction']\n",
    "        energies_triv_proj_rep[data_info]=data['energy']"
   ]
  },
  {
   "cell_type": "code",
   "execution_count": 12,
   "id": "d694f0e0-4ab2-4eea-8f21-7177abc2de50",
   "metadata": {},
   "outputs": [],
   "source": [
    "loaded_data_non_triv_proj_rep = dict()\n",
    "energies_non_triv_proj_rep = dict()\n",
    "\n",
    "for local_file_name in list(os.walk(DATA_DIR_2))[0][2]:\n",
    "    f_name = r\"{}/{}\".format(DATA_DIR_2, local_file_name, ignore_unknown=False)\n",
    "\n",
    "    with h5py.File(f_name, 'r') as f:\n",
    "        data = hdf5_io.load_from_hdf5(f)\n",
    "\n",
    "        data_info = parse_file_name(local_file_name)\n",
    "        loaded_data_non_triv_proj_rep[data_info]=data['wavefunction']\n",
    "        energies_non_triv_proj_rep[data_info]=data['energy']"
   ]
  },
  {
   "cell_type": "markdown",
   "id": "914eed85-86ca-41c9-9839-a758b596f631",
   "metadata": {},
   "source": [
    "# Definitons"
   ]
  },
  {
   "cell_type": "code",
   "execution_count": 13,
   "id": "63506364-f535-4c0f-8c5f-8839c69f7b9d",
   "metadata": {},
   "outputs": [],
   "source": [
    "MAX_VIRTUAL_BOND_DIM = 30\n",
    "MAX_INTERMEDIATE_VIRTUAL_BOND_DIM = 2*MAX_VIRTUAL_BOND_DIM\n",
    "# MPO bond dim?\n",
    "MAX_MPO_BOND_DIM = 50\n",
    "\n",
    "SVD_CUTOFF = 1e-3"
   ]
  },
  {
   "cell_type": "markdown",
   "id": "7a2700f1-9c35-422c-9f64-c1ebeae21207",
   "metadata": {},
   "source": [
    "Define bosonic symmetries. Label by the group element added."
   ]
  },
  {
   "cell_type": "code",
   "execution_count": 14,
   "id": "513d7288-c641-4071-a4a3-652787d1f98c",
   "metadata": {},
   "outputs": [],
   "source": [
    "np_00 = np.array([\n",
    "    [1, 0, 0, 0],\n",
    "    [0, 1, 0, 0],\n",
    "    [0, 0, 1, 0],\n",
    "    [0, 0, 0, 1]\n",
    "])\n",
    "\n",
    "np_01 = np.array([\n",
    "    [0, 1, 0, 0],\n",
    "    [1, 0, 0, 0],\n",
    "    [0, 0, 0, 1],\n",
    "    [0, 0, 1, 0]\n",
    "])\n",
    "\n",
    "np_10 = np.array([\n",
    "    [0, 0, 1, 0],\n",
    "    [0, 0, 0, 1],\n",
    "    [1, 0, 0, 0],\n",
    "    [0, 1, 0, 0]\n",
    "])\n",
    "\n",
    "np_11 = np.array([\n",
    "    [0, 0, 0, 1],\n",
    "    [0, 0, 1, 0],\n",
    "    [0, 1, 0, 0],\n",
    "    [1, 0, 0, 0]\n",
    "])"
   ]
  },
  {
   "cell_type": "code",
   "execution_count": 15,
   "id": "c83907c6-e86f-48af-a2a1-11b250f47e84",
   "metadata": {},
   "outputs": [],
   "source": [
    "bosonic_np_symmetries = [\n",
    "    np_00,\n",
    "    np_01,\n",
    "    np_10,\n",
    "    np_11\n",
    "]"
   ]
  },
  {
   "cell_type": "code",
   "execution_count": 16,
   "id": "fd7c7309-10ee-4834-b153-9a4121462fca",
   "metadata": {},
   "outputs": [],
   "source": [
    "bosonic_npc_symmetries = [\n",
    "    to_npc_array(X) for X in bosonic_np_symmetries\n",
    "]"
   ]
  },
  {
   "cell_type": "code",
   "execution_count": 17,
   "id": "2a78a62e-37eb-4baf-98ba-d6a94d599bec",
   "metadata": {},
   "outputs": [],
   "source": [
    "npc_00 = to_npc_array(np_00)\n",
    "npc_01 = to_npc_array(np_01)\n",
    "npc_10 = to_npc_array(np_10)\n",
    "npc_11 = to_npc_array(np_11)"
   ]
  },
  {
   "cell_type": "markdown",
   "id": "5c8a3f80-d770-441f-baad-5ab9ac713e51",
   "metadata": {},
   "source": [
    "Define \"fermionic symmetries\". Just identity and JW string."
   ]
  },
  {
   "cell_type": "code",
   "execution_count": 18,
   "id": "a1c64bf0-4b2e-4492-b242-3dae6eb527c3",
   "metadata": {},
   "outputs": [],
   "source": [
    "np_I = np.array([\n",
    "    [1, 0],\n",
    "    [0, 1]\n",
    "])\n",
    "\n",
    "np_JW = np.array([\n",
    "    [1, 0],\n",
    "    [0, -1]\n",
    "])"
   ]
  },
  {
   "cell_type": "code",
   "execution_count": 19,
   "id": "e595ca13-740a-41a3-a658-8831c8f54323",
   "metadata": {},
   "outputs": [],
   "source": [
    "fermionic_np_symmetries = [np_I, np_JW]"
   ]
  },
  {
   "cell_type": "code",
   "execution_count": 20,
   "id": "6e5b6ad0-2496-4072-afe9-c41fc62da40e",
   "metadata": {},
   "outputs": [],
   "source": [
    "fermionic_npc_symmetries = [\n",
    "    to_npc_array(X) for X in fermionic_np_symmetries\n",
    "]"
   ]
  },
  {
   "cell_type": "code",
   "execution_count": 21,
   "id": "a2b43b48-e438-4702-8287-f5d27fc47f7b",
   "metadata": {},
   "outputs": [],
   "source": [
    "npc_JW = fermionic_npc_symmetries[1]"
   ]
  },
  {
   "cell_type": "code",
   "execution_count": 22,
   "id": "b9e2f954-c591-4479-ba37-32862c25c660",
   "metadata": {},
   "outputs": [],
   "source": [
    "symmetry_actions = [\n",
    "    [[b, f] for b in bosonic_np_symmetries]\n",
    "    for f in fermionic_np_symmetries\n",
    "]"
   ]
  },
  {
   "cell_type": "code",
   "execution_count": 23,
   "id": "8c945b86-cec1-4b08-930f-1922b7e1bea6",
   "metadata": {},
   "outputs": [],
   "source": [
    "shifted_symmetry_actions = [\n",
    "    [[f, b] for b in bosonic_np_symmetries]\n",
    "    for f in fermionic_np_symmetries\n",
    "]"
   ]
  },
  {
   "cell_type": "code",
   "execution_count": 24,
   "id": "ac19b501-4293-4d08-8bb0-35515cd6a093",
   "metadata": {},
   "outputs": [],
   "source": [
    "cases_triv_proj_rep = dict()\n",
    "\n",
    "for k, psi in loaded_data_triv_proj_rep.items():\n",
    "\n",
    "    for i, l in enumerate(symmetry_actions):\n",
    "\n",
    "        for j, s in enumerate(l):\n",
    "            case = SymmetryActionWithBoundaryUnitaries(\n",
    "                psi,\n",
    "                s*40,\n",
    "                left_symmetry_index=60,\n",
    "                left_boundary_unitaries=[np_I, np_00]*1,\n",
    "                right_boundary_unitaries=[np_00, np_I]*1\n",
    "            )\n",
    "\n",
    "            cases_triv_proj_rep[(k, i, j)] = case"
   ]
  },
  {
   "cell_type": "code",
   "execution_count": 25,
   "id": "8e7ff810-32b3-4163-9b1b-ca96a282a7f5",
   "metadata": {},
   "outputs": [],
   "source": [
    "for c in cases_triv_proj_rep.values():\n",
    "    c.compute_svd_approximate_expectation()"
   ]
  },
  {
   "cell_type": "code",
   "execution_count": 26,
   "id": "d5a75573-aebb-4b9c-904f-342f9f57c345",
   "metadata": {},
   "outputs": [],
   "source": [
    "cases_non_triv_proj_rep = dict()\n",
    "\n",
    "for k, psi in loaded_data_non_triv_proj_rep.items():\n",
    "\n",
    "    for i, l in enumerate(symmetry_actions):\n",
    "\n",
    "        for j, s in enumerate(l):\n",
    "            case = SymmetryActionWithBoundaryUnitaries(\n",
    "                psi,\n",
    "                s*40,\n",
    "                left_symmetry_index=60,\n",
    "                left_boundary_unitaries=[np_I, np_00]*1,\n",
    "                right_boundary_unitaries=[np_00, np_I]*1\n",
    "            )\n",
    "\n",
    "            cases_non_triv_proj_rep[(k, i, j)] = case"
   ]
  },
  {
   "cell_type": "code",
   "execution_count": 27,
   "id": "8d8df7a6-3e0c-4e4f-bc02-97d989f2c6e1",
   "metadata": {},
   "outputs": [],
   "source": [
    "for c in cases_non_triv_proj_rep.values():\n",
    "    c.compute_svd_approximate_expectation()"
   ]
  },
  {
   "cell_type": "code",
   "execution_count": 28,
   "id": "6bac53fa-b629-46fc-a145-f932a0af6f18",
   "metadata": {},
   "outputs": [],
   "source": [
    "left_trivial_leg_charge = tenpy.linalg.charges.LegCharge(\n",
    "    tenpy.linalg.charges.ChargeInfo([], []),\n",
    "    [0,1],\n",
    "    [[]],\n",
    "    qconj=1\n",
    ")"
   ]
  },
  {
   "cell_type": "code",
   "execution_count": 29,
   "id": "44f34cb7-0888-474b-9483-f4956951fc31",
   "metadata": {},
   "outputs": [],
   "source": [
    "right_trivial_leg_charge = tenpy.linalg.charges.LegCharge(\n",
    "    tenpy.linalg.charges.ChargeInfo([], []),\n",
    "    [0,1],\n",
    "    [[]],\n",
    "    qconj=-1\n",
    ")"
   ]
  },
  {
   "cell_type": "markdown",
   "id": "5ee06cdc-8577-460b-82cb-2110e47c931a",
   "metadata": {},
   "source": [
    "## Functions"
   ]
  },
  {
   "cell_type": "code",
   "execution_count": 30,
   "id": "f7500fa8-a1c6-45bf-949b-53a7526a5be9",
   "metadata": {},
   "outputs": [],
   "source": [
    "def get_physical_dim(tensor, p_label='p'):\n",
    "    index = tensor.get_leg_index(p_label)\n",
    "    dim = tensor.shape[index]\n",
    "    return dim"
   ]
  },
  {
   "cell_type": "code",
   "execution_count": 31,
   "id": "ba98ff84-8c5c-4f71-aa88-abbe2b839bff",
   "metadata": {},
   "outputs": [],
   "source": [
    "def mpo_frobenius_inner_product(mpo1_tensors, mpo2_tensors=None):\n",
    "    if mpo2_tensors is None:\n",
    "        mpo2_tensors = mpo1_tensors\n",
    "\n",
    "    w1 = mpo1_tensors[0]\n",
    "    dim = get_physical_dim(w1, p_label='p')\n",
    "    w2 = mpo2_tensors[0]\n",
    "\n",
    "    t = npc.tensordot(w1, w2.conj(), [['p', 'p*'], ['p*', 'p']])\n",
    "    #t /= dim\n",
    "\n",
    "    for w1, w2 in zip(mpo1_tensors[1:], mpo2_tensors[1:]):\n",
    "        dim = get_physical_dim(w1, p_label='p')\n",
    "\n",
    "        t = npc.tensordot(t, w1, [['vR', ], ['vL']])\n",
    "        t = npc.tensordot(t, w2.conj(), [['vR*', 'p', 'p*'], ['vL*', 'p*', 'p']])\n",
    "        #t /= dim\n",
    "\n",
    "    return t"
   ]
  },
  {
   "cell_type": "code",
   "execution_count": 32,
   "id": "2e202c02-6390-49eb-9b99-32147572b6fa",
   "metadata": {},
   "outputs": [],
   "source": [
    "def unitary_order_two_right_tensors(w_tensors):\n",
    "    out = list()\n",
    "\n",
    "    w = w_tensors[-1]\n",
    "    t = npc.tensordot(w, w.conj(), [['p', 'p*'], ['p*', 'p']])\n",
    "\n",
    "    out.append(t)\n",
    "\n",
    "    for w in w_tensors[-2:0:-1]:\n",
    "        t = npc.tensordot(t, w, [['vL',], ['vR']])\n",
    "        t = npc.tensordot(t, w.conj(), [['vL*', 'p', 'p*'], ['vR*', 'p*', 'p']])\n",
    "\n",
    "        out.append(t)\n",
    "\n",
    "    return out[::-1]"
   ]
  },
  {
   "cell_type": "code",
   "execution_count": 33,
   "id": "e12a7b85-584a-4b5c-8c12-039cc8752ca8",
   "metadata": {},
   "outputs": [],
   "source": [
    "def unitary_order_four_right_tensors(w_tensors):\n",
    "    out = list()\n",
    "\n",
    "    w = w_tensors[-1]\n",
    "    t = npc.tensordot(w, w.conj(), [['p',], ['p*',]])\n",
    "    t.ireplace_labels(['vL', 'vL*'], ['vL1', 'vL1*'])\n",
    "    t = npc.tensordot(t, w, [['p',], ['p*',]])\n",
    "    t = npc.tensordot(t, w.conj(), [['p', 'p*'], ['p*', 'p']])\n",
    "    \n",
    "    out.append(t)\n",
    "\n",
    "    for w in w_tensors[-2:0:-1]:\n",
    "        t = npc.tensordot(t, w, [['vL',], ['vR',]])\n",
    "        t = npc.tensordot(t, w.conj(), [['vL*', 'p'], ['vR*', 'p*']])\n",
    "\n",
    "        w = w.replace_label('vL', 'vL1')\n",
    "    \n",
    "        t = npc.tensordot(t, w, [['vL1', 'p',], ['vR', 'p*']])\n",
    "        t = npc.tensordot(t, w.conj(), [['vL1*', 'p', 'p*'], ['vR*', 'p*', 'p']])\n",
    "\n",
    "        out.append(t)\n",
    "\n",
    "    return out[::-1]"
   ]
  },
  {
   "cell_type": "code",
   "execution_count": 34,
   "id": "d16af878-4506-4fd0-8e37-92a6d7e1360d",
   "metadata": {},
   "outputs": [],
   "source": [
    "def overlap_right_tensors(w_tensors, b_tensors):\n",
    "    out = list()\n",
    "\n",
    "    t = get_right_identity_environment_from_tp_tensor(b_tensors[-1])\n",
    "\n",
    "    out.append(t)\n",
    "\n",
    "    # First site\n",
    "    b = b_tensors[-1]\n",
    "    w = w_tensors[-1]\n",
    "    \n",
    "    t = npc.tensordot(t, b, [['vL',], ['vR',]])\n",
    "    t = npc.tensordot(\n",
    "        t,\n",
    "        w.replace_label('vL', 'vLm'),\n",
    "        [['p',], ['p*',]]\n",
    "    )\n",
    "    t = npc.tensordot(t, b.conj(), [['p', 'vL*',], ['p*', 'vR*',]])\n",
    "\n",
    "    out.append(t)\n",
    "\n",
    "    # Inner sites\n",
    "    for w, b in zip(w_tensors[-2:0:-1], b_tensors[-2:0:-1]):\n",
    "        t = npc.tensordot(t, b, [['vL',], ['vR',]])\n",
    "        t = npc.tensordot(\n",
    "            t,\n",
    "            w.replace_label('vL', 'vLm'),\n",
    "            [['p', 'vLm'], ['p*', 'vR']]\n",
    "        )\n",
    "        t = npc.tensordot(t, b.conj(), [['p', 'vL*',], ['p*', 'vR*',]])\n",
    "    \n",
    "        out.append(t)\n",
    "\n",
    "    # Last site\n",
    "    b = b_tensors[0]\n",
    "    w = w_tensors[0]\n",
    "\n",
    "    t = npc.tensordot(t, b, [['vL',], ['vR',]])\n",
    "    t = npc.tensordot(\n",
    "        t,\n",
    "        w,\n",
    "        [['p', 'vLm'], ['p*', 'vR']]\n",
    "    )\n",
    "    t = npc.tensordot(t, b.conj(), [['p', 'vL*',], ['p*', 'vR*',]])\n",
    "\n",
    "    out.append(t)\n",
    "\n",
    "    return out[::-1]"
   ]
  },
  {
   "cell_type": "markdown",
   "id": "3b1fda53-6670-4188-b86e-d2809f353b43",
   "metadata": {},
   "source": [
    "### Initialize tensors"
   ]
  },
  {
   "cell_type": "code",
   "execution_count": 35,
   "id": "6663e659-fb23-426d-afc6-70a00d2984d3",
   "metadata": {},
   "outputs": [],
   "source": [
    "def rescale_mpo_tensors(mpo_tensors, new_norm):\n",
    "    num_sites = len(mpo_tensors)\n",
    "\n",
    "    old_norm = mpo_frobenius_inner_product(mpo_tensors).real\n",
    "    \n",
    "    scale_factor = np.power(\n",
    "        new_norm/old_norm,\n",
    "        1/(2*num_sites)\n",
    "    )\n",
    "\n",
    "    for i in range(num_sites):\n",
    "        mpo_tensors[i] = scale_factor*mpo_tensors[i]"
   ]
  },
  {
   "cell_type": "code",
   "execution_count": 36,
   "id": "4c09d507-0f5d-486e-bb5e-22f8d35a9fc3",
   "metadata": {},
   "outputs": [],
   "source": [
    "def generate_random_w_tensor(physical_dim, left_virtual_dim=None,\n",
    "                             right_virtual_dim=None):\n",
    "\n",
    "    if (left_virtual_dim is None) and (right_virtual_dim is None):\n",
    "        dims = (physical_dim, physical_dim)\n",
    "    elif (left_virtual_dim is None):\n",
    "        dims = (physical_dim, physical_dim, right_virtual_dim)\n",
    "    elif (right_virtual_dim is None):\n",
    "        dims = (physical_dim, physical_dim, left_virtual_dim)\n",
    "    else: \n",
    "        dims = (\n",
    "            physical_dim,\n",
    "            physical_dim,\n",
    "            left_virtual_dim,\n",
    "            right_virtual_dim\n",
    "        )\n",
    "    \n",
    "    X1 = rng.normal(size=dims)\n",
    "    X2 = 1j*rng.normal(size=dims)\n",
    "    X = X1 + X2\n",
    "\n",
    "        \n",
    "    if (left_virtual_dim is None) and (right_virtual_dim is None):\n",
    "        out = npc.Array.from_ndarray_trivial(X, labels=['p', 'p*'])\n",
    "    elif right_virtual_dim is None:\n",
    "        out = npc.Array.from_ndarray_trivial(X, labels=['p', 'p*', 'vL'])\n",
    "    elif left_virtual_dim is None:\n",
    "        out = npc.Array.from_ndarray_trivial(X, labels=['p', 'p*', 'vR'])\n",
    "    else:\n",
    "        out = npc.Array.from_ndarray_trivial(\n",
    "            X,\n",
    "            labels=['p', 'p*', 'vL', 'vR']\n",
    "        )\n",
    "\n",
    "    return out"
   ]
  },
  {
   "cell_type": "code",
   "execution_count": 37,
   "id": "e779de84-d12b-4de3-b9d8-004bdf6e47bd",
   "metadata": {},
   "outputs": [],
   "source": [
    "def get_random_mpo_tensors(num_sites, norm=None):\n",
    "    \"\"\"\n",
    "    Needs more arguments\n",
    "    \"\"\"\n",
    "\n",
    "    w = generate_random_w_tensor(edge_dims)\n",
    "    w_tensor = npc.Array.from_ndarray_trivial(\n",
    "        w,\n",
    "        labels=['p', 'p*', 'vR']\n",
    "    )\n",
    "\n",
    "    w_tensors = [w_tensor,]\n",
    "\n",
    "    for _ in range(num_sites-2):\n",
    "        w = generate_random_w_tensor(inner_dims)\n",
    "        w_tensor = npc.Array.from_ndarray_trivial(w, labels=['p', 'p*', 'vL', 'vR'])\n",
    "        \n",
    "        w_tensors.append(w_tensor)\n",
    "\n",
    "    w = generate_random_w_tensor(edge_dims)\n",
    "    w_tensor = npc.Array.from_ndarray_trivial(\n",
    "        w,\n",
    "        labels=['p', 'p*', 'vL']\n",
    "    )\n",
    "    w_tensors.append(w_tensor)\n",
    "\n",
    "    if norm is not None:\n",
    "        rescale_mpo_tensors(w_tensors, norm)\n",
    "\n",
    "    return w_tensors"
   ]
  },
  {
   "cell_type": "code",
   "execution_count": 38,
   "id": "3ffba566-177e-46a4-bb02-953f6a6c8250",
   "metadata": {},
   "outputs": [],
   "source": [
    "def get_identity_w_tensor(physical_dim, left_virtual_dim=None, right_virtual_dim=None):\n",
    "    diagonal = np.ones(physical_dim, dtype='complex')\n",
    "    identity_matrix = np.diag(diagonal)\n",
    "    \n",
    "    if (left_virtual_dim is None) and (right_virtual_dim is None):\n",
    "        w_tensor = npc.Array.from_ndarray_trivial(\n",
    "            identity_matrix,\n",
    "            labels=['p', 'p*']\n",
    "        )\n",
    "    elif right_virtual_dim is None:\n",
    "        X = np.zeros(\n",
    "            (physical_dim, physical_dim, left_virtual_dim),\n",
    "            dtype='complex'\n",
    "        )\n",
    "        X[...,0] = identity_matrix\n",
    "        w_tensor = npc.Array.from_ndarray_trivial(\n",
    "            X,\n",
    "            labels=['p', 'p*', 'vL']\n",
    "        )\n",
    "    elif left_virtual_dim is None:\n",
    "        X = np.zeros(\n",
    "            (physical_dim, physical_dim, right_virtual_dim),\n",
    "            dtype='complex'\n",
    "        )\n",
    "        X[...,0] = identity_matrix\n",
    "        w_tensor = npc.Array.from_ndarray_trivial(\n",
    "            X,\n",
    "            labels=['p', 'p*', 'vR']\n",
    "        )\n",
    "    else:\n",
    "        X = np.zeros(\n",
    "            (physical_dim, physical_dim, left_virtual_dim, right_virtual_dim),\n",
    "            dtype='complex'\n",
    "        )\n",
    "        X[...,0,0] = identity_matrix\n",
    "        w_tensor = npc.Array.from_ndarray_trivial(\n",
    "            X,\n",
    "            labels=['p', 'p*', 'vL', 'vR']\n",
    "        )\n",
    "\n",
    "    return w_tensor"
   ]
  },
  {
   "cell_type": "code",
   "execution_count": 39,
   "id": "0e11bd70-f8d2-4254-870c-75620f9da400",
   "metadata": {},
   "outputs": [],
   "source": [
    "def get_random_mpo_tensors(physical_dims, virtual_dims):\n",
    "    \"\"\"\n",
    "    Could fold in with get_identity_mpo_tensors\n",
    "    \"\"\"\n",
    "\n",
    "    w_tensors = [\n",
    "        generate_random_w_tensor(p_dim, *v_dims)\n",
    "        for p_dim, v_dims in zip(physical_dims, virtual_dims)\n",
    "    ]\n",
    "\n",
    "    return w_tensors"
   ]
  },
  {
   "cell_type": "code",
   "execution_count": 40,
   "id": "416a67d2-bf88-4655-8ffb-c7d7e0afff98",
   "metadata": {},
   "outputs": [],
   "source": [
    "def get_identity_mpo_tensors(physical_dims, virtual_dims):\n",
    "    \"\"\"\n",
    "    Needs more comments, docs!\n",
    "\n",
    "    Often physical dims, virtual dims will be the same, so could add\n",
    "    optional behaviour...\n",
    "    \"\"\"\n",
    "\n",
    "    w_tensors = [\n",
    "        get_identity_w_tensor(p_dim, *v_dims)\n",
    "        for p_dim, v_dims in zip(physical_dims, virtual_dims)\n",
    "    ]\n",
    "\n",
    "    return w_tensors"
   ]
  },
  {
   "cell_type": "markdown",
   "id": "e57bf0ac-6b4d-4988-98e7-fe319d6166c1",
   "metadata": {},
   "source": [
    "### ADAM functions"
   ]
  },
  {
   "cell_type": "code",
   "execution_count": 41,
   "id": "7ebe448b-1c37-4bb0-ba43-72ee28829714",
   "metadata": {},
   "outputs": [],
   "source": [
    "def squared_components(X):\n",
    "    r, i = (X.real, X.imag)\n",
    "    return r**2 + 1j*(i**2)"
   ]
  },
  {
   "cell_type": "code",
   "execution_count": 42,
   "id": "31b74760-623b-4dd4-a319-24e51b4f08f9",
   "metadata": {},
   "outputs": [],
   "source": [
    "def square_root_components(X):\n",
    "    r, i = (X.real, X.imag)\n",
    "    return np.sqrt(r) + 1j*np.sqrt(i)"
   ]
  },
  {
   "cell_type": "code",
   "execution_count": 43,
   "id": "91bff15c-8ecf-44a9-995f-b7f4b8f0615c",
   "metadata": {},
   "outputs": [],
   "source": [
    "class AdamTenpy:\n",
    "    def __init__(self, alpha=0.001, beta_1=0.9, beta_2=0.999, epsilon=1e-8):\n",
    "        self.alpha = alpha\n",
    "        self.beta_1 = beta_1\n",
    "        self.beta_2 = beta_2\n",
    "        self.epsilon = epsilon\n",
    "\n",
    "        self.moment_1 = None\n",
    "        self.moment_2 = None\n",
    "\n",
    "    def update(self, grad):\n",
    "        if self.moment_1 is None:\n",
    "            self.moment_1 = (1-self.beta_1)*grad\n",
    "        else:\n",
    "            self.moment_1 = self.beta_1*self.moment_1 + (1-self.beta_1)*grad\n",
    "\n",
    "        grad_squared = grad.unary_blockwise(squared_components)\n",
    "        if self.moment_2 is None:\n",
    "            self.moment_2 = (1-self.beta_2)*grad_squared\n",
    "        else:\n",
    "            self.moment_2 = self.beta_2*self.moment_2 + (1-self.beta_2)*grad_squared\n",
    "\n",
    "        self.moment_1 /= (1-self.beta_1)\n",
    "        self.moment_2 /= (1-self.beta_2)\n",
    "\n",
    "        out_grad_denom = (\n",
    "            self.moment_2\n",
    "            .unary_blockwise(square_root_components)\n",
    "            .unary_blockwise(lambda x: x + (1+1j)*self.epsilon)\n",
    "        )\n",
    "\n",
    "        out_grad = (\n",
    "            self.moment_1\n",
    "            .binary_blockwise(np.divide, out_grad_denom)\n",
    "        )\n",
    "\n",
    "        return self.alpha*out_grad"
   ]
  },
  {
   "cell_type": "markdown",
   "id": "c2919303-4883-4327-9b56-743be48ebb53",
   "metadata": {},
   "source": [
    "### Sweep function"
   ]
  },
  {
   "cell_type": "code",
   "execution_count": 44,
   "id": "94c08580-6ab0-4501-8e41-1517ea118eb5",
   "metadata": {},
   "outputs": [],
   "source": [
    "def mpo_tensor_raw_to_gradient(raw_mpo_tensor, gradient_target_tensor):\n",
    "    \"\"\"\n",
    "    Update raw_mpo_tensor calculated to be the gradient by changing leg names\n",
    "    as neeeded so can be easily and consistently added to\n",
    "    gradient_target_tensor.\n",
    "    \"\"\"\n",
    "    leg_labels = raw_mpo_tensor.get_leg_labels()\n",
    "\n",
    "    # First update the virtual legs\n",
    "    old_new_leg_label_pairs = [\n",
    "        ('vL*', 'vR'),\n",
    "        ('vR*', 'vL'),\n",
    "        ('vL1*', 'vR'),\n",
    "        ('vR1*', 'vL'),\n",
    "        ('vLm', 'vR'),\n",
    "        ('vRm', 'vL'),\n",
    "    ]\n",
    "\n",
    "    for old, new in old_new_leg_label_pairs:\n",
    "        if old in leg_labels:\n",
    "            raw_mpo_tensor.ireplace_label(old, new)\n",
    "\n",
    "    # Then create new array to get the physical legs correct.\n",
    "    # Is this consistent? Should set order of leg labels on raw_mpo_tensor\n",
    "    # before casting to array?\n",
    "    out = npc.Array.from_ndarray_trivial(\n",
    "        raw_mpo_tensor.to_ndarray(),\n",
    "        labels=raw_mpo_tensor.get_leg_labels()\n",
    "    )\n",
    "\n",
    "    out.itranspose(gradient_target_tensor.get_leg_labels())\n",
    "\n",
    "    return out"
   ]
  },
  {
   "cell_type": "code",
   "execution_count": 45,
   "id": "aa8f1c2b-a2fe-4851-b802-2418f619ce7e",
   "metadata": {},
   "outputs": [],
   "source": [
    "def update_mpo_score(raw_gradient_mpo_tensor, gradient_target_tensor,\n",
    "                     virtual_legs=[['vL*', 'vR*',], ['vR*', 'vL*',]],\n",
    "                     take_abs=False\n",
    "                    ):\n",
    "    # Calculate \"score\" (just the contraction of the two relevant tensors)\n",
    "    raw_legs, target_legs = virtual_legs\n",
    "\n",
    "    score = npc.tensordot(\n",
    "        raw_gradient_mpo_tensor,\n",
    "        gradient_target_tensor.conj(),\n",
    "        [['p', 'p*', *raw_legs], ['p*', 'p', *target_legs]]\n",
    "    )\n",
    "\n",
    "    if take_abs:\n",
    "        real_score = np.abs(score)\n",
    "    else:\n",
    "        real_score = score.real\n",
    "\n",
    "    return score"
   ]
  },
  {
   "cell_type": "code",
   "execution_count": 46,
   "id": "a35f4a5f-aa5f-49e7-a87b-c271d442025f",
   "metadata": {},
   "outputs": [],
   "source": [
    "def mpo_gradient_descent_sweep(mpo_tensors, b_tensors, total_dimension,\n",
    "    right_overlap_tensors, unitarity_learning_rate, overlap_learning_rate,\n",
    "    overlap_target, left_environment, adam_optimizers):\n",
    "    \"\"\"\n",
    "    Really need to tidy this function up...\n",
    "\n",
    "    Also get matrix_dim directly from tensors.\n",
    "    \"\"\"\n",
    "    # Initialise list of gradients to be filled\n",
    "    grads = list()\n",
    "\n",
    "    # Initialise variables\n",
    "    right_unitary_two_tensors = unitary_order_two_right_tensors(mpo_tensors)\n",
    "    right_unitary_four_tensors = unitary_order_four_right_tensors(mpo_tensors)\n",
    "    \n",
    "    left_unitary_two_tensors = list()\n",
    "    left_unitary_four_tensors = list()\n",
    "    left_overlap_tensors = list()\n",
    "\n",
    "    num_sites = len(mpo_tensors)\n",
    "    assert len(mpo_tensors) == len(b_tensors)\n",
    "\n",
    "    # Leftmost site\n",
    "    w = mpo_tensors[0]\n",
    "    b = b_tensors[0]\n",
    "\n",
    "    t = right_unitary_two_tensors[0]\n",
    "\n",
    "    # Second order terms\n",
    "    grad_2 = npc.tensordot(t, w, [['vL'], ['vR',]])\n",
    "\n",
    "    order_2_score = update_mpo_score(\n",
    "        grad_2,\n",
    "        w,\n",
    "        [['vL*',], ['vR*',]]\n",
    "    )\n",
    "\n",
    "    grad_2 = mpo_tensor_raw_to_gradient(grad_2, w)\n",
    "\n",
    "    # Fourth order terms\n",
    "    t = right_unitary_four_tensors[0]\n",
    "\n",
    "    grad_4 = npc.tensordot(t, w, [['vL'], ['vR',]])\n",
    "    grad_4 = npc.tensordot(grad_4, w.conj(), [['vL*', 'p'], ['vR*', 'p*']])\n",
    "    grad_4 = npc.tensordot(grad_4, w, [['vL1', 'p'], ['vR', 'p*']])\n",
    "\n",
    "    order_4_score = update_mpo_score(\n",
    "        grad_4,\n",
    "        w,\n",
    "        [['vL1*',], ['vR*',]]\n",
    "    )\n",
    "\n",
    "    grad_4 = mpo_tensor_raw_to_gradient(grad_4, w)\n",
    "\n",
    "    unitary_score = order_4_score - 2*order_2_score + total_dimension\n",
    "    unitary_grad = (grad_4 - grad_2)/np.sqrt(1+unitary_score)\n",
    "    \n",
    "    # Overlap terms\n",
    "    t = right_overlap_tensors[0].conj().replace_label('vLm*', 'vLm')\n",
    "\n",
    "    grad_o = npc.tensordot(t, b, [['vL'], ['vR',]])\n",
    "    grad_o = npc.tensordot(grad_o, b.conj(), [['vL*',], ['vR*',]])\n",
    "    grad_o = npc.tensordot(grad_o, left_environment, [['vL', 'vL*'], ['vR', 'vR*']])\n",
    "\n",
    "    c_conj = update_mpo_score(\n",
    "        grad_o,\n",
    "        w,\n",
    "        [['vLm',], ['vR*',]],\n",
    "        take_abs=True\n",
    "    )\n",
    "    c = c_conj.conjugate()\n",
    "    c_abs = np.abs(c)\n",
    "    \n",
    "    grad_o_scale = c*(1 - overlap_target/c_abs)\n",
    "    grad_o = grad_o_scale*grad_o\n",
    "    grad_o = mpo_tensor_raw_to_gradient(grad_o, w)\n",
    "\n",
    "    grad = (\n",
    "        unitarity_learning_rate*unitary_grad +\n",
    "        overlap_learning_rate*grad_o\n",
    "    )\n",
    "    adam_grad = adam_optimizers[0].update(grad)\n",
    "    grads.append(adam_grad)\n",
    "\n",
    "    # Create and save left tensors\n",
    "    t = npc.tensordot(w, w.conj(), [['p', 'p*'], ['p*', 'p']])\n",
    "    left_unitary_two_tensors.append(t)\n",
    "    \n",
    "    t = npc.tensordot(w, w.conj(), [['p',], ['p*',]])\n",
    "    t.ireplace_labels(['vR', 'vR*'], ['vR1', 'vR1*'])\n",
    "    t = npc.tensordot(t, w, [['p',], ['p*',]])\n",
    "    t = npc.tensordot(t, w.conj(), [['p', 'p*'], ['p*', 'p']])\n",
    "    \n",
    "    left_unitary_four_tensors.append(t)\n",
    "\n",
    "    t = npc.tensordot(b, w.conj(), [['p',], ['p*',]])\n",
    "    #print(t)\n",
    "    t.ireplace_label('vR*', 'vRm')\n",
    "    #print(t)\n",
    "    t = npc.tensordot(t, left_environment, [['vL',], ['vR',]])\n",
    "    #print(t)\n",
    "    t = npc.tensordot(t, b.conj(), [['vR*', 'p'], ['vL*', 'p*']])\n",
    "\n",
    "    #print(t)\n",
    "\n",
    "    left_overlap_tensors.append(t)\n",
    "\n",
    "    # Inner sites\n",
    "    for i in range(1, num_sites-1):\n",
    "        w = mpo_tensors[i]\n",
    "        b = b_tensors[i]\n",
    "    \n",
    "        right_two_tensor = right_unitary_two_tensors[i]\n",
    "        right_four_tensor = right_unitary_four_tensors[i]\n",
    "        right_overlap_tensor = right_overlap_tensors[i].conj().replace_label('vLm*', 'vLm')\n",
    "\n",
    "        # Order two terms\n",
    "        left_two_tensor = left_unitary_two_tensors[-1]\n",
    "\n",
    "        grad_2 = npc.tensordot(right_two_tensor, w, [['vL'], ['vR',]])\n",
    "        grad_2 = npc.tensordot(grad_2, left_two_tensor, [['vL'], ['vR',]])\n",
    "\n",
    "        grad_2 = mpo_tensor_raw_to_gradient(grad_2, w)\n",
    "\n",
    "        # Order four terms\n",
    "        left_four_tensor = left_unitary_four_tensors[-1]\n",
    "\n",
    "        grad_4 = npc.tensordot(right_four_tensor, w, [['vL'], ['vR',]])\n",
    "        grad_4 = npc.tensordot(grad_4, w.conj(), [['vL*', 'p'], ['vR*', 'p*']])\n",
    "\n",
    "        grad_4 = npc.tensordot(\n",
    "            grad_4,\n",
    "            w.replace_label('vL', 'vL1'),\n",
    "            [['vL1', 'p'], ['vR', 'p*']]\n",
    "        )\n",
    "\n",
    "        grad_4 = npc.tensordot(\n",
    "            grad_4,\n",
    "            left_four_tensor,\n",
    "            [['vL', 'vL*', 'vL1'], ['vR', 'vR*', 'vR1']]\n",
    "        )\n",
    "\n",
    "        grad_4 = mpo_tensor_raw_to_gradient(grad_4, w)\n",
    "\n",
    "        unitary_grad = (grad_4 - grad_2)/np.sqrt(1+unitary_score)\n",
    "    \n",
    "        # Overlap terms\n",
    "        left_overlap_tensor = left_overlap_tensors[-1]\n",
    "\n",
    "        grad_o = npc.tensordot(right_overlap_tensor, b, [['vL',], ['vR',]])\n",
    "        grad_o = npc.tensordot(grad_o, b.conj(), [['vL*',], ['vR*',]])\n",
    "        grad_o = npc.tensordot(\n",
    "            grad_o,\n",
    "            left_overlap_tensor,\n",
    "            [['vL*', 'vL'], ['vR', 'vR*',]]\n",
    "        )\n",
    "\n",
    "        grad_o = grad_o_scale*grad_o\n",
    "        grad_o = mpo_tensor_raw_to_gradient(grad_o, w)\n",
    "\n",
    "        grad = (\n",
    "            unitarity_learning_rate*unitary_grad +\n",
    "            overlap_learning_rate*grad_o\n",
    "        )\n",
    "        adam_grad = adam_optimizers[i].update(grad)\n",
    "        grads.append(adam_grad)\n",
    "\n",
    "        # Update left tensors\n",
    "        t = npc.tensordot(left_two_tensor, w, [['vR',], ['vL']])\n",
    "        t = npc.tensordot(\n",
    "            t,\n",
    "            w.conj(),\n",
    "            [['vR*', 'p', 'p*'], ['vL*', 'p*', 'p']]\n",
    "        )\n",
    "        \n",
    "        left_unitary_two_tensors.append(t)\n",
    "        \n",
    "        t = npc.tensordot(left_four_tensor, w, [['vR',], ['vL']])\n",
    "        t = npc.tensordot(t, w.conj(), [['vR*', 'p'], ['vL*', 'p*']])\n",
    "        t = npc.tensordot(\n",
    "            t,\n",
    "            w.replace_label('vR', 'vR1'),\n",
    "            [['p', 'vR1'], ['p*', 'vL']]\n",
    "        )\n",
    "        t = npc.tensordot(\n",
    "            t,\n",
    "            w.conj().replace_label('vR*', 'vR1*'),\n",
    "            [['p', 'p*', 'vR1*'], ['p*', 'p', 'vL*']]\n",
    "        )\n",
    "        \n",
    "        left_unitary_four_tensors.append(t)\n",
    "\n",
    "        t = left_overlap_tensor.ireplace_label('vR*', 'vR1*')\n",
    "        t = npc.tensordot(\n",
    "            left_overlap_tensor,\n",
    "            w.conj(),\n",
    "            [['vRm',], ['vL*']]\n",
    "        )\n",
    "        t.ireplace_label('vR*', 'vRm')\n",
    "        t = npc.tensordot(t, b, [['vR', 'p*'], ['vL', 'p']])\n",
    "        t = npc.tensordot(t, b.conj(), [['vR1*', 'p'], ['vL*', 'p*']])\n",
    "\n",
    "        left_overlap_tensors.append(t)\n",
    "\n",
    "    # Last site\n",
    "    left_two_tensor = left_unitary_two_tensors[-1]\n",
    "    w = mpo_tensors[-1]\n",
    "    b = b_tensors[-1]\n",
    "    \n",
    "    grad_2 = npc.tensordot(left_two_tensor, w, [['vR'], ['vL',]])\n",
    "    grad_2 = mpo_tensor_raw_to_gradient(grad_2, w)\n",
    "\n",
    "    left_four_tensor = left_unitary_four_tensors[-1]\n",
    "    \n",
    "    grad_4 = npc.tensordot(left_four_tensor, w, [['vR'], ['vL',]])\n",
    "    grad_4 = npc.tensordot(grad_4, w.conj(), [['vR*', 'p'], ['vL*', 'p*']])\n",
    "    grad_4 = npc.tensordot(grad_4, w, [['vR1', 'p'], ['vL', 'p*']])\n",
    "\n",
    "    grad_4 = mpo_tensor_raw_to_gradient(grad_4, w)\n",
    "    \n",
    "    unitary_grad = (grad_4 - grad_2)/np.sqrt(1+unitary_score)\n",
    "\n",
    "    left_overlap_tensor = left_overlap_tensors[-1]\n",
    "    right_overlap_tensor = right_overlap_tensors[-1].conj()\n",
    "\n",
    "    grad_o = npc.tensordot(right_overlap_tensor, b, [['vL',], ['vR',]])\n",
    "    grad_o = npc.tensordot(grad_o, b.conj(), [['vL*',], ['vR*',]])\n",
    "    grad_o = npc.tensordot(\n",
    "        grad_o,\n",
    "        left_overlap_tensor,\n",
    "        [['vL*', 'vL'], ['vR', 'vR*',]]\n",
    "    )\n",
    "\n",
    "    grad_o = grad_o_scale*grad_o\n",
    "    grad_o = mpo_tensor_raw_to_gradient(grad_o, w)\n",
    "\n",
    "\n",
    "    grad = (\n",
    "        unitarity_learning_rate*unitary_grad +\n",
    "        overlap_learning_rate*grad_o\n",
    "    )\n",
    "    adam_grad = adam_optimizers[-1].update(grad)\n",
    "    grads.append(adam_grad)\n",
    "\n",
    "    \"\"\"\n",
    "    for i, g in enumerate(grads):\n",
    "        mpo_tensors[i] = mpo_tensors[i] - g\n",
    "    \"\"\"\n",
    "    \n",
    "    return (grads, unitary_score, c_abs)"
   ]
  },
  {
   "cell_type": "code",
   "execution_count": 47,
   "id": "e4c0c3f6-9014-41c6-a7b3-745dd0dc9970",
   "metadata": {},
   "outputs": [],
   "source": [
    "def swap_left_right_indices(npc_array):\n",
    "    left_right_pairs = {\n",
    "        'vL': 'vR',\n",
    "        'vR': 'vL',\n",
    "        'vL*': 'vR*',\n",
    "        'vR*': 'vL*'\n",
    "    }\n",
    "\n",
    "    leg_labels = npc_array.get_leg_labels()\n",
    "\n",
    "    old_labels = [l for l in leg_labels if l in left_right_pairs]\n",
    "    new_labels = [left_right_pairs[l] for l in old_labels]\n",
    "\n",
    "    out = npc_array.replace_labels(old_labels, new_labels)\n",
    "\n",
    "    return out"
   ]
  },
  {
   "cell_type": "code",
   "execution_count": 48,
   "id": "d66c2c04-401a-4cf8-8f7a-a2745f3c3a57",
   "metadata": {},
   "outputs": [],
   "source": [
    "def two_sided_mpo_gradient_descent_sweep(left_mpo_tensors, right_mpo_tensors,\n",
    "    left_b_tensors, right_b_tensors, left_total_dimension,\n",
    "    right_total_dimension, unitarity_learning_rate, overlap_learning_rate,\n",
    "    symmetry_transfer_matrix, left_adam_optimizers, right_adam_optimizers):\n",
    "\n",
    "    # Compute left and right symmetry environments\n",
    "    # Right symmetry environment for left side first\n",
    "    right_overlap_tensors = overlap_right_tensors(\n",
    "        right_mpo_tensors,\n",
    "        right_b_tensors\n",
    "    )\n",
    "    right_symmetry_environment = npc.tensordot(\n",
    "        symmetry_transfer_matrix,\n",
    "        right_overlap_tensors[0],\n",
    "        [['vR', 'vR*'], ['vL', 'vL*']]\n",
    "    )\n",
    "    right_symmetry_environment = swap_left_right_indices(right_symmetry_environment)\n",
    "\n",
    "    # Left symmetry environment for right side\n",
    "    left_overlap_tensors = overlap_right_tensors(\n",
    "        left_mpo_tensors,\n",
    "        left_b_tensors\n",
    "    )\n",
    "    left_symmetry_environment = npc.tensordot(\n",
    "        symmetry_transfer_matrix,\n",
    "        swap_left_right_indices(left_overlap_tensors[0]),\n",
    "        [['vL', 'vL*'], ['vR', 'vR*']]\n",
    "    )\n",
    "\n",
    "    # Get right gradients\n",
    "    right_grads, unitary_score, c_abs = mpo_gradient_descent_sweep(\n",
    "        right_mpo_tensors,\n",
    "        right_b_tensors,\n",
    "        right_total_dimension,\n",
    "        right_overlap_tensors[1:],\n",
    "        unitarity_learning_rate,\n",
    "        overlap_learning_rate,\n",
    "        1,\n",
    "        left_symmetry_environment,\n",
    "        right_adam_optimizers\n",
    "    )\n",
    "    \n",
    "    for i, g in enumerate(right_grads):\n",
    "        right_mpo_tensors[i] = right_mpo_tensors[i] - g\n",
    "\n",
    "    # Get left gradients\n",
    "    left_grads, *_ = mpo_gradient_descent_sweep(\n",
    "        left_mpo_tensors,\n",
    "        left_b_tensors,\n",
    "        left_total_dimension,\n",
    "        left_overlap_tensors[1:],\n",
    "        unitarity_learning_rate,\n",
    "        overlap_learning_rate,\n",
    "        1,\n",
    "        right_symmetry_environment,\n",
    "        left_adam_optimizers\n",
    "    )\n",
    "\n",
    "    for i, g in enumerate(left_grads):\n",
    "        left_mpo_tensors[i] = left_mpo_tensors[i] - g\n",
    "\n",
    "    return (unitary_score, c_abs)"
   ]
  },
  {
   "cell_type": "code",
   "execution_count": 49,
   "id": "1a8b9251-44db-4ef2-80ad-db74402a94b4",
   "metadata": {},
   "outputs": [],
   "source": [
    "def unitarity_error_from_subscores(order_two_score, order_four_score, dimension):\n",
    "    return order_four_score - 2*order_two_score + dimension"
   ]
  },
  {
   "cell_type": "code",
   "execution_count": 50,
   "id": "b2ddc829-2e4b-4aa9-9711-b76244621c37",
   "metadata": {},
   "outputs": [],
   "source": [
    "def unitarity_errors_from_subscores(order_two_scores, order_four_scores,\n",
    "                                    dimension):\n",
    "    out = [\n",
    "        unitarity_error_from_subscores(o2, o4, dimension)\n",
    "        for o2, o4 in zip(order_two_scores, order_four_scores)\n",
    "    ]\n",
    "    \n",
    "    return out"
   ]
  },
  {
   "cell_type": "code",
   "execution_count": 51,
   "id": "e390f713-9369-4353-b585-07ea44412fb8",
   "metadata": {},
   "outputs": [],
   "source": [
    "def initialize_optimization(num_sites, bond_dimension, symmetry_case,\n",
    "    unitarity_learning_rate, overlap_learning_rate, adam_params):\n",
    "    right_b_tensors = [\n",
    "        symmetry_case.psi.get_B(i)\n",
    "        for i in range(\n",
    "            symmetry_case.right_symmetry_index + 1,\n",
    "            symmetry_case.right_symmetry_index + 1 + num_sites\n",
    "        )\n",
    "    ]\n",
    "\n",
    "    left_b_tensors = [\n",
    "        symmetry_case.psi.get_B(i, form='A')\n",
    "        for i in range(\n",
    "            symmetry_case.left_symmetry_index - 1,\n",
    "            symmetry_case.left_symmetry_index - 1 - num_sites, -1\n",
    "        )\n",
    "    ]\n",
    "\n",
    "    left_b_tensors = [\n",
    "        swap_left_right_indices(b) for b in left_b_tensors\n",
    "    ]\n",
    "\n",
    "    right_physical_dims = [\n",
    "        get_physical_dim(b) for b in right_b_tensors\n",
    "    ]\n",
    "    \n",
    "    right_total_dimension = reduce(mul, right_physical_dims)\n",
    "\n",
    "    left_physical_dims = [\n",
    "        get_physical_dim(b) for b in left_b_tensors\n",
    "    ]\n",
    "\n",
    "    left_total_dimension = reduce(mul, left_physical_dims)\n",
    "\n",
    "    virtual_dims = (\n",
    "        [(None, bond_dimension),] +\n",
    "        [(bond_dimension, bond_dimension)]*(num_sites - 2) +\n",
    "        [(bond_dimension, None),]\n",
    "    )\n",
    "\n",
    "    right_mpo_tensors = get_random_mpo_tensors(\n",
    "        right_physical_dims,\n",
    "        virtual_dims\n",
    "    )\n",
    "    left_mpo_tensors = get_random_mpo_tensors(\n",
    "        left_physical_dims,\n",
    "        virtual_dims\n",
    "    )\n",
    "    rescale_mpo_tensors(right_mpo_tensors, 1)\n",
    "    rescale_mpo_tensors(left_mpo_tensors, 1)\n",
    "\n",
    "    symmetry_transfer_matrix = symmetry_case.npc_symmetry_transfer_matrix\n",
    "\n",
    "    left_adam_optimizers = [\n",
    "        AdamTenpy(*adam_params) for _ in range(num_sites)\n",
    "    ]\n",
    "\n",
    "    right_adam_optimizers = [\n",
    "        AdamTenpy(*adam_params) for _ in range(num_sites)\n",
    "    ]\n",
    "\n",
    "    return (\n",
    "        left_mpo_tensors,\n",
    "        right_mpo_tensors,\n",
    "        left_b_tensors,\n",
    "        right_b_tensors,\n",
    "        left_total_dimension,\n",
    "        right_total_dimension,\n",
    "        unitarity_learning_rate,\n",
    "        overlap_learning_rate,\n",
    "        symmetry_transfer_matrix,\n",
    "        left_adam_optimizers,\n",
    "        right_adam_optimizers\n",
    "    )"
   ]
  },
  {
   "cell_type": "markdown",
   "id": "5a6b77d4-1b5d-455b-9d45-b0dfc2fe378d",
   "metadata": {},
   "source": [
    "### SPT phase extraction"
   ]
  },
  {
   "cell_type": "code",
   "execution_count": 52,
   "id": "19115e31-e566-4904-b863-492184c744e7",
   "metadata": {},
   "outputs": [],
   "source": [
    "def conjugate_single_mpo_tensor(mpo_tensor):\n",
    "    leg_labels = mpo_tensor.get_leg_labels()\n",
    "\n",
    "    if not ('vR' in leg_labels):\n",
    "        return mpo_tensor.conj().replace_labels(['vL*',], ['vL',])\n",
    "    elif not ('vL' in leg_labels):\n",
    "        return mpo_tensor.conj().replace_labels(['vR*'], ['vR'])\n",
    "    else:\n",
    "        return mpo_tensor.conj().replace_labels(['vL*', 'vR*'], ['vL', 'vR'])"
   ]
  },
  {
   "cell_type": "code",
   "execution_count": 53,
   "id": "58405086-22cd-4f65-8eec-0888ff6eb03f",
   "metadata": {},
   "outputs": [],
   "source": [
    "def conjugate_mpo(mpo_tensors):\n",
    "    return [\n",
    "        conjugate_single_mpo_tensor(t) for t in mpo_tensors\n",
    "    ]"
   ]
  },
  {
   "cell_type": "code",
   "execution_count": 54,
   "id": "6a0c4ee6-9a5c-464f-b7ba-68adbd5ad640",
   "metadata": {},
   "outputs": [],
   "source": [
    "def mpo_product_expectation(left_environment, b_tensors, mpos):\n",
    "    \"\"\"\n",
    "    Have an optional b_conj argument? Left and right arguments?\n",
    "\n",
    "    Like a previous function we wrote?\n",
    "    \"\"\"\n",
    "\n",
    "    # First site\n",
    "    t = b_tensors[0]\n",
    "\n",
    "    for i, l in enumerate(mpos):\n",
    "        w = l[0]\n",
    "        t = npc.tensordot(\n",
    "            t,\n",
    "            w.replace_label('vR', f'vR{i}'),\n",
    "            [['p',], ['p*',]]\n",
    "        )\n",
    "\n",
    "    t = npc.tensordot(\n",
    "        t,\n",
    "        b_tensors[0].conj(),\n",
    "        [['p',], ['p*',]]\n",
    "    )\n",
    "\n",
    "    t = npc.tensordot(\n",
    "        t,\n",
    "        left_environment,\n",
    "        [['vL', 'vL*',], ['vR', 'vR*']]\n",
    "    )\n",
    "\n",
    "    # Inner sites\n",
    "    for i in range(1, len(b_tensors)-1):\n",
    "        t = npc.tensordot(\n",
    "            t,\n",
    "            b_tensors[i],\n",
    "            [['vR',], ['vL',]]\n",
    "        )\n",
    "\n",
    "        for j, l in enumerate(mpos):\n",
    "            w = l[i]\n",
    "            t = npc.tensordot(\n",
    "                t,\n",
    "                w.replace_label('vR', f'vR{j}'),\n",
    "                [['p', f'vR{j}'], ['p*', 'vL']]\n",
    "            )\n",
    "    \n",
    "        t = npc.tensordot(\n",
    "            t,\n",
    "            b_tensors[i].conj(),\n",
    "            [['p', 'vR*'], ['p*', 'vL*']]\n",
    "        )\n",
    "\n",
    "    # Last site\n",
    "    t = npc.tensordot(\n",
    "        t,\n",
    "        b_tensors[-1],\n",
    "        [['vR',], ['vL',]]\n",
    "    )\n",
    "\n",
    "    for i, l in enumerate(mpos):\n",
    "        w = l[-1]\n",
    "        t = npc.tensordot(\n",
    "            t,\n",
    "            w,\n",
    "            [['p', f'vR{i}'], ['p*', 'vL']]\n",
    "        )\n",
    "\n",
    "    t = npc.tensordot(\n",
    "        t,\n",
    "        b_tensors[-1].conj(),\n",
    "        [['p', 'vR*', 'vR'], ['p*', 'vL*', 'vR*']]\n",
    "    )\n",
    "\n",
    "    return t"
   ]
  },
  {
   "cell_type": "code",
   "execution_count": 55,
   "id": "86ff850e-a4f7-4b73-9360-03431af04fdb",
   "metadata": {},
   "outputs": [],
   "source": [
    "def proj_rep_phase(left_environment, b_tensors, mpo_1, mpo_2, mpo_3):\n",
    "    num = mpo_product_expectation(\n",
    "        left_environment,\n",
    "        b_tensors,\n",
    "        [\n",
    "            mpo_1,\n",
    "            mpo_2,\n",
    "            conjugate_mpo(mpo_3)\n",
    "        ]\n",
    "    )\n",
    "\n",
    "    den = npc.trace(left_environment)\n",
    "\n",
    "    return num/den"
   ]
  },
  {
   "cell_type": "markdown",
   "id": "33d1be7c-e441-4df5-be4f-05ee409dfc45",
   "metadata": {},
   "source": [
    "# Check triv cases"
   ]
  },
  {
   "cell_type": "code",
   "execution_count": 56,
   "id": "ade710b7-a18c-4a47-97a5-aab69f32a8bc",
   "metadata": {},
   "outputs": [],
   "source": [
    "with open(r'solutions/non_trivial_models_triv_proj_rep_mpo_sol.pkl', 'rb') as file:\n",
    "    dict_triv = pickle.load(file)"
   ]
  },
  {
   "cell_type": "code",
   "execution_count": 57,
   "id": "6079f9ba-cbe7-473e-b476-437e78100cee",
   "metadata": {},
   "outputs": [],
   "source": [
    "ud = dict_triv['unitarity_scores']"
   ]
  },
  {
   "cell_type": "code",
   "execution_count": 58,
   "id": "53726f04-c01e-4ee8-9abd-69a1856d96d9",
   "metadata": {},
   "outputs": [],
   "source": [
    "X = np.array(list(ud.values()))"
   ]
  },
  {
   "cell_type": "code",
   "execution_count": 59,
   "id": "e4f52648-3d6f-42a8-ac35-a42440479282",
   "metadata": {},
   "outputs": [],
   "source": [
    "X = np.real(X)"
   ]
  },
  {
   "cell_type": "code",
   "execution_count": 60,
   "id": "b3647807-7211-4e46-a5e2-e0de8e21ab05",
   "metadata": {},
   "outputs": [
    {
     "data": {
      "text/plain": [
       "count    126.000000\n",
       "mean       0.253978\n",
       "std        0.909945\n",
       "min        0.005366\n",
       "25%        0.055299\n",
       "50%        0.093761\n",
       "75%        0.151732\n",
       "max        9.565872\n",
       "dtype: float64"
      ]
     },
     "execution_count": 60,
     "metadata": {},
     "output_type": "execute_result"
    }
   ],
   "source": [
    "pd.Series(X[:, -1]).describe()"
   ]
  },
  {
   "cell_type": "code",
   "execution_count": 61,
   "id": "7e0aec0d-d8aa-49f5-93dc-28054f69e4dd",
   "metadata": {},
   "outputs": [],
   "source": [
    "od = dict_triv['overlaps']"
   ]
  },
  {
   "cell_type": "code",
   "execution_count": 62,
   "id": "dd6b48fa-bcf6-408c-aa1e-48bc4a1673a9",
   "metadata": {},
   "outputs": [],
   "source": [
    "X = np.array(list(od.values()))"
   ]
  },
  {
   "cell_type": "code",
   "execution_count": 63,
   "id": "9cfdf4cb-0be4-473b-9121-5a52b89f0e11",
   "metadata": {},
   "outputs": [
    {
     "data": {
      "text/plain": [
       "count    1.260000e+02\n",
       "mean     8.304738e-01\n",
       "std      3.615750e-01\n",
       "min      1.591008e-09\n",
       "25%      9.591523e-01\n",
       "50%      9.862221e-01\n",
       "75%      9.990895e-01\n",
       "max      1.011344e+00\n",
       "dtype: float64"
      ]
     },
     "execution_count": 63,
     "metadata": {},
     "output_type": "execute_result"
    }
   ],
   "source": [
    "pd.Series(X[:, -1]).describe()"
   ]
  },
  {
   "cell_type": "code",
   "execution_count": 64,
   "id": "e572956f-e9b4-44a8-b558-6b7c75d01d9c",
   "metadata": {},
   "outputs": [],
   "source": [
    "l = list()\n",
    "\n",
    "for k, lo in dict_triv['overlaps'].items():\n",
    "    lu = dict_triv['unitarity_scores'][k]\n",
    "    l.append([*k, np.real(lu[-1]), lo[-1]])\n",
    "\n",
    "X = np.array(l)"
   ]
  },
  {
   "cell_type": "code",
   "execution_count": 65,
   "id": "d8dd70d4-e049-4f49-a3f9-25c8600e0d7e",
   "metadata": {},
   "outputs": [
    {
     "data": {
      "text/plain": [
       "<matplotlib.collections.PathCollection at 0x300ddb890>"
      ]
     },
     "execution_count": 65,
     "metadata": {},
     "output_type": "execute_result"
    },
    {
     "data": {
      "image/png": "[encoded data removed]",
      "text/plain": [
       "<Figure size 640x480 with 1 Axes>"
      ]
     },
     "metadata": {},
     "output_type": "display_data"
    }
   ],
   "source": [
    "plt.scatter(X[:, -2], X[:, -1])"
   ]
  },
  {
   "cell_type": "code",
   "execution_count": 66,
   "id": "5f99307a-ae2a-4f94-965a-5610282d1a8e",
   "metadata": {},
   "outputs": [
    {
     "data": {
      "text/plain": [
       "array([[5.00000000e-01, 0.00000000e+00, 1.00000000e+00, 3.16201472e-02,\n",
       "        1.98357824e-09],\n",
       "       [5.00000000e-01, 0.00000000e+00, 2.00000000e+00, 2.52762476e-01,\n",
       "        9.85437183e-01],\n",
       "       [5.00000000e-01, 0.00000000e+00, 3.00000000e+00, 2.14657725e-02,\n",
       "        2.37581818e-09],\n",
       "       [5.00000000e-01, 1.00000000e+00, 1.00000000e+00, 2.35139219e-02,\n",
       "        1.59100835e-09],\n",
       "       [5.00000000e-01, 1.00000000e+00, 2.00000000e+00, 1.63172588e-01,\n",
       "        9.83618650e-01],\n",
       "       [5.00000000e-01, 1.00000000e+00, 3.00000000e+00, 2.93141704e-02,\n",
       "        2.37928447e-09]])"
      ]
     },
     "execution_count": 66,
     "metadata": {},
     "output_type": "execute_result"
    }
   ],
   "source": [
    "X[X[:, 0] == 0.5]"
   ]
  },
  {
   "cell_type": "code",
   "execution_count": 67,
   "id": "8fc03b65-ba5d-4602-aa7c-1a991b488660",
   "metadata": {},
   "outputs": [
    {
     "data": {
      "text/plain": [
       "<matplotlib.collections.PathCollection at 0x307ca5b90>"
      ]
     },
     "execution_count": 67,
     "metadata": {},
     "output_type": "execute_result"
    },
    {
     "data": {
      "image/png": "[encoded data removed]",
      "text/plain": [
       "<Figure size 640x480 with 1 Axes>"
      ]
     },
     "metadata": {},
     "output_type": "display_data"
    }
   ],
   "source": [
    "sub_X = X[X[:, 0] != 0.5]\n",
    "plt.scatter(sub_X[:, -2], sub_X[:, -1])"
   ]
  },
  {
   "cell_type": "markdown",
   "id": "ff65e3ca-ff57-41ff-8fef-8022af730c39",
   "metadata": {},
   "source": [
    "What are the bad ones?"
   ]
  },
  {
   "cell_type": "code",
   "execution_count": 68,
   "id": "a28a90c7-a6bd-4238-99da-4b7906b9c520",
   "metadata": {},
   "outputs": [
    {
     "data": {
      "text/plain": [
       "(126, 5)"
      ]
     },
     "execution_count": 68,
     "metadata": {},
     "output_type": "execute_result"
    }
   ],
   "source": [
    "X.shape"
   ]
  },
  {
   "cell_type": "code",
   "execution_count": 69,
   "id": "0d95252c-b43d-4d89-89fa-952490cfc841",
   "metadata": {},
   "outputs": [],
   "source": [
    "sub_X = X[X[:, -1] < 0.2]"
   ]
  },
  {
   "cell_type": "code",
   "execution_count": 70,
   "id": "8b4e71bc-2d61-4e3d-bf23-8ba799b9b510",
   "metadata": {},
   "outputs": [
    {
     "data": {
      "text/plain": [
       "<matplotlib.collections.PathCollection at 0x307cd7990>"
      ]
     },
     "execution_count": 70,
     "metadata": {},
     "output_type": "execute_result"
    },
    {
     "data": {
      "image/png": "[encoded data removed]",
      "text/plain": [
       "<Figure size 640x480 with 1 Axes>"
      ]
     },
     "metadata": {},
     "output_type": "display_data"
    }
   ],
   "source": [
    "plt.scatter(sub_X[:, -2], sub_X[:, -1])"
   ]
  },
  {
   "cell_type": "code",
   "execution_count": 71,
   "id": "21cee4fc-fb92-4f5e-9ce8-582a5b2fbb72",
   "metadata": {},
   "outputs": [
    {
     "data": {
      "text/plain": [
       "(20, 5)"
      ]
     },
     "execution_count": 71,
     "metadata": {},
     "output_type": "execute_result"
    }
   ],
   "source": [
    "sub_X.shape"
   ]
  },
  {
   "cell_type": "code",
   "execution_count": 72,
   "id": "15ea28f2-ae13-474f-9166-642c0b25271e",
   "metadata": {},
   "outputs": [
    {
     "data": {
      "text/plain": [
       "array([[2.50000000e-01, 1.00000000e+00, 1.00000000e+00, 9.56587186e+00,\n",
       "        4.56312769e-02],\n",
       "       [2.00000000e-01, 0.00000000e+00, 3.00000000e+00, 3.07509982e-02,\n",
       "        3.91557274e-04],\n",
       "       [2.00000000e-01, 1.00000000e+00, 1.00000000e+00, 1.32802297e-02,\n",
       "        1.33169478e-05],\n",
       "       [2.00000000e-01, 1.00000000e+00, 3.00000000e+00, 1.15817724e-01,\n",
       "        3.05192369e-04],\n",
       "       [1.00000000e-01, 0.00000000e+00, 2.00000000e+00, 4.63020879e-02,\n",
       "        4.24009536e-05],\n",
       "       [5.00000000e-02, 0.00000000e+00, 1.00000000e+00, 5.36587486e-03,\n",
       "        9.71359791e-06],\n",
       "       [5.00000000e-02, 1.00000000e+00, 2.00000000e+00, 1.28836800e-02,\n",
       "        3.86603325e-05],\n",
       "       [1.50000000e-01, 1.00000000e+00, 1.00000000e+00, 3.15488948e-02,\n",
       "        6.39035721e-07],\n",
       "       [1.50000000e-01, 1.00000000e+00, 2.00000000e+00, 8.90223167e-02,\n",
       "        6.93112409e-04],\n",
       "       [1.50000000e-01, 1.00000000e+00, 3.00000000e+00, 8.31898817e-02,\n",
       "        3.24960111e-04],\n",
       "       [4.00000000e-01, 1.00000000e+00, 3.00000000e+00, 1.16893502e-01,\n",
       "        4.92743205e-03],\n",
       "       [0.00000000e+00, 1.00000000e+00, 1.00000000e+00, 8.28123542e-02,\n",
       "        2.63870936e-07],\n",
       "       [0.00000000e+00, 1.00000000e+00, 2.00000000e+00, 5.97884285e-02,\n",
       "        2.63533937e-06],\n",
       "       [3.50000000e-01, 0.00000000e+00, 1.00000000e+00, 1.38913130e-01,\n",
       "        3.18007161e-04],\n",
       "       [3.50000000e-01, 1.00000000e+00, 2.00000000e+00, 1.01611291e-01,\n",
       "        3.56943066e-04],\n",
       "       [3.50000000e-01, 1.00000000e+00, 3.00000000e+00, 4.17595285e-02,\n",
       "        1.19489012e-06],\n",
       "       [5.00000000e-01, 0.00000000e+00, 1.00000000e+00, 3.16201472e-02,\n",
       "        1.98357824e-09],\n",
       "       [5.00000000e-01, 0.00000000e+00, 3.00000000e+00, 2.14657725e-02,\n",
       "        2.37581818e-09],\n",
       "       [5.00000000e-01, 1.00000000e+00, 1.00000000e+00, 2.35139219e-02,\n",
       "        1.59100835e-09],\n",
       "       [5.00000000e-01, 1.00000000e+00, 3.00000000e+00, 2.93141704e-02,\n",
       "        2.37928447e-09]])"
      ]
     },
     "execution_count": 72,
     "metadata": {},
     "output_type": "execute_result"
    }
   ],
   "source": [
    "sub_X"
   ]
  },
  {
   "cell_type": "markdown",
   "id": "1f73fb9a-31dc-403b-a434-00d0fe3b7e86",
   "metadata": {},
   "source": [
    "A mostly random mix..."
   ]
  },
  {
   "cell_type": "code",
   "execution_count": 73,
   "id": "ab0a7841-774f-4e7a-a297-560938d78e3f",
   "metadata": {},
   "outputs": [],
   "source": [
    "sub_X = X[X[:, -1] >= 0.2]"
   ]
  },
  {
   "cell_type": "code",
   "execution_count": 74,
   "id": "689c7906-11a8-42c6-9c91-814ba135b558",
   "metadata": {},
   "outputs": [
    {
     "data": {
      "text/plain": [
       "<matplotlib.collections.PathCollection at 0x307e1ab10>"
      ]
     },
     "execution_count": 74,
     "metadata": {},
     "output_type": "execute_result"
    },
    {
     "data": {
      "image/png": "[encoded data removed]",
      "text/plain": [
       "<Figure size 640x480 with 1 Axes>"
      ]
     },
     "metadata": {},
     "output_type": "display_data"
    }
   ],
   "source": [
    "plt.scatter(sub_X[:, -2], sub_X[:, -1])"
   ]
  },
  {
   "cell_type": "markdown",
   "id": "b603ab73-0628-4657-b84e-563a051b6299",
   "metadata": {},
   "source": [
    "# Sweep"
   ]
  },
  {
   "cell_type": "markdown",
   "id": "b87f9b5a-f06f-4e2f-899a-0dfef0d5f072",
   "metadata": {},
   "source": [
    "## Non trivial case"
   ]
  },
  {
   "cell_type": "code",
   "execution_count": 75,
   "id": "00969949-e4ad-495b-842a-d91d10f0d265",
   "metadata": {},
   "outputs": [],
   "source": [
    "num_sites = 6"
   ]
  },
  {
   "cell_type": "code",
   "execution_count": 76,
   "id": "b13dc43d-9179-4004-a05a-2c7f754f772f",
   "metadata": {},
   "outputs": [],
   "source": [
    "unitarity_learning_rate = 1\n",
    "overlap_learning_rate = 100\n",
    "\n",
    "adam_params = (5e-4, 0.3, 0.3)"
   ]
  },
  {
   "cell_type": "code",
   "execution_count": 77,
   "id": "0ae39dca-ec8c-4cd5-9bce-a92601ecf8eb",
   "metadata": {},
   "outputs": [],
   "source": [
    "num_seeds = 10\n",
    "num_iterations = 3000"
   ]
  },
  {
   "cell_type": "code",
   "execution_count": 78,
   "id": "0a9d0c08-3909-422e-bef4-5915fd5a9a02",
   "metadata": {},
   "outputs": [],
   "source": [
    "bond_dimension=6"
   ]
  },
  {
   "cell_type": "code",
   "execution_count": 79,
   "id": "51ebf450-9f88-41e2-954c-76a3bcdc7337",
   "metadata": {},
   "outputs": [],
   "source": [
    "hyperparameter_dists_dict = {\n",
    "    'alpha': scipy.stats.loguniform(1e-4, 1e-3),\n",
    "    'beta_1': scipy.stats.uniform(0.2, 0.25),\n",
    "    'beta_2': scipy.stats.uniform(0.2, 0.2),\n",
    "    'overlap_learning_rate': scipy.stats.randint(1, 200)\n",
    "}"
   ]
  },
  {
   "cell_type": "code",
   "execution_count": 80,
   "id": "35a83ff1-ce7b-4518-ac0f-e83aecc6efb4",
   "metadata": {},
   "outputs": [],
   "source": [
    "HyperParams = namedtuple('HyperParams', hyperparameter_dists_dict)"
   ]
  },
  {
   "cell_type": "code",
   "execution_count": 81,
   "id": "9ac6225e-e8d2-4ca7-9b6b-6de9acd3986c",
   "metadata": {},
   "outputs": [],
   "source": [
    "physical_dims = [2,]*num_sites\n",
    "virtual_dims = (\n",
    "    [(None, bond_dimension),] +\n",
    "    [(bond_dimension, bond_dimension)]*(num_sites - 2) +\n",
    "    [(bond_dimension, None),]\n",
    ")"
   ]
  },
  {
   "cell_type": "code",
   "execution_count": 82,
   "id": "9f5c5565-efdd-4a36-ae54-a5e9106191fa",
   "metadata": {},
   "outputs": [],
   "source": [
    "def get_good_sol_found(unitarity, overlap):\n",
    "    if (unitarity < 5) and (overlap > 0.9):\n",
    "        return True\n",
    "    return False"
   ]
  },
  {
   "cell_type": "code",
   "execution_count": 83,
   "id": "f82b7455-1e4d-4726-9250-fd1c52ce4e9e",
   "metadata": {},
   "outputs": [],
   "source": [
    "def get_diverging_sol(unitarity, overlap):\n",
    "    if unitarity > 1e10:\n",
    "        return True\n",
    "    if overlap > 1e10:\n",
    "        return True\n",
    "    return False"
   ]
  },
  {
   "cell_type": "code",
   "execution_count": 84,
   "id": "833c55eb-958f-485a-92cd-421a929764de",
   "metadata": {},
   "outputs": [],
   "source": [
    "a, b, c = (0.2, 0, 2)\n",
    "a = int(100*a)\n",
    "file_name = f'{a}_{b}_{c}'\n",
    "\n",
    "full_file_name = f'solutions/non_triv_hyperparameter_search/{file_name}.pkl'"
   ]
  },
  {
   "cell_type": "code",
   "execution_count": 85,
   "id": "c322f5f1-92fa-4813-a1b3-c130240162bb",
   "metadata": {},
   "outputs": [
    {
     "data": {
      "text/plain": [
       "True"
      ]
     },
     "execution_count": 85,
     "metadata": {},
     "output_type": "execute_result"
    }
   ],
   "source": [
    "os.path.isfile(full_file_name)"
   ]
  },
  {
   "cell_type": "code",
   "execution_count": 86,
   "id": "0c13d356-cad2-467a-a37b-c9a01916d3bc",
   "metadata": {
    "scrolled": true
   },
   "outputs": [],
   "source": [
    "for k, c in cases_non_triv_proj_rep.items():\n",
    "\n",
    "    a, b, c = k\n",
    "    a = int(100*a)\n",
    "    file_name = f'{a}_{b}_{c}'\n",
    "    \n",
    "    full_file_name = f'solutions/non_triv_hyperparameter_search/{file_name}.pkl'\n",
    "    file_exists = os.path.isfile(full_file_name)\n",
    "    \n",
    "    if (k[2] != 0) and (not file_exists):\n",
    "        print(k)\n",
    "        print()\n",
    "        l = 0\n",
    "\n",
    "        results_dict = dict()\n",
    "        new_seed_needed = True\n",
    "        good_sol_found = False\n",
    "\n",
    "        while new_seed_needed:\n",
    "            start = time.time()\n",
    "            hyperparams ={k: v.rvs() for k, v in hyperparameter_dists_dict.items()}\n",
    "            print(hyperparams)\n",
    "    \n",
    "            (\n",
    "                left_mpo_tensors,\n",
    "                right_mpo_tensors,\n",
    "                left_b_tensors,\n",
    "                right_b_tensors,\n",
    "                left_total_dimension,\n",
    "                right_total_dimension,\n",
    "                unitarity_learning_rate,\n",
    "                overlap_learning_rate,\n",
    "                symmetry_transfer_matrix,\n",
    "                left_adam_optimizers,\n",
    "                right_adam_optimizers\n",
    "            ) = initialize_optimization(\n",
    "                num_sites,\n",
    "                bond_dimension,\n",
    "                case,\n",
    "                1, #Unitarity learning rate\n",
    "                hyperparams['overlap_learning_rate'],\n",
    "                (hyperparams['alpha'], hyperparams['beta_1'], hyperparams['beta_2'])\n",
    "            )\n",
    "\n",
    "            current_unitarity_scores = list()\n",
    "            current_overlap_scores = list()\n",
    "\n",
    "            j = 0\n",
    "            need_more_iterations = True\n",
    "            while need_more_iterations:\n",
    "                unitarity, overlap = two_sided_mpo_gradient_descent_sweep(\n",
    "                    left_mpo_tensors,\n",
    "                    right_mpo_tensors,\n",
    "                    left_b_tensors,\n",
    "                    right_b_tensors,\n",
    "                    left_total_dimension,\n",
    "                    right_total_dimension,\n",
    "                    unitarity_learning_rate,\n",
    "                    overlap_learning_rate,\n",
    "                    symmetry_transfer_matrix,\n",
    "                    left_adam_optimizers,\n",
    "                    right_adam_optimizers\n",
    "                )\n",
    "            \n",
    "                current_unitarity_scores.append(unitarity)\n",
    "                current_overlap_scores.append(overlap)\n",
    "    \n",
    "                j += 1\n",
    "                good_sol_found = get_good_sol_found(unitarity, overlap)\n",
    "                diverging_sol = get_diverging_sol(unitarity, overlap)\n",
    "                need_more_iterations = (\n",
    "                    (not good_sol_found)\n",
    "                    and (not diverging_sol)\n",
    "                    and (j<num_iterations)\n",
    "                )\n",
    "\n",
    "            end = time.time()\n",
    "        \n",
    "            current_results = {\n",
    "                'solutions': (left_mpo_tensors, right_mpo_tensors),\n",
    "                'unitarity_scores': current_unitarity_scores,\n",
    "                'overlap_scores': current_overlap_scores,\n",
    "                'time': (end-start),\n",
    "                'good_sol': good_sol_found\n",
    "            }\n",
    "\n",
    "            \n",
    "            results_dict[HyperParams(**hyperparams)] = current_results\n",
    "            print(end - start)\n",
    "            print(np.real(unitarity))\n",
    "            print(overlap)\n",
    "            print()\n",
    "\n",
    "            l += 1\n",
    "            new_seed_needed = (\n",
    "                (not good_sol_found)\n",
    "                and (l<num_seeds)\n",
    "            )\n",
    "        \n",
    "        with open(full_file_name, 'wb') as file:\n",
    "            pickle.dump(results_dict, file)"
   ]
  },
  {
   "cell_type": "markdown",
   "id": "2d960a0a-8522-4b24-aee9-09d63f57c8e9",
   "metadata": {},
   "source": [
    "## Trivial case"
   ]
  },
  {
   "cell_type": "markdown",
   "id": "3a235f03-e93b-444a-b00e-f715e2753b4f",
   "metadata": {},
   "source": [
    "Many of these done already, so only iterate over \"bad\" cases."
   ]
  },
  {
   "cell_type": "code",
   "execution_count": 78,
   "id": "cac24ea4-3485-424d-8dcc-7595cb90a580",
   "metadata": {},
   "outputs": [],
   "source": [
    "num_sites = 6"
   ]
  },
  {
   "cell_type": "code",
   "execution_count": 79,
   "id": "82555f9c-dc21-434e-a6a0-4b89c988cc34",
   "metadata": {},
   "outputs": [],
   "source": [
    "unitarity_learning_rate = 1\n",
    "overlap_learning_rate = 100\n",
    "\n",
    "adam_params = (5e-4, 0.3, 0.3)"
   ]
  },
  {
   "cell_type": "code",
   "execution_count": 80,
   "id": "ca00452c-4569-410f-aade-13884abadfb9",
   "metadata": {},
   "outputs": [],
   "source": [
    "num_seeds = 10\n",
    "num_iterations = 3000"
   ]
  },
  {
   "cell_type": "code",
   "execution_count": 81,
   "id": "462726e1-1217-4415-8623-83f392b87af4",
   "metadata": {},
   "outputs": [],
   "source": [
    "bond_dimension=6"
   ]
  },
  {
   "cell_type": "code",
   "execution_count": 82,
   "id": "6a8d91fe-d440-4569-9cc4-b16cb9151a1b",
   "metadata": {},
   "outputs": [],
   "source": [
    "hyperparameter_dists_dict = {\n",
    "    'alpha': scipy.stats.loguniform(1e-4, 1e-3),\n",
    "    'beta_1': scipy.stats.uniform(0.2, 0.25),\n",
    "    'beta_2': scipy.stats.uniform(0.2, 0.2),\n",
    "    'overlap_learning_rate': scipy.stats.randint(1, 200)\n",
    "}"
   ]
  },
  {
   "cell_type": "code",
   "execution_count": 83,
   "id": "455146f8-e9c1-46cd-b338-32dcb502672d",
   "metadata": {},
   "outputs": [],
   "source": [
    "physical_dims = [2,]*num_sites\n",
    "virtual_dims = (\n",
    "    [(None, bond_dimension),] +\n",
    "    [(bond_dimension, bond_dimension)]*(num_sites - 2) +\n",
    "    [(bond_dimension, None),]\n",
    ")"
   ]
  },
  {
   "cell_type": "code",
   "execution_count": 84,
   "id": "c2534b14-c6cb-426f-9d19-0830e1f1e46e",
   "metadata": {},
   "outputs": [],
   "source": [
    "def get_good_sol_found(unitarity, overlap):\n",
    "    if (unitarity < 5) and (overlap > 0.9):\n",
    "        return True\n",
    "    return False"
   ]
  },
  {
   "cell_type": "code",
   "execution_count": 85,
   "id": "37bf5c53-001a-4ac9-bcb9-f6acaec98fda",
   "metadata": {},
   "outputs": [],
   "source": [
    "def get_diverging_sol(unitarity, overlap):\n",
    "    if unitarity > 1e10:\n",
    "        return True\n",
    "    if overlap > 1e10:\n",
    "        return True\n",
    "    return False"
   ]
  },
  {
   "cell_type": "code",
   "execution_count": 86,
   "id": "e7b3c357-cf95-482b-8eb9-da59ebd34869",
   "metadata": {},
   "outputs": [],
   "source": [
    "a, b, c = (0.2, 0, 2)\n",
    "a = int(100*a)\n",
    "file_name = f'{a}_{b}_{c}'\n",
    "\n",
    "full_file_name = f'solutions/triv_hyperparameter_search/{file_name}.pkl'"
   ]
  },
  {
   "cell_type": "code",
   "execution_count": 88,
   "id": "5aaed02e-2ecc-413b-9245-41e72b50946f",
   "metadata": {},
   "outputs": [
    {
     "data": {
      "text/plain": [
       "True"
      ]
     },
     "execution_count": 88,
     "metadata": {},
     "output_type": "execute_result"
    }
   ],
   "source": [
    "os.path.isfile(full_file_name)"
   ]
  },
  {
   "cell_type": "code",
   "execution_count": 88,
   "id": "7fb76676-9a9a-475e-89f3-1b3bcee6c199",
   "metadata": {},
   "outputs": [],
   "source": [
    "def triv_case_previously_done(k):\n",
    "    unitarity = dict_triv['unitarity_scores'][k][-1]\n",
    "    overlap = dict_triv['overlaps'][k][-1]\n",
    "\n",
    "    return get_good_sol_found(unitarity, overlap)"
   ]
  },
  {
   "cell_type": "code",
   "execution_count": 98,
   "id": "a259829f-a261-4a18-90c3-adecbb0340fb",
   "metadata": {
    "scrolled": true
   },
   "outputs": [
    {
     "name": "stdout",
     "output_type": "stream",
     "text": [
      "(0.1, 0, 2)\n",
      "\n",
      "{'alpha': 0.0002027662673264208, 'beta_1': 0.270604164278444, 'beta_2': 0.3827310086011819, 'overlap_learning_rate': 45}\n",
      "240.47424221038818\n",
      "7.687469308300933\n",
      "0.16719481590544472\n",
      "\n",
      "{'alpha': 0.00015366920950362525, 'beta_1': 0.22425154693846783, 'beta_2': 0.39380087584349055, 'overlap_learning_rate': 42}\n",
      "226.70759177207947\n",
      "1.108330933850084\n",
      "0.0029204687810377764\n",
      "\n",
      "{'alpha': 0.0006943367208330988, 'beta_1': 0.3648918857973569, 'beta_2': 0.3325421590383154, 'overlap_learning_rate': 119}\n",
      "45.68460702896118\n",
      "4.663676330588032\n",
      "0.9486826620278701\n",
      "\n",
      "(0.5, 0, 1)\n",
      "\n",
      "{'alpha': 0.0006691707365661531, 'beta_1': 0.4088736685315728, 'beta_2': 0.27878331951946905, 'overlap_learning_rate': 150}\n",
      "84.2894549369812\n",
      "4.921887578524547\n",
      "0.9646434138935532\n",
      "\n",
      "(0.5, 0, 3)\n",
      "\n",
      "{'alpha': 0.0005600560653679459, 'beta_1': 0.3168396195718764, 'beta_2': 0.25527127601162203, 'overlap_learning_rate': 4}\n",
      "237.36879634857178\n",
      "0.06261263563214925\n",
      "0.0010299724814559444\n",
      "\n",
      "{'alpha': 0.0005737955679973661, 'beta_1': 0.3082444277641326, 'beta_2': 0.354615116597794, 'overlap_learning_rate': 159}\n",
      "87.41198897361755\n",
      "4.9764988260219525\n",
      "0.9544133477630203\n",
      "\n",
      "(0.5, 1, 1)\n",
      "\n",
      "{'alpha': 0.0008971745757870447, 'beta_1': 0.25240894666923186, 'beta_2': 0.20207185690118115, 'overlap_learning_rate': 158}\n",
      "53.82501816749573\n",
      "4.847839174657565\n",
      "0.9329709201112952\n",
      "\n",
      "(0.5, 1, 3)\n",
      "\n",
      "{'alpha': 0.0005708566025286319, 'beta_1': 0.2689020616176213, 'beta_2': 0.2885496986828296, 'overlap_learning_rate': 62}\n",
      "129.84230518341064\n",
      "2.8381832420034243\n",
      "0.9004427519966931\n",
      "\n",
      "(0.05, 0, 1)\n",
      "\n",
      "{'alpha': 0.000968411367602116, 'beta_1': 0.44844527325592975, 'beta_2': 0.32351929075594915, 'overlap_learning_rate': 24}\n",
      "189.52217602729797\n",
      "2.495364216238386\n",
      "0.9014343895503543\n",
      "\n",
      "(0.05, 1, 2)\n",
      "\n",
      "{'alpha': 0.00013075158340894214, 'beta_1': 0.24696840101361991, 'beta_2': 0.34260284493155646, 'overlap_learning_rate': 191}\n",
      "237.2223081588745\n",
      "490.934477651659\n",
      "0.9325896804684317\n",
      "\n",
      "{'alpha': 0.00028608192136195997, 'beta_1': 0.3957637630233023, 'beta_2': 0.20331597931905113, 'overlap_learning_rate': 11}\n",
      "234.81080222129822\n",
      "0.02468182480146197\n",
      "0.0015289479254797036\n",
      "\n",
      "{'alpha': 0.00030975082581981484, 'beta_1': 0.4032466781409354, 'beta_2': 0.3774305361367746, 'overlap_learning_rate': 22}\n",
      "237.43607592582703\n",
      "4.643456783051988\n",
      "0.7784264197384982\n",
      "\n",
      "{'alpha': 0.0008325780437833927, 'beta_1': 0.26908258632861637, 'beta_2': 0.3527643143824022, 'overlap_learning_rate': 134}\n",
      "240.08647203445435\n",
      "26.193061303767536\n",
      "1.02250113061284\n",
      "\n",
      "{'alpha': 0.0001738346184807074, 'beta_1': 0.3423898466462704, 'beta_2': 0.2720635379798701, 'overlap_learning_rate': 20}\n",
      "238.38591504096985\n",
      "0.01505920088163748\n",
      "0.00016064878710277068\n",
      "\n",
      "{'alpha': 0.00037964618436158544, 'beta_1': 0.2349628855688779, 'beta_2': 0.2549363578854972, 'overlap_learning_rate': 186}\n",
      "241.21308994293213\n",
      "16.090372663456492\n",
      "0.9432437043221991\n",
      "\n",
      "{'alpha': 0.0001420374170822795, 'beta_1': 0.20707314191705306, 'beta_2': 0.38434770119083905, 'overlap_learning_rate': 165}\n",
      "238.38157272338867\n",
      "41.781168814084594\n",
      "0.023300661626356776\n",
      "\n",
      "{'alpha': 0.00010699149014614687, 'beta_1': 0.3076555812368944, 'beta_2': 0.24410469730414977, 'overlap_learning_rate': 164}\n",
      "257.24681401252747\n",
      "261.74288921273035\n",
      "0.981014891295767\n",
      "\n",
      "{'alpha': 0.0007916108954942674, 'beta_1': 0.2901972483267511, 'beta_2': 0.38650482295734095, 'overlap_learning_rate': 5}\n",
      "239.58528208732605\n",
      "0.08097385362736986\n",
      "0.0008986596667100944\n",
      "\n",
      "{'alpha': 0.0008189657268270681, 'beta_1': 0.3138216200318604, 'beta_2': 0.38484047041828384, 'overlap_learning_rate': 57}\n",
      "63.39405703544617\n",
      "4.922178321627598\n",
      "0.9033952793930218\n",
      "\n",
      "(0.45, 1, 3)\n",
      "\n",
      "{'alpha': 0.00033774458216956246, 'beta_1': 0.32682197935794394, 'beta_2': 0.3564346862596576, 'overlap_learning_rate': 183}\n",
      "151.72742295265198\n",
      "4.996854710852517\n",
      "0.964458871504321\n",
      "\n",
      "(0.15, 1, 1)\n",
      "\n",
      "{'alpha': 0.000412043644760596, 'beta_1': 0.2894746350051334, 'beta_2': 0.3122219891132923, 'overlap_learning_rate': 92}\n",
      "233.96719527244568\n",
      "4.993943055369186\n",
      "0.9320004264052385\n",
      "\n",
      "(0.15, 1, 2)\n",
      "\n",
      "{'alpha': 0.00027439738993450006, 'beta_1': 0.31240750661677275, 'beta_2': 0.3829354487070217, 'overlap_learning_rate': 67}\n",
      "245.62966394424438\n",
      "7.120349832780676\n",
      "0.9128143319569131\n",
      "\n",
      "{'alpha': 0.00013207047402467707, 'beta_1': 0.2024748576463842, 'beta_2': 0.3947086223536748, 'overlap_learning_rate': 182}\n",
      "249.4528250694275\n",
      "560.2646494253698\n",
      "0.9158994476252226\n",
      "\n",
      "{'alpha': 0.0006116882093242616, 'beta_1': 0.22946195108963915, 'beta_2': 0.3429910743687208, 'overlap_learning_rate': 166}\n",
      "103.70031785964966\n",
      "4.858490007036721\n",
      "0.9427108746900561\n",
      "\n",
      "(0.15, 1, 3)\n",
      "\n",
      "{'alpha': 0.0004523701253465461, 'beta_1': 0.3231633596715151, 'beta_2': 0.2578493039400969, 'overlap_learning_rate': 84}\n",
      "203.4058952331543\n",
      "4.966599566420996\n",
      "0.9185625209116994\n",
      "\n"
     ]
    }
   ],
   "source": [
    "for k, c in cases_triv_proj_rep.items():\n",
    "\n",
    "    a, b, c = k\n",
    "    a = int(100*a)\n",
    "    file_name = f'{a}_{b}_{c}'\n",
    "    \n",
    "    full_file_name = f'solutions/triv_hyperparameter_search/{file_name}.pkl'\n",
    "    file_exists = os.path.isfile(full_file_name)\n",
    "    \n",
    "    if (k[2] != 0) and (not file_exists) and (not triv_case_previously_done(k)):\n",
    "        print(k)\n",
    "        print()\n",
    "        l = 0\n",
    "\n",
    "        results_dict = dict()\n",
    "        new_seed_needed = True\n",
    "        good_sol_found = False\n",
    "\n",
    "        while new_seed_needed:\n",
    "            start = time.time()\n",
    "            hyperparams ={k: v.rvs() for k, v in hyperparameter_dists_dict.items()}\n",
    "            print(hyperparams)\n",
    "    \n",
    "            (\n",
    "                left_mpo_tensors,\n",
    "                right_mpo_tensors,\n",
    "                left_b_tensors,\n",
    "                right_b_tensors,\n",
    "                left_total_dimension,\n",
    "                right_total_dimension,\n",
    "                unitarity_learning_rate,\n",
    "                overlap_learning_rate,\n",
    "                symmetry_transfer_matrix,\n",
    "                left_adam_optimizers,\n",
    "                right_adam_optimizers\n",
    "            ) = initialize_optimization(\n",
    "                num_sites,\n",
    "                bond_dimension,\n",
    "                case,\n",
    "                1, #Unitarity learning rate\n",
    "                hyperparams['overlap_learning_rate'],\n",
    "                (hyperparams['alpha'], hyperparams['beta_1'], hyperparams['beta_2'])\n",
    "            )\n",
    "\n",
    "            current_unitarity_scores = list()\n",
    "            current_overlap_scores = list()\n",
    "\n",
    "            j = 0\n",
    "            need_more_iterations = True\n",
    "            while need_more_iterations:\n",
    "                unitarity, overlap = two_sided_mpo_gradient_descent_sweep(\n",
    "                    left_mpo_tensors,\n",
    "                    right_mpo_tensors,\n",
    "                    left_b_tensors,\n",
    "                    right_b_tensors,\n",
    "                    left_total_dimension,\n",
    "                    right_total_dimension,\n",
    "                    unitarity_learning_rate,\n",
    "                    overlap_learning_rate,\n",
    "                    symmetry_transfer_matrix,\n",
    "                    left_adam_optimizers,\n",
    "                    right_adam_optimizers\n",
    "                )\n",
    "            \n",
    "                current_unitarity_scores.append(unitarity)\n",
    "                current_overlap_scores.append(overlap)\n",
    "    \n",
    "                j += 1\n",
    "                good_sol_found = get_good_sol_found(unitarity, overlap)\n",
    "                diverging_sol = get_diverging_sol(unitarity, overlap)\n",
    "                need_more_iterations = (\n",
    "                    (not good_sol_found)\n",
    "                    and (not diverging_sol)\n",
    "                    and (j<num_iterations)\n",
    "                )\n",
    "\n",
    "            end = time.time()\n",
    "        \n",
    "            current_results = {\n",
    "                'solutions': (left_mpo_tensors, right_mpo_tensors),\n",
    "                'unitarity_scores': current_unitarity_scores,\n",
    "                'overlap_scores': current_overlap_scores,\n",
    "                'time': (end-start),\n",
    "                'good_sol': good_sol_found\n",
    "            }\n",
    "\n",
    "            \n",
    "            results_dict[HyperParams(**hyperparams)] = current_results\n",
    "            print(end - start)\n",
    "            print(np.real(unitarity))\n",
    "            print(overlap)\n",
    "            print()\n",
    "\n",
    "            l += 1\n",
    "            new_seed_needed = (\n",
    "                (not good_sol_found)\n",
    "                and (l<num_seeds)\n",
    "            )\n",
    "        \n",
    "        with open(full_file_name, 'wb') as file:\n",
    "            pickle.dump(results_dict, file)"
   ]
  },
  {
   "cell_type": "markdown",
   "id": "5ebff787-68e9-46fe-a360-ed2f87aa882a",
   "metadata": {},
   "source": [
    "# Extra case\n",
    "There is still one case that a solution hasn't been found for! Try again."
   ]
  },
  {
   "cell_type": "code",
   "execution_count": 91,
   "id": "a61aca58-c79f-46f2-a00b-d2544d68c117",
   "metadata": {},
   "outputs": [],
   "source": [
    "num_seeds = 20\n",
    "num_iterations = 3000"
   ]
  },
  {
   "cell_type": "code",
   "execution_count": 88,
   "id": "8247e14d-1a01-4ccf-a99b-36b8dfa57112",
   "metadata": {},
   "outputs": [],
   "source": [
    "bond_dimension=6"
   ]
  },
  {
   "cell_type": "code",
   "execution_count": 89,
   "id": "b56c8c5c-73e5-4a50-b894-9f95bdb6019f",
   "metadata": {},
   "outputs": [],
   "source": [
    "hyperparameter_dists_dict = {\n",
    "    'alpha': scipy.stats.loguniform(1e-4, 1e-3),\n",
    "    'beta_1': scipy.stats.uniform(0.2, 0.25),\n",
    "    'beta_2': scipy.stats.uniform(0.2, 0.2),\n",
    "    'overlap_learning_rate': scipy.stats.randint(1, 200)\n",
    "}"
   ]
  },
  {
   "cell_type": "code",
   "execution_count": 90,
   "id": "3cf38322-2c26-4187-b49b-4fee110e4323",
   "metadata": {},
   "outputs": [],
   "source": [
    "physical_dims = [2,]*num_sites\n",
    "virtual_dims = (\n",
    "    [(None, bond_dimension),] +\n",
    "    [(bond_dimension, bond_dimension)]*(num_sites - 2) +\n",
    "    [(bond_dimension, None),]\n",
    ")"
   ]
  },
  {
   "cell_type": "code",
   "execution_count": 93,
   "id": "c16422f1-6bd3-47fa-aec9-e7740a25b83b",
   "metadata": {
    "scrolled": true
   },
   "outputs": [
    {
     "name": "stdout",
     "output_type": "stream",
     "text": [
      "(0.45, 1, 1)\n",
      "\n",
      "{'alpha': 0.00011596688923777397, 'beta_1': 0.29072348202287357, 'beta_2': 0.3190538338545545, 'overlap_learning_rate': 187}\n",
      "239.3299388885498\n",
      "185.27359676553982\n",
      "0.9870926795168283\n",
      "\n",
      "{'alpha': 0.0001285183466838015, 'beta_1': 0.29639492821229857, 'beta_2': 0.24705963648098617, 'overlap_learning_rate': 170}\n",
      "248.6971468925476\n",
      "202.90546541643965\n",
      "0.9580293953479773\n",
      "\n",
      "{'alpha': 0.0002447642932086061, 'beta_1': 0.33290769854010005, 'beta_2': 0.362423564909913, 'overlap_learning_rate': 185}\n",
      "268.02038288116455\n",
      "4.9662657745833485\n",
      "0.967189209791816\n",
      "\n"
     ]
    }
   ],
   "source": [
    "k = (0.45, 1, 1)\n",
    "c = cases_non_triv_proj_rep[k]\n",
    "\n",
    "a, b, c = k\n",
    "a = int(100*a)\n",
    "file_name = f'{a}_{b}_{c}'\n",
    "\n",
    "full_file_name = f'solutions/non_triv_hyperparameter_search/{file_name}.pkl'\n",
    "file_exists = os.path.isfile(full_file_name)\n",
    "\n",
    "print(k)\n",
    "print()\n",
    "l = 0\n",
    "\n",
    "results_dict = dict()\n",
    "new_seed_needed = True\n",
    "good_sol_found = False\n",
    "\n",
    "while new_seed_needed:\n",
    "    start = time.time()\n",
    "    hyperparams ={k: v.rvs() for k, v in hyperparameter_dists_dict.items()}\n",
    "    print(hyperparams)\n",
    "\n",
    "    (\n",
    "        left_mpo_tensors,\n",
    "        right_mpo_tensors,\n",
    "        left_b_tensors,\n",
    "        right_b_tensors,\n",
    "        left_total_dimension,\n",
    "        right_total_dimension,\n",
    "        unitarity_learning_rate,\n",
    "        overlap_learning_rate,\n",
    "        symmetry_transfer_matrix,\n",
    "        left_adam_optimizers,\n",
    "        right_adam_optimizers\n",
    "    ) = initialize_optimization(\n",
    "        num_sites,\n",
    "        bond_dimension,\n",
    "        case,\n",
    "        1, #Unitarity learning rate\n",
    "        hyperparams['overlap_learning_rate'],\n",
    "        (hyperparams['alpha'], hyperparams['beta_1'], hyperparams['beta_2'])\n",
    "    )\n",
    "\n",
    "    current_unitarity_scores = list()\n",
    "    current_overlap_scores = list()\n",
    "\n",
    "    j = 0\n",
    "    need_more_iterations = True\n",
    "    while need_more_iterations:\n",
    "        unitarity, overlap = two_sided_mpo_gradient_descent_sweep(\n",
    "            left_mpo_tensors,\n",
    "            right_mpo_tensors,\n",
    "            left_b_tensors,\n",
    "            right_b_tensors,\n",
    "            left_total_dimension,\n",
    "            right_total_dimension,\n",
    "            unitarity_learning_rate,\n",
    "            overlap_learning_rate,\n",
    "            symmetry_transfer_matrix,\n",
    "            left_adam_optimizers,\n",
    "            right_adam_optimizers\n",
    "        )\n",
    "    \n",
    "        current_unitarity_scores.append(unitarity)\n",
    "        current_overlap_scores.append(overlap)\n",
    "\n",
    "        j += 1\n",
    "        good_sol_found = get_good_sol_found(unitarity, overlap)\n",
    "        diverging_sol = get_diverging_sol(unitarity, overlap)\n",
    "        need_more_iterations = (\n",
    "            (not good_sol_found)\n",
    "            and (not diverging_sol)\n",
    "            and (j<num_iterations)\n",
    "        )\n",
    "\n",
    "    end = time.time()\n",
    "\n",
    "    current_results = {\n",
    "        'solutions': (left_mpo_tensors, right_mpo_tensors),\n",
    "        'unitarity_scores': current_unitarity_scores,\n",
    "        'overlap_scores': current_overlap_scores,\n",
    "        'time': (end-start),\n",
    "        'good_sol': good_sol_found\n",
    "    }\n",
    "\n",
    "    \n",
    "    results_dict[HyperParams(**hyperparams)] = current_results\n",
    "    print(end - start)\n",
    "    print(np.real(unitarity))\n",
    "    print(overlap)\n",
    "    print()\n",
    "\n",
    "    l += 1\n",
    "    new_seed_needed = (\n",
    "        (not good_sol_found)\n",
    "        and (l<num_seeds)\n",
    "    )\n",
    "\n",
    "with open(full_file_name, 'wb') as file:\n",
    "    pickle.dump(results_dict, file)"
   ]
  },
  {
   "cell_type": "markdown",
   "id": "1a3745d1-e3db-4c23-a5c6-14ccca89ca34",
   "metadata": {},
   "source": [
    "# Conclusion\n",
    "Should have all mpos solved for now!"
   ]
  }
 ],
 "metadata": {
  "kernelspec": {
   "display_name": "num_spt_venv_p11",
   "language": "python",
   "name": "num_spt_venv_p11"
  },
  "language_info": {
   "codemirror_mode": {
    "name": "ipython",
    "version": 3
   },
   "file_extension": ".py",
   "mimetype": "text/x-python",
   "name": "python",
   "nbconvert_exporter": "python",
   "pygments_lexer": "ipython3",
   "version": "3.11.9"
  }
 },
 "nbformat": 4,
 "nbformat_minor": 5
}
