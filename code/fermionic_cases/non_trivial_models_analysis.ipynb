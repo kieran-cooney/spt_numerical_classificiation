{
 "cells": [
  {
   "cell_type": "markdown",
   "id": "5f2205a4-2c74-4cf5-9ad1-9d65bd13bed2",
   "metadata": {},
   "source": [
    "# Non-trivial models analysis\n",
    "\n",
    "Created 15/04/2025\n",
    "\n",
    "Objectives:\n",
    "* Investigate [these](./save_fermionic_models/save_fermionic_trivial_to_non_trivial_proj_rep_models.ipynb) [models](./save_fermionic_models/save_trivial_to_fermionic_non_trivial_models.ipynb).\n",
    "* Check\n",
    "    * Energies\n",
    "    * Correlation lengths\n",
    "    * Fermion occupation\n",
    "    * Fermionic and proj rep cohomologies."
   ]
  },
  {
   "cell_type": "markdown",
   "id": "9ad0db4d-805c-4403-9d48-c71d523d572f",
   "metadata": {},
   "source": [
    "# Package imports"
   ]
  },
  {
   "cell_type": "code",
   "execution_count": 1,
   "id": "ecb41ea3-927f-4efa-aebe-ce15784aa037",
   "metadata": {},
   "outputs": [],
   "source": [
    "import sys\n",
    "sys.path.append('../')"
   ]
  },
  {
   "cell_type": "code",
   "execution_count": 2,
   "id": "4a525ec6-f0c8-47ee-8b0b-345bf0ef8bd3",
   "metadata": {},
   "outputs": [],
   "source": [
    "import h5py\n",
    "from tenpy.tools import hdf5_io\n",
    "import tenpy\n",
    "import tenpy.linalg.np_conserved as npc\n",
    "\n",
    "import os"
   ]
  },
  {
   "cell_type": "code",
   "execution_count": 3,
   "id": "214f688a-c657-4810-b4d1-b1247deff62c",
   "metadata": {},
   "outputs": [],
   "source": [
    "import numpy as np\n",
    "import matplotlib.pyplot as plt\n",
    "import pandas as pd"
   ]
  },
  {
   "cell_type": "code",
   "execution_count": 4,
   "id": "b8dec68d-a5b3-4383-ab44-567a9a5981b3",
   "metadata": {},
   "outputs": [],
   "source": [
    "from SPTOptimization.SymmetryActionWithBoundaryUnitaries import SymmetryActionWithBoundaryUnitaries\n",
    "\n",
    "from SPTOptimization.utils import (\n",
    "    to_npc_array,\n",
    "    get_right_identity_environment,\n",
    "    get_right_identity_environment_from_tp_tensor,\n",
    "    multiply_stacked_unitaries_against_mps,\n",
    "    inner_product_b_tensors\n",
    ")\n",
    "\n",
    "from SPTOptimization.Optimizers.MPSBrickSolver import(\n",
    "    MPSBrickSolver\n",
    ")"
   ]
  },
  {
   "cell_type": "markdown",
   "id": "c69a8a47-e298-4c4c-97f7-a6157da4e15f",
   "metadata": {},
   "source": [
    "# Load data"
   ]
  },
  {
   "cell_type": "code",
   "execution_count": 5,
   "id": "210d7dcc-b7ae-4f06-8429-84177bec47d3",
   "metadata": {},
   "outputs": [],
   "source": [
    "DATA_DIR_1 = r\"../data/interpolated_trivial_to_nontrivial_fermionic_trivial_proj_rep_200_site_dmrg/\"\n",
    "DATA_DIR_2 = r\"../data/interpolated_nontrivial_fermionic_proj_rep_to_nontrivial_proj_rep_200_site_dmrg/\""
   ]
  },
  {
   "cell_type": "code",
   "execution_count": 6,
   "id": "ae809e74-d444-4db4-88ff-7538f6110d08",
   "metadata": {},
   "outputs": [],
   "source": [
    "def parse_file_name(file_name):\n",
    "    interpolation = int(file_name.split('_')[0])/100\n",
    "\n",
    "    return interpolation"
   ]
  },
  {
   "cell_type": "code",
   "execution_count": 20,
   "id": "e09f07cf-8441-4c7e-90b8-dbc8c61311f2",
   "metadata": {},
   "outputs": [],
   "source": [
    "loaded_data_triv_proj_rep = dict()\n",
    "energies_triv_proj_rep = dict()\n",
    "\n",
    "for local_file_name in list(os.walk(DATA_DIR_1))[0][2]:\n",
    "    f_name = r\"{}/{}\".format(DATA_DIR_1, local_file_name, ignore_unknown=False)\n",
    "    with h5py.File(f_name, 'r') as f:\n",
    "        data = hdf5_io.load_from_hdf5(f)\n",
    "\n",
    "        data_info = parse_file_name(local_file_name)\n",
    "        loaded_data_triv_proj_rep[data_info]=data['wavefunction']\n",
    "        energies_triv_proj_rep[data_info]=data['energy']"
   ]
  },
  {
   "cell_type": "code",
   "execution_count": 25,
   "id": "38dd3540-a84f-4ca7-b7a8-68ed1b0be4e2",
   "metadata": {},
   "outputs": [],
   "source": [
    "loaded_data_non_triv_proj_rep = dict()\n",
    "energies_non_triv_proj_rep = dict()\n",
    "\n",
    "for local_file_name in list(os.walk(DATA_DIR_2))[0][2]:\n",
    "    f_name = r\"{}/{}\".format(DATA_DIR_2, local_file_name, ignore_unknown=False)\n",
    "\n",
    "    with h5py.File(f_name, 'r') as f:\n",
    "        data = hdf5_io.load_from_hdf5(f)\n",
    "\n",
    "        data_info = parse_file_name(local_file_name)\n",
    "        loaded_data_non_triv_proj_rep[data_info]=data['wavefunction']\n",
    "        energies_non_triv_proj_rep[data_info]=data['energy']"
   ]
  },
  {
   "cell_type": "markdown",
   "id": "b4c1e616-c034-404b-b59e-196d1eaac475",
   "metadata": {},
   "source": [
    "# Definitons"
   ]
  },
  {
   "cell_type": "code",
   "execution_count": 26,
   "id": "63506364-f535-4c0f-8c5f-8839c69f7b9d",
   "metadata": {},
   "outputs": [],
   "source": [
    "MAX_VIRTUAL_BOND_DIM = 8\n",
    "MAX_INTERMEDIATE_VIRTUAL_BOND_DIM = 2*MAX_VIRTUAL_BOND_DIM\n",
    "# MPO bond dim?\n",
    "MAX_MPO_BOND_DIM = 50\n",
    "\n",
    "SVD_CUTOFF = 1e-3"
   ]
  },
  {
   "cell_type": "markdown",
   "id": "1efd18d4-328d-43dd-996d-393f18eb02b2",
   "metadata": {},
   "source": [
    "Define bosonic symmetries. Label by the group element added."
   ]
  },
  {
   "cell_type": "code",
   "execution_count": 27,
   "id": "513d7288-c641-4071-a4a3-652787d1f98c",
   "metadata": {},
   "outputs": [],
   "source": [
    "np_00 = np.array([\n",
    "    [1, 0, 0, 0],\n",
    "    [0, 1, 0, 0],\n",
    "    [0, 0, 1, 0],\n",
    "    [0, 0, 0, 1]\n",
    "])\n",
    "\n",
    "np_01 = np.array([\n",
    "    [0, 1, 0, 0],\n",
    "    [1, 0, 0, 0],\n",
    "    [0, 0, 0, 1],\n",
    "    [0, 0, 1, 0]\n",
    "])\n",
    "\n",
    "np_10 = np.array([\n",
    "    [0, 0, 1, 0],\n",
    "    [0, 0, 0, 1],\n",
    "    [1, 0, 0, 0],\n",
    "    [0, 1, 0, 0]\n",
    "])\n",
    "\n",
    "np_11 = np.array([\n",
    "    [0, 0, 0, 1],\n",
    "    [0, 0, 1, 0],\n",
    "    [0, 1, 0, 0],\n",
    "    [1, 0, 0, 0]\n",
    "])"
   ]
  },
  {
   "cell_type": "code",
   "execution_count": 28,
   "id": "c83907c6-e86f-48af-a2a1-11b250f47e84",
   "metadata": {},
   "outputs": [],
   "source": [
    "bosonic_np_symmetries = [\n",
    "    np_00,\n",
    "    np_01,\n",
    "    np_10,\n",
    "    np_11\n",
    "]"
   ]
  },
  {
   "cell_type": "code",
   "execution_count": 29,
   "id": "fd7c7309-10ee-4834-b153-9a4121462fca",
   "metadata": {},
   "outputs": [],
   "source": [
    "bosonic_npc_symmetries = [\n",
    "    to_npc_array(X) for X in bosonic_np_symmetries\n",
    "]"
   ]
  },
  {
   "cell_type": "code",
   "execution_count": 30,
   "id": "2a78a62e-37eb-4baf-98ba-d6a94d599bec",
   "metadata": {},
   "outputs": [],
   "source": [
    "npc_00 = to_npc_array(np_00)\n",
    "npc_01 = to_npc_array(np_01)\n",
    "npc_10 = to_npc_array(np_10)\n",
    "npc_11 = to_npc_array(np_11)"
   ]
  },
  {
   "cell_type": "markdown",
   "id": "1ecddc96-798a-416b-b0b4-d9ea9e25cfca",
   "metadata": {},
   "source": [
    "Define \"fermionic symmetries\". Just identity and JW string."
   ]
  },
  {
   "cell_type": "code",
   "execution_count": 31,
   "id": "a1c64bf0-4b2e-4492-b242-3dae6eb527c3",
   "metadata": {},
   "outputs": [],
   "source": [
    "np_I = np.array([\n",
    "    [1, 0],\n",
    "    [0, 1]\n",
    "])\n",
    "\n",
    "np_JW = np.array([\n",
    "    [1, 0],\n",
    "    [0, -1]\n",
    "])"
   ]
  },
  {
   "cell_type": "code",
   "execution_count": 32,
   "id": "e595ca13-740a-41a3-a658-8831c8f54323",
   "metadata": {},
   "outputs": [],
   "source": [
    "fermionic_np_symmetries = [np_I, np_JW]"
   ]
  },
  {
   "cell_type": "code",
   "execution_count": 33,
   "id": "6e5b6ad0-2496-4072-afe9-c41fc62da40e",
   "metadata": {},
   "outputs": [],
   "source": [
    "fermionic_npc_symmetries = [\n",
    "    to_npc_array(X) for X in fermionic_np_symmetries\n",
    "]"
   ]
  },
  {
   "cell_type": "code",
   "execution_count": 34,
   "id": "a2b43b48-e438-4702-8287-f5d27fc47f7b",
   "metadata": {},
   "outputs": [],
   "source": [
    "npc_JW = fermionic_npc_symmetries[1]"
   ]
  },
  {
   "cell_type": "code",
   "execution_count": 35,
   "id": "b9e2f954-c591-4479-ba37-32862c25c660",
   "metadata": {},
   "outputs": [],
   "source": [
    "symmetry_actions = [\n",
    "    [[b, f] for b in bosonic_np_symmetries]\n",
    "    for f in fermionic_np_symmetries\n",
    "]"
   ]
  },
  {
   "cell_type": "code",
   "execution_count": 36,
   "id": "8c945b86-cec1-4b08-930f-1922b7e1bea6",
   "metadata": {},
   "outputs": [],
   "source": [
    "shifted_symmetry_actions = [\n",
    "    [[f, b] for b in bosonic_np_symmetries]\n",
    "    for f in fermionic_np_symmetries\n",
    "]"
   ]
  },
  {
   "cell_type": "code",
   "execution_count": 38,
   "id": "ac19b501-4293-4d08-8bb0-35515cd6a093",
   "metadata": {},
   "outputs": [],
   "source": [
    "cases_triv_proj_rep = dict()\n",
    "\n",
    "for k, psi in loaded_data_triv_proj_rep.items():\n",
    "\n",
    "    for i, l in enumerate(symmetry_actions):\n",
    "\n",
    "        for j, s in enumerate(l):\n",
    "            case = SymmetryActionWithBoundaryUnitaries(\n",
    "                psi,\n",
    "                s*40,\n",
    "                left_symmetry_index=60,\n",
    "                left_boundary_unitaries=[np_I, np_00]*1,\n",
    "                right_boundary_unitaries=[np_00, np_I]*1\n",
    "            )\n",
    "\n",
    "            cases_triv_proj_rep[(k, i, j)] = case"
   ]
  },
  {
   "cell_type": "code",
   "execution_count": 40,
   "id": "8e7ff810-32b3-4163-9b1b-ca96a282a7f5",
   "metadata": {},
   "outputs": [],
   "source": [
    "for c in cases_triv_proj_rep.values():\n",
    "    c.compute_svd_approximate_expectation()"
   ]
  },
  {
   "cell_type": "code",
   "execution_count": 41,
   "id": "d5a75573-aebb-4b9c-904f-342f9f57c345",
   "metadata": {},
   "outputs": [],
   "source": [
    "cases_non_triv_proj_rep = dict()\n",
    "\n",
    "for k, psi in loaded_data_non_triv_proj_rep.items():\n",
    "\n",
    "    for i, l in enumerate(symmetry_actions):\n",
    "\n",
    "        for j, s in enumerate(l):\n",
    "            case = SymmetryActionWithBoundaryUnitaries(\n",
    "                psi,\n",
    "                s*40,\n",
    "                left_symmetry_index=60,\n",
    "                left_boundary_unitaries=[np_I, np_00]*1,\n",
    "                right_boundary_unitaries=[np_00, np_I]*1\n",
    "            )\n",
    "\n",
    "            cases_non_triv_proj_rep[(k, i, j)] = case"
   ]
  },
  {
   "cell_type": "code",
   "execution_count": 42,
   "id": "8d8df7a6-3e0c-4e4f-bc02-97d989f2c6e1",
   "metadata": {},
   "outputs": [],
   "source": [
    "for c in cases_non_triv_proj_rep.values():\n",
    "    c.compute_svd_approximate_expectation()"
   ]
  },
  {
   "cell_type": "code",
   "execution_count": 43,
   "id": "6bac53fa-b629-46fc-a145-f932a0af6f18",
   "metadata": {},
   "outputs": [],
   "source": [
    "left_trivial_leg_charge = tenpy.linalg.charges.LegCharge(\n",
    "    tenpy.linalg.charges.ChargeInfo([], []),\n",
    "    [0,1],\n",
    "    [[]],\n",
    "    qconj=1\n",
    ")"
   ]
  },
  {
   "cell_type": "code",
   "execution_count": 44,
   "id": "44f34cb7-0888-474b-9483-f4956951fc31",
   "metadata": {},
   "outputs": [],
   "source": [
    "right_trivial_leg_charge = tenpy.linalg.charges.LegCharge(\n",
    "    tenpy.linalg.charges.ChargeInfo([], []),\n",
    "    [0,1],\n",
    "    [[]],\n",
    "    qconj=-1\n",
    ")"
   ]
  },
  {
   "cell_type": "markdown",
   "id": "989b868a-1208-49e8-bcd6-df0bbd3cf24e",
   "metadata": {},
   "source": [
    "# Analysis"
   ]
  },
  {
   "cell_type": "markdown",
   "id": "fd2994a1-6bf6-4003-b2ae-cbf5432936a3",
   "metadata": {},
   "source": [
    "## Energies"
   ]
  },
  {
   "cell_type": "code",
   "execution_count": 45,
   "id": "0cf19354-922e-4166-9420-f6e9caa9e68d",
   "metadata": {},
   "outputs": [],
   "source": [
    "interpolation_values = sorted(list(energies_triv_proj_rep.keys()))"
   ]
  },
  {
   "cell_type": "code",
   "execution_count": 46,
   "id": "597261da-9b35-465e-ac89-1a3e5b671152",
   "metadata": {},
   "outputs": [],
   "source": [
    "energies_triv_proj_rep_list = [energies_triv_proj_rep[k] for k in interpolation_values]"
   ]
  },
  {
   "cell_type": "code",
   "execution_count": 47,
   "id": "69212fbf-442a-4cde-8065-452b807b409d",
   "metadata": {},
   "outputs": [
    {
     "data": {
      "text/plain": [
       "[<matplotlib.lines.Line2D at 0x79bf3a736ad0>]"
      ]
     },
     "execution_count": 47,
     "metadata": {},
     "output_type": "execute_result"
    },
    {
     "data": {
      "image/png": "[encoded data removed]",
      "text/plain": [
       "<Figure size 640x480 with 1 Axes>"
      ]
     },
     "metadata": {},
     "output_type": "display_data"
    }
   ],
   "source": [
    "plt.plot(interpolation_values, energies_triv_proj_rep_list)"
   ]
  },
  {
   "cell_type": "code",
   "execution_count": 48,
   "id": "9cb7752d-b24e-4b48-a18a-c2905a13a615",
   "metadata": {},
   "outputs": [],
   "source": [
    "energies_non_triv_proj_rep_list = [energies_non_triv_proj_rep[k] for k in interpolation_values]"
   ]
  },
  {
   "cell_type": "code",
   "execution_count": 53,
   "id": "71661b3f-92de-4647-ad9d-5efc5123a2c0",
   "metadata": {},
   "outputs": [
    {
     "data": {
      "text/plain": [
       "[<matplotlib.lines.Line2D at 0x79bf9036c050>]"
      ]
     },
     "execution_count": 53,
     "metadata": {},
     "output_type": "execute_result"
    },
    {
     "data": {
      "image/png": "[encoded data removed]",
      "text/plain": [
       "<Figure size 640x480 with 1 Axes>"
      ]
     },
     "metadata": {},
     "output_type": "display_data"
    }
   ],
   "source": [
    "plt.plot(interpolation_values, energies_non_triv_proj_rep_list)"
   ]
  },
  {
   "cell_type": "code",
   "execution_count": 52,
   "id": "69dfa5fe-5aba-40e7-b29c-cbc7631d043a",
   "metadata": {},
   "outputs": [
    {
     "data": {
      "text/plain": [
       "[<matplotlib.lines.Line2D at 0x79bf903ad290>]"
      ]
     },
     "execution_count": 52,
     "metadata": {},
     "output_type": "execute_result"
    },
    {
     "data": {
      "image/png": "[encoded data removed]",
      "text/plain": [
       "<Figure size 640x480 with 1 Axes>"
      ]
     },
     "metadata": {},
     "output_type": "display_data"
    }
   ],
   "source": [
    "plt.plot(interpolation_values, energies_triv_proj_rep_list)\n",
    "plt.plot(interpolation_values, energies_non_triv_proj_rep_list)"
   ]
  },
  {
   "cell_type": "markdown",
   "id": "1227712f-8184-4de3-8775-64d9d7e6cc63",
   "metadata": {},
   "source": [
    "## Fermion occupation"
   ]
  },
  {
   "cell_type": "code",
   "execution_count": 54,
   "id": "d46d2b6d-e6f5-4df8-9234-33435cf3a6a8",
   "metadata": {},
   "outputs": [],
   "source": [
    "fermion_occupation_triv_proj_rep = list()\n",
    "\n",
    "for t in interpolation_values:\n",
    "    psi = loaded_data_triv_proj_rep[t]\n",
    "    out = psi.expectation_value('N', sites=[99,])[0]\n",
    "    fermion_occupation_triv_proj_rep.append(out)"
   ]
  },
  {
   "cell_type": "code",
   "execution_count": 55,
   "id": "a036d37d-36d9-49d4-a664-d5fce0c559ff",
   "metadata": {},
   "outputs": [
    {
     "data": {
      "text/plain": [
       "[<matplotlib.lines.Line2D at 0x79bf90344050>]"
      ]
     },
     "execution_count": 55,
     "metadata": {},
     "output_type": "execute_result"
    },
    {
     "data": {
      "image/png": "[encoded data removed]",
      "text/plain": [
       "<Figure size 640x480 with 1 Axes>"
      ]
     },
     "metadata": {},
     "output_type": "display_data"
    }
   ],
   "source": [
    "plt.plot(interpolation_values, fermion_occupation_triv_proj_rep)"
   ]
  },
  {
   "cell_type": "code",
   "execution_count": 56,
   "id": "a1fd73e5-6304-4e33-8a7d-e77f94583a8e",
   "metadata": {},
   "outputs": [],
   "source": [
    "fermion_occupation_non_triv_proj_rep = list()\n",
    "\n",
    "for t in interpolation_values:\n",
    "    psi = loaded_data_non_triv_proj_rep[t]\n",
    "    out = psi.expectation_value('N', sites=[99,])[0]\n",
    "    fermion_occupation_non_triv_proj_rep.append(out)"
   ]
  },
  {
   "cell_type": "code",
   "execution_count": 59,
   "id": "e78c64a2-fe61-4e16-abf1-1c2de627470f",
   "metadata": {},
   "outputs": [
    {
     "data": {
      "text/plain": [
       "[<matplotlib.lines.Line2D at 0x79bf3a010c50>]"
      ]
     },
     "execution_count": 59,
     "metadata": {},
     "output_type": "execute_result"
    },
    {
     "data": {
      "image/png": "[encoded data removed]",
      "text/plain": [
       "<Figure size 640x480 with 1 Axes>"
      ]
     },
     "metadata": {},
     "output_type": "display_data"
    }
   ],
   "source": [
    "plt.plot(interpolation_values, fermion_occupation_non_triv_proj_rep)"
   ]
  },
  {
   "cell_type": "markdown",
   "id": "6abed7b9-6bd7-4274-a65f-eb6e3845e23c",
   "metadata": {},
   "source": [
    "# Sweep"
   ]
  },
  {
   "cell_type": "code",
   "execution_count": 32,
   "id": "a8c16338-cc25-4baa-8aee-23a4c23f7e5a",
   "metadata": {},
   "outputs": [],
   "source": [
    "block_width = 5\n",
    "num_one_sided_iterations = 1\n",
    "num_two_sided_iterations = 3\n",
    "num_layers = 1\n",
    "num_sites = 5"
   ]
  },
  {
   "cell_type": "code",
   "execution_count": 33,
   "id": "7473af0e-2191-47d7-84a1-40c3e2a787cb",
   "metadata": {},
   "outputs": [],
   "source": [
    "optimizer_dict = dict()\n",
    "\n",
    "for k, v in cases.items():\n",
    "    opt = MPSBrickSolver(\n",
    "        v,\n",
    "        num_sites,\n",
    "        block_width,\n",
    "        num_layers,\n",
    "        num_one_sided_iterations,\n",
    "        num_two_sided_iterations,\n",
    "        max_virtual_bond_dim=MAX_VIRTUAL_BOND_DIM\n",
    "    )\n",
    "\n",
    "    opt.optimise()\n",
    "\n",
    "    optimizer_dict[k] = opt"
   ]
  },
  {
   "cell_type": "code",
   "execution_count": 34,
   "id": "496b68a0-4e55-417f-ae8c-e5b0bb313563",
   "metadata": {},
   "outputs": [],
   "source": [
    "final_exps = dict()\n",
    "\n",
    "for k, v in optimizer_dict.items():\n",
    "    final_exp = v.flatten_exps()[-1]\n",
    "    final_exps[k] = final_exp"
   ]
  },
  {
   "cell_type": "code",
   "execution_count": 35,
   "id": "5f5c3c4b-776c-43c8-8f44-2c5f108d2dab",
   "metadata": {},
   "outputs": [],
   "source": [
    "bad_cases = [\n",
    "    k\n",
    "    for k, v in final_exps.items()\n",
    "    if v < 0.99\n",
    "]"
   ]
  },
  {
   "cell_type": "code",
   "execution_count": 36,
   "id": "205aba32-d48d-4f4f-9236-e35fe4383c53",
   "metadata": {},
   "outputs": [
    {
     "data": {
      "text/plain": [
       "[]"
      ]
     },
     "execution_count": 36,
     "metadata": {},
     "output_type": "execute_result"
    }
   ],
   "source": [
    "bad_cases"
   ]
  },
  {
   "cell_type": "markdown",
   "id": "bcc644c2-d4df-4c09-93d1-06dff9b7216b",
   "metadata": {},
   "source": [
    "# Test proj rep"
   ]
  },
  {
   "cell_type": "markdown",
   "id": "9a489bd4-0cee-4b98-8600-9edd34eb3308",
   "metadata": {},
   "source": [
    "Give a wavefunction, calculate proj rep."
   ]
  },
  {
   "cell_type": "markdown",
   "id": "d9b7253b-e02a-46f7-9f02-3a6635898de3",
   "metadata": {},
   "source": [
    "## SPT functions"
   ]
  },
  {
   "cell_type": "code",
   "execution_count": 37,
   "id": "08ce0827-cbc3-4e55-8ac1-4eedc638e598",
   "metadata": {},
   "outputs": [],
   "source": [
    "def calculate_proj_rep_phase(state_g, left_schmidt_values_g, unitary_h,\n",
    "                             state_gh,\n",
    "                             left_environment,\n",
    "                             max_virtual_bond_dim=MAX_VIRTUAL_BOND_DIM):\n",
    "    prod_state, _ = multiply_stacked_unitaries_against_mps(\n",
    "        unitary_h,\n",
    "        state_g,\n",
    "        left_schmidt_values_g,\n",
    "        max_virtual_bond_dim\n",
    "    )\n",
    "\n",
    "    exp = inner_product_b_tensors(prod_state, state_gh, left_environment)\n",
    "\n",
    "    return exp/(np.abs(exp))"
   ]
  },
  {
   "cell_type": "code",
   "execution_count": 38,
   "id": "c70d9c69-1835-424f-8c10-cb95ae528bae",
   "metadata": {},
   "outputs": [],
   "source": [
    "def get_proj_rep_phases(mps_tensors, left_schmidt_values, unitaries,\n",
    "                        left_environment):\n",
    "    mps_dict = {\n",
    "        k: v for k, v in zip(symmetry_labels[1:], mps_tensors)\n",
    "    }\n",
    "\n",
    "    schmidt_vals_dict = {\n",
    "        k: v for k, v in zip(symmetry_labels[1:], left_schmidt_values)\n",
    "    }\n",
    "\n",
    "    unitaries_dict = {\n",
    "        k: v for k, v in zip(symmetry_labels[1:], unitaries)\n",
    "    }\n",
    "\n",
    "    out_phases = list()\n",
    "\n",
    "    for a, b, c in group_products:\n",
    "        phase = calculate_proj_rep_phase(\n",
    "            mps_dict[a],\n",
    "            schmidt_vals_dict[a],\n",
    "            unitaries_dict[b],\n",
    "            mps_dict[c],\n",
    "            left_environment,\n",
    "            max_virtual_bond_dim=MAX_VIRTUAL_BOND_DIM\n",
    "        )\n",
    "\n",
    "        out_phases.append(phase)\n",
    "\n",
    "    return out_phases"
   ]
  },
  {
   "cell_type": "markdown",
   "id": "86260bdd-abdb-4ae4-9352-6bac42373cd5",
   "metadata": {},
   "source": [
    "## Group data definitions"
   ]
  },
  {
   "cell_type": "code",
   "execution_count": 39,
   "id": "23e62c10-6c32-4ee4-9cde-ac7f05c69d7f",
   "metadata": {},
   "outputs": [],
   "source": [
    "from itertools import combinations"
   ]
  },
  {
   "cell_type": "code",
   "execution_count": 40,
   "id": "10721838-5776-4da8-9618-01dd30494f13",
   "metadata": {},
   "outputs": [],
   "source": [
    "symmetry_labels = [\n",
    "    'II',\n",
    "    'IX',\n",
    "    'XI',\n",
    "    'XX'\n",
    "]"
   ]
  },
  {
   "cell_type": "code",
   "execution_count": 41,
   "id": "d1cd215b-c62c-405e-9adc-9a97db7142e2",
   "metadata": {},
   "outputs": [],
   "source": [
    "symmetry_combination_labels = list(combinations(symmetry_labels, 2))"
   ]
  },
  {
   "cell_type": "code",
   "execution_count": 42,
   "id": "45a081ff-eb82-4ff5-9700-55f11824f366",
   "metadata": {},
   "outputs": [
    {
     "data": {
      "text/plain": [
       "[('II', 'IX'),\n",
       " ('II', 'XI'),\n",
       " ('II', 'XX'),\n",
       " ('IX', 'XI'),\n",
       " ('IX', 'XX'),\n",
       " ('XI', 'XX')]"
      ]
     },
     "execution_count": 42,
     "metadata": {},
     "output_type": "execute_result"
    }
   ],
   "source": [
    "symmetry_combination_labels"
   ]
  },
  {
   "cell_type": "code",
   "execution_count": 43,
   "id": "aab20cf0-ae51-4603-9192-5ba0741b6a6d",
   "metadata": {},
   "outputs": [],
   "source": [
    "e, a, b, c = symmetry_labels"
   ]
  },
  {
   "cell_type": "code",
   "execution_count": 44,
   "id": "955bfb99-9c73-4794-b14e-f62f7872abe5",
   "metadata": {},
   "outputs": [],
   "source": [
    "group_products = [\n",
    "    (a, b, c),\n",
    "    (b, a, c),\n",
    "    (a, c, b),\n",
    "    (c, a, b),\n",
    "    (c, b, a),\n",
    "    (b, c, a)\n",
    "]"
   ]
  },
  {
   "cell_type": "markdown",
   "id": "e23ca0a5-5848-4076-a514-a9c5824c46d9",
   "metadata": {},
   "source": [
    "## Test case 1"
   ]
  },
  {
   "cell_type": "code",
   "execution_count": 45,
   "id": "890fd7b0-1d77-4723-ad49-c57f1f2d5884",
   "metadata": {},
   "outputs": [],
   "source": [
    "proj_rep = True\n",
    "n1_pair = (1, 0)\n",
    "\n",
    "# May need to treat more consistently later.\n",
    "jw_string = False"
   ]
  },
  {
   "cell_type": "code",
   "execution_count": 46,
   "id": "e0811081-dc3f-4773-837d-1adec99ceed0",
   "metadata": {},
   "outputs": [],
   "source": [
    "sub_opts = [\n",
    "    optimizer_dict[(proj_rep, n1_pair, jw_string, i)]\n",
    "    for i in range(4)\n",
    "]"
   ]
  },
  {
   "cell_type": "markdown",
   "id": "1adff8e2-aa35-4dc8-8b6b-4d03a17e272c",
   "metadata": {},
   "source": [
    "### Right side"
   ]
  },
  {
   "cell_type": "code",
   "execution_count": 47,
   "id": "17016948-5a03-4c31-8f2d-7f557d9a1e8c",
   "metadata": {},
   "outputs": [],
   "source": [
    "test_opt = sub_opts[0]"
   ]
  },
  {
   "cell_type": "code",
   "execution_count": 48,
   "id": "5b850ba4-3e42-448d-aced-d3f14ad94eb2",
   "metadata": {},
   "outputs": [],
   "source": [
    "mps_tensors = [\n",
    "    opt.top_right_mps_tensors\n",
    "    for opt in sub_opts\n",
    "]"
   ]
  },
  {
   "cell_type": "code",
   "execution_count": 49,
   "id": "a11ded89-c97f-4e73-96ba-3933879a5fd4",
   "metadata": {},
   "outputs": [],
   "source": [
    "right_side_left_schmidt_values = [\n",
    "    opt.current_right_side_left_schmidt_values\n",
    "    for opt in sub_opts\n",
    "]"
   ]
  },
  {
   "cell_type": "code",
   "execution_count": 50,
   "id": "ea0a230e-420c-445e-8f15-aa229f67da96",
   "metadata": {},
   "outputs": [],
   "source": [
    "unitaries = [\n",
    "    opt.right_unitaries\n",
    "    for opt in sub_opts\n",
    "]"
   ]
  },
  {
   "cell_type": "code",
   "execution_count": 51,
   "id": "36819a61-22d1-4acf-9e89-506947905ff9",
   "metadata": {},
   "outputs": [],
   "source": [
    "null_opt = optimizer_dict[(proj_rep, n1_pair, 0, 0)]"
   ]
  },
  {
   "cell_type": "code",
   "execution_count": 52,
   "id": "e299a8fd-571d-4906-b3e2-aa3cfd5733a1",
   "metadata": {},
   "outputs": [],
   "source": [
    "left_environment = null_opt.right_side_left_symmetry_environment"
   ]
  },
  {
   "cell_type": "code",
   "execution_count": 53,
   "id": "408c7a5a-c8de-4834-af26-edfe870299ab",
   "metadata": {},
   "outputs": [],
   "source": [
    "proj_rep_phases = get_proj_rep_phases(\n",
    "    mps_tensors,\n",
    "    right_side_left_schmidt_values,\n",
    "    unitaries,\n",
    "    left_environment\n",
    ")"
   ]
  },
  {
   "cell_type": "code",
   "execution_count": 54,
   "id": "609ff137-c8dc-4c2a-b73c-ce042946bd23",
   "metadata": {},
   "outputs": [
    {
     "data": {
      "text/plain": [
       "[(-0.0043000789556949005+0.999990754617749j),\n",
       " (-0.09323234904908995+0.9956443788274952j),\n",
       " (-0.018756099265212108-0.9998240888978188j),\n",
       " (0.016460041777329598-0.9998645243355165j),\n",
       " (0.02414247646117309-0.9997085279371791j),\n",
       " (-0.011443915707803884+0.9999345162525759j)]"
      ]
     },
     "execution_count": 54,
     "metadata": {},
     "output_type": "execute_result"
    }
   ],
   "source": [
    "proj_rep_phases"
   ]
  },
  {
   "cell_type": "code",
   "execution_count": 58,
   "id": "765fae0f-632b-4713-b055-74f234434920",
   "metadata": {},
   "outputs": [
    {
     "data": {
      "text/plain": [
       "array([ 0.99603608-0.08895014j,  0.99937991-0.0352107j ,\n",
       "       -0.99991935-0.01270032j])"
      ]
     },
     "execution_count": 58,
     "metadata": {},
     "output_type": "execute_result"
    }
   ],
   "source": [
    "X = np.array(proj_rep_phases)\n",
    "\n",
    "X[::2]/X[1::2]"
   ]
  },
  {
   "cell_type": "markdown",
   "id": "9efcb680-18ad-4f45-88cd-3f0da115477a",
   "metadata": {},
   "source": [
    "## Test case 2"
   ]
  },
  {
   "cell_type": "code",
   "execution_count": 55,
   "id": "3ec8c3d9-678a-4449-9553-6c33f7093964",
   "metadata": {},
   "outputs": [],
   "source": [
    "proj_rep = True\n",
    "n1_pair = (0, 0)\n",
    "\n",
    "# May need to treat more consistently later.\n",
    "jw_string = False"
   ]
  },
  {
   "cell_type": "code",
   "execution_count": 56,
   "id": "0db250e7-e9e7-4990-bbcd-d0838c864f7d",
   "metadata": {},
   "outputs": [],
   "source": [
    "sub_opts = [\n",
    "    optimizer_dict[(proj_rep, n1_pair, jw_string, i)]\n",
    "    for i in range(4)\n",
    "]"
   ]
  },
  {
   "cell_type": "markdown",
   "id": "5ae98e9d-8a7f-4ad7-ae4f-0cc3fc318658",
   "metadata": {},
   "source": [
    "### Right side"
   ]
  },
  {
   "cell_type": "code",
   "execution_count": 57,
   "id": "3966919b-3849-4e4e-abae-e4ca074ae096",
   "metadata": {},
   "outputs": [],
   "source": [
    "test_opt = sub_opts[0]"
   ]
  },
  {
   "cell_type": "code",
   "execution_count": 58,
   "id": "86602066-7af5-4c51-9ae2-f79b011774a6",
   "metadata": {},
   "outputs": [],
   "source": [
    "mps_tensors = [\n",
    "    opt.top_right_mps_tensors\n",
    "    for opt in sub_opts\n",
    "]"
   ]
  },
  {
   "cell_type": "code",
   "execution_count": 59,
   "id": "01a86186-b227-4038-b173-0e6d38a6f597",
   "metadata": {},
   "outputs": [],
   "source": [
    "right_side_left_schmidt_values = [\n",
    "    opt.current_right_side_left_schmidt_values\n",
    "    for opt in sub_opts\n",
    "]"
   ]
  },
  {
   "cell_type": "code",
   "execution_count": 60,
   "id": "6de7caf9-8a31-49a8-9381-b1f7da30ecd4",
   "metadata": {},
   "outputs": [],
   "source": [
    "unitaries = [\n",
    "    opt.right_unitaries\n",
    "    for opt in sub_opts\n",
    "]"
   ]
  },
  {
   "cell_type": "code",
   "execution_count": 61,
   "id": "3ecec0d7-0bc8-4fcd-b45c-b06f5cb2d5b0",
   "metadata": {},
   "outputs": [],
   "source": [
    "null_opt = optimizer_dict[(proj_rep, n1_pair, 0, 0)]"
   ]
  },
  {
   "cell_type": "code",
   "execution_count": 62,
   "id": "0e67de78-beb2-47b5-ac11-9fbed8e3b5e0",
   "metadata": {},
   "outputs": [],
   "source": [
    "left_environment = null_opt.right_side_left_symmetry_environment"
   ]
  },
  {
   "cell_type": "code",
   "execution_count": 63,
   "id": "c04ad30a-a163-4384-8914-d6435772c432",
   "metadata": {},
   "outputs": [],
   "source": [
    "proj_rep_phases = get_proj_rep_phases(\n",
    "    mps_tensors,\n",
    "    right_side_left_schmidt_values,\n",
    "    unitaries,\n",
    "    left_environment\n",
    ")"
   ]
  },
  {
   "cell_type": "code",
   "execution_count": 64,
   "id": "f3b1292d-7158-4604-9888-69d35c52ca47",
   "metadata": {},
   "outputs": [
    {
     "data": {
      "text/plain": [
       "[(1+0j), (1+0j), (1+0j), (1+0j), (1+0j), (1+0j)]"
      ]
     },
     "execution_count": 64,
     "metadata": {},
     "output_type": "execute_result"
    }
   ],
   "source": [
    "proj_rep_phases"
   ]
  },
  {
   "cell_type": "markdown",
   "id": "2560b223-fb0b-42d8-b07e-aa26b78ccf8e",
   "metadata": {},
   "source": [
    "Better...! So why wrong when I have a non-trivial fermion homology?"
   ]
  },
  {
   "cell_type": "markdown",
   "id": "2ccba7da-58d2-4eae-b762-617dbf98d472",
   "metadata": {},
   "source": [
    "## Test case 3"
   ]
  },
  {
   "cell_type": "code",
   "execution_count": 65,
   "id": "7f5a9476-3bd7-46a5-902b-668ecb6b9f90",
   "metadata": {},
   "outputs": [],
   "source": [
    "proj_rep = False\n",
    "n1_pair = (1, 0)\n",
    "\n",
    "# May need to treat more consistently later.\n",
    "jw_string = False"
   ]
  },
  {
   "cell_type": "code",
   "execution_count": 66,
   "id": "a4909c44-c539-48a8-b8ff-4f3dee4dc70d",
   "metadata": {},
   "outputs": [],
   "source": [
    "sub_opts = [\n",
    "    optimizer_dict[(proj_rep, n1_pair, jw_string, i)]\n",
    "    for i in range(4)\n",
    "]"
   ]
  },
  {
   "cell_type": "markdown",
   "id": "2f95a40b-6dc7-43c5-b719-cb986bb2070c",
   "metadata": {},
   "source": [
    "### Right side"
   ]
  },
  {
   "cell_type": "code",
   "execution_count": 67,
   "id": "94f708e8-70f2-4100-9553-9a9e53e4d17b",
   "metadata": {},
   "outputs": [],
   "source": [
    "test_opt = sub_opts[0]"
   ]
  },
  {
   "cell_type": "code",
   "execution_count": 68,
   "id": "f29bd6ac-3558-48fe-a049-33a9046d0470",
   "metadata": {},
   "outputs": [],
   "source": [
    "mps_tensors = [\n",
    "    opt.top_right_mps_tensors\n",
    "    for opt in sub_opts\n",
    "]"
   ]
  },
  {
   "cell_type": "code",
   "execution_count": 69,
   "id": "d2169de7-b64a-4e19-b708-7f2a962cc0eb",
   "metadata": {},
   "outputs": [],
   "source": [
    "right_side_left_schmidt_values = [\n",
    "    opt.current_right_side_left_schmidt_values\n",
    "    for opt in sub_opts\n",
    "]"
   ]
  },
  {
   "cell_type": "code",
   "execution_count": 70,
   "id": "1ee50541-9a28-4a08-844e-1f93b4f3d5e7",
   "metadata": {},
   "outputs": [],
   "source": [
    "unitaries = [\n",
    "    opt.right_unitaries\n",
    "    for opt in sub_opts\n",
    "]"
   ]
  },
  {
   "cell_type": "code",
   "execution_count": 71,
   "id": "fcfbc1c5-fb97-4e15-a704-6b507bb8485d",
   "metadata": {},
   "outputs": [],
   "source": [
    "null_opt = optimizer_dict[(proj_rep, n1_pair, 0, 0)]"
   ]
  },
  {
   "cell_type": "code",
   "execution_count": 72,
   "id": "2d6f90ba-de06-4344-8a4c-3b1f22e96f55",
   "metadata": {},
   "outputs": [],
   "source": [
    "left_environment = null_opt.right_side_left_symmetry_environment"
   ]
  },
  {
   "cell_type": "code",
   "execution_count": 73,
   "id": "b0875ec1-652a-44fd-8879-4f5d2948b546",
   "metadata": {},
   "outputs": [],
   "source": [
    "proj_rep_phases = get_proj_rep_phases(\n",
    "    mps_tensors,\n",
    "    right_side_left_schmidt_values,\n",
    "    unitaries,\n",
    "    left_environment\n",
    ")"
   ]
  },
  {
   "cell_type": "code",
   "execution_count": 74,
   "id": "09f0f001-cebb-47ba-9c6d-6b874b492bac",
   "metadata": {},
   "outputs": [
    {
     "data": {
      "text/plain": [
       "[(1+0j), (1+0j), (1+0j), (1+0j), (0.9999999999999999+0j), (1+0j)]"
      ]
     },
     "execution_count": 74,
     "metadata": {},
     "output_type": "execute_result"
    }
   ],
   "source": [
    "proj_rep_phases"
   ]
  },
  {
   "cell_type": "markdown",
   "id": "14b3d2a5-92b7-4678-9fa0-86135a50cdf2",
   "metadata": {},
   "source": [
    "## Test case 4"
   ]
  },
  {
   "cell_type": "code",
   "execution_count": 75,
   "id": "89128bca-bd95-4d85-b724-4d73c0da633b",
   "metadata": {},
   "outputs": [],
   "source": [
    "proj_rep = False\n",
    "n1_pair = (0, 0)\n",
    "\n",
    "# May need to treat more consistently later.\n",
    "jw_string = False"
   ]
  },
  {
   "cell_type": "code",
   "execution_count": 76,
   "id": "6d6bd1f0-4058-4c2a-8672-289ec47db1a4",
   "metadata": {},
   "outputs": [],
   "source": [
    "sub_opts = [\n",
    "    optimizer_dict[(proj_rep, n1_pair, jw_string, i)]\n",
    "    for i in range(4)\n",
    "]"
   ]
  },
  {
   "cell_type": "markdown",
   "id": "8e89301b-9b0f-42bd-8014-d1554c0707ef",
   "metadata": {},
   "source": [
    "### Right side"
   ]
  },
  {
   "cell_type": "code",
   "execution_count": 77,
   "id": "beebf684-f8bd-4f80-8c74-a679ed3dcddd",
   "metadata": {},
   "outputs": [],
   "source": [
    "test_opt = sub_opts[0]"
   ]
  },
  {
   "cell_type": "code",
   "execution_count": 78,
   "id": "9d680e94-7555-4218-9878-56e0fda1edaa",
   "metadata": {},
   "outputs": [],
   "source": [
    "mps_tensors = [\n",
    "    opt.top_right_mps_tensors\n",
    "    for opt in sub_opts\n",
    "]"
   ]
  },
  {
   "cell_type": "code",
   "execution_count": 79,
   "id": "4818c9f5-54b9-4e46-83f3-18da67ff19f9",
   "metadata": {},
   "outputs": [],
   "source": [
    "right_side_left_schmidt_values = [\n",
    "    opt.current_right_side_left_schmidt_values\n",
    "    for opt in sub_opts\n",
    "]"
   ]
  },
  {
   "cell_type": "code",
   "execution_count": 80,
   "id": "da9a3b8a-1927-4495-95c5-634a94168249",
   "metadata": {},
   "outputs": [],
   "source": [
    "unitaries = [\n",
    "    opt.right_unitaries\n",
    "    for opt in sub_opts\n",
    "]"
   ]
  },
  {
   "cell_type": "code",
   "execution_count": 81,
   "id": "f239d7e5-9274-4f8d-b596-92595453a43f",
   "metadata": {},
   "outputs": [],
   "source": [
    "null_opt = optimizer_dict[(proj_rep, n1_pair, 0, 0)]"
   ]
  },
  {
   "cell_type": "code",
   "execution_count": 82,
   "id": "2f5b0180-9aa5-4467-95f4-3205dcea64c9",
   "metadata": {},
   "outputs": [],
   "source": [
    "left_environment = null_opt.right_side_left_symmetry_environment"
   ]
  },
  {
   "cell_type": "code",
   "execution_count": 83,
   "id": "97bec64d-8c15-4b43-b774-0d31dfde0e8f",
   "metadata": {},
   "outputs": [],
   "source": [
    "proj_rep_phases = get_proj_rep_phases(\n",
    "    mps_tensors,\n",
    "    right_side_left_schmidt_values,\n",
    "    unitaries,\n",
    "    left_environment\n",
    ")"
   ]
  },
  {
   "cell_type": "code",
   "execution_count": 84,
   "id": "2e0e9725-caad-4071-a708-2b08dbed0e7a",
   "metadata": {},
   "outputs": [
    {
     "data": {
      "text/plain": [
       "[(1+0j), (1+0j), (1+0j), (1+0j), (1+0j), (1+0j)]"
      ]
     },
     "execution_count": 84,
     "metadata": {},
     "output_type": "execute_result"
    }
   ],
   "source": [
    "proj_rep_phases"
   ]
  },
  {
   "cell_type": "markdown",
   "id": "aa7be18f-230a-4862-8aaa-684a685257f3",
   "metadata": {},
   "source": [
    "# String order parameters"
   ]
  },
  {
   "cell_type": "code",
   "execution_count": 85,
   "id": "77dec1cc-9047-4499-816f-1f4a4a1db8da",
   "metadata": {},
   "outputs": [],
   "source": [
    "np_Z_01 = np.array([\n",
    "    [1, 0, 0, 0],\n",
    "    [0, -1, 0, 0],\n",
    "    [0, 0, 1, 0],\n",
    "    [0, 0, 0, -1]\n",
    "])\n",
    "\n",
    "np_Z_10 = np.array([\n",
    "    [1, 0, 0, 0],\n",
    "    [0, 1, 0, 0],\n",
    "    [0, 0, -1, 0],\n",
    "    [0, 0, 0, -1]\n",
    "])\n",
    "\n",
    "np_Z_11 = np.array([\n",
    "    [1, 0, 0, 0],\n",
    "    [0, -1, 0, 0],\n",
    "    [0, 0, -1, 0],\n",
    "    [0, 0, 0, 1]\n",
    "])"
   ]
  },
  {
   "cell_type": "code",
   "execution_count": 86,
   "id": "fa1b0bb5-932d-4cbc-9d4c-01280bbf27a5",
   "metadata": {},
   "outputs": [],
   "source": [
    "bosonic_np_phase_symmetries = [\n",
    "    np_00,\n",
    "    np_Z_01,\n",
    "    np_Z_10,\n",
    "    np_Z_11\n",
    "]"
   ]
  },
  {
   "cell_type": "code",
   "execution_count": 87,
   "id": "e7edbb49-55ea-49d5-b303-a0a18fa1a7b5",
   "metadata": {},
   "outputs": [],
   "source": [
    "bosonic_npc_phase_symmetries = [\n",
    "    to_npc_array(X) for X in bosonic_np_phase_symmetries\n",
    "]"
   ]
  },
  {
   "cell_type": "code",
   "execution_count": 88,
   "id": "c2e86f35-8de3-4fc8-8915-f6222bf345d2",
   "metadata": {},
   "outputs": [],
   "source": [
    "npc_Z_01 = to_npc_array(np_Z_01)\n",
    "npc_Z_10 = to_npc_array(np_Z_10)\n",
    "npc_Z_11 = to_npc_array(np_Z_11)"
   ]
  },
  {
   "cell_type": "code",
   "execution_count": 89,
   "id": "fee5f761-4dc1-4b8e-8c66-0f154178346d",
   "metadata": {},
   "outputs": [],
   "source": [
    "fermion_identity = fermionic_npc_symmetries[0]"
   ]
  },
  {
   "cell_type": "code",
   "execution_count": 90,
   "id": "9da705c4-dc15-4fc7-9214-4c4b47d6c2e4",
   "metadata": {},
   "outputs": [],
   "source": [
    "symmetry_term = [npc_01, fermion_identity]*50"
   ]
  },
  {
   "cell_type": "code",
   "execution_count": 91,
   "id": "25a8dbcb-07bd-4c56-8eea-361901e52729",
   "metadata": {},
   "outputs": [],
   "source": [
    "string_order_term_1 = [npc_00, fermion_identity] + symmetry_term + [npc_00,]\n",
    "string_order_term_2 = [npc_Z_01, fermion_identity] + symmetry_term + [npc_Z_01,]"
   ]
  },
  {
   "cell_type": "code",
   "execution_count": 92,
   "id": "19843907-55ed-4356-8236-8cc48bdcb9bd",
   "metadata": {
    "scrolled": true
   },
   "outputs": [],
   "source": [
    "string_order_params = dict()\n",
    "\n",
    "n = 0\n",
    "\n",
    "for l, v in loaded_data.items():\n",
    "    for i, s in enumerate(bosonic_npc_symmetries):\n",
    "        for j, b1 in enumerate(bosonic_npc_phase_symmetries):\n",
    "            for k, b2 in enumerate(bosonic_npc_phase_symmetries):\n",
    "\n",
    "                term = [b1, fermion_identity] + [s, fermion_identity]*5 + [b2,]\n",
    "                exp = v.expectation_value_multi_sites(term, 50)\n",
    "\n",
    "                string_order_params[(*l, i, j, k)] = exp\n",
    "                n+=1"
   ]
  },
  {
   "cell_type": "code",
   "execution_count": 93,
   "id": "50b7c971-a1b8-4e1e-bcd6-ef89599129e7",
   "metadata": {},
   "outputs": [],
   "source": [
    "large_string_order_params = {\n",
    "    k: v\n",
    "    for k, v in string_order_params.items()\n",
    "    if v > 0.1\n",
    "}"
   ]
  },
  {
   "cell_type": "code",
   "execution_count": 94,
   "id": "57d29018-18c0-4cfc-aee2-f0098218a034",
   "metadata": {},
   "outputs": [
    {
     "data": {
      "text/plain": [
       "{(False, (1, 1), 0, 0, 0): array(1.),\n",
       " (False, (1, 1), 3, 0, 0): array(1.),\n",
       " (False, (0, 0), 0, 0, 0): array(1.),\n",
       " (False, (0, 0), 1, 0, 0): array(1.),\n",
       " (False, (0, 0), 2, 0, 0): array(1.),\n",
       " (False, (0, 0), 3, 0, 0): array(1.),\n",
       " (True, (1, 0), 0, 0, 0): array(1.),\n",
       " (True, (0, 1), 0, 0, 0): array(1.),\n",
       " (True, (0, 0), 0, 0, 0): array(1.),\n",
       " (True, (1, 1), 0, 0, 0): array(1.),\n",
       " (False, (1, 0), 0, 0, 0): array(1.),\n",
       " (False, (1, 0), 2, 0, 0): array(1.),\n",
       " (False, (0, 1), 0, 0, 0): array(1.),\n",
       " (False, (0, 1), 1, 0, 0): array(1.)}"
      ]
     },
     "execution_count": 94,
     "metadata": {},
     "output_type": "execute_result"
    }
   ],
   "source": [
    "large_string_order_params"
   ]
  },
  {
   "cell_type": "code",
   "execution_count": 95,
   "id": "6447a1b0-9ec2-4740-a61c-a9bc11bf0ef6",
   "metadata": {},
   "outputs": [
    {
     "data": {
      "text/plain": [
       "{(False, (1, 1), 0, 0, 0): array(1.),\n",
       " (False, (1, 1), 3, 0, 0): array(1.),\n",
       " (False, (0, 0), 0, 0, 0): array(1.),\n",
       " (False, (0, 0), 1, 0, 0): array(1.),\n",
       " (False, (0, 0), 2, 0, 0): array(1.),\n",
       " (False, (0, 0), 3, 0, 0): array(1.),\n",
       " (False, (1, 0), 0, 0, 0): array(1.),\n",
       " (False, (1, 0), 2, 0, 0): array(1.),\n",
       " (False, (0, 1), 0, 0, 0): array(1.),\n",
       " (False, (0, 1), 1, 0, 0): array(1.)}"
      ]
     },
     "execution_count": 95,
     "metadata": {},
     "output_type": "execute_result"
    }
   ],
   "source": [
    "{\n",
    "    k: v\n",
    "    for k, v in large_string_order_params.items()\n",
    "    if not k[0]\n",
    "}"
   ]
  },
  {
   "cell_type": "code",
   "execution_count": 96,
   "id": "471463b4-140e-4289-9cda-3bef3908a43e",
   "metadata": {},
   "outputs": [
    {
     "data": {
      "text/plain": [
       "True"
      ]
     },
     "execution_count": 96,
     "metadata": {},
     "output_type": "execute_result"
    }
   ],
   "source": [
    "np.all((-np_01 @ np_Z_01 @ np_01) == np_Z_01)"
   ]
  },
  {
   "cell_type": "code",
   "execution_count": 97,
   "id": "9387a1b5-58a7-4b66-bd79-946fe0a867ef",
   "metadata": {},
   "outputs": [
    {
     "data": {
      "text/plain": [
       "True"
      ]
     },
     "execution_count": 97,
     "metadata": {},
     "output_type": "execute_result"
    }
   ],
   "source": [
    "np.all((-np_10 @ np_Z_10 @ np_10) == np_Z_10)"
   ]
  },
  {
   "cell_type": "code",
   "execution_count": 98,
   "id": "434033ae-7a9d-4c2c-9cae-5bde947be371",
   "metadata": {},
   "outputs": [
    {
     "data": {
      "text/plain": [
       "True"
      ]
     },
     "execution_count": 98,
     "metadata": {},
     "output_type": "execute_result"
    }
   ],
   "source": [
    "np.all((np_11 @ np_Z_11 @ np_11) == np_Z_11)"
   ]
  },
  {
   "cell_type": "code",
   "execution_count": 99,
   "id": "ffccf7a0-4cd6-4eac-9a43-57e79b0674ac",
   "metadata": {},
   "outputs": [
    {
     "data": {
      "text/plain": [
       "True"
      ]
     },
     "execution_count": 99,
     "metadata": {},
     "output_type": "execute_result"
    }
   ],
   "source": [
    "np.all((-np_11 @ np_Z_10 @ np_11) == np_Z_10)"
   ]
  },
  {
   "cell_type": "code",
   "execution_count": 100,
   "id": "7fd90be1-e3b3-4294-9c19-cb55dcfc6f8d",
   "metadata": {},
   "outputs": [
    {
     "data": {
      "text/plain": [
       "True"
      ]
     },
     "execution_count": 100,
     "metadata": {},
     "output_type": "execute_result"
    }
   ],
   "source": [
    "np.all((-np_11 @ np_Z_01 @ np_11) == np_Z_01)"
   ]
  },
  {
   "cell_type": "code",
   "execution_count": 101,
   "id": "55ac4491-82dc-4776-9b6c-e83c1269f816",
   "metadata": {},
   "outputs": [
    {
     "data": {
      "text/plain": [
       "True"
      ]
     },
     "execution_count": 101,
     "metadata": {},
     "output_type": "execute_result"
    }
   ],
   "source": [
    "np.all((np_01 @ np_Z_10 @ np_01) == np_Z_10)"
   ]
  },
  {
   "cell_type": "code",
   "execution_count": 102,
   "id": "47f77a12-1b26-4bf6-9275-72fda824935b",
   "metadata": {},
   "outputs": [
    {
     "data": {
      "text/plain": [
       "True"
      ]
     },
     "execution_count": 102,
     "metadata": {},
     "output_type": "execute_result"
    }
   ],
   "source": [
    "np.all((np_10 @ np_Z_01 @ np_10) == np_Z_01)"
   ]
  },
  {
   "cell_type": "code",
   "execution_count": 103,
   "id": "3aafc908-cf97-41b2-9724-3610c346c2e5",
   "metadata": {},
   "outputs": [
    {
     "data": {
      "text/plain": [
       "array(1.57772181e-29)"
      ]
     },
     "execution_count": 103,
     "metadata": {},
     "output_type": "execute_result"
    }
   ],
   "source": [
    "string_order_params[(False, (0, 0), 1, 2, 2)]"
   ]
  },
  {
   "cell_type": "code",
   "execution_count": 104,
   "id": "a970ab06-416e-4412-953f-0b0e5a1649eb",
   "metadata": {},
   "outputs": [
    {
     "data": {
      "text/plain": [
       "array(-2.4713882e-28)"
      ]
     },
     "execution_count": 104,
     "metadata": {},
     "output_type": "execute_result"
    }
   ],
   "source": [
    "string_order_params[(True, (0, 0), 1, 2, 2)]"
   ]
  },
  {
   "cell_type": "markdown",
   "id": "8134f43c-9b21-4fa9-9bc1-ee599e881a2a",
   "metadata": {},
   "source": [
    "All looks good..."
   ]
  },
  {
   "cell_type": "markdown",
   "id": "850303ee-7499-4f40-91e4-a74dc7a7c690",
   "metadata": {},
   "source": [
    "# Verify SPT phase with environments"
   ]
  },
  {
   "cell_type": "code",
   "execution_count": 65,
   "id": "5d7710b2-f2e9-473e-b6e7-229e6aab7168",
   "metadata": {},
   "outputs": [],
   "source": [
    "def multiply_right_environments(env1, env2):\n",
    "    out = npc.tensordot(\n",
    "        env1,\n",
    "        env2,\n",
    "        [['vR',], ['vR*']]\n",
    "    )\n",
    "\n",
    "    return out"
   ]
  },
  {
   "cell_type": "code",
   "execution_count": 66,
   "id": "b4796e67-c7c3-4075-9a28-d14939d32472",
   "metadata": {},
   "outputs": [],
   "source": [
    "from functools import reduce"
   ]
  },
  {
   "cell_type": "code",
   "execution_count": 68,
   "id": "81774806-e526-4d2a-a722-d71a57c806ac",
   "metadata": {},
   "outputs": [],
   "source": [
    "def normalise_scaled_unitary(matrix):\n",
    "    m = matrix\n",
    "\n",
    "    tr = npc.tensordot(\n",
    "        m,\n",
    "        m.conj(),\n",
    "        [['vR', 'vR*'], ['vR*', 'vR']]\n",
    "    )\n",
    "\n",
    "    dim = m.to_ndarray().shape[0]\n",
    "\n",
    "    scale = np.sqrt(tr/dim)\n",
    "\n",
    "    out = m/scale\n",
    "\n",
    "    return out"
   ]
  },
  {
   "cell_type": "code",
   "execution_count": 90,
   "id": "a4ed3f62-e0fd-41de-934e-5126e5d7f5a4",
   "metadata": {},
   "outputs": [],
   "source": [
    "def right_proj_rep_invariant_phase_from_environments(case1, case2):\n",
    "    v1 = case1.right_projected_symmetry_state\n",
    "    v1 = normalise_scaled_unitary(v1)\n",
    "\n",
    "    #print(np.round(npc.tensordot(v1, v1.conj(), [['vR',], ['vR*']]).to_ndarray()), 2)\n",
    "\n",
    "    v2 = case2.right_projected_symmetry_state\n",
    "\n",
    "    v2 = normalise_scaled_unitary(v2)\n",
    "\n",
    "    #print(np.round(npc.tensordot(v2, v2.conj(), [['vR',], ['vR*']]).to_ndarray()), 2)\n",
    "\n",
    "    t = reduce(\n",
    "        multiply_right_environments,\n",
    "        [v1, v2, v1.conj(), v2.conj()]\n",
    "    )\n",
    "\n",
    "    exp = npc.trace(t)\n",
    "    phase = exp/np.abs(exp)\n",
    "\n",
    "    return phase"
   ]
  },
  {
   "cell_type": "code",
   "execution_count": 96,
   "id": "86a6364a-8605-4afa-92a5-23a833047cf1",
   "metadata": {},
   "outputs": [],
   "source": [
    "def right_proj_rep_invariant_phases(cases):    \n",
    "    case_pairs = list(combinations(cases[1:], 2))\n",
    "    \n",
    "    return [\n",
    "        right_proj_rep_invariant_phase_from_environments_1(c1, c2)\n",
    "        for c1, c2 in case_pairs\n",
    "    ]"
   ]
  },
  {
   "cell_type": "code",
   "execution_count": 99,
   "id": "98446b80-c0c5-4a9c-b757-a59eba540ac5",
   "metadata": {},
   "outputs": [],
   "source": [
    "false_phases = dict()\n",
    "\n",
    "for i in range(2):\n",
    "    for j in range(2):\n",
    "        for k in range(2):\n",
    "            sub_cases = [\n",
    "                cases[(False, (i, j), k, n)]\n",
    "                for n in range(4)\n",
    "            ]\n",
    "\n",
    "            false_phases[((i,j), k)] = right_proj_rep_invariant_phases(sub_cases)"
   ]
  },
  {
   "cell_type": "code",
   "execution_count": 100,
   "id": "dd8f89ed-b0a1-452f-bdd9-c012c9305052",
   "metadata": {},
   "outputs": [
    {
     "data": {
      "text/plain": [
       "{((0, 0), 0): [(1+0j), (1+0j), (1+0j)],\n",
       " ((0, 0), 1): [(1+0j), (1+0j), (1+0j)],\n",
       " ((0, 1), 0): [(1+0j), (1+0j), (1+0j)],\n",
       " ((0, 1), 1): [(-1+0j), (-1+0j), (1+0j)],\n",
       " ((1, 0), 0): [(1+0j), (1+0j), (1+0j)],\n",
       " ((1, 0), 1): [(-1+0j), (1+0j), (-1+0j)],\n",
       " ((1, 1), 0): [(1+0j), (1+0j), (1+0j)],\n",
       " ((1, 1), 1): [(1+0j), (-1+0j), (-1+0j)]}"
      ]
     },
     "execution_count": 100,
     "metadata": {},
     "output_type": "execute_result"
    }
   ],
   "source": [
    "false_phases"
   ]
  },
  {
   "cell_type": "markdown",
   "id": "73aeec33-bd4d-4ae5-a005-3b935e828ca4",
   "metadata": {},
   "source": [
    "So get oddities when I include JW string..."
   ]
  },
  {
   "cell_type": "code",
   "execution_count": 101,
   "id": "7d0f506c-bfd9-4b7f-867b-cfcd94e5ba36",
   "metadata": {},
   "outputs": [],
   "source": [
    "true_phases = dict()\n",
    "\n",
    "for i in range(2):\n",
    "    for j in range(2):\n",
    "        for k in range(2):\n",
    "            sub_cases = [\n",
    "                cases[(True, (i, j), k, n)]\n",
    "                for n in range(4)\n",
    "            ]\n",
    "\n",
    "            true_phases[((i,j), k)] = right_proj_rep_invariant_phases(sub_cases)"
   ]
  },
  {
   "cell_type": "code",
   "execution_count": 102,
   "id": "71080cb1-f221-4015-860d-fc47d9d6a939",
   "metadata": {},
   "outputs": [
    {
     "data": {
      "text/plain": [
       "{((0, 0), 0): [(-1-3.211485502404821e-17j),\n",
       "  (-1-1.4039428900895112e-18j),\n",
       "  (-1+9.918638682590741e-18j)],\n",
       " ((0, 0), 1): [(-1-3.211485502404821e-17j),\n",
       "  (-1-1.4039428900895112e-18j),\n",
       "  (-1+9.918638682590741e-18j)],\n",
       " ((0, 1), 0): [(-1-5.665342161500703e-17j),\n",
       "  (-1-6.396157202863622e-17j),\n",
       "  (-1-5.305445684341158e-17j)],\n",
       " ((0, 1), 1): [(1+2.4993389668172456e-18j),\n",
       "  (1-2.634040531464544e-17j),\n",
       "  (-1+2.6517082491055296e-17j)],\n",
       " ((1, 0), 0): [(-1-4.04441385285459e-17j),\n",
       "  (-1-1.7830620530978122e-17j),\n",
       "  (-1-4.1947414187852876e-17j)],\n",
       " ((1, 0), 1): [(1+4.657280249562082e-17j),\n",
       "  (-1-7.179684026967964e-18j),\n",
       "  (1+3.4219782756714087e-17j)],\n",
       " ((1, 1), 0): [(-1+2.2597038593027095e-17j),\n",
       "  (-0.9999999999999999+1.8217293366854148e-17j),\n",
       "  (-0.9999999999999999+1.5672224288459562e-17j)],\n",
       " ((1, 1), 1): [(-1+2.290518527880673e-17j),\n",
       "  (1-2.878850530694425e-18j),\n",
       "  (1-7.189137565000939e-18j)]}"
      ]
     },
     "execution_count": 102,
     "metadata": {},
     "output_type": "execute_result"
    }
   ],
   "source": [
    "true_phases"
   ]
  },
  {
   "cell_type": "code",
   "execution_count": 103,
   "id": "c9c983ff-acf5-4dbd-a2d4-094408cbe41c",
   "metadata": {},
   "outputs": [],
   "source": [
    "def get_n1_func(n1_01, n1_10):\n",
    "    l = [0, n1_01, n1_10, (n1_01 + n1_10)%2]\n",
    "    \n",
    "    def f(g1, g2):\n",
    "        i = mod_4_to_bit_addition(g1, g2)\n",
    "        return l[i]\n",
    "\n",
    "    return f"
   ]
  },
  {
   "cell_type": "code",
   "execution_count": 109,
   "id": "2af6ac28-7cee-49e9-89e3-81effb4426af",
   "metadata": {},
   "outputs": [],
   "source": [
    "def mod_4_to_bit(x):    \n",
    "    possible_mod_4_values = list(range(4))\n",
    "    assert x in possible_mod_4_values\n",
    "\n",
    "    x0 = x % 2\n",
    "    x1 = ((x - x0) // 2) % 2\n",
    "\n",
    "    return (x0, x1)"
   ]
  },
  {
   "cell_type": "code",
   "execution_count": 110,
   "id": "ee1966e7-f65a-4116-9342-aa030a198046",
   "metadata": {},
   "outputs": [],
   "source": [
    "def bit_to_mod_4(bit_pair):\n",
    "    x0, x1 = bit_pair\n",
    "\n",
    "    possible_mod_2_values = list(range(2))\n",
    "    assert x0 in possible_mod_2_values\n",
    "    assert x1 in possible_mod_2_values\n",
    "\n",
    "    return x0 + 2*x1"
   ]
  },
  {
   "cell_type": "code",
   "execution_count": 111,
   "id": "5ac6cc87-009d-4da9-9726-0e7d7df5f2a1",
   "metadata": {},
   "outputs": [],
   "source": [
    "def mod_4_to_bit_addition(x, y):\n",
    "    (x0, x1) = mod_4_to_bit(x)\n",
    "    (y0, y1) = mod_4_to_bit(y)\n",
    "\n",
    "    out0 = (x0 + y0) % 2\n",
    "    out1 = (x1 + y1) % 2\n",
    "\n",
    "    out = bit_to_mod_4((out0, out1))\n",
    "\n",
    "    return out"
   ]
  },
  {
   "cell_type": "code",
   "execution_count": 112,
   "id": "f814b6bd-bb6a-4bae-a780-355cfb48f252",
   "metadata": {},
   "outputs": [],
   "source": [
    "correct_jw_cases = dict()\n",
    "\n",
    "for b in [True, False]:\n",
    "    for i in range(2):\n",
    "        for j in range(2):\n",
    "            n1_func = get_n1_func(i, j)\n",
    "            for k in range(4):\n",
    "                jw_needed = n1_func(k, 0)\n",
    "\n",
    "                correct_jw_cases[(b, (i,j), k)] = cases[(b, (i,j), jw_needed, k)]"
   ]
  },
  {
   "cell_type": "code",
   "execution_count": 113,
   "id": "a184fc08-3d2e-483c-87eb-1b51ac3aa359",
   "metadata": {},
   "outputs": [],
   "source": [
    "false_phases = dict()\n",
    "\n",
    "for i in range(2):\n",
    "    for j in range(2):\n",
    "            sub_cases = [\n",
    "                correct_jw_cases[(False, (i, j), n)]\n",
    "                for n in range(4)\n",
    "            ]\n",
    "\n",
    "            false_phases[(i,j)] = right_proj_rep_invariant_phases(sub_cases)"
   ]
  },
  {
   "cell_type": "code",
   "execution_count": 114,
   "id": "9e88cd21-b3d4-47c7-b933-6b87acc2c9cd",
   "metadata": {},
   "outputs": [
    {
     "data": {
      "text/plain": [
       "{(0, 0): [(1+0j), (1+0j), (1+0j)],\n",
       " (0, 1): [(1+0j), (1+0j), (1+0j)],\n",
       " (1, 0): [(1+0j), (1+0j), (1+0j)],\n",
       " (1, 1): [(1+0j), (1+0j), (1+0j)]}"
      ]
     },
     "execution_count": 114,
     "metadata": {},
     "output_type": "execute_result"
    }
   ],
   "source": [
    "false_phases"
   ]
  },
  {
   "cell_type": "code",
   "execution_count": 115,
   "id": "c8fdc780-6f53-45ab-8275-e3f397394614",
   "metadata": {},
   "outputs": [],
   "source": [
    "true_phases = dict()\n",
    "\n",
    "for i in range(2):\n",
    "    for j in range(2):\n",
    "            sub_cases = [\n",
    "                correct_jw_cases[(True, (i, j), n)]\n",
    "                for n in range(4)\n",
    "            ]\n",
    "\n",
    "            true_phases[(i,j)] = right_proj_rep_invariant_phases(sub_cases)"
   ]
  },
  {
   "cell_type": "code",
   "execution_count": 116,
   "id": "e25defe9-1841-4ed4-8c42-67e171cf7b75",
   "metadata": {},
   "outputs": [
    {
     "data": {
      "text/plain": [
       "{(0, 0): [(-1-3.211485502404821e-17j),\n",
       "  (-1-1.4039428900895112e-18j),\n",
       "  (-1+9.918638682590741e-18j)],\n",
       " (0, 1): [(-1-5.891319278802497e-17j),\n",
       "  (-1-1.2199597802845033e-17j),\n",
       "  (-1+2.6517082491055296e-17j)],\n",
       " (1, 0): [(-1-8.17991323961216e-18j),\n",
       "  (-1-7.179684026967964e-18j),\n",
       "  (-1-2.725165914162097e-17j)],\n",
       " (1, 1): [(-1+2.290518527880673e-17j),\n",
       "  (-1+3.2986681939795926e-17j),\n",
       "  (-1+1.60635799401136e-17j)]}"
      ]
     },
     "execution_count": 116,
     "metadata": {},
     "output_type": "execute_result"
    }
   ],
   "source": [
    "true_phases"
   ]
  },
  {
   "cell_type": "code",
   "execution_count": 84,
   "id": "9961e501-0f56-4f80-a37b-b5a9b5327955",
   "metadata": {},
   "outputs": [
    {
     "data": {
      "text/plain": [
       "[(-1-3.211485502404821e-17j),\n",
       " (-1-1.4039428900895112e-18j),\n",
       " (-1+9.918638682590741e-18j)]"
      ]
     },
     "execution_count": 84,
     "metadata": {},
     "output_type": "execute_result"
    }
   ],
   "source": [
    "test_cases = [\n",
    "    cases[True, (0, 0), 0, i]\n",
    "    for i in range(4)\n",
    "]\n",
    "\n",
    "case_pairs = list(combinations(test_cases[1:], 2))\n",
    "\n",
    "[\n",
    "    right_proj_rep_invariant_phase_from_environments_1(c1, c2)\n",
    "    for c1, c2 in case_pairs\n",
    "]"
   ]
  },
  {
   "cell_type": "code",
   "execution_count": 85,
   "id": "7ca5462d-f255-4eb8-bdff-783937be33de",
   "metadata": {},
   "outputs": [
    {
     "data": {
      "text/plain": [
       "[(1+0j), (1+0j), (1+0j)]"
      ]
     },
     "execution_count": 85,
     "metadata": {},
     "output_type": "execute_result"
    }
   ],
   "source": [
    "test_cases = [\n",
    "    cases[False, (0, 0), 0, i]\n",
    "    for i in range(4)\n",
    "]\n",
    "\n",
    "case_pairs = list(combinations(test_cases[1:], 2))\n",
    "\n",
    "[\n",
    "    right_proj_rep_invariant_phase_from_environments_1(c1, c2)\n",
    "    for c1, c2 in case_pairs\n",
    "]"
   ]
  },
  {
   "cell_type": "code",
   "execution_count": 86,
   "id": "6bcbc904-f466-4c44-8af3-80190c74b45a",
   "metadata": {},
   "outputs": [
    {
     "data": {
      "text/plain": [
       "[(-1-4.04441385285459e-17j),\n",
       " (-1-1.7830620530978122e-17j),\n",
       " (-1-4.1947414187852876e-17j)]"
      ]
     },
     "execution_count": 86,
     "metadata": {},
     "output_type": "execute_result"
    }
   ],
   "source": [
    "test_cases = [\n",
    "    cases[True, (1, 0), 0, i]\n",
    "    for i in range(4)\n",
    "]\n",
    "\n",
    "case_pairs = list(combinations(test_cases[1:], 2))\n",
    "\n",
    "[\n",
    "    right_proj_rep_invariant_phase_from_environments_1(c1, c2)\n",
    "    for c1, c2 in case_pairs\n",
    "]"
   ]
  },
  {
   "cell_type": "code",
   "execution_count": 87,
   "id": "32e8510e-9556-44b9-b705-27c363a0df67",
   "metadata": {},
   "outputs": [
    {
     "data": {
      "text/plain": [
       "[(-1+1.0614230926271299e-17j),\n",
       " (-1-2.5893412118385122e-17j),\n",
       " (-1+5.88079958047669e-17j)]"
      ]
     },
     "execution_count": 87,
     "metadata": {},
     "output_type": "execute_result"
    }
   ],
   "source": [
    "test_cases = [\n",
    "    shifted_cases[True, (0, 0), 0, i]\n",
    "    for i in range(4)\n",
    "]\n",
    "\n",
    "case_pairs = list(combinations(test_cases[1:], 2))\n",
    "\n",
    "[\n",
    "    right_proj_rep_invariant_phase_from_environments_1(c1, c2)\n",
    "    for c1, c2 in case_pairs\n",
    "]"
   ]
  },
  {
   "cell_type": "code",
   "execution_count": 88,
   "id": "d4a654e7-cbaa-452c-bcb4-ea986595a4d7",
   "metadata": {},
   "outputs": [
    {
     "data": {
      "text/plain": [
       "[(1+0j), (1+0j), (1+0j)]"
      ]
     },
     "execution_count": 88,
     "metadata": {},
     "output_type": "execute_result"
    }
   ],
   "source": [
    "test_cases = [\n",
    "    shifted_cases[False, (0, 0), 0, i]\n",
    "    for i in range(4)\n",
    "]\n",
    "\n",
    "case_pairs = list(combinations(test_cases[1:], 2))\n",
    "\n",
    "[\n",
    "    right_proj_rep_invariant_phase_from_environments_1(c1, c2)\n",
    "    for c1, c2 in case_pairs\n",
    "]"
   ]
  },
  {
   "cell_type": "code",
   "execution_count": 89,
   "id": "dd0168a3-8913-459a-95a9-e800f623f8cb",
   "metadata": {},
   "outputs": [
    {
     "data": {
      "text/plain": [
       "[(-1+1.7317111592783285e-17j),\n",
       " (-1+6.103590476690632e-18j),\n",
       " (-1-6.011832065537458e-17j)]"
      ]
     },
     "execution_count": 89,
     "metadata": {},
     "output_type": "execute_result"
    }
   ],
   "source": [
    "test_cases = [\n",
    "    shifted_cases[True, (1, 0), 0, i]\n",
    "    for i in range(4)\n",
    "]\n",
    "\n",
    "case_pairs = list(combinations(test_cases[1:], 2))\n",
    "\n",
    "[\n",
    "    right_proj_rep_invariant_phase_from_environments_1(c1, c2)\n",
    "    for c1, c2 in case_pairs\n",
    "]"
   ]
  },
  {
   "cell_type": "markdown",
   "id": "d2509d32-bc4c-4540-a134-420dc1f4d732",
   "metadata": {},
   "source": [
    "# Check entanglement spectrum"
   ]
  },
  {
   "cell_type": "code",
   "execution_count": 59,
   "id": "d7787e7e-2b4c-4201-a634-c69054937fd0",
   "metadata": {},
   "outputs": [
    {
     "name": "stdout",
     "output_type": "stream",
     "text": [
      "(False, (1, 1)) - [0.70710678 0.70710678]\n",
      "(True, (1, 1)) - [0.61237244 0.61237244 0.35355339 0.35355339]\n",
      "(True, (0, 1)) - [0.61237244 0.61237244 0.35355339 0.35355339]\n",
      "(False, (0, 1)) - [0.70710678 0.70710678]\n",
      "(False, (1, 0)) - [0.70710678 0.70710678]\n",
      "(True, (1, 0)) - [0.61237244 0.61237244 0.35355339 0.35355339]\n",
      "(True, (0, 0)) - [0.6830127 0.6830127 0.1830127 0.1830127]\n",
      "(False, (0, 0)) - [1.]\n"
     ]
    }
   ],
   "source": [
    "for k, v in loaded_data.items():\n",
    "    print(f\"{k} - {v.get_SR(21)}\")"
   ]
  },
  {
   "cell_type": "code",
   "execution_count": 60,
   "id": "b2f4833d-34b2-46e1-bbdd-272676c51e09",
   "metadata": {},
   "outputs": [
    {
     "name": "stdout",
     "output_type": "stream",
     "text": [
      "(False, (1, 1)) - [0.70710678 0.70710678]\n",
      "(True, (1, 1)) - [0.61237244 0.61237244 0.35355339 0.35355339]\n",
      "(True, (0, 1)) - [0.61237244 0.61237244 0.35355339 0.35355339]\n",
      "(False, (0, 1)) - [0.70710678 0.70710678]\n",
      "(False, (1, 0)) - [0.70710678 0.70710678]\n",
      "(True, (1, 0)) - [0.61237244 0.61237244 0.35355339 0.35355339]\n",
      "(True, (0, 0)) - [0.6830127 0.6830127 0.1830127 0.1830127]\n",
      "(False, (0, 0)) - [1.]\n"
     ]
    }
   ],
   "source": [
    "for k, v in loaded_data.items():\n",
    "    print(f\"{k} - {v.get_SR(20)}\")"
   ]
  },
  {
   "cell_type": "markdown",
   "id": "f619dc99-f278-4c5c-8011-be7667c91a9f",
   "metadata": {},
   "source": [
    "So there is something going on... The 2-fold degeneracy due to the fermion spt is unexpected for me."
   ]
  },
  {
   "cell_type": "markdown",
   "id": "c00ac38e-9676-47f2-bad3-f42b244c4100",
   "metadata": {},
   "source": [
    "# To-do:\n",
    "Calculate string order parameters."
   ]
  }
 ],
 "metadata": {
  "kernelspec": {
   "display_name": "num_spt_venv_p11",
   "language": "python",
   "name": "num_spt_venv_p11"
  },
  "language_info": {
   "codemirror_mode": {
    "name": "ipython",
    "version": 3
   },
   "file_extension": ".py",
   "mimetype": "text/x-python",
   "name": "python",
   "nbconvert_exporter": "python",
   "pygments_lexer": "ipython3",
   "version": "3.11.11"
  }
 },
 "nbformat": 4,
 "nbformat_minor": 5
}
