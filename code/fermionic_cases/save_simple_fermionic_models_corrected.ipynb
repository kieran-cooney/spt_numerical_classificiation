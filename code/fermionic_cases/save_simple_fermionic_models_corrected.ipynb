{
 "cells": [
  {
   "cell_type": "markdown",
   "metadata": {},
   "source": [
    "# Save simple fermionic models - corrected\n",
    "\n",
    "Created 11/04/2025\n",
    "\n",
    "Objectives:\n",
    "* Correct error in [previous notebook](save_simple_fermionic_models.ipynb)."
   ]
  },
  {
   "cell_type": "markdown",
   "metadata": {},
   "source": [
    "# Imports "
   ]
  },
  {
   "cell_type": "code",
   "execution_count": 1,
   "metadata": {},
   "outputs": [],
   "source": [
    "from itertools import product"
   ]
  },
  {
   "cell_type": "code",
   "execution_count": 2,
   "metadata": {},
   "outputs": [],
   "source": [
    "import numpy as np\n",
    "import scipy\n",
    "import matplotlib.pyplot as plt"
   ]
  },
  {
   "cell_type": "code",
   "execution_count": 3,
   "metadata": {},
   "outputs": [],
   "source": [
    "import tenpy\n",
    "import tenpy.linalg.np_conserved as npc\n",
    "from tenpy.algorithms import dmrg\n",
    "from tenpy.networks.mps import MPS"
   ]
  },
  {
   "cell_type": "code",
   "execution_count": 4,
   "metadata": {},
   "outputs": [],
   "source": [
    "from tenpy.networks.terms import MultiCouplingTerms\n",
    "from tenpy.networks.mpo import MPO\n",
    "\n",
    "from tenpy.networks.site import ClockSite, FermionSite\n",
    "from tenpy.models.lattice import Chain\n",
    "from tenpy.models.model import CouplingMPOModel"
   ]
  },
  {
   "cell_type": "markdown",
   "metadata": {},
   "source": [
    "# Define model"
   ]
  },
  {
   "cell_type": "code",
   "execution_count": 5,
   "metadata": {},
   "outputs": [],
   "source": [
    "def mod_4_to_bit(x):    \n",
    "    possible_mod_4_values = list(range(4))\n",
    "    assert x in possible_mod_4_values\n",
    "\n",
    "    x0 = x % 2\n",
    "    x1 = ((x - x0) // 2) % 2\n",
    "\n",
    "    return (x0, x1)"
   ]
  },
  {
   "cell_type": "code",
   "execution_count": 6,
   "metadata": {},
   "outputs": [],
   "source": [
    "def bit_to_mod_4(bit_pair):\n",
    "    x0, x1 = bit_pair\n",
    "\n",
    "    possible_mod_2_values = list(range(2))\n",
    "    assert x0 in possible_mod_2_values\n",
    "    assert x1 in possible_mod_2_values\n",
    "\n",
    "    return x0 + 2*x1"
   ]
  },
  {
   "cell_type": "code",
   "execution_count": 7,
   "metadata": {},
   "outputs": [],
   "source": [
    "def mod_4_to_bit_addition(x, y):\n",
    "    (x0, x1) = mod_4_to_bit(x)\n",
    "    (y0, y1) = mod_4_to_bit(y)\n",
    "\n",
    "    out0 = (x0 + y0) % 2\n",
    "    out1 = (x1 + y1) % 2\n",
    "\n",
    "    out = bit_to_mod_4((out0, out1))\n",
    "\n",
    "    return out"
   ]
  },
  {
   "cell_type": "code",
   "execution_count": 8,
   "metadata": {},
   "outputs": [],
   "source": [
    "def get_n1_func(n1_01, n1_10):\n",
    "    l = [0, n1_01, n1_10, (n1_01 + n1_10)%2]\n",
    "    \n",
    "    def f(g1, g2):\n",
    "        i = mod_4_to_bit_addition(g1, g2)\n",
    "        return l[i]\n",
    "\n",
    "    return f"
   ]
  },
  {
   "cell_type": "code",
   "execution_count": 9,
   "metadata": {},
   "outputs": [],
   "source": [
    "n1_pair_to_fermion_operators_dict = {\n",
    "    (0, 0): \"Id\",\n",
    "    (0, 1): \"C\",\n",
    "    (1, 0): \"Cd\",\n",
    "    (1, 1): \"N\"\n",
    "}"
   ]
  },
  {
   "cell_type": "code",
   "execution_count": 10,
   "metadata": {},
   "outputs": [],
   "source": [
    "n1_pairs = [\n",
    "    (0, 0),\n",
    "    (0, 1),\n",
    "    (1, 0),\n",
    "    (1, 1)\n",
    "]"
   ]
  },
  {
   "cell_type": "code",
   "execution_count": 11,
   "metadata": {},
   "outputs": [],
   "source": [
    "pauli_proj_rep_phases = np.array([\n",
    "    [1, 1, 1, 1],\n",
    "    [1, 1, 1j, -1j],\n",
    "    [1, -1j, 1, 1j],\n",
    "    [1, 1j, -1j, 1]\n",
    "])"
   ]
  },
  {
   "cell_type": "code",
   "execution_count": 12,
   "metadata": {},
   "outputs": [],
   "source": [
    "def get_proj_rep_term_phase(group_quad):\n",
    "    g_left, g_in, g_out, g_right = group_quad\n",
    "\n",
    "    g1 = mod_4_to_bit_addition(g_left, g_in)\n",
    "    g2 = mod_4_to_bit_addition(g_in, g_right)\n",
    "    g3 = mod_4_to_bit_addition(g_left, g_out)\n",
    "    g4 = mod_4_to_bit_addition(g_out, g_right)\n",
    "\n",
    "    numerator_phase = pauli_proj_rep_phases[g1, g2]\n",
    "    denominator_phase = pauli_proj_rep_phases[g3, g4]\n",
    "\n",
    "    return numerator_phase/denominator_phase"
   ]
  },
  {
   "cell_type": "code",
   "execution_count": 13,
   "metadata": {},
   "outputs": [],
   "source": [
    "def get_op_list(g_quad, n1_func):\n",
    "    out = list()\n",
    "    g_left, g_in, g_out, g_right = g_quad\n",
    "\n",
    "    out.append((f'map_{g_left}_{g_left}', 0, 0))\n",
    "    \n",
    "    out.append((f'map_{g_in}_{g_out}', 1, 0))\n",
    "\n",
    "    out.append((f'map_{g_right}_{g_right}', 2, 0))\n",
    "\n",
    "    if n1_func(g_left, g_out):\n",
    "        out.append(('Cd', 0, 1))\n",
    "    if n1_func(g_out, g_right):\n",
    "        out.append(('Cd', 1, 1))\n",
    "\n",
    "    if n1_func(g_in, g_right):\n",
    "        out.append(('C', 1, 1))\n",
    "    if n1_func(g_left, g_in):\n",
    "        out.append(('C', 0, 1))\n",
    "\n",
    "    return out"
   ]
  },
  {
   "cell_type": "code",
   "execution_count": 14,
   "metadata": {},
   "outputs": [],
   "source": [
    "def get_op_list_trivial(g_quad):\n",
    "    out = list()\n",
    "    g_left, g_in, g_out, g_right = g_quad\n",
    "\n",
    "    out.append((f'map_{g_left}_{g_left}', 0, 0))\n",
    "    \n",
    "    out.append((f'map_{g_in}_{g_out}', 1, 0))\n",
    "\n",
    "    out.append((f'map_{g_right}_{g_right}', 2, 0))\n",
    "\n",
    "    out.append(('C', 1, 1))\n",
    "    out.append(('C', 0, 1))\n",
    "\n",
    "    out.append(('Cd', 0, 1))\n",
    "    out.append(('Cd', 1, 1))\n",
    "\n",
    "    return out"
   ]
  },
  {
   "cell_type": "code",
   "execution_count": 15,
   "metadata": {},
   "outputs": [],
   "source": [
    "class ClusterFermion(CouplingMPOModel):\n",
    "        default_lattice = \"Chain\"\n",
    "        force_default_lattice = True\n",
    "\n",
    "        # Would it be easier to subclass ClockSite?\n",
    "        def init_sites(self, model_params):\n",
    "            spin = ClockSite(4, conserve=None)\n",
    "            for i in range(4):\n",
    "                for j in range(4):\n",
    "                    X = np.zeros((4,4))\n",
    "                    X[j, i] = 1\n",
    "                    op_name = f\"map_{i}_{j}\"\n",
    "                    spin.add_op(op_name, X)\n",
    "            ferm = FermionSite(conserve=None)\n",
    "            sites = [spin, ferm]\n",
    "            return [spin, ferm], ['s', 'f']\n",
    "\n",
    "        def init_terms(self, model_params):\n",
    "            # Read off model parameters\n",
    "            n1_01, n1_10 = model_params.get('n1', (0,0))\n",
    "            n1_func = get_n1_func(n1_01, n1_10)\n",
    "\n",
    "            non_trivial_proj_rep = model_params.get('non_trivial_proj_rep', False)\n",
    "\n",
    "            group_quads = product(range(4), repeat=4)\n",
    "\n",
    "            for group_quad in group_quads:\n",
    "                if (n1_01, n1_10) == (0, 0):\n",
    "                    op_list = get_op_list_trivial(group_quad)\n",
    "                else:\n",
    "                    op_list = get_op_list(group_quad, n1_func)\n",
    "                    \n",
    "                if non_trivial_proj_rep:\n",
    "                    phase = get_proj_rep_term_phase(group_quad)\n",
    "                else:\n",
    "                    phase = 1\n",
    "\n",
    "                self.add_multi_coupling((-1/4)*phase, op_list)"
   ]
  },
  {
   "cell_type": "code",
   "execution_count": 16,
   "metadata": {},
   "outputs": [
    {
     "ename": "ValueError",
     "evalue": "can't determine all charges on the very right leg of the MPO!",
     "output_type": "error",
     "traceback": [
      "\u001b[0;31m---------------------------------------------------------------------------\u001b[0m",
      "\u001b[0;31mValueError\u001b[0m                                Traceback (most recent call last)",
      "Cell \u001b[0;32mIn[16], line 1\u001b[0m\n\u001b[0;32m----> 1\u001b[0m \u001b[43mClusterFermion\u001b[49m\u001b[43m(\u001b[49m\u001b[43m{\u001b[49m\u001b[43m}\u001b[49m\u001b[43m)\u001b[49m\n",
      "File \u001b[0;32m~/.pyenv/versions/num_spt_venv_p11/lib/python3.11/site-packages/tenpy/models/model.py:1834\u001b[0m, in \u001b[0;36mCouplingMPOModel.__init__\u001b[0;34m(self, model_params)\u001b[0m\n\u001b[1;32m   1832\u001b[0m \u001b[38;5;28mself\u001b[39m\u001b[38;5;241m.\u001b[39minit_terms(model_params)\n\u001b[1;32m   1833\u001b[0m \u001b[38;5;66;03m# 7-8) initialize H_MPO, and H_bonds, if necessary\u001b[39;00m\n\u001b[0;32m-> 1834\u001b[0m \u001b[38;5;28;43mself\u001b[39;49m\u001b[38;5;241;43m.\u001b[39;49m\u001b[43minit_H_from_terms\u001b[49m\u001b[43m(\u001b[49m\u001b[43m)\u001b[49m\n\u001b[1;32m   1835\u001b[0m \u001b[38;5;66;03m# finally checks for misspelled parameter names\u001b[39;00m\n\u001b[1;32m   1836\u001b[0m model_params\u001b[38;5;241m.\u001b[39mwarn_unused()\n",
      "File \u001b[0;32m~/.pyenv/versions/num_spt_venv_p11/lib/python3.11/site-packages/tenpy/models/model.py:1849\u001b[0m, in \u001b[0;36mCouplingMPOModel.init_H_from_terms\u001b[0;34m(self)\u001b[0m\n\u001b[1;32m   1838\u001b[0m \u001b[38;5;28;01mdef\u001b[39;00m \u001b[38;5;21minit_H_from_terms\u001b[39m(\u001b[38;5;28mself\u001b[39m):\n\u001b[1;32m   1839\u001b[0m \u001b[38;5;250m    \u001b[39m\u001b[38;5;124;03m\"\"\"Initialize `H_MPO` (and `H_bond`) from the terms of the `CouplingModel`.\u001b[39;00m\n\u001b[1;32m   1840\u001b[0m \n\u001b[1;32m   1841\u001b[0m \u001b[38;5;124;03m    This function is called automatically during `CouplingMPOModel.__init__`.\u001b[39;00m\n\u001b[0;32m   (...)\u001b[0m\n\u001b[1;32m   1847\u001b[0m \u001b[38;5;124;03m    in `init_terms` by defining your own model, as outlined in :doc:`/intro/model`.\u001b[39;00m\n\u001b[1;32m   1848\u001b[0m \u001b[38;5;124;03m    \"\"\"\u001b[39;00m\n\u001b[0;32m-> 1849\u001b[0m     H_MPO \u001b[38;5;241m=\u001b[39m \u001b[38;5;28;43mself\u001b[39;49m\u001b[38;5;241;43m.\u001b[39;49m\u001b[43mcalc_H_MPO\u001b[49m\u001b[43m(\u001b[49m\u001b[43m)\u001b[49m\n\u001b[1;32m   1850\u001b[0m     \u001b[38;5;28;01mif\u001b[39;00m \u001b[38;5;28mself\u001b[39m\u001b[38;5;241m.\u001b[39moptions\u001b[38;5;241m.\u001b[39mget(\u001b[38;5;124m'\u001b[39m\u001b[38;5;124msort_mpo_legs\u001b[39m\u001b[38;5;124m'\u001b[39m, \u001b[38;5;28;01mFalse\u001b[39;00m):\n\u001b[1;32m   1851\u001b[0m         H_MPO\u001b[38;5;241m.\u001b[39msort_legcharges()\n",
      "File \u001b[0;32m~/.pyenv/versions/num_spt_venv_p11/lib/python3.11/site-packages/tenpy/models/model.py:1656\u001b[0m, in \u001b[0;36mCouplingModel.calc_H_MPO\u001b[0;34m(self, tol_zero)\u001b[0m\n\u001b[1;32m   1653\u001b[0m edt \u001b[38;5;241m=\u001b[39m \u001b[38;5;28mself\u001b[39m\u001b[38;5;241m.\u001b[39mexp_decaying_terms\n\u001b[1;32m   1655\u001b[0m H_MPO_graph \u001b[38;5;241m=\u001b[39m mpo\u001b[38;5;241m.\u001b[39mMPOGraph\u001b[38;5;241m.\u001b[39mfrom_terms((ot, ct, edt), \u001b[38;5;28mself\u001b[39m\u001b[38;5;241m.\u001b[39mlat\u001b[38;5;241m.\u001b[39mmps_sites(), \u001b[38;5;28mself\u001b[39m\u001b[38;5;241m.\u001b[39mlat\u001b[38;5;241m.\u001b[39mbc_MPS)\n\u001b[0;32m-> 1656\u001b[0m H_MPO \u001b[38;5;241m=\u001b[39m \u001b[43mH_MPO_graph\u001b[49m\u001b[38;5;241;43m.\u001b[39;49m\u001b[43mbuild_MPO\u001b[49m\u001b[43m(\u001b[49m\u001b[43m)\u001b[49m\n\u001b[1;32m   1657\u001b[0m H_MPO\u001b[38;5;241m.\u001b[39mmax_range \u001b[38;5;241m=\u001b[39m ct\u001b[38;5;241m.\u001b[39mmax_range()\n\u001b[1;32m   1658\u001b[0m H_MPO\u001b[38;5;241m.\u001b[39mexplicit_plus_hc \u001b[38;5;241m=\u001b[39m \u001b[38;5;28mself\u001b[39m\u001b[38;5;241m.\u001b[39mexplicit_plus_hc\n",
      "File \u001b[0;32m~/.pyenv/versions/num_spt_venv_p11/lib/python3.11/site-packages/tenpy/networks/mpo.py:1885\u001b[0m, in \u001b[0;36mMPOGraph.build_MPO\u001b[0;34m(self, Ws_qtotal)\u001b[0m\n\u001b[1;32m   1883\u001b[0m IdL \u001b[38;5;241m=\u001b[39m [s\u001b[38;5;241m.\u001b[39mget(\u001b[38;5;124m'\u001b[39m\u001b[38;5;124mIdL\u001b[39m\u001b[38;5;124m'\u001b[39m, \u001b[38;5;28;01mNone\u001b[39;00m) \u001b[38;5;28;01mfor\u001b[39;00m s \u001b[38;5;129;01min\u001b[39;00m \u001b[38;5;28mself\u001b[39m\u001b[38;5;241m.\u001b[39m_ordered_states]\n\u001b[1;32m   1884\u001b[0m IdR \u001b[38;5;241m=\u001b[39m [s\u001b[38;5;241m.\u001b[39mget(\u001b[38;5;124m'\u001b[39m\u001b[38;5;124mIdR\u001b[39m\u001b[38;5;124m'\u001b[39m, \u001b[38;5;28;01mNone\u001b[39;00m) \u001b[38;5;28;01mfor\u001b[39;00m s \u001b[38;5;129;01min\u001b[39;00m \u001b[38;5;28mself\u001b[39m\u001b[38;5;241m.\u001b[39m_ordered_states]\n\u001b[0;32m-> 1885\u001b[0m legs, Ws_qtotal \u001b[38;5;241m=\u001b[39m \u001b[38;5;28;43mself\u001b[39;49m\u001b[38;5;241;43m.\u001b[39;49m\u001b[43m_calc_legcharges\u001b[49m\u001b[43m(\u001b[49m\u001b[43mWs_qtotal\u001b[49m\u001b[43m)\u001b[49m\n\u001b[1;32m   1886\u001b[0m H \u001b[38;5;241m=\u001b[39m MPO\u001b[38;5;241m.\u001b[39mfrom_grids(\u001b[38;5;28mself\u001b[39m\u001b[38;5;241m.\u001b[39msites, grids, \u001b[38;5;28mself\u001b[39m\u001b[38;5;241m.\u001b[39mbc, IdL, IdR, Ws_qtotal, legs, \u001b[38;5;28mself\u001b[39m\u001b[38;5;241m.\u001b[39mmax_range)\n\u001b[1;32m   1887\u001b[0m \u001b[38;5;28;01mreturn\u001b[39;00m H\n",
      "File \u001b[0;32m~/.pyenv/versions/num_spt_venv_p11/lib/python3.11/site-packages/tenpy/networks/mpo.py:2042\u001b[0m, in \u001b[0;36mMPOGraph._calc_legcharges\u001b[0;34m(self, Ws_qtotal)\u001b[0m\n\u001b[1;32m   2039\u001b[0m     \u001b[38;5;28;01mreturn\u001b[39;00m \u001b[38;5;28;01mTrue\u001b[39;00m\n\u001b[1;32m   2041\u001b[0m \u001b[38;5;28;01mif\u001b[39;00m \u001b[38;5;129;01mnot\u001b[39;00m infinite \u001b[38;5;129;01mand\u001b[39;00m \u001b[38;5;28many\u001b[39m([ch \u001b[38;5;129;01mis\u001b[39;00m \u001b[38;5;28;01mNone\u001b[39;00m \u001b[38;5;28;01mfor\u001b[39;00m ch \u001b[38;5;129;01min\u001b[39;00m charges[\u001b[38;5;241m-\u001b[39m\u001b[38;5;241m1\u001b[39m]]):\n\u001b[0;32m-> 2042\u001b[0m     \u001b[38;5;28;01mraise\u001b[39;00m \u001b[38;5;167;01mValueError\u001b[39;00m(\u001b[38;5;124m\"\u001b[39m\u001b[38;5;124mcan\u001b[39m\u001b[38;5;124m'\u001b[39m\u001b[38;5;124mt determine all charges on the very right leg of the MPO!\u001b[39m\u001b[38;5;124m\"\u001b[39m)\n\u001b[1;32m   2044\u001b[0m max_checks \u001b[38;5;241m=\u001b[39m \u001b[38;5;241m1000\u001b[39m  \u001b[38;5;66;03m# Hard-coded since for a properly set-up MPO graph, this loop will\u001b[39;00m\n\u001b[1;32m   2045\u001b[0m \u001b[38;5;66;03m# terminate after one iteration\u001b[39;00m\n",
      "\u001b[0;31mValueError\u001b[0m: can't determine all charges on the very right leg of the MPO!"
     ]
    }
   ],
   "source": [
    "ClusterFermion({})"
   ]
  },
  {
   "cell_type": "code",
   "execution_count": 18,
   "metadata": {},
   "outputs": [
    {
     "name": "stdout",
     "output_type": "stream",
     "text": [
      "Commencing b=True, n1=(0, 0) model\n",
      "Commencing b=True, n1=(0, 1) model\n",
      "Commencing b=True, n1=(1, 0) model\n",
      "Commencing b=True, n1=(1, 1) model\n",
      "Commencing b=False, n1=(0, 0) model\n",
      "Commencing b=False, n1=(0, 1) model\n",
      "Commencing b=False, n1=(1, 0) model\n",
      "Commencing b=False, n1=(1, 1) model\n"
     ]
    }
   ],
   "source": [
    "num_unit_cells = 20\n",
    "\n",
    "for b in [True, False]:\n",
    "    for n1_pair in n1_pairs:\n",
    "        print(f\"Commencing b={b}, n1={n1_pair} model\")\n",
    "        model=ClusterFermion({'non_trivial_proj_rep': b, 'n1':n1_pair, 'L': num_unit_cells})"
   ]
  },
  {
   "cell_type": "markdown",
   "metadata": {},
   "source": [
    "# Run DMRG"
   ]
  },
  {
   "cell_type": "code",
   "execution_count": 16,
   "metadata": {},
   "outputs": [],
   "source": [
    "dmrg_params = {\n",
    "    \"trunc_params\": {\"chi_max\": 8, \"chi_min\": 1, \"svd_min\": 1.e-10},\n",
    "    \"min_sweeps\":100,\n",
    "    \"max_sweeps\":200,\n",
    "    \"mixer\": True,\n",
    "    \"combine\":False,\n",
    "    'decay':2,\n",
    "    'amplitude':10e-1,\n",
    "    'disable_after':60,\n",
    "    'update_env':0\n",
    "}"
   ]
  },
  {
   "cell_type": "code",
   "execution_count": 17,
   "metadata": {},
   "outputs": [],
   "source": [
    "import h5py\n",
    "from tenpy.tools import hdf5_io"
   ]
  },
  {
   "cell_type": "code",
   "execution_count": 20,
   "metadata": {
    "scrolled": true
   },
   "outputs": [
    {
     "name": "stdout",
     "output_type": "stream",
     "text": [
      "Commencing b=True, n1=(0, 0) model\n"
     ]
    },
    {
     "name": "stderr",
     "output_type": "stream",
     "text": [
      "/Users/kierancooney/.pyenv/versions/num_spt_venv_p11/lib/python3.11/site-packages/tenpy/tools/params.py:230: UserWarning: unused options for config TwoSiteDMRGEngine:\n",
      "['amplitude', 'decay', 'disable_after', 'update_env']\n",
      "  warnings.warn(msg.format(keys=sorted(unused), name=self.name))\n"
     ]
    },
    {
     "name": "stdout",
     "output_type": "stream",
     "text": [
      "Energy: -17.999999999999996\n",
      "\n",
      "Commencing b=True, n1=(0, 1) model\n"
     ]
    },
    {
     "name": "stderr",
     "output_type": "stream",
     "text": [
      "/Users/kierancooney/.pyenv/versions/num_spt_venv_p11/lib/python3.11/site-packages/tenpy/tools/params.py:230: UserWarning: unused options for config TwoSiteDMRGEngine:\n",
      "['amplitude', 'decay', 'disable_after', 'update_env']\n",
      "  warnings.warn(msg.format(keys=sorted(unused), name=self.name))\n"
     ]
    },
    {
     "name": "stdout",
     "output_type": "stream",
     "text": [
      "Energy: -18.00000000000002\n",
      "\n",
      "Commencing b=True, n1=(1, 0) model\n"
     ]
    },
    {
     "name": "stderr",
     "output_type": "stream",
     "text": [
      "/Users/kierancooney/.pyenv/versions/num_spt_venv_p11/lib/python3.11/site-packages/tenpy/tools/params.py:230: UserWarning: unused options for config TwoSiteDMRGEngine:\n",
      "['amplitude', 'decay', 'disable_after', 'update_env']\n",
      "  warnings.warn(msg.format(keys=sorted(unused), name=self.name))\n"
     ]
    },
    {
     "name": "stdout",
     "output_type": "stream",
     "text": [
      "Energy: -17.999999999999968\n",
      "\n",
      "Commencing b=True, n1=(1, 1) model\n"
     ]
    },
    {
     "name": "stderr",
     "output_type": "stream",
     "text": [
      "/Users/kierancooney/.pyenv/versions/num_spt_venv_p11/lib/python3.11/site-packages/tenpy/tools/params.py:230: UserWarning: unused options for config TwoSiteDMRGEngine:\n",
      "['amplitude', 'decay', 'disable_after', 'update_env']\n",
      "  warnings.warn(msg.format(keys=sorted(unused), name=self.name))\n"
     ]
    },
    {
     "name": "stdout",
     "output_type": "stream",
     "text": [
      "Energy: -17.999999999999957\n",
      "\n",
      "Commencing b=False, n1=(0, 0) model\n"
     ]
    },
    {
     "name": "stderr",
     "output_type": "stream",
     "text": [
      "/Users/kierancooney/.pyenv/versions/num_spt_venv_p11/lib/python3.11/site-packages/tenpy/tools/params.py:230: UserWarning: unused options for config TwoSiteDMRGEngine:\n",
      "['amplitude', 'decay', 'disable_after', 'update_env']\n",
      "  warnings.warn(msg.format(keys=sorted(unused), name=self.name))\n"
     ]
    },
    {
     "name": "stdout",
     "output_type": "stream",
     "text": [
      "Energy: -18.000000000000053\n",
      "\n",
      "Commencing b=False, n1=(0, 1) model\n"
     ]
    },
    {
     "name": "stderr",
     "output_type": "stream",
     "text": [
      "/Users/kierancooney/.pyenv/versions/num_spt_venv_p11/lib/python3.11/site-packages/tenpy/tools/params.py:230: UserWarning: unused options for config TwoSiteDMRGEngine:\n",
      "['amplitude', 'decay', 'disable_after', 'update_env']\n",
      "  warnings.warn(msg.format(keys=sorted(unused), name=self.name))\n"
     ]
    },
    {
     "name": "stdout",
     "output_type": "stream",
     "text": [
      "Energy: -17.99999999999999\n",
      "\n",
      "Commencing b=False, n1=(1, 0) model\n"
     ]
    },
    {
     "name": "stderr",
     "output_type": "stream",
     "text": [
      "/Users/kierancooney/.pyenv/versions/num_spt_venv_p11/lib/python3.11/site-packages/tenpy/tools/params.py:230: UserWarning: unused options for config TwoSiteDMRGEngine:\n",
      "['amplitude', 'decay', 'disable_after', 'update_env']\n",
      "  warnings.warn(msg.format(keys=sorted(unused), name=self.name))\n"
     ]
    },
    {
     "name": "stdout",
     "output_type": "stream",
     "text": [
      "Energy: -17.999999999999993\n",
      "\n",
      "Commencing b=False, n1=(1, 1) model\n"
     ]
    },
    {
     "name": "stderr",
     "output_type": "stream",
     "text": [
      "/Users/kierancooney/.pyenv/versions/num_spt_venv_p11/lib/python3.11/site-packages/tenpy/tools/params.py:230: UserWarning: unused options for config TwoSiteDMRGEngine:\n",
      "['amplitude', 'decay', 'disable_after', 'update_env']\n",
      "  warnings.warn(msg.format(keys=sorted(unused), name=self.name))\n"
     ]
    },
    {
     "name": "stdout",
     "output_type": "stream",
     "text": [
      "Energy: -18.000000000000018\n",
      "\n"
     ]
    }
   ],
   "source": [
    "num_unit_cells = 20\n",
    "\n",
    "for b in [True, False]:\n",
    "    for n1_pair in n1_pairs:\n",
    "        print(f\"Commencing b={b}, n1={n1_pair} model\")\n",
    "        model=ClusterFermion({'non_trivial_proj_rep': b, 'n1':n1_pair, 'L': num_unit_cells})\n",
    "        \n",
    "        psi = MPS.from_lat_product_state(model.lat, [['0', 'empty'],]*num_unit_cells)\n",
    "        psi.canonical_form()\n",
    "    \n",
    "        eng = dmrg.TwoSiteDMRGEngine(psi, model, dmrg_params)\n",
    "        e, psi = eng.run()\n",
    "\n",
    "        print(f\"Energy: {e}\\n\")\n",
    "\n",
    "        data = {\n",
    "            \"wavefunction\": psi,\n",
    "            \"energy\": e,\n",
    "            \"paramters\": {\"B\": b}\n",
    "        }\n",
    "\n",
    "        proj_rep_string = '1' if b else '0'\n",
    "        n1_pair_string = f'{n1_pair[0]}{n1_pair[1]}'\n",
    "        filename = (\n",
    "            r\"../data/simple_fermionic_cluster_40_site_dmrg_corrected/pr_{}_n1_{}\"\n",
    "            .format(proj_rep_string, n1_pair_string)\n",
    "        )\n",
    "\n",
    "        filename += \".h5\"\n",
    "\n",
    "        with h5py.File(filename, 'w') as f:\n",
    "\n",
    "            hdf5_io.save_to_hdf5(f, data)"
   ]
  },
  {
   "cell_type": "code",
   "execution_count": null,
   "metadata": {},
   "outputs": [],
   "source": []
  }
 ],
 "metadata": {
  "kernelspec": {
   "display_name": "num_spt_venv_p11",
   "language": "python",
   "name": "num_spt_venv_p11"
  },
  "language_info": {
   "codemirror_mode": {
    "name": "ipython",
    "version": 3
   },
   "file_extension": ".py",
   "mimetype": "text/x-python",
   "name": "python",
   "nbconvert_exporter": "python",
   "pygments_lexer": "ipython3",
   "version": "3.11.9"
  }
 },
 "nbformat": 4,
 "nbformat_minor": 4
}
