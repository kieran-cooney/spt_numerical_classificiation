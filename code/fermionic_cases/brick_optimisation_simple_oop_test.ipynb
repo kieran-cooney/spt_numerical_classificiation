{
 "cells": [
  {
   "cell_type": "markdown",
   "id": "5f2205a4-2c74-4cf5-9ad1-9d65bd13bed2",
   "metadata": {},
   "source": [
    "# Brick optimisation - simple OOP test\n",
    "\n",
    "Created 26/03/2025\n",
    "\n",
    "Objectives:\n",
    "* Previous methods working, but code getting messy so refactored into OOP solution. Test here."
   ]
  },
  {
   "cell_type": "markdown",
   "id": "9ad0db4d-805c-4403-9d48-c71d523d572f",
   "metadata": {},
   "source": [
    "# Package imports"
   ]
  },
  {
   "cell_type": "code",
   "execution_count": 1,
   "id": "ecb41ea3-927f-4efa-aebe-ce15784aa037",
   "metadata": {},
   "outputs": [],
   "source": [
    "import sys\n",
    "sys.path.append('../')"
   ]
  },
  {
   "cell_type": "code",
   "execution_count": 2,
   "id": "4a525ec6-f0c8-47ee-8b0b-345bf0ef8bd3",
   "metadata": {},
   "outputs": [],
   "source": [
    "import h5py\n",
    "from tenpy.tools import hdf5_io\n",
    "import tenpy\n",
    "import tenpy.linalg.np_conserved as npc\n",
    "\n",
    "import os"
   ]
  },
  {
   "cell_type": "code",
   "execution_count": 3,
   "id": "214f688a-c657-4810-b4d1-b1247deff62c",
   "metadata": {},
   "outputs": [],
   "source": [
    "import numpy as np\n",
    "import matplotlib.pyplot as plt\n",
    "import pandas as pd"
   ]
  },
  {
   "cell_type": "code",
   "execution_count": 4,
   "id": "b8dec68d-a5b3-4383-ab44-567a9a5981b3",
   "metadata": {},
   "outputs": [],
   "source": [
    "from SPTOptimization.SymmetryActionWithBoundaryUnitaries import SymmetryActionWithBoundaryUnitaries\n",
    "\n",
    "from SPTOptimization.utils import (\n",
    "    to_npc_array,\n",
    "    get_right_identity_environment,\n",
    "    get_right_identity_environment_from_tp_tensor,\n",
    "    multiply_stacked_unitaries_against_mps,\n",
    "    inner_product_b_tensors\n",
    ")\n",
    "\n",
    "from SPTOptimization.Optimizers.MPSBrickSolver import(\n",
    "    MPSBrickSolver\n",
    ")"
   ]
  },
  {
   "cell_type": "markdown",
   "id": "c69a8a47-e298-4c4c-97f7-a6157da4e15f",
   "metadata": {},
   "source": [
    "# Load data"
   ]
  },
  {
   "cell_type": "code",
   "execution_count": 5,
   "id": "210d7dcc-b7ae-4f06-8429-84177bec47d3",
   "metadata": {},
   "outputs": [],
   "source": [
    "DATA_DIR = r\"../data/simple_fermionic_cluster_200_site_dmrg/\""
   ]
  },
  {
   "cell_type": "code",
   "execution_count": 6,
   "id": "ae809e74-d444-4db4-88ff-7538f6110d08",
   "metadata": {},
   "outputs": [],
   "source": [
    "def parse_file_name(file_name):\n",
    "    non_trivial_proj_rep = bool(int(file_name[3]))\n",
    "\n",
    "    n1_01 = int(file_name[8])\n",
    "    n1_10 = int(file_name[9])\n",
    "\n",
    "    return (non_trivial_proj_rep, (n1_01, n1_10))"
   ]
  },
  {
   "cell_type": "code",
   "execution_count": 7,
   "id": "e09f07cf-8441-4c7e-90b8-dbc8c61311f2",
   "metadata": {},
   "outputs": [],
   "source": [
    "loaded_data = dict()\n",
    "\n",
    "for local_file_name in os.listdir(DATA_DIR):\n",
    "    f_name = r\"{}/{}\".format(DATA_DIR, local_file_name, ignore_unknown=False)\n",
    "    with h5py.File(f_name, 'r') as f:\n",
    "        data = hdf5_io.load_from_hdf5(f)\n",
    "\n",
    "        data_info = parse_file_name(local_file_name)\n",
    "        loaded_data[data_info]=data['wavefunction']"
   ]
  },
  {
   "cell_type": "code",
   "execution_count": 8,
   "id": "991ad694-d6ed-4b68-9d35-7a4afb4c225b",
   "metadata": {},
   "outputs": [
    {
     "data": {
      "text/plain": [
       "{(False, (1, 1)): <tenpy.networks.mps.MPS at 0x143d0a550>,\n",
       " (True, (1, 1)): <tenpy.networks.mps.MPS at 0x145a97b10>,\n",
       " (True, (0, 1)): <tenpy.networks.mps.MPS at 0x145af77d0>,\n",
       " (False, (0, 1)): <tenpy.networks.mps.MPS at 0x144bc05d0>,\n",
       " (False, (1, 0)): <tenpy.networks.mps.MPS at 0x150304f10>,\n",
       " (True, (1, 0)): <tenpy.networks.mps.MPS at 0x144bc1ed0>,\n",
       " (True, (0, 0)): <tenpy.networks.mps.MPS at 0x1503ce810>,\n",
       " (False, (0, 0)): <tenpy.networks.mps.MPS at 0x150406dd0>}"
      ]
     },
     "execution_count": 8,
     "metadata": {},
     "output_type": "execute_result"
    }
   ],
   "source": [
    "loaded_data"
   ]
  },
  {
   "cell_type": "code",
   "execution_count": 9,
   "id": "ec80aaf2-da09-4592-a809-a8314fd83e77",
   "metadata": {},
   "outputs": [
    {
     "data": {
      "text/plain": [
       "array([0.00000000e+00, 4.10310779e-55, 3.20108804e-32, 4.41166527e-30,\n",
       "       4.30652209e-31, 1.28028128e-32, 2.18979328e-32, 9.64766348e-32,\n",
       "       6.39204896e-31, 4.19476267e-32, 7.51835939e-33, 1.56998498e-32,\n",
       "       3.06132263e-29, 6.24832887e-32, 6.64529320e-32, 6.61192056e-33,\n",
       "       3.02331734e-32, 1.97077344e-32, 3.97848871e-32, 1.65936555e-32,\n",
       "       8.12962747e-32, 8.36180681e-32, 1.05455111e-32, 2.30695596e-32,\n",
       "       4.15719467e-32, 3.32855567e-32, 1.02762007e-32, 1.46697913e-32,\n",
       "       3.80115562e-31, 1.63756131e-32, 9.98608231e-33, 1.82981182e-32,\n",
       "       1.73380216e-33, 6.00451123e-32, 1.33036658e-32, 2.79091135e-31,\n",
       "       1.64291033e-32, 3.68006128e-33, 9.95622775e-32, 6.17421509e-32,\n",
       "       2.70280235e-32, 3.01371615e-31, 2.35183074e-32, 1.17896355e-32,\n",
       "       3.93686429e-31, 8.45721273e-32, 1.08863312e-32, 3.77353007e-31,\n",
       "       9.67562785e-33, 1.99656454e-33, 6.40393616e-33, 2.78084102e-32,\n",
       "       1.03150150e-31, 4.37579428e-33, 1.45445289e-32, 3.55938597e-32,\n",
       "       3.97823676e-33, 2.49558765e-32, 5.83674844e-32, 5.65240897e-33,\n",
       "       3.02788937e-32, 1.68137907e-32, 1.92338306e-31, 1.04057512e-32,\n",
       "       3.64920161e-33, 1.95435202e-32, 2.84942450e-32, 8.88276651e-33,\n",
       "       7.75273851e-33, 2.58573886e-32, 5.15046203e-33, 1.16772734e-32,\n",
       "       1.18483428e-33, 3.83447653e-32, 2.56470114e-32, 7.46833249e-33,\n",
       "       8.04890237e-33, 8.23867687e-32, 2.40292353e-31, 5.73993045e-32,\n",
       "       1.99991163e-32, 1.03053885e-31, 4.13348647e-31, 3.49682611e-32,\n",
       "       7.41249798e-31, 2.55014460e-32, 1.68727394e-31, 2.03563625e-32,\n",
       "       1.33614956e-32, 2.14221151e-32, 2.07421165e-31, 4.34597627e-32,\n",
       "       1.88742279e-32, 1.04165570e-32, 5.80629023e-32, 1.78903412e-32,\n",
       "       1.03849028e-32, 9.43016392e-31, 7.40551322e-30, 0.00000000e+00])"
      ]
     },
     "execution_count": 9,
     "metadata": {},
     "output_type": "execute_result"
    }
   ],
   "source": [
    "loaded_data[(True, (0,0))].expectation_value('N', sites=list(range(1, 201, 2)))"
   ]
  },
  {
   "cell_type": "code",
   "execution_count": 10,
   "id": "41d02fac-b668-444d-bde4-949dd6fe9e40",
   "metadata": {},
   "outputs": [
    {
     "data": {
      "text/plain": [
       "array([0.00000000e+00, 3.26915052e-29, 3.33293732e-29, 0.00000000e+00,\n",
       "       3.33293732e-29, 7.79030959e-29, 4.21824880e-29, 4.21824880e-29,\n",
       "       5.96576060e-30, 1.14662165e-29, 3.59424750e-29, 8.18720523e-29,\n",
       "       4.21824880e-29, 8.28796989e-29, 4.21824880e-29, 3.79670126e-29,\n",
       "       4.21824880e-29, 8.18720523e-29, 1.37190923e-28, 0.00000000e+00,\n",
       "       1.37190923e-28, 0.00000000e+00, 3.66111579e-29, 3.66111579e-29,\n",
       "       3.86541844e-29, 3.33293732e-29, 0.00000000e+00, 0.00000000e+00,\n",
       "       3.59424750e-29, 1.56000325e-28, 3.46235982e-29, 0.00000000e+00,\n",
       "       3.59424750e-29, 3.59424750e-29, 3.72860037e-29, 0.00000000e+00,\n",
       "       0.00000000e+00, 9.22258517e-29, 8.33234331e-30, 9.01057880e-29,\n",
       "       3.46235982e-29, 4.43734259e-29, 3.14342582e-29, 3.14342582e-29,\n",
       "       0.00000000e+00, 8.18720523e-29, 1.46709639e-29, 1.46709639e-29,\n",
       "       1.46709639e-29, 8.98561875e-30, 0.00000000e+00, 8.01495006e-30,\n",
       "       4.07526776e-29, 4.00470169e-29, 9.32150093e-30, 7.69262642e-29,\n",
       "       0.00000000e+00, 3.72860037e-29, 9.32150093e-30, 7.79030959e-29,\n",
       "       3.79670126e-29, 9.32150093e-30, 3.86541844e-29, 8.18720523e-29,\n",
       "       1.10933565e-29, 0.00000000e+00, 3.46235982e-29, 7.39865247e-30,\n",
       "       1.34229613e-29, 1.34229613e-29, 7.40327471e-29, 0.00000000e+00,\n",
       "       8.80103762e-29, 1.34602473e-28, 7.98752481e-29, 9.32150093e-30,\n",
       "       0.00000000e+00, 8.38935084e-29, 9.32150093e-30, 8.38935084e-29,\n",
       "       0.00000000e+00, 1.42488001e-29, 9.32150093e-30, 1.42488001e-29,\n",
       "       1.18452395e-29, 0.00000000e+00, 7.21345505e-29, 4.68694311e-30,\n",
       "       4.68694311e-30, 7.39865247e-30, 8.59396164e-29, 3.20598002e-29,\n",
       "       7.70371978e-30, 5.17998118e-30, 7.70371978e-30, 7.79030959e-29,\n",
       "       7.39865247e-30, 7.70371978e-30, 5.83094550e-28, 0.00000000e+00])"
      ]
     },
     "execution_count": 10,
     "metadata": {},
     "output_type": "execute_result"
    }
   ],
   "source": [
    "loaded_data[(False, (0,0))].expectation_value('N', sites=list(range(1, 201, 2)))"
   ]
  },
  {
   "cell_type": "code",
   "execution_count": 11,
   "id": "4379132f-163c-4908-9934-7cd390909df3",
   "metadata": {},
   "outputs": [],
   "source": [
    "loaded_exps = dict()\n",
    "\n",
    "for k, psi in loaded_data.items():\n",
    "    exp = psi.expectation_value('N', sites=[101,])[0]\n",
    "    loaded_exps[k] = exp"
   ]
  },
  {
   "cell_type": "code",
   "execution_count": 12,
   "id": "a40c29ff-45c2-4274-b6ed-3b43eec93d03",
   "metadata": {},
   "outputs": [
    {
     "data": {
      "text/plain": [
       "{(False, (1, 1)): 0.4999999999999988,\n",
       " (True, (1, 1)): 0.4999999999999729,\n",
       " (True, (0, 1)): 0.49999999999999745,\n",
       " (False, (0, 1)): 0.4999999999999949,\n",
       " (False, (1, 0)): 0.49999999999998695,\n",
       " (True, (1, 0)): 0.49999999999999367,\n",
       " (True, (0, 0)): 6.403936160073908e-33,\n",
       " (False, (0, 0)): 0.0}"
      ]
     },
     "execution_count": 12,
     "metadata": {},
     "output_type": "execute_result"
    }
   ],
   "source": [
    "loaded_exps"
   ]
  },
  {
   "cell_type": "markdown",
   "id": "b4c1e616-c034-404b-b59e-196d1eaac475",
   "metadata": {},
   "source": [
    "# Definitons"
   ]
  },
  {
   "cell_type": "code",
   "execution_count": 13,
   "id": "63506364-f535-4c0f-8c5f-8839c69f7b9d",
   "metadata": {},
   "outputs": [],
   "source": [
    "MAX_VIRTUAL_BOND_DIM = 8\n",
    "MAX_INTERMEDIATE_VIRTUAL_BOND_DIM = 2*MAX_VIRTUAL_BOND_DIM\n",
    "# MPO bond dim?\n",
    "MAX_MPO_BOND_DIM = 50\n",
    "\n",
    "SVD_CUTOFF = 1e-3"
   ]
  },
  {
   "cell_type": "markdown",
   "id": "1efd18d4-328d-43dd-996d-393f18eb02b2",
   "metadata": {},
   "source": [
    "Define bosonic symmetries. Label by the group element added."
   ]
  },
  {
   "cell_type": "code",
   "execution_count": 14,
   "id": "513d7288-c641-4071-a4a3-652787d1f98c",
   "metadata": {},
   "outputs": [],
   "source": [
    "np_00 = np.array([\n",
    "    [1, 0, 0, 0],\n",
    "    [0, 1, 0, 0],\n",
    "    [0, 0, 1, 0],\n",
    "    [0, 0, 0, 1]\n",
    "])\n",
    "\n",
    "np_01 = np.array([\n",
    "    [0, 1, 0, 0],\n",
    "    [1, 0, 0, 0],\n",
    "    [0, 0, 0, 1],\n",
    "    [0, 0, 1, 0]\n",
    "])\n",
    "\n",
    "np_10 = np.array([\n",
    "    [0, 0, 1, 0],\n",
    "    [0, 0, 0, 1],\n",
    "    [1, 0, 0, 0],\n",
    "    [0, 1, 0, 0]\n",
    "])\n",
    "\n",
    "np_11 = np.array([\n",
    "    [0, 0, 0, 1],\n",
    "    [0, 0, 1, 0],\n",
    "    [0, 1, 0, 0],\n",
    "    [1, 0, 0, 0]\n",
    "])"
   ]
  },
  {
   "cell_type": "code",
   "execution_count": 15,
   "id": "c83907c6-e86f-48af-a2a1-11b250f47e84",
   "metadata": {},
   "outputs": [],
   "source": [
    "bosonic_np_symmetries = [\n",
    "    np_00,\n",
    "    np_01,\n",
    "    np_10,\n",
    "    np_11\n",
    "]"
   ]
  },
  {
   "cell_type": "code",
   "execution_count": 16,
   "id": "2a78a62e-37eb-4baf-98ba-d6a94d599bec",
   "metadata": {},
   "outputs": [],
   "source": [
    "npc_00 = to_npc_array(np_00)\n",
    "npc_01 = to_npc_array(np_01)\n",
    "npc_10 = to_npc_array(np_10)\n",
    "npc_11 = to_npc_array(np_11)"
   ]
  },
  {
   "cell_type": "markdown",
   "id": "1ecddc96-798a-416b-b0b4-d9ea9e25cfca",
   "metadata": {},
   "source": [
    "Define \"fermionic symmetries\". Just identity and JW string."
   ]
  },
  {
   "cell_type": "code",
   "execution_count": 17,
   "id": "a1c64bf0-4b2e-4492-b242-3dae6eb527c3",
   "metadata": {},
   "outputs": [],
   "source": [
    "np_I = np.array([\n",
    "    [1, 0],\n",
    "    [0, 1]\n",
    "])\n",
    "\n",
    "np_JW = np.array([\n",
    "    [1, 0],\n",
    "    [0, -1]\n",
    "])"
   ]
  },
  {
   "cell_type": "code",
   "execution_count": 18,
   "id": "e595ca13-740a-41a3-a658-8831c8f54323",
   "metadata": {},
   "outputs": [],
   "source": [
    "fermionic_np_symmetries = [np_I, np_JW]"
   ]
  },
  {
   "cell_type": "code",
   "execution_count": 19,
   "id": "6e5b6ad0-2496-4072-afe9-c41fc62da40e",
   "metadata": {},
   "outputs": [],
   "source": [
    "fermionic_npc_symmetries = [\n",
    "    to_npc_array(X) for X in fermionic_np_symmetries\n",
    "]"
   ]
  },
  {
   "cell_type": "code",
   "execution_count": 20,
   "id": "a2b43b48-e438-4702-8287-f5d27fc47f7b",
   "metadata": {},
   "outputs": [],
   "source": [
    "npc_JW = fermionic_npc_symmetries[1]"
   ]
  },
  {
   "cell_type": "code",
   "execution_count": 21,
   "id": "b9e2f954-c591-4479-ba37-32862c25c660",
   "metadata": {},
   "outputs": [],
   "source": [
    "symmetry_actions = [\n",
    "    [[b, f] for b in bosonic_np_symmetries]\n",
    "    for f in fermionic_np_symmetries\n",
    "]"
   ]
  },
  {
   "cell_type": "code",
   "execution_count": 22,
   "id": "8c945b86-cec1-4b08-930f-1922b7e1bea6",
   "metadata": {},
   "outputs": [],
   "source": [
    "shifted_symmetry_actions = [\n",
    "    [[f, b] for b in bosonic_np_symmetries]\n",
    "    for f in fermionic_np_symmetries\n",
    "]"
   ]
  },
  {
   "cell_type": "code",
   "execution_count": 23,
   "id": "ac19b501-4293-4d08-8bb0-35515cd6a093",
   "metadata": {},
   "outputs": [],
   "source": [
    "cases = dict()\n",
    "\n",
    "for k, psi in loaded_data.items():\n",
    "\n",
    "    for i, l in enumerate(symmetry_actions):\n",
    "\n",
    "        for j, s in enumerate(l):\n",
    "            case = SymmetryActionWithBoundaryUnitaries(\n",
    "                psi,\n",
    "                s*50,\n",
    "                left_symmetry_index=50,\n",
    "                left_boundary_unitaries=[np_I, np_00]*1,\n",
    "                right_boundary_unitaries=[np_00, np_I]*1\n",
    "            )\n",
    "\n",
    "            cases[(*k, i, j)] = case"
   ]
  },
  {
   "cell_type": "code",
   "execution_count": 24,
   "id": "8e7ff810-32b3-4163-9b1b-ca96a282a7f5",
   "metadata": {},
   "outputs": [],
   "source": [
    "for c in cases.values():\n",
    "    c.compute_svd_approximate_expectation()"
   ]
  },
  {
   "cell_type": "code",
   "execution_count": 25,
   "id": "6d0180ee-6b87-40c9-8bb4-782c9c5b0083",
   "metadata": {},
   "outputs": [],
   "source": [
    "shifted_cases = dict()\n",
    "\n",
    "for k, psi in loaded_data.items():\n",
    "\n",
    "    for i, l in enumerate(shifted_symmetry_actions):\n",
    "\n",
    "        for j, s in enumerate(l):\n",
    "            case = SymmetryActionWithBoundaryUnitaries(\n",
    "                psi,\n",
    "                s*50,\n",
    "                left_symmetry_index=51,\n",
    "                left_boundary_unitaries=[np_00, np_I]*1,\n",
    "                right_boundary_unitaries=[np_I, np_00]*1\n",
    "            )\n",
    "\n",
    "            shifted_cases[(*k, i, j)] = case"
   ]
  },
  {
   "cell_type": "code",
   "execution_count": 26,
   "id": "7a5b4a5d-38e8-451a-8664-122b12a4488b",
   "metadata": {},
   "outputs": [],
   "source": [
    "for c in shifted_cases.values():\n",
    "    c.compute_svd_approximate_expectation()"
   ]
  },
  {
   "cell_type": "code",
   "execution_count": 27,
   "id": "88732f60-9cad-4436-a0ce-c3d7e32e2535",
   "metadata": {},
   "outputs": [],
   "source": [
    "symmetric_cases = dict()\n",
    "\n",
    "for k, psi in loaded_data.items():\n",
    "\n",
    "    for i, l in enumerate(symmetry_actions):\n",
    "\n",
    "        for j, s in enumerate(l):\n",
    "            case = SymmetryActionWithBoundaryUnitaries(\n",
    "                psi,\n",
    "                [s[1],] + s*49,\n",
    "                left_symmetry_index=51,\n",
    "                left_boundary_unitaries=[np_00, np_I, np_00],\n",
    "                right_boundary_unitaries=[np_00, np_I, np_00]\n",
    "            )\n",
    "\n",
    "            symmetric_cases[(*k, i, j)] = case"
   ]
  },
  {
   "cell_type": "code",
   "execution_count": 28,
   "id": "71497ede-da3e-4bdb-ace3-9a80c6ebdc8a",
   "metadata": {},
   "outputs": [],
   "source": [
    "for c in symmetric_cases.values():\n",
    "    c.compute_svd_approximate_expectation()"
   ]
  },
  {
   "cell_type": "code",
   "execution_count": 29,
   "id": "6bac53fa-b629-46fc-a145-f932a0af6f18",
   "metadata": {},
   "outputs": [],
   "source": [
    "left_trivial_leg_charge = tenpy.linalg.charges.LegCharge(\n",
    "    tenpy.linalg.charges.ChargeInfo([], []),\n",
    "    [0,1],\n",
    "    [[]],\n",
    "    qconj=1\n",
    ")"
   ]
  },
  {
   "cell_type": "code",
   "execution_count": 30,
   "id": "44f34cb7-0888-474b-9483-f4956951fc31",
   "metadata": {},
   "outputs": [],
   "source": [
    "right_trivial_leg_charge = tenpy.linalg.charges.LegCharge(\n",
    "    tenpy.linalg.charges.ChargeInfo([], []),\n",
    "    [0,1],\n",
    "    [[]],\n",
    "    qconj=-1\n",
    ")"
   ]
  },
  {
   "cell_type": "markdown",
   "id": "d5b61e4b-9640-4098-8c97-9e9c69fe72cb",
   "metadata": {},
   "source": [
    "# Test case"
   ]
  },
  {
   "cell_type": "code",
   "execution_count": 31,
   "id": "e4a6a31f-aef4-45ff-9bcd-f64de01952a5",
   "metadata": {},
   "outputs": [],
   "source": [
    "test_case = cases[False, (1,0), 1, 1]"
   ]
  },
  {
   "cell_type": "code",
   "execution_count": 32,
   "id": "7074f61b-2a6f-4825-bd93-2877dbf23329",
   "metadata": {},
   "outputs": [],
   "source": [
    "block_width = 3\n",
    "num_one_sided_iterations = 3\n",
    "num_two_sided_iterations = 3\n",
    "num_layers = 1\n",
    "num_sites = 3"
   ]
  },
  {
   "cell_type": "code",
   "execution_count": 33,
   "id": "ce036718-1241-4bd5-86c7-89ff7be8642e",
   "metadata": {},
   "outputs": [],
   "source": [
    "test_opt = MPSBrickSolver(\n",
    "    test_case,\n",
    "    num_sites,\n",
    "    block_width,\n",
    "    num_layers,\n",
    "    num_one_sided_iterations,\n",
    "    num_two_sided_iterations,\n",
    "    max_virtual_bond_dim=MAX_VIRTUAL_BOND_DIM\n",
    ")"
   ]
  },
  {
   "cell_type": "code",
   "execution_count": 34,
   "id": "01df149f-89d3-45e5-85ab-64e64d232760",
   "metadata": {},
   "outputs": [],
   "source": [
    "test_opt.optimise()"
   ]
  },
  {
   "cell_type": "code",
   "execution_count": 35,
   "id": "9e61e530-cc22-47ec-ba77-35be535cd2c9",
   "metadata": {},
   "outputs": [
    {
     "data": {
      "text/plain": [
       "[[[[1.000000000000003], [1.000000000000003], [1.000000000000003]],\n",
       "  [[1.0000000000000022], [1.0000000000000022], [1.0000000000000022]],\n",
       "  [[1.0000000000000036], [1.0000000000000036], [1.0000000000000036]]]]"
      ]
     },
     "execution_count": 35,
     "metadata": {},
     "output_type": "execute_result"
    }
   ],
   "source": [
    "test_opt.right_expectations"
   ]
  },
  {
   "cell_type": "code",
   "execution_count": 36,
   "id": "cba28053-8862-4e0e-8229-f649af0e039d",
   "metadata": {},
   "outputs": [
    {
     "data": {
      "text/plain": [
       "[[[[3.079773827816547e-17], [3.079773827816547e-17], [3.079773827816547e-17]],\n",
       "  [[1.0000000000000027], [1.0000000000000027], [1.0000000000000027]],\n",
       "  [[1.0000000000000029], [1.0000000000000029], [1.0000000000000029]]]]"
      ]
     },
     "execution_count": 36,
     "metadata": {},
     "output_type": "execute_result"
    }
   ],
   "source": [
    "test_opt.left_expectations"
   ]
  },
  {
   "cell_type": "code",
   "execution_count": 37,
   "id": "d5a20fdb-3bfb-4014-ae20-ea70238cf58e",
   "metadata": {},
   "outputs": [
    {
     "data": {
      "text/plain": [
       "[[<npc.Array shape=(32, 32) labels=['(p0.p1.p2)', '(p0*.p1*.p2*)']>]]"
      ]
     },
     "execution_count": 37,
     "metadata": {},
     "output_type": "execute_result"
    }
   ],
   "source": [
    "test_opt.right_unitaries"
   ]
  },
  {
   "cell_type": "code",
   "execution_count": 38,
   "id": "f9297631-7ba7-45b0-8d04-22867a3142bd",
   "metadata": {},
   "outputs": [
    {
     "data": {
      "text/plain": [
       "[[<npc.Array shape=(16, 16) labels=['(p0.p1.p2)', '(p0*.p1*.p2*)']>]]"
      ]
     },
     "execution_count": 38,
     "metadata": {},
     "output_type": "execute_result"
    }
   ],
   "source": [
    "test_opt.left_unitaries"
   ]
  },
  {
   "cell_type": "markdown",
   "id": "6abed7b9-6bd7-4274-a65f-eb6e3845e23c",
   "metadata": {},
   "source": [
    "# Sweep"
   ]
  },
  {
   "cell_type": "code",
   "execution_count": 39,
   "id": "1d413db6-f62f-45ed-8659-2037aaa9b981",
   "metadata": {},
   "outputs": [],
   "source": [
    "block_width = 3\n",
    "num_one_sided_iterations = 3\n",
    "num_two_sided_iterations = 3\n",
    "num_layers = 1\n",
    "num_sites = 3"
   ]
  },
  {
   "cell_type": "code",
   "execution_count": 40,
   "id": "5a9d3b5e-a093-4701-8d8a-16040aa7f758",
   "metadata": {},
   "outputs": [],
   "source": [
    "optimizer_dict = dict()\n",
    "\n",
    "for k, v in cases.items():\n",
    "    opt = MPSBrickSolver(\n",
    "        v,\n",
    "        num_sites,\n",
    "        block_width,\n",
    "        num_layers,\n",
    "        num_one_sided_iterations,\n",
    "        num_two_sided_iterations,\n",
    "        max_virtual_bond_dim=MAX_VIRTUAL_BOND_DIM\n",
    "    )\n",
    "\n",
    "    opt.optimise()\n",
    "\n",
    "    optimizer_dict[k] = opt"
   ]
  },
  {
   "cell_type": "code",
   "execution_count": 41,
   "id": "7d25c85c-6a68-4c70-ac86-36ae1e41d986",
   "metadata": {},
   "outputs": [],
   "source": [
    "final_exps = dict()\n",
    "\n",
    "for k, v in optimizer_dict.items():\n",
    "    final_exp = v.flatten_exps()[-1]\n",
    "    final_exps[k] = final_exp"
   ]
  },
  {
   "cell_type": "code",
   "execution_count": 42,
   "id": "90a29dac-04b7-40fa-bae7-481d7e2f8642",
   "metadata": {},
   "outputs": [],
   "source": [
    "bad_cases = [\n",
    "    k\n",
    "    for k, v in final_exps.items()\n",
    "    if v < 0.9\n",
    "]"
   ]
  },
  {
   "cell_type": "code",
   "execution_count": 43,
   "id": "c6e28239-a346-4a14-b094-4af4c6a32151",
   "metadata": {},
   "outputs": [
    {
     "data": {
      "text/plain": [
       "[(True, (1, 1), 0, 1),\n",
       " (True, (1, 1), 0, 2),\n",
       " (True, (1, 1), 1, 1),\n",
       " (True, (1, 1), 1, 2),\n",
       " (True, (0, 1), 0, 2),\n",
       " (True, (0, 1), 0, 3),\n",
       " (True, (0, 1), 1, 2),\n",
       " (True, (0, 1), 1, 3),\n",
       " (True, (1, 0), 0, 1),\n",
       " (True, (1, 0), 0, 3),\n",
       " (True, (1, 0), 1, 1),\n",
       " (True, (1, 0), 1, 3),\n",
       " (True, (0, 0), 0, 1),\n",
       " (True, (0, 0), 0, 2),\n",
       " (True, (0, 0), 0, 3),\n",
       " (True, (0, 0), 1, 1),\n",
       " (True, (0, 0), 1, 2),\n",
       " (True, (0, 0), 1, 3)]"
      ]
     },
     "execution_count": 43,
     "metadata": {},
     "output_type": "execute_result"
    }
   ],
   "source": [
    "bad_cases"
   ]
  },
  {
   "cell_type": "code",
   "execution_count": 44,
   "id": "cef6949d-80a0-4611-81de-7f0d5a53994b",
   "metadata": {},
   "outputs": [
    {
     "data": {
      "text/plain": [
       "18"
      ]
     },
     "execution_count": 44,
     "metadata": {},
     "output_type": "execute_result"
    }
   ],
   "source": [
    "len(bad_cases)"
   ]
  },
  {
   "cell_type": "markdown",
   "id": "f2527a85-e798-41be-b586-d36389bd5f87",
   "metadata": {},
   "source": [
    "Try again with wider parameters."
   ]
  },
  {
   "cell_type": "code",
   "execution_count": 45,
   "id": "a8c16338-cc25-4baa-8aee-23a4c23f7e5a",
   "metadata": {},
   "outputs": [],
   "source": [
    "block_width = 5\n",
    "num_one_sided_iterations = 1\n",
    "num_two_sided_iterations = 3\n",
    "num_layers = 1\n",
    "num_sites = 5"
   ]
  },
  {
   "cell_type": "code",
   "execution_count": 46,
   "id": "7473af0e-2191-47d7-84a1-40c3e2a787cb",
   "metadata": {},
   "outputs": [],
   "source": [
    "optimizer_dict = dict()\n",
    "\n",
    "for k, v in cases.items():\n",
    "    opt = MPSBrickSolver(\n",
    "        v,\n",
    "        num_sites,\n",
    "        block_width,\n",
    "        num_layers,\n",
    "        num_one_sided_iterations,\n",
    "        num_two_sided_iterations,\n",
    "        max_virtual_bond_dim=MAX_VIRTUAL_BOND_DIM\n",
    "    )\n",
    "\n",
    "    opt.optimise()\n",
    "\n",
    "    optimizer_dict[k] = opt"
   ]
  },
  {
   "cell_type": "code",
   "execution_count": 47,
   "id": "496b68a0-4e55-417f-ae8c-e5b0bb313563",
   "metadata": {},
   "outputs": [],
   "source": [
    "final_exps = dict()\n",
    "\n",
    "for k, v in optimizer_dict.items():\n",
    "    final_exp = v.flatten_exps()[-1]\n",
    "    final_exps[k] = final_exp"
   ]
  },
  {
   "cell_type": "code",
   "execution_count": 48,
   "id": "5f5c3c4b-776c-43c8-8f44-2c5f108d2dab",
   "metadata": {},
   "outputs": [],
   "source": [
    "bad_cases = [\n",
    "    k\n",
    "    for k, v in final_exps.items()\n",
    "    if v < 0.99\n",
    "]"
   ]
  },
  {
   "cell_type": "code",
   "execution_count": 49,
   "id": "205aba32-d48d-4f4f-9236-e35fe4383c53",
   "metadata": {},
   "outputs": [
    {
     "data": {
      "text/plain": [
       "[]"
      ]
     },
     "execution_count": 49,
     "metadata": {},
     "output_type": "execute_result"
    }
   ],
   "source": [
    "bad_cases"
   ]
  },
  {
   "cell_type": "code",
   "execution_count": 50,
   "id": "c9025a7f-b28a-4b9f-bf2a-0586a90c189c",
   "metadata": {},
   "outputs": [
    {
     "data": {
      "text/plain": [
       "{(False, (1, 1), 0, 0): 1.0000000000000075,\n",
       " (False, (1, 1), 0, 1): 1.0000000000000073,\n",
       " (False, (1, 1), 0, 2): 1.0000000000000082,\n",
       " (False, (1, 1), 0, 3): 1.0000000000000082,\n",
       " (False, (1, 1), 1, 0): 1.0000000000000078,\n",
       " (False, (1, 1), 1, 1): 1.0000000000000089,\n",
       " (False, (1, 1), 1, 2): 1.0000000000000073,\n",
       " (False, (1, 1), 1, 3): 1.0000000000000078,\n",
       " (True, (1, 1), 0, 0): 1.0000000000000144,\n",
       " (True, (1, 1), 0, 1): 1.0000000000000142,\n",
       " (True, (1, 1), 0, 2): 1.0000000000000149,\n",
       " (True, (1, 1), 0, 3): 1.0000000000000147,\n",
       " (True, (1, 1), 1, 0): 1.000000000000014,\n",
       " (True, (1, 1), 1, 1): 1.000000000000015,\n",
       " (True, (1, 1), 1, 2): 1.0000000000000149,\n",
       " (True, (1, 1), 1, 3): 1.0000000000000144,\n",
       " (True, (0, 1), 0, 0): 1.0000000000000149,\n",
       " (True, (0, 1), 0, 1): 1.0000000000000142,\n",
       " (True, (0, 1), 0, 2): 1.0000000000000149,\n",
       " (True, (0, 1), 0, 3): 1.0000000000000135,\n",
       " (True, (0, 1), 1, 0): 1.0000000000000142,\n",
       " (True, (0, 1), 1, 1): 1.0000000000000138,\n",
       " (True, (0, 1), 1, 2): 1.0000000000000138,\n",
       " (True, (0, 1), 1, 3): 1.0000000000000135,\n",
       " (False, (0, 1), 0, 0): 1.0000000000000049,\n",
       " (False, (0, 1), 0, 1): 1.0000000000000049,\n",
       " (False, (0, 1), 0, 2): 1.000000000000005,\n",
       " (False, (0, 1), 0, 3): 1.0000000000000047,\n",
       " (False, (0, 1), 1, 0): 1.0000000000000042,\n",
       " (False, (0, 1), 1, 1): 1.0000000000000044,\n",
       " (False, (0, 1), 1, 2): 1.0000000000000058,\n",
       " (False, (0, 1), 1, 3): 1.000000000000005,\n",
       " (False, (1, 0), 0, 0): 1.0000000000000093,\n",
       " (False, (1, 0), 0, 1): 1.00000000000001,\n",
       " (False, (1, 0), 0, 2): 1.0000000000000093,\n",
       " (False, (1, 0), 0, 3): 1.00000000000001,\n",
       " (False, (1, 0), 1, 0): 1.0000000000000089,\n",
       " (False, (1, 0), 1, 1): 1.0000000000000102,\n",
       " (False, (1, 0), 1, 2): 1.00000000000001,\n",
       " (False, (1, 0), 1, 3): 1.0000000000000104,\n",
       " (True, (1, 0), 0, 0): 1.0000000000000147,\n",
       " (True, (1, 0), 0, 1): 1.0000000000000155,\n",
       " (True, (1, 0), 0, 2): 1.000000000000015,\n",
       " (True, (1, 0), 0, 3): 1.0000000000000153,\n",
       " (True, (1, 0), 1, 0): 1.0000000000000147,\n",
       " (True, (1, 0), 1, 1): 1.0000000000000153,\n",
       " (True, (1, 0), 1, 2): 1.0000000000000147,\n",
       " (True, (1, 0), 1, 3): 1.0000000000000144,\n",
       " (True, (0, 0), 0, 0): 1.0000000000000002,\n",
       " (True, (0, 0), 0, 1): 1.0000000000000002,\n",
       " (True, (0, 0), 0, 2): 1.0000000000000002,\n",
       " (True, (0, 0), 0, 3): 1.0000000000000007,\n",
       " (True, (0, 0), 1, 0): 1.0000000000000002,\n",
       " (True, (0, 0), 1, 1): 1.0000000000000002,\n",
       " (True, (0, 0), 1, 2): 1.0000000000000002,\n",
       " (True, (0, 0), 1, 3): 1.0000000000000007,\n",
       " (False, (0, 0), 0, 0): 1.0000000000000353,\n",
       " (False, (0, 0), 0, 1): 1.0000000000000326,\n",
       " (False, (0, 0), 0, 2): 1.0000000000000364,\n",
       " (False, (0, 0), 0, 3): 1.0000000000000313,\n",
       " (False, (0, 0), 1, 0): 1.0000000000000353,\n",
       " (False, (0, 0), 1, 1): 1.0000000000000326,\n",
       " (False, (0, 0), 1, 2): 1.0000000000000364,\n",
       " (False, (0, 0), 1, 3): 1.0000000000000313}"
      ]
     },
     "execution_count": 50,
     "metadata": {},
     "output_type": "execute_result"
    }
   ],
   "source": [
    "final_exps"
   ]
  },
  {
   "cell_type": "markdown",
   "id": "d33397f3-5dba-4e1b-a670-9bb89b3f2baf",
   "metadata": {},
   "source": [
    "Double check expectations."
   ]
  },
  {
   "cell_type": "code",
   "execution_count": 51,
   "id": "de1146f7-19f6-4f16-bb1f-3cc86e15e662",
   "metadata": {},
   "outputs": [
    {
     "data": {
      "text/plain": [
       "(<npc.Array shape=(2, 2) labels=['vR', 'vR*']>,\n",
       " <npc.Array shape=(2, 2) labels=['vR', 'vR*']>,\n",
       " <npc.Array shape=(2, 2) labels=['vR', 'vR*']>,\n",
       " <npc.Array shape=(2, 2) labels=['vR*', 'vR']>)"
      ]
     },
     "execution_count": 51,
     "metadata": {},
     "output_type": "execute_result"
    }
   ],
   "source": [
    "(\n",
    "    test_opt.left_side_environment,\n",
    "    test_opt.right_side_environment,\n",
    "    test_opt.right_side_left_symmetry_environment,\n",
    "    test_opt.left_side_right_symmetry_environment\n",
    ")"
   ]
  },
  {
   "cell_type": "code",
   "execution_count": 52,
   "id": "30e2ab88-3072-4fb2-a2cd-79bda6a950ee",
   "metadata": {},
   "outputs": [],
   "source": [
    "def check_expectations(opt):\n",
    "    e1 = npc.tensordot(\n",
    "        opt.left_side_environment,\n",
    "        opt.right_side_left_symmetry_environment,\n",
    "        [['vR', 'vR*'], ['vR', 'vR*']]\n",
    "    )\n",
    "\n",
    "    e2 = npc.tensordot(\n",
    "        opt.right_side_environment,\n",
    "        opt.left_side_right_symmetry_environment,\n",
    "        [['vR', 'vR*'] ,['vR', 'vR*']]\n",
    "    )\n",
    "\n",
    "    return (e1, e2)"
   ]
  },
  {
   "cell_type": "code",
   "execution_count": 53,
   "id": "00bcaf33-b44b-42ee-845a-6e43bd706665",
   "metadata": {},
   "outputs": [],
   "source": [
    "check_exps = {\n",
    "    k: check_expectations(v)\n",
    "    for k, v in optimizer_dict.items()\n",
    "}"
   ]
  },
  {
   "cell_type": "code",
   "execution_count": 54,
   "id": "d64ed649-0952-4bf9-82e8-3b32184e7e85",
   "metadata": {},
   "outputs": [
    {
     "data": {
      "text/plain": [
       "{(False, (1, 1), 0, 0): ((1.0000000000000002+0j), (1.0000000000000002+0j)),\n",
       " (False, (1, 1), 0, 1): ((1.0000000000000009+0j), (1.0000000000000009+0j)),\n",
       " (False, (1, 1), 0, 2): ((1.0000000000000018+0j), (1.0000000000000016+0j)),\n",
       " (False, (1, 1), 0, 3): ((1.000000000000001+0j), (1.000000000000001+0j)),\n",
       " (False, (1, 1), 1, 0): ((1.0000000000000018+0j), (1.0000000000000018+0j)),\n",
       " (False, (1, 1), 1, 1): ((1.000000000000002+0j), (1.000000000000002+0j)),\n",
       " (False, (1, 1), 1, 2): ((1.000000000000001+0j), (1.000000000000001+0j)),\n",
       " (False, (1, 1), 1, 3): ((1.0000000000000013+0j), (1.0000000000000013+0j)),\n",
       " (True, (1, 1), 0, 0): ((1.0000000000000129+0j), (1.0000000000000127+0j)),\n",
       " (True, (1, 1), 0, 1): ((1.0000000000000129+0j), (1.0000000000000129+0j)),\n",
       " (True, (1, 1), 0, 2): ((1.0000000000000138+0j), (1.0000000000000138+0j)),\n",
       " (True, (1, 1), 0, 3): ((1.0000000000000129+0j), (1.0000000000000127+0j)),\n",
       " (True, (1, 1), 1, 0): ((1.0000000000000124+0j), (1.0000000000000127+0j)),\n",
       " (True, (1, 1), 1, 1): ((1.0000000000000135+0j), (1.0000000000000135+0j)),\n",
       " (True, (1, 1), 1, 2): ((1.0000000000000138+0j), (1.0000000000000138+0j)),\n",
       " (True, (1, 1), 1, 3): ((1.0000000000000129+0j), (1.0000000000000129+0j)),\n",
       " (True, (0, 1), 0, 0): ((1.0000000000000138+0j), (1.0000000000000138+0j)),\n",
       " (True, (0, 1), 0, 1): ((1.0000000000000133+0j), (1.0000000000000133+0j)),\n",
       " (True, (0, 1), 0, 2): ((1.000000000000014+0j), (1.0000000000000142+0j)),\n",
       " (True, (0, 1), 0, 3): ((1.0000000000000124+0j), (1.0000000000000124+0j)),\n",
       " (True, (0, 1), 1, 0): ((1.0000000000000138+0j), (1.0000000000000138+0j)),\n",
       " (True, (0, 1), 1, 1): ((1.0000000000000133+0j), (1.0000000000000133+0j)),\n",
       " (True, (0, 1), 1, 2): ((1.0000000000000127+0j), (1.0000000000000124+0j)),\n",
       " (True, (0, 1), 1, 3): ((1.0000000000000133+0j), (1.0000000000000133+0j)),\n",
       " (False, (0, 1), 0, 0): ((0.9999999999999971+0j), (0.9999999999999971+0j)),\n",
       " (False, (0, 1), 0, 1): ((0.9999999999999971+0j), (0.9999999999999971+0j)),\n",
       " (False, (0, 1), 0, 2): ((0.9999999999999973+0j), (0.9999999999999972+0j)),\n",
       " (False, (0, 1), 0, 3): ((0.9999999999999969+0j), (0.9999999999999968+0j)),\n",
       " (False, (0, 1), 1, 0): ((0.9999999999999963+0j), (0.9999999999999963+0j)),\n",
       " (False, (0, 1), 1, 1): ((0.9999999999999968+0j), (0.9999999999999968+0j)),\n",
       " (False, (0, 1), 1, 2): ((0.9999999999999974+0j), (0.9999999999999974+0j)),\n",
       " (False, (0, 1), 1, 3): ((0.9999999999999971+0j), (0.9999999999999971+0j)),\n",
       " (False, (1, 0), 0, 0): ((1.0000000000000013+0j), (1.0000000000000013+0j)),\n",
       " (False, (1, 0), 0, 1): ((1.0000000000000016+0j), (1.0000000000000016+0j)),\n",
       " (False, (1, 0), 0, 2): ((1.0000000000000013+0j), (1.0000000000000013+0j)),\n",
       " (False, (1, 0), 0, 3): ((1.000000000000002+0j), (1.000000000000002+0j)),\n",
       " (False, (1, 0), 1, 0): ((1.000000000000002+0j), (1.0000000000000018+0j)),\n",
       " (False, (1, 0), 1, 1): ((1.0000000000000024+0j), (1.0000000000000024+0j)),\n",
       " (False, (1, 0), 1, 2): ((1.0000000000000022+0j), (1.0000000000000022+0j)),\n",
       " (False, (1, 0), 1, 3): ((1.000000000000003+0j), (1.000000000000003+0j)),\n",
       " (True, (1, 0), 0, 0): ((1.0000000000000133+0j), (1.0000000000000133+0j)),\n",
       " (True, (1, 0), 0, 1): ((1.0000000000000133+0j), (1.0000000000000133+0j)),\n",
       " (True, (1, 0), 0, 2): ((1.0000000000000133+0j), (1.0000000000000133+0j)),\n",
       " (True, (1, 0), 0, 3): ((1.0000000000000135+0j), (1.0000000000000138+0j)),\n",
       " (True, (1, 0), 1, 0): ((1.0000000000000135+0j), (1.0000000000000135+0j)),\n",
       " (True, (1, 0), 1, 1): ((1.0000000000000144+0j), (1.0000000000000144+0j)),\n",
       " (True, (1, 0), 1, 2): ((1.0000000000000133+0j), (1.0000000000000133+0j)),\n",
       " (True, (1, 0), 1, 3): ((1.000000000000013+0j), (1.000000000000013+0j)),\n",
       " (True, (0, 0), 0, 0): ((0.9999999999999989+0j), (0.9999999999999989+0j)),\n",
       " (True, (0, 0), 0, 1): ((0.9999999999999993+0j), (0.9999999999999996+0j)),\n",
       " (True, (0, 0), 0, 2): ((0.9999999999999996+0j), (0.9999999999999993+0j)),\n",
       " (True, (0, 0), 0, 3): ((0.9999999999999998+0j), (0.9999999999999998+0j)),\n",
       " (True, (0, 0), 1, 0): ((0.9999999999999989+0j), (0.9999999999999989+0j)),\n",
       " (True, (0, 0), 1, 1): ((0.9999999999999993+0j), (0.9999999999999996+0j)),\n",
       " (True, (0, 0), 1, 2): ((0.9999999999999996+0j), (0.9999999999999993+0j)),\n",
       " (True, (0, 0), 1, 3): ((0.9999999999999998+0j), (0.9999999999999998+0j)),\n",
       " (False, (0, 0), 0, 0): ((0.9999999999999972+0j), (0.9999999999999972+0j)),\n",
       " (False, (0, 0), 0, 1): ((0.9999999999999969+0j), (0.9999999999999969+0j)),\n",
       " (False, (0, 0), 0, 2): ((0.9999999999999958+0j), (0.9999999999999958+0j)),\n",
       " (False, (0, 0), 0, 3): ((0.9999999999999957+0j), (0.9999999999999957+0j)),\n",
       " (False, (0, 0), 1, 0): ((0.9999999999999972+0j), (0.9999999999999972+0j)),\n",
       " (False, (0, 0), 1, 1): ((0.9999999999999969+0j), (0.9999999999999969+0j)),\n",
       " (False, (0, 0), 1, 2): ((0.9999999999999958+0j), (0.9999999999999958+0j)),\n",
       " (False, (0, 0), 1, 3): ((0.9999999999999957+0j), (0.9999999999999957+0j))}"
      ]
     },
     "execution_count": 54,
     "metadata": {},
     "output_type": "execute_result"
    }
   ],
   "source": [
    "check_exps"
   ]
  },
  {
   "cell_type": "code",
   "execution_count": 55,
   "id": "a78f1b07-e481-49bc-a9e0-e4e40033498a",
   "metadata": {},
   "outputs": [
    {
     "data": {
      "text/plain": [
       "{(False, (1, 1), 0, 0): 1.0000000000000075,\n",
       " (False, (1, 1), 0, 1): 1.0000000000000073,\n",
       " (False, (1, 1), 0, 2): 1.0000000000000082,\n",
       " (False, (1, 1), 0, 3): 1.0000000000000082,\n",
       " (False, (1, 1), 1, 0): 1.0000000000000078,\n",
       " (False, (1, 1), 1, 1): 1.0000000000000089,\n",
       " (False, (1, 1), 1, 2): 1.0000000000000073,\n",
       " (False, (1, 1), 1, 3): 1.0000000000000078,\n",
       " (True, (1, 1), 0, 0): 1.0000000000000144,\n",
       " (True, (1, 1), 0, 1): 1.0000000000000142,\n",
       " (True, (1, 1), 0, 2): 1.0000000000000149,\n",
       " (True, (1, 1), 0, 3): 1.0000000000000147,\n",
       " (True, (1, 1), 1, 0): 1.000000000000014,\n",
       " (True, (1, 1), 1, 1): 1.000000000000015,\n",
       " (True, (1, 1), 1, 2): 1.0000000000000149,\n",
       " (True, (1, 1), 1, 3): 1.0000000000000144,\n",
       " (True, (0, 1), 0, 0): 1.0000000000000149,\n",
       " (True, (0, 1), 0, 1): 1.0000000000000142,\n",
       " (True, (0, 1), 0, 2): 1.0000000000000149,\n",
       " (True, (0, 1), 0, 3): 1.0000000000000135,\n",
       " (True, (0, 1), 1, 0): 1.0000000000000142,\n",
       " (True, (0, 1), 1, 1): 1.0000000000000138,\n",
       " (True, (0, 1), 1, 2): 1.0000000000000138,\n",
       " (True, (0, 1), 1, 3): 1.0000000000000135,\n",
       " (False, (0, 1), 0, 0): 1.0000000000000049,\n",
       " (False, (0, 1), 0, 1): 1.0000000000000049,\n",
       " (False, (0, 1), 0, 2): 1.000000000000005,\n",
       " (False, (0, 1), 0, 3): 1.0000000000000047,\n",
       " (False, (0, 1), 1, 0): 1.0000000000000042,\n",
       " (False, (0, 1), 1, 1): 1.0000000000000044,\n",
       " (False, (0, 1), 1, 2): 1.0000000000000058,\n",
       " (False, (0, 1), 1, 3): 1.000000000000005,\n",
       " (False, (1, 0), 0, 0): 1.0000000000000093,\n",
       " (False, (1, 0), 0, 1): 1.00000000000001,\n",
       " (False, (1, 0), 0, 2): 1.0000000000000093,\n",
       " (False, (1, 0), 0, 3): 1.00000000000001,\n",
       " (False, (1, 0), 1, 0): 1.0000000000000089,\n",
       " (False, (1, 0), 1, 1): 1.0000000000000102,\n",
       " (False, (1, 0), 1, 2): 1.00000000000001,\n",
       " (False, (1, 0), 1, 3): 1.0000000000000104,\n",
       " (True, (1, 0), 0, 0): 1.0000000000000147,\n",
       " (True, (1, 0), 0, 1): 1.0000000000000155,\n",
       " (True, (1, 0), 0, 2): 1.000000000000015,\n",
       " (True, (1, 0), 0, 3): 1.0000000000000153,\n",
       " (True, (1, 0), 1, 0): 1.0000000000000147,\n",
       " (True, (1, 0), 1, 1): 1.0000000000000153,\n",
       " (True, (1, 0), 1, 2): 1.0000000000000147,\n",
       " (True, (1, 0), 1, 3): 1.0000000000000144,\n",
       " (True, (0, 0), 0, 0): 1.0000000000000002,\n",
       " (True, (0, 0), 0, 1): 1.0000000000000002,\n",
       " (True, (0, 0), 0, 2): 1.0000000000000002,\n",
       " (True, (0, 0), 0, 3): 1.0000000000000007,\n",
       " (True, (0, 0), 1, 0): 1.0000000000000002,\n",
       " (True, (0, 0), 1, 1): 1.0000000000000002,\n",
       " (True, (0, 0), 1, 2): 1.0000000000000002,\n",
       " (True, (0, 0), 1, 3): 1.0000000000000007,\n",
       " (False, (0, 0), 0, 0): 1.0000000000000353,\n",
       " (False, (0, 0), 0, 1): 1.0000000000000326,\n",
       " (False, (0, 0), 0, 2): 1.0000000000000364,\n",
       " (False, (0, 0), 0, 3): 1.0000000000000313,\n",
       " (False, (0, 0), 1, 0): 1.0000000000000353,\n",
       " (False, (0, 0), 1, 1): 1.0000000000000326,\n",
       " (False, (0, 0), 1, 2): 1.0000000000000364,\n",
       " (False, (0, 0), 1, 3): 1.0000000000000313}"
      ]
     },
     "execution_count": 55,
     "metadata": {},
     "output_type": "execute_result"
    }
   ],
   "source": [
    "final_exps"
   ]
  },
  {
   "cell_type": "code",
   "execution_count": 56,
   "id": "4eb8c35e-3b6b-4be3-bddf-288faa45d0f6",
   "metadata": {},
   "outputs": [],
   "source": [
    "test_opt = optimizer_dict[(True, (1, 0), 1, 1)]"
   ]
  },
  {
   "cell_type": "code",
   "execution_count": 57,
   "id": "3b4812a5-5672-4e91-804b-e8b919d8c3fd",
   "metadata": {},
   "outputs": [],
   "source": [
    "base_bs = test_opt.bottom_right_mps_tensors"
   ]
  },
  {
   "cell_type": "code",
   "execution_count": 58,
   "id": "c47cd8f3-97cd-4e9e-a7b0-3a4e502c3737",
   "metadata": {},
   "outputs": [
    {
     "data": {
      "text/plain": [
       "[<npc.Array shape=(4, 4, 4) labels=['vL', 'p', 'vR']>,\n",
       " <npc.Array shape=(4, 2, 4) labels=['vL', 'p', 'vR']>,\n",
       " <npc.Array shape=(4, 4, 4) labels=['vL', 'p', 'vR']>,\n",
       " <npc.Array shape=(4, 2, 4) labels=['vL', 'p', 'vR']>,\n",
       " <npc.Array shape=(4, 4, 4) labels=['vL', 'p', 'vR']>]"
      ]
     },
     "execution_count": 58,
     "metadata": {},
     "output_type": "execute_result"
    }
   ],
   "source": [
    "base_bs"
   ]
  },
  {
   "cell_type": "code",
   "execution_count": 59,
   "id": "2102b43b-0a55-4c65-bf7d-ffe306440d38",
   "metadata": {},
   "outputs": [
    {
     "data": {
      "text/plain": [
       "<npc.Array shape=(2, 2) labels=['p', 'p*']>"
      ]
     },
     "execution_count": 59,
     "metadata": {},
     "output_type": "execute_result"
    }
   ],
   "source": [
    "npc_JW"
   ]
  },
  {
   "cell_type": "code",
   "execution_count": 60,
   "id": "b8cf2186-c2f9-4760-b927-4932939eec12",
   "metadata": {},
   "outputs": [],
   "source": [
    "fp_bs = list()\n",
    "\n",
    "for i, b in enumerate(base_bs):\n",
    "    # Need to update this logic\n",
    "    if i%2:\n",
    "        b_to_add = npc.tensordot(b, npc_JW, [['p',], ['p*',]])\n",
    "    else:\n",
    "        b_to_add = b\n",
    "\n",
    "    fp_bs.append(b_to_add)"
   ]
  },
  {
   "cell_type": "code",
   "execution_count": 61,
   "id": "07bd8d37-a8b4-48b0-9d8a-e63e2fbbd69d",
   "metadata": {},
   "outputs": [],
   "source": [
    "fp_o_bs, _ = multiply_stacked_unitaries_against_mps(\n",
    "    test_opt.right_unitaries,\n",
    "    fp_bs,\n",
    "    test_opt.original_right_side_left_schmidt_values,\n",
    "    MAX_VIRTUAL_BOND_DIM\n",
    ")"
   ]
  },
  {
   "cell_type": "code",
   "execution_count": 62,
   "id": "2e53b997-979c-4e02-88ed-d0dc120e5641",
   "metadata": {},
   "outputs": [
    {
     "data": {
      "text/plain": [
       "(-1.0000000000000142+0j)"
      ]
     },
     "execution_count": 62,
     "metadata": {},
     "output_type": "execute_result"
    }
   ],
   "source": [
    "inner_product_b_tensors(\n",
    "    fp_o_bs,\n",
    "    fp_bs,\n",
    "    left_environment=test_opt.right_side_left_symmetry_environment\n",
    ")"
   ]
  },
  {
   "cell_type": "markdown",
   "id": "51c54185-a23b-4cf9-b2a1-e9b0f857a096",
   "metadata": {},
   "source": [
    "Sweep over solutions, make into a function."
   ]
  },
  {
   "cell_type": "code",
   "execution_count": 63,
   "id": "9cbf690f-5880-463c-ad25-44259f1ccd79",
   "metadata": {},
   "outputs": [],
   "source": [
    "l = list(range(10))"
   ]
  },
  {
   "cell_type": "code",
   "execution_count": 64,
   "id": "e11cdef4-67f7-4c66-81e3-4323fe7260db",
   "metadata": {},
   "outputs": [
    {
     "data": {
      "text/plain": [
       "[8, 7, 6, 5, 4, 3, 2, 1, 0]"
      ]
     },
     "execution_count": 64,
     "metadata": {},
     "output_type": "execute_result"
    }
   ],
   "source": [
    "l[-2::-1]"
   ]
  },
  {
   "cell_type": "code",
   "execution_count": 65,
   "id": "3294853c-f2b3-4426-a1a5-295ca4ae9bcb",
   "metadata": {},
   "outputs": [],
   "source": [
    "def right_fp_charge(optimizer):\n",
    "    opt = optimizer\n",
    "\n",
    "    base_bs = opt.bottom_right_mps_tensors\n",
    "\n",
    "    fp_bs = list()\n",
    "    \n",
    "    for i, b in enumerate(base_bs):\n",
    "        # Need to update this logic\n",
    "        if i%2:\n",
    "            b_to_add = npc.tensordot(b, npc_JW, [['p',], ['p*',]])\n",
    "        else:\n",
    "            b_to_add = b\n",
    "    \n",
    "        fp_bs.append(b_to_add)\n",
    "\n",
    "    fp_o_bs, _ = multiply_stacked_unitaries_against_mps(\n",
    "        opt.right_unitaries,\n",
    "        fp_bs,\n",
    "        opt.original_right_side_left_schmidt_values,\n",
    "        opt.max_virtual_bond_dim\n",
    "    )\n",
    "\n",
    "    out = inner_product_b_tensors(\n",
    "        fp_o_bs,\n",
    "        fp_bs,\n",
    "        left_environment=opt.right_side_left_symmetry_environment\n",
    "    )\n",
    "\n",
    "    return out"
   ]
  },
  {
   "cell_type": "code",
   "execution_count": 66,
   "id": "5a2f2c5b-2e47-40ad-a17a-a5df352e8732",
   "metadata": {},
   "outputs": [],
   "source": [
    "right_fp_charges = dict()\n",
    "\n",
    "for k, v in optimizer_dict.items():\n",
    "    right_fp_charges[k] = right_fp_charge(v)"
   ]
  },
  {
   "cell_type": "code",
   "execution_count": 67,
   "id": "2095b76f-2c74-41c6-8cf6-bf539dccde52",
   "metadata": {},
   "outputs": [
    {
     "data": {
      "text/plain": [
       "{(False, (1, 1), 0, 0): (1.0000000000000004+0j),\n",
       " (False, (1, 1), 0, 1): (-1.0000000000000002+0j),\n",
       " (False, (1, 1), 0, 2): (-1.0000000000000009+0j),\n",
       " (False, (1, 1), 0, 3): (1.000000000000001+0j),\n",
       " (False, (1, 1), 1, 0): (1.0000000000000018+0j),\n",
       " (False, (1, 1), 1, 1): (-1.000000000000002+0j),\n",
       " (False, (1, 1), 1, 2): (-1.0000000000000018+0j),\n",
       " (False, (1, 1), 1, 3): (1.0000000000000013+0j),\n",
       " (True, (1, 1), 0, 0): (1.0000000000000129+0j),\n",
       " (True, (1, 1), 0, 1): (-1.0000000000000129+0j),\n",
       " (True, (1, 1), 0, 2): (-1.0000000000000133+0j),\n",
       " (True, (1, 1), 0, 3): (1.0000000000000127+0j),\n",
       " (True, (1, 1), 1, 0): (1.0000000000000122+0j),\n",
       " (True, (1, 1), 1, 1): (-1.0000000000000138+0j),\n",
       " (True, (1, 1), 1, 2): (-1.000000000000013+0j),\n",
       " (True, (1, 1), 1, 3): (1.0000000000000129+0j),\n",
       " (True, (0, 1), 0, 0): (1.0000000000000142+0j),\n",
       " (True, (0, 1), 0, 1): (1.0000000000000133+0j),\n",
       " (True, (0, 1), 0, 2): (-1.0000000000000135+0j),\n",
       " (True, (0, 1), 0, 3): (-1.0000000000000124+0j),\n",
       " (True, (0, 1), 1, 0): (1.0000000000000135+0j),\n",
       " (True, (0, 1), 1, 1): (1.0000000000000124+0j),\n",
       " (True, (0, 1), 1, 2): (-1.0000000000000129+0j),\n",
       " (True, (0, 1), 1, 3): (-1.0000000000000124+0j),\n",
       " (False, (0, 1), 0, 0): (0.9999999999999972+0j),\n",
       " (False, (0, 1), 0, 1): (0.9999999999999972+0j),\n",
       " (False, (0, 1), 0, 2): (-0.9999999999999967+0j),\n",
       " (False, (0, 1), 0, 3): (-0.9999999999999967+0j),\n",
       " (False, (0, 1), 1, 0): (0.9999999999999976+0j),\n",
       " (False, (0, 1), 1, 1): (0.9999999999999973+0j),\n",
       " (False, (0, 1), 1, 2): (-0.9999999999999972+0j),\n",
       " (False, (0, 1), 1, 3): (-0.9999999999999978+0j),\n",
       " (False, (1, 0), 0, 0): (1.0000000000000013+0j),\n",
       " (False, (1, 0), 0, 1): (-1.0000000000000016+0j),\n",
       " (False, (1, 0), 0, 2): (1.0000000000000013+0j),\n",
       " (False, (1, 0), 0, 3): (-1.0000000000000027+0j),\n",
       " (False, (1, 0), 1, 0): (1.0000000000000016+0j),\n",
       " (False, (1, 0), 1, 1): (-1.0000000000000018+0j),\n",
       " (False, (1, 0), 1, 2): (1.0000000000000027+0j),\n",
       " (False, (1, 0), 1, 3): (-1.0000000000000027+0j),\n",
       " (True, (1, 0), 0, 0): (1.0000000000000138+0j),\n",
       " (True, (1, 0), 0, 1): (-1.000000000000014+0j),\n",
       " (True, (1, 0), 0, 2): (1.0000000000000133+0j),\n",
       " (True, (1, 0), 0, 3): (-1.0000000000000142+0j),\n",
       " (True, (1, 0), 1, 0): (1.0000000000000129+0j),\n",
       " (True, (1, 0), 1, 1): (-1.0000000000000142+0j),\n",
       " (True, (1, 0), 1, 2): (1.0000000000000127+0j),\n",
       " (True, (1, 0), 1, 3): (-1.0000000000000133+0j),\n",
       " (True, (0, 0), 0, 0): (0.9999999999999991+0j),\n",
       " (True, (0, 0), 0, 1): (0.9999999999999993+0j),\n",
       " (True, (0, 0), 0, 2): (0.9999999999999988+0j),\n",
       " (True, (0, 0), 0, 3): (0.9999999999999996+0j),\n",
       " (True, (0, 0), 1, 0): (0.9999999999999991+0j),\n",
       " (True, (0, 0), 1, 1): (0.9999999999999993+0j),\n",
       " (True, (0, 0), 1, 2): (0.9999999999999988+0j),\n",
       " (True, (0, 0), 1, 3): (0.9999999999999996+0j),\n",
       " (False, (0, 0), 0, 0): (0.9999999999999971+0j),\n",
       " (False, (0, 0), 0, 1): (0.9999999999999968+0j),\n",
       " (False, (0, 0), 0, 2): (0.999999999999996+0j),\n",
       " (False, (0, 0), 0, 3): (0.9999999999999958+0j),\n",
       " (False, (0, 0), 1, 0): (0.9999999999999971+0j),\n",
       " (False, (0, 0), 1, 1): (0.9999999999999968+0j),\n",
       " (False, (0, 0), 1, 2): (0.999999999999996+0j),\n",
       " (False, (0, 0), 1, 3): (0.9999999999999958+0j)}"
      ]
     },
     "execution_count": 67,
     "metadata": {},
     "output_type": "execute_result"
    }
   ],
   "source": [
    "right_fp_charges"
   ]
  },
  {
   "cell_type": "markdown",
   "id": "fde2128c-da18-44e9-b922-e198f16301b6",
   "metadata": {},
   "source": [
    "# Conclusion\n",
    "It works!"
   ]
  },
  {
   "cell_type": "markdown",
   "id": "4b9746a2-6c4d-4807-bfc7-91d820aff9a2",
   "metadata": {},
   "source": [
    "# Old code"
   ]
  },
  {
   "cell_type": "code",
   "execution_count": 68,
   "id": "e8f1d5ba-79b7-4432-a13c-586fec55d3ec",
   "metadata": {},
   "outputs": [],
   "source": [
    "def right_fp_charge_contraction(optimizer):\n",
    "    opt = optimizer\n",
    "\n",
    "    base_bs = opt.bottom_right_mps_tensors\n",
    "\n",
    "    fp_bs = list()\n",
    "    \n",
    "    for i, b in enumerate(base_bs):\n",
    "        # Need to update this logic\n",
    "        if i%2:\n",
    "            b_to_add = npc.tensordot(b, npc_JW, [['p',], ['p*',]])\n",
    "        else:\n",
    "            b_to_add = b\n",
    "    \n",
    "        fp_bs.append(b_to_add)\n",
    "\n",
    "    unitary = opt.right_unitaries[0][0].split_legs()\n",
    "\n",
    "    t = unitary\n",
    "\n",
    "    t = npc.tensordot(\n",
    "        t,\n",
    "        fp_bs[0],\n",
    "        [['p0*',], ['p']]\n",
    "    )\n",
    "\n",
    "    t = npc.tensordot(\n",
    "        t,\n",
    "        fp_bs[0].conj(),\n",
    "        [['p0',], ['p*']]\n",
    "    )\n",
    "\n",
    "    t = npc.tensordot(\n",
    "        t,\n",
    "        opt.right_side_left_symmetry_environment,\n",
    "        [['vL', 'vL*',], ['vR', 'vR*']]\n",
    "    )\n",
    "\n",
    "    for i, b in enumerate(fp_bs[1:], start=1):\n",
    "        t = npc.tensordot(\n",
    "            t,\n",
    "            b,\n",
    "            [[f'p{i}*', 'vR'], ['p', 'vL']]\n",
    "        )\n",
    "    \n",
    "        t = npc.tensordot(\n",
    "            t,\n",
    "            b.conj(),\n",
    "            [[f'p{i}', 'vR*'], ['p*', 'vL*']]\n",
    "        )\n",
    "    \n",
    "    out1 = npc.trace(t, 'vR', 'vR*')\n",
    "\n",
    "    t = unitary\n",
    "\n",
    "    t = npc.tensordot(\n",
    "        t,\n",
    "        base_bs[0],\n",
    "        [['p0*',], ['p']]\n",
    "    )\n",
    "\n",
    "    t = npc.tensordot(\n",
    "        t,\n",
    "        base_bs[0].conj(),\n",
    "        [['p0',], ['p*']]\n",
    "    )\n",
    "\n",
    "    t = npc.tensordot(\n",
    "        t,\n",
    "        opt.right_side_left_symmetry_environment,\n",
    "        [['vL', 'vL*',], ['vR', 'vR*']]\n",
    "    )\n",
    "\n",
    "    for i, b in enumerate(base_bs[1:], start=1):\n",
    "        t = npc.tensordot(\n",
    "            t,\n",
    "            b,\n",
    "            [[f'p{i}*', 'vR'], ['p', 'vL']]\n",
    "        )\n",
    "    \n",
    "        t = npc.tensordot(\n",
    "            t,\n",
    "            b.conj(),\n",
    "            [[f'p{i}', 'vR*'], ['p*', 'vL*']]\n",
    "        )\n",
    "    \n",
    "    out2 = npc.trace(t, 'vR', 'vR*')\n",
    "\n",
    "    return (out1, out2)"
   ]
  },
  {
   "cell_type": "code",
   "execution_count": 69,
   "id": "9a9a6628-5555-4d18-a02a-0ee62e6a6564",
   "metadata": {},
   "outputs": [
    {
     "data": {
      "text/plain": [
       "((-1.0000000000000147+0j), (1.0000000000000147+0j))"
      ]
     },
     "execution_count": 69,
     "metadata": {},
     "output_type": "execute_result"
    }
   ],
   "source": [
    "right_fp_charge_contraction(test_opt)"
   ]
  },
  {
   "cell_type": "code",
   "execution_count": 70,
   "id": "f009e848-ec89-4022-b7cf-a1e4711dc7b9",
   "metadata": {},
   "outputs": [],
   "source": [
    "right_fp_contraction_charges = dict()\n",
    "\n",
    "for k, v in optimizer_dict.items():\n",
    "    right_fp_contraction_charges[k] = right_fp_charge_contraction(v)"
   ]
  },
  {
   "cell_type": "code",
   "execution_count": 71,
   "id": "e404045f-5b69-4578-a75d-9710a31aa16f",
   "metadata": {},
   "outputs": [
    {
     "data": {
      "text/plain": [
       "{(False, (1, 1), 0, 0): ((1.0000000000000004+0j), (1.0000000000000004+0j)),\n",
       " (False, (1, 1), 0, 1): ((-1.0000000000000002+0j), (1.0000000000000002+0j)),\n",
       " (False, (1, 1), 0, 2): ((-1.000000000000001+0j), (1.000000000000001+0j)),\n",
       " (False, (1, 1), 0, 3): ((1.0000000000000009+0j), (1.0000000000000009+0j)),\n",
       " (False, (1, 1), 1, 0): ((1.0000000000000013+0j), (1.000000000000001+0j)),\n",
       " (False, (1, 1), 1, 1): ((-1.000000000000002+0j), (1.0000000000000018+0j)),\n",
       " (False, (1, 1), 1, 2): ((-1.0000000000000007+0j), (1.0000000000000007+0j)),\n",
       " (False, (1, 1), 1, 3): ((1.0000000000000009+0j), (1.0000000000000009+0j)),\n",
       " (True, (1, 1), 0, 0): ((1.0000000000000138+0j), (1.0000000000000135+0j)),\n",
       " (True, (1, 1), 0, 1): ((-1.0000000000000133+0j), (1.0000000000000133+0j)),\n",
       " (True, (1, 1), 0, 2): ((-1.0000000000000138+0j), (1.000000000000014+0j)),\n",
       " (True, (1, 1), 0, 3): ((1.000000000000014+0j), (1.000000000000014+0j)),\n",
       " (True, (1, 1), 1, 0): ((1.0000000000000127+0j), (1.0000000000000129+0j)),\n",
       " (True, (1, 1), 1, 1): ((-1.0000000000000138+0j), (1.0000000000000138+0j)),\n",
       " (True, (1, 1), 1, 2): ((-1.0000000000000138+0j), (1.0000000000000138+0j)),\n",
       " (True, (1, 1), 1, 3): ((1.0000000000000135+0j), (1.0000000000000133+0j)),\n",
       " (True, (0, 1), 0, 0): ((1.0000000000000138+0j), (1.000000000000014+0j)),\n",
       " (True, (0, 1), 0, 1): ((1.0000000000000133+0j), (1.0000000000000133+0j)),\n",
       " (True, (0, 1), 0, 2): ((-1.0000000000000138+0j), (1.0000000000000142+0j)),\n",
       " (True, (0, 1), 0, 3): ((-1.0000000000000127+0j), (1.0000000000000124+0j)),\n",
       " (True, (0, 1), 1, 0): ((1.0000000000000133+0j), (1.0000000000000133+0j)),\n",
       " (True, (0, 1), 1, 1): ((1.0000000000000129+0j), (1.0000000000000129+0j)),\n",
       " (True, (0, 1), 1, 2): ((-1.000000000000013+0j), (1.0000000000000129+0j)),\n",
       " (True, (0, 1), 1, 3): ((-1.0000000000000127+0j), (1.0000000000000127+0j)),\n",
       " (False, (0, 1), 0, 0): ((0.9999999999999978+0j), (0.9999999999999978+0j)),\n",
       " (False, (0, 1), 0, 1): ((0.9999999999999978+0j), (0.9999999999999978+0j)),\n",
       " (False, (0, 1), 0, 2): ((-0.9999999999999978+0j), (0.999999999999998+0j)),\n",
       " (False, (0, 1), 0, 3): ((-0.9999999999999978+0j), (0.9999999999999977+0j)),\n",
       " (False, (0, 1), 1, 0): ((0.9999999999999974+0j), (0.9999999999999974+0j)),\n",
       " (False, (0, 1), 1, 1): ((0.9999999999999974+0j), (0.9999999999999976+0j)),\n",
       " (False, (0, 1), 1, 2): ((-0.9999999999999982+0j), (0.9999999999999983+0j)),\n",
       " (False, (0, 1), 1, 3): ((-0.9999999999999982+0j), (0.9999999999999982+0j)),\n",
       " (False, (1, 0), 0, 0): ((1.0000000000000024+0j), (1.0000000000000022+0j)),\n",
       " (False, (1, 0), 0, 1): ((-1.0000000000000029+0j), (1.0000000000000029+0j)),\n",
       " (False, (1, 0), 0, 2): ((1.0000000000000022+0j), (1.0000000000000024+0j)),\n",
       " (False, (1, 0), 0, 3): ((-1.0000000000000033+0j), (1.0000000000000036+0j)),\n",
       " (False, (1, 0), 1, 0): ((1.0000000000000022+0j), (1.0000000000000022+0j)),\n",
       " (False, (1, 0), 1, 1): ((-1.000000000000003+0j), (1.000000000000003+0j)),\n",
       " (False, (1, 0), 1, 2): ((1.0000000000000027+0j), (1.0000000000000027+0j)),\n",
       " (False, (1, 0), 1, 3): ((-1.0000000000000033+0j), (1.000000000000003+0j)),\n",
       " (True, (1, 0), 0, 0): ((1.0000000000000138+0j), (1.0000000000000135+0j)),\n",
       " (True, (1, 0), 0, 1): ((-1.0000000000000147+0j), (1.0000000000000147+0j)),\n",
       " (True, (1, 0), 0, 2): ((1.000000000000014+0j), (1.0000000000000142+0j)),\n",
       " (True, (1, 0), 0, 3): ((-1.0000000000000144+0j), (1.0000000000000144+0j)),\n",
       " (True, (1, 0), 1, 0): ((1.0000000000000142+0j), (1.0000000000000138+0j)),\n",
       " (True, (1, 0), 1, 1): ((-1.0000000000000147+0j), (1.0000000000000147+0j)),\n",
       " (True, (1, 0), 1, 2): ((1.000000000000014+0j), (1.0000000000000138+0j)),\n",
       " (True, (1, 0), 1, 3): ((-1.0000000000000138+0j), (1.0000000000000138+0j)),\n",
       " (True, (0, 0), 0, 0): ((0.9999999999999991+0j), (0.9999999999999992+0j)),\n",
       " (True, (0, 0), 0, 1): ((0.9999999999999992+0j), (0.9999999999999991+0j)),\n",
       " (True, (0, 0), 0, 2): ((0.9999999999999994+0j), (0.9999999999999994+0j)),\n",
       " (True, (0, 0), 0, 3): ((0.9999999999999996+0j), (0.9999999999999996+0j)),\n",
       " (True, (0, 0), 1, 0): ((0.9999999999999991+0j), (0.9999999999999992+0j)),\n",
       " (True, (0, 0), 1, 1): ((0.9999999999999992+0j), (0.9999999999999991+0j)),\n",
       " (True, (0, 0), 1, 2): ((0.9999999999999994+0j), (0.9999999999999994+0j)),\n",
       " (True, (0, 0), 1, 3): ((0.9999999999999996+0j), (0.9999999999999996+0j)),\n",
       " (False, (0, 0), 0, 0): ((0.9999999999999969+0j), (0.9999999999999968+0j)),\n",
       " (False, (0, 0), 0, 1): ((0.9999999999999964+0j), (0.9999999999999963+0j)),\n",
       " (False, (0, 0), 0, 2): ((0.9999999999999958+0j), (0.9999999999999958+0j)),\n",
       " (False, (0, 0), 0, 3): ((0.9999999999999956+0j), (0.9999999999999956+0j)),\n",
       " (False, (0, 0), 1, 0): ((0.9999999999999969+0j), (0.9999999999999968+0j)),\n",
       " (False, (0, 0), 1, 1): ((0.9999999999999964+0j), (0.9999999999999963+0j)),\n",
       " (False, (0, 0), 1, 2): ((0.9999999999999958+0j), (0.9999999999999958+0j)),\n",
       " (False, (0, 0), 1, 3): ((0.9999999999999956+0j), (0.9999999999999956+0j))}"
      ]
     },
     "execution_count": 71,
     "metadata": {},
     "output_type": "execute_result"
    }
   ],
   "source": [
    "right_fp_contraction_charges"
   ]
  },
  {
   "cell_type": "code",
   "execution_count": 72,
   "id": "300c8684-7892-49c0-8431-b4a6d6e823e1",
   "metadata": {},
   "outputs": [],
   "source": [
    "diffs = list()\n",
    "\n",
    "for k in right_fp_contraction_charges:\n",
    "    c1 = right_fp_charges[k]\n",
    "    c2 = right_fp_contraction_charges[k]\n",
    "    diff = np.abs(c1-c2)\n",
    "    diffs.append(diff)\n",
    "\n",
    "diffs = np.array(diffs)"
   ]
  },
  {
   "cell_type": "code",
   "execution_count": 73,
   "id": "76c6e244-c650-4f51-a30d-b1672b3a2ec5",
   "metadata": {},
   "outputs": [
    {
     "data": {
      "text/plain": [
       "2.000000000000029"
      ]
     },
     "execution_count": 73,
     "metadata": {},
     "output_type": "execute_result"
    }
   ],
   "source": [
    "np.max(diffs)"
   ]
  },
  {
   "cell_type": "markdown",
   "id": "1e3e6dca-75f1-4107-8da9-05005f34d5be",
   "metadata": {},
   "source": [
    "So they're the same...\n",
    "\n",
    "Try old method."
   ]
  },
  {
   "cell_type": "code",
   "execution_count": 74,
   "id": "60f9adc3-bb78-4e0a-bb96-3a97b5f655d4",
   "metadata": {},
   "outputs": [],
   "source": [
    "def extract_right_rdm(case, num_sites):\n",
    "    t = case.right_projected_symmetry_state\n",
    "    psi = case.psi\n",
    "\n",
    "    right_symmetry_index = case.right_symmetry_index + 1\n",
    "    sites = range(right_symmetry_index, right_symmetry_index + num_sites)\n",
    "    for i, site_index in enumerate(sites):\n",
    "        b = psi.get_B(site_index)\n",
    "        b = b.replace_label('p', f'p{i}')\n",
    "        \n",
    "        t = npc.tensordot(t, b, [['vR',], ['vL',]])\n",
    "        t = npc.tensordot(t, b.conj(), [['vR*',], ['vL*',]])\n",
    "    \n",
    "    t = npc.trace(t, 'vR', 'vR*')\n",
    "\n",
    "    sing_val = case.symmetry_transfer_matrix_singular_vals[0]\n",
    "    t*= np.sqrt(sing_val)\n",
    "\n",
    "    return t"
   ]
  },
  {
   "cell_type": "code",
   "execution_count": 75,
   "id": "a56048ec-ed0a-4a74-b29b-64d3f07edcfb",
   "metadata": {},
   "outputs": [],
   "source": [
    "right_rdms = dict()\n",
    "\n",
    "for k, v in optimizer_dict.items():\n",
    "    right_rdms[k] = extract_right_rdm(v.symmetry_case, 5)"
   ]
  },
  {
   "cell_type": "code",
   "execution_count": 76,
   "id": "9c81c6f5-d142-41c7-8e48-1cabf4103371",
   "metadata": {},
   "outputs": [],
   "source": [
    "np_fp_operator = (\n",
    "    np_00[(...,) + (np.newaxis,)*8]\n",
    "    * np_JW[(np.newaxis,)*2 + (...,) + (np.newaxis,)*6]\n",
    "    * np_00[(np.newaxis,)*4  + (...,) + (np.newaxis,)*4]\n",
    "    * np_JW[(np.newaxis,)*6 + (...,) + (np.newaxis,)*2]\n",
    "    * np_00[(np.newaxis,)*8 + (...,)]\n",
    ")"
   ]
  },
  {
   "cell_type": "code",
   "execution_count": 77,
   "id": "b3c06635-76e0-4f7b-ba3c-bbd0be39dc04",
   "metadata": {},
   "outputs": [],
   "source": [
    "fp_operator = npc.Array.from_ndarray_trivial(\n",
    "    np_fp_operator,\n",
    "    labels = [\n",
    "        'p0',\n",
    "        'p0*',\n",
    "        'p1',\n",
    "        'p1*',\n",
    "        'p2',\n",
    "        'p2*',\n",
    "        'p3',\n",
    "        'p3*',\n",
    "        'p4',\n",
    "        'p4*'\n",
    "    ]\n",
    ")"
   ]
  },
  {
   "cell_type": "code",
   "execution_count": 78,
   "id": "e6623e52-a4d6-4e0f-a9b2-caf17a5aa2f6",
   "metadata": {},
   "outputs": [],
   "source": [
    "def fp_operator_check(rdm, svd_sol):\n",
    "    t = rdm\n",
    "\n",
    "    t = npc.tensordot(\n",
    "        t,\n",
    "        fp_operator,\n",
    "        [\n",
    "            ['p0', 'p1', 'p2', 'p3', 'p4'],\n",
    "            ['p0*', 'p1*', 'p2*', 'p3*', 'p4*']\n",
    "        ]\n",
    "    )\n",
    "\n",
    "    t = npc.tensordot(\n",
    "        t,\n",
    "        svd_sol.split_legs(),\n",
    "        [\n",
    "            ['p0', 'p1', 'p2', 'p3', 'p4'],\n",
    "            ['p0*', 'p1*', 'p2*', 'p3*', 'p4*']\n",
    "        ]\n",
    "    )\n",
    "\n",
    "    out1 = npc.tensordot(\n",
    "        t,\n",
    "        fp_operator,\n",
    "        [\n",
    "            ['p0', 'p1', 'p2', 'p3', 'p4', 'p0*', 'p1*', 'p2*', 'p3*', 'p4*'],\n",
    "            ['p0*', 'p1*', 'p2*', 'p3*', 'p4*', 'p0', 'p1', 'p2', 'p3', 'p4']\n",
    "        ]\n",
    "    )\n",
    "\n",
    "    out2 = npc.tensordot(\n",
    "        rdm,\n",
    "        svd_sol.split_legs(),\n",
    "        [\n",
    "            ['p0', 'p1', 'p2', 'p3', 'p4', 'p0*', 'p1*', 'p2*', 'p3*', 'p4*'],\n",
    "            ['p0*', 'p1*', 'p2*', 'p3*', 'p4*', 'p0', 'p1', 'p2', 'p3', 'p4']\n",
    "        ]\n",
    "    )\n",
    "\n",
    "    \n",
    "    return (out1, out2)"
   ]
  },
  {
   "cell_type": "code",
   "execution_count": 79,
   "id": "84d79310-147e-4f5c-b524-1a414678260e",
   "metadata": {},
   "outputs": [],
   "source": [
    "fp_rdm_checks = dict()\n",
    "\n",
    "for k, v in right_rdms.items():\n",
    "    unitary = optimizer_dict[k].right_unitaries[0][0]\n",
    "    out = fp_operator_check(v, unitary)\n",
    "\n",
    "    fp_rdm_checks[k] = out"
   ]
  },
  {
   "cell_type": "code",
   "execution_count": 80,
   "id": "0fba1024-0cba-4a41-9f2d-b3f0eb539a49",
   "metadata": {},
   "outputs": [
    {
     "data": {
      "text/plain": [
       "{(False, (1, 1), 0, 0): ((-1.0000000000000002+0j), (-1.0000000000000002+0j)),\n",
       " (False, (1, 1), 0, 1): ((0.9999999999999998+0j), (-0.9999999999999998+0j)),\n",
       " (False, (1, 1), 0, 2): ((1+0j), (-1.0000000000000002+0j)),\n",
       " (False, (1, 1), 0, 3): ((-1+0j), (-1+0j)),\n",
       " (False, (1, 1), 1, 0): ((-0.9999999999999999+0j), (-0.9999999999999996+0j)),\n",
       " (False, (1, 1), 1, 1): ((0.9999999999999998+0j), (-0.9999999999999998+0j)),\n",
       " (False, (1, 1), 1, 2): ((1+0j), (-0.9999999999999999+0j)),\n",
       " (False, (1, 1), 1, 3): ((-0.9999999999999999+0j), (-0.9999999999999999+0j)),\n",
       " (True, (1, 1), 0, 0): ((-1.0000000000000075+0j), (-1.0000000000000075+0j)),\n",
       " (True, (1, 1), 0, 1): ((-1.0000000000000073+0j), (1.0000000000000073+0j)),\n",
       " (True, (1, 1), 0, 2): ((-1.0000000000000073+0j), (1.000000000000007+0j)),\n",
       " (True, (1, 1), 0, 3): ((-1.0000000000000075+0j), (-1.0000000000000075+0j)),\n",
       " (True, (1, 1), 1, 0): ((-1.000000000000007+0j), (-1.0000000000000073+0j)),\n",
       " (True, (1, 1), 1, 1): ((1.0000000000000069+0j), (-1.000000000000007+0j)),\n",
       " (True, (1, 1), 1, 2): ((-1.000000000000007+0j), (1.0000000000000069+0j)),\n",
       " (True, (1, 1), 1, 3): ((-1.000000000000007+0j), (-1.000000000000007+0j)),\n",
       " (True, (0, 1), 0, 0): ((-1.0000000000000064+0j), (-1.0000000000000064+0j)),\n",
       " (True, (0, 1), 0, 1): ((1.0000000000000069+0j), (1.0000000000000064+0j)),\n",
       " (True, (0, 1), 0, 2): ((-1.0000000000000062+0j), (1.0000000000000062+0j)),\n",
       " (True, (0, 1), 0, 3): ((1.0000000000000062+0j), (-1.0000000000000062+0j)),\n",
       " (True, (0, 1), 1, 0): ((-1.0000000000000062+0j), (-1.0000000000000062+0j)),\n",
       " (True, (0, 1), 1, 1): ((-1.0000000000000064+0j), (-1.0000000000000064+0j)),\n",
       " (True, (0, 1), 1, 2): ((-1.0000000000000062+0j), (1.0000000000000064+0j)),\n",
       " (True, (0, 1), 1, 3): ((-1.0000000000000058+0j), (1.0000000000000058+0j)),\n",
       " (False, (0, 1), 0, 0): ((-0.9999999999999994+0j), (-0.9999999999999993+0j)),\n",
       " (False, (0, 1), 0, 1): ((-0.9999999999999994+0j), (-0.9999999999999993+0j)),\n",
       " (False, (0, 1), 0, 2): ((0.9999999999999996+0j), (-0.9999999999999998+0j)),\n",
       " (False, (0, 1), 0, 3): ((0.9999999999999997+0j), (-0.9999999999999997+0j)),\n",
       " (False, (0, 1), 1, 0): ((0.9999999999999992+0j), (0.9999999999999992+0j)),\n",
       " (False, (0, 1), 1, 1): ((0.9999999999999993+0j), (0.9999999999999994+0j)),\n",
       " (False, (0, 1), 1, 2): ((-0.9999999999999997+0j), (0.9999999999999994+0j)),\n",
       " (False, (0, 1), 1, 3): ((-0.9999999999999997+0j), (0.9999999999999997+0j)),\n",
       " (False, (1, 0), 0, 0): ((-1.0000000000000018+0j), (-1.0000000000000016+0j)),\n",
       " (False, (1, 0), 0, 1): ((-1.0000000000000022+0j), (1.0000000000000022+0j)),\n",
       " (False, (1, 0), 0, 2): ((-1.0000000000000018+0j), (-1.0000000000000018+0j)),\n",
       " (False, (1, 0), 0, 3): ((-1.0000000000000022+0j), (1.0000000000000024+0j)),\n",
       " (False, (1, 0), 1, 0): ((-1.000000000000001+0j), (-1.0000000000000013+0j)),\n",
       " (False, (1, 0), 1, 1): ((1.0000000000000013+0j), (-1.0000000000000016+0j)),\n",
       " (False, (1, 0), 1, 2): ((-1.0000000000000018+0j), (-1.0000000000000016+0j)),\n",
       " (False, (1, 0), 1, 3): ((1.0000000000000018+0j), (-1.0000000000000018+0j)),\n",
       " (True, (1, 0), 0, 0): ((-1.0000000000000064+0j), (-1.0000000000000064+0j)),\n",
       " (True, (1, 0), 0, 1): ((1.000000000000007+0j), (-1.000000000000007+0j)),\n",
       " (True, (1, 0), 0, 2): ((1.000000000000007+0j), (1.0000000000000069+0j)),\n",
       " (True, (1, 0), 0, 3): ((1.000000000000007+0j), (-1.000000000000007+0j)),\n",
       " (True, (1, 0), 1, 0): ((1.000000000000007+0j), (1.000000000000007+0j)),\n",
       " (True, (1, 0), 1, 1): ((-1.0000000000000067+0j), (1.0000000000000067+0j)),\n",
       " (True, (1, 0), 1, 2): ((-1.0000000000000067+0j), (-1.0000000000000067+0j)),\n",
       " (True, (1, 0), 1, 3): ((1.0000000000000069+0j), (-1.0000000000000069+0j)),\n",
       " (True, (0, 0), 0, 0): ((-0.9999999999999996+0j), (-0.9999999999999994+0j)),\n",
       " (True, (0, 0), 0, 1): ((-0.9999999999999993+0j), (-0.9999999999999993+0j)),\n",
       " (True, (0, 0), 0, 2): ((1+0j), (0.9999999999999999+0j)),\n",
       " (True, (0, 0), 0, 3): ((0.9999999999999991+0j), (0.9999999999999991+0j)),\n",
       " (True, (0, 0), 1, 0): ((-0.9999999999999996+0j), (-0.9999999999999994+0j)),\n",
       " (True, (0, 0), 1, 1): ((-0.9999999999999993+0j), (-0.9999999999999993+0j)),\n",
       " (True, (0, 0), 1, 2): ((1+0j), (0.9999999999999999+0j)),\n",
       " (True, (0, 0), 1, 3): ((0.9999999999999991+0j), (0.9999999999999991+0j)),\n",
       " (False, (0, 0), 0, 0): ((0.9999999999999982+0j), (0.9999999999999981+0j)),\n",
       " (False, (0, 0), 0, 1): ((0.9999999999999979+0j), (0.999999999999998+0j)),\n",
       " (False, (0, 0), 0, 2): ((0.9999999999999976+0j), (0.9999999999999978+0j)),\n",
       " (False, (0, 0), 0, 3): ((0.9999999999999976+0j), (0.9999999999999973+0j)),\n",
       " (False, (0, 0), 1, 0): ((0.9999999999999982+0j), (0.9999999999999981+0j)),\n",
       " (False, (0, 0), 1, 1): ((0.9999999999999979+0j), (0.999999999999998+0j)),\n",
       " (False, (0, 0), 1, 2): ((0.9999999999999976+0j), (0.9999999999999978+0j)),\n",
       " (False, (0, 0), 1, 3): ((0.9999999999999976+0j), (0.9999999999999973+0j))}"
      ]
     },
     "execution_count": 80,
     "metadata": {},
     "output_type": "execute_result"
    }
   ],
   "source": [
    "fp_rdm_checks"
   ]
  },
  {
   "cell_type": "markdown",
   "id": "c1ca08cf-666e-43f1-b74c-17895ffb633b",
   "metadata": {},
   "source": [
    "Try old solution method. (New one appears to not be working...!)"
   ]
  },
  {
   "cell_type": "code",
   "execution_count": 81,
   "id": "63177547-a2b1-4cad-b9bb-b62251b06f67",
   "metadata": {},
   "outputs": [],
   "source": [
    "def extract_SVD(rdm):\n",
    "    grouped_rdm = rdm.combine_legs([\n",
    "        ['p0', 'p1', 'p2', 'p3', 'p4'],\n",
    "        ['p0*', 'p1*', 'p2*', 'p3*', 'p4*']\n",
    "    ])\n",
    "\n",
    "    U, S, VH = npc.svd(grouped_rdm, inner_labels=['i', 'i*'])\n",
    "\n",
    "    out = npc.tensordot(U, VH, [['i',], ['i*',]])\n",
    "    out = out.conj()\n",
    "\n",
    "    test = npc.tensordot(\n",
    "        grouped_rdm,\n",
    "        out,\n",
    "        [\n",
    "            ['(p0.p1.p2.p3.p4)', '(p0*.p1*.p2*.p3*.p4*)'],\n",
    "            ['(p0*.p1*.p2*.p3*.p4*)', '(p0.p1.p2.p3.p4)']\n",
    "        ]\n",
    "    )\n",
    "\n",
    "    return np.sum(S), out, test"
   ]
  },
  {
   "cell_type": "code",
   "execution_count": 82,
   "id": "40c20d7b-7c37-49b5-8339-8f825e8a26dc",
   "metadata": {},
   "outputs": [],
   "source": [
    "X = (\n",
    "    test_opt.right_side_left_symmetry_environment.to_ndarray()\n",
    "    - test_opt.symmetry_case.right_projected_symmetry_state.to_ndarray()\n",
    ")"
   ]
  },
  {
   "cell_type": "code",
   "execution_count": 83,
   "id": "7171e2fe-8e39-4cfa-9da8-10da310962e9",
   "metadata": {},
   "outputs": [
    {
     "data": {
      "text/plain": [
       "array([[-0.  +0.j,  0.05+0.j, -0.19+0.j, -0.15+0.j],\n",
       "       [-0.05+0.j, -0.  +0.j, -0.15+0.j,  0.19+0.j],\n",
       "       [ 0.19+0.j,  0.15+0.j,  0.  +0.j,  0.05+0.j],\n",
       "       [ 0.15+0.j, -0.19+0.j, -0.05+0.j,  0.  +0.j]])"
      ]
     },
     "execution_count": 83,
     "metadata": {},
     "output_type": "execute_result"
    }
   ],
   "source": [
    "np.round(X, 2)"
   ]
  },
  {
   "cell_type": "code",
   "execution_count": 84,
   "id": "37d3deca-346d-4ccc-bf77-1d43595aa80b",
   "metadata": {},
   "outputs": [
    {
     "data": {
      "text/plain": [
       "array([2.50000000e-01, 2.20074957e-17, 1.59584405e-17, 8.09078008e-18,\n",
       "       6.10133891e-18, 3.60538764e-18, 2.86876835e-18, 1.30596327e-18,\n",
       "       5.83134352e-19, 3.79361049e-19, 4.77755246e-34, 2.75125670e-34,\n",
       "       1.40409237e-34, 1.95609703e-35, 7.97635267e-36, 6.02520616e-38])"
      ]
     },
     "execution_count": 84,
     "metadata": {},
     "output_type": "execute_result"
    }
   ],
   "source": [
    "test_opt.symmetry_case.symmetry_transfer_matrix_singular_vals"
   ]
  },
  {
   "cell_type": "markdown",
   "id": "aa19cee1-49a6-4b90-8f7f-73cd3dbf45a8",
   "metadata": {},
   "source": [
    "Non-degenerate, so the left/right environment should _not_ be changing appreciably...!"
   ]
  },
  {
   "cell_type": "code",
   "execution_count": 85,
   "id": "a98e7186-bbe9-4277-ae3e-610a64d05fd5",
   "metadata": {},
   "outputs": [],
   "source": [
    "l = list(range(10))"
   ]
  },
  {
   "cell_type": "code",
   "execution_count": 86,
   "id": "7c3259e2-3568-46ce-8c7f-9f30db1fa60c",
   "metadata": {},
   "outputs": [
    {
     "data": {
      "text/plain": [
       "[9, 8, 7, 6, 5, 4, 3, 2, 1, 0]"
      ]
     },
     "execution_count": 86,
     "metadata": {},
     "output_type": "execute_result"
    }
   ],
   "source": [
    "l[::-1]"
   ]
  },
  {
   "cell_type": "code",
   "execution_count": 87,
   "id": "48da6f02-97c6-4351-ab68-197b9bbe977f",
   "metadata": {},
   "outputs": [
    {
     "data": {
      "text/plain": [
       "[0, 1, 2, 3, 4, 5, 6, 7, 8, 9]"
      ]
     },
     "execution_count": 87,
     "metadata": {},
     "output_type": "execute_result"
    }
   ],
   "source": [
    "l"
   ]
  },
  {
   "cell_type": "code",
   "execution_count": 88,
   "id": "bf231716-8aed-4902-b608-762bee70da6f",
   "metadata": {},
   "outputs": [],
   "source": [
    "X = (\n",
    "    test_opt.left_side_right_symmetry_environment.to_ndarray()\n",
    "    - test_opt.symmetry_case.left_projected_symmetry_state.to_ndarray()\n",
    ")"
   ]
  },
  {
   "cell_type": "code",
   "execution_count": 89,
   "id": "21040ebe-d7c7-49c5-9556-d3cdc6509bbb",
   "metadata": {},
   "outputs": [
    {
     "data": {
      "text/plain": [
       "array([[-0.  +0.j, -0.18+0.j,  0.02+0.j,  0.73+0.j],\n",
       "       [ 0.18+0.j,  0.  +0.j, -0.73+0.j,  0.02+0.j],\n",
       "       [-0.02+0.j,  0.73+0.j,  0.  +0.j,  0.18+0.j],\n",
       "       [-0.73+0.j, -0.02+0.j, -0.18+0.j, -0.  +0.j]])"
      ]
     },
     "execution_count": 89,
     "metadata": {},
     "output_type": "execute_result"
    }
   ],
   "source": [
    "np.round(X, 2)"
   ]
  },
  {
   "cell_type": "code",
   "execution_count": 90,
   "id": "20078498-a2a1-484c-9148-5089e4842024",
   "metadata": {},
   "outputs": [],
   "source": [
    "X = (\n",
    "    test_opt.right_side_left_symmetry_environment.to_ndarray()\n",
    "    - test_opt.symmetry_case.left_projected_symmetry_state.to_ndarray()\n",
    ")"
   ]
  },
  {
   "cell_type": "code",
   "execution_count": 91,
   "id": "0ae395fb-5727-4904-b343-a2b98ca1965e",
   "metadata": {},
   "outputs": [
    {
     "data": {
      "text/plain": [
       "array([[-0.  +0.j, -0.17+0.j,  0.2 +0.j,  0.64+0.j],\n",
       "       [ 0.17+0.j,  0.  +0.j, -0.33+0.j, -0.18+0.j],\n",
       "       [-0.2 +0.j,  0.33+0.j, -0.  +0.j,  0.06+0.j],\n",
       "       [-0.64+0.j,  0.18+0.j, -0.06+0.j, -0.  +0.j]])"
      ]
     },
     "execution_count": 91,
     "metadata": {},
     "output_type": "execute_result"
    }
   ],
   "source": [
    "np.round(X, 2)"
   ]
  },
  {
   "cell_type": "markdown",
   "id": "f374324b-3692-4f65-9c39-d6d297742074",
   "metadata": {},
   "source": [
    "Environments are wrong, so just do it the \"dumb\" way for now."
   ]
  },
  {
   "cell_type": "code",
   "execution_count": 92,
   "id": "954680c2-adf7-4470-bff0-9cc186e9b789",
   "metadata": {},
   "outputs": [],
   "source": [
    "right_svd_solds = {\n",
    "    k: extract_SVD(v) for k, v in right_rdms.items()\n",
    "}"
   ]
  },
  {
   "cell_type": "code",
   "execution_count": 93,
   "id": "2c43dfeb-c603-4af4-ac4b-6bc0653759a8",
   "metadata": {
    "scrolled": true
   },
   "outputs": [
    {
     "data": {
      "text/plain": [
       "{(False, (1, 1), 0, 0): (1.0000000000000084, (1.0000000000000004+0j)),\n",
       " (False, (1, 1), 0, 1): (1.0000000000000078, (1+0j)),\n",
       " (False, (1, 1), 0, 2): (1.000000000000008, (1.0000000000000004+0j)),\n",
       " (False, (1, 1), 0, 3): (1.0000000000000078, (1.0000000000000002+0j)),\n",
       " (False, (1, 1), 1, 0): (1.0000000000000087, (1.0000000000000004+0j)),\n",
       " (False, (1, 1), 1, 1): (1.000000000000008, (1+0j)),\n",
       " (False, (1, 1), 1, 2): (1.0000000000000082, (1.0000000000000002+0j)),\n",
       " (False, (1, 1), 1, 3): (1.000000000000008, (1+0j)),\n",
       " (True, (1, 1), 0, 0): (1.0000000000000087, (1.0000000000000075+0j)),\n",
       " (True, (1, 1), 0, 1): (1.0000000000000089, (1.0000000000000075+0j)),\n",
       " (True, (1, 1), 0, 2): (1.0000000000000084, (1.0000000000000073+0j)),\n",
       " (True, (1, 1), 0, 3): (1.0000000000000084, (1.0000000000000078+0j)),\n",
       " (True, (1, 1), 1, 0): (1.0000000000000089, (1.0000000000000075+0j)),\n",
       " (True, (1, 1), 1, 1): (1.0000000000000082, (1.0000000000000073+0j)),\n",
       " (True, (1, 1), 1, 2): (1.0000000000000082, (1.000000000000007+0j)),\n",
       " (True, (1, 1), 1, 3): (1.0000000000000084, (1.0000000000000073+0j)),\n",
       " (True, (0, 1), 0, 0): (1.0000000000000073, (1.0000000000000067+0j)),\n",
       " (True, (0, 1), 0, 1): (1.0000000000000078, (1.0000000000000067+0j)),\n",
       " (True, (0, 1), 0, 2): (1.0000000000000073, (1.0000000000000064+0j)),\n",
       " (True, (0, 1), 0, 3): (1.0000000000000075, (1.0000000000000067+0j)),\n",
       " (True, (0, 1), 1, 0): (1.0000000000000073, (1.0000000000000064+0j)),\n",
       " (True, (0, 1), 1, 1): (1.000000000000008, (1.0000000000000064+0j)),\n",
       " (True, (0, 1), 1, 2): (1.0000000000000078, (1.0000000000000067+0j)),\n",
       " (True, (0, 1), 1, 3): (1.0000000000000073, (1.0000000000000062+0j)),\n",
       " (False, (0, 1), 0, 0): (1.0000000000000069, (1+0j)),\n",
       " (False, (0, 1), 0, 1): (1.0000000000000069, (1+0j)),\n",
       " (False, (0, 1), 0, 2): (1.0000000000000084, (1.0000000000000004+0j)),\n",
       " (False, (0, 1), 0, 3): (1.0000000000000082, (1+0j)),\n",
       " (False, (0, 1), 1, 0): (1.0000000000000073, (0.9999999999999996+0j)),\n",
       " (False, (0, 1), 1, 1): (1.0000000000000075, (0.9999999999999998+0j)),\n",
       " (False, (0, 1), 1, 2): (1.0000000000000082, (0.9999999999999993+0j)),\n",
       " (False, (0, 1), 1, 3): (1.0000000000000075, (1+0j)),\n",
       " (False, (1, 0), 0, 0): (1.0000000000000093, (1.000000000000002+0j)),\n",
       " (False, (1, 0), 0, 1): (1.0000000000000098, (1.0000000000000022+0j)),\n",
       " (False, (1, 0), 0, 2): (1.00000000000001, (1.0000000000000018+0j)),\n",
       " (False, (1, 0), 0, 3): (1.00000000000001, (1.0000000000000022+0j)),\n",
       " (False, (1, 0), 1, 0): (1.000000000000009, (1.000000000000002+0j)),\n",
       " (False, (1, 0), 1, 1): (1.00000000000001, (1.0000000000000018+0j)),\n",
       " (False, (1, 0), 1, 2): (1.0000000000000098, (1.0000000000000022+0j)),\n",
       " (False, (1, 0), 1, 3): (1.00000000000001, (1.0000000000000022+0j)),\n",
       " (True, (1, 0), 0, 0): (1.000000000000008, (1.0000000000000069+0j)),\n",
       " (True, (1, 0), 0, 1): (1.0000000000000084, (1.0000000000000078+0j)),\n",
       " (True, (1, 0), 0, 2): (1.000000000000008, (1.0000000000000069+0j)),\n",
       " (True, (1, 0), 0, 3): (1.0000000000000082, (1.000000000000007+0j)),\n",
       " (True, (1, 0), 1, 0): (1.0000000000000082, (1.000000000000007+0j)),\n",
       " (True, (1, 0), 1, 1): (1.0000000000000082, (1.000000000000007+0j)),\n",
       " (True, (1, 0), 1, 2): (1.0000000000000078, (1.0000000000000069+0j)),\n",
       " (True, (1, 0), 1, 3): (1.0000000000000082, (1.000000000000007+0j)),\n",
       " (True, (0, 0), 0, 0): (1.0000000000000004, (0.9999999999999992+0j)),\n",
       " (True, (0, 0), 0, 1): (1.0000000000000004, (0.9999999999999997+0j)),\n",
       " (True, (0, 0), 0, 2): (1.0000000000000007, (0.9999999999999999+0j)),\n",
       " (True, (0, 0), 0, 3): (1.0000000000000004, (0.9999999999999996+0j)),\n",
       " (True, (0, 0), 1, 0): (1.0000000000000004, (0.9999999999999992+0j)),\n",
       " (True, (0, 0), 1, 1): (1.0000000000000004, (0.9999999999999997+0j)),\n",
       " (True, (0, 0), 1, 2): (1.0000000000000007, (0.9999999999999999+0j)),\n",
       " (True, (0, 0), 1, 3): (1.0000000000000004, (0.9999999999999996+0j)),\n",
       " (False, (0, 0), 0, 0): (1.0000000000000335, (0.9999999999999982+0j)),\n",
       " (False, (0, 0), 0, 1): (1.0000000000000318, (0.999999999999998+0j)),\n",
       " (False, (0, 0), 0, 2): (1.0000000000000342, (0.9999999999999971+0j)),\n",
       " (False, (0, 0), 0, 3): (1.0000000000000306, (0.9999999999999971+0j)),\n",
       " (False, (0, 0), 1, 0): (1.0000000000000335, (0.9999999999999982+0j)),\n",
       " (False, (0, 0), 1, 1): (1.0000000000000318, (0.999999999999998+0j)),\n",
       " (False, (0, 0), 1, 2): (1.0000000000000342, (0.9999999999999971+0j)),\n",
       " (False, (0, 0), 1, 3): (1.0000000000000306, (0.9999999999999971+0j))}"
      ]
     },
     "execution_count": 93,
     "metadata": {},
     "output_type": "execute_result"
    }
   ],
   "source": [
    "{k: (v[0], v[-1]) for k, v in right_svd_solds.items()}"
   ]
  },
  {
   "cell_type": "code",
   "execution_count": 94,
   "id": "daaea4f4-8228-48b2-b34b-87f3496406f0",
   "metadata": {},
   "outputs": [],
   "source": [
    "right_svd_fp_checks = {\n",
    "    k: fp_operator_check(right_rdms[k], right_svd_solds[k][1])\n",
    "    for k in right_svd_solds\n",
    "}"
   ]
  },
  {
   "cell_type": "code",
   "execution_count": 95,
   "id": "57010396-af5e-474a-a7eb-05d3a4b34978",
   "metadata": {},
   "outputs": [
    {
     "data": {
      "text/plain": [
       "{(False, (1, 1), 0, 0): ((1.0000000000000002+0j), (1.0000000000000004+0j)),\n",
       " (False, (1, 1), 0, 1): ((-0.9999999999999996+0j), (1+0j)),\n",
       " (False, (1, 1), 0, 2): ((-1+0j), (1.0000000000000004+0j)),\n",
       " (False, (1, 1), 0, 3): ((1.0000000000000002+0j), (1.0000000000000002+0j)),\n",
       " (False, (1, 1), 1, 0): ((1.0000000000000004+0j), (1.0000000000000004+0j)),\n",
       " (False, (1, 1), 1, 1): ((-1+0j), (1+0j)),\n",
       " (False, (1, 1), 1, 2): ((-1+0j), (1.0000000000000002+0j)),\n",
       " (False, (1, 1), 1, 3): ((0.9999999999999998+0j), (1+0j)),\n",
       " (True, (1, 1), 0, 0): ((1.0000000000000073+0j), (1.0000000000000075+0j)),\n",
       " (True, (1, 1), 0, 1): ((-1.0000000000000075+0j), (1.0000000000000075+0j)),\n",
       " (True, (1, 1), 0, 2): ((-1.0000000000000073+0j), (1.0000000000000073+0j)),\n",
       " (True, (1, 1), 0, 3): ((1.0000000000000075+0j), (1.0000000000000078+0j)),\n",
       " (True, (1, 1), 1, 0): ((1.0000000000000073+0j), (1.0000000000000075+0j)),\n",
       " (True, (1, 1), 1, 1): ((-1.0000000000000073+0j), (1.0000000000000073+0j)),\n",
       " (True, (1, 1), 1, 2): ((-1.000000000000007+0j), (1.000000000000007+0j)),\n",
       " (True, (1, 1), 1, 3): ((1.0000000000000073+0j), (1.0000000000000073+0j)),\n",
       " (True, (0, 1), 0, 0): ((1.0000000000000064+0j), (1.0000000000000067+0j)),\n",
       " (True, (0, 1), 0, 1): ((1.0000000000000067+0j), (1.0000000000000067+0j)),\n",
       " (True, (0, 1), 0, 2): ((-1.0000000000000067+0j), (1.0000000000000064+0j)),\n",
       " (True, (0, 1), 0, 3): ((-1.0000000000000064+0j), (1.0000000000000067+0j)),\n",
       " (True, (0, 1), 1, 0): ((1.0000000000000064+0j), (1.0000000000000064+0j)),\n",
       " (True, (0, 1), 1, 1): ((1.0000000000000067+0j), (1.0000000000000064+0j)),\n",
       " (True, (0, 1), 1, 2): ((-1.0000000000000064+0j), (1.0000000000000067+0j)),\n",
       " (True, (0, 1), 1, 3): ((-1.0000000000000058+0j), (1.0000000000000062+0j)),\n",
       " (False, (0, 1), 0, 0): ((0.9999999999999999+0j), (1+0j)),\n",
       " (False, (0, 1), 0, 1): ((0.9999999999999999+0j), (1+0j)),\n",
       " (False, (0, 1), 0, 2): ((-1+0j), (1.0000000000000004+0j)),\n",
       " (False, (0, 1), 0, 3): ((-0.9999999999999999+0j), (1+0j)),\n",
       " (False, (0, 1), 1, 0): ((0.9999999999999996+0j), (0.9999999999999996+0j)),\n",
       " (False, (0, 1), 1, 1): ((0.9999999999999996+0j), (0.9999999999999998+0j)),\n",
       " (False, (0, 1), 1, 2): ((-0.9999999999999994+0j), (0.9999999999999993+0j)),\n",
       " (False, (0, 1), 1, 3): ((-0.9999999999999996+0j), (1+0j)),\n",
       " (False, (1, 0), 0, 0): ((1.0000000000000018+0j), (1.000000000000002+0j)),\n",
       " (False, (1, 0), 0, 1): ((-1.0000000000000024+0j), (1.0000000000000022+0j)),\n",
       " (False, (1, 0), 0, 2): ((1.0000000000000016+0j), (1.0000000000000018+0j)),\n",
       " (False, (1, 0), 0, 3): ((-1.000000000000002+0j), (1.0000000000000022+0j)),\n",
       " (False, (1, 0), 1, 0): ((1.0000000000000018+0j), (1.000000000000002+0j)),\n",
       " (False, (1, 0), 1, 1): ((-1.0000000000000018+0j), (1.0000000000000018+0j)),\n",
       " (False, (1, 0), 1, 2): ((1.0000000000000018+0j), (1.0000000000000022+0j)),\n",
       " (False, (1, 0), 1, 3): ((-1.0000000000000022+0j), (1.0000000000000022+0j)),\n",
       " (True, (1, 0), 0, 0): ((1.0000000000000067+0j), (1.0000000000000069+0j)),\n",
       " (True, (1, 0), 0, 1): ((-1.0000000000000075+0j), (1.0000000000000078+0j)),\n",
       " (True, (1, 0), 0, 2): ((1.0000000000000069+0j), (1.0000000000000069+0j)),\n",
       " (True, (1, 0), 0, 3): ((-1.000000000000007+0j), (1.000000000000007+0j)),\n",
       " (True, (1, 0), 1, 0): ((1.000000000000007+0j), (1.000000000000007+0j)),\n",
       " (True, (1, 0), 1, 1): ((-1.000000000000007+0j), (1.000000000000007+0j)),\n",
       " (True, (1, 0), 1, 2): ((1.0000000000000067+0j), (1.0000000000000069+0j)),\n",
       " (True, (1, 0), 1, 3): ((-1.000000000000007+0j), (1.000000000000007+0j)),\n",
       " (True, (0, 0), 0, 0): ((0.9999999999999992+0j), (0.9999999999999992+0j)),\n",
       " (True, (0, 0), 0, 1): ((0.9999999999999994+0j), (0.9999999999999997+0j)),\n",
       " (True, (0, 0), 0, 2): ((0.9999999999999999+0j), (0.9999999999999999+0j)),\n",
       " (True, (0, 0), 0, 3): ((0.9999999999999996+0j), (0.9999999999999996+0j)),\n",
       " (True, (0, 0), 1, 0): ((0.9999999999999992+0j), (0.9999999999999992+0j)),\n",
       " (True, (0, 0), 1, 1): ((0.9999999999999994+0j), (0.9999999999999997+0j)),\n",
       " (True, (0, 0), 1, 2): ((0.9999999999999999+0j), (0.9999999999999999+0j)),\n",
       " (True, (0, 0), 1, 3): ((0.9999999999999996+0j), (0.9999999999999996+0j)),\n",
       " (False, (0, 0), 0, 0): ((0.9999999999999982+0j), (0.9999999999999982+0j)),\n",
       " (False, (0, 0), 0, 1): ((0.9999999999999981+0j), (0.999999999999998+0j)),\n",
       " (False, (0, 0), 0, 2): ((0.9999999999999973+0j), (0.9999999999999971+0j)),\n",
       " (False, (0, 0), 0, 3): ((0.9999999999999974+0j), (0.9999999999999971+0j)),\n",
       " (False, (0, 0), 1, 0): ((0.9999999999999982+0j), (0.9999999999999982+0j)),\n",
       " (False, (0, 0), 1, 1): ((0.9999999999999981+0j), (0.999999999999998+0j)),\n",
       " (False, (0, 0), 1, 2): ((0.9999999999999973+0j), (0.9999999999999971+0j)),\n",
       " (False, (0, 0), 1, 3): ((0.9999999999999974+0j), (0.9999999999999971+0j))}"
      ]
     },
     "execution_count": 95,
     "metadata": {},
     "output_type": "execute_result"
    }
   ],
   "source": [
    "right_svd_fp_checks"
   ]
  },
  {
   "cell_type": "markdown",
   "id": "6a4623c0-1560-4cda-b14e-5d9edf84b2a3",
   "metadata": {},
   "source": [
    "Debug environments."
   ]
  },
  {
   "cell_type": "code",
   "execution_count": 96,
   "id": "e89cdc7f-954c-4a84-80e7-9a2c5b57a39d",
   "metadata": {},
   "outputs": [],
   "source": [
    "test_case = cases[(True, (0, 0), 1, 3)]"
   ]
  },
  {
   "cell_type": "code",
   "execution_count": 97,
   "id": "c1d7d354-64f2-43cf-8c35-26eeb6d1b16d",
   "metadata": {},
   "outputs": [],
   "source": [
    "block_width = 5\n",
    "num_one_sided_iterations = 3\n",
    "num_two_sided_iterations = 3\n",
    "num_layers = 1\n",
    "num_sites = 5"
   ]
  },
  {
   "cell_type": "code",
   "execution_count": 98,
   "id": "1cb4d836-05a3-4525-8dc0-916a71bd94d1",
   "metadata": {},
   "outputs": [],
   "source": [
    "test_opt = MPSBrickSolver(\n",
    "    test_case,\n",
    "    num_sites,\n",
    "    block_width,\n",
    "    num_layers,\n",
    "    num_one_sided_iterations,\n",
    "    num_two_sided_iterations,\n",
    "    max_virtual_bond_dim=MAX_VIRTUAL_BOND_DIM\n",
    ")"
   ]
  },
  {
   "cell_type": "code",
   "execution_count": 99,
   "id": "b8894c1b-5afb-4a4c-ae7b-f958bde0a76a",
   "metadata": {},
   "outputs": [
    {
     "data": {
      "text/plain": [
       "array([[-0.+0.j,  0.+0.j,  0.+0.j, -0.+0.j],\n",
       "       [ 0.+0.j,  0.+0.j, -0.+0.j,  0.+0.j],\n",
       "       [ 0.+0.j, -0.+0.j,  0.+0.j, -0.+0.j],\n",
       "       [-0.+0.j,  0.+0.j, -0.+0.j, -0.+0.j]])"
      ]
     },
     "execution_count": 99,
     "metadata": {},
     "output_type": "execute_result"
    }
   ],
   "source": [
    "np.round(test_opt.right_side_left_symmetry_environment.to_ndarray(), 2)"
   ]
  },
  {
   "cell_type": "code",
   "execution_count": 100,
   "id": "66ba6fd7-a8ec-4a85-a021-4546882da7af",
   "metadata": {},
   "outputs": [
    {
     "data": {
      "text/plain": [
       "array([2.50000000e-01, 3.79699847e-17, 2.05675553e-17, 1.85337541e-17,\n",
       "       1.27243097e-17, 1.02241480e-17, 8.15437879e-18, 5.55094259e-18,\n",
       "       4.83809810e-18, 2.34598487e-18, 1.95503610e-18, 1.01945860e-18,\n",
       "       5.71980066e-19, 2.85902674e-19, 1.69509079e-19, 2.19433754e-34])"
      ]
     },
     "execution_count": 100,
     "metadata": {},
     "output_type": "execute_result"
    }
   ],
   "source": [
    "test_opt.symmetry_case.symmetry_transfer_matrix_singular_vals"
   ]
  },
  {
   "cell_type": "code",
   "execution_count": 101,
   "id": "b0842f25-cc8b-47d8-9ef3-3d2aae684e4a",
   "metadata": {},
   "outputs": [
    {
     "data": {
      "text/plain": [
       "array([[-0.14+0.j,  0.27+0.j,  0.38+0.j, -0.08+0.j],\n",
       "       [ 0.27+0.j,  0.38+0.j, -0.16+0.j,  0.06+0.j],\n",
       "       [ 0.38+0.j, -0.16+0.j,  0.22+0.j, -0.17+0.j],\n",
       "       [-0.08+0.j,  0.06+0.j, -0.17+0.j, -0.46+0.j]])"
      ]
     },
     "execution_count": 101,
     "metadata": {},
     "output_type": "execute_result"
    }
   ],
   "source": [
    "np.round(test_opt.symmetry_case.right_projected_symmetry_state.to_ndarray(), 2)"
   ]
  },
  {
   "cell_type": "markdown",
   "id": "f927fe38-e2e4-473d-8617-c9df8095387e",
   "metadata": {},
   "source": [
    "Looks comparable... but maybe too small to be sure?"
   ]
  },
  {
   "cell_type": "code",
   "execution_count": 102,
   "id": "61220705-cd32-4137-841a-4fca1898612e",
   "metadata": {},
   "outputs": [],
   "source": [
    "test_opt.optimise()"
   ]
  },
  {
   "cell_type": "code",
   "execution_count": 103,
   "id": "0abf67e9-a68b-489d-be7f-afe8a7a2e324",
   "metadata": {},
   "outputs": [
    {
     "data": {
      "text/plain": [
       "array([[-0.07+0.j,  0.14+0.j,  0.19+0.j, -0.04+0.j],\n",
       "       [ 0.14+0.j,  0.19+0.j, -0.08+0.j,  0.03+0.j],\n",
       "       [ 0.19+0.j, -0.08+0.j,  0.11+0.j, -0.09+0.j],\n",
       "       [-0.04+0.j,  0.03+0.j, -0.09+0.j, -0.23+0.j]])"
      ]
     },
     "execution_count": 103,
     "metadata": {},
     "output_type": "execute_result"
    }
   ],
   "source": [
    "np.round(test_opt.right_side_left_symmetry_environment.to_ndarray(), 2)"
   ]
  },
  {
   "cell_type": "code",
   "execution_count": 104,
   "id": "909d8cee-0bb9-4245-b20c-5bb04a20b337",
   "metadata": {},
   "outputs": [
    {
     "data": {
      "text/plain": [
       "array([[-0.14+0.j,  0.27+0.j,  0.38+0.j, -0.08+0.j],\n",
       "       [ 0.27+0.j,  0.38+0.j, -0.16+0.j,  0.06+0.j],\n",
       "       [ 0.38+0.j, -0.16+0.j,  0.22+0.j, -0.17+0.j],\n",
       "       [-0.08+0.j,  0.06+0.j, -0.17+0.j, -0.46+0.j]])"
      ]
     },
     "execution_count": 104,
     "metadata": {},
     "output_type": "execute_result"
    }
   ],
   "source": [
    "np.round(test_opt.symmetry_case.right_projected_symmetry_state.to_ndarray(), 2)"
   ]
  },
  {
   "cell_type": "markdown",
   "id": "b69d2d3d-3a41-448a-9e60-83d1beee533a",
   "metadata": {},
   "source": [
    "Totally different. Step through and debug."
   ]
  },
  {
   "cell_type": "code",
   "execution_count": 105,
   "id": "6def1378-8f8e-4b7d-833c-9142bcdf54fd",
   "metadata": {},
   "outputs": [],
   "source": [
    "test_case = cases[(True, (0, 0), 1, 3)]"
   ]
  },
  {
   "cell_type": "code",
   "execution_count": 106,
   "id": "7bd8a8d1-16e6-4d8d-82c6-e333946d7d71",
   "metadata": {},
   "outputs": [],
   "source": [
    "block_width = 5\n",
    "num_one_sided_iterations = 3\n",
    "num_two_sided_iterations = 3\n",
    "num_layers = 1\n",
    "num_sites = 5"
   ]
  },
  {
   "cell_type": "code",
   "execution_count": 107,
   "id": "972283cb-e76d-4690-b411-f2880a8b2083",
   "metadata": {},
   "outputs": [],
   "source": [
    "test_opt = MPSBrickSolver(\n",
    "    test_case,\n",
    "    num_sites,\n",
    "    block_width,\n",
    "    num_layers,\n",
    "    num_one_sided_iterations,\n",
    "    num_two_sided_iterations,\n",
    "    max_virtual_bond_dim=MAX_VIRTUAL_BOND_DIM\n",
    ")"
   ]
  },
  {
   "cell_type": "code",
   "execution_count": 108,
   "id": "b39feb2d-da9e-46de-b86c-5b7400cbb648",
   "metadata": {},
   "outputs": [
    {
     "data": {
      "text/plain": [
       "array([[-0.+0.j,  0.+0.j,  0.+0.j, -0.+0.j],\n",
       "       [ 0.+0.j,  0.+0.j, -0.+0.j,  0.+0.j],\n",
       "       [ 0.+0.j, -0.+0.j,  0.+0.j, -0.+0.j],\n",
       "       [-0.+0.j,  0.+0.j, -0.+0.j, -0.+0.j]])"
      ]
     },
     "execution_count": 108,
     "metadata": {},
     "output_type": "execute_result"
    }
   ],
   "source": [
    "np.round(test_opt.right_side_left_symmetry_environment.to_ndarray(), 2)"
   ]
  },
  {
   "cell_type": "code",
   "execution_count": 109,
   "id": "d47eb348-eefd-4dc0-9dd7-975c2e5b2e25",
   "metadata": {},
   "outputs": [
    {
     "data": {
      "text/plain": [
       "array([2.50000000e-01, 3.79699847e-17, 2.05675553e-17, 1.85337541e-17,\n",
       "       1.27243097e-17, 1.02241480e-17, 8.15437879e-18, 5.55094259e-18,\n",
       "       4.83809810e-18, 2.34598487e-18, 1.95503610e-18, 1.01945860e-18,\n",
       "       5.71980066e-19, 2.85902674e-19, 1.69509079e-19, 2.19433754e-34])"
      ]
     },
     "execution_count": 109,
     "metadata": {},
     "output_type": "execute_result"
    }
   ],
   "source": [
    "test_opt.symmetry_case.symmetry_transfer_matrix_singular_vals"
   ]
  },
  {
   "cell_type": "code",
   "execution_count": 110,
   "id": "aac8fac7-6ff0-4068-bcc7-59f7341908be",
   "metadata": {},
   "outputs": [
    {
     "data": {
      "text/plain": [
       "array([[-0.14+0.j,  0.27+0.j,  0.38+0.j, -0.08+0.j],\n",
       "       [ 0.27+0.j,  0.38+0.j, -0.16+0.j,  0.06+0.j],\n",
       "       [ 0.38+0.j, -0.16+0.j,  0.22+0.j, -0.17+0.j],\n",
       "       [-0.08+0.j,  0.06+0.j, -0.17+0.j, -0.46+0.j]])"
      ]
     },
     "execution_count": 110,
     "metadata": {},
     "output_type": "execute_result"
    }
   ],
   "source": [
    "np.round(test_opt.symmetry_case.right_projected_symmetry_state.to_ndarray(), 2)"
   ]
  },
  {
   "cell_type": "code",
   "execution_count": 111,
   "id": "33102e51-9a9a-43bc-8307-3585a7af7f55",
   "metadata": {},
   "outputs": [],
   "source": [
    "test_opt.add_new_layer()"
   ]
  },
  {
   "cell_type": "code",
   "execution_count": 112,
   "id": "3638d99c-3644-42ce-bac6-97efb4d15f7c",
   "metadata": {},
   "outputs": [],
   "source": [
    "test_opt.optimise_left_layer()"
   ]
  },
  {
   "cell_type": "code",
   "execution_count": 113,
   "id": "046cec04-0803-43af-b4de-2d7162e52878",
   "metadata": {},
   "outputs": [],
   "source": [
    "test_opt.optimise_right_layer()"
   ]
  },
  {
   "cell_type": "code",
   "execution_count": 114,
   "id": "25a8910d-f2ea-4135-9731-9e38532ab3bd",
   "metadata": {},
   "outputs": [
    {
     "data": {
      "text/plain": [
       "[[[[0.9999986344805548], [0.9999986344805548], [0.9999986344805548]]]]"
      ]
     },
     "execution_count": 114,
     "metadata": {},
     "output_type": "execute_result"
    }
   ],
   "source": [
    "test_opt.right_expectations"
   ]
  },
  {
   "cell_type": "code",
   "execution_count": 115,
   "id": "69769fcf-1ca0-46e8-96dc-b587823bd22f",
   "metadata": {},
   "outputs": [
    {
     "data": {
      "text/plain": [
       "array([[-0.07+0.j,  0.14+0.j,  0.19+0.j, -0.04+0.j],\n",
       "       [ 0.14+0.j,  0.19+0.j, -0.08+0.j,  0.03+0.j],\n",
       "       [ 0.19+0.j, -0.08+0.j,  0.11+0.j, -0.09+0.j],\n",
       "       [-0.04+0.j,  0.03+0.j, -0.09+0.j, -0.23+0.j]])"
      ]
     },
     "execution_count": 115,
     "metadata": {},
     "output_type": "execute_result"
    }
   ],
   "source": [
    "np.round(test_opt.right_side_left_symmetry_environment.to_ndarray(), 2)"
   ]
  },
  {
   "cell_type": "code",
   "execution_count": 116,
   "id": "25552cbd-68db-48db-a1c2-2100243b6cf9",
   "metadata": {},
   "outputs": [
    {
     "data": {
      "text/plain": [
       "array([[-0.14+0.j,  0.27+0.j,  0.38+0.j, -0.08+0.j],\n",
       "       [ 0.27+0.j,  0.38+0.j, -0.16+0.j,  0.06+0.j],\n",
       "       [ 0.38+0.j, -0.16+0.j,  0.22+0.j, -0.17+0.j],\n",
       "       [-0.08+0.j,  0.06+0.j, -0.17+0.j, -0.46+0.j]])"
      ]
     },
     "execution_count": 116,
     "metadata": {},
     "output_type": "execute_result"
    }
   ],
   "source": [
    "np.round(test_opt.symmetry_case.right_projected_symmetry_state.to_ndarray(), 2)"
   ]
  },
  {
   "cell_type": "code",
   "execution_count": 117,
   "id": "67a0a6fc-4ae9-4b53-8728-50bf16b508f6",
   "metadata": {},
   "outputs": [
    {
     "data": {
      "text/plain": [
       "array([[0.49999932-0.j, 0.49999932+0.j, 0.49999932+0.j, 0.49999932-0.j],\n",
       "       [0.49999932+0.j, 0.49999932+0.j, 0.49999932-0.j, 0.49999932+0.j],\n",
       "       [0.49999932+0.j, 0.49999932-0.j, 0.49999932+0.j, 0.49999932-0.j],\n",
       "       [0.49999932-0.j, 0.49999932+0.j, 0.49999932-0.j, 0.49999932-0.j]])"
      ]
     },
     "execution_count": 117,
     "metadata": {},
     "output_type": "execute_result"
    }
   ],
   "source": [
    "test_opt.right_side_left_symmetry_environment.to_ndarray()/test_opt.symmetry_case.right_projected_symmetry_state.to_ndarray()"
   ]
  },
  {
   "cell_type": "markdown",
   "id": "db5c03fe-acfe-48dd-ba9c-8eb875d470de",
   "metadata": {},
   "source": [
    "So environments aren't the issue... check multiple layers."
   ]
  },
  {
   "cell_type": "code",
   "execution_count": 118,
   "id": "f2ee4339-cd49-4fd5-a1b1-b317141343ff",
   "metadata": {},
   "outputs": [],
   "source": [
    "test_case = cases[(True, (0, 0), 1, 3)]"
   ]
  },
  {
   "cell_type": "code",
   "execution_count": 119,
   "id": "ea3b5e3e-73ab-4420-85f8-ae30520e5ca4",
   "metadata": {},
   "outputs": [],
   "source": [
    "block_width = 5\n",
    "num_one_sided_iterations = 3\n",
    "num_two_sided_iterations = 3\n",
    "num_layers = 2\n",
    "num_sites = 5"
   ]
  },
  {
   "cell_type": "code",
   "execution_count": 120,
   "id": "1748dbd3-b4e7-45b8-96ae-4cd4d8b9cbe0",
   "metadata": {},
   "outputs": [],
   "source": [
    "test_opt = MPSBrickSolver(\n",
    "    test_case,\n",
    "    num_sites,\n",
    "    block_width,\n",
    "    num_layers,\n",
    "    num_one_sided_iterations,\n",
    "    num_two_sided_iterations,\n",
    "    max_virtual_bond_dim=MAX_VIRTUAL_BOND_DIM\n",
    ")"
   ]
  },
  {
   "cell_type": "code",
   "execution_count": 121,
   "id": "d0d189a2-60e0-448a-9fbc-d9ce271bda9b",
   "metadata": {},
   "outputs": [],
   "source": [
    "test_opt.optimise()"
   ]
  },
  {
   "cell_type": "code",
   "execution_count": 122,
   "id": "79965a10-f041-4c18-98d5-e8ae50c48a68",
   "metadata": {},
   "outputs": [],
   "source": [
    "exps = test_opt.flatten_exps()"
   ]
  },
  {
   "cell_type": "code",
   "execution_count": 123,
   "id": "f4f14bd9-8b49-4666-961a-8947f3a693ba",
   "metadata": {},
   "outputs": [
    {
     "data": {
      "text/plain": [
       "array([0., 0., 0., 0., 0., 0., 0., 0., 0., 1., 1., 1., 1., 1., 1., 1., 1.,\n",
       "       1., 1., 1., 1., 1., 1., 1., 1., 1., 1., 1., 1., 1., 1., 1., 1., 1.,\n",
       "       1., 1., 1., 1., 1., 1., 1., 1., 1., 1., 1., 1., 1., 1., 1., 1., 1.,\n",
       "       1., 1., 1., 1., 1., 1., 1., 1., 1., 1., 1., 1., 1., 1., 1., 1., 1.,\n",
       "       1., 1., 1., 1., 1., 1., 1., 1., 1., 1., 1., 1., 1., 1., 1., 1., 1.,\n",
       "       1., 1., 1., 1., 1., 1., 1., 1., 1., 1., 1., 1., 1., 1., 1., 1., 1.,\n",
       "       1., 1., 1., 1., 1., 1.])"
      ]
     },
     "execution_count": 123,
     "metadata": {},
     "output_type": "execute_result"
    }
   ],
   "source": [
    "np.round(exps, 2)"
   ]
  },
  {
   "cell_type": "markdown",
   "id": "2c18d1bb-0362-45f0-a981-be2ab8e76bb4",
   "metadata": {},
   "source": [
    "So that's also not an issue..."
   ]
  },
  {
   "cell_type": "code",
   "execution_count": 124,
   "id": "0aba80f1-2ae8-485c-bd77-1623a6c5fa6f",
   "metadata": {},
   "outputs": [],
   "source": [
    "def contraction_calculate_right_side_left_environment(optimizer):\n",
    "    opt = optimizer\n",
    "\n",
    "    base_bs = opt.bottom_right_mps_tensors\n",
    "\n",
    "    unitary = opt.right_unitaries[0][0].split_legs()\n",
    "\n",
    "    t = unitary\n",
    "    b=base_bs[0]\n",
    "\n",
    "    t = npc.tensordot(\n",
    "        t,\n",
    "        b,\n",
    "        [[f'p0*',], ['p',]]\n",
    "    )\n",
    "\n",
    "    t = npc.tensordot(\n",
    "        t,\n",
    "        b.conj(),\n",
    "        [[f'p0',], ['p*',]]\n",
    "    )\n",
    "\n",
    "    for i, b in enumerate(base_bs[1:], start=1):\n",
    "        t = npc.tensordot(\n",
    "            t,\n",
    "            b,\n",
    "            [[f'p{i}*', 'vR'], ['p', 'vL']]\n",
    "        )\n",
    "    \n",
    "        t = npc.tensordot(\n",
    "            t,\n",
    "            b.conj(),\n",
    "            [[f'p{i}', 'vR*'], ['p*', 'vL*']]\n",
    "        )\n",
    "    \n",
    "    t = npc.trace(t, 'vR', 'vR*')\n",
    "\n",
    "    out = npc.tensordot(\n",
    "        optimizer.symmetry_case.npc_symmetry_transfer_matrix,\n",
    "        t,\n",
    "        [['vR', 'vR*'], ['vL', 'vL*']]\n",
    "    )\n",
    "\n",
    "    return out"
   ]
  },
  {
   "cell_type": "code",
   "execution_count": 125,
   "id": "12db2423-2eba-4571-acdb-8990c991ddd7",
   "metadata": {},
   "outputs": [],
   "source": [
    "env = contraction_calculate_right_side_left_environment(test_opt)"
   ]
  },
  {
   "cell_type": "code",
   "execution_count": 126,
   "id": "cd8aa3c3-3048-4127-bc2b-7c9f05e378bd",
   "metadata": {},
   "outputs": [
    {
     "data": {
      "text/plain": [
       "array([[-0.00424838+0.j, -0.01686474+0.j, -0.09780925+0.j,\n",
       "         0.22941422+0.j],\n",
       "       [-0.01686474+0.j, -0.09241794+0.j,  0.21559566+0.j,\n",
       "         0.08481165+0.j],\n",
       "       [-0.09780925+0.j,  0.21559566+0.j,  0.06786302+0.j,\n",
       "         0.04297059+0.j],\n",
       "       [ 0.22941422+0.j,  0.08481165+0.j,  0.04297059+0.j,\n",
       "         0.0288033 +0.j]])"
      ]
     },
     "execution_count": 126,
     "metadata": {},
     "output_type": "execute_result"
    }
   ],
   "source": [
    "env.to_ndarray()"
   ]
  },
  {
   "cell_type": "code",
   "execution_count": 127,
   "id": "b901f04a-3529-4985-8d10-f3abb69327ae",
   "metadata": {},
   "outputs": [
    {
     "data": {
      "text/plain": [
       "[[[[0.9999986344805548], [0.9999986344805548], [0.9999986344805548]],\n",
       "  [[1.0000000000000004], [1.0000000000000004], [1.0000000000000004]],\n",
       "  [[1.0000000000000007], [1.0000000000000007], [1.0000000000000007]]],\n",
       " [[[1.000000000000001], [1.000000000000001], [1.000000000000001]],\n",
       "  [[1.0000000000000002], [1.0000000000000002], [1.0000000000000002]],\n",
       "  [[1.0000000000000007], [1.0000000000000007], [1.0000000000000007]]]]"
      ]
     },
     "execution_count": 127,
     "metadata": {},
     "output_type": "execute_result"
    }
   ],
   "source": [
    "test_opt.right_expectations"
   ]
  },
  {
   "cell_type": "code",
   "execution_count": 128,
   "id": "c3d77b63-7db6-4191-839b-dbd42c72ff29",
   "metadata": {},
   "outputs": [],
   "source": [
    "manual_exps = {\n",
    "    k: v.manual_expectation_value()\n",
    "    for k, v in optimizer_dict.items()\n",
    "}"
   ]
  },
  {
   "cell_type": "code",
   "execution_count": 129,
   "id": "89ac50ff-1528-47a1-90e4-8cac5aac0f57",
   "metadata": {},
   "outputs": [
    {
     "data": {
      "text/plain": [
       "{(False, (1, 1), 0, 0): (1.0000000000000004+0j),\n",
       " (False, (1, 1), 0, 1): (1.0000000000000009+0j),\n",
       " (False, (1, 1), 0, 2): (1.0000000000000016+0j),\n",
       " (False, (1, 1), 0, 3): (1.0000000000000009+0j),\n",
       " (False, (1, 1), 1, 0): (1.000000000000002+0j),\n",
       " (False, (1, 1), 1, 1): (1.0000000000000018+0j),\n",
       " (False, (1, 1), 1, 2): (1.0000000000000013+0j),\n",
       " (False, (1, 1), 1, 3): (1.0000000000000013+0j),\n",
       " (True, (1, 1), 0, 0): (1.0000000000000129+0j),\n",
       " (True, (1, 1), 0, 1): (1.0000000000000127+0j),\n",
       " (True, (1, 1), 0, 2): (1.0000000000000138+0j),\n",
       " (True, (1, 1), 0, 3): (1.0000000000000129+0j),\n",
       " (True, (1, 1), 1, 0): (1.0000000000000127+0j),\n",
       " (True, (1, 1), 1, 1): (1.0000000000000133+0j),\n",
       " (True, (1, 1), 1, 2): (1.0000000000000138+0j),\n",
       " (True, (1, 1), 1, 3): (1.0000000000000129+0j),\n",
       " (True, (0, 1), 0, 0): (1.0000000000000135+0j),\n",
       " (True, (0, 1), 0, 1): (1.0000000000000133+0j),\n",
       " (True, (0, 1), 0, 2): (1.0000000000000138+0j),\n",
       " (True, (0, 1), 0, 3): (1.0000000000000127+0j),\n",
       " (True, (0, 1), 1, 0): (1.0000000000000138+0j),\n",
       " (True, (0, 1), 1, 1): (1.0000000000000133+0j),\n",
       " (True, (0, 1), 1, 2): (1.0000000000000124+0j),\n",
       " (True, (0, 1), 1, 3): (1.0000000000000133+0j),\n",
       " (False, (0, 1), 0, 0): (0.9999999999999971+0j),\n",
       " (False, (0, 1), 0, 1): (0.9999999999999971+0j),\n",
       " (False, (0, 1), 0, 2): (0.9999999999999976+0j),\n",
       " (False, (0, 1), 0, 3): (0.9999999999999969+0j),\n",
       " (False, (0, 1), 1, 0): (0.9999999999999964+0j),\n",
       " (False, (0, 1), 1, 1): (0.9999999999999971+0j),\n",
       " (False, (0, 1), 1, 2): (0.999999999999997+0j),\n",
       " (False, (0, 1), 1, 3): (0.9999999999999971+0j),\n",
       " (False, (1, 0), 0, 0): (1.0000000000000009+0j),\n",
       " (False, (1, 0), 0, 1): (1.0000000000000013+0j),\n",
       " (False, (1, 0), 0, 2): (1.000000000000001+0j),\n",
       " (False, (1, 0), 0, 3): (1.0000000000000022+0j),\n",
       " (False, (1, 0), 1, 0): (1.0000000000000018+0j),\n",
       " (False, (1, 0), 1, 1): (1.0000000000000024+0j),\n",
       " (False, (1, 0), 1, 2): (1.0000000000000024+0j),\n",
       " (False, (1, 0), 1, 3): (1.0000000000000029+0j),\n",
       " (True, (1, 0), 0, 0): (1.0000000000000133+0j),\n",
       " (True, (1, 0), 0, 1): (1.0000000000000135+0j),\n",
       " (True, (1, 0), 0, 2): (1.0000000000000133+0j),\n",
       " (True, (1, 0), 0, 3): (1.0000000000000138+0j),\n",
       " (True, (1, 0), 1, 0): (1.0000000000000138+0j),\n",
       " (True, (1, 0), 1, 1): (1.0000000000000144+0j),\n",
       " (True, (1, 0), 1, 2): (1.0000000000000133+0j),\n",
       " (True, (1, 0), 1, 3): (1.0000000000000129+0j),\n",
       " (True, (0, 0), 0, 0): (0.999999999999999+0j),\n",
       " (True, (0, 0), 0, 1): (0.9999999999999994+0j),\n",
       " (True, (0, 0), 0, 2): (0.9999999999999994+0j),\n",
       " (True, (0, 0), 0, 3): (0.9999999999999998+0j),\n",
       " (True, (0, 0), 1, 0): (0.999999999999999+0j),\n",
       " (True, (0, 0), 1, 1): (0.9999999999999994+0j),\n",
       " (True, (0, 0), 1, 2): (0.9999999999999994+0j),\n",
       " (True, (0, 0), 1, 3): (0.9999999999999998+0j),\n",
       " (False, (0, 0), 0, 0): (0.9999999999999974+0j),\n",
       " (False, (0, 0), 0, 1): (0.9999999999999969+0j),\n",
       " (False, (0, 0), 0, 2): (0.9999999999999959+0j),\n",
       " (False, (0, 0), 0, 3): (0.9999999999999958+0j),\n",
       " (False, (0, 0), 1, 0): (0.9999999999999974+0j),\n",
       " (False, (0, 0), 1, 1): (0.9999999999999969+0j),\n",
       " (False, (0, 0), 1, 2): (0.9999999999999959+0j),\n",
       " (False, (0, 0), 1, 3): (0.9999999999999958+0j)}"
      ]
     },
     "execution_count": 129,
     "metadata": {},
     "output_type": "execute_result"
    }
   ],
   "source": [
    "manual_exps"
   ]
  },
  {
   "cell_type": "markdown",
   "id": "48b1dcae-ca95-4383-bc02-c7e276ff312d",
   "metadata": {},
   "source": [
    "Same errors."
   ]
  },
  {
   "cell_type": "code",
   "execution_count": 130,
   "id": "6c3f49f3-0077-4405-b502-bd65cae461a1",
   "metadata": {},
   "outputs": [],
   "source": [
    "test_case = cases[(False, (1, 1), 0, 1)]"
   ]
  },
  {
   "cell_type": "code",
   "execution_count": 131,
   "id": "03a96ec3-da88-43da-a322-564a19637c66",
   "metadata": {},
   "outputs": [],
   "source": [
    "block_width = 5\n",
    "num_one_sided_iterations = 3\n",
    "num_two_sided_iterations = 3\n",
    "num_layers = 1\n",
    "num_sites = 5"
   ]
  },
  {
   "cell_type": "code",
   "execution_count": 132,
   "id": "a0e935dd-b572-4c76-a21b-dbc262083c32",
   "metadata": {},
   "outputs": [],
   "source": [
    "test_opt = MPSBrickSolver(\n",
    "    test_case,\n",
    "    num_sites,\n",
    "    block_width,\n",
    "    num_layers,\n",
    "    num_one_sided_iterations,\n",
    "    num_two_sided_iterations,\n",
    "    max_virtual_bond_dim=MAX_VIRTUAL_BOND_DIM\n",
    ")"
   ]
  },
  {
   "cell_type": "markdown",
   "id": "38add9d0-0e0b-4a63-9443-e5d5f649d353",
   "metadata": {},
   "source": [
    "Manually test"
   ]
  },
  {
   "cell_type": "code",
   "execution_count": 133,
   "id": "6140f2e5-8214-447f-b011-374461ef2569",
   "metadata": {},
   "outputs": [],
   "source": [
    "test_opt.add_new_layer()"
   ]
  },
  {
   "cell_type": "code",
   "execution_count": 134,
   "id": "28e37bc7-d2b3-4a68-a361-0974a6d2c633",
   "metadata": {},
   "outputs": [],
   "source": [
    "test_opt.optimise_left_layer()"
   ]
  },
  {
   "cell_type": "code",
   "execution_count": 135,
   "id": "02802871-c713-4cae-a9fc-ee869c266039",
   "metadata": {},
   "outputs": [
    {
     "data": {
      "text/plain": [
       "[[[[3.3718442430111543e-14],\n",
       "   [3.3718442430111543e-14],\n",
       "   [3.3718442430111543e-14]]]]"
      ]
     },
     "execution_count": 135,
     "metadata": {},
     "output_type": "execute_result"
    }
   ],
   "source": [
    "test_opt.left_expectations"
   ]
  },
  {
   "cell_type": "code",
   "execution_count": 136,
   "id": "5b2a7691-a5be-409c-a12b-787f052a1fc9",
   "metadata": {},
   "outputs": [
    {
     "data": {
      "text/plain": [
       "(3.469446946573988e-18+0j)"
      ]
     },
     "execution_count": 136,
     "metadata": {},
     "output_type": "execute_result"
    }
   ],
   "source": [
    "test_opt.manual_expectation_value()"
   ]
  },
  {
   "cell_type": "code",
   "execution_count": 137,
   "id": "8f048e32-1a59-4f43-84c6-232e572c6dc1",
   "metadata": {},
   "outputs": [],
   "source": [
    "test_opt.optimise_right_layer()"
   ]
  },
  {
   "cell_type": "code",
   "execution_count": 138,
   "id": "37fa3fe0-a7c8-40d4-a0f6-e0dc36265c10",
   "metadata": {},
   "outputs": [
    {
     "data": {
      "text/plain": [
       "[[[[0.9999997940932678], [0.9999997940932678], [0.9999997940932678]]]]"
      ]
     },
     "execution_count": 138,
     "metadata": {},
     "output_type": "execute_result"
    }
   ],
   "source": [
    "test_opt.right_expectations"
   ]
  },
  {
   "cell_type": "code",
   "execution_count": 139,
   "id": "1bdfbce9-06a8-4c81-b6f5-8e14d7affa48",
   "metadata": {},
   "outputs": [
    {
     "data": {
      "text/plain": [
       "(3.469446946573988e-18+0j)"
      ]
     },
     "execution_count": 139,
     "metadata": {},
     "output_type": "execute_result"
    }
   ],
   "source": [
    "test_opt.manual_expectation_value()"
   ]
  },
  {
   "cell_type": "code",
   "execution_count": 140,
   "id": "f3dc7af1-6745-4416-93d0-5c8e17799e06",
   "metadata": {},
   "outputs": [
    {
     "data": {
      "text/plain": [
       "array([5.00000000e-01, 1.08870169e-17, 4.04910676e-18, 6.03379860e-33])"
      ]
     },
     "execution_count": 140,
     "metadata": {},
     "output_type": "execute_result"
    }
   ],
   "source": [
    "test_opt.symmetry_case.symmetry_transfer_matrix_singular_vals"
   ]
  },
  {
   "cell_type": "code",
   "execution_count": 141,
   "id": "656907aa-ef58-472b-9bbc-919598894ef2",
   "metadata": {},
   "outputs": [
    {
     "data": {
      "text/plain": [
       "[]"
      ]
     },
     "execution_count": 141,
     "metadata": {},
     "output_type": "execute_result"
    }
   ],
   "source": [
    "test_opt.right_unitaries"
   ]
  },
  {
   "cell_type": "code",
   "execution_count": 142,
   "id": "860decb4-26dd-42ed-a418-56ba9fa14b06",
   "metadata": {},
   "outputs": [],
   "source": [
    "test_opt.finish_current_layer()"
   ]
  },
  {
   "cell_type": "code",
   "execution_count": 143,
   "id": "9fcd6cc8-9bef-4387-b327-a268374277e8",
   "metadata": {},
   "outputs": [
    {
     "data": {
      "text/plain": [
       "[[<npc.Array shape=(256, 256) labels=['(p0.p1.p2.p3.p4)', '(p0*.p1*.p2*.p3*.p4*)']>]]"
      ]
     },
     "execution_count": 143,
     "metadata": {},
     "output_type": "execute_result"
    }
   ],
   "source": [
    "test_opt.right_unitaries"
   ]
  },
  {
   "cell_type": "code",
   "execution_count": 144,
   "id": "31e031f8-40db-4ed1-8732-6fd7c561bb55",
   "metadata": {},
   "outputs": [
    {
     "data": {
      "text/plain": [
       "(0.9999997940932606+0j)"
      ]
     },
     "execution_count": 144,
     "metadata": {},
     "output_type": "execute_result"
    }
   ],
   "source": [
    "test_opt.manual_expectation_value()"
   ]
  },
  {
   "cell_type": "code",
   "execution_count": 145,
   "id": "6e580580-47ae-4c7c-be51-964282bf5604",
   "metadata": {},
   "outputs": [],
   "source": [
    "block_width = 5\n",
    "num_one_sided_iterations = 3\n",
    "num_two_sided_iterations = 3\n",
    "num_layers = 1\n",
    "num_sites = 5"
   ]
  },
  {
   "cell_type": "code",
   "execution_count": 146,
   "id": "9f7cf64c-fd9f-435f-9fe1-2b311f1256c6",
   "metadata": {},
   "outputs": [],
   "source": [
    "test_opt = MPSBrickSolver(\n",
    "    test_case,\n",
    "    num_sites,\n",
    "    block_width,\n",
    "    num_layers,\n",
    "    num_one_sided_iterations,\n",
    "    num_two_sided_iterations,\n",
    "    max_virtual_bond_dim=MAX_VIRTUAL_BOND_DIM\n",
    ")"
   ]
  },
  {
   "cell_type": "code",
   "execution_count": 147,
   "id": "d0ea6aa7-b769-4e5f-b4c3-a779dc210a03",
   "metadata": {},
   "outputs": [],
   "source": [
    "test_opt.optimise()"
   ]
  },
  {
   "cell_type": "code",
   "execution_count": 148,
   "id": "fb96872e-48d2-401a-8e02-64638d59f0c0",
   "metadata": {},
   "outputs": [
    {
     "data": {
      "text/plain": [
       "[3.3718442430111543e-14,\n",
       " 3.3718442430111543e-14,\n",
       " 3.3718442430111543e-14,\n",
       " 3.3718442430111543e-14,\n",
       " 3.3718442430111543e-14,\n",
       " 3.3718442430111543e-14,\n",
       " 3.3718442430111543e-14,\n",
       " 3.3718442430111543e-14,\n",
       " 3.3718442430111543e-14,\n",
       " 0.9999997940932678,\n",
       " 0.9999997940932678,\n",
       " 0.9999997940932678,\n",
       " 0.9999997940932678,\n",
       " 0.9999997940932678,\n",
       " 0.9999997940932678,\n",
       " 0.9999997940932678,\n",
       " 0.9999997940932678,\n",
       " 0.9999997940932678,\n",
       " 1.0000000000000042,\n",
       " 1.0000000000000042,\n",
       " 1.0000000000000042,\n",
       " 1.0000000000000042,\n",
       " 1.0000000000000042,\n",
       " 1.0000000000000042,\n",
       " 1.0000000000000042,\n",
       " 1.0000000000000042,\n",
       " 1.0000000000000042,\n",
       " 1.0000000000000069,\n",
       " 1.0000000000000069,\n",
       " 1.0000000000000069,\n",
       " 1.0000000000000069,\n",
       " 1.0000000000000069,\n",
       " 1.0000000000000069,\n",
       " 1.0000000000000069,\n",
       " 1.0000000000000069,\n",
       " 1.0000000000000069,\n",
       " 1.000000000000004,\n",
       " 1.000000000000004,\n",
       " 1.000000000000004,\n",
       " 1.000000000000004,\n",
       " 1.000000000000004,\n",
       " 1.000000000000004,\n",
       " 1.000000000000004,\n",
       " 1.000000000000004,\n",
       " 1.000000000000004,\n",
       " 1.0000000000000073,\n",
       " 1.0000000000000073,\n",
       " 1.0000000000000073,\n",
       " 1.0000000000000073,\n",
       " 1.0000000000000073,\n",
       " 1.0000000000000073,\n",
       " 1.0000000000000073,\n",
       " 1.0000000000000073,\n",
       " 1.0000000000000073]"
      ]
     },
     "execution_count": 148,
     "metadata": {},
     "output_type": "execute_result"
    }
   ],
   "source": [
    "test_opt.flatten_exps()"
   ]
  },
  {
   "cell_type": "code",
   "execution_count": 149,
   "id": "145f854f-2161-4d4b-a62b-75aa7babf0bc",
   "metadata": {},
   "outputs": [
    {
     "data": {
      "text/plain": [
       "(1.0000000000000009+0j)"
      ]
     },
     "execution_count": 149,
     "metadata": {},
     "output_type": "execute_result"
    }
   ],
   "source": [
    "test_opt.manual_expectation_value()"
   ]
  },
  {
   "cell_type": "code",
   "execution_count": 150,
   "id": "954f610c-5f4f-4af4-aa8d-6f27d49ffbdb",
   "metadata": {},
   "outputs": [
    {
     "data": {
      "text/plain": [
       "[[<npc.Array shape=(256, 256) labels=['(p0.p1.p2.p3.p4)', '(p0*.p1*.p2*.p3*.p4*)']>]]"
      ]
     },
     "execution_count": 150,
     "metadata": {},
     "output_type": "execute_result"
    }
   ],
   "source": [
    "test_opt.right_unitaries"
   ]
  },
  {
   "cell_type": "code",
   "execution_count": 151,
   "id": "18f40a77-afa6-4cb3-a2da-24b346e6aca3",
   "metadata": {},
   "outputs": [],
   "source": [
    "block_width = 5\n",
    "num_one_sided_iterations = 3\n",
    "num_two_sided_iterations = 1\n",
    "num_layers = 1\n",
    "num_sites = 5"
   ]
  },
  {
   "cell_type": "code",
   "execution_count": 152,
   "id": "0562ed9f-4d14-4ae7-8227-87fd62af25a5",
   "metadata": {},
   "outputs": [],
   "source": [
    "test_opt = MPSBrickSolver(\n",
    "    test_case,\n",
    "    num_sites,\n",
    "    block_width,\n",
    "    num_layers,\n",
    "    num_one_sided_iterations,\n",
    "    num_two_sided_iterations,\n",
    "    max_virtual_bond_dim=MAX_VIRTUAL_BOND_DIM\n",
    ")"
   ]
  },
  {
   "cell_type": "code",
   "execution_count": 153,
   "id": "da30a370-d7a2-4b32-9bf4-223914102eec",
   "metadata": {},
   "outputs": [],
   "source": [
    "test_opt.optimise()"
   ]
  },
  {
   "cell_type": "code",
   "execution_count": 154,
   "id": "f22f8892-e6a9-41bd-957b-c2e047840274",
   "metadata": {},
   "outputs": [
    {
     "data": {
      "text/plain": [
       "[3.3718442430111543e-14,\n",
       " 3.3718442430111543e-14,\n",
       " 3.3718442430111543e-14,\n",
       " 3.3718442430111543e-14,\n",
       " 3.3718442430111543e-14,\n",
       " 3.3718442430111543e-14,\n",
       " 3.3718442430111543e-14,\n",
       " 3.3718442430111543e-14,\n",
       " 3.3718442430111543e-14,\n",
       " 0.9999997940932678,\n",
       " 0.9999997940932678,\n",
       " 0.9999997940932678,\n",
       " 0.9999997940932678,\n",
       " 0.9999997940932678,\n",
       " 0.9999997940932678,\n",
       " 0.9999997940932678,\n",
       " 0.9999997940932678,\n",
       " 0.9999997940932678]"
      ]
     },
     "execution_count": 154,
     "metadata": {},
     "output_type": "execute_result"
    }
   ],
   "source": [
    "test_opt.flatten_exps()"
   ]
  },
  {
   "cell_type": "code",
   "execution_count": 155,
   "id": "74b31f23-8dc9-4fa5-b7ff-f1aed55bd471",
   "metadata": {},
   "outputs": [
    {
     "data": {
      "text/plain": [
       "(0.9999997940932606+0j)"
      ]
     },
     "execution_count": 155,
     "metadata": {},
     "output_type": "execute_result"
    }
   ],
   "source": [
    "test_opt.manual_expectation_value()"
   ]
  },
  {
   "cell_type": "code",
   "execution_count": 156,
   "id": "fa3799a8-6333-43ed-a023-c6282d670b93",
   "metadata": {},
   "outputs": [],
   "source": [
    "block_width = 5\n",
    "num_one_sided_iterations = 1\n",
    "num_two_sided_iterations = 3\n",
    "num_layers = 1\n",
    "num_sites = 5"
   ]
  },
  {
   "cell_type": "code",
   "execution_count": 157,
   "id": "a1e8dfcc-1043-4701-bc38-657a232ae37e",
   "metadata": {},
   "outputs": [],
   "source": [
    "test_opt = MPSBrickSolver(\n",
    "    test_case,\n",
    "    num_sites,\n",
    "    block_width,\n",
    "    num_layers,\n",
    "    num_one_sided_iterations,\n",
    "    num_two_sided_iterations,\n",
    "    max_virtual_bond_dim=MAX_VIRTUAL_BOND_DIM\n",
    ")"
   ]
  },
  {
   "cell_type": "code",
   "execution_count": 158,
   "id": "6a326869-3f7f-4093-9975-fd544d1ecbac",
   "metadata": {},
   "outputs": [],
   "source": [
    "test_opt.optimise()"
   ]
  },
  {
   "cell_type": "code",
   "execution_count": 159,
   "id": "bb9a178e-fc78-4760-a105-bf5088549daf",
   "metadata": {},
   "outputs": [
    {
     "data": {
      "text/plain": [
       "[3.3718442430111543e-14,\n",
       " 0.9999997940932678,\n",
       " 1.0000000000000042,\n",
       " 1.0000000000000069,\n",
       " 1.000000000000004,\n",
       " 1.0000000000000073]"
      ]
     },
     "execution_count": 159,
     "metadata": {},
     "output_type": "execute_result"
    }
   ],
   "source": [
    "test_opt.flatten_exps()"
   ]
  },
  {
   "cell_type": "code",
   "execution_count": 160,
   "id": "a328005f-fa0c-4999-83ea-0f8cb8ccbe79",
   "metadata": {},
   "outputs": [
    {
     "data": {
      "text/plain": [
       "(1.0000000000000009+0j)"
      ]
     },
     "execution_count": 160,
     "metadata": {},
     "output_type": "execute_result"
    }
   ],
   "source": [
    "test_opt.manual_expectation_value()"
   ]
  }
 ],
 "metadata": {
  "kernelspec": {
   "display_name": "num_spt_venv_p11",
   "language": "python",
   "name": "num_spt_venv_p11"
  },
  "language_info": {
   "codemirror_mode": {
    "name": "ipython",
    "version": 3
   },
   "file_extension": ".py",
   "mimetype": "text/x-python",
   "name": "python",
   "nbconvert_exporter": "python",
   "pygments_lexer": "ipython3",
   "version": "3.11.9"
  }
 },
 "nbformat": 4,
 "nbformat_minor": 5
}
